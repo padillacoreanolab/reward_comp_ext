{
 "cells": [
  {
   "cell_type": "markdown",
   "metadata": {
    "cell_id": "c3a02adc9e884466bc8c79db549cc3d2",
    "deepnote_cell_type": "text-cell-h1",
    "formattedRanges": [
     {
      "fromCodePoint": 0,
      "marks": {
       "bold": true,
       "underline": true
      },
      "toCodePoint": 17,
      "type": "marks"
     }
    ]
   },
   "source": [
    "# All oscillation analysis"
   ]
  },
  {
   "cell_type": "markdown",
   "metadata": {
    "cell_id": "4546bee655b14a5dbf393161f1228e60",
    "deepnote_cell_type": "text-cell-p",
    "formattedRanges": []
   },
   "source": [
    "Brief 1-2 sentence description of notebook."
   ]
  },
  {
   "cell_type": "code",
   "execution_count": 1,
   "metadata": {
    "tags": []
   },
   "outputs": [],
   "source": [
    "import warnings\n",
    "warnings.filterwarnings('ignore')"
   ]
  },
  {
   "cell_type": "code",
   "execution_count": 2,
   "metadata": {
    "tags": []
   },
   "outputs": [],
   "source": [
    "import os\n",
    "import collections\n",
    "import itertools\n",
    "from collections import defaultdict\n",
    "from itertools import combinations"
   ]
  },
  {
   "cell_type": "code",
   "execution_count": 3,
   "metadata": {
    "tags": []
   },
   "outputs": [],
   "source": [
    "os.environ[\"SPECTRAL_CONNECTIVITY_ENABLE_GPU\"] = \"true\"\n",
    "import cupy as cp"
   ]
  },
  {
   "cell_type": "code",
   "execution_count": 4,
   "metadata": {
    "cell_id": "03b495cefa6a4798a44c7f2e4c6a3ea7",
    "deepnote_cell_type": "code",
    "deepnote_to_be_reexecuted": false,
    "execution_millis": 21,
    "execution_start": 1691424003626,
    "source_hash": null,
    "tags": []
   },
   "outputs": [],
   "source": [
    "# Imports of all used packages and libraries\n",
    "import numpy as np\n",
    "import pandas as pd\n",
    "from scipy import stats\n",
    "from scipy.stats import mannwhitneyu\n"
   ]
  },
  {
   "cell_type": "code",
   "execution_count": 5,
   "metadata": {
    "tags": []
   },
   "outputs": [],
   "source": [
    "import matplotlib\n",
    "import matplotlib.colors as mcolors\n",
    "import matplotlib.pyplot as plt\n",
    "import matplotlib.cm as cm\n",
    "import seaborn as sns\n",
    "import colorsys"
   ]
  },
  {
   "cell_type": "code",
   "execution_count": 6,
   "metadata": {
    "tags": []
   },
   "outputs": [],
   "source": [
    "from sklearn.metrics import confusion_matrix"
   ]
  },
  {
   "cell_type": "code",
   "execution_count": 7,
   "metadata": {
    "tags": []
   },
   "outputs": [],
   "source": [
    "from spectral_connectivity import Multitaper, Connectivity\n",
    "import spectral_connectivity"
   ]
  },
  {
   "cell_type": "code",
   "execution_count": 8,
   "metadata": {
    "tags": []
   },
   "outputs": [],
   "source": [
    "FONTSIZE = 20"
   ]
  },
  {
   "cell_type": "code",
   "execution_count": 9,
   "metadata": {
    "tags": []
   },
   "outputs": [],
   "source": [
    "font = {'weight' : 'medium',\n",
    "        'size'   : 20}\n",
    "\n",
    "matplotlib.rc('font', **font)"
   ]
  },
  {
   "cell_type": "markdown",
   "metadata": {},
   "source": [
    "# Functions"
   ]
  },
  {
   "cell_type": "code",
   "execution_count": 10,
   "metadata": {
    "tags": []
   },
   "outputs": [],
   "source": [
    "def generate_pairs(lst):\n",
    "    \"\"\"\n",
    "    Generates all unique pairs from a list.\n",
    "\n",
    "    Parameters:\n",
    "    - lst (list): The list to generate pairs from.\n",
    "\n",
    "    Returns:\n",
    "    - list: A list of tuples, each containing a unique pair from the input list.\n",
    "    \"\"\"\n",
    "    n = len(lst)\n",
    "    return [(lst[i], lst[j]) for i in range(n) for j in range(i+1, n)]"
   ]
  },
  {
   "cell_type": "code",
   "execution_count": 11,
   "metadata": {
    "tags": []
   },
   "outputs": [],
   "source": [
    "def update_array_by_mask(array, mask, value=np.nan):\n",
    "    \"\"\"\n",
    "    Update elements of an array based on a mask and replace them with a specified value.\n",
    "\n",
    "    Parameters:\n",
    "    - array (np.array): The input numpy array whose values are to be updated.\n",
    "    - mask (np.array): A boolean array with the same shape as `array`. Elements of `array` corresponding to True in the mask are replaced.\n",
    "    - value (scalar, optional): The value to assign to elements of `array` where `mask` is True. Defaults to np.nan.\n",
    "\n",
    "    Returns:\n",
    "    - np.array: A copy of the input array with updated values where the mask is True.\n",
    "\n",
    "    Example:\n",
    "    >>> array = np.array([1, 2, 3, 4])\n",
    "    >>> mask = np.array([False, True, False, True])\n",
    "    >>> update_array_by_mask(array, mask, value=0)\n",
    "    array([1, 0, 3, 0])\n",
    "    \"\"\"\n",
    "    result = array.copy()\n",
    "    result[mask] = value\n",
    "    return result"
   ]
  },
  {
   "cell_type": "code",
   "execution_count": 12,
   "metadata": {
    "tags": []
   },
   "outputs": [],
   "source": [
    "def nan_helper(y):\n",
    "    \"\"\"Helper to handle indices and logical indices of NaNs.\n",
    "\n",
    "    Input:\n",
    "        - y, 1d numpy array with possible NaNs\n",
    "    Output:\n",
    "        - nans, logical indices of NaNs\n",
    "        - index, a function, with signature indices= index(logical_indices),\n",
    "          to convert logical indices of NaNs to 'equivalent' indices\n",
    "    Example:\n",
    "        # linear interpolation of NaNs\n",
    "        nans, x= nan_helper(y)\n",
    "        y[nans]= np.interp(x(nans), x(~nans), y[~nans])\n",
    "    \"\"\"\n",
    "\n",
    "    return np.isnan(y), lambda z: z.nonzero()[0]"
   ]
  },
  {
   "cell_type": "code",
   "execution_count": 13,
   "metadata": {
    "tags": []
   },
   "outputs": [],
   "source": [
    "def interpolate_signal(signal):\n",
    "    \"\"\"\n",
    "    Interpolates missing values (NaNs) in a given signal array using linear interpolation.\n",
    "\n",
    "    The function finds NaN elements in the signal, computes linear interpolation based on\n",
    "    non-NaN values, and fills the NaNs with these interpolated values.\n",
    "\n",
    "    Parameters:\n",
    "        signal (numpy.ndarray): The input signal array containing NaN values that need to be interpolated.\n",
    "\n",
    "    Returns:\n",
    "        numpy.ndarray: The signal array with NaN values interpolated.\n",
    "    \"\"\"\n",
    "    if signal is None or not isinstance(signal, np.ndarray):\n",
    "        raise ValueError(\"Input must be a numpy ndarray.\")\n",
    "    \n",
    "    result = signal.copy()\n",
    "    nans, x = nan_helper(result)\n",
    "    result[nans] = np.interp(x(nans), x(~nans), result[~nans])\n",
    "    return result"
   ]
  },
  {
   "cell_type": "code",
   "execution_count": 14,
   "metadata": {
    "tags": []
   },
   "outputs": [],
   "source": [
    "def recursive_defaultdict():\n",
    "    return defaultdict(recursive_defaultdict)"
   ]
  },
  {
   "cell_type": "markdown",
   "metadata": {
    "cell_id": "d290bac2c17940bfbc0f9296beaf70e5",
    "deepnote_cell_type": "text-cell-h2",
    "formattedRanges": []
   },
   "source": [
    "## Inputs & Data"
   ]
  },
  {
   "cell_type": "markdown",
   "metadata": {
    "cell_id": "e528ce19c608425292151930d380f49f",
    "deepnote_cell_type": "text-cell-p",
    "formattedRanges": []
   },
   "source": [
    "Explanation of each input and where it comes from."
   ]
  },
  {
   "cell_type": "code",
   "execution_count": 15,
   "metadata": {
    "cell_id": "6cf83a5811054461a718a71673d09aab",
    "deepnote_cell_type": "code",
    "deepnote_to_be_reexecuted": false,
    "execution_millis": 373,
    "execution_start": 1691424003628,
    "source_hash": null,
    "tags": []
   },
   "outputs": [],
   "source": [
    "# Inputs and Required data loading\n",
    "# input varaible names are in all caps snake case\n",
    "# Whenever an input changes or is used for processing \n",
    "# the vairables are all lower in snake case\n",
    "OUTPUT_DIR = r\"./proc\" # where data is saved should always be shown in the inputs"
   ]
  },
  {
   "cell_type": "code",
   "execution_count": 16,
   "metadata": {
    "tags": []
   },
   "outputs": [],
   "source": [
    "TIME_HALFBANDWIDTH_PRODUCT = 2\n",
    "TIME_WINDOW_DURATION = 1\n",
    "TIME_WINDOW_STEP = 0.5\n",
    "RESAMPLE_RATE=1000"
   ]
  },
  {
   "cell_type": "code",
   "execution_count": 17,
   "metadata": {
    "tags": []
   },
   "outputs": [],
   "source": [
    "zscore_threshold = 4\n",
    "VOLTAGE_SCALING_VALUE = 0.195"
   ]
  },
  {
   "cell_type": "code",
   "execution_count": 18,
   "metadata": {
    "tags": []
   },
   "outputs": [],
   "source": [
    "BAND_TO_FREQ = {\"theta\": (4,12), \"gamma\": (30,51)}"
   ]
  },
  {
   "cell_type": "code",
   "execution_count": 19,
   "metadata": {
    "tags": []
   },
   "outputs": [],
   "source": [
    "LFP_TRACES_DF = pd.read_pickle(\"./proc/rce_pilot_2_01_lfp_traces_and_frames.pkl\")"
   ]
  },
  {
   "cell_type": "code",
   "execution_count": 20,
   "metadata": {
    "tags": []
   },
   "outputs": [
    {
     "data": {
      "text/plain": [
       "(61, 23)"
      ]
     },
     "execution_count": 20,
     "metadata": {},
     "output_type": "execute_result"
    }
   ],
   "source": [
    "LFP_TRACES_DF.shape"
   ]
  },
  {
   "cell_type": "markdown",
   "metadata": {},
   "source": [
    "## Preprocessing"
   ]
  },
  {
   "cell_type": "code",
   "execution_count": 21,
   "metadata": {
    "tags": []
   },
   "outputs": [],
   "source": [
    "original_trace_columns = [col for col in LFP_TRACES_DF.columns if \"trace\" in col]"
   ]
  },
  {
   "cell_type": "code",
   "execution_count": 22,
   "metadata": {
    "tags": []
   },
   "outputs": [
    {
     "data": {
      "text/plain": [
       "['mPFC_lfp_trace',\n",
       " 'MD_lfp_trace',\n",
       " 'LH_lfp_trace',\n",
       " 'BLA_lfp_trace',\n",
       " 'vHPC_lfp_trace']"
      ]
     },
     "execution_count": 22,
     "metadata": {},
     "output_type": "execute_result"
    }
   ],
   "source": [
    "original_trace_columns"
   ]
  },
  {
   "cell_type": "code",
   "execution_count": 23,
   "metadata": {
    "tags": []
   },
   "outputs": [
    {
     "name": "stdout",
     "output_type": "stream",
     "text": [
      "mPFC_lfp_trace\n",
      "MD_lfp_trace\n",
      "LH_lfp_trace\n",
      "BLA_lfp_trace\n",
      "vHPC_lfp_trace\n"
     ]
    }
   ],
   "source": [
    "for col in original_trace_columns:\n",
    "    print(col)\n",
    "    LFP_TRACES_DF[col] = LFP_TRACES_DF[col].apply(lambda x: x.astype(np.float32) * VOLTAGE_SCALING_VALUE)"
   ]
  },
  {
   "cell_type": "code",
   "execution_count": 24,
   "metadata": {
    "tags": []
   },
   "outputs": [
    {
     "data": {
      "text/html": [
       "<div>\n",
       "<style scoped>\n",
       "    .dataframe tbody tr th:only-of-type {\n",
       "        vertical-align: middle;\n",
       "    }\n",
       "\n",
       "    .dataframe tbody tr th {\n",
       "        vertical-align: top;\n",
       "    }\n",
       "\n",
       "    .dataframe thead th {\n",
       "        text-align: right;\n",
       "    }\n",
       "</style>\n",
       "<table border=\"1\" class=\"dataframe\">\n",
       "  <thead>\n",
       "    <tr style=\"text-align: right;\">\n",
       "      <th></th>\n",
       "      <th>cohort</th>\n",
       "      <th>session_dir</th>\n",
       "      <th>tone_frames</th>\n",
       "      <th>box_1_port_entry_frames</th>\n",
       "      <th>box_2_port_entry_frames</th>\n",
       "      <th>video_name</th>\n",
       "      <th>session_path</th>\n",
       "      <th>recording</th>\n",
       "      <th>current_subject</th>\n",
       "      <th>subject</th>\n",
       "      <th>...</th>\n",
       "      <th>video_timestamps</th>\n",
       "      <th>tone_timestamps</th>\n",
       "      <th>box_1_port_entry_timestamps</th>\n",
       "      <th>box_2_port_entry_timestamps</th>\n",
       "      <th>lfp_timestamps</th>\n",
       "      <th>mPFC_lfp_trace</th>\n",
       "      <th>MD_lfp_trace</th>\n",
       "      <th>LH_lfp_trace</th>\n",
       "      <th>BLA_lfp_trace</th>\n",
       "      <th>vHPC_lfp_trace</th>\n",
       "    </tr>\n",
       "  </thead>\n",
       "  <tbody>\n",
       "    <tr>\n",
       "      <th>0</th>\n",
       "      <td>2</td>\n",
       "      <td>20230612_101430_standard_comp_to_training_D1_s...</td>\n",
       "      <td>[[980, 1181], [3376, 3575], [5672, 5871], [746...</td>\n",
       "      <td>[[490, 514], [518, 558], [558, 637], [638, 640...</td>\n",
       "      <td>[[33137, 33147], [33665, 33666], [33668, 33669...</td>\n",
       "      <td>20230612_101430_standard_comp_to_training_D1_s...</td>\n",
       "      <td>/scratch/back_up/reward_competition_extention/...</td>\n",
       "      <td>20230612_101430_standard_comp_to_training_D1_s...</td>\n",
       "      <td>1.3</td>\n",
       "      <td>1.3</td>\n",
       "      <td>...</td>\n",
       "      <td>[-2, 1384, 2770, 4156, 4156, 5542, 6928, 6928,...</td>\n",
       "      <td>[[982229, 1182226], [3382227, 3582224], [56822...</td>\n",
       "      <td>[[491029, 515227], [519426, 558629], [559427, ...</td>\n",
       "      <td>[[33082200, 33090003], [33565003, 33567000], [...</td>\n",
       "      <td>[0, 20, 40, 60, 80, 100, 120, 140, 160, 180, 2...</td>\n",
       "      <td>[95.354996, 82.09499, 97.5, 132.405, 123.825, ...</td>\n",
       "      <td>[46.019997, 49.335, 75.27, 97.89, 77.61, 40.55...</td>\n",
       "      <td>[61.425, 66.104996, 81.899994, 90.479996, 71.5...</td>\n",
       "      <td>[54.6, 54.405, 73.32, 86.189995, 59.085, 19.89...</td>\n",
       "      <td>[55.574997, 79.365, 128.11499, 170.43, 189.344...</td>\n",
       "    </tr>\n",
       "    <tr>\n",
       "      <th>1</th>\n",
       "      <td>2</td>\n",
       "      <td>20230612_101430_standard_comp_to_training_D1_s...</td>\n",
       "      <td>[[980, 1180], [3376, 3575], [5672, 5871], [746...</td>\n",
       "      <td>[[490, 514], [518, 558], [558, 637], [638, 640...</td>\n",
       "      <td>[[33021, 33027], [33502, 33503], [33504, 33506...</td>\n",
       "      <td>20230612_101430_standard_comp_to_training_D1_s...</td>\n",
       "      <td>/scratch/back_up/reward_competition_extention/...</td>\n",
       "      <td>20230612_101430_standard_comp_to_training_D1_s...</td>\n",
       "      <td>1.3</td>\n",
       "      <td>1.3</td>\n",
       "      <td>...</td>\n",
       "      <td>[-2, 1384, 2770, 4156, 4156, 5542, 6928, 6928,...</td>\n",
       "      <td>[[982229, 1182226], [3382227, 3582224], [56822...</td>\n",
       "      <td>[[491029, 515227], [519426, 558629], [559427, ...</td>\n",
       "      <td>[[33082200, 33090003], [33565003, 33567000], [...</td>\n",
       "      <td>[0, 20, 40, 60, 80, 100, 120, 140, 160, 180, 2...</td>\n",
       "      <td>[95.354996, 82.09499, 97.5, 132.405, 123.825, ...</td>\n",
       "      <td>[46.019997, 49.335, 75.27, 97.89, 77.61, 40.55...</td>\n",
       "      <td>[61.425, 66.104996, 81.899994, 90.479996, 71.5...</td>\n",
       "      <td>[54.6, 54.405, 73.32, 86.189995, 59.085, 19.89...</td>\n",
       "      <td>[55.574997, 79.365, 128.11499, 170.43, 189.344...</td>\n",
       "    </tr>\n",
       "    <tr>\n",
       "      <th>2</th>\n",
       "      <td>2</td>\n",
       "      <td>20230612_101430_standard_comp_to_training_D1_s...</td>\n",
       "      <td>[[980, 1181], [3376, 3575], [5672, 5871], [746...</td>\n",
       "      <td>[[490, 514], [518, 558], [558, 637], [638, 640...</td>\n",
       "      <td>[[33137, 33147], [33665, 33666], [33668, 33669...</td>\n",
       "      <td>20230612_101430_standard_comp_to_training_D1_s...</td>\n",
       "      <td>/scratch/back_up/reward_competition_extention/...</td>\n",
       "      <td>20230612_101430_standard_comp_to_training_D1_s...</td>\n",
       "      <td>1.4</td>\n",
       "      <td>1.4</td>\n",
       "      <td>...</td>\n",
       "      <td>[-2, 1384, 2770, 4156, 4156, 5542, 6928, 6928,...</td>\n",
       "      <td>[[982229, 1182226], [3382227, 3582224], [56822...</td>\n",
       "      <td>[[491029, 515227], [519426, 558629], [559427, ...</td>\n",
       "      <td>[[33082200, 33090003], [33565003, 33567000], [...</td>\n",
       "      <td>[0, 20, 40, 60, 80, 100, 120, 140, 160, 180, 2...</td>\n",
       "      <td>[19.89, 29.445, 33.149998, 37.829998, 45.43499...</td>\n",
       "      <td>[29.445, 28.859999, 25.935, 23.205, 21.449999,...</td>\n",
       "      <td>[28.47, 25.349998, 22.035, 22.814999, 23.00999...</td>\n",
       "      <td>[68.64, 90.284996, 93.795, 71.564995, 90.09, 1...</td>\n",
       "      <td>[62.984997, 86.774994, 104.13, 86.96999, 75.65...</td>\n",
       "    </tr>\n",
       "    <tr>\n",
       "      <th>3</th>\n",
       "      <td>2</td>\n",
       "      <td>20230612_101430_standard_comp_to_training_D1_s...</td>\n",
       "      <td>[[980, 1180], [3376, 3575], [5672, 5871], [746...</td>\n",
       "      <td>[[490, 514], [518, 558], [558, 637], [638, 640...</td>\n",
       "      <td>[[33021, 33027], [33502, 33503], [33504, 33506...</td>\n",
       "      <td>20230612_101430_standard_comp_to_training_D1_s...</td>\n",
       "      <td>/scratch/back_up/reward_competition_extention/...</td>\n",
       "      <td>20230612_101430_standard_comp_to_training_D1_s...</td>\n",
       "      <td>1.4</td>\n",
       "      <td>1.4</td>\n",
       "      <td>...</td>\n",
       "      <td>[-2, 1384, 2770, 4156, 4156, 5542, 6928, 6928,...</td>\n",
       "      <td>[[982229, 1182226], [3382227, 3582224], [56822...</td>\n",
       "      <td>[[491029, 515227], [519426, 558629], [559427, ...</td>\n",
       "      <td>[[33082200, 33090003], [33565003, 33567000], [...</td>\n",
       "      <td>[0, 20, 40, 60, 80, 100, 120, 140, 160, 180, 2...</td>\n",
       "      <td>[19.89, 29.445, 33.149998, 37.829998, 45.43499...</td>\n",
       "      <td>[29.445, 28.859999, 25.935, 23.205, 21.449999,...</td>\n",
       "      <td>[28.47, 25.349998, 22.035, 22.814999, 23.00999...</td>\n",
       "      <td>[68.64, 90.284996, 93.795, 71.564995, 90.09, 1...</td>\n",
       "      <td>[62.984997, 86.774994, 104.13, 86.96999, 75.65...</td>\n",
       "    </tr>\n",
       "    <tr>\n",
       "      <th>4</th>\n",
       "      <td>2</td>\n",
       "      <td>20230612_112630_standard_comp_to_training_D1_s...</td>\n",
       "      <td>[[1125, 1324], [3519, 3720], [5815, 6014], [76...</td>\n",
       "      <td>[[192, 248], [389, 405], [916, 929], [929, 948...</td>\n",
       "      <td>[[33019, 33020], [33246, 33251], [33253, 33255...</td>\n",
       "      <td>20230612_112630_standard_comp_to_training_D1_s...</td>\n",
       "      <td>/scratch/back_up/reward_competition_extention/...</td>\n",
       "      <td>20230612_112630_standard_comp_to_training_D1_s...</td>\n",
       "      <td>1.1</td>\n",
       "      <td>1.1</td>\n",
       "      <td>...</td>\n",
       "      <td>[1384, 2444, 2769, 4155, 5541, 6708, 6927, 831...</td>\n",
       "      <td>[[1126742, 1326741], [3526740, 3726740], [5826...</td>\n",
       "      <td>[[192745, 249350], [389747, 407142], [917544, ...</td>\n",
       "      <td>[[33037711, 33038706], [33264908, 33270313], [...</td>\n",
       "      <td>[0, 20, 40, 60, 80, 100, 120, 140, 160, 180, 2...</td>\n",
       "      <td>[-4.875, 21.255, 75.465, 113.295, 100.619995, ...</td>\n",
       "      <td>[13.65, 36.66, 53.82, 33.735, 3.12, -15.794999...</td>\n",
       "      <td>[7.995, 32.76, 56.159996, 48.164997, 29.445, 3...</td>\n",
       "      <td>[4.4849997, 8.969999, 19.109999, 26.324999, 16...</td>\n",
       "      <td>[34.32, 50.504997, 44.265, -1.365, -31.784998,...</td>\n",
       "    </tr>\n",
       "  </tbody>\n",
       "</table>\n",
       "<p>5 rows × 23 columns</p>\n",
       "</div>"
      ],
      "text/plain": [
       "   cohort                                        session_dir  \\\n",
       "0       2  20230612_101430_standard_comp_to_training_D1_s...   \n",
       "1       2  20230612_101430_standard_comp_to_training_D1_s...   \n",
       "2       2  20230612_101430_standard_comp_to_training_D1_s...   \n",
       "3       2  20230612_101430_standard_comp_to_training_D1_s...   \n",
       "4       2  20230612_112630_standard_comp_to_training_D1_s...   \n",
       "\n",
       "                                         tone_frames  \\\n",
       "0  [[980, 1181], [3376, 3575], [5672, 5871], [746...   \n",
       "1  [[980, 1180], [3376, 3575], [5672, 5871], [746...   \n",
       "2  [[980, 1181], [3376, 3575], [5672, 5871], [746...   \n",
       "3  [[980, 1180], [3376, 3575], [5672, 5871], [746...   \n",
       "4  [[1125, 1324], [3519, 3720], [5815, 6014], [76...   \n",
       "\n",
       "                             box_1_port_entry_frames  \\\n",
       "0  [[490, 514], [518, 558], [558, 637], [638, 640...   \n",
       "1  [[490, 514], [518, 558], [558, 637], [638, 640...   \n",
       "2  [[490, 514], [518, 558], [558, 637], [638, 640...   \n",
       "3  [[490, 514], [518, 558], [558, 637], [638, 640...   \n",
       "4  [[192, 248], [389, 405], [916, 929], [929, 948...   \n",
       "\n",
       "                             box_2_port_entry_frames  \\\n",
       "0  [[33137, 33147], [33665, 33666], [33668, 33669...   \n",
       "1  [[33021, 33027], [33502, 33503], [33504, 33506...   \n",
       "2  [[33137, 33147], [33665, 33666], [33668, 33669...   \n",
       "3  [[33021, 33027], [33502, 33503], [33504, 33506...   \n",
       "4  [[33019, 33020], [33246, 33251], [33253, 33255...   \n",
       "\n",
       "                                          video_name  \\\n",
       "0  20230612_101430_standard_comp_to_training_D1_s...   \n",
       "1  20230612_101430_standard_comp_to_training_D1_s...   \n",
       "2  20230612_101430_standard_comp_to_training_D1_s...   \n",
       "3  20230612_101430_standard_comp_to_training_D1_s...   \n",
       "4  20230612_112630_standard_comp_to_training_D1_s...   \n",
       "\n",
       "                                        session_path  \\\n",
       "0  /scratch/back_up/reward_competition_extention/...   \n",
       "1  /scratch/back_up/reward_competition_extention/...   \n",
       "2  /scratch/back_up/reward_competition_extention/...   \n",
       "3  /scratch/back_up/reward_competition_extention/...   \n",
       "4  /scratch/back_up/reward_competition_extention/...   \n",
       "\n",
       "                                           recording current_subject subject  \\\n",
       "0  20230612_101430_standard_comp_to_training_D1_s...             1.3     1.3   \n",
       "1  20230612_101430_standard_comp_to_training_D1_s...             1.3     1.3   \n",
       "2  20230612_101430_standard_comp_to_training_D1_s...             1.4     1.4   \n",
       "3  20230612_101430_standard_comp_to_training_D1_s...             1.4     1.4   \n",
       "4  20230612_112630_standard_comp_to_training_D1_s...             1.1     1.1   \n",
       "\n",
       "   ...                                   video_timestamps  \\\n",
       "0  ...  [-2, 1384, 2770, 4156, 4156, 5542, 6928, 6928,...   \n",
       "1  ...  [-2, 1384, 2770, 4156, 4156, 5542, 6928, 6928,...   \n",
       "2  ...  [-2, 1384, 2770, 4156, 4156, 5542, 6928, 6928,...   \n",
       "3  ...  [-2, 1384, 2770, 4156, 4156, 5542, 6928, 6928,...   \n",
       "4  ...  [1384, 2444, 2769, 4155, 5541, 6708, 6927, 831...   \n",
       "\n",
       "                                     tone_timestamps  \\\n",
       "0  [[982229, 1182226], [3382227, 3582224], [56822...   \n",
       "1  [[982229, 1182226], [3382227, 3582224], [56822...   \n",
       "2  [[982229, 1182226], [3382227, 3582224], [56822...   \n",
       "3  [[982229, 1182226], [3382227, 3582224], [56822...   \n",
       "4  [[1126742, 1326741], [3526740, 3726740], [5826...   \n",
       "\n",
       "                         box_1_port_entry_timestamps  \\\n",
       "0  [[491029, 515227], [519426, 558629], [559427, ...   \n",
       "1  [[491029, 515227], [519426, 558629], [559427, ...   \n",
       "2  [[491029, 515227], [519426, 558629], [559427, ...   \n",
       "3  [[491029, 515227], [519426, 558629], [559427, ...   \n",
       "4  [[192745, 249350], [389747, 407142], [917544, ...   \n",
       "\n",
       "                         box_2_port_entry_timestamps  \\\n",
       "0  [[33082200, 33090003], [33565003, 33567000], [...   \n",
       "1  [[33082200, 33090003], [33565003, 33567000], [...   \n",
       "2  [[33082200, 33090003], [33565003, 33567000], [...   \n",
       "3  [[33082200, 33090003], [33565003, 33567000], [...   \n",
       "4  [[33037711, 33038706], [33264908, 33270313], [...   \n",
       "\n",
       "                                      lfp_timestamps  \\\n",
       "0  [0, 20, 40, 60, 80, 100, 120, 140, 160, 180, 2...   \n",
       "1  [0, 20, 40, 60, 80, 100, 120, 140, 160, 180, 2...   \n",
       "2  [0, 20, 40, 60, 80, 100, 120, 140, 160, 180, 2...   \n",
       "3  [0, 20, 40, 60, 80, 100, 120, 140, 160, 180, 2...   \n",
       "4  [0, 20, 40, 60, 80, 100, 120, 140, 160, 180, 2...   \n",
       "\n",
       "                                      mPFC_lfp_trace  \\\n",
       "0  [95.354996, 82.09499, 97.5, 132.405, 123.825, ...   \n",
       "1  [95.354996, 82.09499, 97.5, 132.405, 123.825, ...   \n",
       "2  [19.89, 29.445, 33.149998, 37.829998, 45.43499...   \n",
       "3  [19.89, 29.445, 33.149998, 37.829998, 45.43499...   \n",
       "4  [-4.875, 21.255, 75.465, 113.295, 100.619995, ...   \n",
       "\n",
       "                                        MD_lfp_trace  \\\n",
       "0  [46.019997, 49.335, 75.27, 97.89, 77.61, 40.55...   \n",
       "1  [46.019997, 49.335, 75.27, 97.89, 77.61, 40.55...   \n",
       "2  [29.445, 28.859999, 25.935, 23.205, 21.449999,...   \n",
       "3  [29.445, 28.859999, 25.935, 23.205, 21.449999,...   \n",
       "4  [13.65, 36.66, 53.82, 33.735, 3.12, -15.794999...   \n",
       "\n",
       "                                        LH_lfp_trace  \\\n",
       "0  [61.425, 66.104996, 81.899994, 90.479996, 71.5...   \n",
       "1  [61.425, 66.104996, 81.899994, 90.479996, 71.5...   \n",
       "2  [28.47, 25.349998, 22.035, 22.814999, 23.00999...   \n",
       "3  [28.47, 25.349998, 22.035, 22.814999, 23.00999...   \n",
       "4  [7.995, 32.76, 56.159996, 48.164997, 29.445, 3...   \n",
       "\n",
       "                                       BLA_lfp_trace  \\\n",
       "0  [54.6, 54.405, 73.32, 86.189995, 59.085, 19.89...   \n",
       "1  [54.6, 54.405, 73.32, 86.189995, 59.085, 19.89...   \n",
       "2  [68.64, 90.284996, 93.795, 71.564995, 90.09, 1...   \n",
       "3  [68.64, 90.284996, 93.795, 71.564995, 90.09, 1...   \n",
       "4  [4.4849997, 8.969999, 19.109999, 26.324999, 16...   \n",
       "\n",
       "                                      vHPC_lfp_trace  \n",
       "0  [55.574997, 79.365, 128.11499, 170.43, 189.344...  \n",
       "1  [55.574997, 79.365, 128.11499, 170.43, 189.344...  \n",
       "2  [62.984997, 86.774994, 104.13, 86.96999, 75.65...  \n",
       "3  [62.984997, 86.774994, 104.13, 86.96999, 75.65...  \n",
       "4  [34.32, 50.504997, 44.265, -1.365, -31.784998,...  \n",
       "\n",
       "[5 rows x 23 columns]"
      ]
     },
     "execution_count": 24,
     "metadata": {},
     "output_type": "execute_result"
    }
   ],
   "source": [
    "LFP_TRACES_DF.head()"
   ]
  },
  {
   "cell_type": "markdown",
   "metadata": {},
   "source": [
    "# Calculating modified zscore"
   ]
  },
  {
   "cell_type": "markdown",
   "metadata": {},
   "source": [
    "`0.6745(xi – x̃) / MAD`"
   ]
  },
  {
   "cell_type": "code",
   "execution_count": 25,
   "metadata": {},
   "outputs": [
    {
     "name": "stdout",
     "output_type": "stream",
     "text": [
      "mPFC_lfp_trace\n",
      "MD_lfp_trace\n",
      "LH_lfp_trace\n",
      "BLA_lfp_trace\n",
      "vHPC_lfp_trace\n"
     ]
    }
   ],
   "source": [
    "for col in original_trace_columns:\n",
    "    print(col)\n",
    "    brain_region = col.split(\"_\")[0]\n",
    "    updated_column = \"{}_lfp_MAD\".format(brain_region)\n",
    "    LFP_TRACES_DF[updated_column] = LFP_TRACES_DF[col].apply(lambda x: stats.median_abs_deviation(x))"
   ]
  },
  {
   "cell_type": "code",
   "execution_count": 26,
   "metadata": {},
   "outputs": [
    {
     "name": "stdout",
     "output_type": "stream",
     "text": [
      "mPFC_lfp_trace\n",
      "MD_lfp_trace\n",
      "LH_lfp_trace\n",
      "BLA_lfp_trace\n",
      "vHPC_lfp_trace\n"
     ]
    }
   ],
   "source": [
    "for col in original_trace_columns:\n",
    "    print(col)\n",
    "    brain_region = col.split(\"_\")[0]\n",
    "    updated_column = \"{}_lfp_modified_zscore\".format(brain_region)\n",
    "    MAD_column = \"{}_lfp_MAD\".format(brain_region)\n",
    "\n",
    "    LFP_TRACES_DF[updated_column] = LFP_TRACES_DF.apply(lambda x: 0.6745 * (x[col] - np.median(x[col])) / x[MAD_column], axis=1)"
   ]
  },
  {
   "cell_type": "code",
   "execution_count": 27,
   "metadata": {},
   "outputs": [
    {
     "data": {
      "text/plain": [
       "0     [0.23408099, 0.3398509, 0.5565925, 0.7447243, ...\n",
       "1     [0.23408099, 0.3398509, 0.5565925, 0.7447243, ...\n",
       "2     [0.93568933, 1.2858553, 1.5413042, 1.2887255, ...\n",
       "3     [0.93568933, 1.2858553, 1.5413042, 1.2887255, ...\n",
       "4     [0.27719176, 0.40500796, 0.35572946, -0.004619...\n",
       "                            ...                        \n",
       "56    [0.22029124, 0.7880522, 1.144606, 0.71083665, ...\n",
       "57    [0.20513144, 0.031291235, -0.13791321, -0.1900...\n",
       "58    [0.20513144, 0.031291235, -0.13791321, -0.1900...\n",
       "59    [-1.0707098, -1.1721206, -1.1367447, -0.910339...\n",
       "60    [-1.0707098, -1.1721206, -1.1367447, -0.910339...\n",
       "Name: vHPC_lfp_modified_zscore, Length: 61, dtype: object"
      ]
     },
     "execution_count": 27,
     "metadata": {},
     "output_type": "execute_result"
    }
   ],
   "source": [
    "LFP_TRACES_DF[updated_column]"
   ]
  },
  {
   "cell_type": "markdown",
   "metadata": {},
   "source": [
    "## calculating root mean sequare"
   ]
  },
  {
   "cell_type": "code",
   "execution_count": 28,
   "metadata": {
    "tags": []
   },
   "outputs": [
    {
     "name": "stdout",
     "output_type": "stream",
     "text": [
      "mPFC_lfp_trace\n",
      "MD_lfp_trace\n",
      "LH_lfp_trace\n",
      "BLA_lfp_trace\n",
      "vHPC_lfp_trace\n"
     ]
    }
   ],
   "source": [
    "for col in original_trace_columns:\n",
    "    print(col)\n",
    "    brain_region = col.split(\"_\")[0]\n",
    "    updated_column = \"{}_lfp_RMS\".format(brain_region)\n",
    "    LFP_TRACES_DF[updated_column] = LFP_TRACES_DF[col].apply(lambda x: (x / np.sqrt(np.mean(x**2))).astype(np.float32))\n"
   ]
  },
  {
   "cell_type": "code",
   "execution_count": 29,
   "metadata": {
    "tags": []
   },
   "outputs": [
    {
     "data": {
      "text/html": [
       "<div>\n",
       "<style scoped>\n",
       "    .dataframe tbody tr th:only-of-type {\n",
       "        vertical-align: middle;\n",
       "    }\n",
       "\n",
       "    .dataframe tbody tr th {\n",
       "        vertical-align: top;\n",
       "    }\n",
       "\n",
       "    .dataframe thead th {\n",
       "        text-align: right;\n",
       "    }\n",
       "</style>\n",
       "<table border=\"1\" class=\"dataframe\">\n",
       "  <thead>\n",
       "    <tr style=\"text-align: right;\">\n",
       "      <th></th>\n",
       "      <th>cohort</th>\n",
       "      <th>session_dir</th>\n",
       "      <th>tone_frames</th>\n",
       "      <th>box_1_port_entry_frames</th>\n",
       "      <th>box_2_port_entry_frames</th>\n",
       "      <th>video_name</th>\n",
       "      <th>session_path</th>\n",
       "      <th>recording</th>\n",
       "      <th>current_subject</th>\n",
       "      <th>subject</th>\n",
       "      <th>...</th>\n",
       "      <th>mPFC_lfp_modified_zscore</th>\n",
       "      <th>MD_lfp_modified_zscore</th>\n",
       "      <th>LH_lfp_modified_zscore</th>\n",
       "      <th>BLA_lfp_modified_zscore</th>\n",
       "      <th>vHPC_lfp_modified_zscore</th>\n",
       "      <th>mPFC_lfp_RMS</th>\n",
       "      <th>MD_lfp_RMS</th>\n",
       "      <th>LH_lfp_RMS</th>\n",
       "      <th>BLA_lfp_RMS</th>\n",
       "      <th>vHPC_lfp_RMS</th>\n",
       "    </tr>\n",
       "  </thead>\n",
       "  <tbody>\n",
       "    <tr>\n",
       "      <th>0</th>\n",
       "      <td>2</td>\n",
       "      <td>20230612_101430_standard_comp_to_training_D1_s...</td>\n",
       "      <td>[[980, 1181], [3376, 3575], [5672, 5871], [746...</td>\n",
       "      <td>[[490, 514], [518, 558], [558, 637], [638, 640...</td>\n",
       "      <td>[[33137, 33147], [33665, 33666], [33668, 33669...</td>\n",
       "      <td>20230612_101430_standard_comp_to_training_D1_s...</td>\n",
       "      <td>/scratch/back_up/reward_competition_extention/...</td>\n",
       "      <td>20230612_101430_standard_comp_to_training_D1_s...</td>\n",
       "      <td>1.3</td>\n",
       "      <td>1.3</td>\n",
       "      <td>...</td>\n",
       "      <td>[0.89292616, 0.77410233, 0.9121477, 1.2249339,...</td>\n",
       "      <td>[0.47153494, 0.50638753, 0.77905774, 1.0168754...</td>\n",
       "      <td>[0.94851553, 1.0207834, 1.2646874, 1.3971784, ...</td>\n",
       "      <td>[0.66973317, 0.6673498, 0.8985389, 1.0558428, ...</td>\n",
       "      <td>[0.23408099, 0.3398509, 0.5565925, 0.7447243, ...</td>\n",
       "      <td>[0.19477782, 0.16769215, 0.19915934, 0.2704583...</td>\n",
       "      <td>[0.13429306, 0.14396672, 0.21964882, 0.2856573...</td>\n",
       "      <td>[0.22216085, 0.23908737, 0.29621443, 0.3272464...</td>\n",
       "      <td>[0.15934613, 0.15877703, 0.2139791, 0.25153923...</td>\n",
       "      <td>[0.09461661, 0.13511916, 0.21811618, 0.2901576...</td>\n",
       "    </tr>\n",
       "    <tr>\n",
       "      <th>1</th>\n",
       "      <td>2</td>\n",
       "      <td>20230612_101430_standard_comp_to_training_D1_s...</td>\n",
       "      <td>[[980, 1180], [3376, 3575], [5672, 5871], [746...</td>\n",
       "      <td>[[490, 514], [518, 558], [558, 637], [638, 640...</td>\n",
       "      <td>[[33021, 33027], [33502, 33503], [33504, 33506...</td>\n",
       "      <td>20230612_101430_standard_comp_to_training_D1_s...</td>\n",
       "      <td>/scratch/back_up/reward_competition_extention/...</td>\n",
       "      <td>20230612_101430_standard_comp_to_training_D1_s...</td>\n",
       "      <td>1.3</td>\n",
       "      <td>1.3</td>\n",
       "      <td>...</td>\n",
       "      <td>[0.89292616, 0.77410233, 0.9121477, 1.2249339,...</td>\n",
       "      <td>[0.47153494, 0.50638753, 0.77905774, 1.0168754...</td>\n",
       "      <td>[0.94851553, 1.0207834, 1.2646874, 1.3971784, ...</td>\n",
       "      <td>[0.66973317, 0.6673498, 0.8985389, 1.0558428, ...</td>\n",
       "      <td>[0.23408099, 0.3398509, 0.5565925, 0.7447243, ...</td>\n",
       "      <td>[0.19477782, 0.16769215, 0.19915934, 0.2704583...</td>\n",
       "      <td>[0.13429306, 0.14396672, 0.21964882, 0.2856573...</td>\n",
       "      <td>[0.22216085, 0.23908737, 0.29621443, 0.3272464...</td>\n",
       "      <td>[0.15934613, 0.15877703, 0.2139791, 0.25153923...</td>\n",
       "      <td>[0.09461661, 0.13511916, 0.21811618, 0.2901576...</td>\n",
       "    </tr>\n",
       "    <tr>\n",
       "      <th>2</th>\n",
       "      <td>2</td>\n",
       "      <td>20230612_101430_standard_comp_to_training_D1_s...</td>\n",
       "      <td>[[980, 1181], [3376, 3575], [5672, 5871], [746...</td>\n",
       "      <td>[[490, 514], [518, 558], [558, 637], [638, 640...</td>\n",
       "      <td>[[33137, 33147], [33665, 33666], [33668, 33669...</td>\n",
       "      <td>20230612_101430_standard_comp_to_training_D1_s...</td>\n",
       "      <td>/scratch/back_up/reward_competition_extention/...</td>\n",
       "      <td>20230612_101430_standard_comp_to_training_D1_s...</td>\n",
       "      <td>1.4</td>\n",
       "      <td>1.4</td>\n",
       "      <td>...</td>\n",
       "      <td>[0.2918245, 0.42672452, 0.4790326, 0.5451061, ...</td>\n",
       "      <td>[0.8516992, 0.83455086, 0.7488094, 0.66878396,...</td>\n",
       "      <td>[0.84312505, 0.75009054, 0.6512414, 0.6745, 0....</td>\n",
       "      <td>[0.86968505, 1.1439322, 1.1884048, 0.9067454, ...</td>\n",
       "      <td>[0.93568933, 1.2858553, 1.5413042, 1.2887255, ...</td>\n",
       "      <td>[0.25848255, 0.38265556, 0.43080425, 0.4916236...</td>\n",
       "      <td>[0.6991664, 0.6852757, 0.6158221, 0.5509987, 0...</td>\n",
       "      <td>[0.6525567, 0.5810436, 0.50506103, 0.52293926,...</td>\n",
       "      <td>[0.83570427, 1.099236, 1.1419709, 0.8713166, 1...</td>\n",
       "      <td>[0.88643956, 1.2212558, 1.4655069, 1.2240001, ...</td>\n",
       "    </tr>\n",
       "    <tr>\n",
       "      <th>3</th>\n",
       "      <td>2</td>\n",
       "      <td>20230612_101430_standard_comp_to_training_D1_s...</td>\n",
       "      <td>[[980, 1180], [3376, 3575], [5672, 5871], [746...</td>\n",
       "      <td>[[490, 514], [518, 558], [558, 637], [638, 640...</td>\n",
       "      <td>[[33021, 33027], [33502, 33503], [33504, 33506...</td>\n",
       "      <td>20230612_101430_standard_comp_to_training_D1_s...</td>\n",
       "      <td>/scratch/back_up/reward_competition_extention/...</td>\n",
       "      <td>20230612_101430_standard_comp_to_training_D1_s...</td>\n",
       "      <td>1.4</td>\n",
       "      <td>1.4</td>\n",
       "      <td>...</td>\n",
       "      <td>[0.2918245, 0.42672452, 0.4790326, 0.5451061, ...</td>\n",
       "      <td>[0.8516992, 0.83455086, 0.7488094, 0.66878396,...</td>\n",
       "      <td>[0.84312505, 0.75009054, 0.6512414, 0.6745, 0....</td>\n",
       "      <td>[0.86968505, 1.1439322, 1.1884048, 0.9067454, ...</td>\n",
       "      <td>[0.93568933, 1.2858553, 1.5413042, 1.2887255, ...</td>\n",
       "      <td>[0.25848255, 0.38265556, 0.43080425, 0.4916236...</td>\n",
       "      <td>[0.6991664, 0.6852757, 0.6158221, 0.5509987, 0...</td>\n",
       "      <td>[0.6525567, 0.5810436, 0.50506103, 0.52293926,...</td>\n",
       "      <td>[0.83570427, 1.099236, 1.1419709, 0.8713166, 1...</td>\n",
       "      <td>[0.88643956, 1.2212558, 1.4655069, 1.2240001, ...</td>\n",
       "    </tr>\n",
       "    <tr>\n",
       "      <th>4</th>\n",
       "      <td>2</td>\n",
       "      <td>20230612_112630_standard_comp_to_training_D1_s...</td>\n",
       "      <td>[[1125, 1324], [3519, 3720], [5815, 6014], [76...</td>\n",
       "      <td>[[192, 248], [389, 405], [916, 929], [929, 948...</td>\n",
       "      <td>[[33019, 33020], [33246, 33251], [33253, 33255...</td>\n",
       "      <td>20230612_112630_standard_comp_to_training_D1_s...</td>\n",
       "      <td>/scratch/back_up/reward_competition_extention/...</td>\n",
       "      <td>20230612_112630_standard_comp_to_training_D1_s...</td>\n",
       "      <td>1.1</td>\n",
       "      <td>1.1</td>\n",
       "      <td>...</td>\n",
       "      <td>[-0.053806268, 0.20369515, 0.7379145, 1.110715...</td>\n",
       "      <td>[0.08298822, 0.2913416, 0.4467238, 0.264856, -...</td>\n",
       "      <td>[0.050486527, 0.3069581, 0.5492934, 0.4664955,...</td>\n",
       "      <td>[0.029938638, 0.07044386, 0.16202088, 0.227181...</td>\n",
       "      <td>[0.27719176, 0.40500796, 0.35572946, -0.004619...</td>\n",
       "      <td>[-0.048132405, 0.20985727, 0.7450896, 1.118597...</td>\n",
       "      <td>[0.12576193, 0.3377606, 0.4958613, 0.3108116, ...</td>\n",
       "      <td>[0.0827952, 0.3392584, 0.5815858, 0.49879062, ...</td>\n",
       "      <td>[0.040043943, 0.080087885, 0.17062202, 0.23504...</td>\n",
       "      <td>[0.26165336, 0.3850467, 0.33747336, -0.0104066...</td>\n",
       "    </tr>\n",
       "  </tbody>\n",
       "</table>\n",
       "<p>5 rows × 38 columns</p>\n",
       "</div>"
      ],
      "text/plain": [
       "   cohort                                        session_dir  \\\n",
       "0       2  20230612_101430_standard_comp_to_training_D1_s...   \n",
       "1       2  20230612_101430_standard_comp_to_training_D1_s...   \n",
       "2       2  20230612_101430_standard_comp_to_training_D1_s...   \n",
       "3       2  20230612_101430_standard_comp_to_training_D1_s...   \n",
       "4       2  20230612_112630_standard_comp_to_training_D1_s...   \n",
       "\n",
       "                                         tone_frames  \\\n",
       "0  [[980, 1181], [3376, 3575], [5672, 5871], [746...   \n",
       "1  [[980, 1180], [3376, 3575], [5672, 5871], [746...   \n",
       "2  [[980, 1181], [3376, 3575], [5672, 5871], [746...   \n",
       "3  [[980, 1180], [3376, 3575], [5672, 5871], [746...   \n",
       "4  [[1125, 1324], [3519, 3720], [5815, 6014], [76...   \n",
       "\n",
       "                             box_1_port_entry_frames  \\\n",
       "0  [[490, 514], [518, 558], [558, 637], [638, 640...   \n",
       "1  [[490, 514], [518, 558], [558, 637], [638, 640...   \n",
       "2  [[490, 514], [518, 558], [558, 637], [638, 640...   \n",
       "3  [[490, 514], [518, 558], [558, 637], [638, 640...   \n",
       "4  [[192, 248], [389, 405], [916, 929], [929, 948...   \n",
       "\n",
       "                             box_2_port_entry_frames  \\\n",
       "0  [[33137, 33147], [33665, 33666], [33668, 33669...   \n",
       "1  [[33021, 33027], [33502, 33503], [33504, 33506...   \n",
       "2  [[33137, 33147], [33665, 33666], [33668, 33669...   \n",
       "3  [[33021, 33027], [33502, 33503], [33504, 33506...   \n",
       "4  [[33019, 33020], [33246, 33251], [33253, 33255...   \n",
       "\n",
       "                                          video_name  \\\n",
       "0  20230612_101430_standard_comp_to_training_D1_s...   \n",
       "1  20230612_101430_standard_comp_to_training_D1_s...   \n",
       "2  20230612_101430_standard_comp_to_training_D1_s...   \n",
       "3  20230612_101430_standard_comp_to_training_D1_s...   \n",
       "4  20230612_112630_standard_comp_to_training_D1_s...   \n",
       "\n",
       "                                        session_path  \\\n",
       "0  /scratch/back_up/reward_competition_extention/...   \n",
       "1  /scratch/back_up/reward_competition_extention/...   \n",
       "2  /scratch/back_up/reward_competition_extention/...   \n",
       "3  /scratch/back_up/reward_competition_extention/...   \n",
       "4  /scratch/back_up/reward_competition_extention/...   \n",
       "\n",
       "                                           recording current_subject subject  \\\n",
       "0  20230612_101430_standard_comp_to_training_D1_s...             1.3     1.3   \n",
       "1  20230612_101430_standard_comp_to_training_D1_s...             1.3     1.3   \n",
       "2  20230612_101430_standard_comp_to_training_D1_s...             1.4     1.4   \n",
       "3  20230612_101430_standard_comp_to_training_D1_s...             1.4     1.4   \n",
       "4  20230612_112630_standard_comp_to_training_D1_s...             1.1     1.1   \n",
       "\n",
       "   ...                           mPFC_lfp_modified_zscore  \\\n",
       "0  ...  [0.89292616, 0.77410233, 0.9121477, 1.2249339,...   \n",
       "1  ...  [0.89292616, 0.77410233, 0.9121477, 1.2249339,...   \n",
       "2  ...  [0.2918245, 0.42672452, 0.4790326, 0.5451061, ...   \n",
       "3  ...  [0.2918245, 0.42672452, 0.4790326, 0.5451061, ...   \n",
       "4  ...  [-0.053806268, 0.20369515, 0.7379145, 1.110715...   \n",
       "\n",
       "                              MD_lfp_modified_zscore  \\\n",
       "0  [0.47153494, 0.50638753, 0.77905774, 1.0168754...   \n",
       "1  [0.47153494, 0.50638753, 0.77905774, 1.0168754...   \n",
       "2  [0.8516992, 0.83455086, 0.7488094, 0.66878396,...   \n",
       "3  [0.8516992, 0.83455086, 0.7488094, 0.66878396,...   \n",
       "4  [0.08298822, 0.2913416, 0.4467238, 0.264856, -...   \n",
       "\n",
       "                              LH_lfp_modified_zscore  \\\n",
       "0  [0.94851553, 1.0207834, 1.2646874, 1.3971784, ...   \n",
       "1  [0.94851553, 1.0207834, 1.2646874, 1.3971784, ...   \n",
       "2  [0.84312505, 0.75009054, 0.6512414, 0.6745, 0....   \n",
       "3  [0.84312505, 0.75009054, 0.6512414, 0.6745, 0....   \n",
       "4  [0.050486527, 0.3069581, 0.5492934, 0.4664955,...   \n",
       "\n",
       "                             BLA_lfp_modified_zscore  \\\n",
       "0  [0.66973317, 0.6673498, 0.8985389, 1.0558428, ...   \n",
       "1  [0.66973317, 0.6673498, 0.8985389, 1.0558428, ...   \n",
       "2  [0.86968505, 1.1439322, 1.1884048, 0.9067454, ...   \n",
       "3  [0.86968505, 1.1439322, 1.1884048, 0.9067454, ...   \n",
       "4  [0.029938638, 0.07044386, 0.16202088, 0.227181...   \n",
       "\n",
       "                            vHPC_lfp_modified_zscore  \\\n",
       "0  [0.23408099, 0.3398509, 0.5565925, 0.7447243, ...   \n",
       "1  [0.23408099, 0.3398509, 0.5565925, 0.7447243, ...   \n",
       "2  [0.93568933, 1.2858553, 1.5413042, 1.2887255, ...   \n",
       "3  [0.93568933, 1.2858553, 1.5413042, 1.2887255, ...   \n",
       "4  [0.27719176, 0.40500796, 0.35572946, -0.004619...   \n",
       "\n",
       "                                        mPFC_lfp_RMS  \\\n",
       "0  [0.19477782, 0.16769215, 0.19915934, 0.2704583...   \n",
       "1  [0.19477782, 0.16769215, 0.19915934, 0.2704583...   \n",
       "2  [0.25848255, 0.38265556, 0.43080425, 0.4916236...   \n",
       "3  [0.25848255, 0.38265556, 0.43080425, 0.4916236...   \n",
       "4  [-0.048132405, 0.20985727, 0.7450896, 1.118597...   \n",
       "\n",
       "                                          MD_lfp_RMS  \\\n",
       "0  [0.13429306, 0.14396672, 0.21964882, 0.2856573...   \n",
       "1  [0.13429306, 0.14396672, 0.21964882, 0.2856573...   \n",
       "2  [0.6991664, 0.6852757, 0.6158221, 0.5509987, 0...   \n",
       "3  [0.6991664, 0.6852757, 0.6158221, 0.5509987, 0...   \n",
       "4  [0.12576193, 0.3377606, 0.4958613, 0.3108116, ...   \n",
       "\n",
       "                                          LH_lfp_RMS  \\\n",
       "0  [0.22216085, 0.23908737, 0.29621443, 0.3272464...   \n",
       "1  [0.22216085, 0.23908737, 0.29621443, 0.3272464...   \n",
       "2  [0.6525567, 0.5810436, 0.50506103, 0.52293926,...   \n",
       "3  [0.6525567, 0.5810436, 0.50506103, 0.52293926,...   \n",
       "4  [0.0827952, 0.3392584, 0.5815858, 0.49879062, ...   \n",
       "\n",
       "                                         BLA_lfp_RMS  \\\n",
       "0  [0.15934613, 0.15877703, 0.2139791, 0.25153923...   \n",
       "1  [0.15934613, 0.15877703, 0.2139791, 0.25153923...   \n",
       "2  [0.83570427, 1.099236, 1.1419709, 0.8713166, 1...   \n",
       "3  [0.83570427, 1.099236, 1.1419709, 0.8713166, 1...   \n",
       "4  [0.040043943, 0.080087885, 0.17062202, 0.23504...   \n",
       "\n",
       "                                        vHPC_lfp_RMS  \n",
       "0  [0.09461661, 0.13511916, 0.21811618, 0.2901576...  \n",
       "1  [0.09461661, 0.13511916, 0.21811618, 0.2901576...  \n",
       "2  [0.88643956, 1.2212558, 1.4655069, 1.2240001, ...  \n",
       "3  [0.88643956, 1.2212558, 1.4655069, 1.2240001, ...  \n",
       "4  [0.26165336, 0.3850467, 0.33747336, -0.0104066...  \n",
       "\n",
       "[5 rows x 38 columns]"
      ]
     },
     "execution_count": 29,
     "metadata": {},
     "output_type": "execute_result"
    }
   ],
   "source": [
    "LFP_TRACES_DF.head()"
   ]
  },
  {
   "cell_type": "markdown",
   "metadata": {},
   "source": [
    "## Filtering for zscore value"
   ]
  },
  {
   "cell_type": "code",
   "execution_count": 30,
   "metadata": {
    "tags": []
   },
   "outputs": [],
   "source": [
    "zscore_columns = [col for col in LFP_TRACES_DF.columns if \"zscore\" in col]"
   ]
  },
  {
   "cell_type": "code",
   "execution_count": 31,
   "metadata": {
    "tags": []
   },
   "outputs": [
    {
     "data": {
      "text/plain": [
       "['mPFC_lfp_modified_zscore',\n",
       " 'MD_lfp_modified_zscore',\n",
       " 'LH_lfp_modified_zscore',\n",
       " 'BLA_lfp_modified_zscore',\n",
       " 'vHPC_lfp_modified_zscore']"
      ]
     },
     "execution_count": 31,
     "metadata": {},
     "output_type": "execute_result"
    }
   ],
   "source": [
    "zscore_columns"
   ]
  },
  {
   "cell_type": "code",
   "execution_count": 32,
   "metadata": {
    "tags": []
   },
   "outputs": [
    {
     "name": "stdout",
     "output_type": "stream",
     "text": [
      "mPFC_lfp_modified_zscore\n",
      "MD_lfp_modified_zscore\n",
      "LH_lfp_modified_zscore\n",
      "BLA_lfp_modified_zscore\n",
      "vHPC_lfp_modified_zscore\n"
     ]
    }
   ],
   "source": [
    "for col in zscore_columns:\n",
    "    print(col)\n",
    "    brain_region = col.split(\"_\")[0]\n",
    "    updated_column = \"{}_lfp_mask\".format(brain_region)\n",
    "    LFP_TRACES_DF[updated_column] = LFP_TRACES_DF[col].apply(lambda x: np.abs(x) >= zscore_threshold)"
   ]
  },
  {
   "cell_type": "code",
   "execution_count": 33,
   "metadata": {
    "tags": []
   },
   "outputs": [
    {
     "data": {
      "text/plain": [
       "0    [False, False, False, False, False, False, Fal...\n",
       "1    [False, False, False, False, False, False, Fal...\n",
       "2    [False, False, False, False, False, False, Fal...\n",
       "3    [False, False, False, False, False, False, Fal...\n",
       "4    [False, False, False, False, False, False, Fal...\n",
       "Name: vHPC_lfp_mask, dtype: object"
      ]
     },
     "execution_count": 33,
     "metadata": {},
     "output_type": "execute_result"
    }
   ],
   "source": [
    "LFP_TRACES_DF[updated_column].head()"
   ]
  },
  {
   "cell_type": "code",
   "execution_count": 34,
   "metadata": {
    "tags": []
   },
   "outputs": [
    {
     "data": {
      "text/plain": [
       "(3414668,)"
      ]
     },
     "execution_count": 34,
     "metadata": {},
     "output_type": "execute_result"
    }
   ],
   "source": [
    "LFP_TRACES_DF[updated_column].iloc[0].shape"
   ]
  },
  {
   "cell_type": "code",
   "execution_count": 35,
   "metadata": {
    "tags": []
   },
   "outputs": [
    {
     "data": {
      "text/plain": [
       "120878"
      ]
     },
     "execution_count": 35,
     "metadata": {},
     "output_type": "execute_result"
    }
   ],
   "source": [
    "sum(LFP_TRACES_DF[updated_column].iloc[0])"
   ]
  },
  {
   "cell_type": "markdown",
   "metadata": {
    "tags": []
   },
   "source": [
    "- Filtering raw traces by zscore"
   ]
  },
  {
   "cell_type": "code",
   "execution_count": 36,
   "metadata": {
    "tags": []
   },
   "outputs": [
    {
     "data": {
      "text/plain": [
       "0    [0.23408099, 0.3398509, 0.5565925, 0.7447243, ...\n",
       "1    [0.23408099, 0.3398509, 0.5565925, 0.7447243, ...\n",
       "2    [0.93568933, 1.2858553, 1.5413042, 1.2887255, ...\n",
       "3    [0.93568933, 1.2858553, 1.5413042, 1.2887255, ...\n",
       "4    [0.27719176, 0.40500796, 0.35572946, -0.004619...\n",
       "Name: vHPC_lfp_modified_zscore, dtype: object"
      ]
     },
     "execution_count": 36,
     "metadata": {},
     "output_type": "execute_result"
    }
   ],
   "source": [
    "LFP_TRACES_DF[col].head()"
   ]
  },
  {
   "cell_type": "code",
   "execution_count": 37,
   "metadata": {
    "tags": []
   },
   "outputs": [
    {
     "name": "stdout",
     "output_type": "stream",
     "text": [
      "mPFC_lfp_trace\n",
      "MD_lfp_trace\n",
      "LH_lfp_trace\n",
      "BLA_lfp_trace\n",
      "vHPC_lfp_trace\n"
     ]
    }
   ],
   "source": [
    "for col in original_trace_columns:\n",
    "    print(col)\n",
    "    brain_region = col.split(\"_\")[0]\n",
    "    updated_column = \"{}_lfp_trace_filtered\".format(brain_region)    \n",
    "    mask_column = \"{}_lfp_mask\".format(brain_region)\n",
    "    LFP_TRACES_DF[updated_column] = LFP_TRACES_DF.apply(lambda x: update_array_by_mask(x[col], x[mask_column]), axis=1)"
   ]
  },
  {
   "cell_type": "code",
   "execution_count": 38,
   "metadata": {
    "tags": []
   },
   "outputs": [
    {
     "data": {
      "text/plain": [
       "0    [55.574997, 79.365, 128.11499, 170.43, 189.344...\n",
       "1    [55.574997, 79.365, 128.11499, 170.43, 189.344...\n",
       "2    [62.984997, 86.774994, 104.13, 86.96999, 75.65...\n",
       "3    [62.984997, 86.774994, 104.13, 86.96999, 75.65...\n",
       "4    [34.32, 50.504997, 44.265, -1.365, -31.784998,...\n",
       "Name: vHPC_lfp_trace, dtype: object"
      ]
     },
     "execution_count": 38,
     "metadata": {},
     "output_type": "execute_result"
    }
   ],
   "source": [
    "LFP_TRACES_DF[col].head()"
   ]
  },
  {
   "cell_type": "code",
   "execution_count": 39,
   "metadata": {
    "tags": []
   },
   "outputs": [
    {
     "data": {
      "text/plain": [
       "0"
      ]
     },
     "execution_count": 39,
     "metadata": {},
     "output_type": "execute_result"
    }
   ],
   "source": [
    "sum(np.isnan(LFP_TRACES_DF[col].iloc[0]))"
   ]
  },
  {
   "cell_type": "markdown",
   "metadata": {},
   "source": [
    "- Calculating RMS of filtered signal"
   ]
  },
  {
   "cell_type": "code",
   "execution_count": 40,
   "metadata": {
    "tags": []
   },
   "outputs": [],
   "source": [
    "filtered_trace_column = [col for col in LFP_TRACES_DF if \"lfp_trace_filtered\" in col]"
   ]
  },
  {
   "cell_type": "code",
   "execution_count": 41,
   "metadata": {},
   "outputs": [
    {
     "name": "stdout",
     "output_type": "stream",
     "text": [
      "mPFC_lfp_trace_filtered\n",
      "MD_lfp_trace_filtered\n",
      "LH_lfp_trace_filtered\n",
      "BLA_lfp_trace_filtered\n",
      "vHPC_lfp_trace_filtered\n"
     ]
    }
   ],
   "source": [
    "for col in filtered_trace_column:\n",
    "    print(col)\n",
    "    brain_region = col.split(\"_\")[0]\n",
    "    updated_column = \"{}_lfp_RMS_filtered\".format(brain_region)\n",
    "    LFP_TRACES_DF[updated_column] = LFP_TRACES_DF[col].apply(lambda x: (x / np.sqrt(np.nanmean(x**2))).astype(np.float32))"
   ]
  },
  {
   "cell_type": "markdown",
   "metadata": {},
   "source": [
    "- Dropping unnecessary columns"
   ]
  },
  {
   "cell_type": "code",
   "execution_count": 42,
   "metadata": {
    "tags": []
   },
   "outputs": [],
   "source": [
    "LFP_TRACES_DF = LFP_TRACES_DF.drop(columns=[col for col in LFP_TRACES_DF.columns if \"zscore\" in col or \"MAD\" in col], errors=\"ignore\")"
   ]
  },
  {
   "cell_type": "code",
   "execution_count": 43,
   "metadata": {
    "tags": []
   },
   "outputs": [],
   "source": [
    "LFP_TRACES_DF = LFP_TRACES_DF.drop(columns=[col for col in LFP_TRACES_DF.columns if \"RMS\" in col and not \"filtered\" in col], errors=\"ignore\")\n"
   ]
  },
  {
   "cell_type": "code",
   "execution_count": 44,
   "metadata": {},
   "outputs": [],
   "source": [
    "LFP_TRACES_DF = LFP_TRACES_DF.drop(columns=[col for col in LFP_TRACES_DF.columns if \"mask\" in col], errors=\"ignore\")\n"
   ]
  },
  {
   "cell_type": "code",
   "execution_count": 45,
   "metadata": {
    "tags": []
   },
   "outputs": [],
   "source": [
    "LFP_TRACES_DF = LFP_TRACES_DF.drop(columns=[col for col in LFP_TRACES_DF.columns if \"trace\" in col], errors=\"ignore\")\n"
   ]
  },
  {
   "cell_type": "code",
   "execution_count": 46,
   "metadata": {
    "tags": []
   },
   "outputs": [
    {
     "data": {
      "text/plain": [
       "Index(['cohort', 'session_dir', 'tone_frames', 'box_1_port_entry_frames',\n",
       "       'box_2_port_entry_frames', 'video_name', 'session_path', 'recording',\n",
       "       'current_subject', 'subject', 'all_subjects', 'first_timestamp',\n",
       "       'last_timestamp', 'video_timestamps', 'tone_timestamps',\n",
       "       'box_1_port_entry_timestamps', 'box_2_port_entry_timestamps',\n",
       "       'lfp_timestamps', 'mPFC_lfp_RMS_filtered', 'MD_lfp_RMS_filtered',\n",
       "       'LH_lfp_RMS_filtered', 'BLA_lfp_RMS_filtered', 'vHPC_lfp_RMS_filtered'],\n",
       "      dtype='object')"
      ]
     },
     "execution_count": 46,
     "metadata": {},
     "output_type": "execute_result"
    }
   ],
   "source": [
    "LFP_TRACES_DF.columns"
   ]
  },
  {
   "cell_type": "markdown",
   "metadata": {},
   "source": [
    "- Interpolating filtered RMS"
   ]
  },
  {
   "cell_type": "code",
   "execution_count": 47,
   "metadata": {
    "tags": []
   },
   "outputs": [],
   "source": [
    "filtered_RMS_column = [col for col in LFP_TRACES_DF if \"lfp_RMS_filtered\" in col]"
   ]
  },
  {
   "cell_type": "code",
   "execution_count": 48,
   "metadata": {
    "tags": []
   },
   "outputs": [
    {
     "data": {
      "text/plain": [
       "['mPFC_lfp_RMS_filtered',\n",
       " 'MD_lfp_RMS_filtered',\n",
       " 'LH_lfp_RMS_filtered',\n",
       " 'BLA_lfp_RMS_filtered',\n",
       " 'vHPC_lfp_RMS_filtered']"
      ]
     },
     "execution_count": 48,
     "metadata": {},
     "output_type": "execute_result"
    }
   ],
   "source": [
    "filtered_RMS_column"
   ]
  },
  {
   "cell_type": "code",
   "execution_count": 49,
   "metadata": {
    "tags": []
   },
   "outputs": [
    {
     "name": "stdout",
     "output_type": "stream",
     "text": [
      "mPFC_lfp_RMS_filtered\n",
      "MD_lfp_RMS_filtered\n",
      "LH_lfp_RMS_filtered\n",
      "BLA_lfp_RMS_filtered\n",
      "vHPC_lfp_RMS_filtered\n"
     ]
    }
   ],
   "source": [
    "for col in filtered_RMS_column:\n",
    "    print(col)\n",
    "    brain_region = col.split(\"_\")[0]\n",
    "    updated_column = \"{}_lfp_RMS_interpolated\".format(brain_region)\n",
    "    LFP_TRACES_DF[updated_column] = LFP_TRACES_DF[col].apply(lambda x: interpolate_signal(x))"
   ]
  },
  {
   "cell_type": "code",
   "execution_count": 50,
   "metadata": {},
   "outputs": [],
   "source": [
    "# RMS_columns = [col for col in LFP_TRACES_DF if \"RMS\" in col and \"filtered\" not in col]\n",
    "RMS_columns = [col for col in LFP_TRACES_DF if \"interpolated\" in col]"
   ]
  },
  {
   "cell_type": "code",
   "execution_count": 51,
   "metadata": {
    "tags": []
   },
   "outputs": [
    {
     "data": {
      "text/plain": [
       "['mPFC_lfp_RMS_interpolated',\n",
       " 'MD_lfp_RMS_interpolated',\n",
       " 'LH_lfp_RMS_interpolated',\n",
       " 'BLA_lfp_RMS_interpolated',\n",
       " 'vHPC_lfp_RMS_interpolated']"
      ]
     },
     "execution_count": 51,
     "metadata": {},
     "output_type": "execute_result"
    }
   ],
   "source": [
    "RMS_columns"
   ]
  },
  {
   "cell_type": "code",
   "execution_count": 52,
   "metadata": {
    "tags": []
   },
   "outputs": [
    {
     "name": "stdout",
     "output_type": "stream",
     "text": [
      "mPFC_lfp_RMS_interpolated\n",
      "MD_lfp_RMS_interpolated\n",
      "LH_lfp_RMS_interpolated\n",
      "BLA_lfp_RMS_interpolated\n",
      "vHPC_lfp_RMS_interpolated\n"
     ]
    }
   ],
   "source": [
    "for col in RMS_columns:\n",
    "    print(col)\n",
    "    LFP_TRACES_DF[col] = LFP_TRACES_DF[col].apply(lambda x: x.astype(np.float32))"
   ]
  },
  {
   "cell_type": "code",
   "execution_count": 53,
   "metadata": {},
   "outputs": [
    {
     "data": {
      "text/plain": [
       "0     [0.24113564, 0.34435865, 0.55588114, 0.7394826...\n",
       "1     [0.24113564, 0.34435865, 0.55588114, 0.7394826...\n",
       "2     [0.90967715, 1.2532704, 1.5039245, 1.2560867, ...\n",
       "3     [0.90967715, 1.2532704, 1.5039245, 1.2560867, ...\n",
       "4     [0.2633122, 0.3874878, 0.33961287, -0.01047264...\n",
       "                            ...                        \n",
       "56    [0.2209081, 0.79025894, 1.1478113, 0.7128272, ...\n",
       "57    [0.1772029, 0.0100303525, -0.15268426, -0.2028...\n",
       "58    [0.1772029, 0.0100303525, -0.15268426, -0.2028...\n",
       "59    [-1.0646816, -1.1657441, -1.1304898, -0.904861...\n",
       "60    [-1.0646816, -1.1657441, -1.1304898, -0.904861...\n",
       "Name: vHPC_lfp_RMS_interpolated, Length: 61, dtype: object"
      ]
     },
     "execution_count": 53,
     "metadata": {},
     "output_type": "execute_result"
    }
   ],
   "source": [
    "LFP_TRACES_DF[col]"
   ]
  },
  {
   "cell_type": "code",
   "execution_count": 54,
   "metadata": {
    "tags": []
   },
   "outputs": [
    {
     "data": {
      "text/plain": [
       "0     [0.24113564, 0.34435865, 0.55588114, 0.7394826...\n",
       "1     [0.24113564, 0.34435865, 0.55588114, 0.7394826...\n",
       "2     [0.90967715, 1.2532704, 1.5039245, 1.2560867, ...\n",
       "3     [0.90967715, 1.2532704, 1.5039245, 1.2560867, ...\n",
       "4     [0.2633122, 0.3874878, 0.33961287, -0.01047264...\n",
       "                            ...                        \n",
       "56    [0.2209081, 0.79025894, 1.1478113, 0.7128272, ...\n",
       "57    [0.1772029, 0.0100303525, -0.15268426, -0.2028...\n",
       "58    [0.1772029, 0.0100303525, -0.15268426, -0.2028...\n",
       "59    [-1.0646816, -1.1657441, -1.1304898, -0.904861...\n",
       "60    [-1.0646816, -1.1657441, -1.1304898, -0.904861...\n",
       "Name: vHPC_lfp_RMS_interpolated, Length: 61, dtype: object"
      ]
     },
     "execution_count": 54,
     "metadata": {},
     "output_type": "execute_result"
    }
   ],
   "source": [
    "LFP_TRACES_DF[col]"
   ]
  },
  {
   "cell_type": "code",
   "execution_count": 55,
   "metadata": {
    "tags": []
   },
   "outputs": [],
   "source": [
    "LFP_TRACES_DF = LFP_TRACES_DF.drop(columns=[col for col in LFP_TRACES_DF if \"lfp_mask\" in col or \"trace_filtered\" in col], errors=\"ignore\")"
   ]
  },
  {
   "cell_type": "code",
   "execution_count": 56,
   "metadata": {
    "tags": []
   },
   "outputs": [
    {
     "data": {
      "text/plain": [
       "Index(['cohort', 'session_dir', 'tone_frames', 'box_1_port_entry_frames',\n",
       "       'box_2_port_entry_frames', 'video_name', 'session_path', 'recording',\n",
       "       'current_subject', 'subject', 'all_subjects', 'first_timestamp',\n",
       "       'last_timestamp', 'video_timestamps', 'tone_timestamps',\n",
       "       'box_1_port_entry_timestamps', 'box_2_port_entry_timestamps',\n",
       "       'lfp_timestamps', 'mPFC_lfp_RMS_filtered', 'MD_lfp_RMS_filtered',\n",
       "       'LH_lfp_RMS_filtered', 'BLA_lfp_RMS_filtered', 'vHPC_lfp_RMS_filtered',\n",
       "       'mPFC_lfp_RMS_interpolated', 'MD_lfp_RMS_interpolated',\n",
       "       'LH_lfp_RMS_interpolated', 'BLA_lfp_RMS_interpolated',\n",
       "       'vHPC_lfp_RMS_interpolated'],\n",
       "      dtype='object')"
      ]
     },
     "execution_count": 56,
     "metadata": {},
     "output_type": "execute_result"
    }
   ],
   "source": [
    "LFP_TRACES_DF.columns"
   ]
  },
  {
   "cell_type": "markdown",
   "metadata": {
    "tags": []
   },
   "source": [
    "## Calculating phase of signals"
   ]
  },
  {
   "cell_type": "code",
   "execution_count": 57,
   "metadata": {},
   "outputs": [],
   "source": [
    "from scipy.signal import butter, filtfilt, hilbert"
   ]
  },
  {
   "cell_type": "markdown",
   "metadata": {},
   "source": [
    "- Filtering for theta and gamma"
   ]
  },
  {
   "cell_type": "code",
   "execution_count": 58,
   "metadata": {},
   "outputs": [],
   "source": [
    "fs = 1000\n",
    "order=4"
   ]
  },
  {
   "cell_type": "code",
   "execution_count": 59,
   "metadata": {},
   "outputs": [],
   "source": [
    "freq_band = [4, 12]\n",
    "b, a = butter(order, freq_band, fs=fs, btype='band')"
   ]
  },
  {
   "cell_type": "code",
   "execution_count": 60,
   "metadata": {
    "tags": []
   },
   "outputs": [
    {
     "name": "stdout",
     "output_type": "stream",
     "text": [
      "mPFC_lfp_RMS_interpolated\n",
      "MD_lfp_RMS_interpolated\n",
      "LH_lfp_RMS_interpolated\n",
      "BLA_lfp_RMS_interpolated\n",
      "vHPC_lfp_RMS_interpolated\n"
     ]
    }
   ],
   "source": [
    "for col in RMS_columns:\n",
    "    print(col)\n",
    "    brain_region = col.split(\"_\")[0]\n",
    "    updated_column = \"{}_theta_band\".format(brain_region)\n",
    "    LFP_TRACES_DF[updated_column] = LFP_TRACES_DF[col].apply(lambda x: filtfilt(b, a, x, padtype=None).astype(np.float32))"
   ]
  },
  {
   "cell_type": "code",
   "execution_count": null,
   "metadata": {},
   "outputs": [],
   "source": []
  },
  {
   "cell_type": "code",
   "execution_count": 61,
   "metadata": {
    "tags": []
   },
   "outputs": [
    {
     "data": {
      "text/plain": [
       "0     [0.18621668, 0.19521728, 0.20376085, 0.2118085...\n",
       "1     [0.18621668, 0.19521728, 0.20376085, 0.2118085...\n",
       "2     [0.2616766, 0.2322801, 0.20183444, 0.17042315,...\n",
       "3     [0.2616766, 0.2322801, 0.20183444, 0.17042315,...\n",
       "4     [0.022297505, 0.029372353, 0.03709691, 0.04545...\n",
       "                            ...                        \n",
       "56    [-0.28977153, -0.28415498, -0.2780504, -0.2714...\n",
       "57    [0.19069691, 0.17287906, 0.1543593, 0.13518454...\n",
       "58    [0.19069691, 0.17287906, 0.1543593, 0.13518454...\n",
       "59    [-0.46137807, -0.41177154, -0.36049426, -0.307...\n",
       "60    [-0.46137807, -0.41177154, -0.36049426, -0.307...\n",
       "Name: vHPC_theta_band, Length: 61, dtype: object"
      ]
     },
     "execution_count": 61,
     "metadata": {},
     "output_type": "execute_result"
    }
   ],
   "source": [
    "LFP_TRACES_DF[updated_column]"
   ]
  },
  {
   "cell_type": "code",
   "execution_count": 62,
   "metadata": {},
   "outputs": [],
   "source": [
    "freq_band = [30, 50]\n",
    "b, a = butter(order, freq_band, fs=fs, btype='band')"
   ]
  },
  {
   "cell_type": "code",
   "execution_count": 63,
   "metadata": {},
   "outputs": [
    {
     "name": "stdout",
     "output_type": "stream",
     "text": [
      "mPFC_lfp_RMS_interpolated\n",
      "MD_lfp_RMS_interpolated\n",
      "LH_lfp_RMS_interpolated\n",
      "BLA_lfp_RMS_interpolated\n",
      "vHPC_lfp_RMS_interpolated\n"
     ]
    }
   ],
   "source": [
    "for col in RMS_columns:\n",
    "    print(col)\n",
    "    brain_region = col.split(\"_\")[0]\n",
    "    updated_column = \"{}_gamma_band\".format(brain_region)\n",
    "    LFP_TRACES_DF[updated_column] = LFP_TRACES_DF[col].apply(lambda x: filtfilt(b, a, x, padtype=None).astype(np.float32))"
   ]
  },
  {
   "cell_type": "markdown",
   "metadata": {},
   "source": [
    "- Calculating the phase"
   ]
  },
  {
   "cell_type": "code",
   "execution_count": 64,
   "metadata": {},
   "outputs": [],
   "source": [
    "band_columns = [col for col in LFP_TRACES_DF if \"band\" in col]"
   ]
  },
  {
   "cell_type": "code",
   "execution_count": 65,
   "metadata": {},
   "outputs": [
    {
     "data": {
      "text/plain": [
       "['mPFC_theta_band',\n",
       " 'MD_theta_band',\n",
       " 'LH_theta_band',\n",
       " 'BLA_theta_band',\n",
       " 'vHPC_theta_band',\n",
       " 'mPFC_gamma_band',\n",
       " 'MD_gamma_band',\n",
       " 'LH_gamma_band',\n",
       " 'BLA_gamma_band',\n",
       " 'vHPC_gamma_band']"
      ]
     },
     "execution_count": 65,
     "metadata": {},
     "output_type": "execute_result"
    }
   ],
   "source": [
    "band_columns"
   ]
  },
  {
   "cell_type": "code",
   "execution_count": 66,
   "metadata": {},
   "outputs": [
    {
     "name": "stdout",
     "output_type": "stream",
     "text": [
      "mPFC_theta_band\n",
      "mPFC_theta_phase\n",
      "MD_theta_band\n",
      "MD_theta_phase\n",
      "LH_theta_band\n",
      "LH_theta_phase\n",
      "BLA_theta_band\n",
      "BLA_theta_phase\n",
      "vHPC_theta_band\n",
      "vHPC_theta_phase\n",
      "mPFC_gamma_band\n",
      "mPFC_gamma_phase\n",
      "MD_gamma_band\n",
      "MD_gamma_phase\n",
      "LH_gamma_band\n",
      "LH_gamma_phase\n",
      "BLA_gamma_band\n",
      "BLA_gamma_phase\n",
      "vHPC_gamma_band\n",
      "vHPC_gamma_phase\n"
     ]
    }
   ],
   "source": [
    "for col in band_columns:\n",
    "    print(col)\n",
    "    brain_region = col.replace(\"_band\", \"\")\n",
    "    updated_column = \"{}_phase\".format(brain_region)\n",
    "    print(updated_column)\n",
    "    LFP_TRACES_DF[updated_column] = LFP_TRACES_DF[col].apply(lambda x: np.angle(hilbert(x), deg=False).astype(np.float32))"
   ]
  },
  {
   "cell_type": "code",
   "execution_count": 67,
   "metadata": {},
   "outputs": [
    {
     "data": {
      "text/plain": [
       "Index(['cohort', 'session_dir', 'tone_frames', 'box_1_port_entry_frames',\n",
       "       'box_2_port_entry_frames', 'video_name', 'session_path', 'recording',\n",
       "       'current_subject', 'subject', 'all_subjects', 'first_timestamp',\n",
       "       'last_timestamp', 'video_timestamps', 'tone_timestamps',\n",
       "       'box_1_port_entry_timestamps', 'box_2_port_entry_timestamps',\n",
       "       'lfp_timestamps', 'mPFC_lfp_RMS_filtered', 'MD_lfp_RMS_filtered',\n",
       "       'LH_lfp_RMS_filtered', 'BLA_lfp_RMS_filtered', 'vHPC_lfp_RMS_filtered',\n",
       "       'mPFC_lfp_RMS_interpolated', 'MD_lfp_RMS_interpolated',\n",
       "       'LH_lfp_RMS_interpolated', 'BLA_lfp_RMS_interpolated',\n",
       "       'vHPC_lfp_RMS_interpolated', 'mPFC_theta_band', 'MD_theta_band',\n",
       "       'LH_theta_band', 'BLA_theta_band', 'vHPC_theta_band', 'mPFC_gamma_band',\n",
       "       'MD_gamma_band', 'LH_gamma_band', 'BLA_gamma_band', 'vHPC_gamma_band',\n",
       "       'mPFC_theta_phase', 'MD_theta_phase', 'LH_theta_phase',\n",
       "       'BLA_theta_phase', 'vHPC_theta_phase', 'mPFC_gamma_phase',\n",
       "       'MD_gamma_phase', 'LH_gamma_phase', 'BLA_gamma_phase',\n",
       "       'vHPC_gamma_phase'],\n",
       "      dtype='object')"
      ]
     },
     "execution_count": 67,
     "metadata": {},
     "output_type": "execute_result"
    }
   ],
   "source": [
    "LFP_TRACES_DF.columns"
   ]
  },
  {
   "cell_type": "markdown",
   "metadata": {
    "tags": []
   },
   "source": [
    "# Power Calcuation"
   ]
  },
  {
   "cell_type": "markdown",
   "metadata": {},
   "source": [
    "- Getting the column name of all the traces"
   ]
  },
  {
   "cell_type": "code",
   "execution_count": 68,
   "metadata": {
    "tags": []
   },
   "outputs": [],
   "source": [
    "input_columns = [col for col in LFP_TRACES_DF.columns if \"lfp_RMS_filtered\" in col]"
   ]
  },
  {
   "cell_type": "code",
   "execution_count": 69,
   "metadata": {
    "tags": []
   },
   "outputs": [
    {
     "data": {
      "text/plain": [
       "['mPFC_lfp_RMS_filtered',\n",
       " 'MD_lfp_RMS_filtered',\n",
       " 'LH_lfp_RMS_filtered',\n",
       " 'BLA_lfp_RMS_filtered',\n",
       " 'vHPC_lfp_RMS_filtered']"
      ]
     },
     "execution_count": 69,
     "metadata": {},
     "output_type": "execute_result"
    }
   ],
   "source": [
    "input_columns"
   ]
  },
  {
   "cell_type": "markdown",
   "metadata": {},
   "source": [
    "- Calcuating the power at each frequency band"
   ]
  },
  {
   "cell_type": "code",
   "execution_count": 70,
   "metadata": {},
   "outputs": [
    {
     "data": {
      "text/plain": [
       "array([-2.5841529e-02, -1.4202076e-02, -2.8395660e-03, ...,\n",
       "        1.4404488e-05,  1.5425836e-06, -2.0803222e-17], dtype=float32)"
      ]
     },
     "execution_count": 70,
     "metadata": {},
     "output_type": "execute_result"
    }
   ],
   "source": [
    "LFP_TRACES_DF[col].iloc[0]"
   ]
  },
  {
   "cell_type": "code",
   "execution_count": 71,
   "metadata": {
    "tags": []
   },
   "outputs": [
    {
     "name": "stdout",
     "output_type": "stream",
     "text": [
      "mPFC_RMS_filtered\n",
      "MD_RMS_filtered\n",
      "LH_RMS_filtered\n",
      "BLA_RMS_filtered\n",
      "vHPC_RMS_filtered\n"
     ]
    }
   ],
   "source": [
    "for col in input_columns:\n",
    "    # brain_region = col.split(\"_\")[0]\n",
    "    brain_region = col.replace(\"_lfp\", \"\")\n",
    "    print(brain_region)\n",
    "\n",
    "    # Define column names\n",
    "    multitaper_col = f\"{brain_region}_power_multitaper\"\n",
    "    connectivity_col = f\"{brain_region}_power_connectivity\"\n",
    "    frequencies_col = f\"{brain_region}_power_frequencies\"\n",
    "    power_col = f\"{brain_region}_power_all_frequencies_all_windows\"\n",
    "    \n",
    "    try:\n",
    "        # Apply Multitaper function to the lfp_trace column\n",
    "        LFP_TRACES_DF[multitaper_col] = LFP_TRACES_DF[col].apply(\n",
    "            lambda x: Multitaper(\n",
    "                time_series=x, \n",
    "                sampling_frequency=RESAMPLE_RATE, \n",
    "                time_halfbandwidth_product=TIME_HALFBANDWIDTH_PRODUCT,\n",
    "                time_window_duration=TIME_WINDOW_DURATION, \n",
    "                time_window_step=TIME_WINDOW_STEP\n",
    "            )\n",
    "        )\n",
    "\n",
    "        # Apply Connectivity function to the multitaper column\n",
    "        LFP_TRACES_DF[connectivity_col] = LFP_TRACES_DF[multitaper_col].apply(\n",
    "            lambda x: Connectivity.from_multitaper(x)\n",
    "        )\n",
    "\n",
    "        # Apply frequencies and power functions to the connectivity column\n",
    "        LFP_TRACES_DF[frequencies_col] = LFP_TRACES_DF[connectivity_col].apply(\n",
    "            lambda x: x.frequencies\n",
    "        )\n",
    "        LFP_TRACES_DF[power_col] = LFP_TRACES_DF[connectivity_col].apply(\n",
    "            lambda x: x.power().squeeze()\n",
    "        )\n",
    "        \n",
    "        LFP_TRACES_DF[power_col] = LFP_TRACES_DF[power_col].apply(lambda x: x.astype(np.float32))\n",
    "            \n",
    "        # Removing unnecessary columns\n",
    "        LFP_TRACES_DF = LFP_TRACES_DF.drop(columns=[multitaper_col, connectivity_col], errors=\"ignore\")\n",
    "    \n",
    "    except Exception as e: \n",
    "        print(e)"
   ]
  },
  {
   "cell_type": "markdown",
   "metadata": {},
   "source": [
    "- Getting the timestamps of the power"
   ]
  },
  {
   "cell_type": "code",
   "execution_count": 72,
   "metadata": {
    "tags": []
   },
   "outputs": [],
   "source": [
    "LFP_TRACES_DF[\"power_timestamps\"] = LFP_TRACES_DF[\"lfp_timestamps\"].apply(lambda x: x[(RESAMPLE_RATE//2):(-RESAMPLE_RATE//2):(RESAMPLE_RATE//2)])\n",
    "# .iloc[0][500:-500:500].shape"
   ]
  },
  {
   "cell_type": "markdown",
   "metadata": {},
   "source": [
    "- Making sure that the timestamps for power makes sense with shape and values"
   ]
  },
  {
   "cell_type": "code",
   "execution_count": 73,
   "metadata": {
    "tags": []
   },
   "outputs": [
    {
     "data": {
      "text/plain": [
       "0    (6828,)\n",
       "1    (6828,)\n",
       "2    (6828,)\n",
       "3    (6828,)\n",
       "4    (6833,)\n",
       "Name: power_timestamps, dtype: object"
      ]
     },
     "execution_count": 73,
     "metadata": {},
     "output_type": "execute_result"
    }
   ],
   "source": [
    "LFP_TRACES_DF[\"power_timestamps\"].head().apply(lambda x: x.shape)"
   ]
  },
  {
   "cell_type": "code",
   "execution_count": 74,
   "metadata": {
    "tags": []
   },
   "outputs": [
    {
     "data": {
      "text/plain": [
       "(6828, 500)"
      ]
     },
     "execution_count": 74,
     "metadata": {},
     "output_type": "execute_result"
    }
   ],
   "source": [
    "LFP_TRACES_DF[[col for col in LFP_TRACES_DF.columns if \"power_all_frequencies_all_windows\" in col][0]].iloc[0].shape"
   ]
  },
  {
   "cell_type": "code",
   "execution_count": 75,
   "metadata": {
    "tags": []
   },
   "outputs": [
    {
     "data": {
      "text/plain": [
       "array([       0,       20,       40, ..., 68293300, 68293320, 68293340])"
      ]
     },
     "execution_count": 75,
     "metadata": {},
     "output_type": "execute_result"
    }
   ],
   "source": [
    "LFP_TRACES_DF[[col for col in LFP_TRACES_DF.columns if \"lfp_timestamps\" in col][0]].iloc[0]"
   ]
  },
  {
   "cell_type": "code",
   "execution_count": 76,
   "metadata": {
    "tags": []
   },
   "outputs": [
    {
     "data": {
      "text/plain": [
       "array([   10000,    20000,    30000, ..., 68260000, 68270000, 68280000])"
      ]
     },
     "execution_count": 76,
     "metadata": {},
     "output_type": "execute_result"
    }
   ],
   "source": [
    "LFP_TRACES_DF[[col for col in LFP_TRACES_DF.columns if \"power_timestamps\" in col][0]].iloc[0]"
   ]
  },
  {
   "cell_type": "markdown",
   "metadata": {},
   "source": [
    "- Checking if the right frequencies are being used"
   ]
  },
  {
   "cell_type": "code",
   "execution_count": 77,
   "metadata": {
    "tags": []
   },
   "outputs": [
    {
     "data": {
      "text/html": [
       "<div>\n",
       "<style scoped>\n",
       "    .dataframe tbody tr th:only-of-type {\n",
       "        vertical-align: middle;\n",
       "    }\n",
       "\n",
       "    .dataframe tbody tr th {\n",
       "        vertical-align: top;\n",
       "    }\n",
       "\n",
       "    .dataframe thead th {\n",
       "        text-align: right;\n",
       "    }\n",
       "</style>\n",
       "<table border=\"1\" class=\"dataframe\">\n",
       "  <thead>\n",
       "    <tr style=\"text-align: right;\">\n",
       "      <th></th>\n",
       "      <th>mPFC_RMS_filtered_power_frequencies</th>\n",
       "      <th>MD_RMS_filtered_power_frequencies</th>\n",
       "      <th>LH_RMS_filtered_power_frequencies</th>\n",
       "      <th>BLA_RMS_filtered_power_frequencies</th>\n",
       "      <th>vHPC_RMS_filtered_power_frequencies</th>\n",
       "    </tr>\n",
       "  </thead>\n",
       "  <tbody>\n",
       "    <tr>\n",
       "      <th>0</th>\n",
       "      <td>[0.0, 1.0, 2.0, 3.0, 4.0, 5.0, 6.0, 7.0, 8.0, ...</td>\n",
       "      <td>[0.0, 1.0, 2.0, 3.0, 4.0, 5.0, 6.0, 7.0, 8.0, ...</td>\n",
       "      <td>[0.0, 1.0, 2.0, 3.0, 4.0, 5.0, 6.0, 7.0, 8.0, ...</td>\n",
       "      <td>[0.0, 1.0, 2.0, 3.0, 4.0, 5.0, 6.0, 7.0, 8.0, ...</td>\n",
       "      <td>[0.0, 1.0, 2.0, 3.0, 4.0, 5.0, 6.0, 7.0, 8.0, ...</td>\n",
       "    </tr>\n",
       "    <tr>\n",
       "      <th>1</th>\n",
       "      <td>[0.0, 1.0, 2.0, 3.0, 4.0, 5.0, 6.0, 7.0, 8.0, ...</td>\n",
       "      <td>[0.0, 1.0, 2.0, 3.0, 4.0, 5.0, 6.0, 7.0, 8.0, ...</td>\n",
       "      <td>[0.0, 1.0, 2.0, 3.0, 4.0, 5.0, 6.0, 7.0, 8.0, ...</td>\n",
       "      <td>[0.0, 1.0, 2.0, 3.0, 4.0, 5.0, 6.0, 7.0, 8.0, ...</td>\n",
       "      <td>[0.0, 1.0, 2.0, 3.0, 4.0, 5.0, 6.0, 7.0, 8.0, ...</td>\n",
       "    </tr>\n",
       "    <tr>\n",
       "      <th>2</th>\n",
       "      <td>[0.0, 1.0, 2.0, 3.0, 4.0, 5.0, 6.0, 7.0, 8.0, ...</td>\n",
       "      <td>[0.0, 1.0, 2.0, 3.0, 4.0, 5.0, 6.0, 7.0, 8.0, ...</td>\n",
       "      <td>[0.0, 1.0, 2.0, 3.0, 4.0, 5.0, 6.0, 7.0, 8.0, ...</td>\n",
       "      <td>[0.0, 1.0, 2.0, 3.0, 4.0, 5.0, 6.0, 7.0, 8.0, ...</td>\n",
       "      <td>[0.0, 1.0, 2.0, 3.0, 4.0, 5.0, 6.0, 7.0, 8.0, ...</td>\n",
       "    </tr>\n",
       "    <tr>\n",
       "      <th>3</th>\n",
       "      <td>[0.0, 1.0, 2.0, 3.0, 4.0, 5.0, 6.0, 7.0, 8.0, ...</td>\n",
       "      <td>[0.0, 1.0, 2.0, 3.0, 4.0, 5.0, 6.0, 7.0, 8.0, ...</td>\n",
       "      <td>[0.0, 1.0, 2.0, 3.0, 4.0, 5.0, 6.0, 7.0, 8.0, ...</td>\n",
       "      <td>[0.0, 1.0, 2.0, 3.0, 4.0, 5.0, 6.0, 7.0, 8.0, ...</td>\n",
       "      <td>[0.0, 1.0, 2.0, 3.0, 4.0, 5.0, 6.0, 7.0, 8.0, ...</td>\n",
       "    </tr>\n",
       "    <tr>\n",
       "      <th>4</th>\n",
       "      <td>[0.0, 1.0, 2.0, 3.0, 4.0, 5.0, 6.0, 7.0, 8.0, ...</td>\n",
       "      <td>[0.0, 1.0, 2.0, 3.0, 4.0, 5.0, 6.0, 7.0, 8.0, ...</td>\n",
       "      <td>[0.0, 1.0, 2.0, 3.0, 4.0, 5.0, 6.0, 7.0, 8.0, ...</td>\n",
       "      <td>[0.0, 1.0, 2.0, 3.0, 4.0, 5.0, 6.0, 7.0, 8.0, ...</td>\n",
       "      <td>[0.0, 1.0, 2.0, 3.0, 4.0, 5.0, 6.0, 7.0, 8.0, ...</td>\n",
       "    </tr>\n",
       "  </tbody>\n",
       "</table>\n",
       "</div>"
      ],
      "text/plain": [
       "                 mPFC_RMS_filtered_power_frequencies  \\\n",
       "0  [0.0, 1.0, 2.0, 3.0, 4.0, 5.0, 6.0, 7.0, 8.0, ...   \n",
       "1  [0.0, 1.0, 2.0, 3.0, 4.0, 5.0, 6.0, 7.0, 8.0, ...   \n",
       "2  [0.0, 1.0, 2.0, 3.0, 4.0, 5.0, 6.0, 7.0, 8.0, ...   \n",
       "3  [0.0, 1.0, 2.0, 3.0, 4.0, 5.0, 6.0, 7.0, 8.0, ...   \n",
       "4  [0.0, 1.0, 2.0, 3.0, 4.0, 5.0, 6.0, 7.0, 8.0, ...   \n",
       "\n",
       "                   MD_RMS_filtered_power_frequencies  \\\n",
       "0  [0.0, 1.0, 2.0, 3.0, 4.0, 5.0, 6.0, 7.0, 8.0, ...   \n",
       "1  [0.0, 1.0, 2.0, 3.0, 4.0, 5.0, 6.0, 7.0, 8.0, ...   \n",
       "2  [0.0, 1.0, 2.0, 3.0, 4.0, 5.0, 6.0, 7.0, 8.0, ...   \n",
       "3  [0.0, 1.0, 2.0, 3.0, 4.0, 5.0, 6.0, 7.0, 8.0, ...   \n",
       "4  [0.0, 1.0, 2.0, 3.0, 4.0, 5.0, 6.0, 7.0, 8.0, ...   \n",
       "\n",
       "                   LH_RMS_filtered_power_frequencies  \\\n",
       "0  [0.0, 1.0, 2.0, 3.0, 4.0, 5.0, 6.0, 7.0, 8.0, ...   \n",
       "1  [0.0, 1.0, 2.0, 3.0, 4.0, 5.0, 6.0, 7.0, 8.0, ...   \n",
       "2  [0.0, 1.0, 2.0, 3.0, 4.0, 5.0, 6.0, 7.0, 8.0, ...   \n",
       "3  [0.0, 1.0, 2.0, 3.0, 4.0, 5.0, 6.0, 7.0, 8.0, ...   \n",
       "4  [0.0, 1.0, 2.0, 3.0, 4.0, 5.0, 6.0, 7.0, 8.0, ...   \n",
       "\n",
       "                  BLA_RMS_filtered_power_frequencies  \\\n",
       "0  [0.0, 1.0, 2.0, 3.0, 4.0, 5.0, 6.0, 7.0, 8.0, ...   \n",
       "1  [0.0, 1.0, 2.0, 3.0, 4.0, 5.0, 6.0, 7.0, 8.0, ...   \n",
       "2  [0.0, 1.0, 2.0, 3.0, 4.0, 5.0, 6.0, 7.0, 8.0, ...   \n",
       "3  [0.0, 1.0, 2.0, 3.0, 4.0, 5.0, 6.0, 7.0, 8.0, ...   \n",
       "4  [0.0, 1.0, 2.0, 3.0, 4.0, 5.0, 6.0, 7.0, 8.0, ...   \n",
       "\n",
       "                 vHPC_RMS_filtered_power_frequencies  \n",
       "0  [0.0, 1.0, 2.0, 3.0, 4.0, 5.0, 6.0, 7.0, 8.0, ...  \n",
       "1  [0.0, 1.0, 2.0, 3.0, 4.0, 5.0, 6.0, 7.0, 8.0, ...  \n",
       "2  [0.0, 1.0, 2.0, 3.0, 4.0, 5.0, 6.0, 7.0, 8.0, ...  \n",
       "3  [0.0, 1.0, 2.0, 3.0, 4.0, 5.0, 6.0, 7.0, 8.0, ...  \n",
       "4  [0.0, 1.0, 2.0, 3.0, 4.0, 5.0, 6.0, 7.0, 8.0, ...  "
      ]
     },
     "execution_count": 77,
     "metadata": {},
     "output_type": "execute_result"
    }
   ],
   "source": [
    "LFP_TRACES_DF[[col for col in LFP_TRACES_DF.columns if \"power_frequencies\" in col]].head()"
   ]
  },
  {
   "cell_type": "code",
   "execution_count": 78,
   "metadata": {},
   "outputs": [],
   "source": [
    "LFP_TRACES_DF[\"power_calculation_frequencies\"] = LFP_TRACES_DF[[col for col in LFP_TRACES_DF.columns if \"power_frequencies\" in col][0]].copy()"
   ]
  },
  {
   "cell_type": "markdown",
   "metadata": {},
   "source": [
    "- Dropping unnecessary columns"
   ]
  },
  {
   "cell_type": "code",
   "execution_count": 79,
   "metadata": {
    "tags": []
   },
   "outputs": [],
   "source": [
    "LFP_TRACES_DF = LFP_TRACES_DF.drop(columns=[col for col in LFP_TRACES_DF.columns if \"power_frequencies\" in col], errors=\"ignore\")"
   ]
  },
  {
   "cell_type": "code",
   "execution_count": 80,
   "metadata": {
    "tags": []
   },
   "outputs": [
    {
     "data": {
      "text/html": [
       "<div>\n",
       "<style scoped>\n",
       "    .dataframe tbody tr th:only-of-type {\n",
       "        vertical-align: middle;\n",
       "    }\n",
       "\n",
       "    .dataframe tbody tr th {\n",
       "        vertical-align: top;\n",
       "    }\n",
       "\n",
       "    .dataframe thead th {\n",
       "        text-align: right;\n",
       "    }\n",
       "</style>\n",
       "<table border=\"1\" class=\"dataframe\">\n",
       "  <thead>\n",
       "    <tr style=\"text-align: right;\">\n",
       "      <th></th>\n",
       "      <th>cohort</th>\n",
       "      <th>session_dir</th>\n",
       "      <th>tone_frames</th>\n",
       "      <th>box_1_port_entry_frames</th>\n",
       "      <th>box_2_port_entry_frames</th>\n",
       "      <th>video_name</th>\n",
       "      <th>session_path</th>\n",
       "      <th>recording</th>\n",
       "      <th>current_subject</th>\n",
       "      <th>subject</th>\n",
       "      <th>...</th>\n",
       "      <th>LH_gamma_phase</th>\n",
       "      <th>BLA_gamma_phase</th>\n",
       "      <th>vHPC_gamma_phase</th>\n",
       "      <th>mPFC_RMS_filtered_power_all_frequencies_all_windows</th>\n",
       "      <th>MD_RMS_filtered_power_all_frequencies_all_windows</th>\n",
       "      <th>LH_RMS_filtered_power_all_frequencies_all_windows</th>\n",
       "      <th>BLA_RMS_filtered_power_all_frequencies_all_windows</th>\n",
       "      <th>vHPC_RMS_filtered_power_all_frequencies_all_windows</th>\n",
       "      <th>power_timestamps</th>\n",
       "      <th>power_calculation_frequencies</th>\n",
       "    </tr>\n",
       "  </thead>\n",
       "  <tbody>\n",
       "    <tr>\n",
       "      <th>0</th>\n",
       "      <td>2</td>\n",
       "      <td>20230612_101430_standard_comp_to_training_D1_s...</td>\n",
       "      <td>[[980, 1181], [3376, 3575], [5672, 5871], [746...</td>\n",
       "      <td>[[490, 514], [518, 558], [558, 637], [638, 640...</td>\n",
       "      <td>[[33137, 33147], [33665, 33666], [33668, 33669...</td>\n",
       "      <td>20230612_101430_standard_comp_to_training_D1_s...</td>\n",
       "      <td>/scratch/back_up/reward_competition_extention/...</td>\n",
       "      <td>20230612_101430_standard_comp_to_training_D1_s...</td>\n",
       "      <td>1.3</td>\n",
       "      <td>1.3</td>\n",
       "      <td>...</td>\n",
       "      <td>[-0.62610334, 0.039095968, 0.21467249, 0.60808...</td>\n",
       "      <td>[-0.8748, -0.4461616, -0.28834346, 0.007925385...</td>\n",
       "      <td>[-3.0228662, -2.0309567, -1.6685622, -1.346504...</td>\n",
       "      <td>[[0.041817404, 0.08001584, 0.089131445, 0.0703...</td>\n",
       "      <td>[[0.006807263, 0.018917628, 0.023094367, 0.026...</td>\n",
       "      <td>[[0.020440647, 0.051639214, 0.062006716, 0.059...</td>\n",
       "      <td>[[0.0428919, 0.02788801, 0.051582906, 0.053326...</td>\n",
       "      <td>[[0.008977723, 0.005360422, 0.015187492, 0.014...</td>\n",
       "      <td>[10000, 20000, 30000, 40000, 50000, 60000, 700...</td>\n",
       "      <td>[0.0, 1.0, 2.0, 3.0, 4.0, 5.0, 6.0, 7.0, 8.0, ...</td>\n",
       "    </tr>\n",
       "    <tr>\n",
       "      <th>1</th>\n",
       "      <td>2</td>\n",
       "      <td>20230612_101430_standard_comp_to_training_D1_s...</td>\n",
       "      <td>[[980, 1180], [3376, 3575], [5672, 5871], [746...</td>\n",
       "      <td>[[490, 514], [518, 558], [558, 637], [638, 640...</td>\n",
       "      <td>[[33021, 33027], [33502, 33503], [33504, 33506...</td>\n",
       "      <td>20230612_101430_standard_comp_to_training_D1_s...</td>\n",
       "      <td>/scratch/back_up/reward_competition_extention/...</td>\n",
       "      <td>20230612_101430_standard_comp_to_training_D1_s...</td>\n",
       "      <td>1.3</td>\n",
       "      <td>1.3</td>\n",
       "      <td>...</td>\n",
       "      <td>[-0.62610334, 0.039095968, 0.21467249, 0.60808...</td>\n",
       "      <td>[-0.8748, -0.4461616, -0.28834346, 0.007925385...</td>\n",
       "      <td>[-3.0228662, -2.0309567, -1.6685622, -1.346504...</td>\n",
       "      <td>[[0.041817404, 0.08001584, 0.089131445, 0.0703...</td>\n",
       "      <td>[[0.006807263, 0.018917628, 0.023094367, 0.026...</td>\n",
       "      <td>[[0.020440647, 0.051639214, 0.062006716, 0.059...</td>\n",
       "      <td>[[0.0428919, 0.02788801, 0.051582906, 0.053326...</td>\n",
       "      <td>[[0.008977723, 0.005360422, 0.015187492, 0.014...</td>\n",
       "      <td>[10000, 20000, 30000, 40000, 50000, 60000, 700...</td>\n",
       "      <td>[0.0, 1.0, 2.0, 3.0, 4.0, 5.0, 6.0, 7.0, 8.0, ...</td>\n",
       "    </tr>\n",
       "    <tr>\n",
       "      <th>2</th>\n",
       "      <td>2</td>\n",
       "      <td>20230612_101430_standard_comp_to_training_D1_s...</td>\n",
       "      <td>[[980, 1181], [3376, 3575], [5672, 5871], [746...</td>\n",
       "      <td>[[490, 514], [518, 558], [558, 637], [638, 640...</td>\n",
       "      <td>[[33137, 33147], [33665, 33666], [33668, 33669...</td>\n",
       "      <td>20230612_101430_standard_comp_to_training_D1_s...</td>\n",
       "      <td>/scratch/back_up/reward_competition_extention/...</td>\n",
       "      <td>20230612_101430_standard_comp_to_training_D1_s...</td>\n",
       "      <td>1.4</td>\n",
       "      <td>1.4</td>\n",
       "      <td>...</td>\n",
       "      <td>[-0.7881294, -0.28287637, -0.14779639, 0.17571...</td>\n",
       "      <td>[-2.1103802, -1.5603422, -1.2369094, -0.990382...</td>\n",
       "      <td>[-2.73681, -1.8883948, -1.543798, -1.2569945, ...</td>\n",
       "      <td>[[0.00027959025, 0.0005572859, 0.0021156531, 0...</td>\n",
       "      <td>[[0.010760473, 0.0112870205, 0.00968689, 0.003...</td>\n",
       "      <td>[[0.014777711, 0.015996255, 0.014629032, 0.005...</td>\n",
       "      <td>[[0.00058458163, 0.0018011965, 0.0063364967, 0...</td>\n",
       "      <td>[[0.0012987665, 0.0016842749, 0.005790464, 0.0...</td>\n",
       "      <td>[10000, 20000, 30000, 40000, 50000, 60000, 700...</td>\n",
       "      <td>[0.0, 1.0, 2.0, 3.0, 4.0, 5.0, 6.0, 7.0, 8.0, ...</td>\n",
       "    </tr>\n",
       "    <tr>\n",
       "      <th>3</th>\n",
       "      <td>2</td>\n",
       "      <td>20230612_101430_standard_comp_to_training_D1_s...</td>\n",
       "      <td>[[980, 1180], [3376, 3575], [5672, 5871], [746...</td>\n",
       "      <td>[[490, 514], [518, 558], [558, 637], [638, 640...</td>\n",
       "      <td>[[33021, 33027], [33502, 33503], [33504, 33506...</td>\n",
       "      <td>20230612_101430_standard_comp_to_training_D1_s...</td>\n",
       "      <td>/scratch/back_up/reward_competition_extention/...</td>\n",
       "      <td>20230612_101430_standard_comp_to_training_D1_s...</td>\n",
       "      <td>1.4</td>\n",
       "      <td>1.4</td>\n",
       "      <td>...</td>\n",
       "      <td>[-0.7881294, -0.28287637, -0.14779639, 0.17571...</td>\n",
       "      <td>[-2.1103802, -1.5603422, -1.2369094, -0.990382...</td>\n",
       "      <td>[-2.73681, -1.8883948, -1.543798, -1.2569945, ...</td>\n",
       "      <td>[[0.00027959025, 0.0005572859, 0.0021156531, 0...</td>\n",
       "      <td>[[0.010760473, 0.0112870205, 0.00968689, 0.003...</td>\n",
       "      <td>[[0.014777711, 0.015996255, 0.014629032, 0.005...</td>\n",
       "      <td>[[0.00058458163, 0.0018011965, 0.0063364967, 0...</td>\n",
       "      <td>[[0.0012987665, 0.0016842749, 0.005790464, 0.0...</td>\n",
       "      <td>[10000, 20000, 30000, 40000, 50000, 60000, 700...</td>\n",
       "      <td>[0.0, 1.0, 2.0, 3.0, 4.0, 5.0, 6.0, 7.0, 8.0, ...</td>\n",
       "    </tr>\n",
       "    <tr>\n",
       "      <th>4</th>\n",
       "      <td>2</td>\n",
       "      <td>20230612_112630_standard_comp_to_training_D1_s...</td>\n",
       "      <td>[[1125, 1324], [3519, 3720], [5815, 6014], [76...</td>\n",
       "      <td>[[192, 248], [389, 405], [916, 929], [929, 948...</td>\n",
       "      <td>[[33019, 33020], [33246, 33251], [33253, 33255...</td>\n",
       "      <td>20230612_112630_standard_comp_to_training_D1_s...</td>\n",
       "      <td>/scratch/back_up/reward_competition_extention/...</td>\n",
       "      <td>20230612_112630_standard_comp_to_training_D1_s...</td>\n",
       "      <td>1.1</td>\n",
       "      <td>1.1</td>\n",
       "      <td>...</td>\n",
       "      <td>[-0.4598045, 0.29552463, 0.47730917, 0.833683,...</td>\n",
       "      <td>[-0.2802983, 0.5856882, 0.8404229, 1.2053651, ...</td>\n",
       "      <td>[-0.9270562, -0.53690314, -0.3525835, -0.06202...</td>\n",
       "      <td>[[0.022477785, 0.0101999175, 0.030472966, 0.01...</td>\n",
       "      <td>[[0.010697854, 0.007154049, 0.0068371347, 0.00...</td>\n",
       "      <td>[[0.019294195, 0.012947861, 0.010457477, 0.003...</td>\n",
       "      <td>[[0.008735002, 0.006079931, 0.006363414, 0.003...</td>\n",
       "      <td>[[0.0008627979, 0.0063495818, 0.0063588903, 0....</td>\n",
       "      <td>[10000, 20000, 30000, 40000, 50000, 60000, 700...</td>\n",
       "      <td>[0.0, 1.0, 2.0, 3.0, 4.0, 5.0, 6.0, 7.0, 8.0, ...</td>\n",
       "    </tr>\n",
       "  </tbody>\n",
       "</table>\n",
       "<p>5 rows × 55 columns</p>\n",
       "</div>"
      ],
      "text/plain": [
       "   cohort                                        session_dir  \\\n",
       "0       2  20230612_101430_standard_comp_to_training_D1_s...   \n",
       "1       2  20230612_101430_standard_comp_to_training_D1_s...   \n",
       "2       2  20230612_101430_standard_comp_to_training_D1_s...   \n",
       "3       2  20230612_101430_standard_comp_to_training_D1_s...   \n",
       "4       2  20230612_112630_standard_comp_to_training_D1_s...   \n",
       "\n",
       "                                         tone_frames  \\\n",
       "0  [[980, 1181], [3376, 3575], [5672, 5871], [746...   \n",
       "1  [[980, 1180], [3376, 3575], [5672, 5871], [746...   \n",
       "2  [[980, 1181], [3376, 3575], [5672, 5871], [746...   \n",
       "3  [[980, 1180], [3376, 3575], [5672, 5871], [746...   \n",
       "4  [[1125, 1324], [3519, 3720], [5815, 6014], [76...   \n",
       "\n",
       "                             box_1_port_entry_frames  \\\n",
       "0  [[490, 514], [518, 558], [558, 637], [638, 640...   \n",
       "1  [[490, 514], [518, 558], [558, 637], [638, 640...   \n",
       "2  [[490, 514], [518, 558], [558, 637], [638, 640...   \n",
       "3  [[490, 514], [518, 558], [558, 637], [638, 640...   \n",
       "4  [[192, 248], [389, 405], [916, 929], [929, 948...   \n",
       "\n",
       "                             box_2_port_entry_frames  \\\n",
       "0  [[33137, 33147], [33665, 33666], [33668, 33669...   \n",
       "1  [[33021, 33027], [33502, 33503], [33504, 33506...   \n",
       "2  [[33137, 33147], [33665, 33666], [33668, 33669...   \n",
       "3  [[33021, 33027], [33502, 33503], [33504, 33506...   \n",
       "4  [[33019, 33020], [33246, 33251], [33253, 33255...   \n",
       "\n",
       "                                          video_name  \\\n",
       "0  20230612_101430_standard_comp_to_training_D1_s...   \n",
       "1  20230612_101430_standard_comp_to_training_D1_s...   \n",
       "2  20230612_101430_standard_comp_to_training_D1_s...   \n",
       "3  20230612_101430_standard_comp_to_training_D1_s...   \n",
       "4  20230612_112630_standard_comp_to_training_D1_s...   \n",
       "\n",
       "                                        session_path  \\\n",
       "0  /scratch/back_up/reward_competition_extention/...   \n",
       "1  /scratch/back_up/reward_competition_extention/...   \n",
       "2  /scratch/back_up/reward_competition_extention/...   \n",
       "3  /scratch/back_up/reward_competition_extention/...   \n",
       "4  /scratch/back_up/reward_competition_extention/...   \n",
       "\n",
       "                                           recording current_subject subject  \\\n",
       "0  20230612_101430_standard_comp_to_training_D1_s...             1.3     1.3   \n",
       "1  20230612_101430_standard_comp_to_training_D1_s...             1.3     1.3   \n",
       "2  20230612_101430_standard_comp_to_training_D1_s...             1.4     1.4   \n",
       "3  20230612_101430_standard_comp_to_training_D1_s...             1.4     1.4   \n",
       "4  20230612_112630_standard_comp_to_training_D1_s...             1.1     1.1   \n",
       "\n",
       "   ...                                     LH_gamma_phase  \\\n",
       "0  ...  [-0.62610334, 0.039095968, 0.21467249, 0.60808...   \n",
       "1  ...  [-0.62610334, 0.039095968, 0.21467249, 0.60808...   \n",
       "2  ...  [-0.7881294, -0.28287637, -0.14779639, 0.17571...   \n",
       "3  ...  [-0.7881294, -0.28287637, -0.14779639, 0.17571...   \n",
       "4  ...  [-0.4598045, 0.29552463, 0.47730917, 0.833683,...   \n",
       "\n",
       "                                     BLA_gamma_phase  \\\n",
       "0  [-0.8748, -0.4461616, -0.28834346, 0.007925385...   \n",
       "1  [-0.8748, -0.4461616, -0.28834346, 0.007925385...   \n",
       "2  [-2.1103802, -1.5603422, -1.2369094, -0.990382...   \n",
       "3  [-2.1103802, -1.5603422, -1.2369094, -0.990382...   \n",
       "4  [-0.2802983, 0.5856882, 0.8404229, 1.2053651, ...   \n",
       "\n",
       "                                    vHPC_gamma_phase  \\\n",
       "0  [-3.0228662, -2.0309567, -1.6685622, -1.346504...   \n",
       "1  [-3.0228662, -2.0309567, -1.6685622, -1.346504...   \n",
       "2  [-2.73681, -1.8883948, -1.543798, -1.2569945, ...   \n",
       "3  [-2.73681, -1.8883948, -1.543798, -1.2569945, ...   \n",
       "4  [-0.9270562, -0.53690314, -0.3525835, -0.06202...   \n",
       "\n",
       "  mPFC_RMS_filtered_power_all_frequencies_all_windows  \\\n",
       "0  [[0.041817404, 0.08001584, 0.089131445, 0.0703...    \n",
       "1  [[0.041817404, 0.08001584, 0.089131445, 0.0703...    \n",
       "2  [[0.00027959025, 0.0005572859, 0.0021156531, 0...    \n",
       "3  [[0.00027959025, 0.0005572859, 0.0021156531, 0...    \n",
       "4  [[0.022477785, 0.0101999175, 0.030472966, 0.01...    \n",
       "\n",
       "   MD_RMS_filtered_power_all_frequencies_all_windows  \\\n",
       "0  [[0.006807263, 0.018917628, 0.023094367, 0.026...   \n",
       "1  [[0.006807263, 0.018917628, 0.023094367, 0.026...   \n",
       "2  [[0.010760473, 0.0112870205, 0.00968689, 0.003...   \n",
       "3  [[0.010760473, 0.0112870205, 0.00968689, 0.003...   \n",
       "4  [[0.010697854, 0.007154049, 0.0068371347, 0.00...   \n",
       "\n",
       "   LH_RMS_filtered_power_all_frequencies_all_windows  \\\n",
       "0  [[0.020440647, 0.051639214, 0.062006716, 0.059...   \n",
       "1  [[0.020440647, 0.051639214, 0.062006716, 0.059...   \n",
       "2  [[0.014777711, 0.015996255, 0.014629032, 0.005...   \n",
       "3  [[0.014777711, 0.015996255, 0.014629032, 0.005...   \n",
       "4  [[0.019294195, 0.012947861, 0.010457477, 0.003...   \n",
       "\n",
       "  BLA_RMS_filtered_power_all_frequencies_all_windows  \\\n",
       "0  [[0.0428919, 0.02788801, 0.051582906, 0.053326...   \n",
       "1  [[0.0428919, 0.02788801, 0.051582906, 0.053326...   \n",
       "2  [[0.00058458163, 0.0018011965, 0.0063364967, 0...   \n",
       "3  [[0.00058458163, 0.0018011965, 0.0063364967, 0...   \n",
       "4  [[0.008735002, 0.006079931, 0.006363414, 0.003...   \n",
       "\n",
       "  vHPC_RMS_filtered_power_all_frequencies_all_windows  \\\n",
       "0  [[0.008977723, 0.005360422, 0.015187492, 0.014...    \n",
       "1  [[0.008977723, 0.005360422, 0.015187492, 0.014...    \n",
       "2  [[0.0012987665, 0.0016842749, 0.005790464, 0.0...    \n",
       "3  [[0.0012987665, 0.0016842749, 0.005790464, 0.0...    \n",
       "4  [[0.0008627979, 0.0063495818, 0.0063588903, 0....    \n",
       "\n",
       "                                    power_timestamps  \\\n",
       "0  [10000, 20000, 30000, 40000, 50000, 60000, 700...   \n",
       "1  [10000, 20000, 30000, 40000, 50000, 60000, 700...   \n",
       "2  [10000, 20000, 30000, 40000, 50000, 60000, 700...   \n",
       "3  [10000, 20000, 30000, 40000, 50000, 60000, 700...   \n",
       "4  [10000, 20000, 30000, 40000, 50000, 60000, 700...   \n",
       "\n",
       "                       power_calculation_frequencies  \n",
       "0  [0.0, 1.0, 2.0, 3.0, 4.0, 5.0, 6.0, 7.0, 8.0, ...  \n",
       "1  [0.0, 1.0, 2.0, 3.0, 4.0, 5.0, 6.0, 7.0, 8.0, ...  \n",
       "2  [0.0, 1.0, 2.0, 3.0, 4.0, 5.0, 6.0, 7.0, 8.0, ...  \n",
       "3  [0.0, 1.0, 2.0, 3.0, 4.0, 5.0, 6.0, 7.0, 8.0, ...  \n",
       "4  [0.0, 1.0, 2.0, 3.0, 4.0, 5.0, 6.0, 7.0, 8.0, ...  \n",
       "\n",
       "[5 rows x 55 columns]"
      ]
     },
     "execution_count": 80,
     "metadata": {},
     "output_type": "execute_result"
    }
   ],
   "source": [
    "LFP_TRACES_DF.head()"
   ]
  },
  {
   "cell_type": "markdown",
   "metadata": {},
   "source": [
    "# Getting all the pairs"
   ]
  },
  {
   "cell_type": "code",
   "execution_count": 81,
   "metadata": {
    "tags": []
   },
   "outputs": [
    {
     "data": {
      "text/plain": [
       "['mPFC_lfp_RMS_filtered',\n",
       " 'MD_lfp_RMS_filtered',\n",
       " 'LH_lfp_RMS_filtered',\n",
       " 'BLA_lfp_RMS_filtered',\n",
       " 'vHPC_lfp_RMS_filtered']"
      ]
     },
     "execution_count": 81,
     "metadata": {},
     "output_type": "execute_result"
    }
   ],
   "source": [
    "input_columns"
   ]
  },
  {
   "cell_type": "code",
   "execution_count": 82,
   "metadata": {
    "tags": []
   },
   "outputs": [],
   "source": [
    "all_suffixes = set([\"_\".join(col.split(\"_\")[1:]) for col in input_columns])"
   ]
  },
  {
   "cell_type": "code",
   "execution_count": 83,
   "metadata": {
    "tags": []
   },
   "outputs": [
    {
     "data": {
      "text/plain": [
       "{'lfp_RMS_filtered'}"
      ]
     },
     "execution_count": 83,
     "metadata": {},
     "output_type": "execute_result"
    }
   ],
   "source": [
    "all_suffixes"
   ]
  },
  {
   "cell_type": "code",
   "execution_count": 84,
   "metadata": {
    "tags": []
   },
   "outputs": [],
   "source": [
    "brain_region_pairs = generate_pairs(sorted(list(set([col.split(\"lfp\")[0].strip(\"_\") for col in sorted(input_columns)]))))"
   ]
  },
  {
   "cell_type": "code",
   "execution_count": 85,
   "metadata": {
    "tags": []
   },
   "outputs": [
    {
     "data": {
      "text/plain": [
       "[('BLA', 'LH'),\n",
       " ('BLA', 'MD'),\n",
       " ('BLA', 'mPFC'),\n",
       " ('BLA', 'vHPC'),\n",
       " ('LH', 'MD'),\n",
       " ('LH', 'mPFC'),\n",
       " ('LH', 'vHPC'),\n",
       " ('MD', 'mPFC'),\n",
       " ('MD', 'vHPC'),\n",
       " ('mPFC', 'vHPC')]"
      ]
     },
     "execution_count": 85,
     "metadata": {},
     "output_type": "execute_result"
    }
   ],
   "source": [
    "brain_region_pairs"
   ]
  },
  {
   "cell_type": "code",
   "execution_count": 86,
   "metadata": {},
   "outputs": [
    {
     "name": "stdout",
     "output_type": "stream",
     "text": [
      "BLA_LH_RMS_filtered\n",
      "BLA_MD_RMS_filtered\n",
      "BLA_mPFC_RMS_filtered\n",
      "BLA_vHPC_RMS_filtered\n",
      "LH_MD_RMS_filtered\n",
      "LH_mPFC_RMS_filtered\n",
      "LH_vHPC_RMS_filtered\n",
      "MD_mPFC_RMS_filtered\n",
      "MD_vHPC_RMS_filtered\n",
      "mPFC_vHPC_RMS_filtered\n"
     ]
    }
   ],
   "source": [
    "for first_region, second_region in brain_region_pairs:\n",
    "    for suffix in all_suffixes:\n",
    "        suffix_for_name = suffix.replace(\"lfp\", \"\").strip(\"_\")\n",
    "        region_1 = \"_\".join([first_region, suffix])\n",
    "        region_2 = \"_\".join([second_region, suffix])\n",
    "         # Define base name for pair\n",
    "        pair_base_name = f\"{region_1.split('_')[0]}_{region_2.split('_')[0]}_{suffix_for_name}\"\n",
    "        print(pair_base_name)"
   ]
  },
  {
   "cell_type": "markdown",
   "metadata": {},
   "source": [
    "## Coherece Calculation"
   ]
  },
  {
   "cell_type": "code",
   "execution_count": 87,
   "metadata": {
    "tags": []
   },
   "outputs": [],
   "source": [
    "LFP_TRACES_DF = LFP_TRACES_DF.drop(columns=[col for col in LFP_TRACES_DF if \"coherence\" in col or \"trace_filtered\" in col], errors=\"ignore\")"
   ]
  },
  {
   "cell_type": "code",
   "execution_count": 88,
   "metadata": {
    "tags": []
   },
   "outputs": [
    {
     "data": {
      "text/plain": [
       "Index(['cohort', 'session_dir', 'tone_frames', 'box_1_port_entry_frames',\n",
       "       'box_2_port_entry_frames', 'video_name', 'session_path', 'recording',\n",
       "       'current_subject', 'subject', 'all_subjects', 'first_timestamp',\n",
       "       'last_timestamp', 'video_timestamps', 'tone_timestamps',\n",
       "       'box_1_port_entry_timestamps', 'box_2_port_entry_timestamps',\n",
       "       'lfp_timestamps', 'mPFC_lfp_RMS_filtered', 'MD_lfp_RMS_filtered',\n",
       "       'LH_lfp_RMS_filtered', 'BLA_lfp_RMS_filtered', 'vHPC_lfp_RMS_filtered',\n",
       "       'mPFC_lfp_RMS_interpolated', 'MD_lfp_RMS_interpolated',\n",
       "       'LH_lfp_RMS_interpolated', 'BLA_lfp_RMS_interpolated',\n",
       "       'vHPC_lfp_RMS_interpolated', 'mPFC_theta_band', 'MD_theta_band',\n",
       "       'LH_theta_band', 'BLA_theta_band', 'vHPC_theta_band', 'mPFC_gamma_band',\n",
       "       'MD_gamma_band', 'LH_gamma_band', 'BLA_gamma_band', 'vHPC_gamma_band',\n",
       "       'mPFC_theta_phase', 'MD_theta_phase', 'LH_theta_phase',\n",
       "       'BLA_theta_phase', 'vHPC_theta_phase', 'mPFC_gamma_phase',\n",
       "       'MD_gamma_phase', 'LH_gamma_phase', 'BLA_gamma_phase',\n",
       "       'vHPC_gamma_phase',\n",
       "       'mPFC_RMS_filtered_power_all_frequencies_all_windows',\n",
       "       'MD_RMS_filtered_power_all_frequencies_all_windows',\n",
       "       'LH_RMS_filtered_power_all_frequencies_all_windows',\n",
       "       'BLA_RMS_filtered_power_all_frequencies_all_windows',\n",
       "       'vHPC_RMS_filtered_power_all_frequencies_all_windows',\n",
       "       'power_timestamps', 'power_calculation_frequencies'],\n",
       "      dtype='object')"
      ]
     },
     "execution_count": 88,
     "metadata": {},
     "output_type": "execute_result"
    }
   ],
   "source": [
    "LFP_TRACES_DF.columns"
   ]
  },
  {
   "cell_type": "markdown",
   "metadata": {},
   "source": [
    "- Calculating the coherence"
   ]
  },
  {
   "cell_type": "code",
   "execution_count": 89,
   "metadata": {
    "tags": []
   },
   "outputs": [],
   "source": [
    "column_to_recording_dict = recursive_defaultdict()"
   ]
  },
  {
   "cell_type": "code",
   "execution_count": 90,
   "metadata": {
    "tags": []
   },
   "outputs": [
    {
     "name": "stdout",
     "output_type": "stream",
     "text": [
      "BLA_lfp_RMS_filtered\n",
      "LH_lfp_RMS_filtered\n",
      "BLA_LH_RMS_filtered\n",
      "\t 20230612_101430_standard_comp_to_training_D1_subj_1-3_t3b3L_box2_merged\n",
      "\t 20230612_101430_standard_comp_to_training_D1_subj_1-4_t4b2L_box1_merged\n",
      "\t 20230612_112630_standard_comp_to_training_D1_subj_1-1_t1b3L_box2_merged\n",
      "\t 20230612_112630_standard_comp_to_training_D1_subj_1-2_t2b2L_box1_merged\n",
      "\t 20230613_105657_standard_comp_to_training_D2_subj_1-1_t1b2L_box1_merged\n",
      "\t 20230613_105657_standard_comp_to_training_D2_subj_1-4_t4b3L_box2_merged\n",
      "\t 20230614_114041_standard_comp_to_training_D3_subj_1-1_t1b3L_box1_merged\n",
      "\t 20230614_114041_standard_comp_to_training_D3_subj_1-2_t2b2L_box2_merged\n",
      "\t 20230616_111904_standard_comp_to_training_D4_subj_1-2_t2b2L_box2_merged\n",
      "\t 20230616_111904_standard_comp_to_training_D4_subj_1-4_t4b3L_box1_merged\n",
      "\t 20230617_115521_standard_comp_to_omission_D1_subj_1-1_t1b3L_box1_merged\n",
      "\t 20230617_115521_standard_comp_to_omission_D1_subj_1-2_t2b2L_box2_merged\n",
      "\t 20230618_100636_standard_comp_to_omission_D2_subj_1_1_t1b2L_box2_merged\n",
      "\t 20230618_100636_standard_comp_to_omission_D2_subj_1_4_t4b3L_box1_merged\n",
      "\t 20230619_115321_standard_comp_to_omission_D3_subj_1-4_t3b3L_box2_merged\n",
      "\t 20230620_114347_standard_comp_to_omission_D4_subj_1-1_t1b2L_box_2_merged\n",
      "\t 20230620_114347_standard_comp_to_omission_D4_subj_1-2_t3b3L_box_1_merged\n",
      "\t 20230621_111240_standard_comp_to_omission_D5_subj_1-4_t3b3L_box1_merged\n",
      "\t 20230622_110832_standard_comp_to_both_rewarded_D1_subj_1-1_t1b3L_box1_merged\n",
      "\t 20230622_110832_standard_comp_to_both_rewarded_D1_subj_1-2_t3b3L_box1_merged\n",
      "\t 20230624_105855_standard_comp_to_both_rewarded_D3_subj_1-1_t1b2L_box1_merged\n",
      "\t 20230624_105855_standard_comp_to_both_rewarded_D3_subj_1-4_t3b3L_box1_merged\n",
      "\t 20230625_112913_standard_comp_to_both_rewarded_D4_subj_1-1_t1b2L_box1_merged\n",
      "\t 20230625_112913_standard_comp_to_both_rewarded_D4_subj_1-4_t3b3L_box1_merged\n",
      "\t 20230628_111202_standard_comp_to_novel_agent_D1_subj_1-1vs1-2and2-2_merged\n",
      "\t 20230628_111202_standard_comp_to_novel_agent_D1_subj_1-2vs1-1and2-1_merged\n",
      "\t 20230629_111937_standard_comp_to_novel_agent_D2_subj_1-1v1-4and2-1_merged\n",
      "\t 20230629_111937_standard_comp_to_novel_agent_D2_subj_1-4vs1-1and2-2_merged\n",
      "\t 20230630_115506_standard_comp_to_novel_agent_D3_subj_1-2vs1-4and2-2_merged\n",
      "\t 20230630_115506_standard_comp_to_novel_agent_D3_subj_1-4vs1-2and2-1_merged\n",
      "BLA_lfp_RMS_filtered\n",
      "MD_lfp_RMS_filtered\n",
      "BLA_MD_RMS_filtered\n",
      "\t 20230612_101430_standard_comp_to_training_D1_subj_1-3_t3b3L_box2_merged\n",
      "\t 20230612_101430_standard_comp_to_training_D1_subj_1-4_t4b2L_box1_merged\n",
      "\t 20230612_112630_standard_comp_to_training_D1_subj_1-1_t1b3L_box2_merged\n",
      "\t 20230612_112630_standard_comp_to_training_D1_subj_1-2_t2b2L_box1_merged\n",
      "\t 20230613_105657_standard_comp_to_training_D2_subj_1-1_t1b2L_box1_merged\n",
      "\t 20230613_105657_standard_comp_to_training_D2_subj_1-4_t4b3L_box2_merged\n",
      "\t 20230614_114041_standard_comp_to_training_D3_subj_1-1_t1b3L_box1_merged\n",
      "\t 20230614_114041_standard_comp_to_training_D3_subj_1-2_t2b2L_box2_merged\n",
      "\t 20230616_111904_standard_comp_to_training_D4_subj_1-2_t2b2L_box2_merged\n",
      "\t 20230616_111904_standard_comp_to_training_D4_subj_1-4_t4b3L_box1_merged\n",
      "\t 20230617_115521_standard_comp_to_omission_D1_subj_1-1_t1b3L_box1_merged\n",
      "\t 20230617_115521_standard_comp_to_omission_D1_subj_1-2_t2b2L_box2_merged\n",
      "\t 20230618_100636_standard_comp_to_omission_D2_subj_1_1_t1b2L_box2_merged\n",
      "\t 20230618_100636_standard_comp_to_omission_D2_subj_1_4_t4b3L_box1_merged\n",
      "\t 20230619_115321_standard_comp_to_omission_D3_subj_1-4_t3b3L_box2_merged\n",
      "\t 20230620_114347_standard_comp_to_omission_D4_subj_1-1_t1b2L_box_2_merged\n",
      "\t 20230620_114347_standard_comp_to_omission_D4_subj_1-2_t3b3L_box_1_merged\n",
      "\t 20230621_111240_standard_comp_to_omission_D5_subj_1-4_t3b3L_box1_merged\n",
      "\t 20230622_110832_standard_comp_to_both_rewarded_D1_subj_1-1_t1b3L_box1_merged\n",
      "\t 20230622_110832_standard_comp_to_both_rewarded_D1_subj_1-2_t3b3L_box1_merged\n",
      "\t 20230624_105855_standard_comp_to_both_rewarded_D3_subj_1-1_t1b2L_box1_merged\n",
      "\t 20230624_105855_standard_comp_to_both_rewarded_D3_subj_1-4_t3b3L_box1_merged\n",
      "\t 20230625_112913_standard_comp_to_both_rewarded_D4_subj_1-1_t1b2L_box1_merged\n",
      "\t 20230625_112913_standard_comp_to_both_rewarded_D4_subj_1-4_t3b3L_box1_merged\n",
      "\t 20230628_111202_standard_comp_to_novel_agent_D1_subj_1-1vs1-2and2-2_merged\n",
      "\t 20230628_111202_standard_comp_to_novel_agent_D1_subj_1-2vs1-1and2-1_merged\n",
      "\t 20230629_111937_standard_comp_to_novel_agent_D2_subj_1-1v1-4and2-1_merged\n",
      "\t 20230629_111937_standard_comp_to_novel_agent_D2_subj_1-4vs1-1and2-2_merged\n",
      "\t 20230630_115506_standard_comp_to_novel_agent_D3_subj_1-2vs1-4and2-2_merged\n",
      "\t 20230630_115506_standard_comp_to_novel_agent_D3_subj_1-4vs1-2and2-1_merged\n",
      "BLA_lfp_RMS_filtered\n",
      "mPFC_lfp_RMS_filtered\n",
      "BLA_mPFC_RMS_filtered\n",
      "\t 20230612_101430_standard_comp_to_training_D1_subj_1-3_t3b3L_box2_merged\n",
      "\t 20230612_101430_standard_comp_to_training_D1_subj_1-4_t4b2L_box1_merged\n",
      "\t 20230612_112630_standard_comp_to_training_D1_subj_1-1_t1b3L_box2_merged\n",
      "\t 20230612_112630_standard_comp_to_training_D1_subj_1-2_t2b2L_box1_merged\n",
      "\t 20230613_105657_standard_comp_to_training_D2_subj_1-1_t1b2L_box1_merged\n",
      "\t 20230613_105657_standard_comp_to_training_D2_subj_1-4_t4b3L_box2_merged\n",
      "\t 20230614_114041_standard_comp_to_training_D3_subj_1-1_t1b3L_box1_merged\n",
      "\t 20230614_114041_standard_comp_to_training_D3_subj_1-2_t2b2L_box2_merged\n",
      "\t 20230616_111904_standard_comp_to_training_D4_subj_1-2_t2b2L_box2_merged\n",
      "\t 20230616_111904_standard_comp_to_training_D4_subj_1-4_t4b3L_box1_merged\n",
      "\t 20230617_115521_standard_comp_to_omission_D1_subj_1-1_t1b3L_box1_merged\n",
      "\t 20230617_115521_standard_comp_to_omission_D1_subj_1-2_t2b2L_box2_merged\n",
      "\t 20230618_100636_standard_comp_to_omission_D2_subj_1_1_t1b2L_box2_merged\n",
      "\t 20230618_100636_standard_comp_to_omission_D2_subj_1_4_t4b3L_box1_merged\n",
      "\t 20230619_115321_standard_comp_to_omission_D3_subj_1-4_t3b3L_box2_merged\n",
      "\t 20230620_114347_standard_comp_to_omission_D4_subj_1-1_t1b2L_box_2_merged\n",
      "\t 20230620_114347_standard_comp_to_omission_D4_subj_1-2_t3b3L_box_1_merged\n",
      "\t 20230621_111240_standard_comp_to_omission_D5_subj_1-4_t3b3L_box1_merged\n",
      "\t 20230622_110832_standard_comp_to_both_rewarded_D1_subj_1-1_t1b3L_box1_merged\n",
      "\t 20230622_110832_standard_comp_to_both_rewarded_D1_subj_1-2_t3b3L_box1_merged\n",
      "\t 20230624_105855_standard_comp_to_both_rewarded_D3_subj_1-1_t1b2L_box1_merged\n",
      "\t 20230624_105855_standard_comp_to_both_rewarded_D3_subj_1-4_t3b3L_box1_merged\n",
      "\t 20230625_112913_standard_comp_to_both_rewarded_D4_subj_1-1_t1b2L_box1_merged\n",
      "\t 20230625_112913_standard_comp_to_both_rewarded_D4_subj_1-4_t3b3L_box1_merged\n",
      "\t 20230628_111202_standard_comp_to_novel_agent_D1_subj_1-1vs1-2and2-2_merged\n",
      "\t 20230628_111202_standard_comp_to_novel_agent_D1_subj_1-2vs1-1and2-1_merged\n",
      "\t 20230629_111937_standard_comp_to_novel_agent_D2_subj_1-1v1-4and2-1_merged\n",
      "\t 20230629_111937_standard_comp_to_novel_agent_D2_subj_1-4vs1-1and2-2_merged\n",
      "\t 20230630_115506_standard_comp_to_novel_agent_D3_subj_1-2vs1-4and2-2_merged\n",
      "\t 20230630_115506_standard_comp_to_novel_agent_D3_subj_1-4vs1-2and2-1_merged\n",
      "BLA_lfp_RMS_filtered\n",
      "vHPC_lfp_RMS_filtered\n",
      "BLA_vHPC_RMS_filtered\n",
      "\t 20230612_101430_standard_comp_to_training_D1_subj_1-3_t3b3L_box2_merged\n",
      "\t 20230612_101430_standard_comp_to_training_D1_subj_1-4_t4b2L_box1_merged\n",
      "\t 20230612_112630_standard_comp_to_training_D1_subj_1-1_t1b3L_box2_merged\n",
      "\t 20230612_112630_standard_comp_to_training_D1_subj_1-2_t2b2L_box1_merged\n",
      "\t 20230613_105657_standard_comp_to_training_D2_subj_1-1_t1b2L_box1_merged\n",
      "\t 20230613_105657_standard_comp_to_training_D2_subj_1-4_t4b3L_box2_merged\n",
      "\t 20230614_114041_standard_comp_to_training_D3_subj_1-1_t1b3L_box1_merged\n",
      "\t 20230614_114041_standard_comp_to_training_D3_subj_1-2_t2b2L_box2_merged\n",
      "\t 20230616_111904_standard_comp_to_training_D4_subj_1-2_t2b2L_box2_merged\n",
      "\t 20230616_111904_standard_comp_to_training_D4_subj_1-4_t4b3L_box1_merged\n",
      "\t 20230617_115521_standard_comp_to_omission_D1_subj_1-1_t1b3L_box1_merged\n",
      "\t 20230617_115521_standard_comp_to_omission_D1_subj_1-2_t2b2L_box2_merged\n",
      "\t 20230618_100636_standard_comp_to_omission_D2_subj_1_1_t1b2L_box2_merged\n",
      "\t 20230618_100636_standard_comp_to_omission_D2_subj_1_4_t4b3L_box1_merged\n",
      "\t 20230619_115321_standard_comp_to_omission_D3_subj_1-4_t3b3L_box2_merged\n",
      "\t 20230620_114347_standard_comp_to_omission_D4_subj_1-1_t1b2L_box_2_merged\n",
      "\t 20230620_114347_standard_comp_to_omission_D4_subj_1-2_t3b3L_box_1_merged\n",
      "\t 20230621_111240_standard_comp_to_omission_D5_subj_1-4_t3b3L_box1_merged\n",
      "\t 20230622_110832_standard_comp_to_both_rewarded_D1_subj_1-1_t1b3L_box1_merged\n",
      "\t 20230622_110832_standard_comp_to_both_rewarded_D1_subj_1-2_t3b3L_box1_merged\n",
      "\t 20230624_105855_standard_comp_to_both_rewarded_D3_subj_1-1_t1b2L_box1_merged\n",
      "\t 20230624_105855_standard_comp_to_both_rewarded_D3_subj_1-4_t3b3L_box1_merged\n",
      "\t 20230625_112913_standard_comp_to_both_rewarded_D4_subj_1-1_t1b2L_box1_merged\n",
      "\t 20230625_112913_standard_comp_to_both_rewarded_D4_subj_1-4_t3b3L_box1_merged\n",
      "\t 20230628_111202_standard_comp_to_novel_agent_D1_subj_1-1vs1-2and2-2_merged\n",
      "\t 20230628_111202_standard_comp_to_novel_agent_D1_subj_1-2vs1-1and2-1_merged\n",
      "\t 20230629_111937_standard_comp_to_novel_agent_D2_subj_1-1v1-4and2-1_merged\n",
      "\t 20230629_111937_standard_comp_to_novel_agent_D2_subj_1-4vs1-1and2-2_merged\n",
      "\t 20230630_115506_standard_comp_to_novel_agent_D3_subj_1-2vs1-4and2-2_merged\n",
      "\t 20230630_115506_standard_comp_to_novel_agent_D3_subj_1-4vs1-2and2-1_merged\n",
      "LH_lfp_RMS_filtered\n",
      "MD_lfp_RMS_filtered\n",
      "LH_MD_RMS_filtered\n",
      "\t 20230612_101430_standard_comp_to_training_D1_subj_1-3_t3b3L_box2_merged\n",
      "\t 20230612_101430_standard_comp_to_training_D1_subj_1-4_t4b2L_box1_merged\n",
      "\t 20230612_112630_standard_comp_to_training_D1_subj_1-1_t1b3L_box2_merged\n",
      "\t 20230612_112630_standard_comp_to_training_D1_subj_1-2_t2b2L_box1_merged\n",
      "\t 20230613_105657_standard_comp_to_training_D2_subj_1-1_t1b2L_box1_merged\n",
      "\t 20230613_105657_standard_comp_to_training_D2_subj_1-4_t4b3L_box2_merged\n",
      "\t 20230614_114041_standard_comp_to_training_D3_subj_1-1_t1b3L_box1_merged\n",
      "\t 20230614_114041_standard_comp_to_training_D3_subj_1-2_t2b2L_box2_merged\n",
      "\t 20230616_111904_standard_comp_to_training_D4_subj_1-2_t2b2L_box2_merged\n",
      "\t 20230616_111904_standard_comp_to_training_D4_subj_1-4_t4b3L_box1_merged\n",
      "\t 20230617_115521_standard_comp_to_omission_D1_subj_1-1_t1b3L_box1_merged\n",
      "\t 20230617_115521_standard_comp_to_omission_D1_subj_1-2_t2b2L_box2_merged\n",
      "\t 20230618_100636_standard_comp_to_omission_D2_subj_1_1_t1b2L_box2_merged\n",
      "\t 20230618_100636_standard_comp_to_omission_D2_subj_1_4_t4b3L_box1_merged\n",
      "\t 20230619_115321_standard_comp_to_omission_D3_subj_1-4_t3b3L_box2_merged\n",
      "\t 20230620_114347_standard_comp_to_omission_D4_subj_1-1_t1b2L_box_2_merged\n",
      "\t 20230620_114347_standard_comp_to_omission_D4_subj_1-2_t3b3L_box_1_merged\n",
      "\t 20230621_111240_standard_comp_to_omission_D5_subj_1-4_t3b3L_box1_merged\n",
      "\t 20230622_110832_standard_comp_to_both_rewarded_D1_subj_1-1_t1b3L_box1_merged\n",
      "\t 20230622_110832_standard_comp_to_both_rewarded_D1_subj_1-2_t3b3L_box1_merged\n",
      "\t 20230624_105855_standard_comp_to_both_rewarded_D3_subj_1-1_t1b2L_box1_merged\n",
      "\t 20230624_105855_standard_comp_to_both_rewarded_D3_subj_1-4_t3b3L_box1_merged\n",
      "\t 20230625_112913_standard_comp_to_both_rewarded_D4_subj_1-1_t1b2L_box1_merged\n",
      "\t 20230625_112913_standard_comp_to_both_rewarded_D4_subj_1-4_t3b3L_box1_merged\n",
      "\t 20230628_111202_standard_comp_to_novel_agent_D1_subj_1-1vs1-2and2-2_merged\n",
      "\t 20230628_111202_standard_comp_to_novel_agent_D1_subj_1-2vs1-1and2-1_merged\n",
      "\t 20230629_111937_standard_comp_to_novel_agent_D2_subj_1-1v1-4and2-1_merged\n",
      "\t 20230629_111937_standard_comp_to_novel_agent_D2_subj_1-4vs1-1and2-2_merged\n",
      "\t 20230630_115506_standard_comp_to_novel_agent_D3_subj_1-2vs1-4and2-2_merged\n",
      "\t 20230630_115506_standard_comp_to_novel_agent_D3_subj_1-4vs1-2and2-1_merged\n",
      "LH_lfp_RMS_filtered\n",
      "mPFC_lfp_RMS_filtered\n",
      "LH_mPFC_RMS_filtered\n",
      "\t 20230612_101430_standard_comp_to_training_D1_subj_1-3_t3b3L_box2_merged\n",
      "\t 20230612_101430_standard_comp_to_training_D1_subj_1-4_t4b2L_box1_merged\n",
      "\t 20230612_112630_standard_comp_to_training_D1_subj_1-1_t1b3L_box2_merged\n",
      "\t 20230612_112630_standard_comp_to_training_D1_subj_1-2_t2b2L_box1_merged\n",
      "\t 20230613_105657_standard_comp_to_training_D2_subj_1-1_t1b2L_box1_merged\n",
      "\t 20230613_105657_standard_comp_to_training_D2_subj_1-4_t4b3L_box2_merged\n",
      "\t 20230614_114041_standard_comp_to_training_D3_subj_1-1_t1b3L_box1_merged\n",
      "\t 20230614_114041_standard_comp_to_training_D3_subj_1-2_t2b2L_box2_merged\n",
      "\t 20230616_111904_standard_comp_to_training_D4_subj_1-2_t2b2L_box2_merged\n",
      "\t 20230616_111904_standard_comp_to_training_D4_subj_1-4_t4b3L_box1_merged\n",
      "\t 20230617_115521_standard_comp_to_omission_D1_subj_1-1_t1b3L_box1_merged\n",
      "\t 20230617_115521_standard_comp_to_omission_D1_subj_1-2_t2b2L_box2_merged\n",
      "\t 20230618_100636_standard_comp_to_omission_D2_subj_1_1_t1b2L_box2_merged\n",
      "\t 20230618_100636_standard_comp_to_omission_D2_subj_1_4_t4b3L_box1_merged\n",
      "\t 20230619_115321_standard_comp_to_omission_D3_subj_1-4_t3b3L_box2_merged\n",
      "\t 20230620_114347_standard_comp_to_omission_D4_subj_1-1_t1b2L_box_2_merged\n",
      "\t 20230620_114347_standard_comp_to_omission_D4_subj_1-2_t3b3L_box_1_merged\n",
      "\t 20230621_111240_standard_comp_to_omission_D5_subj_1-4_t3b3L_box1_merged\n",
      "\t 20230622_110832_standard_comp_to_both_rewarded_D1_subj_1-1_t1b3L_box1_merged\n",
      "\t 20230622_110832_standard_comp_to_both_rewarded_D1_subj_1-2_t3b3L_box1_merged\n",
      "\t 20230624_105855_standard_comp_to_both_rewarded_D3_subj_1-1_t1b2L_box1_merged\n",
      "\t 20230624_105855_standard_comp_to_both_rewarded_D3_subj_1-4_t3b3L_box1_merged\n",
      "\t 20230625_112913_standard_comp_to_both_rewarded_D4_subj_1-1_t1b2L_box1_merged\n",
      "\t 20230625_112913_standard_comp_to_both_rewarded_D4_subj_1-4_t3b3L_box1_merged\n",
      "\t 20230628_111202_standard_comp_to_novel_agent_D1_subj_1-1vs1-2and2-2_merged\n",
      "\t 20230628_111202_standard_comp_to_novel_agent_D1_subj_1-2vs1-1and2-1_merged\n",
      "\t 20230629_111937_standard_comp_to_novel_agent_D2_subj_1-1v1-4and2-1_merged\n",
      "\t 20230629_111937_standard_comp_to_novel_agent_D2_subj_1-4vs1-1and2-2_merged\n",
      "\t 20230630_115506_standard_comp_to_novel_agent_D3_subj_1-2vs1-4and2-2_merged\n",
      "\t 20230630_115506_standard_comp_to_novel_agent_D3_subj_1-4vs1-2and2-1_merged\n",
      "LH_lfp_RMS_filtered\n",
      "vHPC_lfp_RMS_filtered\n",
      "LH_vHPC_RMS_filtered\n",
      "\t 20230612_101430_standard_comp_to_training_D1_subj_1-3_t3b3L_box2_merged\n",
      "\t 20230612_101430_standard_comp_to_training_D1_subj_1-4_t4b2L_box1_merged\n",
      "\t 20230612_112630_standard_comp_to_training_D1_subj_1-1_t1b3L_box2_merged\n",
      "\t 20230612_112630_standard_comp_to_training_D1_subj_1-2_t2b2L_box1_merged\n",
      "\t 20230613_105657_standard_comp_to_training_D2_subj_1-1_t1b2L_box1_merged\n",
      "\t 20230613_105657_standard_comp_to_training_D2_subj_1-4_t4b3L_box2_merged\n",
      "\t 20230614_114041_standard_comp_to_training_D3_subj_1-1_t1b3L_box1_merged\n",
      "\t 20230614_114041_standard_comp_to_training_D3_subj_1-2_t2b2L_box2_merged\n",
      "\t 20230616_111904_standard_comp_to_training_D4_subj_1-2_t2b2L_box2_merged\n",
      "\t 20230616_111904_standard_comp_to_training_D4_subj_1-4_t4b3L_box1_merged\n",
      "\t 20230617_115521_standard_comp_to_omission_D1_subj_1-1_t1b3L_box1_merged\n",
      "\t 20230617_115521_standard_comp_to_omission_D1_subj_1-2_t2b2L_box2_merged\n",
      "\t 20230618_100636_standard_comp_to_omission_D2_subj_1_1_t1b2L_box2_merged\n",
      "\t 20230618_100636_standard_comp_to_omission_D2_subj_1_4_t4b3L_box1_merged\n",
      "\t 20230619_115321_standard_comp_to_omission_D3_subj_1-4_t3b3L_box2_merged\n",
      "\t 20230620_114347_standard_comp_to_omission_D4_subj_1-1_t1b2L_box_2_merged\n",
      "\t 20230620_114347_standard_comp_to_omission_D4_subj_1-2_t3b3L_box_1_merged\n",
      "\t 20230621_111240_standard_comp_to_omission_D5_subj_1-4_t3b3L_box1_merged\n",
      "\t 20230622_110832_standard_comp_to_both_rewarded_D1_subj_1-1_t1b3L_box1_merged\n",
      "\t 20230622_110832_standard_comp_to_both_rewarded_D1_subj_1-2_t3b3L_box1_merged\n",
      "\t 20230624_105855_standard_comp_to_both_rewarded_D3_subj_1-1_t1b2L_box1_merged\n",
      "\t 20230624_105855_standard_comp_to_both_rewarded_D3_subj_1-4_t3b3L_box1_merged\n",
      "\t 20230625_112913_standard_comp_to_both_rewarded_D4_subj_1-1_t1b2L_box1_merged\n",
      "\t 20230625_112913_standard_comp_to_both_rewarded_D4_subj_1-4_t3b3L_box1_merged\n",
      "\t 20230628_111202_standard_comp_to_novel_agent_D1_subj_1-1vs1-2and2-2_merged\n",
      "\t 20230628_111202_standard_comp_to_novel_agent_D1_subj_1-2vs1-1and2-1_merged\n",
      "\t 20230629_111937_standard_comp_to_novel_agent_D2_subj_1-1v1-4and2-1_merged\n",
      "\t 20230629_111937_standard_comp_to_novel_agent_D2_subj_1-4vs1-1and2-2_merged\n",
      "\t 20230630_115506_standard_comp_to_novel_agent_D3_subj_1-2vs1-4and2-2_merged\n",
      "\t 20230630_115506_standard_comp_to_novel_agent_D3_subj_1-4vs1-2and2-1_merged\n",
      "MD_lfp_RMS_filtered\n",
      "mPFC_lfp_RMS_filtered\n",
      "MD_mPFC_RMS_filtered\n",
      "\t 20230612_101430_standard_comp_to_training_D1_subj_1-3_t3b3L_box2_merged\n",
      "\t 20230612_101430_standard_comp_to_training_D1_subj_1-4_t4b2L_box1_merged\n",
      "\t 20230612_112630_standard_comp_to_training_D1_subj_1-1_t1b3L_box2_merged\n",
      "\t 20230612_112630_standard_comp_to_training_D1_subj_1-2_t2b2L_box1_merged\n",
      "\t 20230613_105657_standard_comp_to_training_D2_subj_1-1_t1b2L_box1_merged\n",
      "\t 20230613_105657_standard_comp_to_training_D2_subj_1-4_t4b3L_box2_merged\n",
      "\t 20230614_114041_standard_comp_to_training_D3_subj_1-1_t1b3L_box1_merged\n",
      "\t 20230614_114041_standard_comp_to_training_D3_subj_1-2_t2b2L_box2_merged\n",
      "\t 20230616_111904_standard_comp_to_training_D4_subj_1-2_t2b2L_box2_merged\n",
      "\t 20230616_111904_standard_comp_to_training_D4_subj_1-4_t4b3L_box1_merged\n",
      "\t 20230617_115521_standard_comp_to_omission_D1_subj_1-1_t1b3L_box1_merged\n",
      "\t 20230617_115521_standard_comp_to_omission_D1_subj_1-2_t2b2L_box2_merged\n",
      "\t 20230618_100636_standard_comp_to_omission_D2_subj_1_1_t1b2L_box2_merged\n",
      "\t 20230618_100636_standard_comp_to_omission_D2_subj_1_4_t4b3L_box1_merged\n",
      "\t 20230619_115321_standard_comp_to_omission_D3_subj_1-4_t3b3L_box2_merged\n",
      "\t 20230620_114347_standard_comp_to_omission_D4_subj_1-1_t1b2L_box_2_merged\n",
      "\t 20230620_114347_standard_comp_to_omission_D4_subj_1-2_t3b3L_box_1_merged\n",
      "\t 20230621_111240_standard_comp_to_omission_D5_subj_1-4_t3b3L_box1_merged\n",
      "\t 20230622_110832_standard_comp_to_both_rewarded_D1_subj_1-1_t1b3L_box1_merged\n",
      "\t 20230622_110832_standard_comp_to_both_rewarded_D1_subj_1-2_t3b3L_box1_merged\n",
      "\t 20230624_105855_standard_comp_to_both_rewarded_D3_subj_1-1_t1b2L_box1_merged\n",
      "\t 20230624_105855_standard_comp_to_both_rewarded_D3_subj_1-4_t3b3L_box1_merged\n",
      "\t 20230625_112913_standard_comp_to_both_rewarded_D4_subj_1-1_t1b2L_box1_merged\n",
      "\t 20230625_112913_standard_comp_to_both_rewarded_D4_subj_1-4_t3b3L_box1_merged\n",
      "\t 20230628_111202_standard_comp_to_novel_agent_D1_subj_1-1vs1-2and2-2_merged\n",
      "\t 20230628_111202_standard_comp_to_novel_agent_D1_subj_1-2vs1-1and2-1_merged\n",
      "\t 20230629_111937_standard_comp_to_novel_agent_D2_subj_1-1v1-4and2-1_merged\n",
      "\t 20230629_111937_standard_comp_to_novel_agent_D2_subj_1-4vs1-1and2-2_merged\n",
      "\t 20230630_115506_standard_comp_to_novel_agent_D3_subj_1-2vs1-4and2-2_merged\n",
      "\t 20230630_115506_standard_comp_to_novel_agent_D3_subj_1-4vs1-2and2-1_merged\n",
      "MD_lfp_RMS_filtered\n",
      "vHPC_lfp_RMS_filtered\n",
      "MD_vHPC_RMS_filtered\n",
      "\t 20230612_101430_standard_comp_to_training_D1_subj_1-3_t3b3L_box2_merged\n",
      "\t 20230612_101430_standard_comp_to_training_D1_subj_1-4_t4b2L_box1_merged\n",
      "\t 20230612_112630_standard_comp_to_training_D1_subj_1-1_t1b3L_box2_merged\n",
      "\t 20230612_112630_standard_comp_to_training_D1_subj_1-2_t2b2L_box1_merged\n",
      "\t 20230613_105657_standard_comp_to_training_D2_subj_1-1_t1b2L_box1_merged\n",
      "\t 20230613_105657_standard_comp_to_training_D2_subj_1-4_t4b3L_box2_merged\n",
      "\t 20230614_114041_standard_comp_to_training_D3_subj_1-1_t1b3L_box1_merged\n",
      "\t 20230614_114041_standard_comp_to_training_D3_subj_1-2_t2b2L_box2_merged\n",
      "\t 20230616_111904_standard_comp_to_training_D4_subj_1-2_t2b2L_box2_merged\n",
      "\t 20230616_111904_standard_comp_to_training_D4_subj_1-4_t4b3L_box1_merged\n",
      "\t 20230617_115521_standard_comp_to_omission_D1_subj_1-1_t1b3L_box1_merged\n",
      "\t 20230617_115521_standard_comp_to_omission_D1_subj_1-2_t2b2L_box2_merged\n",
      "\t 20230618_100636_standard_comp_to_omission_D2_subj_1_1_t1b2L_box2_merged\n",
      "\t 20230618_100636_standard_comp_to_omission_D2_subj_1_4_t4b3L_box1_merged\n",
      "\t 20230619_115321_standard_comp_to_omission_D3_subj_1-4_t3b3L_box2_merged\n",
      "\t 20230620_114347_standard_comp_to_omission_D4_subj_1-1_t1b2L_box_2_merged\n",
      "\t 20230620_114347_standard_comp_to_omission_D4_subj_1-2_t3b3L_box_1_merged\n",
      "\t 20230621_111240_standard_comp_to_omission_D5_subj_1-4_t3b3L_box1_merged\n",
      "\t 20230622_110832_standard_comp_to_both_rewarded_D1_subj_1-1_t1b3L_box1_merged\n",
      "\t 20230622_110832_standard_comp_to_both_rewarded_D1_subj_1-2_t3b3L_box1_merged\n",
      "\t 20230624_105855_standard_comp_to_both_rewarded_D3_subj_1-1_t1b2L_box1_merged\n",
      "\t 20230624_105855_standard_comp_to_both_rewarded_D3_subj_1-4_t3b3L_box1_merged\n",
      "\t 20230625_112913_standard_comp_to_both_rewarded_D4_subj_1-1_t1b2L_box1_merged\n",
      "\t 20230625_112913_standard_comp_to_both_rewarded_D4_subj_1-4_t3b3L_box1_merged\n",
      "\t 20230628_111202_standard_comp_to_novel_agent_D1_subj_1-1vs1-2and2-2_merged\n",
      "\t 20230628_111202_standard_comp_to_novel_agent_D1_subj_1-2vs1-1and2-1_merged\n",
      "\t 20230629_111937_standard_comp_to_novel_agent_D2_subj_1-1v1-4and2-1_merged\n",
      "\t 20230629_111937_standard_comp_to_novel_agent_D2_subj_1-4vs1-1and2-2_merged\n",
      "\t 20230630_115506_standard_comp_to_novel_agent_D3_subj_1-2vs1-4and2-2_merged\n",
      "\t 20230630_115506_standard_comp_to_novel_agent_D3_subj_1-4vs1-2and2-1_merged\n",
      "mPFC_lfp_RMS_filtered\n",
      "vHPC_lfp_RMS_filtered\n",
      "mPFC_vHPC_RMS_filtered\n",
      "\t 20230612_101430_standard_comp_to_training_D1_subj_1-3_t3b3L_box2_merged\n",
      "\t 20230612_101430_standard_comp_to_training_D1_subj_1-4_t4b2L_box1_merged\n",
      "\t 20230612_112630_standard_comp_to_training_D1_subj_1-1_t1b3L_box2_merged\n",
      "\t 20230612_112630_standard_comp_to_training_D1_subj_1-2_t2b2L_box1_merged\n",
      "\t 20230613_105657_standard_comp_to_training_D2_subj_1-1_t1b2L_box1_merged\n",
      "\t 20230613_105657_standard_comp_to_training_D2_subj_1-4_t4b3L_box2_merged\n",
      "\t 20230614_114041_standard_comp_to_training_D3_subj_1-1_t1b3L_box1_merged\n",
      "\t 20230614_114041_standard_comp_to_training_D3_subj_1-2_t2b2L_box2_merged\n",
      "\t 20230616_111904_standard_comp_to_training_D4_subj_1-2_t2b2L_box2_merged\n",
      "\t 20230616_111904_standard_comp_to_training_D4_subj_1-4_t4b3L_box1_merged\n",
      "\t 20230617_115521_standard_comp_to_omission_D1_subj_1-1_t1b3L_box1_merged\n",
      "\t 20230617_115521_standard_comp_to_omission_D1_subj_1-2_t2b2L_box2_merged\n",
      "\t 20230618_100636_standard_comp_to_omission_D2_subj_1_1_t1b2L_box2_merged\n",
      "\t 20230618_100636_standard_comp_to_omission_D2_subj_1_4_t4b3L_box1_merged\n",
      "\t 20230619_115321_standard_comp_to_omission_D3_subj_1-4_t3b3L_box2_merged\n",
      "\t 20230620_114347_standard_comp_to_omission_D4_subj_1-1_t1b2L_box_2_merged\n",
      "\t 20230620_114347_standard_comp_to_omission_D4_subj_1-2_t3b3L_box_1_merged\n",
      "\t 20230621_111240_standard_comp_to_omission_D5_subj_1-4_t3b3L_box1_merged\n",
      "\t 20230622_110832_standard_comp_to_both_rewarded_D1_subj_1-1_t1b3L_box1_merged\n",
      "\t 20230622_110832_standard_comp_to_both_rewarded_D1_subj_1-2_t3b3L_box1_merged\n",
      "\t 20230624_105855_standard_comp_to_both_rewarded_D3_subj_1-1_t1b2L_box1_merged\n",
      "\t 20230624_105855_standard_comp_to_both_rewarded_D3_subj_1-4_t3b3L_box1_merged\n",
      "\t 20230625_112913_standard_comp_to_both_rewarded_D4_subj_1-1_t1b2L_box1_merged\n",
      "\t 20230625_112913_standard_comp_to_both_rewarded_D4_subj_1-4_t3b3L_box1_merged\n",
      "\t 20230628_111202_standard_comp_to_novel_agent_D1_subj_1-1vs1-2and2-2_merged\n",
      "\t 20230628_111202_standard_comp_to_novel_agent_D1_subj_1-2vs1-1and2-1_merged\n",
      "\t 20230629_111937_standard_comp_to_novel_agent_D2_subj_1-1v1-4and2-1_merged\n",
      "\t 20230629_111937_standard_comp_to_novel_agent_D2_subj_1-4vs1-1and2-2_merged\n",
      "\t 20230630_115506_standard_comp_to_novel_agent_D3_subj_1-2vs1-4and2-2_merged\n",
      "\t 20230630_115506_standard_comp_to_novel_agent_D3_subj_1-4vs1-2and2-1_merged\n"
     ]
    }
   ],
   "source": [
    "for first_region, second_region in brain_region_pairs:\n",
    "    for suffix in all_suffixes:\n",
    "        suffix_for_name = suffix.replace(\"lfp\", \"\").strip(\"_\")\n",
    "        region_1 = \"_\".join([first_region, suffix])\n",
    "        region_2 = \"_\".join([second_region, suffix])\n",
    "         # Define base name for pair\n",
    "        pair_base_name = f\"{region_1.split('_')[0]}_{region_2.split('_')[0]}_{suffix_for_name}\"\n",
    "        print(region_1)\n",
    "        print(region_2)\n",
    "        print(pair_base_name)\n",
    "\n",
    "        try:\n",
    "            # Define column names\n",
    "            multitaper_col = f\"{pair_base_name}_coherence_multitaper\"\n",
    "            connectivity_col = f\"{pair_base_name}_coherence_connectivity\"\n",
    "            frequencies_col = f\"{pair_base_name}_coherence_frequencies\"\n",
    "            coherence_col = f\"{pair_base_name}_coherence_all_frequencies_all_windows\"\n",
    "\n",
    "            for index, row in LFP_TRACES_DF.drop_duplicates(subset=[\"recording\"]).iterrows():\n",
    "                recording = row[\"recording\"]\n",
    "                print(\"\\t\", recording)\n",
    "                \n",
    "                \n",
    "                # Apply Multitaper function\n",
    "                multitaper = Multitaper(\n",
    "                        time_series=np.array([row[region_1], row[region_2]]).T, \n",
    "                        sampling_frequency=RESAMPLE_RATE, \n",
    "                        time_halfbandwidth_product=TIME_HALFBANDWIDTH_PRODUCT, \n",
    "                        time_window_step=TIME_WINDOW_STEP, \n",
    "                        time_window_duration=TIME_WINDOW_DURATION)\n",
    "\n",
    "                # Apply Connectivity function\n",
    "                connectivity = Connectivity.from_multitaper(multitaper)\n",
    "\n",
    "                column_to_recording_dict[coherence_col][recording] = connectivity.coherence_magnitude()[:,:,0,1]\n",
    "\n",
    "                column_to_recording_dict[coherence_col][recording] =  column_to_recording_dict[coherence_col][recording][:,:62].astype(np.float32)\n",
    "                # Apply frequencies and coherence functions\n",
    "                column_to_recording_dict[frequencies_col][recording] = connectivity.frequencies[:62]\n",
    "\n",
    "        except Exception as e: \n",
    "            print(e)\n"
   ]
  },
  {
   "cell_type": "code",
   "execution_count": 91,
   "metadata": {
    "tags": []
   },
   "outputs": [],
   "source": [
    "for key, value in column_to_recording_dict.items():\n",
    "    LFP_TRACES_DF[key] = LFP_TRACES_DF[\"recording\"].map(value)"
   ]
  },
  {
   "cell_type": "markdown",
   "metadata": {},
   "source": [
    "- Getting the timestamps of the coherence"
   ]
  },
  {
   "cell_type": "code",
   "execution_count": 92,
   "metadata": {
    "tags": []
   },
   "outputs": [],
   "source": [
    "LFP_TRACES_DF[\"coherence_timestamps\"] = LFP_TRACES_DF[\"lfp_timestamps\"].apply(lambda x: x[(RESAMPLE_RATE//2):(-RESAMPLE_RATE//2):(RESAMPLE_RATE//2)])\n"
   ]
  },
  {
   "cell_type": "markdown",
   "metadata": {},
   "source": [
    "- Making sure that the timestamps for coherence makes sense with shape and values"
   ]
  },
  {
   "cell_type": "code",
   "execution_count": 93,
   "metadata": {
    "tags": []
   },
   "outputs": [
    {
     "data": {
      "text/plain": [
       "0    (6828,)\n",
       "1    (6828,)\n",
       "2    (6828,)\n",
       "3    (6828,)\n",
       "4    (6833,)\n",
       "Name: coherence_timestamps, dtype: object"
      ]
     },
     "execution_count": 93,
     "metadata": {},
     "output_type": "execute_result"
    }
   ],
   "source": [
    "LFP_TRACES_DF[\"coherence_timestamps\"].head().apply(lambda x: x.shape)"
   ]
  },
  {
   "cell_type": "code",
   "execution_count": 94,
   "metadata": {
    "tags": []
   },
   "outputs": [
    {
     "data": {
      "text/plain": [
       "(6828, 62)"
      ]
     },
     "execution_count": 94,
     "metadata": {},
     "output_type": "execute_result"
    }
   ],
   "source": [
    "LFP_TRACES_DF[[col for col in LFP_TRACES_DF.columns if \"coherence_all_frequencies_all_windows\" in col][0]].iloc[0].shape"
   ]
  },
  {
   "cell_type": "code",
   "execution_count": 95,
   "metadata": {
    "tags": []
   },
   "outputs": [
    {
     "data": {
      "text/plain": [
       "array([       0,       20,       40, ..., 68293300, 68293320, 68293340])"
      ]
     },
     "execution_count": 95,
     "metadata": {},
     "output_type": "execute_result"
    }
   ],
   "source": [
    "LFP_TRACES_DF[[col for col in LFP_TRACES_DF.columns if \"lfp_timestamps\" in col][0]].iloc[0]"
   ]
  },
  {
   "cell_type": "code",
   "execution_count": 96,
   "metadata": {
    "tags": []
   },
   "outputs": [
    {
     "data": {
      "text/plain": [
       "array([   10000,    20000,    30000, ..., 68260000, 68270000, 68280000])"
      ]
     },
     "execution_count": 96,
     "metadata": {},
     "output_type": "execute_result"
    }
   ],
   "source": [
    "LFP_TRACES_DF[[col for col in LFP_TRACES_DF.columns if \"coherence_timestamps\" in col][0]].iloc[0]"
   ]
  },
  {
   "cell_type": "markdown",
   "metadata": {},
   "source": [
    "- Checking if the right frequencies are being used"
   ]
  },
  {
   "cell_type": "code",
   "execution_count": 97,
   "metadata": {
    "tags": []
   },
   "outputs": [
    {
     "data": {
      "text/html": [
       "<div>\n",
       "<style scoped>\n",
       "    .dataframe tbody tr th:only-of-type {\n",
       "        vertical-align: middle;\n",
       "    }\n",
       "\n",
       "    .dataframe tbody tr th {\n",
       "        vertical-align: top;\n",
       "    }\n",
       "\n",
       "    .dataframe thead th {\n",
       "        text-align: right;\n",
       "    }\n",
       "</style>\n",
       "<table border=\"1\" class=\"dataframe\">\n",
       "  <thead>\n",
       "    <tr style=\"text-align: right;\">\n",
       "      <th></th>\n",
       "      <th>BLA_LH_RMS_filtered_coherence_frequencies</th>\n",
       "      <th>BLA_MD_RMS_filtered_coherence_frequencies</th>\n",
       "      <th>BLA_mPFC_RMS_filtered_coherence_frequencies</th>\n",
       "      <th>BLA_vHPC_RMS_filtered_coherence_frequencies</th>\n",
       "      <th>LH_MD_RMS_filtered_coherence_frequencies</th>\n",
       "      <th>LH_mPFC_RMS_filtered_coherence_frequencies</th>\n",
       "      <th>LH_vHPC_RMS_filtered_coherence_frequencies</th>\n",
       "      <th>MD_mPFC_RMS_filtered_coherence_frequencies</th>\n",
       "      <th>MD_vHPC_RMS_filtered_coherence_frequencies</th>\n",
       "      <th>mPFC_vHPC_RMS_filtered_coherence_frequencies</th>\n",
       "    </tr>\n",
       "  </thead>\n",
       "  <tbody>\n",
       "    <tr>\n",
       "      <th>0</th>\n",
       "      <td>[0.0, 1.0, 2.0, 3.0, 4.0, 5.0, 6.0, 7.0, 8.0, ...</td>\n",
       "      <td>[0.0, 1.0, 2.0, 3.0, 4.0, 5.0, 6.0, 7.0, 8.0, ...</td>\n",
       "      <td>[0.0, 1.0, 2.0, 3.0, 4.0, 5.0, 6.0, 7.0, 8.0, ...</td>\n",
       "      <td>[0.0, 1.0, 2.0, 3.0, 4.0, 5.0, 6.0, 7.0, 8.0, ...</td>\n",
       "      <td>[0.0, 1.0, 2.0, 3.0, 4.0, 5.0, 6.0, 7.0, 8.0, ...</td>\n",
       "      <td>[0.0, 1.0, 2.0, 3.0, 4.0, 5.0, 6.0, 7.0, 8.0, ...</td>\n",
       "      <td>[0.0, 1.0, 2.0, 3.0, 4.0, 5.0, 6.0, 7.0, 8.0, ...</td>\n",
       "      <td>[0.0, 1.0, 2.0, 3.0, 4.0, 5.0, 6.0, 7.0, 8.0, ...</td>\n",
       "      <td>[0.0, 1.0, 2.0, 3.0, 4.0, 5.0, 6.0, 7.0, 8.0, ...</td>\n",
       "      <td>[0.0, 1.0, 2.0, 3.0, 4.0, 5.0, 6.0, 7.0, 8.0, ...</td>\n",
       "    </tr>\n",
       "    <tr>\n",
       "      <th>1</th>\n",
       "      <td>[0.0, 1.0, 2.0, 3.0, 4.0, 5.0, 6.0, 7.0, 8.0, ...</td>\n",
       "      <td>[0.0, 1.0, 2.0, 3.0, 4.0, 5.0, 6.0, 7.0, 8.0, ...</td>\n",
       "      <td>[0.0, 1.0, 2.0, 3.0, 4.0, 5.0, 6.0, 7.0, 8.0, ...</td>\n",
       "      <td>[0.0, 1.0, 2.0, 3.0, 4.0, 5.0, 6.0, 7.0, 8.0, ...</td>\n",
       "      <td>[0.0, 1.0, 2.0, 3.0, 4.0, 5.0, 6.0, 7.0, 8.0, ...</td>\n",
       "      <td>[0.0, 1.0, 2.0, 3.0, 4.0, 5.0, 6.0, 7.0, 8.0, ...</td>\n",
       "      <td>[0.0, 1.0, 2.0, 3.0, 4.0, 5.0, 6.0, 7.0, 8.0, ...</td>\n",
       "      <td>[0.0, 1.0, 2.0, 3.0, 4.0, 5.0, 6.0, 7.0, 8.0, ...</td>\n",
       "      <td>[0.0, 1.0, 2.0, 3.0, 4.0, 5.0, 6.0, 7.0, 8.0, ...</td>\n",
       "      <td>[0.0, 1.0, 2.0, 3.0, 4.0, 5.0, 6.0, 7.0, 8.0, ...</td>\n",
       "    </tr>\n",
       "    <tr>\n",
       "      <th>2</th>\n",
       "      <td>[0.0, 1.0, 2.0, 3.0, 4.0, 5.0, 6.0, 7.0, 8.0, ...</td>\n",
       "      <td>[0.0, 1.0, 2.0, 3.0, 4.0, 5.0, 6.0, 7.0, 8.0, ...</td>\n",
       "      <td>[0.0, 1.0, 2.0, 3.0, 4.0, 5.0, 6.0, 7.0, 8.0, ...</td>\n",
       "      <td>[0.0, 1.0, 2.0, 3.0, 4.0, 5.0, 6.0, 7.0, 8.0, ...</td>\n",
       "      <td>[0.0, 1.0, 2.0, 3.0, 4.0, 5.0, 6.0, 7.0, 8.0, ...</td>\n",
       "      <td>[0.0, 1.0, 2.0, 3.0, 4.0, 5.0, 6.0, 7.0, 8.0, ...</td>\n",
       "      <td>[0.0, 1.0, 2.0, 3.0, 4.0, 5.0, 6.0, 7.0, 8.0, ...</td>\n",
       "      <td>[0.0, 1.0, 2.0, 3.0, 4.0, 5.0, 6.0, 7.0, 8.0, ...</td>\n",
       "      <td>[0.0, 1.0, 2.0, 3.0, 4.0, 5.0, 6.0, 7.0, 8.0, ...</td>\n",
       "      <td>[0.0, 1.0, 2.0, 3.0, 4.0, 5.0, 6.0, 7.0, 8.0, ...</td>\n",
       "    </tr>\n",
       "    <tr>\n",
       "      <th>3</th>\n",
       "      <td>[0.0, 1.0, 2.0, 3.0, 4.0, 5.0, 6.0, 7.0, 8.0, ...</td>\n",
       "      <td>[0.0, 1.0, 2.0, 3.0, 4.0, 5.0, 6.0, 7.0, 8.0, ...</td>\n",
       "      <td>[0.0, 1.0, 2.0, 3.0, 4.0, 5.0, 6.0, 7.0, 8.0, ...</td>\n",
       "      <td>[0.0, 1.0, 2.0, 3.0, 4.0, 5.0, 6.0, 7.0, 8.0, ...</td>\n",
       "      <td>[0.0, 1.0, 2.0, 3.0, 4.0, 5.0, 6.0, 7.0, 8.0, ...</td>\n",
       "      <td>[0.0, 1.0, 2.0, 3.0, 4.0, 5.0, 6.0, 7.0, 8.0, ...</td>\n",
       "      <td>[0.0, 1.0, 2.0, 3.0, 4.0, 5.0, 6.0, 7.0, 8.0, ...</td>\n",
       "      <td>[0.0, 1.0, 2.0, 3.0, 4.0, 5.0, 6.0, 7.0, 8.0, ...</td>\n",
       "      <td>[0.0, 1.0, 2.0, 3.0, 4.0, 5.0, 6.0, 7.0, 8.0, ...</td>\n",
       "      <td>[0.0, 1.0, 2.0, 3.0, 4.0, 5.0, 6.0, 7.0, 8.0, ...</td>\n",
       "    </tr>\n",
       "    <tr>\n",
       "      <th>4</th>\n",
       "      <td>[0.0, 1.0, 2.0, 3.0, 4.0, 5.0, 6.0, 7.0, 8.0, ...</td>\n",
       "      <td>[0.0, 1.0, 2.0, 3.0, 4.0, 5.0, 6.0, 7.0, 8.0, ...</td>\n",
       "      <td>[0.0, 1.0, 2.0, 3.0, 4.0, 5.0, 6.0, 7.0, 8.0, ...</td>\n",
       "      <td>[0.0, 1.0, 2.0, 3.0, 4.0, 5.0, 6.0, 7.0, 8.0, ...</td>\n",
       "      <td>[0.0, 1.0, 2.0, 3.0, 4.0, 5.0, 6.0, 7.0, 8.0, ...</td>\n",
       "      <td>[0.0, 1.0, 2.0, 3.0, 4.0, 5.0, 6.0, 7.0, 8.0, ...</td>\n",
       "      <td>[0.0, 1.0, 2.0, 3.0, 4.0, 5.0, 6.0, 7.0, 8.0, ...</td>\n",
       "      <td>[0.0, 1.0, 2.0, 3.0, 4.0, 5.0, 6.0, 7.0, 8.0, ...</td>\n",
       "      <td>[0.0, 1.0, 2.0, 3.0, 4.0, 5.0, 6.0, 7.0, 8.0, ...</td>\n",
       "      <td>[0.0, 1.0, 2.0, 3.0, 4.0, 5.0, 6.0, 7.0, 8.0, ...</td>\n",
       "    </tr>\n",
       "  </tbody>\n",
       "</table>\n",
       "</div>"
      ],
      "text/plain": [
       "           BLA_LH_RMS_filtered_coherence_frequencies  \\\n",
       "0  [0.0, 1.0, 2.0, 3.0, 4.0, 5.0, 6.0, 7.0, 8.0, ...   \n",
       "1  [0.0, 1.0, 2.0, 3.0, 4.0, 5.0, 6.0, 7.0, 8.0, ...   \n",
       "2  [0.0, 1.0, 2.0, 3.0, 4.0, 5.0, 6.0, 7.0, 8.0, ...   \n",
       "3  [0.0, 1.0, 2.0, 3.0, 4.0, 5.0, 6.0, 7.0, 8.0, ...   \n",
       "4  [0.0, 1.0, 2.0, 3.0, 4.0, 5.0, 6.0, 7.0, 8.0, ...   \n",
       "\n",
       "           BLA_MD_RMS_filtered_coherence_frequencies  \\\n",
       "0  [0.0, 1.0, 2.0, 3.0, 4.0, 5.0, 6.0, 7.0, 8.0, ...   \n",
       "1  [0.0, 1.0, 2.0, 3.0, 4.0, 5.0, 6.0, 7.0, 8.0, ...   \n",
       "2  [0.0, 1.0, 2.0, 3.0, 4.0, 5.0, 6.0, 7.0, 8.0, ...   \n",
       "3  [0.0, 1.0, 2.0, 3.0, 4.0, 5.0, 6.0, 7.0, 8.0, ...   \n",
       "4  [0.0, 1.0, 2.0, 3.0, 4.0, 5.0, 6.0, 7.0, 8.0, ...   \n",
       "\n",
       "         BLA_mPFC_RMS_filtered_coherence_frequencies  \\\n",
       "0  [0.0, 1.0, 2.0, 3.0, 4.0, 5.0, 6.0, 7.0, 8.0, ...   \n",
       "1  [0.0, 1.0, 2.0, 3.0, 4.0, 5.0, 6.0, 7.0, 8.0, ...   \n",
       "2  [0.0, 1.0, 2.0, 3.0, 4.0, 5.0, 6.0, 7.0, 8.0, ...   \n",
       "3  [0.0, 1.0, 2.0, 3.0, 4.0, 5.0, 6.0, 7.0, 8.0, ...   \n",
       "4  [0.0, 1.0, 2.0, 3.0, 4.0, 5.0, 6.0, 7.0, 8.0, ...   \n",
       "\n",
       "         BLA_vHPC_RMS_filtered_coherence_frequencies  \\\n",
       "0  [0.0, 1.0, 2.0, 3.0, 4.0, 5.0, 6.0, 7.0, 8.0, ...   \n",
       "1  [0.0, 1.0, 2.0, 3.0, 4.0, 5.0, 6.0, 7.0, 8.0, ...   \n",
       "2  [0.0, 1.0, 2.0, 3.0, 4.0, 5.0, 6.0, 7.0, 8.0, ...   \n",
       "3  [0.0, 1.0, 2.0, 3.0, 4.0, 5.0, 6.0, 7.0, 8.0, ...   \n",
       "4  [0.0, 1.0, 2.0, 3.0, 4.0, 5.0, 6.0, 7.0, 8.0, ...   \n",
       "\n",
       "            LH_MD_RMS_filtered_coherence_frequencies  \\\n",
       "0  [0.0, 1.0, 2.0, 3.0, 4.0, 5.0, 6.0, 7.0, 8.0, ...   \n",
       "1  [0.0, 1.0, 2.0, 3.0, 4.0, 5.0, 6.0, 7.0, 8.0, ...   \n",
       "2  [0.0, 1.0, 2.0, 3.0, 4.0, 5.0, 6.0, 7.0, 8.0, ...   \n",
       "3  [0.0, 1.0, 2.0, 3.0, 4.0, 5.0, 6.0, 7.0, 8.0, ...   \n",
       "4  [0.0, 1.0, 2.0, 3.0, 4.0, 5.0, 6.0, 7.0, 8.0, ...   \n",
       "\n",
       "          LH_mPFC_RMS_filtered_coherence_frequencies  \\\n",
       "0  [0.0, 1.0, 2.0, 3.0, 4.0, 5.0, 6.0, 7.0, 8.0, ...   \n",
       "1  [0.0, 1.0, 2.0, 3.0, 4.0, 5.0, 6.0, 7.0, 8.0, ...   \n",
       "2  [0.0, 1.0, 2.0, 3.0, 4.0, 5.0, 6.0, 7.0, 8.0, ...   \n",
       "3  [0.0, 1.0, 2.0, 3.0, 4.0, 5.0, 6.0, 7.0, 8.0, ...   \n",
       "4  [0.0, 1.0, 2.0, 3.0, 4.0, 5.0, 6.0, 7.0, 8.0, ...   \n",
       "\n",
       "          LH_vHPC_RMS_filtered_coherence_frequencies  \\\n",
       "0  [0.0, 1.0, 2.0, 3.0, 4.0, 5.0, 6.0, 7.0, 8.0, ...   \n",
       "1  [0.0, 1.0, 2.0, 3.0, 4.0, 5.0, 6.0, 7.0, 8.0, ...   \n",
       "2  [0.0, 1.0, 2.0, 3.0, 4.0, 5.0, 6.0, 7.0, 8.0, ...   \n",
       "3  [0.0, 1.0, 2.0, 3.0, 4.0, 5.0, 6.0, 7.0, 8.0, ...   \n",
       "4  [0.0, 1.0, 2.0, 3.0, 4.0, 5.0, 6.0, 7.0, 8.0, ...   \n",
       "\n",
       "          MD_mPFC_RMS_filtered_coherence_frequencies  \\\n",
       "0  [0.0, 1.0, 2.0, 3.0, 4.0, 5.0, 6.0, 7.0, 8.0, ...   \n",
       "1  [0.0, 1.0, 2.0, 3.0, 4.0, 5.0, 6.0, 7.0, 8.0, ...   \n",
       "2  [0.0, 1.0, 2.0, 3.0, 4.0, 5.0, 6.0, 7.0, 8.0, ...   \n",
       "3  [0.0, 1.0, 2.0, 3.0, 4.0, 5.0, 6.0, 7.0, 8.0, ...   \n",
       "4  [0.0, 1.0, 2.0, 3.0, 4.0, 5.0, 6.0, 7.0, 8.0, ...   \n",
       "\n",
       "          MD_vHPC_RMS_filtered_coherence_frequencies  \\\n",
       "0  [0.0, 1.0, 2.0, 3.0, 4.0, 5.0, 6.0, 7.0, 8.0, ...   \n",
       "1  [0.0, 1.0, 2.0, 3.0, 4.0, 5.0, 6.0, 7.0, 8.0, ...   \n",
       "2  [0.0, 1.0, 2.0, 3.0, 4.0, 5.0, 6.0, 7.0, 8.0, ...   \n",
       "3  [0.0, 1.0, 2.0, 3.0, 4.0, 5.0, 6.0, 7.0, 8.0, ...   \n",
       "4  [0.0, 1.0, 2.0, 3.0, 4.0, 5.0, 6.0, 7.0, 8.0, ...   \n",
       "\n",
       "        mPFC_vHPC_RMS_filtered_coherence_frequencies  \n",
       "0  [0.0, 1.0, 2.0, 3.0, 4.0, 5.0, 6.0, 7.0, 8.0, ...  \n",
       "1  [0.0, 1.0, 2.0, 3.0, 4.0, 5.0, 6.0, 7.0, 8.0, ...  \n",
       "2  [0.0, 1.0, 2.0, 3.0, 4.0, 5.0, 6.0, 7.0, 8.0, ...  \n",
       "3  [0.0, 1.0, 2.0, 3.0, 4.0, 5.0, 6.0, 7.0, 8.0, ...  \n",
       "4  [0.0, 1.0, 2.0, 3.0, 4.0, 5.0, 6.0, 7.0, 8.0, ...  "
      ]
     },
     "execution_count": 97,
     "metadata": {},
     "output_type": "execute_result"
    }
   ],
   "source": [
    "LFP_TRACES_DF[[col for col in LFP_TRACES_DF.columns if \"coherence_frequencies\" in col]].head()"
   ]
  },
  {
   "cell_type": "code",
   "execution_count": 98,
   "metadata": {},
   "outputs": [],
   "source": [
    "LFP_TRACES_DF[\"coherence_calculation_frequencies\"] = LFP_TRACES_DF[[col for col in LFP_TRACES_DF.columns if \"coherence_frequencies\" in col][0]].copy()"
   ]
  },
  {
   "cell_type": "markdown",
   "metadata": {},
   "source": [
    "- Dropping unnecessary columns"
   ]
  },
  {
   "cell_type": "code",
   "execution_count": 99,
   "metadata": {
    "tags": []
   },
   "outputs": [
    {
     "data": {
      "text/plain": [
       "Index(['cohort', 'session_dir', 'tone_frames', 'box_1_port_entry_frames',\n",
       "       'box_2_port_entry_frames', 'video_name', 'session_path', 'recording',\n",
       "       'current_subject', 'subject', 'all_subjects', 'first_timestamp',\n",
       "       'last_timestamp', 'video_timestamps', 'tone_timestamps',\n",
       "       'box_1_port_entry_timestamps', 'box_2_port_entry_timestamps',\n",
       "       'lfp_timestamps', 'mPFC_lfp_RMS_filtered', 'MD_lfp_RMS_filtered',\n",
       "       'LH_lfp_RMS_filtered', 'BLA_lfp_RMS_filtered', 'vHPC_lfp_RMS_filtered',\n",
       "       'mPFC_lfp_RMS_interpolated', 'MD_lfp_RMS_interpolated',\n",
       "       'LH_lfp_RMS_interpolated', 'BLA_lfp_RMS_interpolated',\n",
       "       'vHPC_lfp_RMS_interpolated', 'mPFC_theta_band', 'MD_theta_band',\n",
       "       'LH_theta_band', 'BLA_theta_band', 'vHPC_theta_band', 'mPFC_gamma_band',\n",
       "       'MD_gamma_band', 'LH_gamma_band', 'BLA_gamma_band', 'vHPC_gamma_band',\n",
       "       'mPFC_theta_phase', 'MD_theta_phase', 'LH_theta_phase',\n",
       "       'BLA_theta_phase', 'vHPC_theta_phase', 'mPFC_gamma_phase',\n",
       "       'MD_gamma_phase', 'LH_gamma_phase', 'BLA_gamma_phase',\n",
       "       'vHPC_gamma_phase',\n",
       "       'mPFC_RMS_filtered_power_all_frequencies_all_windows',\n",
       "       'MD_RMS_filtered_power_all_frequencies_all_windows',\n",
       "       'LH_RMS_filtered_power_all_frequencies_all_windows',\n",
       "       'BLA_RMS_filtered_power_all_frequencies_all_windows',\n",
       "       'vHPC_RMS_filtered_power_all_frequencies_all_windows',\n",
       "       'power_timestamps', 'power_calculation_frequencies',\n",
       "       'BLA_LH_RMS_filtered_coherence_all_frequencies_all_windows',\n",
       "       'BLA_LH_RMS_filtered_coherence_frequencies',\n",
       "       'BLA_MD_RMS_filtered_coherence_all_frequencies_all_windows',\n",
       "       'BLA_MD_RMS_filtered_coherence_frequencies',\n",
       "       'BLA_mPFC_RMS_filtered_coherence_all_frequencies_all_windows',\n",
       "       'BLA_mPFC_RMS_filtered_coherence_frequencies',\n",
       "       'BLA_vHPC_RMS_filtered_coherence_all_frequencies_all_windows',\n",
       "       'BLA_vHPC_RMS_filtered_coherence_frequencies',\n",
       "       'LH_MD_RMS_filtered_coherence_all_frequencies_all_windows',\n",
       "       'LH_MD_RMS_filtered_coherence_frequencies',\n",
       "       'LH_mPFC_RMS_filtered_coherence_all_frequencies_all_windows',\n",
       "       'LH_mPFC_RMS_filtered_coherence_frequencies',\n",
       "       'LH_vHPC_RMS_filtered_coherence_all_frequencies_all_windows',\n",
       "       'LH_vHPC_RMS_filtered_coherence_frequencies',\n",
       "       'MD_mPFC_RMS_filtered_coherence_all_frequencies_all_windows',\n",
       "       'MD_mPFC_RMS_filtered_coherence_frequencies',\n",
       "       'MD_vHPC_RMS_filtered_coherence_all_frequencies_all_windows',\n",
       "       'MD_vHPC_RMS_filtered_coherence_frequencies',\n",
       "       'mPFC_vHPC_RMS_filtered_coherence_all_frequencies_all_windows',\n",
       "       'mPFC_vHPC_RMS_filtered_coherence_frequencies', 'coherence_timestamps',\n",
       "       'coherence_calculation_frequencies'],\n",
       "      dtype='object')"
      ]
     },
     "execution_count": 99,
     "metadata": {},
     "output_type": "execute_result"
    }
   ],
   "source": [
    "LFP_TRACES_DF.columns"
   ]
  },
  {
   "cell_type": "code",
   "execution_count": 100,
   "metadata": {
    "tags": []
   },
   "outputs": [],
   "source": [
    "LFP_TRACES_DF = LFP_TRACES_DF.drop(columns=[col for col in LFP_TRACES_DF.columns if \"coherence_frequencies\" in col], errors=\"ignore\")"
   ]
  },
  {
   "cell_type": "code",
   "execution_count": 101,
   "metadata": {
    "tags": []
   },
   "outputs": [
    {
     "data": {
      "text/plain": [
       "Index(['cohort', 'session_dir', 'tone_frames', 'box_1_port_entry_frames',\n",
       "       'box_2_port_entry_frames', 'video_name', 'session_path', 'recording',\n",
       "       'current_subject', 'subject', 'all_subjects', 'first_timestamp',\n",
       "       'last_timestamp', 'video_timestamps', 'tone_timestamps',\n",
       "       'box_1_port_entry_timestamps', 'box_2_port_entry_timestamps',\n",
       "       'lfp_timestamps', 'mPFC_lfp_RMS_filtered', 'MD_lfp_RMS_filtered',\n",
       "       'LH_lfp_RMS_filtered', 'BLA_lfp_RMS_filtered', 'vHPC_lfp_RMS_filtered',\n",
       "       'mPFC_lfp_RMS_interpolated', 'MD_lfp_RMS_interpolated',\n",
       "       'LH_lfp_RMS_interpolated', 'BLA_lfp_RMS_interpolated',\n",
       "       'vHPC_lfp_RMS_interpolated', 'mPFC_theta_band', 'MD_theta_band',\n",
       "       'LH_theta_band', 'BLA_theta_band', 'vHPC_theta_band', 'mPFC_gamma_band',\n",
       "       'MD_gamma_band', 'LH_gamma_band', 'BLA_gamma_band', 'vHPC_gamma_band',\n",
       "       'mPFC_theta_phase', 'MD_theta_phase', 'LH_theta_phase',\n",
       "       'BLA_theta_phase', 'vHPC_theta_phase', 'mPFC_gamma_phase',\n",
       "       'MD_gamma_phase', 'LH_gamma_phase', 'BLA_gamma_phase',\n",
       "       'vHPC_gamma_phase',\n",
       "       'mPFC_RMS_filtered_power_all_frequencies_all_windows',\n",
       "       'MD_RMS_filtered_power_all_frequencies_all_windows',\n",
       "       'LH_RMS_filtered_power_all_frequencies_all_windows',\n",
       "       'BLA_RMS_filtered_power_all_frequencies_all_windows',\n",
       "       'vHPC_RMS_filtered_power_all_frequencies_all_windows',\n",
       "       'power_timestamps', 'power_calculation_frequencies',\n",
       "       'BLA_LH_RMS_filtered_coherence_all_frequencies_all_windows',\n",
       "       'BLA_MD_RMS_filtered_coherence_all_frequencies_all_windows',\n",
       "       'BLA_mPFC_RMS_filtered_coherence_all_frequencies_all_windows',\n",
       "       'BLA_vHPC_RMS_filtered_coherence_all_frequencies_all_windows',\n",
       "       'LH_MD_RMS_filtered_coherence_all_frequencies_all_windows',\n",
       "       'LH_mPFC_RMS_filtered_coherence_all_frequencies_all_windows',\n",
       "       'LH_vHPC_RMS_filtered_coherence_all_frequencies_all_windows',\n",
       "       'MD_mPFC_RMS_filtered_coherence_all_frequencies_all_windows',\n",
       "       'MD_vHPC_RMS_filtered_coherence_all_frequencies_all_windows',\n",
       "       'mPFC_vHPC_RMS_filtered_coherence_all_frequencies_all_windows',\n",
       "       'coherence_timestamps', 'coherence_calculation_frequencies'],\n",
       "      dtype='object')"
      ]
     },
     "execution_count": 101,
     "metadata": {},
     "output_type": "execute_result"
    }
   ],
   "source": [
    "LFP_TRACES_DF.columns"
   ]
  },
  {
   "cell_type": "code",
   "execution_count": 102,
   "metadata": {
    "tags": []
   },
   "outputs": [
    {
     "data": {
      "text/html": [
       "<div>\n",
       "<style scoped>\n",
       "    .dataframe tbody tr th:only-of-type {\n",
       "        vertical-align: middle;\n",
       "    }\n",
       "\n",
       "    .dataframe tbody tr th {\n",
       "        vertical-align: top;\n",
       "    }\n",
       "\n",
       "    .dataframe thead th {\n",
       "        text-align: right;\n",
       "    }\n",
       "</style>\n",
       "<table border=\"1\" class=\"dataframe\">\n",
       "  <thead>\n",
       "    <tr style=\"text-align: right;\">\n",
       "      <th></th>\n",
       "      <th>cohort</th>\n",
       "      <th>session_dir</th>\n",
       "      <th>tone_frames</th>\n",
       "      <th>box_1_port_entry_frames</th>\n",
       "      <th>box_2_port_entry_frames</th>\n",
       "      <th>video_name</th>\n",
       "      <th>session_path</th>\n",
       "      <th>recording</th>\n",
       "      <th>current_subject</th>\n",
       "      <th>subject</th>\n",
       "      <th>...</th>\n",
       "      <th>BLA_mPFC_RMS_filtered_coherence_all_frequencies_all_windows</th>\n",
       "      <th>BLA_vHPC_RMS_filtered_coherence_all_frequencies_all_windows</th>\n",
       "      <th>LH_MD_RMS_filtered_coherence_all_frequencies_all_windows</th>\n",
       "      <th>LH_mPFC_RMS_filtered_coherence_all_frequencies_all_windows</th>\n",
       "      <th>LH_vHPC_RMS_filtered_coherence_all_frequencies_all_windows</th>\n",
       "      <th>MD_mPFC_RMS_filtered_coherence_all_frequencies_all_windows</th>\n",
       "      <th>MD_vHPC_RMS_filtered_coherence_all_frequencies_all_windows</th>\n",
       "      <th>mPFC_vHPC_RMS_filtered_coherence_all_frequencies_all_windows</th>\n",
       "      <th>coherence_timestamps</th>\n",
       "      <th>coherence_calculation_frequencies</th>\n",
       "    </tr>\n",
       "  </thead>\n",
       "  <tbody>\n",
       "    <tr>\n",
       "      <th>0</th>\n",
       "      <td>2</td>\n",
       "      <td>20230612_101430_standard_comp_to_training_D1_s...</td>\n",
       "      <td>[[980, 1181], [3376, 3575], [5672, 5871], [746...</td>\n",
       "      <td>[[490, 514], [518, 558], [558, 637], [638, 640...</td>\n",
       "      <td>[[33137, 33147], [33665, 33666], [33668, 33669...</td>\n",
       "      <td>20230612_101430_standard_comp_to_training_D1_s...</td>\n",
       "      <td>/scratch/back_up/reward_competition_extention/...</td>\n",
       "      <td>20230612_101430_standard_comp_to_training_D1_s...</td>\n",
       "      <td>1.3</td>\n",
       "      <td>1.3</td>\n",
       "      <td>...</td>\n",
       "      <td>[[0.895295, 0.75152117, 0.7654758, 0.5750287, ...</td>\n",
       "      <td>[[0.85538274, 0.9473491, 0.85133094, 0.8886854...</td>\n",
       "      <td>[[0.8989649, 0.9760324, 0.97991437, 0.9659002,...</td>\n",
       "      <td>[[0.98758525, 0.9969371, 0.99350476, 0.9860859...</td>\n",
       "      <td>[[0.5242202, 0.6692347, 0.6810993, 0.7297231, ...</td>\n",
       "      <td>[[0.9551989, 0.96587896, 0.9731124, 0.94918567...</td>\n",
       "      <td>[[0.8203178, 0.6313364, 0.6094348, 0.6193265, ...</td>\n",
       "      <td>[[0.63334197, 0.71688265, 0.6821726, 0.7018544...</td>\n",
       "      <td>[10000, 20000, 30000, 40000, 50000, 60000, 700...</td>\n",
       "      <td>[0.0, 1.0, 2.0, 3.0, 4.0, 5.0, 6.0, 7.0, 8.0, ...</td>\n",
       "    </tr>\n",
       "    <tr>\n",
       "      <th>1</th>\n",
       "      <td>2</td>\n",
       "      <td>20230612_101430_standard_comp_to_training_D1_s...</td>\n",
       "      <td>[[980, 1180], [3376, 3575], [5672, 5871], [746...</td>\n",
       "      <td>[[490, 514], [518, 558], [558, 637], [638, 640...</td>\n",
       "      <td>[[33021, 33027], [33502, 33503], [33504, 33506...</td>\n",
       "      <td>20230612_101430_standard_comp_to_training_D1_s...</td>\n",
       "      <td>/scratch/back_up/reward_competition_extention/...</td>\n",
       "      <td>20230612_101430_standard_comp_to_training_D1_s...</td>\n",
       "      <td>1.3</td>\n",
       "      <td>1.3</td>\n",
       "      <td>...</td>\n",
       "      <td>[[0.895295, 0.75152117, 0.7654758, 0.5750287, ...</td>\n",
       "      <td>[[0.85538274, 0.9473491, 0.85133094, 0.8886854...</td>\n",
       "      <td>[[0.8989649, 0.9760324, 0.97991437, 0.9659002,...</td>\n",
       "      <td>[[0.98758525, 0.9969371, 0.99350476, 0.9860859...</td>\n",
       "      <td>[[0.5242202, 0.6692347, 0.6810993, 0.7297231, ...</td>\n",
       "      <td>[[0.9551989, 0.96587896, 0.9731124, 0.94918567...</td>\n",
       "      <td>[[0.8203178, 0.6313364, 0.6094348, 0.6193265, ...</td>\n",
       "      <td>[[0.63334197, 0.71688265, 0.6821726, 0.7018544...</td>\n",
       "      <td>[10000, 20000, 30000, 40000, 50000, 60000, 700...</td>\n",
       "      <td>[0.0, 1.0, 2.0, 3.0, 4.0, 5.0, 6.0, 7.0, 8.0, ...</td>\n",
       "    </tr>\n",
       "    <tr>\n",
       "      <th>2</th>\n",
       "      <td>2</td>\n",
       "      <td>20230612_101430_standard_comp_to_training_D1_s...</td>\n",
       "      <td>[[980, 1181], [3376, 3575], [5672, 5871], [746...</td>\n",
       "      <td>[[490, 514], [518, 558], [558, 637], [638, 640...</td>\n",
       "      <td>[[33137, 33147], [33665, 33666], [33668, 33669...</td>\n",
       "      <td>20230612_101430_standard_comp_to_training_D1_s...</td>\n",
       "      <td>/scratch/back_up/reward_competition_extention/...</td>\n",
       "      <td>20230612_101430_standard_comp_to_training_D1_s...</td>\n",
       "      <td>1.4</td>\n",
       "      <td>1.4</td>\n",
       "      <td>...</td>\n",
       "      <td>[[0.49185678, 0.48341042, 0.83400226, 0.549778...</td>\n",
       "      <td>[[0.94447166, 0.9370585, 0.97242934, 0.8198627...</td>\n",
       "      <td>[[0.99695826, 0.9975801, 0.9912695, 0.9616406,...</td>\n",
       "      <td>[[0.05826523, 0.2382561, 0.29821226, 0.2188783...</td>\n",
       "      <td>[[0.018408593, 0.818058, 0.11358966, 0.4236967...</td>\n",
       "      <td>[[0.07472135, 0.21970199, 0.29790184, 0.337977...</td>\n",
       "      <td>[[0.0065454636, 0.7808023, 0.14767082, 0.59176...</td>\n",
       "      <td>[[0.34496546, 0.3153885, 0.76019776, 0.8979203...</td>\n",
       "      <td>[10000, 20000, 30000, 40000, 50000, 60000, 700...</td>\n",
       "      <td>[0.0, 1.0, 2.0, 3.0, 4.0, 5.0, 6.0, 7.0, 8.0, ...</td>\n",
       "    </tr>\n",
       "    <tr>\n",
       "      <th>3</th>\n",
       "      <td>2</td>\n",
       "      <td>20230612_101430_standard_comp_to_training_D1_s...</td>\n",
       "      <td>[[980, 1180], [3376, 3575], [5672, 5871], [746...</td>\n",
       "      <td>[[490, 514], [518, 558], [558, 637], [638, 640...</td>\n",
       "      <td>[[33021, 33027], [33502, 33503], [33504, 33506...</td>\n",
       "      <td>20230612_101430_standard_comp_to_training_D1_s...</td>\n",
       "      <td>/scratch/back_up/reward_competition_extention/...</td>\n",
       "      <td>20230612_101430_standard_comp_to_training_D1_s...</td>\n",
       "      <td>1.4</td>\n",
       "      <td>1.4</td>\n",
       "      <td>...</td>\n",
       "      <td>[[0.49185678, 0.48341042, 0.83400226, 0.549778...</td>\n",
       "      <td>[[0.94447166, 0.9370585, 0.97242934, 0.8198627...</td>\n",
       "      <td>[[0.99695826, 0.9975801, 0.9912695, 0.9616406,...</td>\n",
       "      <td>[[0.05826523, 0.2382561, 0.29821226, 0.2188783...</td>\n",
       "      <td>[[0.018408593, 0.818058, 0.11358966, 0.4236967...</td>\n",
       "      <td>[[0.07472135, 0.21970199, 0.29790184, 0.337977...</td>\n",
       "      <td>[[0.0065454636, 0.7808023, 0.14767082, 0.59176...</td>\n",
       "      <td>[[0.34496546, 0.3153885, 0.76019776, 0.8979203...</td>\n",
       "      <td>[10000, 20000, 30000, 40000, 50000, 60000, 700...</td>\n",
       "      <td>[0.0, 1.0, 2.0, 3.0, 4.0, 5.0, 6.0, 7.0, 8.0, ...</td>\n",
       "    </tr>\n",
       "    <tr>\n",
       "      <th>4</th>\n",
       "      <td>2</td>\n",
       "      <td>20230612_112630_standard_comp_to_training_D1_s...</td>\n",
       "      <td>[[1125, 1324], [3519, 3720], [5815, 6014], [76...</td>\n",
       "      <td>[[192, 248], [389, 405], [916, 929], [929, 948...</td>\n",
       "      <td>[[33019, 33020], [33246, 33251], [33253, 33255...</td>\n",
       "      <td>20230612_112630_standard_comp_to_training_D1_s...</td>\n",
       "      <td>/scratch/back_up/reward_competition_extention/...</td>\n",
       "      <td>20230612_112630_standard_comp_to_training_D1_s...</td>\n",
       "      <td>1.1</td>\n",
       "      <td>1.1</td>\n",
       "      <td>...</td>\n",
       "      <td>[[0.9831504, 0.88032085, 0.63186616, 0.3957466...</td>\n",
       "      <td>[[0.15055636, 0.35299417, 0.33805582, 0.032195...</td>\n",
       "      <td>[[0.99871045, 0.9933215, 0.95171344, 0.8566751...</td>\n",
       "      <td>[[0.99054784, 0.86398536, 0.5135868, 0.1289462...</td>\n",
       "      <td>[[0.27016932, 0.3479824, 0.30882007, 0.0206784...</td>\n",
       "      <td>[[0.9958313, 0.85713387, 0.6707841, 0.29331368...</td>\n",
       "      <td>[[0.23889646, 0.38231337, 0.32926935, 0.010939...</td>\n",
       "      <td>[[0.19317801, 0.10050745, 0.027157525, 0.01544...</td>\n",
       "      <td>[10000, 20000, 30000, 40000, 50000, 60000, 700...</td>\n",
       "      <td>[0.0, 1.0, 2.0, 3.0, 4.0, 5.0, 6.0, 7.0, 8.0, ...</td>\n",
       "    </tr>\n",
       "  </tbody>\n",
       "</table>\n",
       "<p>5 rows × 67 columns</p>\n",
       "</div>"
      ],
      "text/plain": [
       "   cohort                                        session_dir  \\\n",
       "0       2  20230612_101430_standard_comp_to_training_D1_s...   \n",
       "1       2  20230612_101430_standard_comp_to_training_D1_s...   \n",
       "2       2  20230612_101430_standard_comp_to_training_D1_s...   \n",
       "3       2  20230612_101430_standard_comp_to_training_D1_s...   \n",
       "4       2  20230612_112630_standard_comp_to_training_D1_s...   \n",
       "\n",
       "                                         tone_frames  \\\n",
       "0  [[980, 1181], [3376, 3575], [5672, 5871], [746...   \n",
       "1  [[980, 1180], [3376, 3575], [5672, 5871], [746...   \n",
       "2  [[980, 1181], [3376, 3575], [5672, 5871], [746...   \n",
       "3  [[980, 1180], [3376, 3575], [5672, 5871], [746...   \n",
       "4  [[1125, 1324], [3519, 3720], [5815, 6014], [76...   \n",
       "\n",
       "                             box_1_port_entry_frames  \\\n",
       "0  [[490, 514], [518, 558], [558, 637], [638, 640...   \n",
       "1  [[490, 514], [518, 558], [558, 637], [638, 640...   \n",
       "2  [[490, 514], [518, 558], [558, 637], [638, 640...   \n",
       "3  [[490, 514], [518, 558], [558, 637], [638, 640...   \n",
       "4  [[192, 248], [389, 405], [916, 929], [929, 948...   \n",
       "\n",
       "                             box_2_port_entry_frames  \\\n",
       "0  [[33137, 33147], [33665, 33666], [33668, 33669...   \n",
       "1  [[33021, 33027], [33502, 33503], [33504, 33506...   \n",
       "2  [[33137, 33147], [33665, 33666], [33668, 33669...   \n",
       "3  [[33021, 33027], [33502, 33503], [33504, 33506...   \n",
       "4  [[33019, 33020], [33246, 33251], [33253, 33255...   \n",
       "\n",
       "                                          video_name  \\\n",
       "0  20230612_101430_standard_comp_to_training_D1_s...   \n",
       "1  20230612_101430_standard_comp_to_training_D1_s...   \n",
       "2  20230612_101430_standard_comp_to_training_D1_s...   \n",
       "3  20230612_101430_standard_comp_to_training_D1_s...   \n",
       "4  20230612_112630_standard_comp_to_training_D1_s...   \n",
       "\n",
       "                                        session_path  \\\n",
       "0  /scratch/back_up/reward_competition_extention/...   \n",
       "1  /scratch/back_up/reward_competition_extention/...   \n",
       "2  /scratch/back_up/reward_competition_extention/...   \n",
       "3  /scratch/back_up/reward_competition_extention/...   \n",
       "4  /scratch/back_up/reward_competition_extention/...   \n",
       "\n",
       "                                           recording current_subject subject  \\\n",
       "0  20230612_101430_standard_comp_to_training_D1_s...             1.3     1.3   \n",
       "1  20230612_101430_standard_comp_to_training_D1_s...             1.3     1.3   \n",
       "2  20230612_101430_standard_comp_to_training_D1_s...             1.4     1.4   \n",
       "3  20230612_101430_standard_comp_to_training_D1_s...             1.4     1.4   \n",
       "4  20230612_112630_standard_comp_to_training_D1_s...             1.1     1.1   \n",
       "\n",
       "   ... BLA_mPFC_RMS_filtered_coherence_all_frequencies_all_windows  \\\n",
       "0  ...  [[0.895295, 0.75152117, 0.7654758, 0.5750287, ...            \n",
       "1  ...  [[0.895295, 0.75152117, 0.7654758, 0.5750287, ...            \n",
       "2  ...  [[0.49185678, 0.48341042, 0.83400226, 0.549778...            \n",
       "3  ...  [[0.49185678, 0.48341042, 0.83400226, 0.549778...            \n",
       "4  ...  [[0.9831504, 0.88032085, 0.63186616, 0.3957466...            \n",
       "\n",
       "   BLA_vHPC_RMS_filtered_coherence_all_frequencies_all_windows  \\\n",
       "0  [[0.85538274, 0.9473491, 0.85133094, 0.8886854...             \n",
       "1  [[0.85538274, 0.9473491, 0.85133094, 0.8886854...             \n",
       "2  [[0.94447166, 0.9370585, 0.97242934, 0.8198627...             \n",
       "3  [[0.94447166, 0.9370585, 0.97242934, 0.8198627...             \n",
       "4  [[0.15055636, 0.35299417, 0.33805582, 0.032195...             \n",
       "\n",
       "   LH_MD_RMS_filtered_coherence_all_frequencies_all_windows  \\\n",
       "0  [[0.8989649, 0.9760324, 0.97991437, 0.9659002,...          \n",
       "1  [[0.8989649, 0.9760324, 0.97991437, 0.9659002,...          \n",
       "2  [[0.99695826, 0.9975801, 0.9912695, 0.9616406,...          \n",
       "3  [[0.99695826, 0.9975801, 0.9912695, 0.9616406,...          \n",
       "4  [[0.99871045, 0.9933215, 0.95171344, 0.8566751...          \n",
       "\n",
       "  LH_mPFC_RMS_filtered_coherence_all_frequencies_all_windows  \\\n",
       "0  [[0.98758525, 0.9969371, 0.99350476, 0.9860859...           \n",
       "1  [[0.98758525, 0.9969371, 0.99350476, 0.9860859...           \n",
       "2  [[0.05826523, 0.2382561, 0.29821226, 0.2188783...           \n",
       "3  [[0.05826523, 0.2382561, 0.29821226, 0.2188783...           \n",
       "4  [[0.99054784, 0.86398536, 0.5135868, 0.1289462...           \n",
       "\n",
       "  LH_vHPC_RMS_filtered_coherence_all_frequencies_all_windows  \\\n",
       "0  [[0.5242202, 0.6692347, 0.6810993, 0.7297231, ...           \n",
       "1  [[0.5242202, 0.6692347, 0.6810993, 0.7297231, ...           \n",
       "2  [[0.018408593, 0.818058, 0.11358966, 0.4236967...           \n",
       "3  [[0.018408593, 0.818058, 0.11358966, 0.4236967...           \n",
       "4  [[0.27016932, 0.3479824, 0.30882007, 0.0206784...           \n",
       "\n",
       "  MD_mPFC_RMS_filtered_coherence_all_frequencies_all_windows  \\\n",
       "0  [[0.9551989, 0.96587896, 0.9731124, 0.94918567...           \n",
       "1  [[0.9551989, 0.96587896, 0.9731124, 0.94918567...           \n",
       "2  [[0.07472135, 0.21970199, 0.29790184, 0.337977...           \n",
       "3  [[0.07472135, 0.21970199, 0.29790184, 0.337977...           \n",
       "4  [[0.9958313, 0.85713387, 0.6707841, 0.29331368...           \n",
       "\n",
       "  MD_vHPC_RMS_filtered_coherence_all_frequencies_all_windows  \\\n",
       "0  [[0.8203178, 0.6313364, 0.6094348, 0.6193265, ...           \n",
       "1  [[0.8203178, 0.6313364, 0.6094348, 0.6193265, ...           \n",
       "2  [[0.0065454636, 0.7808023, 0.14767082, 0.59176...           \n",
       "3  [[0.0065454636, 0.7808023, 0.14767082, 0.59176...           \n",
       "4  [[0.23889646, 0.38231337, 0.32926935, 0.010939...           \n",
       "\n",
       "  mPFC_vHPC_RMS_filtered_coherence_all_frequencies_all_windows  \\\n",
       "0  [[0.63334197, 0.71688265, 0.6821726, 0.7018544...             \n",
       "1  [[0.63334197, 0.71688265, 0.6821726, 0.7018544...             \n",
       "2  [[0.34496546, 0.3153885, 0.76019776, 0.8979203...             \n",
       "3  [[0.34496546, 0.3153885, 0.76019776, 0.8979203...             \n",
       "4  [[0.19317801, 0.10050745, 0.027157525, 0.01544...             \n",
       "\n",
       "                                coherence_timestamps  \\\n",
       "0  [10000, 20000, 30000, 40000, 50000, 60000, 700...   \n",
       "1  [10000, 20000, 30000, 40000, 50000, 60000, 700...   \n",
       "2  [10000, 20000, 30000, 40000, 50000, 60000, 700...   \n",
       "3  [10000, 20000, 30000, 40000, 50000, 60000, 700...   \n",
       "4  [10000, 20000, 30000, 40000, 50000, 60000, 700...   \n",
       "\n",
       "                   coherence_calculation_frequencies  \n",
       "0  [0.0, 1.0, 2.0, 3.0, 4.0, 5.0, 6.0, 7.0, 8.0, ...  \n",
       "1  [0.0, 1.0, 2.0, 3.0, 4.0, 5.0, 6.0, 7.0, 8.0, ...  \n",
       "2  [0.0, 1.0, 2.0, 3.0, 4.0, 5.0, 6.0, 7.0, 8.0, ...  \n",
       "3  [0.0, 1.0, 2.0, 3.0, 4.0, 5.0, 6.0, 7.0, 8.0, ...  \n",
       "4  [0.0, 1.0, 2.0, 3.0, 4.0, 5.0, 6.0, 7.0, 8.0, ...  \n",
       "\n",
       "[5 rows x 67 columns]"
      ]
     },
     "execution_count": 102,
     "metadata": {},
     "output_type": "execute_result"
    }
   ],
   "source": [
    "LFP_TRACES_DF.head()"
   ]
  },
  {
   "cell_type": "raw",
   "metadata": {
    "tags": []
   },
   "source": [
    "LFP_TRACES_DF.to_pickle(\"./proc/rce2_spectral_coherence.pkl\")"
   ]
  },
  {
   "cell_type": "markdown",
   "metadata": {},
   "source": [
    "# Calculate Granger's"
   ]
  },
  {
   "cell_type": "code",
   "execution_count": 103,
   "metadata": {
    "tags": []
   },
   "outputs": [],
   "source": [
    "column_to_recording_dict = recursive_defaultdict()"
   ]
  },
  {
   "cell_type": "code",
   "execution_count": 104,
   "metadata": {
    "tags": []
   },
   "outputs": [
    {
     "name": "stdout",
     "output_type": "stream",
     "text": [
      "BLA_LH\n",
      "\t 20230612_101430_standard_comp_to_training_D1_subj_1-3_t3b3L_box2_merged\n"
     ]
    },
    {
     "name": "stderr",
     "output_type": "stream",
     "text": [
      "Maximum iterations reached. 6012 of 6828 converged\n",
      "Maximum iterations reached. 6012 of 6828 converged\n"
     ]
    },
    {
     "name": "stdout",
     "output_type": "stream",
     "text": [
      "\t 20230612_101430_standard_comp_to_training_D1_subj_1-4_t4b2L_box1_merged\n"
     ]
    },
    {
     "name": "stderr",
     "output_type": "stream",
     "text": [
      "Maximum iterations reached. 5138 of 6828 converged\n",
      "Maximum iterations reached. 5138 of 6828 converged\n"
     ]
    },
    {
     "name": "stdout",
     "output_type": "stream",
     "text": [
      "\t 20230612_112630_standard_comp_to_training_D1_subj_1-1_t1b3L_box2_merged\n"
     ]
    },
    {
     "name": "stderr",
     "output_type": "stream",
     "text": [
      "Maximum iterations reached. 6353 of 6833 converged\n",
      "Maximum iterations reached. 6353 of 6833 converged\n"
     ]
    },
    {
     "name": "stdout",
     "output_type": "stream",
     "text": [
      "\t 20230612_112630_standard_comp_to_training_D1_subj_1-2_t2b2L_box1_merged\n"
     ]
    },
    {
     "name": "stderr",
     "output_type": "stream",
     "text": [
      "Maximum iterations reached. 6042 of 6833 converged\n",
      "Maximum iterations reached. 6042 of 6833 converged\n"
     ]
    },
    {
     "name": "stdout",
     "output_type": "stream",
     "text": [
      "\t 20230613_105657_standard_comp_to_training_D2_subj_1-1_t1b2L_box1_merged\n"
     ]
    },
    {
     "name": "stderr",
     "output_type": "stream",
     "text": [
      "Maximum iterations reached. 6393 of 6840 converged\n",
      "Maximum iterations reached. 6393 of 6840 converged\n"
     ]
    },
    {
     "name": "stdout",
     "output_type": "stream",
     "text": [
      "\t 20230613_105657_standard_comp_to_training_D2_subj_1-4_t4b3L_box2_merged\n"
     ]
    },
    {
     "name": "stderr",
     "output_type": "stream",
     "text": [
      "Maximum iterations reached. 6166 of 6841 converged\n",
      "Maximum iterations reached. 6166 of 6841 converged\n"
     ]
    },
    {
     "name": "stdout",
     "output_type": "stream",
     "text": [
      "\t 20230614_114041_standard_comp_to_training_D3_subj_1-1_t1b3L_box1_merged\n"
     ]
    },
    {
     "name": "stderr",
     "output_type": "stream",
     "text": [
      "Maximum iterations reached. 6316 of 6804 converged\n",
      "Maximum iterations reached. 6316 of 6804 converged\n"
     ]
    },
    {
     "name": "stdout",
     "output_type": "stream",
     "text": [
      "\t 20230614_114041_standard_comp_to_training_D3_subj_1-2_t2b2L_box2_merged\n"
     ]
    },
    {
     "name": "stderr",
     "output_type": "stream",
     "text": [
      "Maximum iterations reached. 5172 of 6678 converged\n",
      "Maximum iterations reached. 5172 of 6678 converged\n"
     ]
    },
    {
     "name": "stdout",
     "output_type": "stream",
     "text": [
      "\t 20230616_111904_standard_comp_to_training_D4_subj_1-2_t2b2L_box2_merged\n"
     ]
    },
    {
     "name": "stderr",
     "output_type": "stream",
     "text": [
      "Maximum iterations reached. 6017 of 6746 converged\n",
      "Maximum iterations reached. 6017 of 6746 converged\n"
     ]
    },
    {
     "name": "stdout",
     "output_type": "stream",
     "text": [
      "\t 20230616_111904_standard_comp_to_training_D4_subj_1-4_t4b3L_box1_merged\n"
     ]
    },
    {
     "name": "stderr",
     "output_type": "stream",
     "text": [
      "Maximum iterations reached. 5853 of 6746 converged\n",
      "Maximum iterations reached. 5853 of 6746 converged\n"
     ]
    },
    {
     "name": "stdout",
     "output_type": "stream",
     "text": [
      "\t 20230617_115521_standard_comp_to_omission_D1_subj_1-1_t1b3L_box1_merged\n"
     ]
    },
    {
     "name": "stderr",
     "output_type": "stream",
     "text": [
      "Maximum iterations reached. 7528 of 7968 converged\n",
      "Maximum iterations reached. 7528 of 7968 converged\n"
     ]
    },
    {
     "name": "stdout",
     "output_type": "stream",
     "text": [
      "\t 20230617_115521_standard_comp_to_omission_D1_subj_1-2_t2b2L_box2_merged\n"
     ]
    },
    {
     "name": "stderr",
     "output_type": "stream",
     "text": [
      "Maximum iterations reached. 7121 of 7968 converged\n",
      "Maximum iterations reached. 7121 of 7968 converged\n"
     ]
    },
    {
     "name": "stdout",
     "output_type": "stream",
     "text": [
      "\t 20230618_100636_standard_comp_to_omission_D2_subj_1_1_t1b2L_box2_merged\n"
     ]
    },
    {
     "name": "stderr",
     "output_type": "stream",
     "text": [
      "Maximum iterations reached. 5694 of 6559 converged\n",
      "Maximum iterations reached. 5694 of 6559 converged\n"
     ]
    },
    {
     "name": "stdout",
     "output_type": "stream",
     "text": [
      "\t 20230618_100636_standard_comp_to_omission_D2_subj_1_4_t4b3L_box1_merged\n"
     ]
    },
    {
     "name": "stderr",
     "output_type": "stream",
     "text": [
      "Maximum iterations reached. 5056 of 6858 converged\n",
      "Maximum iterations reached. 5056 of 6858 converged\n"
     ]
    },
    {
     "name": "stdout",
     "output_type": "stream",
     "text": [
      "\t 20230619_115321_standard_comp_to_omission_D3_subj_1-4_t3b3L_box2_merged\n"
     ]
    },
    {
     "name": "stderr",
     "output_type": "stream",
     "text": [
      "Maximum iterations reached. 3194 of 4117 converged\n",
      "Maximum iterations reached. 3194 of 4117 converged\n"
     ]
    },
    {
     "name": "stdout",
     "output_type": "stream",
     "text": [
      "\t 20230620_114347_standard_comp_to_omission_D4_subj_1-1_t1b2L_box_2_merged\n"
     ]
    },
    {
     "name": "stderr",
     "output_type": "stream",
     "text": [
      "Maximum iterations reached. 6532 of 6835 converged\n",
      "Maximum iterations reached. 6532 of 6835 converged\n"
     ]
    },
    {
     "name": "stdout",
     "output_type": "stream",
     "text": [
      "\t 20230620_114347_standard_comp_to_omission_D4_subj_1-2_t3b3L_box_1_merged\n"
     ]
    },
    {
     "name": "stderr",
     "output_type": "stream",
     "text": [
      "Maximum iterations reached. 6122 of 6835 converged\n",
      "Maximum iterations reached. 6122 of 6835 converged\n"
     ]
    },
    {
     "name": "stdout",
     "output_type": "stream",
     "text": [
      "\t 20230621_111240_standard_comp_to_omission_D5_subj_1-4_t3b3L_box1_merged\n"
     ]
    },
    {
     "name": "stderr",
     "output_type": "stream",
     "text": [
      "Maximum iterations reached. 6384 of 6979 converged\n",
      "Maximum iterations reached. 6384 of 6979 converged\n"
     ]
    },
    {
     "name": "stdout",
     "output_type": "stream",
     "text": [
      "\t 20230622_110832_standard_comp_to_both_rewarded_D1_subj_1-1_t1b3L_box1_merged\n"
     ]
    },
    {
     "name": "stderr",
     "output_type": "stream",
     "text": [
      "Maximum iterations reached. 5699 of 7034 converged\n",
      "Maximum iterations reached. 5699 of 7034 converged\n"
     ]
    },
    {
     "name": "stdout",
     "output_type": "stream",
     "text": [
      "\t 20230622_110832_standard_comp_to_both_rewarded_D1_subj_1-2_t3b3L_box1_merged\n"
     ]
    },
    {
     "name": "stderr",
     "output_type": "stream",
     "text": [
      "Maximum iterations reached. 6146 of 7204 converged\n",
      "Maximum iterations reached. 6146 of 7204 converged\n"
     ]
    },
    {
     "name": "stdout",
     "output_type": "stream",
     "text": [
      "\t 20230624_105855_standard_comp_to_both_rewarded_D3_subj_1-1_t1b2L_box1_merged\n"
     ]
    },
    {
     "name": "stderr",
     "output_type": "stream",
     "text": [
      "Maximum iterations reached. 6427 of 7175 converged\n",
      "Maximum iterations reached. 6427 of 7175 converged\n"
     ]
    },
    {
     "name": "stdout",
     "output_type": "stream",
     "text": [
      "\t 20230624_105855_standard_comp_to_both_rewarded_D3_subj_1-4_t3b3L_box1_merged\n"
     ]
    },
    {
     "name": "stderr",
     "output_type": "stream",
     "text": [
      "Maximum iterations reached. 5917 of 7175 converged\n",
      "Maximum iterations reached. 5917 of 7175 converged\n"
     ]
    },
    {
     "name": "stdout",
     "output_type": "stream",
     "text": [
      "\t 20230625_112913_standard_comp_to_both_rewarded_D4_subj_1-1_t1b2L_box1_merged\n"
     ]
    },
    {
     "name": "stderr",
     "output_type": "stream",
     "text": [
      "Maximum iterations reached. 6670 of 7241 converged\n",
      "Maximum iterations reached. 6670 of 7241 converged\n"
     ]
    },
    {
     "name": "stdout",
     "output_type": "stream",
     "text": [
      "\t 20230625_112913_standard_comp_to_both_rewarded_D4_subj_1-4_t3b3L_box1_merged\n"
     ]
    },
    {
     "name": "stderr",
     "output_type": "stream",
     "text": [
      "Maximum iterations reached. 5939 of 7241 converged\n",
      "Maximum iterations reached. 5939 of 7241 converged\n"
     ]
    },
    {
     "name": "stdout",
     "output_type": "stream",
     "text": [
      "\t 20230628_111202_standard_comp_to_novel_agent_D1_subj_1-1vs1-2and2-2_merged\n"
     ]
    },
    {
     "name": "stderr",
     "output_type": "stream",
     "text": [
      "Maximum iterations reached. 6502 of 6831 converged\n",
      "Maximum iterations reached. 6502 of 6831 converged\n"
     ]
    },
    {
     "name": "stdout",
     "output_type": "stream",
     "text": [
      "\t 20230628_111202_standard_comp_to_novel_agent_D1_subj_1-2vs1-1and2-1_merged\n"
     ]
    },
    {
     "name": "stderr",
     "output_type": "stream",
     "text": [
      "Maximum iterations reached. 5982 of 6831 converged\n",
      "Maximum iterations reached. 5982 of 6831 converged\n"
     ]
    },
    {
     "name": "stdout",
     "output_type": "stream",
     "text": [
      "\t 20230629_111937_standard_comp_to_novel_agent_D2_subj_1-1v1-4and2-1_merged\n"
     ]
    },
    {
     "name": "stderr",
     "output_type": "stream",
     "text": [
      "Maximum iterations reached. 6243 of 6842 converged\n",
      "Maximum iterations reached. 6243 of 6842 converged\n"
     ]
    },
    {
     "name": "stdout",
     "output_type": "stream",
     "text": [
      "\t 20230629_111937_standard_comp_to_novel_agent_D2_subj_1-4vs1-1and2-2_merged\n"
     ]
    },
    {
     "name": "stderr",
     "output_type": "stream",
     "text": [
      "Maximum iterations reached. 6198 of 6842 converged\n",
      "Maximum iterations reached. 6198 of 6842 converged\n"
     ]
    },
    {
     "name": "stdout",
     "output_type": "stream",
     "text": [
      "\t 20230630_115506_standard_comp_to_novel_agent_D3_subj_1-2vs1-4and2-2_merged\n"
     ]
    },
    {
     "name": "stderr",
     "output_type": "stream",
     "text": [
      "Maximum iterations reached. 6007 of 6855 converged\n",
      "Maximum iterations reached. 6007 of 6855 converged\n"
     ]
    },
    {
     "name": "stdout",
     "output_type": "stream",
     "text": [
      "\t 20230630_115506_standard_comp_to_novel_agent_D3_subj_1-4vs1-2and2-1_merged\n"
     ]
    },
    {
     "name": "stderr",
     "output_type": "stream",
     "text": [
      "Maximum iterations reached. 6240 of 6855 converged\n",
      "Maximum iterations reached. 6240 of 6855 converged\n"
     ]
    },
    {
     "name": "stdout",
     "output_type": "stream",
     "text": [
      "BLA_MD\n",
      "\t 20230612_101430_standard_comp_to_training_D1_subj_1-3_t3b3L_box2_merged\n"
     ]
    },
    {
     "name": "stderr",
     "output_type": "stream",
     "text": [
      "Maximum iterations reached. 6014 of 6828 converged\n",
      "Maximum iterations reached. 6014 of 6828 converged\n"
     ]
    },
    {
     "name": "stdout",
     "output_type": "stream",
     "text": [
      "\t 20230612_101430_standard_comp_to_training_D1_subj_1-4_t4b2L_box1_merged\n"
     ]
    },
    {
     "name": "stderr",
     "output_type": "stream",
     "text": [
      "Maximum iterations reached. 5006 of 6828 converged\n",
      "Maximum iterations reached. 5006 of 6828 converged\n"
     ]
    },
    {
     "name": "stdout",
     "output_type": "stream",
     "text": [
      "\t 20230612_112630_standard_comp_to_training_D1_subj_1-1_t1b3L_box2_merged\n"
     ]
    },
    {
     "name": "stderr",
     "output_type": "stream",
     "text": [
      "Maximum iterations reached. 6409 of 6833 converged\n",
      "Maximum iterations reached. 6409 of 6833 converged\n"
     ]
    },
    {
     "name": "stdout",
     "output_type": "stream",
     "text": [
      "\t 20230612_112630_standard_comp_to_training_D1_subj_1-2_t2b2L_box1_merged\n"
     ]
    },
    {
     "name": "stderr",
     "output_type": "stream",
     "text": [
      "Maximum iterations reached. 6149 of 6833 converged\n",
      "Maximum iterations reached. 6149 of 6833 converged\n"
     ]
    },
    {
     "name": "stdout",
     "output_type": "stream",
     "text": [
      "\t 20230613_105657_standard_comp_to_training_D2_subj_1-1_t1b2L_box1_merged\n"
     ]
    },
    {
     "name": "stderr",
     "output_type": "stream",
     "text": [
      "Maximum iterations reached. 6457 of 6840 converged\n",
      "Maximum iterations reached. 6457 of 6840 converged\n"
     ]
    },
    {
     "name": "stdout",
     "output_type": "stream",
     "text": [
      "\t 20230613_105657_standard_comp_to_training_D2_subj_1-4_t4b3L_box2_merged\n"
     ]
    },
    {
     "name": "stderr",
     "output_type": "stream",
     "text": [
      "Maximum iterations reached. 6145 of 6841 converged\n",
      "Maximum iterations reached. 6145 of 6841 converged\n"
     ]
    },
    {
     "name": "stdout",
     "output_type": "stream",
     "text": [
      "\t 20230614_114041_standard_comp_to_training_D3_subj_1-1_t1b3L_box1_merged\n"
     ]
    },
    {
     "name": "stderr",
     "output_type": "stream",
     "text": [
      "Maximum iterations reached. 6362 of 6804 converged\n",
      "Maximum iterations reached. 6362 of 6804 converged\n"
     ]
    },
    {
     "name": "stdout",
     "output_type": "stream",
     "text": [
      "\t 20230614_114041_standard_comp_to_training_D3_subj_1-2_t2b2L_box2_merged\n"
     ]
    },
    {
     "name": "stderr",
     "output_type": "stream",
     "text": [
      "Maximum iterations reached. 5318 of 6678 converged\n",
      "Maximum iterations reached. 5318 of 6678 converged\n"
     ]
    },
    {
     "name": "stdout",
     "output_type": "stream",
     "text": [
      "\t 20230616_111904_standard_comp_to_training_D4_subj_1-2_t2b2L_box2_merged\n"
     ]
    },
    {
     "name": "stderr",
     "output_type": "stream",
     "text": [
      "Maximum iterations reached. 6171 of 6746 converged\n",
      "Maximum iterations reached. 6171 of 6746 converged\n"
     ]
    },
    {
     "name": "stdout",
     "output_type": "stream",
     "text": [
      "\t 20230616_111904_standard_comp_to_training_D4_subj_1-4_t4b3L_box1_merged\n"
     ]
    },
    {
     "name": "stderr",
     "output_type": "stream",
     "text": [
      "Maximum iterations reached. 5829 of 6746 converged\n",
      "Maximum iterations reached. 5829 of 6746 converged\n"
     ]
    },
    {
     "name": "stdout",
     "output_type": "stream",
     "text": [
      "\t 20230617_115521_standard_comp_to_omission_D1_subj_1-1_t1b3L_box1_merged\n"
     ]
    },
    {
     "name": "stderr",
     "output_type": "stream",
     "text": [
      "Maximum iterations reached. 7587 of 7968 converged\n",
      "Maximum iterations reached. 7587 of 7968 converged\n"
     ]
    },
    {
     "name": "stdout",
     "output_type": "stream",
     "text": [
      "\t 20230617_115521_standard_comp_to_omission_D1_subj_1-2_t2b2L_box2_merged\n"
     ]
    },
    {
     "name": "stderr",
     "output_type": "stream",
     "text": [
      "Maximum iterations reached. 7335 of 7968 converged\n",
      "Maximum iterations reached. 7335 of 7968 converged\n"
     ]
    },
    {
     "name": "stdout",
     "output_type": "stream",
     "text": [
      "\t 20230618_100636_standard_comp_to_omission_D2_subj_1_1_t1b2L_box2_merged\n"
     ]
    },
    {
     "name": "stderr",
     "output_type": "stream",
     "text": [
      "Maximum iterations reached. 5753 of 6559 converged\n",
      "Maximum iterations reached. 5753 of 6559 converged\n"
     ]
    },
    {
     "name": "stdout",
     "output_type": "stream",
     "text": [
      "\t 20230618_100636_standard_comp_to_omission_D2_subj_1_4_t4b3L_box1_merged\n"
     ]
    },
    {
     "name": "stderr",
     "output_type": "stream",
     "text": [
      "Maximum iterations reached. 4915 of 6858 converged\n",
      "Maximum iterations reached. 4915 of 6858 converged\n"
     ]
    },
    {
     "name": "stdout",
     "output_type": "stream",
     "text": [
      "\t 20230619_115321_standard_comp_to_omission_D3_subj_1-4_t3b3L_box2_merged\n"
     ]
    },
    {
     "name": "stderr",
     "output_type": "stream",
     "text": [
      "Maximum iterations reached. 3209 of 4117 converged\n",
      "Maximum iterations reached. 3209 of 4117 converged\n"
     ]
    },
    {
     "name": "stdout",
     "output_type": "stream",
     "text": [
      "\t 20230620_114347_standard_comp_to_omission_D4_subj_1-1_t1b2L_box_2_merged\n"
     ]
    },
    {
     "name": "stderr",
     "output_type": "stream",
     "text": [
      "Maximum iterations reached. 6561 of 6835 converged\n",
      "Maximum iterations reached. 6561 of 6835 converged\n"
     ]
    },
    {
     "name": "stdout",
     "output_type": "stream",
     "text": [
      "\t 20230620_114347_standard_comp_to_omission_D4_subj_1-2_t3b3L_box_1_merged\n"
     ]
    },
    {
     "name": "stderr",
     "output_type": "stream",
     "text": [
      "Maximum iterations reached. 6137 of 6835 converged\n",
      "Maximum iterations reached. 6137 of 6835 converged\n"
     ]
    },
    {
     "name": "stdout",
     "output_type": "stream",
     "text": [
      "\t 20230621_111240_standard_comp_to_omission_D5_subj_1-4_t3b3L_box1_merged\n"
     ]
    },
    {
     "name": "stderr",
     "output_type": "stream",
     "text": [
      "Maximum iterations reached. 6381 of 6979 converged\n",
      "Maximum iterations reached. 6381 of 6979 converged\n"
     ]
    },
    {
     "name": "stdout",
     "output_type": "stream",
     "text": [
      "\t 20230622_110832_standard_comp_to_both_rewarded_D1_subj_1-1_t1b3L_box1_merged\n"
     ]
    },
    {
     "name": "stderr",
     "output_type": "stream",
     "text": [
      "Maximum iterations reached. 5760 of 7034 converged\n",
      "Maximum iterations reached. 5760 of 7034 converged\n"
     ]
    },
    {
     "name": "stdout",
     "output_type": "stream",
     "text": [
      "\t 20230622_110832_standard_comp_to_both_rewarded_D1_subj_1-2_t3b3L_box1_merged\n"
     ]
    },
    {
     "name": "stderr",
     "output_type": "stream",
     "text": [
      "Maximum iterations reached. 6221 of 7204 converged\n",
      "Maximum iterations reached. 6221 of 7204 converged\n"
     ]
    },
    {
     "name": "stdout",
     "output_type": "stream",
     "text": [
      "\t 20230624_105855_standard_comp_to_both_rewarded_D3_subj_1-1_t1b2L_box1_merged\n"
     ]
    },
    {
     "name": "stderr",
     "output_type": "stream",
     "text": [
      "Maximum iterations reached. 6526 of 7175 converged\n",
      "Maximum iterations reached. 6526 of 7175 converged\n"
     ]
    },
    {
     "name": "stdout",
     "output_type": "stream",
     "text": [
      "\t 20230624_105855_standard_comp_to_both_rewarded_D3_subj_1-4_t3b3L_box1_merged\n"
     ]
    },
    {
     "name": "stderr",
     "output_type": "stream",
     "text": [
      "Maximum iterations reached. 5903 of 7175 converged\n",
      "Maximum iterations reached. 5903 of 7175 converged\n"
     ]
    },
    {
     "name": "stdout",
     "output_type": "stream",
     "text": [
      "\t 20230625_112913_standard_comp_to_both_rewarded_D4_subj_1-1_t1b2L_box1_merged\n"
     ]
    },
    {
     "name": "stderr",
     "output_type": "stream",
     "text": [
      "Maximum iterations reached. 6716 of 7241 converged\n",
      "Maximum iterations reached. 6716 of 7241 converged\n"
     ]
    },
    {
     "name": "stdout",
     "output_type": "stream",
     "text": [
      "\t 20230625_112913_standard_comp_to_both_rewarded_D4_subj_1-4_t3b3L_box1_merged\n"
     ]
    },
    {
     "name": "stderr",
     "output_type": "stream",
     "text": [
      "Maximum iterations reached. 5967 of 7241 converged\n",
      "Maximum iterations reached. 5967 of 7241 converged\n"
     ]
    },
    {
     "name": "stdout",
     "output_type": "stream",
     "text": [
      "\t 20230628_111202_standard_comp_to_novel_agent_D1_subj_1-1vs1-2and2-2_merged\n"
     ]
    },
    {
     "name": "stderr",
     "output_type": "stream",
     "text": [
      "Maximum iterations reached. 6520 of 6831 converged\n",
      "Maximum iterations reached. 6520 of 6831 converged\n"
     ]
    },
    {
     "name": "stdout",
     "output_type": "stream",
     "text": [
      "\t 20230628_111202_standard_comp_to_novel_agent_D1_subj_1-2vs1-1and2-1_merged\n"
     ]
    },
    {
     "name": "stderr",
     "output_type": "stream",
     "text": [
      "Maximum iterations reached. 6133 of 6831 converged\n",
      "Maximum iterations reached. 6133 of 6831 converged\n"
     ]
    },
    {
     "name": "stdout",
     "output_type": "stream",
     "text": [
      "\t 20230629_111937_standard_comp_to_novel_agent_D2_subj_1-1v1-4and2-1_merged\n"
     ]
    },
    {
     "name": "stderr",
     "output_type": "stream",
     "text": [
      "Maximum iterations reached. 6285 of 6842 converged\n",
      "Maximum iterations reached. 6285 of 6842 converged\n"
     ]
    },
    {
     "name": "stdout",
     "output_type": "stream",
     "text": [
      "\t 20230629_111937_standard_comp_to_novel_agent_D2_subj_1-4vs1-1and2-2_merged\n"
     ]
    },
    {
     "name": "stderr",
     "output_type": "stream",
     "text": [
      "Maximum iterations reached. 6136 of 6842 converged\n",
      "Maximum iterations reached. 6136 of 6842 converged\n"
     ]
    },
    {
     "name": "stdout",
     "output_type": "stream",
     "text": [
      "\t 20230630_115506_standard_comp_to_novel_agent_D3_subj_1-2vs1-4and2-2_merged\n"
     ]
    },
    {
     "name": "stderr",
     "output_type": "stream",
     "text": [
      "Maximum iterations reached. 6169 of 6855 converged\n",
      "Maximum iterations reached. 6169 of 6855 converged\n"
     ]
    },
    {
     "name": "stdout",
     "output_type": "stream",
     "text": [
      "\t 20230630_115506_standard_comp_to_novel_agent_D3_subj_1-4vs1-2and2-1_merged\n"
     ]
    },
    {
     "name": "stderr",
     "output_type": "stream",
     "text": [
      "Maximum iterations reached. 6191 of 6855 converged\n",
      "Maximum iterations reached. 6191 of 6855 converged\n"
     ]
    },
    {
     "name": "stdout",
     "output_type": "stream",
     "text": [
      "BLA_mPFC\n",
      "\t 20230612_101430_standard_comp_to_training_D1_subj_1-3_t3b3L_box2_merged\n"
     ]
    },
    {
     "name": "stderr",
     "output_type": "stream",
     "text": [
      "Maximum iterations reached. 5878 of 6828 converged\n",
      "Maximum iterations reached. 5878 of 6828 converged\n"
     ]
    },
    {
     "name": "stdout",
     "output_type": "stream",
     "text": [
      "\t 20230612_101430_standard_comp_to_training_D1_subj_1-4_t4b2L_box1_merged\n"
     ]
    },
    {
     "name": "stderr",
     "output_type": "stream",
     "text": [
      "Maximum iterations reached. 5193 of 6828 converged\n",
      "Maximum iterations reached. 5193 of 6828 converged\n"
     ]
    },
    {
     "name": "stdout",
     "output_type": "stream",
     "text": [
      "\t 20230612_112630_standard_comp_to_training_D1_subj_1-1_t1b3L_box2_merged\n"
     ]
    },
    {
     "name": "stderr",
     "output_type": "stream",
     "text": [
      "Maximum iterations reached. 6377 of 6833 converged\n",
      "Maximum iterations reached. 6377 of 6833 converged\n"
     ]
    },
    {
     "name": "stdout",
     "output_type": "stream",
     "text": [
      "\t 20230612_112630_standard_comp_to_training_D1_subj_1-2_t2b2L_box1_merged\n"
     ]
    },
    {
     "name": "stderr",
     "output_type": "stream",
     "text": [
      "Maximum iterations reached. 6233 of 6833 converged\n",
      "Maximum iterations reached. 6233 of 6833 converged\n"
     ]
    },
    {
     "name": "stdout",
     "output_type": "stream",
     "text": [
      "\t 20230613_105657_standard_comp_to_training_D2_subj_1-1_t1b2L_box1_merged\n"
     ]
    },
    {
     "name": "stderr",
     "output_type": "stream",
     "text": [
      "Maximum iterations reached. 6426 of 6840 converged\n",
      "Maximum iterations reached. 6426 of 6840 converged\n"
     ]
    },
    {
     "name": "stdout",
     "output_type": "stream",
     "text": [
      "\t 20230613_105657_standard_comp_to_training_D2_subj_1-4_t4b3L_box2_merged\n"
     ]
    },
    {
     "name": "stderr",
     "output_type": "stream",
     "text": [
      "Maximum iterations reached. 5460 of 6841 converged\n",
      "Maximum iterations reached. 5460 of 6841 converged\n"
     ]
    },
    {
     "name": "stdout",
     "output_type": "stream",
     "text": [
      "\t 20230614_114041_standard_comp_to_training_D3_subj_1-1_t1b3L_box1_merged\n"
     ]
    },
    {
     "name": "stderr",
     "output_type": "stream",
     "text": [
      "Maximum iterations reached. 6317 of 6804 converged\n",
      "Maximum iterations reached. 6317 of 6804 converged\n"
     ]
    },
    {
     "name": "stdout",
     "output_type": "stream",
     "text": [
      "\t 20230614_114041_standard_comp_to_training_D3_subj_1-2_t2b2L_box2_merged\n"
     ]
    },
    {
     "name": "stderr",
     "output_type": "stream",
     "text": [
      "Maximum iterations reached. 5271 of 6678 converged\n",
      "Maximum iterations reached. 5271 of 6678 converged\n"
     ]
    },
    {
     "name": "stdout",
     "output_type": "stream",
     "text": [
      "\t 20230616_111904_standard_comp_to_training_D4_subj_1-2_t2b2L_box2_merged\n"
     ]
    },
    {
     "name": "stderr",
     "output_type": "stream",
     "text": [
      "Maximum iterations reached. 6259 of 6746 converged\n",
      "Maximum iterations reached. 6259 of 6746 converged\n"
     ]
    },
    {
     "name": "stdout",
     "output_type": "stream",
     "text": [
      "\t 20230616_111904_standard_comp_to_training_D4_subj_1-4_t4b3L_box1_merged\n"
     ]
    },
    {
     "name": "stderr",
     "output_type": "stream",
     "text": [
      "Maximum iterations reached. 5239 of 6746 converged\n",
      "Maximum iterations reached. 5239 of 6746 converged\n"
     ]
    },
    {
     "name": "stdout",
     "output_type": "stream",
     "text": [
      "\t 20230617_115521_standard_comp_to_omission_D1_subj_1-1_t1b3L_box1_merged\n"
     ]
    },
    {
     "name": "stderr",
     "output_type": "stream",
     "text": [
      "Maximum iterations reached. 7526 of 7968 converged\n",
      "Maximum iterations reached. 7526 of 7968 converged\n"
     ]
    },
    {
     "name": "stdout",
     "output_type": "stream",
     "text": [
      "\t 20230617_115521_standard_comp_to_omission_D1_subj_1-2_t2b2L_box2_merged\n"
     ]
    },
    {
     "name": "stderr",
     "output_type": "stream",
     "text": [
      "Maximum iterations reached. 7315 of 7968 converged\n",
      "Maximum iterations reached. 7315 of 7968 converged\n"
     ]
    },
    {
     "name": "stdout",
     "output_type": "stream",
     "text": [
      "\t 20230618_100636_standard_comp_to_omission_D2_subj_1_1_t1b2L_box2_merged\n"
     ]
    },
    {
     "name": "stderr",
     "output_type": "stream",
     "text": [
      "Maximum iterations reached. 5638 of 6559 converged\n",
      "Maximum iterations reached. 5638 of 6559 converged\n"
     ]
    },
    {
     "name": "stdout",
     "output_type": "stream",
     "text": [
      "\t 20230618_100636_standard_comp_to_omission_D2_subj_1_4_t4b3L_box1_merged\n"
     ]
    },
    {
     "name": "stderr",
     "output_type": "stream",
     "text": [
      "Maximum iterations reached. 4278 of 6858 converged\n",
      "Maximum iterations reached. 4278 of 6858 converged\n"
     ]
    },
    {
     "name": "stdout",
     "output_type": "stream",
     "text": [
      "\t 20230619_115321_standard_comp_to_omission_D3_subj_1-4_t3b3L_box2_merged\n"
     ]
    },
    {
     "name": "stderr",
     "output_type": "stream",
     "text": [
      "Maximum iterations reached. 2777 of 4117 converged\n",
      "Maximum iterations reached. 2777 of 4117 converged\n"
     ]
    },
    {
     "name": "stdout",
     "output_type": "stream",
     "text": [
      "\t 20230620_114347_standard_comp_to_omission_D4_subj_1-1_t1b2L_box_2_merged\n"
     ]
    },
    {
     "name": "stderr",
     "output_type": "stream",
     "text": [
      "Maximum iterations reached. 6497 of 6835 converged\n",
      "Maximum iterations reached. 6497 of 6835 converged\n"
     ]
    },
    {
     "name": "stdout",
     "output_type": "stream",
     "text": [
      "\t 20230620_114347_standard_comp_to_omission_D4_subj_1-2_t3b3L_box_1_merged\n"
     ]
    },
    {
     "name": "stderr",
     "output_type": "stream",
     "text": [
      "Maximum iterations reached. 6249 of 6835 converged\n",
      "Maximum iterations reached. 6249 of 6835 converged\n"
     ]
    },
    {
     "name": "stdout",
     "output_type": "stream",
     "text": [
      "\t 20230621_111240_standard_comp_to_omission_D5_subj_1-4_t3b3L_box1_merged\n"
     ]
    },
    {
     "name": "stderr",
     "output_type": "stream",
     "text": [
      "Maximum iterations reached. 5924 of 6979 converged\n",
      "Maximum iterations reached. 5924 of 6979 converged\n"
     ]
    },
    {
     "name": "stdout",
     "output_type": "stream",
     "text": [
      "\t 20230622_110832_standard_comp_to_both_rewarded_D1_subj_1-1_t1b3L_box1_merged\n"
     ]
    },
    {
     "name": "stderr",
     "output_type": "stream",
     "text": [
      "Maximum iterations reached. 5644 of 7034 converged\n",
      "Maximum iterations reached. 5644 of 7034 converged\n"
     ]
    },
    {
     "name": "stdout",
     "output_type": "stream",
     "text": [
      "\t 20230622_110832_standard_comp_to_both_rewarded_D1_subj_1-2_t3b3L_box1_merged\n"
     ]
    },
    {
     "name": "stderr",
     "output_type": "stream",
     "text": [
      "Maximum iterations reached. 6333 of 7204 converged\n",
      "Maximum iterations reached. 6333 of 7204 converged\n"
     ]
    },
    {
     "name": "stdout",
     "output_type": "stream",
     "text": [
      "\t 20230624_105855_standard_comp_to_both_rewarded_D3_subj_1-1_t1b2L_box1_merged\n"
     ]
    },
    {
     "name": "stderr",
     "output_type": "stream",
     "text": [
      "Maximum iterations reached. 6463 of 7175 converged\n",
      "Maximum iterations reached. 6463 of 7175 converged\n"
     ]
    },
    {
     "name": "stdout",
     "output_type": "stream",
     "text": [
      "\t 20230624_105855_standard_comp_to_both_rewarded_D3_subj_1-4_t3b3L_box1_merged\n"
     ]
    },
    {
     "name": "stderr",
     "output_type": "stream",
     "text": [
      "Maximum iterations reached. 5353 of 7175 converged\n",
      "Maximum iterations reached. 5353 of 7175 converged\n"
     ]
    },
    {
     "name": "stdout",
     "output_type": "stream",
     "text": [
      "\t 20230625_112913_standard_comp_to_both_rewarded_D4_subj_1-1_t1b2L_box1_merged\n"
     ]
    },
    {
     "name": "stderr",
     "output_type": "stream",
     "text": [
      "Maximum iterations reached. 6664 of 7241 converged\n",
      "Maximum iterations reached. 6664 of 7241 converged\n"
     ]
    },
    {
     "name": "stdout",
     "output_type": "stream",
     "text": [
      "\t 20230625_112913_standard_comp_to_both_rewarded_D4_subj_1-4_t3b3L_box1_merged\n"
     ]
    },
    {
     "name": "stderr",
     "output_type": "stream",
     "text": [
      "Maximum iterations reached. 5432 of 7241 converged\n",
      "Maximum iterations reached. 5432 of 7241 converged\n"
     ]
    },
    {
     "name": "stdout",
     "output_type": "stream",
     "text": [
      "\t 20230628_111202_standard_comp_to_novel_agent_D1_subj_1-1vs1-2and2-2_merged\n"
     ]
    },
    {
     "name": "stderr",
     "output_type": "stream",
     "text": [
      "Maximum iterations reached. 6450 of 6831 converged\n",
      "Maximum iterations reached. 6450 of 6831 converged\n"
     ]
    },
    {
     "name": "stdout",
     "output_type": "stream",
     "text": [
      "\t 20230628_111202_standard_comp_to_novel_agent_D1_subj_1-2vs1-1and2-1_merged\n"
     ]
    },
    {
     "name": "stderr",
     "output_type": "stream",
     "text": [
      "Maximum iterations reached. 6101 of 6831 converged\n",
      "Maximum iterations reached. 6101 of 6831 converged\n"
     ]
    },
    {
     "name": "stdout",
     "output_type": "stream",
     "text": [
      "\t 20230629_111937_standard_comp_to_novel_agent_D2_subj_1-1v1-4and2-1_merged\n"
     ]
    },
    {
     "name": "stderr",
     "output_type": "stream",
     "text": [
      "Maximum iterations reached. 6247 of 6842 converged\n",
      "Maximum iterations reached. 6247 of 6842 converged\n"
     ]
    },
    {
     "name": "stdout",
     "output_type": "stream",
     "text": [
      "\t 20230629_111937_standard_comp_to_novel_agent_D2_subj_1-4vs1-1and2-2_merged\n"
     ]
    },
    {
     "name": "stderr",
     "output_type": "stream",
     "text": [
      "Maximum iterations reached. 5813 of 6842 converged\n",
      "Maximum iterations reached. 5813 of 6842 converged\n"
     ]
    },
    {
     "name": "stdout",
     "output_type": "stream",
     "text": [
      "\t 20230630_115506_standard_comp_to_novel_agent_D3_subj_1-2vs1-4and2-2_merged\n"
     ]
    },
    {
     "name": "stderr",
     "output_type": "stream",
     "text": [
      "Maximum iterations reached. 6077 of 6855 converged\n",
      "Maximum iterations reached. 6077 of 6855 converged\n"
     ]
    },
    {
     "name": "stdout",
     "output_type": "stream",
     "text": [
      "\t 20230630_115506_standard_comp_to_novel_agent_D3_subj_1-4vs1-2and2-1_merged\n"
     ]
    },
    {
     "name": "stderr",
     "output_type": "stream",
     "text": [
      "Maximum iterations reached. 6004 of 6855 converged\n",
      "Maximum iterations reached. 6004 of 6855 converged\n"
     ]
    },
    {
     "name": "stdout",
     "output_type": "stream",
     "text": [
      "BLA_vHPC\n",
      "\t 20230612_101430_standard_comp_to_training_D1_subj_1-3_t3b3L_box2_merged\n"
     ]
    },
    {
     "name": "stderr",
     "output_type": "stream",
     "text": [
      "Maximum iterations reached. 5714 of 6828 converged\n",
      "Maximum iterations reached. 5714 of 6828 converged\n"
     ]
    },
    {
     "name": "stdout",
     "output_type": "stream",
     "text": [
      "\t 20230612_101430_standard_comp_to_training_D1_subj_1-4_t4b2L_box1_merged\n"
     ]
    },
    {
     "name": "stderr",
     "output_type": "stream",
     "text": [
      "Maximum iterations reached. 5653 of 6828 converged\n",
      "Maximum iterations reached. 5653 of 6828 converged\n"
     ]
    },
    {
     "name": "stdout",
     "output_type": "stream",
     "text": [
      "\t 20230612_112630_standard_comp_to_training_D1_subj_1-1_t1b3L_box2_merged\n"
     ]
    },
    {
     "name": "stderr",
     "output_type": "stream",
     "text": [
      "Maximum iterations reached. 5699 of 6833 converged\n",
      "Maximum iterations reached. 5699 of 6833 converged\n"
     ]
    },
    {
     "name": "stdout",
     "output_type": "stream",
     "text": [
      "\t 20230612_112630_standard_comp_to_training_D1_subj_1-2_t2b2L_box1_merged\n"
     ]
    },
    {
     "name": "stderr",
     "output_type": "stream",
     "text": [
      "Maximum iterations reached. 5447 of 6833 converged\n",
      "Maximum iterations reached. 5447 of 6833 converged\n"
     ]
    },
    {
     "name": "stdout",
     "output_type": "stream",
     "text": [
      "\t 20230613_105657_standard_comp_to_training_D2_subj_1-1_t1b2L_box1_merged\n"
     ]
    },
    {
     "name": "stderr",
     "output_type": "stream",
     "text": [
      "Maximum iterations reached. 5711 of 6840 converged\n",
      "Maximum iterations reached. 5711 of 6840 converged\n"
     ]
    },
    {
     "name": "stdout",
     "output_type": "stream",
     "text": [
      "\t 20230613_105657_standard_comp_to_training_D2_subj_1-4_t4b3L_box2_merged\n"
     ]
    },
    {
     "name": "stderr",
     "output_type": "stream",
     "text": [
      "Maximum iterations reached. 6195 of 6841 converged\n",
      "Maximum iterations reached. 6195 of 6841 converged\n"
     ]
    },
    {
     "name": "stdout",
     "output_type": "stream",
     "text": [
      "\t 20230614_114041_standard_comp_to_training_D3_subj_1-1_t1b3L_box1_merged\n"
     ]
    },
    {
     "name": "stderr",
     "output_type": "stream",
     "text": [
      "Maximum iterations reached. 5445 of 6804 converged\n",
      "Maximum iterations reached. 5445 of 6804 converged\n"
     ]
    },
    {
     "name": "stdout",
     "output_type": "stream",
     "text": [
      "\t 20230614_114041_standard_comp_to_training_D3_subj_1-2_t2b2L_box2_merged\n"
     ]
    },
    {
     "name": "stderr",
     "output_type": "stream",
     "text": [
      "Maximum iterations reached. 4470 of 6678 converged\n",
      "Maximum iterations reached. 4470 of 6678 converged\n"
     ]
    },
    {
     "name": "stdout",
     "output_type": "stream",
     "text": [
      "\t 20230616_111904_standard_comp_to_training_D4_subj_1-2_t2b2L_box2_merged\n"
     ]
    },
    {
     "name": "stderr",
     "output_type": "stream",
     "text": [
      "Maximum iterations reached. 5527 of 6746 converged\n",
      "Maximum iterations reached. 5527 of 6746 converged\n"
     ]
    },
    {
     "name": "stdout",
     "output_type": "stream",
     "text": [
      "\t 20230616_111904_standard_comp_to_training_D4_subj_1-4_t4b3L_box1_merged\n"
     ]
    },
    {
     "name": "stderr",
     "output_type": "stream",
     "text": [
      "Maximum iterations reached. 5930 of 6746 converged\n",
      "Maximum iterations reached. 5930 of 6746 converged\n"
     ]
    },
    {
     "name": "stdout",
     "output_type": "stream",
     "text": [
      "\t 20230617_115521_standard_comp_to_omission_D1_subj_1-1_t1b3L_box1_merged\n"
     ]
    },
    {
     "name": "stderr",
     "output_type": "stream",
     "text": [
      "Maximum iterations reached. 6792 of 7968 converged\n",
      "Maximum iterations reached. 6792 of 7968 converged\n"
     ]
    },
    {
     "name": "stdout",
     "output_type": "stream",
     "text": [
      "\t 20230617_115521_standard_comp_to_omission_D1_subj_1-2_t2b2L_box2_merged\n"
     ]
    },
    {
     "name": "stderr",
     "output_type": "stream",
     "text": [
      "Maximum iterations reached. 6692 of 7968 converged\n",
      "Maximum iterations reached. 6692 of 7968 converged\n"
     ]
    },
    {
     "name": "stdout",
     "output_type": "stream",
     "text": [
      "\t 20230618_100636_standard_comp_to_omission_D2_subj_1_1_t1b2L_box2_merged\n"
     ]
    },
    {
     "name": "stderr",
     "output_type": "stream",
     "text": [
      "Maximum iterations reached. 4893 of 6559 converged\n",
      "Maximum iterations reached. 4893 of 6559 converged\n"
     ]
    },
    {
     "name": "stdout",
     "output_type": "stream",
     "text": [
      "\t 20230618_100636_standard_comp_to_omission_D2_subj_1_4_t4b3L_box1_merged\n"
     ]
    },
    {
     "name": "stderr",
     "output_type": "stream",
     "text": [
      "Maximum iterations reached. 4321 of 6858 converged\n",
      "Maximum iterations reached. 4321 of 6858 converged\n"
     ]
    },
    {
     "name": "stdout",
     "output_type": "stream",
     "text": [
      "\t 20230619_115321_standard_comp_to_omission_D3_subj_1-4_t3b3L_box2_merged\n"
     ]
    },
    {
     "name": "stderr",
     "output_type": "stream",
     "text": [
      "Maximum iterations reached. 3159 of 4117 converged\n",
      "Maximum iterations reached. 3159 of 4117 converged\n"
     ]
    },
    {
     "name": "stdout",
     "output_type": "stream",
     "text": [
      "\t 20230620_114347_standard_comp_to_omission_D4_subj_1-1_t1b2L_box_2_merged\n"
     ]
    },
    {
     "name": "stderr",
     "output_type": "stream",
     "text": [
      "Maximum iterations reached. 5918 of 6835 converged\n",
      "Maximum iterations reached. 5918 of 6835 converged\n"
     ]
    },
    {
     "name": "stdout",
     "output_type": "stream",
     "text": [
      "\t 20230620_114347_standard_comp_to_omission_D4_subj_1-2_t3b3L_box_1_merged\n"
     ]
    },
    {
     "name": "stderr",
     "output_type": "stream",
     "text": [
      "Maximum iterations reached. 5524 of 6835 converged\n",
      "Maximum iterations reached. 5524 of 6835 converged\n"
     ]
    },
    {
     "name": "stdout",
     "output_type": "stream",
     "text": [
      "\t 20230621_111240_standard_comp_to_omission_D5_subj_1-4_t3b3L_box1_merged\n"
     ]
    },
    {
     "name": "stderr",
     "output_type": "stream",
     "text": [
      "Maximum iterations reached. 6358 of 6979 converged\n",
      "Maximum iterations reached. 6358 of 6979 converged\n"
     ]
    },
    {
     "name": "stdout",
     "output_type": "stream",
     "text": [
      "\t 20230622_110832_standard_comp_to_both_rewarded_D1_subj_1-1_t1b3L_box1_merged\n"
     ]
    },
    {
     "name": "stderr",
     "output_type": "stream",
     "text": [
      "Maximum iterations reached. 3159 of 7034 converged\n",
      "Maximum iterations reached. 3159 of 7034 converged\n"
     ]
    },
    {
     "name": "stdout",
     "output_type": "stream",
     "text": [
      "\t 20230622_110832_standard_comp_to_both_rewarded_D1_subj_1-2_t3b3L_box1_merged\n"
     ]
    },
    {
     "name": "stderr",
     "output_type": "stream",
     "text": [
      "Maximum iterations reached. 5660 of 7204 converged\n",
      "Maximum iterations reached. 5660 of 7204 converged\n"
     ]
    },
    {
     "name": "stdout",
     "output_type": "stream",
     "text": [
      "\t 20230624_105855_standard_comp_to_both_rewarded_D3_subj_1-1_t1b2L_box1_merged\n"
     ]
    },
    {
     "name": "stderr",
     "output_type": "stream",
     "text": [
      "Maximum iterations reached. 6118 of 7175 converged\n",
      "Maximum iterations reached. 6118 of 7175 converged\n"
     ]
    },
    {
     "name": "stdout",
     "output_type": "stream",
     "text": [
      "\t 20230624_105855_standard_comp_to_both_rewarded_D3_subj_1-4_t3b3L_box1_merged\n"
     ]
    },
    {
     "name": "stderr",
     "output_type": "stream",
     "text": [
      "Maximum iterations reached. 6184 of 7175 converged\n",
      "Maximum iterations reached. 6184 of 7175 converged\n"
     ]
    },
    {
     "name": "stdout",
     "output_type": "stream",
     "text": [
      "\t 20230625_112913_standard_comp_to_both_rewarded_D4_subj_1-1_t1b2L_box1_merged\n"
     ]
    },
    {
     "name": "stderr",
     "output_type": "stream",
     "text": [
      "Maximum iterations reached. 6065 of 7241 converged\n",
      "Maximum iterations reached. 6065 of 7241 converged\n"
     ]
    },
    {
     "name": "stdout",
     "output_type": "stream",
     "text": [
      "\t 20230625_112913_standard_comp_to_both_rewarded_D4_subj_1-4_t3b3L_box1_merged\n"
     ]
    },
    {
     "name": "stderr",
     "output_type": "stream",
     "text": [
      "Maximum iterations reached. 6087 of 7241 converged\n",
      "Maximum iterations reached. 6087 of 7241 converged\n"
     ]
    },
    {
     "name": "stdout",
     "output_type": "stream",
     "text": [
      "\t 20230628_111202_standard_comp_to_novel_agent_D1_subj_1-1vs1-2and2-2_merged\n"
     ]
    },
    {
     "name": "stderr",
     "output_type": "stream",
     "text": [
      "Maximum iterations reached. 6030 of 6831 converged\n",
      "Maximum iterations reached. 6030 of 6831 converged\n"
     ]
    },
    {
     "name": "stdout",
     "output_type": "stream",
     "text": [
      "\t 20230628_111202_standard_comp_to_novel_agent_D1_subj_1-2vs1-1and2-1_merged\n"
     ]
    },
    {
     "name": "stderr",
     "output_type": "stream",
     "text": [
      "Maximum iterations reached. 5484 of 6831 converged\n",
      "Maximum iterations reached. 5484 of 6831 converged\n"
     ]
    },
    {
     "name": "stdout",
     "output_type": "stream",
     "text": [
      "\t 20230629_111937_standard_comp_to_novel_agent_D2_subj_1-1v1-4and2-1_merged\n"
     ]
    },
    {
     "name": "stderr",
     "output_type": "stream",
     "text": [
      "Maximum iterations reached. 5718 of 6842 converged\n",
      "Maximum iterations reached. 5718 of 6842 converged\n"
     ]
    },
    {
     "name": "stdout",
     "output_type": "stream",
     "text": [
      "\t 20230629_111937_standard_comp_to_novel_agent_D2_subj_1-4vs1-1and2-2_merged\n"
     ]
    },
    {
     "name": "stderr",
     "output_type": "stream",
     "text": [
      "Maximum iterations reached. 6270 of 6842 converged\n",
      "Maximum iterations reached. 6270 of 6842 converged\n"
     ]
    },
    {
     "name": "stdout",
     "output_type": "stream",
     "text": [
      "\t 20230630_115506_standard_comp_to_novel_agent_D3_subj_1-2vs1-4and2-2_merged\n"
     ]
    },
    {
     "name": "stderr",
     "output_type": "stream",
     "text": [
      "Maximum iterations reached. 5748 of 6855 converged\n",
      "Maximum iterations reached. 5748 of 6855 converged\n"
     ]
    },
    {
     "name": "stdout",
     "output_type": "stream",
     "text": [
      "\t 20230630_115506_standard_comp_to_novel_agent_D3_subj_1-4vs1-2and2-1_merged\n"
     ]
    },
    {
     "name": "stderr",
     "output_type": "stream",
     "text": [
      "Maximum iterations reached. 6177 of 6855 converged\n",
      "Maximum iterations reached. 6177 of 6855 converged\n"
     ]
    },
    {
     "name": "stdout",
     "output_type": "stream",
     "text": [
      "LH_MD\n",
      "\t 20230612_101430_standard_comp_to_training_D1_subj_1-3_t3b3L_box2_merged\n"
     ]
    },
    {
     "name": "stderr",
     "output_type": "stream",
     "text": [
      "Maximum iterations reached. 6118 of 6828 converged\n",
      "Maximum iterations reached. 6118 of 6828 converged\n"
     ]
    },
    {
     "name": "stdout",
     "output_type": "stream",
     "text": [
      "\t 20230612_101430_standard_comp_to_training_D1_subj_1-4_t4b2L_box1_merged\n"
     ]
    },
    {
     "name": "stderr",
     "output_type": "stream",
     "text": [
      "Maximum iterations reached. 5197 of 6828 converged\n",
      "Maximum iterations reached. 5197 of 6828 converged\n"
     ]
    },
    {
     "name": "stdout",
     "output_type": "stream",
     "text": [
      "\t 20230612_112630_standard_comp_to_training_D1_subj_1-1_t1b3L_box2_merged\n"
     ]
    },
    {
     "name": "stderr",
     "output_type": "stream",
     "text": [
      "Maximum iterations reached. 6525 of 6833 converged\n",
      "Maximum iterations reached. 6525 of 6833 converged\n"
     ]
    },
    {
     "name": "stdout",
     "output_type": "stream",
     "text": [
      "\t 20230612_112630_standard_comp_to_training_D1_subj_1-2_t2b2L_box1_merged\n"
     ]
    },
    {
     "name": "stderr",
     "output_type": "stream",
     "text": [
      "Maximum iterations reached. 6091 of 6833 converged\n",
      "Maximum iterations reached. 6091 of 6833 converged\n"
     ]
    },
    {
     "name": "stdout",
     "output_type": "stream",
     "text": [
      "\t 20230613_105657_standard_comp_to_training_D2_subj_1-1_t1b2L_box1_merged\n"
     ]
    },
    {
     "name": "stderr",
     "output_type": "stream",
     "text": [
      "Maximum iterations reached. 6609 of 6840 converged\n",
      "Maximum iterations reached. 6609 of 6840 converged\n"
     ]
    },
    {
     "name": "stdout",
     "output_type": "stream",
     "text": [
      "\t 20230613_105657_standard_comp_to_training_D2_subj_1-4_t4b3L_box2_merged\n"
     ]
    },
    {
     "name": "stderr",
     "output_type": "stream",
     "text": [
      "Maximum iterations reached. 6480 of 6841 converged\n",
      "Maximum iterations reached. 6480 of 6841 converged\n"
     ]
    },
    {
     "name": "stdout",
     "output_type": "stream",
     "text": [
      "\t 20230614_114041_standard_comp_to_training_D3_subj_1-1_t1b3L_box1_merged\n"
     ]
    },
    {
     "name": "stderr",
     "output_type": "stream",
     "text": [
      "Maximum iterations reached. 6482 of 6804 converged\n",
      "Maximum iterations reached. 6482 of 6804 converged\n"
     ]
    },
    {
     "name": "stdout",
     "output_type": "stream",
     "text": [
      "\t 20230614_114041_standard_comp_to_training_D3_subj_1-2_t2b2L_box2_merged\n"
     ]
    },
    {
     "name": "stderr",
     "output_type": "stream",
     "text": [
      "Maximum iterations reached. 5245 of 6678 converged\n",
      "Maximum iterations reached. 5245 of 6678 converged\n"
     ]
    },
    {
     "name": "stdout",
     "output_type": "stream",
     "text": [
      "\t 20230616_111904_standard_comp_to_training_D4_subj_1-2_t2b2L_box2_merged\n"
     ]
    },
    {
     "name": "stderr",
     "output_type": "stream",
     "text": [
      "Maximum iterations reached. 6078 of 6746 converged\n",
      "Maximum iterations reached. 6078 of 6746 converged\n"
     ]
    },
    {
     "name": "stdout",
     "output_type": "stream",
     "text": [
      "\t 20230616_111904_standard_comp_to_training_D4_subj_1-4_t4b3L_box1_merged\n"
     ]
    },
    {
     "name": "stderr",
     "output_type": "stream",
     "text": [
      "Maximum iterations reached. 6187 of 6746 converged\n",
      "Maximum iterations reached. 6187 of 6746 converged\n"
     ]
    },
    {
     "name": "stdout",
     "output_type": "stream",
     "text": [
      "\t 20230617_115521_standard_comp_to_omission_D1_subj_1-1_t1b3L_box1_merged\n"
     ]
    },
    {
     "name": "stderr",
     "output_type": "stream",
     "text": [
      "Maximum iterations reached. 7716 of 7968 converged\n",
      "Maximum iterations reached. 7716 of 7968 converged\n"
     ]
    },
    {
     "name": "stdout",
     "output_type": "stream",
     "text": [
      "\t 20230617_115521_standard_comp_to_omission_D1_subj_1-2_t2b2L_box2_merged\n"
     ]
    },
    {
     "name": "stderr",
     "output_type": "stream",
     "text": [
      "Maximum iterations reached. 7205 of 7968 converged\n",
      "Maximum iterations reached. 7205 of 7968 converged\n"
     ]
    },
    {
     "name": "stdout",
     "output_type": "stream",
     "text": [
      "\t 20230618_100636_standard_comp_to_omission_D2_subj_1_1_t1b2L_box2_merged\n"
     ]
    },
    {
     "name": "stderr",
     "output_type": "stream",
     "text": [
      "Maximum iterations reached. 5950 of 6559 converged\n",
      "Maximum iterations reached. 5950 of 6559 converged\n"
     ]
    },
    {
     "name": "stdout",
     "output_type": "stream",
     "text": [
      "\t 20230618_100636_standard_comp_to_omission_D2_subj_1_4_t4b3L_box1_merged\n"
     ]
    },
    {
     "name": "stderr",
     "output_type": "stream",
     "text": [
      "Maximum iterations reached. 5782 of 6858 converged\n",
      "Maximum iterations reached. 5782 of 6858 converged\n"
     ]
    },
    {
     "name": "stdout",
     "output_type": "stream",
     "text": [
      "\t 20230619_115321_standard_comp_to_omission_D3_subj_1-4_t3b3L_box2_merged\n"
     ]
    },
    {
     "name": "stderr",
     "output_type": "stream",
     "text": [
      "Maximum iterations reached. 3545 of 4117 converged\n",
      "Maximum iterations reached. 3545 of 4117 converged\n"
     ]
    },
    {
     "name": "stdout",
     "output_type": "stream",
     "text": [
      "\t 20230620_114347_standard_comp_to_omission_D4_subj_1-1_t1b2L_box_2_merged\n"
     ]
    },
    {
     "name": "stderr",
     "output_type": "stream",
     "text": [
      "Maximum iterations reached. 6655 of 6835 converged\n",
      "Maximum iterations reached. 6655 of 6835 converged\n"
     ]
    },
    {
     "name": "stdout",
     "output_type": "stream",
     "text": [
      "\t 20230620_114347_standard_comp_to_omission_D4_subj_1-2_t3b3L_box_1_merged\n"
     ]
    },
    {
     "name": "stderr",
     "output_type": "stream",
     "text": [
      "Maximum iterations reached. 6151 of 6835 converged\n",
      "Maximum iterations reached. 6151 of 6835 converged\n"
     ]
    },
    {
     "name": "stdout",
     "output_type": "stream",
     "text": [
      "\t 20230621_111240_standard_comp_to_omission_D5_subj_1-4_t3b3L_box1_merged\n"
     ]
    },
    {
     "name": "stderr",
     "output_type": "stream",
     "text": [
      "Maximum iterations reached. 6730 of 6979 converged\n",
      "Maximum iterations reached. 6730 of 6979 converged\n"
     ]
    },
    {
     "name": "stdout",
     "output_type": "stream",
     "text": [
      "\t 20230622_110832_standard_comp_to_both_rewarded_D1_subj_1-1_t1b3L_box1_merged\n"
     ]
    },
    {
     "name": "stderr",
     "output_type": "stream",
     "text": [
      "Maximum iterations reached. 5954 of 7034 converged\n",
      "Maximum iterations reached. 5954 of 7034 converged\n"
     ]
    },
    {
     "name": "stdout",
     "output_type": "stream",
     "text": [
      "\t 20230622_110832_standard_comp_to_both_rewarded_D1_subj_1-2_t3b3L_box1_merged\n"
     ]
    },
    {
     "name": "stderr",
     "output_type": "stream",
     "text": [
      "Maximum iterations reached. 6184 of 7204 converged\n",
      "Maximum iterations reached. 6184 of 7204 converged\n"
     ]
    },
    {
     "name": "stdout",
     "output_type": "stream",
     "text": [
      "\t 20230624_105855_standard_comp_to_both_rewarded_D3_subj_1-1_t1b2L_box1_merged\n"
     ]
    },
    {
     "name": "stderr",
     "output_type": "stream",
     "text": [
      "Maximum iterations reached. 6501 of 7175 converged\n",
      "Maximum iterations reached. 6501 of 7175 converged\n"
     ]
    },
    {
     "name": "stdout",
     "output_type": "stream",
     "text": [
      "\t 20230624_105855_standard_comp_to_both_rewarded_D3_subj_1-4_t3b3L_box1_merged\n"
     ]
    },
    {
     "name": "stderr",
     "output_type": "stream",
     "text": [
      "Maximum iterations reached. 6146 of 7175 converged\n",
      "Maximum iterations reached. 6146 of 7175 converged\n"
     ]
    },
    {
     "name": "stdout",
     "output_type": "stream",
     "text": [
      "\t 20230625_112913_standard_comp_to_both_rewarded_D4_subj_1-1_t1b2L_box1_merged\n"
     ]
    },
    {
     "name": "stderr",
     "output_type": "stream",
     "text": [
      "Maximum iterations reached. 6805 of 7241 converged\n",
      "Maximum iterations reached. 6805 of 7241 converged\n"
     ]
    },
    {
     "name": "stdout",
     "output_type": "stream",
     "text": [
      "\t 20230625_112913_standard_comp_to_both_rewarded_D4_subj_1-4_t3b3L_box1_merged\n"
     ]
    },
    {
     "name": "stderr",
     "output_type": "stream",
     "text": [
      "Maximum iterations reached. 6212 of 7241 converged\n",
      "Maximum iterations reached. 6212 of 7241 converged\n"
     ]
    },
    {
     "name": "stdout",
     "output_type": "stream",
     "text": [
      "\t 20230628_111202_standard_comp_to_novel_agent_D1_subj_1-1vs1-2and2-2_merged\n"
     ]
    },
    {
     "name": "stderr",
     "output_type": "stream",
     "text": [
      "Maximum iterations reached. 6633 of 6831 converged\n",
      "Maximum iterations reached. 6633 of 6831 converged\n"
     ]
    },
    {
     "name": "stdout",
     "output_type": "stream",
     "text": [
      "\t 20230628_111202_standard_comp_to_novel_agent_D1_subj_1-2vs1-1and2-1_merged\n"
     ]
    },
    {
     "name": "stderr",
     "output_type": "stream",
     "text": [
      "Maximum iterations reached. 6080 of 6831 converged\n",
      "Maximum iterations reached. 6080 of 6831 converged\n"
     ]
    },
    {
     "name": "stdout",
     "output_type": "stream",
     "text": [
      "\t 20230629_111937_standard_comp_to_novel_agent_D2_subj_1-1v1-4and2-1_merged\n"
     ]
    },
    {
     "name": "stderr",
     "output_type": "stream",
     "text": [
      "Maximum iterations reached. 6383 of 6842 converged\n",
      "Maximum iterations reached. 6383 of 6842 converged\n"
     ]
    },
    {
     "name": "stdout",
     "output_type": "stream",
     "text": [
      "\t 20230629_111937_standard_comp_to_novel_agent_D2_subj_1-4vs1-1and2-2_merged\n"
     ]
    },
    {
     "name": "stderr",
     "output_type": "stream",
     "text": [
      "Maximum iterations reached. 6368 of 6842 converged\n",
      "Maximum iterations reached. 6368 of 6842 converged\n"
     ]
    },
    {
     "name": "stdout",
     "output_type": "stream",
     "text": [
      "\t 20230630_115506_standard_comp_to_novel_agent_D3_subj_1-2vs1-4and2-2_merged\n"
     ]
    },
    {
     "name": "stderr",
     "output_type": "stream",
     "text": [
      "Maximum iterations reached. 6099 of 6855 converged\n",
      "Maximum iterations reached. 6099 of 6855 converged\n"
     ]
    },
    {
     "name": "stdout",
     "output_type": "stream",
     "text": [
      "\t 20230630_115506_standard_comp_to_novel_agent_D3_subj_1-4vs1-2and2-1_merged\n"
     ]
    },
    {
     "name": "stderr",
     "output_type": "stream",
     "text": [
      "Maximum iterations reached. 6465 of 6855 converged\n",
      "Maximum iterations reached. 6465 of 6855 converged\n"
     ]
    },
    {
     "name": "stdout",
     "output_type": "stream",
     "text": [
      "LH_mPFC\n",
      "\t 20230612_101430_standard_comp_to_training_D1_subj_1-3_t3b3L_box2_merged\n"
     ]
    },
    {
     "name": "stderr",
     "output_type": "stream",
     "text": [
      "Maximum iterations reached. 5972 of 6828 converged\n",
      "Maximum iterations reached. 5972 of 6828 converged\n"
     ]
    },
    {
     "name": "stdout",
     "output_type": "stream",
     "text": [
      "\t 20230612_101430_standard_comp_to_training_D1_subj_1-4_t4b2L_box1_merged\n"
     ]
    },
    {
     "name": "stderr",
     "output_type": "stream",
     "text": [
      "Maximum iterations reached. 5008 of 6828 converged\n",
      "Maximum iterations reached. 5008 of 6828 converged\n"
     ]
    },
    {
     "name": "stdout",
     "output_type": "stream",
     "text": [
      "\t 20230612_112630_standard_comp_to_training_D1_subj_1-1_t1b3L_box2_merged\n"
     ]
    },
    {
     "name": "stderr",
     "output_type": "stream",
     "text": [
      "Maximum iterations reached. 6465 of 6833 converged\n",
      "Maximum iterations reached. 6465 of 6833 converged\n"
     ]
    },
    {
     "name": "stdout",
     "output_type": "stream",
     "text": [
      "\t 20230612_112630_standard_comp_to_training_D1_subj_1-2_t2b2L_box1_merged\n"
     ]
    },
    {
     "name": "stderr",
     "output_type": "stream",
     "text": [
      "Maximum iterations reached. 6082 of 6833 converged\n",
      "Maximum iterations reached. 6082 of 6833 converged\n"
     ]
    },
    {
     "name": "stdout",
     "output_type": "stream",
     "text": [
      "\t 20230613_105657_standard_comp_to_training_D2_subj_1-1_t1b2L_box1_merged\n"
     ]
    },
    {
     "name": "stderr",
     "output_type": "stream",
     "text": [
      "Maximum iterations reached. 6548 of 6840 converged\n",
      "Maximum iterations reached. 6548 of 6840 converged\n"
     ]
    },
    {
     "name": "stdout",
     "output_type": "stream",
     "text": [
      "\t 20230613_105657_standard_comp_to_training_D2_subj_1-4_t4b3L_box2_merged\n"
     ]
    },
    {
     "name": "stderr",
     "output_type": "stream",
     "text": [
      "Maximum iterations reached. 5714 of 6841 converged\n",
      "Maximum iterations reached. 5714 of 6841 converged\n"
     ]
    },
    {
     "name": "stdout",
     "output_type": "stream",
     "text": [
      "\t 20230614_114041_standard_comp_to_training_D3_subj_1-1_t1b3L_box1_merged\n"
     ]
    },
    {
     "name": "stderr",
     "output_type": "stream",
     "text": [
      "Maximum iterations reached. 6385 of 6804 converged\n",
      "Maximum iterations reached. 6385 of 6804 converged\n"
     ]
    },
    {
     "name": "stdout",
     "output_type": "stream",
     "text": [
      "\t 20230614_114041_standard_comp_to_training_D3_subj_1-2_t2b2L_box2_merged\n"
     ]
    },
    {
     "name": "stderr",
     "output_type": "stream",
     "text": [
      "Maximum iterations reached. 5128 of 6678 converged\n",
      "Maximum iterations reached. 5128 of 6678 converged\n"
     ]
    },
    {
     "name": "stdout",
     "output_type": "stream",
     "text": [
      "\t 20230616_111904_standard_comp_to_training_D4_subj_1-2_t2b2L_box2_merged\n"
     ]
    },
    {
     "name": "stderr",
     "output_type": "stream",
     "text": [
      "Maximum iterations reached. 6082 of 6746 converged\n",
      "Maximum iterations reached. 6082 of 6746 converged\n"
     ]
    },
    {
     "name": "stdout",
     "output_type": "stream",
     "text": [
      "\t 20230616_111904_standard_comp_to_training_D4_subj_1-4_t4b3L_box1_merged\n"
     ]
    },
    {
     "name": "stderr",
     "output_type": "stream",
     "text": [
      "Maximum iterations reached. 5505 of 6746 converged\n",
      "Maximum iterations reached. 5505 of 6746 converged\n"
     ]
    },
    {
     "name": "stdout",
     "output_type": "stream",
     "text": [
      "\t 20230617_115521_standard_comp_to_omission_D1_subj_1-1_t1b3L_box1_merged\n"
     ]
    },
    {
     "name": "stderr",
     "output_type": "stream",
     "text": [
      "Maximum iterations reached. 7576 of 7968 converged\n",
      "Maximum iterations reached. 7576 of 7968 converged\n"
     ]
    },
    {
     "name": "stdout",
     "output_type": "stream",
     "text": [
      "\t 20230617_115521_standard_comp_to_omission_D1_subj_1-2_t2b2L_box2_merged\n"
     ]
    },
    {
     "name": "stderr",
     "output_type": "stream",
     "text": [
      "Maximum iterations reached. 7128 of 7968 converged\n",
      "Maximum iterations reached. 7128 of 7968 converged\n"
     ]
    },
    {
     "name": "stdout",
     "output_type": "stream",
     "text": [
      "\t 20230618_100636_standard_comp_to_omission_D2_subj_1_1_t1b2L_box2_merged\n"
     ]
    },
    {
     "name": "stderr",
     "output_type": "stream",
     "text": [
      "Maximum iterations reached. 5742 of 6559 converged\n",
      "Maximum iterations reached. 5742 of 6559 converged\n"
     ]
    },
    {
     "name": "stdout",
     "output_type": "stream",
     "text": [
      "\t 20230618_100636_standard_comp_to_omission_D2_subj_1_4_t4b3L_box1_merged\n"
     ]
    },
    {
     "name": "stderr",
     "output_type": "stream",
     "text": [
      "Maximum iterations reached. 4927 of 6858 converged\n",
      "Maximum iterations reached. 4927 of 6858 converged\n"
     ]
    },
    {
     "name": "stdout",
     "output_type": "stream",
     "text": [
      "\t 20230619_115321_standard_comp_to_omission_D3_subj_1-4_t3b3L_box2_merged\n"
     ]
    },
    {
     "name": "stderr",
     "output_type": "stream",
     "text": [
      "Maximum iterations reached. 3014 of 4117 converged\n",
      "Maximum iterations reached. 3014 of 4117 converged\n"
     ]
    },
    {
     "name": "stdout",
     "output_type": "stream",
     "text": [
      "\t 20230620_114347_standard_comp_to_omission_D4_subj_1-1_t1b2L_box_2_merged\n"
     ]
    },
    {
     "name": "stderr",
     "output_type": "stream",
     "text": [
      "Maximum iterations reached. 6545 of 6835 converged\n",
      "Maximum iterations reached. 6545 of 6835 converged\n"
     ]
    },
    {
     "name": "stdout",
     "output_type": "stream",
     "text": [
      "\t 20230620_114347_standard_comp_to_omission_D4_subj_1-2_t3b3L_box_1_merged\n"
     ]
    },
    {
     "name": "stderr",
     "output_type": "stream",
     "text": [
      "Maximum iterations reached. 6190 of 6835 converged\n",
      "Maximum iterations reached. 6190 of 6835 converged\n"
     ]
    },
    {
     "name": "stdout",
     "output_type": "stream",
     "text": [
      "\t 20230621_111240_standard_comp_to_omission_D5_subj_1-4_t3b3L_box1_merged\n"
     ]
    },
    {
     "name": "stderr",
     "output_type": "stream",
     "text": [
      "Maximum iterations reached. 6243 of 6979 converged\n",
      "Maximum iterations reached. 6243 of 6979 converged\n"
     ]
    },
    {
     "name": "stdout",
     "output_type": "stream",
     "text": [
      "\t 20230622_110832_standard_comp_to_both_rewarded_D1_subj_1-1_t1b3L_box1_merged\n"
     ]
    },
    {
     "name": "stderr",
     "output_type": "stream",
     "text": [
      "Maximum iterations reached. 5744 of 7034 converged\n",
      "Maximum iterations reached. 5744 of 7034 converged\n"
     ]
    },
    {
     "name": "stdout",
     "output_type": "stream",
     "text": [
      "\t 20230622_110832_standard_comp_to_both_rewarded_D1_subj_1-2_t3b3L_box1_merged\n"
     ]
    },
    {
     "name": "stderr",
     "output_type": "stream",
     "text": [
      "Maximum iterations reached. 6216 of 7204 converged\n",
      "Maximum iterations reached. 6216 of 7204 converged\n"
     ]
    },
    {
     "name": "stdout",
     "output_type": "stream",
     "text": [
      "\t 20230624_105855_standard_comp_to_both_rewarded_D3_subj_1-1_t1b2L_box1_merged\n"
     ]
    },
    {
     "name": "stderr",
     "output_type": "stream",
     "text": [
      "Maximum iterations reached. 6407 of 7175 converged\n",
      "Maximum iterations reached. 6407 of 7175 converged\n"
     ]
    },
    {
     "name": "stdout",
     "output_type": "stream",
     "text": [
      "\t 20230624_105855_standard_comp_to_both_rewarded_D3_subj_1-4_t3b3L_box1_merged\n"
     ]
    },
    {
     "name": "stderr",
     "output_type": "stream",
     "text": [
      "Maximum iterations reached. 5441 of 7175 converged\n",
      "Maximum iterations reached. 5441 of 7175 converged\n"
     ]
    },
    {
     "name": "stdout",
     "output_type": "stream",
     "text": [
      "\t 20230625_112913_standard_comp_to_both_rewarded_D4_subj_1-1_t1b2L_box1_merged\n"
     ]
    },
    {
     "name": "stderr",
     "output_type": "stream",
     "text": [
      "Maximum iterations reached. 6737 of 7241 converged\n",
      "Maximum iterations reached. 6737 of 7241 converged\n"
     ]
    },
    {
     "name": "stdout",
     "output_type": "stream",
     "text": [
      "\t 20230625_112913_standard_comp_to_both_rewarded_D4_subj_1-4_t3b3L_box1_merged\n"
     ]
    },
    {
     "name": "stderr",
     "output_type": "stream",
     "text": [
      "Maximum iterations reached. 5575 of 7241 converged\n",
      "Maximum iterations reached. 5575 of 7241 converged\n"
     ]
    },
    {
     "name": "stdout",
     "output_type": "stream",
     "text": [
      "\t 20230628_111202_standard_comp_to_novel_agent_D1_subj_1-1vs1-2and2-2_merged\n"
     ]
    },
    {
     "name": "stderr",
     "output_type": "stream",
     "text": [
      "Maximum iterations reached. 6511 of 6831 converged\n",
      "Maximum iterations reached. 6511 of 6831 converged\n"
     ]
    },
    {
     "name": "stdout",
     "output_type": "stream",
     "text": [
      "\t 20230628_111202_standard_comp_to_novel_agent_D1_subj_1-2vs1-1and2-1_merged\n"
     ]
    },
    {
     "name": "stderr",
     "output_type": "stream",
     "text": [
      "Maximum iterations reached. 6047 of 6831 converged\n",
      "Maximum iterations reached. 6047 of 6831 converged\n"
     ]
    },
    {
     "name": "stdout",
     "output_type": "stream",
     "text": [
      "\t 20230629_111937_standard_comp_to_novel_agent_D2_subj_1-1v1-4and2-1_merged\n"
     ]
    },
    {
     "name": "stderr",
     "output_type": "stream",
     "text": [
      "Maximum iterations reached. 6306 of 6842 converged\n",
      "Maximum iterations reached. 6306 of 6842 converged\n"
     ]
    },
    {
     "name": "stdout",
     "output_type": "stream",
     "text": [
      "\t 20230629_111937_standard_comp_to_novel_agent_D2_subj_1-4vs1-1and2-2_merged\n"
     ]
    },
    {
     "name": "stderr",
     "output_type": "stream",
     "text": [
      "Maximum iterations reached. 6011 of 6842 converged\n",
      "Maximum iterations reached. 6011 of 6842 converged\n"
     ]
    },
    {
     "name": "stdout",
     "output_type": "stream",
     "text": [
      "\t 20230630_115506_standard_comp_to_novel_agent_D3_subj_1-2vs1-4and2-2_merged\n"
     ]
    },
    {
     "name": "stderr",
     "output_type": "stream",
     "text": [
      "Maximum iterations reached. 5987 of 6855 converged\n",
      "Maximum iterations reached. 5987 of 6855 converged\n"
     ]
    },
    {
     "name": "stdout",
     "output_type": "stream",
     "text": [
      "\t 20230630_115506_standard_comp_to_novel_agent_D3_subj_1-4vs1-2and2-1_merged\n"
     ]
    },
    {
     "name": "stderr",
     "output_type": "stream",
     "text": [
      "Maximum iterations reached. 6252 of 6855 converged\n",
      "Maximum iterations reached. 6252 of 6855 converged\n"
     ]
    },
    {
     "name": "stdout",
     "output_type": "stream",
     "text": [
      "LH_vHPC\n",
      "\t 20230612_101430_standard_comp_to_training_D1_subj_1-3_t3b3L_box2_merged\n"
     ]
    },
    {
     "name": "stderr",
     "output_type": "stream",
     "text": [
      "Maximum iterations reached. 5791 of 6828 converged\n",
      "Maximum iterations reached. 5791 of 6828 converged\n"
     ]
    },
    {
     "name": "stdout",
     "output_type": "stream",
     "text": [
      "\t 20230612_101430_standard_comp_to_training_D1_subj_1-4_t4b2L_box1_merged\n"
     ]
    },
    {
     "name": "stderr",
     "output_type": "stream",
     "text": [
      "Maximum iterations reached. 5361 of 6828 converged\n",
      "Maximum iterations reached. 5361 of 6828 converged\n"
     ]
    },
    {
     "name": "stdout",
     "output_type": "stream",
     "text": [
      "\t 20230612_112630_standard_comp_to_training_D1_subj_1-1_t1b3L_box2_merged\n"
     ]
    },
    {
     "name": "stderr",
     "output_type": "stream",
     "text": [
      "Maximum iterations reached. 5772 of 6833 converged\n",
      "Maximum iterations reached. 5772 of 6833 converged\n"
     ]
    },
    {
     "name": "stdout",
     "output_type": "stream",
     "text": [
      "\t 20230612_112630_standard_comp_to_training_D1_subj_1-2_t2b2L_box1_merged\n"
     ]
    },
    {
     "name": "stderr",
     "output_type": "stream",
     "text": [
      "Maximum iterations reached. 5277 of 6833 converged\n",
      "Maximum iterations reached. 5277 of 6833 converged\n"
     ]
    },
    {
     "name": "stdout",
     "output_type": "stream",
     "text": [
      "\t 20230613_105657_standard_comp_to_training_D2_subj_1-1_t1b2L_box1_merged\n"
     ]
    },
    {
     "name": "stderr",
     "output_type": "stream",
     "text": [
      "Maximum iterations reached. 5809 of 6840 converged\n",
      "Maximum iterations reached. 5809 of 6840 converged\n"
     ]
    },
    {
     "name": "stdout",
     "output_type": "stream",
     "text": [
      "\t 20230613_105657_standard_comp_to_training_D2_subj_1-4_t4b3L_box2_merged\n"
     ]
    },
    {
     "name": "stderr",
     "output_type": "stream",
     "text": [
      "Maximum iterations reached. 6416 of 6841 converged\n",
      "Maximum iterations reached. 6416 of 6841 converged\n"
     ]
    },
    {
     "name": "stdout",
     "output_type": "stream",
     "text": [
      "\t 20230614_114041_standard_comp_to_training_D3_subj_1-1_t1b3L_box1_merged\n"
     ]
    },
    {
     "name": "stderr",
     "output_type": "stream",
     "text": [
      "Maximum iterations reached. 5515 of 6804 converged\n",
      "Maximum iterations reached. 5515 of 6804 converged\n"
     ]
    },
    {
     "name": "stdout",
     "output_type": "stream",
     "text": [
      "\t 20230614_114041_standard_comp_to_training_D3_subj_1-2_t2b2L_box2_merged\n"
     ]
    },
    {
     "name": "stderr",
     "output_type": "stream",
     "text": [
      "Maximum iterations reached. 4359 of 6678 converged\n",
      "Maximum iterations reached. 4359 of 6678 converged\n"
     ]
    },
    {
     "name": "stdout",
     "output_type": "stream",
     "text": [
      "\t 20230616_111904_standard_comp_to_training_D4_subj_1-2_t2b2L_box2_merged\n"
     ]
    },
    {
     "name": "stderr",
     "output_type": "stream",
     "text": [
      "Maximum iterations reached. 5360 of 6746 converged\n",
      "Maximum iterations reached. 5360 of 6746 converged\n"
     ]
    },
    {
     "name": "stdout",
     "output_type": "stream",
     "text": [
      "\t 20230616_111904_standard_comp_to_training_D4_subj_1-4_t4b3L_box1_merged\n"
     ]
    },
    {
     "name": "stderr",
     "output_type": "stream",
     "text": [
      "Maximum iterations reached. 6128 of 6746 converged\n",
      "Maximum iterations reached. 6128 of 6746 converged\n"
     ]
    },
    {
     "name": "stdout",
     "output_type": "stream",
     "text": [
      "\t 20230617_115521_standard_comp_to_omission_D1_subj_1-1_t1b3L_box1_merged\n"
     ]
    },
    {
     "name": "stderr",
     "output_type": "stream",
     "text": [
      "Maximum iterations reached. 6858 of 7968 converged\n",
      "Maximum iterations reached. 6858 of 7968 converged\n"
     ]
    },
    {
     "name": "stdout",
     "output_type": "stream",
     "text": [
      "\t 20230617_115521_standard_comp_to_omission_D1_subj_1-2_t2b2L_box2_merged\n"
     ]
    },
    {
     "name": "stderr",
     "output_type": "stream",
     "text": [
      "Maximum iterations reached. 6482 of 7968 converged\n",
      "Maximum iterations reached. 6482 of 7968 converged\n"
     ]
    },
    {
     "name": "stdout",
     "output_type": "stream",
     "text": [
      "\t 20230618_100636_standard_comp_to_omission_D2_subj_1_1_t1b2L_box2_merged\n"
     ]
    },
    {
     "name": "stderr",
     "output_type": "stream",
     "text": [
      "Maximum iterations reached. 4981 of 6559 converged\n",
      "Maximum iterations reached. 4981 of 6559 converged\n"
     ]
    },
    {
     "name": "stdout",
     "output_type": "stream",
     "text": [
      "\t 20230618_100636_standard_comp_to_omission_D2_subj_1_4_t4b3L_box1_merged\n"
     ]
    },
    {
     "name": "stderr",
     "output_type": "stream",
     "text": [
      "Maximum iterations reached. 4142 of 6858 converged\n",
      "Maximum iterations reached. 4142 of 6858 converged\n"
     ]
    },
    {
     "name": "stdout",
     "output_type": "stream",
     "text": [
      "\t 20230619_115321_standard_comp_to_omission_D3_subj_1-4_t3b3L_box2_merged\n"
     ]
    },
    {
     "name": "stderr",
     "output_type": "stream",
     "text": [
      "Maximum iterations reached. 3398 of 4117 converged\n",
      "Maximum iterations reached. 3398 of 4117 converged\n"
     ]
    },
    {
     "name": "stdout",
     "output_type": "stream",
     "text": [
      "\t 20230620_114347_standard_comp_to_omission_D4_subj_1-1_t1b2L_box_2_merged\n"
     ]
    },
    {
     "name": "stderr",
     "output_type": "stream",
     "text": [
      "Maximum iterations reached. 5971 of 6835 converged\n",
      "Maximum iterations reached. 5971 of 6835 converged\n"
     ]
    },
    {
     "name": "stdout",
     "output_type": "stream",
     "text": [
      "\t 20230620_114347_standard_comp_to_omission_D4_subj_1-2_t3b3L_box_1_merged\n"
     ]
    },
    {
     "name": "stderr",
     "output_type": "stream",
     "text": [
      "Maximum iterations reached. 5437 of 6835 converged\n",
      "Maximum iterations reached. 5437 of 6835 converged\n"
     ]
    },
    {
     "name": "stdout",
     "output_type": "stream",
     "text": [
      "\t 20230621_111240_standard_comp_to_omission_D5_subj_1-4_t3b3L_box1_merged\n"
     ]
    },
    {
     "name": "stderr",
     "output_type": "stream",
     "text": [
      "Maximum iterations reached. 6620 of 6979 converged\n",
      "Maximum iterations reached. 6620 of 6979 converged\n"
     ]
    },
    {
     "name": "stdout",
     "output_type": "stream",
     "text": [
      "\t 20230622_110832_standard_comp_to_both_rewarded_D1_subj_1-1_t1b3L_box1_merged\n"
     ]
    },
    {
     "name": "stderr",
     "output_type": "stream",
     "text": [
      "Maximum iterations reached. 3224 of 7034 converged\n",
      "Maximum iterations reached. 3224 of 7034 converged\n"
     ]
    },
    {
     "name": "stdout",
     "output_type": "stream",
     "text": [
      "\t 20230622_110832_standard_comp_to_both_rewarded_D1_subj_1-2_t3b3L_box1_merged\n"
     ]
    },
    {
     "name": "stderr",
     "output_type": "stream",
     "text": [
      "Maximum iterations reached. 5520 of 7204 converged\n",
      "Maximum iterations reached. 5520 of 7204 converged\n"
     ]
    },
    {
     "name": "stdout",
     "output_type": "stream",
     "text": [
      "\t 20230624_105855_standard_comp_to_both_rewarded_D3_subj_1-1_t1b2L_box1_merged\n"
     ]
    },
    {
     "name": "stderr",
     "output_type": "stream",
     "text": [
      "Maximum iterations reached. 6039 of 7175 converged\n",
      "Maximum iterations reached. 6039 of 7175 converged\n"
     ]
    },
    {
     "name": "stdout",
     "output_type": "stream",
     "text": [
      "\t 20230624_105855_standard_comp_to_both_rewarded_D3_subj_1-4_t3b3L_box1_merged\n"
     ]
    },
    {
     "name": "stderr",
     "output_type": "stream",
     "text": [
      "Maximum iterations reached. 6134 of 7175 converged\n",
      "Maximum iterations reached. 6134 of 7175 converged\n"
     ]
    },
    {
     "name": "stdout",
     "output_type": "stream",
     "text": [
      "\t 20230625_112913_standard_comp_to_both_rewarded_D4_subj_1-1_t1b2L_box1_merged\n"
     ]
    },
    {
     "name": "stderr",
     "output_type": "stream",
     "text": [
      "Maximum iterations reached. 6095 of 7241 converged\n",
      "Maximum iterations reached. 6095 of 7241 converged\n"
     ]
    },
    {
     "name": "stdout",
     "output_type": "stream",
     "text": [
      "\t 20230625_112913_standard_comp_to_both_rewarded_D4_subj_1-4_t3b3L_box1_merged\n"
     ]
    },
    {
     "name": "stderr",
     "output_type": "stream",
     "text": [
      "Maximum iterations reached. 6123 of 7241 converged\n",
      "Maximum iterations reached. 6123 of 7241 converged\n"
     ]
    },
    {
     "name": "stdout",
     "output_type": "stream",
     "text": [
      "\t 20230628_111202_standard_comp_to_novel_agent_D1_subj_1-1vs1-2and2-2_merged\n"
     ]
    },
    {
     "name": "stderr",
     "output_type": "stream",
     "text": [
      "Maximum iterations reached. 6082 of 6831 converged\n",
      "Maximum iterations reached. 6082 of 6831 converged\n"
     ]
    },
    {
     "name": "stdout",
     "output_type": "stream",
     "text": [
      "\t 20230628_111202_standard_comp_to_novel_agent_D1_subj_1-2vs1-1and2-1_merged\n"
     ]
    },
    {
     "name": "stderr",
     "output_type": "stream",
     "text": [
      "Maximum iterations reached. 5374 of 6831 converged\n",
      "Maximum iterations reached. 5374 of 6831 converged\n"
     ]
    },
    {
     "name": "stdout",
     "output_type": "stream",
     "text": [
      "\t 20230629_111937_standard_comp_to_novel_agent_D2_subj_1-1v1-4and2-1_merged\n"
     ]
    },
    {
     "name": "stderr",
     "output_type": "stream",
     "text": [
      "Maximum iterations reached. 5759 of 6842 converged\n",
      "Maximum iterations reached. 5759 of 6842 converged\n"
     ]
    },
    {
     "name": "stdout",
     "output_type": "stream",
     "text": [
      "\t 20230629_111937_standard_comp_to_novel_agent_D2_subj_1-4vs1-1and2-2_merged\n"
     ]
    },
    {
     "name": "stderr",
     "output_type": "stream",
     "text": [
      "Maximum iterations reached. 6425 of 6842 converged\n",
      "Maximum iterations reached. 6425 of 6842 converged\n"
     ]
    },
    {
     "name": "stdout",
     "output_type": "stream",
     "text": [
      "\t 20230630_115506_standard_comp_to_novel_agent_D3_subj_1-2vs1-4and2-2_merged\n"
     ]
    },
    {
     "name": "stderr",
     "output_type": "stream",
     "text": [
      "Maximum iterations reached. 5628 of 6855 converged\n",
      "Maximum iterations reached. 5628 of 6855 converged\n"
     ]
    },
    {
     "name": "stdout",
     "output_type": "stream",
     "text": [
      "\t 20230630_115506_standard_comp_to_novel_agent_D3_subj_1-4vs1-2and2-1_merged\n"
     ]
    },
    {
     "name": "stderr",
     "output_type": "stream",
     "text": [
      "Maximum iterations reached. 6391 of 6855 converged\n",
      "Maximum iterations reached. 6391 of 6855 converged\n"
     ]
    },
    {
     "name": "stdout",
     "output_type": "stream",
     "text": [
      "MD_mPFC\n",
      "\t 20230612_101430_standard_comp_to_training_D1_subj_1-3_t3b3L_box2_merged\n"
     ]
    },
    {
     "name": "stderr",
     "output_type": "stream",
     "text": [
      "Maximum iterations reached. 6037 of 6828 converged\n",
      "Maximum iterations reached. 6037 of 6828 converged\n"
     ]
    },
    {
     "name": "stdout",
     "output_type": "stream",
     "text": [
      "\t 20230612_101430_standard_comp_to_training_D1_subj_1-4_t4b2L_box1_merged\n"
     ]
    },
    {
     "name": "stderr",
     "output_type": "stream",
     "text": [
      "Maximum iterations reached. 4854 of 6828 converged\n",
      "Maximum iterations reached. 4854 of 6828 converged\n"
     ]
    },
    {
     "name": "stdout",
     "output_type": "stream",
     "text": [
      "\t 20230612_112630_standard_comp_to_training_D1_subj_1-1_t1b3L_box2_merged\n"
     ]
    },
    {
     "name": "stderr",
     "output_type": "stream",
     "text": [
      "Maximum iterations reached. 6518 of 6833 converged\n",
      "Maximum iterations reached. 6518 of 6833 converged\n"
     ]
    },
    {
     "name": "stdout",
     "output_type": "stream",
     "text": [
      "\t 20230612_112630_standard_comp_to_training_D1_subj_1-2_t2b2L_box1_merged\n"
     ]
    },
    {
     "name": "stderr",
     "output_type": "stream",
     "text": [
      "Maximum iterations reached. 6221 of 6833 converged\n",
      "Maximum iterations reached. 6221 of 6833 converged\n"
     ]
    },
    {
     "name": "stdout",
     "output_type": "stream",
     "text": [
      "\t 20230613_105657_standard_comp_to_training_D2_subj_1-1_t1b2L_box1_merged\n"
     ]
    },
    {
     "name": "stderr",
     "output_type": "stream",
     "text": [
      "Maximum iterations reached. 6606 of 6840 converged\n",
      "Maximum iterations reached. 6606 of 6840 converged\n"
     ]
    },
    {
     "name": "stdout",
     "output_type": "stream",
     "text": [
      "\t 20230613_105657_standard_comp_to_training_D2_subj_1-4_t4b3L_box2_merged\n"
     ]
    },
    {
     "name": "stderr",
     "output_type": "stream",
     "text": [
      "Maximum iterations reached. 5696 of 6841 converged\n",
      "Maximum iterations reached. 5696 of 6841 converged\n"
     ]
    },
    {
     "name": "stdout",
     "output_type": "stream",
     "text": [
      "\t 20230614_114041_standard_comp_to_training_D3_subj_1-1_t1b3L_box1_merged\n"
     ]
    },
    {
     "name": "stderr",
     "output_type": "stream",
     "text": [
      "Maximum iterations reached. 6440 of 6804 converged\n",
      "Maximum iterations reached. 6440 of 6804 converged\n"
     ]
    },
    {
     "name": "stdout",
     "output_type": "stream",
     "text": [
      "\t 20230614_114041_standard_comp_to_training_D3_subj_1-2_t2b2L_box2_merged\n"
     ]
    },
    {
     "name": "stderr",
     "output_type": "stream",
     "text": [
      "Maximum iterations reached. 5299 of 6678 converged\n",
      "Maximum iterations reached. 5299 of 6678 converged\n"
     ]
    },
    {
     "name": "stdout",
     "output_type": "stream",
     "text": [
      "\t 20230616_111904_standard_comp_to_training_D4_subj_1-2_t2b2L_box2_merged\n"
     ]
    },
    {
     "name": "stderr",
     "output_type": "stream",
     "text": [
      "Maximum iterations reached. 6257 of 6746 converged\n",
      "Maximum iterations reached. 6257 of 6746 converged\n"
     ]
    },
    {
     "name": "stdout",
     "output_type": "stream",
     "text": [
      "\t 20230616_111904_standard_comp_to_training_D4_subj_1-4_t4b3L_box1_merged\n"
     ]
    },
    {
     "name": "stderr",
     "output_type": "stream",
     "text": [
      "Maximum iterations reached. 5495 of 6746 converged\n",
      "Maximum iterations reached. 5495 of 6746 converged\n"
     ]
    },
    {
     "name": "stdout",
     "output_type": "stream",
     "text": [
      "\t 20230617_115521_standard_comp_to_omission_D1_subj_1-1_t1b3L_box1_merged\n"
     ]
    },
    {
     "name": "stderr",
     "output_type": "stream",
     "text": [
      "Maximum iterations reached. 7653 of 7968 converged\n",
      "Maximum iterations reached. 7653 of 7968 converged\n"
     ]
    },
    {
     "name": "stdout",
     "output_type": "stream",
     "text": [
      "\t 20230617_115521_standard_comp_to_omission_D1_subj_1-2_t2b2L_box2_merged\n"
     ]
    },
    {
     "name": "stderr",
     "output_type": "stream",
     "text": [
      "Maximum iterations reached. 7350 of 7968 converged\n",
      "Maximum iterations reached. 7350 of 7968 converged\n"
     ]
    },
    {
     "name": "stdout",
     "output_type": "stream",
     "text": [
      "\t 20230618_100636_standard_comp_to_omission_D2_subj_1_1_t1b2L_box2_merged\n"
     ]
    },
    {
     "name": "stderr",
     "output_type": "stream",
     "text": [
      "Maximum iterations reached. 5816 of 6559 converged\n",
      "Maximum iterations reached. 5816 of 6559 converged\n"
     ]
    },
    {
     "name": "stdout",
     "output_type": "stream",
     "text": [
      "\t 20230618_100636_standard_comp_to_omission_D2_subj_1_4_t4b3L_box1_merged\n"
     ]
    },
    {
     "name": "stderr",
     "output_type": "stream",
     "text": [
      "Maximum iterations reached. 4893 of 6858 converged\n",
      "Maximum iterations reached. 4893 of 6858 converged\n"
     ]
    },
    {
     "name": "stdout",
     "output_type": "stream",
     "text": [
      "\t 20230619_115321_standard_comp_to_omission_D3_subj_1-4_t3b3L_box2_merged\n"
     ]
    },
    {
     "name": "stderr",
     "output_type": "stream",
     "text": [
      "Maximum iterations reached. 3029 of 4117 converged\n",
      "Maximum iterations reached. 3029 of 4117 converged\n"
     ]
    },
    {
     "name": "stdout",
     "output_type": "stream",
     "text": [
      "\t 20230620_114347_standard_comp_to_omission_D4_subj_1-1_t1b2L_box_2_merged\n"
     ]
    },
    {
     "name": "stderr",
     "output_type": "stream",
     "text": [
      "Maximum iterations reached. 6575 of 6835 converged\n",
      "Maximum iterations reached. 6575 of 6835 converged\n"
     ]
    },
    {
     "name": "stdout",
     "output_type": "stream",
     "text": [
      "\t 20230620_114347_standard_comp_to_omission_D4_subj_1-2_t3b3L_box_1_merged\n"
     ]
    },
    {
     "name": "stderr",
     "output_type": "stream",
     "text": [
      "Maximum iterations reached. 6193 of 6835 converged\n",
      "Maximum iterations reached. 6193 of 6835 converged\n"
     ]
    },
    {
     "name": "stdout",
     "output_type": "stream",
     "text": [
      "\t 20230621_111240_standard_comp_to_omission_D5_subj_1-4_t3b3L_box1_merged\n"
     ]
    },
    {
     "name": "stderr",
     "output_type": "stream",
     "text": [
      "Maximum iterations reached. 6235 of 6979 converged\n",
      "Maximum iterations reached. 6235 of 6979 converged\n"
     ]
    },
    {
     "name": "stdout",
     "output_type": "stream",
     "text": [
      "\t 20230622_110832_standard_comp_to_both_rewarded_D1_subj_1-1_t1b3L_box1_merged\n"
     ]
    },
    {
     "name": "stderr",
     "output_type": "stream",
     "text": [
      "Maximum iterations reached. 5810 of 7034 converged\n",
      "Maximum iterations reached. 5810 of 7034 converged\n"
     ]
    },
    {
     "name": "stdout",
     "output_type": "stream",
     "text": [
      "\t 20230622_110832_standard_comp_to_both_rewarded_D1_subj_1-2_t3b3L_box1_merged\n"
     ]
    },
    {
     "name": "stderr",
     "output_type": "stream",
     "text": [
      "Maximum iterations reached. 6298 of 7204 converged\n",
      "Maximum iterations reached. 6298 of 7204 converged\n"
     ]
    },
    {
     "name": "stdout",
     "output_type": "stream",
     "text": [
      "\t 20230624_105855_standard_comp_to_both_rewarded_D3_subj_1-1_t1b2L_box1_merged\n"
     ]
    },
    {
     "name": "stderr",
     "output_type": "stream",
     "text": [
      "Maximum iterations reached. 6485 of 7175 converged\n",
      "Maximum iterations reached. 6485 of 7175 converged\n"
     ]
    },
    {
     "name": "stdout",
     "output_type": "stream",
     "text": [
      "\t 20230624_105855_standard_comp_to_both_rewarded_D3_subj_1-4_t3b3L_box1_merged\n"
     ]
    },
    {
     "name": "stderr",
     "output_type": "stream",
     "text": [
      "Maximum iterations reached. 5434 of 7175 converged\n",
      "Maximum iterations reached. 5434 of 7175 converged\n"
     ]
    },
    {
     "name": "stdout",
     "output_type": "stream",
     "text": [
      "\t 20230625_112913_standard_comp_to_both_rewarded_D4_subj_1-1_t1b2L_box1_merged\n"
     ]
    },
    {
     "name": "stderr",
     "output_type": "stream",
     "text": [
      "Maximum iterations reached. 6769 of 7241 converged\n",
      "Maximum iterations reached. 6769 of 7241 converged\n"
     ]
    },
    {
     "name": "stdout",
     "output_type": "stream",
     "text": [
      "\t 20230625_112913_standard_comp_to_both_rewarded_D4_subj_1-4_t3b3L_box1_merged\n"
     ]
    },
    {
     "name": "stderr",
     "output_type": "stream",
     "text": [
      "Maximum iterations reached. 5586 of 7241 converged\n",
      "Maximum iterations reached. 5586 of 7241 converged\n"
     ]
    },
    {
     "name": "stdout",
     "output_type": "stream",
     "text": [
      "\t 20230628_111202_standard_comp_to_novel_agent_D1_subj_1-1vs1-2and2-2_merged\n"
     ]
    },
    {
     "name": "stderr",
     "output_type": "stream",
     "text": [
      "Maximum iterations reached. 6544 of 6831 converged\n",
      "Maximum iterations reached. 6544 of 6831 converged\n"
     ]
    },
    {
     "name": "stdout",
     "output_type": "stream",
     "text": [
      "\t 20230628_111202_standard_comp_to_novel_agent_D1_subj_1-2vs1-1and2-1_merged\n"
     ]
    },
    {
     "name": "stderr",
     "output_type": "stream",
     "text": [
      "Maximum iterations reached. 6175 of 6831 converged\n",
      "Maximum iterations reached. 6175 of 6831 converged\n"
     ]
    },
    {
     "name": "stdout",
     "output_type": "stream",
     "text": [
      "\t 20230629_111937_standard_comp_to_novel_agent_D2_subj_1-1v1-4and2-1_merged\n"
     ]
    },
    {
     "name": "stderr",
     "output_type": "stream",
     "text": [
      "Maximum iterations reached. 6365 of 6842 converged\n",
      "Maximum iterations reached. 6365 of 6842 converged\n"
     ]
    },
    {
     "name": "stdout",
     "output_type": "stream",
     "text": [
      "\t 20230629_111937_standard_comp_to_novel_agent_D2_subj_1-4vs1-1and2-2_merged\n"
     ]
    },
    {
     "name": "stderr",
     "output_type": "stream",
     "text": [
      "Maximum iterations reached. 5966 of 6842 converged\n",
      "Maximum iterations reached. 5966 of 6842 converged\n"
     ]
    },
    {
     "name": "stdout",
     "output_type": "stream",
     "text": [
      "\t 20230630_115506_standard_comp_to_novel_agent_D3_subj_1-2vs1-4and2-2_merged\n"
     ]
    },
    {
     "name": "stderr",
     "output_type": "stream",
     "text": [
      "Maximum iterations reached. 6162 of 6855 converged\n",
      "Maximum iterations reached. 6162 of 6855 converged\n"
     ]
    },
    {
     "name": "stdout",
     "output_type": "stream",
     "text": [
      "\t 20230630_115506_standard_comp_to_novel_agent_D3_subj_1-4vs1-2and2-1_merged\n"
     ]
    },
    {
     "name": "stderr",
     "output_type": "stream",
     "text": [
      "Maximum iterations reached. 6206 of 6855 converged\n",
      "Maximum iterations reached. 6206 of 6855 converged\n"
     ]
    },
    {
     "name": "stdout",
     "output_type": "stream",
     "text": [
      "MD_vHPC\n",
      "\t 20230612_101430_standard_comp_to_training_D1_subj_1-3_t3b3L_box2_merged\n"
     ]
    },
    {
     "name": "stderr",
     "output_type": "stream",
     "text": [
      "Maximum iterations reached. 5869 of 6828 converged\n",
      "Maximum iterations reached. 5869 of 6828 converged\n"
     ]
    },
    {
     "name": "stdout",
     "output_type": "stream",
     "text": [
      "\t 20230612_101430_standard_comp_to_training_D1_subj_1-4_t4b2L_box1_merged\n"
     ]
    },
    {
     "name": "stderr",
     "output_type": "stream",
     "text": [
      "Maximum iterations reached. 5177 of 6828 converged\n",
      "Maximum iterations reached. 5177 of 6828 converged\n"
     ]
    },
    {
     "name": "stdout",
     "output_type": "stream",
     "text": [
      "\t 20230612_112630_standard_comp_to_training_D1_subj_1-1_t1b3L_box2_merged\n"
     ]
    },
    {
     "name": "stderr",
     "output_type": "stream",
     "text": [
      "Maximum iterations reached. 5815 of 6833 converged\n",
      "Maximum iterations reached. 5815 of 6833 converged\n"
     ]
    },
    {
     "name": "stdout",
     "output_type": "stream",
     "text": [
      "\t 20230612_112630_standard_comp_to_training_D1_subj_1-2_t2b2L_box1_merged\n"
     ]
    },
    {
     "name": "stderr",
     "output_type": "stream",
     "text": [
      "Maximum iterations reached. 5402 of 6833 converged\n",
      "Maximum iterations reached. 5402 of 6833 converged\n"
     ]
    },
    {
     "name": "stdout",
     "output_type": "stream",
     "text": [
      "\t 20230613_105657_standard_comp_to_training_D2_subj_1-1_t1b2L_box1_merged\n"
     ]
    },
    {
     "name": "stderr",
     "output_type": "stream",
     "text": [
      "Maximum iterations reached. 5862 of 6840 converged\n",
      "Maximum iterations reached. 5862 of 6840 converged\n"
     ]
    },
    {
     "name": "stdout",
     "output_type": "stream",
     "text": [
      "\t 20230613_105657_standard_comp_to_training_D2_subj_1-4_t4b3L_box2_merged\n"
     ]
    },
    {
     "name": "stderr",
     "output_type": "stream",
     "text": [
      "Maximum iterations reached. 6395 of 6841 converged\n",
      "Maximum iterations reached. 6395 of 6841 converged\n"
     ]
    },
    {
     "name": "stdout",
     "output_type": "stream",
     "text": [
      "\t 20230614_114041_standard_comp_to_training_D3_subj_1-1_t1b3L_box1_merged\n"
     ]
    },
    {
     "name": "stderr",
     "output_type": "stream",
     "text": [
      "Maximum iterations reached. 5558 of 6804 converged\n",
      "Maximum iterations reached. 5558 of 6804 converged\n"
     ]
    },
    {
     "name": "stdout",
     "output_type": "stream",
     "text": [
      "\t 20230614_114041_standard_comp_to_training_D3_subj_1-2_t2b2L_box2_merged\n"
     ]
    },
    {
     "name": "stderr",
     "output_type": "stream",
     "text": [
      "Maximum iterations reached. 4538 of 6678 converged\n",
      "Maximum iterations reached. 4538 of 6678 converged\n"
     ]
    },
    {
     "name": "stdout",
     "output_type": "stream",
     "text": [
      "\t 20230616_111904_standard_comp_to_training_D4_subj_1-2_t2b2L_box2_merged\n"
     ]
    },
    {
     "name": "stderr",
     "output_type": "stream",
     "text": [
      "Maximum iterations reached. 5530 of 6746 converged\n",
      "Maximum iterations reached. 5530 of 6746 converged\n"
     ]
    },
    {
     "name": "stdout",
     "output_type": "stream",
     "text": [
      "\t 20230616_111904_standard_comp_to_training_D4_subj_1-4_t4b3L_box1_merged\n"
     ]
    },
    {
     "name": "stderr",
     "output_type": "stream",
     "text": [
      "Maximum iterations reached. 6100 of 6746 converged\n",
      "Maximum iterations reached. 6100 of 6746 converged\n"
     ]
    },
    {
     "name": "stdout",
     "output_type": "stream",
     "text": [
      "\t 20230617_115521_standard_comp_to_omission_D1_subj_1-1_t1b3L_box1_merged\n"
     ]
    },
    {
     "name": "stderr",
     "output_type": "stream",
     "text": [
      "Maximum iterations reached. 6914 of 7968 converged\n",
      "Maximum iterations reached. 6914 of 7968 converged\n"
     ]
    },
    {
     "name": "stdout",
     "output_type": "stream",
     "text": [
      "\t 20230617_115521_standard_comp_to_omission_D1_subj_1-2_t2b2L_box2_merged\n"
     ]
    },
    {
     "name": "stderr",
     "output_type": "stream",
     "text": [
      "Maximum iterations reached. 6728 of 7968 converged\n",
      "Maximum iterations reached. 6728 of 7968 converged\n"
     ]
    },
    {
     "name": "stdout",
     "output_type": "stream",
     "text": [
      "\t 20230618_100636_standard_comp_to_omission_D2_subj_1_1_t1b2L_box2_merged\n"
     ]
    },
    {
     "name": "stderr",
     "output_type": "stream",
     "text": [
      "Maximum iterations reached. 5037 of 6559 converged\n",
      "Maximum iterations reached. 5037 of 6559 converged\n"
     ]
    },
    {
     "name": "stdout",
     "output_type": "stream",
     "text": [
      "\t 20230618_100636_standard_comp_to_omission_D2_subj_1_4_t4b3L_box1_merged\n"
     ]
    },
    {
     "name": "stderr",
     "output_type": "stream",
     "text": [
      "Maximum iterations reached. 4040 of 6858 converged\n",
      "Maximum iterations reached. 4040 of 6858 converged\n"
     ]
    },
    {
     "name": "stdout",
     "output_type": "stream",
     "text": [
      "\t 20230619_115321_standard_comp_to_omission_D3_subj_1-4_t3b3L_box2_merged\n"
     ]
    },
    {
     "name": "stderr",
     "output_type": "stream",
     "text": [
      "Maximum iterations reached. 3397 of 4117 converged\n",
      "Maximum iterations reached. 3397 of 4117 converged\n"
     ]
    },
    {
     "name": "stdout",
     "output_type": "stream",
     "text": [
      "\t 20230620_114347_standard_comp_to_omission_D4_subj_1-1_t1b2L_box_2_merged\n"
     ]
    },
    {
     "name": "stderr",
     "output_type": "stream",
     "text": [
      "Maximum iterations reached. 5997 of 6835 converged\n",
      "Maximum iterations reached. 5997 of 6835 converged\n"
     ]
    },
    {
     "name": "stdout",
     "output_type": "stream",
     "text": [
      "\t 20230620_114347_standard_comp_to_omission_D4_subj_1-2_t3b3L_box_1_merged\n"
     ]
    },
    {
     "name": "stderr",
     "output_type": "stream",
     "text": [
      "Maximum iterations reached. 5457 of 6835 converged\n",
      "Maximum iterations reached. 5457 of 6835 converged\n"
     ]
    },
    {
     "name": "stdout",
     "output_type": "stream",
     "text": [
      "\t 20230621_111240_standard_comp_to_omission_D5_subj_1-4_t3b3L_box1_merged\n"
     ]
    },
    {
     "name": "stderr",
     "output_type": "stream",
     "text": [
      "Maximum iterations reached. 6625 of 6979 converged\n",
      "Maximum iterations reached. 6625 of 6979 converged\n"
     ]
    },
    {
     "name": "stdout",
     "output_type": "stream",
     "text": [
      "\t 20230622_110832_standard_comp_to_both_rewarded_D1_subj_1-1_t1b3L_box1_merged\n"
     ]
    },
    {
     "name": "stderr",
     "output_type": "stream",
     "text": [
      "Maximum iterations reached. 3264 of 7034 converged\n",
      "Maximum iterations reached. 3264 of 7034 converged\n"
     ]
    },
    {
     "name": "stdout",
     "output_type": "stream",
     "text": [
      "\t 20230622_110832_standard_comp_to_both_rewarded_D1_subj_1-2_t3b3L_box1_merged\n"
     ]
    },
    {
     "name": "stderr",
     "output_type": "stream",
     "text": [
      "Maximum iterations reached. 5603 of 7204 converged\n",
      "Maximum iterations reached. 5603 of 7204 converged\n"
     ]
    },
    {
     "name": "stdout",
     "output_type": "stream",
     "text": [
      "\t 20230624_105855_standard_comp_to_both_rewarded_D3_subj_1-1_t1b2L_box1_merged\n"
     ]
    },
    {
     "name": "stderr",
     "output_type": "stream",
     "text": [
      "Maximum iterations reached. 6143 of 7175 converged\n",
      "Maximum iterations reached. 6143 of 7175 converged\n"
     ]
    },
    {
     "name": "stdout",
     "output_type": "stream",
     "text": [
      "\t 20230624_105855_standard_comp_to_both_rewarded_D3_subj_1-4_t3b3L_box1_merged\n"
     ]
    },
    {
     "name": "stderr",
     "output_type": "stream",
     "text": [
      "Maximum iterations reached. 6122 of 7175 converged\n",
      "Maximum iterations reached. 6122 of 7175 converged\n"
     ]
    },
    {
     "name": "stdout",
     "output_type": "stream",
     "text": [
      "\t 20230625_112913_standard_comp_to_both_rewarded_D4_subj_1-1_t1b2L_box1_merged\n"
     ]
    },
    {
     "name": "stderr",
     "output_type": "stream",
     "text": [
      "Maximum iterations reached. 6140 of 7241 converged\n",
      "Maximum iterations reached. 6140 of 7241 converged\n"
     ]
    },
    {
     "name": "stdout",
     "output_type": "stream",
     "text": [
      "\t 20230625_112913_standard_comp_to_both_rewarded_D4_subj_1-4_t3b3L_box1_merged\n"
     ]
    },
    {
     "name": "stderr",
     "output_type": "stream",
     "text": [
      "Maximum iterations reached. 6157 of 7241 converged\n",
      "Maximum iterations reached. 6157 of 7241 converged\n"
     ]
    },
    {
     "name": "stdout",
     "output_type": "stream",
     "text": [
      "\t 20230628_111202_standard_comp_to_novel_agent_D1_subj_1-1vs1-2and2-2_merged\n"
     ]
    },
    {
     "name": "stderr",
     "output_type": "stream",
     "text": [
      "Maximum iterations reached. 6118 of 6831 converged\n",
      "Maximum iterations reached. 6118 of 6831 converged\n"
     ]
    },
    {
     "name": "stdout",
     "output_type": "stream",
     "text": [
      "\t 20230628_111202_standard_comp_to_novel_agent_D1_subj_1-2vs1-1and2-1_merged\n"
     ]
    },
    {
     "name": "stderr",
     "output_type": "stream",
     "text": [
      "Maximum iterations reached. 5523 of 6831 converged\n",
      "Maximum iterations reached. 5523 of 6831 converged\n"
     ]
    },
    {
     "name": "stdout",
     "output_type": "stream",
     "text": [
      "\t 20230629_111937_standard_comp_to_novel_agent_D2_subj_1-1v1-4and2-1_merged\n"
     ]
    },
    {
     "name": "stderr",
     "output_type": "stream",
     "text": [
      "Maximum iterations reached. 5816 of 6842 converged\n",
      "Maximum iterations reached. 5816 of 6842 converged\n"
     ]
    },
    {
     "name": "stdout",
     "output_type": "stream",
     "text": [
      "\t 20230629_111937_standard_comp_to_novel_agent_D2_subj_1-4vs1-1and2-2_merged\n"
     ]
    },
    {
     "name": "stderr",
     "output_type": "stream",
     "text": [
      "Maximum iterations reached. 6351 of 6842 converged\n",
      "Maximum iterations reached. 6351 of 6842 converged\n"
     ]
    },
    {
     "name": "stdout",
     "output_type": "stream",
     "text": [
      "\t 20230630_115506_standard_comp_to_novel_agent_D3_subj_1-2vs1-4and2-2_merged\n"
     ]
    },
    {
     "name": "stderr",
     "output_type": "stream",
     "text": [
      "Maximum iterations reached. 5849 of 6855 converged\n",
      "Maximum iterations reached. 5849 of 6855 converged\n"
     ]
    },
    {
     "name": "stdout",
     "output_type": "stream",
     "text": [
      "\t 20230630_115506_standard_comp_to_novel_agent_D3_subj_1-4vs1-2and2-1_merged\n"
     ]
    },
    {
     "name": "stderr",
     "output_type": "stream",
     "text": [
      "Maximum iterations reached. 6337 of 6855 converged\n",
      "Maximum iterations reached. 6337 of 6855 converged\n"
     ]
    },
    {
     "name": "stdout",
     "output_type": "stream",
     "text": [
      "mPFC_vHPC\n",
      "\t 20230612_101430_standard_comp_to_training_D1_subj_1-3_t3b3L_box2_merged\n"
     ]
    },
    {
     "name": "stderr",
     "output_type": "stream",
     "text": [
      "Maximum iterations reached. 5811 of 6828 converged\n",
      "Maximum iterations reached. 5811 of 6828 converged\n"
     ]
    },
    {
     "name": "stdout",
     "output_type": "stream",
     "text": [
      "\t 20230612_101430_standard_comp_to_training_D1_subj_1-4_t4b2L_box1_merged\n"
     ]
    },
    {
     "name": "stderr",
     "output_type": "stream",
     "text": [
      "Maximum iterations reached. 5403 of 6828 converged\n",
      "Maximum iterations reached. 5403 of 6828 converged\n"
     ]
    },
    {
     "name": "stdout",
     "output_type": "stream",
     "text": [
      "\t 20230612_112630_standard_comp_to_training_D1_subj_1-1_t1b3L_box2_merged\n"
     ]
    },
    {
     "name": "stderr",
     "output_type": "stream",
     "text": [
      "Maximum iterations reached. 5776 of 6833 converged\n",
      "Maximum iterations reached. 5776 of 6833 converged\n"
     ]
    },
    {
     "name": "stdout",
     "output_type": "stream",
     "text": [
      "\t 20230612_112630_standard_comp_to_training_D1_subj_1-2_t2b2L_box1_merged\n"
     ]
    },
    {
     "name": "stderr",
     "output_type": "stream",
     "text": [
      "Maximum iterations reached. 5486 of 6833 converged\n",
      "Maximum iterations reached. 5486 of 6833 converged\n"
     ]
    },
    {
     "name": "stdout",
     "output_type": "stream",
     "text": [
      "\t 20230613_105657_standard_comp_to_training_D2_subj_1-1_t1b2L_box1_merged\n"
     ]
    },
    {
     "name": "stderr",
     "output_type": "stream",
     "text": [
      "Maximum iterations reached. 5823 of 6840 converged\n",
      "Maximum iterations reached. 5823 of 6840 converged\n"
     ]
    },
    {
     "name": "stdout",
     "output_type": "stream",
     "text": [
      "\t 20230613_105657_standard_comp_to_training_D2_subj_1-4_t4b3L_box2_merged\n"
     ]
    },
    {
     "name": "stderr",
     "output_type": "stream",
     "text": [
      "Maximum iterations reached. 5649 of 6841 converged\n",
      "Maximum iterations reached. 5649 of 6841 converged\n"
     ]
    },
    {
     "name": "stdout",
     "output_type": "stream",
     "text": [
      "\t 20230614_114041_standard_comp_to_training_D3_subj_1-1_t1b3L_box1_merged\n"
     ]
    },
    {
     "name": "stderr",
     "output_type": "stream",
     "text": [
      "Maximum iterations reached. 5525 of 6804 converged\n",
      "Maximum iterations reached. 5525 of 6804 converged\n"
     ]
    },
    {
     "name": "stdout",
     "output_type": "stream",
     "text": [
      "\t 20230614_114041_standard_comp_to_training_D3_subj_1-2_t2b2L_box2_merged\n"
     ]
    },
    {
     "name": "stderr",
     "output_type": "stream",
     "text": [
      "Maximum iterations reached. 4501 of 6678 converged\n",
      "Maximum iterations reached. 4501 of 6678 converged\n"
     ]
    },
    {
     "name": "stdout",
     "output_type": "stream",
     "text": [
      "\t 20230616_111904_standard_comp_to_training_D4_subj_1-2_t2b2L_box2_merged\n"
     ]
    },
    {
     "name": "stderr",
     "output_type": "stream",
     "text": [
      "Maximum iterations reached. 5623 of 6746 converged\n",
      "Maximum iterations reached. 5623 of 6746 converged\n"
     ]
    },
    {
     "name": "stdout",
     "output_type": "stream",
     "text": [
      "\t 20230616_111904_standard_comp_to_training_D4_subj_1-4_t4b3L_box1_merged\n"
     ]
    },
    {
     "name": "stderr",
     "output_type": "stream",
     "text": [
      "Maximum iterations reached. 5458 of 6746 converged\n",
      "Maximum iterations reached. 5458 of 6746 converged\n"
     ]
    },
    {
     "name": "stdout",
     "output_type": "stream",
     "text": [
      "\t 20230617_115521_standard_comp_to_omission_D1_subj_1-1_t1b3L_box1_merged\n"
     ]
    },
    {
     "name": "stderr",
     "output_type": "stream",
     "text": [
      "Maximum iterations reached. 6814 of 7968 converged\n",
      "Maximum iterations reached. 6814 of 7968 converged\n"
     ]
    },
    {
     "name": "stdout",
     "output_type": "stream",
     "text": [
      "\t 20230617_115521_standard_comp_to_omission_D1_subj_1-2_t2b2L_box2_merged\n"
     ]
    },
    {
     "name": "stderr",
     "output_type": "stream",
     "text": [
      "Maximum iterations reached. 6689 of 7968 converged\n",
      "Maximum iterations reached. 6689 of 7968 converged\n"
     ]
    },
    {
     "name": "stdout",
     "output_type": "stream",
     "text": [
      "\t 20230618_100636_standard_comp_to_omission_D2_subj_1_1_t1b2L_box2_merged\n"
     ]
    },
    {
     "name": "stderr",
     "output_type": "stream",
     "text": [
      "Maximum iterations reached. 4909 of 6559 converged\n",
      "Maximum iterations reached. 4909 of 6559 converged\n"
     ]
    },
    {
     "name": "stdout",
     "output_type": "stream",
     "text": [
      "\t 20230618_100636_standard_comp_to_omission_D2_subj_1_4_t4b3L_box1_merged\n"
     ]
    },
    {
     "name": "stderr",
     "output_type": "stream",
     "text": [
      "Maximum iterations reached. 3616 of 6858 converged\n",
      "Maximum iterations reached. 3616 of 6858 converged\n"
     ]
    },
    {
     "name": "stdout",
     "output_type": "stream",
     "text": [
      "\t 20230619_115321_standard_comp_to_omission_D3_subj_1-4_t3b3L_box2_merged\n"
     ]
    },
    {
     "name": "stderr",
     "output_type": "stream",
     "text": [
      "Maximum iterations reached. 2961 of 4117 converged\n",
      "Maximum iterations reached. 2961 of 4117 converged\n"
     ]
    },
    {
     "name": "stdout",
     "output_type": "stream",
     "text": [
      "\t 20230620_114347_standard_comp_to_omission_D4_subj_1-1_t1b2L_box_2_merged\n"
     ]
    },
    {
     "name": "stderr",
     "output_type": "stream",
     "text": [
      "Maximum iterations reached. 5910 of 6835 converged\n",
      "Maximum iterations reached. 5910 of 6835 converged\n"
     ]
    },
    {
     "name": "stdout",
     "output_type": "stream",
     "text": [
      "\t 20230620_114347_standard_comp_to_omission_D4_subj_1-2_t3b3L_box_1_merged\n"
     ]
    },
    {
     "name": "stderr",
     "output_type": "stream",
     "text": [
      "Maximum iterations reached. 5572 of 6835 converged\n",
      "Maximum iterations reached. 5572 of 6835 converged\n"
     ]
    },
    {
     "name": "stdout",
     "output_type": "stream",
     "text": [
      "\t 20230621_111240_standard_comp_to_omission_D5_subj_1-4_t3b3L_box1_merged\n"
     ]
    },
    {
     "name": "stderr",
     "output_type": "stream",
     "text": [
      "Maximum iterations reached. 6150 of 6979 converged\n",
      "Maximum iterations reached. 6150 of 6979 converged\n"
     ]
    },
    {
     "name": "stdout",
     "output_type": "stream",
     "text": [
      "\t 20230622_110832_standard_comp_to_both_rewarded_D1_subj_1-1_t1b3L_box1_merged\n"
     ]
    },
    {
     "name": "stderr",
     "output_type": "stream",
     "text": [
      "Maximum iterations reached. 3212 of 7034 converged\n",
      "Maximum iterations reached. 3212 of 7034 converged\n"
     ]
    },
    {
     "name": "stdout",
     "output_type": "stream",
     "text": [
      "\t 20230622_110832_standard_comp_to_both_rewarded_D1_subj_1-2_t3b3L_box1_merged\n"
     ]
    },
    {
     "name": "stderr",
     "output_type": "stream",
     "text": [
      "Maximum iterations reached. 5767 of 7204 converged\n",
      "Maximum iterations reached. 5767 of 7204 converged\n"
     ]
    },
    {
     "name": "stdout",
     "output_type": "stream",
     "text": [
      "\t 20230624_105855_standard_comp_to_both_rewarded_D3_subj_1-1_t1b2L_box1_merged\n"
     ]
    },
    {
     "name": "stderr",
     "output_type": "stream",
     "text": [
      "Maximum iterations reached. 6091 of 7175 converged\n",
      "Maximum iterations reached. 6091 of 7175 converged\n"
     ]
    },
    {
     "name": "stdout",
     "output_type": "stream",
     "text": [
      "\t 20230624_105855_standard_comp_to_both_rewarded_D3_subj_1-4_t3b3L_box1_merged\n"
     ]
    },
    {
     "name": "stderr",
     "output_type": "stream",
     "text": [
      "Maximum iterations reached. 5520 of 7175 converged\n",
      "Maximum iterations reached. 5520 of 7175 converged\n"
     ]
    },
    {
     "name": "stdout",
     "output_type": "stream",
     "text": [
      "\t 20230625_112913_standard_comp_to_both_rewarded_D4_subj_1-1_t1b2L_box1_merged\n"
     ]
    },
    {
     "name": "stderr",
     "output_type": "stream",
     "text": [
      "Maximum iterations reached. 6085 of 7241 converged\n",
      "Maximum iterations reached. 6085 of 7241 converged\n"
     ]
    },
    {
     "name": "stdout",
     "output_type": "stream",
     "text": [
      "\t 20230625_112913_standard_comp_to_both_rewarded_D4_subj_1-4_t3b3L_box1_merged\n"
     ]
    },
    {
     "name": "stderr",
     "output_type": "stream",
     "text": [
      "Maximum iterations reached. 5560 of 7241 converged\n",
      "Maximum iterations reached. 5560 of 7241 converged\n"
     ]
    },
    {
     "name": "stdout",
     "output_type": "stream",
     "text": [
      "\t 20230628_111202_standard_comp_to_novel_agent_D1_subj_1-1vs1-2and2-2_merged\n"
     ]
    },
    {
     "name": "stderr",
     "output_type": "stream",
     "text": [
      "Maximum iterations reached. 6009 of 6831 converged\n",
      "Maximum iterations reached. 6009 of 6831 converged\n"
     ]
    },
    {
     "name": "stdout",
     "output_type": "stream",
     "text": [
      "\t 20230628_111202_standard_comp_to_novel_agent_D1_subj_1-2vs1-1and2-1_merged\n"
     ]
    },
    {
     "name": "stderr",
     "output_type": "stream",
     "text": [
      "Maximum iterations reached. 5513 of 6831 converged\n",
      "Maximum iterations reached. 5513 of 6831 converged\n"
     ]
    },
    {
     "name": "stdout",
     "output_type": "stream",
     "text": [
      "\t 20230629_111937_standard_comp_to_novel_agent_D2_subj_1-1v1-4and2-1_merged\n"
     ]
    },
    {
     "name": "stderr",
     "output_type": "stream",
     "text": [
      "Maximum iterations reached. 5777 of 6842 converged\n",
      "Maximum iterations reached. 5777 of 6842 converged\n"
     ]
    },
    {
     "name": "stdout",
     "output_type": "stream",
     "text": [
      "\t 20230629_111937_standard_comp_to_novel_agent_D2_subj_1-4vs1-1and2-2_merged\n"
     ]
    },
    {
     "name": "stderr",
     "output_type": "stream",
     "text": [
      "Maximum iterations reached. 6002 of 6842 converged\n",
      "Maximum iterations reached. 6002 of 6842 converged\n"
     ]
    },
    {
     "name": "stdout",
     "output_type": "stream",
     "text": [
      "\t 20230630_115506_standard_comp_to_novel_agent_D3_subj_1-2vs1-4and2-2_merged\n"
     ]
    },
    {
     "name": "stderr",
     "output_type": "stream",
     "text": [
      "Maximum iterations reached. 5768 of 6855 converged\n",
      "Maximum iterations reached. 5768 of 6855 converged\n"
     ]
    },
    {
     "name": "stdout",
     "output_type": "stream",
     "text": [
      "\t 20230630_115506_standard_comp_to_novel_agent_D3_subj_1-4vs1-2and2-1_merged\n"
     ]
    },
    {
     "name": "stderr",
     "output_type": "stream",
     "text": [
      "Maximum iterations reached. 6124 of 6855 converged\n",
      "Maximum iterations reached. 6124 of 6855 converged\n"
     ]
    }
   ],
   "source": [
    "for first_region, second_region in brain_region_pairs:\n",
    "    for suffix in all_suffixes:\n",
    "        region_1 = \"_\".join([first_region, suffix])\n",
    "        region_2 = \"_\".join([second_region, suffix])\n",
    "        region_1_base_name = region_1.split('_')[0]\n",
    "        region_2_base_name = region_2.split('_')[0]\n",
    "        pair_base_name = f\"{region_1_base_name}_{region_2_base_name}\"\n",
    "        print(pair_base_name)\n",
    "\n",
    "        try:\n",
    "            # Define column names\n",
    "            frequencies_col = f\"{pair_base_name}_granger_frequencies\"\n",
    "            granger_1_2_col = f\"{region_1_base_name}_{region_2_base_name}_granger_all_frequencies_all_windows\"\n",
    "            granger_2_1_col = f\"{region_2_base_name}_{region_1_base_name}_granger_all_frequencies_all_windows\"\n",
    "            \n",
    "            for index, row in LFP_TRACES_DF.drop_duplicates(subset=[\"recording\"]).iterrows():\n",
    "                recording = row[\"recording\"]\n",
    "                print(\"\\t\", recording)\n",
    "                # Apply Multitaper function\n",
    "                multitaper = Multitaper(\n",
    "                        time_series=np.array([row[region_1], row[region_2]]).T, \n",
    "                        sampling_frequency=RESAMPLE_RATE, \n",
    "                        time_halfbandwidth_product=TIME_HALFBANDWIDTH_PRODUCT, \n",
    "                        time_window_step=TIME_WINDOW_STEP, \n",
    "                        time_window_duration=TIME_WINDOW_DURATION)\n",
    "\n",
    "                # Apply Connectivity function\n",
    "                connectivity = Connectivity.from_multitaper(multitaper)\n",
    "\n",
    "                # Apply frequencies and coherence functions\n",
    "                column_to_recording_dict[frequencies_col][recording] = connectivity.frequencies[:62]\n",
    "                \n",
    "                column_to_recording_dict[granger_1_2_col][recording] = connectivity.pairwise_spectral_granger_prediction()[:,:,0,1]\n",
    "                \n",
    "                column_to_recording_dict[granger_2_1_col][recording] = connectivity.pairwise_spectral_granger_prediction()[:,:,1,0]\n",
    "\n",
    "                column_to_recording_dict[granger_1_2_col][recording] = column_to_recording_dict[granger_1_2_col][recording].astype(np.float32)[:, :62]\n",
    "                column_to_recording_dict[granger_2_1_col][recording] = column_to_recording_dict[granger_2_1_col][recording].astype(np.float32)[:, :62]\n",
    "        \n",
    "        except Exception as e: \n",
    "            print(e)"
   ]
  },
  {
   "cell_type": "code",
   "execution_count": 105,
   "metadata": {
    "tags": []
   },
   "outputs": [],
   "source": [
    "for key, value in column_to_recording_dict.items():\n",
    "    LFP_TRACES_DF[key] = LFP_TRACES_DF[\"recording\"].map(value)"
   ]
  },
  {
   "cell_type": "markdown",
   "metadata": {},
   "source": [
    "- Getting the timestamps of the granger"
   ]
  },
  {
   "cell_type": "code",
   "execution_count": 106,
   "metadata": {
    "tags": []
   },
   "outputs": [],
   "source": [
    "LFP_TRACES_DF[\"granger_timestamps\"] = LFP_TRACES_DF[\"lfp_timestamps\"].apply(lambda x: x[(RESAMPLE_RATE//2):(-RESAMPLE_RATE//2):(RESAMPLE_RATE//2)])\n"
   ]
  },
  {
   "cell_type": "markdown",
   "metadata": {},
   "source": [
    "- Making sure that the timestamps for granger makes sense with shape and values"
   ]
  },
  {
   "cell_type": "code",
   "execution_count": 107,
   "metadata": {
    "tags": []
   },
   "outputs": [
    {
     "data": {
      "text/plain": [
       "0    (6828,)\n",
       "1    (6828,)\n",
       "2    (6828,)\n",
       "3    (6828,)\n",
       "4    (6833,)\n",
       "Name: granger_timestamps, dtype: object"
      ]
     },
     "execution_count": 107,
     "metadata": {},
     "output_type": "execute_result"
    }
   ],
   "source": [
    "LFP_TRACES_DF[\"granger_timestamps\"].head().apply(lambda x: x.shape)"
   ]
  },
  {
   "cell_type": "code",
   "execution_count": 108,
   "metadata": {
    "tags": []
   },
   "outputs": [
    {
     "data": {
      "text/plain": [
       "(6828, 62)"
      ]
     },
     "execution_count": 108,
     "metadata": {},
     "output_type": "execute_result"
    }
   ],
   "source": [
    "LFP_TRACES_DF[[col for col in LFP_TRACES_DF.columns if \"granger_all_frequencies_all_windows\" in col][0]].iloc[0].shape"
   ]
  },
  {
   "cell_type": "code",
   "execution_count": 109,
   "metadata": {
    "tags": []
   },
   "outputs": [
    {
     "data": {
      "text/plain": [
       "array([       0,       20,       40, ..., 68293300, 68293320, 68293340])"
      ]
     },
     "execution_count": 109,
     "metadata": {},
     "output_type": "execute_result"
    }
   ],
   "source": [
    "LFP_TRACES_DF[[col for col in LFP_TRACES_DF.columns if \"lfp_timestamps\" in col][0]].iloc[0]"
   ]
  },
  {
   "cell_type": "code",
   "execution_count": 110,
   "metadata": {
    "tags": []
   },
   "outputs": [
    {
     "data": {
      "text/plain": [
       "array([   10000,    20000,    30000, ..., 68260000, 68270000, 68280000])"
      ]
     },
     "execution_count": 110,
     "metadata": {},
     "output_type": "execute_result"
    }
   ],
   "source": [
    "LFP_TRACES_DF[[col for col in LFP_TRACES_DF.columns if \"granger_timestamps\" in col][0]].iloc[0]"
   ]
  },
  {
   "cell_type": "markdown",
   "metadata": {},
   "source": [
    "- Checking if the right frequencies are being used"
   ]
  },
  {
   "cell_type": "code",
   "execution_count": 111,
   "metadata": {
    "tags": []
   },
   "outputs": [
    {
     "data": {
      "text/html": [
       "<div>\n",
       "<style scoped>\n",
       "    .dataframe tbody tr th:only-of-type {\n",
       "        vertical-align: middle;\n",
       "    }\n",
       "\n",
       "    .dataframe tbody tr th {\n",
       "        vertical-align: top;\n",
       "    }\n",
       "\n",
       "    .dataframe thead th {\n",
       "        text-align: right;\n",
       "    }\n",
       "</style>\n",
       "<table border=\"1\" class=\"dataframe\">\n",
       "  <thead>\n",
       "    <tr style=\"text-align: right;\">\n",
       "      <th></th>\n",
       "      <th>BLA_LH_granger_frequencies</th>\n",
       "      <th>BLA_MD_granger_frequencies</th>\n",
       "      <th>BLA_mPFC_granger_frequencies</th>\n",
       "      <th>BLA_vHPC_granger_frequencies</th>\n",
       "      <th>LH_MD_granger_frequencies</th>\n",
       "      <th>LH_mPFC_granger_frequencies</th>\n",
       "      <th>LH_vHPC_granger_frequencies</th>\n",
       "      <th>MD_mPFC_granger_frequencies</th>\n",
       "      <th>MD_vHPC_granger_frequencies</th>\n",
       "      <th>mPFC_vHPC_granger_frequencies</th>\n",
       "    </tr>\n",
       "  </thead>\n",
       "  <tbody>\n",
       "    <tr>\n",
       "      <th>0</th>\n",
       "      <td>[0.0, 1.0, 2.0, 3.0, 4.0, 5.0, 6.0, 7.0, 8.0, ...</td>\n",
       "      <td>[0.0, 1.0, 2.0, 3.0, 4.0, 5.0, 6.0, 7.0, 8.0, ...</td>\n",
       "      <td>[0.0, 1.0, 2.0, 3.0, 4.0, 5.0, 6.0, 7.0, 8.0, ...</td>\n",
       "      <td>[0.0, 1.0, 2.0, 3.0, 4.0, 5.0, 6.0, 7.0, 8.0, ...</td>\n",
       "      <td>[0.0, 1.0, 2.0, 3.0, 4.0, 5.0, 6.0, 7.0, 8.0, ...</td>\n",
       "      <td>[0.0, 1.0, 2.0, 3.0, 4.0, 5.0, 6.0, 7.0, 8.0, ...</td>\n",
       "      <td>[0.0, 1.0, 2.0, 3.0, 4.0, 5.0, 6.0, 7.0, 8.0, ...</td>\n",
       "      <td>[0.0, 1.0, 2.0, 3.0, 4.0, 5.0, 6.0, 7.0, 8.0, ...</td>\n",
       "      <td>[0.0, 1.0, 2.0, 3.0, 4.0, 5.0, 6.0, 7.0, 8.0, ...</td>\n",
       "      <td>[0.0, 1.0, 2.0, 3.0, 4.0, 5.0, 6.0, 7.0, 8.0, ...</td>\n",
       "    </tr>\n",
       "    <tr>\n",
       "      <th>1</th>\n",
       "      <td>[0.0, 1.0, 2.0, 3.0, 4.0, 5.0, 6.0, 7.0, 8.0, ...</td>\n",
       "      <td>[0.0, 1.0, 2.0, 3.0, 4.0, 5.0, 6.0, 7.0, 8.0, ...</td>\n",
       "      <td>[0.0, 1.0, 2.0, 3.0, 4.0, 5.0, 6.0, 7.0, 8.0, ...</td>\n",
       "      <td>[0.0, 1.0, 2.0, 3.0, 4.0, 5.0, 6.0, 7.0, 8.0, ...</td>\n",
       "      <td>[0.0, 1.0, 2.0, 3.0, 4.0, 5.0, 6.0, 7.0, 8.0, ...</td>\n",
       "      <td>[0.0, 1.0, 2.0, 3.0, 4.0, 5.0, 6.0, 7.0, 8.0, ...</td>\n",
       "      <td>[0.0, 1.0, 2.0, 3.0, 4.0, 5.0, 6.0, 7.0, 8.0, ...</td>\n",
       "      <td>[0.0, 1.0, 2.0, 3.0, 4.0, 5.0, 6.0, 7.0, 8.0, ...</td>\n",
       "      <td>[0.0, 1.0, 2.0, 3.0, 4.0, 5.0, 6.0, 7.0, 8.0, ...</td>\n",
       "      <td>[0.0, 1.0, 2.0, 3.0, 4.0, 5.0, 6.0, 7.0, 8.0, ...</td>\n",
       "    </tr>\n",
       "    <tr>\n",
       "      <th>2</th>\n",
       "      <td>[0.0, 1.0, 2.0, 3.0, 4.0, 5.0, 6.0, 7.0, 8.0, ...</td>\n",
       "      <td>[0.0, 1.0, 2.0, 3.0, 4.0, 5.0, 6.0, 7.0, 8.0, ...</td>\n",
       "      <td>[0.0, 1.0, 2.0, 3.0, 4.0, 5.0, 6.0, 7.0, 8.0, ...</td>\n",
       "      <td>[0.0, 1.0, 2.0, 3.0, 4.0, 5.0, 6.0, 7.0, 8.0, ...</td>\n",
       "      <td>[0.0, 1.0, 2.0, 3.0, 4.0, 5.0, 6.0, 7.0, 8.0, ...</td>\n",
       "      <td>[0.0, 1.0, 2.0, 3.0, 4.0, 5.0, 6.0, 7.0, 8.0, ...</td>\n",
       "      <td>[0.0, 1.0, 2.0, 3.0, 4.0, 5.0, 6.0, 7.0, 8.0, ...</td>\n",
       "      <td>[0.0, 1.0, 2.0, 3.0, 4.0, 5.0, 6.0, 7.0, 8.0, ...</td>\n",
       "      <td>[0.0, 1.0, 2.0, 3.0, 4.0, 5.0, 6.0, 7.0, 8.0, ...</td>\n",
       "      <td>[0.0, 1.0, 2.0, 3.0, 4.0, 5.0, 6.0, 7.0, 8.0, ...</td>\n",
       "    </tr>\n",
       "    <tr>\n",
       "      <th>3</th>\n",
       "      <td>[0.0, 1.0, 2.0, 3.0, 4.0, 5.0, 6.0, 7.0, 8.0, ...</td>\n",
       "      <td>[0.0, 1.0, 2.0, 3.0, 4.0, 5.0, 6.0, 7.0, 8.0, ...</td>\n",
       "      <td>[0.0, 1.0, 2.0, 3.0, 4.0, 5.0, 6.0, 7.0, 8.0, ...</td>\n",
       "      <td>[0.0, 1.0, 2.0, 3.0, 4.0, 5.0, 6.0, 7.0, 8.0, ...</td>\n",
       "      <td>[0.0, 1.0, 2.0, 3.0, 4.0, 5.0, 6.0, 7.0, 8.0, ...</td>\n",
       "      <td>[0.0, 1.0, 2.0, 3.0, 4.0, 5.0, 6.0, 7.0, 8.0, ...</td>\n",
       "      <td>[0.0, 1.0, 2.0, 3.0, 4.0, 5.0, 6.0, 7.0, 8.0, ...</td>\n",
       "      <td>[0.0, 1.0, 2.0, 3.0, 4.0, 5.0, 6.0, 7.0, 8.0, ...</td>\n",
       "      <td>[0.0, 1.0, 2.0, 3.0, 4.0, 5.0, 6.0, 7.0, 8.0, ...</td>\n",
       "      <td>[0.0, 1.0, 2.0, 3.0, 4.0, 5.0, 6.0, 7.0, 8.0, ...</td>\n",
       "    </tr>\n",
       "    <tr>\n",
       "      <th>4</th>\n",
       "      <td>[0.0, 1.0, 2.0, 3.0, 4.0, 5.0, 6.0, 7.0, 8.0, ...</td>\n",
       "      <td>[0.0, 1.0, 2.0, 3.0, 4.0, 5.0, 6.0, 7.0, 8.0, ...</td>\n",
       "      <td>[0.0, 1.0, 2.0, 3.0, 4.0, 5.0, 6.0, 7.0, 8.0, ...</td>\n",
       "      <td>[0.0, 1.0, 2.0, 3.0, 4.0, 5.0, 6.0, 7.0, 8.0, ...</td>\n",
       "      <td>[0.0, 1.0, 2.0, 3.0, 4.0, 5.0, 6.0, 7.0, 8.0, ...</td>\n",
       "      <td>[0.0, 1.0, 2.0, 3.0, 4.0, 5.0, 6.0, 7.0, 8.0, ...</td>\n",
       "      <td>[0.0, 1.0, 2.0, 3.0, 4.0, 5.0, 6.0, 7.0, 8.0, ...</td>\n",
       "      <td>[0.0, 1.0, 2.0, 3.0, 4.0, 5.0, 6.0, 7.0, 8.0, ...</td>\n",
       "      <td>[0.0, 1.0, 2.0, 3.0, 4.0, 5.0, 6.0, 7.0, 8.0, ...</td>\n",
       "      <td>[0.0, 1.0, 2.0, 3.0, 4.0, 5.0, 6.0, 7.0, 8.0, ...</td>\n",
       "    </tr>\n",
       "  </tbody>\n",
       "</table>\n",
       "</div>"
      ],
      "text/plain": [
       "                          BLA_LH_granger_frequencies  \\\n",
       "0  [0.0, 1.0, 2.0, 3.0, 4.0, 5.0, 6.0, 7.0, 8.0, ...   \n",
       "1  [0.0, 1.0, 2.0, 3.0, 4.0, 5.0, 6.0, 7.0, 8.0, ...   \n",
       "2  [0.0, 1.0, 2.0, 3.0, 4.0, 5.0, 6.0, 7.0, 8.0, ...   \n",
       "3  [0.0, 1.0, 2.0, 3.0, 4.0, 5.0, 6.0, 7.0, 8.0, ...   \n",
       "4  [0.0, 1.0, 2.0, 3.0, 4.0, 5.0, 6.0, 7.0, 8.0, ...   \n",
       "\n",
       "                          BLA_MD_granger_frequencies  \\\n",
       "0  [0.0, 1.0, 2.0, 3.0, 4.0, 5.0, 6.0, 7.0, 8.0, ...   \n",
       "1  [0.0, 1.0, 2.0, 3.0, 4.0, 5.0, 6.0, 7.0, 8.0, ...   \n",
       "2  [0.0, 1.0, 2.0, 3.0, 4.0, 5.0, 6.0, 7.0, 8.0, ...   \n",
       "3  [0.0, 1.0, 2.0, 3.0, 4.0, 5.0, 6.0, 7.0, 8.0, ...   \n",
       "4  [0.0, 1.0, 2.0, 3.0, 4.0, 5.0, 6.0, 7.0, 8.0, ...   \n",
       "\n",
       "                        BLA_mPFC_granger_frequencies  \\\n",
       "0  [0.0, 1.0, 2.0, 3.0, 4.0, 5.0, 6.0, 7.0, 8.0, ...   \n",
       "1  [0.0, 1.0, 2.0, 3.0, 4.0, 5.0, 6.0, 7.0, 8.0, ...   \n",
       "2  [0.0, 1.0, 2.0, 3.0, 4.0, 5.0, 6.0, 7.0, 8.0, ...   \n",
       "3  [0.0, 1.0, 2.0, 3.0, 4.0, 5.0, 6.0, 7.0, 8.0, ...   \n",
       "4  [0.0, 1.0, 2.0, 3.0, 4.0, 5.0, 6.0, 7.0, 8.0, ...   \n",
       "\n",
       "                        BLA_vHPC_granger_frequencies  \\\n",
       "0  [0.0, 1.0, 2.0, 3.0, 4.0, 5.0, 6.0, 7.0, 8.0, ...   \n",
       "1  [0.0, 1.0, 2.0, 3.0, 4.0, 5.0, 6.0, 7.0, 8.0, ...   \n",
       "2  [0.0, 1.0, 2.0, 3.0, 4.0, 5.0, 6.0, 7.0, 8.0, ...   \n",
       "3  [0.0, 1.0, 2.0, 3.0, 4.0, 5.0, 6.0, 7.0, 8.0, ...   \n",
       "4  [0.0, 1.0, 2.0, 3.0, 4.0, 5.0, 6.0, 7.0, 8.0, ...   \n",
       "\n",
       "                           LH_MD_granger_frequencies  \\\n",
       "0  [0.0, 1.0, 2.0, 3.0, 4.0, 5.0, 6.0, 7.0, 8.0, ...   \n",
       "1  [0.0, 1.0, 2.0, 3.0, 4.0, 5.0, 6.0, 7.0, 8.0, ...   \n",
       "2  [0.0, 1.0, 2.0, 3.0, 4.0, 5.0, 6.0, 7.0, 8.0, ...   \n",
       "3  [0.0, 1.0, 2.0, 3.0, 4.0, 5.0, 6.0, 7.0, 8.0, ...   \n",
       "4  [0.0, 1.0, 2.0, 3.0, 4.0, 5.0, 6.0, 7.0, 8.0, ...   \n",
       "\n",
       "                         LH_mPFC_granger_frequencies  \\\n",
       "0  [0.0, 1.0, 2.0, 3.0, 4.0, 5.0, 6.0, 7.0, 8.0, ...   \n",
       "1  [0.0, 1.0, 2.0, 3.0, 4.0, 5.0, 6.0, 7.0, 8.0, ...   \n",
       "2  [0.0, 1.0, 2.0, 3.0, 4.0, 5.0, 6.0, 7.0, 8.0, ...   \n",
       "3  [0.0, 1.0, 2.0, 3.0, 4.0, 5.0, 6.0, 7.0, 8.0, ...   \n",
       "4  [0.0, 1.0, 2.0, 3.0, 4.0, 5.0, 6.0, 7.0, 8.0, ...   \n",
       "\n",
       "                         LH_vHPC_granger_frequencies  \\\n",
       "0  [0.0, 1.0, 2.0, 3.0, 4.0, 5.0, 6.0, 7.0, 8.0, ...   \n",
       "1  [0.0, 1.0, 2.0, 3.0, 4.0, 5.0, 6.0, 7.0, 8.0, ...   \n",
       "2  [0.0, 1.0, 2.0, 3.0, 4.0, 5.0, 6.0, 7.0, 8.0, ...   \n",
       "3  [0.0, 1.0, 2.0, 3.0, 4.0, 5.0, 6.0, 7.0, 8.0, ...   \n",
       "4  [0.0, 1.0, 2.0, 3.0, 4.0, 5.0, 6.0, 7.0, 8.0, ...   \n",
       "\n",
       "                         MD_mPFC_granger_frequencies  \\\n",
       "0  [0.0, 1.0, 2.0, 3.0, 4.0, 5.0, 6.0, 7.0, 8.0, ...   \n",
       "1  [0.0, 1.0, 2.0, 3.0, 4.0, 5.0, 6.0, 7.0, 8.0, ...   \n",
       "2  [0.0, 1.0, 2.0, 3.0, 4.0, 5.0, 6.0, 7.0, 8.0, ...   \n",
       "3  [0.0, 1.0, 2.0, 3.0, 4.0, 5.0, 6.0, 7.0, 8.0, ...   \n",
       "4  [0.0, 1.0, 2.0, 3.0, 4.0, 5.0, 6.0, 7.0, 8.0, ...   \n",
       "\n",
       "                         MD_vHPC_granger_frequencies  \\\n",
       "0  [0.0, 1.0, 2.0, 3.0, 4.0, 5.0, 6.0, 7.0, 8.0, ...   \n",
       "1  [0.0, 1.0, 2.0, 3.0, 4.0, 5.0, 6.0, 7.0, 8.0, ...   \n",
       "2  [0.0, 1.0, 2.0, 3.0, 4.0, 5.0, 6.0, 7.0, 8.0, ...   \n",
       "3  [0.0, 1.0, 2.0, 3.0, 4.0, 5.0, 6.0, 7.0, 8.0, ...   \n",
       "4  [0.0, 1.0, 2.0, 3.0, 4.0, 5.0, 6.0, 7.0, 8.0, ...   \n",
       "\n",
       "                       mPFC_vHPC_granger_frequencies  \n",
       "0  [0.0, 1.0, 2.0, 3.0, 4.0, 5.0, 6.0, 7.0, 8.0, ...  \n",
       "1  [0.0, 1.0, 2.0, 3.0, 4.0, 5.0, 6.0, 7.0, 8.0, ...  \n",
       "2  [0.0, 1.0, 2.0, 3.0, 4.0, 5.0, 6.0, 7.0, 8.0, ...  \n",
       "3  [0.0, 1.0, 2.0, 3.0, 4.0, 5.0, 6.0, 7.0, 8.0, ...  \n",
       "4  [0.0, 1.0, 2.0, 3.0, 4.0, 5.0, 6.0, 7.0, 8.0, ...  "
      ]
     },
     "execution_count": 111,
     "metadata": {},
     "output_type": "execute_result"
    }
   ],
   "source": [
    "LFP_TRACES_DF[[col for col in LFP_TRACES_DF.columns if \"granger_frequencies\" in col]].head()"
   ]
  },
  {
   "cell_type": "code",
   "execution_count": 112,
   "metadata": {},
   "outputs": [],
   "source": [
    "LFP_TRACES_DF[\"granger_calculation_frequencies\"] = LFP_TRACES_DF[[col for col in LFP_TRACES_DF.columns if \"granger_frequencies\" in col][0]].copy()"
   ]
  },
  {
   "cell_type": "markdown",
   "metadata": {},
   "source": [
    "- Dropping unnecessary columns"
   ]
  },
  {
   "cell_type": "code",
   "execution_count": 113,
   "metadata": {
    "tags": []
   },
   "outputs": [],
   "source": [
    "LFP_TRACES_DF = LFP_TRACES_DF.drop(columns=[col for col in LFP_TRACES_DF.columns if \"granger_frequencies\" in col], errors=\"ignore\")"
   ]
  },
  {
   "cell_type": "code",
   "execution_count": 114,
   "metadata": {
    "tags": []
   },
   "outputs": [
    {
     "data": {
      "text/plain": [
       "Index(['cohort', 'session_dir', 'tone_frames', 'box_1_port_entry_frames',\n",
       "       'box_2_port_entry_frames', 'video_name', 'session_path', 'recording',\n",
       "       'current_subject', 'subject', 'all_subjects', 'first_timestamp',\n",
       "       'last_timestamp', 'video_timestamps', 'tone_timestamps',\n",
       "       'box_1_port_entry_timestamps', 'box_2_port_entry_timestamps',\n",
       "       'lfp_timestamps', 'mPFC_lfp_RMS_filtered', 'MD_lfp_RMS_filtered',\n",
       "       'LH_lfp_RMS_filtered', 'BLA_lfp_RMS_filtered', 'vHPC_lfp_RMS_filtered',\n",
       "       'mPFC_lfp_RMS_interpolated', 'MD_lfp_RMS_interpolated',\n",
       "       'LH_lfp_RMS_interpolated', 'BLA_lfp_RMS_interpolated',\n",
       "       'vHPC_lfp_RMS_interpolated', 'mPFC_theta_band', 'MD_theta_band',\n",
       "       'LH_theta_band', 'BLA_theta_band', 'vHPC_theta_band', 'mPFC_gamma_band',\n",
       "       'MD_gamma_band', 'LH_gamma_band', 'BLA_gamma_band', 'vHPC_gamma_band',\n",
       "       'mPFC_theta_phase', 'MD_theta_phase', 'LH_theta_phase',\n",
       "       'BLA_theta_phase', 'vHPC_theta_phase', 'mPFC_gamma_phase',\n",
       "       'MD_gamma_phase', 'LH_gamma_phase', 'BLA_gamma_phase',\n",
       "       'vHPC_gamma_phase',\n",
       "       'mPFC_RMS_filtered_power_all_frequencies_all_windows',\n",
       "       'MD_RMS_filtered_power_all_frequencies_all_windows',\n",
       "       'LH_RMS_filtered_power_all_frequencies_all_windows',\n",
       "       'BLA_RMS_filtered_power_all_frequencies_all_windows',\n",
       "       'vHPC_RMS_filtered_power_all_frequencies_all_windows',\n",
       "       'power_timestamps', 'power_calculation_frequencies',\n",
       "       'BLA_LH_RMS_filtered_coherence_all_frequencies_all_windows',\n",
       "       'BLA_MD_RMS_filtered_coherence_all_frequencies_all_windows',\n",
       "       'BLA_mPFC_RMS_filtered_coherence_all_frequencies_all_windows',\n",
       "       'BLA_vHPC_RMS_filtered_coherence_all_frequencies_all_windows',\n",
       "       'LH_MD_RMS_filtered_coherence_all_frequencies_all_windows',\n",
       "       'LH_mPFC_RMS_filtered_coherence_all_frequencies_all_windows',\n",
       "       'LH_vHPC_RMS_filtered_coherence_all_frequencies_all_windows',\n",
       "       'MD_mPFC_RMS_filtered_coherence_all_frequencies_all_windows',\n",
       "       'MD_vHPC_RMS_filtered_coherence_all_frequencies_all_windows',\n",
       "       'mPFC_vHPC_RMS_filtered_coherence_all_frequencies_all_windows',\n",
       "       'coherence_timestamps', 'coherence_calculation_frequencies',\n",
       "       'BLA_LH_granger_all_frequencies_all_windows',\n",
       "       'LH_BLA_granger_all_frequencies_all_windows',\n",
       "       'BLA_MD_granger_all_frequencies_all_windows',\n",
       "       'MD_BLA_granger_all_frequencies_all_windows',\n",
       "       'BLA_mPFC_granger_all_frequencies_all_windows',\n",
       "       'mPFC_BLA_granger_all_frequencies_all_windows',\n",
       "       'BLA_vHPC_granger_all_frequencies_all_windows',\n",
       "       'vHPC_BLA_granger_all_frequencies_all_windows',\n",
       "       'LH_MD_granger_all_frequencies_all_windows',\n",
       "       'MD_LH_granger_all_frequencies_all_windows',\n",
       "       'LH_mPFC_granger_all_frequencies_all_windows',\n",
       "       'mPFC_LH_granger_all_frequencies_all_windows',\n",
       "       'LH_vHPC_granger_all_frequencies_all_windows',\n",
       "       'vHPC_LH_granger_all_frequencies_all_windows',\n",
       "       'MD_mPFC_granger_all_frequencies_all_windows',\n",
       "       'mPFC_MD_granger_all_frequencies_all_windows',\n",
       "       'MD_vHPC_granger_all_frequencies_all_windows',\n",
       "       'vHPC_MD_granger_all_frequencies_all_windows',\n",
       "       'mPFC_vHPC_granger_all_frequencies_all_windows',\n",
       "       'vHPC_mPFC_granger_all_frequencies_all_windows', 'granger_timestamps',\n",
       "       'granger_calculation_frequencies'],\n",
       "      dtype='object')"
      ]
     },
     "execution_count": 114,
     "metadata": {},
     "output_type": "execute_result"
    }
   ],
   "source": [
    "LFP_TRACES_DF.columns"
   ]
  },
  {
   "cell_type": "code",
   "execution_count": 115,
   "metadata": {
    "tags": []
   },
   "outputs": [
    {
     "data": {
      "text/html": [
       "<div>\n",
       "<style scoped>\n",
       "    .dataframe tbody tr th:only-of-type {\n",
       "        vertical-align: middle;\n",
       "    }\n",
       "\n",
       "    .dataframe tbody tr th {\n",
       "        vertical-align: top;\n",
       "    }\n",
       "\n",
       "    .dataframe thead th {\n",
       "        text-align: right;\n",
       "    }\n",
       "</style>\n",
       "<table border=\"1\" class=\"dataframe\">\n",
       "  <thead>\n",
       "    <tr style=\"text-align: right;\">\n",
       "      <th></th>\n",
       "      <th>cohort</th>\n",
       "      <th>session_dir</th>\n",
       "      <th>tone_frames</th>\n",
       "      <th>box_1_port_entry_frames</th>\n",
       "      <th>box_2_port_entry_frames</th>\n",
       "      <th>video_name</th>\n",
       "      <th>session_path</th>\n",
       "      <th>recording</th>\n",
       "      <th>current_subject</th>\n",
       "      <th>subject</th>\n",
       "      <th>...</th>\n",
       "      <th>LH_vHPC_granger_all_frequencies_all_windows</th>\n",
       "      <th>vHPC_LH_granger_all_frequencies_all_windows</th>\n",
       "      <th>MD_mPFC_granger_all_frequencies_all_windows</th>\n",
       "      <th>mPFC_MD_granger_all_frequencies_all_windows</th>\n",
       "      <th>MD_vHPC_granger_all_frequencies_all_windows</th>\n",
       "      <th>vHPC_MD_granger_all_frequencies_all_windows</th>\n",
       "      <th>mPFC_vHPC_granger_all_frequencies_all_windows</th>\n",
       "      <th>vHPC_mPFC_granger_all_frequencies_all_windows</th>\n",
       "      <th>granger_timestamps</th>\n",
       "      <th>granger_calculation_frequencies</th>\n",
       "    </tr>\n",
       "  </thead>\n",
       "  <tbody>\n",
       "    <tr>\n",
       "      <th>0</th>\n",
       "      <td>2</td>\n",
       "      <td>20230612_101430_standard_comp_to_training_D1_s...</td>\n",
       "      <td>[[980, 1181], [3376, 3575], [5672, 5871], [746...</td>\n",
       "      <td>[[490, 514], [518, 558], [558, 637], [638, 640...</td>\n",
       "      <td>[[33137, 33147], [33665, 33666], [33668, 33669...</td>\n",
       "      <td>20230612_101430_standard_comp_to_training_D1_s...</td>\n",
       "      <td>/scratch/back_up/reward_competition_extention/...</td>\n",
       "      <td>20230612_101430_standard_comp_to_training_D1_s...</td>\n",
       "      <td>1.3</td>\n",
       "      <td>1.3</td>\n",
       "      <td>...</td>\n",
       "      <td>[[1.2923173, 0.62806845, 0.28610364, 0.6162430...</td>\n",
       "      <td>[[0.4101196, 0.23832376, 0.023698151, 0.147102...</td>\n",
       "      <td>[[1.7712247, 1.6961608, 1.5926156, 0.9402654, ...</td>\n",
       "      <td>[[1.632409, 0.92598146, 1.146866, 0.7823483, 0...</td>\n",
       "      <td>[[2.1441872, 0.4484717, 0.31936106, 0.59183514...</td>\n",
       "      <td>[[0.18993315, 0.17902073, 0.019536048, 0.09441...</td>\n",
       "      <td>[[0.38200194, 0.26012245, 0.1328726, 0.1788294...</td>\n",
       "      <td>[[0.00093113154, 0.21856883, 0.21809189, 0.603...</td>\n",
       "      <td>[10000, 20000, 30000, 40000, 50000, 60000, 700...</td>\n",
       "      <td>[0.0, 1.0, 2.0, 3.0, 4.0, 5.0, 6.0, 7.0, 8.0, ...</td>\n",
       "    </tr>\n",
       "    <tr>\n",
       "      <th>1</th>\n",
       "      <td>2</td>\n",
       "      <td>20230612_101430_standard_comp_to_training_D1_s...</td>\n",
       "      <td>[[980, 1180], [3376, 3575], [5672, 5871], [746...</td>\n",
       "      <td>[[490, 514], [518, 558], [558, 637], [638, 640...</td>\n",
       "      <td>[[33021, 33027], [33502, 33503], [33504, 33506...</td>\n",
       "      <td>20230612_101430_standard_comp_to_training_D1_s...</td>\n",
       "      <td>/scratch/back_up/reward_competition_extention/...</td>\n",
       "      <td>20230612_101430_standard_comp_to_training_D1_s...</td>\n",
       "      <td>1.3</td>\n",
       "      <td>1.3</td>\n",
       "      <td>...</td>\n",
       "      <td>[[1.2923173, 0.62806845, 0.28610364, 0.6162430...</td>\n",
       "      <td>[[0.4101196, 0.23832376, 0.023698151, 0.147102...</td>\n",
       "      <td>[[1.7712247, 1.6961608, 1.5926156, 0.9402654, ...</td>\n",
       "      <td>[[1.632409, 0.92598146, 1.146866, 0.7823483, 0...</td>\n",
       "      <td>[[2.1441872, 0.4484717, 0.31936106, 0.59183514...</td>\n",
       "      <td>[[0.18993315, 0.17902073, 0.019536048, 0.09441...</td>\n",
       "      <td>[[0.38200194, 0.26012245, 0.1328726, 0.1788294...</td>\n",
       "      <td>[[0.00093113154, 0.21856883, 0.21809189, 0.603...</td>\n",
       "      <td>[10000, 20000, 30000, 40000, 50000, 60000, 700...</td>\n",
       "      <td>[0.0, 1.0, 2.0, 3.0, 4.0, 5.0, 6.0, 7.0, 8.0, ...</td>\n",
       "    </tr>\n",
       "    <tr>\n",
       "      <th>2</th>\n",
       "      <td>2</td>\n",
       "      <td>20230612_101430_standard_comp_to_training_D1_s...</td>\n",
       "      <td>[[980, 1181], [3376, 3575], [5672, 5871], [746...</td>\n",
       "      <td>[[490, 514], [518, 558], [558, 637], [638, 640...</td>\n",
       "      <td>[[33137, 33147], [33665, 33666], [33668, 33669...</td>\n",
       "      <td>20230612_101430_standard_comp_to_training_D1_s...</td>\n",
       "      <td>/scratch/back_up/reward_competition_extention/...</td>\n",
       "      <td>20230612_101430_standard_comp_to_training_D1_s...</td>\n",
       "      <td>1.4</td>\n",
       "      <td>1.4</td>\n",
       "      <td>...</td>\n",
       "      <td>[[2.609014, 1.3195373, 0.6954608, 0.19390115, ...</td>\n",
       "      <td>[[1.4132965, 0.8919425, 0.16531233, 0.28616, 0...</td>\n",
       "      <td>[[0.07916975, 0.072599195, 0.121737845, 0.0310...</td>\n",
       "      <td>[[1.4273785, 0.29512075, 0.37303713, 0.1411382...</td>\n",
       "      <td>[[1.6550303, 1.5495375, 0.8795545, 0.21966118,...</td>\n",
       "      <td>[[0.5943993, 0.3949601, 0.17542279, 0.27749178...</td>\n",
       "      <td>[[1.060304, 2.445954, 0.57600904, 0.31814077, ...</td>\n",
       "      <td>[[nan, 0.77303505, 1.7006428, 0.66405064, 0.34...</td>\n",
       "      <td>[10000, 20000, 30000, 40000, 50000, 60000, 700...</td>\n",
       "      <td>[0.0, 1.0, 2.0, 3.0, 4.0, 5.0, 6.0, 7.0, 8.0, ...</td>\n",
       "    </tr>\n",
       "    <tr>\n",
       "      <th>3</th>\n",
       "      <td>2</td>\n",
       "      <td>20230612_101430_standard_comp_to_training_D1_s...</td>\n",
       "      <td>[[980, 1180], [3376, 3575], [5672, 5871], [746...</td>\n",
       "      <td>[[490, 514], [518, 558], [558, 637], [638, 640...</td>\n",
       "      <td>[[33021, 33027], [33502, 33503], [33504, 33506...</td>\n",
       "      <td>20230612_101430_standard_comp_to_training_D1_s...</td>\n",
       "      <td>/scratch/back_up/reward_competition_extention/...</td>\n",
       "      <td>20230612_101430_standard_comp_to_training_D1_s...</td>\n",
       "      <td>1.4</td>\n",
       "      <td>1.4</td>\n",
       "      <td>...</td>\n",
       "      <td>[[2.609014, 1.3195373, 0.6954608, 0.19390115, ...</td>\n",
       "      <td>[[1.4132965, 0.8919425, 0.16531233, 0.28616, 0...</td>\n",
       "      <td>[[0.07916975, 0.072599195, 0.121737845, 0.0310...</td>\n",
       "      <td>[[1.4273785, 0.29512075, 0.37303713, 0.1411382...</td>\n",
       "      <td>[[1.6550303, 1.5495375, 0.8795545, 0.21966118,...</td>\n",
       "      <td>[[0.5943993, 0.3949601, 0.17542279, 0.27749178...</td>\n",
       "      <td>[[1.060304, 2.445954, 0.57600904, 0.31814077, ...</td>\n",
       "      <td>[[nan, 0.77303505, 1.7006428, 0.66405064, 0.34...</td>\n",
       "      <td>[10000, 20000, 30000, 40000, 50000, 60000, 700...</td>\n",
       "      <td>[0.0, 1.0, 2.0, 3.0, 4.0, 5.0, 6.0, 7.0, 8.0, ...</td>\n",
       "    </tr>\n",
       "    <tr>\n",
       "      <th>4</th>\n",
       "      <td>2</td>\n",
       "      <td>20230612_112630_standard_comp_to_training_D1_s...</td>\n",
       "      <td>[[1125, 1324], [3519, 3720], [5815, 6014], [76...</td>\n",
       "      <td>[[192, 248], [389, 405], [916, 929], [929, 948...</td>\n",
       "      <td>[[33019, 33020], [33246, 33251], [33253, 33255...</td>\n",
       "      <td>20230612_112630_standard_comp_to_training_D1_s...</td>\n",
       "      <td>/scratch/back_up/reward_competition_extention/...</td>\n",
       "      <td>20230612_112630_standard_comp_to_training_D1_s...</td>\n",
       "      <td>1.1</td>\n",
       "      <td>1.1</td>\n",
       "      <td>...</td>\n",
       "      <td>[[0.31667715, 0.08774702, 0.6546428, 0.273867,...</td>\n",
       "      <td>[[0.32204467, 0.20060466, 0.21256253, 0.376777...</td>\n",
       "      <td>[[0.01093882, 0.046076544, 0.062447656, 0.0768...</td>\n",
       "      <td>[[0.1613578, 0.57236, 0.39387408, 0.3318701, 0...</td>\n",
       "      <td>[[0.8055019, 0.10764378, 1.0021722, 0.20292774...</td>\n",
       "      <td>[[0.18260579, 0.18479723, 0.174182, 0.11988613...</td>\n",
       "      <td>[[0.13898501, 0.23566584, 0.21229562, 0.110572...</td>\n",
       "      <td>[[0.28802803, 0.10978939, 0.072426915, 0.02802...</td>\n",
       "      <td>[10000, 20000, 30000, 40000, 50000, 60000, 700...</td>\n",
       "      <td>[0.0, 1.0, 2.0, 3.0, 4.0, 5.0, 6.0, 7.0, 8.0, ...</td>\n",
       "    </tr>\n",
       "  </tbody>\n",
       "</table>\n",
       "<p>5 rows × 89 columns</p>\n",
       "</div>"
      ],
      "text/plain": [
       "   cohort                                        session_dir  \\\n",
       "0       2  20230612_101430_standard_comp_to_training_D1_s...   \n",
       "1       2  20230612_101430_standard_comp_to_training_D1_s...   \n",
       "2       2  20230612_101430_standard_comp_to_training_D1_s...   \n",
       "3       2  20230612_101430_standard_comp_to_training_D1_s...   \n",
       "4       2  20230612_112630_standard_comp_to_training_D1_s...   \n",
       "\n",
       "                                         tone_frames  \\\n",
       "0  [[980, 1181], [3376, 3575], [5672, 5871], [746...   \n",
       "1  [[980, 1180], [3376, 3575], [5672, 5871], [746...   \n",
       "2  [[980, 1181], [3376, 3575], [5672, 5871], [746...   \n",
       "3  [[980, 1180], [3376, 3575], [5672, 5871], [746...   \n",
       "4  [[1125, 1324], [3519, 3720], [5815, 6014], [76...   \n",
       "\n",
       "                             box_1_port_entry_frames  \\\n",
       "0  [[490, 514], [518, 558], [558, 637], [638, 640...   \n",
       "1  [[490, 514], [518, 558], [558, 637], [638, 640...   \n",
       "2  [[490, 514], [518, 558], [558, 637], [638, 640...   \n",
       "3  [[490, 514], [518, 558], [558, 637], [638, 640...   \n",
       "4  [[192, 248], [389, 405], [916, 929], [929, 948...   \n",
       "\n",
       "                             box_2_port_entry_frames  \\\n",
       "0  [[33137, 33147], [33665, 33666], [33668, 33669...   \n",
       "1  [[33021, 33027], [33502, 33503], [33504, 33506...   \n",
       "2  [[33137, 33147], [33665, 33666], [33668, 33669...   \n",
       "3  [[33021, 33027], [33502, 33503], [33504, 33506...   \n",
       "4  [[33019, 33020], [33246, 33251], [33253, 33255...   \n",
       "\n",
       "                                          video_name  \\\n",
       "0  20230612_101430_standard_comp_to_training_D1_s...   \n",
       "1  20230612_101430_standard_comp_to_training_D1_s...   \n",
       "2  20230612_101430_standard_comp_to_training_D1_s...   \n",
       "3  20230612_101430_standard_comp_to_training_D1_s...   \n",
       "4  20230612_112630_standard_comp_to_training_D1_s...   \n",
       "\n",
       "                                        session_path  \\\n",
       "0  /scratch/back_up/reward_competition_extention/...   \n",
       "1  /scratch/back_up/reward_competition_extention/...   \n",
       "2  /scratch/back_up/reward_competition_extention/...   \n",
       "3  /scratch/back_up/reward_competition_extention/...   \n",
       "4  /scratch/back_up/reward_competition_extention/...   \n",
       "\n",
       "                                           recording current_subject subject  \\\n",
       "0  20230612_101430_standard_comp_to_training_D1_s...             1.3     1.3   \n",
       "1  20230612_101430_standard_comp_to_training_D1_s...             1.3     1.3   \n",
       "2  20230612_101430_standard_comp_to_training_D1_s...             1.4     1.4   \n",
       "3  20230612_101430_standard_comp_to_training_D1_s...             1.4     1.4   \n",
       "4  20230612_112630_standard_comp_to_training_D1_s...             1.1     1.1   \n",
       "\n",
       "   ...        LH_vHPC_granger_all_frequencies_all_windows  \\\n",
       "0  ...  [[1.2923173, 0.62806845, 0.28610364, 0.6162430...   \n",
       "1  ...  [[1.2923173, 0.62806845, 0.28610364, 0.6162430...   \n",
       "2  ...  [[2.609014, 1.3195373, 0.6954608, 0.19390115, ...   \n",
       "3  ...  [[2.609014, 1.3195373, 0.6954608, 0.19390115, ...   \n",
       "4  ...  [[0.31667715, 0.08774702, 0.6546428, 0.273867,...   \n",
       "\n",
       "         vHPC_LH_granger_all_frequencies_all_windows  \\\n",
       "0  [[0.4101196, 0.23832376, 0.023698151, 0.147102...   \n",
       "1  [[0.4101196, 0.23832376, 0.023698151, 0.147102...   \n",
       "2  [[1.4132965, 0.8919425, 0.16531233, 0.28616, 0...   \n",
       "3  [[1.4132965, 0.8919425, 0.16531233, 0.28616, 0...   \n",
       "4  [[0.32204467, 0.20060466, 0.21256253, 0.376777...   \n",
       "\n",
       "         MD_mPFC_granger_all_frequencies_all_windows  \\\n",
       "0  [[1.7712247, 1.6961608, 1.5926156, 0.9402654, ...   \n",
       "1  [[1.7712247, 1.6961608, 1.5926156, 0.9402654, ...   \n",
       "2  [[0.07916975, 0.072599195, 0.121737845, 0.0310...   \n",
       "3  [[0.07916975, 0.072599195, 0.121737845, 0.0310...   \n",
       "4  [[0.01093882, 0.046076544, 0.062447656, 0.0768...   \n",
       "\n",
       "         mPFC_MD_granger_all_frequencies_all_windows  \\\n",
       "0  [[1.632409, 0.92598146, 1.146866, 0.7823483, 0...   \n",
       "1  [[1.632409, 0.92598146, 1.146866, 0.7823483, 0...   \n",
       "2  [[1.4273785, 0.29512075, 0.37303713, 0.1411382...   \n",
       "3  [[1.4273785, 0.29512075, 0.37303713, 0.1411382...   \n",
       "4  [[0.1613578, 0.57236, 0.39387408, 0.3318701, 0...   \n",
       "\n",
       "         MD_vHPC_granger_all_frequencies_all_windows  \\\n",
       "0  [[2.1441872, 0.4484717, 0.31936106, 0.59183514...   \n",
       "1  [[2.1441872, 0.4484717, 0.31936106, 0.59183514...   \n",
       "2  [[1.6550303, 1.5495375, 0.8795545, 0.21966118,...   \n",
       "3  [[1.6550303, 1.5495375, 0.8795545, 0.21966118,...   \n",
       "4  [[0.8055019, 0.10764378, 1.0021722, 0.20292774...   \n",
       "\n",
       "         vHPC_MD_granger_all_frequencies_all_windows  \\\n",
       "0  [[0.18993315, 0.17902073, 0.019536048, 0.09441...   \n",
       "1  [[0.18993315, 0.17902073, 0.019536048, 0.09441...   \n",
       "2  [[0.5943993, 0.3949601, 0.17542279, 0.27749178...   \n",
       "3  [[0.5943993, 0.3949601, 0.17542279, 0.27749178...   \n",
       "4  [[0.18260579, 0.18479723, 0.174182, 0.11988613...   \n",
       "\n",
       "       mPFC_vHPC_granger_all_frequencies_all_windows  \\\n",
       "0  [[0.38200194, 0.26012245, 0.1328726, 0.1788294...   \n",
       "1  [[0.38200194, 0.26012245, 0.1328726, 0.1788294...   \n",
       "2  [[1.060304, 2.445954, 0.57600904, 0.31814077, ...   \n",
       "3  [[1.060304, 2.445954, 0.57600904, 0.31814077, ...   \n",
       "4  [[0.13898501, 0.23566584, 0.21229562, 0.110572...   \n",
       "\n",
       "       vHPC_mPFC_granger_all_frequencies_all_windows  \\\n",
       "0  [[0.00093113154, 0.21856883, 0.21809189, 0.603...   \n",
       "1  [[0.00093113154, 0.21856883, 0.21809189, 0.603...   \n",
       "2  [[nan, 0.77303505, 1.7006428, 0.66405064, 0.34...   \n",
       "3  [[nan, 0.77303505, 1.7006428, 0.66405064, 0.34...   \n",
       "4  [[0.28802803, 0.10978939, 0.072426915, 0.02802...   \n",
       "\n",
       "                                  granger_timestamps  \\\n",
       "0  [10000, 20000, 30000, 40000, 50000, 60000, 700...   \n",
       "1  [10000, 20000, 30000, 40000, 50000, 60000, 700...   \n",
       "2  [10000, 20000, 30000, 40000, 50000, 60000, 700...   \n",
       "3  [10000, 20000, 30000, 40000, 50000, 60000, 700...   \n",
       "4  [10000, 20000, 30000, 40000, 50000, 60000, 700...   \n",
       "\n",
       "                     granger_calculation_frequencies  \n",
       "0  [0.0, 1.0, 2.0, 3.0, 4.0, 5.0, 6.0, 7.0, 8.0, ...  \n",
       "1  [0.0, 1.0, 2.0, 3.0, 4.0, 5.0, 6.0, 7.0, 8.0, ...  \n",
       "2  [0.0, 1.0, 2.0, 3.0, 4.0, 5.0, 6.0, 7.0, 8.0, ...  \n",
       "3  [0.0, 1.0, 2.0, 3.0, 4.0, 5.0, 6.0, 7.0, 8.0, ...  \n",
       "4  [0.0, 1.0, 2.0, 3.0, 4.0, 5.0, 6.0, 7.0, 8.0, ...  \n",
       "\n",
       "[5 rows x 89 columns]"
      ]
     },
     "execution_count": 115,
     "metadata": {},
     "output_type": "execute_result"
    }
   ],
   "source": [
    "LFP_TRACES_DF.head()"
   ]
  },
  {
   "cell_type": "raw",
   "metadata": {
    "tags": []
   },
   "source": [
    "LFP_TRACES_DF.to_pickle(\"./proc/rce2_spectral_granger.pkl\")"
   ]
  },
  {
   "cell_type": "markdown",
   "metadata": {},
   "source": [
    "# Saving the spectral analysis"
   ]
  },
  {
   "cell_type": "code",
   "execution_count": 116,
   "metadata": {
    "tags": []
   },
   "outputs": [],
   "source": [
    "# LFP_TRACES_DF.to_pickle(\"./proc/rce2_spectral_granger.pkl\")\n",
    "LFP_TRACES_DF.to_pickle(\"./proc/rce_pilot_2_02_full_spectral.pkl\")\n",
    "# LFP_TRACES_DF.to_pickle(\"/blue/npadillacoreano/ryoi360/projects/reward_comp/final_proc/rce_pilot_2_02_spectral_granger.pkl\")"
   ]
  },
  {
   "cell_type": "code",
   "execution_count": 117,
   "metadata": {},
   "outputs": [
    {
     "name": "stdout",
     "output_type": "stream",
     "text": [
      "all done!\n"
     ]
    }
   ],
   "source": [
    "print(\"all done!\")"
   ]
  },
  {
   "cell_type": "code",
   "execution_count": null,
   "metadata": {},
   "outputs": [],
   "source": []
  }
 ],
 "metadata": {
  "deepnote": {},
  "deepnote_execution_queue": [],
  "deepnote_notebook_id": "cf8fe3695d074ee7887fdf6459cbf5ce",
  "kernelspec": {
   "display_name": "spike_interface_0_100_5",
   "language": "python",
   "name": "spike_interface_0_100_5"
  },
  "language_info": {
   "codemirror_mode": {
    "name": "ipython",
    "version": 3
   },
   "file_extension": ".py",
   "mimetype": "text/x-python",
   "name": "python",
   "nbconvert_exporter": "python",
   "pygments_lexer": "ipython3",
   "version": "3.10.14"
  }
 },
 "nbformat": 4,
 "nbformat_minor": 4
}
