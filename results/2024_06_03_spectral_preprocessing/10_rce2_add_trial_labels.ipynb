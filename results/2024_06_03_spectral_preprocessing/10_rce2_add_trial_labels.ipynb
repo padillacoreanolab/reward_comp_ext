{
 "cells": [
  {
   "cell_type": "markdown",
   "metadata": {
    "cell_id": "c3a02adc9e884466bc8c79db549cc3d2",
    "deepnote_cell_type": "text-cell-h1",
    "formattedRanges": [
     {
      "fromCodePoint": 0,
      "marks": {
       "bold": true,
       "underline": true
      },
      "toCodePoint": 17,
      "type": "marks"
     }
    ]
   },
   "source": [
    "# All oscillation analysis"
   ]
  },
  {
   "cell_type": "markdown",
   "metadata": {
    "cell_id": "4546bee655b14a5dbf393161f1228e60",
    "deepnote_cell_type": "text-cell-p",
    "formattedRanges": []
   },
   "source": [
    "Brief 1-2 sentence description of notebook."
   ]
  },
  {
   "cell_type": "code",
   "execution_count": null,
   "metadata": {},
   "outputs": [],
   "source": []
  },
  {
   "cell_type": "code",
   "execution_count": 1,
   "metadata": {
    "tags": []
   },
   "outputs": [],
   "source": [
    "# Imports of all used packages and libraries\n",
    "import sys\n",
    "import os\n",
    "import git\n",
    "import glob\n",
    "from collections import defaultdict"
   ]
  },
  {
   "cell_type": "code",
   "execution_count": 2,
   "metadata": {
    "tags": []
   },
   "outputs": [],
   "source": [
    "git_repo = git.Repo(\".\", search_parent_directories=True)\n",
    "git_root = git_repo.git.rev_parse(\"--show-toplevel\")"
   ]
  },
  {
   "cell_type": "code",
   "execution_count": 3,
   "metadata": {
    "tags": []
   },
   "outputs": [
    {
     "data": {
      "text/plain": [
       "'/blue/npadillacoreano/ryoi360/projects/reward_comp/repos/reward_comp_ext'"
      ]
     },
     "execution_count": 3,
     "metadata": {},
     "output_type": "execute_result"
    }
   ],
   "source": [
    "git_root"
   ]
  },
  {
   "cell_type": "code",
   "execution_count": 4,
   "metadata": {
    "tags": []
   },
   "outputs": [],
   "source": [
    "sys.path.insert(0, os.path.join(git_root, 'src'))"
   ]
  },
  {
   "cell_type": "code",
   "execution_count": 5,
   "metadata": {
    "tags": []
   },
   "outputs": [],
   "source": [
    "import warnings\n",
    "warnings.filterwarnings('ignore')"
   ]
  },
  {
   "cell_type": "code",
   "execution_count": 6,
   "metadata": {
    "tags": []
   },
   "outputs": [],
   "source": [
    "import os\n",
    "import collections\n",
    "import itertools\n",
    "from collections import defaultdict\n",
    "from itertools import combinations"
   ]
  },
  {
   "cell_type": "raw",
   "metadata": {},
   "source": [
    "os.environ[\"SPECTRAL_CONNECTIVITY_ENABLE_GPU\"] = \"true\"\n",
    "import cupy as cp"
   ]
  },
  {
   "cell_type": "code",
   "execution_count": 7,
   "metadata": {
    "cell_id": "03b495cefa6a4798a44c7f2e4c6a3ea7",
    "deepnote_cell_type": "code",
    "deepnote_to_be_reexecuted": false,
    "execution_millis": 21,
    "execution_start": 1691424003626,
    "source_hash": null,
    "tags": []
   },
   "outputs": [],
   "source": [
    "# Imports of all used packages and libraries\n",
    "import numpy as np\n",
    "import pandas as pd\n",
    "from scipy import stats\n",
    "from scipy.stats import mannwhitneyu\n"
   ]
  },
  {
   "cell_type": "code",
   "execution_count": 8,
   "metadata": {
    "tags": []
   },
   "outputs": [],
   "source": [
    "import matplotlib\n",
    "import matplotlib.colors as mcolors\n",
    "import matplotlib.pyplot as plt\n",
    "import matplotlib.cm as cm\n",
    "import seaborn as sns\n",
    "import colorsys"
   ]
  },
  {
   "cell_type": "code",
   "execution_count": 9,
   "metadata": {
    "tags": []
   },
   "outputs": [],
   "source": [
    "from sklearn.metrics import confusion_matrix"
   ]
  },
  {
   "cell_type": "code",
   "execution_count": 10,
   "metadata": {
    "tags": []
   },
   "outputs": [],
   "source": [
    "from spectral_connectivity import Multitaper, Connectivity\n",
    "import spectral_connectivity"
   ]
  },
  {
   "cell_type": "code",
   "execution_count": 11,
   "metadata": {
    "tags": []
   },
   "outputs": [],
   "source": [
    "import utilities.helper\n",
    "import trodes.read_exported"
   ]
  },
  {
   "cell_type": "code",
   "execution_count": 12,
   "metadata": {
    "tags": []
   },
   "outputs": [],
   "source": [
    "FONTSIZE = 20"
   ]
  },
  {
   "cell_type": "code",
   "execution_count": 13,
   "metadata": {
    "tags": []
   },
   "outputs": [],
   "source": [
    "font = {'weight' : 'medium',\n",
    "        'size'   : 20}\n",
    "\n",
    "matplotlib.rc('font', **font)"
   ]
  },
  {
   "cell_type": "markdown",
   "metadata": {
    "cell_id": "d290bac2c17940bfbc0f9296beaf70e5",
    "deepnote_cell_type": "text-cell-h2",
    "formattedRanges": []
   },
   "source": [
    "## Inputs & Data"
   ]
  },
  {
   "cell_type": "markdown",
   "metadata": {
    "cell_id": "e528ce19c608425292151930d380f49f",
    "deepnote_cell_type": "text-cell-p",
    "formattedRanges": []
   },
   "source": [
    "Explanation of each input and where it comes from."
   ]
  },
  {
   "cell_type": "code",
   "execution_count": 14,
   "metadata": {
    "cell_id": "6cf83a5811054461a718a71673d09aab",
    "deepnote_cell_type": "code",
    "deepnote_to_be_reexecuted": false,
    "execution_millis": 373,
    "execution_start": 1691424003628,
    "source_hash": null,
    "tags": []
   },
   "outputs": [],
   "source": [
    "# Inputs and Required data loading\n",
    "# input varaible names are in all caps snake case\n",
    "# Whenever an input changes or is used for processing \n",
    "# the vairables are all lower in snake case\n",
    "OUTPUT_DIR = r\"./proc/\" # where data is saved should always be shown in the inputs\n",
    "os.makedirs(OUTPUT_DIR, exist_ok=True)\n",
    "OUTPUT_PREFIX = \"rce_pilot_2\""
   ]
  },
  {
   "cell_type": "code",
   "execution_count": 15,
   "metadata": {
    "tags": []
   },
   "outputs": [],
   "source": [
    "TRIAL_LABELS_DF = pd.read_excel(\"./proc/rce2_finalized_trial_labels.xlsx\")"
   ]
  },
  {
   "cell_type": "raw",
   "metadata": {
    "tags": []
   },
   "source": [
    "LFP_SPECTRAL_DF = pd.read_pickle(\"./proc/rce_pilot_2_03_spectral_bands.pkl\")"
   ]
  },
  {
   "cell_type": "code",
   "execution_count": 16,
   "metadata": {},
   "outputs": [],
   "source": [
    "LFP_SPECTRAL_DF = pd.read_pickle(\"./proc/rce_pilot_2_04_spectral_and_sleap.pkl\")"
   ]
  },
  {
   "cell_type": "code",
   "execution_count": 17,
   "metadata": {
    "tags": []
   },
   "outputs": [],
   "source": [
    "# CHANNEL_MAP_AND_ALL_TRIALS_DF = pd.read_pickle(\"./proc/full_baseline_and_trial_lfp_traces.pkl\")\n",
    "# MERGED_TRIALS_AND_VIDEO = pd.read_pickle(\"./proc/trial_SLEAP_and_metadata.pkl\")"
   ]
  },
  {
   "cell_type": "raw",
   "metadata": {
    "tags": []
   },
   "source": [
    "OUTCOME_TO_COLOR = {'lose': \"red\",\n",
    " 'omission': \"orange\",\n",
    " 'rewarded': \"green\",\n",
    " 'win': \"blue\"}\n",
    "\n",
    "OUTCOME_TO_COLOR = {'lose': \"#951a1d\",\n",
    " 'omission': \"#af780d\",\n",
    " 'rewarded': \"#0499af\",\n",
    " 'win': \"#3853a3\",\n",
    "'lose_comp': \"#951a1d\",\n",
    " 'win_comp': \"#3853a3\",\n",
    "'lose_non_comp': \"#e67073\",\n",
    " 'win_non_comp': \"#93a5da\"}"
   ]
  },
  {
   "cell_type": "code",
   "execution_count": 18,
   "metadata": {
    "tags": []
   },
   "outputs": [],
   "source": [
    "TRIAL_OR_BASELINE_TO_STYLE = {'baseline': \"--\", \"trial\": \"-\"}"
   ]
  },
  {
   "cell_type": "code",
   "execution_count": 19,
   "metadata": {
    "tags": []
   },
   "outputs": [],
   "source": [
    "BIN_TO_VELOCITY = {0: \"0 to 2.5cm/s\", 1: \"2.5 to 5cm/s\", 2: \"5 to 10 cm/s\", 3: \"10cm/s+\"}"
   ]
  },
  {
   "cell_type": "code",
   "execution_count": 20,
   "metadata": {
    "tags": []
   },
   "outputs": [],
   "source": [
    "ALL_BANDS = [\"theta\", \"beta\", \"gamma\"]\n",
    "BAND_TO_FREQ = {\"theta\": {\"low_freq\": 6, \"high_freq\": 11}, \"beta\": {\"low_freq\": 20, \"high_freq\": 31}, \"gamma\": {\"low_freq\": 30, \"high_freq\": 51}}\n",
    "BAND_TO_FREQ = {\"theta\": (6,11), \"beta\": (20,31), \"gamma\": (30,51)}"
   ]
  },
  {
   "cell_type": "code",
   "execution_count": 21,
   "metadata": {
    "tags": []
   },
   "outputs": [],
   "source": [
    "GROUPINGS = \"trial_outcome\"\n",
    "# GROUPINGS = \"competition_closeness\""
   ]
  },
  {
   "cell_type": "code",
   "execution_count": 22,
   "metadata": {
    "tags": []
   },
   "outputs": [],
   "source": [
    "FONTSIZE=20"
   ]
  },
  {
   "cell_type": "code",
   "execution_count": 23,
   "metadata": {
    "tags": []
   },
   "outputs": [],
   "source": [
    "FULL_LFP_TRACES_PKL = \"{}_10_per_trial_spectral_bans_sleap.pkl\".format(OUTPUT_PREFIX)"
   ]
  },
  {
   "cell_type": "markdown",
   "metadata": {
    "cell_id": "e3ee4891d43a4ac287413afc552ca289",
    "deepnote_cell_type": "text-cell-h2",
    "formattedRanges": []
   },
   "source": [
    "## Outputs"
   ]
  },
  {
   "cell_type": "markdown",
   "metadata": {
    "cell_id": "9ccbf6cc70fd4d379fa29317f733771f",
    "deepnote_cell_type": "text-cell-p",
    "formattedRanges": []
   },
   "source": [
    "Describe each output that the notebook creates. "
   ]
  },
  {
   "cell_type": "markdown",
   "metadata": {
    "cell_id": "fc8e8920a6944918a15fac575cdf6e78",
    "deepnote_cell_type": "text-cell-bullet",
    "formattedRanges": []
   },
   "source": [
    "- Is it a plot or is it data?"
   ]
  },
  {
   "cell_type": "markdown",
   "metadata": {
    "cell_id": "1e639d4776a84aa9ac8ded2e14fa57db",
    "deepnote_cell_type": "text-cell-bullet",
    "formattedRanges": []
   },
   "source": [
    "- How valuable is the output and why is it valuable or useful?"
   ]
  },
  {
   "cell_type": "markdown",
   "metadata": {},
   "source": [
    "## Functions "
   ]
  },
  {
   "cell_type": "code",
   "execution_count": 24,
   "metadata": {
    "tags": []
   },
   "outputs": [],
   "source": [
    "def generate_pairs(lst):\n",
    "    pairs = []\n",
    "    n = len(lst)\n",
    "    for i in range(n):\n",
    "        for j in range(i+1, n):\n",
    "            pairs.append((lst[i], lst[j]))\n",
    "    return pairs"
   ]
  },
  {
   "cell_type": "code",
   "execution_count": 25,
   "metadata": {
    "tags": []
   },
   "outputs": [],
   "source": [
    "def nested_dict():\n",
    "    return defaultdict(dict)"
   ]
  },
  {
   "cell_type": "code",
   "execution_count": 26,
   "metadata": {
    "tags": []
   },
   "outputs": [],
   "source": [
    "def mean_of_counter(counter):\n",
    "    # Extract values from the Counter and calculate the mean\n",
    "    values = list(counter.values())\n",
    "    return sum(values) / len(values) if values else 0  # Prevent division by zero"
   ]
  },
  {
   "cell_type": "code",
   "execution_count": 27,
   "metadata": {
    "tags": []
   },
   "outputs": [],
   "source": [
    "def adjust_lightness(color, amount=0.5):\n",
    "    \"\"\"\n",
    "    Adjusts the lightness of the given color by the provided amount.\n",
    "    :param color: Input color in some format that matplotlib's `to_rgb` can handle.\n",
    "    :param amount: Amount to adjust. > 1 for lighter, < 1 for darker.\n",
    "    :return: Adjusted color.\n",
    "    \"\"\"\n",
    "    import colorsys\n",
    "    c = mcolors.to_rgb(color)\n",
    "    h, l, s = colorsys.rgb_to_hls(*c)\n",
    "    return colorsys.hls_to_rgb(h, max(0, min(1, amount * l)), s)"
   ]
  },
  {
   "cell_type": "code",
   "execution_count": 28,
   "metadata": {
    "tags": []
   },
   "outputs": [],
   "source": [
    "def generate_gradient_colors(base_color, num_colors=10):\n",
    "    \"\"\"\n",
    "    Generate gradient colors based on a base color.\n",
    "    \n",
    "    :param base_color: The base color to create a gradient from.\n",
    "    :param num_colors: The number of gradient colors to generate.\n",
    "    :return: List of colors.\n",
    "    \"\"\"\n",
    "    # Convert base color to HLS (Hue, Lightness, Saturation)\n",
    "    h, l, s = colorsys.rgb_to_hls(*mcolors.to_rgb(base_color))\n",
    "\n",
    "    # Determine the step size for lightness\n",
    "    middle_index = num_colors // 2\n",
    "    lightness_step = l / (middle_index if middle_index > 0 else 1)\n",
    "\n",
    "    colors = []\n",
    "    for i in range(num_colors):\n",
    "        if i < middle_index:\n",
    "            # For the lighter colors (before the middle)\n",
    "            new_lightness = l + (middle_index - i) * lightness_step\n",
    "        elif i == middle_index:\n",
    "            # The middle color remains the base color\n",
    "            new_lightness = l\n",
    "        else:\n",
    "            # For the darker colors (after the middle)\n",
    "            new_lightness = l - (i - middle_index) * lightness_step\n",
    "\n",
    "        # Ensure new lightness is within the valid range [0, 1]\n",
    "        new_lightness = max(0, min(new_lightness, 1))\n",
    "\n",
    "        new_color = colorsys.hls_to_rgb(h, new_lightness, s)\n",
    "        colors.append(new_color)\n",
    "\n",
    "    return colors"
   ]
  },
  {
   "cell_type": "code",
   "execution_count": null,
   "metadata": {},
   "outputs": [],
   "source": []
  },
  {
   "cell_type": "code",
   "execution_count": 29,
   "metadata": {
    "tags": []
   },
   "outputs": [],
   "source": [
    "def get_significance_stars_from_p_value(p_value, number_of_comparisons=3):\n",
    "    \"\"\"\n",
    "    \"\"\"\n",
    "    if p_value <= 0.001 / number_of_comparisons:\n",
    "        return \"***\"\n",
    "    elif p_value <= 0.01 / number_of_comparisons:\n",
    "        return \"***\"\n",
    "    elif p_value <= 0.05 / number_of_comparisons:\n",
    "        return \"*\"\n",
    "    else:\n",
    "        return \"\""
   ]
  },
  {
   "cell_type": "code",
   "execution_count": 30,
   "metadata": {
    "tags": []
   },
   "outputs": [],
   "source": [
    "def filter_spike_times(arr_2d, start, stop, padding=-1):\n",
    "    \"\"\"\n",
    "    Filters a 2D array based on a start and stop condition and pads shorter arrays to match the length of the longest array.\n",
    "\n",
    "    Parameters:\n",
    "    arr_2d (numpy.ndarray): 2D array to be filtered and padded.\n",
    "    start (int or float): Lower bound of the condition.\n",
    "    stop (int or float): Upper bound of the condition.\n",
    "    padding (int or float): Value to use for padding, defaults to -1.\n",
    "\n",
    "    Returns:\n",
    "    numpy.ndarray: A 2D array where each inner array has been filtered based on the condition and padded to match the length of the longest array.\n",
    "    \"\"\"\n",
    "\n",
    "    # Filter each row in arr_2d based on the condition\n",
    "    masked_data = [row[(row >= start) & (row < stop)] for row in arr_2d]\n",
    "\n",
    "    # Determine the maximum length of arrays in the list\n",
    "    max_length = max(len(arr) for arr in masked_data)\n",
    "\n",
    "    # Pad each array in masked_data with the padding value so they all have the same length (max_length)\n",
    "    padded_arrays = [np.concatenate([x, np.full([max_length - len(x)], padding)]) for x in masked_data]\n",
    "\n",
    "    # Convert the list of arrays to a 2D numpy array\n",
    "    padded_arrays = np.array(padded_arrays)\n",
    "\n",
    "    return padded_arrays"
   ]
  },
  {
   "cell_type": "markdown",
   "metadata": {
    "cell_id": "8999d19b6b7d4d63bc90f0b0bd9ab085",
    "deepnote_cell_type": "text-cell-h2",
    "formattedRanges": []
   },
   "source": [
    "## Processing"
   ]
  },
  {
   "cell_type": "markdown",
   "metadata": {
    "cell_id": "9b36cdf08567463082b005cb0dec684b",
    "deepnote_cell_type": "text-cell-p",
    "formattedRanges": []
   },
   "source": [
    "Describe what is done to the data here and how inputs are manipulated to generate outputs. "
   ]
  },
  {
   "cell_type": "code",
   "execution_count": 31,
   "metadata": {
    "cell_id": "89aaba237c644628b1b37604b75e7cb1",
    "deepnote_cell_type": "code",
    "tags": []
   },
   "outputs": [],
   "source": [
    "# As much code and as many cells as required\n",
    "# includes EDA and playing with data\n",
    "# GO HAM!\n",
    "\n",
    "# Ideally functions are defined here first and then data is processed using the functions\n",
    "\n",
    "# function names are short and in snake case all lowercase\n",
    "# a function name should be unique but does not have to describe the function\n",
    "# doc strings describe functions not function names\n",
    "\n",
    "\n"
   ]
  },
  {
   "cell_type": "code",
   "execution_count": 32,
   "metadata": {
    "tags": []
   },
   "outputs": [
    {
     "data": {
      "text/plain": [
       "Index(['cohort', 'session_dir', 'tone_frames', 'box_1_port_entry_frames',\n",
       "       'box_2_port_entry_frames', 'video_name', 'session_path', 'recording',\n",
       "       'current_subject', 'subject', 'all_subjects', 'first_timestamp',\n",
       "       'last_timestamp', 'video_timestamps', 'tone_timestamps',\n",
       "       'box_1_port_entry_timestamps', 'box_2_port_entry_timestamps',\n",
       "       'lfp_timestamps', 'mPFC_RMS_filtered_power_all_frequencies_all_windows',\n",
       "       'MD_RMS_filtered_power_all_frequencies_all_windows',\n",
       "       'LH_RMS_filtered_power_all_frequencies_all_windows',\n",
       "       'BLA_RMS_filtered_power_all_frequencies_all_windows',\n",
       "       'vHPC_RMS_filtered_power_all_frequencies_all_windows',\n",
       "       'power_timestamps', 'power_calculation_frequencies',\n",
       "       'BLA_LH_RMS_filtered_coherence_all_frequencies_all_windows',\n",
       "       'BLA_MD_RMS_filtered_coherence_all_frequencies_all_windows',\n",
       "       'BLA_mPFC_RMS_filtered_coherence_all_frequencies_all_windows',\n",
       "       'BLA_vHPC_RMS_filtered_coherence_all_frequencies_all_windows',\n",
       "       'LH_MD_RMS_filtered_coherence_all_frequencies_all_windows',\n",
       "       'LH_mPFC_RMS_filtered_coherence_all_frequencies_all_windows',\n",
       "       'LH_vHPC_RMS_filtered_coherence_all_frequencies_all_windows',\n",
       "       'MD_mPFC_RMS_filtered_coherence_all_frequencies_all_windows',\n",
       "       'MD_vHPC_RMS_filtered_coherence_all_frequencies_all_windows',\n",
       "       'mPFC_vHPC_RMS_filtered_coherence_all_frequencies_all_windows',\n",
       "       'coherence_timestamps', 'coherence_calculation_frequencies',\n",
       "       'BLA_LH_granger_all_frequencies_all_windows',\n",
       "       'LH_BLA_granger_all_frequencies_all_windows',\n",
       "       'BLA_MD_granger_all_frequencies_all_windows',\n",
       "       'MD_BLA_granger_all_frequencies_all_windows',\n",
       "       'BLA_mPFC_granger_all_frequencies_all_windows',\n",
       "       'mPFC_BLA_granger_all_frequencies_all_windows',\n",
       "       'BLA_vHPC_granger_all_frequencies_all_windows',\n",
       "       'vHPC_BLA_granger_all_frequencies_all_windows',\n",
       "       'LH_MD_granger_all_frequencies_all_windows',\n",
       "       'MD_LH_granger_all_frequencies_all_windows',\n",
       "       'LH_mPFC_granger_all_frequencies_all_windows',\n",
       "       'mPFC_LH_granger_all_frequencies_all_windows',\n",
       "       'LH_vHPC_granger_all_frequencies_all_windows',\n",
       "       'vHPC_LH_granger_all_frequencies_all_windows',\n",
       "       'MD_mPFC_granger_all_frequencies_all_windows',\n",
       "       'mPFC_MD_granger_all_frequencies_all_windows',\n",
       "       'MD_vHPC_granger_all_frequencies_all_windows',\n",
       "       'vHPC_MD_granger_all_frequencies_all_windows',\n",
       "       'mPFC_vHPC_granger_all_frequencies_all_windows',\n",
       "       'vHPC_mPFC_granger_all_frequencies_all_windows', 'granger_timestamps',\n",
       "       'granger_calculation_frequencies', 'start_frame', 'stop_frame',\n",
       "       'tracked_subject', 'in_video_subjects', 'box_number', 'sleap_name',\n",
       "       'body_parts', 'box_top_left', 'box_top_right', 'reward_port',\n",
       "       'box_bottom_left', 'box_bottom_right', 'agent', 'subject_locations',\n",
       "       'agent_locations', 'subject_thorax_velocity', 'agent_thorax_velocity',\n",
       "       'subject_thorax_to_reward_port', 'agent_thorax_to_reward_port'],\n",
       "      dtype='object')"
      ]
     },
     "execution_count": 32,
     "metadata": {},
     "output_type": "execute_result"
    }
   ],
   "source": [
    "LFP_SPECTRAL_DF.columns"
   ]
  },
  {
   "cell_type": "code",
   "execution_count": 33,
   "metadata": {
    "scrolled": true,
    "tags": []
   },
   "outputs": [
    {
     "data": {
      "text/plain": [
       "Index(['tracked_subject', 'box_number', 'sleap_name', 'video_name',\n",
       "       'current_subject', 'tone_start_frame', 'reward_start_frame',\n",
       "       'tone_stop_frame', 'condition', 'competition_closeness', 'notes',\n",
       "       'experiment', 'session_dir', 'all_subjects', 'tone_start_timestamp',\n",
       "       'tone_stop_timestamp', 'trial_label'],\n",
       "      dtype='object')"
      ]
     },
     "execution_count": 33,
     "metadata": {},
     "output_type": "execute_result"
    }
   ],
   "source": [
    "TRIAL_LABELS_DF.columns"
   ]
  },
  {
   "cell_type": "markdown",
   "metadata": {},
   "source": [
    "## Merging the labels and LFP spectral"
   ]
  },
  {
   "cell_type": "code",
   "execution_count": 34,
   "metadata": {
    "tags": []
   },
   "outputs": [
    {
     "data": {
      "text/html": [
       "<div>\n",
       "<style scoped>\n",
       "    .dataframe tbody tr th:only-of-type {\n",
       "        vertical-align: middle;\n",
       "    }\n",
       "\n",
       "    .dataframe tbody tr th {\n",
       "        vertical-align: top;\n",
       "    }\n",
       "\n",
       "    .dataframe thead th {\n",
       "        text-align: right;\n",
       "    }\n",
       "</style>\n",
       "<table border=\"1\" class=\"dataframe\">\n",
       "  <thead>\n",
       "    <tr style=\"text-align: right;\">\n",
       "      <th></th>\n",
       "      <th>tracked_subject</th>\n",
       "      <th>box_number</th>\n",
       "      <th>sleap_name</th>\n",
       "      <th>video_name</th>\n",
       "      <th>current_subject</th>\n",
       "      <th>tone_start_frame</th>\n",
       "      <th>reward_start_frame</th>\n",
       "      <th>tone_stop_frame</th>\n",
       "      <th>condition</th>\n",
       "      <th>competition_closeness</th>\n",
       "      <th>notes</th>\n",
       "      <th>experiment</th>\n",
       "      <th>session_dir</th>\n",
       "      <th>all_subjects</th>\n",
       "      <th>tone_start_timestamp</th>\n",
       "      <th>tone_stop_timestamp</th>\n",
       "      <th>trial_label</th>\n",
       "    </tr>\n",
       "  </thead>\n",
       "  <tbody>\n",
       "    <tr>\n",
       "      <th>0</th>\n",
       "      <td>['1.1', '1.2']</td>\n",
       "      <td>1</td>\n",
       "      <td>20230612_112630_standard_comp_to_training_D1_s...</td>\n",
       "      <td>20230612_112630_standard_comp_to_training_D1_s...</td>\n",
       "      <td>1.1</td>\n",
       "      <td>1125</td>\n",
       "      <td>1225</td>\n",
       "      <td>1324</td>\n",
       "      <td>1.1</td>\n",
       "      <td>Subj 1 blocking Subj 2</td>\n",
       "      <td>NaN</td>\n",
       "      <td>standard</td>\n",
       "      <td>20230612_112630_standard_comp_to_training_D1_s...</td>\n",
       "      <td>['1.1', '1.2']</td>\n",
       "      <td>1126742</td>\n",
       "      <td>1326741</td>\n",
       "      <td>win</td>\n",
       "    </tr>\n",
       "    <tr>\n",
       "      <th>1</th>\n",
       "      <td>['1.1', '1.2']</td>\n",
       "      <td>1</td>\n",
       "      <td>20230612_112630_standard_comp_to_training_D1_s...</td>\n",
       "      <td>20230612_112630_standard_comp_to_training_D1_s...</td>\n",
       "      <td>1.2</td>\n",
       "      <td>1125</td>\n",
       "      <td>1225</td>\n",
       "      <td>1324</td>\n",
       "      <td>1.1</td>\n",
       "      <td>Subj 1 blocking Subj 2</td>\n",
       "      <td>NaN</td>\n",
       "      <td>standard</td>\n",
       "      <td>20230612_112630_standard_comp_to_training_D1_s...</td>\n",
       "      <td>['1.1', '1.2']</td>\n",
       "      <td>1126742</td>\n",
       "      <td>1326741</td>\n",
       "      <td>lose</td>\n",
       "    </tr>\n",
       "    <tr>\n",
       "      <th>2</th>\n",
       "      <td>['1.1', '1.2']</td>\n",
       "      <td>1</td>\n",
       "      <td>20230612_112630_standard_comp_to_training_D1_s...</td>\n",
       "      <td>20230612_112630_standard_comp_to_training_D1_s...</td>\n",
       "      <td>1.1</td>\n",
       "      <td>3519</td>\n",
       "      <td>3619</td>\n",
       "      <td>3720</td>\n",
       "      <td>1.2</td>\n",
       "      <td>Subj 2 Only</td>\n",
       "      <td>NaN</td>\n",
       "      <td>standard</td>\n",
       "      <td>20230612_112630_standard_comp_to_training_D1_s...</td>\n",
       "      <td>['1.1', '1.2']</td>\n",
       "      <td>3526740</td>\n",
       "      <td>3726740</td>\n",
       "      <td>lose</td>\n",
       "    </tr>\n",
       "    <tr>\n",
       "      <th>3</th>\n",
       "      <td>['1.1', '1.2']</td>\n",
       "      <td>1</td>\n",
       "      <td>20230612_112630_standard_comp_to_training_D1_s...</td>\n",
       "      <td>20230612_112630_standard_comp_to_training_D1_s...</td>\n",
       "      <td>1.2</td>\n",
       "      <td>3519</td>\n",
       "      <td>3619</td>\n",
       "      <td>3720</td>\n",
       "      <td>1.2</td>\n",
       "      <td>Subj 2 Only</td>\n",
       "      <td>NaN</td>\n",
       "      <td>standard</td>\n",
       "      <td>20230612_112630_standard_comp_to_training_D1_s...</td>\n",
       "      <td>['1.1', '1.2']</td>\n",
       "      <td>3526740</td>\n",
       "      <td>3726740</td>\n",
       "      <td>win</td>\n",
       "    </tr>\n",
       "    <tr>\n",
       "      <th>4</th>\n",
       "      <td>['1.1', '1.2']</td>\n",
       "      <td>1</td>\n",
       "      <td>20230612_112630_standard_comp_to_training_D1_s...</td>\n",
       "      <td>20230612_112630_standard_comp_to_training_D1_s...</td>\n",
       "      <td>1.1</td>\n",
       "      <td>5815</td>\n",
       "      <td>5915</td>\n",
       "      <td>6014</td>\n",
       "      <td>1.2</td>\n",
       "      <td>Subj 2 blocking Subj 1</td>\n",
       "      <td>NaN</td>\n",
       "      <td>standard</td>\n",
       "      <td>20230612_112630_standard_comp_to_training_D1_s...</td>\n",
       "      <td>['1.1', '1.2']</td>\n",
       "      <td>5826740</td>\n",
       "      <td>6026737</td>\n",
       "      <td>lose</td>\n",
       "    </tr>\n",
       "  </tbody>\n",
       "</table>\n",
       "</div>"
      ],
      "text/plain": [
       "  tracked_subject  box_number  \\\n",
       "0  ['1.1', '1.2']           1   \n",
       "1  ['1.1', '1.2']           1   \n",
       "2  ['1.1', '1.2']           1   \n",
       "3  ['1.1', '1.2']           1   \n",
       "4  ['1.1', '1.2']           1   \n",
       "\n",
       "                                          sleap_name  \\\n",
       "0  20230612_112630_standard_comp_to_training_D1_s...   \n",
       "1  20230612_112630_standard_comp_to_training_D1_s...   \n",
       "2  20230612_112630_standard_comp_to_training_D1_s...   \n",
       "3  20230612_112630_standard_comp_to_training_D1_s...   \n",
       "4  20230612_112630_standard_comp_to_training_D1_s...   \n",
       "\n",
       "                                          video_name  current_subject  \\\n",
       "0  20230612_112630_standard_comp_to_training_D1_s...              1.1   \n",
       "1  20230612_112630_standard_comp_to_training_D1_s...              1.2   \n",
       "2  20230612_112630_standard_comp_to_training_D1_s...              1.1   \n",
       "3  20230612_112630_standard_comp_to_training_D1_s...              1.2   \n",
       "4  20230612_112630_standard_comp_to_training_D1_s...              1.1   \n",
       "\n",
       "   tone_start_frame  reward_start_frame  tone_stop_frame condition  \\\n",
       "0              1125                1225             1324       1.1   \n",
       "1              1125                1225             1324       1.1   \n",
       "2              3519                3619             3720       1.2   \n",
       "3              3519                3619             3720       1.2   \n",
       "4              5815                5915             6014       1.2   \n",
       "\n",
       "    competition_closeness notes experiment  \\\n",
       "0  Subj 1 blocking Subj 2   NaN   standard   \n",
       "1  Subj 1 blocking Subj 2   NaN   standard   \n",
       "2             Subj 2 Only   NaN   standard   \n",
       "3             Subj 2 Only   NaN   standard   \n",
       "4  Subj 2 blocking Subj 1   NaN   standard   \n",
       "\n",
       "                                         session_dir    all_subjects  \\\n",
       "0  20230612_112630_standard_comp_to_training_D1_s...  ['1.1', '1.2']   \n",
       "1  20230612_112630_standard_comp_to_training_D1_s...  ['1.1', '1.2']   \n",
       "2  20230612_112630_standard_comp_to_training_D1_s...  ['1.1', '1.2']   \n",
       "3  20230612_112630_standard_comp_to_training_D1_s...  ['1.1', '1.2']   \n",
       "4  20230612_112630_standard_comp_to_training_D1_s...  ['1.1', '1.2']   \n",
       "\n",
       "   tone_start_timestamp  tone_stop_timestamp trial_label  \n",
       "0               1126742              1326741         win  \n",
       "1               1126742              1326741        lose  \n",
       "2               3526740              3726740        lose  \n",
       "3               3526740              3726740         win  \n",
       "4               5826740              6026737        lose  "
      ]
     },
     "execution_count": 34,
     "metadata": {},
     "output_type": "execute_result"
    }
   ],
   "source": [
    "TRIAL_LABELS_DF.head()"
   ]
  },
  {
   "cell_type": "code",
   "execution_count": 35,
   "metadata": {
    "tags": []
   },
   "outputs": [
    {
     "data": {
      "text/html": [
       "<div>\n",
       "<style scoped>\n",
       "    .dataframe tbody tr th:only-of-type {\n",
       "        vertical-align: middle;\n",
       "    }\n",
       "\n",
       "    .dataframe tbody tr th {\n",
       "        vertical-align: top;\n",
       "    }\n",
       "\n",
       "    .dataframe thead th {\n",
       "        text-align: right;\n",
       "    }\n",
       "</style>\n",
       "<table border=\"1\" class=\"dataframe\">\n",
       "  <thead>\n",
       "    <tr style=\"text-align: right;\">\n",
       "      <th></th>\n",
       "      <th>cohort</th>\n",
       "      <th>session_dir</th>\n",
       "      <th>tone_frames</th>\n",
       "      <th>box_1_port_entry_frames</th>\n",
       "      <th>box_2_port_entry_frames</th>\n",
       "      <th>video_name</th>\n",
       "      <th>session_path</th>\n",
       "      <th>recording</th>\n",
       "      <th>current_subject</th>\n",
       "      <th>subject</th>\n",
       "      <th>...</th>\n",
       "      <th>reward_port</th>\n",
       "      <th>box_bottom_left</th>\n",
       "      <th>box_bottom_right</th>\n",
       "      <th>agent</th>\n",
       "      <th>subject_locations</th>\n",
       "      <th>agent_locations</th>\n",
       "      <th>subject_thorax_velocity</th>\n",
       "      <th>agent_thorax_velocity</th>\n",
       "      <th>subject_thorax_to_reward_port</th>\n",
       "      <th>agent_thorax_to_reward_port</th>\n",
       "    </tr>\n",
       "  </thead>\n",
       "  <tbody>\n",
       "    <tr>\n",
       "      <th>0</th>\n",
       "      <td>2</td>\n",
       "      <td>20230612_112630_standard_comp_to_training_D1_s...</td>\n",
       "      <td>[[1125, 1324], [3519, 3720], [5815, 6014], [76...</td>\n",
       "      <td>[[192, 248], [389, 405], [916, 929], [929, 948...</td>\n",
       "      <td>[[33019, 33020], [33246, 33251], [33253, 33255...</td>\n",
       "      <td>20230612_112630_standard_comp_to_training_D1_s...</td>\n",
       "      <td>/scratch/back_up/reward_competition_extention/...</td>\n",
       "      <td>20230612_112630_standard_comp_to_training_D1_s...</td>\n",
       "      <td>1.1</td>\n",
       "      <td>1.1</td>\n",
       "      <td>...</td>\n",
       "      <td>[45.23441700698972, 35.83828707637651]</td>\n",
       "      <td>[30.458913657178506, 34.21867013031604]</td>\n",
       "      <td>[59.89132415244771, 34.13310301149612]</td>\n",
       "      <td>1.2</td>\n",
       "      <td>[[[46.68890098287189, 11.495085446056166], [43...</td>\n",
       "      <td>[[[34.36404036584844, 35.615553316175784], [34...</td>\n",
       "      <td>[1.8125, 1.707, 1.6045, 1.506, 1.409, 1.315, 1...</td>\n",
       "      <td>[14.336, 12.875, 11.47, 10.11, 8.81, 7.57, 6.3...</td>\n",
       "      <td>[26.45, 26.16, 26.1, 25.77, 25.72, 25.78, 26.1...</td>\n",
       "      <td>[6.11, 6.06, 6.125, 6.566, 6.605, 6.676, 7.13,...</td>\n",
       "    </tr>\n",
       "    <tr>\n",
       "      <th>1</th>\n",
       "      <td>2</td>\n",
       "      <td>20230612_112630_standard_comp_to_training_D1_s...</td>\n",
       "      <td>[[1125, 1324], [3519, 3720], [5815, 6014], [76...</td>\n",
       "      <td>[[192, 248], [389, 405], [916, 930], [930, 948...</td>\n",
       "      <td>[[32974, 32976], [33201, 33207], [33208, 33211...</td>\n",
       "      <td>20230612_112630_standard_comp_to_training_D1_s...</td>\n",
       "      <td>/scratch/back_up/reward_competition_extention/...</td>\n",
       "      <td>20230612_112630_standard_comp_to_training_D1_s...</td>\n",
       "      <td>1.1</td>\n",
       "      <td>1.1</td>\n",
       "      <td>...</td>\n",
       "      <td>[48.01956210909252, 37.264554576109816]</td>\n",
       "      <td>[33.1534452699471, 35.61101869926864]</td>\n",
       "      <td>[62.60288905131385, 35.71974322144712]</td>\n",
       "      <td>None</td>\n",
       "      <td>[[[27.67316905433137, 31.06298795228111], [27....</td>\n",
       "      <td>NaN</td>\n",
       "      <td>[0.0, 0.0, 0.0, 0.0, 0.0, 0.0, 0.0, 0.0, 0.0, ...</td>\n",
       "      <td>NaN</td>\n",
       "      <td>[21.36, 21.36, 21.36, 21.36, 21.36, 21.36, 21....</td>\n",
       "      <td>NaN</td>\n",
       "    </tr>\n",
       "    <tr>\n",
       "      <th>2</th>\n",
       "      <td>2</td>\n",
       "      <td>20230612_112630_standard_comp_to_training_D1_s...</td>\n",
       "      <td>[[1125, 1324], [3519, 3720], [5815, 6014], [76...</td>\n",
       "      <td>[[192, 248], [389, 405], [916, 929], [929, 948...</td>\n",
       "      <td>[[33019, 33020], [33246, 33251], [33253, 33255...</td>\n",
       "      <td>20230612_112630_standard_comp_to_training_D1_s...</td>\n",
       "      <td>/scratch/back_up/reward_competition_extention/...</td>\n",
       "      <td>20230612_112630_standard_comp_to_training_D1_s...</td>\n",
       "      <td>1.2</td>\n",
       "      <td>1.2</td>\n",
       "      <td>...</td>\n",
       "      <td>[45.23441700698972, 35.83828707637651]</td>\n",
       "      <td>[30.458913657178506, 34.21867013031604]</td>\n",
       "      <td>[59.89132415244771, 34.13310301149612]</td>\n",
       "      <td>None</td>\n",
       "      <td>[[[34.36404036584844, 35.615553316175784], [34...</td>\n",
       "      <td>NaN</td>\n",
       "      <td>[55.4, 52.03, 48.72, 45.53, 42.44, 39.44, 36.5...</td>\n",
       "      <td>NaN</td>\n",
       "      <td>[6.11, 6.06, 6.125, 6.566, 6.605, 6.676, 7.13,...</td>\n",
       "      <td>NaN</td>\n",
       "    </tr>\n",
       "    <tr>\n",
       "      <th>3</th>\n",
       "      <td>2</td>\n",
       "      <td>20230612_112630_standard_comp_to_training_D1_s...</td>\n",
       "      <td>[[1125, 1324], [3519, 3720], [5815, 6014], [76...</td>\n",
       "      <td>[[192, 248], [389, 405], [916, 929], [929, 948...</td>\n",
       "      <td>[[33019, 33020], [33246, 33251], [33253, 33255...</td>\n",
       "      <td>20230612_112630_standard_comp_to_training_D1_s...</td>\n",
       "      <td>/scratch/back_up/reward_competition_extention/...</td>\n",
       "      <td>20230612_112630_standard_comp_to_training_D1_s...</td>\n",
       "      <td>1.2</td>\n",
       "      <td>1.2</td>\n",
       "      <td>...</td>\n",
       "      <td>[45.23441700698972, 35.83828707637651]</td>\n",
       "      <td>[30.458913657178506, 34.21867013031604]</td>\n",
       "      <td>[59.89132415244771, 34.13310301149612]</td>\n",
       "      <td>1.1</td>\n",
       "      <td>[[[34.36404036584844, 35.615553316175784], [34...</td>\n",
       "      <td>[[[46.68890098287189, 11.495085446056166], [43...</td>\n",
       "      <td>[14.336, 12.875, 11.47, 10.11, 8.81, 7.57, 6.3...</td>\n",
       "      <td>[1.8125, 1.707, 1.6045, 1.506, 1.409, 1.315, 1...</td>\n",
       "      <td>[6.11, 6.06, 6.125, 6.566, 6.605, 6.676, 7.13,...</td>\n",
       "      <td>[26.45, 26.16, 26.1, 25.77, 25.72, 25.78, 26.1...</td>\n",
       "    </tr>\n",
       "    <tr>\n",
       "      <th>4</th>\n",
       "      <td>2</td>\n",
       "      <td>20230613_105657_standard_comp_to_training_D2_s...</td>\n",
       "      <td>[[916, 1117], [3312, 3513], [5608, 5808], [740...</td>\n",
       "      <td>[[49, 67], [70, 79], [360, 366], [460, 469], [...</td>\n",
       "      <td>[[33601, 33798], [34108, 34165], [34166, 34179...</td>\n",
       "      <td>20230613_105657_standard_comp_to_training_D2_s...</td>\n",
       "      <td>/scratch/back_up/reward_competition_extention/...</td>\n",
       "      <td>20230613_105657_standard_comp_to_training_D2_s...</td>\n",
       "      <td>1.1</td>\n",
       "      <td>1.1</td>\n",
       "      <td>...</td>\n",
       "      <td>[45.31189572048577, 36.38317068198775]</td>\n",
       "      <td>[30.490085836306232, 34.91627159792731]</td>\n",
       "      <td>[60.10744182471764, 34.262899786598894]</td>\n",
       "      <td>None</td>\n",
       "      <td>[[[46.71964110607613, 36.493379374373234], [44...</td>\n",
       "      <td>NaN</td>\n",
       "      <td>[5.8, 5.207, 4.64, 4.1, 3.596, 3.127, 2.7, 2.3...</td>\n",
       "      <td>NaN</td>\n",
       "      <td>[4.633, 4.09, 4.36, 4.656, 4.65, 4.383, 4.35, ...</td>\n",
       "      <td>NaN</td>\n",
       "    </tr>\n",
       "  </tbody>\n",
       "</table>\n",
       "<p>5 rows × 78 columns</p>\n",
       "</div>"
      ],
      "text/plain": [
       "   cohort                                        session_dir  \\\n",
       "0       2  20230612_112630_standard_comp_to_training_D1_s...   \n",
       "1       2  20230612_112630_standard_comp_to_training_D1_s...   \n",
       "2       2  20230612_112630_standard_comp_to_training_D1_s...   \n",
       "3       2  20230612_112630_standard_comp_to_training_D1_s...   \n",
       "4       2  20230613_105657_standard_comp_to_training_D2_s...   \n",
       "\n",
       "                                         tone_frames  \\\n",
       "0  [[1125, 1324], [3519, 3720], [5815, 6014], [76...   \n",
       "1  [[1125, 1324], [3519, 3720], [5815, 6014], [76...   \n",
       "2  [[1125, 1324], [3519, 3720], [5815, 6014], [76...   \n",
       "3  [[1125, 1324], [3519, 3720], [5815, 6014], [76...   \n",
       "4  [[916, 1117], [3312, 3513], [5608, 5808], [740...   \n",
       "\n",
       "                             box_1_port_entry_frames  \\\n",
       "0  [[192, 248], [389, 405], [916, 929], [929, 948...   \n",
       "1  [[192, 248], [389, 405], [916, 930], [930, 948...   \n",
       "2  [[192, 248], [389, 405], [916, 929], [929, 948...   \n",
       "3  [[192, 248], [389, 405], [916, 929], [929, 948...   \n",
       "4  [[49, 67], [70, 79], [360, 366], [460, 469], [...   \n",
       "\n",
       "                             box_2_port_entry_frames  \\\n",
       "0  [[33019, 33020], [33246, 33251], [33253, 33255...   \n",
       "1  [[32974, 32976], [33201, 33207], [33208, 33211...   \n",
       "2  [[33019, 33020], [33246, 33251], [33253, 33255...   \n",
       "3  [[33019, 33020], [33246, 33251], [33253, 33255...   \n",
       "4  [[33601, 33798], [34108, 34165], [34166, 34179...   \n",
       "\n",
       "                                          video_name  \\\n",
       "0  20230612_112630_standard_comp_to_training_D1_s...   \n",
       "1  20230612_112630_standard_comp_to_training_D1_s...   \n",
       "2  20230612_112630_standard_comp_to_training_D1_s...   \n",
       "3  20230612_112630_standard_comp_to_training_D1_s...   \n",
       "4  20230613_105657_standard_comp_to_training_D2_s...   \n",
       "\n",
       "                                        session_path  \\\n",
       "0  /scratch/back_up/reward_competition_extention/...   \n",
       "1  /scratch/back_up/reward_competition_extention/...   \n",
       "2  /scratch/back_up/reward_competition_extention/...   \n",
       "3  /scratch/back_up/reward_competition_extention/...   \n",
       "4  /scratch/back_up/reward_competition_extention/...   \n",
       "\n",
       "                                           recording current_subject subject  \\\n",
       "0  20230612_112630_standard_comp_to_training_D1_s...             1.1     1.1   \n",
       "1  20230612_112630_standard_comp_to_training_D1_s...             1.1     1.1   \n",
       "2  20230612_112630_standard_comp_to_training_D1_s...             1.2     1.2   \n",
       "3  20230612_112630_standard_comp_to_training_D1_s...             1.2     1.2   \n",
       "4  20230613_105657_standard_comp_to_training_D2_s...             1.1     1.1   \n",
       "\n",
       "   ...                              reward_port  \\\n",
       "0  ...   [45.23441700698972, 35.83828707637651]   \n",
       "1  ...  [48.01956210909252, 37.264554576109816]   \n",
       "2  ...   [45.23441700698972, 35.83828707637651]   \n",
       "3  ...   [45.23441700698972, 35.83828707637651]   \n",
       "4  ...   [45.31189572048577, 36.38317068198775]   \n",
       "\n",
       "                           box_bottom_left  \\\n",
       "0  [30.458913657178506, 34.21867013031604]   \n",
       "1    [33.1534452699471, 35.61101869926864]   \n",
       "2  [30.458913657178506, 34.21867013031604]   \n",
       "3  [30.458913657178506, 34.21867013031604]   \n",
       "4  [30.490085836306232, 34.91627159792731]   \n",
       "\n",
       "                          box_bottom_right agent  \\\n",
       "0   [59.89132415244771, 34.13310301149612]   1.2   \n",
       "1   [62.60288905131385, 35.71974322144712]  None   \n",
       "2   [59.89132415244771, 34.13310301149612]  None   \n",
       "3   [59.89132415244771, 34.13310301149612]   1.1   \n",
       "4  [60.10744182471764, 34.262899786598894]  None   \n",
       "\n",
       "                                   subject_locations  \\\n",
       "0  [[[46.68890098287189, 11.495085446056166], [43...   \n",
       "1  [[[27.67316905433137, 31.06298795228111], [27....   \n",
       "2  [[[34.36404036584844, 35.615553316175784], [34...   \n",
       "3  [[[34.36404036584844, 35.615553316175784], [34...   \n",
       "4  [[[46.71964110607613, 36.493379374373234], [44...   \n",
       "\n",
       "                                     agent_locations  \\\n",
       "0  [[[34.36404036584844, 35.615553316175784], [34...   \n",
       "1                                                NaN   \n",
       "2                                                NaN   \n",
       "3  [[[46.68890098287189, 11.495085446056166], [43...   \n",
       "4                                                NaN   \n",
       "\n",
       "                             subject_thorax_velocity  \\\n",
       "0  [1.8125, 1.707, 1.6045, 1.506, 1.409, 1.315, 1...   \n",
       "1  [0.0, 0.0, 0.0, 0.0, 0.0, 0.0, 0.0, 0.0, 0.0, ...   \n",
       "2  [55.4, 52.03, 48.72, 45.53, 42.44, 39.44, 36.5...   \n",
       "3  [14.336, 12.875, 11.47, 10.11, 8.81, 7.57, 6.3...   \n",
       "4  [5.8, 5.207, 4.64, 4.1, 3.596, 3.127, 2.7, 2.3...   \n",
       "\n",
       "                               agent_thorax_velocity  \\\n",
       "0  [14.336, 12.875, 11.47, 10.11, 8.81, 7.57, 6.3...   \n",
       "1                                                NaN   \n",
       "2                                                NaN   \n",
       "3  [1.8125, 1.707, 1.6045, 1.506, 1.409, 1.315, 1...   \n",
       "4                                                NaN   \n",
       "\n",
       "                       subject_thorax_to_reward_port  \\\n",
       "0  [26.45, 26.16, 26.1, 25.77, 25.72, 25.78, 26.1...   \n",
       "1  [21.36, 21.36, 21.36, 21.36, 21.36, 21.36, 21....   \n",
       "2  [6.11, 6.06, 6.125, 6.566, 6.605, 6.676, 7.13,...   \n",
       "3  [6.11, 6.06, 6.125, 6.566, 6.605, 6.676, 7.13,...   \n",
       "4  [4.633, 4.09, 4.36, 4.656, 4.65, 4.383, 4.35, ...   \n",
       "\n",
       "                         agent_thorax_to_reward_port  \n",
       "0  [6.11, 6.06, 6.125, 6.566, 6.605, 6.676, 7.13,...  \n",
       "1                                                NaN  \n",
       "2                                                NaN  \n",
       "3  [26.45, 26.16, 26.1, 25.77, 25.72, 25.78, 26.1...  \n",
       "4                                                NaN  \n",
       "\n",
       "[5 rows x 78 columns]"
      ]
     },
     "execution_count": 35,
     "metadata": {},
     "output_type": "execute_result"
    }
   ],
   "source": [
    "LFP_SPECTRAL_DF.head()"
   ]
  },
  {
   "cell_type": "code",
   "execution_count": null,
   "metadata": {},
   "outputs": [],
   "source": []
  },
  {
   "cell_type": "code",
   "execution_count": 36,
   "metadata": {
    "tags": []
   },
   "outputs": [],
   "source": [
    "LFP_SPECTRAL_DF[\"video_name\"] = LFP_SPECTRAL_DF[\"video_name\"].apply(lambda x: x.strip(\".videoTimeStamps.cameraHWSync\"))"
   ]
  },
  {
   "cell_type": "code",
   "execution_count": 37,
   "metadata": {
    "tags": []
   },
   "outputs": [],
   "source": [
    "LFP_SPECTRAL_DF[\"current_subject\"] = LFP_SPECTRAL_DF[\"current_subject\"].astype(str)\n",
    "TRIAL_LABELS_DF[\"current_subject\"] = TRIAL_LABELS_DF[\"current_subject\"].astype(str)"
   ]
  },
  {
   "cell_type": "code",
   "execution_count": 38,
   "metadata": {
    "tags": []
   },
   "outputs": [
    {
     "data": {
      "text/plain": [
       "array(['20230612_112630_standard_comp_to_training_D1_subj_1-2_and_1-1.1',\n",
       "       '20230612_112630_standard_comp_to_training_D1_subj_1-2_and_1-1.2',\n",
       "       '20230613_105657_standard_comp_to_training_D2_subj_1-1_and_1-4.1',\n",
       "       '20230613_105657_standard_comp_to_training_D2_subj_1-1_and_1-4.2',\n",
       "       '20230614_114041_standard_comp_to_training_D3_subj_1-1_and_1-2.1',\n",
       "       '20230614_114041_standard_comp_to_training_D3_subj_1-1_and_1-2.2',\n",
       "       '20230614_114041_standard_comp_to_training_D3_subj_1-1_and_1-2.3',\n",
       "       '20230616_111904_standard_comp_to_training_D4_subj_1-4_and_1-2.1',\n",
       "       '20230616_111904_standard_comp_to_training_D4_subj_1-4_and_1-2.2',\n",
       "       '20230617_115521_standard_comp_to_omission_D1_subj_1-1_and_1-2.1',\n",
       "       '20230618_100636_standard_comp_to_omission_D2_subj_1-4_and_1-1.1',\n",
       "       '20230618_100636_standard_comp_to_omission_D2_subj_1-4_and_1-1.2',\n",
       "       '20230620_114347_standard_comp_to_omission_D4_subj_1-2_and_1-1.1',\n",
       "       '20230620_114347_standard_comp_to_omission_D4_subj_1-2_and_1-1.2',\n",
       "       '20230621_111240_standard_comp_to_omission_D5_subj_1-4_and_1-2.1',\n",
       "       '20230621_111240_standard_comp_to_omission_D5_subj_1-4_and_1-2.2',\n",
       "       '20230622_110832_standard_comp_to_both_rewarded_D1_subj_1-1_and_1-2.1',\n",
       "       '20230624_105855_standard_comp_to_both_rewarded_D3_subj_1-2_and_1-4.1',\n",
       "       '20230625_112913_standard_comp_to_both_rewarded_D4_subj_1-1_and_1-4.1',\n",
       "       '20230628_111202_standard_comp_to_novel_agent_D1_subj_1-1vs2-2and1-2vs2-1.1',\n",
       "       '20230628_111202_standard_comp_to_novel_agent_D1_subj_1-1vs2-2and1-2vs2-1.3',\n",
       "       '20230629_111937_standard_comp_to_novel_agent_D2_subj_1-1vs2-1and1-4vs2-2.1',\n",
       "       '20230629_111937_standard_comp_to_novel_agent_D2_subj_1-1vs2-1and1-4vs2-2.2',\n",
       "       '20230630_115506_standard_comp_to_novel_agent_D3_subj_1-4vs2-1and1-2vs2-2.1',\n",
       "       '20230630_115506_standard_comp_to_novel_agent_D3_subj_1-4vs2-1and1-2vs2-2.2'],\n",
       "      dtype=object)"
      ]
     },
     "execution_count": 38,
     "metadata": {},
     "output_type": "execute_result"
    }
   ],
   "source": [
    "TRIAL_LABELS_DF[\"video_name\"].unique()"
   ]
  },
  {
   "cell_type": "code",
   "execution_count": 39,
   "metadata": {
    "tags": []
   },
   "outputs": [
    {
     "data": {
      "text/plain": [
       "array(['20230612_112630_standard_comp_to_training_D1_subj_1-2_and_1-1.1',\n",
       "       '20230612_112630_standard_comp_to_training_D1_subj_1-2_and_1-1.2',\n",
       "       '20230613_105657_standard_comp_to_training_D2_subj_1-1_and_1-4.1',\n",
       "       '20230613_105657_standard_comp_to_training_D2_subj_1-1_and_1-4.2',\n",
       "       '20230614_114041_standard_comp_to_training_D3_subj_1-1_and_1-2.1',\n",
       "       '20230614_114041_standard_comp_to_training_D3_subj_1-1_and_1-2.3',\n",
       "       '20230614_114041_standard_comp_to_training_D3_subj_1-1_and_1-2.2',\n",
       "       '20230616_111904_standard_comp_to_training_D4_subj_1-4_and_1-2.1',\n",
       "       '20230616_111904_standard_comp_to_training_D4_subj_1-4_and_1-2.2',\n",
       "       '20230617_115521_standard_comp_to_omission_D1_subj_1-1_and_1-2.1',\n",
       "       '20230617_115521_standard_comp_to_omission_D1_subj_1-1_and_1-2.3',\n",
       "       '20230618_100636_standard_comp_to_omission_D2_subj_1-4_and_1-1.1',\n",
       "       '20230618_100636_standard_comp_to_omission_D2_subj_1-4_and_1-1.2',\n",
       "       '20230619_115321_standard_comp_to_omission_D3_subj_1-2_and_1-4.4',\n",
       "       '20230620_114347_standard_comp_to_omission_D4_subj_1-2_and_1-1.1',\n",
       "       '20230620_114347_standard_comp_to_omission_D4_subj_1-2_and_1-1.2',\n",
       "       '20230621_111240_standard_comp_to_omission_D5_subj_1-4_and_1-2.1',\n",
       "       '20230622_110832_standard_comp_to_both_rewarded_D1_subj_1-1_and_1-2.1',\n",
       "       '20230624_105855_standard_comp_to_both_rewarded_D3_subj_1-2_and_1-4.1',\n",
       "       '20230625_112913_standard_comp_to_both_rewarded_D4_subj_1-1_and_1-4.1',\n",
       "       '20230628_111202_standard_comp_to_novel_agent_D1_subj_1-1vs2-2and1-2vs2-1.1',\n",
       "       '20230628_111202_standard_comp_to_novel_agent_D1_subj_1-1vs2-2and1-2vs2-1.4',\n",
       "       '20230629_111937_standard_comp_to_novel_agent_D2_subj_1-1vs2-1and1-4vs2-2.1',\n",
       "       '20230629_111937_standard_comp_to_novel_agent_D2_subj_1-1vs2-1and1-4vs2-2.2',\n",
       "       '20230630_115506_standard_comp_to_novel_agent_D3_subj_1-4vs2-1and1-2vs2-2.1',\n",
       "       '20230630_115506_standard_comp_to_novel_agent_D3_subj_1-4vs2-1and1-2vs2-2.2'],\n",
       "      dtype=object)"
      ]
     },
     "execution_count": 39,
     "metadata": {},
     "output_type": "execute_result"
    }
   ],
   "source": [
    "LFP_SPECTRAL_DF[\"video_name\"].unique()"
   ]
  },
  {
   "cell_type": "code",
   "execution_count": 40,
   "metadata": {
    "tags": []
   },
   "outputs": [],
   "source": [
    "TRIALS_AND_SPECTRAL_DF = pd.merge(TRIAL_LABELS_DF, LFP_SPECTRAL_DF, on=[\"current_subject\", \"video_name\"], how=\"inner\", suffixes=('', '_y'))"
   ]
  },
  {
   "cell_type": "code",
   "execution_count": 41,
   "metadata": {
    "tags": []
   },
   "outputs": [],
   "source": [
    "# TRIALS_AND_SPECTRAL_DF = TRIALS_AND_SPECTRAL_DF.drop(columns=[col for col in TRIALS_AND_SPECTRAL_DF.columns if \"trace\" in col], errors=\"ignore\")"
   ]
  },
  {
   "cell_type": "code",
   "execution_count": 42,
   "metadata": {
    "tags": []
   },
   "outputs": [],
   "source": [
    "TRIALS_AND_SPECTRAL_DF = TRIALS_AND_SPECTRAL_DF.drop(columns=[col for col in TRIALS_AND_SPECTRAL_DF.columns if \"_y\" in col], errors=\"ignore\")"
   ]
  },
  {
   "cell_type": "code",
   "execution_count": 43,
   "metadata": {
    "tags": []
   },
   "outputs": [
    {
     "data": {
      "text/html": [
       "<div>\n",
       "<style scoped>\n",
       "    .dataframe tbody tr th:only-of-type {\n",
       "        vertical-align: middle;\n",
       "    }\n",
       "\n",
       "    .dataframe tbody tr th {\n",
       "        vertical-align: top;\n",
       "    }\n",
       "\n",
       "    .dataframe thead th {\n",
       "        text-align: right;\n",
       "    }\n",
       "</style>\n",
       "<table border=\"1\" class=\"dataframe\">\n",
       "  <thead>\n",
       "    <tr style=\"text-align: right;\">\n",
       "      <th></th>\n",
       "      <th>tracked_subject</th>\n",
       "      <th>box_number</th>\n",
       "      <th>sleap_name</th>\n",
       "      <th>video_name</th>\n",
       "      <th>current_subject</th>\n",
       "      <th>tone_start_frame</th>\n",
       "      <th>reward_start_frame</th>\n",
       "      <th>tone_stop_frame</th>\n",
       "      <th>condition</th>\n",
       "      <th>competition_closeness</th>\n",
       "      <th>...</th>\n",
       "      <th>reward_port</th>\n",
       "      <th>box_bottom_left</th>\n",
       "      <th>box_bottom_right</th>\n",
       "      <th>agent</th>\n",
       "      <th>subject_locations</th>\n",
       "      <th>agent_locations</th>\n",
       "      <th>subject_thorax_velocity</th>\n",
       "      <th>agent_thorax_velocity</th>\n",
       "      <th>subject_thorax_to_reward_port</th>\n",
       "      <th>agent_thorax_to_reward_port</th>\n",
       "    </tr>\n",
       "  </thead>\n",
       "  <tbody>\n",
       "    <tr>\n",
       "      <th>0</th>\n",
       "      <td>['1.1', '1.2']</td>\n",
       "      <td>1</td>\n",
       "      <td>20230612_112630_standard_comp_to_training_D1_s...</td>\n",
       "      <td>20230612_112630_standard_comp_to_training_D1_s...</td>\n",
       "      <td>1.1</td>\n",
       "      <td>1125</td>\n",
       "      <td>1225</td>\n",
       "      <td>1324</td>\n",
       "      <td>1.1</td>\n",
       "      <td>Subj 1 blocking Subj 2</td>\n",
       "      <td>...</td>\n",
       "      <td>[45.23441700698972, 35.83828707637651]</td>\n",
       "      <td>[30.458913657178506, 34.21867013031604]</td>\n",
       "      <td>[59.89132415244771, 34.13310301149612]</td>\n",
       "      <td>1.2</td>\n",
       "      <td>[[[46.68890098287189, 11.495085446056166], [43...</td>\n",
       "      <td>[[[34.36404036584844, 35.615553316175784], [34...</td>\n",
       "      <td>[1.8125, 1.707, 1.6045, 1.506, 1.409, 1.315, 1...</td>\n",
       "      <td>[14.336, 12.875, 11.47, 10.11, 8.81, 7.57, 6.3...</td>\n",
       "      <td>[26.45, 26.16, 26.1, 25.77, 25.72, 25.78, 26.1...</td>\n",
       "      <td>[6.11, 6.06, 6.125, 6.566, 6.605, 6.676, 7.13,...</td>\n",
       "    </tr>\n",
       "    <tr>\n",
       "      <th>1</th>\n",
       "      <td>['1.1', '1.2']</td>\n",
       "      <td>1</td>\n",
       "      <td>20230612_112630_standard_comp_to_training_D1_s...</td>\n",
       "      <td>20230612_112630_standard_comp_to_training_D1_s...</td>\n",
       "      <td>1.1</td>\n",
       "      <td>3519</td>\n",
       "      <td>3619</td>\n",
       "      <td>3720</td>\n",
       "      <td>1.2</td>\n",
       "      <td>Subj 2 Only</td>\n",
       "      <td>...</td>\n",
       "      <td>[45.23441700698972, 35.83828707637651]</td>\n",
       "      <td>[30.458913657178506, 34.21867013031604]</td>\n",
       "      <td>[59.89132415244771, 34.13310301149612]</td>\n",
       "      <td>1.2</td>\n",
       "      <td>[[[46.68890098287189, 11.495085446056166], [43...</td>\n",
       "      <td>[[[34.36404036584844, 35.615553316175784], [34...</td>\n",
       "      <td>[1.8125, 1.707, 1.6045, 1.506, 1.409, 1.315, 1...</td>\n",
       "      <td>[14.336, 12.875, 11.47, 10.11, 8.81, 7.57, 6.3...</td>\n",
       "      <td>[26.45, 26.16, 26.1, 25.77, 25.72, 25.78, 26.1...</td>\n",
       "      <td>[6.11, 6.06, 6.125, 6.566, 6.605, 6.676, 7.13,...</td>\n",
       "    </tr>\n",
       "    <tr>\n",
       "      <th>2</th>\n",
       "      <td>['1.1', '1.2']</td>\n",
       "      <td>1</td>\n",
       "      <td>20230612_112630_standard_comp_to_training_D1_s...</td>\n",
       "      <td>20230612_112630_standard_comp_to_training_D1_s...</td>\n",
       "      <td>1.1</td>\n",
       "      <td>5815</td>\n",
       "      <td>5915</td>\n",
       "      <td>6014</td>\n",
       "      <td>1.2</td>\n",
       "      <td>Subj 2 blocking Subj 1</td>\n",
       "      <td>...</td>\n",
       "      <td>[45.23441700698972, 35.83828707637651]</td>\n",
       "      <td>[30.458913657178506, 34.21867013031604]</td>\n",
       "      <td>[59.89132415244771, 34.13310301149612]</td>\n",
       "      <td>1.2</td>\n",
       "      <td>[[[46.68890098287189, 11.495085446056166], [43...</td>\n",
       "      <td>[[[34.36404036584844, 35.615553316175784], [34...</td>\n",
       "      <td>[1.8125, 1.707, 1.6045, 1.506, 1.409, 1.315, 1...</td>\n",
       "      <td>[14.336, 12.875, 11.47, 10.11, 8.81, 7.57, 6.3...</td>\n",
       "      <td>[26.45, 26.16, 26.1, 25.77, 25.72, 25.78, 26.1...</td>\n",
       "      <td>[6.11, 6.06, 6.125, 6.566, 6.605, 6.676, 7.13,...</td>\n",
       "    </tr>\n",
       "    <tr>\n",
       "      <th>3</th>\n",
       "      <td>['1.1', '1.2']</td>\n",
       "      <td>1</td>\n",
       "      <td>20230612_112630_standard_comp_to_training_D1_s...</td>\n",
       "      <td>20230612_112630_standard_comp_to_training_D1_s...</td>\n",
       "      <td>1.1</td>\n",
       "      <td>7612</td>\n",
       "      <td>7712</td>\n",
       "      <td>7811</td>\n",
       "      <td>1.2</td>\n",
       "      <td>Subj 2 Only</td>\n",
       "      <td>...</td>\n",
       "      <td>[45.23441700698972, 35.83828707637651]</td>\n",
       "      <td>[30.458913657178506, 34.21867013031604]</td>\n",
       "      <td>[59.89132415244771, 34.13310301149612]</td>\n",
       "      <td>1.2</td>\n",
       "      <td>[[[46.68890098287189, 11.495085446056166], [43...</td>\n",
       "      <td>[[[34.36404036584844, 35.615553316175784], [34...</td>\n",
       "      <td>[1.8125, 1.707, 1.6045, 1.506, 1.409, 1.315, 1...</td>\n",
       "      <td>[14.336, 12.875, 11.47, 10.11, 8.81, 7.57, 6.3...</td>\n",
       "      <td>[26.45, 26.16, 26.1, 25.77, 25.72, 25.78, 26.1...</td>\n",
       "      <td>[6.11, 6.06, 6.125, 6.566, 6.605, 6.676, 7.13,...</td>\n",
       "    </tr>\n",
       "    <tr>\n",
       "      <th>4</th>\n",
       "      <td>['1.1', '1.2']</td>\n",
       "      <td>1</td>\n",
       "      <td>20230612_112630_standard_comp_to_training_D1_s...</td>\n",
       "      <td>20230612_112630_standard_comp_to_training_D1_s...</td>\n",
       "      <td>1.1</td>\n",
       "      <td>8709</td>\n",
       "      <td>8809</td>\n",
       "      <td>8910</td>\n",
       "      <td>1.2</td>\n",
       "      <td>Subj 2 Only</td>\n",
       "      <td>...</td>\n",
       "      <td>[45.23441700698972, 35.83828707637651]</td>\n",
       "      <td>[30.458913657178506, 34.21867013031604]</td>\n",
       "      <td>[59.89132415244771, 34.13310301149612]</td>\n",
       "      <td>1.2</td>\n",
       "      <td>[[[46.68890098287189, 11.495085446056166], [43...</td>\n",
       "      <td>[[[34.36404036584844, 35.615553316175784], [34...</td>\n",
       "      <td>[1.8125, 1.707, 1.6045, 1.506, 1.409, 1.315, 1...</td>\n",
       "      <td>[14.336, 12.875, 11.47, 10.11, 8.81, 7.57, 6.3...</td>\n",
       "      <td>[26.45, 26.16, 26.1, 25.77, 25.72, 25.78, 26.1...</td>\n",
       "      <td>[6.11, 6.06, 6.125, 6.566, 6.605, 6.676, 7.13,...</td>\n",
       "    </tr>\n",
       "  </tbody>\n",
       "</table>\n",
       "<p>5 rows × 88 columns</p>\n",
       "</div>"
      ],
      "text/plain": [
       "  tracked_subject  box_number  \\\n",
       "0  ['1.1', '1.2']           1   \n",
       "1  ['1.1', '1.2']           1   \n",
       "2  ['1.1', '1.2']           1   \n",
       "3  ['1.1', '1.2']           1   \n",
       "4  ['1.1', '1.2']           1   \n",
       "\n",
       "                                          sleap_name  \\\n",
       "0  20230612_112630_standard_comp_to_training_D1_s...   \n",
       "1  20230612_112630_standard_comp_to_training_D1_s...   \n",
       "2  20230612_112630_standard_comp_to_training_D1_s...   \n",
       "3  20230612_112630_standard_comp_to_training_D1_s...   \n",
       "4  20230612_112630_standard_comp_to_training_D1_s...   \n",
       "\n",
       "                                          video_name current_subject  \\\n",
       "0  20230612_112630_standard_comp_to_training_D1_s...             1.1   \n",
       "1  20230612_112630_standard_comp_to_training_D1_s...             1.1   \n",
       "2  20230612_112630_standard_comp_to_training_D1_s...             1.1   \n",
       "3  20230612_112630_standard_comp_to_training_D1_s...             1.1   \n",
       "4  20230612_112630_standard_comp_to_training_D1_s...             1.1   \n",
       "\n",
       "   tone_start_frame  reward_start_frame  tone_stop_frame condition  \\\n",
       "0              1125                1225             1324       1.1   \n",
       "1              3519                3619             3720       1.2   \n",
       "2              5815                5915             6014       1.2   \n",
       "3              7612                7712             7811       1.2   \n",
       "4              8709                8809             8910       1.2   \n",
       "\n",
       "    competition_closeness  ...                             reward_port  \\\n",
       "0  Subj 1 blocking Subj 2  ...  [45.23441700698972, 35.83828707637651]   \n",
       "1             Subj 2 Only  ...  [45.23441700698972, 35.83828707637651]   \n",
       "2  Subj 2 blocking Subj 1  ...  [45.23441700698972, 35.83828707637651]   \n",
       "3             Subj 2 Only  ...  [45.23441700698972, 35.83828707637651]   \n",
       "4             Subj 2 Only  ...  [45.23441700698972, 35.83828707637651]   \n",
       "\n",
       "                           box_bottom_left  \\\n",
       "0  [30.458913657178506, 34.21867013031604]   \n",
       "1  [30.458913657178506, 34.21867013031604]   \n",
       "2  [30.458913657178506, 34.21867013031604]   \n",
       "3  [30.458913657178506, 34.21867013031604]   \n",
       "4  [30.458913657178506, 34.21867013031604]   \n",
       "\n",
       "                         box_bottom_right agent  \\\n",
       "0  [59.89132415244771, 34.13310301149612]   1.2   \n",
       "1  [59.89132415244771, 34.13310301149612]   1.2   \n",
       "2  [59.89132415244771, 34.13310301149612]   1.2   \n",
       "3  [59.89132415244771, 34.13310301149612]   1.2   \n",
       "4  [59.89132415244771, 34.13310301149612]   1.2   \n",
       "\n",
       "                                   subject_locations  \\\n",
       "0  [[[46.68890098287189, 11.495085446056166], [43...   \n",
       "1  [[[46.68890098287189, 11.495085446056166], [43...   \n",
       "2  [[[46.68890098287189, 11.495085446056166], [43...   \n",
       "3  [[[46.68890098287189, 11.495085446056166], [43...   \n",
       "4  [[[46.68890098287189, 11.495085446056166], [43...   \n",
       "\n",
       "                                     agent_locations  \\\n",
       "0  [[[34.36404036584844, 35.615553316175784], [34...   \n",
       "1  [[[34.36404036584844, 35.615553316175784], [34...   \n",
       "2  [[[34.36404036584844, 35.615553316175784], [34...   \n",
       "3  [[[34.36404036584844, 35.615553316175784], [34...   \n",
       "4  [[[34.36404036584844, 35.615553316175784], [34...   \n",
       "\n",
       "                             subject_thorax_velocity  \\\n",
       "0  [1.8125, 1.707, 1.6045, 1.506, 1.409, 1.315, 1...   \n",
       "1  [1.8125, 1.707, 1.6045, 1.506, 1.409, 1.315, 1...   \n",
       "2  [1.8125, 1.707, 1.6045, 1.506, 1.409, 1.315, 1...   \n",
       "3  [1.8125, 1.707, 1.6045, 1.506, 1.409, 1.315, 1...   \n",
       "4  [1.8125, 1.707, 1.6045, 1.506, 1.409, 1.315, 1...   \n",
       "\n",
       "                               agent_thorax_velocity  \\\n",
       "0  [14.336, 12.875, 11.47, 10.11, 8.81, 7.57, 6.3...   \n",
       "1  [14.336, 12.875, 11.47, 10.11, 8.81, 7.57, 6.3...   \n",
       "2  [14.336, 12.875, 11.47, 10.11, 8.81, 7.57, 6.3...   \n",
       "3  [14.336, 12.875, 11.47, 10.11, 8.81, 7.57, 6.3...   \n",
       "4  [14.336, 12.875, 11.47, 10.11, 8.81, 7.57, 6.3...   \n",
       "\n",
       "                       subject_thorax_to_reward_port  \\\n",
       "0  [26.45, 26.16, 26.1, 25.77, 25.72, 25.78, 26.1...   \n",
       "1  [26.45, 26.16, 26.1, 25.77, 25.72, 25.78, 26.1...   \n",
       "2  [26.45, 26.16, 26.1, 25.77, 25.72, 25.78, 26.1...   \n",
       "3  [26.45, 26.16, 26.1, 25.77, 25.72, 25.78, 26.1...   \n",
       "4  [26.45, 26.16, 26.1, 25.77, 25.72, 25.78, 26.1...   \n",
       "\n",
       "                         agent_thorax_to_reward_port  \n",
       "0  [6.11, 6.06, 6.125, 6.566, 6.605, 6.676, 7.13,...  \n",
       "1  [6.11, 6.06, 6.125, 6.566, 6.605, 6.676, 7.13,...  \n",
       "2  [6.11, 6.06, 6.125, 6.566, 6.605, 6.676, 7.13,...  \n",
       "3  [6.11, 6.06, 6.125, 6.566, 6.605, 6.676, 7.13,...  \n",
       "4  [6.11, 6.06, 6.125, 6.566, 6.605, 6.676, 7.13,...  \n",
       "\n",
       "[5 rows x 88 columns]"
      ]
     },
     "execution_count": 43,
     "metadata": {},
     "output_type": "execute_result"
    }
   ],
   "source": [
    "TRIALS_AND_SPECTRAL_DF.head()"
   ]
  },
  {
   "cell_type": "code",
   "execution_count": 44,
   "metadata": {
    "tags": []
   },
   "outputs": [
    {
     "data": {
      "text/plain": [
       "Index(['tracked_subject', 'box_number', 'sleap_name', 'video_name',\n",
       "       'current_subject', 'tone_start_frame', 'reward_start_frame',\n",
       "       'tone_stop_frame', 'condition', 'competition_closeness', 'notes',\n",
       "       'experiment', 'session_dir', 'all_subjects', 'tone_start_timestamp',\n",
       "       'tone_stop_timestamp', 'trial_label', 'cohort', 'tone_frames',\n",
       "       'box_1_port_entry_frames', 'box_2_port_entry_frames', 'session_path',\n",
       "       'recording', 'subject', 'first_timestamp', 'last_timestamp',\n",
       "       'video_timestamps', 'tone_timestamps', 'box_1_port_entry_timestamps',\n",
       "       'box_2_port_entry_timestamps', 'lfp_timestamps',\n",
       "       'mPFC_RMS_filtered_power_all_frequencies_all_windows',\n",
       "       'MD_RMS_filtered_power_all_frequencies_all_windows',\n",
       "       'LH_RMS_filtered_power_all_frequencies_all_windows',\n",
       "       'BLA_RMS_filtered_power_all_frequencies_all_windows',\n",
       "       'vHPC_RMS_filtered_power_all_frequencies_all_windows',\n",
       "       'power_timestamps', 'power_calculation_frequencies',\n",
       "       'BLA_LH_RMS_filtered_coherence_all_frequencies_all_windows',\n",
       "       'BLA_MD_RMS_filtered_coherence_all_frequencies_all_windows',\n",
       "       'BLA_mPFC_RMS_filtered_coherence_all_frequencies_all_windows',\n",
       "       'BLA_vHPC_RMS_filtered_coherence_all_frequencies_all_windows',\n",
       "       'LH_MD_RMS_filtered_coherence_all_frequencies_all_windows',\n",
       "       'LH_mPFC_RMS_filtered_coherence_all_frequencies_all_windows',\n",
       "       'LH_vHPC_RMS_filtered_coherence_all_frequencies_all_windows',\n",
       "       'MD_mPFC_RMS_filtered_coherence_all_frequencies_all_windows',\n",
       "       'MD_vHPC_RMS_filtered_coherence_all_frequencies_all_windows',\n",
       "       'mPFC_vHPC_RMS_filtered_coherence_all_frequencies_all_windows',\n",
       "       'coherence_timestamps', 'coherence_calculation_frequencies',\n",
       "       'BLA_LH_granger_all_frequencies_all_windows',\n",
       "       'LH_BLA_granger_all_frequencies_all_windows',\n",
       "       'BLA_MD_granger_all_frequencies_all_windows',\n",
       "       'MD_BLA_granger_all_frequencies_all_windows',\n",
       "       'BLA_mPFC_granger_all_frequencies_all_windows',\n",
       "       'mPFC_BLA_granger_all_frequencies_all_windows',\n",
       "       'BLA_vHPC_granger_all_frequencies_all_windows',\n",
       "       'vHPC_BLA_granger_all_frequencies_all_windows',\n",
       "       'LH_MD_granger_all_frequencies_all_windows',\n",
       "       'MD_LH_granger_all_frequencies_all_windows',\n",
       "       'LH_mPFC_granger_all_frequencies_all_windows',\n",
       "       'mPFC_LH_granger_all_frequencies_all_windows',\n",
       "       'LH_vHPC_granger_all_frequencies_all_windows',\n",
       "       'vHPC_LH_granger_all_frequencies_all_windows',\n",
       "       'MD_mPFC_granger_all_frequencies_all_windows',\n",
       "       'mPFC_MD_granger_all_frequencies_all_windows',\n",
       "       'MD_vHPC_granger_all_frequencies_all_windows',\n",
       "       'vHPC_MD_granger_all_frequencies_all_windows',\n",
       "       'mPFC_vHPC_granger_all_frequencies_all_windows',\n",
       "       'vHPC_mPFC_granger_all_frequencies_all_windows', 'granger_timestamps',\n",
       "       'granger_calculation_frequencies', 'start_frame', 'stop_frame',\n",
       "       'in_video_subjects', 'body_parts', 'box_top_left', 'box_top_right',\n",
       "       'reward_port', 'box_bottom_left', 'box_bottom_right', 'agent',\n",
       "       'subject_locations', 'agent_locations', 'subject_thorax_velocity',\n",
       "       'agent_thorax_velocity', 'subject_thorax_to_reward_port',\n",
       "       'agent_thorax_to_reward_port'],\n",
       "      dtype='object')"
      ]
     },
     "execution_count": 44,
     "metadata": {},
     "output_type": "execute_result"
    }
   ],
   "source": [
    "TRIALS_AND_SPECTRAL_DF.columns"
   ]
  },
  {
   "cell_type": "code",
   "execution_count": 45,
   "metadata": {},
   "outputs": [
    {
     "data": {
      "text/html": [
       "<div>\n",
       "<style scoped>\n",
       "    .dataframe tbody tr th:only-of-type {\n",
       "        vertical-align: middle;\n",
       "    }\n",
       "\n",
       "    .dataframe tbody tr th {\n",
       "        vertical-align: top;\n",
       "    }\n",
       "\n",
       "    .dataframe thead th {\n",
       "        text-align: right;\n",
       "    }\n",
       "</style>\n",
       "<table border=\"1\" class=\"dataframe\">\n",
       "  <thead>\n",
       "    <tr style=\"text-align: right;\">\n",
       "      <th></th>\n",
       "      <th>tracked_subject</th>\n",
       "      <th>box_number</th>\n",
       "      <th>sleap_name</th>\n",
       "      <th>video_name</th>\n",
       "      <th>current_subject</th>\n",
       "      <th>tone_start_frame</th>\n",
       "      <th>reward_start_frame</th>\n",
       "      <th>tone_stop_frame</th>\n",
       "      <th>condition</th>\n",
       "      <th>competition_closeness</th>\n",
       "      <th>...</th>\n",
       "      <th>reward_port</th>\n",
       "      <th>box_bottom_left</th>\n",
       "      <th>box_bottom_right</th>\n",
       "      <th>agent</th>\n",
       "      <th>subject_locations</th>\n",
       "      <th>agent_locations</th>\n",
       "      <th>subject_thorax_velocity</th>\n",
       "      <th>agent_thorax_velocity</th>\n",
       "      <th>subject_thorax_to_reward_port</th>\n",
       "      <th>agent_thorax_to_reward_port</th>\n",
       "    </tr>\n",
       "  </thead>\n",
       "  <tbody>\n",
       "    <tr>\n",
       "      <th>0</th>\n",
       "      <td>['1.1', '1.2']</td>\n",
       "      <td>1</td>\n",
       "      <td>20230612_112630_standard_comp_to_training_D1_s...</td>\n",
       "      <td>20230612_112630_standard_comp_to_training_D1_s...</td>\n",
       "      <td>1.1</td>\n",
       "      <td>1125</td>\n",
       "      <td>1225</td>\n",
       "      <td>1324</td>\n",
       "      <td>1.1</td>\n",
       "      <td>Subj 1 blocking Subj 2</td>\n",
       "      <td>...</td>\n",
       "      <td>[45.23441700698972, 35.83828707637651]</td>\n",
       "      <td>[30.458913657178506, 34.21867013031604]</td>\n",
       "      <td>[59.89132415244771, 34.13310301149612]</td>\n",
       "      <td>1.2</td>\n",
       "      <td>[[[46.68890098287189, 11.495085446056166], [43...</td>\n",
       "      <td>[[[34.36404036584844, 35.615553316175784], [34...</td>\n",
       "      <td>[1.8125, 1.707, 1.6045, 1.506, 1.409, 1.315, 1...</td>\n",
       "      <td>[14.336, 12.875, 11.47, 10.11, 8.81, 7.57, 6.3...</td>\n",
       "      <td>[26.45, 26.16, 26.1, 25.77, 25.72, 25.78, 26.1...</td>\n",
       "      <td>[6.11, 6.06, 6.125, 6.566, 6.605, 6.676, 7.13,...</td>\n",
       "    </tr>\n",
       "    <tr>\n",
       "      <th>1</th>\n",
       "      <td>['1.1', '1.2']</td>\n",
       "      <td>1</td>\n",
       "      <td>20230612_112630_standard_comp_to_training_D1_s...</td>\n",
       "      <td>20230612_112630_standard_comp_to_training_D1_s...</td>\n",
       "      <td>1.1</td>\n",
       "      <td>3519</td>\n",
       "      <td>3619</td>\n",
       "      <td>3720</td>\n",
       "      <td>1.2</td>\n",
       "      <td>Subj 2 Only</td>\n",
       "      <td>...</td>\n",
       "      <td>[45.23441700698972, 35.83828707637651]</td>\n",
       "      <td>[30.458913657178506, 34.21867013031604]</td>\n",
       "      <td>[59.89132415244771, 34.13310301149612]</td>\n",
       "      <td>1.2</td>\n",
       "      <td>[[[46.68890098287189, 11.495085446056166], [43...</td>\n",
       "      <td>[[[34.36404036584844, 35.615553316175784], [34...</td>\n",
       "      <td>[1.8125, 1.707, 1.6045, 1.506, 1.409, 1.315, 1...</td>\n",
       "      <td>[14.336, 12.875, 11.47, 10.11, 8.81, 7.57, 6.3...</td>\n",
       "      <td>[26.45, 26.16, 26.1, 25.77, 25.72, 25.78, 26.1...</td>\n",
       "      <td>[6.11, 6.06, 6.125, 6.566, 6.605, 6.676, 7.13,...</td>\n",
       "    </tr>\n",
       "    <tr>\n",
       "      <th>2</th>\n",
       "      <td>['1.1', '1.2']</td>\n",
       "      <td>1</td>\n",
       "      <td>20230612_112630_standard_comp_to_training_D1_s...</td>\n",
       "      <td>20230612_112630_standard_comp_to_training_D1_s...</td>\n",
       "      <td>1.1</td>\n",
       "      <td>5815</td>\n",
       "      <td>5915</td>\n",
       "      <td>6014</td>\n",
       "      <td>1.2</td>\n",
       "      <td>Subj 2 blocking Subj 1</td>\n",
       "      <td>...</td>\n",
       "      <td>[45.23441700698972, 35.83828707637651]</td>\n",
       "      <td>[30.458913657178506, 34.21867013031604]</td>\n",
       "      <td>[59.89132415244771, 34.13310301149612]</td>\n",
       "      <td>1.2</td>\n",
       "      <td>[[[46.68890098287189, 11.495085446056166], [43...</td>\n",
       "      <td>[[[34.36404036584844, 35.615553316175784], [34...</td>\n",
       "      <td>[1.8125, 1.707, 1.6045, 1.506, 1.409, 1.315, 1...</td>\n",
       "      <td>[14.336, 12.875, 11.47, 10.11, 8.81, 7.57, 6.3...</td>\n",
       "      <td>[26.45, 26.16, 26.1, 25.77, 25.72, 25.78, 26.1...</td>\n",
       "      <td>[6.11, 6.06, 6.125, 6.566, 6.605, 6.676, 7.13,...</td>\n",
       "    </tr>\n",
       "    <tr>\n",
       "      <th>3</th>\n",
       "      <td>['1.1', '1.2']</td>\n",
       "      <td>1</td>\n",
       "      <td>20230612_112630_standard_comp_to_training_D1_s...</td>\n",
       "      <td>20230612_112630_standard_comp_to_training_D1_s...</td>\n",
       "      <td>1.1</td>\n",
       "      <td>7612</td>\n",
       "      <td>7712</td>\n",
       "      <td>7811</td>\n",
       "      <td>1.2</td>\n",
       "      <td>Subj 2 Only</td>\n",
       "      <td>...</td>\n",
       "      <td>[45.23441700698972, 35.83828707637651]</td>\n",
       "      <td>[30.458913657178506, 34.21867013031604]</td>\n",
       "      <td>[59.89132415244771, 34.13310301149612]</td>\n",
       "      <td>1.2</td>\n",
       "      <td>[[[46.68890098287189, 11.495085446056166], [43...</td>\n",
       "      <td>[[[34.36404036584844, 35.615553316175784], [34...</td>\n",
       "      <td>[1.8125, 1.707, 1.6045, 1.506, 1.409, 1.315, 1...</td>\n",
       "      <td>[14.336, 12.875, 11.47, 10.11, 8.81, 7.57, 6.3...</td>\n",
       "      <td>[26.45, 26.16, 26.1, 25.77, 25.72, 25.78, 26.1...</td>\n",
       "      <td>[6.11, 6.06, 6.125, 6.566, 6.605, 6.676, 7.13,...</td>\n",
       "    </tr>\n",
       "    <tr>\n",
       "      <th>4</th>\n",
       "      <td>['1.1', '1.2']</td>\n",
       "      <td>1</td>\n",
       "      <td>20230612_112630_standard_comp_to_training_D1_s...</td>\n",
       "      <td>20230612_112630_standard_comp_to_training_D1_s...</td>\n",
       "      <td>1.1</td>\n",
       "      <td>8709</td>\n",
       "      <td>8809</td>\n",
       "      <td>8910</td>\n",
       "      <td>1.2</td>\n",
       "      <td>Subj 2 Only</td>\n",
       "      <td>...</td>\n",
       "      <td>[45.23441700698972, 35.83828707637651]</td>\n",
       "      <td>[30.458913657178506, 34.21867013031604]</td>\n",
       "      <td>[59.89132415244771, 34.13310301149612]</td>\n",
       "      <td>1.2</td>\n",
       "      <td>[[[46.68890098287189, 11.495085446056166], [43...</td>\n",
       "      <td>[[[34.36404036584844, 35.615553316175784], [34...</td>\n",
       "      <td>[1.8125, 1.707, 1.6045, 1.506, 1.409, 1.315, 1...</td>\n",
       "      <td>[14.336, 12.875, 11.47, 10.11, 8.81, 7.57, 6.3...</td>\n",
       "      <td>[26.45, 26.16, 26.1, 25.77, 25.72, 25.78, 26.1...</td>\n",
       "      <td>[6.11, 6.06, 6.125, 6.566, 6.605, 6.676, 7.13,...</td>\n",
       "    </tr>\n",
       "    <tr>\n",
       "      <th>...</th>\n",
       "      <td>...</td>\n",
       "      <td>...</td>\n",
       "      <td>...</td>\n",
       "      <td>...</td>\n",
       "      <td>...</td>\n",
       "      <td>...</td>\n",
       "      <td>...</td>\n",
       "      <td>...</td>\n",
       "      <td>...</td>\n",
       "      <td>...</td>\n",
       "      <td>...</td>\n",
       "      <td>...</td>\n",
       "      <td>...</td>\n",
       "      <td>...</td>\n",
       "      <td>...</td>\n",
       "      <td>...</td>\n",
       "      <td>...</td>\n",
       "      <td>...</td>\n",
       "      <td>...</td>\n",
       "      <td>...</td>\n",
       "      <td>...</td>\n",
       "    </tr>\n",
       "    <tr>\n",
       "      <th>1364</th>\n",
       "      <td>['1.2', '2.2']</td>\n",
       "      <td>2</td>\n",
       "      <td>20230630_115506_standard_comp_to_novel_agent_D...</td>\n",
       "      <td>20230630_115506_standard_comp_to_novel_agent_D...</td>\n",
       "      <td>1.2</td>\n",
       "      <td>60714</td>\n",
       "      <td>60814</td>\n",
       "      <td>60914</td>\n",
       "      <td>2.2</td>\n",
       "      <td>After trial</td>\n",
       "      <td>...</td>\n",
       "      <td>[46.21123795031396, 36.95847031673951]</td>\n",
       "      <td>[31.450146241148413, 35.66393919018587]</td>\n",
       "      <td>[61.147866209397755, 35.553202690286255]</td>\n",
       "      <td>2.2</td>\n",
       "      <td>[[[4.371455668449597, 33.21801163507191], [58....</td>\n",
       "      <td>[[[32.683056182830434, 34.92733973755609], [32...</td>\n",
       "      <td>[0.0, 0.0, 0.0, 0.0, 0.0, 0.0, 0.0, 0.0, 0.0, ...</td>\n",
       "      <td>[0.0756, 0.0727, 0.0699, 0.06714, 0.0644, 0.06...</td>\n",
       "      <td>[41.38, 41.38, 41.38, 41.38, 41.38, 41.38, 41....</td>\n",
       "      <td>[9.98, 9.97, 9.97, 9.97, 9.97, 9.96, 9.96, 10....</td>\n",
       "    </tr>\n",
       "    <tr>\n",
       "      <th>1365</th>\n",
       "      <td>['1.2', '2.2']</td>\n",
       "      <td>2</td>\n",
       "      <td>20230630_115506_standard_comp_to_novel_agent_D...</td>\n",
       "      <td>20230630_115506_standard_comp_to_novel_agent_D...</td>\n",
       "      <td>1.2</td>\n",
       "      <td>62211</td>\n",
       "      <td>62311</td>\n",
       "      <td>62410</td>\n",
       "      <td>2.2</td>\n",
       "      <td>After trial</td>\n",
       "      <td>...</td>\n",
       "      <td>[46.21123795031396, 36.95847031673951]</td>\n",
       "      <td>[31.450146241148413, 35.66393919018587]</td>\n",
       "      <td>[61.147866209397755, 35.553202690286255]</td>\n",
       "      <td>2.2</td>\n",
       "      <td>[[[4.371455668449597, 33.21801163507191], [58....</td>\n",
       "      <td>[[[32.683056182830434, 34.92733973755609], [32...</td>\n",
       "      <td>[0.0, 0.0, 0.0, 0.0, 0.0, 0.0, 0.0, 0.0, 0.0, ...</td>\n",
       "      <td>[0.0756, 0.0727, 0.0699, 0.06714, 0.0644, 0.06...</td>\n",
       "      <td>[41.38, 41.38, 41.38, 41.38, 41.38, 41.38, 41....</td>\n",
       "      <td>[9.98, 9.97, 9.97, 9.97, 9.97, 9.96, 9.96, 10....</td>\n",
       "    </tr>\n",
       "    <tr>\n",
       "      <th>1366</th>\n",
       "      <td>['1.2', '2.2']</td>\n",
       "      <td>2</td>\n",
       "      <td>20230630_115506_standard_comp_to_novel_agent_D...</td>\n",
       "      <td>20230630_115506_standard_comp_to_novel_agent_D...</td>\n",
       "      <td>1.2</td>\n",
       "      <td>64207</td>\n",
       "      <td>64307</td>\n",
       "      <td>64406</td>\n",
       "      <td>2.2</td>\n",
       "      <td>After trial</td>\n",
       "      <td>...</td>\n",
       "      <td>[46.21123795031396, 36.95847031673951]</td>\n",
       "      <td>[31.450146241148413, 35.66393919018587]</td>\n",
       "      <td>[61.147866209397755, 35.553202690286255]</td>\n",
       "      <td>2.2</td>\n",
       "      <td>[[[4.371455668449597, 33.21801163507191], [58....</td>\n",
       "      <td>[[[32.683056182830434, 34.92733973755609], [32...</td>\n",
       "      <td>[0.0, 0.0, 0.0, 0.0, 0.0, 0.0, 0.0, 0.0, 0.0, ...</td>\n",
       "      <td>[0.0756, 0.0727, 0.0699, 0.06714, 0.0644, 0.06...</td>\n",
       "      <td>[41.38, 41.38, 41.38, 41.38, 41.38, 41.38, 41....</td>\n",
       "      <td>[9.98, 9.97, 9.97, 9.97, 9.97, 9.96, 9.96, 10....</td>\n",
       "    </tr>\n",
       "    <tr>\n",
       "      <th>1367</th>\n",
       "      <td>['1.2', '2.2']</td>\n",
       "      <td>2</td>\n",
       "      <td>20230630_115506_standard_comp_to_novel_agent_D...</td>\n",
       "      <td>20230630_115506_standard_comp_to_novel_agent_D...</td>\n",
       "      <td>1.2</td>\n",
       "      <td>66104</td>\n",
       "      <td>66204</td>\n",
       "      <td>66303</td>\n",
       "      <td>2.2</td>\n",
       "      <td>After trial</td>\n",
       "      <td>...</td>\n",
       "      <td>[46.21123795031396, 36.95847031673951]</td>\n",
       "      <td>[31.450146241148413, 35.66393919018587]</td>\n",
       "      <td>[61.147866209397755, 35.553202690286255]</td>\n",
       "      <td>2.2</td>\n",
       "      <td>[[[4.371455668449597, 33.21801163507191], [58....</td>\n",
       "      <td>[[[32.683056182830434, 34.92733973755609], [32...</td>\n",
       "      <td>[0.0, 0.0, 0.0, 0.0, 0.0, 0.0, 0.0, 0.0, 0.0, ...</td>\n",
       "      <td>[0.0756, 0.0727, 0.0699, 0.06714, 0.0644, 0.06...</td>\n",
       "      <td>[41.38, 41.38, 41.38, 41.38, 41.38, 41.38, 41....</td>\n",
       "      <td>[9.98, 9.97, 9.97, 9.97, 9.97, 9.96, 9.96, 10....</td>\n",
       "    </tr>\n",
       "    <tr>\n",
       "      <th>1368</th>\n",
       "      <td>['1.2', '2.2']</td>\n",
       "      <td>2</td>\n",
       "      <td>20230630_115506_standard_comp_to_novel_agent_D...</td>\n",
       "      <td>20230630_115506_standard_comp_to_novel_agent_D...</td>\n",
       "      <td>1.2</td>\n",
       "      <td>67102</td>\n",
       "      <td>67202</td>\n",
       "      <td>67301</td>\n",
       "      <td>2.2</td>\n",
       "      <td>After trial</td>\n",
       "      <td>...</td>\n",
       "      <td>[46.21123795031396, 36.95847031673951]</td>\n",
       "      <td>[31.450146241148413, 35.66393919018587]</td>\n",
       "      <td>[61.147866209397755, 35.553202690286255]</td>\n",
       "      <td>2.2</td>\n",
       "      <td>[[[4.371455668449597, 33.21801163507191], [58....</td>\n",
       "      <td>[[[32.683056182830434, 34.92733973755609], [32...</td>\n",
       "      <td>[0.0, 0.0, 0.0, 0.0, 0.0, 0.0, 0.0, 0.0, 0.0, ...</td>\n",
       "      <td>[0.0756, 0.0727, 0.0699, 0.06714, 0.0644, 0.06...</td>\n",
       "      <td>[41.38, 41.38, 41.38, 41.38, 41.38, 41.38, 41....</td>\n",
       "      <td>[9.98, 9.97, 9.97, 9.97, 9.97, 9.96, 9.96, 10....</td>\n",
       "    </tr>\n",
       "  </tbody>\n",
       "</table>\n",
       "<p>1369 rows × 88 columns</p>\n",
       "</div>"
      ],
      "text/plain": [
       "     tracked_subject  box_number  \\\n",
       "0     ['1.1', '1.2']           1   \n",
       "1     ['1.1', '1.2']           1   \n",
       "2     ['1.1', '1.2']           1   \n",
       "3     ['1.1', '1.2']           1   \n",
       "4     ['1.1', '1.2']           1   \n",
       "...              ...         ...   \n",
       "1364  ['1.2', '2.2']           2   \n",
       "1365  ['1.2', '2.2']           2   \n",
       "1366  ['1.2', '2.2']           2   \n",
       "1367  ['1.2', '2.2']           2   \n",
       "1368  ['1.2', '2.2']           2   \n",
       "\n",
       "                                             sleap_name  \\\n",
       "0     20230612_112630_standard_comp_to_training_D1_s...   \n",
       "1     20230612_112630_standard_comp_to_training_D1_s...   \n",
       "2     20230612_112630_standard_comp_to_training_D1_s...   \n",
       "3     20230612_112630_standard_comp_to_training_D1_s...   \n",
       "4     20230612_112630_standard_comp_to_training_D1_s...   \n",
       "...                                                 ...   \n",
       "1364  20230630_115506_standard_comp_to_novel_agent_D...   \n",
       "1365  20230630_115506_standard_comp_to_novel_agent_D...   \n",
       "1366  20230630_115506_standard_comp_to_novel_agent_D...   \n",
       "1367  20230630_115506_standard_comp_to_novel_agent_D...   \n",
       "1368  20230630_115506_standard_comp_to_novel_agent_D...   \n",
       "\n",
       "                                             video_name current_subject  \\\n",
       "0     20230612_112630_standard_comp_to_training_D1_s...             1.1   \n",
       "1     20230612_112630_standard_comp_to_training_D1_s...             1.1   \n",
       "2     20230612_112630_standard_comp_to_training_D1_s...             1.1   \n",
       "3     20230612_112630_standard_comp_to_training_D1_s...             1.1   \n",
       "4     20230612_112630_standard_comp_to_training_D1_s...             1.1   \n",
       "...                                                 ...             ...   \n",
       "1364  20230630_115506_standard_comp_to_novel_agent_D...             1.2   \n",
       "1365  20230630_115506_standard_comp_to_novel_agent_D...             1.2   \n",
       "1366  20230630_115506_standard_comp_to_novel_agent_D...             1.2   \n",
       "1367  20230630_115506_standard_comp_to_novel_agent_D...             1.2   \n",
       "1368  20230630_115506_standard_comp_to_novel_agent_D...             1.2   \n",
       "\n",
       "      tone_start_frame  reward_start_frame  tone_stop_frame condition  \\\n",
       "0                 1125                1225             1324       1.1   \n",
       "1                 3519                3619             3720       1.2   \n",
       "2                 5815                5915             6014       1.2   \n",
       "3                 7612                7712             7811       1.2   \n",
       "4                 8709                8809             8910       1.2   \n",
       "...                ...                 ...              ...       ...   \n",
       "1364             60714               60814            60914       2.2   \n",
       "1365             62211               62311            62410       2.2   \n",
       "1366             64207               64307            64406       2.2   \n",
       "1367             66104               66204            66303       2.2   \n",
       "1368             67102               67202            67301       2.2   \n",
       "\n",
       "       competition_closeness  ...                             reward_port  \\\n",
       "0     Subj 1 blocking Subj 2  ...  [45.23441700698972, 35.83828707637651]   \n",
       "1                Subj 2 Only  ...  [45.23441700698972, 35.83828707637651]   \n",
       "2     Subj 2 blocking Subj 1  ...  [45.23441700698972, 35.83828707637651]   \n",
       "3                Subj 2 Only  ...  [45.23441700698972, 35.83828707637651]   \n",
       "4                Subj 2 Only  ...  [45.23441700698972, 35.83828707637651]   \n",
       "...                      ...  ...                                     ...   \n",
       "1364             After trial  ...  [46.21123795031396, 36.95847031673951]   \n",
       "1365             After trial  ...  [46.21123795031396, 36.95847031673951]   \n",
       "1366             After trial  ...  [46.21123795031396, 36.95847031673951]   \n",
       "1367             After trial  ...  [46.21123795031396, 36.95847031673951]   \n",
       "1368             After trial  ...  [46.21123795031396, 36.95847031673951]   \n",
       "\n",
       "                              box_bottom_left  \\\n",
       "0     [30.458913657178506, 34.21867013031604]   \n",
       "1     [30.458913657178506, 34.21867013031604]   \n",
       "2     [30.458913657178506, 34.21867013031604]   \n",
       "3     [30.458913657178506, 34.21867013031604]   \n",
       "4     [30.458913657178506, 34.21867013031604]   \n",
       "...                                       ...   \n",
       "1364  [31.450146241148413, 35.66393919018587]   \n",
       "1365  [31.450146241148413, 35.66393919018587]   \n",
       "1366  [31.450146241148413, 35.66393919018587]   \n",
       "1367  [31.450146241148413, 35.66393919018587]   \n",
       "1368  [31.450146241148413, 35.66393919018587]   \n",
       "\n",
       "                              box_bottom_right agent  \\\n",
       "0       [59.89132415244771, 34.13310301149612]   1.2   \n",
       "1       [59.89132415244771, 34.13310301149612]   1.2   \n",
       "2       [59.89132415244771, 34.13310301149612]   1.2   \n",
       "3       [59.89132415244771, 34.13310301149612]   1.2   \n",
       "4       [59.89132415244771, 34.13310301149612]   1.2   \n",
       "...                                        ...   ...   \n",
       "1364  [61.147866209397755, 35.553202690286255]   2.2   \n",
       "1365  [61.147866209397755, 35.553202690286255]   2.2   \n",
       "1366  [61.147866209397755, 35.553202690286255]   2.2   \n",
       "1367  [61.147866209397755, 35.553202690286255]   2.2   \n",
       "1368  [61.147866209397755, 35.553202690286255]   2.2   \n",
       "\n",
       "                                      subject_locations  \\\n",
       "0     [[[46.68890098287189, 11.495085446056166], [43...   \n",
       "1     [[[46.68890098287189, 11.495085446056166], [43...   \n",
       "2     [[[46.68890098287189, 11.495085446056166], [43...   \n",
       "3     [[[46.68890098287189, 11.495085446056166], [43...   \n",
       "4     [[[46.68890098287189, 11.495085446056166], [43...   \n",
       "...                                                 ...   \n",
       "1364  [[[4.371455668449597, 33.21801163507191], [58....   \n",
       "1365  [[[4.371455668449597, 33.21801163507191], [58....   \n",
       "1366  [[[4.371455668449597, 33.21801163507191], [58....   \n",
       "1367  [[[4.371455668449597, 33.21801163507191], [58....   \n",
       "1368  [[[4.371455668449597, 33.21801163507191], [58....   \n",
       "\n",
       "                                        agent_locations  \\\n",
       "0     [[[34.36404036584844, 35.615553316175784], [34...   \n",
       "1     [[[34.36404036584844, 35.615553316175784], [34...   \n",
       "2     [[[34.36404036584844, 35.615553316175784], [34...   \n",
       "3     [[[34.36404036584844, 35.615553316175784], [34...   \n",
       "4     [[[34.36404036584844, 35.615553316175784], [34...   \n",
       "...                                                 ...   \n",
       "1364  [[[32.683056182830434, 34.92733973755609], [32...   \n",
       "1365  [[[32.683056182830434, 34.92733973755609], [32...   \n",
       "1366  [[[32.683056182830434, 34.92733973755609], [32...   \n",
       "1367  [[[32.683056182830434, 34.92733973755609], [32...   \n",
       "1368  [[[32.683056182830434, 34.92733973755609], [32...   \n",
       "\n",
       "                                subject_thorax_velocity  \\\n",
       "0     [1.8125, 1.707, 1.6045, 1.506, 1.409, 1.315, 1...   \n",
       "1     [1.8125, 1.707, 1.6045, 1.506, 1.409, 1.315, 1...   \n",
       "2     [1.8125, 1.707, 1.6045, 1.506, 1.409, 1.315, 1...   \n",
       "3     [1.8125, 1.707, 1.6045, 1.506, 1.409, 1.315, 1...   \n",
       "4     [1.8125, 1.707, 1.6045, 1.506, 1.409, 1.315, 1...   \n",
       "...                                                 ...   \n",
       "1364  [0.0, 0.0, 0.0, 0.0, 0.0, 0.0, 0.0, 0.0, 0.0, ...   \n",
       "1365  [0.0, 0.0, 0.0, 0.0, 0.0, 0.0, 0.0, 0.0, 0.0, ...   \n",
       "1366  [0.0, 0.0, 0.0, 0.0, 0.0, 0.0, 0.0, 0.0, 0.0, ...   \n",
       "1367  [0.0, 0.0, 0.0, 0.0, 0.0, 0.0, 0.0, 0.0, 0.0, ...   \n",
       "1368  [0.0, 0.0, 0.0, 0.0, 0.0, 0.0, 0.0, 0.0, 0.0, ...   \n",
       "\n",
       "                                  agent_thorax_velocity  \\\n",
       "0     [14.336, 12.875, 11.47, 10.11, 8.81, 7.57, 6.3...   \n",
       "1     [14.336, 12.875, 11.47, 10.11, 8.81, 7.57, 6.3...   \n",
       "2     [14.336, 12.875, 11.47, 10.11, 8.81, 7.57, 6.3...   \n",
       "3     [14.336, 12.875, 11.47, 10.11, 8.81, 7.57, 6.3...   \n",
       "4     [14.336, 12.875, 11.47, 10.11, 8.81, 7.57, 6.3...   \n",
       "...                                                 ...   \n",
       "1364  [0.0756, 0.0727, 0.0699, 0.06714, 0.0644, 0.06...   \n",
       "1365  [0.0756, 0.0727, 0.0699, 0.06714, 0.0644, 0.06...   \n",
       "1366  [0.0756, 0.0727, 0.0699, 0.06714, 0.0644, 0.06...   \n",
       "1367  [0.0756, 0.0727, 0.0699, 0.06714, 0.0644, 0.06...   \n",
       "1368  [0.0756, 0.0727, 0.0699, 0.06714, 0.0644, 0.06...   \n",
       "\n",
       "                          subject_thorax_to_reward_port  \\\n",
       "0     [26.45, 26.16, 26.1, 25.77, 25.72, 25.78, 26.1...   \n",
       "1     [26.45, 26.16, 26.1, 25.77, 25.72, 25.78, 26.1...   \n",
       "2     [26.45, 26.16, 26.1, 25.77, 25.72, 25.78, 26.1...   \n",
       "3     [26.45, 26.16, 26.1, 25.77, 25.72, 25.78, 26.1...   \n",
       "4     [26.45, 26.16, 26.1, 25.77, 25.72, 25.78, 26.1...   \n",
       "...                                                 ...   \n",
       "1364  [41.38, 41.38, 41.38, 41.38, 41.38, 41.38, 41....   \n",
       "1365  [41.38, 41.38, 41.38, 41.38, 41.38, 41.38, 41....   \n",
       "1366  [41.38, 41.38, 41.38, 41.38, 41.38, 41.38, 41....   \n",
       "1367  [41.38, 41.38, 41.38, 41.38, 41.38, 41.38, 41....   \n",
       "1368  [41.38, 41.38, 41.38, 41.38, 41.38, 41.38, 41....   \n",
       "\n",
       "                            agent_thorax_to_reward_port  \n",
       "0     [6.11, 6.06, 6.125, 6.566, 6.605, 6.676, 7.13,...  \n",
       "1     [6.11, 6.06, 6.125, 6.566, 6.605, 6.676, 7.13,...  \n",
       "2     [6.11, 6.06, 6.125, 6.566, 6.605, 6.676, 7.13,...  \n",
       "3     [6.11, 6.06, 6.125, 6.566, 6.605, 6.676, 7.13,...  \n",
       "4     [6.11, 6.06, 6.125, 6.566, 6.605, 6.676, 7.13,...  \n",
       "...                                                 ...  \n",
       "1364  [9.98, 9.97, 9.97, 9.97, 9.97, 9.96, 9.96, 10....  \n",
       "1365  [9.98, 9.97, 9.97, 9.97, 9.97, 9.96, 9.96, 10....  \n",
       "1366  [9.98, 9.97, 9.97, 9.97, 9.97, 9.96, 9.96, 10....  \n",
       "1367  [9.98, 9.97, 9.97, 9.97, 9.97, 9.96, 9.96, 10....  \n",
       "1368  [9.98, 9.97, 9.97, 9.97, 9.97, 9.96, 9.96, 10....  \n",
       "\n",
       "[1369 rows x 88 columns]"
      ]
     },
     "execution_count": 45,
     "metadata": {},
     "output_type": "execute_result"
    }
   ],
   "source": [
    "TRIALS_AND_SPECTRAL_DF"
   ]
  },
  {
   "cell_type": "markdown",
   "metadata": {},
   "source": [
    "# Calculating the relevant timestamps"
   ]
  },
  {
   "cell_type": "code",
   "execution_count": 46,
   "metadata": {
    "tags": []
   },
   "outputs": [],
   "source": [
    "TRIALS_AND_SPECTRAL_DF[\"baseline_start_timestamp\"] = TRIALS_AND_SPECTRAL_DF[\"tone_start_timestamp\"] - 30 * 20000"
   ]
  },
  {
   "cell_type": "code",
   "execution_count": 47,
   "metadata": {
    "tags": []
   },
   "outputs": [],
   "source": [
    "TRIALS_AND_SPECTRAL_DF[\"baseline_stop_timestamp\"] = TRIALS_AND_SPECTRAL_DF[\"tone_start_timestamp\"] - 20 * 20000"
   ]
  },
  {
   "cell_type": "code",
   "execution_count": 48,
   "metadata": {
    "tags": []
   },
   "outputs": [
    {
     "data": {
      "text/plain": [
       "0     526742\n",
       "1    2926740\n",
       "2    5226740\n",
       "3    7026736\n",
       "4    8126734\n",
       "Name: baseline_start_timestamp, dtype: int64"
      ]
     },
     "execution_count": 48,
     "metadata": {},
     "output_type": "execute_result"
    }
   ],
   "source": [
    "TRIALS_AND_SPECTRAL_DF[\"baseline_start_timestamp\"].head()"
   ]
  },
  {
   "cell_type": "code",
   "execution_count": 49,
   "metadata": {
    "tags": []
   },
   "outputs": [
    {
     "data": {
      "text/plain": [
       "0     726742\n",
       "1    3126740\n",
       "2    5426740\n",
       "3    7226736\n",
       "4    8326734\n",
       "Name: baseline_stop_timestamp, dtype: int64"
      ]
     },
     "execution_count": 49,
     "metadata": {},
     "output_type": "execute_result"
    }
   ],
   "source": [
    "TRIALS_AND_SPECTRAL_DF[\"baseline_stop_timestamp\"].head()"
   ]
  },
  {
   "cell_type": "code",
   "execution_count": 50,
   "metadata": {
    "tags": []
   },
   "outputs": [
    {
     "data": {
      "text/plain": [
       "0    1126742\n",
       "1    3526740\n",
       "2    5826740\n",
       "3    7626736\n",
       "4    8726734\n",
       "Name: tone_start_timestamp, dtype: int64"
      ]
     },
     "execution_count": 50,
     "metadata": {},
     "output_type": "execute_result"
    }
   ],
   "source": [
    "TRIALS_AND_SPECTRAL_DF[\"tone_start_timestamp\"].head()"
   ]
  },
  {
   "cell_type": "code",
   "execution_count": 51,
   "metadata": {
    "tags": []
   },
   "outputs": [
    {
     "data": {
      "text/plain": [
       "0    1326741\n",
       "1    3726740\n",
       "2    6026737\n",
       "3    7826735\n",
       "4    8926734\n",
       "Name: tone_stop_timestamp, dtype: int64"
      ]
     },
     "execution_count": 51,
     "metadata": {},
     "output_type": "execute_result"
    }
   ],
   "source": [
    "TRIALS_AND_SPECTRAL_DF[\"tone_stop_timestamp\"].head()"
   ]
  },
  {
   "cell_type": "code",
   "execution_count": null,
   "metadata": {},
   "outputs": [],
   "source": []
  },
  {
   "cell_type": "markdown",
   "metadata": {},
   "source": [
    "# Filtering out the SLEAP posed for during trials"
   ]
  },
  {
   "cell_type": "code",
   "execution_count": 52,
   "metadata": {
    "tags": []
   },
   "outputs": [],
   "source": [
    "TRIALS_AND_SPECTRAL_DF[\"video_frame\"] = TRIALS_AND_SPECTRAL_DF[\"video_timestamps\"].apply(lambda x: np.array(list(range(len(x)))) + 1)"
   ]
  },
  {
   "cell_type": "code",
   "execution_count": 53,
   "metadata": {
    "tags": []
   },
   "outputs": [
    {
     "data": {
      "text/plain": [
       "0    [1, 2, 3, 4, 5, 6, 7, 8, 9, 10, 11, 12, 13, 14...\n",
       "1    [1, 2, 3, 4, 5, 6, 7, 8, 9, 10, 11, 12, 13, 14...\n",
       "2    [1, 2, 3, 4, 5, 6, 7, 8, 9, 10, 11, 12, 13, 14...\n",
       "3    [1, 2, 3, 4, 5, 6, 7, 8, 9, 10, 11, 12, 13, 14...\n",
       "4    [1, 2, 3, 4, 5, 6, 7, 8, 9, 10, 11, 12, 13, 14...\n",
       "Name: video_frame, dtype: object"
      ]
     },
     "execution_count": 53,
     "metadata": {},
     "output_type": "execute_result"
    }
   ],
   "source": [
    "TRIALS_AND_SPECTRAL_DF[\"video_frame\"].head()"
   ]
  },
  {
   "cell_type": "code",
   "execution_count": 54,
   "metadata": {
    "tags": []
   },
   "outputs": [],
   "source": [
    "sleap_columns = [col for col in TRIALS_AND_SPECTRAL_DF.columns if \"locations\" in col or \"velocity\" in col or \"to_reward_port\" in col or \"video_frame\" in col]"
   ]
  },
  {
   "cell_type": "code",
   "execution_count": 55,
   "metadata": {
    "tags": []
   },
   "outputs": [
    {
     "data": {
      "text/plain": [
       "['subject_locations',\n",
       " 'agent_locations',\n",
       " 'subject_thorax_velocity',\n",
       " 'agent_thorax_velocity',\n",
       " 'subject_thorax_to_reward_port',\n",
       " 'agent_thorax_to_reward_port',\n",
       " 'video_frame']"
      ]
     },
     "execution_count": 55,
     "metadata": {},
     "output_type": "execute_result"
    }
   ],
   "source": [
    "sleap_columns"
   ]
  },
  {
   "cell_type": "code",
   "execution_count": 56,
   "metadata": {
    "tags": []
   },
   "outputs": [
    {
     "data": {
      "text/plain": [
       "(68258,)"
      ]
     },
     "execution_count": 56,
     "metadata": {},
     "output_type": "execute_result"
    }
   ],
   "source": [
    "TRIALS_AND_SPECTRAL_DF[\"video_timestamps\"].iloc[0].shape"
   ]
  },
  {
   "cell_type": "code",
   "execution_count": 57,
   "metadata": {
    "tags": []
   },
   "outputs": [
    {
     "data": {
      "text/plain": [
       "(68258,)"
      ]
     },
     "execution_count": 57,
     "metadata": {},
     "output_type": "execute_result"
    }
   ],
   "source": [
    "TRIALS_AND_SPECTRAL_DF[\"video_frame\"].iloc[0].shape"
   ]
  },
  {
   "cell_type": "code",
   "execution_count": 58,
   "metadata": {
    "tags": []
   },
   "outputs": [
    {
     "data": {
      "text/plain": [
       "(68258,)"
      ]
     },
     "execution_count": 58,
     "metadata": {},
     "output_type": "execute_result"
    }
   ],
   "source": [
    "TRIALS_AND_SPECTRAL_DF[\"subject_thorax_to_reward_port\"].iloc[0].shape"
   ]
  },
  {
   "cell_type": "code",
   "execution_count": 59,
   "metadata": {
    "tags": []
   },
   "outputs": [
    {
     "name": "stdout",
     "output_type": "stream",
     "text": [
      "baseline_agent_locations\n",
      "baseline_agent_thorax_to_reward_port\n",
      "baseline_agent_thorax_velocity\n",
      "baseline_subject_locations\n",
      "baseline_subject_thorax_to_reward_port\n",
      "baseline_subject_thorax_velocity\n",
      "baseline_video_frame\n"
     ]
    }
   ],
   "source": [
    "for col in sorted(sleap_columns):\n",
    "    updated_item_col = \"baseline_{}\".format(col)\n",
    "    print(updated_item_col)\n",
    "    updated_timestamp_col = \"baseline_video_timestamps\".format(col)\n",
    "    if \"agent\" in col:\n",
    "        TRIALS_AND_SPECTRAL_DF[updated_item_col] = TRIALS_AND_SPECTRAL_DF.apply(lambda x: utilities.helper.filter_by_timestamp_range(start=x[\"baseline_start_timestamp\"], stop=x[\"baseline_stop_timestamp\"], timestamps=x[\"video_timestamps\"], items=x[col])[1] if x[\"agent\"] else np.nan, axis=1)\n",
    "    else:\n",
    "        TRIALS_AND_SPECTRAL_DF[updated_item_col] = TRIALS_AND_SPECTRAL_DF.apply(lambda x: utilities.helper.filter_by_timestamp_range(start=x[\"baseline_start_timestamp\"], stop=x[\"baseline_stop_timestamp\"], timestamps=x[\"video_timestamps\"], items=x[col])[1], axis=1)\n",
    "\n",
    "TRIALS_AND_SPECTRAL_DF[updated_timestamp_col] = TRIALS_AND_SPECTRAL_DF.apply(lambda x: utilities.helper.filter_by_timestamp_range(start=x[\"baseline_start_timestamp\"], stop=x[\"baseline_stop_timestamp\"], timestamps=x[\"video_timestamps\"], items=x[col])[0], axis=1)"
   ]
  },
  {
   "cell_type": "code",
   "execution_count": 60,
   "metadata": {
    "tags": []
   },
   "outputs": [
    {
     "name": "stdout",
     "output_type": "stream",
     "text": [
      "trial_agent_locations\n",
      "trial_agent_thorax_to_reward_port\n",
      "trial_agent_thorax_velocity\n",
      "trial_subject_locations\n",
      "trial_subject_thorax_to_reward_port\n",
      "trial_subject_thorax_velocity\n",
      "trial_video_frame\n"
     ]
    }
   ],
   "source": [
    "for col in sorted(sleap_columns):\n",
    "    updated_item_col = \"trial_{}\".format(col)\n",
    "    print(updated_item_col)\n",
    "    updated_timestamp_col = \"trial_video_timestamps\".format(col)\n",
    "    if \"agent\" in col:\n",
    "        TRIALS_AND_SPECTRAL_DF[updated_item_col] = TRIALS_AND_SPECTRAL_DF.apply(lambda x: utilities.helper.filter_by_timestamp_range(start=x[\"tone_start_timestamp\"], stop=x[\"tone_stop_timestamp\"], timestamps=x[\"video_timestamps\"], items=x[col])[1] if x[\"agent\"] else np.nan, axis=1)\n",
    "    else:\n",
    "        TRIALS_AND_SPECTRAL_DF[updated_item_col] = TRIALS_AND_SPECTRAL_DF.apply(lambda x: utilities.helper.filter_by_timestamp_range(start=x[\"tone_start_timestamp\"], stop=x[\"tone_stop_timestamp\"], timestamps=x[\"video_timestamps\"], items=x[col])[1], axis=1)\n",
    "\n",
    "TRIALS_AND_SPECTRAL_DF[updated_timestamp_col] = TRIALS_AND_SPECTRAL_DF.apply(lambda x: utilities.helper.filter_by_timestamp_range(start=x[\"tone_start_timestamp\"], stop=x[\"tone_stop_timestamp\"], timestamps=x[\"video_timestamps\"], items=x[col])[0], axis=1)"
   ]
  },
  {
   "cell_type": "code",
   "execution_count": 61,
   "metadata": {
    "tags": []
   },
   "outputs": [
    {
     "data": {
      "text/plain": [
       "Series([], Name: baseline_subject_locations, dtype: object)"
      ]
     },
     "execution_count": 61,
     "metadata": {},
     "output_type": "execute_result"
    }
   ],
   "source": [
    "TRIALS_AND_SPECTRAL_DF[TRIALS_AND_SPECTRAL_DF[\"trial_subject_thorax_velocity\"].apply(lambda x: np.isnan(x).any())][\"baseline_subject_locations\"]"
   ]
  },
  {
   "cell_type": "code",
   "execution_count": 62,
   "metadata": {
    "tags": []
   },
   "outputs": [],
   "source": [
    "TRIALS_AND_SPECTRAL_DF = TRIALS_AND_SPECTRAL_DF.drop(columns=sleap_columns + [\"video_timestamps\"], errors=\"ignore\")"
   ]
  },
  {
   "cell_type": "code",
   "execution_count": 63,
   "metadata": {
    "tags": []
   },
   "outputs": [
    {
     "name": "stdout",
     "output_type": "stream",
     "text": [
      "tracked_subject\n",
      "box_number\n",
      "sleap_name\n",
      "video_name\n",
      "current_subject\n",
      "tone_start_frame\n",
      "reward_start_frame\n",
      "tone_stop_frame\n",
      "condition\n",
      "competition_closeness\n",
      "notes\n",
      "experiment\n",
      "session_dir\n",
      "all_subjects\n",
      "tone_start_timestamp\n",
      "tone_stop_timestamp\n",
      "trial_label\n",
      "cohort\n",
      "tone_frames\n",
      "box_1_port_entry_frames\n",
      "box_2_port_entry_frames\n",
      "session_path\n",
      "recording\n",
      "subject\n",
      "first_timestamp\n",
      "last_timestamp\n",
      "tone_timestamps\n",
      "box_1_port_entry_timestamps\n",
      "box_2_port_entry_timestamps\n",
      "lfp_timestamps\n",
      "mPFC_RMS_filtered_power_all_frequencies_all_windows\n",
      "MD_RMS_filtered_power_all_frequencies_all_windows\n",
      "LH_RMS_filtered_power_all_frequencies_all_windows\n",
      "BLA_RMS_filtered_power_all_frequencies_all_windows\n",
      "vHPC_RMS_filtered_power_all_frequencies_all_windows\n",
      "power_timestamps\n",
      "power_calculation_frequencies\n",
      "BLA_LH_RMS_filtered_coherence_all_frequencies_all_windows\n",
      "BLA_MD_RMS_filtered_coherence_all_frequencies_all_windows\n",
      "BLA_mPFC_RMS_filtered_coherence_all_frequencies_all_windows\n",
      "BLA_vHPC_RMS_filtered_coherence_all_frequencies_all_windows\n",
      "LH_MD_RMS_filtered_coherence_all_frequencies_all_windows\n",
      "LH_mPFC_RMS_filtered_coherence_all_frequencies_all_windows\n",
      "LH_vHPC_RMS_filtered_coherence_all_frequencies_all_windows\n",
      "MD_mPFC_RMS_filtered_coherence_all_frequencies_all_windows\n",
      "MD_vHPC_RMS_filtered_coherence_all_frequencies_all_windows\n",
      "mPFC_vHPC_RMS_filtered_coherence_all_frequencies_all_windows\n",
      "coherence_timestamps\n",
      "coherence_calculation_frequencies\n",
      "BLA_LH_granger_all_frequencies_all_windows\n",
      "LH_BLA_granger_all_frequencies_all_windows\n",
      "BLA_MD_granger_all_frequencies_all_windows\n",
      "MD_BLA_granger_all_frequencies_all_windows\n",
      "BLA_mPFC_granger_all_frequencies_all_windows\n",
      "mPFC_BLA_granger_all_frequencies_all_windows\n",
      "BLA_vHPC_granger_all_frequencies_all_windows\n",
      "vHPC_BLA_granger_all_frequencies_all_windows\n",
      "LH_MD_granger_all_frequencies_all_windows\n",
      "MD_LH_granger_all_frequencies_all_windows\n",
      "LH_mPFC_granger_all_frequencies_all_windows\n",
      "mPFC_LH_granger_all_frequencies_all_windows\n",
      "LH_vHPC_granger_all_frequencies_all_windows\n",
      "vHPC_LH_granger_all_frequencies_all_windows\n",
      "MD_mPFC_granger_all_frequencies_all_windows\n",
      "mPFC_MD_granger_all_frequencies_all_windows\n",
      "MD_vHPC_granger_all_frequencies_all_windows\n",
      "vHPC_MD_granger_all_frequencies_all_windows\n",
      "mPFC_vHPC_granger_all_frequencies_all_windows\n",
      "vHPC_mPFC_granger_all_frequencies_all_windows\n",
      "granger_timestamps\n",
      "granger_calculation_frequencies\n",
      "start_frame\n",
      "stop_frame\n",
      "in_video_subjects\n",
      "body_parts\n",
      "box_top_left\n",
      "box_top_right\n",
      "reward_port\n",
      "box_bottom_left\n",
      "box_bottom_right\n",
      "agent\n",
      "baseline_start_timestamp\n",
      "baseline_stop_timestamp\n",
      "baseline_agent_locations\n",
      "baseline_agent_thorax_to_reward_port\n",
      "baseline_agent_thorax_velocity\n",
      "baseline_subject_locations\n",
      "baseline_subject_thorax_to_reward_port\n",
      "baseline_subject_thorax_velocity\n",
      "baseline_video_frame\n",
      "baseline_video_timestamps\n",
      "trial_agent_locations\n",
      "trial_agent_thorax_to_reward_port\n",
      "trial_agent_thorax_velocity\n",
      "trial_subject_locations\n",
      "trial_subject_thorax_to_reward_port\n",
      "trial_subject_thorax_velocity\n",
      "trial_video_frame\n",
      "trial_video_timestamps\n"
     ]
    }
   ],
   "source": [
    "for col in TRIALS_AND_SPECTRAL_DF.columns:\n",
    "    print(col)"
   ]
  },
  {
   "cell_type": "markdown",
   "metadata": {},
   "source": [
    "- Filtering coherence"
   ]
  },
  {
   "cell_type": "code",
   "execution_count": 64,
   "metadata": {
    "tags": []
   },
   "outputs": [],
   "source": [
    "coherence_columns = [col for col in TRIALS_AND_SPECTRAL_DF.columns if \"coherence\" in col and \"timestamps\" not in col and \"calculation\" not in col]"
   ]
  },
  {
   "cell_type": "code",
   "execution_count": 65,
   "metadata": {
    "tags": []
   },
   "outputs": [
    {
     "data": {
      "text/plain": [
       "['BLA_LH_RMS_filtered_coherence_all_frequencies_all_windows',\n",
       " 'BLA_MD_RMS_filtered_coherence_all_frequencies_all_windows',\n",
       " 'BLA_mPFC_RMS_filtered_coherence_all_frequencies_all_windows',\n",
       " 'BLA_vHPC_RMS_filtered_coherence_all_frequencies_all_windows',\n",
       " 'LH_MD_RMS_filtered_coherence_all_frequencies_all_windows',\n",
       " 'LH_mPFC_RMS_filtered_coherence_all_frequencies_all_windows',\n",
       " 'LH_vHPC_RMS_filtered_coherence_all_frequencies_all_windows',\n",
       " 'MD_mPFC_RMS_filtered_coherence_all_frequencies_all_windows',\n",
       " 'MD_vHPC_RMS_filtered_coherence_all_frequencies_all_windows',\n",
       " 'mPFC_vHPC_RMS_filtered_coherence_all_frequencies_all_windows']"
      ]
     },
     "execution_count": 65,
     "metadata": {},
     "output_type": "execute_result"
    }
   ],
   "source": [
    "coherence_columns"
   ]
  },
  {
   "cell_type": "code",
   "execution_count": 66,
   "metadata": {
    "tags": []
   },
   "outputs": [
    {
     "name": "stdout",
     "output_type": "stream",
     "text": [
      "BLA_LH_RMS_filtered_coherence_all_frequencies\n",
      "BLA_MD_RMS_filtered_coherence_all_frequencies\n",
      "BLA_mPFC_RMS_filtered_coherence_all_frequencies\n",
      "BLA_vHPC_RMS_filtered_coherence_all_frequencies\n",
      "LH_MD_RMS_filtered_coherence_all_frequencies\n",
      "LH_mPFC_RMS_filtered_coherence_all_frequencies\n",
      "LH_vHPC_RMS_filtered_coherence_all_frequencies\n",
      "MD_mPFC_RMS_filtered_coherence_all_frequencies\n",
      "MD_vHPC_RMS_filtered_coherence_all_frequencies\n",
      "mPFC_vHPC_RMS_filtered_coherence_all_frequencies\n"
     ]
    }
   ],
   "source": [
    "for col in coherence_columns:\n",
    "    brain_region = col.replace(\"all_windows\", \"_\").strip(\"_\")\n",
    "    print(brain_region)\n",
    "    \n",
    "    updated_item_col = \"baseline_{}\".format(brain_region)\n",
    "    updated_timestamp_col = \"baseline_coherence_timestamps\".format(brain_region)\n",
    "    TRIALS_AND_SPECTRAL_DF[updated_item_col] = TRIALS_AND_SPECTRAL_DF.apply(lambda x: utilities.helper.filter_by_timestamp_range(start=x[\"baseline_start_timestamp\"], stop=x[\"baseline_stop_timestamp\"], timestamps=x[\"coherence_timestamps\"], items=x[col])[1], axis=1)\n",
    "TRIALS_AND_SPECTRAL_DF[updated_timestamp_col] = TRIALS_AND_SPECTRAL_DF.apply(lambda x: utilities.helper.filter_by_timestamp_range(start=x[\"baseline_start_timestamp\"], stop=x[\"baseline_stop_timestamp\"], timestamps=x[\"coherence_timestamps\"], items=x[col])[0], axis=1)"
   ]
  },
  {
   "cell_type": "code",
   "execution_count": 67,
   "metadata": {
    "tags": []
   },
   "outputs": [
    {
     "name": "stdout",
     "output_type": "stream",
     "text": [
      "BLA_LH_RMS_filtered_coherence_all_frequencies\n",
      "BLA_MD_RMS_filtered_coherence_all_frequencies\n",
      "BLA_mPFC_RMS_filtered_coherence_all_frequencies\n",
      "BLA_vHPC_RMS_filtered_coherence_all_frequencies\n",
      "LH_MD_RMS_filtered_coherence_all_frequencies\n",
      "LH_mPFC_RMS_filtered_coherence_all_frequencies\n",
      "LH_vHPC_RMS_filtered_coherence_all_frequencies\n",
      "MD_mPFC_RMS_filtered_coherence_all_frequencies\n",
      "MD_vHPC_RMS_filtered_coherence_all_frequencies\n",
      "mPFC_vHPC_RMS_filtered_coherence_all_frequencies\n"
     ]
    }
   ],
   "source": [
    "for col in coherence_columns:\n",
    "    brain_region = col.replace(\"all_windows\", \"_\").strip(\"_\")\n",
    "    print(brain_region)\n",
    "    \n",
    "    updated_item_col = \"trial_{}\".format(brain_region)\n",
    "    updated_timestamp_col = \"trial_coherence_timestamps\".format(brain_region)\n",
    "    TRIALS_AND_SPECTRAL_DF[updated_item_col] = TRIALS_AND_SPECTRAL_DF.apply(lambda x: utilities.helper.filter_by_timestamp_range(start=x[\"tone_start_timestamp\"], stop=x[\"tone_stop_timestamp\"], timestamps=x[\"coherence_timestamps\"], items=x[col])[1], axis=1)\n",
    "TRIALS_AND_SPECTRAL_DF[updated_timestamp_col] = TRIALS_AND_SPECTRAL_DF.apply(lambda x: utilities.helper.filter_by_timestamp_range(start=x[\"tone_start_timestamp\"], stop=x[\"tone_stop_timestamp\"], timestamps=x[\"coherence_timestamps\"], items=x[col])[0], axis=1)"
   ]
  },
  {
   "cell_type": "code",
   "execution_count": 68,
   "metadata": {
    "tags": []
   },
   "outputs": [],
   "source": [
    "TRIALS_AND_SPECTRAL_DF = TRIALS_AND_SPECTRAL_DF.drop(columns=coherence_columns + [\"coherence_timestamps\"], errors=\"ignore\")"
   ]
  },
  {
   "cell_type": "markdown",
   "metadata": {},
   "source": [
    "- Filtering Grangers"
   ]
  },
  {
   "cell_type": "code",
   "execution_count": 69,
   "metadata": {
    "tags": []
   },
   "outputs": [],
   "source": [
    "granger_columns = [col for col in TRIALS_AND_SPECTRAL_DF.columns if \"granger\" in col and \"timestamps\" not in col and \"calculation\" not in col]"
   ]
  },
  {
   "cell_type": "code",
   "execution_count": 70,
   "metadata": {
    "tags": []
   },
   "outputs": [
    {
     "data": {
      "text/plain": [
       "['BLA_LH_granger_all_frequencies_all_windows',\n",
       " 'LH_BLA_granger_all_frequencies_all_windows',\n",
       " 'BLA_MD_granger_all_frequencies_all_windows',\n",
       " 'MD_BLA_granger_all_frequencies_all_windows',\n",
       " 'BLA_mPFC_granger_all_frequencies_all_windows',\n",
       " 'mPFC_BLA_granger_all_frequencies_all_windows',\n",
       " 'BLA_vHPC_granger_all_frequencies_all_windows',\n",
       " 'vHPC_BLA_granger_all_frequencies_all_windows',\n",
       " 'LH_MD_granger_all_frequencies_all_windows',\n",
       " 'MD_LH_granger_all_frequencies_all_windows',\n",
       " 'LH_mPFC_granger_all_frequencies_all_windows',\n",
       " 'mPFC_LH_granger_all_frequencies_all_windows',\n",
       " 'LH_vHPC_granger_all_frequencies_all_windows',\n",
       " 'vHPC_LH_granger_all_frequencies_all_windows',\n",
       " 'MD_mPFC_granger_all_frequencies_all_windows',\n",
       " 'mPFC_MD_granger_all_frequencies_all_windows',\n",
       " 'MD_vHPC_granger_all_frequencies_all_windows',\n",
       " 'vHPC_MD_granger_all_frequencies_all_windows',\n",
       " 'mPFC_vHPC_granger_all_frequencies_all_windows',\n",
       " 'vHPC_mPFC_granger_all_frequencies_all_windows']"
      ]
     },
     "execution_count": 70,
     "metadata": {},
     "output_type": "execute_result"
    }
   ],
   "source": [
    "granger_columns"
   ]
  },
  {
   "cell_type": "code",
   "execution_count": 71,
   "metadata": {
    "tags": []
   },
   "outputs": [
    {
     "name": "stdout",
     "output_type": "stream",
     "text": [
      "BLA_LH_granger_all_frequencies\n",
      "LH_BLA_granger_all_frequencies\n",
      "BLA_MD_granger_all_frequencies\n",
      "MD_BLA_granger_all_frequencies\n",
      "BLA_mPFC_granger_all_frequencies\n",
      "mPFC_BLA_granger_all_frequencies\n",
      "BLA_vHPC_granger_all_frequencies\n",
      "vHPC_BLA_granger_all_frequencies\n",
      "LH_MD_granger_all_frequencies\n",
      "MD_LH_granger_all_frequencies\n",
      "LH_mPFC_granger_all_frequencies\n",
      "mPFC_LH_granger_all_frequencies\n",
      "LH_vHPC_granger_all_frequencies\n",
      "vHPC_LH_granger_all_frequencies\n",
      "MD_mPFC_granger_all_frequencies\n",
      "mPFC_MD_granger_all_frequencies\n",
      "MD_vHPC_granger_all_frequencies\n",
      "vHPC_MD_granger_all_frequencies\n",
      "mPFC_vHPC_granger_all_frequencies\n",
      "vHPC_mPFC_granger_all_frequencies\n"
     ]
    }
   ],
   "source": [
    "for col in granger_columns:\n",
    "    brain_region = col.replace(\"all_windows\", \"_\").strip(\"_\")\n",
    "    print(brain_region)\n",
    "    \n",
    "    updated_item_col = \"baseline_{}\".format(brain_region)\n",
    "    updated_timestamp_col = \"baseline_granger_timestamps\".format(brain_region)\n",
    "    TRIALS_AND_SPECTRAL_DF[updated_item_col] = TRIALS_AND_SPECTRAL_DF.apply(lambda x: utilities.helper.filter_by_timestamp_range(start=x[\"baseline_start_timestamp\"], stop=x[\"baseline_stop_timestamp\"], timestamps=x[\"granger_timestamps\"], items=x[col])[1], axis=1)\n",
    "TRIALS_AND_SPECTRAL_DF[updated_timestamp_col] = TRIALS_AND_SPECTRAL_DF.apply(lambda x: utilities.helper.filter_by_timestamp_range(start=x[\"baseline_start_timestamp\"], stop=x[\"baseline_stop_timestamp\"], timestamps=x[\"granger_timestamps\"], items=x[col])[0], axis=1)"
   ]
  },
  {
   "cell_type": "code",
   "execution_count": 72,
   "metadata": {
    "tags": []
   },
   "outputs": [
    {
     "name": "stdout",
     "output_type": "stream",
     "text": [
      "BLA_LH_granger_all_frequencies\n",
      "LH_BLA_granger_all_frequencies\n",
      "BLA_MD_granger_all_frequencies\n",
      "MD_BLA_granger_all_frequencies\n",
      "BLA_mPFC_granger_all_frequencies\n",
      "mPFC_BLA_granger_all_frequencies\n",
      "BLA_vHPC_granger_all_frequencies\n",
      "vHPC_BLA_granger_all_frequencies\n",
      "LH_MD_granger_all_frequencies\n",
      "MD_LH_granger_all_frequencies\n",
      "LH_mPFC_granger_all_frequencies\n",
      "mPFC_LH_granger_all_frequencies\n",
      "LH_vHPC_granger_all_frequencies\n",
      "vHPC_LH_granger_all_frequencies\n",
      "MD_mPFC_granger_all_frequencies\n",
      "mPFC_MD_granger_all_frequencies\n",
      "MD_vHPC_granger_all_frequencies\n",
      "vHPC_MD_granger_all_frequencies\n",
      "mPFC_vHPC_granger_all_frequencies\n",
      "vHPC_mPFC_granger_all_frequencies\n"
     ]
    }
   ],
   "source": [
    "for col in granger_columns:\n",
    "    brain_region = col.replace(\"all_windows\", \"_\").strip(\"_\")\n",
    "    print(brain_region)\n",
    "    \n",
    "    updated_item_col = \"trial_{}\".format(brain_region)\n",
    "    updated_timestamp_col = \"trial_granger_timestamps\".format(brain_region)\n",
    "    TRIALS_AND_SPECTRAL_DF[updated_item_col] = TRIALS_AND_SPECTRAL_DF.apply(lambda x: utilities.helper.filter_by_timestamp_range(start=x[\"tone_start_timestamp\"], stop=x[\"tone_stop_timestamp\"], timestamps=x[\"granger_timestamps\"], items=x[col])[1], axis=1)\n",
    "TRIALS_AND_SPECTRAL_DF[updated_timestamp_col] = TRIALS_AND_SPECTRAL_DF.apply(lambda x: utilities.helper.filter_by_timestamp_range(start=x[\"tone_start_timestamp\"], stop=x[\"tone_stop_timestamp\"], timestamps=x[\"granger_timestamps\"], items=x[col])[0], axis=1)"
   ]
  },
  {
   "cell_type": "code",
   "execution_count": 73,
   "metadata": {
    "tags": []
   },
   "outputs": [],
   "source": [
    "TRIALS_AND_SPECTRAL_DF = TRIALS_AND_SPECTRAL_DF.drop(columns=granger_columns + [\"granger_timestamps\"], errors=\"ignore\")"
   ]
  },
  {
   "cell_type": "code",
   "execution_count": 74,
   "metadata": {},
   "outputs": [],
   "source": [
    "TRIALS_AND_SPECTRAL_DF.to_pickle(os.path.join(OUTPUT_DIR, FULL_LFP_TRACES_PKL))"
   ]
  },
  {
   "cell_type": "markdown",
   "metadata": {},
   "source": [
    "- Filtering power"
   ]
  },
  {
   "cell_type": "code",
   "execution_count": 75,
   "metadata": {},
   "outputs": [
    {
     "data": {
      "text/html": [
       "<div>\n",
       "<style scoped>\n",
       "    .dataframe tbody tr th:only-of-type {\n",
       "        vertical-align: middle;\n",
       "    }\n",
       "\n",
       "    .dataframe tbody tr th {\n",
       "        vertical-align: top;\n",
       "    }\n",
       "\n",
       "    .dataframe thead th {\n",
       "        text-align: right;\n",
       "    }\n",
       "</style>\n",
       "<table border=\"1\" class=\"dataframe\">\n",
       "  <thead>\n",
       "    <tr style=\"text-align: right;\">\n",
       "      <th></th>\n",
       "      <th>tracked_subject</th>\n",
       "      <th>box_number</th>\n",
       "      <th>sleap_name</th>\n",
       "      <th>video_name</th>\n",
       "      <th>current_subject</th>\n",
       "      <th>tone_start_frame</th>\n",
       "      <th>reward_start_frame</th>\n",
       "      <th>tone_stop_frame</th>\n",
       "      <th>condition</th>\n",
       "      <th>competition_closeness</th>\n",
       "      <th>...</th>\n",
       "      <th>trial_mPFC_LH_granger_all_frequencies</th>\n",
       "      <th>trial_LH_vHPC_granger_all_frequencies</th>\n",
       "      <th>trial_vHPC_LH_granger_all_frequencies</th>\n",
       "      <th>trial_MD_mPFC_granger_all_frequencies</th>\n",
       "      <th>trial_mPFC_MD_granger_all_frequencies</th>\n",
       "      <th>trial_MD_vHPC_granger_all_frequencies</th>\n",
       "      <th>trial_vHPC_MD_granger_all_frequencies</th>\n",
       "      <th>trial_mPFC_vHPC_granger_all_frequencies</th>\n",
       "      <th>trial_vHPC_mPFC_granger_all_frequencies</th>\n",
       "      <th>trial_granger_timestamps</th>\n",
       "    </tr>\n",
       "  </thead>\n",
       "  <tbody>\n",
       "    <tr>\n",
       "      <th>0</th>\n",
       "      <td>['1.1', '1.2']</td>\n",
       "      <td>1</td>\n",
       "      <td>20230612_112630_standard_comp_to_training_D1_s...</td>\n",
       "      <td>20230612_112630_standard_comp_to_training_D1_s...</td>\n",
       "      <td>1.1</td>\n",
       "      <td>1125</td>\n",
       "      <td>1225</td>\n",
       "      <td>1324</td>\n",
       "      <td>1.1</td>\n",
       "      <td>Subj 1 blocking Subj 2</td>\n",
       "      <td>...</td>\n",
       "      <td>[[0.1523306, 0.16901906, 0.78575575, 0.0819683...</td>\n",
       "      <td>[[0.057202116, 0.08351223, 0.64685893, 0.42792...</td>\n",
       "      <td>[[0.5248954, 0.17096439, 0.05942695, 0.0494282...</td>\n",
       "      <td>[[nan, 0.074813165, 0.51416034, 0.07997999, 0....</td>\n",
       "      <td>[[0.017886931, 0.14361703, 0.59651375, 0.07885...</td>\n",
       "      <td>[[0.11213816, 0.510775, 0.787173, 0.9200516, 1...</td>\n",
       "      <td>[[0.79025173, 0.7372514, 0.030588672, 0.166208...</td>\n",
       "      <td>[[1.0499846, 0.17210774, 0.5123323, 0.18392725...</td>\n",
       "      <td>[[0.0014584541, 0.050642353, 0.002360936, 0.01...</td>\n",
       "      <td>[1130000, 1140000, 1150000, 1160000, 1170000, ...</td>\n",
       "    </tr>\n",
       "    <tr>\n",
       "      <th>1</th>\n",
       "      <td>['1.1', '1.2']</td>\n",
       "      <td>1</td>\n",
       "      <td>20230612_112630_standard_comp_to_training_D1_s...</td>\n",
       "      <td>20230612_112630_standard_comp_to_training_D1_s...</td>\n",
       "      <td>1.1</td>\n",
       "      <td>3519</td>\n",
       "      <td>3619</td>\n",
       "      <td>3720</td>\n",
       "      <td>1.2</td>\n",
       "      <td>Subj 2 Only</td>\n",
       "      <td>...</td>\n",
       "      <td>[[0.5440256, 0.32697237, 0.3934609, 0.59260553...</td>\n",
       "      <td>[[nan, nan, nan, nan, nan, nan, nan, nan, nan,...</td>\n",
       "      <td>[[nan, nan, nan, nan, nan, nan, nan, nan, nan,...</td>\n",
       "      <td>[[nan, 0.22775352, 0.3794146, 0.21414442, 0.16...</td>\n",
       "      <td>[[1.2462572, 0.7723045, 0.9057617, 1.0338329, ...</td>\n",
       "      <td>[[nan, nan, nan, nan, nan, nan, nan, nan, nan,...</td>\n",
       "      <td>[[nan, nan, nan, nan, nan, nan, nan, nan, nan,...</td>\n",
       "      <td>[[nan, nan, nan, nan, nan, nan, nan, nan, nan,...</td>\n",
       "      <td>[[nan, nan, nan, nan, nan, nan, nan, nan, nan,...</td>\n",
       "      <td>[3530000, 3540000, 3550000, 3560000, 3570000, ...</td>\n",
       "    </tr>\n",
       "    <tr>\n",
       "      <th>2</th>\n",
       "      <td>['1.1', '1.2']</td>\n",
       "      <td>1</td>\n",
       "      <td>20230612_112630_standard_comp_to_training_D1_s...</td>\n",
       "      <td>20230612_112630_standard_comp_to_training_D1_s...</td>\n",
       "      <td>1.1</td>\n",
       "      <td>5815</td>\n",
       "      <td>5915</td>\n",
       "      <td>6014</td>\n",
       "      <td>1.2</td>\n",
       "      <td>Subj 2 blocking Subj 1</td>\n",
       "      <td>...</td>\n",
       "      <td>[[0.33605662, 0.030282008, 0.101248905, 0.1293...</td>\n",
       "      <td>[[0.13642225, 0.21206059, 0.150196, 0.23722623...</td>\n",
       "      <td>[[0.5172207, 0.385334, 0.16962987, 0.56639946,...</td>\n",
       "      <td>[[0.125852, 0.5005528, 0.003350918, 0.04625294...</td>\n",
       "      <td>[[0.07988851, 0.024280991, 0.023294384, 0.0887...</td>\n",
       "      <td>[[0.041437566, 0.09016483, 0.11326024, 0.09595...</td>\n",
       "      <td>[[0.16518217, 0.38796803, 0.06822611, 0.758932...</td>\n",
       "      <td>[[0.007784597, 0.052902527, 2.9427802e-06, 0.0...</td>\n",
       "      <td>[[0.00093890686, 0.11778075, 0.36053413, 0.104...</td>\n",
       "      <td>[5830000, 5840000, 5850000, 5860000, 5870000, ...</td>\n",
       "    </tr>\n",
       "    <tr>\n",
       "      <th>3</th>\n",
       "      <td>['1.1', '1.2']</td>\n",
       "      <td>1</td>\n",
       "      <td>20230612_112630_standard_comp_to_training_D1_s...</td>\n",
       "      <td>20230612_112630_standard_comp_to_training_D1_s...</td>\n",
       "      <td>1.1</td>\n",
       "      <td>7612</td>\n",
       "      <td>7712</td>\n",
       "      <td>7811</td>\n",
       "      <td>1.2</td>\n",
       "      <td>Subj 2 Only</td>\n",
       "      <td>...</td>\n",
       "      <td>[[1.973422, 0.8437512, 0.6718997, 1.3077409, 0...</td>\n",
       "      <td>[[nan, 0.36186916, 0.9025947, 0.05585553, nan,...</td>\n",
       "      <td>[[0.6263094, 0.61252725, 0.33912778, 0.4590694...</td>\n",
       "      <td>[[nan, 0.17489207, 0.49528646, 0.22766426, 1.3...</td>\n",
       "      <td>[[1.7795434, 0.9228607, 0.21020259, 0.9161907,...</td>\n",
       "      <td>[[nan, 0.39017385, 1.9816322, 0.29721123, nan,...</td>\n",
       "      <td>[[1.5558466, 0.91893566, 0.52950644, 0.3463573...</td>\n",
       "      <td>[[nan, 0.104449265, 0.3914979, 0.034697637, 0....</td>\n",
       "      <td>[[1.139642, 3.0433378, 0.50488275, 1.2983543, ...</td>\n",
       "      <td>[7630000, 7640000, 7650000, 7660000, 7670000, ...</td>\n",
       "    </tr>\n",
       "    <tr>\n",
       "      <th>4</th>\n",
       "      <td>['1.1', '1.2']</td>\n",
       "      <td>1</td>\n",
       "      <td>20230612_112630_standard_comp_to_training_D1_s...</td>\n",
       "      <td>20230612_112630_standard_comp_to_training_D1_s...</td>\n",
       "      <td>1.1</td>\n",
       "      <td>8709</td>\n",
       "      <td>8809</td>\n",
       "      <td>8910</td>\n",
       "      <td>1.2</td>\n",
       "      <td>Subj 2 Only</td>\n",
       "      <td>...</td>\n",
       "      <td>[[0.019447148, 0.22576983, 0.2872212, 0.385135...</td>\n",
       "      <td>[[0.43757215, 0.21204577, 0.39448917, 0.756696...</td>\n",
       "      <td>[[0.62966466, 0.035139877, 0.15232301, 0.17611...</td>\n",
       "      <td>[[0.0041323416, 0.09071428, 0.14351337, 0.8155...</td>\n",
       "      <td>[[0.0014387921, 0.038391456, 0.19312869, 0.311...</td>\n",
       "      <td>[[1.1809479, 0.31652698, 0.4939785, 0.93824977...</td>\n",
       "      <td>[[1.9278215, 0.21853904, 0.22198062, 0.1281097...</td>\n",
       "      <td>[[0.7117518, 1.0754799, 0.1448167, 0.13696487,...</td>\n",
       "      <td>[[3.9900024, 0.32646367, 0.05556695, 0.0761521...</td>\n",
       "      <td>[8730000, 8740000, 8750000, 8760000, 8770000, ...</td>\n",
       "    </tr>\n",
       "  </tbody>\n",
       "</table>\n",
       "<p>5 rows × 131 columns</p>\n",
       "</div>"
      ],
      "text/plain": [
       "  tracked_subject  box_number  \\\n",
       "0  ['1.1', '1.2']           1   \n",
       "1  ['1.1', '1.2']           1   \n",
       "2  ['1.1', '1.2']           1   \n",
       "3  ['1.1', '1.2']           1   \n",
       "4  ['1.1', '1.2']           1   \n",
       "\n",
       "                                          sleap_name  \\\n",
       "0  20230612_112630_standard_comp_to_training_D1_s...   \n",
       "1  20230612_112630_standard_comp_to_training_D1_s...   \n",
       "2  20230612_112630_standard_comp_to_training_D1_s...   \n",
       "3  20230612_112630_standard_comp_to_training_D1_s...   \n",
       "4  20230612_112630_standard_comp_to_training_D1_s...   \n",
       "\n",
       "                                          video_name current_subject  \\\n",
       "0  20230612_112630_standard_comp_to_training_D1_s...             1.1   \n",
       "1  20230612_112630_standard_comp_to_training_D1_s...             1.1   \n",
       "2  20230612_112630_standard_comp_to_training_D1_s...             1.1   \n",
       "3  20230612_112630_standard_comp_to_training_D1_s...             1.1   \n",
       "4  20230612_112630_standard_comp_to_training_D1_s...             1.1   \n",
       "\n",
       "   tone_start_frame  reward_start_frame  tone_stop_frame condition  \\\n",
       "0              1125                1225             1324       1.1   \n",
       "1              3519                3619             3720       1.2   \n",
       "2              5815                5915             6014       1.2   \n",
       "3              7612                7712             7811       1.2   \n",
       "4              8709                8809             8910       1.2   \n",
       "\n",
       "    competition_closeness  ...  \\\n",
       "0  Subj 1 blocking Subj 2  ...   \n",
       "1             Subj 2 Only  ...   \n",
       "2  Subj 2 blocking Subj 1  ...   \n",
       "3             Subj 2 Only  ...   \n",
       "4             Subj 2 Only  ...   \n",
       "\n",
       "               trial_mPFC_LH_granger_all_frequencies  \\\n",
       "0  [[0.1523306, 0.16901906, 0.78575575, 0.0819683...   \n",
       "1  [[0.5440256, 0.32697237, 0.3934609, 0.59260553...   \n",
       "2  [[0.33605662, 0.030282008, 0.101248905, 0.1293...   \n",
       "3  [[1.973422, 0.8437512, 0.6718997, 1.3077409, 0...   \n",
       "4  [[0.019447148, 0.22576983, 0.2872212, 0.385135...   \n",
       "\n",
       "               trial_LH_vHPC_granger_all_frequencies  \\\n",
       "0  [[0.057202116, 0.08351223, 0.64685893, 0.42792...   \n",
       "1  [[nan, nan, nan, nan, nan, nan, nan, nan, nan,...   \n",
       "2  [[0.13642225, 0.21206059, 0.150196, 0.23722623...   \n",
       "3  [[nan, 0.36186916, 0.9025947, 0.05585553, nan,...   \n",
       "4  [[0.43757215, 0.21204577, 0.39448917, 0.756696...   \n",
       "\n",
       "               trial_vHPC_LH_granger_all_frequencies  \\\n",
       "0  [[0.5248954, 0.17096439, 0.05942695, 0.0494282...   \n",
       "1  [[nan, nan, nan, nan, nan, nan, nan, nan, nan,...   \n",
       "2  [[0.5172207, 0.385334, 0.16962987, 0.56639946,...   \n",
       "3  [[0.6263094, 0.61252725, 0.33912778, 0.4590694...   \n",
       "4  [[0.62966466, 0.035139877, 0.15232301, 0.17611...   \n",
       "\n",
       "               trial_MD_mPFC_granger_all_frequencies  \\\n",
       "0  [[nan, 0.074813165, 0.51416034, 0.07997999, 0....   \n",
       "1  [[nan, 0.22775352, 0.3794146, 0.21414442, 0.16...   \n",
       "2  [[0.125852, 0.5005528, 0.003350918, 0.04625294...   \n",
       "3  [[nan, 0.17489207, 0.49528646, 0.22766426, 1.3...   \n",
       "4  [[0.0041323416, 0.09071428, 0.14351337, 0.8155...   \n",
       "\n",
       "               trial_mPFC_MD_granger_all_frequencies  \\\n",
       "0  [[0.017886931, 0.14361703, 0.59651375, 0.07885...   \n",
       "1  [[1.2462572, 0.7723045, 0.9057617, 1.0338329, ...   \n",
       "2  [[0.07988851, 0.024280991, 0.023294384, 0.0887...   \n",
       "3  [[1.7795434, 0.9228607, 0.21020259, 0.9161907,...   \n",
       "4  [[0.0014387921, 0.038391456, 0.19312869, 0.311...   \n",
       "\n",
       "               trial_MD_vHPC_granger_all_frequencies  \\\n",
       "0  [[0.11213816, 0.510775, 0.787173, 0.9200516, 1...   \n",
       "1  [[nan, nan, nan, nan, nan, nan, nan, nan, nan,...   \n",
       "2  [[0.041437566, 0.09016483, 0.11326024, 0.09595...   \n",
       "3  [[nan, 0.39017385, 1.9816322, 0.29721123, nan,...   \n",
       "4  [[1.1809479, 0.31652698, 0.4939785, 0.93824977...   \n",
       "\n",
       "               trial_vHPC_MD_granger_all_frequencies  \\\n",
       "0  [[0.79025173, 0.7372514, 0.030588672, 0.166208...   \n",
       "1  [[nan, nan, nan, nan, nan, nan, nan, nan, nan,...   \n",
       "2  [[0.16518217, 0.38796803, 0.06822611, 0.758932...   \n",
       "3  [[1.5558466, 0.91893566, 0.52950644, 0.3463573...   \n",
       "4  [[1.9278215, 0.21853904, 0.22198062, 0.1281097...   \n",
       "\n",
       "             trial_mPFC_vHPC_granger_all_frequencies  \\\n",
       "0  [[1.0499846, 0.17210774, 0.5123323, 0.18392725...   \n",
       "1  [[nan, nan, nan, nan, nan, nan, nan, nan, nan,...   \n",
       "2  [[0.007784597, 0.052902527, 2.9427802e-06, 0.0...   \n",
       "3  [[nan, 0.104449265, 0.3914979, 0.034697637, 0....   \n",
       "4  [[0.7117518, 1.0754799, 0.1448167, 0.13696487,...   \n",
       "\n",
       "             trial_vHPC_mPFC_granger_all_frequencies  \\\n",
       "0  [[0.0014584541, 0.050642353, 0.002360936, 0.01...   \n",
       "1  [[nan, nan, nan, nan, nan, nan, nan, nan, nan,...   \n",
       "2  [[0.00093890686, 0.11778075, 0.36053413, 0.104...   \n",
       "3  [[1.139642, 3.0433378, 0.50488275, 1.2983543, ...   \n",
       "4  [[3.9900024, 0.32646367, 0.05556695, 0.0761521...   \n",
       "\n",
       "                            trial_granger_timestamps  \n",
       "0  [1130000, 1140000, 1150000, 1160000, 1170000, ...  \n",
       "1  [3530000, 3540000, 3550000, 3560000, 3570000, ...  \n",
       "2  [5830000, 5840000, 5850000, 5860000, 5870000, ...  \n",
       "3  [7630000, 7640000, 7650000, 7660000, 7670000, ...  \n",
       "4  [8730000, 8740000, 8750000, 8760000, 8770000, ...  \n",
       "\n",
       "[5 rows x 131 columns]"
      ]
     },
     "execution_count": 75,
     "metadata": {},
     "output_type": "execute_result"
    }
   ],
   "source": [
    "TRIALS_AND_SPECTRAL_DF.head()"
   ]
  },
  {
   "cell_type": "code",
   "execution_count": 76,
   "metadata": {
    "tags": []
   },
   "outputs": [],
   "source": [
    "power_columns = [col for col in TRIALS_AND_SPECTRAL_DF.columns if \"power\" in col and \"timestamps\" not in col and \"calculation\" not in col]"
   ]
  },
  {
   "cell_type": "code",
   "execution_count": 77,
   "metadata": {
    "tags": []
   },
   "outputs": [
    {
     "data": {
      "text/plain": [
       "['mPFC_RMS_filtered_power_all_frequencies_all_windows',\n",
       " 'MD_RMS_filtered_power_all_frequencies_all_windows',\n",
       " 'LH_RMS_filtered_power_all_frequencies_all_windows',\n",
       " 'BLA_RMS_filtered_power_all_frequencies_all_windows',\n",
       " 'vHPC_RMS_filtered_power_all_frequencies_all_windows']"
      ]
     },
     "execution_count": 77,
     "metadata": {},
     "output_type": "execute_result"
    }
   ],
   "source": [
    "power_columns"
   ]
  },
  {
   "cell_type": "code",
   "execution_count": 78,
   "metadata": {
    "tags": []
   },
   "outputs": [
    {
     "name": "stdout",
     "output_type": "stream",
     "text": [
      "mPFC_RMS_filtered_power_all_frequencies\n",
      "MD_RMS_filtered_power_all_frequencies\n",
      "LH_RMS_filtered_power_all_frequencies\n",
      "BLA_RMS_filtered_power_all_frequencies\n",
      "vHPC_RMS_filtered_power_all_frequencies\n"
     ]
    }
   ],
   "source": [
    "for col in power_columns:\n",
    "    brain_region = col.replace(\"all_windows\", \"_\").strip(\"_\")\n",
    "    print(brain_region)\n",
    "    \n",
    "    updated_item_col = \"baseline_{}\".format(brain_region)\n",
    "    updated_timestamp_col = \"baseline_power_timestamps\".format(brain_region)\n",
    "    TRIALS_AND_SPECTRAL_DF[updated_item_col] = TRIALS_AND_SPECTRAL_DF.apply(lambda x: utilities.helper.filter_by_timestamp_range(start=x[\"baseline_start_timestamp\"], stop=x[\"baseline_stop_timestamp\"], timestamps=x[\"power_timestamps\"], items=x[col])[1], axis=1)\n",
    "TRIALS_AND_SPECTRAL_DF[updated_timestamp_col] = TRIALS_AND_SPECTRAL_DF.apply(lambda x: utilities.helper.filter_by_timestamp_range(start=x[\"baseline_start_timestamp\"], stop=x[\"baseline_stop_timestamp\"], timestamps=x[\"power_timestamps\"], items=x[col])[0], axis=1)"
   ]
  },
  {
   "cell_type": "code",
   "execution_count": 79,
   "metadata": {
    "tags": []
   },
   "outputs": [
    {
     "name": "stdout",
     "output_type": "stream",
     "text": [
      "mPFC_RMS_filtered_power_all_frequencies\n",
      "MD_RMS_filtered_power_all_frequencies\n",
      "LH_RMS_filtered_power_all_frequencies\n",
      "BLA_RMS_filtered_power_all_frequencies\n",
      "vHPC_RMS_filtered_power_all_frequencies\n"
     ]
    }
   ],
   "source": [
    "for col in power_columns:\n",
    "    brain_region = col.replace(\"all_windows\", \"_\").strip(\"_\")\n",
    "    print(brain_region)\n",
    "    \n",
    "    updated_item_col = \"trial_{}\".format(brain_region)\n",
    "    updated_timestamp_col = \"trial_power_timestamps\".format(brain_region)\n",
    "    TRIALS_AND_SPECTRAL_DF[updated_item_col] = TRIALS_AND_SPECTRAL_DF.apply(lambda x: utilities.helper.filter_by_timestamp_range(start=x[\"tone_start_timestamp\"], stop=x[\"tone_stop_timestamp\"], timestamps=x[\"power_timestamps\"], items=x[col])[1], axis=1)\n",
    "TRIALS_AND_SPECTRAL_DF[updated_timestamp_col] = TRIALS_AND_SPECTRAL_DF.apply(lambda x: utilities.helper.filter_by_timestamp_range(start=x[\"tone_start_timestamp\"], stop=x[\"tone_stop_timestamp\"], timestamps=x[\"power_timestamps\"], items=x[col])[0], axis=1)"
   ]
  },
  {
   "cell_type": "code",
   "execution_count": 80,
   "metadata": {
    "tags": []
   },
   "outputs": [
    {
     "data": {
      "text/plain": [
       "0       [530000, 540000, 550000, 560000, 570000, 58000...\n",
       "1       [2930000, 2940000, 2950000, 2960000, 2970000, ...\n",
       "2       [5230000, 5240000, 5250000, 5260000, 5270000, ...\n",
       "3       [7030000, 7040000, 7050000, 7060000, 7070000, ...\n",
       "4       [8130000, 8140000, 8150000, 8160000, 8170000, ...\n",
       "                              ...                        \n",
       "1364    [60080000, 60090000, 60100000, 60110000, 60120...\n",
       "1365    [61580000, 61590000, 61600000, 61610000, 61620...\n",
       "1366    [63580000, 63590000, 63600000, 63610000, 63620...\n",
       "1367    [65480000, 65490000, 65500000, 65510000, 65520...\n",
       "1368    [66480000, 66490000, 66500000, 66510000, 66520...\n",
       "Name: baseline_power_timestamps, Length: 1369, dtype: object"
      ]
     },
     "execution_count": 80,
     "metadata": {},
     "output_type": "execute_result"
    }
   ],
   "source": [
    "TRIALS_AND_SPECTRAL_DF[\"baseline_power_timestamps\"]"
   ]
  },
  {
   "cell_type": "code",
   "execution_count": 81,
   "metadata": {
    "tags": []
   },
   "outputs": [],
   "source": [
    "TRIALS_AND_SPECTRAL_DF = TRIALS_AND_SPECTRAL_DF.drop(columns=power_columns + [\"power_timestamps\"], errors=\"ignore\")"
   ]
  },
  {
   "cell_type": "code",
   "execution_count": 82,
   "metadata": {
    "tags": []
   },
   "outputs": [
    {
     "name": "stdout",
     "output_type": "stream",
     "text": [
      "tracked_subject\n",
      "box_number\n",
      "sleap_name\n",
      "video_name\n",
      "current_subject\n",
      "tone_start_frame\n",
      "reward_start_frame\n",
      "tone_stop_frame\n",
      "condition\n",
      "competition_closeness\n",
      "notes\n",
      "experiment\n",
      "session_dir\n",
      "all_subjects\n",
      "tone_start_timestamp\n",
      "tone_stop_timestamp\n",
      "trial_label\n",
      "cohort\n",
      "tone_frames\n",
      "box_1_port_entry_frames\n",
      "box_2_port_entry_frames\n",
      "session_path\n",
      "recording\n",
      "subject\n",
      "first_timestamp\n",
      "last_timestamp\n",
      "tone_timestamps\n",
      "box_1_port_entry_timestamps\n",
      "box_2_port_entry_timestamps\n",
      "lfp_timestamps\n",
      "power_calculation_frequencies\n",
      "coherence_calculation_frequencies\n",
      "granger_calculation_frequencies\n",
      "start_frame\n",
      "stop_frame\n",
      "in_video_subjects\n",
      "body_parts\n",
      "box_top_left\n",
      "box_top_right\n",
      "reward_port\n",
      "box_bottom_left\n",
      "box_bottom_right\n",
      "agent\n",
      "baseline_start_timestamp\n",
      "baseline_stop_timestamp\n",
      "baseline_agent_locations\n",
      "baseline_agent_thorax_to_reward_port\n",
      "baseline_agent_thorax_velocity\n",
      "baseline_subject_locations\n",
      "baseline_subject_thorax_to_reward_port\n",
      "baseline_subject_thorax_velocity\n",
      "baseline_video_frame\n",
      "baseline_video_timestamps\n",
      "trial_agent_locations\n",
      "trial_agent_thorax_to_reward_port\n",
      "trial_agent_thorax_velocity\n",
      "trial_subject_locations\n",
      "trial_subject_thorax_to_reward_port\n",
      "trial_subject_thorax_velocity\n",
      "trial_video_frame\n",
      "trial_video_timestamps\n",
      "baseline_BLA_LH_RMS_filtered_coherence_all_frequencies\n",
      "baseline_BLA_MD_RMS_filtered_coherence_all_frequencies\n",
      "baseline_BLA_mPFC_RMS_filtered_coherence_all_frequencies\n",
      "baseline_BLA_vHPC_RMS_filtered_coherence_all_frequencies\n",
      "baseline_LH_MD_RMS_filtered_coherence_all_frequencies\n",
      "baseline_LH_mPFC_RMS_filtered_coherence_all_frequencies\n",
      "baseline_LH_vHPC_RMS_filtered_coherence_all_frequencies\n",
      "baseline_MD_mPFC_RMS_filtered_coherence_all_frequencies\n",
      "baseline_MD_vHPC_RMS_filtered_coherence_all_frequencies\n",
      "baseline_mPFC_vHPC_RMS_filtered_coherence_all_frequencies\n",
      "baseline_coherence_timestamps\n",
      "trial_BLA_LH_RMS_filtered_coherence_all_frequencies\n",
      "trial_BLA_MD_RMS_filtered_coherence_all_frequencies\n",
      "trial_BLA_mPFC_RMS_filtered_coherence_all_frequencies\n",
      "trial_BLA_vHPC_RMS_filtered_coherence_all_frequencies\n",
      "trial_LH_MD_RMS_filtered_coherence_all_frequencies\n",
      "trial_LH_mPFC_RMS_filtered_coherence_all_frequencies\n",
      "trial_LH_vHPC_RMS_filtered_coherence_all_frequencies\n",
      "trial_MD_mPFC_RMS_filtered_coherence_all_frequencies\n",
      "trial_MD_vHPC_RMS_filtered_coherence_all_frequencies\n",
      "trial_mPFC_vHPC_RMS_filtered_coherence_all_frequencies\n",
      "trial_coherence_timestamps\n",
      "baseline_BLA_LH_granger_all_frequencies\n",
      "baseline_LH_BLA_granger_all_frequencies\n",
      "baseline_BLA_MD_granger_all_frequencies\n",
      "baseline_MD_BLA_granger_all_frequencies\n",
      "baseline_BLA_mPFC_granger_all_frequencies\n",
      "baseline_mPFC_BLA_granger_all_frequencies\n",
      "baseline_BLA_vHPC_granger_all_frequencies\n",
      "baseline_vHPC_BLA_granger_all_frequencies\n",
      "baseline_LH_MD_granger_all_frequencies\n",
      "baseline_MD_LH_granger_all_frequencies\n",
      "baseline_LH_mPFC_granger_all_frequencies\n",
      "baseline_mPFC_LH_granger_all_frequencies\n",
      "baseline_LH_vHPC_granger_all_frequencies\n",
      "baseline_vHPC_LH_granger_all_frequencies\n",
      "baseline_MD_mPFC_granger_all_frequencies\n",
      "baseline_mPFC_MD_granger_all_frequencies\n",
      "baseline_MD_vHPC_granger_all_frequencies\n",
      "baseline_vHPC_MD_granger_all_frequencies\n",
      "baseline_mPFC_vHPC_granger_all_frequencies\n",
      "baseline_vHPC_mPFC_granger_all_frequencies\n",
      "baseline_granger_timestamps\n",
      "trial_BLA_LH_granger_all_frequencies\n",
      "trial_LH_BLA_granger_all_frequencies\n",
      "trial_BLA_MD_granger_all_frequencies\n",
      "trial_MD_BLA_granger_all_frequencies\n",
      "trial_BLA_mPFC_granger_all_frequencies\n",
      "trial_mPFC_BLA_granger_all_frequencies\n",
      "trial_BLA_vHPC_granger_all_frequencies\n",
      "trial_vHPC_BLA_granger_all_frequencies\n",
      "trial_LH_MD_granger_all_frequencies\n",
      "trial_MD_LH_granger_all_frequencies\n",
      "trial_LH_mPFC_granger_all_frequencies\n",
      "trial_mPFC_LH_granger_all_frequencies\n",
      "trial_LH_vHPC_granger_all_frequencies\n",
      "trial_vHPC_LH_granger_all_frequencies\n",
      "trial_MD_mPFC_granger_all_frequencies\n",
      "trial_mPFC_MD_granger_all_frequencies\n",
      "trial_MD_vHPC_granger_all_frequencies\n",
      "trial_vHPC_MD_granger_all_frequencies\n",
      "trial_mPFC_vHPC_granger_all_frequencies\n",
      "trial_vHPC_mPFC_granger_all_frequencies\n",
      "trial_granger_timestamps\n",
      "baseline_mPFC_RMS_filtered_power_all_frequencies\n",
      "baseline_MD_RMS_filtered_power_all_frequencies\n",
      "baseline_LH_RMS_filtered_power_all_frequencies\n",
      "baseline_BLA_RMS_filtered_power_all_frequencies\n",
      "baseline_vHPC_RMS_filtered_power_all_frequencies\n",
      "baseline_power_timestamps\n",
      "trial_mPFC_RMS_filtered_power_all_frequencies\n",
      "trial_MD_RMS_filtered_power_all_frequencies\n",
      "trial_LH_RMS_filtered_power_all_frequencies\n",
      "trial_BLA_RMS_filtered_power_all_frequencies\n",
      "trial_vHPC_RMS_filtered_power_all_frequencies\n",
      "trial_power_timestamps\n"
     ]
    }
   ],
   "source": [
    "for col in TRIALS_AND_SPECTRAL_DF:\n",
    "    print(col)"
   ]
  },
  {
   "cell_type": "markdown",
   "metadata": {},
   "source": [
    "# Filtering for rows that are in the video"
   ]
  },
  {
   "cell_type": "code",
   "execution_count": 89,
   "metadata": {
    "tags": []
   },
   "outputs": [],
   "source": [
    "TRIALS_AND_SPECTRAL_DF[\"in_video\"] = TRIALS_AND_SPECTRAL_DF.apply(lambda x: x[\"start_frame\"] <= x[\"trial_video_frame\"][0] <= x[\"stop_frame\"], axis=1)"
   ]
  },
  {
   "cell_type": "code",
   "execution_count": 90,
   "metadata": {
    "tags": []
   },
   "outputs": [],
   "source": [
    "TRIALS_AND_SPECTRAL_DF = TRIALS_AND_SPECTRAL_DF[TRIALS_AND_SPECTRAL_DF[\"in_video\"]].reset_index()"
   ]
  },
  {
   "cell_type": "code",
   "execution_count": 91,
   "metadata": {
    "tags": []
   },
   "outputs": [
    {
     "data": {
      "text/html": [
       "<div>\n",
       "<style scoped>\n",
       "    .dataframe tbody tr th:only-of-type {\n",
       "        vertical-align: middle;\n",
       "    }\n",
       "\n",
       "    .dataframe tbody tr th {\n",
       "        vertical-align: top;\n",
       "    }\n",
       "\n",
       "    .dataframe thead th {\n",
       "        text-align: right;\n",
       "    }\n",
       "</style>\n",
       "<table border=\"1\" class=\"dataframe\">\n",
       "  <thead>\n",
       "    <tr style=\"text-align: right;\">\n",
       "      <th></th>\n",
       "      <th>index</th>\n",
       "      <th>tracked_subject</th>\n",
       "      <th>box_number</th>\n",
       "      <th>sleap_name</th>\n",
       "      <th>video_name</th>\n",
       "      <th>current_subject</th>\n",
       "      <th>tone_start_frame</th>\n",
       "      <th>reward_start_frame</th>\n",
       "      <th>tone_stop_frame</th>\n",
       "      <th>condition</th>\n",
       "      <th>...</th>\n",
       "      <th>baseline_BLA_RMS_filtered_power_all_frequencies</th>\n",
       "      <th>baseline_vHPC_RMS_filtered_power_all_frequencies</th>\n",
       "      <th>baseline_power_timestamps</th>\n",
       "      <th>trial_mPFC_RMS_filtered_power_all_frequencies</th>\n",
       "      <th>trial_MD_RMS_filtered_power_all_frequencies</th>\n",
       "      <th>trial_LH_RMS_filtered_power_all_frequencies</th>\n",
       "      <th>trial_BLA_RMS_filtered_power_all_frequencies</th>\n",
       "      <th>trial_vHPC_RMS_filtered_power_all_frequencies</th>\n",
       "      <th>trial_power_timestamps</th>\n",
       "      <th>in_video</th>\n",
       "    </tr>\n",
       "  </thead>\n",
       "  <tbody>\n",
       "    <tr>\n",
       "      <th>0</th>\n",
       "      <td>0</td>\n",
       "      <td>['1.1', '1.2']</td>\n",
       "      <td>1</td>\n",
       "      <td>20230612_112630_standard_comp_to_training_D1_s...</td>\n",
       "      <td>20230612_112630_standard_comp_to_training_D1_s...</td>\n",
       "      <td>1.1</td>\n",
       "      <td>1125</td>\n",
       "      <td>1225</td>\n",
       "      <td>1324</td>\n",
       "      <td>1.1</td>\n",
       "      <td>...</td>\n",
       "      <td>[[0.0053445, 0.009117814, 0.013600164, 0.01733...</td>\n",
       "      <td>[[nan, nan, nan, nan, nan, nan, nan, nan, nan,...</td>\n",
       "      <td>[530000, 540000, 550000, 560000, 570000, 58000...</td>\n",
       "      <td>[[0.0036949348, 0.007999057, 0.007659001, 0.00...</td>\n",
       "      <td>[[0.00042359624, 0.0016437627, 0.003002788, 0....</td>\n",
       "      <td>[[0.0011694891, 0.0023001411, 0.003132459, 0.0...</td>\n",
       "      <td>[[0.013438185, 0.007965831, 0.009173761, 0.006...</td>\n",
       "      <td>[[0.010709718, 0.013590651, 0.022826178, 0.034...</td>\n",
       "      <td>[1130000, 1140000, 1150000, 1160000, 1170000, ...</td>\n",
       "      <td>True</td>\n",
       "    </tr>\n",
       "    <tr>\n",
       "      <th>1</th>\n",
       "      <td>1</td>\n",
       "      <td>['1.1', '1.2']</td>\n",
       "      <td>1</td>\n",
       "      <td>20230612_112630_standard_comp_to_training_D1_s...</td>\n",
       "      <td>20230612_112630_standard_comp_to_training_D1_s...</td>\n",
       "      <td>1.1</td>\n",
       "      <td>3519</td>\n",
       "      <td>3619</td>\n",
       "      <td>3720</td>\n",
       "      <td>1.2</td>\n",
       "      <td>...</td>\n",
       "      <td>[[0.00074698013, 0.0019324338, 0.005081963, 0....</td>\n",
       "      <td>[[0.003017959, 0.004722126, 0.008384243, 0.007...</td>\n",
       "      <td>[2930000, 2940000, 2950000, 2960000, 2970000, ...</td>\n",
       "      <td>[[0.017848626, 0.008553031, 0.013145922, 0.013...</td>\n",
       "      <td>[[0.0011482978, 0.0012844221, 0.0074498164, 0....</td>\n",
       "      <td>[[0.0022857906, 0.0023879802, 0.009314143, 0.0...</td>\n",
       "      <td>[[0.0095668975, 0.005058259, 0.00864778, 0.009...</td>\n",
       "      <td>[[nan, nan, nan, nan, nan, nan, nan, nan, nan,...</td>\n",
       "      <td>[3530000, 3540000, 3550000, 3560000, 3570000, ...</td>\n",
       "      <td>True</td>\n",
       "    </tr>\n",
       "    <tr>\n",
       "      <th>2</th>\n",
       "      <td>2</td>\n",
       "      <td>['1.1', '1.2']</td>\n",
       "      <td>1</td>\n",
       "      <td>20230612_112630_standard_comp_to_training_D1_s...</td>\n",
       "      <td>20230612_112630_standard_comp_to_training_D1_s...</td>\n",
       "      <td>1.1</td>\n",
       "      <td>5815</td>\n",
       "      <td>5915</td>\n",
       "      <td>6014</td>\n",
       "      <td>1.2</td>\n",
       "      <td>...</td>\n",
       "      <td>[[0.016759386, 0.01684738, 0.021563489, 0.0619...</td>\n",
       "      <td>[[0.030797603, 0.04075655, 0.0501173, 0.065892...</td>\n",
       "      <td>[5230000, 5240000, 5250000, 5260000, 5270000, ...</td>\n",
       "      <td>[[0.018773032, 0.01531122, 0.023816012, 0.0154...</td>\n",
       "      <td>[[0.005590848, 0.0029627604, 0.010847095, 0.00...</td>\n",
       "      <td>[[0.0060438192, 0.0049293297, 0.0144101195, 0....</td>\n",
       "      <td>[[0.0006228732, 0.0015296962, 0.009809779, 0.0...</td>\n",
       "      <td>[[0.00064211205, 0.0052212942, 0.00709957, 0.0...</td>\n",
       "      <td>[5830000, 5840000, 5850000, 5860000, 5870000, ...</td>\n",
       "      <td>True</td>\n",
       "    </tr>\n",
       "    <tr>\n",
       "      <th>3</th>\n",
       "      <td>3</td>\n",
       "      <td>['1.1', '1.2']</td>\n",
       "      <td>1</td>\n",
       "      <td>20230612_112630_standard_comp_to_training_D1_s...</td>\n",
       "      <td>20230612_112630_standard_comp_to_training_D1_s...</td>\n",
       "      <td>1.1</td>\n",
       "      <td>7612</td>\n",
       "      <td>7712</td>\n",
       "      <td>7811</td>\n",
       "      <td>1.2</td>\n",
       "      <td>...</td>\n",
       "      <td>[[0.002649237, 0.0030132718, 0.009533786, 0.00...</td>\n",
       "      <td>[[0.018817268, 0.009095607, 0.008399841, 0.008...</td>\n",
       "      <td>[7030000, 7040000, 7050000, 7060000, 7070000, ...</td>\n",
       "      <td>[[0.00018646946, 0.006876981, 0.010109808, 0.0...</td>\n",
       "      <td>[[0.0037040254, 0.013202633, 0.018202007, 0.02...</td>\n",
       "      <td>[[0.004745133, 0.018028835, 0.02716619, 0.0303...</td>\n",
       "      <td>[[0.014945692, 0.009991203, 0.014374675, 0.019...</td>\n",
       "      <td>[[0.020167792, 0.028338362, 0.033197377, 0.035...</td>\n",
       "      <td>[7630000, 7640000, 7650000, 7660000, 7670000, ...</td>\n",
       "      <td>True</td>\n",
       "    </tr>\n",
       "    <tr>\n",
       "      <th>4</th>\n",
       "      <td>4</td>\n",
       "      <td>['1.1', '1.2']</td>\n",
       "      <td>1</td>\n",
       "      <td>20230612_112630_standard_comp_to_training_D1_s...</td>\n",
       "      <td>20230612_112630_standard_comp_to_training_D1_s...</td>\n",
       "      <td>1.1</td>\n",
       "      <td>8709</td>\n",
       "      <td>8809</td>\n",
       "      <td>8910</td>\n",
       "      <td>1.2</td>\n",
       "      <td>...</td>\n",
       "      <td>[[0.009458285, 0.0050086575, 0.02026654, 0.016...</td>\n",
       "      <td>[[0.015467933, 0.035288256, 0.044622492, 0.053...</td>\n",
       "      <td>[8130000, 8140000, 8150000, 8160000, 8170000, ...</td>\n",
       "      <td>[[0.006448407, 0.0046525886, 0.010715893, 0.01...</td>\n",
       "      <td>[[0.016451372, 0.010215264, 0.025078585, 0.018...</td>\n",
       "      <td>[[0.014854475, 0.008580038, 0.025409121, 0.017...</td>\n",
       "      <td>[[0.0016100197, 0.003484194, 0.008553746, 0.00...</td>\n",
       "      <td>[[0.0038173422, 0.008268023, 0.053486157, 0.04...</td>\n",
       "      <td>[8730000, 8740000, 8750000, 8760000, 8770000, ...</td>\n",
       "      <td>True</td>\n",
       "    </tr>\n",
       "    <tr>\n",
       "      <th>...</th>\n",
       "      <td>...</td>\n",
       "      <td>...</td>\n",
       "      <td>...</td>\n",
       "      <td>...</td>\n",
       "      <td>...</td>\n",
       "      <td>...</td>\n",
       "      <td>...</td>\n",
       "      <td>...</td>\n",
       "      <td>...</td>\n",
       "      <td>...</td>\n",
       "      <td>...</td>\n",
       "      <td>...</td>\n",
       "      <td>...</td>\n",
       "      <td>...</td>\n",
       "      <td>...</td>\n",
       "      <td>...</td>\n",
       "      <td>...</td>\n",
       "      <td>...</td>\n",
       "      <td>...</td>\n",
       "      <td>...</td>\n",
       "      <td>...</td>\n",
       "    </tr>\n",
       "    <tr>\n",
       "      <th>962</th>\n",
       "      <td>1364</td>\n",
       "      <td>['1.2', '2.2']</td>\n",
       "      <td>2</td>\n",
       "      <td>20230630_115506_standard_comp_to_novel_agent_D...</td>\n",
       "      <td>20230630_115506_standard_comp_to_novel_agent_D...</td>\n",
       "      <td>1.2</td>\n",
       "      <td>60714</td>\n",
       "      <td>60814</td>\n",
       "      <td>60914</td>\n",
       "      <td>2.2</td>\n",
       "      <td>...</td>\n",
       "      <td>[[nan, nan, nan, nan, nan, nan, nan, nan, nan,...</td>\n",
       "      <td>[[0.0071711177, 0.014786493, 0.034027837, 0.06...</td>\n",
       "      <td>[60080000, 60090000, 60100000, 60110000, 60120...</td>\n",
       "      <td>[[0.014995416, 0.025160601, 0.053282887, 0.052...</td>\n",
       "      <td>[[0.0042650145, 0.01030745, 0.016010838, 0.016...</td>\n",
       "      <td>[[0.007697165, 0.0050790645, 0.009917309, 0.00...</td>\n",
       "      <td>[[0.0019604678, 0.012234782, 0.02637097, 0.031...</td>\n",
       "      <td>[[0.007658908, 0.012092575, 0.01083155, 0.0176...</td>\n",
       "      <td>[60680000, 60690000, 60700000, 60710000, 60720...</td>\n",
       "      <td>True</td>\n",
       "    </tr>\n",
       "    <tr>\n",
       "      <th>963</th>\n",
       "      <td>1365</td>\n",
       "      <td>['1.2', '2.2']</td>\n",
       "      <td>2</td>\n",
       "      <td>20230630_115506_standard_comp_to_novel_agent_D...</td>\n",
       "      <td>20230630_115506_standard_comp_to_novel_agent_D...</td>\n",
       "      <td>1.2</td>\n",
       "      <td>62211</td>\n",
       "      <td>62311</td>\n",
       "      <td>62410</td>\n",
       "      <td>2.2</td>\n",
       "      <td>...</td>\n",
       "      <td>[[0.006126407, 0.006595921, 0.013197454, 0.021...</td>\n",
       "      <td>[[0.01986751, 0.027059382, 0.041030604, 0.0667...</td>\n",
       "      <td>[61580000, 61590000, 61600000, 61610000, 61620...</td>\n",
       "      <td>[[0.0072337925, 0.021421026, 0.038229957, 0.04...</td>\n",
       "      <td>[[0.0021478024, 0.0063471, 0.009041803, 0.0140...</td>\n",
       "      <td>[[0.0037544742, 0.0068358756, 0.008283584, 0.0...</td>\n",
       "      <td>[[0.008337432, 0.019161101, 0.021618765, 0.036...</td>\n",
       "      <td>[[nan, nan, nan, nan, nan, nan, nan, nan, nan,...</td>\n",
       "      <td>[62180000, 62190000, 62200000, 62210000, 62220...</td>\n",
       "      <td>True</td>\n",
       "    </tr>\n",
       "    <tr>\n",
       "      <th>964</th>\n",
       "      <td>1366</td>\n",
       "      <td>['1.2', '2.2']</td>\n",
       "      <td>2</td>\n",
       "      <td>20230630_115506_standard_comp_to_novel_agent_D...</td>\n",
       "      <td>20230630_115506_standard_comp_to_novel_agent_D...</td>\n",
       "      <td>1.2</td>\n",
       "      <td>64207</td>\n",
       "      <td>64307</td>\n",
       "      <td>64406</td>\n",
       "      <td>2.2</td>\n",
       "      <td>...</td>\n",
       "      <td>[[0.0014349533, 0.0024926818, 0.03847968, 0.07...</td>\n",
       "      <td>[[0.0021331196, 0.005420561, 0.00925772, 0.025...</td>\n",
       "      <td>[63580000, 63590000, 63600000, 63610000, 63620...</td>\n",
       "      <td>[[0.01442058, 0.029905096, 0.034996513, 0.0200...</td>\n",
       "      <td>[[0.0009101017, 0.0050687552, 0.0067122895, 0....</td>\n",
       "      <td>[[0.003145018, 0.007349192, 0.014582841, 0.039...</td>\n",
       "      <td>[[0.0047923764, 0.018876847, 0.031234432, 0.03...</td>\n",
       "      <td>[[0.009192458, 0.008046198, 0.012331878, 0.019...</td>\n",
       "      <td>[64180000, 64190000, 64200000, 64210000, 64220...</td>\n",
       "      <td>True</td>\n",
       "    </tr>\n",
       "    <tr>\n",
       "      <th>965</th>\n",
       "      <td>1367</td>\n",
       "      <td>['1.2', '2.2']</td>\n",
       "      <td>2</td>\n",
       "      <td>20230630_115506_standard_comp_to_novel_agent_D...</td>\n",
       "      <td>20230630_115506_standard_comp_to_novel_agent_D...</td>\n",
       "      <td>1.2</td>\n",
       "      <td>66104</td>\n",
       "      <td>66204</td>\n",
       "      <td>66303</td>\n",
       "      <td>2.2</td>\n",
       "      <td>...</td>\n",
       "      <td>[[0.0020582802, 0.006413446, 0.039571907, 0.03...</td>\n",
       "      <td>[[0.016651029, 0.026614359, 0.06669322, 0.0805...</td>\n",
       "      <td>[65480000, 65490000, 65500000, 65510000, 65520...</td>\n",
       "      <td>[[0.013179208, 0.010381244, 0.015889207, 0.028...</td>\n",
       "      <td>[[0.0037764022, 0.012251192, 0.021605548, 0.03...</td>\n",
       "      <td>[[0.0022053132, 0.013255892, 0.034319565, 0.03...</td>\n",
       "      <td>[[0.007995949, 0.0071013817, 0.02760318, 0.035...</td>\n",
       "      <td>[[0.009785848, 0.0075619244, 0.039878756, 0.04...</td>\n",
       "      <td>[66080000, 66090000, 66100000, 66110000, 66120...</td>\n",
       "      <td>True</td>\n",
       "    </tr>\n",
       "    <tr>\n",
       "      <th>966</th>\n",
       "      <td>1368</td>\n",
       "      <td>['1.2', '2.2']</td>\n",
       "      <td>2</td>\n",
       "      <td>20230630_115506_standard_comp_to_novel_agent_D...</td>\n",
       "      <td>20230630_115506_standard_comp_to_novel_agent_D...</td>\n",
       "      <td>1.2</td>\n",
       "      <td>67102</td>\n",
       "      <td>67202</td>\n",
       "      <td>67301</td>\n",
       "      <td>2.2</td>\n",
       "      <td>...</td>\n",
       "      <td>[[0.00069804455, 0.0144013055, 0.015100667, 0....</td>\n",
       "      <td>[[0.0016019655, 0.062665984, 0.06842936, 0.108...</td>\n",
       "      <td>[66480000, 66490000, 66500000, 66510000, 66520...</td>\n",
       "      <td>[[0.0077591604, 0.051422723, 0.09426388, 0.119...</td>\n",
       "      <td>[[0.010582301, 0.026441064, 0.05928556, 0.0611...</td>\n",
       "      <td>[[0.006950301, 0.0123160025, 0.054949906, 0.05...</td>\n",
       "      <td>[[0.0044382373, 0.018190147, 0.07209554, 0.100...</td>\n",
       "      <td>[[0.008133764, 0.011563758, 0.019495247, 0.024...</td>\n",
       "      <td>[67080000, 67090000, 67100000, 67110000, 67120...</td>\n",
       "      <td>True</td>\n",
       "    </tr>\n",
       "  </tbody>\n",
       "</table>\n",
       "<p>967 rows × 139 columns</p>\n",
       "</div>"
      ],
      "text/plain": [
       "     index tracked_subject  box_number  \\\n",
       "0        0  ['1.1', '1.2']           1   \n",
       "1        1  ['1.1', '1.2']           1   \n",
       "2        2  ['1.1', '1.2']           1   \n",
       "3        3  ['1.1', '1.2']           1   \n",
       "4        4  ['1.1', '1.2']           1   \n",
       "..     ...             ...         ...   \n",
       "962   1364  ['1.2', '2.2']           2   \n",
       "963   1365  ['1.2', '2.2']           2   \n",
       "964   1366  ['1.2', '2.2']           2   \n",
       "965   1367  ['1.2', '2.2']           2   \n",
       "966   1368  ['1.2', '2.2']           2   \n",
       "\n",
       "                                            sleap_name  \\\n",
       "0    20230612_112630_standard_comp_to_training_D1_s...   \n",
       "1    20230612_112630_standard_comp_to_training_D1_s...   \n",
       "2    20230612_112630_standard_comp_to_training_D1_s...   \n",
       "3    20230612_112630_standard_comp_to_training_D1_s...   \n",
       "4    20230612_112630_standard_comp_to_training_D1_s...   \n",
       "..                                                 ...   \n",
       "962  20230630_115506_standard_comp_to_novel_agent_D...   \n",
       "963  20230630_115506_standard_comp_to_novel_agent_D...   \n",
       "964  20230630_115506_standard_comp_to_novel_agent_D...   \n",
       "965  20230630_115506_standard_comp_to_novel_agent_D...   \n",
       "966  20230630_115506_standard_comp_to_novel_agent_D...   \n",
       "\n",
       "                                            video_name current_subject  \\\n",
       "0    20230612_112630_standard_comp_to_training_D1_s...             1.1   \n",
       "1    20230612_112630_standard_comp_to_training_D1_s...             1.1   \n",
       "2    20230612_112630_standard_comp_to_training_D1_s...             1.1   \n",
       "3    20230612_112630_standard_comp_to_training_D1_s...             1.1   \n",
       "4    20230612_112630_standard_comp_to_training_D1_s...             1.1   \n",
       "..                                                 ...             ...   \n",
       "962  20230630_115506_standard_comp_to_novel_agent_D...             1.2   \n",
       "963  20230630_115506_standard_comp_to_novel_agent_D...             1.2   \n",
       "964  20230630_115506_standard_comp_to_novel_agent_D...             1.2   \n",
       "965  20230630_115506_standard_comp_to_novel_agent_D...             1.2   \n",
       "966  20230630_115506_standard_comp_to_novel_agent_D...             1.2   \n",
       "\n",
       "     tone_start_frame  reward_start_frame  tone_stop_frame condition  ...  \\\n",
       "0                1125                1225             1324       1.1  ...   \n",
       "1                3519                3619             3720       1.2  ...   \n",
       "2                5815                5915             6014       1.2  ...   \n",
       "3                7612                7712             7811       1.2  ...   \n",
       "4                8709                8809             8910       1.2  ...   \n",
       "..                ...                 ...              ...       ...  ...   \n",
       "962             60714               60814            60914       2.2  ...   \n",
       "963             62211               62311            62410       2.2  ...   \n",
       "964             64207               64307            64406       2.2  ...   \n",
       "965             66104               66204            66303       2.2  ...   \n",
       "966             67102               67202            67301       2.2  ...   \n",
       "\n",
       "       baseline_BLA_RMS_filtered_power_all_frequencies  \\\n",
       "0    [[0.0053445, 0.009117814, 0.013600164, 0.01733...   \n",
       "1    [[0.00074698013, 0.0019324338, 0.005081963, 0....   \n",
       "2    [[0.016759386, 0.01684738, 0.021563489, 0.0619...   \n",
       "3    [[0.002649237, 0.0030132718, 0.009533786, 0.00...   \n",
       "4    [[0.009458285, 0.0050086575, 0.02026654, 0.016...   \n",
       "..                                                 ...   \n",
       "962  [[nan, nan, nan, nan, nan, nan, nan, nan, nan,...   \n",
       "963  [[0.006126407, 0.006595921, 0.013197454, 0.021...   \n",
       "964  [[0.0014349533, 0.0024926818, 0.03847968, 0.07...   \n",
       "965  [[0.0020582802, 0.006413446, 0.039571907, 0.03...   \n",
       "966  [[0.00069804455, 0.0144013055, 0.015100667, 0....   \n",
       "\n",
       "      baseline_vHPC_RMS_filtered_power_all_frequencies  \\\n",
       "0    [[nan, nan, nan, nan, nan, nan, nan, nan, nan,...   \n",
       "1    [[0.003017959, 0.004722126, 0.008384243, 0.007...   \n",
       "2    [[0.030797603, 0.04075655, 0.0501173, 0.065892...   \n",
       "3    [[0.018817268, 0.009095607, 0.008399841, 0.008...   \n",
       "4    [[0.015467933, 0.035288256, 0.044622492, 0.053...   \n",
       "..                                                 ...   \n",
       "962  [[0.0071711177, 0.014786493, 0.034027837, 0.06...   \n",
       "963  [[0.01986751, 0.027059382, 0.041030604, 0.0667...   \n",
       "964  [[0.0021331196, 0.005420561, 0.00925772, 0.025...   \n",
       "965  [[0.016651029, 0.026614359, 0.06669322, 0.0805...   \n",
       "966  [[0.0016019655, 0.062665984, 0.06842936, 0.108...   \n",
       "\n",
       "                             baseline_power_timestamps  \\\n",
       "0    [530000, 540000, 550000, 560000, 570000, 58000...   \n",
       "1    [2930000, 2940000, 2950000, 2960000, 2970000, ...   \n",
       "2    [5230000, 5240000, 5250000, 5260000, 5270000, ...   \n",
       "3    [7030000, 7040000, 7050000, 7060000, 7070000, ...   \n",
       "4    [8130000, 8140000, 8150000, 8160000, 8170000, ...   \n",
       "..                                                 ...   \n",
       "962  [60080000, 60090000, 60100000, 60110000, 60120...   \n",
       "963  [61580000, 61590000, 61600000, 61610000, 61620...   \n",
       "964  [63580000, 63590000, 63600000, 63610000, 63620...   \n",
       "965  [65480000, 65490000, 65500000, 65510000, 65520...   \n",
       "966  [66480000, 66490000, 66500000, 66510000, 66520...   \n",
       "\n",
       "         trial_mPFC_RMS_filtered_power_all_frequencies  \\\n",
       "0    [[0.0036949348, 0.007999057, 0.007659001, 0.00...   \n",
       "1    [[0.017848626, 0.008553031, 0.013145922, 0.013...   \n",
       "2    [[0.018773032, 0.01531122, 0.023816012, 0.0154...   \n",
       "3    [[0.00018646946, 0.006876981, 0.010109808, 0.0...   \n",
       "4    [[0.006448407, 0.0046525886, 0.010715893, 0.01...   \n",
       "..                                                 ...   \n",
       "962  [[0.014995416, 0.025160601, 0.053282887, 0.052...   \n",
       "963  [[0.0072337925, 0.021421026, 0.038229957, 0.04...   \n",
       "964  [[0.01442058, 0.029905096, 0.034996513, 0.0200...   \n",
       "965  [[0.013179208, 0.010381244, 0.015889207, 0.028...   \n",
       "966  [[0.0077591604, 0.051422723, 0.09426388, 0.119...   \n",
       "\n",
       "           trial_MD_RMS_filtered_power_all_frequencies  \\\n",
       "0    [[0.00042359624, 0.0016437627, 0.003002788, 0....   \n",
       "1    [[0.0011482978, 0.0012844221, 0.0074498164, 0....   \n",
       "2    [[0.005590848, 0.0029627604, 0.010847095, 0.00...   \n",
       "3    [[0.0037040254, 0.013202633, 0.018202007, 0.02...   \n",
       "4    [[0.016451372, 0.010215264, 0.025078585, 0.018...   \n",
       "..                                                 ...   \n",
       "962  [[0.0042650145, 0.01030745, 0.016010838, 0.016...   \n",
       "963  [[0.0021478024, 0.0063471, 0.009041803, 0.0140...   \n",
       "964  [[0.0009101017, 0.0050687552, 0.0067122895, 0....   \n",
       "965  [[0.0037764022, 0.012251192, 0.021605548, 0.03...   \n",
       "966  [[0.010582301, 0.026441064, 0.05928556, 0.0611...   \n",
       "\n",
       "           trial_LH_RMS_filtered_power_all_frequencies  \\\n",
       "0    [[0.0011694891, 0.0023001411, 0.003132459, 0.0...   \n",
       "1    [[0.0022857906, 0.0023879802, 0.009314143, 0.0...   \n",
       "2    [[0.0060438192, 0.0049293297, 0.0144101195, 0....   \n",
       "3    [[0.004745133, 0.018028835, 0.02716619, 0.0303...   \n",
       "4    [[0.014854475, 0.008580038, 0.025409121, 0.017...   \n",
       "..                                                 ...   \n",
       "962  [[0.007697165, 0.0050790645, 0.009917309, 0.00...   \n",
       "963  [[0.0037544742, 0.0068358756, 0.008283584, 0.0...   \n",
       "964  [[0.003145018, 0.007349192, 0.014582841, 0.039...   \n",
       "965  [[0.0022053132, 0.013255892, 0.034319565, 0.03...   \n",
       "966  [[0.006950301, 0.0123160025, 0.054949906, 0.05...   \n",
       "\n",
       "          trial_BLA_RMS_filtered_power_all_frequencies  \\\n",
       "0    [[0.013438185, 0.007965831, 0.009173761, 0.006...   \n",
       "1    [[0.0095668975, 0.005058259, 0.00864778, 0.009...   \n",
       "2    [[0.0006228732, 0.0015296962, 0.009809779, 0.0...   \n",
       "3    [[0.014945692, 0.009991203, 0.014374675, 0.019...   \n",
       "4    [[0.0016100197, 0.003484194, 0.008553746, 0.00...   \n",
       "..                                                 ...   \n",
       "962  [[0.0019604678, 0.012234782, 0.02637097, 0.031...   \n",
       "963  [[0.008337432, 0.019161101, 0.021618765, 0.036...   \n",
       "964  [[0.0047923764, 0.018876847, 0.031234432, 0.03...   \n",
       "965  [[0.007995949, 0.0071013817, 0.02760318, 0.035...   \n",
       "966  [[0.0044382373, 0.018190147, 0.07209554, 0.100...   \n",
       "\n",
       "         trial_vHPC_RMS_filtered_power_all_frequencies  \\\n",
       "0    [[0.010709718, 0.013590651, 0.022826178, 0.034...   \n",
       "1    [[nan, nan, nan, nan, nan, nan, nan, nan, nan,...   \n",
       "2    [[0.00064211205, 0.0052212942, 0.00709957, 0.0...   \n",
       "3    [[0.020167792, 0.028338362, 0.033197377, 0.035...   \n",
       "4    [[0.0038173422, 0.008268023, 0.053486157, 0.04...   \n",
       "..                                                 ...   \n",
       "962  [[0.007658908, 0.012092575, 0.01083155, 0.0176...   \n",
       "963  [[nan, nan, nan, nan, nan, nan, nan, nan, nan,...   \n",
       "964  [[0.009192458, 0.008046198, 0.012331878, 0.019...   \n",
       "965  [[0.009785848, 0.0075619244, 0.039878756, 0.04...   \n",
       "966  [[0.008133764, 0.011563758, 0.019495247, 0.024...   \n",
       "\n",
       "                                trial_power_timestamps in_video  \n",
       "0    [1130000, 1140000, 1150000, 1160000, 1170000, ...     True  \n",
       "1    [3530000, 3540000, 3550000, 3560000, 3570000, ...     True  \n",
       "2    [5830000, 5840000, 5850000, 5860000, 5870000, ...     True  \n",
       "3    [7630000, 7640000, 7650000, 7660000, 7670000, ...     True  \n",
       "4    [8730000, 8740000, 8750000, 8760000, 8770000, ...     True  \n",
       "..                                                 ...      ...  \n",
       "962  [60680000, 60690000, 60700000, 60710000, 60720...     True  \n",
       "963  [62180000, 62190000, 62200000, 62210000, 62220...     True  \n",
       "964  [64180000, 64190000, 64200000, 64210000, 64220...     True  \n",
       "965  [66080000, 66090000, 66100000, 66110000, 66120...     True  \n",
       "966  [67080000, 67090000, 67100000, 67110000, 67120...     True  \n",
       "\n",
       "[967 rows x 139 columns]"
      ]
     },
     "execution_count": 91,
     "metadata": {},
     "output_type": "execute_result"
    }
   ],
   "source": [
    "TRIALS_AND_SPECTRAL_DF"
   ]
  },
  {
   "cell_type": "code",
   "execution_count": 92,
   "metadata": {
    "tags": []
   },
   "outputs": [],
   "source": [
    "TRIALS_AND_SPECTRAL_DF.to_pickle(os.path.join(OUTPUT_DIR, FULL_LFP_TRACES_PKL))"
   ]
  },
  {
   "cell_type": "code",
   "execution_count": 97,
   "metadata": {
    "tags": []
   },
   "outputs": [
    {
     "name": "stdout",
     "output_type": "stream",
     "text": [
      "index\n",
      "tracked_subject\n",
      "box_number\n",
      "sleap_name\n",
      "video_name\n",
      "current_subject\n",
      "tone_start_frame\n",
      "reward_start_frame\n",
      "tone_stop_frame\n",
      "condition\n",
      "competition_closeness\n",
      "notes\n",
      "experiment\n",
      "session_dir\n",
      "all_subjects\n",
      "tone_start_timestamp\n",
      "tone_stop_timestamp\n",
      "trial_label\n",
      "cohort\n",
      "tone_frames\n",
      "box_1_port_entry_frames\n",
      "box_2_port_entry_frames\n",
      "session_path\n",
      "recording\n",
      "subject\n",
      "first_timestamp\n",
      "last_timestamp\n",
      "tone_timestamps\n",
      "box_1_port_entry_timestamps\n",
      "box_2_port_entry_timestamps\n",
      "lfp_timestamps\n",
      "power_calculation_frequencies\n",
      "coherence_calculation_frequencies\n",
      "granger_calculation_frequencies\n",
      "start_frame\n",
      "stop_frame\n",
      "in_video_subjects\n",
      "body_parts\n",
      "box_top_left\n",
      "box_top_right\n",
      "reward_port\n",
      "box_bottom_left\n",
      "box_bottom_right\n",
      "agent\n",
      "baseline_start_timestamp\n",
      "baseline_stop_timestamp\n",
      "baseline_agent_locations\n",
      "baseline_agent_thorax_to_reward_port\n",
      "baseline_agent_thorax_velocity\n",
      "baseline_subject_locations\n",
      "baseline_subject_thorax_to_reward_port\n",
      "baseline_subject_thorax_velocity\n",
      "baseline_video_frame\n",
      "baseline_video_timestamps\n",
      "trial_agent_locations\n",
      "trial_agent_thorax_to_reward_port\n",
      "trial_agent_thorax_velocity\n",
      "trial_subject_locations\n",
      "trial_subject_thorax_to_reward_port\n",
      "trial_subject_thorax_velocity\n",
      "trial_video_frame\n",
      "trial_video_timestamps\n",
      "baseline_BLA_LH_RMS_filtered_coherence_all_frequencies\n",
      "baseline_BLA_MD_RMS_filtered_coherence_all_frequencies\n",
      "baseline_BLA_mPFC_RMS_filtered_coherence_all_frequencies\n",
      "baseline_BLA_vHPC_RMS_filtered_coherence_all_frequencies\n",
      "baseline_LH_MD_RMS_filtered_coherence_all_frequencies\n",
      "baseline_LH_mPFC_RMS_filtered_coherence_all_frequencies\n",
      "baseline_LH_vHPC_RMS_filtered_coherence_all_frequencies\n",
      "baseline_MD_mPFC_RMS_filtered_coherence_all_frequencies\n",
      "baseline_MD_vHPC_RMS_filtered_coherence_all_frequencies\n",
      "baseline_mPFC_vHPC_RMS_filtered_coherence_all_frequencies\n",
      "baseline_coherence_timestamps\n",
      "trial_BLA_LH_RMS_filtered_coherence_all_frequencies\n",
      "trial_BLA_MD_RMS_filtered_coherence_all_frequencies\n",
      "trial_BLA_mPFC_RMS_filtered_coherence_all_frequencies\n",
      "trial_BLA_vHPC_RMS_filtered_coherence_all_frequencies\n",
      "trial_LH_MD_RMS_filtered_coherence_all_frequencies\n",
      "trial_LH_mPFC_RMS_filtered_coherence_all_frequencies\n",
      "trial_LH_vHPC_RMS_filtered_coherence_all_frequencies\n",
      "trial_MD_mPFC_RMS_filtered_coherence_all_frequencies\n",
      "trial_MD_vHPC_RMS_filtered_coherence_all_frequencies\n",
      "trial_mPFC_vHPC_RMS_filtered_coherence_all_frequencies\n",
      "trial_coherence_timestamps\n",
      "baseline_BLA_LH_granger_all_frequencies\n",
      "baseline_LH_BLA_granger_all_frequencies\n",
      "baseline_BLA_MD_granger_all_frequencies\n",
      "baseline_MD_BLA_granger_all_frequencies\n",
      "baseline_BLA_mPFC_granger_all_frequencies\n",
      "baseline_mPFC_BLA_granger_all_frequencies\n",
      "baseline_BLA_vHPC_granger_all_frequencies\n",
      "baseline_vHPC_BLA_granger_all_frequencies\n",
      "baseline_LH_MD_granger_all_frequencies\n",
      "baseline_MD_LH_granger_all_frequencies\n",
      "baseline_LH_mPFC_granger_all_frequencies\n",
      "baseline_mPFC_LH_granger_all_frequencies\n",
      "baseline_LH_vHPC_granger_all_frequencies\n",
      "baseline_vHPC_LH_granger_all_frequencies\n",
      "baseline_MD_mPFC_granger_all_frequencies\n",
      "baseline_mPFC_MD_granger_all_frequencies\n",
      "baseline_MD_vHPC_granger_all_frequencies\n",
      "baseline_vHPC_MD_granger_all_frequencies\n",
      "baseline_mPFC_vHPC_granger_all_frequencies\n",
      "baseline_vHPC_mPFC_granger_all_frequencies\n",
      "baseline_granger_timestamps\n",
      "trial_BLA_LH_granger_all_frequencies\n",
      "trial_LH_BLA_granger_all_frequencies\n",
      "trial_BLA_MD_granger_all_frequencies\n",
      "trial_MD_BLA_granger_all_frequencies\n",
      "trial_BLA_mPFC_granger_all_frequencies\n",
      "trial_mPFC_BLA_granger_all_frequencies\n",
      "trial_BLA_vHPC_granger_all_frequencies\n",
      "trial_vHPC_BLA_granger_all_frequencies\n",
      "trial_LH_MD_granger_all_frequencies\n",
      "trial_MD_LH_granger_all_frequencies\n",
      "trial_LH_mPFC_granger_all_frequencies\n",
      "trial_mPFC_LH_granger_all_frequencies\n",
      "trial_LH_vHPC_granger_all_frequencies\n",
      "trial_vHPC_LH_granger_all_frequencies\n",
      "trial_MD_mPFC_granger_all_frequencies\n",
      "trial_mPFC_MD_granger_all_frequencies\n",
      "trial_MD_vHPC_granger_all_frequencies\n",
      "trial_vHPC_MD_granger_all_frequencies\n",
      "trial_mPFC_vHPC_granger_all_frequencies\n",
      "trial_vHPC_mPFC_granger_all_frequencies\n",
      "trial_granger_timestamps\n",
      "baseline_mPFC_RMS_filtered_power_all_frequencies\n",
      "baseline_MD_RMS_filtered_power_all_frequencies\n",
      "baseline_LH_RMS_filtered_power_all_frequencies\n",
      "baseline_BLA_RMS_filtered_power_all_frequencies\n",
      "baseline_vHPC_RMS_filtered_power_all_frequencies\n",
      "baseline_power_timestamps\n",
      "trial_mPFC_RMS_filtered_power_all_frequencies\n",
      "trial_MD_RMS_filtered_power_all_frequencies\n",
      "trial_LH_RMS_filtered_power_all_frequencies\n",
      "trial_BLA_RMS_filtered_power_all_frequencies\n",
      "trial_vHPC_RMS_filtered_power_all_frequencies\n",
      "trial_power_timestamps\n",
      "in_video\n"
     ]
    }
   ],
   "source": [
    "for col in TRIALS_AND_SPECTRAL_DF.columns:\n",
    "    print(col)"
   ]
  },
  {
   "cell_type": "code",
   "execution_count": null,
   "metadata": {},
   "outputs": [],
   "source": [
    "raise ValueError()"
   ]
  },
  {
   "cell_type": "code",
   "execution_count": null,
   "metadata": {},
   "outputs": [],
   "source": []
  },
  {
   "cell_type": "code",
   "execution_count": null,
   "metadata": {},
   "outputs": [],
   "source": []
  },
  {
   "cell_type": "markdown",
   "metadata": {
    "tags": []
   },
   "source": [
    "# Filtering out phase"
   ]
  },
  {
   "cell_type": "code",
   "execution_count": 83,
   "metadata": {
    "tags": []
   },
   "outputs": [],
   "source": [
    "lfp_columns = [col for col in TRIALS_AND_SPECTRAL_DF.columns if \"trace\" in col and \"timestamps\" not in col and \"calculation\" not in col]"
   ]
  },
  {
   "cell_type": "code",
   "execution_count": 84,
   "metadata": {
    "tags": []
   },
   "outputs": [],
   "source": [
    "band_columns = [col for col in TRIALS_AND_SPECTRAL_DF.columns if \"band\" in col and \"timestamps\" not in col and \"calculation\" not in col]"
   ]
  },
  {
   "cell_type": "code",
   "execution_count": 85,
   "metadata": {
    "tags": []
   },
   "outputs": [],
   "source": [
    "phase_columns = [col for col in TRIALS_AND_SPECTRAL_DF.columns if \"phase\" in col and \"timestamps\" not in col and \"calculation\" not in col]"
   ]
  },
  {
   "cell_type": "code",
   "execution_count": 86,
   "metadata": {
    "tags": []
   },
   "outputs": [],
   "source": [
    "phase_columns = phase_columns + band_columns +lfp_columns"
   ]
  },
  {
   "cell_type": "code",
   "execution_count": 87,
   "metadata": {
    "tags": []
   },
   "outputs": [
    {
     "data": {
      "text/plain": [
       "[]"
      ]
     },
     "execution_count": 87,
     "metadata": {},
     "output_type": "execute_result"
    }
   ],
   "source": [
    "phase_columns"
   ]
  },
  {
   "cell_type": "code",
   "execution_count": 88,
   "metadata": {
    "tags": []
   },
   "outputs": [
    {
     "ename": "ValueError",
     "evalue": "cannot convert float NaN to integer",
     "output_type": "error",
     "traceback": [
      "\u001b[0;31m---------------------------------------------------------------------------\u001b[0m",
      "\u001b[0;31mValueError\u001b[0m                                Traceback (most recent call last)",
      "Cell \u001b[0;32mIn[88], line 8\u001b[0m\n\u001b[1;32m      6\u001b[0m     updated_timestamp_col \u001b[38;5;241m=\u001b[39m \u001b[38;5;124m\"\u001b[39m\u001b[38;5;124mbaseline_lfp_timestamps\u001b[39m\u001b[38;5;124m\"\u001b[39m\u001b[38;5;241m.\u001b[39mformat(brain_region)\n\u001b[1;32m      7\u001b[0m     TRIALS_AND_SPECTRAL_DF[updated_item_col] \u001b[38;5;241m=\u001b[39m TRIALS_AND_SPECTRAL_DF\u001b[38;5;241m.\u001b[39mapply(\u001b[38;5;28;01mlambda\u001b[39;00m x: utilities\u001b[38;5;241m.\u001b[39mhelper\u001b[38;5;241m.\u001b[39mfilter_by_timestamp_range(start\u001b[38;5;241m=\u001b[39mx[\u001b[38;5;124m\"\u001b[39m\u001b[38;5;124mbaseline_start_timestamp\u001b[39m\u001b[38;5;124m\"\u001b[39m], stop\u001b[38;5;241m=\u001b[39mx[\u001b[38;5;124m\"\u001b[39m\u001b[38;5;124mbaseline_stop_timestamp\u001b[39m\u001b[38;5;124m\"\u001b[39m], timestamps\u001b[38;5;241m=\u001b[39mx[\u001b[38;5;124m\"\u001b[39m\u001b[38;5;124mlfp_timestamps\u001b[39m\u001b[38;5;124m\"\u001b[39m], items\u001b[38;5;241m=\u001b[39mx[col])[\u001b[38;5;241m1\u001b[39m], axis\u001b[38;5;241m=\u001b[39m\u001b[38;5;241m1\u001b[39m)\n\u001b[0;32m----> 8\u001b[0m TRIALS_AND_SPECTRAL_DF[updated_timestamp_col] \u001b[38;5;241m=\u001b[39m \u001b[43mTRIALS_AND_SPECTRAL_DF\u001b[49m\u001b[38;5;241;43m.\u001b[39;49m\u001b[43mapply\u001b[49m\u001b[43m(\u001b[49m\u001b[38;5;28;43;01mlambda\u001b[39;49;00m\u001b[43m \u001b[49m\u001b[43mx\u001b[49m\u001b[43m:\u001b[49m\u001b[43m \u001b[49m\u001b[43mutilities\u001b[49m\u001b[38;5;241;43m.\u001b[39;49m\u001b[43mhelper\u001b[49m\u001b[38;5;241;43m.\u001b[39;49m\u001b[43mfilter_by_timestamp_range\u001b[49m\u001b[43m(\u001b[49m\u001b[43mstart\u001b[49m\u001b[38;5;241;43m=\u001b[39;49m\u001b[43mx\u001b[49m\u001b[43m[\u001b[49m\u001b[38;5;124;43m\"\u001b[39;49m\u001b[38;5;124;43mbaseline_start_timestamp\u001b[39;49m\u001b[38;5;124;43m\"\u001b[39;49m\u001b[43m]\u001b[49m\u001b[43m,\u001b[49m\u001b[43m \u001b[49m\u001b[43mstop\u001b[49m\u001b[38;5;241;43m=\u001b[39;49m\u001b[43mx\u001b[49m\u001b[43m[\u001b[49m\u001b[38;5;124;43m\"\u001b[39;49m\u001b[38;5;124;43mbaseline_stop_timestamp\u001b[39;49m\u001b[38;5;124;43m\"\u001b[39;49m\u001b[43m]\u001b[49m\u001b[43m,\u001b[49m\u001b[43m \u001b[49m\u001b[43mtimestamps\u001b[49m\u001b[38;5;241;43m=\u001b[39;49m\u001b[43mx\u001b[49m\u001b[43m[\u001b[49m\u001b[38;5;124;43m\"\u001b[39;49m\u001b[38;5;124;43mlfp_timestamps\u001b[39;49m\u001b[38;5;124;43m\"\u001b[39;49m\u001b[43m]\u001b[49m\u001b[43m,\u001b[49m\u001b[43m \u001b[49m\u001b[43mitems\u001b[49m\u001b[38;5;241;43m=\u001b[39;49m\u001b[43mx\u001b[49m\u001b[43m[\u001b[49m\u001b[43mcol\u001b[49m\u001b[43m]\u001b[49m\u001b[43m)\u001b[49m\u001b[43m[\u001b[49m\u001b[38;5;241;43m0\u001b[39;49m\u001b[43m]\u001b[49m\u001b[43m,\u001b[49m\u001b[43m \u001b[49m\u001b[43maxis\u001b[49m\u001b[38;5;241;43m=\u001b[39;49m\u001b[38;5;241;43m1\u001b[39;49m\u001b[43m)\u001b[49m\n",
      "File \u001b[0;32m/blue/npadillacoreano/ryoi360/conda/spike_interface_0_99_0/lib/python3.10/site-packages/pandas/core/frame.py:10034\u001b[0m, in \u001b[0;36mDataFrame.apply\u001b[0;34m(self, func, axis, raw, result_type, args, by_row, **kwargs)\u001b[0m\n\u001b[1;32m  10022\u001b[0m \u001b[38;5;28;01mfrom\u001b[39;00m \u001b[38;5;21;01mpandas\u001b[39;00m\u001b[38;5;21;01m.\u001b[39;00m\u001b[38;5;21;01mcore\u001b[39;00m\u001b[38;5;21;01m.\u001b[39;00m\u001b[38;5;21;01mapply\u001b[39;00m \u001b[38;5;28;01mimport\u001b[39;00m frame_apply\n\u001b[1;32m  10024\u001b[0m op \u001b[38;5;241m=\u001b[39m frame_apply(\n\u001b[1;32m  10025\u001b[0m     \u001b[38;5;28mself\u001b[39m,\n\u001b[1;32m  10026\u001b[0m     func\u001b[38;5;241m=\u001b[39mfunc,\n\u001b[0;32m   (...)\u001b[0m\n\u001b[1;32m  10032\u001b[0m     kwargs\u001b[38;5;241m=\u001b[39mkwargs,\n\u001b[1;32m  10033\u001b[0m )\n\u001b[0;32m> 10034\u001b[0m \u001b[38;5;28;01mreturn\u001b[39;00m \u001b[43mop\u001b[49m\u001b[38;5;241;43m.\u001b[39;49m\u001b[43mapply\u001b[49m\u001b[43m(\u001b[49m\u001b[43m)\u001b[49m\u001b[38;5;241m.\u001b[39m__finalize__(\u001b[38;5;28mself\u001b[39m, method\u001b[38;5;241m=\u001b[39m\u001b[38;5;124m\"\u001b[39m\u001b[38;5;124mapply\u001b[39m\u001b[38;5;124m\"\u001b[39m)\n",
      "File \u001b[0;32m/blue/npadillacoreano/ryoi360/conda/spike_interface_0_99_0/lib/python3.10/site-packages/pandas/core/apply.py:837\u001b[0m, in \u001b[0;36mFrameApply.apply\u001b[0;34m(self)\u001b[0m\n\u001b[1;32m    834\u001b[0m \u001b[38;5;28;01melif\u001b[39;00m \u001b[38;5;28mself\u001b[39m\u001b[38;5;241m.\u001b[39mraw:\n\u001b[1;32m    835\u001b[0m     \u001b[38;5;28;01mreturn\u001b[39;00m \u001b[38;5;28mself\u001b[39m\u001b[38;5;241m.\u001b[39mapply_raw()\n\u001b[0;32m--> 837\u001b[0m \u001b[38;5;28;01mreturn\u001b[39;00m \u001b[38;5;28;43mself\u001b[39;49m\u001b[38;5;241;43m.\u001b[39;49m\u001b[43mapply_standard\u001b[49m\u001b[43m(\u001b[49m\u001b[43m)\u001b[49m\n",
      "File \u001b[0;32m/blue/npadillacoreano/ryoi360/conda/spike_interface_0_99_0/lib/python3.10/site-packages/pandas/core/apply.py:965\u001b[0m, in \u001b[0;36mFrameApply.apply_standard\u001b[0;34m(self)\u001b[0m\n\u001b[1;32m    964\u001b[0m \u001b[38;5;28;01mdef\u001b[39;00m \u001b[38;5;21mapply_standard\u001b[39m(\u001b[38;5;28mself\u001b[39m):\n\u001b[0;32m--> 965\u001b[0m     results, res_index \u001b[38;5;241m=\u001b[39m \u001b[38;5;28;43mself\u001b[39;49m\u001b[38;5;241;43m.\u001b[39;49m\u001b[43mapply_series_generator\u001b[49m\u001b[43m(\u001b[49m\u001b[43m)\u001b[49m\n\u001b[1;32m    967\u001b[0m     \u001b[38;5;66;03m# wrap results\u001b[39;00m\n\u001b[1;32m    968\u001b[0m     \u001b[38;5;28;01mreturn\u001b[39;00m \u001b[38;5;28mself\u001b[39m\u001b[38;5;241m.\u001b[39mwrap_results(results, res_index)\n",
      "File \u001b[0;32m/blue/npadillacoreano/ryoi360/conda/spike_interface_0_99_0/lib/python3.10/site-packages/pandas/core/apply.py:981\u001b[0m, in \u001b[0;36mFrameApply.apply_series_generator\u001b[0;34m(self)\u001b[0m\n\u001b[1;32m    978\u001b[0m \u001b[38;5;28;01mwith\u001b[39;00m option_context(\u001b[38;5;124m\"\u001b[39m\u001b[38;5;124mmode.chained_assignment\u001b[39m\u001b[38;5;124m\"\u001b[39m, \u001b[38;5;28;01mNone\u001b[39;00m):\n\u001b[1;32m    979\u001b[0m     \u001b[38;5;28;01mfor\u001b[39;00m i, v \u001b[38;5;129;01min\u001b[39;00m \u001b[38;5;28menumerate\u001b[39m(series_gen):\n\u001b[1;32m    980\u001b[0m         \u001b[38;5;66;03m# ignore SettingWithCopy here in case the user mutates\u001b[39;00m\n\u001b[0;32m--> 981\u001b[0m         results[i] \u001b[38;5;241m=\u001b[39m \u001b[38;5;28;43mself\u001b[39;49m\u001b[38;5;241;43m.\u001b[39;49m\u001b[43mfunc\u001b[49m\u001b[43m(\u001b[49m\u001b[43mv\u001b[49m\u001b[43m,\u001b[49m\u001b[43m \u001b[49m\u001b[38;5;241;43m*\u001b[39;49m\u001b[38;5;28;43mself\u001b[39;49m\u001b[38;5;241;43m.\u001b[39;49m\u001b[43margs\u001b[49m\u001b[43m,\u001b[49m\u001b[43m \u001b[49m\u001b[38;5;241;43m*\u001b[39;49m\u001b[38;5;241;43m*\u001b[39;49m\u001b[38;5;28;43mself\u001b[39;49m\u001b[38;5;241;43m.\u001b[39;49m\u001b[43mkwargs\u001b[49m\u001b[43m)\u001b[49m\n\u001b[1;32m    982\u001b[0m         \u001b[38;5;28;01mif\u001b[39;00m \u001b[38;5;28misinstance\u001b[39m(results[i], ABCSeries):\n\u001b[1;32m    983\u001b[0m             \u001b[38;5;66;03m# If we have a view on v, we need to make a copy because\u001b[39;00m\n\u001b[1;32m    984\u001b[0m             \u001b[38;5;66;03m#  series_generator will swap out the underlying data\u001b[39;00m\n\u001b[1;32m    985\u001b[0m             results[i] \u001b[38;5;241m=\u001b[39m results[i]\u001b[38;5;241m.\u001b[39mcopy(deep\u001b[38;5;241m=\u001b[39m\u001b[38;5;28;01mFalse\u001b[39;00m)\n",
      "Cell \u001b[0;32mIn[88], line 8\u001b[0m, in \u001b[0;36m<lambda>\u001b[0;34m(x)\u001b[0m\n\u001b[1;32m      6\u001b[0m     updated_timestamp_col \u001b[38;5;241m=\u001b[39m \u001b[38;5;124m\"\u001b[39m\u001b[38;5;124mbaseline_lfp_timestamps\u001b[39m\u001b[38;5;124m\"\u001b[39m\u001b[38;5;241m.\u001b[39mformat(brain_region)\n\u001b[1;32m      7\u001b[0m     TRIALS_AND_SPECTRAL_DF[updated_item_col] \u001b[38;5;241m=\u001b[39m TRIALS_AND_SPECTRAL_DF\u001b[38;5;241m.\u001b[39mapply(\u001b[38;5;28;01mlambda\u001b[39;00m x: utilities\u001b[38;5;241m.\u001b[39mhelper\u001b[38;5;241m.\u001b[39mfilter_by_timestamp_range(start\u001b[38;5;241m=\u001b[39mx[\u001b[38;5;124m\"\u001b[39m\u001b[38;5;124mbaseline_start_timestamp\u001b[39m\u001b[38;5;124m\"\u001b[39m], stop\u001b[38;5;241m=\u001b[39mx[\u001b[38;5;124m\"\u001b[39m\u001b[38;5;124mbaseline_stop_timestamp\u001b[39m\u001b[38;5;124m\"\u001b[39m], timestamps\u001b[38;5;241m=\u001b[39mx[\u001b[38;5;124m\"\u001b[39m\u001b[38;5;124mlfp_timestamps\u001b[39m\u001b[38;5;124m\"\u001b[39m], items\u001b[38;5;241m=\u001b[39mx[col])[\u001b[38;5;241m1\u001b[39m], axis\u001b[38;5;241m=\u001b[39m\u001b[38;5;241m1\u001b[39m)\n\u001b[0;32m----> 8\u001b[0m TRIALS_AND_SPECTRAL_DF[updated_timestamp_col] \u001b[38;5;241m=\u001b[39m TRIALS_AND_SPECTRAL_DF\u001b[38;5;241m.\u001b[39mapply(\u001b[38;5;28;01mlambda\u001b[39;00m x: \u001b[43mutilities\u001b[49m\u001b[38;5;241;43m.\u001b[39;49m\u001b[43mhelper\u001b[49m\u001b[38;5;241;43m.\u001b[39;49m\u001b[43mfilter_by_timestamp_range\u001b[49m\u001b[43m(\u001b[49m\u001b[43mstart\u001b[49m\u001b[38;5;241;43m=\u001b[39;49m\u001b[43mx\u001b[49m\u001b[43m[\u001b[49m\u001b[38;5;124;43m\"\u001b[39;49m\u001b[38;5;124;43mbaseline_start_timestamp\u001b[39;49m\u001b[38;5;124;43m\"\u001b[39;49m\u001b[43m]\u001b[49m\u001b[43m,\u001b[49m\u001b[43m \u001b[49m\u001b[43mstop\u001b[49m\u001b[38;5;241;43m=\u001b[39;49m\u001b[43mx\u001b[49m\u001b[43m[\u001b[49m\u001b[38;5;124;43m\"\u001b[39;49m\u001b[38;5;124;43mbaseline_stop_timestamp\u001b[39;49m\u001b[38;5;124;43m\"\u001b[39;49m\u001b[43m]\u001b[49m\u001b[43m,\u001b[49m\u001b[43m \u001b[49m\u001b[43mtimestamps\u001b[49m\u001b[38;5;241;43m=\u001b[39;49m\u001b[43mx\u001b[49m\u001b[43m[\u001b[49m\u001b[38;5;124;43m\"\u001b[39;49m\u001b[38;5;124;43mlfp_timestamps\u001b[39;49m\u001b[38;5;124;43m\"\u001b[39;49m\u001b[43m]\u001b[49m\u001b[43m,\u001b[49m\u001b[43m \u001b[49m\u001b[43mitems\u001b[49m\u001b[38;5;241;43m=\u001b[39;49m\u001b[43mx\u001b[49m\u001b[43m[\u001b[49m\u001b[43mcol\u001b[49m\u001b[43m]\u001b[49m\u001b[43m)\u001b[49m[\u001b[38;5;241m0\u001b[39m], axis\u001b[38;5;241m=\u001b[39m\u001b[38;5;241m1\u001b[39m)\n",
      "File \u001b[0;32m/blue/npadillacoreano/ryoi360/projects/reward_comp/repos/reward_comp_ext/src/utilities/helper.py:137\u001b[0m, in \u001b[0;36mfilter_by_timestamp_range\u001b[0;34m(start, stop, timestamps, items)\u001b[0m\n\u001b[1;32m    134\u001b[0m     filtered_items \u001b[38;5;241m=\u001b[39m items[:\u001b[38;5;28mlen\u001b[39m(mask)][mask]\n\u001b[1;32m    135\u001b[0m \u001b[38;5;28;01melif\u001b[39;00m \u001b[38;5;28mlen\u001b[39m(items) \u001b[38;5;241m<\u001b[39m \u001b[38;5;28mlen\u001b[39m(mask):\n\u001b[1;32m    136\u001b[0m     \u001b[38;5;66;03m# If items is shorter than mask, pad items with NaNs\u001b[39;00m\n\u001b[0;32m--> 137\u001b[0m     padded_items \u001b[38;5;241m=\u001b[39m \u001b[43mnp\u001b[49m\u001b[38;5;241;43m.\u001b[39;49m\u001b[43mpad\u001b[49m\u001b[43m(\u001b[49m\u001b[43mitems\u001b[49m\u001b[43m,\u001b[49m\u001b[43m \u001b[49m\u001b[43m(\u001b[49m\u001b[38;5;241;43m0\u001b[39;49m\u001b[43m,\u001b[49m\u001b[43m \u001b[49m\u001b[38;5;28;43mlen\u001b[39;49m\u001b[43m(\u001b[49m\u001b[43mmask\u001b[49m\u001b[43m)\u001b[49m\u001b[43m \u001b[49m\u001b[38;5;241;43m-\u001b[39;49m\u001b[43m \u001b[49m\u001b[38;5;28;43mlen\u001b[39;49m\u001b[43m(\u001b[49m\u001b[43mitems\u001b[49m\u001b[43m)\u001b[49m\u001b[43m)\u001b[49m\u001b[43m,\u001b[49m\u001b[43m \u001b[49m\u001b[43mconstant_values\u001b[49m\u001b[38;5;241;43m=\u001b[39;49m\u001b[43mnp\u001b[49m\u001b[38;5;241;43m.\u001b[39;49m\u001b[43mnan\u001b[49m\u001b[43m)\u001b[49m\n\u001b[1;32m    138\u001b[0m     filtered_items \u001b[38;5;241m=\u001b[39m padded_items[mask]\n\u001b[1;32m    139\u001b[0m \u001b[38;5;28;01melse\u001b[39;00m:\n\u001b[1;32m    140\u001b[0m     \u001b[38;5;66;03m# If items and mask are the same length, just apply the mask\u001b[39;00m\n",
      "File \u001b[0;32m/blue/npadillacoreano/ryoi360/conda/spike_interface_0_99_0/lib/python3.10/site-packages/numpy/lib/arraypad.py:808\u001b[0m, in \u001b[0;36mpad\u001b[0;34m(array, pad_width, mode, **kwargs)\u001b[0m\n\u001b[1;32m    806\u001b[0m     \u001b[38;5;28;01mfor\u001b[39;00m axis, width_pair, value_pair \u001b[38;5;129;01min\u001b[39;00m \u001b[38;5;28mzip\u001b[39m(axes, pad_width, values):\n\u001b[1;32m    807\u001b[0m         roi \u001b[38;5;241m=\u001b[39m _view_roi(padded, original_area_slice, axis)\n\u001b[0;32m--> 808\u001b[0m         \u001b[43m_set_pad_area\u001b[49m\u001b[43m(\u001b[49m\u001b[43mroi\u001b[49m\u001b[43m,\u001b[49m\u001b[43m \u001b[49m\u001b[43maxis\u001b[49m\u001b[43m,\u001b[49m\u001b[43m \u001b[49m\u001b[43mwidth_pair\u001b[49m\u001b[43m,\u001b[49m\u001b[43m \u001b[49m\u001b[43mvalue_pair\u001b[49m\u001b[43m)\u001b[49m\n\u001b[1;32m    810\u001b[0m \u001b[38;5;28;01melif\u001b[39;00m mode \u001b[38;5;241m==\u001b[39m \u001b[38;5;124m\"\u001b[39m\u001b[38;5;124mempty\u001b[39m\u001b[38;5;124m\"\u001b[39m:\n\u001b[1;32m    811\u001b[0m     \u001b[38;5;28;01mpass\u001b[39;00m  \u001b[38;5;66;03m# Do nothing as _pad_simple already returned the correct result\u001b[39;00m\n",
      "File \u001b[0;32m/blue/npadillacoreano/ryoi360/conda/spike_interface_0_99_0/lib/python3.10/site-packages/numpy/lib/arraypad.py:147\u001b[0m, in \u001b[0;36m_set_pad_area\u001b[0;34m(padded, axis, width_pair, value_pair)\u001b[0m\n\u001b[1;32m    130\u001b[0m \u001b[38;5;250m\u001b[39m\u001b[38;5;124;03m\"\"\"\u001b[39;00m\n\u001b[1;32m    131\u001b[0m \u001b[38;5;124;03mSet empty-padded area in given dimension.\u001b[39;00m\n\u001b[1;32m    132\u001b[0m \n\u001b[0;32m   (...)\u001b[0m\n\u001b[1;32m    144\u001b[0m \u001b[38;5;124;03m    broadcastable to the shape of `arr`.\u001b[39;00m\n\u001b[1;32m    145\u001b[0m \u001b[38;5;124;03m\"\"\"\u001b[39;00m\n\u001b[1;32m    146\u001b[0m left_slice \u001b[38;5;241m=\u001b[39m _slice_at_axis(\u001b[38;5;28mslice\u001b[39m(\u001b[38;5;28;01mNone\u001b[39;00m, width_pair[\u001b[38;5;241m0\u001b[39m]), axis)\n\u001b[0;32m--> 147\u001b[0m \u001b[43mpadded\u001b[49m\u001b[43m[\u001b[49m\u001b[43mleft_slice\u001b[49m\u001b[43m]\u001b[49m \u001b[38;5;241m=\u001b[39m value_pair[\u001b[38;5;241m0\u001b[39m]\n\u001b[1;32m    149\u001b[0m right_slice \u001b[38;5;241m=\u001b[39m _slice_at_axis(\n\u001b[1;32m    150\u001b[0m     \u001b[38;5;28mslice\u001b[39m(padded\u001b[38;5;241m.\u001b[39mshape[axis] \u001b[38;5;241m-\u001b[39m width_pair[\u001b[38;5;241m1\u001b[39m], \u001b[38;5;28;01mNone\u001b[39;00m), axis)\n\u001b[1;32m    151\u001b[0m padded[right_slice] \u001b[38;5;241m=\u001b[39m value_pair[\u001b[38;5;241m1\u001b[39m]\n",
      "\u001b[0;31mValueError\u001b[0m: cannot convert float NaN to integer"
     ]
    }
   ],
   "source": [
    "for col in phase_columns:\n",
    "    brain_region = col.replace(\"all_windows\", \"_\").strip(\"_\")\n",
    "    print(brain_region)\n",
    "    \n",
    "    updated_item_col = \"baseline_{}\".format(brain_region)\n",
    "    updated_timestamp_col = \"baseline_lfp_timestamps\".format(brain_region)\n",
    "    TRIALS_AND_SPECTRAL_DF[updated_item_col] = TRIALS_AND_SPECTRAL_DF.apply(lambda x: utilities.helper.filter_by_timestamp_range(start=x[\"baseline_start_timestamp\"], stop=x[\"baseline_stop_timestamp\"], timestamps=x[\"lfp_timestamps\"], items=x[col])[1], axis=1)\n",
    "TRIALS_AND_SPECTRAL_DF[updated_timestamp_col] = TRIALS_AND_SPECTRAL_DF.apply(lambda x: utilities.helper.filter_by_timestamp_range(start=x[\"baseline_start_timestamp\"], stop=x[\"baseline_stop_timestamp\"], timestamps=x[\"lfp_timestamps\"], items=x[col])[0], axis=1)"
   ]
  },
  {
   "cell_type": "code",
   "execution_count": null,
   "metadata": {
    "tags": []
   },
   "outputs": [],
   "source": [
    "for col in phase_columns:\n",
    "    brain_region = col.replace(\"all_windows\", \"_\").strip(\"_\")\n",
    "    print(brain_region)\n",
    "    \n",
    "    updated_item_col = \"trial_{}\".format(brain_region)\n",
    "    updated_timestamp_col = \"trial_lfp_timestamps\".format(brain_region)\n",
    "    TRIALS_AND_SPECTRAL_DF[updated_item_col] = TRIALS_AND_SPECTRAL_DF.apply(lambda x: utilities.helper.filter_by_timestamp_range(start=x[\"tone_start_timestamp\"], stop=x[\"tone_stop_timestamp\"], timestamps=x[\"lfp_timestamps\"], items=x[col])[1], axis=1)\n",
    "TRIALS_AND_SPECTRAL_DF[updated_timestamp_col] = TRIALS_AND_SPECTRAL_DF.apply(lambda x: utilities.helper.filter_by_timestamp_range(start=x[\"tone_start_timestamp\"], stop=x[\"tone_stop_timestamp\"], timestamps=x[\"lfp_timestamps\"], items=x[col])[0], axis=1)"
   ]
  },
  {
   "cell_type": "code",
   "execution_count": null,
   "metadata": {
    "tags": []
   },
   "outputs": [],
   "source": [
    "TRIALS_AND_SPECTRAL_DF[\"baseline_lfp_timestamps\"]"
   ]
  },
  {
   "cell_type": "code",
   "execution_count": null,
   "metadata": {
    "tags": []
   },
   "outputs": [],
   "source": [
    "TRIALS_AND_SPECTRAL_DF = TRIALS_AND_SPECTRAL_DF.drop(columns=phase_columns + [\"lfp_timestamps\"], errors=\"ignore\")"
   ]
  },
  {
   "cell_type": "code",
   "execution_count": null,
   "metadata": {
    "tags": []
   },
   "outputs": [],
   "source": [
    "TRIALS_AND_SPECTRAL_DF.to_pickle(os.path.join(OUTPUT_DIR, FULL_LFP_TRACES_PKL))"
   ]
  },
  {
   "cell_type": "code",
   "execution_count": null,
   "metadata": {
    "tags": []
   },
   "outputs": [],
   "source": [
    "for col in TRIALS_AND_SPECTRAL_DF:\n",
    "    print(col)"
   ]
  },
  {
   "cell_type": "markdown",
   "metadata": {},
   "source": [
    "# Filtering out spikes"
   ]
  },
  {
   "cell_type": "code",
   "execution_count": null,
   "metadata": {
    "tags": []
   },
   "outputs": [],
   "source": [
    "raise ValueError()"
   ]
  },
  {
   "cell_type": "code",
   "execution_count": null,
   "metadata": {
    "tags": []
   },
   "outputs": [],
   "source": [
    "TRIALS_AND_SPECTRAL_DF[\"baseline_spike_times\"] = TRIALS_AND_SPECTRAL_DF.apply(lambda x: filter_spike_times(x[\"spike_times\"], start=x[\"baseline_start_timestamp\"], stop=x[\"baseline_stop_timestamp\"]).astype(int), axis=1)\n"
   ]
  },
  {
   "cell_type": "code",
   "execution_count": null,
   "metadata": {
    "tags": []
   },
   "outputs": [],
   "source": [
    "TRIALS_AND_SPECTRAL_DF[\"trial_spike_times\"] = TRIALS_AND_SPECTRAL_DF.apply(lambda x: filter_spike_times(x[\"spike_times\"], start=x[\"tone_start_timestamp\"], stop=x[\"tone_stop_timestamp\"]).astype(int), axis=1)\n"
   ]
  },
  {
   "cell_type": "code",
   "execution_count": null,
   "metadata": {
    "tags": []
   },
   "outputs": [],
   "source": [
    "TRIALS_AND_SPECTRAL_DF[\"baseline_start_timestamp\"].head()"
   ]
  },
  {
   "cell_type": "code",
   "execution_count": null,
   "metadata": {
    "tags": []
   },
   "outputs": [],
   "source": [
    "TRIALS_AND_SPECTRAL_DF[\"baseline_stop_timestamp\"].head()"
   ]
  },
  {
   "cell_type": "code",
   "execution_count": null,
   "metadata": {
    "tags": []
   },
   "outputs": [],
   "source": [
    "TRIALS_AND_SPECTRAL_DF[\"baseline_spike_times\"].iloc[0]"
   ]
  },
  {
   "cell_type": "code",
   "execution_count": null,
   "metadata": {
    "tags": []
   },
   "outputs": [],
   "source": [
    "TRIALS_AND_SPECTRAL_DF[\"baseline_neuron_average_fr\"] = TRIALS_AND_SPECTRAL_DF.apply(lambda x: utilities.helper.filter_by_timestamp_range(start=x[\"baseline_start_timestamp\"], stop=x[\"baseline_stop_timestamp\"], timestamps=x[\"neuron_average_timestamps\"], items=x[\"neuron_average_fr\"].T)[1], axis=1)\n",
    "TRIALS_AND_SPECTRAL_DF[\"baseline_neuron_average_timestamp\"] = TRIALS_AND_SPECTRAL_DF.apply(lambda x: utilities.helper.filter_by_timestamp_range(start=x[\"baseline_start_timestamp\"], stop=x[\"baseline_stop_timestamp\"], timestamps=x[\"neuron_average_timestamps\"], items=x[\"neuron_average_fr\"].T)[0], axis=1)"
   ]
  },
  {
   "cell_type": "code",
   "execution_count": null,
   "metadata": {
    "tags": []
   },
   "outputs": [],
   "source": [
    "TRIALS_AND_SPECTRAL_DF[\"trial_neuron_average_fr\"] = TRIALS_AND_SPECTRAL_DF.apply(lambda x: utilities.helper.filter_by_timestamp_range(start=x[\"tone_start_timestamp\"], stop=x[\"tone_stop_timestamp\"], timestamps=x[\"neuron_average_timestamps\"], items=x[\"neuron_average_fr\"].T)[1].T, axis=1)\n",
    "TRIALS_AND_SPECTRAL_DF[\"trial_neuron_average_timestamp\"] = TRIALS_AND_SPECTRAL_DF.apply(lambda x: utilities.helper.filter_by_timestamp_range(start=x[\"tone_start_timestamp\"], stop=x[\"tone_stop_timestamp\"], timestamps=x[\"neuron_average_timestamps\"], items=x[\"neuron_average_fr\"].T)[0], axis=1)"
   ]
  },
  {
   "cell_type": "code",
   "execution_count": null,
   "metadata": {
    "tags": []
   },
   "outputs": [],
   "source": [
    "TRIALS_AND_SPECTRAL_DF = TRIALS_AND_SPECTRAL_DF.drop(columns=[\"spike_clusters\", \"spike_times\", \"neuron_average_fr\", \"neuron_average_timestamps\",], errors=\"ignore\")"
   ]
  },
  {
   "cell_type": "code",
   "execution_count": null,
   "metadata": {
    "tags": []
   },
   "outputs": [],
   "source": [
    "TRIALS_AND_SPECTRAL_DF[\"trial_neuron_average_fr\"].iloc[0].shape"
   ]
  },
  {
   "cell_type": "code",
   "execution_count": null,
   "metadata": {
    "tags": []
   },
   "outputs": [],
   "source": [
    "TRIALS_AND_SPECTRAL_DF[\"trial_neuron_average_timestamp\"].iloc[0].shape"
   ]
  }
 ],
 "metadata": {
  "deepnote": {},
  "deepnote_execution_queue": [],
  "deepnote_notebook_id": "cf8fe3695d074ee7887fdf6459cbf5ce",
  "kernelspec": {
   "display_name": "spike_interface_0_99_0",
   "language": "python",
   "name": "spike_interface_0_99_0"
  },
  "language_info": {
   "codemirror_mode": {
    "name": "ipython",
    "version": 3
   },
   "file_extension": ".py",
   "mimetype": "text/x-python",
   "name": "python",
   "nbconvert_exporter": "python",
   "pygments_lexer": "ipython3",
   "version": "3.10.13"
  }
 },
 "nbformat": 4,
 "nbformat_minor": 4
}
