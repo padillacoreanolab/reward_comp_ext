{
 "cells": [
  {
   "cell_type": "markdown",
   "id": "ec0f0e72",
   "metadata": {},
   "source": [
    "# Notebook 1: MED-PC Extracting the Recording Data and Metadata"
   ]
  },
  {
   "cell_type": "markdown",
   "id": "3e96b039",
   "metadata": {},
   "source": [
    "# Importing the Python Libraries"
   ]
  },
  {
   "cell_type": "code",
   "execution_count": 1,
   "id": "df497936",
   "metadata": {},
   "outputs": [],
   "source": [
    "import sys\n",
    "import glob\n",
    "from collections import defaultdict\n",
    "import os\n",
    "from datetime import datetime"
   ]
  },
  {
   "cell_type": "code",
   "execution_count": 2,
   "id": "56164412",
   "metadata": {},
   "outputs": [],
   "source": [
    "import numpy as np\n",
    "import pandas as pd\n",
    "import matplotlib.pyplot as plt\n",
    "from medpc2excel.medpc_read import medpc_read"
   ]
  },
  {
   "cell_type": "code",
   "execution_count": 3,
   "id": "d2693f50",
   "metadata": {},
   "outputs": [],
   "source": [
    "# setting path\n",
    "sys.path.append('../../src')"
   ]
  },
  {
   "cell_type": "code",
   "execution_count": 4,
   "id": "2eca7742",
   "metadata": {},
   "outputs": [],
   "source": [
    "# All the libraries that were created for this repository\n",
    "import extract.dataframe\n",
    "import processing.tone\n",
    "import extract.metadata"
   ]
  },
  {
   "cell_type": "markdown",
   "id": "52dd42ca",
   "metadata": {},
   "source": [
    "# Getting the Metadata from all the MED-PC Recording Files"
   ]
  },
  {
   "cell_type": "markdown",
   "id": "51a96419",
   "metadata": {},
   "source": [
    "- Every MED-PC Recording file has Metadata about time, data, subject, group, experiment name, script used, and the MED-PC box number on the top of the recording file. We will first extract that information\n",
    "    - Metadata can be background information or context about data(or files) that is often different from the actual data that is intended to be recorded.  \n",
    "        For more information on Metadata: https://en.wikipedia.org/wiki/Metadata"
   ]
  },
  {
   "cell_type": "code",
   "execution_count": 5,
   "id": "3d9606f6",
   "metadata": {},
   "outputs": [],
   "source": [
    "all_med_pc_file = glob.glob(\"./data/*.txt\", recursive=True)"
   ]
  },
  {
   "cell_type": "markdown",
   "id": "9737ddcc",
   "metadata": {},
   "source": [
    "- The path of the directory that this notebook is in. This will be where relative paths will be based off of"
   ]
  },
  {
   "cell_type": "code",
   "execution_count": 6,
   "id": "e5ecf305",
   "metadata": {},
   "outputs": [],
   "source": [
    "current_working_directory = os.getcwd()"
   ]
  },
  {
   "cell_type": "code",
   "execution_count": 7,
   "id": "539cec71",
   "metadata": {},
   "outputs": [
    {
     "data": {
      "text/plain": [
       "'c:\\\\Users\\\\Ryo Iwata\\\\Documents\\\\GitHub\\\\reward_comp_ext\\\\results\\\\2024_08_30_reward_training'"
      ]
     },
     "execution_count": 7,
     "metadata": {},
     "output_type": "execute_result"
    }
   ],
   "source": [
    "current_working_directory"
   ]
  },
  {
   "cell_type": "markdown",
   "id": "9ad90d16",
   "metadata": {},
   "source": [
    "- All the other files in this directory. If you want to use a folder in here such as the `data` folder, you'd type `./data/{name_of_folder}` where you replace `{name_of_folder}` with the name of the folder without the `{}`. You will do this in the cells following the one below\n",
    "    - The `./` means the path will reference the current directory that the command is being used from"
   ]
  },
  {
   "cell_type": "code",
   "execution_count": 8,
   "id": "932243dd",
   "metadata": {},
   "outputs": [
    {
     "data": {
      "text/plain": [
       "['01_extracting_training.ipynb',\n",
       " '02_calculating_latencies.ipynb',\n",
       " '02_calculating_latencies_all_pilots.ipynb',\n",
       " '03_calculating_port_entry_precision_all_pilots.ipynb',\n",
       " 'data',\n",
       " 'old',\n",
       " 'proc',\n",
       " 'temp']"
      ]
     },
     "execution_count": 8,
     "metadata": {},
     "output_type": "execute_result"
    }
   ],
   "source": [
    "os.listdir(current_working_directory)"
   ]
  },
  {
   "cell_type": "markdown",
   "id": "005ccdc3",
   "metadata": {},
   "source": [
    "## NOTE: If you are using your own data, the following path must be changed to the directory where your MED-PC recording files are located(if they are not in the specied folder). It is recommended to create a sub folder in the `data` folder(that is in the same folder as this notebook) for each group of session you want to process and put the recording files in there"
   ]
  },
  {
   "cell_type": "markdown",
   "id": "07578f1d",
   "metadata": {},
   "source": [
    "- Use the cell below instead if you're using your own data. You must change the cell below by clicking on the cell and then pressing the `esc` key. Then press the `Y` button on your keyboard. If you want to switch it back do the same but press the `R` button instead. This switches it from a cell that is run as if it's code, or back to a cell where it's just treated as text\n",
    "    - **NOTE: If you are using a different folder, then change the path in the cell below**\n",
    "    - The asterisk is called a wild card which will tell the computer to find all files/folders that match this pattern. The `*` means that any pattern of any length can be replaced with it. The `**` tells the computer to look in all folders that are in the specified folder. For more information: https://linuxhint.com/bash_wildcard_tutorial/\n",
    "    - For more information on finding the path of your folder that contains the recording files: https://www.computerhope.com/issues/ch001708.htm"
   ]
  },
  {
   "cell_type": "code",
   "execution_count": 9,
   "id": "3ce543a6",
   "metadata": {},
   "outputs": [],
   "source": [
    "all_med_pc_file = glob.glob(\"./data/*.txt\")"
   ]
  },
  {
   "cell_type": "code",
   "execution_count": 10,
   "id": "29194eda",
   "metadata": {},
   "outputs": [
    {
     "data": {
      "text/plain": [
       "['./data\\\\2024-02-15_13h38m_Subject RCE3_1.txt',\n",
       " './data\\\\2024-02-15_13h38m_Subject RCE3_3.txt',\n",
       " './data\\\\2024-02-15_13h38m_Subject RCE3_4.txt',\n",
       " './data\\\\2024-02-15_13h38m_Subject RCE4_2.txt',\n",
       " './data\\\\2024-02-15_13h38m_Subject RCE4_3.txt',\n",
       " './data\\\\2024-02-15_13h38m_Subject RCE4_4.txt',\n",
       " './data\\\\2024-02-16_10h32m_Subject RCE3_1.txt',\n",
       " './data\\\\2024-02-16_10h32m_Subject RCE3_3.txt',\n",
       " './data\\\\2024-02-16_10h32m_Subject RCE3_4.txt',\n",
       " './data\\\\2024-02-16_12h10m_Subject RCE4_2.txt']"
      ]
     },
     "execution_count": 10,
     "metadata": {},
     "output_type": "execute_result"
    }
   ],
   "source": [
    "all_med_pc_file[:10]"
   ]
  },
  {
   "cell_type": "markdown",
   "id": "062be1de",
   "metadata": {},
   "source": [
    "- Example of what the MED-PC Recording file looks like"
   ]
  },
  {
   "cell_type": "code",
   "execution_count": 11,
   "id": "1c7118af",
   "metadata": {},
   "outputs": [
    {
     "name": "stdout",
     "output_type": "stream",
     "text": [
      "File: C:\\MED-PC\\Data\\2024-02-15_13h38m_Subject RCE3_1.txt\n",
      "\n",
      "\n",
      "\n",
      "\n",
      "\n",
      "\n",
      "\n",
      "Start Date: 02/15/24\n",
      "\n",
      "End Date: 02/15/24\n",
      "\n",
      "Subject: RCE3_1\n",
      "\n",
      "Experiment: \n",
      "\n",
      "Group: \n",
      "\n",
      "Box: 1\n",
      "\n",
      "Start Time: 13:38:32\n",
      "\n",
      "End Time: 14:54:07\n",
      "\n",
      "MSN: CD1_reward_training\n",
      "\n",
      "A:    4399.000\n",
      "\n",
      "D:    9000.000\n",
      "\n",
      "E:       0.000\n",
      "\n",
      "L:       0.000\n",
      "\n",
      "M:       0.000\n",
      "\n",
      "O:       0.000\n",
      "\n",
      "T:    3660.000\n",
      "\n"
     ]
    }
   ],
   "source": [
    "with open(all_med_pc_file[0]) as f:\n",
    "    lines = f.readlines()\n",
    "    for line in lines[:20]:\n",
    "        print(line)"
   ]
  },
  {
   "cell_type": "markdown",
   "id": "23b6a4cc",
   "metadata": {},
   "source": [
    "- We will be extracting the first 10 or so lines that look like:\n",
    "\n",
    "```\n",
    "File: C:\\MED-PC\\Data\\2022-05-06_12h59m_Subject 3.4 (2).txt\n",
    "\n",
    "Start Date: 05/06/22\n",
    "\n",
    "End Date: 05/06/22\n",
    "\n",
    "Subject: 3.4 (2)\n",
    "\n",
    "Experiment: Pilot of Pilot\n",
    "\n",
    "Group: Cage 4\n",
    "\n",
    "Box: 1\n",
    "\n",
    "Start Time: 12:59:58\n",
    "\n",
    "End Time: 14:02:38\n",
    "\n",
    "MSN: levelNP_CS_reward_laserepochON1st_noshock\n",
    "```"
   ]
  },
  {
   "cell_type": "markdown",
   "id": "f1404cfd",
   "metadata": {},
   "source": [
    "- We will just find all the lines that start with `\"File\", \"Start Date\", \"End Date\", \"Subject\", \"Experiment\", \"Group\", \"Box\", \"Start Time\", \"End Time\", or \"MSN\"`. And get the metadata from those lines. And then stop once all the metadata types have been collected"
   ]
  },
  {
   "cell_type": "code",
   "execution_count": 12,
   "id": "67503081",
   "metadata": {},
   "outputs": [],
   "source": [
    "# This makes a nested dictionary of file paths to each individual metadata type\n",
    "file_path_to_meta_data = extract.metadata.get_all_med_pc_meta_data_from_files(list_of_files=all_med_pc_file)"
   ]
  },
  {
   "cell_type": "code",
   "execution_count": 13,
   "id": "35ff0f55",
   "metadata": {},
   "outputs": [
    {
     "name": "stdout",
     "output_type": "stream",
     "text": [
      "File path: ./data\\2024-02-15_13h38m_Subject RCE3_1.txt\n",
      "Metadata types and associated values: {'File': 'C:\\\\MED-PC\\\\Data\\\\2024-02-15_13h38m_Subject RCE3_1.txt', 'Start Date': '02/15/24', 'End Date': '02/15/24', 'Subject': 'RCE3_1', 'Experiment': '', 'Group': '', 'Box': '1', 'Start Time': '13:38:32', 'End Time': '14:54:07', 'MSN': 'CD1_reward_training'}\n"
     ]
    }
   ],
   "source": [
    "# The metadata for the first file\n",
    "for key, value in file_path_to_meta_data.items():\n",
    "    print(\"File path: {}\".format(key))\n",
    "    print(\"Metadata types and associated values: {}\".format(value))\n",
    "    break"
   ]
  },
  {
   "cell_type": "markdown",
   "id": "2c00edf5",
   "metadata": {},
   "source": [
    "## Making a Dataframe out of the Metadata"
   ]
  },
  {
   "cell_type": "markdown",
   "id": "3298bae3",
   "metadata": {},
   "source": [
    "- A Dataframe is essentially a \"programmable\" spreadsheet. But instead of clicking on cells, you will have to tell Python how you want to interact with the spreadsheet\n",
    "    - For more information: https://realpython.com/pandas-dataframe/"
   ]
  },
  {
   "cell_type": "code",
   "execution_count": 14,
   "id": "6fcb3201",
   "metadata": {},
   "outputs": [],
   "source": [
    "# Turning the dictionary into a Pandas Dataframe\n",
    "metadata_df = pd.DataFrame.from_dict(file_path_to_meta_data, orient=\"index\")\n",
    "# Resetting the index because currently the file path is the index \n",
    "metadata_df = metadata_df.reset_index()"
   ]
  },
  {
   "cell_type": "code",
   "execution_count": 15,
   "id": "b98fcaf2",
   "metadata": {},
   "outputs": [
    {
     "data": {
      "text/html": [
       "<div>\n",
       "<style scoped>\n",
       "    .dataframe tbody tr th:only-of-type {\n",
       "        vertical-align: middle;\n",
       "    }\n",
       "\n",
       "    .dataframe tbody tr th {\n",
       "        vertical-align: top;\n",
       "    }\n",
       "\n",
       "    .dataframe thead th {\n",
       "        text-align: right;\n",
       "    }\n",
       "</style>\n",
       "<table border=\"1\" class=\"dataframe\">\n",
       "  <thead>\n",
       "    <tr style=\"text-align: right;\">\n",
       "      <th></th>\n",
       "      <th>index</th>\n",
       "      <th>File</th>\n",
       "      <th>Start Date</th>\n",
       "      <th>End Date</th>\n",
       "      <th>Subject</th>\n",
       "      <th>Experiment</th>\n",
       "      <th>Group</th>\n",
       "      <th>Box</th>\n",
       "      <th>Start Time</th>\n",
       "      <th>End Time</th>\n",
       "      <th>MSN</th>\n",
       "    </tr>\n",
       "  </thead>\n",
       "  <tbody>\n",
       "    <tr>\n",
       "      <th>0</th>\n",
       "      <td>./data\\2024-02-15_13h38m_Subject RCE3_1.txt</td>\n",
       "      <td>C:\\MED-PC\\Data\\2024-02-15_13h38m_Subject RCE3_...</td>\n",
       "      <td>02/15/24</td>\n",
       "      <td>02/15/24</td>\n",
       "      <td>RCE3_1</td>\n",
       "      <td></td>\n",
       "      <td></td>\n",
       "      <td>1</td>\n",
       "      <td>13:38:32</td>\n",
       "      <td>14:54:07</td>\n",
       "      <td>CD1_reward_training</td>\n",
       "    </tr>\n",
       "    <tr>\n",
       "      <th>1</th>\n",
       "      <td>./data\\2024-02-15_13h38m_Subject RCE3_3.txt</td>\n",
       "      <td>C:\\MED-PC\\Data\\2024-02-15_13h38m_Subject RCE3_...</td>\n",
       "      <td>02/15/24</td>\n",
       "      <td>02/15/24</td>\n",
       "      <td>RCE3_3</td>\n",
       "      <td></td>\n",
       "      <td></td>\n",
       "      <td>2</td>\n",
       "      <td>13:38:32</td>\n",
       "      <td>14:54:07</td>\n",
       "      <td>CD1_reward_training</td>\n",
       "    </tr>\n",
       "    <tr>\n",
       "      <th>2</th>\n",
       "      <td>./data\\2024-02-15_13h38m_Subject RCE3_4.txt</td>\n",
       "      <td>C:\\MED-PC\\Data\\2024-02-15_13h38m_Subject RCE3_...</td>\n",
       "      <td>02/15/24</td>\n",
       "      <td>02/15/24</td>\n",
       "      <td>RCE3_4</td>\n",
       "      <td></td>\n",
       "      <td></td>\n",
       "      <td>3</td>\n",
       "      <td>13:38:32</td>\n",
       "      <td>14:54:07</td>\n",
       "      <td>CD1_reward_training</td>\n",
       "    </tr>\n",
       "    <tr>\n",
       "      <th>3</th>\n",
       "      <td>./data\\2024-02-15_13h38m_Subject RCE4_2.txt</td>\n",
       "      <td>C:\\MED-PC\\Data\\2024-02-15_13h38m_Subject RCE4_...</td>\n",
       "      <td>02/15/24</td>\n",
       "      <td>02/15/24</td>\n",
       "      <td>RCE4_2</td>\n",
       "      <td></td>\n",
       "      <td></td>\n",
       "      <td>4</td>\n",
       "      <td>13:38:32</td>\n",
       "      <td>14:54:07</td>\n",
       "      <td>CD1_reward_training</td>\n",
       "    </tr>\n",
       "    <tr>\n",
       "      <th>4</th>\n",
       "      <td>./data\\2024-02-15_13h38m_Subject RCE4_3.txt</td>\n",
       "      <td>C:\\MED-PC\\Data\\2024-02-15_13h38m_Subject RCE4_...</td>\n",
       "      <td>02/15/24</td>\n",
       "      <td>02/15/24</td>\n",
       "      <td>RCE4_3</td>\n",
       "      <td></td>\n",
       "      <td></td>\n",
       "      <td>5</td>\n",
       "      <td>13:38:32</td>\n",
       "      <td>14:54:07</td>\n",
       "      <td>CD1_reward_training</td>\n",
       "    </tr>\n",
       "  </tbody>\n",
       "</table>\n",
       "</div>"
      ],
      "text/plain": [
       "                                         index  \\\n",
       "0  ./data\\2024-02-15_13h38m_Subject RCE3_1.txt   \n",
       "1  ./data\\2024-02-15_13h38m_Subject RCE3_3.txt   \n",
       "2  ./data\\2024-02-15_13h38m_Subject RCE3_4.txt   \n",
       "3  ./data\\2024-02-15_13h38m_Subject RCE4_2.txt   \n",
       "4  ./data\\2024-02-15_13h38m_Subject RCE4_3.txt   \n",
       "\n",
       "                                                File Start Date  End Date  \\\n",
       "0  C:\\MED-PC\\Data\\2024-02-15_13h38m_Subject RCE3_...   02/15/24  02/15/24   \n",
       "1  C:\\MED-PC\\Data\\2024-02-15_13h38m_Subject RCE3_...   02/15/24  02/15/24   \n",
       "2  C:\\MED-PC\\Data\\2024-02-15_13h38m_Subject RCE3_...   02/15/24  02/15/24   \n",
       "3  C:\\MED-PC\\Data\\2024-02-15_13h38m_Subject RCE4_...   02/15/24  02/15/24   \n",
       "4  C:\\MED-PC\\Data\\2024-02-15_13h38m_Subject RCE4_...   02/15/24  02/15/24   \n",
       "\n",
       "  Subject Experiment Group Box Start Time  End Time                  MSN  \n",
       "0  RCE3_1                    1   13:38:32  14:54:07  CD1_reward_training  \n",
       "1  RCE3_3                    2   13:38:32  14:54:07  CD1_reward_training  \n",
       "2  RCE3_4                    3   13:38:32  14:54:07  CD1_reward_training  \n",
       "3  RCE4_2                    4   13:38:32  14:54:07  CD1_reward_training  \n",
       "4  RCE4_3                    5   13:38:32  14:54:07  CD1_reward_training  "
      ]
     },
     "execution_count": 15,
     "metadata": {},
     "output_type": "execute_result"
    }
   ],
   "source": [
    "metadata_df.head()"
   ]
  },
  {
   "cell_type": "code",
   "execution_count": 16,
   "id": "371584e7",
   "metadata": {
    "scrolled": true
   },
   "outputs": [
    {
     "data": {
      "text/html": [
       "<div>\n",
       "<style scoped>\n",
       "    .dataframe tbody tr th:only-of-type {\n",
       "        vertical-align: middle;\n",
       "    }\n",
       "\n",
       "    .dataframe tbody tr th {\n",
       "        vertical-align: top;\n",
       "    }\n",
       "\n",
       "    .dataframe thead th {\n",
       "        text-align: right;\n",
       "    }\n",
       "</style>\n",
       "<table border=\"1\" class=\"dataframe\">\n",
       "  <thead>\n",
       "    <tr style=\"text-align: right;\">\n",
       "      <th></th>\n",
       "      <th>index</th>\n",
       "      <th>File</th>\n",
       "      <th>Start Date</th>\n",
       "      <th>End Date</th>\n",
       "      <th>Subject</th>\n",
       "      <th>Experiment</th>\n",
       "      <th>Group</th>\n",
       "      <th>Box</th>\n",
       "      <th>Start Time</th>\n",
       "      <th>End Time</th>\n",
       "      <th>MSN</th>\n",
       "    </tr>\n",
       "  </thead>\n",
       "  <tbody>\n",
       "    <tr>\n",
       "      <th>97</th>\n",
       "      <td>./data\\2024-03-04_13h07m_Subject RCE5_3.txt</td>\n",
       "      <td>C:\\MED-PC\\Data\\2024-03-04_13h07m_Subject RCE5_...</td>\n",
       "      <td>03/04/24</td>\n",
       "      <td>03/04/24</td>\n",
       "      <td>RCE5_3</td>\n",
       "      <td></td>\n",
       "      <td></td>\n",
       "      <td>2</td>\n",
       "      <td>13:07:49</td>\n",
       "      <td>14:10:14</td>\n",
       "      <td>CD1_reward_training</td>\n",
       "    </tr>\n",
       "    <tr>\n",
       "      <th>98</th>\n",
       "      <td>./data\\2024-03-04_15h39m_Subject RCE5_4.txt</td>\n",
       "      <td>C:\\MED-PC\\Data\\2024-03-04_15h39m_Subject RCE5_...</td>\n",
       "      <td>03/04/24</td>\n",
       "      <td>03/04/24</td>\n",
       "      <td>RCE5_4</td>\n",
       "      <td></td>\n",
       "      <td></td>\n",
       "      <td>2</td>\n",
       "      <td>15:39:33</td>\n",
       "      <td>16:40:58</td>\n",
       "      <td>CD1_reward_training</td>\n",
       "    </tr>\n",
       "    <tr>\n",
       "      <th>99</th>\n",
       "      <td>./data\\2024-03-05_12h32m_Subject RCE5_2.txt</td>\n",
       "      <td>C:\\MED-PC\\Data\\2024-03-05_12h32m_Subject RCE5_...</td>\n",
       "      <td>03/05/24</td>\n",
       "      <td>RCE5_2/24</td>\n",
       "      <td>RCE5_2</td>\n",
       "      <td></td>\n",
       "      <td></td>\n",
       "      <td>2</td>\n",
       "      <td>12:32:38</td>\n",
       "      <td>13:34:31</td>\n",
       "      <td>CD1_reward_training</td>\n",
       "    </tr>\n",
       "    <tr>\n",
       "      <th>100</th>\n",
       "      <td>./data\\2024-03-05_12h32m_Subject RCE5_3.txt</td>\n",
       "      <td>C:\\MED-PC\\Data\\2024-03-05_12h32m_Subject RCE5_...</td>\n",
       "      <td>03/05/24</td>\n",
       "      <td>03/05/24</td>\n",
       "      <td>RCE5_3</td>\n",
       "      <td></td>\n",
       "      <td></td>\n",
       "      <td>1</td>\n",
       "      <td>12:32:38</td>\n",
       "      <td>13:34:31</td>\n",
       "      <td>CD1_reward_training</td>\n",
       "    </tr>\n",
       "    <tr>\n",
       "      <th>101</th>\n",
       "      <td>./data\\2024-03-05_14h19m_Subject RCE5_4.txt</td>\n",
       "      <td>C:\\MED-PC\\Data\\2024-03-05_14h19m_Subject RCE5_...</td>\n",
       "      <td>03/05/24</td>\n",
       "      <td>03/05/24</td>\n",
       "      <td>RCE5_4</td>\n",
       "      <td></td>\n",
       "      <td></td>\n",
       "      <td>1</td>\n",
       "      <td>14:19:46</td>\n",
       "      <td>15:21:18</td>\n",
       "      <td>CD1_reward_training</td>\n",
       "    </tr>\n",
       "  </tbody>\n",
       "</table>\n",
       "</div>"
      ],
      "text/plain": [
       "                                           index  \\\n",
       "97   ./data\\2024-03-04_13h07m_Subject RCE5_3.txt   \n",
       "98   ./data\\2024-03-04_15h39m_Subject RCE5_4.txt   \n",
       "99   ./data\\2024-03-05_12h32m_Subject RCE5_2.txt   \n",
       "100  ./data\\2024-03-05_12h32m_Subject RCE5_3.txt   \n",
       "101  ./data\\2024-03-05_14h19m_Subject RCE5_4.txt   \n",
       "\n",
       "                                                  File Start Date   End Date  \\\n",
       "97   C:\\MED-PC\\Data\\2024-03-04_13h07m_Subject RCE5_...   03/04/24   03/04/24   \n",
       "98   C:\\MED-PC\\Data\\2024-03-04_15h39m_Subject RCE5_...   03/04/24   03/04/24   \n",
       "99   C:\\MED-PC\\Data\\2024-03-05_12h32m_Subject RCE5_...   03/05/24  RCE5_2/24   \n",
       "100  C:\\MED-PC\\Data\\2024-03-05_12h32m_Subject RCE5_...   03/05/24   03/05/24   \n",
       "101  C:\\MED-PC\\Data\\2024-03-05_14h19m_Subject RCE5_...   03/05/24   03/05/24   \n",
       "\n",
       "    Subject Experiment Group Box Start Time  End Time                  MSN  \n",
       "97   RCE5_3                    2   13:07:49  14:10:14  CD1_reward_training  \n",
       "98   RCE5_4                    2   15:39:33  16:40:58  CD1_reward_training  \n",
       "99   RCE5_2                    2   12:32:38  13:34:31  CD1_reward_training  \n",
       "100  RCE5_3                    1   12:32:38  13:34:31  CD1_reward_training  \n",
       "101  RCE5_4                    1   14:19:46  15:21:18  CD1_reward_training  "
      ]
     },
     "execution_count": 16,
     "metadata": {},
     "output_type": "execute_result"
    }
   ],
   "source": [
    "metadata_df.tail()"
   ]
  },
  {
   "cell_type": "markdown",
   "id": "f5b3ecc2",
   "metadata": {},
   "source": [
    "- Getting the number of files that are associated with each subject"
   ]
  },
  {
   "cell_type": "code",
   "execution_count": 17,
   "id": "6285ade1",
   "metadata": {
    "scrolled": true
   },
   "outputs": [
    {
     "data": {
      "text/html": [
       "<div>\n",
       "<style scoped>\n",
       "    .dataframe tbody tr th:only-of-type {\n",
       "        vertical-align: middle;\n",
       "    }\n",
       "\n",
       "    .dataframe tbody tr th {\n",
       "        vertical-align: top;\n",
       "    }\n",
       "\n",
       "    .dataframe thead th {\n",
       "        text-align: right;\n",
       "    }\n",
       "</style>\n",
       "<table border=\"1\" class=\"dataframe\">\n",
       "  <thead>\n",
       "    <tr style=\"text-align: right;\">\n",
       "      <th></th>\n",
       "      <th>index</th>\n",
       "      <th>File</th>\n",
       "      <th>Start Date</th>\n",
       "      <th>End Date</th>\n",
       "      <th>Experiment</th>\n",
       "      <th>Group</th>\n",
       "      <th>Box</th>\n",
       "      <th>Start Time</th>\n",
       "      <th>End Time</th>\n",
       "      <th>MSN</th>\n",
       "    </tr>\n",
       "    <tr>\n",
       "      <th>Subject</th>\n",
       "      <th></th>\n",
       "      <th></th>\n",
       "      <th></th>\n",
       "      <th></th>\n",
       "      <th></th>\n",
       "      <th></th>\n",
       "      <th></th>\n",
       "      <th></th>\n",
       "      <th></th>\n",
       "      <th></th>\n",
       "    </tr>\n",
       "  </thead>\n",
       "  <tbody>\n",
       "    <tr>\n",
       "      <th>RCE3_1</th>\n",
       "      <td>11</td>\n",
       "      <td>11</td>\n",
       "      <td>11</td>\n",
       "      <td>11</td>\n",
       "      <td>11</td>\n",
       "      <td>11</td>\n",
       "      <td>11</td>\n",
       "      <td>11</td>\n",
       "      <td>11</td>\n",
       "      <td>11</td>\n",
       "    </tr>\n",
       "    <tr>\n",
       "      <th>RCE3_3</th>\n",
       "      <td>11</td>\n",
       "      <td>11</td>\n",
       "      <td>11</td>\n",
       "      <td>11</td>\n",
       "      <td>11</td>\n",
       "      <td>11</td>\n",
       "      <td>11</td>\n",
       "      <td>11</td>\n",
       "      <td>11</td>\n",
       "      <td>11</td>\n",
       "    </tr>\n",
       "    <tr>\n",
       "      <th>RCE3_4</th>\n",
       "      <td>11</td>\n",
       "      <td>11</td>\n",
       "      <td>11</td>\n",
       "      <td>11</td>\n",
       "      <td>11</td>\n",
       "      <td>11</td>\n",
       "      <td>11</td>\n",
       "      <td>11</td>\n",
       "      <td>11</td>\n",
       "      <td>11</td>\n",
       "    </tr>\n",
       "    <tr>\n",
       "      <th>RCE4_2</th>\n",
       "      <td>12</td>\n",
       "      <td>12</td>\n",
       "      <td>12</td>\n",
       "      <td>12</td>\n",
       "      <td>12</td>\n",
       "      <td>12</td>\n",
       "      <td>12</td>\n",
       "      <td>12</td>\n",
       "      <td>12</td>\n",
       "      <td>12</td>\n",
       "    </tr>\n",
       "    <tr>\n",
       "      <th>RCE4_3</th>\n",
       "      <td>13</td>\n",
       "      <td>13</td>\n",
       "      <td>13</td>\n",
       "      <td>13</td>\n",
       "      <td>13</td>\n",
       "      <td>13</td>\n",
       "      <td>13</td>\n",
       "      <td>13</td>\n",
       "      <td>13</td>\n",
       "      <td>13</td>\n",
       "    </tr>\n",
       "    <tr>\n",
       "      <th>RCE4_4</th>\n",
       "      <td>12</td>\n",
       "      <td>12</td>\n",
       "      <td>12</td>\n",
       "      <td>12</td>\n",
       "      <td>12</td>\n",
       "      <td>12</td>\n",
       "      <td>12</td>\n",
       "      <td>12</td>\n",
       "      <td>12</td>\n",
       "      <td>12</td>\n",
       "    </tr>\n",
       "    <tr>\n",
       "      <th>RCE5_2</th>\n",
       "      <td>10</td>\n",
       "      <td>10</td>\n",
       "      <td>10</td>\n",
       "      <td>10</td>\n",
       "      <td>10</td>\n",
       "      <td>10</td>\n",
       "      <td>10</td>\n",
       "      <td>10</td>\n",
       "      <td>10</td>\n",
       "      <td>10</td>\n",
       "    </tr>\n",
       "    <tr>\n",
       "      <th>RCE5_3</th>\n",
       "      <td>11</td>\n",
       "      <td>11</td>\n",
       "      <td>11</td>\n",
       "      <td>11</td>\n",
       "      <td>11</td>\n",
       "      <td>11</td>\n",
       "      <td>11</td>\n",
       "      <td>11</td>\n",
       "      <td>11</td>\n",
       "      <td>11</td>\n",
       "    </tr>\n",
       "    <tr>\n",
       "      <th>RCE5_4</th>\n",
       "      <td>11</td>\n",
       "      <td>11</td>\n",
       "      <td>11</td>\n",
       "      <td>11</td>\n",
       "      <td>11</td>\n",
       "      <td>11</td>\n",
       "      <td>11</td>\n",
       "      <td>11</td>\n",
       "      <td>11</td>\n",
       "      <td>11</td>\n",
       "    </tr>\n",
       "  </tbody>\n",
       "</table>\n",
       "</div>"
      ],
      "text/plain": [
       "         index  File  Start Date  End Date  Experiment  Group  Box  \\\n",
       "Subject                                                              \n",
       "RCE3_1      11    11          11        11          11     11   11   \n",
       "RCE3_3      11    11          11        11          11     11   11   \n",
       "RCE3_4      11    11          11        11          11     11   11   \n",
       "RCE4_2      12    12          12        12          12     12   12   \n",
       "RCE4_3      13    13          13        13          13     13   13   \n",
       "RCE4_4      12    12          12        12          12     12   12   \n",
       "RCE5_2      10    10          10        10          10     10   10   \n",
       "RCE5_3      11    11          11        11          11     11   11   \n",
       "RCE5_4      11    11          11        11          11     11   11   \n",
       "\n",
       "         Start Time  End Time  MSN  \n",
       "Subject                             \n",
       "RCE3_1           11        11   11  \n",
       "RCE3_3           11        11   11  \n",
       "RCE3_4           11        11   11  \n",
       "RCE4_2           12        12   12  \n",
       "RCE4_3           13        13   13  \n",
       "RCE4_4           12        12   12  \n",
       "RCE5_2           10        10   10  \n",
       "RCE5_3           11        11   11  \n",
       "RCE5_4           11        11   11  "
      ]
     },
     "execution_count": 17,
     "metadata": {},
     "output_type": "execute_result"
    }
   ],
   "source": [
    "# How many files there are for each subject\n",
    "metadata_df.groupby(\"Subject\").count()"
   ]
  },
  {
   "cell_type": "markdown",
   "id": "dd4bc5a5",
   "metadata": {},
   "source": [
    "## Looking over the MED-PC scripts"
   ]
  },
  {
   "cell_type": "markdown",
   "id": "73d599c4",
   "metadata": {},
   "source": [
    "- MED-PC has scripts(lines of code that act as the instructions for how to operate the MED-PC boxes) that contain the descriptions of what each value in the recordings are. We will extract the descriptions from the MED-PC scripts so that we can label the data points in the MED-PC recordings  \n",
    "- Below is a list of all the MED-PC Scripts. We will only be looking at the first one    "
   ]
  },
  {
   "cell_type": "code",
   "execution_count": 18,
   "id": "09460401",
   "metadata": {},
   "outputs": [],
   "source": [
    "all_medpc_scripts = glob.glob(\"./**/*.MPC\")"
   ]
  },
  {
   "cell_type": "code",
   "execution_count": 19,
   "id": "9c93c991",
   "metadata": {},
   "outputs": [
    {
     "data": {
      "text/plain": [
       "['.\\\\data\\\\CD1_reward_training.MPC']"
      ]
     },
     "execution_count": 19,
     "metadata": {},
     "output_type": "execute_result"
    }
   ],
   "source": [
    "all_medpc_scripts"
   ]
  },
  {
   "cell_type": "markdown",
   "id": "c78aaf6c",
   "metadata": {},
   "source": [
    "- Example of what the MED-PC Script looks like that was ran when recording the behaviors"
   ]
  },
  {
   "cell_type": "code",
   "execution_count": 20,
   "id": "8dee131d",
   "metadata": {},
   "outputs": [
    {
     "name": "stdout",
     "output_type": "stream",
     "text": [
      "\\INPUTS\n",
      "\n",
      "\n",
      "\n",
      "^port = 8\n",
      "\n",
      "\n",
      "\n",
      "\n",
      "\n",
      "\\OUTPUTS\n",
      "\n",
      "^whitenoise = 1\n",
      "\n",
      "^tone1 = 2\n",
      "\n",
      "^tone2 = 3\n",
      "\n",
      "^pump = 9\n",
      "\n",
      "^fan = 16\n",
      "\n",
      "^toneled = 17\n",
      "\n",
      "^peled = 18\n",
      "\n",
      "\n",
      "\n",
      "\n",
      "\n",
      "\n",
      "\n",
      "\\ARRAYS\n",
      "\n",
      "\n",
      "\n",
      "DIM P = 20000 \\Port entry time stamp array\n",
      "\n",
      "\n",
      "\n",
      "DIM Q = 250 \\US delivery time stamp array (absolute)\n",
      "\n",
      "\n",
      "\n",
      "DIM R = 250 \\US time stamp array (relative to last CS)\n",
      "\n",
      "\n",
      "\n",
      "DIM W = 2500 \\ITI values used for CS\n",
      "\n",
      "\n",
      "\n",
      "DIM S = 2500 \\CS presentation values (absolute - every time yellow light turns on)\n",
      "\n",
      "\n",
      "\n",
      "DIM N = 20000 \\Port exit time stamp array\n",
      "\n",
      "\n",
      "\n",
      "DIM K = 250 \\CS type\n",
      "\n",
      "\n",
      "\n",
      "DIM G = 250 \\controlled_stimulus_seconds computer clock time (seconds on clock every time yellow light/tone turns on)\n",
      "\n",
      "\n",
      "\n",
      "DIM H = 250 \\controlled_stimulus_minutes computer clock time (minutes on clock every time yellow light/tone turns on)\n",
      "\n",
      "\n",
      "\n",
      "DIM I = 250 \\controlled_stimulus_hours computer clock time (hours every time yellow light/tone turns on)\n",
      "\n",
      "\n",
      "\n",
      "DIM B = 2500 \\port_entry_seconds computer clock time (seconds on clock every time red light turns on)\n",
      "\n",
      "\n",
      "\n",
      "DIM F = 2500 \\port_entry_minutes computer clock time (minutes on clock every time red light turns on)\n",
      "\n",
      "\n",
      "\n",
      "DIM J = 2500 \\port_entry_hours computer clock time (hours every time red light turns on)\n",
      "\n",
      "\n",
      "\n",
      "\n",
      "\n",
      "\n",
      "\n",
      "\\Original List of ITIs\n",
      "\n",
      "\n",
      "\n",
      "LIST V = 80\", 90\", 80\", 75\", 100\", 95\", 90\", 80\", 90\", 100\", 90\", 120\", 90\", 85\", 90\", 95\", 120\", 80\", 95\", 80\", 90\", 80\", 75\", 100\", 95\", 90\", 80\", 90\", 100\", 90\", 120\", 90\", 85\", 90\", 95\", 90\", 80\", 90\", 100\", 90\", 90\", 90\", 90\", 90\", 90\", 90\", 90\", 90\", 90\", 90\", 90\", 90\", 90\", 90\", 90\", 90\", 90\", 90\", 90\" \\, 100\", 108\", 117\", 121\", 133\", 145\", 165\" \\CS ITI values (tone + houselight)\n",
      "\n",
      "\n",
      "\n",
      "\n",
      "\n",
      "\n",
      "\n",
      "\\Counter and Flag array\n",
      "\n",
      "DIM C = 6\n",
      "\n",
      "\n",
      "\n",
      "\\are all 1-indexed i.e. 3 port entries means 3 port entries\n",
      "\n",
      "\n",
      "\n",
      "\\C(0) counter for number of port entries\n",
      "\n",
      "\n",
      "\n",
      "\\C(1) counter for CS presentation number\n",
      "\n",
      "\n",
      "\n",
      "\\C(2) counter for US delivery\n",
      "\n",
      "\n",
      "\n",
      "\\C(3) flag to indicate if sucrose is in port =0 if no port entry was made, =1 if port entry was made (i.e., no sucrose)\n",
      "\n",
      "\n",
      "\n",
      "\\C(4) counter for number of port exits\n",
      "\n",
      "\n",
      "\n",
      "\\C(5) number of CS1 (tones)\n",
      "\n",
      "\n",
      "\n",
      "\\C(6) number of sucrose deliveries\n",
      "\n",
      "\n",
      "\n",
      "\n",
      "\n",
      "\n",
      "\n",
      "\\Z-pulses\n",
      "\n",
      "\n",
      "\n",
      "\\Z1: start task after initial delay\n",
      "\n",
      "\n",
      "\n",
      "\\Z2: start of CS\n",
      "\n",
      "\n",
      "\n",
      "\\Z3: port entry\n",
      "\n",
      "\n",
      "\n",
      "\\Z4: port exit\n",
      "\n",
      "\n",
      "\n",
      "\\Z5: trigger CS1\n",
      "\n",
      "\n",
      "\n",
      "\\Z6: turn off CS1 triggers\n",
      "\n",
      "\n",
      "\n",
      "\n",
      "\n",
      "\n",
      "\n",
      "\\Variables\n",
      "\n",
      "\n",
      "\n",
      "\\A - Time since last CS\n",
      "\n",
      "\n",
      "\n",
      "\\B - \n",
      "\n",
      "\n",
      "\n",
      "\\C - Counter array\n",
      "\n",
      "\n",
      "\n",
      "\\D - Current ITI value\n",
      "\n",
      "\n",
      "\n",
      "\\E - CS ITI values for first few trials\n",
      "\n"
     ]
    }
   ],
   "source": [
    "with open(all_medpc_scripts[0]) as f:\n",
    "    lines = f.readlines()\n",
    "    for line in lines[:100]:\n",
    "        print(line)"
   ]
  },
  {
   "cell_type": "markdown",
   "id": "0ee62e6c",
   "metadata": {},
   "source": [
    "- We will be using the comments in the MED-PC script(Everything after the `\\` for each line) to create a name for the variables. By default, MED-PC uses a single letter as the name of the variable(programming object that holds some information).\n",
    "    - This will use the medpc2excel library found in https://github.com/cyf203/medpc2excel\n",
    "- Example of the variable names and their comments in the MED-PC script that we will get the descriptive names from:\n",
    "    - MED-PC will squish the first few words to create the name for every variable\n",
    "\n",
    "```\n",
    "DIM P = 20000 \\Port entry time stamp array\n",
    "\n",
    "DIM Q = 2500 \\US delivery time stamp array (absolute)\n",
    "\n",
    "DIM R = 2500 \\US time stamp array (relative to last CS)\n",
    "\n",
    "DIM W = 2500 \\ITI values used for CS\n",
    "\n",
    "DIM S = 2500 \\CS presentation values (absolute - every time light turns on)\n",
    "\n",
    "DIM N = 20000 \\Port exit time stamp array\n",
    "\n",
    "DIM K = 2500 \\CS type\n",
    "\n",
    "DIM B = 2500 \\shock intensity\n",
    "```"
   ]
  },
  {
   "cell_type": "markdown",
   "id": "0caaa9b0",
   "metadata": {},
   "source": [
    "- In the MED-PC recording files, there are values that are labelled with letters. These data type of these letters is described in the MED-PC script file that we just looked at."
   ]
  },
  {
   "cell_type": "code",
   "execution_count": 21,
   "id": "7d7b57bd",
   "metadata": {
    "scrolled": true
   },
   "outputs": [
    {
     "name": "stdout",
     "output_type": "stream",
     "text": [
      "File: C:\\MED-PC\\Data\\2024-02-15_13h38m_Subject RCE3_1.txt\n",
      "\n",
      "\n",
      "\n",
      "\n",
      "\n",
      "\n",
      "\n",
      "Start Date: 02/15/24\n",
      "\n",
      "End Date: 02/15/24\n",
      "\n",
      "Subject: RCE3_1\n",
      "\n",
      "Experiment: \n",
      "\n",
      "Group: \n",
      "\n",
      "Box: 1\n",
      "\n",
      "Start Time: 13:38:32\n",
      "\n",
      "End Time: 14:54:07\n",
      "\n",
      "MSN: CD1_reward_training\n",
      "\n",
      "A:    4399.000\n",
      "\n",
      "D:    9000.000\n",
      "\n",
      "E:       0.000\n",
      "\n",
      "L:       0.000\n",
      "\n",
      "M:       0.000\n",
      "\n",
      "O:       0.000\n",
      "\n",
      "T:    3660.000\n",
      "\n"
     ]
    }
   ],
   "source": [
    "with open(all_med_pc_file[0]) as f:\n",
    "    lines = f.readlines()\n",
    "    for line in lines[:20]:\n",
    "        print(line)"
   ]
  },
  {
   "cell_type": "markdown",
   "id": "3480b276",
   "metadata": {},
   "source": [
    "## **NOTE: Please make sure that the corresponding `.mpc` file (aka the MED-PC script) that was ran to create the log file, is also in the same folder as the recording files. This notebook will fail to extract the data from the recording file if it is missing**"
   ]
  },
  {
   "cell_type": "markdown",
   "id": "da040878",
   "metadata": {},
   "source": [
    "- Spreadsheet of the data from the MED-PC recording file for all the files combined into one.\n",
    "- **NOTE: Each row does not correspond to the same data point. Each row represents the \"n\"-th data point for each category for each file. AKA, the first row is the first data point for the time the subject entered the port and the first data point for the time that the tone that is played, two seperate things. The second row is the second data point for all the categories, the third row is the third data point and so on. This repeats for all data points in a given file, then it starts over to the next file where the first row of that file is the first for all its data points.**"
   ]
  },
  {
   "cell_type": "code",
   "execution_count": 22,
   "id": "0c38d1eb",
   "metadata": {
    "scrolled": true
   },
   "outputs": [
    {
     "name": "stdout",
     "output_type": "stream",
     "text": [
      "Traceback (most recent call last):\n",
      "  File \"c:\\Users\\Ryo Iwata\\Documents\\GitHub\\reward_comp_ext\\results\\2024_08_30_reward_training\\../../src\\extract\\dataframe.py\", line 71, in get_medpc_dataframe_from_list_of_files\n",
      "    ts_df, medpc_log = medpc_read(file=file_path, override=True, replace=False)\n",
      "  File \"c:\\Users\\Ryo Iwata\\Documents\\GitHub\\reward_comp_ext\\behavioral_processing_env\\lib\\site-packages\\medpc2excel\\medpc_read.py\", line 114, in medpc_read\n",
      "    temp += re.split('\\s+',d.split(':')[1])\n",
      "IndexError: list index out of range\n",
      "\n",
      "Invalid Formatting for file: ./data\\2024-02-27_12h13m_Subject RCE5_3.txt\n"
     ]
    }
   ],
   "source": [
    "concatted_medpc_df = extract.dataframe.get_medpc_dataframe_from_list_of_files(medpc_files=all_med_pc_file)"
   ]
  },
  {
   "cell_type": "code",
   "execution_count": 23,
   "id": "f9339573",
   "metadata": {},
   "outputs": [
    {
     "data": {
      "text/html": [
       "<div>\n",
       "<style scoped>\n",
       "    .dataframe tbody tr th:only-of-type {\n",
       "        vertical-align: middle;\n",
       "    }\n",
       "\n",
       "    .dataframe tbody tr th {\n",
       "        vertical-align: top;\n",
       "    }\n",
       "\n",
       "    .dataframe thead th {\n",
       "        text-align: right;\n",
       "    }\n",
       "</style>\n",
       "<table border=\"1\" class=\"dataframe\">\n",
       "  <thead>\n",
       "    <tr style=\"text-align: right;\">\n",
       "      <th></th>\n",
       "      <th>(P)Portentry</th>\n",
       "      <th>(Q)USdelivery</th>\n",
       "      <th>(R)UStime</th>\n",
       "      <th>(W)ITIvalues</th>\n",
       "      <th>(S)CSpresentation</th>\n",
       "      <th>(N)Portexit</th>\n",
       "      <th>(K)CStype</th>\n",
       "      <th>(G)controlled_stimulus_secondscomputer</th>\n",
       "      <th>(H)controlled_stimulus_minutescomputer</th>\n",
       "      <th>(I)controlled_stimulus_hourscomputer</th>\n",
       "      <th>(B)port_entry_secondscomputer</th>\n",
       "      <th>(F)port_entry_minutescomputer</th>\n",
       "      <th>(J)port_entry_hourscomputer</th>\n",
       "      <th>date</th>\n",
       "      <th>subject</th>\n",
       "      <th>file_path</th>\n",
       "    </tr>\n",
       "  </thead>\n",
       "  <tbody>\n",
       "    <tr>\n",
       "      <th>0</th>\n",
       "      <td>85.25</td>\n",
       "      <td>64.0</td>\n",
       "      <td>399.0</td>\n",
       "      <td>0.0</td>\n",
       "      <td>60.01</td>\n",
       "      <td>86.12</td>\n",
       "      <td>1.0</td>\n",
       "      <td>7.0</td>\n",
       "      <td>54.0</td>\n",
       "      <td>13.0</td>\n",
       "      <td>32.0</td>\n",
       "      <td>54.0</td>\n",
       "      <td>13.0</td>\n",
       "      <td>20240215</td>\n",
       "      <td>RCE3_1</td>\n",
       "      <td>./data\\2024-02-15_13h38m_Subject RCE3_1.txt</td>\n",
       "    </tr>\n",
       "    <tr>\n",
       "      <th>1</th>\n",
       "      <td>86.29</td>\n",
       "      <td>144.0</td>\n",
       "      <td>399.0</td>\n",
       "      <td>0.0</td>\n",
       "      <td>140.01</td>\n",
       "      <td>86.40</td>\n",
       "      <td>1.0</td>\n",
       "      <td>27.0</td>\n",
       "      <td>55.0</td>\n",
       "      <td>13.0</td>\n",
       "      <td>33.0</td>\n",
       "      <td>54.0</td>\n",
       "      <td>13.0</td>\n",
       "      <td>20240215</td>\n",
       "      <td>RCE3_1</td>\n",
       "      <td>./data\\2024-02-15_13h38m_Subject RCE3_1.txt</td>\n",
       "    </tr>\n",
       "    <tr>\n",
       "      <th>2</th>\n",
       "      <td>86.63</td>\n",
       "      <td>234.0</td>\n",
       "      <td>399.0</td>\n",
       "      <td>0.0</td>\n",
       "      <td>230.01</td>\n",
       "      <td>86.65</td>\n",
       "      <td>1.0</td>\n",
       "      <td>57.0</td>\n",
       "      <td>56.0</td>\n",
       "      <td>13.0</td>\n",
       "      <td>34.0</td>\n",
       "      <td>54.0</td>\n",
       "      <td>13.0</td>\n",
       "      <td>20240215</td>\n",
       "      <td>RCE3_1</td>\n",
       "      <td>./data\\2024-02-15_13h38m_Subject RCE3_1.txt</td>\n",
       "    </tr>\n",
       "    <tr>\n",
       "      <th>3</th>\n",
       "      <td>86.72</td>\n",
       "      <td>314.0</td>\n",
       "      <td>399.0</td>\n",
       "      <td>0.0</td>\n",
       "      <td>310.01</td>\n",
       "      <td>86.74</td>\n",
       "      <td>1.0</td>\n",
       "      <td>17.0</td>\n",
       "      <td>58.0</td>\n",
       "      <td>13.0</td>\n",
       "      <td>34.0</td>\n",
       "      <td>54.0</td>\n",
       "      <td>13.0</td>\n",
       "      <td>20240215</td>\n",
       "      <td>RCE3_1</td>\n",
       "      <td>./data\\2024-02-15_13h38m_Subject RCE3_1.txt</td>\n",
       "    </tr>\n",
       "    <tr>\n",
       "      <th>4</th>\n",
       "      <td>86.83</td>\n",
       "      <td>389.0</td>\n",
       "      <td>399.0</td>\n",
       "      <td>0.0</td>\n",
       "      <td>385.01</td>\n",
       "      <td>86.86</td>\n",
       "      <td>1.0</td>\n",
       "      <td>32.0</td>\n",
       "      <td>59.0</td>\n",
       "      <td>13.0</td>\n",
       "      <td>34.0</td>\n",
       "      <td>54.0</td>\n",
       "      <td>13.0</td>\n",
       "      <td>20240215</td>\n",
       "      <td>RCE3_1</td>\n",
       "      <td>./data\\2024-02-15_13h38m_Subject RCE3_1.txt</td>\n",
       "    </tr>\n",
       "  </tbody>\n",
       "</table>\n",
       "</div>"
      ],
      "text/plain": [
       "   (P)Portentry  (Q)USdelivery  (R)UStime  (W)ITIvalues  (S)CSpresentation  \\\n",
       "0         85.25           64.0      399.0           0.0              60.01   \n",
       "1         86.29          144.0      399.0           0.0             140.01   \n",
       "2         86.63          234.0      399.0           0.0             230.01   \n",
       "3         86.72          314.0      399.0           0.0             310.01   \n",
       "4         86.83          389.0      399.0           0.0             385.01   \n",
       "\n",
       "   (N)Portexit  (K)CStype  (G)controlled_stimulus_secondscomputer  \\\n",
       "0        86.12        1.0                                     7.0   \n",
       "1        86.40        1.0                                    27.0   \n",
       "2        86.65        1.0                                    57.0   \n",
       "3        86.74        1.0                                    17.0   \n",
       "4        86.86        1.0                                    32.0   \n",
       "\n",
       "   (H)controlled_stimulus_minutescomputer  \\\n",
       "0                                    54.0   \n",
       "1                                    55.0   \n",
       "2                                    56.0   \n",
       "3                                    58.0   \n",
       "4                                    59.0   \n",
       "\n",
       "   (I)controlled_stimulus_hourscomputer  (B)port_entry_secondscomputer  \\\n",
       "0                                  13.0                           32.0   \n",
       "1                                  13.0                           33.0   \n",
       "2                                  13.0                           34.0   \n",
       "3                                  13.0                           34.0   \n",
       "4                                  13.0                           34.0   \n",
       "\n",
       "   (F)port_entry_minutescomputer  (J)port_entry_hourscomputer      date  \\\n",
       "0                           54.0                         13.0  20240215   \n",
       "1                           54.0                         13.0  20240215   \n",
       "2                           54.0                         13.0  20240215   \n",
       "3                           54.0                         13.0  20240215   \n",
       "4                           54.0                         13.0  20240215   \n",
       "\n",
       "  subject                                    file_path  \n",
       "0  RCE3_1  ./data\\2024-02-15_13h38m_Subject RCE3_1.txt  \n",
       "1  RCE3_1  ./data\\2024-02-15_13h38m_Subject RCE3_1.txt  \n",
       "2  RCE3_1  ./data\\2024-02-15_13h38m_Subject RCE3_1.txt  \n",
       "3  RCE3_1  ./data\\2024-02-15_13h38m_Subject RCE3_1.txt  \n",
       "4  RCE3_1  ./data\\2024-02-15_13h38m_Subject RCE3_1.txt  "
      ]
     },
     "execution_count": 23,
     "metadata": {},
     "output_type": "execute_result"
    }
   ],
   "source": [
    "concatted_medpc_df.head()"
   ]
  },
  {
   "cell_type": "code",
   "execution_count": 24,
   "id": "77f21603",
   "metadata": {},
   "outputs": [
    {
     "data": {
      "text/html": [
       "<div>\n",
       "<style scoped>\n",
       "    .dataframe tbody tr th:only-of-type {\n",
       "        vertical-align: middle;\n",
       "    }\n",
       "\n",
       "    .dataframe tbody tr th {\n",
       "        vertical-align: top;\n",
       "    }\n",
       "\n",
       "    .dataframe thead th {\n",
       "        text-align: right;\n",
       "    }\n",
       "</style>\n",
       "<table border=\"1\" class=\"dataframe\">\n",
       "  <thead>\n",
       "    <tr style=\"text-align: right;\">\n",
       "      <th></th>\n",
       "      <th>(P)Portentry</th>\n",
       "      <th>(Q)USdelivery</th>\n",
       "      <th>(R)UStime</th>\n",
       "      <th>(W)ITIvalues</th>\n",
       "      <th>(S)CSpresentation</th>\n",
       "      <th>(N)Portexit</th>\n",
       "      <th>(K)CStype</th>\n",
       "      <th>(G)controlled_stimulus_secondscomputer</th>\n",
       "      <th>(H)controlled_stimulus_minutescomputer</th>\n",
       "      <th>(I)controlled_stimulus_hourscomputer</th>\n",
       "      <th>(B)port_entry_secondscomputer</th>\n",
       "      <th>(F)port_entry_minutescomputer</th>\n",
       "      <th>(J)port_entry_hourscomputer</th>\n",
       "      <th>date</th>\n",
       "      <th>subject</th>\n",
       "      <th>file_path</th>\n",
       "    </tr>\n",
       "  </thead>\n",
       "  <tbody>\n",
       "    <tr>\n",
       "      <th>6003</th>\n",
       "      <td>NaN</td>\n",
       "      <td>NaN</td>\n",
       "      <td>NaN</td>\n",
       "      <td>NaN</td>\n",
       "      <td>NaN</td>\n",
       "      <td>NaN</td>\n",
       "      <td>NaN</td>\n",
       "      <td>NaN</td>\n",
       "      <td>NaN</td>\n",
       "      <td>NaN</td>\n",
       "      <td>40.0</td>\n",
       "      <td>NaN</td>\n",
       "      <td>NaN</td>\n",
       "      <td>20240305</td>\n",
       "      <td>RCE5_4</td>\n",
       "      <td>./data\\2024-03-05_14h19m_Subject RCE5_4.txt</td>\n",
       "    </tr>\n",
       "    <tr>\n",
       "      <th>6004</th>\n",
       "      <td>NaN</td>\n",
       "      <td>NaN</td>\n",
       "      <td>NaN</td>\n",
       "      <td>NaN</td>\n",
       "      <td>NaN</td>\n",
       "      <td>NaN</td>\n",
       "      <td>NaN</td>\n",
       "      <td>NaN</td>\n",
       "      <td>NaN</td>\n",
       "      <td>NaN</td>\n",
       "      <td>1.0</td>\n",
       "      <td>NaN</td>\n",
       "      <td>NaN</td>\n",
       "      <td>20240305</td>\n",
       "      <td>RCE5_4</td>\n",
       "      <td>./data\\2024-03-05_14h19m_Subject RCE5_4.txt</td>\n",
       "    </tr>\n",
       "    <tr>\n",
       "      <th>6005</th>\n",
       "      <td>NaN</td>\n",
       "      <td>NaN</td>\n",
       "      <td>NaN</td>\n",
       "      <td>NaN</td>\n",
       "      <td>NaN</td>\n",
       "      <td>NaN</td>\n",
       "      <td>NaN</td>\n",
       "      <td>NaN</td>\n",
       "      <td>NaN</td>\n",
       "      <td>NaN</td>\n",
       "      <td>1775.0</td>\n",
       "      <td>NaN</td>\n",
       "      <td>NaN</td>\n",
       "      <td>20240305</td>\n",
       "      <td>RCE5_4</td>\n",
       "      <td>./data\\2024-03-05_14h19m_Subject RCE5_4.txt</td>\n",
       "    </tr>\n",
       "    <tr>\n",
       "      <th>6006</th>\n",
       "      <td>NaN</td>\n",
       "      <td>NaN</td>\n",
       "      <td>NaN</td>\n",
       "      <td>NaN</td>\n",
       "      <td>NaN</td>\n",
       "      <td>NaN</td>\n",
       "      <td>NaN</td>\n",
       "      <td>NaN</td>\n",
       "      <td>NaN</td>\n",
       "      <td>NaN</td>\n",
       "      <td>39.0</td>\n",
       "      <td>NaN</td>\n",
       "      <td>NaN</td>\n",
       "      <td>20240305</td>\n",
       "      <td>RCE5_4</td>\n",
       "      <td>./data\\2024-03-05_14h19m_Subject RCE5_4.txt</td>\n",
       "    </tr>\n",
       "    <tr>\n",
       "      <th>6007</th>\n",
       "      <td>NaN</td>\n",
       "      <td>NaN</td>\n",
       "      <td>NaN</td>\n",
       "      <td>NaN</td>\n",
       "      <td>NaN</td>\n",
       "      <td>NaN</td>\n",
       "      <td>NaN</td>\n",
       "      <td>NaN</td>\n",
       "      <td>NaN</td>\n",
       "      <td>NaN</td>\n",
       "      <td>40.0</td>\n",
       "      <td>NaN</td>\n",
       "      <td>NaN</td>\n",
       "      <td>20240305</td>\n",
       "      <td>RCE5_4</td>\n",
       "      <td>./data\\2024-03-05_14h19m_Subject RCE5_4.txt</td>\n",
       "    </tr>\n",
       "  </tbody>\n",
       "</table>\n",
       "</div>"
      ],
      "text/plain": [
       "      (P)Portentry  (Q)USdelivery  (R)UStime  (W)ITIvalues  (S)CSpresentation  \\\n",
       "6003           NaN            NaN        NaN           NaN                NaN   \n",
       "6004           NaN            NaN        NaN           NaN                NaN   \n",
       "6005           NaN            NaN        NaN           NaN                NaN   \n",
       "6006           NaN            NaN        NaN           NaN                NaN   \n",
       "6007           NaN            NaN        NaN           NaN                NaN   \n",
       "\n",
       "      (N)Portexit  (K)CStype  (G)controlled_stimulus_secondscomputer  \\\n",
       "6003          NaN        NaN                                     NaN   \n",
       "6004          NaN        NaN                                     NaN   \n",
       "6005          NaN        NaN                                     NaN   \n",
       "6006          NaN        NaN                                     NaN   \n",
       "6007          NaN        NaN                                     NaN   \n",
       "\n",
       "      (H)controlled_stimulus_minutescomputer  \\\n",
       "6003                                     NaN   \n",
       "6004                                     NaN   \n",
       "6005                                     NaN   \n",
       "6006                                     NaN   \n",
       "6007                                     NaN   \n",
       "\n",
       "      (I)controlled_stimulus_hourscomputer  (B)port_entry_secondscomputer  \\\n",
       "6003                                   NaN                           40.0   \n",
       "6004                                   NaN                            1.0   \n",
       "6005                                   NaN                         1775.0   \n",
       "6006                                   NaN                           39.0   \n",
       "6007                                   NaN                           40.0   \n",
       "\n",
       "      (F)port_entry_minutescomputer  (J)port_entry_hourscomputer      date  \\\n",
       "6003                            NaN                          NaN  20240305   \n",
       "6004                            NaN                          NaN  20240305   \n",
       "6005                            NaN                          NaN  20240305   \n",
       "6006                            NaN                          NaN  20240305   \n",
       "6007                            NaN                          NaN  20240305   \n",
       "\n",
       "     subject                                    file_path  \n",
       "6003  RCE5_4  ./data\\2024-03-05_14h19m_Subject RCE5_4.txt  \n",
       "6004  RCE5_4  ./data\\2024-03-05_14h19m_Subject RCE5_4.txt  \n",
       "6005  RCE5_4  ./data\\2024-03-05_14h19m_Subject RCE5_4.txt  \n",
       "6006  RCE5_4  ./data\\2024-03-05_14h19m_Subject RCE5_4.txt  \n",
       "6007  RCE5_4  ./data\\2024-03-05_14h19m_Subject RCE5_4.txt  "
      ]
     },
     "execution_count": 24,
     "metadata": {},
     "output_type": "execute_result"
    }
   ],
   "source": [
    "concatted_medpc_df.tail()"
   ]
  },
  {
   "cell_type": "markdown",
   "id": "ffd4b0b6",
   "metadata": {},
   "source": [
    "- Combining the recording and the metadata into one dataframe"
   ]
  },
  {
   "cell_type": "code",
   "execution_count": 25,
   "id": "ecc68d3c",
   "metadata": {},
   "outputs": [],
   "source": [
    "recording_and_metadata_df = concatted_medpc_df.merge(metadata_df, left_on='file_path', right_on='index')"
   ]
  },
  {
   "cell_type": "code",
   "execution_count": 26,
   "id": "48ac16af",
   "metadata": {
    "scrolled": true
   },
   "outputs": [
    {
     "data": {
      "text/html": [
       "<div>\n",
       "<style scoped>\n",
       "    .dataframe tbody tr th:only-of-type {\n",
       "        vertical-align: middle;\n",
       "    }\n",
       "\n",
       "    .dataframe tbody tr th {\n",
       "        vertical-align: top;\n",
       "    }\n",
       "\n",
       "    .dataframe thead th {\n",
       "        text-align: right;\n",
       "    }\n",
       "</style>\n",
       "<table border=\"1\" class=\"dataframe\">\n",
       "  <thead>\n",
       "    <tr style=\"text-align: right;\">\n",
       "      <th></th>\n",
       "      <th>(P)Portentry</th>\n",
       "      <th>(Q)USdelivery</th>\n",
       "      <th>(R)UStime</th>\n",
       "      <th>(W)ITIvalues</th>\n",
       "      <th>(S)CSpresentation</th>\n",
       "      <th>(N)Portexit</th>\n",
       "      <th>(K)CStype</th>\n",
       "      <th>(G)controlled_stimulus_secondscomputer</th>\n",
       "      <th>(H)controlled_stimulus_minutescomputer</th>\n",
       "      <th>(I)controlled_stimulus_hourscomputer</th>\n",
       "      <th>...</th>\n",
       "      <th>File</th>\n",
       "      <th>Start Date</th>\n",
       "      <th>End Date</th>\n",
       "      <th>Subject</th>\n",
       "      <th>Experiment</th>\n",
       "      <th>Group</th>\n",
       "      <th>Box</th>\n",
       "      <th>Start Time</th>\n",
       "      <th>End Time</th>\n",
       "      <th>MSN</th>\n",
       "    </tr>\n",
       "  </thead>\n",
       "  <tbody>\n",
       "    <tr>\n",
       "      <th>0</th>\n",
       "      <td>85.25</td>\n",
       "      <td>64.0</td>\n",
       "      <td>399.0</td>\n",
       "      <td>0.0</td>\n",
       "      <td>60.01</td>\n",
       "      <td>86.12</td>\n",
       "      <td>1.0</td>\n",
       "      <td>7.0</td>\n",
       "      <td>54.0</td>\n",
       "      <td>13.0</td>\n",
       "      <td>...</td>\n",
       "      <td>C:\\MED-PC\\Data\\2024-02-15_13h38m_Subject RCE3_...</td>\n",
       "      <td>02/15/24</td>\n",
       "      <td>02/15/24</td>\n",
       "      <td>RCE3_1</td>\n",
       "      <td></td>\n",
       "      <td></td>\n",
       "      <td>1</td>\n",
       "      <td>13:38:32</td>\n",
       "      <td>14:54:07</td>\n",
       "      <td>CD1_reward_training</td>\n",
       "    </tr>\n",
       "    <tr>\n",
       "      <th>1</th>\n",
       "      <td>86.29</td>\n",
       "      <td>144.0</td>\n",
       "      <td>399.0</td>\n",
       "      <td>0.0</td>\n",
       "      <td>140.01</td>\n",
       "      <td>86.40</td>\n",
       "      <td>1.0</td>\n",
       "      <td>27.0</td>\n",
       "      <td>55.0</td>\n",
       "      <td>13.0</td>\n",
       "      <td>...</td>\n",
       "      <td>C:\\MED-PC\\Data\\2024-02-15_13h38m_Subject RCE3_...</td>\n",
       "      <td>02/15/24</td>\n",
       "      <td>02/15/24</td>\n",
       "      <td>RCE3_1</td>\n",
       "      <td></td>\n",
       "      <td></td>\n",
       "      <td>1</td>\n",
       "      <td>13:38:32</td>\n",
       "      <td>14:54:07</td>\n",
       "      <td>CD1_reward_training</td>\n",
       "    </tr>\n",
       "    <tr>\n",
       "      <th>2</th>\n",
       "      <td>86.63</td>\n",
       "      <td>234.0</td>\n",
       "      <td>399.0</td>\n",
       "      <td>0.0</td>\n",
       "      <td>230.01</td>\n",
       "      <td>86.65</td>\n",
       "      <td>1.0</td>\n",
       "      <td>57.0</td>\n",
       "      <td>56.0</td>\n",
       "      <td>13.0</td>\n",
       "      <td>...</td>\n",
       "      <td>C:\\MED-PC\\Data\\2024-02-15_13h38m_Subject RCE3_...</td>\n",
       "      <td>02/15/24</td>\n",
       "      <td>02/15/24</td>\n",
       "      <td>RCE3_1</td>\n",
       "      <td></td>\n",
       "      <td></td>\n",
       "      <td>1</td>\n",
       "      <td>13:38:32</td>\n",
       "      <td>14:54:07</td>\n",
       "      <td>CD1_reward_training</td>\n",
       "    </tr>\n",
       "    <tr>\n",
       "      <th>3</th>\n",
       "      <td>86.72</td>\n",
       "      <td>314.0</td>\n",
       "      <td>399.0</td>\n",
       "      <td>0.0</td>\n",
       "      <td>310.01</td>\n",
       "      <td>86.74</td>\n",
       "      <td>1.0</td>\n",
       "      <td>17.0</td>\n",
       "      <td>58.0</td>\n",
       "      <td>13.0</td>\n",
       "      <td>...</td>\n",
       "      <td>C:\\MED-PC\\Data\\2024-02-15_13h38m_Subject RCE3_...</td>\n",
       "      <td>02/15/24</td>\n",
       "      <td>02/15/24</td>\n",
       "      <td>RCE3_1</td>\n",
       "      <td></td>\n",
       "      <td></td>\n",
       "      <td>1</td>\n",
       "      <td>13:38:32</td>\n",
       "      <td>14:54:07</td>\n",
       "      <td>CD1_reward_training</td>\n",
       "    </tr>\n",
       "    <tr>\n",
       "      <th>4</th>\n",
       "      <td>86.83</td>\n",
       "      <td>389.0</td>\n",
       "      <td>399.0</td>\n",
       "      <td>0.0</td>\n",
       "      <td>385.01</td>\n",
       "      <td>86.86</td>\n",
       "      <td>1.0</td>\n",
       "      <td>32.0</td>\n",
       "      <td>59.0</td>\n",
       "      <td>13.0</td>\n",
       "      <td>...</td>\n",
       "      <td>C:\\MED-PC\\Data\\2024-02-15_13h38m_Subject RCE3_...</td>\n",
       "      <td>02/15/24</td>\n",
       "      <td>02/15/24</td>\n",
       "      <td>RCE3_1</td>\n",
       "      <td></td>\n",
       "      <td></td>\n",
       "      <td>1</td>\n",
       "      <td>13:38:32</td>\n",
       "      <td>14:54:07</td>\n",
       "      <td>CD1_reward_training</td>\n",
       "    </tr>\n",
       "  </tbody>\n",
       "</table>\n",
       "<p>5 rows × 27 columns</p>\n",
       "</div>"
      ],
      "text/plain": [
       "   (P)Portentry  (Q)USdelivery  (R)UStime  (W)ITIvalues  (S)CSpresentation  \\\n",
       "0         85.25           64.0      399.0           0.0              60.01   \n",
       "1         86.29          144.0      399.0           0.0             140.01   \n",
       "2         86.63          234.0      399.0           0.0             230.01   \n",
       "3         86.72          314.0      399.0           0.0             310.01   \n",
       "4         86.83          389.0      399.0           0.0             385.01   \n",
       "\n",
       "   (N)Portexit  (K)CStype  (G)controlled_stimulus_secondscomputer  \\\n",
       "0        86.12        1.0                                     7.0   \n",
       "1        86.40        1.0                                    27.0   \n",
       "2        86.65        1.0                                    57.0   \n",
       "3        86.74        1.0                                    17.0   \n",
       "4        86.86        1.0                                    32.0   \n",
       "\n",
       "   (H)controlled_stimulus_minutescomputer  \\\n",
       "0                                    54.0   \n",
       "1                                    55.0   \n",
       "2                                    56.0   \n",
       "3                                    58.0   \n",
       "4                                    59.0   \n",
       "\n",
       "   (I)controlled_stimulus_hourscomputer  ...  \\\n",
       "0                                  13.0  ...   \n",
       "1                                  13.0  ...   \n",
       "2                                  13.0  ...   \n",
       "3                                  13.0  ...   \n",
       "4                                  13.0  ...   \n",
       "\n",
       "                                                File  Start Date  End Date  \\\n",
       "0  C:\\MED-PC\\Data\\2024-02-15_13h38m_Subject RCE3_...    02/15/24  02/15/24   \n",
       "1  C:\\MED-PC\\Data\\2024-02-15_13h38m_Subject RCE3_...    02/15/24  02/15/24   \n",
       "2  C:\\MED-PC\\Data\\2024-02-15_13h38m_Subject RCE3_...    02/15/24  02/15/24   \n",
       "3  C:\\MED-PC\\Data\\2024-02-15_13h38m_Subject RCE3_...    02/15/24  02/15/24   \n",
       "4  C:\\MED-PC\\Data\\2024-02-15_13h38m_Subject RCE3_...    02/15/24  02/15/24   \n",
       "\n",
       "  Subject Experiment Group Box Start Time  End Time                  MSN  \n",
       "0  RCE3_1                    1   13:38:32  14:54:07  CD1_reward_training  \n",
       "1  RCE3_1                    1   13:38:32  14:54:07  CD1_reward_training  \n",
       "2  RCE3_1                    1   13:38:32  14:54:07  CD1_reward_training  \n",
       "3  RCE3_1                    1   13:38:32  14:54:07  CD1_reward_training  \n",
       "4  RCE3_1                    1   13:38:32  14:54:07  CD1_reward_training  \n",
       "\n",
       "[5 rows x 27 columns]"
      ]
     },
     "execution_count": 26,
     "metadata": {},
     "output_type": "execute_result"
    }
   ],
   "source": [
    "recording_and_metadata_df.head()"
   ]
  },
  {
   "cell_type": "markdown",
   "id": "21801f5b",
   "metadata": {},
   "source": [
    "## Getting the cage numbers and the dates so that we can include it in the file name"
   ]
  },
  {
   "cell_type": "markdown",
   "id": "fb7824da",
   "metadata": {},
   "source": [
    "- We will get the metadata from the recording files and use it to name the files we will create. This will help organize the files and make it easy to know where each file came from "
   ]
  },
  {
   "cell_type": "markdown",
   "id": "c61465d5",
   "metadata": {},
   "source": [
    "- Getting the group numbers(original cage names)"
   ]
  },
  {
   "cell_type": "code",
   "execution_count": 27,
   "id": "9247d864",
   "metadata": {},
   "outputs": [],
   "source": [
    "# removing blank spaces\n",
    "group_numbers = [\"_\".join(number.split()) for number in recording_and_metadata_df[\"Group\"].unique() if number]\n",
    "# sorting numbers\n",
    "group_numbers = sorted(group_numbers)\n",
    "group_numbers_for_title = \"_\".join(group_numbers)"
   ]
  },
  {
   "cell_type": "code",
   "execution_count": 28,
   "id": "d31a3fe2",
   "metadata": {
    "scrolled": true
   },
   "outputs": [
    {
     "data": {
      "text/plain": [
       "'cage3_cage4'"
      ]
     },
     "execution_count": 28,
     "metadata": {},
     "output_type": "execute_result"
    }
   ],
   "source": [
    "group_numbers_for_title"
   ]
  },
  {
   "cell_type": "markdown",
   "id": "0a04a431",
   "metadata": {},
   "source": [
    "- Getting the dates"
   ]
  },
  {
   "cell_type": "code",
   "execution_count": 29,
   "id": "25a3de9f",
   "metadata": {},
   "outputs": [],
   "source": [
    "# Getting the first and last recording date to get a range\n",
    "earliest_date = recording_and_metadata_df[\"date\"].min()\n",
    "latest_date = recording_and_metadata_df[\"date\"].max()"
   ]
  },
  {
   "cell_type": "code",
   "execution_count": 30,
   "id": "0bb7ca79",
   "metadata": {},
   "outputs": [
    {
     "data": {
      "text/plain": [
       "'20240215'"
      ]
     },
     "execution_count": 30,
     "metadata": {},
     "output_type": "execute_result"
    }
   ],
   "source": [
    "earliest_date"
   ]
  },
  {
   "cell_type": "code",
   "execution_count": 31,
   "id": "1bb95ad7",
   "metadata": {},
   "outputs": [
    {
     "data": {
      "text/plain": [
       "'20240305'"
      ]
     },
     "execution_count": 31,
     "metadata": {},
     "output_type": "execute_result"
    }
   ],
   "source": [
    "latest_date"
   ]
  },
  {
   "cell_type": "markdown",
   "id": "536bf2d3",
   "metadata": {},
   "source": [
    "- Getting the subject names"
   ]
  },
  {
   "cell_type": "code",
   "execution_count": 32,
   "id": "86fa047c",
   "metadata": {},
   "outputs": [
    {
     "data": {
      "text/plain": [
       "array(['RCE3_1', 'RCE3_3', 'RCE3_4', 'RCE4_2', 'RCE4_3', 'RCE4_4',\n",
       "       'RCE5_2', 'RCE5_3', 'RCE5_4'], dtype=object)"
      ]
     },
     "execution_count": 32,
     "metadata": {},
     "output_type": "execute_result"
    }
   ],
   "source": [
    "recording_and_metadata_df[\"Subject\"].unique()"
   ]
  },
  {
   "cell_type": "code",
   "execution_count": 33,
   "id": "b71f8d49",
   "metadata": {},
   "outputs": [],
   "source": [
    "# removing blank spaces\n",
    "subject_numbers = [number for number in recording_and_metadata_df[\"Subject\"].unique() if number]\n",
    "# sorting numbers\n",
    "subject_numbers = sorted(subject_numbers)\n",
    "subject_numbers_for_title = \"subj_{}\".format(\"_\".join(subject_numbers))"
   ]
  },
  {
   "cell_type": "code",
   "execution_count": 34,
   "id": "31dc9ec6",
   "metadata": {},
   "outputs": [
    {
     "data": {
      "text/plain": [
       "'subj_RCE3_1_RCE3_3_RCE3_4_RCE4_2_RCE4_3_RCE4_4_RCE5_2_RCE5_3_RCE5_4'"
      ]
     },
     "execution_count": 34,
     "metadata": {},
     "output_type": "execute_result"
    }
   ],
   "source": [
    "subject_numbers_for_title"
   ]
  },
  {
   "cell_type": "markdown",
   "id": "49c8e80f",
   "metadata": {},
   "source": [
    "- Getting the experiment name"
   ]
  },
  {
   "cell_type": "code",
   "execution_count": 35,
   "id": "794d3dab",
   "metadata": {},
   "outputs": [],
   "source": [
    "experiment_names = [\"_\".join(name.split()) for name in recording_and_metadata_df[\"Experiment\"].unique() if name]\n",
    "# sorting experiment_names\n",
    "experiment_names = sorted(experiment_names)\n",
    "experiment_names_for_title = \"AND\".join(experiment_names)"
   ]
  },
  {
   "cell_type": "code",
   "execution_count": 36,
   "id": "cce611c3",
   "metadata": {},
   "outputs": [
    {
     "data": {
      "text/plain": [
       "'CD1_RewardTrainig_CageRCE4ANDCD1_RewardTraining_Cage3_CageRCE3_Day2ANDCD1_RewardTraining_Cage3_CageRCE3_Day4ANDCD1_RewardTraining_Cage4_CageRCE4_Day4ANDCD1_RewardTraining_CageRCE4_Day5ANDCD1_RewardTraining_Day2ANDCD1_RewardTraining_Day3_CageRCE3_CageRCE4ANDCD1_RewardTraining_Day4ANDCD1_RewardTraining_Day5ANDCD1_RewardTraining_Day7ANDCD1_RewardTraining_Day8ANDCD1_RewardTraining_Day9ANDCD1_Reward_Training_Day_3ANDCDA_RewardTraining_CAGE4and5_Day7ANDCDA_RewardTraining_CAGE5_Day7ANDRCEANDrce'"
      ]
     },
     "execution_count": 36,
     "metadata": {},
     "output_type": "execute_result"
    }
   ],
   "source": [
    "experiment_names_for_title"
   ]
  },
  {
   "cell_type": "markdown",
   "id": "caf67d05",
   "metadata": {},
   "source": [
    "- Getting the box numbers"
   ]
  },
  {
   "cell_type": "code",
   "execution_count": 37,
   "id": "9a4f34e1",
   "metadata": {},
   "outputs": [],
   "source": [
    "# removing blank spaces\n",
    "box_numbers = [\"_\".join(number.split()) for number in recording_and_metadata_df[\"Box\"].unique() if number]\n",
    "# sorting numbers\n",
    "box_numbers = sorted(box_numbers)\n",
    "box_numbers_for_title = \"_\".join(box_numbers)"
   ]
  },
  {
   "cell_type": "code",
   "execution_count": 38,
   "id": "11c1e052",
   "metadata": {
    "scrolled": true
   },
   "outputs": [
    {
     "data": {
      "text/plain": [
       "'1_2_3_4_5_6_7_8'"
      ]
     },
     "execution_count": 38,
     "metadata": {},
     "output_type": "execute_result"
    }
   ],
   "source": [
    "box_numbers_for_title"
   ]
  },
  {
   "cell_type": "markdown",
   "id": "a6d60334",
   "metadata": {},
   "source": [
    "- Getting the script names"
   ]
  },
  {
   "cell_type": "code",
   "execution_count": 39,
   "id": "ca537218",
   "metadata": {},
   "outputs": [],
   "source": [
    "# removing blank spaces\n",
    "script_names = [\"_\".join(name.split()) for name in recording_and_metadata_df[\"MSN\"].unique() if name]\n",
    "# sorting names\n",
    "script_names = sorted(script_names)\n",
    "script_names_for_title = \"_\".join(script_names)"
   ]
  },
  {
   "cell_type": "code",
   "execution_count": 40,
   "id": "e4d0d93f",
   "metadata": {
    "scrolled": true
   },
   "outputs": [
    {
     "data": {
      "text/plain": [
       "'CD1_reward_training'"
      ]
     },
     "execution_count": 40,
     "metadata": {},
     "output_type": "execute_result"
    }
   ],
   "source": [
    "script_names_for_title"
   ]
  },
  {
   "cell_type": "markdown",
   "id": "631a7b61",
   "metadata": {},
   "source": [
    "## Saving the dataframes(spreadsheets to files) with the metadata as part of the name"
   ]
  },
  {
   "cell_type": "markdown",
   "id": "4d0ee9b9",
   "metadata": {},
   "source": [
    "- Making necessary directories\n",
    "    - If you want to use any of the other metadata as part of the name, you will have to swap out the variables in the `format()` and change the name of the folder to match your new name. The variable names are the word that's in front of the `=` at the last line of each cell. The `{}` are where the metadata variables will be inserted into the file name. For more information on formatting strings: https://www.w3schools.com/python/ref_string_format.asp\n",
    "    - You can also just manually rename the files by replacing everything in `\"\"` and removing the `.format()` part\n",
    "- **NOTE: You may get an error that the file does not exist. If this is the case, it could be the file name is too long(an issue that may happen when using Jupyter Notebooks on Windows)**"
   ]
  },
  {
   "cell_type": "code",
   "execution_count": 41,
   "id": "c2cd9448",
   "metadata": {},
   "outputs": [],
   "source": [
    "FILE_PREFIX = \"rce_training\""
   ]
  },
  {
   "cell_type": "code",
   "execution_count": 42,
   "id": "4dced6c1",
   "metadata": {},
   "outputs": [],
   "source": [
    "output_directory = \"./proc/extracted_recording_data_and_metadata/{}_{}_{}\".format(FILE_PREFIX, earliest_date, latest_date)"
   ]
  },
  {
   "cell_type": "code",
   "execution_count": 43,
   "id": "c26466e3",
   "metadata": {},
   "outputs": [
    {
     "data": {
      "text/plain": [
       "'./proc/extracted_recording_data_and_metadata/rce_training_20240215_20240305'"
      ]
     },
     "execution_count": 43,
     "metadata": {},
     "output_type": "execute_result"
    }
   ],
   "source": [
    "output_directory"
   ]
  },
  {
   "cell_type": "code",
   "execution_count": 44,
   "id": "6a5db606",
   "metadata": {},
   "outputs": [],
   "source": [
    "os.makedirs(output_directory, exist_ok=True)"
   ]
  },
  {
   "cell_type": "code",
   "execution_count": 45,
   "id": "8a56980a",
   "metadata": {},
   "outputs": [],
   "source": [
    "metadata_df.to_csv(os.path.join(output_directory, \"metadata_{}_{}_{}.csv\".format(FILE_PREFIX, earliest_date, latest_date)))\n",
    "# metadata_df.to_excel(os.path.join(output_directory, \"metadata_cage_{}_date_{}_{}.xlsx\".format(cage_numbers_for_title, earliest_date, latest_date)))"
   ]
  },
  {
   "cell_type": "code",
   "execution_count": 46,
   "id": "aa534438",
   "metadata": {},
   "outputs": [],
   "source": [
    "concatted_medpc_df.to_csv(os.path.join(output_directory, \"MEDPC_recording_metadata_{}_{}_{}.csv\".format(FILE_PREFIX, earliest_date, latest_date)))\n",
    "# concatted_medpc_df.to_excel(os.path.join(output_directory, \"MEDPC_recording_cage_{}_date_{}_{}.xlsx\".format(cage_numbers_for_title, earliest_date, latest_date)))"
   ]
  },
  {
   "cell_type": "code",
   "execution_count": 47,
   "id": "4a449324",
   "metadata": {},
   "outputs": [],
   "source": [
    "recording_and_metadata_df.to_csv(os.path.join(output_directory, \"recording_metadata_{}_{}_{}.csv\".format(FILE_PREFIX, earliest_date, latest_date)))\n",
    "# recording_and_metadata_df.to_excel(os.path.join(output_directory, \"recording_and_metadata_cage_{}_date_{}_{}.xlsx\".format(cage_numbers_for_title, earliest_date, latest_date)))"
   ]
  },
  {
   "cell_type": "code",
   "execution_count": null,
   "id": "826c691b",
   "metadata": {},
   "outputs": [],
   "source": []
  },
  {
   "cell_type": "code",
   "execution_count": null,
   "id": "68803b6d",
   "metadata": {},
   "outputs": [],
   "source": []
  },
  {
   "cell_type": "code",
   "execution_count": null,
   "id": "d6fa07ba",
   "metadata": {},
   "outputs": [],
   "source": []
  },
  {
   "cell_type": "code",
   "execution_count": null,
   "id": "c6c68a77",
   "metadata": {},
   "outputs": [],
   "source": []
  }
 ],
 "metadata": {
  "kernelspec": {
   "display_name": "Python 3 (ipykernel)",
   "language": "python",
   "name": "python3"
  },
  "language_info": {
   "codemirror_mode": {
    "name": "ipython",
    "version": 3
   },
   "file_extension": ".py",
   "mimetype": "text/x-python",
   "name": "python",
   "nbconvert_exporter": "python",
   "pygments_lexer": "ipython3",
   "version": "3.9.19"
  }
 },
 "nbformat": 4,
 "nbformat_minor": 5
}
