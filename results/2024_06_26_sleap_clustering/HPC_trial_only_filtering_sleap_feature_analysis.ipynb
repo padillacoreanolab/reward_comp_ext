{
 "cells": [
  {
   "cell_type": "markdown",
   "metadata": {
    "cell_id": "c3a02adc9e884466bc8c79db549cc3d2",
    "deepnote_cell_type": "text-cell-h1",
    "formattedRanges": [
     {
      "fromCodePoint": 0,
      "marks": {
       "bold": true,
       "underline": true
      },
      "toCodePoint": 17,
      "type": "marks"
     }
    ]
   },
   "source": [
    "# SLEAP Distance Calculation"
   ]
  },
  {
   "cell_type": "markdown",
   "metadata": {
    "cell_id": "4546bee655b14a5dbf393161f1228e60",
    "deepnote_cell_type": "text-cell-p",
    "formattedRanges": []
   },
   "source": [
    "Brief 1-2 sentence description of notebook."
   ]
  },
  {
   "cell_type": "code",
   "execution_count": 1,
   "metadata": {
    "tags": []
   },
   "outputs": [],
   "source": [
    "#calling it a second time may prevent some graphics errors\n",
    "import matplotlib.pyplot as plt"
   ]
  },
  {
   "cell_type": "code",
   "execution_count": 2,
   "metadata": {
    "tags": []
   },
   "outputs": [],
   "source": [
    "import os\n",
    "import glob\n",
    "import git\n",
    "import sys\n"
   ]
  },
  {
   "cell_type": "code",
   "execution_count": 3,
   "metadata": {
    "cell_id": "03b495cefa6a4798a44c7f2e4c6a3ea7",
    "deepnote_cell_type": "code",
    "deepnote_to_be_reexecuted": false,
    "execution_millis": 21,
    "execution_start": 1691424003626,
    "source_hash": null,
    "tags": []
   },
   "outputs": [],
   "source": [
    "# Imports of all used packages and libraries\n",
    "import numpy as np\n",
    "import pandas as pd\n",
    "# import seaborn as sns\n",
    "import matplotlib as mpl\n",
    "# import matplotlib.pyplot as plt\n",
    "import h5py\n",
    "from scipy.interpolate import interp1d\n",
    "from scipy.signal import savgol_filter\n"
   ]
  },
  {
   "cell_type": "code",
   "execution_count": 4,
   "metadata": {
    "tags": []
   },
   "outputs": [
    {
     "name": "stderr",
     "output_type": "stream",
     "text": [
      "/blue/npadillacoreano/ryoi360/conda/sleap_1_3_3/lib/python3.7/site-packages/tqdm/auto.py:21: TqdmWarning: IProgress not found. Please update jupyter and ipywidgets. See https://ipywidgets.readthedocs.io/en/stable/user_install.html\n",
      "  from .autonotebook import tqdm as notebook_tqdm\n",
      "2024-07-16 17:02:17.146834: W tensorflow/stream_executor/platform/default/dso_loader.cc:64] Could not load dynamic library 'libcudart.so.11.0'; dlerror: libcudart.so.11.0: cannot open shared object file: No such file or directory; LD_LIBRARY_PATH: /opt/slurm/lib64:/opt/slurm/lib64:\n",
      "2024-07-16 17:02:17.146860: I tensorflow/stream_executor/cuda/cudart_stub.cc:29] Ignore above cudart dlerror if you do not have a GPU set up on your machine.\n"
     ]
    }
   ],
   "source": [
    "import umap\n",
    "from sklearn.preprocessing import StandardScaler\n",
    "import sklearn.cluster"
   ]
  },
  {
   "cell_type": "code",
   "execution_count": 5,
   "metadata": {
    "tags": []
   },
   "outputs": [],
   "source": [
    "import cv2 \n",
    "import os "
   ]
  },
  {
   "cell_type": "code",
   "execution_count": 6,
   "metadata": {
    "tags": []
   },
   "outputs": [],
   "source": [
    "git_repo = git.Repo(\".\", search_parent_directories=True)\n",
    "git_root = git_repo.git.rev_parse(\"--show-toplevel\")"
   ]
  },
  {
   "cell_type": "code",
   "execution_count": 7,
   "metadata": {
    "tags": []
   },
   "outputs": [
    {
     "data": {
      "text/plain": [
       "'/blue/npadillacoreano/ryoi360/projects/reward_comp/repos/reward_comp_ext'"
      ]
     },
     "execution_count": 7,
     "metadata": {},
     "output_type": "execute_result"
    }
   ],
   "source": [
    "git_root"
   ]
  },
  {
   "cell_type": "code",
   "execution_count": 8,
   "metadata": {
    "tags": []
   },
   "outputs": [],
   "source": [
    "sys.path.insert(0, os.path.join(git_root, 'src'))"
   ]
  },
  {
   "cell_type": "code",
   "execution_count": 9,
   "metadata": {
    "tags": []
   },
   "outputs": [],
   "source": [
    "import utilities.helper\n",
    "import sleap.process_pose"
   ]
  },
  {
   "cell_type": "code",
   "execution_count": 10,
   "metadata": {},
   "outputs": [],
   "source": [
    "from pathlib import Path\n",
    "import imageio\n",
    "# import hdbscan"
   ]
  },
  {
   "cell_type": "code",
   "execution_count": 11,
   "metadata": {},
   "outputs": [],
   "source": [
    "import os \n",
    "import cv2  \n",
    "from PIL import Image  "
   ]
  },
  {
   "cell_type": "code",
   "execution_count": 12,
   "metadata": {
    "tags": []
   },
   "outputs": [],
   "source": [
    "# sns.set('notebook', 'ticks', font_scale=1.2)\n",
    "mpl.rcParams['figure.figsize'] = [15,6]"
   ]
  },
  {
   "cell_type": "markdown",
   "metadata": {},
   "source": [
    "# Feature columns"
   ]
  },
  {
   "cell_type": "code",
   "execution_count": 13,
   "metadata": {},
   "outputs": [],
   "source": [
    "# # based on each subjects individually\n",
    "# features_columns = ['subject_thorax_velocity', 'agent_thorax_velocity',\n",
    "#        'subject_thorax_to_agent_thorax', 'subject_nose_to_reward_port',\n",
    "#        'agent_nose_to_reward_port', 'subject_to_reward_port_angle',\n",
    "#        'agent_to_reward_port_angle']"
   ]
  },
  {
   "cell_type": "code",
   "execution_count": 14,
   "metadata": {},
   "outputs": [],
   "source": [
    "frame_difference = 1"
   ]
  },
  {
   "cell_type": "code",
   "execution_count": 15,
   "metadata": {},
   "outputs": [],
   "source": [
    "smoothing_window = 5"
   ]
  },
  {
   "cell_type": "code",
   "execution_count": 16,
   "metadata": {},
   "outputs": [],
   "source": [
    "features_columns = ['frame_index',\n",
    "                    ## Distance metrics\n",
    "                    'subject_thorax_to_agent_thorax',\n",
    "                    'nose_to_reward_port_sum',\n",
    "                    'nose_to_reward_port_diff',\n",
    "                    ## Velocity and speed metrics\n",
    "                    'thorax_velocity_sum', \n",
    "                    'thorax_velocity_diff',\n",
    "                    ## Orientation and angle\n",
    "                    'to_reward_port_angle_sum',\n",
    "                    'to_reward_port_angle_diff', \n",
    "                    # Individual features\n",
    "                    'subject_nose_to_reward_port',\n",
    "                    'subject_thorax_velocity',\n",
    "                    'subject_to_reward_port_angle',\n",
    "                    'agent_nose_to_reward_port',\n",
    "                    'agent_thorax_velocity',\n",
    "                    'agent_to_reward_port_angle',\n",
    "                    ]"
   ]
  },
  {
   "cell_type": "code",
   "execution_count": 17,
   "metadata": {},
   "outputs": [],
   "source": [
    "features_columns = ['frame_index',\n",
    "                    ## Distance metrics\n",
    "                    'subject_thorax_to_agent_thorax',\n",
    "                    'nose_to_reward_port_sum',\n",
    "                    'nose_to_reward_port_diff',\n",
    "                    ## Velocity and speed metrics\n",
    "                    'thorax_velocity_sum', \n",
    "                    'thorax_velocity_diff',\n",
    "                    ## Orientation and angle\n",
    "                    'to_reward_port_angle_sum',\n",
    "                    'to_reward_port_angle_diff', \n",
    "                    # Individual features\n",
    "                    'subject_nose_to_reward_port',\n",
    "                    'subject_thorax_velocity',\n",
    "                    'subject_to_reward_port_angle',\n",
    "                    'agent_nose_to_reward_port',\n",
    "                    'agent_thorax_velocity',\n",
    "                    'agent_to_reward_port_angle',\n",
    "                    ]"
   ]
  },
  {
   "cell_type": "code",
   "execution_count": 18,
   "metadata": {},
   "outputs": [],
   "source": [
    "# important_features_columns = ['subject_nose_to_reward_port', 'agent_nose_to_reward_port']\n",
    "# important_features_columns = [\"nose_to_reward_port_sum\", \"nose_to_reward_port_diff\", \"subject_thorax_to_agent_thorax\"]\n",
    "important_features_columns =[\n",
    "## Distance metrics\n",
    "                    'subject_thorax_to_agent_thorax',\n",
    "                    'nose_to_reward_port_sum',\n",
    "                    'nose_to_reward_port_diff',\n",
    "                    ## Velocity and speed metrics\n",
    "                    'thorax_velocity_sum', \n",
    "                    'thorax_velocity_diff',\n",
    "                    ## Orientation and angle\n",
    "                    'to_reward_port_angle_sum',\n",
    "                    'to_reward_port_angle_diff',]\n",
    "\n",
    "scaler = 2"
   ]
  },
  {
   "cell_type": "markdown",
   "metadata": {},
   "source": [
    "# Functions"
   ]
  },
  {
   "cell_type": "code",
   "execution_count": 19,
   "metadata": {},
   "outputs": [],
   "source": [
    "from scipy.interpolate import interp1d\n",
    "\n",
    "\n",
    "def nan_helper(y):\n",
    "    \"\"\"Helper to handle indices and logical indices of NaNs.\n",
    "\n",
    "    Input:\n",
    "        - y, 1d numpy array with possible NaNs\n",
    "    Output:\n",
    "        - nans, logical indices of NaNs\n",
    "        - index, a function, with signature indices= index(logical_indices),\n",
    "          to convert logical indices of NaNs to 'equivalent' indices\n",
    "    Example:\n",
    "        >>> # linear interpolation of NaNs\n",
    "        >>> nans, x= nan_helper(y)\n",
    "        >>> y[nans]= np.interp(x(nans), x(~nans), y[~nans])\n",
    "    \"\"\"\n",
    "\n",
    "    return np.isnan(y), lambda z: z.nonzero()[0]"
   ]
  },
  {
   "cell_type": "code",
   "execution_count": 20,
   "metadata": {
    "tags": []
   },
   "outputs": [],
   "source": [
    "def interpolate_nans_in_1d_arr(arr):\n",
    "    \"\"\"\n",
    "    \"\"\"\n",
    "    copy_arr = arr.copy()\n",
    "    nans, x= nan_helper(copy_arr)\n",
    "    copy_arr[nans] = np.interp(x(nans), x(~nans), copy_arr[~nans])\n",
    "    return copy_arr"
   ]
  },
  {
   "cell_type": "code",
   "execution_count": 21,
   "metadata": {},
   "outputs": [],
   "source": [
    "def bools_to_int(row):\n",
    "    # Convert boolean to integer, then to string, and join to form a binary number string\n",
    "    binary_string = ''.join(row.astype(int).astype(str))\n",
    "    # Convert binary string to a decimal integer\n",
    "    return int(binary_string, 2)"
   ]
  },
  {
   "cell_type": "code",
   "execution_count": 22,
   "metadata": {},
   "outputs": [],
   "source": [
    "def calculate_angles_from_arrays(A, B, C, D):\n",
    "    \"\"\"\n",
    "    Calculate the angles between vectors AB and CD for arrays of 2D points.\n",
    "\n",
    "    Parameters:\n",
    "    - A, B, C, D: Each is a 2D numpy array where each row represents a point in 2D space.\n",
    "                  A and B represent points defining the first vector, AB, and C and D represent points defining the second vector, CD.\n",
    "\n",
    "    Returns:\n",
    "    - A numpy array of angles in degrees between the vectors AB and CD for each set of points.\n",
    "    \"\"\"\n",
    "    # Ensure input arrays are numpy arrays\n",
    "    A, B, C, D = map(np.array, [A, B, C, D])\n",
    "\n",
    "    # Calculate vectors AB and CD\n",
    "    AB = B - A\n",
    "    CD = D - C\n",
    "\n",
    "    # Calculate dot products and magnitudes for each pair of vectors\n",
    "    dot_products = np.einsum('ij,ij->i', AB, CD)\n",
    "    norms_AB = np.linalg.norm(AB, axis=1)\n",
    "    norms_CD = np.linalg.norm(CD, axis=1)\n",
    "\n",
    "    # Calculate cosine of the angle using the dot product and magnitudes\n",
    "    cos_angles = dot_products / (norms_AB * norms_CD)\n",
    "    \n",
    "    # Clip values to prevent domain errors due to numerical issues\n",
    "    cos_angles = np.clip(cos_angles, -1.0, 1.0)\n",
    "\n",
    "    # Calculate angles in radians and then convert to degrees\n",
    "    angles_radians = np.arccos(cos_angles)\n",
    "    angles_degrees = np.degrees(angles_radians)\n",
    "\n",
    "    return angles_degrees\n"
   ]
  },
  {
   "cell_type": "code",
   "execution_count": 23,
   "metadata": {
    "tags": []
   },
   "outputs": [],
   "source": [
    "def extract_frames(video_path, frame_numbers, output_folder, max_width=640):\n",
    "    \"\"\"\n",
    "    Extracts frames from a video at specific frame numbers and saves them as images.\n",
    "\n",
    "    Parameters:\n",
    "        video_path (str): Path to the video file.\n",
    "        frame_numbers (list): List of frame numbers to extract.\n",
    "        output_folder (str): Directory to save the frames.\n",
    "        max_width (int): Maximum width of the frames. Height is adjusted proportionally.\n",
    "    \"\"\"\n",
    "    if not os.path.exists(output_folder):\n",
    "        os.makedirs(output_folder)\n",
    "\n",
    "    cap = cv2.VideoCapture(video_path)\n",
    "    if not cap.isOpened():\n",
    "        print(\"Error: Could not open video.\")\n",
    "        return []\n",
    "\n",
    "    frame_paths = []\n",
    "    frame_numbers = [int(num) for num in frame_numbers]\n",
    "    frame_ids = set(frame_numbers)\n",
    "    current_frame = 0\n",
    "\n",
    "    while True:\n",
    "        ret, frame = cap.read()\n",
    "        if not ret:\n",
    "            break\n",
    "\n",
    "        if current_frame in frame_ids:\n",
    "            # Resize frame if necessary\n",
    "            height, width = frame.shape[:2]\n",
    "            if width > max_width:\n",
    "                scaling_factor = max_width / float(width)\n",
    "                new_dimensions = (max_width, int(height * scaling_factor))\n",
    "                frame = cv2.resize(frame, new_dimensions, interpolation=cv2.INTER_AREA)\n",
    "            \n",
    "            frame_path = os.path.join(output_folder, \"frame_{:05d}.png\".format(current_frame))\n",
    "            cv2.imwrite(frame_path, frame)\n",
    "            frame_paths.append(frame_path)\n",
    "            # print(f\"Extracted frame {current_frame}\")\n",
    "        \n",
    "        current_frame += 1\n",
    "    \n",
    "    cap.release()\n",
    "    return frame_paths"
   ]
  },
  {
   "cell_type": "code",
   "execution_count": 24,
   "metadata": {},
   "outputs": [],
   "source": [
    "def make_video(frame_paths, output_folder, video_name=\"output.avi\", fps=15):\n",
    "    \"\"\"\n",
    "    Creates a video from a list of image frames.\n",
    "\n",
    "    Parameters:\n",
    "        frame_paths (list): List of paths to the frame images.\n",
    "        output_folder (str): Directory to save the video.\n",
    "        video_name (str): Filename for the video.\n",
    "        fps (int): Frames per second for the video.\n",
    "    \"\"\"\n",
    "    if not frame_paths:\n",
    "        print(\"No frames to make a video.\")\n",
    "        return\n",
    "\n",
    "    frame = cv2.imread(frame_paths[0])\n",
    "    height, width, layers = frame.shape\n",
    "\n",
    "    video_path = os.path.join(output_folder, video_name)\n",
    "    video = cv2.VideoWriter(video_path, cv2.VideoWriter_fourcc(*'DIVX'), fps, (width, height))\n",
    "\n",
    "    for frame_path in frame_paths:\n",
    "        video.write(cv2.imread(frame_path))\n",
    "\n",
    "    video.release()\n",
    "    print(f\"Video saved to {video_path}\")"
   ]
  },
  {
   "cell_type": "code",
   "execution_count": 25,
   "metadata": {},
   "outputs": [],
   "source": [
    "def extract_frames_and_make_video(video_path, frame_numbers, output_folder, video_name=\"output.gif\", fps=25, max_width=640):\n",
    "    \"\"\"\n",
    "    Extracts frames from a video at specific frame numbers, resizes them, and creates a GIF from those frames.\n",
    "\n",
    "    Parameters:\n",
    "        video_path (str): Path to the video file.\n",
    "        frame_numbers (list): List of frame numbers to extract.\n",
    "        output_folder (str): Directory to save the frames and GIF.\n",
    "        gif_name (str): Filename for the GIF.\n",
    "        fps (int): Frames per second for the GIF.\n",
    "        max_width (int): Maximum width of the frames in the GIF. Height is adjusted proportionally.\n",
    "    \"\"\"\n",
    "    # Create output folder if it doesn't exist\n",
    "    if not os.path.exists(output_folder):\n",
    "        os.makedirs(output_folder)\n",
    "    \n",
    "    # Initialize video capture\n",
    "    cap = cv2.VideoCapture(video_path)\n",
    "    if not cap.isOpened():\n",
    "        print(\"Error: Could not open video.\")\n",
    "        return\n",
    "\n",
    "    # Prepare to extract frames\n",
    "    frames = []\n",
    "    frame_ids = set(frame_numbers)  # Convert list to set for faster lookup\n",
    "    current_frame = 0\n",
    "\n",
    "    while True:\n",
    "        ret, frame = cap.read()\n",
    "        if not ret:\n",
    "            break\n",
    "        \n",
    "        if current_frame in frame_ids:\n",
    "            # Resize frame to reduce GIF size\n",
    "            height, width = frame.shape[:2]\n",
    "            scaling_factor = max_width / float(width)\n",
    "            if width > max_width:  # Only resize if the image is wider than the max width\n",
    "                new_dim = (max_width, int(height * scaling_factor))\n",
    "                frame = cv2.resize(frame, new_dim, interpolation=cv2.INTER_AREA)\n",
    "            \n",
    "            frame_path = os.path.join(output_folder, f\"frame_{current_frame}.png\")\n",
    "            cv2.imwrite(frame_path, frame)\n",
    "            frames.append(frame_path)\n",
    "            print(f\"Extracted frame {current_frame}\")\n",
    "        \n",
    "        current_frame += 1\n",
    "    \n",
    "    # Close video file\n",
    "    cap.release()\n",
    "\n",
    "    frame = cv2.imread(frames[0]) \n",
    "  \n",
    "    # setting the frame width, height width \n",
    "    # the width, height of first image \n",
    "    height, width, layers = frame.shape   \n",
    "  \n",
    "    video = cv2.VideoWriter(os.path.join(output_folder, video_name), 0, fps, (width, height))  \n",
    "  \n",
    "    # Appending the images to the video one by one \n",
    "    for image in frames:  \n",
    "        video.write(cv2.imread(image))  \n",
    "      \n",
    "    # Deallocating memories taken for window creation \n",
    "    cv2.destroyAllWindows()  \n",
    "    video.release()  # releasing the video generated \n",
    "  "
   ]
  },
  {
   "cell_type": "code",
   "execution_count": 26,
   "metadata": {},
   "outputs": [],
   "source": [
    "def extract_frames_and_make_gif(video_path, frame_numbers, output_folder, gif_name=\"output.gif\", fps=25, max_width=640):\n",
    "    \"\"\"\n",
    "    Extracts frames from a video at specific frame numbers, resizes them, and creates a GIF from those frames.\n",
    "\n",
    "    Parameters:\n",
    "        video_path (str): Path to the video file.\n",
    "        frame_numbers (list): List of frame numbers to extract.\n",
    "        output_folder (str): Directory to save the frames and GIF.\n",
    "        gif_name (str): Filename for the GIF.\n",
    "        fps (int): Frames per second for the GIF.\n",
    "        max_width (int): Maximum width of the frames in the GIF. Height is adjusted proportionally.\n",
    "    \"\"\"\n",
    "    # Create output folder if it doesn't exist\n",
    "    if not os.path.exists(output_folder):\n",
    "        os.makedirs(output_folder)\n",
    "    \n",
    "    # Initialize video capture\n",
    "    cap = cv2.VideoCapture(video_path)\n",
    "    if not cap.isOpened():\n",
    "        print(\"Error: Could not open video.\")\n",
    "        return\n",
    "\n",
    "    # Prepare to extract frames\n",
    "    frames = []\n",
    "    frame_ids = set(frame_numbers)  # Convert list to set for faster lookup\n",
    "    current_frame = 0\n",
    "\n",
    "    while True:\n",
    "        ret, frame = cap.read()\n",
    "        if not ret:\n",
    "            break\n",
    "        \n",
    "        if current_frame in frame_ids:\n",
    "            # Resize frame to reduce GIF size\n",
    "            height, width = frame.shape[:2]\n",
    "            scaling_factor = max_width / float(width)\n",
    "            if width > max_width:  # Only resize if the image is wider than the max width\n",
    "                new_dim = (max_width, int(height * scaling_factor))\n",
    "                frame = cv2.resize(frame, new_dim, interpolation=cv2.INTER_AREA)\n",
    "            \n",
    "            frame_path = os.path.join(output_folder, f\"frame_{current_frame}.png\")\n",
    "            cv2.imwrite(frame_path, frame)\n",
    "            frames.append(frame_path)\n",
    "            print(f\"Extracted frame {current_frame}\")\n",
    "        \n",
    "        current_frame += 1\n",
    "    \n",
    "    # Close video file\n",
    "    cap.release()\n",
    "\n",
    "    # Create GIF\n",
    "    if frames:\n",
    "        with imageio.get_writer(os.path.join(output_folder, gif_name), mode='I', fps=fps) as writer:\n",
    "            for filename in frames:\n",
    "                image = imageio.imread(filename)\n",
    "                writer.append_data(image)\n",
    "        print(f\"GIF created at {os.path.join(output_folder, gif_name)}\")\n",
    "    else:\n",
    "        print(\"No frames extracted, GIF not created.\")"
   ]
  },
  {
   "cell_type": "code",
   "execution_count": 27,
   "metadata": {
    "tags": []
   },
   "outputs": [],
   "source": [
    "def compute_velocity(node_loc, window_size=25, polynomial_order=3):\n",
    "    \"\"\"\n",
    "    Calculate the velocity of tracked nodes from pose data.\n",
    "    \n",
    "    The function utilizes the Savitzky-Golay filter to smooth the data and compute the velocity.\n",
    "    \n",
    "    Parameters:\n",
    "    ----------\n",
    "    node_loc : numpy.ndarray\n",
    "        The location of nodes, represented as an array of shape [frames, 2]. \n",
    "        Each row represents x and y coordinates for a particular frame.\n",
    "        \n",
    "    window_size : int, optional\n",
    "        The size of the window used for the Savitzky-Golay filter. \n",
    "        Represents the number of consecutive data points used when smoothing the data.\n",
    "        Default is 25.\n",
    "        \n",
    "    polynomial_order : int, optional\n",
    "        The order of the polynomial fit to the data within the Savitzky-Golay filter window.\n",
    "        Default is 3.\n",
    "\n",
    "    Returns:\n",
    "    -------\n",
    "    numpy.ndarray\n",
    "        The velocity for each frame, calculated from the smoothed x and y coordinates.\n",
    "    \n",
    "    \"\"\"\n",
    "    node_loc_vel = np.zeros_like(node_loc)\n",
    "    \n",
    "    # For each coordinate (x and y), smooth the data and calculate the derivative (velocity)\n",
    "    for c in range(node_loc.shape[-1]):\n",
    "        node_loc_vel[:, c] = savgol_filter(node_loc[:, c], window_size, polynomial_order, deriv=1)\n",
    "    \n",
    "    # Calculate the magnitude of the velocity vectors for each frame\n",
    "    node_vel = np.linalg.norm(node_loc_vel, axis=1)\n",
    "\n",
    "    return node_vel"
   ]
  },
  {
   "cell_type": "code",
   "execution_count": 28,
   "metadata": {},
   "outputs": [],
   "source": [
    "def calculate_speed_from_distances(distances_array, window_size=25, polynomial_order=3):\n",
    "    \"\"\"\n",
    "    Compute the speed of an object moving along a path defined by distances covered over time. \n",
    "    The speed is calculated by smoothing the distances using the Savitzky-Golay filter to find \n",
    "    the rate of change of distance with respect to time (derivative), which represents the speed.\n",
    "\n",
    "    Parameters:\n",
    "    ----------\n",
    "    distances_array : numpy.ndarray\n",
    "        An array containing distances covered over consecutive frames or time intervals. \n",
    "        Each value should represent the distance moved from the previous frame or time interval.\n",
    "        \n",
    "    window_size : int, optional\n",
    "        The length of the filter window, i.e., the number of coefficients. `window_size` must be a positive odd number.\n",
    "        Default is 25.\n",
    "        \n",
    "    polynomial_order : int, optional\n",
    "        The order of the polynomial used to fit the samples. `polynomial_order` must be less than `window_size`.\n",
    "        Default is 3.\n",
    "\n",
    "    Returns:\n",
    "    -------\n",
    "    numpy.ndarray\n",
    "        An array of the smoothed rate of change of distances, representing the speed for each frame or time interval.\n",
    "\n",
    "    Notes:\n",
    "    -----\n",
    "    - The function assumes that the input distances are sequential and represent uniform time intervals.\n",
    "    - The rate of change (speed) is computed using the first derivative with respect to the distance data.\n",
    "    \"\"\"\n",
    "    # Validate input\n",
    "    if polynomial_order >= window_size:\n",
    "        raise ValueError(\"polynomial_order must be less than window_size\")\n",
    "    \n",
    "    # Calculate the rate of change of the distance to get speed, using Savitzky-Golay filter\n",
    "    speed = savgol_filter(distances_array, window_size, polynomial_order, deriv=1)\n",
    "\n",
    "    return speed"
   ]
  },
  {
   "cell_type": "code",
   "execution_count": 29,
   "metadata": {},
   "outputs": [],
   "source": [
    "# def calculate_speed_from_distances(distances, dt):\n",
    "#     \"\"\"\n",
    "#     Calculate the speed from a numpy array of distances measured at regular time intervals.\n",
    "\n",
    "#     Parameters:\n",
    "#         distances (np.array): 1D Numpy array where each element represents a distance measured at a specific time.\n",
    "#         dt (float): Time interval between consecutive distance measurements.\n",
    "\n",
    "#     Returns:\n",
    "#         np.array: Array of speeds calculated as the change in distance divided by the time interval.\n",
    "#     \"\"\"\n",
    "#     # Calculate the change in distance\n",
    "#     delta_distances = np.diff(distances, n=dt)\n",
    "\n",
    "#     # Calculate speeds as change in distance divided by change in time\n",
    "#     speeds = delta_distances / dt\n",
    "\n",
    "#     # Pad the speed array at the beginning with zero to maintain the same length\n",
    "#     speeds = np.concatenate([np.array([speeds[0]]), speeds])\n",
    "\n",
    "#     return speeds"
   ]
  },
  {
   "cell_type": "code",
   "execution_count": 30,
   "metadata": {
    "tags": []
   },
   "outputs": [],
   "source": [
    "def rolling_average(arr, window_size):\n",
    "    \"\"\"\n",
    "    Computes the rolling average using a specified window size.\n",
    "    \n",
    "    Parameters:\n",
    "        arr (numpy.array): The input array to compute the rolling average for.\n",
    "        window_size (int): The size of the rolling window.\n",
    "\n",
    "    Returns:\n",
    "        numpy.array: The rolling average of the input array.\n",
    "    \"\"\"\n",
    "    if window_size < 1:\n",
    "       raise ValueError(\"Window size must be at least 1.\")\n",
    "    \n",
    "    # Create a uniform window of given window size\n",
    "    window = np.ones(window_size) / window_size\n",
    "\n",
    "    # Use numpy's convolve function to compute the rolling average\n",
    "    return np.convolve(arr, window, mode='valid')\n",
    "\n"
   ]
  },
  {
   "cell_type": "code",
   "execution_count": 31,
   "metadata": {
    "tags": []
   },
   "outputs": [],
   "source": [
    "def chunked_average(arr, chunk_size):\n",
    "    \"\"\"\n",
    "    Computes the average for non-overlapping chunks of the input array.\n",
    "    \n",
    "    Parameters:\n",
    "        arr (numpy.array): The input array.\n",
    "        chunk_size (int): The size of each chunk.\n",
    "\n",
    "    Returns:\n",
    "        numpy.array: The averages of the non-overlapping chunks.\n",
    "    \"\"\"\n",
    "\n",
    "    # Number of chunks\n",
    "    num_chunks = len(arr) // chunk_size\n",
    "    \n",
    "    # Reshape the array into a 2D array of shape (num_chunks, chunk_size)\n",
    "    reshaped_arr = arr[:num_chunks * chunk_size].reshape(num_chunks, chunk_size)\n",
    "    \n",
    "    # Compute the mean along the second axis (i.e., for each chunk)\n",
    "    return reshaped_arr.mean(axis=1)"
   ]
  },
  {
   "cell_type": "code",
   "execution_count": 32,
   "metadata": {
    "tags": []
   },
   "outputs": [],
   "source": [
    "def sliding_window_average(arr, window_size, step=1):\n",
    "    \"\"\"\n",
    "    Apply a sliding window to a 1D numpy array, returning the average of windows of a specified size.\n",
    "\n",
    "    :param arr: Input 1D numpy array.\n",
    "    :param window_size: Size of the window.\n",
    "    :param step: The step size or number of elements to slide the window by. Default is 1.\n",
    "    :return: A 1D numpy array where each element is the average of a window from the input.\n",
    "    \"\"\"\n",
    "    # Number of windows\n",
    "    num_windows = ((arr.size - window_size) // step) + 1\n",
    "    \n",
    "    # Output array for averages\n",
    "    averages = np.zeros(num_windows)\n",
    "    \n",
    "    for i in range(num_windows):\n",
    "        # Calculate the start and end index for the window\n",
    "        start = i * step\n",
    "        end = start + window_size\n",
    "        # Calculate the average of the window\n",
    "        averages[i] = np.mean(arr[start:end])\n",
    "\n",
    "    return averages"
   ]
  },
  {
   "cell_type": "code",
   "execution_count": 33,
   "metadata": {
    "tags": []
   },
   "outputs": [],
   "source": [
    "def calculate_all_window_indices(original_index, window_size, step, array_length):\n",
    "    \"\"\"\n",
    "    Calculate all the start and stop indices for sliding windows based on an original start index.\n",
    "\n",
    "    :param original_index: The original index from which the first window should start.\n",
    "    :param window_size: The size of each sliding window.\n",
    "    :param step: The step size or number of elements to slide the window by.\n",
    "    :param array_length: The total number of elements in the array.\n",
    "    :return: A list of tuples, each containing the start and stop indices for a sliding window.\n",
    "    \"\"\"\n",
    "\n",
    "    # Initialize the list to hold the start and stop indices for all windows\n",
    "    windows = []\n",
    "\n",
    "    # Initialize the current start index with the original index\n",
    "    current_start_index = original_index\n",
    "\n",
    "    # Loop through the array until the end is reached\n",
    "    while current_start_index + window_size <= original_index + array_length:\n",
    "        # Calculate the stop index based on the window size\n",
    "        stop_index = current_start_index + window_size\n",
    "\n",
    "        # Add the start and stop indices to the list\n",
    "        windows.append((current_start_index, stop_index))\n",
    "\n",
    "        # Update the current start index by adding the step size\n",
    "        current_start_index += step\n",
    "\n",
    "    return windows"
   ]
  },
  {
   "cell_type": "code",
   "execution_count": 34,
   "metadata": {},
   "outputs": [
    {
     "name": "stdout",
     "output_type": "stream",
     "text": [
      "Angle in radians: 0.7853981633974483\n",
      "Angle in degrees: 45.0\n"
     ]
    }
   ],
   "source": [
    "def calculate_angle(ax, ay, bx, by, cx, cy):\n",
    "    \"\"\"\n",
    "    Calculate the smallest angle between the vectors BA and BC with all points given in Cartesian coordinates.\n",
    "\n",
    "    Parameters:\n",
    "        ax, ay (float): Coordinates of point A.\n",
    "        bx, by (float): Coordinates of point B, the vertex of the angle.\n",
    "        cx, cy (float): Coordinates of point C.\n",
    "\n",
    "    Returns:\n",
    "        float: The smallest angle between vectors BA and BC, in radians, within the range [0, pi].\n",
    "    \"\"\"\n",
    "    # Calculate the angles of vectors BA and BC relative to the positive x-axis\n",
    "    ang_ba = np.arctan2(ay - by, ax - bx)\n",
    "    ang_bc = np.arctan2(cy - by, cx - bx)\n",
    "\n",
    "    # Compute the difference of angles\n",
    "    ang = ang_bc - ang_ba\n",
    "\n",
    "    # Normalize the angle to the range [0, 2*pi)\n",
    "    ang = (ang + 2 * np.pi) % (2 * np.pi)\n",
    "\n",
    "    # Ensure the angle is within [0, pi]\n",
    "    if ang > np.pi:\n",
    "        ang = 2 * np.pi - ang\n",
    "\n",
    "    return ang\n",
    "\n",
    "# Example usage:\n",
    "ax, ay = 0, 1  # Coordinates for point A\n",
    "bx, by = 0, 0  # Coordinates for point B (origin)\n",
    "cx, cy = -0.5, 0.5  # Coordinates for point C\n",
    "\n",
    "angle = calculate_angle(ax, ay, bx, by, cx, cy)\n",
    "print(\"Angle in radians:\", angle)\n",
    "print(\"Angle in degrees:\", np.degrees(angle))"
   ]
  },
  {
   "cell_type": "code",
   "execution_count": 35,
   "metadata": {},
   "outputs": [],
   "source": [
    "def calculate_time_series_angles(A, B, C):\n",
    "    \"\"\"\n",
    "    Calculate the smallest angle between vectors BA and BC for arrays of 2D points over time.\n",
    "\n",
    "    Parameters:\n",
    "        A, B, C (np.array): Each is a 2D numpy array of shape (T, 2) where T is the number of time steps.\n",
    "                            Each array holds the x and y coordinates of points A, B, and C over time.\n",
    "\n",
    "    Returns:\n",
    "        np.array: Array of smallest angles between vectors BA and BC, in radians, within the range [0, pi].\n",
    "    \"\"\"\n",
    "    # Extract x and y coordinates\n",
    "    ax, ay = A[:, 0], A[:, 1]\n",
    "    bx, by = B[:, 0], B[:, 1]\n",
    "    cx, cy = C[:, 0], C[:, 1]\n",
    "    \n",
    "    # Calculate the angles of vectors BA and BC relative to the positive x-axis\n",
    "    ang_ba = np.arctan2(ay - by, ax - bx)\n",
    "    ang_bc = np.arctan2(cy - by, cx - bx)\n",
    "    \n",
    "    # Compute the difference of angles\n",
    "    ang = ang_bc - ang_ba\n",
    "    \n",
    "    # Normalize the angle to the range [0, 2*pi)\n",
    "    ang = (ang + 2 * np.pi) % (2 * np.pi)\n",
    "    \n",
    "    # Ensure the angle is within [0, pi]\n",
    "    ang[ang > np.pi] = 2 * np.pi - ang[ang > np.pi]\n",
    "    \n",
    "    return ang"
   ]
  },
  {
   "cell_type": "code",
   "execution_count": 36,
   "metadata": {},
   "outputs": [],
   "source": [
    "# Concatenating and stacking arrays from all columns\n",
    "def concat_arrays(row):\n",
    "    return np.hstack(row)\n",
    "\n"
   ]
  },
  {
   "cell_type": "code",
   "execution_count": 37,
   "metadata": {},
   "outputs": [],
   "source": [
    "def moving_average(a, n=3):\n",
    "    ret = np.cumsum(a, dtype=float)\n",
    "    ret[n:] = ret[n:] - ret[:-n]\n",
    "    return ret[n - 1:] / n"
   ]
  },
  {
   "cell_type": "markdown",
   "metadata": {
    "cell_id": "d290bac2c17940bfbc0f9296beaf70e5",
    "deepnote_cell_type": "text-cell-h2",
    "formattedRanges": []
   },
   "source": [
    "## Inputs & Data"
   ]
  },
  {
   "cell_type": "markdown",
   "metadata": {
    "cell_id": "e528ce19c608425292151930d380f49f",
    "deepnote_cell_type": "text-cell-p",
    "formattedRanges": []
   },
   "source": [
    "Explanation of each input and where it comes from."
   ]
  },
  {
   "cell_type": "code",
   "execution_count": 38,
   "metadata": {
    "cell_id": "6cf83a5811054461a718a71673d09aab",
    "deepnote_cell_type": "code",
    "deepnote_to_be_reexecuted": false,
    "execution_millis": 373,
    "execution_start": 1691424003628,
    "source_hash": null,
    "tags": []
   },
   "outputs": [],
   "source": [
    "# Inputs and Required data loading\n",
    "# input varaible names are in all caps snake case\n",
    "# Whenever an input changes or is used for processing \n",
    "# the vairables are all lower in snake case\n",
    "THORAX_INDEX = 1\n",
    "\n",
    "# LFP_SPECTRAL_DF = pd.read_pickle(\"./proc/rce_pilot_2_03_spectral_bands.pkl\")\n",
    "# LFP_SPECTRAL_DF[\"video_name\"] = LFP_SPECTRAL_DF[\"video_name\"].apply(lambda x: x.strip(\".videoTimeStamps.cameraHWSync\"))\n",
    "\n",
    "# SLEAP_DIR = os.path.join(git_root, \"proc/sleap\") \n",
    "# SLEAP_DIR = \"/scratch/back_up/reward_competition_extention/final_proc/id_corrected\"\n",
    "SLEAP_DIR = \"./data\"\n",
    "\n",
    "OUTPUT_DIR = r\"./proc\" # where data is saved should always be shown in the inputs\n",
    "MED_PC_WIDTH = 29.5\n",
    "MED_PC_HEIGHT = 24\n",
    "FRAME_RATE = 22\n",
    "WINDOW_SIZE = 25\n",
    "DISTANCE_THRESHOLD = 2"
   ]
  },
  {
   "cell_type": "code",
   "execution_count": 39,
   "metadata": {},
   "outputs": [],
   "source": [
    "all_start_stop_files = [\"./data/rce_pilot_2_per_subject_start_stop_video_frame.xlsx\",\n",
    "\"./data/rce_pilot_3_long_comp_per_subject_start_stop_video_frame.xlsx\",\n",
    "\"./data/rce_pilot_3_alone_comp_per_subject_start_stop_video_frame.xlsx\",\n",
    "\"./data/rce_pilot_3_omission_per_subject_start_stop_video_frame.xlsx\"]"
   ]
  },
  {
   "cell_type": "code",
   "execution_count": 40,
   "metadata": {},
   "outputs": [],
   "source": [
    "all_trials_files = [\"./data/rce_pilot_3_omission_per_video_trial_labels.xlsx\",\n",
    "\"./data/rce_pilot_3_long_comp_per_video_trial_labels.xlsx\",\n",
    "\"./data/rce_pilot_3_alone_comp_per_video_trial_labels.xlsx\",\n",
    "\"./data/rce_pilot_2_per_video_trial_labels.xlsx\"]"
   ]
  },
  {
   "cell_type": "code",
   "execution_count": 41,
   "metadata": {
    "tags": []
   },
   "outputs": [],
   "source": [
    "# all_start_stop_files = [\"./data/rce_pilot_3_long_comp_per_subject_start_stop_video_frame.xlsx\"]"
   ]
  },
  {
   "cell_type": "code",
   "execution_count": 42,
   "metadata": {
    "tags": []
   },
   "outputs": [],
   "source": [
    "# all_trials_files = [\"./data/rce_pilot_3_long_comp_per_video_trial_labels.xlsx\"]"
   ]
  },
  {
   "cell_type": "code",
   "execution_count": 43,
   "metadata": {},
   "outputs": [],
   "source": [
    "list_of_start_stop_df = []\n",
    "\n",
    "for file_path in all_start_stop_files:\n",
    "    current_df = pd.read_excel(file_path)\n",
    "    list_of_start_stop_df.append(current_df)\n",
    "\n",
    "START_STOP_FRAME_DF = pd.concat(list_of_start_stop_df)\n"
   ]
  },
  {
   "cell_type": "code",
   "execution_count": 44,
   "metadata": {},
   "outputs": [
    {
     "data": {
      "text/html": [
       "<div>\n",
       "<style scoped>\n",
       "    .dataframe tbody tr th:only-of-type {\n",
       "        vertical-align: middle;\n",
       "    }\n",
       "\n",
       "    .dataframe tbody tr th {\n",
       "        vertical-align: top;\n",
       "    }\n",
       "\n",
       "    .dataframe thead th {\n",
       "        text-align: right;\n",
       "    }\n",
       "</style>\n",
       "<table border=\"1\" class=\"dataframe\">\n",
       "  <thead>\n",
       "    <tr style=\"text-align: right;\">\n",
       "      <th></th>\n",
       "      <th>file_path</th>\n",
       "      <th>start_frame</th>\n",
       "      <th>stop_frame</th>\n",
       "      <th>tracked_subject</th>\n",
       "      <th>in_video_subjects</th>\n",
       "      <th>box_number</th>\n",
       "      <th>notes</th>\n",
       "    </tr>\n",
       "  </thead>\n",
       "  <tbody>\n",
       "    <tr>\n",
       "      <th>0</th>\n",
       "      <td>20221214_125409_om_and_comp_6_1_and_6_3.1.1_su...</td>\n",
       "      <td>1</td>\n",
       "      <td>25000</td>\n",
       "      <td>6.3</td>\n",
       "      <td>6.1_6.3</td>\n",
       "      <td>1</td>\n",
       "      <td>NaN</td>\n",
       "    </tr>\n",
       "    <tr>\n",
       "      <th>1</th>\n",
       "      <td>20221214_125409_om_and_comp_6_1_and_6_3.1.2_su...</td>\n",
       "      <td>27500</td>\n",
       "      <td>73600</td>\n",
       "      <td>6.1_6.3</td>\n",
       "      <td>6.1_6.3</td>\n",
       "      <td>1</td>\n",
       "      <td>NaN</td>\n",
       "    </tr>\n",
       "    <tr>\n",
       "      <th>2</th>\n",
       "      <td>20221215_145401_comp_amd_om_6_1_and_6_3.1.1_su...</td>\n",
       "      <td>51500</td>\n",
       "      <td>76454</td>\n",
       "      <td>6.3</td>\n",
       "      <td>6.1_6.3</td>\n",
       "      <td>1</td>\n",
       "      <td>NaN</td>\n",
       "    </tr>\n",
       "    <tr>\n",
       "      <th>3</th>\n",
       "      <td>20221215_145401_comp_amd_om_6_1_and_6_3.1.2_su...</td>\n",
       "      <td>1</td>\n",
       "      <td>48500</td>\n",
       "      <td>6.1_6.3</td>\n",
       "      <td>6.1_6.3</td>\n",
       "      <td>1</td>\n",
       "      <td>NaN</td>\n",
       "    </tr>\n",
       "    <tr>\n",
       "      <th>4</th>\n",
       "      <td>20230612_112630_standard_comp_to_training_D1_s...</td>\n",
       "      <td>32700</td>\n",
       "      <td>68257</td>\n",
       "      <td>1.2</td>\n",
       "      <td>1.1_1.2</td>\n",
       "      <td>1</td>\n",
       "      <td>NaN</td>\n",
       "    </tr>\n",
       "    <tr>\n",
       "      <th>...</th>\n",
       "      <td>...</td>\n",
       "      <td>...</td>\n",
       "      <td>...</td>\n",
       "      <td>...</td>\n",
       "      <td>...</td>\n",
       "      <td>...</td>\n",
       "      <td>...</td>\n",
       "    </tr>\n",
       "    <tr>\n",
       "      <th>4</th>\n",
       "      <td>20240317_105929_comp_om_subj_5-3_and_5-4.1.fix...</td>\n",
       "      <td>1</td>\n",
       "      <td>31000</td>\n",
       "      <td>5.3_5.4</td>\n",
       "      <td>5.3_5.4</td>\n",
       "      <td>1</td>\n",
       "      <td>NaN</td>\n",
       "    </tr>\n",
       "    <tr>\n",
       "      <th>5</th>\n",
       "      <td>20240318_115841_comp_om_subj_5-2_and_5-3.1.fix...</td>\n",
       "      <td>1</td>\n",
       "      <td>31000</td>\n",
       "      <td>5.2_5.3</td>\n",
       "      <td>5.2_5.3</td>\n",
       "      <td>1</td>\n",
       "      <td>NaN</td>\n",
       "    </tr>\n",
       "    <tr>\n",
       "      <th>6</th>\n",
       "      <td>20240319_111204_comp_om_subj_5-2_and_5-4.1.fix...</td>\n",
       "      <td>1</td>\n",
       "      <td>31000</td>\n",
       "      <td>5.2_5.4</td>\n",
       "      <td>5.2_5.4</td>\n",
       "      <td>1</td>\n",
       "      <td>NaN</td>\n",
       "    </tr>\n",
       "    <tr>\n",
       "      <th>7</th>\n",
       "      <td>20240325_125522_comp_om_subj_3-1_and_3-4.1.fix...</td>\n",
       "      <td>1</td>\n",
       "      <td>30500</td>\n",
       "      <td>3.1_3.4</td>\n",
       "      <td>3.1_3.4</td>\n",
       "      <td>1</td>\n",
       "      <td>NaN</td>\n",
       "    </tr>\n",
       "    <tr>\n",
       "      <th>8</th>\n",
       "      <td>20240325_150329_comp_om_subj_4-2_and_4-4.1.fix...</td>\n",
       "      <td>1</td>\n",
       "      <td>31000</td>\n",
       "      <td>4.2_4.4</td>\n",
       "      <td>4.2_4.4</td>\n",
       "      <td>1</td>\n",
       "      <td>NaN</td>\n",
       "    </tr>\n",
       "  </tbody>\n",
       "</table>\n",
       "<p>73 rows × 7 columns</p>\n",
       "</div>"
      ],
      "text/plain": [
       "                                            file_path  start_frame  \\\n",
       "0   20221214_125409_om_and_comp_6_1_and_6_3.1.1_su...            1   \n",
       "1   20221214_125409_om_and_comp_6_1_and_6_3.1.2_su...        27500   \n",
       "2   20221215_145401_comp_amd_om_6_1_and_6_3.1.1_su...        51500   \n",
       "3   20221215_145401_comp_amd_om_6_1_and_6_3.1.2_su...            1   \n",
       "4   20230612_112630_standard_comp_to_training_D1_s...        32700   \n",
       "..                                                ...          ...   \n",
       "4   20240317_105929_comp_om_subj_5-3_and_5-4.1.fix...            1   \n",
       "5   20240318_115841_comp_om_subj_5-2_and_5-3.1.fix...            1   \n",
       "6   20240319_111204_comp_om_subj_5-2_and_5-4.1.fix...            1   \n",
       "7   20240325_125522_comp_om_subj_3-1_and_3-4.1.fix...            1   \n",
       "8   20240325_150329_comp_om_subj_4-2_and_4-4.1.fix...            1   \n",
       "\n",
       "    stop_frame tracked_subject in_video_subjects  box_number notes  \n",
       "0        25000             6.3           6.1_6.3           1   NaN  \n",
       "1        73600         6.1_6.3           6.1_6.3           1   NaN  \n",
       "2        76454             6.3           6.1_6.3           1   NaN  \n",
       "3        48500         6.1_6.3           6.1_6.3           1   NaN  \n",
       "4        68257             1.2           1.1_1.2           1   NaN  \n",
       "..         ...             ...               ...         ...   ...  \n",
       "4        31000         5.3_5.4           5.3_5.4           1   NaN  \n",
       "5        31000         5.2_5.3           5.2_5.3           1   NaN  \n",
       "6        31000         5.2_5.4           5.2_5.4           1   NaN  \n",
       "7        30500         3.1_3.4           3.1_3.4           1   NaN  \n",
       "8        31000         4.2_4.4           4.2_4.4           1   NaN  \n",
       "\n",
       "[73 rows x 7 columns]"
      ]
     },
     "execution_count": 44,
     "metadata": {},
     "output_type": "execute_result"
    }
   ],
   "source": [
    "START_STOP_FRAME_DF"
   ]
  },
  {
   "cell_type": "markdown",
   "metadata": {
    "cell_id": "e3ee4891d43a4ac287413afc552ca289",
    "deepnote_cell_type": "text-cell-h2",
    "formattedRanges": []
   },
   "source": [
    "## Outputs"
   ]
  },
  {
   "cell_type": "markdown",
   "metadata": {
    "cell_id": "9ccbf6cc70fd4d379fa29317f733771f",
    "deepnote_cell_type": "text-cell-p",
    "formattedRanges": []
   },
   "source": [
    "Describe each output that the notebook creates. "
   ]
  },
  {
   "cell_type": "markdown",
   "metadata": {
    "cell_id": "fc8e8920a6944918a15fac575cdf6e78",
    "deepnote_cell_type": "text-cell-bullet",
    "formattedRanges": []
   },
   "source": [
    "- Is it a plot or is it data?"
   ]
  },
  {
   "cell_type": "markdown",
   "metadata": {
    "cell_id": "1e639d4776a84aa9ac8ded2e14fa57db",
    "deepnote_cell_type": "text-cell-bullet",
    "formattedRanges": []
   },
   "source": [
    "- How valuable is the output and why is it valuable or useful?"
   ]
  },
  {
   "cell_type": "code",
   "execution_count": 45,
   "metadata": {
    "tags": []
   },
   "outputs": [],
   "source": [
    "# Inputs and Required data loading\n",
    "# input varaible names are in all caps snake case\n",
    "# Whenever an input changes or is used for processing \n",
    "# the vairables are all lower in snake case\n",
    "OUTPUT_DIR = r\"./proc/\" # where data is saved should always be shown in the inputs\n",
    "os.makedirs(OUTPUT_DIR, exist_ok=True)\n",
    "OUTPUT_PREFIX = \"rce_pilot_3\""
   ]
  },
  {
   "cell_type": "code",
   "execution_count": 46,
   "metadata": {
    "tags": []
   },
   "outputs": [],
   "source": [
    "FULL_LFP_TRACES_PKL = \"{}_04_spectral_and_sleap.pkl\".format(OUTPUT_PREFIX)"
   ]
  },
  {
   "cell_type": "markdown",
   "metadata": {
    "cell_id": "8999d19b6b7d4d63bc90f0b0bd9ab085",
    "deepnote_cell_type": "text-cell-h2",
    "formattedRanges": []
   },
   "source": [
    "## Processing"
   ]
  },
  {
   "cell_type": "markdown",
   "metadata": {
    "cell_id": "9b36cdf08567463082b005cb0dec684b",
    "deepnote_cell_type": "text-cell-p",
    "formattedRanges": []
   },
   "source": [
    "Describe what is done to the data here and how inputs are manipulated to generate outputs. "
   ]
  },
  {
   "cell_type": "markdown",
   "metadata": {},
   "source": [
    "# Getting the videos where the subject is in the recording"
   ]
  },
  {
   "cell_type": "markdown",
   "metadata": {},
   "source": [
    "### Looking at when each subject was in each video"
   ]
  },
  {
   "cell_type": "code",
   "execution_count": 47,
   "metadata": {
    "tags": []
   },
   "outputs": [],
   "source": [
    "START_STOP_FRAME_DF = START_STOP_FRAME_DF.dropna(subset=[\"file_path\"])"
   ]
  },
  {
   "cell_type": "markdown",
   "metadata": {},
   "source": [
    "- Getting the name of the SLEAP and video files where each subject was in"
   ]
  },
  {
   "cell_type": "code",
   "execution_count": 48,
   "metadata": {
    "tags": []
   },
   "outputs": [],
   "source": [
    "START_STOP_FRAME_DF[\"sleap_name\"] = START_STOP_FRAME_DF[\"file_path\"].apply(lambda x: os.path.basename(x))\n",
    "START_STOP_FRAME_DF[\"video_name\"] = START_STOP_FRAME_DF[\"file_path\"].apply(lambda x: \".\".join(os.path.basename(x).split(\".\")[:2]))\n",
    "START_STOP_FRAME_DF[\"start_frame\"] = START_STOP_FRAME_DF[\"start_frame\"].astype(int)\n",
    "START_STOP_FRAME_DF[\"stop_frame\"] = START_STOP_FRAME_DF[\"stop_frame\"].astype(int)"
   ]
  },
  {
   "cell_type": "code",
   "execution_count": 49,
   "metadata": {
    "tags": []
   },
   "outputs": [],
   "source": [
    "START_STOP_FRAME_DF = START_STOP_FRAME_DF.drop(columns=[\"file_path\", \"notes\"], errors=\"ignore\")"
   ]
  },
  {
   "cell_type": "code",
   "execution_count": 50,
   "metadata": {
    "tags": []
   },
   "outputs": [
    {
     "data": {
      "text/plain": [
       "array(['20221214_125409_om_and_comp_6_1_and_6_3.1',\n",
       "       '20221215_145401_comp_amd_om_6_1_and_6_3.1',\n",
       "       '20230612_112630_standard_comp_to_training_D1_subj_1-2_and_1-1.1',\n",
       "       '20230612_112630_standard_comp_to_training_D1_subj_1-2_and_1-1.2',\n",
       "       '20230613_105657_standard_comp_to_training_D2_subj_1-1_and_1-4.1',\n",
       "       '20230613_105657_standard_comp_to_training_D2_subj_1-1_and_1-4.2',\n",
       "       '20230614_114041_standard_comp_to_training_D3_subj_1-1_and_1-2.1',\n",
       "       '20230614_114041_standard_comp_to_training_D3_subj_1-1_and_1-2.2',\n",
       "       '20230614_114041_standard_comp_to_training_D3_subj_1-1_and_1-2.3',\n",
       "       '20230616_111904_standard_comp_to_training_D4_subj_1-4_and_1-2.1',\n",
       "       '20230616_111904_standard_comp_to_training_D4_subj_1-4_and_1-2.2',\n",
       "       '20230617_115521_standard_comp_to_omission_D1_subj_1-1_and_1-2.1',\n",
       "       '20230617_115521_standard_comp_to_omission_D1_subj_1-1_and_1-2.3',\n",
       "       '20230618_100636_standard_comp_to_omission_D2_subj_1-4_and_1-1.1',\n",
       "       '20230618_100636_standard_comp_to_omission_D2_subj_1-4_and_1-1.2',\n",
       "       '20230619_115321_standard_comp_to_omission_D3_subj_1-2_and_1-4.3',\n",
       "       '20230619_115321_standard_comp_to_omission_D3_subj_1-2_and_1-4.4',\n",
       "       '20230620_114347_standard_comp_to_omission_D4_subj_1-2_and_1-1.1',\n",
       "       '20230620_114347_standard_comp_to_omission_D4_subj_1-2_and_1-1.2',\n",
       "       '20230621_111240_standard_comp_to_omission_D5_subj_1-4_and_1-2.1',\n",
       "       '20230621_111240_standard_comp_to_omission_D5_subj_1-4_and_1-2.2',\n",
       "       '20230622_110832_standard_comp_to_both_rewarded_D1_subj_1-1_and_1-2.1',\n",
       "       '20230623_114932_standard_comp_to_both_rewarded_D2_subj_1-4_and_1-1.1',\n",
       "       '20230623_114932_standard_comp_to_both_rewarded_D2_subj_1-4_and_1-1.2',\n",
       "       '20230624_105855_standard_comp_to_both_rewarded_D3_subj_1-2_and_1-4.1',\n",
       "       '20230625_112913_standard_comp_to_both_rewarded_D4_subj_1-1_and_1-4.1',\n",
       "       '20230628_111202_standard_comp_to_novel_agent_D1_subj_1-1vs2-2and1-2vs2-1.1',\n",
       "       '20230628_111202_standard_comp_to_novel_agent_D1_subj_1-1vs2-2and1-2vs2-1.2',\n",
       "       '20230628_111202_standard_comp_to_novel_agent_D1_subj_1-1vs2-2and1-2vs2-1.3',\n",
       "       '20230628_111202_standard_comp_to_novel_agent_D1_subj_1-1vs2-2and1-2vs2-1.4',\n",
       "       '20230629_111937_standard_comp_to_novel_agent_D2_subj_1-1vs2-1and1-4vs2-2.1',\n",
       "       '20230629_111937_standard_comp_to_novel_agent_D2_subj_1-1vs2-1and1-4vs2-2.2',\n",
       "       '20230630_115506_standard_comp_to_novel_agent_D3_subj_1-4vs2-1and1-2vs2-2.1',\n",
       "       '20230630_115506_standard_comp_to_novel_agent_D3_subj_1-4vs2-1and1-2vs2-2.2',\n",
       "       '20240317_151922_long_comp_subj_3-1_and_3-3.1',\n",
       "       '20240317_172017_long_comp_subj_4-2_and_4-3.1',\n",
       "       '20240318_143819_long_comp_subj_3-3_and_3-4.1',\n",
       "       '20240318_170933_long_comp_subj_4-3_and_4-4.1',\n",
       "       '20240319_134914_long_comp_subj_3-1_and_3-4.1',\n",
       "       '20240319_160457_long_comp_subj_4-2_and_4-4.1',\n",
       "       '20240320_114629_long_comp_subj_5-3_and_5-4.1',\n",
       "       '20240321_114851_long_comp_subj_5-2_and_5-3.1',\n",
       "       '20240320_171038_alone_comp_subj_4-2_and_4-3.1',\n",
       "       '20240322_120625_alone_comp_subj_3-3_and_3-4.1',\n",
       "       '20240322_160946_alone_comp_subj_4-3_and_4-4.1',\n",
       "       '20240323_122227_alone_comp_subj_5-2_and_5-3.1',\n",
       "       '20240323_144517_alone_comp_subj_3-1_and_3-4.1',\n",
       "       '20240323_165815_alone_comp_subj_4-2_and_4-4.1',\n",
       "       '20240227_130241_comp_om_subj_4-2_and_4-3.1',\n",
       "       '20240228_142038_comp_om_subj_3-1_and_3-3.1',\n",
       "       '20240228_154053_comp_om_subj_4-3_and_4-4.1',\n",
       "       '20240229_152936_comp_om_subj_3-3_and_3-4.1',\n",
       "       '20240317_105929_comp_om_subj_5-3_and_5-4.1',\n",
       "       '20240318_115841_comp_om_subj_5-2_and_5-3.1',\n",
       "       '20240319_111204_comp_om_subj_5-2_and_5-4.1',\n",
       "       '20240325_125522_comp_om_subj_3-1_and_3-4.1',\n",
       "       '20240325_150329_comp_om_subj_4-2_and_4-4.1'], dtype=object)"
      ]
     },
     "execution_count": 50,
     "metadata": {},
     "output_type": "execute_result"
    }
   ],
   "source": [
    "START_STOP_FRAME_DF[\"video_name\"].unique()"
   ]
  },
  {
   "cell_type": "code",
   "execution_count": 51,
   "metadata": {
    "tags": []
   },
   "outputs": [
    {
     "data": {
      "text/html": [
       "<div>\n",
       "<style scoped>\n",
       "    .dataframe tbody tr th:only-of-type {\n",
       "        vertical-align: middle;\n",
       "    }\n",
       "\n",
       "    .dataframe tbody tr th {\n",
       "        vertical-align: top;\n",
       "    }\n",
       "\n",
       "    .dataframe thead th {\n",
       "        text-align: right;\n",
       "    }\n",
       "</style>\n",
       "<table border=\"1\" class=\"dataframe\">\n",
       "  <thead>\n",
       "    <tr style=\"text-align: right;\">\n",
       "      <th></th>\n",
       "      <th>start_frame</th>\n",
       "      <th>stop_frame</th>\n",
       "      <th>tracked_subject</th>\n",
       "      <th>in_video_subjects</th>\n",
       "      <th>box_number</th>\n",
       "      <th>sleap_name</th>\n",
       "      <th>video_name</th>\n",
       "    </tr>\n",
       "  </thead>\n",
       "  <tbody>\n",
       "    <tr>\n",
       "      <th>0</th>\n",
       "      <td>1</td>\n",
       "      <td>25000</td>\n",
       "      <td>6.3</td>\n",
       "      <td>6.1_6.3</td>\n",
       "      <td>1</td>\n",
       "      <td>20221214_125409_om_and_comp_6_1_and_6_3.1.1_su...</td>\n",
       "      <td>20221214_125409_om_and_comp_6_1_and_6_3.1</td>\n",
       "    </tr>\n",
       "    <tr>\n",
       "      <th>1</th>\n",
       "      <td>27500</td>\n",
       "      <td>73600</td>\n",
       "      <td>6.1_6.3</td>\n",
       "      <td>6.1_6.3</td>\n",
       "      <td>1</td>\n",
       "      <td>20221214_125409_om_and_comp_6_1_and_6_3.1.2_su...</td>\n",
       "      <td>20221214_125409_om_and_comp_6_1_and_6_3.1</td>\n",
       "    </tr>\n",
       "    <tr>\n",
       "      <th>2</th>\n",
       "      <td>51500</td>\n",
       "      <td>76454</td>\n",
       "      <td>6.3</td>\n",
       "      <td>6.1_6.3</td>\n",
       "      <td>1</td>\n",
       "      <td>20221215_145401_comp_amd_om_6_1_and_6_3.1.1_su...</td>\n",
       "      <td>20221215_145401_comp_amd_om_6_1_and_6_3.1</td>\n",
       "    </tr>\n",
       "    <tr>\n",
       "      <th>3</th>\n",
       "      <td>1</td>\n",
       "      <td>48500</td>\n",
       "      <td>6.1_6.3</td>\n",
       "      <td>6.1_6.3</td>\n",
       "      <td>1</td>\n",
       "      <td>20221215_145401_comp_amd_om_6_1_and_6_3.1.2_su...</td>\n",
       "      <td>20221215_145401_comp_amd_om_6_1_and_6_3.1</td>\n",
       "    </tr>\n",
       "    <tr>\n",
       "      <th>4</th>\n",
       "      <td>32700</td>\n",
       "      <td>68257</td>\n",
       "      <td>1.2</td>\n",
       "      <td>1.1_1.2</td>\n",
       "      <td>1</td>\n",
       "      <td>20230612_112630_standard_comp_to_training_D1_s...</td>\n",
       "      <td>20230612_112630_standard_comp_to_training_D1_s...</td>\n",
       "    </tr>\n",
       "  </tbody>\n",
       "</table>\n",
       "</div>"
      ],
      "text/plain": [
       "   start_frame  stop_frame tracked_subject in_video_subjects  box_number  \\\n",
       "0            1       25000             6.3           6.1_6.3           1   \n",
       "1        27500       73600         6.1_6.3           6.1_6.3           1   \n",
       "2        51500       76454             6.3           6.1_6.3           1   \n",
       "3            1       48500         6.1_6.3           6.1_6.3           1   \n",
       "4        32700       68257             1.2           1.1_1.2           1   \n",
       "\n",
       "                                          sleap_name  \\\n",
       "0  20221214_125409_om_and_comp_6_1_and_6_3.1.1_su...   \n",
       "1  20221214_125409_om_and_comp_6_1_and_6_3.1.2_su...   \n",
       "2  20221215_145401_comp_amd_om_6_1_and_6_3.1.1_su...   \n",
       "3  20221215_145401_comp_amd_om_6_1_and_6_3.1.2_su...   \n",
       "4  20230612_112630_standard_comp_to_training_D1_s...   \n",
       "\n",
       "                                          video_name  \n",
       "0          20221214_125409_om_and_comp_6_1_and_6_3.1  \n",
       "1          20221214_125409_om_and_comp_6_1_and_6_3.1  \n",
       "2          20221215_145401_comp_amd_om_6_1_and_6_3.1  \n",
       "3          20221215_145401_comp_amd_om_6_1_and_6_3.1  \n",
       "4  20230612_112630_standard_comp_to_training_D1_s...  "
      ]
     },
     "execution_count": 51,
     "metadata": {},
     "output_type": "execute_result"
    }
   ],
   "source": [
    "START_STOP_FRAME_DF.head()"
   ]
  },
  {
   "cell_type": "markdown",
   "metadata": {},
   "source": [
    "- Splitting each row into seperate row for each subject in the video"
   ]
  },
  {
   "cell_type": "code",
   "execution_count": 52,
   "metadata": {
    "tags": []
   },
   "outputs": [],
   "source": [
    "START_STOP_FRAME_DF[\"tracked_subject\"] = START_STOP_FRAME_DF[\"tracked_subject\"].apply(lambda x: str(x).split(\"_\"))\n",
    "START_STOP_FRAME_DF[\"current_subject\"] = START_STOP_FRAME_DF[\"tracked_subject\"]"
   ]
  },
  {
   "cell_type": "code",
   "execution_count": 53,
   "metadata": {
    "tags": []
   },
   "outputs": [],
   "source": [
    "START_STOP_FRAME_DF = START_STOP_FRAME_DF.explode(\"current_subject\")"
   ]
  },
  {
   "cell_type": "code",
   "execution_count": 54,
   "metadata": {
    "tags": []
   },
   "outputs": [
    {
     "data": {
      "text/html": [
       "<div>\n",
       "<style scoped>\n",
       "    .dataframe tbody tr th:only-of-type {\n",
       "        vertical-align: middle;\n",
       "    }\n",
       "\n",
       "    .dataframe tbody tr th {\n",
       "        vertical-align: top;\n",
       "    }\n",
       "\n",
       "    .dataframe thead th {\n",
       "        text-align: right;\n",
       "    }\n",
       "</style>\n",
       "<table border=\"1\" class=\"dataframe\">\n",
       "  <thead>\n",
       "    <tr style=\"text-align: right;\">\n",
       "      <th></th>\n",
       "      <th>start_frame</th>\n",
       "      <th>stop_frame</th>\n",
       "      <th>tracked_subject</th>\n",
       "      <th>in_video_subjects</th>\n",
       "      <th>box_number</th>\n",
       "      <th>sleap_name</th>\n",
       "      <th>video_name</th>\n",
       "      <th>current_subject</th>\n",
       "    </tr>\n",
       "  </thead>\n",
       "  <tbody>\n",
       "    <tr>\n",
       "      <th>0</th>\n",
       "      <td>1</td>\n",
       "      <td>25000</td>\n",
       "      <td>[6.3]</td>\n",
       "      <td>6.1_6.3</td>\n",
       "      <td>1</td>\n",
       "      <td>20221214_125409_om_and_comp_6_1_and_6_3.1.1_su...</td>\n",
       "      <td>20221214_125409_om_and_comp_6_1_and_6_3.1</td>\n",
       "      <td>6.3</td>\n",
       "    </tr>\n",
       "    <tr>\n",
       "      <th>1</th>\n",
       "      <td>27500</td>\n",
       "      <td>73600</td>\n",
       "      <td>[6.1, 6.3]</td>\n",
       "      <td>6.1_6.3</td>\n",
       "      <td>1</td>\n",
       "      <td>20221214_125409_om_and_comp_6_1_and_6_3.1.2_su...</td>\n",
       "      <td>20221214_125409_om_and_comp_6_1_and_6_3.1</td>\n",
       "      <td>6.1</td>\n",
       "    </tr>\n",
       "    <tr>\n",
       "      <th>1</th>\n",
       "      <td>27500</td>\n",
       "      <td>73600</td>\n",
       "      <td>[6.1, 6.3]</td>\n",
       "      <td>6.1_6.3</td>\n",
       "      <td>1</td>\n",
       "      <td>20221214_125409_om_and_comp_6_1_and_6_3.1.2_su...</td>\n",
       "      <td>20221214_125409_om_and_comp_6_1_and_6_3.1</td>\n",
       "      <td>6.3</td>\n",
       "    </tr>\n",
       "    <tr>\n",
       "      <th>2</th>\n",
       "      <td>51500</td>\n",
       "      <td>76454</td>\n",
       "      <td>[6.3]</td>\n",
       "      <td>6.1_6.3</td>\n",
       "      <td>1</td>\n",
       "      <td>20221215_145401_comp_amd_om_6_1_and_6_3.1.1_su...</td>\n",
       "      <td>20221215_145401_comp_amd_om_6_1_and_6_3.1</td>\n",
       "      <td>6.3</td>\n",
       "    </tr>\n",
       "    <tr>\n",
       "      <th>3</th>\n",
       "      <td>1</td>\n",
       "      <td>48500</td>\n",
       "      <td>[6.1, 6.3]</td>\n",
       "      <td>6.1_6.3</td>\n",
       "      <td>1</td>\n",
       "      <td>20221215_145401_comp_amd_om_6_1_and_6_3.1.2_su...</td>\n",
       "      <td>20221215_145401_comp_amd_om_6_1_and_6_3.1</td>\n",
       "      <td>6.1</td>\n",
       "    </tr>\n",
       "  </tbody>\n",
       "</table>\n",
       "</div>"
      ],
      "text/plain": [
       "   start_frame  stop_frame tracked_subject in_video_subjects  box_number  \\\n",
       "0            1       25000           [6.3]           6.1_6.3           1   \n",
       "1        27500       73600      [6.1, 6.3]           6.1_6.3           1   \n",
       "1        27500       73600      [6.1, 6.3]           6.1_6.3           1   \n",
       "2        51500       76454           [6.3]           6.1_6.3           1   \n",
       "3            1       48500      [6.1, 6.3]           6.1_6.3           1   \n",
       "\n",
       "                                          sleap_name  \\\n",
       "0  20221214_125409_om_and_comp_6_1_and_6_3.1.1_su...   \n",
       "1  20221214_125409_om_and_comp_6_1_and_6_3.1.2_su...   \n",
       "1  20221214_125409_om_and_comp_6_1_and_6_3.1.2_su...   \n",
       "2  20221215_145401_comp_amd_om_6_1_and_6_3.1.1_su...   \n",
       "3  20221215_145401_comp_amd_om_6_1_and_6_3.1.2_su...   \n",
       "\n",
       "                                  video_name current_subject  \n",
       "0  20221214_125409_om_and_comp_6_1_and_6_3.1             6.3  \n",
       "1  20221214_125409_om_and_comp_6_1_and_6_3.1             6.1  \n",
       "1  20221214_125409_om_and_comp_6_1_and_6_3.1             6.3  \n",
       "2  20221215_145401_comp_amd_om_6_1_and_6_3.1             6.3  \n",
       "3  20221215_145401_comp_amd_om_6_1_and_6_3.1             6.1  "
      ]
     },
     "execution_count": 54,
     "metadata": {},
     "output_type": "execute_result"
    }
   ],
   "source": [
    "START_STOP_FRAME_DF.head()"
   ]
  },
  {
   "cell_type": "code",
   "execution_count": 55,
   "metadata": {
    "tags": []
   },
   "outputs": [
    {
     "data": {
      "text/plain": [
       "(125, 8)"
      ]
     },
     "execution_count": 55,
     "metadata": {},
     "output_type": "execute_result"
    }
   ],
   "source": [
    "START_STOP_FRAME_DF.shape"
   ]
  },
  {
   "cell_type": "markdown",
   "metadata": {},
   "source": [
    "# Reading in the h5 files between recordings"
   ]
  },
  {
   "cell_type": "code",
   "execution_count": 56,
   "metadata": {},
   "outputs": [
    {
     "data": {
      "text/plain": [
       "'./data'"
      ]
     },
     "execution_count": 56,
     "metadata": {},
     "output_type": "execute_result"
    }
   ],
   "source": [
    "SLEAP_DIR"
   ]
  },
  {
   "cell_type": "code",
   "execution_count": 57,
   "metadata": {
    "tags": []
   },
   "outputs": [],
   "source": [
    "START_STOP_FRAME_DF[\"sleap_name\"] = START_STOP_FRAME_DF[\"video_name\"].apply(lambda x: \"{}.fixed.2_subj.round_3.id_corrected.h5\".format(x))"
   ]
  },
  {
   "cell_type": "code",
   "execution_count": 58,
   "metadata": {
    "tags": []
   },
   "outputs": [
    {
     "data": {
      "text/plain": [
       "'20221214_125409_om_and_comp_6_1_and_6_3.1.fixed.2_subj.round_3.id_corrected.h5'"
      ]
     },
     "execution_count": 58,
     "metadata": {},
     "output_type": "execute_result"
    }
   ],
   "source": [
    "START_STOP_FRAME_DF[\"sleap_name\"].iloc[0]"
   ]
  },
  {
   "cell_type": "code",
   "execution_count": 59,
   "metadata": {
    "tags": []
   },
   "outputs": [
    {
     "data": {
      "text/plain": [
       "0    20221214_125409_om_and_comp_6_1_and_6_3.1.fixe...\n",
       "1    20221214_125409_om_and_comp_6_1_and_6_3.1.fixe...\n",
       "1    20221214_125409_om_and_comp_6_1_and_6_3.1.fixe...\n",
       "2    20221215_145401_comp_amd_om_6_1_and_6_3.1.fixe...\n",
       "3    20221215_145401_comp_amd_om_6_1_and_6_3.1.fixe...\n",
       "                           ...                        \n",
       "6    20240319_111204_comp_om_subj_5-2_and_5-4.1.fix...\n",
       "7    20240325_125522_comp_om_subj_3-1_and_3-4.1.fix...\n",
       "7    20240325_125522_comp_om_subj_3-1_and_3-4.1.fix...\n",
       "8    20240325_150329_comp_om_subj_4-2_and_4-4.1.fix...\n",
       "8    20240325_150329_comp_om_subj_4-2_and_4-4.1.fix...\n",
       "Name: sleap_name, Length: 125, dtype: object"
      ]
     },
     "execution_count": 59,
     "metadata": {},
     "output_type": "execute_result"
    }
   ],
   "source": [
    "START_STOP_FRAME_DF[\"sleap_name\"]"
   ]
  },
  {
   "cell_type": "code",
   "execution_count": 60,
   "metadata": {
    "tags": []
   },
   "outputs": [],
   "source": [
    "START_STOP_FRAME_DF[\"sleap_glob\"] = START_STOP_FRAME_DF[\"sleap_name\"].apply(lambda x: glob.glob(os.path.join(SLEAP_DIR, \"**\", x)))\n"
   ]
  },
  {
   "cell_type": "code",
   "execution_count": 61,
   "metadata": {
    "tags": []
   },
   "outputs": [
    {
     "name": "stdout",
     "output_type": "stream",
     "text": [
      "20221214_125409_om_and_comp_6_1_and_6_3.1.fixed.2_subj.round_3.id_corrected.h5\n",
      "20221214_125409_om_and_comp_6_1_and_6_3.1.fixed.2_subj.round_3.id_corrected.h5\n",
      "20221214_125409_om_and_comp_6_1_and_6_3.1.fixed.2_subj.round_3.id_corrected.h5\n",
      "20221215_145401_comp_amd_om_6_1_and_6_3.1.fixed.2_subj.round_3.id_corrected.h5\n",
      "20221215_145401_comp_amd_om_6_1_and_6_3.1.fixed.2_subj.round_3.id_corrected.h5\n",
      "20221215_145401_comp_amd_om_6_1_and_6_3.1.fixed.2_subj.round_3.id_corrected.h5\n",
      "20230612_112630_standard_comp_to_training_D1_subj_1-2_and_1-1.2.fixed.2_subj.round_3.id_corrected.h5\n",
      "20230613_105657_standard_comp_to_training_D2_subj_1-1_and_1-4.2.fixed.2_subj.round_3.id_corrected.h5\n",
      "20230614_114041_standard_comp_to_training_D3_subj_1-1_and_1-2.2.fixed.2_subj.round_3.id_corrected.h5\n",
      "20230614_114041_standard_comp_to_training_D3_subj_1-1_and_1-2.3.fixed.2_subj.round_3.id_corrected.h5\n",
      "20230616_111904_standard_comp_to_training_D4_subj_1-4_and_1-2.2.fixed.2_subj.round_3.id_corrected.h5\n",
      "20230617_115521_standard_comp_to_omission_D1_subj_1-1_and_1-2.1.fixed.2_subj.round_3.id_corrected.h5\n",
      "20230617_115521_standard_comp_to_omission_D1_subj_1-1_and_1-2.1.fixed.2_subj.round_3.id_corrected.h5\n",
      "20230617_115521_standard_comp_to_omission_D1_subj_1-1_and_1-2.1.fixed.2_subj.round_3.id_corrected.h5\n",
      "20230617_115521_standard_comp_to_omission_D1_subj_1-1_and_1-2.3.fixed.2_subj.round_3.id_corrected.h5\n",
      "20230618_100636_standard_comp_to_omission_D2_subj_1-4_and_1-1.2.fixed.2_subj.round_3.id_corrected.h5\n",
      "20230619_115321_standard_comp_to_omission_D3_subj_1-2_and_1-4.3.fixed.2_subj.round_3.id_corrected.h5\n",
      "20230619_115321_standard_comp_to_omission_D3_subj_1-2_and_1-4.3.fixed.2_subj.round_3.id_corrected.h5\n",
      "20230619_115321_standard_comp_to_omission_D3_subj_1-2_and_1-4.3.fixed.2_subj.round_3.id_corrected.h5\n",
      "20230619_115321_standard_comp_to_omission_D3_subj_1-2_and_1-4.4.fixed.2_subj.round_3.id_corrected.h5\n",
      "20230620_114347_standard_comp_to_omission_D4_subj_1-2_and_1-1.2.fixed.2_subj.round_3.id_corrected.h5\n",
      "20230621_111240_standard_comp_to_omission_D5_subj_1-4_and_1-2.2.fixed.2_subj.round_3.id_corrected.h5\n",
      "20230622_110832_standard_comp_to_both_rewarded_D1_subj_1-1_and_1-2.1.fixed.2_subj.round_3.id_corrected.h5\n",
      "20230622_110832_standard_comp_to_both_rewarded_D1_subj_1-1_and_1-2.1.fixed.2_subj.round_3.id_corrected.h5\n",
      "20230623_114932_standard_comp_to_both_rewarded_D2_subj_1-4_and_1-1.1.fixed.2_subj.round_3.id_corrected.h5\n",
      "20230623_114932_standard_comp_to_both_rewarded_D2_subj_1-4_and_1-1.1.fixed.2_subj.round_3.id_corrected.h5\n",
      "20230623_114932_standard_comp_to_both_rewarded_D2_subj_1-4_and_1-1.2.fixed.2_subj.round_3.id_corrected.h5\n",
      "20230623_114932_standard_comp_to_both_rewarded_D2_subj_1-4_and_1-1.2.fixed.2_subj.round_3.id_corrected.h5\n",
      "20230624_105855_standard_comp_to_both_rewarded_D3_subj_1-2_and_1-4.1.fixed.2_subj.round_3.id_corrected.h5\n",
      "20230624_105855_standard_comp_to_both_rewarded_D3_subj_1-2_and_1-4.1.fixed.2_subj.round_3.id_corrected.h5\n",
      "20230625_112913_standard_comp_to_both_rewarded_D4_subj_1-1_and_1-4.1.fixed.2_subj.round_3.id_corrected.h5\n",
      "20230625_112913_standard_comp_to_both_rewarded_D4_subj_1-1_and_1-4.1.fixed.2_subj.round_3.id_corrected.h5\n",
      "20230628_111202_standard_comp_to_novel_agent_D1_subj_1-1vs2-2and1-2vs2-1.1.fixed.2_subj.round_3.id_corrected.h5\n",
      "20230628_111202_standard_comp_to_novel_agent_D1_subj_1-1vs2-2and1-2vs2-1.1.fixed.2_subj.round_3.id_corrected.h5\n",
      "20230628_111202_standard_comp_to_novel_agent_D1_subj_1-1vs2-2and1-2vs2-1.1.fixed.2_subj.round_3.id_corrected.h5\n",
      "20230628_111202_standard_comp_to_novel_agent_D1_subj_1-1vs2-2and1-2vs2-1.1.fixed.2_subj.round_3.id_corrected.h5\n",
      "20230628_111202_standard_comp_to_novel_agent_D1_subj_1-1vs2-2and1-2vs2-1.2.fixed.2_subj.round_3.id_corrected.h5\n",
      "20230628_111202_standard_comp_to_novel_agent_D1_subj_1-1vs2-2and1-2vs2-1.2.fixed.2_subj.round_3.id_corrected.h5\n",
      "20230628_111202_standard_comp_to_novel_agent_D1_subj_1-1vs2-2and1-2vs2-1.3.fixed.2_subj.round_3.id_corrected.h5\n",
      "20230628_111202_standard_comp_to_novel_agent_D1_subj_1-1vs2-2and1-2vs2-1.3.fixed.2_subj.round_3.id_corrected.h5\n",
      "20230628_111202_standard_comp_to_novel_agent_D1_subj_1-1vs2-2and1-2vs2-1.4.fixed.2_subj.round_3.id_corrected.h5\n",
      "20230628_111202_standard_comp_to_novel_agent_D1_subj_1-1vs2-2and1-2vs2-1.4.fixed.2_subj.round_3.id_corrected.h5\n",
      "20230629_111937_standard_comp_to_novel_agent_D2_subj_1-1vs2-1and1-4vs2-2.1.fixed.2_subj.round_3.id_corrected.h5\n",
      "20230629_111937_standard_comp_to_novel_agent_D2_subj_1-1vs2-1and1-4vs2-2.1.fixed.2_subj.round_3.id_corrected.h5\n",
      "20230629_111937_standard_comp_to_novel_agent_D2_subj_1-1vs2-1and1-4vs2-2.1.fixed.2_subj.round_3.id_corrected.h5\n",
      "20230629_111937_standard_comp_to_novel_agent_D2_subj_1-1vs2-1and1-4vs2-2.1.fixed.2_subj.round_3.id_corrected.h5\n",
      "20230629_111937_standard_comp_to_novel_agent_D2_subj_1-1vs2-1and1-4vs2-2.2.fixed.2_subj.round_3.id_corrected.h5\n",
      "20230629_111937_standard_comp_to_novel_agent_D2_subj_1-1vs2-1and1-4vs2-2.2.fixed.2_subj.round_3.id_corrected.h5\n",
      "20230629_111937_standard_comp_to_novel_agent_D2_subj_1-1vs2-1and1-4vs2-2.2.fixed.2_subj.round_3.id_corrected.h5\n",
      "20230629_111937_standard_comp_to_novel_agent_D2_subj_1-1vs2-1and1-4vs2-2.2.fixed.2_subj.round_3.id_corrected.h5\n",
      "20230630_115506_standard_comp_to_novel_agent_D3_subj_1-4vs2-1and1-2vs2-2.1.fixed.2_subj.round_3.id_corrected.h5\n",
      "20230630_115506_standard_comp_to_novel_agent_D3_subj_1-4vs2-1and1-2vs2-2.1.fixed.2_subj.round_3.id_corrected.h5\n",
      "20230630_115506_standard_comp_to_novel_agent_D3_subj_1-4vs2-1and1-2vs2-2.1.fixed.2_subj.round_3.id_corrected.h5\n",
      "20230630_115506_standard_comp_to_novel_agent_D3_subj_1-4vs2-1and1-2vs2-2.1.fixed.2_subj.round_3.id_corrected.h5\n",
      "20230630_115506_standard_comp_to_novel_agent_D3_subj_1-4vs2-1and1-2vs2-2.2.fixed.2_subj.round_3.id_corrected.h5\n",
      "20230630_115506_standard_comp_to_novel_agent_D3_subj_1-4vs2-1and1-2vs2-2.2.fixed.2_subj.round_3.id_corrected.h5\n",
      "20230630_115506_standard_comp_to_novel_agent_D3_subj_1-4vs2-1and1-2vs2-2.2.fixed.2_subj.round_3.id_corrected.h5\n",
      "20230630_115506_standard_comp_to_novel_agent_D3_subj_1-4vs2-1and1-2vs2-2.2.fixed.2_subj.round_3.id_corrected.h5\n",
      "20240317_172017_long_comp_subj_4-2_and_4-3.1.fixed.2_subj.round_3.id_corrected.h5\n",
      "20240317_172017_long_comp_subj_4-2_and_4-3.1.fixed.2_subj.round_3.id_corrected.h5\n",
      "20240318_143819_long_comp_subj_3-3_and_3-4.1.fixed.2_subj.round_3.id_corrected.h5\n",
      "20240318_143819_long_comp_subj_3-3_and_3-4.1.fixed.2_subj.round_3.id_corrected.h5\n",
      "20240318_170933_long_comp_subj_4-3_and_4-4.1.fixed.2_subj.round_3.id_corrected.h5\n",
      "20240318_170933_long_comp_subj_4-3_and_4-4.1.fixed.2_subj.round_3.id_corrected.h5\n",
      "20240319_134914_long_comp_subj_3-1_and_3-4.1.fixed.2_subj.round_3.id_corrected.h5\n",
      "20240319_134914_long_comp_subj_3-1_and_3-4.1.fixed.2_subj.round_3.id_corrected.h5\n",
      "20240319_160457_long_comp_subj_4-2_and_4-4.1.fixed.2_subj.round_3.id_corrected.h5\n",
      "20240319_160457_long_comp_subj_4-2_and_4-4.1.fixed.2_subj.round_3.id_corrected.h5\n",
      "20240320_114629_long_comp_subj_5-3_and_5-4.1.fixed.2_subj.round_3.id_corrected.h5\n",
      "20240320_114629_long_comp_subj_5-3_and_5-4.1.fixed.2_subj.round_3.id_corrected.h5\n",
      "20240321_114851_long_comp_subj_5-2_and_5-3.1.fixed.2_subj.round_3.id_corrected.h5\n",
      "20240321_114851_long_comp_subj_5-2_and_5-3.1.fixed.2_subj.round_3.id_corrected.h5\n"
     ]
    }
   ],
   "source": [
    "for name in START_STOP_FRAME_DF[START_STOP_FRAME_DF[\"sleap_glob\"].apply(lambda x: len(x) == 0)][\"sleap_name\"]:\n",
    "    print(name)"
   ]
  },
  {
   "cell_type": "markdown",
   "metadata": {},
   "source": [
    "# TODO FIX SLEAP GLOB"
   ]
  },
  {
   "cell_type": "code",
   "execution_count": 62,
   "metadata": {
    "tags": []
   },
   "outputs": [],
   "source": [
    "START_STOP_FRAME_DF = START_STOP_FRAME_DF[START_STOP_FRAME_DF['sleap_glob'].apply(lambda x: len(x) >= 1)]\n",
    "START_STOP_FRAME_DF = START_STOP_FRAME_DF.reset_index(drop=True)\n",
    "\n",
    "\n"
   ]
  },
  {
   "cell_type": "code",
   "execution_count": 63,
   "metadata": {},
   "outputs": [],
   "source": [
    "START_STOP_FRAME_DF[\"sleap_path\"] = START_STOP_FRAME_DF[\"sleap_glob\"].apply(lambda x: x[0])"
   ]
  },
  {
   "cell_type": "code",
   "execution_count": 64,
   "metadata": {
    "tags": []
   },
   "outputs": [
    {
     "data": {
      "text/plain": [
       "0     ./data/20230612_112630_standard_comp_to_traini...\n",
       "1     ./data/20230612_112630_standard_comp_to_traini...\n",
       "2     ./data/20230612_112630_standard_comp_to_traini...\n",
       "3     ./data/20230613_105657_standard_comp_to_traini...\n",
       "4     ./data/20230613_105657_standard_comp_to_traini...\n",
       "5     ./data/20230613_105657_standard_comp_to_traini...\n",
       "6     ./data/20230614_114041_standard_comp_to_traini...\n",
       "7     ./data/20230614_114041_standard_comp_to_traini...\n",
       "8     ./data/20230614_114041_standard_comp_to_traini...\n",
       "9     ./data/20230616_111904_standard_comp_to_traini...\n",
       "10    ./data/20230616_111904_standard_comp_to_traini...\n",
       "11    ./data/20230616_111904_standard_comp_to_traini...\n",
       "12    ./data/20230618_100636_standard_comp_to_omissi...\n",
       "13    ./data/20230618_100636_standard_comp_to_omissi...\n",
       "14    ./data/20230618_100636_standard_comp_to_omissi...\n",
       "15    ./data/20230620_114347_standard_comp_to_omissi...\n",
       "16    ./data/20230620_114347_standard_comp_to_omissi...\n",
       "17    ./data/20230620_114347_standard_comp_to_omissi...\n",
       "18    ./data/20230621_111240_standard_comp_to_omissi...\n",
       "19    ./data/20230621_111240_standard_comp_to_omissi...\n",
       "20    ./data/20230621_111240_standard_comp_to_omissi...\n",
       "21    ./data/20240317_151922_long_comp_subj_3-1_and_...\n",
       "22    ./data/20240317_151922_long_comp_subj_3-1_and_...\n",
       "23    ./data/20240320_171038_alone_comp_subj_4-2_and...\n",
       "24    ./data/20240320_171038_alone_comp_subj_4-2_and...\n",
       "25    ./data/20240322_120625_alone_comp_subj_3-3_and...\n",
       "26    ./data/20240322_120625_alone_comp_subj_3-3_and...\n",
       "27    ./data/20240322_160946_alone_comp_subj_4-3_and...\n",
       "28    ./data/20240322_160946_alone_comp_subj_4-3_and...\n",
       "29    ./data/20240323_122227_alone_comp_subj_5-2_and...\n",
       "30    ./data/20240323_122227_alone_comp_subj_5-2_and...\n",
       "31    ./data/20240323_144517_alone_comp_subj_3-1_and...\n",
       "32    ./data/20240323_144517_alone_comp_subj_3-1_and...\n",
       "33    ./data/20240323_165815_alone_comp_subj_4-2_and...\n",
       "34    ./data/20240323_165815_alone_comp_subj_4-2_and...\n",
       "35    ./data/20240227_130241_comp_om_subj_4-2_and_4-...\n",
       "36    ./data/20240227_130241_comp_om_subj_4-2_and_4-...\n",
       "37    ./data/20240228_142038_comp_om_subj_3-1_and_3-...\n",
       "38    ./data/20240228_142038_comp_om_subj_3-1_and_3-...\n",
       "39    ./data/20240228_154053_comp_om_subj_4-3_and_4-...\n",
       "40    ./data/20240228_154053_comp_om_subj_4-3_and_4-...\n",
       "41    ./data/20240229_152936_comp_om_subj_3-3_and_3-...\n",
       "42    ./data/20240229_152936_comp_om_subj_3-3_and_3-...\n",
       "43    ./data/20240317_105929_comp_om_subj_5-3_and_5-...\n",
       "44    ./data/20240317_105929_comp_om_subj_5-3_and_5-...\n",
       "45    ./data/20240318_115841_comp_om_subj_5-2_and_5-...\n",
       "46    ./data/20240318_115841_comp_om_subj_5-2_and_5-...\n",
       "47    ./data/20240319_111204_comp_om_subj_5-2_and_5-...\n",
       "48    ./data/20240319_111204_comp_om_subj_5-2_and_5-...\n",
       "49    ./data/20240325_125522_comp_om_subj_3-1_and_3-...\n",
       "50    ./data/20240325_125522_comp_om_subj_3-1_and_3-...\n",
       "51    ./data/20240325_150329_comp_om_subj_4-2_and_4-...\n",
       "52    ./data/20240325_150329_comp_om_subj_4-2_and_4-...\n",
       "Name: sleap_path, dtype: object"
      ]
     },
     "execution_count": 64,
     "metadata": {},
     "output_type": "execute_result"
    }
   ],
   "source": [
    "START_STOP_FRAME_DF[\"sleap_path\"]"
   ]
  },
  {
   "cell_type": "code",
   "execution_count": 65,
   "metadata": {},
   "outputs": [],
   "source": [
    "START_STOP_FRAME_DF[\"all_sleap_data\"] = START_STOP_FRAME_DF[\"sleap_path\"].apply(lambda x: sleap.process_pose.extract_sleap_data(x))\n"
   ]
  },
  {
   "cell_type": "code",
   "execution_count": 66,
   "metadata": {
    "tags": []
   },
   "outputs": [],
   "source": [
    "START_STOP_FRAME_DF[\"body_parts\"] = START_STOP_FRAME_DF[\"sleap_path\"].apply(lambda x: sleap.process_pose.get_node_names_from_sleap(x))"
   ]
  },
  {
   "cell_type": "code",
   "execution_count": 67,
   "metadata": {
    "tags": []
   },
   "outputs": [
    {
     "data": {
      "text/plain": [
       "['left_ear', 'right_ear', 'nose', 'tail_base', 'thorax', 'forehead']"
      ]
     },
     "execution_count": 67,
     "metadata": {},
     "output_type": "execute_result"
    }
   ],
   "source": [
    "START_STOP_FRAME_DF[\"body_parts\"].iloc[0]"
   ]
  },
  {
   "cell_type": "code",
   "execution_count": 68,
   "metadata": {},
   "outputs": [],
   "source": [
    "START_STOP_FRAME_DF[\"locations\"] = START_STOP_FRAME_DF[\"all_sleap_data\"].apply(lambda x: x[\"locations\"])"
   ]
  },
  {
   "cell_type": "code",
   "execution_count": 69,
   "metadata": {},
   "outputs": [],
   "source": [
    "START_STOP_FRAME_DF[\"track_names\"] = START_STOP_FRAME_DF[\"all_sleap_data\"].apply(lambda x: x[\"track_names\"])"
   ]
  },
  {
   "cell_type": "code",
   "execution_count": 70,
   "metadata": {
    "tags": []
   },
   "outputs": [
    {
     "data": {
      "text/plain": [
       "(68258, 6, 2, 2)"
      ]
     },
     "execution_count": 70,
     "metadata": {},
     "output_type": "execute_result"
    }
   ],
   "source": [
    "START_STOP_FRAME_DF[\"locations\"].iloc[0].shape"
   ]
  },
  {
   "cell_type": "code",
   "execution_count": 71,
   "metadata": {
    "tags": []
   },
   "outputs": [
    {
     "data": {
      "text/html": [
       "<div>\n",
       "<style scoped>\n",
       "    .dataframe tbody tr th:only-of-type {\n",
       "        vertical-align: middle;\n",
       "    }\n",
       "\n",
       "    .dataframe tbody tr th {\n",
       "        vertical-align: top;\n",
       "    }\n",
       "\n",
       "    .dataframe thead th {\n",
       "        text-align: right;\n",
       "    }\n",
       "</style>\n",
       "<table border=\"1\" class=\"dataframe\">\n",
       "  <thead>\n",
       "    <tr style=\"text-align: right;\">\n",
       "      <th></th>\n",
       "      <th>start_frame</th>\n",
       "      <th>stop_frame</th>\n",
       "      <th>tracked_subject</th>\n",
       "      <th>in_video_subjects</th>\n",
       "      <th>box_number</th>\n",
       "      <th>sleap_name</th>\n",
       "      <th>video_name</th>\n",
       "      <th>current_subject</th>\n",
       "      <th>sleap_glob</th>\n",
       "      <th>sleap_path</th>\n",
       "      <th>all_sleap_data</th>\n",
       "      <th>body_parts</th>\n",
       "      <th>locations</th>\n",
       "      <th>track_names</th>\n",
       "    </tr>\n",
       "  </thead>\n",
       "  <tbody>\n",
       "    <tr>\n",
       "      <th>0</th>\n",
       "      <td>32700</td>\n",
       "      <td>68257</td>\n",
       "      <td>[1.2]</td>\n",
       "      <td>1.1_1.2</td>\n",
       "      <td>1</td>\n",
       "      <td>20230612_112630_standard_comp_to_training_D1_s...</td>\n",
       "      <td>20230612_112630_standard_comp_to_training_D1_s...</td>\n",
       "      <td>1.2</td>\n",
       "      <td>[./data/20230612_112630_standard_comp_to_train...</td>\n",
       "      <td>./data/20230612_112630_standard_comp_to_traini...</td>\n",
       "      <td>{'locations': [[[[243.57579041 335.84069824]\n",
       " ...</td>\n",
       "      <td>[left_ear, right_ear, nose, tail_base, thorax,...</td>\n",
       "      <td>[[[[243.57579041 335.84069824], [396.37969971 ...</td>\n",
       "      <td>[1.1, 1.2]</td>\n",
       "    </tr>\n",
       "    <tr>\n",
       "      <th>1</th>\n",
       "      <td>1</td>\n",
       "      <td>32300</td>\n",
       "      <td>[1.1, 1.2]</td>\n",
       "      <td>1.1_1.2</td>\n",
       "      <td>1</td>\n",
       "      <td>20230612_112630_standard_comp_to_training_D1_s...</td>\n",
       "      <td>20230612_112630_standard_comp_to_training_D1_s...</td>\n",
       "      <td>1.1</td>\n",
       "      <td>[./data/20230612_112630_standard_comp_to_train...</td>\n",
       "      <td>./data/20230612_112630_standard_comp_to_traini...</td>\n",
       "      <td>{'locations': [[[[243.57579041 335.84069824]\n",
       " ...</td>\n",
       "      <td>[left_ear, right_ear, nose, tail_base, thorax,...</td>\n",
       "      <td>[[[[243.57579041 335.84069824], [396.37969971 ...</td>\n",
       "      <td>[1.1, 1.2]</td>\n",
       "    </tr>\n",
       "    <tr>\n",
       "      <th>2</th>\n",
       "      <td>1</td>\n",
       "      <td>32300</td>\n",
       "      <td>[1.1, 1.2]</td>\n",
       "      <td>1.1_1.2</td>\n",
       "      <td>1</td>\n",
       "      <td>20230612_112630_standard_comp_to_training_D1_s...</td>\n",
       "      <td>20230612_112630_standard_comp_to_training_D1_s...</td>\n",
       "      <td>1.2</td>\n",
       "      <td>[./data/20230612_112630_standard_comp_to_train...</td>\n",
       "      <td>./data/20230612_112630_standard_comp_to_traini...</td>\n",
       "      <td>{'locations': [[[[243.57579041 335.84069824]\n",
       " ...</td>\n",
       "      <td>[left_ear, right_ear, nose, tail_base, thorax,...</td>\n",
       "      <td>[[[[243.57579041 335.84069824], [396.37969971 ...</td>\n",
       "      <td>[1.1, 1.2]</td>\n",
       "    </tr>\n",
       "    <tr>\n",
       "      <th>3</th>\n",
       "      <td>33400</td>\n",
       "      <td>68332</td>\n",
       "      <td>[1.1]</td>\n",
       "      <td>1.1_1.4</td>\n",
       "      <td>1</td>\n",
       "      <td>20230613_105657_standard_comp_to_training_D2_s...</td>\n",
       "      <td>20230613_105657_standard_comp_to_training_D2_s...</td>\n",
       "      <td>1.1</td>\n",
       "      <td>[./data/20230613_105657_standard_comp_to_train...</td>\n",
       "      <td>./data/20230613_105657_standard_comp_to_traini...</td>\n",
       "      <td>{'locations': [[[[339.77365112 362.56900024]\n",
       " ...</td>\n",
       "      <td>[left_ear, right_ear, nose, tail_base, thorax,...</td>\n",
       "      <td>[[[[339.77365112 362.56900024], [400.29354858 ...</td>\n",
       "      <td>[1.1, 1.4]</td>\n",
       "    </tr>\n",
       "    <tr>\n",
       "      <th>4</th>\n",
       "      <td>1</td>\n",
       "      <td>33000</td>\n",
       "      <td>[1.1, 1.4]</td>\n",
       "      <td>1.1_1.4</td>\n",
       "      <td>1</td>\n",
       "      <td>20230613_105657_standard_comp_to_training_D2_s...</td>\n",
       "      <td>20230613_105657_standard_comp_to_training_D2_s...</td>\n",
       "      <td>1.1</td>\n",
       "      <td>[./data/20230613_105657_standard_comp_to_train...</td>\n",
       "      <td>./data/20230613_105657_standard_comp_to_traini...</td>\n",
       "      <td>{'locations': [[[[339.77365112 362.56900024]\n",
       " ...</td>\n",
       "      <td>[left_ear, right_ear, nose, tail_base, thorax,...</td>\n",
       "      <td>[[[[339.77365112 362.56900024], [400.29354858 ...</td>\n",
       "      <td>[1.1, 1.4]</td>\n",
       "    </tr>\n",
       "  </tbody>\n",
       "</table>\n",
       "</div>"
      ],
      "text/plain": [
       "   start_frame  stop_frame tracked_subject in_video_subjects  box_number  \\\n",
       "0        32700       68257           [1.2]           1.1_1.2           1   \n",
       "1            1       32300      [1.1, 1.2]           1.1_1.2           1   \n",
       "2            1       32300      [1.1, 1.2]           1.1_1.2           1   \n",
       "3        33400       68332           [1.1]           1.1_1.4           1   \n",
       "4            1       33000      [1.1, 1.4]           1.1_1.4           1   \n",
       "\n",
       "                                          sleap_name  \\\n",
       "0  20230612_112630_standard_comp_to_training_D1_s...   \n",
       "1  20230612_112630_standard_comp_to_training_D1_s...   \n",
       "2  20230612_112630_standard_comp_to_training_D1_s...   \n",
       "3  20230613_105657_standard_comp_to_training_D2_s...   \n",
       "4  20230613_105657_standard_comp_to_training_D2_s...   \n",
       "\n",
       "                                          video_name current_subject  \\\n",
       "0  20230612_112630_standard_comp_to_training_D1_s...             1.2   \n",
       "1  20230612_112630_standard_comp_to_training_D1_s...             1.1   \n",
       "2  20230612_112630_standard_comp_to_training_D1_s...             1.2   \n",
       "3  20230613_105657_standard_comp_to_training_D2_s...             1.1   \n",
       "4  20230613_105657_standard_comp_to_training_D2_s...             1.1   \n",
       "\n",
       "                                          sleap_glob  \\\n",
       "0  [./data/20230612_112630_standard_comp_to_train...   \n",
       "1  [./data/20230612_112630_standard_comp_to_train...   \n",
       "2  [./data/20230612_112630_standard_comp_to_train...   \n",
       "3  [./data/20230613_105657_standard_comp_to_train...   \n",
       "4  [./data/20230613_105657_standard_comp_to_train...   \n",
       "\n",
       "                                          sleap_path  \\\n",
       "0  ./data/20230612_112630_standard_comp_to_traini...   \n",
       "1  ./data/20230612_112630_standard_comp_to_traini...   \n",
       "2  ./data/20230612_112630_standard_comp_to_traini...   \n",
       "3  ./data/20230613_105657_standard_comp_to_traini...   \n",
       "4  ./data/20230613_105657_standard_comp_to_traini...   \n",
       "\n",
       "                                      all_sleap_data  \\\n",
       "0  {'locations': [[[[243.57579041 335.84069824]\n",
       " ...   \n",
       "1  {'locations': [[[[243.57579041 335.84069824]\n",
       " ...   \n",
       "2  {'locations': [[[[243.57579041 335.84069824]\n",
       " ...   \n",
       "3  {'locations': [[[[339.77365112 362.56900024]\n",
       " ...   \n",
       "4  {'locations': [[[[339.77365112 362.56900024]\n",
       " ...   \n",
       "\n",
       "                                          body_parts  \\\n",
       "0  [left_ear, right_ear, nose, tail_base, thorax,...   \n",
       "1  [left_ear, right_ear, nose, tail_base, thorax,...   \n",
       "2  [left_ear, right_ear, nose, tail_base, thorax,...   \n",
       "3  [left_ear, right_ear, nose, tail_base, thorax,...   \n",
       "4  [left_ear, right_ear, nose, tail_base, thorax,...   \n",
       "\n",
       "                                           locations track_names  \n",
       "0  [[[[243.57579041 335.84069824], [396.37969971 ...  [1.1, 1.2]  \n",
       "1  [[[[243.57579041 335.84069824], [396.37969971 ...  [1.1, 1.2]  \n",
       "2  [[[[243.57579041 335.84069824], [396.37969971 ...  [1.1, 1.2]  \n",
       "3  [[[[339.77365112 362.56900024], [400.29354858 ...  [1.1, 1.4]  \n",
       "4  [[[[339.77365112 362.56900024], [400.29354858 ...  [1.1, 1.4]  "
      ]
     },
     "execution_count": 71,
     "metadata": {},
     "output_type": "execute_result"
    }
   ],
   "source": [
    "START_STOP_FRAME_DF.head()"
   ]
  },
  {
   "cell_type": "code",
   "execution_count": 72,
   "metadata": {},
   "outputs": [],
   "source": [
    "# Getting the indexes of each subject from the track list\n",
    "START_STOP_FRAME_DF[\"subject_to_index\"] = START_STOP_FRAME_DF.apply(lambda x: {k: x[\"track_names\"].index(k) for k in x[\"tracked_subject\"] if k in x[\"track_names\"]}, axis=1)"
   ]
  },
  {
   "cell_type": "code",
   "execution_count": 73,
   "metadata": {},
   "outputs": [
    {
     "data": {
      "text/plain": [
       "0              {'1.2': 1}\n",
       "1    {'1.1': 0, '1.2': 1}\n",
       "2    {'1.1': 0, '1.2': 1}\n",
       "3              {'1.1': 0}\n",
       "4    {'1.1': 0, '1.4': 1}\n",
       "Name: subject_to_index, dtype: object"
      ]
     },
     "execution_count": 73,
     "metadata": {},
     "output_type": "execute_result"
    }
   ],
   "source": [
    "START_STOP_FRAME_DF[\"subject_to_index\"].head()"
   ]
  },
  {
   "cell_type": "code",
   "execution_count": 74,
   "metadata": {},
   "outputs": [],
   "source": [
    "START_STOP_FRAME_DF[\"subject_to_tracks\"] = START_STOP_FRAME_DF.apply(lambda x: {k:v for k, v in x[\"subject_to_index\"].items()}, axis=1)"
   ]
  },
  {
   "cell_type": "code",
   "execution_count": 75,
   "metadata": {},
   "outputs": [],
   "source": [
    "START_STOP_FRAME_DF[\"subject_to_tracks\"] = START_STOP_FRAME_DF.apply(lambda x: {k: x[\"locations\"][:,:,:,v] for k, v in x[\"subject_to_index\"].items()}, axis=1)"
   ]
  },
  {
   "cell_type": "code",
   "execution_count": 76,
   "metadata": {},
   "outputs": [
    {
     "data": {
      "text/plain": [
       "0    {'1.2': [[[335.84069824 128.25213623], [300.47...\n",
       "1    {'1.1': [[[243.57579041 396.37969971], [247.22...\n",
       "2    {'1.1': [[[243.57579041 396.37969971], [247.22...\n",
       "3    {'1.1': [[[339.77365112 400.29354858], [316.26...\n",
       "4    {'1.1': [[[339.77365112 400.29354858], [316.26...\n",
       "Name: subject_to_tracks, dtype: object"
      ]
     },
     "execution_count": 76,
     "metadata": {},
     "output_type": "execute_result"
    }
   ],
   "source": [
    "START_STOP_FRAME_DF[\"subject_to_tracks\"].head()"
   ]
  },
  {
   "cell_type": "code",
   "execution_count": 77,
   "metadata": {
    "tags": []
   },
   "outputs": [
    {
     "data": {
      "text/plain": [
       "0         (1.2)\n",
       "1    (1.1, 1.2)\n",
       "2    (1.1, 1.2)\n",
       "3         (1.1)\n",
       "4    (1.1, 1.4)\n",
       "Name: subject_to_tracks, dtype: object"
      ]
     },
     "execution_count": 77,
     "metadata": {},
     "output_type": "execute_result"
    }
   ],
   "source": [
    "START_STOP_FRAME_DF[\"subject_to_tracks\"].apply(lambda x: x.keys()).head()"
   ]
  },
  {
   "cell_type": "code",
   "execution_count": 78,
   "metadata": {},
   "outputs": [
    {
     "data": {
      "text/html": [
       "<div>\n",
       "<style scoped>\n",
       "    .dataframe tbody tr th:only-of-type {\n",
       "        vertical-align: middle;\n",
       "    }\n",
       "\n",
       "    .dataframe tbody tr th {\n",
       "        vertical-align: top;\n",
       "    }\n",
       "\n",
       "    .dataframe thead th {\n",
       "        text-align: right;\n",
       "    }\n",
       "</style>\n",
       "<table border=\"1\" class=\"dataframe\">\n",
       "  <thead>\n",
       "    <tr style=\"text-align: right;\">\n",
       "      <th></th>\n",
       "      <th>start_frame</th>\n",
       "      <th>stop_frame</th>\n",
       "      <th>tracked_subject</th>\n",
       "      <th>in_video_subjects</th>\n",
       "      <th>box_number</th>\n",
       "      <th>sleap_name</th>\n",
       "      <th>video_name</th>\n",
       "      <th>current_subject</th>\n",
       "      <th>sleap_glob</th>\n",
       "      <th>sleap_path</th>\n",
       "      <th>all_sleap_data</th>\n",
       "      <th>body_parts</th>\n",
       "      <th>locations</th>\n",
       "      <th>track_names</th>\n",
       "      <th>subject_to_index</th>\n",
       "      <th>subject_to_tracks</th>\n",
       "    </tr>\n",
       "  </thead>\n",
       "  <tbody>\n",
       "    <tr>\n",
       "      <th>0</th>\n",
       "      <td>32700</td>\n",
       "      <td>68257</td>\n",
       "      <td>[1.2]</td>\n",
       "      <td>1.1_1.2</td>\n",
       "      <td>1</td>\n",
       "      <td>20230612_112630_standard_comp_to_training_D1_s...</td>\n",
       "      <td>20230612_112630_standard_comp_to_training_D1_s...</td>\n",
       "      <td>1.2</td>\n",
       "      <td>[./data/20230612_112630_standard_comp_to_train...</td>\n",
       "      <td>./data/20230612_112630_standard_comp_to_traini...</td>\n",
       "      <td>{'locations': [[[[243.57579041 335.84069824]\n",
       " ...</td>\n",
       "      <td>[left_ear, right_ear, nose, tail_base, thorax,...</td>\n",
       "      <td>[[[[243.57579041 335.84069824], [396.37969971 ...</td>\n",
       "      <td>[1.1, 1.2]</td>\n",
       "      <td>{'1.2': 1}</td>\n",
       "      <td>{'1.2': [[[335.84069824 128.25213623], [300.47...</td>\n",
       "    </tr>\n",
       "    <tr>\n",
       "      <th>1</th>\n",
       "      <td>1</td>\n",
       "      <td>32300</td>\n",
       "      <td>[1.1, 1.2]</td>\n",
       "      <td>1.1_1.2</td>\n",
       "      <td>1</td>\n",
       "      <td>20230612_112630_standard_comp_to_training_D1_s...</td>\n",
       "      <td>20230612_112630_standard_comp_to_training_D1_s...</td>\n",
       "      <td>1.1</td>\n",
       "      <td>[./data/20230612_112630_standard_comp_to_train...</td>\n",
       "      <td>./data/20230612_112630_standard_comp_to_traini...</td>\n",
       "      <td>{'locations': [[[[243.57579041 335.84069824]\n",
       " ...</td>\n",
       "      <td>[left_ear, right_ear, nose, tail_base, thorax,...</td>\n",
       "      <td>[[[[243.57579041 335.84069824], [396.37969971 ...</td>\n",
       "      <td>[1.1, 1.2]</td>\n",
       "      <td>{'1.1': 0, '1.2': 1}</td>\n",
       "      <td>{'1.1': [[[243.57579041 396.37969971], [247.22...</td>\n",
       "    </tr>\n",
       "    <tr>\n",
       "      <th>2</th>\n",
       "      <td>1</td>\n",
       "      <td>32300</td>\n",
       "      <td>[1.1, 1.2]</td>\n",
       "      <td>1.1_1.2</td>\n",
       "      <td>1</td>\n",
       "      <td>20230612_112630_standard_comp_to_training_D1_s...</td>\n",
       "      <td>20230612_112630_standard_comp_to_training_D1_s...</td>\n",
       "      <td>1.2</td>\n",
       "      <td>[./data/20230612_112630_standard_comp_to_train...</td>\n",
       "      <td>./data/20230612_112630_standard_comp_to_traini...</td>\n",
       "      <td>{'locations': [[[[243.57579041 335.84069824]\n",
       " ...</td>\n",
       "      <td>[left_ear, right_ear, nose, tail_base, thorax,...</td>\n",
       "      <td>[[[[243.57579041 335.84069824], [396.37969971 ...</td>\n",
       "      <td>[1.1, 1.2]</td>\n",
       "      <td>{'1.1': 0, '1.2': 1}</td>\n",
       "      <td>{'1.1': [[[243.57579041 396.37969971], [247.22...</td>\n",
       "    </tr>\n",
       "    <tr>\n",
       "      <th>3</th>\n",
       "      <td>33400</td>\n",
       "      <td>68332</td>\n",
       "      <td>[1.1]</td>\n",
       "      <td>1.1_1.4</td>\n",
       "      <td>1</td>\n",
       "      <td>20230613_105657_standard_comp_to_training_D2_s...</td>\n",
       "      <td>20230613_105657_standard_comp_to_training_D2_s...</td>\n",
       "      <td>1.1</td>\n",
       "      <td>[./data/20230613_105657_standard_comp_to_train...</td>\n",
       "      <td>./data/20230613_105657_standard_comp_to_traini...</td>\n",
       "      <td>{'locations': [[[[339.77365112 362.56900024]\n",
       " ...</td>\n",
       "      <td>[left_ear, right_ear, nose, tail_base, thorax,...</td>\n",
       "      <td>[[[[339.77365112 362.56900024], [400.29354858 ...</td>\n",
       "      <td>[1.1, 1.4]</td>\n",
       "      <td>{'1.1': 0}</td>\n",
       "      <td>{'1.1': [[[339.77365112 400.29354858], [316.26...</td>\n",
       "    </tr>\n",
       "    <tr>\n",
       "      <th>4</th>\n",
       "      <td>1</td>\n",
       "      <td>33000</td>\n",
       "      <td>[1.1, 1.4]</td>\n",
       "      <td>1.1_1.4</td>\n",
       "      <td>1</td>\n",
       "      <td>20230613_105657_standard_comp_to_training_D2_s...</td>\n",
       "      <td>20230613_105657_standard_comp_to_training_D2_s...</td>\n",
       "      <td>1.1</td>\n",
       "      <td>[./data/20230613_105657_standard_comp_to_train...</td>\n",
       "      <td>./data/20230613_105657_standard_comp_to_traini...</td>\n",
       "      <td>{'locations': [[[[339.77365112 362.56900024]\n",
       " ...</td>\n",
       "      <td>[left_ear, right_ear, nose, tail_base, thorax,...</td>\n",
       "      <td>[[[[339.77365112 362.56900024], [400.29354858 ...</td>\n",
       "      <td>[1.1, 1.4]</td>\n",
       "      <td>{'1.1': 0, '1.4': 1}</td>\n",
       "      <td>{'1.1': [[[339.77365112 400.29354858], [316.26...</td>\n",
       "    </tr>\n",
       "  </tbody>\n",
       "</table>\n",
       "</div>"
      ],
      "text/plain": [
       "   start_frame  stop_frame tracked_subject in_video_subjects  box_number  \\\n",
       "0        32700       68257           [1.2]           1.1_1.2           1   \n",
       "1            1       32300      [1.1, 1.2]           1.1_1.2           1   \n",
       "2            1       32300      [1.1, 1.2]           1.1_1.2           1   \n",
       "3        33400       68332           [1.1]           1.1_1.4           1   \n",
       "4            1       33000      [1.1, 1.4]           1.1_1.4           1   \n",
       "\n",
       "                                          sleap_name  \\\n",
       "0  20230612_112630_standard_comp_to_training_D1_s...   \n",
       "1  20230612_112630_standard_comp_to_training_D1_s...   \n",
       "2  20230612_112630_standard_comp_to_training_D1_s...   \n",
       "3  20230613_105657_standard_comp_to_training_D2_s...   \n",
       "4  20230613_105657_standard_comp_to_training_D2_s...   \n",
       "\n",
       "                                          video_name current_subject  \\\n",
       "0  20230612_112630_standard_comp_to_training_D1_s...             1.2   \n",
       "1  20230612_112630_standard_comp_to_training_D1_s...             1.1   \n",
       "2  20230612_112630_standard_comp_to_training_D1_s...             1.2   \n",
       "3  20230613_105657_standard_comp_to_training_D2_s...             1.1   \n",
       "4  20230613_105657_standard_comp_to_training_D2_s...             1.1   \n",
       "\n",
       "                                          sleap_glob  \\\n",
       "0  [./data/20230612_112630_standard_comp_to_train...   \n",
       "1  [./data/20230612_112630_standard_comp_to_train...   \n",
       "2  [./data/20230612_112630_standard_comp_to_train...   \n",
       "3  [./data/20230613_105657_standard_comp_to_train...   \n",
       "4  [./data/20230613_105657_standard_comp_to_train...   \n",
       "\n",
       "                                          sleap_path  \\\n",
       "0  ./data/20230612_112630_standard_comp_to_traini...   \n",
       "1  ./data/20230612_112630_standard_comp_to_traini...   \n",
       "2  ./data/20230612_112630_standard_comp_to_traini...   \n",
       "3  ./data/20230613_105657_standard_comp_to_traini...   \n",
       "4  ./data/20230613_105657_standard_comp_to_traini...   \n",
       "\n",
       "                                      all_sleap_data  \\\n",
       "0  {'locations': [[[[243.57579041 335.84069824]\n",
       " ...   \n",
       "1  {'locations': [[[[243.57579041 335.84069824]\n",
       " ...   \n",
       "2  {'locations': [[[[243.57579041 335.84069824]\n",
       " ...   \n",
       "3  {'locations': [[[[339.77365112 362.56900024]\n",
       " ...   \n",
       "4  {'locations': [[[[339.77365112 362.56900024]\n",
       " ...   \n",
       "\n",
       "                                          body_parts  \\\n",
       "0  [left_ear, right_ear, nose, tail_base, thorax,...   \n",
       "1  [left_ear, right_ear, nose, tail_base, thorax,...   \n",
       "2  [left_ear, right_ear, nose, tail_base, thorax,...   \n",
       "3  [left_ear, right_ear, nose, tail_base, thorax,...   \n",
       "4  [left_ear, right_ear, nose, tail_base, thorax,...   \n",
       "\n",
       "                                           locations track_names  \\\n",
       "0  [[[[243.57579041 335.84069824], [396.37969971 ...  [1.1, 1.2]   \n",
       "1  [[[[243.57579041 335.84069824], [396.37969971 ...  [1.1, 1.2]   \n",
       "2  [[[[243.57579041 335.84069824], [396.37969971 ...  [1.1, 1.2]   \n",
       "3  [[[[339.77365112 362.56900024], [400.29354858 ...  [1.1, 1.4]   \n",
       "4  [[[[339.77365112 362.56900024], [400.29354858 ...  [1.1, 1.4]   \n",
       "\n",
       "       subject_to_index                                  subject_to_tracks  \n",
       "0            {'1.2': 1}  {'1.2': [[[335.84069824 128.25213623], [300.47...  \n",
       "1  {'1.1': 0, '1.2': 1}  {'1.1': [[[243.57579041 396.37969971], [247.22...  \n",
       "2  {'1.1': 0, '1.2': 1}  {'1.1': [[[243.57579041 396.37969971], [247.22...  \n",
       "3            {'1.1': 0}  {'1.1': [[[339.77365112 400.29354858], [316.26...  \n",
       "4  {'1.1': 0, '1.4': 1}  {'1.1': [[[339.77365112 400.29354858], [316.26...  "
      ]
     },
     "execution_count": 78,
     "metadata": {},
     "output_type": "execute_result"
    }
   ],
   "source": [
    "START_STOP_FRAME_DF.head()"
   ]
  },
  {
   "cell_type": "markdown",
   "metadata": {},
   "source": [
    "## Getting the coordinates of the corners"
   ]
  },
  {
   "cell_type": "code",
   "execution_count": 79,
   "metadata": {},
   "outputs": [
    {
     "data": {
      "text/plain": [
       "'./data/20230612_112630_standard_comp_to_training_D1_subj_1-2_and_1-1/20230612_112630_standard_comp_to_training_D1_subj_1-2_and_1-1.1.fixed.2_subj.round_3.id_corrected.h5'"
      ]
     },
     "execution_count": 79,
     "metadata": {},
     "output_type": "execute_result"
    }
   ],
   "source": [
    "START_STOP_FRAME_DF[\"sleap_path\"].iloc[0]"
   ]
  },
  {
   "cell_type": "code",
   "execution_count": 80,
   "metadata": {},
   "outputs": [],
   "source": [
    "# Each corner file is the in the same folder and has the same basename of the pose tracking file \n",
    "START_STOP_FRAME_DF[\"corner_path\"] = START_STOP_FRAME_DF[\"sleap_path\"].apply(lambda x: x.replace(\"id_corrected.h5\", \"corner.h5\").replace(\".fixed\", \"\").replace(\".round_1\", \"\").replace(\".round_3\", \"\").replace(\".1_subj\", \"\").replace(\".2_subj\", \"\"))\n"
   ]
  },
  {
   "cell_type": "code",
   "execution_count": 81,
   "metadata": {},
   "outputs": [
    {
     "name": "stdout",
     "output_type": "stream",
     "text": [
      "./data/20230612_112630_standard_comp_to_training_D1_subj_1-2_and_1-1/20230612_112630_standard_comp_to_training_D1_subj_1-2_and_1-1.1.corner.h5\n",
      "./data/20230612_112630_standard_comp_to_training_D1_subj_1-2_and_1-1/20230612_112630_standard_comp_to_training_D1_subj_1-2_and_1-1.1.corner.h5\n",
      "./data/20230612_112630_standard_comp_to_training_D1_subj_1-2_and_1-1/20230612_112630_standard_comp_to_training_D1_subj_1-2_and_1-1.1.corner.h5\n",
      "./data/20230613_105657_standard_comp_to_training_D2_subj_1-1_and_1-4/20230613_105657_standard_comp_to_training_D2_subj_1-1_and_1-4.1.corner.h5\n",
      "./data/20230613_105657_standard_comp_to_training_D2_subj_1-1_and_1-4/20230613_105657_standard_comp_to_training_D2_subj_1-1_and_1-4.1.corner.h5\n",
      "./data/20230613_105657_standard_comp_to_training_D2_subj_1-1_and_1-4/20230613_105657_standard_comp_to_training_D2_subj_1-1_and_1-4.1.corner.h5\n",
      "./data/20230614_114041_standard_comp_to_training_D3_subj_1-1_and_1-2/20230614_114041_standard_comp_to_training_D3_subj_1-1_and_1-2.1.corner.h5\n",
      "./data/20230614_114041_standard_comp_to_training_D3_subj_1-1_and_1-2/20230614_114041_standard_comp_to_training_D3_subj_1-1_and_1-2.1.corner.h5\n",
      "./data/20230614_114041_standard_comp_to_training_D3_subj_1-1_and_1-2/20230614_114041_standard_comp_to_training_D3_subj_1-1_and_1-2.1.corner.h5\n",
      "./data/20230616_111904_standard_comp_to_training_D4_subj_1-4_and_1-2/20230616_111904_standard_comp_to_training_D4_subj_1-4_and_1-2.1.corner.h5\n",
      "./data/20230616_111904_standard_comp_to_training_D4_subj_1-4_and_1-2/20230616_111904_standard_comp_to_training_D4_subj_1-4_and_1-2.1.corner.h5\n",
      "./data/20230616_111904_standard_comp_to_training_D4_subj_1-4_and_1-2/20230616_111904_standard_comp_to_training_D4_subj_1-4_and_1-2.1.corner.h5\n",
      "./data/20230618_100636_standard_comp_to_omission_D2_subj_1-4_and_1-1/20230618_100636_standard_comp_to_omission_D2_subj_1-4_and_1-1.1.corner.h5\n",
      "./data/20230618_100636_standard_comp_to_omission_D2_subj_1-4_and_1-1/20230618_100636_standard_comp_to_omission_D2_subj_1-4_and_1-1.1.corner.h5\n",
      "./data/20230618_100636_standard_comp_to_omission_D2_subj_1-4_and_1-1/20230618_100636_standard_comp_to_omission_D2_subj_1-4_and_1-1.1.corner.h5\n",
      "./data/20230620_114347_standard_comp_to_omission_D4_subj_1-2_and_1-1/20230620_114347_standard_comp_to_omission_D4_subj_1-2_and_1-1.1.corner.h5\n",
      "./data/20230620_114347_standard_comp_to_omission_D4_subj_1-2_and_1-1/20230620_114347_standard_comp_to_omission_D4_subj_1-2_and_1-1.1.corner.h5\n",
      "./data/20230620_114347_standard_comp_to_omission_D4_subj_1-2_and_1-1/20230620_114347_standard_comp_to_omission_D4_subj_1-2_and_1-1.1.corner.h5\n",
      "./data/20230621_111240_standard_comp_to_omission_D5_subj_1-4_and_1-2/20230621_111240_standard_comp_to_omission_D5_subj_1-4_and_1-2.1.corner.h5\n",
      "./data/20230621_111240_standard_comp_to_omission_D5_subj_1-4_and_1-2/20230621_111240_standard_comp_to_omission_D5_subj_1-4_and_1-2.1.corner.h5\n",
      "./data/20230621_111240_standard_comp_to_omission_D5_subj_1-4_and_1-2/20230621_111240_standard_comp_to_omission_D5_subj_1-4_and_1-2.1.corner.h5\n",
      "./data/20240317_151922_long_comp_subj_3-1_and_3-3/20240317_151922_long_comp_subj_3-1_and_3-3.1.corner.h5\n",
      "./data/20240317_151922_long_comp_subj_3-1_and_3-3/20240317_151922_long_comp_subj_3-1_and_3-3.1.corner.h5\n",
      "./data/20240320_171038_alone_comp_subj_4-2_and_4-3/20240320_171038_alone_comp_subj_4-2_and_4-3.1.corner.h5\n",
      "./data/20240320_171038_alone_comp_subj_4-2_and_4-3/20240320_171038_alone_comp_subj_4-2_and_4-3.1.corner.h5\n",
      "./data/20240322_120625_alone_comp_subj_3-3_and_3-4/20240322_120625_alone_comp_subj_3-3_and_3-4.1.corner.h5\n",
      "./data/20240322_120625_alone_comp_subj_3-3_and_3-4/20240322_120625_alone_comp_subj_3-3_and_3-4.1.corner.h5\n",
      "./data/20240322_160946_alone_comp_subj_4-3_and_4-4/20240322_160946_alone_comp_subj_4-3_and_4-4.1.corner.h5\n",
      "./data/20240322_160946_alone_comp_subj_4-3_and_4-4/20240322_160946_alone_comp_subj_4-3_and_4-4.1.corner.h5\n",
      "./data/20240323_122227_alone_comp_subj_5-2_and_5-3/20240323_122227_alone_comp_subj_5-2_and_5-3.1.corner.h5\n",
      "./data/20240323_122227_alone_comp_subj_5-2_and_5-3/20240323_122227_alone_comp_subj_5-2_and_5-3.1.corner.h5\n",
      "./data/20240323_144517_alone_comp_subj_3-1_and_3-4/20240323_144517_alone_comp_subj_3-1_and_3-4.1.corner.h5\n",
      "./data/20240323_144517_alone_comp_subj_3-1_and_3-4/20240323_144517_alone_comp_subj_3-1_and_3-4.1.corner.h5\n",
      "./data/20240323_165815_alone_comp_subj_4-2_and_4-4/20240323_165815_alone_comp_subj_4-2_and_4-4.1.corner.h5\n",
      "./data/20240323_165815_alone_comp_subj_4-2_and_4-4/20240323_165815_alone_comp_subj_4-2_and_4-4.1.corner.h5\n",
      "./data/20240227_130241_comp_om_subj_4-2_and_4-3/20240227_130241_comp_om_subj_4-2_and_4-3.1.corner.h5\n",
      "./data/20240227_130241_comp_om_subj_4-2_and_4-3/20240227_130241_comp_om_subj_4-2_and_4-3.1.corner.h5\n",
      "./data/20240228_142038_comp_om_subj_3-1_and_3-3/20240228_142038_comp_om_subj_3-1_and_3-3.1.corner.h5\n",
      "./data/20240228_142038_comp_om_subj_3-1_and_3-3/20240228_142038_comp_om_subj_3-1_and_3-3.1.corner.h5\n",
      "./data/20240228_154053_comp_om_subj_4-3_and_4-4/20240228_154053_comp_om_subj_4-3_and_4-4.1.corner.h5\n",
      "./data/20240228_154053_comp_om_subj_4-3_and_4-4/20240228_154053_comp_om_subj_4-3_and_4-4.1.corner.h5\n",
      "./data/20240229_152936_comp_om_subj_3-3_and_3-4/20240229_152936_comp_om_subj_3-3_and_3-4.1.corner.h5\n",
      "./data/20240229_152936_comp_om_subj_3-3_and_3-4/20240229_152936_comp_om_subj_3-3_and_3-4.1.corner.h5\n",
      "./data/20240317_105929_comp_om_subj_5-3_and_5-4/20240317_105929_comp_om_subj_5-3_and_5-4.1.corner.h5\n",
      "./data/20240317_105929_comp_om_subj_5-3_and_5-4/20240317_105929_comp_om_subj_5-3_and_5-4.1.corner.h5\n",
      "./data/20240318_115841_comp_om_subj_5-2_and_5-3/20240318_115841_comp_om_subj_5-2_and_5-3.1.corner.h5\n",
      "./data/20240318_115841_comp_om_subj_5-2_and_5-3/20240318_115841_comp_om_subj_5-2_and_5-3.1.corner.h5\n",
      "./data/20240319_111204_comp_om_subj_5-2_and_5-4/20240319_111204_comp_om_subj_5-2_and_5-4.1.corner.h5\n",
      "./data/20240319_111204_comp_om_subj_5-2_and_5-4/20240319_111204_comp_om_subj_5-2_and_5-4.1.corner.h5\n",
      "./data/20240325_125522_comp_om_subj_3-1_and_3-4/20240325_125522_comp_om_subj_3-1_and_3-4.1.corner.h5\n",
      "./data/20240325_125522_comp_om_subj_3-1_and_3-4/20240325_125522_comp_om_subj_3-1_and_3-4.1.corner.h5\n",
      "./data/20240325_150329_comp_om_subj_4-2_and_4-4/20240325_150329_comp_om_subj_4-2_and_4-4.1.corner.h5\n",
      "./data/20240325_150329_comp_om_subj_4-2_and_4-4/20240325_150329_comp_om_subj_4-2_and_4-4.1.corner.h5\n"
     ]
    }
   ],
   "source": [
    "for path in START_STOP_FRAME_DF[\"corner_path\"]:\n",
    "    print(path)"
   ]
  },
  {
   "cell_type": "code",
   "execution_count": 82,
   "metadata": {},
   "outputs": [
    {
     "data": {
      "text/plain": [
       "'./data/20230612_112630_standard_comp_to_training_D1_subj_1-2_and_1-1/20230612_112630_standard_comp_to_training_D1_subj_1-2_and_1-1.1.corner.h5'"
      ]
     },
     "execution_count": 82,
     "metadata": {},
     "output_type": "execute_result"
    }
   ],
   "source": [
    "START_STOP_FRAME_DF[\"corner_path\"].iloc[0]"
   ]
  },
  {
   "cell_type": "code",
   "execution_count": 83,
   "metadata": {},
   "outputs": [],
   "source": [
    "# Getting the indexes of each corner location\n",
    "START_STOP_FRAME_DF[\"corner_parts\"] = START_STOP_FRAME_DF[\"corner_path\"].apply(lambda x: sleap.process_pose.get_node_names_from_sleap(x))"
   ]
  },
  {
   "cell_type": "code",
   "execution_count": 84,
   "metadata": {},
   "outputs": [
    {
     "data": {
      "text/plain": [
       "0     [box_top_left, box_top_right, reward_port, box...\n",
       "1     [box_top_left, box_top_right, reward_port, box...\n",
       "2     [box_top_left, box_top_right, reward_port, box...\n",
       "3     [box_bottom_left, box_top_right, reward_port, ...\n",
       "4     [box_bottom_left, box_top_right, reward_port, ...\n",
       "5     [box_bottom_left, box_top_right, reward_port, ...\n",
       "6     [box_bottom_left, box_top_right, reward_port, ...\n",
       "7     [box_bottom_left, box_top_right, reward_port, ...\n",
       "8     [box_bottom_left, box_top_right, reward_port, ...\n",
       "9     [box_bottom_left, box_top_right, reward_port, ...\n",
       "10    [box_bottom_left, box_top_right, reward_port, ...\n",
       "11    [box_bottom_left, box_top_right, reward_port, ...\n",
       "12    [box_top_left, box_bottom_right, box_bottom_le...\n",
       "13    [box_top_left, box_bottom_right, box_bottom_le...\n",
       "14    [box_top_left, box_bottom_right, box_bottom_le...\n",
       "15    [reward_port, box_top_left, box_bottom_right, ...\n",
       "16    [reward_port, box_top_left, box_bottom_right, ...\n",
       "17    [reward_port, box_top_left, box_bottom_right, ...\n",
       "18    [box_bottom_right, reward_port, box_top_right,...\n",
       "19    [box_bottom_right, reward_port, box_top_right,...\n",
       "20    [box_bottom_right, reward_port, box_top_right,...\n",
       "21    [box_bottom_right, reward_port, box_top_left, ...\n",
       "22    [box_bottom_right, reward_port, box_top_left, ...\n",
       "23    [box_top_right, box_bottom_right, box_top_left...\n",
       "24    [box_top_right, box_bottom_right, box_top_left...\n",
       "25    [box_top_right, box_bottom_right, box_top_left...\n",
       "26    [box_top_right, box_bottom_right, box_top_left...\n",
       "27    [box_top_right, box_bottom_right, box_top_left...\n",
       "28    [box_top_right, box_bottom_right, box_top_left...\n",
       "29    [box_top_right, box_bottom_right, box_top_left...\n",
       "30    [box_top_right, box_bottom_right, box_top_left...\n",
       "31    [box_top_right, box_bottom_right, box_top_left...\n",
       "32    [box_top_right, box_bottom_right, box_top_left...\n",
       "33    [box_top_right, box_bottom_right, box_top_left...\n",
       "34    [box_top_right, box_bottom_right, box_top_left...\n",
       "35    [box_top_right, box_bottom_right, box_top_left...\n",
       "36    [box_top_right, box_bottom_right, box_top_left...\n",
       "37    [box_top_right, box_bottom_right, box_top_left...\n",
       "38    [box_top_right, box_bottom_right, box_top_left...\n",
       "39    [box_top_right, box_bottom_right, box_top_left...\n",
       "40    [box_top_right, box_bottom_right, box_top_left...\n",
       "41    [box_top_right, box_bottom_right, box_top_left...\n",
       "42    [box_top_right, box_bottom_right, box_top_left...\n",
       "43    [box_top_right, box_bottom_right, box_top_left...\n",
       "44    [box_top_right, box_bottom_right, box_top_left...\n",
       "45    [box_top_right, box_bottom_right, box_top_left...\n",
       "46    [box_top_right, box_bottom_right, box_top_left...\n",
       "47    [box_top_right, box_bottom_right, box_top_left...\n",
       "48    [box_top_right, box_bottom_right, box_top_left...\n",
       "49    [box_top_right, box_bottom_right, box_top_left...\n",
       "50    [box_top_right, box_bottom_right, box_top_left...\n",
       "51    [box_top_right, box_bottom_right, box_top_left...\n",
       "52    [box_top_right, box_bottom_right, box_top_left...\n",
       "Name: corner_parts, dtype: object"
      ]
     },
     "execution_count": 84,
     "metadata": {},
     "output_type": "execute_result"
    }
   ],
   "source": [
    "START_STOP_FRAME_DF[\"corner_parts\"]"
   ]
  },
  {
   "cell_type": "code",
   "execution_count": 85,
   "metadata": {
    "tags": []
   },
   "outputs": [],
   "source": [
    "# TODO: Remove this once corner files are fixed\n",
    "START_STOP_FRAME_DF = START_STOP_FRAME_DF[START_STOP_FRAME_DF[\"corner_parts\"].apply(lambda x: \"reward_port\" in x)]"
   ]
  },
  {
   "cell_type": "code",
   "execution_count": 86,
   "metadata": {},
   "outputs": [],
   "source": [
    "# Getting the coordinates of all the corners\n",
    "START_STOP_FRAME_DF[\"corner_to_coordinate\"] = START_STOP_FRAME_DF[\"corner_path\"].apply(lambda x: sleap.process_pose.get_sleap_tracks_from_h5(x))"
   ]
  },
  {
   "cell_type": "code",
   "execution_count": 87,
   "metadata": {},
   "outputs": [],
   "source": [
    "# Parsing out each corner and creating a dictionary of name to coordinates\n",
    "START_STOP_FRAME_DF[\"corner_to_coordinate\"] = START_STOP_FRAME_DF.apply(lambda x: {part: x[\"corner_to_coordinate\"][:,index,:,:] for index, part in enumerate(x[\"corner_parts\"])}, axis=1)"
   ]
  },
  {
   "cell_type": "code",
   "execution_count": 88,
   "metadata": {
    "tags": []
   },
   "outputs": [
    {
     "data": {
      "text/plain": [
       "0     {'box_top_left': [[[nan], [nan]], [[nan], [nan...\n",
       "1     {'box_top_left': [[[nan], [nan]], [[nan], [nan...\n",
       "2     {'box_top_left': [[[nan], [nan]], [[nan], [nan...\n",
       "3     {'box_bottom_left': [[[219.49634883], [382.936...\n",
       "4     {'box_bottom_left': [[[219.49634883], [382.936...\n",
       "5     {'box_bottom_left': [[[219.49634883], [382.936...\n",
       "6     {'box_bottom_left': [[[218.76658435], [382.320...\n",
       "7     {'box_bottom_left': [[[218.76658435], [382.320...\n",
       "8     {'box_bottom_left': [[[218.76658435], [382.320...\n",
       "9     {'box_bottom_left': [[[220.39193729], [383.559...\n",
       "10    {'box_bottom_left': [[[220.39193729], [383.559...\n",
       "11    {'box_bottom_left': [[[220.39193729], [383.559...\n",
       "12    {'box_top_left': [[[nan], [nan]], [[nan], [nan...\n",
       "13    {'box_top_left': [[[nan], [nan]], [[nan], [nan...\n",
       "14    {'box_top_left': [[[nan], [nan]], [[nan], [nan...\n",
       "15    {'reward_port': [[[nan], [nan]], [[nan], [nan]...\n",
       "16    {'reward_port': [[[nan], [nan]], [[nan], [nan]...\n",
       "17    {'reward_port': [[[nan], [nan]], [[nan], [nan]...\n",
       "18    {'box_bottom_right': [[[429.48488242], [381.87...\n",
       "19    {'box_bottom_right': [[[429.48488242], [381.87...\n",
       "20    {'box_bottom_right': [[[429.48488242], [381.87...\n",
       "21    {'box_bottom_right': [[[808.46932083], [574.68...\n",
       "22    {'box_bottom_right': [[[808.46932083], [574.68...\n",
       "23    {'box_top_right': [[[786.93568988], [138.79375...\n",
       "24    {'box_top_right': [[[786.93568988], [138.79375...\n",
       "25    {'box_top_right': [[[794.99204066], [146.36912...\n",
       "26    {'box_top_right': [[[794.99204066], [146.36912...\n",
       "27    {'box_top_right': [[[791.77604498], [147.79694...\n",
       "28    {'box_top_right': [[[791.77604498], [147.79694...\n",
       "29    {'box_top_right': [[[798.31429824], [143.32778...\n",
       "30    {'box_top_right': [[[798.31429824], [143.32778...\n",
       "31    {'box_top_right': [[[797.85866946], [146.93354...\n",
       "32    {'box_top_right': [[[797.85866946], [146.93354...\n",
       "33    {'box_top_right': [[[798.1168476], [144.988990...\n",
       "34    {'box_top_right': [[[798.1168476], [144.988990...\n",
       "35    {'box_top_right': [[[790.1396888], [176.520511...\n",
       "36    {'box_top_right': [[[790.1396888], [176.520511...\n",
       "37    {'box_top_right': [[[792.46910342], [186.01412...\n",
       "38    {'box_top_right': [[[792.46910342], [186.01412...\n",
       "39    {'box_top_right': [[[793.80001901], [177.40757...\n",
       "40    {'box_top_right': [[[793.80001901], [177.40757...\n",
       "41    {'box_top_right': [[[793.82851341], [170.03486...\n",
       "42    {'box_top_right': [[[793.82851341], [170.03486...\n",
       "43    {'box_top_right': [[[789.70022995], [175.29600...\n",
       "44    {'box_top_right': [[[789.70022995], [175.29600...\n",
       "45    {'box_top_right': [[[788.69781221], [172.48372...\n",
       "46    {'box_top_right': [[[788.69781221], [172.48372...\n",
       "47    {'box_top_right': [[[808.88741044], [174.19419...\n",
       "48    {'box_top_right': [[[808.88741044], [174.19419...\n",
       "49    {'box_top_right': [[[794.94313168], [142.80035...\n",
       "50    {'box_top_right': [[[794.94313168], [142.80035...\n",
       "51    {'box_top_right': [[[800.17214397], [149.29454...\n",
       "52    {'box_top_right': [[[800.17214397], [149.29454...\n",
       "Name: corner_to_coordinate, dtype: object"
      ]
     },
     "execution_count": 88,
     "metadata": {},
     "output_type": "execute_result"
    }
   ],
   "source": [
    "START_STOP_FRAME_DF[\"corner_to_coordinate\"]"
   ]
  },
  {
   "cell_type": "code",
   "execution_count": 89,
   "metadata": {},
   "outputs": [],
   "source": [
    "# Filtering out all the Nans because there's only one labeled frame\n",
    "START_STOP_FRAME_DF[\"corner_to_coordinate\"] = START_STOP_FRAME_DF.apply(lambda x: {k: v[~np.isnan(v)][:2] for k, v in x[\"corner_to_coordinate\"].items()}, axis=1)"
   ]
  },
  {
   "cell_type": "code",
   "execution_count": 90,
   "metadata": {},
   "outputs": [
    {
     "data": {
      "text/plain": [
       "0     {'box_top_left': [215.09666220678088, 113.9234...\n",
       "1     {'box_top_left': [215.09666220678088, 113.9234...\n",
       "2     {'box_top_left': [215.09666220678088, 113.9234...\n",
       "3     {'box_bottom_left': [219.49634882813532, 382.9...\n",
       "4     {'box_bottom_left': [219.49634882813532, 382.9...\n",
       "5     {'box_bottom_left': [219.49634882813532, 382.9...\n",
       "6     {'box_bottom_left': [218.76658435012303, 382.3...\n",
       "7     {'box_bottom_left': [218.76658435012303, 382.3...\n",
       "8     {'box_bottom_left': [218.76658435012303, 382.3...\n",
       "9     {'box_bottom_left': [220.39193729003364, 383.5...\n",
       "10    {'box_bottom_left': [220.39193729003364, 383.5...\n",
       "11    {'box_bottom_left': [220.39193729003364, 383.5...\n",
       "12    {'box_top_left': [210.30936448661504, 125.0467...\n",
       "13    {'box_top_left': [210.30936448661504, 125.0467...\n",
       "14    {'box_top_left': [210.30936448661504, 125.0467...\n",
       "15    {'reward_port': [324.08885973592385, 405.86618...\n",
       "16    {'reward_port': [324.08885973592385, 405.86618...\n",
       "17    {'reward_port': [324.08885973592385, 405.86618...\n",
       "18    {'box_bottom_right': [429.48488241881296, 381....\n",
       "19    {'box_bottom_right': [429.48488241881296, 381....\n",
       "20    {'box_bottom_right': [429.48488241881296, 381....\n",
       "21    {'box_bottom_right': [808.4693208328993, 574.6...\n",
       "22    {'box_bottom_right': [808.4693208328993, 574.6...\n",
       "23    {'box_top_right': [786.9356898768796, 138.7937...\n",
       "24    {'box_top_right': [786.9356898768796, 138.7937...\n",
       "25    {'box_top_right': [794.9920406619647, 146.3691...\n",
       "26    {'box_top_right': [794.9920406619647, 146.3691...\n",
       "27    {'box_top_right': [791.7760449834286, 147.7969...\n",
       "28    {'box_top_right': [791.7760449834286, 147.7969...\n",
       "29    {'box_top_right': [798.3142982402522, 143.3277...\n",
       "30    {'box_top_right': [798.3142982402522, 143.3277...\n",
       "31    {'box_top_right': [797.8586694592238, 146.9335...\n",
       "32    {'box_top_right': [797.8586694592238, 146.9335...\n",
       "33    {'box_top_right': [798.1168475953126, 144.9889...\n",
       "34    {'box_top_right': [798.1168475953126, 144.9889...\n",
       "35    {'box_top_right': [790.1396887965034, 176.5205...\n",
       "36    {'box_top_right': [790.1396887965034, 176.5205...\n",
       "37    {'box_top_right': [792.469103416743, 186.01412...\n",
       "38    {'box_top_right': [792.469103416743, 186.01412...\n",
       "39    {'box_top_right': [793.8000190129115, 177.4075...\n",
       "40    {'box_top_right': [793.8000190129115, 177.4075...\n",
       "41    {'box_top_right': [793.828513413661, 170.03486...\n",
       "42    {'box_top_right': [793.828513413661, 170.03486...\n",
       "43    {'box_top_right': [789.7002299497816, 175.2960...\n",
       "44    {'box_top_right': [789.7002299497816, 175.2960...\n",
       "45    {'box_top_right': [788.6978122070838, 172.4837...\n",
       "46    {'box_top_right': [788.6978122070838, 172.4837...\n",
       "47    {'box_top_right': [808.8874104404782, 174.1941...\n",
       "48    {'box_top_right': [808.8874104404782, 174.1941...\n",
       "49    {'box_top_right': [794.9431316763704, 142.8003...\n",
       "50    {'box_top_right': [794.9431316763704, 142.8003...\n",
       "51    {'box_top_right': [800.1721439749609, 149.2945...\n",
       "52    {'box_top_right': [800.1721439749609, 149.2945...\n",
       "Name: corner_to_coordinate, dtype: object"
      ]
     },
     "execution_count": 90,
     "metadata": {},
     "output_type": "execute_result"
    }
   ],
   "source": [
    "START_STOP_FRAME_DF[\"corner_to_coordinate\"]"
   ]
  },
  {
   "cell_type": "markdown",
   "metadata": {},
   "source": [
    "# Getting the distances between corners"
   ]
  },
  {
   "cell_type": "markdown",
   "metadata": {},
   "source": [
    "- Getting the average width and height so that we can convert pixels to cm"
   ]
  },
  {
   "cell_type": "code",
   "execution_count": 91,
   "metadata": {},
   "outputs": [],
   "source": [
    "# Using the x-coordinates for the width\n",
    "START_STOP_FRAME_DF[\"bottom_width\"] = START_STOP_FRAME_DF[\"corner_to_coordinate\"].apply(lambda x: x[\"box_bottom_right\"][0] - x[\"box_bottom_left\"][0])\n",
    "START_STOP_FRAME_DF[\"top_width\"] = START_STOP_FRAME_DF[\"corner_to_coordinate\"].apply(lambda x: x[\"box_top_right\"][0] - x[\"box_top_left\"][0])\n"
   ]
  },
  {
   "cell_type": "code",
   "execution_count": 92,
   "metadata": {},
   "outputs": [],
   "source": [
    "# Using the y-coordinates for the height\n",
    "START_STOP_FRAME_DF[\"right_height\"] = START_STOP_FRAME_DF[\"corner_to_coordinate\"].apply(lambda x: x[\"box_bottom_right\"][1] - x[\"box_top_right\"][1])\n",
    "START_STOP_FRAME_DF[\"left_height\"] = START_STOP_FRAME_DF[\"corner_to_coordinate\"].apply(lambda x: x[\"box_bottom_left\"][1] - x[\"box_top_left\"][1])\n"
   ]
  },
  {
   "cell_type": "code",
   "execution_count": 93,
   "metadata": {},
   "outputs": [],
   "source": [
    "# averaging the width and height by adding both sides and then getting the mean\n",
    "START_STOP_FRAME_DF[\"average_height\"] = START_STOP_FRAME_DF.apply(lambda row: (row[\"right_height\"] + row[\"left_height\"])/2, axis=1)\n",
    "START_STOP_FRAME_DF[\"average_width\"] = START_STOP_FRAME_DF.apply(lambda row: (row[\"bottom_width\"] + row[\"top_width\"])/2, axis=1)"
   ]
  },
  {
   "cell_type": "markdown",
   "metadata": {},
   "source": [
    "- Getthing the pixel to cm ratio"
   ]
  },
  {
   "cell_type": "code",
   "execution_count": 94,
   "metadata": {},
   "outputs": [],
   "source": [
    "START_STOP_FRAME_DF[\"width_ratio\"] = MED_PC_WIDTH / START_STOP_FRAME_DF[\"average_width\"]\n",
    "START_STOP_FRAME_DF[\"height_ratio\"] = MED_PC_HEIGHT / START_STOP_FRAME_DF[\"average_height\"]"
   ]
  },
  {
   "cell_type": "code",
   "execution_count": 95,
   "metadata": {},
   "outputs": [
    {
     "data": {
      "text/plain": [
       "0     0.089984\n",
       "1     0.089984\n",
       "2     0.089984\n",
       "3     0.091180\n",
       "4     0.091180\n",
       "5     0.091180\n",
       "6     0.091993\n",
       "7     0.091993\n",
       "8     0.091993\n",
       "9     0.090895\n",
       "10    0.090895\n",
       "11    0.090895\n",
       "12    0.092440\n",
       "13    0.092440\n",
       "14    0.092440\n",
       "15    0.090034\n",
       "16    0.090034\n",
       "17    0.090034\n",
       "18    0.091223\n",
       "19    0.091223\n",
       "20    0.091223\n",
       "21    0.061260\n",
       "22    0.061260\n",
       "23    0.061209\n",
       "24    0.061209\n",
       "25    0.060985\n",
       "26    0.060985\n",
       "27    0.060953\n",
       "28    0.060953\n",
       "29    0.060977\n",
       "30    0.060977\n",
       "31    0.061329\n",
       "32    0.061329\n",
       "33    0.060046\n",
       "34    0.060046\n",
       "35    0.061892\n",
       "36    0.061892\n",
       "37    0.061611\n",
       "38    0.061611\n",
       "39    0.059909\n",
       "40    0.059909\n",
       "41    0.060891\n",
       "42    0.060891\n",
       "43    0.060740\n",
       "44    0.060740\n",
       "45    0.061181\n",
       "46    0.061181\n",
       "47    0.060675\n",
       "48    0.060675\n",
       "49    0.060079\n",
       "50    0.060079\n",
       "51    0.061077\n",
       "52    0.061077\n",
       "Name: height_ratio, dtype: float64"
      ]
     },
     "execution_count": 95,
     "metadata": {},
     "output_type": "execute_result"
    }
   ],
   "source": [
    "START_STOP_FRAME_DF[\"height_ratio\"]"
   ]
  },
  {
   "cell_type": "markdown",
   "metadata": {},
   "source": [
    "## Converting Pixels to cm"
   ]
  },
  {
   "cell_type": "code",
   "execution_count": 96,
   "metadata": {
    "tags": []
   },
   "outputs": [],
   "source": [
    "START_STOP_FRAME_DF[\"in_video_subjects\"] = START_STOP_FRAME_DF[\"in_video_subjects\"].apply(lambda x: x.split(\"_\"))"
   ]
  },
  {
   "cell_type": "code",
   "execution_count": 97,
   "metadata": {
    "tags": []
   },
   "outputs": [],
   "source": [
    "START_STOP_FRAME_DF[\"subject_to_tracks\"] = START_STOP_FRAME_DF.apply(lambda x: {k: v for k, v in x[\"subject_to_tracks\"].items() if k in x[\"in_video_subjects\"]}, axis=1)"
   ]
  },
  {
   "cell_type": "markdown",
   "metadata": {},
   "source": [
    "- Converting the X-dimension"
   ]
  },
  {
   "cell_type": "code",
   "execution_count": 98,
   "metadata": {},
   "outputs": [
    {
     "data": {
      "text/plain": [
       "0    {'1.2': [[[335.84069824 128.25213623], [300.47...\n",
       "1    {'1.1': [[[243.57579041 396.37969971], [247.22...\n",
       "2    {'1.1': [[[243.57579041 396.37969971], [247.22...\n",
       "3    {'1.1': [[[339.77365112 400.29354858], [316.26...\n",
       "4    {'1.1': [[[339.77365112 400.29354858], [316.26...\n",
       "Name: subject_to_tracks, dtype: object"
      ]
     },
     "execution_count": 98,
     "metadata": {},
     "output_type": "execute_result"
    }
   ],
   "source": [
    "START_STOP_FRAME_DF[\"subject_to_tracks\"].head()"
   ]
  },
  {
   "cell_type": "code",
   "execution_count": 99,
   "metadata": {},
   "outputs": [],
   "source": [
    "START_STOP_FRAME_DF[\"rescaled_locations\"] = START_STOP_FRAME_DF.apply(lambda x: {key: sleap.process_pose.fill_missing(sleap.process_pose.rescale_dimension_in_array(value, dimension=0, ratio=x[\"width_ratio\"])) for key, value in x[\"subject_to_tracks\"].items()}, axis=1)"
   ]
  },
  {
   "cell_type": "markdown",
   "metadata": {},
   "source": [
    "- Converting the Y-dimension"
   ]
  },
  {
   "cell_type": "code",
   "execution_count": 100,
   "metadata": {},
   "outputs": [],
   "source": [
    "START_STOP_FRAME_DF[\"rescaled_locations\"] = START_STOP_FRAME_DF.apply(lambda x: {key: sleap.process_pose.rescale_dimension_in_array(value, dimension=1, ratio=x[\"height_ratio\"]) for key, value in x[\"rescaled_locations\"].items()}, axis=1)"
   ]
  },
  {
   "cell_type": "code",
   "execution_count": 101,
   "metadata": {},
   "outputs": [
    {
     "data": {
      "text/plain": [
       "0     {'box_top_left': [215.09666220678088, 113.9234...\n",
       "1     {'box_top_left': [215.09666220678088, 113.9234...\n",
       "2     {'box_top_left': [215.09666220678088, 113.9234...\n",
       "3     {'box_bottom_left': [219.49634882813532, 382.9...\n",
       "4     {'box_bottom_left': [219.49634882813532, 382.9...\n",
       "5     {'box_bottom_left': [219.49634882813532, 382.9...\n",
       "6     {'box_bottom_left': [218.76658435012303, 382.3...\n",
       "7     {'box_bottom_left': [218.76658435012303, 382.3...\n",
       "8     {'box_bottom_left': [218.76658435012303, 382.3...\n",
       "9     {'box_bottom_left': [220.39193729003364, 383.5...\n",
       "10    {'box_bottom_left': [220.39193729003364, 383.5...\n",
       "11    {'box_bottom_left': [220.39193729003364, 383.5...\n",
       "12    {'box_top_left': [210.30936448661504, 125.0467...\n",
       "13    {'box_top_left': [210.30936448661504, 125.0467...\n",
       "14    {'box_top_left': [210.30936448661504, 125.0467...\n",
       "15    {'reward_port': [324.08885973592385, 405.86618...\n",
       "16    {'reward_port': [324.08885973592385, 405.86618...\n",
       "17    {'reward_port': [324.08885973592385, 405.86618...\n",
       "18    {'box_bottom_right': [429.48488241881296, 381....\n",
       "19    {'box_bottom_right': [429.48488241881296, 381....\n",
       "20    {'box_bottom_right': [429.48488241881296, 381....\n",
       "21    {'box_bottom_right': [808.4693208328993, 574.6...\n",
       "22    {'box_bottom_right': [808.4693208328993, 574.6...\n",
       "23    {'box_top_right': [786.9356898768796, 138.7937...\n",
       "24    {'box_top_right': [786.9356898768796, 138.7937...\n",
       "25    {'box_top_right': [794.9920406619647, 146.3691...\n",
       "26    {'box_top_right': [794.9920406619647, 146.3691...\n",
       "27    {'box_top_right': [791.7760449834286, 147.7969...\n",
       "28    {'box_top_right': [791.7760449834286, 147.7969...\n",
       "29    {'box_top_right': [798.3142982402522, 143.3277...\n",
       "30    {'box_top_right': [798.3142982402522, 143.3277...\n",
       "31    {'box_top_right': [797.8586694592238, 146.9335...\n",
       "32    {'box_top_right': [797.8586694592238, 146.9335...\n",
       "33    {'box_top_right': [798.1168475953126, 144.9889...\n",
       "34    {'box_top_right': [798.1168475953126, 144.9889...\n",
       "35    {'box_top_right': [790.1396887965034, 176.5205...\n",
       "36    {'box_top_right': [790.1396887965034, 176.5205...\n",
       "37    {'box_top_right': [792.469103416743, 186.01412...\n",
       "38    {'box_top_right': [792.469103416743, 186.01412...\n",
       "39    {'box_top_right': [793.8000190129115, 177.4075...\n",
       "40    {'box_top_right': [793.8000190129115, 177.4075...\n",
       "41    {'box_top_right': [793.828513413661, 170.03486...\n",
       "42    {'box_top_right': [793.828513413661, 170.03486...\n",
       "43    {'box_top_right': [789.7002299497816, 175.2960...\n",
       "44    {'box_top_right': [789.7002299497816, 175.2960...\n",
       "45    {'box_top_right': [788.6978122070838, 172.4837...\n",
       "46    {'box_top_right': [788.6978122070838, 172.4837...\n",
       "47    {'box_top_right': [808.8874104404782, 174.1941...\n",
       "48    {'box_top_right': [808.8874104404782, 174.1941...\n",
       "49    {'box_top_right': [794.9431316763704, 142.8003...\n",
       "50    {'box_top_right': [794.9431316763704, 142.8003...\n",
       "51    {'box_top_right': [800.1721439749609, 149.2945...\n",
       "52    {'box_top_right': [800.1721439749609, 149.2945...\n",
       "Name: corner_to_coordinate, dtype: object"
      ]
     },
     "execution_count": 101,
     "metadata": {},
     "output_type": "execute_result"
    }
   ],
   "source": [
    "START_STOP_FRAME_DF[\"corner_to_coordinate\"]"
   ]
  },
  {
   "cell_type": "code",
   "execution_count": 102,
   "metadata": {},
   "outputs": [
    {
     "data": {
      "text/html": [
       "<div>\n",
       "<style scoped>\n",
       "    .dataframe tbody tr th:only-of-type {\n",
       "        vertical-align: middle;\n",
       "    }\n",
       "\n",
       "    .dataframe tbody tr th {\n",
       "        vertical-align: top;\n",
       "    }\n",
       "\n",
       "    .dataframe thead th {\n",
       "        text-align: right;\n",
       "    }\n",
       "</style>\n",
       "<table border=\"1\" class=\"dataframe\">\n",
       "  <thead>\n",
       "    <tr style=\"text-align: right;\">\n",
       "      <th></th>\n",
       "      <th>start_frame</th>\n",
       "      <th>stop_frame</th>\n",
       "      <th>tracked_subject</th>\n",
       "      <th>in_video_subjects</th>\n",
       "      <th>box_number</th>\n",
       "      <th>sleap_name</th>\n",
       "      <th>video_name</th>\n",
       "      <th>current_subject</th>\n",
       "      <th>sleap_glob</th>\n",
       "      <th>sleap_path</th>\n",
       "      <th>...</th>\n",
       "      <th>corner_to_coordinate</th>\n",
       "      <th>bottom_width</th>\n",
       "      <th>top_width</th>\n",
       "      <th>right_height</th>\n",
       "      <th>left_height</th>\n",
       "      <th>average_height</th>\n",
       "      <th>average_width</th>\n",
       "      <th>width_ratio</th>\n",
       "      <th>height_ratio</th>\n",
       "      <th>rescaled_locations</th>\n",
       "    </tr>\n",
       "  </thead>\n",
       "  <tbody>\n",
       "    <tr>\n",
       "      <th>0</th>\n",
       "      <td>32700</td>\n",
       "      <td>68257</td>\n",
       "      <td>[1.2]</td>\n",
       "      <td>[1.1, 1.2]</td>\n",
       "      <td>1</td>\n",
       "      <td>20230612_112630_standard_comp_to_training_D1_s...</td>\n",
       "      <td>20230612_112630_standard_comp_to_training_D1_s...</td>\n",
       "      <td>1.2</td>\n",
       "      <td>[./data/20230612_112630_standard_comp_to_train...</td>\n",
       "      <td>./data/20230612_112630_standard_comp_to_traini...</td>\n",
       "      <td>...</td>\n",
       "      <td>{'box_top_left': [215.09666220678088, 113.9234...</td>\n",
       "      <td>209.287764</td>\n",
       "      <td>210.248994</td>\n",
       "      <td>267.077370</td>\n",
       "      <td>266.353718</td>\n",
       "      <td>266.715544</td>\n",
       "      <td>209.768379</td>\n",
       "      <td>0.140631</td>\n",
       "      <td>0.089984</td>\n",
       "      <td>{'1.2': [[[47.22971434 11.54057699], [42.25662...</td>\n",
       "    </tr>\n",
       "    <tr>\n",
       "      <th>1</th>\n",
       "      <td>1</td>\n",
       "      <td>32300</td>\n",
       "      <td>[1.1, 1.2]</td>\n",
       "      <td>[1.1, 1.2]</td>\n",
       "      <td>1</td>\n",
       "      <td>20230612_112630_standard_comp_to_training_D1_s...</td>\n",
       "      <td>20230612_112630_standard_comp_to_training_D1_s...</td>\n",
       "      <td>1.1</td>\n",
       "      <td>[./data/20230612_112630_standard_comp_to_train...</td>\n",
       "      <td>./data/20230612_112630_standard_comp_to_traini...</td>\n",
       "      <td>...</td>\n",
       "      <td>{'box_top_left': [215.09666220678088, 113.9234...</td>\n",
       "      <td>209.287764</td>\n",
       "      <td>210.248994</td>\n",
       "      <td>267.077370</td>\n",
       "      <td>266.353718</td>\n",
       "      <td>266.715544</td>\n",
       "      <td>209.768379</td>\n",
       "      <td>0.140631</td>\n",
       "      <td>0.089984</td>\n",
       "      <td>{'1.1': [[[34.25438031 35.66763544], [34.76795...</td>\n",
       "    </tr>\n",
       "    <tr>\n",
       "      <th>2</th>\n",
       "      <td>1</td>\n",
       "      <td>32300</td>\n",
       "      <td>[1.1, 1.2]</td>\n",
       "      <td>[1.1, 1.2]</td>\n",
       "      <td>1</td>\n",
       "      <td>20230612_112630_standard_comp_to_training_D1_s...</td>\n",
       "      <td>20230612_112630_standard_comp_to_training_D1_s...</td>\n",
       "      <td>1.2</td>\n",
       "      <td>[./data/20230612_112630_standard_comp_to_train...</td>\n",
       "      <td>./data/20230612_112630_standard_comp_to_traini...</td>\n",
       "      <td>...</td>\n",
       "      <td>{'box_top_left': [215.09666220678088, 113.9234...</td>\n",
       "      <td>209.287764</td>\n",
       "      <td>210.248994</td>\n",
       "      <td>267.077370</td>\n",
       "      <td>266.353718</td>\n",
       "      <td>266.715544</td>\n",
       "      <td>209.768379</td>\n",
       "      <td>0.140631</td>\n",
       "      <td>0.089984</td>\n",
       "      <td>{'1.1': [[[34.25438031 35.66763544], [34.76795...</td>\n",
       "    </tr>\n",
       "    <tr>\n",
       "      <th>3</th>\n",
       "      <td>33400</td>\n",
       "      <td>68332</td>\n",
       "      <td>[1.1]</td>\n",
       "      <td>[1.1, 1.4]</td>\n",
       "      <td>1</td>\n",
       "      <td>20230613_105657_standard_comp_to_training_D2_s...</td>\n",
       "      <td>20230613_105657_standard_comp_to_training_D2_s...</td>\n",
       "      <td>1.1</td>\n",
       "      <td>[./data/20230613_105657_standard_comp_to_train...</td>\n",
       "      <td>./data/20230613_105657_standard_comp_to_traini...</td>\n",
       "      <td>...</td>\n",
       "      <td>{'box_bottom_left': [219.49634882813532, 382.9...</td>\n",
       "      <td>213.213618</td>\n",
       "      <td>211.523940</td>\n",
       "      <td>263.471488</td>\n",
       "      <td>262.958532</td>\n",
       "      <td>263.215010</td>\n",
       "      <td>212.368779</td>\n",
       "      <td>0.138909</td>\n",
       "      <td>0.091180</td>\n",
       "      <td>{'1.1': [[[47.19772262 36.49884996], [43.93209...</td>\n",
       "    </tr>\n",
       "    <tr>\n",
       "      <th>4</th>\n",
       "      <td>1</td>\n",
       "      <td>33000</td>\n",
       "      <td>[1.1, 1.4]</td>\n",
       "      <td>[1.1, 1.4]</td>\n",
       "      <td>1</td>\n",
       "      <td>20230613_105657_standard_comp_to_training_D2_s...</td>\n",
       "      <td>20230613_105657_standard_comp_to_training_D2_s...</td>\n",
       "      <td>1.1</td>\n",
       "      <td>[./data/20230613_105657_standard_comp_to_train...</td>\n",
       "      <td>./data/20230613_105657_standard_comp_to_traini...</td>\n",
       "      <td>...</td>\n",
       "      <td>{'box_bottom_left': [219.49634882813532, 382.9...</td>\n",
       "      <td>213.213618</td>\n",
       "      <td>211.523940</td>\n",
       "      <td>263.471488</td>\n",
       "      <td>262.958532</td>\n",
       "      <td>263.215010</td>\n",
       "      <td>212.368779</td>\n",
       "      <td>0.138909</td>\n",
       "      <td>0.091180</td>\n",
       "      <td>{'1.1': [[[47.19772262 36.49884996], [43.93209...</td>\n",
       "    </tr>\n",
       "  </tbody>\n",
       "</table>\n",
       "<p>5 rows × 28 columns</p>\n",
       "</div>"
      ],
      "text/plain": [
       "   start_frame  stop_frame tracked_subject in_video_subjects  box_number  \\\n",
       "0        32700       68257           [1.2]        [1.1, 1.2]           1   \n",
       "1            1       32300      [1.1, 1.2]        [1.1, 1.2]           1   \n",
       "2            1       32300      [1.1, 1.2]        [1.1, 1.2]           1   \n",
       "3        33400       68332           [1.1]        [1.1, 1.4]           1   \n",
       "4            1       33000      [1.1, 1.4]        [1.1, 1.4]           1   \n",
       "\n",
       "                                          sleap_name  \\\n",
       "0  20230612_112630_standard_comp_to_training_D1_s...   \n",
       "1  20230612_112630_standard_comp_to_training_D1_s...   \n",
       "2  20230612_112630_standard_comp_to_training_D1_s...   \n",
       "3  20230613_105657_standard_comp_to_training_D2_s...   \n",
       "4  20230613_105657_standard_comp_to_training_D2_s...   \n",
       "\n",
       "                                          video_name current_subject  \\\n",
       "0  20230612_112630_standard_comp_to_training_D1_s...             1.2   \n",
       "1  20230612_112630_standard_comp_to_training_D1_s...             1.1   \n",
       "2  20230612_112630_standard_comp_to_training_D1_s...             1.2   \n",
       "3  20230613_105657_standard_comp_to_training_D2_s...             1.1   \n",
       "4  20230613_105657_standard_comp_to_training_D2_s...             1.1   \n",
       "\n",
       "                                          sleap_glob  \\\n",
       "0  [./data/20230612_112630_standard_comp_to_train...   \n",
       "1  [./data/20230612_112630_standard_comp_to_train...   \n",
       "2  [./data/20230612_112630_standard_comp_to_train...   \n",
       "3  [./data/20230613_105657_standard_comp_to_train...   \n",
       "4  [./data/20230613_105657_standard_comp_to_train...   \n",
       "\n",
       "                                          sleap_path  ...  \\\n",
       "0  ./data/20230612_112630_standard_comp_to_traini...  ...   \n",
       "1  ./data/20230612_112630_standard_comp_to_traini...  ...   \n",
       "2  ./data/20230612_112630_standard_comp_to_traini...  ...   \n",
       "3  ./data/20230613_105657_standard_comp_to_traini...  ...   \n",
       "4  ./data/20230613_105657_standard_comp_to_traini...  ...   \n",
       "\n",
       "                                corner_to_coordinate bottom_width   top_width  \\\n",
       "0  {'box_top_left': [215.09666220678088, 113.9234...   209.287764  210.248994   \n",
       "1  {'box_top_left': [215.09666220678088, 113.9234...   209.287764  210.248994   \n",
       "2  {'box_top_left': [215.09666220678088, 113.9234...   209.287764  210.248994   \n",
       "3  {'box_bottom_left': [219.49634882813532, 382.9...   213.213618  211.523940   \n",
       "4  {'box_bottom_left': [219.49634882813532, 382.9...   213.213618  211.523940   \n",
       "\n",
       "  right_height left_height average_height average_width width_ratio  \\\n",
       "0   267.077370  266.353718     266.715544    209.768379    0.140631   \n",
       "1   267.077370  266.353718     266.715544    209.768379    0.140631   \n",
       "2   267.077370  266.353718     266.715544    209.768379    0.140631   \n",
       "3   263.471488  262.958532     263.215010    212.368779    0.138909   \n",
       "4   263.471488  262.958532     263.215010    212.368779    0.138909   \n",
       "\n",
       "  height_ratio                                 rescaled_locations  \n",
       "0     0.089984  {'1.2': [[[47.22971434 11.54057699], [42.25662...  \n",
       "1     0.089984  {'1.1': [[[34.25438031 35.66763544], [34.76795...  \n",
       "2     0.089984  {'1.1': [[[34.25438031 35.66763544], [34.76795...  \n",
       "3     0.091180  {'1.1': [[[47.19772262 36.49884996], [43.93209...  \n",
       "4     0.091180  {'1.1': [[[47.19772262 36.49884996], [43.93209...  \n",
       "\n",
       "[5 rows x 28 columns]"
      ]
     },
     "execution_count": 102,
     "metadata": {},
     "output_type": "execute_result"
    }
   ],
   "source": [
    "START_STOP_FRAME_DF.head()"
   ]
  },
  {
   "cell_type": "code",
   "execution_count": 103,
   "metadata": {},
   "outputs": [],
   "source": [
    "# Normalize dictionary column\n",
    "normalized = pd.json_normalize(START_STOP_FRAME_DF[\"corner_to_coordinate\"])"
   ]
  },
  {
   "cell_type": "code",
   "execution_count": 104,
   "metadata": {},
   "outputs": [
    {
     "data": {
      "text/html": [
       "<div>\n",
       "<style scoped>\n",
       "    .dataframe tbody tr th:only-of-type {\n",
       "        vertical-align: middle;\n",
       "    }\n",
       "\n",
       "    .dataframe tbody tr th {\n",
       "        vertical-align: top;\n",
       "    }\n",
       "\n",
       "    .dataframe thead th {\n",
       "        text-align: right;\n",
       "    }\n",
       "</style>\n",
       "<table border=\"1\" class=\"dataframe\">\n",
       "  <thead>\n",
       "    <tr style=\"text-align: right;\">\n",
       "      <th></th>\n",
       "      <th>box_top_left</th>\n",
       "      <th>box_top_right</th>\n",
       "      <th>reward_port</th>\n",
       "      <th>box_bottom_left</th>\n",
       "      <th>box_bottom_right</th>\n",
       "    </tr>\n",
       "  </thead>\n",
       "  <tbody>\n",
       "    <tr>\n",
       "      <th>0</th>\n",
       "      <td>[215.09666220678088, 113.92341627572542]</td>\n",
       "      <td>[425.345655727638, 112.2488439777975]</td>\n",
       "      <td>[321.6525529313325, 398.276176488323]</td>\n",
       "      <td>[216.58701461395228, 380.2771341993332]</td>\n",
       "      <td>[425.874778248961, 379.32621417226574]</td>\n",
       "    </tr>\n",
       "    <tr>\n",
       "      <th>1</th>\n",
       "      <td>[215.09666220678088, 113.92341627572542]</td>\n",
       "      <td>[425.345655727638, 112.2488439777975]</td>\n",
       "      <td>[321.6525529313325, 398.276176488323]</td>\n",
       "      <td>[216.58701461395228, 380.2771341993332]</td>\n",
       "      <td>[425.874778248961, 379.32621417226574]</td>\n",
       "    </tr>\n",
       "    <tr>\n",
       "      <th>2</th>\n",
       "      <td>[215.09666220678088, 113.92341627572542]</td>\n",
       "      <td>[425.345655727638, 112.2488439777975]</td>\n",
       "      <td>[321.6525529313325, 398.276176488323]</td>\n",
       "      <td>[216.58701461395228, 380.2771341993332]</td>\n",
       "      <td>[425.874778248961, 379.32621417226574]</td>\n",
       "    </tr>\n",
       "    <tr>\n",
       "      <th>3</th>\n",
       "      <td>[211.8445364825192, 119.97841708068698]</td>\n",
       "      <td>[423.3684762341395, 112.2997417613741]</td>\n",
       "      <td>[326.19769332642636, 399.0248601049142]</td>\n",
       "      <td>[219.49634882813532, 382.9369493804368]</td>\n",
       "      <td>[432.7099664053751, 375.77122988087467]</td>\n",
       "    </tr>\n",
       "    <tr>\n",
       "      <th>4</th>\n",
       "      <td>[211.8445364825192, 119.97841708068698]</td>\n",
       "      <td>[423.3684762341395, 112.2997417613741]</td>\n",
       "      <td>[326.19769332642636, 399.0248601049142]</td>\n",
       "      <td>[219.49634882813532, 382.9369493804368]</td>\n",
       "      <td>[432.7099664053751, 375.77122988087467]</td>\n",
       "    </tr>\n",
       "  </tbody>\n",
       "</table>\n",
       "</div>"
      ],
      "text/plain": [
       "                               box_top_left  \\\n",
       "0  [215.09666220678088, 113.92341627572542]   \n",
       "1  [215.09666220678088, 113.92341627572542]   \n",
       "2  [215.09666220678088, 113.92341627572542]   \n",
       "3   [211.8445364825192, 119.97841708068698]   \n",
       "4   [211.8445364825192, 119.97841708068698]   \n",
       "\n",
       "                            box_top_right  \\\n",
       "0   [425.345655727638, 112.2488439777975]   \n",
       "1   [425.345655727638, 112.2488439777975]   \n",
       "2   [425.345655727638, 112.2488439777975]   \n",
       "3  [423.3684762341395, 112.2997417613741]   \n",
       "4  [423.3684762341395, 112.2997417613741]   \n",
       "\n",
       "                               reward_port  \\\n",
       "0    [321.6525529313325, 398.276176488323]   \n",
       "1    [321.6525529313325, 398.276176488323]   \n",
       "2    [321.6525529313325, 398.276176488323]   \n",
       "3  [326.19769332642636, 399.0248601049142]   \n",
       "4  [326.19769332642636, 399.0248601049142]   \n",
       "\n",
       "                           box_bottom_left  \\\n",
       "0  [216.58701461395228, 380.2771341993332]   \n",
       "1  [216.58701461395228, 380.2771341993332]   \n",
       "2  [216.58701461395228, 380.2771341993332]   \n",
       "3  [219.49634882813532, 382.9369493804368]   \n",
       "4  [219.49634882813532, 382.9369493804368]   \n",
       "\n",
       "                          box_bottom_right  \n",
       "0   [425.874778248961, 379.32621417226574]  \n",
       "1   [425.874778248961, 379.32621417226574]  \n",
       "2   [425.874778248961, 379.32621417226574]  \n",
       "3  [432.7099664053751, 375.77122988087467]  \n",
       "4  [432.7099664053751, 375.77122988087467]  "
      ]
     },
     "execution_count": 104,
     "metadata": {},
     "output_type": "execute_result"
    }
   ],
   "source": [
    "normalized.head()"
   ]
  },
  {
   "cell_type": "code",
   "execution_count": 105,
   "metadata": {},
   "outputs": [],
   "source": [
    "\n",
    "\n",
    "# Drop the original column and concat the normalized DataFrame\n",
    "START_STOP_FRAME_DF = pd.concat([START_STOP_FRAME_DF.drop([\"corner_to_coordinate\"], axis=1), normalized], axis=1)\n"
   ]
  },
  {
   "cell_type": "code",
   "execution_count": 106,
   "metadata": {},
   "outputs": [
    {
     "data": {
      "text/html": [
       "<div>\n",
       "<style scoped>\n",
       "    .dataframe tbody tr th:only-of-type {\n",
       "        vertical-align: middle;\n",
       "    }\n",
       "\n",
       "    .dataframe tbody tr th {\n",
       "        vertical-align: top;\n",
       "    }\n",
       "\n",
       "    .dataframe thead th {\n",
       "        text-align: right;\n",
       "    }\n",
       "</style>\n",
       "<table border=\"1\" class=\"dataframe\">\n",
       "  <thead>\n",
       "    <tr style=\"text-align: right;\">\n",
       "      <th></th>\n",
       "      <th>start_frame</th>\n",
       "      <th>stop_frame</th>\n",
       "      <th>tracked_subject</th>\n",
       "      <th>in_video_subjects</th>\n",
       "      <th>box_number</th>\n",
       "      <th>sleap_name</th>\n",
       "      <th>video_name</th>\n",
       "      <th>current_subject</th>\n",
       "      <th>sleap_glob</th>\n",
       "      <th>sleap_path</th>\n",
       "      <th>...</th>\n",
       "      <th>average_height</th>\n",
       "      <th>average_width</th>\n",
       "      <th>width_ratio</th>\n",
       "      <th>height_ratio</th>\n",
       "      <th>rescaled_locations</th>\n",
       "      <th>box_top_left</th>\n",
       "      <th>box_top_right</th>\n",
       "      <th>reward_port</th>\n",
       "      <th>box_bottom_left</th>\n",
       "      <th>box_bottom_right</th>\n",
       "    </tr>\n",
       "  </thead>\n",
       "  <tbody>\n",
       "    <tr>\n",
       "      <th>0</th>\n",
       "      <td>32700</td>\n",
       "      <td>68257</td>\n",
       "      <td>[1.2]</td>\n",
       "      <td>[1.1, 1.2]</td>\n",
       "      <td>1</td>\n",
       "      <td>20230612_112630_standard_comp_to_training_D1_s...</td>\n",
       "      <td>20230612_112630_standard_comp_to_training_D1_s...</td>\n",
       "      <td>1.2</td>\n",
       "      <td>[./data/20230612_112630_standard_comp_to_train...</td>\n",
       "      <td>./data/20230612_112630_standard_comp_to_traini...</td>\n",
       "      <td>...</td>\n",
       "      <td>266.715544</td>\n",
       "      <td>209.768379</td>\n",
       "      <td>0.140631</td>\n",
       "      <td>0.089984</td>\n",
       "      <td>{'1.2': [[[47.22971434 11.54057699], [42.25662...</td>\n",
       "      <td>[215.09666220678088, 113.92341627572542]</td>\n",
       "      <td>[425.345655727638, 112.2488439777975]</td>\n",
       "      <td>[321.6525529313325, 398.276176488323]</td>\n",
       "      <td>[216.58701461395228, 380.2771341993332]</td>\n",
       "      <td>[425.874778248961, 379.32621417226574]</td>\n",
       "    </tr>\n",
       "    <tr>\n",
       "      <th>1</th>\n",
       "      <td>1</td>\n",
       "      <td>32300</td>\n",
       "      <td>[1.1, 1.2]</td>\n",
       "      <td>[1.1, 1.2]</td>\n",
       "      <td>1</td>\n",
       "      <td>20230612_112630_standard_comp_to_training_D1_s...</td>\n",
       "      <td>20230612_112630_standard_comp_to_training_D1_s...</td>\n",
       "      <td>1.1</td>\n",
       "      <td>[./data/20230612_112630_standard_comp_to_train...</td>\n",
       "      <td>./data/20230612_112630_standard_comp_to_traini...</td>\n",
       "      <td>...</td>\n",
       "      <td>266.715544</td>\n",
       "      <td>209.768379</td>\n",
       "      <td>0.140631</td>\n",
       "      <td>0.089984</td>\n",
       "      <td>{'1.1': [[[34.25438031 35.66763544], [34.76795...</td>\n",
       "      <td>[215.09666220678088, 113.92341627572542]</td>\n",
       "      <td>[425.345655727638, 112.2488439777975]</td>\n",
       "      <td>[321.6525529313325, 398.276176488323]</td>\n",
       "      <td>[216.58701461395228, 380.2771341993332]</td>\n",
       "      <td>[425.874778248961, 379.32621417226574]</td>\n",
       "    </tr>\n",
       "    <tr>\n",
       "      <th>2</th>\n",
       "      <td>1</td>\n",
       "      <td>32300</td>\n",
       "      <td>[1.1, 1.2]</td>\n",
       "      <td>[1.1, 1.2]</td>\n",
       "      <td>1</td>\n",
       "      <td>20230612_112630_standard_comp_to_training_D1_s...</td>\n",
       "      <td>20230612_112630_standard_comp_to_training_D1_s...</td>\n",
       "      <td>1.2</td>\n",
       "      <td>[./data/20230612_112630_standard_comp_to_train...</td>\n",
       "      <td>./data/20230612_112630_standard_comp_to_traini...</td>\n",
       "      <td>...</td>\n",
       "      <td>266.715544</td>\n",
       "      <td>209.768379</td>\n",
       "      <td>0.140631</td>\n",
       "      <td>0.089984</td>\n",
       "      <td>{'1.1': [[[34.25438031 35.66763544], [34.76795...</td>\n",
       "      <td>[215.09666220678088, 113.92341627572542]</td>\n",
       "      <td>[425.345655727638, 112.2488439777975]</td>\n",
       "      <td>[321.6525529313325, 398.276176488323]</td>\n",
       "      <td>[216.58701461395228, 380.2771341993332]</td>\n",
       "      <td>[425.874778248961, 379.32621417226574]</td>\n",
       "    </tr>\n",
       "    <tr>\n",
       "      <th>3</th>\n",
       "      <td>33400</td>\n",
       "      <td>68332</td>\n",
       "      <td>[1.1]</td>\n",
       "      <td>[1.1, 1.4]</td>\n",
       "      <td>1</td>\n",
       "      <td>20230613_105657_standard_comp_to_training_D2_s...</td>\n",
       "      <td>20230613_105657_standard_comp_to_training_D2_s...</td>\n",
       "      <td>1.1</td>\n",
       "      <td>[./data/20230613_105657_standard_comp_to_train...</td>\n",
       "      <td>./data/20230613_105657_standard_comp_to_traini...</td>\n",
       "      <td>...</td>\n",
       "      <td>263.215010</td>\n",
       "      <td>212.368779</td>\n",
       "      <td>0.138909</td>\n",
       "      <td>0.091180</td>\n",
       "      <td>{'1.1': [[[47.19772262 36.49884996], [43.93209...</td>\n",
       "      <td>[211.8445364825192, 119.97841708068698]</td>\n",
       "      <td>[423.3684762341395, 112.2997417613741]</td>\n",
       "      <td>[326.19769332642636, 399.0248601049142]</td>\n",
       "      <td>[219.49634882813532, 382.9369493804368]</td>\n",
       "      <td>[432.7099664053751, 375.77122988087467]</td>\n",
       "    </tr>\n",
       "    <tr>\n",
       "      <th>4</th>\n",
       "      <td>1</td>\n",
       "      <td>33000</td>\n",
       "      <td>[1.1, 1.4]</td>\n",
       "      <td>[1.1, 1.4]</td>\n",
       "      <td>1</td>\n",
       "      <td>20230613_105657_standard_comp_to_training_D2_s...</td>\n",
       "      <td>20230613_105657_standard_comp_to_training_D2_s...</td>\n",
       "      <td>1.1</td>\n",
       "      <td>[./data/20230613_105657_standard_comp_to_train...</td>\n",
       "      <td>./data/20230613_105657_standard_comp_to_traini...</td>\n",
       "      <td>...</td>\n",
       "      <td>263.215010</td>\n",
       "      <td>212.368779</td>\n",
       "      <td>0.138909</td>\n",
       "      <td>0.091180</td>\n",
       "      <td>{'1.1': [[[47.19772262 36.49884996], [43.93209...</td>\n",
       "      <td>[211.8445364825192, 119.97841708068698]</td>\n",
       "      <td>[423.3684762341395, 112.2997417613741]</td>\n",
       "      <td>[326.19769332642636, 399.0248601049142]</td>\n",
       "      <td>[219.49634882813532, 382.9369493804368]</td>\n",
       "      <td>[432.7099664053751, 375.77122988087467]</td>\n",
       "    </tr>\n",
       "  </tbody>\n",
       "</table>\n",
       "<p>5 rows × 32 columns</p>\n",
       "</div>"
      ],
      "text/plain": [
       "   start_frame  stop_frame tracked_subject in_video_subjects  box_number  \\\n",
       "0        32700       68257           [1.2]        [1.1, 1.2]           1   \n",
       "1            1       32300      [1.1, 1.2]        [1.1, 1.2]           1   \n",
       "2            1       32300      [1.1, 1.2]        [1.1, 1.2]           1   \n",
       "3        33400       68332           [1.1]        [1.1, 1.4]           1   \n",
       "4            1       33000      [1.1, 1.4]        [1.1, 1.4]           1   \n",
       "\n",
       "                                          sleap_name  \\\n",
       "0  20230612_112630_standard_comp_to_training_D1_s...   \n",
       "1  20230612_112630_standard_comp_to_training_D1_s...   \n",
       "2  20230612_112630_standard_comp_to_training_D1_s...   \n",
       "3  20230613_105657_standard_comp_to_training_D2_s...   \n",
       "4  20230613_105657_standard_comp_to_training_D2_s...   \n",
       "\n",
       "                                          video_name current_subject  \\\n",
       "0  20230612_112630_standard_comp_to_training_D1_s...             1.2   \n",
       "1  20230612_112630_standard_comp_to_training_D1_s...             1.1   \n",
       "2  20230612_112630_standard_comp_to_training_D1_s...             1.2   \n",
       "3  20230613_105657_standard_comp_to_training_D2_s...             1.1   \n",
       "4  20230613_105657_standard_comp_to_training_D2_s...             1.1   \n",
       "\n",
       "                                          sleap_glob  \\\n",
       "0  [./data/20230612_112630_standard_comp_to_train...   \n",
       "1  [./data/20230612_112630_standard_comp_to_train...   \n",
       "2  [./data/20230612_112630_standard_comp_to_train...   \n",
       "3  [./data/20230613_105657_standard_comp_to_train...   \n",
       "4  [./data/20230613_105657_standard_comp_to_train...   \n",
       "\n",
       "                                          sleap_path  ... average_height  \\\n",
       "0  ./data/20230612_112630_standard_comp_to_traini...  ...     266.715544   \n",
       "1  ./data/20230612_112630_standard_comp_to_traini...  ...     266.715544   \n",
       "2  ./data/20230612_112630_standard_comp_to_traini...  ...     266.715544   \n",
       "3  ./data/20230613_105657_standard_comp_to_traini...  ...     263.215010   \n",
       "4  ./data/20230613_105657_standard_comp_to_traini...  ...     263.215010   \n",
       "\n",
       "  average_width width_ratio height_ratio  \\\n",
       "0    209.768379    0.140631     0.089984   \n",
       "1    209.768379    0.140631     0.089984   \n",
       "2    209.768379    0.140631     0.089984   \n",
       "3    212.368779    0.138909     0.091180   \n",
       "4    212.368779    0.138909     0.091180   \n",
       "\n",
       "                                  rescaled_locations  \\\n",
       "0  {'1.2': [[[47.22971434 11.54057699], [42.25662...   \n",
       "1  {'1.1': [[[34.25438031 35.66763544], [34.76795...   \n",
       "2  {'1.1': [[[34.25438031 35.66763544], [34.76795...   \n",
       "3  {'1.1': [[[47.19772262 36.49884996], [43.93209...   \n",
       "4  {'1.1': [[[47.19772262 36.49884996], [43.93209...   \n",
       "\n",
       "                               box_top_left  \\\n",
       "0  [215.09666220678088, 113.92341627572542]   \n",
       "1  [215.09666220678088, 113.92341627572542]   \n",
       "2  [215.09666220678088, 113.92341627572542]   \n",
       "3   [211.8445364825192, 119.97841708068698]   \n",
       "4   [211.8445364825192, 119.97841708068698]   \n",
       "\n",
       "                            box_top_right  \\\n",
       "0   [425.345655727638, 112.2488439777975]   \n",
       "1   [425.345655727638, 112.2488439777975]   \n",
       "2   [425.345655727638, 112.2488439777975]   \n",
       "3  [423.3684762341395, 112.2997417613741]   \n",
       "4  [423.3684762341395, 112.2997417613741]   \n",
       "\n",
       "                               reward_port  \\\n",
       "0    [321.6525529313325, 398.276176488323]   \n",
       "1    [321.6525529313325, 398.276176488323]   \n",
       "2    [321.6525529313325, 398.276176488323]   \n",
       "3  [326.19769332642636, 399.0248601049142]   \n",
       "4  [326.19769332642636, 399.0248601049142]   \n",
       "\n",
       "                           box_bottom_left  \\\n",
       "0  [216.58701461395228, 380.2771341993332]   \n",
       "1  [216.58701461395228, 380.2771341993332]   \n",
       "2  [216.58701461395228, 380.2771341993332]   \n",
       "3  [219.49634882813532, 382.9369493804368]   \n",
       "4  [219.49634882813532, 382.9369493804368]   \n",
       "\n",
       "                          box_bottom_right  \n",
       "0   [425.874778248961, 379.32621417226574]  \n",
       "1   [425.874778248961, 379.32621417226574]  \n",
       "2   [425.874778248961, 379.32621417226574]  \n",
       "3  [432.7099664053751, 375.77122988087467]  \n",
       "4  [432.7099664053751, 375.77122988087467]  \n",
       "\n",
       "[5 rows x 32 columns]"
      ]
     },
     "execution_count": 106,
     "metadata": {},
     "output_type": "execute_result"
    }
   ],
   "source": [
    "START_STOP_FRAME_DF.head()"
   ]
  },
  {
   "cell_type": "code",
   "execution_count": 107,
   "metadata": {
    "tags": []
   },
   "outputs": [],
   "source": [
    "START_STOP_FRAME_DF = START_STOP_FRAME_DF.dropna(subset=[\"reward_port\"])"
   ]
  },
  {
   "cell_type": "markdown",
   "metadata": {},
   "source": [
    "- Converting the corner coordinates into cms"
   ]
  },
  {
   "cell_type": "code",
   "execution_count": 108,
   "metadata": {},
   "outputs": [],
   "source": [
    "for corner in START_STOP_FRAME_DF[\"corner_parts\"].iloc[0]:\n",
    "    START_STOP_FRAME_DF[corner] = START_STOP_FRAME_DF.apply(lambda x: [x[corner][0]*x[\"width_ratio\"], x[corner][1]*x[\"height_ratio\"]], axis=1)"
   ]
  },
  {
   "cell_type": "markdown",
   "metadata": {},
   "source": [
    "## Looking over the tracks"
   ]
  },
  {
   "cell_type": "code",
   "execution_count": 109,
   "metadata": {},
   "outputs": [],
   "source": [
    "FILE_INDEX = 0"
   ]
  },
  {
   "cell_type": "code",
   "execution_count": 110,
   "metadata": {},
   "outputs": [
    {
     "data": {
      "text/plain": [
       "'./data/20230612_112630_standard_comp_to_training_D1_subj_1-2_and_1-1/20230612_112630_standard_comp_to_training_D1_subj_1-2_and_1-1.1.fixed.2_subj.round_3.id_corrected.h5'"
      ]
     },
     "execution_count": 110,
     "metadata": {},
     "output_type": "execute_result"
    }
   ],
   "source": [
    "START_STOP_FRAME_DF[\"sleap_path\"].iloc[FILE_INDEX]"
   ]
  },
  {
   "cell_type": "code",
   "execution_count": 111,
   "metadata": {},
   "outputs": [
    {
     "data": {
      "text/plain": [
       "0    {'1.2': [[[47.22971434 11.54057699], [42.25662...\n",
       "1    {'1.1': [[[34.25438031 35.66763544], [34.76795...\n",
       "2    {'1.1': [[[34.25438031 35.66763544], [34.76795...\n",
       "3    {'1.1': [[[47.19772262 36.49884996], [43.93209...\n",
       "4    {'1.1': [[[47.19772262 36.49884996], [43.93209...\n",
       "Name: rescaled_locations, dtype: object"
      ]
     },
     "execution_count": 111,
     "metadata": {},
     "output_type": "execute_result"
    }
   ],
   "source": [
    "START_STOP_FRAME_DF[\"rescaled_locations\"].head()"
   ]
  },
  {
   "cell_type": "code",
   "execution_count": 112,
   "metadata": {
    "tags": []
   },
   "outputs": [
    {
     "data": {
      "text/plain": [
       "Index(['start_frame', 'stop_frame', 'tracked_subject', 'in_video_subjects',\n",
       "       'box_number', 'sleap_name', 'video_name', 'current_subject',\n",
       "       'sleap_glob', 'sleap_path', 'all_sleap_data', 'body_parts', 'locations',\n",
       "       'track_names', 'subject_to_index', 'subject_to_tracks', 'corner_path',\n",
       "       'corner_parts', 'bottom_width', 'top_width', 'right_height',\n",
       "       'left_height', 'average_height', 'average_width', 'width_ratio',\n",
       "       'height_ratio', 'rescaled_locations', 'box_top_left', 'box_top_right',\n",
       "       'reward_port', 'box_bottom_left', 'box_bottom_right'],\n",
       "      dtype='object')"
      ]
     },
     "execution_count": 112,
     "metadata": {},
     "output_type": "execute_result"
    }
   ],
   "source": [
    "START_STOP_FRAME_DF.columns"
   ]
  },
  {
   "cell_type": "code",
   "execution_count": 113,
   "metadata": {},
   "outputs": [
    {
     "name": "stdout",
     "output_type": "stream",
     "text": [
      "===HDF5 datasets===\n",
      "['edge_inds', 'edge_names', 'instance_scores', 'labels_path', 'node_names', 'point_scores', 'provenance', 'track_names', 'track_occupancy', 'tracking_scores', 'tracks', 'video_ind', 'video_path']\n",
      "\n",
      "===locations data shape===\n",
      "(68258, 6, 2)\n",
      "\n",
      "===nodes===\n",
      "0: left_ear\n",
      "1: right_ear\n",
      "2: nose\n",
      "3: tail_base\n",
      "4: thorax\n",
      "5: forehead\n",
      "\n"
     ]
    }
   ],
   "source": [
    "with h5py.File(START_STOP_FRAME_DF[\"sleap_path\"].iloc[FILE_INDEX], \"r\") as f:\n",
    "    dset_names = list(f.keys())\n",
    "    current_subject = START_STOP_FRAME_DF[\"current_subject\"].iloc[FILE_INDEX]\n",
    "    locations = START_STOP_FRAME_DF[\"rescaled_locations\"].iloc[FILE_INDEX][current_subject]\n",
    "    node_names = [n.decode() for n in f[\"node_names\"][:]]\n",
    "    \n",
    "print(\"===HDF5 datasets===\")\n",
    "print(dset_names)\n",
    "print()\n",
    "\n",
    "print(\"===locations data shape===\")\n",
    "print(locations.shape)\n",
    "print()\n",
    "\n",
    "print(\"===nodes===\")\n",
    "for i, name in enumerate(node_names):\n",
    "    print(f\"{i}: {name}\")\n",
    "print()"
   ]
  },
  {
   "cell_type": "code",
   "execution_count": 114,
   "metadata": {},
   "outputs": [],
   "source": [
    "thorax_loc = locations[:, THORAX_INDEX, :]"
   ]
  },
  {
   "cell_type": "code",
   "execution_count": 115,
   "metadata": {},
   "outputs": [
    {
     "data": {
      "text/plain": [
       "Text(0, 0.5, 'Coordinate Position')"
      ]
     },
     "execution_count": 115,
     "metadata": {},
     "output_type": "execute_result"
    },
    {
     "data": {
      "image/png": "[encoded data removed]",
      "text/plain": [
       "<Figure size 1500x600 with 1 Axes>"
      ]
     },
     "metadata": {},
     "output_type": "display_data"
    }
   ],
   "source": [
    "fig, ax = plt.subplots()\n",
    "\n",
    "plt.plot(thorax_loc[:,0],label='X-coordinates')\n",
    "# Converting to negative so that we can see both x and y track\n",
    "plt.plot(-1*thorax_loc[:,1], label='Y-coordinates')\n",
    "\n",
    "plt.legend(loc=\"center right\")\n",
    "plt.title('Thorax locations')\n",
    "plt.xlabel(\"Time in frames\")\n",
    "plt.ylabel(\"Coordinate Position\")"
   ]
  },
  {
   "cell_type": "code",
   "execution_count": 116,
   "metadata": {},
   "outputs": [
    {
     "data": {
      "text/plain": [
       "Text(0, 0.5, 'Y-Coordinates')"
      ]
     },
     "execution_count": 116,
     "metadata": {},
     "output_type": "execute_result"
    },
    {
     "data": {
      "image/png": "[encoded data removed]",
      "text/plain": [
       "<Figure size 700x700 with 1 Axes>"
      ]
     },
     "metadata": {},
     "output_type": "display_data"
    }
   ],
   "source": [
    "plt.figure(figsize=(7,7))\n",
    "plt.plot(thorax_loc[:,0],thorax_loc[:,1])\n",
    "\n",
    "\n",
    "plt.title('Thorax tracks')\n",
    "plt.xlabel(\"X-Coordinates\")\n",
    "plt.ylabel(\"Y-Coordinates\")\n"
   ]
  },
  {
   "cell_type": "code",
   "execution_count": null,
   "metadata": {},
   "outputs": [],
   "source": []
  },
  {
   "cell_type": "markdown",
   "metadata": {},
   "source": [
    "## Creating an individual column for each pose tracking"
   ]
  },
  {
   "cell_type": "code",
   "execution_count": 117,
   "metadata": {
    "tags": []
   },
   "outputs": [],
   "source": [
    "START_STOP_FRAME_DF = START_STOP_FRAME_DF.dropna(subset=[\"current_subject\"])"
   ]
  },
  {
   "cell_type": "code",
   "execution_count": 118,
   "metadata": {
    "tags": []
   },
   "outputs": [
    {
     "data": {
      "text/html": [
       "<div>\n",
       "<style scoped>\n",
       "    .dataframe tbody tr th:only-of-type {\n",
       "        vertical-align: middle;\n",
       "    }\n",
       "\n",
       "    .dataframe tbody tr th {\n",
       "        vertical-align: top;\n",
       "    }\n",
       "\n",
       "    .dataframe thead th {\n",
       "        text-align: right;\n",
       "    }\n",
       "</style>\n",
       "<table border=\"1\" class=\"dataframe\">\n",
       "  <thead>\n",
       "    <tr style=\"text-align: right;\">\n",
       "      <th></th>\n",
       "      <th>start_frame</th>\n",
       "      <th>stop_frame</th>\n",
       "      <th>tracked_subject</th>\n",
       "      <th>in_video_subjects</th>\n",
       "      <th>box_number</th>\n",
       "      <th>sleap_name</th>\n",
       "      <th>video_name</th>\n",
       "      <th>current_subject</th>\n",
       "      <th>sleap_glob</th>\n",
       "      <th>sleap_path</th>\n",
       "      <th>...</th>\n",
       "      <th>average_height</th>\n",
       "      <th>average_width</th>\n",
       "      <th>width_ratio</th>\n",
       "      <th>height_ratio</th>\n",
       "      <th>rescaled_locations</th>\n",
       "      <th>box_top_left</th>\n",
       "      <th>box_top_right</th>\n",
       "      <th>reward_port</th>\n",
       "      <th>box_bottom_left</th>\n",
       "      <th>box_bottom_right</th>\n",
       "    </tr>\n",
       "  </thead>\n",
       "  <tbody>\n",
       "    <tr>\n",
       "      <th>0</th>\n",
       "      <td>32700</td>\n",
       "      <td>68257</td>\n",
       "      <td>[1.2]</td>\n",
       "      <td>[1.1, 1.2]</td>\n",
       "      <td>1</td>\n",
       "      <td>20230612_112630_standard_comp_to_training_D1_s...</td>\n",
       "      <td>20230612_112630_standard_comp_to_training_D1_s...</td>\n",
       "      <td>1.2</td>\n",
       "      <td>[./data/20230612_112630_standard_comp_to_train...</td>\n",
       "      <td>./data/20230612_112630_standard_comp_to_traini...</td>\n",
       "      <td>...</td>\n",
       "      <td>266.715544</td>\n",
       "      <td>209.768379</td>\n",
       "      <td>0.140631</td>\n",
       "      <td>0.089984</td>\n",
       "      <td>{'1.2': [[[47.22971434 11.54057699], [42.25662...</td>\n",
       "      <td>[30.24932345912479, 10.25122851487125]</td>\n",
       "      <td>[59.816912963855586, 10.100544626940918]</td>\n",
       "      <td>[45.23441700698972, 35.83828707637651]</td>\n",
       "      <td>[30.458913657178506, 34.21867013031604]</td>\n",
       "      <td>[59.89132415244771, 34.13310301149612]</td>\n",
       "    </tr>\n",
       "    <tr>\n",
       "      <th>1</th>\n",
       "      <td>1</td>\n",
       "      <td>32300</td>\n",
       "      <td>[1.1, 1.2]</td>\n",
       "      <td>[1.1, 1.2]</td>\n",
       "      <td>1</td>\n",
       "      <td>20230612_112630_standard_comp_to_training_D1_s...</td>\n",
       "      <td>20230612_112630_standard_comp_to_training_D1_s...</td>\n",
       "      <td>1.1</td>\n",
       "      <td>[./data/20230612_112630_standard_comp_to_train...</td>\n",
       "      <td>./data/20230612_112630_standard_comp_to_traini...</td>\n",
       "      <td>...</td>\n",
       "      <td>266.715544</td>\n",
       "      <td>209.768379</td>\n",
       "      <td>0.140631</td>\n",
       "      <td>0.089984</td>\n",
       "      <td>{'1.1': [[[34.25438031 35.66763544], [34.76795...</td>\n",
       "      <td>[30.24932345912479, 10.25122851487125]</td>\n",
       "      <td>[59.816912963855586, 10.100544626940918]</td>\n",
       "      <td>[45.23441700698972, 35.83828707637651]</td>\n",
       "      <td>[30.458913657178506, 34.21867013031604]</td>\n",
       "      <td>[59.89132415244771, 34.13310301149612]</td>\n",
       "    </tr>\n",
       "    <tr>\n",
       "      <th>2</th>\n",
       "      <td>1</td>\n",
       "      <td>32300</td>\n",
       "      <td>[1.1, 1.2]</td>\n",
       "      <td>[1.1, 1.2]</td>\n",
       "      <td>1</td>\n",
       "      <td>20230612_112630_standard_comp_to_training_D1_s...</td>\n",
       "      <td>20230612_112630_standard_comp_to_training_D1_s...</td>\n",
       "      <td>1.2</td>\n",
       "      <td>[./data/20230612_112630_standard_comp_to_train...</td>\n",
       "      <td>./data/20230612_112630_standard_comp_to_traini...</td>\n",
       "      <td>...</td>\n",
       "      <td>266.715544</td>\n",
       "      <td>209.768379</td>\n",
       "      <td>0.140631</td>\n",
       "      <td>0.089984</td>\n",
       "      <td>{'1.1': [[[34.25438031 35.66763544], [34.76795...</td>\n",
       "      <td>[30.24932345912479, 10.25122851487125]</td>\n",
       "      <td>[59.816912963855586, 10.100544626940918]</td>\n",
       "      <td>[45.23441700698972, 35.83828707637651]</td>\n",
       "      <td>[30.458913657178506, 34.21867013031604]</td>\n",
       "      <td>[59.89132415244771, 34.13310301149612]</td>\n",
       "    </tr>\n",
       "    <tr>\n",
       "      <th>3</th>\n",
       "      <td>33400</td>\n",
       "      <td>68332</td>\n",
       "      <td>[1.1]</td>\n",
       "      <td>[1.1, 1.4]</td>\n",
       "      <td>1</td>\n",
       "      <td>20230613_105657_standard_comp_to_training_D2_s...</td>\n",
       "      <td>20230613_105657_standard_comp_to_training_D2_s...</td>\n",
       "      <td>1.1</td>\n",
       "      <td>[./data/20230613_105657_standard_comp_to_train...</td>\n",
       "      <td>./data/20230613_105657_standard_comp_to_traini...</td>\n",
       "      <td>...</td>\n",
       "      <td>263.215010</td>\n",
       "      <td>212.368779</td>\n",
       "      <td>0.138909</td>\n",
       "      <td>0.091180</td>\n",
       "      <td>{'1.1': [[[47.19772262 36.49884996], [43.93209...</td>\n",
       "      <td>[29.42717788149638, 10.939657307701639]</td>\n",
       "      <td>[58.80982189308497, 10.239514076824564]</td>\n",
       "      <td>[45.31189572048577, 36.38317068198775]</td>\n",
       "      <td>[30.490085836306232, 34.91627159792731]</td>\n",
       "      <td>[60.10744182471764, 34.262899786598894]</td>\n",
       "    </tr>\n",
       "    <tr>\n",
       "      <th>4</th>\n",
       "      <td>1</td>\n",
       "      <td>33000</td>\n",
       "      <td>[1.1, 1.4]</td>\n",
       "      <td>[1.1, 1.4]</td>\n",
       "      <td>1</td>\n",
       "      <td>20230613_105657_standard_comp_to_training_D2_s...</td>\n",
       "      <td>20230613_105657_standard_comp_to_training_D2_s...</td>\n",
       "      <td>1.1</td>\n",
       "      <td>[./data/20230613_105657_standard_comp_to_train...</td>\n",
       "      <td>./data/20230613_105657_standard_comp_to_traini...</td>\n",
       "      <td>...</td>\n",
       "      <td>263.215010</td>\n",
       "      <td>212.368779</td>\n",
       "      <td>0.138909</td>\n",
       "      <td>0.091180</td>\n",
       "      <td>{'1.1': [[[47.19772262 36.49884996], [43.93209...</td>\n",
       "      <td>[29.42717788149638, 10.939657307701639]</td>\n",
       "      <td>[58.80982189308497, 10.239514076824564]</td>\n",
       "      <td>[45.31189572048577, 36.38317068198775]</td>\n",
       "      <td>[30.490085836306232, 34.91627159792731]</td>\n",
       "      <td>[60.10744182471764, 34.262899786598894]</td>\n",
       "    </tr>\n",
       "  </tbody>\n",
       "</table>\n",
       "<p>5 rows × 32 columns</p>\n",
       "</div>"
      ],
      "text/plain": [
       "   start_frame  stop_frame tracked_subject in_video_subjects  box_number  \\\n",
       "0        32700       68257           [1.2]        [1.1, 1.2]           1   \n",
       "1            1       32300      [1.1, 1.2]        [1.1, 1.2]           1   \n",
       "2            1       32300      [1.1, 1.2]        [1.1, 1.2]           1   \n",
       "3        33400       68332           [1.1]        [1.1, 1.4]           1   \n",
       "4            1       33000      [1.1, 1.4]        [1.1, 1.4]           1   \n",
       "\n",
       "                                          sleap_name  \\\n",
       "0  20230612_112630_standard_comp_to_training_D1_s...   \n",
       "1  20230612_112630_standard_comp_to_training_D1_s...   \n",
       "2  20230612_112630_standard_comp_to_training_D1_s...   \n",
       "3  20230613_105657_standard_comp_to_training_D2_s...   \n",
       "4  20230613_105657_standard_comp_to_training_D2_s...   \n",
       "\n",
       "                                          video_name current_subject  \\\n",
       "0  20230612_112630_standard_comp_to_training_D1_s...             1.2   \n",
       "1  20230612_112630_standard_comp_to_training_D1_s...             1.1   \n",
       "2  20230612_112630_standard_comp_to_training_D1_s...             1.2   \n",
       "3  20230613_105657_standard_comp_to_training_D2_s...             1.1   \n",
       "4  20230613_105657_standard_comp_to_training_D2_s...             1.1   \n",
       "\n",
       "                                          sleap_glob  \\\n",
       "0  [./data/20230612_112630_standard_comp_to_train...   \n",
       "1  [./data/20230612_112630_standard_comp_to_train...   \n",
       "2  [./data/20230612_112630_standard_comp_to_train...   \n",
       "3  [./data/20230613_105657_standard_comp_to_train...   \n",
       "4  [./data/20230613_105657_standard_comp_to_train...   \n",
       "\n",
       "                                          sleap_path  ... average_height  \\\n",
       "0  ./data/20230612_112630_standard_comp_to_traini...  ...     266.715544   \n",
       "1  ./data/20230612_112630_standard_comp_to_traini...  ...     266.715544   \n",
       "2  ./data/20230612_112630_standard_comp_to_traini...  ...     266.715544   \n",
       "3  ./data/20230613_105657_standard_comp_to_traini...  ...     263.215010   \n",
       "4  ./data/20230613_105657_standard_comp_to_traini...  ...     263.215010   \n",
       "\n",
       "  average_width width_ratio height_ratio  \\\n",
       "0    209.768379    0.140631     0.089984   \n",
       "1    209.768379    0.140631     0.089984   \n",
       "2    209.768379    0.140631     0.089984   \n",
       "3    212.368779    0.138909     0.091180   \n",
       "4    212.368779    0.138909     0.091180   \n",
       "\n",
       "                                  rescaled_locations  \\\n",
       "0  {'1.2': [[[47.22971434 11.54057699], [42.25662...   \n",
       "1  {'1.1': [[[34.25438031 35.66763544], [34.76795...   \n",
       "2  {'1.1': [[[34.25438031 35.66763544], [34.76795...   \n",
       "3  {'1.1': [[[47.19772262 36.49884996], [43.93209...   \n",
       "4  {'1.1': [[[47.19772262 36.49884996], [43.93209...   \n",
       "\n",
       "                              box_top_left  \\\n",
       "0   [30.24932345912479, 10.25122851487125]   \n",
       "1   [30.24932345912479, 10.25122851487125]   \n",
       "2   [30.24932345912479, 10.25122851487125]   \n",
       "3  [29.42717788149638, 10.939657307701639]   \n",
       "4  [29.42717788149638, 10.939657307701639]   \n",
       "\n",
       "                              box_top_right  \\\n",
       "0  [59.816912963855586, 10.100544626940918]   \n",
       "1  [59.816912963855586, 10.100544626940918]   \n",
       "2  [59.816912963855586, 10.100544626940918]   \n",
       "3   [58.80982189308497, 10.239514076824564]   \n",
       "4   [58.80982189308497, 10.239514076824564]   \n",
       "\n",
       "                              reward_port  \\\n",
       "0  [45.23441700698972, 35.83828707637651]   \n",
       "1  [45.23441700698972, 35.83828707637651]   \n",
       "2  [45.23441700698972, 35.83828707637651]   \n",
       "3  [45.31189572048577, 36.38317068198775]   \n",
       "4  [45.31189572048577, 36.38317068198775]   \n",
       "\n",
       "                           box_bottom_left  \\\n",
       "0  [30.458913657178506, 34.21867013031604]   \n",
       "1  [30.458913657178506, 34.21867013031604]   \n",
       "2  [30.458913657178506, 34.21867013031604]   \n",
       "3  [30.490085836306232, 34.91627159792731]   \n",
       "4  [30.490085836306232, 34.91627159792731]   \n",
       "\n",
       "                          box_bottom_right  \n",
       "0   [59.89132415244771, 34.13310301149612]  \n",
       "1   [59.89132415244771, 34.13310301149612]  \n",
       "2   [59.89132415244771, 34.13310301149612]  \n",
       "3  [60.10744182471764, 34.262899786598894]  \n",
       "4  [60.10744182471764, 34.262899786598894]  \n",
       "\n",
       "[5 rows x 32 columns]"
      ]
     },
     "execution_count": 118,
     "metadata": {},
     "output_type": "execute_result"
    }
   ],
   "source": [
    "START_STOP_FRAME_DF.head()"
   ]
  },
  {
   "cell_type": "code",
   "execution_count": 119,
   "metadata": {},
   "outputs": [
    {
     "data": {
      "text/plain": [
       "0          [1.2]\n",
       "1     [1.1, 1.2]\n",
       "2     [1.1, 1.2]\n",
       "3          [1.1]\n",
       "4     [1.1, 1.4]\n",
       "5     [1.1, 1.4]\n",
       "6          [1.1]\n",
       "7     [1.1, 1.2]\n",
       "8     [1.1, 1.2]\n",
       "9          [1.4]\n",
       "10    [1.2, 1.4]\n",
       "11    [1.2, 1.4]\n",
       "12         [1.4]\n",
       "13    [1.1, 1.4]\n",
       "14    [1.1, 1.4]\n",
       "15         [1.2]\n",
       "16    [1.1, 1.2]\n",
       "17    [1.1, 1.2]\n",
       "18         [1.4]\n",
       "19    [1.2, 1.4]\n",
       "20    [1.2, 1.4]\n",
       "21    [3.1, 3.3]\n",
       "22    [3.1, 3.3]\n",
       "23    [4.2, 4.3]\n",
       "24    [4.2, 4.3]\n",
       "25    [3.3, 3.4]\n",
       "26    [3.3, 3.4]\n",
       "27    [4.3, 4.4]\n",
       "28    [4.3, 4.4]\n",
       "29    [5.2, 5.3]\n",
       "30    [5.2, 5.3]\n",
       "31    [3.1, 3.4]\n",
       "32    [3.1, 3.4]\n",
       "33    [4.2, 4.4]\n",
       "34    [4.2, 4.4]\n",
       "35    [4.2, 4.3]\n",
       "36    [4.2, 4.3]\n",
       "37    [3.1, 3.3]\n",
       "38    [3.1, 3.3]\n",
       "39    [4.3, 4.4]\n",
       "40    [4.3, 4.4]\n",
       "41    [3.3, 3.4]\n",
       "42    [3.3, 3.4]\n",
       "43    [5.3, 5.4]\n",
       "44    [5.3, 5.4]\n",
       "45    [5.2, 5.3]\n",
       "46    [5.2, 5.3]\n",
       "47    [5.2, 5.4]\n",
       "48    [5.2, 5.4]\n",
       "49    [3.1, 3.4]\n",
       "50    [3.1, 3.4]\n",
       "51    [4.2, 4.4]\n",
       "52    [4.2, 4.4]\n",
       "Name: tracked_subject, dtype: object"
      ]
     },
     "execution_count": 119,
     "metadata": {},
     "output_type": "execute_result"
    }
   ],
   "source": [
    "START_STOP_FRAME_DF[\"tracked_subject\"]"
   ]
  },
  {
   "cell_type": "code",
   "execution_count": 120,
   "metadata": {},
   "outputs": [],
   "source": [
    "START_STOP_FRAME_DF[\"agent\"] = START_STOP_FRAME_DF.apply(lambda x: list((set(x[\"tracked_subject\"]) - set([x[\"current_subject\"]]))), axis=1)"
   ]
  },
  {
   "cell_type": "code",
   "execution_count": 121,
   "metadata": {
    "tags": []
   },
   "outputs": [
    {
     "data": {
      "text/html": [
       "<div>\n",
       "<style scoped>\n",
       "    .dataframe tbody tr th:only-of-type {\n",
       "        vertical-align: middle;\n",
       "    }\n",
       "\n",
       "    .dataframe tbody tr th {\n",
       "        vertical-align: top;\n",
       "    }\n",
       "\n",
       "    .dataframe thead th {\n",
       "        text-align: right;\n",
       "    }\n",
       "</style>\n",
       "<table border=\"1\" class=\"dataframe\">\n",
       "  <thead>\n",
       "    <tr style=\"text-align: right;\">\n",
       "      <th></th>\n",
       "      <th>start_frame</th>\n",
       "      <th>stop_frame</th>\n",
       "      <th>tracked_subject</th>\n",
       "      <th>in_video_subjects</th>\n",
       "      <th>box_number</th>\n",
       "      <th>sleap_name</th>\n",
       "      <th>video_name</th>\n",
       "      <th>current_subject</th>\n",
       "      <th>sleap_glob</th>\n",
       "      <th>sleap_path</th>\n",
       "      <th>...</th>\n",
       "      <th>average_width</th>\n",
       "      <th>width_ratio</th>\n",
       "      <th>height_ratio</th>\n",
       "      <th>rescaled_locations</th>\n",
       "      <th>box_top_left</th>\n",
       "      <th>box_top_right</th>\n",
       "      <th>reward_port</th>\n",
       "      <th>box_bottom_left</th>\n",
       "      <th>box_bottom_right</th>\n",
       "      <th>agent</th>\n",
       "    </tr>\n",
       "  </thead>\n",
       "  <tbody>\n",
       "    <tr>\n",
       "      <th>0</th>\n",
       "      <td>32700</td>\n",
       "      <td>68257</td>\n",
       "      <td>[1.2]</td>\n",
       "      <td>[1.1, 1.2]</td>\n",
       "      <td>1</td>\n",
       "      <td>20230612_112630_standard_comp_to_training_D1_s...</td>\n",
       "      <td>20230612_112630_standard_comp_to_training_D1_s...</td>\n",
       "      <td>1.2</td>\n",
       "      <td>[./data/20230612_112630_standard_comp_to_train...</td>\n",
       "      <td>./data/20230612_112630_standard_comp_to_traini...</td>\n",
       "      <td>...</td>\n",
       "      <td>209.768379</td>\n",
       "      <td>0.140631</td>\n",
       "      <td>0.089984</td>\n",
       "      <td>{'1.2': [[[47.22971434 11.54057699], [42.25662...</td>\n",
       "      <td>[30.24932345912479, 10.25122851487125]</td>\n",
       "      <td>[59.816912963855586, 10.100544626940918]</td>\n",
       "      <td>[45.23441700698972, 35.83828707637651]</td>\n",
       "      <td>[30.458913657178506, 34.21867013031604]</td>\n",
       "      <td>[59.89132415244771, 34.13310301149612]</td>\n",
       "      <td>[]</td>\n",
       "    </tr>\n",
       "    <tr>\n",
       "      <th>3</th>\n",
       "      <td>33400</td>\n",
       "      <td>68332</td>\n",
       "      <td>[1.1]</td>\n",
       "      <td>[1.1, 1.4]</td>\n",
       "      <td>1</td>\n",
       "      <td>20230613_105657_standard_comp_to_training_D2_s...</td>\n",
       "      <td>20230613_105657_standard_comp_to_training_D2_s...</td>\n",
       "      <td>1.1</td>\n",
       "      <td>[./data/20230613_105657_standard_comp_to_train...</td>\n",
       "      <td>./data/20230613_105657_standard_comp_to_traini...</td>\n",
       "      <td>...</td>\n",
       "      <td>212.368779</td>\n",
       "      <td>0.138909</td>\n",
       "      <td>0.091180</td>\n",
       "      <td>{'1.1': [[[47.19772262 36.49884996], [43.93209...</td>\n",
       "      <td>[29.42717788149638, 10.939657307701639]</td>\n",
       "      <td>[58.80982189308497, 10.239514076824564]</td>\n",
       "      <td>[45.31189572048577, 36.38317068198775]</td>\n",
       "      <td>[30.490085836306232, 34.91627159792731]</td>\n",
       "      <td>[60.10744182471764, 34.262899786598894]</td>\n",
       "      <td>[]</td>\n",
       "    </tr>\n",
       "    <tr>\n",
       "      <th>6</th>\n",
       "      <td>32800</td>\n",
       "      <td>44205</td>\n",
       "      <td>[1.1]</td>\n",
       "      <td>[1.1, 1.2]</td>\n",
       "      <td>1</td>\n",
       "      <td>20230614_114041_standard_comp_to_training_D3_s...</td>\n",
       "      <td>20230614_114041_standard_comp_to_training_D3_s...</td>\n",
       "      <td>1.1</td>\n",
       "      <td>[./data/20230614_114041_standard_comp_to_train...</td>\n",
       "      <td>./data/20230614_114041_standard_comp_to_traini...</td>\n",
       "      <td>...</td>\n",
       "      <td>212.714155</td>\n",
       "      <td>0.138684</td>\n",
       "      <td>0.091993</td>\n",
       "      <td>{'1.1': [[[52.51888343 36.28326548], [52.00764...</td>\n",
       "      <td>[29.10707058981441, 11.364487226798616]</td>\n",
       "      <td>[58.883863567261514, 10.806271116252097]</td>\n",
       "      <td>[45.44232917370965, 36.91440422283628]</td>\n",
       "      <td>[30.339373669373565, 35.17083382117832]</td>\n",
       "      <td>[59.562580691926456, 34.99992452187238]</td>\n",
       "      <td>[]</td>\n",
       "    </tr>\n",
       "    <tr>\n",
       "      <th>9</th>\n",
       "      <td>32100</td>\n",
       "      <td>67369</td>\n",
       "      <td>[1.4]</td>\n",
       "      <td>[1.2, 1.4]</td>\n",
       "      <td>1</td>\n",
       "      <td>20230616_111904_standard_comp_to_training_D4_s...</td>\n",
       "      <td>20230616_111904_standard_comp_to_training_D4_s...</td>\n",
       "      <td>1.4</td>\n",
       "      <td>[./data/20230616_111904_standard_comp_to_train...</td>\n",
       "      <td>./data/20230616_111904_standard_comp_to_traini...</td>\n",
       "      <td>...</td>\n",
       "      <td>210.226016</td>\n",
       "      <td>0.140325</td>\n",
       "      <td>0.090895</td>\n",
       "      <td>{'1.4': [[[57.35729372 25.35640086], [54.88894...</td>\n",
       "      <td>[29.86625143627433, 11.124724603015066]</td>\n",
       "      <td>[59.38334890344171, 10.604275828952773]</td>\n",
       "      <td>[45.69464614292888, 36.59658123160905]</td>\n",
       "      <td>[30.926534526401632, 34.86353305048207]</td>\n",
       "      <td>[60.40943705923425, 34.86546738148577]</td>\n",
       "      <td>[]</td>\n",
       "    </tr>\n",
       "    <tr>\n",
       "      <th>12</th>\n",
       "      <td>32792</td>\n",
       "      <td>68494</td>\n",
       "      <td>[1.4]</td>\n",
       "      <td>[1.1, 1.4]</td>\n",
       "      <td>1</td>\n",
       "      <td>20230618_100636_standard_comp_to_omission_D2_s...</td>\n",
       "      <td>20230618_100636_standard_comp_to_omission_D2_s...</td>\n",
       "      <td>1.4</td>\n",
       "      <td>[./data/20230618_100636_standard_comp_to_omiss...</td>\n",
       "      <td>./data/20230618_100636_standard_comp_to_omissi...</td>\n",
       "      <td>...</td>\n",
       "      <td>214.308233</td>\n",
       "      <td>0.137652</td>\n",
       "      <td>0.092440</td>\n",
       "      <td>{'1.4': [[[29.38287222 31.23016828], [33.75629...</td>\n",
       "      <td>[28.94954695212123, 11.559275766924861]</td>\n",
       "      <td>[58.25716394690266, 11.0851249161892]</td>\n",
       "      <td>[44.59493426883317, 37.290222508536225]</td>\n",
       "      <td>[29.794023445649177, 35.275466614423074]</td>\n",
       "      <td>[59.48640645086775, 35.36893406869099]</td>\n",
       "      <td>[]</td>\n",
       "    </tr>\n",
       "    <tr>\n",
       "      <th>15</th>\n",
       "      <td>32860</td>\n",
       "      <td>68287</td>\n",
       "      <td>[1.2]</td>\n",
       "      <td>[1.1, 1.2]</td>\n",
       "      <td>1</td>\n",
       "      <td>20230620_114347_standard_comp_to_omission_D4_s...</td>\n",
       "      <td>20230620_114347_standard_comp_to_omission_D4_s...</td>\n",
       "      <td>1.2</td>\n",
       "      <td>[./data/20230620_114347_standard_comp_to_omiss...</td>\n",
       "      <td>./data/20230620_114347_standard_comp_to_omissi...</td>\n",
       "      <td>...</td>\n",
       "      <td>214.647754</td>\n",
       "      <td>0.137434</td>\n",
       "      <td>0.090034</td>\n",
       "      <td>{'1.2': [[[43.00100041 33.44266356], [41.30614...</td>\n",
       "      <td>[28.726306016601946, 10.842459364362139]</td>\n",
       "      <td>[58.282641339237685, 10.501152914297204]</td>\n",
       "      <td>[44.54098011165848, 36.54165425213083]</td>\n",
       "      <td>[30.091010784999508, 34.98257973535351]</td>\n",
       "      <td>[59.534675462363765, 34.36103254330584]</td>\n",
       "      <td>[]</td>\n",
       "    </tr>\n",
       "    <tr>\n",
       "      <th>18</th>\n",
       "      <td>35000</td>\n",
       "      <td>69766</td>\n",
       "      <td>[1.4]</td>\n",
       "      <td>[1.2, 1.4]</td>\n",
       "      <td>1</td>\n",
       "      <td>20230621_111240_standard_comp_to_omission_D5_s...</td>\n",
       "      <td>20230621_111240_standard_comp_to_omission_D5_s...</td>\n",
       "      <td>1.4</td>\n",
       "      <td>[./data/20230621_111240_standard_comp_to_omiss...</td>\n",
       "      <td>./data/20230621_111240_standard_comp_to_omissi...</td>\n",
       "      <td>...</td>\n",
       "      <td>212.292023</td>\n",
       "      <td>0.138960</td>\n",
       "      <td>0.091223</td>\n",
       "      <td>{'1.4': [[[51.66789997 35.99393557], [49.14967...</td>\n",
       "      <td>[29.368871804533384, 11.233148401733333]</td>\n",
       "      <td>[58.98052434827515, 10.969818829118575]</td>\n",
       "      <td>[45.157453324589945, 36.79799744676499]</td>\n",
       "      <td>[30.292670448640752, 35.366774292703255]</td>\n",
       "      <td>[59.681017904898994, 34.836192938148656]</td>\n",
       "      <td>[]</td>\n",
       "    </tr>\n",
       "  </tbody>\n",
       "</table>\n",
       "<p>7 rows × 33 columns</p>\n",
       "</div>"
      ],
      "text/plain": [
       "    start_frame  stop_frame tracked_subject in_video_subjects  box_number  \\\n",
       "0         32700       68257           [1.2]        [1.1, 1.2]           1   \n",
       "3         33400       68332           [1.1]        [1.1, 1.4]           1   \n",
       "6         32800       44205           [1.1]        [1.1, 1.2]           1   \n",
       "9         32100       67369           [1.4]        [1.2, 1.4]           1   \n",
       "12        32792       68494           [1.4]        [1.1, 1.4]           1   \n",
       "15        32860       68287           [1.2]        [1.1, 1.2]           1   \n",
       "18        35000       69766           [1.4]        [1.2, 1.4]           1   \n",
       "\n",
       "                                           sleap_name  \\\n",
       "0   20230612_112630_standard_comp_to_training_D1_s...   \n",
       "3   20230613_105657_standard_comp_to_training_D2_s...   \n",
       "6   20230614_114041_standard_comp_to_training_D3_s...   \n",
       "9   20230616_111904_standard_comp_to_training_D4_s...   \n",
       "12  20230618_100636_standard_comp_to_omission_D2_s...   \n",
       "15  20230620_114347_standard_comp_to_omission_D4_s...   \n",
       "18  20230621_111240_standard_comp_to_omission_D5_s...   \n",
       "\n",
       "                                           video_name current_subject  \\\n",
       "0   20230612_112630_standard_comp_to_training_D1_s...             1.2   \n",
       "3   20230613_105657_standard_comp_to_training_D2_s...             1.1   \n",
       "6   20230614_114041_standard_comp_to_training_D3_s...             1.1   \n",
       "9   20230616_111904_standard_comp_to_training_D4_s...             1.4   \n",
       "12  20230618_100636_standard_comp_to_omission_D2_s...             1.4   \n",
       "15  20230620_114347_standard_comp_to_omission_D4_s...             1.2   \n",
       "18  20230621_111240_standard_comp_to_omission_D5_s...             1.4   \n",
       "\n",
       "                                           sleap_glob  \\\n",
       "0   [./data/20230612_112630_standard_comp_to_train...   \n",
       "3   [./data/20230613_105657_standard_comp_to_train...   \n",
       "6   [./data/20230614_114041_standard_comp_to_train...   \n",
       "9   [./data/20230616_111904_standard_comp_to_train...   \n",
       "12  [./data/20230618_100636_standard_comp_to_omiss...   \n",
       "15  [./data/20230620_114347_standard_comp_to_omiss...   \n",
       "18  [./data/20230621_111240_standard_comp_to_omiss...   \n",
       "\n",
       "                                           sleap_path  ... average_width  \\\n",
       "0   ./data/20230612_112630_standard_comp_to_traini...  ...    209.768379   \n",
       "3   ./data/20230613_105657_standard_comp_to_traini...  ...    212.368779   \n",
       "6   ./data/20230614_114041_standard_comp_to_traini...  ...    212.714155   \n",
       "9   ./data/20230616_111904_standard_comp_to_traini...  ...    210.226016   \n",
       "12  ./data/20230618_100636_standard_comp_to_omissi...  ...    214.308233   \n",
       "15  ./data/20230620_114347_standard_comp_to_omissi...  ...    214.647754   \n",
       "18  ./data/20230621_111240_standard_comp_to_omissi...  ...    212.292023   \n",
       "\n",
       "   width_ratio height_ratio  \\\n",
       "0     0.140631     0.089984   \n",
       "3     0.138909     0.091180   \n",
       "6     0.138684     0.091993   \n",
       "9     0.140325     0.090895   \n",
       "12    0.137652     0.092440   \n",
       "15    0.137434     0.090034   \n",
       "18    0.138960     0.091223   \n",
       "\n",
       "                                   rescaled_locations  \\\n",
       "0   {'1.2': [[[47.22971434 11.54057699], [42.25662...   \n",
       "3   {'1.1': [[[47.19772262 36.49884996], [43.93209...   \n",
       "6   {'1.1': [[[52.51888343 36.28326548], [52.00764...   \n",
       "9   {'1.4': [[[57.35729372 25.35640086], [54.88894...   \n",
       "12  {'1.4': [[[29.38287222 31.23016828], [33.75629...   \n",
       "15  {'1.2': [[[43.00100041 33.44266356], [41.30614...   \n",
       "18  {'1.4': [[[51.66789997 35.99393557], [49.14967...   \n",
       "\n",
       "                                box_top_left  \\\n",
       "0     [30.24932345912479, 10.25122851487125]   \n",
       "3    [29.42717788149638, 10.939657307701639]   \n",
       "6    [29.10707058981441, 11.364487226798616]   \n",
       "9    [29.86625143627433, 11.124724603015066]   \n",
       "12   [28.94954695212123, 11.559275766924861]   \n",
       "15  [28.726306016601946, 10.842459364362139]   \n",
       "18  [29.368871804533384, 11.233148401733333]   \n",
       "\n",
       "                               box_top_right  \\\n",
       "0   [59.816912963855586, 10.100544626940918]   \n",
       "3    [58.80982189308497, 10.239514076824564]   \n",
       "6   [58.883863567261514, 10.806271116252097]   \n",
       "9    [59.38334890344171, 10.604275828952773]   \n",
       "12     [58.25716394690266, 11.0851249161892]   \n",
       "15  [58.282641339237685, 10.501152914297204]   \n",
       "18   [58.98052434827515, 10.969818829118575]   \n",
       "\n",
       "                                reward_port  \\\n",
       "0    [45.23441700698972, 35.83828707637651]   \n",
       "3    [45.31189572048577, 36.38317068198775]   \n",
       "6    [45.44232917370965, 36.91440422283628]   \n",
       "9    [45.69464614292888, 36.59658123160905]   \n",
       "12  [44.59493426883317, 37.290222508536225]   \n",
       "15   [44.54098011165848, 36.54165425213083]   \n",
       "18  [45.157453324589945, 36.79799744676499]   \n",
       "\n",
       "                             box_bottom_left  \\\n",
       "0    [30.458913657178506, 34.21867013031604]   \n",
       "3    [30.490085836306232, 34.91627159792731]   \n",
       "6    [30.339373669373565, 35.17083382117832]   \n",
       "9    [30.926534526401632, 34.86353305048207]   \n",
       "12  [29.794023445649177, 35.275466614423074]   \n",
       "15   [30.091010784999508, 34.98257973535351]   \n",
       "18  [30.292670448640752, 35.366774292703255]   \n",
       "\n",
       "                            box_bottom_right  agent  \n",
       "0     [59.89132415244771, 34.13310301149612]     []  \n",
       "3    [60.10744182471764, 34.262899786598894]     []  \n",
       "6    [59.562580691926456, 34.99992452187238]     []  \n",
       "9     [60.40943705923425, 34.86546738148577]     []  \n",
       "12    [59.48640645086775, 35.36893406869099]     []  \n",
       "15   [59.534675462363765, 34.36103254330584]     []  \n",
       "18  [59.681017904898994, 34.836192938148656]     []  \n",
       "\n",
       "[7 rows x 33 columns]"
      ]
     },
     "execution_count": 121,
     "metadata": {},
     "output_type": "execute_result"
    }
   ],
   "source": [
    "START_STOP_FRAME_DF[START_STOP_FRAME_DF[\"agent\"].apply(lambda x: len(x) != 1)]"
   ]
  },
  {
   "cell_type": "code",
   "execution_count": 122,
   "metadata": {
    "tags": []
   },
   "outputs": [],
   "source": [
    "START_STOP_FRAME_DF = START_STOP_FRAME_DF[START_STOP_FRAME_DF[\"tracked_subject\"].apply(lambda x: len(x) == 2)]"
   ]
  },
  {
   "cell_type": "code",
   "execution_count": 123,
   "metadata": {
    "tags": []
   },
   "outputs": [],
   "source": [
    "START_STOP_FRAME_DF[\"agent\"] = START_STOP_FRAME_DF[\"agent\"].apply(lambda x: x[0] if len(x) == 1 else None)"
   ]
  },
  {
   "cell_type": "code",
   "execution_count": 124,
   "metadata": {},
   "outputs": [
    {
     "data": {
      "text/plain": [
       "1     1.2\n",
       "2     1.1\n",
       "4     1.4\n",
       "5     1.1\n",
       "7     1.2\n",
       "8     1.1\n",
       "10    1.4\n",
       "11    1.2\n",
       "13    1.4\n",
       "14    1.1\n",
       "16    1.2\n",
       "17    1.1\n",
       "19    1.4\n",
       "20    1.2\n",
       "21    3.3\n",
       "22    3.1\n",
       "23    4.3\n",
       "24    4.2\n",
       "25    3.4\n",
       "26    3.3\n",
       "27    4.4\n",
       "28    4.3\n",
       "29    5.3\n",
       "30    5.2\n",
       "31    3.4\n",
       "32    3.1\n",
       "33    4.4\n",
       "34    4.2\n",
       "35    4.3\n",
       "36    4.2\n",
       "37    3.3\n",
       "38    3.1\n",
       "39    4.4\n",
       "40    4.3\n",
       "41    3.4\n",
       "42    3.3\n",
       "43    5.4\n",
       "44    5.3\n",
       "45    5.3\n",
       "46    5.2\n",
       "47    5.4\n",
       "48    5.2\n",
       "49    3.4\n",
       "50    3.1\n",
       "51    4.4\n",
       "52    4.2\n",
       "Name: agent, dtype: object"
      ]
     },
     "execution_count": 124,
     "metadata": {},
     "output_type": "execute_result"
    }
   ],
   "source": [
    "START_STOP_FRAME_DF[\"agent\"]"
   ]
  },
  {
   "cell_type": "code",
   "execution_count": 125,
   "metadata": {},
   "outputs": [
    {
     "data": {
      "text/html": [
       "<div>\n",
       "<style scoped>\n",
       "    .dataframe tbody tr th:only-of-type {\n",
       "        vertical-align: middle;\n",
       "    }\n",
       "\n",
       "    .dataframe tbody tr th {\n",
       "        vertical-align: top;\n",
       "    }\n",
       "\n",
       "    .dataframe thead th {\n",
       "        text-align: right;\n",
       "    }\n",
       "</style>\n",
       "<table border=\"1\" class=\"dataframe\">\n",
       "  <thead>\n",
       "    <tr style=\"text-align: right;\">\n",
       "      <th></th>\n",
       "      <th>start_frame</th>\n",
       "      <th>stop_frame</th>\n",
       "      <th>tracked_subject</th>\n",
       "      <th>in_video_subjects</th>\n",
       "      <th>box_number</th>\n",
       "      <th>sleap_name</th>\n",
       "      <th>video_name</th>\n",
       "      <th>current_subject</th>\n",
       "      <th>sleap_glob</th>\n",
       "      <th>sleap_path</th>\n",
       "      <th>...</th>\n",
       "      <th>average_width</th>\n",
       "      <th>width_ratio</th>\n",
       "      <th>height_ratio</th>\n",
       "      <th>rescaled_locations</th>\n",
       "      <th>box_top_left</th>\n",
       "      <th>box_top_right</th>\n",
       "      <th>reward_port</th>\n",
       "      <th>box_bottom_left</th>\n",
       "      <th>box_bottom_right</th>\n",
       "      <th>agent</th>\n",
       "    </tr>\n",
       "  </thead>\n",
       "  <tbody>\n",
       "    <tr>\n",
       "      <th>1</th>\n",
       "      <td>1</td>\n",
       "      <td>32300</td>\n",
       "      <td>[1.1, 1.2]</td>\n",
       "      <td>[1.1, 1.2]</td>\n",
       "      <td>1</td>\n",
       "      <td>20230612_112630_standard_comp_to_training_D1_s...</td>\n",
       "      <td>20230612_112630_standard_comp_to_training_D1_s...</td>\n",
       "      <td>1.1</td>\n",
       "      <td>[./data/20230612_112630_standard_comp_to_train...</td>\n",
       "      <td>./data/20230612_112630_standard_comp_to_traini...</td>\n",
       "      <td>...</td>\n",
       "      <td>209.768379</td>\n",
       "      <td>0.140631</td>\n",
       "      <td>0.089984</td>\n",
       "      <td>{'1.1': [[[34.25438031 35.66763544], [34.76795...</td>\n",
       "      <td>[30.24932345912479, 10.25122851487125]</td>\n",
       "      <td>[59.816912963855586, 10.100544626940918]</td>\n",
       "      <td>[45.23441700698972, 35.83828707637651]</td>\n",
       "      <td>[30.458913657178506, 34.21867013031604]</td>\n",
       "      <td>[59.89132415244771, 34.13310301149612]</td>\n",
       "      <td>1.2</td>\n",
       "    </tr>\n",
       "    <tr>\n",
       "      <th>2</th>\n",
       "      <td>1</td>\n",
       "      <td>32300</td>\n",
       "      <td>[1.1, 1.2]</td>\n",
       "      <td>[1.1, 1.2]</td>\n",
       "      <td>1</td>\n",
       "      <td>20230612_112630_standard_comp_to_training_D1_s...</td>\n",
       "      <td>20230612_112630_standard_comp_to_training_D1_s...</td>\n",
       "      <td>1.2</td>\n",
       "      <td>[./data/20230612_112630_standard_comp_to_train...</td>\n",
       "      <td>./data/20230612_112630_standard_comp_to_traini...</td>\n",
       "      <td>...</td>\n",
       "      <td>209.768379</td>\n",
       "      <td>0.140631</td>\n",
       "      <td>0.089984</td>\n",
       "      <td>{'1.1': [[[34.25438031 35.66763544], [34.76795...</td>\n",
       "      <td>[30.24932345912479, 10.25122851487125]</td>\n",
       "      <td>[59.816912963855586, 10.100544626940918]</td>\n",
       "      <td>[45.23441700698972, 35.83828707637651]</td>\n",
       "      <td>[30.458913657178506, 34.21867013031604]</td>\n",
       "      <td>[59.89132415244771, 34.13310301149612]</td>\n",
       "      <td>1.1</td>\n",
       "    </tr>\n",
       "    <tr>\n",
       "      <th>4</th>\n",
       "      <td>1</td>\n",
       "      <td>33000</td>\n",
       "      <td>[1.1, 1.4]</td>\n",
       "      <td>[1.1, 1.4]</td>\n",
       "      <td>1</td>\n",
       "      <td>20230613_105657_standard_comp_to_training_D2_s...</td>\n",
       "      <td>20230613_105657_standard_comp_to_training_D2_s...</td>\n",
       "      <td>1.1</td>\n",
       "      <td>[./data/20230613_105657_standard_comp_to_train...</td>\n",
       "      <td>./data/20230613_105657_standard_comp_to_traini...</td>\n",
       "      <td>...</td>\n",
       "      <td>212.368779</td>\n",
       "      <td>0.138909</td>\n",
       "      <td>0.091180</td>\n",
       "      <td>{'1.1': [[[47.19772262 36.49884996], [43.93209...</td>\n",
       "      <td>[29.42717788149638, 10.939657307701639]</td>\n",
       "      <td>[58.80982189308497, 10.239514076824564]</td>\n",
       "      <td>[45.31189572048577, 36.38317068198775]</td>\n",
       "      <td>[30.490085836306232, 34.91627159792731]</td>\n",
       "      <td>[60.10744182471764, 34.262899786598894]</td>\n",
       "      <td>1.4</td>\n",
       "    </tr>\n",
       "    <tr>\n",
       "      <th>5</th>\n",
       "      <td>1</td>\n",
       "      <td>33000</td>\n",
       "      <td>[1.1, 1.4]</td>\n",
       "      <td>[1.1, 1.4]</td>\n",
       "      <td>1</td>\n",
       "      <td>20230613_105657_standard_comp_to_training_D2_s...</td>\n",
       "      <td>20230613_105657_standard_comp_to_training_D2_s...</td>\n",
       "      <td>1.4</td>\n",
       "      <td>[./data/20230613_105657_standard_comp_to_train...</td>\n",
       "      <td>./data/20230613_105657_standard_comp_to_traini...</td>\n",
       "      <td>...</td>\n",
       "      <td>212.368779</td>\n",
       "      <td>0.138909</td>\n",
       "      <td>0.091180</td>\n",
       "      <td>{'1.1': [[[47.19772262 36.49884996], [43.93209...</td>\n",
       "      <td>[29.42717788149638, 10.939657307701639]</td>\n",
       "      <td>[58.80982189308497, 10.239514076824564]</td>\n",
       "      <td>[45.31189572048577, 36.38317068198775]</td>\n",
       "      <td>[30.490085836306232, 34.91627159792731]</td>\n",
       "      <td>[60.10744182471764, 34.262899786598894]</td>\n",
       "      <td>1.1</td>\n",
       "    </tr>\n",
       "    <tr>\n",
       "      <th>7</th>\n",
       "      <td>1</td>\n",
       "      <td>32200</td>\n",
       "      <td>[1.1, 1.2]</td>\n",
       "      <td>[1.1, 1.2]</td>\n",
       "      <td>1</td>\n",
       "      <td>20230614_114041_standard_comp_to_training_D3_s...</td>\n",
       "      <td>20230614_114041_standard_comp_to_training_D3_s...</td>\n",
       "      <td>1.1</td>\n",
       "      <td>[./data/20230614_114041_standard_comp_to_train...</td>\n",
       "      <td>./data/20230614_114041_standard_comp_to_traini...</td>\n",
       "      <td>...</td>\n",
       "      <td>212.714155</td>\n",
       "      <td>0.138684</td>\n",
       "      <td>0.091993</td>\n",
       "      <td>{'1.1': [[[52.51888343 36.28326548], [52.00764...</td>\n",
       "      <td>[29.10707058981441, 11.364487226798616]</td>\n",
       "      <td>[58.883863567261514, 10.806271116252097]</td>\n",
       "      <td>[45.44232917370965, 36.91440422283628]</td>\n",
       "      <td>[30.339373669373565, 35.17083382117832]</td>\n",
       "      <td>[59.562580691926456, 34.99992452187238]</td>\n",
       "      <td>1.2</td>\n",
       "    </tr>\n",
       "  </tbody>\n",
       "</table>\n",
       "<p>5 rows × 33 columns</p>\n",
       "</div>"
      ],
      "text/plain": [
       "   start_frame  stop_frame tracked_subject in_video_subjects  box_number  \\\n",
       "1            1       32300      [1.1, 1.2]        [1.1, 1.2]           1   \n",
       "2            1       32300      [1.1, 1.2]        [1.1, 1.2]           1   \n",
       "4            1       33000      [1.1, 1.4]        [1.1, 1.4]           1   \n",
       "5            1       33000      [1.1, 1.4]        [1.1, 1.4]           1   \n",
       "7            1       32200      [1.1, 1.2]        [1.1, 1.2]           1   \n",
       "\n",
       "                                          sleap_name  \\\n",
       "1  20230612_112630_standard_comp_to_training_D1_s...   \n",
       "2  20230612_112630_standard_comp_to_training_D1_s...   \n",
       "4  20230613_105657_standard_comp_to_training_D2_s...   \n",
       "5  20230613_105657_standard_comp_to_training_D2_s...   \n",
       "7  20230614_114041_standard_comp_to_training_D3_s...   \n",
       "\n",
       "                                          video_name current_subject  \\\n",
       "1  20230612_112630_standard_comp_to_training_D1_s...             1.1   \n",
       "2  20230612_112630_standard_comp_to_training_D1_s...             1.2   \n",
       "4  20230613_105657_standard_comp_to_training_D2_s...             1.1   \n",
       "5  20230613_105657_standard_comp_to_training_D2_s...             1.4   \n",
       "7  20230614_114041_standard_comp_to_training_D3_s...             1.1   \n",
       "\n",
       "                                          sleap_glob  \\\n",
       "1  [./data/20230612_112630_standard_comp_to_train...   \n",
       "2  [./data/20230612_112630_standard_comp_to_train...   \n",
       "4  [./data/20230613_105657_standard_comp_to_train...   \n",
       "5  [./data/20230613_105657_standard_comp_to_train...   \n",
       "7  [./data/20230614_114041_standard_comp_to_train...   \n",
       "\n",
       "                                          sleap_path  ... average_width  \\\n",
       "1  ./data/20230612_112630_standard_comp_to_traini...  ...    209.768379   \n",
       "2  ./data/20230612_112630_standard_comp_to_traini...  ...    209.768379   \n",
       "4  ./data/20230613_105657_standard_comp_to_traini...  ...    212.368779   \n",
       "5  ./data/20230613_105657_standard_comp_to_traini...  ...    212.368779   \n",
       "7  ./data/20230614_114041_standard_comp_to_traini...  ...    212.714155   \n",
       "\n",
       "  width_ratio height_ratio                                 rescaled_locations  \\\n",
       "1    0.140631     0.089984  {'1.1': [[[34.25438031 35.66763544], [34.76795...   \n",
       "2    0.140631     0.089984  {'1.1': [[[34.25438031 35.66763544], [34.76795...   \n",
       "4    0.138909     0.091180  {'1.1': [[[47.19772262 36.49884996], [43.93209...   \n",
       "5    0.138909     0.091180  {'1.1': [[[47.19772262 36.49884996], [43.93209...   \n",
       "7    0.138684     0.091993  {'1.1': [[[52.51888343 36.28326548], [52.00764...   \n",
       "\n",
       "                              box_top_left  \\\n",
       "1   [30.24932345912479, 10.25122851487125]   \n",
       "2   [30.24932345912479, 10.25122851487125]   \n",
       "4  [29.42717788149638, 10.939657307701639]   \n",
       "5  [29.42717788149638, 10.939657307701639]   \n",
       "7  [29.10707058981441, 11.364487226798616]   \n",
       "\n",
       "                              box_top_right  \\\n",
       "1  [59.816912963855586, 10.100544626940918]   \n",
       "2  [59.816912963855586, 10.100544626940918]   \n",
       "4   [58.80982189308497, 10.239514076824564]   \n",
       "5   [58.80982189308497, 10.239514076824564]   \n",
       "7  [58.883863567261514, 10.806271116252097]   \n",
       "\n",
       "                              reward_port  \\\n",
       "1  [45.23441700698972, 35.83828707637651]   \n",
       "2  [45.23441700698972, 35.83828707637651]   \n",
       "4  [45.31189572048577, 36.38317068198775]   \n",
       "5  [45.31189572048577, 36.38317068198775]   \n",
       "7  [45.44232917370965, 36.91440422283628]   \n",
       "\n",
       "                           box_bottom_left  \\\n",
       "1  [30.458913657178506, 34.21867013031604]   \n",
       "2  [30.458913657178506, 34.21867013031604]   \n",
       "4  [30.490085836306232, 34.91627159792731]   \n",
       "5  [30.490085836306232, 34.91627159792731]   \n",
       "7  [30.339373669373565, 35.17083382117832]   \n",
       "\n",
       "                          box_bottom_right  agent  \n",
       "1   [59.89132415244771, 34.13310301149612]    1.2  \n",
       "2   [59.89132415244771, 34.13310301149612]    1.1  \n",
       "4  [60.10744182471764, 34.262899786598894]    1.4  \n",
       "5  [60.10744182471764, 34.262899786598894]    1.1  \n",
       "7  [59.562580691926456, 34.99992452187238]    1.2  \n",
       "\n",
       "[5 rows x 33 columns]"
      ]
     },
     "execution_count": 125,
     "metadata": {},
     "output_type": "execute_result"
    }
   ],
   "source": [
    "START_STOP_FRAME_DF.head()"
   ]
  },
  {
   "cell_type": "code",
   "execution_count": 126,
   "metadata": {},
   "outputs": [],
   "source": [
    "START_STOP_FRAME_DF[\"subject_locations\"] = START_STOP_FRAME_DF.apply(lambda x: x[\"rescaled_locations\"][x[\"current_subject\"]] , axis=1)"
   ]
  },
  {
   "cell_type": "code",
   "execution_count": 127,
   "metadata": {},
   "outputs": [],
   "source": [
    "START_STOP_FRAME_DF[\"agent_locations\"] = START_STOP_FRAME_DF.apply(lambda x: x[\"rescaled_locations\"].get(x[\"agent\"], np.nan) if x[\"agent\"] else np.nan, axis=1)"
   ]
  },
  {
   "cell_type": "markdown",
   "metadata": {},
   "source": [
    "## Getting all the timestamps"
   ]
  },
  {
   "cell_type": "code",
   "execution_count": 128,
   "metadata": {},
   "outputs": [
    {
     "data": {
      "text/plain": [
       "Index(['start_frame', 'stop_frame', 'tracked_subject', 'in_video_subjects',\n",
       "       'box_number', 'sleap_name', 'video_name', 'current_subject',\n",
       "       'sleap_glob', 'sleap_path', 'all_sleap_data', 'body_parts', 'locations',\n",
       "       'track_names', 'subject_to_index', 'subject_to_tracks', 'corner_path',\n",
       "       'corner_parts', 'bottom_width', 'top_width', 'right_height',\n",
       "       'left_height', 'average_height', 'average_width', 'width_ratio',\n",
       "       'height_ratio', 'rescaled_locations', 'box_top_left', 'box_top_right',\n",
       "       'reward_port', 'box_bottom_left', 'box_bottom_right', 'agent',\n",
       "       'subject_locations', 'agent_locations'],\n",
       "      dtype='object')"
      ]
     },
     "execution_count": 128,
     "metadata": {},
     "output_type": "execute_result"
    }
   ],
   "source": [
    "START_STOP_FRAME_DF.columns"
   ]
  },
  {
   "cell_type": "code",
   "execution_count": 129,
   "metadata": {},
   "outputs": [],
   "source": [
    "START_STOP_FRAME_DF[\"frame_index\"] = START_STOP_FRAME_DF[\"subject_locations\"].apply(lambda x: np.arange(0, x.shape[0]) + 1)"
   ]
  },
  {
   "cell_type": "markdown",
   "metadata": {},
   "source": [
    "## Removing unnecessary columns"
   ]
  },
  {
   "cell_type": "code",
   "execution_count": 130,
   "metadata": {},
   "outputs": [],
   "source": [
    "START_STOP_FRAME_DF = START_STOP_FRAME_DF.drop([\"sleap_glob\", \"subject_to_index\", \"subject_to_tracks\", \"corner_parts\", \"corner_to_coordinate\", \"bottom_width\", \"top_width\", \"right_height\", \"left_height\", \"average_height\", \"average_width\", \"width_ratio\", \"height_ratio\", 'locations', 'track_names', 'sleap_path', 'corner_path', 'all_sleap_data', 'rescaled_locations'], errors=\"ignore\", axis=1)"
   ]
  },
  {
   "cell_type": "code",
   "execution_count": 131,
   "metadata": {},
   "outputs": [
    {
     "data": {
      "text/plain": [
       "Index(['start_frame', 'stop_frame', 'tracked_subject', 'in_video_subjects',\n",
       "       'box_number', 'sleap_name', 'video_name', 'current_subject',\n",
       "       'body_parts', 'box_top_left', 'box_top_right', 'reward_port',\n",
       "       'box_bottom_left', 'box_bottom_right', 'agent', 'subject_locations',\n",
       "       'agent_locations', 'frame_index'],\n",
       "      dtype='object')"
      ]
     },
     "execution_count": 131,
     "metadata": {},
     "output_type": "execute_result"
    }
   ],
   "source": [
    "START_STOP_FRAME_DF.columns"
   ]
  },
  {
   "cell_type": "code",
   "execution_count": 132,
   "metadata": {},
   "outputs": [
    {
     "data": {
      "text/html": [
       "<div>\n",
       "<style scoped>\n",
       "    .dataframe tbody tr th:only-of-type {\n",
       "        vertical-align: middle;\n",
       "    }\n",
       "\n",
       "    .dataframe tbody tr th {\n",
       "        vertical-align: top;\n",
       "    }\n",
       "\n",
       "    .dataframe thead th {\n",
       "        text-align: right;\n",
       "    }\n",
       "</style>\n",
       "<table border=\"1\" class=\"dataframe\">\n",
       "  <thead>\n",
       "    <tr style=\"text-align: right;\">\n",
       "      <th></th>\n",
       "      <th>start_frame</th>\n",
       "      <th>stop_frame</th>\n",
       "      <th>tracked_subject</th>\n",
       "      <th>in_video_subjects</th>\n",
       "      <th>box_number</th>\n",
       "      <th>sleap_name</th>\n",
       "      <th>video_name</th>\n",
       "      <th>current_subject</th>\n",
       "      <th>body_parts</th>\n",
       "      <th>box_top_left</th>\n",
       "      <th>box_top_right</th>\n",
       "      <th>reward_port</th>\n",
       "      <th>box_bottom_left</th>\n",
       "      <th>box_bottom_right</th>\n",
       "      <th>agent</th>\n",
       "      <th>subject_locations</th>\n",
       "      <th>agent_locations</th>\n",
       "      <th>frame_index</th>\n",
       "    </tr>\n",
       "  </thead>\n",
       "  <tbody>\n",
       "    <tr>\n",
       "      <th>1</th>\n",
       "      <td>1</td>\n",
       "      <td>32300</td>\n",
       "      <td>[1.1, 1.2]</td>\n",
       "      <td>[1.1, 1.2]</td>\n",
       "      <td>1</td>\n",
       "      <td>20230612_112630_standard_comp_to_training_D1_s...</td>\n",
       "      <td>20230612_112630_standard_comp_to_training_D1_s...</td>\n",
       "      <td>1.1</td>\n",
       "      <td>[left_ear, right_ear, nose, tail_base, thorax,...</td>\n",
       "      <td>[30.24932345912479, 10.25122851487125]</td>\n",
       "      <td>[59.816912963855586, 10.100544626940918]</td>\n",
       "      <td>[45.23441700698972, 35.83828707637651]</td>\n",
       "      <td>[30.458913657178506, 34.21867013031604]</td>\n",
       "      <td>[59.89132415244771, 34.13310301149612]</td>\n",
       "      <td>1.2</td>\n",
       "      <td>[[[34.25438031064355, 35.667635444835575], [34...</td>\n",
       "      <td>[[[47.229714341638875, 11.540576985831455], [4...</td>\n",
       "      <td>[1, 2, 3, 4, 5, 6, 7, 8, 9, 10, 11, 12, 13, 14...</td>\n",
       "    </tr>\n",
       "    <tr>\n",
       "      <th>2</th>\n",
       "      <td>1</td>\n",
       "      <td>32300</td>\n",
       "      <td>[1.1, 1.2]</td>\n",
       "      <td>[1.1, 1.2]</td>\n",
       "      <td>1</td>\n",
       "      <td>20230612_112630_standard_comp_to_training_D1_s...</td>\n",
       "      <td>20230612_112630_standard_comp_to_training_D1_s...</td>\n",
       "      <td>1.2</td>\n",
       "      <td>[left_ear, right_ear, nose, tail_base, thorax,...</td>\n",
       "      <td>[30.24932345912479, 10.25122851487125]</td>\n",
       "      <td>[59.816912963855586, 10.100544626940918]</td>\n",
       "      <td>[45.23441700698972, 35.83828707637651]</td>\n",
       "      <td>[30.458913657178506, 34.21867013031604]</td>\n",
       "      <td>[59.89132415244771, 34.13310301149612]</td>\n",
       "      <td>1.1</td>\n",
       "      <td>[[[47.229714341638875, 11.540576985831455], [4...</td>\n",
       "      <td>[[[34.25438031064355, 35.667635444835575], [34...</td>\n",
       "      <td>[1, 2, 3, 4, 5, 6, 7, 8, 9, 10, 11, 12, 13, 14...</td>\n",
       "    </tr>\n",
       "    <tr>\n",
       "      <th>4</th>\n",
       "      <td>1</td>\n",
       "      <td>33000</td>\n",
       "      <td>[1.1, 1.4]</td>\n",
       "      <td>[1.1, 1.4]</td>\n",
       "      <td>1</td>\n",
       "      <td>20230613_105657_standard_comp_to_training_D2_s...</td>\n",
       "      <td>20230613_105657_standard_comp_to_training_D2_s...</td>\n",
       "      <td>1.1</td>\n",
       "      <td>[left_ear, right_ear, nose, tail_base, thorax,...</td>\n",
       "      <td>[29.42717788149638, 10.939657307701639]</td>\n",
       "      <td>[58.80982189308497, 10.239514076824564]</td>\n",
       "      <td>[45.31189572048577, 36.38317068198775]</td>\n",
       "      <td>[30.490085836306232, 34.91627159792731]</td>\n",
       "      <td>[60.10744182471764, 34.262899786598894]</td>\n",
       "      <td>1.4</td>\n",
       "      <td>[[[47.197722618012605, 36.49884996438671], [43...</td>\n",
       "      <td>[[[50.364208780909664, 10.861847428311039], [5...</td>\n",
       "      <td>[1, 2, 3, 4, 5, 6, 7, 8, 9, 10, 11, 12, 13, 14...</td>\n",
       "    </tr>\n",
       "    <tr>\n",
       "      <th>5</th>\n",
       "      <td>1</td>\n",
       "      <td>33000</td>\n",
       "      <td>[1.1, 1.4]</td>\n",
       "      <td>[1.1, 1.4]</td>\n",
       "      <td>1</td>\n",
       "      <td>20230613_105657_standard_comp_to_training_D2_s...</td>\n",
       "      <td>20230613_105657_standard_comp_to_training_D2_s...</td>\n",
       "      <td>1.4</td>\n",
       "      <td>[left_ear, right_ear, nose, tail_base, thorax,...</td>\n",
       "      <td>[29.42717788149638, 10.939657307701639]</td>\n",
       "      <td>[58.80982189308497, 10.239514076824564]</td>\n",
       "      <td>[45.31189572048577, 36.38317068198775]</td>\n",
       "      <td>[30.490085836306232, 34.91627159792731]</td>\n",
       "      <td>[60.10744182471764, 34.262899786598894]</td>\n",
       "      <td>1.1</td>\n",
       "      <td>[[[50.364208780909664, 10.861847428311039], [5...</td>\n",
       "      <td>[[[47.197722618012605, 36.49884996438671], [43...</td>\n",
       "      <td>[1, 2, 3, 4, 5, 6, 7, 8, 9, 10, 11, 12, 13, 14...</td>\n",
       "    </tr>\n",
       "    <tr>\n",
       "      <th>7</th>\n",
       "      <td>1</td>\n",
       "      <td>32200</td>\n",
       "      <td>[1.1, 1.2]</td>\n",
       "      <td>[1.1, 1.2]</td>\n",
       "      <td>1</td>\n",
       "      <td>20230614_114041_standard_comp_to_training_D3_s...</td>\n",
       "      <td>20230614_114041_standard_comp_to_training_D3_s...</td>\n",
       "      <td>1.1</td>\n",
       "      <td>[left_ear, right_ear, nose, tail_base, thorax,...</td>\n",
       "      <td>[29.10707058981441, 11.364487226798616]</td>\n",
       "      <td>[58.883863567261514, 10.806271116252097]</td>\n",
       "      <td>[45.44232917370965, 36.91440422283628]</td>\n",
       "      <td>[30.339373669373565, 35.17083382117832]</td>\n",
       "      <td>[59.562580691926456, 34.99992452187238]</td>\n",
       "      <td>1.2</td>\n",
       "      <td>[[[52.518883426095876, 36.28326548413289], [52...</td>\n",
       "      <td>[[[44.894543657007155, 33.83744818008539], [44...</td>\n",
       "      <td>[1, 2, 3, 4, 5, 6, 7, 8, 9, 10, 11, 12, 13, 14...</td>\n",
       "    </tr>\n",
       "  </tbody>\n",
       "</table>\n",
       "</div>"
      ],
      "text/plain": [
       "   start_frame  stop_frame tracked_subject in_video_subjects  box_number  \\\n",
       "1            1       32300      [1.1, 1.2]        [1.1, 1.2]           1   \n",
       "2            1       32300      [1.1, 1.2]        [1.1, 1.2]           1   \n",
       "4            1       33000      [1.1, 1.4]        [1.1, 1.4]           1   \n",
       "5            1       33000      [1.1, 1.4]        [1.1, 1.4]           1   \n",
       "7            1       32200      [1.1, 1.2]        [1.1, 1.2]           1   \n",
       "\n",
       "                                          sleap_name  \\\n",
       "1  20230612_112630_standard_comp_to_training_D1_s...   \n",
       "2  20230612_112630_standard_comp_to_training_D1_s...   \n",
       "4  20230613_105657_standard_comp_to_training_D2_s...   \n",
       "5  20230613_105657_standard_comp_to_training_D2_s...   \n",
       "7  20230614_114041_standard_comp_to_training_D3_s...   \n",
       "\n",
       "                                          video_name current_subject  \\\n",
       "1  20230612_112630_standard_comp_to_training_D1_s...             1.1   \n",
       "2  20230612_112630_standard_comp_to_training_D1_s...             1.2   \n",
       "4  20230613_105657_standard_comp_to_training_D2_s...             1.1   \n",
       "5  20230613_105657_standard_comp_to_training_D2_s...             1.4   \n",
       "7  20230614_114041_standard_comp_to_training_D3_s...             1.1   \n",
       "\n",
       "                                          body_parts  \\\n",
       "1  [left_ear, right_ear, nose, tail_base, thorax,...   \n",
       "2  [left_ear, right_ear, nose, tail_base, thorax,...   \n",
       "4  [left_ear, right_ear, nose, tail_base, thorax,...   \n",
       "5  [left_ear, right_ear, nose, tail_base, thorax,...   \n",
       "7  [left_ear, right_ear, nose, tail_base, thorax,...   \n",
       "\n",
       "                              box_top_left  \\\n",
       "1   [30.24932345912479, 10.25122851487125]   \n",
       "2   [30.24932345912479, 10.25122851487125]   \n",
       "4  [29.42717788149638, 10.939657307701639]   \n",
       "5  [29.42717788149638, 10.939657307701639]   \n",
       "7  [29.10707058981441, 11.364487226798616]   \n",
       "\n",
       "                              box_top_right  \\\n",
       "1  [59.816912963855586, 10.100544626940918]   \n",
       "2  [59.816912963855586, 10.100544626940918]   \n",
       "4   [58.80982189308497, 10.239514076824564]   \n",
       "5   [58.80982189308497, 10.239514076824564]   \n",
       "7  [58.883863567261514, 10.806271116252097]   \n",
       "\n",
       "                              reward_port  \\\n",
       "1  [45.23441700698972, 35.83828707637651]   \n",
       "2  [45.23441700698972, 35.83828707637651]   \n",
       "4  [45.31189572048577, 36.38317068198775]   \n",
       "5  [45.31189572048577, 36.38317068198775]   \n",
       "7  [45.44232917370965, 36.91440422283628]   \n",
       "\n",
       "                           box_bottom_left  \\\n",
       "1  [30.458913657178506, 34.21867013031604]   \n",
       "2  [30.458913657178506, 34.21867013031604]   \n",
       "4  [30.490085836306232, 34.91627159792731]   \n",
       "5  [30.490085836306232, 34.91627159792731]   \n",
       "7  [30.339373669373565, 35.17083382117832]   \n",
       "\n",
       "                          box_bottom_right agent  \\\n",
       "1   [59.89132415244771, 34.13310301149612]   1.2   \n",
       "2   [59.89132415244771, 34.13310301149612]   1.1   \n",
       "4  [60.10744182471764, 34.262899786598894]   1.4   \n",
       "5  [60.10744182471764, 34.262899786598894]   1.1   \n",
       "7  [59.562580691926456, 34.99992452187238]   1.2   \n",
       "\n",
       "                                   subject_locations  \\\n",
       "1  [[[34.25438031064355, 35.667635444835575], [34...   \n",
       "2  [[[47.229714341638875, 11.540576985831455], [4...   \n",
       "4  [[[47.197722618012605, 36.49884996438671], [43...   \n",
       "5  [[[50.364208780909664, 10.861847428311039], [5...   \n",
       "7  [[[52.518883426095876, 36.28326548413289], [52...   \n",
       "\n",
       "                                     agent_locations  \\\n",
       "1  [[[47.229714341638875, 11.540576985831455], [4...   \n",
       "2  [[[34.25438031064355, 35.667635444835575], [34...   \n",
       "4  [[[50.364208780909664, 10.861847428311039], [5...   \n",
       "5  [[[47.197722618012605, 36.49884996438671], [43...   \n",
       "7  [[[44.894543657007155, 33.83744818008539], [44...   \n",
       "\n",
       "                                         frame_index  \n",
       "1  [1, 2, 3, 4, 5, 6, 7, 8, 9, 10, 11, 12, 13, 14...  \n",
       "2  [1, 2, 3, 4, 5, 6, 7, 8, 9, 10, 11, 12, 13, 14...  \n",
       "4  [1, 2, 3, 4, 5, 6, 7, 8, 9, 10, 11, 12, 13, 14...  \n",
       "5  [1, 2, 3, 4, 5, 6, 7, 8, 9, 10, 11, 12, 13, 14...  \n",
       "7  [1, 2, 3, 4, 5, 6, 7, 8, 9, 10, 11, 12, 13, 14...  "
      ]
     },
     "execution_count": 132,
     "metadata": {},
     "output_type": "execute_result"
    }
   ],
   "source": [
    "START_STOP_FRAME_DF.head()"
   ]
  },
  {
   "cell_type": "markdown",
   "metadata": {},
   "source": [
    "# Calculate relavant features"
   ]
  },
  {
   "cell_type": "markdown",
   "metadata": {},
   "source": [
    "## Features to calculate\n",
    "\n",
    "1. velocity of the mice\n",
    "2. distance between thoraxes\n",
    "3. distances to port of mice\n",
    "4. angles of orientation of mice to port\n",
    "\n",
    "\n"
   ]
  },
  {
   "cell_type": "markdown",
   "metadata": {},
   "source": [
    "Original features to calculate\n",
    "1. distance between thoraxes\n",
    "2. velocity of mouse 1 + velocity of mouse 2\n",
    "3. | velocity of mouse 1 - velocity of mouse 2 |\n",
    "4. sum of angles of orientation of mice to port\n",
    "5. | difference of angles of orientation of mice to port |\n",
    "6. sum of distances to port of mice\n",
    "7. | differences of distances to port of mice |"
   ]
  },
  {
   "cell_type": "code",
   "execution_count": 133,
   "metadata": {
    "tags": []
   },
   "outputs": [
    {
     "data": {
      "text/plain": [
       "Index(['start_frame', 'stop_frame', 'tracked_subject', 'in_video_subjects',\n",
       "       'box_number', 'sleap_name', 'video_name', 'current_subject',\n",
       "       'body_parts', 'box_top_left', 'box_top_right', 'reward_port',\n",
       "       'box_bottom_left', 'box_bottom_right', 'agent', 'subject_locations',\n",
       "       'agent_locations', 'frame_index'],\n",
       "      dtype='object')"
      ]
     },
     "execution_count": 133,
     "metadata": {},
     "output_type": "execute_result"
    }
   ],
   "source": [
    "START_STOP_FRAME_DF.columns"
   ]
  },
  {
   "cell_type": "markdown",
   "metadata": {},
   "source": [
    "# Getting relavent body parts"
   ]
  },
  {
   "cell_type": "code",
   "execution_count": 134,
   "metadata": {
    "tags": []
   },
   "outputs": [
    {
     "data": {
      "text/plain": [
       "1     4\n",
       "2     4\n",
       "4     4\n",
       "5     4\n",
       "7     4\n",
       "8     4\n",
       "10    4\n",
       "11    4\n",
       "13    4\n",
       "14    4\n",
       "16    4\n",
       "17    4\n",
       "19    4\n",
       "20    4\n",
       "21    4\n",
       "22    4\n",
       "23    4\n",
       "24    4\n",
       "25    4\n",
       "26    4\n",
       "27    4\n",
       "28    4\n",
       "29    4\n",
       "30    4\n",
       "31    4\n",
       "32    4\n",
       "33    4\n",
       "34    4\n",
       "35    4\n",
       "36    4\n",
       "37    4\n",
       "38    4\n",
       "39    4\n",
       "40    4\n",
       "41    4\n",
       "42    4\n",
       "43    4\n",
       "44    4\n",
       "45    4\n",
       "46    4\n",
       "47    4\n",
       "48    4\n",
       "49    4\n",
       "50    4\n",
       "51    4\n",
       "52    4\n",
       "Name: body_parts, dtype: int64"
      ]
     },
     "execution_count": 134,
     "metadata": {},
     "output_type": "execute_result"
    }
   ],
   "source": [
    "START_STOP_FRAME_DF[\"body_parts\"].apply(lambda x: x.index(\"thorax\"))"
   ]
  },
  {
   "cell_type": "code",
   "execution_count": 135,
   "metadata": {},
   "outputs": [],
   "source": [
    "START_STOP_FRAME_DF[\"subject_thorax\"] = START_STOP_FRAME_DF.apply(lambda x: x[\"subject_locations\"][:,x[\"body_parts\"].index(\"thorax\"),:], axis=1)\n",
    "START_STOP_FRAME_DF[\"subject_nose\"] = START_STOP_FRAME_DF.apply(lambda x: x[\"subject_locations\"][:,x[\"body_parts\"].index(\"nose\"),:], axis=1)\n",
    "START_STOP_FRAME_DF[\"subject_tail_base\"] = START_STOP_FRAME_DF.apply(lambda x: x[\"subject_locations\"][:,x[\"body_parts\"].index(\"tail_base\"),:], axis=1)\n"
   ]
  },
  {
   "cell_type": "code",
   "execution_count": 136,
   "metadata": {},
   "outputs": [],
   "source": [
    "START_STOP_FRAME_DF[\"agent_thorax\"] = START_STOP_FRAME_DF.apply(lambda x: x[\"agent_locations\"][:,x[\"body_parts\"].index(\"thorax\"),:], axis=1)\n",
    "START_STOP_FRAME_DF[\"agent_nose\"] = START_STOP_FRAME_DF.apply(lambda x: x[\"agent_locations\"][:,x[\"body_parts\"].index(\"nose\"),:], axis=1)\n",
    "START_STOP_FRAME_DF[\"agent_tail_base\"] = START_STOP_FRAME_DF.apply(lambda x: x[\"subject_locations\"][:,x[\"body_parts\"].index(\"tail_base\"),:], axis=1)\n"
   ]
  },
  {
   "cell_type": "code",
   "execution_count": 137,
   "metadata": {},
   "outputs": [
    {
     "data": {
      "text/html": [
       "<div>\n",
       "<style scoped>\n",
       "    .dataframe tbody tr th:only-of-type {\n",
       "        vertical-align: middle;\n",
       "    }\n",
       "\n",
       "    .dataframe tbody tr th {\n",
       "        vertical-align: top;\n",
       "    }\n",
       "\n",
       "    .dataframe thead th {\n",
       "        text-align: right;\n",
       "    }\n",
       "</style>\n",
       "<table border=\"1\" class=\"dataframe\">\n",
       "  <thead>\n",
       "    <tr style=\"text-align: right;\">\n",
       "      <th></th>\n",
       "      <th>start_frame</th>\n",
       "      <th>stop_frame</th>\n",
       "      <th>tracked_subject</th>\n",
       "      <th>in_video_subjects</th>\n",
       "      <th>box_number</th>\n",
       "      <th>sleap_name</th>\n",
       "      <th>video_name</th>\n",
       "      <th>current_subject</th>\n",
       "      <th>body_parts</th>\n",
       "      <th>box_top_left</th>\n",
       "      <th>...</th>\n",
       "      <th>agent</th>\n",
       "      <th>subject_locations</th>\n",
       "      <th>agent_locations</th>\n",
       "      <th>frame_index</th>\n",
       "      <th>subject_thorax</th>\n",
       "      <th>subject_nose</th>\n",
       "      <th>subject_tail_base</th>\n",
       "      <th>agent_thorax</th>\n",
       "      <th>agent_nose</th>\n",
       "      <th>agent_tail_base</th>\n",
       "    </tr>\n",
       "  </thead>\n",
       "  <tbody>\n",
       "    <tr>\n",
       "      <th>1</th>\n",
       "      <td>1</td>\n",
       "      <td>32300</td>\n",
       "      <td>[1.1, 1.2]</td>\n",
       "      <td>[1.1, 1.2]</td>\n",
       "      <td>1</td>\n",
       "      <td>20230612_112630_standard_comp_to_training_D1_s...</td>\n",
       "      <td>20230612_112630_standard_comp_to_training_D1_s...</td>\n",
       "      <td>1.1</td>\n",
       "      <td>[left_ear, right_ear, nose, tail_base, thorax,...</td>\n",
       "      <td>[30.24932345912479, 10.25122851487125]</td>\n",
       "      <td>...</td>\n",
       "      <td>1.2</td>\n",
       "      <td>[[[34.25438031064355, 35.667635444835575], [34...</td>\n",
       "      <td>[[[47.229714341638875, 11.540576985831455], [4...</td>\n",
       "      <td>[1, 2, 3, 4, 5, 6, 7, 8, 9, 10, 11, 12, 13, 14...</td>\n",
       "      <td>[[39.52385035395619, 34.4047879939674], [39.75...</td>\n",
       "      <td>[[32.24815257269072, 34.21344397609933], [32.2...</td>\n",
       "      <td>[[43.24533105018797, 34.074110688844804], [43....</td>\n",
       "      <td>[[45.00564713899357, 9.423307742464585], [45.0...</td>\n",
       "      <td>[[45.26381166791732, 14.406486324022024], [45....</td>\n",
       "      <td>[[43.24533105018797, 34.074110688844804], [43....</td>\n",
       "    </tr>\n",
       "    <tr>\n",
       "      <th>2</th>\n",
       "      <td>1</td>\n",
       "      <td>32300</td>\n",
       "      <td>[1.1, 1.2]</td>\n",
       "      <td>[1.1, 1.2]</td>\n",
       "      <td>1</td>\n",
       "      <td>20230612_112630_standard_comp_to_training_D1_s...</td>\n",
       "      <td>20230612_112630_standard_comp_to_training_D1_s...</td>\n",
       "      <td>1.2</td>\n",
       "      <td>[left_ear, right_ear, nose, tail_base, thorax,...</td>\n",
       "      <td>[30.24932345912479, 10.25122851487125]</td>\n",
       "      <td>...</td>\n",
       "      <td>1.1</td>\n",
       "      <td>[[[47.229714341638875, 11.540576985831455], [4...</td>\n",
       "      <td>[[[34.25438031064355, 35.667635444835575], [34...</td>\n",
       "      <td>[1, 2, 3, 4, 5, 6, 7, 8, 9, 10, 11, 12, 13, 14...</td>\n",
       "      <td>[[45.00564713899357, 9.423307742464585], [45.0...</td>\n",
       "      <td>[[45.26381166791732, 14.406486324022024], [45....</td>\n",
       "      <td>[[49.00673383082635, 9.416220799854717], [48.7...</td>\n",
       "      <td>[[39.52385035395619, 34.4047879939674], [39.75...</td>\n",
       "      <td>[[32.24815257269072, 34.21344397609933], [32.2...</td>\n",
       "      <td>[[49.00673383082635, 9.416220799854717], [48.7...</td>\n",
       "    </tr>\n",
       "    <tr>\n",
       "      <th>4</th>\n",
       "      <td>1</td>\n",
       "      <td>33000</td>\n",
       "      <td>[1.1, 1.4]</td>\n",
       "      <td>[1.1, 1.4]</td>\n",
       "      <td>1</td>\n",
       "      <td>20230613_105657_standard_comp_to_training_D2_s...</td>\n",
       "      <td>20230613_105657_standard_comp_to_training_D2_s...</td>\n",
       "      <td>1.1</td>\n",
       "      <td>[left_ear, right_ear, nose, tail_base, thorax,...</td>\n",
       "      <td>[29.42717788149638, 10.939657307701639]</td>\n",
       "      <td>...</td>\n",
       "      <td>1.4</td>\n",
       "      <td>[[[47.197722618012605, 36.49884996438671], [43...</td>\n",
       "      <td>[[[50.364208780909664, 10.861847428311039], [5...</td>\n",
       "      <td>[1, 2, 3, 4, 5, 6, 7, 8, 9, 10, 11, 12, 13, 14...</td>\n",
       "      <td>[[49.63542666038801, 33.24704611284072], [48.9...</td>\n",
       "      <td>[[44.697651823519216, 37.62940888611388], [44....</td>\n",
       "      <td>[[50.617745398002654, 29.99575147694706], [50....</td>\n",
       "      <td>[[56.28849066093229, 10.712517155668237], [56....</td>\n",
       "      <td>[[48.116585135368, 8.74652456522477], [47.9209...</td>\n",
       "      <td>[[50.617745398002654, 29.99575147694706], [50....</td>\n",
       "    </tr>\n",
       "    <tr>\n",
       "      <th>5</th>\n",
       "      <td>1</td>\n",
       "      <td>33000</td>\n",
       "      <td>[1.1, 1.4]</td>\n",
       "      <td>[1.1, 1.4]</td>\n",
       "      <td>1</td>\n",
       "      <td>20230613_105657_standard_comp_to_training_D2_s...</td>\n",
       "      <td>20230613_105657_standard_comp_to_training_D2_s...</td>\n",
       "      <td>1.4</td>\n",
       "      <td>[left_ear, right_ear, nose, tail_base, thorax,...</td>\n",
       "      <td>[29.42717788149638, 10.939657307701639]</td>\n",
       "      <td>...</td>\n",
       "      <td>1.1</td>\n",
       "      <td>[[[50.364208780909664, 10.861847428311039], [5...</td>\n",
       "      <td>[[[47.197722618012605, 36.49884996438671], [43...</td>\n",
       "      <td>[1, 2, 3, 4, 5, 6, 7, 8, 9, 10, 11, 12, 13, 14...</td>\n",
       "      <td>[[56.28849066093229, 10.712517155668237], [56....</td>\n",
       "      <td>[[48.116585135368, 8.74652456522477], [47.9209...</td>\n",
       "      <td>[[57.54119673883656, 13.63503656650984], [57.5...</td>\n",
       "      <td>[[49.63542666038801, 33.24704611284072], [48.9...</td>\n",
       "      <td>[[44.697651823519216, 37.62940888611388], [44....</td>\n",
       "      <td>[[57.54119673883656, 13.63503656650984], [57.5...</td>\n",
       "    </tr>\n",
       "    <tr>\n",
       "      <th>7</th>\n",
       "      <td>1</td>\n",
       "      <td>32200</td>\n",
       "      <td>[1.1, 1.2]</td>\n",
       "      <td>[1.1, 1.2]</td>\n",
       "      <td>1</td>\n",
       "      <td>20230614_114041_standard_comp_to_training_D3_s...</td>\n",
       "      <td>20230614_114041_standard_comp_to_training_D3_s...</td>\n",
       "      <td>1.1</td>\n",
       "      <td>[left_ear, right_ear, nose, tail_base, thorax,...</td>\n",
       "      <td>[29.10707058981441, 11.364487226798616]</td>\n",
       "      <td>...</td>\n",
       "      <td>1.2</td>\n",
       "      <td>[[[52.518883426095876, 36.28326548413289], [52...</td>\n",
       "      <td>[[[44.894543657007155, 33.83744818008539], [44...</td>\n",
       "      <td>[1, 2, 3, 4, 5, 6, 7, 8, 9, 10, 11, 12, 13, 14...</td>\n",
       "      <td>[[56.24421089782916, 34.33473514950827], [56.4...</td>\n",
       "      <td>[[49.04541968974865, 35.322835211224344], [49....</td>\n",
       "      <td>[[57.46994633261048, 32.37899539750766], [57.4...</td>\n",
       "      <td>[[40.41122526918516, 34.682322834375185], [40....</td>\n",
       "      <td>[[48.098901297726954, 35.97127570126267], [48....</td>\n",
       "      <td>[[57.46994633261048, 32.37899539750766], [57.4...</td>\n",
       "    </tr>\n",
       "  </tbody>\n",
       "</table>\n",
       "<p>5 rows × 24 columns</p>\n",
       "</div>"
      ],
      "text/plain": [
       "   start_frame  stop_frame tracked_subject in_video_subjects  box_number  \\\n",
       "1            1       32300      [1.1, 1.2]        [1.1, 1.2]           1   \n",
       "2            1       32300      [1.1, 1.2]        [1.1, 1.2]           1   \n",
       "4            1       33000      [1.1, 1.4]        [1.1, 1.4]           1   \n",
       "5            1       33000      [1.1, 1.4]        [1.1, 1.4]           1   \n",
       "7            1       32200      [1.1, 1.2]        [1.1, 1.2]           1   \n",
       "\n",
       "                                          sleap_name  \\\n",
       "1  20230612_112630_standard_comp_to_training_D1_s...   \n",
       "2  20230612_112630_standard_comp_to_training_D1_s...   \n",
       "4  20230613_105657_standard_comp_to_training_D2_s...   \n",
       "5  20230613_105657_standard_comp_to_training_D2_s...   \n",
       "7  20230614_114041_standard_comp_to_training_D3_s...   \n",
       "\n",
       "                                          video_name current_subject  \\\n",
       "1  20230612_112630_standard_comp_to_training_D1_s...             1.1   \n",
       "2  20230612_112630_standard_comp_to_training_D1_s...             1.2   \n",
       "4  20230613_105657_standard_comp_to_training_D2_s...             1.1   \n",
       "5  20230613_105657_standard_comp_to_training_D2_s...             1.4   \n",
       "7  20230614_114041_standard_comp_to_training_D3_s...             1.1   \n",
       "\n",
       "                                          body_parts  \\\n",
       "1  [left_ear, right_ear, nose, tail_base, thorax,...   \n",
       "2  [left_ear, right_ear, nose, tail_base, thorax,...   \n",
       "4  [left_ear, right_ear, nose, tail_base, thorax,...   \n",
       "5  [left_ear, right_ear, nose, tail_base, thorax,...   \n",
       "7  [left_ear, right_ear, nose, tail_base, thorax,...   \n",
       "\n",
       "                              box_top_left  ... agent  \\\n",
       "1   [30.24932345912479, 10.25122851487125]  ...   1.2   \n",
       "2   [30.24932345912479, 10.25122851487125]  ...   1.1   \n",
       "4  [29.42717788149638, 10.939657307701639]  ...   1.4   \n",
       "5  [29.42717788149638, 10.939657307701639]  ...   1.1   \n",
       "7  [29.10707058981441, 11.364487226798616]  ...   1.2   \n",
       "\n",
       "                                   subject_locations  \\\n",
       "1  [[[34.25438031064355, 35.667635444835575], [34...   \n",
       "2  [[[47.229714341638875, 11.540576985831455], [4...   \n",
       "4  [[[47.197722618012605, 36.49884996438671], [43...   \n",
       "5  [[[50.364208780909664, 10.861847428311039], [5...   \n",
       "7  [[[52.518883426095876, 36.28326548413289], [52...   \n",
       "\n",
       "                                     agent_locations  \\\n",
       "1  [[[47.229714341638875, 11.540576985831455], [4...   \n",
       "2  [[[34.25438031064355, 35.667635444835575], [34...   \n",
       "4  [[[50.364208780909664, 10.861847428311039], [5...   \n",
       "5  [[[47.197722618012605, 36.49884996438671], [43...   \n",
       "7  [[[44.894543657007155, 33.83744818008539], [44...   \n",
       "\n",
       "                                         frame_index  \\\n",
       "1  [1, 2, 3, 4, 5, 6, 7, 8, 9, 10, 11, 12, 13, 14...   \n",
       "2  [1, 2, 3, 4, 5, 6, 7, 8, 9, 10, 11, 12, 13, 14...   \n",
       "4  [1, 2, 3, 4, 5, 6, 7, 8, 9, 10, 11, 12, 13, 14...   \n",
       "5  [1, 2, 3, 4, 5, 6, 7, 8, 9, 10, 11, 12, 13, 14...   \n",
       "7  [1, 2, 3, 4, 5, 6, 7, 8, 9, 10, 11, 12, 13, 14...   \n",
       "\n",
       "                                      subject_thorax  \\\n",
       "1  [[39.52385035395619, 34.4047879939674], [39.75...   \n",
       "2  [[45.00564713899357, 9.423307742464585], [45.0...   \n",
       "4  [[49.63542666038801, 33.24704611284072], [48.9...   \n",
       "5  [[56.28849066093229, 10.712517155668237], [56....   \n",
       "7  [[56.24421089782916, 34.33473514950827], [56.4...   \n",
       "\n",
       "                                        subject_nose  \\\n",
       "1  [[32.24815257269072, 34.21344397609933], [32.2...   \n",
       "2  [[45.26381166791732, 14.406486324022024], [45....   \n",
       "4  [[44.697651823519216, 37.62940888611388], [44....   \n",
       "5  [[48.116585135368, 8.74652456522477], [47.9209...   \n",
       "7  [[49.04541968974865, 35.322835211224344], [49....   \n",
       "\n",
       "                                   subject_tail_base  \\\n",
       "1  [[43.24533105018797, 34.074110688844804], [43....   \n",
       "2  [[49.00673383082635, 9.416220799854717], [48.7...   \n",
       "4  [[50.617745398002654, 29.99575147694706], [50....   \n",
       "5  [[57.54119673883656, 13.63503656650984], [57.5...   \n",
       "7  [[57.46994633261048, 32.37899539750766], [57.4...   \n",
       "\n",
       "                                        agent_thorax  \\\n",
       "1  [[45.00564713899357, 9.423307742464585], [45.0...   \n",
       "2  [[39.52385035395619, 34.4047879939674], [39.75...   \n",
       "4  [[56.28849066093229, 10.712517155668237], [56....   \n",
       "5  [[49.63542666038801, 33.24704611284072], [48.9...   \n",
       "7  [[40.41122526918516, 34.682322834375185], [40....   \n",
       "\n",
       "                                          agent_nose  \\\n",
       "1  [[45.26381166791732, 14.406486324022024], [45....   \n",
       "2  [[32.24815257269072, 34.21344397609933], [32.2...   \n",
       "4  [[48.116585135368, 8.74652456522477], [47.9209...   \n",
       "5  [[44.697651823519216, 37.62940888611388], [44....   \n",
       "7  [[48.098901297726954, 35.97127570126267], [48....   \n",
       "\n",
       "                                     agent_tail_base  \n",
       "1  [[43.24533105018797, 34.074110688844804], [43....  \n",
       "2  [[49.00673383082635, 9.416220799854717], [48.7...  \n",
       "4  [[50.617745398002654, 29.99575147694706], [50....  \n",
       "5  [[57.54119673883656, 13.63503656650984], [57.5...  \n",
       "7  [[57.46994633261048, 32.37899539750766], [57.4...  \n",
       "\n",
       "[5 rows x 24 columns]"
      ]
     },
     "execution_count": 137,
     "metadata": {},
     "output_type": "execute_result"
    }
   ],
   "source": [
    "START_STOP_FRAME_DF.head()"
   ]
  },
  {
   "cell_type": "markdown",
   "metadata": {},
   "source": [
    "# Calculate velocity"
   ]
  },
  {
   "cell_type": "code",
   "execution_count": 138,
   "metadata": {
    "tags": []
   },
   "outputs": [],
   "source": [
    "WINDOW_SIZE = 25"
   ]
  },
  {
   "cell_type": "code",
   "execution_count": 139,
   "metadata": {
    "tags": []
   },
   "outputs": [],
   "source": [
    "START_STOP_FRAME_DF[\"subject_thorax_velocity\"] = START_STOP_FRAME_DF.apply(lambda x: compute_velocity(x[\"subject_thorax\"], window_size=WINDOW_SIZE) * FRAME_RATE, axis=1)\n",
    "START_STOP_FRAME_DF[\"subject_thorax_velocity\"] = START_STOP_FRAME_DF[\"subject_thorax_velocity\"].apply(lambda x: x.astype(np.float32) if x is not np.nan else np.nan)"
   ]
  },
  {
   "cell_type": "code",
   "execution_count": 140,
   "metadata": {
    "tags": []
   },
   "outputs": [
    {
     "data": {
      "text/plain": [
       "1     [[[47.229714341638875, 11.540576985831455], [4...\n",
       "2     [[[34.25438031064355, 35.667635444835575], [34...\n",
       "4     [[[50.364208780909664, 10.861847428311039], [5...\n",
       "5     [[[47.197722618012605, 36.49884996438671], [43...\n",
       "7     [[[44.894543657007155, 33.83744818008539], [44...\n",
       "8     [[[52.518883426095876, 36.28326548413289], [52...\n",
       "10    [[[57.357293717186636, 25.35640085901091], [54...\n",
       "11    [[[51.89490721121774, 31.350052581765752], [55...\n",
       "13    [[[29.382872218826854, 31.230168277565216], [3...\n",
       "14    [[[47.25739785799209, 36.66551965695182], [44....\n",
       "16    [[[43.00100040500416, 33.44266356014549], [41....\n",
       "17    [[[30.292726450463043, 12.190622669129132], [3...\n",
       "19    [[[51.667899971194274, 35.99393556831118], [49...\n",
       "20    [[[50.88389901523767, 23.532566654286455], [51...\n",
       "21    [[[51.049592291310574, 19.27532173433335], [54...\n",
       "22    [[[58.961398589179765, 35.28935156776581], [57...\n",
       "23    [[[64.90703525371228, 33.28528990033932], [47....\n",
       "24    [[[64.44770418343036, 33.62145921311694], [60....\n",
       "25    [[[42.67602103277421, 38.86750190352169], [55....\n",
       "26    [[[44.93975760933053, 22.757104477777183], [48...\n",
       "27    [[[55.586517569751884, 37.850510673870794], [5...\n",
       "28    [[[66.31575731447042, 33.811210781959424], [62...\n",
       "29    [[[75.58640432195098, 25.993283809569974], [71...\n",
       "30    [[[66.71229866264234, 7.6530224410911725], [64...\n",
       "31    [[[38.49837284986714, 14.55455110423044], [37....\n",
       "32    [[[38.999890280483065, 13.248358360109465], [3...\n",
       "33    [[[61.45843466863499, 32.032592967139145], [59...\n",
       "34    [[[56.986964177053565, 31.8836904164058], [55....\n",
       "35    [[[79.7467115033065, 24.93631657678478], [77.7...\n",
       "36    [[[43.991890159603194, 26.749084122964806], [4...\n",
       "37    [[[71.33802261418245, 8.19700916600732], [74.8...\n",
       "38    [[[61.61796315524378, 36.65421008623964], [59....\n",
       "39    [[[52.32695635258804, 35.63114428736056], [48....\n",
       "40    [[[48.595321301363164, 10.069783253413627], [5...\n",
       "41    [[[60.9073341394263, 38.48910442872469], [60.4...\n",
       "42    [[[72.79985460537331, 9.892563681379826], [75....\n",
       "43    [[[71.75960984284622, 9.066527125106028], [72....\n",
       "44    [[[71.97873296672033, 32.55689862344986], [75....\n",
       "45    [[[47.75319510727405, 35.91235631066977], [48....\n",
       "46    [[[61.87658414063104, 35.56892400668298], [60....\n",
       "47    [[[56.45713059823277, 34.94711476932925], [55....\n",
       "48    [[[57.214330147438865, 33.327097057349526], [5...\n",
       "49    [[[63.776921889138244, 33.97917343395053], [60...\n",
       "50    [[[53.7847173070699, 33.1489136052831], [49.27...\n",
       "51    [[[59.16998158783138, 16.939317946909572], [56...\n",
       "52    [[[65.68546365375535, 37.30124938097391], [61....\n",
       "Name: agent_locations, dtype: object"
      ]
     },
     "execution_count": 140,
     "metadata": {},
     "output_type": "execute_result"
    }
   ],
   "source": [
    "START_STOP_FRAME_DF[\"agent_locations\"]"
   ]
  },
  {
   "cell_type": "code",
   "execution_count": 141,
   "metadata": {
    "tags": []
   },
   "outputs": [],
   "source": [
    "START_STOP_FRAME_DF[\"agent_thorax_velocity\"] = START_STOP_FRAME_DF.apply(lambda x: compute_velocity(x[\"agent_thorax\"], window_size=WINDOW_SIZE) * FRAME_RATE if x[\"agent_locations\"] is not np.nan else np.nan, axis=1)\n",
    "START_STOP_FRAME_DF[\"agent_thorax_velocity\"] = START_STOP_FRAME_DF[\"agent_thorax_velocity\"].apply(lambda x: x.astype(np.float32) if x is not np.nan else np.nan)\n"
   ]
  },
  {
   "cell_type": "code",
   "execution_count": 142,
   "metadata": {
    "tags": []
   },
   "outputs": [
    {
     "data": {
      "text/plain": [
       "(68258,)"
      ]
     },
     "execution_count": 142,
     "metadata": {},
     "output_type": "execute_result"
    }
   ],
   "source": [
    "START_STOP_FRAME_DF[\"subject_thorax_velocity\"].iloc[0].shape"
   ]
  },
  {
   "cell_type": "markdown",
   "metadata": {},
   "source": [
    "## Calculate relavant distances"
   ]
  },
  {
   "cell_type": "markdown",
   "metadata": {},
   "source": [
    "1. distance between thoraxes"
   ]
  },
  {
   "cell_type": "code",
   "execution_count": 143,
   "metadata": {},
   "outputs": [],
   "source": [
    "START_STOP_FRAME_DF[\"subject_thorax_to_agent_thorax\"] = START_STOP_FRAME_DF.apply(lambda x: np.linalg.norm(x[\"subject_thorax\"] - x[\"agent_thorax\"], axis=1),  axis=1)\n",
    "START_STOP_FRAME_DF[\"subject_thorax_to_agent_thorax\"] = START_STOP_FRAME_DF[\"subject_thorax_to_agent_thorax\"].apply(lambda x: x.astype(np.float32) if x is not np.nan else np.nan)"
   ]
  },
  {
   "cell_type": "code",
   "execution_count": 144,
   "metadata": {},
   "outputs": [],
   "source": [
    "START_STOP_FRAME_DF[\"subject_nose_to_agent_tail_base\"] = START_STOP_FRAME_DF.apply(lambda x: np.linalg.norm(x[\"subject_nose\"] - x[\"agent_tail_base\"], axis=1),  axis=1)\n",
    "START_STOP_FRAME_DF[\"subject_nose_to_agent_tail_base\"] = START_STOP_FRAME_DF[\"subject_nose_to_agent_tail_base\"].apply(lambda x: x.astype(np.float32) if x is not np.nan else np.nan)"
   ]
  },
  {
   "cell_type": "code",
   "execution_count": 145,
   "metadata": {},
   "outputs": [],
   "source": [
    "START_STOP_FRAME_DF[\"subject_tail_base_to_agent_nose\"] = START_STOP_FRAME_DF.apply(lambda x: np.linalg.norm(x[\"subject_tail_base\"] - x[\"agent_nose\"], axis=1),  axis=1)\n",
    "START_STOP_FRAME_DF[\"subject_tail_base_to_agent_nose\"] = START_STOP_FRAME_DF[\"subject_tail_base_to_agent_nose\"].apply(lambda x: x.astype(np.float32) if x is not np.nan else np.nan)"
   ]
  },
  {
   "cell_type": "markdown",
   "metadata": {},
   "source": [
    "2. distances to port of mice"
   ]
  },
  {
   "cell_type": "code",
   "execution_count": 146,
   "metadata": {
    "tags": []
   },
   "outputs": [],
   "source": [
    "START_STOP_FRAME_DF[\"subject_nose_to_reward_port\"] = START_STOP_FRAME_DF.apply(lambda x: np.linalg.norm(x[\"subject_thorax\"] - x[\"reward_port\"], axis=1),  axis=1)\n",
    "START_STOP_FRAME_DF[\"subject_nose_to_reward_port\"] = START_STOP_FRAME_DF[\"subject_nose_to_reward_port\"].apply(lambda x: x.astype(np.float32) if x is not np.nan else np.nan)"
   ]
  },
  {
   "cell_type": "code",
   "execution_count": 147,
   "metadata": {
    "tags": []
   },
   "outputs": [],
   "source": [
    "START_STOP_FRAME_DF[\"agent_nose_to_reward_port\"] = START_STOP_FRAME_DF.apply(lambda x: np.linalg.norm(x[\"agent_thorax\"] - x[\"reward_port\"], axis=1) if x[\"agent_locations\"] is not np.nan else np.nan,  axis=1)\n",
    "START_STOP_FRAME_DF[\"agent_nose_to_reward_port\"] = START_STOP_FRAME_DF[\"agent_nose_to_reward_port\"].apply(lambda x: x.astype(np.float32) if x is not np.nan else np.nan)"
   ]
  },
  {
   "cell_type": "code",
   "execution_count": 148,
   "metadata": {},
   "outputs": [],
   "source": [
    "START_STOP_FRAME_DF[\"subject_nose_to_reward_port\"] = START_STOP_FRAME_DF.apply(lambda x: np.linalg.norm(x[\"subject_nose\"] - x[\"reward_port\"], axis=1),  axis=1)\n",
    "START_STOP_FRAME_DF[\"subject_nose_to_reward_port\"] = START_STOP_FRAME_DF[\"subject_nose_to_reward_port\"].apply(lambda x: x.astype(np.float32) if x is not np.nan else np.nan)"
   ]
  },
  {
   "cell_type": "code",
   "execution_count": 149,
   "metadata": {},
   "outputs": [],
   "source": [
    "START_STOP_FRAME_DF[\"agent_nose_to_reward_port\"] = START_STOP_FRAME_DF.apply(lambda x: np.linalg.norm(x[\"agent_nose\"] - x[\"reward_port\"], axis=1),  axis=1)\n",
    "START_STOP_FRAME_DF[\"agent_nose_to_reward_port\"] = START_STOP_FRAME_DF[\"agent_nose_to_reward_port\"].apply(lambda x: x.astype(np.float32) if x is not np.nan else np.nan)"
   ]
  },
  {
   "cell_type": "markdown",
   "metadata": {},
   "source": [
    "- Calculate y distances"
   ]
  },
  {
   "cell_type": "code",
   "execution_count": 150,
   "metadata": {},
   "outputs": [],
   "source": [
    "\n",
    "START_STOP_FRAME_DF[\"subject_x_nose_to_reward_port\"] = START_STOP_FRAME_DF.apply(lambda x: np.abs(x[\"subject_nose\"][:,0] - x[\"reward_port\"][0]),  axis=1)\n",
    "START_STOP_FRAME_DF[\"subject_x_nose_to_reward_port\"] = START_STOP_FRAME_DF[\"subject_x_nose_to_reward_port\"].apply(lambda x: x.astype(np.float32) if x is not np.nan else np.nan)\n",
    "\n",
    "\n",
    "START_STOP_FRAME_DF[\"subject_y_nose_to_reward_port\"] = START_STOP_FRAME_DF.apply(lambda x: np.abs(x[\"subject_nose\"][:,1] - x[\"reward_port\"][1]),  axis=1)\n",
    "START_STOP_FRAME_DF[\"subject_y_nose_to_reward_port\"] = START_STOP_FRAME_DF[\"subject_y_nose_to_reward_port\"].apply(lambda x: x.astype(np.float32) if x is not np.nan else np.nan)"
   ]
  },
  {
   "cell_type": "code",
   "execution_count": 151,
   "metadata": {},
   "outputs": [],
   "source": [
    "\n",
    "START_STOP_FRAME_DF[\"agent_x_nose_to_reward_port\"] = START_STOP_FRAME_DF.apply(lambda x: np.abs(x[\"agent_nose\"][:,0] - x[\"reward_port\"][0]),  axis=1)\n",
    "START_STOP_FRAME_DF[\"agent_x_nose_to_reward_port\"] = START_STOP_FRAME_DF[\"agent_x_nose_to_reward_port\"].apply(lambda x: x.astype(np.float32) if x is not np.nan else np.nan)\n",
    "\n",
    "\n",
    "START_STOP_FRAME_DF[\"agent_y_nose_to_reward_port\"] = START_STOP_FRAME_DF.apply(lambda x: np.abs(x[\"agent_nose\"][:,1] - x[\"reward_port\"][1]),  axis=1)\n",
    "START_STOP_FRAME_DF[\"agent_y_nose_to_reward_port\"] = START_STOP_FRAME_DF[\"agent_y_nose_to_reward_port\"].apply(lambda x: x.astype(np.float32) if x is not np.nan else np.nan)"
   ]
  },
  {
   "cell_type": "markdown",
   "metadata": {},
   "source": [
    "## Calculate to speed"
   ]
  },
  {
   "cell_type": "code",
   "execution_count": 152,
   "metadata": {},
   "outputs": [],
   "source": [
    "START_STOP_FRAME_DF[\"subject_speed_to_reward_port\"] = START_STOP_FRAME_DF.apply(lambda x: calculate_speed_from_distances(x[\"subject_nose_to_reward_port\"], window_size=WINDOW_SIZE),  axis=1)\n",
    "START_STOP_FRAME_DF[\"subject_speed_to_reward_port\"] = START_STOP_FRAME_DF[\"subject_speed_to_reward_port\"].apply(lambda x: x.astype(np.float32) if x is not np.nan else np.nan)"
   ]
  },
  {
   "cell_type": "code",
   "execution_count": 153,
   "metadata": {},
   "outputs": [],
   "source": [
    "START_STOP_FRAME_DF[\"agent_speed_to_reward_port\"] = START_STOP_FRAME_DF.apply(lambda x: calculate_speed_from_distances(x[\"agent_nose_to_reward_port\"], window_size=WINDOW_SIZE), axis=1)\n",
    "START_STOP_FRAME_DF[\"agent_speed_to_reward_port\"] = START_STOP_FRAME_DF[\"agent_speed_to_reward_port\"].apply(lambda x: x.astype(np.float32) if x is not np.nan else np.nan)"
   ]
  },
  {
   "cell_type": "code",
   "execution_count": 154,
   "metadata": {},
   "outputs": [],
   "source": [
    "START_STOP_FRAME_DF[\"subject_to_agent_speed\"] = START_STOP_FRAME_DF.apply(lambda x: calculate_speed_from_distances(x[\"subject_thorax_to_agent_thorax\"], window_size=WINDOW_SIZE), axis=1)\n",
    "START_STOP_FRAME_DF[\"subject_to_agent_speed\"] = START_STOP_FRAME_DF[\"subject_to_agent_speed\"].apply(lambda x: x.astype(np.float32) if x is not np.nan else np.nan)"
   ]
  },
  {
   "cell_type": "code",
   "execution_count": null,
   "metadata": {},
   "outputs": [],
   "source": []
  },
  {
   "cell_type": "markdown",
   "metadata": {},
   "source": [
    "## Calculating orientation of the mouse"
   ]
  },
  {
   "cell_type": "markdown",
   "metadata": {},
   "source": [
    "4. angles of orientation of mice to port"
   ]
  },
  {
   "cell_type": "code",
   "execution_count": 155,
   "metadata": {},
   "outputs": [],
   "source": [
    "START_STOP_FRAME_DF[\"subject_to_reward_port_angle\"] = START_STOP_FRAME_DF.apply(lambda x: calculate_time_series_angles(x[\"subject_thorax\"], x[\"subject_nose\"], np.tile(x[\"reward_port\"], (x[\"subject_nose\"].shape[0], 1))),  axis=1)\n",
    "START_STOP_FRAME_DF[\"subject_to_reward_port_angle\"] = START_STOP_FRAME_DF[\"subject_to_reward_port_angle\"].apply(lambda x: x.astype(np.float32) if x is not np.nan else np.nan)"
   ]
  },
  {
   "cell_type": "code",
   "execution_count": 156,
   "metadata": {},
   "outputs": [],
   "source": [
    "START_STOP_FRAME_DF[\"agent_to_reward_port_angle\"] = START_STOP_FRAME_DF.apply(lambda x: calculate_time_series_angles(x[\"agent_thorax\"], x[\"agent_nose\"], np.tile(x[\"reward_port\"], (x[\"agent_nose\"].shape[0], 1))),  axis=1)\n",
    "START_STOP_FRAME_DF[\"agent_to_reward_port_angle\"] = START_STOP_FRAME_DF[\"agent_to_reward_port_angle\"].apply(lambda x: x.astype(np.float32) if x is not np.nan else np.nan)"
   ]
  },
  {
   "cell_type": "code",
   "execution_count": 157,
   "metadata": {},
   "outputs": [],
   "source": [
    "START_STOP_FRAME_DF[\"subject_to_agent_orientation\"] = START_STOP_FRAME_DF.apply(lambda x: calculate_angles_from_arrays(x[\"subject_thorax\"], x[\"subject_nose\"], x[\"agent_thorax\"], x[\"agent_nose\"]),  axis=1)\n",
    "START_STOP_FRAME_DF[\"subject_to_agent_orientation\"] = START_STOP_FRAME_DF[\"subject_to_agent_orientation\"].apply(lambda x: x.astype(np.float32) if x is not np.nan else np.nan)"
   ]
  },
  {
   "cell_type": "code",
   "execution_count": 158,
   "metadata": {},
   "outputs": [
    {
     "data": {
      "text/html": [
       "<div>\n",
       "<style scoped>\n",
       "    .dataframe tbody tr th:only-of-type {\n",
       "        vertical-align: middle;\n",
       "    }\n",
       "\n",
       "    .dataframe tbody tr th {\n",
       "        vertical-align: top;\n",
       "    }\n",
       "\n",
       "    .dataframe thead th {\n",
       "        text-align: right;\n",
       "    }\n",
       "</style>\n",
       "<table border=\"1\" class=\"dataframe\">\n",
       "  <thead>\n",
       "    <tr style=\"text-align: right;\">\n",
       "      <th></th>\n",
       "      <th>start_frame</th>\n",
       "      <th>stop_frame</th>\n",
       "      <th>tracked_subject</th>\n",
       "      <th>in_video_subjects</th>\n",
       "      <th>box_number</th>\n",
       "      <th>sleap_name</th>\n",
       "      <th>video_name</th>\n",
       "      <th>current_subject</th>\n",
       "      <th>body_parts</th>\n",
       "      <th>box_top_left</th>\n",
       "      <th>...</th>\n",
       "      <th>subject_x_nose_to_reward_port</th>\n",
       "      <th>subject_y_nose_to_reward_port</th>\n",
       "      <th>agent_x_nose_to_reward_port</th>\n",
       "      <th>agent_y_nose_to_reward_port</th>\n",
       "      <th>subject_speed_to_reward_port</th>\n",
       "      <th>agent_speed_to_reward_port</th>\n",
       "      <th>subject_to_agent_speed</th>\n",
       "      <th>subject_to_reward_port_angle</th>\n",
       "      <th>agent_to_reward_port_angle</th>\n",
       "      <th>subject_to_agent_orientation</th>\n",
       "    </tr>\n",
       "  </thead>\n",
       "  <tbody>\n",
       "    <tr>\n",
       "      <th>1</th>\n",
       "      <td>1</td>\n",
       "      <td>32300</td>\n",
       "      <td>[1.1, 1.2]</td>\n",
       "      <td>[1.1, 1.2]</td>\n",
       "      <td>1</td>\n",
       "      <td>20230612_112630_standard_comp_to_training_D1_s...</td>\n",
       "      <td>20230612_112630_standard_comp_to_training_D1_s...</td>\n",
       "      <td>1.1</td>\n",
       "      <td>[left_ear, right_ear, nose, tail_base, thorax,...</td>\n",
       "      <td>[30.24932345912479, 10.25122851487125]</td>\n",
       "      <td>...</td>\n",
       "      <td>[12.986264, 13.002249, 12.984807, 12.73218, 12...</td>\n",
       "      <td>[1.6248431, 1.748845, 1.4304345, 1.1190923, 1....</td>\n",
       "      <td>[0.02939466, 0.036737807, 0.49325183, 0.492874...</td>\n",
       "      <td>[21.4318, 21.580795, 21.447683, 21.134186, 21....</td>\n",
       "      <td>[0.24691486, 0.2821059, 0.3088583, 0.32717213,...</td>\n",
       "      <td>[0.118794106, 0.13042568, 0.13614133, 0.135941...</td>\n",
       "      <td>[-0.03609093, -0.024536297, -0.013879393, -0.0...</td>\n",
       "      <td>[0.09818027, 0.091548294, 0.11449435, 0.154805...</td>\n",
       "      <td>[3.0884602, 3.0866938, 3.057858, 3.0674672, 3....</td>\n",
       "      <td>[94.47216, 95.4631, 86.24624, 83.242256, 87.49...</td>\n",
       "    </tr>\n",
       "    <tr>\n",
       "      <th>2</th>\n",
       "      <td>1</td>\n",
       "      <td>32300</td>\n",
       "      <td>[1.1, 1.2]</td>\n",
       "      <td>[1.1, 1.2]</td>\n",
       "      <td>1</td>\n",
       "      <td>20230612_112630_standard_comp_to_training_D1_s...</td>\n",
       "      <td>20230612_112630_standard_comp_to_training_D1_s...</td>\n",
       "      <td>1.2</td>\n",
       "      <td>[left_ear, right_ear, nose, tail_base, thorax,...</td>\n",
       "      <td>[30.24932345912479, 10.25122851487125]</td>\n",
       "      <td>...</td>\n",
       "      <td>[0.02939466, 0.036737807, 0.49325183, 0.492874...</td>\n",
       "      <td>[21.4318, 21.580795, 21.447683, 21.134186, 21....</td>\n",
       "      <td>[12.986264, 13.002249, 12.984807, 12.73218, 12...</td>\n",
       "      <td>[1.6248431, 1.748845, 1.4304345, 1.1190923, 1....</td>\n",
       "      <td>[0.118794106, 0.13042568, 0.13614133, 0.135941...</td>\n",
       "      <td>[0.24691486, 0.2821059, 0.3088583, 0.32717213,...</td>\n",
       "      <td>[-0.03609093, -0.024536297, -0.013879393, -0.0...</td>\n",
       "      <td>[3.0884602, 3.0866938, 3.057858, 3.0674672, 3....</td>\n",
       "      <td>[0.09818027, 0.091548294, 0.11449435, 0.154805...</td>\n",
       "      <td>[94.47216, 95.4631, 86.24624, 83.242256, 87.49...</td>\n",
       "    </tr>\n",
       "    <tr>\n",
       "      <th>4</th>\n",
       "      <td>1</td>\n",
       "      <td>33000</td>\n",
       "      <td>[1.1, 1.4]</td>\n",
       "      <td>[1.1, 1.4]</td>\n",
       "      <td>1</td>\n",
       "      <td>20230613_105657_standard_comp_to_training_D2_s...</td>\n",
       "      <td>20230613_105657_standard_comp_to_training_D2_s...</td>\n",
       "      <td>1.1</td>\n",
       "      <td>[left_ear, right_ear, nose, tail_base, thorax,...</td>\n",
       "      <td>[29.42717788149638, 10.939657307701639]</td>\n",
       "      <td>...</td>\n",
       "      <td>[0.6142439, 0.39137772, 0.104911186, 1.1019015...</td>\n",
       "      <td>[1.2462382, 1.7116668, 2.0238328, 2.6693985, 3...</td>\n",
       "      <td>[2.8046894, 2.6090896, 2.370157, 1.382128, 0.8...</td>\n",
       "      <td>[27.636646, 27.779207, 27.960299, 27.640125, 2...</td>\n",
       "      <td>[1.5554652, 1.2971648, 1.0576367, 0.8368813, 0...</td>\n",
       "      <td>[-0.34875017, -0.24523593, -0.1510089, -0.0660...</td>\n",
       "      <td>[0.8522523, 0.6826693, 0.52674764, 0.38448745,...</td>\n",
       "      <td>[0.38698635, 0.46056488, 0.55437726, 0.7595057...</td>\n",
       "      <td>[1.4358417, 1.4404571, 1.4100624, 1.4372854, 1...</td>\n",
       "      <td>[55.116745, 63.56564, 69.32377, 79.426155, 88....</td>\n",
       "    </tr>\n",
       "    <tr>\n",
       "      <th>5</th>\n",
       "      <td>1</td>\n",
       "      <td>33000</td>\n",
       "      <td>[1.1, 1.4]</td>\n",
       "      <td>[1.1, 1.4]</td>\n",
       "      <td>1</td>\n",
       "      <td>20230613_105657_standard_comp_to_training_D2_s...</td>\n",
       "      <td>20230613_105657_standard_comp_to_training_D2_s...</td>\n",
       "      <td>1.4</td>\n",
       "      <td>[left_ear, right_ear, nose, tail_base, thorax,...</td>\n",
       "      <td>[29.42717788149638, 10.939657307701639]</td>\n",
       "      <td>...</td>\n",
       "      <td>[2.8046894, 2.6090896, 2.370157, 1.382128, 0.8...</td>\n",
       "      <td>[27.636646, 27.779207, 27.960299, 27.640125, 2...</td>\n",
       "      <td>[0.6142439, 0.39137772, 0.104911186, 1.1019015...</td>\n",
       "      <td>[1.2462382, 1.7116668, 2.0238328, 2.6693985, 3...</td>\n",
       "      <td>[-0.34875017, -0.24523593, -0.1510089, -0.0660...</td>\n",
       "      <td>[1.5554652, 1.2971648, 1.0576367, 0.8368813, 0...</td>\n",
       "      <td>[0.8522523, 0.6826693, 0.52674764, 0.38448745,...</td>\n",
       "      <td>[1.4358417, 1.4404571, 1.4100624, 1.4372854, 1...</td>\n",
       "      <td>[0.38698635, 0.46056488, 0.55437726, 0.7595057...</td>\n",
       "      <td>[55.116745, 63.56564, 69.32377, 79.426155, 88....</td>\n",
       "    </tr>\n",
       "    <tr>\n",
       "      <th>7</th>\n",
       "      <td>1</td>\n",
       "      <td>32200</td>\n",
       "      <td>[1.1, 1.2]</td>\n",
       "      <td>[1.1, 1.2]</td>\n",
       "      <td>1</td>\n",
       "      <td>20230614_114041_standard_comp_to_training_D3_s...</td>\n",
       "      <td>20230614_114041_standard_comp_to_training_D3_s...</td>\n",
       "      <td>1.1</td>\n",
       "      <td>[left_ear, right_ear, nose, tail_base, thorax,...</td>\n",
       "      <td>[29.10707058981441, 11.364487226798616]</td>\n",
       "      <td>...</td>\n",
       "      <td>[3.6030905, 3.8228946, 4.1357074, 4.855519, 5....</td>\n",
       "      <td>[1.5915691, 1.7534497, 2.0818992, 1.750297, 1....</td>\n",
       "      <td>[2.656572, 2.9194355, 2.9285858, 3.1543236, 3....</td>\n",
       "      <td>[0.9431285, 1.0928419, 0.9413627, 0.7627836, 0...</td>\n",
       "      <td>[0.3379694, 0.30261007, 0.26994613, 0.23997754...</td>\n",
       "      <td>[0.6779935, 0.5651087, 0.45902327, 0.3597371, ...</td>\n",
       "      <td>[-0.32910317, -0.255813, -0.18828914, -0.12653...</td>\n",
       "      <td>[2.8620498, 2.8228073, 2.7422068, 2.9178696, 2...</td>\n",
       "      <td>[0.5072571, 0.5000532, 0.49124622, 0.43612924,...</td>\n",
       "      <td>[162.6665, 165.49713, 165.83572, 161.6014, 154...</td>\n",
       "    </tr>\n",
       "  </tbody>\n",
       "</table>\n",
       "<p>5 rows × 41 columns</p>\n",
       "</div>"
      ],
      "text/plain": [
       "   start_frame  stop_frame tracked_subject in_video_subjects  box_number  \\\n",
       "1            1       32300      [1.1, 1.2]        [1.1, 1.2]           1   \n",
       "2            1       32300      [1.1, 1.2]        [1.1, 1.2]           1   \n",
       "4            1       33000      [1.1, 1.4]        [1.1, 1.4]           1   \n",
       "5            1       33000      [1.1, 1.4]        [1.1, 1.4]           1   \n",
       "7            1       32200      [1.1, 1.2]        [1.1, 1.2]           1   \n",
       "\n",
       "                                          sleap_name  \\\n",
       "1  20230612_112630_standard_comp_to_training_D1_s...   \n",
       "2  20230612_112630_standard_comp_to_training_D1_s...   \n",
       "4  20230613_105657_standard_comp_to_training_D2_s...   \n",
       "5  20230613_105657_standard_comp_to_training_D2_s...   \n",
       "7  20230614_114041_standard_comp_to_training_D3_s...   \n",
       "\n",
       "                                          video_name current_subject  \\\n",
       "1  20230612_112630_standard_comp_to_training_D1_s...             1.1   \n",
       "2  20230612_112630_standard_comp_to_training_D1_s...             1.2   \n",
       "4  20230613_105657_standard_comp_to_training_D2_s...             1.1   \n",
       "5  20230613_105657_standard_comp_to_training_D2_s...             1.4   \n",
       "7  20230614_114041_standard_comp_to_training_D3_s...             1.1   \n",
       "\n",
       "                                          body_parts  \\\n",
       "1  [left_ear, right_ear, nose, tail_base, thorax,...   \n",
       "2  [left_ear, right_ear, nose, tail_base, thorax,...   \n",
       "4  [left_ear, right_ear, nose, tail_base, thorax,...   \n",
       "5  [left_ear, right_ear, nose, tail_base, thorax,...   \n",
       "7  [left_ear, right_ear, nose, tail_base, thorax,...   \n",
       "\n",
       "                              box_top_left  ...  \\\n",
       "1   [30.24932345912479, 10.25122851487125]  ...   \n",
       "2   [30.24932345912479, 10.25122851487125]  ...   \n",
       "4  [29.42717788149638, 10.939657307701639]  ...   \n",
       "5  [29.42717788149638, 10.939657307701639]  ...   \n",
       "7  [29.10707058981441, 11.364487226798616]  ...   \n",
       "\n",
       "                       subject_x_nose_to_reward_port  \\\n",
       "1  [12.986264, 13.002249, 12.984807, 12.73218, 12...   \n",
       "2  [0.02939466, 0.036737807, 0.49325183, 0.492874...   \n",
       "4  [0.6142439, 0.39137772, 0.104911186, 1.1019015...   \n",
       "5  [2.8046894, 2.6090896, 2.370157, 1.382128, 0.8...   \n",
       "7  [3.6030905, 3.8228946, 4.1357074, 4.855519, 5....   \n",
       "\n",
       "                       subject_y_nose_to_reward_port  \\\n",
       "1  [1.6248431, 1.748845, 1.4304345, 1.1190923, 1....   \n",
       "2  [21.4318, 21.580795, 21.447683, 21.134186, 21....   \n",
       "4  [1.2462382, 1.7116668, 2.0238328, 2.6693985, 3...   \n",
       "5  [27.636646, 27.779207, 27.960299, 27.640125, 2...   \n",
       "7  [1.5915691, 1.7534497, 2.0818992, 1.750297, 1....   \n",
       "\n",
       "                         agent_x_nose_to_reward_port  \\\n",
       "1  [0.02939466, 0.036737807, 0.49325183, 0.492874...   \n",
       "2  [12.986264, 13.002249, 12.984807, 12.73218, 12...   \n",
       "4  [2.8046894, 2.6090896, 2.370157, 1.382128, 0.8...   \n",
       "5  [0.6142439, 0.39137772, 0.104911186, 1.1019015...   \n",
       "7  [2.656572, 2.9194355, 2.9285858, 3.1543236, 3....   \n",
       "\n",
       "                         agent_y_nose_to_reward_port  \\\n",
       "1  [21.4318, 21.580795, 21.447683, 21.134186, 21....   \n",
       "2  [1.6248431, 1.748845, 1.4304345, 1.1190923, 1....   \n",
       "4  [27.636646, 27.779207, 27.960299, 27.640125, 2...   \n",
       "5  [1.2462382, 1.7116668, 2.0238328, 2.6693985, 3...   \n",
       "7  [0.9431285, 1.0928419, 0.9413627, 0.7627836, 0...   \n",
       "\n",
       "                        subject_speed_to_reward_port  \\\n",
       "1  [0.24691486, 0.2821059, 0.3088583, 0.32717213,...   \n",
       "2  [0.118794106, 0.13042568, 0.13614133, 0.135941...   \n",
       "4  [1.5554652, 1.2971648, 1.0576367, 0.8368813, 0...   \n",
       "5  [-0.34875017, -0.24523593, -0.1510089, -0.0660...   \n",
       "7  [0.3379694, 0.30261007, 0.26994613, 0.23997754...   \n",
       "\n",
       "                          agent_speed_to_reward_port  \\\n",
       "1  [0.118794106, 0.13042568, 0.13614133, 0.135941...   \n",
       "2  [0.24691486, 0.2821059, 0.3088583, 0.32717213,...   \n",
       "4  [-0.34875017, -0.24523593, -0.1510089, -0.0660...   \n",
       "5  [1.5554652, 1.2971648, 1.0576367, 0.8368813, 0...   \n",
       "7  [0.6779935, 0.5651087, 0.45902327, 0.3597371, ...   \n",
       "\n",
       "                              subject_to_agent_speed  \\\n",
       "1  [-0.03609093, -0.024536297, -0.013879393, -0.0...   \n",
       "2  [-0.03609093, -0.024536297, -0.013879393, -0.0...   \n",
       "4  [0.8522523, 0.6826693, 0.52674764, 0.38448745,...   \n",
       "5  [0.8522523, 0.6826693, 0.52674764, 0.38448745,...   \n",
       "7  [-0.32910317, -0.255813, -0.18828914, -0.12653...   \n",
       "\n",
       "                        subject_to_reward_port_angle  \\\n",
       "1  [0.09818027, 0.091548294, 0.11449435, 0.154805...   \n",
       "2  [3.0884602, 3.0866938, 3.057858, 3.0674672, 3....   \n",
       "4  [0.38698635, 0.46056488, 0.55437726, 0.7595057...   \n",
       "5  [1.4358417, 1.4404571, 1.4100624, 1.4372854, 1...   \n",
       "7  [2.8620498, 2.8228073, 2.7422068, 2.9178696, 2...   \n",
       "\n",
       "                          agent_to_reward_port_angle  \\\n",
       "1  [3.0884602, 3.0866938, 3.057858, 3.0674672, 3....   \n",
       "2  [0.09818027, 0.091548294, 0.11449435, 0.154805...   \n",
       "4  [1.4358417, 1.4404571, 1.4100624, 1.4372854, 1...   \n",
       "5  [0.38698635, 0.46056488, 0.55437726, 0.7595057...   \n",
       "7  [0.5072571, 0.5000532, 0.49124622, 0.43612924,...   \n",
       "\n",
       "                        subject_to_agent_orientation  \n",
       "1  [94.47216, 95.4631, 86.24624, 83.242256, 87.49...  \n",
       "2  [94.47216, 95.4631, 86.24624, 83.242256, 87.49...  \n",
       "4  [55.116745, 63.56564, 69.32377, 79.426155, 88....  \n",
       "5  [55.116745, 63.56564, 69.32377, 79.426155, 88....  \n",
       "7  [162.6665, 165.49713, 165.83572, 161.6014, 154...  \n",
       "\n",
       "[5 rows x 41 columns]"
      ]
     },
     "execution_count": 158,
     "metadata": {},
     "output_type": "execute_result"
    }
   ],
   "source": [
    "START_STOP_FRAME_DF.head()"
   ]
  },
  {
   "cell_type": "markdown",
   "metadata": {},
   "source": [
    "# Making features based on social"
   ]
  },
  {
   "cell_type": "code",
   "execution_count": 159,
   "metadata": {},
   "outputs": [],
   "source": [
    "START_STOP_FRAME_DF[\"thorax_velocity_sum\"] = START_STOP_FRAME_DF.apply(lambda x: x[\"subject_thorax_velocity\"] + x[\"agent_thorax_velocity\"], axis=1)\n",
    "START_STOP_FRAME_DF[\"thorax_velocity_diff\"] = START_STOP_FRAME_DF.apply(lambda x: np.abs(x[\"subject_thorax_velocity\"] - x[\"agent_thorax_velocity\"]), axis=1)"
   ]
  },
  {
   "cell_type": "code",
   "execution_count": 160,
   "metadata": {},
   "outputs": [],
   "source": [
    "START_STOP_FRAME_DF[\"nose_to_reward_port_sum\"] = START_STOP_FRAME_DF.apply(lambda x: x[\"subject_nose_to_reward_port\"] + x[\"agent_nose_to_reward_port\"], axis=1)\n",
    "START_STOP_FRAME_DF[\"nose_to_reward_port_diff\"] = START_STOP_FRAME_DF.apply(lambda x: np.abs(x[\"subject_nose_to_reward_port\"] - x[\"agent_nose_to_reward_port\"]), axis=1)"
   ]
  },
  {
   "cell_type": "code",
   "execution_count": 161,
   "metadata": {},
   "outputs": [],
   "source": [
    "START_STOP_FRAME_DF[\"nose_to_reward_port_sum\"] = START_STOP_FRAME_DF.apply(lambda x: x[\"subject_nose_to_reward_port\"] + x[\"agent_nose_to_reward_port\"], axis=1)\n",
    "START_STOP_FRAME_DF[\"nose_to_reward_port_diff\"] = START_STOP_FRAME_DF.apply(lambda x: np.abs(x[\"subject_nose_to_reward_port\"] - x[\"agent_nose_to_reward_port\"]), axis=1)"
   ]
  },
  {
   "cell_type": "code",
   "execution_count": 162,
   "metadata": {},
   "outputs": [],
   "source": [
    "START_STOP_FRAME_DF[\"to_reward_port_angle_sum\"] = START_STOP_FRAME_DF.apply(lambda x: x[\"subject_to_reward_port_angle\"] + x[\"agent_to_reward_port_angle\"], axis=1)\n",
    "START_STOP_FRAME_DF[\"to_reward_port_angle_diff\"] = START_STOP_FRAME_DF.apply(lambda x: np.abs(x[\"subject_to_reward_port_angle\"] - x[\"agent_to_reward_port_angle\"]), axis=1)"
   ]
  },
  {
   "cell_type": "code",
   "execution_count": 163,
   "metadata": {},
   "outputs": [],
   "source": [
    "START_STOP_FRAME_DF[\"nose_to_tail_sum\"] = START_STOP_FRAME_DF.apply(lambda x: x[\"subject_tail_base_to_agent_nose\"] + x[\"subject_nose_to_agent_tail_base\"], axis=1)\n",
    "START_STOP_FRAME_DF[\"nose_to_tail_diff\"] = START_STOP_FRAME_DF.apply(lambda x: np.abs(x[\"subject_tail_base_to_agent_nose\"] - x[\"subject_nose_to_agent_tail_base\"]), axis=1)"
   ]
  },
  {
   "cell_type": "code",
   "execution_count": 164,
   "metadata": {},
   "outputs": [],
   "source": [
    "START_STOP_FRAME_DF[\"speed_to_reward_port_sum\"] = START_STOP_FRAME_DF.apply(lambda x: x[\"subject_speed_to_reward_port\"] + x[\"agent_speed_to_reward_port\"], axis=1)\n",
    "START_STOP_FRAME_DF[\"speed_to_reward_port_diff\"] = START_STOP_FRAME_DF.apply(lambda x: np.abs(x[\"subject_speed_to_reward_port\"] - x[\"agent_speed_to_reward_port\"]), axis=1)"
   ]
  },
  {
   "cell_type": "code",
   "execution_count": 165,
   "metadata": {},
   "outputs": [
    {
     "data": {
      "text/plain": [
       "Index(['start_frame', 'stop_frame', 'tracked_subject', 'in_video_subjects',\n",
       "       'box_number', 'sleap_name', 'video_name', 'current_subject',\n",
       "       'body_parts', 'box_top_left', 'box_top_right', 'reward_port',\n",
       "       'box_bottom_left', 'box_bottom_right', 'agent', 'subject_locations',\n",
       "       'agent_locations', 'frame_index', 'subject_thorax', 'subject_nose',\n",
       "       'subject_tail_base', 'agent_thorax', 'agent_nose', 'agent_tail_base',\n",
       "       'subject_thorax_velocity', 'agent_thorax_velocity',\n",
       "       'subject_thorax_to_agent_thorax', 'subject_nose_to_agent_tail_base',\n",
       "       'subject_tail_base_to_agent_nose', 'subject_nose_to_reward_port',\n",
       "       'agent_nose_to_reward_port', 'subject_x_nose_to_reward_port',\n",
       "       'subject_y_nose_to_reward_port', 'agent_x_nose_to_reward_port',\n",
       "       'agent_y_nose_to_reward_port', 'subject_speed_to_reward_port',\n",
       "       'agent_speed_to_reward_port', 'subject_to_agent_speed',\n",
       "       'subject_to_reward_port_angle', 'agent_to_reward_port_angle',\n",
       "       'subject_to_agent_orientation', 'thorax_velocity_sum',\n",
       "       'thorax_velocity_diff', 'nose_to_reward_port_sum',\n",
       "       'nose_to_reward_port_diff', 'to_reward_port_angle_sum',\n",
       "       'to_reward_port_angle_diff', 'nose_to_tail_sum', 'nose_to_tail_diff',\n",
       "       'speed_to_reward_port_sum', 'speed_to_reward_port_diff'],\n",
       "      dtype='object')"
      ]
     },
     "execution_count": 165,
     "metadata": {},
     "output_type": "execute_result"
    }
   ],
   "source": [
    "START_STOP_FRAME_DF.columns"
   ]
  },
  {
   "cell_type": "code",
   "execution_count": null,
   "metadata": {},
   "outputs": [],
   "source": []
  },
  {
   "cell_type": "markdown",
   "metadata": {},
   "source": [
    "# Smoothing out features"
   ]
  },
  {
   "cell_type": "code",
   "execution_count": 166,
   "metadata": {
    "tags": []
   },
   "outputs": [],
   "source": [
    "for col in features_columns:\n",
    "    START_STOP_FRAME_DF[col] = START_STOP_FRAME_DF[col].apply(lambda x: savgol_filter(x, window_length=WINDOW_SIZE, polyorder=3, deriv=0))\n",
    "    START_STOP_FRAME_DF[col] = START_STOP_FRAME_DF[col].apply(lambda x: interpolate_nans_in_1d_arr(x)) "
   ]
  },
  {
   "cell_type": "markdown",
   "metadata": {},
   "source": [
    "# Adding trial information"
   ]
  },
  {
   "cell_type": "code",
   "execution_count": 167,
   "metadata": {
    "tags": []
   },
   "outputs": [
    {
     "data": {
      "text/html": [
       "<div>\n",
       "<style scoped>\n",
       "    .dataframe tbody tr th:only-of-type {\n",
       "        vertical-align: middle;\n",
       "    }\n",
       "\n",
       "    .dataframe tbody tr th {\n",
       "        vertical-align: top;\n",
       "    }\n",
       "\n",
       "    .dataframe thead th {\n",
       "        text-align: right;\n",
       "    }\n",
       "</style>\n",
       "<table border=\"1\" class=\"dataframe\">\n",
       "  <thead>\n",
       "    <tr style=\"text-align: right;\">\n",
       "      <th></th>\n",
       "      <th>start_frame</th>\n",
       "      <th>stop_frame</th>\n",
       "      <th>tracked_subject</th>\n",
       "      <th>in_video_subjects</th>\n",
       "      <th>box_number</th>\n",
       "      <th>sleap_name</th>\n",
       "      <th>video_name</th>\n",
       "      <th>current_subject</th>\n",
       "      <th>body_parts</th>\n",
       "      <th>box_top_left</th>\n",
       "      <th>...</th>\n",
       "      <th>thorax_velocity_sum</th>\n",
       "      <th>thorax_velocity_diff</th>\n",
       "      <th>nose_to_reward_port_sum</th>\n",
       "      <th>nose_to_reward_port_diff</th>\n",
       "      <th>to_reward_port_angle_sum</th>\n",
       "      <th>to_reward_port_angle_diff</th>\n",
       "      <th>nose_to_tail_sum</th>\n",
       "      <th>nose_to_tail_diff</th>\n",
       "      <th>speed_to_reward_port_sum</th>\n",
       "      <th>speed_to_reward_port_diff</th>\n",
       "    </tr>\n",
       "  </thead>\n",
       "  <tbody>\n",
       "    <tr>\n",
       "      <th>1</th>\n",
       "      <td>1</td>\n",
       "      <td>32300</td>\n",
       "      <td>[1.1, 1.2]</td>\n",
       "      <td>[1.1, 1.2]</td>\n",
       "      <td>1</td>\n",
       "      <td>20230612_112630_standard_comp_to_training_D1_s...</td>\n",
       "      <td>20230612_112630_standard_comp_to_training_D1_s...</td>\n",
       "      <td>1.1</td>\n",
       "      <td>[left_ear, right_ear, nose, tail_base, thorax,...</td>\n",
       "      <td>[30.24932345912479, 10.25122851487125]</td>\n",
       "      <td>...</td>\n",
       "      <td>[18.09268, 15.391604, 12.966896, 10.809753, 8....</td>\n",
       "      <td>[10.310839, 8.549966, 6.978135, 5.5895863, 4.3...</td>\n",
       "      <td>[33.549847, 33.940163, 34.370125, 34.82538, 35...</td>\n",
       "      <td>[8.577827, 8.451487, 8.297693, 8.119721, 7.920...</td>\n",
       "      <td>[3.2030408, 3.2033846, 3.1917992, 3.1698725, 3...</td>\n",
       "      <td>[3.0982907, 3.005856, 2.9337142, 2.8794987, 2....</td>\n",
       "      <td>[30.768993, 30.945602, 30.54553, 29.812819, 29...</td>\n",
       "      <td>[8.77287, 8.857717, 8.948103, 8.761835, 8.8204...</td>\n",
       "      <td>[0.36570898, 0.41253155, 0.44499964, 0.4631132...</td>\n",
       "      <td>[0.12812075, 0.15168022, 0.17271698, 0.1912310...</td>\n",
       "    </tr>\n",
       "    <tr>\n",
       "      <th>2</th>\n",
       "      <td>1</td>\n",
       "      <td>32300</td>\n",
       "      <td>[1.1, 1.2]</td>\n",
       "      <td>[1.1, 1.2]</td>\n",
       "      <td>1</td>\n",
       "      <td>20230612_112630_standard_comp_to_training_D1_s...</td>\n",
       "      <td>20230612_112630_standard_comp_to_training_D1_s...</td>\n",
       "      <td>1.2</td>\n",
       "      <td>[left_ear, right_ear, nose, tail_base, thorax,...</td>\n",
       "      <td>[30.24932345912479, 10.25122851487125]</td>\n",
       "      <td>...</td>\n",
       "      <td>[18.09268, 15.391604, 12.966896, 10.809753, 8....</td>\n",
       "      <td>[10.310839, 8.549966, 6.978135, 5.5895863, 4.3...</td>\n",
       "      <td>[33.549847, 33.940163, 34.370125, 34.82538, 35...</td>\n",
       "      <td>[8.577827, 8.451487, 8.297693, 8.119721, 7.920...</td>\n",
       "      <td>[3.2030408, 3.2033846, 3.1917992, 3.1698725, 3...</td>\n",
       "      <td>[3.0982907, 3.005856, 2.9337142, 2.8794987, 2....</td>\n",
       "      <td>[36.167088, 35.87533, 36.48082, 36.398075, 35....</td>\n",
       "      <td>[23.691154, 23.732504, 23.585348, 23.458633, 2...</td>\n",
       "      <td>[0.36570898, 0.41253155, 0.44499964, 0.4631132...</td>\n",
       "      <td>[0.12812075, 0.15168022, 0.17271698, 0.1912310...</td>\n",
       "    </tr>\n",
       "    <tr>\n",
       "      <th>4</th>\n",
       "      <td>1</td>\n",
       "      <td>33000</td>\n",
       "      <td>[1.1, 1.4]</td>\n",
       "      <td>[1.1, 1.4]</td>\n",
       "      <td>1</td>\n",
       "      <td>20230613_105657_standard_comp_to_training_D2_s...</td>\n",
       "      <td>20230613_105657_standard_comp_to_training_D2_s...</td>\n",
       "      <td>1.1</td>\n",
       "      <td>[left_ear, right_ear, nose, tail_base, thorax,...</td>\n",
       "      <td>[29.42717788149638, 10.939657307701639]</td>\n",
       "      <td>...</td>\n",
       "      <td>[27.578953, 22.472115, 18.1544, 14.56537, 11.6...</td>\n",
       "      <td>[12.574324, 9.888133, 7.6793933, 5.90725, 4.53...</td>\n",
       "      <td>[28.34295, 29.471481, 30.44997, 31.287899, 31....</td>\n",
       "      <td>[28.1574, 26.436432, 25.063246, 24.009787, 23....</td>\n",
       "      <td>[2.1684086, 2.021667, 1.9077171, 1.8240778, 1....</td>\n",
       "      <td>[1.0357825, 0.96983933, 0.9143802, 0.8684248, ...</td>\n",
       "      <td>[31.056162, 31.301922, 31.473528, 31.439018, 3...</td>\n",
       "      <td>[11.735682, 11.793484, 11.981405, 11.712959, 1...</td>\n",
       "      <td>[1.2067151, 1.0519289, 0.90662783, 0.7708122, ...</td>\n",
       "      <td>[1.9042153, 1.5424007, 1.2086456, 0.90295035, ...</td>\n",
       "    </tr>\n",
       "    <tr>\n",
       "      <th>5</th>\n",
       "      <td>1</td>\n",
       "      <td>33000</td>\n",
       "      <td>[1.1, 1.4]</td>\n",
       "      <td>[1.1, 1.4]</td>\n",
       "      <td>1</td>\n",
       "      <td>20230613_105657_standard_comp_to_training_D2_s...</td>\n",
       "      <td>20230613_105657_standard_comp_to_training_D2_s...</td>\n",
       "      <td>1.4</td>\n",
       "      <td>[left_ear, right_ear, nose, tail_base, thorax,...</td>\n",
       "      <td>[29.42717788149638, 10.939657307701639]</td>\n",
       "      <td>...</td>\n",
       "      <td>[27.578953, 22.472115, 18.1544, 14.56537, 11.6...</td>\n",
       "      <td>[12.574324, 9.888133, 7.6793933, 5.90725, 4.53...</td>\n",
       "      <td>[28.34295, 29.471481, 30.44997, 31.287899, 31....</td>\n",
       "      <td>[28.1574, 26.436432, 25.063246, 24.009787, 23....</td>\n",
       "      <td>[2.1684086, 2.021667, 1.9077171, 1.8240778, 1....</td>\n",
       "      <td>[1.0357825, 0.96983933, 0.9143802, 0.8684248, ...</td>\n",
       "      <td>[37.832565, 38.38833, 38.882042, 39.774933, 40...</td>\n",
       "      <td>[16.598549, 16.715199, 16.748293, 16.289736, 1...</td>\n",
       "      <td>[1.2067151, 1.0519289, 0.90662783, 0.7708122, ...</td>\n",
       "      <td>[1.9042153, 1.5424007, 1.2086456, 0.90295035, ...</td>\n",
       "    </tr>\n",
       "    <tr>\n",
       "      <th>7</th>\n",
       "      <td>1</td>\n",
       "      <td>32200</td>\n",
       "      <td>[1.1, 1.2]</td>\n",
       "      <td>[1.1, 1.2]</td>\n",
       "      <td>1</td>\n",
       "      <td>20230614_114041_standard_comp_to_training_D3_s...</td>\n",
       "      <td>20230614_114041_standard_comp_to_training_D3_s...</td>\n",
       "      <td>1.1</td>\n",
       "      <td>[left_ear, right_ear, nose, tail_base, thorax,...</td>\n",
       "      <td>[29.10707058981441, 11.364487226798616]</td>\n",
       "      <td>...</td>\n",
       "      <td>[15.85518, 14.161085, 12.641194, 11.286062, 10...</td>\n",
       "      <td>[5.456768, 4.5534925, 3.751058, 3.0453598, 2.4...</td>\n",
       "      <td>[6.061707, 7.0027566, 7.8003097, 8.4638605, 9....</td>\n",
       "      <td>[1.7349983, 1.4372392, 1.214304, 1.0621427, 0....</td>\n",
       "      <td>[3.5447242, 3.3708172, 3.2376862, 3.141234, 3....</td>\n",
       "      <td>[2.4476862, 2.408274, 2.3745203, 2.3461158, 2....</td>\n",
       "      <td>[18.960043, 18.41433, 18.415997, 18.142765, 18...</td>\n",
       "      <td>[1.1119232, 1.0733719, 1.5133352, 1.9424477, 2...</td>\n",
       "      <td>[1.0159628, 0.8677188, 0.7289694, 0.59971464, ...</td>\n",
       "      <td>[0.34002408, 0.26249865, 0.18907714, 0.1197595...</td>\n",
       "    </tr>\n",
       "  </tbody>\n",
       "</table>\n",
       "<p>5 rows × 51 columns</p>\n",
       "</div>"
      ],
      "text/plain": [
       "   start_frame  stop_frame tracked_subject in_video_subjects  box_number  \\\n",
       "1            1       32300      [1.1, 1.2]        [1.1, 1.2]           1   \n",
       "2            1       32300      [1.1, 1.2]        [1.1, 1.2]           1   \n",
       "4            1       33000      [1.1, 1.4]        [1.1, 1.4]           1   \n",
       "5            1       33000      [1.1, 1.4]        [1.1, 1.4]           1   \n",
       "7            1       32200      [1.1, 1.2]        [1.1, 1.2]           1   \n",
       "\n",
       "                                          sleap_name  \\\n",
       "1  20230612_112630_standard_comp_to_training_D1_s...   \n",
       "2  20230612_112630_standard_comp_to_training_D1_s...   \n",
       "4  20230613_105657_standard_comp_to_training_D2_s...   \n",
       "5  20230613_105657_standard_comp_to_training_D2_s...   \n",
       "7  20230614_114041_standard_comp_to_training_D3_s...   \n",
       "\n",
       "                                          video_name current_subject  \\\n",
       "1  20230612_112630_standard_comp_to_training_D1_s...             1.1   \n",
       "2  20230612_112630_standard_comp_to_training_D1_s...             1.2   \n",
       "4  20230613_105657_standard_comp_to_training_D2_s...             1.1   \n",
       "5  20230613_105657_standard_comp_to_training_D2_s...             1.4   \n",
       "7  20230614_114041_standard_comp_to_training_D3_s...             1.1   \n",
       "\n",
       "                                          body_parts  \\\n",
       "1  [left_ear, right_ear, nose, tail_base, thorax,...   \n",
       "2  [left_ear, right_ear, nose, tail_base, thorax,...   \n",
       "4  [left_ear, right_ear, nose, tail_base, thorax,...   \n",
       "5  [left_ear, right_ear, nose, tail_base, thorax,...   \n",
       "7  [left_ear, right_ear, nose, tail_base, thorax,...   \n",
       "\n",
       "                              box_top_left  ...  \\\n",
       "1   [30.24932345912479, 10.25122851487125]  ...   \n",
       "2   [30.24932345912479, 10.25122851487125]  ...   \n",
       "4  [29.42717788149638, 10.939657307701639]  ...   \n",
       "5  [29.42717788149638, 10.939657307701639]  ...   \n",
       "7  [29.10707058981441, 11.364487226798616]  ...   \n",
       "\n",
       "                                 thorax_velocity_sum  \\\n",
       "1  [18.09268, 15.391604, 12.966896, 10.809753, 8....   \n",
       "2  [18.09268, 15.391604, 12.966896, 10.809753, 8....   \n",
       "4  [27.578953, 22.472115, 18.1544, 14.56537, 11.6...   \n",
       "5  [27.578953, 22.472115, 18.1544, 14.56537, 11.6...   \n",
       "7  [15.85518, 14.161085, 12.641194, 11.286062, 10...   \n",
       "\n",
       "                                thorax_velocity_diff  \\\n",
       "1  [10.310839, 8.549966, 6.978135, 5.5895863, 4.3...   \n",
       "2  [10.310839, 8.549966, 6.978135, 5.5895863, 4.3...   \n",
       "4  [12.574324, 9.888133, 7.6793933, 5.90725, 4.53...   \n",
       "5  [12.574324, 9.888133, 7.6793933, 5.90725, 4.53...   \n",
       "7  [5.456768, 4.5534925, 3.751058, 3.0453598, 2.4...   \n",
       "\n",
       "                             nose_to_reward_port_sum  \\\n",
       "1  [33.549847, 33.940163, 34.370125, 34.82538, 35...   \n",
       "2  [33.549847, 33.940163, 34.370125, 34.82538, 35...   \n",
       "4  [28.34295, 29.471481, 30.44997, 31.287899, 31....   \n",
       "5  [28.34295, 29.471481, 30.44997, 31.287899, 31....   \n",
       "7  [6.061707, 7.0027566, 7.8003097, 8.4638605, 9....   \n",
       "\n",
       "                            nose_to_reward_port_diff  \\\n",
       "1  [8.577827, 8.451487, 8.297693, 8.119721, 7.920...   \n",
       "2  [8.577827, 8.451487, 8.297693, 8.119721, 7.920...   \n",
       "4  [28.1574, 26.436432, 25.063246, 24.009787, 23....   \n",
       "5  [28.1574, 26.436432, 25.063246, 24.009787, 23....   \n",
       "7  [1.7349983, 1.4372392, 1.214304, 1.0621427, 0....   \n",
       "\n",
       "                            to_reward_port_angle_sum  \\\n",
       "1  [3.2030408, 3.2033846, 3.1917992, 3.1698725, 3...   \n",
       "2  [3.2030408, 3.2033846, 3.1917992, 3.1698725, 3...   \n",
       "4  [2.1684086, 2.021667, 1.9077171, 1.8240778, 1....   \n",
       "5  [2.1684086, 2.021667, 1.9077171, 1.8240778, 1....   \n",
       "7  [3.5447242, 3.3708172, 3.2376862, 3.141234, 3....   \n",
       "\n",
       "                           to_reward_port_angle_diff  \\\n",
       "1  [3.0982907, 3.005856, 2.9337142, 2.8794987, 2....   \n",
       "2  [3.0982907, 3.005856, 2.9337142, 2.8794987, 2....   \n",
       "4  [1.0357825, 0.96983933, 0.9143802, 0.8684248, ...   \n",
       "5  [1.0357825, 0.96983933, 0.9143802, 0.8684248, ...   \n",
       "7  [2.4476862, 2.408274, 2.3745203, 2.3461158, 2....   \n",
       "\n",
       "                                    nose_to_tail_sum  \\\n",
       "1  [30.768993, 30.945602, 30.54553, 29.812819, 29...   \n",
       "2  [36.167088, 35.87533, 36.48082, 36.398075, 35....   \n",
       "4  [31.056162, 31.301922, 31.473528, 31.439018, 3...   \n",
       "5  [37.832565, 38.38833, 38.882042, 39.774933, 40...   \n",
       "7  [18.960043, 18.41433, 18.415997, 18.142765, 18...   \n",
       "\n",
       "                                   nose_to_tail_diff  \\\n",
       "1  [8.77287, 8.857717, 8.948103, 8.761835, 8.8204...   \n",
       "2  [23.691154, 23.732504, 23.585348, 23.458633, 2...   \n",
       "4  [11.735682, 11.793484, 11.981405, 11.712959, 1...   \n",
       "5  [16.598549, 16.715199, 16.748293, 16.289736, 1...   \n",
       "7  [1.1119232, 1.0733719, 1.5133352, 1.9424477, 2...   \n",
       "\n",
       "                            speed_to_reward_port_sum  \\\n",
       "1  [0.36570898, 0.41253155, 0.44499964, 0.4631132...   \n",
       "2  [0.36570898, 0.41253155, 0.44499964, 0.4631132...   \n",
       "4  [1.2067151, 1.0519289, 0.90662783, 0.7708122, ...   \n",
       "5  [1.2067151, 1.0519289, 0.90662783, 0.7708122, ...   \n",
       "7  [1.0159628, 0.8677188, 0.7289694, 0.59971464, ...   \n",
       "\n",
       "                           speed_to_reward_port_diff  \n",
       "1  [0.12812075, 0.15168022, 0.17271698, 0.1912310...  \n",
       "2  [0.12812075, 0.15168022, 0.17271698, 0.1912310...  \n",
       "4  [1.9042153, 1.5424007, 1.2086456, 0.90295035, ...  \n",
       "5  [1.9042153, 1.5424007, 1.2086456, 0.90295035, ...  \n",
       "7  [0.34002408, 0.26249865, 0.18907714, 0.1197595...  \n",
       "\n",
       "[5 rows x 51 columns]"
      ]
     },
     "execution_count": 167,
     "metadata": {},
     "output_type": "execute_result"
    }
   ],
   "source": [
    "START_STOP_FRAME_DF.head()"
   ]
  },
  {
   "cell_type": "code",
   "execution_count": 168,
   "metadata": {
    "tags": []
   },
   "outputs": [
    {
     "data": {
      "text/plain": [
       "Index(['start_frame', 'stop_frame', 'tracked_subject', 'in_video_subjects',\n",
       "       'box_number', 'sleap_name', 'video_name', 'current_subject',\n",
       "       'body_parts', 'box_top_left', 'box_top_right', 'reward_port',\n",
       "       'box_bottom_left', 'box_bottom_right', 'agent', 'subject_locations',\n",
       "       'agent_locations', 'frame_index', 'subject_thorax', 'subject_nose',\n",
       "       'subject_tail_base', 'agent_thorax', 'agent_nose', 'agent_tail_base',\n",
       "       'subject_thorax_velocity', 'agent_thorax_velocity',\n",
       "       'subject_thorax_to_agent_thorax', 'subject_nose_to_agent_tail_base',\n",
       "       'subject_tail_base_to_agent_nose', 'subject_nose_to_reward_port',\n",
       "       'agent_nose_to_reward_port', 'subject_x_nose_to_reward_port',\n",
       "       'subject_y_nose_to_reward_port', 'agent_x_nose_to_reward_port',\n",
       "       'agent_y_nose_to_reward_port', 'subject_speed_to_reward_port',\n",
       "       'agent_speed_to_reward_port', 'subject_to_agent_speed',\n",
       "       'subject_to_reward_port_angle', 'agent_to_reward_port_angle',\n",
       "       'subject_to_agent_orientation', 'thorax_velocity_sum',\n",
       "       'thorax_velocity_diff', 'nose_to_reward_port_sum',\n",
       "       'nose_to_reward_port_diff', 'to_reward_port_angle_sum',\n",
       "       'to_reward_port_angle_diff', 'nose_to_tail_sum', 'nose_to_tail_diff',\n",
       "       'speed_to_reward_port_sum', 'speed_to_reward_port_diff'],\n",
       "      dtype='object')"
      ]
     },
     "execution_count": 168,
     "metadata": {},
     "output_type": "execute_result"
    }
   ],
   "source": [
    "START_STOP_FRAME_DF.columns"
   ]
  },
  {
   "cell_type": "markdown",
   "metadata": {},
   "source": [
    "- Checking to see if everything has full number of frames"
   ]
  },
  {
   "cell_type": "code",
   "execution_count": 169,
   "metadata": {
    "tags": []
   },
   "outputs": [],
   "source": [
    "START_STOP_FRAME_DF[\"frame_index\"] = START_STOP_FRAME_DF[\"frame_index\"].apply(lambda x: x.astype(int))"
   ]
  },
  {
   "cell_type": "code",
   "execution_count": 170,
   "metadata": {
    "tags": []
   },
   "outputs": [
    {
     "data": {
      "text/plain": [
       "array([    0,     1,     2, ..., 68255, 68256, 68257])"
      ]
     },
     "execution_count": 170,
     "metadata": {},
     "output_type": "execute_result"
    }
   ],
   "source": [
    "START_STOP_FRAME_DF[\"frame_index\"].iloc[0]"
   ]
  },
  {
   "cell_type": "code",
   "execution_count": 171,
   "metadata": {
    "tags": []
   },
   "outputs": [
    {
     "data": {
      "text/plain": [
       "1    (68258,)\n",
       "2    (68258,)\n",
       "4    (68333,)\n",
       "5    (68333,)\n",
       "7    (44206,)\n",
       "Name: frame_index, dtype: object"
      ]
     },
     "execution_count": 171,
     "metadata": {},
     "output_type": "execute_result"
    }
   ],
   "source": [
    "START_STOP_FRAME_DF[\"frame_index\"].apply(lambda x: x.shape).head()"
   ]
  },
  {
   "cell_type": "code",
   "execution_count": 172,
   "metadata": {
    "tags": []
   },
   "outputs": [
    {
     "data": {
      "text/plain": [
       "1    (68258, 2)\n",
       "2    (68258, 2)\n",
       "4    (68333, 2)\n",
       "5    (68333, 2)\n",
       "7    (44206, 2)\n",
       "Name: subject_thorax, dtype: object"
      ]
     },
     "execution_count": 172,
     "metadata": {},
     "output_type": "execute_result"
    }
   ],
   "source": [
    "START_STOP_FRAME_DF[\"subject_thorax\"].apply(lambda x: x.shape).head()"
   ]
  },
  {
   "cell_type": "code",
   "execution_count": 173,
   "metadata": {
    "tags": []
   },
   "outputs": [
    {
     "data": {
      "text/plain": [
       "1    (68258,)\n",
       "2    (68258,)\n",
       "4    (68333,)\n",
       "5    (68333,)\n",
       "7    (44206,)\n",
       "Name: subject_thorax_velocity, dtype: object"
      ]
     },
     "execution_count": 173,
     "metadata": {},
     "output_type": "execute_result"
    }
   ],
   "source": [
    "START_STOP_FRAME_DF[\"subject_thorax_velocity\"].apply(lambda x: x.shape).head()"
   ]
  },
  {
   "cell_type": "markdown",
   "metadata": {},
   "source": [
    "## Reading in the trial information"
   ]
  },
  {
   "cell_type": "code",
   "execution_count": 174,
   "metadata": {},
   "outputs": [],
   "source": [
    "list_of_trials_df = []\n",
    "\n",
    "for file_path in all_trials_files:\n",
    "    current_df = pd.read_excel(file_path)\n",
    "    list_of_trials_df.append(current_df)\n",
    "\n",
    "trial_labels = pd.concat(list_of_trials_df)\n"
   ]
  },
  {
   "cell_type": "code",
   "execution_count": 175,
   "metadata": {},
   "outputs": [],
   "source": [
    "trial_labels = trial_labels.dropna(subset=[\"condition \", \"tone_start_frame\"])"
   ]
  },
  {
   "cell_type": "code",
   "execution_count": 176,
   "metadata": {},
   "outputs": [],
   "source": [
    "trial_labels[\"tone_start_frame\"] = trial_labels[\"tone_start_frame\"].astype(int)\n",
    "trial_labels[\"tone_stop_frame\"] = trial_labels[\"tone_stop_frame\"].astype(int)"
   ]
  },
  {
   "cell_type": "code",
   "execution_count": 177,
   "metadata": {},
   "outputs": [],
   "source": [
    "trial_labels[\"10s_before_tone_frame\"] = trial_labels[\"tone_start_frame\"] - 200\n",
    "trial_labels[\"10s_after_tone_frame\"] = trial_labels[\"tone_stop_frame\"] + 200"
   ]
  },
  {
   "cell_type": "code",
   "execution_count": 178,
   "metadata": {},
   "outputs": [],
   "source": [
    "trial_labels[\"tone_start_to_stop_frame\"] = trial_labels.apply(lambda x: (int(x[\"tone_start_frame\"]), int(x[\"tone_stop_frame\"])), axis=1)"
   ]
  },
  {
   "cell_type": "code",
   "execution_count": 179,
   "metadata": {
    "tags": []
   },
   "outputs": [],
   "source": [
    "trial_labels = trial_labels.drop(columns=[col for col in trial_labels if \"Unnamed\" in col], errors=\"ignore\")"
   ]
  },
  {
   "cell_type": "code",
   "execution_count": 180,
   "metadata": {},
   "outputs": [],
   "source": [
    "trial_labels = trial_labels.dropna(subset=[\"condition \"])"
   ]
  },
  {
   "cell_type": "code",
   "execution_count": 181,
   "metadata": {},
   "outputs": [],
   "source": [
    "trial_labels[\"video_name\"] = trial_labels[\"video_name\"].apply(lambda x: x.replace(\".videoTimeStamps.cameraHWSync\", \"\"))"
   ]
  },
  {
   "cell_type": "code",
   "execution_count": 182,
   "metadata": {},
   "outputs": [
    {
     "data": {
      "text/html": [
       "<div>\n",
       "<style scoped>\n",
       "    .dataframe tbody tr th:only-of-type {\n",
       "        vertical-align: middle;\n",
       "    }\n",
       "\n",
       "    .dataframe tbody tr th {\n",
       "        vertical-align: top;\n",
       "    }\n",
       "\n",
       "    .dataframe thead th {\n",
       "        text-align: right;\n",
       "    }\n",
       "</style>\n",
       "<table border=\"1\" class=\"dataframe\">\n",
       "  <thead>\n",
       "    <tr style=\"text-align: right;\">\n",
       "      <th></th>\n",
       "      <th>session_dir</th>\n",
       "      <th>tone_start_frame</th>\n",
       "      <th>tone_stop_frame</th>\n",
       "      <th>condition</th>\n",
       "      <th>competition_closeness</th>\n",
       "      <th>get_reward_frame</th>\n",
       "      <th>out_reward_frame</th>\n",
       "      <th>notes</th>\n",
       "      <th>experiment</th>\n",
       "      <th>box_1_port_entry_frames</th>\n",
       "      <th>...</th>\n",
       "      <th>box_1_port_entry_timestamps</th>\n",
       "      <th>box_2_port_entry_timestamps</th>\n",
       "      <th>reward_start</th>\n",
       "      <th>reward_dispensed</th>\n",
       "      <th>reward_start_frame</th>\n",
       "      <th>minutes</th>\n",
       "      <th>seconds</th>\n",
       "      <th>10s_before_tone_frame</th>\n",
       "      <th>10s_after_tone_frame</th>\n",
       "      <th>tone_start_to_stop_frame</th>\n",
       "    </tr>\n",
       "  </thead>\n",
       "  <tbody>\n",
       "    <tr>\n",
       "      <th>1</th>\n",
       "      <td>20240227_130241_comp_om_subj_4-2_and_4-3</td>\n",
       "      <td>1737</td>\n",
       "      <td>1988</td>\n",
       "      <td>tbd</td>\n",
       "      <td>NaN</td>\n",
       "      <td>NaN</td>\n",
       "      <td>NaN</td>\n",
       "      <td>NaN</td>\n",
       "      <td>NaN</td>\n",
       "      <td>[1883 1885] [1885 1895] [1895 1905] [1907 1915...</td>\n",
       "      <td>...</td>\n",
       "      <td>[1509237 1510837] [1511837 1519237] [1520037 1...</td>\n",
       "      <td>NaN</td>\n",
       "      <td>NaN</td>\n",
       "      <td>NaN</td>\n",
       "      <td>NaN</td>\n",
       "      <td>NaN</td>\n",
       "      <td>NaN</td>\n",
       "      <td>1537</td>\n",
       "      <td>2188</td>\n",
       "      <td>(1737, 1988)</td>\n",
       "    </tr>\n",
       "    <tr>\n",
       "      <th>2</th>\n",
       "      <td>20240227_130241_comp_om_subj_4-2_and_4-3</td>\n",
       "      <td>4730</td>\n",
       "      <td>4978</td>\n",
       "      <td>tbd</td>\n",
       "      <td>NaN</td>\n",
       "      <td>NaN</td>\n",
       "      <td>NaN</td>\n",
       "      <td>NaN</td>\n",
       "      <td>NaN</td>\n",
       "      <td>[4944 4985]</td>\n",
       "      <td>...</td>\n",
       "      <td>[3965869 3998470]</td>\n",
       "      <td>NaN</td>\n",
       "      <td>NaN</td>\n",
       "      <td>NaN</td>\n",
       "      <td>NaN</td>\n",
       "      <td>NaN</td>\n",
       "      <td>NaN</td>\n",
       "      <td>4530</td>\n",
       "      <td>5178</td>\n",
       "      <td>(4730, 4978)</td>\n",
       "    </tr>\n",
       "    <tr>\n",
       "      <th>3</th>\n",
       "      <td>20240227_130241_comp_om_subj_4-2_and_4-3</td>\n",
       "      <td>7597</td>\n",
       "      <td>7846</td>\n",
       "      <td>tbd</td>\n",
       "      <td>NaN</td>\n",
       "      <td>NaN</td>\n",
       "      <td>NaN</td>\n",
       "      <td>NaN</td>\n",
       "      <td>NaN</td>\n",
       "      <td>[7767 7768] [7770 7774] [7777 7787] [7787 7789...</td>\n",
       "      <td>...</td>\n",
       "      <td>[6229499 6231496] [6232499 6235899] [6238099 6...</td>\n",
       "      <td>NaN</td>\n",
       "      <td>NaN</td>\n",
       "      <td>NaN</td>\n",
       "      <td>NaN</td>\n",
       "      <td>NaN</td>\n",
       "      <td>NaN</td>\n",
       "      <td>7397</td>\n",
       "      <td>8046</td>\n",
       "      <td>(7597, 7846)</td>\n",
       "    </tr>\n",
       "    <tr>\n",
       "      <th>4</th>\n",
       "      <td>20240227_130241_comp_om_subj_4-2_and_4-3</td>\n",
       "      <td>9841</td>\n",
       "      <td>10090</td>\n",
       "      <td>tbd</td>\n",
       "      <td>NaN</td>\n",
       "      <td>NaN</td>\n",
       "      <td>NaN</td>\n",
       "      <td>NaN</td>\n",
       "      <td>NaN</td>\n",
       "      <td>[9841 9843] [9845 9847] [9848 9855] [9857 9873...</td>\n",
       "      <td>...</td>\n",
       "      <td>[7895120 7896118] [7897121 7898518] [7899521 7...</td>\n",
       "      <td>NaN</td>\n",
       "      <td>NaN</td>\n",
       "      <td>NaN</td>\n",
       "      <td>NaN</td>\n",
       "      <td>NaN</td>\n",
       "      <td>NaN</td>\n",
       "      <td>9641</td>\n",
       "      <td>10290</td>\n",
       "      <td>(9841, 10090)</td>\n",
       "    </tr>\n",
       "    <tr>\n",
       "      <th>5</th>\n",
       "      <td>20240227_130241_comp_om_subj_4-2_and_4-3</td>\n",
       "      <td>11211</td>\n",
       "      <td>11462</td>\n",
       "      <td>tbd</td>\n",
       "      <td>NaN</td>\n",
       "      <td>NaN</td>\n",
       "      <td>NaN</td>\n",
       "      <td>NaN</td>\n",
       "      <td>NaN</td>\n",
       "      <td>NaN</td>\n",
       "      <td>...</td>\n",
       "      <td>NaN</td>\n",
       "      <td>NaN</td>\n",
       "      <td>NaN</td>\n",
       "      <td>NaN</td>\n",
       "      <td>NaN</td>\n",
       "      <td>NaN</td>\n",
       "      <td>NaN</td>\n",
       "      <td>11011</td>\n",
       "      <td>11662</td>\n",
       "      <td>(11211, 11462)</td>\n",
       "    </tr>\n",
       "  </tbody>\n",
       "</table>\n",
       "<p>5 rows × 27 columns</p>\n",
       "</div>"
      ],
      "text/plain": [
       "                                session_dir  tone_start_frame  \\\n",
       "1  20240227_130241_comp_om_subj_4-2_and_4-3              1737   \n",
       "2  20240227_130241_comp_om_subj_4-2_and_4-3              4730   \n",
       "3  20240227_130241_comp_om_subj_4-2_and_4-3              7597   \n",
       "4  20240227_130241_comp_om_subj_4-2_and_4-3              9841   \n",
       "5  20240227_130241_comp_om_subj_4-2_and_4-3             11211   \n",
       "\n",
       "   tone_stop_frame condition  competition_closeness  get_reward_frame  \\\n",
       "1             1988        tbd                   NaN               NaN   \n",
       "2             4978        tbd                   NaN               NaN   \n",
       "3             7846        tbd                   NaN               NaN   \n",
       "4            10090        tbd                   NaN               NaN   \n",
       "5            11462        tbd                   NaN               NaN   \n",
       "\n",
       "   out_reward_frame notes experiment  \\\n",
       "1               NaN   NaN        NaN   \n",
       "2               NaN   NaN        NaN   \n",
       "3               NaN   NaN        NaN   \n",
       "4               NaN   NaN        NaN   \n",
       "5               NaN   NaN        NaN   \n",
       "\n",
       "                             box_1_port_entry_frames  ...  \\\n",
       "1  [1883 1885] [1885 1895] [1895 1905] [1907 1915...  ...   \n",
       "2                                        [4944 4985]  ...   \n",
       "3  [7767 7768] [7770 7774] [7777 7787] [7787 7789...  ...   \n",
       "4  [9841 9843] [9845 9847] [9848 9855] [9857 9873...  ...   \n",
       "5                                                NaN  ...   \n",
       "\n",
       "                         box_1_port_entry_timestamps  \\\n",
       "1  [1509237 1510837] [1511837 1519237] [1520037 1...   \n",
       "2                                  [3965869 3998470]   \n",
       "3  [6229499 6231496] [6232499 6235899] [6238099 6...   \n",
       "4  [7895120 7896118] [7897121 7898518] [7899521 7...   \n",
       "5                                                NaN   \n",
       "\n",
       "  box_2_port_entry_timestamps reward_start  reward_dispensed  \\\n",
       "1                         NaN          NaN               NaN   \n",
       "2                         NaN          NaN               NaN   \n",
       "3                         NaN          NaN               NaN   \n",
       "4                         NaN          NaN               NaN   \n",
       "5                         NaN          NaN               NaN   \n",
       "\n",
       "   reward_start_frame  minutes  seconds 10s_before_tone_frame  \\\n",
       "1                 NaN      NaN      NaN                  1537   \n",
       "2                 NaN      NaN      NaN                  4530   \n",
       "3                 NaN      NaN      NaN                  7397   \n",
       "4                 NaN      NaN      NaN                  9641   \n",
       "5                 NaN      NaN      NaN                 11011   \n",
       "\n",
       "  10s_after_tone_frame  tone_start_to_stop_frame  \n",
       "1                 2188              (1737, 1988)  \n",
       "2                 5178              (4730, 4978)  \n",
       "3                 8046              (7597, 7846)  \n",
       "4                10290             (9841, 10090)  \n",
       "5                11662            (11211, 11462)  \n",
       "\n",
       "[5 rows x 27 columns]"
      ]
     },
     "execution_count": 182,
     "metadata": {},
     "output_type": "execute_result"
    }
   ],
   "source": [
    "trial_labels.head()"
   ]
  },
  {
   "cell_type": "markdown",
   "metadata": {},
   "source": [
    "## Merging the SLEAP locations and trial labels dataframe"
   ]
  },
  {
   "cell_type": "code",
   "execution_count": 202,
   "metadata": {},
   "outputs": [],
   "source": [
    "merged_trial_labels_df = pd.merge(left = trial_labels, right = START_STOP_FRAME_DF, on=[\"video_name\"], how=\"inner\")"
   ]
  },
  {
   "cell_type": "code",
   "execution_count": 203,
   "metadata": {
    "tags": []
   },
   "outputs": [
    {
     "data": {
      "text/html": [
       "<div>\n",
       "<style scoped>\n",
       "    .dataframe tbody tr th:only-of-type {\n",
       "        vertical-align: middle;\n",
       "    }\n",
       "\n",
       "    .dataframe tbody tr th {\n",
       "        vertical-align: top;\n",
       "    }\n",
       "\n",
       "    .dataframe thead th {\n",
       "        text-align: right;\n",
       "    }\n",
       "</style>\n",
       "<table border=\"1\" class=\"dataframe\">\n",
       "  <thead>\n",
       "    <tr style=\"text-align: right;\">\n",
       "      <th></th>\n",
       "      <th>session_dir</th>\n",
       "      <th>tone_start_frame</th>\n",
       "      <th>tone_stop_frame</th>\n",
       "      <th>condition</th>\n",
       "      <th>competition_closeness</th>\n",
       "      <th>get_reward_frame</th>\n",
       "      <th>out_reward_frame</th>\n",
       "      <th>notes</th>\n",
       "      <th>experiment</th>\n",
       "      <th>box_1_port_entry_frames</th>\n",
       "      <th>...</th>\n",
       "      <th>thorax_velocity_sum</th>\n",
       "      <th>thorax_velocity_diff</th>\n",
       "      <th>nose_to_reward_port_sum</th>\n",
       "      <th>nose_to_reward_port_diff</th>\n",
       "      <th>to_reward_port_angle_sum</th>\n",
       "      <th>to_reward_port_angle_diff</th>\n",
       "      <th>nose_to_tail_sum</th>\n",
       "      <th>nose_to_tail_diff</th>\n",
       "      <th>speed_to_reward_port_sum</th>\n",
       "      <th>speed_to_reward_port_diff</th>\n",
       "    </tr>\n",
       "  </thead>\n",
       "  <tbody>\n",
       "    <tr>\n",
       "      <th>0</th>\n",
       "      <td>20240227_130241_comp_om_subj_4-2_and_4-3</td>\n",
       "      <td>1737</td>\n",
       "      <td>1988</td>\n",
       "      <td>tbd</td>\n",
       "      <td>NaN</td>\n",
       "      <td>NaN</td>\n",
       "      <td>NaN</td>\n",
       "      <td>NaN</td>\n",
       "      <td>NaN</td>\n",
       "      <td>[1883 1885] [1885 1895] [1895 1905] [1907 1915...</td>\n",
       "      <td>...</td>\n",
       "      <td>[43.8316, 41.472218, 39.291348, 37.27892, 35.4...</td>\n",
       "      <td>[9.236752, 7.219741, 5.65294, 4.499278, 3.7216...</td>\n",
       "      <td>[43.971256, 43.277756, 42.531433, 41.74732, 40...</td>\n",
       "      <td>[0.432459, 2.2443154, 3.915471, 5.451132, 6.85...</td>\n",
       "      <td>[1.7205862, 1.8758287, 2.0358496, 2.1982858, 2...</td>\n",
       "      <td>[0.79307723, 1.0284, 1.2301545, 1.4000615, 1.5...</td>\n",
       "      <td>[41.21198, 40.833298, 39.61922, 38.29321, 37.8...</td>\n",
       "      <td>[18.818794, 17.641945, 17.306507, 17.677742, 1...</td>\n",
       "      <td>[-0.6620789, -0.72241586, -0.7677237, -0.79800...</td>\n",
       "      <td>[2.398821, 2.1745362, 1.9614562, 1.7595806, 1....</td>\n",
       "    </tr>\n",
       "    <tr>\n",
       "      <th>1</th>\n",
       "      <td>20240227_130241_comp_om_subj_4-2_and_4-3</td>\n",
       "      <td>1737</td>\n",
       "      <td>1988</td>\n",
       "      <td>tbd</td>\n",
       "      <td>NaN</td>\n",
       "      <td>NaN</td>\n",
       "      <td>NaN</td>\n",
       "      <td>NaN</td>\n",
       "      <td>NaN</td>\n",
       "      <td>[1883 1885] [1885 1895] [1895 1905] [1907 1915...</td>\n",
       "      <td>...</td>\n",
       "      <td>[43.8316, 41.472218, 39.291348, 37.27892, 35.4...</td>\n",
       "      <td>[9.236752, 7.219741, 5.65294, 4.499278, 3.7216...</td>\n",
       "      <td>[43.971256, 43.277756, 42.531433, 41.74732, 40...</td>\n",
       "      <td>[0.432459, 2.2443154, 3.915471, 5.451132, 6.85...</td>\n",
       "      <td>[1.7205862, 1.8758287, 2.0358496, 2.1982858, 2...</td>\n",
       "      <td>[0.79307723, 1.0284, 1.2301545, 1.4000615, 1.5...</td>\n",
       "      <td>[38.42459, 37.736725, 37.236202, 36.23296, 37....</td>\n",
       "      <td>[18.192137, 19.137976, 20.054024, 19.669659, 2...</td>\n",
       "      <td>[-0.6620789, -0.72241586, -0.7677237, -0.79800...</td>\n",
       "      <td>[2.398821, 2.1745362, 1.9614562, 1.7595806, 1....</td>\n",
       "    </tr>\n",
       "    <tr>\n",
       "      <th>2</th>\n",
       "      <td>20240227_130241_comp_om_subj_4-2_and_4-3</td>\n",
       "      <td>4730</td>\n",
       "      <td>4978</td>\n",
       "      <td>tbd</td>\n",
       "      <td>NaN</td>\n",
       "      <td>NaN</td>\n",
       "      <td>NaN</td>\n",
       "      <td>NaN</td>\n",
       "      <td>NaN</td>\n",
       "      <td>[4944 4985]</td>\n",
       "      <td>...</td>\n",
       "      <td>[43.8316, 41.472218, 39.291348, 37.27892, 35.4...</td>\n",
       "      <td>[9.236752, 7.219741, 5.65294, 4.499278, 3.7216...</td>\n",
       "      <td>[43.971256, 43.277756, 42.531433, 41.74732, 40...</td>\n",
       "      <td>[0.432459, 2.2443154, 3.915471, 5.451132, 6.85...</td>\n",
       "      <td>[1.7205862, 1.8758287, 2.0358496, 2.1982858, 2...</td>\n",
       "      <td>[0.79307723, 1.0284, 1.2301545, 1.4000615, 1.5...</td>\n",
       "      <td>[41.21198, 40.833298, 39.61922, 38.29321, 37.8...</td>\n",
       "      <td>[18.818794, 17.641945, 17.306507, 17.677742, 1...</td>\n",
       "      <td>[-0.6620789, -0.72241586, -0.7677237, -0.79800...</td>\n",
       "      <td>[2.398821, 2.1745362, 1.9614562, 1.7595806, 1....</td>\n",
       "    </tr>\n",
       "    <tr>\n",
       "      <th>3</th>\n",
       "      <td>20240227_130241_comp_om_subj_4-2_and_4-3</td>\n",
       "      <td>4730</td>\n",
       "      <td>4978</td>\n",
       "      <td>tbd</td>\n",
       "      <td>NaN</td>\n",
       "      <td>NaN</td>\n",
       "      <td>NaN</td>\n",
       "      <td>NaN</td>\n",
       "      <td>NaN</td>\n",
       "      <td>[4944 4985]</td>\n",
       "      <td>...</td>\n",
       "      <td>[43.8316, 41.472218, 39.291348, 37.27892, 35.4...</td>\n",
       "      <td>[9.236752, 7.219741, 5.65294, 4.499278, 3.7216...</td>\n",
       "      <td>[43.971256, 43.277756, 42.531433, 41.74732, 40...</td>\n",
       "      <td>[0.432459, 2.2443154, 3.915471, 5.451132, 6.85...</td>\n",
       "      <td>[1.7205862, 1.8758287, 2.0358496, 2.1982858, 2...</td>\n",
       "      <td>[0.79307723, 1.0284, 1.2301545, 1.4000615, 1.5...</td>\n",
       "      <td>[38.42459, 37.736725, 37.236202, 36.23296, 37....</td>\n",
       "      <td>[18.192137, 19.137976, 20.054024, 19.669659, 2...</td>\n",
       "      <td>[-0.6620789, -0.72241586, -0.7677237, -0.79800...</td>\n",
       "      <td>[2.398821, 2.1745362, 1.9614562, 1.7595806, 1....</td>\n",
       "    </tr>\n",
       "    <tr>\n",
       "      <th>4</th>\n",
       "      <td>20240227_130241_comp_om_subj_4-2_and_4-3</td>\n",
       "      <td>7597</td>\n",
       "      <td>7846</td>\n",
       "      <td>tbd</td>\n",
       "      <td>NaN</td>\n",
       "      <td>NaN</td>\n",
       "      <td>NaN</td>\n",
       "      <td>NaN</td>\n",
       "      <td>NaN</td>\n",
       "      <td>[7767 7768] [7770 7774] [7777 7787] [7787 7789...</td>\n",
       "      <td>...</td>\n",
       "      <td>[43.8316, 41.472218, 39.291348, 37.27892, 35.4...</td>\n",
       "      <td>[9.236752, 7.219741, 5.65294, 4.499278, 3.7216...</td>\n",
       "      <td>[43.971256, 43.277756, 42.531433, 41.74732, 40...</td>\n",
       "      <td>[0.432459, 2.2443154, 3.915471, 5.451132, 6.85...</td>\n",
       "      <td>[1.7205862, 1.8758287, 2.0358496, 2.1982858, 2...</td>\n",
       "      <td>[0.79307723, 1.0284, 1.2301545, 1.4000615, 1.5...</td>\n",
       "      <td>[41.21198, 40.833298, 39.61922, 38.29321, 37.8...</td>\n",
       "      <td>[18.818794, 17.641945, 17.306507, 17.677742, 1...</td>\n",
       "      <td>[-0.6620789, -0.72241586, -0.7677237, -0.79800...</td>\n",
       "      <td>[2.398821, 2.1745362, 1.9614562, 1.7595806, 1....</td>\n",
       "    </tr>\n",
       "  </tbody>\n",
       "</table>\n",
       "<p>5 rows × 77 columns</p>\n",
       "</div>"
      ],
      "text/plain": [
       "                                session_dir  tone_start_frame  \\\n",
       "0  20240227_130241_comp_om_subj_4-2_and_4-3              1737   \n",
       "1  20240227_130241_comp_om_subj_4-2_and_4-3              1737   \n",
       "2  20240227_130241_comp_om_subj_4-2_and_4-3              4730   \n",
       "3  20240227_130241_comp_om_subj_4-2_and_4-3              4730   \n",
       "4  20240227_130241_comp_om_subj_4-2_and_4-3              7597   \n",
       "\n",
       "   tone_stop_frame condition  competition_closeness  get_reward_frame  \\\n",
       "0             1988        tbd                   NaN               NaN   \n",
       "1             1988        tbd                   NaN               NaN   \n",
       "2             4978        tbd                   NaN               NaN   \n",
       "3             4978        tbd                   NaN               NaN   \n",
       "4             7846        tbd                   NaN               NaN   \n",
       "\n",
       "   out_reward_frame notes experiment  \\\n",
       "0               NaN   NaN        NaN   \n",
       "1               NaN   NaN        NaN   \n",
       "2               NaN   NaN        NaN   \n",
       "3               NaN   NaN        NaN   \n",
       "4               NaN   NaN        NaN   \n",
       "\n",
       "                             box_1_port_entry_frames  ...  \\\n",
       "0  [1883 1885] [1885 1895] [1895 1905] [1907 1915...  ...   \n",
       "1  [1883 1885] [1885 1895] [1895 1905] [1907 1915...  ...   \n",
       "2                                        [4944 4985]  ...   \n",
       "3                                        [4944 4985]  ...   \n",
       "4  [7767 7768] [7770 7774] [7777 7787] [7787 7789...  ...   \n",
       "\n",
       "                                 thorax_velocity_sum  \\\n",
       "0  [43.8316, 41.472218, 39.291348, 37.27892, 35.4...   \n",
       "1  [43.8316, 41.472218, 39.291348, 37.27892, 35.4...   \n",
       "2  [43.8316, 41.472218, 39.291348, 37.27892, 35.4...   \n",
       "3  [43.8316, 41.472218, 39.291348, 37.27892, 35.4...   \n",
       "4  [43.8316, 41.472218, 39.291348, 37.27892, 35.4...   \n",
       "\n",
       "                                thorax_velocity_diff  \\\n",
       "0  [9.236752, 7.219741, 5.65294, 4.499278, 3.7216...   \n",
       "1  [9.236752, 7.219741, 5.65294, 4.499278, 3.7216...   \n",
       "2  [9.236752, 7.219741, 5.65294, 4.499278, 3.7216...   \n",
       "3  [9.236752, 7.219741, 5.65294, 4.499278, 3.7216...   \n",
       "4  [9.236752, 7.219741, 5.65294, 4.499278, 3.7216...   \n",
       "\n",
       "                             nose_to_reward_port_sum  \\\n",
       "0  [43.971256, 43.277756, 42.531433, 41.74732, 40...   \n",
       "1  [43.971256, 43.277756, 42.531433, 41.74732, 40...   \n",
       "2  [43.971256, 43.277756, 42.531433, 41.74732, 40...   \n",
       "3  [43.971256, 43.277756, 42.531433, 41.74732, 40...   \n",
       "4  [43.971256, 43.277756, 42.531433, 41.74732, 40...   \n",
       "\n",
       "                            nose_to_reward_port_diff  \\\n",
       "0  [0.432459, 2.2443154, 3.915471, 5.451132, 6.85...   \n",
       "1  [0.432459, 2.2443154, 3.915471, 5.451132, 6.85...   \n",
       "2  [0.432459, 2.2443154, 3.915471, 5.451132, 6.85...   \n",
       "3  [0.432459, 2.2443154, 3.915471, 5.451132, 6.85...   \n",
       "4  [0.432459, 2.2443154, 3.915471, 5.451132, 6.85...   \n",
       "\n",
       "                            to_reward_port_angle_sum  \\\n",
       "0  [1.7205862, 1.8758287, 2.0358496, 2.1982858, 2...   \n",
       "1  [1.7205862, 1.8758287, 2.0358496, 2.1982858, 2...   \n",
       "2  [1.7205862, 1.8758287, 2.0358496, 2.1982858, 2...   \n",
       "3  [1.7205862, 1.8758287, 2.0358496, 2.1982858, 2...   \n",
       "4  [1.7205862, 1.8758287, 2.0358496, 2.1982858, 2...   \n",
       "\n",
       "                           to_reward_port_angle_diff  \\\n",
       "0  [0.79307723, 1.0284, 1.2301545, 1.4000615, 1.5...   \n",
       "1  [0.79307723, 1.0284, 1.2301545, 1.4000615, 1.5...   \n",
       "2  [0.79307723, 1.0284, 1.2301545, 1.4000615, 1.5...   \n",
       "3  [0.79307723, 1.0284, 1.2301545, 1.4000615, 1.5...   \n",
       "4  [0.79307723, 1.0284, 1.2301545, 1.4000615, 1.5...   \n",
       "\n",
       "                                    nose_to_tail_sum  \\\n",
       "0  [41.21198, 40.833298, 39.61922, 38.29321, 37.8...   \n",
       "1  [38.42459, 37.736725, 37.236202, 36.23296, 37....   \n",
       "2  [41.21198, 40.833298, 39.61922, 38.29321, 37.8...   \n",
       "3  [38.42459, 37.736725, 37.236202, 36.23296, 37....   \n",
       "4  [41.21198, 40.833298, 39.61922, 38.29321, 37.8...   \n",
       "\n",
       "                                   nose_to_tail_diff  \\\n",
       "0  [18.818794, 17.641945, 17.306507, 17.677742, 1...   \n",
       "1  [18.192137, 19.137976, 20.054024, 19.669659, 2...   \n",
       "2  [18.818794, 17.641945, 17.306507, 17.677742, 1...   \n",
       "3  [18.192137, 19.137976, 20.054024, 19.669659, 2...   \n",
       "4  [18.818794, 17.641945, 17.306507, 17.677742, 1...   \n",
       "\n",
       "                            speed_to_reward_port_sum  \\\n",
       "0  [-0.6620789, -0.72241586, -0.7677237, -0.79800...   \n",
       "1  [-0.6620789, -0.72241586, -0.7677237, -0.79800...   \n",
       "2  [-0.6620789, -0.72241586, -0.7677237, -0.79800...   \n",
       "3  [-0.6620789, -0.72241586, -0.7677237, -0.79800...   \n",
       "4  [-0.6620789, -0.72241586, -0.7677237, -0.79800...   \n",
       "\n",
       "                           speed_to_reward_port_diff  \n",
       "0  [2.398821, 2.1745362, 1.9614562, 1.7595806, 1....  \n",
       "1  [2.398821, 2.1745362, 1.9614562, 1.7595806, 1....  \n",
       "2  [2.398821, 2.1745362, 1.9614562, 1.7595806, 1....  \n",
       "3  [2.398821, 2.1745362, 1.9614562, 1.7595806, 1....  \n",
       "4  [2.398821, 2.1745362, 1.9614562, 1.7595806, 1....  \n",
       "\n",
       "[5 rows x 77 columns]"
      ]
     },
     "execution_count": 203,
     "metadata": {},
     "output_type": "execute_result"
    }
   ],
   "source": [
    "merged_trial_labels_df.head()"
   ]
  },
  {
   "cell_type": "code",
   "execution_count": 204,
   "metadata": {},
   "outputs": [
    {
     "data": {
      "text/plain": [
       "['subject_thorax_to_agent_thorax',\n",
       " 'nose_to_reward_port_sum',\n",
       " 'nose_to_reward_port_diff',\n",
       " 'thorax_velocity_sum',\n",
       " 'thorax_velocity_diff',\n",
       " 'to_reward_port_angle_sum',\n",
       " 'to_reward_port_angle_diff',\n",
       " 'subject_nose_to_reward_port',\n",
       " 'subject_thorax_velocity',\n",
       " 'subject_to_reward_port_angle',\n",
       " 'agent_nose_to_reward_port',\n",
       " 'agent_thorax_velocity',\n",
       " 'agent_to_reward_port_angle']"
      ]
     },
     "execution_count": 204,
     "metadata": {},
     "output_type": "execute_result"
    }
   ],
   "source": [
    "features_columns"
   ]
  },
  {
   "cell_type": "code",
   "execution_count": 205,
   "metadata": {
    "tags": []
   },
   "outputs": [],
   "source": [
    "sleap_columns = ['subject_locations', 'agent_locations',\n",
    "       'subject_thorax', 'subject_nose', 'subject_tail_base', 'agent_thorax',\n",
    "       'agent_nose', 'agent_tail_base', ]"
   ]
  },
  {
   "cell_type": "markdown",
   "metadata": {},
   "source": [
    "## Filtering based on tone times"
   ]
  },
  {
   "cell_type": "code",
   "execution_count": 206,
   "metadata": {},
   "outputs": [],
   "source": [
    "for col in features_columns + sleap_columns + [\"frame_index\"]:\n",
    "    merged_trial_labels_df[col] = merged_trial_labels_df.apply(lambda x: x[col][int(x[\"10s_before_tone_frame\"]): int(x[\"10s_after_tone_frame\"])], axis=1)"
   ]
  },
  {
   "cell_type": "code",
   "execution_count": 207,
   "metadata": {},
   "outputs": [],
   "source": [
    "# features_columns = [col for col in features_columns if col != \"frame_index\"]"
   ]
  },
  {
   "cell_type": "code",
   "execution_count": 208,
   "metadata": {},
   "outputs": [
    {
     "data": {
      "text/plain": [
       "['subject_thorax_to_agent_thorax',\n",
       " 'nose_to_reward_port_sum',\n",
       " 'nose_to_reward_port_diff',\n",
       " 'thorax_velocity_sum',\n",
       " 'thorax_velocity_diff',\n",
       " 'to_reward_port_angle_sum',\n",
       " 'to_reward_port_angle_diff',\n",
       " 'subject_nose_to_reward_port',\n",
       " 'subject_thorax_velocity',\n",
       " 'subject_to_reward_port_angle',\n",
       " 'agent_nose_to_reward_port',\n",
       " 'agent_thorax_velocity',\n",
       " 'agent_to_reward_port_angle']"
      ]
     },
     "execution_count": 208,
     "metadata": {},
     "output_type": "execute_result"
    }
   ],
   "source": [
    "features_columns"
   ]
  },
  {
   "cell_type": "code",
   "execution_count": 209,
   "metadata": {
    "tags": []
   },
   "outputs": [],
   "source": [
    "merged_trial_labels_df[\"within_trial_frame_index\"] = merged_trial_labels_df.apply(lambda x: np.arange(x[\"10s_after_tone_frame\"] - x[\"10s_before_tone_frame\"]), axis=1)\n"
   ]
  },
  {
   "cell_type": "markdown",
   "metadata": {},
   "source": [
    "- Removing all rows with length 1"
   ]
  },
  {
   "cell_type": "code",
   "execution_count": 210,
   "metadata": {
    "tags": []
   },
   "outputs": [],
   "source": [
    "merged_trial_labels_df = merged_trial_labels_df[merged_trial_labels_df[features_columns[0]].apply(lambda x: x.shape[0]) >= 1]\n"
   ]
  },
  {
   "cell_type": "markdown",
   "metadata": {},
   "source": [
    "# UMAP Clustering"
   ]
  },
  {
   "cell_type": "markdown",
   "metadata": {},
   "source": [
    "- Dropping duplicates so that each frame is only counted once"
   ]
  },
  {
   "cell_type": "code",
   "execution_count": 211,
   "metadata": {},
   "outputs": [],
   "source": [
    "drop_duplicates_trial_labels_df = merged_trial_labels_df.drop_duplicates(subset=[\"video_name\", \"tone_stop_frame\"])\n",
    "\n"
   ]
  },
  {
   "cell_type": "code",
   "execution_count": 212,
   "metadata": {
    "tags": []
   },
   "outputs": [
    {
     "data": {
      "text/plain": [
       "['subject_thorax_to_agent_thorax',\n",
       " 'nose_to_reward_port_sum',\n",
       " 'nose_to_reward_port_diff',\n",
       " 'thorax_velocity_sum',\n",
       " 'thorax_velocity_diff',\n",
       " 'to_reward_port_angle_sum',\n",
       " 'to_reward_port_angle_diff',\n",
       " 'subject_nose_to_reward_port',\n",
       " 'subject_thorax_velocity',\n",
       " 'subject_to_reward_port_angle',\n",
       " 'agent_nose_to_reward_port',\n",
       " 'agent_thorax_velocity',\n",
       " 'agent_to_reward_port_angle']"
      ]
     },
     "execution_count": 212,
     "metadata": {},
     "output_type": "execute_result"
    }
   ],
   "source": [
    "features_columns"
   ]
  },
  {
   "cell_type": "code",
   "execution_count": 214,
   "metadata": {
    "tags": []
   },
   "outputs": [
    {
     "data": {
      "text/html": [
       "<div>\n",
       "<style scoped>\n",
       "    .dataframe tbody tr th:only-of-type {\n",
       "        vertical-align: middle;\n",
       "    }\n",
       "\n",
       "    .dataframe tbody tr th {\n",
       "        vertical-align: top;\n",
       "    }\n",
       "\n",
       "    .dataframe thead th {\n",
       "        text-align: right;\n",
       "    }\n",
       "</style>\n",
       "<table border=\"1\" class=\"dataframe\">\n",
       "  <thead>\n",
       "    <tr style=\"text-align: right;\">\n",
       "      <th></th>\n",
       "      <th>session_dir</th>\n",
       "      <th>tone_start_frame</th>\n",
       "      <th>tone_stop_frame</th>\n",
       "      <th>condition</th>\n",
       "      <th>competition_closeness</th>\n",
       "      <th>get_reward_frame</th>\n",
       "      <th>out_reward_frame</th>\n",
       "      <th>notes</th>\n",
       "      <th>experiment</th>\n",
       "      <th>box_1_port_entry_frames</th>\n",
       "      <th>...</th>\n",
       "      <th>thorax_velocity_diff</th>\n",
       "      <th>nose_to_reward_port_sum</th>\n",
       "      <th>nose_to_reward_port_diff</th>\n",
       "      <th>to_reward_port_angle_sum</th>\n",
       "      <th>to_reward_port_angle_diff</th>\n",
       "      <th>nose_to_tail_sum</th>\n",
       "      <th>nose_to_tail_diff</th>\n",
       "      <th>speed_to_reward_port_sum</th>\n",
       "      <th>speed_to_reward_port_diff</th>\n",
       "      <th>within_trial_frame_index</th>\n",
       "    </tr>\n",
       "  </thead>\n",
       "  <tbody>\n",
       "    <tr>\n",
       "      <th>0</th>\n",
       "      <td>20240227_130241_comp_om_subj_4-2_and_4-3</td>\n",
       "      <td>1737</td>\n",
       "      <td>1988</td>\n",
       "      <td>tbd</td>\n",
       "      <td>NaN</td>\n",
       "      <td>NaN</td>\n",
       "      <td>NaN</td>\n",
       "      <td>NaN</td>\n",
       "      <td>NaN</td>\n",
       "      <td>[1883 1885] [1885 1895] [1895 1905] [1907 1915...</td>\n",
       "      <td>...</td>\n",
       "      <td>[5.204177, 5.638649, 6.025957, 6.3595524, 6.62...</td>\n",
       "      <td>[28.87265, 29.270014, 29.702528, 30.21946, 30....</td>\n",
       "      <td>[23.863668, 23.484873, 23.049864, 22.548027, 2...</td>\n",
       "      <td>[1.9057206, 1.908443, 1.9182285, 1.9172035, 1....</td>\n",
       "      <td>[1.4949569, 1.4890778, 1.480854, 1.4798024, 1....</td>\n",
       "      <td>[41.21198, 40.833298, 39.61922, 38.29321, 37.8...</td>\n",
       "      <td>[18.818794, 17.641945, 17.306507, 17.677742, 1...</td>\n",
       "      <td>[-0.6620789, -0.72241586, -0.7677237, -0.79800...</td>\n",
       "      <td>[2.398821, 2.1745362, 1.9614562, 1.7595806, 1....</td>\n",
       "      <td>[0, 1, 2, 3, 4, 5, 6, 7, 8, 9, 10, 11, 12, 13,...</td>\n",
       "    </tr>\n",
       "    <tr>\n",
       "      <th>2</th>\n",
       "      <td>20240227_130241_comp_om_subj_4-2_and_4-3</td>\n",
       "      <td>4730</td>\n",
       "      <td>4978</td>\n",
       "      <td>tbd</td>\n",
       "      <td>NaN</td>\n",
       "      <td>NaN</td>\n",
       "      <td>NaN</td>\n",
       "      <td>NaN</td>\n",
       "      <td>NaN</td>\n",
       "      <td>[4944 4985]</td>\n",
       "      <td>...</td>\n",
       "      <td>[1.6934882, 1.8060448, 1.9672217, 2.1501918, 2...</td>\n",
       "      <td>[28.312052, 28.358694, 28.356104, 28.259315, 2...</td>\n",
       "      <td>[21.129335, 21.155933, 21.14188, 21.017073, 20...</td>\n",
       "      <td>[3.243607, 3.250121, 3.2582936, 3.301247, 3.36...</td>\n",
       "      <td>[0.72459877, 0.7327968, 0.71425956, 0.6953894,...</td>\n",
       "      <td>[41.21198, 40.833298, 39.61922, 38.29321, 37.8...</td>\n",
       "      <td>[18.818794, 17.641945, 17.306507, 17.677742, 1...</td>\n",
       "      <td>[-0.6620789, -0.72241586, -0.7677237, -0.79800...</td>\n",
       "      <td>[2.398821, 2.1745362, 1.9614562, 1.7595806, 1....</td>\n",
       "      <td>[0, 1, 2, 3, 4, 5, 6, 7, 8, 9, 10, 11, 12, 13,...</td>\n",
       "    </tr>\n",
       "    <tr>\n",
       "      <th>4</th>\n",
       "      <td>20240227_130241_comp_om_subj_4-2_and_4-3</td>\n",
       "      <td>7597</td>\n",
       "      <td>7846</td>\n",
       "      <td>tbd</td>\n",
       "      <td>NaN</td>\n",
       "      <td>NaN</td>\n",
       "      <td>NaN</td>\n",
       "      <td>NaN</td>\n",
       "      <td>NaN</td>\n",
       "      <td>[7767 7768] [7770 7774] [7777 7787] [7787 7789...</td>\n",
       "      <td>...</td>\n",
       "      <td>[0.8160417, 0.91568893, 0.9271823, 0.847901, 0...</td>\n",
       "      <td>[27.371693, 27.39242, 27.502598, 27.617168, 27...</td>\n",
       "      <td>[21.320568, 21.339718, 21.300724, 21.258976, 2...</td>\n",
       "      <td>[5.495078, 5.4917383, 5.4926953, 5.49627, 5.50...</td>\n",
       "      <td>[0.097500816, 0.09425953, 0.09011891, 0.081848...</td>\n",
       "      <td>[41.21198, 40.833298, 39.61922, 38.29321, 37.8...</td>\n",
       "      <td>[18.818794, 17.641945, 17.306507, 17.677742, 1...</td>\n",
       "      <td>[-0.6620789, -0.72241586, -0.7677237, -0.79800...</td>\n",
       "      <td>[2.398821, 2.1745362, 1.9614562, 1.7595806, 1....</td>\n",
       "      <td>[0, 1, 2, 3, 4, 5, 6, 7, 8, 9, 10, 11, 12, 13,...</td>\n",
       "    </tr>\n",
       "    <tr>\n",
       "      <th>6</th>\n",
       "      <td>20240227_130241_comp_om_subj_4-2_and_4-3</td>\n",
       "      <td>9841</td>\n",
       "      <td>10090</td>\n",
       "      <td>tbd</td>\n",
       "      <td>NaN</td>\n",
       "      <td>NaN</td>\n",
       "      <td>NaN</td>\n",
       "      <td>NaN</td>\n",
       "      <td>NaN</td>\n",
       "      <td>[9841 9843] [9845 9847] [9848 9855] [9857 9873...</td>\n",
       "      <td>...</td>\n",
       "      <td>[2.537473, 2.1064932, 1.839493, 1.7586157, 1.8...</td>\n",
       "      <td>[9.769536, 9.859206, 9.923873, 9.933508, 9.946...</td>\n",
       "      <td>[8.063072, 8.0878725, 8.149344, 8.268497, 8.28...</td>\n",
       "      <td>[3.2674677, 3.3664355, 3.4668796, 3.4924338, 3...</td>\n",
       "      <td>[2.5384104, 2.4888833, 2.4414885, 2.4634583, 2...</td>\n",
       "      <td>[41.21198, 40.833298, 39.61922, 38.29321, 37.8...</td>\n",
       "      <td>[18.818794, 17.641945, 17.306507, 17.677742, 1...</td>\n",
       "      <td>[-0.6620789, -0.72241586, -0.7677237, -0.79800...</td>\n",
       "      <td>[2.398821, 2.1745362, 1.9614562, 1.7595806, 1....</td>\n",
       "      <td>[0, 1, 2, 3, 4, 5, 6, 7, 8, 9, 10, 11, 12, 13,...</td>\n",
       "    </tr>\n",
       "    <tr>\n",
       "      <th>8</th>\n",
       "      <td>20240227_130241_comp_om_subj_4-2_and_4-3</td>\n",
       "      <td>11211</td>\n",
       "      <td>11462</td>\n",
       "      <td>tbd</td>\n",
       "      <td>NaN</td>\n",
       "      <td>NaN</td>\n",
       "      <td>NaN</td>\n",
       "      <td>NaN</td>\n",
       "      <td>NaN</td>\n",
       "      <td>NaN</td>\n",
       "      <td>...</td>\n",
       "      <td>[1.6548661, 1.680543, 1.7248147, 1.5096384, 1....</td>\n",
       "      <td>[42.690056, 42.18014, 41.56746, 40.921604, 40....</td>\n",
       "      <td>[8.380694, 8.937588, 9.434923, 9.973564, 10.58...</td>\n",
       "      <td>[3.372634, 3.473981, 3.5859168, 3.7084124, 3.8...</td>\n",
       "      <td>[1.5646127, 1.4686148, 1.3649975, 1.2642831, 1...</td>\n",
       "      <td>[41.21198, 40.833298, 39.61922, 38.29321, 37.8...</td>\n",
       "      <td>[18.818794, 17.641945, 17.306507, 17.677742, 1...</td>\n",
       "      <td>[-0.6620789, -0.72241586, -0.7677237, -0.79800...</td>\n",
       "      <td>[2.398821, 2.1745362, 1.9614562, 1.7595806, 1....</td>\n",
       "      <td>[0, 1, 2, 3, 4, 5, 6, 7, 8, 9, 10, 11, 12, 13,...</td>\n",
       "    </tr>\n",
       "  </tbody>\n",
       "</table>\n",
       "<p>5 rows × 78 columns</p>\n",
       "</div>"
      ],
      "text/plain": [
       "                                session_dir  tone_start_frame  \\\n",
       "0  20240227_130241_comp_om_subj_4-2_and_4-3              1737   \n",
       "2  20240227_130241_comp_om_subj_4-2_and_4-3              4730   \n",
       "4  20240227_130241_comp_om_subj_4-2_and_4-3              7597   \n",
       "6  20240227_130241_comp_om_subj_4-2_and_4-3              9841   \n",
       "8  20240227_130241_comp_om_subj_4-2_and_4-3             11211   \n",
       "\n",
       "   tone_stop_frame condition  competition_closeness  get_reward_frame  \\\n",
       "0             1988        tbd                   NaN               NaN   \n",
       "2             4978        tbd                   NaN               NaN   \n",
       "4             7846        tbd                   NaN               NaN   \n",
       "6            10090        tbd                   NaN               NaN   \n",
       "8            11462        tbd                   NaN               NaN   \n",
       "\n",
       "   out_reward_frame notes experiment  \\\n",
       "0               NaN   NaN        NaN   \n",
       "2               NaN   NaN        NaN   \n",
       "4               NaN   NaN        NaN   \n",
       "6               NaN   NaN        NaN   \n",
       "8               NaN   NaN        NaN   \n",
       "\n",
       "                             box_1_port_entry_frames  ...  \\\n",
       "0  [1883 1885] [1885 1895] [1895 1905] [1907 1915...  ...   \n",
       "2                                        [4944 4985]  ...   \n",
       "4  [7767 7768] [7770 7774] [7777 7787] [7787 7789...  ...   \n",
       "6  [9841 9843] [9845 9847] [9848 9855] [9857 9873...  ...   \n",
       "8                                                NaN  ...   \n",
       "\n",
       "                                thorax_velocity_diff  \\\n",
       "0  [5.204177, 5.638649, 6.025957, 6.3595524, 6.62...   \n",
       "2  [1.6934882, 1.8060448, 1.9672217, 2.1501918, 2...   \n",
       "4  [0.8160417, 0.91568893, 0.9271823, 0.847901, 0...   \n",
       "6  [2.537473, 2.1064932, 1.839493, 1.7586157, 1.8...   \n",
       "8  [1.6548661, 1.680543, 1.7248147, 1.5096384, 1....   \n",
       "\n",
       "                             nose_to_reward_port_sum  \\\n",
       "0  [28.87265, 29.270014, 29.702528, 30.21946, 30....   \n",
       "2  [28.312052, 28.358694, 28.356104, 28.259315, 2...   \n",
       "4  [27.371693, 27.39242, 27.502598, 27.617168, 27...   \n",
       "6  [9.769536, 9.859206, 9.923873, 9.933508, 9.946...   \n",
       "8  [42.690056, 42.18014, 41.56746, 40.921604, 40....   \n",
       "\n",
       "                            nose_to_reward_port_diff  \\\n",
       "0  [23.863668, 23.484873, 23.049864, 22.548027, 2...   \n",
       "2  [21.129335, 21.155933, 21.14188, 21.017073, 20...   \n",
       "4  [21.320568, 21.339718, 21.300724, 21.258976, 2...   \n",
       "6  [8.063072, 8.0878725, 8.149344, 8.268497, 8.28...   \n",
       "8  [8.380694, 8.937588, 9.434923, 9.973564, 10.58...   \n",
       "\n",
       "                            to_reward_port_angle_sum  \\\n",
       "0  [1.9057206, 1.908443, 1.9182285, 1.9172035, 1....   \n",
       "2  [3.243607, 3.250121, 3.2582936, 3.301247, 3.36...   \n",
       "4  [5.495078, 5.4917383, 5.4926953, 5.49627, 5.50...   \n",
       "6  [3.2674677, 3.3664355, 3.4668796, 3.4924338, 3...   \n",
       "8  [3.372634, 3.473981, 3.5859168, 3.7084124, 3.8...   \n",
       "\n",
       "                           to_reward_port_angle_diff  \\\n",
       "0  [1.4949569, 1.4890778, 1.480854, 1.4798024, 1....   \n",
       "2  [0.72459877, 0.7327968, 0.71425956, 0.6953894,...   \n",
       "4  [0.097500816, 0.09425953, 0.09011891, 0.081848...   \n",
       "6  [2.5384104, 2.4888833, 2.4414885, 2.4634583, 2...   \n",
       "8  [1.5646127, 1.4686148, 1.3649975, 1.2642831, 1...   \n",
       "\n",
       "                                    nose_to_tail_sum  \\\n",
       "0  [41.21198, 40.833298, 39.61922, 38.29321, 37.8...   \n",
       "2  [41.21198, 40.833298, 39.61922, 38.29321, 37.8...   \n",
       "4  [41.21198, 40.833298, 39.61922, 38.29321, 37.8...   \n",
       "6  [41.21198, 40.833298, 39.61922, 38.29321, 37.8...   \n",
       "8  [41.21198, 40.833298, 39.61922, 38.29321, 37.8...   \n",
       "\n",
       "                                   nose_to_tail_diff  \\\n",
       "0  [18.818794, 17.641945, 17.306507, 17.677742, 1...   \n",
       "2  [18.818794, 17.641945, 17.306507, 17.677742, 1...   \n",
       "4  [18.818794, 17.641945, 17.306507, 17.677742, 1...   \n",
       "6  [18.818794, 17.641945, 17.306507, 17.677742, 1...   \n",
       "8  [18.818794, 17.641945, 17.306507, 17.677742, 1...   \n",
       "\n",
       "                            speed_to_reward_port_sum  \\\n",
       "0  [-0.6620789, -0.72241586, -0.7677237, -0.79800...   \n",
       "2  [-0.6620789, -0.72241586, -0.7677237, -0.79800...   \n",
       "4  [-0.6620789, -0.72241586, -0.7677237, -0.79800...   \n",
       "6  [-0.6620789, -0.72241586, -0.7677237, -0.79800...   \n",
       "8  [-0.6620789, -0.72241586, -0.7677237, -0.79800...   \n",
       "\n",
       "                           speed_to_reward_port_diff  \\\n",
       "0  [2.398821, 2.1745362, 1.9614562, 1.7595806, 1....   \n",
       "2  [2.398821, 2.1745362, 1.9614562, 1.7595806, 1....   \n",
       "4  [2.398821, 2.1745362, 1.9614562, 1.7595806, 1....   \n",
       "6  [2.398821, 2.1745362, 1.9614562, 1.7595806, 1....   \n",
       "8  [2.398821, 2.1745362, 1.9614562, 1.7595806, 1....   \n",
       "\n",
       "                            within_trial_frame_index  \n",
       "0  [0, 1, 2, 3, 4, 5, 6, 7, 8, 9, 10, 11, 12, 13,...  \n",
       "2  [0, 1, 2, 3, 4, 5, 6, 7, 8, 9, 10, 11, 12, 13,...  \n",
       "4  [0, 1, 2, 3, 4, 5, 6, 7, 8, 9, 10, 11, 12, 13,...  \n",
       "6  [0, 1, 2, 3, 4, 5, 6, 7, 8, 9, 10, 11, 12, 13,...  \n",
       "8  [0, 1, 2, 3, 4, 5, 6, 7, 8, 9, 10, 11, 12, 13,...  \n",
       "\n",
       "[5 rows x 78 columns]"
      ]
     },
     "execution_count": 214,
     "metadata": {},
     "output_type": "execute_result"
    }
   ],
   "source": [
    "drop_duplicates_trial_labels_df.head()"
   ]
  },
  {
   "cell_type": "markdown",
   "metadata": {},
   "source": [
    "- Exploding each row so that each new row becomes 1 frame"
   ]
  },
  {
   "cell_type": "code",
   "execution_count": 215,
   "metadata": {},
   "outputs": [
    {
     "data": {
      "text/plain": [
       "Index(['session_dir', 'tone_start_frame', 'tone_stop_frame', 'condition ',\n",
       "       'competition_closeness', 'get_reward_frame', 'out_reward_frame',\n",
       "       'notes', 'experiment', 'box_1_port_entry_frames',\n",
       "       'box_2_port_entry_frames', 'video_name', 'all_subjects',\n",
       "       'first_timestamp', 'last_timestamp', 'tone_start_timestamp',\n",
       "       'tone_stop_timestamp', 'box_1_port_entry_timestamps',\n",
       "       'box_2_port_entry_timestamps', 'reward_start', 'reward_dispensed',\n",
       "       'reward_start_frame', 'minutes', 'seconds', '10s_before_tone_frame',\n",
       "       '10s_after_tone_frame', 'tone_start_to_stop_frame', 'start_frame',\n",
       "       'stop_frame', 'tracked_subject', 'in_video_subjects', 'box_number',\n",
       "       'sleap_name', 'current_subject', 'body_parts', 'box_top_left',\n",
       "       'box_top_right', 'reward_port', 'box_bottom_left', 'box_bottom_right',\n",
       "       'agent', 'subject_locations', 'agent_locations', 'frame_index',\n",
       "       'subject_thorax', 'subject_nose', 'subject_tail_base', 'agent_thorax',\n",
       "       'agent_nose', 'agent_tail_base', 'subject_thorax_velocity',\n",
       "       'agent_thorax_velocity', 'subject_thorax_to_agent_thorax',\n",
       "       'subject_nose_to_agent_tail_base', 'subject_tail_base_to_agent_nose',\n",
       "       'subject_nose_to_reward_port', 'agent_nose_to_reward_port',\n",
       "       'subject_x_nose_to_reward_port', 'subject_y_nose_to_reward_port',\n",
       "       'agent_x_nose_to_reward_port', 'agent_y_nose_to_reward_port',\n",
       "       'subject_speed_to_reward_port', 'agent_speed_to_reward_port',\n",
       "       'subject_to_agent_speed', 'subject_to_reward_port_angle',\n",
       "       'agent_to_reward_port_angle', 'subject_to_agent_orientation',\n",
       "       'thorax_velocity_sum', 'thorax_velocity_diff',\n",
       "       'nose_to_reward_port_sum', 'nose_to_reward_port_diff',\n",
       "       'to_reward_port_angle_sum', 'to_reward_port_angle_diff',\n",
       "       'nose_to_tail_sum', 'nose_to_tail_diff', 'speed_to_reward_port_sum',\n",
       "       'speed_to_reward_port_diff', 'within_trial_frame_index'],\n",
       "      dtype='object')"
      ]
     },
     "execution_count": 215,
     "metadata": {},
     "output_type": "execute_result"
    }
   ],
   "source": [
    "drop_duplicates_trial_labels_df.columns"
   ]
  },
  {
   "cell_type": "code",
   "execution_count": 216,
   "metadata": {
    "tags": []
   },
   "outputs": [
    {
     "data": {
      "text/plain": [
       "['subject_thorax_to_agent_thorax',\n",
       " 'nose_to_reward_port_sum',\n",
       " 'nose_to_reward_port_diff',\n",
       " 'thorax_velocity_sum',\n",
       " 'thorax_velocity_diff',\n",
       " 'to_reward_port_angle_sum',\n",
       " 'to_reward_port_angle_diff',\n",
       " 'subject_nose_to_reward_port',\n",
       " 'subject_thorax_velocity',\n",
       " 'subject_to_reward_port_angle',\n",
       " 'agent_nose_to_reward_port',\n",
       " 'agent_thorax_velocity',\n",
       " 'agent_to_reward_port_angle']"
      ]
     },
     "execution_count": 216,
     "metadata": {},
     "output_type": "execute_result"
    }
   ],
   "source": [
    "features_columns"
   ]
  },
  {
   "cell_type": "code",
   "execution_count": 217,
   "metadata": {
    "tags": []
   },
   "outputs": [
    {
     "data": {
      "text/plain": [
       "['subject_locations',\n",
       " 'agent_locations',\n",
       " 'subject_thorax',\n",
       " 'subject_nose',\n",
       " 'subject_tail_base',\n",
       " 'agent_thorax',\n",
       " 'agent_nose',\n",
       " 'agent_tail_base']"
      ]
     },
     "execution_count": 217,
     "metadata": {},
     "output_type": "execute_result"
    }
   ],
   "source": [
    "sleap_columns"
   ]
  },
  {
   "cell_type": "code",
   "execution_count": 218,
   "metadata": {
    "tags": []
   },
   "outputs": [],
   "source": [
    "metadata_columns = ['session_dir', 'tone_start_frame', 'tone_stop_frame', 'condition ',\n",
    "       'competition_closeness', 'get_reward_frame', 'out_reward_frame',\n",
    "       'notes', 'experiment', 'video_name', 'all_subjects',\n",
    "       'first_timestamp', 'last_timestamp', 'tone_start_timestamp',\n",
    "       'tone_stop_timestamp', \n",
    "       '10s_before_tone_frame',\n",
    "       '10s_after_tone_frame', 'tone_start_to_stop_frame', 'start_frame',\n",
    "       'stop_frame', 'tracked_subject', 'in_video_subjects', 'box_number',\n",
    "       'sleap_name', 'current_subject', 'body_parts', 'box_top_left',\n",
    "       'box_top_right', 'reward_port', 'box_bottom_left', 'box_bottom_right',\n",
    "       'agent', 'frame_index']"
   ]
  },
  {
   "cell_type": "code",
   "execution_count": 219,
   "metadata": {
    "tags": []
   },
   "outputs": [],
   "source": [
    "# for num in range(len(merged_trial_labels_df)):\n",
    "#     all_col_shapes = []\n",
    "#     for col in features_columns + sleap_columns + [\"within_trial_frame_index\", \"frame_index\"]:\n",
    "#         all_col_shapes.append(merged_trial_labels_df[col].iloc[num].shape[0])\n",
    "#         if len(set(all_col_shapes)) >= 2:\n",
    "#             print(col)\n",
    "#             print(merged_trial_labels_df[col].iloc[num].shape[0])"
   ]
  },
  {
   "cell_type": "code",
   "execution_count": 220,
   "metadata": {},
   "outputs": [],
   "source": [
    "merged_exploded_columns = merged_trial_labels_df[metadata_columns + features_columns + sleap_columns + [\"within_trial_frame_index\"]].explode(features_columns + sleap_columns + [\"within_trial_frame_index\", \"frame_index\"]).reset_index(drop=True)\n"
   ]
  },
  {
   "cell_type": "code",
   "execution_count": 221,
   "metadata": {},
   "outputs": [],
   "source": [
    "drop_duplicates_exploded_columns = drop_duplicates_trial_labels_df[metadata_columns + features_columns + sleap_columns + [\"within_trial_frame_index\"]].explode(features_columns + sleap_columns + [\"within_trial_frame_index\", \"frame_index\"]).reset_index(drop=True)\n"
   ]
  },
  {
   "cell_type": "code",
   "execution_count": 222,
   "metadata": {
    "tags": []
   },
   "outputs": [
    {
     "data": {
      "text/plain": [
       "0           0\n",
       "1           1\n",
       "2           2\n",
       "3           3\n",
       "4           4\n",
       "         ... \n",
       "727383    594\n",
       "727384    595\n",
       "727385    596\n",
       "727386    597\n",
       "727387    598\n",
       "Name: within_trial_frame_index, Length: 727388, dtype: object"
      ]
     },
     "execution_count": 222,
     "metadata": {},
     "output_type": "execute_result"
    }
   ],
   "source": [
    "merged_exploded_columns[\"within_trial_frame_index\"]"
   ]
  },
  {
   "cell_type": "code",
   "execution_count": 223,
   "metadata": {
    "tags": []
   },
   "outputs": [
    {
     "data": {
      "text/plain": [
       "0          1537\n",
       "1          1538\n",
       "2          1539\n",
       "3          1540\n",
       "4          1541\n",
       "          ...  \n",
       "727383    68839\n",
       "727384    68840\n",
       "727385    68841\n",
       "727386    68842\n",
       "727387    68843\n",
       "Name: frame_index, Length: 727388, dtype: object"
      ]
     },
     "execution_count": 223,
     "metadata": {},
     "output_type": "execute_result"
    }
   ],
   "source": [
    "merged_exploded_columns[\"frame_index\"]"
   ]
  },
  {
   "cell_type": "markdown",
   "metadata": {},
   "source": [
    "# Manually Creating clusters"
   ]
  },
  {
   "cell_type": "code",
   "execution_count": 224,
   "metadata": {},
   "outputs": [
    {
     "data": {
      "text/plain": [
       "['subject_thorax_to_agent_thorax',\n",
       " 'nose_to_reward_port_sum',\n",
       " 'nose_to_reward_port_diff',\n",
       " 'thorax_velocity_sum',\n",
       " 'thorax_velocity_diff',\n",
       " 'to_reward_port_angle_sum',\n",
       " 'to_reward_port_angle_diff',\n",
       " 'subject_nose_to_reward_port',\n",
       " 'subject_thorax_velocity',\n",
       " 'subject_to_reward_port_angle',\n",
       " 'agent_nose_to_reward_port',\n",
       " 'agent_thorax_velocity',\n",
       " 'agent_to_reward_port_angle']"
      ]
     },
     "execution_count": 224,
     "metadata": {},
     "output_type": "execute_result"
    }
   ],
   "source": [
    "features_columns"
   ]
  },
  {
   "cell_type": "code",
   "execution_count": 225,
   "metadata": {},
   "outputs": [],
   "source": [
    "clustering_features = ['closebool_subject_nose_to_reward_port', 'closebool_agent_nose_to_reward_port']#, 'movingbool_subject_thorax_velocity', 'movingbool_agent_thorax_velocity']"
   ]
  },
  {
   "cell_type": "code",
   "execution_count": 226,
   "metadata": {},
   "outputs": [],
   "source": [
    "# merged_exploded_columns[\"bool_subject_thorax_to_agent_thorax\"] = merged_exploded_columns[\"subject_thorax_to_agent_thorax\"] <= 10\n",
    "merged_exploded_columns[\"closebool_subject_nose_to_reward_port\"] = merged_exploded_columns[\"subject_nose_to_reward_port\"] <= 10\n",
    "merged_exploded_columns[\"closebool_agent_nose_to_reward_port\"] = merged_exploded_columns[\"agent_nose_to_reward_port\"] <= 10\n",
    "merged_exploded_columns[\"movingbool_subject_thorax_velocity\"] = merged_exploded_columns[\"subject_thorax_velocity\"] >= 0.5\n",
    "merged_exploded_columns[\"movingbool_agent_thorax_velocity\"] = merged_exploded_columns[\"agent_thorax_velocity\"] >= 0.5\n"
   ]
  },
  {
   "cell_type": "code",
   "execution_count": null,
   "metadata": {},
   "outputs": [],
   "source": [
    "merged_exploded_columns['manual_cluster_id'] = merged_exploded_columns[clustering_features].apply(bools_to_int, axis=1)"
   ]
  },
  {
   "cell_type": "code",
   "execution_count": null,
   "metadata": {},
   "outputs": [],
   "source": [
    "merged_exploded_columns['manual_cluster_id'].unique()"
   ]
  },
  {
   "cell_type": "code",
   "execution_count": null,
   "metadata": {},
   "outputs": [],
   "source": [
    "for current_cluster in merged_exploded_columns['manual_cluster_id'].unique():\n",
    "    cluster_df = merged_exploded_columns[merged_exploded_columns[\"manual_cluster_id\"] == current_cluster]\n",
    "    print(\"Cluster: {}\".format(current_cluster))\n",
    "    print(cluster_df[clustering_features].iloc[0])"
   ]
  },
  {
   "cell_type": "code",
   "execution_count": null,
   "metadata": {},
   "outputs": [],
   "source": [
    "# for vid in merged_exploded_columns[\"video_name\"].unique():\n",
    "#     video_df = merged_exploded_columns[merged_exploded_columns[\"video_name\"] == vid]\n",
    "\n",
    "#     for cluster in video_df[\"manual_cluster_id\"].unique():\n",
    "#         cluster_df = video_df[video_df[\"manual_cluster_id\"] == cluster]\n",
    "    \n",
    "#         video_name = \"{}.fixed.mp4\".format(vid)\n",
    "#         video_path = os.path.join(\"/blue/npadillacoreano/ryoi360/projects/reward_comp/data/reencoded_videos\", video_name)\n",
    "#         # video_path = os.path.join(\"/scratch/back_up/reward_competition_extention/in_progress/rce3/sleap_id_correction/to_be_checked\", video_name)\n",
    "        \n",
    "#         frame_numbers = cluster_df[\"frame_index\"].sample(n=10, random_state=1).sort_values().to_list()\n",
    "#         Path(\"./proc/manual_clusters/{}/{}\".format(cluster, video_name)).mkdir(parents=True, exist_ok=True)\n",
    "#         frames_path = extract_frames(video_path, frame_numbers, \"./proc/manual_clusters/{}/{}\".format(cluster, video_name), max_width=640)"
   ]
  },
  {
   "cell_type": "code",
   "execution_count": null,
   "metadata": {},
   "outputs": [],
   "source": [
    "# for cluster_dir in glob.glob(\"/nancy/user/riwata/projects/reward_comp_ext/results/2024_06_26_sleap_clustering/proc/manual_clusters/*\"):\n",
    "#     print(cluster_dir)\n",
    "#     cluster = cluster_dir.split(\"/\")[-1]\n",
    "#     frame_glob = os.path.join(cluster_dir, \"*/*.png\")\n",
    "#     frame_paths = sorted(glob.glob(frame_glob))\n",
    "#     make_video(frame_paths=frame_paths, output_folder=cluster_dir, video_name=\"manual_cluster_{}.avi\".format(cluster))\n",
    "\n",
    "\n",
    "\n",
    "\n"
   ]
  },
  {
   "cell_type": "markdown",
   "metadata": {},
   "source": [
    "## Standard Scaling the features"
   ]
  },
  {
   "cell_type": "code",
   "execution_count": null,
   "metadata": {},
   "outputs": [],
   "source": [
    "features_columns"
   ]
  },
  {
   "cell_type": "code",
   "execution_count": null,
   "metadata": {},
   "outputs": [],
   "source": [
    "# features_columns = ['subject_thorax_to_agent_thorax',\n",
    "#  'nose_to_reward_port_sum',\n",
    "#  'nose_to_reward_port_diff',\n",
    "#  'thorax_velocity_sum',\n",
    "#  'thorax_velocity_diff',\n",
    "#  'to_reward_port_angle_sum',\n",
    "#  'to_reward_port_angle_diff']\n",
    "\n",
    "features_columns = ['subject_thorax_to_agent_thorax',\n",
    " 'nose_to_reward_port_sum',\n",
    " 'nose_to_reward_port_diff',\n",
    " 'thorax_velocity_sum',\n",
    " 'thorax_velocity_diff']"
   ]
  },
  {
   "cell_type": "code",
   "execution_count": null,
   "metadata": {},
   "outputs": [],
   "source": [
    "frame_data = drop_duplicates_exploded_columns[features_columns].values.astype(np.float32)"
   ]
  },
  {
   "cell_type": "code",
   "execution_count": null,
   "metadata": {
    "tags": []
   },
   "outputs": [],
   "source": [
    "for col in features_columns:\n",
    "    fig, ax = plt.subplots()\n",
    "    plt.title(col)\n",
    "    plt.plot(frame_data[:1000, features_columns.index(col)])\n",
    "    plt.show()"
   ]
  },
  {
   "cell_type": "code",
   "execution_count": null,
   "metadata": {
    "tags": []
   },
   "outputs": [],
   "source": [
    "decay_factor = 0.1"
   ]
  },
  {
   "cell_type": "code",
   "execution_count": null,
   "metadata": {
    "scrolled": true,
    "tags": []
   },
   "outputs": [],
   "source": [
    "for col in important_features_columns:\n",
    "    if col not in features_columns:\n",
    "        continue\n",
    "    fig, ax = plt.subplots()\n",
    "    plt.title(col)\n",
    "    plt.plot(frame_data[:1000, features_columns.index(col)])\n",
    "    plt.show()\n",
    "    # frame_data[:, features_columns.index(col)] = np.log(frame_data[:, features_columns.index(col)].astype(float))\n",
    "    # frame_data[:, features_columns.index(col)] = np.log(frame_data[:, features_columns.index(col)].astype(float) + 5e-1)\n",
    "    # frame_data[:, features_columns.index(col)] = np.log1p(1/frame_data[:, features_columns.index(col)])\n",
    "\n",
    "    # frame_data[:, features_columns.index(col)] = 1 / (frame_data[:, features_columns.index(col)] ** scaler)\n",
    "    frame_data[:, features_columns.index(col)] = np.log1p(frame_data[:, features_columns.index(col)] + np.abs(frame_data[:, features_columns.index(col)].min() * 1.01))\n",
    "\n",
    "    fig, ax = plt.subplots()\n",
    "    plt.title(col)\n",
    "    plt.plot(frame_data[:1000, features_columns.index(col)])\n",
    "    plt.show()"
   ]
  },
  {
   "cell_type": "code",
   "execution_count": null,
   "metadata": {},
   "outputs": [],
   "source": [
    "scaled_frame_data = StandardScaler().fit_transform(frame_data)"
   ]
  },
  {
   "cell_type": "code",
   "execution_count": null,
   "metadata": {},
   "outputs": [],
   "source": []
  },
  {
   "cell_type": "markdown",
   "metadata": {},
   "source": [
    "# Projecting to lower dimensional space"
   ]
  },
  {
   "cell_type": "code",
   "execution_count": null,
   "metadata": {},
   "outputs": [],
   "source": [
    "standard_embedding = umap.UMAP(random_state=42).fit_transform(scaled_frame_data)"
   ]
  },
  {
   "cell_type": "code",
   "execution_count": null,
   "metadata": {
    "tags": []
   },
   "outputs": [],
   "source": [
    "drop_duplicates_exploded_columns[\"standard_embedding_x\"] = standard_embedding[:,0]\n",
    "drop_duplicates_exploded_columns[\"standard_embedding_y\"] = standard_embedding[:,1]"
   ]
  },
  {
   "cell_type": "code",
   "execution_count": null,
   "metadata": {
    "tags": []
   },
   "outputs": [],
   "source": [
    "standard_embedding"
   ]
  },
  {
   "cell_type": "code",
   "execution_count": null,
   "metadata": {},
   "outputs": [],
   "source": [
    "clusterable_embedding = umap.UMAP(\n",
    "    n_neighbors=100,\n",
    "    min_dist=0,\n",
    "    n_components=2,\n",
    "    random_state=42,\n",
    ").fit_transform(scaled_frame_data)\n"
   ]
  },
  {
   "cell_type": "code",
   "execution_count": null,
   "metadata": {
    "tags": []
   },
   "outputs": [],
   "source": [
    "drop_duplicates_exploded_columns[\"clusterable_embedding_x\"] = clusterable_embedding[:,0]\n",
    "drop_duplicates_exploded_columns[\"clusterable_embedding_y\"] = clusterable_embedding[:,1]"
   ]
  },
  {
   "cell_type": "markdown",
   "metadata": {},
   "source": [
    "# Clustering"
   ]
  },
  {
   "cell_type": "code",
   "execution_count": null,
   "metadata": {},
   "outputs": [],
   "source": [
    "# kmeans_label_zscore = cluster.KMeans(n_clusters=5, random_state=42).fit_predict(clusterable_embedding)"
   ]
  },
  {
   "cell_type": "code",
   "execution_count": null,
   "metadata": {},
   "outputs": [],
   "source": [
    "scaled_frame_data"
   ]
  },
  {
   "cell_type": "code",
   "execution_count": null,
   "metadata": {},
   "outputs": [],
   "source": [
    "kmeans_label_zscore = sklearn.cluster.KMeans(n_clusters=8, random_state=42).fit_predict(clusterable_embedding)"
   ]
  },
  {
   "cell_type": "code",
   "execution_count": null,
   "metadata": {
    "tags": []
   },
   "outputs": [],
   "source": [
    "# kmeans_label_zscore = sklearn.cluster.KMeans(n_clusters=8, random_state=42).fit_predict(scaled_frame_data)"
   ]
  },
  {
   "cell_type": "code",
   "execution_count": null,
   "metadata": {},
   "outputs": [],
   "source": [
    "# kmeans_label_zscore = cluster.KMeans(n_clusters=8, random_state=42).fit_predict(clusterable_embedding)"
   ]
  },
  {
   "cell_type": "code",
   "execution_count": null,
   "metadata": {},
   "outputs": [],
   "source": [
    "# clusterable_embedding.shape[0]//10"
   ]
  },
  {
   "cell_type": "code",
   "execution_count": null,
   "metadata": {},
   "outputs": [],
   "source": [
    "# kmeans_label_zscore = hdbscan.HDBSCAN(\n",
    "#     min_samples=1,\n",
    "#     min_cluster_size=clusterable_embedding.shape[0]//50,\n",
    "# ).fit_predict(clusterable_embedding)"
   ]
  },
  {
   "cell_type": "code",
   "execution_count": null,
   "metadata": {},
   "outputs": [],
   "source": [
    "drop_duplicates_exploded_columns[\"kmeans_cluster\"] = kmeans_label_zscore"
   ]
  },
  {
   "cell_type": "code",
   "execution_count": null,
   "metadata": {},
   "outputs": [],
   "source": [
    "drop_duplicates_exploded_columns[\"video_name\"].unique()"
   ]
  },
  {
   "cell_type": "code",
   "execution_count": null,
   "metadata": {},
   "outputs": [],
   "source": [
    "drop_duplicates_exploded_columns[\"video_id\"], unique = pd.factorize(drop_duplicates_exploded_columns['video_name'])\n"
   ]
  },
  {
   "cell_type": "code",
   "execution_count": null,
   "metadata": {},
   "outputs": [],
   "source": [
    "drop_duplicates_exploded_columns.to_pickle(\"./proc/exploded_columns.pkl\")"
   ]
  },
  {
   "cell_type": "code",
   "execution_count": null,
   "metadata": {
    "tags": []
   },
   "outputs": [],
   "source": [
    "drop_duplicates_exploded_columns = pd.read_pickle(\"./proc/exploded_columns.pkl\")"
   ]
  },
  {
   "cell_type": "code",
   "execution_count": null,
   "metadata": {
    "tags": []
   },
   "outputs": [],
   "source": [
    "drop_duplicates_exploded_columns.columns"
   ]
  },
  {
   "cell_type": "code",
   "execution_count": null,
   "metadata": {},
   "outputs": [],
   "source": [
    "raise ValueError()"
   ]
  },
  {
   "cell_type": "markdown",
   "metadata": {
    "tags": []
   },
   "source": [
    "# Other things"
   ]
  },
  {
   "cell_type": "code",
   "execution_count": null,
   "metadata": {},
   "outputs": [],
   "source": [
    "'frame_index', \n"
   ]
  },
  {
   "cell_type": "code",
   "execution_count": null,
   "metadata": {
    "tags": []
   },
   "outputs": [],
   "source": [
    "exploded_columns = exploded_columns.dropna(subset=[\"competition_closeness\"])"
   ]
  },
  {
   "cell_type": "code",
   "execution_count": null,
   "metadata": {
    "tags": []
   },
   "outputs": [],
   "source": [
    "# Define columns to be transformed into numpy arrays\n",
    "array_columns = ['tone_frame', 'tone_start_frame',\n",
    "       'reward_start', 'reward_dispensed', 'tone_stop_frame', 'condition ',\n",
    "       'competition_closeness', 'notes', '10s_before_tone_frame',\n",
    "       '10s_after_tone_frame', 'subject_thorax_to_agent_thorax',\n",
    "       'nose_to_reward_port_sum', 'nose_to_reward_port_diff',\n",
    "       'thorax_velocity_sum', 'thorax_velocity_diff',\n",
    "       'to_reward_port_angle_sum', 'to_reward_port_angle_diff',\n",
    "       'subject_nose_to_reward_port', 'subject_thorax_velocity',\n",
    "       'subject_to_reward_port_angle', 'agent_nose_to_reward_port',\n",
    "       'agent_thorax_velocity', 'agent_to_reward_port_angle', 'current_frame',\n",
    "       'closebool_subject_nose_to_reward_port',\n",
    "       'closebool_agent_nose_to_reward_port',\n",
    "       'movingbool_subject_thorax_velocity',\n",
    "       'movingbool_agent_thorax_velocity', 'manual_cluster_id',\n",
    "       'standard_embedding_x', 'standard_embedding_y',\n",
    "       'kmeans_cluster',] #'clusterable_embedding_x', 'clusterable_embedding_y', \n",
    "# Define columns to take the first value\n",
    "# first_value_columns = ['session_dir', 'experiment', 'sleap_name',\n",
    "#        'video_name', 'current_subject', 'video_id']\n",
    "\n",
    "first_value_columns = ['session_dir', 'experiment', 'sleap_name',\n",
    "      'video_id', \"agent\",  \"current_subject\"]\n",
    "\n",
    "# Define aggregation dictionary\n",
    "# agg_dict = {col: lambda x: np.array(x) for col in array_columns}\n",
    "agg_dict = {col: list for col in array_columns}\n",
    "\n",
    "agg_dict.update({col: 'first' for col in first_value_columns})\n",
    "\n",
    "# Apply groupby and aggregation\n",
    "grouped_exploded_columns = exploded_columns.groupby([\"video_name\"]).agg(agg_dict).reset_index()\n"
   ]
  },
  {
   "cell_type": "code",
   "execution_count": null,
   "metadata": {
    "tags": []
   },
   "outputs": [],
   "source": [
    "grouped_exploded_columns.head()"
   ]
  },
  {
   "cell_type": "code",
   "execution_count": null,
   "metadata": {
    "tags": []
   },
   "outputs": [],
   "source": [
    "grouped_exploded_columns[\"current_frame\"] = grouped_exploded_columns[\"current_frame\"].apply(lambda x: np.array(x).astype(int))"
   ]
  },
  {
   "cell_type": "code",
   "execution_count": null,
   "metadata": {
    "tags": []
   },
   "outputs": [],
   "source": [
    "for col in array_columns:\n",
    "    grouped_exploded_columns[col] = grouped_exploded_columns[col].apply(lambda x: np.array(x))\n"
   ]
  },
  {
   "cell_type": "code",
   "execution_count": null,
   "metadata": {
    "tags": []
   },
   "outputs": [],
   "source": [
    "grouped_exploded_columns.head()"
   ]
  },
  {
   "cell_type": "markdown",
   "metadata": {},
   "source": [
    "# TODO Add other stuff like agent location and body parts"
   ]
  },
  {
   "cell_type": "code",
   "execution_count": null,
   "metadata": {
    "tags": []
   },
   "outputs": [],
   "source": [
    "agent_grouped_exploded_columns = grouped_exploded_columns.copy()"
   ]
  },
  {
   "cell_type": "code",
   "execution_count": null,
   "metadata": {
    "tags": []
   },
   "outputs": [],
   "source": [
    "agent_grouped_exploded_columns[\"current_subject\"], agent_grouped_exploded_columns[\"agent\"] =  grouped_exploded_columns[\"agent\"], grouped_exploded_columns[\"current_subject\"]  "
   ]
  },
  {
   "cell_type": "code",
   "execution_count": null,
   "metadata": {
    "tags": []
   },
   "outputs": [],
   "source": [
    "agent_grouped_exploded_columns[\"subject_nose_to_reward_port\"], agent_grouped_exploded_columns[\"agent_nose_to_reward_port\"] =  agent_grouped_exploded_columns[\"agent_nose_to_reward_port\"], agent_grouped_exploded_columns[\"subject_nose_to_reward_port\"]  \n",
    "agent_grouped_exploded_columns[\"subject_to_reward_port_angle\"], agent_grouped_exploded_columns[\"agent_to_reward_port_angle\"] =  agent_grouped_exploded_columns[\"agent_to_reward_port_angle\"], agent_grouped_exploded_columns[\"subject_to_reward_port_angle\"]  \n",
    "agent_grouped_exploded_columns[\"closebool_subject_nose_to_reward_port\"], agent_grouped_exploded_columns[\"closebool_agent_nose_to_reward_port\"] =  agent_grouped_exploded_columns[\"closebool_agent_nose_to_reward_port\"], agent_grouped_exploded_columns[\"closebool_subject_nose_to_reward_port\"]  \n",
    "agent_grouped_exploded_columns[\"movingbool_subject_thorax_velocity\"], agent_grouped_exploded_columns[\"movingbool_agent_thorax_velocity\"] =  agent_grouped_exploded_columns[\"movingbool_agent_thorax_velocity\"], agent_grouped_exploded_columns[\"movingbool_subject_thorax_velocity\"]  \n",
    "\n",
    "\n",
    "\n",
    "\n"
   ]
  },
  {
   "cell_type": "code",
   "execution_count": null,
   "metadata": {
    "tags": []
   },
   "outputs": [],
   "source": [
    "grouped_exploded_columns = pd.concat([grouped_exploded_columns, agent_grouped_exploded_columns]).sort_values([\"video_name\"])"
   ]
  },
  {
   "cell_type": "code",
   "execution_count": null,
   "metadata": {
    "tags": []
   },
   "outputs": [],
   "source": [
    "agent_grouped_exploded_columns"
   ]
  },
  {
   "cell_type": "code",
   "execution_count": null,
   "metadata": {
    "tags": []
   },
   "outputs": [],
   "source": [
    "grouped_exploded_columns.head()"
   ]
  },
  {
   "cell_type": "code",
   "execution_count": null,
   "metadata": {
    "tags": []
   },
   "outputs": [],
   "source": [
    "grouped_exploded_columns.to_pickle(\"./proc/grouped_exploded_columns.pkl\")"
   ]
  },
  {
   "cell_type": "code",
   "execution_count": null,
   "metadata": {},
   "outputs": [],
   "source": [
    "plt.scatter(\n",
    "    exploded_columns[\"standard_embedding_x\"],\n",
    "    exploded_columns[\"standard_embedding_y\"],\n",
    "    s=0.1)\n",
    "plt.gca().set_aspect('equal', 'datalim')"
   ]
  },
  {
   "cell_type": "code",
   "execution_count": null,
   "metadata": {},
   "outputs": [],
   "source": [
    "umap_cluster = plt.scatter(\n",
    "    exploded_columns[\"standard_embedding_x\"],\n",
    "    exploded_columns[\"standard_embedding_y\"],\n",
    "    s=0.1,\n",
    "    c=exploded_columns[\"kmeans_cluster\"],\n",
    "    cmap='Spectral')\n",
    "plt.gca().set_aspect('equal', 'datalim')\n",
    "plt.legend(*umap_cluster.legend_elements())\n",
    "plt.title(\"K-means cluster IDs\")\n",
    "plt.savefig(\"./proc/kmeans_cluster_ids.png\")\n"
   ]
  },
  {
   "cell_type": "code",
   "execution_count": null,
   "metadata": {},
   "outputs": [],
   "source": [
    "exploded_columns"
   ]
  },
  {
   "cell_type": "code",
   "execution_count": null,
   "metadata": {
    "tags": []
   },
   "outputs": [],
   "source": [
    "exploded_columns[\"manual_cluster_id\"]"
   ]
  },
  {
   "cell_type": "code",
   "execution_count": null,
   "metadata": {},
   "outputs": [],
   "source": [
    "umap_cluster = plt.scatter(\n",
    "    exploded_columns[\"standard_embedding_x\"],\n",
    "    exploded_columns[\"standard_embedding_y\"],\n",
    "    s=0.1,\n",
    "    c=exploded_columns[\"manual_cluster_id\"],\n",
    "    cmap='Spectral')\n",
    "plt.gca().set_aspect('equal', 'datalim')\n",
    "plt.legend(*umap_cluster.legend_elements())\n",
    "plt.title(\"Distance filtering clusters\")\n",
    "plt.savefig(\"./proc/filtered_cluster_ids.png\")\n"
   ]
  },
  {
   "cell_type": "code",
   "execution_count": null,
   "metadata": {},
   "outputs": [],
   "source": [
    "umap_cluster = plt.scatter(\n",
    "    exploded_columns[\"standard_embedding_x\"],\n",
    "    exploded_columns[\"standard_embedding_y\"],\n",
    "    s=0.1,\n",
    "    c=exploded_columns[\"video_id\"],\n",
    "    cmap='Spectral')\n",
    "plt.gca().set_aspect('equal', 'datalim')\n",
    "plt.legend(*umap_cluster.legend_elements())\n",
    "plt.savefig(\"./proc/video_cluster_ids.png\")\n",
    "\n"
   ]
  },
  {
   "cell_type": "markdown",
   "metadata": {},
   "source": [
    "## Looking at metrics"
   ]
  },
  {
   "cell_type": "code",
   "execution_count": null,
   "metadata": {},
   "outputs": [],
   "source": [
    "import numpy as np\n",
    "import matplotlib.pyplot as plt\n",
    "from matplotlib import cm\n",
    "from matplotlib.colors import Normalize"
   ]
  },
  {
   "cell_type": "code",
   "execution_count": null,
   "metadata": {},
   "outputs": [],
   "source": [
    "cmap = cm.viridis  # Choose a colormap"
   ]
  },
  {
   "cell_type": "code",
   "execution_count": null,
   "metadata": {},
   "outputs": [],
   "source": [
    "features_columns"
   ]
  },
  {
   "cell_type": "code",
   "execution_count": null,
   "metadata": {},
   "outputs": [],
   "source": []
  },
  {
   "cell_type": "code",
   "execution_count": null,
   "metadata": {},
   "outputs": [],
   "source": [
    "for featured in features_columns:\n",
    "    if featured == \"frame_index\":\n",
    "        continue\n",
    "    print(featured)\n",
    "    fig, ax = plt.subplots()\n",
    "    norm = Normalize(vmin=np.min(exploded_columns[featured].astype(float)), vmax=np.max(exploded_columns[featured].astype(float)))  # Normalize to the data range\n",
    "    plt.scatter(\n",
    "        exploded_columns[\"standard_embedding_x\"],\n",
    "        exploded_columns[\"standard_embedding_y\"],\n",
    "        c=exploded_columns[featured].astype(float),\n",
    "        s=0.005, cmap = cmap, norm=norm)\n",
    "\n",
    "    plt.gca().set_aspect('equal', 'datalim')\n",
    "    plt.title(featured, fontsize= 16)\n",
    "    plt.colorbar(orientation=\"vertical\")\n",
    "    plt.savefig(\"./proc/{}_umap.png\".format(featured))\n",
    "    plt.show()"
   ]
  },
  {
   "cell_type": "markdown",
   "metadata": {},
   "source": [
    "# Looking at the clusters"
   ]
  },
  {
   "cell_type": "code",
   "execution_count": null,
   "metadata": {
    "tags": []
   },
   "outputs": [],
   "source": [
    "exploded_columns[\"manual_cluster_id\"]"
   ]
  },
  {
   "cell_type": "code",
   "execution_count": null,
   "metadata": {
    "tags": []
   },
   "outputs": [],
   "source": [
    "for vid in exploded_columns[\"video_name\"].unique():\n",
    "    print(vid)\n",
    "    video_df = exploded_columns[exploded_columns[\"video_name\"] == vid]\n",
    "    \n",
    "    for cluster in video_df[\"manual_cluster_id\"].unique():\n",
    "        print(cluster)\n",
    "      \n",
    "        cluster_df = video_df[video_df[\"manual_cluster_id\"] == cluster]\n",
    "\n",
    "        video_name = \"{}.fixed.mp4\".format(vid)\n",
    "        video_path = os.path.join(\"/blue/npadillacoreano/ryoi360/projects/reward_comp/data/reencoded_videos\", video_name)\n",
    "        # video_path = os.path.join(\"/scratch/back_up/reward_competition_extention/in_progress/rce3/sleap_id_correction/to_be_checked\", video_name)\n",
    "        if len(cluster_df[\"current_frame\"]) >= 100:\n",
    "            frame_numbers = cluster_df[\"current_frame\"].sample(n=100, random_state=1).astype(int).sort_values().to_list()\n",
    "        elif len(cluster_df[\"current_frame\"]) == 0:\n",
    "            continue\n",
    "        else:\n",
    "            frame_numbers = cluster_df[\"current_frame\"].sample(n=len(cluster_df[\"current_frame\"]), random_state=1).astype(int).sort_values().to_list()\n",
    "            \n",
    "        Path(\"./proc/manual_clusters/{}/{}\".format(cluster, video_name)).mkdir(parents=True, exist_ok=True)\n",
    "        frames_path = extract_frames(video_path, frame_numbers, \"./proc/manual_clusters/{}/{}\".format(cluster, video_name), max_width=640)\n",
    "   "
   ]
  },
  {
   "cell_type": "code",
   "execution_count": null,
   "metadata": {
    "tags": []
   },
   "outputs": [],
   "source": [
    "# for cluster_dir in glob.glob(\"/nancy/user/riwata/projects/reward_comp_ext/results/2024_06_26_sleap_clustering/proc/kmeans/*\"):\n",
    "for cluster_dir in glob.glob(\"/blue/npadillacoreano/ryoi360/projects/reward_comp/repos/reward_comp_ext/results/2024_06_26_sleap_clustering/proc/manual_clusters/*\"):\n",
    "    print(cluster_dir)\n",
    "    cluster = cluster_dir.split(\"/\")[-1]\n",
    "    frame_glob = os.path.join(cluster_dir, \"*/*.png\")\n",
    "    frame_paths = sorted(glob.glob(frame_glob))\n",
    "    make_video(frame_paths=frame_paths, output_folder=cluster_dir, video_name=\"manual_cluster_{}.avi\".format(cluster))\n",
    "\n",
    "\n",
    "\n",
    "\n"
   ]
  },
  {
   "cell_type": "code",
   "execution_count": null,
   "metadata": {
    "tags": []
   },
   "outputs": [],
   "source": [
    "for vid in exploded_columns[\"video_name\"].unique():\n",
    "    print(vid)\n",
    "    video_df = exploded_columns[exploded_columns[\"video_name\"] == vid]\n",
    "    \n",
    "    for cluster in video_df[\"kmeans_cluster\"].unique():\n",
    "        print(cluster)\n",
    "      \n",
    "        cluster_df = video_df[video_df[\"kmeans_cluster\"] == cluster]\n",
    "\n",
    "        video_name = \"{}.fixed.mp4\".format(vid)\n",
    "        video_path = os.path.join(\"/blue/npadillacoreano/ryoi360/projects/reward_comp/data/reencoded_videos\", video_name)\n",
    "        # video_path = os.path.join(\"/scratch/back_up/reward_competition_extention/in_progress/rce3/sleap_id_correction/to_be_checked\", video_name)\n",
    "        if len(cluster_df[\"current_frame\"]) >= 100:\n",
    "            frame_numbers = cluster_df[\"current_frame\"].sample(n=100, random_state=1).astype(int).sort_values().to_list()\n",
    "        elif len(cluster_df[\"current_frame\"]) == 0:\n",
    "            continue\n",
    "        else:\n",
    "            frame_numbers = cluster_df[\"current_frame\"].sample(n=len(cluster_df[\"current_frame\"]), random_state=1).astype(int).sort_values().to_list()\n",
    "            \n",
    "        Path(\"./proc/kmeans/{}/{}\".format(cluster, video_name)).mkdir(parents=True, exist_ok=True)\n",
    "        frames_path = extract_frames(video_path, frame_numbers, \"./proc/kmeans/{}/{}\".format(cluster, video_name), max_width=640)\n",
    "   "
   ]
  },
  {
   "cell_type": "code",
   "execution_count": null,
   "metadata": {},
   "outputs": [],
   "source": [
    "# for cluster_dir in glob.glob(\"/nancy/user/riwata/projects/reward_comp_ext/results/2024_06_26_sleap_clustering/proc/kmeans/*\"):\n",
    "for cluster_dir in glob.glob(\"/blue/npadillacoreano/ryoi360/projects/reward_comp/repos/reward_comp_ext/results/2024_06_26_sleap_clustering/proc/kmeans/*\"):\n",
    "    print(cluster_dir)\n",
    "    cluster = cluster_dir.split(\"/\")[-1]\n",
    "    frame_glob = os.path.join(cluster_dir, \"*/*.png\")\n",
    "    frame_paths = sorted(glob.glob(frame_glob))\n",
    "    make_video(frame_paths=frame_paths, output_folder=cluster_dir, video_name=\"kmeans_cluster_{}.avi\".format(cluster))\n",
    "\n",
    "\n",
    "\n",
    "\n"
   ]
  },
  {
   "cell_type": "code",
   "execution_count": null,
   "metadata": {},
   "outputs": [],
   "source": [
    "raise ValueError()"
   ]
  },
  {
   "cell_type": "markdown",
   "metadata": {},
   "source": [
    "## Putting together LFP and video start/stop"
   ]
  },
  {
   "cell_type": "code",
   "execution_count": null,
   "metadata": {
    "tags": []
   },
   "outputs": [],
   "source": [
    "START_STOP_FRAME_DF[\"video_name\"].unique()[:5]"
   ]
  },
  {
   "cell_type": "code",
   "execution_count": null,
   "metadata": {
    "tags": []
   },
   "outputs": [],
   "source": [
    "LFP_SPECTRAL_DF[\"video_name\"].unique()[:5]"
   ]
  },
  {
   "cell_type": "code",
   "execution_count": null,
   "metadata": {
    "tags": []
   },
   "outputs": [],
   "source": [
    "LFP_SPECTRAL_DF[\"current_subject\"].unique()"
   ]
  },
  {
   "cell_type": "code",
   "execution_count": null,
   "metadata": {
    "tags": []
   },
   "outputs": [],
   "source": [
    "START_STOP_FRAME_DF[\"current_subject\"].unique()"
   ]
  },
  {
   "cell_type": "code",
   "execution_count": null,
   "metadata": {
    "tags": []
   },
   "outputs": [],
   "source": [
    "LFP_AND_SLEAP_DF = pd.merge(LFP_SPECTRAL_DF, START_STOP_FRAME_DF, on=[\"video_name\", \"current_subject\"], how=\"inner\")"
   ]
  },
  {
   "cell_type": "code",
   "execution_count": null,
   "metadata": {
    "tags": []
   },
   "outputs": [],
   "source": [
    "LFP_AND_SLEAP_DF[\"video_timestamps\"].apply(lambda x: x.shape).head()"
   ]
  },
  {
   "cell_type": "code",
   "execution_count": null,
   "metadata": {
    "tags": []
   },
   "outputs": [],
   "source": [
    "LFP_AND_SLEAP_DF.head()"
   ]
  },
  {
   "cell_type": "markdown",
   "metadata": {
    "tags": []
   },
   "source": [
    "- Checking if any of the velocities contain Nans"
   ]
  },
  {
   "cell_type": "code",
   "execution_count": null,
   "metadata": {
    "tags": []
   },
   "outputs": [],
   "source": [
    "LFP_AND_SLEAP_DF[LFP_AND_SLEAP_DF[\"subject_thorax_velocity\"].apply(lambda x: np.isnan(x).any())]"
   ]
  },
  {
   "cell_type": "markdown",
   "metadata": {},
   "source": [
    "## Exporting"
   ]
  },
  {
   "cell_type": "code",
   "execution_count": null,
   "metadata": {
    "tags": []
   },
   "outputs": [],
   "source": [
    "LFP_AND_SLEAP_DF.columns"
   ]
  },
  {
   "cell_type": "code",
   "execution_count": null,
   "metadata": {
    "tags": []
   },
   "outputs": [],
   "source": [
    "FULL_LFP_TRACES_PKL"
   ]
  },
  {
   "cell_type": "code",
   "execution_count": null,
   "metadata": {
    "tags": []
   },
   "outputs": [],
   "source": [
    "LFP_AND_SLEAP_DF.to_pickle(os.path.join(OUTPUT_DIR, FULL_LFP_TRACES_PKL))"
   ]
  },
  {
   "cell_type": "code",
   "execution_count": null,
   "metadata": {},
   "outputs": [],
   "source": [
    "LFP_AND_SLEAP_DF.head()"
   ]
  },
  {
   "cell_type": "code",
   "execution_count": null,
   "metadata": {
    "tags": []
   },
   "outputs": [],
   "source": [
    "for col in LFP_AND_SLEAP_DF.columns:\n",
    "    print(col)"
   ]
  },
  {
   "cell_type": "code",
   "execution_count": null,
   "metadata": {
    "tags": []
   },
   "outputs": [],
   "source": [
    "raise ValueError()"
   ]
  }
 ],
 "metadata": {
  "deepnote": {},
  "deepnote_execution_queue": [],
  "deepnote_notebook_id": "cf8fe3695d074ee7887fdf6459cbf5ce",
  "kernelspec": {
   "display_name": "sleap_1_3_3",
   "language": "python",
   "name": "sleap_1_3_3"
  },
  "language_info": {
   "codemirror_mode": {
    "name": "ipython",
    "version": 3
   },
   "file_extension": ".py",
   "mimetype": "text/x-python",
   "name": "python",
   "nbconvert_exporter": "python",
   "pygments_lexer": "ipython3",
   "version": "3.7.12"
  }
 },
 "nbformat": 4,
 "nbformat_minor": 4
}
