{
 "cells": [
  {
   "cell_type": "markdown",
   "metadata": {
    "cell_id": "c3a02adc9e884466bc8c79db549cc3d2",
    "deepnote_cell_type": "text-cell-h1",
    "formattedRanges": [
     {
      "fromCodePoint": 0,
      "marks": {
       "bold": true,
       "underline": true
      },
      "toCodePoint": 17,
      "type": "marks"
     }
    ]
   },
   "source": [
    "# SLEAP Distance Calculation"
   ]
  },
  {
   "cell_type": "markdown",
   "metadata": {
    "cell_id": "4546bee655b14a5dbf393161f1228e60",
    "deepnote_cell_type": "text-cell-p",
    "formattedRanges": []
   },
   "source": [
    "Brief 1-2 sentence description of notebook."
   ]
  },
  {
   "cell_type": "code",
   "execution_count": 1,
   "metadata": {
    "tags": []
   },
   "outputs": [],
   "source": [
    "#calling it a second time may prevent some graphics errors\n",
    "import matplotlib.pyplot as plt"
   ]
  },
  {
   "cell_type": "code",
   "execution_count": 2,
   "metadata": {
    "tags": []
   },
   "outputs": [],
   "source": [
    "import os\n",
    "import glob\n",
    "import git\n",
    "import sys\n"
   ]
  },
  {
   "cell_type": "code",
   "execution_count": 3,
   "metadata": {
    "cell_id": "03b495cefa6a4798a44c7f2e4c6a3ea7",
    "deepnote_cell_type": "code",
    "deepnote_to_be_reexecuted": false,
    "execution_millis": 21,
    "execution_start": 1691424003626,
    "source_hash": null,
    "tags": []
   },
   "outputs": [],
   "source": [
    "# Imports of all used packages and libraries\n",
    "import numpy as np\n",
    "import pandas as pd\n",
    "# import seaborn as sns\n",
    "import matplotlib as mpl\n",
    "# import matplotlib.pyplot as plt\n",
    "import h5py\n",
    "from scipy.interpolate import interp1d\n",
    "from scipy.signal import savgol_filter\n"
   ]
  },
  {
   "cell_type": "code",
   "execution_count": 4,
   "metadata": {
    "tags": []
   },
   "outputs": [],
   "source": [
    "# import umap\n",
    "from sklearn.preprocessing import StandardScaler\n",
    "import sklearn.cluster"
   ]
  },
  {
   "cell_type": "code",
   "execution_count": 5,
   "metadata": {
    "tags": []
   },
   "outputs": [],
   "source": [
    "# import cv2 \n",
    "import os "
   ]
  },
  {
   "cell_type": "code",
   "execution_count": 6,
   "metadata": {
    "tags": []
   },
   "outputs": [],
   "source": [
    "git_repo = git.Repo(\".\", search_parent_directories=True)\n",
    "git_root = git_repo.git.rev_parse(\"--show-toplevel\")"
   ]
  },
  {
   "cell_type": "code",
   "execution_count": 7,
   "metadata": {
    "tags": []
   },
   "outputs": [
    {
     "data": {
      "text/plain": [
       "'C:/Users/ryoiwata/Documents/GitHub/reward_comp_ext'"
      ]
     },
     "execution_count": 7,
     "metadata": {},
     "output_type": "execute_result"
    }
   ],
   "source": [
    "git_root"
   ]
  },
  {
   "cell_type": "code",
   "execution_count": 8,
   "metadata": {
    "tags": []
   },
   "outputs": [],
   "source": [
    "sys.path.insert(0, os.path.join(git_root, 'src'))"
   ]
  },
  {
   "cell_type": "code",
   "execution_count": 9,
   "metadata": {
    "tags": []
   },
   "outputs": [],
   "source": [
    "import utilities.helper\n",
    "import sleap.process_pose"
   ]
  },
  {
   "cell_type": "code",
   "execution_count": 10,
   "metadata": {},
   "outputs": [],
   "source": [
    "from pathlib import Path\n",
    "# import imageio\n",
    "# import hdbscan"
   ]
  },
  {
   "cell_type": "code",
   "execution_count": 11,
   "metadata": {},
   "outputs": [],
   "source": [
    "import os \n",
    "# import cv2  \n",
    "# from PIL import Image  "
   ]
  },
  {
   "cell_type": "code",
   "execution_count": 12,
   "metadata": {
    "tags": []
   },
   "outputs": [],
   "source": [
    "# sns.set('notebook', 'ticks', font_scale=1.2)\n",
    "mpl.rcParams['figure.figsize'] = [15,6]"
   ]
  },
  {
   "cell_type": "markdown",
   "metadata": {},
   "source": [
    "# Feature columns"
   ]
  },
  {
   "cell_type": "code",
   "execution_count": 13,
   "metadata": {},
   "outputs": [],
   "source": [
    "# # based on each subjects individually\n",
    "# features_columns = ['subject_thorax_velocity', 'agent_thorax_velocity',\n",
    "#        'subject_thorax_to_agent_thorax', 'subject_nose_to_reward_port',\n",
    "#        'agent_nose_to_reward_port', 'subject_to_reward_port_angle',\n",
    "#        'agent_to_reward_port_angle']"
   ]
  },
  {
   "cell_type": "code",
   "execution_count": 14,
   "metadata": {},
   "outputs": [],
   "source": [
    "frame_difference = 1"
   ]
  },
  {
   "cell_type": "code",
   "execution_count": 15,
   "metadata": {},
   "outputs": [],
   "source": [
    "smoothing_window = 5"
   ]
  },
  {
   "cell_type": "code",
   "execution_count": 16,
   "metadata": {},
   "outputs": [],
   "source": [
    "features_columns = ['frame_index',\n",
    "                    ## Distance metrics\n",
    "                    'subject_thorax_to_agent_thorax',\n",
    "                    'nose_to_reward_port_sum',\n",
    "                    'nose_to_reward_port_diff',\n",
    "                    ## Velocity and speed metrics\n",
    "                    'thorax_velocity_sum', \n",
    "                    'thorax_velocity_diff',\n",
    "                    ## Orientation and angle\n",
    "                    'to_reward_port_angle_sum',\n",
    "                    'to_reward_port_angle_diff', \n",
    "                    # Individual features\n",
    "                    'subject_nose_to_reward_port',\n",
    "                    'subject_thorax_velocity',\n",
    "                    'subject_to_reward_port_angle',\n",
    "                    'agent_nose_to_reward_port',\n",
    "                    'agent_thorax_velocity',\n",
    "                    'agent_to_reward_port_angle',\n",
    "                    ]"
   ]
  },
  {
   "cell_type": "code",
   "execution_count": null,
   "metadata": {},
   "outputs": [],
   "source": []
  },
  {
   "cell_type": "code",
   "execution_count": 17,
   "metadata": {},
   "outputs": [],
   "source": [
    "features_columns = ['frame_index',\n",
    "                    ## Distance metrics\n",
    "                    'subject_thorax_to_agent_thorax',\n",
    "                    'nose_to_reward_port_sum',\n",
    "                    'nose_to_reward_port_diff',\n",
    "                    'nose_to_tail_sum',\n",
    "                    'nose_to_tail_diff',\n",
    "                    ## Velocity and speed metrics\n",
    "                    'thorax_velocity_sum', \n",
    "                    'thorax_velocity_diff',\n",
    "                    ## Orientation and angle\n",
    "                    'to_reward_port_angle_sum',\n",
    "                    'to_reward_port_angle_diff', \n",
    "                    # Individual features\n",
    "                    'subject_nose_to_reward_port',\n",
    "                    'subject_thorax_velocity',\n",
    "                    'subject_to_reward_port_angle',\n",
    "                    'agent_nose_to_reward_port',\n",
    "                    'agent_thorax_velocity',\n",
    "                    'agent_to_reward_port_angle',\n",
    "                    ]"
   ]
  },
  {
   "cell_type": "code",
   "execution_count": 18,
   "metadata": {},
   "outputs": [],
   "source": [
    "# important_features_columns = ['subject_nose_to_reward_port', 'agent_nose_to_reward_port']\n",
    "# important_features_columns = [\"nose_to_reward_port_sum\", \"nose_to_reward_port_diff\", \"subject_thorax_to_agent_thorax\"]\n",
    "important_features_columns =[\n",
    "## Distance metrics\n",
    "                    'subject_thorax_to_agent_thorax',\n",
    "                    'nose_to_reward_port_sum',\n",
    "                    'nose_to_reward_port_diff',\n",
    "                    ## Velocity and speed metrics\n",
    "                    'thorax_velocity_sum', \n",
    "                    'thorax_velocity_diff',\n",
    "                    ## Orientation and angle\n",
    "                    'to_reward_port_angle_sum',\n",
    "                    'to_reward_port_angle_diff',]\n",
    "\n",
    "scaler = 2"
   ]
  },
  {
   "cell_type": "markdown",
   "metadata": {},
   "source": [
    "# Functions"
   ]
  },
  {
   "cell_type": "code",
   "execution_count": 19,
   "metadata": {},
   "outputs": [],
   "source": [
    "from scipy.interpolate import interp1d\n",
    "\n",
    "\n",
    "def nan_helper(y):\n",
    "    \"\"\"Helper to handle indices and logical indices of NaNs.\n",
    "\n",
    "    Input:\n",
    "        - y, 1d numpy array with possible NaNs\n",
    "    Output:\n",
    "        - nans, logical indices of NaNs\n",
    "        - index, a function, with signature indices= index(logical_indices),\n",
    "          to convert logical indices of NaNs to 'equivalent' indices\n",
    "    Example:\n",
    "        >>> # linear interpolation of NaNs\n",
    "        >>> nans, x= nan_helper(y)\n",
    "        >>> y[nans]= np.interp(x(nans), x(~nans), y[~nans])\n",
    "    \"\"\"\n",
    "\n",
    "    return np.isnan(y), lambda z: z.nonzero()[0]"
   ]
  },
  {
   "cell_type": "code",
   "execution_count": 20,
   "metadata": {
    "tags": []
   },
   "outputs": [],
   "source": [
    "def interpolate_nans_in_1d_arr(arr):\n",
    "    \"\"\"\n",
    "    \"\"\"\n",
    "    copy_arr = arr.copy()\n",
    "    nans, x= nan_helper(copy_arr)\n",
    "    copy_arr[nans] = np.interp(x(nans), x(~nans), copy_arr[~nans])\n",
    "    return copy_arr"
   ]
  },
  {
   "cell_type": "code",
   "execution_count": 21,
   "metadata": {},
   "outputs": [],
   "source": [
    "def bools_to_int(row):\n",
    "    # Convert boolean to integer, then to string, and join to form a binary number string\n",
    "    binary_string = ''.join(row.astype(int).astype(str))\n",
    "    # Convert binary string to a decimal integer\n",
    "    return int(binary_string, 2)"
   ]
  },
  {
   "cell_type": "code",
   "execution_count": 22,
   "metadata": {},
   "outputs": [],
   "source": [
    "def calculate_angles_from_arrays(A, B, C, D):\n",
    "    \"\"\"\n",
    "    Calculate the angles between vectors AB and CD for arrays of 2D points.\n",
    "\n",
    "    Parameters:\n",
    "    - A, B, C, D: Each is a 2D numpy array where each row represents a point in 2D space.\n",
    "                  A and B represent points defining the first vector, AB, and C and D represent points defining the second vector, CD.\n",
    "\n",
    "    Returns:\n",
    "    - A numpy array of angles in degrees between the vectors AB and CD for each set of points.\n",
    "    \"\"\"\n",
    "    # Ensure input arrays are numpy arrays\n",
    "    A, B, C, D = map(np.array, [A, B, C, D])\n",
    "\n",
    "    # Calculate vectors AB and CD\n",
    "    AB = B - A\n",
    "    CD = D - C\n",
    "\n",
    "    # Calculate dot products and magnitudes for each pair of vectors\n",
    "    dot_products = np.einsum('ij,ij->i', AB, CD)\n",
    "    norms_AB = np.linalg.norm(AB, axis=1)\n",
    "    norms_CD = np.linalg.norm(CD, axis=1)\n",
    "\n",
    "    # Calculate cosine of the angle using the dot product and magnitudes\n",
    "    cos_angles = dot_products / (norms_AB * norms_CD)\n",
    "    \n",
    "    # Clip values to prevent domain errors due to numerical issues\n",
    "    cos_angles = np.clip(cos_angles, -1.0, 1.0)\n",
    "\n",
    "    # Calculate angles in radians and then convert to degrees\n",
    "    angles_radians = np.arccos(cos_angles)\n",
    "    angles_degrees = np.degrees(angles_radians)\n",
    "\n",
    "    return angles_degrees\n"
   ]
  },
  {
   "cell_type": "code",
   "execution_count": 23,
   "metadata": {
    "tags": []
   },
   "outputs": [],
   "source": [
    "def extract_frames(video_path, frame_numbers, output_folder, max_width=640):\n",
    "    \"\"\"\n",
    "    Extracts frames from a video at specific frame numbers and saves them as images.\n",
    "\n",
    "    Parameters:\n",
    "        video_path (str): Path to the video file.\n",
    "        frame_numbers (list): List of frame numbers to extract.\n",
    "        output_folder (str): Directory to save the frames.\n",
    "        max_width (int): Maximum width of the frames. Height is adjusted proportionally.\n",
    "    \"\"\"\n",
    "    if not os.path.exists(output_folder):\n",
    "        os.makedirs(output_folder)\n",
    "\n",
    "    cap = cv2.VideoCapture(video_path)\n",
    "    if not cap.isOpened():\n",
    "        print(\"Error: Could not open video.\")\n",
    "        return []\n",
    "\n",
    "    frame_paths = []\n",
    "    frame_numbers = [int(num) for num in frame_numbers]\n",
    "    frame_ids = set(frame_numbers)\n",
    "    current_frame = 0\n",
    "\n",
    "    while True:\n",
    "        ret, frame = cap.read()\n",
    "        if not ret:\n",
    "            break\n",
    "\n",
    "        if current_frame in frame_ids:\n",
    "            # Resize frame if necessary\n",
    "            height, width = frame.shape[:2]\n",
    "            if width > max_width:\n",
    "                scaling_factor = max_width / float(width)\n",
    "                new_dimensions = (max_width, int(height * scaling_factor))\n",
    "                frame = cv2.resize(frame, new_dimensions, interpolation=cv2.INTER_AREA)\n",
    "            \n",
    "            frame_path = os.path.join(output_folder, \"frame_{:05d}.png\".format(current_frame))\n",
    "            cv2.imwrite(frame_path, frame)\n",
    "            frame_paths.append(frame_path)\n",
    "            # print(f\"Extracted frame {current_frame}\")\n",
    "        \n",
    "        current_frame += 1\n",
    "    \n",
    "    cap.release()\n",
    "    return frame_paths"
   ]
  },
  {
   "cell_type": "code",
   "execution_count": 24,
   "metadata": {},
   "outputs": [],
   "source": [
    "def make_video(frame_paths, output_folder, video_name=\"output.avi\", fps=15):\n",
    "    \"\"\"\n",
    "    Creates a video from a list of image frames.\n",
    "\n",
    "    Parameters:\n",
    "        frame_paths (list): List of paths to the frame images.\n",
    "        output_folder (str): Directory to save the video.\n",
    "        video_name (str): Filename for the video.\n",
    "        fps (int): Frames per second for the video.\n",
    "    \"\"\"\n",
    "    if not frame_paths:\n",
    "        print(\"No frames to make a video.\")\n",
    "        return\n",
    "\n",
    "    frame = cv2.imread(frame_paths[0])\n",
    "    height, width, layers = frame.shape\n",
    "\n",
    "    video_path = os.path.join(output_folder, video_name)\n",
    "    video = cv2.VideoWriter(video_path, cv2.VideoWriter_fourcc(*'DIVX'), fps, (width, height))\n",
    "\n",
    "    for frame_path in frame_paths:\n",
    "        video.write(cv2.imread(frame_path))\n",
    "\n",
    "    video.release()\n",
    "    print(f\"Video saved to {video_path}\")"
   ]
  },
  {
   "cell_type": "code",
   "execution_count": 25,
   "metadata": {},
   "outputs": [],
   "source": [
    "def extract_frames_and_make_video(video_path, frame_numbers, output_folder, video_name=\"output.gif\", fps=25, max_width=640):\n",
    "    \"\"\"\n",
    "    Extracts frames from a video at specific frame numbers, resizes them, and creates a GIF from those frames.\n",
    "\n",
    "    Parameters:\n",
    "        video_path (str): Path to the video file.\n",
    "        frame_numbers (list): List of frame numbers to extract.\n",
    "        output_folder (str): Directory to save the frames and GIF.\n",
    "        gif_name (str): Filename for the GIF.\n",
    "        fps (int): Frames per second for the GIF.\n",
    "        max_width (int): Maximum width of the frames in the GIF. Height is adjusted proportionally.\n",
    "    \"\"\"\n",
    "    # Create output folder if it doesn't exist\n",
    "    if not os.path.exists(output_folder):\n",
    "        os.makedirs(output_folder)\n",
    "    \n",
    "    # Initialize video capture\n",
    "    cap = cv2.VideoCapture(video_path)\n",
    "    if not cap.isOpened():\n",
    "        print(\"Error: Could not open video.\")\n",
    "        return\n",
    "\n",
    "    # Prepare to extract frames\n",
    "    frames = []\n",
    "    frame_ids = set(frame_numbers)  # Convert list to set for faster lookup\n",
    "    current_frame = 0\n",
    "\n",
    "    while True:\n",
    "        ret, frame = cap.read()\n",
    "        if not ret:\n",
    "            break\n",
    "        \n",
    "        if current_frame in frame_ids:\n",
    "            # Resize frame to reduce GIF size\n",
    "            height, width = frame.shape[:2]\n",
    "            scaling_factor = max_width / float(width)\n",
    "            if width > max_width:  # Only resize if the image is wider than the max width\n",
    "                new_dim = (max_width, int(height * scaling_factor))\n",
    "                frame = cv2.resize(frame, new_dim, interpolation=cv2.INTER_AREA)\n",
    "            \n",
    "            frame_path = os.path.join(output_folder, f\"frame_{current_frame}.png\")\n",
    "            cv2.imwrite(frame_path, frame)\n",
    "            frames.append(frame_path)\n",
    "            print(f\"Extracted frame {current_frame}\")\n",
    "        \n",
    "        current_frame += 1\n",
    "    \n",
    "    # Close video file\n",
    "    cap.release()\n",
    "\n",
    "    frame = cv2.imread(frames[0]) \n",
    "  \n",
    "    # setting the frame width, height width \n",
    "    # the width, height of first image \n",
    "    height, width, layers = frame.shape   \n",
    "  \n",
    "    video = cv2.VideoWriter(os.path.join(output_folder, video_name), 0, fps, (width, height))  \n",
    "  \n",
    "    # Appending the images to the video one by one \n",
    "    for image in frames:  \n",
    "        video.write(cv2.imread(image))  \n",
    "      \n",
    "    # Deallocating memories taken for window creation \n",
    "    cv2.destroyAllWindows()  \n",
    "    video.release()  # releasing the video generated \n",
    "  "
   ]
  },
  {
   "cell_type": "code",
   "execution_count": 26,
   "metadata": {},
   "outputs": [],
   "source": [
    "def extract_frames_and_make_gif(video_path, frame_numbers, output_folder, gif_name=\"output.gif\", fps=25, max_width=640):\n",
    "    \"\"\"\n",
    "    Extracts frames from a video at specific frame numbers, resizes them, and creates a GIF from those frames.\n",
    "\n",
    "    Parameters:\n",
    "        video_path (str): Path to the video file.\n",
    "        frame_numbers (list): List of frame numbers to extract.\n",
    "        output_folder (str): Directory to save the frames and GIF.\n",
    "        gif_name (str): Filename for the GIF.\n",
    "        fps (int): Frames per second for the GIF.\n",
    "        max_width (int): Maximum width of the frames in the GIF. Height is adjusted proportionally.\n",
    "    \"\"\"\n",
    "    # Create output folder if it doesn't exist\n",
    "    if not os.path.exists(output_folder):\n",
    "        os.makedirs(output_folder)\n",
    "    \n",
    "    # Initialize video capture\n",
    "    cap = cv2.VideoCapture(video_path)\n",
    "    if not cap.isOpened():\n",
    "        print(\"Error: Could not open video.\")\n",
    "        return\n",
    "\n",
    "    # Prepare to extract frames\n",
    "    frames = []\n",
    "    frame_ids = set(frame_numbers)  # Convert list to set for faster lookup\n",
    "    current_frame = 0\n",
    "\n",
    "    while True:\n",
    "        ret, frame = cap.read()\n",
    "        if not ret:\n",
    "            break\n",
    "        \n",
    "        if current_frame in frame_ids:\n",
    "            # Resize frame to reduce GIF size\n",
    "            height, width = frame.shape[:2]\n",
    "            scaling_factor = max_width / float(width)\n",
    "            if width > max_width:  # Only resize if the image is wider than the max width\n",
    "                new_dim = (max_width, int(height * scaling_factor))\n",
    "                frame = cv2.resize(frame, new_dim, interpolation=cv2.INTER_AREA)\n",
    "            \n",
    "            frame_path = os.path.join(output_folder, f\"frame_{current_frame}.png\")\n",
    "            cv2.imwrite(frame_path, frame)\n",
    "            frames.append(frame_path)\n",
    "            print(f\"Extracted frame {current_frame}\")\n",
    "        \n",
    "        current_frame += 1\n",
    "    \n",
    "    # Close video file\n",
    "    cap.release()\n",
    "\n",
    "    # Create GIF\n",
    "    if frames:\n",
    "        with imageio.get_writer(os.path.join(output_folder, gif_name), mode='I', fps=fps) as writer:\n",
    "            for filename in frames:\n",
    "                image = imageio.imread(filename)\n",
    "                writer.append_data(image)\n",
    "        print(f\"GIF created at {os.path.join(output_folder, gif_name)}\")\n",
    "    else:\n",
    "        print(\"No frames extracted, GIF not created.\")"
   ]
  },
  {
   "cell_type": "code",
   "execution_count": 27,
   "metadata": {
    "tags": []
   },
   "outputs": [],
   "source": [
    "def compute_velocity(node_loc, window_size=25, polynomial_order=3):\n",
    "    \"\"\"\n",
    "    Calculate the velocity of tracked nodes from pose data.\n",
    "    \n",
    "    The function utilizes the Savitzky-Golay filter to smooth the data and compute the velocity.\n",
    "    \n",
    "    Parameters:\n",
    "    ----------\n",
    "    node_loc : numpy.ndarray\n",
    "        The location of nodes, represented as an array of shape [frames, 2]. \n",
    "        Each row represents x and y coordinates for a particular frame.\n",
    "        \n",
    "    window_size : int, optional\n",
    "        The size of the window used for the Savitzky-Golay filter. \n",
    "        Represents the number of consecutive data points used when smoothing the data.\n",
    "        Default is 25.\n",
    "        \n",
    "    polynomial_order : int, optional\n",
    "        The order of the polynomial fit to the data within the Savitzky-Golay filter window.\n",
    "        Default is 3.\n",
    "\n",
    "    Returns:\n",
    "    -------\n",
    "    numpy.ndarray\n",
    "        The velocity for each frame, calculated from the smoothed x and y coordinates.\n",
    "    \n",
    "    \"\"\"\n",
    "    node_loc_vel = np.zeros_like(node_loc)\n",
    "    \n",
    "    # For each coordinate (x and y), smooth the data and calculate the derivative (velocity)\n",
    "    for c in range(node_loc.shape[-1]):\n",
    "        node_loc_vel[:, c] = savgol_filter(node_loc[:, c], window_size, polynomial_order, deriv=1)\n",
    "    \n",
    "    # Calculate the magnitude of the velocity vectors for each frame\n",
    "    node_vel = np.linalg.norm(node_loc_vel, axis=1)\n",
    "\n",
    "    return node_vel"
   ]
  },
  {
   "cell_type": "code",
   "execution_count": 28,
   "metadata": {},
   "outputs": [],
   "source": [
    "def calculate_speed_from_distances(distances_array, window_size=25, polynomial_order=3):\n",
    "    \"\"\"\n",
    "    Compute the speed of an object moving along a path defined by distances covered over time. \n",
    "    The speed is calculated by smoothing the distances using the Savitzky-Golay filter to find \n",
    "    the rate of change of distance with respect to time (derivative), which represents the speed.\n",
    "\n",
    "    Parameters:\n",
    "    ----------\n",
    "    distances_array : numpy.ndarray\n",
    "        An array containing distances covered over consecutive frames or time intervals. \n",
    "        Each value should represent the distance moved from the previous frame or time interval.\n",
    "        \n",
    "    window_size : int, optional\n",
    "        The length of the filter window, i.e., the number of coefficients. `window_size` must be a positive odd number.\n",
    "        Default is 25.\n",
    "        \n",
    "    polynomial_order : int, optional\n",
    "        The order of the polynomial used to fit the samples. `polynomial_order` must be less than `window_size`.\n",
    "        Default is 3.\n",
    "\n",
    "    Returns:\n",
    "    -------\n",
    "    numpy.ndarray\n",
    "        An array of the smoothed rate of change of distances, representing the speed for each frame or time interval.\n",
    "\n",
    "    Notes:\n",
    "    -----\n",
    "    - The function assumes that the input distances are sequential and represent uniform time intervals.\n",
    "    - The rate of change (speed) is computed using the first derivative with respect to the distance data.\n",
    "    \"\"\"\n",
    "    # Validate input\n",
    "    if polynomial_order >= window_size:\n",
    "        raise ValueError(\"polynomial_order must be less than window_size\")\n",
    "    \n",
    "    # Calculate the rate of change of the distance to get speed, using Savitzky-Golay filter\n",
    "    speed = savgol_filter(distances_array, window_size, polynomial_order, deriv=1)\n",
    "\n",
    "    return speed"
   ]
  },
  {
   "cell_type": "code",
   "execution_count": 29,
   "metadata": {},
   "outputs": [],
   "source": [
    "# def calculate_speed_from_distances(distances, dt):\n",
    "#     \"\"\"\n",
    "#     Calculate the speed from a numpy array of distances measured at regular time intervals.\n",
    "\n",
    "#     Parameters:\n",
    "#         distances (np.array): 1D Numpy array where each element represents a distance measured at a specific time.\n",
    "#         dt (float): Time interval between consecutive distance measurements.\n",
    "\n",
    "#     Returns:\n",
    "#         np.array: Array of speeds calculated as the change in distance divided by the time interval.\n",
    "#     \"\"\"\n",
    "#     # Calculate the change in distance\n",
    "#     delta_distances = np.diff(distances, n=dt)\n",
    "\n",
    "#     # Calculate speeds as change in distance divided by change in time\n",
    "#     speeds = delta_distances / dt\n",
    "\n",
    "#     # Pad the speed array at the beginning with zero to maintain the same length\n",
    "#     speeds = np.concatenate([np.array([speeds[0]]), speeds])\n",
    "\n",
    "#     return speeds"
   ]
  },
  {
   "cell_type": "code",
   "execution_count": 30,
   "metadata": {
    "tags": []
   },
   "outputs": [],
   "source": [
    "def rolling_average(arr, window_size):\n",
    "    \"\"\"\n",
    "    Computes the rolling average using a specified window size.\n",
    "    \n",
    "    Parameters:\n",
    "        arr (numpy.array): The input array to compute the rolling average for.\n",
    "        window_size (int): The size of the rolling window.\n",
    "\n",
    "    Returns:\n",
    "        numpy.array: The rolling average of the input array.\n",
    "    \"\"\"\n",
    "    if window_size < 1:\n",
    "       raise ValueError(\"Window size must be at least 1.\")\n",
    "    \n",
    "    # Create a uniform window of given window size\n",
    "    window = np.ones(window_size) / window_size\n",
    "\n",
    "    # Use numpy's convolve function to compute the rolling average\n",
    "    return np.convolve(arr, window, mode='valid')\n",
    "\n"
   ]
  },
  {
   "cell_type": "code",
   "execution_count": 31,
   "metadata": {
    "tags": []
   },
   "outputs": [],
   "source": [
    "def chunked_average(arr, chunk_size):\n",
    "    \"\"\"\n",
    "    Computes the average for non-overlapping chunks of the input array.\n",
    "    \n",
    "    Parameters:\n",
    "        arr (numpy.array): The input array.\n",
    "        chunk_size (int): The size of each chunk.\n",
    "\n",
    "    Returns:\n",
    "        numpy.array: The averages of the non-overlapping chunks.\n",
    "    \"\"\"\n",
    "\n",
    "    # Number of chunks\n",
    "    num_chunks = len(arr) // chunk_size\n",
    "    \n",
    "    # Reshape the array into a 2D array of shape (num_chunks, chunk_size)\n",
    "    reshaped_arr = arr[:num_chunks * chunk_size].reshape(num_chunks, chunk_size)\n",
    "    \n",
    "    # Compute the mean along the second axis (i.e., for each chunk)\n",
    "    return reshaped_arr.mean(axis=1)"
   ]
  },
  {
   "cell_type": "code",
   "execution_count": 32,
   "metadata": {
    "tags": []
   },
   "outputs": [],
   "source": [
    "def sliding_window_average(arr, window_size, step=1):\n",
    "    \"\"\"\n",
    "    Apply a sliding window to a 1D numpy array, returning the average of windows of a specified size.\n",
    "\n",
    "    :param arr: Input 1D numpy array.\n",
    "    :param window_size: Size of the window.\n",
    "    :param step: The step size or number of elements to slide the window by. Default is 1.\n",
    "    :return: A 1D numpy array where each element is the average of a window from the input.\n",
    "    \"\"\"\n",
    "    # Number of windows\n",
    "    num_windows = ((arr.size - window_size) // step) + 1\n",
    "    \n",
    "    # Output array for averages\n",
    "    averages = np.zeros(num_windows)\n",
    "    \n",
    "    for i in range(num_windows):\n",
    "        # Calculate the start and end index for the window\n",
    "        start = i * step\n",
    "        end = start + window_size\n",
    "        # Calculate the average of the window\n",
    "        averages[i] = np.mean(arr[start:end])\n",
    "\n",
    "    return averages"
   ]
  },
  {
   "cell_type": "code",
   "execution_count": 33,
   "metadata": {
    "tags": []
   },
   "outputs": [],
   "source": [
    "def calculate_all_window_indices(original_index, window_size, step, array_length):\n",
    "    \"\"\"\n",
    "    Calculate all the start and stop indices for sliding windows based on an original start index.\n",
    "\n",
    "    :param original_index: The original index from which the first window should start.\n",
    "    :param window_size: The size of each sliding window.\n",
    "    :param step: The step size or number of elements to slide the window by.\n",
    "    :param array_length: The total number of elements in the array.\n",
    "    :return: A list of tuples, each containing the start and stop indices for a sliding window.\n",
    "    \"\"\"\n",
    "\n",
    "    # Initialize the list to hold the start and stop indices for all windows\n",
    "    windows = []\n",
    "\n",
    "    # Initialize the current start index with the original index\n",
    "    current_start_index = original_index\n",
    "\n",
    "    # Loop through the array until the end is reached\n",
    "    while current_start_index + window_size <= original_index + array_length:\n",
    "        # Calculate the stop index based on the window size\n",
    "        stop_index = current_start_index + window_size\n",
    "\n",
    "        # Add the start and stop indices to the list\n",
    "        windows.append((current_start_index, stop_index))\n",
    "\n",
    "        # Update the current start index by adding the step size\n",
    "        current_start_index += step\n",
    "\n",
    "    return windows"
   ]
  },
  {
   "cell_type": "code",
   "execution_count": 34,
   "metadata": {},
   "outputs": [
    {
     "name": "stdout",
     "output_type": "stream",
     "text": [
      "Angle in radians: 0.7853981633974483\n",
      "Angle in degrees: 45.0\n"
     ]
    }
   ],
   "source": [
    "def calculate_angle(ax, ay, bx, by, cx, cy):\n",
    "    \"\"\"\n",
    "    Calculate the smallest angle between the vectors BA and BC with all points given in Cartesian coordinates.\n",
    "\n",
    "    Parameters:\n",
    "        ax, ay (float): Coordinates of point A.\n",
    "        bx, by (float): Coordinates of point B, the vertex of the angle.\n",
    "        cx, cy (float): Coordinates of point C.\n",
    "\n",
    "    Returns:\n",
    "        float: The smallest angle between vectors BA and BC, in radians, within the range [0, pi].\n",
    "    \"\"\"\n",
    "    # Calculate the angles of vectors BA and BC relative to the positive x-axis\n",
    "    ang_ba = np.arctan2(ay - by, ax - bx)\n",
    "    ang_bc = np.arctan2(cy - by, cx - bx)\n",
    "\n",
    "    # Compute the difference of angles\n",
    "    ang = ang_bc - ang_ba\n",
    "\n",
    "    # Normalize the angle to the range [0, 2*pi)\n",
    "    ang = (ang + 2 * np.pi) % (2 * np.pi)\n",
    "\n",
    "    # Ensure the angle is within [0, pi]\n",
    "    if ang > np.pi:\n",
    "        ang = 2 * np.pi - ang\n",
    "\n",
    "    return ang\n",
    "\n",
    "# Example usage:\n",
    "ax, ay = 0, 1  # Coordinates for point A\n",
    "bx, by = 0, 0  # Coordinates for point B (origin)\n",
    "cx, cy = -0.5, 0.5  # Coordinates for point C\n",
    "\n",
    "angle = calculate_angle(ax, ay, bx, by, cx, cy)\n",
    "print(\"Angle in radians:\", angle)\n",
    "print(\"Angle in degrees:\", np.degrees(angle))"
   ]
  },
  {
   "cell_type": "code",
   "execution_count": 35,
   "metadata": {},
   "outputs": [],
   "source": [
    "def calculate_time_series_angles(A, B, C):\n",
    "    \"\"\"\n",
    "    Calculate the smallest angle between vectors BA and BC for arrays of 2D points over time.\n",
    "\n",
    "    Parameters:\n",
    "        A, B, C (np.array): Each is a 2D numpy array of shape (T, 2) where T is the number of time steps.\n",
    "                            Each array holds the x and y coordinates of points A, B, and C over time.\n",
    "\n",
    "    Returns:\n",
    "        np.array: Array of smallest angles between vectors BA and BC, in radians, within the range [0, pi].\n",
    "    \"\"\"\n",
    "    # Extract x and y coordinates\n",
    "    ax, ay = A[:, 0], A[:, 1]\n",
    "    bx, by = B[:, 0], B[:, 1]\n",
    "    cx, cy = C[:, 0], C[:, 1]\n",
    "    \n",
    "    # Calculate the angles of vectors BA and BC relative to the positive x-axis\n",
    "    ang_ba = np.arctan2(ay - by, ax - bx)\n",
    "    ang_bc = np.arctan2(cy - by, cx - bx)\n",
    "    \n",
    "    # Compute the difference of angles\n",
    "    ang = ang_bc - ang_ba\n",
    "    \n",
    "    # Normalize the angle to the range [0, 2*pi)\n",
    "    ang = (ang + 2 * np.pi) % (2 * np.pi)\n",
    "    \n",
    "    # Ensure the angle is within [0, pi]\n",
    "    ang[ang > np.pi] = 2 * np.pi - ang[ang > np.pi]\n",
    "    \n",
    "    return ang"
   ]
  },
  {
   "cell_type": "code",
   "execution_count": 36,
   "metadata": {},
   "outputs": [],
   "source": [
    "# Concatenating and stacking arrays from all columns\n",
    "def concat_arrays(row):\n",
    "    return np.hstack(row)\n",
    "\n"
   ]
  },
  {
   "cell_type": "code",
   "execution_count": 37,
   "metadata": {},
   "outputs": [],
   "source": [
    "def moving_average(a, n=3):\n",
    "    ret = np.cumsum(a, dtype=float)\n",
    "    ret[n:] = ret[n:] - ret[:-n]\n",
    "    return ret[n - 1:] / n"
   ]
  },
  {
   "cell_type": "markdown",
   "metadata": {
    "cell_id": "d290bac2c17940bfbc0f9296beaf70e5",
    "deepnote_cell_type": "text-cell-h2",
    "formattedRanges": []
   },
   "source": [
    "## Inputs & Data"
   ]
  },
  {
   "cell_type": "markdown",
   "metadata": {
    "cell_id": "e528ce19c608425292151930d380f49f",
    "deepnote_cell_type": "text-cell-p",
    "formattedRanges": []
   },
   "source": [
    "Explanation of each input and where it comes from."
   ]
  },
  {
   "cell_type": "code",
   "execution_count": 38,
   "metadata": {
    "cell_id": "6cf83a5811054461a718a71673d09aab",
    "deepnote_cell_type": "code",
    "deepnote_to_be_reexecuted": false,
    "execution_millis": 373,
    "execution_start": 1691424003628,
    "source_hash": null,
    "tags": []
   },
   "outputs": [],
   "source": [
    "# Inputs and Required data loading\n",
    "# input varaible names are in all caps snake case\n",
    "# Whenever an input changes or is used for processing \n",
    "# the vairables are all lower in snake case\n",
    "THORAX_INDEX = 1\n",
    "\n",
    "# LFP_SPECTRAL_DF = pd.read_pickle(\"./proc/rce_pilot_2_03_spectral_bands.pkl\")\n",
    "# LFP_SPECTRAL_DF[\"video_name\"] = LFP_SPECTRAL_DF[\"video_name\"].apply(lambda x: x.strip(\".videoTimeStamps.cameraHWSync\"))\n",
    "\n",
    "# SLEAP_DIR = os.path.join(git_root, \"proc/sleap\") \n",
    "# SLEAP_DIR = \"/scratch/back_up/reward_competition_extention/final_proc/id_corrected\"\n",
    "SLEAP_DIR = \"./data\"\n",
    "\n",
    "OUTPUT_DIR = r\"./proc\" # where data is saved should always be shown in the inputs\n",
    "MED_PC_WIDTH = 29.5\n",
    "MED_PC_HEIGHT = 24\n",
    "FRAME_RATE = 22\n",
    "WINDOW_SIZE = 25\n",
    "DISTANCE_THRESHOLD = 2"
   ]
  },
  {
   "cell_type": "code",
   "execution_count": 39,
   "metadata": {},
   "outputs": [],
   "source": [
    "all_start_stop_files = [\"./data/rce_pilot_3_alone_comp_alone_trials_start_stop_video_frame.xlsx\"]"
   ]
  },
  {
   "cell_type": "code",
   "execution_count": 40,
   "metadata": {},
   "outputs": [],
   "source": [
    "all_trials_files = [\"./data/rce_pilot_3_alone_comp_per_video_trial_labels.xlsx\"]"
   ]
  },
  {
   "cell_type": "code",
   "execution_count": 41,
   "metadata": {
    "tags": []
   },
   "outputs": [],
   "source": [
    "# all_start_stop_files = [\"./data/rce_pilot_3_long_comp_per_subject_start_stop_video_frame.xlsx\"]"
   ]
  },
  {
   "cell_type": "code",
   "execution_count": 42,
   "metadata": {
    "tags": []
   },
   "outputs": [],
   "source": [
    "# all_trials_files = [\"./data/rce_pilot_3_long_comp_per_video_trial_labels.xlsx\"]"
   ]
  },
  {
   "cell_type": "code",
   "execution_count": 43,
   "metadata": {},
   "outputs": [],
   "source": [
    "list_of_start_stop_df = []\n",
    "\n",
    "for file_path in all_start_stop_files:\n",
    "    current_df = pd.read_excel(file_path)\n",
    "    list_of_start_stop_df.append(current_df)\n",
    "\n",
    "START_STOP_FRAME_DF = pd.concat(list_of_start_stop_df)\n"
   ]
  },
  {
   "cell_type": "code",
   "execution_count": 44,
   "metadata": {},
   "outputs": [
    {
     "data": {
      "text/html": [
       "<div>\n",
       "<style scoped>\n",
       "    .dataframe tbody tr th:only-of-type {\n",
       "        vertical-align: middle;\n",
       "    }\n",
       "\n",
       "    .dataframe tbody tr th {\n",
       "        vertical-align: top;\n",
       "    }\n",
       "\n",
       "    .dataframe thead th {\n",
       "        text-align: right;\n",
       "    }\n",
       "</style>\n",
       "<table border=\"1\" class=\"dataframe\">\n",
       "  <thead>\n",
       "    <tr style=\"text-align: right;\">\n",
       "      <th></th>\n",
       "      <th>file_path</th>\n",
       "      <th>start_frame</th>\n",
       "      <th>stop_frame</th>\n",
       "      <th>tracked_subject</th>\n",
       "      <th>in_video_subjects</th>\n",
       "      <th>box_number</th>\n",
       "      <th>notes</th>\n",
       "    </tr>\n",
       "  </thead>\n",
       "  <tbody>\n",
       "    <tr>\n",
       "      <th>0</th>\n",
       "      <td>20240320_142408_alone_comp_subj_3-1_and_3-3.1....</td>\n",
       "      <td>1</td>\n",
       "      <td>30500</td>\n",
       "      <td>3.3</td>\n",
       "      <td>3.1_3.3</td>\n",
       "      <td>1</td>\n",
       "      <td>NaN</td>\n",
       "    </tr>\n",
       "    <tr>\n",
       "      <th>1</th>\n",
       "      <td>20240320_142408_alone_comp_subj_3-1_and_3-3.2....</td>\n",
       "      <td>1</td>\n",
       "      <td>30500</td>\n",
       "      <td>3.1</td>\n",
       "      <td>3.1_3.3</td>\n",
       "      <td>2</td>\n",
       "      <td>NaN</td>\n",
       "    </tr>\n",
       "    <tr>\n",
       "      <th>2</th>\n",
       "      <td>20240320_171038_alone_comp_subj_4-2_and_4-3.1....</td>\n",
       "      <td>1</td>\n",
       "      <td>30500</td>\n",
       "      <td>4.3</td>\n",
       "      <td>4.2_4.3</td>\n",
       "      <td>1</td>\n",
       "      <td>NaN</td>\n",
       "    </tr>\n",
       "    <tr>\n",
       "      <th>3</th>\n",
       "      <td>20240320_171038_alone_comp_subj_4-2_and_4-3.2....</td>\n",
       "      <td>1</td>\n",
       "      <td>30500</td>\n",
       "      <td>4.2</td>\n",
       "      <td>4.2_4.3</td>\n",
       "      <td>2</td>\n",
       "      <td>NaN</td>\n",
       "    </tr>\n",
       "    <tr>\n",
       "      <th>4</th>\n",
       "      <td>20240322_120625_alone_comp_subj_3-3_and_3-4.1....</td>\n",
       "      <td>1</td>\n",
       "      <td>30500</td>\n",
       "      <td>3.4</td>\n",
       "      <td>3.3_3.4</td>\n",
       "      <td>1</td>\n",
       "      <td>NaN</td>\n",
       "    </tr>\n",
       "    <tr>\n",
       "      <th>5</th>\n",
       "      <td>20240322_120625_alone_comp_subj_3-3_and_3-4.2....</td>\n",
       "      <td>1</td>\n",
       "      <td>30500</td>\n",
       "      <td>3.3</td>\n",
       "      <td>3.3_3.4</td>\n",
       "      <td>2</td>\n",
       "      <td>NaN</td>\n",
       "    </tr>\n",
       "    <tr>\n",
       "      <th>6</th>\n",
       "      <td>20240322_160946_alone_comp_subj_4-3_and_4-4.1....</td>\n",
       "      <td>1</td>\n",
       "      <td>30500</td>\n",
       "      <td>4.4</td>\n",
       "      <td>4.3_4.4</td>\n",
       "      <td>1</td>\n",
       "      <td>NaN</td>\n",
       "    </tr>\n",
       "    <tr>\n",
       "      <th>7</th>\n",
       "      <td>20240322_160946_alone_comp_subj_4-3_and_4-4.2....</td>\n",
       "      <td>1</td>\n",
       "      <td>30500</td>\n",
       "      <td>4.3</td>\n",
       "      <td>4.3_4.4</td>\n",
       "      <td>2</td>\n",
       "      <td>NaN</td>\n",
       "    </tr>\n",
       "    <tr>\n",
       "      <th>8</th>\n",
       "      <td>20240323_122227_alone_comp_subj_5-2_and_5-3.1....</td>\n",
       "      <td>1</td>\n",
       "      <td>30500</td>\n",
       "      <td>5.2</td>\n",
       "      <td>5.2_5.3</td>\n",
       "      <td>1</td>\n",
       "      <td>NaN</td>\n",
       "    </tr>\n",
       "    <tr>\n",
       "      <th>9</th>\n",
       "      <td>20240323_122227_alone_comp_subj_5-2_and_5-3.2....</td>\n",
       "      <td>1</td>\n",
       "      <td>30500</td>\n",
       "      <td>5.3</td>\n",
       "      <td>5.2_5.3</td>\n",
       "      <td>2</td>\n",
       "      <td>NaN</td>\n",
       "    </tr>\n",
       "    <tr>\n",
       "      <th>10</th>\n",
       "      <td>20240323_144517_alone_comp_subj_3-1_and_3-4.1....</td>\n",
       "      <td>1000</td>\n",
       "      <td>31000</td>\n",
       "      <td>3.1</td>\n",
       "      <td>3.1_3.4</td>\n",
       "      <td>1</td>\n",
       "      <td>NaN</td>\n",
       "    </tr>\n",
       "    <tr>\n",
       "      <th>11</th>\n",
       "      <td>20240323_144517_alone_comp_subj_3-1_and_3-4.2....</td>\n",
       "      <td>1000</td>\n",
       "      <td>31000</td>\n",
       "      <td>3.4</td>\n",
       "      <td>3.1_3.4</td>\n",
       "      <td>2</td>\n",
       "      <td>NaN</td>\n",
       "    </tr>\n",
       "    <tr>\n",
       "      <th>12</th>\n",
       "      <td>20240323_165815_alone_comp_subj_4-2_and_4-4.1....</td>\n",
       "      <td>1</td>\n",
       "      <td>35500</td>\n",
       "      <td>4.2</td>\n",
       "      <td>4.2_4.4</td>\n",
       "      <td>1</td>\n",
       "      <td>NaN</td>\n",
       "    </tr>\n",
       "    <tr>\n",
       "      <th>13</th>\n",
       "      <td>20240323_165815_alone_comp_subj_4-2_and_4-4.2....</td>\n",
       "      <td>1</td>\n",
       "      <td>35500</td>\n",
       "      <td>4.4</td>\n",
       "      <td>4.2_4.4</td>\n",
       "      <td>2</td>\n",
       "      <td>NaN</td>\n",
       "    </tr>\n",
       "  </tbody>\n",
       "</table>\n",
       "</div>"
      ],
      "text/plain": [
       "                                            file_path  start_frame  \\\n",
       "0   20240320_142408_alone_comp_subj_3-1_and_3-3.1....            1   \n",
       "1   20240320_142408_alone_comp_subj_3-1_and_3-3.2....            1   \n",
       "2   20240320_171038_alone_comp_subj_4-2_and_4-3.1....            1   \n",
       "3   20240320_171038_alone_comp_subj_4-2_and_4-3.2....            1   \n",
       "4   20240322_120625_alone_comp_subj_3-3_and_3-4.1....            1   \n",
       "5   20240322_120625_alone_comp_subj_3-3_and_3-4.2....            1   \n",
       "6   20240322_160946_alone_comp_subj_4-3_and_4-4.1....            1   \n",
       "7   20240322_160946_alone_comp_subj_4-3_and_4-4.2....            1   \n",
       "8   20240323_122227_alone_comp_subj_5-2_and_5-3.1....            1   \n",
       "9   20240323_122227_alone_comp_subj_5-2_and_5-3.2....            1   \n",
       "10  20240323_144517_alone_comp_subj_3-1_and_3-4.1....         1000   \n",
       "11  20240323_144517_alone_comp_subj_3-1_and_3-4.2....         1000   \n",
       "12  20240323_165815_alone_comp_subj_4-2_and_4-4.1....            1   \n",
       "13  20240323_165815_alone_comp_subj_4-2_and_4-4.2....            1   \n",
       "\n",
       "    stop_frame  tracked_subject in_video_subjects  box_number  notes  \n",
       "0        30500              3.3           3.1_3.3           1    NaN  \n",
       "1        30500              3.1           3.1_3.3           2    NaN  \n",
       "2        30500              4.3           4.2_4.3           1    NaN  \n",
       "3        30500              4.2           4.2_4.3           2    NaN  \n",
       "4        30500              3.4           3.3_3.4           1    NaN  \n",
       "5        30500              3.3           3.3_3.4           2    NaN  \n",
       "6        30500              4.4           4.3_4.4           1    NaN  \n",
       "7        30500              4.3           4.3_4.4           2    NaN  \n",
       "8        30500              5.2           5.2_5.3           1    NaN  \n",
       "9        30500              5.3           5.2_5.3           2    NaN  \n",
       "10       31000              3.1           3.1_3.4           1    NaN  \n",
       "11       31000              3.4           3.1_3.4           2    NaN  \n",
       "12       35500              4.2           4.2_4.4           1    NaN  \n",
       "13       35500              4.4           4.2_4.4           2    NaN  "
      ]
     },
     "execution_count": 44,
     "metadata": {},
     "output_type": "execute_result"
    }
   ],
   "source": [
    "START_STOP_FRAME_DF"
   ]
  },
  {
   "cell_type": "markdown",
   "metadata": {
    "cell_id": "e3ee4891d43a4ac287413afc552ca289",
    "deepnote_cell_type": "text-cell-h2",
    "formattedRanges": []
   },
   "source": [
    "## Outputs"
   ]
  },
  {
   "cell_type": "markdown",
   "metadata": {
    "cell_id": "9ccbf6cc70fd4d379fa29317f733771f",
    "deepnote_cell_type": "text-cell-p",
    "formattedRanges": []
   },
   "source": [
    "Describe each output that the notebook creates. "
   ]
  },
  {
   "cell_type": "markdown",
   "metadata": {
    "cell_id": "fc8e8920a6944918a15fac575cdf6e78",
    "deepnote_cell_type": "text-cell-bullet",
    "formattedRanges": []
   },
   "source": [
    "- Is it a plot or is it data?"
   ]
  },
  {
   "cell_type": "markdown",
   "metadata": {
    "cell_id": "1e639d4776a84aa9ac8ded2e14fa57db",
    "deepnote_cell_type": "text-cell-bullet",
    "formattedRanges": []
   },
   "source": [
    "- How valuable is the output and why is it valuable or useful?"
   ]
  },
  {
   "cell_type": "code",
   "execution_count": 45,
   "metadata": {
    "tags": []
   },
   "outputs": [],
   "source": [
    "# Inputs and Required data loading\n",
    "# input varaible names are in all caps snake case\n",
    "# Whenever an input changes or is used for processing \n",
    "# the vairables are all lower in snake case\n",
    "OUTPUT_DIR = r\"./proc/\" # where data is saved should always be shown in the inputs\n",
    "os.makedirs(OUTPUT_DIR, exist_ok=True)\n",
    "OUTPUT_PREFIX = \"rce_pilot_3\""
   ]
  },
  {
   "cell_type": "code",
   "execution_count": 46,
   "metadata": {
    "tags": []
   },
   "outputs": [],
   "source": [
    "FULL_LFP_TRACES_PKL = \"{}_04_spectral_and_sleap.pkl\".format(OUTPUT_PREFIX)"
   ]
  },
  {
   "cell_type": "markdown",
   "metadata": {
    "cell_id": "8999d19b6b7d4d63bc90f0b0bd9ab085",
    "deepnote_cell_type": "text-cell-h2",
    "formattedRanges": []
   },
   "source": [
    "## Processing"
   ]
  },
  {
   "cell_type": "markdown",
   "metadata": {
    "cell_id": "9b36cdf08567463082b005cb0dec684b",
    "deepnote_cell_type": "text-cell-p",
    "formattedRanges": []
   },
   "source": [
    "Describe what is done to the data here and how inputs are manipulated to generate outputs. "
   ]
  },
  {
   "cell_type": "markdown",
   "metadata": {},
   "source": [
    "# Getting the videos where the subject is in the recording"
   ]
  },
  {
   "cell_type": "markdown",
   "metadata": {},
   "source": [
    "### Looking at when each subject was in each video"
   ]
  },
  {
   "cell_type": "code",
   "execution_count": 47,
   "metadata": {
    "tags": []
   },
   "outputs": [],
   "source": [
    "START_STOP_FRAME_DF = START_STOP_FRAME_DF.dropna(subset=[\"file_path\"])"
   ]
  },
  {
   "cell_type": "markdown",
   "metadata": {},
   "source": [
    "- Getting the name of the SLEAP and video files where each subject was in"
   ]
  },
  {
   "cell_type": "code",
   "execution_count": 48,
   "metadata": {
    "tags": []
   },
   "outputs": [],
   "source": [
    "START_STOP_FRAME_DF[\"sleap_name\"] = START_STOP_FRAME_DF[\"file_path\"].apply(lambda x: os.path.basename(x))\n",
    "START_STOP_FRAME_DF[\"video_name\"] = START_STOP_FRAME_DF[\"file_path\"].apply(lambda x: \".\".join(os.path.basename(x).split(\".\")[:2]))\n",
    "START_STOP_FRAME_DF[\"start_frame\"] = START_STOP_FRAME_DF[\"start_frame\"].astype(int)\n",
    "START_STOP_FRAME_DF[\"stop_frame\"] = START_STOP_FRAME_DF[\"stop_frame\"].astype(int)"
   ]
  },
  {
   "cell_type": "code",
   "execution_count": 49,
   "metadata": {
    "tags": []
   },
   "outputs": [],
   "source": [
    "START_STOP_FRAME_DF = START_STOP_FRAME_DF.drop(columns=[\"file_path\", \"notes\"], errors=\"ignore\")"
   ]
  },
  {
   "cell_type": "code",
   "execution_count": 50,
   "metadata": {
    "tags": []
   },
   "outputs": [
    {
     "data": {
      "text/plain": [
       "array(['20240320_142408_alone_comp_subj_3-1_and_3-3.1',\n",
       "       '20240320_142408_alone_comp_subj_3-1_and_3-3.2',\n",
       "       '20240320_171038_alone_comp_subj_4-2_and_4-3.1',\n",
       "       '20240320_171038_alone_comp_subj_4-2_and_4-3.2',\n",
       "       '20240322_120625_alone_comp_subj_3-3_and_3-4.1',\n",
       "       '20240322_120625_alone_comp_subj_3-3_and_3-4.2',\n",
       "       '20240322_160946_alone_comp_subj_4-3_and_4-4.1',\n",
       "       '20240322_160946_alone_comp_subj_4-3_and_4-4.2',\n",
       "       '20240323_122227_alone_comp_subj_5-2_and_5-3.1',\n",
       "       '20240323_122227_alone_comp_subj_5-2_and_5-3.2',\n",
       "       '20240323_144517_alone_comp_subj_3-1_and_3-4.1',\n",
       "       '20240323_144517_alone_comp_subj_3-1_and_3-4.2',\n",
       "       '20240323_165815_alone_comp_subj_4-2_and_4-4.1',\n",
       "       '20240323_165815_alone_comp_subj_4-2_and_4-4.2'], dtype=object)"
      ]
     },
     "execution_count": 50,
     "metadata": {},
     "output_type": "execute_result"
    }
   ],
   "source": [
    "START_STOP_FRAME_DF[\"video_name\"].unique()"
   ]
  },
  {
   "cell_type": "code",
   "execution_count": 51,
   "metadata": {
    "tags": []
   },
   "outputs": [
    {
     "data": {
      "text/html": [
       "<div>\n",
       "<style scoped>\n",
       "    .dataframe tbody tr th:only-of-type {\n",
       "        vertical-align: middle;\n",
       "    }\n",
       "\n",
       "    .dataframe tbody tr th {\n",
       "        vertical-align: top;\n",
       "    }\n",
       "\n",
       "    .dataframe thead th {\n",
       "        text-align: right;\n",
       "    }\n",
       "</style>\n",
       "<table border=\"1\" class=\"dataframe\">\n",
       "  <thead>\n",
       "    <tr style=\"text-align: right;\">\n",
       "      <th></th>\n",
       "      <th>start_frame</th>\n",
       "      <th>stop_frame</th>\n",
       "      <th>tracked_subject</th>\n",
       "      <th>in_video_subjects</th>\n",
       "      <th>box_number</th>\n",
       "      <th>sleap_name</th>\n",
       "      <th>video_name</th>\n",
       "    </tr>\n",
       "  </thead>\n",
       "  <tbody>\n",
       "    <tr>\n",
       "      <th>0</th>\n",
       "      <td>1</td>\n",
       "      <td>30500</td>\n",
       "      <td>3.3</td>\n",
       "      <td>3.1_3.3</td>\n",
       "      <td>1</td>\n",
       "      <td>20240320_142408_alone_comp_subj_3-1_and_3-3.1....</td>\n",
       "      <td>20240320_142408_alone_comp_subj_3-1_and_3-3.1</td>\n",
       "    </tr>\n",
       "    <tr>\n",
       "      <th>1</th>\n",
       "      <td>1</td>\n",
       "      <td>30500</td>\n",
       "      <td>3.1</td>\n",
       "      <td>3.1_3.3</td>\n",
       "      <td>2</td>\n",
       "      <td>20240320_142408_alone_comp_subj_3-1_and_3-3.2....</td>\n",
       "      <td>20240320_142408_alone_comp_subj_3-1_and_3-3.2</td>\n",
       "    </tr>\n",
       "    <tr>\n",
       "      <th>2</th>\n",
       "      <td>1</td>\n",
       "      <td>30500</td>\n",
       "      <td>4.3</td>\n",
       "      <td>4.2_4.3</td>\n",
       "      <td>1</td>\n",
       "      <td>20240320_171038_alone_comp_subj_4-2_and_4-3.1....</td>\n",
       "      <td>20240320_171038_alone_comp_subj_4-2_and_4-3.1</td>\n",
       "    </tr>\n",
       "    <tr>\n",
       "      <th>3</th>\n",
       "      <td>1</td>\n",
       "      <td>30500</td>\n",
       "      <td>4.2</td>\n",
       "      <td>4.2_4.3</td>\n",
       "      <td>2</td>\n",
       "      <td>20240320_171038_alone_comp_subj_4-2_and_4-3.2....</td>\n",
       "      <td>20240320_171038_alone_comp_subj_4-2_and_4-3.2</td>\n",
       "    </tr>\n",
       "    <tr>\n",
       "      <th>4</th>\n",
       "      <td>1</td>\n",
       "      <td>30500</td>\n",
       "      <td>3.4</td>\n",
       "      <td>3.3_3.4</td>\n",
       "      <td>1</td>\n",
       "      <td>20240322_120625_alone_comp_subj_3-3_and_3-4.1....</td>\n",
       "      <td>20240322_120625_alone_comp_subj_3-3_and_3-4.1</td>\n",
       "    </tr>\n",
       "  </tbody>\n",
       "</table>\n",
       "</div>"
      ],
      "text/plain": [
       "   start_frame  stop_frame  tracked_subject in_video_subjects  box_number  \\\n",
       "0            1       30500              3.3           3.1_3.3           1   \n",
       "1            1       30500              3.1           3.1_3.3           2   \n",
       "2            1       30500              4.3           4.2_4.3           1   \n",
       "3            1       30500              4.2           4.2_4.3           2   \n",
       "4            1       30500              3.4           3.3_3.4           1   \n",
       "\n",
       "                                          sleap_name  \\\n",
       "0  20240320_142408_alone_comp_subj_3-1_and_3-3.1....   \n",
       "1  20240320_142408_alone_comp_subj_3-1_and_3-3.2....   \n",
       "2  20240320_171038_alone_comp_subj_4-2_and_4-3.1....   \n",
       "3  20240320_171038_alone_comp_subj_4-2_and_4-3.2....   \n",
       "4  20240322_120625_alone_comp_subj_3-3_and_3-4.1....   \n",
       "\n",
       "                                      video_name  \n",
       "0  20240320_142408_alone_comp_subj_3-1_and_3-3.1  \n",
       "1  20240320_142408_alone_comp_subj_3-1_and_3-3.2  \n",
       "2  20240320_171038_alone_comp_subj_4-2_and_4-3.1  \n",
       "3  20240320_171038_alone_comp_subj_4-2_and_4-3.2  \n",
       "4  20240322_120625_alone_comp_subj_3-3_and_3-4.1  "
      ]
     },
     "execution_count": 51,
     "metadata": {},
     "output_type": "execute_result"
    }
   ],
   "source": [
    "START_STOP_FRAME_DF.head()"
   ]
  },
  {
   "cell_type": "markdown",
   "metadata": {},
   "source": [
    "- Splitting each row into seperate row for each subject in the video"
   ]
  },
  {
   "cell_type": "code",
   "execution_count": 52,
   "metadata": {
    "tags": []
   },
   "outputs": [],
   "source": [
    "START_STOP_FRAME_DF[\"tracked_subject\"] = START_STOP_FRAME_DF[\"tracked_subject\"].apply(lambda x: str(x).split(\"_\"))\n",
    "START_STOP_FRAME_DF[\"current_subject\"] = START_STOP_FRAME_DF[\"tracked_subject\"]"
   ]
  },
  {
   "cell_type": "code",
   "execution_count": 53,
   "metadata": {
    "tags": []
   },
   "outputs": [],
   "source": [
    "START_STOP_FRAME_DF = START_STOP_FRAME_DF.explode(\"current_subject\")"
   ]
  },
  {
   "cell_type": "code",
   "execution_count": 54,
   "metadata": {
    "tags": []
   },
   "outputs": [
    {
     "data": {
      "text/html": [
       "<div>\n",
       "<style scoped>\n",
       "    .dataframe tbody tr th:only-of-type {\n",
       "        vertical-align: middle;\n",
       "    }\n",
       "\n",
       "    .dataframe tbody tr th {\n",
       "        vertical-align: top;\n",
       "    }\n",
       "\n",
       "    .dataframe thead th {\n",
       "        text-align: right;\n",
       "    }\n",
       "</style>\n",
       "<table border=\"1\" class=\"dataframe\">\n",
       "  <thead>\n",
       "    <tr style=\"text-align: right;\">\n",
       "      <th></th>\n",
       "      <th>start_frame</th>\n",
       "      <th>stop_frame</th>\n",
       "      <th>tracked_subject</th>\n",
       "      <th>in_video_subjects</th>\n",
       "      <th>box_number</th>\n",
       "      <th>sleap_name</th>\n",
       "      <th>video_name</th>\n",
       "      <th>current_subject</th>\n",
       "    </tr>\n",
       "  </thead>\n",
       "  <tbody>\n",
       "    <tr>\n",
       "      <th>0</th>\n",
       "      <td>1</td>\n",
       "      <td>30500</td>\n",
       "      <td>[3.3]</td>\n",
       "      <td>3.1_3.3</td>\n",
       "      <td>1</td>\n",
       "      <td>20240320_142408_alone_comp_subj_3-1_and_3-3.1....</td>\n",
       "      <td>20240320_142408_alone_comp_subj_3-1_and_3-3.1</td>\n",
       "      <td>3.3</td>\n",
       "    </tr>\n",
       "    <tr>\n",
       "      <th>1</th>\n",
       "      <td>1</td>\n",
       "      <td>30500</td>\n",
       "      <td>[3.1]</td>\n",
       "      <td>3.1_3.3</td>\n",
       "      <td>2</td>\n",
       "      <td>20240320_142408_alone_comp_subj_3-1_and_3-3.2....</td>\n",
       "      <td>20240320_142408_alone_comp_subj_3-1_and_3-3.2</td>\n",
       "      <td>3.1</td>\n",
       "    </tr>\n",
       "    <tr>\n",
       "      <th>2</th>\n",
       "      <td>1</td>\n",
       "      <td>30500</td>\n",
       "      <td>[4.3]</td>\n",
       "      <td>4.2_4.3</td>\n",
       "      <td>1</td>\n",
       "      <td>20240320_171038_alone_comp_subj_4-2_and_4-3.1....</td>\n",
       "      <td>20240320_171038_alone_comp_subj_4-2_and_4-3.1</td>\n",
       "      <td>4.3</td>\n",
       "    </tr>\n",
       "    <tr>\n",
       "      <th>3</th>\n",
       "      <td>1</td>\n",
       "      <td>30500</td>\n",
       "      <td>[4.2]</td>\n",
       "      <td>4.2_4.3</td>\n",
       "      <td>2</td>\n",
       "      <td>20240320_171038_alone_comp_subj_4-2_and_4-3.2....</td>\n",
       "      <td>20240320_171038_alone_comp_subj_4-2_and_4-3.2</td>\n",
       "      <td>4.2</td>\n",
       "    </tr>\n",
       "    <tr>\n",
       "      <th>4</th>\n",
       "      <td>1</td>\n",
       "      <td>30500</td>\n",
       "      <td>[3.4]</td>\n",
       "      <td>3.3_3.4</td>\n",
       "      <td>1</td>\n",
       "      <td>20240322_120625_alone_comp_subj_3-3_and_3-4.1....</td>\n",
       "      <td>20240322_120625_alone_comp_subj_3-3_and_3-4.1</td>\n",
       "      <td>3.4</td>\n",
       "    </tr>\n",
       "  </tbody>\n",
       "</table>\n",
       "</div>"
      ],
      "text/plain": [
       "   start_frame  stop_frame tracked_subject in_video_subjects  box_number  \\\n",
       "0            1       30500           [3.3]           3.1_3.3           1   \n",
       "1            1       30500           [3.1]           3.1_3.3           2   \n",
       "2            1       30500           [4.3]           4.2_4.3           1   \n",
       "3            1       30500           [4.2]           4.2_4.3           2   \n",
       "4            1       30500           [3.4]           3.3_3.4           1   \n",
       "\n",
       "                                          sleap_name  \\\n",
       "0  20240320_142408_alone_comp_subj_3-1_and_3-3.1....   \n",
       "1  20240320_142408_alone_comp_subj_3-1_and_3-3.2....   \n",
       "2  20240320_171038_alone_comp_subj_4-2_and_4-3.1....   \n",
       "3  20240320_171038_alone_comp_subj_4-2_and_4-3.2....   \n",
       "4  20240322_120625_alone_comp_subj_3-3_and_3-4.1....   \n",
       "\n",
       "                                      video_name current_subject  \n",
       "0  20240320_142408_alone_comp_subj_3-1_and_3-3.1             3.3  \n",
       "1  20240320_142408_alone_comp_subj_3-1_and_3-3.2             3.1  \n",
       "2  20240320_171038_alone_comp_subj_4-2_and_4-3.1             4.3  \n",
       "3  20240320_171038_alone_comp_subj_4-2_and_4-3.2             4.2  \n",
       "4  20240322_120625_alone_comp_subj_3-3_and_3-4.1             3.4  "
      ]
     },
     "execution_count": 54,
     "metadata": {},
     "output_type": "execute_result"
    }
   ],
   "source": [
    "START_STOP_FRAME_DF.head()"
   ]
  },
  {
   "cell_type": "code",
   "execution_count": 55,
   "metadata": {
    "tags": []
   },
   "outputs": [
    {
     "data": {
      "text/plain": [
       "(14, 8)"
      ]
     },
     "execution_count": 55,
     "metadata": {},
     "output_type": "execute_result"
    }
   ],
   "source": [
    "START_STOP_FRAME_DF.shape"
   ]
  },
  {
   "cell_type": "markdown",
   "metadata": {},
   "source": [
    "# Reading in the h5 files between recordings"
   ]
  },
  {
   "cell_type": "code",
   "execution_count": 56,
   "metadata": {},
   "outputs": [
    {
     "data": {
      "text/plain": [
       "'./data'"
      ]
     },
     "execution_count": 56,
     "metadata": {},
     "output_type": "execute_result"
    }
   ],
   "source": [
    "SLEAP_DIR"
   ]
  },
  {
   "cell_type": "code",
   "execution_count": 57,
   "metadata": {
    "tags": []
   },
   "outputs": [],
   "source": [
    "START_STOP_FRAME_DF[\"sleap_name\"] = START_STOP_FRAME_DF[\"video_name\"].apply(lambda x: \"{}.fixed.1_subj.round_2.id_corrected.h5\".format(x))\n"
   ]
  },
  {
   "cell_type": "code",
   "execution_count": 58,
   "metadata": {
    "tags": []
   },
   "outputs": [
    {
     "data": {
      "text/plain": [
       "'20240320_142408_alone_comp_subj_3-1_and_3-3.1.fixed.1_subj.round_2.id_corrected.h5'"
      ]
     },
     "execution_count": 58,
     "metadata": {},
     "output_type": "execute_result"
    }
   ],
   "source": [
    "START_STOP_FRAME_DF[\"sleap_name\"].iloc[0]"
   ]
  },
  {
   "cell_type": "code",
   "execution_count": 59,
   "metadata": {
    "tags": []
   },
   "outputs": [
    {
     "data": {
      "text/plain": [
       "0     20240320_142408_alone_comp_subj_3-1_and_3-3.1....\n",
       "1     20240320_142408_alone_comp_subj_3-1_and_3-3.2....\n",
       "2     20240320_171038_alone_comp_subj_4-2_and_4-3.1....\n",
       "3     20240320_171038_alone_comp_subj_4-2_and_4-3.2....\n",
       "4     20240322_120625_alone_comp_subj_3-3_and_3-4.1....\n",
       "5     20240322_120625_alone_comp_subj_3-3_and_3-4.2....\n",
       "6     20240322_160946_alone_comp_subj_4-3_and_4-4.1....\n",
       "7     20240322_160946_alone_comp_subj_4-3_and_4-4.2....\n",
       "8     20240323_122227_alone_comp_subj_5-2_and_5-3.1....\n",
       "9     20240323_122227_alone_comp_subj_5-2_and_5-3.2....\n",
       "10    20240323_144517_alone_comp_subj_3-1_and_3-4.1....\n",
       "11    20240323_144517_alone_comp_subj_3-1_and_3-4.2....\n",
       "12    20240323_165815_alone_comp_subj_4-2_and_4-4.1....\n",
       "13    20240323_165815_alone_comp_subj_4-2_and_4-4.2....\n",
       "Name: sleap_name, dtype: object"
      ]
     },
     "execution_count": 59,
     "metadata": {},
     "output_type": "execute_result"
    }
   ],
   "source": [
    "START_STOP_FRAME_DF[\"sleap_name\"]"
   ]
  },
  {
   "cell_type": "code",
   "execution_count": 60,
   "metadata": {
    "tags": []
   },
   "outputs": [],
   "source": [
    "START_STOP_FRAME_DF[\"sleap_glob\"] = START_STOP_FRAME_DF[\"sleap_name\"].apply(lambda x: glob.glob(os.path.join(SLEAP_DIR, \"**\", x)))\n"
   ]
  },
  {
   "cell_type": "code",
   "execution_count": 61,
   "metadata": {
    "tags": []
   },
   "outputs": [],
   "source": [
    "for name in START_STOP_FRAME_DF[START_STOP_FRAME_DF[\"sleap_glob\"].apply(lambda x: len(x) == 0)][\"sleap_name\"]:\n",
    "    print(name)"
   ]
  },
  {
   "cell_type": "code",
   "execution_count": 62,
   "metadata": {},
   "outputs": [
    {
     "name": "stdout",
     "output_type": "stream",
     "text": [
      "20240320_142408_alone_comp_subj_3-1_and_3-3.1.fixed.1_subj.round_2.id_corrected.h5\n",
      "20240320_142408_alone_comp_subj_3-1_and_3-3.2.fixed.1_subj.round_2.id_corrected.h5\n",
      "20240320_171038_alone_comp_subj_4-2_and_4-3.1.fixed.1_subj.round_2.id_corrected.h5\n",
      "20240320_171038_alone_comp_subj_4-2_and_4-3.2.fixed.1_subj.round_2.id_corrected.h5\n",
      "20240322_120625_alone_comp_subj_3-3_and_3-4.1.fixed.1_subj.round_2.id_corrected.h5\n",
      "20240322_120625_alone_comp_subj_3-3_and_3-4.2.fixed.1_subj.round_2.id_corrected.h5\n",
      "20240322_160946_alone_comp_subj_4-3_and_4-4.1.fixed.1_subj.round_2.id_corrected.h5\n",
      "20240322_160946_alone_comp_subj_4-3_and_4-4.2.fixed.1_subj.round_2.id_corrected.h5\n",
      "20240323_122227_alone_comp_subj_5-2_and_5-3.1.fixed.1_subj.round_2.id_corrected.h5\n",
      "20240323_122227_alone_comp_subj_5-2_and_5-3.2.fixed.1_subj.round_2.id_corrected.h5\n",
      "20240323_144517_alone_comp_subj_3-1_and_3-4.1.fixed.1_subj.round_2.id_corrected.h5\n",
      "20240323_144517_alone_comp_subj_3-1_and_3-4.2.fixed.1_subj.round_2.id_corrected.h5\n",
      "20240323_165815_alone_comp_subj_4-2_and_4-4.1.fixed.1_subj.round_2.id_corrected.h5\n",
      "20240323_165815_alone_comp_subj_4-2_and_4-4.2.fixed.1_subj.round_2.id_corrected.h5\n"
     ]
    }
   ],
   "source": [
    "for name in START_STOP_FRAME_DF[START_STOP_FRAME_DF[\"sleap_glob\"].apply(lambda x: len(x) == 1)][\"sleap_name\"]:\n",
    "    print(name)"
   ]
  },
  {
   "cell_type": "markdown",
   "metadata": {},
   "source": [
    "# TODO FIX SLEAP GLOB"
   ]
  },
  {
   "cell_type": "code",
   "execution_count": 63,
   "metadata": {
    "tags": []
   },
   "outputs": [],
   "source": [
    "START_STOP_FRAME_DF = START_STOP_FRAME_DF[START_STOP_FRAME_DF['sleap_glob'].apply(lambda x: len(x) >= 1)]\n",
    "START_STOP_FRAME_DF = START_STOP_FRAME_DF.reset_index(drop=True)\n",
    "\n",
    "\n"
   ]
  },
  {
   "cell_type": "code",
   "execution_count": 64,
   "metadata": {},
   "outputs": [],
   "source": [
    "START_STOP_FRAME_DF[\"sleap_path\"] = START_STOP_FRAME_DF[\"sleap_glob\"].apply(lambda x: x[0])"
   ]
  },
  {
   "cell_type": "code",
   "execution_count": 65,
   "metadata": {
    "tags": []
   },
   "outputs": [
    {
     "data": {
      "text/plain": [
       "0     ./data\\20240320_142408_alone_comp_subj_3-1_and...\n",
       "1     ./data\\20240320_142408_alone_comp_subj_3-1_and...\n",
       "2     ./data\\20240320_171038_alone_comp_subj_4-2_and...\n",
       "3     ./data\\20240320_171038_alone_comp_subj_4-2_and...\n",
       "4     ./data\\20240322_120625_alone_comp_subj_3-3_and...\n",
       "5     ./data\\20240322_120625_alone_comp_subj_3-3_and...\n",
       "6     ./data\\20240322_160946_alone_comp_subj_4-3_and...\n",
       "7     ./data\\20240322_160946_alone_comp_subj_4-3_and...\n",
       "8     ./data\\20240323_122227_alone_comp_subj_5-2_and...\n",
       "9     ./data\\20240323_122227_alone_comp_subj_5-2_and...\n",
       "10    ./data\\20240323_144517_alone_comp_subj_3-1_and...\n",
       "11    ./data\\20240323_144517_alone_comp_subj_3-1_and...\n",
       "12    ./data\\20240323_165815_alone_comp_subj_4-2_and...\n",
       "13    ./data\\20240323_165815_alone_comp_subj_4-2_and...\n",
       "Name: sleap_path, dtype: object"
      ]
     },
     "execution_count": 65,
     "metadata": {},
     "output_type": "execute_result"
    }
   ],
   "source": [
    "START_STOP_FRAME_DF[\"sleap_path\"]"
   ]
  },
  {
   "cell_type": "code",
   "execution_count": 66,
   "metadata": {},
   "outputs": [],
   "source": [
    "START_STOP_FRAME_DF[\"all_sleap_data\"] = START_STOP_FRAME_DF[\"sleap_path\"].apply(lambda x: sleap.process_pose.extract_sleap_data(x))\n"
   ]
  },
  {
   "cell_type": "code",
   "execution_count": 67,
   "metadata": {
    "tags": []
   },
   "outputs": [],
   "source": [
    "START_STOP_FRAME_DF[\"body_parts\"] = START_STOP_FRAME_DF[\"sleap_path\"].apply(lambda x: sleap.process_pose.get_node_names_from_sleap(x))"
   ]
  },
  {
   "cell_type": "code",
   "execution_count": 68,
   "metadata": {
    "tags": []
   },
   "outputs": [
    {
     "data": {
      "text/plain": [
       "['left_ear', 'right_ear', 'nose', 'tail_base', 'thorax', 'forehead']"
      ]
     },
     "execution_count": 68,
     "metadata": {},
     "output_type": "execute_result"
    }
   ],
   "source": [
    "START_STOP_FRAME_DF[\"body_parts\"].iloc[0]"
   ]
  },
  {
   "cell_type": "code",
   "execution_count": 69,
   "metadata": {},
   "outputs": [],
   "source": [
    "START_STOP_FRAME_DF[\"locations\"] = START_STOP_FRAME_DF[\"all_sleap_data\"].apply(lambda x: x[\"locations\"])"
   ]
  },
  {
   "cell_type": "code",
   "execution_count": 70,
   "metadata": {},
   "outputs": [],
   "source": [
    "START_STOP_FRAME_DF[\"track_names\"] = START_STOP_FRAME_DF[\"all_sleap_data\"].apply(lambda x: x[\"track_names\"])"
   ]
  },
  {
   "cell_type": "code",
   "execution_count": 71,
   "metadata": {
    "tags": []
   },
   "outputs": [
    {
     "data": {
      "text/plain": [
       "(63504, 6, 2, 1)"
      ]
     },
     "execution_count": 71,
     "metadata": {},
     "output_type": "execute_result"
    }
   ],
   "source": [
    "START_STOP_FRAME_DF[\"locations\"].iloc[0].shape"
   ]
  },
  {
   "cell_type": "code",
   "execution_count": 72,
   "metadata": {
    "tags": []
   },
   "outputs": [
    {
     "data": {
      "text/html": [
       "<div>\n",
       "<style scoped>\n",
       "    .dataframe tbody tr th:only-of-type {\n",
       "        vertical-align: middle;\n",
       "    }\n",
       "\n",
       "    .dataframe tbody tr th {\n",
       "        vertical-align: top;\n",
       "    }\n",
       "\n",
       "    .dataframe thead th {\n",
       "        text-align: right;\n",
       "    }\n",
       "</style>\n",
       "<table border=\"1\" class=\"dataframe\">\n",
       "  <thead>\n",
       "    <tr style=\"text-align: right;\">\n",
       "      <th></th>\n",
       "      <th>start_frame</th>\n",
       "      <th>stop_frame</th>\n",
       "      <th>tracked_subject</th>\n",
       "      <th>in_video_subjects</th>\n",
       "      <th>box_number</th>\n",
       "      <th>sleap_name</th>\n",
       "      <th>video_name</th>\n",
       "      <th>current_subject</th>\n",
       "      <th>sleap_glob</th>\n",
       "      <th>sleap_path</th>\n",
       "      <th>all_sleap_data</th>\n",
       "      <th>body_parts</th>\n",
       "      <th>locations</th>\n",
       "      <th>track_names</th>\n",
       "    </tr>\n",
       "  </thead>\n",
       "  <tbody>\n",
       "    <tr>\n",
       "      <th>0</th>\n",
       "      <td>1</td>\n",
       "      <td>30500</td>\n",
       "      <td>[3.3]</td>\n",
       "      <td>3.1_3.3</td>\n",
       "      <td>1</td>\n",
       "      <td>20240320_142408_alone_comp_subj_3-1_and_3-3.1....</td>\n",
       "      <td>20240320_142408_alone_comp_subj_3-1_and_3-3.1</td>\n",
       "      <td>3.3</td>\n",
       "      <td>[./data\\20240320_142408_alone_comp_subj_3-1_an...</td>\n",
       "      <td>./data\\20240320_142408_alone_comp_subj_3-1_and...</td>\n",
       "      <td>{'locations': [[[[869.56890869]\n",
       " [248.0728302 ...</td>\n",
       "      <td>[left_ear, right_ear, nose, tail_base, thorax,...</td>\n",
       "      <td>[[[[869.56890869], [248.0728302]], [[885.38555...</td>\n",
       "      <td>[3.3]</td>\n",
       "    </tr>\n",
       "    <tr>\n",
       "      <th>1</th>\n",
       "      <td>1</td>\n",
       "      <td>30500</td>\n",
       "      <td>[3.1]</td>\n",
       "      <td>3.1_3.3</td>\n",
       "      <td>2</td>\n",
       "      <td>20240320_142408_alone_comp_subj_3-1_and_3-3.2....</td>\n",
       "      <td>20240320_142408_alone_comp_subj_3-1_and_3-3.2</td>\n",
       "      <td>3.1</td>\n",
       "      <td>[./data\\20240320_142408_alone_comp_subj_3-1_an...</td>\n",
       "      <td>./data\\20240320_142408_alone_comp_subj_3-1_and...</td>\n",
       "      <td>{'locations': [[[[656.2857666 ]\n",
       " [613.16717529...</td>\n",
       "      <td>[left_ear, right_ear, nose, tail_base, thorax,...</td>\n",
       "      <td>[[[[656.2857666], [613.16717529]], [[647.76647...</td>\n",
       "      <td>[3.1]</td>\n",
       "    </tr>\n",
       "    <tr>\n",
       "      <th>2</th>\n",
       "      <td>1</td>\n",
       "      <td>30500</td>\n",
       "      <td>[4.3]</td>\n",
       "      <td>4.2_4.3</td>\n",
       "      <td>1</td>\n",
       "      <td>20240320_171038_alone_comp_subj_4-2_and_4-3.1....</td>\n",
       "      <td>20240320_171038_alone_comp_subj_4-2_and_4-3.1</td>\n",
       "      <td>4.3</td>\n",
       "      <td>[./data\\20240320_171038_alone_comp_subj_4-2_an...</td>\n",
       "      <td>./data\\20240320_171038_alone_comp_subj_4-2_and...</td>\n",
       "      <td>{'locations': [[[[679.97515869]\n",
       " [552.0291748 ...</td>\n",
       "      <td>[left_ear, right_ear, nose, tail_base, thorax,...</td>\n",
       "      <td>[[[[679.97515869], [552.0291748]], [[640.33410...</td>\n",
       "      <td>[4.3]</td>\n",
       "    </tr>\n",
       "    <tr>\n",
       "      <th>3</th>\n",
       "      <td>1</td>\n",
       "      <td>30500</td>\n",
       "      <td>[4.2]</td>\n",
       "      <td>4.2_4.3</td>\n",
       "      <td>2</td>\n",
       "      <td>20240320_171038_alone_comp_subj_4-2_and_4-3.2....</td>\n",
       "      <td>20240320_171038_alone_comp_subj_4-2_and_4-3.2</td>\n",
       "      <td>4.2</td>\n",
       "      <td>[./data\\20240320_171038_alone_comp_subj_4-2_an...</td>\n",
       "      <td>./data\\20240320_171038_alone_comp_subj_4-2_and...</td>\n",
       "      <td>{'locations': [[[[652.95855713]\n",
       " [583.81176758...</td>\n",
       "      <td>[left_ear, right_ear, nose, tail_base, thorax,...</td>\n",
       "      <td>[[[[652.95855713], [583.81176758]], [[637.1974...</td>\n",
       "      <td>[4.2]</td>\n",
       "    </tr>\n",
       "    <tr>\n",
       "      <th>4</th>\n",
       "      <td>1</td>\n",
       "      <td>30500</td>\n",
       "      <td>[3.4]</td>\n",
       "      <td>3.3_3.4</td>\n",
       "      <td>1</td>\n",
       "      <td>20240322_120625_alone_comp_subj_3-3_and_3-4.1....</td>\n",
       "      <td>20240322_120625_alone_comp_subj_3-3_and_3-4.1</td>\n",
       "      <td>3.4</td>\n",
       "      <td>[./data\\20240322_120625_alone_comp_subj_3-3_an...</td>\n",
       "      <td>./data\\20240322_120625_alone_comp_subj_3-3_and...</td>\n",
       "      <td>{'locations': [[[[484.9914856 ]\n",
       " [370.73416138...</td>\n",
       "      <td>[left_ear, right_ear, nose, tail_base, thorax,...</td>\n",
       "      <td>[[[[484.9914856], [370.73416138]], [[525.18878...</td>\n",
       "      <td>[3.4]</td>\n",
       "    </tr>\n",
       "  </tbody>\n",
       "</table>\n",
       "</div>"
      ],
      "text/plain": [
       "   start_frame  stop_frame tracked_subject in_video_subjects  box_number  \\\n",
       "0            1       30500           [3.3]           3.1_3.3           1   \n",
       "1            1       30500           [3.1]           3.1_3.3           2   \n",
       "2            1       30500           [4.3]           4.2_4.3           1   \n",
       "3            1       30500           [4.2]           4.2_4.3           2   \n",
       "4            1       30500           [3.4]           3.3_3.4           1   \n",
       "\n",
       "                                          sleap_name  \\\n",
       "0  20240320_142408_alone_comp_subj_3-1_and_3-3.1....   \n",
       "1  20240320_142408_alone_comp_subj_3-1_and_3-3.2....   \n",
       "2  20240320_171038_alone_comp_subj_4-2_and_4-3.1....   \n",
       "3  20240320_171038_alone_comp_subj_4-2_and_4-3.2....   \n",
       "4  20240322_120625_alone_comp_subj_3-3_and_3-4.1....   \n",
       "\n",
       "                                      video_name current_subject  \\\n",
       "0  20240320_142408_alone_comp_subj_3-1_and_3-3.1             3.3   \n",
       "1  20240320_142408_alone_comp_subj_3-1_and_3-3.2             3.1   \n",
       "2  20240320_171038_alone_comp_subj_4-2_and_4-3.1             4.3   \n",
       "3  20240320_171038_alone_comp_subj_4-2_and_4-3.2             4.2   \n",
       "4  20240322_120625_alone_comp_subj_3-3_and_3-4.1             3.4   \n",
       "\n",
       "                                          sleap_glob  \\\n",
       "0  [./data\\20240320_142408_alone_comp_subj_3-1_an...   \n",
       "1  [./data\\20240320_142408_alone_comp_subj_3-1_an...   \n",
       "2  [./data\\20240320_171038_alone_comp_subj_4-2_an...   \n",
       "3  [./data\\20240320_171038_alone_comp_subj_4-2_an...   \n",
       "4  [./data\\20240322_120625_alone_comp_subj_3-3_an...   \n",
       "\n",
       "                                          sleap_path  \\\n",
       "0  ./data\\20240320_142408_alone_comp_subj_3-1_and...   \n",
       "1  ./data\\20240320_142408_alone_comp_subj_3-1_and...   \n",
       "2  ./data\\20240320_171038_alone_comp_subj_4-2_and...   \n",
       "3  ./data\\20240320_171038_alone_comp_subj_4-2_and...   \n",
       "4  ./data\\20240322_120625_alone_comp_subj_3-3_and...   \n",
       "\n",
       "                                      all_sleap_data  \\\n",
       "0  {'locations': [[[[869.56890869]\n",
       " [248.0728302 ...   \n",
       "1  {'locations': [[[[656.2857666 ]\n",
       " [613.16717529...   \n",
       "2  {'locations': [[[[679.97515869]\n",
       " [552.0291748 ...   \n",
       "3  {'locations': [[[[652.95855713]\n",
       " [583.81176758...   \n",
       "4  {'locations': [[[[484.9914856 ]\n",
       " [370.73416138...   \n",
       "\n",
       "                                          body_parts  \\\n",
       "0  [left_ear, right_ear, nose, tail_base, thorax,...   \n",
       "1  [left_ear, right_ear, nose, tail_base, thorax,...   \n",
       "2  [left_ear, right_ear, nose, tail_base, thorax,...   \n",
       "3  [left_ear, right_ear, nose, tail_base, thorax,...   \n",
       "4  [left_ear, right_ear, nose, tail_base, thorax,...   \n",
       "\n",
       "                                           locations track_names  \n",
       "0  [[[[869.56890869], [248.0728302]], [[885.38555...       [3.3]  \n",
       "1  [[[[656.2857666], [613.16717529]], [[647.76647...       [3.1]  \n",
       "2  [[[[679.97515869], [552.0291748]], [[640.33410...       [4.3]  \n",
       "3  [[[[652.95855713], [583.81176758]], [[637.1974...       [4.2]  \n",
       "4  [[[[484.9914856], [370.73416138]], [[525.18878...       [3.4]  "
      ]
     },
     "execution_count": 72,
     "metadata": {},
     "output_type": "execute_result"
    }
   ],
   "source": [
    "START_STOP_FRAME_DF.head()"
   ]
  },
  {
   "cell_type": "code",
   "execution_count": 73,
   "metadata": {},
   "outputs": [],
   "source": [
    "# Getting the indexes of each subject from the track list\n",
    "START_STOP_FRAME_DF[\"subject_to_index\"] = START_STOP_FRAME_DF.apply(lambda x: {k: x[\"track_names\"].index(k) for k in x[\"tracked_subject\"] if k in x[\"track_names\"]}, axis=1)"
   ]
  },
  {
   "cell_type": "code",
   "execution_count": 74,
   "metadata": {},
   "outputs": [
    {
     "data": {
      "text/plain": [
       "0    {'3.3': 0}\n",
       "1    {'3.1': 0}\n",
       "2    {'4.3': 0}\n",
       "3    {'4.2': 0}\n",
       "4    {'3.4': 0}\n",
       "Name: subject_to_index, dtype: object"
      ]
     },
     "execution_count": 74,
     "metadata": {},
     "output_type": "execute_result"
    }
   ],
   "source": [
    "START_STOP_FRAME_DF[\"subject_to_index\"].head()"
   ]
  },
  {
   "cell_type": "code",
   "execution_count": 75,
   "metadata": {},
   "outputs": [],
   "source": [
    "START_STOP_FRAME_DF[\"subject_to_tracks\"] = START_STOP_FRAME_DF.apply(lambda x: {k:v for k, v in x[\"subject_to_index\"].items()}, axis=1)"
   ]
  },
  {
   "cell_type": "code",
   "execution_count": 76,
   "metadata": {},
   "outputs": [],
   "source": [
    "START_STOP_FRAME_DF[\"subject_to_tracks\"] = START_STOP_FRAME_DF.apply(lambda x: {k: x[\"locations\"][:,:,:,v] for k, v in x[\"subject_to_index\"].items()}, axis=1)"
   ]
  },
  {
   "cell_type": "code",
   "execution_count": 77,
   "metadata": {},
   "outputs": [
    {
     "data": {
      "text/plain": [
       "0    {'3.3': [[[869.56890869 248.0728302 ], [885.38...\n",
       "1    {'3.1': [[[656.2857666  613.16717529], [647.76...\n",
       "2    {'4.3': [[[679.97515869 552.0291748 ], [640.33...\n",
       "3    {'4.2': [[[652.95855713 583.81176758], [637.19...\n",
       "4    {'3.4': [[[484.9914856  370.73416138], [525.18...\n",
       "Name: subject_to_tracks, dtype: object"
      ]
     },
     "execution_count": 77,
     "metadata": {},
     "output_type": "execute_result"
    }
   ],
   "source": [
    "START_STOP_FRAME_DF[\"subject_to_tracks\"].head()"
   ]
  },
  {
   "cell_type": "code",
   "execution_count": 78,
   "metadata": {
    "tags": []
   },
   "outputs": [
    {
     "data": {
      "text/plain": [
       "0    (3.3)\n",
       "1    (3.1)\n",
       "2    (4.3)\n",
       "3    (4.2)\n",
       "4    (3.4)\n",
       "Name: subject_to_tracks, dtype: object"
      ]
     },
     "execution_count": 78,
     "metadata": {},
     "output_type": "execute_result"
    }
   ],
   "source": [
    "START_STOP_FRAME_DF[\"subject_to_tracks\"].apply(lambda x: x.keys()).head()"
   ]
  },
  {
   "cell_type": "code",
   "execution_count": 79,
   "metadata": {},
   "outputs": [
    {
     "data": {
      "text/html": [
       "<div>\n",
       "<style scoped>\n",
       "    .dataframe tbody tr th:only-of-type {\n",
       "        vertical-align: middle;\n",
       "    }\n",
       "\n",
       "    .dataframe tbody tr th {\n",
       "        vertical-align: top;\n",
       "    }\n",
       "\n",
       "    .dataframe thead th {\n",
       "        text-align: right;\n",
       "    }\n",
       "</style>\n",
       "<table border=\"1\" class=\"dataframe\">\n",
       "  <thead>\n",
       "    <tr style=\"text-align: right;\">\n",
       "      <th></th>\n",
       "      <th>start_frame</th>\n",
       "      <th>stop_frame</th>\n",
       "      <th>tracked_subject</th>\n",
       "      <th>in_video_subjects</th>\n",
       "      <th>box_number</th>\n",
       "      <th>sleap_name</th>\n",
       "      <th>video_name</th>\n",
       "      <th>current_subject</th>\n",
       "      <th>sleap_glob</th>\n",
       "      <th>sleap_path</th>\n",
       "      <th>all_sleap_data</th>\n",
       "      <th>body_parts</th>\n",
       "      <th>locations</th>\n",
       "      <th>track_names</th>\n",
       "      <th>subject_to_index</th>\n",
       "      <th>subject_to_tracks</th>\n",
       "    </tr>\n",
       "  </thead>\n",
       "  <tbody>\n",
       "    <tr>\n",
       "      <th>0</th>\n",
       "      <td>1</td>\n",
       "      <td>30500</td>\n",
       "      <td>[3.3]</td>\n",
       "      <td>3.1_3.3</td>\n",
       "      <td>1</td>\n",
       "      <td>20240320_142408_alone_comp_subj_3-1_and_3-3.1....</td>\n",
       "      <td>20240320_142408_alone_comp_subj_3-1_and_3-3.1</td>\n",
       "      <td>3.3</td>\n",
       "      <td>[./data\\20240320_142408_alone_comp_subj_3-1_an...</td>\n",
       "      <td>./data\\20240320_142408_alone_comp_subj_3-1_and...</td>\n",
       "      <td>{'locations': [[[[869.56890869]\n",
       " [248.0728302 ...</td>\n",
       "      <td>[left_ear, right_ear, nose, tail_base, thorax,...</td>\n",
       "      <td>[[[[869.56890869], [248.0728302]], [[885.38555...</td>\n",
       "      <td>[3.3]</td>\n",
       "      <td>{'3.3': 0}</td>\n",
       "      <td>{'3.3': [[[869.56890869 248.0728302 ], [885.38...</td>\n",
       "    </tr>\n",
       "    <tr>\n",
       "      <th>1</th>\n",
       "      <td>1</td>\n",
       "      <td>30500</td>\n",
       "      <td>[3.1]</td>\n",
       "      <td>3.1_3.3</td>\n",
       "      <td>2</td>\n",
       "      <td>20240320_142408_alone_comp_subj_3-1_and_3-3.2....</td>\n",
       "      <td>20240320_142408_alone_comp_subj_3-1_and_3-3.2</td>\n",
       "      <td>3.1</td>\n",
       "      <td>[./data\\20240320_142408_alone_comp_subj_3-1_an...</td>\n",
       "      <td>./data\\20240320_142408_alone_comp_subj_3-1_and...</td>\n",
       "      <td>{'locations': [[[[656.2857666 ]\n",
       " [613.16717529...</td>\n",
       "      <td>[left_ear, right_ear, nose, tail_base, thorax,...</td>\n",
       "      <td>[[[[656.2857666], [613.16717529]], [[647.76647...</td>\n",
       "      <td>[3.1]</td>\n",
       "      <td>{'3.1': 0}</td>\n",
       "      <td>{'3.1': [[[656.2857666  613.16717529], [647.76...</td>\n",
       "    </tr>\n",
       "    <tr>\n",
       "      <th>2</th>\n",
       "      <td>1</td>\n",
       "      <td>30500</td>\n",
       "      <td>[4.3]</td>\n",
       "      <td>4.2_4.3</td>\n",
       "      <td>1</td>\n",
       "      <td>20240320_171038_alone_comp_subj_4-2_and_4-3.1....</td>\n",
       "      <td>20240320_171038_alone_comp_subj_4-2_and_4-3.1</td>\n",
       "      <td>4.3</td>\n",
       "      <td>[./data\\20240320_171038_alone_comp_subj_4-2_an...</td>\n",
       "      <td>./data\\20240320_171038_alone_comp_subj_4-2_and...</td>\n",
       "      <td>{'locations': [[[[679.97515869]\n",
       " [552.0291748 ...</td>\n",
       "      <td>[left_ear, right_ear, nose, tail_base, thorax,...</td>\n",
       "      <td>[[[[679.97515869], [552.0291748]], [[640.33410...</td>\n",
       "      <td>[4.3]</td>\n",
       "      <td>{'4.3': 0}</td>\n",
       "      <td>{'4.3': [[[679.97515869 552.0291748 ], [640.33...</td>\n",
       "    </tr>\n",
       "    <tr>\n",
       "      <th>3</th>\n",
       "      <td>1</td>\n",
       "      <td>30500</td>\n",
       "      <td>[4.2]</td>\n",
       "      <td>4.2_4.3</td>\n",
       "      <td>2</td>\n",
       "      <td>20240320_171038_alone_comp_subj_4-2_and_4-3.2....</td>\n",
       "      <td>20240320_171038_alone_comp_subj_4-2_and_4-3.2</td>\n",
       "      <td>4.2</td>\n",
       "      <td>[./data\\20240320_171038_alone_comp_subj_4-2_an...</td>\n",
       "      <td>./data\\20240320_171038_alone_comp_subj_4-2_and...</td>\n",
       "      <td>{'locations': [[[[652.95855713]\n",
       " [583.81176758...</td>\n",
       "      <td>[left_ear, right_ear, nose, tail_base, thorax,...</td>\n",
       "      <td>[[[[652.95855713], [583.81176758]], [[637.1974...</td>\n",
       "      <td>[4.2]</td>\n",
       "      <td>{'4.2': 0}</td>\n",
       "      <td>{'4.2': [[[652.95855713 583.81176758], [637.19...</td>\n",
       "    </tr>\n",
       "    <tr>\n",
       "      <th>4</th>\n",
       "      <td>1</td>\n",
       "      <td>30500</td>\n",
       "      <td>[3.4]</td>\n",
       "      <td>3.3_3.4</td>\n",
       "      <td>1</td>\n",
       "      <td>20240322_120625_alone_comp_subj_3-3_and_3-4.1....</td>\n",
       "      <td>20240322_120625_alone_comp_subj_3-3_and_3-4.1</td>\n",
       "      <td>3.4</td>\n",
       "      <td>[./data\\20240322_120625_alone_comp_subj_3-3_an...</td>\n",
       "      <td>./data\\20240322_120625_alone_comp_subj_3-3_and...</td>\n",
       "      <td>{'locations': [[[[484.9914856 ]\n",
       " [370.73416138...</td>\n",
       "      <td>[left_ear, right_ear, nose, tail_base, thorax,...</td>\n",
       "      <td>[[[[484.9914856], [370.73416138]], [[525.18878...</td>\n",
       "      <td>[3.4]</td>\n",
       "      <td>{'3.4': 0}</td>\n",
       "      <td>{'3.4': [[[484.9914856  370.73416138], [525.18...</td>\n",
       "    </tr>\n",
       "  </tbody>\n",
       "</table>\n",
       "</div>"
      ],
      "text/plain": [
       "   start_frame  stop_frame tracked_subject in_video_subjects  box_number  \\\n",
       "0            1       30500           [3.3]           3.1_3.3           1   \n",
       "1            1       30500           [3.1]           3.1_3.3           2   \n",
       "2            1       30500           [4.3]           4.2_4.3           1   \n",
       "3            1       30500           [4.2]           4.2_4.3           2   \n",
       "4            1       30500           [3.4]           3.3_3.4           1   \n",
       "\n",
       "                                          sleap_name  \\\n",
       "0  20240320_142408_alone_comp_subj_3-1_and_3-3.1....   \n",
       "1  20240320_142408_alone_comp_subj_3-1_and_3-3.2....   \n",
       "2  20240320_171038_alone_comp_subj_4-2_and_4-3.1....   \n",
       "3  20240320_171038_alone_comp_subj_4-2_and_4-3.2....   \n",
       "4  20240322_120625_alone_comp_subj_3-3_and_3-4.1....   \n",
       "\n",
       "                                      video_name current_subject  \\\n",
       "0  20240320_142408_alone_comp_subj_3-1_and_3-3.1             3.3   \n",
       "1  20240320_142408_alone_comp_subj_3-1_and_3-3.2             3.1   \n",
       "2  20240320_171038_alone_comp_subj_4-2_and_4-3.1             4.3   \n",
       "3  20240320_171038_alone_comp_subj_4-2_and_4-3.2             4.2   \n",
       "4  20240322_120625_alone_comp_subj_3-3_and_3-4.1             3.4   \n",
       "\n",
       "                                          sleap_glob  \\\n",
       "0  [./data\\20240320_142408_alone_comp_subj_3-1_an...   \n",
       "1  [./data\\20240320_142408_alone_comp_subj_3-1_an...   \n",
       "2  [./data\\20240320_171038_alone_comp_subj_4-2_an...   \n",
       "3  [./data\\20240320_171038_alone_comp_subj_4-2_an...   \n",
       "4  [./data\\20240322_120625_alone_comp_subj_3-3_an...   \n",
       "\n",
       "                                          sleap_path  \\\n",
       "0  ./data\\20240320_142408_alone_comp_subj_3-1_and...   \n",
       "1  ./data\\20240320_142408_alone_comp_subj_3-1_and...   \n",
       "2  ./data\\20240320_171038_alone_comp_subj_4-2_and...   \n",
       "3  ./data\\20240320_171038_alone_comp_subj_4-2_and...   \n",
       "4  ./data\\20240322_120625_alone_comp_subj_3-3_and...   \n",
       "\n",
       "                                      all_sleap_data  \\\n",
       "0  {'locations': [[[[869.56890869]\n",
       " [248.0728302 ...   \n",
       "1  {'locations': [[[[656.2857666 ]\n",
       " [613.16717529...   \n",
       "2  {'locations': [[[[679.97515869]\n",
       " [552.0291748 ...   \n",
       "3  {'locations': [[[[652.95855713]\n",
       " [583.81176758...   \n",
       "4  {'locations': [[[[484.9914856 ]\n",
       " [370.73416138...   \n",
       "\n",
       "                                          body_parts  \\\n",
       "0  [left_ear, right_ear, nose, tail_base, thorax,...   \n",
       "1  [left_ear, right_ear, nose, tail_base, thorax,...   \n",
       "2  [left_ear, right_ear, nose, tail_base, thorax,...   \n",
       "3  [left_ear, right_ear, nose, tail_base, thorax,...   \n",
       "4  [left_ear, right_ear, nose, tail_base, thorax,...   \n",
       "\n",
       "                                           locations track_names  \\\n",
       "0  [[[[869.56890869], [248.0728302]], [[885.38555...       [3.3]   \n",
       "1  [[[[656.2857666], [613.16717529]], [[647.76647...       [3.1]   \n",
       "2  [[[[679.97515869], [552.0291748]], [[640.33410...       [4.3]   \n",
       "3  [[[[652.95855713], [583.81176758]], [[637.1974...       [4.2]   \n",
       "4  [[[[484.9914856], [370.73416138]], [[525.18878...       [3.4]   \n",
       "\n",
       "  subject_to_index                                  subject_to_tracks  \n",
       "0       {'3.3': 0}  {'3.3': [[[869.56890869 248.0728302 ], [885.38...  \n",
       "1       {'3.1': 0}  {'3.1': [[[656.2857666  613.16717529], [647.76...  \n",
       "2       {'4.3': 0}  {'4.3': [[[679.97515869 552.0291748 ], [640.33...  \n",
       "3       {'4.2': 0}  {'4.2': [[[652.95855713 583.81176758], [637.19...  \n",
       "4       {'3.4': 0}  {'3.4': [[[484.9914856  370.73416138], [525.18...  "
      ]
     },
     "execution_count": 79,
     "metadata": {},
     "output_type": "execute_result"
    }
   ],
   "source": [
    "START_STOP_FRAME_DF.head()"
   ]
  },
  {
   "cell_type": "markdown",
   "metadata": {},
   "source": [
    "## Getting the coordinates of the corners"
   ]
  },
  {
   "cell_type": "code",
   "execution_count": 80,
   "metadata": {},
   "outputs": [
    {
     "data": {
      "text/plain": [
       "'./data\\\\20240320_142408_alone_comp_subj_3-1_and_3-3\\\\20240320_142408_alone_comp_subj_3-1_and_3-3.1.fixed.1_subj.round_2.id_corrected.h5'"
      ]
     },
     "execution_count": 80,
     "metadata": {},
     "output_type": "execute_result"
    }
   ],
   "source": [
    "START_STOP_FRAME_DF[\"sleap_path\"].iloc[0]"
   ]
  },
  {
   "cell_type": "code",
   "execution_count": 81,
   "metadata": {},
   "outputs": [],
   "source": [
    "# Each corner file is the in the same folder and has the same basename of the pose tracking file \n",
    "START_STOP_FRAME_DF[\"corner_path\"] = START_STOP_FRAME_DF[\"sleap_path\"].apply(lambda x: x.replace(\"id_corrected.h5\", \"corner.h5\").replace(\".fixed\", \"\").replace(\".round_1\", \"\").replace(\".round_3\", \"\").replace(\".round_2\", \"\").replace(\".1_subj\", \"\").replace(\".2_subj\", \"\").replace(\"\\\\\", \"/\"))\n"
   ]
  },
  {
   "cell_type": "code",
   "execution_count": 82,
   "metadata": {},
   "outputs": [
    {
     "name": "stdout",
     "output_type": "stream",
     "text": [
      "./data/20240320_142408_alone_comp_subj_3-1_and_3-3/20240320_142408_alone_comp_subj_3-1_and_3-3.1.corner.h5\n",
      "./data/20240320_142408_alone_comp_subj_3-1_and_3-3/20240320_142408_alone_comp_subj_3-1_and_3-3.2.corner.h5\n",
      "./data/20240320_171038_alone_comp_subj_4-2_and_4-3/20240320_171038_alone_comp_subj_4-2_and_4-3.1.corner.h5\n",
      "./data/20240320_171038_alone_comp_subj_4-2_and_4-3/20240320_171038_alone_comp_subj_4-2_and_4-3.2.corner.h5\n",
      "./data/20240322_120625_alone_comp_subj_3-3_and_3-4/20240322_120625_alone_comp_subj_3-3_and_3-4.1.corner.h5\n",
      "./data/20240322_120625_alone_comp_subj_3-3_and_3-4/20240322_120625_alone_comp_subj_3-3_and_3-4.2.corner.h5\n",
      "./data/20240322_160946_alone_comp_subj_4-3_and_4-4/20240322_160946_alone_comp_subj_4-3_and_4-4.1.corner.h5\n",
      "./data/20240322_160946_alone_comp_subj_4-3_and_4-4/20240322_160946_alone_comp_subj_4-3_and_4-4.2.corner.h5\n",
      "./data/20240323_122227_alone_comp_subj_5-2_and_5-3/20240323_122227_alone_comp_subj_5-2_and_5-3.1.corner.h5\n",
      "./data/20240323_122227_alone_comp_subj_5-2_and_5-3/20240323_122227_alone_comp_subj_5-2_and_5-3.2.corner.h5\n",
      "./data/20240323_144517_alone_comp_subj_3-1_and_3-4/20240323_144517_alone_comp_subj_3-1_and_3-4.1.corner.h5\n",
      "./data/20240323_144517_alone_comp_subj_3-1_and_3-4/20240323_144517_alone_comp_subj_3-1_and_3-4.2.corner.h5\n",
      "./data/20240323_165815_alone_comp_subj_4-2_and_4-4/20240323_165815_alone_comp_subj_4-2_and_4-4.1.corner.h5\n",
      "./data/20240323_165815_alone_comp_subj_4-2_and_4-4/20240323_165815_alone_comp_subj_4-2_and_4-4.2.corner.h5\n"
     ]
    }
   ],
   "source": [
    "for path in START_STOP_FRAME_DF[\"corner_path\"]:\n",
    "    print(path)"
   ]
  },
  {
   "cell_type": "code",
   "execution_count": 83,
   "metadata": {},
   "outputs": [
    {
     "data": {
      "text/plain": [
       "'./data/20240320_142408_alone_comp_subj_3-1_and_3-3/20240320_142408_alone_comp_subj_3-1_and_3-3.1.corner.h5'"
      ]
     },
     "execution_count": 83,
     "metadata": {},
     "output_type": "execute_result"
    }
   ],
   "source": [
    "START_STOP_FRAME_DF[\"corner_path\"].iloc[0]"
   ]
  },
  {
   "cell_type": "code",
   "execution_count": 84,
   "metadata": {},
   "outputs": [],
   "source": [
    "# Getting the indexes of each corner location\n",
    "START_STOP_FRAME_DF[\"corner_parts\"] = START_STOP_FRAME_DF[\"corner_path\"].apply(lambda x: sleap.process_pose.get_node_names_from_sleap(x))"
   ]
  },
  {
   "cell_type": "code",
   "execution_count": 85,
   "metadata": {},
   "outputs": [
    {
     "data": {
      "text/plain": [
       "0     [box_top_right, box_bottom_right, box_top_left...\n",
       "1     [box_top_right, box_top_left, box_bottom_right...\n",
       "2     [box_top_right, box_bottom_right, box_top_left...\n",
       "3     [box_top_right, box_top_left, box_bottom_right...\n",
       "4     [box_top_right, box_bottom_right, box_top_left...\n",
       "5     [box_top_right, box_top_left, box_bottom_right...\n",
       "6     [box_top_right, box_bottom_right, box_top_left...\n",
       "7     [box_top_right, box_top_left, box_bottom_right...\n",
       "8     [box_top_right, box_bottom_right, box_top_left...\n",
       "9     [box_top_right, box_top_left, box_bottom_right...\n",
       "10    [box_top_right, box_bottom_right, box_top_left...\n",
       "11    [box_top_right, box_top_left, box_bottom_right...\n",
       "12    [box_top_right, box_bottom_right, box_top_left...\n",
       "13    [box_top_right, box_top_left, box_bottom_right...\n",
       "Name: corner_parts, dtype: object"
      ]
     },
     "execution_count": 85,
     "metadata": {},
     "output_type": "execute_result"
    }
   ],
   "source": [
    "START_STOP_FRAME_DF[\"corner_parts\"]"
   ]
  },
  {
   "cell_type": "code",
   "execution_count": 86,
   "metadata": {
    "tags": []
   },
   "outputs": [],
   "source": [
    "# TODO: Remove this once corner files are fixed\n",
    "START_STOP_FRAME_DF = START_STOP_FRAME_DF[START_STOP_FRAME_DF[\"corner_parts\"].apply(lambda x: \"reward_port\" in x)]"
   ]
  },
  {
   "cell_type": "code",
   "execution_count": 87,
   "metadata": {},
   "outputs": [],
   "source": [
    "# Getting the coordinates of all the corners\n",
    "START_STOP_FRAME_DF[\"corner_to_coordinate\"] = START_STOP_FRAME_DF[\"corner_path\"].apply(lambda x: sleap.process_pose.get_sleap_tracks_from_h5(x))"
   ]
  },
  {
   "cell_type": "code",
   "execution_count": 88,
   "metadata": {},
   "outputs": [],
   "source": [
    "# Parsing out each corner and creating a dictionary of name to coordinates\n",
    "START_STOP_FRAME_DF[\"corner_to_coordinate\"] = START_STOP_FRAME_DF.apply(lambda x: {part: x[\"corner_to_coordinate\"][:,index,:,:] for index, part in enumerate(x[\"corner_parts\"])}, axis=1)"
   ]
  },
  {
   "cell_type": "code",
   "execution_count": 89,
   "metadata": {
    "tags": []
   },
   "outputs": [
    {
     "data": {
      "text/plain": [
       "0     {'box_top_right': [[[794.69379489], [140.52399...\n",
       "1     {'box_top_right': [[[799.37518919], [207.58692...\n",
       "2     {'box_top_right': [[[786.93568988], [138.79375...\n",
       "3     {'box_top_right': [[[796.83422803], [199.32358...\n",
       "4     {'box_top_right': [[[794.99204066], [146.36912...\n",
       "5     {'box_top_right': [[[800.37475511], [210.24346...\n",
       "6     {'box_top_right': [[[791.77604498], [147.79694...\n",
       "7     {'box_top_right': [[[793.79413905], [215.56562...\n",
       "8     {'box_top_right': [[[798.31429824], [143.32778...\n",
       "9     {'box_top_right': [[[801.49731028], [207.00535...\n",
       "10    {'box_top_right': [[[797.85866946], [146.93354...\n",
       "11    {'box_top_right': [[[799.42156906], [202.60007...\n",
       "12    {'box_top_right': [[[798.1168476], [144.988990...\n",
       "13    {'box_top_right': [[[797.58988006], [206.19788...\n",
       "Name: corner_to_coordinate, dtype: object"
      ]
     },
     "execution_count": 89,
     "metadata": {},
     "output_type": "execute_result"
    }
   ],
   "source": [
    "START_STOP_FRAME_DF[\"corner_to_coordinate\"]"
   ]
  },
  {
   "cell_type": "code",
   "execution_count": 90,
   "metadata": {},
   "outputs": [],
   "source": [
    "# Filtering out all the Nans because there's only one labeled frame\n",
    "START_STOP_FRAME_DF[\"corner_to_coordinate\"] = START_STOP_FRAME_DF.apply(lambda x: {k: v[~np.isnan(v)][:2] for k, v in x[\"corner_to_coordinate\"].items()}, axis=1)"
   ]
  },
  {
   "cell_type": "code",
   "execution_count": 91,
   "metadata": {},
   "outputs": [
    {
     "data": {
      "text/plain": [
       "0     {'box_top_right': [794.6937948883963, 140.5239...\n",
       "1     {'box_top_right': [799.3751891891584, 207.5869...\n",
       "2     {'box_top_right': [786.9356898768796, 138.7937...\n",
       "3     {'box_top_right': [796.8342280315073, 199.3235...\n",
       "4     {'box_top_right': [794.9920406619647, 146.3691...\n",
       "5     {'box_top_right': [800.3747551060592, 210.2434...\n",
       "6     {'box_top_right': [791.7760449834286, 147.7969...\n",
       "7     {'box_top_right': [793.7941390511091, 215.5656...\n",
       "8     {'box_top_right': [798.3142982402522, 143.3277...\n",
       "9     {'box_top_right': [801.4973102795715, 207.0053...\n",
       "10    {'box_top_right': [797.8586694592238, 146.9335...\n",
       "11    {'box_top_right': [799.4215690597116, 202.6000...\n",
       "12    {'box_top_right': [798.1168475953126, 144.9889...\n",
       "13    {'box_top_right': [797.5898800589308, 206.1978...\n",
       "Name: corner_to_coordinate, dtype: object"
      ]
     },
     "execution_count": 91,
     "metadata": {},
     "output_type": "execute_result"
    }
   ],
   "source": [
    "START_STOP_FRAME_DF[\"corner_to_coordinate\"]"
   ]
  },
  {
   "cell_type": "markdown",
   "metadata": {},
   "source": [
    "# Getting the distances between corners"
   ]
  },
  {
   "cell_type": "markdown",
   "metadata": {},
   "source": [
    "- Getting the average width and height so that we can convert pixels to cm"
   ]
  },
  {
   "cell_type": "code",
   "execution_count": 92,
   "metadata": {},
   "outputs": [],
   "source": [
    "# Using the x-coordinates for the width\n",
    "START_STOP_FRAME_DF[\"bottom_width\"] = START_STOP_FRAME_DF[\"corner_to_coordinate\"].apply(lambda x: x[\"box_bottom_right\"][0] - x[\"box_bottom_left\"][0])\n",
    "START_STOP_FRAME_DF[\"top_width\"] = START_STOP_FRAME_DF[\"corner_to_coordinate\"].apply(lambda x: x[\"box_top_right\"][0] - x[\"box_top_left\"][0])\n"
   ]
  },
  {
   "cell_type": "code",
   "execution_count": 93,
   "metadata": {},
   "outputs": [],
   "source": [
    "# Using the y-coordinates for the height\n",
    "START_STOP_FRAME_DF[\"right_height\"] = START_STOP_FRAME_DF[\"corner_to_coordinate\"].apply(lambda x: x[\"box_bottom_right\"][1] - x[\"box_top_right\"][1])\n",
    "START_STOP_FRAME_DF[\"left_height\"] = START_STOP_FRAME_DF[\"corner_to_coordinate\"].apply(lambda x: x[\"box_bottom_left\"][1] - x[\"box_top_left\"][1])\n"
   ]
  },
  {
   "cell_type": "code",
   "execution_count": 94,
   "metadata": {},
   "outputs": [],
   "source": [
    "# averaging the width and height by adding both sides and then getting the mean\n",
    "START_STOP_FRAME_DF[\"average_height\"] = START_STOP_FRAME_DF.apply(lambda row: (row[\"right_height\"] + row[\"left_height\"])/2, axis=1)\n",
    "START_STOP_FRAME_DF[\"average_width\"] = START_STOP_FRAME_DF.apply(lambda row: (row[\"bottom_width\"] + row[\"top_width\"])/2, axis=1)"
   ]
  },
  {
   "cell_type": "markdown",
   "metadata": {},
   "source": [
    "- Getthing the pixel to cm ratio"
   ]
  },
  {
   "cell_type": "code",
   "execution_count": 95,
   "metadata": {},
   "outputs": [],
   "source": [
    "START_STOP_FRAME_DF[\"width_ratio\"] = MED_PC_WIDTH / START_STOP_FRAME_DF[\"average_width\"]\n",
    "START_STOP_FRAME_DF[\"height_ratio\"] = MED_PC_HEIGHT / START_STOP_FRAME_DF[\"average_height\"]"
   ]
  },
  {
   "cell_type": "code",
   "execution_count": 96,
   "metadata": {},
   "outputs": [
    {
     "data": {
      "text/plain": [
       "0     0.093446\n",
       "1     0.093391\n",
       "2     0.094355\n",
       "3     0.094637\n",
       "4     0.093614\n",
       "5     0.093944\n",
       "6     0.093866\n",
       "7     0.094537\n",
       "8     0.092309\n",
       "9     0.094318\n",
       "10    0.092618\n",
       "11    0.092966\n",
       "12    0.093712\n",
       "13    0.093863\n",
       "Name: width_ratio, dtype: float64"
      ]
     },
     "execution_count": 96,
     "metadata": {},
     "output_type": "execute_result"
    }
   ],
   "source": [
    "START_STOP_FRAME_DF[\"width_ratio\"]"
   ]
  },
  {
   "cell_type": "code",
   "execution_count": 97,
   "metadata": {},
   "outputs": [
    {
     "data": {
      "text/plain": [
       "0     0.061215\n",
       "1     0.062556\n",
       "2     0.061209\n",
       "3     0.061771\n",
       "4     0.060985\n",
       "5     0.062011\n",
       "6     0.060953\n",
       "7     0.062465\n",
       "8     0.060977\n",
       "9     0.060995\n",
       "10    0.061329\n",
       "11    0.061295\n",
       "12    0.060046\n",
       "13    0.062302\n",
       "Name: height_ratio, dtype: float64"
      ]
     },
     "execution_count": 97,
     "metadata": {},
     "output_type": "execute_result"
    }
   ],
   "source": [
    "START_STOP_FRAME_DF[\"height_ratio\"]"
   ]
  },
  {
   "cell_type": "code",
   "execution_count": 98,
   "metadata": {},
   "outputs": [
    {
     "data": {
      "text/html": [
       "<div>\n",
       "<style scoped>\n",
       "    .dataframe tbody tr th:only-of-type {\n",
       "        vertical-align: middle;\n",
       "    }\n",
       "\n",
       "    .dataframe tbody tr th {\n",
       "        vertical-align: top;\n",
       "    }\n",
       "\n",
       "    .dataframe thead th {\n",
       "        text-align: right;\n",
       "    }\n",
       "</style>\n",
       "<table border=\"1\" class=\"dataframe\">\n",
       "  <thead>\n",
       "    <tr style=\"text-align: right;\">\n",
       "      <th></th>\n",
       "      <th>start_frame</th>\n",
       "      <th>stop_frame</th>\n",
       "      <th>tracked_subject</th>\n",
       "      <th>in_video_subjects</th>\n",
       "      <th>box_number</th>\n",
       "      <th>sleap_name</th>\n",
       "      <th>video_name</th>\n",
       "      <th>current_subject</th>\n",
       "      <th>sleap_glob</th>\n",
       "      <th>sleap_path</th>\n",
       "      <th>...</th>\n",
       "      <th>corner_parts</th>\n",
       "      <th>corner_to_coordinate</th>\n",
       "      <th>bottom_width</th>\n",
       "      <th>top_width</th>\n",
       "      <th>right_height</th>\n",
       "      <th>left_height</th>\n",
       "      <th>average_height</th>\n",
       "      <th>average_width</th>\n",
       "      <th>width_ratio</th>\n",
       "      <th>height_ratio</th>\n",
       "    </tr>\n",
       "  </thead>\n",
       "  <tbody>\n",
       "    <tr>\n",
       "      <th>0</th>\n",
       "      <td>1</td>\n",
       "      <td>30500</td>\n",
       "      <td>[3.3]</td>\n",
       "      <td>3.1_3.3</td>\n",
       "      <td>1</td>\n",
       "      <td>20240320_142408_alone_comp_subj_3-1_and_3-3.1....</td>\n",
       "      <td>20240320_142408_alone_comp_subj_3-1_and_3-3.1</td>\n",
       "      <td>3.3</td>\n",
       "      <td>[./data\\20240320_142408_alone_comp_subj_3-1_an...</td>\n",
       "      <td>./data\\20240320_142408_alone_comp_subj_3-1_and...</td>\n",
       "      <td>...</td>\n",
       "      <td>[box_top_right, box_bottom_right, box_top_left...</td>\n",
       "      <td>{'box_top_right': [794.6937948883963, 140.5239...</td>\n",
       "      <td>313.159588</td>\n",
       "      <td>318.222032</td>\n",
       "      <td>392.230308</td>\n",
       "      <td>391.894156</td>\n",
       "      <td>392.062232</td>\n",
       "      <td>315.690810</td>\n",
       "      <td>0.093446</td>\n",
       "      <td>0.061215</td>\n",
       "    </tr>\n",
       "    <tr>\n",
       "      <th>1</th>\n",
       "      <td>1</td>\n",
       "      <td>30500</td>\n",
       "      <td>[3.1]</td>\n",
       "      <td>3.1_3.3</td>\n",
       "      <td>2</td>\n",
       "      <td>20240320_142408_alone_comp_subj_3-1_and_3-3.2....</td>\n",
       "      <td>20240320_142408_alone_comp_subj_3-1_and_3-3.2</td>\n",
       "      <td>3.1</td>\n",
       "      <td>[./data\\20240320_142408_alone_comp_subj_3-1_an...</td>\n",
       "      <td>./data\\20240320_142408_alone_comp_subj_3-1_and...</td>\n",
       "      <td>...</td>\n",
       "      <td>[box_top_right, box_top_left, box_bottom_right...</td>\n",
       "      <td>{'box_top_right': [799.3751891891584, 207.5869...</td>\n",
       "      <td>320.993215</td>\n",
       "      <td>310.758889</td>\n",
       "      <td>381.050571</td>\n",
       "      <td>386.258492</td>\n",
       "      <td>383.654532</td>\n",
       "      <td>315.876052</td>\n",
       "      <td>0.093391</td>\n",
       "      <td>0.062556</td>\n",
       "    </tr>\n",
       "    <tr>\n",
       "      <th>2</th>\n",
       "      <td>1</td>\n",
       "      <td>30500</td>\n",
       "      <td>[4.3]</td>\n",
       "      <td>4.2_4.3</td>\n",
       "      <td>1</td>\n",
       "      <td>20240320_171038_alone_comp_subj_4-2_and_4-3.1....</td>\n",
       "      <td>20240320_171038_alone_comp_subj_4-2_and_4-3.1</td>\n",
       "      <td>4.3</td>\n",
       "      <td>[./data\\20240320_171038_alone_comp_subj_4-2_an...</td>\n",
       "      <td>./data\\20240320_171038_alone_comp_subj_4-2_and...</td>\n",
       "      <td>...</td>\n",
       "      <td>[box_top_right, box_bottom_right, box_top_left...</td>\n",
       "      <td>{'box_top_right': [786.9356898768796, 138.7937...</td>\n",
       "      <td>313.180772</td>\n",
       "      <td>312.115659</td>\n",
       "      <td>393.771087</td>\n",
       "      <td>390.423247</td>\n",
       "      <td>392.097167</td>\n",
       "      <td>312.648215</td>\n",
       "      <td>0.094355</td>\n",
       "      <td>0.061209</td>\n",
       "    </tr>\n",
       "    <tr>\n",
       "      <th>3</th>\n",
       "      <td>1</td>\n",
       "      <td>30500</td>\n",
       "      <td>[4.2]</td>\n",
       "      <td>4.2_4.3</td>\n",
       "      <td>2</td>\n",
       "      <td>20240320_171038_alone_comp_subj_4-2_and_4-3.2....</td>\n",
       "      <td>20240320_171038_alone_comp_subj_4-2_and_4-3.2</td>\n",
       "      <td>4.2</td>\n",
       "      <td>[./data\\20240320_171038_alone_comp_subj_4-2_an...</td>\n",
       "      <td>./data\\20240320_171038_alone_comp_subj_4-2_and...</td>\n",
       "      <td>...</td>\n",
       "      <td>[box_top_right, box_top_left, box_bottom_right...</td>\n",
       "      <td>{'box_top_right': [796.8342280315073, 199.3235...</td>\n",
       "      <td>313.997776</td>\n",
       "      <td>309.438144</td>\n",
       "      <td>390.025126</td>\n",
       "      <td>387.038583</td>\n",
       "      <td>388.531854</td>\n",
       "      <td>311.717960</td>\n",
       "      <td>0.094637</td>\n",
       "      <td>0.061771</td>\n",
       "    </tr>\n",
       "    <tr>\n",
       "      <th>4</th>\n",
       "      <td>1</td>\n",
       "      <td>30500</td>\n",
       "      <td>[3.4]</td>\n",
       "      <td>3.3_3.4</td>\n",
       "      <td>1</td>\n",
       "      <td>20240322_120625_alone_comp_subj_3-3_and_3-4.1....</td>\n",
       "      <td>20240322_120625_alone_comp_subj_3-3_and_3-4.1</td>\n",
       "      <td>3.4</td>\n",
       "      <td>[./data\\20240322_120625_alone_comp_subj_3-3_an...</td>\n",
       "      <td>./data\\20240322_120625_alone_comp_subj_3-3_and...</td>\n",
       "      <td>...</td>\n",
       "      <td>[box_top_right, box_bottom_right, box_top_left...</td>\n",
       "      <td>{'box_top_right': [794.9920406619647, 146.3691...</td>\n",
       "      <td>315.545530</td>\n",
       "      <td>314.702270</td>\n",
       "      <td>395.661099</td>\n",
       "      <td>391.411856</td>\n",
       "      <td>393.536477</td>\n",
       "      <td>315.123900</td>\n",
       "      <td>0.093614</td>\n",
       "      <td>0.060985</td>\n",
       "    </tr>\n",
       "    <tr>\n",
       "      <th>5</th>\n",
       "      <td>1</td>\n",
       "      <td>30500</td>\n",
       "      <td>[3.3]</td>\n",
       "      <td>3.3_3.4</td>\n",
       "      <td>2</td>\n",
       "      <td>20240322_120625_alone_comp_subj_3-3_and_3-4.2....</td>\n",
       "      <td>20240322_120625_alone_comp_subj_3-3_and_3-4.2</td>\n",
       "      <td>3.3</td>\n",
       "      <td>[./data\\20240322_120625_alone_comp_subj_3-3_an...</td>\n",
       "      <td>./data\\20240322_120625_alone_comp_subj_3-3_and...</td>\n",
       "      <td>...</td>\n",
       "      <td>[box_top_right, box_top_left, box_bottom_right...</td>\n",
       "      <td>{'box_top_right': [800.3747551060592, 210.2434...</td>\n",
       "      <td>320.598479</td>\n",
       "      <td>307.435077</td>\n",
       "      <td>390.073465</td>\n",
       "      <td>383.984316</td>\n",
       "      <td>387.028891</td>\n",
       "      <td>314.016778</td>\n",
       "      <td>0.093944</td>\n",
       "      <td>0.062011</td>\n",
       "    </tr>\n",
       "    <tr>\n",
       "      <th>6</th>\n",
       "      <td>1</td>\n",
       "      <td>30500</td>\n",
       "      <td>[4.4]</td>\n",
       "      <td>4.3_4.4</td>\n",
       "      <td>1</td>\n",
       "      <td>20240322_160946_alone_comp_subj_4-3_and_4-4.1....</td>\n",
       "      <td>20240322_160946_alone_comp_subj_4-3_and_4-4.1</td>\n",
       "      <td>4.4</td>\n",
       "      <td>[./data\\20240322_160946_alone_comp_subj_4-3_an...</td>\n",
       "      <td>./data\\20240322_160946_alone_comp_subj_4-3_and...</td>\n",
       "      <td>...</td>\n",
       "      <td>[box_top_right, box_bottom_right, box_top_left...</td>\n",
       "      <td>{'box_top_right': [791.7760449834286, 147.7969...</td>\n",
       "      <td>316.724396</td>\n",
       "      <td>311.830759</td>\n",
       "      <td>395.019016</td>\n",
       "      <td>392.467341</td>\n",
       "      <td>393.743178</td>\n",
       "      <td>314.277577</td>\n",
       "      <td>0.093866</td>\n",
       "      <td>0.060953</td>\n",
       "    </tr>\n",
       "    <tr>\n",
       "      <th>7</th>\n",
       "      <td>1</td>\n",
       "      <td>30500</td>\n",
       "      <td>[4.3]</td>\n",
       "      <td>4.3_4.4</td>\n",
       "      <td>2</td>\n",
       "      <td>20240322_160946_alone_comp_subj_4-3_and_4-4.2....</td>\n",
       "      <td>20240322_160946_alone_comp_subj_4-3_and_4-4.2</td>\n",
       "      <td>4.3</td>\n",
       "      <td>[./data\\20240322_160946_alone_comp_subj_4-3_an...</td>\n",
       "      <td>./data\\20240322_160946_alone_comp_subj_4-3_and...</td>\n",
       "      <td>...</td>\n",
       "      <td>[box_top_right, box_top_left, box_bottom_right...</td>\n",
       "      <td>{'box_top_right': [793.7941390511091, 215.5656...</td>\n",
       "      <td>322.786533</td>\n",
       "      <td>301.306976</td>\n",
       "      <td>383.410530</td>\n",
       "      <td>385.018173</td>\n",
       "      <td>384.214351</td>\n",
       "      <td>312.046754</td>\n",
       "      <td>0.094537</td>\n",
       "      <td>0.062465</td>\n",
       "    </tr>\n",
       "    <tr>\n",
       "      <th>8</th>\n",
       "      <td>1</td>\n",
       "      <td>30500</td>\n",
       "      <td>[5.2]</td>\n",
       "      <td>5.2_5.3</td>\n",
       "      <td>1</td>\n",
       "      <td>20240323_122227_alone_comp_subj_5-2_and_5-3.1....</td>\n",
       "      <td>20240323_122227_alone_comp_subj_5-2_and_5-3.1</td>\n",
       "      <td>5.2</td>\n",
       "      <td>[./data\\20240323_122227_alone_comp_subj_5-2_an...</td>\n",
       "      <td>./data\\20240323_122227_alone_comp_subj_5-2_and...</td>\n",
       "      <td>...</td>\n",
       "      <td>[box_top_right, box_bottom_right, box_top_left...</td>\n",
       "      <td>{'box_top_right': [798.3142982402522, 143.3277...</td>\n",
       "      <td>318.703490</td>\n",
       "      <td>320.456038</td>\n",
       "      <td>398.440604</td>\n",
       "      <td>388.746663</td>\n",
       "      <td>393.593633</td>\n",
       "      <td>319.579764</td>\n",
       "      <td>0.092309</td>\n",
       "      <td>0.060977</td>\n",
       "    </tr>\n",
       "    <tr>\n",
       "      <th>9</th>\n",
       "      <td>1</td>\n",
       "      <td>30500</td>\n",
       "      <td>[5.3]</td>\n",
       "      <td>5.2_5.3</td>\n",
       "      <td>2</td>\n",
       "      <td>20240323_122227_alone_comp_subj_5-2_and_5-3.2....</td>\n",
       "      <td>20240323_122227_alone_comp_subj_5-2_and_5-3.2</td>\n",
       "      <td>5.3</td>\n",
       "      <td>[./data\\20240323_122227_alone_comp_subj_5-2_an...</td>\n",
       "      <td>./data\\20240323_122227_alone_comp_subj_5-2_and...</td>\n",
       "      <td>...</td>\n",
       "      <td>[box_top_right, box_top_left, box_bottom_right...</td>\n",
       "      <td>{'box_top_right': [801.4973102795715, 207.0053...</td>\n",
       "      <td>316.734050</td>\n",
       "      <td>308.811376</td>\n",
       "      <td>400.447503</td>\n",
       "      <td>386.505119</td>\n",
       "      <td>393.476311</td>\n",
       "      <td>312.772713</td>\n",
       "      <td>0.094318</td>\n",
       "      <td>0.060995</td>\n",
       "    </tr>\n",
       "    <tr>\n",
       "      <th>10</th>\n",
       "      <td>1000</td>\n",
       "      <td>31000</td>\n",
       "      <td>[3.1]</td>\n",
       "      <td>3.1_3.4</td>\n",
       "      <td>1</td>\n",
       "      <td>20240323_144517_alone_comp_subj_3-1_and_3-4.1....</td>\n",
       "      <td>20240323_144517_alone_comp_subj_3-1_and_3-4.1</td>\n",
       "      <td>3.1</td>\n",
       "      <td>[./data\\20240323_144517_alone_comp_subj_3-1_an...</td>\n",
       "      <td>./data\\20240323_144517_alone_comp_subj_3-1_and...</td>\n",
       "      <td>...</td>\n",
       "      <td>[box_top_right, box_bottom_right, box_top_left...</td>\n",
       "      <td>{'box_top_right': [797.8586694592238, 146.9335...</td>\n",
       "      <td>317.146819</td>\n",
       "      <td>319.876508</td>\n",
       "      <td>394.291647</td>\n",
       "      <td>388.370126</td>\n",
       "      <td>391.330886</td>\n",
       "      <td>318.511663</td>\n",
       "      <td>0.092618</td>\n",
       "      <td>0.061329</td>\n",
       "    </tr>\n",
       "    <tr>\n",
       "      <th>11</th>\n",
       "      <td>1000</td>\n",
       "      <td>31000</td>\n",
       "      <td>[3.4]</td>\n",
       "      <td>3.1_3.4</td>\n",
       "      <td>2</td>\n",
       "      <td>20240323_144517_alone_comp_subj_3-1_and_3-4.2....</td>\n",
       "      <td>20240323_144517_alone_comp_subj_3-1_and_3-4.2</td>\n",
       "      <td>3.4</td>\n",
       "      <td>[./data\\20240323_144517_alone_comp_subj_3-1_an...</td>\n",
       "      <td>./data\\20240323_144517_alone_comp_subj_3-1_and...</td>\n",
       "      <td>...</td>\n",
       "      <td>[box_top_right, box_top_left, box_bottom_right...</td>\n",
       "      <td>{'box_top_right': [799.4215690597116, 202.6000...</td>\n",
       "      <td>325.892557</td>\n",
       "      <td>308.745591</td>\n",
       "      <td>401.390423</td>\n",
       "      <td>381.701741</td>\n",
       "      <td>391.546082</td>\n",
       "      <td>317.319074</td>\n",
       "      <td>0.092966</td>\n",
       "      <td>0.061295</td>\n",
       "    </tr>\n",
       "    <tr>\n",
       "      <th>12</th>\n",
       "      <td>1</td>\n",
       "      <td>35500</td>\n",
       "      <td>[4.2]</td>\n",
       "      <td>4.2_4.4</td>\n",
       "      <td>1</td>\n",
       "      <td>20240323_165815_alone_comp_subj_4-2_and_4-4.1....</td>\n",
       "      <td>20240323_165815_alone_comp_subj_4-2_and_4-4.1</td>\n",
       "      <td>4.2</td>\n",
       "      <td>[./data\\20240323_165815_alone_comp_subj_4-2_an...</td>\n",
       "      <td>./data\\20240323_165815_alone_comp_subj_4-2_and...</td>\n",
       "      <td>...</td>\n",
       "      <td>[box_top_right, box_bottom_right, box_top_left...</td>\n",
       "      <td>{'box_top_right': [798.1168475953126, 144.9889...</td>\n",
       "      <td>313.078738</td>\n",
       "      <td>316.508193</td>\n",
       "      <td>396.935892</td>\n",
       "      <td>402.447818</td>\n",
       "      <td>399.691855</td>\n",
       "      <td>314.793465</td>\n",
       "      <td>0.093712</td>\n",
       "      <td>0.060046</td>\n",
       "    </tr>\n",
       "    <tr>\n",
       "      <th>13</th>\n",
       "      <td>1</td>\n",
       "      <td>35500</td>\n",
       "      <td>[4.4]</td>\n",
       "      <td>4.2_4.4</td>\n",
       "      <td>2</td>\n",
       "      <td>20240323_165815_alone_comp_subj_4-2_and_4-4.2....</td>\n",
       "      <td>20240323_165815_alone_comp_subj_4-2_and_4-4.2</td>\n",
       "      <td>4.4</td>\n",
       "      <td>[./data\\20240323_165815_alone_comp_subj_4-2_an...</td>\n",
       "      <td>./data\\20240323_165815_alone_comp_subj_4-2_and...</td>\n",
       "      <td>...</td>\n",
       "      <td>[box_top_right, box_top_left, box_bottom_right...</td>\n",
       "      <td>{'box_top_right': [797.5898800589308, 206.1978...</td>\n",
       "      <td>319.565652</td>\n",
       "      <td>309.009108</td>\n",
       "      <td>384.999940</td>\n",
       "      <td>385.440149</td>\n",
       "      <td>385.220045</td>\n",
       "      <td>314.287380</td>\n",
       "      <td>0.093863</td>\n",
       "      <td>0.062302</td>\n",
       "    </tr>\n",
       "  </tbody>\n",
       "</table>\n",
       "<p>14 rows × 27 columns</p>\n",
       "</div>"
      ],
      "text/plain": [
       "    start_frame  stop_frame tracked_subject in_video_subjects  box_number  \\\n",
       "0             1       30500           [3.3]           3.1_3.3           1   \n",
       "1             1       30500           [3.1]           3.1_3.3           2   \n",
       "2             1       30500           [4.3]           4.2_4.3           1   \n",
       "3             1       30500           [4.2]           4.2_4.3           2   \n",
       "4             1       30500           [3.4]           3.3_3.4           1   \n",
       "5             1       30500           [3.3]           3.3_3.4           2   \n",
       "6             1       30500           [4.4]           4.3_4.4           1   \n",
       "7             1       30500           [4.3]           4.3_4.4           2   \n",
       "8             1       30500           [5.2]           5.2_5.3           1   \n",
       "9             1       30500           [5.3]           5.2_5.3           2   \n",
       "10         1000       31000           [3.1]           3.1_3.4           1   \n",
       "11         1000       31000           [3.4]           3.1_3.4           2   \n",
       "12            1       35500           [4.2]           4.2_4.4           1   \n",
       "13            1       35500           [4.4]           4.2_4.4           2   \n",
       "\n",
       "                                           sleap_name  \\\n",
       "0   20240320_142408_alone_comp_subj_3-1_and_3-3.1....   \n",
       "1   20240320_142408_alone_comp_subj_3-1_and_3-3.2....   \n",
       "2   20240320_171038_alone_comp_subj_4-2_and_4-3.1....   \n",
       "3   20240320_171038_alone_comp_subj_4-2_and_4-3.2....   \n",
       "4   20240322_120625_alone_comp_subj_3-3_and_3-4.1....   \n",
       "5   20240322_120625_alone_comp_subj_3-3_and_3-4.2....   \n",
       "6   20240322_160946_alone_comp_subj_4-3_and_4-4.1....   \n",
       "7   20240322_160946_alone_comp_subj_4-3_and_4-4.2....   \n",
       "8   20240323_122227_alone_comp_subj_5-2_and_5-3.1....   \n",
       "9   20240323_122227_alone_comp_subj_5-2_and_5-3.2....   \n",
       "10  20240323_144517_alone_comp_subj_3-1_and_3-4.1....   \n",
       "11  20240323_144517_alone_comp_subj_3-1_and_3-4.2....   \n",
       "12  20240323_165815_alone_comp_subj_4-2_and_4-4.1....   \n",
       "13  20240323_165815_alone_comp_subj_4-2_and_4-4.2....   \n",
       "\n",
       "                                       video_name current_subject  \\\n",
       "0   20240320_142408_alone_comp_subj_3-1_and_3-3.1             3.3   \n",
       "1   20240320_142408_alone_comp_subj_3-1_and_3-3.2             3.1   \n",
       "2   20240320_171038_alone_comp_subj_4-2_and_4-3.1             4.3   \n",
       "3   20240320_171038_alone_comp_subj_4-2_and_4-3.2             4.2   \n",
       "4   20240322_120625_alone_comp_subj_3-3_and_3-4.1             3.4   \n",
       "5   20240322_120625_alone_comp_subj_3-3_and_3-4.2             3.3   \n",
       "6   20240322_160946_alone_comp_subj_4-3_and_4-4.1             4.4   \n",
       "7   20240322_160946_alone_comp_subj_4-3_and_4-4.2             4.3   \n",
       "8   20240323_122227_alone_comp_subj_5-2_and_5-3.1             5.2   \n",
       "9   20240323_122227_alone_comp_subj_5-2_and_5-3.2             5.3   \n",
       "10  20240323_144517_alone_comp_subj_3-1_and_3-4.1             3.1   \n",
       "11  20240323_144517_alone_comp_subj_3-1_and_3-4.2             3.4   \n",
       "12  20240323_165815_alone_comp_subj_4-2_and_4-4.1             4.2   \n",
       "13  20240323_165815_alone_comp_subj_4-2_and_4-4.2             4.4   \n",
       "\n",
       "                                           sleap_glob  \\\n",
       "0   [./data\\20240320_142408_alone_comp_subj_3-1_an...   \n",
       "1   [./data\\20240320_142408_alone_comp_subj_3-1_an...   \n",
       "2   [./data\\20240320_171038_alone_comp_subj_4-2_an...   \n",
       "3   [./data\\20240320_171038_alone_comp_subj_4-2_an...   \n",
       "4   [./data\\20240322_120625_alone_comp_subj_3-3_an...   \n",
       "5   [./data\\20240322_120625_alone_comp_subj_3-3_an...   \n",
       "6   [./data\\20240322_160946_alone_comp_subj_4-3_an...   \n",
       "7   [./data\\20240322_160946_alone_comp_subj_4-3_an...   \n",
       "8   [./data\\20240323_122227_alone_comp_subj_5-2_an...   \n",
       "9   [./data\\20240323_122227_alone_comp_subj_5-2_an...   \n",
       "10  [./data\\20240323_144517_alone_comp_subj_3-1_an...   \n",
       "11  [./data\\20240323_144517_alone_comp_subj_3-1_an...   \n",
       "12  [./data\\20240323_165815_alone_comp_subj_4-2_an...   \n",
       "13  [./data\\20240323_165815_alone_comp_subj_4-2_an...   \n",
       "\n",
       "                                           sleap_path  ...  \\\n",
       "0   ./data\\20240320_142408_alone_comp_subj_3-1_and...  ...   \n",
       "1   ./data\\20240320_142408_alone_comp_subj_3-1_and...  ...   \n",
       "2   ./data\\20240320_171038_alone_comp_subj_4-2_and...  ...   \n",
       "3   ./data\\20240320_171038_alone_comp_subj_4-2_and...  ...   \n",
       "4   ./data\\20240322_120625_alone_comp_subj_3-3_and...  ...   \n",
       "5   ./data\\20240322_120625_alone_comp_subj_3-3_and...  ...   \n",
       "6   ./data\\20240322_160946_alone_comp_subj_4-3_and...  ...   \n",
       "7   ./data\\20240322_160946_alone_comp_subj_4-3_and...  ...   \n",
       "8   ./data\\20240323_122227_alone_comp_subj_5-2_and...  ...   \n",
       "9   ./data\\20240323_122227_alone_comp_subj_5-2_and...  ...   \n",
       "10  ./data\\20240323_144517_alone_comp_subj_3-1_and...  ...   \n",
       "11  ./data\\20240323_144517_alone_comp_subj_3-1_and...  ...   \n",
       "12  ./data\\20240323_165815_alone_comp_subj_4-2_and...  ...   \n",
       "13  ./data\\20240323_165815_alone_comp_subj_4-2_and...  ...   \n",
       "\n",
       "                                         corner_parts  \\\n",
       "0   [box_top_right, box_bottom_right, box_top_left...   \n",
       "1   [box_top_right, box_top_left, box_bottom_right...   \n",
       "2   [box_top_right, box_bottom_right, box_top_left...   \n",
       "3   [box_top_right, box_top_left, box_bottom_right...   \n",
       "4   [box_top_right, box_bottom_right, box_top_left...   \n",
       "5   [box_top_right, box_top_left, box_bottom_right...   \n",
       "6   [box_top_right, box_bottom_right, box_top_left...   \n",
       "7   [box_top_right, box_top_left, box_bottom_right...   \n",
       "8   [box_top_right, box_bottom_right, box_top_left...   \n",
       "9   [box_top_right, box_top_left, box_bottom_right...   \n",
       "10  [box_top_right, box_bottom_right, box_top_left...   \n",
       "11  [box_top_right, box_top_left, box_bottom_right...   \n",
       "12  [box_top_right, box_bottom_right, box_top_left...   \n",
       "13  [box_top_right, box_top_left, box_bottom_right...   \n",
       "\n",
       "                                 corner_to_coordinate bottom_width  \\\n",
       "0   {'box_top_right': [794.6937948883963, 140.5239...   313.159588   \n",
       "1   {'box_top_right': [799.3751891891584, 207.5869...   320.993215   \n",
       "2   {'box_top_right': [786.9356898768796, 138.7937...   313.180772   \n",
       "3   {'box_top_right': [796.8342280315073, 199.3235...   313.997776   \n",
       "4   {'box_top_right': [794.9920406619647, 146.3691...   315.545530   \n",
       "5   {'box_top_right': [800.3747551060592, 210.2434...   320.598479   \n",
       "6   {'box_top_right': [791.7760449834286, 147.7969...   316.724396   \n",
       "7   {'box_top_right': [793.7941390511091, 215.5656...   322.786533   \n",
       "8   {'box_top_right': [798.3142982402522, 143.3277...   318.703490   \n",
       "9   {'box_top_right': [801.4973102795715, 207.0053...   316.734050   \n",
       "10  {'box_top_right': [797.8586694592238, 146.9335...   317.146819   \n",
       "11  {'box_top_right': [799.4215690597116, 202.6000...   325.892557   \n",
       "12  {'box_top_right': [798.1168475953126, 144.9889...   313.078738   \n",
       "13  {'box_top_right': [797.5898800589308, 206.1978...   319.565652   \n",
       "\n",
       "     top_width right_height left_height average_height average_width  \\\n",
       "0   318.222032   392.230308  391.894156     392.062232    315.690810   \n",
       "1   310.758889   381.050571  386.258492     383.654532    315.876052   \n",
       "2   312.115659   393.771087  390.423247     392.097167    312.648215   \n",
       "3   309.438144   390.025126  387.038583     388.531854    311.717960   \n",
       "4   314.702270   395.661099  391.411856     393.536477    315.123900   \n",
       "5   307.435077   390.073465  383.984316     387.028891    314.016778   \n",
       "6   311.830759   395.019016  392.467341     393.743178    314.277577   \n",
       "7   301.306976   383.410530  385.018173     384.214351    312.046754   \n",
       "8   320.456038   398.440604  388.746663     393.593633    319.579764   \n",
       "9   308.811376   400.447503  386.505119     393.476311    312.772713   \n",
       "10  319.876508   394.291647  388.370126     391.330886    318.511663   \n",
       "11  308.745591   401.390423  381.701741     391.546082    317.319074   \n",
       "12  316.508193   396.935892  402.447818     399.691855    314.793465   \n",
       "13  309.009108   384.999940  385.440149     385.220045    314.287380   \n",
       "\n",
       "   width_ratio  height_ratio  \n",
       "0     0.093446      0.061215  \n",
       "1     0.093391      0.062556  \n",
       "2     0.094355      0.061209  \n",
       "3     0.094637      0.061771  \n",
       "4     0.093614      0.060985  \n",
       "5     0.093944      0.062011  \n",
       "6     0.093866      0.060953  \n",
       "7     0.094537      0.062465  \n",
       "8     0.092309      0.060977  \n",
       "9     0.094318      0.060995  \n",
       "10    0.092618      0.061329  \n",
       "11    0.092966      0.061295  \n",
       "12    0.093712      0.060046  \n",
       "13    0.093863      0.062302  \n",
       "\n",
       "[14 rows x 27 columns]"
      ]
     },
     "execution_count": 98,
     "metadata": {},
     "output_type": "execute_result"
    }
   ],
   "source": [
    "START_STOP_FRAME_DF"
   ]
  },
  {
   "cell_type": "markdown",
   "metadata": {},
   "source": [
    "## Converting Pixels to cm"
   ]
  },
  {
   "cell_type": "code",
   "execution_count": 99,
   "metadata": {
    "tags": []
   },
   "outputs": [],
   "source": [
    "START_STOP_FRAME_DF[\"in_video_subjects\"] = START_STOP_FRAME_DF[\"in_video_subjects\"].apply(lambda x: x.split(\"_\"))"
   ]
  },
  {
   "cell_type": "code",
   "execution_count": 100,
   "metadata": {
    "tags": []
   },
   "outputs": [],
   "source": [
    "START_STOP_FRAME_DF[\"subject_to_tracks\"] = START_STOP_FRAME_DF.apply(lambda x: {k: v for k, v in x[\"subject_to_tracks\"].items() if k in x[\"in_video_subjects\"]}, axis=1)"
   ]
  },
  {
   "cell_type": "markdown",
   "metadata": {},
   "source": [
    "- Converting the X-dimension"
   ]
  },
  {
   "cell_type": "code",
   "execution_count": 101,
   "metadata": {},
   "outputs": [
    {
     "data": {
      "text/plain": [
       "0    {'3.3': [[[869.56890869 248.0728302 ], [885.38...\n",
       "1    {'3.1': [[[656.2857666  613.16717529], [647.76...\n",
       "2    {'4.3': [[[679.97515869 552.0291748 ], [640.33...\n",
       "3    {'4.2': [[[652.95855713 583.81176758], [637.19...\n",
       "4    {'3.4': [[[484.9914856  370.73416138], [525.18...\n",
       "Name: subject_to_tracks, dtype: object"
      ]
     },
     "execution_count": 101,
     "metadata": {},
     "output_type": "execute_result"
    }
   ],
   "source": [
    "START_STOP_FRAME_DF[\"subject_to_tracks\"].head()"
   ]
  },
  {
   "cell_type": "code",
   "execution_count": 102,
   "metadata": {},
   "outputs": [],
   "source": [
    "START_STOP_FRAME_DF[\"rescaled_locations\"] = START_STOP_FRAME_DF.apply(lambda x: {key: sleap.process_pose.fill_missing(sleap.process_pose.rescale_dimension_in_array(value, dimension=0, ratio=x[\"width_ratio\"])) for key, value in x[\"subject_to_tracks\"].items()}, axis=1)"
   ]
  },
  {
   "cell_type": "markdown",
   "metadata": {},
   "source": [
    "- Converting the Y-dimension"
   ]
  },
  {
   "cell_type": "code",
   "execution_count": 103,
   "metadata": {},
   "outputs": [],
   "source": [
    "START_STOP_FRAME_DF[\"rescaled_locations\"] = START_STOP_FRAME_DF.apply(lambda x: {key: sleap.process_pose.rescale_dimension_in_array(value, dimension=1, ratio=x[\"height_ratio\"]) for key, value in x[\"rescaled_locations\"].items()}, axis=1)"
   ]
  },
  {
   "cell_type": "code",
   "execution_count": 104,
   "metadata": {},
   "outputs": [
    {
     "data": {
      "text/plain": [
       "0     {'box_top_right': [794.6937948883963, 140.5239...\n",
       "1     {'box_top_right': [799.3751891891584, 207.5869...\n",
       "2     {'box_top_right': [786.9356898768796, 138.7937...\n",
       "3     {'box_top_right': [796.8342280315073, 199.3235...\n",
       "4     {'box_top_right': [794.9920406619647, 146.3691...\n",
       "5     {'box_top_right': [800.3747551060592, 210.2434...\n",
       "6     {'box_top_right': [791.7760449834286, 147.7969...\n",
       "7     {'box_top_right': [793.7941390511091, 215.5656...\n",
       "8     {'box_top_right': [798.3142982402522, 143.3277...\n",
       "9     {'box_top_right': [801.4973102795715, 207.0053...\n",
       "10    {'box_top_right': [797.8586694592238, 146.9335...\n",
       "11    {'box_top_right': [799.4215690597116, 202.6000...\n",
       "12    {'box_top_right': [798.1168475953126, 144.9889...\n",
       "13    {'box_top_right': [797.5898800589308, 206.1978...\n",
       "Name: corner_to_coordinate, dtype: object"
      ]
     },
     "execution_count": 104,
     "metadata": {},
     "output_type": "execute_result"
    }
   ],
   "source": [
    "START_STOP_FRAME_DF[\"corner_to_coordinate\"]"
   ]
  },
  {
   "cell_type": "code",
   "execution_count": 105,
   "metadata": {},
   "outputs": [
    {
     "data": {
      "text/html": [
       "<div>\n",
       "<style scoped>\n",
       "    .dataframe tbody tr th:only-of-type {\n",
       "        vertical-align: middle;\n",
       "    }\n",
       "\n",
       "    .dataframe tbody tr th {\n",
       "        vertical-align: top;\n",
       "    }\n",
       "\n",
       "    .dataframe thead th {\n",
       "        text-align: right;\n",
       "    }\n",
       "</style>\n",
       "<table border=\"1\" class=\"dataframe\">\n",
       "  <thead>\n",
       "    <tr style=\"text-align: right;\">\n",
       "      <th></th>\n",
       "      <th>start_frame</th>\n",
       "      <th>stop_frame</th>\n",
       "      <th>tracked_subject</th>\n",
       "      <th>in_video_subjects</th>\n",
       "      <th>box_number</th>\n",
       "      <th>sleap_name</th>\n",
       "      <th>video_name</th>\n",
       "      <th>current_subject</th>\n",
       "      <th>sleap_glob</th>\n",
       "      <th>sleap_path</th>\n",
       "      <th>...</th>\n",
       "      <th>corner_to_coordinate</th>\n",
       "      <th>bottom_width</th>\n",
       "      <th>top_width</th>\n",
       "      <th>right_height</th>\n",
       "      <th>left_height</th>\n",
       "      <th>average_height</th>\n",
       "      <th>average_width</th>\n",
       "      <th>width_ratio</th>\n",
       "      <th>height_ratio</th>\n",
       "      <th>rescaled_locations</th>\n",
       "    </tr>\n",
       "  </thead>\n",
       "  <tbody>\n",
       "    <tr>\n",
       "      <th>0</th>\n",
       "      <td>1</td>\n",
       "      <td>30500</td>\n",
       "      <td>[3.3]</td>\n",
       "      <td>[3.1, 3.3]</td>\n",
       "      <td>1</td>\n",
       "      <td>20240320_142408_alone_comp_subj_3-1_and_3-3.1....</td>\n",
       "      <td>20240320_142408_alone_comp_subj_3-1_and_3-3.1</td>\n",
       "      <td>3.3</td>\n",
       "      <td>[./data\\20240320_142408_alone_comp_subj_3-1_an...</td>\n",
       "      <td>./data\\20240320_142408_alone_comp_subj_3-1_and...</td>\n",
       "      <td>...</td>\n",
       "      <td>{'box_top_right': [794.6937948883963, 140.5239...</td>\n",
       "      <td>313.159588</td>\n",
       "      <td>318.222032</td>\n",
       "      <td>392.230308</td>\n",
       "      <td>391.894156</td>\n",
       "      <td>392.062232</td>\n",
       "      <td>315.690810</td>\n",
       "      <td>0.093446</td>\n",
       "      <td>0.061215</td>\n",
       "      <td>{'3.3': [[[81.25761658 15.18572165], [82.73561...</td>\n",
       "    </tr>\n",
       "    <tr>\n",
       "      <th>1</th>\n",
       "      <td>1</td>\n",
       "      <td>30500</td>\n",
       "      <td>[3.1]</td>\n",
       "      <td>[3.1, 3.3]</td>\n",
       "      <td>2</td>\n",
       "      <td>20240320_142408_alone_comp_subj_3-1_and_3-3.2....</td>\n",
       "      <td>20240320_142408_alone_comp_subj_3-1_and_3-3.2</td>\n",
       "      <td>3.1</td>\n",
       "      <td>[./data\\20240320_142408_alone_comp_subj_3-1_an...</td>\n",
       "      <td>./data\\20240320_142408_alone_comp_subj_3-1_and...</td>\n",
       "      <td>...</td>\n",
       "      <td>{'box_top_right': [799.3751891891584, 207.5869...</td>\n",
       "      <td>320.993215</td>\n",
       "      <td>310.758889</td>\n",
       "      <td>381.050571</td>\n",
       "      <td>386.258492</td>\n",
       "      <td>383.654532</td>\n",
       "      <td>315.876052</td>\n",
       "      <td>0.093391</td>\n",
       "      <td>0.062556</td>\n",
       "      <td>{'3.1': [[[61.29122483 38.35745702], [60.49559...</td>\n",
       "    </tr>\n",
       "    <tr>\n",
       "      <th>2</th>\n",
       "      <td>1</td>\n",
       "      <td>30500</td>\n",
       "      <td>[4.3]</td>\n",
       "      <td>[4.2, 4.3]</td>\n",
       "      <td>1</td>\n",
       "      <td>20240320_171038_alone_comp_subj_4-2_and_4-3.1....</td>\n",
       "      <td>20240320_171038_alone_comp_subj_4-2_and_4-3.1</td>\n",
       "      <td>4.3</td>\n",
       "      <td>[./data\\20240320_171038_alone_comp_subj_4-2_an...</td>\n",
       "      <td>./data\\20240320_171038_alone_comp_subj_4-2_and...</td>\n",
       "      <td>...</td>\n",
       "      <td>{'box_top_right': [786.9356898768796, 138.7937...</td>\n",
       "      <td>313.180772</td>\n",
       "      <td>312.115659</td>\n",
       "      <td>393.771087</td>\n",
       "      <td>390.423247</td>\n",
       "      <td>392.097167</td>\n",
       "      <td>312.648215</td>\n",
       "      <td>0.094355</td>\n",
       "      <td>0.061209</td>\n",
       "      <td>{'4.3': [[[64.15922499 33.78932905], [60.41888...</td>\n",
       "    </tr>\n",
       "    <tr>\n",
       "      <th>3</th>\n",
       "      <td>1</td>\n",
       "      <td>30500</td>\n",
       "      <td>[4.2]</td>\n",
       "      <td>[4.2, 4.3]</td>\n",
       "      <td>2</td>\n",
       "      <td>20240320_171038_alone_comp_subj_4-2_and_4-3.2....</td>\n",
       "      <td>20240320_171038_alone_comp_subj_4-2_and_4-3.2</td>\n",
       "      <td>4.2</td>\n",
       "      <td>[./data\\20240320_171038_alone_comp_subj_4-2_an...</td>\n",
       "      <td>./data\\20240320_171038_alone_comp_subj_4-2_and...</td>\n",
       "      <td>...</td>\n",
       "      <td>{'box_top_right': [796.8342280315073, 199.3235...</td>\n",
       "      <td>313.997776</td>\n",
       "      <td>309.438144</td>\n",
       "      <td>390.025126</td>\n",
       "      <td>387.038583</td>\n",
       "      <td>388.531854</td>\n",
       "      <td>311.717960</td>\n",
       "      <td>0.094637</td>\n",
       "      <td>0.061771</td>\n",
       "      <td>{'4.2': [[[61.79392882 36.06263493], [60.30234...</td>\n",
       "    </tr>\n",
       "    <tr>\n",
       "      <th>4</th>\n",
       "      <td>1</td>\n",
       "      <td>30500</td>\n",
       "      <td>[3.4]</td>\n",
       "      <td>[3.3, 3.4]</td>\n",
       "      <td>1</td>\n",
       "      <td>20240322_120625_alone_comp_subj_3-3_and_3-4.1....</td>\n",
       "      <td>20240322_120625_alone_comp_subj_3-3_and_3-4.1</td>\n",
       "      <td>3.4</td>\n",
       "      <td>[./data\\20240322_120625_alone_comp_subj_3-3_an...</td>\n",
       "      <td>./data\\20240322_120625_alone_comp_subj_3-3_and...</td>\n",
       "      <td>...</td>\n",
       "      <td>{'box_top_right': [794.9920406619647, 146.3691...</td>\n",
       "      <td>315.545530</td>\n",
       "      <td>314.702270</td>\n",
       "      <td>395.661099</td>\n",
       "      <td>391.411856</td>\n",
       "      <td>393.536477</td>\n",
       "      <td>315.123900</td>\n",
       "      <td>0.093614</td>\n",
       "      <td>0.060985</td>\n",
       "      <td>{'3.4': [[[45.40197945 22.60939045], [49.16500...</td>\n",
       "    </tr>\n",
       "  </tbody>\n",
       "</table>\n",
       "<p>5 rows × 28 columns</p>\n",
       "</div>"
      ],
      "text/plain": [
       "   start_frame  stop_frame tracked_subject in_video_subjects  box_number  \\\n",
       "0            1       30500           [3.3]        [3.1, 3.3]           1   \n",
       "1            1       30500           [3.1]        [3.1, 3.3]           2   \n",
       "2            1       30500           [4.3]        [4.2, 4.3]           1   \n",
       "3            1       30500           [4.2]        [4.2, 4.3]           2   \n",
       "4            1       30500           [3.4]        [3.3, 3.4]           1   \n",
       "\n",
       "                                          sleap_name  \\\n",
       "0  20240320_142408_alone_comp_subj_3-1_and_3-3.1....   \n",
       "1  20240320_142408_alone_comp_subj_3-1_and_3-3.2....   \n",
       "2  20240320_171038_alone_comp_subj_4-2_and_4-3.1....   \n",
       "3  20240320_171038_alone_comp_subj_4-2_and_4-3.2....   \n",
       "4  20240322_120625_alone_comp_subj_3-3_and_3-4.1....   \n",
       "\n",
       "                                      video_name current_subject  \\\n",
       "0  20240320_142408_alone_comp_subj_3-1_and_3-3.1             3.3   \n",
       "1  20240320_142408_alone_comp_subj_3-1_and_3-3.2             3.1   \n",
       "2  20240320_171038_alone_comp_subj_4-2_and_4-3.1             4.3   \n",
       "3  20240320_171038_alone_comp_subj_4-2_and_4-3.2             4.2   \n",
       "4  20240322_120625_alone_comp_subj_3-3_and_3-4.1             3.4   \n",
       "\n",
       "                                          sleap_glob  \\\n",
       "0  [./data\\20240320_142408_alone_comp_subj_3-1_an...   \n",
       "1  [./data\\20240320_142408_alone_comp_subj_3-1_an...   \n",
       "2  [./data\\20240320_171038_alone_comp_subj_4-2_an...   \n",
       "3  [./data\\20240320_171038_alone_comp_subj_4-2_an...   \n",
       "4  [./data\\20240322_120625_alone_comp_subj_3-3_an...   \n",
       "\n",
       "                                          sleap_path  ...  \\\n",
       "0  ./data\\20240320_142408_alone_comp_subj_3-1_and...  ...   \n",
       "1  ./data\\20240320_142408_alone_comp_subj_3-1_and...  ...   \n",
       "2  ./data\\20240320_171038_alone_comp_subj_4-2_and...  ...   \n",
       "3  ./data\\20240320_171038_alone_comp_subj_4-2_and...  ...   \n",
       "4  ./data\\20240322_120625_alone_comp_subj_3-3_and...  ...   \n",
       "\n",
       "                                corner_to_coordinate bottom_width   top_width  \\\n",
       "0  {'box_top_right': [794.6937948883963, 140.5239...   313.159588  318.222032   \n",
       "1  {'box_top_right': [799.3751891891584, 207.5869...   320.993215  310.758889   \n",
       "2  {'box_top_right': [786.9356898768796, 138.7937...   313.180772  312.115659   \n",
       "3  {'box_top_right': [796.8342280315073, 199.3235...   313.997776  309.438144   \n",
       "4  {'box_top_right': [794.9920406619647, 146.3691...   315.545530  314.702270   \n",
       "\n",
       "  right_height left_height average_height average_width width_ratio  \\\n",
       "0   392.230308  391.894156     392.062232    315.690810    0.093446   \n",
       "1   381.050571  386.258492     383.654532    315.876052    0.093391   \n",
       "2   393.771087  390.423247     392.097167    312.648215    0.094355   \n",
       "3   390.025126  387.038583     388.531854    311.717960    0.094637   \n",
       "4   395.661099  391.411856     393.536477    315.123900    0.093614   \n",
       "\n",
       "  height_ratio                                 rescaled_locations  \n",
       "0     0.061215  {'3.3': [[[81.25761658 15.18572165], [82.73561...  \n",
       "1     0.062556  {'3.1': [[[61.29122483 38.35745702], [60.49559...  \n",
       "2     0.061209  {'4.3': [[[64.15922499 33.78932905], [60.41888...  \n",
       "3     0.061771  {'4.2': [[[61.79392882 36.06263493], [60.30234...  \n",
       "4     0.060985  {'3.4': [[[45.40197945 22.60939045], [49.16500...  \n",
       "\n",
       "[5 rows x 28 columns]"
      ]
     },
     "execution_count": 105,
     "metadata": {},
     "output_type": "execute_result"
    }
   ],
   "source": [
    "START_STOP_FRAME_DF.head()"
   ]
  },
  {
   "cell_type": "code",
   "execution_count": 106,
   "metadata": {},
   "outputs": [],
   "source": [
    "# Normalize dictionary column\n",
    "normalized = pd.json_normalize(START_STOP_FRAME_DF[\"corner_to_coordinate\"])"
   ]
  },
  {
   "cell_type": "code",
   "execution_count": 107,
   "metadata": {},
   "outputs": [
    {
     "data": {
      "text/html": [
       "<div>\n",
       "<style scoped>\n",
       "    .dataframe tbody tr th:only-of-type {\n",
       "        vertical-align: middle;\n",
       "    }\n",
       "\n",
       "    .dataframe tbody tr th {\n",
       "        vertical-align: top;\n",
       "    }\n",
       "\n",
       "    .dataframe thead th {\n",
       "        text-align: right;\n",
       "    }\n",
       "</style>\n",
       "<table border=\"1\" class=\"dataframe\">\n",
       "  <thead>\n",
       "    <tr style=\"text-align: right;\">\n",
       "      <th></th>\n",
       "      <th>box_top_right</th>\n",
       "      <th>box_bottom_right</th>\n",
       "      <th>box_top_left</th>\n",
       "      <th>reward_port</th>\n",
       "      <th>box_bottom_left</th>\n",
       "    </tr>\n",
       "  </thead>\n",
       "  <tbody>\n",
       "    <tr>\n",
       "      <th>0</th>\n",
       "      <td>[794.6937948883963, 140.52399579213056]</td>\n",
       "      <td>[804.1742506477467, 532.7543035993741]</td>\n",
       "      <td>[476.4717627957939, 154.74047278598346]</td>\n",
       "      <td>[651.6736981833109, 572.3888520918972]</td>\n",
       "      <td>[491.01466249883674, 546.6346292517417]</td>\n",
       "    </tr>\n",
       "    <tr>\n",
       "      <th>1</th>\n",
       "      <td>[799.3751891891584, 207.58692020529605]</td>\n",
       "      <td>[808.1206171107995, 588.637491077457]</td>\n",
       "      <td>[488.6163000277884, 207.04729134916101]</td>\n",
       "      <td>[649.0746567139417, 625.0213916782284]</td>\n",
       "      <td>[487.1274024562083, 593.3057836702226]</td>\n",
       "    </tr>\n",
       "    <tr>\n",
       "      <th>2</th>\n",
       "      <td>[786.9356898768796, 138.79375971024683]</td>\n",
       "      <td>[803.8390342800585, 532.5648468296024]</td>\n",
       "      <td>[474.82003129890455, 155.5329253476304]</td>\n",
       "      <td>[648.7548067996038, 573.1929845564649]</td>\n",
       "      <td>[490.6582624706881, 545.9561721319552]</td>\n",
       "    </tr>\n",
       "    <tr>\n",
       "      <th>3</th>\n",
       "      <td>[796.8342280315073, 199.3235828743234]</td>\n",
       "      <td>[807.2994981144525, 589.348708623739]</td>\n",
       "      <td>[487.39608434586535, 207.11491562305548]</td>\n",
       "      <td>[648.4424300831454, 621.7545103787766]</td>\n",
       "      <td>[493.30172173142137, 594.1534986552867]</td>\n",
       "    </tr>\n",
       "    <tr>\n",
       "      <th>4</th>\n",
       "      <td>[794.9920406619647, 146.36912385006906]</td>\n",
       "      <td>[808.2372355317932, 542.03022271899]</td>\n",
       "      <td>[480.2897707640422, 158.4813490864459]</td>\n",
       "      <td>[647.8268059373486, 573.3043465519602]</td>\n",
       "      <td>[492.6917057902973, 549.8932050538807]</td>\n",
       "    </tr>\n",
       "  </tbody>\n",
       "</table>\n",
       "</div>"
      ],
      "text/plain": [
       "                             box_top_right  \\\n",
       "0  [794.6937948883963, 140.52399579213056]   \n",
       "1  [799.3751891891584, 207.58692020529605]   \n",
       "2  [786.9356898768796, 138.79375971024683]   \n",
       "3   [796.8342280315073, 199.3235828743234]   \n",
       "4  [794.9920406619647, 146.36912385006906]   \n",
       "\n",
       "                         box_bottom_right  \\\n",
       "0  [804.1742506477467, 532.7543035993741]   \n",
       "1   [808.1206171107995, 588.637491077457]   \n",
       "2  [803.8390342800585, 532.5648468296024]   \n",
       "3   [807.2994981144525, 589.348708623739]   \n",
       "4    [808.2372355317932, 542.03022271899]   \n",
       "\n",
       "                               box_top_left  \\\n",
       "0   [476.4717627957939, 154.74047278598346]   \n",
       "1   [488.6163000277884, 207.04729134916101]   \n",
       "2   [474.82003129890455, 155.5329253476304]   \n",
       "3  [487.39608434586535, 207.11491562305548]   \n",
       "4    [480.2897707640422, 158.4813490864459]   \n",
       "\n",
       "                              reward_port  \\\n",
       "0  [651.6736981833109, 572.3888520918972]   \n",
       "1  [649.0746567139417, 625.0213916782284]   \n",
       "2  [648.7548067996038, 573.1929845564649]   \n",
       "3  [648.4424300831454, 621.7545103787766]   \n",
       "4  [647.8268059373486, 573.3043465519602]   \n",
       "\n",
       "                           box_bottom_left  \n",
       "0  [491.01466249883674, 546.6346292517417]  \n",
       "1   [487.1274024562083, 593.3057836702226]  \n",
       "2   [490.6582624706881, 545.9561721319552]  \n",
       "3  [493.30172173142137, 594.1534986552867]  \n",
       "4   [492.6917057902973, 549.8932050538807]  "
      ]
     },
     "execution_count": 107,
     "metadata": {},
     "output_type": "execute_result"
    }
   ],
   "source": [
    "normalized.head()"
   ]
  },
  {
   "cell_type": "code",
   "execution_count": 108,
   "metadata": {},
   "outputs": [],
   "source": [
    "\n",
    "\n",
    "# Drop the original column and concat the normalized DataFrame\n",
    "START_STOP_FRAME_DF = pd.concat([START_STOP_FRAME_DF.drop([\"corner_to_coordinate\"], axis=1), normalized], axis=1)\n"
   ]
  },
  {
   "cell_type": "code",
   "execution_count": 109,
   "metadata": {},
   "outputs": [
    {
     "data": {
      "text/html": [
       "<div>\n",
       "<style scoped>\n",
       "    .dataframe tbody tr th:only-of-type {\n",
       "        vertical-align: middle;\n",
       "    }\n",
       "\n",
       "    .dataframe tbody tr th {\n",
       "        vertical-align: top;\n",
       "    }\n",
       "\n",
       "    .dataframe thead th {\n",
       "        text-align: right;\n",
       "    }\n",
       "</style>\n",
       "<table border=\"1\" class=\"dataframe\">\n",
       "  <thead>\n",
       "    <tr style=\"text-align: right;\">\n",
       "      <th></th>\n",
       "      <th>start_frame</th>\n",
       "      <th>stop_frame</th>\n",
       "      <th>tracked_subject</th>\n",
       "      <th>in_video_subjects</th>\n",
       "      <th>box_number</th>\n",
       "      <th>sleap_name</th>\n",
       "      <th>video_name</th>\n",
       "      <th>current_subject</th>\n",
       "      <th>sleap_glob</th>\n",
       "      <th>sleap_path</th>\n",
       "      <th>...</th>\n",
       "      <th>average_height</th>\n",
       "      <th>average_width</th>\n",
       "      <th>width_ratio</th>\n",
       "      <th>height_ratio</th>\n",
       "      <th>rescaled_locations</th>\n",
       "      <th>box_top_right</th>\n",
       "      <th>box_bottom_right</th>\n",
       "      <th>box_top_left</th>\n",
       "      <th>reward_port</th>\n",
       "      <th>box_bottom_left</th>\n",
       "    </tr>\n",
       "  </thead>\n",
       "  <tbody>\n",
       "    <tr>\n",
       "      <th>0</th>\n",
       "      <td>1</td>\n",
       "      <td>30500</td>\n",
       "      <td>[3.3]</td>\n",
       "      <td>[3.1, 3.3]</td>\n",
       "      <td>1</td>\n",
       "      <td>20240320_142408_alone_comp_subj_3-1_and_3-3.1....</td>\n",
       "      <td>20240320_142408_alone_comp_subj_3-1_and_3-3.1</td>\n",
       "      <td>3.3</td>\n",
       "      <td>[./data\\20240320_142408_alone_comp_subj_3-1_an...</td>\n",
       "      <td>./data\\20240320_142408_alone_comp_subj_3-1_and...</td>\n",
       "      <td>...</td>\n",
       "      <td>392.062232</td>\n",
       "      <td>315.690810</td>\n",
       "      <td>0.093446</td>\n",
       "      <td>0.061215</td>\n",
       "      <td>{'3.3': [[[81.25761658 15.18572165], [82.73561...</td>\n",
       "      <td>[794.6937948883963, 140.52399579213056]</td>\n",
       "      <td>[804.1742506477467, 532.7543035993741]</td>\n",
       "      <td>[476.4717627957939, 154.74047278598346]</td>\n",
       "      <td>[651.6736981833109, 572.3888520918972]</td>\n",
       "      <td>[491.01466249883674, 546.6346292517417]</td>\n",
       "    </tr>\n",
       "    <tr>\n",
       "      <th>1</th>\n",
       "      <td>1</td>\n",
       "      <td>30500</td>\n",
       "      <td>[3.1]</td>\n",
       "      <td>[3.1, 3.3]</td>\n",
       "      <td>2</td>\n",
       "      <td>20240320_142408_alone_comp_subj_3-1_and_3-3.2....</td>\n",
       "      <td>20240320_142408_alone_comp_subj_3-1_and_3-3.2</td>\n",
       "      <td>3.1</td>\n",
       "      <td>[./data\\20240320_142408_alone_comp_subj_3-1_an...</td>\n",
       "      <td>./data\\20240320_142408_alone_comp_subj_3-1_and...</td>\n",
       "      <td>...</td>\n",
       "      <td>383.654532</td>\n",
       "      <td>315.876052</td>\n",
       "      <td>0.093391</td>\n",
       "      <td>0.062556</td>\n",
       "      <td>{'3.1': [[[61.29122483 38.35745702], [60.49559...</td>\n",
       "      <td>[799.3751891891584, 207.58692020529605]</td>\n",
       "      <td>[808.1206171107995, 588.637491077457]</td>\n",
       "      <td>[488.6163000277884, 207.04729134916101]</td>\n",
       "      <td>[649.0746567139417, 625.0213916782284]</td>\n",
       "      <td>[487.1274024562083, 593.3057836702226]</td>\n",
       "    </tr>\n",
       "    <tr>\n",
       "      <th>2</th>\n",
       "      <td>1</td>\n",
       "      <td>30500</td>\n",
       "      <td>[4.3]</td>\n",
       "      <td>[4.2, 4.3]</td>\n",
       "      <td>1</td>\n",
       "      <td>20240320_171038_alone_comp_subj_4-2_and_4-3.1....</td>\n",
       "      <td>20240320_171038_alone_comp_subj_4-2_and_4-3.1</td>\n",
       "      <td>4.3</td>\n",
       "      <td>[./data\\20240320_171038_alone_comp_subj_4-2_an...</td>\n",
       "      <td>./data\\20240320_171038_alone_comp_subj_4-2_and...</td>\n",
       "      <td>...</td>\n",
       "      <td>392.097167</td>\n",
       "      <td>312.648215</td>\n",
       "      <td>0.094355</td>\n",
       "      <td>0.061209</td>\n",
       "      <td>{'4.3': [[[64.15922499 33.78932905], [60.41888...</td>\n",
       "      <td>[786.9356898768796, 138.79375971024683]</td>\n",
       "      <td>[803.8390342800585, 532.5648468296024]</td>\n",
       "      <td>[474.82003129890455, 155.5329253476304]</td>\n",
       "      <td>[648.7548067996038, 573.1929845564649]</td>\n",
       "      <td>[490.6582624706881, 545.9561721319552]</td>\n",
       "    </tr>\n",
       "    <tr>\n",
       "      <th>3</th>\n",
       "      <td>1</td>\n",
       "      <td>30500</td>\n",
       "      <td>[4.2]</td>\n",
       "      <td>[4.2, 4.3]</td>\n",
       "      <td>2</td>\n",
       "      <td>20240320_171038_alone_comp_subj_4-2_and_4-3.2....</td>\n",
       "      <td>20240320_171038_alone_comp_subj_4-2_and_4-3.2</td>\n",
       "      <td>4.2</td>\n",
       "      <td>[./data\\20240320_171038_alone_comp_subj_4-2_an...</td>\n",
       "      <td>./data\\20240320_171038_alone_comp_subj_4-2_and...</td>\n",
       "      <td>...</td>\n",
       "      <td>388.531854</td>\n",
       "      <td>311.717960</td>\n",
       "      <td>0.094637</td>\n",
       "      <td>0.061771</td>\n",
       "      <td>{'4.2': [[[61.79392882 36.06263493], [60.30234...</td>\n",
       "      <td>[796.8342280315073, 199.3235828743234]</td>\n",
       "      <td>[807.2994981144525, 589.348708623739]</td>\n",
       "      <td>[487.39608434586535, 207.11491562305548]</td>\n",
       "      <td>[648.4424300831454, 621.7545103787766]</td>\n",
       "      <td>[493.30172173142137, 594.1534986552867]</td>\n",
       "    </tr>\n",
       "    <tr>\n",
       "      <th>4</th>\n",
       "      <td>1</td>\n",
       "      <td>30500</td>\n",
       "      <td>[3.4]</td>\n",
       "      <td>[3.3, 3.4]</td>\n",
       "      <td>1</td>\n",
       "      <td>20240322_120625_alone_comp_subj_3-3_and_3-4.1....</td>\n",
       "      <td>20240322_120625_alone_comp_subj_3-3_and_3-4.1</td>\n",
       "      <td>3.4</td>\n",
       "      <td>[./data\\20240322_120625_alone_comp_subj_3-3_an...</td>\n",
       "      <td>./data\\20240322_120625_alone_comp_subj_3-3_and...</td>\n",
       "      <td>...</td>\n",
       "      <td>393.536477</td>\n",
       "      <td>315.123900</td>\n",
       "      <td>0.093614</td>\n",
       "      <td>0.060985</td>\n",
       "      <td>{'3.4': [[[45.40197945 22.60939045], [49.16500...</td>\n",
       "      <td>[794.9920406619647, 146.36912385006906]</td>\n",
       "      <td>[808.2372355317932, 542.03022271899]</td>\n",
       "      <td>[480.2897707640422, 158.4813490864459]</td>\n",
       "      <td>[647.8268059373486, 573.3043465519602]</td>\n",
       "      <td>[492.6917057902973, 549.8932050538807]</td>\n",
       "    </tr>\n",
       "  </tbody>\n",
       "</table>\n",
       "<p>5 rows × 32 columns</p>\n",
       "</div>"
      ],
      "text/plain": [
       "   start_frame  stop_frame tracked_subject in_video_subjects  box_number  \\\n",
       "0            1       30500           [3.3]        [3.1, 3.3]           1   \n",
       "1            1       30500           [3.1]        [3.1, 3.3]           2   \n",
       "2            1       30500           [4.3]        [4.2, 4.3]           1   \n",
       "3            1       30500           [4.2]        [4.2, 4.3]           2   \n",
       "4            1       30500           [3.4]        [3.3, 3.4]           1   \n",
       "\n",
       "                                          sleap_name  \\\n",
       "0  20240320_142408_alone_comp_subj_3-1_and_3-3.1....   \n",
       "1  20240320_142408_alone_comp_subj_3-1_and_3-3.2....   \n",
       "2  20240320_171038_alone_comp_subj_4-2_and_4-3.1....   \n",
       "3  20240320_171038_alone_comp_subj_4-2_and_4-3.2....   \n",
       "4  20240322_120625_alone_comp_subj_3-3_and_3-4.1....   \n",
       "\n",
       "                                      video_name current_subject  \\\n",
       "0  20240320_142408_alone_comp_subj_3-1_and_3-3.1             3.3   \n",
       "1  20240320_142408_alone_comp_subj_3-1_and_3-3.2             3.1   \n",
       "2  20240320_171038_alone_comp_subj_4-2_and_4-3.1             4.3   \n",
       "3  20240320_171038_alone_comp_subj_4-2_and_4-3.2             4.2   \n",
       "4  20240322_120625_alone_comp_subj_3-3_and_3-4.1             3.4   \n",
       "\n",
       "                                          sleap_glob  \\\n",
       "0  [./data\\20240320_142408_alone_comp_subj_3-1_an...   \n",
       "1  [./data\\20240320_142408_alone_comp_subj_3-1_an...   \n",
       "2  [./data\\20240320_171038_alone_comp_subj_4-2_an...   \n",
       "3  [./data\\20240320_171038_alone_comp_subj_4-2_an...   \n",
       "4  [./data\\20240322_120625_alone_comp_subj_3-3_an...   \n",
       "\n",
       "                                          sleap_path  ... average_height  \\\n",
       "0  ./data\\20240320_142408_alone_comp_subj_3-1_and...  ...     392.062232   \n",
       "1  ./data\\20240320_142408_alone_comp_subj_3-1_and...  ...     383.654532   \n",
       "2  ./data\\20240320_171038_alone_comp_subj_4-2_and...  ...     392.097167   \n",
       "3  ./data\\20240320_171038_alone_comp_subj_4-2_and...  ...     388.531854   \n",
       "4  ./data\\20240322_120625_alone_comp_subj_3-3_and...  ...     393.536477   \n",
       "\n",
       "  average_width width_ratio height_ratio  \\\n",
       "0    315.690810    0.093446     0.061215   \n",
       "1    315.876052    0.093391     0.062556   \n",
       "2    312.648215    0.094355     0.061209   \n",
       "3    311.717960    0.094637     0.061771   \n",
       "4    315.123900    0.093614     0.060985   \n",
       "\n",
       "                                  rescaled_locations  \\\n",
       "0  {'3.3': [[[81.25761658 15.18572165], [82.73561...   \n",
       "1  {'3.1': [[[61.29122483 38.35745702], [60.49559...   \n",
       "2  {'4.3': [[[64.15922499 33.78932905], [60.41888...   \n",
       "3  {'4.2': [[[61.79392882 36.06263493], [60.30234...   \n",
       "4  {'3.4': [[[45.40197945 22.60939045], [49.16500...   \n",
       "\n",
       "                             box_top_right  \\\n",
       "0  [794.6937948883963, 140.52399579213056]   \n",
       "1  [799.3751891891584, 207.58692020529605]   \n",
       "2  [786.9356898768796, 138.79375971024683]   \n",
       "3   [796.8342280315073, 199.3235828743234]   \n",
       "4  [794.9920406619647, 146.36912385006906]   \n",
       "\n",
       "                         box_bottom_right  \\\n",
       "0  [804.1742506477467, 532.7543035993741]   \n",
       "1   [808.1206171107995, 588.637491077457]   \n",
       "2  [803.8390342800585, 532.5648468296024]   \n",
       "3   [807.2994981144525, 589.348708623739]   \n",
       "4    [808.2372355317932, 542.03022271899]   \n",
       "\n",
       "                               box_top_left  \\\n",
       "0   [476.4717627957939, 154.74047278598346]   \n",
       "1   [488.6163000277884, 207.04729134916101]   \n",
       "2   [474.82003129890455, 155.5329253476304]   \n",
       "3  [487.39608434586535, 207.11491562305548]   \n",
       "4    [480.2897707640422, 158.4813490864459]   \n",
       "\n",
       "                              reward_port  \\\n",
       "0  [651.6736981833109, 572.3888520918972]   \n",
       "1  [649.0746567139417, 625.0213916782284]   \n",
       "2  [648.7548067996038, 573.1929845564649]   \n",
       "3  [648.4424300831454, 621.7545103787766]   \n",
       "4  [647.8268059373486, 573.3043465519602]   \n",
       "\n",
       "                           box_bottom_left  \n",
       "0  [491.01466249883674, 546.6346292517417]  \n",
       "1   [487.1274024562083, 593.3057836702226]  \n",
       "2   [490.6582624706881, 545.9561721319552]  \n",
       "3  [493.30172173142137, 594.1534986552867]  \n",
       "4   [492.6917057902973, 549.8932050538807]  \n",
       "\n",
       "[5 rows x 32 columns]"
      ]
     },
     "execution_count": 109,
     "metadata": {},
     "output_type": "execute_result"
    }
   ],
   "source": [
    "START_STOP_FRAME_DF.head()"
   ]
  },
  {
   "cell_type": "code",
   "execution_count": 110,
   "metadata": {
    "tags": []
   },
   "outputs": [],
   "source": [
    "START_STOP_FRAME_DF = START_STOP_FRAME_DF.dropna(subset=[\"reward_port\"])"
   ]
  },
  {
   "cell_type": "markdown",
   "metadata": {},
   "source": [
    "- Converting the corner coordinates into cms"
   ]
  },
  {
   "cell_type": "code",
   "execution_count": 111,
   "metadata": {},
   "outputs": [],
   "source": [
    "for corner in START_STOP_FRAME_DF[\"corner_parts\"].iloc[0]:\n",
    "    START_STOP_FRAME_DF[corner] = START_STOP_FRAME_DF.apply(lambda x: [x[corner][0]*x[\"width_ratio\"], x[corner][1]*x[\"height_ratio\"]], axis=1)"
   ]
  },
  {
   "cell_type": "markdown",
   "metadata": {},
   "source": [
    "## Looking over the tracks"
   ]
  },
  {
   "cell_type": "code",
   "execution_count": 112,
   "metadata": {},
   "outputs": [],
   "source": [
    "FILE_INDEX = 0"
   ]
  },
  {
   "cell_type": "code",
   "execution_count": 113,
   "metadata": {},
   "outputs": [
    {
     "data": {
      "text/plain": [
       "'./data\\\\20240320_142408_alone_comp_subj_3-1_and_3-3\\\\20240320_142408_alone_comp_subj_3-1_and_3-3.1.fixed.1_subj.round_2.id_corrected.h5'"
      ]
     },
     "execution_count": 113,
     "metadata": {},
     "output_type": "execute_result"
    }
   ],
   "source": [
    "START_STOP_FRAME_DF[\"sleap_path\"].iloc[FILE_INDEX]"
   ]
  },
  {
   "cell_type": "code",
   "execution_count": 114,
   "metadata": {},
   "outputs": [
    {
     "data": {
      "text/plain": [
       "0    {'3.3': [[[81.25761658 15.18572165], [82.73561...\n",
       "1    {'3.1': [[[61.29122483 38.35745702], [60.49559...\n",
       "2    {'4.3': [[[64.15922499 33.78932905], [60.41888...\n",
       "3    {'4.2': [[[61.79392882 36.06263493], [60.30234...\n",
       "4    {'3.4': [[[45.40197945 22.60939045], [49.16500...\n",
       "Name: rescaled_locations, dtype: object"
      ]
     },
     "execution_count": 114,
     "metadata": {},
     "output_type": "execute_result"
    }
   ],
   "source": [
    "START_STOP_FRAME_DF[\"rescaled_locations\"].head()"
   ]
  },
  {
   "cell_type": "code",
   "execution_count": 115,
   "metadata": {
    "tags": []
   },
   "outputs": [
    {
     "data": {
      "text/plain": [
       "Index(['start_frame', 'stop_frame', 'tracked_subject', 'in_video_subjects',\n",
       "       'box_number', 'sleap_name', 'video_name', 'current_subject',\n",
       "       'sleap_glob', 'sleap_path', 'all_sleap_data', 'body_parts', 'locations',\n",
       "       'track_names', 'subject_to_index', 'subject_to_tracks', 'corner_path',\n",
       "       'corner_parts', 'bottom_width', 'top_width', 'right_height',\n",
       "       'left_height', 'average_height', 'average_width', 'width_ratio',\n",
       "       'height_ratio', 'rescaled_locations', 'box_top_right',\n",
       "       'box_bottom_right', 'box_top_left', 'reward_port', 'box_bottom_left'],\n",
       "      dtype='object')"
      ]
     },
     "execution_count": 115,
     "metadata": {},
     "output_type": "execute_result"
    }
   ],
   "source": [
    "START_STOP_FRAME_DF.columns"
   ]
  },
  {
   "cell_type": "code",
   "execution_count": 116,
   "metadata": {},
   "outputs": [
    {
     "name": "stdout",
     "output_type": "stream",
     "text": [
      "===HDF5 datasets===\n",
      "['edge_inds', 'edge_names', 'instance_scores', 'labels_path', 'node_names', 'point_scores', 'provenance', 'track_names', 'track_occupancy', 'tracking_scores', 'tracks', 'video_ind', 'video_path']\n",
      "\n",
      "===locations data shape===\n",
      "(63504, 6, 2)\n",
      "\n",
      "===nodes===\n",
      "0: left_ear\n",
      "1: right_ear\n",
      "2: nose\n",
      "3: tail_base\n",
      "4: thorax\n",
      "5: forehead\n",
      "\n"
     ]
    }
   ],
   "source": [
    "with h5py.File(START_STOP_FRAME_DF[\"sleap_path\"].iloc[FILE_INDEX], \"r\") as f:\n",
    "    dset_names = list(f.keys())\n",
    "    current_subject = START_STOP_FRAME_DF[\"current_subject\"].iloc[FILE_INDEX]\n",
    "    locations = START_STOP_FRAME_DF[\"rescaled_locations\"].iloc[FILE_INDEX][current_subject]\n",
    "    node_names = [n.decode() for n in f[\"node_names\"][:]]\n",
    "    \n",
    "print(\"===HDF5 datasets===\")\n",
    "print(dset_names)\n",
    "print()\n",
    "\n",
    "print(\"===locations data shape===\")\n",
    "print(locations.shape)\n",
    "print()\n",
    "\n",
    "print(\"===nodes===\")\n",
    "for i, name in enumerate(node_names):\n",
    "    print(f\"{i}: {name}\")\n",
    "print()"
   ]
  },
  {
   "cell_type": "code",
   "execution_count": 117,
   "metadata": {},
   "outputs": [],
   "source": [
    "thorax_loc = locations[:, THORAX_INDEX, :]"
   ]
  },
  {
   "cell_type": "code",
   "execution_count": 118,
   "metadata": {},
   "outputs": [
    {
     "data": {
      "text/plain": [
       "Text(0, 0.5, 'Coordinate Position')"
      ]
     },
     "execution_count": 118,
     "metadata": {},
     "output_type": "execute_result"
    },
    {
     "data": {
      "image/png": "[encoded data removed]",
      "text/plain": [
       "<Figure size 1500x600 with 1 Axes>"
      ]
     },
     "metadata": {},
     "output_type": "display_data"
    }
   ],
   "source": [
    "fig, ax = plt.subplots()\n",
    "\n",
    "plt.plot(thorax_loc[:,0],label='X-coordinates')\n",
    "# Converting to negative so that we can see both x and y track\n",
    "plt.plot(-1*thorax_loc[:,1], label='Y-coordinates')\n",
    "\n",
    "plt.legend(loc=\"center right\")\n",
    "plt.title('Thorax locations')\n",
    "plt.xlabel(\"Time in frames\")\n",
    "plt.ylabel(\"Coordinate Position\")"
   ]
  },
  {
   "cell_type": "code",
   "execution_count": 119,
   "metadata": {},
   "outputs": [
    {
     "data": {
      "text/plain": [
       "Text(0, 0.5, 'Y-Coordinates')"
      ]
     },
     "execution_count": 119,
     "metadata": {},
     "output_type": "execute_result"
    },
    {
     "data": {
      "image/png": "[encoded data removed]",
      "text/plain": [
       "<Figure size 700x700 with 1 Axes>"
      ]
     },
     "metadata": {},
     "output_type": "display_data"
    }
   ],
   "source": [
    "plt.figure(figsize=(7,7))\n",
    "plt.plot(thorax_loc[:,0],thorax_loc[:,1])\n",
    "\n",
    "\n",
    "plt.title('Thorax tracks')\n",
    "plt.xlabel(\"X-Coordinates\")\n",
    "plt.ylabel(\"Y-Coordinates\")\n"
   ]
  },
  {
   "cell_type": "code",
   "execution_count": null,
   "metadata": {},
   "outputs": [],
   "source": []
  },
  {
   "cell_type": "markdown",
   "metadata": {},
   "source": [
    "## Creating an individual column for each pose tracking"
   ]
  },
  {
   "cell_type": "code",
   "execution_count": 120,
   "metadata": {
    "tags": []
   },
   "outputs": [],
   "source": [
    "START_STOP_FRAME_DF = START_STOP_FRAME_DF.dropna(subset=[\"current_subject\"])"
   ]
  },
  {
   "cell_type": "code",
   "execution_count": 121,
   "metadata": {
    "tags": []
   },
   "outputs": [
    {
     "data": {
      "text/html": [
       "<div>\n",
       "<style scoped>\n",
       "    .dataframe tbody tr th:only-of-type {\n",
       "        vertical-align: middle;\n",
       "    }\n",
       "\n",
       "    .dataframe tbody tr th {\n",
       "        vertical-align: top;\n",
       "    }\n",
       "\n",
       "    .dataframe thead th {\n",
       "        text-align: right;\n",
       "    }\n",
       "</style>\n",
       "<table border=\"1\" class=\"dataframe\">\n",
       "  <thead>\n",
       "    <tr style=\"text-align: right;\">\n",
       "      <th></th>\n",
       "      <th>start_frame</th>\n",
       "      <th>stop_frame</th>\n",
       "      <th>tracked_subject</th>\n",
       "      <th>in_video_subjects</th>\n",
       "      <th>box_number</th>\n",
       "      <th>sleap_name</th>\n",
       "      <th>video_name</th>\n",
       "      <th>current_subject</th>\n",
       "      <th>sleap_glob</th>\n",
       "      <th>sleap_path</th>\n",
       "      <th>...</th>\n",
       "      <th>average_height</th>\n",
       "      <th>average_width</th>\n",
       "      <th>width_ratio</th>\n",
       "      <th>height_ratio</th>\n",
       "      <th>rescaled_locations</th>\n",
       "      <th>box_top_right</th>\n",
       "      <th>box_bottom_right</th>\n",
       "      <th>box_top_left</th>\n",
       "      <th>reward_port</th>\n",
       "      <th>box_bottom_left</th>\n",
       "    </tr>\n",
       "  </thead>\n",
       "  <tbody>\n",
       "    <tr>\n",
       "      <th>0</th>\n",
       "      <td>1</td>\n",
       "      <td>30500</td>\n",
       "      <td>[3.3]</td>\n",
       "      <td>[3.1, 3.3]</td>\n",
       "      <td>1</td>\n",
       "      <td>20240320_142408_alone_comp_subj_3-1_and_3-3.1....</td>\n",
       "      <td>20240320_142408_alone_comp_subj_3-1_and_3-3.1</td>\n",
       "      <td>3.3</td>\n",
       "      <td>[./data\\20240320_142408_alone_comp_subj_3-1_an...</td>\n",
       "      <td>./data\\20240320_142408_alone_comp_subj_3-1_and...</td>\n",
       "      <td>...</td>\n",
       "      <td>392.062232</td>\n",
       "      <td>315.690810</td>\n",
       "      <td>0.093446</td>\n",
       "      <td>0.061215</td>\n",
       "      <td>{'3.3': [[[81.25761658 15.18572165], [82.73561...</td>\n",
       "      <td>[74.26084699849272, 8.602144309163993]</td>\n",
       "      <td>[75.1467563627655, 32.612433022962925]</td>\n",
       "      <td>[44.524314778435695, 9.472402701545125]</td>\n",
       "      <td>[60.89621072293514, 35.03865285708705]</td>\n",
       "      <td>[45.88328858282252, 33.462113987746186]</td>\n",
       "    </tr>\n",
       "    <tr>\n",
       "      <th>1</th>\n",
       "      <td>1</td>\n",
       "      <td>30500</td>\n",
       "      <td>[3.1]</td>\n",
       "      <td>[3.1, 3.3]</td>\n",
       "      <td>2</td>\n",
       "      <td>20240320_142408_alone_comp_subj_3-1_and_3-3.2....</td>\n",
       "      <td>20240320_142408_alone_comp_subj_3-1_and_3-3.2</td>\n",
       "      <td>3.1</td>\n",
       "      <td>[./data\\20240320_142408_alone_comp_subj_3-1_an...</td>\n",
       "      <td>./data\\20240320_142408_alone_comp_subj_3-1_and...</td>\n",
       "      <td>...</td>\n",
       "      <td>383.654532</td>\n",
       "      <td>315.876052</td>\n",
       "      <td>0.093391</td>\n",
       "      <td>0.062556</td>\n",
       "      <td>{'3.1': [[[61.29122483 38.35745702], [60.49559...</td>\n",
       "      <td>[74.65449798628558, 12.985865341388582]</td>\n",
       "      <td>[75.47124278897029, 36.822971247249434]</td>\n",
       "      <td>[45.6323952504599, 12.952108167992652]</td>\n",
       "      <td>[60.61777161454232, 39.09901269209973]</td>\n",
       "      <td>[45.49334552479596, 37.115002262131796]</td>\n",
       "    </tr>\n",
       "    <tr>\n",
       "      <th>2</th>\n",
       "      <td>1</td>\n",
       "      <td>30500</td>\n",
       "      <td>[4.3]</td>\n",
       "      <td>[4.2, 4.3]</td>\n",
       "      <td>1</td>\n",
       "      <td>20240320_171038_alone_comp_subj_4-2_and_4-3.1....</td>\n",
       "      <td>20240320_171038_alone_comp_subj_4-2_and_4-3.1</td>\n",
       "      <td>4.3</td>\n",
       "      <td>[./data\\20240320_171038_alone_comp_subj_4-2_an...</td>\n",
       "      <td>./data\\20240320_171038_alone_comp_subj_4-2_and...</td>\n",
       "      <td>...</td>\n",
       "      <td>392.097167</td>\n",
       "      <td>312.648215</td>\n",
       "      <td>0.094355</td>\n",
       "      <td>0.061209</td>\n",
       "      <td>{'4.3': [[[64.15922499 33.78932905], [60.41888...</td>\n",
       "      <td>[74.25151247701015, 8.495471311209611]</td>\n",
       "      <td>[75.846431736616, 32.597930822286116]</td>\n",
       "      <td>[44.801761988760454, 9.52006421612736]</td>\n",
       "      <td>[61.213420932957966, 35.084751405625006]</td>\n",
       "      <td>[46.2961822248657, 33.41760470505085]</td>\n",
       "    </tr>\n",
       "    <tr>\n",
       "      <th>3</th>\n",
       "      <td>1</td>\n",
       "      <td>30500</td>\n",
       "      <td>[4.2]</td>\n",
       "      <td>[4.2, 4.3]</td>\n",
       "      <td>2</td>\n",
       "      <td>20240320_171038_alone_comp_subj_4-2_and_4-3.2....</td>\n",
       "      <td>20240320_171038_alone_comp_subj_4-2_and_4-3.2</td>\n",
       "      <td>4.2</td>\n",
       "      <td>[./data\\20240320_171038_alone_comp_subj_4-2_an...</td>\n",
       "      <td>./data\\20240320_171038_alone_comp_subj_4-2_and...</td>\n",
       "      <td>...</td>\n",
       "      <td>388.531854</td>\n",
       "      <td>311.717960</td>\n",
       "      <td>0.094637</td>\n",
       "      <td>0.061771</td>\n",
       "      <td>{'4.2': [[[61.79392882 36.06263493], [60.30234...</td>\n",
       "      <td>[75.409866420081, 12.312416433613139]</td>\n",
       "      <td>[76.40026641953202, 36.404657294178875]</td>\n",
       "      <td>[46.125621015289695, 12.793694825220832]</td>\n",
       "      <td>[61.366536869886076, 38.4063959761727]</td>\n",
       "      <td>[46.68451182432332, 36.701453964655094]</td>\n",
       "    </tr>\n",
       "    <tr>\n",
       "      <th>4</th>\n",
       "      <td>1</td>\n",
       "      <td>30500</td>\n",
       "      <td>[3.4]</td>\n",
       "      <td>[3.3, 3.4]</td>\n",
       "      <td>1</td>\n",
       "      <td>20240322_120625_alone_comp_subj_3-3_and_3-4.1....</td>\n",
       "      <td>20240322_120625_alone_comp_subj_3-3_and_3-4.1</td>\n",
       "      <td>3.4</td>\n",
       "      <td>[./data\\20240322_120625_alone_comp_subj_3-3_an...</td>\n",
       "      <td>./data\\20240322_120625_alone_comp_subj_3-3_and...</td>\n",
       "      <td>...</td>\n",
       "      <td>393.536477</td>\n",
       "      <td>315.123900</td>\n",
       "      <td>0.093614</td>\n",
       "      <td>0.060985</td>\n",
       "      <td>{'3.4': [[[45.40197945 22.60939045], [49.16500...</td>\n",
       "      <td>[74.42236280061786, 8.926387194010582]</td>\n",
       "      <td>[75.66229810506, 33.05595819376228]</td>\n",
       "      <td>[44.96183325239834, 9.665056726197681]</td>\n",
       "      <td>[60.64564060702992, 34.963224775288616]</td>\n",
       "      <td>[46.12282765327953, 33.535485726445984]</td>\n",
       "    </tr>\n",
       "  </tbody>\n",
       "</table>\n",
       "<p>5 rows × 32 columns</p>\n",
       "</div>"
      ],
      "text/plain": [
       "   start_frame  stop_frame tracked_subject in_video_subjects  box_number  \\\n",
       "0            1       30500           [3.3]        [3.1, 3.3]           1   \n",
       "1            1       30500           [3.1]        [3.1, 3.3]           2   \n",
       "2            1       30500           [4.3]        [4.2, 4.3]           1   \n",
       "3            1       30500           [4.2]        [4.2, 4.3]           2   \n",
       "4            1       30500           [3.4]        [3.3, 3.4]           1   \n",
       "\n",
       "                                          sleap_name  \\\n",
       "0  20240320_142408_alone_comp_subj_3-1_and_3-3.1....   \n",
       "1  20240320_142408_alone_comp_subj_3-1_and_3-3.2....   \n",
       "2  20240320_171038_alone_comp_subj_4-2_and_4-3.1....   \n",
       "3  20240320_171038_alone_comp_subj_4-2_and_4-3.2....   \n",
       "4  20240322_120625_alone_comp_subj_3-3_and_3-4.1....   \n",
       "\n",
       "                                      video_name current_subject  \\\n",
       "0  20240320_142408_alone_comp_subj_3-1_and_3-3.1             3.3   \n",
       "1  20240320_142408_alone_comp_subj_3-1_and_3-3.2             3.1   \n",
       "2  20240320_171038_alone_comp_subj_4-2_and_4-3.1             4.3   \n",
       "3  20240320_171038_alone_comp_subj_4-2_and_4-3.2             4.2   \n",
       "4  20240322_120625_alone_comp_subj_3-3_and_3-4.1             3.4   \n",
       "\n",
       "                                          sleap_glob  \\\n",
       "0  [./data\\20240320_142408_alone_comp_subj_3-1_an...   \n",
       "1  [./data\\20240320_142408_alone_comp_subj_3-1_an...   \n",
       "2  [./data\\20240320_171038_alone_comp_subj_4-2_an...   \n",
       "3  [./data\\20240320_171038_alone_comp_subj_4-2_an...   \n",
       "4  [./data\\20240322_120625_alone_comp_subj_3-3_an...   \n",
       "\n",
       "                                          sleap_path  ... average_height  \\\n",
       "0  ./data\\20240320_142408_alone_comp_subj_3-1_and...  ...     392.062232   \n",
       "1  ./data\\20240320_142408_alone_comp_subj_3-1_and...  ...     383.654532   \n",
       "2  ./data\\20240320_171038_alone_comp_subj_4-2_and...  ...     392.097167   \n",
       "3  ./data\\20240320_171038_alone_comp_subj_4-2_and...  ...     388.531854   \n",
       "4  ./data\\20240322_120625_alone_comp_subj_3-3_and...  ...     393.536477   \n",
       "\n",
       "  average_width width_ratio height_ratio  \\\n",
       "0    315.690810    0.093446     0.061215   \n",
       "1    315.876052    0.093391     0.062556   \n",
       "2    312.648215    0.094355     0.061209   \n",
       "3    311.717960    0.094637     0.061771   \n",
       "4    315.123900    0.093614     0.060985   \n",
       "\n",
       "                                  rescaled_locations  \\\n",
       "0  {'3.3': [[[81.25761658 15.18572165], [82.73561...   \n",
       "1  {'3.1': [[[61.29122483 38.35745702], [60.49559...   \n",
       "2  {'4.3': [[[64.15922499 33.78932905], [60.41888...   \n",
       "3  {'4.2': [[[61.79392882 36.06263493], [60.30234...   \n",
       "4  {'3.4': [[[45.40197945 22.60939045], [49.16500...   \n",
       "\n",
       "                             box_top_right  \\\n",
       "0   [74.26084699849272, 8.602144309163993]   \n",
       "1  [74.65449798628558, 12.985865341388582]   \n",
       "2   [74.25151247701015, 8.495471311209611]   \n",
       "3    [75.409866420081, 12.312416433613139]   \n",
       "4   [74.42236280061786, 8.926387194010582]   \n",
       "\n",
       "                          box_bottom_right  \\\n",
       "0   [75.1467563627655, 32.612433022962925]   \n",
       "1  [75.47124278897029, 36.822971247249434]   \n",
       "2    [75.846431736616, 32.597930822286116]   \n",
       "3  [76.40026641953202, 36.404657294178875]   \n",
       "4      [75.66229810506, 33.05595819376228]   \n",
       "\n",
       "                               box_top_left  \\\n",
       "0   [44.524314778435695, 9.472402701545125]   \n",
       "1    [45.6323952504599, 12.952108167992652]   \n",
       "2    [44.801761988760454, 9.52006421612736]   \n",
       "3  [46.125621015289695, 12.793694825220832]   \n",
       "4    [44.96183325239834, 9.665056726197681]   \n",
       "\n",
       "                                reward_port  \\\n",
       "0    [60.89621072293514, 35.03865285708705]   \n",
       "1    [60.61777161454232, 39.09901269209973]   \n",
       "2  [61.213420932957966, 35.084751405625006]   \n",
       "3    [61.366536869886076, 38.4063959761727]   \n",
       "4   [60.64564060702992, 34.963224775288616]   \n",
       "\n",
       "                           box_bottom_left  \n",
       "0  [45.88328858282252, 33.462113987746186]  \n",
       "1  [45.49334552479596, 37.115002262131796]  \n",
       "2    [46.2961822248657, 33.41760470505085]  \n",
       "3  [46.68451182432332, 36.701453964655094]  \n",
       "4  [46.12282765327953, 33.535485726445984]  \n",
       "\n",
       "[5 rows x 32 columns]"
      ]
     },
     "execution_count": 121,
     "metadata": {},
     "output_type": "execute_result"
    }
   ],
   "source": [
    "START_STOP_FRAME_DF.head()"
   ]
  },
  {
   "cell_type": "code",
   "execution_count": 122,
   "metadata": {},
   "outputs": [
    {
     "data": {
      "text/plain": [
       "0     [3.3]\n",
       "1     [3.1]\n",
       "2     [4.3]\n",
       "3     [4.2]\n",
       "4     [3.4]\n",
       "5     [3.3]\n",
       "6     [4.4]\n",
       "7     [4.3]\n",
       "8     [5.2]\n",
       "9     [5.3]\n",
       "10    [3.1]\n",
       "11    [3.4]\n",
       "12    [4.2]\n",
       "13    [4.4]\n",
       "Name: tracked_subject, dtype: object"
      ]
     },
     "execution_count": 122,
     "metadata": {},
     "output_type": "execute_result"
    }
   ],
   "source": [
    "START_STOP_FRAME_DF[\"tracked_subject\"]"
   ]
  },
  {
   "cell_type": "code",
   "execution_count": 123,
   "metadata": {},
   "outputs": [],
   "source": [
    "START_STOP_FRAME_DF[\"agent\"] = START_STOP_FRAME_DF.apply(lambda x: list((set(x[\"tracked_subject\"]) - set([x[\"current_subject\"]]))), axis=1)"
   ]
  },
  {
   "cell_type": "code",
   "execution_count": 124,
   "metadata": {
    "tags": []
   },
   "outputs": [
    {
     "data": {
      "text/html": [
       "<div>\n",
       "<style scoped>\n",
       "    .dataframe tbody tr th:only-of-type {\n",
       "        vertical-align: middle;\n",
       "    }\n",
       "\n",
       "    .dataframe tbody tr th {\n",
       "        vertical-align: top;\n",
       "    }\n",
       "\n",
       "    .dataframe thead th {\n",
       "        text-align: right;\n",
       "    }\n",
       "</style>\n",
       "<table border=\"1\" class=\"dataframe\">\n",
       "  <thead>\n",
       "    <tr style=\"text-align: right;\">\n",
       "      <th></th>\n",
       "      <th>start_frame</th>\n",
       "      <th>stop_frame</th>\n",
       "      <th>tracked_subject</th>\n",
       "      <th>in_video_subjects</th>\n",
       "      <th>box_number</th>\n",
       "      <th>sleap_name</th>\n",
       "      <th>video_name</th>\n",
       "      <th>current_subject</th>\n",
       "      <th>sleap_glob</th>\n",
       "      <th>sleap_path</th>\n",
       "      <th>...</th>\n",
       "      <th>average_width</th>\n",
       "      <th>width_ratio</th>\n",
       "      <th>height_ratio</th>\n",
       "      <th>rescaled_locations</th>\n",
       "      <th>box_top_right</th>\n",
       "      <th>box_bottom_right</th>\n",
       "      <th>box_top_left</th>\n",
       "      <th>reward_port</th>\n",
       "      <th>box_bottom_left</th>\n",
       "      <th>agent</th>\n",
       "    </tr>\n",
       "  </thead>\n",
       "  <tbody>\n",
       "    <tr>\n",
       "      <th>0</th>\n",
       "      <td>1</td>\n",
       "      <td>30500</td>\n",
       "      <td>[3.3]</td>\n",
       "      <td>[3.1, 3.3]</td>\n",
       "      <td>1</td>\n",
       "      <td>20240320_142408_alone_comp_subj_3-1_and_3-3.1....</td>\n",
       "      <td>20240320_142408_alone_comp_subj_3-1_and_3-3.1</td>\n",
       "      <td>3.3</td>\n",
       "      <td>[./data\\20240320_142408_alone_comp_subj_3-1_an...</td>\n",
       "      <td>./data\\20240320_142408_alone_comp_subj_3-1_and...</td>\n",
       "      <td>...</td>\n",
       "      <td>315.690810</td>\n",
       "      <td>0.093446</td>\n",
       "      <td>0.061215</td>\n",
       "      <td>{'3.3': [[[81.25761658 15.18572165], [82.73561...</td>\n",
       "      <td>[74.26084699849272, 8.602144309163993]</td>\n",
       "      <td>[75.1467563627655, 32.612433022962925]</td>\n",
       "      <td>[44.524314778435695, 9.472402701545125]</td>\n",
       "      <td>[60.89621072293514, 35.03865285708705]</td>\n",
       "      <td>[45.88328858282252, 33.462113987746186]</td>\n",
       "      <td>[]</td>\n",
       "    </tr>\n",
       "    <tr>\n",
       "      <th>1</th>\n",
       "      <td>1</td>\n",
       "      <td>30500</td>\n",
       "      <td>[3.1]</td>\n",
       "      <td>[3.1, 3.3]</td>\n",
       "      <td>2</td>\n",
       "      <td>20240320_142408_alone_comp_subj_3-1_and_3-3.2....</td>\n",
       "      <td>20240320_142408_alone_comp_subj_3-1_and_3-3.2</td>\n",
       "      <td>3.1</td>\n",
       "      <td>[./data\\20240320_142408_alone_comp_subj_3-1_an...</td>\n",
       "      <td>./data\\20240320_142408_alone_comp_subj_3-1_and...</td>\n",
       "      <td>...</td>\n",
       "      <td>315.876052</td>\n",
       "      <td>0.093391</td>\n",
       "      <td>0.062556</td>\n",
       "      <td>{'3.1': [[[61.29122483 38.35745702], [60.49559...</td>\n",
       "      <td>[74.65449798628558, 12.985865341388582]</td>\n",
       "      <td>[75.47124278897029, 36.822971247249434]</td>\n",
       "      <td>[45.6323952504599, 12.952108167992652]</td>\n",
       "      <td>[60.61777161454232, 39.09901269209973]</td>\n",
       "      <td>[45.49334552479596, 37.115002262131796]</td>\n",
       "      <td>[]</td>\n",
       "    </tr>\n",
       "    <tr>\n",
       "      <th>2</th>\n",
       "      <td>1</td>\n",
       "      <td>30500</td>\n",
       "      <td>[4.3]</td>\n",
       "      <td>[4.2, 4.3]</td>\n",
       "      <td>1</td>\n",
       "      <td>20240320_171038_alone_comp_subj_4-2_and_4-3.1....</td>\n",
       "      <td>20240320_171038_alone_comp_subj_4-2_and_4-3.1</td>\n",
       "      <td>4.3</td>\n",
       "      <td>[./data\\20240320_171038_alone_comp_subj_4-2_an...</td>\n",
       "      <td>./data\\20240320_171038_alone_comp_subj_4-2_and...</td>\n",
       "      <td>...</td>\n",
       "      <td>312.648215</td>\n",
       "      <td>0.094355</td>\n",
       "      <td>0.061209</td>\n",
       "      <td>{'4.3': [[[64.15922499 33.78932905], [60.41888...</td>\n",
       "      <td>[74.25151247701015, 8.495471311209611]</td>\n",
       "      <td>[75.846431736616, 32.597930822286116]</td>\n",
       "      <td>[44.801761988760454, 9.52006421612736]</td>\n",
       "      <td>[61.213420932957966, 35.084751405625006]</td>\n",
       "      <td>[46.2961822248657, 33.41760470505085]</td>\n",
       "      <td>[]</td>\n",
       "    </tr>\n",
       "    <tr>\n",
       "      <th>3</th>\n",
       "      <td>1</td>\n",
       "      <td>30500</td>\n",
       "      <td>[4.2]</td>\n",
       "      <td>[4.2, 4.3]</td>\n",
       "      <td>2</td>\n",
       "      <td>20240320_171038_alone_comp_subj_4-2_and_4-3.2....</td>\n",
       "      <td>20240320_171038_alone_comp_subj_4-2_and_4-3.2</td>\n",
       "      <td>4.2</td>\n",
       "      <td>[./data\\20240320_171038_alone_comp_subj_4-2_an...</td>\n",
       "      <td>./data\\20240320_171038_alone_comp_subj_4-2_and...</td>\n",
       "      <td>...</td>\n",
       "      <td>311.717960</td>\n",
       "      <td>0.094637</td>\n",
       "      <td>0.061771</td>\n",
       "      <td>{'4.2': [[[61.79392882 36.06263493], [60.30234...</td>\n",
       "      <td>[75.409866420081, 12.312416433613139]</td>\n",
       "      <td>[76.40026641953202, 36.404657294178875]</td>\n",
       "      <td>[46.125621015289695, 12.793694825220832]</td>\n",
       "      <td>[61.366536869886076, 38.4063959761727]</td>\n",
       "      <td>[46.68451182432332, 36.701453964655094]</td>\n",
       "      <td>[]</td>\n",
       "    </tr>\n",
       "    <tr>\n",
       "      <th>4</th>\n",
       "      <td>1</td>\n",
       "      <td>30500</td>\n",
       "      <td>[3.4]</td>\n",
       "      <td>[3.3, 3.4]</td>\n",
       "      <td>1</td>\n",
       "      <td>20240322_120625_alone_comp_subj_3-3_and_3-4.1....</td>\n",
       "      <td>20240322_120625_alone_comp_subj_3-3_and_3-4.1</td>\n",
       "      <td>3.4</td>\n",
       "      <td>[./data\\20240322_120625_alone_comp_subj_3-3_an...</td>\n",
       "      <td>./data\\20240322_120625_alone_comp_subj_3-3_and...</td>\n",
       "      <td>...</td>\n",
       "      <td>315.123900</td>\n",
       "      <td>0.093614</td>\n",
       "      <td>0.060985</td>\n",
       "      <td>{'3.4': [[[45.40197945 22.60939045], [49.16500...</td>\n",
       "      <td>[74.42236280061786, 8.926387194010582]</td>\n",
       "      <td>[75.66229810506, 33.05595819376228]</td>\n",
       "      <td>[44.96183325239834, 9.665056726197681]</td>\n",
       "      <td>[60.64564060702992, 34.963224775288616]</td>\n",
       "      <td>[46.12282765327953, 33.535485726445984]</td>\n",
       "      <td>[]</td>\n",
       "    </tr>\n",
       "    <tr>\n",
       "      <th>5</th>\n",
       "      <td>1</td>\n",
       "      <td>30500</td>\n",
       "      <td>[3.3]</td>\n",
       "      <td>[3.3, 3.4]</td>\n",
       "      <td>2</td>\n",
       "      <td>20240322_120625_alone_comp_subj_3-3_and_3-4.2....</td>\n",
       "      <td>20240322_120625_alone_comp_subj_3-3_and_3-4.2</td>\n",
       "      <td>3.3</td>\n",
       "      <td>[./data\\20240322_120625_alone_comp_subj_3-3_an...</td>\n",
       "      <td>./data\\20240322_120625_alone_comp_subj_3-3_and...</td>\n",
       "      <td>...</td>\n",
       "      <td>314.016778</td>\n",
       "      <td>0.093944</td>\n",
       "      <td>0.062011</td>\n",
       "      <td>{'3.3': [[[62.40144124 38.50540354], [60.61265...</td>\n",
       "      <td>[75.1904259009367, 13.037381242745353]</td>\n",
       "      <td>[76.21040817867082, 37.22617795738218]</td>\n",
       "      <td>[46.308737378381934, 13.44238000587634]</td>\n",
       "      <td>[61.048191792949126, 39.03465212442132]</td>\n",
       "      <td>[46.092096701225586, 37.25358329123952]</td>\n",
       "      <td>[]</td>\n",
       "    </tr>\n",
       "    <tr>\n",
       "      <th>6</th>\n",
       "      <td>1</td>\n",
       "      <td>30500</td>\n",
       "      <td>[4.4]</td>\n",
       "      <td>[4.3, 4.4]</td>\n",
       "      <td>1</td>\n",
       "      <td>20240322_160946_alone_comp_subj_4-3_and_4-4.1....</td>\n",
       "      <td>20240322_160946_alone_comp_subj_4-3_and_4-4.1</td>\n",
       "      <td>4.4</td>\n",
       "      <td>[./data\\20240322_160946_alone_comp_subj_4-3_an...</td>\n",
       "      <td>./data\\20240322_160946_alone_comp_subj_4-3_and...</td>\n",
       "      <td>...</td>\n",
       "      <td>314.277577</td>\n",
       "      <td>0.093866</td>\n",
       "      <td>0.060953</td>\n",
       "      <td>{'4.4': [[[65.83004167 33.99712546], [62.58692...</td>\n",
       "      <td>[74.32090297923322, 9.00873162549269]</td>\n",
       "      <td>[75.86111546135261, 33.08649829698795]</td>\n",
       "      <td>[45.05057620735221, 9.520876576536327]</td>\n",
       "      <td>[61.07566143432051, 35.02382387739249]</td>\n",
       "      <td>[46.131442233233635, 33.44310990504107]</td>\n",
       "      <td>[]</td>\n",
       "    </tr>\n",
       "    <tr>\n",
       "      <th>7</th>\n",
       "      <td>1</td>\n",
       "      <td>30500</td>\n",
       "      <td>[4.3]</td>\n",
       "      <td>[4.3, 4.4]</td>\n",
       "      <td>2</td>\n",
       "      <td>20240322_160946_alone_comp_subj_4-3_and_4-4.2....</td>\n",
       "      <td>20240322_160946_alone_comp_subj_4-3_and_4-4.2</td>\n",
       "      <td>4.3</td>\n",
       "      <td>[./data\\20240322_160946_alone_comp_subj_4-3_an...</td>\n",
       "      <td>./data\\20240322_160946_alone_comp_subj_4-3_and...</td>\n",
       "      <td>...</td>\n",
       "      <td>312.046754</td>\n",
       "      <td>0.094537</td>\n",
       "      <td>0.062465</td>\n",
       "      <td>{'4.3': [[[64.0210203  38.96036495], [61.51384...</td>\n",
       "      <td>[75.04300802708507, 13.465335249448659]</td>\n",
       "      <td>[76.92843480596702, 37.41512445091368]</td>\n",
       "      <td>[46.55831566257318, 13.277139657876045]</td>\n",
       "      <td>[61.394493195639434, 39.41816432798179]</td>\n",
       "      <td>[46.41312717047891, 37.32735045641102]</td>\n",
       "      <td>[]</td>\n",
       "    </tr>\n",
       "    <tr>\n",
       "      <th>8</th>\n",
       "      <td>1</td>\n",
       "      <td>30500</td>\n",
       "      <td>[5.2]</td>\n",
       "      <td>[5.2, 5.3]</td>\n",
       "      <td>1</td>\n",
       "      <td>20240323_122227_alone_comp_subj_5-2_and_5-3.1....</td>\n",
       "      <td>20240323_122227_alone_comp_subj_5-2_and_5-3.1</td>\n",
       "      <td>5.2</td>\n",
       "      <td>[./data\\20240323_122227_alone_comp_subj_5-2_an...</td>\n",
       "      <td>./data\\20240323_122227_alone_comp_subj_5-2_and...</td>\n",
       "      <td>...</td>\n",
       "      <td>319.579764</td>\n",
       "      <td>0.092309</td>\n",
       "      <td>0.060977</td>\n",
       "      <td>{'5.2': [[[66.96080655  7.81052453], [64.74205...</td>\n",
       "      <td>[73.69137374019866, 8.73964039598802]</td>\n",
       "      <td>[74.2660241722007, 33.0351921752976]</td>\n",
       "      <td>[44.11048600465072, 9.506678725728758]</td>\n",
       "      <td>[59.675010405289285, 35.14745113436801]</td>\n",
       "      <td>[44.84691190774864, 33.21112694641918]</td>\n",
       "      <td>[]</td>\n",
       "    </tr>\n",
       "    <tr>\n",
       "      <th>9</th>\n",
       "      <td>1</td>\n",
       "      <td>30500</td>\n",
       "      <td>[5.3]</td>\n",
       "      <td>[5.2, 5.3]</td>\n",
       "      <td>2</td>\n",
       "      <td>20240323_122227_alone_comp_subj_5-2_and_5-3.2....</td>\n",
       "      <td>20240323_122227_alone_comp_subj_5-2_and_5-3.2</td>\n",
       "      <td>5.3</td>\n",
       "      <td>[./data\\20240323_122227_alone_comp_subj_5-2_an...</td>\n",
       "      <td>./data\\20240323_122227_alone_comp_subj_5-2_and...</td>\n",
       "      <td>...</td>\n",
       "      <td>312.772713</td>\n",
       "      <td>0.094318</td>\n",
       "      <td>0.060995</td>\n",
       "      <td>{'5.3': [[[63.13104894 38.22789971], [60.85893...</td>\n",
       "      <td>[75.59537547030268, 12.62624554388569]</td>\n",
       "      <td>[75.84574757379093, 37.051451856845155]</td>\n",
       "      <td>[46.4689996471672, 12.77868562330315]</td>\n",
       "      <td>[60.95225422919154, 38.54219463362706]</td>\n",
       "      <td>[45.97212339692641, 36.35347931034369]</td>\n",
       "      <td>[]</td>\n",
       "    </tr>\n",
       "    <tr>\n",
       "      <th>10</th>\n",
       "      <td>1000</td>\n",
       "      <td>31000</td>\n",
       "      <td>[3.1]</td>\n",
       "      <td>[3.1, 3.4]</td>\n",
       "      <td>1</td>\n",
       "      <td>20240323_144517_alone_comp_subj_3-1_and_3-4.1....</td>\n",
       "      <td>20240323_144517_alone_comp_subj_3-1_and_3-4.1</td>\n",
       "      <td>3.1</td>\n",
       "      <td>[./data\\20240323_144517_alone_comp_subj_3-1_an...</td>\n",
       "      <td>./data\\20240323_144517_alone_comp_subj_3-1_and...</td>\n",
       "      <td>...</td>\n",
       "      <td>318.511663</td>\n",
       "      <td>0.092618</td>\n",
       "      <td>0.061329</td>\n",
       "      <td>{'3.1': [[[26.68450349 37.79024416], [22.76024...</td>\n",
       "      <td>[73.8962915987452, 9.011313050224908]</td>\n",
       "      <td>[74.27823364036897, 33.19289404824093]</td>\n",
       "      <td>[44.269882081513046, 9.882602260806793]</td>\n",
       "      <td>[60.14257983749145, 35.158291159920324]</td>\n",
       "      <td>[44.904643157601114, 33.70102126279077]</td>\n",
       "      <td>[]</td>\n",
       "    </tr>\n",
       "    <tr>\n",
       "      <th>11</th>\n",
       "      <td>1000</td>\n",
       "      <td>31000</td>\n",
       "      <td>[3.4]</td>\n",
       "      <td>[3.1, 3.4]</td>\n",
       "      <td>2</td>\n",
       "      <td>20240323_144517_alone_comp_subj_3-1_and_3-4.2....</td>\n",
       "      <td>20240323_144517_alone_comp_subj_3-1_and_3-4.2</td>\n",
       "      <td>3.4</td>\n",
       "      <td>[./data\\20240323_144517_alone_comp_subj_3-1_an...</td>\n",
       "      <td>./data\\20240323_144517_alone_comp_subj_3-1_and...</td>\n",
       "      <td>...</td>\n",
       "      <td>317.319074</td>\n",
       "      <td>0.092966</td>\n",
       "      <td>0.061295</td>\n",
       "      <td>{'3.4': [[[34.71375264 14.06475075], [39.20522...</td>\n",
       "      <td>[74.31931529819016, 12.41846595545113]</td>\n",
       "      <td>[75.55626584800572, 37.02187945069222]</td>\n",
       "      <td>[45.61636081042383, 13.131881695655093]</td>\n",
       "      <td>[60.13152803367824, 38.36418679681772]</td>\n",
       "      <td>[45.25922033577207, 36.52846820041401]</td>\n",
       "      <td>[]</td>\n",
       "    </tr>\n",
       "    <tr>\n",
       "      <th>12</th>\n",
       "      <td>1</td>\n",
       "      <td>35500</td>\n",
       "      <td>[4.2]</td>\n",
       "      <td>[4.2, 4.4]</td>\n",
       "      <td>1</td>\n",
       "      <td>20240323_165815_alone_comp_subj_4-2_and_4-4.1....</td>\n",
       "      <td>20240323_165815_alone_comp_subj_4-2_and_4-4.1</td>\n",
       "      <td>4.2</td>\n",
       "      <td>[./data\\20240323_165815_alone_comp_subj_4-2_an...</td>\n",
       "      <td>./data\\20240323_165815_alone_comp_subj_4-2_and...</td>\n",
       "      <td>...</td>\n",
       "      <td>314.793465</td>\n",
       "      <td>0.093712</td>\n",
       "      <td>0.060046</td>\n",
       "      <td>{'4.2': [[[56.95713573 32.17414366], [54.96879...</td>\n",
       "      <td>[74.79331560914378, 8.70604626088236]</td>\n",
       "      <td>[75.13766818568708, 32.540560984615595]</td>\n",
       "      <td>[45.132624680703124, 8.443182337418296]</td>\n",
       "      <td>[60.894370390068914, 34.253301735040985]</td>\n",
       "      <td>[45.79835911412773, 32.60866761368506]</td>\n",
       "      <td>[]</td>\n",
       "    </tr>\n",
       "    <tr>\n",
       "      <th>13</th>\n",
       "      <td>1</td>\n",
       "      <td>35500</td>\n",
       "      <td>[4.4]</td>\n",
       "      <td>[4.2, 4.4]</td>\n",
       "      <td>2</td>\n",
       "      <td>20240323_165815_alone_comp_subj_4-2_and_4-4.2....</td>\n",
       "      <td>20240323_165815_alone_comp_subj_4-2_and_4-4.2</td>\n",
       "      <td>4.4</td>\n",
       "      <td>[./data\\20240323_165815_alone_comp_subj_4-2_an...</td>\n",
       "      <td>./data\\20240323_165815_alone_comp_subj_4-2_and...</td>\n",
       "      <td>...</td>\n",
       "      <td>314.287380</td>\n",
       "      <td>0.093863</td>\n",
       "      <td>0.062302</td>\n",
       "      <td>{'4.4': [[[47.31451552 31.06972135], [51.81763...</td>\n",
       "      <td>[74.8642897669293, 12.846551443929256]</td>\n",
       "      <td>[75.71292977023818, 36.83283846644559]</td>\n",
       "      <td>[45.859724936445424, 13.08789040294347]</td>\n",
       "      <td>[60.83940407931332, 39.2982147476618]</td>\n",
       "      <td>[45.71749460072205, 37.10160338042714]</td>\n",
       "      <td>[]</td>\n",
       "    </tr>\n",
       "  </tbody>\n",
       "</table>\n",
       "<p>14 rows × 33 columns</p>\n",
       "</div>"
      ],
      "text/plain": [
       "    start_frame  stop_frame tracked_subject in_video_subjects  box_number  \\\n",
       "0             1       30500           [3.3]        [3.1, 3.3]           1   \n",
       "1             1       30500           [3.1]        [3.1, 3.3]           2   \n",
       "2             1       30500           [4.3]        [4.2, 4.3]           1   \n",
       "3             1       30500           [4.2]        [4.2, 4.3]           2   \n",
       "4             1       30500           [3.4]        [3.3, 3.4]           1   \n",
       "5             1       30500           [3.3]        [3.3, 3.4]           2   \n",
       "6             1       30500           [4.4]        [4.3, 4.4]           1   \n",
       "7             1       30500           [4.3]        [4.3, 4.4]           2   \n",
       "8             1       30500           [5.2]        [5.2, 5.3]           1   \n",
       "9             1       30500           [5.3]        [5.2, 5.3]           2   \n",
       "10         1000       31000           [3.1]        [3.1, 3.4]           1   \n",
       "11         1000       31000           [3.4]        [3.1, 3.4]           2   \n",
       "12            1       35500           [4.2]        [4.2, 4.4]           1   \n",
       "13            1       35500           [4.4]        [4.2, 4.4]           2   \n",
       "\n",
       "                                           sleap_name  \\\n",
       "0   20240320_142408_alone_comp_subj_3-1_and_3-3.1....   \n",
       "1   20240320_142408_alone_comp_subj_3-1_and_3-3.2....   \n",
       "2   20240320_171038_alone_comp_subj_4-2_and_4-3.1....   \n",
       "3   20240320_171038_alone_comp_subj_4-2_and_4-3.2....   \n",
       "4   20240322_120625_alone_comp_subj_3-3_and_3-4.1....   \n",
       "5   20240322_120625_alone_comp_subj_3-3_and_3-4.2....   \n",
       "6   20240322_160946_alone_comp_subj_4-3_and_4-4.1....   \n",
       "7   20240322_160946_alone_comp_subj_4-3_and_4-4.2....   \n",
       "8   20240323_122227_alone_comp_subj_5-2_and_5-3.1....   \n",
       "9   20240323_122227_alone_comp_subj_5-2_and_5-3.2....   \n",
       "10  20240323_144517_alone_comp_subj_3-1_and_3-4.1....   \n",
       "11  20240323_144517_alone_comp_subj_3-1_and_3-4.2....   \n",
       "12  20240323_165815_alone_comp_subj_4-2_and_4-4.1....   \n",
       "13  20240323_165815_alone_comp_subj_4-2_and_4-4.2....   \n",
       "\n",
       "                                       video_name current_subject  \\\n",
       "0   20240320_142408_alone_comp_subj_3-1_and_3-3.1             3.3   \n",
       "1   20240320_142408_alone_comp_subj_3-1_and_3-3.2             3.1   \n",
       "2   20240320_171038_alone_comp_subj_4-2_and_4-3.1             4.3   \n",
       "3   20240320_171038_alone_comp_subj_4-2_and_4-3.2             4.2   \n",
       "4   20240322_120625_alone_comp_subj_3-3_and_3-4.1             3.4   \n",
       "5   20240322_120625_alone_comp_subj_3-3_and_3-4.2             3.3   \n",
       "6   20240322_160946_alone_comp_subj_4-3_and_4-4.1             4.4   \n",
       "7   20240322_160946_alone_comp_subj_4-3_and_4-4.2             4.3   \n",
       "8   20240323_122227_alone_comp_subj_5-2_and_5-3.1             5.2   \n",
       "9   20240323_122227_alone_comp_subj_5-2_and_5-3.2             5.3   \n",
       "10  20240323_144517_alone_comp_subj_3-1_and_3-4.1             3.1   \n",
       "11  20240323_144517_alone_comp_subj_3-1_and_3-4.2             3.4   \n",
       "12  20240323_165815_alone_comp_subj_4-2_and_4-4.1             4.2   \n",
       "13  20240323_165815_alone_comp_subj_4-2_and_4-4.2             4.4   \n",
       "\n",
       "                                           sleap_glob  \\\n",
       "0   [./data\\20240320_142408_alone_comp_subj_3-1_an...   \n",
       "1   [./data\\20240320_142408_alone_comp_subj_3-1_an...   \n",
       "2   [./data\\20240320_171038_alone_comp_subj_4-2_an...   \n",
       "3   [./data\\20240320_171038_alone_comp_subj_4-2_an...   \n",
       "4   [./data\\20240322_120625_alone_comp_subj_3-3_an...   \n",
       "5   [./data\\20240322_120625_alone_comp_subj_3-3_an...   \n",
       "6   [./data\\20240322_160946_alone_comp_subj_4-3_an...   \n",
       "7   [./data\\20240322_160946_alone_comp_subj_4-3_an...   \n",
       "8   [./data\\20240323_122227_alone_comp_subj_5-2_an...   \n",
       "9   [./data\\20240323_122227_alone_comp_subj_5-2_an...   \n",
       "10  [./data\\20240323_144517_alone_comp_subj_3-1_an...   \n",
       "11  [./data\\20240323_144517_alone_comp_subj_3-1_an...   \n",
       "12  [./data\\20240323_165815_alone_comp_subj_4-2_an...   \n",
       "13  [./data\\20240323_165815_alone_comp_subj_4-2_an...   \n",
       "\n",
       "                                           sleap_path  ... average_width  \\\n",
       "0   ./data\\20240320_142408_alone_comp_subj_3-1_and...  ...    315.690810   \n",
       "1   ./data\\20240320_142408_alone_comp_subj_3-1_and...  ...    315.876052   \n",
       "2   ./data\\20240320_171038_alone_comp_subj_4-2_and...  ...    312.648215   \n",
       "3   ./data\\20240320_171038_alone_comp_subj_4-2_and...  ...    311.717960   \n",
       "4   ./data\\20240322_120625_alone_comp_subj_3-3_and...  ...    315.123900   \n",
       "5   ./data\\20240322_120625_alone_comp_subj_3-3_and...  ...    314.016778   \n",
       "6   ./data\\20240322_160946_alone_comp_subj_4-3_and...  ...    314.277577   \n",
       "7   ./data\\20240322_160946_alone_comp_subj_4-3_and...  ...    312.046754   \n",
       "8   ./data\\20240323_122227_alone_comp_subj_5-2_and...  ...    319.579764   \n",
       "9   ./data\\20240323_122227_alone_comp_subj_5-2_and...  ...    312.772713   \n",
       "10  ./data\\20240323_144517_alone_comp_subj_3-1_and...  ...    318.511663   \n",
       "11  ./data\\20240323_144517_alone_comp_subj_3-1_and...  ...    317.319074   \n",
       "12  ./data\\20240323_165815_alone_comp_subj_4-2_and...  ...    314.793465   \n",
       "13  ./data\\20240323_165815_alone_comp_subj_4-2_and...  ...    314.287380   \n",
       "\n",
       "   width_ratio height_ratio  \\\n",
       "0     0.093446     0.061215   \n",
       "1     0.093391     0.062556   \n",
       "2     0.094355     0.061209   \n",
       "3     0.094637     0.061771   \n",
       "4     0.093614     0.060985   \n",
       "5     0.093944     0.062011   \n",
       "6     0.093866     0.060953   \n",
       "7     0.094537     0.062465   \n",
       "8     0.092309     0.060977   \n",
       "9     0.094318     0.060995   \n",
       "10    0.092618     0.061329   \n",
       "11    0.092966     0.061295   \n",
       "12    0.093712     0.060046   \n",
       "13    0.093863     0.062302   \n",
       "\n",
       "                                   rescaled_locations  \\\n",
       "0   {'3.3': [[[81.25761658 15.18572165], [82.73561...   \n",
       "1   {'3.1': [[[61.29122483 38.35745702], [60.49559...   \n",
       "2   {'4.3': [[[64.15922499 33.78932905], [60.41888...   \n",
       "3   {'4.2': [[[61.79392882 36.06263493], [60.30234...   \n",
       "4   {'3.4': [[[45.40197945 22.60939045], [49.16500...   \n",
       "5   {'3.3': [[[62.40144124 38.50540354], [60.61265...   \n",
       "6   {'4.4': [[[65.83004167 33.99712546], [62.58692...   \n",
       "7   {'4.3': [[[64.0210203  38.96036495], [61.51384...   \n",
       "8   {'5.2': [[[66.96080655  7.81052453], [64.74205...   \n",
       "9   {'5.3': [[[63.13104894 38.22789971], [60.85893...   \n",
       "10  {'3.1': [[[26.68450349 37.79024416], [22.76024...   \n",
       "11  {'3.4': [[[34.71375264 14.06475075], [39.20522...   \n",
       "12  {'4.2': [[[56.95713573 32.17414366], [54.96879...   \n",
       "13  {'4.4': [[[47.31451552 31.06972135], [51.81763...   \n",
       "\n",
       "                              box_top_right  \\\n",
       "0    [74.26084699849272, 8.602144309163993]   \n",
       "1   [74.65449798628558, 12.985865341388582]   \n",
       "2    [74.25151247701015, 8.495471311209611]   \n",
       "3     [75.409866420081, 12.312416433613139]   \n",
       "4    [74.42236280061786, 8.926387194010582]   \n",
       "5    [75.1904259009367, 13.037381242745353]   \n",
       "6     [74.32090297923322, 9.00873162549269]   \n",
       "7   [75.04300802708507, 13.465335249448659]   \n",
       "8     [73.69137374019866, 8.73964039598802]   \n",
       "9    [75.59537547030268, 12.62624554388569]   \n",
       "10    [73.8962915987452, 9.011313050224908]   \n",
       "11   [74.31931529819016, 12.41846595545113]   \n",
       "12    [74.79331560914378, 8.70604626088236]   \n",
       "13   [74.8642897669293, 12.846551443929256]   \n",
       "\n",
       "                           box_bottom_right  \\\n",
       "0    [75.1467563627655, 32.612433022962925]   \n",
       "1   [75.47124278897029, 36.822971247249434]   \n",
       "2     [75.846431736616, 32.597930822286116]   \n",
       "3   [76.40026641953202, 36.404657294178875]   \n",
       "4       [75.66229810506, 33.05595819376228]   \n",
       "5    [76.21040817867082, 37.22617795738218]   \n",
       "6    [75.86111546135261, 33.08649829698795]   \n",
       "7    [76.92843480596702, 37.41512445091368]   \n",
       "8      [74.2660241722007, 33.0351921752976]   \n",
       "9   [75.84574757379093, 37.051451856845155]   \n",
       "10   [74.27823364036897, 33.19289404824093]   \n",
       "11   [75.55626584800572, 37.02187945069222]   \n",
       "12  [75.13766818568708, 32.540560984615595]   \n",
       "13   [75.71292977023818, 36.83283846644559]   \n",
       "\n",
       "                                box_top_left  \\\n",
       "0    [44.524314778435695, 9.472402701545125]   \n",
       "1     [45.6323952504599, 12.952108167992652]   \n",
       "2     [44.801761988760454, 9.52006421612736]   \n",
       "3   [46.125621015289695, 12.793694825220832]   \n",
       "4     [44.96183325239834, 9.665056726197681]   \n",
       "5    [46.308737378381934, 13.44238000587634]   \n",
       "6     [45.05057620735221, 9.520876576536327]   \n",
       "7    [46.55831566257318, 13.277139657876045]   \n",
       "8     [44.11048600465072, 9.506678725728758]   \n",
       "9      [46.4689996471672, 12.77868562330315]   \n",
       "10   [44.269882081513046, 9.882602260806793]   \n",
       "11   [45.61636081042383, 13.131881695655093]   \n",
       "12   [45.132624680703124, 8.443182337418296]   \n",
       "13   [45.859724936445424, 13.08789040294347]   \n",
       "\n",
       "                                 reward_port  \\\n",
       "0     [60.89621072293514, 35.03865285708705]   \n",
       "1     [60.61777161454232, 39.09901269209973]   \n",
       "2   [61.213420932957966, 35.084751405625006]   \n",
       "3     [61.366536869886076, 38.4063959761727]   \n",
       "4    [60.64564060702992, 34.963224775288616]   \n",
       "5    [61.048191792949126, 39.03465212442132]   \n",
       "6     [61.07566143432051, 35.02382387739249]   \n",
       "7    [61.394493195639434, 39.41816432798179]   \n",
       "8    [59.675010405289285, 35.14745113436801]   \n",
       "9     [60.95225422919154, 38.54219463362706]   \n",
       "10   [60.14257983749145, 35.158291159920324]   \n",
       "11    [60.13152803367824, 38.36418679681772]   \n",
       "12  [60.894370390068914, 34.253301735040985]   \n",
       "13     [60.83940407931332, 39.2982147476618]   \n",
       "\n",
       "                            box_bottom_left  agent  \n",
       "0   [45.88328858282252, 33.462113987746186]     []  \n",
       "1   [45.49334552479596, 37.115002262131796]     []  \n",
       "2     [46.2961822248657, 33.41760470505085]     []  \n",
       "3   [46.68451182432332, 36.701453964655094]     []  \n",
       "4   [46.12282765327953, 33.535485726445984]     []  \n",
       "5   [46.092096701225586, 37.25358329123952]     []  \n",
       "6   [46.131442233233635, 33.44310990504107]     []  \n",
       "7    [46.41312717047891, 37.32735045641102]     []  \n",
       "8    [44.84691190774864, 33.21112694641918]     []  \n",
       "9    [45.97212339692641, 36.35347931034369]     []  \n",
       "10  [44.904643157601114, 33.70102126279077]     []  \n",
       "11   [45.25922033577207, 36.52846820041401]     []  \n",
       "12   [45.79835911412773, 32.60866761368506]     []  \n",
       "13   [45.71749460072205, 37.10160338042714]     []  \n",
       "\n",
       "[14 rows x 33 columns]"
      ]
     },
     "execution_count": 124,
     "metadata": {},
     "output_type": "execute_result"
    }
   ],
   "source": [
    "START_STOP_FRAME_DF[START_STOP_FRAME_DF[\"agent\"].apply(lambda x: len(x) != 1)]"
   ]
  },
  {
   "cell_type": "code",
   "execution_count": 125,
   "metadata": {
    "tags": []
   },
   "outputs": [],
   "source": [
    "# START_STOP_FRAME_DF = START_STOP_FRAME_DF[START_STOP_FRAME_DF[\"tracked_subject\"].apply(lambda x: len(x) == 2)]"
   ]
  },
  {
   "cell_type": "code",
   "execution_count": 126,
   "metadata": {
    "tags": []
   },
   "outputs": [],
   "source": [
    "START_STOP_FRAME_DF[\"agent\"] = START_STOP_FRAME_DF[\"agent\"].apply(lambda x: x[0] if len(x) == 1 else None)"
   ]
  },
  {
   "cell_type": "code",
   "execution_count": 127,
   "metadata": {},
   "outputs": [
    {
     "data": {
      "text/plain": [
       "0     None\n",
       "1     None\n",
       "2     None\n",
       "3     None\n",
       "4     None\n",
       "5     None\n",
       "6     None\n",
       "7     None\n",
       "8     None\n",
       "9     None\n",
       "10    None\n",
       "11    None\n",
       "12    None\n",
       "13    None\n",
       "Name: agent, dtype: object"
      ]
     },
     "execution_count": 127,
     "metadata": {},
     "output_type": "execute_result"
    }
   ],
   "source": [
    "START_STOP_FRAME_DF[\"agent\"]"
   ]
  },
  {
   "cell_type": "code",
   "execution_count": 128,
   "metadata": {},
   "outputs": [
    {
     "data": {
      "text/html": [
       "<div>\n",
       "<style scoped>\n",
       "    .dataframe tbody tr th:only-of-type {\n",
       "        vertical-align: middle;\n",
       "    }\n",
       "\n",
       "    .dataframe tbody tr th {\n",
       "        vertical-align: top;\n",
       "    }\n",
       "\n",
       "    .dataframe thead th {\n",
       "        text-align: right;\n",
       "    }\n",
       "</style>\n",
       "<table border=\"1\" class=\"dataframe\">\n",
       "  <thead>\n",
       "    <tr style=\"text-align: right;\">\n",
       "      <th></th>\n",
       "      <th>start_frame</th>\n",
       "      <th>stop_frame</th>\n",
       "      <th>tracked_subject</th>\n",
       "      <th>in_video_subjects</th>\n",
       "      <th>box_number</th>\n",
       "      <th>sleap_name</th>\n",
       "      <th>video_name</th>\n",
       "      <th>current_subject</th>\n",
       "      <th>sleap_glob</th>\n",
       "      <th>sleap_path</th>\n",
       "      <th>...</th>\n",
       "      <th>average_width</th>\n",
       "      <th>width_ratio</th>\n",
       "      <th>height_ratio</th>\n",
       "      <th>rescaled_locations</th>\n",
       "      <th>box_top_right</th>\n",
       "      <th>box_bottom_right</th>\n",
       "      <th>box_top_left</th>\n",
       "      <th>reward_port</th>\n",
       "      <th>box_bottom_left</th>\n",
       "      <th>agent</th>\n",
       "    </tr>\n",
       "  </thead>\n",
       "  <tbody>\n",
       "    <tr>\n",
       "      <th>0</th>\n",
       "      <td>1</td>\n",
       "      <td>30500</td>\n",
       "      <td>[3.3]</td>\n",
       "      <td>[3.1, 3.3]</td>\n",
       "      <td>1</td>\n",
       "      <td>20240320_142408_alone_comp_subj_3-1_and_3-3.1....</td>\n",
       "      <td>20240320_142408_alone_comp_subj_3-1_and_3-3.1</td>\n",
       "      <td>3.3</td>\n",
       "      <td>[./data\\20240320_142408_alone_comp_subj_3-1_an...</td>\n",
       "      <td>./data\\20240320_142408_alone_comp_subj_3-1_and...</td>\n",
       "      <td>...</td>\n",
       "      <td>315.690810</td>\n",
       "      <td>0.093446</td>\n",
       "      <td>0.061215</td>\n",
       "      <td>{'3.3': [[[81.25761658 15.18572165], [82.73561...</td>\n",
       "      <td>[74.26084699849272, 8.602144309163993]</td>\n",
       "      <td>[75.1467563627655, 32.612433022962925]</td>\n",
       "      <td>[44.524314778435695, 9.472402701545125]</td>\n",
       "      <td>[60.89621072293514, 35.03865285708705]</td>\n",
       "      <td>[45.88328858282252, 33.462113987746186]</td>\n",
       "      <td>None</td>\n",
       "    </tr>\n",
       "    <tr>\n",
       "      <th>1</th>\n",
       "      <td>1</td>\n",
       "      <td>30500</td>\n",
       "      <td>[3.1]</td>\n",
       "      <td>[3.1, 3.3]</td>\n",
       "      <td>2</td>\n",
       "      <td>20240320_142408_alone_comp_subj_3-1_and_3-3.2....</td>\n",
       "      <td>20240320_142408_alone_comp_subj_3-1_and_3-3.2</td>\n",
       "      <td>3.1</td>\n",
       "      <td>[./data\\20240320_142408_alone_comp_subj_3-1_an...</td>\n",
       "      <td>./data\\20240320_142408_alone_comp_subj_3-1_and...</td>\n",
       "      <td>...</td>\n",
       "      <td>315.876052</td>\n",
       "      <td>0.093391</td>\n",
       "      <td>0.062556</td>\n",
       "      <td>{'3.1': [[[61.29122483 38.35745702], [60.49559...</td>\n",
       "      <td>[74.65449798628558, 12.985865341388582]</td>\n",
       "      <td>[75.47124278897029, 36.822971247249434]</td>\n",
       "      <td>[45.6323952504599, 12.952108167992652]</td>\n",
       "      <td>[60.61777161454232, 39.09901269209973]</td>\n",
       "      <td>[45.49334552479596, 37.115002262131796]</td>\n",
       "      <td>None</td>\n",
       "    </tr>\n",
       "    <tr>\n",
       "      <th>2</th>\n",
       "      <td>1</td>\n",
       "      <td>30500</td>\n",
       "      <td>[4.3]</td>\n",
       "      <td>[4.2, 4.3]</td>\n",
       "      <td>1</td>\n",
       "      <td>20240320_171038_alone_comp_subj_4-2_and_4-3.1....</td>\n",
       "      <td>20240320_171038_alone_comp_subj_4-2_and_4-3.1</td>\n",
       "      <td>4.3</td>\n",
       "      <td>[./data\\20240320_171038_alone_comp_subj_4-2_an...</td>\n",
       "      <td>./data\\20240320_171038_alone_comp_subj_4-2_and...</td>\n",
       "      <td>...</td>\n",
       "      <td>312.648215</td>\n",
       "      <td>0.094355</td>\n",
       "      <td>0.061209</td>\n",
       "      <td>{'4.3': [[[64.15922499 33.78932905], [60.41888...</td>\n",
       "      <td>[74.25151247701015, 8.495471311209611]</td>\n",
       "      <td>[75.846431736616, 32.597930822286116]</td>\n",
       "      <td>[44.801761988760454, 9.52006421612736]</td>\n",
       "      <td>[61.213420932957966, 35.084751405625006]</td>\n",
       "      <td>[46.2961822248657, 33.41760470505085]</td>\n",
       "      <td>None</td>\n",
       "    </tr>\n",
       "    <tr>\n",
       "      <th>3</th>\n",
       "      <td>1</td>\n",
       "      <td>30500</td>\n",
       "      <td>[4.2]</td>\n",
       "      <td>[4.2, 4.3]</td>\n",
       "      <td>2</td>\n",
       "      <td>20240320_171038_alone_comp_subj_4-2_and_4-3.2....</td>\n",
       "      <td>20240320_171038_alone_comp_subj_4-2_and_4-3.2</td>\n",
       "      <td>4.2</td>\n",
       "      <td>[./data\\20240320_171038_alone_comp_subj_4-2_an...</td>\n",
       "      <td>./data\\20240320_171038_alone_comp_subj_4-2_and...</td>\n",
       "      <td>...</td>\n",
       "      <td>311.717960</td>\n",
       "      <td>0.094637</td>\n",
       "      <td>0.061771</td>\n",
       "      <td>{'4.2': [[[61.79392882 36.06263493], [60.30234...</td>\n",
       "      <td>[75.409866420081, 12.312416433613139]</td>\n",
       "      <td>[76.40026641953202, 36.404657294178875]</td>\n",
       "      <td>[46.125621015289695, 12.793694825220832]</td>\n",
       "      <td>[61.366536869886076, 38.4063959761727]</td>\n",
       "      <td>[46.68451182432332, 36.701453964655094]</td>\n",
       "      <td>None</td>\n",
       "    </tr>\n",
       "    <tr>\n",
       "      <th>4</th>\n",
       "      <td>1</td>\n",
       "      <td>30500</td>\n",
       "      <td>[3.4]</td>\n",
       "      <td>[3.3, 3.4]</td>\n",
       "      <td>1</td>\n",
       "      <td>20240322_120625_alone_comp_subj_3-3_and_3-4.1....</td>\n",
       "      <td>20240322_120625_alone_comp_subj_3-3_and_3-4.1</td>\n",
       "      <td>3.4</td>\n",
       "      <td>[./data\\20240322_120625_alone_comp_subj_3-3_an...</td>\n",
       "      <td>./data\\20240322_120625_alone_comp_subj_3-3_and...</td>\n",
       "      <td>...</td>\n",
       "      <td>315.123900</td>\n",
       "      <td>0.093614</td>\n",
       "      <td>0.060985</td>\n",
       "      <td>{'3.4': [[[45.40197945 22.60939045], [49.16500...</td>\n",
       "      <td>[74.42236280061786, 8.926387194010582]</td>\n",
       "      <td>[75.66229810506, 33.05595819376228]</td>\n",
       "      <td>[44.96183325239834, 9.665056726197681]</td>\n",
       "      <td>[60.64564060702992, 34.963224775288616]</td>\n",
       "      <td>[46.12282765327953, 33.535485726445984]</td>\n",
       "      <td>None</td>\n",
       "    </tr>\n",
       "  </tbody>\n",
       "</table>\n",
       "<p>5 rows × 33 columns</p>\n",
       "</div>"
      ],
      "text/plain": [
       "   start_frame  stop_frame tracked_subject in_video_subjects  box_number  \\\n",
       "0            1       30500           [3.3]        [3.1, 3.3]           1   \n",
       "1            1       30500           [3.1]        [3.1, 3.3]           2   \n",
       "2            1       30500           [4.3]        [4.2, 4.3]           1   \n",
       "3            1       30500           [4.2]        [4.2, 4.3]           2   \n",
       "4            1       30500           [3.4]        [3.3, 3.4]           1   \n",
       "\n",
       "                                          sleap_name  \\\n",
       "0  20240320_142408_alone_comp_subj_3-1_and_3-3.1....   \n",
       "1  20240320_142408_alone_comp_subj_3-1_and_3-3.2....   \n",
       "2  20240320_171038_alone_comp_subj_4-2_and_4-3.1....   \n",
       "3  20240320_171038_alone_comp_subj_4-2_and_4-3.2....   \n",
       "4  20240322_120625_alone_comp_subj_3-3_and_3-4.1....   \n",
       "\n",
       "                                      video_name current_subject  \\\n",
       "0  20240320_142408_alone_comp_subj_3-1_and_3-3.1             3.3   \n",
       "1  20240320_142408_alone_comp_subj_3-1_and_3-3.2             3.1   \n",
       "2  20240320_171038_alone_comp_subj_4-2_and_4-3.1             4.3   \n",
       "3  20240320_171038_alone_comp_subj_4-2_and_4-3.2             4.2   \n",
       "4  20240322_120625_alone_comp_subj_3-3_and_3-4.1             3.4   \n",
       "\n",
       "                                          sleap_glob  \\\n",
       "0  [./data\\20240320_142408_alone_comp_subj_3-1_an...   \n",
       "1  [./data\\20240320_142408_alone_comp_subj_3-1_an...   \n",
       "2  [./data\\20240320_171038_alone_comp_subj_4-2_an...   \n",
       "3  [./data\\20240320_171038_alone_comp_subj_4-2_an...   \n",
       "4  [./data\\20240322_120625_alone_comp_subj_3-3_an...   \n",
       "\n",
       "                                          sleap_path  ... average_width  \\\n",
       "0  ./data\\20240320_142408_alone_comp_subj_3-1_and...  ...    315.690810   \n",
       "1  ./data\\20240320_142408_alone_comp_subj_3-1_and...  ...    315.876052   \n",
       "2  ./data\\20240320_171038_alone_comp_subj_4-2_and...  ...    312.648215   \n",
       "3  ./data\\20240320_171038_alone_comp_subj_4-2_and...  ...    311.717960   \n",
       "4  ./data\\20240322_120625_alone_comp_subj_3-3_and...  ...    315.123900   \n",
       "\n",
       "  width_ratio height_ratio                                 rescaled_locations  \\\n",
       "0    0.093446     0.061215  {'3.3': [[[81.25761658 15.18572165], [82.73561...   \n",
       "1    0.093391     0.062556  {'3.1': [[[61.29122483 38.35745702], [60.49559...   \n",
       "2    0.094355     0.061209  {'4.3': [[[64.15922499 33.78932905], [60.41888...   \n",
       "3    0.094637     0.061771  {'4.2': [[[61.79392882 36.06263493], [60.30234...   \n",
       "4    0.093614     0.060985  {'3.4': [[[45.40197945 22.60939045], [49.16500...   \n",
       "\n",
       "                             box_top_right  \\\n",
       "0   [74.26084699849272, 8.602144309163993]   \n",
       "1  [74.65449798628558, 12.985865341388582]   \n",
       "2   [74.25151247701015, 8.495471311209611]   \n",
       "3    [75.409866420081, 12.312416433613139]   \n",
       "4   [74.42236280061786, 8.926387194010582]   \n",
       "\n",
       "                          box_bottom_right  \\\n",
       "0   [75.1467563627655, 32.612433022962925]   \n",
       "1  [75.47124278897029, 36.822971247249434]   \n",
       "2    [75.846431736616, 32.597930822286116]   \n",
       "3  [76.40026641953202, 36.404657294178875]   \n",
       "4      [75.66229810506, 33.05595819376228]   \n",
       "\n",
       "                               box_top_left  \\\n",
       "0   [44.524314778435695, 9.472402701545125]   \n",
       "1    [45.6323952504599, 12.952108167992652]   \n",
       "2    [44.801761988760454, 9.52006421612736]   \n",
       "3  [46.125621015289695, 12.793694825220832]   \n",
       "4    [44.96183325239834, 9.665056726197681]   \n",
       "\n",
       "                                reward_port  \\\n",
       "0    [60.89621072293514, 35.03865285708705]   \n",
       "1    [60.61777161454232, 39.09901269209973]   \n",
       "2  [61.213420932957966, 35.084751405625006]   \n",
       "3    [61.366536869886076, 38.4063959761727]   \n",
       "4   [60.64564060702992, 34.963224775288616]   \n",
       "\n",
       "                           box_bottom_left  agent  \n",
       "0  [45.88328858282252, 33.462113987746186]   None  \n",
       "1  [45.49334552479596, 37.115002262131796]   None  \n",
       "2    [46.2961822248657, 33.41760470505085]   None  \n",
       "3  [46.68451182432332, 36.701453964655094]   None  \n",
       "4  [46.12282765327953, 33.535485726445984]   None  \n",
       "\n",
       "[5 rows x 33 columns]"
      ]
     },
     "execution_count": 128,
     "metadata": {},
     "output_type": "execute_result"
    }
   ],
   "source": [
    "START_STOP_FRAME_DF.head()"
   ]
  },
  {
   "cell_type": "code",
   "execution_count": 129,
   "metadata": {},
   "outputs": [
    {
     "data": {
      "text/plain": [
       "0     3.3\n",
       "1     3.1\n",
       "2     4.3\n",
       "3     4.2\n",
       "4     3.4\n",
       "5     3.3\n",
       "6     4.4\n",
       "7     4.3\n",
       "8     5.2\n",
       "9     5.3\n",
       "10    3.1\n",
       "11    3.4\n",
       "12    4.2\n",
       "13    4.4\n",
       "Name: current_subject, dtype: object"
      ]
     },
     "execution_count": 129,
     "metadata": {},
     "output_type": "execute_result"
    }
   ],
   "source": [
    "START_STOP_FRAME_DF[\"current_subject\"]"
   ]
  },
  {
   "cell_type": "code",
   "execution_count": 130,
   "metadata": {},
   "outputs": [],
   "source": [
    "START_STOP_FRAME_DF[\"subject_locations\"] = START_STOP_FRAME_DF.apply(lambda x: x[\"rescaled_locations\"][x[\"current_subject\"]] , axis=1)"
   ]
  },
  {
   "cell_type": "code",
   "execution_count": 131,
   "metadata": {},
   "outputs": [],
   "source": [
    "START_STOP_FRAME_DF[\"agent_locations\"] = START_STOP_FRAME_DF.apply(lambda x: x[\"rescaled_locations\"].get(x[\"agent\"], np.nan) if x[\"agent\"] else np.nan, axis=1)"
   ]
  },
  {
   "cell_type": "markdown",
   "metadata": {},
   "source": [
    "## Getting all the timestamps"
   ]
  },
  {
   "cell_type": "code",
   "execution_count": 132,
   "metadata": {},
   "outputs": [
    {
     "data": {
      "text/plain": [
       "Index(['start_frame', 'stop_frame', 'tracked_subject', 'in_video_subjects',\n",
       "       'box_number', 'sleap_name', 'video_name', 'current_subject',\n",
       "       'sleap_glob', 'sleap_path', 'all_sleap_data', 'body_parts', 'locations',\n",
       "       'track_names', 'subject_to_index', 'subject_to_tracks', 'corner_path',\n",
       "       'corner_parts', 'bottom_width', 'top_width', 'right_height',\n",
       "       'left_height', 'average_height', 'average_width', 'width_ratio',\n",
       "       'height_ratio', 'rescaled_locations', 'box_top_right',\n",
       "       'box_bottom_right', 'box_top_left', 'reward_port', 'box_bottom_left',\n",
       "       'agent', 'subject_locations', 'agent_locations'],\n",
       "      dtype='object')"
      ]
     },
     "execution_count": 132,
     "metadata": {},
     "output_type": "execute_result"
    }
   ],
   "source": [
    "START_STOP_FRAME_DF.columns"
   ]
  },
  {
   "cell_type": "code",
   "execution_count": 133,
   "metadata": {},
   "outputs": [],
   "source": [
    "START_STOP_FRAME_DF[\"frame_index\"] = START_STOP_FRAME_DF[\"subject_locations\"].apply(lambda x: np.arange(0, x.shape[0]) + 1)"
   ]
  },
  {
   "cell_type": "markdown",
   "metadata": {},
   "source": [
    "## Removing unnecessary columns"
   ]
  },
  {
   "cell_type": "code",
   "execution_count": 134,
   "metadata": {},
   "outputs": [],
   "source": [
    "START_STOP_FRAME_DF = START_STOP_FRAME_DF.drop([\"sleap_glob\", \"subject_to_index\", \"subject_to_tracks\", \"corner_parts\", \"corner_to_coordinate\", \"bottom_width\", \"top_width\", \"right_height\", \"left_height\", \"average_height\", \"average_width\", \"width_ratio\", \"height_ratio\", 'locations', 'track_names', 'sleap_path', 'corner_path', 'all_sleap_data', 'rescaled_locations'], errors=\"ignore\", axis=1)"
   ]
  },
  {
   "cell_type": "code",
   "execution_count": 135,
   "metadata": {},
   "outputs": [
    {
     "data": {
      "text/plain": [
       "Index(['start_frame', 'stop_frame', 'tracked_subject', 'in_video_subjects',\n",
       "       'box_number', 'sleap_name', 'video_name', 'current_subject',\n",
       "       'body_parts', 'box_top_right', 'box_bottom_right', 'box_top_left',\n",
       "       'reward_port', 'box_bottom_left', 'agent', 'subject_locations',\n",
       "       'agent_locations', 'frame_index'],\n",
       "      dtype='object')"
      ]
     },
     "execution_count": 135,
     "metadata": {},
     "output_type": "execute_result"
    }
   ],
   "source": [
    "START_STOP_FRAME_DF.columns"
   ]
  },
  {
   "cell_type": "code",
   "execution_count": 136,
   "metadata": {},
   "outputs": [
    {
     "data": {
      "text/html": [
       "<div>\n",
       "<style scoped>\n",
       "    .dataframe tbody tr th:only-of-type {\n",
       "        vertical-align: middle;\n",
       "    }\n",
       "\n",
       "    .dataframe tbody tr th {\n",
       "        vertical-align: top;\n",
       "    }\n",
       "\n",
       "    .dataframe thead th {\n",
       "        text-align: right;\n",
       "    }\n",
       "</style>\n",
       "<table border=\"1\" class=\"dataframe\">\n",
       "  <thead>\n",
       "    <tr style=\"text-align: right;\">\n",
       "      <th></th>\n",
       "      <th>start_frame</th>\n",
       "      <th>stop_frame</th>\n",
       "      <th>tracked_subject</th>\n",
       "      <th>in_video_subjects</th>\n",
       "      <th>box_number</th>\n",
       "      <th>sleap_name</th>\n",
       "      <th>video_name</th>\n",
       "      <th>current_subject</th>\n",
       "      <th>body_parts</th>\n",
       "      <th>box_top_right</th>\n",
       "      <th>box_bottom_right</th>\n",
       "      <th>box_top_left</th>\n",
       "      <th>reward_port</th>\n",
       "      <th>box_bottom_left</th>\n",
       "      <th>agent</th>\n",
       "      <th>subject_locations</th>\n",
       "      <th>agent_locations</th>\n",
       "      <th>frame_index</th>\n",
       "    </tr>\n",
       "  </thead>\n",
       "  <tbody>\n",
       "    <tr>\n",
       "      <th>0</th>\n",
       "      <td>1</td>\n",
       "      <td>30500</td>\n",
       "      <td>[3.3]</td>\n",
       "      <td>[3.1, 3.3]</td>\n",
       "      <td>1</td>\n",
       "      <td>20240320_142408_alone_comp_subj_3-1_and_3-3.1....</td>\n",
       "      <td>20240320_142408_alone_comp_subj_3-1_and_3-3.1</td>\n",
       "      <td>3.3</td>\n",
       "      <td>[left_ear, right_ear, nose, tail_base, thorax,...</td>\n",
       "      <td>[74.26084699849272, 8.602144309163993]</td>\n",
       "      <td>[75.1467563627655, 32.612433022962925]</td>\n",
       "      <td>[44.524314778435695, 9.472402701545125]</td>\n",
       "      <td>[60.89621072293514, 35.03865285708705]</td>\n",
       "      <td>[45.88328858282252, 33.462113987746186]</td>\n",
       "      <td>None</td>\n",
       "      <td>[[[81.25761657928568, 15.185721645159187], [82...</td>\n",
       "      <td>NaN</td>\n",
       "      <td>[1, 2, 3, 4, 5, 6, 7, 8, 9, 10, 11, 12, 13, 14...</td>\n",
       "    </tr>\n",
       "    <tr>\n",
       "      <th>1</th>\n",
       "      <td>1</td>\n",
       "      <td>30500</td>\n",
       "      <td>[3.1]</td>\n",
       "      <td>[3.1, 3.3]</td>\n",
       "      <td>2</td>\n",
       "      <td>20240320_142408_alone_comp_subj_3-1_and_3-3.2....</td>\n",
       "      <td>20240320_142408_alone_comp_subj_3-1_and_3-3.2</td>\n",
       "      <td>3.1</td>\n",
       "      <td>[left_ear, right_ear, nose, tail_base, thorax,...</td>\n",
       "      <td>[74.65449798628558, 12.985865341388582]</td>\n",
       "      <td>[75.47124278897029, 36.822971247249434]</td>\n",
       "      <td>[45.6323952504599, 12.952108167992652]</td>\n",
       "      <td>[60.61777161454232, 39.09901269209973]</td>\n",
       "      <td>[45.49334552479596, 37.115002262131796]</td>\n",
       "      <td>None</td>\n",
       "      <td>[[[61.291224826331806, 38.35745702204872], [60...</td>\n",
       "      <td>NaN</td>\n",
       "      <td>[1, 2, 3, 4, 5, 6, 7, 8, 9, 10, 11, 12, 13, 14...</td>\n",
       "    </tr>\n",
       "    <tr>\n",
       "      <th>2</th>\n",
       "      <td>1</td>\n",
       "      <td>30500</td>\n",
       "      <td>[4.3]</td>\n",
       "      <td>[4.2, 4.3]</td>\n",
       "      <td>1</td>\n",
       "      <td>20240320_171038_alone_comp_subj_4-2_and_4-3.1....</td>\n",
       "      <td>20240320_171038_alone_comp_subj_4-2_and_4-3.1</td>\n",
       "      <td>4.3</td>\n",
       "      <td>[left_ear, right_ear, nose, tail_base, thorax,...</td>\n",
       "      <td>[74.25151247701015, 8.495471311209611]</td>\n",
       "      <td>[75.846431736616, 32.597930822286116]</td>\n",
       "      <td>[44.801761988760454, 9.52006421612736]</td>\n",
       "      <td>[61.213420932957966, 35.084751405625006]</td>\n",
       "      <td>[46.2961822248657, 33.41760470505085]</td>\n",
       "      <td>None</td>\n",
       "      <td>[[[64.15922499020374, 33.789329054090786], [60...</td>\n",
       "      <td>NaN</td>\n",
       "      <td>[1, 2, 3, 4, 5, 6, 7, 8, 9, 10, 11, 12, 13, 14...</td>\n",
       "    </tr>\n",
       "    <tr>\n",
       "      <th>3</th>\n",
       "      <td>1</td>\n",
       "      <td>30500</td>\n",
       "      <td>[4.2]</td>\n",
       "      <td>[4.2, 4.3]</td>\n",
       "      <td>2</td>\n",
       "      <td>20240320_171038_alone_comp_subj_4-2_and_4-3.2....</td>\n",
       "      <td>20240320_171038_alone_comp_subj_4-2_and_4-3.2</td>\n",
       "      <td>4.2</td>\n",
       "      <td>[left_ear, right_ear, nose, tail_base, thorax,...</td>\n",
       "      <td>[75.409866420081, 12.312416433613139]</td>\n",
       "      <td>[76.40026641953202, 36.404657294178875]</td>\n",
       "      <td>[46.125621015289695, 12.793694825220832]</td>\n",
       "      <td>[61.366536869886076, 38.4063959761727]</td>\n",
       "      <td>[46.68451182432332, 36.701453964655094]</td>\n",
       "      <td>None</td>\n",
       "      <td>[[[61.793928823289306, 36.062634925631805], [6...</td>\n",
       "      <td>NaN</td>\n",
       "      <td>[1, 2, 3, 4, 5, 6, 7, 8, 9, 10, 11, 12, 13, 14...</td>\n",
       "    </tr>\n",
       "    <tr>\n",
       "      <th>4</th>\n",
       "      <td>1</td>\n",
       "      <td>30500</td>\n",
       "      <td>[3.4]</td>\n",
       "      <td>[3.3, 3.4]</td>\n",
       "      <td>1</td>\n",
       "      <td>20240322_120625_alone_comp_subj_3-3_and_3-4.1....</td>\n",
       "      <td>20240322_120625_alone_comp_subj_3-3_and_3-4.1</td>\n",
       "      <td>3.4</td>\n",
       "      <td>[left_ear, right_ear, nose, tail_base, thorax,...</td>\n",
       "      <td>[74.42236280061786, 8.926387194010582]</td>\n",
       "      <td>[75.66229810506, 33.05595819376228]</td>\n",
       "      <td>[44.96183325239834, 9.665056726197681]</td>\n",
       "      <td>[60.64564060702992, 34.963224775288616]</td>\n",
       "      <td>[46.12282765327953, 33.535485726445984]</td>\n",
       "      <td>None</td>\n",
       "      <td>[[[45.40197945398239, 22.609390446904186], [49...</td>\n",
       "      <td>NaN</td>\n",
       "      <td>[1, 2, 3, 4, 5, 6, 7, 8, 9, 10, 11, 12, 13, 14...</td>\n",
       "    </tr>\n",
       "  </tbody>\n",
       "</table>\n",
       "</div>"
      ],
      "text/plain": [
       "   start_frame  stop_frame tracked_subject in_video_subjects  box_number  \\\n",
       "0            1       30500           [3.3]        [3.1, 3.3]           1   \n",
       "1            1       30500           [3.1]        [3.1, 3.3]           2   \n",
       "2            1       30500           [4.3]        [4.2, 4.3]           1   \n",
       "3            1       30500           [4.2]        [4.2, 4.3]           2   \n",
       "4            1       30500           [3.4]        [3.3, 3.4]           1   \n",
       "\n",
       "                                          sleap_name  \\\n",
       "0  20240320_142408_alone_comp_subj_3-1_and_3-3.1....   \n",
       "1  20240320_142408_alone_comp_subj_3-1_and_3-3.2....   \n",
       "2  20240320_171038_alone_comp_subj_4-2_and_4-3.1....   \n",
       "3  20240320_171038_alone_comp_subj_4-2_and_4-3.2....   \n",
       "4  20240322_120625_alone_comp_subj_3-3_and_3-4.1....   \n",
       "\n",
       "                                      video_name current_subject  \\\n",
       "0  20240320_142408_alone_comp_subj_3-1_and_3-3.1             3.3   \n",
       "1  20240320_142408_alone_comp_subj_3-1_and_3-3.2             3.1   \n",
       "2  20240320_171038_alone_comp_subj_4-2_and_4-3.1             4.3   \n",
       "3  20240320_171038_alone_comp_subj_4-2_and_4-3.2             4.2   \n",
       "4  20240322_120625_alone_comp_subj_3-3_and_3-4.1             3.4   \n",
       "\n",
       "                                          body_parts  \\\n",
       "0  [left_ear, right_ear, nose, tail_base, thorax,...   \n",
       "1  [left_ear, right_ear, nose, tail_base, thorax,...   \n",
       "2  [left_ear, right_ear, nose, tail_base, thorax,...   \n",
       "3  [left_ear, right_ear, nose, tail_base, thorax,...   \n",
       "4  [left_ear, right_ear, nose, tail_base, thorax,...   \n",
       "\n",
       "                             box_top_right  \\\n",
       "0   [74.26084699849272, 8.602144309163993]   \n",
       "1  [74.65449798628558, 12.985865341388582]   \n",
       "2   [74.25151247701015, 8.495471311209611]   \n",
       "3    [75.409866420081, 12.312416433613139]   \n",
       "4   [74.42236280061786, 8.926387194010582]   \n",
       "\n",
       "                          box_bottom_right  \\\n",
       "0   [75.1467563627655, 32.612433022962925]   \n",
       "1  [75.47124278897029, 36.822971247249434]   \n",
       "2    [75.846431736616, 32.597930822286116]   \n",
       "3  [76.40026641953202, 36.404657294178875]   \n",
       "4      [75.66229810506, 33.05595819376228]   \n",
       "\n",
       "                               box_top_left  \\\n",
       "0   [44.524314778435695, 9.472402701545125]   \n",
       "1    [45.6323952504599, 12.952108167992652]   \n",
       "2    [44.801761988760454, 9.52006421612736]   \n",
       "3  [46.125621015289695, 12.793694825220832]   \n",
       "4    [44.96183325239834, 9.665056726197681]   \n",
       "\n",
       "                                reward_port  \\\n",
       "0    [60.89621072293514, 35.03865285708705]   \n",
       "1    [60.61777161454232, 39.09901269209973]   \n",
       "2  [61.213420932957966, 35.084751405625006]   \n",
       "3    [61.366536869886076, 38.4063959761727]   \n",
       "4   [60.64564060702992, 34.963224775288616]   \n",
       "\n",
       "                           box_bottom_left agent  \\\n",
       "0  [45.88328858282252, 33.462113987746186]  None   \n",
       "1  [45.49334552479596, 37.115002262131796]  None   \n",
       "2    [46.2961822248657, 33.41760470505085]  None   \n",
       "3  [46.68451182432332, 36.701453964655094]  None   \n",
       "4  [46.12282765327953, 33.535485726445984]  None   \n",
       "\n",
       "                                   subject_locations  agent_locations  \\\n",
       "0  [[[81.25761657928568, 15.185721645159187], [82...              NaN   \n",
       "1  [[[61.291224826331806, 38.35745702204872], [60...              NaN   \n",
       "2  [[[64.15922499020374, 33.789329054090786], [60...              NaN   \n",
       "3  [[[61.793928823289306, 36.062634925631805], [6...              NaN   \n",
       "4  [[[45.40197945398239, 22.609390446904186], [49...              NaN   \n",
       "\n",
       "                                         frame_index  \n",
       "0  [1, 2, 3, 4, 5, 6, 7, 8, 9, 10, 11, 12, 13, 14...  \n",
       "1  [1, 2, 3, 4, 5, 6, 7, 8, 9, 10, 11, 12, 13, 14...  \n",
       "2  [1, 2, 3, 4, 5, 6, 7, 8, 9, 10, 11, 12, 13, 14...  \n",
       "3  [1, 2, 3, 4, 5, 6, 7, 8, 9, 10, 11, 12, 13, 14...  \n",
       "4  [1, 2, 3, 4, 5, 6, 7, 8, 9, 10, 11, 12, 13, 14...  "
      ]
     },
     "execution_count": 136,
     "metadata": {},
     "output_type": "execute_result"
    }
   ],
   "source": [
    "START_STOP_FRAME_DF.head()"
   ]
  },
  {
   "cell_type": "markdown",
   "metadata": {},
   "source": [
    "# Calculate relavant features"
   ]
  },
  {
   "cell_type": "markdown",
   "metadata": {},
   "source": [
    "## Features to calculate\n",
    "\n",
    "1. velocity of the mice\n",
    "2. distance between thoraxes\n",
    "3. distances to port of mice\n",
    "4. angles of orientation of mice to port\n",
    "\n",
    "\n"
   ]
  },
  {
   "cell_type": "markdown",
   "metadata": {},
   "source": [
    "Original features to calculate\n",
    "1. distance between thoraxes\n",
    "2. velocity of mouse 1 + velocity of mouse 2\n",
    "3. | velocity of mouse 1 - velocity of mouse 2 |\n",
    "4. sum of angles of orientation of mice to port\n",
    "5. | difference of angles of orientation of mice to port |\n",
    "6. sum of distances to port of mice\n",
    "7. | differences of distances to port of mice |"
   ]
  },
  {
   "cell_type": "code",
   "execution_count": 137,
   "metadata": {
    "tags": []
   },
   "outputs": [
    {
     "data": {
      "text/plain": [
       "Index(['start_frame', 'stop_frame', 'tracked_subject', 'in_video_subjects',\n",
       "       'box_number', 'sleap_name', 'video_name', 'current_subject',\n",
       "       'body_parts', 'box_top_right', 'box_bottom_right', 'box_top_left',\n",
       "       'reward_port', 'box_bottom_left', 'agent', 'subject_locations',\n",
       "       'agent_locations', 'frame_index'],\n",
       "      dtype='object')"
      ]
     },
     "execution_count": 137,
     "metadata": {},
     "output_type": "execute_result"
    }
   ],
   "source": [
    "START_STOP_FRAME_DF.columns"
   ]
  },
  {
   "cell_type": "markdown",
   "metadata": {},
   "source": [
    "# Getting relavent body parts"
   ]
  },
  {
   "cell_type": "code",
   "execution_count": 138,
   "metadata": {
    "tags": []
   },
   "outputs": [
    {
     "data": {
      "text/plain": [
       "0     4\n",
       "1     4\n",
       "2     4\n",
       "3     4\n",
       "4     4\n",
       "5     4\n",
       "6     4\n",
       "7     4\n",
       "8     4\n",
       "9     4\n",
       "10    4\n",
       "11    4\n",
       "12    4\n",
       "13    4\n",
       "Name: body_parts, dtype: int64"
      ]
     },
     "execution_count": 138,
     "metadata": {},
     "output_type": "execute_result"
    }
   ],
   "source": [
    "START_STOP_FRAME_DF[\"body_parts\"].apply(lambda x: x.index(\"thorax\"))"
   ]
  },
  {
   "cell_type": "code",
   "execution_count": 139,
   "metadata": {},
   "outputs": [],
   "source": [
    "START_STOP_FRAME_DF[\"subject_thorax\"] = START_STOP_FRAME_DF.apply(lambda x: x[\"subject_locations\"][:,x[\"body_parts\"].index(\"thorax\"),:], axis=1)\n",
    "START_STOP_FRAME_DF[\"subject_nose\"] = START_STOP_FRAME_DF.apply(lambda x: x[\"subject_locations\"][:,x[\"body_parts\"].index(\"nose\"),:], axis=1)\n",
    "START_STOP_FRAME_DF[\"subject_tail_base\"] = START_STOP_FRAME_DF.apply(lambda x: x[\"subject_locations\"][:,x[\"body_parts\"].index(\"tail_base\"),:], axis=1)\n"
   ]
  },
  {
   "cell_type": "code",
   "execution_count": 140,
   "metadata": {},
   "outputs": [],
   "source": [
    "START_STOP_FRAME_DF[\"agent_thorax\"] = START_STOP_FRAME_DF.apply(lambda x: x[\"agent_locations\"][:,x[\"body_parts\"].index(\"thorax\"),:] if x[\"agent\"] else np.nan, axis=1)\n",
    "START_STOP_FRAME_DF[\"agent_nose\"] = START_STOP_FRAME_DF.apply(lambda x: x[\"agent_locations\"][:,x[\"body_parts\"].index(\"nose\"),:] if x[\"agent\"] else np.nan, axis=1)\n",
    "START_STOP_FRAME_DF[\"agent_tail_base\"] = START_STOP_FRAME_DF.apply(lambda x: x[\"agent_locations\"][:,x[\"body_parts\"].index(\"tail_base\"),:] if x[\"agent\"] else np.nan, axis=1)\n"
   ]
  },
  {
   "cell_type": "code",
   "execution_count": 141,
   "metadata": {},
   "outputs": [
    {
     "data": {
      "text/html": [
       "<div>\n",
       "<style scoped>\n",
       "    .dataframe tbody tr th:only-of-type {\n",
       "        vertical-align: middle;\n",
       "    }\n",
       "\n",
       "    .dataframe tbody tr th {\n",
       "        vertical-align: top;\n",
       "    }\n",
       "\n",
       "    .dataframe thead th {\n",
       "        text-align: right;\n",
       "    }\n",
       "</style>\n",
       "<table border=\"1\" class=\"dataframe\">\n",
       "  <thead>\n",
       "    <tr style=\"text-align: right;\">\n",
       "      <th></th>\n",
       "      <th>start_frame</th>\n",
       "      <th>stop_frame</th>\n",
       "      <th>tracked_subject</th>\n",
       "      <th>in_video_subjects</th>\n",
       "      <th>box_number</th>\n",
       "      <th>sleap_name</th>\n",
       "      <th>video_name</th>\n",
       "      <th>current_subject</th>\n",
       "      <th>body_parts</th>\n",
       "      <th>box_top_right</th>\n",
       "      <th>...</th>\n",
       "      <th>agent</th>\n",
       "      <th>subject_locations</th>\n",
       "      <th>agent_locations</th>\n",
       "      <th>frame_index</th>\n",
       "      <th>subject_thorax</th>\n",
       "      <th>subject_nose</th>\n",
       "      <th>subject_tail_base</th>\n",
       "      <th>agent_thorax</th>\n",
       "      <th>agent_nose</th>\n",
       "      <th>agent_tail_base</th>\n",
       "    </tr>\n",
       "  </thead>\n",
       "  <tbody>\n",
       "    <tr>\n",
       "      <th>0</th>\n",
       "      <td>1</td>\n",
       "      <td>30500</td>\n",
       "      <td>[3.3]</td>\n",
       "      <td>[3.1, 3.3]</td>\n",
       "      <td>1</td>\n",
       "      <td>20240320_142408_alone_comp_subj_3-1_and_3-3.1....</td>\n",
       "      <td>20240320_142408_alone_comp_subj_3-1_and_3-3.1</td>\n",
       "      <td>3.3</td>\n",
       "      <td>[left_ear, right_ear, nose, tail_base, thorax,...</td>\n",
       "      <td>[74.26084699849272, 8.602144309163993]</td>\n",
       "      <td>...</td>\n",
       "      <td>None</td>\n",
       "      <td>[[[81.25761657928568, 15.185721645159187], [82...</td>\n",
       "      <td>NaN</td>\n",
       "      <td>[1, 2, 3, 4, 5, 6, 7, 8, 9, 10, 11, 12, 13, 14...</td>\n",
       "      <td>[[74.76442383385202, 17.630887299775008], [75....</td>\n",
       "      <td>[[85.96093094174665, 15.846026862251751], [86....</td>\n",
       "      <td>[[70.28137797758374, 18.26846395488998], [70.7...</td>\n",
       "      <td>NaN</td>\n",
       "      <td>NaN</td>\n",
       "      <td>NaN</td>\n",
       "    </tr>\n",
       "    <tr>\n",
       "      <th>1</th>\n",
       "      <td>1</td>\n",
       "      <td>30500</td>\n",
       "      <td>[3.1]</td>\n",
       "      <td>[3.1, 3.3]</td>\n",
       "      <td>2</td>\n",
       "      <td>20240320_142408_alone_comp_subj_3-1_and_3-3.2....</td>\n",
       "      <td>20240320_142408_alone_comp_subj_3-1_and_3-3.2</td>\n",
       "      <td>3.1</td>\n",
       "      <td>[left_ear, right_ear, nose, tail_base, thorax,...</td>\n",
       "      <td>[74.65449798628558, 12.985865341388582]</td>\n",
       "      <td>...</td>\n",
       "      <td>None</td>\n",
       "      <td>[[[61.291224826331806, 38.35745702204872], [60...</td>\n",
       "      <td>NaN</td>\n",
       "      <td>[1, 2, 3, 4, 5, 6, 7, 8, 9, 10, 11, 12, 13, 14...</td>\n",
       "      <td>[[65.26140519400235, 36.69588221809134], [65.0...</td>\n",
       "      <td>[[57.51045434664117, 37.680021084811386], [57....</td>\n",
       "      <td>[[66.98998916461737, 33.87189995143806], [67.2...</td>\n",
       "      <td>NaN</td>\n",
       "      <td>NaN</td>\n",
       "      <td>NaN</td>\n",
       "    </tr>\n",
       "    <tr>\n",
       "      <th>2</th>\n",
       "      <td>1</td>\n",
       "      <td>30500</td>\n",
       "      <td>[4.3]</td>\n",
       "      <td>[4.2, 4.3]</td>\n",
       "      <td>1</td>\n",
       "      <td>20240320_171038_alone_comp_subj_4-2_and_4-3.1....</td>\n",
       "      <td>20240320_171038_alone_comp_subj_4-2_and_4-3.1</td>\n",
       "      <td>4.3</td>\n",
       "      <td>[left_ear, right_ear, nose, tail_base, thorax,...</td>\n",
       "      <td>[74.25151247701015, 8.495471311209611]</td>\n",
       "      <td>...</td>\n",
       "      <td>None</td>\n",
       "      <td>[[[64.15922499020374, 33.789329054090786], [60...</td>\n",
       "      <td>NaN</td>\n",
       "      <td>[1, 2, 3, 4, 5, 6, 7, 8, 9, 10, 11, 12, 13, 14...</td>\n",
       "      <td>[[63.42771266083302, 31.02672062740698], [63.3...</td>\n",
       "      <td>[[61.13209392714245, 35.764050577490245], [61....</td>\n",
       "      <td>[[62.143642774317165, 28.418276818222314], [62...</td>\n",
       "      <td>NaN</td>\n",
       "      <td>NaN</td>\n",
       "      <td>NaN</td>\n",
       "    </tr>\n",
       "    <tr>\n",
       "      <th>3</th>\n",
       "      <td>1</td>\n",
       "      <td>30500</td>\n",
       "      <td>[4.2]</td>\n",
       "      <td>[4.2, 4.3]</td>\n",
       "      <td>2</td>\n",
       "      <td>20240320_171038_alone_comp_subj_4-2_and_4-3.2....</td>\n",
       "      <td>20240320_171038_alone_comp_subj_4-2_and_4-3.2</td>\n",
       "      <td>4.2</td>\n",
       "      <td>[left_ear, right_ear, nose, tail_base, thorax,...</td>\n",
       "      <td>[75.409866420081, 12.312416433613139]</td>\n",
       "      <td>...</td>\n",
       "      <td>None</td>\n",
       "      <td>[[[61.793928823289306, 36.062634925631805], [6...</td>\n",
       "      <td>NaN</td>\n",
       "      <td>[1, 2, 3, 4, 5, 6, 7, 8, 9, 10, 11, 12, 13, 14...</td>\n",
       "      <td>[[56.810119004907236, 35.7262687734957], [57.0...</td>\n",
       "      <td>[[62.07845159163998, 38.90149934652175], [62.2...</td>\n",
       "      <td>[[54.49785887663452, 33.75901483620681], [54.4...</td>\n",
       "      <td>NaN</td>\n",
       "      <td>NaN</td>\n",
       "      <td>NaN</td>\n",
       "    </tr>\n",
       "    <tr>\n",
       "      <th>4</th>\n",
       "      <td>1</td>\n",
       "      <td>30500</td>\n",
       "      <td>[3.4]</td>\n",
       "      <td>[3.3, 3.4]</td>\n",
       "      <td>1</td>\n",
       "      <td>20240322_120625_alone_comp_subj_3-3_and_3-4.1....</td>\n",
       "      <td>20240322_120625_alone_comp_subj_3-3_and_3-4.1</td>\n",
       "      <td>3.4</td>\n",
       "      <td>[left_ear, right_ear, nose, tail_base, thorax,...</td>\n",
       "      <td>[74.42236280061786, 8.926387194010582]</td>\n",
       "      <td>...</td>\n",
       "      <td>None</td>\n",
       "      <td>[[[45.40197945398239, 22.609390446904186], [49...</td>\n",
       "      <td>NaN</td>\n",
       "      <td>[1, 2, 3, 4, 5, 6, 7, 8, 9, 10, 11, 12, 13, 14...</td>\n",
       "      <td>[[45.92059880307062, 25.845404944082603], [46....</td>\n",
       "      <td>[[49.16247111585721, 20.812312877852367], [49....</td>\n",
       "      <td>[[47.1729970803776, 28.47487028394782], [46.91...</td>\n",
       "      <td>NaN</td>\n",
       "      <td>NaN</td>\n",
       "      <td>NaN</td>\n",
       "    </tr>\n",
       "  </tbody>\n",
       "</table>\n",
       "<p>5 rows × 24 columns</p>\n",
       "</div>"
      ],
      "text/plain": [
       "   start_frame  stop_frame tracked_subject in_video_subjects  box_number  \\\n",
       "0            1       30500           [3.3]        [3.1, 3.3]           1   \n",
       "1            1       30500           [3.1]        [3.1, 3.3]           2   \n",
       "2            1       30500           [4.3]        [4.2, 4.3]           1   \n",
       "3            1       30500           [4.2]        [4.2, 4.3]           2   \n",
       "4            1       30500           [3.4]        [3.3, 3.4]           1   \n",
       "\n",
       "                                          sleap_name  \\\n",
       "0  20240320_142408_alone_comp_subj_3-1_and_3-3.1....   \n",
       "1  20240320_142408_alone_comp_subj_3-1_and_3-3.2....   \n",
       "2  20240320_171038_alone_comp_subj_4-2_and_4-3.1....   \n",
       "3  20240320_171038_alone_comp_subj_4-2_and_4-3.2....   \n",
       "4  20240322_120625_alone_comp_subj_3-3_and_3-4.1....   \n",
       "\n",
       "                                      video_name current_subject  \\\n",
       "0  20240320_142408_alone_comp_subj_3-1_and_3-3.1             3.3   \n",
       "1  20240320_142408_alone_comp_subj_3-1_and_3-3.2             3.1   \n",
       "2  20240320_171038_alone_comp_subj_4-2_and_4-3.1             4.3   \n",
       "3  20240320_171038_alone_comp_subj_4-2_and_4-3.2             4.2   \n",
       "4  20240322_120625_alone_comp_subj_3-3_and_3-4.1             3.4   \n",
       "\n",
       "                                          body_parts  \\\n",
       "0  [left_ear, right_ear, nose, tail_base, thorax,...   \n",
       "1  [left_ear, right_ear, nose, tail_base, thorax,...   \n",
       "2  [left_ear, right_ear, nose, tail_base, thorax,...   \n",
       "3  [left_ear, right_ear, nose, tail_base, thorax,...   \n",
       "4  [left_ear, right_ear, nose, tail_base, thorax,...   \n",
       "\n",
       "                             box_top_right  ... agent  \\\n",
       "0   [74.26084699849272, 8.602144309163993]  ...  None   \n",
       "1  [74.65449798628558, 12.985865341388582]  ...  None   \n",
       "2   [74.25151247701015, 8.495471311209611]  ...  None   \n",
       "3    [75.409866420081, 12.312416433613139]  ...  None   \n",
       "4   [74.42236280061786, 8.926387194010582]  ...  None   \n",
       "\n",
       "                                   subject_locations agent_locations  \\\n",
       "0  [[[81.25761657928568, 15.185721645159187], [82...             NaN   \n",
       "1  [[[61.291224826331806, 38.35745702204872], [60...             NaN   \n",
       "2  [[[64.15922499020374, 33.789329054090786], [60...             NaN   \n",
       "3  [[[61.793928823289306, 36.062634925631805], [6...             NaN   \n",
       "4  [[[45.40197945398239, 22.609390446904186], [49...             NaN   \n",
       "\n",
       "                                         frame_index  \\\n",
       "0  [1, 2, 3, 4, 5, 6, 7, 8, 9, 10, 11, 12, 13, 14...   \n",
       "1  [1, 2, 3, 4, 5, 6, 7, 8, 9, 10, 11, 12, 13, 14...   \n",
       "2  [1, 2, 3, 4, 5, 6, 7, 8, 9, 10, 11, 12, 13, 14...   \n",
       "3  [1, 2, 3, 4, 5, 6, 7, 8, 9, 10, 11, 12, 13, 14...   \n",
       "4  [1, 2, 3, 4, 5, 6, 7, 8, 9, 10, 11, 12, 13, 14...   \n",
       "\n",
       "                                      subject_thorax  \\\n",
       "0  [[74.76442383385202, 17.630887299775008], [75....   \n",
       "1  [[65.26140519400235, 36.69588221809134], [65.0...   \n",
       "2  [[63.42771266083302, 31.02672062740698], [63.3...   \n",
       "3  [[56.810119004907236, 35.7262687734957], [57.0...   \n",
       "4  [[45.92059880307062, 25.845404944082603], [46....   \n",
       "\n",
       "                                        subject_nose  \\\n",
       "0  [[85.96093094174665, 15.846026862251751], [86....   \n",
       "1  [[57.51045434664117, 37.680021084811386], [57....   \n",
       "2  [[61.13209392714245, 35.764050577490245], [61....   \n",
       "3  [[62.07845159163998, 38.90149934652175], [62.2...   \n",
       "4  [[49.16247111585721, 20.812312877852367], [49....   \n",
       "\n",
       "                                   subject_tail_base agent_thorax agent_nose  \\\n",
       "0  [[70.28137797758374, 18.26846395488998], [70.7...          NaN        NaN   \n",
       "1  [[66.98998916461737, 33.87189995143806], [67.2...          NaN        NaN   \n",
       "2  [[62.143642774317165, 28.418276818222314], [62...          NaN        NaN   \n",
       "3  [[54.49785887663452, 33.75901483620681], [54.4...          NaN        NaN   \n",
       "4  [[47.1729970803776, 28.47487028394782], [46.91...          NaN        NaN   \n",
       "\n",
       "  agent_tail_base  \n",
       "0             NaN  \n",
       "1             NaN  \n",
       "2             NaN  \n",
       "3             NaN  \n",
       "4             NaN  \n",
       "\n",
       "[5 rows x 24 columns]"
      ]
     },
     "execution_count": 141,
     "metadata": {},
     "output_type": "execute_result"
    }
   ],
   "source": [
    "START_STOP_FRAME_DF.head()"
   ]
  },
  {
   "cell_type": "markdown",
   "metadata": {},
   "source": [
    "# Calculate velocity"
   ]
  },
  {
   "cell_type": "code",
   "execution_count": 142,
   "metadata": {
    "tags": []
   },
   "outputs": [],
   "source": [
    "WINDOW_SIZE = 25"
   ]
  },
  {
   "cell_type": "code",
   "execution_count": 143,
   "metadata": {
    "tags": []
   },
   "outputs": [],
   "source": [
    "START_STOP_FRAME_DF[\"subject_thorax_velocity\"] = START_STOP_FRAME_DF.apply(lambda x: compute_velocity(x[\"subject_thorax\"], window_size=WINDOW_SIZE) * FRAME_RATE, axis=1)\n",
    "START_STOP_FRAME_DF[\"subject_thorax_velocity\"] = START_STOP_FRAME_DF[\"subject_thorax_velocity\"].apply(lambda x: x.astype(np.float32) if x is not np.nan else np.nan)"
   ]
  },
  {
   "cell_type": "code",
   "execution_count": 144,
   "metadata": {
    "tags": []
   },
   "outputs": [
    {
     "data": {
      "text/plain": [
       "0    NaN\n",
       "1    NaN\n",
       "2    NaN\n",
       "3    NaN\n",
       "4    NaN\n",
       "5    NaN\n",
       "6    NaN\n",
       "7    NaN\n",
       "8    NaN\n",
       "9    NaN\n",
       "10   NaN\n",
       "11   NaN\n",
       "12   NaN\n",
       "13   NaN\n",
       "Name: agent_locations, dtype: float64"
      ]
     },
     "execution_count": 144,
     "metadata": {},
     "output_type": "execute_result"
    }
   ],
   "source": [
    "START_STOP_FRAME_DF[\"agent_locations\"]"
   ]
  },
  {
   "cell_type": "code",
   "execution_count": 145,
   "metadata": {
    "tags": []
   },
   "outputs": [],
   "source": [
    "START_STOP_FRAME_DF[\"agent_thorax_velocity\"] = START_STOP_FRAME_DF.apply(lambda x: compute_velocity(x[\"agent_thorax\"], window_size=WINDOW_SIZE) * FRAME_RATE if x[\"agent\"] else np.nan, axis=1)\n",
    "START_STOP_FRAME_DF[\"agent_thorax_velocity\"] = START_STOP_FRAME_DF.apply(lambda x: x[\"agent_thorax_velocity\"].astype(np.float32) if x[\"agent\"] else np.nan, axis=1)\n"
   ]
  },
  {
   "cell_type": "code",
   "execution_count": 146,
   "metadata": {
    "tags": []
   },
   "outputs": [
    {
     "data": {
      "text/plain": [
       "(63504,)"
      ]
     },
     "execution_count": 146,
     "metadata": {},
     "output_type": "execute_result"
    }
   ],
   "source": [
    "START_STOP_FRAME_DF[\"subject_thorax_velocity\"].iloc[0].shape"
   ]
  },
  {
   "cell_type": "markdown",
   "metadata": {},
   "source": [
    "## Calculate relavant distances"
   ]
  },
  {
   "cell_type": "markdown",
   "metadata": {},
   "source": [
    "1. distance between thoraxes"
   ]
  },
  {
   "cell_type": "code",
   "execution_count": 147,
   "metadata": {},
   "outputs": [],
   "source": [
    "START_STOP_FRAME_DF[\"subject_thorax_to_agent_thorax\"] = START_STOP_FRAME_DF.apply(lambda x: np.linalg.norm(x[\"subject_thorax\"] - x[\"agent_thorax\"], axis=1),  axis=1)\n",
    "START_STOP_FRAME_DF[\"subject_thorax_to_agent_thorax\"] = START_STOP_FRAME_DF[\"subject_thorax_to_agent_thorax\"].apply(lambda x: x.astype(np.float32) if x is not np.nan else np.nan)"
   ]
  },
  {
   "cell_type": "code",
   "execution_count": 148,
   "metadata": {},
   "outputs": [],
   "source": [
    "START_STOP_FRAME_DF[\"subject_nose_to_agent_tail_base\"] = START_STOP_FRAME_DF.apply(lambda x: np.linalg.norm(x[\"subject_nose\"] - x[\"agent_tail_base\"], axis=1),  axis=1)\n",
    "START_STOP_FRAME_DF[\"subject_nose_to_agent_tail_base\"] = START_STOP_FRAME_DF[\"subject_nose_to_agent_tail_base\"].apply(lambda x: x.astype(np.float32) if x is not np.nan else np.nan)"
   ]
  },
  {
   "cell_type": "code",
   "execution_count": 149,
   "metadata": {},
   "outputs": [],
   "source": [
    "START_STOP_FRAME_DF[\"subject_tail_base_to_agent_nose\"] = START_STOP_FRAME_DF.apply(lambda x: np.linalg.norm(x[\"subject_tail_base\"] - x[\"agent_nose\"], axis=1),  axis=1)\n",
    "START_STOP_FRAME_DF[\"subject_tail_base_to_agent_nose\"] = START_STOP_FRAME_DF[\"subject_tail_base_to_agent_nose\"].apply(lambda x: x.astype(np.float32) if x is not np.nan else np.nan)"
   ]
  },
  {
   "cell_type": "markdown",
   "metadata": {},
   "source": [
    "2. distances to port of mice"
   ]
  },
  {
   "cell_type": "code",
   "execution_count": 150,
   "metadata": {
    "tags": []
   },
   "outputs": [],
   "source": [
    "START_STOP_FRAME_DF[\"subject_nose_to_reward_port\"] = START_STOP_FRAME_DF.apply(lambda x: np.linalg.norm(x[\"subject_thorax\"] - x[\"reward_port\"], axis=1),  axis=1)\n",
    "START_STOP_FRAME_DF[\"subject_nose_to_reward_port\"] = START_STOP_FRAME_DF[\"subject_nose_to_reward_port\"].apply(lambda x: x.astype(np.float32) if x is not np.nan else np.nan)"
   ]
  },
  {
   "cell_type": "code",
   "execution_count": null,
   "metadata": {},
   "outputs": [],
   "source": []
  },
  {
   "cell_type": "code",
   "execution_count": 151,
   "metadata": {
    "tags": []
   },
   "outputs": [],
   "source": [
    "START_STOP_FRAME_DF[\"agent_nose_to_reward_port\"] = START_STOP_FRAME_DF.apply(lambda x: np.linalg.norm(x[\"agent_thorax\"] - x[\"reward_port\"], axis=1) if x[\"agent\"] else np.nan,  axis=1)\n",
    "START_STOP_FRAME_DF[\"agent_nose_to_reward_port\"] = START_STOP_FRAME_DF.apply(lambda x: x[\"agent_nose_to_reward_port\"].astype(np.float32) if x[\"agent\"] else np.nan, axis=1)"
   ]
  },
  {
   "cell_type": "code",
   "execution_count": 152,
   "metadata": {},
   "outputs": [],
   "source": [
    "START_STOP_FRAME_DF[\"subject_nose_to_reward_port\"] = START_STOP_FRAME_DF.apply(lambda x: np.linalg.norm(x[\"subject_nose\"] - x[\"reward_port\"], axis=1),  axis=1)\n",
    "START_STOP_FRAME_DF[\"subject_nose_to_reward_port\"] = START_STOP_FRAME_DF[\"subject_nose_to_reward_port\"].apply(lambda x: x.astype(np.float32) if x is not np.nan else np.nan)"
   ]
  },
  {
   "cell_type": "code",
   "execution_count": 153,
   "metadata": {},
   "outputs": [],
   "source": [
    "START_STOP_FRAME_DF[\"agent_nose_to_reward_port\"] = START_STOP_FRAME_DF.apply(lambda x: np.linalg.norm(x[\"agent_nose\"] - x[\"reward_port\"]) if x[\"agent\"] else np.nan,  axis=1)\n",
    "START_STOP_FRAME_DF[\"agent_nose_to_reward_port\"] = START_STOP_FRAME_DF.apply(lambda x: x[\"agent_nose_to_reward_port\"].astype(np.float32) if x[\"agent\"] else np.nan, axis=1)"
   ]
  },
  {
   "cell_type": "markdown",
   "metadata": {},
   "source": [
    "- Calculate y distances"
   ]
  },
  {
   "cell_type": "code",
   "execution_count": 154,
   "metadata": {},
   "outputs": [],
   "source": [
    "\n",
    "START_STOP_FRAME_DF[\"subject_x_nose_to_reward_port\"] = START_STOP_FRAME_DF.apply(lambda x: np.abs(x[\"subject_nose\"][:,0] - x[\"reward_port\"][0]),  axis=1)\n",
    "START_STOP_FRAME_DF[\"subject_x_nose_to_reward_port\"] = START_STOP_FRAME_DF[\"subject_x_nose_to_reward_port\"].apply(lambda x: x.astype(np.float32) if x is not np.nan else np.nan)\n",
    "\n",
    "\n",
    "START_STOP_FRAME_DF[\"subject_y_nose_to_reward_port\"] = START_STOP_FRAME_DF.apply(lambda x: np.abs(x[\"subject_nose\"][:,1] - x[\"reward_port\"][1]),  axis=1)\n",
    "START_STOP_FRAME_DF[\"subject_y_nose_to_reward_port\"] = START_STOP_FRAME_DF[\"subject_y_nose_to_reward_port\"].apply(lambda x: x.astype(np.float32) if x is not np.nan else np.nan)"
   ]
  },
  {
   "cell_type": "code",
   "execution_count": 155,
   "metadata": {},
   "outputs": [],
   "source": [
    "\n",
    "START_STOP_FRAME_DF[\"agent_x_nose_to_reward_port\"] = START_STOP_FRAME_DF.apply(lambda x: np.abs(x[\"agent_nose\"][:,0] - x[\"reward_port\"][0]) if x[\"agent\"] else np.nan,  axis=1)\n",
    "START_STOP_FRAME_DF[\"agent_x_nose_to_reward_port\"] = START_STOP_FRAME_DF.apply(lambda x: x[\"agent_x_nose_to_reward_port\"].astype(np.float32) if x[\"agent\"] else np.nan, axis=1)\n",
    "\n",
    "\n",
    "START_STOP_FRAME_DF[\"agent_y_nose_to_reward_port\"] = START_STOP_FRAME_DF.apply(lambda x: np.abs(x[\"agent_nose\"][:,1] - x[\"reward_port\"][1]) if x[\"agent\"] else np.nan,  axis=1)\n",
    "START_STOP_FRAME_DF[\"agent_y_nose_to_reward_port\"] = START_STOP_FRAME_DF.apply(lambda x: x[\"agent_y_nose_to_reward_port\"].astype(np.float32) if x[\"agent\"] else np.nan, axis=1)"
   ]
  },
  {
   "cell_type": "markdown",
   "metadata": {},
   "source": [
    "## Calculate to speed"
   ]
  },
  {
   "cell_type": "code",
   "execution_count": 156,
   "metadata": {},
   "outputs": [],
   "source": [
    "START_STOP_FRAME_DF[\"subject_speed_to_reward_port\"] = START_STOP_FRAME_DF.apply(lambda x: calculate_speed_from_distances(x[\"subject_nose_to_reward_port\"], window_size=WINDOW_SIZE),  axis=1)\n",
    "START_STOP_FRAME_DF[\"subject_speed_to_reward_port\"] = START_STOP_FRAME_DF[\"subject_speed_to_reward_port\"].apply(lambda x: x.astype(np.float32) if x is not np.nan else np.nan)"
   ]
  },
  {
   "cell_type": "code",
   "execution_count": 157,
   "metadata": {},
   "outputs": [],
   "source": [
    "START_STOP_FRAME_DF[\"agent_speed_to_reward_port\"] = START_STOP_FRAME_DF.apply(lambda x: calculate_speed_from_distances(x[\"agent_nose_to_reward_port\"], window_size=WINDOW_SIZE) if x[\"agent\"] else np.nan, axis=1)\n",
    "START_STOP_FRAME_DF[\"agent_speed_to_reward_port\"] = START_STOP_FRAME_DF.apply(lambda x: x[\"agent_speed_to_reward_port\"].astype(np.float32) if x[\"agent\"] else np.nan, axis=1)"
   ]
  },
  {
   "cell_type": "code",
   "execution_count": 158,
   "metadata": {},
   "outputs": [],
   "source": [
    "START_STOP_FRAME_DF[\"subject_to_agent_speed\"] = START_STOP_FRAME_DF.apply(lambda x: calculate_speed_from_distances(x[\"subject_thorax_to_agent_thorax\"], window_size=WINDOW_SIZE) if x[\"agent\"] else np.nan, axis=1)\n",
    "START_STOP_FRAME_DF[\"subject_to_agent_speed\"] = START_STOP_FRAME_DF.apply(lambda x: x[\"subject_to_agent_speed\"].astype(np.float32) if x[\"agent\"] else np.nan, axis=1)"
   ]
  },
  {
   "cell_type": "code",
   "execution_count": null,
   "metadata": {},
   "outputs": [],
   "source": []
  },
  {
   "cell_type": "markdown",
   "metadata": {},
   "source": [
    "## Calculating orientation of the mouse"
   ]
  },
  {
   "cell_type": "markdown",
   "metadata": {},
   "source": [
    "4. angles of orientation of mice to port"
   ]
  },
  {
   "cell_type": "code",
   "execution_count": 159,
   "metadata": {},
   "outputs": [],
   "source": [
    "START_STOP_FRAME_DF[\"subject_to_reward_port_angle\"] = START_STOP_FRAME_DF.apply(lambda x: calculate_time_series_angles(x[\"subject_thorax\"], x[\"subject_nose\"], np.tile(x[\"reward_port\"], (x[\"subject_nose\"].shape[0], 1))),  axis=1)\n",
    "START_STOP_FRAME_DF[\"subject_to_reward_port_angle\"] = START_STOP_FRAME_DF[\"subject_to_reward_port_angle\"].apply(lambda x: x.astype(np.float32) if x is not np.nan else np.nan)"
   ]
  },
  {
   "cell_type": "code",
   "execution_count": 160,
   "metadata": {},
   "outputs": [],
   "source": [
    "START_STOP_FRAME_DF[\"agent_to_reward_port_angle\"] = START_STOP_FRAME_DF.apply(lambda x: calculate_time_series_angles(x[\"agent_thorax\"], x[\"agent_nose\"], np.tile(x[\"reward_port\"], (x[\"agent_nose\"].shape[0], 1))) if x[\"agent\"] else np.nan, axis=1)\n",
    "START_STOP_FRAME_DF[\"agent_to_reward_port_angle\"] = START_STOP_FRAME_DF.apply(lambda x: x[\"agent_to_reward_port_angle\"].astype(np.float32) if x[\"agent\"] else np.nan, axis=1)"
   ]
  },
  {
   "cell_type": "code",
   "execution_count": 161,
   "metadata": {},
   "outputs": [
    {
     "data": {
      "text/html": [
       "<div>\n",
       "<style scoped>\n",
       "    .dataframe tbody tr th:only-of-type {\n",
       "        vertical-align: middle;\n",
       "    }\n",
       "\n",
       "    .dataframe tbody tr th {\n",
       "        vertical-align: top;\n",
       "    }\n",
       "\n",
       "    .dataframe thead th {\n",
       "        text-align: right;\n",
       "    }\n",
       "</style>\n",
       "<table border=\"1\" class=\"dataframe\">\n",
       "  <thead>\n",
       "    <tr style=\"text-align: right;\">\n",
       "      <th></th>\n",
       "      <th>start_frame</th>\n",
       "      <th>stop_frame</th>\n",
       "      <th>tracked_subject</th>\n",
       "      <th>in_video_subjects</th>\n",
       "      <th>box_number</th>\n",
       "      <th>sleap_name</th>\n",
       "      <th>video_name</th>\n",
       "      <th>current_subject</th>\n",
       "      <th>body_parts</th>\n",
       "      <th>box_top_right</th>\n",
       "      <th>...</th>\n",
       "      <th>agent_nose_to_reward_port</th>\n",
       "      <th>subject_x_nose_to_reward_port</th>\n",
       "      <th>subject_y_nose_to_reward_port</th>\n",
       "      <th>agent_x_nose_to_reward_port</th>\n",
       "      <th>agent_y_nose_to_reward_port</th>\n",
       "      <th>subject_speed_to_reward_port</th>\n",
       "      <th>agent_speed_to_reward_port</th>\n",
       "      <th>subject_to_agent_speed</th>\n",
       "      <th>subject_to_reward_port_angle</th>\n",
       "      <th>agent_to_reward_port_angle</th>\n",
       "    </tr>\n",
       "  </thead>\n",
       "  <tbody>\n",
       "    <tr>\n",
       "      <th>0</th>\n",
       "      <td>1</td>\n",
       "      <td>30500</td>\n",
       "      <td>[3.3]</td>\n",
       "      <td>[3.1, 3.3]</td>\n",
       "      <td>1</td>\n",
       "      <td>20240320_142408_alone_comp_subj_3-1_and_3-3.1....</td>\n",
       "      <td>20240320_142408_alone_comp_subj_3-1_and_3-3.1</td>\n",
       "      <td>3.3</td>\n",
       "      <td>[left_ear, right_ear, nose, tail_base, thorax,...</td>\n",
       "      <td>[74.26084699849272, 8.602144309163993]</td>\n",
       "      <td>...</td>\n",
       "      <td>NaN</td>\n",
       "      <td>[25.06472, 25.332037, 25.855719, 26.596203, 27...</td>\n",
       "      <td>[19.192625, 19.383827, 19.376047, 19.383303, 1...</td>\n",
       "      <td>NaN</td>\n",
       "      <td>NaN</td>\n",
       "      <td>[-0.28560644, -0.3719459, -0.4461566, -0.50823...</td>\n",
       "      <td>NaN</td>\n",
       "      <td>NaN</td>\n",
       "      <td>[0.49540582, 0.48933113, 0.49702832, 0.4952369...</td>\n",
       "      <td>NaN</td>\n",
       "    </tr>\n",
       "    <tr>\n",
       "      <th>1</th>\n",
       "      <td>1</td>\n",
       "      <td>30500</td>\n",
       "      <td>[3.1]</td>\n",
       "      <td>[3.1, 3.3]</td>\n",
       "      <td>2</td>\n",
       "      <td>20240320_142408_alone_comp_subj_3-1_and_3-3.2....</td>\n",
       "      <td>20240320_142408_alone_comp_subj_3-1_and_3-3.2</td>\n",
       "      <td>3.1</td>\n",
       "      <td>[left_ear, right_ear, nose, tail_base, thorax,...</td>\n",
       "      <td>[74.65449798628558, 12.985865341388582]</td>\n",
       "      <td>...</td>\n",
       "      <td>NaN</td>\n",
       "      <td>[3.1073172, 2.8172944, 2.568147, 2.3649085, 2....</td>\n",
       "      <td>[1.4189916, 1.3928946, 1.4079877, 1.7213916, 1...</td>\n",
       "      <td>NaN</td>\n",
       "      <td>NaN</td>\n",
       "      <td>[-0.78669435, -0.43449527, -0.11602897, 0.1687...</td>\n",
       "      <td>NaN</td>\n",
       "      <td>NaN</td>\n",
       "      <td>[0.55467397, 0.6229844, 0.6697618, 0.7532727, ...</td>\n",
       "      <td>NaN</td>\n",
       "    </tr>\n",
       "    <tr>\n",
       "      <th>2</th>\n",
       "      <td>1</td>\n",
       "      <td>30500</td>\n",
       "      <td>[4.3]</td>\n",
       "      <td>[4.2, 4.3]</td>\n",
       "      <td>1</td>\n",
       "      <td>20240320_171038_alone_comp_subj_4-2_and_4-3.1....</td>\n",
       "      <td>20240320_171038_alone_comp_subj_4-2_and_4-3.1</td>\n",
       "      <td>4.3</td>\n",
       "      <td>[left_ear, right_ear, nose, tail_base, thorax,...</td>\n",
       "      <td>[74.25151247701015, 8.495471311209611]</td>\n",
       "      <td>...</td>\n",
       "      <td>NaN</td>\n",
       "      <td>[0.081327006, 0.15152037, 0.18834333, 0.399076...</td>\n",
       "      <td>[0.6792992, 0.83574456, 1.1395496, 0.9968524, ...</td>\n",
       "      <td>NaN</td>\n",
       "      <td>NaN</td>\n",
       "      <td>[-0.16207029, -0.11683536, -0.0753754, -0.0376...</td>\n",
       "      <td>NaN</td>\n",
       "      <td>NaN</td>\n",
       "      <td>[0.33208147, 0.58065873, 0.5380323, 0.73524755...</td>\n",
       "      <td>NaN</td>\n",
       "    </tr>\n",
       "    <tr>\n",
       "      <th>3</th>\n",
       "      <td>1</td>\n",
       "      <td>30500</td>\n",
       "      <td>[4.2]</td>\n",
       "      <td>[4.2, 4.3]</td>\n",
       "      <td>2</td>\n",
       "      <td>20240320_171038_alone_comp_subj_4-2_and_4-3.2....</td>\n",
       "      <td>20240320_171038_alone_comp_subj_4-2_and_4-3.2</td>\n",
       "      <td>4.2</td>\n",
       "      <td>[left_ear, right_ear, nose, tail_base, thorax,...</td>\n",
       "      <td>[75.409866420081, 12.312416433613139]</td>\n",
       "      <td>...</td>\n",
       "      <td>NaN</td>\n",
       "      <td>[0.7119147, 0.9221212, 0.9485068, 0.71304685, ...</td>\n",
       "      <td>[0.49510336, 1.6074148, 0.7867964, 0.7985745, ...</td>\n",
       "      <td>NaN</td>\n",
       "      <td>NaN</td>\n",
       "      <td>[-0.07207359, -0.059718736, -0.048246175, -0.0...</td>\n",
       "      <td>NaN</td>\n",
       "      <td>NaN</td>\n",
       "      <td>[0.06526456, 0.36711997, 0.11749186, 0.2434938...</td>\n",
       "      <td>NaN</td>\n",
       "    </tr>\n",
       "    <tr>\n",
       "      <th>4</th>\n",
       "      <td>1</td>\n",
       "      <td>30500</td>\n",
       "      <td>[3.4]</td>\n",
       "      <td>[3.3, 3.4]</td>\n",
       "      <td>1</td>\n",
       "      <td>20240322_120625_alone_comp_subj_3-3_and_3-4.1....</td>\n",
       "      <td>20240322_120625_alone_comp_subj_3-3_and_3-4.1</td>\n",
       "      <td>3.4</td>\n",
       "      <td>[left_ear, right_ear, nose, tail_base, thorax,...</td>\n",
       "      <td>[74.42236280061786, 8.926387194010582]</td>\n",
       "      <td>...</td>\n",
       "      <td>NaN</td>\n",
       "      <td>[11.48317, 10.74968, 10.490732, 9.705498, 6.94...</td>\n",
       "      <td>[14.150912, 14.653045, 14.7830515, 14.304805, ...</td>\n",
       "      <td>NaN</td>\n",
       "      <td>NaN</td>\n",
       "      <td>[-2.0927126, -1.6571128, -1.2592603, -0.899154...</td>\n",
       "      <td>NaN</td>\n",
       "      <td>NaN</td>\n",
       "      <td>[1.2539258, 1.2693642, 1.3037982, 1.440531, 1....</td>\n",
       "      <td>NaN</td>\n",
       "    </tr>\n",
       "  </tbody>\n",
       "</table>\n",
       "<p>5 rows × 40 columns</p>\n",
       "</div>"
      ],
      "text/plain": [
       "   start_frame  stop_frame tracked_subject in_video_subjects  box_number  \\\n",
       "0            1       30500           [3.3]        [3.1, 3.3]           1   \n",
       "1            1       30500           [3.1]        [3.1, 3.3]           2   \n",
       "2            1       30500           [4.3]        [4.2, 4.3]           1   \n",
       "3            1       30500           [4.2]        [4.2, 4.3]           2   \n",
       "4            1       30500           [3.4]        [3.3, 3.4]           1   \n",
       "\n",
       "                                          sleap_name  \\\n",
       "0  20240320_142408_alone_comp_subj_3-1_and_3-3.1....   \n",
       "1  20240320_142408_alone_comp_subj_3-1_and_3-3.2....   \n",
       "2  20240320_171038_alone_comp_subj_4-2_and_4-3.1....   \n",
       "3  20240320_171038_alone_comp_subj_4-2_and_4-3.2....   \n",
       "4  20240322_120625_alone_comp_subj_3-3_and_3-4.1....   \n",
       "\n",
       "                                      video_name current_subject  \\\n",
       "0  20240320_142408_alone_comp_subj_3-1_and_3-3.1             3.3   \n",
       "1  20240320_142408_alone_comp_subj_3-1_and_3-3.2             3.1   \n",
       "2  20240320_171038_alone_comp_subj_4-2_and_4-3.1             4.3   \n",
       "3  20240320_171038_alone_comp_subj_4-2_and_4-3.2             4.2   \n",
       "4  20240322_120625_alone_comp_subj_3-3_and_3-4.1             3.4   \n",
       "\n",
       "                                          body_parts  \\\n",
       "0  [left_ear, right_ear, nose, tail_base, thorax,...   \n",
       "1  [left_ear, right_ear, nose, tail_base, thorax,...   \n",
       "2  [left_ear, right_ear, nose, tail_base, thorax,...   \n",
       "3  [left_ear, right_ear, nose, tail_base, thorax,...   \n",
       "4  [left_ear, right_ear, nose, tail_base, thorax,...   \n",
       "\n",
       "                             box_top_right  ... agent_nose_to_reward_port  \\\n",
       "0   [74.26084699849272, 8.602144309163993]  ...                       NaN   \n",
       "1  [74.65449798628558, 12.985865341388582]  ...                       NaN   \n",
       "2   [74.25151247701015, 8.495471311209611]  ...                       NaN   \n",
       "3    [75.409866420081, 12.312416433613139]  ...                       NaN   \n",
       "4   [74.42236280061786, 8.926387194010582]  ...                       NaN   \n",
       "\n",
       "                       subject_x_nose_to_reward_port  \\\n",
       "0  [25.06472, 25.332037, 25.855719, 26.596203, 27...   \n",
       "1  [3.1073172, 2.8172944, 2.568147, 2.3649085, 2....   \n",
       "2  [0.081327006, 0.15152037, 0.18834333, 0.399076...   \n",
       "3  [0.7119147, 0.9221212, 0.9485068, 0.71304685, ...   \n",
       "4  [11.48317, 10.74968, 10.490732, 9.705498, 6.94...   \n",
       "\n",
       "                       subject_y_nose_to_reward_port  \\\n",
       "0  [19.192625, 19.383827, 19.376047, 19.383303, 1...   \n",
       "1  [1.4189916, 1.3928946, 1.4079877, 1.7213916, 1...   \n",
       "2  [0.6792992, 0.83574456, 1.1395496, 0.9968524, ...   \n",
       "3  [0.49510336, 1.6074148, 0.7867964, 0.7985745, ...   \n",
       "4  [14.150912, 14.653045, 14.7830515, 14.304805, ...   \n",
       "\n",
       "  agent_x_nose_to_reward_port agent_y_nose_to_reward_port  \\\n",
       "0                         NaN                         NaN   \n",
       "1                         NaN                         NaN   \n",
       "2                         NaN                         NaN   \n",
       "3                         NaN                         NaN   \n",
       "4                         NaN                         NaN   \n",
       "\n",
       "                        subject_speed_to_reward_port  \\\n",
       "0  [-0.28560644, -0.3719459, -0.4461566, -0.50823...   \n",
       "1  [-0.78669435, -0.43449527, -0.11602897, 0.1687...   \n",
       "2  [-0.16207029, -0.11683536, -0.0753754, -0.0376...   \n",
       "3  [-0.07207359, -0.059718736, -0.048246175, -0.0...   \n",
       "4  [-2.0927126, -1.6571128, -1.2592603, -0.899154...   \n",
       "\n",
       "   agent_speed_to_reward_port subject_to_agent_speed  \\\n",
       "0                         NaN                    NaN   \n",
       "1                         NaN                    NaN   \n",
       "2                         NaN                    NaN   \n",
       "3                         NaN                    NaN   \n",
       "4                         NaN                    NaN   \n",
       "\n",
       "                        subject_to_reward_port_angle  \\\n",
       "0  [0.49540582, 0.48933113, 0.49702832, 0.4952369...   \n",
       "1  [0.55467397, 0.6229844, 0.6697618, 0.7532727, ...   \n",
       "2  [0.33208147, 0.58065873, 0.5380323, 0.73524755...   \n",
       "3  [0.06526456, 0.36711997, 0.11749186, 0.2434938...   \n",
       "4  [1.2539258, 1.2693642, 1.3037982, 1.440531, 1....   \n",
       "\n",
       "  agent_to_reward_port_angle  \n",
       "0                        NaN  \n",
       "1                        NaN  \n",
       "2                        NaN  \n",
       "3                        NaN  \n",
       "4                        NaN  \n",
       "\n",
       "[5 rows x 40 columns]"
      ]
     },
     "execution_count": 161,
     "metadata": {},
     "output_type": "execute_result"
    }
   ],
   "source": [
    "START_STOP_FRAME_DF.head()"
   ]
  },
  {
   "cell_type": "markdown",
   "metadata": {},
   "source": [
    "# Smoothing out features"
   ]
  },
  {
   "cell_type": "code",
   "execution_count": 162,
   "metadata": {},
   "outputs": [],
   "source": [
    "features_columns = [col for col in features_columns if \"agent\" not in col]"
   ]
  },
  {
   "cell_type": "code",
   "execution_count": 163,
   "metadata": {},
   "outputs": [],
   "source": [
    "features_columns = [col for col in features_columns if \"sum\" not in col]"
   ]
  },
  {
   "cell_type": "code",
   "execution_count": 164,
   "metadata": {},
   "outputs": [],
   "source": [
    "features_columns = [col for col in features_columns if \"diff\" not in col]"
   ]
  },
  {
   "cell_type": "code",
   "execution_count": 165,
   "metadata": {},
   "outputs": [
    {
     "data": {
      "text/plain": [
       "['frame_index',\n",
       " 'subject_nose_to_reward_port',\n",
       " 'subject_thorax_velocity',\n",
       " 'subject_to_reward_port_angle']"
      ]
     },
     "execution_count": 165,
     "metadata": {},
     "output_type": "execute_result"
    }
   ],
   "source": [
    "features_columns"
   ]
  },
  {
   "cell_type": "code",
   "execution_count": 166,
   "metadata": {
    "tags": []
   },
   "outputs": [],
   "source": [
    "for col in features_columns:\n",
    "    START_STOP_FRAME_DF[col] = START_STOP_FRAME_DF[col].apply(lambda x: savgol_filter(x, window_length=WINDOW_SIZE, polyorder=3, deriv=0))\n",
    "    START_STOP_FRAME_DF[col] = START_STOP_FRAME_DF[col].apply(lambda x: interpolate_nans_in_1d_arr(x)) "
   ]
  },
  {
   "cell_type": "markdown",
   "metadata": {},
   "source": [
    "# Adding trial information"
   ]
  },
  {
   "cell_type": "code",
   "execution_count": 167,
   "metadata": {
    "tags": []
   },
   "outputs": [
    {
     "data": {
      "text/html": [
       "<div>\n",
       "<style scoped>\n",
       "    .dataframe tbody tr th:only-of-type {\n",
       "        vertical-align: middle;\n",
       "    }\n",
       "\n",
       "    .dataframe tbody tr th {\n",
       "        vertical-align: top;\n",
       "    }\n",
       "\n",
       "    .dataframe thead th {\n",
       "        text-align: right;\n",
       "    }\n",
       "</style>\n",
       "<table border=\"1\" class=\"dataframe\">\n",
       "  <thead>\n",
       "    <tr style=\"text-align: right;\">\n",
       "      <th></th>\n",
       "      <th>start_frame</th>\n",
       "      <th>stop_frame</th>\n",
       "      <th>tracked_subject</th>\n",
       "      <th>in_video_subjects</th>\n",
       "      <th>box_number</th>\n",
       "      <th>sleap_name</th>\n",
       "      <th>video_name</th>\n",
       "      <th>current_subject</th>\n",
       "      <th>body_parts</th>\n",
       "      <th>box_top_right</th>\n",
       "      <th>...</th>\n",
       "      <th>agent_nose_to_reward_port</th>\n",
       "      <th>subject_x_nose_to_reward_port</th>\n",
       "      <th>subject_y_nose_to_reward_port</th>\n",
       "      <th>agent_x_nose_to_reward_port</th>\n",
       "      <th>agent_y_nose_to_reward_port</th>\n",
       "      <th>subject_speed_to_reward_port</th>\n",
       "      <th>agent_speed_to_reward_port</th>\n",
       "      <th>subject_to_agent_speed</th>\n",
       "      <th>subject_to_reward_port_angle</th>\n",
       "      <th>agent_to_reward_port_angle</th>\n",
       "    </tr>\n",
       "  </thead>\n",
       "  <tbody>\n",
       "    <tr>\n",
       "      <th>0</th>\n",
       "      <td>1</td>\n",
       "      <td>30500</td>\n",
       "      <td>[3.3]</td>\n",
       "      <td>[3.1, 3.3]</td>\n",
       "      <td>1</td>\n",
       "      <td>20240320_142408_alone_comp_subj_3-1_and_3-3.1....</td>\n",
       "      <td>20240320_142408_alone_comp_subj_3-1_and_3-3.1</td>\n",
       "      <td>3.3</td>\n",
       "      <td>[left_ear, right_ear, nose, tail_base, thorax,...</td>\n",
       "      <td>[74.26084699849272, 8.602144309163993]</td>\n",
       "      <td>...</td>\n",
       "      <td>NaN</td>\n",
       "      <td>[25.06472, 25.332037, 25.855719, 26.596203, 27...</td>\n",
       "      <td>[19.192625, 19.383827, 19.376047, 19.383303, 1...</td>\n",
       "      <td>NaN</td>\n",
       "      <td>NaN</td>\n",
       "      <td>[-0.28560644, -0.3719459, -0.4461566, -0.50823...</td>\n",
       "      <td>NaN</td>\n",
       "      <td>NaN</td>\n",
       "      <td>[0.4567384, 0.5030546, 0.5267061, 0.53069854, ...</td>\n",
       "      <td>NaN</td>\n",
       "    </tr>\n",
       "    <tr>\n",
       "      <th>1</th>\n",
       "      <td>1</td>\n",
       "      <td>30500</td>\n",
       "      <td>[3.1]</td>\n",
       "      <td>[3.1, 3.3]</td>\n",
       "      <td>2</td>\n",
       "      <td>20240320_142408_alone_comp_subj_3-1_and_3-3.2....</td>\n",
       "      <td>20240320_142408_alone_comp_subj_3-1_and_3-3.2</td>\n",
       "      <td>3.1</td>\n",
       "      <td>[left_ear, right_ear, nose, tail_base, thorax,...</td>\n",
       "      <td>[74.65449798628558, 12.985865341388582]</td>\n",
       "      <td>...</td>\n",
       "      <td>NaN</td>\n",
       "      <td>[3.1073172, 2.8172944, 2.568147, 2.3649085, 2....</td>\n",
       "      <td>[1.4189916, 1.3928946, 1.4079877, 1.7213916, 1...</td>\n",
       "      <td>NaN</td>\n",
       "      <td>NaN</td>\n",
       "      <td>[-0.78669435, -0.43449527, -0.11602897, 0.1687...</td>\n",
       "      <td>NaN</td>\n",
       "      <td>NaN</td>\n",
       "      <td>[0.6361073, 0.6722213, 0.6897084, 0.6904688, 0...</td>\n",
       "      <td>NaN</td>\n",
       "    </tr>\n",
       "    <tr>\n",
       "      <th>2</th>\n",
       "      <td>1</td>\n",
       "      <td>30500</td>\n",
       "      <td>[4.3]</td>\n",
       "      <td>[4.2, 4.3]</td>\n",
       "      <td>1</td>\n",
       "      <td>20240320_171038_alone_comp_subj_4-2_and_4-3.1....</td>\n",
       "      <td>20240320_171038_alone_comp_subj_4-2_and_4-3.1</td>\n",
       "      <td>4.3</td>\n",
       "      <td>[left_ear, right_ear, nose, tail_base, thorax,...</td>\n",
       "      <td>[74.25151247701015, 8.495471311209611]</td>\n",
       "      <td>...</td>\n",
       "      <td>NaN</td>\n",
       "      <td>[0.081327006, 0.15152037, 0.18834333, 0.399076...</td>\n",
       "      <td>[0.6792992, 0.83574456, 1.1395496, 0.9968524, ...</td>\n",
       "      <td>NaN</td>\n",
       "      <td>NaN</td>\n",
       "      <td>[-0.16207029, -0.11683536, -0.0753754, -0.0376...</td>\n",
       "      <td>NaN</td>\n",
       "      <td>NaN</td>\n",
       "      <td>[0.47367415, 0.51055527, 0.54263103, 0.5705644...</td>\n",
       "      <td>NaN</td>\n",
       "    </tr>\n",
       "    <tr>\n",
       "      <th>3</th>\n",
       "      <td>1</td>\n",
       "      <td>30500</td>\n",
       "      <td>[4.2]</td>\n",
       "      <td>[4.2, 4.3]</td>\n",
       "      <td>2</td>\n",
       "      <td>20240320_171038_alone_comp_subj_4-2_and_4-3.2....</td>\n",
       "      <td>20240320_171038_alone_comp_subj_4-2_and_4-3.2</td>\n",
       "      <td>4.2</td>\n",
       "      <td>[left_ear, right_ear, nose, tail_base, thorax,...</td>\n",
       "      <td>[75.409866420081, 12.312416433613139]</td>\n",
       "      <td>...</td>\n",
       "      <td>NaN</td>\n",
       "      <td>[0.7119147, 0.9221212, 0.9485068, 0.71304685, ...</td>\n",
       "      <td>[0.49510336, 1.6074148, 0.7867964, 0.7985745, ...</td>\n",
       "      <td>NaN</td>\n",
       "      <td>NaN</td>\n",
       "      <td>[-0.07207359, -0.059718736, -0.048246175, -0.0...</td>\n",
       "      <td>NaN</td>\n",
       "      <td>NaN</td>\n",
       "      <td>[0.13965209, 0.23016421, 0.3103715, 0.3807548,...</td>\n",
       "      <td>NaN</td>\n",
       "    </tr>\n",
       "    <tr>\n",
       "      <th>4</th>\n",
       "      <td>1</td>\n",
       "      <td>30500</td>\n",
       "      <td>[3.4]</td>\n",
       "      <td>[3.3, 3.4]</td>\n",
       "      <td>1</td>\n",
       "      <td>20240322_120625_alone_comp_subj_3-3_and_3-4.1....</td>\n",
       "      <td>20240322_120625_alone_comp_subj_3-3_and_3-4.1</td>\n",
       "      <td>3.4</td>\n",
       "      <td>[left_ear, right_ear, nose, tail_base, thorax,...</td>\n",
       "      <td>[74.42236280061786, 8.926387194010582]</td>\n",
       "      <td>...</td>\n",
       "      <td>NaN</td>\n",
       "      <td>[11.48317, 10.74968, 10.490732, 9.705498, 6.94...</td>\n",
       "      <td>[14.150912, 14.653045, 14.7830515, 14.304805, ...</td>\n",
       "      <td>NaN</td>\n",
       "      <td>NaN</td>\n",
       "      <td>[-2.0927126, -1.6571128, -1.2592603, -0.899154...</td>\n",
       "      <td>NaN</td>\n",
       "      <td>NaN</td>\n",
       "      <td>[1.2268945, 1.3416408, 1.4189448, 1.4629496, 1...</td>\n",
       "      <td>NaN</td>\n",
       "    </tr>\n",
       "  </tbody>\n",
       "</table>\n",
       "<p>5 rows × 40 columns</p>\n",
       "</div>"
      ],
      "text/plain": [
       "   start_frame  stop_frame tracked_subject in_video_subjects  box_number  \\\n",
       "0            1       30500           [3.3]        [3.1, 3.3]           1   \n",
       "1            1       30500           [3.1]        [3.1, 3.3]           2   \n",
       "2            1       30500           [4.3]        [4.2, 4.3]           1   \n",
       "3            1       30500           [4.2]        [4.2, 4.3]           2   \n",
       "4            1       30500           [3.4]        [3.3, 3.4]           1   \n",
       "\n",
       "                                          sleap_name  \\\n",
       "0  20240320_142408_alone_comp_subj_3-1_and_3-3.1....   \n",
       "1  20240320_142408_alone_comp_subj_3-1_and_3-3.2....   \n",
       "2  20240320_171038_alone_comp_subj_4-2_and_4-3.1....   \n",
       "3  20240320_171038_alone_comp_subj_4-2_and_4-3.2....   \n",
       "4  20240322_120625_alone_comp_subj_3-3_and_3-4.1....   \n",
       "\n",
       "                                      video_name current_subject  \\\n",
       "0  20240320_142408_alone_comp_subj_3-1_and_3-3.1             3.3   \n",
       "1  20240320_142408_alone_comp_subj_3-1_and_3-3.2             3.1   \n",
       "2  20240320_171038_alone_comp_subj_4-2_and_4-3.1             4.3   \n",
       "3  20240320_171038_alone_comp_subj_4-2_and_4-3.2             4.2   \n",
       "4  20240322_120625_alone_comp_subj_3-3_and_3-4.1             3.4   \n",
       "\n",
       "                                          body_parts  \\\n",
       "0  [left_ear, right_ear, nose, tail_base, thorax,...   \n",
       "1  [left_ear, right_ear, nose, tail_base, thorax,...   \n",
       "2  [left_ear, right_ear, nose, tail_base, thorax,...   \n",
       "3  [left_ear, right_ear, nose, tail_base, thorax,...   \n",
       "4  [left_ear, right_ear, nose, tail_base, thorax,...   \n",
       "\n",
       "                             box_top_right  ... agent_nose_to_reward_port  \\\n",
       "0   [74.26084699849272, 8.602144309163993]  ...                       NaN   \n",
       "1  [74.65449798628558, 12.985865341388582]  ...                       NaN   \n",
       "2   [74.25151247701015, 8.495471311209611]  ...                       NaN   \n",
       "3    [75.409866420081, 12.312416433613139]  ...                       NaN   \n",
       "4   [74.42236280061786, 8.926387194010582]  ...                       NaN   \n",
       "\n",
       "                       subject_x_nose_to_reward_port  \\\n",
       "0  [25.06472, 25.332037, 25.855719, 26.596203, 27...   \n",
       "1  [3.1073172, 2.8172944, 2.568147, 2.3649085, 2....   \n",
       "2  [0.081327006, 0.15152037, 0.18834333, 0.399076...   \n",
       "3  [0.7119147, 0.9221212, 0.9485068, 0.71304685, ...   \n",
       "4  [11.48317, 10.74968, 10.490732, 9.705498, 6.94...   \n",
       "\n",
       "                       subject_y_nose_to_reward_port  \\\n",
       "0  [19.192625, 19.383827, 19.376047, 19.383303, 1...   \n",
       "1  [1.4189916, 1.3928946, 1.4079877, 1.7213916, 1...   \n",
       "2  [0.6792992, 0.83574456, 1.1395496, 0.9968524, ...   \n",
       "3  [0.49510336, 1.6074148, 0.7867964, 0.7985745, ...   \n",
       "4  [14.150912, 14.653045, 14.7830515, 14.304805, ...   \n",
       "\n",
       "  agent_x_nose_to_reward_port agent_y_nose_to_reward_port  \\\n",
       "0                         NaN                         NaN   \n",
       "1                         NaN                         NaN   \n",
       "2                         NaN                         NaN   \n",
       "3                         NaN                         NaN   \n",
       "4                         NaN                         NaN   \n",
       "\n",
       "                        subject_speed_to_reward_port  \\\n",
       "0  [-0.28560644, -0.3719459, -0.4461566, -0.50823...   \n",
       "1  [-0.78669435, -0.43449527, -0.11602897, 0.1687...   \n",
       "2  [-0.16207029, -0.11683536, -0.0753754, -0.0376...   \n",
       "3  [-0.07207359, -0.059718736, -0.048246175, -0.0...   \n",
       "4  [-2.0927126, -1.6571128, -1.2592603, -0.899154...   \n",
       "\n",
       "   agent_speed_to_reward_port subject_to_agent_speed  \\\n",
       "0                         NaN                    NaN   \n",
       "1                         NaN                    NaN   \n",
       "2                         NaN                    NaN   \n",
       "3                         NaN                    NaN   \n",
       "4                         NaN                    NaN   \n",
       "\n",
       "                        subject_to_reward_port_angle  \\\n",
       "0  [0.4567384, 0.5030546, 0.5267061, 0.53069854, ...   \n",
       "1  [0.6361073, 0.6722213, 0.6897084, 0.6904688, 0...   \n",
       "2  [0.47367415, 0.51055527, 0.54263103, 0.5705644...   \n",
       "3  [0.13965209, 0.23016421, 0.3103715, 0.3807548,...   \n",
       "4  [1.2268945, 1.3416408, 1.4189448, 1.4629496, 1...   \n",
       "\n",
       "  agent_to_reward_port_angle  \n",
       "0                        NaN  \n",
       "1                        NaN  \n",
       "2                        NaN  \n",
       "3                        NaN  \n",
       "4                        NaN  \n",
       "\n",
       "[5 rows x 40 columns]"
      ]
     },
     "execution_count": 167,
     "metadata": {},
     "output_type": "execute_result"
    }
   ],
   "source": [
    "START_STOP_FRAME_DF.head()"
   ]
  },
  {
   "cell_type": "code",
   "execution_count": 168,
   "metadata": {
    "tags": []
   },
   "outputs": [
    {
     "data": {
      "text/plain": [
       "Index(['start_frame', 'stop_frame', 'tracked_subject', 'in_video_subjects',\n",
       "       'box_number', 'sleap_name', 'video_name', 'current_subject',\n",
       "       'body_parts', 'box_top_right', 'box_bottom_right', 'box_top_left',\n",
       "       'reward_port', 'box_bottom_left', 'agent', 'subject_locations',\n",
       "       'agent_locations', 'frame_index', 'subject_thorax', 'subject_nose',\n",
       "       'subject_tail_base', 'agent_thorax', 'agent_nose', 'agent_tail_base',\n",
       "       'subject_thorax_velocity', 'agent_thorax_velocity',\n",
       "       'subject_thorax_to_agent_thorax', 'subject_nose_to_agent_tail_base',\n",
       "       'subject_tail_base_to_agent_nose', 'subject_nose_to_reward_port',\n",
       "       'agent_nose_to_reward_port', 'subject_x_nose_to_reward_port',\n",
       "       'subject_y_nose_to_reward_port', 'agent_x_nose_to_reward_port',\n",
       "       'agent_y_nose_to_reward_port', 'subject_speed_to_reward_port',\n",
       "       'agent_speed_to_reward_port', 'subject_to_agent_speed',\n",
       "       'subject_to_reward_port_angle', 'agent_to_reward_port_angle'],\n",
       "      dtype='object')"
      ]
     },
     "execution_count": 168,
     "metadata": {},
     "output_type": "execute_result"
    }
   ],
   "source": [
    "START_STOP_FRAME_DF.columns"
   ]
  },
  {
   "cell_type": "markdown",
   "metadata": {},
   "source": [
    "- Checking to see if everything has full number of frames"
   ]
  },
  {
   "cell_type": "code",
   "execution_count": 169,
   "metadata": {
    "tags": []
   },
   "outputs": [],
   "source": [
    "START_STOP_FRAME_DF[\"frame_index\"] = START_STOP_FRAME_DF[\"frame_index\"].apply(lambda x: x.astype(int))"
   ]
  },
  {
   "cell_type": "code",
   "execution_count": 170,
   "metadata": {
    "tags": []
   },
   "outputs": [
    {
     "data": {
      "text/plain": [
       "array([    0,     1,     2, ..., 63502, 63503, 63504])"
      ]
     },
     "execution_count": 170,
     "metadata": {},
     "output_type": "execute_result"
    }
   ],
   "source": [
    "START_STOP_FRAME_DF[\"frame_index\"].iloc[0]"
   ]
  },
  {
   "cell_type": "code",
   "execution_count": 171,
   "metadata": {
    "tags": []
   },
   "outputs": [
    {
     "data": {
      "text/plain": [
       "0    (63504,)\n",
       "1    (63529,)\n",
       "2    (64255,)\n",
       "3    (64279,)\n",
       "4    (63314,)\n",
       "Name: frame_index, dtype: object"
      ]
     },
     "execution_count": 171,
     "metadata": {},
     "output_type": "execute_result"
    }
   ],
   "source": [
    "START_STOP_FRAME_DF[\"frame_index\"].apply(lambda x: x.shape).head()"
   ]
  },
  {
   "cell_type": "code",
   "execution_count": 172,
   "metadata": {
    "tags": []
   },
   "outputs": [
    {
     "data": {
      "text/plain": [
       "0    (63504, 2)\n",
       "1    (63529, 2)\n",
       "2    (64255, 2)\n",
       "3    (64279, 2)\n",
       "4    (63314, 2)\n",
       "Name: subject_thorax, dtype: object"
      ]
     },
     "execution_count": 172,
     "metadata": {},
     "output_type": "execute_result"
    }
   ],
   "source": [
    "START_STOP_FRAME_DF[\"subject_thorax\"].apply(lambda x: x.shape).head()"
   ]
  },
  {
   "cell_type": "code",
   "execution_count": 173,
   "metadata": {
    "tags": []
   },
   "outputs": [
    {
     "data": {
      "text/plain": [
       "0    (63504,)\n",
       "1    (63529,)\n",
       "2    (64255,)\n",
       "3    (64279,)\n",
       "4    (63314,)\n",
       "Name: subject_thorax_velocity, dtype: object"
      ]
     },
     "execution_count": 173,
     "metadata": {},
     "output_type": "execute_result"
    }
   ],
   "source": [
    "START_STOP_FRAME_DF[\"subject_thorax_velocity\"].apply(lambda x: x.shape).head()"
   ]
  },
  {
   "cell_type": "markdown",
   "metadata": {},
   "source": [
    "## Reading in the trial information"
   ]
  },
  {
   "cell_type": "code",
   "execution_count": 174,
   "metadata": {},
   "outputs": [],
   "source": [
    "list_of_trials_df = []\n",
    "\n",
    "for file_path in all_trials_files:\n",
    "    current_df = pd.read_excel(file_path)\n",
    "    list_of_trials_df.append(current_df)\n",
    "\n",
    "trial_labels = pd.concat(list_of_trials_df)\n"
   ]
  },
  {
   "cell_type": "code",
   "execution_count": 175,
   "metadata": {},
   "outputs": [],
   "source": [
    "trial_labels = trial_labels.rename(columns={col: col.strip().lower() for col in trial_labels.columns})"
   ]
  },
  {
   "cell_type": "code",
   "execution_count": 176,
   "metadata": {},
   "outputs": [
    {
     "data": {
      "text/html": [
       "<div>\n",
       "<style scoped>\n",
       "    .dataframe tbody tr th:only-of-type {\n",
       "        vertical-align: middle;\n",
       "    }\n",
       "\n",
       "    .dataframe tbody tr th {\n",
       "        vertical-align: top;\n",
       "    }\n",
       "\n",
       "    .dataframe thead th {\n",
       "        text-align: right;\n",
       "    }\n",
       "</style>\n",
       "<table border=\"1\" class=\"dataframe\">\n",
       "  <thead>\n",
       "    <tr style=\"text-align: right;\">\n",
       "      <th></th>\n",
       "      <th>unnamed: 0</th>\n",
       "      <th>session_dir</th>\n",
       "      <th>tone_start_frame</th>\n",
       "      <th>reward_start</th>\n",
       "      <th>reward_dispensed</th>\n",
       "      <th>tone_stop_frame</th>\n",
       "      <th>condition</th>\n",
       "      <th>competition_closeness</th>\n",
       "      <th>get_reward_frame</th>\n",
       "      <th>out_reward_frame</th>\n",
       "      <th>...</th>\n",
       "      <th>box_1_port_entry_frames</th>\n",
       "      <th>box_2_port_entry_frames</th>\n",
       "      <th>video_name</th>\n",
       "      <th>all_subjects</th>\n",
       "      <th>first_timestamp</th>\n",
       "      <th>last_timestamp</th>\n",
       "      <th>tone_start_timestamp</th>\n",
       "      <th>tone_stop_timestamp</th>\n",
       "      <th>box_1_port_entry_timestamps</th>\n",
       "      <th>box_2_port_entry_timestamps</th>\n",
       "    </tr>\n",
       "  </thead>\n",
       "  <tbody>\n",
       "    <tr>\n",
       "      <th>0</th>\n",
       "      <td>0.0</td>\n",
       "      <td>20240320_142408_alone_comp_subj_3-1_and_3-3</td>\n",
       "      <td>0.0</td>\n",
       "      <td>80</td>\n",
       "      <td>100.0</td>\n",
       "      <td>74.0</td>\n",
       "      <td>NaN</td>\n",
       "      <td>NaN</td>\n",
       "      <td>NaN</td>\n",
       "      <td>NaN</td>\n",
       "      <td>...</td>\n",
       "      <td>[ 0 74]</td>\n",
       "      <td>[ 0 74]</td>\n",
       "      <td>20240320_142408_alone_comp_subj_3-1_and_3-3.1....</td>\n",
       "      <td>['3.1', '3.3']</td>\n",
       "      <td>1830734.0</td>\n",
       "      <td>65425515.0</td>\n",
       "      <td>0.0</td>\n",
       "      <td>75474.0</td>\n",
       "      <td>[    0 75474]</td>\n",
       "      <td>[    0 75474]</td>\n",
       "    </tr>\n",
       "    <tr>\n",
       "      <th>1</th>\n",
       "      <td>0.0</td>\n",
       "      <td>20240320_142408_alone_comp_subj_3-1_and_3-3</td>\n",
       "      <td>1272.0</td>\n",
       "      <td>1352</td>\n",
       "      <td>1372.0</td>\n",
       "      <td>1471.0</td>\n",
       "      <td>rewarded</td>\n",
       "      <td>NaN</td>\n",
       "      <td>NaN</td>\n",
       "      <td>NaN</td>\n",
       "      <td>...</td>\n",
       "      <td>[1282 1283] [1285 1297] [1326 1344] [1362 1509]</td>\n",
       "      <td>[1326 1328] [1331 1347] [1380 1592]</td>\n",
       "      <td>20240320_142408_alone_comp_subj_3-1_and_3-3.1....</td>\n",
       "      <td>['3.1', '3.3']</td>\n",
       "      <td>1830734.0</td>\n",
       "      <td>65425515.0</td>\n",
       "      <td>1275889.0</td>\n",
       "      <td>1475891.0</td>\n",
       "      <td>[1285888 1286688] [1287488 1300689] [1330286 1...</td>\n",
       "      <td>[1329489 1331487] [1334489 1350089] [1383490 1...</td>\n",
       "    </tr>\n",
       "    <tr>\n",
       "      <th>2</th>\n",
       "      <td>0.0</td>\n",
       "      <td>20240320_142408_alone_comp_subj_3-1_and_3-3</td>\n",
       "      <td>3268.0</td>\n",
       "      <td>3348</td>\n",
       "      <td>3368.0</td>\n",
       "      <td>3469.0</td>\n",
       "      <td>rewarded</td>\n",
       "      <td>NaN</td>\n",
       "      <td>NaN</td>\n",
       "      <td>NaN</td>\n",
       "      <td>...</td>\n",
       "      <td>[3281 3324] [3324 3327] [3344 3347] [3347 3523]</td>\n",
       "      <td>[3327 3704]</td>\n",
       "      <td>20240320_142408_alone_comp_subj_3-1_and_3-3.1....</td>\n",
       "      <td>['3.1', '3.3']</td>\n",
       "      <td>1830734.0</td>\n",
       "      <td>65425515.0</td>\n",
       "      <td>3275911.0</td>\n",
       "      <td>3475914.0</td>\n",
       "      <td>[3287914 3330314] [3331114 3333712] [3351715 3...</td>\n",
       "      <td>[3333515 3712519]</td>\n",
       "    </tr>\n",
       "    <tr>\n",
       "      <th>3</th>\n",
       "      <td>0.0</td>\n",
       "      <td>20240320_142408_alone_comp_subj_3-1_and_3-3</td>\n",
       "      <td>4466.0</td>\n",
       "      <td>4546</td>\n",
       "      <td>4566.0</td>\n",
       "      <td>4667.0</td>\n",
       "      <td>rewarded</td>\n",
       "      <td>NaN</td>\n",
       "      <td>NaN</td>\n",
       "      <td>NaN</td>\n",
       "      <td>...</td>\n",
       "      <td>[4441 4476] [4476 4489] [4508 4509] [4511 4534...</td>\n",
       "      <td>[4445 4473] [4494 4551] [4566 4830]</td>\n",
       "      <td>20240320_142408_alone_comp_subj_3-1_and_3-3.1....</td>\n",
       "      <td>['3.1', '3.3']</td>\n",
       "      <td>1830734.0</td>\n",
       "      <td>65425515.0</td>\n",
       "      <td>4475927.0</td>\n",
       "      <td>4675931.0</td>\n",
       "      <td>[4450528 4485129] [4485929 4497529] [4516929 4...</td>\n",
       "      <td>[4454926 4483129] [4503531 4560730] [4575330 4...</td>\n",
       "    </tr>\n",
       "    <tr>\n",
       "      <th>4</th>\n",
       "      <td>0.0</td>\n",
       "      <td>20240320_142408_alone_comp_subj_3-1_and_3-3</td>\n",
       "      <td>5465.0</td>\n",
       "      <td>5545</td>\n",
       "      <td>5565.0</td>\n",
       "      <td>5664.0</td>\n",
       "      <td>rewarded</td>\n",
       "      <td>NaN</td>\n",
       "      <td>NaN</td>\n",
       "      <td>NaN</td>\n",
       "      <td>...</td>\n",
       "      <td>[5483 5512] [5552 5698]</td>\n",
       "      <td>[5455 5486] [5581 5794]</td>\n",
       "      <td>20240320_142408_alone_comp_subj_3-1_and_3-3.1....</td>\n",
       "      <td>['3.1', '3.3']</td>\n",
       "      <td>1830734.0</td>\n",
       "      <td>65425515.0</td>\n",
       "      <td>5475942.0</td>\n",
       "      <td>5675942.0</td>\n",
       "      <td>[5493742 5523542] [5563742 5709147]</td>\n",
       "      <td>[5466941 5496741] [5592343 5806546]</td>\n",
       "    </tr>\n",
       "    <tr>\n",
       "      <th>...</th>\n",
       "      <td>...</td>\n",
       "      <td>...</td>\n",
       "      <td>...</td>\n",
       "      <td>...</td>\n",
       "      <td>...</td>\n",
       "      <td>...</td>\n",
       "      <td>...</td>\n",
       "      <td>...</td>\n",
       "      <td>...</td>\n",
       "      <td>...</td>\n",
       "      <td>...</td>\n",
       "      <td>...</td>\n",
       "      <td>...</td>\n",
       "      <td>...</td>\n",
       "      <td>...</td>\n",
       "      <td>...</td>\n",
       "      <td>...</td>\n",
       "      <td>...</td>\n",
       "      <td>...</td>\n",
       "      <td>...</td>\n",
       "      <td>...</td>\n",
       "    </tr>\n",
       "    <tr>\n",
       "      <th>598</th>\n",
       "      <td>25.0</td>\n",
       "      <td>20240323_165815_alone_comp_subj_4-2_and_4-4</td>\n",
       "      <td>55556.0</td>\n",
       "      <td>55636</td>\n",
       "      <td>55656.0</td>\n",
       "      <td>55756.0</td>\n",
       "      <td>NaN</td>\n",
       "      <td>NaN</td>\n",
       "      <td>NaN</td>\n",
       "      <td>NaN</td>\n",
       "      <td>...</td>\n",
       "      <td>[55504 55588] [55590 55596] [55597 55607] [556...</td>\n",
       "      <td>NaN</td>\n",
       "      <td>20240323_165815_alone_comp_subj_4-2_and_4-4.2....</td>\n",
       "      <td>['4.2', '4.4']</td>\n",
       "      <td>2203533.0</td>\n",
       "      <td>66201602.0</td>\n",
       "      <td>55564863.0</td>\n",
       "      <td>55764866.0</td>\n",
       "      <td>[55513260 55598061] [55598662 55604864] [55605...</td>\n",
       "      <td>NaN</td>\n",
       "    </tr>\n",
       "    <tr>\n",
       "      <th>599</th>\n",
       "      <td>25.0</td>\n",
       "      <td>20240323_165815_alone_comp_subj_4-2_and_4-4</td>\n",
       "      <td>56554.0</td>\n",
       "      <td>56634</td>\n",
       "      <td>56654.0</td>\n",
       "      <td>56753.0</td>\n",
       "      <td>NaN</td>\n",
       "      <td>NaN</td>\n",
       "      <td>NaN</td>\n",
       "      <td>NaN</td>\n",
       "      <td>...</td>\n",
       "      <td>[56556 56561] [56561 56564] [56603 56603] [566...</td>\n",
       "      <td>NaN</td>\n",
       "      <td>20240323_165815_alone_comp_subj_4-2_and_4-4.2....</td>\n",
       "      <td>['4.2', '4.4']</td>\n",
       "      <td>2203533.0</td>\n",
       "      <td>66201602.0</td>\n",
       "      <td>56564876.0</td>\n",
       "      <td>56764875.0</td>\n",
       "      <td>[56558475 56565073] [56565673 56571676] [56572...</td>\n",
       "      <td>NaN</td>\n",
       "    </tr>\n",
       "    <tr>\n",
       "      <th>600</th>\n",
       "      <td>25.0</td>\n",
       "      <td>20240323_165815_alone_comp_subj_4-2_and_4-4</td>\n",
       "      <td>57951.0</td>\n",
       "      <td>58031</td>\n",
       "      <td>58051.0</td>\n",
       "      <td>58150.0</td>\n",
       "      <td>NaN</td>\n",
       "      <td>NaN</td>\n",
       "      <td>NaN</td>\n",
       "      <td>NaN</td>\n",
       "      <td>...</td>\n",
       "      <td>[57954 57965] [57966 57971] [57972 57980] [579...</td>\n",
       "      <td>NaN</td>\n",
       "      <td>20240323_165815_alone_comp_subj_4-2_and_4-4.2....</td>\n",
       "      <td>['4.2', '4.4']</td>\n",
       "      <td>2203533.0</td>\n",
       "      <td>66201602.0</td>\n",
       "      <td>57964893.0</td>\n",
       "      <td>58164893.0</td>\n",
       "      <td>[57967893 57978090] [57980090 57984693] [57985...</td>\n",
       "      <td>NaN</td>\n",
       "    </tr>\n",
       "    <tr>\n",
       "      <th>601</th>\n",
       "      <td>25.0</td>\n",
       "      <td>20240323_165815_alone_comp_subj_4-2_and_4-4</td>\n",
       "      <td>60148.0</td>\n",
       "      <td>60228</td>\n",
       "      <td>60248.0</td>\n",
       "      <td>60347.0</td>\n",
       "      <td>NaN</td>\n",
       "      <td>NaN</td>\n",
       "      <td>NaN</td>\n",
       "      <td>NaN</td>\n",
       "      <td>...</td>\n",
       "      <td>[60141 60169] [60170 60171] [60174 60176] [601...</td>\n",
       "      <td>NaN</td>\n",
       "      <td>20240323_165815_alone_comp_subj_4-2_and_4-4.2....</td>\n",
       "      <td>['4.2', '4.4']</td>\n",
       "      <td>2203533.0</td>\n",
       "      <td>66201602.0</td>\n",
       "      <td>60164920.0</td>\n",
       "      <td>60364919.0</td>\n",
       "      <td>[60158117 60186317] [60187319 60188320] [60192...</td>\n",
       "      <td>NaN</td>\n",
       "    </tr>\n",
       "    <tr>\n",
       "      <th>602</th>\n",
       "      <td>25.0</td>\n",
       "      <td>20240323_165815_alone_comp_subj_4-2_and_4-4</td>\n",
       "      <td>61245.0</td>\n",
       "      <td>61325</td>\n",
       "      <td>61345.0</td>\n",
       "      <td>61445.0</td>\n",
       "      <td>NaN</td>\n",
       "      <td>NaN</td>\n",
       "      <td>NaN</td>\n",
       "      <td>NaN</td>\n",
       "      <td>...</td>\n",
       "      <td>[61259 61282] [61282 61285] [61285 61291] [612...</td>\n",
       "      <td>NaN</td>\n",
       "      <td>20240323_165815_alone_comp_subj_4-2_and_4-4.2....</td>\n",
       "      <td>['4.2', '4.4']</td>\n",
       "      <td>2203533.0</td>\n",
       "      <td>66201602.0</td>\n",
       "      <td>61264933.0</td>\n",
       "      <td>61464932.0</td>\n",
       "      <td>[61277733 61301931] [61302531 61304536] [61305...</td>\n",
       "      <td>NaN</td>\n",
       "    </tr>\n",
       "  </tbody>\n",
       "</table>\n",
       "<p>603 rows × 22 columns</p>\n",
       "</div>"
      ],
      "text/plain": [
       "     unnamed: 0                                  session_dir  \\\n",
       "0           0.0  20240320_142408_alone_comp_subj_3-1_and_3-3   \n",
       "1           0.0  20240320_142408_alone_comp_subj_3-1_and_3-3   \n",
       "2           0.0  20240320_142408_alone_comp_subj_3-1_and_3-3   \n",
       "3           0.0  20240320_142408_alone_comp_subj_3-1_and_3-3   \n",
       "4           0.0  20240320_142408_alone_comp_subj_3-1_and_3-3   \n",
       "..          ...                                          ...   \n",
       "598        25.0  20240323_165815_alone_comp_subj_4-2_and_4-4   \n",
       "599        25.0  20240323_165815_alone_comp_subj_4-2_and_4-4   \n",
       "600        25.0  20240323_165815_alone_comp_subj_4-2_and_4-4   \n",
       "601        25.0  20240323_165815_alone_comp_subj_4-2_and_4-4   \n",
       "602        25.0  20240323_165815_alone_comp_subj_4-2_and_4-4   \n",
       "\n",
       "     tone_start_frame  reward_start  reward_dispensed  tone_stop_frame  \\\n",
       "0                 0.0            80             100.0             74.0   \n",
       "1              1272.0          1352            1372.0           1471.0   \n",
       "2              3268.0          3348            3368.0           3469.0   \n",
       "3              4466.0          4546            4566.0           4667.0   \n",
       "4              5465.0          5545            5565.0           5664.0   \n",
       "..                ...           ...               ...              ...   \n",
       "598           55556.0         55636           55656.0          55756.0   \n",
       "599           56554.0         56634           56654.0          56753.0   \n",
       "600           57951.0         58031           58051.0          58150.0   \n",
       "601           60148.0         60228           60248.0          60347.0   \n",
       "602           61245.0         61325           61345.0          61445.0   \n",
       "\n",
       "    condition competition_closeness  get_reward_frame  out_reward_frame  ...  \\\n",
       "0         NaN                   NaN               NaN               NaN  ...   \n",
       "1    rewarded                   NaN               NaN               NaN  ...   \n",
       "2    rewarded                   NaN               NaN               NaN  ...   \n",
       "3    rewarded                   NaN               NaN               NaN  ...   \n",
       "4    rewarded                   NaN               NaN               NaN  ...   \n",
       "..        ...                   ...               ...               ...  ...   \n",
       "598       NaN                   NaN               NaN               NaN  ...   \n",
       "599       NaN                   NaN               NaN               NaN  ...   \n",
       "600       NaN                   NaN               NaN               NaN  ...   \n",
       "601       NaN                   NaN               NaN               NaN  ...   \n",
       "602       NaN                   NaN               NaN               NaN  ...   \n",
       "\n",
       "                               box_1_port_entry_frames  \\\n",
       "0                                              [ 0 74]   \n",
       "1      [1282 1283] [1285 1297] [1326 1344] [1362 1509]   \n",
       "2      [3281 3324] [3324 3327] [3344 3347] [3347 3523]   \n",
       "3    [4441 4476] [4476 4489] [4508 4509] [4511 4534...   \n",
       "4                              [5483 5512] [5552 5698]   \n",
       "..                                                 ...   \n",
       "598  [55504 55588] [55590 55596] [55597 55607] [556...   \n",
       "599  [56556 56561] [56561 56564] [56603 56603] [566...   \n",
       "600  [57954 57965] [57966 57971] [57972 57980] [579...   \n",
       "601  [60141 60169] [60170 60171] [60174 60176] [601...   \n",
       "602  [61259 61282] [61282 61285] [61285 61291] [612...   \n",
       "\n",
       "                 box_2_port_entry_frames  \\\n",
       "0                                [ 0 74]   \n",
       "1    [1326 1328] [1331 1347] [1380 1592]   \n",
       "2                            [3327 3704]   \n",
       "3    [4445 4473] [4494 4551] [4566 4830]   \n",
       "4                [5455 5486] [5581 5794]   \n",
       "..                                   ...   \n",
       "598                                  NaN   \n",
       "599                                  NaN   \n",
       "600                                  NaN   \n",
       "601                                  NaN   \n",
       "602                                  NaN   \n",
       "\n",
       "                                            video_name    all_subjects  \\\n",
       "0    20240320_142408_alone_comp_subj_3-1_and_3-3.1....  ['3.1', '3.3']   \n",
       "1    20240320_142408_alone_comp_subj_3-1_and_3-3.1....  ['3.1', '3.3']   \n",
       "2    20240320_142408_alone_comp_subj_3-1_and_3-3.1....  ['3.1', '3.3']   \n",
       "3    20240320_142408_alone_comp_subj_3-1_and_3-3.1....  ['3.1', '3.3']   \n",
       "4    20240320_142408_alone_comp_subj_3-1_and_3-3.1....  ['3.1', '3.3']   \n",
       "..                                                 ...             ...   \n",
       "598  20240323_165815_alone_comp_subj_4-2_and_4-4.2....  ['4.2', '4.4']   \n",
       "599  20240323_165815_alone_comp_subj_4-2_and_4-4.2....  ['4.2', '4.4']   \n",
       "600  20240323_165815_alone_comp_subj_4-2_and_4-4.2....  ['4.2', '4.4']   \n",
       "601  20240323_165815_alone_comp_subj_4-2_and_4-4.2....  ['4.2', '4.4']   \n",
       "602  20240323_165815_alone_comp_subj_4-2_and_4-4.2....  ['4.2', '4.4']   \n",
       "\n",
       "    first_timestamp last_timestamp  tone_start_timestamp  tone_stop_timestamp  \\\n",
       "0         1830734.0     65425515.0                   0.0              75474.0   \n",
       "1         1830734.0     65425515.0             1275889.0            1475891.0   \n",
       "2         1830734.0     65425515.0             3275911.0            3475914.0   \n",
       "3         1830734.0     65425515.0             4475927.0            4675931.0   \n",
       "4         1830734.0     65425515.0             5475942.0            5675942.0   \n",
       "..              ...            ...                   ...                  ...   \n",
       "598       2203533.0     66201602.0            55564863.0           55764866.0   \n",
       "599       2203533.0     66201602.0            56564876.0           56764875.0   \n",
       "600       2203533.0     66201602.0            57964893.0           58164893.0   \n",
       "601       2203533.0     66201602.0            60164920.0           60364919.0   \n",
       "602       2203533.0     66201602.0            61264933.0           61464932.0   \n",
       "\n",
       "                           box_1_port_entry_timestamps  \\\n",
       "0                                        [    0 75474]   \n",
       "1    [1285888 1286688] [1287488 1300689] [1330286 1...   \n",
       "2    [3287914 3330314] [3331114 3333712] [3351715 3...   \n",
       "3    [4450528 4485129] [4485929 4497529] [4516929 4...   \n",
       "4                  [5493742 5523542] [5563742 5709147]   \n",
       "..                                                 ...   \n",
       "598  [55513260 55598061] [55598662 55604864] [55605...   \n",
       "599  [56558475 56565073] [56565673 56571676] [56572...   \n",
       "600  [57967893 57978090] [57980090 57984693] [57985...   \n",
       "601  [60158117 60186317] [60187319 60188320] [60192...   \n",
       "602  [61277733 61301931] [61302531 61304536] [61305...   \n",
       "\n",
       "                           box_2_port_entry_timestamps  \n",
       "0                                        [    0 75474]  \n",
       "1    [1329489 1331487] [1334489 1350089] [1383490 1...  \n",
       "2                                    [3333515 3712519]  \n",
       "3    [4454926 4483129] [4503531 4560730] [4575330 4...  \n",
       "4                  [5466941 5496741] [5592343 5806546]  \n",
       "..                                                 ...  \n",
       "598                                                NaN  \n",
       "599                                                NaN  \n",
       "600                                                NaN  \n",
       "601                                                NaN  \n",
       "602                                                NaN  \n",
       "\n",
       "[603 rows x 22 columns]"
      ]
     },
     "execution_count": 176,
     "metadata": {},
     "output_type": "execute_result"
    }
   ],
   "source": [
    "trial_labels"
   ]
  },
  {
   "cell_type": "code",
   "execution_count": 177,
   "metadata": {},
   "outputs": [],
   "source": [
    "trial_labels = trial_labels.dropna(subset=[\"condition\", \"tone_start_frame\"])"
   ]
  },
  {
   "cell_type": "code",
   "execution_count": 178,
   "metadata": {},
   "outputs": [
    {
     "name": "stderr",
     "output_type": "stream",
     "text": [
      "C:\\Users\\ryoiwata\\AppData\\Local\\Temp\\ipykernel_30636\\948174353.py:1: SettingWithCopyWarning: \n",
      "A value is trying to be set on a copy of a slice from a DataFrame.\n",
      "Try using .loc[row_indexer,col_indexer] = value instead\n",
      "\n",
      "See the caveats in the documentation: https://pandas.pydata.org/pandas-docs/stable/user_guide/indexing.html#returning-a-view-versus-a-copy\n",
      "  trial_labels[\"tone_start_frame\"] = trial_labels[\"tone_start_frame\"].astype(int)\n",
      "C:\\Users\\ryoiwata\\AppData\\Local\\Temp\\ipykernel_30636\\948174353.py:2: SettingWithCopyWarning: \n",
      "A value is trying to be set on a copy of a slice from a DataFrame.\n",
      "Try using .loc[row_indexer,col_indexer] = value instead\n",
      "\n",
      "See the caveats in the documentation: https://pandas.pydata.org/pandas-docs/stable/user_guide/indexing.html#returning-a-view-versus-a-copy\n",
      "  trial_labels[\"tone_stop_frame\"] = trial_labels[\"tone_stop_frame\"].astype(int)\n"
     ]
    }
   ],
   "source": [
    "trial_labels[\"tone_start_frame\"] = trial_labels[\"tone_start_frame\"].astype(int)\n",
    "trial_labels[\"tone_stop_frame\"] = trial_labels[\"tone_stop_frame\"].astype(int)"
   ]
  },
  {
   "cell_type": "code",
   "execution_count": 179,
   "metadata": {},
   "outputs": [
    {
     "name": "stderr",
     "output_type": "stream",
     "text": [
      "C:\\Users\\ryoiwata\\AppData\\Local\\Temp\\ipykernel_30636\\393856050.py:1: SettingWithCopyWarning: \n",
      "A value is trying to be set on a copy of a slice from a DataFrame.\n",
      "Try using .loc[row_indexer,col_indexer] = value instead\n",
      "\n",
      "See the caveats in the documentation: https://pandas.pydata.org/pandas-docs/stable/user_guide/indexing.html#returning-a-view-versus-a-copy\n",
      "  trial_labels[\"10s_before_tone_frame\"] = trial_labels[\"tone_start_frame\"] - 200\n",
      "C:\\Users\\ryoiwata\\AppData\\Local\\Temp\\ipykernel_30636\\393856050.py:2: SettingWithCopyWarning: \n",
      "A value is trying to be set on a copy of a slice from a DataFrame.\n",
      "Try using .loc[row_indexer,col_indexer] = value instead\n",
      "\n",
      "See the caveats in the documentation: https://pandas.pydata.org/pandas-docs/stable/user_guide/indexing.html#returning-a-view-versus-a-copy\n",
      "  trial_labels[\"10s_after_tone_frame\"] = trial_labels[\"tone_stop_frame\"] + 200\n"
     ]
    }
   ],
   "source": [
    "trial_labels[\"10s_before_tone_frame\"] = trial_labels[\"tone_start_frame\"] - 200\n",
    "trial_labels[\"10s_after_tone_frame\"] = trial_labels[\"tone_stop_frame\"] + 200"
   ]
  },
  {
   "cell_type": "code",
   "execution_count": 180,
   "metadata": {},
   "outputs": [
    {
     "name": "stderr",
     "output_type": "stream",
     "text": [
      "C:\\Users\\ryoiwata\\AppData\\Local\\Temp\\ipykernel_30636\\2238364047.py:1: SettingWithCopyWarning: \n",
      "A value is trying to be set on a copy of a slice from a DataFrame.\n",
      "Try using .loc[row_indexer,col_indexer] = value instead\n",
      "\n",
      "See the caveats in the documentation: https://pandas.pydata.org/pandas-docs/stable/user_guide/indexing.html#returning-a-view-versus-a-copy\n",
      "  trial_labels[\"tone_start_to_stop_frame\"] = trial_labels.apply(lambda x: (int(x[\"tone_start_frame\"]), int(x[\"tone_stop_frame\"])), axis=1)\n"
     ]
    }
   ],
   "source": [
    "trial_labels[\"tone_start_to_stop_frame\"] = trial_labels.apply(lambda x: (int(x[\"tone_start_frame\"]), int(x[\"tone_stop_frame\"])), axis=1)"
   ]
  },
  {
   "cell_type": "code",
   "execution_count": 181,
   "metadata": {
    "tags": []
   },
   "outputs": [],
   "source": [
    "trial_labels = trial_labels.drop(columns=[col for col in trial_labels if \"Unnamed\" in col], errors=\"ignore\")"
   ]
  },
  {
   "cell_type": "code",
   "execution_count": 182,
   "metadata": {},
   "outputs": [],
   "source": [
    "trial_labels = trial_labels.dropna(subset=[\"condition\"])"
   ]
  },
  {
   "cell_type": "code",
   "execution_count": 183,
   "metadata": {},
   "outputs": [
    {
     "data": {
      "text/plain": [
       "array(['rewarded', 3.1, 3.3, 'tie', 4.3, 3.4, 4.4, 5.3, 4.2], dtype=object)"
      ]
     },
     "execution_count": 183,
     "metadata": {},
     "output_type": "execute_result"
    }
   ],
   "source": [
    "trial_labels[\"condition\"].unique()"
   ]
  },
  {
   "cell_type": "code",
   "execution_count": 184,
   "metadata": {},
   "outputs": [],
   "source": [
    "# trial_labels = trial_labels[~trial_labels[\"condition\"].isin([\"temp\", \"rewarded\"])]\n",
    "trial_labels = trial_labels[trial_labels[\"condition\"].isin([\"rewarded\"])]"
   ]
  },
  {
   "cell_type": "code",
   "execution_count": 185,
   "metadata": {},
   "outputs": [
    {
     "data": {
      "text/plain": [
       "array(['rewarded'], dtype=object)"
      ]
     },
     "execution_count": 185,
     "metadata": {},
     "output_type": "execute_result"
    }
   ],
   "source": [
    "trial_labels[\"condition\"].unique()"
   ]
  },
  {
   "cell_type": "code",
   "execution_count": 186,
   "metadata": {},
   "outputs": [],
   "source": [
    "trial_labels[\"video_name\"] = trial_labels[\"video_name\"].apply(lambda x: x.replace(\".videoTimeStamps.cameraHWSync\", \"\"))"
   ]
  },
  {
   "cell_type": "code",
   "execution_count": 187,
   "metadata": {},
   "outputs": [
    {
     "data": {
      "text/html": [
       "<div>\n",
       "<style scoped>\n",
       "    .dataframe tbody tr th:only-of-type {\n",
       "        vertical-align: middle;\n",
       "    }\n",
       "\n",
       "    .dataframe tbody tr th {\n",
       "        vertical-align: top;\n",
       "    }\n",
       "\n",
       "    .dataframe thead th {\n",
       "        text-align: right;\n",
       "    }\n",
       "</style>\n",
       "<table border=\"1\" class=\"dataframe\">\n",
       "  <thead>\n",
       "    <tr style=\"text-align: right;\">\n",
       "      <th></th>\n",
       "      <th>unnamed: 0</th>\n",
       "      <th>session_dir</th>\n",
       "      <th>tone_start_frame</th>\n",
       "      <th>reward_start</th>\n",
       "      <th>reward_dispensed</th>\n",
       "      <th>tone_stop_frame</th>\n",
       "      <th>condition</th>\n",
       "      <th>competition_closeness</th>\n",
       "      <th>get_reward_frame</th>\n",
       "      <th>out_reward_frame</th>\n",
       "      <th>...</th>\n",
       "      <th>all_subjects</th>\n",
       "      <th>first_timestamp</th>\n",
       "      <th>last_timestamp</th>\n",
       "      <th>tone_start_timestamp</th>\n",
       "      <th>tone_stop_timestamp</th>\n",
       "      <th>box_1_port_entry_timestamps</th>\n",
       "      <th>box_2_port_entry_timestamps</th>\n",
       "      <th>10s_before_tone_frame</th>\n",
       "      <th>10s_after_tone_frame</th>\n",
       "      <th>tone_start_to_stop_frame</th>\n",
       "    </tr>\n",
       "  </thead>\n",
       "  <tbody>\n",
       "    <tr>\n",
       "      <th>1</th>\n",
       "      <td>0.0</td>\n",
       "      <td>20240320_142408_alone_comp_subj_3-1_and_3-3</td>\n",
       "      <td>1272</td>\n",
       "      <td>1352</td>\n",
       "      <td>1372.0</td>\n",
       "      <td>1471</td>\n",
       "      <td>rewarded</td>\n",
       "      <td>NaN</td>\n",
       "      <td>NaN</td>\n",
       "      <td>NaN</td>\n",
       "      <td>...</td>\n",
       "      <td>['3.1', '3.3']</td>\n",
       "      <td>1830734.0</td>\n",
       "      <td>65425515.0</td>\n",
       "      <td>1275889.0</td>\n",
       "      <td>1475891.0</td>\n",
       "      <td>[1285888 1286688] [1287488 1300689] [1330286 1...</td>\n",
       "      <td>[1329489 1331487] [1334489 1350089] [1383490 1...</td>\n",
       "      <td>1072</td>\n",
       "      <td>1671</td>\n",
       "      <td>(1272, 1471)</td>\n",
       "    </tr>\n",
       "    <tr>\n",
       "      <th>2</th>\n",
       "      <td>0.0</td>\n",
       "      <td>20240320_142408_alone_comp_subj_3-1_and_3-3</td>\n",
       "      <td>3268</td>\n",
       "      <td>3348</td>\n",
       "      <td>3368.0</td>\n",
       "      <td>3469</td>\n",
       "      <td>rewarded</td>\n",
       "      <td>NaN</td>\n",
       "      <td>NaN</td>\n",
       "      <td>NaN</td>\n",
       "      <td>...</td>\n",
       "      <td>['3.1', '3.3']</td>\n",
       "      <td>1830734.0</td>\n",
       "      <td>65425515.0</td>\n",
       "      <td>3275911.0</td>\n",
       "      <td>3475914.0</td>\n",
       "      <td>[3287914 3330314] [3331114 3333712] [3351715 3...</td>\n",
       "      <td>[3333515 3712519]</td>\n",
       "      <td>3068</td>\n",
       "      <td>3669</td>\n",
       "      <td>(3268, 3469)</td>\n",
       "    </tr>\n",
       "    <tr>\n",
       "      <th>3</th>\n",
       "      <td>0.0</td>\n",
       "      <td>20240320_142408_alone_comp_subj_3-1_and_3-3</td>\n",
       "      <td>4466</td>\n",
       "      <td>4546</td>\n",
       "      <td>4566.0</td>\n",
       "      <td>4667</td>\n",
       "      <td>rewarded</td>\n",
       "      <td>NaN</td>\n",
       "      <td>NaN</td>\n",
       "      <td>NaN</td>\n",
       "      <td>...</td>\n",
       "      <td>['3.1', '3.3']</td>\n",
       "      <td>1830734.0</td>\n",
       "      <td>65425515.0</td>\n",
       "      <td>4475927.0</td>\n",
       "      <td>4675931.0</td>\n",
       "      <td>[4450528 4485129] [4485929 4497529] [4516929 4...</td>\n",
       "      <td>[4454926 4483129] [4503531 4560730] [4575330 4...</td>\n",
       "      <td>4266</td>\n",
       "      <td>4867</td>\n",
       "      <td>(4466, 4667)</td>\n",
       "    </tr>\n",
       "    <tr>\n",
       "      <th>4</th>\n",
       "      <td>0.0</td>\n",
       "      <td>20240320_142408_alone_comp_subj_3-1_and_3-3</td>\n",
       "      <td>5465</td>\n",
       "      <td>5545</td>\n",
       "      <td>5565.0</td>\n",
       "      <td>5664</td>\n",
       "      <td>rewarded</td>\n",
       "      <td>NaN</td>\n",
       "      <td>NaN</td>\n",
       "      <td>NaN</td>\n",
       "      <td>...</td>\n",
       "      <td>['3.1', '3.3']</td>\n",
       "      <td>1830734.0</td>\n",
       "      <td>65425515.0</td>\n",
       "      <td>5475942.0</td>\n",
       "      <td>5675942.0</td>\n",
       "      <td>[5493742 5523542] [5563742 5709147]</td>\n",
       "      <td>[5466941 5496741] [5592343 5806546]</td>\n",
       "      <td>5265</td>\n",
       "      <td>5864</td>\n",
       "      <td>(5465, 5664)</td>\n",
       "    </tr>\n",
       "    <tr>\n",
       "      <th>5</th>\n",
       "      <td>0.0</td>\n",
       "      <td>20240320_142408_alone_comp_subj_3-1_and_3-3</td>\n",
       "      <td>6962</td>\n",
       "      <td>7042</td>\n",
       "      <td>7062.0</td>\n",
       "      <td>7161</td>\n",
       "      <td>rewarded</td>\n",
       "      <td>NaN</td>\n",
       "      <td>NaN</td>\n",
       "      <td>NaN</td>\n",
       "      <td>...</td>\n",
       "      <td>['3.1', '3.3']</td>\n",
       "      <td>1830734.0</td>\n",
       "      <td>65425515.0</td>\n",
       "      <td>6975965.0</td>\n",
       "      <td>7175963.0</td>\n",
       "      <td>[6974160 6996963] [7009965 7010761] [7012161 7...</td>\n",
       "      <td>[6946160 6977161] [6993361 7050761] [7066559 7...</td>\n",
       "      <td>6762</td>\n",
       "      <td>7361</td>\n",
       "      <td>(6962, 7161)</td>\n",
       "    </tr>\n",
       "  </tbody>\n",
       "</table>\n",
       "<p>5 rows × 25 columns</p>\n",
       "</div>"
      ],
      "text/plain": [
       "   unnamed: 0                                  session_dir  tone_start_frame  \\\n",
       "1         0.0  20240320_142408_alone_comp_subj_3-1_and_3-3              1272   \n",
       "2         0.0  20240320_142408_alone_comp_subj_3-1_and_3-3              3268   \n",
       "3         0.0  20240320_142408_alone_comp_subj_3-1_and_3-3              4466   \n",
       "4         0.0  20240320_142408_alone_comp_subj_3-1_and_3-3              5465   \n",
       "5         0.0  20240320_142408_alone_comp_subj_3-1_and_3-3              6962   \n",
       "\n",
       "   reward_start  reward_dispensed  tone_stop_frame condition  \\\n",
       "1          1352            1372.0             1471  rewarded   \n",
       "2          3348            3368.0             3469  rewarded   \n",
       "3          4546            4566.0             4667  rewarded   \n",
       "4          5545            5565.0             5664  rewarded   \n",
       "5          7042            7062.0             7161  rewarded   \n",
       "\n",
       "  competition_closeness  get_reward_frame  out_reward_frame  ...  \\\n",
       "1                   NaN               NaN               NaN  ...   \n",
       "2                   NaN               NaN               NaN  ...   \n",
       "3                   NaN               NaN               NaN  ...   \n",
       "4                   NaN               NaN               NaN  ...   \n",
       "5                   NaN               NaN               NaN  ...   \n",
       "\n",
       "     all_subjects first_timestamp last_timestamp tone_start_timestamp  \\\n",
       "1  ['3.1', '3.3']       1830734.0     65425515.0            1275889.0   \n",
       "2  ['3.1', '3.3']       1830734.0     65425515.0            3275911.0   \n",
       "3  ['3.1', '3.3']       1830734.0     65425515.0            4475927.0   \n",
       "4  ['3.1', '3.3']       1830734.0     65425515.0            5475942.0   \n",
       "5  ['3.1', '3.3']       1830734.0     65425515.0            6975965.0   \n",
       "\n",
       "  tone_stop_timestamp                        box_1_port_entry_timestamps  \\\n",
       "1           1475891.0  [1285888 1286688] [1287488 1300689] [1330286 1...   \n",
       "2           3475914.0  [3287914 3330314] [3331114 3333712] [3351715 3...   \n",
       "3           4675931.0  [4450528 4485129] [4485929 4497529] [4516929 4...   \n",
       "4           5675942.0                [5493742 5523542] [5563742 5709147]   \n",
       "5           7175963.0  [6974160 6996963] [7009965 7010761] [7012161 7...   \n",
       "\n",
       "                         box_2_port_entry_timestamps  10s_before_tone_frame  \\\n",
       "1  [1329489 1331487] [1334489 1350089] [1383490 1...                   1072   \n",
       "2                                  [3333515 3712519]                   3068   \n",
       "3  [4454926 4483129] [4503531 4560730] [4575330 4...                   4266   \n",
       "4                [5466941 5496741] [5592343 5806546]                   5265   \n",
       "5  [6946160 6977161] [6993361 7050761] [7066559 7...                   6762   \n",
       "\n",
       "   10s_after_tone_frame  tone_start_to_stop_frame  \n",
       "1                  1671              (1272, 1471)  \n",
       "2                  3669              (3268, 3469)  \n",
       "3                  4867              (4466, 4667)  \n",
       "4                  5864              (5465, 5664)  \n",
       "5                  7361              (6962, 7161)  \n",
       "\n",
       "[5 rows x 25 columns]"
      ]
     },
     "execution_count": 187,
     "metadata": {},
     "output_type": "execute_result"
    }
   ],
   "source": [
    "trial_labels.head()"
   ]
  },
  {
   "cell_type": "markdown",
   "metadata": {},
   "source": [
    "## Merging the SLEAP locations and trial labels dataframe"
   ]
  },
  {
   "cell_type": "code",
   "execution_count": 188,
   "metadata": {},
   "outputs": [],
   "source": [
    "merged_trial_labels_df = pd.merge(left = trial_labels, right = START_STOP_FRAME_DF, on=[\"video_name\"], how=\"inner\")"
   ]
  },
  {
   "cell_type": "code",
   "execution_count": 189,
   "metadata": {
    "tags": []
   },
   "outputs": [
    {
     "data": {
      "text/html": [
       "<div>\n",
       "<style scoped>\n",
       "    .dataframe tbody tr th:only-of-type {\n",
       "        vertical-align: middle;\n",
       "    }\n",
       "\n",
       "    .dataframe tbody tr th {\n",
       "        vertical-align: top;\n",
       "    }\n",
       "\n",
       "    .dataframe thead th {\n",
       "        text-align: right;\n",
       "    }\n",
       "</style>\n",
       "<table border=\"1\" class=\"dataframe\">\n",
       "  <thead>\n",
       "    <tr style=\"text-align: right;\">\n",
       "      <th></th>\n",
       "      <th>unnamed: 0</th>\n",
       "      <th>session_dir</th>\n",
       "      <th>tone_start_frame</th>\n",
       "      <th>reward_start</th>\n",
       "      <th>reward_dispensed</th>\n",
       "      <th>tone_stop_frame</th>\n",
       "      <th>condition</th>\n",
       "      <th>competition_closeness</th>\n",
       "      <th>get_reward_frame</th>\n",
       "      <th>out_reward_frame</th>\n",
       "      <th>...</th>\n",
       "      <th>agent_nose_to_reward_port</th>\n",
       "      <th>subject_x_nose_to_reward_port</th>\n",
       "      <th>subject_y_nose_to_reward_port</th>\n",
       "      <th>agent_x_nose_to_reward_port</th>\n",
       "      <th>agent_y_nose_to_reward_port</th>\n",
       "      <th>subject_speed_to_reward_port</th>\n",
       "      <th>agent_speed_to_reward_port</th>\n",
       "      <th>subject_to_agent_speed</th>\n",
       "      <th>subject_to_reward_port_angle</th>\n",
       "      <th>agent_to_reward_port_angle</th>\n",
       "    </tr>\n",
       "  </thead>\n",
       "  <tbody>\n",
       "    <tr>\n",
       "      <th>0</th>\n",
       "      <td>0.0</td>\n",
       "      <td>20240320_142408_alone_comp_subj_3-1_and_3-3</td>\n",
       "      <td>1272</td>\n",
       "      <td>1352</td>\n",
       "      <td>1372.0</td>\n",
       "      <td>1471</td>\n",
       "      <td>rewarded</td>\n",
       "      <td>NaN</td>\n",
       "      <td>NaN</td>\n",
       "      <td>NaN</td>\n",
       "      <td>...</td>\n",
       "      <td>NaN</td>\n",
       "      <td>[25.06472, 25.332037, 25.855719, 26.596203, 27...</td>\n",
       "      <td>[19.192625, 19.383827, 19.376047, 19.383303, 1...</td>\n",
       "      <td>NaN</td>\n",
       "      <td>NaN</td>\n",
       "      <td>[-0.28560644, -0.3719459, -0.4461566, -0.50823...</td>\n",
       "      <td>NaN</td>\n",
       "      <td>NaN</td>\n",
       "      <td>[0.4567384, 0.5030546, 0.5267061, 0.53069854, ...</td>\n",
       "      <td>NaN</td>\n",
       "    </tr>\n",
       "    <tr>\n",
       "      <th>1</th>\n",
       "      <td>0.0</td>\n",
       "      <td>20240320_142408_alone_comp_subj_3-1_and_3-3</td>\n",
       "      <td>3268</td>\n",
       "      <td>3348</td>\n",
       "      <td>3368.0</td>\n",
       "      <td>3469</td>\n",
       "      <td>rewarded</td>\n",
       "      <td>NaN</td>\n",
       "      <td>NaN</td>\n",
       "      <td>NaN</td>\n",
       "      <td>...</td>\n",
       "      <td>NaN</td>\n",
       "      <td>[25.06472, 25.332037, 25.855719, 26.596203, 27...</td>\n",
       "      <td>[19.192625, 19.383827, 19.376047, 19.383303, 1...</td>\n",
       "      <td>NaN</td>\n",
       "      <td>NaN</td>\n",
       "      <td>[-0.28560644, -0.3719459, -0.4461566, -0.50823...</td>\n",
       "      <td>NaN</td>\n",
       "      <td>NaN</td>\n",
       "      <td>[0.4567384, 0.5030546, 0.5267061, 0.53069854, ...</td>\n",
       "      <td>NaN</td>\n",
       "    </tr>\n",
       "    <tr>\n",
       "      <th>2</th>\n",
       "      <td>0.0</td>\n",
       "      <td>20240320_142408_alone_comp_subj_3-1_and_3-3</td>\n",
       "      <td>4466</td>\n",
       "      <td>4546</td>\n",
       "      <td>4566.0</td>\n",
       "      <td>4667</td>\n",
       "      <td>rewarded</td>\n",
       "      <td>NaN</td>\n",
       "      <td>NaN</td>\n",
       "      <td>NaN</td>\n",
       "      <td>...</td>\n",
       "      <td>NaN</td>\n",
       "      <td>[25.06472, 25.332037, 25.855719, 26.596203, 27...</td>\n",
       "      <td>[19.192625, 19.383827, 19.376047, 19.383303, 1...</td>\n",
       "      <td>NaN</td>\n",
       "      <td>NaN</td>\n",
       "      <td>[-0.28560644, -0.3719459, -0.4461566, -0.50823...</td>\n",
       "      <td>NaN</td>\n",
       "      <td>NaN</td>\n",
       "      <td>[0.4567384, 0.5030546, 0.5267061, 0.53069854, ...</td>\n",
       "      <td>NaN</td>\n",
       "    </tr>\n",
       "    <tr>\n",
       "      <th>3</th>\n",
       "      <td>0.0</td>\n",
       "      <td>20240320_142408_alone_comp_subj_3-1_and_3-3</td>\n",
       "      <td>5465</td>\n",
       "      <td>5545</td>\n",
       "      <td>5565.0</td>\n",
       "      <td>5664</td>\n",
       "      <td>rewarded</td>\n",
       "      <td>NaN</td>\n",
       "      <td>NaN</td>\n",
       "      <td>NaN</td>\n",
       "      <td>...</td>\n",
       "      <td>NaN</td>\n",
       "      <td>[25.06472, 25.332037, 25.855719, 26.596203, 27...</td>\n",
       "      <td>[19.192625, 19.383827, 19.376047, 19.383303, 1...</td>\n",
       "      <td>NaN</td>\n",
       "      <td>NaN</td>\n",
       "      <td>[-0.28560644, -0.3719459, -0.4461566, -0.50823...</td>\n",
       "      <td>NaN</td>\n",
       "      <td>NaN</td>\n",
       "      <td>[0.4567384, 0.5030546, 0.5267061, 0.53069854, ...</td>\n",
       "      <td>NaN</td>\n",
       "    </tr>\n",
       "    <tr>\n",
       "      <th>4</th>\n",
       "      <td>0.0</td>\n",
       "      <td>20240320_142408_alone_comp_subj_3-1_and_3-3</td>\n",
       "      <td>6962</td>\n",
       "      <td>7042</td>\n",
       "      <td>7062.0</td>\n",
       "      <td>7161</td>\n",
       "      <td>rewarded</td>\n",
       "      <td>NaN</td>\n",
       "      <td>NaN</td>\n",
       "      <td>NaN</td>\n",
       "      <td>...</td>\n",
       "      <td>NaN</td>\n",
       "      <td>[25.06472, 25.332037, 25.855719, 26.596203, 27...</td>\n",
       "      <td>[19.192625, 19.383827, 19.376047, 19.383303, 1...</td>\n",
       "      <td>NaN</td>\n",
       "      <td>NaN</td>\n",
       "      <td>[-0.28560644, -0.3719459, -0.4461566, -0.50823...</td>\n",
       "      <td>NaN</td>\n",
       "      <td>NaN</td>\n",
       "      <td>[0.4567384, 0.5030546, 0.5267061, 0.53069854, ...</td>\n",
       "      <td>NaN</td>\n",
       "    </tr>\n",
       "  </tbody>\n",
       "</table>\n",
       "<p>5 rows × 64 columns</p>\n",
       "</div>"
      ],
      "text/plain": [
       "   unnamed: 0                                  session_dir  tone_start_frame  \\\n",
       "0         0.0  20240320_142408_alone_comp_subj_3-1_and_3-3              1272   \n",
       "1         0.0  20240320_142408_alone_comp_subj_3-1_and_3-3              3268   \n",
       "2         0.0  20240320_142408_alone_comp_subj_3-1_and_3-3              4466   \n",
       "3         0.0  20240320_142408_alone_comp_subj_3-1_and_3-3              5465   \n",
       "4         0.0  20240320_142408_alone_comp_subj_3-1_and_3-3              6962   \n",
       "\n",
       "   reward_start  reward_dispensed  tone_stop_frame condition  \\\n",
       "0          1352            1372.0             1471  rewarded   \n",
       "1          3348            3368.0             3469  rewarded   \n",
       "2          4546            4566.0             4667  rewarded   \n",
       "3          5545            5565.0             5664  rewarded   \n",
       "4          7042            7062.0             7161  rewarded   \n",
       "\n",
       "  competition_closeness  get_reward_frame  out_reward_frame  ...  \\\n",
       "0                   NaN               NaN               NaN  ...   \n",
       "1                   NaN               NaN               NaN  ...   \n",
       "2                   NaN               NaN               NaN  ...   \n",
       "3                   NaN               NaN               NaN  ...   \n",
       "4                   NaN               NaN               NaN  ...   \n",
       "\n",
       "  agent_nose_to_reward_port  \\\n",
       "0                       NaN   \n",
       "1                       NaN   \n",
       "2                       NaN   \n",
       "3                       NaN   \n",
       "4                       NaN   \n",
       "\n",
       "                       subject_x_nose_to_reward_port  \\\n",
       "0  [25.06472, 25.332037, 25.855719, 26.596203, 27...   \n",
       "1  [25.06472, 25.332037, 25.855719, 26.596203, 27...   \n",
       "2  [25.06472, 25.332037, 25.855719, 26.596203, 27...   \n",
       "3  [25.06472, 25.332037, 25.855719, 26.596203, 27...   \n",
       "4  [25.06472, 25.332037, 25.855719, 26.596203, 27...   \n",
       "\n",
       "                       subject_y_nose_to_reward_port  \\\n",
       "0  [19.192625, 19.383827, 19.376047, 19.383303, 1...   \n",
       "1  [19.192625, 19.383827, 19.376047, 19.383303, 1...   \n",
       "2  [19.192625, 19.383827, 19.376047, 19.383303, 1...   \n",
       "3  [19.192625, 19.383827, 19.376047, 19.383303, 1...   \n",
       "4  [19.192625, 19.383827, 19.376047, 19.383303, 1...   \n",
       "\n",
       "  agent_x_nose_to_reward_port agent_y_nose_to_reward_port  \\\n",
       "0                         NaN                         NaN   \n",
       "1                         NaN                         NaN   \n",
       "2                         NaN                         NaN   \n",
       "3                         NaN                         NaN   \n",
       "4                         NaN                         NaN   \n",
       "\n",
       "                        subject_speed_to_reward_port  \\\n",
       "0  [-0.28560644, -0.3719459, -0.4461566, -0.50823...   \n",
       "1  [-0.28560644, -0.3719459, -0.4461566, -0.50823...   \n",
       "2  [-0.28560644, -0.3719459, -0.4461566, -0.50823...   \n",
       "3  [-0.28560644, -0.3719459, -0.4461566, -0.50823...   \n",
       "4  [-0.28560644, -0.3719459, -0.4461566, -0.50823...   \n",
       "\n",
       "   agent_speed_to_reward_port  subject_to_agent_speed  \\\n",
       "0                         NaN                     NaN   \n",
       "1                         NaN                     NaN   \n",
       "2                         NaN                     NaN   \n",
       "3                         NaN                     NaN   \n",
       "4                         NaN                     NaN   \n",
       "\n",
       "                        subject_to_reward_port_angle  \\\n",
       "0  [0.4567384, 0.5030546, 0.5267061, 0.53069854, ...   \n",
       "1  [0.4567384, 0.5030546, 0.5267061, 0.53069854, ...   \n",
       "2  [0.4567384, 0.5030546, 0.5267061, 0.53069854, ...   \n",
       "3  [0.4567384, 0.5030546, 0.5267061, 0.53069854, ...   \n",
       "4  [0.4567384, 0.5030546, 0.5267061, 0.53069854, ...   \n",
       "\n",
       "   agent_to_reward_port_angle  \n",
       "0                         NaN  \n",
       "1                         NaN  \n",
       "2                         NaN  \n",
       "3                         NaN  \n",
       "4                         NaN  \n",
       "\n",
       "[5 rows x 64 columns]"
      ]
     },
     "execution_count": 189,
     "metadata": {},
     "output_type": "execute_result"
    }
   ],
   "source": [
    "merged_trial_labels_df.head()"
   ]
  },
  {
   "cell_type": "code",
   "execution_count": 190,
   "metadata": {},
   "outputs": [
    {
     "data": {
      "text/plain": [
       "(294, 64)"
      ]
     },
     "execution_count": 190,
     "metadata": {},
     "output_type": "execute_result"
    }
   ],
   "source": [
    "merged_trial_labels_df.shape"
   ]
  },
  {
   "cell_type": "code",
   "execution_count": 191,
   "metadata": {
    "tags": []
   },
   "outputs": [],
   "source": [
    "sleap_columns = ['subject_locations', 'agent_locations',\n",
    "       'subject_thorax', 'subject_nose', 'subject_tail_base', 'agent_thorax',\n",
    "       'agent_nose', 'agent_tail_base', ]"
   ]
  },
  {
   "cell_type": "markdown",
   "metadata": {},
   "source": [
    "## Filtering based on tone times"
   ]
  },
  {
   "cell_type": "code",
   "execution_count": 192,
   "metadata": {},
   "outputs": [
    {
     "name": "stdout",
     "output_type": "stream",
     "text": [
      "frame_index\n",
      "subject_nose_to_reward_port\n",
      "subject_thorax_velocity\n",
      "subject_to_reward_port_angle\n",
      "subject_locations\n",
      "subject_thorax\n",
      "subject_nose\n",
      "subject_tail_base\n"
     ]
    }
   ],
   "source": [
    "for col in features_columns + sleap_columns:\n",
    "    if \"agent\" in col:\n",
    "        continue\n",
    "    print(col)\n",
    "    merged_trial_labels_df[col] = merged_trial_labels_df.apply(lambda x: x[col][int(x[\"10s_before_tone_frame\"]): int(x[\"10s_after_tone_frame\"])], axis=1)"
   ]
  },
  {
   "cell_type": "code",
   "execution_count": 193,
   "metadata": {},
   "outputs": [],
   "source": [
    "# features_columns = [col for col in features_columns if col != \"frame_index\"]"
   ]
  },
  {
   "cell_type": "code",
   "execution_count": 194,
   "metadata": {},
   "outputs": [
    {
     "data": {
      "text/plain": [
       "['frame_index',\n",
       " 'subject_nose_to_reward_port',\n",
       " 'subject_thorax_velocity',\n",
       " 'subject_to_reward_port_angle']"
      ]
     },
     "execution_count": 194,
     "metadata": {},
     "output_type": "execute_result"
    }
   ],
   "source": [
    "features_columns"
   ]
  },
  {
   "cell_type": "code",
   "execution_count": 195,
   "metadata": {
    "tags": []
   },
   "outputs": [],
   "source": [
    "merged_trial_labels_df[\"within_trial_frame_index\"] = merged_trial_labels_df.apply(lambda x: np.arange(x[\"10s_after_tone_frame\"] - x[\"10s_before_tone_frame\"]), axis=1)\n"
   ]
  },
  {
   "cell_type": "markdown",
   "metadata": {},
   "source": [
    "- Removing all rows with length 1"
   ]
  },
  {
   "cell_type": "code",
   "execution_count": 199,
   "metadata": {},
   "outputs": [
    {
     "data": {
      "text/plain": [
       "0      [1072, 1073, 1074, 1075, 1076, 1077, 1078, 107...\n",
       "1      [3068, 3069, 3070, 3071, 3072, 3073, 3074, 307...\n",
       "2      [4266, 4267, 4268, 4269, 4270, 4271, 4272, 427...\n",
       "3      [5265, 5266, 5267, 5268, 5269, 5270, 5271, 527...\n",
       "4      [6762, 6763, 6764, 6765, 6766, 6767, 6768, 676...\n",
       "                             ...                        \n",
       "289    [22421, 22422, 22423, 22424, 22425, 22426, 224...\n",
       "290    [23920, 23921, 23922, 23923, 23924, 23925, 239...\n",
       "291    [25217, 25218, 25219, 25220, 25221, 25222, 252...\n",
       "292    [26315, 26316, 26317, 26318, 26319, 26320, 263...\n",
       "293    [28011, 28012, 28013, 28014, 28015, 28016, 280...\n",
       "Name: frame_index, Length: 294, dtype: object"
      ]
     },
     "execution_count": 199,
     "metadata": {},
     "output_type": "execute_result"
    }
   ],
   "source": [
    "merged_trial_labels_df[\"frame_index\"]"
   ]
  },
  {
   "cell_type": "code",
   "execution_count": 201,
   "metadata": {},
   "outputs": [
    {
     "data": {
      "text/html": [
       "<div>\n",
       "<style scoped>\n",
       "    .dataframe tbody tr th:only-of-type {\n",
       "        vertical-align: middle;\n",
       "    }\n",
       "\n",
       "    .dataframe tbody tr th {\n",
       "        vertical-align: top;\n",
       "    }\n",
       "\n",
       "    .dataframe thead th {\n",
       "        text-align: right;\n",
       "    }\n",
       "</style>\n",
       "<table border=\"1\" class=\"dataframe\">\n",
       "  <thead>\n",
       "    <tr style=\"text-align: right;\">\n",
       "      <th></th>\n",
       "      <th>unnamed: 0</th>\n",
       "      <th>session_dir</th>\n",
       "      <th>tone_start_frame</th>\n",
       "      <th>reward_start</th>\n",
       "      <th>reward_dispensed</th>\n",
       "      <th>tone_stop_frame</th>\n",
       "      <th>condition</th>\n",
       "      <th>competition_closeness</th>\n",
       "      <th>get_reward_frame</th>\n",
       "      <th>out_reward_frame</th>\n",
       "      <th>...</th>\n",
       "      <th>subject_x_nose_to_reward_port</th>\n",
       "      <th>subject_y_nose_to_reward_port</th>\n",
       "      <th>agent_x_nose_to_reward_port</th>\n",
       "      <th>agent_y_nose_to_reward_port</th>\n",
       "      <th>subject_speed_to_reward_port</th>\n",
       "      <th>agent_speed_to_reward_port</th>\n",
       "      <th>subject_to_agent_speed</th>\n",
       "      <th>subject_to_reward_port_angle</th>\n",
       "      <th>agent_to_reward_port_angle</th>\n",
       "      <th>within_trial_frame_index</th>\n",
       "    </tr>\n",
       "  </thead>\n",
       "  <tbody>\n",
       "    <tr>\n",
       "      <th>0</th>\n",
       "      <td>0.0</td>\n",
       "      <td>20240320_142408_alone_comp_subj_3-1_and_3-3</td>\n",
       "      <td>1272</td>\n",
       "      <td>1352</td>\n",
       "      <td>1372.0</td>\n",
       "      <td>1471</td>\n",
       "      <td>rewarded</td>\n",
       "      <td>NaN</td>\n",
       "      <td>NaN</td>\n",
       "      <td>NaN</td>\n",
       "      <td>...</td>\n",
       "      <td>[25.06472, 25.332037, 25.855719, 26.596203, 27...</td>\n",
       "      <td>[19.192625, 19.383827, 19.376047, 19.383303, 1...</td>\n",
       "      <td>NaN</td>\n",
       "      <td>NaN</td>\n",
       "      <td>[-0.28560644, -0.3719459, -0.4461566, -0.50823...</td>\n",
       "      <td>NaN</td>\n",
       "      <td>NaN</td>\n",
       "      <td>[2.1849442, 2.1431334, 2.0956645, 2.0436094, 1...</td>\n",
       "      <td>NaN</td>\n",
       "      <td>[0, 1, 2, 3, 4, 5, 6, 7, 8, 9, 10, 11, 12, 13,...</td>\n",
       "    </tr>\n",
       "    <tr>\n",
       "      <th>1</th>\n",
       "      <td>0.0</td>\n",
       "      <td>20240320_142408_alone_comp_subj_3-1_and_3-3</td>\n",
       "      <td>3268</td>\n",
       "      <td>3348</td>\n",
       "      <td>3368.0</td>\n",
       "      <td>3469</td>\n",
       "      <td>rewarded</td>\n",
       "      <td>NaN</td>\n",
       "      <td>NaN</td>\n",
       "      <td>NaN</td>\n",
       "      <td>...</td>\n",
       "      <td>[25.06472, 25.332037, 25.855719, 26.596203, 27...</td>\n",
       "      <td>[19.192625, 19.383827, 19.376047, 19.383303, 1...</td>\n",
       "      <td>NaN</td>\n",
       "      <td>NaN</td>\n",
       "      <td>[-0.28560644, -0.3719459, -0.4461566, -0.50823...</td>\n",
       "      <td>NaN</td>\n",
       "      <td>NaN</td>\n",
       "      <td>[2.6965845, 2.7689726, 2.866591, 2.9018486, 2....</td>\n",
       "      <td>NaN</td>\n",
       "      <td>[0, 1, 2, 3, 4, 5, 6, 7, 8, 9, 10, 11, 12, 13,...</td>\n",
       "    </tr>\n",
       "    <tr>\n",
       "      <th>2</th>\n",
       "      <td>0.0</td>\n",
       "      <td>20240320_142408_alone_comp_subj_3-1_and_3-3</td>\n",
       "      <td>4466</td>\n",
       "      <td>4546</td>\n",
       "      <td>4566.0</td>\n",
       "      <td>4667</td>\n",
       "      <td>rewarded</td>\n",
       "      <td>NaN</td>\n",
       "      <td>NaN</td>\n",
       "      <td>NaN</td>\n",
       "      <td>...</td>\n",
       "      <td>[25.06472, 25.332037, 25.855719, 26.596203, 27...</td>\n",
       "      <td>[19.192625, 19.383827, 19.376047, 19.383303, 1...</td>\n",
       "      <td>NaN</td>\n",
       "      <td>NaN</td>\n",
       "      <td>[-0.28560644, -0.3719459, -0.4461566, -0.50823...</td>\n",
       "      <td>NaN</td>\n",
       "      <td>NaN</td>\n",
       "      <td>[2.1474366, 2.2887177, 2.4409156, 2.5765684, 2...</td>\n",
       "      <td>NaN</td>\n",
       "      <td>[0, 1, 2, 3, 4, 5, 6, 7, 8, 9, 10, 11, 12, 13,...</td>\n",
       "    </tr>\n",
       "    <tr>\n",
       "      <th>3</th>\n",
       "      <td>0.0</td>\n",
       "      <td>20240320_142408_alone_comp_subj_3-1_and_3-3</td>\n",
       "      <td>5465</td>\n",
       "      <td>5545</td>\n",
       "      <td>5565.0</td>\n",
       "      <td>5664</td>\n",
       "      <td>rewarded</td>\n",
       "      <td>NaN</td>\n",
       "      <td>NaN</td>\n",
       "      <td>NaN</td>\n",
       "      <td>...</td>\n",
       "      <td>[25.06472, 25.332037, 25.855719, 26.596203, 27...</td>\n",
       "      <td>[19.192625, 19.383827, 19.376047, 19.383303, 1...</td>\n",
       "      <td>NaN</td>\n",
       "      <td>NaN</td>\n",
       "      <td>[-0.28560644, -0.3719459, -0.4461566, -0.50823...</td>\n",
       "      <td>NaN</td>\n",
       "      <td>NaN</td>\n",
       "      <td>[1.3175758, 1.1658002, 1.0064818, 0.83331925, ...</td>\n",
       "      <td>NaN</td>\n",
       "      <td>[0, 1, 2, 3, 4, 5, 6, 7, 8, 9, 10, 11, 12, 13,...</td>\n",
       "    </tr>\n",
       "    <tr>\n",
       "      <th>4</th>\n",
       "      <td>0.0</td>\n",
       "      <td>20240320_142408_alone_comp_subj_3-1_and_3-3</td>\n",
       "      <td>6962</td>\n",
       "      <td>7042</td>\n",
       "      <td>7062.0</td>\n",
       "      <td>7161</td>\n",
       "      <td>rewarded</td>\n",
       "      <td>NaN</td>\n",
       "      <td>NaN</td>\n",
       "      <td>NaN</td>\n",
       "      <td>...</td>\n",
       "      <td>[25.06472, 25.332037, 25.855719, 26.596203, 27...</td>\n",
       "      <td>[19.192625, 19.383827, 19.376047, 19.383303, 1...</td>\n",
       "      <td>NaN</td>\n",
       "      <td>NaN</td>\n",
       "      <td>[-0.28560644, -0.3719459, -0.4461566, -0.50823...</td>\n",
       "      <td>NaN</td>\n",
       "      <td>NaN</td>\n",
       "      <td>[0.18141562, 0.1895811, 0.19285548, 0.1915535,...</td>\n",
       "      <td>NaN</td>\n",
       "      <td>[0, 1, 2, 3, 4, 5, 6, 7, 8, 9, 10, 11, 12, 13,...</td>\n",
       "    </tr>\n",
       "    <tr>\n",
       "      <th>...</th>\n",
       "      <td>...</td>\n",
       "      <td>...</td>\n",
       "      <td>...</td>\n",
       "      <td>...</td>\n",
       "      <td>...</td>\n",
       "      <td>...</td>\n",
       "      <td>...</td>\n",
       "      <td>...</td>\n",
       "      <td>...</td>\n",
       "      <td>...</td>\n",
       "      <td>...</td>\n",
       "      <td>...</td>\n",
       "      <td>...</td>\n",
       "      <td>...</td>\n",
       "      <td>...</td>\n",
       "      <td>...</td>\n",
       "      <td>...</td>\n",
       "      <td>...</td>\n",
       "      <td>...</td>\n",
       "      <td>...</td>\n",
       "      <td>...</td>\n",
       "    </tr>\n",
       "    <tr>\n",
       "      <th>289</th>\n",
       "      <td>25.0</td>\n",
       "      <td>20240323_165815_alone_comp_subj_4-2_and_4-4</td>\n",
       "      <td>22621</td>\n",
       "      <td>22701</td>\n",
       "      <td>22721.0</td>\n",
       "      <td>22822</td>\n",
       "      <td>rewarded</td>\n",
       "      <td>NaN</td>\n",
       "      <td>NaN</td>\n",
       "      <td>NaN</td>\n",
       "      <td>...</td>\n",
       "      <td>[11.7811165, 10.783213, 10.539028, 10.014766, ...</td>\n",
       "      <td>[11.364094, 12.053601, 12.724177, 13.862808, 1...</td>\n",
       "      <td>NaN</td>\n",
       "      <td>NaN</td>\n",
       "      <td>[1.0112435, 1.0309591, 1.0436215, 1.0492306, 1...</td>\n",
       "      <td>NaN</td>\n",
       "      <td>NaN</td>\n",
       "      <td>[1.5623572, 1.5233777, 1.466101, 1.3899325, 1....</td>\n",
       "      <td>NaN</td>\n",
       "      <td>[0, 1, 2, 3, 4, 5, 6, 7, 8, 9, 10, 11, 12, 13,...</td>\n",
       "    </tr>\n",
       "    <tr>\n",
       "      <th>290</th>\n",
       "      <td>25.0</td>\n",
       "      <td>20240323_165815_alone_comp_subj_4-2_and_4-4</td>\n",
       "      <td>24120</td>\n",
       "      <td>24200</td>\n",
       "      <td>24220.0</td>\n",
       "      <td>24319</td>\n",
       "      <td>rewarded</td>\n",
       "      <td>NaN</td>\n",
       "      <td>NaN</td>\n",
       "      <td>NaN</td>\n",
       "      <td>...</td>\n",
       "      <td>[11.7811165, 10.783213, 10.539028, 10.014766, ...</td>\n",
       "      <td>[11.364094, 12.053601, 12.724177, 13.862808, 1...</td>\n",
       "      <td>NaN</td>\n",
       "      <td>NaN</td>\n",
       "      <td>[1.0112435, 1.0309591, 1.0436215, 1.0492306, 1...</td>\n",
       "      <td>NaN</td>\n",
       "      <td>NaN</td>\n",
       "      <td>[0.18482956, 0.16366406, 0.13523093, 0.1171260...</td>\n",
       "      <td>NaN</td>\n",
       "      <td>[0, 1, 2, 3, 4, 5, 6, 7, 8, 9, 10, 11, 12, 13,...</td>\n",
       "    </tr>\n",
       "    <tr>\n",
       "      <th>291</th>\n",
       "      <td>25.0</td>\n",
       "      <td>20240323_165815_alone_comp_subj_4-2_and_4-4</td>\n",
       "      <td>25417</td>\n",
       "      <td>25497</td>\n",
       "      <td>25517.0</td>\n",
       "      <td>25616</td>\n",
       "      <td>rewarded</td>\n",
       "      <td>NaN</td>\n",
       "      <td>NaN</td>\n",
       "      <td>NaN</td>\n",
       "      <td>...</td>\n",
       "      <td>[11.7811165, 10.783213, 10.539028, 10.014766, ...</td>\n",
       "      <td>[11.364094, 12.053601, 12.724177, 13.862808, 1...</td>\n",
       "      <td>NaN</td>\n",
       "      <td>NaN</td>\n",
       "      <td>[1.0112435, 1.0309591, 1.0436215, 1.0492306, 1...</td>\n",
       "      <td>NaN</td>\n",
       "      <td>NaN</td>\n",
       "      <td>[0.6604141, 0.57759106, 0.5053865, 0.43768683,...</td>\n",
       "      <td>NaN</td>\n",
       "      <td>[0, 1, 2, 3, 4, 5, 6, 7, 8, 9, 10, 11, 12, 13,...</td>\n",
       "    </tr>\n",
       "    <tr>\n",
       "      <th>292</th>\n",
       "      <td>25.0</td>\n",
       "      <td>20240323_165815_alone_comp_subj_4-2_and_4-4</td>\n",
       "      <td>26515</td>\n",
       "      <td>26595</td>\n",
       "      <td>26615.0</td>\n",
       "      <td>26715</td>\n",
       "      <td>rewarded</td>\n",
       "      <td>NaN</td>\n",
       "      <td>NaN</td>\n",
       "      <td>NaN</td>\n",
       "      <td>...</td>\n",
       "      <td>[11.7811165, 10.783213, 10.539028, 10.014766, ...</td>\n",
       "      <td>[11.364094, 12.053601, 12.724177, 13.862808, 1...</td>\n",
       "      <td>NaN</td>\n",
       "      <td>NaN</td>\n",
       "      <td>[1.0112435, 1.0309591, 1.0436215, 1.0492306, 1...</td>\n",
       "      <td>NaN</td>\n",
       "      <td>NaN</td>\n",
       "      <td>[0.376685, 0.17813055, -0.008433782, -0.150191...</td>\n",
       "      <td>NaN</td>\n",
       "      <td>[0, 1, 2, 3, 4, 5, 6, 7, 8, 9, 10, 11, 12, 13,...</td>\n",
       "    </tr>\n",
       "    <tr>\n",
       "      <th>293</th>\n",
       "      <td>25.0</td>\n",
       "      <td>20240323_165815_alone_comp_subj_4-2_and_4-4</td>\n",
       "      <td>28211</td>\n",
       "      <td>28291</td>\n",
       "      <td>28311.0</td>\n",
       "      <td>28412</td>\n",
       "      <td>rewarded</td>\n",
       "      <td>NaN</td>\n",
       "      <td>NaN</td>\n",
       "      <td>NaN</td>\n",
       "      <td>...</td>\n",
       "      <td>[11.7811165, 10.783213, 10.539028, 10.014766, ...</td>\n",
       "      <td>[11.364094, 12.053601, 12.724177, 13.862808, 1...</td>\n",
       "      <td>NaN</td>\n",
       "      <td>NaN</td>\n",
       "      <td>[1.0112435, 1.0309591, 1.0436215, 1.0492306, 1...</td>\n",
       "      <td>NaN</td>\n",
       "      <td>NaN</td>\n",
       "      <td>[0.15362751, 0.1597799, 0.1636643, 0.17040813,...</td>\n",
       "      <td>NaN</td>\n",
       "      <td>[0, 1, 2, 3, 4, 5, 6, 7, 8, 9, 10, 11, 12, 13,...</td>\n",
       "    </tr>\n",
       "  </tbody>\n",
       "</table>\n",
       "<p>294 rows × 65 columns</p>\n",
       "</div>"
      ],
      "text/plain": [
       "     unnamed: 0                                  session_dir  \\\n",
       "0           0.0  20240320_142408_alone_comp_subj_3-1_and_3-3   \n",
       "1           0.0  20240320_142408_alone_comp_subj_3-1_and_3-3   \n",
       "2           0.0  20240320_142408_alone_comp_subj_3-1_and_3-3   \n",
       "3           0.0  20240320_142408_alone_comp_subj_3-1_and_3-3   \n",
       "4           0.0  20240320_142408_alone_comp_subj_3-1_and_3-3   \n",
       "..          ...                                          ...   \n",
       "289        25.0  20240323_165815_alone_comp_subj_4-2_and_4-4   \n",
       "290        25.0  20240323_165815_alone_comp_subj_4-2_and_4-4   \n",
       "291        25.0  20240323_165815_alone_comp_subj_4-2_and_4-4   \n",
       "292        25.0  20240323_165815_alone_comp_subj_4-2_and_4-4   \n",
       "293        25.0  20240323_165815_alone_comp_subj_4-2_and_4-4   \n",
       "\n",
       "     tone_start_frame  reward_start  reward_dispensed  tone_stop_frame  \\\n",
       "0                1272          1352            1372.0             1471   \n",
       "1                3268          3348            3368.0             3469   \n",
       "2                4466          4546            4566.0             4667   \n",
       "3                5465          5545            5565.0             5664   \n",
       "4                6962          7042            7062.0             7161   \n",
       "..                ...           ...               ...              ...   \n",
       "289             22621         22701           22721.0            22822   \n",
       "290             24120         24200           24220.0            24319   \n",
       "291             25417         25497           25517.0            25616   \n",
       "292             26515         26595           26615.0            26715   \n",
       "293             28211         28291           28311.0            28412   \n",
       "\n",
       "    condition competition_closeness  get_reward_frame  out_reward_frame  ...  \\\n",
       "0    rewarded                   NaN               NaN               NaN  ...   \n",
       "1    rewarded                   NaN               NaN               NaN  ...   \n",
       "2    rewarded                   NaN               NaN               NaN  ...   \n",
       "3    rewarded                   NaN               NaN               NaN  ...   \n",
       "4    rewarded                   NaN               NaN               NaN  ...   \n",
       "..        ...                   ...               ...               ...  ...   \n",
       "289  rewarded                   NaN               NaN               NaN  ...   \n",
       "290  rewarded                   NaN               NaN               NaN  ...   \n",
       "291  rewarded                   NaN               NaN               NaN  ...   \n",
       "292  rewarded                   NaN               NaN               NaN  ...   \n",
       "293  rewarded                   NaN               NaN               NaN  ...   \n",
       "\n",
       "                         subject_x_nose_to_reward_port  \\\n",
       "0    [25.06472, 25.332037, 25.855719, 26.596203, 27...   \n",
       "1    [25.06472, 25.332037, 25.855719, 26.596203, 27...   \n",
       "2    [25.06472, 25.332037, 25.855719, 26.596203, 27...   \n",
       "3    [25.06472, 25.332037, 25.855719, 26.596203, 27...   \n",
       "4    [25.06472, 25.332037, 25.855719, 26.596203, 27...   \n",
       "..                                                 ...   \n",
       "289  [11.7811165, 10.783213, 10.539028, 10.014766, ...   \n",
       "290  [11.7811165, 10.783213, 10.539028, 10.014766, ...   \n",
       "291  [11.7811165, 10.783213, 10.539028, 10.014766, ...   \n",
       "292  [11.7811165, 10.783213, 10.539028, 10.014766, ...   \n",
       "293  [11.7811165, 10.783213, 10.539028, 10.014766, ...   \n",
       "\n",
       "                         subject_y_nose_to_reward_port  \\\n",
       "0    [19.192625, 19.383827, 19.376047, 19.383303, 1...   \n",
       "1    [19.192625, 19.383827, 19.376047, 19.383303, 1...   \n",
       "2    [19.192625, 19.383827, 19.376047, 19.383303, 1...   \n",
       "3    [19.192625, 19.383827, 19.376047, 19.383303, 1...   \n",
       "4    [19.192625, 19.383827, 19.376047, 19.383303, 1...   \n",
       "..                                                 ...   \n",
       "289  [11.364094, 12.053601, 12.724177, 13.862808, 1...   \n",
       "290  [11.364094, 12.053601, 12.724177, 13.862808, 1...   \n",
       "291  [11.364094, 12.053601, 12.724177, 13.862808, 1...   \n",
       "292  [11.364094, 12.053601, 12.724177, 13.862808, 1...   \n",
       "293  [11.364094, 12.053601, 12.724177, 13.862808, 1...   \n",
       "\n",
       "    agent_x_nose_to_reward_port agent_y_nose_to_reward_port  \\\n",
       "0                           NaN                         NaN   \n",
       "1                           NaN                         NaN   \n",
       "2                           NaN                         NaN   \n",
       "3                           NaN                         NaN   \n",
       "4                           NaN                         NaN   \n",
       "..                          ...                         ...   \n",
       "289                         NaN                         NaN   \n",
       "290                         NaN                         NaN   \n",
       "291                         NaN                         NaN   \n",
       "292                         NaN                         NaN   \n",
       "293                         NaN                         NaN   \n",
       "\n",
       "                          subject_speed_to_reward_port  \\\n",
       "0    [-0.28560644, -0.3719459, -0.4461566, -0.50823...   \n",
       "1    [-0.28560644, -0.3719459, -0.4461566, -0.50823...   \n",
       "2    [-0.28560644, -0.3719459, -0.4461566, -0.50823...   \n",
       "3    [-0.28560644, -0.3719459, -0.4461566, -0.50823...   \n",
       "4    [-0.28560644, -0.3719459, -0.4461566, -0.50823...   \n",
       "..                                                 ...   \n",
       "289  [1.0112435, 1.0309591, 1.0436215, 1.0492306, 1...   \n",
       "290  [1.0112435, 1.0309591, 1.0436215, 1.0492306, 1...   \n",
       "291  [1.0112435, 1.0309591, 1.0436215, 1.0492306, 1...   \n",
       "292  [1.0112435, 1.0309591, 1.0436215, 1.0492306, 1...   \n",
       "293  [1.0112435, 1.0309591, 1.0436215, 1.0492306, 1...   \n",
       "\n",
       "    agent_speed_to_reward_port  subject_to_agent_speed  \\\n",
       "0                          NaN                     NaN   \n",
       "1                          NaN                     NaN   \n",
       "2                          NaN                     NaN   \n",
       "3                          NaN                     NaN   \n",
       "4                          NaN                     NaN   \n",
       "..                         ...                     ...   \n",
       "289                        NaN                     NaN   \n",
       "290                        NaN                     NaN   \n",
       "291                        NaN                     NaN   \n",
       "292                        NaN                     NaN   \n",
       "293                        NaN                     NaN   \n",
       "\n",
       "                          subject_to_reward_port_angle  \\\n",
       "0    [2.1849442, 2.1431334, 2.0956645, 2.0436094, 1...   \n",
       "1    [2.6965845, 2.7689726, 2.866591, 2.9018486, 2....   \n",
       "2    [2.1474366, 2.2887177, 2.4409156, 2.5765684, 2...   \n",
       "3    [1.3175758, 1.1658002, 1.0064818, 0.83331925, ...   \n",
       "4    [0.18141562, 0.1895811, 0.19285548, 0.1915535,...   \n",
       "..                                                 ...   \n",
       "289  [1.5623572, 1.5233777, 1.466101, 1.3899325, 1....   \n",
       "290  [0.18482956, 0.16366406, 0.13523093, 0.1171260...   \n",
       "291  [0.6604141, 0.57759106, 0.5053865, 0.43768683,...   \n",
       "292  [0.376685, 0.17813055, -0.008433782, -0.150191...   \n",
       "293  [0.15362751, 0.1597799, 0.1636643, 0.17040813,...   \n",
       "\n",
       "     agent_to_reward_port_angle  \\\n",
       "0                           NaN   \n",
       "1                           NaN   \n",
       "2                           NaN   \n",
       "3                           NaN   \n",
       "4                           NaN   \n",
       "..                          ...   \n",
       "289                         NaN   \n",
       "290                         NaN   \n",
       "291                         NaN   \n",
       "292                         NaN   \n",
       "293                         NaN   \n",
       "\n",
       "                              within_trial_frame_index  \n",
       "0    [0, 1, 2, 3, 4, 5, 6, 7, 8, 9, 10, 11, 12, 13,...  \n",
       "1    [0, 1, 2, 3, 4, 5, 6, 7, 8, 9, 10, 11, 12, 13,...  \n",
       "2    [0, 1, 2, 3, 4, 5, 6, 7, 8, 9, 10, 11, 12, 13,...  \n",
       "3    [0, 1, 2, 3, 4, 5, 6, 7, 8, 9, 10, 11, 12, 13,...  \n",
       "4    [0, 1, 2, 3, 4, 5, 6, 7, 8, 9, 10, 11, 12, 13,...  \n",
       "..                                                 ...  \n",
       "289  [0, 1, 2, 3, 4, 5, 6, 7, 8, 9, 10, 11, 12, 13,...  \n",
       "290  [0, 1, 2, 3, 4, 5, 6, 7, 8, 9, 10, 11, 12, 13,...  \n",
       "291  [0, 1, 2, 3, 4, 5, 6, 7, 8, 9, 10, 11, 12, 13,...  \n",
       "292  [0, 1, 2, 3, 4, 5, 6, 7, 8, 9, 10, 11, 12, 13,...  \n",
       "293  [0, 1, 2, 3, 4, 5, 6, 7, 8, 9, 10, 11, 12, 13,...  \n",
       "\n",
       "[294 rows x 65 columns]"
      ]
     },
     "execution_count": 201,
     "metadata": {},
     "output_type": "execute_result"
    }
   ],
   "source": [
    "merged_trial_labels_df[merged_trial_labels_df[features_columns[0]].apply(lambda x: x.shape[0]) >= 1]"
   ]
  },
  {
   "cell_type": "code",
   "execution_count": null,
   "metadata": {},
   "outputs": [],
   "source": []
  },
  {
   "cell_type": "code",
   "execution_count": 202,
   "metadata": {
    "tags": []
   },
   "outputs": [],
   "source": [
    "merged_trial_labels_df = merged_trial_labels_df[merged_trial_labels_df[features_columns[0]].apply(lambda x: x.shape[0]) >= 1]\n"
   ]
  },
  {
   "cell_type": "code",
   "execution_count": 205,
   "metadata": {},
   "outputs": [
    {
     "data": {
      "text/plain": [
       "(599,)"
      ]
     },
     "execution_count": 205,
     "metadata": {},
     "output_type": "execute_result"
    }
   ],
   "source": [
    "merged_trial_labels_df[\"subject_thorax_velocity\"].iloc[0].shape"
   ]
  },
  {
   "cell_type": "code",
   "execution_count": 207,
   "metadata": {},
   "outputs": [
    {
     "data": {
      "text/plain": [
       "Index(['unnamed: 0', 'session_dir', 'tone_start_frame', 'reward_start',\n",
       "       'reward_dispensed', 'tone_stop_frame', 'condition',\n",
       "       'competition_closeness', 'get_reward_frame', 'out_reward_frame',\n",
       "       'notes', 'experiment', 'box_1_port_entry_frames',\n",
       "       'box_2_port_entry_frames', 'video_name', 'all_subjects',\n",
       "       'first_timestamp', 'last_timestamp', 'tone_start_timestamp',\n",
       "       'tone_stop_timestamp', 'box_1_port_entry_timestamps',\n",
       "       'box_2_port_entry_timestamps', '10s_before_tone_frame',\n",
       "       '10s_after_tone_frame', 'tone_start_to_stop_frame', 'start_frame',\n",
       "       'stop_frame', 'tracked_subject', 'in_video_subjects', 'box_number',\n",
       "       'sleap_name', 'current_subject', 'body_parts', 'box_top_right',\n",
       "       'box_bottom_right', 'box_top_left', 'reward_port', 'box_bottom_left',\n",
       "       'agent', 'subject_locations', 'agent_locations', 'frame_index',\n",
       "       'subject_thorax', 'subject_nose', 'subject_tail_base', 'agent_thorax',\n",
       "       'agent_nose', 'agent_tail_base', 'subject_thorax_velocity',\n",
       "       'agent_thorax_velocity', 'subject_thorax_to_agent_thorax',\n",
       "       'subject_nose_to_agent_tail_base', 'subject_tail_base_to_agent_nose',\n",
       "       'subject_nose_to_reward_port', 'agent_nose_to_reward_port',\n",
       "       'subject_x_nose_to_reward_port', 'subject_y_nose_to_reward_port',\n",
       "       'agent_x_nose_to_reward_port', 'agent_y_nose_to_reward_port',\n",
       "       'subject_speed_to_reward_port', 'agent_speed_to_reward_port',\n",
       "       'subject_to_agent_speed', 'subject_to_reward_port_angle',\n",
       "       'agent_to_reward_port_angle', 'within_trial_frame_index'],\n",
       "      dtype='object')"
      ]
     },
     "execution_count": 207,
     "metadata": {},
     "output_type": "execute_result"
    }
   ],
   "source": [
    "merged_trial_labels_df.columns"
   ]
  },
  {
   "cell_type": "code",
   "execution_count": 210,
   "metadata": {},
   "outputs": [
    {
     "data": {
      "text/plain": [
       "0      [1.2000949, 1.2227111, 1.2647303, 1.3139906, 1...\n",
       "21     [2.033654, 2.344986, 2.6374893, 2.8968313, 3.1...\n",
       "1      [1.7558339, 1.9185879, 2.2838132, 2.8010366, 3...\n",
       "22     [4.447943, 4.4811273, 4.5493016, 4.6187186, 4....\n",
       "2      [25.799894, 24.007975, 22.27434, 20.698296, 19...\n",
       "                             ...                        \n",
       "291    [2.4262934, 2.4794157, 2.4956262, 2.488869, 2....\n",
       "271    [12.599065, 11.891248, 11.126499, 10.226692, 9...\n",
       "292    [3.7332714, 3.3278172, 2.9817855, 2.709208, 2....\n",
       "272    [0.39178744, 0.3978145, 0.39665908, 0.39587712...\n",
       "293    [0.32952034, 0.32632905, 0.31695297, 0.2929762...\n",
       "Name: subject_thorax_velocity, Length: 294, dtype: object"
      ]
     },
     "execution_count": 210,
     "metadata": {},
     "output_type": "execute_result"
    }
   ],
   "source": [
    "merged_trial_labels_df.sort_values([\"session_dir\", \"tone_start_frame\"])[\"subject_thorax_velocity\"]"
   ]
  },
  {
   "cell_type": "code",
   "execution_count": 206,
   "metadata": {},
   "outputs": [],
   "source": [
    "merged_trial_labels_df.to_pickle(\"./proc/alone_trials_sleap.pkl\")"
   ]
  },
  {
   "cell_type": "markdown",
   "metadata": {},
   "source": [
    "# UMAP Clustering"
   ]
  },
  {
   "cell_type": "markdown",
   "metadata": {},
   "source": [
    "- Dropping duplicates so that each frame is only counted once"
   ]
  },
  {
   "cell_type": "code",
   "execution_count": 197,
   "metadata": {},
   "outputs": [],
   "source": [
    "drop_duplicates_trial_labels_df = merged_trial_labels_df.drop_duplicates(subset=[\"video_name\", \"tone_stop_frame\"])\n",
    "\n"
   ]
  },
  {
   "cell_type": "code",
   "execution_count": null,
   "metadata": {
    "tags": []
   },
   "outputs": [],
   "source": [
    "features_columns"
   ]
  },
  {
   "cell_type": "code",
   "execution_count": null,
   "metadata": {
    "tags": []
   },
   "outputs": [],
   "source": [
    "drop_duplicates_trial_labels_df.head()"
   ]
  },
  {
   "cell_type": "markdown",
   "metadata": {},
   "source": [
    "- Exploding each row so that each new row becomes 1 frame"
   ]
  },
  {
   "cell_type": "code",
   "execution_count": null,
   "metadata": {},
   "outputs": [],
   "source": [
    "drop_duplicates_trial_labels_df.columns"
   ]
  },
  {
   "cell_type": "code",
   "execution_count": null,
   "metadata": {
    "tags": []
   },
   "outputs": [],
   "source": [
    "features_columns"
   ]
  },
  {
   "cell_type": "code",
   "execution_count": null,
   "metadata": {
    "tags": []
   },
   "outputs": [],
   "source": [
    "sleap_columns"
   ]
  },
  {
   "cell_type": "code",
   "execution_count": 203,
   "metadata": {
    "tags": []
   },
   "outputs": [],
   "source": [
    "metadata_columns = ['session_dir', 'tone_start_frame', 'tone_stop_frame', 'condition',\n",
    "       'competition_closeness', 'get_reward_frame', 'out_reward_frame',\n",
    "       'notes', 'experiment', 'video_name', 'all_subjects',\n",
    "       'first_timestamp', 'last_timestamp', 'tone_start_timestamp',\n",
    "       'tone_stop_timestamp', \n",
    "       '10s_before_tone_frame',\n",
    "       '10s_after_tone_frame', 'tone_start_to_stop_frame', 'start_frame',\n",
    "       'stop_frame', 'tracked_subject', 'in_video_subjects', 'box_number',\n",
    "       'sleap_name', 'current_subject', 'body_parts', 'box_top_left',\n",
    "       'box_top_right', 'reward_port', 'box_bottom_left', 'box_bottom_right',\n",
    "       'agent', 'frame_index']"
   ]
  },
  {
   "cell_type": "code",
   "execution_count": 204,
   "metadata": {
    "tags": []
   },
   "outputs": [],
   "source": [
    "for num in range(len(merged_trial_labels_df)):\n",
    "    all_col_shapes = []\n",
    "    for col in features_columns + sleap_columns + [\"within_trial_frame_index\", \"frame_index\"]:\n",
    "        all_col_shapes.append(merged_trial_labels_df[col].iloc[num].shape[0])\n",
    "        if len(set(all_col_shapes)) >= 2:\n",
    "            print(col)\n",
    "            print(merged_trial_labels_df[col].iloc[num].shape[0])"
   ]
  },
  {
   "cell_type": "code",
   "execution_count": null,
   "metadata": {},
   "outputs": [],
   "source": []
  },
  {
   "cell_type": "code",
   "execution_count": 205,
   "metadata": {
    "tags": []
   },
   "outputs": [],
   "source": [
    "merged_exploded_columns = merged_trial_labels_df[list(set(metadata_columns + features_columns + sleap_columns + [\"within_trial_frame_index\"]))].explode(list(set(features_columns + sleap_columns + [\"within_trial_frame_index\"]))).reset_index(drop=True)\n"
   ]
  },
  {
   "cell_type": "code",
   "execution_count": 206,
   "metadata": {
    "tags": []
   },
   "outputs": [],
   "source": [
    "drop_duplicates_exploded_columns = drop_duplicates_trial_labels_df[list(set(metadata_columns + features_columns + sleap_columns + [\"within_trial_frame_index\"]))].explode(list(set(features_columns + sleap_columns + [\"within_trial_frame_index\"]))).reset_index(drop=True)\n"
   ]
  },
  {
   "cell_type": "code",
   "execution_count": null,
   "metadata": {
    "tags": []
   },
   "outputs": [],
   "source": [
    "merged_exploded_columns[\"within_trial_frame_index\"]"
   ]
  },
  {
   "cell_type": "code",
   "execution_count": null,
   "metadata": {
    "tags": []
   },
   "outputs": [],
   "source": [
    "merged_exploded_columns[\"frame_index\"]"
   ]
  },
  {
   "cell_type": "markdown",
   "metadata": {},
   "source": [
    "# Manually Creating clusters"
   ]
  },
  {
   "cell_type": "code",
   "execution_count": null,
   "metadata": {},
   "outputs": [],
   "source": [
    "features_columns"
   ]
  },
  {
   "cell_type": "code",
   "execution_count": 210,
   "metadata": {},
   "outputs": [],
   "source": [
    "clustering_features = ['closebool_subject_nose_to_reward_port', 'closebool_agent_nose_to_reward_port']#, 'movingbool_subject_thorax_velocity', 'movingbool_agent_thorax_velocity']"
   ]
  },
  {
   "cell_type": "code",
   "execution_count": 211,
   "metadata": {},
   "outputs": [],
   "source": [
    "# merged_exploded_columns[\"bool_subject_thorax_to_agent_thorax\"] = merged_exploded_columns[\"subject_thorax_to_agent_thorax\"] <= 10\n",
    "merged_exploded_columns[\"closebool_subject_nose_to_reward_port\"] = merged_exploded_columns[\"subject_nose_to_reward_port\"] <= 10\n",
    "merged_exploded_columns[\"closebool_agent_nose_to_reward_port\"] = merged_exploded_columns[\"agent_nose_to_reward_port\"] <= 10\n",
    "merged_exploded_columns[\"movingbool_subject_thorax_velocity\"] = merged_exploded_columns[\"subject_thorax_velocity\"] >= 0.5\n",
    "merged_exploded_columns[\"movingbool_agent_thorax_velocity\"] = merged_exploded_columns[\"agent_thorax_velocity\"] >= 0.5\n"
   ]
  },
  {
   "cell_type": "code",
   "execution_count": null,
   "metadata": {
    "tags": []
   },
   "outputs": [],
   "source": [
    "merged_exploded_columns[\"video_name\"].unique()"
   ]
  },
  {
   "cell_type": "code",
   "execution_count": 213,
   "metadata": {},
   "outputs": [],
   "source": [
    "merged_exploded_columns['manual_cluster_id'] = merged_exploded_columns[clustering_features].apply(bools_to_int, axis=1)"
   ]
  },
  {
   "cell_type": "code",
   "execution_count": null,
   "metadata": {},
   "outputs": [],
   "source": [
    "merged_exploded_columns['manual_cluster_id'].unique()"
   ]
  },
  {
   "cell_type": "code",
   "execution_count": null,
   "metadata": {},
   "outputs": [],
   "source": [
    "for current_cluster in merged_exploded_columns['manual_cluster_id'].unique():\n",
    "    cluster_df = merged_exploded_columns[merged_exploded_columns[\"manual_cluster_id\"] == current_cluster]\n",
    "    print(\"Cluster: {}\".format(current_cluster))\n",
    "    print(cluster_df[clustering_features].iloc[0])"
   ]
  },
  {
   "cell_type": "markdown",
   "metadata": {},
   "source": [
    "## Standard Scaling the features"
   ]
  },
  {
   "cell_type": "code",
   "execution_count": null,
   "metadata": {},
   "outputs": [],
   "source": [
    "features_columns"
   ]
  },
  {
   "cell_type": "code",
   "execution_count": 217,
   "metadata": {},
   "outputs": [],
   "source": [
    "features_columns = ['subject_thorax_to_agent_thorax',\n",
    " 'nose_to_reward_port_sum',\n",
    " 'nose_to_reward_port_diff',\n",
    " 'thorax_velocity_sum',\n",
    " 'thorax_velocity_diff',\n",
    " 'to_reward_port_angle_sum',\n",
    " 'to_reward_port_angle_diff']"
   ]
  },
  {
   "cell_type": "code",
   "execution_count": 218,
   "metadata": {},
   "outputs": [],
   "source": [
    "frame_data = drop_duplicates_exploded_columns[features_columns].values.astype(np.float32)"
   ]
  },
  {
   "cell_type": "code",
   "execution_count": null,
   "metadata": {
    "tags": []
   },
   "outputs": [],
   "source": [
    "for col in features_columns:\n",
    "    fig, ax = plt.subplots()\n",
    "    plt.title(col)\n",
    "    plt.plot(frame_data[:1000, features_columns.index(col)])\n",
    "    plt.show()"
   ]
  },
  {
   "cell_type": "code",
   "execution_count": 220,
   "metadata": {
    "tags": []
   },
   "outputs": [],
   "source": [
    "decay_factor = 0.1"
   ]
  },
  {
   "cell_type": "code",
   "execution_count": null,
   "metadata": {
    "scrolled": true,
    "tags": []
   },
   "outputs": [],
   "source": [
    "for col in important_features_columns:\n",
    "    if col not in features_columns:\n",
    "        continue\n",
    "    fig, ax = plt.subplots()\n",
    "    plt.title(col)\n",
    "    plt.plot(frame_data[:1000, features_columns.index(col)])\n",
    "    plt.show()\n",
    "    # frame_data[:, features_columns.index(col)] = np.log(frame_data[:, features_columns.index(col)].astype(float))\n",
    "    # frame_data[:, features_columns.index(col)] = np.log(frame_data[:, features_columns.index(col)].astype(float) + 5e-1)\n",
    "    # frame_data[:, features_columns.index(col)] = np.log1p(1/frame_data[:, features_columns.index(col)])\n",
    "\n",
    "    # frame_data[:, features_columns.index(col)] = 1 / (frame_data[:, features_columns.index(col)] ** scaler)\n",
    "    frame_data[:, features_columns.index(col)] = np.log1p(frame_data[:, features_columns.index(col)] + np.abs(frame_data[:, features_columns.index(col)].min() * 1.01))\n",
    "\n",
    "    fig, ax = plt.subplots()\n",
    "    plt.title(col)\n",
    "    plt.plot(frame_data[:1000, features_columns.index(col)])\n",
    "    plt.show()"
   ]
  },
  {
   "cell_type": "code",
   "execution_count": 222,
   "metadata": {},
   "outputs": [],
   "source": [
    "scaled_frame_data = StandardScaler().fit_transform(frame_data)"
   ]
  },
  {
   "cell_type": "code",
   "execution_count": null,
   "metadata": {},
   "outputs": [],
   "source": []
  },
  {
   "cell_type": "markdown",
   "metadata": {},
   "source": [
    "# Projecting to lower dimensional space"
   ]
  },
  {
   "cell_type": "code",
   "execution_count": null,
   "metadata": {},
   "outputs": [],
   "source": [
    "standard_embedding = umap.UMAP(random_state=42).fit_transform(scaled_frame_data)"
   ]
  },
  {
   "cell_type": "code",
   "execution_count": null,
   "metadata": {},
   "outputs": [],
   "source": [
    "drop_duplicates_exploded_columns[\"video_name\"].unique()"
   ]
  },
  {
   "cell_type": "code",
   "execution_count": 225,
   "metadata": {
    "tags": []
   },
   "outputs": [],
   "source": [
    "drop_duplicates_exploded_columns[\"standard_embedding_x\"] = standard_embedding[:,0]\n",
    "drop_duplicates_exploded_columns[\"standard_embedding_y\"] = standard_embedding[:,1]"
   ]
  },
  {
   "cell_type": "code",
   "execution_count": null,
   "metadata": {
    "tags": []
   },
   "outputs": [],
   "source": [
    "standard_embedding"
   ]
  },
  {
   "cell_type": "code",
   "execution_count": null,
   "metadata": {},
   "outputs": [],
   "source": [
    "clusterable_embedding = umap.UMAP(\n",
    "    n_neighbors=100,\n",
    "    min_dist=0,\n",
    "    n_components=2,\n",
    "    random_state=42,\n",
    ").fit_transform(scaled_frame_data)\n"
   ]
  },
  {
   "cell_type": "code",
   "execution_count": 228,
   "metadata": {
    "tags": []
   },
   "outputs": [],
   "source": [
    "drop_duplicates_exploded_columns[\"clusterable_embedding_x\"] = clusterable_embedding[:,0]\n",
    "drop_duplicates_exploded_columns[\"clusterable_embedding_y\"] = clusterable_embedding[:,1]"
   ]
  },
  {
   "cell_type": "markdown",
   "metadata": {},
   "source": [
    "# Clustering"
   ]
  },
  {
   "cell_type": "code",
   "execution_count": 229,
   "metadata": {},
   "outputs": [],
   "source": [
    "# kmeans_label_zscore = cluster.KMeans(n_clusters=5, random_state=42).fit_predict(clusterable_embedding)"
   ]
  },
  {
   "cell_type": "code",
   "execution_count": null,
   "metadata": {},
   "outputs": [],
   "source": [
    "scaled_frame_data"
   ]
  },
  {
   "cell_type": "code",
   "execution_count": 231,
   "metadata": {},
   "outputs": [],
   "source": [
    "kmeans_label_zscore = sklearn.cluster.KMeans(n_clusters=8, random_state=42).fit_predict(clusterable_embedding)"
   ]
  },
  {
   "cell_type": "code",
   "execution_count": 232,
   "metadata": {
    "tags": []
   },
   "outputs": [],
   "source": [
    "# kmeans_label_zscore = sklearn.cluster.KMeans(n_clusters=8, random_state=42).fit_predict(scaled_frame_data)"
   ]
  },
  {
   "cell_type": "code",
   "execution_count": 233,
   "metadata": {},
   "outputs": [],
   "source": [
    "# kmeans_label_zscore = cluster.KMeans(n_clusters=8, random_state=42).fit_predict(clusterable_embedding)"
   ]
  },
  {
   "cell_type": "code",
   "execution_count": 234,
   "metadata": {},
   "outputs": [],
   "source": [
    "# clusterable_embedding.shape[0]//10"
   ]
  },
  {
   "cell_type": "code",
   "execution_count": 235,
   "metadata": {},
   "outputs": [],
   "source": [
    "# kmeans_label_zscore = hdbscan.HDBSCAN(\n",
    "#     min_samples=1,\n",
    "#     min_cluster_size=clusterable_embedding.shape[0]//50,\n",
    "# ).fit_predict(clusterable_embedding)"
   ]
  },
  {
   "cell_type": "code",
   "execution_count": 236,
   "metadata": {},
   "outputs": [],
   "source": [
    "drop_duplicates_exploded_columns[\"kmeans_cluster\"] = kmeans_label_zscore"
   ]
  },
  {
   "cell_type": "code",
   "execution_count": null,
   "metadata": {},
   "outputs": [],
   "source": [
    "drop_duplicates_exploded_columns[\"video_name\"].unique()"
   ]
  },
  {
   "cell_type": "code",
   "execution_count": 238,
   "metadata": {},
   "outputs": [],
   "source": [
    "drop_duplicates_exploded_columns[\"video_id\"], unique = pd.factorize(drop_duplicates_exploded_columns['video_name'])\n"
   ]
  },
  {
   "cell_type": "code",
   "execution_count": null,
   "metadata": {
    "tags": []
   },
   "outputs": [],
   "source": [
    "drop_duplicates_exploded_columns.columns"
   ]
  },
  {
   "cell_type": "code",
   "execution_count": null,
   "metadata": {},
   "outputs": [],
   "source": [
    "merged_exploded_columns\n"
   ]
  },
  {
   "cell_type": "code",
   "execution_count": 241,
   "metadata": {
    "tags": []
   },
   "outputs": [],
   "source": [
    "export_exploded_columns = pd.merge(merged_exploded_columns, drop_duplicates_exploded_columns[['video_name', 'frame_index', 'standard_embedding_x',\n",
    "       'standard_embedding_y', 'clusterable_embedding_x',\n",
    "       'clusterable_embedding_y', 'kmeans_cluster', 'video_id']], on=['video_name', 'frame_index',])"
   ]
  },
  {
   "cell_type": "code",
   "execution_count": 242,
   "metadata": {},
   "outputs": [],
   "source": [
    "export_exploded_columns.to_pickle(\"./proc/exploded_columns.pkl\")"
   ]
  },
  {
   "cell_type": "code",
   "execution_count": null,
   "metadata": {},
   "outputs": [],
   "source": [
    "export_exploded_columns[\"video_name\"].unique()"
   ]
  },
  {
   "cell_type": "code",
   "execution_count": null,
   "metadata": {
    "tags": []
   },
   "outputs": [],
   "source": [
    "export_exploded_columns.columns"
   ]
  },
  {
   "cell_type": "code",
   "execution_count": null,
   "metadata": {},
   "outputs": [],
   "source": [
    "export_exploded_columns.head()"
   ]
  },
  {
   "cell_type": "code",
   "execution_count": null,
   "metadata": {},
   "outputs": [],
   "source": [
    "export_exploded_columns.tail()"
   ]
  },
  {
   "cell_type": "code",
   "execution_count": null,
   "metadata": {},
   "outputs": [],
   "source": []
  }
 ],
 "metadata": {
  "deepnote": {},
  "deepnote_execution_queue": [],
  "deepnote_notebook_id": "cf8fe3695d074ee7887fdf6459cbf5ce",
  "kernelspec": {
   "display_name": "mountainsort_0_5_6",
   "language": "python",
   "name": "python3"
  },
  "language_info": {
   "codemirror_mode": {
    "name": "ipython",
    "version": 3
   },
   "file_extension": ".py",
   "mimetype": "text/x-python",
   "name": "python",
   "nbconvert_exporter": "python",
   "pygments_lexer": "ipython3",
   "version": "3.10.14"
  }
 },
 "nbformat": 4,
 "nbformat_minor": 4
}
