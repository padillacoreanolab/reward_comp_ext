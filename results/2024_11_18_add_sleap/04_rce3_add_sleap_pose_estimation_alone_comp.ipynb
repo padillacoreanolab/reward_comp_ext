{
 "cells": [
  {
   "cell_type": "markdown",
   "metadata": {
    "cell_id": "c3a02adc9e884466bc8c79db549cc3d2",
    "deepnote_cell_type": "text-cell-h1",
    "formattedRanges": [
     {
      "fromCodePoint": 0,
      "marks": {
       "bold": true,
       "underline": true
      },
      "toCodePoint": 17,
      "type": "marks"
     }
    ]
   },
   "source": [
    "# SLEAP Distance Calculation"
   ]
  },
  {
   "cell_type": "markdown",
   "metadata": {
    "cell_id": "4546bee655b14a5dbf393161f1228e60",
    "deepnote_cell_type": "text-cell-p",
    "formattedRanges": []
   },
   "source": [
    "Brief 1-2 sentence description of notebook."
   ]
  },
  {
   "cell_type": "code",
   "execution_count": 1,
   "metadata": {
    "tags": []
   },
   "outputs": [],
   "source": [
    "import os\n",
    "import glob\n",
    "import git\n",
    "import sys\n"
   ]
  },
  {
   "cell_type": "code",
   "execution_count": 2,
   "metadata": {
    "cell_id": "03b495cefa6a4798a44c7f2e4c6a3ea7",
    "deepnote_cell_type": "code",
    "deepnote_to_be_reexecuted": false,
    "execution_millis": 21,
    "execution_start": 1691424003626,
    "source_hash": null,
    "tags": []
   },
   "outputs": [],
   "source": [
    "# Imports of all used packages and libraries\n",
    "import numpy as np\n",
    "import pandas as pd\n",
    "# import seaborn as sns\n",
    "import matplotlib as mpl\n",
    "import matplotlib.pyplot as plt\n",
    "import h5py\n",
    "from scipy.interpolate import interp1d\n",
    "from scipy.signal import savgol_filter\n"
   ]
  },
  {
   "cell_type": "code",
   "execution_count": 3,
   "metadata": {
    "tags": []
   },
   "outputs": [],
   "source": [
    "git_repo = git.Repo(\".\", search_parent_directories=True)\n",
    "git_root = git_repo.git.rev_parse(\"--show-toplevel\")"
   ]
  },
  {
   "cell_type": "code",
   "execution_count": 4,
   "metadata": {
    "tags": []
   },
   "outputs": [
    {
     "data": {
      "text/plain": [
       "'/nancy/user/riwata/projects/reward_comp_ext'"
      ]
     },
     "execution_count": 4,
     "metadata": {},
     "output_type": "execute_result"
    }
   ],
   "source": [
    "git_root"
   ]
  },
  {
   "cell_type": "code",
   "execution_count": 5,
   "metadata": {
    "tags": []
   },
   "outputs": [],
   "source": [
    "sys.path.insert(0, os.path.join(git_root, 'src'))"
   ]
  },
  {
   "cell_type": "code",
   "execution_count": 6,
   "metadata": {
    "tags": []
   },
   "outputs": [],
   "source": [
    "import utilities.helper\n",
    "import sleap.process_pose"
   ]
  },
  {
   "cell_type": "code",
   "execution_count": 7,
   "metadata": {
    "tags": []
   },
   "outputs": [],
   "source": [
    "# sns.set('notebook', 'ticks', font_scale=1.2)\n",
    "mpl.rcParams['figure.figsize'] = [15,6]"
   ]
  },
  {
   "cell_type": "code",
   "execution_count": null,
   "metadata": {},
   "outputs": [],
   "source": []
  },
  {
   "cell_type": "markdown",
   "metadata": {},
   "source": [
    "# Functions"
   ]
  },
  {
   "cell_type": "code",
   "execution_count": 8,
   "metadata": {
    "tags": []
   },
   "outputs": [],
   "source": [
    "def compute_velocity(node_loc, window_size=25, polynomial_order=3):\n",
    "    \"\"\"\n",
    "    Calculate the velocity of tracked nodes from pose data.\n",
    "    \n",
    "    The function utilizes the Savitzky-Golay filter to smooth the data and compute the velocity.\n",
    "    \n",
    "    Parameters:\n",
    "    ----------\n",
    "    node_loc : numpy.ndarray\n",
    "        The location of nodes, represented as an array of shape [frames, 2]. \n",
    "        Each row represents x and y coordinates for a particular frame.\n",
    "        \n",
    "    window_size : int, optional\n",
    "        The size of the window used for the Savitzky-Golay filter. \n",
    "        Represents the number of consecutive data points used when smoothing the data.\n",
    "        Default is 25.\n",
    "        \n",
    "    polynomial_order : int, optional\n",
    "        The order of the polynomial fit to the data within the Savitzky-Golay filter window.\n",
    "        Default is 3.\n",
    "\n",
    "    Returns:\n",
    "    -------\n",
    "    numpy.ndarray\n",
    "        The velocity for each frame, calculated from the smoothed x and y coordinates.\n",
    "    \n",
    "    \"\"\"\n",
    "    node_loc_vel = np.zeros_like(node_loc)\n",
    "    \n",
    "    # For each coordinate (x and y), smooth the data and calculate the derivative (velocity)\n",
    "    for c in range(node_loc.shape[-1]):\n",
    "        node_loc_vel[:, c] = savgol_filter(node_loc[:, c], window_size, polynomial_order, deriv=1)\n",
    "    \n",
    "    # Calculate the magnitude of the velocity vectors for each frame\n",
    "    node_vel = np.linalg.norm(node_loc_vel, axis=1)\n",
    "\n",
    "    return node_vel"
   ]
  },
  {
   "cell_type": "code",
   "execution_count": 9,
   "metadata": {
    "tags": []
   },
   "outputs": [],
   "source": [
    "def rolling_average(arr, window_size):\n",
    "    \"\"\"\n",
    "    Computes the rolling average using a specified window size.\n",
    "    \n",
    "    Parameters:\n",
    "        arr (numpy.array): The input array to compute the rolling average for.\n",
    "        window_size (int): The size of the rolling window.\n",
    "\n",
    "    Returns:\n",
    "        numpy.array: The rolling average of the input array.\n",
    "    \"\"\"\n",
    "    if window_size < 1:\n",
    "       raise ValueError(\"Window size must be at least 1.\")\n",
    "    \n",
    "    # Create a uniform window of given window size\n",
    "    window = np.ones(window_size) / window_size\n",
    "\n",
    "    # Use numpy's convolve function to compute the rolling average\n",
    "    return np.convolve(arr, window, mode='valid')\n",
    "\n"
   ]
  },
  {
   "cell_type": "code",
   "execution_count": 10,
   "metadata": {
    "tags": []
   },
   "outputs": [],
   "source": [
    "def chunked_average(arr, chunk_size):\n",
    "    \"\"\"\n",
    "    Computes the average for non-overlapping chunks of the input array.\n",
    "    \n",
    "    Parameters:\n",
    "        arr (numpy.array): The input array.\n",
    "        chunk_size (int): The size of each chunk.\n",
    "\n",
    "    Returns:\n",
    "        numpy.array: The averages of the non-overlapping chunks.\n",
    "    \"\"\"\n",
    "\n",
    "    # Number of chunks\n",
    "    num_chunks = len(arr) // chunk_size\n",
    "    \n",
    "    # Reshape the array into a 2D array of shape (num_chunks, chunk_size)\n",
    "    reshaped_arr = arr[:num_chunks * chunk_size].reshape(num_chunks, chunk_size)\n",
    "    \n",
    "    # Compute the mean along the second axis (i.e., for each chunk)\n",
    "    return reshaped_arr.mean(axis=1)"
   ]
  },
  {
   "cell_type": "code",
   "execution_count": 11,
   "metadata": {
    "tags": []
   },
   "outputs": [],
   "source": [
    "def sliding_window_average(arr, window_size, step=1):\n",
    "    \"\"\"\n",
    "    Apply a sliding window to a 1D numpy array, returning the average of windows of a specified size.\n",
    "\n",
    "    :param arr: Input 1D numpy array.\n",
    "    :param window_size: Size of the window.\n",
    "    :param step: The step size or number of elements to slide the window by. Default is 1.\n",
    "    :return: A 1D numpy array where each element is the average of a window from the input.\n",
    "    \"\"\"\n",
    "    # Number of windows\n",
    "    num_windows = ((arr.size - window_size) // step) + 1\n",
    "    \n",
    "    # Output array for averages\n",
    "    averages = np.zeros(num_windows)\n",
    "    \n",
    "    for i in range(num_windows):\n",
    "        # Calculate the start and end index for the window\n",
    "        start = i * step\n",
    "        end = start + window_size\n",
    "        # Calculate the average of the window\n",
    "        averages[i] = np.mean(arr[start:end])\n",
    "\n",
    "    return averages"
   ]
  },
  {
   "cell_type": "code",
   "execution_count": 12,
   "metadata": {
    "tags": []
   },
   "outputs": [],
   "source": [
    "def calculate_all_window_indices(original_index, window_size, step, array_length):\n",
    "    \"\"\"\n",
    "    Calculate all the start and stop indices for sliding windows based on an original start index.\n",
    "\n",
    "    :param original_index: The original index from which the first window should start.\n",
    "    :param window_size: The size of each sliding window.\n",
    "    :param step: The step size or number of elements to slide the window by.\n",
    "    :param array_length: The total number of elements in the array.\n",
    "    :return: A list of tuples, each containing the start and stop indices for a sliding window.\n",
    "    \"\"\"\n",
    "\n",
    "    # Initialize the list to hold the start and stop indices for all windows\n",
    "    windows = []\n",
    "\n",
    "    # Initialize the current start index with the original index\n",
    "    current_start_index = original_index\n",
    "\n",
    "    # Loop through the array until the end is reached\n",
    "    while current_start_index + window_size <= original_index + array_length:\n",
    "        # Calculate the stop index based on the window size\n",
    "        stop_index = current_start_index + window_size\n",
    "\n",
    "        # Add the start and stop indices to the list\n",
    "        windows.append((current_start_index, stop_index))\n",
    "\n",
    "        # Update the current start index by adding the step size\n",
    "        current_start_index += step\n",
    "\n",
    "    return windows"
   ]
  },
  {
   "cell_type": "markdown",
   "metadata": {
    "cell_id": "d290bac2c17940bfbc0f9296beaf70e5",
    "deepnote_cell_type": "text-cell-h2",
    "formattedRanges": []
   },
   "source": [
    "## Inputs & Data"
   ]
  },
  {
   "cell_type": "markdown",
   "metadata": {
    "cell_id": "e528ce19c608425292151930d380f49f",
    "deepnote_cell_type": "text-cell-p",
    "formattedRanges": []
   },
   "source": [
    "Explanation of each input and where it comes from."
   ]
  },
  {
   "cell_type": "code",
   "execution_count": 13,
   "metadata": {
    "cell_id": "6cf83a5811054461a718a71673d09aab",
    "deepnote_cell_type": "code",
    "deepnote_to_be_reexecuted": false,
    "execution_millis": 373,
    "execution_start": 1691424003628,
    "source_hash": null,
    "tags": []
   },
   "outputs": [],
   "source": [
    "# Inputs and Required data loading\n",
    "# input varaible names are in all caps snake case\n",
    "# Whenever an input changes or is used for processing \n",
    "# the vairables are all lower in snake case\n",
    "THORAX_INDEX = 1\n",
    "\n",
    "# LFP_SPECTRAL_DF = pd.read_pickle(\"./proc/rce_pilot_2_03_spectral_bands.pkl\")\n",
    "LFP_SPECTRAL_DF = pd.read_pickle(\"../2024_11_14_add_spike_times/proc/rce_pilot_3_alone_comp_02_lfp_traces_and_spikes.pkl\")\n",
    "LFP_SPECTRAL_DF[\"video_name\"] = LFP_SPECTRAL_DF[\"video_name\"].apply(lambda x: x.strip(\".videoTimeStamps.cameraHWSync\"))\n",
    "\n",
    "# SLEAP_DIR = os.path.join(git_root, \"proc/sleap\") \n",
    "SLEAP_DIR = \"/scratch/back_up/reward_competition_extention/final_proc/id_corrected/rce3\"\n",
    "# SLEAP_DIR = \"/blue/npadillacoreano/ryoi360/projects/reward_comp/final_proc/id_corrected\"\n",
    "\n",
    "OUTPUT_DIR = r\"./proc\" # where data is saved should always be shown in the inputs\n",
    "MED_PC_WIDTH = 29.5\n",
    "MED_PC_HEIGHT = 24\n",
    "FRAME_RATE = 22\n",
    "WINDOW_SIZE = 25\n",
    "DISTANCE_THRESHOLD = 2"
   ]
  },
  {
   "cell_type": "code",
   "execution_count": 14,
   "metadata": {
    "tags": []
   },
   "outputs": [],
   "source": [
    "START_STOP_FRAME_DF = pd.read_excel(\"../../data/rce_pilot_3_alone_comp_per_subject_start_stop_video_frame.xlsx\")\n"
   ]
  },
  {
   "cell_type": "markdown",
   "metadata": {
    "cell_id": "e3ee4891d43a4ac287413afc552ca289",
    "deepnote_cell_type": "text-cell-h2",
    "formattedRanges": []
   },
   "source": [
    "## Outputs"
   ]
  },
  {
   "cell_type": "markdown",
   "metadata": {
    "cell_id": "9ccbf6cc70fd4d379fa29317f733771f",
    "deepnote_cell_type": "text-cell-p",
    "formattedRanges": []
   },
   "source": [
    "Describe each output that the notebook creates. "
   ]
  },
  {
   "cell_type": "markdown",
   "metadata": {
    "cell_id": "fc8e8920a6944918a15fac575cdf6e78",
    "deepnote_cell_type": "text-cell-bullet",
    "formattedRanges": []
   },
   "source": [
    "- Is it a plot or is it data?"
   ]
  },
  {
   "cell_type": "markdown",
   "metadata": {
    "cell_id": "1e639d4776a84aa9ac8ded2e14fa57db",
    "deepnote_cell_type": "text-cell-bullet",
    "formattedRanges": []
   },
   "source": [
    "- How valuable is the output and why is it valuable or useful?"
   ]
  },
  {
   "cell_type": "code",
   "execution_count": 15,
   "metadata": {
    "tags": []
   },
   "outputs": [],
   "source": [
    "# Inputs and Required data loading\n",
    "# input varaible names are in all caps snake case\n",
    "# Whenever an input changes or is used for processing \n",
    "# the vairables are all lower in snake case\n",
    "OUTPUT_DIR = r\"./proc/\" # where data is saved should always be shown in the inputs\n",
    "os.makedirs(OUTPUT_DIR, exist_ok=True)\n",
    "OUTPUT_PREFIX = \"rce_pilot_3_alone_comp\""
   ]
  },
  {
   "cell_type": "code",
   "execution_count": 16,
   "metadata": {
    "tags": []
   },
   "outputs": [],
   "source": [
    "FULL_LFP_TRACES_PKL = \"{}_04_lfp_spike_sleap.pkl\".format(OUTPUT_PREFIX)"
   ]
  },
  {
   "cell_type": "markdown",
   "metadata": {
    "cell_id": "8999d19b6b7d4d63bc90f0b0bd9ab085",
    "deepnote_cell_type": "text-cell-h2",
    "formattedRanges": []
   },
   "source": [
    "## Processing"
   ]
  },
  {
   "cell_type": "markdown",
   "metadata": {
    "cell_id": "9b36cdf08567463082b005cb0dec684b",
    "deepnote_cell_type": "text-cell-p",
    "formattedRanges": []
   },
   "source": [
    "Describe what is done to the data here and how inputs are manipulated to generate outputs. "
   ]
  },
  {
   "cell_type": "markdown",
   "metadata": {},
   "source": [
    "# Getting the videos where the subject is in the recording"
   ]
  },
  {
   "cell_type": "markdown",
   "metadata": {},
   "source": [
    "### Looking at when each subject was in each video"
   ]
  },
  {
   "cell_type": "code",
   "execution_count": 17,
   "metadata": {
    "tags": []
   },
   "outputs": [],
   "source": [
    "# START_STOP_FRAME_DF = pd.read_excel(\"./data/rce_per_subject_start_stop_video_frame.xlsx\")\n",
    "START_STOP_FRAME_DF = START_STOP_FRAME_DF.dropna(subset=[\"file_path\"])"
   ]
  },
  {
   "cell_type": "markdown",
   "metadata": {},
   "source": [
    "- Getting the name of the SLEAP and video files where each subject was in"
   ]
  },
  {
   "cell_type": "code",
   "execution_count": 18,
   "metadata": {
    "tags": []
   },
   "outputs": [],
   "source": [
    "START_STOP_FRAME_DF[\"sleap_name\"] = START_STOP_FRAME_DF[\"file_path\"].apply(lambda x: os.path.basename(x))\n",
    "START_STOP_FRAME_DF[\"video_name\"] = START_STOP_FRAME_DF[\"file_path\"].apply(lambda x: \".\".join(os.path.basename(x).split(\".\")[:2]))\n",
    "START_STOP_FRAME_DF[\"start_frame\"] = START_STOP_FRAME_DF[\"start_frame\"].astype(int)\n",
    "START_STOP_FRAME_DF[\"stop_frame\"] = START_STOP_FRAME_DF[\"stop_frame\"].astype(int)"
   ]
  },
  {
   "cell_type": "code",
   "execution_count": 19,
   "metadata": {
    "tags": []
   },
   "outputs": [],
   "source": [
    "START_STOP_FRAME_DF = START_STOP_FRAME_DF.drop(columns=[\"file_path\", \"notes\"], errors=\"ignore\")"
   ]
  },
  {
   "cell_type": "code",
   "execution_count": 20,
   "metadata": {
    "tags": []
   },
   "outputs": [
    {
     "data": {
      "text/plain": [
       "array(['20240320_171038_alone_comp_subj_4-2_and_4-3.1',\n",
       "       '20240320_142408_alone_comp_subj_3-1_and_3-3.1',\n",
       "       '20240322_120625_alone_comp_subj_3-3_and_3-4.1',\n",
       "       '20240322_160946_alone_comp_subj_4-3_and_4-4.1',\n",
       "       '20240323_122227_alone_comp_subj_5-2_and_5-3.1',\n",
       "       '20240323_144517_alone_comp_subj_3-1_and_3-4.1',\n",
       "       '20240323_165815_alone_comp_subj_4-2_and_4-4.1'], dtype=object)"
      ]
     },
     "execution_count": 20,
     "metadata": {},
     "output_type": "execute_result"
    }
   ],
   "source": [
    "START_STOP_FRAME_DF[\"video_name\"].unique()"
   ]
  },
  {
   "cell_type": "code",
   "execution_count": 21,
   "metadata": {
    "tags": []
   },
   "outputs": [
    {
     "data": {
      "text/html": [
       "<div>\n",
       "<style scoped>\n",
       "    .dataframe tbody tr th:only-of-type {\n",
       "        vertical-align: middle;\n",
       "    }\n",
       "\n",
       "    .dataframe tbody tr th {\n",
       "        vertical-align: top;\n",
       "    }\n",
       "\n",
       "    .dataframe thead th {\n",
       "        text-align: right;\n",
       "    }\n",
       "</style>\n",
       "<table border=\"1\" class=\"dataframe\">\n",
       "  <thead>\n",
       "    <tr style=\"text-align: right;\">\n",
       "      <th></th>\n",
       "      <th>start_frame</th>\n",
       "      <th>stop_frame</th>\n",
       "      <th>tracked_subject</th>\n",
       "      <th>in_video_subjects</th>\n",
       "      <th>box_number</th>\n",
       "      <th>sleap_name</th>\n",
       "      <th>video_name</th>\n",
       "    </tr>\n",
       "  </thead>\n",
       "  <tbody>\n",
       "    <tr>\n",
       "      <th>0</th>\n",
       "      <td>31500</td>\n",
       "      <td>64225</td>\n",
       "      <td>4.2_4.3</td>\n",
       "      <td>4.2_4.3</td>\n",
       "      <td>1</td>\n",
       "      <td>20240320_171038_alone_comp_subj_4-2_and_4-3.1....</td>\n",
       "      <td>20240320_171038_alone_comp_subj_4-2_and_4-3.1</td>\n",
       "    </tr>\n",
       "    <tr>\n",
       "      <th>1</th>\n",
       "      <td>31500</td>\n",
       "      <td>63504</td>\n",
       "      <td>3.1_3.3</td>\n",
       "      <td>3.1_3.3</td>\n",
       "      <td>1</td>\n",
       "      <td>20240320_142408_alone_comp_subj_3-1_and_3-3.1....</td>\n",
       "      <td>20240320_142408_alone_comp_subj_3-1_and_3-3.1</td>\n",
       "    </tr>\n",
       "    <tr>\n",
       "      <th>2</th>\n",
       "      <td>31500</td>\n",
       "      <td>63314</td>\n",
       "      <td>3.3_3.4</td>\n",
       "      <td>3.3_3.4</td>\n",
       "      <td>1</td>\n",
       "      <td>20240322_120625_alone_comp_subj_3-3_and_3-4.1....</td>\n",
       "      <td>20240322_120625_alone_comp_subj_3-3_and_3-4.1</td>\n",
       "    </tr>\n",
       "    <tr>\n",
       "      <th>3</th>\n",
       "      <td>31500</td>\n",
       "      <td>63734</td>\n",
       "      <td>4.3_4.4</td>\n",
       "      <td>4.3_4.4</td>\n",
       "      <td>1</td>\n",
       "      <td>20240322_160946_alone_comp_subj_4-3_and_4-4.1....</td>\n",
       "      <td>20240322_160946_alone_comp_subj_4-3_and_4-4.1</td>\n",
       "    </tr>\n",
       "    <tr>\n",
       "      <th>4</th>\n",
       "      <td>31500</td>\n",
       "      <td>63485</td>\n",
       "      <td>5.2_5.3</td>\n",
       "      <td>5.2_5.3</td>\n",
       "      <td>1</td>\n",
       "      <td>20240323_122227_alone_comp_subj_5-2_and_5-3.1....</td>\n",
       "      <td>20240323_122227_alone_comp_subj_5-2_and_5-3.1</td>\n",
       "    </tr>\n",
       "  </tbody>\n",
       "</table>\n",
       "</div>"
      ],
      "text/plain": [
       "   start_frame  stop_frame tracked_subject in_video_subjects  box_number  \\\n",
       "0        31500       64225         4.2_4.3           4.2_4.3           1   \n",
       "1        31500       63504         3.1_3.3           3.1_3.3           1   \n",
       "2        31500       63314         3.3_3.4           3.3_3.4           1   \n",
       "3        31500       63734         4.3_4.4           4.3_4.4           1   \n",
       "4        31500       63485         5.2_5.3           5.2_5.3           1   \n",
       "\n",
       "                                          sleap_name  \\\n",
       "0  20240320_171038_alone_comp_subj_4-2_and_4-3.1....   \n",
       "1  20240320_142408_alone_comp_subj_3-1_and_3-3.1....   \n",
       "2  20240322_120625_alone_comp_subj_3-3_and_3-4.1....   \n",
       "3  20240322_160946_alone_comp_subj_4-3_and_4-4.1....   \n",
       "4  20240323_122227_alone_comp_subj_5-2_and_5-3.1....   \n",
       "\n",
       "                                      video_name  \n",
       "0  20240320_171038_alone_comp_subj_4-2_and_4-3.1  \n",
       "1  20240320_142408_alone_comp_subj_3-1_and_3-3.1  \n",
       "2  20240322_120625_alone_comp_subj_3-3_and_3-4.1  \n",
       "3  20240322_160946_alone_comp_subj_4-3_and_4-4.1  \n",
       "4  20240323_122227_alone_comp_subj_5-2_and_5-3.1  "
      ]
     },
     "execution_count": 21,
     "metadata": {},
     "output_type": "execute_result"
    }
   ],
   "source": [
    "START_STOP_FRAME_DF.head()"
   ]
  },
  {
   "cell_type": "markdown",
   "metadata": {},
   "source": [
    "- Splitting each row into seperate row for each subject in the video"
   ]
  },
  {
   "cell_type": "code",
   "execution_count": 22,
   "metadata": {
    "tags": []
   },
   "outputs": [],
   "source": [
    "START_STOP_FRAME_DF[\"tracked_subject\"] = START_STOP_FRAME_DF[\"tracked_subject\"].apply(lambda x: str(x).split(\"_\"))\n",
    "START_STOP_FRAME_DF[\"current_subject\"] = START_STOP_FRAME_DF[\"tracked_subject\"]"
   ]
  },
  {
   "cell_type": "code",
   "execution_count": 23,
   "metadata": {
    "tags": []
   },
   "outputs": [],
   "source": [
    "START_STOP_FRAME_DF = START_STOP_FRAME_DF.explode(\"current_subject\")"
   ]
  },
  {
   "cell_type": "code",
   "execution_count": 24,
   "metadata": {
    "tags": []
   },
   "outputs": [
    {
     "data": {
      "text/html": [
       "<div>\n",
       "<style scoped>\n",
       "    .dataframe tbody tr th:only-of-type {\n",
       "        vertical-align: middle;\n",
       "    }\n",
       "\n",
       "    .dataframe tbody tr th {\n",
       "        vertical-align: top;\n",
       "    }\n",
       "\n",
       "    .dataframe thead th {\n",
       "        text-align: right;\n",
       "    }\n",
       "</style>\n",
       "<table border=\"1\" class=\"dataframe\">\n",
       "  <thead>\n",
       "    <tr style=\"text-align: right;\">\n",
       "      <th></th>\n",
       "      <th>start_frame</th>\n",
       "      <th>stop_frame</th>\n",
       "      <th>tracked_subject</th>\n",
       "      <th>in_video_subjects</th>\n",
       "      <th>box_number</th>\n",
       "      <th>sleap_name</th>\n",
       "      <th>video_name</th>\n",
       "      <th>current_subject</th>\n",
       "    </tr>\n",
       "  </thead>\n",
       "  <tbody>\n",
       "    <tr>\n",
       "      <th>0</th>\n",
       "      <td>31500</td>\n",
       "      <td>64225</td>\n",
       "      <td>[4.2, 4.3]</td>\n",
       "      <td>4.2_4.3</td>\n",
       "      <td>1</td>\n",
       "      <td>20240320_171038_alone_comp_subj_4-2_and_4-3.1....</td>\n",
       "      <td>20240320_171038_alone_comp_subj_4-2_and_4-3.1</td>\n",
       "      <td>4.2</td>\n",
       "    </tr>\n",
       "    <tr>\n",
       "      <th>0</th>\n",
       "      <td>31500</td>\n",
       "      <td>64225</td>\n",
       "      <td>[4.2, 4.3]</td>\n",
       "      <td>4.2_4.3</td>\n",
       "      <td>1</td>\n",
       "      <td>20240320_171038_alone_comp_subj_4-2_and_4-3.1....</td>\n",
       "      <td>20240320_171038_alone_comp_subj_4-2_and_4-3.1</td>\n",
       "      <td>4.3</td>\n",
       "    </tr>\n",
       "    <tr>\n",
       "      <th>1</th>\n",
       "      <td>31500</td>\n",
       "      <td>63504</td>\n",
       "      <td>[3.1, 3.3]</td>\n",
       "      <td>3.1_3.3</td>\n",
       "      <td>1</td>\n",
       "      <td>20240320_142408_alone_comp_subj_3-1_and_3-3.1....</td>\n",
       "      <td>20240320_142408_alone_comp_subj_3-1_and_3-3.1</td>\n",
       "      <td>3.1</td>\n",
       "    </tr>\n",
       "    <tr>\n",
       "      <th>1</th>\n",
       "      <td>31500</td>\n",
       "      <td>63504</td>\n",
       "      <td>[3.1, 3.3]</td>\n",
       "      <td>3.1_3.3</td>\n",
       "      <td>1</td>\n",
       "      <td>20240320_142408_alone_comp_subj_3-1_and_3-3.1....</td>\n",
       "      <td>20240320_142408_alone_comp_subj_3-1_and_3-3.1</td>\n",
       "      <td>3.3</td>\n",
       "    </tr>\n",
       "    <tr>\n",
       "      <th>2</th>\n",
       "      <td>31500</td>\n",
       "      <td>63314</td>\n",
       "      <td>[3.3, 3.4]</td>\n",
       "      <td>3.3_3.4</td>\n",
       "      <td>1</td>\n",
       "      <td>20240322_120625_alone_comp_subj_3-3_and_3-4.1....</td>\n",
       "      <td>20240322_120625_alone_comp_subj_3-3_and_3-4.1</td>\n",
       "      <td>3.3</td>\n",
       "    </tr>\n",
       "  </tbody>\n",
       "</table>\n",
       "</div>"
      ],
      "text/plain": [
       "   start_frame  stop_frame tracked_subject in_video_subjects  box_number  \\\n",
       "0        31500       64225      [4.2, 4.3]           4.2_4.3           1   \n",
       "0        31500       64225      [4.2, 4.3]           4.2_4.3           1   \n",
       "1        31500       63504      [3.1, 3.3]           3.1_3.3           1   \n",
       "1        31500       63504      [3.1, 3.3]           3.1_3.3           1   \n",
       "2        31500       63314      [3.3, 3.4]           3.3_3.4           1   \n",
       "\n",
       "                                          sleap_name  \\\n",
       "0  20240320_171038_alone_comp_subj_4-2_and_4-3.1....   \n",
       "0  20240320_171038_alone_comp_subj_4-2_and_4-3.1....   \n",
       "1  20240320_142408_alone_comp_subj_3-1_and_3-3.1....   \n",
       "1  20240320_142408_alone_comp_subj_3-1_and_3-3.1....   \n",
       "2  20240322_120625_alone_comp_subj_3-3_and_3-4.1....   \n",
       "\n",
       "                                      video_name current_subject  \n",
       "0  20240320_171038_alone_comp_subj_4-2_and_4-3.1             4.2  \n",
       "0  20240320_171038_alone_comp_subj_4-2_and_4-3.1             4.3  \n",
       "1  20240320_142408_alone_comp_subj_3-1_and_3-3.1             3.1  \n",
       "1  20240320_142408_alone_comp_subj_3-1_and_3-3.1             3.3  \n",
       "2  20240322_120625_alone_comp_subj_3-3_and_3-4.1             3.3  "
      ]
     },
     "execution_count": 24,
     "metadata": {},
     "output_type": "execute_result"
    }
   ],
   "source": [
    "START_STOP_FRAME_DF.head()"
   ]
  },
  {
   "cell_type": "code",
   "execution_count": 25,
   "metadata": {
    "tags": []
   },
   "outputs": [
    {
     "data": {
      "text/plain": [
       "(14, 8)"
      ]
     },
     "execution_count": 25,
     "metadata": {},
     "output_type": "execute_result"
    }
   ],
   "source": [
    "START_STOP_FRAME_DF.shape"
   ]
  },
  {
   "cell_type": "markdown",
   "metadata": {},
   "source": [
    "# Reading in the h5 files between recordings"
   ]
  },
  {
   "cell_type": "code",
   "execution_count": 26,
   "metadata": {
    "tags": []
   },
   "outputs": [],
   "source": [
    "START_STOP_FRAME_DF[\"sleap_glob\"] = START_STOP_FRAME_DF[\"sleap_name\"].apply(lambda x: glob.glob(os.path.join(SLEAP_DIR, \"**\", x)))\n"
   ]
  },
  {
   "cell_type": "code",
   "execution_count": 27,
   "metadata": {
    "tags": []
   },
   "outputs": [],
   "source": [
    "for name in START_STOP_FRAME_DF[START_STOP_FRAME_DF[\"sleap_glob\"].apply(lambda x: len(x) == 0)][\"sleap_name\"]:\n",
    "    print(name)"
   ]
  },
  {
   "cell_type": "code",
   "execution_count": 28,
   "metadata": {
    "tags": []
   },
   "outputs": [],
   "source": [
    "START_STOP_FRAME_DF = START_STOP_FRAME_DF[START_STOP_FRAME_DF['sleap_glob'].apply(lambda x: len(x) >= 1)]\n",
    "START_STOP_FRAME_DF = START_STOP_FRAME_DF.reset_index(drop=True)\n",
    "\n",
    "\n"
   ]
  },
  {
   "cell_type": "code",
   "execution_count": 29,
   "metadata": {},
   "outputs": [],
   "source": [
    "START_STOP_FRAME_DF[\"sleap_path\"] = START_STOP_FRAME_DF[\"sleap_glob\"].apply(lambda x: x[0])"
   ]
  },
  {
   "cell_type": "markdown",
   "metadata": {},
   "source": []
  },
  {
   "cell_type": "code",
   "execution_count": 30,
   "metadata": {},
   "outputs": [],
   "source": [
    "START_STOP_FRAME_DF[\"all_sleap_data\"] = START_STOP_FRAME_DF[\"sleap_path\"].apply(lambda x: sleap.process_pose.extract_sleap_data(x))\n"
   ]
  },
  {
   "cell_type": "code",
   "execution_count": 31,
   "metadata": {
    "tags": []
   },
   "outputs": [],
   "source": [
    "START_STOP_FRAME_DF[\"body_parts\"] = START_STOP_FRAME_DF[\"sleap_path\"].apply(lambda x: sleap.process_pose.get_node_names_from_sleap(x))"
   ]
  },
  {
   "cell_type": "code",
   "execution_count": 32,
   "metadata": {
    "tags": []
   },
   "outputs": [
    {
     "data": {
      "text/plain": [
       "['left_ear', 'right_ear', 'nose', 'tail_base', 'thorax', 'forehead']"
      ]
     },
     "execution_count": 32,
     "metadata": {},
     "output_type": "execute_result"
    }
   ],
   "source": [
    "START_STOP_FRAME_DF[\"body_parts\"].iloc[0]"
   ]
  },
  {
   "cell_type": "code",
   "execution_count": 33,
   "metadata": {},
   "outputs": [],
   "source": [
    "START_STOP_FRAME_DF[\"locations\"] = START_STOP_FRAME_DF[\"all_sleap_data\"].apply(lambda x: x[\"locations\"])"
   ]
  },
  {
   "cell_type": "code",
   "execution_count": 34,
   "metadata": {},
   "outputs": [],
   "source": [
    "START_STOP_FRAME_DF[\"track_names\"] = START_STOP_FRAME_DF[\"all_sleap_data\"].apply(lambda x: x[\"track_names\"])"
   ]
  },
  {
   "cell_type": "code",
   "execution_count": 35,
   "metadata": {
    "tags": []
   },
   "outputs": [
    {
     "data": {
      "text/plain": [
       "(64255, 6, 2, 2)"
      ]
     },
     "execution_count": 35,
     "metadata": {},
     "output_type": "execute_result"
    }
   ],
   "source": [
    "START_STOP_FRAME_DF[\"locations\"].iloc[0].shape"
   ]
  },
  {
   "cell_type": "code",
   "execution_count": 36,
   "metadata": {
    "tags": []
   },
   "outputs": [
    {
     "data": {
      "text/html": [
       "<div>\n",
       "<style scoped>\n",
       "    .dataframe tbody tr th:only-of-type {\n",
       "        vertical-align: middle;\n",
       "    }\n",
       "\n",
       "    .dataframe tbody tr th {\n",
       "        vertical-align: top;\n",
       "    }\n",
       "\n",
       "    .dataframe thead th {\n",
       "        text-align: right;\n",
       "    }\n",
       "</style>\n",
       "<table border=\"1\" class=\"dataframe\">\n",
       "  <thead>\n",
       "    <tr style=\"text-align: right;\">\n",
       "      <th></th>\n",
       "      <th>start_frame</th>\n",
       "      <th>stop_frame</th>\n",
       "      <th>tracked_subject</th>\n",
       "      <th>in_video_subjects</th>\n",
       "      <th>box_number</th>\n",
       "      <th>sleap_name</th>\n",
       "      <th>video_name</th>\n",
       "      <th>current_subject</th>\n",
       "      <th>sleap_glob</th>\n",
       "      <th>sleap_path</th>\n",
       "      <th>all_sleap_data</th>\n",
       "      <th>body_parts</th>\n",
       "      <th>locations</th>\n",
       "      <th>track_names</th>\n",
       "    </tr>\n",
       "  </thead>\n",
       "  <tbody>\n",
       "    <tr>\n",
       "      <th>0</th>\n",
       "      <td>31500</td>\n",
       "      <td>64225</td>\n",
       "      <td>[4.2, 4.3]</td>\n",
       "      <td>4.2_4.3</td>\n",
       "      <td>1</td>\n",
       "      <td>20240320_171038_alone_comp_subj_4-2_and_4-3.1....</td>\n",
       "      <td>20240320_171038_alone_comp_subj_4-2_and_4-3.1</td>\n",
       "      <td>4.2</td>\n",
       "      <td>[/scratch/back_up/reward_competition_extention...</td>\n",
       "      <td>/scratch/back_up/reward_competition_extention/...</td>\n",
       "      <td>{'locations': [[[[         nan 683.03253174]\n",
       " ...</td>\n",
       "      <td>[left_ear, right_ear, nose, tail_base, thorax,...</td>\n",
       "      <td>[[[[         nan 683.03253174], [         nan ...</td>\n",
       "      <td>[4.2, 4.3]</td>\n",
       "    </tr>\n",
       "    <tr>\n",
       "      <th>1</th>\n",
       "      <td>31500</td>\n",
       "      <td>64225</td>\n",
       "      <td>[4.2, 4.3]</td>\n",
       "      <td>4.2_4.3</td>\n",
       "      <td>1</td>\n",
       "      <td>20240320_171038_alone_comp_subj_4-2_and_4-3.1....</td>\n",
       "      <td>20240320_171038_alone_comp_subj_4-2_and_4-3.1</td>\n",
       "      <td>4.3</td>\n",
       "      <td>[/scratch/back_up/reward_competition_extention...</td>\n",
       "      <td>/scratch/back_up/reward_competition_extention/...</td>\n",
       "      <td>{'locations': [[[[         nan 683.03253174]\n",
       " ...</td>\n",
       "      <td>[left_ear, right_ear, nose, tail_base, thorax,...</td>\n",
       "      <td>[[[[         nan 683.03253174], [         nan ...</td>\n",
       "      <td>[4.2, 4.3]</td>\n",
       "    </tr>\n",
       "    <tr>\n",
       "      <th>2</th>\n",
       "      <td>31500</td>\n",
       "      <td>63504</td>\n",
       "      <td>[3.1, 3.3]</td>\n",
       "      <td>3.1_3.3</td>\n",
       "      <td>1</td>\n",
       "      <td>20240320_142408_alone_comp_subj_3-1_and_3-3.1....</td>\n",
       "      <td>20240320_142408_alone_comp_subj_3-1_and_3-3.1</td>\n",
       "      <td>3.1</td>\n",
       "      <td>[/scratch/back_up/reward_competition_extention...</td>\n",
       "      <td>/scratch/back_up/reward_competition_extention/...</td>\n",
       "      <td>{'locations': [[[[863.85253906 842.878479  ]\n",
       " ...</td>\n",
       "      <td>[left_ear, right_ear, nose, tail_base, thorax,...</td>\n",
       "      <td>[[[[863.85253906 842.878479  ], [248.02696228 ...</td>\n",
       "      <td>[3.1, 3.3]</td>\n",
       "    </tr>\n",
       "    <tr>\n",
       "      <th>3</th>\n",
       "      <td>31500</td>\n",
       "      <td>63504</td>\n",
       "      <td>[3.1, 3.3]</td>\n",
       "      <td>3.1_3.3</td>\n",
       "      <td>1</td>\n",
       "      <td>20240320_142408_alone_comp_subj_3-1_and_3-3.1....</td>\n",
       "      <td>20240320_142408_alone_comp_subj_3-1_and_3-3.1</td>\n",
       "      <td>3.3</td>\n",
       "      <td>[/scratch/back_up/reward_competition_extention...</td>\n",
       "      <td>/scratch/back_up/reward_competition_extention/...</td>\n",
       "      <td>{'locations': [[[[863.85253906 842.878479  ]\n",
       " ...</td>\n",
       "      <td>[left_ear, right_ear, nose, tail_base, thorax,...</td>\n",
       "      <td>[[[[863.85253906 842.878479  ], [248.02696228 ...</td>\n",
       "      <td>[3.1, 3.3]</td>\n",
       "    </tr>\n",
       "    <tr>\n",
       "      <th>4</th>\n",
       "      <td>31500</td>\n",
       "      <td>63314</td>\n",
       "      <td>[3.3, 3.4]</td>\n",
       "      <td>3.3_3.4</td>\n",
       "      <td>1</td>\n",
       "      <td>20240322_120625_alone_comp_subj_3-3_and_3-4.1....</td>\n",
       "      <td>20240322_120625_alone_comp_subj_3-3_and_3-4.1</td>\n",
       "      <td>3.3</td>\n",
       "      <td>[/scratch/back_up/reward_competition_extention...</td>\n",
       "      <td>/scratch/back_up/reward_competition_extention/...</td>\n",
       "      <td>{'locations': [[[[         nan 480.05395508]\n",
       " ...</td>\n",
       "      <td>[left_ear, right_ear, nose, tail_base, thorax,...</td>\n",
       "      <td>[[[[         nan 480.05395508], [         nan ...</td>\n",
       "      <td>[3.3, 3.4]</td>\n",
       "    </tr>\n",
       "  </tbody>\n",
       "</table>\n",
       "</div>"
      ],
      "text/plain": [
       "   start_frame  stop_frame tracked_subject in_video_subjects  box_number  \\\n",
       "0        31500       64225      [4.2, 4.3]           4.2_4.3           1   \n",
       "1        31500       64225      [4.2, 4.3]           4.2_4.3           1   \n",
       "2        31500       63504      [3.1, 3.3]           3.1_3.3           1   \n",
       "3        31500       63504      [3.1, 3.3]           3.1_3.3           1   \n",
       "4        31500       63314      [3.3, 3.4]           3.3_3.4           1   \n",
       "\n",
       "                                          sleap_name  \\\n",
       "0  20240320_171038_alone_comp_subj_4-2_and_4-3.1....   \n",
       "1  20240320_171038_alone_comp_subj_4-2_and_4-3.1....   \n",
       "2  20240320_142408_alone_comp_subj_3-1_and_3-3.1....   \n",
       "3  20240320_142408_alone_comp_subj_3-1_and_3-3.1....   \n",
       "4  20240322_120625_alone_comp_subj_3-3_and_3-4.1....   \n",
       "\n",
       "                                      video_name current_subject  \\\n",
       "0  20240320_171038_alone_comp_subj_4-2_and_4-3.1             4.2   \n",
       "1  20240320_171038_alone_comp_subj_4-2_and_4-3.1             4.3   \n",
       "2  20240320_142408_alone_comp_subj_3-1_and_3-3.1             3.1   \n",
       "3  20240320_142408_alone_comp_subj_3-1_and_3-3.1             3.3   \n",
       "4  20240322_120625_alone_comp_subj_3-3_and_3-4.1             3.3   \n",
       "\n",
       "                                          sleap_glob  \\\n",
       "0  [/scratch/back_up/reward_competition_extention...   \n",
       "1  [/scratch/back_up/reward_competition_extention...   \n",
       "2  [/scratch/back_up/reward_competition_extention...   \n",
       "3  [/scratch/back_up/reward_competition_extention...   \n",
       "4  [/scratch/back_up/reward_competition_extention...   \n",
       "\n",
       "                                          sleap_path  \\\n",
       "0  /scratch/back_up/reward_competition_extention/...   \n",
       "1  /scratch/back_up/reward_competition_extention/...   \n",
       "2  /scratch/back_up/reward_competition_extention/...   \n",
       "3  /scratch/back_up/reward_competition_extention/...   \n",
       "4  /scratch/back_up/reward_competition_extention/...   \n",
       "\n",
       "                                      all_sleap_data  \\\n",
       "0  {'locations': [[[[         nan 683.03253174]\n",
       " ...   \n",
       "1  {'locations': [[[[         nan 683.03253174]\n",
       " ...   \n",
       "2  {'locations': [[[[863.85253906 842.878479  ]\n",
       " ...   \n",
       "3  {'locations': [[[[863.85253906 842.878479  ]\n",
       " ...   \n",
       "4  {'locations': [[[[         nan 480.05395508]\n",
       " ...   \n",
       "\n",
       "                                          body_parts  \\\n",
       "0  [left_ear, right_ear, nose, tail_base, thorax,...   \n",
       "1  [left_ear, right_ear, nose, tail_base, thorax,...   \n",
       "2  [left_ear, right_ear, nose, tail_base, thorax,...   \n",
       "3  [left_ear, right_ear, nose, tail_base, thorax,...   \n",
       "4  [left_ear, right_ear, nose, tail_base, thorax,...   \n",
       "\n",
       "                                           locations track_names  \n",
       "0  [[[[         nan 683.03253174], [         nan ...  [4.2, 4.3]  \n",
       "1  [[[[         nan 683.03253174], [         nan ...  [4.2, 4.3]  \n",
       "2  [[[[863.85253906 842.878479  ], [248.02696228 ...  [3.1, 3.3]  \n",
       "3  [[[[863.85253906 842.878479  ], [248.02696228 ...  [3.1, 3.3]  \n",
       "4  [[[[         nan 480.05395508], [         nan ...  [3.3, 3.4]  "
      ]
     },
     "execution_count": 36,
     "metadata": {},
     "output_type": "execute_result"
    }
   ],
   "source": [
    "START_STOP_FRAME_DF.head()"
   ]
  },
  {
   "cell_type": "code",
   "execution_count": 37,
   "metadata": {},
   "outputs": [],
   "source": [
    "# Getting the indexes of each subject from the track list\n",
    "START_STOP_FRAME_DF[\"subject_to_index\"] = START_STOP_FRAME_DF.apply(lambda x: {k: x[\"track_names\"].index(k) for k in x[\"tracked_subject\"] if k in x[\"track_names\"]}, axis=1)"
   ]
  },
  {
   "cell_type": "code",
   "execution_count": 38,
   "metadata": {},
   "outputs": [
    {
     "data": {
      "text/plain": [
       "0    {'4.2': 0, '4.3': 1}\n",
       "1    {'4.2': 0, '4.3': 1}\n",
       "2    {'3.1': 0, '3.3': 1}\n",
       "3    {'3.1': 0, '3.3': 1}\n",
       "4    {'3.3': 0, '3.4': 1}\n",
       "Name: subject_to_index, dtype: object"
      ]
     },
     "execution_count": 38,
     "metadata": {},
     "output_type": "execute_result"
    }
   ],
   "source": [
    "START_STOP_FRAME_DF[\"subject_to_index\"].head()"
   ]
  },
  {
   "cell_type": "code",
   "execution_count": 39,
   "metadata": {},
   "outputs": [],
   "source": [
    "START_STOP_FRAME_DF[\"subject_to_tracks\"] = START_STOP_FRAME_DF.apply(lambda x: {k:v for k, v in x[\"subject_to_index\"].items()}, axis=1)"
   ]
  },
  {
   "cell_type": "code",
   "execution_count": 40,
   "metadata": {},
   "outputs": [],
   "source": [
    "START_STOP_FRAME_DF[\"subject_to_tracks\"] = START_STOP_FRAME_DF.apply(lambda x: {k: x[\"locations\"][:,:,:,v] for k, v in x[\"subject_to_index\"].items()}, axis=1)"
   ]
  },
  {
   "cell_type": "code",
   "execution_count": 41,
   "metadata": {},
   "outputs": [
    {
     "data": {
      "text/plain": [
       "0    {'4.2': [[[nan nan], [nan nan], [nan nan], [na...\n",
       "1    {'4.2': [[[nan nan], [nan nan], [nan nan], [na...\n",
       "2    {'3.1': [[[863.85253906 248.02696228], [880.06...\n",
       "3    {'3.1': [[[863.85253906 248.02696228], [880.06...\n",
       "4    {'3.3': [[[nan nan], [nan nan], [nan nan], [na...\n",
       "Name: subject_to_tracks, dtype: object"
      ]
     },
     "execution_count": 41,
     "metadata": {},
     "output_type": "execute_result"
    }
   ],
   "source": [
    "START_STOP_FRAME_DF[\"subject_to_tracks\"].head()"
   ]
  },
  {
   "cell_type": "code",
   "execution_count": 42,
   "metadata": {
    "tags": []
   },
   "outputs": [
    {
     "data": {
      "text/plain": [
       "0    (4.2, 4.3)\n",
       "1    (4.2, 4.3)\n",
       "2    (3.1, 3.3)\n",
       "3    (3.1, 3.3)\n",
       "4    (3.3, 3.4)\n",
       "Name: subject_to_tracks, dtype: object"
      ]
     },
     "execution_count": 42,
     "metadata": {},
     "output_type": "execute_result"
    }
   ],
   "source": [
    "START_STOP_FRAME_DF[\"subject_to_tracks\"].apply(lambda x: x.keys()).head()"
   ]
  },
  {
   "cell_type": "code",
   "execution_count": 43,
   "metadata": {},
   "outputs": [
    {
     "data": {
      "text/html": [
       "<div>\n",
       "<style scoped>\n",
       "    .dataframe tbody tr th:only-of-type {\n",
       "        vertical-align: middle;\n",
       "    }\n",
       "\n",
       "    .dataframe tbody tr th {\n",
       "        vertical-align: top;\n",
       "    }\n",
       "\n",
       "    .dataframe thead th {\n",
       "        text-align: right;\n",
       "    }\n",
       "</style>\n",
       "<table border=\"1\" class=\"dataframe\">\n",
       "  <thead>\n",
       "    <tr style=\"text-align: right;\">\n",
       "      <th></th>\n",
       "      <th>start_frame</th>\n",
       "      <th>stop_frame</th>\n",
       "      <th>tracked_subject</th>\n",
       "      <th>in_video_subjects</th>\n",
       "      <th>box_number</th>\n",
       "      <th>sleap_name</th>\n",
       "      <th>video_name</th>\n",
       "      <th>current_subject</th>\n",
       "      <th>sleap_glob</th>\n",
       "      <th>sleap_path</th>\n",
       "      <th>all_sleap_data</th>\n",
       "      <th>body_parts</th>\n",
       "      <th>locations</th>\n",
       "      <th>track_names</th>\n",
       "      <th>subject_to_index</th>\n",
       "      <th>subject_to_tracks</th>\n",
       "    </tr>\n",
       "  </thead>\n",
       "  <tbody>\n",
       "    <tr>\n",
       "      <th>0</th>\n",
       "      <td>31500</td>\n",
       "      <td>64225</td>\n",
       "      <td>[4.2, 4.3]</td>\n",
       "      <td>4.2_4.3</td>\n",
       "      <td>1</td>\n",
       "      <td>20240320_171038_alone_comp_subj_4-2_and_4-3.1....</td>\n",
       "      <td>20240320_171038_alone_comp_subj_4-2_and_4-3.1</td>\n",
       "      <td>4.2</td>\n",
       "      <td>[/scratch/back_up/reward_competition_extention...</td>\n",
       "      <td>/scratch/back_up/reward_competition_extention/...</td>\n",
       "      <td>{'locations': [[[[         nan 683.03253174]\n",
       " ...</td>\n",
       "      <td>[left_ear, right_ear, nose, tail_base, thorax,...</td>\n",
       "      <td>[[[[         nan 683.03253174], [         nan ...</td>\n",
       "      <td>[4.2, 4.3]</td>\n",
       "      <td>{'4.2': 0, '4.3': 1}</td>\n",
       "      <td>{'4.2': [[[nan nan], [nan nan], [nan nan], [na...</td>\n",
       "    </tr>\n",
       "    <tr>\n",
       "      <th>1</th>\n",
       "      <td>31500</td>\n",
       "      <td>64225</td>\n",
       "      <td>[4.2, 4.3]</td>\n",
       "      <td>4.2_4.3</td>\n",
       "      <td>1</td>\n",
       "      <td>20240320_171038_alone_comp_subj_4-2_and_4-3.1....</td>\n",
       "      <td>20240320_171038_alone_comp_subj_4-2_and_4-3.1</td>\n",
       "      <td>4.3</td>\n",
       "      <td>[/scratch/back_up/reward_competition_extention...</td>\n",
       "      <td>/scratch/back_up/reward_competition_extention/...</td>\n",
       "      <td>{'locations': [[[[         nan 683.03253174]\n",
       " ...</td>\n",
       "      <td>[left_ear, right_ear, nose, tail_base, thorax,...</td>\n",
       "      <td>[[[[         nan 683.03253174], [         nan ...</td>\n",
       "      <td>[4.2, 4.3]</td>\n",
       "      <td>{'4.2': 0, '4.3': 1}</td>\n",
       "      <td>{'4.2': [[[nan nan], [nan nan], [nan nan], [na...</td>\n",
       "    </tr>\n",
       "    <tr>\n",
       "      <th>2</th>\n",
       "      <td>31500</td>\n",
       "      <td>63504</td>\n",
       "      <td>[3.1, 3.3]</td>\n",
       "      <td>3.1_3.3</td>\n",
       "      <td>1</td>\n",
       "      <td>20240320_142408_alone_comp_subj_3-1_and_3-3.1....</td>\n",
       "      <td>20240320_142408_alone_comp_subj_3-1_and_3-3.1</td>\n",
       "      <td>3.1</td>\n",
       "      <td>[/scratch/back_up/reward_competition_extention...</td>\n",
       "      <td>/scratch/back_up/reward_competition_extention/...</td>\n",
       "      <td>{'locations': [[[[863.85253906 842.878479  ]\n",
       " ...</td>\n",
       "      <td>[left_ear, right_ear, nose, tail_base, thorax,...</td>\n",
       "      <td>[[[[863.85253906 842.878479  ], [248.02696228 ...</td>\n",
       "      <td>[3.1, 3.3]</td>\n",
       "      <td>{'3.1': 0, '3.3': 1}</td>\n",
       "      <td>{'3.1': [[[863.85253906 248.02696228], [880.06...</td>\n",
       "    </tr>\n",
       "    <tr>\n",
       "      <th>3</th>\n",
       "      <td>31500</td>\n",
       "      <td>63504</td>\n",
       "      <td>[3.1, 3.3]</td>\n",
       "      <td>3.1_3.3</td>\n",
       "      <td>1</td>\n",
       "      <td>20240320_142408_alone_comp_subj_3-1_and_3-3.1....</td>\n",
       "      <td>20240320_142408_alone_comp_subj_3-1_and_3-3.1</td>\n",
       "      <td>3.3</td>\n",
       "      <td>[/scratch/back_up/reward_competition_extention...</td>\n",
       "      <td>/scratch/back_up/reward_competition_extention/...</td>\n",
       "      <td>{'locations': [[[[863.85253906 842.878479  ]\n",
       " ...</td>\n",
       "      <td>[left_ear, right_ear, nose, tail_base, thorax,...</td>\n",
       "      <td>[[[[863.85253906 842.878479  ], [248.02696228 ...</td>\n",
       "      <td>[3.1, 3.3]</td>\n",
       "      <td>{'3.1': 0, '3.3': 1}</td>\n",
       "      <td>{'3.1': [[[863.85253906 248.02696228], [880.06...</td>\n",
       "    </tr>\n",
       "    <tr>\n",
       "      <th>4</th>\n",
       "      <td>31500</td>\n",
       "      <td>63314</td>\n",
       "      <td>[3.3, 3.4]</td>\n",
       "      <td>3.3_3.4</td>\n",
       "      <td>1</td>\n",
       "      <td>20240322_120625_alone_comp_subj_3-3_and_3-4.1....</td>\n",
       "      <td>20240322_120625_alone_comp_subj_3-3_and_3-4.1</td>\n",
       "      <td>3.3</td>\n",
       "      <td>[/scratch/back_up/reward_competition_extention...</td>\n",
       "      <td>/scratch/back_up/reward_competition_extention/...</td>\n",
       "      <td>{'locations': [[[[         nan 480.05395508]\n",
       " ...</td>\n",
       "      <td>[left_ear, right_ear, nose, tail_base, thorax,...</td>\n",
       "      <td>[[[[         nan 480.05395508], [         nan ...</td>\n",
       "      <td>[3.3, 3.4]</td>\n",
       "      <td>{'3.3': 0, '3.4': 1}</td>\n",
       "      <td>{'3.3': [[[nan nan], [nan nan], [nan nan], [na...</td>\n",
       "    </tr>\n",
       "  </tbody>\n",
       "</table>\n",
       "</div>"
      ],
      "text/plain": [
       "   start_frame  stop_frame tracked_subject in_video_subjects  box_number  \\\n",
       "0        31500       64225      [4.2, 4.3]           4.2_4.3           1   \n",
       "1        31500       64225      [4.2, 4.3]           4.2_4.3           1   \n",
       "2        31500       63504      [3.1, 3.3]           3.1_3.3           1   \n",
       "3        31500       63504      [3.1, 3.3]           3.1_3.3           1   \n",
       "4        31500       63314      [3.3, 3.4]           3.3_3.4           1   \n",
       "\n",
       "                                          sleap_name  \\\n",
       "0  20240320_171038_alone_comp_subj_4-2_and_4-3.1....   \n",
       "1  20240320_171038_alone_comp_subj_4-2_and_4-3.1....   \n",
       "2  20240320_142408_alone_comp_subj_3-1_and_3-3.1....   \n",
       "3  20240320_142408_alone_comp_subj_3-1_and_3-3.1....   \n",
       "4  20240322_120625_alone_comp_subj_3-3_and_3-4.1....   \n",
       "\n",
       "                                      video_name current_subject  \\\n",
       "0  20240320_171038_alone_comp_subj_4-2_and_4-3.1             4.2   \n",
       "1  20240320_171038_alone_comp_subj_4-2_and_4-3.1             4.3   \n",
       "2  20240320_142408_alone_comp_subj_3-1_and_3-3.1             3.1   \n",
       "3  20240320_142408_alone_comp_subj_3-1_and_3-3.1             3.3   \n",
       "4  20240322_120625_alone_comp_subj_3-3_and_3-4.1             3.3   \n",
       "\n",
       "                                          sleap_glob  \\\n",
       "0  [/scratch/back_up/reward_competition_extention...   \n",
       "1  [/scratch/back_up/reward_competition_extention...   \n",
       "2  [/scratch/back_up/reward_competition_extention...   \n",
       "3  [/scratch/back_up/reward_competition_extention...   \n",
       "4  [/scratch/back_up/reward_competition_extention...   \n",
       "\n",
       "                                          sleap_path  \\\n",
       "0  /scratch/back_up/reward_competition_extention/...   \n",
       "1  /scratch/back_up/reward_competition_extention/...   \n",
       "2  /scratch/back_up/reward_competition_extention/...   \n",
       "3  /scratch/back_up/reward_competition_extention/...   \n",
       "4  /scratch/back_up/reward_competition_extention/...   \n",
       "\n",
       "                                      all_sleap_data  \\\n",
       "0  {'locations': [[[[         nan 683.03253174]\n",
       " ...   \n",
       "1  {'locations': [[[[         nan 683.03253174]\n",
       " ...   \n",
       "2  {'locations': [[[[863.85253906 842.878479  ]\n",
       " ...   \n",
       "3  {'locations': [[[[863.85253906 842.878479  ]\n",
       " ...   \n",
       "4  {'locations': [[[[         nan 480.05395508]\n",
       " ...   \n",
       "\n",
       "                                          body_parts  \\\n",
       "0  [left_ear, right_ear, nose, tail_base, thorax,...   \n",
       "1  [left_ear, right_ear, nose, tail_base, thorax,...   \n",
       "2  [left_ear, right_ear, nose, tail_base, thorax,...   \n",
       "3  [left_ear, right_ear, nose, tail_base, thorax,...   \n",
       "4  [left_ear, right_ear, nose, tail_base, thorax,...   \n",
       "\n",
       "                                           locations track_names  \\\n",
       "0  [[[[         nan 683.03253174], [         nan ...  [4.2, 4.3]   \n",
       "1  [[[[         nan 683.03253174], [         nan ...  [4.2, 4.3]   \n",
       "2  [[[[863.85253906 842.878479  ], [248.02696228 ...  [3.1, 3.3]   \n",
       "3  [[[[863.85253906 842.878479  ], [248.02696228 ...  [3.1, 3.3]   \n",
       "4  [[[[         nan 480.05395508], [         nan ...  [3.3, 3.4]   \n",
       "\n",
       "       subject_to_index                                  subject_to_tracks  \n",
       "0  {'4.2': 0, '4.3': 1}  {'4.2': [[[nan nan], [nan nan], [nan nan], [na...  \n",
       "1  {'4.2': 0, '4.3': 1}  {'4.2': [[[nan nan], [nan nan], [nan nan], [na...  \n",
       "2  {'3.1': 0, '3.3': 1}  {'3.1': [[[863.85253906 248.02696228], [880.06...  \n",
       "3  {'3.1': 0, '3.3': 1}  {'3.1': [[[863.85253906 248.02696228], [880.06...  \n",
       "4  {'3.3': 0, '3.4': 1}  {'3.3': [[[nan nan], [nan nan], [nan nan], [na...  "
      ]
     },
     "execution_count": 43,
     "metadata": {},
     "output_type": "execute_result"
    }
   ],
   "source": [
    "START_STOP_FRAME_DF.head()"
   ]
  },
  {
   "cell_type": "markdown",
   "metadata": {},
   "source": [
    "## Getting the coordinates of the corners"
   ]
  },
  {
   "cell_type": "code",
   "execution_count": 44,
   "metadata": {},
   "outputs": [
    {
     "data": {
      "text/plain": [
       "'/scratch/back_up/reward_competition_extention/final_proc/id_corrected/rce3/20240320_171038_alone_comp_subj_4-2_and_4-3/20240320_171038_alone_comp_subj_4-2_and_4-3.1.fixed.2_subj.round_3.id_corrected.h5'"
      ]
     },
     "execution_count": 44,
     "metadata": {},
     "output_type": "execute_result"
    }
   ],
   "source": [
    "START_STOP_FRAME_DF[\"sleap_path\"].iloc[0]"
   ]
  },
  {
   "cell_type": "code",
   "execution_count": 45,
   "metadata": {},
   "outputs": [],
   "source": [
    "# Each corner file is the in the same folder and has the same basename of the pose tracking file \n",
    "START_STOP_FRAME_DF[\"corner_path\"] = START_STOP_FRAME_DF[\"sleap_path\"].apply(lambda x: x.replace(\"id_corrected.h5\", \"corner.h5\").replace(\".fixed\", \"\").replace(\".round_1\", \"\").replace(\".1_subj\", \"\").replace(\".2_subj\", \"\").replace(\".round_3\", \"\"))\n"
   ]
  },
  {
   "cell_type": "code",
   "execution_count": 46,
   "metadata": {},
   "outputs": [
    {
     "data": {
      "text/plain": [
       "'/scratch/back_up/reward_competition_extention/final_proc/id_corrected/rce3/20240320_171038_alone_comp_subj_4-2_and_4-3/20240320_171038_alone_comp_subj_4-2_and_4-3.1.corner.h5'"
      ]
     },
     "execution_count": 46,
     "metadata": {},
     "output_type": "execute_result"
    }
   ],
   "source": [
    "START_STOP_FRAME_DF[\"corner_path\"].iloc[0]"
   ]
  },
  {
   "cell_type": "code",
   "execution_count": 47,
   "metadata": {},
   "outputs": [],
   "source": [
    "# Getting the indexes of each corner location\n",
    "START_STOP_FRAME_DF[\"corner_parts\"] = START_STOP_FRAME_DF[\"corner_path\"].apply(lambda x: sleap.process_pose.get_node_names_from_sleap(x))"
   ]
  },
  {
   "cell_type": "code",
   "execution_count": 48,
   "metadata": {
    "tags": []
   },
   "outputs": [
    {
     "data": {
      "text/plain": [
       "0     20240320_171038_alone_comp_subj_4-2_and_4-3.1\n",
       "1     20240320_171038_alone_comp_subj_4-2_and_4-3.1\n",
       "2     20240320_142408_alone_comp_subj_3-1_and_3-3.1\n",
       "3     20240320_142408_alone_comp_subj_3-1_and_3-3.1\n",
       "4     20240322_120625_alone_comp_subj_3-3_and_3-4.1\n",
       "5     20240322_120625_alone_comp_subj_3-3_and_3-4.1\n",
       "6     20240322_160946_alone_comp_subj_4-3_and_4-4.1\n",
       "7     20240322_160946_alone_comp_subj_4-3_and_4-4.1\n",
       "8     20240323_122227_alone_comp_subj_5-2_and_5-3.1\n",
       "9     20240323_122227_alone_comp_subj_5-2_and_5-3.1\n",
       "10    20240323_144517_alone_comp_subj_3-1_and_3-4.1\n",
       "11    20240323_144517_alone_comp_subj_3-1_and_3-4.1\n",
       "12    20240323_165815_alone_comp_subj_4-2_and_4-4.1\n",
       "13    20240323_165815_alone_comp_subj_4-2_and_4-4.1\n",
       "Name: video_name, dtype: object"
      ]
     },
     "execution_count": 48,
     "metadata": {},
     "output_type": "execute_result"
    }
   ],
   "source": [
    "START_STOP_FRAME_DF[\"video_name\"]"
   ]
  },
  {
   "cell_type": "code",
   "execution_count": 49,
   "metadata": {},
   "outputs": [
    {
     "data": {
      "text/plain": [
       "0     [box_top_right, box_bottom_right, box_top_left...\n",
       "1     [box_top_right, box_bottom_right, box_top_left...\n",
       "2     [box_top_right, box_bottom_right, box_top_left...\n",
       "3     [box_top_right, box_bottom_right, box_top_left...\n",
       "4     [box_top_right, box_bottom_right, box_top_left...\n",
       "5     [box_top_right, box_bottom_right, box_top_left...\n",
       "6     [box_top_right, box_bottom_right, box_top_left...\n",
       "7     [box_top_right, box_bottom_right, box_top_left...\n",
       "8     [box_top_right, box_bottom_right, box_top_left...\n",
       "9     [box_top_right, box_bottom_right, box_top_left...\n",
       "10    [box_top_right, box_bottom_right, box_top_left...\n",
       "11    [box_top_right, box_bottom_right, box_top_left...\n",
       "12    [box_top_right, box_bottom_right, box_top_left...\n",
       "13    [box_top_right, box_bottom_right, box_top_left...\n",
       "Name: corner_parts, dtype: object"
      ]
     },
     "execution_count": 49,
     "metadata": {},
     "output_type": "execute_result"
    }
   ],
   "source": [
    "START_STOP_FRAME_DF[\"corner_parts\"]"
   ]
  },
  {
   "cell_type": "code",
   "execution_count": 50,
   "metadata": {
    "tags": []
   },
   "outputs": [],
   "source": [
    "# TODO: Remove this once corner files are fixed\n",
    "START_STOP_FRAME_DF = START_STOP_FRAME_DF[START_STOP_FRAME_DF[\"corner_parts\"].apply(lambda x: \"reward_port\" in x)]"
   ]
  },
  {
   "cell_type": "code",
   "execution_count": 51,
   "metadata": {},
   "outputs": [],
   "source": [
    "# Getting the coordinates of all the corners\n",
    "START_STOP_FRAME_DF[\"corner_to_coordinate\"] = START_STOP_FRAME_DF[\"corner_path\"].apply(lambda x: sleap.process_pose.get_sleap_tracks_from_h5(x))"
   ]
  },
  {
   "cell_type": "code",
   "execution_count": 52,
   "metadata": {},
   "outputs": [],
   "source": [
    "# Parsing out each corner and creating a dictionary of name to coordinates\n",
    "START_STOP_FRAME_DF[\"corner_to_coordinate\"] = START_STOP_FRAME_DF.apply(lambda x: {part: x[\"corner_to_coordinate\"][:,index,:,:] for index, part in enumerate(x[\"corner_parts\"])}, axis=1)"
   ]
  },
  {
   "cell_type": "code",
   "execution_count": 53,
   "metadata": {
    "tags": []
   },
   "outputs": [
    {
     "data": {
      "text/plain": [
       "0     {'box_top_right': [[[786.93568988], [138.79375...\n",
       "1     {'box_top_right': [[[786.93568988], [138.79375...\n",
       "2     {'box_top_right': [[[794.69379489], [140.52399...\n",
       "3     {'box_top_right': [[[794.69379489], [140.52399...\n",
       "4     {'box_top_right': [[[794.99204066], [146.36912...\n",
       "5     {'box_top_right': [[[794.99204066], [146.36912...\n",
       "6     {'box_top_right': [[[791.77604498], [147.79694...\n",
       "7     {'box_top_right': [[[791.77604498], [147.79694...\n",
       "8     {'box_top_right': [[[798.31429824], [143.32778...\n",
       "9     {'box_top_right': [[[798.31429824], [143.32778...\n",
       "10    {'box_top_right': [[[797.85866946], [146.93354...\n",
       "11    {'box_top_right': [[[797.85866946], [146.93354...\n",
       "12    {'box_top_right': [[[798.1168476], [144.988990...\n",
       "13    {'box_top_right': [[[798.1168476], [144.988990...\n",
       "Name: corner_to_coordinate, dtype: object"
      ]
     },
     "execution_count": 53,
     "metadata": {},
     "output_type": "execute_result"
    }
   ],
   "source": [
    "START_STOP_FRAME_DF[\"corner_to_coordinate\"]"
   ]
  },
  {
   "cell_type": "code",
   "execution_count": 54,
   "metadata": {},
   "outputs": [],
   "source": [
    "# Filtering out all the Nans because there's only one labeled frame\n",
    "START_STOP_FRAME_DF[\"corner_to_coordinate\"] = START_STOP_FRAME_DF.apply(lambda x: {k: v[~np.isnan(v)][:2] for k, v in x[\"corner_to_coordinate\"].items()}, axis=1)"
   ]
  },
  {
   "cell_type": "code",
   "execution_count": 55,
   "metadata": {},
   "outputs": [
    {
     "data": {
      "text/plain": [
       "0     {'box_top_right': [786.9356898768796, 138.7937...\n",
       "1     {'box_top_right': [786.9356898768796, 138.7937...\n",
       "2     {'box_top_right': [794.6937948883963, 140.5239...\n",
       "3     {'box_top_right': [794.6937948883963, 140.5239...\n",
       "4     {'box_top_right': [794.9920406619647, 146.3691...\n",
       "5     {'box_top_right': [794.9920406619647, 146.3691...\n",
       "6     {'box_top_right': [791.7760449834286, 147.7969...\n",
       "7     {'box_top_right': [791.7760449834286, 147.7969...\n",
       "8     {'box_top_right': [798.3142982402522, 143.3277...\n",
       "9     {'box_top_right': [798.3142982402522, 143.3277...\n",
       "10    {'box_top_right': [797.8586694592238, 146.9335...\n",
       "11    {'box_top_right': [797.8586694592238, 146.9335...\n",
       "12    {'box_top_right': [798.1168475953126, 144.9889...\n",
       "13    {'box_top_right': [798.1168475953126, 144.9889...\n",
       "Name: corner_to_coordinate, dtype: object"
      ]
     },
     "execution_count": 55,
     "metadata": {},
     "output_type": "execute_result"
    }
   ],
   "source": [
    "START_STOP_FRAME_DF[\"corner_to_coordinate\"]"
   ]
  },
  {
   "cell_type": "markdown",
   "metadata": {},
   "source": [
    "# Getting the distances between corners"
   ]
  },
  {
   "cell_type": "markdown",
   "metadata": {},
   "source": [
    "- Getting the average width and height so that we can convert pixels to cm"
   ]
  },
  {
   "cell_type": "code",
   "execution_count": 56,
   "metadata": {},
   "outputs": [],
   "source": [
    "# Using the x-coordinates for the width\n",
    "START_STOP_FRAME_DF[\"bottom_width\"] = START_STOP_FRAME_DF[\"corner_to_coordinate\"].apply(lambda x: x[\"box_bottom_right\"][0] - x[\"box_bottom_left\"][0])\n",
    "START_STOP_FRAME_DF[\"top_width\"] = START_STOP_FRAME_DF[\"corner_to_coordinate\"].apply(lambda x: x[\"box_top_right\"][0] - x[\"box_top_left\"][0])\n"
   ]
  },
  {
   "cell_type": "code",
   "execution_count": 57,
   "metadata": {},
   "outputs": [],
   "source": [
    "# Using the y-coordinates for the height\n",
    "START_STOP_FRAME_DF[\"right_height\"] = START_STOP_FRAME_DF[\"corner_to_coordinate\"].apply(lambda x: x[\"box_bottom_right\"][1] - x[\"box_top_right\"][1])\n",
    "START_STOP_FRAME_DF[\"left_height\"] = START_STOP_FRAME_DF[\"corner_to_coordinate\"].apply(lambda x: x[\"box_bottom_left\"][1] - x[\"box_top_left\"][1])\n"
   ]
  },
  {
   "cell_type": "code",
   "execution_count": 58,
   "metadata": {},
   "outputs": [],
   "source": [
    "# averaging the width and height by adding both sides and then getting the mean\n",
    "START_STOP_FRAME_DF[\"average_height\"] = START_STOP_FRAME_DF.apply(lambda row: (row[\"right_height\"] + row[\"left_height\"])/2, axis=1)\n",
    "START_STOP_FRAME_DF[\"average_width\"] = START_STOP_FRAME_DF.apply(lambda row: (row[\"bottom_width\"] + row[\"top_width\"])/2, axis=1)"
   ]
  },
  {
   "cell_type": "markdown",
   "metadata": {},
   "source": [
    "- Getthing the pixel to cm ratio"
   ]
  },
  {
   "cell_type": "code",
   "execution_count": 59,
   "metadata": {},
   "outputs": [],
   "source": [
    "START_STOP_FRAME_DF[\"width_ratio\"] = MED_PC_WIDTH / START_STOP_FRAME_DF[\"average_width\"]\n",
    "START_STOP_FRAME_DF[\"height_ratio\"] = MED_PC_HEIGHT / START_STOP_FRAME_DF[\"average_height\"]"
   ]
  },
  {
   "cell_type": "code",
   "execution_count": 60,
   "metadata": {},
   "outputs": [
    {
     "data": {
      "text/plain": [
       "0     0.061209\n",
       "1     0.061209\n",
       "2     0.061215\n",
       "3     0.061215\n",
       "4     0.060985\n",
       "5     0.060985\n",
       "6     0.060953\n",
       "7     0.060953\n",
       "8     0.060977\n",
       "9     0.060977\n",
       "10    0.061329\n",
       "11    0.061329\n",
       "12    0.060046\n",
       "13    0.060046\n",
       "Name: height_ratio, dtype: float64"
      ]
     },
     "execution_count": 60,
     "metadata": {},
     "output_type": "execute_result"
    }
   ],
   "source": [
    "START_STOP_FRAME_DF[\"height_ratio\"]"
   ]
  },
  {
   "cell_type": "code",
   "execution_count": 61,
   "metadata": {},
   "outputs": [
    {
     "data": {
      "text/plain": [
       "0     0.094355\n",
       "1     0.094355\n",
       "2     0.093446\n",
       "3     0.093446\n",
       "4     0.093614\n",
       "5     0.093614\n",
       "6     0.093866\n",
       "7     0.093866\n",
       "8     0.092309\n",
       "9     0.092309\n",
       "10    0.092618\n",
       "11    0.092618\n",
       "12    0.093712\n",
       "13    0.093712\n",
       "Name: width_ratio, dtype: float64"
      ]
     },
     "execution_count": 61,
     "metadata": {},
     "output_type": "execute_result"
    }
   ],
   "source": [
    "START_STOP_FRAME_DF[\"width_ratio\"]"
   ]
  },
  {
   "cell_type": "markdown",
   "metadata": {},
   "source": [
    "## Converting Pixels to cm"
   ]
  },
  {
   "cell_type": "code",
   "execution_count": 62,
   "metadata": {
    "tags": []
   },
   "outputs": [],
   "source": [
    "START_STOP_FRAME_DF[\"in_video_subjects\"] = START_STOP_FRAME_DF[\"in_video_subjects\"].apply(lambda x: x.split(\"_\"))"
   ]
  },
  {
   "cell_type": "code",
   "execution_count": 63,
   "metadata": {
    "tags": []
   },
   "outputs": [],
   "source": [
    "START_STOP_FRAME_DF[\"subject_to_tracks\"] = START_STOP_FRAME_DF.apply(lambda x: {k: v for k, v in x[\"subject_to_tracks\"].items() if k in x[\"in_video_subjects\"]}, axis=1)"
   ]
  },
  {
   "cell_type": "markdown",
   "metadata": {},
   "source": [
    "- Converting the X-dimension"
   ]
  },
  {
   "cell_type": "code",
   "execution_count": 64,
   "metadata": {},
   "outputs": [
    {
     "data": {
      "text/plain": [
       "0    {'4.2': [[[nan nan], [nan nan], [nan nan], [na...\n",
       "1    {'4.2': [[[nan nan], [nan nan], [nan nan], [na...\n",
       "2    {'3.1': [[[863.85253906 248.02696228], [880.06...\n",
       "3    {'3.1': [[[863.85253906 248.02696228], [880.06...\n",
       "4    {'3.3': [[[nan nan], [nan nan], [nan nan], [na...\n",
       "Name: subject_to_tracks, dtype: object"
      ]
     },
     "execution_count": 64,
     "metadata": {},
     "output_type": "execute_result"
    }
   ],
   "source": [
    "START_STOP_FRAME_DF[\"subject_to_tracks\"].head()"
   ]
  },
  {
   "cell_type": "code",
   "execution_count": 65,
   "metadata": {},
   "outputs": [],
   "source": [
    "START_STOP_FRAME_DF[\"rescaled_locations\"] = START_STOP_FRAME_DF.apply(lambda x: {key: sleap.process_pose.fill_missing(sleap.process_pose.rescale_dimension_in_array(value, dimension=0, ratio=x[\"width_ratio\"])) for key, value in x[\"subject_to_tracks\"].items()}, axis=1)"
   ]
  },
  {
   "cell_type": "markdown",
   "metadata": {},
   "source": [
    "- Converting the Y-dimension"
   ]
  },
  {
   "cell_type": "code",
   "execution_count": 66,
   "metadata": {},
   "outputs": [],
   "source": [
    "START_STOP_FRAME_DF[\"rescaled_locations\"] = START_STOP_FRAME_DF.apply(lambda x: {key: sleap.process_pose.rescale_dimension_in_array(value, dimension=1, ratio=x[\"height_ratio\"]) for key, value in x[\"rescaled_locations\"].items()}, axis=1)"
   ]
  },
  {
   "cell_type": "code",
   "execution_count": 67,
   "metadata": {},
   "outputs": [
    {
     "data": {
      "text/plain": [
       "0     {'box_top_right': [786.9356898768796, 138.7937...\n",
       "1     {'box_top_right': [786.9356898768796, 138.7937...\n",
       "2     {'box_top_right': [794.6937948883963, 140.5239...\n",
       "3     {'box_top_right': [794.6937948883963, 140.5239...\n",
       "4     {'box_top_right': [794.9920406619647, 146.3691...\n",
       "5     {'box_top_right': [794.9920406619647, 146.3691...\n",
       "6     {'box_top_right': [791.7760449834286, 147.7969...\n",
       "7     {'box_top_right': [791.7760449834286, 147.7969...\n",
       "8     {'box_top_right': [798.3142982402522, 143.3277...\n",
       "9     {'box_top_right': [798.3142982402522, 143.3277...\n",
       "10    {'box_top_right': [797.8586694592238, 146.9335...\n",
       "11    {'box_top_right': [797.8586694592238, 146.9335...\n",
       "12    {'box_top_right': [798.1168475953126, 144.9889...\n",
       "13    {'box_top_right': [798.1168475953126, 144.9889...\n",
       "Name: corner_to_coordinate, dtype: object"
      ]
     },
     "execution_count": 67,
     "metadata": {},
     "output_type": "execute_result"
    }
   ],
   "source": [
    "START_STOP_FRAME_DF[\"corner_to_coordinate\"]"
   ]
  },
  {
   "cell_type": "code",
   "execution_count": 68,
   "metadata": {},
   "outputs": [
    {
     "data": {
      "text/html": [
       "<div>\n",
       "<style scoped>\n",
       "    .dataframe tbody tr th:only-of-type {\n",
       "        vertical-align: middle;\n",
       "    }\n",
       "\n",
       "    .dataframe tbody tr th {\n",
       "        vertical-align: top;\n",
       "    }\n",
       "\n",
       "    .dataframe thead th {\n",
       "        text-align: right;\n",
       "    }\n",
       "</style>\n",
       "<table border=\"1\" class=\"dataframe\">\n",
       "  <thead>\n",
       "    <tr style=\"text-align: right;\">\n",
       "      <th></th>\n",
       "      <th>start_frame</th>\n",
       "      <th>stop_frame</th>\n",
       "      <th>tracked_subject</th>\n",
       "      <th>in_video_subjects</th>\n",
       "      <th>box_number</th>\n",
       "      <th>sleap_name</th>\n",
       "      <th>video_name</th>\n",
       "      <th>current_subject</th>\n",
       "      <th>sleap_glob</th>\n",
       "      <th>sleap_path</th>\n",
       "      <th>...</th>\n",
       "      <th>corner_to_coordinate</th>\n",
       "      <th>bottom_width</th>\n",
       "      <th>top_width</th>\n",
       "      <th>right_height</th>\n",
       "      <th>left_height</th>\n",
       "      <th>average_height</th>\n",
       "      <th>average_width</th>\n",
       "      <th>width_ratio</th>\n",
       "      <th>height_ratio</th>\n",
       "      <th>rescaled_locations</th>\n",
       "    </tr>\n",
       "  </thead>\n",
       "  <tbody>\n",
       "    <tr>\n",
       "      <th>0</th>\n",
       "      <td>31500</td>\n",
       "      <td>64225</td>\n",
       "      <td>[4.2, 4.3]</td>\n",
       "      <td>[4.2, 4.3]</td>\n",
       "      <td>1</td>\n",
       "      <td>20240320_171038_alone_comp_subj_4-2_and_4-3.1....</td>\n",
       "      <td>20240320_171038_alone_comp_subj_4-2_and_4-3.1</td>\n",
       "      <td>4.2</td>\n",
       "      <td>[/scratch/back_up/reward_competition_extention...</td>\n",
       "      <td>/scratch/back_up/reward_competition_extention/...</td>\n",
       "      <td>...</td>\n",
       "      <td>{'box_top_right': [786.9356898768796, 138.7937...</td>\n",
       "      <td>313.180772</td>\n",
       "      <td>312.115659</td>\n",
       "      <td>393.771087</td>\n",
       "      <td>390.423247</td>\n",
       "      <td>392.097167</td>\n",
       "      <td>312.648215</td>\n",
       "      <td>0.094355</td>\n",
       "      <td>0.061209</td>\n",
       "      <td>{'4.2': [[[64.90703525 33.2852899 ], [47.51540...</td>\n",
       "    </tr>\n",
       "    <tr>\n",
       "      <th>1</th>\n",
       "      <td>31500</td>\n",
       "      <td>64225</td>\n",
       "      <td>[4.2, 4.3]</td>\n",
       "      <td>[4.2, 4.3]</td>\n",
       "      <td>1</td>\n",
       "      <td>20240320_171038_alone_comp_subj_4-2_and_4-3.1....</td>\n",
       "      <td>20240320_171038_alone_comp_subj_4-2_and_4-3.1</td>\n",
       "      <td>4.3</td>\n",
       "      <td>[/scratch/back_up/reward_competition_extention...</td>\n",
       "      <td>/scratch/back_up/reward_competition_extention/...</td>\n",
       "      <td>...</td>\n",
       "      <td>{'box_top_right': [786.9356898768796, 138.7937...</td>\n",
       "      <td>313.180772</td>\n",
       "      <td>312.115659</td>\n",
       "      <td>393.771087</td>\n",
       "      <td>390.423247</td>\n",
       "      <td>392.097167</td>\n",
       "      <td>312.648215</td>\n",
       "      <td>0.094355</td>\n",
       "      <td>0.061209</td>\n",
       "      <td>{'4.2': [[[64.90703525 33.2852899 ], [47.51540...</td>\n",
       "    </tr>\n",
       "    <tr>\n",
       "      <th>2</th>\n",
       "      <td>31500</td>\n",
       "      <td>63504</td>\n",
       "      <td>[3.1, 3.3]</td>\n",
       "      <td>[3.1, 3.3]</td>\n",
       "      <td>1</td>\n",
       "      <td>20240320_142408_alone_comp_subj_3-1_and_3-3.1....</td>\n",
       "      <td>20240320_142408_alone_comp_subj_3-1_and_3-3.1</td>\n",
       "      <td>3.1</td>\n",
       "      <td>[/scratch/back_up/reward_competition_extention...</td>\n",
       "      <td>/scratch/back_up/reward_competition_extention/...</td>\n",
       "      <td>...</td>\n",
       "      <td>{'box_top_right': [794.6937948883963, 140.5239...</td>\n",
       "      <td>313.159588</td>\n",
       "      <td>318.222032</td>\n",
       "      <td>392.230308</td>\n",
       "      <td>391.894156</td>\n",
       "      <td>392.062232</td>\n",
       "      <td>315.690810</td>\n",
       "      <td>0.093446</td>\n",
       "      <td>0.061215</td>\n",
       "      <td>{'3.1': [[[80.72344549 15.18291385], [82.23835...</td>\n",
       "    </tr>\n",
       "    <tr>\n",
       "      <th>3</th>\n",
       "      <td>31500</td>\n",
       "      <td>63504</td>\n",
       "      <td>[3.1, 3.3]</td>\n",
       "      <td>[3.1, 3.3]</td>\n",
       "      <td>1</td>\n",
       "      <td>20240320_142408_alone_comp_subj_3-1_and_3-3.1....</td>\n",
       "      <td>20240320_142408_alone_comp_subj_3-1_and_3-3.1</td>\n",
       "      <td>3.3</td>\n",
       "      <td>[/scratch/back_up/reward_competition_extention...</td>\n",
       "      <td>/scratch/back_up/reward_competition_extention/...</td>\n",
       "      <td>...</td>\n",
       "      <td>{'box_top_right': [794.6937948883963, 140.5239...</td>\n",
       "      <td>313.159588</td>\n",
       "      <td>318.222032</td>\n",
       "      <td>392.230308</td>\n",
       "      <td>391.894156</td>\n",
       "      <td>392.062232</td>\n",
       "      <td>315.690810</td>\n",
       "      <td>0.093446</td>\n",
       "      <td>0.061215</td>\n",
       "      <td>{'3.1': [[[80.72344549 15.18291385], [82.23835...</td>\n",
       "    </tr>\n",
       "    <tr>\n",
       "      <th>4</th>\n",
       "      <td>31500</td>\n",
       "      <td>63314</td>\n",
       "      <td>[3.3, 3.4]</td>\n",
       "      <td>[3.3, 3.4]</td>\n",
       "      <td>1</td>\n",
       "      <td>20240322_120625_alone_comp_subj_3-3_and_3-4.1....</td>\n",
       "      <td>20240322_120625_alone_comp_subj_3-3_and_3-4.1</td>\n",
       "      <td>3.3</td>\n",
       "      <td>[/scratch/back_up/reward_competition_extention...</td>\n",
       "      <td>/scratch/back_up/reward_competition_extention/...</td>\n",
       "      <td>...</td>\n",
       "      <td>{'box_top_right': [794.9920406619647, 146.3691...</td>\n",
       "      <td>315.545530</td>\n",
       "      <td>314.702270</td>\n",
       "      <td>395.661099</td>\n",
       "      <td>391.411856</td>\n",
       "      <td>393.536477</td>\n",
       "      <td>315.123900</td>\n",
       "      <td>0.093614</td>\n",
       "      <td>0.060985</td>\n",
       "      <td>{'3.3': [[[42.67602103 38.8675019 ], [55.40950...</td>\n",
       "    </tr>\n",
       "  </tbody>\n",
       "</table>\n",
       "<p>5 rows × 28 columns</p>\n",
       "</div>"
      ],
      "text/plain": [
       "   start_frame  stop_frame tracked_subject in_video_subjects  box_number  \\\n",
       "0        31500       64225      [4.2, 4.3]        [4.2, 4.3]           1   \n",
       "1        31500       64225      [4.2, 4.3]        [4.2, 4.3]           1   \n",
       "2        31500       63504      [3.1, 3.3]        [3.1, 3.3]           1   \n",
       "3        31500       63504      [3.1, 3.3]        [3.1, 3.3]           1   \n",
       "4        31500       63314      [3.3, 3.4]        [3.3, 3.4]           1   \n",
       "\n",
       "                                          sleap_name  \\\n",
       "0  20240320_171038_alone_comp_subj_4-2_and_4-3.1....   \n",
       "1  20240320_171038_alone_comp_subj_4-2_and_4-3.1....   \n",
       "2  20240320_142408_alone_comp_subj_3-1_and_3-3.1....   \n",
       "3  20240320_142408_alone_comp_subj_3-1_and_3-3.1....   \n",
       "4  20240322_120625_alone_comp_subj_3-3_and_3-4.1....   \n",
       "\n",
       "                                      video_name current_subject  \\\n",
       "0  20240320_171038_alone_comp_subj_4-2_and_4-3.1             4.2   \n",
       "1  20240320_171038_alone_comp_subj_4-2_and_4-3.1             4.3   \n",
       "2  20240320_142408_alone_comp_subj_3-1_and_3-3.1             3.1   \n",
       "3  20240320_142408_alone_comp_subj_3-1_and_3-3.1             3.3   \n",
       "4  20240322_120625_alone_comp_subj_3-3_and_3-4.1             3.3   \n",
       "\n",
       "                                          sleap_glob  \\\n",
       "0  [/scratch/back_up/reward_competition_extention...   \n",
       "1  [/scratch/back_up/reward_competition_extention...   \n",
       "2  [/scratch/back_up/reward_competition_extention...   \n",
       "3  [/scratch/back_up/reward_competition_extention...   \n",
       "4  [/scratch/back_up/reward_competition_extention...   \n",
       "\n",
       "                                          sleap_path  ...  \\\n",
       "0  /scratch/back_up/reward_competition_extention/...  ...   \n",
       "1  /scratch/back_up/reward_competition_extention/...  ...   \n",
       "2  /scratch/back_up/reward_competition_extention/...  ...   \n",
       "3  /scratch/back_up/reward_competition_extention/...  ...   \n",
       "4  /scratch/back_up/reward_competition_extention/...  ...   \n",
       "\n",
       "                                corner_to_coordinate bottom_width   top_width  \\\n",
       "0  {'box_top_right': [786.9356898768796, 138.7937...   313.180772  312.115659   \n",
       "1  {'box_top_right': [786.9356898768796, 138.7937...   313.180772  312.115659   \n",
       "2  {'box_top_right': [794.6937948883963, 140.5239...   313.159588  318.222032   \n",
       "3  {'box_top_right': [794.6937948883963, 140.5239...   313.159588  318.222032   \n",
       "4  {'box_top_right': [794.9920406619647, 146.3691...   315.545530  314.702270   \n",
       "\n",
       "  right_height left_height average_height average_width width_ratio  \\\n",
       "0   393.771087  390.423247     392.097167    312.648215    0.094355   \n",
       "1   393.771087  390.423247     392.097167    312.648215    0.094355   \n",
       "2   392.230308  391.894156     392.062232    315.690810    0.093446   \n",
       "3   392.230308  391.894156     392.062232    315.690810    0.093446   \n",
       "4   395.661099  391.411856     393.536477    315.123900    0.093614   \n",
       "\n",
       "  height_ratio                                 rescaled_locations  \n",
       "0     0.061209  {'4.2': [[[64.90703525 33.2852899 ], [47.51540...  \n",
       "1     0.061209  {'4.2': [[[64.90703525 33.2852899 ], [47.51540...  \n",
       "2     0.061215  {'3.1': [[[80.72344549 15.18291385], [82.23835...  \n",
       "3     0.061215  {'3.1': [[[80.72344549 15.18291385], [82.23835...  \n",
       "4     0.060985  {'3.3': [[[42.67602103 38.8675019 ], [55.40950...  \n",
       "\n",
       "[5 rows x 28 columns]"
      ]
     },
     "execution_count": 68,
     "metadata": {},
     "output_type": "execute_result"
    }
   ],
   "source": [
    "START_STOP_FRAME_DF.head()"
   ]
  },
  {
   "cell_type": "code",
   "execution_count": 69,
   "metadata": {},
   "outputs": [],
   "source": [
    "# Normalize dictionary column\n",
    "normalized = pd.json_normalize(START_STOP_FRAME_DF[\"corner_to_coordinate\"])"
   ]
  },
  {
   "cell_type": "code",
   "execution_count": 70,
   "metadata": {},
   "outputs": [
    {
     "data": {
      "text/html": [
       "<div>\n",
       "<style scoped>\n",
       "    .dataframe tbody tr th:only-of-type {\n",
       "        vertical-align: middle;\n",
       "    }\n",
       "\n",
       "    .dataframe tbody tr th {\n",
       "        vertical-align: top;\n",
       "    }\n",
       "\n",
       "    .dataframe thead th {\n",
       "        text-align: right;\n",
       "    }\n",
       "</style>\n",
       "<table border=\"1\" class=\"dataframe\">\n",
       "  <thead>\n",
       "    <tr style=\"text-align: right;\">\n",
       "      <th></th>\n",
       "      <th>box_top_right</th>\n",
       "      <th>box_bottom_right</th>\n",
       "      <th>box_top_left</th>\n",
       "      <th>reward_port</th>\n",
       "      <th>box_bottom_left</th>\n",
       "    </tr>\n",
       "  </thead>\n",
       "  <tbody>\n",
       "    <tr>\n",
       "      <th>0</th>\n",
       "      <td>[786.9356898768796, 138.79375971024683]</td>\n",
       "      <td>[803.8390342800585, 532.5648468296024]</td>\n",
       "      <td>[474.82003129890455, 155.5329253476304]</td>\n",
       "      <td>[648.7548067996038, 573.1929845564649]</td>\n",
       "      <td>[490.6582624706881, 545.9561721319552]</td>\n",
       "    </tr>\n",
       "    <tr>\n",
       "      <th>1</th>\n",
       "      <td>[786.9356898768796, 138.79375971024683]</td>\n",
       "      <td>[803.8390342800585, 532.5648468296024]</td>\n",
       "      <td>[474.82003129890455, 155.5329253476304]</td>\n",
       "      <td>[648.7548067996038, 573.1929845564649]</td>\n",
       "      <td>[490.6582624706881, 545.9561721319552]</td>\n",
       "    </tr>\n",
       "    <tr>\n",
       "      <th>2</th>\n",
       "      <td>[794.6937948883963, 140.52399579213056]</td>\n",
       "      <td>[804.1742506477467, 532.7543035993741]</td>\n",
       "      <td>[476.4717627957939, 154.74047278598346]</td>\n",
       "      <td>[651.6736981833109, 572.3888520918972]</td>\n",
       "      <td>[491.01466249883674, 546.6346292517417]</td>\n",
       "    </tr>\n",
       "    <tr>\n",
       "      <th>3</th>\n",
       "      <td>[794.6937948883963, 140.52399579213056]</td>\n",
       "      <td>[804.1742506477467, 532.7543035993741]</td>\n",
       "      <td>[476.4717627957939, 154.74047278598346]</td>\n",
       "      <td>[651.6736981833109, 572.3888520918972]</td>\n",
       "      <td>[491.01466249883674, 546.6346292517417]</td>\n",
       "    </tr>\n",
       "    <tr>\n",
       "      <th>4</th>\n",
       "      <td>[794.9920406619647, 146.36912385006906]</td>\n",
       "      <td>[808.2372355317932, 542.03022271899]</td>\n",
       "      <td>[480.2897707640422, 158.4813490864459]</td>\n",
       "      <td>[647.8268059373486, 573.3043465519602]</td>\n",
       "      <td>[492.6917057902973, 549.8932050538807]</td>\n",
       "    </tr>\n",
       "  </tbody>\n",
       "</table>\n",
       "</div>"
      ],
      "text/plain": [
       "                             box_top_right  \\\n",
       "0  [786.9356898768796, 138.79375971024683]   \n",
       "1  [786.9356898768796, 138.79375971024683]   \n",
       "2  [794.6937948883963, 140.52399579213056]   \n",
       "3  [794.6937948883963, 140.52399579213056]   \n",
       "4  [794.9920406619647, 146.36912385006906]   \n",
       "\n",
       "                         box_bottom_right  \\\n",
       "0  [803.8390342800585, 532.5648468296024]   \n",
       "1  [803.8390342800585, 532.5648468296024]   \n",
       "2  [804.1742506477467, 532.7543035993741]   \n",
       "3  [804.1742506477467, 532.7543035993741]   \n",
       "4    [808.2372355317932, 542.03022271899]   \n",
       "\n",
       "                              box_top_left  \\\n",
       "0  [474.82003129890455, 155.5329253476304]   \n",
       "1  [474.82003129890455, 155.5329253476304]   \n",
       "2  [476.4717627957939, 154.74047278598346]   \n",
       "3  [476.4717627957939, 154.74047278598346]   \n",
       "4   [480.2897707640422, 158.4813490864459]   \n",
       "\n",
       "                              reward_port  \\\n",
       "0  [648.7548067996038, 573.1929845564649]   \n",
       "1  [648.7548067996038, 573.1929845564649]   \n",
       "2  [651.6736981833109, 572.3888520918972]   \n",
       "3  [651.6736981833109, 572.3888520918972]   \n",
       "4  [647.8268059373486, 573.3043465519602]   \n",
       "\n",
       "                           box_bottom_left  \n",
       "0   [490.6582624706881, 545.9561721319552]  \n",
       "1   [490.6582624706881, 545.9561721319552]  \n",
       "2  [491.01466249883674, 546.6346292517417]  \n",
       "3  [491.01466249883674, 546.6346292517417]  \n",
       "4   [492.6917057902973, 549.8932050538807]  "
      ]
     },
     "execution_count": 70,
     "metadata": {},
     "output_type": "execute_result"
    }
   ],
   "source": [
    "normalized.head()"
   ]
  },
  {
   "cell_type": "code",
   "execution_count": 71,
   "metadata": {},
   "outputs": [],
   "source": [
    "\n",
    "\n",
    "# Drop the original column and concat the normalized DataFrame\n",
    "START_STOP_FRAME_DF = pd.concat([START_STOP_FRAME_DF.drop([\"corner_to_coordinate\"], axis=1), normalized], axis=1)\n"
   ]
  },
  {
   "cell_type": "code",
   "execution_count": 72,
   "metadata": {},
   "outputs": [
    {
     "data": {
      "text/html": [
       "<div>\n",
       "<style scoped>\n",
       "    .dataframe tbody tr th:only-of-type {\n",
       "        vertical-align: middle;\n",
       "    }\n",
       "\n",
       "    .dataframe tbody tr th {\n",
       "        vertical-align: top;\n",
       "    }\n",
       "\n",
       "    .dataframe thead th {\n",
       "        text-align: right;\n",
       "    }\n",
       "</style>\n",
       "<table border=\"1\" class=\"dataframe\">\n",
       "  <thead>\n",
       "    <tr style=\"text-align: right;\">\n",
       "      <th></th>\n",
       "      <th>start_frame</th>\n",
       "      <th>stop_frame</th>\n",
       "      <th>tracked_subject</th>\n",
       "      <th>in_video_subjects</th>\n",
       "      <th>box_number</th>\n",
       "      <th>sleap_name</th>\n",
       "      <th>video_name</th>\n",
       "      <th>current_subject</th>\n",
       "      <th>sleap_glob</th>\n",
       "      <th>sleap_path</th>\n",
       "      <th>...</th>\n",
       "      <th>average_height</th>\n",
       "      <th>average_width</th>\n",
       "      <th>width_ratio</th>\n",
       "      <th>height_ratio</th>\n",
       "      <th>rescaled_locations</th>\n",
       "      <th>box_top_right</th>\n",
       "      <th>box_bottom_right</th>\n",
       "      <th>box_top_left</th>\n",
       "      <th>reward_port</th>\n",
       "      <th>box_bottom_left</th>\n",
       "    </tr>\n",
       "  </thead>\n",
       "  <tbody>\n",
       "    <tr>\n",
       "      <th>0</th>\n",
       "      <td>31500</td>\n",
       "      <td>64225</td>\n",
       "      <td>[4.2, 4.3]</td>\n",
       "      <td>[4.2, 4.3]</td>\n",
       "      <td>1</td>\n",
       "      <td>20240320_171038_alone_comp_subj_4-2_and_4-3.1....</td>\n",
       "      <td>20240320_171038_alone_comp_subj_4-2_and_4-3.1</td>\n",
       "      <td>4.2</td>\n",
       "      <td>[/scratch/back_up/reward_competition_extention...</td>\n",
       "      <td>/scratch/back_up/reward_competition_extention/...</td>\n",
       "      <td>...</td>\n",
       "      <td>392.097167</td>\n",
       "      <td>312.648215</td>\n",
       "      <td>0.094355</td>\n",
       "      <td>0.061209</td>\n",
       "      <td>{'4.2': [[[64.90703525 33.2852899 ], [47.51540...</td>\n",
       "      <td>[786.9356898768796, 138.79375971024683]</td>\n",
       "      <td>[803.8390342800585, 532.5648468296024]</td>\n",
       "      <td>[474.82003129890455, 155.5329253476304]</td>\n",
       "      <td>[648.7548067996038, 573.1929845564649]</td>\n",
       "      <td>[490.6582624706881, 545.9561721319552]</td>\n",
       "    </tr>\n",
       "    <tr>\n",
       "      <th>1</th>\n",
       "      <td>31500</td>\n",
       "      <td>64225</td>\n",
       "      <td>[4.2, 4.3]</td>\n",
       "      <td>[4.2, 4.3]</td>\n",
       "      <td>1</td>\n",
       "      <td>20240320_171038_alone_comp_subj_4-2_and_4-3.1....</td>\n",
       "      <td>20240320_171038_alone_comp_subj_4-2_and_4-3.1</td>\n",
       "      <td>4.3</td>\n",
       "      <td>[/scratch/back_up/reward_competition_extention...</td>\n",
       "      <td>/scratch/back_up/reward_competition_extention/...</td>\n",
       "      <td>...</td>\n",
       "      <td>392.097167</td>\n",
       "      <td>312.648215</td>\n",
       "      <td>0.094355</td>\n",
       "      <td>0.061209</td>\n",
       "      <td>{'4.2': [[[64.90703525 33.2852899 ], [47.51540...</td>\n",
       "      <td>[786.9356898768796, 138.79375971024683]</td>\n",
       "      <td>[803.8390342800585, 532.5648468296024]</td>\n",
       "      <td>[474.82003129890455, 155.5329253476304]</td>\n",
       "      <td>[648.7548067996038, 573.1929845564649]</td>\n",
       "      <td>[490.6582624706881, 545.9561721319552]</td>\n",
       "    </tr>\n",
       "    <tr>\n",
       "      <th>2</th>\n",
       "      <td>31500</td>\n",
       "      <td>63504</td>\n",
       "      <td>[3.1, 3.3]</td>\n",
       "      <td>[3.1, 3.3]</td>\n",
       "      <td>1</td>\n",
       "      <td>20240320_142408_alone_comp_subj_3-1_and_3-3.1....</td>\n",
       "      <td>20240320_142408_alone_comp_subj_3-1_and_3-3.1</td>\n",
       "      <td>3.1</td>\n",
       "      <td>[/scratch/back_up/reward_competition_extention...</td>\n",
       "      <td>/scratch/back_up/reward_competition_extention/...</td>\n",
       "      <td>...</td>\n",
       "      <td>392.062232</td>\n",
       "      <td>315.690810</td>\n",
       "      <td>0.093446</td>\n",
       "      <td>0.061215</td>\n",
       "      <td>{'3.1': [[[80.72344549 15.18291385], [82.23835...</td>\n",
       "      <td>[794.6937948883963, 140.52399579213056]</td>\n",
       "      <td>[804.1742506477467, 532.7543035993741]</td>\n",
       "      <td>[476.4717627957939, 154.74047278598346]</td>\n",
       "      <td>[651.6736981833109, 572.3888520918972]</td>\n",
       "      <td>[491.01466249883674, 546.6346292517417]</td>\n",
       "    </tr>\n",
       "    <tr>\n",
       "      <th>3</th>\n",
       "      <td>31500</td>\n",
       "      <td>63504</td>\n",
       "      <td>[3.1, 3.3]</td>\n",
       "      <td>[3.1, 3.3]</td>\n",
       "      <td>1</td>\n",
       "      <td>20240320_142408_alone_comp_subj_3-1_and_3-3.1....</td>\n",
       "      <td>20240320_142408_alone_comp_subj_3-1_and_3-3.1</td>\n",
       "      <td>3.3</td>\n",
       "      <td>[/scratch/back_up/reward_competition_extention...</td>\n",
       "      <td>/scratch/back_up/reward_competition_extention/...</td>\n",
       "      <td>...</td>\n",
       "      <td>392.062232</td>\n",
       "      <td>315.690810</td>\n",
       "      <td>0.093446</td>\n",
       "      <td>0.061215</td>\n",
       "      <td>{'3.1': [[[80.72344549 15.18291385], [82.23835...</td>\n",
       "      <td>[794.6937948883963, 140.52399579213056]</td>\n",
       "      <td>[804.1742506477467, 532.7543035993741]</td>\n",
       "      <td>[476.4717627957939, 154.74047278598346]</td>\n",
       "      <td>[651.6736981833109, 572.3888520918972]</td>\n",
       "      <td>[491.01466249883674, 546.6346292517417]</td>\n",
       "    </tr>\n",
       "    <tr>\n",
       "      <th>4</th>\n",
       "      <td>31500</td>\n",
       "      <td>63314</td>\n",
       "      <td>[3.3, 3.4]</td>\n",
       "      <td>[3.3, 3.4]</td>\n",
       "      <td>1</td>\n",
       "      <td>20240322_120625_alone_comp_subj_3-3_and_3-4.1....</td>\n",
       "      <td>20240322_120625_alone_comp_subj_3-3_and_3-4.1</td>\n",
       "      <td>3.3</td>\n",
       "      <td>[/scratch/back_up/reward_competition_extention...</td>\n",
       "      <td>/scratch/back_up/reward_competition_extention/...</td>\n",
       "      <td>...</td>\n",
       "      <td>393.536477</td>\n",
       "      <td>315.123900</td>\n",
       "      <td>0.093614</td>\n",
       "      <td>0.060985</td>\n",
       "      <td>{'3.3': [[[42.67602103 38.8675019 ], [55.40950...</td>\n",
       "      <td>[794.9920406619647, 146.36912385006906]</td>\n",
       "      <td>[808.2372355317932, 542.03022271899]</td>\n",
       "      <td>[480.2897707640422, 158.4813490864459]</td>\n",
       "      <td>[647.8268059373486, 573.3043465519602]</td>\n",
       "      <td>[492.6917057902973, 549.8932050538807]</td>\n",
       "    </tr>\n",
       "  </tbody>\n",
       "</table>\n",
       "<p>5 rows × 32 columns</p>\n",
       "</div>"
      ],
      "text/plain": [
       "   start_frame  stop_frame tracked_subject in_video_subjects  box_number  \\\n",
       "0        31500       64225      [4.2, 4.3]        [4.2, 4.3]           1   \n",
       "1        31500       64225      [4.2, 4.3]        [4.2, 4.3]           1   \n",
       "2        31500       63504      [3.1, 3.3]        [3.1, 3.3]           1   \n",
       "3        31500       63504      [3.1, 3.3]        [3.1, 3.3]           1   \n",
       "4        31500       63314      [3.3, 3.4]        [3.3, 3.4]           1   \n",
       "\n",
       "                                          sleap_name  \\\n",
       "0  20240320_171038_alone_comp_subj_4-2_and_4-3.1....   \n",
       "1  20240320_171038_alone_comp_subj_4-2_and_4-3.1....   \n",
       "2  20240320_142408_alone_comp_subj_3-1_and_3-3.1....   \n",
       "3  20240320_142408_alone_comp_subj_3-1_and_3-3.1....   \n",
       "4  20240322_120625_alone_comp_subj_3-3_and_3-4.1....   \n",
       "\n",
       "                                      video_name current_subject  \\\n",
       "0  20240320_171038_alone_comp_subj_4-2_and_4-3.1             4.2   \n",
       "1  20240320_171038_alone_comp_subj_4-2_and_4-3.1             4.3   \n",
       "2  20240320_142408_alone_comp_subj_3-1_and_3-3.1             3.1   \n",
       "3  20240320_142408_alone_comp_subj_3-1_and_3-3.1             3.3   \n",
       "4  20240322_120625_alone_comp_subj_3-3_and_3-4.1             3.3   \n",
       "\n",
       "                                          sleap_glob  \\\n",
       "0  [/scratch/back_up/reward_competition_extention...   \n",
       "1  [/scratch/back_up/reward_competition_extention...   \n",
       "2  [/scratch/back_up/reward_competition_extention...   \n",
       "3  [/scratch/back_up/reward_competition_extention...   \n",
       "4  [/scratch/back_up/reward_competition_extention...   \n",
       "\n",
       "                                          sleap_path  ... average_height  \\\n",
       "0  /scratch/back_up/reward_competition_extention/...  ...     392.097167   \n",
       "1  /scratch/back_up/reward_competition_extention/...  ...     392.097167   \n",
       "2  /scratch/back_up/reward_competition_extention/...  ...     392.062232   \n",
       "3  /scratch/back_up/reward_competition_extention/...  ...     392.062232   \n",
       "4  /scratch/back_up/reward_competition_extention/...  ...     393.536477   \n",
       "\n",
       "  average_width width_ratio height_ratio  \\\n",
       "0    312.648215    0.094355     0.061209   \n",
       "1    312.648215    0.094355     0.061209   \n",
       "2    315.690810    0.093446     0.061215   \n",
       "3    315.690810    0.093446     0.061215   \n",
       "4    315.123900    0.093614     0.060985   \n",
       "\n",
       "                                  rescaled_locations  \\\n",
       "0  {'4.2': [[[64.90703525 33.2852899 ], [47.51540...   \n",
       "1  {'4.2': [[[64.90703525 33.2852899 ], [47.51540...   \n",
       "2  {'3.1': [[[80.72344549 15.18291385], [82.23835...   \n",
       "3  {'3.1': [[[80.72344549 15.18291385], [82.23835...   \n",
       "4  {'3.3': [[[42.67602103 38.8675019 ], [55.40950...   \n",
       "\n",
       "                             box_top_right  \\\n",
       "0  [786.9356898768796, 138.79375971024683]   \n",
       "1  [786.9356898768796, 138.79375971024683]   \n",
       "2  [794.6937948883963, 140.52399579213056]   \n",
       "3  [794.6937948883963, 140.52399579213056]   \n",
       "4  [794.9920406619647, 146.36912385006906]   \n",
       "\n",
       "                         box_bottom_right  \\\n",
       "0  [803.8390342800585, 532.5648468296024]   \n",
       "1  [803.8390342800585, 532.5648468296024]   \n",
       "2  [804.1742506477467, 532.7543035993741]   \n",
       "3  [804.1742506477467, 532.7543035993741]   \n",
       "4    [808.2372355317932, 542.03022271899]   \n",
       "\n",
       "                              box_top_left  \\\n",
       "0  [474.82003129890455, 155.5329253476304]   \n",
       "1  [474.82003129890455, 155.5329253476304]   \n",
       "2  [476.4717627957939, 154.74047278598346]   \n",
       "3  [476.4717627957939, 154.74047278598346]   \n",
       "4   [480.2897707640422, 158.4813490864459]   \n",
       "\n",
       "                              reward_port  \\\n",
       "0  [648.7548067996038, 573.1929845564649]   \n",
       "1  [648.7548067996038, 573.1929845564649]   \n",
       "2  [651.6736981833109, 572.3888520918972]   \n",
       "3  [651.6736981833109, 572.3888520918972]   \n",
       "4  [647.8268059373486, 573.3043465519602]   \n",
       "\n",
       "                           box_bottom_left  \n",
       "0   [490.6582624706881, 545.9561721319552]  \n",
       "1   [490.6582624706881, 545.9561721319552]  \n",
       "2  [491.01466249883674, 546.6346292517417]  \n",
       "3  [491.01466249883674, 546.6346292517417]  \n",
       "4   [492.6917057902973, 549.8932050538807]  \n",
       "\n",
       "[5 rows x 32 columns]"
      ]
     },
     "execution_count": 72,
     "metadata": {},
     "output_type": "execute_result"
    }
   ],
   "source": [
    "START_STOP_FRAME_DF.head()"
   ]
  },
  {
   "cell_type": "code",
   "execution_count": 73,
   "metadata": {
    "tags": []
   },
   "outputs": [],
   "source": [
    "START_STOP_FRAME_DF = START_STOP_FRAME_DF.dropna(subset=[\"reward_port\"])"
   ]
  },
  {
   "cell_type": "markdown",
   "metadata": {},
   "source": [
    "- Converting the corner coordinates into cms"
   ]
  },
  {
   "cell_type": "code",
   "execution_count": 74,
   "metadata": {},
   "outputs": [],
   "source": [
    "for corner in START_STOP_FRAME_DF[\"corner_parts\"].iloc[0]:\n",
    "    START_STOP_FRAME_DF[corner] = START_STOP_FRAME_DF.apply(lambda x: [x[corner][0]*x[\"width_ratio\"], x[corner][1]*x[\"height_ratio\"]], axis=1)"
   ]
  },
  {
   "cell_type": "markdown",
   "metadata": {},
   "source": [
    "## Looking over the tracks"
   ]
  },
  {
   "cell_type": "code",
   "execution_count": 75,
   "metadata": {},
   "outputs": [],
   "source": [
    "FILE_INDEX = 0"
   ]
  },
  {
   "cell_type": "code",
   "execution_count": 76,
   "metadata": {},
   "outputs": [
    {
     "data": {
      "text/plain": [
       "'/scratch/back_up/reward_competition_extention/final_proc/id_corrected/rce3/20240320_171038_alone_comp_subj_4-2_and_4-3/20240320_171038_alone_comp_subj_4-2_and_4-3.1.fixed.2_subj.round_3.id_corrected.h5'"
      ]
     },
     "execution_count": 76,
     "metadata": {},
     "output_type": "execute_result"
    }
   ],
   "source": [
    "START_STOP_FRAME_DF[\"sleap_path\"].iloc[FILE_INDEX]"
   ]
  },
  {
   "cell_type": "code",
   "execution_count": 77,
   "metadata": {},
   "outputs": [
    {
     "data": {
      "text/plain": [
       "0    {'4.2': [[[64.90703525 33.2852899 ], [47.51540...\n",
       "1    {'4.2': [[[64.90703525 33.2852899 ], [47.51540...\n",
       "2    {'3.1': [[[80.72344549 15.18291385], [82.23835...\n",
       "3    {'3.1': [[[80.72344549 15.18291385], [82.23835...\n",
       "4    {'3.3': [[[42.67602103 38.8675019 ], [55.40950...\n",
       "Name: rescaled_locations, dtype: object"
      ]
     },
     "execution_count": 77,
     "metadata": {},
     "output_type": "execute_result"
    }
   ],
   "source": [
    "START_STOP_FRAME_DF[\"rescaled_locations\"].head()"
   ]
  },
  {
   "cell_type": "code",
   "execution_count": 78,
   "metadata": {
    "tags": []
   },
   "outputs": [
    {
     "data": {
      "text/plain": [
       "Index(['start_frame', 'stop_frame', 'tracked_subject', 'in_video_subjects',\n",
       "       'box_number', 'sleap_name', 'video_name', 'current_subject',\n",
       "       'sleap_glob', 'sleap_path', 'all_sleap_data', 'body_parts', 'locations',\n",
       "       'track_names', 'subject_to_index', 'subject_to_tracks', 'corner_path',\n",
       "       'corner_parts', 'bottom_width', 'top_width', 'right_height',\n",
       "       'left_height', 'average_height', 'average_width', 'width_ratio',\n",
       "       'height_ratio', 'rescaled_locations', 'box_top_right',\n",
       "       'box_bottom_right', 'box_top_left', 'reward_port', 'box_bottom_left'],\n",
       "      dtype='object')"
      ]
     },
     "execution_count": 78,
     "metadata": {},
     "output_type": "execute_result"
    }
   ],
   "source": [
    "START_STOP_FRAME_DF.columns"
   ]
  },
  {
   "cell_type": "code",
   "execution_count": 79,
   "metadata": {},
   "outputs": [
    {
     "name": "stdout",
     "output_type": "stream",
     "text": [
      "===HDF5 datasets===\n",
      "['edge_inds', 'edge_names', 'instance_scores', 'labels_path', 'node_names', 'point_scores', 'provenance', 'track_names', 'track_occupancy', 'tracking_scores', 'tracks', 'video_ind', 'video_path']\n",
      "\n",
      "===locations data shape===\n",
      "(64255, 6, 2)\n",
      "\n",
      "===nodes===\n",
      "0: left_ear\n",
      "1: right_ear\n",
      "2: nose\n",
      "3: tail_base\n",
      "4: thorax\n",
      "5: forehead\n",
      "\n"
     ]
    }
   ],
   "source": [
    "with h5py.File(START_STOP_FRAME_DF[\"sleap_path\"].iloc[FILE_INDEX], \"r\") as f:\n",
    "    dset_names = list(f.keys())\n",
    "    current_subject = START_STOP_FRAME_DF[\"current_subject\"].iloc[FILE_INDEX]\n",
    "    locations = START_STOP_FRAME_DF[\"rescaled_locations\"].iloc[FILE_INDEX][current_subject]\n",
    "    node_names = [n.decode() for n in f[\"node_names\"][:]]\n",
    "    \n",
    "print(\"===HDF5 datasets===\")\n",
    "print(dset_names)\n",
    "print()\n",
    "\n",
    "print(\"===locations data shape===\")\n",
    "print(locations.shape)\n",
    "print()\n",
    "\n",
    "print(\"===nodes===\")\n",
    "for i, name in enumerate(node_names):\n",
    "    print(f\"{i}: {name}\")\n",
    "print()"
   ]
  },
  {
   "cell_type": "code",
   "execution_count": 80,
   "metadata": {},
   "outputs": [],
   "source": [
    "thorax_loc = locations[:, THORAX_INDEX, :]"
   ]
  },
  {
   "cell_type": "code",
   "execution_count": 81,
   "metadata": {},
   "outputs": [
    {
     "data": {
      "text/plain": [
       "Text(0, 0.5, 'Coordinate Position')"
      ]
     },
     "execution_count": 81,
     "metadata": {},
     "output_type": "execute_result"
    },
    {
     "data": {
      "image/png": "[encoded data removed]",
      "text/plain": [
       "<Figure size 1500x600 with 1 Axes>"
      ]
     },
     "metadata": {},
     "output_type": "display_data"
    }
   ],
   "source": [
    "fig, ax = plt.subplots()\n",
    "\n",
    "plt.plot(thorax_loc[:,0],label='X-coordinates')\n",
    "# Converting to negative so that we can see both x and y track\n",
    "plt.plot(-1*thorax_loc[:,1], label='Y-coordinates')\n",
    "\n",
    "plt.legend(loc=\"center right\")\n",
    "plt.title('Thorax locations')\n",
    "plt.xlabel(\"Time in frames\")\n",
    "plt.ylabel(\"Coordinate Position\")"
   ]
  },
  {
   "cell_type": "code",
   "execution_count": 82,
   "metadata": {},
   "outputs": [
    {
     "data": {
      "text/plain": [
       "Text(0, 0.5, 'Y-Coordinates')"
      ]
     },
     "execution_count": 82,
     "metadata": {},
     "output_type": "execute_result"
    },
    {
     "data": {
      "image/png": "[encoded data removed]",
      "text/plain": [
       "<Figure size 700x700 with 1 Axes>"
      ]
     },
     "metadata": {},
     "output_type": "display_data"
    }
   ],
   "source": [
    "plt.figure(figsize=(7,7))\n",
    "plt.plot(thorax_loc[:,0],thorax_loc[:,1])\n",
    "\n",
    "\n",
    "plt.title('Thorax tracks')\n",
    "plt.xlabel(\"X-Coordinates\")\n",
    "plt.ylabel(\"Y-Coordinates\")\n"
   ]
  },
  {
   "cell_type": "code",
   "execution_count": null,
   "metadata": {},
   "outputs": [],
   "source": []
  },
  {
   "cell_type": "markdown",
   "metadata": {},
   "source": [
    "## Creating an individual column for each pose tracking"
   ]
  },
  {
   "cell_type": "code",
   "execution_count": 83,
   "metadata": {
    "tags": []
   },
   "outputs": [],
   "source": [
    "START_STOP_FRAME_DF = START_STOP_FRAME_DF.dropna(subset=\"current_subject\")"
   ]
  },
  {
   "cell_type": "code",
   "execution_count": 84,
   "metadata": {
    "tags": []
   },
   "outputs": [
    {
     "data": {
      "text/html": [
       "<div>\n",
       "<style scoped>\n",
       "    .dataframe tbody tr th:only-of-type {\n",
       "        vertical-align: middle;\n",
       "    }\n",
       "\n",
       "    .dataframe tbody tr th {\n",
       "        vertical-align: top;\n",
       "    }\n",
       "\n",
       "    .dataframe thead th {\n",
       "        text-align: right;\n",
       "    }\n",
       "</style>\n",
       "<table border=\"1\" class=\"dataframe\">\n",
       "  <thead>\n",
       "    <tr style=\"text-align: right;\">\n",
       "      <th></th>\n",
       "      <th>start_frame</th>\n",
       "      <th>stop_frame</th>\n",
       "      <th>tracked_subject</th>\n",
       "      <th>in_video_subjects</th>\n",
       "      <th>box_number</th>\n",
       "      <th>sleap_name</th>\n",
       "      <th>video_name</th>\n",
       "      <th>current_subject</th>\n",
       "      <th>sleap_glob</th>\n",
       "      <th>sleap_path</th>\n",
       "      <th>...</th>\n",
       "      <th>average_height</th>\n",
       "      <th>average_width</th>\n",
       "      <th>width_ratio</th>\n",
       "      <th>height_ratio</th>\n",
       "      <th>rescaled_locations</th>\n",
       "      <th>box_top_right</th>\n",
       "      <th>box_bottom_right</th>\n",
       "      <th>box_top_left</th>\n",
       "      <th>reward_port</th>\n",
       "      <th>box_bottom_left</th>\n",
       "    </tr>\n",
       "  </thead>\n",
       "  <tbody>\n",
       "    <tr>\n",
       "      <th>0</th>\n",
       "      <td>31500</td>\n",
       "      <td>64225</td>\n",
       "      <td>[4.2, 4.3]</td>\n",
       "      <td>[4.2, 4.3]</td>\n",
       "      <td>1</td>\n",
       "      <td>20240320_171038_alone_comp_subj_4-2_and_4-3.1....</td>\n",
       "      <td>20240320_171038_alone_comp_subj_4-2_and_4-3.1</td>\n",
       "      <td>4.2</td>\n",
       "      <td>[/scratch/back_up/reward_competition_extention...</td>\n",
       "      <td>/scratch/back_up/reward_competition_extention/...</td>\n",
       "      <td>...</td>\n",
       "      <td>392.097167</td>\n",
       "      <td>312.648215</td>\n",
       "      <td>0.094355</td>\n",
       "      <td>0.061209</td>\n",
       "      <td>{'4.2': [[[64.90703525 33.2852899 ], [47.51540...</td>\n",
       "      <td>[74.25151247701015, 8.495471311209611]</td>\n",
       "      <td>[75.846431736616, 32.597930822286116]</td>\n",
       "      <td>[44.801761988760454, 9.52006421612736]</td>\n",
       "      <td>[61.213420932957966, 35.084751405625006]</td>\n",
       "      <td>[46.2961822248657, 33.41760470505085]</td>\n",
       "    </tr>\n",
       "    <tr>\n",
       "      <th>1</th>\n",
       "      <td>31500</td>\n",
       "      <td>64225</td>\n",
       "      <td>[4.2, 4.3]</td>\n",
       "      <td>[4.2, 4.3]</td>\n",
       "      <td>1</td>\n",
       "      <td>20240320_171038_alone_comp_subj_4-2_and_4-3.1....</td>\n",
       "      <td>20240320_171038_alone_comp_subj_4-2_and_4-3.1</td>\n",
       "      <td>4.3</td>\n",
       "      <td>[/scratch/back_up/reward_competition_extention...</td>\n",
       "      <td>/scratch/back_up/reward_competition_extention/...</td>\n",
       "      <td>...</td>\n",
       "      <td>392.097167</td>\n",
       "      <td>312.648215</td>\n",
       "      <td>0.094355</td>\n",
       "      <td>0.061209</td>\n",
       "      <td>{'4.2': [[[64.90703525 33.2852899 ], [47.51540...</td>\n",
       "      <td>[74.25151247701015, 8.495471311209611]</td>\n",
       "      <td>[75.846431736616, 32.597930822286116]</td>\n",
       "      <td>[44.801761988760454, 9.52006421612736]</td>\n",
       "      <td>[61.213420932957966, 35.084751405625006]</td>\n",
       "      <td>[46.2961822248657, 33.41760470505085]</td>\n",
       "    </tr>\n",
       "    <tr>\n",
       "      <th>2</th>\n",
       "      <td>31500</td>\n",
       "      <td>63504</td>\n",
       "      <td>[3.1, 3.3]</td>\n",
       "      <td>[3.1, 3.3]</td>\n",
       "      <td>1</td>\n",
       "      <td>20240320_142408_alone_comp_subj_3-1_and_3-3.1....</td>\n",
       "      <td>20240320_142408_alone_comp_subj_3-1_and_3-3.1</td>\n",
       "      <td>3.1</td>\n",
       "      <td>[/scratch/back_up/reward_competition_extention...</td>\n",
       "      <td>/scratch/back_up/reward_competition_extention/...</td>\n",
       "      <td>...</td>\n",
       "      <td>392.062232</td>\n",
       "      <td>315.690810</td>\n",
       "      <td>0.093446</td>\n",
       "      <td>0.061215</td>\n",
       "      <td>{'3.1': [[[80.72344549 15.18291385], [82.23835...</td>\n",
       "      <td>[74.26084699849272, 8.602144309163993]</td>\n",
       "      <td>[75.1467563627655, 32.612433022962925]</td>\n",
       "      <td>[44.524314778435695, 9.472402701545125]</td>\n",
       "      <td>[60.89621072293514, 35.03865285708705]</td>\n",
       "      <td>[45.88328858282252, 33.462113987746186]</td>\n",
       "    </tr>\n",
       "    <tr>\n",
       "      <th>3</th>\n",
       "      <td>31500</td>\n",
       "      <td>63504</td>\n",
       "      <td>[3.1, 3.3]</td>\n",
       "      <td>[3.1, 3.3]</td>\n",
       "      <td>1</td>\n",
       "      <td>20240320_142408_alone_comp_subj_3-1_and_3-3.1....</td>\n",
       "      <td>20240320_142408_alone_comp_subj_3-1_and_3-3.1</td>\n",
       "      <td>3.3</td>\n",
       "      <td>[/scratch/back_up/reward_competition_extention...</td>\n",
       "      <td>/scratch/back_up/reward_competition_extention/...</td>\n",
       "      <td>...</td>\n",
       "      <td>392.062232</td>\n",
       "      <td>315.690810</td>\n",
       "      <td>0.093446</td>\n",
       "      <td>0.061215</td>\n",
       "      <td>{'3.1': [[[80.72344549 15.18291385], [82.23835...</td>\n",
       "      <td>[74.26084699849272, 8.602144309163993]</td>\n",
       "      <td>[75.1467563627655, 32.612433022962925]</td>\n",
       "      <td>[44.524314778435695, 9.472402701545125]</td>\n",
       "      <td>[60.89621072293514, 35.03865285708705]</td>\n",
       "      <td>[45.88328858282252, 33.462113987746186]</td>\n",
       "    </tr>\n",
       "    <tr>\n",
       "      <th>4</th>\n",
       "      <td>31500</td>\n",
       "      <td>63314</td>\n",
       "      <td>[3.3, 3.4]</td>\n",
       "      <td>[3.3, 3.4]</td>\n",
       "      <td>1</td>\n",
       "      <td>20240322_120625_alone_comp_subj_3-3_and_3-4.1....</td>\n",
       "      <td>20240322_120625_alone_comp_subj_3-3_and_3-4.1</td>\n",
       "      <td>3.3</td>\n",
       "      <td>[/scratch/back_up/reward_competition_extention...</td>\n",
       "      <td>/scratch/back_up/reward_competition_extention/...</td>\n",
       "      <td>...</td>\n",
       "      <td>393.536477</td>\n",
       "      <td>315.123900</td>\n",
       "      <td>0.093614</td>\n",
       "      <td>0.060985</td>\n",
       "      <td>{'3.3': [[[42.67602103 38.8675019 ], [55.40950...</td>\n",
       "      <td>[74.42236280061786, 8.926387194010582]</td>\n",
       "      <td>[75.66229810506, 33.05595819376228]</td>\n",
       "      <td>[44.96183325239834, 9.665056726197681]</td>\n",
       "      <td>[60.64564060702992, 34.963224775288616]</td>\n",
       "      <td>[46.12282765327953, 33.535485726445984]</td>\n",
       "    </tr>\n",
       "  </tbody>\n",
       "</table>\n",
       "<p>5 rows × 32 columns</p>\n",
       "</div>"
      ],
      "text/plain": [
       "   start_frame  stop_frame tracked_subject in_video_subjects  box_number  \\\n",
       "0        31500       64225      [4.2, 4.3]        [4.2, 4.3]           1   \n",
       "1        31500       64225      [4.2, 4.3]        [4.2, 4.3]           1   \n",
       "2        31500       63504      [3.1, 3.3]        [3.1, 3.3]           1   \n",
       "3        31500       63504      [3.1, 3.3]        [3.1, 3.3]           1   \n",
       "4        31500       63314      [3.3, 3.4]        [3.3, 3.4]           1   \n",
       "\n",
       "                                          sleap_name  \\\n",
       "0  20240320_171038_alone_comp_subj_4-2_and_4-3.1....   \n",
       "1  20240320_171038_alone_comp_subj_4-2_and_4-3.1....   \n",
       "2  20240320_142408_alone_comp_subj_3-1_and_3-3.1....   \n",
       "3  20240320_142408_alone_comp_subj_3-1_and_3-3.1....   \n",
       "4  20240322_120625_alone_comp_subj_3-3_and_3-4.1....   \n",
       "\n",
       "                                      video_name current_subject  \\\n",
       "0  20240320_171038_alone_comp_subj_4-2_and_4-3.1             4.2   \n",
       "1  20240320_171038_alone_comp_subj_4-2_and_4-3.1             4.3   \n",
       "2  20240320_142408_alone_comp_subj_3-1_and_3-3.1             3.1   \n",
       "3  20240320_142408_alone_comp_subj_3-1_and_3-3.1             3.3   \n",
       "4  20240322_120625_alone_comp_subj_3-3_and_3-4.1             3.3   \n",
       "\n",
       "                                          sleap_glob  \\\n",
       "0  [/scratch/back_up/reward_competition_extention...   \n",
       "1  [/scratch/back_up/reward_competition_extention...   \n",
       "2  [/scratch/back_up/reward_competition_extention...   \n",
       "3  [/scratch/back_up/reward_competition_extention...   \n",
       "4  [/scratch/back_up/reward_competition_extention...   \n",
       "\n",
       "                                          sleap_path  ... average_height  \\\n",
       "0  /scratch/back_up/reward_competition_extention/...  ...     392.097167   \n",
       "1  /scratch/back_up/reward_competition_extention/...  ...     392.097167   \n",
       "2  /scratch/back_up/reward_competition_extention/...  ...     392.062232   \n",
       "3  /scratch/back_up/reward_competition_extention/...  ...     392.062232   \n",
       "4  /scratch/back_up/reward_competition_extention/...  ...     393.536477   \n",
       "\n",
       "  average_width width_ratio height_ratio  \\\n",
       "0    312.648215    0.094355     0.061209   \n",
       "1    312.648215    0.094355     0.061209   \n",
       "2    315.690810    0.093446     0.061215   \n",
       "3    315.690810    0.093446     0.061215   \n",
       "4    315.123900    0.093614     0.060985   \n",
       "\n",
       "                                  rescaled_locations  \\\n",
       "0  {'4.2': [[[64.90703525 33.2852899 ], [47.51540...   \n",
       "1  {'4.2': [[[64.90703525 33.2852899 ], [47.51540...   \n",
       "2  {'3.1': [[[80.72344549 15.18291385], [82.23835...   \n",
       "3  {'3.1': [[[80.72344549 15.18291385], [82.23835...   \n",
       "4  {'3.3': [[[42.67602103 38.8675019 ], [55.40950...   \n",
       "\n",
       "                            box_top_right  \\\n",
       "0  [74.25151247701015, 8.495471311209611]   \n",
       "1  [74.25151247701015, 8.495471311209611]   \n",
       "2  [74.26084699849272, 8.602144309163993]   \n",
       "3  [74.26084699849272, 8.602144309163993]   \n",
       "4  [74.42236280061786, 8.926387194010582]   \n",
       "\n",
       "                         box_bottom_right  \\\n",
       "0   [75.846431736616, 32.597930822286116]   \n",
       "1   [75.846431736616, 32.597930822286116]   \n",
       "2  [75.1467563627655, 32.612433022962925]   \n",
       "3  [75.1467563627655, 32.612433022962925]   \n",
       "4     [75.66229810506, 33.05595819376228]   \n",
       "\n",
       "                              box_top_left  \\\n",
       "0   [44.801761988760454, 9.52006421612736]   \n",
       "1   [44.801761988760454, 9.52006421612736]   \n",
       "2  [44.524314778435695, 9.472402701545125]   \n",
       "3  [44.524314778435695, 9.472402701545125]   \n",
       "4   [44.96183325239834, 9.665056726197681]   \n",
       "\n",
       "                                reward_port  \\\n",
       "0  [61.213420932957966, 35.084751405625006]   \n",
       "1  [61.213420932957966, 35.084751405625006]   \n",
       "2    [60.89621072293514, 35.03865285708705]   \n",
       "3    [60.89621072293514, 35.03865285708705]   \n",
       "4   [60.64564060702992, 34.963224775288616]   \n",
       "\n",
       "                           box_bottom_left  \n",
       "0    [46.2961822248657, 33.41760470505085]  \n",
       "1    [46.2961822248657, 33.41760470505085]  \n",
       "2  [45.88328858282252, 33.462113987746186]  \n",
       "3  [45.88328858282252, 33.462113987746186]  \n",
       "4  [46.12282765327953, 33.535485726445984]  \n",
       "\n",
       "[5 rows x 32 columns]"
      ]
     },
     "execution_count": 84,
     "metadata": {},
     "output_type": "execute_result"
    }
   ],
   "source": [
    "START_STOP_FRAME_DF.head()"
   ]
  },
  {
   "cell_type": "code",
   "execution_count": 85,
   "metadata": {},
   "outputs": [],
   "source": [
    "START_STOP_FRAME_DF[\"agent\"] = START_STOP_FRAME_DF.apply(lambda x: list((set(x[\"tracked_subject\"]) - set([x[\"current_subject\"]]))), axis=1)"
   ]
  },
  {
   "cell_type": "code",
   "execution_count": 86,
   "metadata": {
    "tags": []
   },
   "outputs": [
    {
     "data": {
      "text/html": [
       "<div>\n",
       "<style scoped>\n",
       "    .dataframe tbody tr th:only-of-type {\n",
       "        vertical-align: middle;\n",
       "    }\n",
       "\n",
       "    .dataframe tbody tr th {\n",
       "        vertical-align: top;\n",
       "    }\n",
       "\n",
       "    .dataframe thead th {\n",
       "        text-align: right;\n",
       "    }\n",
       "</style>\n",
       "<table border=\"1\" class=\"dataframe\">\n",
       "  <thead>\n",
       "    <tr style=\"text-align: right;\">\n",
       "      <th></th>\n",
       "      <th>start_frame</th>\n",
       "      <th>stop_frame</th>\n",
       "      <th>tracked_subject</th>\n",
       "      <th>in_video_subjects</th>\n",
       "      <th>box_number</th>\n",
       "      <th>sleap_name</th>\n",
       "      <th>video_name</th>\n",
       "      <th>current_subject</th>\n",
       "      <th>sleap_glob</th>\n",
       "      <th>sleap_path</th>\n",
       "      <th>...</th>\n",
       "      <th>average_width</th>\n",
       "      <th>width_ratio</th>\n",
       "      <th>height_ratio</th>\n",
       "      <th>rescaled_locations</th>\n",
       "      <th>box_top_right</th>\n",
       "      <th>box_bottom_right</th>\n",
       "      <th>box_top_left</th>\n",
       "      <th>reward_port</th>\n",
       "      <th>box_bottom_left</th>\n",
       "      <th>agent</th>\n",
       "    </tr>\n",
       "  </thead>\n",
       "  <tbody>\n",
       "  </tbody>\n",
       "</table>\n",
       "<p>0 rows × 33 columns</p>\n",
       "</div>"
      ],
      "text/plain": [
       "Empty DataFrame\n",
       "Columns: [start_frame, stop_frame, tracked_subject, in_video_subjects, box_number, sleap_name, video_name, current_subject, sleap_glob, sleap_path, all_sleap_data, body_parts, locations, track_names, subject_to_index, subject_to_tracks, corner_path, corner_parts, bottom_width, top_width, right_height, left_height, average_height, average_width, width_ratio, height_ratio, rescaled_locations, box_top_right, box_bottom_right, box_top_left, reward_port, box_bottom_left, agent]\n",
       "Index: []\n",
       "\n",
       "[0 rows x 33 columns]"
      ]
     },
     "execution_count": 86,
     "metadata": {},
     "output_type": "execute_result"
    }
   ],
   "source": [
    "START_STOP_FRAME_DF[START_STOP_FRAME_DF[\"agent\"].apply(lambda x: len(x) != 1)]"
   ]
  },
  {
   "cell_type": "code",
   "execution_count": 87,
   "metadata": {
    "tags": []
   },
   "outputs": [],
   "source": [
    "START_STOP_FRAME_DF[\"agent\"] = START_STOP_FRAME_DF[\"agent\"].apply(lambda x: x[0] if len(x) == 1 else None)"
   ]
  },
  {
   "cell_type": "code",
   "execution_count": 88,
   "metadata": {},
   "outputs": [],
   "source": [
    "START_STOP_FRAME_DF[\"subject_locations\"] = START_STOP_FRAME_DF.apply(lambda x: x[\"rescaled_locations\"][x[\"current_subject\"]] , axis=1)"
   ]
  },
  {
   "cell_type": "code",
   "execution_count": 89,
   "metadata": {},
   "outputs": [],
   "source": [
    "START_STOP_FRAME_DF[\"frame_index\"] = START_STOP_FRAME_DF[\"subject_locations\"].apply(lambda x: np.arange(0, x.shape[0]) + 1)"
   ]
  },
  {
   "cell_type": "code",
   "execution_count": 90,
   "metadata": {},
   "outputs": [],
   "source": [
    "START_STOP_FRAME_DF[\"agent_locations\"] = START_STOP_FRAME_DF.apply(lambda x: x[\"rescaled_locations\"].get(x[\"agent\"], np.nan) if x[\"agent\"] else np.nan, axis=1)"
   ]
  },
  {
   "cell_type": "code",
   "execution_count": null,
   "metadata": {
    "tags": []
   },
   "outputs": [],
   "source": []
  },
  {
   "cell_type": "markdown",
   "metadata": {},
   "source": [
    "## Removing unnecessary columns"
   ]
  },
  {
   "cell_type": "code",
   "execution_count": 91,
   "metadata": {},
   "outputs": [],
   "source": [
    "START_STOP_FRAME_DF = START_STOP_FRAME_DF.drop([\"sleap_glob\", \"subject_to_index\", \"subject_to_tracks\", \"corner_parts\", \"corner_to_coordinate\", \"bottom_width\", \"top_width\", \"right_height\", \"left_height\", \"average_height\", \"average_width\", \"width_ratio\", \"height_ratio\", 'locations', 'track_names', 'sleap_path', 'corner_path', 'all_sleap_data', 'rescaled_locations'], errors=\"ignore\", axis=1)"
   ]
  },
  {
   "cell_type": "code",
   "execution_count": 92,
   "metadata": {},
   "outputs": [
    {
     "data": {
      "text/plain": [
       "Index(['start_frame', 'stop_frame', 'tracked_subject', 'in_video_subjects',\n",
       "       'box_number', 'sleap_name', 'video_name', 'current_subject',\n",
       "       'body_parts', 'box_top_right', 'box_bottom_right', 'box_top_left',\n",
       "       'reward_port', 'box_bottom_left', 'agent', 'subject_locations',\n",
       "       'frame_index', 'agent_locations'],\n",
       "      dtype='object')"
      ]
     },
     "execution_count": 92,
     "metadata": {},
     "output_type": "execute_result"
    }
   ],
   "source": [
    "START_STOP_FRAME_DF.columns"
   ]
  },
  {
   "cell_type": "code",
   "execution_count": 93,
   "metadata": {},
   "outputs": [
    {
     "data": {
      "text/html": [
       "<div>\n",
       "<style scoped>\n",
       "    .dataframe tbody tr th:only-of-type {\n",
       "        vertical-align: middle;\n",
       "    }\n",
       "\n",
       "    .dataframe tbody tr th {\n",
       "        vertical-align: top;\n",
       "    }\n",
       "\n",
       "    .dataframe thead th {\n",
       "        text-align: right;\n",
       "    }\n",
       "</style>\n",
       "<table border=\"1\" class=\"dataframe\">\n",
       "  <thead>\n",
       "    <tr style=\"text-align: right;\">\n",
       "      <th></th>\n",
       "      <th>start_frame</th>\n",
       "      <th>stop_frame</th>\n",
       "      <th>tracked_subject</th>\n",
       "      <th>in_video_subjects</th>\n",
       "      <th>box_number</th>\n",
       "      <th>sleap_name</th>\n",
       "      <th>video_name</th>\n",
       "      <th>current_subject</th>\n",
       "      <th>body_parts</th>\n",
       "      <th>box_top_right</th>\n",
       "      <th>box_bottom_right</th>\n",
       "      <th>box_top_left</th>\n",
       "      <th>reward_port</th>\n",
       "      <th>box_bottom_left</th>\n",
       "      <th>agent</th>\n",
       "      <th>subject_locations</th>\n",
       "      <th>frame_index</th>\n",
       "      <th>agent_locations</th>\n",
       "    </tr>\n",
       "  </thead>\n",
       "  <tbody>\n",
       "    <tr>\n",
       "      <th>0</th>\n",
       "      <td>31500</td>\n",
       "      <td>64225</td>\n",
       "      <td>[4.2, 4.3]</td>\n",
       "      <td>[4.2, 4.3]</td>\n",
       "      <td>1</td>\n",
       "      <td>20240320_171038_alone_comp_subj_4-2_and_4-3.1....</td>\n",
       "      <td>20240320_171038_alone_comp_subj_4-2_and_4-3.1</td>\n",
       "      <td>4.2</td>\n",
       "      <td>[left_ear, right_ear, nose, tail_base, thorax,...</td>\n",
       "      <td>[74.25151247701015, 8.495471311209611]</td>\n",
       "      <td>[75.846431736616, 32.597930822286116]</td>\n",
       "      <td>[44.801761988760454, 9.52006421612736]</td>\n",
       "      <td>[61.213420932957966, 35.084751405625006]</td>\n",
       "      <td>[46.2961822248657, 33.41760470505085]</td>\n",
       "      <td>4.3</td>\n",
       "      <td>[[[64.90703525371228, 33.28528990033932], [47....</td>\n",
       "      <td>[1, 2, 3, 4, 5, 6, 7, 8, 9, 10, 11, 12, 13, 14...</td>\n",
       "      <td>[[[64.44770418343036, 33.62145921311694], [60....</td>\n",
       "    </tr>\n",
       "    <tr>\n",
       "      <th>1</th>\n",
       "      <td>31500</td>\n",
       "      <td>64225</td>\n",
       "      <td>[4.2, 4.3]</td>\n",
       "      <td>[4.2, 4.3]</td>\n",
       "      <td>1</td>\n",
       "      <td>20240320_171038_alone_comp_subj_4-2_and_4-3.1....</td>\n",
       "      <td>20240320_171038_alone_comp_subj_4-2_and_4-3.1</td>\n",
       "      <td>4.3</td>\n",
       "      <td>[left_ear, right_ear, nose, tail_base, thorax,...</td>\n",
       "      <td>[74.25151247701015, 8.495471311209611]</td>\n",
       "      <td>[75.846431736616, 32.597930822286116]</td>\n",
       "      <td>[44.801761988760454, 9.52006421612736]</td>\n",
       "      <td>[61.213420932957966, 35.084751405625006]</td>\n",
       "      <td>[46.2961822248657, 33.41760470505085]</td>\n",
       "      <td>4.2</td>\n",
       "      <td>[[[64.44770418343036, 33.62145921311694], [60....</td>\n",
       "      <td>[1, 2, 3, 4, 5, 6, 7, 8, 9, 10, 11, 12, 13, 14...</td>\n",
       "      <td>[[[64.90703525371228, 33.28528990033932], [47....</td>\n",
       "    </tr>\n",
       "    <tr>\n",
       "      <th>2</th>\n",
       "      <td>31500</td>\n",
       "      <td>63504</td>\n",
       "      <td>[3.1, 3.3]</td>\n",
       "      <td>[3.1, 3.3]</td>\n",
       "      <td>1</td>\n",
       "      <td>20240320_142408_alone_comp_subj_3-1_and_3-3.1....</td>\n",
       "      <td>20240320_142408_alone_comp_subj_3-1_and_3-3.1</td>\n",
       "      <td>3.1</td>\n",
       "      <td>[left_ear, right_ear, nose, tail_base, thorax,...</td>\n",
       "      <td>[74.26084699849272, 8.602144309163993]</td>\n",
       "      <td>[75.1467563627655, 32.612433022962925]</td>\n",
       "      <td>[44.524314778435695, 9.472402701545125]</td>\n",
       "      <td>[60.89621072293514, 35.03865285708705]</td>\n",
       "      <td>[45.88328858282252, 33.462113987746186]</td>\n",
       "      <td>3.3</td>\n",
       "      <td>[[[80.72344548957854, 15.18291385091661], [82....</td>\n",
       "      <td>[1, 2, 3, 4, 5, 6, 7, 8, 9, 10, 11, 12, 13, 14...</td>\n",
       "      <td>[[[78.76350635960564, 15.794081734700777], [82...</td>\n",
       "    </tr>\n",
       "    <tr>\n",
       "      <th>3</th>\n",
       "      <td>31500</td>\n",
       "      <td>63504</td>\n",
       "      <td>[3.1, 3.3]</td>\n",
       "      <td>[3.1, 3.3]</td>\n",
       "      <td>1</td>\n",
       "      <td>20240320_142408_alone_comp_subj_3-1_and_3-3.1....</td>\n",
       "      <td>20240320_142408_alone_comp_subj_3-1_and_3-3.1</td>\n",
       "      <td>3.3</td>\n",
       "      <td>[left_ear, right_ear, nose, tail_base, thorax,...</td>\n",
       "      <td>[74.26084699849272, 8.602144309163993]</td>\n",
       "      <td>[75.1467563627655, 32.612433022962925]</td>\n",
       "      <td>[44.524314778435695, 9.472402701545125]</td>\n",
       "      <td>[60.89621072293514, 35.03865285708705]</td>\n",
       "      <td>[45.88328858282252, 33.462113987746186]</td>\n",
       "      <td>3.1</td>\n",
       "      <td>[[[78.76350635960564, 15.794081734700777], [82...</td>\n",
       "      <td>[1, 2, 3, 4, 5, 6, 7, 8, 9, 10, 11, 12, 13, 14...</td>\n",
       "      <td>[[[80.72344548957854, 15.18291385091661], [82....</td>\n",
       "    </tr>\n",
       "    <tr>\n",
       "      <th>4</th>\n",
       "      <td>31500</td>\n",
       "      <td>63314</td>\n",
       "      <td>[3.3, 3.4]</td>\n",
       "      <td>[3.3, 3.4]</td>\n",
       "      <td>1</td>\n",
       "      <td>20240322_120625_alone_comp_subj_3-3_and_3-4.1....</td>\n",
       "      <td>20240322_120625_alone_comp_subj_3-3_and_3-4.1</td>\n",
       "      <td>3.3</td>\n",
       "      <td>[left_ear, right_ear, nose, tail_base, thorax,...</td>\n",
       "      <td>[74.42236280061786, 8.926387194010582]</td>\n",
       "      <td>[75.66229810506, 33.05595819376228]</td>\n",
       "      <td>[44.96183325239834, 9.665056726197681]</td>\n",
       "      <td>[60.64564060702992, 34.963224775288616]</td>\n",
       "      <td>[46.12282765327953, 33.535485726445984]</td>\n",
       "      <td>3.4</td>\n",
       "      <td>[[[42.67602103277421, 38.86750190352169], [55....</td>\n",
       "      <td>[1, 2, 3, 4, 5, 6, 7, 8, 9, 10, 11, 12, 13, 14...</td>\n",
       "      <td>[[[44.93975760933053, 22.757104477777183], [48...</td>\n",
       "    </tr>\n",
       "  </tbody>\n",
       "</table>\n",
       "</div>"
      ],
      "text/plain": [
       "   start_frame  stop_frame tracked_subject in_video_subjects  box_number  \\\n",
       "0        31500       64225      [4.2, 4.3]        [4.2, 4.3]           1   \n",
       "1        31500       64225      [4.2, 4.3]        [4.2, 4.3]           1   \n",
       "2        31500       63504      [3.1, 3.3]        [3.1, 3.3]           1   \n",
       "3        31500       63504      [3.1, 3.3]        [3.1, 3.3]           1   \n",
       "4        31500       63314      [3.3, 3.4]        [3.3, 3.4]           1   \n",
       "\n",
       "                                          sleap_name  \\\n",
       "0  20240320_171038_alone_comp_subj_4-2_and_4-3.1....   \n",
       "1  20240320_171038_alone_comp_subj_4-2_and_4-3.1....   \n",
       "2  20240320_142408_alone_comp_subj_3-1_and_3-3.1....   \n",
       "3  20240320_142408_alone_comp_subj_3-1_and_3-3.1....   \n",
       "4  20240322_120625_alone_comp_subj_3-3_and_3-4.1....   \n",
       "\n",
       "                                      video_name current_subject  \\\n",
       "0  20240320_171038_alone_comp_subj_4-2_and_4-3.1             4.2   \n",
       "1  20240320_171038_alone_comp_subj_4-2_and_4-3.1             4.3   \n",
       "2  20240320_142408_alone_comp_subj_3-1_and_3-3.1             3.1   \n",
       "3  20240320_142408_alone_comp_subj_3-1_and_3-3.1             3.3   \n",
       "4  20240322_120625_alone_comp_subj_3-3_and_3-4.1             3.3   \n",
       "\n",
       "                                          body_parts  \\\n",
       "0  [left_ear, right_ear, nose, tail_base, thorax,...   \n",
       "1  [left_ear, right_ear, nose, tail_base, thorax,...   \n",
       "2  [left_ear, right_ear, nose, tail_base, thorax,...   \n",
       "3  [left_ear, right_ear, nose, tail_base, thorax,...   \n",
       "4  [left_ear, right_ear, nose, tail_base, thorax,...   \n",
       "\n",
       "                            box_top_right  \\\n",
       "0  [74.25151247701015, 8.495471311209611]   \n",
       "1  [74.25151247701015, 8.495471311209611]   \n",
       "2  [74.26084699849272, 8.602144309163993]   \n",
       "3  [74.26084699849272, 8.602144309163993]   \n",
       "4  [74.42236280061786, 8.926387194010582]   \n",
       "\n",
       "                         box_bottom_right  \\\n",
       "0   [75.846431736616, 32.597930822286116]   \n",
       "1   [75.846431736616, 32.597930822286116]   \n",
       "2  [75.1467563627655, 32.612433022962925]   \n",
       "3  [75.1467563627655, 32.612433022962925]   \n",
       "4     [75.66229810506, 33.05595819376228]   \n",
       "\n",
       "                              box_top_left  \\\n",
       "0   [44.801761988760454, 9.52006421612736]   \n",
       "1   [44.801761988760454, 9.52006421612736]   \n",
       "2  [44.524314778435695, 9.472402701545125]   \n",
       "3  [44.524314778435695, 9.472402701545125]   \n",
       "4   [44.96183325239834, 9.665056726197681]   \n",
       "\n",
       "                                reward_port  \\\n",
       "0  [61.213420932957966, 35.084751405625006]   \n",
       "1  [61.213420932957966, 35.084751405625006]   \n",
       "2    [60.89621072293514, 35.03865285708705]   \n",
       "3    [60.89621072293514, 35.03865285708705]   \n",
       "4   [60.64564060702992, 34.963224775288616]   \n",
       "\n",
       "                           box_bottom_left agent  \\\n",
       "0    [46.2961822248657, 33.41760470505085]   4.3   \n",
       "1    [46.2961822248657, 33.41760470505085]   4.2   \n",
       "2  [45.88328858282252, 33.462113987746186]   3.3   \n",
       "3  [45.88328858282252, 33.462113987746186]   3.1   \n",
       "4  [46.12282765327953, 33.535485726445984]   3.4   \n",
       "\n",
       "                                   subject_locations  \\\n",
       "0  [[[64.90703525371228, 33.28528990033932], [47....   \n",
       "1  [[[64.44770418343036, 33.62145921311694], [60....   \n",
       "2  [[[80.72344548957854, 15.18291385091661], [82....   \n",
       "3  [[[78.76350635960564, 15.794081734700777], [82...   \n",
       "4  [[[42.67602103277421, 38.86750190352169], [55....   \n",
       "\n",
       "                                         frame_index  \\\n",
       "0  [1, 2, 3, 4, 5, 6, 7, 8, 9, 10, 11, 12, 13, 14...   \n",
       "1  [1, 2, 3, 4, 5, 6, 7, 8, 9, 10, 11, 12, 13, 14...   \n",
       "2  [1, 2, 3, 4, 5, 6, 7, 8, 9, 10, 11, 12, 13, 14...   \n",
       "3  [1, 2, 3, 4, 5, 6, 7, 8, 9, 10, 11, 12, 13, 14...   \n",
       "4  [1, 2, 3, 4, 5, 6, 7, 8, 9, 10, 11, 12, 13, 14...   \n",
       "\n",
       "                                     agent_locations  \n",
       "0  [[[64.44770418343036, 33.62145921311694], [60....  \n",
       "1  [[[64.90703525371228, 33.28528990033932], [47....  \n",
       "2  [[[78.76350635960564, 15.794081734700777], [82...  \n",
       "3  [[[80.72344548957854, 15.18291385091661], [82....  \n",
       "4  [[[44.93975760933053, 22.757104477777183], [48...  "
      ]
     },
     "execution_count": 93,
     "metadata": {},
     "output_type": "execute_result"
    }
   ],
   "source": [
    "START_STOP_FRAME_DF.head()"
   ]
  },
  {
   "cell_type": "code",
   "execution_count": null,
   "metadata": {},
   "outputs": [],
   "source": []
  },
  {
   "cell_type": "markdown",
   "metadata": {},
   "source": [
    "# Calculate velocity"
   ]
  },
  {
   "cell_type": "code",
   "execution_count": 94,
   "metadata": {
    "tags": []
   },
   "outputs": [
    {
     "data": {
      "text/plain": [
       "Index(['start_frame', 'stop_frame', 'tracked_subject', 'in_video_subjects',\n",
       "       'box_number', 'sleap_name', 'video_name', 'current_subject',\n",
       "       'body_parts', 'box_top_right', 'box_bottom_right', 'box_top_left',\n",
       "       'reward_port', 'box_bottom_left', 'agent', 'subject_locations',\n",
       "       'frame_index', 'agent_locations'],\n",
       "      dtype='object')"
      ]
     },
     "execution_count": 94,
     "metadata": {},
     "output_type": "execute_result"
    }
   ],
   "source": [
    "START_STOP_FRAME_DF.columns"
   ]
  },
  {
   "cell_type": "code",
   "execution_count": 95,
   "metadata": {
    "tags": []
   },
   "outputs": [
    {
     "data": {
      "text/plain": [
       "0     4\n",
       "1     4\n",
       "2     4\n",
       "3     4\n",
       "4     4\n",
       "5     4\n",
       "6     4\n",
       "7     4\n",
       "8     4\n",
       "9     4\n",
       "10    4\n",
       "11    4\n",
       "12    4\n",
       "13    4\n",
       "Name: body_parts, dtype: int64"
      ]
     },
     "execution_count": 95,
     "metadata": {},
     "output_type": "execute_result"
    }
   ],
   "source": [
    "START_STOP_FRAME_DF[\"body_parts\"].apply(lambda x: x.index(\"thorax\"))"
   ]
  },
  {
   "cell_type": "code",
   "execution_count": 96,
   "metadata": {
    "tags": []
   },
   "outputs": [],
   "source": [
    "START_STOP_FRAME_DF[\"subject_thorax_velocity\"] = START_STOP_FRAME_DF.apply(lambda x: compute_velocity(x[\"subject_locations\"][:,x[\"body_parts\"].index(\"thorax\"),:], window_size=FRAME_RATE*3) * FRAME_RATE, axis=1)\n",
    "START_STOP_FRAME_DF[\"subject_thorax_velocity\"] = START_STOP_FRAME_DF[\"subject_thorax_velocity\"].apply(lambda x: x.astype(np.float16) if x is not np.nan else np.nan)"
   ]
  },
  {
   "cell_type": "code",
   "execution_count": 97,
   "metadata": {
    "tags": []
   },
   "outputs": [
    {
     "data": {
      "text/plain": [
       "0     [[[64.44770418343036, 33.62145921311694], [60....\n",
       "1     [[[64.90703525371228, 33.28528990033932], [47....\n",
       "2     [[[78.76350635960564, 15.794081734700777], [82...\n",
       "3     [[[80.72344548957854, 15.18291385091661], [82....\n",
       "4     [[[44.93975760933053, 22.757104477777183], [48...\n",
       "5     [[[42.67602103277421, 38.86750190352169], [55....\n",
       "6     [[[66.31575731447042, 33.811210781959424], [62...\n",
       "7     [[[55.586517569751884, 37.850510673870794], [5...\n",
       "8     [[[75.58640432195098, 25.993283809569974], [71...\n",
       "9     [[[66.71229866264234, 7.6530224410911725], [64...\n",
       "10    [[[38.49837284986714, 14.55455110423044], [37....\n",
       "11    [[[38.999890280483065, 13.248358360109465], [3...\n",
       "12    [[[61.45843466863499, 32.032592967139145], [59...\n",
       "13    [[[56.986964177053565, 31.8836904164058], [55....\n",
       "Name: agent_locations, dtype: object"
      ]
     },
     "execution_count": 97,
     "metadata": {},
     "output_type": "execute_result"
    }
   ],
   "source": [
    "START_STOP_FRAME_DF[\"agent_locations\"]"
   ]
  },
  {
   "cell_type": "code",
   "execution_count": 98,
   "metadata": {
    "tags": []
   },
   "outputs": [],
   "source": [
    "START_STOP_FRAME_DF[\"agent_thorax_velocity\"] = START_STOP_FRAME_DF.apply(lambda x: compute_velocity(x[\"agent_locations\"][:,x[\"body_parts\"].index(\"thorax\"),:], window_size=FRAME_RATE*3) * FRAME_RATE if x[\"agent_locations\"] is not np.nan else np.nan, axis=1)\n",
    "START_STOP_FRAME_DF[\"agent_thorax_velocity\"] = START_STOP_FRAME_DF[\"agent_thorax_velocity\"].apply(lambda x: x.astype(np.float16) if x is not np.nan else np.nan)\n"
   ]
  },
  {
   "cell_type": "code",
   "execution_count": 99,
   "metadata": {
    "tags": []
   },
   "outputs": [
    {
     "data": {
      "text/plain": [
       "(64255,)"
      ]
     },
     "execution_count": 99,
     "metadata": {},
     "output_type": "execute_result"
    }
   ],
   "source": [
    "START_STOP_FRAME_DF[\"subject_thorax_velocity\"].iloc[0].shape"
   ]
  },
  {
   "cell_type": "markdown",
   "metadata": {},
   "source": [
    "## Calculate distance to reward port"
   ]
  },
  {
   "cell_type": "code",
   "execution_count": 100,
   "metadata": {
    "tags": []
   },
   "outputs": [],
   "source": [
    "START_STOP_FRAME_DF[\"subject_thorax_to_reward_port\"] = START_STOP_FRAME_DF.apply(lambda x: np.linalg.norm(x[\"subject_locations\"][:,x[\"body_parts\"].index(\"thorax\"),:] - x[\"reward_port\"], axis=1),  axis=1)\n",
    "START_STOP_FRAME_DF[\"subject_thorax_to_reward_port\"] = START_STOP_FRAME_DF[\"subject_thorax_to_reward_port\"].apply(lambda x: x.astype(np.float16) if x is not np.nan else np.nan)"
   ]
  },
  {
   "cell_type": "code",
   "execution_count": 101,
   "metadata": {
    "tags": []
   },
   "outputs": [],
   "source": [
    "START_STOP_FRAME_DF[\"agent_thorax_to_reward_port\"] = START_STOP_FRAME_DF.apply(lambda x: np.linalg.norm(x[\"agent_locations\"][:,x[\"body_parts\"].index(\"thorax\"),:] - x[\"reward_port\"], axis=1) if x[\"agent_locations\"] is not np.nan else np.nan,  axis=1)\n",
    "START_STOP_FRAME_DF[\"agent_thorax_to_reward_port\"] = START_STOP_FRAME_DF[\"agent_thorax_to_reward_port\"].apply(lambda x: x.astype(np.float16) if x is not np.nan else np.nan)"
   ]
  },
  {
   "cell_type": "code",
   "execution_count": null,
   "metadata": {},
   "outputs": [],
   "source": []
  },
  {
   "cell_type": "markdown",
   "metadata": {},
   "source": [
    "## Putting together LFP and video start/stop"
   ]
  },
  {
   "cell_type": "code",
   "execution_count": 102,
   "metadata": {
    "tags": []
   },
   "outputs": [
    {
     "data": {
      "text/plain": [
       "array(['20240320_171038_alone_comp_subj_4-2_and_4-3.1',\n",
       "       '20240320_142408_alone_comp_subj_3-1_and_3-3.1',\n",
       "       '20240322_120625_alone_comp_subj_3-3_and_3-4.1',\n",
       "       '20240322_160946_alone_comp_subj_4-3_and_4-4.1',\n",
       "       '20240323_122227_alone_comp_subj_5-2_and_5-3.1'], dtype=object)"
      ]
     },
     "execution_count": 102,
     "metadata": {},
     "output_type": "execute_result"
    }
   ],
   "source": [
    "START_STOP_FRAME_DF[\"video_name\"].unique()[:5]"
   ]
  },
  {
   "cell_type": "code",
   "execution_count": 103,
   "metadata": {
    "tags": []
   },
   "outputs": [
    {
     "data": {
      "text/plain": [
       "array(['20240320_142408_alone_comp_subj_3-1_and_3-3.1',\n",
       "       '20240320_142408_alone_comp_subj_3-1_and_3-3.2',\n",
       "       '20240320_171038_alone_comp_subj_4-2_and_4-3.1',\n",
       "       '20240320_171038_alone_comp_subj_4-2_and_4-3.2',\n",
       "       '20240322_120625_alone_comp_subj_3-3_and_3-4.1'], dtype=object)"
      ]
     },
     "execution_count": 103,
     "metadata": {},
     "output_type": "execute_result"
    }
   ],
   "source": [
    "LFP_SPECTRAL_DF[\"video_name\"].unique()[:5]"
   ]
  },
  {
   "cell_type": "code",
   "execution_count": 104,
   "metadata": {
    "tags": []
   },
   "outputs": [
    {
     "data": {
      "text/plain": [
       "array(['3.1', '3.3', '4.2', '4.3', '3.4', '5.2'], dtype=object)"
      ]
     },
     "execution_count": 104,
     "metadata": {},
     "output_type": "execute_result"
    }
   ],
   "source": [
    "LFP_SPECTRAL_DF[\"current_subject\"].unique()"
   ]
  },
  {
   "cell_type": "code",
   "execution_count": 105,
   "metadata": {
    "tags": []
   },
   "outputs": [
    {
     "data": {
      "text/plain": [
       "array(['4.2', '4.3', '3.1', '3.3', '3.4', '4.4', '5.2', '5.3'],\n",
       "      dtype=object)"
      ]
     },
     "execution_count": 105,
     "metadata": {},
     "output_type": "execute_result"
    }
   ],
   "source": [
    "START_STOP_FRAME_DF[\"current_subject\"].unique()"
   ]
  },
  {
   "cell_type": "code",
   "execution_count": 106,
   "metadata": {
    "tags": []
   },
   "outputs": [],
   "source": [
    "LFP_AND_SLEAP_DF = pd.merge(LFP_SPECTRAL_DF, START_STOP_FRAME_DF, on=[\"video_name\", \"current_subject\"], how=\"inner\")"
   ]
  },
  {
   "cell_type": "code",
   "execution_count": 107,
   "metadata": {
    "tags": []
   },
   "outputs": [
    {
     "data": {
      "text/plain": [
       "0    (63504,)\n",
       "1    (63504,)\n",
       "2    (64255,)\n",
       "3    (64255,)\n",
       "4    (63314,)\n",
       "Name: video_timestamps, dtype: object"
      ]
     },
     "execution_count": 107,
     "metadata": {},
     "output_type": "execute_result"
    }
   ],
   "source": [
    "LFP_AND_SLEAP_DF[\"video_timestamps\"].apply(lambda x: x.shape).head()"
   ]
  },
  {
   "cell_type": "code",
   "execution_count": 108,
   "metadata": {
    "tags": []
   },
   "outputs": [
    {
     "data": {
      "text/html": [
       "<div>\n",
       "<style scoped>\n",
       "    .dataframe tbody tr th:only-of-type {\n",
       "        vertical-align: middle;\n",
       "    }\n",
       "\n",
       "    .dataframe tbody tr th {\n",
       "        vertical-align: top;\n",
       "    }\n",
       "\n",
       "    .dataframe thead th {\n",
       "        text-align: right;\n",
       "    }\n",
       "</style>\n",
       "<table border=\"1\" class=\"dataframe\">\n",
       "  <thead>\n",
       "    <tr style=\"text-align: right;\">\n",
       "      <th></th>\n",
       "      <th>cohort</th>\n",
       "      <th>session_dir</th>\n",
       "      <th>tone_frames</th>\n",
       "      <th>box_1_port_entry_frames</th>\n",
       "      <th>box_2_port_entry_frames</th>\n",
       "      <th>video_name</th>\n",
       "      <th>notes</th>\n",
       "      <th>session_path</th>\n",
       "      <th>recording</th>\n",
       "      <th>current_subject</th>\n",
       "      <th>...</th>\n",
       "      <th>reward_port</th>\n",
       "      <th>box_bottom_left</th>\n",
       "      <th>agent</th>\n",
       "      <th>subject_locations</th>\n",
       "      <th>frame_index</th>\n",
       "      <th>agent_locations</th>\n",
       "      <th>subject_thorax_velocity</th>\n",
       "      <th>agent_thorax_velocity</th>\n",
       "      <th>subject_thorax_to_reward_port</th>\n",
       "      <th>agent_thorax_to_reward_port</th>\n",
       "    </tr>\n",
       "  </thead>\n",
       "  <tbody>\n",
       "    <tr>\n",
       "      <th>0</th>\n",
       "      <td>rce_pilot_3</td>\n",
       "      <td>20240320_142408_alone_comp_subj_3-1_and_3-3</td>\n",
       "      <td>[[0, 74], [1272, 1471], [3268, 3469], [4466, 4...</td>\n",
       "      <td>[[0, 74], [152, 157], [252, 305], [305, 323], ...</td>\n",
       "      <td>[[0, 74], [160, 225], [254, 257], [257, 279], ...</td>\n",
       "      <td>20240320_142408_alone_comp_subj_3-1_and_3-3.1</td>\n",
       "      <td>NaN</td>\n",
       "      <td>/scratch/back_up/reward_competition_extention/...</td>\n",
       "      <td>20240320_142408_alone_comp_subj_3-1_t6b6_merged</td>\n",
       "      <td>3.1</td>\n",
       "      <td>...</td>\n",
       "      <td>[60.89621072293514, 35.03865285708705]</td>\n",
       "      <td>[45.88328858282252, 33.462113987746186]</td>\n",
       "      <td>3.3</td>\n",
       "      <td>[[[80.72344548957854, 15.18291385091661], [82....</td>\n",
       "      <td>[1, 2, 3, 4, 5, 6, 7, 8, 9, 10, 11, 12, 13, 14...</td>\n",
       "      <td>[[[78.76350635960564, 15.794081734700777], [82...</td>\n",
       "      <td>[0.0, 0.0, 0.0, 0.0, 0.0, 0.0, 0.0, 0.0, 0.0, ...</td>\n",
       "      <td>[11.09, 10.26, 9.484, 8.77, 8.125, 7.555, 7.05...</td>\n",
       "      <td>[26.84, 26.84, 26.84, 26.84, 26.84, 26.84, 26....</td>\n",
       "      <td>[22.83, 23.27, 23.69, 24.17, 24.75, 24.6, 24.3...</td>\n",
       "    </tr>\n",
       "    <tr>\n",
       "      <th>1</th>\n",
       "      <td>rce_pilot_3</td>\n",
       "      <td>20240320_142408_alone_comp_subj_3-1_and_3-3</td>\n",
       "      <td>[[0, 74], [1272, 1471], [3268, 3469], [4466, 4...</td>\n",
       "      <td>[[0, 74], [152, 157], [252, 305], [305, 323], ...</td>\n",
       "      <td>[[0, 74], [160, 225], [254, 257], [257, 279], ...</td>\n",
       "      <td>20240320_142408_alone_comp_subj_3-1_and_3-3.1</td>\n",
       "      <td>NaN</td>\n",
       "      <td>/scratch/back_up/reward_competition_extention/...</td>\n",
       "      <td>20240320_142408_alone_comp_subj_3-3_t5b5_merged</td>\n",
       "      <td>3.3</td>\n",
       "      <td>...</td>\n",
       "      <td>[60.89621072293514, 35.03865285708705]</td>\n",
       "      <td>[45.88328858282252, 33.462113987746186]</td>\n",
       "      <td>3.1</td>\n",
       "      <td>[[[78.76350635960564, 15.794081734700777], [82...</td>\n",
       "      <td>[1, 2, 3, 4, 5, 6, 7, 8, 9, 10, 11, 12, 13, 14...</td>\n",
       "      <td>[[[80.72344548957854, 15.18291385091661], [82....</td>\n",
       "      <td>[11.09, 10.26, 9.484, 8.77, 8.125, 7.555, 7.05...</td>\n",
       "      <td>[0.0, 0.0, 0.0, 0.0, 0.0, 0.0, 0.0, 0.0, 0.0, ...</td>\n",
       "      <td>[22.83, 23.27, 23.69, 24.17, 24.75, 24.6, 24.3...</td>\n",
       "      <td>[26.84, 26.84, 26.84, 26.84, 26.84, 26.84, 26....</td>\n",
       "    </tr>\n",
       "    <tr>\n",
       "      <th>2</th>\n",
       "      <td>rce_pilot_3</td>\n",
       "      <td>20240320_171038_alone_comp_subj_4-2_and_4-3</td>\n",
       "      <td>[[0, 79], [1276, 1477], [3272, 3473], [4470, 4...</td>\n",
       "      <td>[[0, 79], [84, 92], [92, 132], [145, 175], [25...</td>\n",
       "      <td>[[0, 79], [79, 186], [188, 191], [191, 268], [...</td>\n",
       "      <td>20240320_171038_alone_comp_subj_4-2_and_4-3.1</td>\n",
       "      <td>NaN</td>\n",
       "      <td>/scratch/back_up/reward_competition_extention/...</td>\n",
       "      <td>20240320_171038_alone_comp_subj_4-2_t6b6_merged</td>\n",
       "      <td>4.2</td>\n",
       "      <td>...</td>\n",
       "      <td>[61.213420932957966, 35.084751405625006]</td>\n",
       "      <td>[46.2961822248657, 33.41760470505085]</td>\n",
       "      <td>4.3</td>\n",
       "      <td>[[[64.90703525371228, 33.28528990033932], [47....</td>\n",
       "      <td>[1, 2, 3, 4, 5, 6, 7, 8, 9, 10, 11, 12, 13, 14...</td>\n",
       "      <td>[[[64.44770418343036, 33.62145921311694], [60....</td>\n",
       "      <td>[4.75, 4.48, 4.207, 3.932, 3.658, 3.383, 3.105...</td>\n",
       "      <td>[2.611, 2.268, 1.943, 1.642, 1.36, 1.101, 0.86...</td>\n",
       "      <td>[4.5, 4.5, 4.5, 4.5, 4.5, 4.5, 4.5, 4.5, 4.5, ...</td>\n",
       "      <td>[4.754, 4.723, 4.504, 4.598, 4.617, 4.617, 4.4...</td>\n",
       "    </tr>\n",
       "    <tr>\n",
       "      <th>3</th>\n",
       "      <td>rce_pilot_3</td>\n",
       "      <td>20240320_171038_alone_comp_subj_4-2_and_4-3</td>\n",
       "      <td>[[0, 79], [1276, 1477], [3272, 3473], [4470, 4...</td>\n",
       "      <td>[[0, 79], [84, 92], [92, 132], [145, 175], [25...</td>\n",
       "      <td>[[0, 79], [79, 186], [188, 191], [191, 268], [...</td>\n",
       "      <td>20240320_171038_alone_comp_subj_4-2_and_4-3.1</td>\n",
       "      <td>NaN</td>\n",
       "      <td>/scratch/back_up/reward_competition_extention/...</td>\n",
       "      <td>20240320_171038_alone_comp_subj_4-3_t5b5_merged</td>\n",
       "      <td>4.3</td>\n",
       "      <td>...</td>\n",
       "      <td>[61.213420932957966, 35.084751405625006]</td>\n",
       "      <td>[46.2961822248657, 33.41760470505085]</td>\n",
       "      <td>4.2</td>\n",
       "      <td>[[[64.44770418343036, 33.62145921311694], [60....</td>\n",
       "      <td>[1, 2, 3, 4, 5, 6, 7, 8, 9, 10, 11, 12, 13, 14...</td>\n",
       "      <td>[[[64.90703525371228, 33.28528990033932], [47....</td>\n",
       "      <td>[2.611, 2.268, 1.943, 1.642, 1.36, 1.101, 0.86...</td>\n",
       "      <td>[4.75, 4.48, 4.207, 3.932, 3.658, 3.383, 3.105...</td>\n",
       "      <td>[4.754, 4.723, 4.504, 4.598, 4.617, 4.617, 4.4...</td>\n",
       "      <td>[4.5, 4.5, 4.5, 4.5, 4.5, 4.5, 4.5, 4.5, 4.5, ...</td>\n",
       "    </tr>\n",
       "    <tr>\n",
       "      <th>4</th>\n",
       "      <td>rce_pilot_3</td>\n",
       "      <td>20240322_120625_alone_comp_subj_3-3_and_3-4</td>\n",
       "      <td>[[0, 101], [1299, 1500], [3297, 3496], [4494, ...</td>\n",
       "      <td>[[0, 101], [102, 105], [181, 226], [226, 260],...</td>\n",
       "      <td>[[0, 101], [223, 248], [286, 292], [293, 302],...</td>\n",
       "      <td>20240322_120625_alone_comp_subj_3-3_and_3-4.1</td>\n",
       "      <td>NaN</td>\n",
       "      <td>/scratch/back_up/reward_competition_extention/...</td>\n",
       "      <td>20240322_120625_alone_comp_subj_3-3_t6b6_merged</td>\n",
       "      <td>3.3</td>\n",
       "      <td>...</td>\n",
       "      <td>[60.64564060702992, 34.963224775288616]</td>\n",
       "      <td>[46.12282765327953, 33.535485726445984]</td>\n",
       "      <td>3.4</td>\n",
       "      <td>[[[42.67602103277421, 38.86750190352169], [55....</td>\n",
       "      <td>[1, 2, 3, 4, 5, 6, 7, 8, 9, 10, 11, 12, 13, 14...</td>\n",
       "      <td>[[[44.93975760933053, 22.757104477777183], [48...</td>\n",
       "      <td>[0.0, 0.0, 0.0, 0.0, 0.0, 0.0, 0.0, 0.0, 0.0, ...</td>\n",
       "      <td>[58.16, 55.34, 52.6, 49.94, 47.34, 44.8, 42.34...</td>\n",
       "      <td>[2.113, 2.113, 2.113, 2.113, 2.113, 2.113, 2.1...</td>\n",
       "      <td>[17.23, 17.56, 17.75, 17.83, 17.73, 17.27, 16....</td>\n",
       "    </tr>\n",
       "  </tbody>\n",
       "</table>\n",
       "<p>5 rows × 49 columns</p>\n",
       "</div>"
      ],
      "text/plain": [
       "        cohort                                  session_dir  \\\n",
       "0  rce_pilot_3  20240320_142408_alone_comp_subj_3-1_and_3-3   \n",
       "1  rce_pilot_3  20240320_142408_alone_comp_subj_3-1_and_3-3   \n",
       "2  rce_pilot_3  20240320_171038_alone_comp_subj_4-2_and_4-3   \n",
       "3  rce_pilot_3  20240320_171038_alone_comp_subj_4-2_and_4-3   \n",
       "4  rce_pilot_3  20240322_120625_alone_comp_subj_3-3_and_3-4   \n",
       "\n",
       "                                         tone_frames  \\\n",
       "0  [[0, 74], [1272, 1471], [3268, 3469], [4466, 4...   \n",
       "1  [[0, 74], [1272, 1471], [3268, 3469], [4466, 4...   \n",
       "2  [[0, 79], [1276, 1477], [3272, 3473], [4470, 4...   \n",
       "3  [[0, 79], [1276, 1477], [3272, 3473], [4470, 4...   \n",
       "4  [[0, 101], [1299, 1500], [3297, 3496], [4494, ...   \n",
       "\n",
       "                             box_1_port_entry_frames  \\\n",
       "0  [[0, 74], [152, 157], [252, 305], [305, 323], ...   \n",
       "1  [[0, 74], [152, 157], [252, 305], [305, 323], ...   \n",
       "2  [[0, 79], [84, 92], [92, 132], [145, 175], [25...   \n",
       "3  [[0, 79], [84, 92], [92, 132], [145, 175], [25...   \n",
       "4  [[0, 101], [102, 105], [181, 226], [226, 260],...   \n",
       "\n",
       "                             box_2_port_entry_frames  \\\n",
       "0  [[0, 74], [160, 225], [254, 257], [257, 279], ...   \n",
       "1  [[0, 74], [160, 225], [254, 257], [257, 279], ...   \n",
       "2  [[0, 79], [79, 186], [188, 191], [191, 268], [...   \n",
       "3  [[0, 79], [79, 186], [188, 191], [191, 268], [...   \n",
       "4  [[0, 101], [223, 248], [286, 292], [293, 302],...   \n",
       "\n",
       "                                      video_name notes  \\\n",
       "0  20240320_142408_alone_comp_subj_3-1_and_3-3.1   NaN   \n",
       "1  20240320_142408_alone_comp_subj_3-1_and_3-3.1   NaN   \n",
       "2  20240320_171038_alone_comp_subj_4-2_and_4-3.1   NaN   \n",
       "3  20240320_171038_alone_comp_subj_4-2_and_4-3.1   NaN   \n",
       "4  20240322_120625_alone_comp_subj_3-3_and_3-4.1   NaN   \n",
       "\n",
       "                                        session_path  \\\n",
       "0  /scratch/back_up/reward_competition_extention/...   \n",
       "1  /scratch/back_up/reward_competition_extention/...   \n",
       "2  /scratch/back_up/reward_competition_extention/...   \n",
       "3  /scratch/back_up/reward_competition_extention/...   \n",
       "4  /scratch/back_up/reward_competition_extention/...   \n",
       "\n",
       "                                         recording current_subject  ...  \\\n",
       "0  20240320_142408_alone_comp_subj_3-1_t6b6_merged             3.1  ...   \n",
       "1  20240320_142408_alone_comp_subj_3-3_t5b5_merged             3.3  ...   \n",
       "2  20240320_171038_alone_comp_subj_4-2_t6b6_merged             4.2  ...   \n",
       "3  20240320_171038_alone_comp_subj_4-3_t5b5_merged             4.3  ...   \n",
       "4  20240322_120625_alone_comp_subj_3-3_t6b6_merged             3.3  ...   \n",
       "\n",
       "                                reward_port  \\\n",
       "0    [60.89621072293514, 35.03865285708705]   \n",
       "1    [60.89621072293514, 35.03865285708705]   \n",
       "2  [61.213420932957966, 35.084751405625006]   \n",
       "3  [61.213420932957966, 35.084751405625006]   \n",
       "4   [60.64564060702992, 34.963224775288616]   \n",
       "\n",
       "                           box_bottom_left  agent  \\\n",
       "0  [45.88328858282252, 33.462113987746186]    3.3   \n",
       "1  [45.88328858282252, 33.462113987746186]    3.1   \n",
       "2    [46.2961822248657, 33.41760470505085]    4.3   \n",
       "3    [46.2961822248657, 33.41760470505085]    4.2   \n",
       "4  [46.12282765327953, 33.535485726445984]    3.4   \n",
       "\n",
       "                                   subject_locations  \\\n",
       "0  [[[80.72344548957854, 15.18291385091661], [82....   \n",
       "1  [[[78.76350635960564, 15.794081734700777], [82...   \n",
       "2  [[[64.90703525371228, 33.28528990033932], [47....   \n",
       "3  [[[64.44770418343036, 33.62145921311694], [60....   \n",
       "4  [[[42.67602103277421, 38.86750190352169], [55....   \n",
       "\n",
       "                                         frame_index  \\\n",
       "0  [1, 2, 3, 4, 5, 6, 7, 8, 9, 10, 11, 12, 13, 14...   \n",
       "1  [1, 2, 3, 4, 5, 6, 7, 8, 9, 10, 11, 12, 13, 14...   \n",
       "2  [1, 2, 3, 4, 5, 6, 7, 8, 9, 10, 11, 12, 13, 14...   \n",
       "3  [1, 2, 3, 4, 5, 6, 7, 8, 9, 10, 11, 12, 13, 14...   \n",
       "4  [1, 2, 3, 4, 5, 6, 7, 8, 9, 10, 11, 12, 13, 14...   \n",
       "\n",
       "                                     agent_locations  \\\n",
       "0  [[[78.76350635960564, 15.794081734700777], [82...   \n",
       "1  [[[80.72344548957854, 15.18291385091661], [82....   \n",
       "2  [[[64.44770418343036, 33.62145921311694], [60....   \n",
       "3  [[[64.90703525371228, 33.28528990033932], [47....   \n",
       "4  [[[44.93975760933053, 22.757104477777183], [48...   \n",
       "\n",
       "                             subject_thorax_velocity  \\\n",
       "0  [0.0, 0.0, 0.0, 0.0, 0.0, 0.0, 0.0, 0.0, 0.0, ...   \n",
       "1  [11.09, 10.26, 9.484, 8.77, 8.125, 7.555, 7.05...   \n",
       "2  [4.75, 4.48, 4.207, 3.932, 3.658, 3.383, 3.105...   \n",
       "3  [2.611, 2.268, 1.943, 1.642, 1.36, 1.101, 0.86...   \n",
       "4  [0.0, 0.0, 0.0, 0.0, 0.0, 0.0, 0.0, 0.0, 0.0, ...   \n",
       "\n",
       "                               agent_thorax_velocity  \\\n",
       "0  [11.09, 10.26, 9.484, 8.77, 8.125, 7.555, 7.05...   \n",
       "1  [0.0, 0.0, 0.0, 0.0, 0.0, 0.0, 0.0, 0.0, 0.0, ...   \n",
       "2  [2.611, 2.268, 1.943, 1.642, 1.36, 1.101, 0.86...   \n",
       "3  [4.75, 4.48, 4.207, 3.932, 3.658, 3.383, 3.105...   \n",
       "4  [58.16, 55.34, 52.6, 49.94, 47.34, 44.8, 42.34...   \n",
       "\n",
       "                       subject_thorax_to_reward_port  \\\n",
       "0  [26.84, 26.84, 26.84, 26.84, 26.84, 26.84, 26....   \n",
       "1  [22.83, 23.27, 23.69, 24.17, 24.75, 24.6, 24.3...   \n",
       "2  [4.5, 4.5, 4.5, 4.5, 4.5, 4.5, 4.5, 4.5, 4.5, ...   \n",
       "3  [4.754, 4.723, 4.504, 4.598, 4.617, 4.617, 4.4...   \n",
       "4  [2.113, 2.113, 2.113, 2.113, 2.113, 2.113, 2.1...   \n",
       "\n",
       "                         agent_thorax_to_reward_port  \n",
       "0  [22.83, 23.27, 23.69, 24.17, 24.75, 24.6, 24.3...  \n",
       "1  [26.84, 26.84, 26.84, 26.84, 26.84, 26.84, 26....  \n",
       "2  [4.754, 4.723, 4.504, 4.598, 4.617, 4.617, 4.4...  \n",
       "3  [4.5, 4.5, 4.5, 4.5, 4.5, 4.5, 4.5, 4.5, 4.5, ...  \n",
       "4  [17.23, 17.56, 17.75, 17.83, 17.73, 17.27, 16....  \n",
       "\n",
       "[5 rows x 49 columns]"
      ]
     },
     "execution_count": 108,
     "metadata": {},
     "output_type": "execute_result"
    }
   ],
   "source": [
    "LFP_AND_SLEAP_DF.head()"
   ]
  },
  {
   "cell_type": "markdown",
   "metadata": {
    "tags": []
   },
   "source": [
    "- Checking if any of the velocities contain Nans"
   ]
  },
  {
   "cell_type": "code",
   "execution_count": 109,
   "metadata": {
    "tags": []
   },
   "outputs": [
    {
     "data": {
      "text/html": [
       "<div>\n",
       "<style scoped>\n",
       "    .dataframe tbody tr th:only-of-type {\n",
       "        vertical-align: middle;\n",
       "    }\n",
       "\n",
       "    .dataframe tbody tr th {\n",
       "        vertical-align: top;\n",
       "    }\n",
       "\n",
       "    .dataframe thead th {\n",
       "        text-align: right;\n",
       "    }\n",
       "</style>\n",
       "<table border=\"1\" class=\"dataframe\">\n",
       "  <thead>\n",
       "    <tr style=\"text-align: right;\">\n",
       "      <th></th>\n",
       "      <th>cohort</th>\n",
       "      <th>session_dir</th>\n",
       "      <th>tone_frames</th>\n",
       "      <th>box_1_port_entry_frames</th>\n",
       "      <th>box_2_port_entry_frames</th>\n",
       "      <th>video_name</th>\n",
       "      <th>notes</th>\n",
       "      <th>session_path</th>\n",
       "      <th>recording</th>\n",
       "      <th>current_subject</th>\n",
       "      <th>...</th>\n",
       "      <th>reward_port</th>\n",
       "      <th>box_bottom_left</th>\n",
       "      <th>agent</th>\n",
       "      <th>subject_locations</th>\n",
       "      <th>frame_index</th>\n",
       "      <th>agent_locations</th>\n",
       "      <th>subject_thorax_velocity</th>\n",
       "      <th>agent_thorax_velocity</th>\n",
       "      <th>subject_thorax_to_reward_port</th>\n",
       "      <th>agent_thorax_to_reward_port</th>\n",
       "    </tr>\n",
       "  </thead>\n",
       "  <tbody>\n",
       "  </tbody>\n",
       "</table>\n",
       "<p>0 rows × 49 columns</p>\n",
       "</div>"
      ],
      "text/plain": [
       "Empty DataFrame\n",
       "Columns: [cohort, session_dir, tone_frames, box_1_port_entry_frames, box_2_port_entry_frames, video_name, notes, session_path, recording, current_subject, subject, all_subjects, first_timestamp, last_timestamp, video_timestamps, tone_timestamps, box_1_port_entry_timestamps, box_2_port_entry_timestamps, lfp_timestamps, vHPC_lfp_trace, BLA_lfp_trace, LH_lfp_trace, MD_lfp_trace, mPFC_lfp_trace, recording_name, spike_clusters, spike_times, neuron_average_fr, neuron_average_timestamps, start_frame, stop_frame, tracked_subject, in_video_subjects, box_number, sleap_name, body_parts, box_top_right, box_bottom_right, box_top_left, reward_port, box_bottom_left, agent, subject_locations, frame_index, agent_locations, subject_thorax_velocity, agent_thorax_velocity, subject_thorax_to_reward_port, agent_thorax_to_reward_port]\n",
       "Index: []\n",
       "\n",
       "[0 rows x 49 columns]"
      ]
     },
     "execution_count": 109,
     "metadata": {},
     "output_type": "execute_result"
    }
   ],
   "source": [
    "LFP_AND_SLEAP_DF[LFP_AND_SLEAP_DF[\"subject_thorax_velocity\"].apply(lambda x: np.isnan(x).any())]"
   ]
  },
  {
   "cell_type": "markdown",
   "metadata": {},
   "source": [
    "## Exporting"
   ]
  },
  {
   "cell_type": "code",
   "execution_count": 110,
   "metadata": {
    "tags": []
   },
   "outputs": [
    {
     "data": {
      "text/plain": [
       "Index(['cohort', 'session_dir', 'tone_frames', 'box_1_port_entry_frames',\n",
       "       'box_2_port_entry_frames', 'video_name', 'notes', 'session_path',\n",
       "       'recording', 'current_subject', 'subject', 'all_subjects',\n",
       "       'first_timestamp', 'last_timestamp', 'video_timestamps',\n",
       "       'tone_timestamps', 'box_1_port_entry_timestamps',\n",
       "       'box_2_port_entry_timestamps', 'lfp_timestamps', 'vHPC_lfp_trace',\n",
       "       'BLA_lfp_trace', 'LH_lfp_trace', 'MD_lfp_trace', 'mPFC_lfp_trace',\n",
       "       'recording_name', 'spike_clusters', 'spike_times', 'neuron_average_fr',\n",
       "       'neuron_average_timestamps', 'start_frame', 'stop_frame',\n",
       "       'tracked_subject', 'in_video_subjects', 'box_number', 'sleap_name',\n",
       "       'body_parts', 'box_top_right', 'box_bottom_right', 'box_top_left',\n",
       "       'reward_port', 'box_bottom_left', 'agent', 'subject_locations',\n",
       "       'frame_index', 'agent_locations', 'subject_thorax_velocity',\n",
       "       'agent_thorax_velocity', 'subject_thorax_to_reward_port',\n",
       "       'agent_thorax_to_reward_port'],\n",
       "      dtype='object')"
      ]
     },
     "execution_count": 110,
     "metadata": {},
     "output_type": "execute_result"
    }
   ],
   "source": [
    "LFP_AND_SLEAP_DF.columns"
   ]
  },
  {
   "cell_type": "code",
   "execution_count": 111,
   "metadata": {
    "tags": []
   },
   "outputs": [
    {
     "data": {
      "text/plain": [
       "'rce_pilot_3_alone_comp_04_lfp_spike_sleap.pkl'"
      ]
     },
     "execution_count": 111,
     "metadata": {},
     "output_type": "execute_result"
    }
   ],
   "source": [
    "FULL_LFP_TRACES_PKL"
   ]
  },
  {
   "cell_type": "code",
   "execution_count": 112,
   "metadata": {
    "tags": []
   },
   "outputs": [],
   "source": [
    "LFP_AND_SLEAP_DF.to_pickle(os.path.join(OUTPUT_DIR, FULL_LFP_TRACES_PKL))"
   ]
  },
  {
   "cell_type": "code",
   "execution_count": 113,
   "metadata": {},
   "outputs": [
    {
     "data": {
      "text/html": [
       "<div>\n",
       "<style scoped>\n",
       "    .dataframe tbody tr th:only-of-type {\n",
       "        vertical-align: middle;\n",
       "    }\n",
       "\n",
       "    .dataframe tbody tr th {\n",
       "        vertical-align: top;\n",
       "    }\n",
       "\n",
       "    .dataframe thead th {\n",
       "        text-align: right;\n",
       "    }\n",
       "</style>\n",
       "<table border=\"1\" class=\"dataframe\">\n",
       "  <thead>\n",
       "    <tr style=\"text-align: right;\">\n",
       "      <th></th>\n",
       "      <th>cohort</th>\n",
       "      <th>session_dir</th>\n",
       "      <th>tone_frames</th>\n",
       "      <th>box_1_port_entry_frames</th>\n",
       "      <th>box_2_port_entry_frames</th>\n",
       "      <th>video_name</th>\n",
       "      <th>notes</th>\n",
       "      <th>session_path</th>\n",
       "      <th>recording</th>\n",
       "      <th>current_subject</th>\n",
       "      <th>...</th>\n",
       "      <th>reward_port</th>\n",
       "      <th>box_bottom_left</th>\n",
       "      <th>agent</th>\n",
       "      <th>subject_locations</th>\n",
       "      <th>frame_index</th>\n",
       "      <th>agent_locations</th>\n",
       "      <th>subject_thorax_velocity</th>\n",
       "      <th>agent_thorax_velocity</th>\n",
       "      <th>subject_thorax_to_reward_port</th>\n",
       "      <th>agent_thorax_to_reward_port</th>\n",
       "    </tr>\n",
       "  </thead>\n",
       "  <tbody>\n",
       "    <tr>\n",
       "      <th>0</th>\n",
       "      <td>rce_pilot_3</td>\n",
       "      <td>20240320_142408_alone_comp_subj_3-1_and_3-3</td>\n",
       "      <td>[[0, 74], [1272, 1471], [3268, 3469], [4466, 4...</td>\n",
       "      <td>[[0, 74], [152, 157], [252, 305], [305, 323], ...</td>\n",
       "      <td>[[0, 74], [160, 225], [254, 257], [257, 279], ...</td>\n",
       "      <td>20240320_142408_alone_comp_subj_3-1_and_3-3.1</td>\n",
       "      <td>NaN</td>\n",
       "      <td>/scratch/back_up/reward_competition_extention/...</td>\n",
       "      <td>20240320_142408_alone_comp_subj_3-1_t6b6_merged</td>\n",
       "      <td>3.1</td>\n",
       "      <td>...</td>\n",
       "      <td>[60.89621072293514, 35.03865285708705]</td>\n",
       "      <td>[45.88328858282252, 33.462113987746186]</td>\n",
       "      <td>3.3</td>\n",
       "      <td>[[[80.72344548957854, 15.18291385091661], [82....</td>\n",
       "      <td>[1, 2, 3, 4, 5, 6, 7, 8, 9, 10, 11, 12, 13, 14...</td>\n",
       "      <td>[[[78.76350635960564, 15.794081734700777], [82...</td>\n",
       "      <td>[0.0, 0.0, 0.0, 0.0, 0.0, 0.0, 0.0, 0.0, 0.0, ...</td>\n",
       "      <td>[11.09, 10.26, 9.484, 8.77, 8.125, 7.555, 7.05...</td>\n",
       "      <td>[26.84, 26.84, 26.84, 26.84, 26.84, 26.84, 26....</td>\n",
       "      <td>[22.83, 23.27, 23.69, 24.17, 24.75, 24.6, 24.3...</td>\n",
       "    </tr>\n",
       "    <tr>\n",
       "      <th>1</th>\n",
       "      <td>rce_pilot_3</td>\n",
       "      <td>20240320_142408_alone_comp_subj_3-1_and_3-3</td>\n",
       "      <td>[[0, 74], [1272, 1471], [3268, 3469], [4466, 4...</td>\n",
       "      <td>[[0, 74], [152, 157], [252, 305], [305, 323], ...</td>\n",
       "      <td>[[0, 74], [160, 225], [254, 257], [257, 279], ...</td>\n",
       "      <td>20240320_142408_alone_comp_subj_3-1_and_3-3.1</td>\n",
       "      <td>NaN</td>\n",
       "      <td>/scratch/back_up/reward_competition_extention/...</td>\n",
       "      <td>20240320_142408_alone_comp_subj_3-3_t5b5_merged</td>\n",
       "      <td>3.3</td>\n",
       "      <td>...</td>\n",
       "      <td>[60.89621072293514, 35.03865285708705]</td>\n",
       "      <td>[45.88328858282252, 33.462113987746186]</td>\n",
       "      <td>3.1</td>\n",
       "      <td>[[[78.76350635960564, 15.794081734700777], [82...</td>\n",
       "      <td>[1, 2, 3, 4, 5, 6, 7, 8, 9, 10, 11, 12, 13, 14...</td>\n",
       "      <td>[[[80.72344548957854, 15.18291385091661], [82....</td>\n",
       "      <td>[11.09, 10.26, 9.484, 8.77, 8.125, 7.555, 7.05...</td>\n",
       "      <td>[0.0, 0.0, 0.0, 0.0, 0.0, 0.0, 0.0, 0.0, 0.0, ...</td>\n",
       "      <td>[22.83, 23.27, 23.69, 24.17, 24.75, 24.6, 24.3...</td>\n",
       "      <td>[26.84, 26.84, 26.84, 26.84, 26.84, 26.84, 26....</td>\n",
       "    </tr>\n",
       "    <tr>\n",
       "      <th>2</th>\n",
       "      <td>rce_pilot_3</td>\n",
       "      <td>20240320_171038_alone_comp_subj_4-2_and_4-3</td>\n",
       "      <td>[[0, 79], [1276, 1477], [3272, 3473], [4470, 4...</td>\n",
       "      <td>[[0, 79], [84, 92], [92, 132], [145, 175], [25...</td>\n",
       "      <td>[[0, 79], [79, 186], [188, 191], [191, 268], [...</td>\n",
       "      <td>20240320_171038_alone_comp_subj_4-2_and_4-3.1</td>\n",
       "      <td>NaN</td>\n",
       "      <td>/scratch/back_up/reward_competition_extention/...</td>\n",
       "      <td>20240320_171038_alone_comp_subj_4-2_t6b6_merged</td>\n",
       "      <td>4.2</td>\n",
       "      <td>...</td>\n",
       "      <td>[61.213420932957966, 35.084751405625006]</td>\n",
       "      <td>[46.2961822248657, 33.41760470505085]</td>\n",
       "      <td>4.3</td>\n",
       "      <td>[[[64.90703525371228, 33.28528990033932], [47....</td>\n",
       "      <td>[1, 2, 3, 4, 5, 6, 7, 8, 9, 10, 11, 12, 13, 14...</td>\n",
       "      <td>[[[64.44770418343036, 33.62145921311694], [60....</td>\n",
       "      <td>[4.75, 4.48, 4.207, 3.932, 3.658, 3.383, 3.105...</td>\n",
       "      <td>[2.611, 2.268, 1.943, 1.642, 1.36, 1.101, 0.86...</td>\n",
       "      <td>[4.5, 4.5, 4.5, 4.5, 4.5, 4.5, 4.5, 4.5, 4.5, ...</td>\n",
       "      <td>[4.754, 4.723, 4.504, 4.598, 4.617, 4.617, 4.4...</td>\n",
       "    </tr>\n",
       "    <tr>\n",
       "      <th>3</th>\n",
       "      <td>rce_pilot_3</td>\n",
       "      <td>20240320_171038_alone_comp_subj_4-2_and_4-3</td>\n",
       "      <td>[[0, 79], [1276, 1477], [3272, 3473], [4470, 4...</td>\n",
       "      <td>[[0, 79], [84, 92], [92, 132], [145, 175], [25...</td>\n",
       "      <td>[[0, 79], [79, 186], [188, 191], [191, 268], [...</td>\n",
       "      <td>20240320_171038_alone_comp_subj_4-2_and_4-3.1</td>\n",
       "      <td>NaN</td>\n",
       "      <td>/scratch/back_up/reward_competition_extention/...</td>\n",
       "      <td>20240320_171038_alone_comp_subj_4-3_t5b5_merged</td>\n",
       "      <td>4.3</td>\n",
       "      <td>...</td>\n",
       "      <td>[61.213420932957966, 35.084751405625006]</td>\n",
       "      <td>[46.2961822248657, 33.41760470505085]</td>\n",
       "      <td>4.2</td>\n",
       "      <td>[[[64.44770418343036, 33.62145921311694], [60....</td>\n",
       "      <td>[1, 2, 3, 4, 5, 6, 7, 8, 9, 10, 11, 12, 13, 14...</td>\n",
       "      <td>[[[64.90703525371228, 33.28528990033932], [47....</td>\n",
       "      <td>[2.611, 2.268, 1.943, 1.642, 1.36, 1.101, 0.86...</td>\n",
       "      <td>[4.75, 4.48, 4.207, 3.932, 3.658, 3.383, 3.105...</td>\n",
       "      <td>[4.754, 4.723, 4.504, 4.598, 4.617, 4.617, 4.4...</td>\n",
       "      <td>[4.5, 4.5, 4.5, 4.5, 4.5, 4.5, 4.5, 4.5, 4.5, ...</td>\n",
       "    </tr>\n",
       "    <tr>\n",
       "      <th>4</th>\n",
       "      <td>rce_pilot_3</td>\n",
       "      <td>20240322_120625_alone_comp_subj_3-3_and_3-4</td>\n",
       "      <td>[[0, 101], [1299, 1500], [3297, 3496], [4494, ...</td>\n",
       "      <td>[[0, 101], [102, 105], [181, 226], [226, 260],...</td>\n",
       "      <td>[[0, 101], [223, 248], [286, 292], [293, 302],...</td>\n",
       "      <td>20240322_120625_alone_comp_subj_3-3_and_3-4.1</td>\n",
       "      <td>NaN</td>\n",
       "      <td>/scratch/back_up/reward_competition_extention/...</td>\n",
       "      <td>20240322_120625_alone_comp_subj_3-3_t6b6_merged</td>\n",
       "      <td>3.3</td>\n",
       "      <td>...</td>\n",
       "      <td>[60.64564060702992, 34.963224775288616]</td>\n",
       "      <td>[46.12282765327953, 33.535485726445984]</td>\n",
       "      <td>3.4</td>\n",
       "      <td>[[[42.67602103277421, 38.86750190352169], [55....</td>\n",
       "      <td>[1, 2, 3, 4, 5, 6, 7, 8, 9, 10, 11, 12, 13, 14...</td>\n",
       "      <td>[[[44.93975760933053, 22.757104477777183], [48...</td>\n",
       "      <td>[0.0, 0.0, 0.0, 0.0, 0.0, 0.0, 0.0, 0.0, 0.0, ...</td>\n",
       "      <td>[58.16, 55.34, 52.6, 49.94, 47.34, 44.8, 42.34...</td>\n",
       "      <td>[2.113, 2.113, 2.113, 2.113, 2.113, 2.113, 2.1...</td>\n",
       "      <td>[17.23, 17.56, 17.75, 17.83, 17.73, 17.27, 16....</td>\n",
       "    </tr>\n",
       "  </tbody>\n",
       "</table>\n",
       "<p>5 rows × 49 columns</p>\n",
       "</div>"
      ],
      "text/plain": [
       "        cohort                                  session_dir  \\\n",
       "0  rce_pilot_3  20240320_142408_alone_comp_subj_3-1_and_3-3   \n",
       "1  rce_pilot_3  20240320_142408_alone_comp_subj_3-1_and_3-3   \n",
       "2  rce_pilot_3  20240320_171038_alone_comp_subj_4-2_and_4-3   \n",
       "3  rce_pilot_3  20240320_171038_alone_comp_subj_4-2_and_4-3   \n",
       "4  rce_pilot_3  20240322_120625_alone_comp_subj_3-3_and_3-4   \n",
       "\n",
       "                                         tone_frames  \\\n",
       "0  [[0, 74], [1272, 1471], [3268, 3469], [4466, 4...   \n",
       "1  [[0, 74], [1272, 1471], [3268, 3469], [4466, 4...   \n",
       "2  [[0, 79], [1276, 1477], [3272, 3473], [4470, 4...   \n",
       "3  [[0, 79], [1276, 1477], [3272, 3473], [4470, 4...   \n",
       "4  [[0, 101], [1299, 1500], [3297, 3496], [4494, ...   \n",
       "\n",
       "                             box_1_port_entry_frames  \\\n",
       "0  [[0, 74], [152, 157], [252, 305], [305, 323], ...   \n",
       "1  [[0, 74], [152, 157], [252, 305], [305, 323], ...   \n",
       "2  [[0, 79], [84, 92], [92, 132], [145, 175], [25...   \n",
       "3  [[0, 79], [84, 92], [92, 132], [145, 175], [25...   \n",
       "4  [[0, 101], [102, 105], [181, 226], [226, 260],...   \n",
       "\n",
       "                             box_2_port_entry_frames  \\\n",
       "0  [[0, 74], [160, 225], [254, 257], [257, 279], ...   \n",
       "1  [[0, 74], [160, 225], [254, 257], [257, 279], ...   \n",
       "2  [[0, 79], [79, 186], [188, 191], [191, 268], [...   \n",
       "3  [[0, 79], [79, 186], [188, 191], [191, 268], [...   \n",
       "4  [[0, 101], [223, 248], [286, 292], [293, 302],...   \n",
       "\n",
       "                                      video_name notes  \\\n",
       "0  20240320_142408_alone_comp_subj_3-1_and_3-3.1   NaN   \n",
       "1  20240320_142408_alone_comp_subj_3-1_and_3-3.1   NaN   \n",
       "2  20240320_171038_alone_comp_subj_4-2_and_4-3.1   NaN   \n",
       "3  20240320_171038_alone_comp_subj_4-2_and_4-3.1   NaN   \n",
       "4  20240322_120625_alone_comp_subj_3-3_and_3-4.1   NaN   \n",
       "\n",
       "                                        session_path  \\\n",
       "0  /scratch/back_up/reward_competition_extention/...   \n",
       "1  /scratch/back_up/reward_competition_extention/...   \n",
       "2  /scratch/back_up/reward_competition_extention/...   \n",
       "3  /scratch/back_up/reward_competition_extention/...   \n",
       "4  /scratch/back_up/reward_competition_extention/...   \n",
       "\n",
       "                                         recording current_subject  ...  \\\n",
       "0  20240320_142408_alone_comp_subj_3-1_t6b6_merged             3.1  ...   \n",
       "1  20240320_142408_alone_comp_subj_3-3_t5b5_merged             3.3  ...   \n",
       "2  20240320_171038_alone_comp_subj_4-2_t6b6_merged             4.2  ...   \n",
       "3  20240320_171038_alone_comp_subj_4-3_t5b5_merged             4.3  ...   \n",
       "4  20240322_120625_alone_comp_subj_3-3_t6b6_merged             3.3  ...   \n",
       "\n",
       "                                reward_port  \\\n",
       "0    [60.89621072293514, 35.03865285708705]   \n",
       "1    [60.89621072293514, 35.03865285708705]   \n",
       "2  [61.213420932957966, 35.084751405625006]   \n",
       "3  [61.213420932957966, 35.084751405625006]   \n",
       "4   [60.64564060702992, 34.963224775288616]   \n",
       "\n",
       "                           box_bottom_left  agent  \\\n",
       "0  [45.88328858282252, 33.462113987746186]    3.3   \n",
       "1  [45.88328858282252, 33.462113987746186]    3.1   \n",
       "2    [46.2961822248657, 33.41760470505085]    4.3   \n",
       "3    [46.2961822248657, 33.41760470505085]    4.2   \n",
       "4  [46.12282765327953, 33.535485726445984]    3.4   \n",
       "\n",
       "                                   subject_locations  \\\n",
       "0  [[[80.72344548957854, 15.18291385091661], [82....   \n",
       "1  [[[78.76350635960564, 15.794081734700777], [82...   \n",
       "2  [[[64.90703525371228, 33.28528990033932], [47....   \n",
       "3  [[[64.44770418343036, 33.62145921311694], [60....   \n",
       "4  [[[42.67602103277421, 38.86750190352169], [55....   \n",
       "\n",
       "                                         frame_index  \\\n",
       "0  [1, 2, 3, 4, 5, 6, 7, 8, 9, 10, 11, 12, 13, 14...   \n",
       "1  [1, 2, 3, 4, 5, 6, 7, 8, 9, 10, 11, 12, 13, 14...   \n",
       "2  [1, 2, 3, 4, 5, 6, 7, 8, 9, 10, 11, 12, 13, 14...   \n",
       "3  [1, 2, 3, 4, 5, 6, 7, 8, 9, 10, 11, 12, 13, 14...   \n",
       "4  [1, 2, 3, 4, 5, 6, 7, 8, 9, 10, 11, 12, 13, 14...   \n",
       "\n",
       "                                     agent_locations  \\\n",
       "0  [[[78.76350635960564, 15.794081734700777], [82...   \n",
       "1  [[[80.72344548957854, 15.18291385091661], [82....   \n",
       "2  [[[64.44770418343036, 33.62145921311694], [60....   \n",
       "3  [[[64.90703525371228, 33.28528990033932], [47....   \n",
       "4  [[[44.93975760933053, 22.757104477777183], [48...   \n",
       "\n",
       "                             subject_thorax_velocity  \\\n",
       "0  [0.0, 0.0, 0.0, 0.0, 0.0, 0.0, 0.0, 0.0, 0.0, ...   \n",
       "1  [11.09, 10.26, 9.484, 8.77, 8.125, 7.555, 7.05...   \n",
       "2  [4.75, 4.48, 4.207, 3.932, 3.658, 3.383, 3.105...   \n",
       "3  [2.611, 2.268, 1.943, 1.642, 1.36, 1.101, 0.86...   \n",
       "4  [0.0, 0.0, 0.0, 0.0, 0.0, 0.0, 0.0, 0.0, 0.0, ...   \n",
       "\n",
       "                               agent_thorax_velocity  \\\n",
       "0  [11.09, 10.26, 9.484, 8.77, 8.125, 7.555, 7.05...   \n",
       "1  [0.0, 0.0, 0.0, 0.0, 0.0, 0.0, 0.0, 0.0, 0.0, ...   \n",
       "2  [2.611, 2.268, 1.943, 1.642, 1.36, 1.101, 0.86...   \n",
       "3  [4.75, 4.48, 4.207, 3.932, 3.658, 3.383, 3.105...   \n",
       "4  [58.16, 55.34, 52.6, 49.94, 47.34, 44.8, 42.34...   \n",
       "\n",
       "                       subject_thorax_to_reward_port  \\\n",
       "0  [26.84, 26.84, 26.84, 26.84, 26.84, 26.84, 26....   \n",
       "1  [22.83, 23.27, 23.69, 24.17, 24.75, 24.6, 24.3...   \n",
       "2  [4.5, 4.5, 4.5, 4.5, 4.5, 4.5, 4.5, 4.5, 4.5, ...   \n",
       "3  [4.754, 4.723, 4.504, 4.598, 4.617, 4.617, 4.4...   \n",
       "4  [2.113, 2.113, 2.113, 2.113, 2.113, 2.113, 2.1...   \n",
       "\n",
       "                         agent_thorax_to_reward_port  \n",
       "0  [22.83, 23.27, 23.69, 24.17, 24.75, 24.6, 24.3...  \n",
       "1  [26.84, 26.84, 26.84, 26.84, 26.84, 26.84, 26....  \n",
       "2  [4.754, 4.723, 4.504, 4.598, 4.617, 4.617, 4.4...  \n",
       "3  [4.5, 4.5, 4.5, 4.5, 4.5, 4.5, 4.5, 4.5, 4.5, ...  \n",
       "4  [17.23, 17.56, 17.75, 17.83, 17.73, 17.27, 16....  \n",
       "\n",
       "[5 rows x 49 columns]"
      ]
     },
     "execution_count": 113,
     "metadata": {},
     "output_type": "execute_result"
    }
   ],
   "source": [
    "LFP_AND_SLEAP_DF.head()"
   ]
  },
  {
   "cell_type": "code",
   "execution_count": 114,
   "metadata": {
    "tags": []
   },
   "outputs": [
    {
     "name": "stdout",
     "output_type": "stream",
     "text": [
      "cohort\n",
      "session_dir\n",
      "tone_frames\n",
      "box_1_port_entry_frames\n",
      "box_2_port_entry_frames\n",
      "video_name\n",
      "notes\n",
      "session_path\n",
      "recording\n",
      "current_subject\n",
      "subject\n",
      "all_subjects\n",
      "first_timestamp\n",
      "last_timestamp\n",
      "video_timestamps\n",
      "tone_timestamps\n",
      "box_1_port_entry_timestamps\n",
      "box_2_port_entry_timestamps\n",
      "lfp_timestamps\n",
      "vHPC_lfp_trace\n",
      "BLA_lfp_trace\n",
      "LH_lfp_trace\n",
      "MD_lfp_trace\n",
      "mPFC_lfp_trace\n",
      "recording_name\n",
      "spike_clusters\n",
      "spike_times\n",
      "neuron_average_fr\n",
      "neuron_average_timestamps\n",
      "start_frame\n",
      "stop_frame\n",
      "tracked_subject\n",
      "in_video_subjects\n",
      "box_number\n",
      "sleap_name\n",
      "body_parts\n",
      "box_top_right\n",
      "box_bottom_right\n",
      "box_top_left\n",
      "reward_port\n",
      "box_bottom_left\n",
      "agent\n",
      "subject_locations\n",
      "frame_index\n",
      "agent_locations\n",
      "subject_thorax_velocity\n",
      "agent_thorax_velocity\n",
      "subject_thorax_to_reward_port\n",
      "agent_thorax_to_reward_port\n"
     ]
    }
   ],
   "source": [
    "for col in LFP_AND_SLEAP_DF.columns:\n",
    "    print(col)"
   ]
  },
  {
   "cell_type": "code",
   "execution_count": 115,
   "metadata": {},
   "outputs": [
    {
     "ename": "ValueError",
     "evalue": "",
     "output_type": "error",
     "traceback": [
      "\u001b[0;31m---------------------------------------------------------------------------\u001b[0m",
      "\u001b[0;31mValueError\u001b[0m                                Traceback (most recent call last)",
      "Cell \u001b[0;32mIn[115], line 1\u001b[0m\n\u001b[0;32m----> 1\u001b[0m \u001b[38;5;28;01mraise\u001b[39;00m \u001b[38;5;167;01mValueError\u001b[39;00m()\n",
      "\u001b[0;31mValueError\u001b[0m: "
     ]
    }
   ],
   "source": [
    "raise ValueError()"
   ]
  }
 ],
 "metadata": {
  "deepnote": {},
  "deepnote_execution_queue": [],
  "deepnote_notebook_id": "cf8fe3695d074ee7887fdf6459cbf5ce",
  "kernelspec": {
   "display_name": "mountainsort_0_5_6",
   "language": "python",
   "name": "python3"
  },
  "language_info": {
   "codemirror_mode": {
    "name": "ipython",
    "version": 3
   },
   "file_extension": ".py",
   "mimetype": "text/x-python",
   "name": "python",
   "nbconvert_exporter": "python",
   "pygments_lexer": "ipython3",
   "version": "3.9.19"
  }
 },
 "nbformat": 4,
 "nbformat_minor": 4
}
