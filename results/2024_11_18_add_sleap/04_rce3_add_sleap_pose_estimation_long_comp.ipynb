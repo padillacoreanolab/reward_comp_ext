{
 "cells": [
  {
   "cell_type": "markdown",
   "metadata": {
    "cell_id": "c3a02adc9e884466bc8c79db549cc3d2",
    "deepnote_cell_type": "text-cell-h1",
    "formattedRanges": [
     {
      "fromCodePoint": 0,
      "marks": {
       "bold": true,
       "underline": true
      },
      "toCodePoint": 17,
      "type": "marks"
     }
    ]
   },
   "source": [
    "# SLEAP Distance Calculation"
   ]
  },
  {
   "cell_type": "markdown",
   "metadata": {
    "cell_id": "4546bee655b14a5dbf393161f1228e60",
    "deepnote_cell_type": "text-cell-p",
    "formattedRanges": []
   },
   "source": [
    "Brief 1-2 sentence description of notebook."
   ]
  },
  {
   "cell_type": "code",
   "execution_count": 1,
   "metadata": {
    "tags": []
   },
   "outputs": [],
   "source": [
    "import os\n",
    "import glob\n",
    "import git\n",
    "import sys\n"
   ]
  },
  {
   "cell_type": "code",
   "execution_count": 2,
   "metadata": {
    "cell_id": "03b495cefa6a4798a44c7f2e4c6a3ea7",
    "deepnote_cell_type": "code",
    "deepnote_to_be_reexecuted": false,
    "execution_millis": 21,
    "execution_start": 1691424003626,
    "source_hash": null,
    "tags": []
   },
   "outputs": [],
   "source": [
    "# Imports of all used packages and libraries\n",
    "import numpy as np\n",
    "import pandas as pd\n",
    "# import seaborn as sns\n",
    "import matplotlib as mpl\n",
    "import matplotlib.pyplot as plt\n",
    "import h5py\n",
    "from scipy.interpolate import interp1d\n",
    "from scipy.signal import savgol_filter\n"
   ]
  },
  {
   "cell_type": "code",
   "execution_count": 3,
   "metadata": {
    "tags": []
   },
   "outputs": [],
   "source": [
    "git_repo = git.Repo(\".\", search_parent_directories=True)\n",
    "git_root = git_repo.git.rev_parse(\"--show-toplevel\")"
   ]
  },
  {
   "cell_type": "code",
   "execution_count": 4,
   "metadata": {
    "tags": []
   },
   "outputs": [
    {
     "data": {
      "text/plain": [
       "'/nancy/user/riwata/projects/reward_comp_ext'"
      ]
     },
     "execution_count": 4,
     "metadata": {},
     "output_type": "execute_result"
    }
   ],
   "source": [
    "git_root"
   ]
  },
  {
   "cell_type": "code",
   "execution_count": 5,
   "metadata": {
    "tags": []
   },
   "outputs": [],
   "source": [
    "sys.path.insert(0, os.path.join(git_root, 'src'))"
   ]
  },
  {
   "cell_type": "code",
   "execution_count": 6,
   "metadata": {
    "tags": []
   },
   "outputs": [],
   "source": [
    "import utilities.helper\n",
    "import sleap.process_pose"
   ]
  },
  {
   "cell_type": "code",
   "execution_count": 7,
   "metadata": {
    "tags": []
   },
   "outputs": [],
   "source": [
    "# sns.set('notebook', 'ticks', font_scale=1.2)\n",
    "mpl.rcParams['figure.figsize'] = [15,6]"
   ]
  },
  {
   "cell_type": "code",
   "execution_count": null,
   "metadata": {},
   "outputs": [],
   "source": []
  },
  {
   "cell_type": "markdown",
   "metadata": {},
   "source": [
    "# Functions"
   ]
  },
  {
   "cell_type": "code",
   "execution_count": 8,
   "metadata": {
    "tags": []
   },
   "outputs": [],
   "source": [
    "def compute_velocity(node_loc, window_size=25, polynomial_order=3):\n",
    "    \"\"\"\n",
    "    Calculate the velocity of tracked nodes from pose data.\n",
    "    \n",
    "    The function utilizes the Savitzky-Golay filter to smooth the data and compute the velocity.\n",
    "    \n",
    "    Parameters:\n",
    "    ----------\n",
    "    node_loc : numpy.ndarray\n",
    "        The location of nodes, represented as an array of shape [frames, 2]. \n",
    "        Each row represents x and y coordinates for a particular frame.\n",
    "        \n",
    "    window_size : int, optional\n",
    "        The size of the window used for the Savitzky-Golay filter. \n",
    "        Represents the number of consecutive data points used when smoothing the data.\n",
    "        Default is 25.\n",
    "        \n",
    "    polynomial_order : int, optional\n",
    "        The order of the polynomial fit to the data within the Savitzky-Golay filter window.\n",
    "        Default is 3.\n",
    "\n",
    "    Returns:\n",
    "    -------\n",
    "    numpy.ndarray\n",
    "        The velocity for each frame, calculated from the smoothed x and y coordinates.\n",
    "    \n",
    "    \"\"\"\n",
    "    node_loc_vel = np.zeros_like(node_loc)\n",
    "    \n",
    "    # For each coordinate (x and y), smooth the data and calculate the derivative (velocity)\n",
    "    for c in range(node_loc.shape[-1]):\n",
    "        node_loc_vel[:, c] = savgol_filter(node_loc[:, c], window_size, polynomial_order, deriv=1)\n",
    "    \n",
    "    # Calculate the magnitude of the velocity vectors for each frame\n",
    "    node_vel = np.linalg.norm(node_loc_vel, axis=1)\n",
    "\n",
    "    return node_vel"
   ]
  },
  {
   "cell_type": "code",
   "execution_count": 9,
   "metadata": {
    "tags": []
   },
   "outputs": [],
   "source": [
    "def rolling_average(arr, window_size):\n",
    "    \"\"\"\n",
    "    Computes the rolling average using a specified window size.\n",
    "    \n",
    "    Parameters:\n",
    "        arr (numpy.array): The input array to compute the rolling average for.\n",
    "        window_size (int): The size of the rolling window.\n",
    "\n",
    "    Returns:\n",
    "        numpy.array: The rolling average of the input array.\n",
    "    \"\"\"\n",
    "    if window_size < 1:\n",
    "       raise ValueError(\"Window size must be at least 1.\")\n",
    "    \n",
    "    # Create a uniform window of given window size\n",
    "    window = np.ones(window_size) / window_size\n",
    "\n",
    "    # Use numpy's convolve function to compute the rolling average\n",
    "    return np.convolve(arr, window, mode='valid')\n",
    "\n"
   ]
  },
  {
   "cell_type": "code",
   "execution_count": 10,
   "metadata": {
    "tags": []
   },
   "outputs": [],
   "source": [
    "def chunked_average(arr, chunk_size):\n",
    "    \"\"\"\n",
    "    Computes the average for non-overlapping chunks of the input array.\n",
    "    \n",
    "    Parameters:\n",
    "        arr (numpy.array): The input array.\n",
    "        chunk_size (int): The size of each chunk.\n",
    "\n",
    "    Returns:\n",
    "        numpy.array: The averages of the non-overlapping chunks.\n",
    "    \"\"\"\n",
    "\n",
    "    # Number of chunks\n",
    "    num_chunks = len(arr) // chunk_size\n",
    "    \n",
    "    # Reshape the array into a 2D array of shape (num_chunks, chunk_size)\n",
    "    reshaped_arr = arr[:num_chunks * chunk_size].reshape(num_chunks, chunk_size)\n",
    "    \n",
    "    # Compute the mean along the second axis (i.e., for each chunk)\n",
    "    return reshaped_arr.mean(axis=1)"
   ]
  },
  {
   "cell_type": "code",
   "execution_count": 11,
   "metadata": {
    "tags": []
   },
   "outputs": [],
   "source": [
    "def sliding_window_average(arr, window_size, step=1):\n",
    "    \"\"\"\n",
    "    Apply a sliding window to a 1D numpy array, returning the average of windows of a specified size.\n",
    "\n",
    "    :param arr: Input 1D numpy array.\n",
    "    :param window_size: Size of the window.\n",
    "    :param step: The step size or number of elements to slide the window by. Default is 1.\n",
    "    :return: A 1D numpy array where each element is the average of a window from the input.\n",
    "    \"\"\"\n",
    "    # Number of windows\n",
    "    num_windows = ((arr.size - window_size) // step) + 1\n",
    "    \n",
    "    # Output array for averages\n",
    "    averages = np.zeros(num_windows)\n",
    "    \n",
    "    for i in range(num_windows):\n",
    "        # Calculate the start and end index for the window\n",
    "        start = i * step\n",
    "        end = start + window_size\n",
    "        # Calculate the average of the window\n",
    "        averages[i] = np.mean(arr[start:end])\n",
    "\n",
    "    return averages"
   ]
  },
  {
   "cell_type": "code",
   "execution_count": 12,
   "metadata": {
    "tags": []
   },
   "outputs": [],
   "source": [
    "def calculate_all_window_indices(original_index, window_size, step, array_length):\n",
    "    \"\"\"\n",
    "    Calculate all the start and stop indices for sliding windows based on an original start index.\n",
    "\n",
    "    :param original_index: The original index from which the first window should start.\n",
    "    :param window_size: The size of each sliding window.\n",
    "    :param step: The step size or number of elements to slide the window by.\n",
    "    :param array_length: The total number of elements in the array.\n",
    "    :return: A list of tuples, each containing the start and stop indices for a sliding window.\n",
    "    \"\"\"\n",
    "\n",
    "    # Initialize the list to hold the start and stop indices for all windows\n",
    "    windows = []\n",
    "\n",
    "    # Initialize the current start index with the original index\n",
    "    current_start_index = original_index\n",
    "\n",
    "    # Loop through the array until the end is reached\n",
    "    while current_start_index + window_size <= original_index + array_length:\n",
    "        # Calculate the stop index based on the window size\n",
    "        stop_index = current_start_index + window_size\n",
    "\n",
    "        # Add the start and stop indices to the list\n",
    "        windows.append((current_start_index, stop_index))\n",
    "\n",
    "        # Update the current start index by adding the step size\n",
    "        current_start_index += step\n",
    "\n",
    "    return windows"
   ]
  },
  {
   "cell_type": "markdown",
   "metadata": {
    "cell_id": "d290bac2c17940bfbc0f9296beaf70e5",
    "deepnote_cell_type": "text-cell-h2",
    "formattedRanges": []
   },
   "source": [
    "## Inputs & Data"
   ]
  },
  {
   "cell_type": "markdown",
   "metadata": {
    "cell_id": "e528ce19c608425292151930d380f49f",
    "deepnote_cell_type": "text-cell-p",
    "formattedRanges": []
   },
   "source": [
    "Explanation of each input and where it comes from."
   ]
  },
  {
   "cell_type": "code",
   "execution_count": 13,
   "metadata": {
    "cell_id": "6cf83a5811054461a718a71673d09aab",
    "deepnote_cell_type": "code",
    "deepnote_to_be_reexecuted": false,
    "execution_millis": 373,
    "execution_start": 1691424003628,
    "source_hash": null,
    "tags": []
   },
   "outputs": [],
   "source": [
    "# Inputs and Required data loading\n",
    "# input varaible names are in all caps snake case\n",
    "# Whenever an input changes or is used for processing \n",
    "# the vairables are all lower in snake case\n",
    "THORAX_INDEX = 1\n",
    "\n",
    "# LFP_SPECTRAL_DF = pd.read_pickle(\"./proc/rce_pilot_2_03_spectral_bands.pkl\")\n",
    "LFP_SPECTRAL_DF = pd.read_pickle(\"../2024_11_14_add_spike_times/proc/rce_pilot_3_long_comp_02_lfp_traces_and_spikes.pkl\")\n",
    "LFP_SPECTRAL_DF[\"video_name\"] = LFP_SPECTRAL_DF[\"video_name\"].apply(lambda x: x.strip(\".videoTimeStamps.cameraHWSync\"))\n",
    "\n",
    "# SLEAP_DIR = os.path.join(git_root, \"proc/sleap\") \n",
    "SLEAP_DIR = \"/scratch/back_up/reward_competition_extention/final_proc/id_corrected/rce3\"\n",
    "# SLEAP_DIR = \"/blue/npadillacoreano/ryoi360/projects/reward_comp/final_proc/id_corrected\"\n",
    "\n",
    "OUTPUT_DIR = r\"./proc\" # where data is saved should always be shown in the inputs\n",
    "MED_PC_WIDTH = 29.5\n",
    "MED_PC_HEIGHT = 24\n",
    "FRAME_RATE = 22\n",
    "WINDOW_SIZE = 25\n",
    "DISTANCE_THRESHOLD = 2"
   ]
  },
  {
   "cell_type": "code",
   "execution_count": 14,
   "metadata": {
    "tags": []
   },
   "outputs": [],
   "source": [
    "START_STOP_FRAME_DF = pd.read_excel(\"../../data/rce_pilot_3_long_comp_per_subject_start_stop_video_frame.xlsx\")\n"
   ]
  },
  {
   "cell_type": "markdown",
   "metadata": {
    "cell_id": "e3ee4891d43a4ac287413afc552ca289",
    "deepnote_cell_type": "text-cell-h2",
    "formattedRanges": []
   },
   "source": [
    "## Outputs"
   ]
  },
  {
   "cell_type": "markdown",
   "metadata": {
    "cell_id": "9ccbf6cc70fd4d379fa29317f733771f",
    "deepnote_cell_type": "text-cell-p",
    "formattedRanges": []
   },
   "source": [
    "Describe each output that the notebook creates. "
   ]
  },
  {
   "cell_type": "markdown",
   "metadata": {
    "cell_id": "fc8e8920a6944918a15fac575cdf6e78",
    "deepnote_cell_type": "text-cell-bullet",
    "formattedRanges": []
   },
   "source": [
    "- Is it a plot or is it data?"
   ]
  },
  {
   "cell_type": "markdown",
   "metadata": {
    "cell_id": "1e639d4776a84aa9ac8ded2e14fa57db",
    "deepnote_cell_type": "text-cell-bullet",
    "formattedRanges": []
   },
   "source": [
    "- How valuable is the output and why is it valuable or useful?"
   ]
  },
  {
   "cell_type": "code",
   "execution_count": 15,
   "metadata": {
    "tags": []
   },
   "outputs": [],
   "source": [
    "# Inputs and Required data loading\n",
    "# input varaible names are in all caps snake case\n",
    "# Whenever an input changes or is used for processing \n",
    "# the vairables are all lower in snake case\n",
    "OUTPUT_DIR = r\"./proc/\" # where data is saved should always be shown in the inputs\n",
    "os.makedirs(OUTPUT_DIR, exist_ok=True)\n",
    "OUTPUT_PREFIX = \"rce_pilot_3_alone_comp\""
   ]
  },
  {
   "cell_type": "code",
   "execution_count": 16,
   "metadata": {
    "tags": []
   },
   "outputs": [],
   "source": [
    "FULL_LFP_TRACES_PKL = \"{}_04_lfp_spike_sleap.pkl\".format(OUTPUT_PREFIX)"
   ]
  },
  {
   "cell_type": "markdown",
   "metadata": {
    "cell_id": "8999d19b6b7d4d63bc90f0b0bd9ab085",
    "deepnote_cell_type": "text-cell-h2",
    "formattedRanges": []
   },
   "source": [
    "## Processing"
   ]
  },
  {
   "cell_type": "markdown",
   "metadata": {
    "cell_id": "9b36cdf08567463082b005cb0dec684b",
    "deepnote_cell_type": "text-cell-p",
    "formattedRanges": []
   },
   "source": [
    "Describe what is done to the data here and how inputs are manipulated to generate outputs. "
   ]
  },
  {
   "cell_type": "markdown",
   "metadata": {},
   "source": [
    "# Getting the videos where the subject is in the recording"
   ]
  },
  {
   "cell_type": "markdown",
   "metadata": {},
   "source": [
    "### Looking at when each subject was in each video"
   ]
  },
  {
   "cell_type": "code",
   "execution_count": 17,
   "metadata": {
    "tags": []
   },
   "outputs": [],
   "source": [
    "# START_STOP_FRAME_DF = pd.read_excel(\"./data/rce_per_subject_start_stop_video_frame.xlsx\")\n",
    "START_STOP_FRAME_DF = START_STOP_FRAME_DF.dropna(subset=[\"file_path\"])"
   ]
  },
  {
   "cell_type": "markdown",
   "metadata": {},
   "source": [
    "- Getting the name of the SLEAP and video files where each subject was in"
   ]
  },
  {
   "cell_type": "code",
   "execution_count": 18,
   "metadata": {
    "tags": []
   },
   "outputs": [],
   "source": [
    "START_STOP_FRAME_DF[\"sleap_name\"] = START_STOP_FRAME_DF[\"file_path\"].apply(lambda x: os.path.basename(x))\n",
    "START_STOP_FRAME_DF[\"video_name\"] = START_STOP_FRAME_DF[\"file_path\"].apply(lambda x: \".\".join(os.path.basename(x).split(\".\")[:2]))\n",
    "START_STOP_FRAME_DF[\"start_frame\"] = START_STOP_FRAME_DF[\"start_frame\"].astype(int)\n",
    "START_STOP_FRAME_DF[\"stop_frame\"] = START_STOP_FRAME_DF[\"stop_frame\"].astype(int)"
   ]
  },
  {
   "cell_type": "code",
   "execution_count": 19,
   "metadata": {
    "tags": []
   },
   "outputs": [],
   "source": [
    "START_STOP_FRAME_DF = START_STOP_FRAME_DF.drop(columns=[\"file_path\", \"notes\"], errors=\"ignore\")"
   ]
  },
  {
   "cell_type": "code",
   "execution_count": 20,
   "metadata": {
    "tags": []
   },
   "outputs": [
    {
     "data": {
      "text/plain": [
       "array(['20240317_151922_long_comp_subj_3-1_and_3-3.1',\n",
       "       '20240317_172017_long_comp_subj_4-2_and_4-3.1',\n",
       "       '20240318_143819_long_comp_subj_3-3_and_3-4.1',\n",
       "       '20240318_170933_long_comp_subj_4-3_and_4-4.1',\n",
       "       '20240319_134914_long_comp_subj_3-1_and_3-4.1',\n",
       "       '20240319_160457_long_comp_subj_4-2_and_4-4.1',\n",
       "       '20240320_114629_long_comp_subj_5-3_and_5-4.1',\n",
       "       '20240321_114851_long_comp_subj_5-2_and_5-3.1'], dtype=object)"
      ]
     },
     "execution_count": 20,
     "metadata": {},
     "output_type": "execute_result"
    }
   ],
   "source": [
    "START_STOP_FRAME_DF[\"video_name\"].unique()"
   ]
  },
  {
   "cell_type": "code",
   "execution_count": 21,
   "metadata": {
    "tags": []
   },
   "outputs": [
    {
     "data": {
      "text/html": [
       "<div>\n",
       "<style scoped>\n",
       "    .dataframe tbody tr th:only-of-type {\n",
       "        vertical-align: middle;\n",
       "    }\n",
       "\n",
       "    .dataframe tbody tr th {\n",
       "        vertical-align: top;\n",
       "    }\n",
       "\n",
       "    .dataframe thead th {\n",
       "        text-align: right;\n",
       "    }\n",
       "</style>\n",
       "<table border=\"1\" class=\"dataframe\">\n",
       "  <thead>\n",
       "    <tr style=\"text-align: right;\">\n",
       "      <th></th>\n",
       "      <th>start_frame</th>\n",
       "      <th>stop_frame</th>\n",
       "      <th>tracked_subject</th>\n",
       "      <th>in_video_subjects</th>\n",
       "      <th>box_number</th>\n",
       "      <th>sleap_name</th>\n",
       "      <th>video_name</th>\n",
       "    </tr>\n",
       "  </thead>\n",
       "  <tbody>\n",
       "    <tr>\n",
       "      <th>0</th>\n",
       "      <td>1</td>\n",
       "      <td>45736</td>\n",
       "      <td>3.1_3.3</td>\n",
       "      <td>3.1_3.3</td>\n",
       "      <td>1</td>\n",
       "      <td>20240317_151922_long_comp_subj_3-1_and_3-3.1.f...</td>\n",
       "      <td>20240317_151922_long_comp_subj_3-1_and_3-3.1</td>\n",
       "    </tr>\n",
       "    <tr>\n",
       "      <th>1</th>\n",
       "      <td>1</td>\n",
       "      <td>58878</td>\n",
       "      <td>4.2_4.3</td>\n",
       "      <td>4.2_4.3</td>\n",
       "      <td>1</td>\n",
       "      <td>20240317_172017_long_comp_subj_4-2_and_4-3.1.f...</td>\n",
       "      <td>20240317_172017_long_comp_subj_4-2_and_4-3.1</td>\n",
       "    </tr>\n",
       "    <tr>\n",
       "      <th>2</th>\n",
       "      <td>1</td>\n",
       "      <td>58752</td>\n",
       "      <td>3.3_3.4</td>\n",
       "      <td>3.3_3.4</td>\n",
       "      <td>1</td>\n",
       "      <td>20240318_143819_long_comp_subj_3-3_and_3-4.1.f...</td>\n",
       "      <td>20240318_143819_long_comp_subj_3-3_and_3-4.1</td>\n",
       "    </tr>\n",
       "    <tr>\n",
       "      <th>3</th>\n",
       "      <td>1</td>\n",
       "      <td>58364</td>\n",
       "      <td>4.3_4.4</td>\n",
       "      <td>4.3_4.4</td>\n",
       "      <td>1</td>\n",
       "      <td>20240318_170933_long_comp_subj_4-3_and_4-4.1.f...</td>\n",
       "      <td>20240318_170933_long_comp_subj_4-3_and_4-4.1</td>\n",
       "    </tr>\n",
       "    <tr>\n",
       "      <th>4</th>\n",
       "      <td>1</td>\n",
       "      <td>57677</td>\n",
       "      <td>3.1_3.4</td>\n",
       "      <td>3.1_3.4</td>\n",
       "      <td>1</td>\n",
       "      <td>20240319_134914_long_comp_subj_3-1_and_3-4.1.f...</td>\n",
       "      <td>20240319_134914_long_comp_subj_3-1_and_3-4.1</td>\n",
       "    </tr>\n",
       "  </tbody>\n",
       "</table>\n",
       "</div>"
      ],
      "text/plain": [
       "   start_frame  stop_frame tracked_subject in_video_subjects  box_number  \\\n",
       "0            1       45736         3.1_3.3           3.1_3.3           1   \n",
       "1            1       58878         4.2_4.3           4.2_4.3           1   \n",
       "2            1       58752         3.3_3.4           3.3_3.4           1   \n",
       "3            1       58364         4.3_4.4           4.3_4.4           1   \n",
       "4            1       57677         3.1_3.4           3.1_3.4           1   \n",
       "\n",
       "                                          sleap_name  \\\n",
       "0  20240317_151922_long_comp_subj_3-1_and_3-3.1.f...   \n",
       "1  20240317_172017_long_comp_subj_4-2_and_4-3.1.f...   \n",
       "2  20240318_143819_long_comp_subj_3-3_and_3-4.1.f...   \n",
       "3  20240318_170933_long_comp_subj_4-3_and_4-4.1.f...   \n",
       "4  20240319_134914_long_comp_subj_3-1_and_3-4.1.f...   \n",
       "\n",
       "                                     video_name  \n",
       "0  20240317_151922_long_comp_subj_3-1_and_3-3.1  \n",
       "1  20240317_172017_long_comp_subj_4-2_and_4-3.1  \n",
       "2  20240318_143819_long_comp_subj_3-3_and_3-4.1  \n",
       "3  20240318_170933_long_comp_subj_4-3_and_4-4.1  \n",
       "4  20240319_134914_long_comp_subj_3-1_and_3-4.1  "
      ]
     },
     "execution_count": 21,
     "metadata": {},
     "output_type": "execute_result"
    }
   ],
   "source": [
    "START_STOP_FRAME_DF.head()"
   ]
  },
  {
   "cell_type": "markdown",
   "metadata": {},
   "source": [
    "- Splitting each row into seperate row for each subject in the video"
   ]
  },
  {
   "cell_type": "code",
   "execution_count": 22,
   "metadata": {
    "tags": []
   },
   "outputs": [],
   "source": [
    "START_STOP_FRAME_DF[\"tracked_subject\"] = START_STOP_FRAME_DF[\"tracked_subject\"].apply(lambda x: str(x).split(\"_\"))\n",
    "START_STOP_FRAME_DF[\"current_subject\"] = START_STOP_FRAME_DF[\"tracked_subject\"]"
   ]
  },
  {
   "cell_type": "code",
   "execution_count": 23,
   "metadata": {
    "tags": []
   },
   "outputs": [],
   "source": [
    "START_STOP_FRAME_DF = START_STOP_FRAME_DF.explode(\"current_subject\")"
   ]
  },
  {
   "cell_type": "code",
   "execution_count": 24,
   "metadata": {
    "tags": []
   },
   "outputs": [
    {
     "data": {
      "text/html": [
       "<div>\n",
       "<style scoped>\n",
       "    .dataframe tbody tr th:only-of-type {\n",
       "        vertical-align: middle;\n",
       "    }\n",
       "\n",
       "    .dataframe tbody tr th {\n",
       "        vertical-align: top;\n",
       "    }\n",
       "\n",
       "    .dataframe thead th {\n",
       "        text-align: right;\n",
       "    }\n",
       "</style>\n",
       "<table border=\"1\" class=\"dataframe\">\n",
       "  <thead>\n",
       "    <tr style=\"text-align: right;\">\n",
       "      <th></th>\n",
       "      <th>start_frame</th>\n",
       "      <th>stop_frame</th>\n",
       "      <th>tracked_subject</th>\n",
       "      <th>in_video_subjects</th>\n",
       "      <th>box_number</th>\n",
       "      <th>sleap_name</th>\n",
       "      <th>video_name</th>\n",
       "      <th>current_subject</th>\n",
       "    </tr>\n",
       "  </thead>\n",
       "  <tbody>\n",
       "    <tr>\n",
       "      <th>0</th>\n",
       "      <td>1</td>\n",
       "      <td>45736</td>\n",
       "      <td>[3.1, 3.3]</td>\n",
       "      <td>3.1_3.3</td>\n",
       "      <td>1</td>\n",
       "      <td>20240317_151922_long_comp_subj_3-1_and_3-3.1.f...</td>\n",
       "      <td>20240317_151922_long_comp_subj_3-1_and_3-3.1</td>\n",
       "      <td>3.1</td>\n",
       "    </tr>\n",
       "    <tr>\n",
       "      <th>0</th>\n",
       "      <td>1</td>\n",
       "      <td>45736</td>\n",
       "      <td>[3.1, 3.3]</td>\n",
       "      <td>3.1_3.3</td>\n",
       "      <td>1</td>\n",
       "      <td>20240317_151922_long_comp_subj_3-1_and_3-3.1.f...</td>\n",
       "      <td>20240317_151922_long_comp_subj_3-1_and_3-3.1</td>\n",
       "      <td>3.3</td>\n",
       "    </tr>\n",
       "    <tr>\n",
       "      <th>1</th>\n",
       "      <td>1</td>\n",
       "      <td>58878</td>\n",
       "      <td>[4.2, 4.3]</td>\n",
       "      <td>4.2_4.3</td>\n",
       "      <td>1</td>\n",
       "      <td>20240317_172017_long_comp_subj_4-2_and_4-3.1.f...</td>\n",
       "      <td>20240317_172017_long_comp_subj_4-2_and_4-3.1</td>\n",
       "      <td>4.2</td>\n",
       "    </tr>\n",
       "    <tr>\n",
       "      <th>1</th>\n",
       "      <td>1</td>\n",
       "      <td>58878</td>\n",
       "      <td>[4.2, 4.3]</td>\n",
       "      <td>4.2_4.3</td>\n",
       "      <td>1</td>\n",
       "      <td>20240317_172017_long_comp_subj_4-2_and_4-3.1.f...</td>\n",
       "      <td>20240317_172017_long_comp_subj_4-2_and_4-3.1</td>\n",
       "      <td>4.3</td>\n",
       "    </tr>\n",
       "    <tr>\n",
       "      <th>2</th>\n",
       "      <td>1</td>\n",
       "      <td>58752</td>\n",
       "      <td>[3.3, 3.4]</td>\n",
       "      <td>3.3_3.4</td>\n",
       "      <td>1</td>\n",
       "      <td>20240318_143819_long_comp_subj_3-3_and_3-4.1.f...</td>\n",
       "      <td>20240318_143819_long_comp_subj_3-3_and_3-4.1</td>\n",
       "      <td>3.3</td>\n",
       "    </tr>\n",
       "  </tbody>\n",
       "</table>\n",
       "</div>"
      ],
      "text/plain": [
       "   start_frame  stop_frame tracked_subject in_video_subjects  box_number  \\\n",
       "0            1       45736      [3.1, 3.3]           3.1_3.3           1   \n",
       "0            1       45736      [3.1, 3.3]           3.1_3.3           1   \n",
       "1            1       58878      [4.2, 4.3]           4.2_4.3           1   \n",
       "1            1       58878      [4.2, 4.3]           4.2_4.3           1   \n",
       "2            1       58752      [3.3, 3.4]           3.3_3.4           1   \n",
       "\n",
       "                                          sleap_name  \\\n",
       "0  20240317_151922_long_comp_subj_3-1_and_3-3.1.f...   \n",
       "0  20240317_151922_long_comp_subj_3-1_and_3-3.1.f...   \n",
       "1  20240317_172017_long_comp_subj_4-2_and_4-3.1.f...   \n",
       "1  20240317_172017_long_comp_subj_4-2_and_4-3.1.f...   \n",
       "2  20240318_143819_long_comp_subj_3-3_and_3-4.1.f...   \n",
       "\n",
       "                                     video_name current_subject  \n",
       "0  20240317_151922_long_comp_subj_3-1_and_3-3.1             3.1  \n",
       "0  20240317_151922_long_comp_subj_3-1_and_3-3.1             3.3  \n",
       "1  20240317_172017_long_comp_subj_4-2_and_4-3.1             4.2  \n",
       "1  20240317_172017_long_comp_subj_4-2_and_4-3.1             4.3  \n",
       "2  20240318_143819_long_comp_subj_3-3_and_3-4.1             3.3  "
      ]
     },
     "execution_count": 24,
     "metadata": {},
     "output_type": "execute_result"
    }
   ],
   "source": [
    "START_STOP_FRAME_DF.head()"
   ]
  },
  {
   "cell_type": "code",
   "execution_count": 25,
   "metadata": {
    "tags": []
   },
   "outputs": [
    {
     "data": {
      "text/plain": [
       "(16, 8)"
      ]
     },
     "execution_count": 25,
     "metadata": {},
     "output_type": "execute_result"
    }
   ],
   "source": [
    "START_STOP_FRAME_DF.shape"
   ]
  },
  {
   "cell_type": "markdown",
   "metadata": {},
   "source": [
    "# Reading in the h5 files between recordings"
   ]
  },
  {
   "cell_type": "code",
   "execution_count": 26,
   "metadata": {
    "tags": []
   },
   "outputs": [],
   "source": [
    "START_STOP_FRAME_DF[\"sleap_glob\"] = START_STOP_FRAME_DF[\"sleap_name\"].apply(lambda x: glob.glob(os.path.join(SLEAP_DIR, \"**\", x)))\n"
   ]
  },
  {
   "cell_type": "code",
   "execution_count": 27,
   "metadata": {
    "tags": []
   },
   "outputs": [],
   "source": [
    "for name in START_STOP_FRAME_DF[START_STOP_FRAME_DF[\"sleap_glob\"].apply(lambda x: len(x) == 0)][\"sleap_name\"]:\n",
    "    print(name)"
   ]
  },
  {
   "cell_type": "code",
   "execution_count": 28,
   "metadata": {
    "tags": []
   },
   "outputs": [],
   "source": [
    "START_STOP_FRAME_DF = START_STOP_FRAME_DF[START_STOP_FRAME_DF['sleap_glob'].apply(lambda x: len(x) >= 1)]\n",
    "START_STOP_FRAME_DF = START_STOP_FRAME_DF.reset_index(drop=True)\n",
    "\n",
    "\n"
   ]
  },
  {
   "cell_type": "code",
   "execution_count": 29,
   "metadata": {},
   "outputs": [],
   "source": [
    "START_STOP_FRAME_DF[\"sleap_path\"] = START_STOP_FRAME_DF[\"sleap_glob\"].apply(lambda x: x[0])"
   ]
  },
  {
   "cell_type": "markdown",
   "metadata": {},
   "source": []
  },
  {
   "cell_type": "code",
   "execution_count": 30,
   "metadata": {},
   "outputs": [],
   "source": [
    "START_STOP_FRAME_DF[\"all_sleap_data\"] = START_STOP_FRAME_DF[\"sleap_path\"].apply(lambda x: sleap.process_pose.extract_sleap_data(x))\n"
   ]
  },
  {
   "cell_type": "code",
   "execution_count": 31,
   "metadata": {
    "tags": []
   },
   "outputs": [],
   "source": [
    "START_STOP_FRAME_DF[\"body_parts\"] = START_STOP_FRAME_DF[\"sleap_path\"].apply(lambda x: sleap.process_pose.get_node_names_from_sleap(x))"
   ]
  },
  {
   "cell_type": "code",
   "execution_count": 32,
   "metadata": {
    "tags": []
   },
   "outputs": [
    {
     "data": {
      "text/plain": [
       "['left_ear', 'right_ear', 'nose', 'tail_base', 'thorax', 'forehead']"
      ]
     },
     "execution_count": 32,
     "metadata": {},
     "output_type": "execute_result"
    }
   ],
   "source": [
    "START_STOP_FRAME_DF[\"body_parts\"].iloc[0]"
   ]
  },
  {
   "cell_type": "code",
   "execution_count": 33,
   "metadata": {},
   "outputs": [],
   "source": [
    "START_STOP_FRAME_DF[\"locations\"] = START_STOP_FRAME_DF[\"all_sleap_data\"].apply(lambda x: x[\"locations\"])"
   ]
  },
  {
   "cell_type": "code",
   "execution_count": 34,
   "metadata": {},
   "outputs": [],
   "source": [
    "START_STOP_FRAME_DF[\"track_names\"] = START_STOP_FRAME_DF[\"all_sleap_data\"].apply(lambda x: x[\"track_names\"])"
   ]
  },
  {
   "cell_type": "code",
   "execution_count": 35,
   "metadata": {
    "tags": []
   },
   "outputs": [
    {
     "data": {
      "text/plain": [
       "(45736, 6, 2, 2)"
      ]
     },
     "execution_count": 35,
     "metadata": {},
     "output_type": "execute_result"
    }
   ],
   "source": [
    "START_STOP_FRAME_DF[\"locations\"].iloc[0].shape"
   ]
  },
  {
   "cell_type": "code",
   "execution_count": 36,
   "metadata": {
    "tags": []
   },
   "outputs": [
    {
     "data": {
      "text/html": [
       "<div>\n",
       "<style scoped>\n",
       "    .dataframe tbody tr th:only-of-type {\n",
       "        vertical-align: middle;\n",
       "    }\n",
       "\n",
       "    .dataframe tbody tr th {\n",
       "        vertical-align: top;\n",
       "    }\n",
       "\n",
       "    .dataframe thead th {\n",
       "        text-align: right;\n",
       "    }\n",
       "</style>\n",
       "<table border=\"1\" class=\"dataframe\">\n",
       "  <thead>\n",
       "    <tr style=\"text-align: right;\">\n",
       "      <th></th>\n",
       "      <th>start_frame</th>\n",
       "      <th>stop_frame</th>\n",
       "      <th>tracked_subject</th>\n",
       "      <th>in_video_subjects</th>\n",
       "      <th>box_number</th>\n",
       "      <th>sleap_name</th>\n",
       "      <th>video_name</th>\n",
       "      <th>current_subject</th>\n",
       "      <th>sleap_glob</th>\n",
       "      <th>sleap_path</th>\n",
       "      <th>all_sleap_data</th>\n",
       "      <th>body_parts</th>\n",
       "      <th>locations</th>\n",
       "      <th>track_names</th>\n",
       "    </tr>\n",
       "  </thead>\n",
       "  <tbody>\n",
       "    <tr>\n",
       "      <th>0</th>\n",
       "      <td>1</td>\n",
       "      <td>45736</td>\n",
       "      <td>[3.1, 3.3]</td>\n",
       "      <td>3.1_3.3</td>\n",
       "      <td>1</td>\n",
       "      <td>20240317_151922_long_comp_subj_3-1_and_3-3.1.f...</td>\n",
       "      <td>20240317_151922_long_comp_subj_3-1_and_3-3.1</td>\n",
       "      <td>3.1</td>\n",
       "      <td>[/scratch/back_up/reward_competition_extention...</td>\n",
       "      <td>/scratch/back_up/reward_competition_extention/...</td>\n",
       "      <td>{'locations': [[[[637.70965576 552.13781738]\n",
       " ...</td>\n",
       "      <td>[left_ear, right_ear, nose, tail_base, thorax,...</td>\n",
       "      <td>[[[[637.70965576 552.13781738], [576.05584717 ...</td>\n",
       "      <td>[3.1, 3.3]</td>\n",
       "    </tr>\n",
       "    <tr>\n",
       "      <th>1</th>\n",
       "      <td>1</td>\n",
       "      <td>45736</td>\n",
       "      <td>[3.1, 3.3]</td>\n",
       "      <td>3.1_3.3</td>\n",
       "      <td>1</td>\n",
       "      <td>20240317_151922_long_comp_subj_3-1_and_3-3.1.f...</td>\n",
       "      <td>20240317_151922_long_comp_subj_3-1_and_3-3.1</td>\n",
       "      <td>3.3</td>\n",
       "      <td>[/scratch/back_up/reward_competition_extention...</td>\n",
       "      <td>/scratch/back_up/reward_competition_extention/...</td>\n",
       "      <td>{'locations': [[[[637.70965576 552.13781738]\n",
       " ...</td>\n",
       "      <td>[left_ear, right_ear, nose, tail_base, thorax,...</td>\n",
       "      <td>[[[[637.70965576 552.13781738], [576.05584717 ...</td>\n",
       "      <td>[3.1, 3.3]</td>\n",
       "    </tr>\n",
       "    <tr>\n",
       "      <th>2</th>\n",
       "      <td>1</td>\n",
       "      <td>58878</td>\n",
       "      <td>[4.2, 4.3]</td>\n",
       "      <td>4.2_4.3</td>\n",
       "      <td>1</td>\n",
       "      <td>20240317_172017_long_comp_subj_4-2_and_4-3.1.f...</td>\n",
       "      <td>20240317_172017_long_comp_subj_4-2_and_4-3.1</td>\n",
       "      <td>4.2</td>\n",
       "      <td>[/scratch/back_up/reward_competition_extention...</td>\n",
       "      <td>/scratch/back_up/reward_competition_extention/...</td>\n",
       "      <td>{'locations': [[[[674.97369385 637.52838135]\n",
       " ...</td>\n",
       "      <td>[left_ear, right_ear, nose, tail_base, thorax,...</td>\n",
       "      <td>[[[[674.97369385 637.52838135], [573.16546631 ...</td>\n",
       "      <td>[4.2, 4.3]</td>\n",
       "    </tr>\n",
       "    <tr>\n",
       "      <th>3</th>\n",
       "      <td>1</td>\n",
       "      <td>58878</td>\n",
       "      <td>[4.2, 4.3]</td>\n",
       "      <td>4.2_4.3</td>\n",
       "      <td>1</td>\n",
       "      <td>20240317_172017_long_comp_subj_4-2_and_4-3.1.f...</td>\n",
       "      <td>20240317_172017_long_comp_subj_4-2_and_4-3.1</td>\n",
       "      <td>4.3</td>\n",
       "      <td>[/scratch/back_up/reward_competition_extention...</td>\n",
       "      <td>/scratch/back_up/reward_competition_extention/...</td>\n",
       "      <td>{'locations': [[[[674.97369385 637.52838135]\n",
       " ...</td>\n",
       "      <td>[left_ear, right_ear, nose, tail_base, thorax,...</td>\n",
       "      <td>[[[[674.97369385 637.52838135], [573.16546631 ...</td>\n",
       "      <td>[4.2, 4.3]</td>\n",
       "    </tr>\n",
       "    <tr>\n",
       "      <th>4</th>\n",
       "      <td>1</td>\n",
       "      <td>58752</td>\n",
       "      <td>[3.3, 3.4]</td>\n",
       "      <td>3.3_3.4</td>\n",
       "      <td>1</td>\n",
       "      <td>20240318_143819_long_comp_subj_3-3_and_3-4.1.f...</td>\n",
       "      <td>20240318_143819_long_comp_subj_3-3_and_3-4.1</td>\n",
       "      <td>3.3</td>\n",
       "      <td>[/scratch/back_up/reward_competition_extention...</td>\n",
       "      <td>/scratch/back_up/reward_competition_extention/...</td>\n",
       "      <td>{'locations': [[[[813.31793213 445.26257324]\n",
       " ...</td>\n",
       "      <td>[left_ear, right_ear, nose, tail_base, thorax,...</td>\n",
       "      <td>[[[[813.31793213 445.26257324], [162.67417908 ...</td>\n",
       "      <td>[3.3, 3.4]</td>\n",
       "    </tr>\n",
       "  </tbody>\n",
       "</table>\n",
       "</div>"
      ],
      "text/plain": [
       "   start_frame  stop_frame tracked_subject in_video_subjects  box_number  \\\n",
       "0            1       45736      [3.1, 3.3]           3.1_3.3           1   \n",
       "1            1       45736      [3.1, 3.3]           3.1_3.3           1   \n",
       "2            1       58878      [4.2, 4.3]           4.2_4.3           1   \n",
       "3            1       58878      [4.2, 4.3]           4.2_4.3           1   \n",
       "4            1       58752      [3.3, 3.4]           3.3_3.4           1   \n",
       "\n",
       "                                          sleap_name  \\\n",
       "0  20240317_151922_long_comp_subj_3-1_and_3-3.1.f...   \n",
       "1  20240317_151922_long_comp_subj_3-1_and_3-3.1.f...   \n",
       "2  20240317_172017_long_comp_subj_4-2_and_4-3.1.f...   \n",
       "3  20240317_172017_long_comp_subj_4-2_and_4-3.1.f...   \n",
       "4  20240318_143819_long_comp_subj_3-3_and_3-4.1.f...   \n",
       "\n",
       "                                     video_name current_subject  \\\n",
       "0  20240317_151922_long_comp_subj_3-1_and_3-3.1             3.1   \n",
       "1  20240317_151922_long_comp_subj_3-1_and_3-3.1             3.3   \n",
       "2  20240317_172017_long_comp_subj_4-2_and_4-3.1             4.2   \n",
       "3  20240317_172017_long_comp_subj_4-2_and_4-3.1             4.3   \n",
       "4  20240318_143819_long_comp_subj_3-3_and_3-4.1             3.3   \n",
       "\n",
       "                                          sleap_glob  \\\n",
       "0  [/scratch/back_up/reward_competition_extention...   \n",
       "1  [/scratch/back_up/reward_competition_extention...   \n",
       "2  [/scratch/back_up/reward_competition_extention...   \n",
       "3  [/scratch/back_up/reward_competition_extention...   \n",
       "4  [/scratch/back_up/reward_competition_extention...   \n",
       "\n",
       "                                          sleap_path  \\\n",
       "0  /scratch/back_up/reward_competition_extention/...   \n",
       "1  /scratch/back_up/reward_competition_extention/...   \n",
       "2  /scratch/back_up/reward_competition_extention/...   \n",
       "3  /scratch/back_up/reward_competition_extention/...   \n",
       "4  /scratch/back_up/reward_competition_extention/...   \n",
       "\n",
       "                                      all_sleap_data  \\\n",
       "0  {'locations': [[[[637.70965576 552.13781738]\n",
       " ...   \n",
       "1  {'locations': [[[[637.70965576 552.13781738]\n",
       " ...   \n",
       "2  {'locations': [[[[674.97369385 637.52838135]\n",
       " ...   \n",
       "3  {'locations': [[[[674.97369385 637.52838135]\n",
       " ...   \n",
       "4  {'locations': [[[[813.31793213 445.26257324]\n",
       " ...   \n",
       "\n",
       "                                          body_parts  \\\n",
       "0  [left_ear, right_ear, nose, tail_base, thorax,...   \n",
       "1  [left_ear, right_ear, nose, tail_base, thorax,...   \n",
       "2  [left_ear, right_ear, nose, tail_base, thorax,...   \n",
       "3  [left_ear, right_ear, nose, tail_base, thorax,...   \n",
       "4  [left_ear, right_ear, nose, tail_base, thorax,...   \n",
       "\n",
       "                                           locations track_names  \n",
       "0  [[[[637.70965576 552.13781738], [576.05584717 ...  [3.1, 3.3]  \n",
       "1  [[[[637.70965576 552.13781738], [576.05584717 ...  [3.1, 3.3]  \n",
       "2  [[[[674.97369385 637.52838135], [573.16546631 ...  [4.2, 4.3]  \n",
       "3  [[[[674.97369385 637.52838135], [573.16546631 ...  [4.2, 4.3]  \n",
       "4  [[[[813.31793213 445.26257324], [162.67417908 ...  [3.3, 3.4]  "
      ]
     },
     "execution_count": 36,
     "metadata": {},
     "output_type": "execute_result"
    }
   ],
   "source": [
    "START_STOP_FRAME_DF.head()"
   ]
  },
  {
   "cell_type": "code",
   "execution_count": 37,
   "metadata": {},
   "outputs": [],
   "source": [
    "# Getting the indexes of each subject from the track list\n",
    "START_STOP_FRAME_DF[\"subject_to_index\"] = START_STOP_FRAME_DF.apply(lambda x: {k: x[\"track_names\"].index(k) for k in x[\"tracked_subject\"] if k in x[\"track_names\"]}, axis=1)"
   ]
  },
  {
   "cell_type": "code",
   "execution_count": 38,
   "metadata": {},
   "outputs": [
    {
     "data": {
      "text/plain": [
       "0    {'3.1': 0, '3.3': 1}\n",
       "1    {'3.1': 0, '3.3': 1}\n",
       "2    {'4.2': 0, '4.3': 1}\n",
       "3    {'4.2': 0, '4.3': 1}\n",
       "4    {'3.3': 0, '3.4': 1}\n",
       "Name: subject_to_index, dtype: object"
      ]
     },
     "execution_count": 38,
     "metadata": {},
     "output_type": "execute_result"
    }
   ],
   "source": [
    "START_STOP_FRAME_DF[\"subject_to_index\"].head()"
   ]
  },
  {
   "cell_type": "code",
   "execution_count": 39,
   "metadata": {},
   "outputs": [],
   "source": [
    "START_STOP_FRAME_DF[\"subject_to_tracks\"] = START_STOP_FRAME_DF.apply(lambda x: {k:v for k, v in x[\"subject_to_index\"].items()}, axis=1)"
   ]
  },
  {
   "cell_type": "code",
   "execution_count": 40,
   "metadata": {},
   "outputs": [],
   "source": [
    "START_STOP_FRAME_DF[\"subject_to_tracks\"] = START_STOP_FRAME_DF.apply(lambda x: {k: x[\"locations\"][:,:,:,v] for k, v in x[\"subject_to_index\"].items()}, axis=1)"
   ]
  },
  {
   "cell_type": "code",
   "execution_count": 41,
   "metadata": {},
   "outputs": [
    {
     "data": {
      "text/plain": [
       "0    {'3.1': [[[637.70965576 576.05584717], [626.12...\n",
       "1    {'3.1': [[[637.70965576 576.05584717], [626.12...\n",
       "2    {'4.2': [[[674.97369385 573.16546631], [645.37...\n",
       "3    {'4.2': [[[674.97369385 573.16546631], [645.37...\n",
       "4    {'3.3': [[[813.31793213 162.67417908], [847.95...\n",
       "Name: subject_to_tracks, dtype: object"
      ]
     },
     "execution_count": 41,
     "metadata": {},
     "output_type": "execute_result"
    }
   ],
   "source": [
    "START_STOP_FRAME_DF[\"subject_to_tracks\"].head()"
   ]
  },
  {
   "cell_type": "code",
   "execution_count": 42,
   "metadata": {
    "tags": []
   },
   "outputs": [
    {
     "data": {
      "text/plain": [
       "0    (3.1, 3.3)\n",
       "1    (3.1, 3.3)\n",
       "2    (4.2, 4.3)\n",
       "3    (4.2, 4.3)\n",
       "4    (3.3, 3.4)\n",
       "Name: subject_to_tracks, dtype: object"
      ]
     },
     "execution_count": 42,
     "metadata": {},
     "output_type": "execute_result"
    }
   ],
   "source": [
    "START_STOP_FRAME_DF[\"subject_to_tracks\"].apply(lambda x: x.keys()).head()"
   ]
  },
  {
   "cell_type": "code",
   "execution_count": 43,
   "metadata": {},
   "outputs": [
    {
     "data": {
      "text/html": [
       "<div>\n",
       "<style scoped>\n",
       "    .dataframe tbody tr th:only-of-type {\n",
       "        vertical-align: middle;\n",
       "    }\n",
       "\n",
       "    .dataframe tbody tr th {\n",
       "        vertical-align: top;\n",
       "    }\n",
       "\n",
       "    .dataframe thead th {\n",
       "        text-align: right;\n",
       "    }\n",
       "</style>\n",
       "<table border=\"1\" class=\"dataframe\">\n",
       "  <thead>\n",
       "    <tr style=\"text-align: right;\">\n",
       "      <th></th>\n",
       "      <th>start_frame</th>\n",
       "      <th>stop_frame</th>\n",
       "      <th>tracked_subject</th>\n",
       "      <th>in_video_subjects</th>\n",
       "      <th>box_number</th>\n",
       "      <th>sleap_name</th>\n",
       "      <th>video_name</th>\n",
       "      <th>current_subject</th>\n",
       "      <th>sleap_glob</th>\n",
       "      <th>sleap_path</th>\n",
       "      <th>all_sleap_data</th>\n",
       "      <th>body_parts</th>\n",
       "      <th>locations</th>\n",
       "      <th>track_names</th>\n",
       "      <th>subject_to_index</th>\n",
       "      <th>subject_to_tracks</th>\n",
       "    </tr>\n",
       "  </thead>\n",
       "  <tbody>\n",
       "    <tr>\n",
       "      <th>0</th>\n",
       "      <td>1</td>\n",
       "      <td>45736</td>\n",
       "      <td>[3.1, 3.3]</td>\n",
       "      <td>3.1_3.3</td>\n",
       "      <td>1</td>\n",
       "      <td>20240317_151922_long_comp_subj_3-1_and_3-3.1.f...</td>\n",
       "      <td>20240317_151922_long_comp_subj_3-1_and_3-3.1</td>\n",
       "      <td>3.1</td>\n",
       "      <td>[/scratch/back_up/reward_competition_extention...</td>\n",
       "      <td>/scratch/back_up/reward_competition_extention/...</td>\n",
       "      <td>{'locations': [[[[637.70965576 552.13781738]\n",
       " ...</td>\n",
       "      <td>[left_ear, right_ear, nose, tail_base, thorax,...</td>\n",
       "      <td>[[[[637.70965576 552.13781738], [576.05584717 ...</td>\n",
       "      <td>[3.1, 3.3]</td>\n",
       "      <td>{'3.1': 0, '3.3': 1}</td>\n",
       "      <td>{'3.1': [[[637.70965576 576.05584717], [626.12...</td>\n",
       "    </tr>\n",
       "    <tr>\n",
       "      <th>1</th>\n",
       "      <td>1</td>\n",
       "      <td>45736</td>\n",
       "      <td>[3.1, 3.3]</td>\n",
       "      <td>3.1_3.3</td>\n",
       "      <td>1</td>\n",
       "      <td>20240317_151922_long_comp_subj_3-1_and_3-3.1.f...</td>\n",
       "      <td>20240317_151922_long_comp_subj_3-1_and_3-3.1</td>\n",
       "      <td>3.3</td>\n",
       "      <td>[/scratch/back_up/reward_competition_extention...</td>\n",
       "      <td>/scratch/back_up/reward_competition_extention/...</td>\n",
       "      <td>{'locations': [[[[637.70965576 552.13781738]\n",
       " ...</td>\n",
       "      <td>[left_ear, right_ear, nose, tail_base, thorax,...</td>\n",
       "      <td>[[[[637.70965576 552.13781738], [576.05584717 ...</td>\n",
       "      <td>[3.1, 3.3]</td>\n",
       "      <td>{'3.1': 0, '3.3': 1}</td>\n",
       "      <td>{'3.1': [[[637.70965576 576.05584717], [626.12...</td>\n",
       "    </tr>\n",
       "    <tr>\n",
       "      <th>2</th>\n",
       "      <td>1</td>\n",
       "      <td>58878</td>\n",
       "      <td>[4.2, 4.3]</td>\n",
       "      <td>4.2_4.3</td>\n",
       "      <td>1</td>\n",
       "      <td>20240317_172017_long_comp_subj_4-2_and_4-3.1.f...</td>\n",
       "      <td>20240317_172017_long_comp_subj_4-2_and_4-3.1</td>\n",
       "      <td>4.2</td>\n",
       "      <td>[/scratch/back_up/reward_competition_extention...</td>\n",
       "      <td>/scratch/back_up/reward_competition_extention/...</td>\n",
       "      <td>{'locations': [[[[674.97369385 637.52838135]\n",
       " ...</td>\n",
       "      <td>[left_ear, right_ear, nose, tail_base, thorax,...</td>\n",
       "      <td>[[[[674.97369385 637.52838135], [573.16546631 ...</td>\n",
       "      <td>[4.2, 4.3]</td>\n",
       "      <td>{'4.2': 0, '4.3': 1}</td>\n",
       "      <td>{'4.2': [[[674.97369385 573.16546631], [645.37...</td>\n",
       "    </tr>\n",
       "    <tr>\n",
       "      <th>3</th>\n",
       "      <td>1</td>\n",
       "      <td>58878</td>\n",
       "      <td>[4.2, 4.3]</td>\n",
       "      <td>4.2_4.3</td>\n",
       "      <td>1</td>\n",
       "      <td>20240317_172017_long_comp_subj_4-2_and_4-3.1.f...</td>\n",
       "      <td>20240317_172017_long_comp_subj_4-2_and_4-3.1</td>\n",
       "      <td>4.3</td>\n",
       "      <td>[/scratch/back_up/reward_competition_extention...</td>\n",
       "      <td>/scratch/back_up/reward_competition_extention/...</td>\n",
       "      <td>{'locations': [[[[674.97369385 637.52838135]\n",
       " ...</td>\n",
       "      <td>[left_ear, right_ear, nose, tail_base, thorax,...</td>\n",
       "      <td>[[[[674.97369385 637.52838135], [573.16546631 ...</td>\n",
       "      <td>[4.2, 4.3]</td>\n",
       "      <td>{'4.2': 0, '4.3': 1}</td>\n",
       "      <td>{'4.2': [[[674.97369385 573.16546631], [645.37...</td>\n",
       "    </tr>\n",
       "    <tr>\n",
       "      <th>4</th>\n",
       "      <td>1</td>\n",
       "      <td>58752</td>\n",
       "      <td>[3.3, 3.4]</td>\n",
       "      <td>3.3_3.4</td>\n",
       "      <td>1</td>\n",
       "      <td>20240318_143819_long_comp_subj_3-3_and_3-4.1.f...</td>\n",
       "      <td>20240318_143819_long_comp_subj_3-3_and_3-4.1</td>\n",
       "      <td>3.3</td>\n",
       "      <td>[/scratch/back_up/reward_competition_extention...</td>\n",
       "      <td>/scratch/back_up/reward_competition_extention/...</td>\n",
       "      <td>{'locations': [[[[813.31793213 445.26257324]\n",
       " ...</td>\n",
       "      <td>[left_ear, right_ear, nose, tail_base, thorax,...</td>\n",
       "      <td>[[[[813.31793213 445.26257324], [162.67417908 ...</td>\n",
       "      <td>[3.3, 3.4]</td>\n",
       "      <td>{'3.3': 0, '3.4': 1}</td>\n",
       "      <td>{'3.3': [[[813.31793213 162.67417908], [847.95...</td>\n",
       "    </tr>\n",
       "  </tbody>\n",
       "</table>\n",
       "</div>"
      ],
      "text/plain": [
       "   start_frame  stop_frame tracked_subject in_video_subjects  box_number  \\\n",
       "0            1       45736      [3.1, 3.3]           3.1_3.3           1   \n",
       "1            1       45736      [3.1, 3.3]           3.1_3.3           1   \n",
       "2            1       58878      [4.2, 4.3]           4.2_4.3           1   \n",
       "3            1       58878      [4.2, 4.3]           4.2_4.3           1   \n",
       "4            1       58752      [3.3, 3.4]           3.3_3.4           1   \n",
       "\n",
       "                                          sleap_name  \\\n",
       "0  20240317_151922_long_comp_subj_3-1_and_3-3.1.f...   \n",
       "1  20240317_151922_long_comp_subj_3-1_and_3-3.1.f...   \n",
       "2  20240317_172017_long_comp_subj_4-2_and_4-3.1.f...   \n",
       "3  20240317_172017_long_comp_subj_4-2_and_4-3.1.f...   \n",
       "4  20240318_143819_long_comp_subj_3-3_and_3-4.1.f...   \n",
       "\n",
       "                                     video_name current_subject  \\\n",
       "0  20240317_151922_long_comp_subj_3-1_and_3-3.1             3.1   \n",
       "1  20240317_151922_long_comp_subj_3-1_and_3-3.1             3.3   \n",
       "2  20240317_172017_long_comp_subj_4-2_and_4-3.1             4.2   \n",
       "3  20240317_172017_long_comp_subj_4-2_and_4-3.1             4.3   \n",
       "4  20240318_143819_long_comp_subj_3-3_and_3-4.1             3.3   \n",
       "\n",
       "                                          sleap_glob  \\\n",
       "0  [/scratch/back_up/reward_competition_extention...   \n",
       "1  [/scratch/back_up/reward_competition_extention...   \n",
       "2  [/scratch/back_up/reward_competition_extention...   \n",
       "3  [/scratch/back_up/reward_competition_extention...   \n",
       "4  [/scratch/back_up/reward_competition_extention...   \n",
       "\n",
       "                                          sleap_path  \\\n",
       "0  /scratch/back_up/reward_competition_extention/...   \n",
       "1  /scratch/back_up/reward_competition_extention/...   \n",
       "2  /scratch/back_up/reward_competition_extention/...   \n",
       "3  /scratch/back_up/reward_competition_extention/...   \n",
       "4  /scratch/back_up/reward_competition_extention/...   \n",
       "\n",
       "                                      all_sleap_data  \\\n",
       "0  {'locations': [[[[637.70965576 552.13781738]\n",
       " ...   \n",
       "1  {'locations': [[[[637.70965576 552.13781738]\n",
       " ...   \n",
       "2  {'locations': [[[[674.97369385 637.52838135]\n",
       " ...   \n",
       "3  {'locations': [[[[674.97369385 637.52838135]\n",
       " ...   \n",
       "4  {'locations': [[[[813.31793213 445.26257324]\n",
       " ...   \n",
       "\n",
       "                                          body_parts  \\\n",
       "0  [left_ear, right_ear, nose, tail_base, thorax,...   \n",
       "1  [left_ear, right_ear, nose, tail_base, thorax,...   \n",
       "2  [left_ear, right_ear, nose, tail_base, thorax,...   \n",
       "3  [left_ear, right_ear, nose, tail_base, thorax,...   \n",
       "4  [left_ear, right_ear, nose, tail_base, thorax,...   \n",
       "\n",
       "                                           locations track_names  \\\n",
       "0  [[[[637.70965576 552.13781738], [576.05584717 ...  [3.1, 3.3]   \n",
       "1  [[[[637.70965576 552.13781738], [576.05584717 ...  [3.1, 3.3]   \n",
       "2  [[[[674.97369385 637.52838135], [573.16546631 ...  [4.2, 4.3]   \n",
       "3  [[[[674.97369385 637.52838135], [573.16546631 ...  [4.2, 4.3]   \n",
       "4  [[[[813.31793213 445.26257324], [162.67417908 ...  [3.3, 3.4]   \n",
       "\n",
       "       subject_to_index                                  subject_to_tracks  \n",
       "0  {'3.1': 0, '3.3': 1}  {'3.1': [[[637.70965576 576.05584717], [626.12...  \n",
       "1  {'3.1': 0, '3.3': 1}  {'3.1': [[[637.70965576 576.05584717], [626.12...  \n",
       "2  {'4.2': 0, '4.3': 1}  {'4.2': [[[674.97369385 573.16546631], [645.37...  \n",
       "3  {'4.2': 0, '4.3': 1}  {'4.2': [[[674.97369385 573.16546631], [645.37...  \n",
       "4  {'3.3': 0, '3.4': 1}  {'3.3': [[[813.31793213 162.67417908], [847.95...  "
      ]
     },
     "execution_count": 43,
     "metadata": {},
     "output_type": "execute_result"
    }
   ],
   "source": [
    "START_STOP_FRAME_DF.head()"
   ]
  },
  {
   "cell_type": "markdown",
   "metadata": {},
   "source": [
    "## Getting the coordinates of the corners"
   ]
  },
  {
   "cell_type": "code",
   "execution_count": 44,
   "metadata": {},
   "outputs": [
    {
     "data": {
      "text/plain": [
       "'/scratch/back_up/reward_competition_extention/final_proc/id_corrected/rce3/20240317_151922_long_comp_subj_3-1_and_3-3/20240317_151922_long_comp_subj_3-1_and_3-3.1.fixed.2_subj.round_3.id_corrected.h5'"
      ]
     },
     "execution_count": 44,
     "metadata": {},
     "output_type": "execute_result"
    }
   ],
   "source": [
    "START_STOP_FRAME_DF[\"sleap_path\"].iloc[0]"
   ]
  },
  {
   "cell_type": "code",
   "execution_count": 45,
   "metadata": {},
   "outputs": [],
   "source": [
    "# Each corner file is the in the same folder and has the same basename of the pose tracking file \n",
    "START_STOP_FRAME_DF[\"corner_path\"] = START_STOP_FRAME_DF[\"sleap_path\"].apply(lambda x: x.replace(\"id_corrected.h5\", \"corner.h5\").replace(\".fixed\", \"\").replace(\".round_1\", \"\").replace(\".1_subj\", \"\").replace(\".2_subj\", \"\").replace(\".round_3\", \"\"))\n"
   ]
  },
  {
   "cell_type": "code",
   "execution_count": 46,
   "metadata": {},
   "outputs": [
    {
     "data": {
      "text/plain": [
       "'/scratch/back_up/reward_competition_extention/final_proc/id_corrected/rce3/20240317_151922_long_comp_subj_3-1_and_3-3/20240317_151922_long_comp_subj_3-1_and_3-3.1.corner.h5'"
      ]
     },
     "execution_count": 46,
     "metadata": {},
     "output_type": "execute_result"
    }
   ],
   "source": [
    "START_STOP_FRAME_DF[\"corner_path\"].iloc[0]"
   ]
  },
  {
   "cell_type": "code",
   "execution_count": 47,
   "metadata": {},
   "outputs": [],
   "source": [
    "# Getting the indexes of each corner location\n",
    "START_STOP_FRAME_DF[\"corner_parts\"] = START_STOP_FRAME_DF[\"corner_path\"].apply(lambda x: sleap.process_pose.get_node_names_from_sleap(x))"
   ]
  },
  {
   "cell_type": "code",
   "execution_count": 48,
   "metadata": {
    "tags": []
   },
   "outputs": [
    {
     "data": {
      "text/plain": [
       "0     20240317_151922_long_comp_subj_3-1_and_3-3.1\n",
       "1     20240317_151922_long_comp_subj_3-1_and_3-3.1\n",
       "2     20240317_172017_long_comp_subj_4-2_and_4-3.1\n",
       "3     20240317_172017_long_comp_subj_4-2_and_4-3.1\n",
       "4     20240318_143819_long_comp_subj_3-3_and_3-4.1\n",
       "5     20240318_143819_long_comp_subj_3-3_and_3-4.1\n",
       "6     20240318_170933_long_comp_subj_4-3_and_4-4.1\n",
       "7     20240318_170933_long_comp_subj_4-3_and_4-4.1\n",
       "8     20240319_134914_long_comp_subj_3-1_and_3-4.1\n",
       "9     20240319_134914_long_comp_subj_3-1_and_3-4.1\n",
       "10    20240319_160457_long_comp_subj_4-2_and_4-4.1\n",
       "11    20240319_160457_long_comp_subj_4-2_and_4-4.1\n",
       "12    20240320_114629_long_comp_subj_5-3_and_5-4.1\n",
       "13    20240320_114629_long_comp_subj_5-3_and_5-4.1\n",
       "14    20240321_114851_long_comp_subj_5-2_and_5-3.1\n",
       "15    20240321_114851_long_comp_subj_5-2_and_5-3.1\n",
       "Name: video_name, dtype: object"
      ]
     },
     "execution_count": 48,
     "metadata": {},
     "output_type": "execute_result"
    }
   ],
   "source": [
    "START_STOP_FRAME_DF[\"video_name\"]"
   ]
  },
  {
   "cell_type": "code",
   "execution_count": 49,
   "metadata": {},
   "outputs": [
    {
     "data": {
      "text/plain": [
       "0     [box_bottom_right, reward_port, box_top_left, ...\n",
       "1     [box_bottom_right, reward_port, box_top_left, ...\n",
       "2     [box_bottom_right, box_bottom_left, box_top_ri...\n",
       "3     [box_bottom_right, box_bottom_left, box_top_ri...\n",
       "4     [box_bottom_right, box_bottom_left, box_top_ri...\n",
       "5     [box_bottom_right, box_bottom_left, box_top_ri...\n",
       "6     [box_bottom_right, box_bottom_left, box_top_ri...\n",
       "7     [box_bottom_right, box_bottom_left, box_top_ri...\n",
       "8     [box_bottom_left, box_top_left, reward_port, b...\n",
       "9     [box_bottom_left, box_top_left, reward_port, b...\n",
       "10    [box_top_right, box_bottom_right, box_top_left...\n",
       "11    [box_top_right, box_bottom_right, box_top_left...\n",
       "12    [box_bottom_left, reward_port, box_top_right, ...\n",
       "13    [box_bottom_left, reward_port, box_top_right, ...\n",
       "14    [box_bottom_right, box_bottom_left, box_top_le...\n",
       "15    [box_bottom_right, box_bottom_left, box_top_le...\n",
       "Name: corner_parts, dtype: object"
      ]
     },
     "execution_count": 49,
     "metadata": {},
     "output_type": "execute_result"
    }
   ],
   "source": [
    "START_STOP_FRAME_DF[\"corner_parts\"]"
   ]
  },
  {
   "cell_type": "code",
   "execution_count": 50,
   "metadata": {
    "tags": []
   },
   "outputs": [],
   "source": [
    "# TODO: Remove this once corner files are fixed\n",
    "START_STOP_FRAME_DF = START_STOP_FRAME_DF[START_STOP_FRAME_DF[\"corner_parts\"].apply(lambda x: \"reward_port\" in x)]"
   ]
  },
  {
   "cell_type": "code",
   "execution_count": 51,
   "metadata": {},
   "outputs": [],
   "source": [
    "# Getting the coordinates of all the corners\n",
    "START_STOP_FRAME_DF[\"corner_to_coordinate\"] = START_STOP_FRAME_DF[\"corner_path\"].apply(lambda x: sleap.process_pose.get_sleap_tracks_from_h5(x))"
   ]
  },
  {
   "cell_type": "code",
   "execution_count": 52,
   "metadata": {},
   "outputs": [],
   "source": [
    "# Parsing out each corner and creating a dictionary of name to coordinates\n",
    "START_STOP_FRAME_DF[\"corner_to_coordinate\"] = START_STOP_FRAME_DF.apply(lambda x: {part: x[\"corner_to_coordinate\"][:,index,:,:] for index, part in enumerate(x[\"corner_parts\"])}, axis=1)"
   ]
  },
  {
   "cell_type": "code",
   "execution_count": 53,
   "metadata": {
    "tags": []
   },
   "outputs": [
    {
     "data": {
      "text/plain": [
       "0     {'box_bottom_right': [[[808.46932083], [574.68...\n",
       "1     {'box_bottom_right': [[[808.46932083], [574.68...\n",
       "2     {'box_bottom_right': [[[808.86323958], [548.72...\n",
       "3     {'box_bottom_right': [[[808.86323958], [548.72...\n",
       "4     {'box_bottom_right': [[[804.09395591], [564.04...\n",
       "5     {'box_bottom_right': [[[804.09395591], [564.04...\n",
       "6     {'box_bottom_right': [[[806.92696893], [565.21...\n",
       "7     {'box_bottom_right': [[[806.92696893], [565.21...\n",
       "8     {'box_bottom_left': [[[492.79585079], [541.722...\n",
       "9     {'box_bottom_left': [[[492.79585079], [541.722...\n",
       "10    {'box_top_right': [[[795.04498558], [139.16551...\n",
       "11    {'box_top_right': [[[795.04498558], [139.16551...\n",
       "12    {'box_bottom_left': [[[487.24778673], [550.319...\n",
       "13    {'box_bottom_left': [[[487.24778673], [550.319...\n",
       "14    {'box_bottom_right': [[[805.51204768], [536.62...\n",
       "15    {'box_bottom_right': [[[805.51204768], [536.62...\n",
       "Name: corner_to_coordinate, dtype: object"
      ]
     },
     "execution_count": 53,
     "metadata": {},
     "output_type": "execute_result"
    }
   ],
   "source": [
    "START_STOP_FRAME_DF[\"corner_to_coordinate\"]"
   ]
  },
  {
   "cell_type": "code",
   "execution_count": 54,
   "metadata": {},
   "outputs": [],
   "source": [
    "# Filtering out all the Nans because there's only one labeled frame\n",
    "START_STOP_FRAME_DF[\"corner_to_coordinate\"] = START_STOP_FRAME_DF.apply(lambda x: {k: v[~np.isnan(v)][:2] for k, v in x[\"corner_to_coordinate\"].items()}, axis=1)"
   ]
  },
  {
   "cell_type": "code",
   "execution_count": 55,
   "metadata": {},
   "outputs": [
    {
     "data": {
      "text/plain": [
       "0     {'box_bottom_right': [808.4693208328993, 574.6...\n",
       "1     {'box_bottom_right': [808.4693208328993, 574.6...\n",
       "2     {'box_bottom_right': [808.8632395810237, 548.7...\n",
       "3     {'box_bottom_right': [808.8632395810237, 548.7...\n",
       "4     {'box_bottom_right': [804.0939559098848, 564.0...\n",
       "5     {'box_bottom_right': [804.0939559098848, 564.0...\n",
       "6     {'box_bottom_right': [806.9269689330013, 565.2...\n",
       "7     {'box_bottom_right': [806.9269689330013, 565.2...\n",
       "8     {'box_bottom_left': [492.79585079464096, 541.7...\n",
       "9     {'box_bottom_left': [492.79585079464096, 541.7...\n",
       "10    {'box_top_right': [795.0449855816235, 139.1655...\n",
       "11    {'box_top_right': [795.0449855816235, 139.1655...\n",
       "12    {'box_bottom_left': [487.2477867287831, 550.31...\n",
       "13    {'box_bottom_left': [487.2477867287831, 550.31...\n",
       "14    {'box_bottom_right': [805.5120476775465, 536.6...\n",
       "15    {'box_bottom_right': [805.5120476775465, 536.6...\n",
       "Name: corner_to_coordinate, dtype: object"
      ]
     },
     "execution_count": 55,
     "metadata": {},
     "output_type": "execute_result"
    }
   ],
   "source": [
    "START_STOP_FRAME_DF[\"corner_to_coordinate\"]"
   ]
  },
  {
   "cell_type": "markdown",
   "metadata": {},
   "source": [
    "# Getting the distances between corners"
   ]
  },
  {
   "cell_type": "markdown",
   "metadata": {},
   "source": [
    "- Getting the average width and height so that we can convert pixels to cm"
   ]
  },
  {
   "cell_type": "code",
   "execution_count": 56,
   "metadata": {},
   "outputs": [],
   "source": [
    "# Using the x-coordinates for the width\n",
    "START_STOP_FRAME_DF[\"bottom_width\"] = START_STOP_FRAME_DF[\"corner_to_coordinate\"].apply(lambda x: x[\"box_bottom_right\"][0] - x[\"box_bottom_left\"][0])\n",
    "START_STOP_FRAME_DF[\"top_width\"] = START_STOP_FRAME_DF[\"corner_to_coordinate\"].apply(lambda x: x[\"box_top_right\"][0] - x[\"box_top_left\"][0])\n"
   ]
  },
  {
   "cell_type": "code",
   "execution_count": 57,
   "metadata": {},
   "outputs": [],
   "source": [
    "# Using the y-coordinates for the height\n",
    "START_STOP_FRAME_DF[\"right_height\"] = START_STOP_FRAME_DF[\"corner_to_coordinate\"].apply(lambda x: x[\"box_bottom_right\"][1] - x[\"box_top_right\"][1])\n",
    "START_STOP_FRAME_DF[\"left_height\"] = START_STOP_FRAME_DF[\"corner_to_coordinate\"].apply(lambda x: x[\"box_bottom_left\"][1] - x[\"box_top_left\"][1])\n"
   ]
  },
  {
   "cell_type": "code",
   "execution_count": 58,
   "metadata": {},
   "outputs": [],
   "source": [
    "# averaging the width and height by adding both sides and then getting the mean\n",
    "START_STOP_FRAME_DF[\"average_height\"] = START_STOP_FRAME_DF.apply(lambda row: (row[\"right_height\"] + row[\"left_height\"])/2, axis=1)\n",
    "START_STOP_FRAME_DF[\"average_width\"] = START_STOP_FRAME_DF.apply(lambda row: (row[\"bottom_width\"] + row[\"top_width\"])/2, axis=1)"
   ]
  },
  {
   "cell_type": "markdown",
   "metadata": {},
   "source": [
    "- Getthing the pixel to cm ratio"
   ]
  },
  {
   "cell_type": "code",
   "execution_count": 59,
   "metadata": {},
   "outputs": [],
   "source": [
    "START_STOP_FRAME_DF[\"width_ratio\"] = MED_PC_WIDTH / START_STOP_FRAME_DF[\"average_width\"]\n",
    "START_STOP_FRAME_DF[\"height_ratio\"] = MED_PC_HEIGHT / START_STOP_FRAME_DF[\"average_height\"]"
   ]
  },
  {
   "cell_type": "code",
   "execution_count": 60,
   "metadata": {},
   "outputs": [
    {
     "data": {
      "text/plain": [
       "0     0.061260\n",
       "1     0.061260\n",
       "2     0.060448\n",
       "3     0.060448\n",
       "4     0.060720\n",
       "5     0.060720\n",
       "6     0.061349\n",
       "7     0.061349\n",
       "8     0.061163\n",
       "9     0.061163\n",
       "10    0.061019\n",
       "11    0.061019\n",
       "12    0.059967\n",
       "13    0.059967\n",
       "14    0.060999\n",
       "15    0.060999\n",
       "Name: height_ratio, dtype: float64"
      ]
     },
     "execution_count": 60,
     "metadata": {},
     "output_type": "execute_result"
    }
   ],
   "source": [
    "START_STOP_FRAME_DF[\"height_ratio\"]"
   ]
  },
  {
   "cell_type": "code",
   "execution_count": 61,
   "metadata": {},
   "outputs": [
    {
     "data": {
      "text/plain": [
       "0     0.092458\n",
       "1     0.092458\n",
       "2     0.092656\n",
       "3     0.092656\n",
       "4     0.093842\n",
       "5     0.093842\n",
       "6     0.092889\n",
       "7     0.092889\n",
       "8     0.093002\n",
       "9     0.093002\n",
       "10    0.093378\n",
       "11    0.093378\n",
       "12    0.092400\n",
       "13    0.092400\n",
       "14    0.093646\n",
       "15    0.093646\n",
       "Name: width_ratio, dtype: float64"
      ]
     },
     "execution_count": 61,
     "metadata": {},
     "output_type": "execute_result"
    }
   ],
   "source": [
    "START_STOP_FRAME_DF[\"width_ratio\"]"
   ]
  },
  {
   "cell_type": "markdown",
   "metadata": {},
   "source": [
    "## Converting Pixels to cm"
   ]
  },
  {
   "cell_type": "code",
   "execution_count": 62,
   "metadata": {
    "tags": []
   },
   "outputs": [],
   "source": [
    "START_STOP_FRAME_DF[\"in_video_subjects\"] = START_STOP_FRAME_DF[\"in_video_subjects\"].apply(lambda x: x.split(\"_\"))"
   ]
  },
  {
   "cell_type": "code",
   "execution_count": 63,
   "metadata": {
    "tags": []
   },
   "outputs": [],
   "source": [
    "START_STOP_FRAME_DF[\"subject_to_tracks\"] = START_STOP_FRAME_DF.apply(lambda x: {k: v for k, v in x[\"subject_to_tracks\"].items() if k in x[\"in_video_subjects\"]}, axis=1)"
   ]
  },
  {
   "cell_type": "markdown",
   "metadata": {},
   "source": [
    "- Converting the X-dimension"
   ]
  },
  {
   "cell_type": "code",
   "execution_count": 64,
   "metadata": {},
   "outputs": [
    {
     "data": {
      "text/plain": [
       "0    {'3.1': [[[637.70965576 576.05584717], [626.12...\n",
       "1    {'3.1': [[[637.70965576 576.05584717], [626.12...\n",
       "2    {'4.2': [[[674.97369385 573.16546631], [645.37...\n",
       "3    {'4.2': [[[674.97369385 573.16546631], [645.37...\n",
       "4    {'3.3': [[[813.31793213 162.67417908], [847.95...\n",
       "Name: subject_to_tracks, dtype: object"
      ]
     },
     "execution_count": 64,
     "metadata": {},
     "output_type": "execute_result"
    }
   ],
   "source": [
    "START_STOP_FRAME_DF[\"subject_to_tracks\"].head()"
   ]
  },
  {
   "cell_type": "code",
   "execution_count": 65,
   "metadata": {},
   "outputs": [],
   "source": [
    "START_STOP_FRAME_DF[\"rescaled_locations\"] = START_STOP_FRAME_DF.apply(lambda x: {key: sleap.process_pose.fill_missing(sleap.process_pose.rescale_dimension_in_array(value, dimension=0, ratio=x[\"width_ratio\"])) for key, value in x[\"subject_to_tracks\"].items()}, axis=1)"
   ]
  },
  {
   "cell_type": "markdown",
   "metadata": {},
   "source": [
    "- Converting the Y-dimension"
   ]
  },
  {
   "cell_type": "code",
   "execution_count": 66,
   "metadata": {},
   "outputs": [],
   "source": [
    "START_STOP_FRAME_DF[\"rescaled_locations\"] = START_STOP_FRAME_DF.apply(lambda x: {key: sleap.process_pose.rescale_dimension_in_array(value, dimension=1, ratio=x[\"height_ratio\"]) for key, value in x[\"rescaled_locations\"].items()}, axis=1)"
   ]
  },
  {
   "cell_type": "code",
   "execution_count": 67,
   "metadata": {},
   "outputs": [
    {
     "data": {
      "text/plain": [
       "0     {'box_bottom_right': [808.4693208328993, 574.6...\n",
       "1     {'box_bottom_right': [808.4693208328993, 574.6...\n",
       "2     {'box_bottom_right': [808.8632395810237, 548.7...\n",
       "3     {'box_bottom_right': [808.8632395810237, 548.7...\n",
       "4     {'box_bottom_right': [804.0939559098848, 564.0...\n",
       "5     {'box_bottom_right': [804.0939559098848, 564.0...\n",
       "6     {'box_bottom_right': [806.9269689330013, 565.2...\n",
       "7     {'box_bottom_right': [806.9269689330013, 565.2...\n",
       "8     {'box_bottom_left': [492.79585079464096, 541.7...\n",
       "9     {'box_bottom_left': [492.79585079464096, 541.7...\n",
       "10    {'box_top_right': [795.0449855816235, 139.1655...\n",
       "11    {'box_top_right': [795.0449855816235, 139.1655...\n",
       "12    {'box_bottom_left': [487.2477867287831, 550.31...\n",
       "13    {'box_bottom_left': [487.2477867287831, 550.31...\n",
       "14    {'box_bottom_right': [805.5120476775465, 536.6...\n",
       "15    {'box_bottom_right': [805.5120476775465, 536.6...\n",
       "Name: corner_to_coordinate, dtype: object"
      ]
     },
     "execution_count": 67,
     "metadata": {},
     "output_type": "execute_result"
    }
   ],
   "source": [
    "START_STOP_FRAME_DF[\"corner_to_coordinate\"]"
   ]
  },
  {
   "cell_type": "code",
   "execution_count": 68,
   "metadata": {},
   "outputs": [
    {
     "data": {
      "text/html": [
       "<div>\n",
       "<style scoped>\n",
       "    .dataframe tbody tr th:only-of-type {\n",
       "        vertical-align: middle;\n",
       "    }\n",
       "\n",
       "    .dataframe tbody tr th {\n",
       "        vertical-align: top;\n",
       "    }\n",
       "\n",
       "    .dataframe thead th {\n",
       "        text-align: right;\n",
       "    }\n",
       "</style>\n",
       "<table border=\"1\" class=\"dataframe\">\n",
       "  <thead>\n",
       "    <tr style=\"text-align: right;\">\n",
       "      <th></th>\n",
       "      <th>start_frame</th>\n",
       "      <th>stop_frame</th>\n",
       "      <th>tracked_subject</th>\n",
       "      <th>in_video_subjects</th>\n",
       "      <th>box_number</th>\n",
       "      <th>sleap_name</th>\n",
       "      <th>video_name</th>\n",
       "      <th>current_subject</th>\n",
       "      <th>sleap_glob</th>\n",
       "      <th>sleap_path</th>\n",
       "      <th>...</th>\n",
       "      <th>corner_to_coordinate</th>\n",
       "      <th>bottom_width</th>\n",
       "      <th>top_width</th>\n",
       "      <th>right_height</th>\n",
       "      <th>left_height</th>\n",
       "      <th>average_height</th>\n",
       "      <th>average_width</th>\n",
       "      <th>width_ratio</th>\n",
       "      <th>height_ratio</th>\n",
       "      <th>rescaled_locations</th>\n",
       "    </tr>\n",
       "  </thead>\n",
       "  <tbody>\n",
       "    <tr>\n",
       "      <th>0</th>\n",
       "      <td>1</td>\n",
       "      <td>45736</td>\n",
       "      <td>[3.1, 3.3]</td>\n",
       "      <td>[3.1, 3.3]</td>\n",
       "      <td>1</td>\n",
       "      <td>20240317_151922_long_comp_subj_3-1_and_3-3.1.f...</td>\n",
       "      <td>20240317_151922_long_comp_subj_3-1_and_3-3.1</td>\n",
       "      <td>3.1</td>\n",
       "      <td>[/scratch/back_up/reward_competition_extention...</td>\n",
       "      <td>/scratch/back_up/reward_competition_extention/...</td>\n",
       "      <td>...</td>\n",
       "      <td>{'box_bottom_right': [808.4693208328993, 574.6...</td>\n",
       "      <td>321.427558</td>\n",
       "      <td>316.699600</td>\n",
       "      <td>388.209852</td>\n",
       "      <td>395.331909</td>\n",
       "      <td>391.770880</td>\n",
       "      <td>319.063579</td>\n",
       "      <td>0.092458</td>\n",
       "      <td>0.061260</td>\n",
       "      <td>{'3.1': [[[58.96139859 35.28935157], [57.89003...</td>\n",
       "    </tr>\n",
       "    <tr>\n",
       "      <th>1</th>\n",
       "      <td>1</td>\n",
       "      <td>45736</td>\n",
       "      <td>[3.1, 3.3]</td>\n",
       "      <td>[3.1, 3.3]</td>\n",
       "      <td>1</td>\n",
       "      <td>20240317_151922_long_comp_subj_3-1_and_3-3.1.f...</td>\n",
       "      <td>20240317_151922_long_comp_subj_3-1_and_3-3.1</td>\n",
       "      <td>3.3</td>\n",
       "      <td>[/scratch/back_up/reward_competition_extention...</td>\n",
       "      <td>/scratch/back_up/reward_competition_extention/...</td>\n",
       "      <td>...</td>\n",
       "      <td>{'box_bottom_right': [808.4693208328993, 574.6...</td>\n",
       "      <td>321.427558</td>\n",
       "      <td>316.699600</td>\n",
       "      <td>388.209852</td>\n",
       "      <td>395.331909</td>\n",
       "      <td>391.770880</td>\n",
       "      <td>319.063579</td>\n",
       "      <td>0.092458</td>\n",
       "      <td>0.061260</td>\n",
       "      <td>{'3.1': [[[58.96139859 35.28935157], [57.89003...</td>\n",
       "    </tr>\n",
       "    <tr>\n",
       "      <th>2</th>\n",
       "      <td>1</td>\n",
       "      <td>58878</td>\n",
       "      <td>[4.2, 4.3]</td>\n",
       "      <td>[4.2, 4.3]</td>\n",
       "      <td>1</td>\n",
       "      <td>20240317_172017_long_comp_subj_4-2_and_4-3.1.f...</td>\n",
       "      <td>20240317_172017_long_comp_subj_4-2_and_4-3.1</td>\n",
       "      <td>4.2</td>\n",
       "      <td>[/scratch/back_up/reward_competition_extention...</td>\n",
       "      <td>/scratch/back_up/reward_competition_extention/...</td>\n",
       "      <td>...</td>\n",
       "      <td>{'box_bottom_right': [808.8632395810237, 548.7...</td>\n",
       "      <td>319.349472</td>\n",
       "      <td>317.413475</td>\n",
       "      <td>397.543703</td>\n",
       "      <td>396.522381</td>\n",
       "      <td>397.033042</td>\n",
       "      <td>318.381473</td>\n",
       "      <td>0.092656</td>\n",
       "      <td>0.060448</td>\n",
       "      <td>{'4.2': [[[62.54046054 34.64691786], [59.79832...</td>\n",
       "    </tr>\n",
       "    <tr>\n",
       "      <th>3</th>\n",
       "      <td>1</td>\n",
       "      <td>58878</td>\n",
       "      <td>[4.2, 4.3]</td>\n",
       "      <td>[4.2, 4.3]</td>\n",
       "      <td>1</td>\n",
       "      <td>20240317_172017_long_comp_subj_4-2_and_4-3.1.f...</td>\n",
       "      <td>20240317_172017_long_comp_subj_4-2_and_4-3.1</td>\n",
       "      <td>4.3</td>\n",
       "      <td>[/scratch/back_up/reward_competition_extention...</td>\n",
       "      <td>/scratch/back_up/reward_competition_extention/...</td>\n",
       "      <td>...</td>\n",
       "      <td>{'box_bottom_right': [808.8632395810237, 548.7...</td>\n",
       "      <td>319.349472</td>\n",
       "      <td>317.413475</td>\n",
       "      <td>397.543703</td>\n",
       "      <td>396.522381</td>\n",
       "      <td>397.033042</td>\n",
       "      <td>318.381473</td>\n",
       "      <td>0.092656</td>\n",
       "      <td>0.060448</td>\n",
       "      <td>{'4.2': [[[62.54046054 34.64691786], [59.79832...</td>\n",
       "    </tr>\n",
       "    <tr>\n",
       "      <th>4</th>\n",
       "      <td>1</td>\n",
       "      <td>58752</td>\n",
       "      <td>[3.3, 3.4]</td>\n",
       "      <td>[3.3, 3.4]</td>\n",
       "      <td>1</td>\n",
       "      <td>20240318_143819_long_comp_subj_3-3_and_3-4.1.f...</td>\n",
       "      <td>20240318_143819_long_comp_subj_3-3_and_3-4.1</td>\n",
       "      <td>3.3</td>\n",
       "      <td>[/scratch/back_up/reward_competition_extention...</td>\n",
       "      <td>/scratch/back_up/reward_competition_extention/...</td>\n",
       "      <td>...</td>\n",
       "      <td>{'box_bottom_right': [804.0939559098848, 564.0...</td>\n",
       "      <td>319.052405</td>\n",
       "      <td>309.666838</td>\n",
       "      <td>395.074978</td>\n",
       "      <td>395.434146</td>\n",
       "      <td>395.254562</td>\n",
       "      <td>314.359621</td>\n",
       "      <td>0.093842</td>\n",
       "      <td>0.060720</td>\n",
       "      <td>{'3.3': [[[76.32303058  9.877635  ], [79.57301...</td>\n",
       "    </tr>\n",
       "  </tbody>\n",
       "</table>\n",
       "<p>5 rows × 28 columns</p>\n",
       "</div>"
      ],
      "text/plain": [
       "   start_frame  stop_frame tracked_subject in_video_subjects  box_number  \\\n",
       "0            1       45736      [3.1, 3.3]        [3.1, 3.3]           1   \n",
       "1            1       45736      [3.1, 3.3]        [3.1, 3.3]           1   \n",
       "2            1       58878      [4.2, 4.3]        [4.2, 4.3]           1   \n",
       "3            1       58878      [4.2, 4.3]        [4.2, 4.3]           1   \n",
       "4            1       58752      [3.3, 3.4]        [3.3, 3.4]           1   \n",
       "\n",
       "                                          sleap_name  \\\n",
       "0  20240317_151922_long_comp_subj_3-1_and_3-3.1.f...   \n",
       "1  20240317_151922_long_comp_subj_3-1_and_3-3.1.f...   \n",
       "2  20240317_172017_long_comp_subj_4-2_and_4-3.1.f...   \n",
       "3  20240317_172017_long_comp_subj_4-2_and_4-3.1.f...   \n",
       "4  20240318_143819_long_comp_subj_3-3_and_3-4.1.f...   \n",
       "\n",
       "                                     video_name current_subject  \\\n",
       "0  20240317_151922_long_comp_subj_3-1_and_3-3.1             3.1   \n",
       "1  20240317_151922_long_comp_subj_3-1_and_3-3.1             3.3   \n",
       "2  20240317_172017_long_comp_subj_4-2_and_4-3.1             4.2   \n",
       "3  20240317_172017_long_comp_subj_4-2_and_4-3.1             4.3   \n",
       "4  20240318_143819_long_comp_subj_3-3_and_3-4.1             3.3   \n",
       "\n",
       "                                          sleap_glob  \\\n",
       "0  [/scratch/back_up/reward_competition_extention...   \n",
       "1  [/scratch/back_up/reward_competition_extention...   \n",
       "2  [/scratch/back_up/reward_competition_extention...   \n",
       "3  [/scratch/back_up/reward_competition_extention...   \n",
       "4  [/scratch/back_up/reward_competition_extention...   \n",
       "\n",
       "                                          sleap_path  ...  \\\n",
       "0  /scratch/back_up/reward_competition_extention/...  ...   \n",
       "1  /scratch/back_up/reward_competition_extention/...  ...   \n",
       "2  /scratch/back_up/reward_competition_extention/...  ...   \n",
       "3  /scratch/back_up/reward_competition_extention/...  ...   \n",
       "4  /scratch/back_up/reward_competition_extention/...  ...   \n",
       "\n",
       "                                corner_to_coordinate bottom_width   top_width  \\\n",
       "0  {'box_bottom_right': [808.4693208328993, 574.6...   321.427558  316.699600   \n",
       "1  {'box_bottom_right': [808.4693208328993, 574.6...   321.427558  316.699600   \n",
       "2  {'box_bottom_right': [808.8632395810237, 548.7...   319.349472  317.413475   \n",
       "3  {'box_bottom_right': [808.8632395810237, 548.7...   319.349472  317.413475   \n",
       "4  {'box_bottom_right': [804.0939559098848, 564.0...   319.052405  309.666838   \n",
       "\n",
       "  right_height left_height average_height average_width width_ratio  \\\n",
       "0   388.209852  395.331909     391.770880    319.063579    0.092458   \n",
       "1   388.209852  395.331909     391.770880    319.063579    0.092458   \n",
       "2   397.543703  396.522381     397.033042    318.381473    0.092656   \n",
       "3   397.543703  396.522381     397.033042    318.381473    0.092656   \n",
       "4   395.074978  395.434146     395.254562    314.359621    0.093842   \n",
       "\n",
       "  height_ratio                                 rescaled_locations  \n",
       "0     0.061260  {'3.1': [[[58.96139859 35.28935157], [57.89003...  \n",
       "1     0.061260  {'3.1': [[[58.96139859 35.28935157], [57.89003...  \n",
       "2     0.060448  {'4.2': [[[62.54046054 34.64691786], [59.79832...  \n",
       "3     0.060448  {'4.2': [[[62.54046054 34.64691786], [59.79832...  \n",
       "4     0.060720  {'3.3': [[[76.32303058  9.877635  ], [79.57301...  \n",
       "\n",
       "[5 rows x 28 columns]"
      ]
     },
     "execution_count": 68,
     "metadata": {},
     "output_type": "execute_result"
    }
   ],
   "source": [
    "START_STOP_FRAME_DF.head()"
   ]
  },
  {
   "cell_type": "code",
   "execution_count": 69,
   "metadata": {},
   "outputs": [],
   "source": [
    "# Normalize dictionary column\n",
    "normalized = pd.json_normalize(START_STOP_FRAME_DF[\"corner_to_coordinate\"])"
   ]
  },
  {
   "cell_type": "code",
   "execution_count": 70,
   "metadata": {},
   "outputs": [
    {
     "data": {
      "text/html": [
       "<div>\n",
       "<style scoped>\n",
       "    .dataframe tbody tr th:only-of-type {\n",
       "        vertical-align: middle;\n",
       "    }\n",
       "\n",
       "    .dataframe tbody tr th {\n",
       "        vertical-align: top;\n",
       "    }\n",
       "\n",
       "    .dataframe thead th {\n",
       "        text-align: right;\n",
       "    }\n",
       "</style>\n",
       "<table border=\"1\" class=\"dataframe\">\n",
       "  <thead>\n",
       "    <tr style=\"text-align: right;\">\n",
       "      <th></th>\n",
       "      <th>box_bottom_right</th>\n",
       "      <th>reward_port</th>\n",
       "      <th>box_top_left</th>\n",
       "      <th>box_top_right</th>\n",
       "      <th>box_bottom_left</th>\n",
       "    </tr>\n",
       "  </thead>\n",
       "  <tbody>\n",
       "    <tr>\n",
       "      <th>0</th>\n",
       "      <td>[808.4693208328993, 574.6802250531325]</td>\n",
       "      <td>[653.4112199504154, 613.1971271451312]</td>\n",
       "      <td>[479.0257245955072, 188.42807300479728]</td>\n",
       "      <td>[795.7253246182136, 186.4703732037661]</td>\n",
       "      <td>[487.04176325378285, 583.7599819317704]</td>\n",
       "    </tr>\n",
       "    <tr>\n",
       "      <th>1</th>\n",
       "      <td>[808.4693208328993, 574.6802250531325]</td>\n",
       "      <td>[653.4112199504154, 613.1971271451312]</td>\n",
       "      <td>[479.0257245955072, 188.42807300479728]</td>\n",
       "      <td>[795.7253246182136, 186.4703732037661]</td>\n",
       "      <td>[487.04176325378285, 583.7599819317704]</td>\n",
       "    </tr>\n",
       "    <tr>\n",
       "      <th>2</th>\n",
       "      <td>[808.8632395810237, 548.7287602661135]</td>\n",
       "      <td>[649.6440274082779, 583.1693476844241]</td>\n",
       "      <td>[478.8534589901643, 162.4117263903811]</td>\n",
       "      <td>[796.266933891819, 151.18505760233734]</td>\n",
       "      <td>[489.5137678025899, 558.934107677138]</td>\n",
       "    </tr>\n",
       "    <tr>\n",
       "      <th>3</th>\n",
       "      <td>[808.8632395810237, 548.7287602661135]</td>\n",
       "      <td>[649.6440274082779, 583.1693476844241]</td>\n",
       "      <td>[478.8534589901643, 162.4117263903811]</td>\n",
       "      <td>[796.266933891819, 151.18505760233734]</td>\n",
       "      <td>[489.5137678025899, 558.934107677138]</td>\n",
       "    </tr>\n",
       "    <tr>\n",
       "      <th>4</th>\n",
       "      <td>[804.0939559098848, 564.0439743400614]</td>\n",
       "      <td>[645.3811744714114, 596.0361993487147]</td>\n",
       "      <td>[486.4215422287989, 169.3702355939721]</td>\n",
       "      <td>[796.088380295785, 168.96899603806548]</td>\n",
       "      <td>[485.0415511629777, 564.8043818466354]</td>\n",
       "    </tr>\n",
       "  </tbody>\n",
       "</table>\n",
       "</div>"
      ],
      "text/plain": [
       "                         box_bottom_right  \\\n",
       "0  [808.4693208328993, 574.6802250531325]   \n",
       "1  [808.4693208328993, 574.6802250531325]   \n",
       "2  [808.8632395810237, 548.7287602661135]   \n",
       "3  [808.8632395810237, 548.7287602661135]   \n",
       "4  [804.0939559098848, 564.0439743400614]   \n",
       "\n",
       "                              reward_port  \\\n",
       "0  [653.4112199504154, 613.1971271451312]   \n",
       "1  [653.4112199504154, 613.1971271451312]   \n",
       "2  [649.6440274082779, 583.1693476844241]   \n",
       "3  [649.6440274082779, 583.1693476844241]   \n",
       "4  [645.3811744714114, 596.0361993487147]   \n",
       "\n",
       "                              box_top_left  \\\n",
       "0  [479.0257245955072, 188.42807300479728]   \n",
       "1  [479.0257245955072, 188.42807300479728]   \n",
       "2   [478.8534589901643, 162.4117263903811]   \n",
       "3   [478.8534589901643, 162.4117263903811]   \n",
       "4   [486.4215422287989, 169.3702355939721]   \n",
       "\n",
       "                            box_top_right  \\\n",
       "0  [795.7253246182136, 186.4703732037661]   \n",
       "1  [795.7253246182136, 186.4703732037661]   \n",
       "2  [796.266933891819, 151.18505760233734]   \n",
       "3  [796.266933891819, 151.18505760233734]   \n",
       "4  [796.088380295785, 168.96899603806548]   \n",
       "\n",
       "                           box_bottom_left  \n",
       "0  [487.04176325378285, 583.7599819317704]  \n",
       "1  [487.04176325378285, 583.7599819317704]  \n",
       "2    [489.5137678025899, 558.934107677138]  \n",
       "3    [489.5137678025899, 558.934107677138]  \n",
       "4   [485.0415511629777, 564.8043818466354]  "
      ]
     },
     "execution_count": 70,
     "metadata": {},
     "output_type": "execute_result"
    }
   ],
   "source": [
    "normalized.head()"
   ]
  },
  {
   "cell_type": "code",
   "execution_count": 71,
   "metadata": {},
   "outputs": [],
   "source": [
    "\n",
    "\n",
    "# Drop the original column and concat the normalized DataFrame\n",
    "START_STOP_FRAME_DF = pd.concat([START_STOP_FRAME_DF.drop([\"corner_to_coordinate\"], axis=1), normalized], axis=1)\n"
   ]
  },
  {
   "cell_type": "code",
   "execution_count": 72,
   "metadata": {},
   "outputs": [
    {
     "data": {
      "text/html": [
       "<div>\n",
       "<style scoped>\n",
       "    .dataframe tbody tr th:only-of-type {\n",
       "        vertical-align: middle;\n",
       "    }\n",
       "\n",
       "    .dataframe tbody tr th {\n",
       "        vertical-align: top;\n",
       "    }\n",
       "\n",
       "    .dataframe thead th {\n",
       "        text-align: right;\n",
       "    }\n",
       "</style>\n",
       "<table border=\"1\" class=\"dataframe\">\n",
       "  <thead>\n",
       "    <tr style=\"text-align: right;\">\n",
       "      <th></th>\n",
       "      <th>start_frame</th>\n",
       "      <th>stop_frame</th>\n",
       "      <th>tracked_subject</th>\n",
       "      <th>in_video_subjects</th>\n",
       "      <th>box_number</th>\n",
       "      <th>sleap_name</th>\n",
       "      <th>video_name</th>\n",
       "      <th>current_subject</th>\n",
       "      <th>sleap_glob</th>\n",
       "      <th>sleap_path</th>\n",
       "      <th>...</th>\n",
       "      <th>average_height</th>\n",
       "      <th>average_width</th>\n",
       "      <th>width_ratio</th>\n",
       "      <th>height_ratio</th>\n",
       "      <th>rescaled_locations</th>\n",
       "      <th>box_bottom_right</th>\n",
       "      <th>reward_port</th>\n",
       "      <th>box_top_left</th>\n",
       "      <th>box_top_right</th>\n",
       "      <th>box_bottom_left</th>\n",
       "    </tr>\n",
       "  </thead>\n",
       "  <tbody>\n",
       "    <tr>\n",
       "      <th>0</th>\n",
       "      <td>1</td>\n",
       "      <td>45736</td>\n",
       "      <td>[3.1, 3.3]</td>\n",
       "      <td>[3.1, 3.3]</td>\n",
       "      <td>1</td>\n",
       "      <td>20240317_151922_long_comp_subj_3-1_and_3-3.1.f...</td>\n",
       "      <td>20240317_151922_long_comp_subj_3-1_and_3-3.1</td>\n",
       "      <td>3.1</td>\n",
       "      <td>[/scratch/back_up/reward_competition_extention...</td>\n",
       "      <td>/scratch/back_up/reward_competition_extention/...</td>\n",
       "      <td>...</td>\n",
       "      <td>391.770880</td>\n",
       "      <td>319.063579</td>\n",
       "      <td>0.092458</td>\n",
       "      <td>0.061260</td>\n",
       "      <td>{'3.1': [[[58.96139859 35.28935157], [57.89003...</td>\n",
       "      <td>[808.4693208328993, 574.6802250531325]</td>\n",
       "      <td>[653.4112199504154, 613.1971271451312]</td>\n",
       "      <td>[479.0257245955072, 188.42807300479728]</td>\n",
       "      <td>[795.7253246182136, 186.4703732037661]</td>\n",
       "      <td>[487.04176325378285, 583.7599819317704]</td>\n",
       "    </tr>\n",
       "    <tr>\n",
       "      <th>1</th>\n",
       "      <td>1</td>\n",
       "      <td>45736</td>\n",
       "      <td>[3.1, 3.3]</td>\n",
       "      <td>[3.1, 3.3]</td>\n",
       "      <td>1</td>\n",
       "      <td>20240317_151922_long_comp_subj_3-1_and_3-3.1.f...</td>\n",
       "      <td>20240317_151922_long_comp_subj_3-1_and_3-3.1</td>\n",
       "      <td>3.3</td>\n",
       "      <td>[/scratch/back_up/reward_competition_extention...</td>\n",
       "      <td>/scratch/back_up/reward_competition_extention/...</td>\n",
       "      <td>...</td>\n",
       "      <td>391.770880</td>\n",
       "      <td>319.063579</td>\n",
       "      <td>0.092458</td>\n",
       "      <td>0.061260</td>\n",
       "      <td>{'3.1': [[[58.96139859 35.28935157], [57.89003...</td>\n",
       "      <td>[808.4693208328993, 574.6802250531325]</td>\n",
       "      <td>[653.4112199504154, 613.1971271451312]</td>\n",
       "      <td>[479.0257245955072, 188.42807300479728]</td>\n",
       "      <td>[795.7253246182136, 186.4703732037661]</td>\n",
       "      <td>[487.04176325378285, 583.7599819317704]</td>\n",
       "    </tr>\n",
       "    <tr>\n",
       "      <th>2</th>\n",
       "      <td>1</td>\n",
       "      <td>58878</td>\n",
       "      <td>[4.2, 4.3]</td>\n",
       "      <td>[4.2, 4.3]</td>\n",
       "      <td>1</td>\n",
       "      <td>20240317_172017_long_comp_subj_4-2_and_4-3.1.f...</td>\n",
       "      <td>20240317_172017_long_comp_subj_4-2_and_4-3.1</td>\n",
       "      <td>4.2</td>\n",
       "      <td>[/scratch/back_up/reward_competition_extention...</td>\n",
       "      <td>/scratch/back_up/reward_competition_extention/...</td>\n",
       "      <td>...</td>\n",
       "      <td>397.033042</td>\n",
       "      <td>318.381473</td>\n",
       "      <td>0.092656</td>\n",
       "      <td>0.060448</td>\n",
       "      <td>{'4.2': [[[62.54046054 34.64691786], [59.79832...</td>\n",
       "      <td>[808.8632395810237, 548.7287602661135]</td>\n",
       "      <td>[649.6440274082779, 583.1693476844241]</td>\n",
       "      <td>[478.8534589901643, 162.4117263903811]</td>\n",
       "      <td>[796.266933891819, 151.18505760233734]</td>\n",
       "      <td>[489.5137678025899, 558.934107677138]</td>\n",
       "    </tr>\n",
       "    <tr>\n",
       "      <th>3</th>\n",
       "      <td>1</td>\n",
       "      <td>58878</td>\n",
       "      <td>[4.2, 4.3]</td>\n",
       "      <td>[4.2, 4.3]</td>\n",
       "      <td>1</td>\n",
       "      <td>20240317_172017_long_comp_subj_4-2_and_4-3.1.f...</td>\n",
       "      <td>20240317_172017_long_comp_subj_4-2_and_4-3.1</td>\n",
       "      <td>4.3</td>\n",
       "      <td>[/scratch/back_up/reward_competition_extention...</td>\n",
       "      <td>/scratch/back_up/reward_competition_extention/...</td>\n",
       "      <td>...</td>\n",
       "      <td>397.033042</td>\n",
       "      <td>318.381473</td>\n",
       "      <td>0.092656</td>\n",
       "      <td>0.060448</td>\n",
       "      <td>{'4.2': [[[62.54046054 34.64691786], [59.79832...</td>\n",
       "      <td>[808.8632395810237, 548.7287602661135]</td>\n",
       "      <td>[649.6440274082779, 583.1693476844241]</td>\n",
       "      <td>[478.8534589901643, 162.4117263903811]</td>\n",
       "      <td>[796.266933891819, 151.18505760233734]</td>\n",
       "      <td>[489.5137678025899, 558.934107677138]</td>\n",
       "    </tr>\n",
       "    <tr>\n",
       "      <th>4</th>\n",
       "      <td>1</td>\n",
       "      <td>58752</td>\n",
       "      <td>[3.3, 3.4]</td>\n",
       "      <td>[3.3, 3.4]</td>\n",
       "      <td>1</td>\n",
       "      <td>20240318_143819_long_comp_subj_3-3_and_3-4.1.f...</td>\n",
       "      <td>20240318_143819_long_comp_subj_3-3_and_3-4.1</td>\n",
       "      <td>3.3</td>\n",
       "      <td>[/scratch/back_up/reward_competition_extention...</td>\n",
       "      <td>/scratch/back_up/reward_competition_extention/...</td>\n",
       "      <td>...</td>\n",
       "      <td>395.254562</td>\n",
       "      <td>314.359621</td>\n",
       "      <td>0.093842</td>\n",
       "      <td>0.060720</td>\n",
       "      <td>{'3.3': [[[76.32303058  9.877635  ], [79.57301...</td>\n",
       "      <td>[804.0939559098848, 564.0439743400614]</td>\n",
       "      <td>[645.3811744714114, 596.0361993487147]</td>\n",
       "      <td>[486.4215422287989, 169.3702355939721]</td>\n",
       "      <td>[796.088380295785, 168.96899603806548]</td>\n",
       "      <td>[485.0415511629777, 564.8043818466354]</td>\n",
       "    </tr>\n",
       "  </tbody>\n",
       "</table>\n",
       "<p>5 rows × 32 columns</p>\n",
       "</div>"
      ],
      "text/plain": [
       "   start_frame  stop_frame tracked_subject in_video_subjects  box_number  \\\n",
       "0            1       45736      [3.1, 3.3]        [3.1, 3.3]           1   \n",
       "1            1       45736      [3.1, 3.3]        [3.1, 3.3]           1   \n",
       "2            1       58878      [4.2, 4.3]        [4.2, 4.3]           1   \n",
       "3            1       58878      [4.2, 4.3]        [4.2, 4.3]           1   \n",
       "4            1       58752      [3.3, 3.4]        [3.3, 3.4]           1   \n",
       "\n",
       "                                          sleap_name  \\\n",
       "0  20240317_151922_long_comp_subj_3-1_and_3-3.1.f...   \n",
       "1  20240317_151922_long_comp_subj_3-1_and_3-3.1.f...   \n",
       "2  20240317_172017_long_comp_subj_4-2_and_4-3.1.f...   \n",
       "3  20240317_172017_long_comp_subj_4-2_and_4-3.1.f...   \n",
       "4  20240318_143819_long_comp_subj_3-3_and_3-4.1.f...   \n",
       "\n",
       "                                     video_name current_subject  \\\n",
       "0  20240317_151922_long_comp_subj_3-1_and_3-3.1             3.1   \n",
       "1  20240317_151922_long_comp_subj_3-1_and_3-3.1             3.3   \n",
       "2  20240317_172017_long_comp_subj_4-2_and_4-3.1             4.2   \n",
       "3  20240317_172017_long_comp_subj_4-2_and_4-3.1             4.3   \n",
       "4  20240318_143819_long_comp_subj_3-3_and_3-4.1             3.3   \n",
       "\n",
       "                                          sleap_glob  \\\n",
       "0  [/scratch/back_up/reward_competition_extention...   \n",
       "1  [/scratch/back_up/reward_competition_extention...   \n",
       "2  [/scratch/back_up/reward_competition_extention...   \n",
       "3  [/scratch/back_up/reward_competition_extention...   \n",
       "4  [/scratch/back_up/reward_competition_extention...   \n",
       "\n",
       "                                          sleap_path  ... average_height  \\\n",
       "0  /scratch/back_up/reward_competition_extention/...  ...     391.770880   \n",
       "1  /scratch/back_up/reward_competition_extention/...  ...     391.770880   \n",
       "2  /scratch/back_up/reward_competition_extention/...  ...     397.033042   \n",
       "3  /scratch/back_up/reward_competition_extention/...  ...     397.033042   \n",
       "4  /scratch/back_up/reward_competition_extention/...  ...     395.254562   \n",
       "\n",
       "  average_width width_ratio height_ratio  \\\n",
       "0    319.063579    0.092458     0.061260   \n",
       "1    319.063579    0.092458     0.061260   \n",
       "2    318.381473    0.092656     0.060448   \n",
       "3    318.381473    0.092656     0.060448   \n",
       "4    314.359621    0.093842     0.060720   \n",
       "\n",
       "                                  rescaled_locations  \\\n",
       "0  {'3.1': [[[58.96139859 35.28935157], [57.89003...   \n",
       "1  {'3.1': [[[58.96139859 35.28935157], [57.89003...   \n",
       "2  {'4.2': [[[62.54046054 34.64691786], [59.79832...   \n",
       "3  {'4.2': [[[62.54046054 34.64691786], [59.79832...   \n",
       "4  {'3.3': [[[76.32303058  9.877635  ], [79.57301...   \n",
       "\n",
       "                         box_bottom_right  \\\n",
       "0  [808.4693208328993, 574.6802250531325]   \n",
       "1  [808.4693208328993, 574.6802250531325]   \n",
       "2  [808.8632395810237, 548.7287602661135]   \n",
       "3  [808.8632395810237, 548.7287602661135]   \n",
       "4  [804.0939559098848, 564.0439743400614]   \n",
       "\n",
       "                              reward_port  \\\n",
       "0  [653.4112199504154, 613.1971271451312]   \n",
       "1  [653.4112199504154, 613.1971271451312]   \n",
       "2  [649.6440274082779, 583.1693476844241]   \n",
       "3  [649.6440274082779, 583.1693476844241]   \n",
       "4  [645.3811744714114, 596.0361993487147]   \n",
       "\n",
       "                              box_top_left  \\\n",
       "0  [479.0257245955072, 188.42807300479728]   \n",
       "1  [479.0257245955072, 188.42807300479728]   \n",
       "2   [478.8534589901643, 162.4117263903811]   \n",
       "3   [478.8534589901643, 162.4117263903811]   \n",
       "4   [486.4215422287989, 169.3702355939721]   \n",
       "\n",
       "                            box_top_right  \\\n",
       "0  [795.7253246182136, 186.4703732037661]   \n",
       "1  [795.7253246182136, 186.4703732037661]   \n",
       "2  [796.266933891819, 151.18505760233734]   \n",
       "3  [796.266933891819, 151.18505760233734]   \n",
       "4  [796.088380295785, 168.96899603806548]   \n",
       "\n",
       "                           box_bottom_left  \n",
       "0  [487.04176325378285, 583.7599819317704]  \n",
       "1  [487.04176325378285, 583.7599819317704]  \n",
       "2    [489.5137678025899, 558.934107677138]  \n",
       "3    [489.5137678025899, 558.934107677138]  \n",
       "4   [485.0415511629777, 564.8043818466354]  \n",
       "\n",
       "[5 rows x 32 columns]"
      ]
     },
     "execution_count": 72,
     "metadata": {},
     "output_type": "execute_result"
    }
   ],
   "source": [
    "START_STOP_FRAME_DF.head()"
   ]
  },
  {
   "cell_type": "code",
   "execution_count": 73,
   "metadata": {
    "tags": []
   },
   "outputs": [],
   "source": [
    "START_STOP_FRAME_DF = START_STOP_FRAME_DF.dropna(subset=[\"reward_port\"])"
   ]
  },
  {
   "cell_type": "markdown",
   "metadata": {},
   "source": [
    "- Converting the corner coordinates into cms"
   ]
  },
  {
   "cell_type": "code",
   "execution_count": 74,
   "metadata": {},
   "outputs": [],
   "source": [
    "for corner in START_STOP_FRAME_DF[\"corner_parts\"].iloc[0]:\n",
    "    START_STOP_FRAME_DF[corner] = START_STOP_FRAME_DF.apply(lambda x: [x[corner][0]*x[\"width_ratio\"], x[corner][1]*x[\"height_ratio\"]], axis=1)"
   ]
  },
  {
   "cell_type": "markdown",
   "metadata": {},
   "source": [
    "## Looking over the tracks"
   ]
  },
  {
   "cell_type": "code",
   "execution_count": 75,
   "metadata": {},
   "outputs": [],
   "source": [
    "FILE_INDEX = 0"
   ]
  },
  {
   "cell_type": "code",
   "execution_count": 76,
   "metadata": {},
   "outputs": [
    {
     "data": {
      "text/plain": [
       "'/scratch/back_up/reward_competition_extention/final_proc/id_corrected/rce3/20240317_151922_long_comp_subj_3-1_and_3-3/20240317_151922_long_comp_subj_3-1_and_3-3.1.fixed.2_subj.round_3.id_corrected.h5'"
      ]
     },
     "execution_count": 76,
     "metadata": {},
     "output_type": "execute_result"
    }
   ],
   "source": [
    "START_STOP_FRAME_DF[\"sleap_path\"].iloc[FILE_INDEX]"
   ]
  },
  {
   "cell_type": "code",
   "execution_count": 77,
   "metadata": {},
   "outputs": [
    {
     "data": {
      "text/plain": [
       "0    {'3.1': [[[58.96139859 35.28935157], [57.89003...\n",
       "1    {'3.1': [[[58.96139859 35.28935157], [57.89003...\n",
       "2    {'4.2': [[[62.54046054 34.64691786], [59.79832...\n",
       "3    {'4.2': [[[62.54046054 34.64691786], [59.79832...\n",
       "4    {'3.3': [[[76.32303058  9.877635  ], [79.57301...\n",
       "Name: rescaled_locations, dtype: object"
      ]
     },
     "execution_count": 77,
     "metadata": {},
     "output_type": "execute_result"
    }
   ],
   "source": [
    "START_STOP_FRAME_DF[\"rescaled_locations\"].head()"
   ]
  },
  {
   "cell_type": "code",
   "execution_count": 78,
   "metadata": {
    "tags": []
   },
   "outputs": [
    {
     "data": {
      "text/plain": [
       "Index(['start_frame', 'stop_frame', 'tracked_subject', 'in_video_subjects',\n",
       "       'box_number', 'sleap_name', 'video_name', 'current_subject',\n",
       "       'sleap_glob', 'sleap_path', 'all_sleap_data', 'body_parts', 'locations',\n",
       "       'track_names', 'subject_to_index', 'subject_to_tracks', 'corner_path',\n",
       "       'corner_parts', 'bottom_width', 'top_width', 'right_height',\n",
       "       'left_height', 'average_height', 'average_width', 'width_ratio',\n",
       "       'height_ratio', 'rescaled_locations', 'box_bottom_right', 'reward_port',\n",
       "       'box_top_left', 'box_top_right', 'box_bottom_left'],\n",
       "      dtype='object')"
      ]
     },
     "execution_count": 78,
     "metadata": {},
     "output_type": "execute_result"
    }
   ],
   "source": [
    "START_STOP_FRAME_DF.columns"
   ]
  },
  {
   "cell_type": "code",
   "execution_count": 79,
   "metadata": {},
   "outputs": [
    {
     "name": "stdout",
     "output_type": "stream",
     "text": [
      "===HDF5 datasets===\n",
      "['edge_inds', 'edge_names', 'instance_scores', 'labels_path', 'node_names', 'point_scores', 'provenance', 'track_names', 'track_occupancy', 'tracking_scores', 'tracks', 'video_ind', 'video_path']\n",
      "\n",
      "===locations data shape===\n",
      "(45736, 6, 2)\n",
      "\n",
      "===nodes===\n",
      "0: left_ear\n",
      "1: right_ear\n",
      "2: nose\n",
      "3: tail_base\n",
      "4: thorax\n",
      "5: forehead\n",
      "\n"
     ]
    }
   ],
   "source": [
    "with h5py.File(START_STOP_FRAME_DF[\"sleap_path\"].iloc[FILE_INDEX], \"r\") as f:\n",
    "    dset_names = list(f.keys())\n",
    "    current_subject = START_STOP_FRAME_DF[\"current_subject\"].iloc[FILE_INDEX]\n",
    "    locations = START_STOP_FRAME_DF[\"rescaled_locations\"].iloc[FILE_INDEX][current_subject]\n",
    "    node_names = [n.decode() for n in f[\"node_names\"][:]]\n",
    "    \n",
    "print(\"===HDF5 datasets===\")\n",
    "print(dset_names)\n",
    "print()\n",
    "\n",
    "print(\"===locations data shape===\")\n",
    "print(locations.shape)\n",
    "print()\n",
    "\n",
    "print(\"===nodes===\")\n",
    "for i, name in enumerate(node_names):\n",
    "    print(f\"{i}: {name}\")\n",
    "print()"
   ]
  },
  {
   "cell_type": "code",
   "execution_count": 80,
   "metadata": {},
   "outputs": [],
   "source": [
    "thorax_loc = locations[:, THORAX_INDEX, :]"
   ]
  },
  {
   "cell_type": "code",
   "execution_count": 81,
   "metadata": {},
   "outputs": [
    {
     "data": {
      "text/plain": [
       "Text(0, 0.5, 'Coordinate Position')"
      ]
     },
     "execution_count": 81,
     "metadata": {},
     "output_type": "execute_result"
    },
    {
     "data": {
      "image/png": "[encoded data removed]",
      "text/plain": [
       "<Figure size 1500x600 with 1 Axes>"
      ]
     },
     "metadata": {},
     "output_type": "display_data"
    }
   ],
   "source": [
    "fig, ax = plt.subplots()\n",
    "\n",
    "plt.plot(thorax_loc[:,0],label='X-coordinates')\n",
    "# Converting to negative so that we can see both x and y track\n",
    "plt.plot(-1*thorax_loc[:,1], label='Y-coordinates')\n",
    "\n",
    "plt.legend(loc=\"center right\")\n",
    "plt.title('Thorax locations')\n",
    "plt.xlabel(\"Time in frames\")\n",
    "plt.ylabel(\"Coordinate Position\")"
   ]
  },
  {
   "cell_type": "code",
   "execution_count": 82,
   "metadata": {},
   "outputs": [
    {
     "data": {
      "text/plain": [
       "Text(0, 0.5, 'Y-Coordinates')"
      ]
     },
     "execution_count": 82,
     "metadata": {},
     "output_type": "execute_result"
    },
    {
     "data": {
      "image/png": "[encoded data removed]",
      "text/plain": [
       "<Figure size 700x700 with 1 Axes>"
      ]
     },
     "metadata": {},
     "output_type": "display_data"
    }
   ],
   "source": [
    "plt.figure(figsize=(7,7))\n",
    "plt.plot(thorax_loc[:,0],thorax_loc[:,1])\n",
    "\n",
    "\n",
    "plt.title('Thorax tracks')\n",
    "plt.xlabel(\"X-Coordinates\")\n",
    "plt.ylabel(\"Y-Coordinates\")\n"
   ]
  },
  {
   "cell_type": "code",
   "execution_count": null,
   "metadata": {},
   "outputs": [],
   "source": []
  },
  {
   "cell_type": "markdown",
   "metadata": {},
   "source": [
    "## Creating an individual column for each pose tracking"
   ]
  },
  {
   "cell_type": "code",
   "execution_count": 83,
   "metadata": {
    "tags": []
   },
   "outputs": [],
   "source": [
    "START_STOP_FRAME_DF = START_STOP_FRAME_DF.dropna(subset=\"current_subject\")"
   ]
  },
  {
   "cell_type": "code",
   "execution_count": 84,
   "metadata": {
    "tags": []
   },
   "outputs": [
    {
     "data": {
      "text/html": [
       "<div>\n",
       "<style scoped>\n",
       "    .dataframe tbody tr th:only-of-type {\n",
       "        vertical-align: middle;\n",
       "    }\n",
       "\n",
       "    .dataframe tbody tr th {\n",
       "        vertical-align: top;\n",
       "    }\n",
       "\n",
       "    .dataframe thead th {\n",
       "        text-align: right;\n",
       "    }\n",
       "</style>\n",
       "<table border=\"1\" class=\"dataframe\">\n",
       "  <thead>\n",
       "    <tr style=\"text-align: right;\">\n",
       "      <th></th>\n",
       "      <th>start_frame</th>\n",
       "      <th>stop_frame</th>\n",
       "      <th>tracked_subject</th>\n",
       "      <th>in_video_subjects</th>\n",
       "      <th>box_number</th>\n",
       "      <th>sleap_name</th>\n",
       "      <th>video_name</th>\n",
       "      <th>current_subject</th>\n",
       "      <th>sleap_glob</th>\n",
       "      <th>sleap_path</th>\n",
       "      <th>...</th>\n",
       "      <th>average_height</th>\n",
       "      <th>average_width</th>\n",
       "      <th>width_ratio</th>\n",
       "      <th>height_ratio</th>\n",
       "      <th>rescaled_locations</th>\n",
       "      <th>box_bottom_right</th>\n",
       "      <th>reward_port</th>\n",
       "      <th>box_top_left</th>\n",
       "      <th>box_top_right</th>\n",
       "      <th>box_bottom_left</th>\n",
       "    </tr>\n",
       "  </thead>\n",
       "  <tbody>\n",
       "    <tr>\n",
       "      <th>0</th>\n",
       "      <td>1</td>\n",
       "      <td>45736</td>\n",
       "      <td>[3.1, 3.3]</td>\n",
       "      <td>[3.1, 3.3]</td>\n",
       "      <td>1</td>\n",
       "      <td>20240317_151922_long_comp_subj_3-1_and_3-3.1.f...</td>\n",
       "      <td>20240317_151922_long_comp_subj_3-1_and_3-3.1</td>\n",
       "      <td>3.1</td>\n",
       "      <td>[/scratch/back_up/reward_competition_extention...</td>\n",
       "      <td>/scratch/back_up/reward_competition_extention/...</td>\n",
       "      <td>...</td>\n",
       "      <td>391.770880</td>\n",
       "      <td>319.063579</td>\n",
       "      <td>0.092458</td>\n",
       "      <td>0.061260</td>\n",
       "      <td>{'3.1': [[[58.96139859 35.28935157], [57.89003...</td>\n",
       "      <td>[74.74950620876821, 35.20508055016655]</td>\n",
       "      <td>[60.41313477701829, 37.56463736381247]</td>\n",
       "      <td>[44.28978991796822, 11.54315948044538]</td>\n",
       "      <td>[73.57122102264293, 11.423230211638582]</td>\n",
       "      <td>[45.03093731344292, 35.761309141917415]</td>\n",
       "    </tr>\n",
       "    <tr>\n",
       "      <th>1</th>\n",
       "      <td>1</td>\n",
       "      <td>45736</td>\n",
       "      <td>[3.1, 3.3]</td>\n",
       "      <td>[3.1, 3.3]</td>\n",
       "      <td>1</td>\n",
       "      <td>20240317_151922_long_comp_subj_3-1_and_3-3.1.f...</td>\n",
       "      <td>20240317_151922_long_comp_subj_3-1_and_3-3.1</td>\n",
       "      <td>3.3</td>\n",
       "      <td>[/scratch/back_up/reward_competition_extention...</td>\n",
       "      <td>/scratch/back_up/reward_competition_extention/...</td>\n",
       "      <td>...</td>\n",
       "      <td>391.770880</td>\n",
       "      <td>319.063579</td>\n",
       "      <td>0.092458</td>\n",
       "      <td>0.061260</td>\n",
       "      <td>{'3.1': [[[58.96139859 35.28935157], [57.89003...</td>\n",
       "      <td>[74.74950620876821, 35.20508055016655]</td>\n",
       "      <td>[60.41313477701829, 37.56463736381247]</td>\n",
       "      <td>[44.28978991796822, 11.54315948044538]</td>\n",
       "      <td>[73.57122102264293, 11.423230211638582]</td>\n",
       "      <td>[45.03093731344292, 35.761309141917415]</td>\n",
       "    </tr>\n",
       "    <tr>\n",
       "      <th>2</th>\n",
       "      <td>1</td>\n",
       "      <td>58878</td>\n",
       "      <td>[4.2, 4.3]</td>\n",
       "      <td>[4.2, 4.3]</td>\n",
       "      <td>1</td>\n",
       "      <td>20240317_172017_long_comp_subj_4-2_and_4-3.1.f...</td>\n",
       "      <td>20240317_172017_long_comp_subj_4-2_and_4-3.1</td>\n",
       "      <td>4.2</td>\n",
       "      <td>[/scratch/back_up/reward_competition_extention...</td>\n",
       "      <td>/scratch/back_up/reward_competition_extention/...</td>\n",
       "      <td>...</td>\n",
       "      <td>397.033042</td>\n",
       "      <td>318.381473</td>\n",
       "      <td>0.092656</td>\n",
       "      <td>0.060448</td>\n",
       "      <td>{'4.2': [[[62.54046054 34.64691786], [59.79832...</td>\n",
       "      <td>[74.94614971567516, 33.169758821249765]</td>\n",
       "      <td>[60.1935112853622, 35.25163617313764]</td>\n",
       "      <td>[44.368715591445614, 9.817524037739831]</td>\n",
       "      <td>[73.77902458765409, 9.138890215293802]</td>\n",
       "      <td>[45.35645871188365, 33.78665543178387]</td>\n",
       "    </tr>\n",
       "    <tr>\n",
       "      <th>3</th>\n",
       "      <td>1</td>\n",
       "      <td>58878</td>\n",
       "      <td>[4.2, 4.3]</td>\n",
       "      <td>[4.2, 4.3]</td>\n",
       "      <td>1</td>\n",
       "      <td>20240317_172017_long_comp_subj_4-2_and_4-3.1.f...</td>\n",
       "      <td>20240317_172017_long_comp_subj_4-2_and_4-3.1</td>\n",
       "      <td>4.3</td>\n",
       "      <td>[/scratch/back_up/reward_competition_extention...</td>\n",
       "      <td>/scratch/back_up/reward_competition_extention/...</td>\n",
       "      <td>...</td>\n",
       "      <td>397.033042</td>\n",
       "      <td>318.381473</td>\n",
       "      <td>0.092656</td>\n",
       "      <td>0.060448</td>\n",
       "      <td>{'4.2': [[[62.54046054 34.64691786], [59.79832...</td>\n",
       "      <td>[74.94614971567516, 33.169758821249765]</td>\n",
       "      <td>[60.1935112853622, 35.25163617313764]</td>\n",
       "      <td>[44.368715591445614, 9.817524037739831]</td>\n",
       "      <td>[73.77902458765409, 9.138890215293802]</td>\n",
       "      <td>[45.35645871188365, 33.78665543178387]</td>\n",
       "    </tr>\n",
       "    <tr>\n",
       "      <th>4</th>\n",
       "      <td>1</td>\n",
       "      <td>58752</td>\n",
       "      <td>[3.3, 3.4]</td>\n",
       "      <td>[3.3, 3.4]</td>\n",
       "      <td>1</td>\n",
       "      <td>20240318_143819_long_comp_subj_3-3_and_3-4.1.f...</td>\n",
       "      <td>20240318_143819_long_comp_subj_3-3_and_3-4.1</td>\n",
       "      <td>3.3</td>\n",
       "      <td>[/scratch/back_up/reward_competition_extention...</td>\n",
       "      <td>/scratch/back_up/reward_competition_extention/...</td>\n",
       "      <td>...</td>\n",
       "      <td>395.254562</td>\n",
       "      <td>314.359621</td>\n",
       "      <td>0.093842</td>\n",
       "      <td>0.060720</td>\n",
       "      <td>{'3.3': [[[76.32303058  9.877635  ], [79.57301...</td>\n",
       "      <td>[75.45743818234993, 34.248954157961684]</td>\n",
       "      <td>[60.56358180384908, 36.19153363328459]</td>\n",
       "      <td>[45.646560558659836, 10.284221972884431]</td>\n",
       "      <td>[74.70618240859957, 10.259858561906261]</td>\n",
       "      <td>[45.51706003228968, 34.29512637682901]</td>\n",
       "    </tr>\n",
       "  </tbody>\n",
       "</table>\n",
       "<p>5 rows × 32 columns</p>\n",
       "</div>"
      ],
      "text/plain": [
       "   start_frame  stop_frame tracked_subject in_video_subjects  box_number  \\\n",
       "0            1       45736      [3.1, 3.3]        [3.1, 3.3]           1   \n",
       "1            1       45736      [3.1, 3.3]        [3.1, 3.3]           1   \n",
       "2            1       58878      [4.2, 4.3]        [4.2, 4.3]           1   \n",
       "3            1       58878      [4.2, 4.3]        [4.2, 4.3]           1   \n",
       "4            1       58752      [3.3, 3.4]        [3.3, 3.4]           1   \n",
       "\n",
       "                                          sleap_name  \\\n",
       "0  20240317_151922_long_comp_subj_3-1_and_3-3.1.f...   \n",
       "1  20240317_151922_long_comp_subj_3-1_and_3-3.1.f...   \n",
       "2  20240317_172017_long_comp_subj_4-2_and_4-3.1.f...   \n",
       "3  20240317_172017_long_comp_subj_4-2_and_4-3.1.f...   \n",
       "4  20240318_143819_long_comp_subj_3-3_and_3-4.1.f...   \n",
       "\n",
       "                                     video_name current_subject  \\\n",
       "0  20240317_151922_long_comp_subj_3-1_and_3-3.1             3.1   \n",
       "1  20240317_151922_long_comp_subj_3-1_and_3-3.1             3.3   \n",
       "2  20240317_172017_long_comp_subj_4-2_and_4-3.1             4.2   \n",
       "3  20240317_172017_long_comp_subj_4-2_and_4-3.1             4.3   \n",
       "4  20240318_143819_long_comp_subj_3-3_and_3-4.1             3.3   \n",
       "\n",
       "                                          sleap_glob  \\\n",
       "0  [/scratch/back_up/reward_competition_extention...   \n",
       "1  [/scratch/back_up/reward_competition_extention...   \n",
       "2  [/scratch/back_up/reward_competition_extention...   \n",
       "3  [/scratch/back_up/reward_competition_extention...   \n",
       "4  [/scratch/back_up/reward_competition_extention...   \n",
       "\n",
       "                                          sleap_path  ... average_height  \\\n",
       "0  /scratch/back_up/reward_competition_extention/...  ...     391.770880   \n",
       "1  /scratch/back_up/reward_competition_extention/...  ...     391.770880   \n",
       "2  /scratch/back_up/reward_competition_extention/...  ...     397.033042   \n",
       "3  /scratch/back_up/reward_competition_extention/...  ...     397.033042   \n",
       "4  /scratch/back_up/reward_competition_extention/...  ...     395.254562   \n",
       "\n",
       "  average_width width_ratio height_ratio  \\\n",
       "0    319.063579    0.092458     0.061260   \n",
       "1    319.063579    0.092458     0.061260   \n",
       "2    318.381473    0.092656     0.060448   \n",
       "3    318.381473    0.092656     0.060448   \n",
       "4    314.359621    0.093842     0.060720   \n",
       "\n",
       "                                  rescaled_locations  \\\n",
       "0  {'3.1': [[[58.96139859 35.28935157], [57.89003...   \n",
       "1  {'3.1': [[[58.96139859 35.28935157], [57.89003...   \n",
       "2  {'4.2': [[[62.54046054 34.64691786], [59.79832...   \n",
       "3  {'4.2': [[[62.54046054 34.64691786], [59.79832...   \n",
       "4  {'3.3': [[[76.32303058  9.877635  ], [79.57301...   \n",
       "\n",
       "                          box_bottom_right  \\\n",
       "0   [74.74950620876821, 35.20508055016655]   \n",
       "1   [74.74950620876821, 35.20508055016655]   \n",
       "2  [74.94614971567516, 33.169758821249765]   \n",
       "3  [74.94614971567516, 33.169758821249765]   \n",
       "4  [75.45743818234993, 34.248954157961684]   \n",
       "\n",
       "                              reward_port  \\\n",
       "0  [60.41313477701829, 37.56463736381247]   \n",
       "1  [60.41313477701829, 37.56463736381247]   \n",
       "2   [60.1935112853622, 35.25163617313764]   \n",
       "3   [60.1935112853622, 35.25163617313764]   \n",
       "4  [60.56358180384908, 36.19153363328459]   \n",
       "\n",
       "                               box_top_left  \\\n",
       "0    [44.28978991796822, 11.54315948044538]   \n",
       "1    [44.28978991796822, 11.54315948044538]   \n",
       "2   [44.368715591445614, 9.817524037739831]   \n",
       "3   [44.368715591445614, 9.817524037739831]   \n",
       "4  [45.646560558659836, 10.284221972884431]   \n",
       "\n",
       "                             box_top_right  \\\n",
       "0  [73.57122102264293, 11.423230211638582]   \n",
       "1  [73.57122102264293, 11.423230211638582]   \n",
       "2   [73.77902458765409, 9.138890215293802]   \n",
       "3   [73.77902458765409, 9.138890215293802]   \n",
       "4  [74.70618240859957, 10.259858561906261]   \n",
       "\n",
       "                           box_bottom_left  \n",
       "0  [45.03093731344292, 35.761309141917415]  \n",
       "1  [45.03093731344292, 35.761309141917415]  \n",
       "2   [45.35645871188365, 33.78665543178387]  \n",
       "3   [45.35645871188365, 33.78665543178387]  \n",
       "4   [45.51706003228968, 34.29512637682901]  \n",
       "\n",
       "[5 rows x 32 columns]"
      ]
     },
     "execution_count": 84,
     "metadata": {},
     "output_type": "execute_result"
    }
   ],
   "source": [
    "START_STOP_FRAME_DF.head()"
   ]
  },
  {
   "cell_type": "code",
   "execution_count": 85,
   "metadata": {},
   "outputs": [],
   "source": [
    "START_STOP_FRAME_DF[\"agent\"] = START_STOP_FRAME_DF.apply(lambda x: list((set(x[\"tracked_subject\"]) - set([x[\"current_subject\"]]))), axis=1)"
   ]
  },
  {
   "cell_type": "code",
   "execution_count": 86,
   "metadata": {
    "tags": []
   },
   "outputs": [
    {
     "data": {
      "text/html": [
       "<div>\n",
       "<style scoped>\n",
       "    .dataframe tbody tr th:only-of-type {\n",
       "        vertical-align: middle;\n",
       "    }\n",
       "\n",
       "    .dataframe tbody tr th {\n",
       "        vertical-align: top;\n",
       "    }\n",
       "\n",
       "    .dataframe thead th {\n",
       "        text-align: right;\n",
       "    }\n",
       "</style>\n",
       "<table border=\"1\" class=\"dataframe\">\n",
       "  <thead>\n",
       "    <tr style=\"text-align: right;\">\n",
       "      <th></th>\n",
       "      <th>start_frame</th>\n",
       "      <th>stop_frame</th>\n",
       "      <th>tracked_subject</th>\n",
       "      <th>in_video_subjects</th>\n",
       "      <th>box_number</th>\n",
       "      <th>sleap_name</th>\n",
       "      <th>video_name</th>\n",
       "      <th>current_subject</th>\n",
       "      <th>sleap_glob</th>\n",
       "      <th>sleap_path</th>\n",
       "      <th>...</th>\n",
       "      <th>average_width</th>\n",
       "      <th>width_ratio</th>\n",
       "      <th>height_ratio</th>\n",
       "      <th>rescaled_locations</th>\n",
       "      <th>box_bottom_right</th>\n",
       "      <th>reward_port</th>\n",
       "      <th>box_top_left</th>\n",
       "      <th>box_top_right</th>\n",
       "      <th>box_bottom_left</th>\n",
       "      <th>agent</th>\n",
       "    </tr>\n",
       "  </thead>\n",
       "  <tbody>\n",
       "  </tbody>\n",
       "</table>\n",
       "<p>0 rows × 33 columns</p>\n",
       "</div>"
      ],
      "text/plain": [
       "Empty DataFrame\n",
       "Columns: [start_frame, stop_frame, tracked_subject, in_video_subjects, box_number, sleap_name, video_name, current_subject, sleap_glob, sleap_path, all_sleap_data, body_parts, locations, track_names, subject_to_index, subject_to_tracks, corner_path, corner_parts, bottom_width, top_width, right_height, left_height, average_height, average_width, width_ratio, height_ratio, rescaled_locations, box_bottom_right, reward_port, box_top_left, box_top_right, box_bottom_left, agent]\n",
       "Index: []\n",
       "\n",
       "[0 rows x 33 columns]"
      ]
     },
     "execution_count": 86,
     "metadata": {},
     "output_type": "execute_result"
    }
   ],
   "source": [
    "START_STOP_FRAME_DF[START_STOP_FRAME_DF[\"agent\"].apply(lambda x: len(x) != 1)]"
   ]
  },
  {
   "cell_type": "code",
   "execution_count": 87,
   "metadata": {
    "tags": []
   },
   "outputs": [],
   "source": [
    "START_STOP_FRAME_DF[\"agent\"] = START_STOP_FRAME_DF[\"agent\"].apply(lambda x: x[0] if len(x) == 1 else None)"
   ]
  },
  {
   "cell_type": "code",
   "execution_count": 88,
   "metadata": {},
   "outputs": [],
   "source": [
    "START_STOP_FRAME_DF[\"subject_locations\"] = START_STOP_FRAME_DF.apply(lambda x: x[\"rescaled_locations\"][x[\"current_subject\"]] , axis=1)"
   ]
  },
  {
   "cell_type": "code",
   "execution_count": 89,
   "metadata": {},
   "outputs": [],
   "source": [
    "START_STOP_FRAME_DF[\"frame_index\"] = START_STOP_FRAME_DF[\"subject_locations\"].apply(lambda x: np.arange(0, x.shape[0]) + 1)"
   ]
  },
  {
   "cell_type": "code",
   "execution_count": 90,
   "metadata": {},
   "outputs": [],
   "source": [
    "START_STOP_FRAME_DF[\"agent_locations\"] = START_STOP_FRAME_DF.apply(lambda x: x[\"rescaled_locations\"].get(x[\"agent\"], np.nan) if x[\"agent\"] else np.nan, axis=1)"
   ]
  },
  {
   "cell_type": "code",
   "execution_count": null,
   "metadata": {
    "tags": []
   },
   "outputs": [],
   "source": []
  },
  {
   "cell_type": "markdown",
   "metadata": {},
   "source": [
    "## Removing unnecessary columns"
   ]
  },
  {
   "cell_type": "code",
   "execution_count": 91,
   "metadata": {},
   "outputs": [],
   "source": [
    "START_STOP_FRAME_DF = START_STOP_FRAME_DF.drop([\"sleap_glob\", \"subject_to_index\", \"subject_to_tracks\", \"corner_parts\", \"corner_to_coordinate\", \"bottom_width\", \"top_width\", \"right_height\", \"left_height\", \"average_height\", \"average_width\", \"width_ratio\", \"height_ratio\", 'locations', 'track_names', 'sleap_path', 'corner_path', 'all_sleap_data', 'rescaled_locations'], errors=\"ignore\", axis=1)"
   ]
  },
  {
   "cell_type": "code",
   "execution_count": 92,
   "metadata": {},
   "outputs": [
    {
     "data": {
      "text/plain": [
       "Index(['start_frame', 'stop_frame', 'tracked_subject', 'in_video_subjects',\n",
       "       'box_number', 'sleap_name', 'video_name', 'current_subject',\n",
       "       'body_parts', 'box_bottom_right', 'reward_port', 'box_top_left',\n",
       "       'box_top_right', 'box_bottom_left', 'agent', 'subject_locations',\n",
       "       'frame_index', 'agent_locations'],\n",
       "      dtype='object')"
      ]
     },
     "execution_count": 92,
     "metadata": {},
     "output_type": "execute_result"
    }
   ],
   "source": [
    "START_STOP_FRAME_DF.columns"
   ]
  },
  {
   "cell_type": "code",
   "execution_count": 93,
   "metadata": {},
   "outputs": [
    {
     "data": {
      "text/html": [
       "<div>\n",
       "<style scoped>\n",
       "    .dataframe tbody tr th:only-of-type {\n",
       "        vertical-align: middle;\n",
       "    }\n",
       "\n",
       "    .dataframe tbody tr th {\n",
       "        vertical-align: top;\n",
       "    }\n",
       "\n",
       "    .dataframe thead th {\n",
       "        text-align: right;\n",
       "    }\n",
       "</style>\n",
       "<table border=\"1\" class=\"dataframe\">\n",
       "  <thead>\n",
       "    <tr style=\"text-align: right;\">\n",
       "      <th></th>\n",
       "      <th>start_frame</th>\n",
       "      <th>stop_frame</th>\n",
       "      <th>tracked_subject</th>\n",
       "      <th>in_video_subjects</th>\n",
       "      <th>box_number</th>\n",
       "      <th>sleap_name</th>\n",
       "      <th>video_name</th>\n",
       "      <th>current_subject</th>\n",
       "      <th>body_parts</th>\n",
       "      <th>box_bottom_right</th>\n",
       "      <th>reward_port</th>\n",
       "      <th>box_top_left</th>\n",
       "      <th>box_top_right</th>\n",
       "      <th>box_bottom_left</th>\n",
       "      <th>agent</th>\n",
       "      <th>subject_locations</th>\n",
       "      <th>frame_index</th>\n",
       "      <th>agent_locations</th>\n",
       "    </tr>\n",
       "  </thead>\n",
       "  <tbody>\n",
       "    <tr>\n",
       "      <th>0</th>\n",
       "      <td>1</td>\n",
       "      <td>45736</td>\n",
       "      <td>[3.1, 3.3]</td>\n",
       "      <td>[3.1, 3.3]</td>\n",
       "      <td>1</td>\n",
       "      <td>20240317_151922_long_comp_subj_3-1_and_3-3.1.f...</td>\n",
       "      <td>20240317_151922_long_comp_subj_3-1_and_3-3.1</td>\n",
       "      <td>3.1</td>\n",
       "      <td>[left_ear, right_ear, nose, tail_base, thorax,...</td>\n",
       "      <td>[74.74950620876821, 35.20508055016655]</td>\n",
       "      <td>[60.41313477701829, 37.56463736381247]</td>\n",
       "      <td>[44.28978991796822, 11.54315948044538]</td>\n",
       "      <td>[73.57122102264293, 11.423230211638582]</td>\n",
       "      <td>[45.03093731344292, 35.761309141917415]</td>\n",
       "      <td>3.3</td>\n",
       "      <td>[[[58.961398589179765, 35.28935156776581], [57...</td>\n",
       "      <td>[1, 2, 3, 4, 5, 6, 7, 8, 9, 10, 11, 12, 13, 14...</td>\n",
       "      <td>[[[51.049592291310574, 19.27532173433335], [54...</td>\n",
       "    </tr>\n",
       "    <tr>\n",
       "      <th>1</th>\n",
       "      <td>1</td>\n",
       "      <td>45736</td>\n",
       "      <td>[3.1, 3.3]</td>\n",
       "      <td>[3.1, 3.3]</td>\n",
       "      <td>1</td>\n",
       "      <td>20240317_151922_long_comp_subj_3-1_and_3-3.1.f...</td>\n",
       "      <td>20240317_151922_long_comp_subj_3-1_and_3-3.1</td>\n",
       "      <td>3.3</td>\n",
       "      <td>[left_ear, right_ear, nose, tail_base, thorax,...</td>\n",
       "      <td>[74.74950620876821, 35.20508055016655]</td>\n",
       "      <td>[60.41313477701829, 37.56463736381247]</td>\n",
       "      <td>[44.28978991796822, 11.54315948044538]</td>\n",
       "      <td>[73.57122102264293, 11.423230211638582]</td>\n",
       "      <td>[45.03093731344292, 35.761309141917415]</td>\n",
       "      <td>3.1</td>\n",
       "      <td>[[[51.049592291310574, 19.27532173433335], [54...</td>\n",
       "      <td>[1, 2, 3, 4, 5, 6, 7, 8, 9, 10, 11, 12, 13, 14...</td>\n",
       "      <td>[[[58.961398589179765, 35.28935156776581], [57...</td>\n",
       "    </tr>\n",
       "    <tr>\n",
       "      <th>2</th>\n",
       "      <td>1</td>\n",
       "      <td>58878</td>\n",
       "      <td>[4.2, 4.3]</td>\n",
       "      <td>[4.2, 4.3]</td>\n",
       "      <td>1</td>\n",
       "      <td>20240317_172017_long_comp_subj_4-2_and_4-3.1.f...</td>\n",
       "      <td>20240317_172017_long_comp_subj_4-2_and_4-3.1</td>\n",
       "      <td>4.2</td>\n",
       "      <td>[left_ear, right_ear, nose, tail_base, thorax,...</td>\n",
       "      <td>[74.94614971567516, 33.169758821249765]</td>\n",
       "      <td>[60.1935112853622, 35.25163617313764]</td>\n",
       "      <td>[44.368715591445614, 9.817524037739831]</td>\n",
       "      <td>[73.77902458765409, 9.138890215293802]</td>\n",
       "      <td>[45.35645871188365, 33.78665543178387]</td>\n",
       "      <td>4.3</td>\n",
       "      <td>[[[62.54046053502408, 34.646917855927946], [59...</td>\n",
       "      <td>[1, 2, 3, 4, 5, 6, 7, 8, 9, 10, 11, 12, 13, 14...</td>\n",
       "      <td>[[[59.070922225644495, 9.032051361034663], [61...</td>\n",
       "    </tr>\n",
       "    <tr>\n",
       "      <th>3</th>\n",
       "      <td>1</td>\n",
       "      <td>58878</td>\n",
       "      <td>[4.2, 4.3]</td>\n",
       "      <td>[4.2, 4.3]</td>\n",
       "      <td>1</td>\n",
       "      <td>20240317_172017_long_comp_subj_4-2_and_4-3.1.f...</td>\n",
       "      <td>20240317_172017_long_comp_subj_4-2_and_4-3.1</td>\n",
       "      <td>4.3</td>\n",
       "      <td>[left_ear, right_ear, nose, tail_base, thorax,...</td>\n",
       "      <td>[74.94614971567516, 33.169758821249765]</td>\n",
       "      <td>[60.1935112853622, 35.25163617313764]</td>\n",
       "      <td>[44.368715591445614, 9.817524037739831]</td>\n",
       "      <td>[73.77902458765409, 9.138890215293802]</td>\n",
       "      <td>[45.35645871188365, 33.78665543178387]</td>\n",
       "      <td>4.2</td>\n",
       "      <td>[[[59.070922225644495, 9.032051361034663], [61...</td>\n",
       "      <td>[1, 2, 3, 4, 5, 6, 7, 8, 9, 10, 11, 12, 13, 14...</td>\n",
       "      <td>[[[62.54046053502408, 34.646917855927946], [59...</td>\n",
       "    </tr>\n",
       "    <tr>\n",
       "      <th>4</th>\n",
       "      <td>1</td>\n",
       "      <td>58752</td>\n",
       "      <td>[3.3, 3.4]</td>\n",
       "      <td>[3.3, 3.4]</td>\n",
       "      <td>1</td>\n",
       "      <td>20240318_143819_long_comp_subj_3-3_and_3-4.1.f...</td>\n",
       "      <td>20240318_143819_long_comp_subj_3-3_and_3-4.1</td>\n",
       "      <td>3.3</td>\n",
       "      <td>[left_ear, right_ear, nose, tail_base, thorax,...</td>\n",
       "      <td>[75.45743818234993, 34.248954157961684]</td>\n",
       "      <td>[60.56358180384908, 36.19153363328459]</td>\n",
       "      <td>[45.646560558659836, 10.284221972884431]</td>\n",
       "      <td>[74.70618240859957, 10.259858561906261]</td>\n",
       "      <td>[45.51706003228968, 34.29512637682901]</td>\n",
       "      <td>3.4</td>\n",
       "      <td>[[[76.32303058013719, 9.877634998966064], [79....</td>\n",
       "      <td>[1, 2, 3, 4, 5, 6, 7, 8, 9, 10, 11, 12, 13, 14...</td>\n",
       "      <td>[[[41.7841383440293, 12.629758340372002], [42....</td>\n",
       "    </tr>\n",
       "  </tbody>\n",
       "</table>\n",
       "</div>"
      ],
      "text/plain": [
       "   start_frame  stop_frame tracked_subject in_video_subjects  box_number  \\\n",
       "0            1       45736      [3.1, 3.3]        [3.1, 3.3]           1   \n",
       "1            1       45736      [3.1, 3.3]        [3.1, 3.3]           1   \n",
       "2            1       58878      [4.2, 4.3]        [4.2, 4.3]           1   \n",
       "3            1       58878      [4.2, 4.3]        [4.2, 4.3]           1   \n",
       "4            1       58752      [3.3, 3.4]        [3.3, 3.4]           1   \n",
       "\n",
       "                                          sleap_name  \\\n",
       "0  20240317_151922_long_comp_subj_3-1_and_3-3.1.f...   \n",
       "1  20240317_151922_long_comp_subj_3-1_and_3-3.1.f...   \n",
       "2  20240317_172017_long_comp_subj_4-2_and_4-3.1.f...   \n",
       "3  20240317_172017_long_comp_subj_4-2_and_4-3.1.f...   \n",
       "4  20240318_143819_long_comp_subj_3-3_and_3-4.1.f...   \n",
       "\n",
       "                                     video_name current_subject  \\\n",
       "0  20240317_151922_long_comp_subj_3-1_and_3-3.1             3.1   \n",
       "1  20240317_151922_long_comp_subj_3-1_and_3-3.1             3.3   \n",
       "2  20240317_172017_long_comp_subj_4-2_and_4-3.1             4.2   \n",
       "3  20240317_172017_long_comp_subj_4-2_and_4-3.1             4.3   \n",
       "4  20240318_143819_long_comp_subj_3-3_and_3-4.1             3.3   \n",
       "\n",
       "                                          body_parts  \\\n",
       "0  [left_ear, right_ear, nose, tail_base, thorax,...   \n",
       "1  [left_ear, right_ear, nose, tail_base, thorax,...   \n",
       "2  [left_ear, right_ear, nose, tail_base, thorax,...   \n",
       "3  [left_ear, right_ear, nose, tail_base, thorax,...   \n",
       "4  [left_ear, right_ear, nose, tail_base, thorax,...   \n",
       "\n",
       "                          box_bottom_right  \\\n",
       "0   [74.74950620876821, 35.20508055016655]   \n",
       "1   [74.74950620876821, 35.20508055016655]   \n",
       "2  [74.94614971567516, 33.169758821249765]   \n",
       "3  [74.94614971567516, 33.169758821249765]   \n",
       "4  [75.45743818234993, 34.248954157961684]   \n",
       "\n",
       "                              reward_port  \\\n",
       "0  [60.41313477701829, 37.56463736381247]   \n",
       "1  [60.41313477701829, 37.56463736381247]   \n",
       "2   [60.1935112853622, 35.25163617313764]   \n",
       "3   [60.1935112853622, 35.25163617313764]   \n",
       "4  [60.56358180384908, 36.19153363328459]   \n",
       "\n",
       "                               box_top_left  \\\n",
       "0    [44.28978991796822, 11.54315948044538]   \n",
       "1    [44.28978991796822, 11.54315948044538]   \n",
       "2   [44.368715591445614, 9.817524037739831]   \n",
       "3   [44.368715591445614, 9.817524037739831]   \n",
       "4  [45.646560558659836, 10.284221972884431]   \n",
       "\n",
       "                             box_top_right  \\\n",
       "0  [73.57122102264293, 11.423230211638582]   \n",
       "1  [73.57122102264293, 11.423230211638582]   \n",
       "2   [73.77902458765409, 9.138890215293802]   \n",
       "3   [73.77902458765409, 9.138890215293802]   \n",
       "4  [74.70618240859957, 10.259858561906261]   \n",
       "\n",
       "                           box_bottom_left agent  \\\n",
       "0  [45.03093731344292, 35.761309141917415]   3.3   \n",
       "1  [45.03093731344292, 35.761309141917415]   3.1   \n",
       "2   [45.35645871188365, 33.78665543178387]   4.3   \n",
       "3   [45.35645871188365, 33.78665543178387]   4.2   \n",
       "4   [45.51706003228968, 34.29512637682901]   3.4   \n",
       "\n",
       "                                   subject_locations  \\\n",
       "0  [[[58.961398589179765, 35.28935156776581], [57...   \n",
       "1  [[[51.049592291310574, 19.27532173433335], [54...   \n",
       "2  [[[62.54046053502408, 34.646917855927946], [59...   \n",
       "3  [[[59.070922225644495, 9.032051361034663], [61...   \n",
       "4  [[[76.32303058013719, 9.877634998966064], [79....   \n",
       "\n",
       "                                         frame_index  \\\n",
       "0  [1, 2, 3, 4, 5, 6, 7, 8, 9, 10, 11, 12, 13, 14...   \n",
       "1  [1, 2, 3, 4, 5, 6, 7, 8, 9, 10, 11, 12, 13, 14...   \n",
       "2  [1, 2, 3, 4, 5, 6, 7, 8, 9, 10, 11, 12, 13, 14...   \n",
       "3  [1, 2, 3, 4, 5, 6, 7, 8, 9, 10, 11, 12, 13, 14...   \n",
       "4  [1, 2, 3, 4, 5, 6, 7, 8, 9, 10, 11, 12, 13, 14...   \n",
       "\n",
       "                                     agent_locations  \n",
       "0  [[[51.049592291310574, 19.27532173433335], [54...  \n",
       "1  [[[58.961398589179765, 35.28935156776581], [57...  \n",
       "2  [[[59.070922225644495, 9.032051361034663], [61...  \n",
       "3  [[[62.54046053502408, 34.646917855927946], [59...  \n",
       "4  [[[41.7841383440293, 12.629758340372002], [42....  "
      ]
     },
     "execution_count": 93,
     "metadata": {},
     "output_type": "execute_result"
    }
   ],
   "source": [
    "START_STOP_FRAME_DF.head()"
   ]
  },
  {
   "cell_type": "code",
   "execution_count": null,
   "metadata": {},
   "outputs": [],
   "source": []
  },
  {
   "cell_type": "markdown",
   "metadata": {},
   "source": [
    "# Calculate velocity"
   ]
  },
  {
   "cell_type": "code",
   "execution_count": 94,
   "metadata": {
    "tags": []
   },
   "outputs": [
    {
     "data": {
      "text/plain": [
       "Index(['start_frame', 'stop_frame', 'tracked_subject', 'in_video_subjects',\n",
       "       'box_number', 'sleap_name', 'video_name', 'current_subject',\n",
       "       'body_parts', 'box_bottom_right', 'reward_port', 'box_top_left',\n",
       "       'box_top_right', 'box_bottom_left', 'agent', 'subject_locations',\n",
       "       'frame_index', 'agent_locations'],\n",
       "      dtype='object')"
      ]
     },
     "execution_count": 94,
     "metadata": {},
     "output_type": "execute_result"
    }
   ],
   "source": [
    "START_STOP_FRAME_DF.columns"
   ]
  },
  {
   "cell_type": "code",
   "execution_count": 95,
   "metadata": {
    "tags": []
   },
   "outputs": [
    {
     "data": {
      "text/plain": [
       "0     4\n",
       "1     4\n",
       "2     4\n",
       "3     4\n",
       "4     4\n",
       "5     4\n",
       "6     4\n",
       "7     4\n",
       "8     4\n",
       "9     4\n",
       "10    4\n",
       "11    4\n",
       "12    4\n",
       "13    4\n",
       "14    4\n",
       "15    4\n",
       "Name: body_parts, dtype: int64"
      ]
     },
     "execution_count": 95,
     "metadata": {},
     "output_type": "execute_result"
    }
   ],
   "source": [
    "START_STOP_FRAME_DF[\"body_parts\"].apply(lambda x: x.index(\"thorax\"))"
   ]
  },
  {
   "cell_type": "code",
   "execution_count": 96,
   "metadata": {
    "tags": []
   },
   "outputs": [],
   "source": [
    "START_STOP_FRAME_DF[\"subject_thorax_velocity\"] = START_STOP_FRAME_DF.apply(lambda x: compute_velocity(x[\"subject_locations\"][:,x[\"body_parts\"].index(\"thorax\"),:], window_size=FRAME_RATE*3) * FRAME_RATE, axis=1)\n",
    "START_STOP_FRAME_DF[\"subject_thorax_velocity\"] = START_STOP_FRAME_DF[\"subject_thorax_velocity\"].apply(lambda x: x.astype(np.float16) if x is not np.nan else np.nan)"
   ]
  },
  {
   "cell_type": "code",
   "execution_count": 97,
   "metadata": {
    "tags": []
   },
   "outputs": [
    {
     "data": {
      "text/plain": [
       "0     [[[51.049592291310574, 19.27532173433335], [54...\n",
       "1     [[[58.961398589179765, 35.28935156776581], [57...\n",
       "2     [[[59.070922225644495, 9.032051361034663], [61...\n",
       "3     [[[62.54046053502408, 34.646917855927946], [59...\n",
       "4     [[[41.7841383440293, 12.629758340372002], [42....\n",
       "5     [[[76.32303058013719, 9.877634998966064], [79....\n",
       "6     [[[71.872443898319, 33.84343717223429], [68.36...\n",
       "7     [[[62.19518782084268, 36.15736706482171], [59....\n",
       "8     [[[62.78318271481511, 33.596670791422795], [59...\n",
       "9     [[[46.34440539345804, 18.61252770228385], [42....\n",
       "10    [[[56.763443979575484, 33.69849382384958], [56...\n",
       "11    [[[60.75843969112896, 21.987242718380628], [57...\n",
       "12    [[[54.4735735220047, 33.10189618617779], [51.0...\n",
       "13    [[[61.09290043872573, 32.29657306369239], [59....\n",
       "14    [[[75.1770338506859, 29.115218464800385], [71....\n",
       "15    [[[62.95310346293313, 34.789092579377574], [60...\n",
       "Name: agent_locations, dtype: object"
      ]
     },
     "execution_count": 97,
     "metadata": {},
     "output_type": "execute_result"
    }
   ],
   "source": [
    "START_STOP_FRAME_DF[\"agent_locations\"]"
   ]
  },
  {
   "cell_type": "code",
   "execution_count": 98,
   "metadata": {
    "tags": []
   },
   "outputs": [],
   "source": [
    "START_STOP_FRAME_DF[\"agent_thorax_velocity\"] = START_STOP_FRAME_DF.apply(lambda x: compute_velocity(x[\"agent_locations\"][:,x[\"body_parts\"].index(\"thorax\"),:], window_size=FRAME_RATE*3) * FRAME_RATE if x[\"agent_locations\"] is not np.nan else np.nan, axis=1)\n",
    "START_STOP_FRAME_DF[\"agent_thorax_velocity\"] = START_STOP_FRAME_DF[\"agent_thorax_velocity\"].apply(lambda x: x.astype(np.float16) if x is not np.nan else np.nan)\n"
   ]
  },
  {
   "cell_type": "code",
   "execution_count": 99,
   "metadata": {
    "tags": []
   },
   "outputs": [
    {
     "data": {
      "text/plain": [
       "(45736,)"
      ]
     },
     "execution_count": 99,
     "metadata": {},
     "output_type": "execute_result"
    }
   ],
   "source": [
    "START_STOP_FRAME_DF[\"subject_thorax_velocity\"].iloc[0].shape"
   ]
  },
  {
   "cell_type": "markdown",
   "metadata": {},
   "source": [
    "## Calculate distance to reward port"
   ]
  },
  {
   "cell_type": "code",
   "execution_count": 100,
   "metadata": {
    "tags": []
   },
   "outputs": [],
   "source": [
    "START_STOP_FRAME_DF[\"subject_thorax_to_reward_port\"] = START_STOP_FRAME_DF.apply(lambda x: np.linalg.norm(x[\"subject_locations\"][:,x[\"body_parts\"].index(\"thorax\"),:] - x[\"reward_port\"], axis=1),  axis=1)\n",
    "START_STOP_FRAME_DF[\"subject_thorax_to_reward_port\"] = START_STOP_FRAME_DF[\"subject_thorax_to_reward_port\"].apply(lambda x: x.astype(np.float16) if x is not np.nan else np.nan)"
   ]
  },
  {
   "cell_type": "code",
   "execution_count": 101,
   "metadata": {
    "tags": []
   },
   "outputs": [],
   "source": [
    "START_STOP_FRAME_DF[\"agent_thorax_to_reward_port\"] = START_STOP_FRAME_DF.apply(lambda x: np.linalg.norm(x[\"agent_locations\"][:,x[\"body_parts\"].index(\"thorax\"),:] - x[\"reward_port\"], axis=1) if x[\"agent_locations\"] is not np.nan else np.nan,  axis=1)\n",
    "START_STOP_FRAME_DF[\"agent_thorax_to_reward_port\"] = START_STOP_FRAME_DF[\"agent_thorax_to_reward_port\"].apply(lambda x: x.astype(np.float16) if x is not np.nan else np.nan)"
   ]
  },
  {
   "cell_type": "code",
   "execution_count": null,
   "metadata": {},
   "outputs": [],
   "source": []
  },
  {
   "cell_type": "markdown",
   "metadata": {},
   "source": [
    "## Putting together LFP and video start/stop"
   ]
  },
  {
   "cell_type": "code",
   "execution_count": 102,
   "metadata": {
    "tags": []
   },
   "outputs": [
    {
     "data": {
      "text/plain": [
       "array(['20240317_151922_long_comp_subj_3-1_and_3-3.1',\n",
       "       '20240317_172017_long_comp_subj_4-2_and_4-3.1',\n",
       "       '20240318_143819_long_comp_subj_3-3_and_3-4.1',\n",
       "       '20240318_170933_long_comp_subj_4-3_and_4-4.1',\n",
       "       '20240319_134914_long_comp_subj_3-1_and_3-4.1'], dtype=object)"
      ]
     },
     "execution_count": 102,
     "metadata": {},
     "output_type": "execute_result"
    }
   ],
   "source": [
    "START_STOP_FRAME_DF[\"video_name\"].unique()[:5]"
   ]
  },
  {
   "cell_type": "code",
   "execution_count": 103,
   "metadata": {
    "tags": []
   },
   "outputs": [
    {
     "data": {
      "text/plain": [
       "array(['20240317_151922_long_comp_subj_3-1_and_3-3.1',\n",
       "       '20240317_151922_long_comp_subj_3-1_and_3-3.2',\n",
       "       '20240317_172017_long_comp_subj_4-2_and_4-3.1',\n",
       "       '20240317_172017_long_comp_subj_4-2_and_4-3.2',\n",
       "       '20240318_143819_long_comp_subj_3-3_and_3-4.1'], dtype=object)"
      ]
     },
     "execution_count": 103,
     "metadata": {},
     "output_type": "execute_result"
    }
   ],
   "source": [
    "LFP_SPECTRAL_DF[\"video_name\"].unique()[:5]"
   ]
  },
  {
   "cell_type": "code",
   "execution_count": 104,
   "metadata": {
    "tags": []
   },
   "outputs": [
    {
     "data": {
      "text/plain": [
       "array(['3.1', '3.3', '4.2', '4.3', '3.4', '5.3'], dtype=object)"
      ]
     },
     "execution_count": 104,
     "metadata": {},
     "output_type": "execute_result"
    }
   ],
   "source": [
    "LFP_SPECTRAL_DF[\"current_subject\"].unique()"
   ]
  },
  {
   "cell_type": "code",
   "execution_count": 105,
   "metadata": {
    "tags": []
   },
   "outputs": [
    {
     "data": {
      "text/plain": [
       "array(['3.1', '3.3', '4.2', '4.3', '3.4', '4.4', '5.3', '5.4', '5.2'],\n",
       "      dtype=object)"
      ]
     },
     "execution_count": 105,
     "metadata": {},
     "output_type": "execute_result"
    }
   ],
   "source": [
    "START_STOP_FRAME_DF[\"current_subject\"].unique()"
   ]
  },
  {
   "cell_type": "code",
   "execution_count": 106,
   "metadata": {
    "tags": []
   },
   "outputs": [],
   "source": [
    "LFP_AND_SLEAP_DF = pd.merge(LFP_SPECTRAL_DF, START_STOP_FRAME_DF, on=[\"video_name\", \"current_subject\"], how=\"inner\")"
   ]
  },
  {
   "cell_type": "code",
   "execution_count": 107,
   "metadata": {
    "tags": []
   },
   "outputs": [
    {
     "data": {
      "text/plain": [
       "0    (45736,)\n",
       "1    (45736,)\n",
       "2    (58879,)\n",
       "3    (58879,)\n",
       "4    (58752,)\n",
       "Name: video_timestamps, dtype: object"
      ]
     },
     "execution_count": 107,
     "metadata": {},
     "output_type": "execute_result"
    }
   ],
   "source": [
    "LFP_AND_SLEAP_DF[\"video_timestamps\"].apply(lambda x: x.shape).head()"
   ]
  },
  {
   "cell_type": "code",
   "execution_count": 108,
   "metadata": {
    "tags": []
   },
   "outputs": [
    {
     "data": {
      "text/html": [
       "<div>\n",
       "<style scoped>\n",
       "    .dataframe tbody tr th:only-of-type {\n",
       "        vertical-align: middle;\n",
       "    }\n",
       "\n",
       "    .dataframe tbody tr th {\n",
       "        vertical-align: top;\n",
       "    }\n",
       "\n",
       "    .dataframe thead th {\n",
       "        text-align: right;\n",
       "    }\n",
       "</style>\n",
       "<table border=\"1\" class=\"dataframe\">\n",
       "  <thead>\n",
       "    <tr style=\"text-align: right;\">\n",
       "      <th></th>\n",
       "      <th>cohort</th>\n",
       "      <th>session_dir</th>\n",
       "      <th>tone_frames</th>\n",
       "      <th>box_1_port_entry_frames</th>\n",
       "      <th>box_2_port_entry_frames</th>\n",
       "      <th>video_name</th>\n",
       "      <th>notes</th>\n",
       "      <th>session_path</th>\n",
       "      <th>recording</th>\n",
       "      <th>current_subject</th>\n",
       "      <th>...</th>\n",
       "      <th>box_top_right</th>\n",
       "      <th>box_bottom_left</th>\n",
       "      <th>agent</th>\n",
       "      <th>subject_locations</th>\n",
       "      <th>frame_index</th>\n",
       "      <th>agent_locations</th>\n",
       "      <th>subject_thorax_velocity</th>\n",
       "      <th>agent_thorax_velocity</th>\n",
       "      <th>subject_thorax_to_reward_port</th>\n",
       "      <th>agent_thorax_to_reward_port</th>\n",
       "    </tr>\n",
       "  </thead>\n",
       "  <tbody>\n",
       "    <tr>\n",
       "      <th>0</th>\n",
       "      <td>rce_pilot_3</td>\n",
       "      <td>20240317_151922_long_comp_subj_3-1_and_3-3</td>\n",
       "      <td>[[1, 88], [1286, 1486], [3282, 3482], [4480, 4...</td>\n",
       "      <td>[[1, 88], [259, 278], [310, 365], [366, 382], ...</td>\n",
       "      <td>[]</td>\n",
       "      <td>20240317_151922_long_comp_subj_3-1_and_3-3.1</td>\n",
       "      <td>NaN</td>\n",
       "      <td>/scratch/back_up/reward_competition_extention/...</td>\n",
       "      <td>20240317_151922_long_comp_subj_3-1_t6b6_merged</td>\n",
       "      <td>3.1</td>\n",
       "      <td>...</td>\n",
       "      <td>[73.57122102264293, 11.423230211638582]</td>\n",
       "      <td>[45.03093731344292, 35.761309141917415]</td>\n",
       "      <td>3.3</td>\n",
       "      <td>[[[58.961398589179765, 35.28935156776581], [57...</td>\n",
       "      <td>[1, 2, 3, 4, 5, 6, 7, 8, 9, 10, 11, 12, 13, 14...</td>\n",
       "      <td>[[[51.049592291310574, 19.27532173433335], [54...</td>\n",
       "      <td>[3.035, 2.855, 2.68, 2.512, 2.348, 2.19, 2.037...</td>\n",
       "      <td>[12.37, 11.99, 11.65, 11.336, 11.06, 10.81, 10...</td>\n",
       "      <td>[7.453, 7.25, 7.273, 7.062, 6.88, 6.617, 5.965...</td>\n",
       "      <td>[19.94, 20.16, 20.45, 20.8, 21.0, 20.98, 21.03...</td>\n",
       "    </tr>\n",
       "    <tr>\n",
       "      <th>1</th>\n",
       "      <td>rce_pilot_3</td>\n",
       "      <td>20240317_151922_long_comp_subj_3-1_and_3-3</td>\n",
       "      <td>[[1, 88], [1286, 1486], [3282, 3482], [4480, 4...</td>\n",
       "      <td>[[1, 88], [259, 278], [310, 365], [366, 382], ...</td>\n",
       "      <td>[]</td>\n",
       "      <td>20240317_151922_long_comp_subj_3-1_and_3-3.1</td>\n",
       "      <td>NaN</td>\n",
       "      <td>/scratch/back_up/reward_competition_extention/...</td>\n",
       "      <td>20240317_151922_long_comp_subj_3-3_t5b5_merged</td>\n",
       "      <td>3.3</td>\n",
       "      <td>...</td>\n",
       "      <td>[73.57122102264293, 11.423230211638582]</td>\n",
       "      <td>[45.03093731344292, 35.761309141917415]</td>\n",
       "      <td>3.1</td>\n",
       "      <td>[[[51.049592291310574, 19.27532173433335], [54...</td>\n",
       "      <td>[1, 2, 3, 4, 5, 6, 7, 8, 9, 10, 11, 12, 13, 14...</td>\n",
       "      <td>[[[58.961398589179765, 35.28935156776581], [57...</td>\n",
       "      <td>[12.37, 11.99, 11.65, 11.336, 11.06, 10.81, 10...</td>\n",
       "      <td>[3.035, 2.855, 2.68, 2.512, 2.348, 2.19, 2.037...</td>\n",
       "      <td>[19.94, 20.16, 20.45, 20.8, 21.0, 20.98, 21.03...</td>\n",
       "      <td>[7.453, 7.25, 7.273, 7.062, 6.88, 6.617, 5.965...</td>\n",
       "    </tr>\n",
       "    <tr>\n",
       "      <th>2</th>\n",
       "      <td>rce_pilot_3</td>\n",
       "      <td>20240317_172017_long_comp_subj_4-2_and_4-3</td>\n",
       "      <td>[[1, 102], [1300, 1501], [3297, 3497], [4494, ...</td>\n",
       "      <td>[[1, 102], [115, 153], [191, 245], [261, 263],...</td>\n",
       "      <td>[]</td>\n",
       "      <td>20240317_172017_long_comp_subj_4-2_and_4-3.1</td>\n",
       "      <td>NaN</td>\n",
       "      <td>/scratch/back_up/reward_competition_extention/...</td>\n",
       "      <td>20240317_172017_long_comp_subj_4-2_t6b6_merged</td>\n",
       "      <td>4.2</td>\n",
       "      <td>...</td>\n",
       "      <td>[73.77902458765409, 9.138890215293802]</td>\n",
       "      <td>[45.35645871188365, 33.78665543178387]</td>\n",
       "      <td>4.3</td>\n",
       "      <td>[[[62.54046053502408, 34.646917855927946], [59...</td>\n",
       "      <td>[1, 2, 3, 4, 5, 6, 7, 8, 9, 10, 11, 12, 13, 14...</td>\n",
       "      <td>[[[59.070922225644495, 9.032051361034663], [61...</td>\n",
       "      <td>[1.537, 1.132, 0.8584, 0.811, 0.987, 1.272, 1....</td>\n",
       "      <td>[15.766, 15.34, 15.016, 14.79, 14.66, 14.59, 1...</td>\n",
       "      <td>[5.25, 5.43, 5.523, 5.566, 5.547, 5.46, 5.258,...</td>\n",
       "      <td>[26.3, 26.12, 26.12, 26.12, 26.14, 26.17, 26.2...</td>\n",
       "    </tr>\n",
       "    <tr>\n",
       "      <th>3</th>\n",
       "      <td>rce_pilot_3</td>\n",
       "      <td>20240317_172017_long_comp_subj_4-2_and_4-3</td>\n",
       "      <td>[[1, 102], [1300, 1501], [3297, 3497], [4494, ...</td>\n",
       "      <td>[[1, 102], [115, 153], [191, 245], [261, 263],...</td>\n",
       "      <td>[]</td>\n",
       "      <td>20240317_172017_long_comp_subj_4-2_and_4-3.1</td>\n",
       "      <td>NaN</td>\n",
       "      <td>/scratch/back_up/reward_competition_extention/...</td>\n",
       "      <td>20240317_172017_long_comp_subj_4-3_t5b5_merged</td>\n",
       "      <td>4.3</td>\n",
       "      <td>...</td>\n",
       "      <td>[73.77902458765409, 9.138890215293802]</td>\n",
       "      <td>[45.35645871188365, 33.78665543178387]</td>\n",
       "      <td>4.2</td>\n",
       "      <td>[[[59.070922225644495, 9.032051361034663], [61...</td>\n",
       "      <td>[1, 2, 3, 4, 5, 6, 7, 8, 9, 10, 11, 12, 13, 14...</td>\n",
       "      <td>[[[62.54046053502408, 34.646917855927946], [59...</td>\n",
       "      <td>[15.766, 15.34, 15.016, 14.79, 14.66, 14.59, 1...</td>\n",
       "      <td>[1.537, 1.132, 0.8584, 0.811, 0.987, 1.272, 1....</td>\n",
       "      <td>[26.3, 26.12, 26.12, 26.12, 26.14, 26.17, 26.2...</td>\n",
       "      <td>[5.25, 5.43, 5.523, 5.566, 5.547, 5.46, 5.258,...</td>\n",
       "    </tr>\n",
       "    <tr>\n",
       "      <th>4</th>\n",
       "      <td>rce_pilot_3</td>\n",
       "      <td>20240318_143819_long_comp_subj_3-3_and_3-4</td>\n",
       "      <td>[[1, 125], [1334, 1533], [3330, 3529], [4528, ...</td>\n",
       "      <td>[[1, 125], [125, 181], [369, 401], [403, 446],...</td>\n",
       "      <td>[]</td>\n",
       "      <td>20240318_143819_long_comp_subj_3-3_and_3-4.1</td>\n",
       "      <td>NaN</td>\n",
       "      <td>/scratch/back_up/reward_competition_extention/...</td>\n",
       "      <td>20240318_143819_long_comp_subj_3-3_t6b6_merged</td>\n",
       "      <td>3.3</td>\n",
       "      <td>...</td>\n",
       "      <td>[74.70618240859957, 10.259858561906261]</td>\n",
       "      <td>[45.51706003228968, 34.29512637682901]</td>\n",
       "      <td>3.4</td>\n",
       "      <td>[[[76.32303058013719, 9.877634998966064], [79....</td>\n",
       "      <td>[1, 2, 3, 4, 5, 6, 7, 8, 9, 10, 11, 12, 13, 14...</td>\n",
       "      <td>[[[41.7841383440293, 12.629758340372002], [42....</td>\n",
       "      <td>[5.914, 5.984, 6.203, 6.54, 6.96, 7.438, 7.945...</td>\n",
       "      <td>[12.93, 12.14, 11.37, 10.62, 9.89, 9.19, 8.5, ...</td>\n",
       "      <td>[28.47, 28.61, 28.23, 28.73, 27.81, 27.25, 27....</td>\n",
       "      <td>[29.33, 10.49, 9.336, 9.17, 9.24, 9.16, 8.7, 8...</td>\n",
       "    </tr>\n",
       "  </tbody>\n",
       "</table>\n",
       "<p>5 rows × 49 columns</p>\n",
       "</div>"
      ],
      "text/plain": [
       "        cohort                                 session_dir  \\\n",
       "0  rce_pilot_3  20240317_151922_long_comp_subj_3-1_and_3-3   \n",
       "1  rce_pilot_3  20240317_151922_long_comp_subj_3-1_and_3-3   \n",
       "2  rce_pilot_3  20240317_172017_long_comp_subj_4-2_and_4-3   \n",
       "3  rce_pilot_3  20240317_172017_long_comp_subj_4-2_and_4-3   \n",
       "4  rce_pilot_3  20240318_143819_long_comp_subj_3-3_and_3-4   \n",
       "\n",
       "                                         tone_frames  \\\n",
       "0  [[1, 88], [1286, 1486], [3282, 3482], [4480, 4...   \n",
       "1  [[1, 88], [1286, 1486], [3282, 3482], [4480, 4...   \n",
       "2  [[1, 102], [1300, 1501], [3297, 3497], [4494, ...   \n",
       "3  [[1, 102], [1300, 1501], [3297, 3497], [4494, ...   \n",
       "4  [[1, 125], [1334, 1533], [3330, 3529], [4528, ...   \n",
       "\n",
       "                             box_1_port_entry_frames box_2_port_entry_frames  \\\n",
       "0  [[1, 88], [259, 278], [310, 365], [366, 382], ...                      []   \n",
       "1  [[1, 88], [259, 278], [310, 365], [366, 382], ...                      []   \n",
       "2  [[1, 102], [115, 153], [191, 245], [261, 263],...                      []   \n",
       "3  [[1, 102], [115, 153], [191, 245], [261, 263],...                      []   \n",
       "4  [[1, 125], [125, 181], [369, 401], [403, 446],...                      []   \n",
       "\n",
       "                                     video_name notes  \\\n",
       "0  20240317_151922_long_comp_subj_3-1_and_3-3.1   NaN   \n",
       "1  20240317_151922_long_comp_subj_3-1_and_3-3.1   NaN   \n",
       "2  20240317_172017_long_comp_subj_4-2_and_4-3.1   NaN   \n",
       "3  20240317_172017_long_comp_subj_4-2_and_4-3.1   NaN   \n",
       "4  20240318_143819_long_comp_subj_3-3_and_3-4.1   NaN   \n",
       "\n",
       "                                        session_path  \\\n",
       "0  /scratch/back_up/reward_competition_extention/...   \n",
       "1  /scratch/back_up/reward_competition_extention/...   \n",
       "2  /scratch/back_up/reward_competition_extention/...   \n",
       "3  /scratch/back_up/reward_competition_extention/...   \n",
       "4  /scratch/back_up/reward_competition_extention/...   \n",
       "\n",
       "                                        recording current_subject  ...  \\\n",
       "0  20240317_151922_long_comp_subj_3-1_t6b6_merged             3.1  ...   \n",
       "1  20240317_151922_long_comp_subj_3-3_t5b5_merged             3.3  ...   \n",
       "2  20240317_172017_long_comp_subj_4-2_t6b6_merged             4.2  ...   \n",
       "3  20240317_172017_long_comp_subj_4-3_t5b5_merged             4.3  ...   \n",
       "4  20240318_143819_long_comp_subj_3-3_t6b6_merged             3.3  ...   \n",
       "\n",
       "                             box_top_right  \\\n",
       "0  [73.57122102264293, 11.423230211638582]   \n",
       "1  [73.57122102264293, 11.423230211638582]   \n",
       "2   [73.77902458765409, 9.138890215293802]   \n",
       "3   [73.77902458765409, 9.138890215293802]   \n",
       "4  [74.70618240859957, 10.259858561906261]   \n",
       "\n",
       "                           box_bottom_left  agent  \\\n",
       "0  [45.03093731344292, 35.761309141917415]    3.3   \n",
       "1  [45.03093731344292, 35.761309141917415]    3.1   \n",
       "2   [45.35645871188365, 33.78665543178387]    4.3   \n",
       "3   [45.35645871188365, 33.78665543178387]    4.2   \n",
       "4   [45.51706003228968, 34.29512637682901]    3.4   \n",
       "\n",
       "                                   subject_locations  \\\n",
       "0  [[[58.961398589179765, 35.28935156776581], [57...   \n",
       "1  [[[51.049592291310574, 19.27532173433335], [54...   \n",
       "2  [[[62.54046053502408, 34.646917855927946], [59...   \n",
       "3  [[[59.070922225644495, 9.032051361034663], [61...   \n",
       "4  [[[76.32303058013719, 9.877634998966064], [79....   \n",
       "\n",
       "                                         frame_index  \\\n",
       "0  [1, 2, 3, 4, 5, 6, 7, 8, 9, 10, 11, 12, 13, 14...   \n",
       "1  [1, 2, 3, 4, 5, 6, 7, 8, 9, 10, 11, 12, 13, 14...   \n",
       "2  [1, 2, 3, 4, 5, 6, 7, 8, 9, 10, 11, 12, 13, 14...   \n",
       "3  [1, 2, 3, 4, 5, 6, 7, 8, 9, 10, 11, 12, 13, 14...   \n",
       "4  [1, 2, 3, 4, 5, 6, 7, 8, 9, 10, 11, 12, 13, 14...   \n",
       "\n",
       "                                     agent_locations  \\\n",
       "0  [[[51.049592291310574, 19.27532173433335], [54...   \n",
       "1  [[[58.961398589179765, 35.28935156776581], [57...   \n",
       "2  [[[59.070922225644495, 9.032051361034663], [61...   \n",
       "3  [[[62.54046053502408, 34.646917855927946], [59...   \n",
       "4  [[[41.7841383440293, 12.629758340372002], [42....   \n",
       "\n",
       "                             subject_thorax_velocity  \\\n",
       "0  [3.035, 2.855, 2.68, 2.512, 2.348, 2.19, 2.037...   \n",
       "1  [12.37, 11.99, 11.65, 11.336, 11.06, 10.81, 10...   \n",
       "2  [1.537, 1.132, 0.8584, 0.811, 0.987, 1.272, 1....   \n",
       "3  [15.766, 15.34, 15.016, 14.79, 14.66, 14.59, 1...   \n",
       "4  [5.914, 5.984, 6.203, 6.54, 6.96, 7.438, 7.945...   \n",
       "\n",
       "                               agent_thorax_velocity  \\\n",
       "0  [12.37, 11.99, 11.65, 11.336, 11.06, 10.81, 10...   \n",
       "1  [3.035, 2.855, 2.68, 2.512, 2.348, 2.19, 2.037...   \n",
       "2  [15.766, 15.34, 15.016, 14.79, 14.66, 14.59, 1...   \n",
       "3  [1.537, 1.132, 0.8584, 0.811, 0.987, 1.272, 1....   \n",
       "4  [12.93, 12.14, 11.37, 10.62, 9.89, 9.19, 8.5, ...   \n",
       "\n",
       "                       subject_thorax_to_reward_port  \\\n",
       "0  [7.453, 7.25, 7.273, 7.062, 6.88, 6.617, 5.965...   \n",
       "1  [19.94, 20.16, 20.45, 20.8, 21.0, 20.98, 21.03...   \n",
       "2  [5.25, 5.43, 5.523, 5.566, 5.547, 5.46, 5.258,...   \n",
       "3  [26.3, 26.12, 26.12, 26.12, 26.14, 26.17, 26.2...   \n",
       "4  [28.47, 28.61, 28.23, 28.73, 27.81, 27.25, 27....   \n",
       "\n",
       "                         agent_thorax_to_reward_port  \n",
       "0  [19.94, 20.16, 20.45, 20.8, 21.0, 20.98, 21.03...  \n",
       "1  [7.453, 7.25, 7.273, 7.062, 6.88, 6.617, 5.965...  \n",
       "2  [26.3, 26.12, 26.12, 26.12, 26.14, 26.17, 26.2...  \n",
       "3  [5.25, 5.43, 5.523, 5.566, 5.547, 5.46, 5.258,...  \n",
       "4  [29.33, 10.49, 9.336, 9.17, 9.24, 9.16, 8.7, 8...  \n",
       "\n",
       "[5 rows x 49 columns]"
      ]
     },
     "execution_count": 108,
     "metadata": {},
     "output_type": "execute_result"
    }
   ],
   "source": [
    "LFP_AND_SLEAP_DF.head()"
   ]
  },
  {
   "cell_type": "markdown",
   "metadata": {
    "tags": []
   },
   "source": [
    "- Checking if any of the velocities contain Nans"
   ]
  },
  {
   "cell_type": "code",
   "execution_count": 109,
   "metadata": {
    "tags": []
   },
   "outputs": [
    {
     "data": {
      "text/html": [
       "<div>\n",
       "<style scoped>\n",
       "    .dataframe tbody tr th:only-of-type {\n",
       "        vertical-align: middle;\n",
       "    }\n",
       "\n",
       "    .dataframe tbody tr th {\n",
       "        vertical-align: top;\n",
       "    }\n",
       "\n",
       "    .dataframe thead th {\n",
       "        text-align: right;\n",
       "    }\n",
       "</style>\n",
       "<table border=\"1\" class=\"dataframe\">\n",
       "  <thead>\n",
       "    <tr style=\"text-align: right;\">\n",
       "      <th></th>\n",
       "      <th>cohort</th>\n",
       "      <th>session_dir</th>\n",
       "      <th>tone_frames</th>\n",
       "      <th>box_1_port_entry_frames</th>\n",
       "      <th>box_2_port_entry_frames</th>\n",
       "      <th>video_name</th>\n",
       "      <th>notes</th>\n",
       "      <th>session_path</th>\n",
       "      <th>recording</th>\n",
       "      <th>current_subject</th>\n",
       "      <th>...</th>\n",
       "      <th>box_top_right</th>\n",
       "      <th>box_bottom_left</th>\n",
       "      <th>agent</th>\n",
       "      <th>subject_locations</th>\n",
       "      <th>frame_index</th>\n",
       "      <th>agent_locations</th>\n",
       "      <th>subject_thorax_velocity</th>\n",
       "      <th>agent_thorax_velocity</th>\n",
       "      <th>subject_thorax_to_reward_port</th>\n",
       "      <th>agent_thorax_to_reward_port</th>\n",
       "    </tr>\n",
       "  </thead>\n",
       "  <tbody>\n",
       "  </tbody>\n",
       "</table>\n",
       "<p>0 rows × 49 columns</p>\n",
       "</div>"
      ],
      "text/plain": [
       "Empty DataFrame\n",
       "Columns: [cohort, session_dir, tone_frames, box_1_port_entry_frames, box_2_port_entry_frames, video_name, notes, session_path, recording, current_subject, subject, all_subjects, first_timestamp, last_timestamp, video_timestamps, tone_timestamps, box_1_port_entry_timestamps, box_2_port_entry_timestamps, lfp_timestamps, vHPC_lfp_trace, BLA_lfp_trace, LH_lfp_trace, MD_lfp_trace, mPFC_lfp_trace, recording_name, spike_clusters, spike_times, neuron_average_fr, neuron_average_timestamps, start_frame, stop_frame, tracked_subject, in_video_subjects, box_number, sleap_name, body_parts, box_bottom_right, reward_port, box_top_left, box_top_right, box_bottom_left, agent, subject_locations, frame_index, agent_locations, subject_thorax_velocity, agent_thorax_velocity, subject_thorax_to_reward_port, agent_thorax_to_reward_port]\n",
       "Index: []\n",
       "\n",
       "[0 rows x 49 columns]"
      ]
     },
     "execution_count": 109,
     "metadata": {},
     "output_type": "execute_result"
    }
   ],
   "source": [
    "LFP_AND_SLEAP_DF[LFP_AND_SLEAP_DF[\"subject_thorax_velocity\"].apply(lambda x: np.isnan(x).any())]"
   ]
  },
  {
   "cell_type": "markdown",
   "metadata": {},
   "source": [
    "## Exporting"
   ]
  },
  {
   "cell_type": "code",
   "execution_count": 110,
   "metadata": {
    "tags": []
   },
   "outputs": [
    {
     "data": {
      "text/plain": [
       "Index(['cohort', 'session_dir', 'tone_frames', 'box_1_port_entry_frames',\n",
       "       'box_2_port_entry_frames', 'video_name', 'notes', 'session_path',\n",
       "       'recording', 'current_subject', 'subject', 'all_subjects',\n",
       "       'first_timestamp', 'last_timestamp', 'video_timestamps',\n",
       "       'tone_timestamps', 'box_1_port_entry_timestamps',\n",
       "       'box_2_port_entry_timestamps', 'lfp_timestamps', 'vHPC_lfp_trace',\n",
       "       'BLA_lfp_trace', 'LH_lfp_trace', 'MD_lfp_trace', 'mPFC_lfp_trace',\n",
       "       'recording_name', 'spike_clusters', 'spike_times', 'neuron_average_fr',\n",
       "       'neuron_average_timestamps', 'start_frame', 'stop_frame',\n",
       "       'tracked_subject', 'in_video_subjects', 'box_number', 'sleap_name',\n",
       "       'body_parts', 'box_bottom_right', 'reward_port', 'box_top_left',\n",
       "       'box_top_right', 'box_bottom_left', 'agent', 'subject_locations',\n",
       "       'frame_index', 'agent_locations', 'subject_thorax_velocity',\n",
       "       'agent_thorax_velocity', 'subject_thorax_to_reward_port',\n",
       "       'agent_thorax_to_reward_port'],\n",
       "      dtype='object')"
      ]
     },
     "execution_count": 110,
     "metadata": {},
     "output_type": "execute_result"
    }
   ],
   "source": [
    "LFP_AND_SLEAP_DF.columns"
   ]
  },
  {
   "cell_type": "code",
   "execution_count": 111,
   "metadata": {
    "tags": []
   },
   "outputs": [
    {
     "data": {
      "text/plain": [
       "'rce_pilot_3_alone_comp_04_lfp_spike_sleap.pkl'"
      ]
     },
     "execution_count": 111,
     "metadata": {},
     "output_type": "execute_result"
    }
   ],
   "source": [
    "FULL_LFP_TRACES_PKL"
   ]
  },
  {
   "cell_type": "code",
   "execution_count": 112,
   "metadata": {
    "tags": []
   },
   "outputs": [],
   "source": [
    "LFP_AND_SLEAP_DF.to_pickle(os.path.join(OUTPUT_DIR, FULL_LFP_TRACES_PKL))"
   ]
  },
  {
   "cell_type": "code",
   "execution_count": 113,
   "metadata": {},
   "outputs": [
    {
     "data": {
      "text/html": [
       "<div>\n",
       "<style scoped>\n",
       "    .dataframe tbody tr th:only-of-type {\n",
       "        vertical-align: middle;\n",
       "    }\n",
       "\n",
       "    .dataframe tbody tr th {\n",
       "        vertical-align: top;\n",
       "    }\n",
       "\n",
       "    .dataframe thead th {\n",
       "        text-align: right;\n",
       "    }\n",
       "</style>\n",
       "<table border=\"1\" class=\"dataframe\">\n",
       "  <thead>\n",
       "    <tr style=\"text-align: right;\">\n",
       "      <th></th>\n",
       "      <th>cohort</th>\n",
       "      <th>session_dir</th>\n",
       "      <th>tone_frames</th>\n",
       "      <th>box_1_port_entry_frames</th>\n",
       "      <th>box_2_port_entry_frames</th>\n",
       "      <th>video_name</th>\n",
       "      <th>notes</th>\n",
       "      <th>session_path</th>\n",
       "      <th>recording</th>\n",
       "      <th>current_subject</th>\n",
       "      <th>...</th>\n",
       "      <th>box_top_right</th>\n",
       "      <th>box_bottom_left</th>\n",
       "      <th>agent</th>\n",
       "      <th>subject_locations</th>\n",
       "      <th>frame_index</th>\n",
       "      <th>agent_locations</th>\n",
       "      <th>subject_thorax_velocity</th>\n",
       "      <th>agent_thorax_velocity</th>\n",
       "      <th>subject_thorax_to_reward_port</th>\n",
       "      <th>agent_thorax_to_reward_port</th>\n",
       "    </tr>\n",
       "  </thead>\n",
       "  <tbody>\n",
       "    <tr>\n",
       "      <th>0</th>\n",
       "      <td>rce_pilot_3</td>\n",
       "      <td>20240317_151922_long_comp_subj_3-1_and_3-3</td>\n",
       "      <td>[[1, 88], [1286, 1486], [3282, 3482], [4480, 4...</td>\n",
       "      <td>[[1, 88], [259, 278], [310, 365], [366, 382], ...</td>\n",
       "      <td>[]</td>\n",
       "      <td>20240317_151922_long_comp_subj_3-1_and_3-3.1</td>\n",
       "      <td>NaN</td>\n",
       "      <td>/scratch/back_up/reward_competition_extention/...</td>\n",
       "      <td>20240317_151922_long_comp_subj_3-1_t6b6_merged</td>\n",
       "      <td>3.1</td>\n",
       "      <td>...</td>\n",
       "      <td>[73.57122102264293, 11.423230211638582]</td>\n",
       "      <td>[45.03093731344292, 35.761309141917415]</td>\n",
       "      <td>3.3</td>\n",
       "      <td>[[[58.961398589179765, 35.28935156776581], [57...</td>\n",
       "      <td>[1, 2, 3, 4, 5, 6, 7, 8, 9, 10, 11, 12, 13, 14...</td>\n",
       "      <td>[[[51.049592291310574, 19.27532173433335], [54...</td>\n",
       "      <td>[3.035, 2.855, 2.68, 2.512, 2.348, 2.19, 2.037...</td>\n",
       "      <td>[12.37, 11.99, 11.65, 11.336, 11.06, 10.81, 10...</td>\n",
       "      <td>[7.453, 7.25, 7.273, 7.062, 6.88, 6.617, 5.965...</td>\n",
       "      <td>[19.94, 20.16, 20.45, 20.8, 21.0, 20.98, 21.03...</td>\n",
       "    </tr>\n",
       "    <tr>\n",
       "      <th>1</th>\n",
       "      <td>rce_pilot_3</td>\n",
       "      <td>20240317_151922_long_comp_subj_3-1_and_3-3</td>\n",
       "      <td>[[1, 88], [1286, 1486], [3282, 3482], [4480, 4...</td>\n",
       "      <td>[[1, 88], [259, 278], [310, 365], [366, 382], ...</td>\n",
       "      <td>[]</td>\n",
       "      <td>20240317_151922_long_comp_subj_3-1_and_3-3.1</td>\n",
       "      <td>NaN</td>\n",
       "      <td>/scratch/back_up/reward_competition_extention/...</td>\n",
       "      <td>20240317_151922_long_comp_subj_3-3_t5b5_merged</td>\n",
       "      <td>3.3</td>\n",
       "      <td>...</td>\n",
       "      <td>[73.57122102264293, 11.423230211638582]</td>\n",
       "      <td>[45.03093731344292, 35.761309141917415]</td>\n",
       "      <td>3.1</td>\n",
       "      <td>[[[51.049592291310574, 19.27532173433335], [54...</td>\n",
       "      <td>[1, 2, 3, 4, 5, 6, 7, 8, 9, 10, 11, 12, 13, 14...</td>\n",
       "      <td>[[[58.961398589179765, 35.28935156776581], [57...</td>\n",
       "      <td>[12.37, 11.99, 11.65, 11.336, 11.06, 10.81, 10...</td>\n",
       "      <td>[3.035, 2.855, 2.68, 2.512, 2.348, 2.19, 2.037...</td>\n",
       "      <td>[19.94, 20.16, 20.45, 20.8, 21.0, 20.98, 21.03...</td>\n",
       "      <td>[7.453, 7.25, 7.273, 7.062, 6.88, 6.617, 5.965...</td>\n",
       "    </tr>\n",
       "    <tr>\n",
       "      <th>2</th>\n",
       "      <td>rce_pilot_3</td>\n",
       "      <td>20240317_172017_long_comp_subj_4-2_and_4-3</td>\n",
       "      <td>[[1, 102], [1300, 1501], [3297, 3497], [4494, ...</td>\n",
       "      <td>[[1, 102], [115, 153], [191, 245], [261, 263],...</td>\n",
       "      <td>[]</td>\n",
       "      <td>20240317_172017_long_comp_subj_4-2_and_4-3.1</td>\n",
       "      <td>NaN</td>\n",
       "      <td>/scratch/back_up/reward_competition_extention/...</td>\n",
       "      <td>20240317_172017_long_comp_subj_4-2_t6b6_merged</td>\n",
       "      <td>4.2</td>\n",
       "      <td>...</td>\n",
       "      <td>[73.77902458765409, 9.138890215293802]</td>\n",
       "      <td>[45.35645871188365, 33.78665543178387]</td>\n",
       "      <td>4.3</td>\n",
       "      <td>[[[62.54046053502408, 34.646917855927946], [59...</td>\n",
       "      <td>[1, 2, 3, 4, 5, 6, 7, 8, 9, 10, 11, 12, 13, 14...</td>\n",
       "      <td>[[[59.070922225644495, 9.032051361034663], [61...</td>\n",
       "      <td>[1.537, 1.132, 0.8584, 0.811, 0.987, 1.272, 1....</td>\n",
       "      <td>[15.766, 15.34, 15.016, 14.79, 14.66, 14.59, 1...</td>\n",
       "      <td>[5.25, 5.43, 5.523, 5.566, 5.547, 5.46, 5.258,...</td>\n",
       "      <td>[26.3, 26.12, 26.12, 26.12, 26.14, 26.17, 26.2...</td>\n",
       "    </tr>\n",
       "    <tr>\n",
       "      <th>3</th>\n",
       "      <td>rce_pilot_3</td>\n",
       "      <td>20240317_172017_long_comp_subj_4-2_and_4-3</td>\n",
       "      <td>[[1, 102], [1300, 1501], [3297, 3497], [4494, ...</td>\n",
       "      <td>[[1, 102], [115, 153], [191, 245], [261, 263],...</td>\n",
       "      <td>[]</td>\n",
       "      <td>20240317_172017_long_comp_subj_4-2_and_4-3.1</td>\n",
       "      <td>NaN</td>\n",
       "      <td>/scratch/back_up/reward_competition_extention/...</td>\n",
       "      <td>20240317_172017_long_comp_subj_4-3_t5b5_merged</td>\n",
       "      <td>4.3</td>\n",
       "      <td>...</td>\n",
       "      <td>[73.77902458765409, 9.138890215293802]</td>\n",
       "      <td>[45.35645871188365, 33.78665543178387]</td>\n",
       "      <td>4.2</td>\n",
       "      <td>[[[59.070922225644495, 9.032051361034663], [61...</td>\n",
       "      <td>[1, 2, 3, 4, 5, 6, 7, 8, 9, 10, 11, 12, 13, 14...</td>\n",
       "      <td>[[[62.54046053502408, 34.646917855927946], [59...</td>\n",
       "      <td>[15.766, 15.34, 15.016, 14.79, 14.66, 14.59, 1...</td>\n",
       "      <td>[1.537, 1.132, 0.8584, 0.811, 0.987, 1.272, 1....</td>\n",
       "      <td>[26.3, 26.12, 26.12, 26.12, 26.14, 26.17, 26.2...</td>\n",
       "      <td>[5.25, 5.43, 5.523, 5.566, 5.547, 5.46, 5.258,...</td>\n",
       "    </tr>\n",
       "    <tr>\n",
       "      <th>4</th>\n",
       "      <td>rce_pilot_3</td>\n",
       "      <td>20240318_143819_long_comp_subj_3-3_and_3-4</td>\n",
       "      <td>[[1, 125], [1334, 1533], [3330, 3529], [4528, ...</td>\n",
       "      <td>[[1, 125], [125, 181], [369, 401], [403, 446],...</td>\n",
       "      <td>[]</td>\n",
       "      <td>20240318_143819_long_comp_subj_3-3_and_3-4.1</td>\n",
       "      <td>NaN</td>\n",
       "      <td>/scratch/back_up/reward_competition_extention/...</td>\n",
       "      <td>20240318_143819_long_comp_subj_3-3_t6b6_merged</td>\n",
       "      <td>3.3</td>\n",
       "      <td>...</td>\n",
       "      <td>[74.70618240859957, 10.259858561906261]</td>\n",
       "      <td>[45.51706003228968, 34.29512637682901]</td>\n",
       "      <td>3.4</td>\n",
       "      <td>[[[76.32303058013719, 9.877634998966064], [79....</td>\n",
       "      <td>[1, 2, 3, 4, 5, 6, 7, 8, 9, 10, 11, 12, 13, 14...</td>\n",
       "      <td>[[[41.7841383440293, 12.629758340372002], [42....</td>\n",
       "      <td>[5.914, 5.984, 6.203, 6.54, 6.96, 7.438, 7.945...</td>\n",
       "      <td>[12.93, 12.14, 11.37, 10.62, 9.89, 9.19, 8.5, ...</td>\n",
       "      <td>[28.47, 28.61, 28.23, 28.73, 27.81, 27.25, 27....</td>\n",
       "      <td>[29.33, 10.49, 9.336, 9.17, 9.24, 9.16, 8.7, 8...</td>\n",
       "    </tr>\n",
       "  </tbody>\n",
       "</table>\n",
       "<p>5 rows × 49 columns</p>\n",
       "</div>"
      ],
      "text/plain": [
       "        cohort                                 session_dir  \\\n",
       "0  rce_pilot_3  20240317_151922_long_comp_subj_3-1_and_3-3   \n",
       "1  rce_pilot_3  20240317_151922_long_comp_subj_3-1_and_3-3   \n",
       "2  rce_pilot_3  20240317_172017_long_comp_subj_4-2_and_4-3   \n",
       "3  rce_pilot_3  20240317_172017_long_comp_subj_4-2_and_4-3   \n",
       "4  rce_pilot_3  20240318_143819_long_comp_subj_3-3_and_3-4   \n",
       "\n",
       "                                         tone_frames  \\\n",
       "0  [[1, 88], [1286, 1486], [3282, 3482], [4480, 4...   \n",
       "1  [[1, 88], [1286, 1486], [3282, 3482], [4480, 4...   \n",
       "2  [[1, 102], [1300, 1501], [3297, 3497], [4494, ...   \n",
       "3  [[1, 102], [1300, 1501], [3297, 3497], [4494, ...   \n",
       "4  [[1, 125], [1334, 1533], [3330, 3529], [4528, ...   \n",
       "\n",
       "                             box_1_port_entry_frames box_2_port_entry_frames  \\\n",
       "0  [[1, 88], [259, 278], [310, 365], [366, 382], ...                      []   \n",
       "1  [[1, 88], [259, 278], [310, 365], [366, 382], ...                      []   \n",
       "2  [[1, 102], [115, 153], [191, 245], [261, 263],...                      []   \n",
       "3  [[1, 102], [115, 153], [191, 245], [261, 263],...                      []   \n",
       "4  [[1, 125], [125, 181], [369, 401], [403, 446],...                      []   \n",
       "\n",
       "                                     video_name notes  \\\n",
       "0  20240317_151922_long_comp_subj_3-1_and_3-3.1   NaN   \n",
       "1  20240317_151922_long_comp_subj_3-1_and_3-3.1   NaN   \n",
       "2  20240317_172017_long_comp_subj_4-2_and_4-3.1   NaN   \n",
       "3  20240317_172017_long_comp_subj_4-2_and_4-3.1   NaN   \n",
       "4  20240318_143819_long_comp_subj_3-3_and_3-4.1   NaN   \n",
       "\n",
       "                                        session_path  \\\n",
       "0  /scratch/back_up/reward_competition_extention/...   \n",
       "1  /scratch/back_up/reward_competition_extention/...   \n",
       "2  /scratch/back_up/reward_competition_extention/...   \n",
       "3  /scratch/back_up/reward_competition_extention/...   \n",
       "4  /scratch/back_up/reward_competition_extention/...   \n",
       "\n",
       "                                        recording current_subject  ...  \\\n",
       "0  20240317_151922_long_comp_subj_3-1_t6b6_merged             3.1  ...   \n",
       "1  20240317_151922_long_comp_subj_3-3_t5b5_merged             3.3  ...   \n",
       "2  20240317_172017_long_comp_subj_4-2_t6b6_merged             4.2  ...   \n",
       "3  20240317_172017_long_comp_subj_4-3_t5b5_merged             4.3  ...   \n",
       "4  20240318_143819_long_comp_subj_3-3_t6b6_merged             3.3  ...   \n",
       "\n",
       "                             box_top_right  \\\n",
       "0  [73.57122102264293, 11.423230211638582]   \n",
       "1  [73.57122102264293, 11.423230211638582]   \n",
       "2   [73.77902458765409, 9.138890215293802]   \n",
       "3   [73.77902458765409, 9.138890215293802]   \n",
       "4  [74.70618240859957, 10.259858561906261]   \n",
       "\n",
       "                           box_bottom_left  agent  \\\n",
       "0  [45.03093731344292, 35.761309141917415]    3.3   \n",
       "1  [45.03093731344292, 35.761309141917415]    3.1   \n",
       "2   [45.35645871188365, 33.78665543178387]    4.3   \n",
       "3   [45.35645871188365, 33.78665543178387]    4.2   \n",
       "4   [45.51706003228968, 34.29512637682901]    3.4   \n",
       "\n",
       "                                   subject_locations  \\\n",
       "0  [[[58.961398589179765, 35.28935156776581], [57...   \n",
       "1  [[[51.049592291310574, 19.27532173433335], [54...   \n",
       "2  [[[62.54046053502408, 34.646917855927946], [59...   \n",
       "3  [[[59.070922225644495, 9.032051361034663], [61...   \n",
       "4  [[[76.32303058013719, 9.877634998966064], [79....   \n",
       "\n",
       "                                         frame_index  \\\n",
       "0  [1, 2, 3, 4, 5, 6, 7, 8, 9, 10, 11, 12, 13, 14...   \n",
       "1  [1, 2, 3, 4, 5, 6, 7, 8, 9, 10, 11, 12, 13, 14...   \n",
       "2  [1, 2, 3, 4, 5, 6, 7, 8, 9, 10, 11, 12, 13, 14...   \n",
       "3  [1, 2, 3, 4, 5, 6, 7, 8, 9, 10, 11, 12, 13, 14...   \n",
       "4  [1, 2, 3, 4, 5, 6, 7, 8, 9, 10, 11, 12, 13, 14...   \n",
       "\n",
       "                                     agent_locations  \\\n",
       "0  [[[51.049592291310574, 19.27532173433335], [54...   \n",
       "1  [[[58.961398589179765, 35.28935156776581], [57...   \n",
       "2  [[[59.070922225644495, 9.032051361034663], [61...   \n",
       "3  [[[62.54046053502408, 34.646917855927946], [59...   \n",
       "4  [[[41.7841383440293, 12.629758340372002], [42....   \n",
       "\n",
       "                             subject_thorax_velocity  \\\n",
       "0  [3.035, 2.855, 2.68, 2.512, 2.348, 2.19, 2.037...   \n",
       "1  [12.37, 11.99, 11.65, 11.336, 11.06, 10.81, 10...   \n",
       "2  [1.537, 1.132, 0.8584, 0.811, 0.987, 1.272, 1....   \n",
       "3  [15.766, 15.34, 15.016, 14.79, 14.66, 14.59, 1...   \n",
       "4  [5.914, 5.984, 6.203, 6.54, 6.96, 7.438, 7.945...   \n",
       "\n",
       "                               agent_thorax_velocity  \\\n",
       "0  [12.37, 11.99, 11.65, 11.336, 11.06, 10.81, 10...   \n",
       "1  [3.035, 2.855, 2.68, 2.512, 2.348, 2.19, 2.037...   \n",
       "2  [15.766, 15.34, 15.016, 14.79, 14.66, 14.59, 1...   \n",
       "3  [1.537, 1.132, 0.8584, 0.811, 0.987, 1.272, 1....   \n",
       "4  [12.93, 12.14, 11.37, 10.62, 9.89, 9.19, 8.5, ...   \n",
       "\n",
       "                       subject_thorax_to_reward_port  \\\n",
       "0  [7.453, 7.25, 7.273, 7.062, 6.88, 6.617, 5.965...   \n",
       "1  [19.94, 20.16, 20.45, 20.8, 21.0, 20.98, 21.03...   \n",
       "2  [5.25, 5.43, 5.523, 5.566, 5.547, 5.46, 5.258,...   \n",
       "3  [26.3, 26.12, 26.12, 26.12, 26.14, 26.17, 26.2...   \n",
       "4  [28.47, 28.61, 28.23, 28.73, 27.81, 27.25, 27....   \n",
       "\n",
       "                         agent_thorax_to_reward_port  \n",
       "0  [19.94, 20.16, 20.45, 20.8, 21.0, 20.98, 21.03...  \n",
       "1  [7.453, 7.25, 7.273, 7.062, 6.88, 6.617, 5.965...  \n",
       "2  [26.3, 26.12, 26.12, 26.12, 26.14, 26.17, 26.2...  \n",
       "3  [5.25, 5.43, 5.523, 5.566, 5.547, 5.46, 5.258,...  \n",
       "4  [29.33, 10.49, 9.336, 9.17, 9.24, 9.16, 8.7, 8...  \n",
       "\n",
       "[5 rows x 49 columns]"
      ]
     },
     "execution_count": 113,
     "metadata": {},
     "output_type": "execute_result"
    }
   ],
   "source": [
    "LFP_AND_SLEAP_DF.head()"
   ]
  },
  {
   "cell_type": "code",
   "execution_count": 114,
   "metadata": {
    "tags": []
   },
   "outputs": [
    {
     "name": "stdout",
     "output_type": "stream",
     "text": [
      "cohort\n",
      "session_dir\n",
      "tone_frames\n",
      "box_1_port_entry_frames\n",
      "box_2_port_entry_frames\n",
      "video_name\n",
      "notes\n",
      "session_path\n",
      "recording\n",
      "current_subject\n",
      "subject\n",
      "all_subjects\n",
      "first_timestamp\n",
      "last_timestamp\n",
      "video_timestamps\n",
      "tone_timestamps\n",
      "box_1_port_entry_timestamps\n",
      "box_2_port_entry_timestamps\n",
      "lfp_timestamps\n",
      "vHPC_lfp_trace\n",
      "BLA_lfp_trace\n",
      "LH_lfp_trace\n",
      "MD_lfp_trace\n",
      "mPFC_lfp_trace\n",
      "recording_name\n",
      "spike_clusters\n",
      "spike_times\n",
      "neuron_average_fr\n",
      "neuron_average_timestamps\n",
      "start_frame\n",
      "stop_frame\n",
      "tracked_subject\n",
      "in_video_subjects\n",
      "box_number\n",
      "sleap_name\n",
      "body_parts\n",
      "box_bottom_right\n",
      "reward_port\n",
      "box_top_left\n",
      "box_top_right\n",
      "box_bottom_left\n",
      "agent\n",
      "subject_locations\n",
      "frame_index\n",
      "agent_locations\n",
      "subject_thorax_velocity\n",
      "agent_thorax_velocity\n",
      "subject_thorax_to_reward_port\n",
      "agent_thorax_to_reward_port\n"
     ]
    }
   ],
   "source": [
    "for col in LFP_AND_SLEAP_DF.columns:\n",
    "    print(col)"
   ]
  },
  {
   "cell_type": "code",
   "execution_count": 115,
   "metadata": {},
   "outputs": [
    {
     "ename": "ValueError",
     "evalue": "",
     "output_type": "error",
     "traceback": [
      "\u001b[0;31m---------------------------------------------------------------------------\u001b[0m",
      "\u001b[0;31mValueError\u001b[0m                                Traceback (most recent call last)",
      "Cell \u001b[0;32mIn[115], line 1\u001b[0m\n\u001b[0;32m----> 1\u001b[0m \u001b[38;5;28;01mraise\u001b[39;00m \u001b[38;5;167;01mValueError\u001b[39;00m()\n",
      "\u001b[0;31mValueError\u001b[0m: "
     ]
    }
   ],
   "source": [
    "raise ValueError()"
   ]
  }
 ],
 "metadata": {
  "deepnote": {},
  "deepnote_execution_queue": [],
  "deepnote_notebook_id": "cf8fe3695d074ee7887fdf6459cbf5ce",
  "kernelspec": {
   "display_name": "mountainsort_0_5_6",
   "language": "python",
   "name": "python3"
  },
  "language_info": {
   "codemirror_mode": {
    "name": "ipython",
    "version": 3
   },
   "file_extension": ".py",
   "mimetype": "text/x-python",
   "name": "python",
   "nbconvert_exporter": "python",
   "pygments_lexer": "ipython3",
   "version": "3.9.19"
  }
 },
 "nbformat": 4,
 "nbformat_minor": 4
}
