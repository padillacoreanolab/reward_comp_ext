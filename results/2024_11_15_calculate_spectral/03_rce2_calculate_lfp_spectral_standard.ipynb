{
 "cells": [
  {
   "cell_type": "markdown",
   "metadata": {
    "cell_id": "c3a02adc9e884466bc8c79db549cc3d2",
    "deepnote_cell_type": "text-cell-h1",
    "formattedRanges": [
     {
      "fromCodePoint": 0,
      "marks": {
       "bold": true,
       "underline": true
      },
      "toCodePoint": 17,
      "type": "marks"
     }
    ]
   },
   "source": [
    "# All oscillation analysis"
   ]
  },
  {
   "cell_type": "markdown",
   "metadata": {
    "cell_id": "4546bee655b14a5dbf393161f1228e60",
    "deepnote_cell_type": "text-cell-p",
    "formattedRanges": []
   },
   "source": [
    "Brief 1-2 sentence description of notebook."
   ]
  },
  {
   "cell_type": "code",
   "execution_count": 1,
   "metadata": {
    "tags": []
   },
   "outputs": [],
   "source": [
    "import warnings\n",
    "warnings.filterwarnings('ignore')"
   ]
  },
  {
   "cell_type": "code",
   "execution_count": 2,
   "metadata": {
    "tags": []
   },
   "outputs": [],
   "source": [
    "import os\n",
    "import collections\n",
    "import itertools\n",
    "from collections import defaultdict\n",
    "from itertools import combinations"
   ]
  },
  {
   "cell_type": "code",
   "execution_count": 3,
   "metadata": {
    "tags": []
   },
   "outputs": [],
   "source": [
    "os.environ[\"SPECTRAL_CONNECTIVITY_ENABLE_GPU\"] = \"true\"\n",
    "import cupy as cp"
   ]
  },
  {
   "cell_type": "code",
   "execution_count": 4,
   "metadata": {
    "cell_id": "03b495cefa6a4798a44c7f2e4c6a3ea7",
    "deepnote_cell_type": "code",
    "deepnote_to_be_reexecuted": false,
    "execution_millis": 21,
    "execution_start": 1691424003626,
    "source_hash": null,
    "tags": []
   },
   "outputs": [],
   "source": [
    "# Imports of all used packages and libraries\n",
    "import numpy as np\n",
    "import pandas as pd\n",
    "from scipy import stats\n"
   ]
  },
  {
   "cell_type": "code",
   "execution_count": 5,
   "metadata": {
    "tags": []
   },
   "outputs": [],
   "source": [
    "import matplotlib\n",
    "import matplotlib.pyplot as plt"
   ]
  },
  {
   "cell_type": "code",
   "execution_count": 6,
   "metadata": {
    "tags": []
   },
   "outputs": [],
   "source": [
    "from spectral_connectivity import Multitaper, Connectivity\n",
    "import spectral_connectivity"
   ]
  },
  {
   "cell_type": "code",
   "execution_count": 7,
   "metadata": {},
   "outputs": [],
   "source": [
    "from scipy.signal import butter, filtfilt, hilbert"
   ]
  },
  {
   "cell_type": "markdown",
   "metadata": {},
   "source": [
    "# Functions"
   ]
  },
  {
   "cell_type": "code",
   "execution_count": 8,
   "metadata": {
    "tags": []
   },
   "outputs": [],
   "source": [
    "def generate_pairs(lst):\n",
    "    \"\"\"\n",
    "    Generates all unique pairs from a list.\n",
    "\n",
    "    Parameters:\n",
    "    - lst (list): The list to generate pairs from.\n",
    "\n",
    "    Returns:\n",
    "    - list: A list of tuples, each containing a unique pair from the input list.\n",
    "    \"\"\"\n",
    "    n = len(lst)\n",
    "    return [(lst[i], lst[j]) for i in range(n) for j in range(i+1, n)]"
   ]
  },
  {
   "cell_type": "code",
   "execution_count": 9,
   "metadata": {
    "tags": []
   },
   "outputs": [],
   "source": [
    "def update_array_by_mask(array, mask, value=np.nan):\n",
    "    \"\"\"\n",
    "    Update elements of an array specified by a mask with a given value.\n",
    "    \n",
    "    Parameters:\n",
    "        array (np.ndarray): The original array to be modified.\n",
    "        mask (np.ndarray): A boolean array of the same shape as `array`.\n",
    "                           Elements of `array` corresponding to True in the `mask`\n",
    "                           will be updated.\n",
    "        value (scalar, optional): The value to assign to elements of `array` specified by `mask`.\n",
    "                                  Default is np.nan.\n",
    "    \n",
    "    Returns:\n",
    "        np.ndarray: A copy of `array` with the specified elements updated.\n",
    "    \"\"\"\n",
    "    result = array.copy()  # Create a copy of the input array to modify\n",
    "    result[mask] = value   # Apply the mask to update the designated elements\n",
    "    return result"
   ]
  },
  {
   "cell_type": "markdown",
   "metadata": {
    "cell_id": "d290bac2c17940bfbc0f9296beaf70e5",
    "deepnote_cell_type": "text-cell-h2",
    "formattedRanges": []
   },
   "source": [
    "## Inputs & Data"
   ]
  },
  {
   "cell_type": "markdown",
   "metadata": {
    "cell_id": "e528ce19c608425292151930d380f49f",
    "deepnote_cell_type": "text-cell-p",
    "formattedRanges": []
   },
   "source": [
    "Explanation of each input and where it comes from."
   ]
  },
  {
   "cell_type": "code",
   "execution_count": 10,
   "metadata": {
    "cell_id": "6cf83a5811054461a718a71673d09aab",
    "deepnote_cell_type": "code",
    "deepnote_to_be_reexecuted": false,
    "execution_millis": 373,
    "execution_start": 1691424003628,
    "source_hash": null,
    "tags": []
   },
   "outputs": [],
   "source": [
    "# Inputs and Required data loading\n",
    "# input varaible names are in all caps snake case\n",
    "# Whenever an input changes or is used for processing \n",
    "# the vairables are all lower in snake case\n",
    "OUTPUT_DIR = r\"./proc\" # where data is saved should always be shown in the inputs"
   ]
  },
  {
   "cell_type": "code",
   "execution_count": 11,
   "metadata": {
    "tags": []
   },
   "outputs": [],
   "source": [
    "TIME_HALFBANDWIDTH_PRODUCT = 2\n",
    "TIME_WINDOW_DURATION = 1\n",
    "TIME_WINDOW_STEP = 0.5\n",
    "RESAMPLE_RATE=1000"
   ]
  },
  {
   "cell_type": "code",
   "execution_count": 12,
   "metadata": {
    "tags": []
   },
   "outputs": [],
   "source": [
    "zscore_threshold = 4\n",
    "VOLTAGE_SCALING_VALUE = 0.195"
   ]
  },
  {
   "cell_type": "code",
   "execution_count": 13,
   "metadata": {
    "tags": []
   },
   "outputs": [],
   "source": [
    "FILTER_BAND = (0, 56)"
   ]
  },
  {
   "cell_type": "code",
   "execution_count": 14,
   "metadata": {},
   "outputs": [],
   "source": [
    "OUTPUT_PREFIX = \"rce_pilot_2_standard\""
   ]
  },
  {
   "cell_type": "code",
   "execution_count": 15,
   "metadata": {
    "tags": []
   },
   "outputs": [],
   "source": [
    "LFP_TRACES_DF = pd.read_pickle(\"../2024_11_14_add_spike_times/proc/{}_02_lfp_traces_and_spikes.pkl\".format(OUTPUT_PREFIX))\n"
   ]
  },
  {
   "cell_type": "code",
   "execution_count": 16,
   "metadata": {
    "tags": []
   },
   "outputs": [
    {
     "data": {
      "text/plain": [
       "(4, 28)"
      ]
     },
     "execution_count": 16,
     "metadata": {},
     "output_type": "execute_result"
    }
   ],
   "source": [
    "LFP_TRACES_DF.shape"
   ]
  },
  {
   "cell_type": "markdown",
   "metadata": {},
   "source": [
    "## Preprocessing"
   ]
  },
  {
   "cell_type": "code",
   "execution_count": 17,
   "metadata": {
    "tags": []
   },
   "outputs": [],
   "source": [
    "original_trace_columns = [col for col in LFP_TRACES_DF.columns if \"trace\" in col]"
   ]
  },
  {
   "cell_type": "code",
   "execution_count": 18,
   "metadata": {
    "tags": []
   },
   "outputs": [
    {
     "data": {
      "text/plain": [
       "['mPFC_lfp_trace',\n",
       " 'MD_lfp_trace',\n",
       " 'LH_lfp_trace',\n",
       " 'BLA_lfp_trace',\n",
       " 'vHPC_lfp_trace']"
      ]
     },
     "execution_count": 18,
     "metadata": {},
     "output_type": "execute_result"
    }
   ],
   "source": [
    "original_trace_columns"
   ]
  },
  {
   "cell_type": "code",
   "execution_count": 19,
   "metadata": {
    "tags": []
   },
   "outputs": [
    {
     "name": "stdout",
     "output_type": "stream",
     "text": [
      "mPFC_lfp_trace\n",
      "MD_lfp_trace\n",
      "LH_lfp_trace\n",
      "BLA_lfp_trace\n",
      "vHPC_lfp_trace\n"
     ]
    }
   ],
   "source": [
    "for col in original_trace_columns:\n",
    "    print(col)\n",
    "    LFP_TRACES_DF[col] = LFP_TRACES_DF[col].apply(lambda x: x.astype(np.float32) * VOLTAGE_SCALING_VALUE)"
   ]
  },
  {
   "cell_type": "code",
   "execution_count": 20,
   "metadata": {
    "tags": []
   },
   "outputs": [
    {
     "data": {
      "text/html": [
       "<div>\n",
       "<style scoped>\n",
       "    .dataframe tbody tr th:only-of-type {\n",
       "        vertical-align: middle;\n",
       "    }\n",
       "\n",
       "    .dataframe tbody tr th {\n",
       "        vertical-align: top;\n",
       "    }\n",
       "\n",
       "    .dataframe thead th {\n",
       "        text-align: right;\n",
       "    }\n",
       "</style>\n",
       "<table border=\"1\" class=\"dataframe\">\n",
       "  <thead>\n",
       "    <tr style=\"text-align: right;\">\n",
       "      <th></th>\n",
       "      <th>cohort</th>\n",
       "      <th>session_dir</th>\n",
       "      <th>tone_frames</th>\n",
       "      <th>box_1_port_entry_frames</th>\n",
       "      <th>box_2_port_entry_frames</th>\n",
       "      <th>video_name</th>\n",
       "      <th>session_path</th>\n",
       "      <th>recording</th>\n",
       "      <th>current_subject</th>\n",
       "      <th>subject</th>\n",
       "      <th>...</th>\n",
       "      <th>mPFC_lfp_trace</th>\n",
       "      <th>MD_lfp_trace</th>\n",
       "      <th>LH_lfp_trace</th>\n",
       "      <th>BLA_lfp_trace</th>\n",
       "      <th>vHPC_lfp_trace</th>\n",
       "      <th>recording_name</th>\n",
       "      <th>spike_clusters</th>\n",
       "      <th>spike_times</th>\n",
       "      <th>neuron_average_fr</th>\n",
       "      <th>neuron_average_timestamps</th>\n",
       "    </tr>\n",
       "  </thead>\n",
       "  <tbody>\n",
       "    <tr>\n",
       "      <th>0</th>\n",
       "      <td>2</td>\n",
       "      <td>20230616_111904_standard_comp_to_training_D4_s...</td>\n",
       "      <td>[[87, 287], [2483, 2683], [4778, 4979], [6575,...</td>\n",
       "      <td>[[338, 339], [341, 385], [385, 482], [696, 703...</td>\n",
       "      <td>[[31729, 31729], [31731, 31732], [31733, 31735...</td>\n",
       "      <td>20230616_111904_standard_comp_to_training_D4_s...</td>\n",
       "      <td>/scratch/back_up/reward_competition_extention/...</td>\n",
       "      <td>20230616_111904_standard_comp_to_training_D4_s...</td>\n",
       "      <td>1.2</td>\n",
       "      <td>1.2</td>\n",
       "      <td>...</td>\n",
       "      <td>[-4.875, 25.544998, 36.27, 23.205, 31.784998, ...</td>\n",
       "      <td>[-12.089999, 19.5, 30.224998, 9.554999, 17.355...</td>\n",
       "      <td>[-12.674999, 14.82, 16.185, -0.78, 21.255, 41....</td>\n",
       "      <td>[-31.98, -24.375, -24.375, -35.295, -40.949997...</td>\n",
       "      <td>[-111.92999, -96.329994, -84.435, -91.454994, ...</td>\n",
       "      <td>20230616_111904_standard_comp_to_training_D4_s...</td>\n",
       "      <td>[13, 43, 46, 67, 68, 120, 128, 133, 151, 193, ...</td>\n",
       "      <td>[[164503.0, 214157.0, 219948.0, 228496.0, 2542...</td>\n",
       "      <td>[[0.0, 0.0, 0.0, 0.0, 0.0, 0.0, 0.0, 0.0, 0.0,...</td>\n",
       "      <td>[0, 2000, 4000, 6000, 8000, 10000, 12000, 1400...</td>\n",
       "    </tr>\n",
       "    <tr>\n",
       "      <th>1</th>\n",
       "      <td>2</td>\n",
       "      <td>20230616_111904_standard_comp_to_training_D4_s...</td>\n",
       "      <td>[[109, 358], [3101, 3349], [5967, 6217], [8211...</td>\n",
       "      <td>[[422, 423], [425, 480], [480, 601], [869, 877...</td>\n",
       "      <td>[[36005, 36005], [36006, 36008], [36009, 36010...</td>\n",
       "      <td>20230616_111904_standard_comp_to_training_D4_s...</td>\n",
       "      <td>/scratch/back_up/reward_competition_extention/...</td>\n",
       "      <td>20230616_111904_standard_comp_to_training_D4_s...</td>\n",
       "      <td>1.2</td>\n",
       "      <td>1.2</td>\n",
       "      <td>...</td>\n",
       "      <td>[-4.875, 25.544998, 36.27, 23.205, 31.784998, ...</td>\n",
       "      <td>[-12.089999, 19.5, 30.224998, 9.554999, 17.355...</td>\n",
       "      <td>[-12.674999, 14.82, 16.185, -0.78, 21.255, 41....</td>\n",
       "      <td>[-31.98, -24.375, -24.375, -35.295, -40.949997...</td>\n",
       "      <td>[-111.92999, -96.329994, -84.435, -91.454994, ...</td>\n",
       "      <td>20230616_111904_standard_comp_to_training_D4_s...</td>\n",
       "      <td>[13, 43, 46, 67, 68, 120, 128, 133, 151, 193, ...</td>\n",
       "      <td>[[164503.0, 214157.0, 219948.0, 228496.0, 2542...</td>\n",
       "      <td>[[0.0, 0.0, 0.0, 0.0, 0.0, 0.0, 0.0, 0.0, 0.0,...</td>\n",
       "      <td>[0, 2000, 4000, 6000, 8000, 10000, 12000, 1400...</td>\n",
       "    </tr>\n",
       "    <tr>\n",
       "      <th>2</th>\n",
       "      <td>2</td>\n",
       "      <td>20230616_111904_standard_comp_to_training_D4_s...</td>\n",
       "      <td>[[87, 287], [2483, 2683], [4778, 4979], [6575,...</td>\n",
       "      <td>[[338, 339], [341, 385], [385, 482], [696, 703...</td>\n",
       "      <td>[[31729, 31729], [31731, 31732], [31733, 31735...</td>\n",
       "      <td>20230616_111904_standard_comp_to_training_D4_s...</td>\n",
       "      <td>/scratch/back_up/reward_competition_extention/...</td>\n",
       "      <td>20230616_111904_standard_comp_to_training_D4_s...</td>\n",
       "      <td>1.4</td>\n",
       "      <td>1.4</td>\n",
       "      <td>...</td>\n",
       "      <td>[-16.38, -13.65, -0.97499996, 17.16, 30.81, 32...</td>\n",
       "      <td>[40.17, 62.789997, 76.049995, 78.78, 107.835, ...</td>\n",
       "      <td>[1.7549999, 2.34, 9.165, 22.23, 41.34, 55.3799...</td>\n",
       "      <td>[18.33, 34.71, 52.065, 62.399998, 76.049995, 7...</td>\n",
       "      <td>[22.619999, 41.144997, 55.379997, 50.699997, 5...</td>\n",
       "      <td>20230616_111904_standard_comp_to_training_D4_s...</td>\n",
       "      <td>[7, 23, 30, 53, 64, 73, 80, 90, 100, 102, 104,...</td>\n",
       "      <td>[[15575.0, 17748.0, 19503.0, 22868.0, 29093.0,...</td>\n",
       "      <td>[[0.0, 0.0, 0.0, 0.0, 0.0, 0.0, 0.0, 1.0, 1.0,...</td>\n",
       "      <td>[0, 2000, 4000, 6000, 8000, 10000, 12000, 1400...</td>\n",
       "    </tr>\n",
       "    <tr>\n",
       "      <th>3</th>\n",
       "      <td>2</td>\n",
       "      <td>20230616_111904_standard_comp_to_training_D4_s...</td>\n",
       "      <td>[[109, 358], [3101, 3349], [5967, 6217], [8211...</td>\n",
       "      <td>[[422, 423], [425, 480], [480, 601], [869, 877...</td>\n",
       "      <td>[[36005, 36005], [36006, 36008], [36009, 36010...</td>\n",
       "      <td>20230616_111904_standard_comp_to_training_D4_s...</td>\n",
       "      <td>/scratch/back_up/reward_competition_extention/...</td>\n",
       "      <td>20230616_111904_standard_comp_to_training_D4_s...</td>\n",
       "      <td>1.4</td>\n",
       "      <td>1.4</td>\n",
       "      <td>...</td>\n",
       "      <td>[-16.38, -13.65, -0.97499996, 17.16, 30.81, 32...</td>\n",
       "      <td>[40.17, 62.789997, 76.049995, 78.78, 107.835, ...</td>\n",
       "      <td>[1.7549999, 2.34, 9.165, 22.23, 41.34, 55.3799...</td>\n",
       "      <td>[18.33, 34.71, 52.065, 62.399998, 76.049995, 7...</td>\n",
       "      <td>[22.619999, 41.144997, 55.379997, 50.699997, 5...</td>\n",
       "      <td>20230616_111904_standard_comp_to_training_D4_s...</td>\n",
       "      <td>[7, 23, 30, 53, 64, 73, 80, 90, 100, 102, 104,...</td>\n",
       "      <td>[[15575.0, 17748.0, 19503.0, 22868.0, 29093.0,...</td>\n",
       "      <td>[[0.0, 0.0, 0.0, 0.0, 0.0, 0.0, 0.0, 1.0, 1.0,...</td>\n",
       "      <td>[0, 2000, 4000, 6000, 8000, 10000, 12000, 1400...</td>\n",
       "    </tr>\n",
       "  </tbody>\n",
       "</table>\n",
       "<p>4 rows × 28 columns</p>\n",
       "</div>"
      ],
      "text/plain": [
       "   cohort                                        session_dir  \\\n",
       "0       2  20230616_111904_standard_comp_to_training_D4_s...   \n",
       "1       2  20230616_111904_standard_comp_to_training_D4_s...   \n",
       "2       2  20230616_111904_standard_comp_to_training_D4_s...   \n",
       "3       2  20230616_111904_standard_comp_to_training_D4_s...   \n",
       "\n",
       "                                         tone_frames  \\\n",
       "0  [[87, 287], [2483, 2683], [4778, 4979], [6575,...   \n",
       "1  [[109, 358], [3101, 3349], [5967, 6217], [8211...   \n",
       "2  [[87, 287], [2483, 2683], [4778, 4979], [6575,...   \n",
       "3  [[109, 358], [3101, 3349], [5967, 6217], [8211...   \n",
       "\n",
       "                             box_1_port_entry_frames  \\\n",
       "0  [[338, 339], [341, 385], [385, 482], [696, 703...   \n",
       "1  [[422, 423], [425, 480], [480, 601], [869, 877...   \n",
       "2  [[338, 339], [341, 385], [385, 482], [696, 703...   \n",
       "3  [[422, 423], [425, 480], [480, 601], [869, 877...   \n",
       "\n",
       "                             box_2_port_entry_frames  \\\n",
       "0  [[31729, 31729], [31731, 31732], [31733, 31735...   \n",
       "1  [[36005, 36005], [36006, 36008], [36009, 36010...   \n",
       "2  [[31729, 31729], [31731, 31732], [31733, 31735...   \n",
       "3  [[36005, 36005], [36006, 36008], [36009, 36010...   \n",
       "\n",
       "                                          video_name  \\\n",
       "0  20230616_111904_standard_comp_to_training_D4_s...   \n",
       "1  20230616_111904_standard_comp_to_training_D4_s...   \n",
       "2  20230616_111904_standard_comp_to_training_D4_s...   \n",
       "3  20230616_111904_standard_comp_to_training_D4_s...   \n",
       "\n",
       "                                        session_path  \\\n",
       "0  /scratch/back_up/reward_competition_extention/...   \n",
       "1  /scratch/back_up/reward_competition_extention/...   \n",
       "2  /scratch/back_up/reward_competition_extention/...   \n",
       "3  /scratch/back_up/reward_competition_extention/...   \n",
       "\n",
       "                                           recording current_subject subject  \\\n",
       "0  20230616_111904_standard_comp_to_training_D4_s...             1.2     1.2   \n",
       "1  20230616_111904_standard_comp_to_training_D4_s...             1.2     1.2   \n",
       "2  20230616_111904_standard_comp_to_training_D4_s...             1.4     1.4   \n",
       "3  20230616_111904_standard_comp_to_training_D4_s...             1.4     1.4   \n",
       "\n",
       "   ...                                     mPFC_lfp_trace  \\\n",
       "0  ...  [-4.875, 25.544998, 36.27, 23.205, 31.784998, ...   \n",
       "1  ...  [-4.875, 25.544998, 36.27, 23.205, 31.784998, ...   \n",
       "2  ...  [-16.38, -13.65, -0.97499996, 17.16, 30.81, 32...   \n",
       "3  ...  [-16.38, -13.65, -0.97499996, 17.16, 30.81, 32...   \n",
       "\n",
       "                                        MD_lfp_trace  \\\n",
       "0  [-12.089999, 19.5, 30.224998, 9.554999, 17.355...   \n",
       "1  [-12.089999, 19.5, 30.224998, 9.554999, 17.355...   \n",
       "2  [40.17, 62.789997, 76.049995, 78.78, 107.835, ...   \n",
       "3  [40.17, 62.789997, 76.049995, 78.78, 107.835, ...   \n",
       "\n",
       "                                        LH_lfp_trace  \\\n",
       "0  [-12.674999, 14.82, 16.185, -0.78, 21.255, 41....   \n",
       "1  [-12.674999, 14.82, 16.185, -0.78, 21.255, 41....   \n",
       "2  [1.7549999, 2.34, 9.165, 22.23, 41.34, 55.3799...   \n",
       "3  [1.7549999, 2.34, 9.165, 22.23, 41.34, 55.3799...   \n",
       "\n",
       "                                       BLA_lfp_trace  \\\n",
       "0  [-31.98, -24.375, -24.375, -35.295, -40.949997...   \n",
       "1  [-31.98, -24.375, -24.375, -35.295, -40.949997...   \n",
       "2  [18.33, 34.71, 52.065, 62.399998, 76.049995, 7...   \n",
       "3  [18.33, 34.71, 52.065, 62.399998, 76.049995, 7...   \n",
       "\n",
       "                                      vHPC_lfp_trace  \\\n",
       "0  [-111.92999, -96.329994, -84.435, -91.454994, ...   \n",
       "1  [-111.92999, -96.329994, -84.435, -91.454994, ...   \n",
       "2  [22.619999, 41.144997, 55.379997, 50.699997, 5...   \n",
       "3  [22.619999, 41.144997, 55.379997, 50.699997, 5...   \n",
       "\n",
       "                                      recording_name  \\\n",
       "0  20230616_111904_standard_comp_to_training_D4_s...   \n",
       "1  20230616_111904_standard_comp_to_training_D4_s...   \n",
       "2  20230616_111904_standard_comp_to_training_D4_s...   \n",
       "3  20230616_111904_standard_comp_to_training_D4_s...   \n",
       "\n",
       "                                      spike_clusters  \\\n",
       "0  [13, 43, 46, 67, 68, 120, 128, 133, 151, 193, ...   \n",
       "1  [13, 43, 46, 67, 68, 120, 128, 133, 151, 193, ...   \n",
       "2  [7, 23, 30, 53, 64, 73, 80, 90, 100, 102, 104,...   \n",
       "3  [7, 23, 30, 53, 64, 73, 80, 90, 100, 102, 104,...   \n",
       "\n",
       "                                         spike_times  \\\n",
       "0  [[164503.0, 214157.0, 219948.0, 228496.0, 2542...   \n",
       "1  [[164503.0, 214157.0, 219948.0, 228496.0, 2542...   \n",
       "2  [[15575.0, 17748.0, 19503.0, 22868.0, 29093.0,...   \n",
       "3  [[15575.0, 17748.0, 19503.0, 22868.0, 29093.0,...   \n",
       "\n",
       "                                   neuron_average_fr  \\\n",
       "0  [[0.0, 0.0, 0.0, 0.0, 0.0, 0.0, 0.0, 0.0, 0.0,...   \n",
       "1  [[0.0, 0.0, 0.0, 0.0, 0.0, 0.0, 0.0, 0.0, 0.0,...   \n",
       "2  [[0.0, 0.0, 0.0, 0.0, 0.0, 0.0, 0.0, 1.0, 1.0,...   \n",
       "3  [[0.0, 0.0, 0.0, 0.0, 0.0, 0.0, 0.0, 1.0, 1.0,...   \n",
       "\n",
       "                           neuron_average_timestamps  \n",
       "0  [0, 2000, 4000, 6000, 8000, 10000, 12000, 1400...  \n",
       "1  [0, 2000, 4000, 6000, 8000, 10000, 12000, 1400...  \n",
       "2  [0, 2000, 4000, 6000, 8000, 10000, 12000, 1400...  \n",
       "3  [0, 2000, 4000, 6000, 8000, 10000, 12000, 1400...  \n",
       "\n",
       "[4 rows x 28 columns]"
      ]
     },
     "execution_count": 20,
     "metadata": {},
     "output_type": "execute_result"
    }
   ],
   "source": [
    "LFP_TRACES_DF.head()"
   ]
  },
  {
   "cell_type": "markdown",
   "metadata": {},
   "source": [
    "# Calculating modified zscore"
   ]
  },
  {
   "cell_type": "markdown",
   "metadata": {},
   "source": [
    "`0.6745(xi – x̃) / MAD`"
   ]
  },
  {
   "cell_type": "code",
   "execution_count": 21,
   "metadata": {},
   "outputs": [
    {
     "name": "stdout",
     "output_type": "stream",
     "text": [
      "mPFC_lfp_trace\n",
      "MD_lfp_trace\n",
      "LH_lfp_trace\n",
      "BLA_lfp_trace\n",
      "vHPC_lfp_trace\n"
     ]
    }
   ],
   "source": [
    "for col in original_trace_columns:\n",
    "    print(col)\n",
    "    brain_region = col.split(\"_\")[0]\n",
    "    updated_column = \"{}_lfp_MAD\".format(brain_region)\n",
    "    LFP_TRACES_DF[updated_column] = LFP_TRACES_DF[col].apply(lambda x: stats.median_abs_deviation(x))"
   ]
  },
  {
   "cell_type": "code",
   "execution_count": 22,
   "metadata": {},
   "outputs": [
    {
     "name": "stdout",
     "output_type": "stream",
     "text": [
      "mPFC_lfp_trace\n",
      "MD_lfp_trace\n",
      "LH_lfp_trace\n",
      "BLA_lfp_trace\n",
      "vHPC_lfp_trace\n"
     ]
    }
   ],
   "source": [
    "for col in original_trace_columns:\n",
    "    print(col)\n",
    "    brain_region = col.split(\"_\")[0]\n",
    "    updated_column = \"{}_lfp_modified_zscore\".format(brain_region)\n",
    "    MAD_column = \"{}_lfp_MAD\".format(brain_region)\n",
    "\n",
    "    LFP_TRACES_DF[updated_column] = LFP_TRACES_DF.apply(lambda x: 0.6745 * (x[col] - np.median(x[col])) / x[MAD_column], axis=1)"
   ]
  },
  {
   "cell_type": "code",
   "execution_count": 23,
   "metadata": {},
   "outputs": [
    {
     "data": {
      "text/plain": [
       "0    [-0.6733249, -0.579318, -0.5076376, -0.5499407...\n",
       "1    [-0.6733249, -0.579318, -0.5076376, -0.5499407...\n",
       "2    [0.28696907, 0.5199781, 0.69902724, 0.64016175...\n",
       "3    [0.28696907, 0.5199781, 0.69902724, 0.64016175...\n",
       "Name: vHPC_lfp_modified_zscore, dtype: object"
      ]
     },
     "execution_count": 23,
     "metadata": {},
     "output_type": "execute_result"
    }
   ],
   "source": [
    "LFP_TRACES_DF[updated_column]"
   ]
  },
  {
   "cell_type": "markdown",
   "metadata": {},
   "source": [
    "## calculating root mean sequare"
   ]
  },
  {
   "cell_type": "code",
   "execution_count": 24,
   "metadata": {
    "tags": []
   },
   "outputs": [
    {
     "name": "stdout",
     "output_type": "stream",
     "text": [
      "mPFC_lfp_trace\n",
      "MD_lfp_trace\n",
      "LH_lfp_trace\n",
      "BLA_lfp_trace\n",
      "vHPC_lfp_trace\n"
     ]
    }
   ],
   "source": [
    "for col in original_trace_columns:\n",
    "    print(col)\n",
    "    brain_region = col.split(\"_\")[0]\n",
    "    updated_column = \"{}_lfp_RMS\".format(brain_region)\n",
    "    LFP_TRACES_DF[updated_column] = LFP_TRACES_DF[col].apply(lambda x: (x / np.sqrt(np.mean(x**2))).astype(np.float32))\n"
   ]
  },
  {
   "cell_type": "code",
   "execution_count": 25,
   "metadata": {
    "tags": []
   },
   "outputs": [
    {
     "data": {
      "text/html": [
       "<div>\n",
       "<style scoped>\n",
       "    .dataframe tbody tr th:only-of-type {\n",
       "        vertical-align: middle;\n",
       "    }\n",
       "\n",
       "    .dataframe tbody tr th {\n",
       "        vertical-align: top;\n",
       "    }\n",
       "\n",
       "    .dataframe thead th {\n",
       "        text-align: right;\n",
       "    }\n",
       "</style>\n",
       "<table border=\"1\" class=\"dataframe\">\n",
       "  <thead>\n",
       "    <tr style=\"text-align: right;\">\n",
       "      <th></th>\n",
       "      <th>cohort</th>\n",
       "      <th>session_dir</th>\n",
       "      <th>tone_frames</th>\n",
       "      <th>box_1_port_entry_frames</th>\n",
       "      <th>box_2_port_entry_frames</th>\n",
       "      <th>video_name</th>\n",
       "      <th>session_path</th>\n",
       "      <th>recording</th>\n",
       "      <th>current_subject</th>\n",
       "      <th>subject</th>\n",
       "      <th>...</th>\n",
       "      <th>mPFC_lfp_modified_zscore</th>\n",
       "      <th>MD_lfp_modified_zscore</th>\n",
       "      <th>LH_lfp_modified_zscore</th>\n",
       "      <th>BLA_lfp_modified_zscore</th>\n",
       "      <th>vHPC_lfp_modified_zscore</th>\n",
       "      <th>mPFC_lfp_RMS</th>\n",
       "      <th>MD_lfp_RMS</th>\n",
       "      <th>LH_lfp_RMS</th>\n",
       "      <th>BLA_lfp_RMS</th>\n",
       "      <th>vHPC_lfp_RMS</th>\n",
       "    </tr>\n",
       "  </thead>\n",
       "  <tbody>\n",
       "    <tr>\n",
       "      <th>0</th>\n",
       "      <td>2</td>\n",
       "      <td>20230616_111904_standard_comp_to_training_D4_s...</td>\n",
       "      <td>[[87, 287], [2483, 2683], [4778, 4979], [6575,...</td>\n",
       "      <td>[[338, 339], [341, 385], [385, 482], [696, 703...</td>\n",
       "      <td>[[31729, 31729], [31731, 31732], [31733, 31735...</td>\n",
       "      <td>20230616_111904_standard_comp_to_training_D4_s...</td>\n",
       "      <td>/scratch/back_up/reward_competition_extention/...</td>\n",
       "      <td>20230616_111904_standard_comp_to_training_D4_s...</td>\n",
       "      <td>1.2</td>\n",
       "      <td>1.2</td>\n",
       "      <td>...</td>\n",
       "      <td>[-0.032214925, 0.28188056, 0.39261943, 0.25771...</td>\n",
       "      <td>[-0.15339799, 0.21205017, 0.33612207, 0.097001...</td>\n",
       "      <td>[-0.19106007, 0.21711373, 0.23737769, -0.01447...</td>\n",
       "      <td>[-0.3619817, -0.2742967, -0.2742967, -0.400203...</td>\n",
       "      <td>[-0.6733249, -0.579318, -0.5076376, -0.5499407...</td>\n",
       "      <td>[-0.046951603, 0.24602638, 0.34931993, 0.22348...</td>\n",
       "      <td>[-0.122624315, 0.19778116, 0.30656078, 0.09691...</td>\n",
       "      <td>[-0.11134413, 0.13018699, 0.1421779, -0.006851...</td>\n",
       "      <td>[-0.3240539, -0.24699232, -0.24699232, -0.3576...</td>\n",
       "      <td>[-0.6129893, -0.5275553, -0.46241182, -0.50085...</td>\n",
       "    </tr>\n",
       "    <tr>\n",
       "      <th>1</th>\n",
       "      <td>2</td>\n",
       "      <td>20230616_111904_standard_comp_to_training_D4_s...</td>\n",
       "      <td>[[109, 358], [3101, 3349], [5967, 6217], [8211...</td>\n",
       "      <td>[[422, 423], [425, 480], [480, 601], [869, 877...</td>\n",
       "      <td>[[36005, 36005], [36006, 36008], [36009, 36010...</td>\n",
       "      <td>20230616_111904_standard_comp_to_training_D4_s...</td>\n",
       "      <td>/scratch/back_up/reward_competition_extention/...</td>\n",
       "      <td>20230616_111904_standard_comp_to_training_D4_s...</td>\n",
       "      <td>1.2</td>\n",
       "      <td>1.2</td>\n",
       "      <td>...</td>\n",
       "      <td>[-0.032214925, 0.28188056, 0.39261943, 0.25771...</td>\n",
       "      <td>[-0.15339799, 0.21205017, 0.33612207, 0.097001...</td>\n",
       "      <td>[-0.19106007, 0.21711373, 0.23737769, -0.01447...</td>\n",
       "      <td>[-0.3619817, -0.2742967, -0.2742967, -0.400203...</td>\n",
       "      <td>[-0.6733249, -0.579318, -0.5076376, -0.5499407...</td>\n",
       "      <td>[-0.046951603, 0.24602638, 0.34931993, 0.22348...</td>\n",
       "      <td>[-0.122624315, 0.19778116, 0.30656078, 0.09691...</td>\n",
       "      <td>[-0.11134413, 0.13018699, 0.1421779, -0.006851...</td>\n",
       "      <td>[-0.3240539, -0.24699232, -0.24699232, -0.3576...</td>\n",
       "      <td>[-0.6129893, -0.5275553, -0.46241182, -0.50085...</td>\n",
       "    </tr>\n",
       "    <tr>\n",
       "      <th>2</th>\n",
       "      <td>2</td>\n",
       "      <td>20230616_111904_standard_comp_to_training_D4_s...</td>\n",
       "      <td>[[87, 287], [2483, 2683], [4778, 4979], [6575,...</td>\n",
       "      <td>[[338, 339], [341, 385], [385, 482], [696, 703...</td>\n",
       "      <td>[[31729, 31729], [31731, 31732], [31733, 31735...</td>\n",
       "      <td>20230616_111904_standard_comp_to_training_D4_s...</td>\n",
       "      <td>/scratch/back_up/reward_competition_extention/...</td>\n",
       "      <td>20230616_111904_standard_comp_to_training_D4_s...</td>\n",
       "      <td>1.4</td>\n",
       "      <td>1.4</td>\n",
       "      <td>...</td>\n",
       "      <td>[-0.26463637, -0.21945456, -0.009681818, 0.290...</td>\n",
       "      <td>[0.59531957, 0.9355022, 1.1349195, 1.1759762, ...</td>\n",
       "      <td>[0.023770925, 0.032685023, 0.13668282, 0.33576...</td>\n",
       "      <td>[0.17682835, 0.32995808, 0.4922027, 0.5888202,...</td>\n",
       "      <td>[0.28696907, 0.5199781, 0.69902724, 0.64016175...</td>\n",
       "      <td>[-0.25187972, -0.20989977, -0.014992841, 0.263...</td>\n",
       "      <td>[0.59839565, 0.9353563, 1.132885, 1.1735528, 1...</td>\n",
       "      <td>[0.026779197, 0.035705596, 0.13984692, 0.33920...</td>\n",
       "      <td>[0.16424781, 0.31102243, 0.46653366, 0.5591414...</td>\n",
       "      <td>[0.28243342, 0.5137366, 0.6914749, 0.6330404, ...</td>\n",
       "    </tr>\n",
       "    <tr>\n",
       "      <th>3</th>\n",
       "      <td>2</td>\n",
       "      <td>20230616_111904_standard_comp_to_training_D4_s...</td>\n",
       "      <td>[[109, 358], [3101, 3349], [5967, 6217], [8211...</td>\n",
       "      <td>[[422, 423], [425, 480], [480, 601], [869, 877...</td>\n",
       "      <td>[[36005, 36005], [36006, 36008], [36009, 36010...</td>\n",
       "      <td>20230616_111904_standard_comp_to_training_D4_s...</td>\n",
       "      <td>/scratch/back_up/reward_competition_extention/...</td>\n",
       "      <td>20230616_111904_standard_comp_to_training_D4_s...</td>\n",
       "      <td>1.4</td>\n",
       "      <td>1.4</td>\n",
       "      <td>...</td>\n",
       "      <td>[-0.26463637, -0.21945456, -0.009681818, 0.290...</td>\n",
       "      <td>[0.59531957, 0.9355022, 1.1349195, 1.1759762, ...</td>\n",
       "      <td>[0.023770925, 0.032685023, 0.13668282, 0.33576...</td>\n",
       "      <td>[0.17682835, 0.32995808, 0.4922027, 0.5888202,...</td>\n",
       "      <td>[0.28696907, 0.5199781, 0.69902724, 0.64016175...</td>\n",
       "      <td>[-0.25187972, -0.20989977, -0.014992841, 0.263...</td>\n",
       "      <td>[0.59839565, 0.9353563, 1.132885, 1.1735528, 1...</td>\n",
       "      <td>[0.026779197, 0.035705596, 0.13984692, 0.33920...</td>\n",
       "      <td>[0.16424781, 0.31102243, 0.46653366, 0.5591414...</td>\n",
       "      <td>[0.28243342, 0.5137366, 0.6914749, 0.6330404, ...</td>\n",
       "    </tr>\n",
       "  </tbody>\n",
       "</table>\n",
       "<p>4 rows × 43 columns</p>\n",
       "</div>"
      ],
      "text/plain": [
       "   cohort                                        session_dir  \\\n",
       "0       2  20230616_111904_standard_comp_to_training_D4_s...   \n",
       "1       2  20230616_111904_standard_comp_to_training_D4_s...   \n",
       "2       2  20230616_111904_standard_comp_to_training_D4_s...   \n",
       "3       2  20230616_111904_standard_comp_to_training_D4_s...   \n",
       "\n",
       "                                         tone_frames  \\\n",
       "0  [[87, 287], [2483, 2683], [4778, 4979], [6575,...   \n",
       "1  [[109, 358], [3101, 3349], [5967, 6217], [8211...   \n",
       "2  [[87, 287], [2483, 2683], [4778, 4979], [6575,...   \n",
       "3  [[109, 358], [3101, 3349], [5967, 6217], [8211...   \n",
       "\n",
       "                             box_1_port_entry_frames  \\\n",
       "0  [[338, 339], [341, 385], [385, 482], [696, 703...   \n",
       "1  [[422, 423], [425, 480], [480, 601], [869, 877...   \n",
       "2  [[338, 339], [341, 385], [385, 482], [696, 703...   \n",
       "3  [[422, 423], [425, 480], [480, 601], [869, 877...   \n",
       "\n",
       "                             box_2_port_entry_frames  \\\n",
       "0  [[31729, 31729], [31731, 31732], [31733, 31735...   \n",
       "1  [[36005, 36005], [36006, 36008], [36009, 36010...   \n",
       "2  [[31729, 31729], [31731, 31732], [31733, 31735...   \n",
       "3  [[36005, 36005], [36006, 36008], [36009, 36010...   \n",
       "\n",
       "                                          video_name  \\\n",
       "0  20230616_111904_standard_comp_to_training_D4_s...   \n",
       "1  20230616_111904_standard_comp_to_training_D4_s...   \n",
       "2  20230616_111904_standard_comp_to_training_D4_s...   \n",
       "3  20230616_111904_standard_comp_to_training_D4_s...   \n",
       "\n",
       "                                        session_path  \\\n",
       "0  /scratch/back_up/reward_competition_extention/...   \n",
       "1  /scratch/back_up/reward_competition_extention/...   \n",
       "2  /scratch/back_up/reward_competition_extention/...   \n",
       "3  /scratch/back_up/reward_competition_extention/...   \n",
       "\n",
       "                                           recording current_subject subject  \\\n",
       "0  20230616_111904_standard_comp_to_training_D4_s...             1.2     1.2   \n",
       "1  20230616_111904_standard_comp_to_training_D4_s...             1.2     1.2   \n",
       "2  20230616_111904_standard_comp_to_training_D4_s...             1.4     1.4   \n",
       "3  20230616_111904_standard_comp_to_training_D4_s...             1.4     1.4   \n",
       "\n",
       "   ...                           mPFC_lfp_modified_zscore  \\\n",
       "0  ...  [-0.032214925, 0.28188056, 0.39261943, 0.25771...   \n",
       "1  ...  [-0.032214925, 0.28188056, 0.39261943, 0.25771...   \n",
       "2  ...  [-0.26463637, -0.21945456, -0.009681818, 0.290...   \n",
       "3  ...  [-0.26463637, -0.21945456, -0.009681818, 0.290...   \n",
       "\n",
       "                              MD_lfp_modified_zscore  \\\n",
       "0  [-0.15339799, 0.21205017, 0.33612207, 0.097001...   \n",
       "1  [-0.15339799, 0.21205017, 0.33612207, 0.097001...   \n",
       "2  [0.59531957, 0.9355022, 1.1349195, 1.1759762, ...   \n",
       "3  [0.59531957, 0.9355022, 1.1349195, 1.1759762, ...   \n",
       "\n",
       "                              LH_lfp_modified_zscore  \\\n",
       "0  [-0.19106007, 0.21711373, 0.23737769, -0.01447...   \n",
       "1  [-0.19106007, 0.21711373, 0.23737769, -0.01447...   \n",
       "2  [0.023770925, 0.032685023, 0.13668282, 0.33576...   \n",
       "3  [0.023770925, 0.032685023, 0.13668282, 0.33576...   \n",
       "\n",
       "                             BLA_lfp_modified_zscore  \\\n",
       "0  [-0.3619817, -0.2742967, -0.2742967, -0.400203...   \n",
       "1  [-0.3619817, -0.2742967, -0.2742967, -0.400203...   \n",
       "2  [0.17682835, 0.32995808, 0.4922027, 0.5888202,...   \n",
       "3  [0.17682835, 0.32995808, 0.4922027, 0.5888202,...   \n",
       "\n",
       "                            vHPC_lfp_modified_zscore  \\\n",
       "0  [-0.6733249, -0.579318, -0.5076376, -0.5499407...   \n",
       "1  [-0.6733249, -0.579318, -0.5076376, -0.5499407...   \n",
       "2  [0.28696907, 0.5199781, 0.69902724, 0.64016175...   \n",
       "3  [0.28696907, 0.5199781, 0.69902724, 0.64016175...   \n",
       "\n",
       "                                        mPFC_lfp_RMS  \\\n",
       "0  [-0.046951603, 0.24602638, 0.34931993, 0.22348...   \n",
       "1  [-0.046951603, 0.24602638, 0.34931993, 0.22348...   \n",
       "2  [-0.25187972, -0.20989977, -0.014992841, 0.263...   \n",
       "3  [-0.25187972, -0.20989977, -0.014992841, 0.263...   \n",
       "\n",
       "                                          MD_lfp_RMS  \\\n",
       "0  [-0.122624315, 0.19778116, 0.30656078, 0.09691...   \n",
       "1  [-0.122624315, 0.19778116, 0.30656078, 0.09691...   \n",
       "2  [0.59839565, 0.9353563, 1.132885, 1.1735528, 1...   \n",
       "3  [0.59839565, 0.9353563, 1.132885, 1.1735528, 1...   \n",
       "\n",
       "                                          LH_lfp_RMS  \\\n",
       "0  [-0.11134413, 0.13018699, 0.1421779, -0.006851...   \n",
       "1  [-0.11134413, 0.13018699, 0.1421779, -0.006851...   \n",
       "2  [0.026779197, 0.035705596, 0.13984692, 0.33920...   \n",
       "3  [0.026779197, 0.035705596, 0.13984692, 0.33920...   \n",
       "\n",
       "                                         BLA_lfp_RMS  \\\n",
       "0  [-0.3240539, -0.24699232, -0.24699232, -0.3576...   \n",
       "1  [-0.3240539, -0.24699232, -0.24699232, -0.3576...   \n",
       "2  [0.16424781, 0.31102243, 0.46653366, 0.5591414...   \n",
       "3  [0.16424781, 0.31102243, 0.46653366, 0.5591414...   \n",
       "\n",
       "                                        vHPC_lfp_RMS  \n",
       "0  [-0.6129893, -0.5275553, -0.46241182, -0.50085...  \n",
       "1  [-0.6129893, -0.5275553, -0.46241182, -0.50085...  \n",
       "2  [0.28243342, 0.5137366, 0.6914749, 0.6330404, ...  \n",
       "3  [0.28243342, 0.5137366, 0.6914749, 0.6330404, ...  \n",
       "\n",
       "[4 rows x 43 columns]"
      ]
     },
     "execution_count": 25,
     "metadata": {},
     "output_type": "execute_result"
    }
   ],
   "source": [
    "LFP_TRACES_DF.head()"
   ]
  },
  {
   "cell_type": "markdown",
   "metadata": {},
   "source": [
    "## Filtering for zscore value"
   ]
  },
  {
   "cell_type": "code",
   "execution_count": 26,
   "metadata": {
    "tags": []
   },
   "outputs": [],
   "source": [
    "zscore_columns = [col for col in LFP_TRACES_DF.columns if \"zscore\" in col]"
   ]
  },
  {
   "cell_type": "code",
   "execution_count": 27,
   "metadata": {
    "tags": []
   },
   "outputs": [
    {
     "data": {
      "text/plain": [
       "['mPFC_lfp_modified_zscore',\n",
       " 'MD_lfp_modified_zscore',\n",
       " 'LH_lfp_modified_zscore',\n",
       " 'BLA_lfp_modified_zscore',\n",
       " 'vHPC_lfp_modified_zscore']"
      ]
     },
     "execution_count": 27,
     "metadata": {},
     "output_type": "execute_result"
    }
   ],
   "source": [
    "zscore_columns"
   ]
  },
  {
   "cell_type": "code",
   "execution_count": 28,
   "metadata": {
    "tags": []
   },
   "outputs": [
    {
     "name": "stdout",
     "output_type": "stream",
     "text": [
      "mPFC_lfp_modified_zscore\n",
      "MD_lfp_modified_zscore\n",
      "LH_lfp_modified_zscore\n",
      "BLA_lfp_modified_zscore\n",
      "vHPC_lfp_modified_zscore\n"
     ]
    }
   ],
   "source": [
    "for col in zscore_columns:\n",
    "    print(col)\n",
    "    brain_region = col.split(\"_\")[0]\n",
    "    updated_column = \"{}_lfp_mask\".format(brain_region)\n",
    "    LFP_TRACES_DF[updated_column] = LFP_TRACES_DF[col].apply(lambda x: np.abs(x) >= zscore_threshold)"
   ]
  },
  {
   "cell_type": "code",
   "execution_count": 29,
   "metadata": {
    "tags": []
   },
   "outputs": [
    {
     "data": {
      "text/plain": [
       "0    [False, False, False, False, False, False, Fal...\n",
       "1    [False, False, False, False, False, False, Fal...\n",
       "2    [False, False, False, False, False, False, Fal...\n",
       "3    [False, False, False, False, False, False, Fal...\n",
       "Name: vHPC_lfp_mask, dtype: object"
      ]
     },
     "execution_count": 29,
     "metadata": {},
     "output_type": "execute_result"
    }
   ],
   "source": [
    "LFP_TRACES_DF[updated_column].head()"
   ]
  },
  {
   "cell_type": "code",
   "execution_count": 30,
   "metadata": {
    "tags": []
   },
   "outputs": [
    {
     "data": {
      "text/plain": [
       "(3373973,)"
      ]
     },
     "execution_count": 30,
     "metadata": {},
     "output_type": "execute_result"
    }
   ],
   "source": [
    "LFP_TRACES_DF[updated_column].iloc[0].shape"
   ]
  },
  {
   "cell_type": "code",
   "execution_count": 31,
   "metadata": {
    "tags": []
   },
   "outputs": [
    {
     "data": {
      "text/plain": [
       "9076"
      ]
     },
     "execution_count": 31,
     "metadata": {},
     "output_type": "execute_result"
    }
   ],
   "source": [
    "sum(LFP_TRACES_DF[updated_column].iloc[0])"
   ]
  },
  {
   "cell_type": "markdown",
   "metadata": {
    "tags": []
   },
   "source": [
    "- Filtering raw traces by zscore"
   ]
  },
  {
   "cell_type": "code",
   "execution_count": 32,
   "metadata": {
    "tags": []
   },
   "outputs": [
    {
     "data": {
      "text/plain": [
       "0    [-0.6733249, -0.579318, -0.5076376, -0.5499407...\n",
       "1    [-0.6733249, -0.579318, -0.5076376, -0.5499407...\n",
       "2    [0.28696907, 0.5199781, 0.69902724, 0.64016175...\n",
       "3    [0.28696907, 0.5199781, 0.69902724, 0.64016175...\n",
       "Name: vHPC_lfp_modified_zscore, dtype: object"
      ]
     },
     "execution_count": 32,
     "metadata": {},
     "output_type": "execute_result"
    }
   ],
   "source": [
    "LFP_TRACES_DF[col].head()"
   ]
  },
  {
   "cell_type": "code",
   "execution_count": 33,
   "metadata": {
    "tags": []
   },
   "outputs": [
    {
     "name": "stdout",
     "output_type": "stream",
     "text": [
      "mPFC_lfp_trace\n",
      "MD_lfp_trace\n",
      "LH_lfp_trace\n",
      "BLA_lfp_trace\n",
      "vHPC_lfp_trace\n"
     ]
    }
   ],
   "source": [
    "for col in original_trace_columns:\n",
    "    print(col)\n",
    "    brain_region = col.split(\"_\")[0]\n",
    "    updated_column = \"{}_lfp_trace_filtered\".format(brain_region)    \n",
    "    mask_column = \"{}_lfp_mask\".format(brain_region)\n",
    "    LFP_TRACES_DF[updated_column] = LFP_TRACES_DF.apply(lambda x: update_array_by_mask(x[col], x[mask_column]), axis=1)"
   ]
  },
  {
   "cell_type": "code",
   "execution_count": 34,
   "metadata": {
    "tags": []
   },
   "outputs": [
    {
     "data": {
      "text/plain": [
       "0    [-111.92999, -96.329994, -84.435, -91.454994, ...\n",
       "1    [-111.92999, -96.329994, -84.435, -91.454994, ...\n",
       "2    [22.619999, 41.144997, 55.379997, 50.699997, 5...\n",
       "3    [22.619999, 41.144997, 55.379997, 50.699997, 5...\n",
       "Name: vHPC_lfp_trace, dtype: object"
      ]
     },
     "execution_count": 34,
     "metadata": {},
     "output_type": "execute_result"
    }
   ],
   "source": [
    "LFP_TRACES_DF[col].head()"
   ]
  },
  {
   "cell_type": "code",
   "execution_count": 35,
   "metadata": {
    "tags": []
   },
   "outputs": [
    {
     "data": {
      "text/plain": [
       "0"
      ]
     },
     "execution_count": 35,
     "metadata": {},
     "output_type": "execute_result"
    }
   ],
   "source": [
    "sum(np.isnan(LFP_TRACES_DF[col].iloc[0]))"
   ]
  },
  {
   "cell_type": "markdown",
   "metadata": {},
   "source": [
    "- Calculating RMS of filtered signal"
   ]
  },
  {
   "cell_type": "code",
   "execution_count": 36,
   "metadata": {
    "tags": []
   },
   "outputs": [],
   "source": [
    "filtered_trace_column = [col for col in LFP_TRACES_DF if \"lfp_trace_filtered\" in col]"
   ]
  },
  {
   "cell_type": "code",
   "execution_count": 37,
   "metadata": {},
   "outputs": [
    {
     "name": "stdout",
     "output_type": "stream",
     "text": [
      "mPFC_lfp_trace_filtered\n",
      "MD_lfp_trace_filtered\n",
      "LH_lfp_trace_filtered\n",
      "BLA_lfp_trace_filtered\n",
      "vHPC_lfp_trace_filtered\n"
     ]
    }
   ],
   "source": [
    "for col in filtered_trace_column:\n",
    "    print(col)\n",
    "    brain_region = col.split(\"_\")[0]\n",
    "    updated_column = \"{}_lfp_RMS_filtered\".format(brain_region)\n",
    "    LFP_TRACES_DF[updated_column] = LFP_TRACES_DF[col].apply(lambda x: (x / np.sqrt(np.nanmean(x**2))).astype(np.float32))"
   ]
  },
  {
   "cell_type": "code",
   "execution_count": 38,
   "metadata": {
    "tags": []
   },
   "outputs": [
    {
     "data": {
      "text/plain": [
       "[<matplotlib.lines.Line2D at 0x7f7ebf47fd00>]"
      ]
     },
     "execution_count": 38,
     "metadata": {},
     "output_type": "execute_result"
    },
    {
     "data": {
      "image/png": "[encoded data removed]",
      "text/plain": [
       "<Figure size 640x480 with 1 Axes>"
      ]
     },
     "metadata": {},
     "output_type": "display_data"
    }
   ],
   "source": [
    "plt.plot(LFP_TRACES_DF[original_trace_columns[0]].iloc[0])"
   ]
  },
  {
   "cell_type": "code",
   "execution_count": 39,
   "metadata": {
    "tags": []
   },
   "outputs": [
    {
     "data": {
      "text/plain": [
       "[<matplotlib.lines.Line2D at 0x7f7ebf4e8580>]"
      ]
     },
     "execution_count": 39,
     "metadata": {},
     "output_type": "execute_result"
    },
    {
     "data": {
      "image/png": "[encoded data removed]",
      "text/plain": [
       "<Figure size 640x480 with 1 Axes>"
      ]
     },
     "metadata": {},
     "output_type": "display_data"
    }
   ],
   "source": [
    "plt.plot(LFP_TRACES_DF[\"{}_lfp_RMS\".format(brain_region)].iloc[0])"
   ]
  },
  {
   "cell_type": "code",
   "execution_count": 40,
   "metadata": {
    "tags": []
   },
   "outputs": [
    {
     "data": {
      "text/plain": [
       "[<matplotlib.lines.Line2D at 0x7f7ebf3da550>]"
      ]
     },
     "execution_count": 40,
     "metadata": {},
     "output_type": "execute_result"
    },
    {
     "data": {
      "image/png": "[encoded data removed]",
      "text/plain": [
       "<Figure size 640x480 with 1 Axes>"
      ]
     },
     "metadata": {},
     "output_type": "display_data"
    }
   ],
   "source": [
    "plt.plot(LFP_TRACES_DF[\"{}_lfp_RMS_filtered\".format(brain_region)].iloc[0])"
   ]
  },
  {
   "cell_type": "markdown",
   "metadata": {},
   "source": [
    "## Calculating phase of signals"
   ]
  },
  {
   "cell_type": "markdown",
   "metadata": {},
   "source": [
    "- Filtering for theta and gamma"
   ]
  },
  {
   "cell_type": "code",
   "execution_count": 41,
   "metadata": {},
   "outputs": [],
   "source": [
    "RMS_columns = [col for col in LFP_TRACES_DF if \"RMS\" in col and \"filtered\" not in col]"
   ]
  },
  {
   "cell_type": "code",
   "execution_count": 42,
   "metadata": {},
   "outputs": [],
   "source": [
    "fs = 1000\n",
    "order=4"
   ]
  },
  {
   "cell_type": "code",
   "execution_count": 43,
   "metadata": {},
   "outputs": [],
   "source": [
    "freq_band = [4, 12]\n",
    "b, a = butter(order, freq_band, fs=fs, btype='band')"
   ]
  },
  {
   "cell_type": "code",
   "execution_count": 44,
   "metadata": {},
   "outputs": [
    {
     "name": "stdout",
     "output_type": "stream",
     "text": [
      "mPFC_lfp_RMS\n",
      "MD_lfp_RMS\n",
      "LH_lfp_RMS\n",
      "BLA_lfp_RMS\n",
      "vHPC_lfp_RMS\n"
     ]
    }
   ],
   "source": [
    "for col in RMS_columns:\n",
    "    print(col)\n",
    "    brain_region = col.split(\"_\")[0]\n",
    "    updated_column = \"{}_theta_band\".format(brain_region)\n",
    "    LFP_TRACES_DF[updated_column] = LFP_TRACES_DF[col].apply(lambda x: filtfilt(b, a, x, padtype=None).astype(np.float32))"
   ]
  },
  {
   "cell_type": "code",
   "execution_count": 45,
   "metadata": {},
   "outputs": [],
   "source": [
    "freq_band = [30, 50]\n",
    "b, a = butter(order, freq_band, fs=fs, btype='band')"
   ]
  },
  {
   "cell_type": "code",
   "execution_count": 46,
   "metadata": {},
   "outputs": [
    {
     "name": "stdout",
     "output_type": "stream",
     "text": [
      "mPFC_lfp_RMS\n",
      "MD_lfp_RMS\n",
      "LH_lfp_RMS\n",
      "BLA_lfp_RMS\n",
      "vHPC_lfp_RMS\n"
     ]
    }
   ],
   "source": [
    "for col in RMS_columns:\n",
    "    print(col)\n",
    "    brain_region = col.split(\"_\")[0]\n",
    "    updated_column = \"{}_gamma_band\".format(brain_region)\n",
    "    LFP_TRACES_DF[updated_column] = LFP_TRACES_DF[col].apply(lambda x: filtfilt(b, a, x, padtype=None).astype(np.float32))"
   ]
  },
  {
   "cell_type": "markdown",
   "metadata": {},
   "source": [
    "- Calculating the phase"
   ]
  },
  {
   "cell_type": "code",
   "execution_count": 47,
   "metadata": {},
   "outputs": [],
   "source": [
    "band_columns = [col for col in LFP_TRACES_DF if \"band\" in col]"
   ]
  },
  {
   "cell_type": "code",
   "execution_count": 48,
   "metadata": {},
   "outputs": [
    {
     "data": {
      "text/plain": [
       "['mPFC_theta_band',\n",
       " 'MD_theta_band',\n",
       " 'LH_theta_band',\n",
       " 'BLA_theta_band',\n",
       " 'vHPC_theta_band',\n",
       " 'mPFC_gamma_band',\n",
       " 'MD_gamma_band',\n",
       " 'LH_gamma_band',\n",
       " 'BLA_gamma_band',\n",
       " 'vHPC_gamma_band']"
      ]
     },
     "execution_count": 48,
     "metadata": {},
     "output_type": "execute_result"
    }
   ],
   "source": [
    "band_columns"
   ]
  },
  {
   "cell_type": "code",
   "execution_count": 49,
   "metadata": {},
   "outputs": [
    {
     "name": "stdout",
     "output_type": "stream",
     "text": [
      "mPFC_theta_band\n",
      "mPFC_theta_phase\n",
      "MD_theta_band\n",
      "MD_theta_phase\n",
      "LH_theta_band\n",
      "LH_theta_phase\n",
      "BLA_theta_band\n",
      "BLA_theta_phase\n",
      "vHPC_theta_band\n",
      "vHPC_theta_phase\n",
      "mPFC_gamma_band\n",
      "mPFC_gamma_phase\n",
      "MD_gamma_band\n",
      "MD_gamma_phase\n",
      "LH_gamma_band\n",
      "LH_gamma_phase\n",
      "BLA_gamma_band\n",
      "BLA_gamma_phase\n",
      "vHPC_gamma_band\n",
      "vHPC_gamma_phase\n"
     ]
    }
   ],
   "source": [
    "for col in band_columns:\n",
    "    print(col)\n",
    "    brain_region = col.replace(\"_band\", \"\")\n",
    "    updated_column = \"{}_phase\".format(brain_region)\n",
    "    print(updated_column)\n",
    "    LFP_TRACES_DF[updated_column] = LFP_TRACES_DF[col].apply(lambda x: np.angle(hilbert(x), deg=False))"
   ]
  },
  {
   "cell_type": "code",
   "execution_count": 50,
   "metadata": {},
   "outputs": [
    {
     "data": {
      "text/plain": [
       "0    [0.17008683, 0.15192373, 0.123936065, 0.087269...\n",
       "1    [0.17008683, 0.15192373, 0.123936065, 0.087269...\n",
       "2    [0.13008602, 0.13883811, 0.13782105, 0.1266129...\n",
       "3    [0.13008602, 0.13883811, 0.13782105, 0.1266129...\n",
       "Name: vHPC_gamma_band, dtype: object"
      ]
     },
     "execution_count": 50,
     "metadata": {},
     "output_type": "execute_result"
    }
   ],
   "source": [
    "LFP_TRACES_DF[col]"
   ]
  },
  {
   "cell_type": "markdown",
   "metadata": {
    "tags": []
   },
   "source": [
    "# Dropping unused columns"
   ]
  },
  {
   "cell_type": "code",
   "execution_count": 51,
   "metadata": {
    "tags": []
   },
   "outputs": [
    {
     "data": {
      "text/plain": [
       "['cohort',\n",
       " 'session_dir',\n",
       " 'tone_frames',\n",
       " 'box_1_port_entry_frames',\n",
       " 'box_2_port_entry_frames',\n",
       " 'video_name',\n",
       " 'session_path',\n",
       " 'recording',\n",
       " 'current_subject',\n",
       " 'subject',\n",
       " 'all_subjects',\n",
       " 'first_timestamp',\n",
       " 'last_timestamp',\n",
       " 'video_timestamps',\n",
       " 'tone_timestamps',\n",
       " 'box_1_port_entry_timestamps',\n",
       " 'box_2_port_entry_timestamps',\n",
       " 'lfp_timestamps',\n",
       " 'mPFC_lfp_trace',\n",
       " 'MD_lfp_trace',\n",
       " 'LH_lfp_trace',\n",
       " 'BLA_lfp_trace',\n",
       " 'vHPC_lfp_trace',\n",
       " 'recording_name',\n",
       " 'spike_clusters',\n",
       " 'spike_times',\n",
       " 'neuron_average_fr',\n",
       " 'neuron_average_timestamps',\n",
       " 'mPFC_lfp_MAD',\n",
       " 'MD_lfp_MAD',\n",
       " 'LH_lfp_MAD',\n",
       " 'BLA_lfp_MAD',\n",
       " 'vHPC_lfp_MAD',\n",
       " 'mPFC_lfp_modified_zscore',\n",
       " 'MD_lfp_modified_zscore',\n",
       " 'LH_lfp_modified_zscore',\n",
       " 'BLA_lfp_modified_zscore',\n",
       " 'vHPC_lfp_modified_zscore',\n",
       " 'mPFC_lfp_RMS',\n",
       " 'MD_lfp_RMS',\n",
       " 'LH_lfp_RMS',\n",
       " 'BLA_lfp_RMS',\n",
       " 'vHPC_lfp_RMS',\n",
       " 'mPFC_lfp_mask',\n",
       " 'MD_lfp_mask',\n",
       " 'LH_lfp_mask',\n",
       " 'BLA_lfp_mask',\n",
       " 'vHPC_lfp_mask',\n",
       " 'mPFC_lfp_trace_filtered',\n",
       " 'MD_lfp_trace_filtered',\n",
       " 'LH_lfp_trace_filtered',\n",
       " 'BLA_lfp_trace_filtered',\n",
       " 'vHPC_lfp_trace_filtered',\n",
       " 'mPFC_lfp_RMS_filtered',\n",
       " 'MD_lfp_RMS_filtered',\n",
       " 'LH_lfp_RMS_filtered',\n",
       " 'BLA_lfp_RMS_filtered',\n",
       " 'vHPC_lfp_RMS_filtered',\n",
       " 'mPFC_theta_band',\n",
       " 'MD_theta_band',\n",
       " 'LH_theta_band',\n",
       " 'BLA_theta_band',\n",
       " 'vHPC_theta_band',\n",
       " 'mPFC_gamma_band',\n",
       " 'MD_gamma_band',\n",
       " 'LH_gamma_band',\n",
       " 'BLA_gamma_band',\n",
       " 'vHPC_gamma_band',\n",
       " 'mPFC_theta_phase',\n",
       " 'MD_theta_phase',\n",
       " 'LH_theta_phase',\n",
       " 'BLA_theta_phase',\n",
       " 'vHPC_theta_phase',\n",
       " 'mPFC_gamma_phase',\n",
       " 'MD_gamma_phase',\n",
       " 'LH_gamma_phase',\n",
       " 'BLA_gamma_phase',\n",
       " 'vHPC_gamma_phase']"
      ]
     },
     "execution_count": 51,
     "metadata": {},
     "output_type": "execute_result"
    }
   ],
   "source": [
    "list(LFP_TRACES_DF.columns)"
   ]
  },
  {
   "cell_type": "code",
   "execution_count": 52,
   "metadata": {
    "tags": []
   },
   "outputs": [],
   "source": [
    "dropping_columns = [col for col in LFP_TRACES_DF if (\"MAD\" in col or \"modified_zscore\" in col or \"RMS\" in col or \"mask\" in col or \"trace_filtered\" in col) and \"RMS_filtered\" not in col]\n",
    "\n",
    "\n"
   ]
  },
  {
   "cell_type": "code",
   "execution_count": 53,
   "metadata": {
    "tags": []
   },
   "outputs": [
    {
     "data": {
      "text/plain": [
       "['mPFC_lfp_MAD',\n",
       " 'MD_lfp_MAD',\n",
       " 'LH_lfp_MAD',\n",
       " 'BLA_lfp_MAD',\n",
       " 'vHPC_lfp_MAD',\n",
       " 'mPFC_lfp_modified_zscore',\n",
       " 'MD_lfp_modified_zscore',\n",
       " 'LH_lfp_modified_zscore',\n",
       " 'BLA_lfp_modified_zscore',\n",
       " 'vHPC_lfp_modified_zscore',\n",
       " 'mPFC_lfp_RMS',\n",
       " 'MD_lfp_RMS',\n",
       " 'LH_lfp_RMS',\n",
       " 'BLA_lfp_RMS',\n",
       " 'vHPC_lfp_RMS',\n",
       " 'mPFC_lfp_mask',\n",
       " 'MD_lfp_mask',\n",
       " 'LH_lfp_mask',\n",
       " 'BLA_lfp_mask',\n",
       " 'vHPC_lfp_mask',\n",
       " 'mPFC_lfp_trace_filtered',\n",
       " 'MD_lfp_trace_filtered',\n",
       " 'LH_lfp_trace_filtered',\n",
       " 'BLA_lfp_trace_filtered',\n",
       " 'vHPC_lfp_trace_filtered']"
      ]
     },
     "execution_count": 53,
     "metadata": {},
     "output_type": "execute_result"
    }
   ],
   "source": [
    "dropping_columns"
   ]
  },
  {
   "cell_type": "code",
   "execution_count": 54,
   "metadata": {
    "tags": []
   },
   "outputs": [],
   "source": [
    "LFP_TRACES_DF = LFP_TRACES_DF.drop(columns=dropping_columns, errors=\"ignore\")"
   ]
  },
  {
   "cell_type": "markdown",
   "metadata": {
    "tags": []
   },
   "source": [
    "# Power Calcuation"
   ]
  },
  {
   "cell_type": "markdown",
   "metadata": {},
   "source": [
    "- Getting the column name of all the traces"
   ]
  },
  {
   "cell_type": "code",
   "execution_count": 55,
   "metadata": {
    "tags": []
   },
   "outputs": [],
   "source": [
    "input_columns = [col for col in LFP_TRACES_DF.columns if \"RMS\" in col and \"filtered\" in col]"
   ]
  },
  {
   "cell_type": "code",
   "execution_count": 56,
   "metadata": {
    "tags": []
   },
   "outputs": [
    {
     "data": {
      "text/plain": [
       "['mPFC_lfp_RMS_filtered',\n",
       " 'MD_lfp_RMS_filtered',\n",
       " 'LH_lfp_RMS_filtered',\n",
       " 'BLA_lfp_RMS_filtered',\n",
       " 'vHPC_lfp_RMS_filtered']"
      ]
     },
     "execution_count": 56,
     "metadata": {},
     "output_type": "execute_result"
    }
   ],
   "source": [
    "input_columns"
   ]
  },
  {
   "cell_type": "code",
   "execution_count": 57,
   "metadata": {
    "tags": []
   },
   "outputs": [
    {
     "name": "stdout",
     "output_type": "stream",
     "text": [
      "mPFC_lfp_RMS_filtered\n",
      "MD_lfp_RMS_filtered\n",
      "LH_lfp_RMS_filtered\n",
      "BLA_lfp_RMS_filtered\n",
      "vHPC_lfp_RMS_filtered\n"
     ]
    }
   ],
   "source": [
    "for col in input_columns:\n",
    "    print(col)\n",
    "    LFP_TRACES_DF[col] = LFP_TRACES_DF[col].apply(lambda x: np.round(x.astype(np.float32), decimals=3))"
   ]
  },
  {
   "cell_type": "markdown",
   "metadata": {},
   "source": [
    "- Calcuating the power at each frequency band"
   ]
  },
  {
   "cell_type": "code",
   "execution_count": 58,
   "metadata": {},
   "outputs": [
    {
     "data": {
      "text/plain": [
       "array([-0.651, -0.56 , -0.491, ..., -0.219, -0.122, -0.046], dtype=float32)"
      ]
     },
     "execution_count": 58,
     "metadata": {},
     "output_type": "execute_result"
    }
   ],
   "source": [
    "LFP_TRACES_DF[col].iloc[0]"
   ]
  },
  {
   "cell_type": "code",
   "execution_count": 59,
   "metadata": {
    "tags": []
   },
   "outputs": [
    {
     "name": "stdout",
     "output_type": "stream",
     "text": [
      "mPFC\n",
      "0\n",
      "1\n",
      "2\n",
      "3\n",
      "MD\n",
      "0\n",
      "1\n",
      "2\n",
      "3\n",
      "LH\n",
      "0\n",
      "1\n",
      "2\n",
      "3\n",
      "BLA\n",
      "0\n",
      "1\n",
      "2\n",
      "3\n",
      "vHPC\n",
      "0\n",
      "1\n",
      "2\n",
      "3\n"
     ]
    }
   ],
   "source": [
    "for col in input_columns:\n",
    "    # brain_region = col.split(\"_\")[0]\n",
    "    brain_region = col.replace(\"_lfp\", \"\").replace(\"RMS_filtered\", \"\").strip(\"_\")\n",
    "    print(brain_region)\n",
    "\n",
    "    try:\n",
    "        # Define column names\n",
    "        frequencies_col = f\"{brain_region}_power_frequencies\"\n",
    "        power_col = f\"{brain_region}_power_all_frequencies_all_windows\"\n",
    "\n",
    "        index_to_multitaper = {}\n",
    "        index_to_connectivity = {}\n",
    "        index_to_frequencies = {}\n",
    "        index_to_power = {}\n",
    "\n",
    "        # Apply Multitaper function to the lfp_trace column\n",
    "        for index, row in LFP_TRACES_DF.iterrows():\n",
    "            print(index)\n",
    "            index_to_multitaper[index] = Multitaper(\n",
    "                    time_series=row[col], \n",
    "                    sampling_frequency=RESAMPLE_RATE, \n",
    "                    time_halfbandwidth_product=TIME_HALFBANDWIDTH_PRODUCT,\n",
    "                    time_window_duration=TIME_WINDOW_DURATION, \n",
    "                    time_window_step=TIME_WINDOW_STEP\n",
    "                )\n",
    "            index_to_connectivity[index] = Connectivity.from_multitaper(index_to_multitaper[index])\n",
    "            index_to_frequencies[index] = index_to_connectivity[index].frequencies[FILTER_BAND[0]: FILTER_BAND[1]]\n",
    "            index_to_power[index] = index_to_connectivity[index].power().squeeze()[:, FILTER_BAND[0]: FILTER_BAND[1]]\n",
    "\n",
    "        LFP_TRACES_DF[frequencies_col] = LFP_TRACES_DF.index.to_series().map(index_to_frequencies)\n",
    "        LFP_TRACES_DF[power_col] = LFP_TRACES_DF.index.to_series().map(index_to_power)\n",
    "        LFP_TRACES_DF[power_col] = LFP_TRACES_DF[power_col].apply(lambda x: x.astype(np.float32))\n",
    "    \n",
    "    except Exception as e: \n",
    "        print(e)\n",
    "        "
   ]
  },
  {
   "cell_type": "markdown",
   "metadata": {},
   "source": [
    "- Getting the timestamps of the power"
   ]
  },
  {
   "cell_type": "code",
   "execution_count": 60,
   "metadata": {
    "tags": []
   },
   "outputs": [],
   "source": [
    "LFP_TRACES_DF[\"power_timestamps\"] = LFP_TRACES_DF[\"lfp_timestamps\"].apply(lambda x: x[(RESAMPLE_RATE//2):(-RESAMPLE_RATE//2):(RESAMPLE_RATE//2)])\n",
    "# .iloc[0][500:-500:500].shape"
   ]
  },
  {
   "cell_type": "markdown",
   "metadata": {},
   "source": [
    "- Making sure that the timestamps for power makes sense with shape and values"
   ]
  },
  {
   "cell_type": "code",
   "execution_count": 61,
   "metadata": {
    "tags": []
   },
   "outputs": [
    {
     "data": {
      "text/plain": [
       "0    (6746,)\n",
       "1    (6746,)\n",
       "2    (6746,)\n",
       "3    (6746,)\n",
       "Name: power_timestamps, dtype: object"
      ]
     },
     "execution_count": 61,
     "metadata": {},
     "output_type": "execute_result"
    }
   ],
   "source": [
    "LFP_TRACES_DF[\"power_timestamps\"].head().apply(lambda x: x.shape)"
   ]
  },
  {
   "cell_type": "code",
   "execution_count": 62,
   "metadata": {
    "tags": []
   },
   "outputs": [
    {
     "data": {
      "text/plain": [
       "(6746, 56)"
      ]
     },
     "execution_count": 62,
     "metadata": {},
     "output_type": "execute_result"
    }
   ],
   "source": [
    "LFP_TRACES_DF[[col for col in LFP_TRACES_DF.columns if \"power_all_frequencies_all_windows\" in col][0]].iloc[0].shape"
   ]
  },
  {
   "cell_type": "code",
   "execution_count": 63,
   "metadata": {
    "tags": []
   },
   "outputs": [
    {
     "data": {
      "text/plain": [
       "array([       0,       20,       40, ..., 67479400, 67479420, 67479440])"
      ]
     },
     "execution_count": 63,
     "metadata": {},
     "output_type": "execute_result"
    }
   ],
   "source": [
    "LFP_TRACES_DF[[col for col in LFP_TRACES_DF.columns if \"lfp_timestamps\" in col][0]].iloc[0]"
   ]
  },
  {
   "cell_type": "code",
   "execution_count": 64,
   "metadata": {
    "tags": []
   },
   "outputs": [
    {
     "data": {
      "text/plain": [
       "array([   10000,    20000,    30000, ..., 67440000, 67450000, 67460000])"
      ]
     },
     "execution_count": 64,
     "metadata": {},
     "output_type": "execute_result"
    }
   ],
   "source": [
    "LFP_TRACES_DF[[col for col in LFP_TRACES_DF.columns if \"power_timestamps\" in col][0]].iloc[0]"
   ]
  },
  {
   "cell_type": "markdown",
   "metadata": {},
   "source": [
    "- Checking if the right frequencies are being used"
   ]
  },
  {
   "cell_type": "code",
   "execution_count": 65,
   "metadata": {
    "tags": []
   },
   "outputs": [
    {
     "data": {
      "text/html": [
       "<div>\n",
       "<style scoped>\n",
       "    .dataframe tbody tr th:only-of-type {\n",
       "        vertical-align: middle;\n",
       "    }\n",
       "\n",
       "    .dataframe tbody tr th {\n",
       "        vertical-align: top;\n",
       "    }\n",
       "\n",
       "    .dataframe thead th {\n",
       "        text-align: right;\n",
       "    }\n",
       "</style>\n",
       "<table border=\"1\" class=\"dataframe\">\n",
       "  <thead>\n",
       "    <tr style=\"text-align: right;\">\n",
       "      <th></th>\n",
       "      <th>mPFC_power_frequencies</th>\n",
       "      <th>MD_power_frequencies</th>\n",
       "      <th>LH_power_frequencies</th>\n",
       "      <th>BLA_power_frequencies</th>\n",
       "      <th>vHPC_power_frequencies</th>\n",
       "    </tr>\n",
       "  </thead>\n",
       "  <tbody>\n",
       "    <tr>\n",
       "      <th>0</th>\n",
       "      <td>[0.0, 1.0, 2.0, 3.0, 4.0, 5.0, 6.0, 7.0, 8.0, ...</td>\n",
       "      <td>[0.0, 1.0, 2.0, 3.0, 4.0, 5.0, 6.0, 7.0, 8.0, ...</td>\n",
       "      <td>[0.0, 1.0, 2.0, 3.0, 4.0, 5.0, 6.0, 7.0, 8.0, ...</td>\n",
       "      <td>[0.0, 1.0, 2.0, 3.0, 4.0, 5.0, 6.0, 7.0, 8.0, ...</td>\n",
       "      <td>[0.0, 1.0, 2.0, 3.0, 4.0, 5.0, 6.0, 7.0, 8.0, ...</td>\n",
       "    </tr>\n",
       "    <tr>\n",
       "      <th>1</th>\n",
       "      <td>[0.0, 1.0, 2.0, 3.0, 4.0, 5.0, 6.0, 7.0, 8.0, ...</td>\n",
       "      <td>[0.0, 1.0, 2.0, 3.0, 4.0, 5.0, 6.0, 7.0, 8.0, ...</td>\n",
       "      <td>[0.0, 1.0, 2.0, 3.0, 4.0, 5.0, 6.0, 7.0, 8.0, ...</td>\n",
       "      <td>[0.0, 1.0, 2.0, 3.0, 4.0, 5.0, 6.0, 7.0, 8.0, ...</td>\n",
       "      <td>[0.0, 1.0, 2.0, 3.0, 4.0, 5.0, 6.0, 7.0, 8.0, ...</td>\n",
       "    </tr>\n",
       "    <tr>\n",
       "      <th>2</th>\n",
       "      <td>[0.0, 1.0, 2.0, 3.0, 4.0, 5.0, 6.0, 7.0, 8.0, ...</td>\n",
       "      <td>[0.0, 1.0, 2.0, 3.0, 4.0, 5.0, 6.0, 7.0, 8.0, ...</td>\n",
       "      <td>[0.0, 1.0, 2.0, 3.0, 4.0, 5.0, 6.0, 7.0, 8.0, ...</td>\n",
       "      <td>[0.0, 1.0, 2.0, 3.0, 4.0, 5.0, 6.0, 7.0, 8.0, ...</td>\n",
       "      <td>[0.0, 1.0, 2.0, 3.0, 4.0, 5.0, 6.0, 7.0, 8.0, ...</td>\n",
       "    </tr>\n",
       "    <tr>\n",
       "      <th>3</th>\n",
       "      <td>[0.0, 1.0, 2.0, 3.0, 4.0, 5.0, 6.0, 7.0, 8.0, ...</td>\n",
       "      <td>[0.0, 1.0, 2.0, 3.0, 4.0, 5.0, 6.0, 7.0, 8.0, ...</td>\n",
       "      <td>[0.0, 1.0, 2.0, 3.0, 4.0, 5.0, 6.0, 7.0, 8.0, ...</td>\n",
       "      <td>[0.0, 1.0, 2.0, 3.0, 4.0, 5.0, 6.0, 7.0, 8.0, ...</td>\n",
       "      <td>[0.0, 1.0, 2.0, 3.0, 4.0, 5.0, 6.0, 7.0, 8.0, ...</td>\n",
       "    </tr>\n",
       "  </tbody>\n",
       "</table>\n",
       "</div>"
      ],
      "text/plain": [
       "                              mPFC_power_frequencies  \\\n",
       "0  [0.0, 1.0, 2.0, 3.0, 4.0, 5.0, 6.0, 7.0, 8.0, ...   \n",
       "1  [0.0, 1.0, 2.0, 3.0, 4.0, 5.0, 6.0, 7.0, 8.0, ...   \n",
       "2  [0.0, 1.0, 2.0, 3.0, 4.0, 5.0, 6.0, 7.0, 8.0, ...   \n",
       "3  [0.0, 1.0, 2.0, 3.0, 4.0, 5.0, 6.0, 7.0, 8.0, ...   \n",
       "\n",
       "                                MD_power_frequencies  \\\n",
       "0  [0.0, 1.0, 2.0, 3.0, 4.0, 5.0, 6.0, 7.0, 8.0, ...   \n",
       "1  [0.0, 1.0, 2.0, 3.0, 4.0, 5.0, 6.0, 7.0, 8.0, ...   \n",
       "2  [0.0, 1.0, 2.0, 3.0, 4.0, 5.0, 6.0, 7.0, 8.0, ...   \n",
       "3  [0.0, 1.0, 2.0, 3.0, 4.0, 5.0, 6.0, 7.0, 8.0, ...   \n",
       "\n",
       "                                LH_power_frequencies  \\\n",
       "0  [0.0, 1.0, 2.0, 3.0, 4.0, 5.0, 6.0, 7.0, 8.0, ...   \n",
       "1  [0.0, 1.0, 2.0, 3.0, 4.0, 5.0, 6.0, 7.0, 8.0, ...   \n",
       "2  [0.0, 1.0, 2.0, 3.0, 4.0, 5.0, 6.0, 7.0, 8.0, ...   \n",
       "3  [0.0, 1.0, 2.0, 3.0, 4.0, 5.0, 6.0, 7.0, 8.0, ...   \n",
       "\n",
       "                               BLA_power_frequencies  \\\n",
       "0  [0.0, 1.0, 2.0, 3.0, 4.0, 5.0, 6.0, 7.0, 8.0, ...   \n",
       "1  [0.0, 1.0, 2.0, 3.0, 4.0, 5.0, 6.0, 7.0, 8.0, ...   \n",
       "2  [0.0, 1.0, 2.0, 3.0, 4.0, 5.0, 6.0, 7.0, 8.0, ...   \n",
       "3  [0.0, 1.0, 2.0, 3.0, 4.0, 5.0, 6.0, 7.0, 8.0, ...   \n",
       "\n",
       "                              vHPC_power_frequencies  \n",
       "0  [0.0, 1.0, 2.0, 3.0, 4.0, 5.0, 6.0, 7.0, 8.0, ...  \n",
       "1  [0.0, 1.0, 2.0, 3.0, 4.0, 5.0, 6.0, 7.0, 8.0, ...  \n",
       "2  [0.0, 1.0, 2.0, 3.0, 4.0, 5.0, 6.0, 7.0, 8.0, ...  \n",
       "3  [0.0, 1.0, 2.0, 3.0, 4.0, 5.0, 6.0, 7.0, 8.0, ...  "
      ]
     },
     "execution_count": 65,
     "metadata": {},
     "output_type": "execute_result"
    }
   ],
   "source": [
    "LFP_TRACES_DF[[col for col in LFP_TRACES_DF.columns if \"power_frequencies\" in col]].head()"
   ]
  },
  {
   "cell_type": "code",
   "execution_count": 66,
   "metadata": {},
   "outputs": [],
   "source": [
    "LFP_TRACES_DF[\"power_calculation_frequencies\"] = LFP_TRACES_DF[[col for col in LFP_TRACES_DF.columns if \"power_frequencies\" in col][0]].copy()"
   ]
  },
  {
   "cell_type": "markdown",
   "metadata": {},
   "source": [
    "- Dropping unnecessary columns"
   ]
  },
  {
   "cell_type": "code",
   "execution_count": 67,
   "metadata": {
    "tags": []
   },
   "outputs": [],
   "source": [
    "LFP_TRACES_DF = LFP_TRACES_DF.drop(columns=[col for col in LFP_TRACES_DF.columns if \"power_frequencies\" in col], errors=\"ignore\")"
   ]
  },
  {
   "cell_type": "code",
   "execution_count": 68,
   "metadata": {
    "tags": []
   },
   "outputs": [
    {
     "data": {
      "text/html": [
       "<div>\n",
       "<style scoped>\n",
       "    .dataframe tbody tr th:only-of-type {\n",
       "        vertical-align: middle;\n",
       "    }\n",
       "\n",
       "    .dataframe tbody tr th {\n",
       "        vertical-align: top;\n",
       "    }\n",
       "\n",
       "    .dataframe thead th {\n",
       "        text-align: right;\n",
       "    }\n",
       "</style>\n",
       "<table border=\"1\" class=\"dataframe\">\n",
       "  <thead>\n",
       "    <tr style=\"text-align: right;\">\n",
       "      <th></th>\n",
       "      <th>cohort</th>\n",
       "      <th>session_dir</th>\n",
       "      <th>tone_frames</th>\n",
       "      <th>box_1_port_entry_frames</th>\n",
       "      <th>box_2_port_entry_frames</th>\n",
       "      <th>video_name</th>\n",
       "      <th>session_path</th>\n",
       "      <th>recording</th>\n",
       "      <th>current_subject</th>\n",
       "      <th>subject</th>\n",
       "      <th>...</th>\n",
       "      <th>LH_gamma_phase</th>\n",
       "      <th>BLA_gamma_phase</th>\n",
       "      <th>vHPC_gamma_phase</th>\n",
       "      <th>mPFC_power_all_frequencies_all_windows</th>\n",
       "      <th>MD_power_all_frequencies_all_windows</th>\n",
       "      <th>LH_power_all_frequencies_all_windows</th>\n",
       "      <th>BLA_power_all_frequencies_all_windows</th>\n",
       "      <th>vHPC_power_all_frequencies_all_windows</th>\n",
       "      <th>power_timestamps</th>\n",
       "      <th>power_calculation_frequencies</th>\n",
       "    </tr>\n",
       "  </thead>\n",
       "  <tbody>\n",
       "    <tr>\n",
       "      <th>0</th>\n",
       "      <td>2</td>\n",
       "      <td>20230616_111904_standard_comp_to_training_D4_s...</td>\n",
       "      <td>[[87, 287], [2483, 2683], [4778, 4979], [6575,...</td>\n",
       "      <td>[[338, 339], [341, 385], [385, 482], [696, 703...</td>\n",
       "      <td>[[31729, 31729], [31731, 31732], [31733, 31735...</td>\n",
       "      <td>20230616_111904_standard_comp_to_training_D4_s...</td>\n",
       "      <td>/scratch/back_up/reward_competition_extention/...</td>\n",
       "      <td>20230616_111904_standard_comp_to_training_D4_s...</td>\n",
       "      <td>1.2</td>\n",
       "      <td>1.2</td>\n",
       "      <td>...</td>\n",
       "      <td>[-2.7160869, -1.8236631, -1.681745, -1.8968126...</td>\n",
       "      <td>[0.50826246, 1.3333526, 1.7000021, 1.9947182, ...</td>\n",
       "      <td>[-0.41710478, 0.41474962, 0.646071, 1.0493771,...</td>\n",
       "      <td>[[0.024098832, 0.009762518, 0.050892465, 0.041...</td>\n",
       "      <td>[[0.024836412, 0.011202014, 0.04129896, 0.0422...</td>\n",
       "      <td>[[0.026446192, 0.012803332, 0.038253866, 0.039...</td>\n",
       "      <td>[[0.018910084, 0.011932221, 0.046599995, 0.040...</td>\n",
       "      <td>[[0.037737194, 0.037598904, 0.04601228, 0.0198...</td>\n",
       "      <td>[10000, 20000, 30000, 40000, 50000, 60000, 700...</td>\n",
       "      <td>[0.0, 1.0, 2.0, 3.0, 4.0, 5.0, 6.0, 7.0, 8.0, ...</td>\n",
       "    </tr>\n",
       "    <tr>\n",
       "      <th>1</th>\n",
       "      <td>2</td>\n",
       "      <td>20230616_111904_standard_comp_to_training_D4_s...</td>\n",
       "      <td>[[109, 358], [3101, 3349], [5967, 6217], [8211...</td>\n",
       "      <td>[[422, 423], [425, 480], [480, 601], [869, 877...</td>\n",
       "      <td>[[36005, 36005], [36006, 36008], [36009, 36010...</td>\n",
       "      <td>20230616_111904_standard_comp_to_training_D4_s...</td>\n",
       "      <td>/scratch/back_up/reward_competition_extention/...</td>\n",
       "      <td>20230616_111904_standard_comp_to_training_D4_s...</td>\n",
       "      <td>1.2</td>\n",
       "      <td>1.2</td>\n",
       "      <td>...</td>\n",
       "      <td>[-2.7160869, -1.8236631, -1.681745, -1.8968126...</td>\n",
       "      <td>[0.50826246, 1.3333526, 1.7000021, 1.9947182, ...</td>\n",
       "      <td>[-0.41710478, 0.41474962, 0.646071, 1.0493771,...</td>\n",
       "      <td>[[0.024098832, 0.009762518, 0.050892465, 0.041...</td>\n",
       "      <td>[[0.024836412, 0.011202014, 0.04129896, 0.0422...</td>\n",
       "      <td>[[0.026446192, 0.012803332, 0.038253866, 0.039...</td>\n",
       "      <td>[[0.018910084, 0.011932221, 0.046599995, 0.040...</td>\n",
       "      <td>[[0.037737194, 0.037598904, 0.04601228, 0.0198...</td>\n",
       "      <td>[10000, 20000, 30000, 40000, 50000, 60000, 700...</td>\n",
       "      <td>[0.0, 1.0, 2.0, 3.0, 4.0, 5.0, 6.0, 7.0, 8.0, ...</td>\n",
       "    </tr>\n",
       "    <tr>\n",
       "      <th>2</th>\n",
       "      <td>2</td>\n",
       "      <td>20230616_111904_standard_comp_to_training_D4_s...</td>\n",
       "      <td>[[87, 287], [2483, 2683], [4778, 4979], [6575,...</td>\n",
       "      <td>[[338, 339], [341, 385], [385, 482], [696, 703...</td>\n",
       "      <td>[[31729, 31729], [31731, 31732], [31733, 31735...</td>\n",
       "      <td>20230616_111904_standard_comp_to_training_D4_s...</td>\n",
       "      <td>/scratch/back_up/reward_competition_extention/...</td>\n",
       "      <td>20230616_111904_standard_comp_to_training_D4_s...</td>\n",
       "      <td>1.4</td>\n",
       "      <td>1.4</td>\n",
       "      <td>...</td>\n",
       "      <td>[-1.9773532, -1.4975241, -1.1854475, -0.944297...</td>\n",
       "      <td>[2.4729097, 3.0763984, -3.1191442, -2.7943575,...</td>\n",
       "      <td>[-0.66944313, -0.050489824, 0.13606614, 0.5177...</td>\n",
       "      <td>[[0.0030704911, 0.0023163357, 0.0065870937, 0....</td>\n",
       "      <td>[[0.00068250974, 0.0044481694, 0.007730588, 0....</td>\n",
       "      <td>[[0.0026389644, 0.004899454, 0.008434624, 0.00...</td>\n",
       "      <td>[[0.005588406, 0.006961292, 0.008746286, 0.009...</td>\n",
       "      <td>[[0.0059722597, 0.0067153047, 0.011428782, 0.0...</td>\n",
       "      <td>[10000, 20000, 30000, 40000, 50000, 60000, 700...</td>\n",
       "      <td>[0.0, 1.0, 2.0, 3.0, 4.0, 5.0, 6.0, 7.0, 8.0, ...</td>\n",
       "    </tr>\n",
       "    <tr>\n",
       "      <th>3</th>\n",
       "      <td>2</td>\n",
       "      <td>20230616_111904_standard_comp_to_training_D4_s...</td>\n",
       "      <td>[[109, 358], [3101, 3349], [5967, 6217], [8211...</td>\n",
       "      <td>[[422, 423], [425, 480], [480, 601], [869, 877...</td>\n",
       "      <td>[[36005, 36005], [36006, 36008], [36009, 36010...</td>\n",
       "      <td>20230616_111904_standard_comp_to_training_D4_s...</td>\n",
       "      <td>/scratch/back_up/reward_competition_extention/...</td>\n",
       "      <td>20230616_111904_standard_comp_to_training_D4_s...</td>\n",
       "      <td>1.4</td>\n",
       "      <td>1.4</td>\n",
       "      <td>...</td>\n",
       "      <td>[-1.9773532, -1.4975241, -1.1854475, -0.944297...</td>\n",
       "      <td>[2.4729097, 3.0763984, -3.1191442, -2.7943575,...</td>\n",
       "      <td>[-0.66944313, -0.050489824, 0.13606614, 0.5177...</td>\n",
       "      <td>[[0.0030704911, 0.0023163357, 0.0065870937, 0....</td>\n",
       "      <td>[[0.00068250974, 0.0044481694, 0.007730588, 0....</td>\n",
       "      <td>[[0.0026389644, 0.004899454, 0.008434624, 0.00...</td>\n",
       "      <td>[[0.005588406, 0.006961292, 0.008746286, 0.009...</td>\n",
       "      <td>[[0.0059722597, 0.0067153047, 0.011428782, 0.0...</td>\n",
       "      <td>[10000, 20000, 30000, 40000, 50000, 60000, 700...</td>\n",
       "      <td>[0.0, 1.0, 2.0, 3.0, 4.0, 5.0, 6.0, 7.0, 8.0, ...</td>\n",
       "    </tr>\n",
       "  </tbody>\n",
       "</table>\n",
       "<p>4 rows × 60 columns</p>\n",
       "</div>"
      ],
      "text/plain": [
       "   cohort                                        session_dir  \\\n",
       "0       2  20230616_111904_standard_comp_to_training_D4_s...   \n",
       "1       2  20230616_111904_standard_comp_to_training_D4_s...   \n",
       "2       2  20230616_111904_standard_comp_to_training_D4_s...   \n",
       "3       2  20230616_111904_standard_comp_to_training_D4_s...   \n",
       "\n",
       "                                         tone_frames  \\\n",
       "0  [[87, 287], [2483, 2683], [4778, 4979], [6575,...   \n",
       "1  [[109, 358], [3101, 3349], [5967, 6217], [8211...   \n",
       "2  [[87, 287], [2483, 2683], [4778, 4979], [6575,...   \n",
       "3  [[109, 358], [3101, 3349], [5967, 6217], [8211...   \n",
       "\n",
       "                             box_1_port_entry_frames  \\\n",
       "0  [[338, 339], [341, 385], [385, 482], [696, 703...   \n",
       "1  [[422, 423], [425, 480], [480, 601], [869, 877...   \n",
       "2  [[338, 339], [341, 385], [385, 482], [696, 703...   \n",
       "3  [[422, 423], [425, 480], [480, 601], [869, 877...   \n",
       "\n",
       "                             box_2_port_entry_frames  \\\n",
       "0  [[31729, 31729], [31731, 31732], [31733, 31735...   \n",
       "1  [[36005, 36005], [36006, 36008], [36009, 36010...   \n",
       "2  [[31729, 31729], [31731, 31732], [31733, 31735...   \n",
       "3  [[36005, 36005], [36006, 36008], [36009, 36010...   \n",
       "\n",
       "                                          video_name  \\\n",
       "0  20230616_111904_standard_comp_to_training_D4_s...   \n",
       "1  20230616_111904_standard_comp_to_training_D4_s...   \n",
       "2  20230616_111904_standard_comp_to_training_D4_s...   \n",
       "3  20230616_111904_standard_comp_to_training_D4_s...   \n",
       "\n",
       "                                        session_path  \\\n",
       "0  /scratch/back_up/reward_competition_extention/...   \n",
       "1  /scratch/back_up/reward_competition_extention/...   \n",
       "2  /scratch/back_up/reward_competition_extention/...   \n",
       "3  /scratch/back_up/reward_competition_extention/...   \n",
       "\n",
       "                                           recording current_subject subject  \\\n",
       "0  20230616_111904_standard_comp_to_training_D4_s...             1.2     1.2   \n",
       "1  20230616_111904_standard_comp_to_training_D4_s...             1.2     1.2   \n",
       "2  20230616_111904_standard_comp_to_training_D4_s...             1.4     1.4   \n",
       "3  20230616_111904_standard_comp_to_training_D4_s...             1.4     1.4   \n",
       "\n",
       "   ...                                     LH_gamma_phase  \\\n",
       "0  ...  [-2.7160869, -1.8236631, -1.681745, -1.8968126...   \n",
       "1  ...  [-2.7160869, -1.8236631, -1.681745, -1.8968126...   \n",
       "2  ...  [-1.9773532, -1.4975241, -1.1854475, -0.944297...   \n",
       "3  ...  [-1.9773532, -1.4975241, -1.1854475, -0.944297...   \n",
       "\n",
       "                                     BLA_gamma_phase  \\\n",
       "0  [0.50826246, 1.3333526, 1.7000021, 1.9947182, ...   \n",
       "1  [0.50826246, 1.3333526, 1.7000021, 1.9947182, ...   \n",
       "2  [2.4729097, 3.0763984, -3.1191442, -2.7943575,...   \n",
       "3  [2.4729097, 3.0763984, -3.1191442, -2.7943575,...   \n",
       "\n",
       "                                    vHPC_gamma_phase  \\\n",
       "0  [-0.41710478, 0.41474962, 0.646071, 1.0493771,...   \n",
       "1  [-0.41710478, 0.41474962, 0.646071, 1.0493771,...   \n",
       "2  [-0.66944313, -0.050489824, 0.13606614, 0.5177...   \n",
       "3  [-0.66944313, -0.050489824, 0.13606614, 0.5177...   \n",
       "\n",
       "              mPFC_power_all_frequencies_all_windows  \\\n",
       "0  [[0.024098832, 0.009762518, 0.050892465, 0.041...   \n",
       "1  [[0.024098832, 0.009762518, 0.050892465, 0.041...   \n",
       "2  [[0.0030704911, 0.0023163357, 0.0065870937, 0....   \n",
       "3  [[0.0030704911, 0.0023163357, 0.0065870937, 0....   \n",
       "\n",
       "                MD_power_all_frequencies_all_windows  \\\n",
       "0  [[0.024836412, 0.011202014, 0.04129896, 0.0422...   \n",
       "1  [[0.024836412, 0.011202014, 0.04129896, 0.0422...   \n",
       "2  [[0.00068250974, 0.0044481694, 0.007730588, 0....   \n",
       "3  [[0.00068250974, 0.0044481694, 0.007730588, 0....   \n",
       "\n",
       "                LH_power_all_frequencies_all_windows  \\\n",
       "0  [[0.026446192, 0.012803332, 0.038253866, 0.039...   \n",
       "1  [[0.026446192, 0.012803332, 0.038253866, 0.039...   \n",
       "2  [[0.0026389644, 0.004899454, 0.008434624, 0.00...   \n",
       "3  [[0.0026389644, 0.004899454, 0.008434624, 0.00...   \n",
       "\n",
       "               BLA_power_all_frequencies_all_windows  \\\n",
       "0  [[0.018910084, 0.011932221, 0.046599995, 0.040...   \n",
       "1  [[0.018910084, 0.011932221, 0.046599995, 0.040...   \n",
       "2  [[0.005588406, 0.006961292, 0.008746286, 0.009...   \n",
       "3  [[0.005588406, 0.006961292, 0.008746286, 0.009...   \n",
       "\n",
       "              vHPC_power_all_frequencies_all_windows  \\\n",
       "0  [[0.037737194, 0.037598904, 0.04601228, 0.0198...   \n",
       "1  [[0.037737194, 0.037598904, 0.04601228, 0.0198...   \n",
       "2  [[0.0059722597, 0.0067153047, 0.011428782, 0.0...   \n",
       "3  [[0.0059722597, 0.0067153047, 0.011428782, 0.0...   \n",
       "\n",
       "                                    power_timestamps  \\\n",
       "0  [10000, 20000, 30000, 40000, 50000, 60000, 700...   \n",
       "1  [10000, 20000, 30000, 40000, 50000, 60000, 700...   \n",
       "2  [10000, 20000, 30000, 40000, 50000, 60000, 700...   \n",
       "3  [10000, 20000, 30000, 40000, 50000, 60000, 700...   \n",
       "\n",
       "                       power_calculation_frequencies  \n",
       "0  [0.0, 1.0, 2.0, 3.0, 4.0, 5.0, 6.0, 7.0, 8.0, ...  \n",
       "1  [0.0, 1.0, 2.0, 3.0, 4.0, 5.0, 6.0, 7.0, 8.0, ...  \n",
       "2  [0.0, 1.0, 2.0, 3.0, 4.0, 5.0, 6.0, 7.0, 8.0, ...  \n",
       "3  [0.0, 1.0, 2.0, 3.0, 4.0, 5.0, 6.0, 7.0, 8.0, ...  \n",
       "\n",
       "[4 rows x 60 columns]"
      ]
     },
     "execution_count": 68,
     "metadata": {},
     "output_type": "execute_result"
    }
   ],
   "source": [
    "LFP_TRACES_DF.head()"
   ]
  },
  {
   "cell_type": "code",
   "execution_count": 69,
   "metadata": {},
   "outputs": [
    {
     "ename": "ValueError",
     "evalue": "",
     "output_type": "error",
     "traceback": [
      "\u001b[0;31m---------------------------------------------------------------------------\u001b[0m",
      "\u001b[0;31mValueError\u001b[0m                                Traceback (most recent call last)",
      "Cell \u001b[0;32mIn[69], line 1\u001b[0m\n\u001b[0;32m----> 1\u001b[0m \u001b[38;5;28;01mraise\u001b[39;00m \u001b[38;5;167;01mValueError\u001b[39;00m()\n",
      "\u001b[0;31mValueError\u001b[0m: "
     ]
    }
   ],
   "source": [
    "raise ValueError()"
   ]
  },
  {
   "cell_type": "markdown",
   "metadata": {},
   "source": [
    "## Coherence Calculation"
   ]
  },
  {
   "cell_type": "markdown",
   "metadata": {},
   "source": [
    "- Getting the trace column pairs"
   ]
  },
  {
   "cell_type": "code",
   "execution_count": null,
   "metadata": {
    "tags": []
   },
   "outputs": [],
   "source": [
    "brain_region_pairs = generate_pairs(sorted(input_columns))\n",
    "brain_region_pairs = sorted(brain_region_pairs)\n"
   ]
  },
  {
   "cell_type": "code",
   "execution_count": null,
   "metadata": {
    "tags": []
   },
   "outputs": [],
   "source": [
    "brain_region_pairs"
   ]
  },
  {
   "cell_type": "markdown",
   "metadata": {},
   "source": [
    "## Coherece Calculation"
   ]
  },
  {
   "cell_type": "markdown",
   "metadata": {},
   "source": [
    "- Calculating the coherence"
   ]
  },
  {
   "cell_type": "code",
   "execution_count": null,
   "metadata": {},
   "outputs": [],
   "source": [
    "for region_1, region_2 in brain_region_pairs:\n",
    "    # Define base name for pair\n",
    "    pair_base_name = f\"{region_1.split('_')[0]}_{region_2.split('_')[0]}\"\n",
    "    print(pair_base_name)\n",
    "\n",
    "    try:\n",
    "        # Define column names\n",
    "        frequencies_col = f\"{pair_base_name}_coherence_frequencies\"\n",
    "        coherence_col = f\"{pair_base_name}_coherence_all_frequencies_all_windows\"\n",
    "\n",
    "        index_to_multitaper = {}\n",
    "        index_to_connectivity = {}\n",
    "        index_to_frequencies = {}\n",
    "        index_to_coherence = {}\n",
    "\n",
    "        for index, row in LFP_TRACES_DF.iterrows():\n",
    "            index_to_multitaper[index] = Multitaper(\n",
    "                time_series=np.array([row[region_1], row[region_2]]).T, \n",
    "                sampling_frequency=RESAMPLE_RATE, \n",
    "                time_halfbandwidth_product=TIME_HALFBANDWIDTH_PRODUCT, \n",
    "                time_window_step=TIME_WINDOW_STEP, \n",
    "                time_window_duration=TIME_WINDOW_DURATION\n",
    "            )\n",
    "            print(index)\n",
    "            index_to_connectivity[index] = Connectivity.from_multitaper(index_to_multitaper[index])\n",
    "            index_to_frequencies[index] = index_to_connectivity[index].frequencies[FILTER_BAND[0]: FILTER_BAND[1]]\n",
    "            index_to_coherence[index] = index_to_connectivity[index].coherence_magnitude()[:, FILTER_BAND[0]: FILTER_BAND[1], 0, 1]\n",
    "\n",
    "        LFP_TRACES_DF[frequencies_col] = LFP_TRACES_DF.index.to_series().map(index_to_frequencies)\n",
    "        LFP_TRACES_DF[coherence_col] = LFP_TRACES_DF.index.to_series().map(index_to_coherence)\n",
    "        LFP_TRACES_DF[coherence_col] = LFP_TRACES_DF[coherence_col].apply(lambda x: x.astype(np.float32))\n",
    "\n",
    "    except Exception as e: \n",
    "        print(e)"
   ]
  },
  {
   "cell_type": "code",
   "execution_count": null,
   "metadata": {
    "tags": []
   },
   "outputs": [],
   "source": [
    "LFP_TRACES_DF[\"BLA_LH_coherence_all_frequencies_all_windows\"].iloc[0].shape"
   ]
  },
  {
   "cell_type": "code",
   "execution_count": null,
   "metadata": {
    "tags": []
   },
   "outputs": [],
   "source": [
    "LFP_TRACES_DF[\"BLA_LH_coherence_frequencies\"].iloc[0]"
   ]
  },
  {
   "cell_type": "code",
   "execution_count": null,
   "metadata": {},
   "outputs": [],
   "source": [
    "LFP_TRACES_DF.head()"
   ]
  },
  {
   "cell_type": "markdown",
   "metadata": {},
   "source": [
    "- Getting the timestamps of the coherence"
   ]
  },
  {
   "cell_type": "code",
   "execution_count": null,
   "metadata": {
    "tags": []
   },
   "outputs": [],
   "source": [
    "LFP_TRACES_DF[\"coherence_timestamps\"] = LFP_TRACES_DF[\"lfp_timestamps\"].apply(lambda x: x[(RESAMPLE_RATE//2):(-RESAMPLE_RATE//2):(RESAMPLE_RATE//2)])\n"
   ]
  },
  {
   "cell_type": "markdown",
   "metadata": {},
   "source": [
    "- Making sure that the timestamps for coherence makes sense with shape and values"
   ]
  },
  {
   "cell_type": "code",
   "execution_count": null,
   "metadata": {
    "tags": []
   },
   "outputs": [],
   "source": [
    "LFP_TRACES_DF[\"coherence_timestamps\"].head().apply(lambda x: x.shape)"
   ]
  },
  {
   "cell_type": "code",
   "execution_count": null,
   "metadata": {
    "tags": []
   },
   "outputs": [],
   "source": [
    "LFP_TRACES_DF[[col for col in LFP_TRACES_DF.columns if \"coherence_all_frequencies_all_windows\" in col][0]].iloc[0].shape"
   ]
  },
  {
   "cell_type": "code",
   "execution_count": null,
   "metadata": {
    "tags": []
   },
   "outputs": [],
   "source": [
    "LFP_TRACES_DF[[col for col in LFP_TRACES_DF.columns if \"lfp_timestamps\" in col][0]].iloc[0]"
   ]
  },
  {
   "cell_type": "code",
   "execution_count": null,
   "metadata": {
    "tags": []
   },
   "outputs": [],
   "source": [
    "LFP_TRACES_DF[[col for col in LFP_TRACES_DF.columns if \"coherence_timestamps\" in col][0]].iloc[0]"
   ]
  },
  {
   "cell_type": "markdown",
   "metadata": {},
   "source": [
    "- Checking if the right frequencies are being used"
   ]
  },
  {
   "cell_type": "code",
   "execution_count": null,
   "metadata": {
    "tags": []
   },
   "outputs": [],
   "source": [
    "LFP_TRACES_DF[[col for col in LFP_TRACES_DF.columns if \"coherence_frequencies\" in col]].head()"
   ]
  },
  {
   "cell_type": "code",
   "execution_count": null,
   "metadata": {},
   "outputs": [],
   "source": [
    "LFP_TRACES_DF[\"coherence_calculation_frequencies\"] = LFP_TRACES_DF[[col for col in LFP_TRACES_DF.columns if \"coherence_frequencies\" in col][0]].copy()"
   ]
  },
  {
   "cell_type": "markdown",
   "metadata": {},
   "source": [
    "- Dropping unnecessary columns"
   ]
  },
  {
   "cell_type": "code",
   "execution_count": null,
   "metadata": {
    "tags": []
   },
   "outputs": [],
   "source": [
    "LFP_TRACES_DF = LFP_TRACES_DF.drop(columns=[col for col in LFP_TRACES_DF.columns if \"coherence_frequencies\" in col], errors=\"ignore\")"
   ]
  },
  {
   "cell_type": "code",
   "execution_count": null,
   "metadata": {
    "tags": []
   },
   "outputs": [],
   "source": [
    "LFP_TRACES_DF.head()"
   ]
  },
  {
   "cell_type": "markdown",
   "metadata": {},
   "source": [
    "# Calculate Granger's"
   ]
  },
  {
   "cell_type": "code",
   "execution_count": null,
   "metadata": {},
   "outputs": [],
   "source": [
    "for region_1, region_2 in brain_region_pairs:\n",
    "    # Define base name for pair\n",
    "    region_1_base_name = region_1.split('_')[0]\n",
    "    region_2_base_name = region_2.split('_')[0]\n",
    "\n",
    "    pair_base_name = f\"{region_1_base_name}_{region_2_base_name}\"\n",
    "    print(pair_base_name)\n",
    "\n",
    "    try:\n",
    "        # Define column names\n",
    "        frequencies_col = f\"{pair_base_name}_granger_frequencies\"\n",
    "        granger_1_2_col = f\"{region_1_base_name}_{region_2_base_name}_granger_all_frequencies_all_windows\"\n",
    "        granger_2_1_col = f\"{region_2_base_name}_{region_1_base_name}_granger_all_frequencies_all_windows\"\n",
    "\n",
    "        index_to_multitaper = {}\n",
    "        index_to_connectivity = {}\n",
    "        index_to_frequencies = {}\n",
    "        index_to_granger_1_to_2 = {}\n",
    "        index_to_granger_2_to_1 = {}\n",
    "\n",
    "        \n",
    "        for index, row in LFP_TRACES_DF.iterrows():\n",
    "            # Apply Multitaper function\n",
    "            index_to_multitaper[index] = Multitaper(\n",
    "                    time_series=np.array([row[region_1], row[region_2]]).T, \n",
    "                    sampling_frequency=RESAMPLE_RATE, \n",
    "                    time_halfbandwidth_product=TIME_HALFBANDWIDTH_PRODUCT, \n",
    "                    time_window_step=TIME_WINDOW_STEP, \n",
    "                    time_window_duration=TIME_WINDOW_DURATION\n",
    "                )\n",
    "            \n",
    "            print(index)\n",
    "            index_to_connectivity[index] = Connectivity.from_multitaper(index_to_multitaper[index])\n",
    "            index_to_frequencies[index] = index_to_connectivity[index].frequencies[FILTER_BAND[0]: FILTER_BAND[1]]\n",
    "            index_to_granger_1_to_2[index] = index_to_connectivity[index].pairwise_spectral_granger_prediction()[:, FILTER_BAND[0]: FILTER_BAND[1], 0, 1]\n",
    "            index_to_granger_2_to_1[index] = index_to_connectivity[index].pairwise_spectral_granger_prediction()[:, FILTER_BAND[0]: FILTER_BAND[1], 1, 0]          \n",
    "            \n",
    "\n",
    "        LFP_TRACES_DF[frequencies_col] = LFP_TRACES_DF.index.to_series().map(index_to_frequencies)\n",
    "        LFP_TRACES_DF[granger_1_2_col] = LFP_TRACES_DF.index.to_series().map(index_to_granger_1_to_2)\n",
    "        LFP_TRACES_DF[granger_1_2_col] = LFP_TRACES_DF[granger_1_2_col].apply(lambda x: x.astype(np.float32))\n",
    "        LFP_TRACES_DF[granger_2_1_col] = LFP_TRACES_DF.index.to_series().map(index_to_granger_2_to_1)\n",
    "        LFP_TRACES_DF[granger_2_1_col] = LFP_TRACES_DF[granger_2_1_col].apply(lambda x: x.astype(np.float32))        \n",
    "    \n",
    "    except Exception as e: \n",
    "        print(e)"
   ]
  },
  {
   "cell_type": "markdown",
   "metadata": {},
   "source": [
    "- Getting the timestamps of the granger"
   ]
  },
  {
   "cell_type": "code",
   "execution_count": null,
   "metadata": {
    "tags": []
   },
   "outputs": [],
   "source": [
    "LFP_TRACES_DF[\"granger_timestamps\"] = LFP_TRACES_DF[\"lfp_timestamps\"].apply(lambda x: x[(RESAMPLE_RATE//2):(-RESAMPLE_RATE//2):(RESAMPLE_RATE//2)])\n"
   ]
  },
  {
   "cell_type": "markdown",
   "metadata": {},
   "source": [
    "- Making sure that the timestamps for granger makes sense with shape and values"
   ]
  },
  {
   "cell_type": "code",
   "execution_count": null,
   "metadata": {
    "tags": []
   },
   "outputs": [],
   "source": [
    "LFP_TRACES_DF[\"granger_timestamps\"].head().apply(lambda x: x.shape)"
   ]
  },
  {
   "cell_type": "code",
   "execution_count": null,
   "metadata": {
    "tags": []
   },
   "outputs": [],
   "source": [
    "LFP_TRACES_DF[[col for col in LFP_TRACES_DF.columns if \"granger_all_frequencies_all_windows\" in col][0]].iloc[0].shape"
   ]
  },
  {
   "cell_type": "code",
   "execution_count": null,
   "metadata": {
    "tags": []
   },
   "outputs": [],
   "source": [
    "LFP_TRACES_DF[[col for col in LFP_TRACES_DF.columns if \"lfp_timestamps\" in col][0]].iloc[0]"
   ]
  },
  {
   "cell_type": "code",
   "execution_count": null,
   "metadata": {
    "tags": []
   },
   "outputs": [],
   "source": [
    "LFP_TRACES_DF[[col for col in LFP_TRACES_DF.columns if \"granger_timestamps\" in col][0]].iloc[0]"
   ]
  },
  {
   "cell_type": "markdown",
   "metadata": {},
   "source": [
    "- Checking if the right frequencies are being used"
   ]
  },
  {
   "cell_type": "code",
   "execution_count": null,
   "metadata": {
    "tags": []
   },
   "outputs": [],
   "source": [
    "LFP_TRACES_DF[[col for col in LFP_TRACES_DF.columns if \"granger_frequencies\" in col]].head()"
   ]
  },
  {
   "cell_type": "code",
   "execution_count": null,
   "metadata": {},
   "outputs": [],
   "source": [
    "LFP_TRACES_DF[\"granger_calculation_frequencies\"] = LFP_TRACES_DF[[col for col in LFP_TRACES_DF.columns if \"granger_frequencies\" in col][0]].copy()"
   ]
  },
  {
   "cell_type": "code",
   "execution_count": null,
   "metadata": {
    "tags": []
   },
   "outputs": [],
   "source": [
    "LFP_TRACES_DF = LFP_TRACES_DF.drop(columns=[col for col in LFP_TRACES_DF.columns if \"granger_frequencies\" in col], errors=\"ignore\")"
   ]
  },
  {
   "cell_type": "code",
   "execution_count": null,
   "metadata": {
    "tags": []
   },
   "outputs": [],
   "source": [
    "LFP_TRACES_DF.head()"
   ]
  },
  {
   "cell_type": "markdown",
   "metadata": {},
   "source": [
    "# Saving to file"
   ]
  },
  {
   "cell_type": "code",
   "execution_count": null,
   "metadata": {
    "tags": []
   },
   "outputs": [],
   "source": [
    "LFP_TRACES_DF.head()"
   ]
  },
  {
   "cell_type": "code",
   "execution_count": null,
   "metadata": {
    "tags": []
   },
   "outputs": [],
   "source": [
    "LFP_TRACES_DF.columns"
   ]
  },
  {
   "cell_type": "code",
   "execution_count": null,
   "metadata": {
    "tags": []
   },
   "outputs": [],
   "source": [
    "LFP_TRACES_DF.to_pickle(\"./proc/{}_02_full_spectral.pkl\".format(OUTPUT_PREFIX))"
   ]
  },
  {
   "cell_type": "code",
   "execution_count": null,
   "metadata": {
    "tags": []
   },
   "outputs": [],
   "source": [
    "raise ValueError()"
   ]
  },
  {
   "cell_type": "code",
   "execution_count": null,
   "metadata": {},
   "outputs": [],
   "source": []
  }
 ],
 "metadata": {
  "deepnote": {},
  "deepnote_execution_queue": [],
  "deepnote_notebook_id": "cf8fe3695d074ee7887fdf6459cbf5ce",
  "kernelspec": {
   "display_name": "mountainsort_0_5_6",
   "language": "python",
   "name": "python3"
  },
  "language_info": {
   "codemirror_mode": {
    "name": "ipython",
    "version": 3
   },
   "file_extension": ".py",
   "mimetype": "text/x-python",
   "name": "python",
   "nbconvert_exporter": "python",
   "pygments_lexer": "ipython3",
   "version": "3.9.19"
  }
 },
 "nbformat": 4,
 "nbformat_minor": 4
}
