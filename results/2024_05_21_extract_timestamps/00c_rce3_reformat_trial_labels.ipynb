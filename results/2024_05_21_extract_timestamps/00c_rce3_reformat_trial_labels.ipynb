{
 "cells": [
  {
   "cell_type": "markdown",
   "metadata": {
    "cell_id": "c3a02adc9e884466bc8c79db549cc3d2",
    "deepnote_cell_type": "text-cell-h1",
    "formattedRanges": [
     {
      "fromCodePoint": 0,
      "marks": {
       "bold": true,
       "underline": true
      },
      "toCodePoint": 17,
      "type": "marks"
     }
    ]
   },
   "source": [
    "# Add trial labels"
   ]
  },
  {
   "cell_type": "markdown",
   "metadata": {
    "cell_id": "4546bee655b14a5dbf393161f1228e60",
    "deepnote_cell_type": "text-cell-p",
    "formattedRanges": []
   },
   "source": [
    "Brief 1-2 sentence description of notebook."
   ]
  },
  {
   "cell_type": "code",
   "execution_count": 1,
   "metadata": {
    "tags": []
   },
   "outputs": [],
   "source": [
    "import os\n",
    "import glob\n",
    "import git\n",
    "import sys\n"
   ]
  },
  {
   "cell_type": "code",
   "execution_count": 2,
   "metadata": {
    "cell_id": "03b495cefa6a4798a44c7f2e4c6a3ea7",
    "deepnote_cell_type": "code",
    "deepnote_to_be_reexecuted": false,
    "execution_millis": 21,
    "execution_start": 1691424003626,
    "source_hash": null,
    "tags": []
   },
   "outputs": [],
   "source": [
    "# Imports of all used packages and libraries\n",
    "import numpy as np\n",
    "import pandas as pd\n",
    "# import seaborn as sns\n",
    "import matplotlib as mpl\n",
    "import matplotlib.pyplot as plt\n",
    "import h5py\n",
    "from scipy.interpolate import interp1d\n",
    "from scipy.signal import savgol_filter\n"
   ]
  },
  {
   "cell_type": "code",
   "execution_count": 3,
   "metadata": {
    "tags": []
   },
   "outputs": [],
   "source": [
    "git_repo = git.Repo(\".\", search_parent_directories=True)\n",
    "git_root = git_repo.git.rev_parse(\"--show-toplevel\")"
   ]
  },
  {
   "cell_type": "code",
   "execution_count": 4,
   "metadata": {
    "tags": []
   },
   "outputs": [
    {
     "data": {
      "text/plain": [
       "'/nancy/user/riwata/projects/reward_comp_ext'"
      ]
     },
     "execution_count": 4,
     "metadata": {},
     "output_type": "execute_result"
    }
   ],
   "source": [
    "git_root"
   ]
  },
  {
   "cell_type": "code",
   "execution_count": 5,
   "metadata": {
    "tags": []
   },
   "outputs": [],
   "source": [
    "sys.path.insert(0, os.path.join(git_root, 'src'))"
   ]
  },
  {
   "cell_type": "code",
   "execution_count": 6,
   "metadata": {
    "tags": []
   },
   "outputs": [],
   "source": [
    "# sns.set('notebook', 'ticks', font_scale=1.2)\n",
    "mpl.rcParams['figure.figsize'] = [15,6]"
   ]
  },
  {
   "cell_type": "markdown",
   "metadata": {},
   "source": [
    "## Functions"
   ]
  },
  {
   "cell_type": "code",
   "execution_count": null,
   "metadata": {},
   "outputs": [],
   "source": []
  },
  {
   "cell_type": "markdown",
   "metadata": {
    "cell_id": "d290bac2c17940bfbc0f9296beaf70e5",
    "deepnote_cell_type": "text-cell-h2",
    "formattedRanges": []
   },
   "source": [
    "## Inputs & Data"
   ]
  },
  {
   "cell_type": "markdown",
   "metadata": {
    "cell_id": "e528ce19c608425292151930d380f49f",
    "deepnote_cell_type": "text-cell-p",
    "formattedRanges": []
   },
   "source": [
    "Explanation of each input and where it comes from."
   ]
  },
  {
   "cell_type": "code",
   "execution_count": null,
   "metadata": {},
   "outputs": [],
   "source": []
  },
  {
   "cell_type": "markdown",
   "metadata": {},
   "source": [
    "## Outputs"
   ]
  },
  {
   "cell_type": "markdown",
   "metadata": {},
   "source": [
    "Describe each output that the notebook creates. "
   ]
  },
  {
   "cell_type": "markdown",
   "metadata": {},
   "source": [
    "- Is it a plot or is it data?"
   ]
  },
  {
   "cell_type": "markdown",
   "metadata": {},
   "source": [
    "- How valuable is the output and why is it valuable or useful?"
   ]
  },
  {
   "cell_type": "code",
   "execution_count": 7,
   "metadata": {
    "tags": []
   },
   "outputs": [],
   "source": [
    "# Inputs and Required data loading\n",
    "# input varaible names are in all caps snake case\n",
    "# Whenever an input changes or is used for processing \n",
    "# the vairables are all lower in snake case\n",
    "OUTPUT_DIR = r\"./proc/\" # where data is saved should always be shown in the inputs\n",
    "os.makedirs(OUTPUT_DIR, exist_ok=True)\n",
    "OUTPUT_PREFIX = \"rce_pilot_3_alone_comp\""
   ]
  },
  {
   "cell_type": "code",
   "execution_count": 8,
   "metadata": {
    "tags": []
   },
   "outputs": [],
   "source": [
    "FULL_LFP_TRACES_PKL = \"{}_03_spectral_trial_labels.pkl\".format(OUTPUT_PREFIX)"
   ]
  },
  {
   "cell_type": "markdown",
   "metadata": {},
   "source": [
    "## Processing"
   ]
  },
  {
   "cell_type": "markdown",
   "metadata": {},
   "source": [
    "### Looking at when each subject was in each video"
   ]
  },
  {
   "cell_type": "code",
   "execution_count": 9,
   "metadata": {
    "tags": []
   },
   "outputs": [],
   "source": [
    "subject_start_stop_frames = pd.read_excel(\"./data/{}_per_subject_start_stop_video_frame.xlsx\".format(OUTPUT_PREFIX))\n",
    "subject_start_stop_frames = subject_start_stop_frames.dropna(subset=[\"file_path\"])"
   ]
  },
  {
   "cell_type": "markdown",
   "metadata": {},
   "source": [
    "- Getting the name of the SLEAP and video files where each subject was in"
   ]
  },
  {
   "cell_type": "code",
   "execution_count": 10,
   "metadata": {
    "tags": []
   },
   "outputs": [],
   "source": [
    "subject_start_stop_frames[\"sleap_name\"] = subject_start_stop_frames[\"file_path\"].apply(lambda x: os.path.basename(x))\n",
    "subject_start_stop_frames[\"video_name\"] = subject_start_stop_frames[\"file_path\"].apply(lambda x: \".\".join(os.path.basename(x).split(\".\")[:2]))\n",
    "subject_start_stop_frames[\"start_frame\"] = subject_start_stop_frames[\"start_frame\"].astype(int)\n",
    "subject_start_stop_frames[\"stop_frame\"] = subject_start_stop_frames[\"stop_frame\"].astype(int)"
   ]
  },
  {
   "cell_type": "code",
   "execution_count": 11,
   "metadata": {
    "tags": []
   },
   "outputs": [],
   "source": [
    "subject_start_stop_frames = subject_start_stop_frames.drop(columns=[\"file_path\", \"notes\", \"in_video_subjects\"], errors=\"ignore\")"
   ]
  },
  {
   "cell_type": "code",
   "execution_count": 12,
   "metadata": {
    "tags": []
   },
   "outputs": [
    {
     "data": {
      "text/plain": [
       "array(['20221214_125409_om_and_comp_6_1_and_6_3.1',\n",
       "       '20221215_145401_comp_amd_om_6_1_and_6_3.1',\n",
       "       '20230612_112630_standard_comp_to_training_D1_subj_1-2_and_1-1.1',\n",
       "       '20230612_112630_standard_comp_to_training_D1_subj_1-2_and_1-1.2',\n",
       "       '20230613_105657_standard_comp_to_training_D2_subj_1-1_and_1-4.1',\n",
       "       '20230613_105657_standard_comp_to_training_D2_subj_1-1_and_1-4.2',\n",
       "       '20230614_114041_standard_comp_to_training_D3_subj_1-1_and_1-2.1',\n",
       "       '20230614_114041_standard_comp_to_training_D3_subj_1-1_and_1-2.2',\n",
       "       '20230614_114041_standard_comp_to_training_D3_subj_1-1_and_1-2.3',\n",
       "       '20230616_111904_standard_comp_to_training_D4_subj_1-4_and_1-2.1',\n",
       "       '20230616_111904_standard_comp_to_training_D4_subj_1-4_and_1-2.2',\n",
       "       '20230617_115521_standard_comp_to_omission_D1_subj_1-1_and_1-2.1',\n",
       "       '20230617_115521_standard_comp_to_omission_D1_subj_1-1_and_1-2.3',\n",
       "       '20230618_100636_standard_comp_to_omission_D2_subj_1-4_and_1-1.1',\n",
       "       '20230618_100636_standard_comp_to_omission_D2_subj_1-4_and_1-1.2',\n",
       "       '20230619_115321_standard_comp_to_omission_D3_subj_1-2_and_1-4.3',\n",
       "       '20230619_115321_standard_comp_to_omission_D3_subj_1-2_and_1-4.4',\n",
       "       '20230620_114347_standard_comp_to_omission_D4_subj_1-2_and_1-1.1',\n",
       "       '20230620_114347_standard_comp_to_omission_D4_subj_1-2_and_1-1.2',\n",
       "       '20230621_111240_standard_comp_to_omission_D5_subj_1-4_and_1-2.1',\n",
       "       '20230621_111240_standard_comp_to_omission_D5_subj_1-4_and_1-2.2',\n",
       "       '20230622_110832_standard_comp_to_both_rewarded_D1_subj_1-1_and_1-2.1',\n",
       "       '20230623_114932_standard_comp_to_both_rewarded_D2_subj_1-4_and_1-1.1',\n",
       "       '20230623_114932_standard_comp_to_both_rewarded_D2_subj_1-4_and_1-1.2',\n",
       "       '20230624_105855_standard_comp_to_both_rewarded_D3_subj_1-2_and_1-4.1',\n",
       "       '20230625_112913_standard_comp_to_both_rewarded_D4_subj_1-1_and_1-4.1',\n",
       "       '20230628_111202_standard_comp_to_novel_agent_D1_subj_1-1vs2-2and1-2vs2-1.1',\n",
       "       '20230628_111202_standard_comp_to_novel_agent_D1_subj_1-1vs2-2and1-2vs2-1.2',\n",
       "       '20230628_111202_standard_comp_to_novel_agent_D1_subj_1-1vs2-2and1-2vs2-1.3',\n",
       "       '20230628_111202_standard_comp_to_novel_agent_D1_subj_1-1vs2-2and1-2vs2-1.4',\n",
       "       '20230629_111937_standard_comp_to_novel_agent_D2_subj_1-1vs2-1and1-4vs2-2.1',\n",
       "       '20230629_111937_standard_comp_to_novel_agent_D2_subj_1-1vs2-1and1-4vs2-2.2',\n",
       "       '20230630_115506_standard_comp_to_novel_agent_D3_subj_1-4vs2-1and1-2vs2-2.1',\n",
       "       '20230630_115506_standard_comp_to_novel_agent_D3_subj_1-4vs2-1and1-2vs2-2.2'],\n",
       "      dtype=object)"
      ]
     },
     "execution_count": 12,
     "metadata": {},
     "output_type": "execute_result"
    }
   ],
   "source": [
    "subject_start_stop_frames[\"video_name\"].unique()"
   ]
  },
  {
   "cell_type": "code",
   "execution_count": 13,
   "metadata": {
    "tags": []
   },
   "outputs": [
    {
     "data": {
      "text/html": [
       "<div>\n",
       "<style scoped>\n",
       "    .dataframe tbody tr th:only-of-type {\n",
       "        vertical-align: middle;\n",
       "    }\n",
       "\n",
       "    .dataframe tbody tr th {\n",
       "        vertical-align: top;\n",
       "    }\n",
       "\n",
       "    .dataframe thead th {\n",
       "        text-align: right;\n",
       "    }\n",
       "</style>\n",
       "<table border=\"1\" class=\"dataframe\">\n",
       "  <thead>\n",
       "    <tr style=\"text-align: right;\">\n",
       "      <th></th>\n",
       "      <th>start_frame</th>\n",
       "      <th>stop_frame</th>\n",
       "      <th>tracked_subject</th>\n",
       "      <th>box_number</th>\n",
       "      <th>sleap_name</th>\n",
       "      <th>video_name</th>\n",
       "    </tr>\n",
       "  </thead>\n",
       "  <tbody>\n",
       "    <tr>\n",
       "      <th>0</th>\n",
       "      <td>1</td>\n",
       "      <td>25000</td>\n",
       "      <td>6.3</td>\n",
       "      <td>1</td>\n",
       "      <td>20221214_125409_om_and_comp_6_1_and_6_3.1.1_su...</td>\n",
       "      <td>20221214_125409_om_and_comp_6_1_and_6_3.1</td>\n",
       "    </tr>\n",
       "    <tr>\n",
       "      <th>1</th>\n",
       "      <td>27500</td>\n",
       "      <td>73600</td>\n",
       "      <td>6.1_6.3</td>\n",
       "      <td>1</td>\n",
       "      <td>20221214_125409_om_and_comp_6_1_and_6_3.1.2_su...</td>\n",
       "      <td>20221214_125409_om_and_comp_6_1_and_6_3.1</td>\n",
       "    </tr>\n",
       "    <tr>\n",
       "      <th>2</th>\n",
       "      <td>51500</td>\n",
       "      <td>76454</td>\n",
       "      <td>6.3</td>\n",
       "      <td>1</td>\n",
       "      <td>20221215_145401_comp_amd_om_6_1_and_6_3.1.1_su...</td>\n",
       "      <td>20221215_145401_comp_amd_om_6_1_and_6_3.1</td>\n",
       "    </tr>\n",
       "    <tr>\n",
       "      <th>3</th>\n",
       "      <td>1</td>\n",
       "      <td>48500</td>\n",
       "      <td>6.1_6.3</td>\n",
       "      <td>1</td>\n",
       "      <td>20221215_145401_comp_amd_om_6_1_and_6_3.1.2_su...</td>\n",
       "      <td>20221215_145401_comp_amd_om_6_1_and_6_3.1</td>\n",
       "    </tr>\n",
       "    <tr>\n",
       "      <th>4</th>\n",
       "      <td>32700</td>\n",
       "      <td>68257</td>\n",
       "      <td>1.2</td>\n",
       "      <td>1</td>\n",
       "      <td>20230612_112630_standard_comp_to_training_D1_s...</td>\n",
       "      <td>20230612_112630_standard_comp_to_training_D1_s...</td>\n",
       "    </tr>\n",
       "  </tbody>\n",
       "</table>\n",
       "</div>"
      ],
      "text/plain": [
       "   start_frame  stop_frame tracked_subject  box_number  \\\n",
       "0            1       25000             6.3           1   \n",
       "1        27500       73600         6.1_6.3           1   \n",
       "2        51500       76454             6.3           1   \n",
       "3            1       48500         6.1_6.3           1   \n",
       "4        32700       68257             1.2           1   \n",
       "\n",
       "                                          sleap_name  \\\n",
       "0  20221214_125409_om_and_comp_6_1_and_6_3.1.1_su...   \n",
       "1  20221214_125409_om_and_comp_6_1_and_6_3.1.2_su...   \n",
       "2  20221215_145401_comp_amd_om_6_1_and_6_3.1.1_su...   \n",
       "3  20221215_145401_comp_amd_om_6_1_and_6_3.1.2_su...   \n",
       "4  20230612_112630_standard_comp_to_training_D1_s...   \n",
       "\n",
       "                                          video_name  \n",
       "0          20221214_125409_om_and_comp_6_1_and_6_3.1  \n",
       "1          20221214_125409_om_and_comp_6_1_and_6_3.1  \n",
       "2          20221215_145401_comp_amd_om_6_1_and_6_3.1  \n",
       "3          20221215_145401_comp_amd_om_6_1_and_6_3.1  \n",
       "4  20230612_112630_standard_comp_to_training_D1_s...  "
      ]
     },
     "execution_count": 13,
     "metadata": {},
     "output_type": "execute_result"
    }
   ],
   "source": [
    "subject_start_stop_frames.head()"
   ]
  },
  {
   "cell_type": "markdown",
   "metadata": {},
   "source": [
    "- Splitting each row into seperate row for each subject in the video"
   ]
  },
  {
   "cell_type": "code",
   "execution_count": 14,
   "metadata": {
    "tags": []
   },
   "outputs": [],
   "source": [
    "subject_start_stop_frames[\"current_subject\"] = subject_start_stop_frames[\"tracked_subject\"].apply(lambda x: str(x).split(\"_\"))"
   ]
  },
  {
   "cell_type": "code",
   "execution_count": 15,
   "metadata": {
    "tags": []
   },
   "outputs": [],
   "source": [
    "subject_start_stop_frames = subject_start_stop_frames.explode(\"current_subject\")"
   ]
  },
  {
   "cell_type": "code",
   "execution_count": 16,
   "metadata": {
    "tags": []
   },
   "outputs": [
    {
     "data": {
      "text/html": [
       "<div>\n",
       "<style scoped>\n",
       "    .dataframe tbody tr th:only-of-type {\n",
       "        vertical-align: middle;\n",
       "    }\n",
       "\n",
       "    .dataframe tbody tr th {\n",
       "        vertical-align: top;\n",
       "    }\n",
       "\n",
       "    .dataframe thead th {\n",
       "        text-align: right;\n",
       "    }\n",
       "</style>\n",
       "<table border=\"1\" class=\"dataframe\">\n",
       "  <thead>\n",
       "    <tr style=\"text-align: right;\">\n",
       "      <th></th>\n",
       "      <th>start_frame</th>\n",
       "      <th>stop_frame</th>\n",
       "      <th>tracked_subject</th>\n",
       "      <th>box_number</th>\n",
       "      <th>sleap_name</th>\n",
       "      <th>video_name</th>\n",
       "      <th>current_subject</th>\n",
       "    </tr>\n",
       "  </thead>\n",
       "  <tbody>\n",
       "    <tr>\n",
       "      <th>0</th>\n",
       "      <td>1</td>\n",
       "      <td>25000</td>\n",
       "      <td>6.3</td>\n",
       "      <td>1</td>\n",
       "      <td>20221214_125409_om_and_comp_6_1_and_6_3.1.1_su...</td>\n",
       "      <td>20221214_125409_om_and_comp_6_1_and_6_3.1</td>\n",
       "      <td>6.3</td>\n",
       "    </tr>\n",
       "    <tr>\n",
       "      <th>1</th>\n",
       "      <td>27500</td>\n",
       "      <td>73600</td>\n",
       "      <td>6.1_6.3</td>\n",
       "      <td>1</td>\n",
       "      <td>20221214_125409_om_and_comp_6_1_and_6_3.1.2_su...</td>\n",
       "      <td>20221214_125409_om_and_comp_6_1_and_6_3.1</td>\n",
       "      <td>6.1</td>\n",
       "    </tr>\n",
       "    <tr>\n",
       "      <th>1</th>\n",
       "      <td>27500</td>\n",
       "      <td>73600</td>\n",
       "      <td>6.1_6.3</td>\n",
       "      <td>1</td>\n",
       "      <td>20221214_125409_om_and_comp_6_1_and_6_3.1.2_su...</td>\n",
       "      <td>20221214_125409_om_and_comp_6_1_and_6_3.1</td>\n",
       "      <td>6.3</td>\n",
       "    </tr>\n",
       "    <tr>\n",
       "      <th>2</th>\n",
       "      <td>51500</td>\n",
       "      <td>76454</td>\n",
       "      <td>6.3</td>\n",
       "      <td>1</td>\n",
       "      <td>20221215_145401_comp_amd_om_6_1_and_6_3.1.1_su...</td>\n",
       "      <td>20221215_145401_comp_amd_om_6_1_and_6_3.1</td>\n",
       "      <td>6.3</td>\n",
       "    </tr>\n",
       "    <tr>\n",
       "      <th>3</th>\n",
       "      <td>1</td>\n",
       "      <td>48500</td>\n",
       "      <td>6.1_6.3</td>\n",
       "      <td>1</td>\n",
       "      <td>20221215_145401_comp_amd_om_6_1_and_6_3.1.2_su...</td>\n",
       "      <td>20221215_145401_comp_amd_om_6_1_and_6_3.1</td>\n",
       "      <td>6.1</td>\n",
       "    </tr>\n",
       "  </tbody>\n",
       "</table>\n",
       "</div>"
      ],
      "text/plain": [
       "   start_frame  stop_frame tracked_subject  box_number  \\\n",
       "0            1       25000             6.3           1   \n",
       "1        27500       73600         6.1_6.3           1   \n",
       "1        27500       73600         6.1_6.3           1   \n",
       "2        51500       76454             6.3           1   \n",
       "3            1       48500         6.1_6.3           1   \n",
       "\n",
       "                                          sleap_name  \\\n",
       "0  20221214_125409_om_and_comp_6_1_and_6_3.1.1_su...   \n",
       "1  20221214_125409_om_and_comp_6_1_and_6_3.1.2_su...   \n",
       "1  20221214_125409_om_and_comp_6_1_and_6_3.1.2_su...   \n",
       "2  20221215_145401_comp_amd_om_6_1_and_6_3.1.1_su...   \n",
       "3  20221215_145401_comp_amd_om_6_1_and_6_3.1.2_su...   \n",
       "\n",
       "                                  video_name current_subject  \n",
       "0  20221214_125409_om_and_comp_6_1_and_6_3.1             6.3  \n",
       "1  20221214_125409_om_and_comp_6_1_and_6_3.1             6.1  \n",
       "1  20221214_125409_om_and_comp_6_1_and_6_3.1             6.3  \n",
       "2  20221215_145401_comp_amd_om_6_1_and_6_3.1             6.3  \n",
       "3  20221215_145401_comp_amd_om_6_1_and_6_3.1             6.1  "
      ]
     },
     "execution_count": 16,
     "metadata": {},
     "output_type": "execute_result"
    }
   ],
   "source": [
    "subject_start_stop_frames.head()"
   ]
  },
  {
   "cell_type": "markdown",
   "metadata": {},
   "source": [
    "### Loading in trial labels"
   ]
  },
  {
   "cell_type": "code",
   "execution_count": 18,
   "metadata": {
    "tags": []
   },
   "outputs": [
    {
     "ename": "FileNotFoundError",
     "evalue": "[Errno 2] No such file or directory: './data/rce_pilot_3_alone_comp_per_video_trial_labels.xlsx'",
     "output_type": "error",
     "traceback": [
      "\u001b[0;31m---------------------------------------------------------------------------\u001b[0m",
      "\u001b[0;31mFileNotFoundError\u001b[0m                         Traceback (most recent call last)",
      "Cell \u001b[0;32mIn[18], line 1\u001b[0m\n\u001b[0;32m----> 1\u001b[0m TRIAL_LABELS_DF \u001b[38;5;241m=\u001b[39m \u001b[43mpd\u001b[49m\u001b[38;5;241;43m.\u001b[39;49m\u001b[43mread_excel\u001b[49m\u001b[43m(\u001b[49m\u001b[38;5;124;43m\"\u001b[39;49m\u001b[38;5;124;43m./data/\u001b[39;49m\u001b[38;5;132;43;01m{}\u001b[39;49;00m\u001b[38;5;124;43m_per_video_trial_labels.xlsx\u001b[39;49m\u001b[38;5;124;43m\"\u001b[39;49m\u001b[38;5;241;43m.\u001b[39;49m\u001b[43mformat\u001b[49m\u001b[43m(\u001b[49m\u001b[43mOUTPUT_PREFIX\u001b[49m\u001b[43m)\u001b[49m\u001b[43m)\u001b[49m\n\u001b[1;32m      2\u001b[0m TRIAL_LABELS_DF \u001b[38;5;241m=\u001b[39m TRIAL_LABELS_DF\u001b[38;5;241m.\u001b[39mrename(columns\u001b[38;5;241m=\u001b[39m{col: col\u001b[38;5;241m.\u001b[39mstrip()\u001b[38;5;241m.\u001b[39mlower() \u001b[38;5;28;01mfor\u001b[39;00m col \u001b[38;5;129;01min\u001b[39;00m TRIAL_LABELS_DF\u001b[38;5;241m.\u001b[39mcolumns})\n\u001b[1;32m      3\u001b[0m TRIAL_LABELS_DF \u001b[38;5;241m=\u001b[39m TRIAL_LABELS_DF\u001b[38;5;241m.\u001b[39mdropna(subset\u001b[38;5;241m=\u001b[39m[\u001b[38;5;124m\"\u001b[39m\u001b[38;5;124mcondition\u001b[39m\u001b[38;5;124m\"\u001b[39m])\n",
      "File \u001b[0;32m~/miniforge3/envs/mountainsort_0_5_6/lib/python3.9/site-packages/pandas/io/excel/_base.py:495\u001b[0m, in \u001b[0;36mread_excel\u001b[0;34m(io, sheet_name, header, names, index_col, usecols, dtype, engine, converters, true_values, false_values, skiprows, nrows, na_values, keep_default_na, na_filter, verbose, parse_dates, date_parser, date_format, thousands, decimal, comment, skipfooter, storage_options, dtype_backend, engine_kwargs)\u001b[0m\n\u001b[1;32m    493\u001b[0m \u001b[38;5;28;01mif\u001b[39;00m \u001b[38;5;129;01mnot\u001b[39;00m \u001b[38;5;28misinstance\u001b[39m(io, ExcelFile):\n\u001b[1;32m    494\u001b[0m     should_close \u001b[38;5;241m=\u001b[39m \u001b[38;5;28;01mTrue\u001b[39;00m\n\u001b[0;32m--> 495\u001b[0m     io \u001b[38;5;241m=\u001b[39m \u001b[43mExcelFile\u001b[49m\u001b[43m(\u001b[49m\n\u001b[1;32m    496\u001b[0m \u001b[43m        \u001b[49m\u001b[43mio\u001b[49m\u001b[43m,\u001b[49m\n\u001b[1;32m    497\u001b[0m \u001b[43m        \u001b[49m\u001b[43mstorage_options\u001b[49m\u001b[38;5;241;43m=\u001b[39;49m\u001b[43mstorage_options\u001b[49m\u001b[43m,\u001b[49m\n\u001b[1;32m    498\u001b[0m \u001b[43m        \u001b[49m\u001b[43mengine\u001b[49m\u001b[38;5;241;43m=\u001b[39;49m\u001b[43mengine\u001b[49m\u001b[43m,\u001b[49m\n\u001b[1;32m    499\u001b[0m \u001b[43m        \u001b[49m\u001b[43mengine_kwargs\u001b[49m\u001b[38;5;241;43m=\u001b[39;49m\u001b[43mengine_kwargs\u001b[49m\u001b[43m,\u001b[49m\n\u001b[1;32m    500\u001b[0m \u001b[43m    \u001b[49m\u001b[43m)\u001b[49m\n\u001b[1;32m    501\u001b[0m \u001b[38;5;28;01melif\u001b[39;00m engine \u001b[38;5;129;01mand\u001b[39;00m engine \u001b[38;5;241m!=\u001b[39m io\u001b[38;5;241m.\u001b[39mengine:\n\u001b[1;32m    502\u001b[0m     \u001b[38;5;28;01mraise\u001b[39;00m \u001b[38;5;167;01mValueError\u001b[39;00m(\n\u001b[1;32m    503\u001b[0m         \u001b[38;5;124m\"\u001b[39m\u001b[38;5;124mEngine should not be specified when passing \u001b[39m\u001b[38;5;124m\"\u001b[39m\n\u001b[1;32m    504\u001b[0m         \u001b[38;5;124m\"\u001b[39m\u001b[38;5;124man ExcelFile - ExcelFile already has the engine set\u001b[39m\u001b[38;5;124m\"\u001b[39m\n\u001b[1;32m    505\u001b[0m     )\n",
      "File \u001b[0;32m~/miniforge3/envs/mountainsort_0_5_6/lib/python3.9/site-packages/pandas/io/excel/_base.py:1550\u001b[0m, in \u001b[0;36mExcelFile.__init__\u001b[0;34m(self, path_or_buffer, engine, storage_options, engine_kwargs)\u001b[0m\n\u001b[1;32m   1548\u001b[0m     ext \u001b[38;5;241m=\u001b[39m \u001b[38;5;124m\"\u001b[39m\u001b[38;5;124mxls\u001b[39m\u001b[38;5;124m\"\u001b[39m\n\u001b[1;32m   1549\u001b[0m \u001b[38;5;28;01melse\u001b[39;00m:\n\u001b[0;32m-> 1550\u001b[0m     ext \u001b[38;5;241m=\u001b[39m \u001b[43minspect_excel_format\u001b[49m\u001b[43m(\u001b[49m\n\u001b[1;32m   1551\u001b[0m \u001b[43m        \u001b[49m\u001b[43mcontent_or_path\u001b[49m\u001b[38;5;241;43m=\u001b[39;49m\u001b[43mpath_or_buffer\u001b[49m\u001b[43m,\u001b[49m\u001b[43m \u001b[49m\u001b[43mstorage_options\u001b[49m\u001b[38;5;241;43m=\u001b[39;49m\u001b[43mstorage_options\u001b[49m\n\u001b[1;32m   1552\u001b[0m \u001b[43m    \u001b[49m\u001b[43m)\u001b[49m\n\u001b[1;32m   1553\u001b[0m     \u001b[38;5;28;01mif\u001b[39;00m ext \u001b[38;5;129;01mis\u001b[39;00m \u001b[38;5;28;01mNone\u001b[39;00m:\n\u001b[1;32m   1554\u001b[0m         \u001b[38;5;28;01mraise\u001b[39;00m \u001b[38;5;167;01mValueError\u001b[39;00m(\n\u001b[1;32m   1555\u001b[0m             \u001b[38;5;124m\"\u001b[39m\u001b[38;5;124mExcel file format cannot be determined, you must specify \u001b[39m\u001b[38;5;124m\"\u001b[39m\n\u001b[1;32m   1556\u001b[0m             \u001b[38;5;124m\"\u001b[39m\u001b[38;5;124man engine manually.\u001b[39m\u001b[38;5;124m\"\u001b[39m\n\u001b[1;32m   1557\u001b[0m         )\n",
      "File \u001b[0;32m~/miniforge3/envs/mountainsort_0_5_6/lib/python3.9/site-packages/pandas/io/excel/_base.py:1402\u001b[0m, in \u001b[0;36minspect_excel_format\u001b[0;34m(content_or_path, storage_options)\u001b[0m\n\u001b[1;32m   1399\u001b[0m \u001b[38;5;28;01mif\u001b[39;00m \u001b[38;5;28misinstance\u001b[39m(content_or_path, \u001b[38;5;28mbytes\u001b[39m):\n\u001b[1;32m   1400\u001b[0m     content_or_path \u001b[38;5;241m=\u001b[39m BytesIO(content_or_path)\n\u001b[0;32m-> 1402\u001b[0m \u001b[38;5;28;01mwith\u001b[39;00m \u001b[43mget_handle\u001b[49m\u001b[43m(\u001b[49m\n\u001b[1;32m   1403\u001b[0m \u001b[43m    \u001b[49m\u001b[43mcontent_or_path\u001b[49m\u001b[43m,\u001b[49m\u001b[43m \u001b[49m\u001b[38;5;124;43m\"\u001b[39;49m\u001b[38;5;124;43mrb\u001b[39;49m\u001b[38;5;124;43m\"\u001b[39;49m\u001b[43m,\u001b[49m\u001b[43m \u001b[49m\u001b[43mstorage_options\u001b[49m\u001b[38;5;241;43m=\u001b[39;49m\u001b[43mstorage_options\u001b[49m\u001b[43m,\u001b[49m\u001b[43m \u001b[49m\u001b[43mis_text\u001b[49m\u001b[38;5;241;43m=\u001b[39;49m\u001b[38;5;28;43;01mFalse\u001b[39;49;00m\n\u001b[1;32m   1404\u001b[0m \u001b[43m\u001b[49m\u001b[43m)\u001b[49m \u001b[38;5;28;01mas\u001b[39;00m handle:\n\u001b[1;32m   1405\u001b[0m     stream \u001b[38;5;241m=\u001b[39m handle\u001b[38;5;241m.\u001b[39mhandle\n\u001b[1;32m   1406\u001b[0m     stream\u001b[38;5;241m.\u001b[39mseek(\u001b[38;5;241m0\u001b[39m)\n",
      "File \u001b[0;32m~/miniforge3/envs/mountainsort_0_5_6/lib/python3.9/site-packages/pandas/io/common.py:882\u001b[0m, in \u001b[0;36mget_handle\u001b[0;34m(path_or_buf, mode, encoding, compression, memory_map, is_text, errors, storage_options)\u001b[0m\n\u001b[1;32m    873\u001b[0m         handle \u001b[38;5;241m=\u001b[39m \u001b[38;5;28mopen\u001b[39m(\n\u001b[1;32m    874\u001b[0m             handle,\n\u001b[1;32m    875\u001b[0m             ioargs\u001b[38;5;241m.\u001b[39mmode,\n\u001b[0;32m   (...)\u001b[0m\n\u001b[1;32m    878\u001b[0m             newline\u001b[38;5;241m=\u001b[39m\u001b[38;5;124m\"\u001b[39m\u001b[38;5;124m\"\u001b[39m,\n\u001b[1;32m    879\u001b[0m         )\n\u001b[1;32m    880\u001b[0m     \u001b[38;5;28;01melse\u001b[39;00m:\n\u001b[1;32m    881\u001b[0m         \u001b[38;5;66;03m# Binary mode\u001b[39;00m\n\u001b[0;32m--> 882\u001b[0m         handle \u001b[38;5;241m=\u001b[39m \u001b[38;5;28;43mopen\u001b[39;49m\u001b[43m(\u001b[49m\u001b[43mhandle\u001b[49m\u001b[43m,\u001b[49m\u001b[43m \u001b[49m\u001b[43mioargs\u001b[49m\u001b[38;5;241;43m.\u001b[39;49m\u001b[43mmode\u001b[49m\u001b[43m)\u001b[49m\n\u001b[1;32m    883\u001b[0m     handles\u001b[38;5;241m.\u001b[39mappend(handle)\n\u001b[1;32m    885\u001b[0m \u001b[38;5;66;03m# Convert BytesIO or file objects passed with an encoding\u001b[39;00m\n",
      "\u001b[0;31mFileNotFoundError\u001b[0m: [Errno 2] No such file or directory: './data/rce_pilot_3_alone_comp_per_video_trial_labels.xlsx'"
     ]
    }
   ],
   "source": [
    "TRIAL_LABELS_DF = pd.read_excel(\"./data/{}_per_video_trial_labels.xlsx\".format(OUTPUT_PREFIX))\n",
    "TRIAL_LABELS_DF = TRIAL_LABELS_DF.rename(columns={col: col.strip().lower() for col in TRIAL_LABELS_DF.columns})\n",
    "TRIAL_LABELS_DF = TRIAL_LABELS_DF.dropna(subset=[\"condition\"])"
   ]
  },
  {
   "cell_type": "code",
   "execution_count": null,
   "metadata": {
    "tags": []
   },
   "outputs": [],
   "source": [
    "TRIAL_LABELS_DF = TRIAL_LABELS_DF.drop(columns=[col for col in TRIAL_LABELS_DF.columns if \"unnamed\" in col], errors=\"ignore\")\n",
    "TRIAL_LABELS_DF = TRIAL_LABELS_DF.drop(columns=[col for col in TRIAL_LABELS_DF.columns if \"box\" in col], errors=\"ignore\")"
   ]
  },
  {
   "cell_type": "markdown",
   "metadata": {},
   "source": [
    "- fixing up the data types of the labels"
   ]
  },
  {
   "cell_type": "code",
   "execution_count": null,
   "metadata": {
    "tags": []
   },
   "outputs": [],
   "source": [
    "TRIAL_LABELS_DF[\"tone_start_timestamp\"] = TRIAL_LABELS_DF[\"tone_start_timestamp\"].astype(np.int64)\n",
    "TRIAL_LABELS_DF[\"tone_stop_timestamp\"] = TRIAL_LABELS_DF[\"tone_stop_timestamp\"].astype(np.int64)\n",
    "TRIAL_LABELS_DF[\"video_name\"] = TRIAL_LABELS_DF[\"video_name\"].apply(lambda x: \".\".join(os.path.basename(x).split(\".\")[:2]))\n",
    "TRIAL_LABELS_DF[\"tone_start_frame\"] = TRIAL_LABELS_DF[\"tone_start_frame\"].astype(int)\n",
    "TRIAL_LABELS_DF[\"reward_start_frame\"] = TRIAL_LABELS_DF[\"reward_start_frame\"].astype(int)\n",
    "TRIAL_LABELS_DF[\"tone_stop_frame\"] = TRIAL_LABELS_DF[\"tone_stop_frame\"].astype(int)"
   ]
  },
  {
   "cell_type": "code",
   "execution_count": null,
   "metadata": {
    "tags": []
   },
   "outputs": [],
   "source": [
    "TRIAL_LABELS_DF.head()"
   ]
  },
  {
   "cell_type": "markdown",
   "metadata": {},
   "source": [
    "- Putting the dataframes together based on shared video name"
   ]
  },
  {
   "cell_type": "code",
   "execution_count": null,
   "metadata": {
    "tags": []
   },
   "outputs": [],
   "source": [
    "merged_df = pd.merge(subject_start_stop_frames, TRIAL_LABELS_DF, on=\"video_name\", how=\"inner\")\n",
    "merged_df = merged_df.dropna(subset=[\"current_subject\"])"
   ]
  },
  {
   "cell_type": "code",
   "execution_count": null,
   "metadata": {
    "tags": []
   },
   "outputs": [],
   "source": [
    "merged_df.head()"
   ]
  },
  {
   "cell_type": "markdown",
   "metadata": {},
   "source": [
    "- Filtering all trials rows that are not in the video"
   ]
  },
  {
   "cell_type": "code",
   "execution_count": null,
   "metadata": {
    "tags": []
   },
   "outputs": [],
   "source": [
    "merged_df = merged_df[(merged_df['tone_start_frame'] > merged_df['start_frame']) & (merged_df['tone_start_frame'] < merged_df['stop_frame'])]"
   ]
  },
  {
   "cell_type": "code",
   "execution_count": null,
   "metadata": {
    "tags": []
   },
   "outputs": [],
   "source": [
    "merged_df.head()"
   ]
  },
  {
   "cell_type": "markdown",
   "metadata": {},
   "source": [
    "- Removing unnecssary columns"
   ]
  },
  {
   "cell_type": "code",
   "execution_count": null,
   "metadata": {
    "tags": []
   },
   "outputs": [],
   "source": [
    "merged_df = merged_df.drop(columns=[\"start_frame\", \"stop_frame\"], errors=\"ignore\")\n",
    "merged_df = merged_df.drop(columns=[\"first_timestamp\", \"last_timestamp\"], errors=\"ignore\")\n",
    "merged_df = merged_df.drop(columns=[\"box_1_port_entry_frames\", \"box_2_port_entry_frames\"], errors=\"ignore\")\n",
    "merged_df = merged_df.drop(columns=['box_1_port_entry_timestamps', 'box_2_port_entry_timestamps'], errors=\"ignore\")\n"
   ]
  },
  {
   "cell_type": "code",
   "execution_count": null,
   "metadata": {
    "tags": []
   },
   "outputs": [],
   "source": [
    "merged_df = merged_df.sort_values(by=[\"session_dir\", \"tone_start_timestamp\", \"video_name\"]).reset_index(drop=True)"
   ]
  },
  {
   "cell_type": "code",
   "execution_count": null,
   "metadata": {
    "tags": []
   },
   "outputs": [],
   "source": [
    "merged_df.head()"
   ]
  },
  {
   "cell_type": "markdown",
   "metadata": {},
   "source": [
    "## Adding competition labels"
   ]
  },
  {
   "cell_type": "code",
   "execution_count": null,
   "metadata": {
    "tags": []
   },
   "outputs": [],
   "source": [
    "non_competitive_labels = ['rewarded', 'omission', 'both_rewarded']"
   ]
  },
  {
   "cell_type": "code",
   "execution_count": null,
   "metadata": {
    "tags": []
   },
   "outputs": [],
   "source": [
    "merged_df[\"current_subject\"] = merged_df[\"current_subject\"].astype(str)\n",
    "merged_df[\"condition\"] = merged_df[\"condition\"].astype(str)"
   ]
  },
  {
   "cell_type": "code",
   "execution_count": null,
   "metadata": {
    "tags": []
   },
   "outputs": [],
   "source": [
    "merged_df[\"tracked_subject\"] = merged_df[\"tracked_subject\"].astype(str).apply(lambda x: x.split(\"_\"))"
   ]
  },
  {
   "cell_type": "code",
   "execution_count": null,
   "metadata": {
    "tags": []
   },
   "outputs": [],
   "source": [
    "merged_df[\"trial_label\"] = merged_df.apply(lambda x: x[\"condition\"] if x[\"condition\"] in non_competitive_labels else (\"win\" if x[\"condition\"] == x[\"current_subject\"] else \"lose\"), axis=1)"
   ]
  },
  {
   "cell_type": "code",
   "execution_count": null,
   "metadata": {
    "tags": []
   },
   "outputs": [],
   "source": [
    "merged_df.head()"
   ]
  },
  {
   "cell_type": "code",
   "execution_count": null,
   "metadata": {
    "tags": []
   },
   "outputs": [],
   "source": [
    "merged_df.tail()"
   ]
  },
  {
   "cell_type": "code",
   "execution_count": null,
   "metadata": {},
   "outputs": [],
   "source": [
    "merged_df.to_excel(\"./proc/{}_finalized_trial_labels.xlsx\".format(OUTPUT_PREFIX), index=False)"
   ]
  },
  {
   "cell_type": "code",
   "execution_count": null,
   "metadata": {
    "tags": []
   },
   "outputs": [],
   "source": [
    "merged_df.to_pickle(\"./proc/{}_finalized_trial_labels.pkl\".format(OUTPUT_PREFIX))"
   ]
  },
  {
   "cell_type": "code",
   "execution_count": null,
   "metadata": {},
   "outputs": [],
   "source": [
    "raise ValueError()"
   ]
  }
 ],
 "metadata": {
  "deepnote": {},
  "deepnote_execution_queue": [],
  "deepnote_notebook_id": "cf8fe3695d074ee7887fdf6459cbf5ce",
  "kernelspec": {
   "display_name": "mountainsort_0_5_6",
   "language": "python",
   "name": "python3"
  },
  "language_info": {
   "codemirror_mode": {
    "name": "ipython",
    "version": 3
   },
   "file_extension": ".py",
   "mimetype": "text/x-python",
   "name": "python",
   "nbconvert_exporter": "python",
   "pygments_lexer": "ipython3",
   "version": "3.9.19"
  }
 },
 "nbformat": 4,
 "nbformat_minor": 4
}
