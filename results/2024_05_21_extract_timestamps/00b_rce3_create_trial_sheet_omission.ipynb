{
 "cells": [
  {
   "cell_type": "code",
   "execution_count": null,
   "id": "e972d84c-5033-49a3-b365-26dd5e8c3c23",
   "metadata": {},
   "outputs": [],
   "source": []
  },
  {
   "cell_type": "markdown",
   "id": "9b319b0c-1aa6-416a-88c9-9a8ebd72c182",
   "metadata": {
    "cell_id": "c3a02adc9e884466bc8c79db549cc3d2",
    "deepnote_cell_type": "text-cell-h1",
    "formattedRanges": [
     {
      "fromCodePoint": 0,
      "marks": {
       "bold": true,
       "underline": true
      },
      "toCodePoint": 17,
      "type": "marks"
     }
    ]
   },
   "source": [
    "# Time Stamp Extract"
   ]
  },
  {
   "cell_type": "markdown",
   "id": "6c35304a-2508-48a2-9ff6-bdcf7cc0b62c",
   "metadata": {
    "cell_id": "4546bee655b14a5dbf393161f1228e60",
    "deepnote_cell_type": "text-cell-p",
    "formattedRanges": []
   },
   "source": [
    "Brief 1-2 sentence description of notebook."
   ]
  },
  {
   "cell_type": "markdown",
   "id": "82706616-e5ec-4c37-8860-f34fb5c02375",
   "metadata": {},
   "source": [
    "TODO: Supplement the description\n",
    "- Notebook that extracts the timestamps and gets the time that tones played"
   ]
  },
  {
   "cell_type": "code",
   "execution_count": 1,
   "id": "d552108d-97db-48ce-850d-adc62081cc71",
   "metadata": {
    "tags": []
   },
   "outputs": [],
   "source": [
    "# Imports of all used packages and libraries\n",
    "import sys\n",
    "import os\n",
    "import git\n",
    "import glob\n",
    "from collections import defaultdict"
   ]
  },
  {
   "cell_type": "code",
   "execution_count": 2,
   "id": "541fc37a-0a6f-4112-82f5-162a3ab63d52",
   "metadata": {
    "tags": []
   },
   "outputs": [],
   "source": [
    "git_repo = git.Repo(\".\", search_parent_directories=True)\n",
    "git_root = git_repo.git.rev_parse(\"--show-toplevel\")"
   ]
  },
  {
   "cell_type": "code",
   "execution_count": 3,
   "id": "e57f253e-292a-4224-aa7d-dd05f0f21257",
   "metadata": {
    "tags": []
   },
   "outputs": [
    {
     "data": {
      "text/plain": [
       "'/nancy/user/riwata/projects/reward_comp_ext'"
      ]
     },
     "execution_count": 3,
     "metadata": {},
     "output_type": "execute_result"
    }
   ],
   "source": [
    "git_root"
   ]
  },
  {
   "cell_type": "code",
   "execution_count": 4,
   "id": "a64d173e-cd05-4db3-a591-1d508aaabcec",
   "metadata": {
    "tags": []
   },
   "outputs": [],
   "source": [
    "sys.path.insert(0, os.path.join(git_root, 'src'))"
   ]
  },
  {
   "cell_type": "code",
   "execution_count": 5,
   "id": "25436e76-9475-40c2-ab23-bddda80e8484",
   "metadata": {
    "tags": []
   },
   "outputs": [],
   "source": [
    "# Imports of all used packages and libraries\n",
    "import glob\n",
    "import numpy as np\n",
    "import pandas as pd\n",
    "import matplotlib.pyplot as plt"
   ]
  },
  {
   "cell_type": "code",
   "execution_count": 6,
   "id": "10078546-9737-4cc7-9720-006fe2831349",
   "metadata": {
    "tags": []
   },
   "outputs": [],
   "source": [
    "import spikeinterface.extractors as se\n",
    "import spikeinterface.preprocessing as sp"
   ]
  },
  {
   "cell_type": "code",
   "execution_count": 7,
   "id": "51225202-a5cf-4dd2-a4cb-6307c52a53d8",
   "metadata": {
    "tags": []
   },
   "outputs": [],
   "source": [
    "import utilities.helper\n",
    "import trodes.read_exported"
   ]
  },
  {
   "cell_type": "markdown",
   "id": "cc00678a-ce71-413a-907f-7deea71773e7",
   "metadata": {},
   "source": [
    "# Functions"
   ]
  },
  {
   "cell_type": "code",
   "execution_count": 8,
   "id": "d3cfe053-f830-485c-93c2-a42eccdfbeb3",
   "metadata": {
    "tags": []
   },
   "outputs": [],
   "source": [
    "# Function to filter rows where start/stop range overlap with the specified range\n",
    "def filter_overlapping_ranges(frame_ranges, start=0, stop=np.inf):\n",
    "    # Check for overlap\n",
    "    overlaps = np.logical_or(np.logical_and(frame_ranges[:,0] < stop, frame_ranges[:,0] >= start),\n",
    "                             np.logical_and(frame_ranges[:,1] <= stop, frame_ranges[:,1] > start))\n",
    "    return frame_ranges[overlaps]"
   ]
  },
  {
   "cell_type": "markdown",
   "id": "1c2000bc-f7fa-4f74-918a-36bec6e38ac8",
   "metadata": {
    "cell_id": "d290bac2c17940bfbc0f9296beaf70e5",
    "deepnote_cell_type": "text-cell-h2",
    "formattedRanges": []
   },
   "source": [
    "## Inputs & Data"
   ]
  },
  {
   "cell_type": "markdown",
   "id": "84d086b0-cd4c-4d94-bc08-ae5390f21ae4",
   "metadata": {
    "cell_id": "e528ce19c608425292151930d380f49f",
    "deepnote_cell_type": "text-cell-p",
    "formattedRanges": []
   },
   "source": [
    "- Explanation of each input and where it comes from."
   ]
  },
  {
   "cell_type": "markdown",
   "id": "03a02f1d-9d3a-41ee-af1c-e9c7b8d45a6f",
   "metadata": {},
   "source": [
    "Inputs and Required data loading\n",
    "- input variable names are in all caps snake case\n",
    "- Whenever an input changes or is used for processing \n",
    "- The variables are all lower in snake case"
   ]
  },
  {
   "cell_type": "code",
   "execution_count": 9,
   "id": "2b9d8c64-5654-404e-8d8a-efe28f9302cc",
   "metadata": {
    "cell_id": "6cf83a5811054461a718a71673d09aab",
    "deepnote_cell_type": "code",
    "deepnote_to_be_reexecuted": false,
    "execution_millis": 373,
    "execution_start": 1691424003628,
    "source_hash": null,
    "tags": []
   },
   "outputs": [],
   "source": [
    "# Path of the directory that contains the Spike Gadgets recording and the exported timestamp files\n",
    "# Exported with this tool https://docs.spikegadgets.com/en/latest/basic/ExportFunctions.html\n",
    "# Export these files:\n",
    "    # -raw – Continuous raw band export.\n",
    "    # -dio – Digital IO channel state change export.\n",
    "    # -analogio – Continuous analog IO export.\n",
    "OUTPUT_DIR = r\"./proc\" # where data is saved should always be shown in the inputs\n",
    "\n",
    "os.makedirs(OUTPUT_DIR, exist_ok=True)\n",
    "OUTPUT_PREFIX = \"rce_pilot_3_omission\""
   ]
  },
  {
   "cell_type": "code",
   "execution_count": 10,
   "id": "5e2f5987-230e-4308-846a-b59a573c7b10",
   "metadata": {
    "tags": []
   },
   "outputs": [],
   "source": [
    "TRODES_METADATA_DF = pd.read_pickle(\"./proc/{}_00_trodes_metadata.pkl\".format(OUTPUT_PREFIX))"
   ]
  },
  {
   "cell_type": "markdown",
   "id": "f9a31d67-3498-4527-b567-06ee887b43aa",
   "metadata": {
    "cell_id": "e3ee4891d43a4ac287413afc552ca289",
    "deepnote_cell_type": "text-cell-h2",
    "formattedRanges": []
   },
   "source": [
    "## Outputs"
   ]
  },
  {
   "cell_type": "markdown",
   "id": "05a73805-0331-40f3-b295-948a6721579d",
   "metadata": {
    "cell_id": "9ccbf6cc70fd4d379fa29317f733771f",
    "deepnote_cell_type": "text-cell-p",
    "formattedRanges": []
   },
   "source": [
    "Describe each output that the notebook creates. "
   ]
  },
  {
   "cell_type": "markdown",
   "id": "67b8b786-770b-49e8-94e1-cec60b0a3367",
   "metadata": {
    "cell_id": "fc8e8920a6944918a15fac575cdf6e78",
    "deepnote_cell_type": "text-cell-bullet",
    "formattedRanges": []
   },
   "source": [
    "- Is it a plot or is it data?"
   ]
  },
  {
   "cell_type": "markdown",
   "id": "adb5727a-a059-483e-9ab8-8131f64d4c28",
   "metadata": {
    "cell_id": "1e639d4776a84aa9ac8ded2e14fa57db",
    "deepnote_cell_type": "text-cell-bullet",
    "formattedRanges": []
   },
   "source": [
    "- How valuable is the output and why is it valuable or useful?"
   ]
  },
  {
   "cell_type": "markdown",
   "id": "8e14da67-8046-4e7c-8e12-5f0580557335",
   "metadata": {},
   "source": [
    "## Other documentation"
   ]
  },
  {
   "cell_type": "markdown",
   "id": "bd93dec4-068a-413a-bc46-1683ac8dcc4a",
   "metadata": {},
   "source": [
    "raw directory\n",
    "- raw_group0.dat\n",
    "    - voltage_value: Array with voltage measurement for each channel at each timestamp\n",
    "- timestamps.dat\n",
    "    - voltage_time_stamp: The time stamp of each voltage measurement\n",
    "\n",
    "parent directory\n",
    "- 1.videoTimeStamps.cameraHWSync\n",
    "    - frame_number: Calculated by getting the index of each video time stamp tuple \n",
    "    - PosTimestamp: The time stamp of each video frame\n",
    "    - HWframeCount: Unknown value. Starts at 30742 and increases by 1 for each tuple  \n",
    "    - HWTimestamp: Unknown value. All zeroes\n",
    "    - video_time: Calculated by dividing the frame number by the fps(frames per second) \n",
    "    - video_seconds: video_time, but rounded to seconds  \t\n",
    "    - These are filled in versions of the above collumns with the value from the most recent previous cell\n",
    "        - filled_PosTimestamp \t\n",
    "        - filledHWframeCount \t\n",
    "        - filled_frame_number \t\n",
    "        - filled_video_time \t\n",
    "        - filled_video_seconds \t\n",
    "\n",
    "DIO directory\n",
    "- dio_ECU_Din1.dat\n",
    "    - time: The time stamp the corresponds to the DIN input\n",
    "    - state: Binary state of whether there is input from DIN or not \t\n",
    "    - trial_number: Calculated by adding 1 to every time there is a DIN input\n",
    "    - These are filled in versions of the above collumns with the value from the most recent previous cell\n",
    "        - filled_state \t\n",
    "        - filled_trial_number\n",
    "\n",
    "ss_output directory (Spike sorting with Spike interface)\n",
    "- firings.npz\n",
    "    - unit_id: All the units that had a spike train for the given timestamp \t\n",
    "    - number_of_units: Calculated by counting the number of units that had a spike train"
   ]
  },
  {
   "cell_type": "markdown",
   "id": "c120de15-f44e-4546-b9a7-464c2c184c69",
   "metadata": {},
   "source": [
    "## Functions"
   ]
  },
  {
   "cell_type": "markdown",
   "id": "760357e7-2e44-482d-9528-b184a887862f",
   "metadata": {},
   "source": [
    "- function names are short and in snake case all lowercase\n",
    "- a function name should be unique but does not have to describe the function\n",
    "- doc strings describe functions not function names"
   ]
  },
  {
   "cell_type": "code",
   "execution_count": null,
   "id": "366bdc48-c6be-411b-9315-89c03953c023",
   "metadata": {},
   "outputs": [],
   "source": []
  },
  {
   "cell_type": "code",
   "execution_count": null,
   "id": "403a9b34-30e6-485a-a80d-1f87ab40e1f3",
   "metadata": {},
   "outputs": [],
   "source": []
  },
  {
   "cell_type": "markdown",
   "id": "9ee5d60f-88a3-4d8d-b2a0-6e99d33fd7ef",
   "metadata": {
    "cell_id": "8999d19b6b7d4d63bc90f0b0bd9ab085",
    "deepnote_cell_type": "text-cell-h2",
    "formattedRanges": []
   },
   "source": [
    "## Processing"
   ]
  },
  {
   "cell_type": "markdown",
   "id": "20c7d952-62af-4ca6-be64-d9cda66ceb47",
   "metadata": {
    "cell_id": "9b36cdf08567463082b005cb0dec684b",
    "deepnote_cell_type": "text-cell-p",
    "formattedRanges": []
   },
   "source": [
    "Describe what is done to the data here and how inputs are manipulated to generate outputs. "
   ]
  },
  {
   "cell_type": "code",
   "execution_count": 11,
   "id": "b74900e5-c583-430e-8829-82e85f13f111",
   "metadata": {
    "cell_id": "89aaba237c644628b1b37604b75e7cb1",
    "deepnote_cell_type": "code",
    "tags": []
   },
   "outputs": [],
   "source": [
    "# As much code and as many cells as required\n",
    "# includes EDA and playing with data\n",
    "# GO HAM!"
   ]
  },
  {
   "cell_type": "code",
   "execution_count": 12,
   "id": "e100cf7d-1b3a-4ea7-8d23-2b7b38c32b91",
   "metadata": {
    "tags": []
   },
   "outputs": [],
   "source": [
    "TRODES_METADATA_DF = TRODES_METADATA_DF.drop(columns=[\"current_subject\", \"video_timestamps\", \"recording\", \"session_path\"], errors=\"ignore\")\n",
    "TRODES_METADATA_DF = TRODES_METADATA_DF.drop_duplicates(subset=[\"video_name\"])"
   ]
  },
  {
   "cell_type": "code",
   "execution_count": 13,
   "id": "a409b8a3-0a14-4809-94c3-2e0590274c1a",
   "metadata": {
    "tags": []
   },
   "outputs": [],
   "source": [
    "exploded_TRODES_METADATA_DF = TRODES_METADATA_DF.explode(column = [\"tone_frames\", \"tone_timestamps\"])"
   ]
  },
  {
   "cell_type": "code",
   "execution_count": 14,
   "id": "1d85e23a-9046-4e5d-9247-6aa3cd815cd0",
   "metadata": {
    "tags": []
   },
   "outputs": [
    {
     "data": {
      "text/html": [
       "<div>\n",
       "<style scoped>\n",
       "    .dataframe tbody tr th:only-of-type {\n",
       "        vertical-align: middle;\n",
       "    }\n",
       "\n",
       "    .dataframe tbody tr th {\n",
       "        vertical-align: top;\n",
       "    }\n",
       "\n",
       "    .dataframe thead th {\n",
       "        text-align: right;\n",
       "    }\n",
       "</style>\n",
       "<table border=\"1\" class=\"dataframe\">\n",
       "  <thead>\n",
       "    <tr style=\"text-align: right;\">\n",
       "      <th></th>\n",
       "      <th>session_dir</th>\n",
       "      <th>tone_frames</th>\n",
       "      <th>box_1_port_entry_frames</th>\n",
       "      <th>box_2_port_entry_frames</th>\n",
       "      <th>video_name</th>\n",
       "      <th>all_subjects</th>\n",
       "      <th>first_timestamp</th>\n",
       "      <th>last_timestamp</th>\n",
       "      <th>tone_timestamps</th>\n",
       "      <th>box_1_port_entry_timestamps</th>\n",
       "      <th>box_2_port_entry_timestamps</th>\n",
       "    </tr>\n",
       "  </thead>\n",
       "  <tbody>\n",
       "    <tr>\n",
       "      <th>0</th>\n",
       "      <td>20240227_130241_comp_om_subj_4-2_and_4-3</td>\n",
       "      <td>[1, 242]</td>\n",
       "      <td>[[1, 242], [242, 261], [628, 644], [644, 648],...</td>\n",
       "      <td>[[1, 242], [44043, 44055], [44696, 44699], [44...</td>\n",
       "      <td>20240227_130241_comp_om_subj_4-2_and_4-3.1.vid...</td>\n",
       "      <td>[4.2, 4.3]</td>\n",
       "      <td>1981794</td>\n",
       "      <td>70466080</td>\n",
       "      <td>[0, 193420]</td>\n",
       "      <td>[[0, 193420], [193820, 208217], [504224, 51562...</td>\n",
       "      <td>[[0, 193420], [35331875, 35342275], [35856482,...</td>\n",
       "    </tr>\n",
       "    <tr>\n",
       "      <th>0</th>\n",
       "      <td>20240227_130241_comp_om_subj_4-2_and_4-3</td>\n",
       "      <td>[1737, 1988]</td>\n",
       "      <td>[[1, 242], [242, 261], [628, 644], [644, 648],...</td>\n",
       "      <td>[[1, 242], [44043, 44055], [44696, 44699], [44...</td>\n",
       "      <td>20240227_130241_comp_om_subj_4-2_and_4-3.1.vid...</td>\n",
       "      <td>[4.2, 4.3]</td>\n",
       "      <td>1981794</td>\n",
       "      <td>70466080</td>\n",
       "      <td>[1393833, 1593838]</td>\n",
       "      <td>[[0, 193420], [193820, 208217], [504224, 51562...</td>\n",
       "      <td>[[0, 193420], [35331875, 35342275], [35856482,...</td>\n",
       "    </tr>\n",
       "    <tr>\n",
       "      <th>0</th>\n",
       "      <td>20240227_130241_comp_om_subj_4-2_and_4-3</td>\n",
       "      <td>[4730, 4978]</td>\n",
       "      <td>[[1, 242], [242, 261], [628, 644], [644, 648],...</td>\n",
       "      <td>[[1, 242], [44043, 44055], [44696, 44699], [44...</td>\n",
       "      <td>20240227_130241_comp_om_subj_4-2_and_4-3.1.vid...</td>\n",
       "      <td>[4.2, 4.3]</td>\n",
       "      <td>1981794</td>\n",
       "      <td>70466080</td>\n",
       "      <td>[3793867, 3993867]</td>\n",
       "      <td>[[0, 193420], [193820, 208217], [504224, 51562...</td>\n",
       "      <td>[[0, 193420], [35331875, 35342275], [35856482,...</td>\n",
       "    </tr>\n",
       "    <tr>\n",
       "      <th>0</th>\n",
       "      <td>20240227_130241_comp_om_subj_4-2_and_4-3</td>\n",
       "      <td>[7597, 7846]</td>\n",
       "      <td>[[1, 242], [242, 261], [628, 644], [644, 648],...</td>\n",
       "      <td>[[1, 242], [44043, 44055], [44696, 44699], [44...</td>\n",
       "      <td>20240227_130241_comp_om_subj_4-2_and_4-3.1.vid...</td>\n",
       "      <td>[4.2, 4.3]</td>\n",
       "      <td>1981794</td>\n",
       "      <td>70466080</td>\n",
       "      <td>[6093895, 6293897]</td>\n",
       "      <td>[[0, 193420], [193820, 208217], [504224, 51562...</td>\n",
       "      <td>[[0, 193420], [35331875, 35342275], [35856482,...</td>\n",
       "    </tr>\n",
       "    <tr>\n",
       "      <th>0</th>\n",
       "      <td>20240227_130241_comp_om_subj_4-2_and_4-3</td>\n",
       "      <td>[9841, 10090]</td>\n",
       "      <td>[[1, 242], [242, 261], [628, 644], [644, 648],...</td>\n",
       "      <td>[[1, 242], [44043, 44055], [44696, 44699], [44...</td>\n",
       "      <td>20240227_130241_comp_om_subj_4-2_and_4-3.1.vid...</td>\n",
       "      <td>[4.2, 4.3]</td>\n",
       "      <td>1981794</td>\n",
       "      <td>70466080</td>\n",
       "      <td>[7893918, 8093920]</td>\n",
       "      <td>[[0, 193420], [193820, 208217], [504224, 51562...</td>\n",
       "      <td>[[0, 193420], [35331875, 35342275], [35856482,...</td>\n",
       "    </tr>\n",
       "    <tr>\n",
       "      <th>...</th>\n",
       "      <td>...</td>\n",
       "      <td>...</td>\n",
       "      <td>...</td>\n",
       "      <td>...</td>\n",
       "      <td>...</td>\n",
       "      <td>...</td>\n",
       "      <td>...</td>\n",
       "      <td>...</td>\n",
       "      <td>...</td>\n",
       "      <td>...</td>\n",
       "      <td>...</td>\n",
       "    </tr>\n",
       "    <tr>\n",
       "      <th>33</th>\n",
       "      <td>20240325_150329_comp_om_subj_4-2_and_4-4</td>\n",
       "      <td>[55587, 55786]</td>\n",
       "      <td>[[1, 112], [141, 239], [241, 246], [248, 281],...</td>\n",
       "      <td>[[1, 112], [31583, 31585], [31585, 31588], [31...</td>\n",
       "      <td>20240325_150329_comp_om_subj_4-2_and_4-4.2.vid...</td>\n",
       "      <td>[4.2, 4.4]</td>\n",
       "      <td>2013669</td>\n",
       "      <td>65819102</td>\n",
       "      <td>[55612954, 55812956]</td>\n",
       "      <td>[[0, 111862], [140662, 239263], [241066, 24606...</td>\n",
       "      <td>[[0, 111862], [31564053, 31566453], [31566856,...</td>\n",
       "    </tr>\n",
       "    <tr>\n",
       "      <th>33</th>\n",
       "      <td>20240325_150329_comp_om_subj_4-2_and_4-4</td>\n",
       "      <td>[56585, 56784]</td>\n",
       "      <td>[[1, 112], [141, 239], [241, 246], [248, 281],...</td>\n",
       "      <td>[[1, 112], [31583, 31585], [31585, 31588], [31...</td>\n",
       "      <td>20240325_150329_comp_om_subj_4-2_and_4-4.2.vid...</td>\n",
       "      <td>[4.2, 4.4]</td>\n",
       "      <td>2013669</td>\n",
       "      <td>65819102</td>\n",
       "      <td>[56612966, 56812969]</td>\n",
       "      <td>[[0, 111862], [140662, 239263], [241066, 24606...</td>\n",
       "      <td>[[0, 111862], [31564053, 31566453], [31566856,...</td>\n",
       "    </tr>\n",
       "    <tr>\n",
       "      <th>33</th>\n",
       "      <td>20240325_150329_comp_om_subj_4-2_and_4-4</td>\n",
       "      <td>[57983, 58182]</td>\n",
       "      <td>[[1, 112], [141, 239], [241, 246], [248, 281],...</td>\n",
       "      <td>[[1, 112], [31583, 31585], [31585, 31588], [31...</td>\n",
       "      <td>20240325_150329_comp_om_subj_4-2_and_4-4.2.vid...</td>\n",
       "      <td>[4.2, 4.4]</td>\n",
       "      <td>2013669</td>\n",
       "      <td>65819102</td>\n",
       "      <td>[58012981, 58212983]</td>\n",
       "      <td>[[0, 111862], [140662, 239263], [241066, 24606...</td>\n",
       "      <td>[[0, 111862], [31564053, 31566453], [31566856,...</td>\n",
       "    </tr>\n",
       "    <tr>\n",
       "      <th>33</th>\n",
       "      <td>20240325_150329_comp_om_subj_4-2_and_4-4</td>\n",
       "      <td>[60178, 60378]</td>\n",
       "      <td>[[1, 112], [141, 239], [241, 246], [248, 281],...</td>\n",
       "      <td>[[1, 112], [31583, 31585], [31585, 31588], [31...</td>\n",
       "      <td>20240325_150329_comp_om_subj_4-2_and_4-4.2.vid...</td>\n",
       "      <td>[4.2, 4.4]</td>\n",
       "      <td>2013669</td>\n",
       "      <td>65819102</td>\n",
       "      <td>[60213011, 60413011]</td>\n",
       "      <td>[[0, 111862], [140662, 239263], [241066, 24606...</td>\n",
       "      <td>[[0, 111862], [31564053, 31566453], [31566856,...</td>\n",
       "    </tr>\n",
       "    <tr>\n",
       "      <th>33</th>\n",
       "      <td>20240325_150329_comp_om_subj_4-2_and_4-4</td>\n",
       "      <td>[61276, 61475]</td>\n",
       "      <td>[[1, 112], [141, 239], [241, 246], [248, 281],...</td>\n",
       "      <td>[[1, 112], [31583, 31585], [31585, 31588], [31...</td>\n",
       "      <td>20240325_150329_comp_om_subj_4-2_and_4-4.2.vid...</td>\n",
       "      <td>[4.2, 4.4]</td>\n",
       "      <td>2013669</td>\n",
       "      <td>65819102</td>\n",
       "      <td>[61313024, 61513024]</td>\n",
       "      <td>[[0, 111862], [140662, 239263], [241066, 24606...</td>\n",
       "      <td>[[0, 111862], [31564053, 31566453], [31566856,...</td>\n",
       "    </tr>\n",
       "  </tbody>\n",
       "</table>\n",
       "<p>762 rows × 11 columns</p>\n",
       "</div>"
      ],
      "text/plain": [
       "                                 session_dir     tone_frames  \\\n",
       "0   20240227_130241_comp_om_subj_4-2_and_4-3        [1, 242]   \n",
       "0   20240227_130241_comp_om_subj_4-2_and_4-3    [1737, 1988]   \n",
       "0   20240227_130241_comp_om_subj_4-2_and_4-3    [4730, 4978]   \n",
       "0   20240227_130241_comp_om_subj_4-2_and_4-3    [7597, 7846]   \n",
       "0   20240227_130241_comp_om_subj_4-2_and_4-3   [9841, 10090]   \n",
       "..                                       ...             ...   \n",
       "33  20240325_150329_comp_om_subj_4-2_and_4-4  [55587, 55786]   \n",
       "33  20240325_150329_comp_om_subj_4-2_and_4-4  [56585, 56784]   \n",
       "33  20240325_150329_comp_om_subj_4-2_and_4-4  [57983, 58182]   \n",
       "33  20240325_150329_comp_om_subj_4-2_and_4-4  [60178, 60378]   \n",
       "33  20240325_150329_comp_om_subj_4-2_and_4-4  [61276, 61475]   \n",
       "\n",
       "                              box_1_port_entry_frames  \\\n",
       "0   [[1, 242], [242, 261], [628, 644], [644, 648],...   \n",
       "0   [[1, 242], [242, 261], [628, 644], [644, 648],...   \n",
       "0   [[1, 242], [242, 261], [628, 644], [644, 648],...   \n",
       "0   [[1, 242], [242, 261], [628, 644], [644, 648],...   \n",
       "0   [[1, 242], [242, 261], [628, 644], [644, 648],...   \n",
       "..                                                ...   \n",
       "33  [[1, 112], [141, 239], [241, 246], [248, 281],...   \n",
       "33  [[1, 112], [141, 239], [241, 246], [248, 281],...   \n",
       "33  [[1, 112], [141, 239], [241, 246], [248, 281],...   \n",
       "33  [[1, 112], [141, 239], [241, 246], [248, 281],...   \n",
       "33  [[1, 112], [141, 239], [241, 246], [248, 281],...   \n",
       "\n",
       "                              box_2_port_entry_frames  \\\n",
       "0   [[1, 242], [44043, 44055], [44696, 44699], [44...   \n",
       "0   [[1, 242], [44043, 44055], [44696, 44699], [44...   \n",
       "0   [[1, 242], [44043, 44055], [44696, 44699], [44...   \n",
       "0   [[1, 242], [44043, 44055], [44696, 44699], [44...   \n",
       "0   [[1, 242], [44043, 44055], [44696, 44699], [44...   \n",
       "..                                                ...   \n",
       "33  [[1, 112], [31583, 31585], [31585, 31588], [31...   \n",
       "33  [[1, 112], [31583, 31585], [31585, 31588], [31...   \n",
       "33  [[1, 112], [31583, 31585], [31585, 31588], [31...   \n",
       "33  [[1, 112], [31583, 31585], [31585, 31588], [31...   \n",
       "33  [[1, 112], [31583, 31585], [31585, 31588], [31...   \n",
       "\n",
       "                                           video_name all_subjects  \\\n",
       "0   20240227_130241_comp_om_subj_4-2_and_4-3.1.vid...   [4.2, 4.3]   \n",
       "0   20240227_130241_comp_om_subj_4-2_and_4-3.1.vid...   [4.2, 4.3]   \n",
       "0   20240227_130241_comp_om_subj_4-2_and_4-3.1.vid...   [4.2, 4.3]   \n",
       "0   20240227_130241_comp_om_subj_4-2_and_4-3.1.vid...   [4.2, 4.3]   \n",
       "0   20240227_130241_comp_om_subj_4-2_and_4-3.1.vid...   [4.2, 4.3]   \n",
       "..                                                ...          ...   \n",
       "33  20240325_150329_comp_om_subj_4-2_and_4-4.2.vid...   [4.2, 4.4]   \n",
       "33  20240325_150329_comp_om_subj_4-2_and_4-4.2.vid...   [4.2, 4.4]   \n",
       "33  20240325_150329_comp_om_subj_4-2_and_4-4.2.vid...   [4.2, 4.4]   \n",
       "33  20240325_150329_comp_om_subj_4-2_and_4-4.2.vid...   [4.2, 4.4]   \n",
       "33  20240325_150329_comp_om_subj_4-2_and_4-4.2.vid...   [4.2, 4.4]   \n",
       "\n",
       "    first_timestamp  last_timestamp       tone_timestamps  \\\n",
       "0           1981794        70466080           [0, 193420]   \n",
       "0           1981794        70466080    [1393833, 1593838]   \n",
       "0           1981794        70466080    [3793867, 3993867]   \n",
       "0           1981794        70466080    [6093895, 6293897]   \n",
       "0           1981794        70466080    [7893918, 8093920]   \n",
       "..              ...             ...                   ...   \n",
       "33          2013669        65819102  [55612954, 55812956]   \n",
       "33          2013669        65819102  [56612966, 56812969]   \n",
       "33          2013669        65819102  [58012981, 58212983]   \n",
       "33          2013669        65819102  [60213011, 60413011]   \n",
       "33          2013669        65819102  [61313024, 61513024]   \n",
       "\n",
       "                          box_1_port_entry_timestamps  \\\n",
       "0   [[0, 193420], [193820, 208217], [504224, 51562...   \n",
       "0   [[0, 193420], [193820, 208217], [504224, 51562...   \n",
       "0   [[0, 193420], [193820, 208217], [504224, 51562...   \n",
       "0   [[0, 193420], [193820, 208217], [504224, 51562...   \n",
       "0   [[0, 193420], [193820, 208217], [504224, 51562...   \n",
       "..                                                ...   \n",
       "33  [[0, 111862], [140662, 239263], [241066, 24606...   \n",
       "33  [[0, 111862], [140662, 239263], [241066, 24606...   \n",
       "33  [[0, 111862], [140662, 239263], [241066, 24606...   \n",
       "33  [[0, 111862], [140662, 239263], [241066, 24606...   \n",
       "33  [[0, 111862], [140662, 239263], [241066, 24606...   \n",
       "\n",
       "                          box_2_port_entry_timestamps  \n",
       "0   [[0, 193420], [35331875, 35342275], [35856482,...  \n",
       "0   [[0, 193420], [35331875, 35342275], [35856482,...  \n",
       "0   [[0, 193420], [35331875, 35342275], [35856482,...  \n",
       "0   [[0, 193420], [35331875, 35342275], [35856482,...  \n",
       "0   [[0, 193420], [35331875, 35342275], [35856482,...  \n",
       "..                                                ...  \n",
       "33  [[0, 111862], [31564053, 31566453], [31566856,...  \n",
       "33  [[0, 111862], [31564053, 31566453], [31566856,...  \n",
       "33  [[0, 111862], [31564053, 31566453], [31566856,...  \n",
       "33  [[0, 111862], [31564053, 31566453], [31566856,...  \n",
       "33  [[0, 111862], [31564053, 31566453], [31566856,...  \n",
       "\n",
       "[762 rows x 11 columns]"
      ]
     },
     "execution_count": 14,
     "metadata": {},
     "output_type": "execute_result"
    }
   ],
   "source": [
    "exploded_TRODES_METADATA_DF"
   ]
  },
  {
   "cell_type": "code",
   "execution_count": 15,
   "id": "c6015a6f-28f8-4dce-9e76-5fae24f7593f",
   "metadata": {
    "tags": []
   },
   "outputs": [
    {
     "name": "stdout",
     "output_type": "stream",
     "text": [
      "box_1_port_entry_frames\n",
      "box_2_port_entry_frames\n",
      "box_1_port_entry_timestamps\n",
      "box_2_port_entry_timestamps\n"
     ]
    }
   ],
   "source": [
    "for entry_col in [col for col in exploded_TRODES_METADATA_DF.columns if \"port_entry\" in col]:\n",
    "    print(entry_col)\n",
    "    exploded_TRODES_METADATA_DF[entry_col] = exploded_TRODES_METADATA_DF[entry_col].apply(lambda x: np.array(x))\n"
   ]
  },
  {
   "cell_type": "code",
   "execution_count": 16,
   "id": "0be814a8-1d5b-4eb0-88f7-effda69e1d77",
   "metadata": {
    "tags": []
   },
   "outputs": [],
   "source": [
    "columns_to_update = [\"box_1_port_entry_frames\", \"box_2_port_entry_frames\", \"box_1_port_entry_timestamps\", \"box_2_port_entry_timestamps\"]\n",
    "tone_columns = [\"tone_frames\", \"tone_frames\", \"tone_timestamps\", \"tone_timestamps\"]\n",
    "\n",
    "for col, tone_col in zip(columns_to_update, tone_columns):\n",
    "    exploded_TRODES_METADATA_DF[col] = exploded_TRODES_METADATA_DF.apply(lambda x: filter_overlapping_ranges(x[col], x[tone_col][0], x[tone_col][1]), axis=1)"
   ]
  },
  {
   "cell_type": "code",
   "execution_count": 17,
   "id": "97063d13-b19c-4ae7-b4db-dc48af14b3bd",
   "metadata": {
    "tags": []
   },
   "outputs": [],
   "source": [
    "exploded_TRODES_METADATA_DF[\"tone_start_frame\"] = exploded_TRODES_METADATA_DF[\"tone_frames\"].apply(lambda x: x[0])\n",
    "exploded_TRODES_METADATA_DF[\"tone_stop_frame\"] = exploded_TRODES_METADATA_DF[\"tone_frames\"].apply(lambda x: x[1])"
   ]
  },
  {
   "cell_type": "code",
   "execution_count": 18,
   "id": "b36d3090-28df-47a4-9a99-33de6df81669",
   "metadata": {
    "tags": []
   },
   "outputs": [],
   "source": [
    "exploded_TRODES_METADATA_DF[\"tone_start_timestamp\"] = exploded_TRODES_METADATA_DF[\"tone_timestamps\"].apply(lambda x: x[0])\n",
    "exploded_TRODES_METADATA_DF[\"tone_stop_timestamp\"] = exploded_TRODES_METADATA_DF[\"tone_timestamps\"].apply(lambda x: x[1])\n"
   ]
  },
  {
   "cell_type": "code",
   "execution_count": 19,
   "id": "c1e799fd-acdb-438e-a93f-d15f152cd072",
   "metadata": {
    "tags": []
   },
   "outputs": [],
   "source": [
    "exploded_TRODES_METADATA_DF = exploded_TRODES_METADATA_DF.drop(columns=[\"tone_frames\", \"tone_timestamps\"], errors=\"ignore\")"
   ]
  },
  {
   "cell_type": "markdown",
   "id": "7b6ff2ac-88aa-44ba-a6b2-0d2094c553aa",
   "metadata": {},
   "source": [
    "- Create a new column for start and stop"
   ]
  },
  {
   "cell_type": "code",
   "execution_count": 20,
   "id": "5cf18467-b5a5-4c62-a272-a73bc6ec8f4a",
   "metadata": {
    "tags": []
   },
   "outputs": [],
   "source": [
    "exploded_TRODES_METADATA_DF = exploded_TRODES_METADATA_DF[sorted(exploded_TRODES_METADATA_DF.columns, key=lambda s: s.split('_')[-1])].copy()"
   ]
  },
  {
   "cell_type": "code",
   "execution_count": 21,
   "id": "f3fda01e-6e30-4400-b76b-9555ede503a9",
   "metadata": {
    "tags": []
   },
   "outputs": [],
   "source": [
    "exploded_TRODES_METADATA_DF.to_pickle(\"./proc/{}_per_video_trial_labels.pkl\".format(OUTPUT_PREFIX))"
   ]
  },
  {
   "cell_type": "markdown",
   "id": "496deb9d-d153-4d1b-a319-1d94b54d78ad",
   "metadata": {},
   "source": [
    "- Exporting to CSV"
   ]
  },
  {
   "cell_type": "code",
   "execution_count": 22,
   "id": "e5de586c-8ca8-4887-9922-6b37d6ad3858",
   "metadata": {
    "tags": []
   },
   "outputs": [
    {
     "name": "stdout",
     "output_type": "stream",
     "text": [
      "box_1_port_entry_frames\n",
      "box_2_port_entry_frames\n",
      "box_1_port_entry_timestamps\n",
      "box_2_port_entry_timestamps\n"
     ]
    }
   ],
   "source": [
    "for entry_col in [col for col in exploded_TRODES_METADATA_DF.columns if \"port_entry\" in col]:\n",
    "    print(entry_col)\n",
    "    exploded_TRODES_METADATA_DF[entry_col] = exploded_TRODES_METADATA_DF[entry_col].apply(lambda x: ' '.join(map(str, x)))"
   ]
  },
  {
   "cell_type": "code",
   "execution_count": 23,
   "id": "9b893c60-b98d-497e-8d85-b66eb6cafb66",
   "metadata": {
    "tags": []
   },
   "outputs": [
    {
     "data": {
      "text/html": [
       "<div>\n",
       "<style scoped>\n",
       "    .dataframe tbody tr th:only-of-type {\n",
       "        vertical-align: middle;\n",
       "    }\n",
       "\n",
       "    .dataframe tbody tr th {\n",
       "        vertical-align: top;\n",
       "    }\n",
       "\n",
       "    .dataframe thead th {\n",
       "        text-align: right;\n",
       "    }\n",
       "</style>\n",
       "<table border=\"1\" class=\"dataframe\">\n",
       "  <thead>\n",
       "    <tr style=\"text-align: right;\">\n",
       "      <th></th>\n",
       "      <th>session_dir</th>\n",
       "      <th>tone_start_frame</th>\n",
       "      <th>tone_stop_frame</th>\n",
       "      <th>box_1_port_entry_frames</th>\n",
       "      <th>box_2_port_entry_frames</th>\n",
       "      <th>video_name</th>\n",
       "      <th>all_subjects</th>\n",
       "      <th>first_timestamp</th>\n",
       "      <th>last_timestamp</th>\n",
       "      <th>tone_start_timestamp</th>\n",
       "      <th>tone_stop_timestamp</th>\n",
       "      <th>box_1_port_entry_timestamps</th>\n",
       "      <th>box_2_port_entry_timestamps</th>\n",
       "    </tr>\n",
       "  </thead>\n",
       "  <tbody>\n",
       "    <tr>\n",
       "      <th>0</th>\n",
       "      <td>20240227_130241_comp_om_subj_4-2_and_4-3</td>\n",
       "      <td>1</td>\n",
       "      <td>242</td>\n",
       "      <td>[  1 242]</td>\n",
       "      <td>[  1 242]</td>\n",
       "      <td>20240227_130241_comp_om_subj_4-2_and_4-3.1.vid...</td>\n",
       "      <td>[4.2, 4.3]</td>\n",
       "      <td>1981794</td>\n",
       "      <td>70466080</td>\n",
       "      <td>0</td>\n",
       "      <td>193420</td>\n",
       "      <td>[     0 193420]</td>\n",
       "      <td>[     0 193420]</td>\n",
       "    </tr>\n",
       "    <tr>\n",
       "      <th>0</th>\n",
       "      <td>20240227_130241_comp_om_subj_4-2_and_4-3</td>\n",
       "      <td>1737</td>\n",
       "      <td>1988</td>\n",
       "      <td>[1883 1885] [1885 1895] [1895 1905] [1907 1915...</td>\n",
       "      <td></td>\n",
       "      <td>20240227_130241_comp_om_subj_4-2_and_4-3.1.vid...</td>\n",
       "      <td>[4.2, 4.3]</td>\n",
       "      <td>1981794</td>\n",
       "      <td>70466080</td>\n",
       "      <td>1393833</td>\n",
       "      <td>1593838</td>\n",
       "      <td>[1509237 1510837] [1511837 1519237] [1520037 1...</td>\n",
       "      <td></td>\n",
       "    </tr>\n",
       "    <tr>\n",
       "      <th>0</th>\n",
       "      <td>20240227_130241_comp_om_subj_4-2_and_4-3</td>\n",
       "      <td>4730</td>\n",
       "      <td>4978</td>\n",
       "      <td>[4944 4985]</td>\n",
       "      <td></td>\n",
       "      <td>20240227_130241_comp_om_subj_4-2_and_4-3.1.vid...</td>\n",
       "      <td>[4.2, 4.3]</td>\n",
       "      <td>1981794</td>\n",
       "      <td>70466080</td>\n",
       "      <td>3793867</td>\n",
       "      <td>3993867</td>\n",
       "      <td>[3965869 3998470]</td>\n",
       "      <td></td>\n",
       "    </tr>\n",
       "    <tr>\n",
       "      <th>0</th>\n",
       "      <td>20240227_130241_comp_om_subj_4-2_and_4-3</td>\n",
       "      <td>7597</td>\n",
       "      <td>7846</td>\n",
       "      <td>[7767 7768] [7770 7774] [7777 7787] [7787 7789...</td>\n",
       "      <td></td>\n",
       "      <td>20240227_130241_comp_om_subj_4-2_and_4-3.1.vid...</td>\n",
       "      <td>[4.2, 4.3]</td>\n",
       "      <td>1981794</td>\n",
       "      <td>70466080</td>\n",
       "      <td>6093895</td>\n",
       "      <td>6293897</td>\n",
       "      <td>[6229499 6231496] [6232499 6235899] [6238099 6...</td>\n",
       "      <td></td>\n",
       "    </tr>\n",
       "    <tr>\n",
       "      <th>0</th>\n",
       "      <td>20240227_130241_comp_om_subj_4-2_and_4-3</td>\n",
       "      <td>9841</td>\n",
       "      <td>10090</td>\n",
       "      <td>[9841 9843] [9845 9847] [9848 9855] [9857 9873...</td>\n",
       "      <td></td>\n",
       "      <td>20240227_130241_comp_om_subj_4-2_and_4-3.1.vid...</td>\n",
       "      <td>[4.2, 4.3]</td>\n",
       "      <td>1981794</td>\n",
       "      <td>70466080</td>\n",
       "      <td>7893918</td>\n",
       "      <td>8093920</td>\n",
       "      <td>[7895120 7896118] [7897121 7898518] [7899521 7...</td>\n",
       "      <td></td>\n",
       "    </tr>\n",
       "  </tbody>\n",
       "</table>\n",
       "</div>"
      ],
      "text/plain": [
       "                                session_dir  tone_start_frame  \\\n",
       "0  20240227_130241_comp_om_subj_4-2_and_4-3                 1   \n",
       "0  20240227_130241_comp_om_subj_4-2_and_4-3              1737   \n",
       "0  20240227_130241_comp_om_subj_4-2_and_4-3              4730   \n",
       "0  20240227_130241_comp_om_subj_4-2_and_4-3              7597   \n",
       "0  20240227_130241_comp_om_subj_4-2_and_4-3              9841   \n",
       "\n",
       "   tone_stop_frame                            box_1_port_entry_frames  \\\n",
       "0              242                                          [  1 242]   \n",
       "0             1988  [1883 1885] [1885 1895] [1895 1905] [1907 1915...   \n",
       "0             4978                                        [4944 4985]   \n",
       "0             7846  [7767 7768] [7770 7774] [7777 7787] [7787 7789...   \n",
       "0            10090  [9841 9843] [9845 9847] [9848 9855] [9857 9873...   \n",
       "\n",
       "  box_2_port_entry_frames                                         video_name  \\\n",
       "0               [  1 242]  20240227_130241_comp_om_subj_4-2_and_4-3.1.vid...   \n",
       "0                          20240227_130241_comp_om_subj_4-2_and_4-3.1.vid...   \n",
       "0                          20240227_130241_comp_om_subj_4-2_and_4-3.1.vid...   \n",
       "0                          20240227_130241_comp_om_subj_4-2_and_4-3.1.vid...   \n",
       "0                          20240227_130241_comp_om_subj_4-2_and_4-3.1.vid...   \n",
       "\n",
       "  all_subjects  first_timestamp  last_timestamp  tone_start_timestamp  \\\n",
       "0   [4.2, 4.3]          1981794        70466080                     0   \n",
       "0   [4.2, 4.3]          1981794        70466080               1393833   \n",
       "0   [4.2, 4.3]          1981794        70466080               3793867   \n",
       "0   [4.2, 4.3]          1981794        70466080               6093895   \n",
       "0   [4.2, 4.3]          1981794        70466080               7893918   \n",
       "\n",
       "   tone_stop_timestamp                        box_1_port_entry_timestamps  \\\n",
       "0               193420                                    [     0 193420]   \n",
       "0              1593838  [1509237 1510837] [1511837 1519237] [1520037 1...   \n",
       "0              3993867                                  [3965869 3998470]   \n",
       "0              6293897  [6229499 6231496] [6232499 6235899] [6238099 6...   \n",
       "0              8093920  [7895120 7896118] [7897121 7898518] [7899521 7...   \n",
       "\n",
       "  box_2_port_entry_timestamps  \n",
       "0             [     0 193420]  \n",
       "0                              \n",
       "0                              \n",
       "0                              \n",
       "0                              "
      ]
     },
     "execution_count": 23,
     "metadata": {},
     "output_type": "execute_result"
    }
   ],
   "source": [
    "exploded_TRODES_METADATA_DF.head()"
   ]
  },
  {
   "cell_type": "code",
   "execution_count": 24,
   "id": "dca93454-8d88-4582-bc01-c42b3110a25a",
   "metadata": {},
   "outputs": [
    {
     "data": {
      "text/html": [
       "<div>\n",
       "<style scoped>\n",
       "    .dataframe tbody tr th:only-of-type {\n",
       "        vertical-align: middle;\n",
       "    }\n",
       "\n",
       "    .dataframe tbody tr th {\n",
       "        vertical-align: top;\n",
       "    }\n",
       "\n",
       "    .dataframe thead th {\n",
       "        text-align: right;\n",
       "    }\n",
       "</style>\n",
       "<table border=\"1\" class=\"dataframe\">\n",
       "  <thead>\n",
       "    <tr style=\"text-align: right;\">\n",
       "      <th></th>\n",
       "      <th>session_dir</th>\n",
       "      <th>tone_start_frame</th>\n",
       "      <th>tone_stop_frame</th>\n",
       "      <th>box_1_port_entry_frames</th>\n",
       "      <th>box_2_port_entry_frames</th>\n",
       "      <th>video_name</th>\n",
       "      <th>all_subjects</th>\n",
       "      <th>first_timestamp</th>\n",
       "      <th>last_timestamp</th>\n",
       "      <th>tone_start_timestamp</th>\n",
       "      <th>tone_stop_timestamp</th>\n",
       "      <th>box_1_port_entry_timestamps</th>\n",
       "      <th>box_2_port_entry_timestamps</th>\n",
       "    </tr>\n",
       "  </thead>\n",
       "  <tbody>\n",
       "    <tr>\n",
       "      <th>33</th>\n",
       "      <td>20240325_150329_comp_om_subj_4-2_and_4-4</td>\n",
       "      <td>55587</td>\n",
       "      <td>55786</td>\n",
       "      <td>[55566 55613] [55625 55625] [55635 55643] [556...</td>\n",
       "      <td>[55585 55588] [55593 55595] [55598 55610] [556...</td>\n",
       "      <td>20240325_150329_comp_om_subj_4-2_and_4-4.2.vid...</td>\n",
       "      <td>[4.2, 4.4]</td>\n",
       "      <td>2013669</td>\n",
       "      <td>65819102</td>\n",
       "      <td>55612954</td>\n",
       "      <td>55812956</td>\n",
       "      <td>[55592553 55638754] [55651154 55651952] [55660...</td>\n",
       "      <td>[55610953 55614353] [55619153 55620551] [55623...</td>\n",
       "    </tr>\n",
       "    <tr>\n",
       "      <th>33</th>\n",
       "      <td>20240325_150329_comp_om_subj_4-2_and_4-4</td>\n",
       "      <td>56585</td>\n",
       "      <td>56784</td>\n",
       "      <td>[56584 56590] [56590 56591] [56592 56598] [566...</td>\n",
       "      <td>[56632 56644] [56692 56693] [56704 56707] [567...</td>\n",
       "      <td>20240325_150329_comp_om_subj_4-2_and_4-4.2.vid...</td>\n",
       "      <td>[4.2, 4.4]</td>\n",
       "      <td>2013669</td>\n",
       "      <td>65819102</td>\n",
       "      <td>56612966</td>\n",
       "      <td>56812969</td>\n",
       "      <td>[56612366 56617364] [56617764 56619166] [56619...</td>\n",
       "      <td>[56660964 56671167] [56720170 56721364] [56732...</td>\n",
       "    </tr>\n",
       "    <tr>\n",
       "      <th>33</th>\n",
       "      <td>20240325_150329_comp_om_subj_4-2_and_4-4</td>\n",
       "      <td>57983</td>\n",
       "      <td>58182</td>\n",
       "      <td>[57993 58014] [58016 58022] [58037 58037] [580...</td>\n",
       "      <td>[58009 58022] [58022 58029] [58029 58031] [580...</td>\n",
       "      <td>20240325_150329_comp_om_subj_4-2_and_4-4.2.vid...</td>\n",
       "      <td>[4.2, 4.4]</td>\n",
       "      <td>2013669</td>\n",
       "      <td>65819102</td>\n",
       "      <td>58012981</td>\n",
       "      <td>58212983</td>\n",
       "      <td>[58023781 58045184] [58046184 58053381] [58066...</td>\n",
       "      <td>[58039981 58053381] [58053781 58060584] [58060...</td>\n",
       "    </tr>\n",
       "    <tr>\n",
       "      <th>33</th>\n",
       "      <td>20240325_150329_comp_om_subj_4-2_and_4-4</td>\n",
       "      <td>60178</td>\n",
       "      <td>60378</td>\n",
       "      <td>[60172 60204] [60215 60226] [60250 60251] [602...</td>\n",
       "      <td>[60176 60186] [60187 60189] [60189 60190] [601...</td>\n",
       "      <td>20240325_150329_comp_om_subj_4-2_and_4-4.2.vid...</td>\n",
       "      <td>[4.2, 4.4]</td>\n",
       "      <td>2013669</td>\n",
       "      <td>65819102</td>\n",
       "      <td>60213011</td>\n",
       "      <td>60413011</td>\n",
       "      <td>[60206410 60238608] [60250611 60261211] [60284...</td>\n",
       "      <td>[60210611 60221208] [60222413 60223208] [60223...</td>\n",
       "    </tr>\n",
       "    <tr>\n",
       "      <th>33</th>\n",
       "      <td>20240325_150329_comp_om_subj_4-2_and_4-4</td>\n",
       "      <td>61276</td>\n",
       "      <td>61475</td>\n",
       "      <td>[61279 61284] [61290 61295] [61295 61297] [612...</td>\n",
       "      <td>[61453 61453] [61455 61456] [61456 61460] [614...</td>\n",
       "      <td>20240325_150329_comp_om_subj_4-2_and_4-4.2.vid...</td>\n",
       "      <td>[4.2, 4.4]</td>\n",
       "      <td>2013669</td>\n",
       "      <td>65819102</td>\n",
       "      <td>61313024</td>\n",
       "      <td>61513024</td>\n",
       "      <td>[61315824 61321422] [61326221 61332222] [61333...</td>\n",
       "      <td>[61489824 61491024] [61491624 61493227] [61493...</td>\n",
       "    </tr>\n",
       "  </tbody>\n",
       "</table>\n",
       "</div>"
      ],
      "text/plain": [
       "                                 session_dir  tone_start_frame  \\\n",
       "33  20240325_150329_comp_om_subj_4-2_and_4-4             55587   \n",
       "33  20240325_150329_comp_om_subj_4-2_and_4-4             56585   \n",
       "33  20240325_150329_comp_om_subj_4-2_and_4-4             57983   \n",
       "33  20240325_150329_comp_om_subj_4-2_and_4-4             60178   \n",
       "33  20240325_150329_comp_om_subj_4-2_and_4-4             61276   \n",
       "\n",
       "    tone_stop_frame                            box_1_port_entry_frames  \\\n",
       "33            55786  [55566 55613] [55625 55625] [55635 55643] [556...   \n",
       "33            56784  [56584 56590] [56590 56591] [56592 56598] [566...   \n",
       "33            58182  [57993 58014] [58016 58022] [58037 58037] [580...   \n",
       "33            60378  [60172 60204] [60215 60226] [60250 60251] [602...   \n",
       "33            61475  [61279 61284] [61290 61295] [61295 61297] [612...   \n",
       "\n",
       "                              box_2_port_entry_frames  \\\n",
       "33  [55585 55588] [55593 55595] [55598 55610] [556...   \n",
       "33  [56632 56644] [56692 56693] [56704 56707] [567...   \n",
       "33  [58009 58022] [58022 58029] [58029 58031] [580...   \n",
       "33  [60176 60186] [60187 60189] [60189 60190] [601...   \n",
       "33  [61453 61453] [61455 61456] [61456 61460] [614...   \n",
       "\n",
       "                                           video_name all_subjects  \\\n",
       "33  20240325_150329_comp_om_subj_4-2_and_4-4.2.vid...   [4.2, 4.4]   \n",
       "33  20240325_150329_comp_om_subj_4-2_and_4-4.2.vid...   [4.2, 4.4]   \n",
       "33  20240325_150329_comp_om_subj_4-2_and_4-4.2.vid...   [4.2, 4.4]   \n",
       "33  20240325_150329_comp_om_subj_4-2_and_4-4.2.vid...   [4.2, 4.4]   \n",
       "33  20240325_150329_comp_om_subj_4-2_and_4-4.2.vid...   [4.2, 4.4]   \n",
       "\n",
       "    first_timestamp  last_timestamp  tone_start_timestamp  \\\n",
       "33          2013669        65819102              55612954   \n",
       "33          2013669        65819102              56612966   \n",
       "33          2013669        65819102              58012981   \n",
       "33          2013669        65819102              60213011   \n",
       "33          2013669        65819102              61313024   \n",
       "\n",
       "    tone_stop_timestamp                        box_1_port_entry_timestamps  \\\n",
       "33             55812956  [55592553 55638754] [55651154 55651952] [55660...   \n",
       "33             56812969  [56612366 56617364] [56617764 56619166] [56619...   \n",
       "33             58212983  [58023781 58045184] [58046184 58053381] [58066...   \n",
       "33             60413011  [60206410 60238608] [60250611 60261211] [60284...   \n",
       "33             61513024  [61315824 61321422] [61326221 61332222] [61333...   \n",
       "\n",
       "                          box_2_port_entry_timestamps  \n",
       "33  [55610953 55614353] [55619153 55620551] [55623...  \n",
       "33  [56660964 56671167] [56720170 56721364] [56732...  \n",
       "33  [58039981 58053381] [58053781 58060584] [58060...  \n",
       "33  [60210611 60221208] [60222413 60223208] [60223...  \n",
       "33  [61489824 61491024] [61491624 61493227] [61493...  "
      ]
     },
     "execution_count": 24,
     "metadata": {},
     "output_type": "execute_result"
    }
   ],
   "source": [
    "exploded_TRODES_METADATA_DF.tail()"
   ]
  },
  {
   "cell_type": "code",
   "execution_count": 25,
   "id": "59e4cd1e-f42e-4c53-b361-df8b2022153c",
   "metadata": {},
   "outputs": [],
   "source": [
    "exploded_TRODES_METADATA_DF.to_csv(\"./proc/{}_per_video_trial_labels.csv\".format(OUTPUT_PREFIX))"
   ]
  },
  {
   "cell_type": "code",
   "execution_count": null,
   "id": "9eb8133c-3e96-4335-8f00-d6e01f01e88b",
   "metadata": {},
   "outputs": [],
   "source": []
  }
 ],
 "metadata": {
  "kernelspec": {
   "display_name": "mountainsort_0_5_6",
   "language": "python",
   "name": "python3"
  },
  "language_info": {
   "codemirror_mode": {
    "name": "ipython",
    "version": 3
   },
   "file_extension": ".py",
   "mimetype": "text/x-python",
   "name": "python",
   "nbconvert_exporter": "python",
   "pygments_lexer": "ipython3",
   "version": "3.9.19"
  }
 },
 "nbformat": 4,
 "nbformat_minor": 5
}
