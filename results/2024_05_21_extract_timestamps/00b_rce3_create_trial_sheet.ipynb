{
 "cells": [
  {
   "cell_type": "code",
   "execution_count": null,
   "id": "e972d84c-5033-49a3-b365-26dd5e8c3c23",
   "metadata": {},
   "outputs": [],
   "source": []
  },
  {
   "cell_type": "markdown",
   "id": "9b319b0c-1aa6-416a-88c9-9a8ebd72c182",
   "metadata": {
    "cell_id": "c3a02adc9e884466bc8c79db549cc3d2",
    "deepnote_cell_type": "text-cell-h1",
    "formattedRanges": [
     {
      "fromCodePoint": 0,
      "marks": {
       "bold": true,
       "underline": true
      },
      "toCodePoint": 17,
      "type": "marks"
     }
    ]
   },
   "source": [
    "# Time Stamp Extract"
   ]
  },
  {
   "cell_type": "markdown",
   "id": "6c35304a-2508-48a2-9ff6-bdcf7cc0b62c",
   "metadata": {
    "cell_id": "4546bee655b14a5dbf393161f1228e60",
    "deepnote_cell_type": "text-cell-p",
    "formattedRanges": []
   },
   "source": [
    "Brief 1-2 sentence description of notebook."
   ]
  },
  {
   "cell_type": "markdown",
   "id": "82706616-e5ec-4c37-8860-f34fb5c02375",
   "metadata": {},
   "source": [
    "TODO: Supplement the description\n",
    "- Notebook that extracts the timestamps and gets the time that tones played"
   ]
  },
  {
   "cell_type": "code",
   "execution_count": 1,
   "id": "d552108d-97db-48ce-850d-adc62081cc71",
   "metadata": {
    "tags": []
   },
   "outputs": [],
   "source": [
    "# Imports of all used packages and libraries\n",
    "import sys\n",
    "import os\n",
    "import git\n",
    "import glob\n",
    "from collections import defaultdict"
   ]
  },
  {
   "cell_type": "code",
   "execution_count": 2,
   "id": "541fc37a-0a6f-4112-82f5-162a3ab63d52",
   "metadata": {
    "tags": []
   },
   "outputs": [],
   "source": [
    "git_repo = git.Repo(\".\", search_parent_directories=True)\n",
    "git_root = git_repo.git.rev_parse(\"--show-toplevel\")"
   ]
  },
  {
   "cell_type": "code",
   "execution_count": 3,
   "id": "e57f253e-292a-4224-aa7d-dd05f0f21257",
   "metadata": {
    "tags": []
   },
   "outputs": [
    {
     "data": {
      "text/plain": [
       "'/nancy/user/riwata/projects/reward_comp_ext'"
      ]
     },
     "execution_count": 3,
     "metadata": {},
     "output_type": "execute_result"
    }
   ],
   "source": [
    "git_root"
   ]
  },
  {
   "cell_type": "code",
   "execution_count": 4,
   "id": "a64d173e-cd05-4db3-a591-1d508aaabcec",
   "metadata": {
    "tags": []
   },
   "outputs": [],
   "source": [
    "sys.path.insert(0, os.path.join(git_root, 'src'))"
   ]
  },
  {
   "cell_type": "code",
   "execution_count": 5,
   "id": "25436e76-9475-40c2-ab23-bddda80e8484",
   "metadata": {
    "tags": []
   },
   "outputs": [],
   "source": [
    "# Imports of all used packages and libraries\n",
    "import glob\n",
    "import numpy as np\n",
    "import pandas as pd\n",
    "import matplotlib.pyplot as plt"
   ]
  },
  {
   "cell_type": "code",
   "execution_count": 6,
   "id": "10078546-9737-4cc7-9720-006fe2831349",
   "metadata": {
    "tags": []
   },
   "outputs": [],
   "source": [
    "import spikeinterface.extractors as se\n",
    "import spikeinterface.preprocessing as sp"
   ]
  },
  {
   "cell_type": "code",
   "execution_count": 7,
   "id": "51225202-a5cf-4dd2-a4cb-6307c52a53d8",
   "metadata": {
    "tags": []
   },
   "outputs": [],
   "source": [
    "import utilities.helper\n",
    "import trodes.read_exported"
   ]
  },
  {
   "cell_type": "markdown",
   "id": "cc00678a-ce71-413a-907f-7deea71773e7",
   "metadata": {},
   "source": [
    "# Functions"
   ]
  },
  {
   "cell_type": "code",
   "execution_count": 8,
   "id": "d3cfe053-f830-485c-93c2-a42eccdfbeb3",
   "metadata": {
    "tags": []
   },
   "outputs": [],
   "source": [
    "# Function to filter rows where start/stop range overlap with the specified range\n",
    "def filter_overlapping_ranges(frame_ranges, start=0, stop=np.inf):\n",
    "    # Check for overlap\n",
    "    overlaps = np.logical_or(np.logical_and(frame_ranges[:,0] < stop, frame_ranges[:,0] >= start),\n",
    "                             np.logical_and(frame_ranges[:,1] <= stop, frame_ranges[:,1] > start))\n",
    "    return frame_ranges[overlaps]"
   ]
  },
  {
   "cell_type": "markdown",
   "id": "1c2000bc-f7fa-4f74-918a-36bec6e38ac8",
   "metadata": {
    "cell_id": "d290bac2c17940bfbc0f9296beaf70e5",
    "deepnote_cell_type": "text-cell-h2",
    "formattedRanges": []
   },
   "source": [
    "## Inputs & Data"
   ]
  },
  {
   "cell_type": "markdown",
   "id": "84d086b0-cd4c-4d94-bc08-ae5390f21ae4",
   "metadata": {
    "cell_id": "e528ce19c608425292151930d380f49f",
    "deepnote_cell_type": "text-cell-p",
    "formattedRanges": []
   },
   "source": [
    "- Explanation of each input and where it comes from."
   ]
  },
  {
   "cell_type": "markdown",
   "id": "03a02f1d-9d3a-41ee-af1c-e9c7b8d45a6f",
   "metadata": {},
   "source": [
    "Inputs and Required data loading\n",
    "- input variable names are in all caps snake case\n",
    "- Whenever an input changes or is used for processing \n",
    "- The variables are all lower in snake case"
   ]
  },
  {
   "cell_type": "code",
   "execution_count": 9,
   "id": "2b9d8c64-5654-404e-8d8a-efe28f9302cc",
   "metadata": {
    "cell_id": "6cf83a5811054461a718a71673d09aab",
    "deepnote_cell_type": "code",
    "deepnote_to_be_reexecuted": false,
    "execution_millis": 373,
    "execution_start": 1691424003628,
    "source_hash": null,
    "tags": []
   },
   "outputs": [],
   "source": [
    "# Path of the directory that contains the Spike Gadgets recording and the exported timestamp files\n",
    "# Exported with this tool https://docs.spikegadgets.com/en/latest/basic/ExportFunctions.html\n",
    "# Export these files:\n",
    "    # -raw – Continuous raw band export.\n",
    "    # -dio – Digital IO channel state change export.\n",
    "    # -analogio – Continuous analog IO export.\n",
    "OUTPUT_DIR = r\"./proc\" # where data is saved should always be shown in the inputs\n",
    "\n",
    "os.makedirs(OUTPUT_DIR, exist_ok=True)\n",
    "OUTPUT_PREFIX = \"rce_pilot_3_novel_comp\""
   ]
  },
  {
   "cell_type": "code",
   "execution_count": 10,
   "id": "5e2f5987-230e-4308-846a-b59a573c7b10",
   "metadata": {
    "tags": []
   },
   "outputs": [],
   "source": [
    "TRODES_METADATA_DF = pd.read_pickle(\"./proc/{}_00_trodes_metadata.pkl\".format(OUTPUT_PREFIX))"
   ]
  },
  {
   "cell_type": "markdown",
   "id": "f9a31d67-3498-4527-b567-06ee887b43aa",
   "metadata": {
    "cell_id": "e3ee4891d43a4ac287413afc552ca289",
    "deepnote_cell_type": "text-cell-h2",
    "formattedRanges": []
   },
   "source": [
    "## Outputs"
   ]
  },
  {
   "cell_type": "markdown",
   "id": "05a73805-0331-40f3-b295-948a6721579d",
   "metadata": {
    "cell_id": "9ccbf6cc70fd4d379fa29317f733771f",
    "deepnote_cell_type": "text-cell-p",
    "formattedRanges": []
   },
   "source": [
    "Describe each output that the notebook creates. "
   ]
  },
  {
   "cell_type": "markdown",
   "id": "67b8b786-770b-49e8-94e1-cec60b0a3367",
   "metadata": {
    "cell_id": "fc8e8920a6944918a15fac575cdf6e78",
    "deepnote_cell_type": "text-cell-bullet",
    "formattedRanges": []
   },
   "source": [
    "- Is it a plot or is it data?"
   ]
  },
  {
   "cell_type": "markdown",
   "id": "adb5727a-a059-483e-9ab8-8131f64d4c28",
   "metadata": {
    "cell_id": "1e639d4776a84aa9ac8ded2e14fa57db",
    "deepnote_cell_type": "text-cell-bullet",
    "formattedRanges": []
   },
   "source": [
    "- How valuable is the output and why is it valuable or useful?"
   ]
  },
  {
   "cell_type": "markdown",
   "id": "8e14da67-8046-4e7c-8e12-5f0580557335",
   "metadata": {},
   "source": [
    "## Other documentation"
   ]
  },
  {
   "cell_type": "markdown",
   "id": "bd93dec4-068a-413a-bc46-1683ac8dcc4a",
   "metadata": {},
   "source": [
    "raw directory\n",
    "- raw_group0.dat\n",
    "    - voltage_value: Array with voltage measurement for each channel at each timestamp\n",
    "- timestamps.dat\n",
    "    - voltage_time_stamp: The time stamp of each voltage measurement\n",
    "\n",
    "parent directory\n",
    "- 1.videoTimeStamps.cameraHWSync\n",
    "    - frame_number: Calculated by getting the index of each video time stamp tuple \n",
    "    - PosTimestamp: The time stamp of each video frame\n",
    "    - HWframeCount: Unknown value. Starts at 30742 and increases by 1 for each tuple  \n",
    "    - HWTimestamp: Unknown value. All zeroes\n",
    "    - video_time: Calculated by dividing the frame number by the fps(frames per second) \n",
    "    - video_seconds: video_time, but rounded to seconds  \t\n",
    "    - These are filled in versions of the above collumns with the value from the most recent previous cell\n",
    "        - filled_PosTimestamp \t\n",
    "        - filledHWframeCount \t\n",
    "        - filled_frame_number \t\n",
    "        - filled_video_time \t\n",
    "        - filled_video_seconds \t\n",
    "\n",
    "DIO directory\n",
    "- dio_ECU_Din1.dat\n",
    "    - time: The time stamp the corresponds to the DIN input\n",
    "    - state: Binary state of whether there is input from DIN or not \t\n",
    "    - trial_number: Calculated by adding 1 to every time there is a DIN input\n",
    "    - These are filled in versions of the above collumns with the value from the most recent previous cell\n",
    "        - filled_state \t\n",
    "        - filled_trial_number\n",
    "\n",
    "ss_output directory (Spike sorting with Spike interface)\n",
    "- firings.npz\n",
    "    - unit_id: All the units that had a spike train for the given timestamp \t\n",
    "    - number_of_units: Calculated by counting the number of units that had a spike train"
   ]
  },
  {
   "cell_type": "markdown",
   "id": "c120de15-f44e-4546-b9a7-464c2c184c69",
   "metadata": {},
   "source": [
    "## Functions"
   ]
  },
  {
   "cell_type": "markdown",
   "id": "760357e7-2e44-482d-9528-b184a887862f",
   "metadata": {},
   "source": [
    "- function names are short and in snake case all lowercase\n",
    "- a function name should be unique but does not have to describe the function\n",
    "- doc strings describe functions not function names"
   ]
  },
  {
   "cell_type": "code",
   "execution_count": null,
   "id": "366bdc48-c6be-411b-9315-89c03953c023",
   "metadata": {},
   "outputs": [],
   "source": []
  },
  {
   "cell_type": "code",
   "execution_count": null,
   "id": "403a9b34-30e6-485a-a80d-1f87ab40e1f3",
   "metadata": {},
   "outputs": [],
   "source": []
  },
  {
   "cell_type": "markdown",
   "id": "9ee5d60f-88a3-4d8d-b2a0-6e99d33fd7ef",
   "metadata": {
    "cell_id": "8999d19b6b7d4d63bc90f0b0bd9ab085",
    "deepnote_cell_type": "text-cell-h2",
    "formattedRanges": []
   },
   "source": [
    "## Processing"
   ]
  },
  {
   "cell_type": "markdown",
   "id": "20c7d952-62af-4ca6-be64-d9cda66ceb47",
   "metadata": {
    "cell_id": "9b36cdf08567463082b005cb0dec684b",
    "deepnote_cell_type": "text-cell-p",
    "formattedRanges": []
   },
   "source": [
    "Describe what is done to the data here and how inputs are manipulated to generate outputs. "
   ]
  },
  {
   "cell_type": "code",
   "execution_count": 11,
   "id": "b74900e5-c583-430e-8829-82e85f13f111",
   "metadata": {
    "cell_id": "89aaba237c644628b1b37604b75e7cb1",
    "deepnote_cell_type": "code",
    "tags": []
   },
   "outputs": [],
   "source": [
    "# As much code and as many cells as required\n",
    "# includes EDA and playing with data\n",
    "# GO HAM!"
   ]
  },
  {
   "cell_type": "code",
   "execution_count": 12,
   "id": "e100cf7d-1b3a-4ea7-8d23-2b7b38c32b91",
   "metadata": {
    "tags": []
   },
   "outputs": [],
   "source": [
    "TRODES_METADATA_DF = TRODES_METADATA_DF.drop(columns=[\"current_subject\", \"video_timestamps\", \"recording\", \"session_path\"], errors=\"ignore\")\n",
    "TRODES_METADATA_DF = TRODES_METADATA_DF.drop_duplicates(subset=[\"video_name\"])"
   ]
  },
  {
   "cell_type": "code",
   "execution_count": 13,
   "id": "a409b8a3-0a14-4809-94c3-2e0590274c1a",
   "metadata": {
    "tags": []
   },
   "outputs": [],
   "source": [
    "exploded_TRODES_METADATA_DF = TRODES_METADATA_DF.explode(column = [\"tone_frames\", \"tone_timestamps\"])"
   ]
  },
  {
   "cell_type": "code",
   "execution_count": 14,
   "id": "1d85e23a-9046-4e5d-9247-6aa3cd815cd0",
   "metadata": {
    "tags": []
   },
   "outputs": [
    {
     "data": {
      "text/html": [
       "<div>\n",
       "<style scoped>\n",
       "    .dataframe tbody tr th:only-of-type {\n",
       "        vertical-align: middle;\n",
       "    }\n",
       "\n",
       "    .dataframe tbody tr th {\n",
       "        vertical-align: top;\n",
       "    }\n",
       "\n",
       "    .dataframe thead th {\n",
       "        text-align: right;\n",
       "    }\n",
       "</style>\n",
       "<table border=\"1\" class=\"dataframe\">\n",
       "  <thead>\n",
       "    <tr style=\"text-align: right;\">\n",
       "      <th></th>\n",
       "      <th>session_dir</th>\n",
       "      <th>tone_frames</th>\n",
       "      <th>box_1_port_entry_frames</th>\n",
       "      <th>box_2_port_entry_frames</th>\n",
       "      <th>video_name</th>\n",
       "      <th>all_subjects</th>\n",
       "      <th>first_timestamp</th>\n",
       "      <th>last_timestamp</th>\n",
       "      <th>tone_timestamps</th>\n",
       "      <th>box_1_port_entry_timestamps</th>\n",
       "      <th>box_2_port_entry_timestamps</th>\n",
       "    </tr>\n",
       "  </thead>\n",
       "  <tbody>\n",
       "    <tr>\n",
       "      <th>0</th>\n",
       "      <td>20240401_151442_comp_novel_subj_3-1_and_3-3_an...</td>\n",
       "      <td>[0, 83]</td>\n",
       "      <td>[[0, 83], [84, 118], [158, 205], [275, 277], [...</td>\n",
       "      <td>[[0, 83], [364, 372], [474, 481], [625, 628], ...</td>\n",
       "      <td>20240401_151442_comp_novel_subj_3-1_and_3-3_an...</td>\n",
       "      <td>[3.1, 3.3, 4.2, 4.4]</td>\n",
       "      <td>2932501</td>\n",
       "      <td>66530053</td>\n",
       "      <td>[0, 84230]</td>\n",
       "      <td>[[0, 84230], [84627, 119430], [158430, 206033]...</td>\n",
       "      <td>[[0, 84230], [365233, 373033], [476236, 483234...</td>\n",
       "    </tr>\n",
       "    <tr>\n",
       "      <th>0</th>\n",
       "      <td>20240401_151442_comp_novel_subj_3-1_and_3-3_an...</td>\n",
       "      <td>[1280, 1481]</td>\n",
       "      <td>[[0, 83], [84, 118], [158, 205], [275, 277], [...</td>\n",
       "      <td>[[0, 83], [364, 372], [474, 481], [625, 628], ...</td>\n",
       "      <td>20240401_151442_comp_novel_subj_3-1_and_3-3_an...</td>\n",
       "      <td>[3.1, 3.3, 4.2, 4.4]</td>\n",
       "      <td>2932501</td>\n",
       "      <td>66530053</td>\n",
       "      <td>[1284645, 1484649]</td>\n",
       "      <td>[[0, 84230], [84627, 119430], [158430, 206033]...</td>\n",
       "      <td>[[0, 84230], [365233, 373033], [476236, 483234...</td>\n",
       "    </tr>\n",
       "    <tr>\n",
       "      <th>0</th>\n",
       "      <td>20240401_151442_comp_novel_subj_3-1_and_3-3_an...</td>\n",
       "      <td>[3278, 3477]</td>\n",
       "      <td>[[0, 83], [84, 118], [158, 205], [275, 277], [...</td>\n",
       "      <td>[[0, 83], [364, 372], [474, 481], [625, 628], ...</td>\n",
       "      <td>20240401_151442_comp_novel_subj_3-1_and_3-3_an...</td>\n",
       "      <td>[3.1, 3.3, 4.2, 4.4]</td>\n",
       "      <td>2932501</td>\n",
       "      <td>66530053</td>\n",
       "      <td>[3284672, 3484671]</td>\n",
       "      <td>[[0, 84230], [84627, 119430], [158430, 206033]...</td>\n",
       "      <td>[[0, 84230], [365233, 373033], [476236, 483234...</td>\n",
       "    </tr>\n",
       "    <tr>\n",
       "      <th>0</th>\n",
       "      <td>20240401_151442_comp_novel_subj_3-1_and_3-3_an...</td>\n",
       "      <td>[4476, 4675]</td>\n",
       "      <td>[[0, 83], [84, 118], [158, 205], [275, 277], [...</td>\n",
       "      <td>[[0, 83], [364, 372], [474, 481], [625, 628], ...</td>\n",
       "      <td>20240401_151442_comp_novel_subj_3-1_and_3-3_an...</td>\n",
       "      <td>[3.1, 3.3, 4.2, 4.4]</td>\n",
       "      <td>2932501</td>\n",
       "      <td>66530053</td>\n",
       "      <td>[4484687, 4684691]</td>\n",
       "      <td>[[0, 84230], [84627, 119430], [158430, 206033]...</td>\n",
       "      <td>[[0, 84230], [365233, 373033], [476236, 483234...</td>\n",
       "    </tr>\n",
       "    <tr>\n",
       "      <th>0</th>\n",
       "      <td>20240401_151442_comp_novel_subj_3-1_and_3-3_an...</td>\n",
       "      <td>[5474, 5673]</td>\n",
       "      <td>[[0, 83], [84, 118], [158, 205], [275, 277], [...</td>\n",
       "      <td>[[0, 83], [364, 372], [474, 481], [625, 628], ...</td>\n",
       "      <td>20240401_151442_comp_novel_subj_3-1_and_3-3_an...</td>\n",
       "      <td>[3.1, 3.3, 4.2, 4.4]</td>\n",
       "      <td>2932501</td>\n",
       "      <td>66530053</td>\n",
       "      <td>[5484697, 5684696]</td>\n",
       "      <td>[[0, 84230], [84627, 119430], [158430, 206033]...</td>\n",
       "      <td>[[0, 84230], [365233, 373033], [476236, 483234...</td>\n",
       "    </tr>\n",
       "    <tr>\n",
       "      <th>...</th>\n",
       "      <td>...</td>\n",
       "      <td>...</td>\n",
       "      <td>...</td>\n",
       "      <td>...</td>\n",
       "      <td>...</td>\n",
       "      <td>...</td>\n",
       "      <td>...</td>\n",
       "      <td>...</td>\n",
       "      <td>...</td>\n",
       "      <td>...</td>\n",
       "      <td>...</td>\n",
       "    </tr>\n",
       "    <tr>\n",
       "      <th>69</th>\n",
       "      <td>20240412_161135_comp_novel_subj_4-2_and_4-4_an...</td>\n",
       "      <td>[55593, 55794]</td>\n",
       "      <td>[[1, 114], [114, 115], [116, 145], [546, 609],...</td>\n",
       "      <td>[[1, 114], [118, 119], [621, 642], [657, 670],...</td>\n",
       "      <td>20240412_161135_comp_novel_subj_4-2_and_4-4_an...</td>\n",
       "      <td>[4.2, 4.4, 5.2, 5.3]</td>\n",
       "      <td>4542881</td>\n",
       "      <td>67770406</td>\n",
       "      <td>[55613392, 55813392]</td>\n",
       "      <td>[[0, 112297], [112694, 113891], [115894, 14549...</td>\n",
       "      <td>[[0, 112297], [116491, 117892], [620901, 64270...</td>\n",
       "    </tr>\n",
       "    <tr>\n",
       "      <th>69</th>\n",
       "      <td>20240412_161135_comp_novel_subj_4-2_and_4-4_an...</td>\n",
       "      <td>[56592, 56791]</td>\n",
       "      <td>[[1, 114], [114, 115], [116, 145], [546, 609],...</td>\n",
       "      <td>[[1, 114], [118, 119], [621, 642], [657, 670],...</td>\n",
       "      <td>20240412_161135_comp_novel_subj_4-2_and_4-4_an...</td>\n",
       "      <td>[4.2, 4.4, 5.2, 5.3]</td>\n",
       "      <td>4542881</td>\n",
       "      <td>67770406</td>\n",
       "      <td>[56613404, 56813407]</td>\n",
       "      <td>[[0, 112297], [112694, 113891], [115894, 14549...</td>\n",
       "      <td>[[0, 112297], [116491, 117892], [620901, 64270...</td>\n",
       "    </tr>\n",
       "    <tr>\n",
       "      <th>69</th>\n",
       "      <td>20240412_161135_comp_novel_subj_4-2_and_4-4_an...</td>\n",
       "      <td>[57989, 58188]</td>\n",
       "      <td>[[1, 114], [114, 115], [116, 145], [546, 609],...</td>\n",
       "      <td>[[1, 114], [118, 119], [621, 642], [657, 670],...</td>\n",
       "      <td>20240412_161135_comp_novel_subj_4-2_and_4-4_an...</td>\n",
       "      <td>[4.2, 4.4, 5.2, 5.3]</td>\n",
       "      <td>4542881</td>\n",
       "      <td>67770406</td>\n",
       "      <td>[58013422, 58213425]</td>\n",
       "      <td>[[0, 112297], [112694, 113891], [115894, 14549...</td>\n",
       "      <td>[[0, 112297], [116491, 117892], [620901, 64270...</td>\n",
       "    </tr>\n",
       "    <tr>\n",
       "      <th>69</th>\n",
       "      <td>20240412_161135_comp_novel_subj_4-2_and_4-4_an...</td>\n",
       "      <td>[60185, 60385]</td>\n",
       "      <td>[[1, 114], [114, 115], [116, 145], [546, 609],...</td>\n",
       "      <td>[[1, 114], [118, 119], [621, 642], [657, 670],...</td>\n",
       "      <td>20240412_161135_comp_novel_subj_4-2_and_4-4_an...</td>\n",
       "      <td>[4.2, 4.4, 5.2, 5.3]</td>\n",
       "      <td>4542881</td>\n",
       "      <td>67770406</td>\n",
       "      <td>[60213450, 60413452]</td>\n",
       "      <td>[[0, 112297], [112694, 113891], [115894, 14549...</td>\n",
       "      <td>[[0, 112297], [116491, 117892], [620901, 64270...</td>\n",
       "    </tr>\n",
       "    <tr>\n",
       "      <th>69</th>\n",
       "      <td>20240412_161135_comp_novel_subj_4-2_and_4-4_an...</td>\n",
       "      <td>[61282, 61483]</td>\n",
       "      <td>[[1, 114], [114, 115], [116, 145], [546, 609],...</td>\n",
       "      <td>[[1, 114], [118, 119], [621, 642], [657, 670],...</td>\n",
       "      <td>20240412_161135_comp_novel_subj_4-2_and_4-4_an...</td>\n",
       "      <td>[4.2, 4.4, 5.2, 5.3]</td>\n",
       "      <td>4542881</td>\n",
       "      <td>67770406</td>\n",
       "      <td>[61313464, 61513466]</td>\n",
       "      <td>[[0, 112297], [112694, 113891], [115894, 14549...</td>\n",
       "      <td>[[0, 112297], [116491, 117892], [620901, 64270...</td>\n",
       "    </tr>\n",
       "  </tbody>\n",
       "</table>\n",
       "<p>794 rows × 11 columns</p>\n",
       "</div>"
      ],
      "text/plain": [
       "                                          session_dir     tone_frames  \\\n",
       "0   20240401_151442_comp_novel_subj_3-1_and_3-3_an...         [0, 83]   \n",
       "0   20240401_151442_comp_novel_subj_3-1_and_3-3_an...    [1280, 1481]   \n",
       "0   20240401_151442_comp_novel_subj_3-1_and_3-3_an...    [3278, 3477]   \n",
       "0   20240401_151442_comp_novel_subj_3-1_and_3-3_an...    [4476, 4675]   \n",
       "0   20240401_151442_comp_novel_subj_3-1_and_3-3_an...    [5474, 5673]   \n",
       "..                                                ...             ...   \n",
       "69  20240412_161135_comp_novel_subj_4-2_and_4-4_an...  [55593, 55794]   \n",
       "69  20240412_161135_comp_novel_subj_4-2_and_4-4_an...  [56592, 56791]   \n",
       "69  20240412_161135_comp_novel_subj_4-2_and_4-4_an...  [57989, 58188]   \n",
       "69  20240412_161135_comp_novel_subj_4-2_and_4-4_an...  [60185, 60385]   \n",
       "69  20240412_161135_comp_novel_subj_4-2_and_4-4_an...  [61282, 61483]   \n",
       "\n",
       "                              box_1_port_entry_frames  \\\n",
       "0   [[0, 83], [84, 118], [158, 205], [275, 277], [...   \n",
       "0   [[0, 83], [84, 118], [158, 205], [275, 277], [...   \n",
       "0   [[0, 83], [84, 118], [158, 205], [275, 277], [...   \n",
       "0   [[0, 83], [84, 118], [158, 205], [275, 277], [...   \n",
       "0   [[0, 83], [84, 118], [158, 205], [275, 277], [...   \n",
       "..                                                ...   \n",
       "69  [[1, 114], [114, 115], [116, 145], [546, 609],...   \n",
       "69  [[1, 114], [114, 115], [116, 145], [546, 609],...   \n",
       "69  [[1, 114], [114, 115], [116, 145], [546, 609],...   \n",
       "69  [[1, 114], [114, 115], [116, 145], [546, 609],...   \n",
       "69  [[1, 114], [114, 115], [116, 145], [546, 609],...   \n",
       "\n",
       "                              box_2_port_entry_frames  \\\n",
       "0   [[0, 83], [364, 372], [474, 481], [625, 628], ...   \n",
       "0   [[0, 83], [364, 372], [474, 481], [625, 628], ...   \n",
       "0   [[0, 83], [364, 372], [474, 481], [625, 628], ...   \n",
       "0   [[0, 83], [364, 372], [474, 481], [625, 628], ...   \n",
       "0   [[0, 83], [364, 372], [474, 481], [625, 628], ...   \n",
       "..                                                ...   \n",
       "69  [[1, 114], [118, 119], [621, 642], [657, 670],...   \n",
       "69  [[1, 114], [118, 119], [621, 642], [657, 670],...   \n",
       "69  [[1, 114], [118, 119], [621, 642], [657, 670],...   \n",
       "69  [[1, 114], [118, 119], [621, 642], [657, 670],...   \n",
       "69  [[1, 114], [118, 119], [621, 642], [657, 670],...   \n",
       "\n",
       "                                           video_name          all_subjects  \\\n",
       "0   20240401_151442_comp_novel_subj_3-1_and_3-3_an...  [3.1, 3.3, 4.2, 4.4]   \n",
       "0   20240401_151442_comp_novel_subj_3-1_and_3-3_an...  [3.1, 3.3, 4.2, 4.4]   \n",
       "0   20240401_151442_comp_novel_subj_3-1_and_3-3_an...  [3.1, 3.3, 4.2, 4.4]   \n",
       "0   20240401_151442_comp_novel_subj_3-1_and_3-3_an...  [3.1, 3.3, 4.2, 4.4]   \n",
       "0   20240401_151442_comp_novel_subj_3-1_and_3-3_an...  [3.1, 3.3, 4.2, 4.4]   \n",
       "..                                                ...                   ...   \n",
       "69  20240412_161135_comp_novel_subj_4-2_and_4-4_an...  [4.2, 4.4, 5.2, 5.3]   \n",
       "69  20240412_161135_comp_novel_subj_4-2_and_4-4_an...  [4.2, 4.4, 5.2, 5.3]   \n",
       "69  20240412_161135_comp_novel_subj_4-2_and_4-4_an...  [4.2, 4.4, 5.2, 5.3]   \n",
       "69  20240412_161135_comp_novel_subj_4-2_and_4-4_an...  [4.2, 4.4, 5.2, 5.3]   \n",
       "69  20240412_161135_comp_novel_subj_4-2_and_4-4_an...  [4.2, 4.4, 5.2, 5.3]   \n",
       "\n",
       "    first_timestamp  last_timestamp       tone_timestamps  \\\n",
       "0           2932501        66530053            [0, 84230]   \n",
       "0           2932501        66530053    [1284645, 1484649]   \n",
       "0           2932501        66530053    [3284672, 3484671]   \n",
       "0           2932501        66530053    [4484687, 4684691]   \n",
       "0           2932501        66530053    [5484697, 5684696]   \n",
       "..              ...             ...                   ...   \n",
       "69          4542881        67770406  [55613392, 55813392]   \n",
       "69          4542881        67770406  [56613404, 56813407]   \n",
       "69          4542881        67770406  [58013422, 58213425]   \n",
       "69          4542881        67770406  [60213450, 60413452]   \n",
       "69          4542881        67770406  [61313464, 61513466]   \n",
       "\n",
       "                          box_1_port_entry_timestamps  \\\n",
       "0   [[0, 84230], [84627, 119430], [158430, 206033]...   \n",
       "0   [[0, 84230], [84627, 119430], [158430, 206033]...   \n",
       "0   [[0, 84230], [84627, 119430], [158430, 206033]...   \n",
       "0   [[0, 84230], [84627, 119430], [158430, 206033]...   \n",
       "0   [[0, 84230], [84627, 119430], [158430, 206033]...   \n",
       "..                                                ...   \n",
       "69  [[0, 112297], [112694, 113891], [115894, 14549...   \n",
       "69  [[0, 112297], [112694, 113891], [115894, 14549...   \n",
       "69  [[0, 112297], [112694, 113891], [115894, 14549...   \n",
       "69  [[0, 112297], [112694, 113891], [115894, 14549...   \n",
       "69  [[0, 112297], [112694, 113891], [115894, 14549...   \n",
       "\n",
       "                          box_2_port_entry_timestamps  \n",
       "0   [[0, 84230], [365233, 373033], [476236, 483234...  \n",
       "0   [[0, 84230], [365233, 373033], [476236, 483234...  \n",
       "0   [[0, 84230], [365233, 373033], [476236, 483234...  \n",
       "0   [[0, 84230], [365233, 373033], [476236, 483234...  \n",
       "0   [[0, 84230], [365233, 373033], [476236, 483234...  \n",
       "..                                                ...  \n",
       "69  [[0, 112297], [116491, 117892], [620901, 64270...  \n",
       "69  [[0, 112297], [116491, 117892], [620901, 64270...  \n",
       "69  [[0, 112297], [116491, 117892], [620901, 64270...  \n",
       "69  [[0, 112297], [116491, 117892], [620901, 64270...  \n",
       "69  [[0, 112297], [116491, 117892], [620901, 64270...  \n",
       "\n",
       "[794 rows x 11 columns]"
      ]
     },
     "execution_count": 14,
     "metadata": {},
     "output_type": "execute_result"
    }
   ],
   "source": [
    "exploded_TRODES_METADATA_DF"
   ]
  },
  {
   "cell_type": "code",
   "execution_count": 15,
   "id": "c6015a6f-28f8-4dce-9e76-5fae24f7593f",
   "metadata": {
    "tags": []
   },
   "outputs": [
    {
     "name": "stdout",
     "output_type": "stream",
     "text": [
      "box_1_port_entry_frames\n",
      "box_2_port_entry_frames\n",
      "box_1_port_entry_timestamps\n",
      "box_2_port_entry_timestamps\n"
     ]
    }
   ],
   "source": [
    "for entry_col in [col for col in exploded_TRODES_METADATA_DF.columns if \"port_entry\" in col]:\n",
    "    print(entry_col)\n",
    "    exploded_TRODES_METADATA_DF[entry_col] = exploded_TRODES_METADATA_DF[entry_col].apply(lambda x: np.array(x))\n"
   ]
  },
  {
   "cell_type": "code",
   "execution_count": 16,
   "id": "0be814a8-1d5b-4eb0-88f7-effda69e1d77",
   "metadata": {
    "tags": []
   },
   "outputs": [],
   "source": [
    "columns_to_update = [\"box_1_port_entry_frames\", \"box_2_port_entry_frames\", \"box_1_port_entry_timestamps\", \"box_2_port_entry_timestamps\"]\n",
    "tone_columns = [\"tone_frames\", \"tone_frames\", \"tone_timestamps\", \"tone_timestamps\"]\n",
    "\n",
    "for col, tone_col in zip(columns_to_update, tone_columns):\n",
    "    exploded_TRODES_METADATA_DF[col] = exploded_TRODES_METADATA_DF.apply(lambda x: filter_overlapping_ranges(x[col], x[tone_col][0], x[tone_col][1]), axis=1)"
   ]
  },
  {
   "cell_type": "code",
   "execution_count": 17,
   "id": "97063d13-b19c-4ae7-b4db-dc48af14b3bd",
   "metadata": {
    "tags": []
   },
   "outputs": [],
   "source": [
    "exploded_TRODES_METADATA_DF[\"tone_start_frame\"] = exploded_TRODES_METADATA_DF[\"tone_frames\"].apply(lambda x: x[0])\n",
    "exploded_TRODES_METADATA_DF[\"tone_stop_frame\"] = exploded_TRODES_METADATA_DF[\"tone_frames\"].apply(lambda x: x[1])"
   ]
  },
  {
   "cell_type": "code",
   "execution_count": 18,
   "id": "b36d3090-28df-47a4-9a99-33de6df81669",
   "metadata": {
    "tags": []
   },
   "outputs": [],
   "source": [
    "exploded_TRODES_METADATA_DF[\"tone_start_timestamp\"] = exploded_TRODES_METADATA_DF[\"tone_timestamps\"].apply(lambda x: x[0])\n",
    "exploded_TRODES_METADATA_DF[\"tone_stop_timestamp\"] = exploded_TRODES_METADATA_DF[\"tone_timestamps\"].apply(lambda x: x[1])\n"
   ]
  },
  {
   "cell_type": "code",
   "execution_count": 19,
   "id": "c1e799fd-acdb-438e-a93f-d15f152cd072",
   "metadata": {
    "tags": []
   },
   "outputs": [],
   "source": [
    "exploded_TRODES_METADATA_DF = exploded_TRODES_METADATA_DF.drop(columns=[\"tone_frames\", \"tone_timestamps\"], errors=\"ignore\")"
   ]
  },
  {
   "cell_type": "markdown",
   "id": "7b6ff2ac-88aa-44ba-a6b2-0d2094c553aa",
   "metadata": {},
   "source": [
    "- Create a new column for start and stop"
   ]
  },
  {
   "cell_type": "code",
   "execution_count": 20,
   "id": "5cf18467-b5a5-4c62-a272-a73bc6ec8f4a",
   "metadata": {
    "tags": []
   },
   "outputs": [],
   "source": [
    "exploded_TRODES_METADATA_DF = exploded_TRODES_METADATA_DF[sorted(exploded_TRODES_METADATA_DF.columns, key=lambda s: s.split('_')[-1])].copy()"
   ]
  },
  {
   "cell_type": "code",
   "execution_count": 21,
   "id": "f3fda01e-6e30-4400-b76b-9555ede503a9",
   "metadata": {
    "tags": []
   },
   "outputs": [],
   "source": [
    "exploded_TRODES_METADATA_DF.to_pickle(\"./proc/{}_per_video_trial_labels.pkl\".format(OUTPUT_PREFIX))"
   ]
  },
  {
   "cell_type": "markdown",
   "id": "496deb9d-d153-4d1b-a319-1d94b54d78ad",
   "metadata": {},
   "source": [
    "- Exporting to CSV"
   ]
  },
  {
   "cell_type": "code",
   "execution_count": 22,
   "id": "e5de586c-8ca8-4887-9922-6b37d6ad3858",
   "metadata": {
    "tags": []
   },
   "outputs": [
    {
     "name": "stdout",
     "output_type": "stream",
     "text": [
      "box_1_port_entry_frames\n",
      "box_2_port_entry_frames\n",
      "box_1_port_entry_timestamps\n",
      "box_2_port_entry_timestamps\n"
     ]
    }
   ],
   "source": [
    "for entry_col in [col for col in exploded_TRODES_METADATA_DF.columns if \"port_entry\" in col]:\n",
    "    print(entry_col)\n",
    "    exploded_TRODES_METADATA_DF[entry_col] = exploded_TRODES_METADATA_DF[entry_col].apply(lambda x: ' '.join(map(str, x)))"
   ]
  },
  {
   "cell_type": "code",
   "execution_count": 23,
   "id": "9b893c60-b98d-497e-8d85-b66eb6cafb66",
   "metadata": {
    "tags": []
   },
   "outputs": [
    {
     "data": {
      "text/html": [
       "<div>\n",
       "<style scoped>\n",
       "    .dataframe tbody tr th:only-of-type {\n",
       "        vertical-align: middle;\n",
       "    }\n",
       "\n",
       "    .dataframe tbody tr th {\n",
       "        vertical-align: top;\n",
       "    }\n",
       "\n",
       "    .dataframe thead th {\n",
       "        text-align: right;\n",
       "    }\n",
       "</style>\n",
       "<table border=\"1\" class=\"dataframe\">\n",
       "  <thead>\n",
       "    <tr style=\"text-align: right;\">\n",
       "      <th></th>\n",
       "      <th>session_dir</th>\n",
       "      <th>tone_start_frame</th>\n",
       "      <th>tone_stop_frame</th>\n",
       "      <th>box_1_port_entry_frames</th>\n",
       "      <th>box_2_port_entry_frames</th>\n",
       "      <th>video_name</th>\n",
       "      <th>all_subjects</th>\n",
       "      <th>first_timestamp</th>\n",
       "      <th>last_timestamp</th>\n",
       "      <th>tone_start_timestamp</th>\n",
       "      <th>tone_stop_timestamp</th>\n",
       "      <th>box_1_port_entry_timestamps</th>\n",
       "      <th>box_2_port_entry_timestamps</th>\n",
       "    </tr>\n",
       "  </thead>\n",
       "  <tbody>\n",
       "    <tr>\n",
       "      <th>0</th>\n",
       "      <td>20240401_151442_comp_novel_subj_3-1_and_3-3_an...</td>\n",
       "      <td>0</td>\n",
       "      <td>83</td>\n",
       "      <td>[ 0 83]</td>\n",
       "      <td>[ 0 83]</td>\n",
       "      <td>20240401_151442_comp_novel_subj_3-1_and_3-3_an...</td>\n",
       "      <td>[3.1, 3.3, 4.2, 4.4]</td>\n",
       "      <td>2932501</td>\n",
       "      <td>66530053</td>\n",
       "      <td>0</td>\n",
       "      <td>84230</td>\n",
       "      <td>[    0 84230]</td>\n",
       "      <td>[    0 84230]</td>\n",
       "    </tr>\n",
       "    <tr>\n",
       "      <th>0</th>\n",
       "      <td>20240401_151442_comp_novel_subj_3-1_and_3-3_an...</td>\n",
       "      <td>1280</td>\n",
       "      <td>1481</td>\n",
       "      <td>[1302 1322]</td>\n",
       "      <td>[1414 1419]</td>\n",
       "      <td>20240401_151442_comp_novel_subj_3-1_and_3-3_an...</td>\n",
       "      <td>[3.1, 3.3, 4.2, 4.4]</td>\n",
       "      <td>2932501</td>\n",
       "      <td>66530053</td>\n",
       "      <td>1284645</td>\n",
       "      <td>1484649</td>\n",
       "      <td>[1305244 1325047]</td>\n",
       "      <td>[1416451 1423051]</td>\n",
       "    </tr>\n",
       "    <tr>\n",
       "      <th>0</th>\n",
       "      <td>20240401_151442_comp_novel_subj_3-1_and_3-3_an...</td>\n",
       "      <td>3278</td>\n",
       "      <td>3477</td>\n",
       "      <td>[3440 3464] [3464 3476]</td>\n",
       "      <td>[3466 3522]</td>\n",
       "      <td>20240401_151442_comp_novel_subj_3-1_and_3-3_an...</td>\n",
       "      <td>[3.1, 3.3, 4.2, 4.4]</td>\n",
       "      <td>2932501</td>\n",
       "      <td>66530053</td>\n",
       "      <td>3284672</td>\n",
       "      <td>3484671</td>\n",
       "      <td>[3447271 3470274] [3471071 3483276]</td>\n",
       "      <td>[3473674 3529472]</td>\n",
       "    </tr>\n",
       "    <tr>\n",
       "      <th>0</th>\n",
       "      <td>20240401_151442_comp_novel_subj_3-1_and_3-3_an...</td>\n",
       "      <td>4476</td>\n",
       "      <td>4675</td>\n",
       "      <td></td>\n",
       "      <td></td>\n",
       "      <td>20240401_151442_comp_novel_subj_3-1_and_3-3_an...</td>\n",
       "      <td>[3.1, 3.3, 4.2, 4.4]</td>\n",
       "      <td>2932501</td>\n",
       "      <td>66530053</td>\n",
       "      <td>4484687</td>\n",
       "      <td>4684691</td>\n",
       "      <td></td>\n",
       "      <td></td>\n",
       "    </tr>\n",
       "    <tr>\n",
       "      <th>0</th>\n",
       "      <td>20240401_151442_comp_novel_subj_3-1_and_3-3_an...</td>\n",
       "      <td>5474</td>\n",
       "      <td>5673</td>\n",
       "      <td>[5446 5476] [5486 5507] [5530 5552] [5566 5568...</td>\n",
       "      <td></td>\n",
       "      <td>20240401_151442_comp_novel_subj_3-1_and_3-3_an...</td>\n",
       "      <td>[3.1, 3.3, 4.2, 4.4]</td>\n",
       "      <td>2932501</td>\n",
       "      <td>66530053</td>\n",
       "      <td>5484697</td>\n",
       "      <td>5684696</td>\n",
       "      <td>[5457296 5487694] [5496701 5517699] [5541504 5...</td>\n",
       "      <td></td>\n",
       "    </tr>\n",
       "  </tbody>\n",
       "</table>\n",
       "</div>"
      ],
      "text/plain": [
       "                                         session_dir  tone_start_frame  \\\n",
       "0  20240401_151442_comp_novel_subj_3-1_and_3-3_an...                 0   \n",
       "0  20240401_151442_comp_novel_subj_3-1_and_3-3_an...              1280   \n",
       "0  20240401_151442_comp_novel_subj_3-1_and_3-3_an...              3278   \n",
       "0  20240401_151442_comp_novel_subj_3-1_and_3-3_an...              4476   \n",
       "0  20240401_151442_comp_novel_subj_3-1_and_3-3_an...              5474   \n",
       "\n",
       "   tone_stop_frame                            box_1_port_entry_frames  \\\n",
       "0               83                                            [ 0 83]   \n",
       "0             1481                                        [1302 1322]   \n",
       "0             3477                            [3440 3464] [3464 3476]   \n",
       "0             4675                                                      \n",
       "0             5673  [5446 5476] [5486 5507] [5530 5552] [5566 5568...   \n",
       "\n",
       "  box_2_port_entry_frames                                         video_name  \\\n",
       "0                 [ 0 83]  20240401_151442_comp_novel_subj_3-1_and_3-3_an...   \n",
       "0             [1414 1419]  20240401_151442_comp_novel_subj_3-1_and_3-3_an...   \n",
       "0             [3466 3522]  20240401_151442_comp_novel_subj_3-1_and_3-3_an...   \n",
       "0                          20240401_151442_comp_novel_subj_3-1_and_3-3_an...   \n",
       "0                          20240401_151442_comp_novel_subj_3-1_and_3-3_an...   \n",
       "\n",
       "           all_subjects  first_timestamp  last_timestamp  \\\n",
       "0  [3.1, 3.3, 4.2, 4.4]          2932501        66530053   \n",
       "0  [3.1, 3.3, 4.2, 4.4]          2932501        66530053   \n",
       "0  [3.1, 3.3, 4.2, 4.4]          2932501        66530053   \n",
       "0  [3.1, 3.3, 4.2, 4.4]          2932501        66530053   \n",
       "0  [3.1, 3.3, 4.2, 4.4]          2932501        66530053   \n",
       "\n",
       "   tone_start_timestamp  tone_stop_timestamp  \\\n",
       "0                     0                84230   \n",
       "0               1284645              1484649   \n",
       "0               3284672              3484671   \n",
       "0               4484687              4684691   \n",
       "0               5484697              5684696   \n",
       "\n",
       "                         box_1_port_entry_timestamps  \\\n",
       "0                                      [    0 84230]   \n",
       "0                                  [1305244 1325047]   \n",
       "0                [3447271 3470274] [3471071 3483276]   \n",
       "0                                                      \n",
       "0  [5457296 5487694] [5496701 5517699] [5541504 5...   \n",
       "\n",
       "  box_2_port_entry_timestamps  \n",
       "0               [    0 84230]  \n",
       "0           [1416451 1423051]  \n",
       "0           [3473674 3529472]  \n",
       "0                              \n",
       "0                              "
      ]
     },
     "execution_count": 23,
     "metadata": {},
     "output_type": "execute_result"
    }
   ],
   "source": [
    "exploded_TRODES_METADATA_DF.head()"
   ]
  },
  {
   "cell_type": "code",
   "execution_count": 24,
   "id": "dca93454-8d88-4582-bc01-c42b3110a25a",
   "metadata": {},
   "outputs": [
    {
     "data": {
      "text/html": [
       "<div>\n",
       "<style scoped>\n",
       "    .dataframe tbody tr th:only-of-type {\n",
       "        vertical-align: middle;\n",
       "    }\n",
       "\n",
       "    .dataframe tbody tr th {\n",
       "        vertical-align: top;\n",
       "    }\n",
       "\n",
       "    .dataframe thead th {\n",
       "        text-align: right;\n",
       "    }\n",
       "</style>\n",
       "<table border=\"1\" class=\"dataframe\">\n",
       "  <thead>\n",
       "    <tr style=\"text-align: right;\">\n",
       "      <th></th>\n",
       "      <th>session_dir</th>\n",
       "      <th>tone_start_frame</th>\n",
       "      <th>tone_stop_frame</th>\n",
       "      <th>box_1_port_entry_frames</th>\n",
       "      <th>box_2_port_entry_frames</th>\n",
       "      <th>video_name</th>\n",
       "      <th>all_subjects</th>\n",
       "      <th>first_timestamp</th>\n",
       "      <th>last_timestamp</th>\n",
       "      <th>tone_start_timestamp</th>\n",
       "      <th>tone_stop_timestamp</th>\n",
       "      <th>box_1_port_entry_timestamps</th>\n",
       "      <th>box_2_port_entry_timestamps</th>\n",
       "    </tr>\n",
       "  </thead>\n",
       "  <tbody>\n",
       "    <tr>\n",
       "      <th>69</th>\n",
       "      <td>20240412_161135_comp_novel_subj_4-2_and_4-4_an...</td>\n",
       "      <td>55593</td>\n",
       "      <td>55794</td>\n",
       "      <td>[55587 55608] [55608 55611] [55633 55637] [556...</td>\n",
       "      <td>[55604 55606] [55606 55616] [55616 55623] [556...</td>\n",
       "      <td>20240412_161135_comp_novel_subj_4-2_and_4-4_an...</td>\n",
       "      <td>[4.2, 4.4, 5.2, 5.3]</td>\n",
       "      <td>4542881</td>\n",
       "      <td>67770406</td>\n",
       "      <td>55613392</td>\n",
       "      <td>55813392</td>\n",
       "      <td>[55607392 55627992] [55628592 55631390] [55653...</td>\n",
       "      <td>[55623992 55625192] [55626392 55635990] [55636...</td>\n",
       "    </tr>\n",
       "    <tr>\n",
       "      <th>69</th>\n",
       "      <td>20240412_161135_comp_novel_subj_4-2_and_4-4_an...</td>\n",
       "      <td>56592</td>\n",
       "      <td>56791</td>\n",
       "      <td>[56579 56619] [56650 56651] [56651 56655] [566...</td>\n",
       "      <td>[56583 56606] [56623 56626] [56626 56637] [566...</td>\n",
       "      <td>20240412_161135_comp_novel_subj_4-2_and_4-4_an...</td>\n",
       "      <td>[4.2, 4.4, 5.2, 5.3]</td>\n",
       "      <td>4542881</td>\n",
       "      <td>67770406</td>\n",
       "      <td>56613404</td>\n",
       "      <td>56813407</td>\n",
       "      <td>[56601002 56641602] [56671805 56672605] [56673...</td>\n",
       "      <td>[56604804 56627804] [56646003 56648005] [56648...</td>\n",
       "    </tr>\n",
       "    <tr>\n",
       "      <th>69</th>\n",
       "      <td>20240412_161135_comp_novel_subj_4-2_and_4-4_an...</td>\n",
       "      <td>57989</td>\n",
       "      <td>58188</td>\n",
       "      <td>[58026 58026] [58051 58052] [58052 58063] [580...</td>\n",
       "      <td>[57996 57997] [57999 58010] [58033 58044] [580...</td>\n",
       "      <td>20240412_161135_comp_novel_subj_4-2_and_4-4_an...</td>\n",
       "      <td>[4.2, 4.4, 5.2, 5.3]</td>\n",
       "      <td>4542881</td>\n",
       "      <td>67770406</td>\n",
       "      <td>58013422</td>\n",
       "      <td>58213425</td>\n",
       "      <td>[58050222 58051022] [58075023 58076423] [58077...</td>\n",
       "      <td>[58020222 58021622] [58022822 58034422] [58057...</td>\n",
       "    </tr>\n",
       "    <tr>\n",
       "      <th>69</th>\n",
       "      <td>20240412_161135_comp_novel_subj_4-2_and_4-4_an...</td>\n",
       "      <td>60185</td>\n",
       "      <td>60385</td>\n",
       "      <td>[60201 60212] [60234 60244] [60246 60248] [602...</td>\n",
       "      <td>[60206 60208] [60208 60217] [60219 60223] [602...</td>\n",
       "      <td>20240412_161135_comp_novel_subj_4-2_and_4-4_an...</td>\n",
       "      <td>[4.2, 4.4, 5.2, 5.3]</td>\n",
       "      <td>4542881</td>\n",
       "      <td>67770406</td>\n",
       "      <td>60213450</td>\n",
       "      <td>60413452</td>\n",
       "      <td>[60229250 60240650] [60262850 60271848] [60274...</td>\n",
       "      <td>[60234049 60235650] [60236450 60245453] [60247...</td>\n",
       "    </tr>\n",
       "    <tr>\n",
       "      <th>69</th>\n",
       "      <td>20240412_161135_comp_novel_subj_4-2_and_4-4_an...</td>\n",
       "      <td>61282</td>\n",
       "      <td>61483</td>\n",
       "      <td>[61227 61306] [61327 61340] [61340 61363] [613...</td>\n",
       "      <td>[61303 61305] [61305 61320] [61321 61322] [613...</td>\n",
       "      <td>20240412_161135_comp_novel_subj_4-2_and_4-4_an...</td>\n",
       "      <td>[4.2, 4.4, 5.2, 5.3]</td>\n",
       "      <td>4542881</td>\n",
       "      <td>67770406</td>\n",
       "      <td>61313464</td>\n",
       "      <td>61513466</td>\n",
       "      <td>[61257465 61337063] [61357462 61370461] [61371...</td>\n",
       "      <td>[61333064 61335064] [61335461 61350864] [61352...</td>\n",
       "    </tr>\n",
       "  </tbody>\n",
       "</table>\n",
       "</div>"
      ],
      "text/plain": [
       "                                          session_dir  tone_start_frame  \\\n",
       "69  20240412_161135_comp_novel_subj_4-2_and_4-4_an...             55593   \n",
       "69  20240412_161135_comp_novel_subj_4-2_and_4-4_an...             56592   \n",
       "69  20240412_161135_comp_novel_subj_4-2_and_4-4_an...             57989   \n",
       "69  20240412_161135_comp_novel_subj_4-2_and_4-4_an...             60185   \n",
       "69  20240412_161135_comp_novel_subj_4-2_and_4-4_an...             61282   \n",
       "\n",
       "    tone_stop_frame                            box_1_port_entry_frames  \\\n",
       "69            55794  [55587 55608] [55608 55611] [55633 55637] [556...   \n",
       "69            56791  [56579 56619] [56650 56651] [56651 56655] [566...   \n",
       "69            58188  [58026 58026] [58051 58052] [58052 58063] [580...   \n",
       "69            60385  [60201 60212] [60234 60244] [60246 60248] [602...   \n",
       "69            61483  [61227 61306] [61327 61340] [61340 61363] [613...   \n",
       "\n",
       "                              box_2_port_entry_frames  \\\n",
       "69  [55604 55606] [55606 55616] [55616 55623] [556...   \n",
       "69  [56583 56606] [56623 56626] [56626 56637] [566...   \n",
       "69  [57996 57997] [57999 58010] [58033 58044] [580...   \n",
       "69  [60206 60208] [60208 60217] [60219 60223] [602...   \n",
       "69  [61303 61305] [61305 61320] [61321 61322] [613...   \n",
       "\n",
       "                                           video_name          all_subjects  \\\n",
       "69  20240412_161135_comp_novel_subj_4-2_and_4-4_an...  [4.2, 4.4, 5.2, 5.3]   \n",
       "69  20240412_161135_comp_novel_subj_4-2_and_4-4_an...  [4.2, 4.4, 5.2, 5.3]   \n",
       "69  20240412_161135_comp_novel_subj_4-2_and_4-4_an...  [4.2, 4.4, 5.2, 5.3]   \n",
       "69  20240412_161135_comp_novel_subj_4-2_and_4-4_an...  [4.2, 4.4, 5.2, 5.3]   \n",
       "69  20240412_161135_comp_novel_subj_4-2_and_4-4_an...  [4.2, 4.4, 5.2, 5.3]   \n",
       "\n",
       "    first_timestamp  last_timestamp  tone_start_timestamp  \\\n",
       "69          4542881        67770406              55613392   \n",
       "69          4542881        67770406              56613404   \n",
       "69          4542881        67770406              58013422   \n",
       "69          4542881        67770406              60213450   \n",
       "69          4542881        67770406              61313464   \n",
       "\n",
       "    tone_stop_timestamp                        box_1_port_entry_timestamps  \\\n",
       "69             55813392  [55607392 55627992] [55628592 55631390] [55653...   \n",
       "69             56813407  [56601002 56641602] [56671805 56672605] [56673...   \n",
       "69             58213425  [58050222 58051022] [58075023 58076423] [58077...   \n",
       "69             60413452  [60229250 60240650] [60262850 60271848] [60274...   \n",
       "69             61513466  [61257465 61337063] [61357462 61370461] [61371...   \n",
       "\n",
       "                          box_2_port_entry_timestamps  \n",
       "69  [55623992 55625192] [55626392 55635990] [55636...  \n",
       "69  [56604804 56627804] [56646003 56648005] [56648...  \n",
       "69  [58020222 58021622] [58022822 58034422] [58057...  \n",
       "69  [60234049 60235650] [60236450 60245453] [60247...  \n",
       "69  [61333064 61335064] [61335461 61350864] [61352...  "
      ]
     },
     "execution_count": 24,
     "metadata": {},
     "output_type": "execute_result"
    }
   ],
   "source": [
    "exploded_TRODES_METADATA_DF.tail()"
   ]
  },
  {
   "cell_type": "code",
   "execution_count": 25,
   "id": "59e4cd1e-f42e-4c53-b361-df8b2022153c",
   "metadata": {},
   "outputs": [],
   "source": [
    "exploded_TRODES_METADATA_DF.to_csv(\"./proc/{}_per_video_trial_labels.csv\".format(OUTPUT_PREFIX))"
   ]
  },
  {
   "cell_type": "code",
   "execution_count": null,
   "id": "9eb8133c-3e96-4335-8f00-d6e01f01e88b",
   "metadata": {},
   "outputs": [],
   "source": []
  }
 ],
 "metadata": {
  "kernelspec": {
   "display_name": "mountainsort_0_5_6",
   "language": "python",
   "name": "python3"
  },
  "language_info": {
   "codemirror_mode": {
    "name": "ipython",
    "version": 3
   },
   "file_extension": ".py",
   "mimetype": "text/x-python",
   "name": "python",
   "nbconvert_exporter": "python",
   "pygments_lexer": "ipython3",
   "version": "3.9.19"
  }
 },
 "nbformat": 4,
 "nbformat_minor": 5
}
