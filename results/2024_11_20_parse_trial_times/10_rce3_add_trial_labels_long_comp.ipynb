{
 "cells": [
  {
   "cell_type": "markdown",
   "metadata": {
    "cell_id": "c3a02adc9e884466bc8c79db549cc3d2",
    "deepnote_cell_type": "text-cell-h1",
    "formattedRanges": [
     {
      "fromCodePoint": 0,
      "marks": {
       "bold": true,
       "underline": true
      },
      "toCodePoint": 17,
      "type": "marks"
     }
    ]
   },
   "source": [
    "# All oscillation analysis"
   ]
  },
  {
   "cell_type": "markdown",
   "metadata": {
    "cell_id": "4546bee655b14a5dbf393161f1228e60",
    "deepnote_cell_type": "text-cell-p",
    "formattedRanges": []
   },
   "source": [
    "Brief 1-2 sentence description of notebook."
   ]
  },
  {
   "cell_type": "code",
   "execution_count": 1,
   "metadata": {
    "tags": []
   },
   "outputs": [],
   "source": [
    "# Imports of all used packages and libraries\n",
    "import sys\n",
    "import os\n",
    "import git\n",
    "import glob\n",
    "from collections import defaultdict"
   ]
  },
  {
   "cell_type": "code",
   "execution_count": 2,
   "metadata": {
    "tags": []
   },
   "outputs": [],
   "source": [
    "git_repo = git.Repo(\".\", search_parent_directories=True)\n",
    "git_root = git_repo.git.rev_parse(\"--show-toplevel\")"
   ]
  },
  {
   "cell_type": "code",
   "execution_count": 3,
   "metadata": {
    "tags": []
   },
   "outputs": [
    {
     "data": {
      "text/plain": [
       "'/nancy/user/riwata/projects/reward_comp_ext'"
      ]
     },
     "execution_count": 3,
     "metadata": {},
     "output_type": "execute_result"
    }
   ],
   "source": [
    "git_root"
   ]
  },
  {
   "cell_type": "code",
   "execution_count": 4,
   "metadata": {
    "tags": []
   },
   "outputs": [],
   "source": [
    "sys.path.insert(0, os.path.join(git_root, 'src'))"
   ]
  },
  {
   "cell_type": "code",
   "execution_count": 5,
   "metadata": {
    "tags": []
   },
   "outputs": [],
   "source": [
    "import warnings\n",
    "warnings.filterwarnings('ignore')"
   ]
  },
  {
   "cell_type": "code",
   "execution_count": 6,
   "metadata": {
    "tags": []
   },
   "outputs": [],
   "source": [
    "import os\n",
    "import collections\n",
    "import itertools\n",
    "from collections import defaultdict\n",
    "from itertools import combinations"
   ]
  },
  {
   "cell_type": "raw",
   "metadata": {},
   "source": [
    "os.environ[\"SPECTRAL_CONNECTIVITY_ENABLE_GPU\"] = \"true\"\n",
    "import cupy as cp"
   ]
  },
  {
   "cell_type": "code",
   "execution_count": 7,
   "metadata": {
    "cell_id": "03b495cefa6a4798a44c7f2e4c6a3ea7",
    "deepnote_cell_type": "code",
    "deepnote_to_be_reexecuted": false,
    "execution_millis": 21,
    "execution_start": 1691424003626,
    "source_hash": null,
    "tags": []
   },
   "outputs": [],
   "source": [
    "# Imports of all used packages and libraries\n",
    "import numpy as np\n",
    "import pandas as pd\n",
    "from scipy import stats\n",
    "from scipy.stats import mannwhitneyu\n"
   ]
  },
  {
   "cell_type": "code",
   "execution_count": 8,
   "metadata": {
    "tags": []
   },
   "outputs": [],
   "source": [
    "import matplotlib\n",
    "import matplotlib.colors as mcolors\n",
    "import matplotlib.pyplot as plt\n",
    "import matplotlib.cm as cm\n",
    "import colorsys"
   ]
  },
  {
   "cell_type": "code",
   "execution_count": 9,
   "metadata": {
    "tags": []
   },
   "outputs": [],
   "source": [
    "from sklearn.metrics import confusion_matrix"
   ]
  },
  {
   "cell_type": "code",
   "execution_count": 10,
   "metadata": {
    "tags": []
   },
   "outputs": [],
   "source": [
    "from spectral_connectivity import Multitaper, Connectivity\n",
    "import spectral_connectivity"
   ]
  },
  {
   "cell_type": "code",
   "execution_count": 11,
   "metadata": {
    "tags": []
   },
   "outputs": [],
   "source": [
    "import utilities.helper\n",
    "import trodes.read_exported"
   ]
  },
  {
   "cell_type": "code",
   "execution_count": 12,
   "metadata": {
    "tags": []
   },
   "outputs": [],
   "source": [
    "FONTSIZE = 20"
   ]
  },
  {
   "cell_type": "code",
   "execution_count": 13,
   "metadata": {
    "tags": []
   },
   "outputs": [],
   "source": [
    "font = {'weight' : 'medium',\n",
    "        'size'   : 20}\n",
    "\n",
    "matplotlib.rc('font', **font)"
   ]
  },
  {
   "cell_type": "markdown",
   "metadata": {
    "cell_id": "d290bac2c17940bfbc0f9296beaf70e5",
    "deepnote_cell_type": "text-cell-h2",
    "formattedRanges": []
   },
   "source": [
    "## Inputs & Data"
   ]
  },
  {
   "cell_type": "code",
   "execution_count": 14,
   "metadata": {
    "tags": []
   },
   "outputs": [],
   "source": [
    "EPHYS_SAMPLE_RATE = 20000"
   ]
  },
  {
   "cell_type": "markdown",
   "metadata": {
    "cell_id": "e528ce19c608425292151930d380f49f",
    "deepnote_cell_type": "text-cell-p",
    "formattedRanges": []
   },
   "source": [
    "Explanation of each input and where it comes from."
   ]
  },
  {
   "cell_type": "code",
   "execution_count": 15,
   "metadata": {
    "cell_id": "6cf83a5811054461a718a71673d09aab",
    "deepnote_cell_type": "code",
    "deepnote_to_be_reexecuted": false,
    "execution_millis": 373,
    "execution_start": 1691424003628,
    "source_hash": null,
    "tags": []
   },
   "outputs": [],
   "source": [
    "# Inputs and Required data loading\n",
    "# input varaible names are in all caps snake case\n",
    "# Whenever an input changes or is used for processing \n",
    "# the vairables are all lower in snake case\n",
    "OUTPUT_DIR = r\"./proc/\" # where data is saved should always be shown in the inputs\n",
    "os.makedirs(OUTPUT_DIR, exist_ok=True)\n",
    "OUTPUT_PREFIX = \"rce_pilot_3_long_comp\""
   ]
  },
  {
   "cell_type": "code",
   "execution_count": 16,
   "metadata": {
    "tags": []
   },
   "outputs": [],
   "source": [
    "# TRIAL_LABELS_DF = pd.read_excel(\"/blue/npadillacoreano/ryoi360/projects/reward_comp/repos/reward_comp_ext/results/2024_06_26_sleap_clustering/data/rce_pilot_3_alone_comp_per_video_trial_labels.xlsx\")\n",
    "TRIAL_LABELS_DF = pd.read_excel(\"../../data/{}_per_video_trial_labels.xlsx\".format(OUTPUT_PREFIX))"
   ]
  },
  {
   "cell_type": "code",
   "execution_count": 17,
   "metadata": {},
   "outputs": [],
   "source": [
    "TRIAL_LABELS_DF = TRIAL_LABELS_DF.drop(columns=[col for col in TRIAL_LABELS_DF if \"unnamed\" in col.lower()], errors=\"ignore\")"
   ]
  },
  {
   "cell_type": "code",
   "execution_count": 18,
   "metadata": {},
   "outputs": [],
   "source": [
    "TRIAL_LABELS_DF = TRIAL_LABELS_DF.rename(columns={col: col.strip() for col in TRIAL_LABELS_DF}, errors=\"ignore\")"
   ]
  },
  {
   "cell_type": "code",
   "execution_count": 19,
   "metadata": {
    "tags": []
   },
   "outputs": [],
   "source": [
    "# LFP_SPECTRAL_DF = pd.read_pickle(\"./proc/{}_03_spectral_bands.pkl\".format(OUTPUT_PREFIX))\n",
    "LFP_SPECTRAL_DF = pd.read_pickle(\"../2024_11_18_add_sleap/proc/{}_04_lfp_spike_sleap.pkl\".format(OUTPUT_PREFIX))\n",
    "# /nancy/user/riwata/projects/reward_comp_ext/results../../2024_11_18_add_sleap/proc/rce_pilot_3_long_comp_04_lfp_spike_sleap.pkl\""
   ]
  },
  {
   "cell_type": "code",
   "execution_count": 20,
   "metadata": {
    "tags": []
   },
   "outputs": [],
   "source": [
    "# LFP_SPECTRAL_DF = pd.read_pickle(\"./proc/{}_04_spectral_and_sleap.pkl\".format(OUTPUT_PREFIX))"
   ]
  },
  {
   "cell_type": "code",
   "execution_count": 21,
   "metadata": {},
   "outputs": [],
   "source": [
    "LFP_SPECTRAL_DF = LFP_SPECTRAL_DF.drop(columns=[col for col in LFP_SPECTRAL_DF if \"unnamed\" in col.lower()], errors=\"ignore\")"
   ]
  },
  {
   "cell_type": "code",
   "execution_count": 22,
   "metadata": {},
   "outputs": [],
   "source": [
    "LFP_SPECTRAL_DF = LFP_SPECTRAL_DF.rename(columns={col: col.strip() for col in LFP_SPECTRAL_DF}, errors=\"ignore\")"
   ]
  },
  {
   "cell_type": "code",
   "execution_count": 23,
   "metadata": {},
   "outputs": [],
   "source": [
    "# cluster_range_columns = pd.read_pickle(\"../2024_06_26_sleap_clustering/proc/cluster_range_columns.pkl\")"
   ]
  },
  {
   "cell_type": "code",
   "execution_count": 24,
   "metadata": {},
   "outputs": [],
   "source": [
    "# cluster_range_columns"
   ]
  },
  {
   "cell_type": "code",
   "execution_count": 25,
   "metadata": {
    "tags": []
   },
   "outputs": [],
   "source": [
    "FULL_LFP_TRACES_PKL = \"{}_10_per_trial_lfp_spikes.pkl\".format(OUTPUT_PREFIX)"
   ]
  },
  {
   "cell_type": "markdown",
   "metadata": {
    "cell_id": "e3ee4891d43a4ac287413afc552ca289",
    "deepnote_cell_type": "text-cell-h2",
    "formattedRanges": []
   },
   "source": [
    "## Outputs"
   ]
  },
  {
   "cell_type": "markdown",
   "metadata": {
    "cell_id": "9ccbf6cc70fd4d379fa29317f733771f",
    "deepnote_cell_type": "text-cell-p",
    "formattedRanges": []
   },
   "source": [
    "Describe each output that the notebook creates. "
   ]
  },
  {
   "cell_type": "markdown",
   "metadata": {
    "cell_id": "fc8e8920a6944918a15fac575cdf6e78",
    "deepnote_cell_type": "text-cell-bullet",
    "formattedRanges": []
   },
   "source": [
    "- Is it a plot or is it data?"
   ]
  },
  {
   "cell_type": "markdown",
   "metadata": {
    "cell_id": "1e639d4776a84aa9ac8ded2e14fa57db",
    "deepnote_cell_type": "text-cell-bullet",
    "formattedRanges": []
   },
   "source": [
    "- How valuable is the output and why is it valuable or useful?"
   ]
  },
  {
   "cell_type": "markdown",
   "metadata": {},
   "source": [
    "## Functions "
   ]
  },
  {
   "cell_type": "code",
   "execution_count": 26,
   "metadata": {},
   "outputs": [],
   "source": [
    "def filter_spike_times(arr_2d, start, stop, padding=-1):\n",
    "    \"\"\"\n",
    "    Filters a 2D array based on a start and stop condition and pads shorter arrays to match the length of the longest array.\n",
    "\n",
    "    Parameters:\n",
    "    arr_2d (numpy.ndarray): 2D array to be filtered and padded.\n",
    "    start (int or float): Lower bound of the condition.\n",
    "    stop (int or float): Upper bound of the condition.\n",
    "    padding (int or float): Value to use for padding, defaults to -1.\n",
    "\n",
    "    Returns:\n",
    "    numpy.ndarray: A 2D array where each inner array has been filtered based on the condition and padded to match the length of the longest array.\n",
    "    \"\"\"\n",
    "\n",
    "    # Filter each row in arr_2d based on the condition\n",
    "    masked_data = [row[(row >= start) & (row < stop)] for row in arr_2d]\n",
    "\n",
    "    # Determine the maximum length of arrays in the list\n",
    "    max_length = max(len(arr) for arr in masked_data)\n",
    "\n",
    "    # Pad each array in masked_data with the padding value so they all have the same length (max_length)\n",
    "    padded_arrays = [np.concatenate([x, np.full([max_length - len(x)], padding)]) for x in masked_data]\n",
    "\n",
    "    # Convert the list of arrays to a 2D numpy array\n",
    "    padded_arrays = np.array(padded_arrays)\n",
    "\n",
    "    return padded_arrays"
   ]
  },
  {
   "cell_type": "markdown",
   "metadata": {
    "cell_id": "8999d19b6b7d4d63bc90f0b0bd9ab085",
    "deepnote_cell_type": "text-cell-h2",
    "formattedRanges": []
   },
   "source": [
    "## Processing"
   ]
  },
  {
   "cell_type": "markdown",
   "metadata": {
    "cell_id": "9b36cdf08567463082b005cb0dec684b",
    "deepnote_cell_type": "text-cell-p",
    "formattedRanges": []
   },
   "source": [
    "Describe what is done to the data here and how inputs are manipulated to generate outputs. "
   ]
  },
  {
   "cell_type": "code",
   "execution_count": 27,
   "metadata": {
    "cell_id": "89aaba237c644628b1b37604b75e7cb1",
    "deepnote_cell_type": "code",
    "tags": []
   },
   "outputs": [],
   "source": [
    "# As much code and as many cells as required\n",
    "# includes EDA and playing with data\n",
    "# GO HAM!\n",
    "\n",
    "# Ideally functions are defined here first and then data is processed using the functions\n",
    "\n",
    "# function names are short and in snake case all lowercase\n",
    "# a function name should be unique but does not have to describe the function\n",
    "# doc strings describe functions not function names\n",
    "\n",
    "\n"
   ]
  },
  {
   "cell_type": "code",
   "execution_count": 28,
   "metadata": {
    "tags": []
   },
   "outputs": [
    {
     "data": {
      "text/plain": [
       "Index(['cohort', 'session_dir', 'tone_frames', 'box_1_port_entry_frames',\n",
       "       'box_2_port_entry_frames', 'video_name', 'notes', 'session_path',\n",
       "       'recording', 'current_subject', 'subject', 'all_subjects',\n",
       "       'first_timestamp', 'last_timestamp', 'video_timestamps',\n",
       "       'tone_timestamps', 'box_1_port_entry_timestamps',\n",
       "       'box_2_port_entry_timestamps', 'lfp_timestamps', 'vHPC_lfp_trace',\n",
       "       'BLA_lfp_trace', 'LH_lfp_trace', 'MD_lfp_trace', 'mPFC_lfp_trace',\n",
       "       'recording_name', 'spike_clusters', 'spike_times', 'neuron_average_fr',\n",
       "       'neuron_average_timestamps', 'start_frame', 'stop_frame',\n",
       "       'tracked_subject', 'in_video_subjects', 'box_number', 'sleap_name',\n",
       "       'body_parts', 'box_bottom_right', 'reward_port', 'box_top_left',\n",
       "       'box_top_right', 'box_bottom_left', 'agent', 'subject_locations',\n",
       "       'frame_index', 'agent_locations', 'subject_thorax_velocity',\n",
       "       'agent_thorax_velocity', 'subject_thorax_to_reward_port',\n",
       "       'agent_thorax_to_reward_port'],\n",
       "      dtype='object')"
      ]
     },
     "execution_count": 28,
     "metadata": {},
     "output_type": "execute_result"
    }
   ],
   "source": [
    "LFP_SPECTRAL_DF.columns"
   ]
  },
  {
   "cell_type": "code",
   "execution_count": 29,
   "metadata": {
    "scrolled": true,
    "tags": []
   },
   "outputs": [
    {
     "data": {
      "text/plain": [
       "Index(['session_dir', 'tone_start_frame', 'reward_start', 'reward_dispensed',\n",
       "       'tone_stop_frame', 'condition', 'competition_closeness',\n",
       "       'get_reward_frame', 'out_reward_frame', 'notes', 'experiment',\n",
       "       'box_1_port_entry_frames', 'box_2_port_entry_frames', 'video_name',\n",
       "       'all_subjects', 'first_timestamp', 'last_timestamp',\n",
       "       'tone_start_timestamp', 'tone_stop_timestamp',\n",
       "       'box_1_port_entry_timestamps', 'box_2_port_entry_timestamps'],\n",
       "      dtype='object')"
      ]
     },
     "execution_count": 29,
     "metadata": {},
     "output_type": "execute_result"
    }
   ],
   "source": [
    "TRIAL_LABELS_DF.columns"
   ]
  },
  {
   "cell_type": "markdown",
   "metadata": {},
   "source": [
    "## Merging the labels and LFP spectral"
   ]
  },
  {
   "cell_type": "code",
   "execution_count": 30,
   "metadata": {
    "tags": []
   },
   "outputs": [
    {
     "data": {
      "text/html": [
       "<div>\n",
       "<style scoped>\n",
       "    .dataframe tbody tr th:only-of-type {\n",
       "        vertical-align: middle;\n",
       "    }\n",
       "\n",
       "    .dataframe tbody tr th {\n",
       "        vertical-align: top;\n",
       "    }\n",
       "\n",
       "    .dataframe thead th {\n",
       "        text-align: right;\n",
       "    }\n",
       "</style>\n",
       "<table border=\"1\" class=\"dataframe\">\n",
       "  <thead>\n",
       "    <tr style=\"text-align: right;\">\n",
       "      <th></th>\n",
       "      <th>session_dir</th>\n",
       "      <th>tone_start_frame</th>\n",
       "      <th>reward_start</th>\n",
       "      <th>reward_dispensed</th>\n",
       "      <th>tone_stop_frame</th>\n",
       "      <th>condition</th>\n",
       "      <th>competition_closeness</th>\n",
       "      <th>get_reward_frame</th>\n",
       "      <th>out_reward_frame</th>\n",
       "      <th>notes</th>\n",
       "      <th>...</th>\n",
       "      <th>box_1_port_entry_frames</th>\n",
       "      <th>box_2_port_entry_frames</th>\n",
       "      <th>video_name</th>\n",
       "      <th>all_subjects</th>\n",
       "      <th>first_timestamp</th>\n",
       "      <th>last_timestamp</th>\n",
       "      <th>tone_start_timestamp</th>\n",
       "      <th>tone_stop_timestamp</th>\n",
       "      <th>box_1_port_entry_timestamps</th>\n",
       "      <th>box_2_port_entry_timestamps</th>\n",
       "    </tr>\n",
       "  </thead>\n",
       "  <tbody>\n",
       "    <tr>\n",
       "      <th>0</th>\n",
       "      <td>20240317_151922_long_comp_subj_3-1_and_3-3</td>\n",
       "      <td>1</td>\n",
       "      <td>81</td>\n",
       "      <td>101</td>\n",
       "      <td>88</td>\n",
       "      <td>NaN</td>\n",
       "      <td>NaN</td>\n",
       "      <td>NaN</td>\n",
       "      <td>NaN</td>\n",
       "      <td>NaN</td>\n",
       "      <td>...</td>\n",
       "      <td>[ 1 88]</td>\n",
       "      <td>NaN</td>\n",
       "      <td>20240317_151922_long_comp_subj_3-1_and_3-3.1.v...</td>\n",
       "      <td>['3.1', '3.3']</td>\n",
       "      <td>2415571</td>\n",
       "      <td>48236575</td>\n",
       "      <td>0</td>\n",
       "      <td>87540</td>\n",
       "      <td>[    0 87540]</td>\n",
       "      <td>NaN</td>\n",
       "    </tr>\n",
       "    <tr>\n",
       "      <th>1</th>\n",
       "      <td>20240317_151922_long_comp_subj_3-1_and_3-3</td>\n",
       "      <td>1286</td>\n",
       "      <td>1366</td>\n",
       "      <td>1386</td>\n",
       "      <td>1486</td>\n",
       "      <td>3.3</td>\n",
       "      <td>Subj 2 then Subj 1</td>\n",
       "      <td>NaN</td>\n",
       "      <td>NaN</td>\n",
       "      <td>NaN</td>\n",
       "      <td>...</td>\n",
       "      <td>[1300 1315] [1371 1380] [1420 1513]</td>\n",
       "      <td>NaN</td>\n",
       "      <td>20240317_151922_long_comp_subj_3-1_and_3-3.1.v...</td>\n",
       "      <td>['3.1', '3.3']</td>\n",
       "      <td>2415571</td>\n",
       "      <td>48236575</td>\n",
       "      <td>1287955</td>\n",
       "      <td>1487958</td>\n",
       "      <td>[1301956 1317753] [1373156 1382756] [1422554 1...</td>\n",
       "      <td>NaN</td>\n",
       "    </tr>\n",
       "    <tr>\n",
       "      <th>2</th>\n",
       "      <td>20240317_151922_long_comp_subj_3-1_and_3-3</td>\n",
       "      <td>3282</td>\n",
       "      <td>3362</td>\n",
       "      <td>3382</td>\n",
       "      <td>3482</td>\n",
       "      <td>3.1</td>\n",
       "      <td>Subj 1 Only</td>\n",
       "      <td>NaN</td>\n",
       "      <td>NaN</td>\n",
       "      <td>NaN</td>\n",
       "      <td>...</td>\n",
       "      <td>[3277 3298] [3310 3356] [3357 3368] [3377 3378...</td>\n",
       "      <td>NaN</td>\n",
       "      <td>20240317_151922_long_comp_subj_3-1_and_3-3.1.v...</td>\n",
       "      <td>['3.1', '3.3']</td>\n",
       "      <td>2415571</td>\n",
       "      <td>48236575</td>\n",
       "      <td>3287980</td>\n",
       "      <td>3487980</td>\n",
       "      <td>[3281780 3302780] [3315978 3361781] [3362381 3...</td>\n",
       "      <td>NaN</td>\n",
       "    </tr>\n",
       "    <tr>\n",
       "      <th>3</th>\n",
       "      <td>20240317_151922_long_comp_subj_3-1_and_3-3</td>\n",
       "      <td>4480</td>\n",
       "      <td>4560</td>\n",
       "      <td>4580</td>\n",
       "      <td>4679</td>\n",
       "      <td>3.1</td>\n",
       "      <td>Subj 1 Only</td>\n",
       "      <td>NaN</td>\n",
       "      <td>NaN</td>\n",
       "      <td>3.3 walk towards the reward port, and then wal...</td>\n",
       "      <td>...</td>\n",
       "      <td>[4383 4502] [4527 4851]</td>\n",
       "      <td>NaN</td>\n",
       "      <td>20240317_151922_long_comp_subj_3-1_and_3-3.1.v...</td>\n",
       "      <td>['3.1', '3.3']</td>\n",
       "      <td>2415571</td>\n",
       "      <td>48236575</td>\n",
       "      <td>4487995</td>\n",
       "      <td>4687995</td>\n",
       "      <td>[4390791 4509995] [4535398 4859200]</td>\n",
       "      <td>NaN</td>\n",
       "    </tr>\n",
       "    <tr>\n",
       "      <th>4</th>\n",
       "      <td>20240317_151922_long_comp_subj_3-1_and_3-3</td>\n",
       "      <td>5478</td>\n",
       "      <td>5558</td>\n",
       "      <td>5578</td>\n",
       "      <td>5678</td>\n",
       "      <td>3.1</td>\n",
       "      <td>Subj 1 blocking Subj 2</td>\n",
       "      <td>NaN</td>\n",
       "      <td>NaN</td>\n",
       "      <td>3.1 blocked 3.3 from approaching at frame 5574</td>\n",
       "      <td>...</td>\n",
       "      <td>[5588 5778]</td>\n",
       "      <td>NaN</td>\n",
       "      <td>20240317_151922_long_comp_subj_3-1_and_3-3.1.v...</td>\n",
       "      <td>['3.1', '3.3']</td>\n",
       "      <td>2415571</td>\n",
       "      <td>48236575</td>\n",
       "      <td>5488007</td>\n",
       "      <td>5688010</td>\n",
       "      <td>[5597806 5788609]</td>\n",
       "      <td>NaN</td>\n",
       "    </tr>\n",
       "  </tbody>\n",
       "</table>\n",
       "<p>5 rows × 21 columns</p>\n",
       "</div>"
      ],
      "text/plain": [
       "                                  session_dir  tone_start_frame  reward_start  \\\n",
       "0  20240317_151922_long_comp_subj_3-1_and_3-3                 1            81   \n",
       "1  20240317_151922_long_comp_subj_3-1_and_3-3              1286          1366   \n",
       "2  20240317_151922_long_comp_subj_3-1_and_3-3              3282          3362   \n",
       "3  20240317_151922_long_comp_subj_3-1_and_3-3              4480          4560   \n",
       "4  20240317_151922_long_comp_subj_3-1_and_3-3              5478          5558   \n",
       "\n",
       "   reward_dispensed  tone_stop_frame condition   competition_closeness  \\\n",
       "0               101               88       NaN                     NaN   \n",
       "1              1386             1486       3.3      Subj 2 then Subj 1   \n",
       "2              3382             3482       3.1             Subj 1 Only   \n",
       "3              4580             4679       3.1             Subj 1 Only   \n",
       "4              5578             5678       3.1  Subj 1 blocking Subj 2   \n",
       "\n",
       "   get_reward_frame  out_reward_frame  \\\n",
       "0               NaN               NaN   \n",
       "1               NaN               NaN   \n",
       "2               NaN               NaN   \n",
       "3               NaN               NaN   \n",
       "4               NaN               NaN   \n",
       "\n",
       "                                               notes  ...  \\\n",
       "0                                                NaN  ...   \n",
       "1                                                NaN  ...   \n",
       "2                                                NaN  ...   \n",
       "3  3.3 walk towards the reward port, and then wal...  ...   \n",
       "4     3.1 blocked 3.3 from approaching at frame 5574  ...   \n",
       "\n",
       "                             box_1_port_entry_frames box_2_port_entry_frames  \\\n",
       "0                                            [ 1 88]                     NaN   \n",
       "1                [1300 1315] [1371 1380] [1420 1513]                     NaN   \n",
       "2  [3277 3298] [3310 3356] [3357 3368] [3377 3378...                     NaN   \n",
       "3                            [4383 4502] [4527 4851]                     NaN   \n",
       "4                                        [5588 5778]                     NaN   \n",
       "\n",
       "                                          video_name    all_subjects  \\\n",
       "0  20240317_151922_long_comp_subj_3-1_and_3-3.1.v...  ['3.1', '3.3']   \n",
       "1  20240317_151922_long_comp_subj_3-1_and_3-3.1.v...  ['3.1', '3.3']   \n",
       "2  20240317_151922_long_comp_subj_3-1_and_3-3.1.v...  ['3.1', '3.3']   \n",
       "3  20240317_151922_long_comp_subj_3-1_and_3-3.1.v...  ['3.1', '3.3']   \n",
       "4  20240317_151922_long_comp_subj_3-1_and_3-3.1.v...  ['3.1', '3.3']   \n",
       "\n",
       "  first_timestamp  last_timestamp  tone_start_timestamp  tone_stop_timestamp  \\\n",
       "0         2415571        48236575                     0                87540   \n",
       "1         2415571        48236575               1287955              1487958   \n",
       "2         2415571        48236575               3287980              3487980   \n",
       "3         2415571        48236575               4487995              4687995   \n",
       "4         2415571        48236575               5488007              5688010   \n",
       "\n",
       "                         box_1_port_entry_timestamps  \\\n",
       "0                                      [    0 87540]   \n",
       "1  [1301956 1317753] [1373156 1382756] [1422554 1...   \n",
       "2  [3281780 3302780] [3315978 3361781] [3362381 3...   \n",
       "3                [4390791 4509995] [4535398 4859200]   \n",
       "4                                  [5597806 5788609]   \n",
       "\n",
       "  box_2_port_entry_timestamps  \n",
       "0                         NaN  \n",
       "1                         NaN  \n",
       "2                         NaN  \n",
       "3                         NaN  \n",
       "4                         NaN  \n",
       "\n",
       "[5 rows x 21 columns]"
      ]
     },
     "execution_count": 30,
     "metadata": {},
     "output_type": "execute_result"
    }
   ],
   "source": [
    "TRIAL_LABELS_DF.head()"
   ]
  },
  {
   "cell_type": "code",
   "execution_count": 31,
   "metadata": {
    "tags": []
   },
   "outputs": [
    {
     "data": {
      "text/html": [
       "<div>\n",
       "<style scoped>\n",
       "    .dataframe tbody tr th:only-of-type {\n",
       "        vertical-align: middle;\n",
       "    }\n",
       "\n",
       "    .dataframe tbody tr th {\n",
       "        vertical-align: top;\n",
       "    }\n",
       "\n",
       "    .dataframe thead th {\n",
       "        text-align: right;\n",
       "    }\n",
       "</style>\n",
       "<table border=\"1\" class=\"dataframe\">\n",
       "  <thead>\n",
       "    <tr style=\"text-align: right;\">\n",
       "      <th></th>\n",
       "      <th>cohort</th>\n",
       "      <th>session_dir</th>\n",
       "      <th>tone_frames</th>\n",
       "      <th>box_1_port_entry_frames</th>\n",
       "      <th>box_2_port_entry_frames</th>\n",
       "      <th>video_name</th>\n",
       "      <th>notes</th>\n",
       "      <th>session_path</th>\n",
       "      <th>recording</th>\n",
       "      <th>current_subject</th>\n",
       "      <th>...</th>\n",
       "      <th>box_top_right</th>\n",
       "      <th>box_bottom_left</th>\n",
       "      <th>agent</th>\n",
       "      <th>subject_locations</th>\n",
       "      <th>frame_index</th>\n",
       "      <th>agent_locations</th>\n",
       "      <th>subject_thorax_velocity</th>\n",
       "      <th>agent_thorax_velocity</th>\n",
       "      <th>subject_thorax_to_reward_port</th>\n",
       "      <th>agent_thorax_to_reward_port</th>\n",
       "    </tr>\n",
       "  </thead>\n",
       "  <tbody>\n",
       "    <tr>\n",
       "      <th>0</th>\n",
       "      <td>rce_pilot_3</td>\n",
       "      <td>20240317_151922_long_comp_subj_3-1_and_3-3</td>\n",
       "      <td>[[1, 88], [1286, 1486], [3282, 3482], [4480, 4...</td>\n",
       "      <td>[[1, 88], [259, 278], [310, 365], [366, 382], ...</td>\n",
       "      <td>[]</td>\n",
       "      <td>20240317_151922_long_comp_subj_3-1_and_3-3.1</td>\n",
       "      <td>NaN</td>\n",
       "      <td>/scratch/back_up/reward_competition_extention/...</td>\n",
       "      <td>20240317_151922_long_comp_subj_3-1_t6b6_merged</td>\n",
       "      <td>3.1</td>\n",
       "      <td>...</td>\n",
       "      <td>[73.57122102264293, 11.423230211638582]</td>\n",
       "      <td>[45.03093731344292, 35.761309141917415]</td>\n",
       "      <td>3.3</td>\n",
       "      <td>[[[58.961398589179765, 35.28935156776581], [57...</td>\n",
       "      <td>[1, 2, 3, 4, 5, 6, 7, 8, 9, 10, 11, 12, 13, 14...</td>\n",
       "      <td>[[[51.049592291310574, 19.27532173433335], [54...</td>\n",
       "      <td>[3.035, 2.855, 2.68, 2.512, 2.348, 2.19, 2.037...</td>\n",
       "      <td>[12.37, 11.99, 11.65, 11.336, 11.06, 10.81, 10...</td>\n",
       "      <td>[7.453, 7.25, 7.273, 7.062, 6.88, 6.617, 5.965...</td>\n",
       "      <td>[19.94, 20.16, 20.45, 20.8, 21.0, 20.98, 21.03...</td>\n",
       "    </tr>\n",
       "    <tr>\n",
       "      <th>1</th>\n",
       "      <td>rce_pilot_3</td>\n",
       "      <td>20240317_151922_long_comp_subj_3-1_and_3-3</td>\n",
       "      <td>[[1, 88], [1286, 1486], [3282, 3482], [4480, 4...</td>\n",
       "      <td>[[1, 88], [259, 278], [310, 365], [366, 382], ...</td>\n",
       "      <td>[]</td>\n",
       "      <td>20240317_151922_long_comp_subj_3-1_and_3-3.1</td>\n",
       "      <td>NaN</td>\n",
       "      <td>/scratch/back_up/reward_competition_extention/...</td>\n",
       "      <td>20240317_151922_long_comp_subj_3-3_t5b5_merged</td>\n",
       "      <td>3.3</td>\n",
       "      <td>...</td>\n",
       "      <td>[73.57122102264293, 11.423230211638582]</td>\n",
       "      <td>[45.03093731344292, 35.761309141917415]</td>\n",
       "      <td>3.1</td>\n",
       "      <td>[[[51.049592291310574, 19.27532173433335], [54...</td>\n",
       "      <td>[1, 2, 3, 4, 5, 6, 7, 8, 9, 10, 11, 12, 13, 14...</td>\n",
       "      <td>[[[58.961398589179765, 35.28935156776581], [57...</td>\n",
       "      <td>[12.37, 11.99, 11.65, 11.336, 11.06, 10.81, 10...</td>\n",
       "      <td>[3.035, 2.855, 2.68, 2.512, 2.348, 2.19, 2.037...</td>\n",
       "      <td>[19.94, 20.16, 20.45, 20.8, 21.0, 20.98, 21.03...</td>\n",
       "      <td>[7.453, 7.25, 7.273, 7.062, 6.88, 6.617, 5.965...</td>\n",
       "    </tr>\n",
       "    <tr>\n",
       "      <th>2</th>\n",
       "      <td>rce_pilot_3</td>\n",
       "      <td>20240317_172017_long_comp_subj_4-2_and_4-3</td>\n",
       "      <td>[[1, 102], [1300, 1501], [3297, 3497], [4494, ...</td>\n",
       "      <td>[[1, 102], [115, 153], [191, 245], [261, 263],...</td>\n",
       "      <td>[]</td>\n",
       "      <td>20240317_172017_long_comp_subj_4-2_and_4-3.1</td>\n",
       "      <td>NaN</td>\n",
       "      <td>/scratch/back_up/reward_competition_extention/...</td>\n",
       "      <td>20240317_172017_long_comp_subj_4-2_t6b6_merged</td>\n",
       "      <td>4.2</td>\n",
       "      <td>...</td>\n",
       "      <td>[73.77902458765409, 9.138890215293802]</td>\n",
       "      <td>[45.35645871188365, 33.78665543178387]</td>\n",
       "      <td>4.3</td>\n",
       "      <td>[[[62.54046053502408, 34.646917855927946], [59...</td>\n",
       "      <td>[1, 2, 3, 4, 5, 6, 7, 8, 9, 10, 11, 12, 13, 14...</td>\n",
       "      <td>[[[59.070922225644495, 9.032051361034663], [61...</td>\n",
       "      <td>[1.537, 1.132, 0.8584, 0.811, 0.987, 1.272, 1....</td>\n",
       "      <td>[15.766, 15.34, 15.016, 14.79, 14.66, 14.59, 1...</td>\n",
       "      <td>[5.25, 5.43, 5.523, 5.566, 5.547, 5.46, 5.258,...</td>\n",
       "      <td>[26.3, 26.12, 26.12, 26.12, 26.14, 26.17, 26.2...</td>\n",
       "    </tr>\n",
       "    <tr>\n",
       "      <th>3</th>\n",
       "      <td>rce_pilot_3</td>\n",
       "      <td>20240317_172017_long_comp_subj_4-2_and_4-3</td>\n",
       "      <td>[[1, 102], [1300, 1501], [3297, 3497], [4494, ...</td>\n",
       "      <td>[[1, 102], [115, 153], [191, 245], [261, 263],...</td>\n",
       "      <td>[]</td>\n",
       "      <td>20240317_172017_long_comp_subj_4-2_and_4-3.1</td>\n",
       "      <td>NaN</td>\n",
       "      <td>/scratch/back_up/reward_competition_extention/...</td>\n",
       "      <td>20240317_172017_long_comp_subj_4-3_t5b5_merged</td>\n",
       "      <td>4.3</td>\n",
       "      <td>...</td>\n",
       "      <td>[73.77902458765409, 9.138890215293802]</td>\n",
       "      <td>[45.35645871188365, 33.78665543178387]</td>\n",
       "      <td>4.2</td>\n",
       "      <td>[[[59.070922225644495, 9.032051361034663], [61...</td>\n",
       "      <td>[1, 2, 3, 4, 5, 6, 7, 8, 9, 10, 11, 12, 13, 14...</td>\n",
       "      <td>[[[62.54046053502408, 34.646917855927946], [59...</td>\n",
       "      <td>[15.766, 15.34, 15.016, 14.79, 14.66, 14.59, 1...</td>\n",
       "      <td>[1.537, 1.132, 0.8584, 0.811, 0.987, 1.272, 1....</td>\n",
       "      <td>[26.3, 26.12, 26.12, 26.12, 26.14, 26.17, 26.2...</td>\n",
       "      <td>[5.25, 5.43, 5.523, 5.566, 5.547, 5.46, 5.258,...</td>\n",
       "    </tr>\n",
       "    <tr>\n",
       "      <th>4</th>\n",
       "      <td>rce_pilot_3</td>\n",
       "      <td>20240318_143819_long_comp_subj_3-3_and_3-4</td>\n",
       "      <td>[[1, 125], [1334, 1533], [3330, 3529], [4528, ...</td>\n",
       "      <td>[[1, 125], [125, 181], [369, 401], [403, 446],...</td>\n",
       "      <td>[]</td>\n",
       "      <td>20240318_143819_long_comp_subj_3-3_and_3-4.1</td>\n",
       "      <td>NaN</td>\n",
       "      <td>/scratch/back_up/reward_competition_extention/...</td>\n",
       "      <td>20240318_143819_long_comp_subj_3-3_t6b6_merged</td>\n",
       "      <td>3.3</td>\n",
       "      <td>...</td>\n",
       "      <td>[74.70618240859957, 10.259858561906261]</td>\n",
       "      <td>[45.51706003228968, 34.29512637682901]</td>\n",
       "      <td>3.4</td>\n",
       "      <td>[[[76.32303058013719, 9.877634998966064], [79....</td>\n",
       "      <td>[1, 2, 3, 4, 5, 6, 7, 8, 9, 10, 11, 12, 13, 14...</td>\n",
       "      <td>[[[41.7841383440293, 12.629758340372002], [42....</td>\n",
       "      <td>[5.914, 5.984, 6.203, 6.54, 6.96, 7.438, 7.945...</td>\n",
       "      <td>[12.93, 12.14, 11.37, 10.62, 9.89, 9.19, 8.5, ...</td>\n",
       "      <td>[28.47, 28.61, 28.23, 28.73, 27.81, 27.25, 27....</td>\n",
       "      <td>[29.33, 10.49, 9.336, 9.17, 9.24, 9.16, 8.7, 8...</td>\n",
       "    </tr>\n",
       "  </tbody>\n",
       "</table>\n",
       "<p>5 rows × 49 columns</p>\n",
       "</div>"
      ],
      "text/plain": [
       "        cohort                                 session_dir  \\\n",
       "0  rce_pilot_3  20240317_151922_long_comp_subj_3-1_and_3-3   \n",
       "1  rce_pilot_3  20240317_151922_long_comp_subj_3-1_and_3-3   \n",
       "2  rce_pilot_3  20240317_172017_long_comp_subj_4-2_and_4-3   \n",
       "3  rce_pilot_3  20240317_172017_long_comp_subj_4-2_and_4-3   \n",
       "4  rce_pilot_3  20240318_143819_long_comp_subj_3-3_and_3-4   \n",
       "\n",
       "                                         tone_frames  \\\n",
       "0  [[1, 88], [1286, 1486], [3282, 3482], [4480, 4...   \n",
       "1  [[1, 88], [1286, 1486], [3282, 3482], [4480, 4...   \n",
       "2  [[1, 102], [1300, 1501], [3297, 3497], [4494, ...   \n",
       "3  [[1, 102], [1300, 1501], [3297, 3497], [4494, ...   \n",
       "4  [[1, 125], [1334, 1533], [3330, 3529], [4528, ...   \n",
       "\n",
       "                             box_1_port_entry_frames box_2_port_entry_frames  \\\n",
       "0  [[1, 88], [259, 278], [310, 365], [366, 382], ...                      []   \n",
       "1  [[1, 88], [259, 278], [310, 365], [366, 382], ...                      []   \n",
       "2  [[1, 102], [115, 153], [191, 245], [261, 263],...                      []   \n",
       "3  [[1, 102], [115, 153], [191, 245], [261, 263],...                      []   \n",
       "4  [[1, 125], [125, 181], [369, 401], [403, 446],...                      []   \n",
       "\n",
       "                                     video_name notes  \\\n",
       "0  20240317_151922_long_comp_subj_3-1_and_3-3.1   NaN   \n",
       "1  20240317_151922_long_comp_subj_3-1_and_3-3.1   NaN   \n",
       "2  20240317_172017_long_comp_subj_4-2_and_4-3.1   NaN   \n",
       "3  20240317_172017_long_comp_subj_4-2_and_4-3.1   NaN   \n",
       "4  20240318_143819_long_comp_subj_3-3_and_3-4.1   NaN   \n",
       "\n",
       "                                        session_path  \\\n",
       "0  /scratch/back_up/reward_competition_extention/...   \n",
       "1  /scratch/back_up/reward_competition_extention/...   \n",
       "2  /scratch/back_up/reward_competition_extention/...   \n",
       "3  /scratch/back_up/reward_competition_extention/...   \n",
       "4  /scratch/back_up/reward_competition_extention/...   \n",
       "\n",
       "                                        recording current_subject  ...  \\\n",
       "0  20240317_151922_long_comp_subj_3-1_t6b6_merged             3.1  ...   \n",
       "1  20240317_151922_long_comp_subj_3-3_t5b5_merged             3.3  ...   \n",
       "2  20240317_172017_long_comp_subj_4-2_t6b6_merged             4.2  ...   \n",
       "3  20240317_172017_long_comp_subj_4-3_t5b5_merged             4.3  ...   \n",
       "4  20240318_143819_long_comp_subj_3-3_t6b6_merged             3.3  ...   \n",
       "\n",
       "                             box_top_right  \\\n",
       "0  [73.57122102264293, 11.423230211638582]   \n",
       "1  [73.57122102264293, 11.423230211638582]   \n",
       "2   [73.77902458765409, 9.138890215293802]   \n",
       "3   [73.77902458765409, 9.138890215293802]   \n",
       "4  [74.70618240859957, 10.259858561906261]   \n",
       "\n",
       "                           box_bottom_left  agent  \\\n",
       "0  [45.03093731344292, 35.761309141917415]    3.3   \n",
       "1  [45.03093731344292, 35.761309141917415]    3.1   \n",
       "2   [45.35645871188365, 33.78665543178387]    4.3   \n",
       "3   [45.35645871188365, 33.78665543178387]    4.2   \n",
       "4   [45.51706003228968, 34.29512637682901]    3.4   \n",
       "\n",
       "                                   subject_locations  \\\n",
       "0  [[[58.961398589179765, 35.28935156776581], [57...   \n",
       "1  [[[51.049592291310574, 19.27532173433335], [54...   \n",
       "2  [[[62.54046053502408, 34.646917855927946], [59...   \n",
       "3  [[[59.070922225644495, 9.032051361034663], [61...   \n",
       "4  [[[76.32303058013719, 9.877634998966064], [79....   \n",
       "\n",
       "                                         frame_index  \\\n",
       "0  [1, 2, 3, 4, 5, 6, 7, 8, 9, 10, 11, 12, 13, 14...   \n",
       "1  [1, 2, 3, 4, 5, 6, 7, 8, 9, 10, 11, 12, 13, 14...   \n",
       "2  [1, 2, 3, 4, 5, 6, 7, 8, 9, 10, 11, 12, 13, 14...   \n",
       "3  [1, 2, 3, 4, 5, 6, 7, 8, 9, 10, 11, 12, 13, 14...   \n",
       "4  [1, 2, 3, 4, 5, 6, 7, 8, 9, 10, 11, 12, 13, 14...   \n",
       "\n",
       "                                     agent_locations  \\\n",
       "0  [[[51.049592291310574, 19.27532173433335], [54...   \n",
       "1  [[[58.961398589179765, 35.28935156776581], [57...   \n",
       "2  [[[59.070922225644495, 9.032051361034663], [61...   \n",
       "3  [[[62.54046053502408, 34.646917855927946], [59...   \n",
       "4  [[[41.7841383440293, 12.629758340372002], [42....   \n",
       "\n",
       "                             subject_thorax_velocity  \\\n",
       "0  [3.035, 2.855, 2.68, 2.512, 2.348, 2.19, 2.037...   \n",
       "1  [12.37, 11.99, 11.65, 11.336, 11.06, 10.81, 10...   \n",
       "2  [1.537, 1.132, 0.8584, 0.811, 0.987, 1.272, 1....   \n",
       "3  [15.766, 15.34, 15.016, 14.79, 14.66, 14.59, 1...   \n",
       "4  [5.914, 5.984, 6.203, 6.54, 6.96, 7.438, 7.945...   \n",
       "\n",
       "                               agent_thorax_velocity  \\\n",
       "0  [12.37, 11.99, 11.65, 11.336, 11.06, 10.81, 10...   \n",
       "1  [3.035, 2.855, 2.68, 2.512, 2.348, 2.19, 2.037...   \n",
       "2  [15.766, 15.34, 15.016, 14.79, 14.66, 14.59, 1...   \n",
       "3  [1.537, 1.132, 0.8584, 0.811, 0.987, 1.272, 1....   \n",
       "4  [12.93, 12.14, 11.37, 10.62, 9.89, 9.19, 8.5, ...   \n",
       "\n",
       "                       subject_thorax_to_reward_port  \\\n",
       "0  [7.453, 7.25, 7.273, 7.062, 6.88, 6.617, 5.965...   \n",
       "1  [19.94, 20.16, 20.45, 20.8, 21.0, 20.98, 21.03...   \n",
       "2  [5.25, 5.43, 5.523, 5.566, 5.547, 5.46, 5.258,...   \n",
       "3  [26.3, 26.12, 26.12, 26.12, 26.14, 26.17, 26.2...   \n",
       "4  [28.47, 28.61, 28.23, 28.73, 27.81, 27.25, 27....   \n",
       "\n",
       "                         agent_thorax_to_reward_port  \n",
       "0  [19.94, 20.16, 20.45, 20.8, 21.0, 20.98, 21.03...  \n",
       "1  [7.453, 7.25, 7.273, 7.062, 6.88, 6.617, 5.965...  \n",
       "2  [26.3, 26.12, 26.12, 26.12, 26.14, 26.17, 26.2...  \n",
       "3  [5.25, 5.43, 5.523, 5.566, 5.547, 5.46, 5.258,...  \n",
       "4  [29.33, 10.49, 9.336, 9.17, 9.24, 9.16, 8.7, 8...  \n",
       "\n",
       "[5 rows x 49 columns]"
      ]
     },
     "execution_count": 31,
     "metadata": {},
     "output_type": "execute_result"
    }
   ],
   "source": [
    "LFP_SPECTRAL_DF.head()"
   ]
  },
  {
   "cell_type": "markdown",
   "metadata": {},
   "source": [
    "# Dropping redundant columns"
   ]
  },
  {
   "cell_type": "code",
   "execution_count": 32,
   "metadata": {
    "tags": []
   },
   "outputs": [],
   "source": [
    "dropping_columns = list(set(TRIAL_LABELS_DF.columns).intersection(set(LFP_SPECTRAL_DF.columns)))"
   ]
  },
  {
   "cell_type": "code",
   "execution_count": 33,
   "metadata": {
    "tags": []
   },
   "outputs": [
    {
     "data": {
      "text/plain": [
       "['notes',\n",
       " 'last_timestamp',\n",
       " 'video_name',\n",
       " 'box_1_port_entry_timestamps',\n",
       " 'session_dir',\n",
       " 'box_2_port_entry_timestamps',\n",
       " 'all_subjects',\n",
       " 'box_2_port_entry_frames',\n",
       " 'first_timestamp',\n",
       " 'box_1_port_entry_frames']"
      ]
     },
     "execution_count": 33,
     "metadata": {},
     "output_type": "execute_result"
    }
   ],
   "source": [
    "dropping_columns"
   ]
  },
  {
   "cell_type": "code",
   "execution_count": 34,
   "metadata": {},
   "outputs": [],
   "source": [
    "TRIAL_LABELS_DF = TRIAL_LABELS_DF.drop(columns=[col for col in dropping_columns if col != \"video_name\"], errors=\"ignore\")"
   ]
  },
  {
   "cell_type": "markdown",
   "metadata": {},
   "source": [
    "## Merging the LFP and trial dataframe"
   ]
  },
  {
   "cell_type": "code",
   "execution_count": 35,
   "metadata": {
    "tags": []
   },
   "outputs": [],
   "source": [
    "LFP_SPECTRAL_DF[\"video_name\"] = LFP_SPECTRAL_DF[\"video_name\"].apply(lambda x: x.strip(\".videoTimeStamps.cameraHWSync\"))"
   ]
  },
  {
   "cell_type": "code",
   "execution_count": 36,
   "metadata": {},
   "outputs": [
    {
     "data": {
      "text/plain": [
       "array(['20240317_151922_long_comp_subj_3-1_and_3-3.1',\n",
       "       '20240317_172017_long_comp_subj_4-2_and_4-3.1',\n",
       "       '20240318_143819_long_comp_subj_3-3_and_3-4.1',\n",
       "       '20240318_170933_long_comp_subj_4-3_and_4-4.1',\n",
       "       '20240319_134914_long_comp_subj_3-1_and_3-4.1',\n",
       "       '20240319_160457_long_comp_subj_4-2_and_4-4.1',\n",
       "       '20240320_114629_long_comp_subj_5-3_and_5-4.1',\n",
       "       '20240321_114851_long_comp_subj_5-2_and_5-3.1'], dtype=object)"
      ]
     },
     "execution_count": 36,
     "metadata": {},
     "output_type": "execute_result"
    }
   ],
   "source": [
    "LFP_SPECTRAL_DF[\"video_name\"].unique()"
   ]
  },
  {
   "cell_type": "code",
   "execution_count": 37,
   "metadata": {
    "tags": []
   },
   "outputs": [],
   "source": [
    "LFP_SPECTRAL_DF[\"current_subject\"] = LFP_SPECTRAL_DF[\"current_subject\"].astype(str)\n"
   ]
  },
  {
   "cell_type": "code",
   "execution_count": 38,
   "metadata": {},
   "outputs": [
    {
     "data": {
      "text/plain": [
       "0    3.1\n",
       "1    3.3\n",
       "2    4.2\n",
       "3    4.3\n",
       "4    3.3\n",
       "Name: current_subject, dtype: object"
      ]
     },
     "execution_count": 38,
     "metadata": {},
     "output_type": "execute_result"
    }
   ],
   "source": [
    "LFP_SPECTRAL_DF[\"current_subject\"].head()"
   ]
  },
  {
   "cell_type": "code",
   "execution_count": 39,
   "metadata": {
    "tags": []
   },
   "outputs": [],
   "source": [
    "TRIAL_LABELS_DF = TRIAL_LABELS_DF.dropna(subset=[\"video_name\"])"
   ]
  },
  {
   "cell_type": "code",
   "execution_count": 40,
   "metadata": {
    "tags": []
   },
   "outputs": [],
   "source": [
    "TRIAL_LABELS_DF = TRIAL_LABELS_DF.dropna(subset=[\"condition\"])"
   ]
  },
  {
   "cell_type": "code",
   "execution_count": 41,
   "metadata": {
    "tags": []
   },
   "outputs": [],
   "source": [
    "TRIAL_LABELS_DF[\"video_name\"] = TRIAL_LABELS_DF[\"video_name\"].apply(lambda x: x.strip(\".videoTimeStamps.cameraHWSync\"))\n"
   ]
  },
  {
   "cell_type": "code",
   "execution_count": 42,
   "metadata": {
    "tags": []
   },
   "outputs": [
    {
     "data": {
      "text/plain": [
       "array(['20240317_151922_long_comp_subj_3-1_and_3-3.1',\n",
       "       '20240317_172017_long_comp_subj_4-2_and_4-3.1',\n",
       "       '20240318_143819_long_comp_subj_3-3_and_3-4.1',\n",
       "       '20240318_170933_long_comp_subj_4-3_and_4-4.1',\n",
       "       '20240319_134914_long_comp_subj_3-1_and_3-4.1',\n",
       "       '20240319_160457_long_comp_subj_4-2_and_4-4.1',\n",
       "       '20240320_114629_long_comp_subj_5-3_and_5-4.1',\n",
       "       '20240321_114851_long_comp_subj_5-2_and_5-3.1'], dtype=object)"
      ]
     },
     "execution_count": 42,
     "metadata": {},
     "output_type": "execute_result"
    }
   ],
   "source": [
    "TRIAL_LABELS_DF[\"video_name\"].unique()"
   ]
  },
  {
   "cell_type": "code",
   "execution_count": 43,
   "metadata": {
    "tags": []
   },
   "outputs": [],
   "source": [
    "TRIALS_AND_SPECTRAL_DF = pd.merge(TRIAL_LABELS_DF, LFP_SPECTRAL_DF, on=[\"video_name\"], how=\"inner\", suffixes=('', '_remove'))"
   ]
  },
  {
   "cell_type": "code",
   "execution_count": 44,
   "metadata": {
    "tags": []
   },
   "outputs": [
    {
     "data": {
      "text/html": [
       "<div>\n",
       "<style scoped>\n",
       "    .dataframe tbody tr th:only-of-type {\n",
       "        vertical-align: middle;\n",
       "    }\n",
       "\n",
       "    .dataframe tbody tr th {\n",
       "        vertical-align: top;\n",
       "    }\n",
       "\n",
       "    .dataframe thead th {\n",
       "        text-align: right;\n",
       "    }\n",
       "</style>\n",
       "<table border=\"1\" class=\"dataframe\">\n",
       "  <thead>\n",
       "    <tr style=\"text-align: right;\">\n",
       "      <th></th>\n",
       "    </tr>\n",
       "  </thead>\n",
       "  <tbody>\n",
       "    <tr>\n",
       "      <th>0</th>\n",
       "    </tr>\n",
       "    <tr>\n",
       "      <th>1</th>\n",
       "    </tr>\n",
       "    <tr>\n",
       "      <th>2</th>\n",
       "    </tr>\n",
       "    <tr>\n",
       "      <th>3</th>\n",
       "    </tr>\n",
       "    <tr>\n",
       "      <th>4</th>\n",
       "    </tr>\n",
       "  </tbody>\n",
       "</table>\n",
       "</div>"
      ],
      "text/plain": [
       "Empty DataFrame\n",
       "Columns: []\n",
       "Index: [0, 1, 2, 3, 4]"
      ]
     },
     "execution_count": 44,
     "metadata": {},
     "output_type": "execute_result"
    }
   ],
   "source": [
    "TRIALS_AND_SPECTRAL_DF[[col for col in TRIALS_AND_SPECTRAL_DF if \"_remove\" in col]].head()"
   ]
  },
  {
   "cell_type": "code",
   "execution_count": 45,
   "metadata": {
    "tags": []
   },
   "outputs": [],
   "source": [
    "TRIALS_AND_SPECTRAL_DF = TRIALS_AND_SPECTRAL_DF.drop(columns=[col for col in TRIALS_AND_SPECTRAL_DF if \"remove\" in col], errors=\"ignore\")"
   ]
  },
  {
   "cell_type": "code",
   "execution_count": 46,
   "metadata": {
    "tags": []
   },
   "outputs": [],
   "source": [
    "TRIALS_AND_SPECTRAL_DF = TRIALS_AND_SPECTRAL_DF.drop(columns=[col for col in TRIALS_AND_SPECTRAL_DF if \"Unnamed\" in col])"
   ]
  },
  {
   "cell_type": "code",
   "execution_count": 47,
   "metadata": {
    "tags": []
   },
   "outputs": [
    {
     "data": {
      "text/html": [
       "<div>\n",
       "<style scoped>\n",
       "    .dataframe tbody tr th:only-of-type {\n",
       "        vertical-align: middle;\n",
       "    }\n",
       "\n",
       "    .dataframe tbody tr th {\n",
       "        vertical-align: top;\n",
       "    }\n",
       "\n",
       "    .dataframe thead th {\n",
       "        text-align: right;\n",
       "    }\n",
       "</style>\n",
       "<table border=\"1\" class=\"dataframe\">\n",
       "  <thead>\n",
       "    <tr style=\"text-align: right;\">\n",
       "      <th></th>\n",
       "      <th>tone_start_frame</th>\n",
       "      <th>reward_start</th>\n",
       "      <th>reward_dispensed</th>\n",
       "      <th>tone_stop_frame</th>\n",
       "      <th>condition</th>\n",
       "      <th>competition_closeness</th>\n",
       "      <th>get_reward_frame</th>\n",
       "      <th>out_reward_frame</th>\n",
       "      <th>experiment</th>\n",
       "      <th>video_name</th>\n",
       "      <th>...</th>\n",
       "      <th>box_top_right</th>\n",
       "      <th>box_bottom_left</th>\n",
       "      <th>agent</th>\n",
       "      <th>subject_locations</th>\n",
       "      <th>frame_index</th>\n",
       "      <th>agent_locations</th>\n",
       "      <th>subject_thorax_velocity</th>\n",
       "      <th>agent_thorax_velocity</th>\n",
       "      <th>subject_thorax_to_reward_port</th>\n",
       "      <th>agent_thorax_to_reward_port</th>\n",
       "    </tr>\n",
       "  </thead>\n",
       "  <tbody>\n",
       "    <tr>\n",
       "      <th>0</th>\n",
       "      <td>1286</td>\n",
       "      <td>1366</td>\n",
       "      <td>1386</td>\n",
       "      <td>1486</td>\n",
       "      <td>3.3</td>\n",
       "      <td>Subj 2 then Subj 1</td>\n",
       "      <td>NaN</td>\n",
       "      <td>NaN</td>\n",
       "      <td>long_comp</td>\n",
       "      <td>20240317_151922_long_comp_subj_3-1_and_3-3.1</td>\n",
       "      <td>...</td>\n",
       "      <td>[73.57122102264293, 11.423230211638582]</td>\n",
       "      <td>[45.03093731344292, 35.761309141917415]</td>\n",
       "      <td>3.3</td>\n",
       "      <td>[[[58.961398589179765, 35.28935156776581], [57...</td>\n",
       "      <td>[1, 2, 3, 4, 5, 6, 7, 8, 9, 10, 11, 12, 13, 14...</td>\n",
       "      <td>[[[51.049592291310574, 19.27532173433335], [54...</td>\n",
       "      <td>[3.035, 2.855, 2.68, 2.512, 2.348, 2.19, 2.037...</td>\n",
       "      <td>[12.37, 11.99, 11.65, 11.336, 11.06, 10.81, 10...</td>\n",
       "      <td>[7.453, 7.25, 7.273, 7.062, 6.88, 6.617, 5.965...</td>\n",
       "      <td>[19.94, 20.16, 20.45, 20.8, 21.0, 20.98, 21.03...</td>\n",
       "    </tr>\n",
       "    <tr>\n",
       "      <th>1</th>\n",
       "      <td>1286</td>\n",
       "      <td>1366</td>\n",
       "      <td>1386</td>\n",
       "      <td>1486</td>\n",
       "      <td>3.3</td>\n",
       "      <td>Subj 2 then Subj 1</td>\n",
       "      <td>NaN</td>\n",
       "      <td>NaN</td>\n",
       "      <td>long_comp</td>\n",
       "      <td>20240317_151922_long_comp_subj_3-1_and_3-3.1</td>\n",
       "      <td>...</td>\n",
       "      <td>[73.57122102264293, 11.423230211638582]</td>\n",
       "      <td>[45.03093731344292, 35.761309141917415]</td>\n",
       "      <td>3.1</td>\n",
       "      <td>[[[51.049592291310574, 19.27532173433335], [54...</td>\n",
       "      <td>[1, 2, 3, 4, 5, 6, 7, 8, 9, 10, 11, 12, 13, 14...</td>\n",
       "      <td>[[[58.961398589179765, 35.28935156776581], [57...</td>\n",
       "      <td>[12.37, 11.99, 11.65, 11.336, 11.06, 10.81, 10...</td>\n",
       "      <td>[3.035, 2.855, 2.68, 2.512, 2.348, 2.19, 2.037...</td>\n",
       "      <td>[19.94, 20.16, 20.45, 20.8, 21.0, 20.98, 21.03...</td>\n",
       "      <td>[7.453, 7.25, 7.273, 7.062, 6.88, 6.617, 5.965...</td>\n",
       "    </tr>\n",
       "    <tr>\n",
       "      <th>2</th>\n",
       "      <td>3282</td>\n",
       "      <td>3362</td>\n",
       "      <td>3382</td>\n",
       "      <td>3482</td>\n",
       "      <td>3.1</td>\n",
       "      <td>Subj 1 Only</td>\n",
       "      <td>NaN</td>\n",
       "      <td>NaN</td>\n",
       "      <td>long_comp</td>\n",
       "      <td>20240317_151922_long_comp_subj_3-1_and_3-3.1</td>\n",
       "      <td>...</td>\n",
       "      <td>[73.57122102264293, 11.423230211638582]</td>\n",
       "      <td>[45.03093731344292, 35.761309141917415]</td>\n",
       "      <td>3.3</td>\n",
       "      <td>[[[58.961398589179765, 35.28935156776581], [57...</td>\n",
       "      <td>[1, 2, 3, 4, 5, 6, 7, 8, 9, 10, 11, 12, 13, 14...</td>\n",
       "      <td>[[[51.049592291310574, 19.27532173433335], [54...</td>\n",
       "      <td>[3.035, 2.855, 2.68, 2.512, 2.348, 2.19, 2.037...</td>\n",
       "      <td>[12.37, 11.99, 11.65, 11.336, 11.06, 10.81, 10...</td>\n",
       "      <td>[7.453, 7.25, 7.273, 7.062, 6.88, 6.617, 5.965...</td>\n",
       "      <td>[19.94, 20.16, 20.45, 20.8, 21.0, 20.98, 21.03...</td>\n",
       "    </tr>\n",
       "    <tr>\n",
       "      <th>3</th>\n",
       "      <td>3282</td>\n",
       "      <td>3362</td>\n",
       "      <td>3382</td>\n",
       "      <td>3482</td>\n",
       "      <td>3.1</td>\n",
       "      <td>Subj 1 Only</td>\n",
       "      <td>NaN</td>\n",
       "      <td>NaN</td>\n",
       "      <td>long_comp</td>\n",
       "      <td>20240317_151922_long_comp_subj_3-1_and_3-3.1</td>\n",
       "      <td>...</td>\n",
       "      <td>[73.57122102264293, 11.423230211638582]</td>\n",
       "      <td>[45.03093731344292, 35.761309141917415]</td>\n",
       "      <td>3.1</td>\n",
       "      <td>[[[51.049592291310574, 19.27532173433335], [54...</td>\n",
       "      <td>[1, 2, 3, 4, 5, 6, 7, 8, 9, 10, 11, 12, 13, 14...</td>\n",
       "      <td>[[[58.961398589179765, 35.28935156776581], [57...</td>\n",
       "      <td>[12.37, 11.99, 11.65, 11.336, 11.06, 10.81, 10...</td>\n",
       "      <td>[3.035, 2.855, 2.68, 2.512, 2.348, 2.19, 2.037...</td>\n",
       "      <td>[19.94, 20.16, 20.45, 20.8, 21.0, 20.98, 21.03...</td>\n",
       "      <td>[7.453, 7.25, 7.273, 7.062, 6.88, 6.617, 5.965...</td>\n",
       "    </tr>\n",
       "    <tr>\n",
       "      <th>4</th>\n",
       "      <td>4480</td>\n",
       "      <td>4560</td>\n",
       "      <td>4580</td>\n",
       "      <td>4679</td>\n",
       "      <td>3.1</td>\n",
       "      <td>Subj 1 Only</td>\n",
       "      <td>NaN</td>\n",
       "      <td>NaN</td>\n",
       "      <td>long_comp</td>\n",
       "      <td>20240317_151922_long_comp_subj_3-1_and_3-3.1</td>\n",
       "      <td>...</td>\n",
       "      <td>[73.57122102264293, 11.423230211638582]</td>\n",
       "      <td>[45.03093731344292, 35.761309141917415]</td>\n",
       "      <td>3.3</td>\n",
       "      <td>[[[58.961398589179765, 35.28935156776581], [57...</td>\n",
       "      <td>[1, 2, 3, 4, 5, 6, 7, 8, 9, 10, 11, 12, 13, 14...</td>\n",
       "      <td>[[[51.049592291310574, 19.27532173433335], [54...</td>\n",
       "      <td>[3.035, 2.855, 2.68, 2.512, 2.348, 2.19, 2.037...</td>\n",
       "      <td>[12.37, 11.99, 11.65, 11.336, 11.06, 10.81, 10...</td>\n",
       "      <td>[7.453, 7.25, 7.273, 7.062, 6.88, 6.617, 5.965...</td>\n",
       "      <td>[19.94, 20.16, 20.45, 20.8, 21.0, 20.98, 21.03...</td>\n",
       "    </tr>\n",
       "  </tbody>\n",
       "</table>\n",
       "<p>5 rows × 60 columns</p>\n",
       "</div>"
      ],
      "text/plain": [
       "   tone_start_frame  reward_start  reward_dispensed  tone_stop_frame  \\\n",
       "0              1286          1366              1386             1486   \n",
       "1              1286          1366              1386             1486   \n",
       "2              3282          3362              3382             3482   \n",
       "3              3282          3362              3382             3482   \n",
       "4              4480          4560              4580             4679   \n",
       "\n",
       "  condition competition_closeness  get_reward_frame  out_reward_frame  \\\n",
       "0       3.3    Subj 2 then Subj 1               NaN               NaN   \n",
       "1       3.3    Subj 2 then Subj 1               NaN               NaN   \n",
       "2       3.1           Subj 1 Only               NaN               NaN   \n",
       "3       3.1           Subj 1 Only               NaN               NaN   \n",
       "4       3.1           Subj 1 Only               NaN               NaN   \n",
       "\n",
       "  experiment                                    video_name  ...  \\\n",
       "0  long_comp  20240317_151922_long_comp_subj_3-1_and_3-3.1  ...   \n",
       "1  long_comp  20240317_151922_long_comp_subj_3-1_and_3-3.1  ...   \n",
       "2  long_comp  20240317_151922_long_comp_subj_3-1_and_3-3.1  ...   \n",
       "3  long_comp  20240317_151922_long_comp_subj_3-1_and_3-3.1  ...   \n",
       "4  long_comp  20240317_151922_long_comp_subj_3-1_and_3-3.1  ...   \n",
       "\n",
       "                             box_top_right  \\\n",
       "0  [73.57122102264293, 11.423230211638582]   \n",
       "1  [73.57122102264293, 11.423230211638582]   \n",
       "2  [73.57122102264293, 11.423230211638582]   \n",
       "3  [73.57122102264293, 11.423230211638582]   \n",
       "4  [73.57122102264293, 11.423230211638582]   \n",
       "\n",
       "                           box_bottom_left agent  \\\n",
       "0  [45.03093731344292, 35.761309141917415]   3.3   \n",
       "1  [45.03093731344292, 35.761309141917415]   3.1   \n",
       "2  [45.03093731344292, 35.761309141917415]   3.3   \n",
       "3  [45.03093731344292, 35.761309141917415]   3.1   \n",
       "4  [45.03093731344292, 35.761309141917415]   3.3   \n",
       "\n",
       "                                   subject_locations  \\\n",
       "0  [[[58.961398589179765, 35.28935156776581], [57...   \n",
       "1  [[[51.049592291310574, 19.27532173433335], [54...   \n",
       "2  [[[58.961398589179765, 35.28935156776581], [57...   \n",
       "3  [[[51.049592291310574, 19.27532173433335], [54...   \n",
       "4  [[[58.961398589179765, 35.28935156776581], [57...   \n",
       "\n",
       "                                         frame_index  \\\n",
       "0  [1, 2, 3, 4, 5, 6, 7, 8, 9, 10, 11, 12, 13, 14...   \n",
       "1  [1, 2, 3, 4, 5, 6, 7, 8, 9, 10, 11, 12, 13, 14...   \n",
       "2  [1, 2, 3, 4, 5, 6, 7, 8, 9, 10, 11, 12, 13, 14...   \n",
       "3  [1, 2, 3, 4, 5, 6, 7, 8, 9, 10, 11, 12, 13, 14...   \n",
       "4  [1, 2, 3, 4, 5, 6, 7, 8, 9, 10, 11, 12, 13, 14...   \n",
       "\n",
       "                                     agent_locations  \\\n",
       "0  [[[51.049592291310574, 19.27532173433335], [54...   \n",
       "1  [[[58.961398589179765, 35.28935156776581], [57...   \n",
       "2  [[[51.049592291310574, 19.27532173433335], [54...   \n",
       "3  [[[58.961398589179765, 35.28935156776581], [57...   \n",
       "4  [[[51.049592291310574, 19.27532173433335], [54...   \n",
       "\n",
       "                             subject_thorax_velocity  \\\n",
       "0  [3.035, 2.855, 2.68, 2.512, 2.348, 2.19, 2.037...   \n",
       "1  [12.37, 11.99, 11.65, 11.336, 11.06, 10.81, 10...   \n",
       "2  [3.035, 2.855, 2.68, 2.512, 2.348, 2.19, 2.037...   \n",
       "3  [12.37, 11.99, 11.65, 11.336, 11.06, 10.81, 10...   \n",
       "4  [3.035, 2.855, 2.68, 2.512, 2.348, 2.19, 2.037...   \n",
       "\n",
       "                               agent_thorax_velocity  \\\n",
       "0  [12.37, 11.99, 11.65, 11.336, 11.06, 10.81, 10...   \n",
       "1  [3.035, 2.855, 2.68, 2.512, 2.348, 2.19, 2.037...   \n",
       "2  [12.37, 11.99, 11.65, 11.336, 11.06, 10.81, 10...   \n",
       "3  [3.035, 2.855, 2.68, 2.512, 2.348, 2.19, 2.037...   \n",
       "4  [12.37, 11.99, 11.65, 11.336, 11.06, 10.81, 10...   \n",
       "\n",
       "                       subject_thorax_to_reward_port  \\\n",
       "0  [7.453, 7.25, 7.273, 7.062, 6.88, 6.617, 5.965...   \n",
       "1  [19.94, 20.16, 20.45, 20.8, 21.0, 20.98, 21.03...   \n",
       "2  [7.453, 7.25, 7.273, 7.062, 6.88, 6.617, 5.965...   \n",
       "3  [19.94, 20.16, 20.45, 20.8, 21.0, 20.98, 21.03...   \n",
       "4  [7.453, 7.25, 7.273, 7.062, 6.88, 6.617, 5.965...   \n",
       "\n",
       "                         agent_thorax_to_reward_port  \n",
       "0  [19.94, 20.16, 20.45, 20.8, 21.0, 20.98, 21.03...  \n",
       "1  [7.453, 7.25, 7.273, 7.062, 6.88, 6.617, 5.965...  \n",
       "2  [19.94, 20.16, 20.45, 20.8, 21.0, 20.98, 21.03...  \n",
       "3  [7.453, 7.25, 7.273, 7.062, 6.88, 6.617, 5.965...  \n",
       "4  [19.94, 20.16, 20.45, 20.8, 21.0, 20.98, 21.03...  \n",
       "\n",
       "[5 rows x 60 columns]"
      ]
     },
     "execution_count": 47,
     "metadata": {},
     "output_type": "execute_result"
    }
   ],
   "source": [
    "TRIALS_AND_SPECTRAL_DF.head()"
   ]
  },
  {
   "cell_type": "code",
   "execution_count": 48,
   "metadata": {
    "tags": []
   },
   "outputs": [
    {
     "data": {
      "text/html": [
       "<div>\n",
       "<style scoped>\n",
       "    .dataframe tbody tr th:only-of-type {\n",
       "        vertical-align: middle;\n",
       "    }\n",
       "\n",
       "    .dataframe tbody tr th {\n",
       "        vertical-align: top;\n",
       "    }\n",
       "\n",
       "    .dataframe thead th {\n",
       "        text-align: right;\n",
       "    }\n",
       "</style>\n",
       "<table border=\"1\" class=\"dataframe\">\n",
       "  <thead>\n",
       "    <tr style=\"text-align: right;\">\n",
       "      <th></th>\n",
       "      <th>tone_start_frame</th>\n",
       "      <th>reward_start</th>\n",
       "      <th>reward_dispensed</th>\n",
       "      <th>tone_stop_frame</th>\n",
       "      <th>condition</th>\n",
       "      <th>competition_closeness</th>\n",
       "      <th>get_reward_frame</th>\n",
       "      <th>out_reward_frame</th>\n",
       "      <th>experiment</th>\n",
       "      <th>video_name</th>\n",
       "      <th>...</th>\n",
       "      <th>box_top_right</th>\n",
       "      <th>box_bottom_left</th>\n",
       "      <th>agent</th>\n",
       "      <th>subject_locations</th>\n",
       "      <th>frame_index</th>\n",
       "      <th>agent_locations</th>\n",
       "      <th>subject_thorax_velocity</th>\n",
       "      <th>agent_thorax_velocity</th>\n",
       "      <th>subject_thorax_to_reward_port</th>\n",
       "      <th>agent_thorax_to_reward_port</th>\n",
       "    </tr>\n",
       "  </thead>\n",
       "  <tbody>\n",
       "    <tr>\n",
       "      <th>465</th>\n",
       "      <td>49514</td>\n",
       "      <td>49594</td>\n",
       "      <td>49614</td>\n",
       "      <td>49713</td>\n",
       "      <td>5.3</td>\n",
       "      <td>Subj 2 then Subj 1</td>\n",
       "      <td>49592.0</td>\n",
       "      <td>49703.0</td>\n",
       "      <td>long_comp</td>\n",
       "      <td>20240321_114851_long_comp_subj_5-2_and_5-3.1</td>\n",
       "      <td>...</td>\n",
       "      <td>[74.19640018846134, 8.857052224900107]</td>\n",
       "      <td>[46.06164691686389, 33.503473726463156]</td>\n",
       "      <td>5.2</td>\n",
       "      <td>[[[75.1770338506859, 29.115218464800385], [71....</td>\n",
       "      <td>[1, 2, 3, 4, 5, 6, 7, 8, 9, 10, 11, 12, 13, 14...</td>\n",
       "      <td>[[[62.95310346293313, 34.789092579377574], [60...</td>\n",
       "      <td>[15.84, 14.85, 13.875, 12.92, 11.984, 11.08, 1...</td>\n",
       "      <td>[55.9, 52.1, 48.4, 44.8, 41.3, 37.94, 34.66, 3...</td>\n",
       "      <td>[15.25, 14.89, 14.95, 15.42, 15.336, 14.58, 14...</td>\n",
       "      <td>[5.36, 5.805, 6.09, 5.97, 5.918, 5.715, 5.426,...</td>\n",
       "    </tr>\n",
       "    <tr>\n",
       "      <th>466</th>\n",
       "      <td>50511</td>\n",
       "      <td>50591</td>\n",
       "      <td>50611</td>\n",
       "      <td>50711</td>\n",
       "      <td>5.3</td>\n",
       "      <td>Subj 2 blocking Subj 1</td>\n",
       "      <td>50498.0</td>\n",
       "      <td>50676.0</td>\n",
       "      <td>long_comp</td>\n",
       "      <td>20240321_114851_long_comp_subj_5-2_and_5-3.1</td>\n",
       "      <td>...</td>\n",
       "      <td>[74.19640018846134, 8.857052224900107]</td>\n",
       "      <td>[46.06164691686389, 33.503473726463156]</td>\n",
       "      <td>5.2</td>\n",
       "      <td>[[[75.1770338506859, 29.115218464800385], [71....</td>\n",
       "      <td>[1, 2, 3, 4, 5, 6, 7, 8, 9, 10, 11, 12, 13, 14...</td>\n",
       "      <td>[[[62.95310346293313, 34.789092579377574], [60...</td>\n",
       "      <td>[15.84, 14.85, 13.875, 12.92, 11.984, 11.08, 1...</td>\n",
       "      <td>[55.9, 52.1, 48.4, 44.8, 41.3, 37.94, 34.66, 3...</td>\n",
       "      <td>[15.25, 14.89, 14.95, 15.42, 15.336, 14.58, 14...</td>\n",
       "      <td>[5.36, 5.805, 6.09, 5.97, 5.918, 5.715, 5.426,...</td>\n",
       "    </tr>\n",
       "    <tr>\n",
       "      <th>467</th>\n",
       "      <td>51909</td>\n",
       "      <td>51989</td>\n",
       "      <td>52009</td>\n",
       "      <td>52108</td>\n",
       "      <td>5.3</td>\n",
       "      <td>Subj 2 then Subj 1</td>\n",
       "      <td>51972.0</td>\n",
       "      <td>52121.0</td>\n",
       "      <td>long_comp</td>\n",
       "      <td>20240321_114851_long_comp_subj_5-2_and_5-3.1</td>\n",
       "      <td>...</td>\n",
       "      <td>[74.19640018846134, 8.857052224900107]</td>\n",
       "      <td>[46.06164691686389, 33.503473726463156]</td>\n",
       "      <td>5.2</td>\n",
       "      <td>[[[75.1770338506859, 29.115218464800385], [71....</td>\n",
       "      <td>[1, 2, 3, 4, 5, 6, 7, 8, 9, 10, 11, 12, 13, 14...</td>\n",
       "      <td>[[[62.95310346293313, 34.789092579377574], [60...</td>\n",
       "      <td>[15.84, 14.85, 13.875, 12.92, 11.984, 11.08, 1...</td>\n",
       "      <td>[55.9, 52.1, 48.4, 44.8, 41.3, 37.94, 34.66, 3...</td>\n",
       "      <td>[15.25, 14.89, 14.95, 15.42, 15.336, 14.58, 14...</td>\n",
       "      <td>[5.36, 5.805, 6.09, 5.97, 5.918, 5.715, 5.426,...</td>\n",
       "    </tr>\n",
       "    <tr>\n",
       "      <th>468</th>\n",
       "      <td>54104</td>\n",
       "      <td>54184</td>\n",
       "      <td>54204</td>\n",
       "      <td>54304</td>\n",
       "      <td>5.3</td>\n",
       "      <td>Subj 2 then Subj 1</td>\n",
       "      <td>54157.0</td>\n",
       "      <td>54286.0</td>\n",
       "      <td>long_comp</td>\n",
       "      <td>20240321_114851_long_comp_subj_5-2_and_5-3.1</td>\n",
       "      <td>...</td>\n",
       "      <td>[74.19640018846134, 8.857052224900107]</td>\n",
       "      <td>[46.06164691686389, 33.503473726463156]</td>\n",
       "      <td>5.2</td>\n",
       "      <td>[[[75.1770338506859, 29.115218464800385], [71....</td>\n",
       "      <td>[1, 2, 3, 4, 5, 6, 7, 8, 9, 10, 11, 12, 13, 14...</td>\n",
       "      <td>[[[62.95310346293313, 34.789092579377574], [60...</td>\n",
       "      <td>[15.84, 14.85, 13.875, 12.92, 11.984, 11.08, 1...</td>\n",
       "      <td>[55.9, 52.1, 48.4, 44.8, 41.3, 37.94, 34.66, 3...</td>\n",
       "      <td>[15.25, 14.89, 14.95, 15.42, 15.336, 14.58, 14...</td>\n",
       "      <td>[5.36, 5.805, 6.09, 5.97, 5.918, 5.715, 5.426,...</td>\n",
       "    </tr>\n",
       "    <tr>\n",
       "      <th>469</th>\n",
       "      <td>55203</td>\n",
       "      <td>55283</td>\n",
       "      <td>55303</td>\n",
       "      <td>55402</td>\n",
       "      <td>tie</td>\n",
       "      <td>Close Call</td>\n",
       "      <td>NaN</td>\n",
       "      <td>NaN</td>\n",
       "      <td>long_comp</td>\n",
       "      <td>20240321_114851_long_comp_subj_5-2_and_5-3.1</td>\n",
       "      <td>...</td>\n",
       "      <td>[74.19640018846134, 8.857052224900107]</td>\n",
       "      <td>[46.06164691686389, 33.503473726463156]</td>\n",
       "      <td>5.2</td>\n",
       "      <td>[[[75.1770338506859, 29.115218464800385], [71....</td>\n",
       "      <td>[1, 2, 3, 4, 5, 6, 7, 8, 9, 10, 11, 12, 13, 14...</td>\n",
       "      <td>[[[62.95310346293313, 34.789092579377574], [60...</td>\n",
       "      <td>[15.84, 14.85, 13.875, 12.92, 11.984, 11.08, 1...</td>\n",
       "      <td>[55.9, 52.1, 48.4, 44.8, 41.3, 37.94, 34.66, 3...</td>\n",
       "      <td>[15.25, 14.89, 14.95, 15.42, 15.336, 14.58, 14...</td>\n",
       "      <td>[5.36, 5.805, 6.09, 5.97, 5.918, 5.715, 5.426,...</td>\n",
       "    </tr>\n",
       "  </tbody>\n",
       "</table>\n",
       "<p>5 rows × 60 columns</p>\n",
       "</div>"
      ],
      "text/plain": [
       "     tone_start_frame  reward_start  reward_dispensed  tone_stop_frame  \\\n",
       "465             49514         49594             49614            49713   \n",
       "466             50511         50591             50611            50711   \n",
       "467             51909         51989             52009            52108   \n",
       "468             54104         54184             54204            54304   \n",
       "469             55203         55283             55303            55402   \n",
       "\n",
       "    condition   competition_closeness  get_reward_frame  out_reward_frame  \\\n",
       "465       5.3      Subj 2 then Subj 1           49592.0           49703.0   \n",
       "466       5.3  Subj 2 blocking Subj 1           50498.0           50676.0   \n",
       "467       5.3      Subj 2 then Subj 1           51972.0           52121.0   \n",
       "468       5.3      Subj 2 then Subj 1           54157.0           54286.0   \n",
       "469       tie              Close Call               NaN               NaN   \n",
       "\n",
       "    experiment                                    video_name  ...  \\\n",
       "465  long_comp  20240321_114851_long_comp_subj_5-2_and_5-3.1  ...   \n",
       "466  long_comp  20240321_114851_long_comp_subj_5-2_and_5-3.1  ...   \n",
       "467  long_comp  20240321_114851_long_comp_subj_5-2_and_5-3.1  ...   \n",
       "468  long_comp  20240321_114851_long_comp_subj_5-2_and_5-3.1  ...   \n",
       "469  long_comp  20240321_114851_long_comp_subj_5-2_and_5-3.1  ...   \n",
       "\n",
       "                              box_top_right  \\\n",
       "465  [74.19640018846134, 8.857052224900107]   \n",
       "466  [74.19640018846134, 8.857052224900107]   \n",
       "467  [74.19640018846134, 8.857052224900107]   \n",
       "468  [74.19640018846134, 8.857052224900107]   \n",
       "469  [74.19640018846134, 8.857052224900107]   \n",
       "\n",
       "                             box_bottom_left agent  \\\n",
       "465  [46.06164691686389, 33.503473726463156]   5.2   \n",
       "466  [46.06164691686389, 33.503473726463156]   5.2   \n",
       "467  [46.06164691686389, 33.503473726463156]   5.2   \n",
       "468  [46.06164691686389, 33.503473726463156]   5.2   \n",
       "469  [46.06164691686389, 33.503473726463156]   5.2   \n",
       "\n",
       "                                     subject_locations  \\\n",
       "465  [[[75.1770338506859, 29.115218464800385], [71....   \n",
       "466  [[[75.1770338506859, 29.115218464800385], [71....   \n",
       "467  [[[75.1770338506859, 29.115218464800385], [71....   \n",
       "468  [[[75.1770338506859, 29.115218464800385], [71....   \n",
       "469  [[[75.1770338506859, 29.115218464800385], [71....   \n",
       "\n",
       "                                           frame_index  \\\n",
       "465  [1, 2, 3, 4, 5, 6, 7, 8, 9, 10, 11, 12, 13, 14...   \n",
       "466  [1, 2, 3, 4, 5, 6, 7, 8, 9, 10, 11, 12, 13, 14...   \n",
       "467  [1, 2, 3, 4, 5, 6, 7, 8, 9, 10, 11, 12, 13, 14...   \n",
       "468  [1, 2, 3, 4, 5, 6, 7, 8, 9, 10, 11, 12, 13, 14...   \n",
       "469  [1, 2, 3, 4, 5, 6, 7, 8, 9, 10, 11, 12, 13, 14...   \n",
       "\n",
       "                                       agent_locations  \\\n",
       "465  [[[62.95310346293313, 34.789092579377574], [60...   \n",
       "466  [[[62.95310346293313, 34.789092579377574], [60...   \n",
       "467  [[[62.95310346293313, 34.789092579377574], [60...   \n",
       "468  [[[62.95310346293313, 34.789092579377574], [60...   \n",
       "469  [[[62.95310346293313, 34.789092579377574], [60...   \n",
       "\n",
       "                               subject_thorax_velocity  \\\n",
       "465  [15.84, 14.85, 13.875, 12.92, 11.984, 11.08, 1...   \n",
       "466  [15.84, 14.85, 13.875, 12.92, 11.984, 11.08, 1...   \n",
       "467  [15.84, 14.85, 13.875, 12.92, 11.984, 11.08, 1...   \n",
       "468  [15.84, 14.85, 13.875, 12.92, 11.984, 11.08, 1...   \n",
       "469  [15.84, 14.85, 13.875, 12.92, 11.984, 11.08, 1...   \n",
       "\n",
       "                                 agent_thorax_velocity  \\\n",
       "465  [55.9, 52.1, 48.4, 44.8, 41.3, 37.94, 34.66, 3...   \n",
       "466  [55.9, 52.1, 48.4, 44.8, 41.3, 37.94, 34.66, 3...   \n",
       "467  [55.9, 52.1, 48.4, 44.8, 41.3, 37.94, 34.66, 3...   \n",
       "468  [55.9, 52.1, 48.4, 44.8, 41.3, 37.94, 34.66, 3...   \n",
       "469  [55.9, 52.1, 48.4, 44.8, 41.3, 37.94, 34.66, 3...   \n",
       "\n",
       "                         subject_thorax_to_reward_port  \\\n",
       "465  [15.25, 14.89, 14.95, 15.42, 15.336, 14.58, 14...   \n",
       "466  [15.25, 14.89, 14.95, 15.42, 15.336, 14.58, 14...   \n",
       "467  [15.25, 14.89, 14.95, 15.42, 15.336, 14.58, 14...   \n",
       "468  [15.25, 14.89, 14.95, 15.42, 15.336, 14.58, 14...   \n",
       "469  [15.25, 14.89, 14.95, 15.42, 15.336, 14.58, 14...   \n",
       "\n",
       "                           agent_thorax_to_reward_port  \n",
       "465  [5.36, 5.805, 6.09, 5.97, 5.918, 5.715, 5.426,...  \n",
       "466  [5.36, 5.805, 6.09, 5.97, 5.918, 5.715, 5.426,...  \n",
       "467  [5.36, 5.805, 6.09, 5.97, 5.918, 5.715, 5.426,...  \n",
       "468  [5.36, 5.805, 6.09, 5.97, 5.918, 5.715, 5.426,...  \n",
       "469  [5.36, 5.805, 6.09, 5.97, 5.918, 5.715, 5.426,...  \n",
       "\n",
       "[5 rows x 60 columns]"
      ]
     },
     "execution_count": 48,
     "metadata": {},
     "output_type": "execute_result"
    }
   ],
   "source": [
    "TRIALS_AND_SPECTRAL_DF.tail()"
   ]
  },
  {
   "cell_type": "code",
   "execution_count": 49,
   "metadata": {
    "tags": []
   },
   "outputs": [],
   "source": [
    "timestamps_col = [col for col in TRIALS_AND_SPECTRAL_DF if \"timestamp\" in col and \"timestamps\" not in col and \"cluster\" not in col]"
   ]
  },
  {
   "cell_type": "code",
   "execution_count": 50,
   "metadata": {
    "tags": []
   },
   "outputs": [],
   "source": [
    "for col in timestamps_col:\n",
    "    TRIALS_AND_SPECTRAL_DF[col] = TRIALS_AND_SPECTRAL_DF[col].astype(int)"
   ]
  },
  {
   "cell_type": "code",
   "execution_count": 51,
   "metadata": {
    "tags": []
   },
   "outputs": [
    {
     "data": {
      "text/html": [
       "<div>\n",
       "<style scoped>\n",
       "    .dataframe tbody tr th:only-of-type {\n",
       "        vertical-align: middle;\n",
       "    }\n",
       "\n",
       "    .dataframe tbody tr th {\n",
       "        vertical-align: top;\n",
       "    }\n",
       "\n",
       "    .dataframe thead th {\n",
       "        text-align: right;\n",
       "    }\n",
       "</style>\n",
       "<table border=\"1\" class=\"dataframe\">\n",
       "  <thead>\n",
       "    <tr style=\"text-align: right;\">\n",
       "      <th></th>\n",
       "      <th>tone_start_timestamp</th>\n",
       "      <th>tone_stop_timestamp</th>\n",
       "      <th>first_timestamp</th>\n",
       "      <th>last_timestamp</th>\n",
       "    </tr>\n",
       "  </thead>\n",
       "  <tbody>\n",
       "    <tr>\n",
       "      <th>0</th>\n",
       "      <td>1287955</td>\n",
       "      <td>1487958</td>\n",
       "      <td>2415571</td>\n",
       "      <td>48236575</td>\n",
       "    </tr>\n",
       "    <tr>\n",
       "      <th>1</th>\n",
       "      <td>1287955</td>\n",
       "      <td>1487958</td>\n",
       "      <td>2415571</td>\n",
       "      <td>48236575</td>\n",
       "    </tr>\n",
       "    <tr>\n",
       "      <th>2</th>\n",
       "      <td>3287980</td>\n",
       "      <td>3487980</td>\n",
       "      <td>2415571</td>\n",
       "      <td>48236575</td>\n",
       "    </tr>\n",
       "    <tr>\n",
       "      <th>3</th>\n",
       "      <td>3287980</td>\n",
       "      <td>3487980</td>\n",
       "      <td>2415571</td>\n",
       "      <td>48236575</td>\n",
       "    </tr>\n",
       "    <tr>\n",
       "      <th>4</th>\n",
       "      <td>4487995</td>\n",
       "      <td>4687995</td>\n",
       "      <td>2415571</td>\n",
       "      <td>48236575</td>\n",
       "    </tr>\n",
       "  </tbody>\n",
       "</table>\n",
       "</div>"
      ],
      "text/plain": [
       "   tone_start_timestamp  tone_stop_timestamp  first_timestamp  last_timestamp\n",
       "0               1287955              1487958          2415571        48236575\n",
       "1               1287955              1487958          2415571        48236575\n",
       "2               3287980              3487980          2415571        48236575\n",
       "3               3287980              3487980          2415571        48236575\n",
       "4               4487995              4687995          2415571        48236575"
      ]
     },
     "execution_count": 51,
     "metadata": {},
     "output_type": "execute_result"
    }
   ],
   "source": [
    "TRIALS_AND_SPECTRAL_DF[timestamps_col].head()"
   ]
  },
  {
   "cell_type": "code",
   "execution_count": 52,
   "metadata": {},
   "outputs": [],
   "source": [
    "frame_col = [col for col in TRIALS_AND_SPECTRAL_DF if \"frame\" in col and \"tone\" in col and \"frames\" not in col]"
   ]
  },
  {
   "cell_type": "code",
   "execution_count": 53,
   "metadata": {},
   "outputs": [],
   "source": [
    "for col in frame_col:\n",
    "    TRIALS_AND_SPECTRAL_DF[col] = TRIALS_AND_SPECTRAL_DF[col].astype(int)"
   ]
  },
  {
   "cell_type": "code",
   "execution_count": 54,
   "metadata": {},
   "outputs": [
    {
     "data": {
      "text/html": [
       "<div>\n",
       "<style scoped>\n",
       "    .dataframe tbody tr th:only-of-type {\n",
       "        vertical-align: middle;\n",
       "    }\n",
       "\n",
       "    .dataframe tbody tr th {\n",
       "        vertical-align: top;\n",
       "    }\n",
       "\n",
       "    .dataframe thead th {\n",
       "        text-align: right;\n",
       "    }\n",
       "</style>\n",
       "<table border=\"1\" class=\"dataframe\">\n",
       "  <thead>\n",
       "    <tr style=\"text-align: right;\">\n",
       "      <th></th>\n",
       "      <th>tone_start_frame</th>\n",
       "      <th>tone_stop_frame</th>\n",
       "    </tr>\n",
       "  </thead>\n",
       "  <tbody>\n",
       "    <tr>\n",
       "      <th>0</th>\n",
       "      <td>1286</td>\n",
       "      <td>1486</td>\n",
       "    </tr>\n",
       "    <tr>\n",
       "      <th>1</th>\n",
       "      <td>1286</td>\n",
       "      <td>1486</td>\n",
       "    </tr>\n",
       "    <tr>\n",
       "      <th>2</th>\n",
       "      <td>3282</td>\n",
       "      <td>3482</td>\n",
       "    </tr>\n",
       "    <tr>\n",
       "      <th>3</th>\n",
       "      <td>3282</td>\n",
       "      <td>3482</td>\n",
       "    </tr>\n",
       "    <tr>\n",
       "      <th>4</th>\n",
       "      <td>4480</td>\n",
       "      <td>4679</td>\n",
       "    </tr>\n",
       "  </tbody>\n",
       "</table>\n",
       "</div>"
      ],
      "text/plain": [
       "   tone_start_frame  tone_stop_frame\n",
       "0              1286             1486\n",
       "1              1286             1486\n",
       "2              3282             3482\n",
       "3              3282             3482\n",
       "4              4480             4679"
      ]
     },
     "execution_count": 54,
     "metadata": {},
     "output_type": "execute_result"
    }
   ],
   "source": [
    "TRIALS_AND_SPECTRAL_DF[frame_col].head()"
   ]
  },
  {
   "cell_type": "markdown",
   "metadata": {},
   "source": [
    "## Adding the SLEAP data"
   ]
  },
  {
   "cell_type": "code",
   "execution_count": 55,
   "metadata": {},
   "outputs": [
    {
     "data": {
      "text/html": [
       "<div>\n",
       "<style scoped>\n",
       "    .dataframe tbody tr th:only-of-type {\n",
       "        vertical-align: middle;\n",
       "    }\n",
       "\n",
       "    .dataframe tbody tr th {\n",
       "        vertical-align: top;\n",
       "    }\n",
       "\n",
       "    .dataframe thead th {\n",
       "        text-align: right;\n",
       "    }\n",
       "</style>\n",
       "<table border=\"1\" class=\"dataframe\">\n",
       "  <thead>\n",
       "    <tr style=\"text-align: right;\">\n",
       "      <th></th>\n",
       "      <th>tone_start_frame</th>\n",
       "      <th>reward_start</th>\n",
       "      <th>reward_dispensed</th>\n",
       "      <th>tone_stop_frame</th>\n",
       "      <th>condition</th>\n",
       "      <th>competition_closeness</th>\n",
       "      <th>get_reward_frame</th>\n",
       "      <th>out_reward_frame</th>\n",
       "      <th>experiment</th>\n",
       "      <th>video_name</th>\n",
       "      <th>...</th>\n",
       "      <th>box_top_right</th>\n",
       "      <th>box_bottom_left</th>\n",
       "      <th>agent</th>\n",
       "      <th>subject_locations</th>\n",
       "      <th>frame_index</th>\n",
       "      <th>agent_locations</th>\n",
       "      <th>subject_thorax_velocity</th>\n",
       "      <th>agent_thorax_velocity</th>\n",
       "      <th>subject_thorax_to_reward_port</th>\n",
       "      <th>agent_thorax_to_reward_port</th>\n",
       "    </tr>\n",
       "  </thead>\n",
       "  <tbody>\n",
       "    <tr>\n",
       "      <th>0</th>\n",
       "      <td>1286</td>\n",
       "      <td>1366</td>\n",
       "      <td>1386</td>\n",
       "      <td>1486</td>\n",
       "      <td>3.3</td>\n",
       "      <td>Subj 2 then Subj 1</td>\n",
       "      <td>NaN</td>\n",
       "      <td>NaN</td>\n",
       "      <td>long_comp</td>\n",
       "      <td>20240317_151922_long_comp_subj_3-1_and_3-3.1</td>\n",
       "      <td>...</td>\n",
       "      <td>[73.57122102264293, 11.423230211638582]</td>\n",
       "      <td>[45.03093731344292, 35.761309141917415]</td>\n",
       "      <td>3.3</td>\n",
       "      <td>[[[58.961398589179765, 35.28935156776581], [57...</td>\n",
       "      <td>[1, 2, 3, 4, 5, 6, 7, 8, 9, 10, 11, 12, 13, 14...</td>\n",
       "      <td>[[[51.049592291310574, 19.27532173433335], [54...</td>\n",
       "      <td>[3.035, 2.855, 2.68, 2.512, 2.348, 2.19, 2.037...</td>\n",
       "      <td>[12.37, 11.99, 11.65, 11.336, 11.06, 10.81, 10...</td>\n",
       "      <td>[7.453, 7.25, 7.273, 7.062, 6.88, 6.617, 5.965...</td>\n",
       "      <td>[19.94, 20.16, 20.45, 20.8, 21.0, 20.98, 21.03...</td>\n",
       "    </tr>\n",
       "    <tr>\n",
       "      <th>1</th>\n",
       "      <td>1286</td>\n",
       "      <td>1366</td>\n",
       "      <td>1386</td>\n",
       "      <td>1486</td>\n",
       "      <td>3.3</td>\n",
       "      <td>Subj 2 then Subj 1</td>\n",
       "      <td>NaN</td>\n",
       "      <td>NaN</td>\n",
       "      <td>long_comp</td>\n",
       "      <td>20240317_151922_long_comp_subj_3-1_and_3-3.1</td>\n",
       "      <td>...</td>\n",
       "      <td>[73.57122102264293, 11.423230211638582]</td>\n",
       "      <td>[45.03093731344292, 35.761309141917415]</td>\n",
       "      <td>3.1</td>\n",
       "      <td>[[[51.049592291310574, 19.27532173433335], [54...</td>\n",
       "      <td>[1, 2, 3, 4, 5, 6, 7, 8, 9, 10, 11, 12, 13, 14...</td>\n",
       "      <td>[[[58.961398589179765, 35.28935156776581], [57...</td>\n",
       "      <td>[12.37, 11.99, 11.65, 11.336, 11.06, 10.81, 10...</td>\n",
       "      <td>[3.035, 2.855, 2.68, 2.512, 2.348, 2.19, 2.037...</td>\n",
       "      <td>[19.94, 20.16, 20.45, 20.8, 21.0, 20.98, 21.03...</td>\n",
       "      <td>[7.453, 7.25, 7.273, 7.062, 6.88, 6.617, 5.965...</td>\n",
       "    </tr>\n",
       "    <tr>\n",
       "      <th>2</th>\n",
       "      <td>3282</td>\n",
       "      <td>3362</td>\n",
       "      <td>3382</td>\n",
       "      <td>3482</td>\n",
       "      <td>3.1</td>\n",
       "      <td>Subj 1 Only</td>\n",
       "      <td>NaN</td>\n",
       "      <td>NaN</td>\n",
       "      <td>long_comp</td>\n",
       "      <td>20240317_151922_long_comp_subj_3-1_and_3-3.1</td>\n",
       "      <td>...</td>\n",
       "      <td>[73.57122102264293, 11.423230211638582]</td>\n",
       "      <td>[45.03093731344292, 35.761309141917415]</td>\n",
       "      <td>3.3</td>\n",
       "      <td>[[[58.961398589179765, 35.28935156776581], [57...</td>\n",
       "      <td>[1, 2, 3, 4, 5, 6, 7, 8, 9, 10, 11, 12, 13, 14...</td>\n",
       "      <td>[[[51.049592291310574, 19.27532173433335], [54...</td>\n",
       "      <td>[3.035, 2.855, 2.68, 2.512, 2.348, 2.19, 2.037...</td>\n",
       "      <td>[12.37, 11.99, 11.65, 11.336, 11.06, 10.81, 10...</td>\n",
       "      <td>[7.453, 7.25, 7.273, 7.062, 6.88, 6.617, 5.965...</td>\n",
       "      <td>[19.94, 20.16, 20.45, 20.8, 21.0, 20.98, 21.03...</td>\n",
       "    </tr>\n",
       "    <tr>\n",
       "      <th>3</th>\n",
       "      <td>3282</td>\n",
       "      <td>3362</td>\n",
       "      <td>3382</td>\n",
       "      <td>3482</td>\n",
       "      <td>3.1</td>\n",
       "      <td>Subj 1 Only</td>\n",
       "      <td>NaN</td>\n",
       "      <td>NaN</td>\n",
       "      <td>long_comp</td>\n",
       "      <td>20240317_151922_long_comp_subj_3-1_and_3-3.1</td>\n",
       "      <td>...</td>\n",
       "      <td>[73.57122102264293, 11.423230211638582]</td>\n",
       "      <td>[45.03093731344292, 35.761309141917415]</td>\n",
       "      <td>3.1</td>\n",
       "      <td>[[[51.049592291310574, 19.27532173433335], [54...</td>\n",
       "      <td>[1, 2, 3, 4, 5, 6, 7, 8, 9, 10, 11, 12, 13, 14...</td>\n",
       "      <td>[[[58.961398589179765, 35.28935156776581], [57...</td>\n",
       "      <td>[12.37, 11.99, 11.65, 11.336, 11.06, 10.81, 10...</td>\n",
       "      <td>[3.035, 2.855, 2.68, 2.512, 2.348, 2.19, 2.037...</td>\n",
       "      <td>[19.94, 20.16, 20.45, 20.8, 21.0, 20.98, 21.03...</td>\n",
       "      <td>[7.453, 7.25, 7.273, 7.062, 6.88, 6.617, 5.965...</td>\n",
       "    </tr>\n",
       "    <tr>\n",
       "      <th>4</th>\n",
       "      <td>4480</td>\n",
       "      <td>4560</td>\n",
       "      <td>4580</td>\n",
       "      <td>4679</td>\n",
       "      <td>3.1</td>\n",
       "      <td>Subj 1 Only</td>\n",
       "      <td>NaN</td>\n",
       "      <td>NaN</td>\n",
       "      <td>long_comp</td>\n",
       "      <td>20240317_151922_long_comp_subj_3-1_and_3-3.1</td>\n",
       "      <td>...</td>\n",
       "      <td>[73.57122102264293, 11.423230211638582]</td>\n",
       "      <td>[45.03093731344292, 35.761309141917415]</td>\n",
       "      <td>3.3</td>\n",
       "      <td>[[[58.961398589179765, 35.28935156776581], [57...</td>\n",
       "      <td>[1, 2, 3, 4, 5, 6, 7, 8, 9, 10, 11, 12, 13, 14...</td>\n",
       "      <td>[[[51.049592291310574, 19.27532173433335], [54...</td>\n",
       "      <td>[3.035, 2.855, 2.68, 2.512, 2.348, 2.19, 2.037...</td>\n",
       "      <td>[12.37, 11.99, 11.65, 11.336, 11.06, 10.81, 10...</td>\n",
       "      <td>[7.453, 7.25, 7.273, 7.062, 6.88, 6.617, 5.965...</td>\n",
       "      <td>[19.94, 20.16, 20.45, 20.8, 21.0, 20.98, 21.03...</td>\n",
       "    </tr>\n",
       "  </tbody>\n",
       "</table>\n",
       "<p>5 rows × 60 columns</p>\n",
       "</div>"
      ],
      "text/plain": [
       "   tone_start_frame  reward_start  reward_dispensed  tone_stop_frame  \\\n",
       "0              1286          1366              1386             1486   \n",
       "1              1286          1366              1386             1486   \n",
       "2              3282          3362              3382             3482   \n",
       "3              3282          3362              3382             3482   \n",
       "4              4480          4560              4580             4679   \n",
       "\n",
       "  condition competition_closeness  get_reward_frame  out_reward_frame  \\\n",
       "0       3.3    Subj 2 then Subj 1               NaN               NaN   \n",
       "1       3.3    Subj 2 then Subj 1               NaN               NaN   \n",
       "2       3.1           Subj 1 Only               NaN               NaN   \n",
       "3       3.1           Subj 1 Only               NaN               NaN   \n",
       "4       3.1           Subj 1 Only               NaN               NaN   \n",
       "\n",
       "  experiment                                    video_name  ...  \\\n",
       "0  long_comp  20240317_151922_long_comp_subj_3-1_and_3-3.1  ...   \n",
       "1  long_comp  20240317_151922_long_comp_subj_3-1_and_3-3.1  ...   \n",
       "2  long_comp  20240317_151922_long_comp_subj_3-1_and_3-3.1  ...   \n",
       "3  long_comp  20240317_151922_long_comp_subj_3-1_and_3-3.1  ...   \n",
       "4  long_comp  20240317_151922_long_comp_subj_3-1_and_3-3.1  ...   \n",
       "\n",
       "                             box_top_right  \\\n",
       "0  [73.57122102264293, 11.423230211638582]   \n",
       "1  [73.57122102264293, 11.423230211638582]   \n",
       "2  [73.57122102264293, 11.423230211638582]   \n",
       "3  [73.57122102264293, 11.423230211638582]   \n",
       "4  [73.57122102264293, 11.423230211638582]   \n",
       "\n",
       "                           box_bottom_left agent  \\\n",
       "0  [45.03093731344292, 35.761309141917415]   3.3   \n",
       "1  [45.03093731344292, 35.761309141917415]   3.1   \n",
       "2  [45.03093731344292, 35.761309141917415]   3.3   \n",
       "3  [45.03093731344292, 35.761309141917415]   3.1   \n",
       "4  [45.03093731344292, 35.761309141917415]   3.3   \n",
       "\n",
       "                                   subject_locations  \\\n",
       "0  [[[58.961398589179765, 35.28935156776581], [57...   \n",
       "1  [[[51.049592291310574, 19.27532173433335], [54...   \n",
       "2  [[[58.961398589179765, 35.28935156776581], [57...   \n",
       "3  [[[51.049592291310574, 19.27532173433335], [54...   \n",
       "4  [[[58.961398589179765, 35.28935156776581], [57...   \n",
       "\n",
       "                                         frame_index  \\\n",
       "0  [1, 2, 3, 4, 5, 6, 7, 8, 9, 10, 11, 12, 13, 14...   \n",
       "1  [1, 2, 3, 4, 5, 6, 7, 8, 9, 10, 11, 12, 13, 14...   \n",
       "2  [1, 2, 3, 4, 5, 6, 7, 8, 9, 10, 11, 12, 13, 14...   \n",
       "3  [1, 2, 3, 4, 5, 6, 7, 8, 9, 10, 11, 12, 13, 14...   \n",
       "4  [1, 2, 3, 4, 5, 6, 7, 8, 9, 10, 11, 12, 13, 14...   \n",
       "\n",
       "                                     agent_locations  \\\n",
       "0  [[[51.049592291310574, 19.27532173433335], [54...   \n",
       "1  [[[58.961398589179765, 35.28935156776581], [57...   \n",
       "2  [[[51.049592291310574, 19.27532173433335], [54...   \n",
       "3  [[[58.961398589179765, 35.28935156776581], [57...   \n",
       "4  [[[51.049592291310574, 19.27532173433335], [54...   \n",
       "\n",
       "                             subject_thorax_velocity  \\\n",
       "0  [3.035, 2.855, 2.68, 2.512, 2.348, 2.19, 2.037...   \n",
       "1  [12.37, 11.99, 11.65, 11.336, 11.06, 10.81, 10...   \n",
       "2  [3.035, 2.855, 2.68, 2.512, 2.348, 2.19, 2.037...   \n",
       "3  [12.37, 11.99, 11.65, 11.336, 11.06, 10.81, 10...   \n",
       "4  [3.035, 2.855, 2.68, 2.512, 2.348, 2.19, 2.037...   \n",
       "\n",
       "                               agent_thorax_velocity  \\\n",
       "0  [12.37, 11.99, 11.65, 11.336, 11.06, 10.81, 10...   \n",
       "1  [3.035, 2.855, 2.68, 2.512, 2.348, 2.19, 2.037...   \n",
       "2  [12.37, 11.99, 11.65, 11.336, 11.06, 10.81, 10...   \n",
       "3  [3.035, 2.855, 2.68, 2.512, 2.348, 2.19, 2.037...   \n",
       "4  [12.37, 11.99, 11.65, 11.336, 11.06, 10.81, 10...   \n",
       "\n",
       "                       subject_thorax_to_reward_port  \\\n",
       "0  [7.453, 7.25, 7.273, 7.062, 6.88, 6.617, 5.965...   \n",
       "1  [19.94, 20.16, 20.45, 20.8, 21.0, 20.98, 21.03...   \n",
       "2  [7.453, 7.25, 7.273, 7.062, 6.88, 6.617, 5.965...   \n",
       "3  [19.94, 20.16, 20.45, 20.8, 21.0, 20.98, 21.03...   \n",
       "4  [7.453, 7.25, 7.273, 7.062, 6.88, 6.617, 5.965...   \n",
       "\n",
       "                         agent_thorax_to_reward_port  \n",
       "0  [19.94, 20.16, 20.45, 20.8, 21.0, 20.98, 21.03...  \n",
       "1  [7.453, 7.25, 7.273, 7.062, 6.88, 6.617, 5.965...  \n",
       "2  [19.94, 20.16, 20.45, 20.8, 21.0, 20.98, 21.03...  \n",
       "3  [7.453, 7.25, 7.273, 7.062, 6.88, 6.617, 5.965...  \n",
       "4  [19.94, 20.16, 20.45, 20.8, 21.0, 20.98, 21.03...  \n",
       "\n",
       "[5 rows x 60 columns]"
      ]
     },
     "execution_count": 55,
     "metadata": {},
     "output_type": "execute_result"
    }
   ],
   "source": [
    "TRIALS_AND_SPECTRAL_DF.head()"
   ]
  },
  {
   "cell_type": "code",
   "execution_count": 56,
   "metadata": {},
   "outputs": [
    {
     "data": {
      "text/plain": [
       "0    1287955\n",
       "1    1287955\n",
       "2    3287980\n",
       "3    3287980\n",
       "4    4487995\n",
       "Name: tone_start_timestamp, dtype: int64"
      ]
     },
     "execution_count": 56,
     "metadata": {},
     "output_type": "execute_result"
    }
   ],
   "source": [
    "TRIALS_AND_SPECTRAL_DF[\"tone_start_timestamp\"].head()"
   ]
  },
  {
   "cell_type": "code",
   "execution_count": 57,
   "metadata": {},
   "outputs": [],
   "source": [
    "TRIALS_AND_SPECTRAL_DF[\"tone_start_timestamp\"] = TRIALS_AND_SPECTRAL_DF[\"tone_start_timestamp\"].astype(int)"
   ]
  },
  {
   "cell_type": "code",
   "execution_count": 58,
   "metadata": {},
   "outputs": [],
   "source": [
    "TRIALS_AND_SPECTRAL_DF[\"current_subject\"] = TRIALS_AND_SPECTRAL_DF[\"current_subject\"].apply(lambda x: str(x).strip())"
   ]
  },
  {
   "cell_type": "markdown",
   "metadata": {},
   "source": [
    "# Calculating the relevant timestamps"
   ]
  },
  {
   "cell_type": "code",
   "execution_count": 59,
   "metadata": {
    "tags": []
   },
   "outputs": [],
   "source": [
    "TRIALS_AND_SPECTRAL_DF[\"baseline_start_timestamp\"] = TRIALS_AND_SPECTRAL_DF[\"tone_start_timestamp\"] - 10 * EPHYS_SAMPLE_RATE"
   ]
  },
  {
   "cell_type": "code",
   "execution_count": 60,
   "metadata": {
    "tags": []
   },
   "outputs": [],
   "source": [
    "TRIALS_AND_SPECTRAL_DF[\"post_trial_end_timestamp\"] = TRIALS_AND_SPECTRAL_DF[\"tone_stop_timestamp\"] + 10 * EPHYS_SAMPLE_RATE"
   ]
  },
  {
   "cell_type": "code",
   "execution_count": 61,
   "metadata": {
    "tags": []
   },
   "outputs": [
    {
     "data": {
      "text/plain": [
       "0    1287955\n",
       "1    1287955\n",
       "2    3287980\n",
       "3    3287980\n",
       "4    4487995\n",
       "Name: tone_start_timestamp, dtype: int64"
      ]
     },
     "execution_count": 61,
     "metadata": {},
     "output_type": "execute_result"
    }
   ],
   "source": [
    "TRIALS_AND_SPECTRAL_DF[\"tone_start_timestamp\"].head()"
   ]
  },
  {
   "cell_type": "code",
   "execution_count": 62,
   "metadata": {
    "tags": []
   },
   "outputs": [
    {
     "data": {
      "text/plain": [
       "0    1287955\n",
       "1    1287955\n",
       "2    3287980\n",
       "3    3287980\n",
       "4    4487995\n",
       "Name: tone_start_timestamp, dtype: int64"
      ]
     },
     "execution_count": 62,
     "metadata": {},
     "output_type": "execute_result"
    }
   ],
   "source": [
    "TRIALS_AND_SPECTRAL_DF[\"tone_start_timestamp\"].head()"
   ]
  },
  {
   "cell_type": "code",
   "execution_count": 63,
   "metadata": {
    "tags": []
   },
   "outputs": [
    {
     "data": {
      "text/plain": [
       "0    1487958\n",
       "1    1487958\n",
       "2    3487980\n",
       "3    3487980\n",
       "4    4687995\n",
       "Name: tone_stop_timestamp, dtype: int64"
      ]
     },
     "execution_count": 63,
     "metadata": {},
     "output_type": "execute_result"
    }
   ],
   "source": [
    "TRIALS_AND_SPECTRAL_DF[\"tone_stop_timestamp\"].head()"
   ]
  },
  {
   "cell_type": "code",
   "execution_count": 64,
   "metadata": {
    "tags": []
   },
   "outputs": [
    {
     "data": {
      "text/html": [
       "<div>\n",
       "<style scoped>\n",
       "    .dataframe tbody tr th:only-of-type {\n",
       "        vertical-align: middle;\n",
       "    }\n",
       "\n",
       "    .dataframe tbody tr th {\n",
       "        vertical-align: top;\n",
       "    }\n",
       "\n",
       "    .dataframe thead th {\n",
       "        text-align: right;\n",
       "    }\n",
       "</style>\n",
       "<table border=\"1\" class=\"dataframe\">\n",
       "  <thead>\n",
       "    <tr style=\"text-align: right;\">\n",
       "      <th></th>\n",
       "      <th>tone_start_frame</th>\n",
       "      <th>reward_start</th>\n",
       "      <th>reward_dispensed</th>\n",
       "      <th>tone_stop_frame</th>\n",
       "      <th>condition</th>\n",
       "      <th>competition_closeness</th>\n",
       "      <th>get_reward_frame</th>\n",
       "      <th>out_reward_frame</th>\n",
       "      <th>experiment</th>\n",
       "      <th>video_name</th>\n",
       "      <th>...</th>\n",
       "      <th>agent</th>\n",
       "      <th>subject_locations</th>\n",
       "      <th>frame_index</th>\n",
       "      <th>agent_locations</th>\n",
       "      <th>subject_thorax_velocity</th>\n",
       "      <th>agent_thorax_velocity</th>\n",
       "      <th>subject_thorax_to_reward_port</th>\n",
       "      <th>agent_thorax_to_reward_port</th>\n",
       "      <th>baseline_start_timestamp</th>\n",
       "      <th>post_trial_end_timestamp</th>\n",
       "    </tr>\n",
       "  </thead>\n",
       "  <tbody>\n",
       "    <tr>\n",
       "      <th>0</th>\n",
       "      <td>1286</td>\n",
       "      <td>1366</td>\n",
       "      <td>1386</td>\n",
       "      <td>1486</td>\n",
       "      <td>3.3</td>\n",
       "      <td>Subj 2 then Subj 1</td>\n",
       "      <td>NaN</td>\n",
       "      <td>NaN</td>\n",
       "      <td>long_comp</td>\n",
       "      <td>20240317_151922_long_comp_subj_3-1_and_3-3.1</td>\n",
       "      <td>...</td>\n",
       "      <td>3.3</td>\n",
       "      <td>[[[58.961398589179765, 35.28935156776581], [57...</td>\n",
       "      <td>[1, 2, 3, 4, 5, 6, 7, 8, 9, 10, 11, 12, 13, 14...</td>\n",
       "      <td>[[[51.049592291310574, 19.27532173433335], [54...</td>\n",
       "      <td>[3.035, 2.855, 2.68, 2.512, 2.348, 2.19, 2.037...</td>\n",
       "      <td>[12.37, 11.99, 11.65, 11.336, 11.06, 10.81, 10...</td>\n",
       "      <td>[7.453, 7.25, 7.273, 7.062, 6.88, 6.617, 5.965...</td>\n",
       "      <td>[19.94, 20.16, 20.45, 20.8, 21.0, 20.98, 21.03...</td>\n",
       "      <td>1087955</td>\n",
       "      <td>1687958</td>\n",
       "    </tr>\n",
       "    <tr>\n",
       "      <th>1</th>\n",
       "      <td>1286</td>\n",
       "      <td>1366</td>\n",
       "      <td>1386</td>\n",
       "      <td>1486</td>\n",
       "      <td>3.3</td>\n",
       "      <td>Subj 2 then Subj 1</td>\n",
       "      <td>NaN</td>\n",
       "      <td>NaN</td>\n",
       "      <td>long_comp</td>\n",
       "      <td>20240317_151922_long_comp_subj_3-1_and_3-3.1</td>\n",
       "      <td>...</td>\n",
       "      <td>3.1</td>\n",
       "      <td>[[[51.049592291310574, 19.27532173433335], [54...</td>\n",
       "      <td>[1, 2, 3, 4, 5, 6, 7, 8, 9, 10, 11, 12, 13, 14...</td>\n",
       "      <td>[[[58.961398589179765, 35.28935156776581], [57...</td>\n",
       "      <td>[12.37, 11.99, 11.65, 11.336, 11.06, 10.81, 10...</td>\n",
       "      <td>[3.035, 2.855, 2.68, 2.512, 2.348, 2.19, 2.037...</td>\n",
       "      <td>[19.94, 20.16, 20.45, 20.8, 21.0, 20.98, 21.03...</td>\n",
       "      <td>[7.453, 7.25, 7.273, 7.062, 6.88, 6.617, 5.965...</td>\n",
       "      <td>1087955</td>\n",
       "      <td>1687958</td>\n",
       "    </tr>\n",
       "    <tr>\n",
       "      <th>2</th>\n",
       "      <td>3282</td>\n",
       "      <td>3362</td>\n",
       "      <td>3382</td>\n",
       "      <td>3482</td>\n",
       "      <td>3.1</td>\n",
       "      <td>Subj 1 Only</td>\n",
       "      <td>NaN</td>\n",
       "      <td>NaN</td>\n",
       "      <td>long_comp</td>\n",
       "      <td>20240317_151922_long_comp_subj_3-1_and_3-3.1</td>\n",
       "      <td>...</td>\n",
       "      <td>3.3</td>\n",
       "      <td>[[[58.961398589179765, 35.28935156776581], [57...</td>\n",
       "      <td>[1, 2, 3, 4, 5, 6, 7, 8, 9, 10, 11, 12, 13, 14...</td>\n",
       "      <td>[[[51.049592291310574, 19.27532173433335], [54...</td>\n",
       "      <td>[3.035, 2.855, 2.68, 2.512, 2.348, 2.19, 2.037...</td>\n",
       "      <td>[12.37, 11.99, 11.65, 11.336, 11.06, 10.81, 10...</td>\n",
       "      <td>[7.453, 7.25, 7.273, 7.062, 6.88, 6.617, 5.965...</td>\n",
       "      <td>[19.94, 20.16, 20.45, 20.8, 21.0, 20.98, 21.03...</td>\n",
       "      <td>3087980</td>\n",
       "      <td>3687980</td>\n",
       "    </tr>\n",
       "    <tr>\n",
       "      <th>3</th>\n",
       "      <td>3282</td>\n",
       "      <td>3362</td>\n",
       "      <td>3382</td>\n",
       "      <td>3482</td>\n",
       "      <td>3.1</td>\n",
       "      <td>Subj 1 Only</td>\n",
       "      <td>NaN</td>\n",
       "      <td>NaN</td>\n",
       "      <td>long_comp</td>\n",
       "      <td>20240317_151922_long_comp_subj_3-1_and_3-3.1</td>\n",
       "      <td>...</td>\n",
       "      <td>3.1</td>\n",
       "      <td>[[[51.049592291310574, 19.27532173433335], [54...</td>\n",
       "      <td>[1, 2, 3, 4, 5, 6, 7, 8, 9, 10, 11, 12, 13, 14...</td>\n",
       "      <td>[[[58.961398589179765, 35.28935156776581], [57...</td>\n",
       "      <td>[12.37, 11.99, 11.65, 11.336, 11.06, 10.81, 10...</td>\n",
       "      <td>[3.035, 2.855, 2.68, 2.512, 2.348, 2.19, 2.037...</td>\n",
       "      <td>[19.94, 20.16, 20.45, 20.8, 21.0, 20.98, 21.03...</td>\n",
       "      <td>[7.453, 7.25, 7.273, 7.062, 6.88, 6.617, 5.965...</td>\n",
       "      <td>3087980</td>\n",
       "      <td>3687980</td>\n",
       "    </tr>\n",
       "    <tr>\n",
       "      <th>4</th>\n",
       "      <td>4480</td>\n",
       "      <td>4560</td>\n",
       "      <td>4580</td>\n",
       "      <td>4679</td>\n",
       "      <td>3.1</td>\n",
       "      <td>Subj 1 Only</td>\n",
       "      <td>NaN</td>\n",
       "      <td>NaN</td>\n",
       "      <td>long_comp</td>\n",
       "      <td>20240317_151922_long_comp_subj_3-1_and_3-3.1</td>\n",
       "      <td>...</td>\n",
       "      <td>3.3</td>\n",
       "      <td>[[[58.961398589179765, 35.28935156776581], [57...</td>\n",
       "      <td>[1, 2, 3, 4, 5, 6, 7, 8, 9, 10, 11, 12, 13, 14...</td>\n",
       "      <td>[[[51.049592291310574, 19.27532173433335], [54...</td>\n",
       "      <td>[3.035, 2.855, 2.68, 2.512, 2.348, 2.19, 2.037...</td>\n",
       "      <td>[12.37, 11.99, 11.65, 11.336, 11.06, 10.81, 10...</td>\n",
       "      <td>[7.453, 7.25, 7.273, 7.062, 6.88, 6.617, 5.965...</td>\n",
       "      <td>[19.94, 20.16, 20.45, 20.8, 21.0, 20.98, 21.03...</td>\n",
       "      <td>4287995</td>\n",
       "      <td>4887995</td>\n",
       "    </tr>\n",
       "  </tbody>\n",
       "</table>\n",
       "<p>5 rows × 62 columns</p>\n",
       "</div>"
      ],
      "text/plain": [
       "   tone_start_frame  reward_start  reward_dispensed  tone_stop_frame  \\\n",
       "0              1286          1366              1386             1486   \n",
       "1              1286          1366              1386             1486   \n",
       "2              3282          3362              3382             3482   \n",
       "3              3282          3362              3382             3482   \n",
       "4              4480          4560              4580             4679   \n",
       "\n",
       "  condition competition_closeness  get_reward_frame  out_reward_frame  \\\n",
       "0       3.3    Subj 2 then Subj 1               NaN               NaN   \n",
       "1       3.3    Subj 2 then Subj 1               NaN               NaN   \n",
       "2       3.1           Subj 1 Only               NaN               NaN   \n",
       "3       3.1           Subj 1 Only               NaN               NaN   \n",
       "4       3.1           Subj 1 Only               NaN               NaN   \n",
       "\n",
       "  experiment                                    video_name  ...  agent  \\\n",
       "0  long_comp  20240317_151922_long_comp_subj_3-1_and_3-3.1  ...    3.3   \n",
       "1  long_comp  20240317_151922_long_comp_subj_3-1_and_3-3.1  ...    3.1   \n",
       "2  long_comp  20240317_151922_long_comp_subj_3-1_and_3-3.1  ...    3.3   \n",
       "3  long_comp  20240317_151922_long_comp_subj_3-1_and_3-3.1  ...    3.1   \n",
       "4  long_comp  20240317_151922_long_comp_subj_3-1_and_3-3.1  ...    3.3   \n",
       "\n",
       "                                   subject_locations  \\\n",
       "0  [[[58.961398589179765, 35.28935156776581], [57...   \n",
       "1  [[[51.049592291310574, 19.27532173433335], [54...   \n",
       "2  [[[58.961398589179765, 35.28935156776581], [57...   \n",
       "3  [[[51.049592291310574, 19.27532173433335], [54...   \n",
       "4  [[[58.961398589179765, 35.28935156776581], [57...   \n",
       "\n",
       "                                         frame_index  \\\n",
       "0  [1, 2, 3, 4, 5, 6, 7, 8, 9, 10, 11, 12, 13, 14...   \n",
       "1  [1, 2, 3, 4, 5, 6, 7, 8, 9, 10, 11, 12, 13, 14...   \n",
       "2  [1, 2, 3, 4, 5, 6, 7, 8, 9, 10, 11, 12, 13, 14...   \n",
       "3  [1, 2, 3, 4, 5, 6, 7, 8, 9, 10, 11, 12, 13, 14...   \n",
       "4  [1, 2, 3, 4, 5, 6, 7, 8, 9, 10, 11, 12, 13, 14...   \n",
       "\n",
       "                                     agent_locations  \\\n",
       "0  [[[51.049592291310574, 19.27532173433335], [54...   \n",
       "1  [[[58.961398589179765, 35.28935156776581], [57...   \n",
       "2  [[[51.049592291310574, 19.27532173433335], [54...   \n",
       "3  [[[58.961398589179765, 35.28935156776581], [57...   \n",
       "4  [[[51.049592291310574, 19.27532173433335], [54...   \n",
       "\n",
       "                             subject_thorax_velocity  \\\n",
       "0  [3.035, 2.855, 2.68, 2.512, 2.348, 2.19, 2.037...   \n",
       "1  [12.37, 11.99, 11.65, 11.336, 11.06, 10.81, 10...   \n",
       "2  [3.035, 2.855, 2.68, 2.512, 2.348, 2.19, 2.037...   \n",
       "3  [12.37, 11.99, 11.65, 11.336, 11.06, 10.81, 10...   \n",
       "4  [3.035, 2.855, 2.68, 2.512, 2.348, 2.19, 2.037...   \n",
       "\n",
       "                               agent_thorax_velocity  \\\n",
       "0  [12.37, 11.99, 11.65, 11.336, 11.06, 10.81, 10...   \n",
       "1  [3.035, 2.855, 2.68, 2.512, 2.348, 2.19, 2.037...   \n",
       "2  [12.37, 11.99, 11.65, 11.336, 11.06, 10.81, 10...   \n",
       "3  [3.035, 2.855, 2.68, 2.512, 2.348, 2.19, 2.037...   \n",
       "4  [12.37, 11.99, 11.65, 11.336, 11.06, 10.81, 10...   \n",
       "\n",
       "                       subject_thorax_to_reward_port  \\\n",
       "0  [7.453, 7.25, 7.273, 7.062, 6.88, 6.617, 5.965...   \n",
       "1  [19.94, 20.16, 20.45, 20.8, 21.0, 20.98, 21.03...   \n",
       "2  [7.453, 7.25, 7.273, 7.062, 6.88, 6.617, 5.965...   \n",
       "3  [19.94, 20.16, 20.45, 20.8, 21.0, 20.98, 21.03...   \n",
       "4  [7.453, 7.25, 7.273, 7.062, 6.88, 6.617, 5.965...   \n",
       "\n",
       "                         agent_thorax_to_reward_port baseline_start_timestamp  \\\n",
       "0  [19.94, 20.16, 20.45, 20.8, 21.0, 20.98, 21.03...                  1087955   \n",
       "1  [7.453, 7.25, 7.273, 7.062, 6.88, 6.617, 5.965...                  1087955   \n",
       "2  [19.94, 20.16, 20.45, 20.8, 21.0, 20.98, 21.03...                  3087980   \n",
       "3  [7.453, 7.25, 7.273, 7.062, 6.88, 6.617, 5.965...                  3087980   \n",
       "4  [19.94, 20.16, 20.45, 20.8, 21.0, 20.98, 21.03...                  4287995   \n",
       "\n",
       "  post_trial_end_timestamp  \n",
       "0                  1687958  \n",
       "1                  1687958  \n",
       "2                  3687980  \n",
       "3                  3687980  \n",
       "4                  4887995  \n",
       "\n",
       "[5 rows x 62 columns]"
      ]
     },
     "execution_count": 64,
     "metadata": {},
     "output_type": "execute_result"
    }
   ],
   "source": [
    "TRIALS_AND_SPECTRAL_DF.head()"
   ]
  },
  {
   "cell_type": "markdown",
   "metadata": {},
   "source": [
    "# Filtering out the SLEAP posed for during trials"
   ]
  },
  {
   "cell_type": "code",
   "execution_count": 65,
   "metadata": {
    "tags": []
   },
   "outputs": [],
   "source": [
    "TRIALS_AND_SPECTRAL_DF[\"video_frame\"] = TRIALS_AND_SPECTRAL_DF[\"video_timestamps\"].apply(lambda x: np.array(list(range(len(x)))) + 1)"
   ]
  },
  {
   "cell_type": "code",
   "execution_count": 66,
   "metadata": {
    "tags": []
   },
   "outputs": [
    {
     "data": {
      "text/plain": [
       "0    (45736,)\n",
       "1    (45736,)\n",
       "2    (45736,)\n",
       "3    (45736,)\n",
       "4    (45736,)\n",
       "Name: video_frame, dtype: object"
      ]
     },
     "execution_count": 66,
     "metadata": {},
     "output_type": "execute_result"
    }
   ],
   "source": [
    "TRIALS_AND_SPECTRAL_DF[\"video_frame\"].head().apply(lambda x: x.shape)"
   ]
  },
  {
   "cell_type": "code",
   "execution_count": 67,
   "metadata": {
    "tags": []
   },
   "outputs": [],
   "source": [
    "sleap_columns = [col for col in TRIALS_AND_SPECTRAL_DF.columns if (\"thorax\" in col or \"nose\" in col or \"standard_embedding\" in col or \"frame_index\" in col or \"locations\" in col or \"tailbase\" in col or \"competitiveness\" in col) and \"timestamp\" not in col and \"dict\" not in col]\n"
   ]
  },
  {
   "cell_type": "code",
   "execution_count": 68,
   "metadata": {
    "tags": []
   },
   "outputs": [
    {
     "data": {
      "text/plain": [
       "['subject_locations',\n",
       " 'frame_index',\n",
       " 'agent_locations',\n",
       " 'subject_thorax_velocity',\n",
       " 'agent_thorax_velocity',\n",
       " 'subject_thorax_to_reward_port',\n",
       " 'agent_thorax_to_reward_port']"
      ]
     },
     "execution_count": 68,
     "metadata": {},
     "output_type": "execute_result"
    }
   ],
   "source": [
    "sleap_columns"
   ]
  },
  {
   "cell_type": "code",
   "execution_count": 69,
   "metadata": {
    "tags": []
   },
   "outputs": [
    {
     "name": "stdout",
     "output_type": "stream",
     "text": [
      "subject_locations\n",
      "0    (45736, 6, 2)\n",
      "1    (45736, 6, 2)\n",
      "2    (45736, 6, 2)\n",
      "3    (45736, 6, 2)\n",
      "4    (45736, 6, 2)\n",
      "Name: subject_locations, dtype: object\n",
      "frame_index\n",
      "0    (45736,)\n",
      "1    (45736,)\n",
      "2    (45736,)\n",
      "3    (45736,)\n",
      "4    (45736,)\n",
      "Name: frame_index, dtype: object\n",
      "agent_locations\n",
      "0    (45736, 6, 2)\n",
      "1    (45736, 6, 2)\n",
      "2    (45736, 6, 2)\n",
      "3    (45736, 6, 2)\n",
      "4    (45736, 6, 2)\n",
      "Name: agent_locations, dtype: object\n",
      "subject_thorax_velocity\n",
      "0    (45736,)\n",
      "1    (45736,)\n",
      "2    (45736,)\n",
      "3    (45736,)\n",
      "4    (45736,)\n",
      "Name: subject_thorax_velocity, dtype: object\n",
      "agent_thorax_velocity\n",
      "0    (45736,)\n",
      "1    (45736,)\n",
      "2    (45736,)\n",
      "3    (45736,)\n",
      "4    (45736,)\n",
      "Name: agent_thorax_velocity, dtype: object\n",
      "subject_thorax_to_reward_port\n",
      "0    (45736,)\n",
      "1    (45736,)\n",
      "2    (45736,)\n",
      "3    (45736,)\n",
      "4    (45736,)\n",
      "Name: subject_thorax_to_reward_port, dtype: object\n",
      "agent_thorax_to_reward_port\n",
      "0    (45736,)\n",
      "1    (45736,)\n",
      "2    (45736,)\n",
      "3    (45736,)\n",
      "4    (45736,)\n",
      "Name: agent_thorax_to_reward_port, dtype: object\n"
     ]
    }
   ],
   "source": [
    "for col in sleap_columns:\n",
    "    print(col)\n",
    "    print(TRIALS_AND_SPECTRAL_DF[TRIALS_AND_SPECTRAL_DF[\"condition\"] != \"rewarded\"][col].apply(lambda x: x.shape if isinstance(x, np.ndarray) else np.nan).head())"
   ]
  },
  {
   "cell_type": "code",
   "execution_count": 70,
   "metadata": {},
   "outputs": [
    {
     "data": {
      "text/plain": [
       "Index(['tone_start_frame', 'reward_start', 'reward_dispensed',\n",
       "       'tone_stop_frame', 'condition', 'competition_closeness',\n",
       "       'get_reward_frame', 'out_reward_frame', 'experiment', 'video_name',\n",
       "       'tone_start_timestamp', 'tone_stop_timestamp', 'cohort', 'session_dir',\n",
       "       'tone_frames', 'box_1_port_entry_frames', 'box_2_port_entry_frames',\n",
       "       'notes', 'session_path', 'recording', 'current_subject', 'subject',\n",
       "       'all_subjects', 'first_timestamp', 'last_timestamp', 'video_timestamps',\n",
       "       'tone_timestamps', 'box_1_port_entry_timestamps',\n",
       "       'box_2_port_entry_timestamps', 'lfp_timestamps', 'vHPC_lfp_trace',\n",
       "       'BLA_lfp_trace', 'LH_lfp_trace', 'MD_lfp_trace', 'mPFC_lfp_trace',\n",
       "       'recording_name', 'spike_clusters', 'spike_times', 'neuron_average_fr',\n",
       "       'neuron_average_timestamps', 'start_frame', 'stop_frame',\n",
       "       'tracked_subject', 'in_video_subjects', 'box_number', 'sleap_name',\n",
       "       'body_parts', 'box_bottom_right', 'reward_port', 'box_top_left',\n",
       "       'box_top_right', 'box_bottom_left', 'agent', 'subject_locations',\n",
       "       'frame_index', 'agent_locations', 'subject_thorax_velocity',\n",
       "       'agent_thorax_velocity', 'subject_thorax_to_reward_port',\n",
       "       'agent_thorax_to_reward_port', 'baseline_start_timestamp',\n",
       "       'post_trial_end_timestamp', 'video_frame'],\n",
       "      dtype='object')"
      ]
     },
     "execution_count": 70,
     "metadata": {},
     "output_type": "execute_result"
    }
   ],
   "source": [
    "TRIALS_AND_SPECTRAL_DF.columns"
   ]
  },
  {
   "cell_type": "code",
   "execution_count": 71,
   "metadata": {
    "tags": []
   },
   "outputs": [
    {
     "name": "stdout",
     "output_type": "stream",
     "text": [
      "trial_agent_locations\n",
      "trial_agent_thorax_to_reward_port\n",
      "trial_agent_thorax_velocity\n",
      "trial_frame_index\n",
      "trial_subject_locations\n",
      "trial_subject_thorax_to_reward_port\n",
      "trial_subject_thorax_velocity\n"
     ]
    }
   ],
   "source": [
    "for col in sorted(sleap_columns):\n",
    "    updated_item_col = \"trial_{}\".format(col)\n",
    "    print(updated_item_col)\n",
    "    updated_timestamp_col = \"trial_video_timestamps\"\n",
    "    TRIALS_AND_SPECTRAL_DF[updated_item_col] = TRIALS_AND_SPECTRAL_DF.apply(lambda x: utilities.helper.filter_by_timestamp_range(start=x[\"tone_start_timestamp\"], stop=x[\"tone_stop_timestamp\"], timestamps=x[\"video_timestamps\"], items=x[col])[1] if isinstance(x[\"video_timestamps\"], np.ndarray) else np.nan, axis=1)\n",
    "\n",
    "TRIALS_AND_SPECTRAL_DF[updated_timestamp_col] = TRIALS_AND_SPECTRAL_DF.apply(lambda x: utilities.helper.filter_by_timestamp_range(start=x[\"tone_start_timestamp\"], stop=x[\"tone_stop_timestamp\"], timestamps=x[\"video_timestamps\"], items=x[col])[0] if isinstance(x[\"video_timestamps\"], np.ndarray) else np.nan, axis=1)"
   ]
  },
  {
   "cell_type": "code",
   "execution_count": null,
   "metadata": {},
   "outputs": [],
   "source": []
  },
  {
   "cell_type": "code",
   "execution_count": 72,
   "metadata": {},
   "outputs": [
    {
     "name": "stdout",
     "output_type": "stream",
     "text": [
      "baseline_agent_locations\n",
      "baseline_agent_thorax_to_reward_port\n",
      "baseline_agent_thorax_velocity\n",
      "baseline_frame_index\n",
      "baseline_subject_locations\n",
      "baseline_subject_thorax_to_reward_port\n",
      "baseline_subject_thorax_velocity\n"
     ]
    }
   ],
   "source": [
    "for col in sorted(sleap_columns):\n",
    "    updated_item_col = \"baseline_{}\".format(col)\n",
    "    print(updated_item_col)\n",
    "    updated_timestamp_col = \"baseline_video_timestamps\"\n",
    "    TRIALS_AND_SPECTRAL_DF[updated_item_col] = TRIALS_AND_SPECTRAL_DF.apply(lambda x: utilities.helper.filter_by_timestamp_range(start=x[\"baseline_start_timestamp\"], stop=x[\"tone_start_timestamp\"], timestamps=x[\"video_timestamps\"], items=x[col])[1] if isinstance(x[\"video_timestamps\"], np.ndarray) else np.nan, axis=1)\n",
    "\n",
    "TRIALS_AND_SPECTRAL_DF[updated_timestamp_col] = TRIALS_AND_SPECTRAL_DF.apply(lambda x: utilities.helper.filter_by_timestamp_range(start=x[\"baseline_start_timestamp\"], stop=x[\"tone_start_timestamp\"], timestamps=x[\"video_timestamps\"], items=x[col])[0] if isinstance(x[\"video_timestamps\"], np.ndarray) else np.nan, axis=1)"
   ]
  },
  {
   "cell_type": "code",
   "execution_count": 73,
   "metadata": {
    "tags": []
   },
   "outputs": [
    {
     "data": {
      "text/html": [
       "<div>\n",
       "<style scoped>\n",
       "    .dataframe tbody tr th:only-of-type {\n",
       "        vertical-align: middle;\n",
       "    }\n",
       "\n",
       "    .dataframe tbody tr th {\n",
       "        vertical-align: top;\n",
       "    }\n",
       "\n",
       "    .dataframe thead th {\n",
       "        text-align: right;\n",
       "    }\n",
       "</style>\n",
       "<table border=\"1\" class=\"dataframe\">\n",
       "  <thead>\n",
       "    <tr style=\"text-align: right;\">\n",
       "      <th></th>\n",
       "      <th>tone_start_frame</th>\n",
       "      <th>reward_start</th>\n",
       "      <th>reward_dispensed</th>\n",
       "      <th>tone_stop_frame</th>\n",
       "      <th>condition</th>\n",
       "      <th>competition_closeness</th>\n",
       "      <th>get_reward_frame</th>\n",
       "      <th>out_reward_frame</th>\n",
       "      <th>experiment</th>\n",
       "      <th>video_name</th>\n",
       "      <th>...</th>\n",
       "      <th>trial_subject_thorax_velocity</th>\n",
       "      <th>trial_video_timestamps</th>\n",
       "      <th>baseline_agent_locations</th>\n",
       "      <th>baseline_agent_thorax_to_reward_port</th>\n",
       "      <th>baseline_agent_thorax_velocity</th>\n",
       "      <th>baseline_frame_index</th>\n",
       "      <th>baseline_subject_locations</th>\n",
       "      <th>baseline_subject_thorax_to_reward_port</th>\n",
       "      <th>baseline_subject_thorax_velocity</th>\n",
       "      <th>baseline_video_timestamps</th>\n",
       "    </tr>\n",
       "  </thead>\n",
       "  <tbody>\n",
       "    <tr>\n",
       "      <th>0</th>\n",
       "      <td>1286</td>\n",
       "      <td>1366</td>\n",
       "      <td>1386</td>\n",
       "      <td>1486</td>\n",
       "      <td>3.3</td>\n",
       "      <td>Subj 2 then Subj 1</td>\n",
       "      <td>NaN</td>\n",
       "      <td>NaN</td>\n",
       "      <td>long_comp</td>\n",
       "      <td>20240317_151922_long_comp_subj_3-1_and_3-3.1</td>\n",
       "      <td>...</td>\n",
       "      <td>[2.088, 2.21, 2.37, 2.525, 2.686, 2.781, 2.83,...</td>\n",
       "      <td>[1288857, 1288857, 1290243, 1291629, 1291629, ...</td>\n",
       "      <td>[[[47.32329934790797, 13.40804063234078], [46....</td>\n",
       "      <td>[27.48, 27.6, 27.6, 27.6, 27.61, 27.61, 27.61,...</td>\n",
       "      <td>[3.97, 3.36, 2.844, 2.33, 1.876, 1.488, 1.177,...</td>\n",
       "      <td>[1088.0, 1089.0, 1090.0, 1091.0, 1092.0, 1093....</td>\n",
       "      <td>[[[61.61018887260965, 36.23981343180496], [58....</td>\n",
       "      <td>[5.04, 5.047, 5.043, 5.03, 5.04, 5.04, 5.03, 5...</td>\n",
       "      <td>[0.592, 0.535, 0.4746, 0.4119, 0.3462, 0.2942,...</td>\n",
       "      <td>[1089292, 1089292, 1090678, 1092063, 1093449, ...</td>\n",
       "    </tr>\n",
       "    <tr>\n",
       "      <th>1</th>\n",
       "      <td>1286</td>\n",
       "      <td>1366</td>\n",
       "      <td>1386</td>\n",
       "      <td>1486</td>\n",
       "      <td>3.3</td>\n",
       "      <td>Subj 2 then Subj 1</td>\n",
       "      <td>NaN</td>\n",
       "      <td>NaN</td>\n",
       "      <td>long_comp</td>\n",
       "      <td>20240317_151922_long_comp_subj_3-1_and_3-3.1</td>\n",
       "      <td>...</td>\n",
       "      <td>[0.8057, 1.038, 1.263, 1.474, 1.6455, 1.753, 1...</td>\n",
       "      <td>[1288857, 1288857, 1290243, 1291629, 1291629, ...</td>\n",
       "      <td>[[[61.61018887260965, 36.23981343180496], [58....</td>\n",
       "      <td>[5.04, 5.047, 5.043, 5.03, 5.04, 5.04, 5.03, 5...</td>\n",
       "      <td>[0.592, 0.535, 0.4746, 0.4119, 0.3462, 0.2942,...</td>\n",
       "      <td>[1088.0, 1089.0, 1090.0, 1091.0, 1092.0, 1093....</td>\n",
       "      <td>[[[47.32329934790797, 13.40804063234078], [46....</td>\n",
       "      <td>[27.48, 27.6, 27.6, 27.6, 27.61, 27.61, 27.61,...</td>\n",
       "      <td>[3.97, 3.36, 2.844, 2.33, 1.876, 1.488, 1.177,...</td>\n",
       "      <td>[1089292, 1089292, 1090678, 1092063, 1093449, ...</td>\n",
       "    </tr>\n",
       "    <tr>\n",
       "      <th>2</th>\n",
       "      <td>3282</td>\n",
       "      <td>3362</td>\n",
       "      <td>3382</td>\n",
       "      <td>3482</td>\n",
       "      <td>3.1</td>\n",
       "      <td>Subj 1 Only</td>\n",
       "      <td>NaN</td>\n",
       "      <td>NaN</td>\n",
       "      <td>long_comp</td>\n",
       "      <td>20240317_151922_long_comp_subj_3-1_and_3-3.1</td>\n",
       "      <td>...</td>\n",
       "      <td>[1.07, 1.044, 0.979, 0.887, 0.7646, 0.613, 0.4...</td>\n",
       "      <td>[3288667, 3288667, 3290053, 3291438, 3292824, ...</td>\n",
       "      <td>[[[64.57511078487119, 13.578025427299137], [67...</td>\n",
       "      <td>[24.42, 24.67, 24.72, 24.6, 24.5, 24.58, 24.62...</td>\n",
       "      <td>[7.008, 7.08, 7.145, 7.207, 7.258, 7.23, 7.113...</td>\n",
       "      <td>[3084.0, 3085.0, 3086.0, 3087.0, 3088.0, 3089....</td>\n",
       "      <td>[[[49.56347454661353, 39.209700156326015], [46...</td>\n",
       "      <td>[10.914, 10.92, 10.73, 10.5, 10.69, 10.9, 10.8...</td>\n",
       "      <td>[3.572, 3.482, 3.357, 3.195, 3.0, 2.781, 2.535...</td>\n",
       "      <td>[3089101, 3089101, 3090487, 3091873, 3093259, ...</td>\n",
       "    </tr>\n",
       "    <tr>\n",
       "      <th>3</th>\n",
       "      <td>3282</td>\n",
       "      <td>3362</td>\n",
       "      <td>3382</td>\n",
       "      <td>3482</td>\n",
       "      <td>3.1</td>\n",
       "      <td>Subj 1 Only</td>\n",
       "      <td>NaN</td>\n",
       "      <td>NaN</td>\n",
       "      <td>long_comp</td>\n",
       "      <td>20240317_151922_long_comp_subj_3-1_and_3-3.1</td>\n",
       "      <td>...</td>\n",
       "      <td>[8.75, 8.47, 8.16, 7.836, 7.48, 7.156, 6.793, ...</td>\n",
       "      <td>[3288667, 3288667, 3290053, 3291438, 3292824, ...</td>\n",
       "      <td>[[[49.56347454661353, 39.209700156326015], [46...</td>\n",
       "      <td>[10.914, 10.92, 10.73, 10.5, 10.69, 10.9, 10.8...</td>\n",
       "      <td>[3.572, 3.482, 3.357, 3.195, 3.0, 2.781, 2.535...</td>\n",
       "      <td>[3084.0, 3085.0, 3086.0, 3087.0, 3088.0, 3089....</td>\n",
       "      <td>[[[64.57511078487119, 13.578025427299137], [67...</td>\n",
       "      <td>[24.42, 24.67, 24.72, 24.6, 24.5, 24.58, 24.62...</td>\n",
       "      <td>[7.008, 7.08, 7.145, 7.207, 7.258, 7.23, 7.113...</td>\n",
       "      <td>[3089101, 3089101, 3090487, 3091873, 3093259, ...</td>\n",
       "    </tr>\n",
       "    <tr>\n",
       "      <th>4</th>\n",
       "      <td>4480</td>\n",
       "      <td>4560</td>\n",
       "      <td>4580</td>\n",
       "      <td>4679</td>\n",
       "      <td>3.1</td>\n",
       "      <td>Subj 1 Only</td>\n",
       "      <td>NaN</td>\n",
       "      <td>NaN</td>\n",
       "      <td>long_comp</td>\n",
       "      <td>20240317_151922_long_comp_subj_3-1_and_3-3.1</td>\n",
       "      <td>...</td>\n",
       "      <td>[0.211, 0.2566, 0.276, 0.3174, 0.3132, 0.2764,...</td>\n",
       "      <td>[4488830, 4488830, 4490216, 4491601, 4492351, ...</td>\n",
       "      <td>[[[62.851787097898, 36.10868185024038], [61.39...</td>\n",
       "      <td>[6.305, 6.457, 6.457, 6.453, 6.227, 5.785, 5.3...</td>\n",
       "      <td>[1.689, 1.897, 2.055, 2.193, 2.31, 2.404, 2.47...</td>\n",
       "      <td>[4282.0, 4283.0, 4284.0, 4285.0, 4286.0, 4287....</td>\n",
       "      <td>[[[76.40203405981883, 16.48636114635069], [71....</td>\n",
       "      <td>[28.27, 26.19, 25.61, 25.22, 24.17, 22.88, 21....</td>\n",
       "      <td>[13.46, 13.79, 14.055, 14.27, 14.47, 14.62, 14...</td>\n",
       "      <td>[4289264, 4290650, 4290650, 4292036, 4293422, ...</td>\n",
       "    </tr>\n",
       "  </tbody>\n",
       "</table>\n",
       "<p>5 rows × 79 columns</p>\n",
       "</div>"
      ],
      "text/plain": [
       "   tone_start_frame  reward_start  reward_dispensed  tone_stop_frame  \\\n",
       "0              1286          1366              1386             1486   \n",
       "1              1286          1366              1386             1486   \n",
       "2              3282          3362              3382             3482   \n",
       "3              3282          3362              3382             3482   \n",
       "4              4480          4560              4580             4679   \n",
       "\n",
       "  condition competition_closeness  get_reward_frame  out_reward_frame  \\\n",
       "0       3.3    Subj 2 then Subj 1               NaN               NaN   \n",
       "1       3.3    Subj 2 then Subj 1               NaN               NaN   \n",
       "2       3.1           Subj 1 Only               NaN               NaN   \n",
       "3       3.1           Subj 1 Only               NaN               NaN   \n",
       "4       3.1           Subj 1 Only               NaN               NaN   \n",
       "\n",
       "  experiment                                    video_name  ...  \\\n",
       "0  long_comp  20240317_151922_long_comp_subj_3-1_and_3-3.1  ...   \n",
       "1  long_comp  20240317_151922_long_comp_subj_3-1_and_3-3.1  ...   \n",
       "2  long_comp  20240317_151922_long_comp_subj_3-1_and_3-3.1  ...   \n",
       "3  long_comp  20240317_151922_long_comp_subj_3-1_and_3-3.1  ...   \n",
       "4  long_comp  20240317_151922_long_comp_subj_3-1_and_3-3.1  ...   \n",
       "\n",
       "                       trial_subject_thorax_velocity  \\\n",
       "0  [2.088, 2.21, 2.37, 2.525, 2.686, 2.781, 2.83,...   \n",
       "1  [0.8057, 1.038, 1.263, 1.474, 1.6455, 1.753, 1...   \n",
       "2  [1.07, 1.044, 0.979, 0.887, 0.7646, 0.613, 0.4...   \n",
       "3  [8.75, 8.47, 8.16, 7.836, 7.48, 7.156, 6.793, ...   \n",
       "4  [0.211, 0.2566, 0.276, 0.3174, 0.3132, 0.2764,...   \n",
       "\n",
       "                              trial_video_timestamps  \\\n",
       "0  [1288857, 1288857, 1290243, 1291629, 1291629, ...   \n",
       "1  [1288857, 1288857, 1290243, 1291629, 1291629, ...   \n",
       "2  [3288667, 3288667, 3290053, 3291438, 3292824, ...   \n",
       "3  [3288667, 3288667, 3290053, 3291438, 3292824, ...   \n",
       "4  [4488830, 4488830, 4490216, 4491601, 4492351, ...   \n",
       "\n",
       "                            baseline_agent_locations  \\\n",
       "0  [[[47.32329934790797, 13.40804063234078], [46....   \n",
       "1  [[[61.61018887260965, 36.23981343180496], [58....   \n",
       "2  [[[64.57511078487119, 13.578025427299137], [67...   \n",
       "3  [[[49.56347454661353, 39.209700156326015], [46...   \n",
       "4  [[[62.851787097898, 36.10868185024038], [61.39...   \n",
       "\n",
       "                baseline_agent_thorax_to_reward_port  \\\n",
       "0  [27.48, 27.6, 27.6, 27.6, 27.61, 27.61, 27.61,...   \n",
       "1  [5.04, 5.047, 5.043, 5.03, 5.04, 5.04, 5.03, 5...   \n",
       "2  [24.42, 24.67, 24.72, 24.6, 24.5, 24.58, 24.62...   \n",
       "3  [10.914, 10.92, 10.73, 10.5, 10.69, 10.9, 10.8...   \n",
       "4  [6.305, 6.457, 6.457, 6.453, 6.227, 5.785, 5.3...   \n",
       "\n",
       "                      baseline_agent_thorax_velocity  \\\n",
       "0  [3.97, 3.36, 2.844, 2.33, 1.876, 1.488, 1.177,...   \n",
       "1  [0.592, 0.535, 0.4746, 0.4119, 0.3462, 0.2942,...   \n",
       "2  [7.008, 7.08, 7.145, 7.207, 7.258, 7.23, 7.113...   \n",
       "3  [3.572, 3.482, 3.357, 3.195, 3.0, 2.781, 2.535...   \n",
       "4  [1.689, 1.897, 2.055, 2.193, 2.31, 2.404, 2.47...   \n",
       "\n",
       "                                baseline_frame_index  \\\n",
       "0  [1088.0, 1089.0, 1090.0, 1091.0, 1092.0, 1093....   \n",
       "1  [1088.0, 1089.0, 1090.0, 1091.0, 1092.0, 1093....   \n",
       "2  [3084.0, 3085.0, 3086.0, 3087.0, 3088.0, 3089....   \n",
       "3  [3084.0, 3085.0, 3086.0, 3087.0, 3088.0, 3089....   \n",
       "4  [4282.0, 4283.0, 4284.0, 4285.0, 4286.0, 4287....   \n",
       "\n",
       "                          baseline_subject_locations  \\\n",
       "0  [[[61.61018887260965, 36.23981343180496], [58....   \n",
       "1  [[[47.32329934790797, 13.40804063234078], [46....   \n",
       "2  [[[49.56347454661353, 39.209700156326015], [46...   \n",
       "3  [[[64.57511078487119, 13.578025427299137], [67...   \n",
       "4  [[[76.40203405981883, 16.48636114635069], [71....   \n",
       "\n",
       "              baseline_subject_thorax_to_reward_port  \\\n",
       "0  [5.04, 5.047, 5.043, 5.03, 5.04, 5.04, 5.03, 5...   \n",
       "1  [27.48, 27.6, 27.6, 27.6, 27.61, 27.61, 27.61,...   \n",
       "2  [10.914, 10.92, 10.73, 10.5, 10.69, 10.9, 10.8...   \n",
       "3  [24.42, 24.67, 24.72, 24.6, 24.5, 24.58, 24.62...   \n",
       "4  [28.27, 26.19, 25.61, 25.22, 24.17, 22.88, 21....   \n",
       "\n",
       "                    baseline_subject_thorax_velocity  \\\n",
       "0  [0.592, 0.535, 0.4746, 0.4119, 0.3462, 0.2942,...   \n",
       "1  [3.97, 3.36, 2.844, 2.33, 1.876, 1.488, 1.177,...   \n",
       "2  [3.572, 3.482, 3.357, 3.195, 3.0, 2.781, 2.535...   \n",
       "3  [7.008, 7.08, 7.145, 7.207, 7.258, 7.23, 7.113...   \n",
       "4  [13.46, 13.79, 14.055, 14.27, 14.47, 14.62, 14...   \n",
       "\n",
       "                           baseline_video_timestamps  \n",
       "0  [1089292, 1089292, 1090678, 1092063, 1093449, ...  \n",
       "1  [1089292, 1089292, 1090678, 1092063, 1093449, ...  \n",
       "2  [3089101, 3089101, 3090487, 3091873, 3093259, ...  \n",
       "3  [3089101, 3089101, 3090487, 3091873, 3093259, ...  \n",
       "4  [4289264, 4290650, 4290650, 4292036, 4293422, ...  \n",
       "\n",
       "[5 rows x 79 columns]"
      ]
     },
     "execution_count": 73,
     "metadata": {},
     "output_type": "execute_result"
    }
   ],
   "source": [
    "TRIALS_AND_SPECTRAL_DF[TRIALS_AND_SPECTRAL_DF[\"condition\"] != \"rewarded\"].head()"
   ]
  },
  {
   "cell_type": "code",
   "execution_count": 74,
   "metadata": {
    "tags": []
   },
   "outputs": [
    {
     "data": {
      "text/plain": [
       "(200,)"
      ]
     },
     "execution_count": 74,
     "metadata": {},
     "output_type": "execute_result"
    }
   ],
   "source": [
    "TRIALS_AND_SPECTRAL_DF[TRIALS_AND_SPECTRAL_DF[\"condition\"] != \"rewarded\"][\"trial_frame_index\"].iloc[0].shape"
   ]
  },
  {
   "cell_type": "code",
   "execution_count": 75,
   "metadata": {
    "tags": []
   },
   "outputs": [],
   "source": [
    "TRIALS_AND_SPECTRAL_DF = TRIALS_AND_SPECTRAL_DF.drop(columns=sleap_columns + [\"video_timestamps\"], errors=\"ignore\")"
   ]
  },
  {
   "cell_type": "code",
   "execution_count": 76,
   "metadata": {
    "tags": []
   },
   "outputs": [
    {
     "name": "stdout",
     "output_type": "stream",
     "text": [
      "tone_start_frame\n",
      "reward_start\n",
      "reward_dispensed\n",
      "tone_stop_frame\n",
      "condition\n",
      "competition_closeness\n",
      "get_reward_frame\n",
      "out_reward_frame\n",
      "experiment\n",
      "video_name\n",
      "tone_start_timestamp\n",
      "tone_stop_timestamp\n",
      "cohort\n",
      "session_dir\n",
      "tone_frames\n",
      "box_1_port_entry_frames\n",
      "box_2_port_entry_frames\n",
      "notes\n",
      "session_path\n",
      "recording\n",
      "current_subject\n",
      "subject\n",
      "all_subjects\n",
      "first_timestamp\n",
      "last_timestamp\n",
      "tone_timestamps\n",
      "box_1_port_entry_timestamps\n",
      "box_2_port_entry_timestamps\n",
      "lfp_timestamps\n",
      "vHPC_lfp_trace\n",
      "BLA_lfp_trace\n",
      "LH_lfp_trace\n",
      "MD_lfp_trace\n",
      "mPFC_lfp_trace\n",
      "recording_name\n",
      "spike_clusters\n",
      "spike_times\n",
      "neuron_average_fr\n",
      "neuron_average_timestamps\n",
      "start_frame\n",
      "stop_frame\n",
      "tracked_subject\n",
      "in_video_subjects\n",
      "box_number\n",
      "sleap_name\n",
      "body_parts\n",
      "box_bottom_right\n",
      "reward_port\n",
      "box_top_left\n",
      "box_top_right\n",
      "box_bottom_left\n",
      "agent\n",
      "baseline_start_timestamp\n",
      "post_trial_end_timestamp\n",
      "video_frame\n",
      "trial_agent_locations\n",
      "trial_agent_thorax_to_reward_port\n",
      "trial_agent_thorax_velocity\n",
      "trial_frame_index\n",
      "trial_subject_locations\n",
      "trial_subject_thorax_to_reward_port\n",
      "trial_subject_thorax_velocity\n",
      "trial_video_timestamps\n",
      "baseline_agent_locations\n",
      "baseline_agent_thorax_to_reward_port\n",
      "baseline_agent_thorax_velocity\n",
      "baseline_frame_index\n",
      "baseline_subject_locations\n",
      "baseline_subject_thorax_to_reward_port\n",
      "baseline_subject_thorax_velocity\n",
      "baseline_video_timestamps\n"
     ]
    }
   ],
   "source": [
    "for col in TRIALS_AND_SPECTRAL_DF.columns:\n",
    "    print(col)"
   ]
  },
  {
   "cell_type": "markdown",
   "metadata": {},
   "source": [
    "# Filtering out spikes"
   ]
  },
  {
   "cell_type": "code",
   "execution_count": 77,
   "metadata": {},
   "outputs": [],
   "source": [
    "TRIALS_AND_SPECTRAL_DF[\"baseline_spike_times\"] = TRIALS_AND_SPECTRAL_DF.apply(lambda x: filter_spike_times(x[\"spike_times\"], start=x[\"baseline_start_timestamp\"], stop=x[\"tone_start_timestamp\"]).astype(int), axis=1)\n"
   ]
  },
  {
   "cell_type": "code",
   "execution_count": 78,
   "metadata": {},
   "outputs": [],
   "source": [
    "TRIALS_AND_SPECTRAL_DF[\"trial_spike_times\"] = TRIALS_AND_SPECTRAL_DF.apply(lambda x: filter_spike_times(x[\"spike_times\"], start=x[\"tone_start_timestamp\"], stop=x[\"tone_stop_timestamp\"]).astype(int), axis=1)\n"
   ]
  },
  {
   "cell_type": "code",
   "execution_count": 79,
   "metadata": {},
   "outputs": [
    {
     "data": {
      "text/plain": [
       "0    1287955\n",
       "1    1287955\n",
       "2    3287980\n",
       "3    3287980\n",
       "4    4487995\n",
       "Name: tone_start_timestamp, dtype: int64"
      ]
     },
     "execution_count": 79,
     "metadata": {},
     "output_type": "execute_result"
    }
   ],
   "source": [
    "TRIALS_AND_SPECTRAL_DF[\"tone_start_timestamp\"].head()"
   ]
  },
  {
   "cell_type": "code",
   "execution_count": 80,
   "metadata": {},
   "outputs": [
    {
     "data": {
      "text/plain": [
       "0    1087955\n",
       "1    1087955\n",
       "2    3087980\n",
       "3    3087980\n",
       "4    4287995\n",
       "Name: baseline_start_timestamp, dtype: int64"
      ]
     },
     "execution_count": 80,
     "metadata": {},
     "output_type": "execute_result"
    }
   ],
   "source": [
    "TRIALS_AND_SPECTRAL_DF[\"baseline_start_timestamp\"].head()"
   ]
  },
  {
   "cell_type": "code",
   "execution_count": 81,
   "metadata": {},
   "outputs": [
    {
     "data": {
      "text/plain": [
       "array([[1103189, 1109287, 1110845, ...,      -1,      -1,      -1],\n",
       "       [1095217, 1112469, 1171563, ...,      -1,      -1,      -1],\n",
       "       [1206532, 1217592, 1217739, ...,      -1,      -1,      -1],\n",
       "       ...,\n",
       "       [1286593,      -1,      -1, ...,      -1,      -1,      -1],\n",
       "       [1088149, 1089336, 1090000, ..., 1286711, 1287104, 1287638],\n",
       "       [1088616, 1091484, 1093964, ...,      -1,      -1,      -1]])"
      ]
     },
     "execution_count": 81,
     "metadata": {},
     "output_type": "execute_result"
    }
   ],
   "source": [
    "TRIALS_AND_SPECTRAL_DF[\"baseline_spike_times\"].iloc[0]"
   ]
  },
  {
   "cell_type": "code",
   "execution_count": 82,
   "metadata": {},
   "outputs": [],
   "source": [
    "TRIALS_AND_SPECTRAL_DF[\"baseline_neuron_average_fr\"] = TRIALS_AND_SPECTRAL_DF.apply(lambda x: utilities.helper.filter_by_timestamp_range(start=x[\"baseline_start_timestamp\"], stop=x[\"tone_start_timestamp\"], timestamps=x[\"neuron_average_timestamps\"], items=x[\"neuron_average_fr\"].T)[1], axis=1)\n",
    "TRIALS_AND_SPECTRAL_DF[\"baseline_neuron_average_timestamp\"] = TRIALS_AND_SPECTRAL_DF.apply(lambda x: utilities.helper.filter_by_timestamp_range(start=x[\"baseline_start_timestamp\"], stop=x[\"tone_start_timestamp\"], timestamps=x[\"neuron_average_timestamps\"], items=x[\"neuron_average_fr\"].T)[0], axis=1)"
   ]
  },
  {
   "cell_type": "code",
   "execution_count": 83,
   "metadata": {},
   "outputs": [],
   "source": [
    "TRIALS_AND_SPECTRAL_DF[\"trial_neuron_average_fr\"] = TRIALS_AND_SPECTRAL_DF.apply(lambda x: utilities.helper.filter_by_timestamp_range(start=x[\"tone_start_timestamp\"], stop=x[\"tone_stop_timestamp\"], timestamps=x[\"neuron_average_timestamps\"], items=x[\"neuron_average_fr\"].T)[1].T, axis=1)\n",
    "TRIALS_AND_SPECTRAL_DF[\"trial_neuron_average_timestamp\"] = TRIALS_AND_SPECTRAL_DF.apply(lambda x: utilities.helper.filter_by_timestamp_range(start=x[\"tone_start_timestamp\"], stop=x[\"tone_stop_timestamp\"], timestamps=x[\"neuron_average_timestamps\"], items=x[\"neuron_average_fr\"].T)[0], axis=1)"
   ]
  },
  {
   "cell_type": "code",
   "execution_count": 84,
   "metadata": {},
   "outputs": [],
   "source": [
    "TRIALS_AND_SPECTRAL_DF = TRIALS_AND_SPECTRAL_DF.drop(columns=[\"spike_clusters\", \"spike_times\", \"neuron_average_fr\", \"neuron_average_timestamps\",], errors=\"ignore\")"
   ]
  },
  {
   "cell_type": "code",
   "execution_count": 85,
   "metadata": {},
   "outputs": [
    {
     "data": {
      "text/plain": [
       "(7, 100)"
      ]
     },
     "execution_count": 85,
     "metadata": {},
     "output_type": "execute_result"
    }
   ],
   "source": [
    "TRIALS_AND_SPECTRAL_DF[\"trial_neuron_average_fr\"].iloc[0].shape"
   ]
  },
  {
   "cell_type": "code",
   "execution_count": 86,
   "metadata": {},
   "outputs": [
    {
     "data": {
      "text/plain": [
       "(100,)"
      ]
     },
     "execution_count": 86,
     "metadata": {},
     "output_type": "execute_result"
    }
   ],
   "source": [
    "TRIALS_AND_SPECTRAL_DF[\"trial_neuron_average_timestamp\"].iloc[0].shape"
   ]
  },
  {
   "cell_type": "code",
   "execution_count": null,
   "metadata": {},
   "outputs": [],
   "source": []
  },
  {
   "cell_type": "markdown",
   "metadata": {},
   "source": [
    "- Filtering coherence"
   ]
  },
  {
   "cell_type": "code",
   "execution_count": 87,
   "metadata": {
    "tags": []
   },
   "outputs": [],
   "source": [
    "coherence_columns = [col for col in TRIALS_AND_SPECTRAL_DF.columns if \"coherence\" in col and \"timestamps\" not in col and \"calculation\" not in col]"
   ]
  },
  {
   "cell_type": "code",
   "execution_count": 88,
   "metadata": {
    "tags": []
   },
   "outputs": [
    {
     "data": {
      "text/plain": [
       "[]"
      ]
     },
     "execution_count": 88,
     "metadata": {},
     "output_type": "execute_result"
    }
   ],
   "source": [
    "coherence_columns"
   ]
  },
  {
   "cell_type": "code",
   "execution_count": 89,
   "metadata": {
    "tags": []
   },
   "outputs": [],
   "source": [
    "try:\n",
    "    for col in sorted(coherence_columns):\n",
    "        updated_item_col = \"trial_{}\".format(col)\n",
    "        print(updated_item_col)\n",
    "        updated_timestamp_col = \"trial_coherence_timestamps\"\n",
    "        TRIALS_AND_SPECTRAL_DF[updated_item_col] = TRIALS_AND_SPECTRAL_DF.apply(lambda x: utilities.helper.filter_by_timestamp_range(start=x[\"tone_start_timestamp\"], stop=x[\"tone_stop_timestamp\"], timestamps=x[\"coherence_timestamps\"], items=x[col])[1], axis=1)\n",
    "\n",
    "    TRIALS_AND_SPECTRAL_DF[updated_timestamp_col] = TRIALS_AND_SPECTRAL_DF.apply(lambda x: utilities.helper.filter_by_timestamp_range(start=x[\"tone_start_timestamp\"], stop=x[\"tone_stop_timestamp\"], timestamps=x[\"coherence_timestamps\"], items=x[col])[0], axis=1)\n",
    "except:\n",
    "    pass"
   ]
  },
  {
   "cell_type": "code",
   "execution_count": 90,
   "metadata": {},
   "outputs": [],
   "source": [
    "try:\n",
    "    for col in sorted(coherence_columns):\n",
    "        updated_item_col = \"baseline_{}\".format(col)\n",
    "        print(updated_item_col)\n",
    "        updated_timestamp_col = \"baseline_coherence_timestamps\"\n",
    "        TRIALS_AND_SPECTRAL_DF[updated_item_col] = TRIALS_AND_SPECTRAL_DF.apply(lambda x: utilities.helper.filter_by_timestamp_range(start=x[\"baseline_start_timestamp\"], stop=x[\"tone_start_timestamp\"], timestamps=x[\"coherence_timestamps\"], items=x[col])[1], axis=1)\n",
    "\n",
    "    TRIALS_AND_SPECTRAL_DF[updated_timestamp_col] = TRIALS_AND_SPECTRAL_DF.apply(lambda x: utilities.helper.filter_by_timestamp_range(start=x[\"baseline_start_timestamp\"], stop=x[\"tone_start_timestamp\"], timestamps=x[\"coherence_timestamps\"], items=x[col])[0], axis=1)\n",
    "except:\n",
    "    pass"
   ]
  },
  {
   "cell_type": "code",
   "execution_count": 91,
   "metadata": {
    "tags": []
   },
   "outputs": [],
   "source": [
    "TRIALS_AND_SPECTRAL_DF = TRIALS_AND_SPECTRAL_DF.drop(columns=coherence_columns + [\"coherence_timestamps\"], errors=\"ignore\")"
   ]
  },
  {
   "cell_type": "markdown",
   "metadata": {},
   "source": [
    "- Filtering Grangers"
   ]
  },
  {
   "cell_type": "code",
   "execution_count": 92,
   "metadata": {
    "tags": []
   },
   "outputs": [],
   "source": [
    "granger_columns = [col for col in TRIALS_AND_SPECTRAL_DF.columns if \"granger\" in col and \"timestamps\" not in col and \"calculation\" not in col]"
   ]
  },
  {
   "cell_type": "code",
   "execution_count": 93,
   "metadata": {
    "tags": []
   },
   "outputs": [
    {
     "data": {
      "text/plain": [
       "[]"
      ]
     },
     "execution_count": 93,
     "metadata": {},
     "output_type": "execute_result"
    }
   ],
   "source": [
    "granger_columns"
   ]
  },
  {
   "cell_type": "code",
   "execution_count": 94,
   "metadata": {
    "tags": []
   },
   "outputs": [],
   "source": [
    "try:\n",
    "    for col in sorted(granger_columns):\n",
    "        updated_item_col = \"trial_{}\".format(col)\n",
    "        print(updated_item_col)\n",
    "        updated_timestamp_col = \"trial_granger_timestamps\"\n",
    "        TRIALS_AND_SPECTRAL_DF[updated_item_col] = TRIALS_AND_SPECTRAL_DF.apply(lambda x: utilities.helper.filter_by_timestamp_range(start=x[\"tone_start_timestamp\"], stop=x[\"tone_stop_timestamp\"], timestamps=x[\"granger_timestamps\"], items=x[col])[1], axis=1)\n",
    "\n",
    "    TRIALS_AND_SPECTRAL_DF[updated_timestamp_col] = TRIALS_AND_SPECTRAL_DF.apply(lambda x: utilities.helper.filter_by_timestamp_range(start=x[\"tone_start_timestamp\"], stop=x[\"tone_stop_timestamp\"], timestamps=x[\"granger_timestamps\"], items=x[col])[0], axis=1)\n",
    "except:\n",
    "    pass"
   ]
  },
  {
   "cell_type": "code",
   "execution_count": 95,
   "metadata": {},
   "outputs": [],
   "source": [
    "try:\n",
    "    for col in sorted(granger_columns):\n",
    "        updated_item_col = \"baseline_{}\".format(col)\n",
    "        print(updated_item_col)\n",
    "        updated_timestamp_col = \"baseline_granger_timestamps\"\n",
    "        TRIALS_AND_SPECTRAL_DF[updated_item_col] = TRIALS_AND_SPECTRAL_DF.apply(lambda x: utilities.helper.filter_by_timestamp_range(start=x[\"baseline_start_timestamp\"], stop=x[\"tone_start_timestamp\"], timestamps=x[\"granger_timestamps\"], items=x[col])[1], axis=1)\n",
    "\n",
    "    TRIALS_AND_SPECTRAL_DF[updated_timestamp_col] = TRIALS_AND_SPECTRAL_DF.apply(lambda x: utilities.helper.filter_by_timestamp_range(start=x[\"baseline_start_timestamp\"], stop=x[\"tone_start_timestamp\"], timestamps=x[\"granger_timestamps\"], items=x[col])[0], axis=1)\n",
    "except:\n",
    "    pass"
   ]
  },
  {
   "cell_type": "code",
   "execution_count": 96,
   "metadata": {
    "tags": []
   },
   "outputs": [],
   "source": [
    "TRIALS_AND_SPECTRAL_DF = TRIALS_AND_SPECTRAL_DF.drop(columns=granger_columns + [\"granger_timestamps\"], errors=\"ignore\")"
   ]
  },
  {
   "cell_type": "markdown",
   "metadata": {},
   "source": [
    "- Filtering power"
   ]
  },
  {
   "cell_type": "code",
   "execution_count": 97,
   "metadata": {},
   "outputs": [
    {
     "data": {
      "text/html": [
       "<div>\n",
       "<style scoped>\n",
       "    .dataframe tbody tr th:only-of-type {\n",
       "        vertical-align: middle;\n",
       "    }\n",
       "\n",
       "    .dataframe tbody tr th {\n",
       "        vertical-align: top;\n",
       "    }\n",
       "\n",
       "    .dataframe thead th {\n",
       "        text-align: right;\n",
       "    }\n",
       "</style>\n",
       "<table border=\"1\" class=\"dataframe\">\n",
       "  <thead>\n",
       "    <tr style=\"text-align: right;\">\n",
       "      <th></th>\n",
       "      <th>tone_start_frame</th>\n",
       "      <th>reward_start</th>\n",
       "      <th>reward_dispensed</th>\n",
       "      <th>tone_stop_frame</th>\n",
       "      <th>condition</th>\n",
       "      <th>competition_closeness</th>\n",
       "      <th>get_reward_frame</th>\n",
       "      <th>out_reward_frame</th>\n",
       "      <th>experiment</th>\n",
       "      <th>video_name</th>\n",
       "      <th>...</th>\n",
       "      <th>baseline_subject_locations</th>\n",
       "      <th>baseline_subject_thorax_to_reward_port</th>\n",
       "      <th>baseline_subject_thorax_velocity</th>\n",
       "      <th>baseline_video_timestamps</th>\n",
       "      <th>baseline_spike_times</th>\n",
       "      <th>trial_spike_times</th>\n",
       "      <th>baseline_neuron_average_fr</th>\n",
       "      <th>baseline_neuron_average_timestamp</th>\n",
       "      <th>trial_neuron_average_fr</th>\n",
       "      <th>trial_neuron_average_timestamp</th>\n",
       "    </tr>\n",
       "  </thead>\n",
       "  <tbody>\n",
       "    <tr>\n",
       "      <th>0</th>\n",
       "      <td>1286</td>\n",
       "      <td>1366</td>\n",
       "      <td>1386</td>\n",
       "      <td>1486</td>\n",
       "      <td>3.3</td>\n",
       "      <td>Subj 2 then Subj 1</td>\n",
       "      <td>NaN</td>\n",
       "      <td>NaN</td>\n",
       "      <td>long_comp</td>\n",
       "      <td>20240317_151922_long_comp_subj_3-1_and_3-3.1</td>\n",
       "      <td>...</td>\n",
       "      <td>[[[61.61018887260965, 36.23981343180496], [58....</td>\n",
       "      <td>[5.04, 5.047, 5.043, 5.03, 5.04, 5.04, 5.03, 5...</td>\n",
       "      <td>[0.592, 0.535, 0.4746, 0.4119, 0.3462, 0.2942,...</td>\n",
       "      <td>[1089292, 1089292, 1090678, 1092063, 1093449, ...</td>\n",
       "      <td>[[1103189, 1109287, 1110845, 1114071, 1115581,...</td>\n",
       "      <td>[[1289740, 1294804, 1297689, 1302014, 1302321,...</td>\n",
       "      <td>[[0.0, 0.0, 0.0, 1.0, 0.0, 2.0, 1.0], [0.0, 0....</td>\n",
       "      <td>[1088000, 1090000, 1092000, 1094000, 1096000, ...</td>\n",
       "      <td>[[1.0, 0.0, 0.0, 1.0, 1.0, 0.0, 0.0, 3.0, 0.0,...</td>\n",
       "      <td>[1288000, 1290000, 1292000, 1294000, 1296000, ...</td>\n",
       "    </tr>\n",
       "    <tr>\n",
       "      <th>1</th>\n",
       "      <td>1286</td>\n",
       "      <td>1366</td>\n",
       "      <td>1386</td>\n",
       "      <td>1486</td>\n",
       "      <td>3.3</td>\n",
       "      <td>Subj 2 then Subj 1</td>\n",
       "      <td>NaN</td>\n",
       "      <td>NaN</td>\n",
       "      <td>long_comp</td>\n",
       "      <td>20240317_151922_long_comp_subj_3-1_and_3-3.1</td>\n",
       "      <td>...</td>\n",
       "      <td>[[[47.32329934790797, 13.40804063234078], [46....</td>\n",
       "      <td>[27.48, 27.6, 27.6, 27.6, 27.61, 27.61, 27.61,...</td>\n",
       "      <td>[3.97, 3.36, 2.844, 2.33, 1.876, 1.488, 1.177,...</td>\n",
       "      <td>[1089292, 1089292, 1090678, 1092063, 1093449, ...</td>\n",
       "      <td>[[1114212, 1167836, -1, -1, -1, -1, -1, -1, -1...</td>\n",
       "      <td>[[1348287, 1469314, -1, -1, -1, -1, -1, -1, -1...</td>\n",
       "      <td>[[0.0, 0.0, 1.0, 0.0, 0.0, 0.0, 0.0, 0.0, 0.0,...</td>\n",
       "      <td>[1088000, 1090000, 1092000, 1094000, 1096000, ...</td>\n",
       "      <td>[[0.0, 0.0, 0.0, 0.0, 0.0, 0.0, 0.0, 0.0, 0.0,...</td>\n",
       "      <td>[1288000, 1290000, 1292000, 1294000, 1296000, ...</td>\n",
       "    </tr>\n",
       "    <tr>\n",
       "      <th>2</th>\n",
       "      <td>3282</td>\n",
       "      <td>3362</td>\n",
       "      <td>3382</td>\n",
       "      <td>3482</td>\n",
       "      <td>3.1</td>\n",
       "      <td>Subj 1 Only</td>\n",
       "      <td>NaN</td>\n",
       "      <td>NaN</td>\n",
       "      <td>long_comp</td>\n",
       "      <td>20240317_151922_long_comp_subj_3-1_and_3-3.1</td>\n",
       "      <td>...</td>\n",
       "      <td>[[[49.56347454661353, 39.209700156326015], [46...</td>\n",
       "      <td>[10.914, 10.92, 10.73, 10.5, 10.69, 10.9, 10.8...</td>\n",
       "      <td>[3.572, 3.482, 3.357, 3.195, 3.0, 2.781, 2.535...</td>\n",
       "      <td>[3089101, 3089101, 3090487, 3091873, 3093259, ...</td>\n",
       "      <td>[[3091969, 3097498, 3099161, 3101809, 3102274,...</td>\n",
       "      <td>[[3298338, 3300915, 3308044, 3312927, 3322024,...</td>\n",
       "      <td>[[0.0, 0.0, 0.0, 2.0, 0.0, 3.0, 1.0], [1.0, 0....</td>\n",
       "      <td>[3088000, 3090000, 3092000, 3094000, 3096000, ...</td>\n",
       "      <td>[[0.0, 0.0, 0.0, 0.0, 0.0, 1.0, 1.0, 0.0, 0.0,...</td>\n",
       "      <td>[3288000, 3290000, 3292000, 3294000, 3296000, ...</td>\n",
       "    </tr>\n",
       "    <tr>\n",
       "      <th>3</th>\n",
       "      <td>3282</td>\n",
       "      <td>3362</td>\n",
       "      <td>3382</td>\n",
       "      <td>3482</td>\n",
       "      <td>3.1</td>\n",
       "      <td>Subj 1 Only</td>\n",
       "      <td>NaN</td>\n",
       "      <td>NaN</td>\n",
       "      <td>long_comp</td>\n",
       "      <td>20240317_151922_long_comp_subj_3-1_and_3-3.1</td>\n",
       "      <td>...</td>\n",
       "      <td>[[[64.57511078487119, 13.578025427299137], [67...</td>\n",
       "      <td>[24.42, 24.67, 24.72, 24.6, 24.5, 24.58, 24.62...</td>\n",
       "      <td>[7.008, 7.08, 7.145, 7.207, 7.258, 7.23, 7.113...</td>\n",
       "      <td>[3089101, 3089101, 3090487, 3091873, 3093259, ...</td>\n",
       "      <td>[[3096843, -1, -1, -1, -1, -1, -1, -1, -1, -1,...</td>\n",
       "      <td>[[-1, -1, -1, -1, -1, -1, -1, -1, -1, -1, -1, ...</td>\n",
       "      <td>[[0.0, 0.0, 0.0, 0.0, 0.0, 0.0, 0.0, 2.0, 2.0,...</td>\n",
       "      <td>[3088000, 3090000, 3092000, 3094000, 3096000, ...</td>\n",
       "      <td>[[0.0, 0.0, 0.0, 0.0, 0.0, 0.0, 0.0, 0.0, 0.0,...</td>\n",
       "      <td>[3288000, 3290000, 3292000, 3294000, 3296000, ...</td>\n",
       "    </tr>\n",
       "    <tr>\n",
       "      <th>4</th>\n",
       "      <td>4480</td>\n",
       "      <td>4560</td>\n",
       "      <td>4580</td>\n",
       "      <td>4679</td>\n",
       "      <td>3.1</td>\n",
       "      <td>Subj 1 Only</td>\n",
       "      <td>NaN</td>\n",
       "      <td>NaN</td>\n",
       "      <td>long_comp</td>\n",
       "      <td>20240317_151922_long_comp_subj_3-1_and_3-3.1</td>\n",
       "      <td>...</td>\n",
       "      <td>[[[76.40203405981883, 16.48636114635069], [71....</td>\n",
       "      <td>[28.27, 26.19, 25.61, 25.22, 24.17, 22.88, 21....</td>\n",
       "      <td>[13.46, 13.79, 14.055, 14.27, 14.47, 14.62, 14...</td>\n",
       "      <td>[4289264, 4290650, 4290650, 4292036, 4293422, ...</td>\n",
       "      <td>[[4310086, 4312107, 4323688, 4331381, 4335574,...</td>\n",
       "      <td>[[4494910, 4500834, 4526144, 4533592, 4534776,...</td>\n",
       "      <td>[[0.0, 0.0, 1.0, 0.0, 0.0, 3.0, 1.0], [0.0, 0....</td>\n",
       "      <td>[4288000, 4290000, 4292000, 4294000, 4296000, ...</td>\n",
       "      <td>[[0.0, 0.0, 0.0, 1.0, 0.0, 0.0, 1.0, 0.0, 0.0,...</td>\n",
       "      <td>[4488000, 4490000, 4492000, 4494000, 4496000, ...</td>\n",
       "    </tr>\n",
       "  </tbody>\n",
       "</table>\n",
       "<p>5 rows × 73 columns</p>\n",
       "</div>"
      ],
      "text/plain": [
       "   tone_start_frame  reward_start  reward_dispensed  tone_stop_frame  \\\n",
       "0              1286          1366              1386             1486   \n",
       "1              1286          1366              1386             1486   \n",
       "2              3282          3362              3382             3482   \n",
       "3              3282          3362              3382             3482   \n",
       "4              4480          4560              4580             4679   \n",
       "\n",
       "  condition competition_closeness  get_reward_frame  out_reward_frame  \\\n",
       "0       3.3    Subj 2 then Subj 1               NaN               NaN   \n",
       "1       3.3    Subj 2 then Subj 1               NaN               NaN   \n",
       "2       3.1           Subj 1 Only               NaN               NaN   \n",
       "3       3.1           Subj 1 Only               NaN               NaN   \n",
       "4       3.1           Subj 1 Only               NaN               NaN   \n",
       "\n",
       "  experiment                                    video_name  ...  \\\n",
       "0  long_comp  20240317_151922_long_comp_subj_3-1_and_3-3.1  ...   \n",
       "1  long_comp  20240317_151922_long_comp_subj_3-1_and_3-3.1  ...   \n",
       "2  long_comp  20240317_151922_long_comp_subj_3-1_and_3-3.1  ...   \n",
       "3  long_comp  20240317_151922_long_comp_subj_3-1_and_3-3.1  ...   \n",
       "4  long_comp  20240317_151922_long_comp_subj_3-1_and_3-3.1  ...   \n",
       "\n",
       "                          baseline_subject_locations  \\\n",
       "0  [[[61.61018887260965, 36.23981343180496], [58....   \n",
       "1  [[[47.32329934790797, 13.40804063234078], [46....   \n",
       "2  [[[49.56347454661353, 39.209700156326015], [46...   \n",
       "3  [[[64.57511078487119, 13.578025427299137], [67...   \n",
       "4  [[[76.40203405981883, 16.48636114635069], [71....   \n",
       "\n",
       "              baseline_subject_thorax_to_reward_port  \\\n",
       "0  [5.04, 5.047, 5.043, 5.03, 5.04, 5.04, 5.03, 5...   \n",
       "1  [27.48, 27.6, 27.6, 27.6, 27.61, 27.61, 27.61,...   \n",
       "2  [10.914, 10.92, 10.73, 10.5, 10.69, 10.9, 10.8...   \n",
       "3  [24.42, 24.67, 24.72, 24.6, 24.5, 24.58, 24.62...   \n",
       "4  [28.27, 26.19, 25.61, 25.22, 24.17, 22.88, 21....   \n",
       "\n",
       "                    baseline_subject_thorax_velocity  \\\n",
       "0  [0.592, 0.535, 0.4746, 0.4119, 0.3462, 0.2942,...   \n",
       "1  [3.97, 3.36, 2.844, 2.33, 1.876, 1.488, 1.177,...   \n",
       "2  [3.572, 3.482, 3.357, 3.195, 3.0, 2.781, 2.535...   \n",
       "3  [7.008, 7.08, 7.145, 7.207, 7.258, 7.23, 7.113...   \n",
       "4  [13.46, 13.79, 14.055, 14.27, 14.47, 14.62, 14...   \n",
       "\n",
       "                           baseline_video_timestamps  \\\n",
       "0  [1089292, 1089292, 1090678, 1092063, 1093449, ...   \n",
       "1  [1089292, 1089292, 1090678, 1092063, 1093449, ...   \n",
       "2  [3089101, 3089101, 3090487, 3091873, 3093259, ...   \n",
       "3  [3089101, 3089101, 3090487, 3091873, 3093259, ...   \n",
       "4  [4289264, 4290650, 4290650, 4292036, 4293422, ...   \n",
       "\n",
       "                                baseline_spike_times  \\\n",
       "0  [[1103189, 1109287, 1110845, 1114071, 1115581,...   \n",
       "1  [[1114212, 1167836, -1, -1, -1, -1, -1, -1, -1...   \n",
       "2  [[3091969, 3097498, 3099161, 3101809, 3102274,...   \n",
       "3  [[3096843, -1, -1, -1, -1, -1, -1, -1, -1, -1,...   \n",
       "4  [[4310086, 4312107, 4323688, 4331381, 4335574,...   \n",
       "\n",
       "                                   trial_spike_times  \\\n",
       "0  [[1289740, 1294804, 1297689, 1302014, 1302321,...   \n",
       "1  [[1348287, 1469314, -1, -1, -1, -1, -1, -1, -1...   \n",
       "2  [[3298338, 3300915, 3308044, 3312927, 3322024,...   \n",
       "3  [[-1, -1, -1, -1, -1, -1, -1, -1, -1, -1, -1, ...   \n",
       "4  [[4494910, 4500834, 4526144, 4533592, 4534776,...   \n",
       "\n",
       "                          baseline_neuron_average_fr  \\\n",
       "0  [[0.0, 0.0, 0.0, 1.0, 0.0, 2.0, 1.0], [0.0, 0....   \n",
       "1  [[0.0, 0.0, 1.0, 0.0, 0.0, 0.0, 0.0, 0.0, 0.0,...   \n",
       "2  [[0.0, 0.0, 0.0, 2.0, 0.0, 3.0, 1.0], [1.0, 0....   \n",
       "3  [[0.0, 0.0, 0.0, 0.0, 0.0, 0.0, 0.0, 2.0, 2.0,...   \n",
       "4  [[0.0, 0.0, 1.0, 0.0, 0.0, 3.0, 1.0], [0.0, 0....   \n",
       "\n",
       "                   baseline_neuron_average_timestamp  \\\n",
       "0  [1088000, 1090000, 1092000, 1094000, 1096000, ...   \n",
       "1  [1088000, 1090000, 1092000, 1094000, 1096000, ...   \n",
       "2  [3088000, 3090000, 3092000, 3094000, 3096000, ...   \n",
       "3  [3088000, 3090000, 3092000, 3094000, 3096000, ...   \n",
       "4  [4288000, 4290000, 4292000, 4294000, 4296000, ...   \n",
       "\n",
       "                             trial_neuron_average_fr  \\\n",
       "0  [[1.0, 0.0, 0.0, 1.0, 1.0, 0.0, 0.0, 3.0, 0.0,...   \n",
       "1  [[0.0, 0.0, 0.0, 0.0, 0.0, 0.0, 0.0, 0.0, 0.0,...   \n",
       "2  [[0.0, 0.0, 0.0, 0.0, 0.0, 1.0, 1.0, 0.0, 0.0,...   \n",
       "3  [[0.0, 0.0, 0.0, 0.0, 0.0, 0.0, 0.0, 0.0, 0.0,...   \n",
       "4  [[0.0, 0.0, 0.0, 1.0, 0.0, 0.0, 1.0, 0.0, 0.0,...   \n",
       "\n",
       "                      trial_neuron_average_timestamp  \n",
       "0  [1288000, 1290000, 1292000, 1294000, 1296000, ...  \n",
       "1  [1288000, 1290000, 1292000, 1294000, 1296000, ...  \n",
       "2  [3288000, 3290000, 3292000, 3294000, 3296000, ...  \n",
       "3  [3288000, 3290000, 3292000, 3294000, 3296000, ...  \n",
       "4  [4488000, 4490000, 4492000, 4494000, 4496000, ...  \n",
       "\n",
       "[5 rows x 73 columns]"
      ]
     },
     "execution_count": 97,
     "metadata": {},
     "output_type": "execute_result"
    }
   ],
   "source": [
    "TRIALS_AND_SPECTRAL_DF.head()"
   ]
  },
  {
   "cell_type": "code",
   "execution_count": 98,
   "metadata": {
    "tags": []
   },
   "outputs": [],
   "source": [
    "power_columns = [col for col in TRIALS_AND_SPECTRAL_DF.columns if \"power\" in col and \"timestamps\" not in col and \"calculation\" not in col]"
   ]
  },
  {
   "cell_type": "code",
   "execution_count": 99,
   "metadata": {
    "tags": []
   },
   "outputs": [
    {
     "data": {
      "text/plain": [
       "[]"
      ]
     },
     "execution_count": 99,
     "metadata": {},
     "output_type": "execute_result"
    }
   ],
   "source": [
    "power_columns"
   ]
  },
  {
   "cell_type": "code",
   "execution_count": 100,
   "metadata": {
    "tags": []
   },
   "outputs": [],
   "source": [
    "try:\n",
    "    for col in sorted(power_columns):\n",
    "        updated_item_col = \"trial_{}\".format(col)\n",
    "        print(updated_item_col)\n",
    "        updated_timestamp_col = \"trial_power_timestamps\"\n",
    "        TRIALS_AND_SPECTRAL_DF[updated_item_col] = TRIALS_AND_SPECTRAL_DF.apply(lambda x: utilities.helper.filter_by_timestamp_range(start=x[\"tone_start_timestamp\"], stop=x[\"tone_stop_timestamp\"], timestamps=x[\"power_timestamps\"], items=x[col])[1], axis=1)\n",
    "\n",
    "    TRIALS_AND_SPECTRAL_DF[updated_timestamp_col] = TRIALS_AND_SPECTRAL_DF.apply(lambda x: utilities.helper.filter_by_timestamp_range(start=x[\"tone_start_timestamp\"], stop=x[\"tone_stop_timestamp\"], timestamps=x[\"power_timestamps\"], items=x[col])[0], axis=1)\n",
    "except:\n",
    "    pass"
   ]
  },
  {
   "cell_type": "code",
   "execution_count": 101,
   "metadata": {},
   "outputs": [],
   "source": [
    "try:\n",
    "    for col in sorted(power_columns):\n",
    "        updated_item_col = \"baseline_{}\".format(col)\n",
    "        print(updated_item_col)\n",
    "        updated_timestamp_col = \"baseline_power_timestamps\"\n",
    "        TRIALS_AND_SPECTRAL_DF[updated_item_col] = TRIALS_AND_SPECTRAL_DF.apply(lambda x: utilities.helper.filter_by_timestamp_range(start=x[\"baseline_start_timestamp\"], stop=x[\"tone_start_timestamp\"], timestamps=x[\"power_timestamps\"], items=x[col])[1], axis=1)\n",
    "\n",
    "    TRIALS_AND_SPECTRAL_DF[updated_timestamp_col] = TRIALS_AND_SPECTRAL_DF.apply(lambda x: utilities.helper.filter_by_timestamp_range(start=x[\"baseline_start_timestamp\"], stop=x[\"tone_start_timestamp\"], timestamps=x[\"power_timestamps\"], items=x[col])[0], axis=1)\n",
    "except:\n",
    "    pass"
   ]
  },
  {
   "cell_type": "code",
   "execution_count": 102,
   "metadata": {
    "tags": []
   },
   "outputs": [],
   "source": [
    "TRIALS_AND_SPECTRAL_DF = TRIALS_AND_SPECTRAL_DF.drop(columns=power_columns + [\"power_timestamps\"], errors=\"ignore\")"
   ]
  },
  {
   "cell_type": "markdown",
   "metadata": {
    "tags": []
   },
   "source": [
    "# Filtering out phase"
   ]
  },
  {
   "cell_type": "code",
   "execution_count": 103,
   "metadata": {
    "tags": []
   },
   "outputs": [],
   "source": [
    "lfp_columns = [col for col in TRIALS_AND_SPECTRAL_DF.columns if \"trace\" in col and \"timestamps\" not in col and \"calculation\" not in col]"
   ]
  },
  {
   "cell_type": "code",
   "execution_count": 104,
   "metadata": {
    "tags": []
   },
   "outputs": [],
   "source": [
    "band_columns = [col for col in TRIALS_AND_SPECTRAL_DF.columns if \"band\" in col and \"timestamps\" not in col and \"calculation\" not in col]"
   ]
  },
  {
   "cell_type": "code",
   "execution_count": 105,
   "metadata": {
    "tags": []
   },
   "outputs": [],
   "source": [
    "phase_columns = [col for col in TRIALS_AND_SPECTRAL_DF.columns if \"phase\" in col and \"timestamps\" not in col and \"calculation\" not in col]"
   ]
  },
  {
   "cell_type": "code",
   "execution_count": 106,
   "metadata": {
    "tags": []
   },
   "outputs": [],
   "source": [
    "phase_columns = phase_columns + band_columns +lfp_columns"
   ]
  },
  {
   "cell_type": "code",
   "execution_count": 107,
   "metadata": {
    "tags": []
   },
   "outputs": [
    {
     "data": {
      "text/plain": [
       "['vHPC_lfp_trace',\n",
       " 'BLA_lfp_trace',\n",
       " 'LH_lfp_trace',\n",
       " 'MD_lfp_trace',\n",
       " 'mPFC_lfp_trace']"
      ]
     },
     "execution_count": 107,
     "metadata": {},
     "output_type": "execute_result"
    }
   ],
   "source": [
    "phase_columns"
   ]
  },
  {
   "cell_type": "code",
   "execution_count": 108,
   "metadata": {
    "tags": []
   },
   "outputs": [
    {
     "name": "stdout",
     "output_type": "stream",
     "text": [
      "trial_BLA_lfp_trace\n",
      "trial_LH_lfp_trace\n",
      "trial_MD_lfp_trace\n",
      "trial_mPFC_lfp_trace\n",
      "trial_vHPC_lfp_trace\n"
     ]
    }
   ],
   "source": [
    "try:\n",
    "    for col in sorted(phase_columns):\n",
    "        updated_item_col = \"trial_{}\".format(col)\n",
    "        print(updated_item_col)\n",
    "        updated_timestamp_col = \"trial_lfp_timestamps\"\n",
    "        TRIALS_AND_SPECTRAL_DF[updated_item_col] = TRIALS_AND_SPECTRAL_DF.apply(lambda x: utilities.helper.filter_by_timestamp_range(start=x[\"tone_start_timestamp\"], stop=x[\"tone_stop_timestamp\"], timestamps=x[\"lfp_timestamps\"], items=x[col])[1], axis=1)\n",
    "\n",
    "    TRIALS_AND_SPECTRAL_DF[updated_timestamp_col] = TRIALS_AND_SPECTRAL_DF.apply(lambda x: utilities.helper.filter_by_timestamp_range(start=x[\"tone_start_timestamp\"], stop=x[\"tone_stop_timestamp\"], timestamps=x[\"lfp_timestamps\"], items=x[col])[0], axis=1)\n",
    "except:\n",
    "    pass"
   ]
  },
  {
   "cell_type": "code",
   "execution_count": 109,
   "metadata": {},
   "outputs": [
    {
     "name": "stdout",
     "output_type": "stream",
     "text": [
      "baseline_BLA_lfp_trace\n",
      "baseline_LH_lfp_trace\n",
      "baseline_MD_lfp_trace\n",
      "baseline_mPFC_lfp_trace\n",
      "baseline_vHPC_lfp_trace\n"
     ]
    }
   ],
   "source": [
    "try:\n",
    "    for col in sorted(phase_columns):\n",
    "        updated_item_col = \"baseline_{}\".format(col)\n",
    "        print(updated_item_col)\n",
    "        updated_timestamp_col = \"baseline_lfp_timestamps\"\n",
    "        TRIALS_AND_SPECTRAL_DF[updated_item_col] = TRIALS_AND_SPECTRAL_DF.apply(lambda x: utilities.helper.filter_by_timestamp_range(start=x[\"baseline_start_timestamp\"], stop=x[\"tone_start_timestamp\"], timestamps=x[\"lfp_timestamps\"], items=x[col])[1], axis=1)\n",
    "\n",
    "    TRIALS_AND_SPECTRAL_DF[updated_timestamp_col] = TRIALS_AND_SPECTRAL_DF.apply(lambda x: utilities.helper.filter_by_timestamp_range(start=x[\"baseline_start_timestamp\"], stop=x[\"tone_start_timestamp\"], timestamps=x[\"lfp_timestamps\"], items=x[col])[0], axis=1)\n",
    "except:\n",
    "    pass"
   ]
  },
  {
   "cell_type": "code",
   "execution_count": 110,
   "metadata": {
    "tags": []
   },
   "outputs": [
    {
     "data": {
      "text/plain": [
       "0      [1287960, 1287980, 1288000, 1288020, 1288040, ...\n",
       "1      [1287960, 1287980, 1288000, 1288020, 1288040, ...\n",
       "2      [3287980, 3288000, 3288020, 3288040, 3288060, ...\n",
       "3      [3287980, 3288000, 3288020, 3288040, 3288060, ...\n",
       "4      [4488000, 4488020, 4488040, 4488060, 4488080, ...\n",
       "                             ...                        \n",
       "465    [49606260, 49606280, 49606300, 49606320, 49606...\n",
       "466    [50606280, 50606300, 50606320, 50606340, 50606...\n",
       "467    [52006300, 52006320, 52006340, 52006360, 52006...\n",
       "468    [54206320, 54206340, 54206360, 54206380, 54206...\n",
       "469    [55306320, 55306340, 55306360, 55306380, 55306...\n",
       "Name: trial_lfp_timestamps, Length: 470, dtype: object"
      ]
     },
     "execution_count": 110,
     "metadata": {},
     "output_type": "execute_result"
    }
   ],
   "source": [
    "TRIALS_AND_SPECTRAL_DF[\"trial_lfp_timestamps\"]"
   ]
  },
  {
   "cell_type": "code",
   "execution_count": 111,
   "metadata": {
    "tags": []
   },
   "outputs": [],
   "source": [
    "TRIALS_AND_SPECTRAL_DF = TRIALS_AND_SPECTRAL_DF.drop(columns=phase_columns + [\"lfp_timestamps\"], errors=\"ignore\")"
   ]
  },
  {
   "cell_type": "code",
   "execution_count": 112,
   "metadata": {
    "tags": []
   },
   "outputs": [
    {
     "name": "stdout",
     "output_type": "stream",
     "text": [
      "tone_start_frame\n",
      "reward_start\n",
      "reward_dispensed\n",
      "tone_stop_frame\n",
      "condition\n",
      "competition_closeness\n",
      "get_reward_frame\n",
      "out_reward_frame\n",
      "experiment\n",
      "video_name\n",
      "tone_start_timestamp\n",
      "tone_stop_timestamp\n",
      "cohort\n",
      "session_dir\n",
      "tone_frames\n",
      "box_1_port_entry_frames\n",
      "box_2_port_entry_frames\n",
      "notes\n",
      "session_path\n",
      "recording\n",
      "current_subject\n",
      "subject\n",
      "all_subjects\n",
      "first_timestamp\n",
      "last_timestamp\n",
      "tone_timestamps\n",
      "box_1_port_entry_timestamps\n",
      "box_2_port_entry_timestamps\n",
      "recording_name\n",
      "start_frame\n",
      "stop_frame\n",
      "tracked_subject\n",
      "in_video_subjects\n",
      "box_number\n",
      "sleap_name\n",
      "body_parts\n",
      "box_bottom_right\n",
      "reward_port\n",
      "box_top_left\n",
      "box_top_right\n",
      "box_bottom_left\n",
      "agent\n",
      "baseline_start_timestamp\n",
      "post_trial_end_timestamp\n",
      "video_frame\n",
      "trial_agent_locations\n",
      "trial_agent_thorax_to_reward_port\n",
      "trial_agent_thorax_velocity\n",
      "trial_frame_index\n",
      "trial_subject_locations\n",
      "trial_subject_thorax_to_reward_port\n",
      "trial_subject_thorax_velocity\n",
      "trial_video_timestamps\n",
      "baseline_agent_locations\n",
      "baseline_agent_thorax_to_reward_port\n",
      "baseline_agent_thorax_velocity\n",
      "baseline_frame_index\n",
      "baseline_subject_locations\n",
      "baseline_subject_thorax_to_reward_port\n",
      "baseline_subject_thorax_velocity\n",
      "baseline_video_timestamps\n",
      "baseline_spike_times\n",
      "trial_spike_times\n",
      "baseline_neuron_average_fr\n",
      "baseline_neuron_average_timestamp\n",
      "trial_neuron_average_fr\n",
      "trial_neuron_average_timestamp\n",
      "trial_BLA_lfp_trace\n",
      "trial_LH_lfp_trace\n",
      "trial_MD_lfp_trace\n",
      "trial_mPFC_lfp_trace\n",
      "trial_vHPC_lfp_trace\n",
      "trial_lfp_timestamps\n",
      "baseline_BLA_lfp_trace\n",
      "baseline_LH_lfp_trace\n",
      "baseline_MD_lfp_trace\n",
      "baseline_mPFC_lfp_trace\n",
      "baseline_vHPC_lfp_trace\n",
      "baseline_lfp_timestamps\n"
     ]
    }
   ],
   "source": [
    "for col in TRIALS_AND_SPECTRAL_DF:\n",
    "    print(col)"
   ]
  },
  {
   "cell_type": "code",
   "execution_count": 113,
   "metadata": {
    "tags": []
   },
   "outputs": [],
   "source": [
    "# TRIALS_AND_SPECTRAL_DF[TRIALS_AND_SPECTRAL_DF[\"condition\"] != \"rewarded\"][\"trial_kmeans_cluster\"].iloc[0].shape"
   ]
  },
  {
   "cell_type": "code",
   "execution_count": 114,
   "metadata": {},
   "outputs": [
    {
     "data": {
      "text/plain": [
       "(470, 79)"
      ]
     },
     "execution_count": 114,
     "metadata": {},
     "output_type": "execute_result"
    }
   ],
   "source": [
    "TRIALS_AND_SPECTRAL_DF.shape"
   ]
  },
  {
   "cell_type": "code",
   "execution_count": 115,
   "metadata": {},
   "outputs": [],
   "source": [
    "TRIALS_AND_SPECTRAL_DF.to_pickle(os.path.join(OUTPUT_DIR, FULL_LFP_TRACES_PKL))"
   ]
  },
  {
   "cell_type": "markdown",
   "metadata": {},
   "source": [
    "# Filtering for rows that are in the video"
   ]
  },
  {
   "cell_type": "code",
   "execution_count": 116,
   "metadata": {
    "tags": []
   },
   "outputs": [],
   "source": [
    "TRIALS_AND_SPECTRAL_DF[\"in_video\"] = TRIALS_AND_SPECTRAL_DF.apply(lambda x: x[\"start_frame\"] <= x[\"trial_frame_index\"][0] <= x[\"stop_frame\"], axis=1)"
   ]
  },
  {
   "cell_type": "code",
   "execution_count": 117,
   "metadata": {
    "tags": []
   },
   "outputs": [],
   "source": [
    "TRIALS_AND_SPECTRAL_DF = TRIALS_AND_SPECTRAL_DF[TRIALS_AND_SPECTRAL_DF[\"in_video\"]].reset_index()"
   ]
  },
  {
   "cell_type": "code",
   "execution_count": 118,
   "metadata": {
    "tags": []
   },
   "outputs": [
    {
     "data": {
      "text/html": [
       "<div>\n",
       "<style scoped>\n",
       "    .dataframe tbody tr th:only-of-type {\n",
       "        vertical-align: middle;\n",
       "    }\n",
       "\n",
       "    .dataframe tbody tr th {\n",
       "        vertical-align: top;\n",
       "    }\n",
       "\n",
       "    .dataframe thead th {\n",
       "        text-align: right;\n",
       "    }\n",
       "</style>\n",
       "<table border=\"1\" class=\"dataframe\">\n",
       "  <thead>\n",
       "    <tr style=\"text-align: right;\">\n",
       "      <th></th>\n",
       "      <th>index</th>\n",
       "      <th>tone_start_frame</th>\n",
       "      <th>reward_start</th>\n",
       "      <th>reward_dispensed</th>\n",
       "      <th>tone_stop_frame</th>\n",
       "      <th>condition</th>\n",
       "      <th>competition_closeness</th>\n",
       "      <th>get_reward_frame</th>\n",
       "      <th>out_reward_frame</th>\n",
       "      <th>experiment</th>\n",
       "      <th>...</th>\n",
       "      <th>trial_mPFC_lfp_trace</th>\n",
       "      <th>trial_vHPC_lfp_trace</th>\n",
       "      <th>trial_lfp_timestamps</th>\n",
       "      <th>baseline_BLA_lfp_trace</th>\n",
       "      <th>baseline_LH_lfp_trace</th>\n",
       "      <th>baseline_MD_lfp_trace</th>\n",
       "      <th>baseline_mPFC_lfp_trace</th>\n",
       "      <th>baseline_vHPC_lfp_trace</th>\n",
       "      <th>baseline_lfp_timestamps</th>\n",
       "      <th>in_video</th>\n",
       "    </tr>\n",
       "  </thead>\n",
       "  <tbody>\n",
       "    <tr>\n",
       "      <th>0</th>\n",
       "      <td>0</td>\n",
       "      <td>1286</td>\n",
       "      <td>1366</td>\n",
       "      <td>1386</td>\n",
       "      <td>1486</td>\n",
       "      <td>3.3</td>\n",
       "      <td>Subj 2 then Subj 1</td>\n",
       "      <td>NaN</td>\n",
       "      <td>NaN</td>\n",
       "      <td>long_comp</td>\n",
       "      <td>...</td>\n",
       "      <td>[0.0, 113.0, 212.0, 294.0, 401.0, 381.0, 280.0...</td>\n",
       "      <td>[283.0, 265.0, 148.0, 128.0, 164.0, 175.0, 367...</td>\n",
       "      <td>[1287960, 1287980, 1288000, 1288020, 1288040, ...</td>\n",
       "      <td>[206.0, 52.0, 59.0, 164.0, 167.0, 100.0, 120.0...</td>\n",
       "      <td>[445.0, 160.0, 16.0, 121.0, 209.0, 136.0, 48.0...</td>\n",
       "      <td>[291.0, 5.0, -196.0, -145.0, -53.0, -51.0, -10...</td>\n",
       "      <td>[-160.0, -369.0, -411.0, -258.0, -195.0, -279....</td>\n",
       "      <td>[201.0, 261.0, 381.0, 399.0, 203.0, 30.0, 54.0...</td>\n",
       "      <td>[1087960, 1087980, 1088000, 1088020, 1088040, ...</td>\n",
       "      <td>True</td>\n",
       "    </tr>\n",
       "    <tr>\n",
       "      <th>1</th>\n",
       "      <td>1</td>\n",
       "      <td>1286</td>\n",
       "      <td>1366</td>\n",
       "      <td>1386</td>\n",
       "      <td>1486</td>\n",
       "      <td>3.3</td>\n",
       "      <td>Subj 2 then Subj 1</td>\n",
       "      <td>NaN</td>\n",
       "      <td>NaN</td>\n",
       "      <td>long_comp</td>\n",
       "      <td>...</td>\n",
       "      <td>[-682.0, -861.0, -778.0, -689.0, -768.0, -966....</td>\n",
       "      <td>[-19.0, -189.0, -315.0, -239.0, -116.0, -170.0...</td>\n",
       "      <td>[1287960, 1287980, 1288000, 1288020, 1288040, ...</td>\n",
       "      <td>[222.0, 195.0, 131.0, 107.0, 149.0, 209.0, 264...</td>\n",
       "      <td>[164.0, 151.0, 69.0, 89.0, 207.0, 230.0, 153.0...</td>\n",
       "      <td>[131.0, 127.0, 92.0, 81.0, 109.0, 126.0, 134.0...</td>\n",
       "      <td>[354.0, 490.0, 414.0, 365.0, 472.0, 543.0, 532...</td>\n",
       "      <td>[417.0, 297.0, 185.0, 181.0, 307.0, 452.0, 511...</td>\n",
       "      <td>[1087960, 1087980, 1088000, 1088020, 1088040, ...</td>\n",
       "      <td>True</td>\n",
       "    </tr>\n",
       "    <tr>\n",
       "      <th>2</th>\n",
       "      <td>2</td>\n",
       "      <td>3282</td>\n",
       "      <td>3362</td>\n",
       "      <td>3382</td>\n",
       "      <td>3482</td>\n",
       "      <td>3.1</td>\n",
       "      <td>Subj 1 Only</td>\n",
       "      <td>NaN</td>\n",
       "      <td>NaN</td>\n",
       "      <td>long_comp</td>\n",
       "      <td>...</td>\n",
       "      <td>[-75.0, 272.0, 245.0, -33.0, -202.0, -69.0, 14...</td>\n",
       "      <td>[1169.0, 1396.0, 1279.0, 980.0, 825.0, 946.0, ...</td>\n",
       "      <td>[3287980, 3288000, 3288020, 3288040, 3288060, ...</td>\n",
       "      <td>[-299.0, -234.0, -138.0, -207.0, -351.0, -364....</td>\n",
       "      <td>[-94.0, -23.0, 93.0, 113.0, 93.0, 144.0, 209.0...</td>\n",
       "      <td>[163.0, 239.0, 384.0, 409.0, 350.0, 378.0, 451...</td>\n",
       "      <td>[-79.0, 191.0, 361.0, 348.0, 271.0, 260.0, 334...</td>\n",
       "      <td>[-1582.0, -1426.0, -1172.0, -969.0, -756.0, -4...</td>\n",
       "      <td>[3087980, 3088000, 3088020, 3088040, 3088060, ...</td>\n",
       "      <td>True</td>\n",
       "    </tr>\n",
       "    <tr>\n",
       "      <th>3</th>\n",
       "      <td>3</td>\n",
       "      <td>3282</td>\n",
       "      <td>3362</td>\n",
       "      <td>3382</td>\n",
       "      <td>3482</td>\n",
       "      <td>3.1</td>\n",
       "      <td>Subj 1 Only</td>\n",
       "      <td>NaN</td>\n",
       "      <td>NaN</td>\n",
       "      <td>long_comp</td>\n",
       "      <td>...</td>\n",
       "      <td>[465.0, 614.0, 819.0, 904.0, 821.0, 776.0, 875...</td>\n",
       "      <td>[-128.0, -134.0, -27.0, 74.0, 77.0, 46.0, 64.0...</td>\n",
       "      <td>[3287980, 3288000, 3288020, 3288040, 3288060, ...</td>\n",
       "      <td>[-33.0, 45.0, 183.0, 327.0, 406.0, 515.0, 693....</td>\n",
       "      <td>[-160.0, -52.0, 76.0, 231.0, 322.0, 406.0, 551...</td>\n",
       "      <td>[-284.0, -184.0, -131.0, 74.0, 284.0, 415.0, 5...</td>\n",
       "      <td>[-444.0, -459.0, -156.0, 217.0, 259.0, 277.0, ...</td>\n",
       "      <td>[-521.0, -346.0, -191.0, -35.0, 103.0, 266.0, ...</td>\n",
       "      <td>[3087980, 3088000, 3088020, 3088040, 3088060, ...</td>\n",
       "      <td>True</td>\n",
       "    </tr>\n",
       "    <tr>\n",
       "      <th>4</th>\n",
       "      <td>4</td>\n",
       "      <td>4480</td>\n",
       "      <td>4560</td>\n",
       "      <td>4580</td>\n",
       "      <td>4679</td>\n",
       "      <td>3.1</td>\n",
       "      <td>Subj 1 Only</td>\n",
       "      <td>NaN</td>\n",
       "      <td>NaN</td>\n",
       "      <td>long_comp</td>\n",
       "      <td>...</td>\n",
       "      <td>[77.0, 75.0, 114.0, 208.0, 139.0, -58.0, -94.0...</td>\n",
       "      <td>[-215.0, -107.0, 22.0, 202.0, 393.0, 373.0, 17...</td>\n",
       "      <td>[4488000, 4488020, 4488040, 4488060, 4488080, ...</td>\n",
       "      <td>[156.0, -122.0, -181.0, 89.0, 198.0, 57.0, 67....</td>\n",
       "      <td>[408.0, 96.0, 112.0, 478.0, 628.0, 522.0, 481....</td>\n",
       "      <td>[357.0, 106.0, 116.0, 478.0, 719.0, 691.0, 609...</td>\n",
       "      <td>[429.0, 341.0, 503.0, 794.0, 907.0, 799.0, 668...</td>\n",
       "      <td>[81.0, -78.0, -108.0, 54.0, 0.0, -192.0, -237....</td>\n",
       "      <td>[4288000, 4288020, 4288040, 4288060, 4288080, ...</td>\n",
       "      <td>True</td>\n",
       "    </tr>\n",
       "    <tr>\n",
       "      <th>...</th>\n",
       "      <td>...</td>\n",
       "      <td>...</td>\n",
       "      <td>...</td>\n",
       "      <td>...</td>\n",
       "      <td>...</td>\n",
       "      <td>...</td>\n",
       "      <td>...</td>\n",
       "      <td>...</td>\n",
       "      <td>...</td>\n",
       "      <td>...</td>\n",
       "      <td>...</td>\n",
       "      <td>...</td>\n",
       "      <td>...</td>\n",
       "      <td>...</td>\n",
       "      <td>...</td>\n",
       "      <td>...</td>\n",
       "      <td>...</td>\n",
       "      <td>...</td>\n",
       "      <td>...</td>\n",
       "      <td>...</td>\n",
       "      <td>...</td>\n",
       "    </tr>\n",
       "    <tr>\n",
       "      <th>465</th>\n",
       "      <td>465</td>\n",
       "      <td>49514</td>\n",
       "      <td>49594</td>\n",
       "      <td>49614</td>\n",
       "      <td>49713</td>\n",
       "      <td>5.3</td>\n",
       "      <td>Subj 2 then Subj 1</td>\n",
       "      <td>49592.0</td>\n",
       "      <td>49703.0</td>\n",
       "      <td>long_comp</td>\n",
       "      <td>...</td>\n",
       "      <td>[362.0, 375.0, 489.0, 656.0, 771.0, 784.0, 776...</td>\n",
       "      <td>[-2887.0, -2540.0, -2086.0, -1840.0, -1812.0, ...</td>\n",
       "      <td>[49606260, 49606280, 49606300, 49606320, 49606...</td>\n",
       "      <td>[-506.0, -617.0, -848.0, -898.0, -624.0, -364....</td>\n",
       "      <td>[-165.0, 26.0, -43.0, -74.0, 185.0, 469.0, 559...</td>\n",
       "      <td>[-456.0, -509.0, -684.0, -761.0, -522.0, -277....</td>\n",
       "      <td>[-377.0, -261.0, -489.0, -531.0, -185.0, -26.0...</td>\n",
       "      <td>[2047.0, 2170.0, 2196.0, 2199.0, 2219.0, 2096....</td>\n",
       "      <td>[49406260, 49406280, 49406300, 49406320, 49406...</td>\n",
       "      <td>True</td>\n",
       "    </tr>\n",
       "    <tr>\n",
       "      <th>466</th>\n",
       "      <td>466</td>\n",
       "      <td>50511</td>\n",
       "      <td>50591</td>\n",
       "      <td>50611</td>\n",
       "      <td>50711</td>\n",
       "      <td>5.3</td>\n",
       "      <td>Subj 2 blocking Subj 1</td>\n",
       "      <td>50498.0</td>\n",
       "      <td>50676.0</td>\n",
       "      <td>long_comp</td>\n",
       "      <td>...</td>\n",
       "      <td>[-492.0, -422.0, -288.0, -260.0, -339.0, -367....</td>\n",
       "      <td>[-3586.0, -3261.0, -2919.0, -2787.0, -2884.0, ...</td>\n",
       "      <td>[50606280, 50606300, 50606320, 50606340, 50606...</td>\n",
       "      <td>[134.0, -51.0, -133.0, -154.0, -147.0, -21.0, ...</td>\n",
       "      <td>[262.0, 147.0, 45.0, 45.0, 67.0, -45.0, -180.0...</td>\n",
       "      <td>[436.0, 601.0, 676.0, 609.0, 516.0, 444.0, 447...</td>\n",
       "      <td>[156.0, 29.0, -100.0, -159.0, -164.0, -168.0, ...</td>\n",
       "      <td>[1188.0, 1682.0, 2073.0, 2266.0, 2278.0, 2185....</td>\n",
       "      <td>[50406280, 50406300, 50406320, 50406340, 50406...</td>\n",
       "      <td>True</td>\n",
       "    </tr>\n",
       "    <tr>\n",
       "      <th>467</th>\n",
       "      <td>467</td>\n",
       "      <td>51909</td>\n",
       "      <td>51989</td>\n",
       "      <td>52009</td>\n",
       "      <td>52108</td>\n",
       "      <td>5.3</td>\n",
       "      <td>Subj 2 then Subj 1</td>\n",
       "      <td>51972.0</td>\n",
       "      <td>52121.0</td>\n",
       "      <td>long_comp</td>\n",
       "      <td>...</td>\n",
       "      <td>[-487.0, -421.0, -247.0, -85.0, 19.0, 65.0, 43...</td>\n",
       "      <td>[790.0, 1249.0, 1511.0, 1417.0, 1249.0, 1064.0...</td>\n",
       "      <td>[52006300, 52006320, 52006340, 52006360, 52006...</td>\n",
       "      <td>[-35.0, -175.0, -279.0, -337.0, -419.0, -456.0...</td>\n",
       "      <td>[-308.0, -397.0, -463.0, -380.0, -300.0, -380....</td>\n",
       "      <td>[317.0, 314.0, 140.0, 20.0, 85.0, 158.0, 130.0...</td>\n",
       "      <td>[-270.0, -405.0, -495.0, -540.0, -582.0, -555....</td>\n",
       "      <td>[-1116.0, -832.0, -589.0, -398.0, -206.0, -46....</td>\n",
       "      <td>[51806300, 51806320, 51806340, 51806360, 51806...</td>\n",
       "      <td>True</td>\n",
       "    </tr>\n",
       "    <tr>\n",
       "      <th>468</th>\n",
       "      <td>468</td>\n",
       "      <td>54104</td>\n",
       "      <td>54184</td>\n",
       "      <td>54204</td>\n",
       "      <td>54304</td>\n",
       "      <td>5.3</td>\n",
       "      <td>Subj 2 then Subj 1</td>\n",
       "      <td>54157.0</td>\n",
       "      <td>54286.0</td>\n",
       "      <td>long_comp</td>\n",
       "      <td>...</td>\n",
       "      <td>[479.0, 391.0, 398.0, 477.0, 522.0, 525.0, 511...</td>\n",
       "      <td>[-1226.0, -1029.0, -789.0, -495.0, -354.0, -39...</td>\n",
       "      <td>[54206320, 54206340, 54206360, 54206380, 54206...</td>\n",
       "      <td>[349.0, 300.0, 352.0, 554.0, 739.0, 738.0, 664...</td>\n",
       "      <td>[-145.0, -233.0, -234.0, -188.0, -166.0, -186....</td>\n",
       "      <td>[-507.0, -508.0, -323.0, -41.0, -28.0, -204.0,...</td>\n",
       "      <td>[109.0, -5.0, 85.0, 318.0, 415.0, 320.0, 238.0...</td>\n",
       "      <td>[-882.0, -1126.0, -1683.0, -2145.0, -2251.0, -...</td>\n",
       "      <td>[54006320, 54006340, 54006360, 54006380, 54006...</td>\n",
       "      <td>True</td>\n",
       "    </tr>\n",
       "    <tr>\n",
       "      <th>469</th>\n",
       "      <td>469</td>\n",
       "      <td>55203</td>\n",
       "      <td>55283</td>\n",
       "      <td>55303</td>\n",
       "      <td>55402</td>\n",
       "      <td>tie</td>\n",
       "      <td>Close Call</td>\n",
       "      <td>NaN</td>\n",
       "      <td>NaN</td>\n",
       "      <td>long_comp</td>\n",
       "      <td>...</td>\n",
       "      <td>[785.0, 968.0, 1163.0, 1126.0, 1063.0, 1118.0,...</td>\n",
       "      <td>[244.0, 545.0, 947.0, 1332.0, 1566.0, 1644.0, ...</td>\n",
       "      <td>[55306320, 55306340, 55306360, 55306380, 55306...</td>\n",
       "      <td>[701.0, 567.0, 407.0, 238.0, 123.0, 161.0, 222...</td>\n",
       "      <td>[-321.0, -249.0, 238.0, 147.0, -176.0, -397.0,...</td>\n",
       "      <td>[490.0, 494.0, 342.0, 243.0, 253.0, 276.0, 296...</td>\n",
       "      <td>[282.0, 268.0, 179.0, 96.0, 110.0, 164.0, 117....</td>\n",
       "      <td>[996.0, 935.0, 960.0, 977.0, 946.0, 913.0, 850...</td>\n",
       "      <td>[55106320, 55106340, 55106360, 55106380, 55106...</td>\n",
       "      <td>True</td>\n",
       "    </tr>\n",
       "  </tbody>\n",
       "</table>\n",
       "<p>470 rows × 81 columns</p>\n",
       "</div>"
      ],
      "text/plain": [
       "     index  tone_start_frame  reward_start  reward_dispensed  tone_stop_frame  \\\n",
       "0        0              1286          1366              1386             1486   \n",
       "1        1              1286          1366              1386             1486   \n",
       "2        2              3282          3362              3382             3482   \n",
       "3        3              3282          3362              3382             3482   \n",
       "4        4              4480          4560              4580             4679   \n",
       "..     ...               ...           ...               ...              ...   \n",
       "465    465             49514         49594             49614            49713   \n",
       "466    466             50511         50591             50611            50711   \n",
       "467    467             51909         51989             52009            52108   \n",
       "468    468             54104         54184             54204            54304   \n",
       "469    469             55203         55283             55303            55402   \n",
       "\n",
       "    condition   competition_closeness  get_reward_frame  out_reward_frame  \\\n",
       "0         3.3      Subj 2 then Subj 1               NaN               NaN   \n",
       "1         3.3      Subj 2 then Subj 1               NaN               NaN   \n",
       "2         3.1             Subj 1 Only               NaN               NaN   \n",
       "3         3.1             Subj 1 Only               NaN               NaN   \n",
       "4         3.1             Subj 1 Only               NaN               NaN   \n",
       "..        ...                     ...               ...               ...   \n",
       "465       5.3      Subj 2 then Subj 1           49592.0           49703.0   \n",
       "466       5.3  Subj 2 blocking Subj 1           50498.0           50676.0   \n",
       "467       5.3      Subj 2 then Subj 1           51972.0           52121.0   \n",
       "468       5.3      Subj 2 then Subj 1           54157.0           54286.0   \n",
       "469       tie              Close Call               NaN               NaN   \n",
       "\n",
       "    experiment  ...                               trial_mPFC_lfp_trace  \\\n",
       "0    long_comp  ...  [0.0, 113.0, 212.0, 294.0, 401.0, 381.0, 280.0...   \n",
       "1    long_comp  ...  [-682.0, -861.0, -778.0, -689.0, -768.0, -966....   \n",
       "2    long_comp  ...  [-75.0, 272.0, 245.0, -33.0, -202.0, -69.0, 14...   \n",
       "3    long_comp  ...  [465.0, 614.0, 819.0, 904.0, 821.0, 776.0, 875...   \n",
       "4    long_comp  ...  [77.0, 75.0, 114.0, 208.0, 139.0, -58.0, -94.0...   \n",
       "..         ...  ...                                                ...   \n",
       "465  long_comp  ...  [362.0, 375.0, 489.0, 656.0, 771.0, 784.0, 776...   \n",
       "466  long_comp  ...  [-492.0, -422.0, -288.0, -260.0, -339.0, -367....   \n",
       "467  long_comp  ...  [-487.0, -421.0, -247.0, -85.0, 19.0, 65.0, 43...   \n",
       "468  long_comp  ...  [479.0, 391.0, 398.0, 477.0, 522.0, 525.0, 511...   \n",
       "469  long_comp  ...  [785.0, 968.0, 1163.0, 1126.0, 1063.0, 1118.0,...   \n",
       "\n",
       "                                  trial_vHPC_lfp_trace  \\\n",
       "0    [283.0, 265.0, 148.0, 128.0, 164.0, 175.0, 367...   \n",
       "1    [-19.0, -189.0, -315.0, -239.0, -116.0, -170.0...   \n",
       "2    [1169.0, 1396.0, 1279.0, 980.0, 825.0, 946.0, ...   \n",
       "3    [-128.0, -134.0, -27.0, 74.0, 77.0, 46.0, 64.0...   \n",
       "4    [-215.0, -107.0, 22.0, 202.0, 393.0, 373.0, 17...   \n",
       "..                                                 ...   \n",
       "465  [-2887.0, -2540.0, -2086.0, -1840.0, -1812.0, ...   \n",
       "466  [-3586.0, -3261.0, -2919.0, -2787.0, -2884.0, ...   \n",
       "467  [790.0, 1249.0, 1511.0, 1417.0, 1249.0, 1064.0...   \n",
       "468  [-1226.0, -1029.0, -789.0, -495.0, -354.0, -39...   \n",
       "469  [244.0, 545.0, 947.0, 1332.0, 1566.0, 1644.0, ...   \n",
       "\n",
       "                                  trial_lfp_timestamps  \\\n",
       "0    [1287960, 1287980, 1288000, 1288020, 1288040, ...   \n",
       "1    [1287960, 1287980, 1288000, 1288020, 1288040, ...   \n",
       "2    [3287980, 3288000, 3288020, 3288040, 3288060, ...   \n",
       "3    [3287980, 3288000, 3288020, 3288040, 3288060, ...   \n",
       "4    [4488000, 4488020, 4488040, 4488060, 4488080, ...   \n",
       "..                                                 ...   \n",
       "465  [49606260, 49606280, 49606300, 49606320, 49606...   \n",
       "466  [50606280, 50606300, 50606320, 50606340, 50606...   \n",
       "467  [52006300, 52006320, 52006340, 52006360, 52006...   \n",
       "468  [54206320, 54206340, 54206360, 54206380, 54206...   \n",
       "469  [55306320, 55306340, 55306360, 55306380, 55306...   \n",
       "\n",
       "                                baseline_BLA_lfp_trace  \\\n",
       "0    [206.0, 52.0, 59.0, 164.0, 167.0, 100.0, 120.0...   \n",
       "1    [222.0, 195.0, 131.0, 107.0, 149.0, 209.0, 264...   \n",
       "2    [-299.0, -234.0, -138.0, -207.0, -351.0, -364....   \n",
       "3    [-33.0, 45.0, 183.0, 327.0, 406.0, 515.0, 693....   \n",
       "4    [156.0, -122.0, -181.0, 89.0, 198.0, 57.0, 67....   \n",
       "..                                                 ...   \n",
       "465  [-506.0, -617.0, -848.0, -898.0, -624.0, -364....   \n",
       "466  [134.0, -51.0, -133.0, -154.0, -147.0, -21.0, ...   \n",
       "467  [-35.0, -175.0, -279.0, -337.0, -419.0, -456.0...   \n",
       "468  [349.0, 300.0, 352.0, 554.0, 739.0, 738.0, 664...   \n",
       "469  [701.0, 567.0, 407.0, 238.0, 123.0, 161.0, 222...   \n",
       "\n",
       "                                 baseline_LH_lfp_trace  \\\n",
       "0    [445.0, 160.0, 16.0, 121.0, 209.0, 136.0, 48.0...   \n",
       "1    [164.0, 151.0, 69.0, 89.0, 207.0, 230.0, 153.0...   \n",
       "2    [-94.0, -23.0, 93.0, 113.0, 93.0, 144.0, 209.0...   \n",
       "3    [-160.0, -52.0, 76.0, 231.0, 322.0, 406.0, 551...   \n",
       "4    [408.0, 96.0, 112.0, 478.0, 628.0, 522.0, 481....   \n",
       "..                                                 ...   \n",
       "465  [-165.0, 26.0, -43.0, -74.0, 185.0, 469.0, 559...   \n",
       "466  [262.0, 147.0, 45.0, 45.0, 67.0, -45.0, -180.0...   \n",
       "467  [-308.0, -397.0, -463.0, -380.0, -300.0, -380....   \n",
       "468  [-145.0, -233.0, -234.0, -188.0, -166.0, -186....   \n",
       "469  [-321.0, -249.0, 238.0, 147.0, -176.0, -397.0,...   \n",
       "\n",
       "                                 baseline_MD_lfp_trace  \\\n",
       "0    [291.0, 5.0, -196.0, -145.0, -53.0, -51.0, -10...   \n",
       "1    [131.0, 127.0, 92.0, 81.0, 109.0, 126.0, 134.0...   \n",
       "2    [163.0, 239.0, 384.0, 409.0, 350.0, 378.0, 451...   \n",
       "3    [-284.0, -184.0, -131.0, 74.0, 284.0, 415.0, 5...   \n",
       "4    [357.0, 106.0, 116.0, 478.0, 719.0, 691.0, 609...   \n",
       "..                                                 ...   \n",
       "465  [-456.0, -509.0, -684.0, -761.0, -522.0, -277....   \n",
       "466  [436.0, 601.0, 676.0, 609.0, 516.0, 444.0, 447...   \n",
       "467  [317.0, 314.0, 140.0, 20.0, 85.0, 158.0, 130.0...   \n",
       "468  [-507.0, -508.0, -323.0, -41.0, -28.0, -204.0,...   \n",
       "469  [490.0, 494.0, 342.0, 243.0, 253.0, 276.0, 296...   \n",
       "\n",
       "                               baseline_mPFC_lfp_trace  \\\n",
       "0    [-160.0, -369.0, -411.0, -258.0, -195.0, -279....   \n",
       "1    [354.0, 490.0, 414.0, 365.0, 472.0, 543.0, 532...   \n",
       "2    [-79.0, 191.0, 361.0, 348.0, 271.0, 260.0, 334...   \n",
       "3    [-444.0, -459.0, -156.0, 217.0, 259.0, 277.0, ...   \n",
       "4    [429.0, 341.0, 503.0, 794.0, 907.0, 799.0, 668...   \n",
       "..                                                 ...   \n",
       "465  [-377.0, -261.0, -489.0, -531.0, -185.0, -26.0...   \n",
       "466  [156.0, 29.0, -100.0, -159.0, -164.0, -168.0, ...   \n",
       "467  [-270.0, -405.0, -495.0, -540.0, -582.0, -555....   \n",
       "468  [109.0, -5.0, 85.0, 318.0, 415.0, 320.0, 238.0...   \n",
       "469  [282.0, 268.0, 179.0, 96.0, 110.0, 164.0, 117....   \n",
       "\n",
       "                               baseline_vHPC_lfp_trace  \\\n",
       "0    [201.0, 261.0, 381.0, 399.0, 203.0, 30.0, 54.0...   \n",
       "1    [417.0, 297.0, 185.0, 181.0, 307.0, 452.0, 511...   \n",
       "2    [-1582.0, -1426.0, -1172.0, -969.0, -756.0, -4...   \n",
       "3    [-521.0, -346.0, -191.0, -35.0, 103.0, 266.0, ...   \n",
       "4    [81.0, -78.0, -108.0, 54.0, 0.0, -192.0, -237....   \n",
       "..                                                 ...   \n",
       "465  [2047.0, 2170.0, 2196.0, 2199.0, 2219.0, 2096....   \n",
       "466  [1188.0, 1682.0, 2073.0, 2266.0, 2278.0, 2185....   \n",
       "467  [-1116.0, -832.0, -589.0, -398.0, -206.0, -46....   \n",
       "468  [-882.0, -1126.0, -1683.0, -2145.0, -2251.0, -...   \n",
       "469  [996.0, 935.0, 960.0, 977.0, 946.0, 913.0, 850...   \n",
       "\n",
       "                               baseline_lfp_timestamps in_video  \n",
       "0    [1087960, 1087980, 1088000, 1088020, 1088040, ...     True  \n",
       "1    [1087960, 1087980, 1088000, 1088020, 1088040, ...     True  \n",
       "2    [3087980, 3088000, 3088020, 3088040, 3088060, ...     True  \n",
       "3    [3087980, 3088000, 3088020, 3088040, 3088060, ...     True  \n",
       "4    [4288000, 4288020, 4288040, 4288060, 4288080, ...     True  \n",
       "..                                                 ...      ...  \n",
       "465  [49406260, 49406280, 49406300, 49406320, 49406...     True  \n",
       "466  [50406280, 50406300, 50406320, 50406340, 50406...     True  \n",
       "467  [51806300, 51806320, 51806340, 51806360, 51806...     True  \n",
       "468  [54006320, 54006340, 54006360, 54006380, 54006...     True  \n",
       "469  [55106320, 55106340, 55106360, 55106380, 55106...     True  \n",
       "\n",
       "[470 rows x 81 columns]"
      ]
     },
     "execution_count": 118,
     "metadata": {},
     "output_type": "execute_result"
    }
   ],
   "source": [
    "TRIALS_AND_SPECTRAL_DF"
   ]
  },
  {
   "cell_type": "code",
   "execution_count": 119,
   "metadata": {
    "tags": []
   },
   "outputs": [],
   "source": [
    "TRIALS_AND_SPECTRAL_DF.to_pickle(os.path.join(OUTPUT_DIR, FULL_LFP_TRACES_PKL))"
   ]
  },
  {
   "cell_type": "code",
   "execution_count": 120,
   "metadata": {},
   "outputs": [
    {
     "ename": "ValueError",
     "evalue": "",
     "output_type": "error",
     "traceback": [
      "\u001b[0;31m---------------------------------------------------------------------------\u001b[0m",
      "\u001b[0;31mValueError\u001b[0m                                Traceback (most recent call last)",
      "Cell \u001b[0;32mIn[120], line 1\u001b[0m\n\u001b[0;32m----> 1\u001b[0m \u001b[38;5;28;01mraise\u001b[39;00m \u001b[38;5;167;01mValueError\u001b[39;00m()\n",
      "\u001b[0;31mValueError\u001b[0m: "
     ]
    }
   ],
   "source": [
    "raise ValueError()"
   ]
  }
 ],
 "metadata": {
  "deepnote": {},
  "deepnote_execution_queue": [],
  "deepnote_notebook_id": "cf8fe3695d074ee7887fdf6459cbf5ce",
  "kernelspec": {
   "display_name": "mountainsort_0_5_6",
   "language": "python",
   "name": "python3"
  },
  "language_info": {
   "codemirror_mode": {
    "name": "ipython",
    "version": 3
   },
   "file_extension": ".py",
   "mimetype": "text/x-python",
   "name": "python",
   "nbconvert_exporter": "python",
   "pygments_lexer": "ipython3",
   "version": "3.9.19"
  }
 },
 "nbformat": 4,
 "nbformat_minor": 4
}
