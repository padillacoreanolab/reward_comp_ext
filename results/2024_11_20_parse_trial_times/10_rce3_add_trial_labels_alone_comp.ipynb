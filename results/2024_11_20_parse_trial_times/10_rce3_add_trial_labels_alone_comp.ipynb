{
 "cells": [
  {
   "cell_type": "markdown",
   "metadata": {
    "cell_id": "c3a02adc9e884466bc8c79db549cc3d2",
    "deepnote_cell_type": "text-cell-h1",
    "formattedRanges": [
     {
      "fromCodePoint": 0,
      "marks": {
       "bold": true,
       "underline": true
      },
      "toCodePoint": 17,
      "type": "marks"
     }
    ]
   },
   "source": [
    "# All oscillation analysis"
   ]
  },
  {
   "cell_type": "markdown",
   "metadata": {
    "cell_id": "4546bee655b14a5dbf393161f1228e60",
    "deepnote_cell_type": "text-cell-p",
    "formattedRanges": []
   },
   "source": [
    "Brief 1-2 sentence description of notebook."
   ]
  },
  {
   "cell_type": "code",
   "execution_count": 1,
   "metadata": {
    "tags": []
   },
   "outputs": [],
   "source": [
    "# Imports of all used packages and libraries\n",
    "import sys\n",
    "import os\n",
    "import git\n",
    "import glob\n",
    "from collections import defaultdict"
   ]
  },
  {
   "cell_type": "code",
   "execution_count": 2,
   "metadata": {
    "tags": []
   },
   "outputs": [],
   "source": [
    "git_repo = git.Repo(\".\", search_parent_directories=True)\n",
    "git_root = git_repo.git.rev_parse(\"--show-toplevel\")"
   ]
  },
  {
   "cell_type": "code",
   "execution_count": 3,
   "metadata": {
    "tags": []
   },
   "outputs": [
    {
     "data": {
      "text/plain": [
       "'/nancy/user/riwata/projects/reward_comp_ext'"
      ]
     },
     "execution_count": 3,
     "metadata": {},
     "output_type": "execute_result"
    }
   ],
   "source": [
    "git_root"
   ]
  },
  {
   "cell_type": "code",
   "execution_count": 4,
   "metadata": {
    "tags": []
   },
   "outputs": [],
   "source": [
    "sys.path.insert(0, os.path.join(git_root, 'src'))"
   ]
  },
  {
   "cell_type": "code",
   "execution_count": 5,
   "metadata": {
    "tags": []
   },
   "outputs": [],
   "source": [
    "import warnings\n",
    "warnings.filterwarnings('ignore')"
   ]
  },
  {
   "cell_type": "code",
   "execution_count": 6,
   "metadata": {
    "tags": []
   },
   "outputs": [],
   "source": [
    "import os\n",
    "import collections\n",
    "import itertools\n",
    "from collections import defaultdict\n",
    "from itertools import combinations"
   ]
  },
  {
   "cell_type": "raw",
   "metadata": {},
   "source": [
    "os.environ[\"SPECTRAL_CONNECTIVITY_ENABLE_GPU\"] = \"true\"\n",
    "import cupy as cp"
   ]
  },
  {
   "cell_type": "code",
   "execution_count": 7,
   "metadata": {
    "cell_id": "03b495cefa6a4798a44c7f2e4c6a3ea7",
    "deepnote_cell_type": "code",
    "deepnote_to_be_reexecuted": false,
    "execution_millis": 21,
    "execution_start": 1691424003626,
    "source_hash": null,
    "tags": []
   },
   "outputs": [],
   "source": [
    "# Imports of all used packages and libraries\n",
    "import numpy as np\n",
    "import pandas as pd\n",
    "from scipy import stats\n",
    "from scipy.stats import mannwhitneyu\n"
   ]
  },
  {
   "cell_type": "code",
   "execution_count": 8,
   "metadata": {
    "tags": []
   },
   "outputs": [],
   "source": [
    "import matplotlib\n",
    "import matplotlib.colors as mcolors\n",
    "import matplotlib.pyplot as plt\n",
    "import matplotlib.cm as cm\n",
    "import colorsys"
   ]
  },
  {
   "cell_type": "code",
   "execution_count": 9,
   "metadata": {
    "tags": []
   },
   "outputs": [],
   "source": [
    "from sklearn.metrics import confusion_matrix"
   ]
  },
  {
   "cell_type": "code",
   "execution_count": 10,
   "metadata": {
    "tags": []
   },
   "outputs": [],
   "source": [
    "from spectral_connectivity import Multitaper, Connectivity\n",
    "import spectral_connectivity"
   ]
  },
  {
   "cell_type": "code",
   "execution_count": 11,
   "metadata": {
    "tags": []
   },
   "outputs": [],
   "source": [
    "import utilities.helper\n",
    "import trodes.read_exported"
   ]
  },
  {
   "cell_type": "code",
   "execution_count": 12,
   "metadata": {
    "tags": []
   },
   "outputs": [],
   "source": [
    "FONTSIZE = 20"
   ]
  },
  {
   "cell_type": "code",
   "execution_count": 13,
   "metadata": {
    "tags": []
   },
   "outputs": [],
   "source": [
    "font = {'weight' : 'medium',\n",
    "        'size'   : 20}\n",
    "\n",
    "matplotlib.rc('font', **font)"
   ]
  },
  {
   "cell_type": "markdown",
   "metadata": {
    "cell_id": "d290bac2c17940bfbc0f9296beaf70e5",
    "deepnote_cell_type": "text-cell-h2",
    "formattedRanges": []
   },
   "source": [
    "## Inputs & Data"
   ]
  },
  {
   "cell_type": "code",
   "execution_count": 14,
   "metadata": {
    "tags": []
   },
   "outputs": [],
   "source": [
    "EPHYS_SAMPLE_RATE = 20000"
   ]
  },
  {
   "cell_type": "markdown",
   "metadata": {
    "cell_id": "e528ce19c608425292151930d380f49f",
    "deepnote_cell_type": "text-cell-p",
    "formattedRanges": []
   },
   "source": [
    "Explanation of each input and where it comes from."
   ]
  },
  {
   "cell_type": "code",
   "execution_count": 15,
   "metadata": {
    "cell_id": "6cf83a5811054461a718a71673d09aab",
    "deepnote_cell_type": "code",
    "deepnote_to_be_reexecuted": false,
    "execution_millis": 373,
    "execution_start": 1691424003628,
    "source_hash": null,
    "tags": []
   },
   "outputs": [],
   "source": [
    "# Inputs and Required data loading\n",
    "# input varaible names are in all caps snake case\n",
    "# Whenever an input changes or is used for processing \n",
    "# the vairables are all lower in snake case\n",
    "OUTPUT_DIR = r\"./proc/\" # where data is saved should always be shown in the inputs\n",
    "os.makedirs(OUTPUT_DIR, exist_ok=True)\n",
    "OUTPUT_PREFIX = \"rce_pilot_3_alone_comp\""
   ]
  },
  {
   "cell_type": "code",
   "execution_count": 16,
   "metadata": {
    "tags": []
   },
   "outputs": [],
   "source": [
    "# TRIAL_LABELS_DF = pd.read_excel(\"/blue/npadillacoreano/ryoi360/projects/reward_comp/repos/reward_comp_ext/results/2024_06_26_sleap_clustering/data/rce_pilot_3_alone_comp_per_video_trial_labels.xlsx\")\n",
    "TRIAL_LABELS_DF = pd.read_excel(\"../../data/{}_per_video_trial_labels.xlsx\".format(OUTPUT_PREFIX))"
   ]
  },
  {
   "cell_type": "code",
   "execution_count": 17,
   "metadata": {},
   "outputs": [],
   "source": [
    "TRIAL_LABELS_DF = TRIAL_LABELS_DF.drop(columns=[col for col in TRIAL_LABELS_DF if \"unnamed\" in col.lower()], errors=\"ignore\")"
   ]
  },
  {
   "cell_type": "code",
   "execution_count": 18,
   "metadata": {},
   "outputs": [],
   "source": [
    "TRIAL_LABELS_DF = TRIAL_LABELS_DF.rename(columns={col: col.strip() for col in TRIAL_LABELS_DF}, errors=\"ignore\")"
   ]
  },
  {
   "cell_type": "code",
   "execution_count": 19,
   "metadata": {
    "tags": []
   },
   "outputs": [],
   "source": [
    "# LFP_SPECTRAL_DF = pd.read_pickle(\"./proc/{}_03_spectral_bands.pkl\".format(OUTPUT_PREFIX))\n",
    "LFP_SPECTRAL_DF = pd.read_pickle(\"../2024_11_18_add_sleap/proc/{}_04_lfp_spike_sleap.pkl\".format(OUTPUT_PREFIX))\n",
    "# /nancy/user/riwata/projects/reward_comp_ext/results../../2024_11_18_add_sleap/proc/rce_pilot_3_alone_comp_04_lfp_spike_sleap.pkl\""
   ]
  },
  {
   "cell_type": "code",
   "execution_count": 20,
   "metadata": {
    "tags": []
   },
   "outputs": [],
   "source": [
    "# LFP_SPECTRAL_DF = pd.read_pickle(\"./proc/{}_04_spectral_and_sleap.pkl\".format(OUTPUT_PREFIX))"
   ]
  },
  {
   "cell_type": "code",
   "execution_count": 21,
   "metadata": {},
   "outputs": [],
   "source": [
    "LFP_SPECTRAL_DF = LFP_SPECTRAL_DF.drop(columns=[col for col in LFP_SPECTRAL_DF if \"unnamed\" in col.lower()], errors=\"ignore\")"
   ]
  },
  {
   "cell_type": "code",
   "execution_count": 22,
   "metadata": {},
   "outputs": [],
   "source": [
    "LFP_SPECTRAL_DF = LFP_SPECTRAL_DF.rename(columns={col: col.strip() for col in LFP_SPECTRAL_DF}, errors=\"ignore\")"
   ]
  },
  {
   "cell_type": "code",
   "execution_count": 23,
   "metadata": {},
   "outputs": [],
   "source": [
    "# cluster_range_columns = pd.read_pickle(\"../2024_06_26_sleap_clustering/proc/cluster_range_columns.pkl\")"
   ]
  },
  {
   "cell_type": "code",
   "execution_count": 24,
   "metadata": {},
   "outputs": [],
   "source": [
    "# cluster_range_columns"
   ]
  },
  {
   "cell_type": "code",
   "execution_count": 25,
   "metadata": {
    "tags": []
   },
   "outputs": [],
   "source": [
    "FULL_LFP_TRACES_PKL = \"{}_10_per_trial_lfp_spikes.pkl\".format(OUTPUT_PREFIX)"
   ]
  },
  {
   "cell_type": "markdown",
   "metadata": {
    "cell_id": "e3ee4891d43a4ac287413afc552ca289",
    "deepnote_cell_type": "text-cell-h2",
    "formattedRanges": []
   },
   "source": [
    "## Outputs"
   ]
  },
  {
   "cell_type": "markdown",
   "metadata": {
    "cell_id": "9ccbf6cc70fd4d379fa29317f733771f",
    "deepnote_cell_type": "text-cell-p",
    "formattedRanges": []
   },
   "source": [
    "Describe each output that the notebook creates. "
   ]
  },
  {
   "cell_type": "markdown",
   "metadata": {
    "cell_id": "fc8e8920a6944918a15fac575cdf6e78",
    "deepnote_cell_type": "text-cell-bullet",
    "formattedRanges": []
   },
   "source": [
    "- Is it a plot or is it data?"
   ]
  },
  {
   "cell_type": "markdown",
   "metadata": {
    "cell_id": "1e639d4776a84aa9ac8ded2e14fa57db",
    "deepnote_cell_type": "text-cell-bullet",
    "formattedRanges": []
   },
   "source": [
    "- How valuable is the output and why is it valuable or useful?"
   ]
  },
  {
   "cell_type": "markdown",
   "metadata": {},
   "source": [
    "## Functions "
   ]
  },
  {
   "cell_type": "code",
   "execution_count": 26,
   "metadata": {},
   "outputs": [],
   "source": [
    "def filter_spike_times(arr_2d, start, stop, padding=-1):\n",
    "    \"\"\"\n",
    "    Filters a 2D array based on a start and stop condition and pads shorter arrays to match the length of the longest array.\n",
    "\n",
    "    Parameters:\n",
    "    arr_2d (numpy.ndarray): 2D array to be filtered and padded.\n",
    "    start (int or float): Lower bound of the condition.\n",
    "    stop (int or float): Upper bound of the condition.\n",
    "    padding (int or float): Value to use for padding, defaults to -1.\n",
    "\n",
    "    Returns:\n",
    "    numpy.ndarray: A 2D array where each inner array has been filtered based on the condition and padded to match the length of the longest array.\n",
    "    \"\"\"\n",
    "\n",
    "    # Filter each row in arr_2d based on the condition\n",
    "    masked_data = [row[(row >= start) & (row < stop)] for row in arr_2d]\n",
    "\n",
    "    # Determine the maximum length of arrays in the list\n",
    "    max_length = max(len(arr) for arr in masked_data)\n",
    "\n",
    "    # Pad each array in masked_data with the padding value so they all have the same length (max_length)\n",
    "    padded_arrays = [np.concatenate([x, np.full([max_length - len(x)], padding)]) for x in masked_data]\n",
    "\n",
    "    # Convert the list of arrays to a 2D numpy array\n",
    "    padded_arrays = np.array(padded_arrays)\n",
    "\n",
    "    return padded_arrays"
   ]
  },
  {
   "cell_type": "markdown",
   "metadata": {
    "cell_id": "8999d19b6b7d4d63bc90f0b0bd9ab085",
    "deepnote_cell_type": "text-cell-h2",
    "formattedRanges": []
   },
   "source": [
    "## Processing"
   ]
  },
  {
   "cell_type": "markdown",
   "metadata": {
    "cell_id": "9b36cdf08567463082b005cb0dec684b",
    "deepnote_cell_type": "text-cell-p",
    "formattedRanges": []
   },
   "source": [
    "Describe what is done to the data here and how inputs are manipulated to generate outputs. "
   ]
  },
  {
   "cell_type": "code",
   "execution_count": 27,
   "metadata": {
    "cell_id": "89aaba237c644628b1b37604b75e7cb1",
    "deepnote_cell_type": "code",
    "tags": []
   },
   "outputs": [],
   "source": [
    "# As much code and as many cells as required\n",
    "# includes EDA and playing with data\n",
    "# GO HAM!\n",
    "\n",
    "# Ideally functions are defined here first and then data is processed using the functions\n",
    "\n",
    "# function names are short and in snake case all lowercase\n",
    "# a function name should be unique but does not have to describe the function\n",
    "# doc strings describe functions not function names\n",
    "\n",
    "\n"
   ]
  },
  {
   "cell_type": "code",
   "execution_count": 28,
   "metadata": {
    "tags": []
   },
   "outputs": [
    {
     "data": {
      "text/plain": [
       "Index(['cohort', 'session_dir', 'tone_frames', 'box_1_port_entry_frames',\n",
       "       'box_2_port_entry_frames', 'video_name', 'notes', 'session_path',\n",
       "       'recording', 'current_subject', 'subject', 'all_subjects',\n",
       "       'first_timestamp', 'last_timestamp', 'video_timestamps',\n",
       "       'tone_timestamps', 'box_1_port_entry_timestamps',\n",
       "       'box_2_port_entry_timestamps', 'lfp_timestamps', 'vHPC_lfp_trace',\n",
       "       'BLA_lfp_trace', 'LH_lfp_trace', 'MD_lfp_trace', 'mPFC_lfp_trace',\n",
       "       'recording_name', 'spike_clusters', 'spike_times', 'neuron_average_fr',\n",
       "       'neuron_average_timestamps', 'start_frame', 'stop_frame',\n",
       "       'tracked_subject', 'in_video_subjects', 'box_number', 'sleap_name',\n",
       "       'body_parts', 'box_top_right', 'box_bottom_right', 'box_top_left',\n",
       "       'reward_port', 'box_bottom_left', 'agent', 'subject_locations',\n",
       "       'frame_index', 'agent_locations', 'subject_thorax_velocity',\n",
       "       'agent_thorax_velocity', 'subject_thorax_to_reward_port',\n",
       "       'agent_thorax_to_reward_port'],\n",
       "      dtype='object')"
      ]
     },
     "execution_count": 28,
     "metadata": {},
     "output_type": "execute_result"
    }
   ],
   "source": [
    "LFP_SPECTRAL_DF.columns"
   ]
  },
  {
   "cell_type": "code",
   "execution_count": 29,
   "metadata": {
    "scrolled": true,
    "tags": []
   },
   "outputs": [
    {
     "data": {
      "text/plain": [
       "Index(['session_dir', 'tone_start_frame', 'reward_start', 'reward_dispensed',\n",
       "       'tone_stop_frame', 'condition', 'competition_closeness',\n",
       "       'get_reward_frame', 'out_reward_frame', 'notes', 'experiment',\n",
       "       'box_1_port_entry_frames', 'box_2_port_entry_frames', 'video_name',\n",
       "       'all_subjects', 'first_timestamp', 'last_timestamp',\n",
       "       'tone_start_timestamp', 'tone_stop_timestamp',\n",
       "       'box_1_port_entry_timestamps', 'box_2_port_entry_timestamps'],\n",
       "      dtype='object')"
      ]
     },
     "execution_count": 29,
     "metadata": {},
     "output_type": "execute_result"
    }
   ],
   "source": [
    "TRIAL_LABELS_DF.columns"
   ]
  },
  {
   "cell_type": "markdown",
   "metadata": {},
   "source": [
    "## Merging the labels and LFP spectral"
   ]
  },
  {
   "cell_type": "code",
   "execution_count": 30,
   "metadata": {
    "tags": []
   },
   "outputs": [
    {
     "data": {
      "text/html": [
       "<div>\n",
       "<style scoped>\n",
       "    .dataframe tbody tr th:only-of-type {\n",
       "        vertical-align: middle;\n",
       "    }\n",
       "\n",
       "    .dataframe tbody tr th {\n",
       "        vertical-align: top;\n",
       "    }\n",
       "\n",
       "    .dataframe thead th {\n",
       "        text-align: right;\n",
       "    }\n",
       "</style>\n",
       "<table border=\"1\" class=\"dataframe\">\n",
       "  <thead>\n",
       "    <tr style=\"text-align: right;\">\n",
       "      <th></th>\n",
       "      <th>session_dir</th>\n",
       "      <th>tone_start_frame</th>\n",
       "      <th>reward_start</th>\n",
       "      <th>reward_dispensed</th>\n",
       "      <th>tone_stop_frame</th>\n",
       "      <th>condition</th>\n",
       "      <th>competition_closeness</th>\n",
       "      <th>get_reward_frame</th>\n",
       "      <th>out_reward_frame</th>\n",
       "      <th>notes</th>\n",
       "      <th>...</th>\n",
       "      <th>box_1_port_entry_frames</th>\n",
       "      <th>box_2_port_entry_frames</th>\n",
       "      <th>video_name</th>\n",
       "      <th>all_subjects</th>\n",
       "      <th>first_timestamp</th>\n",
       "      <th>last_timestamp</th>\n",
       "      <th>tone_start_timestamp</th>\n",
       "      <th>tone_stop_timestamp</th>\n",
       "      <th>box_1_port_entry_timestamps</th>\n",
       "      <th>box_2_port_entry_timestamps</th>\n",
       "    </tr>\n",
       "  </thead>\n",
       "  <tbody>\n",
       "    <tr>\n",
       "      <th>0</th>\n",
       "      <td>20240320_142408_alone_comp_subj_3-1_and_3-3</td>\n",
       "      <td>0.0</td>\n",
       "      <td>80</td>\n",
       "      <td>100.0</td>\n",
       "      <td>74.0</td>\n",
       "      <td>NaN</td>\n",
       "      <td>NaN</td>\n",
       "      <td>NaN</td>\n",
       "      <td>NaN</td>\n",
       "      <td>NaN</td>\n",
       "      <td>...</td>\n",
       "      <td>[ 0 74]</td>\n",
       "      <td>[ 0 74]</td>\n",
       "      <td>20240320_142408_alone_comp_subj_3-1_and_3-3.1....</td>\n",
       "      <td>['3.1', '3.3']</td>\n",
       "      <td>1830734.0</td>\n",
       "      <td>65425515.0</td>\n",
       "      <td>0.0</td>\n",
       "      <td>75474.0</td>\n",
       "      <td>[    0 75474]</td>\n",
       "      <td>[    0 75474]</td>\n",
       "    </tr>\n",
       "    <tr>\n",
       "      <th>1</th>\n",
       "      <td>20240320_142408_alone_comp_subj_3-1_and_3-3</td>\n",
       "      <td>1272.0</td>\n",
       "      <td>1352</td>\n",
       "      <td>1372.0</td>\n",
       "      <td>1471.0</td>\n",
       "      <td>rewarded</td>\n",
       "      <td>NaN</td>\n",
       "      <td>NaN</td>\n",
       "      <td>NaN</td>\n",
       "      <td>NaN</td>\n",
       "      <td>...</td>\n",
       "      <td>[1282 1283] [1285 1297] [1326 1344] [1362 1509]</td>\n",
       "      <td>[1326 1328] [1331 1347] [1380 1592]</td>\n",
       "      <td>20240320_142408_alone_comp_subj_3-1_and_3-3.1....</td>\n",
       "      <td>['3.1', '3.3']</td>\n",
       "      <td>1830734.0</td>\n",
       "      <td>65425515.0</td>\n",
       "      <td>1275889.0</td>\n",
       "      <td>1475891.0</td>\n",
       "      <td>[1285888 1286688] [1287488 1300689] [1330286 1...</td>\n",
       "      <td>[1329489 1331487] [1334489 1350089] [1383490 1...</td>\n",
       "    </tr>\n",
       "    <tr>\n",
       "      <th>2</th>\n",
       "      <td>20240320_142408_alone_comp_subj_3-1_and_3-3</td>\n",
       "      <td>3268.0</td>\n",
       "      <td>3348</td>\n",
       "      <td>3368.0</td>\n",
       "      <td>3469.0</td>\n",
       "      <td>rewarded</td>\n",
       "      <td>NaN</td>\n",
       "      <td>NaN</td>\n",
       "      <td>NaN</td>\n",
       "      <td>NaN</td>\n",
       "      <td>...</td>\n",
       "      <td>[3281 3324] [3324 3327] [3344 3347] [3347 3523]</td>\n",
       "      <td>[3327 3704]</td>\n",
       "      <td>20240320_142408_alone_comp_subj_3-1_and_3-3.1....</td>\n",
       "      <td>['3.1', '3.3']</td>\n",
       "      <td>1830734.0</td>\n",
       "      <td>65425515.0</td>\n",
       "      <td>3275911.0</td>\n",
       "      <td>3475914.0</td>\n",
       "      <td>[3287914 3330314] [3331114 3333712] [3351715 3...</td>\n",
       "      <td>[3333515 3712519]</td>\n",
       "    </tr>\n",
       "    <tr>\n",
       "      <th>3</th>\n",
       "      <td>20240320_142408_alone_comp_subj_3-1_and_3-3</td>\n",
       "      <td>4466.0</td>\n",
       "      <td>4546</td>\n",
       "      <td>4566.0</td>\n",
       "      <td>4667.0</td>\n",
       "      <td>rewarded</td>\n",
       "      <td>NaN</td>\n",
       "      <td>NaN</td>\n",
       "      <td>NaN</td>\n",
       "      <td>NaN</td>\n",
       "      <td>...</td>\n",
       "      <td>[4441 4476] [4476 4489] [4508 4509] [4511 4534...</td>\n",
       "      <td>[4445 4473] [4494 4551] [4566 4830]</td>\n",
       "      <td>20240320_142408_alone_comp_subj_3-1_and_3-3.1....</td>\n",
       "      <td>['3.1', '3.3']</td>\n",
       "      <td>1830734.0</td>\n",
       "      <td>65425515.0</td>\n",
       "      <td>4475927.0</td>\n",
       "      <td>4675931.0</td>\n",
       "      <td>[4450528 4485129] [4485929 4497529] [4516929 4...</td>\n",
       "      <td>[4454926 4483129] [4503531 4560730] [4575330 4...</td>\n",
       "    </tr>\n",
       "    <tr>\n",
       "      <th>4</th>\n",
       "      <td>20240320_142408_alone_comp_subj_3-1_and_3-3</td>\n",
       "      <td>5465.0</td>\n",
       "      <td>5545</td>\n",
       "      <td>5565.0</td>\n",
       "      <td>5664.0</td>\n",
       "      <td>rewarded</td>\n",
       "      <td>NaN</td>\n",
       "      <td>NaN</td>\n",
       "      <td>NaN</td>\n",
       "      <td>NaN</td>\n",
       "      <td>...</td>\n",
       "      <td>[5483 5512] [5552 5698]</td>\n",
       "      <td>[5455 5486] [5581 5794]</td>\n",
       "      <td>20240320_142408_alone_comp_subj_3-1_and_3-3.1....</td>\n",
       "      <td>['3.1', '3.3']</td>\n",
       "      <td>1830734.0</td>\n",
       "      <td>65425515.0</td>\n",
       "      <td>5475942.0</td>\n",
       "      <td>5675942.0</td>\n",
       "      <td>[5493742 5523542] [5563742 5709147]</td>\n",
       "      <td>[5466941 5496741] [5592343 5806546]</td>\n",
       "    </tr>\n",
       "  </tbody>\n",
       "</table>\n",
       "<p>5 rows × 21 columns</p>\n",
       "</div>"
      ],
      "text/plain": [
       "                                   session_dir  tone_start_frame  \\\n",
       "0  20240320_142408_alone_comp_subj_3-1_and_3-3               0.0   \n",
       "1  20240320_142408_alone_comp_subj_3-1_and_3-3            1272.0   \n",
       "2  20240320_142408_alone_comp_subj_3-1_and_3-3            3268.0   \n",
       "3  20240320_142408_alone_comp_subj_3-1_and_3-3            4466.0   \n",
       "4  20240320_142408_alone_comp_subj_3-1_and_3-3            5465.0   \n",
       "\n",
       "   reward_start  reward_dispensed  tone_stop_frame condition  \\\n",
       "0            80             100.0             74.0       NaN   \n",
       "1          1352            1372.0           1471.0  rewarded   \n",
       "2          3348            3368.0           3469.0  rewarded   \n",
       "3          4546            4566.0           4667.0  rewarded   \n",
       "4          5545            5565.0           5664.0  rewarded   \n",
       "\n",
       "  competition_closeness  get_reward_frame  out_reward_frame notes  ...  \\\n",
       "0                   NaN               NaN               NaN   NaN  ...   \n",
       "1                   NaN               NaN               NaN   NaN  ...   \n",
       "2                   NaN               NaN               NaN   NaN  ...   \n",
       "3                   NaN               NaN               NaN   NaN  ...   \n",
       "4                   NaN               NaN               NaN   NaN  ...   \n",
       "\n",
       "                             box_1_port_entry_frames  \\\n",
       "0                                            [ 0 74]   \n",
       "1    [1282 1283] [1285 1297] [1326 1344] [1362 1509]   \n",
       "2    [3281 3324] [3324 3327] [3344 3347] [3347 3523]   \n",
       "3  [4441 4476] [4476 4489] [4508 4509] [4511 4534...   \n",
       "4                            [5483 5512] [5552 5698]   \n",
       "\n",
       "               box_2_port_entry_frames  \\\n",
       "0                              [ 0 74]   \n",
       "1  [1326 1328] [1331 1347] [1380 1592]   \n",
       "2                          [3327 3704]   \n",
       "3  [4445 4473] [4494 4551] [4566 4830]   \n",
       "4              [5455 5486] [5581 5794]   \n",
       "\n",
       "                                          video_name    all_subjects  \\\n",
       "0  20240320_142408_alone_comp_subj_3-1_and_3-3.1....  ['3.1', '3.3']   \n",
       "1  20240320_142408_alone_comp_subj_3-1_and_3-3.1....  ['3.1', '3.3']   \n",
       "2  20240320_142408_alone_comp_subj_3-1_and_3-3.1....  ['3.1', '3.3']   \n",
       "3  20240320_142408_alone_comp_subj_3-1_and_3-3.1....  ['3.1', '3.3']   \n",
       "4  20240320_142408_alone_comp_subj_3-1_and_3-3.1....  ['3.1', '3.3']   \n",
       "\n",
       "  first_timestamp  last_timestamp  tone_start_timestamp  tone_stop_timestamp  \\\n",
       "0       1830734.0      65425515.0                   0.0              75474.0   \n",
       "1       1830734.0      65425515.0             1275889.0            1475891.0   \n",
       "2       1830734.0      65425515.0             3275911.0            3475914.0   \n",
       "3       1830734.0      65425515.0             4475927.0            4675931.0   \n",
       "4       1830734.0      65425515.0             5475942.0            5675942.0   \n",
       "\n",
       "                         box_1_port_entry_timestamps  \\\n",
       "0                                      [    0 75474]   \n",
       "1  [1285888 1286688] [1287488 1300689] [1330286 1...   \n",
       "2  [3287914 3330314] [3331114 3333712] [3351715 3...   \n",
       "3  [4450528 4485129] [4485929 4497529] [4516929 4...   \n",
       "4                [5493742 5523542] [5563742 5709147]   \n",
       "\n",
       "                         box_2_port_entry_timestamps  \n",
       "0                                      [    0 75474]  \n",
       "1  [1329489 1331487] [1334489 1350089] [1383490 1...  \n",
       "2                                  [3333515 3712519]  \n",
       "3  [4454926 4483129] [4503531 4560730] [4575330 4...  \n",
       "4                [5466941 5496741] [5592343 5806546]  \n",
       "\n",
       "[5 rows x 21 columns]"
      ]
     },
     "execution_count": 30,
     "metadata": {},
     "output_type": "execute_result"
    }
   ],
   "source": [
    "TRIAL_LABELS_DF.head()"
   ]
  },
  {
   "cell_type": "code",
   "execution_count": 31,
   "metadata": {
    "tags": []
   },
   "outputs": [
    {
     "data": {
      "text/html": [
       "<div>\n",
       "<style scoped>\n",
       "    .dataframe tbody tr th:only-of-type {\n",
       "        vertical-align: middle;\n",
       "    }\n",
       "\n",
       "    .dataframe tbody tr th {\n",
       "        vertical-align: top;\n",
       "    }\n",
       "\n",
       "    .dataframe thead th {\n",
       "        text-align: right;\n",
       "    }\n",
       "</style>\n",
       "<table border=\"1\" class=\"dataframe\">\n",
       "  <thead>\n",
       "    <tr style=\"text-align: right;\">\n",
       "      <th></th>\n",
       "      <th>cohort</th>\n",
       "      <th>session_dir</th>\n",
       "      <th>tone_frames</th>\n",
       "      <th>box_1_port_entry_frames</th>\n",
       "      <th>box_2_port_entry_frames</th>\n",
       "      <th>video_name</th>\n",
       "      <th>notes</th>\n",
       "      <th>session_path</th>\n",
       "      <th>recording</th>\n",
       "      <th>current_subject</th>\n",
       "      <th>...</th>\n",
       "      <th>reward_port</th>\n",
       "      <th>box_bottom_left</th>\n",
       "      <th>agent</th>\n",
       "      <th>subject_locations</th>\n",
       "      <th>frame_index</th>\n",
       "      <th>agent_locations</th>\n",
       "      <th>subject_thorax_velocity</th>\n",
       "      <th>agent_thorax_velocity</th>\n",
       "      <th>subject_thorax_to_reward_port</th>\n",
       "      <th>agent_thorax_to_reward_port</th>\n",
       "    </tr>\n",
       "  </thead>\n",
       "  <tbody>\n",
       "    <tr>\n",
       "      <th>0</th>\n",
       "      <td>rce_pilot_3</td>\n",
       "      <td>20240320_142408_alone_comp_subj_3-1_and_3-3</td>\n",
       "      <td>[[0, 74], [1272, 1471], [3268, 3469], [4466, 4...</td>\n",
       "      <td>[[0, 74], [152, 157], [252, 305], [305, 323], ...</td>\n",
       "      <td>[[0, 74], [160, 225], [254, 257], [257, 279], ...</td>\n",
       "      <td>20240320_142408_alone_comp_subj_3-1_and_3-3.1</td>\n",
       "      <td>NaN</td>\n",
       "      <td>/scratch/back_up/reward_competition_extention/...</td>\n",
       "      <td>20240320_142408_alone_comp_subj_3-1_t6b6_merged</td>\n",
       "      <td>3.1</td>\n",
       "      <td>...</td>\n",
       "      <td>[60.89621072293514, 35.03865285708705]</td>\n",
       "      <td>[45.88328858282252, 33.462113987746186]</td>\n",
       "      <td>3.3</td>\n",
       "      <td>[[[80.72344548957854, 15.18291385091661], [82....</td>\n",
       "      <td>[1, 2, 3, 4, 5, 6, 7, 8, 9, 10, 11, 12, 13, 14...</td>\n",
       "      <td>[[[78.76350635960564, 15.794081734700777], [82...</td>\n",
       "      <td>[0.0, 0.0, 0.0, 0.0, 0.0, 0.0, 0.0, 0.0, 0.0, ...</td>\n",
       "      <td>[11.09, 10.26, 9.484, 8.77, 8.125, 7.555, 7.05...</td>\n",
       "      <td>[26.84, 26.84, 26.84, 26.84, 26.84, 26.84, 26....</td>\n",
       "      <td>[22.83, 23.27, 23.69, 24.17, 24.75, 24.6, 24.3...</td>\n",
       "    </tr>\n",
       "    <tr>\n",
       "      <th>1</th>\n",
       "      <td>rce_pilot_3</td>\n",
       "      <td>20240320_142408_alone_comp_subj_3-1_and_3-3</td>\n",
       "      <td>[[0, 74], [1272, 1471], [3268, 3469], [4466, 4...</td>\n",
       "      <td>[[0, 74], [152, 157], [252, 305], [305, 323], ...</td>\n",
       "      <td>[[0, 74], [160, 225], [254, 257], [257, 279], ...</td>\n",
       "      <td>20240320_142408_alone_comp_subj_3-1_and_3-3.1</td>\n",
       "      <td>NaN</td>\n",
       "      <td>/scratch/back_up/reward_competition_extention/...</td>\n",
       "      <td>20240320_142408_alone_comp_subj_3-3_t5b5_merged</td>\n",
       "      <td>3.3</td>\n",
       "      <td>...</td>\n",
       "      <td>[60.89621072293514, 35.03865285708705]</td>\n",
       "      <td>[45.88328858282252, 33.462113987746186]</td>\n",
       "      <td>3.1</td>\n",
       "      <td>[[[78.76350635960564, 15.794081734700777], [82...</td>\n",
       "      <td>[1, 2, 3, 4, 5, 6, 7, 8, 9, 10, 11, 12, 13, 14...</td>\n",
       "      <td>[[[80.72344548957854, 15.18291385091661], [82....</td>\n",
       "      <td>[11.09, 10.26, 9.484, 8.77, 8.125, 7.555, 7.05...</td>\n",
       "      <td>[0.0, 0.0, 0.0, 0.0, 0.0, 0.0, 0.0, 0.0, 0.0, ...</td>\n",
       "      <td>[22.83, 23.27, 23.69, 24.17, 24.75, 24.6, 24.3...</td>\n",
       "      <td>[26.84, 26.84, 26.84, 26.84, 26.84, 26.84, 26....</td>\n",
       "    </tr>\n",
       "    <tr>\n",
       "      <th>2</th>\n",
       "      <td>rce_pilot_3</td>\n",
       "      <td>20240320_171038_alone_comp_subj_4-2_and_4-3</td>\n",
       "      <td>[[0, 79], [1276, 1477], [3272, 3473], [4470, 4...</td>\n",
       "      <td>[[0, 79], [84, 92], [92, 132], [145, 175], [25...</td>\n",
       "      <td>[[0, 79], [79, 186], [188, 191], [191, 268], [...</td>\n",
       "      <td>20240320_171038_alone_comp_subj_4-2_and_4-3.1</td>\n",
       "      <td>NaN</td>\n",
       "      <td>/scratch/back_up/reward_competition_extention/...</td>\n",
       "      <td>20240320_171038_alone_comp_subj_4-2_t6b6_merged</td>\n",
       "      <td>4.2</td>\n",
       "      <td>...</td>\n",
       "      <td>[61.213420932957966, 35.084751405625006]</td>\n",
       "      <td>[46.2961822248657, 33.41760470505085]</td>\n",
       "      <td>4.3</td>\n",
       "      <td>[[[64.90703525371228, 33.28528990033932], [47....</td>\n",
       "      <td>[1, 2, 3, 4, 5, 6, 7, 8, 9, 10, 11, 12, 13, 14...</td>\n",
       "      <td>[[[64.44770418343036, 33.62145921311694], [60....</td>\n",
       "      <td>[4.75, 4.48, 4.207, 3.932, 3.658, 3.383, 3.105...</td>\n",
       "      <td>[2.611, 2.268, 1.943, 1.642, 1.36, 1.101, 0.86...</td>\n",
       "      <td>[4.5, 4.5, 4.5, 4.5, 4.5, 4.5, 4.5, 4.5, 4.5, ...</td>\n",
       "      <td>[4.754, 4.723, 4.504, 4.598, 4.617, 4.617, 4.4...</td>\n",
       "    </tr>\n",
       "    <tr>\n",
       "      <th>3</th>\n",
       "      <td>rce_pilot_3</td>\n",
       "      <td>20240320_171038_alone_comp_subj_4-2_and_4-3</td>\n",
       "      <td>[[0, 79], [1276, 1477], [3272, 3473], [4470, 4...</td>\n",
       "      <td>[[0, 79], [84, 92], [92, 132], [145, 175], [25...</td>\n",
       "      <td>[[0, 79], [79, 186], [188, 191], [191, 268], [...</td>\n",
       "      <td>20240320_171038_alone_comp_subj_4-2_and_4-3.1</td>\n",
       "      <td>NaN</td>\n",
       "      <td>/scratch/back_up/reward_competition_extention/...</td>\n",
       "      <td>20240320_171038_alone_comp_subj_4-3_t5b5_merged</td>\n",
       "      <td>4.3</td>\n",
       "      <td>...</td>\n",
       "      <td>[61.213420932957966, 35.084751405625006]</td>\n",
       "      <td>[46.2961822248657, 33.41760470505085]</td>\n",
       "      <td>4.2</td>\n",
       "      <td>[[[64.44770418343036, 33.62145921311694], [60....</td>\n",
       "      <td>[1, 2, 3, 4, 5, 6, 7, 8, 9, 10, 11, 12, 13, 14...</td>\n",
       "      <td>[[[64.90703525371228, 33.28528990033932], [47....</td>\n",
       "      <td>[2.611, 2.268, 1.943, 1.642, 1.36, 1.101, 0.86...</td>\n",
       "      <td>[4.75, 4.48, 4.207, 3.932, 3.658, 3.383, 3.105...</td>\n",
       "      <td>[4.754, 4.723, 4.504, 4.598, 4.617, 4.617, 4.4...</td>\n",
       "      <td>[4.5, 4.5, 4.5, 4.5, 4.5, 4.5, 4.5, 4.5, 4.5, ...</td>\n",
       "    </tr>\n",
       "    <tr>\n",
       "      <th>4</th>\n",
       "      <td>rce_pilot_3</td>\n",
       "      <td>20240322_120625_alone_comp_subj_3-3_and_3-4</td>\n",
       "      <td>[[0, 101], [1299, 1500], [3297, 3496], [4494, ...</td>\n",
       "      <td>[[0, 101], [102, 105], [181, 226], [226, 260],...</td>\n",
       "      <td>[[0, 101], [223, 248], [286, 292], [293, 302],...</td>\n",
       "      <td>20240322_120625_alone_comp_subj_3-3_and_3-4.1</td>\n",
       "      <td>NaN</td>\n",
       "      <td>/scratch/back_up/reward_competition_extention/...</td>\n",
       "      <td>20240322_120625_alone_comp_subj_3-3_t6b6_merged</td>\n",
       "      <td>3.3</td>\n",
       "      <td>...</td>\n",
       "      <td>[60.64564060702992, 34.963224775288616]</td>\n",
       "      <td>[46.12282765327953, 33.535485726445984]</td>\n",
       "      <td>3.4</td>\n",
       "      <td>[[[42.67602103277421, 38.86750190352169], [55....</td>\n",
       "      <td>[1, 2, 3, 4, 5, 6, 7, 8, 9, 10, 11, 12, 13, 14...</td>\n",
       "      <td>[[[44.93975760933053, 22.757104477777183], [48...</td>\n",
       "      <td>[0.0, 0.0, 0.0, 0.0, 0.0, 0.0, 0.0, 0.0, 0.0, ...</td>\n",
       "      <td>[58.16, 55.34, 52.6, 49.94, 47.34, 44.8, 42.34...</td>\n",
       "      <td>[2.113, 2.113, 2.113, 2.113, 2.113, 2.113, 2.1...</td>\n",
       "      <td>[17.23, 17.56, 17.75, 17.83, 17.73, 17.27, 16....</td>\n",
       "    </tr>\n",
       "  </tbody>\n",
       "</table>\n",
       "<p>5 rows × 49 columns</p>\n",
       "</div>"
      ],
      "text/plain": [
       "        cohort                                  session_dir  \\\n",
       "0  rce_pilot_3  20240320_142408_alone_comp_subj_3-1_and_3-3   \n",
       "1  rce_pilot_3  20240320_142408_alone_comp_subj_3-1_and_3-3   \n",
       "2  rce_pilot_3  20240320_171038_alone_comp_subj_4-2_and_4-3   \n",
       "3  rce_pilot_3  20240320_171038_alone_comp_subj_4-2_and_4-3   \n",
       "4  rce_pilot_3  20240322_120625_alone_comp_subj_3-3_and_3-4   \n",
       "\n",
       "                                         tone_frames  \\\n",
       "0  [[0, 74], [1272, 1471], [3268, 3469], [4466, 4...   \n",
       "1  [[0, 74], [1272, 1471], [3268, 3469], [4466, 4...   \n",
       "2  [[0, 79], [1276, 1477], [3272, 3473], [4470, 4...   \n",
       "3  [[0, 79], [1276, 1477], [3272, 3473], [4470, 4...   \n",
       "4  [[0, 101], [1299, 1500], [3297, 3496], [4494, ...   \n",
       "\n",
       "                             box_1_port_entry_frames  \\\n",
       "0  [[0, 74], [152, 157], [252, 305], [305, 323], ...   \n",
       "1  [[0, 74], [152, 157], [252, 305], [305, 323], ...   \n",
       "2  [[0, 79], [84, 92], [92, 132], [145, 175], [25...   \n",
       "3  [[0, 79], [84, 92], [92, 132], [145, 175], [25...   \n",
       "4  [[0, 101], [102, 105], [181, 226], [226, 260],...   \n",
       "\n",
       "                             box_2_port_entry_frames  \\\n",
       "0  [[0, 74], [160, 225], [254, 257], [257, 279], ...   \n",
       "1  [[0, 74], [160, 225], [254, 257], [257, 279], ...   \n",
       "2  [[0, 79], [79, 186], [188, 191], [191, 268], [...   \n",
       "3  [[0, 79], [79, 186], [188, 191], [191, 268], [...   \n",
       "4  [[0, 101], [223, 248], [286, 292], [293, 302],...   \n",
       "\n",
       "                                      video_name notes  \\\n",
       "0  20240320_142408_alone_comp_subj_3-1_and_3-3.1   NaN   \n",
       "1  20240320_142408_alone_comp_subj_3-1_and_3-3.1   NaN   \n",
       "2  20240320_171038_alone_comp_subj_4-2_and_4-3.1   NaN   \n",
       "3  20240320_171038_alone_comp_subj_4-2_and_4-3.1   NaN   \n",
       "4  20240322_120625_alone_comp_subj_3-3_and_3-4.1   NaN   \n",
       "\n",
       "                                        session_path  \\\n",
       "0  /scratch/back_up/reward_competition_extention/...   \n",
       "1  /scratch/back_up/reward_competition_extention/...   \n",
       "2  /scratch/back_up/reward_competition_extention/...   \n",
       "3  /scratch/back_up/reward_competition_extention/...   \n",
       "4  /scratch/back_up/reward_competition_extention/...   \n",
       "\n",
       "                                         recording current_subject  ...  \\\n",
       "0  20240320_142408_alone_comp_subj_3-1_t6b6_merged             3.1  ...   \n",
       "1  20240320_142408_alone_comp_subj_3-3_t5b5_merged             3.3  ...   \n",
       "2  20240320_171038_alone_comp_subj_4-2_t6b6_merged             4.2  ...   \n",
       "3  20240320_171038_alone_comp_subj_4-3_t5b5_merged             4.3  ...   \n",
       "4  20240322_120625_alone_comp_subj_3-3_t6b6_merged             3.3  ...   \n",
       "\n",
       "                                reward_port  \\\n",
       "0    [60.89621072293514, 35.03865285708705]   \n",
       "1    [60.89621072293514, 35.03865285708705]   \n",
       "2  [61.213420932957966, 35.084751405625006]   \n",
       "3  [61.213420932957966, 35.084751405625006]   \n",
       "4   [60.64564060702992, 34.963224775288616]   \n",
       "\n",
       "                           box_bottom_left  agent  \\\n",
       "0  [45.88328858282252, 33.462113987746186]    3.3   \n",
       "1  [45.88328858282252, 33.462113987746186]    3.1   \n",
       "2    [46.2961822248657, 33.41760470505085]    4.3   \n",
       "3    [46.2961822248657, 33.41760470505085]    4.2   \n",
       "4  [46.12282765327953, 33.535485726445984]    3.4   \n",
       "\n",
       "                                   subject_locations  \\\n",
       "0  [[[80.72344548957854, 15.18291385091661], [82....   \n",
       "1  [[[78.76350635960564, 15.794081734700777], [82...   \n",
       "2  [[[64.90703525371228, 33.28528990033932], [47....   \n",
       "3  [[[64.44770418343036, 33.62145921311694], [60....   \n",
       "4  [[[42.67602103277421, 38.86750190352169], [55....   \n",
       "\n",
       "                                         frame_index  \\\n",
       "0  [1, 2, 3, 4, 5, 6, 7, 8, 9, 10, 11, 12, 13, 14...   \n",
       "1  [1, 2, 3, 4, 5, 6, 7, 8, 9, 10, 11, 12, 13, 14...   \n",
       "2  [1, 2, 3, 4, 5, 6, 7, 8, 9, 10, 11, 12, 13, 14...   \n",
       "3  [1, 2, 3, 4, 5, 6, 7, 8, 9, 10, 11, 12, 13, 14...   \n",
       "4  [1, 2, 3, 4, 5, 6, 7, 8, 9, 10, 11, 12, 13, 14...   \n",
       "\n",
       "                                     agent_locations  \\\n",
       "0  [[[78.76350635960564, 15.794081734700777], [82...   \n",
       "1  [[[80.72344548957854, 15.18291385091661], [82....   \n",
       "2  [[[64.44770418343036, 33.62145921311694], [60....   \n",
       "3  [[[64.90703525371228, 33.28528990033932], [47....   \n",
       "4  [[[44.93975760933053, 22.757104477777183], [48...   \n",
       "\n",
       "                             subject_thorax_velocity  \\\n",
       "0  [0.0, 0.0, 0.0, 0.0, 0.0, 0.0, 0.0, 0.0, 0.0, ...   \n",
       "1  [11.09, 10.26, 9.484, 8.77, 8.125, 7.555, 7.05...   \n",
       "2  [4.75, 4.48, 4.207, 3.932, 3.658, 3.383, 3.105...   \n",
       "3  [2.611, 2.268, 1.943, 1.642, 1.36, 1.101, 0.86...   \n",
       "4  [0.0, 0.0, 0.0, 0.0, 0.0, 0.0, 0.0, 0.0, 0.0, ...   \n",
       "\n",
       "                               agent_thorax_velocity  \\\n",
       "0  [11.09, 10.26, 9.484, 8.77, 8.125, 7.555, 7.05...   \n",
       "1  [0.0, 0.0, 0.0, 0.0, 0.0, 0.0, 0.0, 0.0, 0.0, ...   \n",
       "2  [2.611, 2.268, 1.943, 1.642, 1.36, 1.101, 0.86...   \n",
       "3  [4.75, 4.48, 4.207, 3.932, 3.658, 3.383, 3.105...   \n",
       "4  [58.16, 55.34, 52.6, 49.94, 47.34, 44.8, 42.34...   \n",
       "\n",
       "                       subject_thorax_to_reward_port  \\\n",
       "0  [26.84, 26.84, 26.84, 26.84, 26.84, 26.84, 26....   \n",
       "1  [22.83, 23.27, 23.69, 24.17, 24.75, 24.6, 24.3...   \n",
       "2  [4.5, 4.5, 4.5, 4.5, 4.5, 4.5, 4.5, 4.5, 4.5, ...   \n",
       "3  [4.754, 4.723, 4.504, 4.598, 4.617, 4.617, 4.4...   \n",
       "4  [2.113, 2.113, 2.113, 2.113, 2.113, 2.113, 2.1...   \n",
       "\n",
       "                         agent_thorax_to_reward_port  \n",
       "0  [22.83, 23.27, 23.69, 24.17, 24.75, 24.6, 24.3...  \n",
       "1  [26.84, 26.84, 26.84, 26.84, 26.84, 26.84, 26....  \n",
       "2  [4.754, 4.723, 4.504, 4.598, 4.617, 4.617, 4.4...  \n",
       "3  [4.5, 4.5, 4.5, 4.5, 4.5, 4.5, 4.5, 4.5, 4.5, ...  \n",
       "4  [17.23, 17.56, 17.75, 17.83, 17.73, 17.27, 16....  \n",
       "\n",
       "[5 rows x 49 columns]"
      ]
     },
     "execution_count": 31,
     "metadata": {},
     "output_type": "execute_result"
    }
   ],
   "source": [
    "LFP_SPECTRAL_DF.head()"
   ]
  },
  {
   "cell_type": "markdown",
   "metadata": {},
   "source": [
    "# Dropping redundant columns"
   ]
  },
  {
   "cell_type": "code",
   "execution_count": 32,
   "metadata": {
    "tags": []
   },
   "outputs": [],
   "source": [
    "dropping_columns = list(set(TRIAL_LABELS_DF.columns).intersection(set(LFP_SPECTRAL_DF.columns)))"
   ]
  },
  {
   "cell_type": "code",
   "execution_count": 33,
   "metadata": {
    "tags": []
   },
   "outputs": [
    {
     "data": {
      "text/plain": [
       "['box_2_port_entry_timestamps',\n",
       " 'all_subjects',\n",
       " 'first_timestamp',\n",
       " 'video_name',\n",
       " 'session_dir',\n",
       " 'last_timestamp',\n",
       " 'box_1_port_entry_timestamps',\n",
       " 'notes',\n",
       " 'box_2_port_entry_frames',\n",
       " 'box_1_port_entry_frames']"
      ]
     },
     "execution_count": 33,
     "metadata": {},
     "output_type": "execute_result"
    }
   ],
   "source": [
    "dropping_columns"
   ]
  },
  {
   "cell_type": "code",
   "execution_count": 34,
   "metadata": {},
   "outputs": [],
   "source": [
    "TRIAL_LABELS_DF = TRIAL_LABELS_DF.drop(columns=[col for col in dropping_columns if col != \"video_name\"], errors=\"ignore\")"
   ]
  },
  {
   "cell_type": "markdown",
   "metadata": {},
   "source": [
    "## Merging the LFP and trial dataframe"
   ]
  },
  {
   "cell_type": "code",
   "execution_count": 35,
   "metadata": {
    "tags": []
   },
   "outputs": [],
   "source": [
    "LFP_SPECTRAL_DF[\"video_name\"] = LFP_SPECTRAL_DF[\"video_name\"].apply(lambda x: x.strip(\".videoTimeStamps.cameraHWSync\"))"
   ]
  },
  {
   "cell_type": "code",
   "execution_count": 36,
   "metadata": {},
   "outputs": [
    {
     "data": {
      "text/plain": [
       "array(['20240320_142408_alone_comp_subj_3-1_and_3-3.1',\n",
       "       '20240320_171038_alone_comp_subj_4-2_and_4-3.1',\n",
       "       '20240322_120625_alone_comp_subj_3-3_and_3-4.1',\n",
       "       '20240322_160946_alone_comp_subj_4-3_and_4-4.1',\n",
       "       '20240323_122227_alone_comp_subj_5-2_and_5-3.1',\n",
       "       '20240323_144517_alone_comp_subj_3-1_and_3-4.1',\n",
       "       '20240323_165815_alone_comp_subj_4-2_and_4-4.1'], dtype=object)"
      ]
     },
     "execution_count": 36,
     "metadata": {},
     "output_type": "execute_result"
    }
   ],
   "source": [
    "LFP_SPECTRAL_DF[\"video_name\"].unique()"
   ]
  },
  {
   "cell_type": "code",
   "execution_count": 37,
   "metadata": {
    "tags": []
   },
   "outputs": [],
   "source": [
    "LFP_SPECTRAL_DF[\"current_subject\"] = LFP_SPECTRAL_DF[\"current_subject\"].astype(str)\n"
   ]
  },
  {
   "cell_type": "code",
   "execution_count": 38,
   "metadata": {},
   "outputs": [
    {
     "data": {
      "text/plain": [
       "0    3.1\n",
       "1    3.3\n",
       "2    4.2\n",
       "3    4.3\n",
       "4    3.3\n",
       "Name: current_subject, dtype: object"
      ]
     },
     "execution_count": 38,
     "metadata": {},
     "output_type": "execute_result"
    }
   ],
   "source": [
    "LFP_SPECTRAL_DF[\"current_subject\"].head()"
   ]
  },
  {
   "cell_type": "code",
   "execution_count": 39,
   "metadata": {
    "tags": []
   },
   "outputs": [],
   "source": [
    "TRIAL_LABELS_DF = TRIAL_LABELS_DF.dropna(subset=[\"video_name\"])"
   ]
  },
  {
   "cell_type": "code",
   "execution_count": 40,
   "metadata": {
    "tags": []
   },
   "outputs": [],
   "source": [
    "TRIAL_LABELS_DF = TRIAL_LABELS_DF.dropna(subset=[\"condition\"])"
   ]
  },
  {
   "cell_type": "code",
   "execution_count": 41,
   "metadata": {
    "tags": []
   },
   "outputs": [],
   "source": [
    "TRIAL_LABELS_DF[\"video_name\"] = TRIAL_LABELS_DF[\"video_name\"].apply(lambda x: x.strip(\".videoTimeStamps.cameraHWSync\"))\n"
   ]
  },
  {
   "cell_type": "code",
   "execution_count": 42,
   "metadata": {
    "tags": []
   },
   "outputs": [
    {
     "data": {
      "text/plain": [
       "array(['20240320_142408_alone_comp_subj_3-1_and_3-3.1',\n",
       "       '20240320_142408_alone_comp_subj_3-1_and_3-3.2',\n",
       "       '20240320_171038_alone_comp_subj_4-2_and_4-3.1',\n",
       "       '20240320_171038_alone_comp_subj_4-2_and_4-3.2',\n",
       "       '20240322_120625_alone_comp_subj_3-3_and_3-4.1',\n",
       "       '20240322_120625_alone_comp_subj_3-3_and_3-4.2',\n",
       "       '20240322_160946_alone_comp_subj_4-3_and_4-4.1',\n",
       "       '20240322_160946_alone_comp_subj_4-3_and_4-4.2',\n",
       "       '20240323_122227_alone_comp_subj_5-2_and_5-3.1',\n",
       "       '20240323_122227_alone_comp_subj_5-2_and_5-3.2',\n",
       "       '20240323_144517_alone_comp_subj_3-1_and_3-4.1',\n",
       "       '20240323_144517_alone_comp_subj_3-1_and_3-4.2',\n",
       "       '20240323_165815_alone_comp_subj_4-2_and_4-4.1',\n",
       "       '20240323_165815_alone_comp_subj_4-2_and_4-4.2'], dtype=object)"
      ]
     },
     "execution_count": 42,
     "metadata": {},
     "output_type": "execute_result"
    }
   ],
   "source": [
    "TRIAL_LABELS_DF[\"video_name\"].unique()"
   ]
  },
  {
   "cell_type": "code",
   "execution_count": 43,
   "metadata": {
    "tags": []
   },
   "outputs": [],
   "source": [
    "TRIALS_AND_SPECTRAL_DF = pd.merge(TRIAL_LABELS_DF, LFP_SPECTRAL_DF, on=[\"video_name\"], how=\"inner\", suffixes=('', '_remove'))"
   ]
  },
  {
   "cell_type": "code",
   "execution_count": 44,
   "metadata": {
    "tags": []
   },
   "outputs": [
    {
     "data": {
      "text/html": [
       "<div>\n",
       "<style scoped>\n",
       "    .dataframe tbody tr th:only-of-type {\n",
       "        vertical-align: middle;\n",
       "    }\n",
       "\n",
       "    .dataframe tbody tr th {\n",
       "        vertical-align: top;\n",
       "    }\n",
       "\n",
       "    .dataframe thead th {\n",
       "        text-align: right;\n",
       "    }\n",
       "</style>\n",
       "<table border=\"1\" class=\"dataframe\">\n",
       "  <thead>\n",
       "    <tr style=\"text-align: right;\">\n",
       "      <th></th>\n",
       "    </tr>\n",
       "  </thead>\n",
       "  <tbody>\n",
       "    <tr>\n",
       "      <th>0</th>\n",
       "    </tr>\n",
       "    <tr>\n",
       "      <th>1</th>\n",
       "    </tr>\n",
       "    <tr>\n",
       "      <th>2</th>\n",
       "    </tr>\n",
       "    <tr>\n",
       "      <th>3</th>\n",
       "    </tr>\n",
       "    <tr>\n",
       "      <th>4</th>\n",
       "    </tr>\n",
       "  </tbody>\n",
       "</table>\n",
       "</div>"
      ],
      "text/plain": [
       "Empty DataFrame\n",
       "Columns: []\n",
       "Index: [0, 1, 2, 3, 4]"
      ]
     },
     "execution_count": 44,
     "metadata": {},
     "output_type": "execute_result"
    }
   ],
   "source": [
    "TRIALS_AND_SPECTRAL_DF[[col for col in TRIALS_AND_SPECTRAL_DF if \"_remove\" in col]].head()"
   ]
  },
  {
   "cell_type": "code",
   "execution_count": 45,
   "metadata": {
    "tags": []
   },
   "outputs": [],
   "source": [
    "TRIALS_AND_SPECTRAL_DF = TRIALS_AND_SPECTRAL_DF.drop(columns=[col for col in TRIALS_AND_SPECTRAL_DF if \"remove\" in col], errors=\"ignore\")"
   ]
  },
  {
   "cell_type": "code",
   "execution_count": 46,
   "metadata": {
    "tags": []
   },
   "outputs": [],
   "source": [
    "TRIALS_AND_SPECTRAL_DF = TRIALS_AND_SPECTRAL_DF.drop(columns=[col for col in TRIALS_AND_SPECTRAL_DF if \"Unnamed\" in col])"
   ]
  },
  {
   "cell_type": "code",
   "execution_count": 47,
   "metadata": {
    "tags": []
   },
   "outputs": [
    {
     "data": {
      "text/html": [
       "<div>\n",
       "<style scoped>\n",
       "    .dataframe tbody tr th:only-of-type {\n",
       "        vertical-align: middle;\n",
       "    }\n",
       "\n",
       "    .dataframe tbody tr th {\n",
       "        vertical-align: top;\n",
       "    }\n",
       "\n",
       "    .dataframe thead th {\n",
       "        text-align: right;\n",
       "    }\n",
       "</style>\n",
       "<table border=\"1\" class=\"dataframe\">\n",
       "  <thead>\n",
       "    <tr style=\"text-align: right;\">\n",
       "      <th></th>\n",
       "      <th>tone_start_frame</th>\n",
       "      <th>reward_start</th>\n",
       "      <th>reward_dispensed</th>\n",
       "      <th>tone_stop_frame</th>\n",
       "      <th>condition</th>\n",
       "      <th>competition_closeness</th>\n",
       "      <th>get_reward_frame</th>\n",
       "      <th>out_reward_frame</th>\n",
       "      <th>experiment</th>\n",
       "      <th>video_name</th>\n",
       "      <th>...</th>\n",
       "      <th>reward_port</th>\n",
       "      <th>box_bottom_left</th>\n",
       "      <th>agent</th>\n",
       "      <th>subject_locations</th>\n",
       "      <th>frame_index</th>\n",
       "      <th>agent_locations</th>\n",
       "      <th>subject_thorax_velocity</th>\n",
       "      <th>agent_thorax_velocity</th>\n",
       "      <th>subject_thorax_to_reward_port</th>\n",
       "      <th>agent_thorax_to_reward_port</th>\n",
       "    </tr>\n",
       "  </thead>\n",
       "  <tbody>\n",
       "    <tr>\n",
       "      <th>0</th>\n",
       "      <td>1272.0</td>\n",
       "      <td>1352</td>\n",
       "      <td>1372.0</td>\n",
       "      <td>1471.0</td>\n",
       "      <td>rewarded</td>\n",
       "      <td>NaN</td>\n",
       "      <td>NaN</td>\n",
       "      <td>NaN</td>\n",
       "      <td>alone_comp</td>\n",
       "      <td>20240320_142408_alone_comp_subj_3-1_and_3-3.1</td>\n",
       "      <td>...</td>\n",
       "      <td>[60.89621072293514, 35.03865285708705]</td>\n",
       "      <td>[45.88328858282252, 33.462113987746186]</td>\n",
       "      <td>3.3</td>\n",
       "      <td>[[[80.72344548957854, 15.18291385091661], [82....</td>\n",
       "      <td>[1, 2, 3, 4, 5, 6, 7, 8, 9, 10, 11, 12, 13, 14...</td>\n",
       "      <td>[[[78.76350635960564, 15.794081734700777], [82...</td>\n",
       "      <td>[0.0, 0.0, 0.0, 0.0, 0.0, 0.0, 0.0, 0.0, 0.0, ...</td>\n",
       "      <td>[11.09, 10.26, 9.484, 8.77, 8.125, 7.555, 7.05...</td>\n",
       "      <td>[26.84, 26.84, 26.84, 26.84, 26.84, 26.84, 26....</td>\n",
       "      <td>[22.83, 23.27, 23.69, 24.17, 24.75, 24.6, 24.3...</td>\n",
       "    </tr>\n",
       "    <tr>\n",
       "      <th>1</th>\n",
       "      <td>1272.0</td>\n",
       "      <td>1352</td>\n",
       "      <td>1372.0</td>\n",
       "      <td>1471.0</td>\n",
       "      <td>rewarded</td>\n",
       "      <td>NaN</td>\n",
       "      <td>NaN</td>\n",
       "      <td>NaN</td>\n",
       "      <td>alone_comp</td>\n",
       "      <td>20240320_142408_alone_comp_subj_3-1_and_3-3.1</td>\n",
       "      <td>...</td>\n",
       "      <td>[60.89621072293514, 35.03865285708705]</td>\n",
       "      <td>[45.88328858282252, 33.462113987746186]</td>\n",
       "      <td>3.1</td>\n",
       "      <td>[[[78.76350635960564, 15.794081734700777], [82...</td>\n",
       "      <td>[1, 2, 3, 4, 5, 6, 7, 8, 9, 10, 11, 12, 13, 14...</td>\n",
       "      <td>[[[80.72344548957854, 15.18291385091661], [82....</td>\n",
       "      <td>[11.09, 10.26, 9.484, 8.77, 8.125, 7.555, 7.05...</td>\n",
       "      <td>[0.0, 0.0, 0.0, 0.0, 0.0, 0.0, 0.0, 0.0, 0.0, ...</td>\n",
       "      <td>[22.83, 23.27, 23.69, 24.17, 24.75, 24.6, 24.3...</td>\n",
       "      <td>[26.84, 26.84, 26.84, 26.84, 26.84, 26.84, 26....</td>\n",
       "    </tr>\n",
       "    <tr>\n",
       "      <th>2</th>\n",
       "      <td>3268.0</td>\n",
       "      <td>3348</td>\n",
       "      <td>3368.0</td>\n",
       "      <td>3469.0</td>\n",
       "      <td>rewarded</td>\n",
       "      <td>NaN</td>\n",
       "      <td>NaN</td>\n",
       "      <td>NaN</td>\n",
       "      <td>alone_comp</td>\n",
       "      <td>20240320_142408_alone_comp_subj_3-1_and_3-3.1</td>\n",
       "      <td>...</td>\n",
       "      <td>[60.89621072293514, 35.03865285708705]</td>\n",
       "      <td>[45.88328858282252, 33.462113987746186]</td>\n",
       "      <td>3.3</td>\n",
       "      <td>[[[80.72344548957854, 15.18291385091661], [82....</td>\n",
       "      <td>[1, 2, 3, 4, 5, 6, 7, 8, 9, 10, 11, 12, 13, 14...</td>\n",
       "      <td>[[[78.76350635960564, 15.794081734700777], [82...</td>\n",
       "      <td>[0.0, 0.0, 0.0, 0.0, 0.0, 0.0, 0.0, 0.0, 0.0, ...</td>\n",
       "      <td>[11.09, 10.26, 9.484, 8.77, 8.125, 7.555, 7.05...</td>\n",
       "      <td>[26.84, 26.84, 26.84, 26.84, 26.84, 26.84, 26....</td>\n",
       "      <td>[22.83, 23.27, 23.69, 24.17, 24.75, 24.6, 24.3...</td>\n",
       "    </tr>\n",
       "    <tr>\n",
       "      <th>3</th>\n",
       "      <td>3268.0</td>\n",
       "      <td>3348</td>\n",
       "      <td>3368.0</td>\n",
       "      <td>3469.0</td>\n",
       "      <td>rewarded</td>\n",
       "      <td>NaN</td>\n",
       "      <td>NaN</td>\n",
       "      <td>NaN</td>\n",
       "      <td>alone_comp</td>\n",
       "      <td>20240320_142408_alone_comp_subj_3-1_and_3-3.1</td>\n",
       "      <td>...</td>\n",
       "      <td>[60.89621072293514, 35.03865285708705]</td>\n",
       "      <td>[45.88328858282252, 33.462113987746186]</td>\n",
       "      <td>3.1</td>\n",
       "      <td>[[[78.76350635960564, 15.794081734700777], [82...</td>\n",
       "      <td>[1, 2, 3, 4, 5, 6, 7, 8, 9, 10, 11, 12, 13, 14...</td>\n",
       "      <td>[[[80.72344548957854, 15.18291385091661], [82....</td>\n",
       "      <td>[11.09, 10.26, 9.484, 8.77, 8.125, 7.555, 7.05...</td>\n",
       "      <td>[0.0, 0.0, 0.0, 0.0, 0.0, 0.0, 0.0, 0.0, 0.0, ...</td>\n",
       "      <td>[22.83, 23.27, 23.69, 24.17, 24.75, 24.6, 24.3...</td>\n",
       "      <td>[26.84, 26.84, 26.84, 26.84, 26.84, 26.84, 26....</td>\n",
       "    </tr>\n",
       "    <tr>\n",
       "      <th>4</th>\n",
       "      <td>4466.0</td>\n",
       "      <td>4546</td>\n",
       "      <td>4566.0</td>\n",
       "      <td>4667.0</td>\n",
       "      <td>rewarded</td>\n",
       "      <td>NaN</td>\n",
       "      <td>NaN</td>\n",
       "      <td>NaN</td>\n",
       "      <td>alone_comp</td>\n",
       "      <td>20240320_142408_alone_comp_subj_3-1_and_3-3.1</td>\n",
       "      <td>...</td>\n",
       "      <td>[60.89621072293514, 35.03865285708705]</td>\n",
       "      <td>[45.88328858282252, 33.462113987746186]</td>\n",
       "      <td>3.3</td>\n",
       "      <td>[[[80.72344548957854, 15.18291385091661], [82....</td>\n",
       "      <td>[1, 2, 3, 4, 5, 6, 7, 8, 9, 10, 11, 12, 13, 14...</td>\n",
       "      <td>[[[78.76350635960564, 15.794081734700777], [82...</td>\n",
       "      <td>[0.0, 0.0, 0.0, 0.0, 0.0, 0.0, 0.0, 0.0, 0.0, ...</td>\n",
       "      <td>[11.09, 10.26, 9.484, 8.77, 8.125, 7.555, 7.05...</td>\n",
       "      <td>[26.84, 26.84, 26.84, 26.84, 26.84, 26.84, 26....</td>\n",
       "      <td>[22.83, 23.27, 23.69, 24.17, 24.75, 24.6, 24.3...</td>\n",
       "    </tr>\n",
       "  </tbody>\n",
       "</table>\n",
       "<p>5 rows × 60 columns</p>\n",
       "</div>"
      ],
      "text/plain": [
       "   tone_start_frame  reward_start  reward_dispensed  tone_stop_frame  \\\n",
       "0            1272.0          1352            1372.0           1471.0   \n",
       "1            1272.0          1352            1372.0           1471.0   \n",
       "2            3268.0          3348            3368.0           3469.0   \n",
       "3            3268.0          3348            3368.0           3469.0   \n",
       "4            4466.0          4546            4566.0           4667.0   \n",
       "\n",
       "  condition competition_closeness  get_reward_frame  out_reward_frame  \\\n",
       "0  rewarded                   NaN               NaN               NaN   \n",
       "1  rewarded                   NaN               NaN               NaN   \n",
       "2  rewarded                   NaN               NaN               NaN   \n",
       "3  rewarded                   NaN               NaN               NaN   \n",
       "4  rewarded                   NaN               NaN               NaN   \n",
       "\n",
       "   experiment                                     video_name  ...  \\\n",
       "0  alone_comp  20240320_142408_alone_comp_subj_3-1_and_3-3.1  ...   \n",
       "1  alone_comp  20240320_142408_alone_comp_subj_3-1_and_3-3.1  ...   \n",
       "2  alone_comp  20240320_142408_alone_comp_subj_3-1_and_3-3.1  ...   \n",
       "3  alone_comp  20240320_142408_alone_comp_subj_3-1_and_3-3.1  ...   \n",
       "4  alone_comp  20240320_142408_alone_comp_subj_3-1_and_3-3.1  ...   \n",
       "\n",
       "                              reward_port  \\\n",
       "0  [60.89621072293514, 35.03865285708705]   \n",
       "1  [60.89621072293514, 35.03865285708705]   \n",
       "2  [60.89621072293514, 35.03865285708705]   \n",
       "3  [60.89621072293514, 35.03865285708705]   \n",
       "4  [60.89621072293514, 35.03865285708705]   \n",
       "\n",
       "                           box_bottom_left agent  \\\n",
       "0  [45.88328858282252, 33.462113987746186]   3.3   \n",
       "1  [45.88328858282252, 33.462113987746186]   3.1   \n",
       "2  [45.88328858282252, 33.462113987746186]   3.3   \n",
       "3  [45.88328858282252, 33.462113987746186]   3.1   \n",
       "4  [45.88328858282252, 33.462113987746186]   3.3   \n",
       "\n",
       "                                   subject_locations  \\\n",
       "0  [[[80.72344548957854, 15.18291385091661], [82....   \n",
       "1  [[[78.76350635960564, 15.794081734700777], [82...   \n",
       "2  [[[80.72344548957854, 15.18291385091661], [82....   \n",
       "3  [[[78.76350635960564, 15.794081734700777], [82...   \n",
       "4  [[[80.72344548957854, 15.18291385091661], [82....   \n",
       "\n",
       "                                         frame_index  \\\n",
       "0  [1, 2, 3, 4, 5, 6, 7, 8, 9, 10, 11, 12, 13, 14...   \n",
       "1  [1, 2, 3, 4, 5, 6, 7, 8, 9, 10, 11, 12, 13, 14...   \n",
       "2  [1, 2, 3, 4, 5, 6, 7, 8, 9, 10, 11, 12, 13, 14...   \n",
       "3  [1, 2, 3, 4, 5, 6, 7, 8, 9, 10, 11, 12, 13, 14...   \n",
       "4  [1, 2, 3, 4, 5, 6, 7, 8, 9, 10, 11, 12, 13, 14...   \n",
       "\n",
       "                                     agent_locations  \\\n",
       "0  [[[78.76350635960564, 15.794081734700777], [82...   \n",
       "1  [[[80.72344548957854, 15.18291385091661], [82....   \n",
       "2  [[[78.76350635960564, 15.794081734700777], [82...   \n",
       "3  [[[80.72344548957854, 15.18291385091661], [82....   \n",
       "4  [[[78.76350635960564, 15.794081734700777], [82...   \n",
       "\n",
       "                             subject_thorax_velocity  \\\n",
       "0  [0.0, 0.0, 0.0, 0.0, 0.0, 0.0, 0.0, 0.0, 0.0, ...   \n",
       "1  [11.09, 10.26, 9.484, 8.77, 8.125, 7.555, 7.05...   \n",
       "2  [0.0, 0.0, 0.0, 0.0, 0.0, 0.0, 0.0, 0.0, 0.0, ...   \n",
       "3  [11.09, 10.26, 9.484, 8.77, 8.125, 7.555, 7.05...   \n",
       "4  [0.0, 0.0, 0.0, 0.0, 0.0, 0.0, 0.0, 0.0, 0.0, ...   \n",
       "\n",
       "                               agent_thorax_velocity  \\\n",
       "0  [11.09, 10.26, 9.484, 8.77, 8.125, 7.555, 7.05...   \n",
       "1  [0.0, 0.0, 0.0, 0.0, 0.0, 0.0, 0.0, 0.0, 0.0, ...   \n",
       "2  [11.09, 10.26, 9.484, 8.77, 8.125, 7.555, 7.05...   \n",
       "3  [0.0, 0.0, 0.0, 0.0, 0.0, 0.0, 0.0, 0.0, 0.0, ...   \n",
       "4  [11.09, 10.26, 9.484, 8.77, 8.125, 7.555, 7.05...   \n",
       "\n",
       "                       subject_thorax_to_reward_port  \\\n",
       "0  [26.84, 26.84, 26.84, 26.84, 26.84, 26.84, 26....   \n",
       "1  [22.83, 23.27, 23.69, 24.17, 24.75, 24.6, 24.3...   \n",
       "2  [26.84, 26.84, 26.84, 26.84, 26.84, 26.84, 26....   \n",
       "3  [22.83, 23.27, 23.69, 24.17, 24.75, 24.6, 24.3...   \n",
       "4  [26.84, 26.84, 26.84, 26.84, 26.84, 26.84, 26....   \n",
       "\n",
       "                         agent_thorax_to_reward_port  \n",
       "0  [22.83, 23.27, 23.69, 24.17, 24.75, 24.6, 24.3...  \n",
       "1  [26.84, 26.84, 26.84, 26.84, 26.84, 26.84, 26....  \n",
       "2  [22.83, 23.27, 23.69, 24.17, 24.75, 24.6, 24.3...  \n",
       "3  [26.84, 26.84, 26.84, 26.84, 26.84, 26.84, 26....  \n",
       "4  [22.83, 23.27, 23.69, 24.17, 24.75, 24.6, 24.3...  \n",
       "\n",
       "[5 rows x 60 columns]"
      ]
     },
     "execution_count": 47,
     "metadata": {},
     "output_type": "execute_result"
    }
   ],
   "source": [
    "TRIALS_AND_SPECTRAL_DF.head()"
   ]
  },
  {
   "cell_type": "code",
   "execution_count": 48,
   "metadata": {
    "tags": []
   },
   "outputs": [
    {
     "data": {
      "text/html": [
       "<div>\n",
       "<style scoped>\n",
       "    .dataframe tbody tr th:only-of-type {\n",
       "        vertical-align: middle;\n",
       "    }\n",
       "\n",
       "    .dataframe tbody tr th {\n",
       "        vertical-align: top;\n",
       "    }\n",
       "\n",
       "    .dataframe thead th {\n",
       "        text-align: right;\n",
       "    }\n",
       "</style>\n",
       "<table border=\"1\" class=\"dataframe\">\n",
       "  <thead>\n",
       "    <tr style=\"text-align: right;\">\n",
       "      <th></th>\n",
       "      <th>tone_start_frame</th>\n",
       "      <th>reward_start</th>\n",
       "      <th>reward_dispensed</th>\n",
       "      <th>tone_stop_frame</th>\n",
       "      <th>condition</th>\n",
       "      <th>competition_closeness</th>\n",
       "      <th>get_reward_frame</th>\n",
       "      <th>out_reward_frame</th>\n",
       "      <th>experiment</th>\n",
       "      <th>video_name</th>\n",
       "      <th>...</th>\n",
       "      <th>reward_port</th>\n",
       "      <th>box_bottom_left</th>\n",
       "      <th>agent</th>\n",
       "      <th>subject_locations</th>\n",
       "      <th>frame_index</th>\n",
       "      <th>agent_locations</th>\n",
       "      <th>subject_thorax_velocity</th>\n",
       "      <th>agent_thorax_velocity</th>\n",
       "      <th>subject_thorax_to_reward_port</th>\n",
       "      <th>agent_thorax_to_reward_port</th>\n",
       "    </tr>\n",
       "  </thead>\n",
       "  <tbody>\n",
       "    <tr>\n",
       "      <th>454</th>\n",
       "      <td>55484.0</td>\n",
       "      <td>55564</td>\n",
       "      <td>55584.0</td>\n",
       "      <td>55685.0</td>\n",
       "      <td>4.4</td>\n",
       "      <td>Subj 2 then Subj 1</td>\n",
       "      <td>NaN</td>\n",
       "      <td>NaN</td>\n",
       "      <td>alone_comp</td>\n",
       "      <td>20240323_165815_alone_comp_subj_4-2_and_4-4.1</td>\n",
       "      <td>...</td>\n",
       "      <td>[60.894370390068914, 34.253301735040985]</td>\n",
       "      <td>[45.79835911412773, 32.60866761368506]</td>\n",
       "      <td>4.4</td>\n",
       "      <td>[[[56.986964177053565, 31.8836904164058], [55....</td>\n",
       "      <td>[1, 2, 3, 4, 5, 6, 7, 8, 9, 10, 11, 12, 13, 14...</td>\n",
       "      <td>[[[61.45843466863499, 32.032592967139145], [59...</td>\n",
       "      <td>[13.48, 12.05, 10.69, 9.39, 8.164, 6.996, 5.9,...</td>\n",
       "      <td>[0.0, 0.0, 0.0, 0.0, 0.0, 0.0, 0.0, 0.0, 0.0, ...</td>\n",
       "      <td>[9.25, 9.18, 8.94, 8.69, 8.21, 7.492, 6.39, 5....</td>\n",
       "      <td>[27.78, 27.78, 27.78, 27.78, 27.78, 27.78, 27....</td>\n",
       "    </tr>\n",
       "    <tr>\n",
       "      <th>455</th>\n",
       "      <td>56483.0</td>\n",
       "      <td>56563</td>\n",
       "      <td>56583.0</td>\n",
       "      <td>56683.0</td>\n",
       "      <td>4.4</td>\n",
       "      <td>Subj 2 then Subj 1</td>\n",
       "      <td>NaN</td>\n",
       "      <td>NaN</td>\n",
       "      <td>alone_comp</td>\n",
       "      <td>20240323_165815_alone_comp_subj_4-2_and_4-4.1</td>\n",
       "      <td>...</td>\n",
       "      <td>[60.894370390068914, 34.253301735040985]</td>\n",
       "      <td>[45.79835911412773, 32.60866761368506]</td>\n",
       "      <td>4.4</td>\n",
       "      <td>[[[56.986964177053565, 31.8836904164058], [55....</td>\n",
       "      <td>[1, 2, 3, 4, 5, 6, 7, 8, 9, 10, 11, 12, 13, 14...</td>\n",
       "      <td>[[[61.45843466863499, 32.032592967139145], [59...</td>\n",
       "      <td>[13.48, 12.05, 10.69, 9.39, 8.164, 6.996, 5.9,...</td>\n",
       "      <td>[0.0, 0.0, 0.0, 0.0, 0.0, 0.0, 0.0, 0.0, 0.0, ...</td>\n",
       "      <td>[9.25, 9.18, 8.94, 8.69, 8.21, 7.492, 6.39, 5....</td>\n",
       "      <td>[27.78, 27.78, 27.78, 27.78, 27.78, 27.78, 27....</td>\n",
       "    </tr>\n",
       "    <tr>\n",
       "      <th>456</th>\n",
       "      <td>57880.0</td>\n",
       "      <td>57960</td>\n",
       "      <td>57980.0</td>\n",
       "      <td>58079.0</td>\n",
       "      <td>4.4</td>\n",
       "      <td>Subj 2 then Subj 1</td>\n",
       "      <td>NaN</td>\n",
       "      <td>NaN</td>\n",
       "      <td>alone_comp</td>\n",
       "      <td>20240323_165815_alone_comp_subj_4-2_and_4-4.1</td>\n",
       "      <td>...</td>\n",
       "      <td>[60.894370390068914, 34.253301735040985]</td>\n",
       "      <td>[45.79835911412773, 32.60866761368506]</td>\n",
       "      <td>4.4</td>\n",
       "      <td>[[[56.986964177053565, 31.8836904164058], [55....</td>\n",
       "      <td>[1, 2, 3, 4, 5, 6, 7, 8, 9, 10, 11, 12, 13, 14...</td>\n",
       "      <td>[[[61.45843466863499, 32.032592967139145], [59...</td>\n",
       "      <td>[13.48, 12.05, 10.69, 9.39, 8.164, 6.996, 5.9,...</td>\n",
       "      <td>[0.0, 0.0, 0.0, 0.0, 0.0, 0.0, 0.0, 0.0, 0.0, ...</td>\n",
       "      <td>[9.25, 9.18, 8.94, 8.69, 8.21, 7.492, 6.39, 5....</td>\n",
       "      <td>[27.78, 27.78, 27.78, 27.78, 27.78, 27.78, 27....</td>\n",
       "    </tr>\n",
       "    <tr>\n",
       "      <th>457</th>\n",
       "      <td>60077.0</td>\n",
       "      <td>60157</td>\n",
       "      <td>60177.0</td>\n",
       "      <td>60276.0</td>\n",
       "      <td>4.4</td>\n",
       "      <td>Subj 2 blocking Subj 1</td>\n",
       "      <td>NaN</td>\n",
       "      <td>NaN</td>\n",
       "      <td>alone_comp</td>\n",
       "      <td>20240323_165815_alone_comp_subj_4-2_and_4-4.1</td>\n",
       "      <td>...</td>\n",
       "      <td>[60.894370390068914, 34.253301735040985]</td>\n",
       "      <td>[45.79835911412773, 32.60866761368506]</td>\n",
       "      <td>4.4</td>\n",
       "      <td>[[[56.986964177053565, 31.8836904164058], [55....</td>\n",
       "      <td>[1, 2, 3, 4, 5, 6, 7, 8, 9, 10, 11, 12, 13, 14...</td>\n",
       "      <td>[[[61.45843466863499, 32.032592967139145], [59...</td>\n",
       "      <td>[13.48, 12.05, 10.69, 9.39, 8.164, 6.996, 5.9,...</td>\n",
       "      <td>[0.0, 0.0, 0.0, 0.0, 0.0, 0.0, 0.0, 0.0, 0.0, ...</td>\n",
       "      <td>[9.25, 9.18, 8.94, 8.69, 8.21, 7.492, 6.39, 5....</td>\n",
       "      <td>[27.78, 27.78, 27.78, 27.78, 27.78, 27.78, 27....</td>\n",
       "    </tr>\n",
       "    <tr>\n",
       "      <th>458</th>\n",
       "      <td>61174.0</td>\n",
       "      <td>61254</td>\n",
       "      <td>61274.0</td>\n",
       "      <td>61375.0</td>\n",
       "      <td>tie</td>\n",
       "      <td>Close Call</td>\n",
       "      <td>NaN</td>\n",
       "      <td>NaN</td>\n",
       "      <td>alone_comp</td>\n",
       "      <td>20240323_165815_alone_comp_subj_4-2_and_4-4.1</td>\n",
       "      <td>...</td>\n",
       "      <td>[60.894370390068914, 34.253301735040985]</td>\n",
       "      <td>[45.79835911412773, 32.60866761368506]</td>\n",
       "      <td>4.4</td>\n",
       "      <td>[[[56.986964177053565, 31.8836904164058], [55....</td>\n",
       "      <td>[1, 2, 3, 4, 5, 6, 7, 8, 9, 10, 11, 12, 13, 14...</td>\n",
       "      <td>[[[61.45843466863499, 32.032592967139145], [59...</td>\n",
       "      <td>[13.48, 12.05, 10.69, 9.39, 8.164, 6.996, 5.9,...</td>\n",
       "      <td>[0.0, 0.0, 0.0, 0.0, 0.0, 0.0, 0.0, 0.0, 0.0, ...</td>\n",
       "      <td>[9.25, 9.18, 8.94, 8.69, 8.21, 7.492, 6.39, 5....</td>\n",
       "      <td>[27.78, 27.78, 27.78, 27.78, 27.78, 27.78, 27....</td>\n",
       "    </tr>\n",
       "  </tbody>\n",
       "</table>\n",
       "<p>5 rows × 60 columns</p>\n",
       "</div>"
      ],
      "text/plain": [
       "     tone_start_frame  reward_start  reward_dispensed  tone_stop_frame  \\\n",
       "454           55484.0         55564           55584.0          55685.0   \n",
       "455           56483.0         56563           56583.0          56683.0   \n",
       "456           57880.0         57960           57980.0          58079.0   \n",
       "457           60077.0         60157           60177.0          60276.0   \n",
       "458           61174.0         61254           61274.0          61375.0   \n",
       "\n",
       "    condition   competition_closeness  get_reward_frame  out_reward_frame  \\\n",
       "454       4.4      Subj 2 then Subj 1               NaN               NaN   \n",
       "455       4.4      Subj 2 then Subj 1               NaN               NaN   \n",
       "456       4.4      Subj 2 then Subj 1               NaN               NaN   \n",
       "457       4.4  Subj 2 blocking Subj 1               NaN               NaN   \n",
       "458       tie              Close Call               NaN               NaN   \n",
       "\n",
       "     experiment                                     video_name  ...  \\\n",
       "454  alone_comp  20240323_165815_alone_comp_subj_4-2_and_4-4.1  ...   \n",
       "455  alone_comp  20240323_165815_alone_comp_subj_4-2_and_4-4.1  ...   \n",
       "456  alone_comp  20240323_165815_alone_comp_subj_4-2_and_4-4.1  ...   \n",
       "457  alone_comp  20240323_165815_alone_comp_subj_4-2_and_4-4.1  ...   \n",
       "458  alone_comp  20240323_165815_alone_comp_subj_4-2_and_4-4.1  ...   \n",
       "\n",
       "                                  reward_port  \\\n",
       "454  [60.894370390068914, 34.253301735040985]   \n",
       "455  [60.894370390068914, 34.253301735040985]   \n",
       "456  [60.894370390068914, 34.253301735040985]   \n",
       "457  [60.894370390068914, 34.253301735040985]   \n",
       "458  [60.894370390068914, 34.253301735040985]   \n",
       "\n",
       "                            box_bottom_left agent  \\\n",
       "454  [45.79835911412773, 32.60866761368506]   4.4   \n",
       "455  [45.79835911412773, 32.60866761368506]   4.4   \n",
       "456  [45.79835911412773, 32.60866761368506]   4.4   \n",
       "457  [45.79835911412773, 32.60866761368506]   4.4   \n",
       "458  [45.79835911412773, 32.60866761368506]   4.4   \n",
       "\n",
       "                                     subject_locations  \\\n",
       "454  [[[56.986964177053565, 31.8836904164058], [55....   \n",
       "455  [[[56.986964177053565, 31.8836904164058], [55....   \n",
       "456  [[[56.986964177053565, 31.8836904164058], [55....   \n",
       "457  [[[56.986964177053565, 31.8836904164058], [55....   \n",
       "458  [[[56.986964177053565, 31.8836904164058], [55....   \n",
       "\n",
       "                                           frame_index  \\\n",
       "454  [1, 2, 3, 4, 5, 6, 7, 8, 9, 10, 11, 12, 13, 14...   \n",
       "455  [1, 2, 3, 4, 5, 6, 7, 8, 9, 10, 11, 12, 13, 14...   \n",
       "456  [1, 2, 3, 4, 5, 6, 7, 8, 9, 10, 11, 12, 13, 14...   \n",
       "457  [1, 2, 3, 4, 5, 6, 7, 8, 9, 10, 11, 12, 13, 14...   \n",
       "458  [1, 2, 3, 4, 5, 6, 7, 8, 9, 10, 11, 12, 13, 14...   \n",
       "\n",
       "                                       agent_locations  \\\n",
       "454  [[[61.45843466863499, 32.032592967139145], [59...   \n",
       "455  [[[61.45843466863499, 32.032592967139145], [59...   \n",
       "456  [[[61.45843466863499, 32.032592967139145], [59...   \n",
       "457  [[[61.45843466863499, 32.032592967139145], [59...   \n",
       "458  [[[61.45843466863499, 32.032592967139145], [59...   \n",
       "\n",
       "                               subject_thorax_velocity  \\\n",
       "454  [13.48, 12.05, 10.69, 9.39, 8.164, 6.996, 5.9,...   \n",
       "455  [13.48, 12.05, 10.69, 9.39, 8.164, 6.996, 5.9,...   \n",
       "456  [13.48, 12.05, 10.69, 9.39, 8.164, 6.996, 5.9,...   \n",
       "457  [13.48, 12.05, 10.69, 9.39, 8.164, 6.996, 5.9,...   \n",
       "458  [13.48, 12.05, 10.69, 9.39, 8.164, 6.996, 5.9,...   \n",
       "\n",
       "                                 agent_thorax_velocity  \\\n",
       "454  [0.0, 0.0, 0.0, 0.0, 0.0, 0.0, 0.0, 0.0, 0.0, ...   \n",
       "455  [0.0, 0.0, 0.0, 0.0, 0.0, 0.0, 0.0, 0.0, 0.0, ...   \n",
       "456  [0.0, 0.0, 0.0, 0.0, 0.0, 0.0, 0.0, 0.0, 0.0, ...   \n",
       "457  [0.0, 0.0, 0.0, 0.0, 0.0, 0.0, 0.0, 0.0, 0.0, ...   \n",
       "458  [0.0, 0.0, 0.0, 0.0, 0.0, 0.0, 0.0, 0.0, 0.0, ...   \n",
       "\n",
       "                         subject_thorax_to_reward_port  \\\n",
       "454  [9.25, 9.18, 8.94, 8.69, 8.21, 7.492, 6.39, 5....   \n",
       "455  [9.25, 9.18, 8.94, 8.69, 8.21, 7.492, 6.39, 5....   \n",
       "456  [9.25, 9.18, 8.94, 8.69, 8.21, 7.492, 6.39, 5....   \n",
       "457  [9.25, 9.18, 8.94, 8.69, 8.21, 7.492, 6.39, 5....   \n",
       "458  [9.25, 9.18, 8.94, 8.69, 8.21, 7.492, 6.39, 5....   \n",
       "\n",
       "                           agent_thorax_to_reward_port  \n",
       "454  [27.78, 27.78, 27.78, 27.78, 27.78, 27.78, 27....  \n",
       "455  [27.78, 27.78, 27.78, 27.78, 27.78, 27.78, 27....  \n",
       "456  [27.78, 27.78, 27.78, 27.78, 27.78, 27.78, 27....  \n",
       "457  [27.78, 27.78, 27.78, 27.78, 27.78, 27.78, 27....  \n",
       "458  [27.78, 27.78, 27.78, 27.78, 27.78, 27.78, 27....  \n",
       "\n",
       "[5 rows x 60 columns]"
      ]
     },
     "execution_count": 48,
     "metadata": {},
     "output_type": "execute_result"
    }
   ],
   "source": [
    "TRIALS_AND_SPECTRAL_DF.tail()"
   ]
  },
  {
   "cell_type": "code",
   "execution_count": 49,
   "metadata": {
    "tags": []
   },
   "outputs": [],
   "source": [
    "timestamps_col = [col for col in TRIALS_AND_SPECTRAL_DF if \"timestamp\" in col and \"timestamps\" not in col and \"cluster\" not in col]"
   ]
  },
  {
   "cell_type": "code",
   "execution_count": 50,
   "metadata": {
    "tags": []
   },
   "outputs": [],
   "source": [
    "for col in timestamps_col:\n",
    "    TRIALS_AND_SPECTRAL_DF[col] = TRIALS_AND_SPECTRAL_DF[col].astype(int)"
   ]
  },
  {
   "cell_type": "code",
   "execution_count": 51,
   "metadata": {
    "tags": []
   },
   "outputs": [
    {
     "data": {
      "text/html": [
       "<div>\n",
       "<style scoped>\n",
       "    .dataframe tbody tr th:only-of-type {\n",
       "        vertical-align: middle;\n",
       "    }\n",
       "\n",
       "    .dataframe tbody tr th {\n",
       "        vertical-align: top;\n",
       "    }\n",
       "\n",
       "    .dataframe thead th {\n",
       "        text-align: right;\n",
       "    }\n",
       "</style>\n",
       "<table border=\"1\" class=\"dataframe\">\n",
       "  <thead>\n",
       "    <tr style=\"text-align: right;\">\n",
       "      <th></th>\n",
       "      <th>tone_start_timestamp</th>\n",
       "      <th>tone_stop_timestamp</th>\n",
       "      <th>first_timestamp</th>\n",
       "      <th>last_timestamp</th>\n",
       "    </tr>\n",
       "  </thead>\n",
       "  <tbody>\n",
       "    <tr>\n",
       "      <th>0</th>\n",
       "      <td>1275889</td>\n",
       "      <td>1475891</td>\n",
       "      <td>1830734</td>\n",
       "      <td>65425515</td>\n",
       "    </tr>\n",
       "    <tr>\n",
       "      <th>1</th>\n",
       "      <td>1275889</td>\n",
       "      <td>1475891</td>\n",
       "      <td>1830734</td>\n",
       "      <td>65425515</td>\n",
       "    </tr>\n",
       "    <tr>\n",
       "      <th>2</th>\n",
       "      <td>3275911</td>\n",
       "      <td>3475914</td>\n",
       "      <td>1830734</td>\n",
       "      <td>65425515</td>\n",
       "    </tr>\n",
       "    <tr>\n",
       "      <th>3</th>\n",
       "      <td>3275911</td>\n",
       "      <td>3475914</td>\n",
       "      <td>1830734</td>\n",
       "      <td>65425515</td>\n",
       "    </tr>\n",
       "    <tr>\n",
       "      <th>4</th>\n",
       "      <td>4475927</td>\n",
       "      <td>4675931</td>\n",
       "      <td>1830734</td>\n",
       "      <td>65425515</td>\n",
       "    </tr>\n",
       "  </tbody>\n",
       "</table>\n",
       "</div>"
      ],
      "text/plain": [
       "   tone_start_timestamp  tone_stop_timestamp  first_timestamp  last_timestamp\n",
       "0               1275889              1475891          1830734        65425515\n",
       "1               1275889              1475891          1830734        65425515\n",
       "2               3275911              3475914          1830734        65425515\n",
       "3               3275911              3475914          1830734        65425515\n",
       "4               4475927              4675931          1830734        65425515"
      ]
     },
     "execution_count": 51,
     "metadata": {},
     "output_type": "execute_result"
    }
   ],
   "source": [
    "TRIALS_AND_SPECTRAL_DF[timestamps_col].head()"
   ]
  },
  {
   "cell_type": "code",
   "execution_count": 52,
   "metadata": {},
   "outputs": [],
   "source": [
    "frame_col = [col for col in TRIALS_AND_SPECTRAL_DF if \"frame\" in col and \"tone\" in col and \"frames\" not in col]"
   ]
  },
  {
   "cell_type": "code",
   "execution_count": 53,
   "metadata": {},
   "outputs": [],
   "source": [
    "for col in frame_col:\n",
    "    TRIALS_AND_SPECTRAL_DF[col] = TRIALS_AND_SPECTRAL_DF[col].astype(int)"
   ]
  },
  {
   "cell_type": "code",
   "execution_count": 54,
   "metadata": {},
   "outputs": [
    {
     "data": {
      "text/html": [
       "<div>\n",
       "<style scoped>\n",
       "    .dataframe tbody tr th:only-of-type {\n",
       "        vertical-align: middle;\n",
       "    }\n",
       "\n",
       "    .dataframe tbody tr th {\n",
       "        vertical-align: top;\n",
       "    }\n",
       "\n",
       "    .dataframe thead th {\n",
       "        text-align: right;\n",
       "    }\n",
       "</style>\n",
       "<table border=\"1\" class=\"dataframe\">\n",
       "  <thead>\n",
       "    <tr style=\"text-align: right;\">\n",
       "      <th></th>\n",
       "      <th>tone_start_frame</th>\n",
       "      <th>tone_stop_frame</th>\n",
       "    </tr>\n",
       "  </thead>\n",
       "  <tbody>\n",
       "    <tr>\n",
       "      <th>0</th>\n",
       "      <td>1272</td>\n",
       "      <td>1471</td>\n",
       "    </tr>\n",
       "    <tr>\n",
       "      <th>1</th>\n",
       "      <td>1272</td>\n",
       "      <td>1471</td>\n",
       "    </tr>\n",
       "    <tr>\n",
       "      <th>2</th>\n",
       "      <td>3268</td>\n",
       "      <td>3469</td>\n",
       "    </tr>\n",
       "    <tr>\n",
       "      <th>3</th>\n",
       "      <td>3268</td>\n",
       "      <td>3469</td>\n",
       "    </tr>\n",
       "    <tr>\n",
       "      <th>4</th>\n",
       "      <td>4466</td>\n",
       "      <td>4667</td>\n",
       "    </tr>\n",
       "  </tbody>\n",
       "</table>\n",
       "</div>"
      ],
      "text/plain": [
       "   tone_start_frame  tone_stop_frame\n",
       "0              1272             1471\n",
       "1              1272             1471\n",
       "2              3268             3469\n",
       "3              3268             3469\n",
       "4              4466             4667"
      ]
     },
     "execution_count": 54,
     "metadata": {},
     "output_type": "execute_result"
    }
   ],
   "source": [
    "TRIALS_AND_SPECTRAL_DF[frame_col].head()"
   ]
  },
  {
   "cell_type": "markdown",
   "metadata": {},
   "source": [
    "## Adding the SLEAP data"
   ]
  },
  {
   "cell_type": "code",
   "execution_count": 55,
   "metadata": {},
   "outputs": [
    {
     "data": {
      "text/html": [
       "<div>\n",
       "<style scoped>\n",
       "    .dataframe tbody tr th:only-of-type {\n",
       "        vertical-align: middle;\n",
       "    }\n",
       "\n",
       "    .dataframe tbody tr th {\n",
       "        vertical-align: top;\n",
       "    }\n",
       "\n",
       "    .dataframe thead th {\n",
       "        text-align: right;\n",
       "    }\n",
       "</style>\n",
       "<table border=\"1\" class=\"dataframe\">\n",
       "  <thead>\n",
       "    <tr style=\"text-align: right;\">\n",
       "      <th></th>\n",
       "      <th>tone_start_frame</th>\n",
       "      <th>reward_start</th>\n",
       "      <th>reward_dispensed</th>\n",
       "      <th>tone_stop_frame</th>\n",
       "      <th>condition</th>\n",
       "      <th>competition_closeness</th>\n",
       "      <th>get_reward_frame</th>\n",
       "      <th>out_reward_frame</th>\n",
       "      <th>experiment</th>\n",
       "      <th>video_name</th>\n",
       "      <th>...</th>\n",
       "      <th>reward_port</th>\n",
       "      <th>box_bottom_left</th>\n",
       "      <th>agent</th>\n",
       "      <th>subject_locations</th>\n",
       "      <th>frame_index</th>\n",
       "      <th>agent_locations</th>\n",
       "      <th>subject_thorax_velocity</th>\n",
       "      <th>agent_thorax_velocity</th>\n",
       "      <th>subject_thorax_to_reward_port</th>\n",
       "      <th>agent_thorax_to_reward_port</th>\n",
       "    </tr>\n",
       "  </thead>\n",
       "  <tbody>\n",
       "    <tr>\n",
       "      <th>0</th>\n",
       "      <td>1272</td>\n",
       "      <td>1352</td>\n",
       "      <td>1372.0</td>\n",
       "      <td>1471</td>\n",
       "      <td>rewarded</td>\n",
       "      <td>NaN</td>\n",
       "      <td>NaN</td>\n",
       "      <td>NaN</td>\n",
       "      <td>alone_comp</td>\n",
       "      <td>20240320_142408_alone_comp_subj_3-1_and_3-3.1</td>\n",
       "      <td>...</td>\n",
       "      <td>[60.89621072293514, 35.03865285708705]</td>\n",
       "      <td>[45.88328858282252, 33.462113987746186]</td>\n",
       "      <td>3.3</td>\n",
       "      <td>[[[80.72344548957854, 15.18291385091661], [82....</td>\n",
       "      <td>[1, 2, 3, 4, 5, 6, 7, 8, 9, 10, 11, 12, 13, 14...</td>\n",
       "      <td>[[[78.76350635960564, 15.794081734700777], [82...</td>\n",
       "      <td>[0.0, 0.0, 0.0, 0.0, 0.0, 0.0, 0.0, 0.0, 0.0, ...</td>\n",
       "      <td>[11.09, 10.26, 9.484, 8.77, 8.125, 7.555, 7.05...</td>\n",
       "      <td>[26.84, 26.84, 26.84, 26.84, 26.84, 26.84, 26....</td>\n",
       "      <td>[22.83, 23.27, 23.69, 24.17, 24.75, 24.6, 24.3...</td>\n",
       "    </tr>\n",
       "    <tr>\n",
       "      <th>1</th>\n",
       "      <td>1272</td>\n",
       "      <td>1352</td>\n",
       "      <td>1372.0</td>\n",
       "      <td>1471</td>\n",
       "      <td>rewarded</td>\n",
       "      <td>NaN</td>\n",
       "      <td>NaN</td>\n",
       "      <td>NaN</td>\n",
       "      <td>alone_comp</td>\n",
       "      <td>20240320_142408_alone_comp_subj_3-1_and_3-3.1</td>\n",
       "      <td>...</td>\n",
       "      <td>[60.89621072293514, 35.03865285708705]</td>\n",
       "      <td>[45.88328858282252, 33.462113987746186]</td>\n",
       "      <td>3.1</td>\n",
       "      <td>[[[78.76350635960564, 15.794081734700777], [82...</td>\n",
       "      <td>[1, 2, 3, 4, 5, 6, 7, 8, 9, 10, 11, 12, 13, 14...</td>\n",
       "      <td>[[[80.72344548957854, 15.18291385091661], [82....</td>\n",
       "      <td>[11.09, 10.26, 9.484, 8.77, 8.125, 7.555, 7.05...</td>\n",
       "      <td>[0.0, 0.0, 0.0, 0.0, 0.0, 0.0, 0.0, 0.0, 0.0, ...</td>\n",
       "      <td>[22.83, 23.27, 23.69, 24.17, 24.75, 24.6, 24.3...</td>\n",
       "      <td>[26.84, 26.84, 26.84, 26.84, 26.84, 26.84, 26....</td>\n",
       "    </tr>\n",
       "    <tr>\n",
       "      <th>2</th>\n",
       "      <td>3268</td>\n",
       "      <td>3348</td>\n",
       "      <td>3368.0</td>\n",
       "      <td>3469</td>\n",
       "      <td>rewarded</td>\n",
       "      <td>NaN</td>\n",
       "      <td>NaN</td>\n",
       "      <td>NaN</td>\n",
       "      <td>alone_comp</td>\n",
       "      <td>20240320_142408_alone_comp_subj_3-1_and_3-3.1</td>\n",
       "      <td>...</td>\n",
       "      <td>[60.89621072293514, 35.03865285708705]</td>\n",
       "      <td>[45.88328858282252, 33.462113987746186]</td>\n",
       "      <td>3.3</td>\n",
       "      <td>[[[80.72344548957854, 15.18291385091661], [82....</td>\n",
       "      <td>[1, 2, 3, 4, 5, 6, 7, 8, 9, 10, 11, 12, 13, 14...</td>\n",
       "      <td>[[[78.76350635960564, 15.794081734700777], [82...</td>\n",
       "      <td>[0.0, 0.0, 0.0, 0.0, 0.0, 0.0, 0.0, 0.0, 0.0, ...</td>\n",
       "      <td>[11.09, 10.26, 9.484, 8.77, 8.125, 7.555, 7.05...</td>\n",
       "      <td>[26.84, 26.84, 26.84, 26.84, 26.84, 26.84, 26....</td>\n",
       "      <td>[22.83, 23.27, 23.69, 24.17, 24.75, 24.6, 24.3...</td>\n",
       "    </tr>\n",
       "    <tr>\n",
       "      <th>3</th>\n",
       "      <td>3268</td>\n",
       "      <td>3348</td>\n",
       "      <td>3368.0</td>\n",
       "      <td>3469</td>\n",
       "      <td>rewarded</td>\n",
       "      <td>NaN</td>\n",
       "      <td>NaN</td>\n",
       "      <td>NaN</td>\n",
       "      <td>alone_comp</td>\n",
       "      <td>20240320_142408_alone_comp_subj_3-1_and_3-3.1</td>\n",
       "      <td>...</td>\n",
       "      <td>[60.89621072293514, 35.03865285708705]</td>\n",
       "      <td>[45.88328858282252, 33.462113987746186]</td>\n",
       "      <td>3.1</td>\n",
       "      <td>[[[78.76350635960564, 15.794081734700777], [82...</td>\n",
       "      <td>[1, 2, 3, 4, 5, 6, 7, 8, 9, 10, 11, 12, 13, 14...</td>\n",
       "      <td>[[[80.72344548957854, 15.18291385091661], [82....</td>\n",
       "      <td>[11.09, 10.26, 9.484, 8.77, 8.125, 7.555, 7.05...</td>\n",
       "      <td>[0.0, 0.0, 0.0, 0.0, 0.0, 0.0, 0.0, 0.0, 0.0, ...</td>\n",
       "      <td>[22.83, 23.27, 23.69, 24.17, 24.75, 24.6, 24.3...</td>\n",
       "      <td>[26.84, 26.84, 26.84, 26.84, 26.84, 26.84, 26....</td>\n",
       "    </tr>\n",
       "    <tr>\n",
       "      <th>4</th>\n",
       "      <td>4466</td>\n",
       "      <td>4546</td>\n",
       "      <td>4566.0</td>\n",
       "      <td>4667</td>\n",
       "      <td>rewarded</td>\n",
       "      <td>NaN</td>\n",
       "      <td>NaN</td>\n",
       "      <td>NaN</td>\n",
       "      <td>alone_comp</td>\n",
       "      <td>20240320_142408_alone_comp_subj_3-1_and_3-3.1</td>\n",
       "      <td>...</td>\n",
       "      <td>[60.89621072293514, 35.03865285708705]</td>\n",
       "      <td>[45.88328858282252, 33.462113987746186]</td>\n",
       "      <td>3.3</td>\n",
       "      <td>[[[80.72344548957854, 15.18291385091661], [82....</td>\n",
       "      <td>[1, 2, 3, 4, 5, 6, 7, 8, 9, 10, 11, 12, 13, 14...</td>\n",
       "      <td>[[[78.76350635960564, 15.794081734700777], [82...</td>\n",
       "      <td>[0.0, 0.0, 0.0, 0.0, 0.0, 0.0, 0.0, 0.0, 0.0, ...</td>\n",
       "      <td>[11.09, 10.26, 9.484, 8.77, 8.125, 7.555, 7.05...</td>\n",
       "      <td>[26.84, 26.84, 26.84, 26.84, 26.84, 26.84, 26....</td>\n",
       "      <td>[22.83, 23.27, 23.69, 24.17, 24.75, 24.6, 24.3...</td>\n",
       "    </tr>\n",
       "  </tbody>\n",
       "</table>\n",
       "<p>5 rows × 60 columns</p>\n",
       "</div>"
      ],
      "text/plain": [
       "   tone_start_frame  reward_start  reward_dispensed  tone_stop_frame  \\\n",
       "0              1272          1352            1372.0             1471   \n",
       "1              1272          1352            1372.0             1471   \n",
       "2              3268          3348            3368.0             3469   \n",
       "3              3268          3348            3368.0             3469   \n",
       "4              4466          4546            4566.0             4667   \n",
       "\n",
       "  condition competition_closeness  get_reward_frame  out_reward_frame  \\\n",
       "0  rewarded                   NaN               NaN               NaN   \n",
       "1  rewarded                   NaN               NaN               NaN   \n",
       "2  rewarded                   NaN               NaN               NaN   \n",
       "3  rewarded                   NaN               NaN               NaN   \n",
       "4  rewarded                   NaN               NaN               NaN   \n",
       "\n",
       "   experiment                                     video_name  ...  \\\n",
       "0  alone_comp  20240320_142408_alone_comp_subj_3-1_and_3-3.1  ...   \n",
       "1  alone_comp  20240320_142408_alone_comp_subj_3-1_and_3-3.1  ...   \n",
       "2  alone_comp  20240320_142408_alone_comp_subj_3-1_and_3-3.1  ...   \n",
       "3  alone_comp  20240320_142408_alone_comp_subj_3-1_and_3-3.1  ...   \n",
       "4  alone_comp  20240320_142408_alone_comp_subj_3-1_and_3-3.1  ...   \n",
       "\n",
       "                              reward_port  \\\n",
       "0  [60.89621072293514, 35.03865285708705]   \n",
       "1  [60.89621072293514, 35.03865285708705]   \n",
       "2  [60.89621072293514, 35.03865285708705]   \n",
       "3  [60.89621072293514, 35.03865285708705]   \n",
       "4  [60.89621072293514, 35.03865285708705]   \n",
       "\n",
       "                           box_bottom_left agent  \\\n",
       "0  [45.88328858282252, 33.462113987746186]   3.3   \n",
       "1  [45.88328858282252, 33.462113987746186]   3.1   \n",
       "2  [45.88328858282252, 33.462113987746186]   3.3   \n",
       "3  [45.88328858282252, 33.462113987746186]   3.1   \n",
       "4  [45.88328858282252, 33.462113987746186]   3.3   \n",
       "\n",
       "                                   subject_locations  \\\n",
       "0  [[[80.72344548957854, 15.18291385091661], [82....   \n",
       "1  [[[78.76350635960564, 15.794081734700777], [82...   \n",
       "2  [[[80.72344548957854, 15.18291385091661], [82....   \n",
       "3  [[[78.76350635960564, 15.794081734700777], [82...   \n",
       "4  [[[80.72344548957854, 15.18291385091661], [82....   \n",
       "\n",
       "                                         frame_index  \\\n",
       "0  [1, 2, 3, 4, 5, 6, 7, 8, 9, 10, 11, 12, 13, 14...   \n",
       "1  [1, 2, 3, 4, 5, 6, 7, 8, 9, 10, 11, 12, 13, 14...   \n",
       "2  [1, 2, 3, 4, 5, 6, 7, 8, 9, 10, 11, 12, 13, 14...   \n",
       "3  [1, 2, 3, 4, 5, 6, 7, 8, 9, 10, 11, 12, 13, 14...   \n",
       "4  [1, 2, 3, 4, 5, 6, 7, 8, 9, 10, 11, 12, 13, 14...   \n",
       "\n",
       "                                     agent_locations  \\\n",
       "0  [[[78.76350635960564, 15.794081734700777], [82...   \n",
       "1  [[[80.72344548957854, 15.18291385091661], [82....   \n",
       "2  [[[78.76350635960564, 15.794081734700777], [82...   \n",
       "3  [[[80.72344548957854, 15.18291385091661], [82....   \n",
       "4  [[[78.76350635960564, 15.794081734700777], [82...   \n",
       "\n",
       "                             subject_thorax_velocity  \\\n",
       "0  [0.0, 0.0, 0.0, 0.0, 0.0, 0.0, 0.0, 0.0, 0.0, ...   \n",
       "1  [11.09, 10.26, 9.484, 8.77, 8.125, 7.555, 7.05...   \n",
       "2  [0.0, 0.0, 0.0, 0.0, 0.0, 0.0, 0.0, 0.0, 0.0, ...   \n",
       "3  [11.09, 10.26, 9.484, 8.77, 8.125, 7.555, 7.05...   \n",
       "4  [0.0, 0.0, 0.0, 0.0, 0.0, 0.0, 0.0, 0.0, 0.0, ...   \n",
       "\n",
       "                               agent_thorax_velocity  \\\n",
       "0  [11.09, 10.26, 9.484, 8.77, 8.125, 7.555, 7.05...   \n",
       "1  [0.0, 0.0, 0.0, 0.0, 0.0, 0.0, 0.0, 0.0, 0.0, ...   \n",
       "2  [11.09, 10.26, 9.484, 8.77, 8.125, 7.555, 7.05...   \n",
       "3  [0.0, 0.0, 0.0, 0.0, 0.0, 0.0, 0.0, 0.0, 0.0, ...   \n",
       "4  [11.09, 10.26, 9.484, 8.77, 8.125, 7.555, 7.05...   \n",
       "\n",
       "                       subject_thorax_to_reward_port  \\\n",
       "0  [26.84, 26.84, 26.84, 26.84, 26.84, 26.84, 26....   \n",
       "1  [22.83, 23.27, 23.69, 24.17, 24.75, 24.6, 24.3...   \n",
       "2  [26.84, 26.84, 26.84, 26.84, 26.84, 26.84, 26....   \n",
       "3  [22.83, 23.27, 23.69, 24.17, 24.75, 24.6, 24.3...   \n",
       "4  [26.84, 26.84, 26.84, 26.84, 26.84, 26.84, 26....   \n",
       "\n",
       "                         agent_thorax_to_reward_port  \n",
       "0  [22.83, 23.27, 23.69, 24.17, 24.75, 24.6, 24.3...  \n",
       "1  [26.84, 26.84, 26.84, 26.84, 26.84, 26.84, 26....  \n",
       "2  [22.83, 23.27, 23.69, 24.17, 24.75, 24.6, 24.3...  \n",
       "3  [26.84, 26.84, 26.84, 26.84, 26.84, 26.84, 26....  \n",
       "4  [22.83, 23.27, 23.69, 24.17, 24.75, 24.6, 24.3...  \n",
       "\n",
       "[5 rows x 60 columns]"
      ]
     },
     "execution_count": 55,
     "metadata": {},
     "output_type": "execute_result"
    }
   ],
   "source": [
    "TRIALS_AND_SPECTRAL_DF.head()"
   ]
  },
  {
   "cell_type": "code",
   "execution_count": 56,
   "metadata": {},
   "outputs": [
    {
     "data": {
      "text/plain": [
       "0    1275889\n",
       "1    1275889\n",
       "2    3275911\n",
       "3    3275911\n",
       "4    4475927\n",
       "Name: tone_start_timestamp, dtype: int64"
      ]
     },
     "execution_count": 56,
     "metadata": {},
     "output_type": "execute_result"
    }
   ],
   "source": [
    "TRIALS_AND_SPECTRAL_DF[\"tone_start_timestamp\"].head()"
   ]
  },
  {
   "cell_type": "code",
   "execution_count": 57,
   "metadata": {},
   "outputs": [],
   "source": [
    "TRIALS_AND_SPECTRAL_DF[\"tone_start_timestamp\"] = TRIALS_AND_SPECTRAL_DF[\"tone_start_timestamp\"].astype(int)"
   ]
  },
  {
   "cell_type": "code",
   "execution_count": 58,
   "metadata": {},
   "outputs": [],
   "source": [
    "TRIALS_AND_SPECTRAL_DF[\"current_subject\"] = TRIALS_AND_SPECTRAL_DF[\"current_subject\"].apply(lambda x: str(x).strip())"
   ]
  },
  {
   "cell_type": "markdown",
   "metadata": {},
   "source": [
    "# Calculating the relevant timestamps"
   ]
  },
  {
   "cell_type": "code",
   "execution_count": 59,
   "metadata": {
    "tags": []
   },
   "outputs": [],
   "source": [
    "TRIALS_AND_SPECTRAL_DF[\"baseline_start_timestamp\"] = TRIALS_AND_SPECTRAL_DF[\"tone_start_timestamp\"] - 10 * EPHYS_SAMPLE_RATE"
   ]
  },
  {
   "cell_type": "code",
   "execution_count": 60,
   "metadata": {
    "tags": []
   },
   "outputs": [],
   "source": [
    "TRIALS_AND_SPECTRAL_DF[\"post_trial_end_timestamp\"] = TRIALS_AND_SPECTRAL_DF[\"tone_stop_timestamp\"] + 10 * EPHYS_SAMPLE_RATE"
   ]
  },
  {
   "cell_type": "code",
   "execution_count": 61,
   "metadata": {
    "tags": []
   },
   "outputs": [
    {
     "data": {
      "text/plain": [
       "0    1275889\n",
       "1    1275889\n",
       "2    3275911\n",
       "3    3275911\n",
       "4    4475927\n",
       "Name: tone_start_timestamp, dtype: int64"
      ]
     },
     "execution_count": 61,
     "metadata": {},
     "output_type": "execute_result"
    }
   ],
   "source": [
    "TRIALS_AND_SPECTRAL_DF[\"tone_start_timestamp\"].head()"
   ]
  },
  {
   "cell_type": "code",
   "execution_count": 62,
   "metadata": {
    "tags": []
   },
   "outputs": [
    {
     "data": {
      "text/plain": [
       "0    1275889\n",
       "1    1275889\n",
       "2    3275911\n",
       "3    3275911\n",
       "4    4475927\n",
       "Name: tone_start_timestamp, dtype: int64"
      ]
     },
     "execution_count": 62,
     "metadata": {},
     "output_type": "execute_result"
    }
   ],
   "source": [
    "TRIALS_AND_SPECTRAL_DF[\"tone_start_timestamp\"].head()"
   ]
  },
  {
   "cell_type": "code",
   "execution_count": 63,
   "metadata": {
    "tags": []
   },
   "outputs": [
    {
     "data": {
      "text/plain": [
       "0    1475891\n",
       "1    1475891\n",
       "2    3475914\n",
       "3    3475914\n",
       "4    4675931\n",
       "Name: tone_stop_timestamp, dtype: int64"
      ]
     },
     "execution_count": 63,
     "metadata": {},
     "output_type": "execute_result"
    }
   ],
   "source": [
    "TRIALS_AND_SPECTRAL_DF[\"tone_stop_timestamp\"].head()"
   ]
  },
  {
   "cell_type": "code",
   "execution_count": 64,
   "metadata": {
    "tags": []
   },
   "outputs": [
    {
     "data": {
      "text/html": [
       "<div>\n",
       "<style scoped>\n",
       "    .dataframe tbody tr th:only-of-type {\n",
       "        vertical-align: middle;\n",
       "    }\n",
       "\n",
       "    .dataframe tbody tr th {\n",
       "        vertical-align: top;\n",
       "    }\n",
       "\n",
       "    .dataframe thead th {\n",
       "        text-align: right;\n",
       "    }\n",
       "</style>\n",
       "<table border=\"1\" class=\"dataframe\">\n",
       "  <thead>\n",
       "    <tr style=\"text-align: right;\">\n",
       "      <th></th>\n",
       "      <th>tone_start_frame</th>\n",
       "      <th>reward_start</th>\n",
       "      <th>reward_dispensed</th>\n",
       "      <th>tone_stop_frame</th>\n",
       "      <th>condition</th>\n",
       "      <th>competition_closeness</th>\n",
       "      <th>get_reward_frame</th>\n",
       "      <th>out_reward_frame</th>\n",
       "      <th>experiment</th>\n",
       "      <th>video_name</th>\n",
       "      <th>...</th>\n",
       "      <th>agent</th>\n",
       "      <th>subject_locations</th>\n",
       "      <th>frame_index</th>\n",
       "      <th>agent_locations</th>\n",
       "      <th>subject_thorax_velocity</th>\n",
       "      <th>agent_thorax_velocity</th>\n",
       "      <th>subject_thorax_to_reward_port</th>\n",
       "      <th>agent_thorax_to_reward_port</th>\n",
       "      <th>baseline_start_timestamp</th>\n",
       "      <th>post_trial_end_timestamp</th>\n",
       "    </tr>\n",
       "  </thead>\n",
       "  <tbody>\n",
       "    <tr>\n",
       "      <th>0</th>\n",
       "      <td>1272</td>\n",
       "      <td>1352</td>\n",
       "      <td>1372.0</td>\n",
       "      <td>1471</td>\n",
       "      <td>rewarded</td>\n",
       "      <td>NaN</td>\n",
       "      <td>NaN</td>\n",
       "      <td>NaN</td>\n",
       "      <td>alone_comp</td>\n",
       "      <td>20240320_142408_alone_comp_subj_3-1_and_3-3.1</td>\n",
       "      <td>...</td>\n",
       "      <td>3.3</td>\n",
       "      <td>[[[80.72344548957854, 15.18291385091661], [82....</td>\n",
       "      <td>[1, 2, 3, 4, 5, 6, 7, 8, 9, 10, 11, 12, 13, 14...</td>\n",
       "      <td>[[[78.76350635960564, 15.794081734700777], [82...</td>\n",
       "      <td>[0.0, 0.0, 0.0, 0.0, 0.0, 0.0, 0.0, 0.0, 0.0, ...</td>\n",
       "      <td>[11.09, 10.26, 9.484, 8.77, 8.125, 7.555, 7.05...</td>\n",
       "      <td>[26.84, 26.84, 26.84, 26.84, 26.84, 26.84, 26....</td>\n",
       "      <td>[22.83, 23.27, 23.69, 24.17, 24.75, 24.6, 24.3...</td>\n",
       "      <td>1075889</td>\n",
       "      <td>1675891</td>\n",
       "    </tr>\n",
       "    <tr>\n",
       "      <th>1</th>\n",
       "      <td>1272</td>\n",
       "      <td>1352</td>\n",
       "      <td>1372.0</td>\n",
       "      <td>1471</td>\n",
       "      <td>rewarded</td>\n",
       "      <td>NaN</td>\n",
       "      <td>NaN</td>\n",
       "      <td>NaN</td>\n",
       "      <td>alone_comp</td>\n",
       "      <td>20240320_142408_alone_comp_subj_3-1_and_3-3.1</td>\n",
       "      <td>...</td>\n",
       "      <td>3.1</td>\n",
       "      <td>[[[78.76350635960564, 15.794081734700777], [82...</td>\n",
       "      <td>[1, 2, 3, 4, 5, 6, 7, 8, 9, 10, 11, 12, 13, 14...</td>\n",
       "      <td>[[[80.72344548957854, 15.18291385091661], [82....</td>\n",
       "      <td>[11.09, 10.26, 9.484, 8.77, 8.125, 7.555, 7.05...</td>\n",
       "      <td>[0.0, 0.0, 0.0, 0.0, 0.0, 0.0, 0.0, 0.0, 0.0, ...</td>\n",
       "      <td>[22.83, 23.27, 23.69, 24.17, 24.75, 24.6, 24.3...</td>\n",
       "      <td>[26.84, 26.84, 26.84, 26.84, 26.84, 26.84, 26....</td>\n",
       "      <td>1075889</td>\n",
       "      <td>1675891</td>\n",
       "    </tr>\n",
       "    <tr>\n",
       "      <th>2</th>\n",
       "      <td>3268</td>\n",
       "      <td>3348</td>\n",
       "      <td>3368.0</td>\n",
       "      <td>3469</td>\n",
       "      <td>rewarded</td>\n",
       "      <td>NaN</td>\n",
       "      <td>NaN</td>\n",
       "      <td>NaN</td>\n",
       "      <td>alone_comp</td>\n",
       "      <td>20240320_142408_alone_comp_subj_3-1_and_3-3.1</td>\n",
       "      <td>...</td>\n",
       "      <td>3.3</td>\n",
       "      <td>[[[80.72344548957854, 15.18291385091661], [82....</td>\n",
       "      <td>[1, 2, 3, 4, 5, 6, 7, 8, 9, 10, 11, 12, 13, 14...</td>\n",
       "      <td>[[[78.76350635960564, 15.794081734700777], [82...</td>\n",
       "      <td>[0.0, 0.0, 0.0, 0.0, 0.0, 0.0, 0.0, 0.0, 0.0, ...</td>\n",
       "      <td>[11.09, 10.26, 9.484, 8.77, 8.125, 7.555, 7.05...</td>\n",
       "      <td>[26.84, 26.84, 26.84, 26.84, 26.84, 26.84, 26....</td>\n",
       "      <td>[22.83, 23.27, 23.69, 24.17, 24.75, 24.6, 24.3...</td>\n",
       "      <td>3075911</td>\n",
       "      <td>3675914</td>\n",
       "    </tr>\n",
       "    <tr>\n",
       "      <th>3</th>\n",
       "      <td>3268</td>\n",
       "      <td>3348</td>\n",
       "      <td>3368.0</td>\n",
       "      <td>3469</td>\n",
       "      <td>rewarded</td>\n",
       "      <td>NaN</td>\n",
       "      <td>NaN</td>\n",
       "      <td>NaN</td>\n",
       "      <td>alone_comp</td>\n",
       "      <td>20240320_142408_alone_comp_subj_3-1_and_3-3.1</td>\n",
       "      <td>...</td>\n",
       "      <td>3.1</td>\n",
       "      <td>[[[78.76350635960564, 15.794081734700777], [82...</td>\n",
       "      <td>[1, 2, 3, 4, 5, 6, 7, 8, 9, 10, 11, 12, 13, 14...</td>\n",
       "      <td>[[[80.72344548957854, 15.18291385091661], [82....</td>\n",
       "      <td>[11.09, 10.26, 9.484, 8.77, 8.125, 7.555, 7.05...</td>\n",
       "      <td>[0.0, 0.0, 0.0, 0.0, 0.0, 0.0, 0.0, 0.0, 0.0, ...</td>\n",
       "      <td>[22.83, 23.27, 23.69, 24.17, 24.75, 24.6, 24.3...</td>\n",
       "      <td>[26.84, 26.84, 26.84, 26.84, 26.84, 26.84, 26....</td>\n",
       "      <td>3075911</td>\n",
       "      <td>3675914</td>\n",
       "    </tr>\n",
       "    <tr>\n",
       "      <th>4</th>\n",
       "      <td>4466</td>\n",
       "      <td>4546</td>\n",
       "      <td>4566.0</td>\n",
       "      <td>4667</td>\n",
       "      <td>rewarded</td>\n",
       "      <td>NaN</td>\n",
       "      <td>NaN</td>\n",
       "      <td>NaN</td>\n",
       "      <td>alone_comp</td>\n",
       "      <td>20240320_142408_alone_comp_subj_3-1_and_3-3.1</td>\n",
       "      <td>...</td>\n",
       "      <td>3.3</td>\n",
       "      <td>[[[80.72344548957854, 15.18291385091661], [82....</td>\n",
       "      <td>[1, 2, 3, 4, 5, 6, 7, 8, 9, 10, 11, 12, 13, 14...</td>\n",
       "      <td>[[[78.76350635960564, 15.794081734700777], [82...</td>\n",
       "      <td>[0.0, 0.0, 0.0, 0.0, 0.0, 0.0, 0.0, 0.0, 0.0, ...</td>\n",
       "      <td>[11.09, 10.26, 9.484, 8.77, 8.125, 7.555, 7.05...</td>\n",
       "      <td>[26.84, 26.84, 26.84, 26.84, 26.84, 26.84, 26....</td>\n",
       "      <td>[22.83, 23.27, 23.69, 24.17, 24.75, 24.6, 24.3...</td>\n",
       "      <td>4275927</td>\n",
       "      <td>4875931</td>\n",
       "    </tr>\n",
       "  </tbody>\n",
       "</table>\n",
       "<p>5 rows × 62 columns</p>\n",
       "</div>"
      ],
      "text/plain": [
       "   tone_start_frame  reward_start  reward_dispensed  tone_stop_frame  \\\n",
       "0              1272          1352            1372.0             1471   \n",
       "1              1272          1352            1372.0             1471   \n",
       "2              3268          3348            3368.0             3469   \n",
       "3              3268          3348            3368.0             3469   \n",
       "4              4466          4546            4566.0             4667   \n",
       "\n",
       "  condition competition_closeness  get_reward_frame  out_reward_frame  \\\n",
       "0  rewarded                   NaN               NaN               NaN   \n",
       "1  rewarded                   NaN               NaN               NaN   \n",
       "2  rewarded                   NaN               NaN               NaN   \n",
       "3  rewarded                   NaN               NaN               NaN   \n",
       "4  rewarded                   NaN               NaN               NaN   \n",
       "\n",
       "   experiment                                     video_name  ...  agent  \\\n",
       "0  alone_comp  20240320_142408_alone_comp_subj_3-1_and_3-3.1  ...    3.3   \n",
       "1  alone_comp  20240320_142408_alone_comp_subj_3-1_and_3-3.1  ...    3.1   \n",
       "2  alone_comp  20240320_142408_alone_comp_subj_3-1_and_3-3.1  ...    3.3   \n",
       "3  alone_comp  20240320_142408_alone_comp_subj_3-1_and_3-3.1  ...    3.1   \n",
       "4  alone_comp  20240320_142408_alone_comp_subj_3-1_and_3-3.1  ...    3.3   \n",
       "\n",
       "                                   subject_locations  \\\n",
       "0  [[[80.72344548957854, 15.18291385091661], [82....   \n",
       "1  [[[78.76350635960564, 15.794081734700777], [82...   \n",
       "2  [[[80.72344548957854, 15.18291385091661], [82....   \n",
       "3  [[[78.76350635960564, 15.794081734700777], [82...   \n",
       "4  [[[80.72344548957854, 15.18291385091661], [82....   \n",
       "\n",
       "                                         frame_index  \\\n",
       "0  [1, 2, 3, 4, 5, 6, 7, 8, 9, 10, 11, 12, 13, 14...   \n",
       "1  [1, 2, 3, 4, 5, 6, 7, 8, 9, 10, 11, 12, 13, 14...   \n",
       "2  [1, 2, 3, 4, 5, 6, 7, 8, 9, 10, 11, 12, 13, 14...   \n",
       "3  [1, 2, 3, 4, 5, 6, 7, 8, 9, 10, 11, 12, 13, 14...   \n",
       "4  [1, 2, 3, 4, 5, 6, 7, 8, 9, 10, 11, 12, 13, 14...   \n",
       "\n",
       "                                     agent_locations  \\\n",
       "0  [[[78.76350635960564, 15.794081734700777], [82...   \n",
       "1  [[[80.72344548957854, 15.18291385091661], [82....   \n",
       "2  [[[78.76350635960564, 15.794081734700777], [82...   \n",
       "3  [[[80.72344548957854, 15.18291385091661], [82....   \n",
       "4  [[[78.76350635960564, 15.794081734700777], [82...   \n",
       "\n",
       "                             subject_thorax_velocity  \\\n",
       "0  [0.0, 0.0, 0.0, 0.0, 0.0, 0.0, 0.0, 0.0, 0.0, ...   \n",
       "1  [11.09, 10.26, 9.484, 8.77, 8.125, 7.555, 7.05...   \n",
       "2  [0.0, 0.0, 0.0, 0.0, 0.0, 0.0, 0.0, 0.0, 0.0, ...   \n",
       "3  [11.09, 10.26, 9.484, 8.77, 8.125, 7.555, 7.05...   \n",
       "4  [0.0, 0.0, 0.0, 0.0, 0.0, 0.0, 0.0, 0.0, 0.0, ...   \n",
       "\n",
       "                               agent_thorax_velocity  \\\n",
       "0  [11.09, 10.26, 9.484, 8.77, 8.125, 7.555, 7.05...   \n",
       "1  [0.0, 0.0, 0.0, 0.0, 0.0, 0.0, 0.0, 0.0, 0.0, ...   \n",
       "2  [11.09, 10.26, 9.484, 8.77, 8.125, 7.555, 7.05...   \n",
       "3  [0.0, 0.0, 0.0, 0.0, 0.0, 0.0, 0.0, 0.0, 0.0, ...   \n",
       "4  [11.09, 10.26, 9.484, 8.77, 8.125, 7.555, 7.05...   \n",
       "\n",
       "                       subject_thorax_to_reward_port  \\\n",
       "0  [26.84, 26.84, 26.84, 26.84, 26.84, 26.84, 26....   \n",
       "1  [22.83, 23.27, 23.69, 24.17, 24.75, 24.6, 24.3...   \n",
       "2  [26.84, 26.84, 26.84, 26.84, 26.84, 26.84, 26....   \n",
       "3  [22.83, 23.27, 23.69, 24.17, 24.75, 24.6, 24.3...   \n",
       "4  [26.84, 26.84, 26.84, 26.84, 26.84, 26.84, 26....   \n",
       "\n",
       "                         agent_thorax_to_reward_port baseline_start_timestamp  \\\n",
       "0  [22.83, 23.27, 23.69, 24.17, 24.75, 24.6, 24.3...                  1075889   \n",
       "1  [26.84, 26.84, 26.84, 26.84, 26.84, 26.84, 26....                  1075889   \n",
       "2  [22.83, 23.27, 23.69, 24.17, 24.75, 24.6, 24.3...                  3075911   \n",
       "3  [26.84, 26.84, 26.84, 26.84, 26.84, 26.84, 26....                  3075911   \n",
       "4  [22.83, 23.27, 23.69, 24.17, 24.75, 24.6, 24.3...                  4275927   \n",
       "\n",
       "  post_trial_end_timestamp  \n",
       "0                  1675891  \n",
       "1                  1675891  \n",
       "2                  3675914  \n",
       "3                  3675914  \n",
       "4                  4875931  \n",
       "\n",
       "[5 rows x 62 columns]"
      ]
     },
     "execution_count": 64,
     "metadata": {},
     "output_type": "execute_result"
    }
   ],
   "source": [
    "TRIALS_AND_SPECTRAL_DF.head()"
   ]
  },
  {
   "cell_type": "markdown",
   "metadata": {},
   "source": [
    "# Filtering out the SLEAP posed for during trials"
   ]
  },
  {
   "cell_type": "code",
   "execution_count": 65,
   "metadata": {
    "tags": []
   },
   "outputs": [],
   "source": [
    "TRIALS_AND_SPECTRAL_DF[\"video_frame\"] = TRIALS_AND_SPECTRAL_DF[\"video_timestamps\"].apply(lambda x: np.array(list(range(len(x)))) + 1)"
   ]
  },
  {
   "cell_type": "code",
   "execution_count": 66,
   "metadata": {
    "tags": []
   },
   "outputs": [
    {
     "data": {
      "text/plain": [
       "0    (63504,)\n",
       "1    (63504,)\n",
       "2    (63504,)\n",
       "3    (63504,)\n",
       "4    (63504,)\n",
       "Name: video_frame, dtype: object"
      ]
     },
     "execution_count": 66,
     "metadata": {},
     "output_type": "execute_result"
    }
   ],
   "source": [
    "TRIALS_AND_SPECTRAL_DF[\"video_frame\"].head().apply(lambda x: x.shape)"
   ]
  },
  {
   "cell_type": "code",
   "execution_count": 67,
   "metadata": {
    "tags": []
   },
   "outputs": [],
   "source": [
    "sleap_columns = [col for col in TRIALS_AND_SPECTRAL_DF.columns if (\"thorax\" in col or \"nose\" in col or \"standard_embedding\" in col or \"frame_index\" in col or \"locations\" in col or \"tailbase\" in col or \"competitiveness\" in col) and \"timestamp\" not in col and \"dict\" not in col]\n"
   ]
  },
  {
   "cell_type": "code",
   "execution_count": 68,
   "metadata": {
    "tags": []
   },
   "outputs": [
    {
     "data": {
      "text/plain": [
       "['subject_locations',\n",
       " 'frame_index',\n",
       " 'agent_locations',\n",
       " 'subject_thorax_velocity',\n",
       " 'agent_thorax_velocity',\n",
       " 'subject_thorax_to_reward_port',\n",
       " 'agent_thorax_to_reward_port']"
      ]
     },
     "execution_count": 68,
     "metadata": {},
     "output_type": "execute_result"
    }
   ],
   "source": [
    "sleap_columns"
   ]
  },
  {
   "cell_type": "code",
   "execution_count": 69,
   "metadata": {
    "tags": []
   },
   "outputs": [
    {
     "name": "stdout",
     "output_type": "stream",
     "text": [
      "subject_locations\n",
      "42    (63504, 6, 2)\n",
      "43    (63504, 6, 2)\n",
      "44    (63504, 6, 2)\n",
      "45    (63504, 6, 2)\n",
      "46    (63504, 6, 2)\n",
      "Name: subject_locations, dtype: object\n",
      "frame_index\n",
      "42    (63504,)\n",
      "43    (63504,)\n",
      "44    (63504,)\n",
      "45    (63504,)\n",
      "46    (63504,)\n",
      "Name: frame_index, dtype: object\n",
      "agent_locations\n",
      "42    (63504, 6, 2)\n",
      "43    (63504, 6, 2)\n",
      "44    (63504, 6, 2)\n",
      "45    (63504, 6, 2)\n",
      "46    (63504, 6, 2)\n",
      "Name: agent_locations, dtype: object\n",
      "subject_thorax_velocity\n",
      "42    (63504,)\n",
      "43    (63504,)\n",
      "44    (63504,)\n",
      "45    (63504,)\n",
      "46    (63504,)\n",
      "Name: subject_thorax_velocity, dtype: object\n",
      "agent_thorax_velocity\n",
      "42    (63504,)\n",
      "43    (63504,)\n",
      "44    (63504,)\n",
      "45    (63504,)\n",
      "46    (63504,)\n",
      "Name: agent_thorax_velocity, dtype: object\n",
      "subject_thorax_to_reward_port\n",
      "42    (63504,)\n",
      "43    (63504,)\n",
      "44    (63504,)\n",
      "45    (63504,)\n",
      "46    (63504,)\n",
      "Name: subject_thorax_to_reward_port, dtype: object\n",
      "agent_thorax_to_reward_port\n",
      "42    (63504,)\n",
      "43    (63504,)\n",
      "44    (63504,)\n",
      "45    (63504,)\n",
      "46    (63504,)\n",
      "Name: agent_thorax_to_reward_port, dtype: object\n"
     ]
    }
   ],
   "source": [
    "for col in sleap_columns:\n",
    "    print(col)\n",
    "    print(TRIALS_AND_SPECTRAL_DF[TRIALS_AND_SPECTRAL_DF[\"condition\"] != \"rewarded\"][col].apply(lambda x: x.shape if isinstance(x, np.ndarray) else np.nan).head())"
   ]
  },
  {
   "cell_type": "code",
   "execution_count": 70,
   "metadata": {},
   "outputs": [
    {
     "data": {
      "text/plain": [
       "Index(['tone_start_frame', 'reward_start', 'reward_dispensed',\n",
       "       'tone_stop_frame', 'condition', 'competition_closeness',\n",
       "       'get_reward_frame', 'out_reward_frame', 'experiment', 'video_name',\n",
       "       'tone_start_timestamp', 'tone_stop_timestamp', 'cohort', 'session_dir',\n",
       "       'tone_frames', 'box_1_port_entry_frames', 'box_2_port_entry_frames',\n",
       "       'notes', 'session_path', 'recording', 'current_subject', 'subject',\n",
       "       'all_subjects', 'first_timestamp', 'last_timestamp', 'video_timestamps',\n",
       "       'tone_timestamps', 'box_1_port_entry_timestamps',\n",
       "       'box_2_port_entry_timestamps', 'lfp_timestamps', 'vHPC_lfp_trace',\n",
       "       'BLA_lfp_trace', 'LH_lfp_trace', 'MD_lfp_trace', 'mPFC_lfp_trace',\n",
       "       'recording_name', 'spike_clusters', 'spike_times', 'neuron_average_fr',\n",
       "       'neuron_average_timestamps', 'start_frame', 'stop_frame',\n",
       "       'tracked_subject', 'in_video_subjects', 'box_number', 'sleap_name',\n",
       "       'body_parts', 'box_top_right', 'box_bottom_right', 'box_top_left',\n",
       "       'reward_port', 'box_bottom_left', 'agent', 'subject_locations',\n",
       "       'frame_index', 'agent_locations', 'subject_thorax_velocity',\n",
       "       'agent_thorax_velocity', 'subject_thorax_to_reward_port',\n",
       "       'agent_thorax_to_reward_port', 'baseline_start_timestamp',\n",
       "       'post_trial_end_timestamp', 'video_frame'],\n",
       "      dtype='object')"
      ]
     },
     "execution_count": 70,
     "metadata": {},
     "output_type": "execute_result"
    }
   ],
   "source": [
    "TRIALS_AND_SPECTRAL_DF.columns"
   ]
  },
  {
   "cell_type": "code",
   "execution_count": 71,
   "metadata": {
    "tags": []
   },
   "outputs": [
    {
     "name": "stdout",
     "output_type": "stream",
     "text": [
      "trial_agent_locations\n",
      "trial_agent_thorax_to_reward_port\n",
      "trial_agent_thorax_velocity\n",
      "trial_frame_index\n",
      "trial_subject_locations\n",
      "trial_subject_thorax_to_reward_port\n",
      "trial_subject_thorax_velocity\n"
     ]
    }
   ],
   "source": [
    "for col in sorted(sleap_columns):\n",
    "    updated_item_col = \"trial_{}\".format(col)\n",
    "    print(updated_item_col)\n",
    "    updated_timestamp_col = \"trial_video_timestamps\"\n",
    "    TRIALS_AND_SPECTRAL_DF[updated_item_col] = TRIALS_AND_SPECTRAL_DF.apply(lambda x: utilities.helper.filter_by_timestamp_range(start=x[\"tone_start_timestamp\"], stop=x[\"tone_stop_timestamp\"], timestamps=x[\"video_timestamps\"], items=x[col])[1] if isinstance(x[\"video_timestamps\"], np.ndarray) else np.nan, axis=1)\n",
    "\n",
    "TRIALS_AND_SPECTRAL_DF[updated_timestamp_col] = TRIALS_AND_SPECTRAL_DF.apply(lambda x: utilities.helper.filter_by_timestamp_range(start=x[\"tone_start_timestamp\"], stop=x[\"tone_stop_timestamp\"], timestamps=x[\"video_timestamps\"], items=x[col])[0] if isinstance(x[\"video_timestamps\"], np.ndarray) else np.nan, axis=1)"
   ]
  },
  {
   "cell_type": "code",
   "execution_count": null,
   "metadata": {},
   "outputs": [],
   "source": []
  },
  {
   "cell_type": "code",
   "execution_count": 72,
   "metadata": {},
   "outputs": [
    {
     "name": "stdout",
     "output_type": "stream",
     "text": [
      "baseline_agent_locations\n",
      "baseline_agent_thorax_to_reward_port\n",
      "baseline_agent_thorax_velocity\n",
      "baseline_frame_index\n",
      "baseline_subject_locations\n",
      "baseline_subject_thorax_to_reward_port\n",
      "baseline_subject_thorax_velocity\n"
     ]
    }
   ],
   "source": [
    "for col in sorted(sleap_columns):\n",
    "    updated_item_col = \"baseline_{}\".format(col)\n",
    "    print(updated_item_col)\n",
    "    updated_timestamp_col = \"baseline_video_timestamps\"\n",
    "    TRIALS_AND_SPECTRAL_DF[updated_item_col] = TRIALS_AND_SPECTRAL_DF.apply(lambda x: utilities.helper.filter_by_timestamp_range(start=x[\"baseline_start_timestamp\"], stop=x[\"tone_start_timestamp\"], timestamps=x[\"video_timestamps\"], items=x[col])[1] if isinstance(x[\"video_timestamps\"], np.ndarray) else np.nan, axis=1)\n",
    "\n",
    "TRIALS_AND_SPECTRAL_DF[updated_timestamp_col] = TRIALS_AND_SPECTRAL_DF.apply(lambda x: utilities.helper.filter_by_timestamp_range(start=x[\"baseline_start_timestamp\"], stop=x[\"tone_start_timestamp\"], timestamps=x[\"video_timestamps\"], items=x[col])[0] if isinstance(x[\"video_timestamps\"], np.ndarray) else np.nan, axis=1)"
   ]
  },
  {
   "cell_type": "code",
   "execution_count": 73,
   "metadata": {
    "tags": []
   },
   "outputs": [
    {
     "data": {
      "text/html": [
       "<div>\n",
       "<style scoped>\n",
       "    .dataframe tbody tr th:only-of-type {\n",
       "        vertical-align: middle;\n",
       "    }\n",
       "\n",
       "    .dataframe tbody tr th {\n",
       "        vertical-align: top;\n",
       "    }\n",
       "\n",
       "    .dataframe thead th {\n",
       "        text-align: right;\n",
       "    }\n",
       "</style>\n",
       "<table border=\"1\" class=\"dataframe\">\n",
       "  <thead>\n",
       "    <tr style=\"text-align: right;\">\n",
       "      <th></th>\n",
       "      <th>tone_start_frame</th>\n",
       "      <th>reward_start</th>\n",
       "      <th>reward_dispensed</th>\n",
       "      <th>tone_stop_frame</th>\n",
       "      <th>condition</th>\n",
       "      <th>competition_closeness</th>\n",
       "      <th>get_reward_frame</th>\n",
       "      <th>out_reward_frame</th>\n",
       "      <th>experiment</th>\n",
       "      <th>video_name</th>\n",
       "      <th>...</th>\n",
       "      <th>trial_subject_thorax_velocity</th>\n",
       "      <th>trial_video_timestamps</th>\n",
       "      <th>baseline_agent_locations</th>\n",
       "      <th>baseline_agent_thorax_to_reward_port</th>\n",
       "      <th>baseline_agent_thorax_velocity</th>\n",
       "      <th>baseline_frame_index</th>\n",
       "      <th>baseline_subject_locations</th>\n",
       "      <th>baseline_subject_thorax_to_reward_port</th>\n",
       "      <th>baseline_subject_thorax_velocity</th>\n",
       "      <th>baseline_video_timestamps</th>\n",
       "    </tr>\n",
       "  </thead>\n",
       "  <tbody>\n",
       "    <tr>\n",
       "      <th>42</th>\n",
       "      <td>34240</td>\n",
       "      <td>34320</td>\n",
       "      <td>34340.0</td>\n",
       "      <td>34440</td>\n",
       "      <td>3.1</td>\n",
       "      <td>Subj 1 Only</td>\n",
       "      <td>NaN</td>\n",
       "      <td>NaN</td>\n",
       "      <td>alone_comp</td>\n",
       "      <td>20240320_142408_alone_comp_subj_3-1_and_3-3.1</td>\n",
       "      <td>...</td>\n",
       "      <td>[2.986, 3.566, 4.12, 4.67, 5.203, 5.707, 6.19,...</td>\n",
       "      <td>[34276710, 34278096, 34279482, 34279482, 34280...</td>\n",
       "      <td>[[[54.047201234350496, 32.48462136905939], [52...</td>\n",
       "      <td>[12.51, 12.984, 13.26, 13.516, 12.99, 12.27, 1...</td>\n",
       "      <td>[15.01, 16.55, 18.02, 19.38, 20.64, 21.8, 22.8...</td>\n",
       "      <td>[34041, 34042, 34043, 34044, 34045, 34046, 340...</td>\n",
       "      <td>[[[62.81573570925102, 33.49031610207749], [59....</td>\n",
       "      <td>[4.99, 4.99, 4.992, 4.992, 5.125, 5.0, 4.996, ...</td>\n",
       "      <td>[0.3733, 0.4482, 0.573, 0.782, 1.051, 1.322, 1...</td>\n",
       "      <td>[34077145, 34077145, 34078531, 34079917, 34079...</td>\n",
       "    </tr>\n",
       "    <tr>\n",
       "      <th>43</th>\n",
       "      <td>34240</td>\n",
       "      <td>34320</td>\n",
       "      <td>34340.0</td>\n",
       "      <td>34440</td>\n",
       "      <td>3.1</td>\n",
       "      <td>Subj 1 Only</td>\n",
       "      <td>NaN</td>\n",
       "      <td>NaN</td>\n",
       "      <td>alone_comp</td>\n",
       "      <td>20240320_142408_alone_comp_subj_3-1_and_3-3.1</td>\n",
       "      <td>...</td>\n",
       "      <td>[16.34, 15.88, 15.375, 14.82, 14.21, 13.56, 12...</td>\n",
       "      <td>[34276710, 34278096, 34279482, 34279482, 34280...</td>\n",
       "      <td>[[[62.81573570925102, 33.49031610207749], [59....</td>\n",
       "      <td>[4.99, 4.99, 4.992, 4.992, 5.125, 5.0, 4.996, ...</td>\n",
       "      <td>[0.3733, 0.4482, 0.573, 0.782, 1.051, 1.322, 1...</td>\n",
       "      <td>[34041, 34042, 34043, 34044, 34045, 34046, 340...</td>\n",
       "      <td>[[[54.047201234350496, 32.48462136905939], [52...</td>\n",
       "      <td>[12.51, 12.984, 13.26, 13.516, 12.99, 12.27, 1...</td>\n",
       "      <td>[15.01, 16.55, 18.02, 19.38, 20.64, 21.8, 22.8...</td>\n",
       "      <td>[34077145, 34077145, 34078531, 34079917, 34079...</td>\n",
       "    </tr>\n",
       "    <tr>\n",
       "      <th>44</th>\n",
       "      <td>35238</td>\n",
       "      <td>35318</td>\n",
       "      <td>35338.0</td>\n",
       "      <td>35437</td>\n",
       "      <td>3.1</td>\n",
       "      <td>Subj 1 then Subj 2</td>\n",
       "      <td>NaN</td>\n",
       "      <td>NaN</td>\n",
       "      <td>alone_comp</td>\n",
       "      <td>20240320_142408_alone_comp_subj_3-1_and_3-3.1</td>\n",
       "      <td>...</td>\n",
       "      <td>[0.128, 0.07196, 0.05035, 0.1224, 0.2048, 0.27...</td>\n",
       "      <td>[35277308, 35277308, 35278694, 35280080, 35280...</td>\n",
       "      <td>[[[62.32604037851049, 33.47953327548524], [60....</td>\n",
       "      <td>[5.645, 5.66, 5.656, 5.66, 5.84, 5.92, 5.844, ...</td>\n",
       "      <td>[1.193, 1.498, 1.745, 1.959, 2.1, 2.193, 2.254...</td>\n",
       "      <td>[35039, 35040, 35041, 35042, 35043, 35044, 350...</td>\n",
       "      <td>[[[47.349319046024625, 35.41309285214402], [46...</td>\n",
       "      <td>[9.375, 10.15, 11.125, 11.625, 12.086, 12.82, ...</td>\n",
       "      <td>[6.508, 6.81, 6.98, 6.93, 6.676, 6.29, 5.844, ...</td>\n",
       "      <td>[35076357, 35077743, 35079129, 35079129, 35080...</td>\n",
       "    </tr>\n",
       "    <tr>\n",
       "      <th>45</th>\n",
       "      <td>35238</td>\n",
       "      <td>35318</td>\n",
       "      <td>35338.0</td>\n",
       "      <td>35437</td>\n",
       "      <td>3.1</td>\n",
       "      <td>Subj 1 then Subj 2</td>\n",
       "      <td>NaN</td>\n",
       "      <td>NaN</td>\n",
       "      <td>alone_comp</td>\n",
       "      <td>20240320_142408_alone_comp_subj_3-1_and_3-3.1</td>\n",
       "      <td>...</td>\n",
       "      <td>[18.23, 18.75, 19.03, 19.14, 19.11, 18.97, 18....</td>\n",
       "      <td>[35277308, 35277308, 35278694, 35280080, 35280...</td>\n",
       "      <td>[[[47.349319046024625, 35.41309285214402], [46...</td>\n",
       "      <td>[9.375, 10.15, 11.125, 11.625, 12.086, 12.82, ...</td>\n",
       "      <td>[6.508, 6.81, 6.98, 6.93, 6.676, 6.29, 5.844, ...</td>\n",
       "      <td>[35039, 35040, 35041, 35042, 35043, 35044, 350...</td>\n",
       "      <td>[[[62.32604037851049, 33.47953327548524], [60....</td>\n",
       "      <td>[5.645, 5.66, 5.656, 5.66, 5.84, 5.92, 5.844, ...</td>\n",
       "      <td>[1.193, 1.498, 1.745, 1.959, 2.1, 2.193, 2.254...</td>\n",
       "      <td>[35076357, 35077743, 35079129, 35079129, 35080...</td>\n",
       "    </tr>\n",
       "    <tr>\n",
       "      <th>46</th>\n",
       "      <td>36337</td>\n",
       "      <td>36417</td>\n",
       "      <td>36437.0</td>\n",
       "      <td>36536</td>\n",
       "      <td>3.3</td>\n",
       "      <td>Subj 2 Only</td>\n",
       "      <td>NaN</td>\n",
       "      <td>NaN</td>\n",
       "      <td>alone_comp</td>\n",
       "      <td>20240320_142408_alone_comp_subj_3-1_and_3-3.1</td>\n",
       "      <td>...</td>\n",
       "      <td>[1.152, 1.122, 1.069, 1.02, 0.977, 0.9233, 0.8...</td>\n",
       "      <td>[36377688, 36379074, 36380460, 36380460, 36381...</td>\n",
       "      <td>[[[65.25330160033462, 8.985615969942064], [61....</td>\n",
       "      <td>[28.55, 28.38, 28.39, 28.38, 28.38, 28.69, 28....</td>\n",
       "      <td>[0.4546, 0.4463, 0.474, 0.5103, 0.5757, 0.665,...</td>\n",
       "      <td>[36137, 36138, 36139, 36140, 36141, 36142, 361...</td>\n",
       "      <td>[[[61.80969837607312, 33.48027678986218], [58....</td>\n",
       "      <td>[4.496, 4.51, 4.52, 4.57, 4.562, 4.55, 4.652, ...</td>\n",
       "      <td>[0.638, 0.669, 0.703, 0.739, 0.7725, 0.8027, 0...</td>\n",
       "      <td>[36176737, 36177403, 36178123, 36179509, 36180...</td>\n",
       "    </tr>\n",
       "  </tbody>\n",
       "</table>\n",
       "<p>5 rows × 79 columns</p>\n",
       "</div>"
      ],
      "text/plain": [
       "    tone_start_frame  reward_start  reward_dispensed  tone_stop_frame  \\\n",
       "42             34240         34320           34340.0            34440   \n",
       "43             34240         34320           34340.0            34440   \n",
       "44             35238         35318           35338.0            35437   \n",
       "45             35238         35318           35338.0            35437   \n",
       "46             36337         36417           36437.0            36536   \n",
       "\n",
       "   condition competition_closeness  get_reward_frame  out_reward_frame  \\\n",
       "42       3.1           Subj 1 Only               NaN               NaN   \n",
       "43       3.1           Subj 1 Only               NaN               NaN   \n",
       "44       3.1    Subj 1 then Subj 2               NaN               NaN   \n",
       "45       3.1    Subj 1 then Subj 2               NaN               NaN   \n",
       "46       3.3           Subj 2 Only               NaN               NaN   \n",
       "\n",
       "    experiment                                     video_name  ...  \\\n",
       "42  alone_comp  20240320_142408_alone_comp_subj_3-1_and_3-3.1  ...   \n",
       "43  alone_comp  20240320_142408_alone_comp_subj_3-1_and_3-3.1  ...   \n",
       "44  alone_comp  20240320_142408_alone_comp_subj_3-1_and_3-3.1  ...   \n",
       "45  alone_comp  20240320_142408_alone_comp_subj_3-1_and_3-3.1  ...   \n",
       "46  alone_comp  20240320_142408_alone_comp_subj_3-1_and_3-3.1  ...   \n",
       "\n",
       "                        trial_subject_thorax_velocity  \\\n",
       "42  [2.986, 3.566, 4.12, 4.67, 5.203, 5.707, 6.19,...   \n",
       "43  [16.34, 15.88, 15.375, 14.82, 14.21, 13.56, 12...   \n",
       "44  [0.128, 0.07196, 0.05035, 0.1224, 0.2048, 0.27...   \n",
       "45  [18.23, 18.75, 19.03, 19.14, 19.11, 18.97, 18....   \n",
       "46  [1.152, 1.122, 1.069, 1.02, 0.977, 0.9233, 0.8...   \n",
       "\n",
       "                               trial_video_timestamps  \\\n",
       "42  [34276710, 34278096, 34279482, 34279482, 34280...   \n",
       "43  [34276710, 34278096, 34279482, 34279482, 34280...   \n",
       "44  [35277308, 35277308, 35278694, 35280080, 35280...   \n",
       "45  [35277308, 35277308, 35278694, 35280080, 35280...   \n",
       "46  [36377688, 36379074, 36380460, 36380460, 36381...   \n",
       "\n",
       "                             baseline_agent_locations  \\\n",
       "42  [[[54.047201234350496, 32.48462136905939], [52...   \n",
       "43  [[[62.81573570925102, 33.49031610207749], [59....   \n",
       "44  [[[62.32604037851049, 33.47953327548524], [60....   \n",
       "45  [[[47.349319046024625, 35.41309285214402], [46...   \n",
       "46  [[[65.25330160033462, 8.985615969942064], [61....   \n",
       "\n",
       "                 baseline_agent_thorax_to_reward_port  \\\n",
       "42  [12.51, 12.984, 13.26, 13.516, 12.99, 12.27, 1...   \n",
       "43  [4.99, 4.99, 4.992, 4.992, 5.125, 5.0, 4.996, ...   \n",
       "44  [5.645, 5.66, 5.656, 5.66, 5.84, 5.92, 5.844, ...   \n",
       "45  [9.375, 10.15, 11.125, 11.625, 12.086, 12.82, ...   \n",
       "46  [28.55, 28.38, 28.39, 28.38, 28.38, 28.69, 28....   \n",
       "\n",
       "                       baseline_agent_thorax_velocity  \\\n",
       "42  [15.01, 16.55, 18.02, 19.38, 20.64, 21.8, 22.8...   \n",
       "43  [0.3733, 0.4482, 0.573, 0.782, 1.051, 1.322, 1...   \n",
       "44  [1.193, 1.498, 1.745, 1.959, 2.1, 2.193, 2.254...   \n",
       "45  [6.508, 6.81, 6.98, 6.93, 6.676, 6.29, 5.844, ...   \n",
       "46  [0.4546, 0.4463, 0.474, 0.5103, 0.5757, 0.665,...   \n",
       "\n",
       "                                 baseline_frame_index  \\\n",
       "42  [34041, 34042, 34043, 34044, 34045, 34046, 340...   \n",
       "43  [34041, 34042, 34043, 34044, 34045, 34046, 340...   \n",
       "44  [35039, 35040, 35041, 35042, 35043, 35044, 350...   \n",
       "45  [35039, 35040, 35041, 35042, 35043, 35044, 350...   \n",
       "46  [36137, 36138, 36139, 36140, 36141, 36142, 361...   \n",
       "\n",
       "                           baseline_subject_locations  \\\n",
       "42  [[[62.81573570925102, 33.49031610207749], [59....   \n",
       "43  [[[54.047201234350496, 32.48462136905939], [52...   \n",
       "44  [[[47.349319046024625, 35.41309285214402], [46...   \n",
       "45  [[[62.32604037851049, 33.47953327548524], [60....   \n",
       "46  [[[61.80969837607312, 33.48027678986218], [58....   \n",
       "\n",
       "               baseline_subject_thorax_to_reward_port  \\\n",
       "42  [4.99, 4.99, 4.992, 4.992, 5.125, 5.0, 4.996, ...   \n",
       "43  [12.51, 12.984, 13.26, 13.516, 12.99, 12.27, 1...   \n",
       "44  [9.375, 10.15, 11.125, 11.625, 12.086, 12.82, ...   \n",
       "45  [5.645, 5.66, 5.656, 5.66, 5.84, 5.92, 5.844, ...   \n",
       "46  [4.496, 4.51, 4.52, 4.57, 4.562, 4.55, 4.652, ...   \n",
       "\n",
       "                     baseline_subject_thorax_velocity  \\\n",
       "42  [0.3733, 0.4482, 0.573, 0.782, 1.051, 1.322, 1...   \n",
       "43  [15.01, 16.55, 18.02, 19.38, 20.64, 21.8, 22.8...   \n",
       "44  [6.508, 6.81, 6.98, 6.93, 6.676, 6.29, 5.844, ...   \n",
       "45  [1.193, 1.498, 1.745, 1.959, 2.1, 2.193, 2.254...   \n",
       "46  [0.638, 0.669, 0.703, 0.739, 0.7725, 0.8027, 0...   \n",
       "\n",
       "                            baseline_video_timestamps  \n",
       "42  [34077145, 34077145, 34078531, 34079917, 34079...  \n",
       "43  [34077145, 34077145, 34078531, 34079917, 34079...  \n",
       "44  [35076357, 35077743, 35079129, 35079129, 35080...  \n",
       "45  [35076357, 35077743, 35079129, 35079129, 35080...  \n",
       "46  [36176737, 36177403, 36178123, 36179509, 36180...  \n",
       "\n",
       "[5 rows x 79 columns]"
      ]
     },
     "execution_count": 73,
     "metadata": {},
     "output_type": "execute_result"
    }
   ],
   "source": [
    "TRIALS_AND_SPECTRAL_DF[TRIALS_AND_SPECTRAL_DF[\"condition\"] != \"rewarded\"].head()"
   ]
  },
  {
   "cell_type": "code",
   "execution_count": 74,
   "metadata": {
    "tags": []
   },
   "outputs": [
    {
     "data": {
      "text/plain": [
       "(200,)"
      ]
     },
     "execution_count": 74,
     "metadata": {},
     "output_type": "execute_result"
    }
   ],
   "source": [
    "TRIALS_AND_SPECTRAL_DF[TRIALS_AND_SPECTRAL_DF[\"condition\"] != \"rewarded\"][\"trial_frame_index\"].iloc[0].shape"
   ]
  },
  {
   "cell_type": "code",
   "execution_count": 75,
   "metadata": {
    "tags": []
   },
   "outputs": [],
   "source": [
    "TRIALS_AND_SPECTRAL_DF = TRIALS_AND_SPECTRAL_DF.drop(columns=sleap_columns + [\"video_timestamps\"], errors=\"ignore\")"
   ]
  },
  {
   "cell_type": "code",
   "execution_count": 76,
   "metadata": {
    "tags": []
   },
   "outputs": [
    {
     "name": "stdout",
     "output_type": "stream",
     "text": [
      "tone_start_frame\n",
      "reward_start\n",
      "reward_dispensed\n",
      "tone_stop_frame\n",
      "condition\n",
      "competition_closeness\n",
      "get_reward_frame\n",
      "out_reward_frame\n",
      "experiment\n",
      "video_name\n",
      "tone_start_timestamp\n",
      "tone_stop_timestamp\n",
      "cohort\n",
      "session_dir\n",
      "tone_frames\n",
      "box_1_port_entry_frames\n",
      "box_2_port_entry_frames\n",
      "notes\n",
      "session_path\n",
      "recording\n",
      "current_subject\n",
      "subject\n",
      "all_subjects\n",
      "first_timestamp\n",
      "last_timestamp\n",
      "tone_timestamps\n",
      "box_1_port_entry_timestamps\n",
      "box_2_port_entry_timestamps\n",
      "lfp_timestamps\n",
      "vHPC_lfp_trace\n",
      "BLA_lfp_trace\n",
      "LH_lfp_trace\n",
      "MD_lfp_trace\n",
      "mPFC_lfp_trace\n",
      "recording_name\n",
      "spike_clusters\n",
      "spike_times\n",
      "neuron_average_fr\n",
      "neuron_average_timestamps\n",
      "start_frame\n",
      "stop_frame\n",
      "tracked_subject\n",
      "in_video_subjects\n",
      "box_number\n",
      "sleap_name\n",
      "body_parts\n",
      "box_top_right\n",
      "box_bottom_right\n",
      "box_top_left\n",
      "reward_port\n",
      "box_bottom_left\n",
      "agent\n",
      "baseline_start_timestamp\n",
      "post_trial_end_timestamp\n",
      "video_frame\n",
      "trial_agent_locations\n",
      "trial_agent_thorax_to_reward_port\n",
      "trial_agent_thorax_velocity\n",
      "trial_frame_index\n",
      "trial_subject_locations\n",
      "trial_subject_thorax_to_reward_port\n",
      "trial_subject_thorax_velocity\n",
      "trial_video_timestamps\n",
      "baseline_agent_locations\n",
      "baseline_agent_thorax_to_reward_port\n",
      "baseline_agent_thorax_velocity\n",
      "baseline_frame_index\n",
      "baseline_subject_locations\n",
      "baseline_subject_thorax_to_reward_port\n",
      "baseline_subject_thorax_velocity\n",
      "baseline_video_timestamps\n"
     ]
    }
   ],
   "source": [
    "for col in TRIALS_AND_SPECTRAL_DF.columns:\n",
    "    print(col)"
   ]
  },
  {
   "cell_type": "markdown",
   "metadata": {},
   "source": [
    "# Filtering out spikes"
   ]
  },
  {
   "cell_type": "code",
   "execution_count": 77,
   "metadata": {},
   "outputs": [],
   "source": [
    "TRIALS_AND_SPECTRAL_DF[\"baseline_spike_times\"] = TRIALS_AND_SPECTRAL_DF.apply(lambda x: filter_spike_times(x[\"spike_times\"], start=x[\"baseline_start_timestamp\"], stop=x[\"tone_start_timestamp\"]).astype(int), axis=1)\n"
   ]
  },
  {
   "cell_type": "code",
   "execution_count": 78,
   "metadata": {},
   "outputs": [],
   "source": [
    "TRIALS_AND_SPECTRAL_DF[\"trial_spike_times\"] = TRIALS_AND_SPECTRAL_DF.apply(lambda x: filter_spike_times(x[\"spike_times\"], start=x[\"tone_start_timestamp\"], stop=x[\"tone_stop_timestamp\"]).astype(int), axis=1)\n"
   ]
  },
  {
   "cell_type": "code",
   "execution_count": 79,
   "metadata": {},
   "outputs": [
    {
     "data": {
      "text/plain": [
       "0    1275889\n",
       "1    1275889\n",
       "2    3275911\n",
       "3    3275911\n",
       "4    4475927\n",
       "Name: tone_start_timestamp, dtype: int64"
      ]
     },
     "execution_count": 79,
     "metadata": {},
     "output_type": "execute_result"
    }
   ],
   "source": [
    "TRIALS_AND_SPECTRAL_DF[\"tone_start_timestamp\"].head()"
   ]
  },
  {
   "cell_type": "code",
   "execution_count": 80,
   "metadata": {},
   "outputs": [
    {
     "data": {
      "text/plain": [
       "0    1075889\n",
       "1    1075889\n",
       "2    3075911\n",
       "3    3075911\n",
       "4    4275927\n",
       "Name: baseline_start_timestamp, dtype: int64"
      ]
     },
     "execution_count": 80,
     "metadata": {},
     "output_type": "execute_result"
    }
   ],
   "source": [
    "TRIALS_AND_SPECTRAL_DF[\"baseline_start_timestamp\"].head()"
   ]
  },
  {
   "cell_type": "code",
   "execution_count": 81,
   "metadata": {},
   "outputs": [
    {
     "data": {
      "text/plain": [
       "array([[1103733, 1122516, 1123079, ...,      -1,      -1,      -1],\n",
       "       [1082337, 1084207, 1085898, ...,      -1,      -1,      -1],\n",
       "       [1158168,      -1,      -1, ...,      -1,      -1,      -1],\n",
       "       ...,\n",
       "       [1088690, 1089366, 1093440, ...,      -1,      -1,      -1],\n",
       "       [1078045, 1080487, 1081051, ...,      -1,      -1,      -1],\n",
       "       [1082307, 1096129, 1120683, ...,      -1,      -1,      -1]])"
      ]
     },
     "execution_count": 81,
     "metadata": {},
     "output_type": "execute_result"
    }
   ],
   "source": [
    "TRIALS_AND_SPECTRAL_DF[\"baseline_spike_times\"].iloc[0]"
   ]
  },
  {
   "cell_type": "code",
   "execution_count": 82,
   "metadata": {},
   "outputs": [],
   "source": [
    "TRIALS_AND_SPECTRAL_DF[\"baseline_neuron_average_fr\"] = TRIALS_AND_SPECTRAL_DF.apply(lambda x: utilities.helper.filter_by_timestamp_range(start=x[\"baseline_start_timestamp\"], stop=x[\"tone_start_timestamp\"], timestamps=x[\"neuron_average_timestamps\"], items=x[\"neuron_average_fr\"].T)[1], axis=1)\n",
    "TRIALS_AND_SPECTRAL_DF[\"baseline_neuron_average_timestamp\"] = TRIALS_AND_SPECTRAL_DF.apply(lambda x: utilities.helper.filter_by_timestamp_range(start=x[\"baseline_start_timestamp\"], stop=x[\"tone_start_timestamp\"], timestamps=x[\"neuron_average_timestamps\"], items=x[\"neuron_average_fr\"].T)[0], axis=1)"
   ]
  },
  {
   "cell_type": "code",
   "execution_count": 83,
   "metadata": {},
   "outputs": [],
   "source": [
    "TRIALS_AND_SPECTRAL_DF[\"trial_neuron_average_fr\"] = TRIALS_AND_SPECTRAL_DF.apply(lambda x: utilities.helper.filter_by_timestamp_range(start=x[\"tone_start_timestamp\"], stop=x[\"tone_stop_timestamp\"], timestamps=x[\"neuron_average_timestamps\"], items=x[\"neuron_average_fr\"].T)[1].T, axis=1)\n",
    "TRIALS_AND_SPECTRAL_DF[\"trial_neuron_average_timestamp\"] = TRIALS_AND_SPECTRAL_DF.apply(lambda x: utilities.helper.filter_by_timestamp_range(start=x[\"tone_start_timestamp\"], stop=x[\"tone_stop_timestamp\"], timestamps=x[\"neuron_average_timestamps\"], items=x[\"neuron_average_fr\"].T)[0], axis=1)"
   ]
  },
  {
   "cell_type": "code",
   "execution_count": 84,
   "metadata": {},
   "outputs": [],
   "source": [
    "TRIALS_AND_SPECTRAL_DF = TRIALS_AND_SPECTRAL_DF.drop(columns=[\"spike_clusters\", \"spike_times\", \"neuron_average_fr\", \"neuron_average_timestamps\",], errors=\"ignore\")"
   ]
  },
  {
   "cell_type": "code",
   "execution_count": 85,
   "metadata": {},
   "outputs": [
    {
     "data": {
      "text/plain": [
       "(15, 100)"
      ]
     },
     "execution_count": 85,
     "metadata": {},
     "output_type": "execute_result"
    }
   ],
   "source": [
    "TRIALS_AND_SPECTRAL_DF[\"trial_neuron_average_fr\"].iloc[0].shape"
   ]
  },
  {
   "cell_type": "code",
   "execution_count": 86,
   "metadata": {},
   "outputs": [
    {
     "data": {
      "text/plain": [
       "(100,)"
      ]
     },
     "execution_count": 86,
     "metadata": {},
     "output_type": "execute_result"
    }
   ],
   "source": [
    "TRIALS_AND_SPECTRAL_DF[\"trial_neuron_average_timestamp\"].iloc[0].shape"
   ]
  },
  {
   "cell_type": "code",
   "execution_count": null,
   "metadata": {},
   "outputs": [],
   "source": []
  },
  {
   "cell_type": "markdown",
   "metadata": {},
   "source": [
    "- Filtering coherence"
   ]
  },
  {
   "cell_type": "code",
   "execution_count": 87,
   "metadata": {
    "tags": []
   },
   "outputs": [],
   "source": [
    "coherence_columns = [col for col in TRIALS_AND_SPECTRAL_DF.columns if \"coherence\" in col and \"timestamps\" not in col and \"calculation\" not in col]"
   ]
  },
  {
   "cell_type": "code",
   "execution_count": 88,
   "metadata": {
    "tags": []
   },
   "outputs": [
    {
     "data": {
      "text/plain": [
       "[]"
      ]
     },
     "execution_count": 88,
     "metadata": {},
     "output_type": "execute_result"
    }
   ],
   "source": [
    "coherence_columns"
   ]
  },
  {
   "cell_type": "code",
   "execution_count": 89,
   "metadata": {
    "tags": []
   },
   "outputs": [],
   "source": [
    "try:\n",
    "    for col in sorted(coherence_columns):\n",
    "        updated_item_col = \"trial_{}\".format(col)\n",
    "        print(updated_item_col)\n",
    "        updated_timestamp_col = \"trial_coherence_timestamps\"\n",
    "        TRIALS_AND_SPECTRAL_DF[updated_item_col] = TRIALS_AND_SPECTRAL_DF.apply(lambda x: utilities.helper.filter_by_timestamp_range(start=x[\"tone_start_timestamp\"], stop=x[\"tone_stop_timestamp\"], timestamps=x[\"coherence_timestamps\"], items=x[col])[1], axis=1)\n",
    "\n",
    "    TRIALS_AND_SPECTRAL_DF[updated_timestamp_col] = TRIALS_AND_SPECTRAL_DF.apply(lambda x: utilities.helper.filter_by_timestamp_range(start=x[\"tone_start_timestamp\"], stop=x[\"tone_stop_timestamp\"], timestamps=x[\"coherence_timestamps\"], items=x[col])[0], axis=1)\n",
    "except:\n",
    "    pass"
   ]
  },
  {
   "cell_type": "code",
   "execution_count": 90,
   "metadata": {},
   "outputs": [],
   "source": [
    "try:\n",
    "    for col in sorted(coherence_columns):\n",
    "        updated_item_col = \"baseline_{}\".format(col)\n",
    "        print(updated_item_col)\n",
    "        updated_timestamp_col = \"baseline_coherence_timestamps\"\n",
    "        TRIALS_AND_SPECTRAL_DF[updated_item_col] = TRIALS_AND_SPECTRAL_DF.apply(lambda x: utilities.helper.filter_by_timestamp_range(start=x[\"baseline_start_timestamp\"], stop=x[\"tone_start_timestamp\"], timestamps=x[\"coherence_timestamps\"], items=x[col])[1], axis=1)\n",
    "\n",
    "    TRIALS_AND_SPECTRAL_DF[updated_timestamp_col] = TRIALS_AND_SPECTRAL_DF.apply(lambda x: utilities.helper.filter_by_timestamp_range(start=x[\"baseline_start_timestamp\"], stop=x[\"tone_start_timestamp\"], timestamps=x[\"coherence_timestamps\"], items=x[col])[0], axis=1)\n",
    "except:\n",
    "    pass"
   ]
  },
  {
   "cell_type": "code",
   "execution_count": 91,
   "metadata": {
    "tags": []
   },
   "outputs": [],
   "source": [
    "TRIALS_AND_SPECTRAL_DF = TRIALS_AND_SPECTRAL_DF.drop(columns=coherence_columns + [\"coherence_timestamps\"], errors=\"ignore\")"
   ]
  },
  {
   "cell_type": "markdown",
   "metadata": {},
   "source": [
    "- Filtering Grangers"
   ]
  },
  {
   "cell_type": "code",
   "execution_count": 92,
   "metadata": {
    "tags": []
   },
   "outputs": [],
   "source": [
    "granger_columns = [col for col in TRIALS_AND_SPECTRAL_DF.columns if \"granger\" in col and \"timestamps\" not in col and \"calculation\" not in col]"
   ]
  },
  {
   "cell_type": "code",
   "execution_count": 93,
   "metadata": {
    "tags": []
   },
   "outputs": [
    {
     "data": {
      "text/plain": [
       "[]"
      ]
     },
     "execution_count": 93,
     "metadata": {},
     "output_type": "execute_result"
    }
   ],
   "source": [
    "granger_columns"
   ]
  },
  {
   "cell_type": "code",
   "execution_count": 94,
   "metadata": {
    "tags": []
   },
   "outputs": [],
   "source": [
    "try:\n",
    "    for col in sorted(granger_columns):\n",
    "        updated_item_col = \"trial_{}\".format(col)\n",
    "        print(updated_item_col)\n",
    "        updated_timestamp_col = \"trial_granger_timestamps\"\n",
    "        TRIALS_AND_SPECTRAL_DF[updated_item_col] = TRIALS_AND_SPECTRAL_DF.apply(lambda x: utilities.helper.filter_by_timestamp_range(start=x[\"tone_start_timestamp\"], stop=x[\"tone_stop_timestamp\"], timestamps=x[\"granger_timestamps\"], items=x[col])[1], axis=1)\n",
    "\n",
    "    TRIALS_AND_SPECTRAL_DF[updated_timestamp_col] = TRIALS_AND_SPECTRAL_DF.apply(lambda x: utilities.helper.filter_by_timestamp_range(start=x[\"tone_start_timestamp\"], stop=x[\"tone_stop_timestamp\"], timestamps=x[\"granger_timestamps\"], items=x[col])[0], axis=1)\n",
    "except:\n",
    "    pass"
   ]
  },
  {
   "cell_type": "code",
   "execution_count": 95,
   "metadata": {},
   "outputs": [],
   "source": [
    "try:\n",
    "    for col in sorted(granger_columns):\n",
    "        updated_item_col = \"baseline_{}\".format(col)\n",
    "        print(updated_item_col)\n",
    "        updated_timestamp_col = \"baseline_granger_timestamps\"\n",
    "        TRIALS_AND_SPECTRAL_DF[updated_item_col] = TRIALS_AND_SPECTRAL_DF.apply(lambda x: utilities.helper.filter_by_timestamp_range(start=x[\"baseline_start_timestamp\"], stop=x[\"tone_start_timestamp\"], timestamps=x[\"granger_timestamps\"], items=x[col])[1], axis=1)\n",
    "\n",
    "    TRIALS_AND_SPECTRAL_DF[updated_timestamp_col] = TRIALS_AND_SPECTRAL_DF.apply(lambda x: utilities.helper.filter_by_timestamp_range(start=x[\"baseline_start_timestamp\"], stop=x[\"tone_start_timestamp\"], timestamps=x[\"granger_timestamps\"], items=x[col])[0], axis=1)\n",
    "except:\n",
    "    pass"
   ]
  },
  {
   "cell_type": "code",
   "execution_count": 96,
   "metadata": {
    "tags": []
   },
   "outputs": [],
   "source": [
    "TRIALS_AND_SPECTRAL_DF = TRIALS_AND_SPECTRAL_DF.drop(columns=granger_columns + [\"granger_timestamps\"], errors=\"ignore\")"
   ]
  },
  {
   "cell_type": "markdown",
   "metadata": {},
   "source": [
    "- Filtering power"
   ]
  },
  {
   "cell_type": "code",
   "execution_count": 97,
   "metadata": {},
   "outputs": [
    {
     "data": {
      "text/html": [
       "<div>\n",
       "<style scoped>\n",
       "    .dataframe tbody tr th:only-of-type {\n",
       "        vertical-align: middle;\n",
       "    }\n",
       "\n",
       "    .dataframe tbody tr th {\n",
       "        vertical-align: top;\n",
       "    }\n",
       "\n",
       "    .dataframe thead th {\n",
       "        text-align: right;\n",
       "    }\n",
       "</style>\n",
       "<table border=\"1\" class=\"dataframe\">\n",
       "  <thead>\n",
       "    <tr style=\"text-align: right;\">\n",
       "      <th></th>\n",
       "      <th>tone_start_frame</th>\n",
       "      <th>reward_start</th>\n",
       "      <th>reward_dispensed</th>\n",
       "      <th>tone_stop_frame</th>\n",
       "      <th>condition</th>\n",
       "      <th>competition_closeness</th>\n",
       "      <th>get_reward_frame</th>\n",
       "      <th>out_reward_frame</th>\n",
       "      <th>experiment</th>\n",
       "      <th>video_name</th>\n",
       "      <th>...</th>\n",
       "      <th>baseline_subject_locations</th>\n",
       "      <th>baseline_subject_thorax_to_reward_port</th>\n",
       "      <th>baseline_subject_thorax_velocity</th>\n",
       "      <th>baseline_video_timestamps</th>\n",
       "      <th>baseline_spike_times</th>\n",
       "      <th>trial_spike_times</th>\n",
       "      <th>baseline_neuron_average_fr</th>\n",
       "      <th>baseline_neuron_average_timestamp</th>\n",
       "      <th>trial_neuron_average_fr</th>\n",
       "      <th>trial_neuron_average_timestamp</th>\n",
       "    </tr>\n",
       "  </thead>\n",
       "  <tbody>\n",
       "    <tr>\n",
       "      <th>0</th>\n",
       "      <td>1272</td>\n",
       "      <td>1352</td>\n",
       "      <td>1372.0</td>\n",
       "      <td>1471</td>\n",
       "      <td>rewarded</td>\n",
       "      <td>NaN</td>\n",
       "      <td>NaN</td>\n",
       "      <td>NaN</td>\n",
       "      <td>alone_comp</td>\n",
       "      <td>20240320_142408_alone_comp_subj_3-1_and_3-3.1</td>\n",
       "      <td>...</td>\n",
       "      <td>[[[53.554223881353295, 34.012170346436235], [5...</td>\n",
       "      <td>[20.08, 20.05, 20.02, 19.98, 19.95, 19.92, 19....</td>\n",
       "      <td>[0.765, 0.765, 0.765, 0.765, 0.765, 0.765, 0.7...</td>\n",
       "      <td>[1076819, 1078205, 1078205, 1079591, 1080976, ...</td>\n",
       "      <td>[[1103733, 1122516, 1123079, 1197152, 1238005,...</td>\n",
       "      <td>[[1278428, 1288446, 1299034, 1307410, 1349996,...</td>\n",
       "      <td>[[0.0, 0.0, 0.0, 6.0, 1.0, 0.0, 0.0, 0.0, 0.0,...</td>\n",
       "      <td>[1076000, 1078000, 1080000, 1082000, 1084000, ...</td>\n",
       "      <td>[[0.0, 1.0, 0.0, 0.0, 0.0, 0.0, 1.0, 0.0, 0.0,...</td>\n",
       "      <td>[1276000, 1278000, 1280000, 1282000, 1284000, ...</td>\n",
       "    </tr>\n",
       "    <tr>\n",
       "      <th>1</th>\n",
       "      <td>1272</td>\n",
       "      <td>1352</td>\n",
       "      <td>1372.0</td>\n",
       "      <td>1471</td>\n",
       "      <td>rewarded</td>\n",
       "      <td>NaN</td>\n",
       "      <td>NaN</td>\n",
       "      <td>NaN</td>\n",
       "      <td>alone_comp</td>\n",
       "      <td>20240320_142408_alone_comp_subj_3-1_and_3-3.1</td>\n",
       "      <td>...</td>\n",
       "      <td>[[[55.830406542433366, 14.855499448897977], [5...</td>\n",
       "      <td>[23.42, 23.38, 23.16, 23.14, 23.14, 23.05, 23....</td>\n",
       "      <td>[0.732, 0.8413, 0.997, 1.205, 1.408, 1.698, 2....</td>\n",
       "      <td>[1076819, 1078205, 1078205, 1079591, 1080976, ...</td>\n",
       "      <td>[[1083272, 1085299, 1092366, 1096039, 1109069,...</td>\n",
       "      <td>[[1277150, 1287988, 1291074, 1291788, 1296855,...</td>\n",
       "      <td>[[0.0, 0.0, 0.0, 0.0, 0.0, 0.0, 0.0, 0.0, 0.0,...</td>\n",
       "      <td>[1076000, 1078000, 1080000, 1082000, 1084000, ...</td>\n",
       "      <td>[[1.0, 0.0, 0.0, 0.0, 0.0, 1.0, 0.0, 2.0, 0.0,...</td>\n",
       "      <td>[1276000, 1278000, 1280000, 1282000, 1284000, ...</td>\n",
       "    </tr>\n",
       "    <tr>\n",
       "      <th>2</th>\n",
       "      <td>3268</td>\n",
       "      <td>3348</td>\n",
       "      <td>3368.0</td>\n",
       "      <td>3469</td>\n",
       "      <td>rewarded</td>\n",
       "      <td>NaN</td>\n",
       "      <td>NaN</td>\n",
       "      <td>NaN</td>\n",
       "      <td>alone_comp</td>\n",
       "      <td>20240320_142408_alone_comp_subj_3-1_and_3-3.1</td>\n",
       "      <td>...</td>\n",
       "      <td>[[[72.31235192301608, 12.466513975820124], [68...</td>\n",
       "      <td>[1.71, 1.708, 1.707, 1.706, 1.705, 1.703, 1.70...</td>\n",
       "      <td>[0.03372, 0.03372, 0.03372, 0.03372, 0.03372, ...</td>\n",
       "      <td>[3076629, 3076629, 3078015, 3079400, 3080786, ...</td>\n",
       "      <td>[[3080416, 3139037, 3141153, 3143036, 3144932,...</td>\n",
       "      <td>[[3303781, 3359769, 3363493, 3388043, 3401743,...</td>\n",
       "      <td>[[0.0, 0.0, 0.0, 0.0, 4.0, 0.0, 0.0, 0.0, 2.0,...</td>\n",
       "      <td>[3076000, 3078000, 3080000, 3082000, 3084000, ...</td>\n",
       "      <td>[[0.0, 0.0, 0.0, 0.0, 0.0, 0.0, 0.0, 0.0, 0.0,...</td>\n",
       "      <td>[3276000, 3278000, 3280000, 3282000, 3284000, ...</td>\n",
       "    </tr>\n",
       "    <tr>\n",
       "      <th>3</th>\n",
       "      <td>3268</td>\n",
       "      <td>3348</td>\n",
       "      <td>3368.0</td>\n",
       "      <td>3469</td>\n",
       "      <td>rewarded</td>\n",
       "      <td>NaN</td>\n",
       "      <td>NaN</td>\n",
       "      <td>NaN</td>\n",
       "      <td>alone_comp</td>\n",
       "      <td>20240320_142408_alone_comp_subj_3-1_and_3-3.1</td>\n",
       "      <td>...</td>\n",
       "      <td>[[[65.04972718833214, 33.63010427744915], [64....</td>\n",
       "      <td>[8.63, 8.58, 9.04, 8.695, 7.91, 8.19, 7.88, 7....</td>\n",
       "      <td>[7.152, 6.49, 5.996, 5.605, 5.305, 5.04, 4.793...</td>\n",
       "      <td>[3076629, 3076629, 3078015, 3079400, 3080786, ...</td>\n",
       "      <td>[[3080579, 3083556, 3091249, 3092518, 3103212,...</td>\n",
       "      <td>[[3280834, 3282844, 3284986, 3286979, 3289006,...</td>\n",
       "      <td>[[0.0, 0.0, 0.0, 0.0, 0.0, 0.0, 0.0, 0.0, 0.0,...</td>\n",
       "      <td>[3076000, 3078000, 3080000, 3082000, 3084000, ...</td>\n",
       "      <td>[[0.0, 0.0, 1.0, 1.0, 1.0, 1.0, 2.0, 0.0, 1.0,...</td>\n",
       "      <td>[3276000, 3278000, 3280000, 3282000, 3284000, ...</td>\n",
       "    </tr>\n",
       "    <tr>\n",
       "      <th>4</th>\n",
       "      <td>4466</td>\n",
       "      <td>4546</td>\n",
       "      <td>4566.0</td>\n",
       "      <td>4667</td>\n",
       "      <td>rewarded</td>\n",
       "      <td>NaN</td>\n",
       "      <td>NaN</td>\n",
       "      <td>NaN</td>\n",
       "      <td>alone_comp</td>\n",
       "      <td>20240320_142408_alone_comp_subj_3-1_and_3-3.1</td>\n",
       "      <td>...</td>\n",
       "      <td>[[[60.31504673710292, 35.65648479273409], [57....</td>\n",
       "      <td>[1.177, 1.178, 1.178, 1.179, 1.18, 1.18, 1.181...</td>\n",
       "      <td>[0.03372, 0.03372, 0.03372, 0.03372, 0.03372, ...</td>\n",
       "      <td>[4276792, 4278178, 4278178, 4279563, 4280949, ...</td>\n",
       "      <td>[[4373339, -1, -1, -1, -1, -1, -1, -1, -1, -1,...</td>\n",
       "      <td>[[4481591, 4495795, 4631112, 4632893, -1, -1, ...</td>\n",
       "      <td>[[0.0, 0.0, 0.0, 2.0, 0.0, 0.0, 1.0, 1.0, 0.0,...</td>\n",
       "      <td>[4276000, 4278000, 4280000, 4282000, 4284000, ...</td>\n",
       "      <td>[[0.0, 0.0, 1.0, 0.0, 0.0, 0.0, 0.0, 0.0, 0.0,...</td>\n",
       "      <td>[4476000, 4478000, 4480000, 4482000, 4484000, ...</td>\n",
       "    </tr>\n",
       "  </tbody>\n",
       "</table>\n",
       "<p>5 rows × 73 columns</p>\n",
       "</div>"
      ],
      "text/plain": [
       "   tone_start_frame  reward_start  reward_dispensed  tone_stop_frame  \\\n",
       "0              1272          1352            1372.0             1471   \n",
       "1              1272          1352            1372.0             1471   \n",
       "2              3268          3348            3368.0             3469   \n",
       "3              3268          3348            3368.0             3469   \n",
       "4              4466          4546            4566.0             4667   \n",
       "\n",
       "  condition competition_closeness  get_reward_frame  out_reward_frame  \\\n",
       "0  rewarded                   NaN               NaN               NaN   \n",
       "1  rewarded                   NaN               NaN               NaN   \n",
       "2  rewarded                   NaN               NaN               NaN   \n",
       "3  rewarded                   NaN               NaN               NaN   \n",
       "4  rewarded                   NaN               NaN               NaN   \n",
       "\n",
       "   experiment                                     video_name  ...  \\\n",
       "0  alone_comp  20240320_142408_alone_comp_subj_3-1_and_3-3.1  ...   \n",
       "1  alone_comp  20240320_142408_alone_comp_subj_3-1_and_3-3.1  ...   \n",
       "2  alone_comp  20240320_142408_alone_comp_subj_3-1_and_3-3.1  ...   \n",
       "3  alone_comp  20240320_142408_alone_comp_subj_3-1_and_3-3.1  ...   \n",
       "4  alone_comp  20240320_142408_alone_comp_subj_3-1_and_3-3.1  ...   \n",
       "\n",
       "                          baseline_subject_locations  \\\n",
       "0  [[[53.554223881353295, 34.012170346436235], [5...   \n",
       "1  [[[55.830406542433366, 14.855499448897977], [5...   \n",
       "2  [[[72.31235192301608, 12.466513975820124], [68...   \n",
       "3  [[[65.04972718833214, 33.63010427744915], [64....   \n",
       "4  [[[60.31504673710292, 35.65648479273409], [57....   \n",
       "\n",
       "              baseline_subject_thorax_to_reward_port  \\\n",
       "0  [20.08, 20.05, 20.02, 19.98, 19.95, 19.92, 19....   \n",
       "1  [23.42, 23.38, 23.16, 23.14, 23.14, 23.05, 23....   \n",
       "2  [1.71, 1.708, 1.707, 1.706, 1.705, 1.703, 1.70...   \n",
       "3  [8.63, 8.58, 9.04, 8.695, 7.91, 8.19, 7.88, 7....   \n",
       "4  [1.177, 1.178, 1.178, 1.179, 1.18, 1.18, 1.181...   \n",
       "\n",
       "                    baseline_subject_thorax_velocity  \\\n",
       "0  [0.765, 0.765, 0.765, 0.765, 0.765, 0.765, 0.7...   \n",
       "1  [0.732, 0.8413, 0.997, 1.205, 1.408, 1.698, 2....   \n",
       "2  [0.03372, 0.03372, 0.03372, 0.03372, 0.03372, ...   \n",
       "3  [7.152, 6.49, 5.996, 5.605, 5.305, 5.04, 4.793...   \n",
       "4  [0.03372, 0.03372, 0.03372, 0.03372, 0.03372, ...   \n",
       "\n",
       "                           baseline_video_timestamps  \\\n",
       "0  [1076819, 1078205, 1078205, 1079591, 1080976, ...   \n",
       "1  [1076819, 1078205, 1078205, 1079591, 1080976, ...   \n",
       "2  [3076629, 3076629, 3078015, 3079400, 3080786, ...   \n",
       "3  [3076629, 3076629, 3078015, 3079400, 3080786, ...   \n",
       "4  [4276792, 4278178, 4278178, 4279563, 4280949, ...   \n",
       "\n",
       "                                baseline_spike_times  \\\n",
       "0  [[1103733, 1122516, 1123079, 1197152, 1238005,...   \n",
       "1  [[1083272, 1085299, 1092366, 1096039, 1109069,...   \n",
       "2  [[3080416, 3139037, 3141153, 3143036, 3144932,...   \n",
       "3  [[3080579, 3083556, 3091249, 3092518, 3103212,...   \n",
       "4  [[4373339, -1, -1, -1, -1, -1, -1, -1, -1, -1,...   \n",
       "\n",
       "                                   trial_spike_times  \\\n",
       "0  [[1278428, 1288446, 1299034, 1307410, 1349996,...   \n",
       "1  [[1277150, 1287988, 1291074, 1291788, 1296855,...   \n",
       "2  [[3303781, 3359769, 3363493, 3388043, 3401743,...   \n",
       "3  [[3280834, 3282844, 3284986, 3286979, 3289006,...   \n",
       "4  [[4481591, 4495795, 4631112, 4632893, -1, -1, ...   \n",
       "\n",
       "                          baseline_neuron_average_fr  \\\n",
       "0  [[0.0, 0.0, 0.0, 6.0, 1.0, 0.0, 0.0, 0.0, 0.0,...   \n",
       "1  [[0.0, 0.0, 0.0, 0.0, 0.0, 0.0, 0.0, 0.0, 0.0,...   \n",
       "2  [[0.0, 0.0, 0.0, 0.0, 4.0, 0.0, 0.0, 0.0, 2.0,...   \n",
       "3  [[0.0, 0.0, 0.0, 0.0, 0.0, 0.0, 0.0, 0.0, 0.0,...   \n",
       "4  [[0.0, 0.0, 0.0, 2.0, 0.0, 0.0, 1.0, 1.0, 0.0,...   \n",
       "\n",
       "                   baseline_neuron_average_timestamp  \\\n",
       "0  [1076000, 1078000, 1080000, 1082000, 1084000, ...   \n",
       "1  [1076000, 1078000, 1080000, 1082000, 1084000, ...   \n",
       "2  [3076000, 3078000, 3080000, 3082000, 3084000, ...   \n",
       "3  [3076000, 3078000, 3080000, 3082000, 3084000, ...   \n",
       "4  [4276000, 4278000, 4280000, 4282000, 4284000, ...   \n",
       "\n",
       "                             trial_neuron_average_fr  \\\n",
       "0  [[0.0, 1.0, 0.0, 0.0, 0.0, 0.0, 1.0, 0.0, 0.0,...   \n",
       "1  [[1.0, 0.0, 0.0, 0.0, 0.0, 1.0, 0.0, 2.0, 0.0,...   \n",
       "2  [[0.0, 0.0, 0.0, 0.0, 0.0, 0.0, 0.0, 0.0, 0.0,...   \n",
       "3  [[0.0, 0.0, 1.0, 1.0, 1.0, 1.0, 2.0, 0.0, 1.0,...   \n",
       "4  [[0.0, 0.0, 1.0, 0.0, 0.0, 0.0, 0.0, 0.0, 0.0,...   \n",
       "\n",
       "                      trial_neuron_average_timestamp  \n",
       "0  [1276000, 1278000, 1280000, 1282000, 1284000, ...  \n",
       "1  [1276000, 1278000, 1280000, 1282000, 1284000, ...  \n",
       "2  [3276000, 3278000, 3280000, 3282000, 3284000, ...  \n",
       "3  [3276000, 3278000, 3280000, 3282000, 3284000, ...  \n",
       "4  [4476000, 4478000, 4480000, 4482000, 4484000, ...  \n",
       "\n",
       "[5 rows x 73 columns]"
      ]
     },
     "execution_count": 97,
     "metadata": {},
     "output_type": "execute_result"
    }
   ],
   "source": [
    "TRIALS_AND_SPECTRAL_DF.head()"
   ]
  },
  {
   "cell_type": "code",
   "execution_count": 98,
   "metadata": {
    "tags": []
   },
   "outputs": [],
   "source": [
    "power_columns = [col for col in TRIALS_AND_SPECTRAL_DF.columns if \"power\" in col and \"timestamps\" not in col and \"calculation\" not in col]"
   ]
  },
  {
   "cell_type": "code",
   "execution_count": 99,
   "metadata": {
    "tags": []
   },
   "outputs": [
    {
     "data": {
      "text/plain": [
       "[]"
      ]
     },
     "execution_count": 99,
     "metadata": {},
     "output_type": "execute_result"
    }
   ],
   "source": [
    "power_columns"
   ]
  },
  {
   "cell_type": "code",
   "execution_count": 100,
   "metadata": {
    "tags": []
   },
   "outputs": [],
   "source": [
    "try:\n",
    "    for col in sorted(power_columns):\n",
    "        updated_item_col = \"trial_{}\".format(col)\n",
    "        print(updated_item_col)\n",
    "        updated_timestamp_col = \"trial_power_timestamps\"\n",
    "        TRIALS_AND_SPECTRAL_DF[updated_item_col] = TRIALS_AND_SPECTRAL_DF.apply(lambda x: utilities.helper.filter_by_timestamp_range(start=x[\"tone_start_timestamp\"], stop=x[\"tone_stop_timestamp\"], timestamps=x[\"power_timestamps\"], items=x[col])[1], axis=1)\n",
    "\n",
    "    TRIALS_AND_SPECTRAL_DF[updated_timestamp_col] = TRIALS_AND_SPECTRAL_DF.apply(lambda x: utilities.helper.filter_by_timestamp_range(start=x[\"tone_start_timestamp\"], stop=x[\"tone_stop_timestamp\"], timestamps=x[\"power_timestamps\"], items=x[col])[0], axis=1)\n",
    "except:\n",
    "    pass"
   ]
  },
  {
   "cell_type": "code",
   "execution_count": 101,
   "metadata": {},
   "outputs": [],
   "source": [
    "try:\n",
    "    for col in sorted(power_columns):\n",
    "        updated_item_col = \"baseline_{}\".format(col)\n",
    "        print(updated_item_col)\n",
    "        updated_timestamp_col = \"baseline_power_timestamps\"\n",
    "        TRIALS_AND_SPECTRAL_DF[updated_item_col] = TRIALS_AND_SPECTRAL_DF.apply(lambda x: utilities.helper.filter_by_timestamp_range(start=x[\"baseline_start_timestamp\"], stop=x[\"tone_start_timestamp\"], timestamps=x[\"power_timestamps\"], items=x[col])[1], axis=1)\n",
    "\n",
    "    TRIALS_AND_SPECTRAL_DF[updated_timestamp_col] = TRIALS_AND_SPECTRAL_DF.apply(lambda x: utilities.helper.filter_by_timestamp_range(start=x[\"baseline_start_timestamp\"], stop=x[\"tone_start_timestamp\"], timestamps=x[\"power_timestamps\"], items=x[col])[0], axis=1)\n",
    "except:\n",
    "    pass"
   ]
  },
  {
   "cell_type": "code",
   "execution_count": 102,
   "metadata": {
    "tags": []
   },
   "outputs": [],
   "source": [
    "TRIALS_AND_SPECTRAL_DF = TRIALS_AND_SPECTRAL_DF.drop(columns=power_columns + [\"power_timestamps\"], errors=\"ignore\")"
   ]
  },
  {
   "cell_type": "markdown",
   "metadata": {
    "tags": []
   },
   "source": [
    "# Filtering out phase"
   ]
  },
  {
   "cell_type": "code",
   "execution_count": 103,
   "metadata": {
    "tags": []
   },
   "outputs": [],
   "source": [
    "lfp_columns = [col for col in TRIALS_AND_SPECTRAL_DF.columns if \"trace\" in col and \"timestamps\" not in col and \"calculation\" not in col]"
   ]
  },
  {
   "cell_type": "code",
   "execution_count": 104,
   "metadata": {
    "tags": []
   },
   "outputs": [],
   "source": [
    "band_columns = [col for col in TRIALS_AND_SPECTRAL_DF.columns if \"band\" in col and \"timestamps\" not in col and \"calculation\" not in col]"
   ]
  },
  {
   "cell_type": "code",
   "execution_count": 105,
   "metadata": {
    "tags": []
   },
   "outputs": [],
   "source": [
    "phase_columns = [col for col in TRIALS_AND_SPECTRAL_DF.columns if \"phase\" in col and \"timestamps\" not in col and \"calculation\" not in col]"
   ]
  },
  {
   "cell_type": "code",
   "execution_count": 106,
   "metadata": {
    "tags": []
   },
   "outputs": [],
   "source": [
    "phase_columns = phase_columns + band_columns +lfp_columns"
   ]
  },
  {
   "cell_type": "code",
   "execution_count": 107,
   "metadata": {
    "tags": []
   },
   "outputs": [
    {
     "data": {
      "text/plain": [
       "['vHPC_lfp_trace',\n",
       " 'BLA_lfp_trace',\n",
       " 'LH_lfp_trace',\n",
       " 'MD_lfp_trace',\n",
       " 'mPFC_lfp_trace']"
      ]
     },
     "execution_count": 107,
     "metadata": {},
     "output_type": "execute_result"
    }
   ],
   "source": [
    "phase_columns"
   ]
  },
  {
   "cell_type": "code",
   "execution_count": 108,
   "metadata": {
    "tags": []
   },
   "outputs": [
    {
     "name": "stdout",
     "output_type": "stream",
     "text": [
      "trial_BLA_lfp_trace\n",
      "trial_LH_lfp_trace\n",
      "trial_MD_lfp_trace\n",
      "trial_mPFC_lfp_trace\n",
      "trial_vHPC_lfp_trace\n"
     ]
    }
   ],
   "source": [
    "try:\n",
    "    for col in sorted(phase_columns):\n",
    "        updated_item_col = \"trial_{}\".format(col)\n",
    "        print(updated_item_col)\n",
    "        updated_timestamp_col = \"trial_lfp_timestamps\"\n",
    "        TRIALS_AND_SPECTRAL_DF[updated_item_col] = TRIALS_AND_SPECTRAL_DF.apply(lambda x: utilities.helper.filter_by_timestamp_range(start=x[\"tone_start_timestamp\"], stop=x[\"tone_stop_timestamp\"], timestamps=x[\"lfp_timestamps\"], items=x[col])[1], axis=1)\n",
    "\n",
    "    TRIALS_AND_SPECTRAL_DF[updated_timestamp_col] = TRIALS_AND_SPECTRAL_DF.apply(lambda x: utilities.helper.filter_by_timestamp_range(start=x[\"tone_start_timestamp\"], stop=x[\"tone_stop_timestamp\"], timestamps=x[\"lfp_timestamps\"], items=x[col])[0], axis=1)\n",
    "except:\n",
    "    pass"
   ]
  },
  {
   "cell_type": "code",
   "execution_count": 109,
   "metadata": {},
   "outputs": [
    {
     "name": "stdout",
     "output_type": "stream",
     "text": [
      "baseline_BLA_lfp_trace\n",
      "baseline_LH_lfp_trace\n",
      "baseline_MD_lfp_trace\n",
      "baseline_mPFC_lfp_trace\n",
      "baseline_vHPC_lfp_trace\n"
     ]
    }
   ],
   "source": [
    "try:\n",
    "    for col in sorted(phase_columns):\n",
    "        updated_item_col = \"baseline_{}\".format(col)\n",
    "        print(updated_item_col)\n",
    "        updated_timestamp_col = \"baseline_lfp_timestamps\"\n",
    "        TRIALS_AND_SPECTRAL_DF[updated_item_col] = TRIALS_AND_SPECTRAL_DF.apply(lambda x: utilities.helper.filter_by_timestamp_range(start=x[\"baseline_start_timestamp\"], stop=x[\"tone_start_timestamp\"], timestamps=x[\"lfp_timestamps\"], items=x[col])[1], axis=1)\n",
    "\n",
    "    TRIALS_AND_SPECTRAL_DF[updated_timestamp_col] = TRIALS_AND_SPECTRAL_DF.apply(lambda x: utilities.helper.filter_by_timestamp_range(start=x[\"baseline_start_timestamp\"], stop=x[\"tone_start_timestamp\"], timestamps=x[\"lfp_timestamps\"], items=x[col])[0], axis=1)\n",
    "except:\n",
    "    pass"
   ]
  },
  {
   "cell_type": "code",
   "execution_count": 110,
   "metadata": {
    "tags": []
   },
   "outputs": [
    {
     "data": {
      "text/plain": [
       "0      [1275900, 1275920, 1275940, 1275960, 1275980, ...\n",
       "1      [1275900, 1275920, 1275940, 1275960, 1275980, ...\n",
       "2      [3275920, 3275940, 3275960, 3275980, 3276000, ...\n",
       "3      [3275920, 3275940, 3275960, 3275980, 3276000, ...\n",
       "4      [4475940, 4475960, 4475980, 4476000, 4476020, ...\n",
       "                             ...                        \n",
       "454    [55564880, 55564900, 55564920, 55564940, 55564...\n",
       "455    [56564880, 56564900, 56564920, 56564940, 56564...\n",
       "456    [57964900, 57964920, 57964940, 57964960, 57964...\n",
       "457    [60164920, 60164940, 60164960, 60164980, 60165...\n",
       "458    [61264940, 61264960, 61264980, 61265000, 61265...\n",
       "Name: trial_lfp_timestamps, Length: 459, dtype: object"
      ]
     },
     "execution_count": 110,
     "metadata": {},
     "output_type": "execute_result"
    }
   ],
   "source": [
    "TRIALS_AND_SPECTRAL_DF[\"trial_lfp_timestamps\"]"
   ]
  },
  {
   "cell_type": "code",
   "execution_count": 111,
   "metadata": {
    "tags": []
   },
   "outputs": [],
   "source": [
    "TRIALS_AND_SPECTRAL_DF = TRIALS_AND_SPECTRAL_DF.drop(columns=phase_columns + [\"lfp_timestamps\"], errors=\"ignore\")"
   ]
  },
  {
   "cell_type": "code",
   "execution_count": 112,
   "metadata": {
    "tags": []
   },
   "outputs": [
    {
     "name": "stdout",
     "output_type": "stream",
     "text": [
      "tone_start_frame\n",
      "reward_start\n",
      "reward_dispensed\n",
      "tone_stop_frame\n",
      "condition\n",
      "competition_closeness\n",
      "get_reward_frame\n",
      "out_reward_frame\n",
      "experiment\n",
      "video_name\n",
      "tone_start_timestamp\n",
      "tone_stop_timestamp\n",
      "cohort\n",
      "session_dir\n",
      "tone_frames\n",
      "box_1_port_entry_frames\n",
      "box_2_port_entry_frames\n",
      "notes\n",
      "session_path\n",
      "recording\n",
      "current_subject\n",
      "subject\n",
      "all_subjects\n",
      "first_timestamp\n",
      "last_timestamp\n",
      "tone_timestamps\n",
      "box_1_port_entry_timestamps\n",
      "box_2_port_entry_timestamps\n",
      "recording_name\n",
      "start_frame\n",
      "stop_frame\n",
      "tracked_subject\n",
      "in_video_subjects\n",
      "box_number\n",
      "sleap_name\n",
      "body_parts\n",
      "box_top_right\n",
      "box_bottom_right\n",
      "box_top_left\n",
      "reward_port\n",
      "box_bottom_left\n",
      "agent\n",
      "baseline_start_timestamp\n",
      "post_trial_end_timestamp\n",
      "video_frame\n",
      "trial_agent_locations\n",
      "trial_agent_thorax_to_reward_port\n",
      "trial_agent_thorax_velocity\n",
      "trial_frame_index\n",
      "trial_subject_locations\n",
      "trial_subject_thorax_to_reward_port\n",
      "trial_subject_thorax_velocity\n",
      "trial_video_timestamps\n",
      "baseline_agent_locations\n",
      "baseline_agent_thorax_to_reward_port\n",
      "baseline_agent_thorax_velocity\n",
      "baseline_frame_index\n",
      "baseline_subject_locations\n",
      "baseline_subject_thorax_to_reward_port\n",
      "baseline_subject_thorax_velocity\n",
      "baseline_video_timestamps\n",
      "baseline_spike_times\n",
      "trial_spike_times\n",
      "baseline_neuron_average_fr\n",
      "baseline_neuron_average_timestamp\n",
      "trial_neuron_average_fr\n",
      "trial_neuron_average_timestamp\n",
      "trial_BLA_lfp_trace\n",
      "trial_LH_lfp_trace\n",
      "trial_MD_lfp_trace\n",
      "trial_mPFC_lfp_trace\n",
      "trial_vHPC_lfp_trace\n",
      "trial_lfp_timestamps\n",
      "baseline_BLA_lfp_trace\n",
      "baseline_LH_lfp_trace\n",
      "baseline_MD_lfp_trace\n",
      "baseline_mPFC_lfp_trace\n",
      "baseline_vHPC_lfp_trace\n",
      "baseline_lfp_timestamps\n"
     ]
    }
   ],
   "source": [
    "for col in TRIALS_AND_SPECTRAL_DF:\n",
    "    print(col)"
   ]
  },
  {
   "cell_type": "code",
   "execution_count": 113,
   "metadata": {
    "tags": []
   },
   "outputs": [],
   "source": [
    "# TRIALS_AND_SPECTRAL_DF[TRIALS_AND_SPECTRAL_DF[\"condition\"] != \"rewarded\"][\"trial_kmeans_cluster\"].iloc[0].shape"
   ]
  },
  {
   "cell_type": "code",
   "execution_count": 114,
   "metadata": {},
   "outputs": [
    {
     "data": {
      "text/plain": [
       "(459, 79)"
      ]
     },
     "execution_count": 114,
     "metadata": {},
     "output_type": "execute_result"
    }
   ],
   "source": [
    "TRIALS_AND_SPECTRAL_DF.shape"
   ]
  },
  {
   "cell_type": "code",
   "execution_count": 115,
   "metadata": {},
   "outputs": [],
   "source": [
    "TRIALS_AND_SPECTRAL_DF.to_pickle(os.path.join(OUTPUT_DIR, FULL_LFP_TRACES_PKL))"
   ]
  },
  {
   "cell_type": "markdown",
   "metadata": {},
   "source": [
    "# Filtering for rows that are in the video"
   ]
  },
  {
   "cell_type": "code",
   "execution_count": 116,
   "metadata": {
    "tags": []
   },
   "outputs": [],
   "source": [
    "TRIALS_AND_SPECTRAL_DF[\"in_video\"] = TRIALS_AND_SPECTRAL_DF.apply(lambda x: x[\"start_frame\"] <= x[\"trial_frame_index\"][0] <= x[\"stop_frame\"], axis=1)"
   ]
  },
  {
   "cell_type": "code",
   "execution_count": 117,
   "metadata": {
    "tags": []
   },
   "outputs": [],
   "source": [
    "TRIALS_AND_SPECTRAL_DF = TRIALS_AND_SPECTRAL_DF[TRIALS_AND_SPECTRAL_DF[\"in_video\"]].reset_index()"
   ]
  },
  {
   "cell_type": "code",
   "execution_count": 118,
   "metadata": {
    "tags": []
   },
   "outputs": [
    {
     "data": {
      "text/html": [
       "<div>\n",
       "<style scoped>\n",
       "    .dataframe tbody tr th:only-of-type {\n",
       "        vertical-align: middle;\n",
       "    }\n",
       "\n",
       "    .dataframe tbody tr th {\n",
       "        vertical-align: top;\n",
       "    }\n",
       "\n",
       "    .dataframe thead th {\n",
       "        text-align: right;\n",
       "    }\n",
       "</style>\n",
       "<table border=\"1\" class=\"dataframe\">\n",
       "  <thead>\n",
       "    <tr style=\"text-align: right;\">\n",
       "      <th></th>\n",
       "      <th>index</th>\n",
       "      <th>tone_start_frame</th>\n",
       "      <th>reward_start</th>\n",
       "      <th>reward_dispensed</th>\n",
       "      <th>tone_stop_frame</th>\n",
       "      <th>condition</th>\n",
       "      <th>competition_closeness</th>\n",
       "      <th>get_reward_frame</th>\n",
       "      <th>out_reward_frame</th>\n",
       "      <th>experiment</th>\n",
       "      <th>...</th>\n",
       "      <th>trial_mPFC_lfp_trace</th>\n",
       "      <th>trial_vHPC_lfp_trace</th>\n",
       "      <th>trial_lfp_timestamps</th>\n",
       "      <th>baseline_BLA_lfp_trace</th>\n",
       "      <th>baseline_LH_lfp_trace</th>\n",
       "      <th>baseline_MD_lfp_trace</th>\n",
       "      <th>baseline_mPFC_lfp_trace</th>\n",
       "      <th>baseline_vHPC_lfp_trace</th>\n",
       "      <th>baseline_lfp_timestamps</th>\n",
       "      <th>in_video</th>\n",
       "    </tr>\n",
       "  </thead>\n",
       "  <tbody>\n",
       "    <tr>\n",
       "      <th>0</th>\n",
       "      <td>42</td>\n",
       "      <td>34240</td>\n",
       "      <td>34320</td>\n",
       "      <td>34340.0</td>\n",
       "      <td>34440</td>\n",
       "      <td>3.1</td>\n",
       "      <td>Subj 1 Only</td>\n",
       "      <td>NaN</td>\n",
       "      <td>NaN</td>\n",
       "      <td>alone_comp</td>\n",
       "      <td>...</td>\n",
       "      <td>[601, 404, -26, -167, 375, 672, 269, 92, 346, ...</td>\n",
       "      <td>[1075, 747, 267, 86, 601, 910, 618, 610, 948, ...</td>\n",
       "      <td>[34276300, 34276320, 34276340, 34276360, 34276...</td>\n",
       "      <td>[351, 112, -131, -294, -402, -370, -53, 215, 2...</td>\n",
       "      <td>[283, 41, -194, -246, -216, -171, -4, 192, 234...</td>\n",
       "      <td>[-22, -191, -363, -383, -289, -233, -161, -12,...</td>\n",
       "      <td>[54, -7, -78, -114, -138, -173, -116, 14, 0, -...</td>\n",
       "      <td>[-664, -728, -689, -550, -406, -206, 101, 320,...</td>\n",
       "      <td>[34076300, 34076320, 34076340, 34076360, 34076...</td>\n",
       "      <td>True</td>\n",
       "    </tr>\n",
       "    <tr>\n",
       "      <th>1</th>\n",
       "      <td>43</td>\n",
       "      <td>34240</td>\n",
       "      <td>34320</td>\n",
       "      <td>34340.0</td>\n",
       "      <td>34440</td>\n",
       "      <td>3.1</td>\n",
       "      <td>Subj 1 Only</td>\n",
       "      <td>NaN</td>\n",
       "      <td>NaN</td>\n",
       "      <td>alone_comp</td>\n",
       "      <td>...</td>\n",
       "      <td>[1009, 845, 573, 278, 116, -59, -640, -1498, -...</td>\n",
       "      <td>[1334, 1214, 1026, 724, 446, 202, -388, -1229,...</td>\n",
       "      <td>[34276300, 34276320, 34276340, 34276360, 34276...</td>\n",
       "      <td>[-327, -222, -95, -40, -10, 106, 228, 192, 47,...</td>\n",
       "      <td>[-587, -450, -274, -165, -131, -83, -51, -139,...</td>\n",
       "      <td>[-123, -44, -10, -58, -54, 66, 192, 197, 112, ...</td>\n",
       "      <td>[186, 251, 325, 302, 258, 295, 298, 222, 230, ...</td>\n",
       "      <td>[-349, -354, -349, -327, -281, -214, -164, -16...</td>\n",
       "      <td>[34076300, 34076320, 34076340, 34076360, 34076...</td>\n",
       "      <td>True</td>\n",
       "    </tr>\n",
       "    <tr>\n",
       "      <th>2</th>\n",
       "      <td>44</td>\n",
       "      <td>35238</td>\n",
       "      <td>35318</td>\n",
       "      <td>35338.0</td>\n",
       "      <td>35437</td>\n",
       "      <td>3.1</td>\n",
       "      <td>Subj 1 then Subj 2</td>\n",
       "      <td>NaN</td>\n",
       "      <td>NaN</td>\n",
       "      <td>alone_comp</td>\n",
       "      <td>...</td>\n",
       "      <td>[500, 532, 470, 436, 418, 408, 390, 291, 188, ...</td>\n",
       "      <td>[-1269, -1286, -1269, -1248, -1267, -1326, -13...</td>\n",
       "      <td>[35276320, 35276340, 35276360, 35276380, 35276...</td>\n",
       "      <td>[-568, -481, -424, -573, -790, -764, -497, -24...</td>\n",
       "      <td>[-578, -368, -126, -160, -371, -386, -179, -80...</td>\n",
       "      <td>[-260, -192, -73, -74, -297, -401, -197, -84, ...</td>\n",
       "      <td>[-1222, -935, -749, -822, -1002, -949, -668, -...</td>\n",
       "      <td>[-3143, -2828, -2568, -2527, -2642, -2675, -25...</td>\n",
       "      <td>[35076320, 35076340, 35076360, 35076380, 35076...</td>\n",
       "      <td>True</td>\n",
       "    </tr>\n",
       "    <tr>\n",
       "      <th>3</th>\n",
       "      <td>45</td>\n",
       "      <td>35238</td>\n",
       "      <td>35318</td>\n",
       "      <td>35338.0</td>\n",
       "      <td>35437</td>\n",
       "      <td>3.1</td>\n",
       "      <td>Subj 1 then Subj 2</td>\n",
       "      <td>NaN</td>\n",
       "      <td>NaN</td>\n",
       "      <td>alone_comp</td>\n",
       "      <td>...</td>\n",
       "      <td>[353, 480, 674, 856, 910, 950, 1083, 1251, 127...</td>\n",
       "      <td>[-681, -526, -258, 42, 230, 315, 427, 566, 588...</td>\n",
       "      <td>[35276320, 35276340, 35276360, 35276380, 35276...</td>\n",
       "      <td>[-715, -527, -698, -933, -1050, -1050, -1055, ...</td>\n",
       "      <td>[-865, -668, -859, -1021, -1029, -1021, -1050,...</td>\n",
       "      <td>[-593, -349, -471, -727, -909, -986, -1044, -1...</td>\n",
       "      <td>[-661, -502, -705, -998, -1192, -1159, -1083, ...</td>\n",
       "      <td>[-1643, -1233, -1132, -1203, -1290, -1368, -14...</td>\n",
       "      <td>[35076320, 35076340, 35076360, 35076380, 35076...</td>\n",
       "      <td>True</td>\n",
       "    </tr>\n",
       "    <tr>\n",
       "      <th>4</th>\n",
       "      <td>46</td>\n",
       "      <td>36337</td>\n",
       "      <td>36417</td>\n",
       "      <td>36437.0</td>\n",
       "      <td>36536</td>\n",
       "      <td>3.3</td>\n",
       "      <td>Subj 2 Only</td>\n",
       "      <td>NaN</td>\n",
       "      <td>NaN</td>\n",
       "      <td>alone_comp</td>\n",
       "      <td>...</td>\n",
       "      <td>[539, 510, 567, 462, 112, -106, 53, 245, 288, ...</td>\n",
       "      <td>[-1868, -1989, -1865, -1712, -1624, -1487, -12...</td>\n",
       "      <td>[36376340, 36376360, 36376380, 36376400, 36376...</td>\n",
       "      <td>[-687, -630, -622, -525, -257, -149, -393, -68...</td>\n",
       "      <td>[-340, -256, -445, -630, -490, -308, -440, -72...</td>\n",
       "      <td>[-310, -228, -491, -779, -698, -583, -794, -10...</td>\n",
       "      <td>[-505, -451, -691, -795, -607, -539, -837, -12...</td>\n",
       "      <td>[655, 500, 190, -26, 49, 85, -205, -601, -749,...</td>\n",
       "      <td>[36176340, 36176360, 36176380, 36176400, 36176...</td>\n",
       "      <td>True</td>\n",
       "    </tr>\n",
       "    <tr>\n",
       "      <th>...</th>\n",
       "      <td>...</td>\n",
       "      <td>...</td>\n",
       "      <td>...</td>\n",
       "      <td>...</td>\n",
       "      <td>...</td>\n",
       "      <td>...</td>\n",
       "      <td>...</td>\n",
       "      <td>...</td>\n",
       "      <td>...</td>\n",
       "      <td>...</td>\n",
       "      <td>...</td>\n",
       "      <td>...</td>\n",
       "      <td>...</td>\n",
       "      <td>...</td>\n",
       "      <td>...</td>\n",
       "      <td>...</td>\n",
       "      <td>...</td>\n",
       "      <td>...</td>\n",
       "      <td>...</td>\n",
       "      <td>...</td>\n",
       "      <td>...</td>\n",
       "    </tr>\n",
       "    <tr>\n",
       "      <th>223</th>\n",
       "      <td>454</td>\n",
       "      <td>55484</td>\n",
       "      <td>55564</td>\n",
       "      <td>55584.0</td>\n",
       "      <td>55685</td>\n",
       "      <td>4.4</td>\n",
       "      <td>Subj 2 then Subj 1</td>\n",
       "      <td>NaN</td>\n",
       "      <td>NaN</td>\n",
       "      <td>alone_comp</td>\n",
       "      <td>...</td>\n",
       "      <td>[467, 372, 334, 349, 295, 182, 92, 38, -52, -1...</td>\n",
       "      <td>[1066, 932, 943, 886, 607, 236, -87, -378, -75...</td>\n",
       "      <td>[55564880, 55564900, 55564920, 55564940, 55564...</td>\n",
       "      <td>[22, -72, -33, 105, 120, -9, -108, -63, 23, 10...</td>\n",
       "      <td>[-175, -184, -18, 58, -103, -153, -2, 67, 43, ...</td>\n",
       "      <td>[176, 198, 377, 469, 367, 332, 327, 221, 169, ...</td>\n",
       "      <td>[-349, -307, -181, -217, -398, -427, -371, -36...</td>\n",
       "      <td>[-892, -566, -151, 136, 95, -24, 31, 210, 395,...</td>\n",
       "      <td>[55364880, 55364900, 55364920, 55364940, 55364...</td>\n",
       "      <td>True</td>\n",
       "    </tr>\n",
       "    <tr>\n",
       "      <th>224</th>\n",
       "      <td>455</td>\n",
       "      <td>56483</td>\n",
       "      <td>56563</td>\n",
       "      <td>56583.0</td>\n",
       "      <td>56683</td>\n",
       "      <td>4.4</td>\n",
       "      <td>Subj 2 then Subj 1</td>\n",
       "      <td>NaN</td>\n",
       "      <td>NaN</td>\n",
       "      <td>alone_comp</td>\n",
       "      <td>...</td>\n",
       "      <td>[193, 267, 317, 217, 131, 323, 564, 502, 354, ...</td>\n",
       "      <td>[-1039, -1125, -1275, -1576, -1844, -1846, -17...</td>\n",
       "      <td>[56564880, 56564900, 56564920, 56564940, 56564...</td>\n",
       "      <td>[37, 133, 191, 201, 228, 282, 222, 71, 5, 2, -...</td>\n",
       "      <td>[-441, -303, -201, -183, -81, 47, 42, -141, -3...</td>\n",
       "      <td>[-1120, -998, -734, -607, -623, -611, -633, -7...</td>\n",
       "      <td>[-110, -76, 76, 183, 244, 297, 181, -105, -260...</td>\n",
       "      <td>[-1029, -918, -551, -109, 283, 655, 967, 1146,...</td>\n",
       "      <td>[56364880, 56364900, 56364920, 56364940, 56364...</td>\n",
       "      <td>True</td>\n",
       "    </tr>\n",
       "    <tr>\n",
       "      <th>225</th>\n",
       "      <td>456</td>\n",
       "      <td>57880</td>\n",
       "      <td>57960</td>\n",
       "      <td>57980.0</td>\n",
       "      <td>58079</td>\n",
       "      <td>4.4</td>\n",
       "      <td>Subj 2 then Subj 1</td>\n",
       "      <td>NaN</td>\n",
       "      <td>NaN</td>\n",
       "      <td>alone_comp</td>\n",
       "      <td>...</td>\n",
       "      <td>[-416, -19, 199, -40, -257, -365, -585, -735, ...</td>\n",
       "      <td>[-1672, -1382, -1076, -920, -797, -591, -391, ...</td>\n",
       "      <td>[57964900, 57964920, 57964940, 57964960, 57964...</td>\n",
       "      <td>[-540, -679, -836, -909, -813, -663, -577, -48...</td>\n",
       "      <td>[-791, -723, -745, -826, -857, -859, -952, -98...</td>\n",
       "      <td>[-908, -903, -818, -904, -1031, -951, -791, -6...</td>\n",
       "      <td>[-708, -681, -657, -697, -909, -1161, -1226, -...</td>\n",
       "      <td>[-958, -830, -604, -493, -523, -488, -378, -36...</td>\n",
       "      <td>[57764900, 57764920, 57764940, 57764960, 57764...</td>\n",
       "      <td>True</td>\n",
       "    </tr>\n",
       "    <tr>\n",
       "      <th>226</th>\n",
       "      <td>457</td>\n",
       "      <td>60077</td>\n",
       "      <td>60157</td>\n",
       "      <td>60177.0</td>\n",
       "      <td>60276</td>\n",
       "      <td>4.4</td>\n",
       "      <td>Subj 2 blocking Subj 1</td>\n",
       "      <td>NaN</td>\n",
       "      <td>NaN</td>\n",
       "      <td>alone_comp</td>\n",
       "      <td>...</td>\n",
       "      <td>[589, 624, 607, 511, 362, 186, 31, -70, -98, -...</td>\n",
       "      <td>[-289, -428, -632, -793, -869, -859, -824, -77...</td>\n",
       "      <td>[60164920, 60164940, 60164960, 60164980, 60165...</td>\n",
       "      <td>[83, 273, 235, -47, -99, 126, 107, -120, -150,...</td>\n",
       "      <td>[-390, -273, -108, -104, -165, -43, -4, -176, ...</td>\n",
       "      <td>[-240, -124, -164, -254, -148, 30, -131, -454,...</td>\n",
       "      <td>[-585, -286, -166, -343, -251, 145, 87, -297, ...</td>\n",
       "      <td>[726, 667, 577, 404, 319, 375, 323, 199, 201, ...</td>\n",
       "      <td>[59964920, 59964940, 59964960, 59964980, 59965...</td>\n",
       "      <td>True</td>\n",
       "    </tr>\n",
       "    <tr>\n",
       "      <th>227</th>\n",
       "      <td>458</td>\n",
       "      <td>61174</td>\n",
       "      <td>61254</td>\n",
       "      <td>61274.0</td>\n",
       "      <td>61375</td>\n",
       "      <td>tie</td>\n",
       "      <td>Close Call</td>\n",
       "      <td>NaN</td>\n",
       "      <td>NaN</td>\n",
       "      <td>alone_comp</td>\n",
       "      <td>...</td>\n",
       "      <td>[455, 689, 788, 783, 793, 840, 719, 517, 523, ...</td>\n",
       "      <td>[1639, 1667, 1414, 993, 336, -321, -599, -580,...</td>\n",
       "      <td>[61264940, 61264960, 61264980, 61265000, 61265...</td>\n",
       "      <td>[255, 308, 406, 394, 299, 217, 296, 544, 816, ...</td>\n",
       "      <td>[337, 258, 186, 106, 124, 141, 89, 167, 409, 6...</td>\n",
       "      <td>[246, 353, 446, 397, 396, 481, 620, 763, 875, ...</td>\n",
       "      <td>[243, 195, 181, 90, -30, -104, -56, 53, 150, 2...</td>\n",
       "      <td>[-905, -231, 531, 1078, 1333, 1424, 1483, 1469...</td>\n",
       "      <td>[61064940, 61064960, 61064980, 61065000, 61065...</td>\n",
       "      <td>True</td>\n",
       "    </tr>\n",
       "  </tbody>\n",
       "</table>\n",
       "<p>228 rows × 81 columns</p>\n",
       "</div>"
      ],
      "text/plain": [
       "     index  tone_start_frame  reward_start  reward_dispensed  tone_stop_frame  \\\n",
       "0       42             34240         34320           34340.0            34440   \n",
       "1       43             34240         34320           34340.0            34440   \n",
       "2       44             35238         35318           35338.0            35437   \n",
       "3       45             35238         35318           35338.0            35437   \n",
       "4       46             36337         36417           36437.0            36536   \n",
       "..     ...               ...           ...               ...              ...   \n",
       "223    454             55484         55564           55584.0            55685   \n",
       "224    455             56483         56563           56583.0            56683   \n",
       "225    456             57880         57960           57980.0            58079   \n",
       "226    457             60077         60157           60177.0            60276   \n",
       "227    458             61174         61254           61274.0            61375   \n",
       "\n",
       "    condition   competition_closeness  get_reward_frame  out_reward_frame  \\\n",
       "0         3.1             Subj 1 Only               NaN               NaN   \n",
       "1         3.1             Subj 1 Only               NaN               NaN   \n",
       "2         3.1      Subj 1 then Subj 2               NaN               NaN   \n",
       "3         3.1      Subj 1 then Subj 2               NaN               NaN   \n",
       "4         3.3             Subj 2 Only               NaN               NaN   \n",
       "..        ...                     ...               ...               ...   \n",
       "223       4.4      Subj 2 then Subj 1               NaN               NaN   \n",
       "224       4.4      Subj 2 then Subj 1               NaN               NaN   \n",
       "225       4.4      Subj 2 then Subj 1               NaN               NaN   \n",
       "226       4.4  Subj 2 blocking Subj 1               NaN               NaN   \n",
       "227       tie              Close Call               NaN               NaN   \n",
       "\n",
       "     experiment  ...                               trial_mPFC_lfp_trace  \\\n",
       "0    alone_comp  ...  [601, 404, -26, -167, 375, 672, 269, 92, 346, ...   \n",
       "1    alone_comp  ...  [1009, 845, 573, 278, 116, -59, -640, -1498, -...   \n",
       "2    alone_comp  ...  [500, 532, 470, 436, 418, 408, 390, 291, 188, ...   \n",
       "3    alone_comp  ...  [353, 480, 674, 856, 910, 950, 1083, 1251, 127...   \n",
       "4    alone_comp  ...  [539, 510, 567, 462, 112, -106, 53, 245, 288, ...   \n",
       "..          ...  ...                                                ...   \n",
       "223  alone_comp  ...  [467, 372, 334, 349, 295, 182, 92, 38, -52, -1...   \n",
       "224  alone_comp  ...  [193, 267, 317, 217, 131, 323, 564, 502, 354, ...   \n",
       "225  alone_comp  ...  [-416, -19, 199, -40, -257, -365, -585, -735, ...   \n",
       "226  alone_comp  ...  [589, 624, 607, 511, 362, 186, 31, -70, -98, -...   \n",
       "227  alone_comp  ...  [455, 689, 788, 783, 793, 840, 719, 517, 523, ...   \n",
       "\n",
       "                                  trial_vHPC_lfp_trace  \\\n",
       "0    [1075, 747, 267, 86, 601, 910, 618, 610, 948, ...   \n",
       "1    [1334, 1214, 1026, 724, 446, 202, -388, -1229,...   \n",
       "2    [-1269, -1286, -1269, -1248, -1267, -1326, -13...   \n",
       "3    [-681, -526, -258, 42, 230, 315, 427, 566, 588...   \n",
       "4    [-1868, -1989, -1865, -1712, -1624, -1487, -12...   \n",
       "..                                                 ...   \n",
       "223  [1066, 932, 943, 886, 607, 236, -87, -378, -75...   \n",
       "224  [-1039, -1125, -1275, -1576, -1844, -1846, -17...   \n",
       "225  [-1672, -1382, -1076, -920, -797, -591, -391, ...   \n",
       "226  [-289, -428, -632, -793, -869, -859, -824, -77...   \n",
       "227  [1639, 1667, 1414, 993, 336, -321, -599, -580,...   \n",
       "\n",
       "                                  trial_lfp_timestamps  \\\n",
       "0    [34276300, 34276320, 34276340, 34276360, 34276...   \n",
       "1    [34276300, 34276320, 34276340, 34276360, 34276...   \n",
       "2    [35276320, 35276340, 35276360, 35276380, 35276...   \n",
       "3    [35276320, 35276340, 35276360, 35276380, 35276...   \n",
       "4    [36376340, 36376360, 36376380, 36376400, 36376...   \n",
       "..                                                 ...   \n",
       "223  [55564880, 55564900, 55564920, 55564940, 55564...   \n",
       "224  [56564880, 56564900, 56564920, 56564940, 56564...   \n",
       "225  [57964900, 57964920, 57964940, 57964960, 57964...   \n",
       "226  [60164920, 60164940, 60164960, 60164980, 60165...   \n",
       "227  [61264940, 61264960, 61264980, 61265000, 61265...   \n",
       "\n",
       "                                baseline_BLA_lfp_trace  \\\n",
       "0    [351, 112, -131, -294, -402, -370, -53, 215, 2...   \n",
       "1    [-327, -222, -95, -40, -10, 106, 228, 192, 47,...   \n",
       "2    [-568, -481, -424, -573, -790, -764, -497, -24...   \n",
       "3    [-715, -527, -698, -933, -1050, -1050, -1055, ...   \n",
       "4    [-687, -630, -622, -525, -257, -149, -393, -68...   \n",
       "..                                                 ...   \n",
       "223  [22, -72, -33, 105, 120, -9, -108, -63, 23, 10...   \n",
       "224  [37, 133, 191, 201, 228, 282, 222, 71, 5, 2, -...   \n",
       "225  [-540, -679, -836, -909, -813, -663, -577, -48...   \n",
       "226  [83, 273, 235, -47, -99, 126, 107, -120, -150,...   \n",
       "227  [255, 308, 406, 394, 299, 217, 296, 544, 816, ...   \n",
       "\n",
       "                                 baseline_LH_lfp_trace  \\\n",
       "0    [283, 41, -194, -246, -216, -171, -4, 192, 234...   \n",
       "1    [-587, -450, -274, -165, -131, -83, -51, -139,...   \n",
       "2    [-578, -368, -126, -160, -371, -386, -179, -80...   \n",
       "3    [-865, -668, -859, -1021, -1029, -1021, -1050,...   \n",
       "4    [-340, -256, -445, -630, -490, -308, -440, -72...   \n",
       "..                                                 ...   \n",
       "223  [-175, -184, -18, 58, -103, -153, -2, 67, 43, ...   \n",
       "224  [-441, -303, -201, -183, -81, 47, 42, -141, -3...   \n",
       "225  [-791, -723, -745, -826, -857, -859, -952, -98...   \n",
       "226  [-390, -273, -108, -104, -165, -43, -4, -176, ...   \n",
       "227  [337, 258, 186, 106, 124, 141, 89, 167, 409, 6...   \n",
       "\n",
       "                                 baseline_MD_lfp_trace  \\\n",
       "0    [-22, -191, -363, -383, -289, -233, -161, -12,...   \n",
       "1    [-123, -44, -10, -58, -54, 66, 192, 197, 112, ...   \n",
       "2    [-260, -192, -73, -74, -297, -401, -197, -84, ...   \n",
       "3    [-593, -349, -471, -727, -909, -986, -1044, -1...   \n",
       "4    [-310, -228, -491, -779, -698, -583, -794, -10...   \n",
       "..                                                 ...   \n",
       "223  [176, 198, 377, 469, 367, 332, 327, 221, 169, ...   \n",
       "224  [-1120, -998, -734, -607, -623, -611, -633, -7...   \n",
       "225  [-908, -903, -818, -904, -1031, -951, -791, -6...   \n",
       "226  [-240, -124, -164, -254, -148, 30, -131, -454,...   \n",
       "227  [246, 353, 446, 397, 396, 481, 620, 763, 875, ...   \n",
       "\n",
       "                               baseline_mPFC_lfp_trace  \\\n",
       "0    [54, -7, -78, -114, -138, -173, -116, 14, 0, -...   \n",
       "1    [186, 251, 325, 302, 258, 295, 298, 222, 230, ...   \n",
       "2    [-1222, -935, -749, -822, -1002, -949, -668, -...   \n",
       "3    [-661, -502, -705, -998, -1192, -1159, -1083, ...   \n",
       "4    [-505, -451, -691, -795, -607, -539, -837, -12...   \n",
       "..                                                 ...   \n",
       "223  [-349, -307, -181, -217, -398, -427, -371, -36...   \n",
       "224  [-110, -76, 76, 183, 244, 297, 181, -105, -260...   \n",
       "225  [-708, -681, -657, -697, -909, -1161, -1226, -...   \n",
       "226  [-585, -286, -166, -343, -251, 145, 87, -297, ...   \n",
       "227  [243, 195, 181, 90, -30, -104, -56, 53, 150, 2...   \n",
       "\n",
       "                               baseline_vHPC_lfp_trace  \\\n",
       "0    [-664, -728, -689, -550, -406, -206, 101, 320,...   \n",
       "1    [-349, -354, -349, -327, -281, -214, -164, -16...   \n",
       "2    [-3143, -2828, -2568, -2527, -2642, -2675, -25...   \n",
       "3    [-1643, -1233, -1132, -1203, -1290, -1368, -14...   \n",
       "4    [655, 500, 190, -26, 49, 85, -205, -601, -749,...   \n",
       "..                                                 ...   \n",
       "223  [-892, -566, -151, 136, 95, -24, 31, 210, 395,...   \n",
       "224  [-1029, -918, -551, -109, 283, 655, 967, 1146,...   \n",
       "225  [-958, -830, -604, -493, -523, -488, -378, -36...   \n",
       "226  [726, 667, 577, 404, 319, 375, 323, 199, 201, ...   \n",
       "227  [-905, -231, 531, 1078, 1333, 1424, 1483, 1469...   \n",
       "\n",
       "                               baseline_lfp_timestamps in_video  \n",
       "0    [34076300, 34076320, 34076340, 34076360, 34076...     True  \n",
       "1    [34076300, 34076320, 34076340, 34076360, 34076...     True  \n",
       "2    [35076320, 35076340, 35076360, 35076380, 35076...     True  \n",
       "3    [35076320, 35076340, 35076360, 35076380, 35076...     True  \n",
       "4    [36176340, 36176360, 36176380, 36176400, 36176...     True  \n",
       "..                                                 ...      ...  \n",
       "223  [55364880, 55364900, 55364920, 55364940, 55364...     True  \n",
       "224  [56364880, 56364900, 56364920, 56364940, 56364...     True  \n",
       "225  [57764900, 57764920, 57764940, 57764960, 57764...     True  \n",
       "226  [59964920, 59964940, 59964960, 59964980, 59965...     True  \n",
       "227  [61064940, 61064960, 61064980, 61065000, 61065...     True  \n",
       "\n",
       "[228 rows x 81 columns]"
      ]
     },
     "execution_count": 118,
     "metadata": {},
     "output_type": "execute_result"
    }
   ],
   "source": [
    "TRIALS_AND_SPECTRAL_DF"
   ]
  },
  {
   "cell_type": "code",
   "execution_count": 119,
   "metadata": {
    "tags": []
   },
   "outputs": [],
   "source": [
    "TRIALS_AND_SPECTRAL_DF.to_pickle(os.path.join(OUTPUT_DIR, FULL_LFP_TRACES_PKL))"
   ]
  },
  {
   "cell_type": "code",
   "execution_count": 120,
   "metadata": {},
   "outputs": [
    {
     "ename": "ValueError",
     "evalue": "",
     "output_type": "error",
     "traceback": [
      "\u001b[0;31m---------------------------------------------------------------------------\u001b[0m",
      "\u001b[0;31mValueError\u001b[0m                                Traceback (most recent call last)",
      "Cell \u001b[0;32mIn[120], line 1\u001b[0m\n\u001b[0;32m----> 1\u001b[0m \u001b[38;5;28;01mraise\u001b[39;00m \u001b[38;5;167;01mValueError\u001b[39;00m()\n",
      "\u001b[0;31mValueError\u001b[0m: "
     ]
    }
   ],
   "source": [
    "raise ValueError()"
   ]
  }
 ],
 "metadata": {
  "deepnote": {},
  "deepnote_execution_queue": [],
  "deepnote_notebook_id": "cf8fe3695d074ee7887fdf6459cbf5ce",
  "kernelspec": {
   "display_name": "mountainsort_0_5_6",
   "language": "python",
   "name": "python3"
  },
  "language_info": {
   "codemirror_mode": {
    "name": "ipython",
    "version": 3
   },
   "file_extension": ".py",
   "mimetype": "text/x-python",
   "name": "python",
   "nbconvert_exporter": "python",
   "pygments_lexer": "ipython3",
   "version": "3.9.19"
  }
 },
 "nbformat": 4,
 "nbformat_minor": 4
}
