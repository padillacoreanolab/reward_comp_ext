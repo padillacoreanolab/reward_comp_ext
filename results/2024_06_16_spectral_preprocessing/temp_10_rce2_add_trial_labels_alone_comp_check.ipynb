{
 "cells": [
  {
   "cell_type": "markdown",
   "metadata": {
    "cell_id": "c3a02adc9e884466bc8c79db549cc3d2",
    "deepnote_cell_type": "text-cell-h1",
    "formattedRanges": [
     {
      "fromCodePoint": 0,
      "marks": {
       "bold": true,
       "underline": true
      },
      "toCodePoint": 17,
      "type": "marks"
     }
    ]
   },
   "source": [
    "# All oscillation analysis"
   ]
  },
  {
   "cell_type": "markdown",
   "metadata": {
    "cell_id": "4546bee655b14a5dbf393161f1228e60",
    "deepnote_cell_type": "text-cell-p",
    "formattedRanges": []
   },
   "source": [
    "Brief 1-2 sentence description of notebook."
   ]
  },
  {
   "cell_type": "code",
   "execution_count": 1,
   "metadata": {
    "tags": []
   },
   "outputs": [],
   "source": [
    "# Imports of all used packages and libraries\n",
    "import sys\n",
    "import os\n",
    "import git\n",
    "import glob\n",
    "from collections import defaultdict"
   ]
  },
  {
   "cell_type": "code",
   "execution_count": 2,
   "metadata": {
    "tags": []
   },
   "outputs": [],
   "source": [
    "git_repo = git.Repo(\".\", search_parent_directories=True)\n",
    "git_root = git_repo.git.rev_parse(\"--show-toplevel\")"
   ]
  },
  {
   "cell_type": "code",
   "execution_count": 3,
   "metadata": {
    "tags": []
   },
   "outputs": [
    {
     "data": {
      "text/plain": [
       "'/blue/npadillacoreano/ryoi360/projects/reward_comp/repos/reward_comp_ext'"
      ]
     },
     "execution_count": 3,
     "metadata": {},
     "output_type": "execute_result"
    }
   ],
   "source": [
    "git_root"
   ]
  },
  {
   "cell_type": "code",
   "execution_count": 4,
   "metadata": {
    "tags": []
   },
   "outputs": [],
   "source": [
    "sys.path.insert(0, os.path.join(git_root, 'src'))"
   ]
  },
  {
   "cell_type": "code",
   "execution_count": 5,
   "metadata": {
    "tags": []
   },
   "outputs": [],
   "source": [
    "import warnings\n",
    "warnings.filterwarnings('ignore')"
   ]
  },
  {
   "cell_type": "code",
   "execution_count": 6,
   "metadata": {
    "tags": []
   },
   "outputs": [],
   "source": [
    "import os\n",
    "import collections\n",
    "import itertools\n",
    "from collections import defaultdict\n",
    "from itertools import combinations"
   ]
  },
  {
   "cell_type": "raw",
   "metadata": {},
   "source": [
    "os.environ[\"SPECTRAL_CONNECTIVITY_ENABLE_GPU\"] = \"true\"\n",
    "import cupy as cp"
   ]
  },
  {
   "cell_type": "code",
   "execution_count": 7,
   "metadata": {
    "cell_id": "03b495cefa6a4798a44c7f2e4c6a3ea7",
    "deepnote_cell_type": "code",
    "deepnote_to_be_reexecuted": false,
    "execution_millis": 21,
    "execution_start": 1691424003626,
    "source_hash": null,
    "tags": []
   },
   "outputs": [],
   "source": [
    "# Imports of all used packages and libraries\n",
    "import numpy as np\n",
    "import pandas as pd\n",
    "from scipy import stats\n",
    "from scipy.stats import mannwhitneyu\n"
   ]
  },
  {
   "cell_type": "code",
   "execution_count": 8,
   "metadata": {
    "tags": []
   },
   "outputs": [],
   "source": [
    "import matplotlib\n",
    "import matplotlib.colors as mcolors\n",
    "import matplotlib.pyplot as plt\n",
    "import matplotlib.cm as cm\n",
    "import colorsys"
   ]
  },
  {
   "cell_type": "code",
   "execution_count": 10,
   "metadata": {
    "tags": []
   },
   "outputs": [],
   "source": [
    "from spectral_connectivity import Multitaper, Connectivity\n",
    "import spectral_connectivity"
   ]
  },
  {
   "cell_type": "code",
   "execution_count": 11,
   "metadata": {
    "tags": []
   },
   "outputs": [],
   "source": [
    "import utilities.helper\n",
    "import trodes.read_exported"
   ]
  },
  {
   "cell_type": "code",
   "execution_count": 12,
   "metadata": {
    "tags": []
   },
   "outputs": [],
   "source": [
    "FONTSIZE = 20"
   ]
  },
  {
   "cell_type": "code",
   "execution_count": 13,
   "metadata": {
    "tags": []
   },
   "outputs": [],
   "source": [
    "font = {'weight' : 'medium',\n",
    "        'size'   : 20}\n",
    "\n",
    "matplotlib.rc('font', **font)"
   ]
  },
  {
   "cell_type": "markdown",
   "metadata": {
    "cell_id": "d290bac2c17940bfbc0f9296beaf70e5",
    "deepnote_cell_type": "text-cell-h2",
    "formattedRanges": []
   },
   "source": [
    "## Inputs & Data"
   ]
  },
  {
   "cell_type": "code",
   "execution_count": 14,
   "metadata": {
    "tags": []
   },
   "outputs": [],
   "source": [
    "EPHYS_SAMPLE_RATE = 20000"
   ]
  },
  {
   "cell_type": "markdown",
   "metadata": {
    "cell_id": "e528ce19c608425292151930d380f49f",
    "deepnote_cell_type": "text-cell-p",
    "formattedRanges": []
   },
   "source": [
    "Explanation of each input and where it comes from."
   ]
  },
  {
   "cell_type": "code",
   "execution_count": 15,
   "metadata": {
    "cell_id": "6cf83a5811054461a718a71673d09aab",
    "deepnote_cell_type": "code",
    "deepnote_to_be_reexecuted": false,
    "execution_millis": 373,
    "execution_start": 1691424003628,
    "source_hash": null,
    "tags": []
   },
   "outputs": [],
   "source": [
    "# Inputs and Required data loading\n",
    "# input varaible names are in all caps snake case\n",
    "# Whenever an input changes or is used for processing \n",
    "# the vairables are all lower in snake case\n",
    "OUTPUT_DIR = r\"./proc/\" # where data is saved should always be shown in the inputs\n",
    "os.makedirs(OUTPUT_DIR, exist_ok=True)\n",
    "OUTPUT_PREFIX = \"rce_pilot_3_alone_comp\""
   ]
  },
  {
   "cell_type": "code",
   "execution_count": 16,
   "metadata": {
    "tags": []
   },
   "outputs": [],
   "source": [
    "# TRIAL_LABELS_DF = pd.read_excel(\"/blue/npadillacoreano/ryoi360/projects/reward_comp/repos/reward_comp_ext/results/2024_06_26_sleap_clustering/data/rce_pilot_3_alone_comp_per_video_trial_labels.xlsx\")\n",
    "TRIAL_LABELS_DF = pd.read_excel(\"../../data/sleap_id_corrected/rce_pilot_3_alone_comp_per_video_trial_labels.xlsx\")"
   ]
  },
  {
   "cell_type": "raw",
   "metadata": {
    "tags": []
   },
   "source": [
    "LFP_SPECTRAL_DF = pd.read_pickle(\"./proc/rce_pilot_2_03_spectral_bands.pkl\")"
   ]
  },
  {
   "cell_type": "code",
   "execution_count": 18,
   "metadata": {
    "tags": []
   },
   "outputs": [],
   "source": [
    "FULL_LFP_TRACES_PKL = \"{}_10_per_trial_spectral_bans_sleap.pkl\".format(OUTPUT_PREFIX)"
   ]
  },
  {
   "cell_type": "code",
   "execution_count": 54,
   "metadata": {
    "tags": []
   },
   "outputs": [],
   "source": [
    "LFP_SPECTRAL_DF = pd.read_pickle(os.path.join(\"./proc\", FULL_LFP_TRACES_PKL))\n"
   ]
  },
  {
   "cell_type": "markdown",
   "metadata": {
    "cell_id": "e3ee4891d43a4ac287413afc552ca289",
    "deepnote_cell_type": "text-cell-h2",
    "formattedRanges": []
   },
   "source": [
    "## Outputs"
   ]
  },
  {
   "cell_type": "markdown",
   "metadata": {
    "cell_id": "9ccbf6cc70fd4d379fa29317f733771f",
    "deepnote_cell_type": "text-cell-p",
    "formattedRanges": []
   },
   "source": [
    "Describe each output that the notebook creates. "
   ]
  },
  {
   "cell_type": "markdown",
   "metadata": {
    "cell_id": "fc8e8920a6944918a15fac575cdf6e78",
    "deepnote_cell_type": "text-cell-bullet",
    "formattedRanges": []
   },
   "source": [
    "- Is it a plot or is it data?"
   ]
  },
  {
   "cell_type": "markdown",
   "metadata": {
    "cell_id": "1e639d4776a84aa9ac8ded2e14fa57db",
    "deepnote_cell_type": "text-cell-bullet",
    "formattedRanges": []
   },
   "source": [
    "- How valuable is the output and why is it valuable or useful?"
   ]
  },
  {
   "cell_type": "markdown",
   "metadata": {},
   "source": [
    "## Functions "
   ]
  },
  {
   "cell_type": "markdown",
   "metadata": {
    "cell_id": "8999d19b6b7d4d63bc90f0b0bd9ab085",
    "deepnote_cell_type": "text-cell-h2",
    "formattedRanges": []
   },
   "source": [
    "## Processing"
   ]
  },
  {
   "cell_type": "markdown",
   "metadata": {
    "cell_id": "9b36cdf08567463082b005cb0dec684b",
    "deepnote_cell_type": "text-cell-p",
    "formattedRanges": []
   },
   "source": [
    "Describe what is done to the data here and how inputs are manipulated to generate outputs. "
   ]
  },
  {
   "cell_type": "code",
   "execution_count": 55,
   "metadata": {
    "cell_id": "89aaba237c644628b1b37604b75e7cb1",
    "deepnote_cell_type": "code",
    "tags": []
   },
   "outputs": [],
   "source": [
    "# As much code and as many cells as required\n",
    "# includes EDA and playing with data\n",
    "# GO HAM!\n",
    "\n",
    "# Ideally functions are defined here first and then data is processed using the functions\n",
    "\n",
    "# function names are short and in snake case all lowercase\n",
    "# a function name should be unique but does not have to describe the function\n",
    "# doc strings describe functions not function names\n",
    "\n",
    "\n"
   ]
  },
  {
   "cell_type": "code",
   "execution_count": 56,
   "metadata": {
    "tags": []
   },
   "outputs": [
    {
     "data": {
      "text/plain": [
       "Index(['tone_start_frame', 'reward_start', 'reward_dispensed',\n",
       "       'tone_stop_frame', 'condition ', 'competition_closeness',\n",
       "       'get_reward_frame', 'out_reward_frame', 'notes',\n",
       "       'box_1_port_entry_frames',\n",
       "       ...\n",
       "       'trial_and_post_mPFC_gamma_phase', 'trial_and_post_mPFC_lfp_trace',\n",
       "       'trial_and_post_mPFC_theta_band', 'trial_and_post_mPFC_theta_phase',\n",
       "       'trial_and_post_vHPC_gamma_band', 'trial_and_post_vHPC_gamma_phase',\n",
       "       'trial_and_post_vHPC_lfp_trace', 'trial_and_post_vHPC_theta_band',\n",
       "       'trial_and_post_vHPC_theta_phase', 'trial_and_post_lfp_timestamps'],\n",
       "      dtype='object', length=208)"
      ]
     },
     "execution_count": 56,
     "metadata": {},
     "output_type": "execute_result"
    }
   ],
   "source": [
    "LFP_SPECTRAL_DF.columns"
   ]
  },
  {
   "cell_type": "code",
   "execution_count": 57,
   "metadata": {
    "tags": []
   },
   "outputs": [],
   "source": [
    "all_freq_columns = [col for col in LFP_SPECTRAL_DF.columns if \"all_frequencies_all_windows\" in col]"
   ]
  },
  {
   "cell_type": "code",
   "execution_count": 58,
   "metadata": {
    "tags": []
   },
   "outputs": [
    {
     "name": "stdout",
     "output_type": "stream",
     "text": [
      "trial_and_post_BLA_LH_coherence_all_frequencies_all_windows\n",
      "trial_and_post_BLA_MD_coherence_all_frequencies_all_windows\n",
      "trial_and_post_BLA_mPFC_coherence_all_frequencies_all_windows\n",
      "trial_and_post_BLA_vHPC_coherence_all_frequencies_all_windows\n",
      "trial_and_post_LH_MD_coherence_all_frequencies_all_windows\n",
      "trial_and_post_LH_mPFC_coherence_all_frequencies_all_windows\n",
      "trial_and_post_LH_vHPC_coherence_all_frequencies_all_windows\n",
      "trial_and_post_MD_mPFC_coherence_all_frequencies_all_windows\n",
      "trial_and_post_MD_vHPC_coherence_all_frequencies_all_windows\n",
      "trial_and_post_mPFC_vHPC_coherence_all_frequencies_all_windows\n",
      "trial_and_post_BLA_LH_granger_all_frequencies_all_windows\n",
      "trial_and_post_BLA_MD_granger_all_frequencies_all_windows\n",
      "trial_and_post_BLA_mPFC_granger_all_frequencies_all_windows\n",
      "trial_and_post_BLA_vHPC_granger_all_frequencies_all_windows\n",
      "trial_and_post_LH_BLA_granger_all_frequencies_all_windows\n",
      "trial_and_post_LH_MD_granger_all_frequencies_all_windows\n",
      "trial_and_post_LH_mPFC_granger_all_frequencies_all_windows\n",
      "trial_and_post_LH_vHPC_granger_all_frequencies_all_windows\n",
      "trial_and_post_MD_BLA_granger_all_frequencies_all_windows\n",
      "trial_and_post_MD_LH_granger_all_frequencies_all_windows\n",
      "trial_and_post_MD_mPFC_granger_all_frequencies_all_windows\n",
      "trial_and_post_MD_vHPC_granger_all_frequencies_all_windows\n",
      "trial_and_post_mPFC_BLA_granger_all_frequencies_all_windows\n",
      "trial_and_post_mPFC_LH_granger_all_frequencies_all_windows\n",
      "trial_and_post_mPFC_MD_granger_all_frequencies_all_windows\n",
      "trial_and_post_mPFC_vHPC_granger_all_frequencies_all_windows\n",
      "trial_and_post_vHPC_BLA_granger_all_frequencies_all_windows\n",
      "trial_and_post_vHPC_LH_granger_all_frequencies_all_windows\n",
      "trial_and_post_vHPC_MD_granger_all_frequencies_all_windows\n",
      "trial_and_post_vHPC_mPFC_granger_all_frequencies_all_windows\n",
      "trial_and_post_BLA_power_all_frequencies_all_windows\n",
      "trial_and_post_LH_power_all_frequencies_all_windows\n",
      "trial_and_post_MD_power_all_frequencies_all_windows\n",
      "trial_and_post_mPFC_power_all_frequencies_all_windows\n",
      "trial_and_post_vHPC_power_all_frequencies_all_windows\n"
     ]
    }
   ],
   "source": [
    "for col in all_freq_columns:\n",
    "    print(col)"
   ]
  },
  {
   "cell_type": "code",
   "execution_count": 59,
   "metadata": {
    "tags": []
   },
   "outputs": [
    {
     "data": {
      "text/plain": [
       "(40, 56)"
      ]
     },
     "execution_count": 59,
     "metadata": {},
     "output_type": "execute_result"
    }
   ],
   "source": [
    "LFP_SPECTRAL_DF[col].iloc[0].shape"
   ]
  },
  {
   "cell_type": "code",
   "execution_count": 60,
   "metadata": {
    "tags": []
   },
   "outputs": [
    {
     "data": {
      "text/plain": [
       "array(['After trial', 'Subj 2 Only', 'Subj 2 blocking Subj 1',\n",
       "       'Subj 2 then Subj 1', 'Close Call', 'Subj 1 then Subj 2',\n",
       "       'Subj 1 Only', 'Subj 1 blocking Subj 2'], dtype=object)"
      ]
     },
     "execution_count": 60,
     "metadata": {},
     "output_type": "execute_result"
    }
   ],
   "source": [
    "LFP_SPECTRAL_DF[\"competition_closeness\"].unique()"
   ]
  },
  {
   "cell_type": "code",
   "execution_count": 61,
   "metadata": {
    "tags": []
   },
   "outputs": [],
   "source": [
    "OUTCOME_TO_COLOR = {\"both_rewarded\": \"green\", \n",
    "\"novel_lose\": \"#e67073\",\n",
    "                    \"novel_lose_competitive\": \"#e67073\",\n",
    "                    \"novel_lose_no_comp\": \"#e67073\",\n",
    "\"novel_win\": \"#93a5da\",\n",
    "                    \"novel_win_competitive\": \"#93a5da\",\n",
    "                    \"novel_win_no_comp\": \"#93a5da\",\n",
    "\"lose\": \"#951a1d\",\n",
    "                    \"lose_no_comp\": \"#951a1d\",\n",
    "                    \"lose_competitive\": \"#951a1d\",\n",
    "\"alone_rewarded\": \"#0499af\",\n",
    "\"win\": \"#3853a3\",\n",
    "                    \"win_competitive\": \"#3853a3\",\n",
    "                    \"win_no_comp\": \"#3853a3\",\n",
    "\n",
    "\"omission\": \"orange\"}"
   ]
  },
  {
   "cell_type": "code",
   "execution_count": 62,
   "metadata": {
    "tags": []
   },
   "outputs": [],
   "source": [
    "session_types = [\"training\", \"omission\", \"both\", \"novel\"]"
   ]
  },
  {
   "cell_type": "code",
   "execution_count": 63,
   "metadata": {
    "tags": []
   },
   "outputs": [],
   "source": [
    "BAND_TO_FREQ_PLOT = {'theta': (4, 12), 'gamma': (30, 50)}\n",
    "BAND_TO_FREQ_COLOR = {'theta': \"red\", 'beta': \"blue\", 'gamma': \"green\"}"
   ]
  },
  {
   "cell_type": "code",
   "execution_count": 64,
   "metadata": {
    "tags": []
   },
   "outputs": [],
   "source": [
    "preprocessing_type = \"\""
   ]
  },
  {
   "cell_type": "code",
   "execution_count": 65,
   "metadata": {
    "tags": []
   },
   "outputs": [],
   "source": [
    "comp_closeness_dict = {'Subj 1 blocking Subj 2': \"competitive\",\n",
    "'Subj 2 Only': \"no_comp\",\n",
    "'Subj 2 blocking Subj 1': \"competitive\",\n",
    "'Subj 1 then Subj 2': \"competitive\", \n",
    "'Subj 1 Only': \"no_comp\",\n",
    "'Subj 2 then Subj 1': \"competitive\",\n",
    "'Close Call': \"competitive\",\n",
    "'After trial': \"no_comp\"}"
   ]
  },
  {
   "cell_type": "code",
   "execution_count": 68,
   "metadata": {
    "tags": []
   },
   "outputs": [],
   "source": [
    "LFP_SPECTRAL_DF[\"condition \"] = LFP_SPECTRAL_DF[\"condition \"].astype(str).apply(lambda x: x.strip())"
   ]
  },
  {
   "cell_type": "code",
   "execution_count": 69,
   "metadata": {
    "tags": []
   },
   "outputs": [],
   "source": [
    "LFP_SPECTRAL_DF[\"current_subject\"] = LFP_SPECTRAL_DF[\"current_subject\"].astype(str).apply(lambda x: x.strip())"
   ]
  },
  {
   "cell_type": "code",
   "execution_count": 70,
   "metadata": {
    "tags": []
   },
   "outputs": [],
   "source": [
    "LFP_SPECTRAL_DF[\"agent\"] = LFP_SPECTRAL_DF[\"agent\"].astype(str).apply(lambda x: x.strip())"
   ]
  },
  {
   "cell_type": "code",
   "execution_count": 71,
   "metadata": {
    "tags": []
   },
   "outputs": [],
   "source": [
    "LFP_SPECTRAL_DF[\"trial_label\"] = LFP_SPECTRAL_DF.apply(lambda x: \"win\" if x[\"condition \"] == x[\"current_subject\"] else (\"lose\" if x[\"condition \"] == x[\"agent\"] else \"tie\"), axis=1)"
   ]
  },
  {
   "cell_type": "code",
   "execution_count": 73,
   "metadata": {
    "tags": []
   },
   "outputs": [],
   "source": [
    "LFP_SPECTRAL_DF[\"competition_closeness\"] = LFP_SPECTRAL_DF[\"competition_closeness\"].map(comp_closeness_dict)"
   ]
  },
  {
   "cell_type": "code",
   "execution_count": 74,
   "metadata": {
    "tags": []
   },
   "outputs": [],
   "source": [
    "LFP_SPECTRAL_DF[\"competitive_trial_label\"] = LFP_SPECTRAL_DF.apply(lambda x: \"_\".join([x[\"trial_label\"], x[\"competition_closeness\"]]), axis=1)\n"
   ]
  },
  {
   "cell_type": "code",
   "execution_count": 75,
   "metadata": {
    "tags": []
   },
   "outputs": [],
   "source": [
    "comp_to_style = {key: (\"--\" if \"no_comp\" in key else \"-\") for key in LFP_SPECTRAL_DF[\"competitive_trial_label\"].unique() }"
   ]
  },
  {
   "cell_type": "code",
   "execution_count": 77,
   "metadata": {
    "tags": []
   },
   "outputs": [],
   "source": [
    "LFP_SPECTRAL_DF = LFP_SPECTRAL_DF[LFP_SPECTRAL_DF[\"trial_label\"] != \"tie\"]"
   ]
  },
  {
   "cell_type": "code",
   "execution_count": 76,
   "metadata": {
    "tags": []
   },
   "outputs": [
    {
     "data": {
      "text/plain": [
       "{'lose_no_comp': '--',\n",
       " 'win_no_comp': '--',\n",
       " 'lose_competitive': '-',\n",
       " 'win_competitive': '-',\n",
       " 'tie_competitive': '-'}"
      ]
     },
     "execution_count": 76,
     "metadata": {},
     "output_type": "execute_result"
    }
   ],
   "source": [
    "comp_to_style"
   ]
  },
  {
   "cell_type": "code",
   "execution_count": null,
   "metadata": {},
   "outputs": [],
   "source": [
    "LFP_SPECTRAL_DF[\"competition_closeness\"]"
   ]
  },
  {
   "cell_type": "code",
   "execution_count": 72,
   "metadata": {
    "tags": []
   },
   "outputs": [
    {
     "data": {
      "text/plain": [
       "0      lose\n",
       "1       win\n",
       "2      lose\n",
       "3       win\n",
       "4      lose\n",
       "       ... \n",
       "243     win\n",
       "244    lose\n",
       "245     win\n",
       "246     tie\n",
       "247     tie\n",
       "Name: trial_label, Length: 248, dtype: object"
      ]
     },
     "execution_count": 72,
     "metadata": {},
     "output_type": "execute_result"
    }
   ],
   "source": [
    "LFP_SPECTRAL_DF[\"trial_label\"]"
   ]
  },
  {
   "cell_type": "code",
   "execution_count": null,
   "metadata": {
    "tags": []
   },
   "outputs": [],
   "source": [
    "\n",
    "for col in all_freq_columns:\n",
    "    stripped_column = col.replace(\"trial_and_post_\", \"\").replace(\"_all_frequencies_all_windows\", \"\")\n",
    "    for subj in LFP_SPECTRAL_DF[\"current_subject\"].unique():\n",
    "        current_subject_df = LFP_SPECTRAL_DF[LFP_SPECTRAL_DF[\"current_subject\"] == subj]\n",
    "        fig, ax = plt.subplots()\n",
    "        ax.grid()\n",
    "        plt.title(\"{} {}\".format(stripped_column, subj))\n",
    "        for index, row in current_subject_df.iterrows():\n",
    "            plt.plot(np.nanmean(row[col], axis=0), color=OUTCOME_TO_COLOR[row[\"competitive_trial_label\"]], linestyle=comp_to_style[row[\"competitive_trial_label\"]])\n",
    "        if \"coherence\" in col or \"granger\" in col:\n",
    "            plt.ylim(0, 1)\n",
    "        \n",
    "        plt.savefig(os.path.join(\"./proc/trial_traces\", \"{}_{}.png\".format(stripped_column, subj)))\n",
    "    \n",
    "        \n",
    "        "
   ]
  },
  {
   "cell_type": "code",
   "execution_count": 37,
   "metadata": {
    "tags": []
   },
   "outputs": [
    {
     "data": {
      "text/plain": [
       "'4.2'"
      ]
     },
     "execution_count": 37,
     "metadata": {},
     "output_type": "execute_result"
    }
   ],
   "source": []
  },
  {
   "cell_type": "code",
   "execution_count": null,
   "metadata": {},
   "outputs": [],
   "source": []
  }
 ],
 "metadata": {
  "deepnote": {},
  "deepnote_execution_queue": [],
  "deepnote_notebook_id": "cf8fe3695d074ee7887fdf6459cbf5ce",
  "kernelspec": {
   "display_name": "spike_interface_0_100_8",
   "language": "python",
   "name": "spike_interface_0_100_8"
  },
  "language_info": {
   "codemirror_mode": {
    "name": "ipython",
    "version": 3
   },
   "file_extension": ".py",
   "mimetype": "text/x-python",
   "name": "python",
   "nbconvert_exporter": "python",
   "pygments_lexer": "ipython3",
   "version": "3.10.14"
  }
 },
 "nbformat": 4,
 "nbformat_minor": 4
}
