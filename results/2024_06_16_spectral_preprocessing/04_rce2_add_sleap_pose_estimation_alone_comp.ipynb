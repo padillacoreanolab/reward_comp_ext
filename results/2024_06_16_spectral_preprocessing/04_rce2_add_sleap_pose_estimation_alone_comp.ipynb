{
 "cells": [
  {
   "cell_type": "markdown",
   "metadata": {
    "cell_id": "c3a02adc9e884466bc8c79db549cc3d2",
    "deepnote_cell_type": "text-cell-h1",
    "formattedRanges": [
     {
      "fromCodePoint": 0,
      "marks": {
       "bold": true,
       "underline": true
      },
      "toCodePoint": 17,
      "type": "marks"
     }
    ]
   },
   "source": [
    "# SLEAP Distance Calculation"
   ]
  },
  {
   "cell_type": "markdown",
   "metadata": {
    "cell_id": "4546bee655b14a5dbf393161f1228e60",
    "deepnote_cell_type": "text-cell-p",
    "formattedRanges": []
   },
   "source": [
    "Brief 1-2 sentence description of notebook."
   ]
  },
  {
   "cell_type": "code",
   "execution_count": 1,
   "metadata": {
    "tags": []
   },
   "outputs": [],
   "source": [
    "import os\n",
    "import glob\n",
    "import git\n",
    "import sys\n",
    "from collections import defaultdict"
   ]
  },
  {
   "cell_type": "code",
   "execution_count": 2,
   "metadata": {
    "cell_id": "03b495cefa6a4798a44c7f2e4c6a3ea7",
    "deepnote_cell_type": "code",
    "deepnote_to_be_reexecuted": false,
    "execution_millis": 21,
    "execution_start": 1691424003626,
    "source_hash": null,
    "tags": []
   },
   "outputs": [],
   "source": [
    "# Imports of all used packages and libraries\n",
    "import numpy as np\n",
    "import pandas as pd\n",
    "# import seaborn as sns\n",
    "import matplotlib as mpl\n",
    "import matplotlib.pyplot as plt\n",
    "import h5py\n"
   ]
  },
  {
   "cell_type": "code",
   "execution_count": 3,
   "metadata": {
    "tags": []
   },
   "outputs": [],
   "source": [
    "git_repo = git.Repo(\".\", search_parent_directories=True)\n",
    "git_root = git_repo.git.rev_parse(\"--show-toplevel\")"
   ]
  },
  {
   "cell_type": "code",
   "execution_count": 4,
   "metadata": {
    "tags": []
   },
   "outputs": [
    {
     "data": {
      "text/plain": [
       "'/nancy/user/riwata/projects/reward_comp_ext'"
      ]
     },
     "execution_count": 4,
     "metadata": {},
     "output_type": "execute_result"
    }
   ],
   "source": [
    "git_root"
   ]
  },
  {
   "cell_type": "code",
   "execution_count": 5,
   "metadata": {
    "tags": []
   },
   "outputs": [],
   "source": [
    "sys.path.insert(0, os.path.join(git_root, 'src'))"
   ]
  },
  {
   "cell_type": "code",
   "execution_count": 6,
   "metadata": {
    "tags": []
   },
   "outputs": [],
   "source": [
    "import sleap.process_pose"
   ]
  },
  {
   "cell_type": "code",
   "execution_count": 7,
   "metadata": {
    "tags": []
   },
   "outputs": [],
   "source": [
    "# sns.set('notebook', 'ticks', font_scale=1.2)\n",
    "mpl.rcParams['figure.figsize'] = [15,6]"
   ]
  },
  {
   "cell_type": "code",
   "execution_count": null,
   "metadata": {},
   "outputs": [],
   "source": []
  },
  {
   "cell_type": "markdown",
   "metadata": {},
   "source": [
    "# Functions"
   ]
  },
  {
   "cell_type": "code",
   "execution_count": 8,
   "metadata": {
    "tags": []
   },
   "outputs": [
    {
     "name": "stdout",
     "output_type": "stream",
     "text": [
      "{'a': [1, 2, 5, 8, 9], 'b': [3, 4, 6, 7], 'c': [10]}\n"
     ]
    }
   ],
   "source": [
    "def combine_dicts(dicts):\n",
    "    \"\"\"\n",
    "    Combine lists from multiple dictionaries that share the same key.\n",
    "\n",
    "    This function takes a list of dictionaries where each dictionary's values are lists of numbers.\n",
    "    It merges these lists for each corresponding key across all dictionaries, producing a single\n",
    "    dictionary where each key has a combined list of all numbers from the input dictionaries.\n",
    "\n",
    "    Parameters:\n",
    "        dicts (list of dict): A list of dictionaries with values as lists of numbers.\n",
    "\n",
    "    Returns:\n",
    "        dict: A dictionary with keys from the input dictionaries and values as merged lists \n",
    "        of numbers from all corresponding input dictionary values.\n",
    "    \"\"\"\n",
    "    combined = defaultdict(list)\n",
    "    for dictionary in dicts:\n",
    "        for key, value in dictionary.items():\n",
    "            combined[key].extend(value)\n",
    "    \n",
    "    return dict(combined)\n",
    "\n",
    "\n",
    "# Example usage\n",
    "list_of_dicts = [\n",
    "    {'a': [1, 2], 'b': [3, 4]},\n",
    "    {'a': [5], 'b': [6, 7]},\n",
    "    {'a': [8, 9], 'c': [10]}\n",
    "]\n",
    "\n",
    "combined_dict = combine_dicts(list_of_dicts)\n",
    "print(combined_dict)"
   ]
  },
  {
   "cell_type": "code",
   "execution_count": 9,
   "metadata": {
    "tags": []
   },
   "outputs": [
    {
     "name": "stdout",
     "output_type": "stream",
     "text": [
      "{2: [(2, 4)], 3: [(5, 8)]}\n"
     ]
    }
   ],
   "source": [
    "def find_consecutive_ranges(numbers, min_length=1):\n",
    "    \"\"\"\n",
    "    Finds the start and end indices for consecutive ranges of each number in a list where the range meets a minimum length.\n",
    "\n",
    "    This function iterates through a list of integers and identifies ranges where the same integer appears consecutively\n",
    "    and the length of this sequence meets or exceeds the specified minimum length.\n",
    "\n",
    "    Parameters:\n",
    "        numbers (list): A list of integers to analyze for consecutive ranges.\n",
    "        min_length (int): The minimum length of a range for it to be included in the results.\n",
    "\n",
    "    Returns:\n",
    "        dict: A dictionary with integers as keys and a list of tuples (start, end) as values,\n",
    "              where each tuple represents the start and end indices (inclusive) of consecutive ranges\n",
    "              for that integer. Only ranges that meet or exceed the minimum length are included.\n",
    "    \"\"\"\n",
    "    ranges = {}\n",
    "    n = len(numbers)\n",
    "    if n == 0:\n",
    "        return ranges\n",
    "    \n",
    "    start = 0\n",
    "    current = numbers[0]\n",
    "\n",
    "    for i in range(1, n):\n",
    "        if numbers[i] != current:\n",
    "            if (i - start) >= min_length:\n",
    "                if current not in ranges:\n",
    "                    ranges[current] = []\n",
    "                ranges[current].append((start, i - 1))\n",
    "            current = numbers[i]\n",
    "            start = i\n",
    "\n",
    "    # Handle the last range\n",
    "    if (n - start) >= min_length:\n",
    "        if current not in ranges:\n",
    "            ranges[current] = []\n",
    "        ranges[current].append((start, n - 1))\n",
    "\n",
    "    return ranges\n",
    "\n",
    "# Example usage:\n",
    "numbers = [1, 1, 2, 2, 2, 3, 3, 3, 3, 2, 2, 1, 1]\n",
    "print(find_consecutive_ranges(numbers, min_length=3))"
   ]
  },
  {
   "cell_type": "code",
   "execution_count": 10,
   "metadata": {
    "tags": []
   },
   "outputs": [
    {
     "name": "stdout",
     "output_type": "stream",
     "text": [
      "{'a': [('alpha', 'beta'), ('gamma', 'delta')], 'b': [('beta', 'delta'), ('alpha', 'gamma')]}\n"
     ]
    }
   ],
   "source": [
    "def update_tuples_in_dict(original_dict, reference_list):\n",
    "    \"\"\"\n",
    "    Updates the values in the tuples within a dictionary by replacing indices with corresponding values from a reference list.\n",
    "    \n",
    "    This function iterates through each key-value pair in the original dictionary. Each value is expected to be a list of tuples,\n",
    "    where each tuple contains indices. These indices are used to fetch corresponding values from the reference list, creating new tuples.\n",
    "    \n",
    "    Parameters:\n",
    "        original_dict (dict): Dictionary whose values are lists of tuples. Each tuple consists of indices into the reference_list.\n",
    "        reference_list (list): List of elements that are referenced by the indices in the tuples of the original_dict.\n",
    "        \n",
    "    Returns:\n",
    "        dict: A dictionary with the same keys as original_dict but with tuples transformed to contain elements from reference_list\n",
    "              based on the indices in the original tuples.\n",
    "    \"\"\"\n",
    "    # Create a new dictionary to store the updated key-value pairs\n",
    "    new_dict = {}\n",
    "    for key, list_of_tuples in original_dict.items():\n",
    "        # Process each tuple in the list associated with the current key\n",
    "        updated_tuples = [\n",
    "            tuple(reference_list[idx] for idx in tup) for tup in list_of_tuples\n",
    "        ]\n",
    "        new_dict[key] = updated_tuples\n",
    "    \n",
    "    return new_dict\n",
    "\n",
    "# Example usage:\n",
    "original_dict = {\n",
    "    'a': [(0, 1), (2, 3)],\n",
    "    'b': [(1, 3), (0, 2)]\n",
    "}\n",
    "reference_list = ['alpha', 'beta', 'gamma', 'delta']\n",
    "\n",
    "updated_dict = update_tuples_in_dict(original_dict, reference_list)\n",
    "print(updated_dict)"
   ]
  },
  {
   "cell_type": "markdown",
   "metadata": {
    "cell_id": "d290bac2c17940bfbc0f9296beaf70e5",
    "deepnote_cell_type": "text-cell-h2",
    "formattedRanges": []
   },
   "source": [
    "## Inputs & Data"
   ]
  },
  {
   "cell_type": "markdown",
   "metadata": {
    "cell_id": "e528ce19c608425292151930d380f49f",
    "deepnote_cell_type": "text-cell-p",
    "formattedRanges": []
   },
   "source": [
    "Explanation of each input and where it comes from."
   ]
  },
  {
   "cell_type": "code",
   "execution_count": 11,
   "metadata": {
    "tags": []
   },
   "outputs": [],
   "source": [
    "OUTPUT_PREFIX = \"rce_pilot_3_alone_comp\""
   ]
  },
  {
   "cell_type": "code",
   "execution_count": 12,
   "metadata": {
    "tags": []
   },
   "outputs": [],
   "source": [
    "# Inputs and Required data loading\n",
    "# input varaible names are in all caps snake case\n",
    "# Whenever an input changes or is used for processing \n",
    "# the vairables are all lower in snake case\n",
    "\n",
    "LFP_SPECTRAL_DF = pd.read_pickle(\"./proc/{}_03_spectral_bands.pkl\".format(OUTPUT_PREFIX))\n",
    "# LFP_SPECTRAL_DF = pd.read_pickle(\"./proc/{}_01_lfp_traces_and_frames.pkl\".format(OUTPUT_PREFIX))\n",
    "\n"
   ]
  },
  {
   "cell_type": "code",
   "execution_count": 13,
   "metadata": {
    "tags": []
   },
   "outputs": [],
   "source": [
    "# SLEAP_DF = pd.read_pickle(\"/blue/npadillacoreano/ryoi360/projects/reward_comp/repos/reward_comp_ext/results/2024_06_26_sleap_clustering/proc/grouped_exploded_columns.pkl\")\n",
    "SLEAP_DF = pd.read_pickle(\"../2024_06_26_sleap_clustering/proc/grouped_exploded_columns.pkl\")"
   ]
  },
  {
   "cell_type": "code",
   "execution_count": 14,
   "metadata": {
    "tags": []
   },
   "outputs": [
    {
     "data": {
      "text/html": [
       "<div>\n",
       "<style scoped>\n",
       "    .dataframe tbody tr th:only-of-type {\n",
       "        vertical-align: middle;\n",
       "    }\n",
       "\n",
       "    .dataframe tbody tr th {\n",
       "        vertical-align: top;\n",
       "    }\n",
       "\n",
       "    .dataframe thead th {\n",
       "        text-align: right;\n",
       "    }\n",
       "</style>\n",
       "<table border=\"1\" class=\"dataframe\">\n",
       "  <thead>\n",
       "    <tr style=\"text-align: right;\">\n",
       "      <th></th>\n",
       "      <th>video_name</th>\n",
       "      <th>current_subject</th>\n",
       "      <th>frame_index</th>\n",
       "      <th>tone_start_frame</th>\n",
       "      <th>tone_stop_frame</th>\n",
       "      <th>condition</th>\n",
       "      <th>competition_closeness</th>\n",
       "      <th>notes</th>\n",
       "      <th>10s_before_tone_frame</th>\n",
       "      <th>10s_after_tone_frame</th>\n",
       "      <th>...</th>\n",
       "      <th>subject_nose</th>\n",
       "      <th>subject_tail_base</th>\n",
       "      <th>agent_thorax</th>\n",
       "      <th>agent_nose</th>\n",
       "      <th>agent_tail_base</th>\n",
       "      <th>session_dir</th>\n",
       "      <th>experiment</th>\n",
       "      <th>sleap_name</th>\n",
       "      <th>video_id</th>\n",
       "      <th>agent</th>\n",
       "    </tr>\n",
       "  </thead>\n",
       "  <tbody>\n",
       "    <tr>\n",
       "      <th>0</th>\n",
       "      <td>20240317_151922_long_comp_subj_3-1_and_3-3.1</td>\n",
       "      <td>3.1</td>\n",
       "      <td>[1086, 1087, 1088, 1089, 1090, 1091, 1092, 109...</td>\n",
       "      <td>[1286, 1286, 1286, 1286, 1286, 1286, 1286, 128...</td>\n",
       "      <td>[1486, 1486, 1486, 1486, 1486, 1486, 1486, 148...</td>\n",
       "      <td>[3.3, 3.3, 3.3, 3.3, 3.3, 3.3, 3.3, 3.3, 3.3, ...</td>\n",
       "      <td>[Subj 2 then Subj 1, Subj 2 then Subj 1, Subj ...</td>\n",
       "      <td>[nan, nan, nan, nan, nan, nan, nan, nan, nan, ...</td>\n",
       "      <td>[1086, 1086, 1086, 1086, 1086, 1086, 1086, 108...</td>\n",
       "      <td>[1686, 1686, 1686, 1686, 1686, 1686, 1686, 168...</td>\n",
       "      <td>...</td>\n",
       "      <td>[[60.14673983110819, 38.0809500426292], [60.14...</td>\n",
       "      <td>[[65.86894804065032, 31.8436244490543], [65.86...</td>\n",
       "      <td>[[51.04336785027878, 11.609328010205985], [51....</td>\n",
       "      <td>[[43.139588993359475, 13.385259646809214], [43...</td>\n",
       "      <td>[[54.49241922411595, 12.722769593270066], [54....</td>\n",
       "      <td>20240317_151922_long_comp_subj_3-1_and_3-3</td>\n",
       "      <td>long_comp</td>\n",
       "      <td>20240317_151922_long_comp_subj_3-1_and_3-3.1.f...</td>\n",
       "      <td>5</td>\n",
       "      <td>3.3</td>\n",
       "    </tr>\n",
       "    <tr>\n",
       "      <th>1</th>\n",
       "      <td>20240317_151922_long_comp_subj_3-1_and_3-3.1</td>\n",
       "      <td>3.3</td>\n",
       "      <td>[1086, 1087, 1088, 1089, 1090, 1091, 1092, 109...</td>\n",
       "      <td>[1286, 1286, 1286, 1286, 1286, 1286, 1286, 128...</td>\n",
       "      <td>[1486, 1486, 1486, 1486, 1486, 1486, 1486, 148...</td>\n",
       "      <td>[3.3, 3.3, 3.3, 3.3, 3.3, 3.3, 3.3, 3.3, 3.3, ...</td>\n",
       "      <td>[Subj 2 then Subj 1, Subj 2 then Subj 1, Subj ...</td>\n",
       "      <td>[nan, nan, nan, nan, nan, nan, nan, nan, nan, ...</td>\n",
       "      <td>[1086, 1086, 1086, 1086, 1086, 1086, 1086, 108...</td>\n",
       "      <td>[1686, 1686, 1686, 1686, 1686, 1686, 1686, 168...</td>\n",
       "      <td>...</td>\n",
       "      <td>[[43.139588993359475, 13.385259646809214], [43...</td>\n",
       "      <td>[[54.49241922411595, 12.722769593270066], [54....</td>\n",
       "      <td>[[64.11036004541992, 34.137273635147906], [64....</td>\n",
       "      <td>[[60.14673983110819, 38.0809500426292], [60.14...</td>\n",
       "      <td>[[65.86894804065032, 31.8436244490543], [65.86...</td>\n",
       "      <td>20240317_151922_long_comp_subj_3-1_and_3-3</td>\n",
       "      <td>long_comp</td>\n",
       "      <td>20240317_151922_long_comp_subj_3-1_and_3-3.1.f...</td>\n",
       "      <td>5</td>\n",
       "      <td>3.1</td>\n",
       "    </tr>\n",
       "    <tr>\n",
       "      <th>2</th>\n",
       "      <td>20240317_172017_long_comp_subj_4-2_and_4-3.1</td>\n",
       "      <td>4.2</td>\n",
       "      <td>[1100, 1101, 1102, 1103, 1104, 1105, 1106, 110...</td>\n",
       "      <td>[1300, 1300, 1300, 1300, 1300, 1300, 1300, 130...</td>\n",
       "      <td>[1501, 1501, 1501, 1501, 1501, 1501, 1501, 150...</td>\n",
       "      <td>[4.2, 4.2, 4.2, 4.2, 4.2, 4.2, 4.2, 4.2, 4.2, ...</td>\n",
       "      <td>[Subj 1 then Subj 2, Subj 1 then Subj 2, Subj ...</td>\n",
       "      <td>[nan, nan, nan, nan, nan, nan, nan, nan, nan, ...</td>\n",
       "      <td>[1100, 1100, 1100, 1100, 1100, 1100, 1100, 110...</td>\n",
       "      <td>[1701, 1701, 1701, 1701, 1701, 1701, 1701, 170...</td>\n",
       "      <td>...</td>\n",
       "      <td>[[65.23110812441777, 8.220414676017084], [62.5...</td>\n",
       "      <td>[[72.8621368084351, 13.53665765315761], [72.41...</td>\n",
       "      <td>[[57.3449526902064, 32.078917344899914], [57.5...</td>\n",
       "      <td>[[60.79884848875681, 35.963595797483414], [60....</td>\n",
       "      <td>[[56.32709801682682, 29.966639024342353], [56....</td>\n",
       "      <td>20240317_172017_long_comp_subj_4-2_and_4-3</td>\n",
       "      <td>long_comp</td>\n",
       "      <td>20240317_172017_long_comp_subj_4-2_and_4-3.1.f...</td>\n",
       "      <td>6</td>\n",
       "      <td>4.3</td>\n",
       "    </tr>\n",
       "    <tr>\n",
       "      <th>3</th>\n",
       "      <td>20240317_172017_long_comp_subj_4-2_and_4-3.1</td>\n",
       "      <td>4.3</td>\n",
       "      <td>[1100, 1101, 1102, 1103, 1104, 1105, 1106, 110...</td>\n",
       "      <td>[1300, 1300, 1300, 1300, 1300, 1300, 1300, 130...</td>\n",
       "      <td>[1501, 1501, 1501, 1501, 1501, 1501, 1501, 150...</td>\n",
       "      <td>[4.2, 4.2, 4.2, 4.2, 4.2, 4.2, 4.2, 4.2, 4.2, ...</td>\n",
       "      <td>[Subj 1 then Subj 2, Subj 1 then Subj 2, Subj ...</td>\n",
       "      <td>[nan, nan, nan, nan, nan, nan, nan, nan, nan, ...</td>\n",
       "      <td>[1100, 1100, 1100, 1100, 1100, 1100, 1100, 110...</td>\n",
       "      <td>[1701, 1701, 1701, 1701, 1701, 1701, 1701, 170...</td>\n",
       "      <td>...</td>\n",
       "      <td>[[60.79884848875681, 35.963595797483414], [60....</td>\n",
       "      <td>[[56.32709801682682, 29.966639024342353], [56....</td>\n",
       "      <td>[[72.18478668206376, 10.328978616940205], [71....</td>\n",
       "      <td>[[65.23110812441777, 8.220414676017084], [62.5...</td>\n",
       "      <td>[[72.8621368084351, 13.53665765315761], [72.41...</td>\n",
       "      <td>20240317_172017_long_comp_subj_4-2_and_4-3</td>\n",
       "      <td>long_comp</td>\n",
       "      <td>20240317_172017_long_comp_subj_4-2_and_4-3.1.f...</td>\n",
       "      <td>6</td>\n",
       "      <td>4.2</td>\n",
       "    </tr>\n",
       "    <tr>\n",
       "      <th>4</th>\n",
       "      <td>20240318_143819_long_comp_subj_3-3_and_3-4.1</td>\n",
       "      <td>3.3</td>\n",
       "      <td>[1134, 1135, 1136, 1137, 1138, 1139, 1140, 114...</td>\n",
       "      <td>[1334, 1334, 1334, 1334, 1334, 1334, 1334, 133...</td>\n",
       "      <td>[1533, 1533, 1533, 1533, 1533, 1533, 1533, 153...</td>\n",
       "      <td>[temp, temp, temp, temp, temp, temp, temp, tem...</td>\n",
       "      <td>[nan, nan, nan, nan, nan, nan, nan, nan, nan, ...</td>\n",
       "      <td>[nan, nan, nan, nan, nan, nan, nan, nan, nan, ...</td>\n",
       "      <td>[1134, 1134, 1134, 1134, 1134, 1134, 1134, 113...</td>\n",
       "      <td>[1733, 1733, 1733, 1733, 1733, 1733, 1733, 173...</td>\n",
       "      <td>...</td>\n",
       "      <td>[[74.05712670191413, 17.15715452958501], [74.0...</td>\n",
       "      <td>[[69.55312088481946, 25.429423623129917], [71....</td>\n",
       "      <td>[[65.57930503887175, 33.84569047638807], [65.3...</td>\n",
       "      <td>[[58.01061366578415, 33.98924535992776], [58.0...</td>\n",
       "      <td>[[68.06216599593583, 32.37245454635553], [67.8...</td>\n",
       "      <td>20240318_143819_long_comp_subj_3-3_and_3-4</td>\n",
       "      <td>long_comp</td>\n",
       "      <td>20240318_143819_long_comp_subj_3-3_and_3-4.1.f...</td>\n",
       "      <td>7</td>\n",
       "      <td>3.4</td>\n",
       "    </tr>\n",
       "  </tbody>\n",
       "</table>\n",
       "<p>5 rows × 44 columns</p>\n",
       "</div>"
      ],
      "text/plain": [
       "                                     video_name current_subject  \\\n",
       "0  20240317_151922_long_comp_subj_3-1_and_3-3.1             3.1   \n",
       "1  20240317_151922_long_comp_subj_3-1_and_3-3.1             3.3   \n",
       "2  20240317_172017_long_comp_subj_4-2_and_4-3.1             4.2   \n",
       "3  20240317_172017_long_comp_subj_4-2_and_4-3.1             4.3   \n",
       "4  20240318_143819_long_comp_subj_3-3_and_3-4.1             3.3   \n",
       "\n",
       "                                         frame_index  \\\n",
       "0  [1086, 1087, 1088, 1089, 1090, 1091, 1092, 109...   \n",
       "1  [1086, 1087, 1088, 1089, 1090, 1091, 1092, 109...   \n",
       "2  [1100, 1101, 1102, 1103, 1104, 1105, 1106, 110...   \n",
       "3  [1100, 1101, 1102, 1103, 1104, 1105, 1106, 110...   \n",
       "4  [1134, 1135, 1136, 1137, 1138, 1139, 1140, 114...   \n",
       "\n",
       "                                    tone_start_frame  \\\n",
       "0  [1286, 1286, 1286, 1286, 1286, 1286, 1286, 128...   \n",
       "1  [1286, 1286, 1286, 1286, 1286, 1286, 1286, 128...   \n",
       "2  [1300, 1300, 1300, 1300, 1300, 1300, 1300, 130...   \n",
       "3  [1300, 1300, 1300, 1300, 1300, 1300, 1300, 130...   \n",
       "4  [1334, 1334, 1334, 1334, 1334, 1334, 1334, 133...   \n",
       "\n",
       "                                     tone_stop_frame  \\\n",
       "0  [1486, 1486, 1486, 1486, 1486, 1486, 1486, 148...   \n",
       "1  [1486, 1486, 1486, 1486, 1486, 1486, 1486, 148...   \n",
       "2  [1501, 1501, 1501, 1501, 1501, 1501, 1501, 150...   \n",
       "3  [1501, 1501, 1501, 1501, 1501, 1501, 1501, 150...   \n",
       "4  [1533, 1533, 1533, 1533, 1533, 1533, 1533, 153...   \n",
       "\n",
       "                                          condition   \\\n",
       "0  [3.3, 3.3, 3.3, 3.3, 3.3, 3.3, 3.3, 3.3, 3.3, ...   \n",
       "1  [3.3, 3.3, 3.3, 3.3, 3.3, 3.3, 3.3, 3.3, 3.3, ...   \n",
       "2  [4.2, 4.2, 4.2, 4.2, 4.2, 4.2, 4.2, 4.2, 4.2, ...   \n",
       "3  [4.2, 4.2, 4.2, 4.2, 4.2, 4.2, 4.2, 4.2, 4.2, ...   \n",
       "4  [temp, temp, temp, temp, temp, temp, temp, tem...   \n",
       "\n",
       "                               competition_closeness  \\\n",
       "0  [Subj 2 then Subj 1, Subj 2 then Subj 1, Subj ...   \n",
       "1  [Subj 2 then Subj 1, Subj 2 then Subj 1, Subj ...   \n",
       "2  [Subj 1 then Subj 2, Subj 1 then Subj 2, Subj ...   \n",
       "3  [Subj 1 then Subj 2, Subj 1 then Subj 2, Subj ...   \n",
       "4  [nan, nan, nan, nan, nan, nan, nan, nan, nan, ...   \n",
       "\n",
       "                                               notes  \\\n",
       "0  [nan, nan, nan, nan, nan, nan, nan, nan, nan, ...   \n",
       "1  [nan, nan, nan, nan, nan, nan, nan, nan, nan, ...   \n",
       "2  [nan, nan, nan, nan, nan, nan, nan, nan, nan, ...   \n",
       "3  [nan, nan, nan, nan, nan, nan, nan, nan, nan, ...   \n",
       "4  [nan, nan, nan, nan, nan, nan, nan, nan, nan, ...   \n",
       "\n",
       "                               10s_before_tone_frame  \\\n",
       "0  [1086, 1086, 1086, 1086, 1086, 1086, 1086, 108...   \n",
       "1  [1086, 1086, 1086, 1086, 1086, 1086, 1086, 108...   \n",
       "2  [1100, 1100, 1100, 1100, 1100, 1100, 1100, 110...   \n",
       "3  [1100, 1100, 1100, 1100, 1100, 1100, 1100, 110...   \n",
       "4  [1134, 1134, 1134, 1134, 1134, 1134, 1134, 113...   \n",
       "\n",
       "                                10s_after_tone_frame  ...  \\\n",
       "0  [1686, 1686, 1686, 1686, 1686, 1686, 1686, 168...  ...   \n",
       "1  [1686, 1686, 1686, 1686, 1686, 1686, 1686, 168...  ...   \n",
       "2  [1701, 1701, 1701, 1701, 1701, 1701, 1701, 170...  ...   \n",
       "3  [1701, 1701, 1701, 1701, 1701, 1701, 1701, 170...  ...   \n",
       "4  [1733, 1733, 1733, 1733, 1733, 1733, 1733, 173...  ...   \n",
       "\n",
       "                                        subject_nose  \\\n",
       "0  [[60.14673983110819, 38.0809500426292], [60.14...   \n",
       "1  [[43.139588993359475, 13.385259646809214], [43...   \n",
       "2  [[65.23110812441777, 8.220414676017084], [62.5...   \n",
       "3  [[60.79884848875681, 35.963595797483414], [60....   \n",
       "4  [[74.05712670191413, 17.15715452958501], [74.0...   \n",
       "\n",
       "                                   subject_tail_base  \\\n",
       "0  [[65.86894804065032, 31.8436244490543], [65.86...   \n",
       "1  [[54.49241922411595, 12.722769593270066], [54....   \n",
       "2  [[72.8621368084351, 13.53665765315761], [72.41...   \n",
       "3  [[56.32709801682682, 29.966639024342353], [56....   \n",
       "4  [[69.55312088481946, 25.429423623129917], [71....   \n",
       "\n",
       "                                        agent_thorax  \\\n",
       "0  [[51.04336785027878, 11.609328010205985], [51....   \n",
       "1  [[64.11036004541992, 34.137273635147906], [64....   \n",
       "2  [[57.3449526902064, 32.078917344899914], [57.5...   \n",
       "3  [[72.18478668206376, 10.328978616940205], [71....   \n",
       "4  [[65.57930503887175, 33.84569047638807], [65.3...   \n",
       "\n",
       "                                          agent_nose  \\\n",
       "0  [[43.139588993359475, 13.385259646809214], [43...   \n",
       "1  [[60.14673983110819, 38.0809500426292], [60.14...   \n",
       "2  [[60.79884848875681, 35.963595797483414], [60....   \n",
       "3  [[65.23110812441777, 8.220414676017084], [62.5...   \n",
       "4  [[58.01061366578415, 33.98924535992776], [58.0...   \n",
       "\n",
       "                                     agent_tail_base  \\\n",
       "0  [[54.49241922411595, 12.722769593270066], [54....   \n",
       "1  [[65.86894804065032, 31.8436244490543], [65.86...   \n",
       "2  [[56.32709801682682, 29.966639024342353], [56....   \n",
       "3  [[72.8621368084351, 13.53665765315761], [72.41...   \n",
       "4  [[68.06216599593583, 32.37245454635553], [67.8...   \n",
       "\n",
       "                                  session_dir experiment  \\\n",
       "0  20240317_151922_long_comp_subj_3-1_and_3-3  long_comp   \n",
       "1  20240317_151922_long_comp_subj_3-1_and_3-3  long_comp   \n",
       "2  20240317_172017_long_comp_subj_4-2_and_4-3  long_comp   \n",
       "3  20240317_172017_long_comp_subj_4-2_and_4-3  long_comp   \n",
       "4  20240318_143819_long_comp_subj_3-3_and_3-4  long_comp   \n",
       "\n",
       "                                          sleap_name video_id agent  \n",
       "0  20240317_151922_long_comp_subj_3-1_and_3-3.1.f...        5   3.3  \n",
       "1  20240317_151922_long_comp_subj_3-1_and_3-3.1.f...        5   3.1  \n",
       "2  20240317_172017_long_comp_subj_4-2_and_4-3.1.f...        6   4.3  \n",
       "3  20240317_172017_long_comp_subj_4-2_and_4-3.1.f...        6   4.2  \n",
       "4  20240318_143819_long_comp_subj_3-3_and_3-4.1.f...        7   3.4  \n",
       "\n",
       "[5 rows x 44 columns]"
      ]
     },
     "execution_count": 14,
     "metadata": {},
     "output_type": "execute_result"
    }
   ],
   "source": [
    "SLEAP_DF.head()"
   ]
  },
  {
   "cell_type": "markdown",
   "metadata": {},
   "source": [
    "## Outputs"
   ]
  },
  {
   "cell_type": "markdown",
   "metadata": {},
   "source": [
    "Describe each output that the notebook creates. "
   ]
  },
  {
   "cell_type": "markdown",
   "metadata": {},
   "source": [
    "- Is it a plot or is it data?"
   ]
  },
  {
   "cell_type": "markdown",
   "metadata": {},
   "source": [
    "- How valuable is the output and why is it valuable or useful?"
   ]
  },
  {
   "cell_type": "code",
   "execution_count": 15,
   "metadata": {
    "tags": []
   },
   "outputs": [],
   "source": [
    "# Inputs and Required data loading\n",
    "# input varaible names are in all caps snake case\n",
    "# Whenever an input changes or is used for processing \n",
    "# the vairables are all lower in snake case\n",
    "OUTPUT_DIR = r\"./proc/\" # where data is saved should always be shown in the inputs\n",
    "os.makedirs(OUTPUT_DIR, exist_ok=True)"
   ]
  },
  {
   "cell_type": "code",
   "execution_count": 16,
   "metadata": {
    "tags": []
   },
   "outputs": [],
   "source": [
    "FULL_LFP_TRACES_PKL = \"{}_04_spectral_and_sleap.pkl\".format(OUTPUT_PREFIX)"
   ]
  },
  {
   "cell_type": "markdown",
   "metadata": {},
   "source": [
    "## Processing"
   ]
  },
  {
   "cell_type": "markdown",
   "metadata": {},
   "source": [
    "Describe what is done to the data here and how inputs are manipulated to generate outputs. "
   ]
  },
  {
   "cell_type": "markdown",
   "metadata": {},
   "source": [
    "## Merging the dataframes based on shared video name"
   ]
  },
  {
   "cell_type": "code",
   "execution_count": 17,
   "metadata": {
    "tags": []
   },
   "outputs": [],
   "source": [
    "LFP_SPECTRAL_DF[\"video_name\"] = LFP_SPECTRAL_DF[\"video_name\"].apply(lambda x: x.strip(\".videoTimeStamps.cameraHWSync\"))\n"
   ]
  },
  {
   "cell_type": "code",
   "execution_count": 18,
   "metadata": {
    "tags": []
   },
   "outputs": [
    {
     "data": {
      "text/html": [
       "<div>\n",
       "<style scoped>\n",
       "    .dataframe tbody tr th:only-of-type {\n",
       "        vertical-align: middle;\n",
       "    }\n",
       "\n",
       "    .dataframe tbody tr th {\n",
       "        vertical-align: top;\n",
       "    }\n",
       "\n",
       "    .dataframe thead th {\n",
       "        text-align: right;\n",
       "    }\n",
       "</style>\n",
       "<table border=\"1\" class=\"dataframe\">\n",
       "  <thead>\n",
       "    <tr style=\"text-align: right;\">\n",
       "      <th></th>\n",
       "      <th>cohort</th>\n",
       "      <th>session_dir</th>\n",
       "      <th>tone_frames</th>\n",
       "      <th>box_1_port_entry_frames</th>\n",
       "      <th>box_2_port_entry_frames</th>\n",
       "      <th>video_name</th>\n",
       "      <th>notes</th>\n",
       "      <th>session_path</th>\n",
       "      <th>recording</th>\n",
       "      <th>current_subject</th>\n",
       "      <th>...</th>\n",
       "      <th>vHPC_power_theta</th>\n",
       "      <th>vHPC_power_gamma</th>\n",
       "      <th>BLA_power_theta</th>\n",
       "      <th>BLA_power_gamma</th>\n",
       "      <th>LH_power_theta</th>\n",
       "      <th>LH_power_gamma</th>\n",
       "      <th>MD_power_theta</th>\n",
       "      <th>MD_power_gamma</th>\n",
       "      <th>mPFC_power_theta</th>\n",
       "      <th>mPFC_power_gamma</th>\n",
       "    </tr>\n",
       "  </thead>\n",
       "  <tbody>\n",
       "    <tr>\n",
       "      <th>0</th>\n",
       "      <td>rce_pilot_3</td>\n",
       "      <td>20240320_142408_alone_comp_subj_3-1_and_3-3</td>\n",
       "      <td>[[0, 74], [1272, 1471], [3268, 3469], [4466, 4...</td>\n",
       "      <td>[[0, 74], [152, 157], [252, 305], [305, 323], ...</td>\n",
       "      <td>[[0, 74], [160, 225], [254, 257], [257, 279], ...</td>\n",
       "      <td>20240320_142408_alone_comp_subj_3-1_and_3-3.1</td>\n",
       "      <td>NaN</td>\n",
       "      <td>/scratch/back_up/reward_competition_extention/...</td>\n",
       "      <td>20240320_142408_alone_comp_subj_3-1_t6b6_merged</td>\n",
       "      <td>3.1</td>\n",
       "      <td>...</td>\n",
       "      <td>[nan, 0.07223674, 0.06942491, 0.065466404, 0.0...</td>\n",
       "      <td>[nan, 0.0046885125, 0.0033377786, 0.0018332143...</td>\n",
       "      <td>[0.01945638, nan, nan, nan, 0.019393958, nan, ...</td>\n",
       "      <td>[0.0130572505, nan, nan, nan, 0.007762581, nan...</td>\n",
       "      <td>[nan, nan, 0.03636455, 0.029700823, 0.02418904...</td>\n",
       "      <td>[nan, nan, 0.0018358257, 0.0017288909, 0.00135...</td>\n",
       "      <td>[0.033121496, 0.041370735, 0.055094175, 0.0427...</td>\n",
       "      <td>[0.0017061487, 0.0015902787, 0.0014763202, 0.0...</td>\n",
       "      <td>[0.016354451, 0.025327114, 0.028878175, 0.0222...</td>\n",
       "      <td>[0.00209533, 0.0015905038, 0.0014053435, 0.001...</td>\n",
       "    </tr>\n",
       "    <tr>\n",
       "      <th>1</th>\n",
       "      <td>rce_pilot_3</td>\n",
       "      <td>20240320_142408_alone_comp_subj_3-1_and_3-3</td>\n",
       "      <td>[[0, 75], [1273, 1472], [3269, 3470], [4467, 4...</td>\n",
       "      <td>[[0, 75], [153, 158], [252, 306], [306, 324], ...</td>\n",
       "      <td>[[0, 75], [161, 226], [255, 258], [258, 280], ...</td>\n",
       "      <td>20240320_142408_alone_comp_subj_3-1_and_3-3.2</td>\n",
       "      <td>NaN</td>\n",
       "      <td>/scratch/back_up/reward_competition_extention/...</td>\n",
       "      <td>20240320_142408_alone_comp_subj_3-1_t6b6_merged</td>\n",
       "      <td>3.1</td>\n",
       "      <td>...</td>\n",
       "      <td>[nan, 0.07223674, 0.06942491, 0.065466404, 0.0...</td>\n",
       "      <td>[nan, 0.0046885125, 0.0033377786, 0.0018332143...</td>\n",
       "      <td>[0.01945638, nan, nan, nan, 0.019393958, nan, ...</td>\n",
       "      <td>[0.0130572505, nan, nan, nan, 0.007762581, nan...</td>\n",
       "      <td>[nan, nan, 0.03636455, 0.029700823, 0.02418904...</td>\n",
       "      <td>[nan, nan, 0.0018358257, 0.0017288909, 0.00135...</td>\n",
       "      <td>[0.033121496, 0.041370735, 0.055094175, 0.0427...</td>\n",
       "      <td>[0.0017061487, 0.0015902787, 0.0014763202, 0.0...</td>\n",
       "      <td>[0.016354451, 0.025327114, 0.028878175, 0.0222...</td>\n",
       "      <td>[0.00209533, 0.0015905038, 0.0014053435, 0.001...</td>\n",
       "    </tr>\n",
       "    <tr>\n",
       "      <th>2</th>\n",
       "      <td>rce_pilot_3</td>\n",
       "      <td>20240320_142408_alone_comp_subj_3-1_and_3-3</td>\n",
       "      <td>[[0, 74], [1272, 1471], [3268, 3469], [4466, 4...</td>\n",
       "      <td>[[0, 74], [152, 157], [252, 305], [305, 323], ...</td>\n",
       "      <td>[[0, 74], [160, 225], [254, 257], [257, 279], ...</td>\n",
       "      <td>20240320_142408_alone_comp_subj_3-1_and_3-3.1</td>\n",
       "      <td>NaN</td>\n",
       "      <td>/scratch/back_up/reward_competition_extention/...</td>\n",
       "      <td>20240320_142408_alone_comp_subj_3-3_t5b5_merged</td>\n",
       "      <td>3.3</td>\n",
       "      <td>...</td>\n",
       "      <td>[0.0408452, 0.04246293, 0.04184469, nan, nan, ...</td>\n",
       "      <td>[0.0008264334, 0.0009773864, 0.0009832539, nan...</td>\n",
       "      <td>[0.024847934, 0.047361273, 0.042880192, nan, n...</td>\n",
       "      <td>[0.0006459263, 0.00090438855, 0.0010187915, na...</td>\n",
       "      <td>[0.023980794, 0.04565177, 0.03644787, nan, nan...</td>\n",
       "      <td>[0.00055783533, 0.00084574166, 0.0008706296, n...</td>\n",
       "      <td>[0.016893655, 0.027668845, 0.022960208, nan, n...</td>\n",
       "      <td>[0.0006401466, 0.0010481183, 0.0009893934, nan...</td>\n",
       "      <td>[0.021055607, 0.030588005, 0.023756983, nan, n...</td>\n",
       "      <td>[0.0008363458, 0.001157422, 0.0010688329, nan,...</td>\n",
       "    </tr>\n",
       "    <tr>\n",
       "      <th>3</th>\n",
       "      <td>rce_pilot_3</td>\n",
       "      <td>20240320_142408_alone_comp_subj_3-1_and_3-3</td>\n",
       "      <td>[[0, 75], [1273, 1472], [3269, 3470], [4467, 4...</td>\n",
       "      <td>[[0, 75], [153, 158], [252, 306], [306, 324], ...</td>\n",
       "      <td>[[0, 75], [161, 226], [255, 258], [258, 280], ...</td>\n",
       "      <td>20240320_142408_alone_comp_subj_3-1_and_3-3.2</td>\n",
       "      <td>NaN</td>\n",
       "      <td>/scratch/back_up/reward_competition_extention/...</td>\n",
       "      <td>20240320_142408_alone_comp_subj_3-3_t5b5_merged</td>\n",
       "      <td>3.3</td>\n",
       "      <td>...</td>\n",
       "      <td>[0.0408452, 0.04246293, 0.04184469, nan, nan, ...</td>\n",
       "      <td>[0.0008264334, 0.0009773864, 0.0009832539, nan...</td>\n",
       "      <td>[0.024847934, 0.047361273, 0.042880192, nan, n...</td>\n",
       "      <td>[0.0006459263, 0.00090438855, 0.0010187915, na...</td>\n",
       "      <td>[0.023980794, 0.04565177, 0.03644787, nan, nan...</td>\n",
       "      <td>[0.00055783533, 0.00084574166, 0.0008706296, n...</td>\n",
       "      <td>[0.016893655, 0.027668845, 0.022960208, nan, n...</td>\n",
       "      <td>[0.0006401466, 0.0010481183, 0.0009893934, nan...</td>\n",
       "      <td>[0.021055607, 0.030588005, 0.023756983, nan, n...</td>\n",
       "      <td>[0.0008363458, 0.001157422, 0.0010688329, nan,...</td>\n",
       "    </tr>\n",
       "    <tr>\n",
       "      <th>4</th>\n",
       "      <td>rce_pilot_3</td>\n",
       "      <td>20240320_171038_alone_comp_subj_4-2_and_4-3</td>\n",
       "      <td>[[0, 79], [1276, 1477], [3272, 3473], [4470, 4...</td>\n",
       "      <td>[[0, 79], [84, 92], [92, 132], [145, 175], [25...</td>\n",
       "      <td>[[0, 79], [79, 186], [188, 191], [191, 268], [...</td>\n",
       "      <td>20240320_171038_alone_comp_subj_4-2_and_4-3.1</td>\n",
       "      <td>NaN</td>\n",
       "      <td>/scratch/back_up/reward_competition_extention/...</td>\n",
       "      <td>20240320_171038_alone_comp_subj_4-2_t6b6_merged</td>\n",
       "      <td>4.2</td>\n",
       "      <td>...</td>\n",
       "      <td>[0.046842232, nan, nan, 0.023685867, 0.0444350...</td>\n",
       "      <td>[0.00366902, nan, nan, 0.002184509, 0.00216185...</td>\n",
       "      <td>[0.03638237, 0.03240743, nan, nan, nan, nan, 0...</td>\n",
       "      <td>[0.0023446064, 0.0023572678, nan, nan, nan, na...</td>\n",
       "      <td>[0.022580775, 0.020614795, 0.025732357, 0.0402...</td>\n",
       "      <td>[0.000938801, 0.0009402243, 0.0009571773, 0.00...</td>\n",
       "      <td>[0.035689075, 0.029545942, 0.038346574, 0.0345...</td>\n",
       "      <td>[0.0006134348, 0.00083359046, 0.00092188915, 0...</td>\n",
       "      <td>[nan, 0.028878195, 0.0361402, 0.056812976, 0.0...</td>\n",
       "      <td>[nan, 0.0015049445, 0.0015290054, 0.0016440556...</td>\n",
       "    </tr>\n",
       "  </tbody>\n",
       "</table>\n",
       "<p>5 rows × 160 columns</p>\n",
       "</div>"
      ],
      "text/plain": [
       "        cohort                                  session_dir  \\\n",
       "0  rce_pilot_3  20240320_142408_alone_comp_subj_3-1_and_3-3   \n",
       "1  rce_pilot_3  20240320_142408_alone_comp_subj_3-1_and_3-3   \n",
       "2  rce_pilot_3  20240320_142408_alone_comp_subj_3-1_and_3-3   \n",
       "3  rce_pilot_3  20240320_142408_alone_comp_subj_3-1_and_3-3   \n",
       "4  rce_pilot_3  20240320_171038_alone_comp_subj_4-2_and_4-3   \n",
       "\n",
       "                                         tone_frames  \\\n",
       "0  [[0, 74], [1272, 1471], [3268, 3469], [4466, 4...   \n",
       "1  [[0, 75], [1273, 1472], [3269, 3470], [4467, 4...   \n",
       "2  [[0, 74], [1272, 1471], [3268, 3469], [4466, 4...   \n",
       "3  [[0, 75], [1273, 1472], [3269, 3470], [4467, 4...   \n",
       "4  [[0, 79], [1276, 1477], [3272, 3473], [4470, 4...   \n",
       "\n",
       "                             box_1_port_entry_frames  \\\n",
       "0  [[0, 74], [152, 157], [252, 305], [305, 323], ...   \n",
       "1  [[0, 75], [153, 158], [252, 306], [306, 324], ...   \n",
       "2  [[0, 74], [152, 157], [252, 305], [305, 323], ...   \n",
       "3  [[0, 75], [153, 158], [252, 306], [306, 324], ...   \n",
       "4  [[0, 79], [84, 92], [92, 132], [145, 175], [25...   \n",
       "\n",
       "                             box_2_port_entry_frames  \\\n",
       "0  [[0, 74], [160, 225], [254, 257], [257, 279], ...   \n",
       "1  [[0, 75], [161, 226], [255, 258], [258, 280], ...   \n",
       "2  [[0, 74], [160, 225], [254, 257], [257, 279], ...   \n",
       "3  [[0, 75], [161, 226], [255, 258], [258, 280], ...   \n",
       "4  [[0, 79], [79, 186], [188, 191], [191, 268], [...   \n",
       "\n",
       "                                      video_name notes  \\\n",
       "0  20240320_142408_alone_comp_subj_3-1_and_3-3.1   NaN   \n",
       "1  20240320_142408_alone_comp_subj_3-1_and_3-3.2   NaN   \n",
       "2  20240320_142408_alone_comp_subj_3-1_and_3-3.1   NaN   \n",
       "3  20240320_142408_alone_comp_subj_3-1_and_3-3.2   NaN   \n",
       "4  20240320_171038_alone_comp_subj_4-2_and_4-3.1   NaN   \n",
       "\n",
       "                                        session_path  \\\n",
       "0  /scratch/back_up/reward_competition_extention/...   \n",
       "1  /scratch/back_up/reward_competition_extention/...   \n",
       "2  /scratch/back_up/reward_competition_extention/...   \n",
       "3  /scratch/back_up/reward_competition_extention/...   \n",
       "4  /scratch/back_up/reward_competition_extention/...   \n",
       "\n",
       "                                         recording current_subject  ...  \\\n",
       "0  20240320_142408_alone_comp_subj_3-1_t6b6_merged             3.1  ...   \n",
       "1  20240320_142408_alone_comp_subj_3-1_t6b6_merged             3.1  ...   \n",
       "2  20240320_142408_alone_comp_subj_3-3_t5b5_merged             3.3  ...   \n",
       "3  20240320_142408_alone_comp_subj_3-3_t5b5_merged             3.3  ...   \n",
       "4  20240320_171038_alone_comp_subj_4-2_t6b6_merged             4.2  ...   \n",
       "\n",
       "                                    vHPC_power_theta  \\\n",
       "0  [nan, 0.07223674, 0.06942491, 0.065466404, 0.0...   \n",
       "1  [nan, 0.07223674, 0.06942491, 0.065466404, 0.0...   \n",
       "2  [0.0408452, 0.04246293, 0.04184469, nan, nan, ...   \n",
       "3  [0.0408452, 0.04246293, 0.04184469, nan, nan, ...   \n",
       "4  [0.046842232, nan, nan, 0.023685867, 0.0444350...   \n",
       "\n",
       "                                    vHPC_power_gamma  \\\n",
       "0  [nan, 0.0046885125, 0.0033377786, 0.0018332143...   \n",
       "1  [nan, 0.0046885125, 0.0033377786, 0.0018332143...   \n",
       "2  [0.0008264334, 0.0009773864, 0.0009832539, nan...   \n",
       "3  [0.0008264334, 0.0009773864, 0.0009832539, nan...   \n",
       "4  [0.00366902, nan, nan, 0.002184509, 0.00216185...   \n",
       "\n",
       "                                     BLA_power_theta  \\\n",
       "0  [0.01945638, nan, nan, nan, 0.019393958, nan, ...   \n",
       "1  [0.01945638, nan, nan, nan, 0.019393958, nan, ...   \n",
       "2  [0.024847934, 0.047361273, 0.042880192, nan, n...   \n",
       "3  [0.024847934, 0.047361273, 0.042880192, nan, n...   \n",
       "4  [0.03638237, 0.03240743, nan, nan, nan, nan, 0...   \n",
       "\n",
       "                                     BLA_power_gamma  \\\n",
       "0  [0.0130572505, nan, nan, nan, 0.007762581, nan...   \n",
       "1  [0.0130572505, nan, nan, nan, 0.007762581, nan...   \n",
       "2  [0.0006459263, 0.00090438855, 0.0010187915, na...   \n",
       "3  [0.0006459263, 0.00090438855, 0.0010187915, na...   \n",
       "4  [0.0023446064, 0.0023572678, nan, nan, nan, na...   \n",
       "\n",
       "                                      LH_power_theta  \\\n",
       "0  [nan, nan, 0.03636455, 0.029700823, 0.02418904...   \n",
       "1  [nan, nan, 0.03636455, 0.029700823, 0.02418904...   \n",
       "2  [0.023980794, 0.04565177, 0.03644787, nan, nan...   \n",
       "3  [0.023980794, 0.04565177, 0.03644787, nan, nan...   \n",
       "4  [0.022580775, 0.020614795, 0.025732357, 0.0402...   \n",
       "\n",
       "                                      LH_power_gamma  \\\n",
       "0  [nan, nan, 0.0018358257, 0.0017288909, 0.00135...   \n",
       "1  [nan, nan, 0.0018358257, 0.0017288909, 0.00135...   \n",
       "2  [0.00055783533, 0.00084574166, 0.0008706296, n...   \n",
       "3  [0.00055783533, 0.00084574166, 0.0008706296, n...   \n",
       "4  [0.000938801, 0.0009402243, 0.0009571773, 0.00...   \n",
       "\n",
       "                                      MD_power_theta  \\\n",
       "0  [0.033121496, 0.041370735, 0.055094175, 0.0427...   \n",
       "1  [0.033121496, 0.041370735, 0.055094175, 0.0427...   \n",
       "2  [0.016893655, 0.027668845, 0.022960208, nan, n...   \n",
       "3  [0.016893655, 0.027668845, 0.022960208, nan, n...   \n",
       "4  [0.035689075, 0.029545942, 0.038346574, 0.0345...   \n",
       "\n",
       "                                      MD_power_gamma  \\\n",
       "0  [0.0017061487, 0.0015902787, 0.0014763202, 0.0...   \n",
       "1  [0.0017061487, 0.0015902787, 0.0014763202, 0.0...   \n",
       "2  [0.0006401466, 0.0010481183, 0.0009893934, nan...   \n",
       "3  [0.0006401466, 0.0010481183, 0.0009893934, nan...   \n",
       "4  [0.0006134348, 0.00083359046, 0.00092188915, 0...   \n",
       "\n",
       "                                    mPFC_power_theta  \\\n",
       "0  [0.016354451, 0.025327114, 0.028878175, 0.0222...   \n",
       "1  [0.016354451, 0.025327114, 0.028878175, 0.0222...   \n",
       "2  [0.021055607, 0.030588005, 0.023756983, nan, n...   \n",
       "3  [0.021055607, 0.030588005, 0.023756983, nan, n...   \n",
       "4  [nan, 0.028878195, 0.0361402, 0.056812976, 0.0...   \n",
       "\n",
       "                                    mPFC_power_gamma  \n",
       "0  [0.00209533, 0.0015905038, 0.0014053435, 0.001...  \n",
       "1  [0.00209533, 0.0015905038, 0.0014053435, 0.001...  \n",
       "2  [0.0008363458, 0.001157422, 0.0010688329, nan,...  \n",
       "3  [0.0008363458, 0.001157422, 0.0010688329, nan,...  \n",
       "4  [nan, 0.0015049445, 0.0015290054, 0.0016440556...  \n",
       "\n",
       "[5 rows x 160 columns]"
      ]
     },
     "execution_count": 18,
     "metadata": {},
     "output_type": "execute_result"
    }
   ],
   "source": [
    "LFP_SPECTRAL_DF.head()"
   ]
  },
  {
   "cell_type": "code",
   "execution_count": 19,
   "metadata": {
    "tags": []
   },
   "outputs": [],
   "source": [
    "SLEAP_DF[\"video_name\"] = SLEAP_DF[\"video_name\"].apply(lambda x: x.strip(\".videoTimeStamps.cameraHWSync\"))\n"
   ]
  },
  {
   "cell_type": "code",
   "execution_count": 20,
   "metadata": {
    "tags": []
   },
   "outputs": [],
   "source": [
    "cols_to_use = LFP_SPECTRAL_DF.columns.difference(SLEAP_DF.columns)\n",
    "merged_LFP_SPECTRAL_DF = pd.merge(SLEAP_DF, LFP_SPECTRAL_DF[list(cols_to_use) + [\"video_name\", \"current_subject\"]], on=[\"video_name\", \"current_subject\"], how=\"inner\")"
   ]
  },
  {
   "cell_type": "code",
   "execution_count": 21,
   "metadata": {
    "tags": []
   },
   "outputs": [
    {
     "data": {
      "text/html": [
       "<div>\n",
       "<style scoped>\n",
       "    .dataframe tbody tr th:only-of-type {\n",
       "        vertical-align: middle;\n",
       "    }\n",
       "\n",
       "    .dataframe tbody tr th {\n",
       "        vertical-align: top;\n",
       "    }\n",
       "\n",
       "    .dataframe thead th {\n",
       "        text-align: right;\n",
       "    }\n",
       "</style>\n",
       "<table border=\"1\" class=\"dataframe\">\n",
       "  <thead>\n",
       "    <tr style=\"text-align: right;\">\n",
       "      <th></th>\n",
       "      <th>video_name</th>\n",
       "      <th>current_subject</th>\n",
       "      <th>frame_index</th>\n",
       "      <th>tone_start_frame</th>\n",
       "      <th>tone_stop_frame</th>\n",
       "      <th>condition</th>\n",
       "      <th>competition_closeness</th>\n",
       "      <th>notes</th>\n",
       "      <th>10s_before_tone_frame</th>\n",
       "      <th>10s_after_tone_frame</th>\n",
       "      <th>...</th>\n",
       "      <th>vHPC_gamma_phase</th>\n",
       "      <th>vHPC_lfp_RMS_filtered</th>\n",
       "      <th>vHPC_lfp_trace</th>\n",
       "      <th>vHPC_mPFC_granger_all_frequencies_all_windows</th>\n",
       "      <th>vHPC_power_all_frequencies_all_windows</th>\n",
       "      <th>vHPC_power_gamma</th>\n",
       "      <th>vHPC_power_theta</th>\n",
       "      <th>vHPC_theta_band</th>\n",
       "      <th>vHPC_theta_phase</th>\n",
       "      <th>video_timestamps</th>\n",
       "    </tr>\n",
       "  </thead>\n",
       "  <tbody>\n",
       "    <tr>\n",
       "      <th>0</th>\n",
       "      <td>20240320_171038_alone_comp_subj_4-2_and_4-3.1</td>\n",
       "      <td>4.2</td>\n",
       "      <td>[34042, 34043, 34044, 34045, 34046, 34047, 340...</td>\n",
       "      <td>[34242, 34242, 34242, 34242, 34242, 34242, 342...</td>\n",
       "      <td>[34442, 34442, 34442, 34442, 34442, 34442, 344...</td>\n",
       "      <td>[4.3, 4.3, 4.3, 4.3, 4.3, 4.3, 4.3, 4.3, 4.3, ...</td>\n",
       "      <td>[After trial, After trial, After trial, After ...</td>\n",
       "      <td>[nan, nan, nan, nan, nan, nan, nan, nan, nan, ...</td>\n",
       "      <td>[34042, 34042, 34042, 34042, 34042, 34042, 340...</td>\n",
       "      <td>[34642, 34642, 34642, 34642, 34642, 34642, 346...</td>\n",
       "      <td>...</td>\n",
       "      <td>[0.023950227, 0.96471804, 1.2889154, 1.6205887...</td>\n",
       "      <td>[-0.375, -0.569, -0.786, -0.974, -1.335, -1.65...</td>\n",
       "      <td>[-74.685, -113.49, -156.78, -194.21999, -266.1...</td>\n",
       "      <td>[[nan, nan, nan, nan, nan, nan, nan, nan, nan,...</td>\n",
       "      <td>[[0.0013803464, 0.0079310145, 0.009366615, 0.0...</td>\n",
       "      <td>[0.00366902, nan, nan, 0.002184509, 0.00216185...</td>\n",
       "      <td>[0.046842232, nan, nan, 0.023685867, 0.0444350...</td>\n",
       "      <td>[-0.37066078, -0.35752764, -0.3432352, -0.3277...</td>\n",
       "      <td>[2.7155704, -2.8761566, -2.806554, -2.548516, ...</td>\n",
       "      <td>[1384, 2770, 4156, 4156, 5541, 6927, 6927, 831...</td>\n",
       "    </tr>\n",
       "    <tr>\n",
       "      <th>1</th>\n",
       "      <td>20240320_171038_alone_comp_subj_4-2_and_4-3.1</td>\n",
       "      <td>4.3</td>\n",
       "      <td>[34042, 34043, 34044, 34045, 34046, 34047, 340...</td>\n",
       "      <td>[34242, 34242, 34242, 34242, 34242, 34242, 342...</td>\n",
       "      <td>[34442, 34442, 34442, 34442, 34442, 34442, 344...</td>\n",
       "      <td>[4.3, 4.3, 4.3, 4.3, 4.3, 4.3, 4.3, 4.3, 4.3, ...</td>\n",
       "      <td>[After trial, After trial, After trial, After ...</td>\n",
       "      <td>[nan, nan, nan, nan, nan, nan, nan, nan, nan, ...</td>\n",
       "      <td>[34042, 34042, 34042, 34042, 34042, 34042, 340...</td>\n",
       "      <td>[34642, 34642, 34642, 34642, 34642, 34642, 346...</td>\n",
       "      <td>...</td>\n",
       "      <td>[2.0565047, 2.3807256, 2.6063833, 2.87997, 3.1...</td>\n",
       "      <td>[0.254, 0.382, 0.505, 0.664, 0.985, 0.99, 0.61...</td>\n",
       "      <td>[53.234997, 80.145, 106.079994, 139.42499, 206...</td>\n",
       "      <td>[[2.7552054, 1.5484817, 2.318468, 0.67259854, ...</td>\n",
       "      <td>[[0.001118467, 0.0013452128, 0.009780567, 0.01...</td>\n",
       "      <td>[0.0017462745, 0.0017710698, 0.0011198351, 0.0...</td>\n",
       "      <td>[0.031059334, 0.026878728, 0.018851878, 0.0271...</td>\n",
       "      <td>[0.49282554, 0.4864071, 0.47833988, 0.46862525...</td>\n",
       "      <td>[-0.7696023, -0.28357738, -0.24996911, 0.00574...</td>\n",
       "      <td>[1384, 2770, 4156, 4156, 5541, 6927, 6927, 831...</td>\n",
       "    </tr>\n",
       "    <tr>\n",
       "      <th>2</th>\n",
       "      <td>20240322_120625_alone_comp_subj_3-3_and_3-4.1</td>\n",
       "      <td>3.3</td>\n",
       "      <td>[34069, 34070, 34071, 34072, 34073, 34074, 340...</td>\n",
       "      <td>[34269, 34269, 34269, 34269, 34269, 34269, 342...</td>\n",
       "      <td>[34468, 34468, 34468, 34468, 34468, 34468, 344...</td>\n",
       "      <td>[3.4, 3.4, 3.4, 3.4, 3.4, 3.4, 3.4, 3.4, 3.4, ...</td>\n",
       "      <td>[Subj 1 then Subj 2, Subj 1 then Subj 2, Subj ...</td>\n",
       "      <td>[nan, nan, nan, nan, nan, nan, nan, nan, nan, ...</td>\n",
       "      <td>[34069, 34069, 34069, 34069, 34069, 34069, 340...</td>\n",
       "      <td>[34668, 34668, 34668, 34668, 34668, 34668, 346...</td>\n",
       "      <td>...</td>\n",
       "      <td>[0.011866312, 0.9828468, 1.330576, 1.6782773, ...</td>\n",
       "      <td>[0.027, -0.017, -0.073, -0.221, -0.433, -0.49,...</td>\n",
       "      <td>[3.5099998, -2.145, -9.36, -28.275, -55.379997...</td>\n",
       "      <td>[[0.009626778, 0.042104572, 0.26073232, 0.0171...</td>\n",
       "      <td>[[0.032633882, 0.034465823, 0.037538365, 0.026...</td>\n",
       "      <td>[0.0021949317, 0.0022116762, 0.0016394572, nan...</td>\n",
       "      <td>[0.03049053, 0.017763153, 0.024036832, nan, na...</td>\n",
       "      <td>[0.20751306, 0.24045162, 0.27310878, 0.3053482...</td>\n",
       "      <td>[-1.2177873, -1.0926981, -1.0485686, -0.963749...</td>\n",
       "      <td>[1384, 1983, 2770, 4156, 5541, 5541, 6927, 831...</td>\n",
       "    </tr>\n",
       "    <tr>\n",
       "      <th>3</th>\n",
       "      <td>20240322_120625_alone_comp_subj_3-3_and_3-4.1</td>\n",
       "      <td>3.4</td>\n",
       "      <td>[34069, 34070, 34071, 34072, 34073, 34074, 340...</td>\n",
       "      <td>[34269, 34269, 34269, 34269, 34269, 34269, 342...</td>\n",
       "      <td>[34468, 34468, 34468, 34468, 34468, 34468, 344...</td>\n",
       "      <td>[3.4, 3.4, 3.4, 3.4, 3.4, 3.4, 3.4, 3.4, 3.4, ...</td>\n",
       "      <td>[Subj 1 then Subj 2, Subj 1 then Subj 2, Subj ...</td>\n",
       "      <td>[nan, nan, nan, nan, nan, nan, nan, nan, nan, ...</td>\n",
       "      <td>[34069, 34069, 34069, 34069, 34069, 34069, 340...</td>\n",
       "      <td>[34668, 34668, 34668, 34668, 34668, 34668, 346...</td>\n",
       "      <td>...</td>\n",
       "      <td>[2.5774395, -3.0006855, -2.8295147, -2.449566,...</td>\n",
       "      <td>[0.032, -0.283, 0.276, 0.578, -0.641, -0.791, ...</td>\n",
       "      <td>[3.705, -32.37, 31.589998, 66.104996, -73.32, ...</td>\n",
       "      <td>[[nan, nan, nan, nan, nan, nan, nan, nan, nan,...</td>\n",
       "      <td>[[0.040690776, 0.03892651, 0.032306284, 0.0133...</td>\n",
       "      <td>[0.002786819, 0.0025729614, 0.0028866376, 0.00...</td>\n",
       "      <td>[0.0126365535, 0.011473266, 0.015836226, 0.026...</td>\n",
       "      <td>[0.491885, 0.4842932, 0.47509313, 0.4642877, 0...</td>\n",
       "      <td>[-0.773838, -0.28928056, -0.25523737, 0.002492...</td>\n",
       "      <td>[1384, 1983, 2770, 4156, 5541, 5541, 6927, 831...</td>\n",
       "    </tr>\n",
       "    <tr>\n",
       "      <th>4</th>\n",
       "      <td>20240322_160946_alone_comp_subj_4-3_and_4-4.1</td>\n",
       "      <td>4.3</td>\n",
       "      <td>[34063, 34064, 34065, 34066, 34067, 34068, 340...</td>\n",
       "      <td>[34263, 34263, 34263, 34263, 34263, 34263, 342...</td>\n",
       "      <td>[34462, 34462, 34462, 34462, 34462, 34462, 344...</td>\n",
       "      <td>[4.3, 4.3, 4.3, 4.3, 4.3, 4.3, 4.3, 4.3, 4.3, ...</td>\n",
       "      <td>[Subj 1 blocking Subj 2, Subj 1 blocking Subj ...</td>\n",
       "      <td>[4.3 got reward at 34433, 4.3 got reward at 34...</td>\n",
       "      <td>[34063, 34063, 34063, 34063, 34063, 34063, 340...</td>\n",
       "      <td>[34662, 34662, 34662, 34662, 34662, 34662, 346...</td>\n",
       "      <td>...</td>\n",
       "      <td>[-0.53177047, 0.1905231, 0.35050467, 0.7170078...</td>\n",
       "      <td>[0.68, 0.704, 0.693, 0.66, 0.634, 0.541, 0.443...</td>\n",
       "      <td>[145.47, 150.735, 148.2, 141.18, 135.72, 115.8...</td>\n",
       "      <td>[[0.7224885, 0.7782183, 0.75218856, 2.2805634,...</td>\n",
       "      <td>[[0.018642105, 0.014985245, 0.071603484, 0.088...</td>\n",
       "      <td>[0.0014527348, 0.0017514509, 0.0017265382, 0.0...</td>\n",
       "      <td>[0.04934767, 0.043050382, 0.04412556, 0.046400...</td>\n",
       "      <td>[-0.3856073, -0.4121907, -0.43901566, -0.46598...</td>\n",
       "      <td>[2.0593038, 2.2542338, 2.277145, 2.384784, 2.4...</td>\n",
       "      <td>[1384, 1384, 2769, 4155, 5214, 5541, 6927, 831...</td>\n",
       "    </tr>\n",
       "  </tbody>\n",
       "</table>\n",
       "<p>5 rows × 200 columns</p>\n",
       "</div>"
      ],
      "text/plain": [
       "                                      video_name current_subject  \\\n",
       "0  20240320_171038_alone_comp_subj_4-2_and_4-3.1             4.2   \n",
       "1  20240320_171038_alone_comp_subj_4-2_and_4-3.1             4.3   \n",
       "2  20240322_120625_alone_comp_subj_3-3_and_3-4.1             3.3   \n",
       "3  20240322_120625_alone_comp_subj_3-3_and_3-4.1             3.4   \n",
       "4  20240322_160946_alone_comp_subj_4-3_and_4-4.1             4.3   \n",
       "\n",
       "                                         frame_index  \\\n",
       "0  [34042, 34043, 34044, 34045, 34046, 34047, 340...   \n",
       "1  [34042, 34043, 34044, 34045, 34046, 34047, 340...   \n",
       "2  [34069, 34070, 34071, 34072, 34073, 34074, 340...   \n",
       "3  [34069, 34070, 34071, 34072, 34073, 34074, 340...   \n",
       "4  [34063, 34064, 34065, 34066, 34067, 34068, 340...   \n",
       "\n",
       "                                    tone_start_frame  \\\n",
       "0  [34242, 34242, 34242, 34242, 34242, 34242, 342...   \n",
       "1  [34242, 34242, 34242, 34242, 34242, 34242, 342...   \n",
       "2  [34269, 34269, 34269, 34269, 34269, 34269, 342...   \n",
       "3  [34269, 34269, 34269, 34269, 34269, 34269, 342...   \n",
       "4  [34263, 34263, 34263, 34263, 34263, 34263, 342...   \n",
       "\n",
       "                                     tone_stop_frame  \\\n",
       "0  [34442, 34442, 34442, 34442, 34442, 34442, 344...   \n",
       "1  [34442, 34442, 34442, 34442, 34442, 34442, 344...   \n",
       "2  [34468, 34468, 34468, 34468, 34468, 34468, 344...   \n",
       "3  [34468, 34468, 34468, 34468, 34468, 34468, 344...   \n",
       "4  [34462, 34462, 34462, 34462, 34462, 34462, 344...   \n",
       "\n",
       "                                          condition   \\\n",
       "0  [4.3, 4.3, 4.3, 4.3, 4.3, 4.3, 4.3, 4.3, 4.3, ...   \n",
       "1  [4.3, 4.3, 4.3, 4.3, 4.3, 4.3, 4.3, 4.3, 4.3, ...   \n",
       "2  [3.4, 3.4, 3.4, 3.4, 3.4, 3.4, 3.4, 3.4, 3.4, ...   \n",
       "3  [3.4, 3.4, 3.4, 3.4, 3.4, 3.4, 3.4, 3.4, 3.4, ...   \n",
       "4  [4.3, 4.3, 4.3, 4.3, 4.3, 4.3, 4.3, 4.3, 4.3, ...   \n",
       "\n",
       "                               competition_closeness  \\\n",
       "0  [After trial, After trial, After trial, After ...   \n",
       "1  [After trial, After trial, After trial, After ...   \n",
       "2  [Subj 1 then Subj 2, Subj 1 then Subj 2, Subj ...   \n",
       "3  [Subj 1 then Subj 2, Subj 1 then Subj 2, Subj ...   \n",
       "4  [Subj 1 blocking Subj 2, Subj 1 blocking Subj ...   \n",
       "\n",
       "                                               notes  \\\n",
       "0  [nan, nan, nan, nan, nan, nan, nan, nan, nan, ...   \n",
       "1  [nan, nan, nan, nan, nan, nan, nan, nan, nan, ...   \n",
       "2  [nan, nan, nan, nan, nan, nan, nan, nan, nan, ...   \n",
       "3  [nan, nan, nan, nan, nan, nan, nan, nan, nan, ...   \n",
       "4  [4.3 got reward at 34433, 4.3 got reward at 34...   \n",
       "\n",
       "                               10s_before_tone_frame  \\\n",
       "0  [34042, 34042, 34042, 34042, 34042, 34042, 340...   \n",
       "1  [34042, 34042, 34042, 34042, 34042, 34042, 340...   \n",
       "2  [34069, 34069, 34069, 34069, 34069, 34069, 340...   \n",
       "3  [34069, 34069, 34069, 34069, 34069, 34069, 340...   \n",
       "4  [34063, 34063, 34063, 34063, 34063, 34063, 340...   \n",
       "\n",
       "                                10s_after_tone_frame  ...  \\\n",
       "0  [34642, 34642, 34642, 34642, 34642, 34642, 346...  ...   \n",
       "1  [34642, 34642, 34642, 34642, 34642, 34642, 346...  ...   \n",
       "2  [34668, 34668, 34668, 34668, 34668, 34668, 346...  ...   \n",
       "3  [34668, 34668, 34668, 34668, 34668, 34668, 346...  ...   \n",
       "4  [34662, 34662, 34662, 34662, 34662, 34662, 346...  ...   \n",
       "\n",
       "                                    vHPC_gamma_phase  \\\n",
       "0  [0.023950227, 0.96471804, 1.2889154, 1.6205887...   \n",
       "1  [2.0565047, 2.3807256, 2.6063833, 2.87997, 3.1...   \n",
       "2  [0.011866312, 0.9828468, 1.330576, 1.6782773, ...   \n",
       "3  [2.5774395, -3.0006855, -2.8295147, -2.449566,...   \n",
       "4  [-0.53177047, 0.1905231, 0.35050467, 0.7170078...   \n",
       "\n",
       "                               vHPC_lfp_RMS_filtered  \\\n",
       "0  [-0.375, -0.569, -0.786, -0.974, -1.335, -1.65...   \n",
       "1  [0.254, 0.382, 0.505, 0.664, 0.985, 0.99, 0.61...   \n",
       "2  [0.027, -0.017, -0.073, -0.221, -0.433, -0.49,...   \n",
       "3  [0.032, -0.283, 0.276, 0.578, -0.641, -0.791, ...   \n",
       "4  [0.68, 0.704, 0.693, 0.66, 0.634, 0.541, 0.443...   \n",
       "\n",
       "                                      vHPC_lfp_trace  \\\n",
       "0  [-74.685, -113.49, -156.78, -194.21999, -266.1...   \n",
       "1  [53.234997, 80.145, 106.079994, 139.42499, 206...   \n",
       "2  [3.5099998, -2.145, -9.36, -28.275, -55.379997...   \n",
       "3  [3.705, -32.37, 31.589998, 66.104996, -73.32, ...   \n",
       "4  [145.47, 150.735, 148.2, 141.18, 135.72, 115.8...   \n",
       "\n",
       "       vHPC_mPFC_granger_all_frequencies_all_windows  \\\n",
       "0  [[nan, nan, nan, nan, nan, nan, nan, nan, nan,...   \n",
       "1  [[2.7552054, 1.5484817, 2.318468, 0.67259854, ...   \n",
       "2  [[0.009626778, 0.042104572, 0.26073232, 0.0171...   \n",
       "3  [[nan, nan, nan, nan, nan, nan, nan, nan, nan,...   \n",
       "4  [[0.7224885, 0.7782183, 0.75218856, 2.2805634,...   \n",
       "\n",
       "              vHPC_power_all_frequencies_all_windows  \\\n",
       "0  [[0.0013803464, 0.0079310145, 0.009366615, 0.0...   \n",
       "1  [[0.001118467, 0.0013452128, 0.009780567, 0.01...   \n",
       "2  [[0.032633882, 0.034465823, 0.037538365, 0.026...   \n",
       "3  [[0.040690776, 0.03892651, 0.032306284, 0.0133...   \n",
       "4  [[0.018642105, 0.014985245, 0.071603484, 0.088...   \n",
       "\n",
       "                                    vHPC_power_gamma  \\\n",
       "0  [0.00366902, nan, nan, 0.002184509, 0.00216185...   \n",
       "1  [0.0017462745, 0.0017710698, 0.0011198351, 0.0...   \n",
       "2  [0.0021949317, 0.0022116762, 0.0016394572, nan...   \n",
       "3  [0.002786819, 0.0025729614, 0.0028866376, 0.00...   \n",
       "4  [0.0014527348, 0.0017514509, 0.0017265382, 0.0...   \n",
       "\n",
       "                                    vHPC_power_theta  \\\n",
       "0  [0.046842232, nan, nan, 0.023685867, 0.0444350...   \n",
       "1  [0.031059334, 0.026878728, 0.018851878, 0.0271...   \n",
       "2  [0.03049053, 0.017763153, 0.024036832, nan, na...   \n",
       "3  [0.0126365535, 0.011473266, 0.015836226, 0.026...   \n",
       "4  [0.04934767, 0.043050382, 0.04412556, 0.046400...   \n",
       "\n",
       "                                     vHPC_theta_band  \\\n",
       "0  [-0.37066078, -0.35752764, -0.3432352, -0.3277...   \n",
       "1  [0.49282554, 0.4864071, 0.47833988, 0.46862525...   \n",
       "2  [0.20751306, 0.24045162, 0.27310878, 0.3053482...   \n",
       "3  [0.491885, 0.4842932, 0.47509313, 0.4642877, 0...   \n",
       "4  [-0.3856073, -0.4121907, -0.43901566, -0.46598...   \n",
       "\n",
       "                                    vHPC_theta_phase  \\\n",
       "0  [2.7155704, -2.8761566, -2.806554, -2.548516, ...   \n",
       "1  [-0.7696023, -0.28357738, -0.24996911, 0.00574...   \n",
       "2  [-1.2177873, -1.0926981, -1.0485686, -0.963749...   \n",
       "3  [-0.773838, -0.28928056, -0.25523737, 0.002492...   \n",
       "4  [2.0593038, 2.2542338, 2.277145, 2.384784, 2.4...   \n",
       "\n",
       "                                    video_timestamps  \n",
       "0  [1384, 2770, 4156, 4156, 5541, 6927, 6927, 831...  \n",
       "1  [1384, 2770, 4156, 4156, 5541, 6927, 6927, 831...  \n",
       "2  [1384, 1983, 2770, 4156, 5541, 5541, 6927, 831...  \n",
       "3  [1384, 1983, 2770, 4156, 5541, 5541, 6927, 831...  \n",
       "4  [1384, 1384, 2769, 4155, 5214, 5541, 6927, 831...  \n",
       "\n",
       "[5 rows x 200 columns]"
      ]
     },
     "execution_count": 21,
     "metadata": {},
     "output_type": "execute_result"
    }
   ],
   "source": [
    "merged_LFP_SPECTRAL_DF.head()"
   ]
  },
  {
   "cell_type": "markdown",
   "metadata": {},
   "source": [
    "## Getting the timestamps of each cluster frame"
   ]
  },
  {
   "cell_type": "code",
   "execution_count": 22,
   "metadata": {},
   "outputs": [
    {
     "data": {
      "text/plain": [
       "array([34042, 34043, 34044, ..., 61590, 61591, 61592])"
      ]
     },
     "execution_count": 22,
     "metadata": {},
     "output_type": "execute_result"
    }
   ],
   "source": [
    "merged_LFP_SPECTRAL_DF[\"frame_index\"].iloc[0]"
   ]
  },
  {
   "cell_type": "code",
   "execution_count": 23,
   "metadata": {
    "tags": []
   },
   "outputs": [
    {
     "data": {
      "text/plain": [
       "array([    1384,     2770,     4156, ..., 64384726, 64384726, 64386112],\n",
       "      dtype=int32)"
      ]
     },
     "execution_count": 23,
     "metadata": {},
     "output_type": "execute_result"
    }
   ],
   "source": [
    "merged_LFP_SPECTRAL_DF[\"video_timestamps\"].iloc[0]"
   ]
  },
  {
   "cell_type": "code",
   "execution_count": 24,
   "metadata": {},
   "outputs": [],
   "source": [
    "merged_LFP_SPECTRAL_DF[\"cluster_timestamp\"] = merged_LFP_SPECTRAL_DF.apply(lambda x: x[\"video_timestamps\"][x[\"frame_index\"]], axis=1)\n"
   ]
  },
  {
   "cell_type": "code",
   "execution_count": 25,
   "metadata": {},
   "outputs": [
    {
     "data": {
      "text/plain": [
       "0    [34079916, 34081302, 34082688, 34084074, 34084...\n",
       "1    [34079916, 34081302, 34082688, 34084074, 34084...\n",
       "2    [34103476, 34104862, 34106248, 34106248, 34107...\n",
       "3    [34103476, 34104862, 34106248, 34106248, 34107...\n",
       "4    [34096547, 34097933, 34098977, 34099318, 34100...\n",
       "Name: cluster_timestamp, dtype: object"
      ]
     },
     "execution_count": 25,
     "metadata": {},
     "output_type": "execute_result"
    }
   ],
   "source": [
    "merged_LFP_SPECTRAL_DF[\"cluster_timestamp\"].head()"
   ]
  },
  {
   "cell_type": "markdown",
   "metadata": {},
   "source": [
    "- Checking if the cluster timestamp shape matches the actual number of clusters"
   ]
  },
  {
   "cell_type": "code",
   "execution_count": 26,
   "metadata": {},
   "outputs": [
    {
     "data": {
      "text/plain": [
       "0    (12593,)\n",
       "1    (12593,)\n",
       "2    (12591,)\n",
       "3    (12591,)\n",
       "4    (12593,)\n",
       "Name: cluster_timestamp, dtype: object"
      ]
     },
     "execution_count": 26,
     "metadata": {},
     "output_type": "execute_result"
    }
   ],
   "source": [
    "merged_LFP_SPECTRAL_DF[\"cluster_timestamp\"].apply(lambda x: x.shape).head()"
   ]
  },
  {
   "cell_type": "code",
   "execution_count": 27,
   "metadata": {},
   "outputs": [
    {
     "data": {
      "text/plain": [
       "0    [2, 2, 2, 2, 2, 1, 1, 1, 1, 1, 1, 1, 1, 1, 6, ...\n",
       "1    [2, 2, 2, 2, 2, 1, 1, 1, 1, 1, 1, 1, 1, 1, 6, ...\n",
       "2    [4, 2, 2, 2, 2, 2, 2, 2, 2, 2, 2, 2, 2, 2, 2, ...\n",
       "3    [4, 2, 2, 2, 2, 2, 2, 2, 2, 2, 2, 2, 2, 2, 2, ...\n",
       "4    [2, 2, 2, 2, 2, 2, 2, 2, 2, 2, 2, 2, 2, 2, 1, ...\n",
       "Name: kmeans_cluster, dtype: object"
      ]
     },
     "execution_count": 27,
     "metadata": {},
     "output_type": "execute_result"
    }
   ],
   "source": [
    "merged_LFP_SPECTRAL_DF[\"kmeans_cluster\"].head()"
   ]
  },
  {
   "cell_type": "code",
   "execution_count": 28,
   "metadata": {},
   "outputs": [
    {
     "data": {
      "text/plain": [
       "0    (12593,)\n",
       "1    (12593,)\n",
       "2    (12591,)\n",
       "3    (12591,)\n",
       "4    (12593,)\n",
       "Name: kmeans_cluster, dtype: object"
      ]
     },
     "execution_count": 28,
     "metadata": {},
     "output_type": "execute_result"
    }
   ],
   "source": [
    "merged_LFP_SPECTRAL_DF[\"kmeans_cluster\"].apply(lambda x: x.shape).head()"
   ]
  },
  {
   "cell_type": "code",
   "execution_count": 29,
   "metadata": {
    "tags": []
   },
   "outputs": [
    {
     "data": {
      "text/plain": [
       "'rce_pilot_3_alone_comp_04_spectral_and_sleap.pkl'"
      ]
     },
     "execution_count": 29,
     "metadata": {},
     "output_type": "execute_result"
    }
   ],
   "source": [
    "FULL_LFP_TRACES_PKL"
   ]
  },
  {
   "cell_type": "code",
   "execution_count": 30,
   "metadata": {
    "tags": []
   },
   "outputs": [],
   "source": [
    "merged_LFP_SPECTRAL_DF.to_pickle(os.path.join(OUTPUT_DIR, FULL_LFP_TRACES_PKL))\n"
   ]
  },
  {
   "cell_type": "code",
   "execution_count": 31,
   "metadata": {
    "tags": []
   },
   "outputs": [
    {
     "data": {
      "text/plain": [
       "(10, 201)"
      ]
     },
     "execution_count": 31,
     "metadata": {},
     "output_type": "execute_result"
    }
   ],
   "source": [
    "merged_LFP_SPECTRAL_DF.shape"
   ]
  },
  {
   "cell_type": "code",
   "execution_count": 32,
   "metadata": {
    "tags": []
   },
   "outputs": [
    {
     "data": {
      "text/plain": [
       "['video_name',\n",
       " 'current_subject',\n",
       " 'frame_index',\n",
       " 'tone_start_frame',\n",
       " 'tone_stop_frame',\n",
       " 'condition ',\n",
       " 'competition_closeness',\n",
       " 'notes',\n",
       " '10s_before_tone_frame',\n",
       " '10s_after_tone_frame',\n",
       " 'subject_thorax_to_agent_thorax',\n",
       " 'nose_to_reward_port_sum',\n",
       " 'nose_to_reward_port_diff',\n",
       " 'thorax_velocity_sum',\n",
       " 'thorax_velocity_diff',\n",
       " 'to_reward_port_angle_sum',\n",
       " 'to_reward_port_angle_diff',\n",
       " 'subject_nose_to_reward_port',\n",
       " 'subject_thorax_velocity',\n",
       " 'subject_to_reward_port_angle',\n",
       " 'agent_nose_to_reward_port',\n",
       " 'agent_thorax_velocity',\n",
       " 'agent_to_reward_port_angle',\n",
       " 'closebool_subject_nose_to_reward_port',\n",
       " 'closebool_agent_nose_to_reward_port',\n",
       " 'movingbool_subject_thorax_velocity',\n",
       " 'movingbool_agent_thorax_velocity',\n",
       " 'manual_cluster_id',\n",
       " 'standard_embedding_x',\n",
       " 'standard_embedding_y',\n",
       " 'kmeans_cluster',\n",
       " 'subject_locations',\n",
       " 'agent_locations',\n",
       " 'subject_thorax',\n",
       " 'subject_nose',\n",
       " 'subject_tail_base',\n",
       " 'agent_thorax',\n",
       " 'agent_nose',\n",
       " 'agent_tail_base',\n",
       " 'session_dir',\n",
       " 'experiment',\n",
       " 'sleap_name',\n",
       " 'video_id',\n",
       " 'agent']"
      ]
     },
     "execution_count": 32,
     "metadata": {},
     "output_type": "execute_result"
    }
   ],
   "source": [
    "list(SLEAP_DF.columns)"
   ]
  },
  {
   "cell_type": "code",
   "execution_count": 33,
   "metadata": {
    "tags": []
   },
   "outputs": [
    {
     "data": {
      "text/plain": [
       "array(['20240320_171038_alone_comp_subj_4-2_t6b6_merged',\n",
       "       '20240320_171038_alone_comp_subj_4-3_t5b5_merged',\n",
       "       '20240322_120625_alone_comp_subj_3-3_t6b6_merged',\n",
       "       '20240322_120625_alone_comp_subj_3-4_t5b5_merged',\n",
       "       '20240322_160946_alone_comp_subj_4-3_t6b6_merged',\n",
       "       '20240322_160946_alone_comp_subj_4-4_t5b5_merged',\n",
       "       '20240323_144517_alone_comp_subj_3-1_t5b5_merged',\n",
       "       '20240323_144517_alone_comp_subj_3-4_t6b6_merged',\n",
       "       '20240323_165815_alone_comp_subj_4-2_t5b5_merged',\n",
       "       '20240323_165815_alone_comp_subj_4-4_t6b6_merged'], dtype=object)"
      ]
     },
     "execution_count": 33,
     "metadata": {},
     "output_type": "execute_result"
    }
   ],
   "source": [
    "merged_LFP_SPECTRAL_DF[\"recording\"].unique()"
   ]
  },
  {
   "cell_type": "code",
   "execution_count": 34,
   "metadata": {},
   "outputs": [
    {
     "data": {
      "text/plain": [
       "Index(['video_name', 'current_subject', 'frame_index', 'tone_start_frame',\n",
       "       'tone_stop_frame', 'condition ', 'competition_closeness', 'notes',\n",
       "       '10s_before_tone_frame', '10s_after_tone_frame',\n",
       "       ...\n",
       "       'vHPC_lfp_RMS_filtered', 'vHPC_lfp_trace',\n",
       "       'vHPC_mPFC_granger_all_frequencies_all_windows',\n",
       "       'vHPC_power_all_frequencies_all_windows', 'vHPC_power_gamma',\n",
       "       'vHPC_power_theta', 'vHPC_theta_band', 'vHPC_theta_phase',\n",
       "       'video_timestamps', 'cluster_timestamp'],\n",
       "      dtype='object', length=201)"
      ]
     },
     "execution_count": 34,
     "metadata": {},
     "output_type": "execute_result"
    }
   ],
   "source": [
    "merged_LFP_SPECTRAL_DF.columns"
   ]
  },
  {
   "cell_type": "markdown",
   "metadata": {
    "tags": []
   },
   "source": [
    "# Finding the ranges of each cluster"
   ]
  },
  {
   "cell_type": "code",
   "execution_count": 35,
   "metadata": {
    "tags": []
   },
   "outputs": [
    {
     "name": "stdout",
     "output_type": "stream",
     "text": [
      "video_name\n",
      "current_subject\n",
      "frame_index\n",
      "tone_start_frame\n",
      "tone_stop_frame\n",
      "condition \n",
      "competition_closeness\n",
      "notes\n",
      "10s_before_tone_frame\n",
      "10s_after_tone_frame\n",
      "subject_thorax_to_agent_thorax\n",
      "nose_to_reward_port_sum\n",
      "nose_to_reward_port_diff\n",
      "thorax_velocity_sum\n",
      "thorax_velocity_diff\n",
      "to_reward_port_angle_sum\n",
      "to_reward_port_angle_diff\n",
      "subject_nose_to_reward_port\n",
      "subject_thorax_velocity\n",
      "subject_to_reward_port_angle\n",
      "agent_nose_to_reward_port\n",
      "agent_thorax_velocity\n",
      "agent_to_reward_port_angle\n",
      "closebool_subject_nose_to_reward_port\n",
      "closebool_agent_nose_to_reward_port\n",
      "movingbool_subject_thorax_velocity\n",
      "movingbool_agent_thorax_velocity\n",
      "manual_cluster_id\n",
      "standard_embedding_x\n",
      "standard_embedding_y\n",
      "kmeans_cluster\n",
      "subject_locations\n",
      "agent_locations\n",
      "subject_thorax\n",
      "subject_nose\n",
      "subject_tail_base\n",
      "agent_thorax\n",
      "agent_nose\n",
      "agent_tail_base\n",
      "session_dir\n",
      "experiment\n",
      "sleap_name\n",
      "video_id\n",
      "agent\n",
      "BLA-to-LH_granger_gamma\n",
      "BLA-to-LH_granger_theta\n",
      "BLA-to-MD_granger_gamma\n",
      "BLA-to-MD_granger_theta\n",
      "BLA-to-mPFC_granger_gamma\n",
      "BLA-to-mPFC_granger_theta\n",
      "BLA-to-vHPC_granger_gamma\n",
      "BLA-to-vHPC_granger_theta\n",
      "BLA_LH_coherence_all_frequencies_all_windows\n",
      "BLA_LH_coherence_gamma\n",
      "BLA_LH_coherence_theta\n",
      "BLA_LH_granger_all_frequencies_all_windows\n",
      "BLA_MD_coherence_all_frequencies_all_windows\n",
      "BLA_MD_coherence_gamma\n",
      "BLA_MD_coherence_theta\n",
      "BLA_MD_granger_all_frequencies_all_windows\n",
      "BLA_gamma_band\n",
      "BLA_gamma_phase\n",
      "BLA_lfp_RMS_filtered\n",
      "BLA_lfp_trace\n",
      "BLA_mPFC_coherence_all_frequencies_all_windows\n",
      "BLA_mPFC_coherence_gamma\n",
      "BLA_mPFC_coherence_theta\n",
      "BLA_mPFC_granger_all_frequencies_all_windows\n",
      "BLA_power_all_frequencies_all_windows\n",
      "BLA_power_gamma\n",
      "BLA_power_theta\n",
      "BLA_theta_band\n",
      "BLA_theta_phase\n",
      "BLA_vHPC_coherence_all_frequencies_all_windows\n",
      "BLA_vHPC_coherence_gamma\n",
      "BLA_vHPC_coherence_theta\n",
      "BLA_vHPC_granger_all_frequencies_all_windows\n",
      "LH-to-BLA_granger_gamma\n",
      "LH-to-BLA_granger_theta\n",
      "LH-to-MD_granger_gamma\n",
      "LH-to-MD_granger_theta\n",
      "LH-to-mPFC_granger_gamma\n",
      "LH-to-mPFC_granger_theta\n",
      "LH-to-vHPC_granger_gamma\n",
      "LH-to-vHPC_granger_theta\n",
      "LH_BLA_granger_all_frequencies_all_windows\n",
      "LH_MD_coherence_all_frequencies_all_windows\n",
      "LH_MD_coherence_gamma\n",
      "LH_MD_coherence_theta\n",
      "LH_MD_granger_all_frequencies_all_windows\n",
      "LH_gamma_band\n",
      "LH_gamma_phase\n",
      "LH_lfp_RMS_filtered\n",
      "LH_lfp_trace\n",
      "LH_mPFC_coherence_all_frequencies_all_windows\n",
      "LH_mPFC_coherence_gamma\n",
      "LH_mPFC_coherence_theta\n",
      "LH_mPFC_granger_all_frequencies_all_windows\n",
      "LH_power_all_frequencies_all_windows\n",
      "LH_power_gamma\n",
      "LH_power_theta\n",
      "LH_theta_band\n",
      "LH_theta_phase\n",
      "LH_vHPC_coherence_all_frequencies_all_windows\n",
      "LH_vHPC_coherence_gamma\n",
      "LH_vHPC_coherence_theta\n",
      "LH_vHPC_granger_all_frequencies_all_windows\n",
      "MD-to-BLA_granger_gamma\n",
      "MD-to-BLA_granger_theta\n",
      "MD-to-LH_granger_gamma\n",
      "MD-to-LH_granger_theta\n",
      "MD-to-mPFC_granger_gamma\n",
      "MD-to-mPFC_granger_theta\n",
      "MD-to-vHPC_granger_gamma\n",
      "MD-to-vHPC_granger_theta\n",
      "MD_BLA_granger_all_frequencies_all_windows\n",
      "MD_LH_granger_all_frequencies_all_windows\n",
      "MD_gamma_band\n",
      "MD_gamma_phase\n",
      "MD_lfp_RMS_filtered\n",
      "MD_lfp_trace\n",
      "MD_mPFC_coherence_all_frequencies_all_windows\n",
      "MD_mPFC_coherence_gamma\n",
      "MD_mPFC_coherence_theta\n",
      "MD_mPFC_granger_all_frequencies_all_windows\n",
      "MD_power_all_frequencies_all_windows\n",
      "MD_power_gamma\n",
      "MD_power_theta\n",
      "MD_theta_band\n",
      "MD_theta_phase\n",
      "MD_vHPC_coherence_all_frequencies_all_windows\n",
      "MD_vHPC_coherence_gamma\n",
      "MD_vHPC_coherence_theta\n",
      "MD_vHPC_granger_all_frequencies_all_windows\n",
      "all_subjects\n",
      "box_1_port_entry_frames\n",
      "box_1_port_entry_timestamps\n",
      "box_2_port_entry_frames\n",
      "box_2_port_entry_timestamps\n",
      "coherence_calculation_frequencies\n",
      "coherence_timestamps\n",
      "cohort\n",
      "first_timestamp\n",
      "granger_calculation_frequencies\n",
      "granger_timestamps\n",
      "last_timestamp\n",
      "lfp_timestamps\n",
      "mPFC-to-BLA_granger_gamma\n",
      "mPFC-to-BLA_granger_theta\n",
      "mPFC-to-LH_granger_gamma\n",
      "mPFC-to-LH_granger_theta\n",
      "mPFC-to-MD_granger_gamma\n",
      "mPFC-to-MD_granger_theta\n",
      "mPFC-to-vHPC_granger_gamma\n",
      "mPFC-to-vHPC_granger_theta\n",
      "mPFC_BLA_granger_all_frequencies_all_windows\n",
      "mPFC_LH_granger_all_frequencies_all_windows\n",
      "mPFC_MD_granger_all_frequencies_all_windows\n",
      "mPFC_gamma_band\n",
      "mPFC_gamma_phase\n",
      "mPFC_lfp_RMS_filtered\n",
      "mPFC_lfp_trace\n",
      "mPFC_power_all_frequencies_all_windows\n",
      "mPFC_power_gamma\n",
      "mPFC_power_theta\n",
      "mPFC_theta_band\n",
      "mPFC_theta_phase\n",
      "mPFC_vHPC_coherence_all_frequencies_all_windows\n",
      "mPFC_vHPC_coherence_gamma\n",
      "mPFC_vHPC_coherence_theta\n",
      "mPFC_vHPC_granger_all_frequencies_all_windows\n",
      "power_calculation_frequencies\n",
      "power_timestamps\n",
      "recording\n",
      "session_path\n",
      "subject\n",
      "tone_frames\n",
      "tone_timestamps\n",
      "vHPC-to-BLA_granger_gamma\n",
      "vHPC-to-BLA_granger_theta\n",
      "vHPC-to-LH_granger_gamma\n",
      "vHPC-to-LH_granger_theta\n",
      "vHPC-to-MD_granger_gamma\n",
      "vHPC-to-MD_granger_theta\n",
      "vHPC-to-mPFC_granger_gamma\n",
      "vHPC-to-mPFC_granger_theta\n",
      "vHPC_BLA_granger_all_frequencies_all_windows\n",
      "vHPC_LH_granger_all_frequencies_all_windows\n",
      "vHPC_MD_granger_all_frequencies_all_windows\n",
      "vHPC_gamma_band\n",
      "vHPC_gamma_phase\n",
      "vHPC_lfp_RMS_filtered\n",
      "vHPC_lfp_trace\n",
      "vHPC_mPFC_granger_all_frequencies_all_windows\n",
      "vHPC_power_all_frequencies_all_windows\n",
      "vHPC_power_gamma\n",
      "vHPC_power_theta\n",
      "vHPC_theta_band\n",
      "vHPC_theta_phase\n",
      "video_timestamps\n",
      "cluster_timestamp\n"
     ]
    }
   ],
   "source": [
    "for col in merged_LFP_SPECTRAL_DF.columns:\n",
    "    print(col)"
   ]
  },
  {
   "cell_type": "code",
   "execution_count": 36,
   "metadata": {},
   "outputs": [
    {
     "ename": "ValueError",
     "evalue": "",
     "output_type": "error",
     "traceback": [
      "\u001b[0;31m---------------------------------------------------------------------------\u001b[0m",
      "\u001b[0;31mValueError\u001b[0m                                Traceback (most recent call last)",
      "Cell \u001b[0;32mIn[36], line 1\u001b[0m\n\u001b[0;32m----> 1\u001b[0m \u001b[38;5;28;01mraise\u001b[39;00m \u001b[38;5;167;01mValueError\u001b[39;00m()\n",
      "\u001b[0;31mValueError\u001b[0m: "
     ]
    }
   ],
   "source": [
    "raise ValueError()"
   ]
  },
  {
   "cell_type": "code",
   "execution_count": 40,
   "metadata": {},
   "outputs": [
    {
     "data": {
      "text/plain": [
       "array(['20240320_142408_alone_comp_subj_3-1_and_3-3.1',\n",
       "       '20240320_142408_alone_comp_subj_3-1_and_3-3.2',\n",
       "       '20240320_171038_alone_comp_subj_4-2_and_4-3.1',\n",
       "       '20240320_171038_alone_comp_subj_4-2_and_4-3.2',\n",
       "       '20240322_120625_alone_comp_subj_3-3_and_3-4.1',\n",
       "       '20240322_120625_alone_comp_subj_3-3_and_3-4.2',\n",
       "       '20240322_160946_alone_comp_subj_4-3_and_4-4.1',\n",
       "       '20240322_160946_alone_comp_subj_4-3_and_4-4.2',\n",
       "       '20240323_122227_alone_comp_subj_5-2_and_5-3.1',\n",
       "       '20240323_122227_alone_comp_subj_5-2_and_5-3.2',\n",
       "       '20240323_144517_alone_comp_subj_3-1_and_3-4.1',\n",
       "       '20240323_144517_alone_comp_subj_3-1_and_3-4.2',\n",
       "       '20240323_165815_alone_comp_subj_4-2_and_4-4.1',\n",
       "       '20240323_165815_alone_comp_subj_4-2_and_4-4.2'], dtype=object)"
      ]
     },
     "execution_count": 40,
     "metadata": {},
     "output_type": "execute_result"
    }
   ],
   "source": [
    "LFP_SPECTRAL_DF[\"video_name\"].unique()"
   ]
  },
  {
   "cell_type": "code",
   "execution_count": 41,
   "metadata": {},
   "outputs": [
    {
     "data": {
      "text/plain": [
       "array(['20240320_171038_alone_comp_subj_4-2_and_4-3.1',\n",
       "       '20240322_120625_alone_comp_subj_3-3_and_3-4.1',\n",
       "       '20240322_160946_alone_comp_subj_4-3_and_4-4.1',\n",
       "       '20240323_144517_alone_comp_subj_3-1_and_3-4.1',\n",
       "       '20240323_165815_alone_comp_subj_4-2_and_4-4.1'], dtype=object)"
      ]
     },
     "execution_count": 41,
     "metadata": {},
     "output_type": "execute_result"
    }
   ],
   "source": [
    "merged_LFP_SPECTRAL_DF[\"video_name\"].unique()"
   ]
  },
  {
   "cell_type": "code",
   "execution_count": 43,
   "metadata": {},
   "outputs": [
    {
     "data": {
      "text/plain": [
       "array(['20240317_151922_long_comp_subj_3-1_and_3-3.1',\n",
       "       '20240317_172017_long_comp_subj_4-2_and_4-3.1',\n",
       "       '20240318_143819_long_comp_subj_3-3_and_3-4.1',\n",
       "       '20240318_170933_long_comp_subj_4-3_and_4-4.1',\n",
       "       '20240319_134914_long_comp_subj_3-1_and_3-4.1',\n",
       "       '20240319_160457_long_comp_subj_4-2_and_4-4.1',\n",
       "       '20240320_114629_long_comp_subj_5-3_and_5-4.1',\n",
       "       '20240320_171038_alone_comp_subj_4-2_and_4-3.1',\n",
       "       '20240321_114851_long_comp_subj_5-2_and_5-3.1',\n",
       "       '20240322_120625_alone_comp_subj_3-3_and_3-4.1',\n",
       "       '20240322_160946_alone_comp_subj_4-3_and_4-4.1',\n",
       "       '20240323_144517_alone_comp_subj_3-1_and_3-4.1',\n",
       "       '20240323_165815_alone_comp_subj_4-2_and_4-4.1'], dtype=object)"
      ]
     },
     "execution_count": 43,
     "metadata": {},
     "output_type": "execute_result"
    }
   ],
   "source": [
    "SLEAP_DF[\"video_name\"].unique()"
   ]
  },
  {
   "cell_type": "code",
   "execution_count": 42,
   "metadata": {},
   "outputs": [
    {
     "ename": "ValueError",
     "evalue": "",
     "output_type": "error",
     "traceback": [
      "\u001b[0;31m---------------------------------------------------------------------------\u001b[0m",
      "\u001b[0;31mValueError\u001b[0m                                Traceback (most recent call last)",
      "Cell \u001b[0;32mIn[42], line 1\u001b[0m\n\u001b[0;32m----> 1\u001b[0m \u001b[38;5;28;01mraise\u001b[39;00m \u001b[38;5;167;01mValueError\u001b[39;00m()\n",
      "\u001b[0;31mValueError\u001b[0m: "
     ]
    }
   ],
   "source": [
    "raise ValueError()"
   ]
  },
  {
   "cell_type": "markdown",
   "metadata": {},
   "source": [
    "## Separating each frame into its own row"
   ]
  },
  {
   "cell_type": "code",
   "execution_count": null,
   "metadata": {
    "tags": []
   },
   "outputs": [],
   "source": [
    "filter_columns = ['video_name',\n",
    " 'current_subject',\n",
    " 'session_dir',\n",
    " 'sleap_name',\n",
    " 'video_id',\n",
    " 'agent',\n",
    " 'cluster_timestamp',\n",
    " 'first_timestamp',\n",
    " 'recording']"
   ]
  },
  {
   "cell_type": "code",
   "execution_count": null,
   "metadata": {
    "tags": []
   },
   "outputs": [],
   "source": [
    "explode_columns = ['frame_index',\n",
    " 'tone_start_frame',\n",
    " 'tone_stop_frame',\n",
    " 'condition ',\n",
    " 'competition_closeness',\n",
    " 'notes',\n",
    " '10s_before_tone_frame',\n",
    " '10s_after_tone_frame',\n",
    " 'subject_thorax_to_agent_thorax',\n",
    " 'nose_to_reward_port_sum',\n",
    " 'nose_to_reward_port_diff',\n",
    " 'thorax_velocity_sum',\n",
    " 'thorax_velocity_diff',\n",
    " 'to_reward_port_angle_sum',\n",
    " 'to_reward_port_angle_diff',\n",
    " 'subject_nose_to_reward_port',\n",
    " 'subject_thorax_velocity',\n",
    " 'subject_to_reward_port_angle',\n",
    " 'agent_nose_to_reward_port',\n",
    " 'agent_thorax_velocity',\n",
    " 'agent_to_reward_port_angle',\n",
    " 'closebool_subject_nose_to_reward_port',\n",
    " 'closebool_agent_nose_to_reward_port',\n",
    " 'movingbool_subject_thorax_velocity',\n",
    " 'movingbool_agent_thorax_velocity',\n",
    " 'manual_cluster_id',\n",
    " 'standard_embedding_x',\n",
    " 'standard_embedding_y',\n",
    " 'kmeans_cluster',\n",
    " 'subject_locations',\n",
    " 'agent_locations',\n",
    " 'subject_thorax',\n",
    " 'subject_nose',\n",
    " 'subject_tail_base',\n",
    " 'agent_thorax',\n",
    " 'agent_nose',\n",
    " 'agent_tail_base']"
   ]
  },
  {
   "cell_type": "code",
   "execution_count": null,
   "metadata": {
    "tags": []
   },
   "outputs": [],
   "source": [
    "# selecting columns to simplify\n",
    "filtered_LFP_SPECTRAL_DF = merged_LFP_SPECTRAL_DF[filter_columns + explode_columns].copy()"
   ]
  },
  {
   "cell_type": "code",
   "execution_count": null,
   "metadata": {
    "tags": []
   },
   "outputs": [],
   "source": [
    "filtered_LFP_SPECTRAL_DF.head()"
   ]
  },
  {
   "cell_type": "code",
   "execution_count": null,
   "metadata": {
    "tags": []
   },
   "outputs": [],
   "source": [
    "# explode_columns = [\n",
    "#     \"cluster_timestamp\",\n",
    "#     \"kmeans_cluster\",\n",
    "#     \"condition \",\n",
    "#     \"competition_closeness\",\n",
    "#     \"tone_start_frame\"]"
   ]
  },
  {
   "cell_type": "code",
   "execution_count": null,
   "metadata": {
    "tags": []
   },
   "outputs": [],
   "source": [
    "exploded_LFP_SPECTRAL_DF = filtered_LFP_SPECTRAL_DF.explode(explode_columns).reset_index(drop=True)\n"
   ]
  },
  {
   "cell_type": "code",
   "execution_count": null,
   "metadata": {
    "tags": []
   },
   "outputs": [],
   "source": [
    "exploded_LFP_SPECTRAL_DF.head()"
   ]
  },
  {
   "cell_type": "markdown",
   "metadata": {},
   "source": [
    "# Grouping columns by shared video, subject, and tone start(aka grouping by trial)"
   ]
  },
  {
   "cell_type": "code",
   "execution_count": null,
   "metadata": {
    "tags": []
   },
   "outputs": [],
   "source": [
    "explode_columns"
   ]
  },
  {
   "cell_type": "code",
   "execution_count": null,
   "metadata": {
    "tags": []
   },
   "outputs": [],
   "source": [
    "groupby_columns = [\"video_name\", \"current_subject\", \"tone_start_frame\"]"
   ]
  },
  {
   "cell_type": "code",
   "execution_count": null,
   "metadata": {
    "tags": []
   },
   "outputs": [],
   "source": [
    "filter_columns += [\"tone_stop_frame\",\n",
    "\"condition \",\n",
    "\"competition_closeness\",\n",
    "\"notes\",\n",
    "\"10s_before_tone_frame\",\n",
    "\"10s_after_tone_frame\"]"
   ]
  },
  {
   "cell_type": "code",
   "execution_count": null,
   "metadata": {
    "tags": []
   },
   "outputs": [],
   "source": [
    "# Define aggregation dictionary\n",
    "agg_dict = {col: list for col in explode_columns if col not in groupby_columns and col not in filter_columns}\n",
    "\n",
    "agg_dict.update({col: 'first' for col in filter_columns if col not in groupby_columns})\n",
    "\n",
    "# Apply groupby and aggregation\n",
    "grouped_exploded_columns = exploded_LFP_SPECTRAL_DF.groupby([\"video_name\", \"current_subject\", \"tone_start_frame\"]).agg(agg_dict).reset_index()\n"
   ]
  },
  {
   "cell_type": "code",
   "execution_count": null,
   "metadata": {
    "tags": []
   },
   "outputs": [],
   "source": [
    "grouped_exploded_columns.head()"
   ]
  },
  {
   "cell_type": "markdown",
   "metadata": {},
   "source": [
    "## Renaming the trial labels"
   ]
  },
  {
   "cell_type": "code",
   "execution_count": null,
   "metadata": {
    "tags": []
   },
   "outputs": [],
   "source": [
    "grouped_exploded_columns.head()"
   ]
  },
  {
   "cell_type": "code",
   "execution_count": null,
   "metadata": {
    "tags": []
   },
   "outputs": [],
   "source": [
    "comp_closeness_dict = {'Subj 1 blocking Subj 2': \"competitive\",\n",
    "'Subj 2 Only': \"no_comp\",\n",
    "'Subj 2 blocking Subj 1': \"competitive\",\n",
    "'Subj 1 then Subj 2': \"competitive\", \n",
    "'Subj 1 Only': \"no_comp\",\n",
    "'Subj 2 then Subj 1': \"competitive\",\n",
    "'Close Call': \"competitive\",\n",
    "'After trial': \"no_comp\"}"
   ]
  },
  {
   "cell_type": "code",
   "execution_count": null,
   "metadata": {
    "tags": []
   },
   "outputs": [],
   "source": [
    "grouped_exploded_columns[\"trial_label\"] = grouped_exploded_columns.apply(lambda x: \"win\" if x[\"current_subject\"] == x[\"condition \"]  else (\"lose\" if x[\"agent\"] == x[\"condition \"] else \"tie\"), axis=1)\n",
    "                                                                        "
   ]
  },
  {
   "cell_type": "code",
   "execution_count": null,
   "metadata": {
    "tags": []
   },
   "outputs": [],
   "source": [
    "grouped_exploded_columns[\"competition_closeness\"] = grouped_exploded_columns[\"competition_closeness\"].map(comp_closeness_dict)"
   ]
  },
  {
   "cell_type": "markdown",
   "metadata": {},
   "source": [
    "## Getting the ranges of each cluster"
   ]
  },
  {
   "cell_type": "markdown",
   "metadata": {},
   "source": [
    "- Getting the index range"
   ]
  },
  {
   "cell_type": "code",
   "execution_count": null,
   "metadata": {
    "tags": []
   },
   "outputs": [],
   "source": [
    "grouped_exploded_columns[\"cluster_index_ranges_dict\"] = grouped_exploded_columns[\"kmeans_cluster\"].apply(lambda x: find_consecutive_ranges(x))"
   ]
  },
  {
   "cell_type": "code",
   "execution_count": null,
   "metadata": {
    "tags": []
   },
   "outputs": [],
   "source": [
    "grouped_exploded_columns.head()"
   ]
  },
  {
   "cell_type": "markdown",
   "metadata": {},
   "source": [
    "- Calculating the times in milliseconds of each cluster frame"
   ]
  },
  {
   "cell_type": "code",
   "execution_count": null,
   "metadata": {
    "tags": []
   },
   "outputs": [],
   "source": [
    "grouped_exploded_columns[\"cluster_times\"] = grouped_exploded_columns.apply(lambda x: (np.array(x[\"cluster_timestamp\"]) - x[\"first_timestamp\"]) // 20, axis=1)\n"
   ]
  },
  {
   "cell_type": "markdown",
   "metadata": {},
   "source": [
    "- Updating the index to use cluster times and timestamps based on video frame timestamps list"
   ]
  },
  {
   "cell_type": "code",
   "execution_count": null,
   "metadata": {
    "tags": []
   },
   "outputs": [],
   "source": [
    "grouped_exploded_columns[\"cluster_times_ranges_dict\"] = grouped_exploded_columns.apply(lambda x: update_tuples_in_dict(x[\"cluster_index_ranges_dict\"], x[\"cluster_times\"]), axis=1)"
   ]
  },
  {
   "cell_type": "code",
   "execution_count": null,
   "metadata": {
    "tags": []
   },
   "outputs": [],
   "source": [
    "grouped_exploded_columns[\"cluster_timestamps_ranges_dict\"] = grouped_exploded_columns.apply(lambda x: update_tuples_in_dict(x[\"cluster_index_ranges_dict\"], x[\"cluster_timestamp\"]), axis=1)"
   ]
  },
  {
   "cell_type": "markdown",
   "metadata": {},
   "source": [
    "- Combining the win and loss label with the cluster"
   ]
  },
  {
   "cell_type": "code",
   "execution_count": null,
   "metadata": {
    "tags": []
   },
   "outputs": [],
   "source": [
    "grouped_exploded_columns[\"trial_cluster_times_ranges_dict\"] = grouped_exploded_columns.apply(lambda x: {\"{}_{}\".format(x[\"trial_label\"], k): v for k, v in x[\"cluster_times_ranges_dict\"].items()}, axis=1)\n"
   ]
  },
  {
   "cell_type": "code",
   "execution_count": null,
   "metadata": {
    "tags": []
   },
   "outputs": [],
   "source": [
    "grouped_exploded_columns[\"trial_cluster_timestamps_ranges_dict\"] = grouped_exploded_columns.apply(lambda x: {\"{}_{}\".format(x[\"trial_label\"], k): v for k, v in x[\"cluster_timestamps_ranges_dict\"].items()}, axis=1)\n"
   ]
  },
  {
   "cell_type": "code",
   "execution_count": null,
   "metadata": {},
   "outputs": [],
   "source": []
  },
  {
   "cell_type": "markdown",
   "metadata": {},
   "source": [
    "- Grouping all the rows with the same video and subject together"
   ]
  },
  {
   "cell_type": "code",
   "execution_count": null,
   "metadata": {
    "tags": []
   },
   "outputs": [],
   "source": [
    "list(grouped_exploded_columns.columns)"
   ]
  },
  {
   "cell_type": "code",
   "execution_count": null,
   "metadata": {
    "tags": []
   },
   "outputs": [],
   "source": [
    "explode_columns"
   ]
  },
  {
   "cell_type": "code",
   "execution_count": null,
   "metadata": {
    "tags": []
   },
   "outputs": [],
   "source": [
    "other_explode_columns = [\"tone_stop_frame\",\n",
    "                         \"condition \",\n",
    "                         \"competition_closeness\",\n",
    "                         \"notes\",\n",
    "                         \"10s_before_tone_frame\",\n",
    "                         \"10s_after_tone_frame\",\n",
    "                        'cluster_index_ranges_dict',\n",
    " 'cluster_times',\n",
    " 'cluster_times_ranges_dict',\n",
    " 'cluster_timestamps_ranges_dict',\n",
    " 'trial_cluster_times_ranges_dict',\n",
    " 'trial_cluster_timestamps_ranges_dict']"
   ]
  },
  {
   "cell_type": "code",
   "execution_count": null,
   "metadata": {
    "tags": []
   },
   "outputs": [],
   "source": [
    "filter_columns"
   ]
  },
  {
   "cell_type": "code",
   "execution_count": null,
   "metadata": {
    "tags": []
   },
   "outputs": [],
   "source": [
    "# Define columns to be transformed into numpy arrays\n",
    "\n",
    "\n",
    "# Define aggregation dictionary\n",
    "agg_dict = {col: list for col in explode_columns + other_explode_columns if col not in groupby_columns and col != \"tone_start_frame\"}\n",
    "\n",
    "agg_dict.update({col: 'first' for col in filter_columns + [\"tone_start_frame\"] if col not in groupby_columns and col not in other_explode_columns})\n",
    "\n",
    "# Apply groupby and aggregation\n",
    "video_grouped_exploded_columns = grouped_exploded_columns.groupby([\"video_name\", \"current_subject\"]).agg(agg_dict).reset_index()\n"
   ]
  },
  {
   "cell_type": "code",
   "execution_count": null,
   "metadata": {
    "tags": []
   },
   "outputs": [],
   "source": [
    "video_grouped_exploded_columns.columns"
   ]
  },
  {
   "cell_type": "code",
   "execution_count": null,
   "metadata": {
    "tags": []
   },
   "outputs": [],
   "source": [
    "video_grouped_exploded_columns.head()"
   ]
  },
  {
   "cell_type": "markdown",
   "metadata": {},
   "source": [
    "- Combining all the dictionaries together"
   ]
  },
  {
   "cell_type": "code",
   "execution_count": null,
   "metadata": {},
   "outputs": [],
   "source": []
  },
  {
   "cell_type": "code",
   "execution_count": null,
   "metadata": {
    "tags": []
   },
   "outputs": [],
   "source": [
    "for col in [_ for _ in video_grouped_exploded_columns if \"dict\" in _]:\n",
    "    video_grouped_exploded_columns[col] = video_grouped_exploded_columns[col].apply(lambda x: combine_dicts(x))"
   ]
  },
  {
   "cell_type": "code",
   "execution_count": null,
   "metadata": {
    "tags": []
   },
   "outputs": [],
   "source": [
    "video_grouped_exploded_columns.head()"
   ]
  },
  {
   "cell_type": "code",
   "execution_count": null,
   "metadata": {
    "tags": []
   },
   "outputs": [],
   "source": [
    "video_grouped_exploded_columns.to_pickle(\"./proc/{}_cluster_ranges.pkl\".format(OUTPUT_PREFIX))"
   ]
  },
  {
   "cell_type": "code",
   "execution_count": null,
   "metadata": {
    "tags": []
   },
   "outputs": [],
   "source": [
    "raise ValueError()"
   ]
  },
  {
   "cell_type": "code",
   "execution_count": null,
   "metadata": {},
   "outputs": [],
   "source": [
    "video_grouped_exploded_columns.columns"
   ]
  },
  {
   "cell_type": "code",
   "execution_count": null,
   "metadata": {},
   "outputs": [],
   "source": []
  }
 ],
 "metadata": {
  "deepnote": {},
  "deepnote_execution_queue": [],
  "deepnote_notebook_id": "cf8fe3695d074ee7887fdf6459cbf5ce",
  "kernelspec": {
   "display_name": "mountainsort_0_5_6",
   "language": "python",
   "name": "python3"
  },
  "language_info": {
   "codemirror_mode": {
    "name": "ipython",
    "version": 3
   },
   "file_extension": ".py",
   "mimetype": "text/x-python",
   "name": "python",
   "nbconvert_exporter": "python",
   "pygments_lexer": "ipython3",
   "version": "3.9.19"
  }
 },
 "nbformat": 4,
 "nbformat_minor": 4
}
