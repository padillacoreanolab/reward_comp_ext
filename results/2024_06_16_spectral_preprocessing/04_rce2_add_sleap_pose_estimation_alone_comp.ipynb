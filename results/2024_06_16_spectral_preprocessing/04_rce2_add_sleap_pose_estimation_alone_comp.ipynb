{
 "cells": [
  {
   "cell_type": "markdown",
   "metadata": {
    "cell_id": "c3a02adc9e884466bc8c79db549cc3d2",
    "deepnote_cell_type": "text-cell-h1",
    "formattedRanges": [
     {
      "fromCodePoint": 0,
      "marks": {
       "bold": true,
       "underline": true
      },
      "toCodePoint": 17,
      "type": "marks"
     }
    ]
   },
   "source": [
    "# SLEAP Distance Calculation"
   ]
  },
  {
   "cell_type": "markdown",
   "metadata": {
    "cell_id": "4546bee655b14a5dbf393161f1228e60",
    "deepnote_cell_type": "text-cell-p",
    "formattedRanges": []
   },
   "source": [
    "Brief 1-2 sentence description of notebook."
   ]
  },
  {
   "cell_type": "code",
   "execution_count": 1,
   "metadata": {
    "tags": []
   },
   "outputs": [],
   "source": [
    "import os\n",
    "import glob\n",
    "import git\n",
    "import sys\n",
    "from collections import defaultdict"
   ]
  },
  {
   "cell_type": "code",
   "execution_count": 2,
   "metadata": {
    "cell_id": "03b495cefa6a4798a44c7f2e4c6a3ea7",
    "deepnote_cell_type": "code",
    "deepnote_to_be_reexecuted": false,
    "execution_millis": 21,
    "execution_start": 1691424003626,
    "source_hash": null,
    "tags": []
   },
   "outputs": [],
   "source": [
    "# Imports of all used packages and libraries\n",
    "import numpy as np\n",
    "import pandas as pd\n",
    "# import seaborn as sns\n",
    "import matplotlib as mpl\n",
    "import matplotlib.pyplot as plt\n",
    "import h5py\n"
   ]
  },
  {
   "cell_type": "code",
   "execution_count": 3,
   "metadata": {
    "tags": []
   },
   "outputs": [],
   "source": [
    "git_repo = git.Repo(\".\", search_parent_directories=True)\n",
    "git_root = git_repo.git.rev_parse(\"--show-toplevel\")"
   ]
  },
  {
   "cell_type": "code",
   "execution_count": 4,
   "metadata": {
    "tags": []
   },
   "outputs": [
    {
     "data": {
      "text/plain": [
       "'/nancy/user/riwata/projects/reward_comp_ext'"
      ]
     },
     "execution_count": 4,
     "metadata": {},
     "output_type": "execute_result"
    }
   ],
   "source": [
    "git_root"
   ]
  },
  {
   "cell_type": "code",
   "execution_count": 5,
   "metadata": {
    "tags": []
   },
   "outputs": [],
   "source": [
    "sys.path.insert(0, os.path.join(git_root, 'src'))"
   ]
  },
  {
   "cell_type": "code",
   "execution_count": 6,
   "metadata": {
    "tags": []
   },
   "outputs": [],
   "source": [
    "import sleap.process_pose"
   ]
  },
  {
   "cell_type": "code",
   "execution_count": 7,
   "metadata": {
    "tags": []
   },
   "outputs": [],
   "source": [
    "# sns.set('notebook', 'ticks', font_scale=1.2)\n",
    "mpl.rcParams['figure.figsize'] = [15,6]"
   ]
  },
  {
   "cell_type": "code",
   "execution_count": null,
   "metadata": {},
   "outputs": [],
   "source": []
  },
  {
   "cell_type": "markdown",
   "metadata": {},
   "source": [
    "# Functions"
   ]
  },
  {
   "cell_type": "code",
   "execution_count": 8,
   "metadata": {
    "tags": []
   },
   "outputs": [
    {
     "name": "stdout",
     "output_type": "stream",
     "text": [
      "{'a': [1, 2, 5, 8, 9], 'b': [3, 4, 6, 7], 'c': [10]}\n"
     ]
    }
   ],
   "source": [
    "def combine_dicts(dicts):\n",
    "    \"\"\"\n",
    "    Combine lists from multiple dictionaries that share the same key.\n",
    "\n",
    "    This function takes a list of dictionaries where each dictionary's values are lists of numbers.\n",
    "    It merges these lists for each corresponding key across all dictionaries, producing a single\n",
    "    dictionary where each key has a combined list of all numbers from the input dictionaries.\n",
    "\n",
    "    Parameters:\n",
    "        dicts (list of dict): A list of dictionaries with values as lists of numbers.\n",
    "\n",
    "    Returns:\n",
    "        dict: A dictionary with keys from the input dictionaries and values as merged lists \n",
    "        of numbers from all corresponding input dictionary values.\n",
    "    \"\"\"\n",
    "    combined = defaultdict(list)\n",
    "    for dictionary in dicts:\n",
    "        for key, value in dictionary.items():\n",
    "            combined[key].extend(value)\n",
    "    \n",
    "    return dict(combined)\n",
    "\n",
    "\n",
    "# Example usage\n",
    "list_of_dicts = [\n",
    "    {'a': [1, 2], 'b': [3, 4]},\n",
    "    {'a': [5], 'b': [6, 7]},\n",
    "    {'a': [8, 9], 'c': [10]}\n",
    "]\n",
    "\n",
    "combined_dict = combine_dicts(list_of_dicts)\n",
    "print(combined_dict)"
   ]
  },
  {
   "cell_type": "code",
   "execution_count": 9,
   "metadata": {
    "tags": []
   },
   "outputs": [
    {
     "name": "stdout",
     "output_type": "stream",
     "text": [
      "{2: [(2, 4)], 3: [(5, 8)]}\n"
     ]
    }
   ],
   "source": [
    "def find_consecutive_ranges(numbers, min_length=1):\n",
    "    \"\"\"\n",
    "    Finds the start and end indices for consecutive ranges of each number in a list where the range meets a minimum length.\n",
    "\n",
    "    This function iterates through a list of integers and identifies ranges where the same integer appears consecutively\n",
    "    and the length of this sequence meets or exceeds the specified minimum length.\n",
    "\n",
    "    Parameters:\n",
    "        numbers (list): A list of integers to analyze for consecutive ranges.\n",
    "        min_length (int): The minimum length of a range for it to be included in the results.\n",
    "\n",
    "    Returns:\n",
    "        dict: A dictionary with integers as keys and a list of tuples (start, end) as values,\n",
    "              where each tuple represents the start and end indices (inclusive) of consecutive ranges\n",
    "              for that integer. Only ranges that meet or exceed the minimum length are included.\n",
    "    \"\"\"\n",
    "    ranges = {}\n",
    "    n = len(numbers)\n",
    "    if n == 0:\n",
    "        return ranges\n",
    "    \n",
    "    start = 0\n",
    "    current = numbers[0]\n",
    "\n",
    "    for i in range(1, n):\n",
    "        if numbers[i] != current:\n",
    "            if (i - start) >= min_length:\n",
    "                if current not in ranges:\n",
    "                    ranges[current] = []\n",
    "                ranges[current].append((start, i - 1))\n",
    "            current = numbers[i]\n",
    "            start = i\n",
    "\n",
    "    # Handle the last range\n",
    "    if (n - start) >= min_length:\n",
    "        if current not in ranges:\n",
    "            ranges[current] = []\n",
    "        ranges[current].append((start, n - 1))\n",
    "\n",
    "    return ranges\n",
    "\n",
    "# Example usage:\n",
    "numbers = [1, 1, 2, 2, 2, 3, 3, 3, 3, 2, 2, 1, 1]\n",
    "print(find_consecutive_ranges(numbers, min_length=3))"
   ]
  },
  {
   "cell_type": "code",
   "execution_count": 10,
   "metadata": {
    "tags": []
   },
   "outputs": [
    {
     "name": "stdout",
     "output_type": "stream",
     "text": [
      "{'a': [('alpha', 'beta'), ('gamma', 'delta')], 'b': [('beta', 'delta'), ('alpha', 'gamma')]}\n"
     ]
    }
   ],
   "source": [
    "def update_tuples_in_dict(original_dict, reference_list):\n",
    "    \"\"\"\n",
    "    Updates the values in the tuples within a dictionary by replacing indices with corresponding values from a reference list.\n",
    "    \n",
    "    This function iterates through each key-value pair in the original dictionary. Each value is expected to be a list of tuples,\n",
    "    where each tuple contains indices. These indices are used to fetch corresponding values from the reference list, creating new tuples.\n",
    "    \n",
    "    Parameters:\n",
    "        original_dict (dict): Dictionary whose values are lists of tuples. Each tuple consists of indices into the reference_list.\n",
    "        reference_list (list): List of elements that are referenced by the indices in the tuples of the original_dict.\n",
    "        \n",
    "    Returns:\n",
    "        dict: A dictionary with the same keys as original_dict but with tuples transformed to contain elements from reference_list\n",
    "              based on the indices in the original tuples.\n",
    "    \"\"\"\n",
    "    # Create a new dictionary to store the updated key-value pairs\n",
    "    new_dict = {}\n",
    "    for key, list_of_tuples in original_dict.items():\n",
    "        # Process each tuple in the list associated with the current key\n",
    "        updated_tuples = [\n",
    "            tuple(reference_list[idx] for idx in tup) for tup in list_of_tuples\n",
    "        ]\n",
    "        new_dict[key] = updated_tuples\n",
    "    \n",
    "    return new_dict\n",
    "\n",
    "# Example usage:\n",
    "original_dict = {\n",
    "    'a': [(0, 1), (2, 3)],\n",
    "    'b': [(1, 3), (0, 2)]\n",
    "}\n",
    "reference_list = ['alpha', 'beta', 'gamma', 'delta']\n",
    "\n",
    "updated_dict = update_tuples_in_dict(original_dict, reference_list)\n",
    "print(updated_dict)"
   ]
  },
  {
   "cell_type": "markdown",
   "metadata": {
    "cell_id": "d290bac2c17940bfbc0f9296beaf70e5",
    "deepnote_cell_type": "text-cell-h2",
    "formattedRanges": []
   },
   "source": [
    "## Inputs & Data"
   ]
  },
  {
   "cell_type": "markdown",
   "metadata": {
    "cell_id": "e528ce19c608425292151930d380f49f",
    "deepnote_cell_type": "text-cell-p",
    "formattedRanges": []
   },
   "source": [
    "Explanation of each input and where it comes from."
   ]
  },
  {
   "cell_type": "code",
   "execution_count": 11,
   "metadata": {
    "tags": []
   },
   "outputs": [],
   "source": [
    "OUTPUT_PREFIX = \"rce_pilot_3_alone_comp\""
   ]
  },
  {
   "cell_type": "code",
   "execution_count": 12,
   "metadata": {
    "tags": []
   },
   "outputs": [],
   "source": [
    "# Inputs and Required data loading\n",
    "# input varaible names are in all caps snake case\n",
    "# Whenever an input changes or is used for processing \n",
    "# the vairables are all lower in snake case\n",
    "\n",
    "LFP_SPECTRAL_DF = pd.read_pickle(\"./proc/{}_03_spectral_bands.pkl\".format(OUTPUT_PREFIX))\n",
    "# LFP_SPECTRAL_DF = pd.read_pickle(\"./proc/{}_01_lfp_traces_and_frames.pkl\".format(OUTPUT_PREFIX))\n",
    "\n"
   ]
  },
  {
   "cell_type": "code",
   "execution_count": 13,
   "metadata": {
    "tags": []
   },
   "outputs": [],
   "source": [
    "# SLEAP_DF = pd.read_pickle(\"/blue/npadillacoreano/ryoi360/projects/reward_comp/repos/reward_comp_ext/results/2024_06_26_sleap_clustering/proc/grouped_exploded_columns.pkl\")\n",
    "SLEAP_DF = pd.read_pickle(\"../2024_06_26_sleap_clustering/proc/grouped_exploded_columns.pkl\")"
   ]
  },
  {
   "cell_type": "code",
   "execution_count": 14,
   "metadata": {
    "tags": []
   },
   "outputs": [
    {
     "data": {
      "text/html": [
       "<div>\n",
       "<style scoped>\n",
       "    .dataframe tbody tr th:only-of-type {\n",
       "        vertical-align: middle;\n",
       "    }\n",
       "\n",
       "    .dataframe tbody tr th {\n",
       "        vertical-align: top;\n",
       "    }\n",
       "\n",
       "    .dataframe thead th {\n",
       "        text-align: right;\n",
       "    }\n",
       "</style>\n",
       "<table border=\"1\" class=\"dataframe\">\n",
       "  <thead>\n",
       "    <tr style=\"text-align: right;\">\n",
       "      <th></th>\n",
       "      <th>video_name</th>\n",
       "      <th>current_subject</th>\n",
       "      <th>10s_after_tone_frame</th>\n",
       "      <th>10s_before_tone_frame</th>\n",
       "      <th>agent_locations</th>\n",
       "      <th>agent_nose</th>\n",
       "      <th>agent_nose_to_reward_port</th>\n",
       "      <th>agent_tail_base</th>\n",
       "      <th>agent_thorax</th>\n",
       "      <th>agent_thorax_velocity</th>\n",
       "      <th>...</th>\n",
       "      <th>experiment</th>\n",
       "      <th>first_timestamp</th>\n",
       "      <th>last_timestamp</th>\n",
       "      <th>reward_port</th>\n",
       "      <th>session_dir</th>\n",
       "      <th>sleap_name</th>\n",
       "      <th>start_frame</th>\n",
       "      <th>stop_frame</th>\n",
       "      <th>tracked_subject</th>\n",
       "      <th>video_id</th>\n",
       "    </tr>\n",
       "  </thead>\n",
       "  <tbody>\n",
       "    <tr>\n",
       "      <th>0</th>\n",
       "      <td>20240317_151922_long_comp_subj_3-1_and_3-3.1</td>\n",
       "      <td>3.1</td>\n",
       "      <td>[1686, 1686, 1686, 1686, 1686, 1686, 1686, 168...</td>\n",
       "      <td>[1086, 1086, 1086, 1086, 1086, 1086, 1086, 108...</td>\n",
       "      <td>[[[47.329585864054316, 13.395104517336417], [4...</td>\n",
       "      <td>[[43.139588993359475, 13.385259646809214], [43...</td>\n",
       "      <td>[29.850004, 29.948483, 30.033619, 30.119339, 3...</td>\n",
       "      <td>[[54.49241922411595, 12.722769593270066], [54....</td>\n",
       "      <td>[[51.04336785027878, 11.609328010205985], [51....</td>\n",
       "      <td>[1.75459, 0.8485628, 0.20676309, -0.17881195, ...</td>\n",
       "      <td>...</td>\n",
       "      <td>long_comp</td>\n",
       "      <td>2415571.0</td>\n",
       "      <td>48236575.0</td>\n",
       "      <td>[60.41313477701829, 37.56463736381247]</td>\n",
       "      <td>20240317_151922_long_comp_subj_3-1_and_3-3</td>\n",
       "      <td>20240317_151922_long_comp_subj_3-1_and_3-3.1.f...</td>\n",
       "      <td>1</td>\n",
       "      <td>45736</td>\n",
       "      <td>[3.1, 3.3]</td>\n",
       "      <td>0</td>\n",
       "    </tr>\n",
       "    <tr>\n",
       "      <th>1</th>\n",
       "      <td>20240317_151922_long_comp_subj_3-1_and_3-3.1</td>\n",
       "      <td>3.3</td>\n",
       "      <td>[1686, 1686, 1686, 1686, 1686, 1686, 1686, 168...</td>\n",
       "      <td>[1086, 1086, 1086, 1086, 1086, 1086, 1086, 108...</td>\n",
       "      <td>[[[61.390550187751444, 36.122362967315595], [5...</td>\n",
       "      <td>[[60.14673983110819, 38.0809500426292], [60.14...</td>\n",
       "      <td>[0.7214881, 0.70931464, 0.7049949, 0.705891, 0...</td>\n",
       "      <td>[[65.86894804065032, 31.8436244490543], [65.86...</td>\n",
       "      <td>[[64.11036004541992, 34.137273635147906], [64....</td>\n",
       "      <td>[0.11019329, 0.08970148, 0.09392373, 0.1159680...</td>\n",
       "      <td>...</td>\n",
       "      <td>long_comp</td>\n",
       "      <td>2415571.0</td>\n",
       "      <td>48236575.0</td>\n",
       "      <td>[60.41313477701829, 37.56463736381247]</td>\n",
       "      <td>20240317_151922_long_comp_subj_3-1_and_3-3</td>\n",
       "      <td>20240317_151922_long_comp_subj_3-1_and_3-3.1.f...</td>\n",
       "      <td>1</td>\n",
       "      <td>45736</td>\n",
       "      <td>[3.1, 3.3]</td>\n",
       "      <td>0</td>\n",
       "    </tr>\n",
       "    <tr>\n",
       "      <th>2</th>\n",
       "      <td>20240317_172017_long_comp_subj_4-2_and_4-3.1</td>\n",
       "      <td>4.2</td>\n",
       "      <td>[1701, 1701, 1701, 1701, 1701, 1701, 1701, 170...</td>\n",
       "      <td>[1100, 1100, 1100, 1100, 1100, 1100, 1100, 110...</td>\n",
       "      <td>[[[61.75545079959451, 33.21821636449367], [59....</td>\n",
       "      <td>[[60.79884848875681, 35.963595797483414], [60....</td>\n",
       "      <td>[1.2679133, 1.1848546, 1.0835545, 1.0503241, 1...</td>\n",
       "      <td>[[56.32709801682682, 29.966639024342353], [56....</td>\n",
       "      <td>[[57.3449526902064, 32.078917344899914], [57.5...</td>\n",
       "      <td>[0.28695866, 0.29812592, 0.3080636, 0.34382957...</td>\n",
       "      <td>...</td>\n",
       "      <td>long_comp</td>\n",
       "      <td>2020598.0</td>\n",
       "      <td>61007363.0</td>\n",
       "      <td>[60.1935112853622, 35.25163617313764]</td>\n",
       "      <td>20240317_172017_long_comp_subj_4-2_and_4-3</td>\n",
       "      <td>20240317_172017_long_comp_subj_4-2_and_4-3.1.f...</td>\n",
       "      <td>1</td>\n",
       "      <td>58878</td>\n",
       "      <td>[4.2, 4.3]</td>\n",
       "      <td>1</td>\n",
       "    </tr>\n",
       "    <tr>\n",
       "      <th>3</th>\n",
       "      <td>20240317_172017_long_comp_subj_4-2_and_4-3.1</td>\n",
       "      <td>4.3</td>\n",
       "      <td>[1701, 1701, 1701, 1701, 1701, 1701, 1701, 170...</td>\n",
       "      <td>[1100, 1100, 1100, 1100, 1100, 1100, 1100, 110...</td>\n",
       "      <td>[[[67.1750209289574, 9.986812953490931], [69.1...</td>\n",
       "      <td>[[65.23110812441777, 8.220414676017084], [62.5...</td>\n",
       "      <td>[28.389486, 28.209822, 28.007545, 27.813864, 2...</td>\n",
       "      <td>[[72.8621368084351, 13.53665765315761], [72.41...</td>\n",
       "      <td>[[72.18478668206376, 10.328978616940205], [71....</td>\n",
       "      <td>[21.16527, 21.272135, 21.302916, 21.162853, 20...</td>\n",
       "      <td>...</td>\n",
       "      <td>long_comp</td>\n",
       "      <td>2020598.0</td>\n",
       "      <td>61007363.0</td>\n",
       "      <td>[60.1935112853622, 35.25163617313764]</td>\n",
       "      <td>20240317_172017_long_comp_subj_4-2_and_4-3</td>\n",
       "      <td>20240317_172017_long_comp_subj_4-2_and_4-3.1.f...</td>\n",
       "      <td>1</td>\n",
       "      <td>58878</td>\n",
       "      <td>[4.2, 4.3]</td>\n",
       "      <td>1</td>\n",
       "    </tr>\n",
       "    <tr>\n",
       "      <th>4</th>\n",
       "      <td>20240318_143819_long_comp_subj_3-3_and_3-4.1</td>\n",
       "      <td>3.3</td>\n",
       "      <td>[1733, 1733, 1733, 1733, 1733, 1733, 1733, 173...</td>\n",
       "      <td>[1134, 1134, 1134, 1134, 1134, 1134, 1134, 113...</td>\n",
       "      <td>[[[61.29948457574409, 34.98487547102027], [61....</td>\n",
       "      <td>[[58.01061366578415, 33.98924535992776], [58.0...</td>\n",
       "      <td>[3.077167, 3.613538, 4.1945314, 4.827455, 5.53...</td>\n",
       "      <td>[[68.06216599593583, 32.37245454635553], [67.8...</td>\n",
       "      <td>[[65.57930503887175, 33.84569047638807], [65.3...</td>\n",
       "      <td>[8.288751, 9.374064, 10.581271, 11.979093, 13....</td>\n",
       "      <td>...</td>\n",
       "      <td>long_comp</td>\n",
       "      <td>1938832.0</td>\n",
       "      <td>60762064.0</td>\n",
       "      <td>[60.56358180384908, 36.19153363328459]</td>\n",
       "      <td>20240318_143819_long_comp_subj_3-3_and_3-4</td>\n",
       "      <td>20240318_143819_long_comp_subj_3-3_and_3-4.1.f...</td>\n",
       "      <td>1</td>\n",
       "      <td>58752</td>\n",
       "      <td>[3.3, 3.4]</td>\n",
       "      <td>2</td>\n",
       "    </tr>\n",
       "  </tbody>\n",
       "</table>\n",
       "<p>5 rows × 71 columns</p>\n",
       "</div>"
      ],
      "text/plain": [
       "                                     video_name current_subject  \\\n",
       "0  20240317_151922_long_comp_subj_3-1_and_3-3.1             3.1   \n",
       "1  20240317_151922_long_comp_subj_3-1_and_3-3.1             3.3   \n",
       "2  20240317_172017_long_comp_subj_4-2_and_4-3.1             4.2   \n",
       "3  20240317_172017_long_comp_subj_4-2_and_4-3.1             4.3   \n",
       "4  20240318_143819_long_comp_subj_3-3_and_3-4.1             3.3   \n",
       "\n",
       "                                10s_after_tone_frame  \\\n",
       "0  [1686, 1686, 1686, 1686, 1686, 1686, 1686, 168...   \n",
       "1  [1686, 1686, 1686, 1686, 1686, 1686, 1686, 168...   \n",
       "2  [1701, 1701, 1701, 1701, 1701, 1701, 1701, 170...   \n",
       "3  [1701, 1701, 1701, 1701, 1701, 1701, 1701, 170...   \n",
       "4  [1733, 1733, 1733, 1733, 1733, 1733, 1733, 173...   \n",
       "\n",
       "                               10s_before_tone_frame  \\\n",
       "0  [1086, 1086, 1086, 1086, 1086, 1086, 1086, 108...   \n",
       "1  [1086, 1086, 1086, 1086, 1086, 1086, 1086, 108...   \n",
       "2  [1100, 1100, 1100, 1100, 1100, 1100, 1100, 110...   \n",
       "3  [1100, 1100, 1100, 1100, 1100, 1100, 1100, 110...   \n",
       "4  [1134, 1134, 1134, 1134, 1134, 1134, 1134, 113...   \n",
       "\n",
       "                                     agent_locations  \\\n",
       "0  [[[47.329585864054316, 13.395104517336417], [4...   \n",
       "1  [[[61.390550187751444, 36.122362967315595], [5...   \n",
       "2  [[[61.75545079959451, 33.21821636449367], [59....   \n",
       "3  [[[67.1750209289574, 9.986812953490931], [69.1...   \n",
       "4  [[[61.29948457574409, 34.98487547102027], [61....   \n",
       "\n",
       "                                          agent_nose  \\\n",
       "0  [[43.139588993359475, 13.385259646809214], [43...   \n",
       "1  [[60.14673983110819, 38.0809500426292], [60.14...   \n",
       "2  [[60.79884848875681, 35.963595797483414], [60....   \n",
       "3  [[65.23110812441777, 8.220414676017084], [62.5...   \n",
       "4  [[58.01061366578415, 33.98924535992776], [58.0...   \n",
       "\n",
       "                           agent_nose_to_reward_port  \\\n",
       "0  [29.850004, 29.948483, 30.033619, 30.119339, 3...   \n",
       "1  [0.7214881, 0.70931464, 0.7049949, 0.705891, 0...   \n",
       "2  [1.2679133, 1.1848546, 1.0835545, 1.0503241, 1...   \n",
       "3  [28.389486, 28.209822, 28.007545, 27.813864, 2...   \n",
       "4  [3.077167, 3.613538, 4.1945314, 4.827455, 5.53...   \n",
       "\n",
       "                                     agent_tail_base  \\\n",
       "0  [[54.49241922411595, 12.722769593270066], [54....   \n",
       "1  [[65.86894804065032, 31.8436244490543], [65.86...   \n",
       "2  [[56.32709801682682, 29.966639024342353], [56....   \n",
       "3  [[72.8621368084351, 13.53665765315761], [72.41...   \n",
       "4  [[68.06216599593583, 32.37245454635553], [67.8...   \n",
       "\n",
       "                                        agent_thorax  \\\n",
       "0  [[51.04336785027878, 11.609328010205985], [51....   \n",
       "1  [[64.11036004541992, 34.137273635147906], [64....   \n",
       "2  [[57.3449526902064, 32.078917344899914], [57.5...   \n",
       "3  [[72.18478668206376, 10.328978616940205], [71....   \n",
       "4  [[65.57930503887175, 33.84569047638807], [65.3...   \n",
       "\n",
       "                               agent_thorax_velocity  ... experiment  \\\n",
       "0  [1.75459, 0.8485628, 0.20676309, -0.17881195, ...  ...  long_comp   \n",
       "1  [0.11019329, 0.08970148, 0.09392373, 0.1159680...  ...  long_comp   \n",
       "2  [0.28695866, 0.29812592, 0.3080636, 0.34382957...  ...  long_comp   \n",
       "3  [21.16527, 21.272135, 21.302916, 21.162853, 20...  ...  long_comp   \n",
       "4  [8.288751, 9.374064, 10.581271, 11.979093, 13....  ...  long_comp   \n",
       "\n",
       "  first_timestamp last_timestamp                             reward_port  \\\n",
       "0       2415571.0     48236575.0  [60.41313477701829, 37.56463736381247]   \n",
       "1       2415571.0     48236575.0  [60.41313477701829, 37.56463736381247]   \n",
       "2       2020598.0     61007363.0   [60.1935112853622, 35.25163617313764]   \n",
       "3       2020598.0     61007363.0   [60.1935112853622, 35.25163617313764]   \n",
       "4       1938832.0     60762064.0  [60.56358180384908, 36.19153363328459]   \n",
       "\n",
       "                                  session_dir  \\\n",
       "0  20240317_151922_long_comp_subj_3-1_and_3-3   \n",
       "1  20240317_151922_long_comp_subj_3-1_and_3-3   \n",
       "2  20240317_172017_long_comp_subj_4-2_and_4-3   \n",
       "3  20240317_172017_long_comp_subj_4-2_and_4-3   \n",
       "4  20240318_143819_long_comp_subj_3-3_and_3-4   \n",
       "\n",
       "                                          sleap_name start_frame stop_frame  \\\n",
       "0  20240317_151922_long_comp_subj_3-1_and_3-3.1.f...           1      45736   \n",
       "1  20240317_151922_long_comp_subj_3-1_and_3-3.1.f...           1      45736   \n",
       "2  20240317_172017_long_comp_subj_4-2_and_4-3.1.f...           1      58878   \n",
       "3  20240317_172017_long_comp_subj_4-2_and_4-3.1.f...           1      58878   \n",
       "4  20240318_143819_long_comp_subj_3-3_and_3-4.1.f...           1      58752   \n",
       "\n",
       "  tracked_subject video_id  \n",
       "0      [3.1, 3.3]        0  \n",
       "1      [3.1, 3.3]        0  \n",
       "2      [4.2, 4.3]        1  \n",
       "3      [4.2, 4.3]        1  \n",
       "4      [3.3, 3.4]        2  \n",
       "\n",
       "[5 rows x 71 columns]"
      ]
     },
     "execution_count": 14,
     "metadata": {},
     "output_type": "execute_result"
    }
   ],
   "source": [
    "SLEAP_DF.head()"
   ]
  },
  {
   "cell_type": "markdown",
   "metadata": {},
   "source": [
    "## Outputs"
   ]
  },
  {
   "cell_type": "markdown",
   "metadata": {},
   "source": [
    "Describe each output that the notebook creates. "
   ]
  },
  {
   "cell_type": "markdown",
   "metadata": {},
   "source": [
    "- Is it a plot or is it data?"
   ]
  },
  {
   "cell_type": "markdown",
   "metadata": {},
   "source": [
    "- How valuable is the output and why is it valuable or useful?"
   ]
  },
  {
   "cell_type": "code",
   "execution_count": 15,
   "metadata": {
    "tags": []
   },
   "outputs": [],
   "source": [
    "# Inputs and Required data loading\n",
    "# input varaible names are in all caps snake case\n",
    "# Whenever an input changes or is used for processing \n",
    "# the vairables are all lower in snake case\n",
    "OUTPUT_DIR = r\"./proc/\" # where data is saved should always be shown in the inputs\n",
    "os.makedirs(OUTPUT_DIR, exist_ok=True)"
   ]
  },
  {
   "cell_type": "code",
   "execution_count": 16,
   "metadata": {
    "tags": []
   },
   "outputs": [],
   "source": [
    "FULL_LFP_TRACES_PKL = \"{}_04_spectral_and_sleap.pkl\".format(OUTPUT_PREFIX)"
   ]
  },
  {
   "cell_type": "markdown",
   "metadata": {},
   "source": [
    "## Processing"
   ]
  },
  {
   "cell_type": "markdown",
   "metadata": {},
   "source": [
    "Describe what is done to the data here and how inputs are manipulated to generate outputs. "
   ]
  },
  {
   "cell_type": "markdown",
   "metadata": {},
   "source": [
    "## Merging the dataframes based on shared video name"
   ]
  },
  {
   "cell_type": "code",
   "execution_count": 17,
   "metadata": {
    "tags": []
   },
   "outputs": [],
   "source": [
    "LFP_SPECTRAL_DF[\"video_name\"] = LFP_SPECTRAL_DF[\"video_name\"].apply(lambda x: x.strip(\".videoTimeStamps.cameraHWSync\"))\n"
   ]
  },
  {
   "cell_type": "code",
   "execution_count": 18,
   "metadata": {
    "tags": []
   },
   "outputs": [
    {
     "data": {
      "text/html": [
       "<div>\n",
       "<style scoped>\n",
       "    .dataframe tbody tr th:only-of-type {\n",
       "        vertical-align: middle;\n",
       "    }\n",
       "\n",
       "    .dataframe tbody tr th {\n",
       "        vertical-align: top;\n",
       "    }\n",
       "\n",
       "    .dataframe thead th {\n",
       "        text-align: right;\n",
       "    }\n",
       "</style>\n",
       "<table border=\"1\" class=\"dataframe\">\n",
       "  <thead>\n",
       "    <tr style=\"text-align: right;\">\n",
       "      <th></th>\n",
       "      <th>cohort</th>\n",
       "      <th>session_dir</th>\n",
       "      <th>tone_frames</th>\n",
       "      <th>box_1_port_entry_frames</th>\n",
       "      <th>box_2_port_entry_frames</th>\n",
       "      <th>video_name</th>\n",
       "      <th>notes</th>\n",
       "      <th>session_path</th>\n",
       "      <th>recording</th>\n",
       "      <th>current_subject</th>\n",
       "      <th>...</th>\n",
       "      <th>vHPC_power_theta</th>\n",
       "      <th>vHPC_power_gamma</th>\n",
       "      <th>BLA_power_theta</th>\n",
       "      <th>BLA_power_gamma</th>\n",
       "      <th>LH_power_theta</th>\n",
       "      <th>LH_power_gamma</th>\n",
       "      <th>MD_power_theta</th>\n",
       "      <th>MD_power_gamma</th>\n",
       "      <th>mPFC_power_theta</th>\n",
       "      <th>mPFC_power_gamma</th>\n",
       "    </tr>\n",
       "  </thead>\n",
       "  <tbody>\n",
       "    <tr>\n",
       "      <th>0</th>\n",
       "      <td>rce_pilot_3</td>\n",
       "      <td>20240320_142408_alone_comp_subj_3-1_and_3-3</td>\n",
       "      <td>[[0, 74], [1272, 1471], [3268, 3469], [4466, 4...</td>\n",
       "      <td>[[0, 74], [152, 157], [252, 305], [305, 323], ...</td>\n",
       "      <td>[[0, 74], [160, 225], [254, 257], [257, 279], ...</td>\n",
       "      <td>20240320_142408_alone_comp_subj_3-1_and_3-3.1</td>\n",
       "      <td>NaN</td>\n",
       "      <td>/scratch/back_up/reward_competition_extention/...</td>\n",
       "      <td>20240320_142408_alone_comp_subj_3-1_t6b6_merged</td>\n",
       "      <td>3.1</td>\n",
       "      <td>...</td>\n",
       "      <td>[nan, 0.07223674, 0.06942491, 0.065466404, 0.0...</td>\n",
       "      <td>[nan, 0.0046885125, 0.0033377786, 0.0018332143...</td>\n",
       "      <td>[0.01945638, nan, nan, nan, 0.019393958, nan, ...</td>\n",
       "      <td>[0.0130572505, nan, nan, nan, 0.007762581, nan...</td>\n",
       "      <td>[nan, nan, 0.03636455, 0.029700823, 0.02418904...</td>\n",
       "      <td>[nan, nan, 0.0018358257, 0.0017288909, 0.00135...</td>\n",
       "      <td>[0.033121496, 0.041370735, 0.055094175, 0.0427...</td>\n",
       "      <td>[0.0017061487, 0.0015902787, 0.0014763202, 0.0...</td>\n",
       "      <td>[0.016354451, 0.025327114, 0.028878175, 0.0222...</td>\n",
       "      <td>[0.00209533, 0.0015905038, 0.0014053435, 0.001...</td>\n",
       "    </tr>\n",
       "    <tr>\n",
       "      <th>1</th>\n",
       "      <td>rce_pilot_3</td>\n",
       "      <td>20240320_142408_alone_comp_subj_3-1_and_3-3</td>\n",
       "      <td>[[0, 75], [1273, 1472], [3269, 3470], [4467, 4...</td>\n",
       "      <td>[[0, 75], [153, 158], [252, 306], [306, 324], ...</td>\n",
       "      <td>[[0, 75], [161, 226], [255, 258], [258, 280], ...</td>\n",
       "      <td>20240320_142408_alone_comp_subj_3-1_and_3-3.2</td>\n",
       "      <td>NaN</td>\n",
       "      <td>/scratch/back_up/reward_competition_extention/...</td>\n",
       "      <td>20240320_142408_alone_comp_subj_3-1_t6b6_merged</td>\n",
       "      <td>3.1</td>\n",
       "      <td>...</td>\n",
       "      <td>[nan, 0.07223674, 0.06942491, 0.065466404, 0.0...</td>\n",
       "      <td>[nan, 0.0046885125, 0.0033377786, 0.0018332143...</td>\n",
       "      <td>[0.01945638, nan, nan, nan, 0.019393958, nan, ...</td>\n",
       "      <td>[0.0130572505, nan, nan, nan, 0.007762581, nan...</td>\n",
       "      <td>[nan, nan, 0.03636455, 0.029700823, 0.02418904...</td>\n",
       "      <td>[nan, nan, 0.0018358257, 0.0017288909, 0.00135...</td>\n",
       "      <td>[0.033121496, 0.041370735, 0.055094175, 0.0427...</td>\n",
       "      <td>[0.0017061487, 0.0015902787, 0.0014763202, 0.0...</td>\n",
       "      <td>[0.016354451, 0.025327114, 0.028878175, 0.0222...</td>\n",
       "      <td>[0.00209533, 0.0015905038, 0.0014053435, 0.001...</td>\n",
       "    </tr>\n",
       "    <tr>\n",
       "      <th>2</th>\n",
       "      <td>rce_pilot_3</td>\n",
       "      <td>20240320_142408_alone_comp_subj_3-1_and_3-3</td>\n",
       "      <td>[[0, 74], [1272, 1471], [3268, 3469], [4466, 4...</td>\n",
       "      <td>[[0, 74], [152, 157], [252, 305], [305, 323], ...</td>\n",
       "      <td>[[0, 74], [160, 225], [254, 257], [257, 279], ...</td>\n",
       "      <td>20240320_142408_alone_comp_subj_3-1_and_3-3.1</td>\n",
       "      <td>NaN</td>\n",
       "      <td>/scratch/back_up/reward_competition_extention/...</td>\n",
       "      <td>20240320_142408_alone_comp_subj_3-3_t5b5_merged</td>\n",
       "      <td>3.3</td>\n",
       "      <td>...</td>\n",
       "      <td>[0.0408452, 0.04246293, 0.04184469, nan, nan, ...</td>\n",
       "      <td>[0.0008264334, 0.0009773864, 0.0009832539, nan...</td>\n",
       "      <td>[0.024847934, 0.047361273, 0.042880192, nan, n...</td>\n",
       "      <td>[0.0006459263, 0.00090438855, 0.0010187915, na...</td>\n",
       "      <td>[0.023980794, 0.04565177, 0.03644787, nan, nan...</td>\n",
       "      <td>[0.00055783533, 0.00084574166, 0.0008706296, n...</td>\n",
       "      <td>[0.016893655, 0.027668845, 0.022960208, nan, n...</td>\n",
       "      <td>[0.0006401466, 0.0010481183, 0.0009893934, nan...</td>\n",
       "      <td>[0.021055607, 0.030588005, 0.023756983, nan, n...</td>\n",
       "      <td>[0.0008363458, 0.001157422, 0.0010688329, nan,...</td>\n",
       "    </tr>\n",
       "    <tr>\n",
       "      <th>3</th>\n",
       "      <td>rce_pilot_3</td>\n",
       "      <td>20240320_142408_alone_comp_subj_3-1_and_3-3</td>\n",
       "      <td>[[0, 75], [1273, 1472], [3269, 3470], [4467, 4...</td>\n",
       "      <td>[[0, 75], [153, 158], [252, 306], [306, 324], ...</td>\n",
       "      <td>[[0, 75], [161, 226], [255, 258], [258, 280], ...</td>\n",
       "      <td>20240320_142408_alone_comp_subj_3-1_and_3-3.2</td>\n",
       "      <td>NaN</td>\n",
       "      <td>/scratch/back_up/reward_competition_extention/...</td>\n",
       "      <td>20240320_142408_alone_comp_subj_3-3_t5b5_merged</td>\n",
       "      <td>3.3</td>\n",
       "      <td>...</td>\n",
       "      <td>[0.0408452, 0.04246293, 0.04184469, nan, nan, ...</td>\n",
       "      <td>[0.0008264334, 0.0009773864, 0.0009832539, nan...</td>\n",
       "      <td>[0.024847934, 0.047361273, 0.042880192, nan, n...</td>\n",
       "      <td>[0.0006459263, 0.00090438855, 0.0010187915, na...</td>\n",
       "      <td>[0.023980794, 0.04565177, 0.03644787, nan, nan...</td>\n",
       "      <td>[0.00055783533, 0.00084574166, 0.0008706296, n...</td>\n",
       "      <td>[0.016893655, 0.027668845, 0.022960208, nan, n...</td>\n",
       "      <td>[0.0006401466, 0.0010481183, 0.0009893934, nan...</td>\n",
       "      <td>[0.021055607, 0.030588005, 0.023756983, nan, n...</td>\n",
       "      <td>[0.0008363458, 0.001157422, 0.0010688329, nan,...</td>\n",
       "    </tr>\n",
       "    <tr>\n",
       "      <th>4</th>\n",
       "      <td>rce_pilot_3</td>\n",
       "      <td>20240320_171038_alone_comp_subj_4-2_and_4-3</td>\n",
       "      <td>[[0, 79], [1276, 1477], [3272, 3473], [4470, 4...</td>\n",
       "      <td>[[0, 79], [84, 92], [92, 132], [145, 175], [25...</td>\n",
       "      <td>[[0, 79], [79, 186], [188, 191], [191, 268], [...</td>\n",
       "      <td>20240320_171038_alone_comp_subj_4-2_and_4-3.1</td>\n",
       "      <td>NaN</td>\n",
       "      <td>/scratch/back_up/reward_competition_extention/...</td>\n",
       "      <td>20240320_171038_alone_comp_subj_4-2_t6b6_merged</td>\n",
       "      <td>4.2</td>\n",
       "      <td>...</td>\n",
       "      <td>[0.046842232, nan, nan, 0.023685867, 0.0444350...</td>\n",
       "      <td>[0.00366902, nan, nan, 0.002184509, 0.00216185...</td>\n",
       "      <td>[0.03638237, 0.03240743, nan, nan, nan, nan, 0...</td>\n",
       "      <td>[0.0023446064, 0.0023572678, nan, nan, nan, na...</td>\n",
       "      <td>[0.022580775, 0.020614795, 0.025732357, 0.0402...</td>\n",
       "      <td>[0.000938801, 0.0009402243, 0.0009571773, 0.00...</td>\n",
       "      <td>[0.035689075, 0.029545942, 0.038346574, 0.0345...</td>\n",
       "      <td>[0.0006134348, 0.00083359046, 0.00092188915, 0...</td>\n",
       "      <td>[nan, 0.028878195, 0.0361402, 0.056812976, 0.0...</td>\n",
       "      <td>[nan, 0.0015049445, 0.0015290054, 0.0016440556...</td>\n",
       "    </tr>\n",
       "  </tbody>\n",
       "</table>\n",
       "<p>5 rows × 155 columns</p>\n",
       "</div>"
      ],
      "text/plain": [
       "        cohort                                  session_dir  \\\n",
       "0  rce_pilot_3  20240320_142408_alone_comp_subj_3-1_and_3-3   \n",
       "1  rce_pilot_3  20240320_142408_alone_comp_subj_3-1_and_3-3   \n",
       "2  rce_pilot_3  20240320_142408_alone_comp_subj_3-1_and_3-3   \n",
       "3  rce_pilot_3  20240320_142408_alone_comp_subj_3-1_and_3-3   \n",
       "4  rce_pilot_3  20240320_171038_alone_comp_subj_4-2_and_4-3   \n",
       "\n",
       "                                         tone_frames  \\\n",
       "0  [[0, 74], [1272, 1471], [3268, 3469], [4466, 4...   \n",
       "1  [[0, 75], [1273, 1472], [3269, 3470], [4467, 4...   \n",
       "2  [[0, 74], [1272, 1471], [3268, 3469], [4466, 4...   \n",
       "3  [[0, 75], [1273, 1472], [3269, 3470], [4467, 4...   \n",
       "4  [[0, 79], [1276, 1477], [3272, 3473], [4470, 4...   \n",
       "\n",
       "                             box_1_port_entry_frames  \\\n",
       "0  [[0, 74], [152, 157], [252, 305], [305, 323], ...   \n",
       "1  [[0, 75], [153, 158], [252, 306], [306, 324], ...   \n",
       "2  [[0, 74], [152, 157], [252, 305], [305, 323], ...   \n",
       "3  [[0, 75], [153, 158], [252, 306], [306, 324], ...   \n",
       "4  [[0, 79], [84, 92], [92, 132], [145, 175], [25...   \n",
       "\n",
       "                             box_2_port_entry_frames  \\\n",
       "0  [[0, 74], [160, 225], [254, 257], [257, 279], ...   \n",
       "1  [[0, 75], [161, 226], [255, 258], [258, 280], ...   \n",
       "2  [[0, 74], [160, 225], [254, 257], [257, 279], ...   \n",
       "3  [[0, 75], [161, 226], [255, 258], [258, 280], ...   \n",
       "4  [[0, 79], [79, 186], [188, 191], [191, 268], [...   \n",
       "\n",
       "                                      video_name notes  \\\n",
       "0  20240320_142408_alone_comp_subj_3-1_and_3-3.1   NaN   \n",
       "1  20240320_142408_alone_comp_subj_3-1_and_3-3.2   NaN   \n",
       "2  20240320_142408_alone_comp_subj_3-1_and_3-3.1   NaN   \n",
       "3  20240320_142408_alone_comp_subj_3-1_and_3-3.2   NaN   \n",
       "4  20240320_171038_alone_comp_subj_4-2_and_4-3.1   NaN   \n",
       "\n",
       "                                        session_path  \\\n",
       "0  /scratch/back_up/reward_competition_extention/...   \n",
       "1  /scratch/back_up/reward_competition_extention/...   \n",
       "2  /scratch/back_up/reward_competition_extention/...   \n",
       "3  /scratch/back_up/reward_competition_extention/...   \n",
       "4  /scratch/back_up/reward_competition_extention/...   \n",
       "\n",
       "                                         recording current_subject  ...  \\\n",
       "0  20240320_142408_alone_comp_subj_3-1_t6b6_merged             3.1  ...   \n",
       "1  20240320_142408_alone_comp_subj_3-1_t6b6_merged             3.1  ...   \n",
       "2  20240320_142408_alone_comp_subj_3-3_t5b5_merged             3.3  ...   \n",
       "3  20240320_142408_alone_comp_subj_3-3_t5b5_merged             3.3  ...   \n",
       "4  20240320_171038_alone_comp_subj_4-2_t6b6_merged             4.2  ...   \n",
       "\n",
       "                                    vHPC_power_theta  \\\n",
       "0  [nan, 0.07223674, 0.06942491, 0.065466404, 0.0...   \n",
       "1  [nan, 0.07223674, 0.06942491, 0.065466404, 0.0...   \n",
       "2  [0.0408452, 0.04246293, 0.04184469, nan, nan, ...   \n",
       "3  [0.0408452, 0.04246293, 0.04184469, nan, nan, ...   \n",
       "4  [0.046842232, nan, nan, 0.023685867, 0.0444350...   \n",
       "\n",
       "                                    vHPC_power_gamma  \\\n",
       "0  [nan, 0.0046885125, 0.0033377786, 0.0018332143...   \n",
       "1  [nan, 0.0046885125, 0.0033377786, 0.0018332143...   \n",
       "2  [0.0008264334, 0.0009773864, 0.0009832539, nan...   \n",
       "3  [0.0008264334, 0.0009773864, 0.0009832539, nan...   \n",
       "4  [0.00366902, nan, nan, 0.002184509, 0.00216185...   \n",
       "\n",
       "                                     BLA_power_theta  \\\n",
       "0  [0.01945638, nan, nan, nan, 0.019393958, nan, ...   \n",
       "1  [0.01945638, nan, nan, nan, 0.019393958, nan, ...   \n",
       "2  [0.024847934, 0.047361273, 0.042880192, nan, n...   \n",
       "3  [0.024847934, 0.047361273, 0.042880192, nan, n...   \n",
       "4  [0.03638237, 0.03240743, nan, nan, nan, nan, 0...   \n",
       "\n",
       "                                     BLA_power_gamma  \\\n",
       "0  [0.0130572505, nan, nan, nan, 0.007762581, nan...   \n",
       "1  [0.0130572505, nan, nan, nan, 0.007762581, nan...   \n",
       "2  [0.0006459263, 0.00090438855, 0.0010187915, na...   \n",
       "3  [0.0006459263, 0.00090438855, 0.0010187915, na...   \n",
       "4  [0.0023446064, 0.0023572678, nan, nan, nan, na...   \n",
       "\n",
       "                                      LH_power_theta  \\\n",
       "0  [nan, nan, 0.03636455, 0.029700823, 0.02418904...   \n",
       "1  [nan, nan, 0.03636455, 0.029700823, 0.02418904...   \n",
       "2  [0.023980794, 0.04565177, 0.03644787, nan, nan...   \n",
       "3  [0.023980794, 0.04565177, 0.03644787, nan, nan...   \n",
       "4  [0.022580775, 0.020614795, 0.025732357, 0.0402...   \n",
       "\n",
       "                                      LH_power_gamma  \\\n",
       "0  [nan, nan, 0.0018358257, 0.0017288909, 0.00135...   \n",
       "1  [nan, nan, 0.0018358257, 0.0017288909, 0.00135...   \n",
       "2  [0.00055783533, 0.00084574166, 0.0008706296, n...   \n",
       "3  [0.00055783533, 0.00084574166, 0.0008706296, n...   \n",
       "4  [0.000938801, 0.0009402243, 0.0009571773, 0.00...   \n",
       "\n",
       "                                      MD_power_theta  \\\n",
       "0  [0.033121496, 0.041370735, 0.055094175, 0.0427...   \n",
       "1  [0.033121496, 0.041370735, 0.055094175, 0.0427...   \n",
       "2  [0.016893655, 0.027668845, 0.022960208, nan, n...   \n",
       "3  [0.016893655, 0.027668845, 0.022960208, nan, n...   \n",
       "4  [0.035689075, 0.029545942, 0.038346574, 0.0345...   \n",
       "\n",
       "                                      MD_power_gamma  \\\n",
       "0  [0.0017061487, 0.0015902787, 0.0014763202, 0.0...   \n",
       "1  [0.0017061487, 0.0015902787, 0.0014763202, 0.0...   \n",
       "2  [0.0006401466, 0.0010481183, 0.0009893934, nan...   \n",
       "3  [0.0006401466, 0.0010481183, 0.0009893934, nan...   \n",
       "4  [0.0006134348, 0.00083359046, 0.00092188915, 0...   \n",
       "\n",
       "                                    mPFC_power_theta  \\\n",
       "0  [0.016354451, 0.025327114, 0.028878175, 0.0222...   \n",
       "1  [0.016354451, 0.025327114, 0.028878175, 0.0222...   \n",
       "2  [0.021055607, 0.030588005, 0.023756983, nan, n...   \n",
       "3  [0.021055607, 0.030588005, 0.023756983, nan, n...   \n",
       "4  [nan, 0.028878195, 0.0361402, 0.056812976, 0.0...   \n",
       "\n",
       "                                    mPFC_power_gamma  \n",
       "0  [0.00209533, 0.0015905038, 0.0014053435, 0.001...  \n",
       "1  [0.00209533, 0.0015905038, 0.0014053435, 0.001...  \n",
       "2  [0.0008363458, 0.001157422, 0.0010688329, nan,...  \n",
       "3  [0.0008363458, 0.001157422, 0.0010688329, nan,...  \n",
       "4  [nan, 0.0015049445, 0.0015290054, 0.0016440556...  \n",
       "\n",
       "[5 rows x 155 columns]"
      ]
     },
     "execution_count": 18,
     "metadata": {},
     "output_type": "execute_result"
    }
   ],
   "source": [
    "LFP_SPECTRAL_DF.head()"
   ]
  },
  {
   "cell_type": "code",
   "execution_count": 19,
   "metadata": {
    "tags": []
   },
   "outputs": [],
   "source": [
    "SLEAP_DF[\"video_name\"] = SLEAP_DF[\"video_name\"].apply(lambda x: x.strip(\".videoTimeStamps.cameraHWSync\"))\n"
   ]
  },
  {
   "cell_type": "code",
   "execution_count": 20,
   "metadata": {},
   "outputs": [
    {
     "data": {
      "text/plain": [
       "0     [1287955.0, 1287955.0, 1287955.0, 1287955.0, 1...\n",
       "1     [1287955.0, 1287955.0, 1287955.0, 1287955.0, 1...\n",
       "2     [1302635.0, 1302635.0, 1302635.0, 1302635.0, 1...\n",
       "3     [1302635.0, 1302635.0, 1302635.0, 1302635.0, 1...\n",
       "4     [1300498.0, 1300498.0, 1300498.0, 1300498.0, 1...\n",
       "5     [1300498.0, 1300498.0, 1300498.0, 1300498.0, 1...\n",
       "6     [1378134.0, 1378134.0, 1378134.0, 1378134.0, 1...\n",
       "7     [1378134.0, 1378134.0, 1378134.0, 1378134.0, 1...\n",
       "8     [1543730.0, 1543730.0, 1543730.0, 1543730.0, 1...\n",
       "9     [1543730.0, 1543730.0, 1543730.0, 1543730.0, 1...\n",
       "10    [1362950.0, 1362950.0, 1362950.0, 1362950.0, 1...\n",
       "11    [1362950.0, 1362950.0, 1362950.0, 1362950.0, 1...\n",
       "12    [34276299.0, 34276299.0, 34276299.0, 34276299....\n",
       "13    [34276299.0, 34276299.0, 34276299.0, 34276299....\n",
       "14    [34280576.0, 34280576.0, 34280576.0, 34280576....\n",
       "15    [34280576.0, 34280576.0, 34280576.0, 34280576....\n",
       "16    [1305657.0, 1305657.0, 1305657.0, 1305657.0, 1...\n",
       "17    [1305657.0, 1305657.0, 1305657.0, 1305657.0, 1...\n",
       "18    [34303075.0, 34303075.0, 34303075.0, 34303075....\n",
       "19    [34303075.0, 34303075.0, 34303075.0, 34303075....\n",
       "20    [34296415.0, 34296415.0, 34296415.0, 34296415....\n",
       "21    [34296415.0, 34296415.0, 34296415.0, 34296415....\n",
       "22    [34269488.0, 34269488.0, 34269488.0, 34269488....\n",
       "23    [34269488.0, 34269488.0, 34269488.0, 34269488....\n",
       "24    [35156898.0, 35156898.0, 35156898.0, 35156898....\n",
       "25    [35156898.0, 35156898.0, 35156898.0, 35156898....\n",
       "26    [37364639.0, 37364639.0, 37364639.0, 37364639....\n",
       "27    [37364639.0, 37364639.0, 37364639.0, 37364639....\n",
       "Name: tone_start_timestamp, dtype: object"
      ]
     },
     "execution_count": 20,
     "metadata": {},
     "output_type": "execute_result"
    }
   ],
   "source": [
    "SLEAP_DF[\"tone_start_timestamp\"]"
   ]
  },
  {
   "cell_type": "code",
   "execution_count": 21,
   "metadata": {
    "tags": []
   },
   "outputs": [],
   "source": [
    "cols_to_use = LFP_SPECTRAL_DF.columns.difference(SLEAP_DF.columns)\n",
    "merged_LFP_SPECTRAL_DF = pd.merge(SLEAP_DF, LFP_SPECTRAL_DF[list(cols_to_use) + [\"video_name\", \"current_subject\"]], on=[\"video_name\", \"current_subject\"], how=\"inner\")"
   ]
  },
  {
   "cell_type": "code",
   "execution_count": 22,
   "metadata": {
    "tags": []
   },
   "outputs": [
    {
     "data": {
      "text/html": [
       "<div>\n",
       "<style scoped>\n",
       "    .dataframe tbody tr th:only-of-type {\n",
       "        vertical-align: middle;\n",
       "    }\n",
       "\n",
       "    .dataframe tbody tr th {\n",
       "        vertical-align: top;\n",
       "    }\n",
       "\n",
       "    .dataframe thead th {\n",
       "        text-align: right;\n",
       "    }\n",
       "</style>\n",
       "<table border=\"1\" class=\"dataframe\">\n",
       "  <thead>\n",
       "    <tr style=\"text-align: right;\">\n",
       "      <th></th>\n",
       "      <th>video_name</th>\n",
       "      <th>current_subject</th>\n",
       "      <th>10s_after_tone_frame</th>\n",
       "      <th>10s_before_tone_frame</th>\n",
       "      <th>agent_locations</th>\n",
       "      <th>agent_nose</th>\n",
       "      <th>agent_nose_to_reward_port</th>\n",
       "      <th>agent_tail_base</th>\n",
       "      <th>agent_thorax</th>\n",
       "      <th>agent_thorax_velocity</th>\n",
       "      <th>...</th>\n",
       "      <th>vHPC_gamma_band</th>\n",
       "      <th>vHPC_gamma_phase</th>\n",
       "      <th>vHPC_lfp_trace</th>\n",
       "      <th>vHPC_mPFC_granger_all_frequencies_all_windows</th>\n",
       "      <th>vHPC_power_all_frequencies_all_windows</th>\n",
       "      <th>vHPC_power_gamma</th>\n",
       "      <th>vHPC_power_theta</th>\n",
       "      <th>vHPC_theta_band</th>\n",
       "      <th>vHPC_theta_phase</th>\n",
       "      <th>video_timestamps</th>\n",
       "    </tr>\n",
       "  </thead>\n",
       "  <tbody>\n",
       "    <tr>\n",
       "      <th>0</th>\n",
       "      <td>20240320_142408_alone_comp_subj_3-1_and_3-3.1</td>\n",
       "      <td>3.1</td>\n",
       "      <td>[34640, 34640, 34640, 34640, 34640, 34640, 346...</td>\n",
       "      <td>[34040, 34040, 34040, 34040, 34040, 34040, 340...</td>\n",
       "      <td>[[[54.047201234350496, 32.48462136905939], [52...</td>\n",
       "      <td>[[57.31849083590113, 33.645587310504695], [56....</td>\n",
       "      <td>[4.960474, 5.34718, 5.802983, 6.407976, 7.1417...</td>\n",
       "      <td>[[46.630318040576064, 30.523901100123272], [46...</td>\n",
       "      <td>[[48.61806735273943, 32.66608744832453], [48.1...</td>\n",
       "      <td>[7.0735817, 9.794592, 12.977724, 16.4886, 20.1...</td>\n",
       "      <td>...</td>\n",
       "      <td>[-0.07481611, -0.11126414, -0.14154938, -0.162...</td>\n",
       "      <td>[2.1274095, 2.4930122, 2.7189336, 3.0126748, -...</td>\n",
       "      <td>[65.715, 96.329994, 95.159996, 77.61, 112.905,...</td>\n",
       "      <td>[[nan, nan, nan, nan, nan, nan, nan, nan, nan,...</td>\n",
       "      <td>[[nan, nan, nan, nan, nan, nan, nan, nan, nan,...</td>\n",
       "      <td>[nan, 0.0046885125, 0.0033377786, 0.0018332143...</td>\n",
       "      <td>[nan, 0.07223674, 0.06942491, 0.065466404, 0.0...</td>\n",
       "      <td>[0.8526041, 0.89195466, 0.93002737, 0.96665066...</td>\n",
       "      <td>[-1.0124702, -0.7600434, -0.73781365, -0.59900...</td>\n",
       "      <td>[1384, 2770, 4156, 4156, 5542, 6928, 6928, 831...</td>\n",
       "    </tr>\n",
       "    <tr>\n",
       "      <th>1</th>\n",
       "      <td>20240320_142408_alone_comp_subj_3-1_and_3-3.1</td>\n",
       "      <td>3.3</td>\n",
       "      <td>[34640, 34640, 34640, 34640, 34640, 34640, 346...</td>\n",
       "      <td>[34040, 34040, 34040, 34040, 34040, 34040, 340...</td>\n",
       "      <td>[[[62.81573570925102, 33.49031610207749], [59....</td>\n",
       "      <td>[[60.5507800219845, 35.26465151447588], [60.78...</td>\n",
       "      <td>[0.53517926, 0.50113046, 0.48567954, 0.4737239...</td>\n",
       "      <td>[[66.06126838242345, 28.880162680346388], [66....</td>\n",
       "      <td>[[64.05699608055423, 31.17933144091776], [64.0...</td>\n",
       "      <td>[0.07300971, 0.08296164, 0.08879429, 0.0909930...</td>\n",
       "      <td>...</td>\n",
       "      <td>[0.055602852, -0.017465636, -0.09318138, -0.16...</td>\n",
       "      <td>[1.1501461, 1.6517024, 1.9768442, 2.2265384, 2...</td>\n",
       "      <td>[-100.619995, -102.96, -129.87, -165.75, -191....</td>\n",
       "      <td>[[2.5391848, 1.5146569, 1.0411696, 1.5689967, ...</td>\n",
       "      <td>[[0.001042456, 0.009847558, 0.012313993, 0.009...</td>\n",
       "      <td>[0.0008264334, 0.0009773864, 0.0009832539, nan...</td>\n",
       "      <td>[0.0408452, 0.04246293, 0.04184469, nan, nan, ...</td>\n",
       "      <td>[-0.347932, -0.33184236, -0.31452566, -0.29600...</td>\n",
       "      <td>[2.6819186, -2.904363, -2.827914, -2.5523405, ...</td>\n",
       "      <td>[1384, 2770, 4156, 4156, 5542, 6928, 6928, 831...</td>\n",
       "    </tr>\n",
       "    <tr>\n",
       "      <th>2</th>\n",
       "      <td>20240320_171038_alone_comp_subj_4-2_and_4-3.1</td>\n",
       "      <td>4.2</td>\n",
       "      <td>[34642, 34642, 34642, 34642, 34642, 34642, 346...</td>\n",
       "      <td>[34042, 34042, 34042, 34042, 34042, 34042, 340...</td>\n",
       "      <td>[[[56.40002042465876, 33.47263135770957], [55....</td>\n",
       "      <td>[[60.438020774390075, 35.57292836881663], [60....</td>\n",
       "      <td>[1.4890755, 1.1949695, 0.93336076, 0.738537, 0...</td>\n",
       "      <td>[[48.80137642581422, 31.16922356981376], [49.0...</td>\n",
       "      <td>[[51.35546426976598, 33.93773101458849], [52.3...</td>\n",
       "      <td>[10.536535, 10.738277, 10.965685, 11.176429, 1...</td>\n",
       "      <td>...</td>\n",
       "      <td>[0.45194888, 0.3116872, 0.14765647, -0.0319272...</td>\n",
       "      <td>[0.023950227, 0.96471804, 1.2889154, 1.6205887...</td>\n",
       "      <td>[-74.685, -113.49, -156.78, -194.21999, -266.1...</td>\n",
       "      <td>[[nan, nan, nan, nan, nan, nan, nan, nan, nan,...</td>\n",
       "      <td>[[0.0013803464, 0.0079310145, 0.009366615, 0.0...</td>\n",
       "      <td>[0.00366902, nan, nan, 0.002184509, 0.00216185...</td>\n",
       "      <td>[0.046842232, nan, nan, 0.023685867, 0.0444350...</td>\n",
       "      <td>[-0.37066078, -0.35752764, -0.3432352, -0.3277...</td>\n",
       "      <td>[2.7155704, -2.8761566, -2.806554, -2.548516, ...</td>\n",
       "      <td>[1384, 2770, 4156, 4156, 5541, 6927, 6927, 831...</td>\n",
       "    </tr>\n",
       "    <tr>\n",
       "      <th>3</th>\n",
       "      <td>20240320_171038_alone_comp_subj_4-2_and_4-3.1</td>\n",
       "      <td>4.3</td>\n",
       "      <td>[34642, 34642, 34642, 34642, 34642, 34642, 346...</td>\n",
       "      <td>[34042, 34042, 34042, 34042, 34042, 34042, 340...</td>\n",
       "      <td>[[[61.39644296346538, 31.82081289424359], [58....</td>\n",
       "      <td>[[62.13302320168461, 34.13495024512682], [61.3...</td>\n",
       "      <td>[2.1410906, 2.5980964, 3.2073143, 3.9916637, 4...</td>\n",
       "      <td>[[50.83958858240558, 27.427984293098355], [50....</td>\n",
       "      <td>[[54.225662928143386, 30.269937128249303], [54...</td>\n",
       "      <td>[5.105928, 5.1050973, 5.082959, 5.072279, 5.09...</td>\n",
       "      <td>...</td>\n",
       "      <td>[-0.065887734, -0.10607955, -0.14392401, -0.17...</td>\n",
       "      <td>[2.0565047, 2.3807256, 2.6063833, 2.87997, 3.1...</td>\n",
       "      <td>[53.234997, 80.145, 106.079994, 139.42499, 206...</td>\n",
       "      <td>[[2.7552054, 1.5484817, 2.318468, 0.67259854, ...</td>\n",
       "      <td>[[0.001118467, 0.0013452128, 0.009780567, 0.01...</td>\n",
       "      <td>[0.0017462745, 0.0017710698, 0.0011198351, 0.0...</td>\n",
       "      <td>[0.031059334, 0.026878728, 0.018851878, 0.0271...</td>\n",
       "      <td>[0.49282554, 0.4864071, 0.47833988, 0.46862525...</td>\n",
       "      <td>[-0.7696023, -0.28357738, -0.24996911, 0.00574...</td>\n",
       "      <td>[1384, 2770, 4156, 4156, 5541, 6927, 6927, 831...</td>\n",
       "    </tr>\n",
       "    <tr>\n",
       "      <th>4</th>\n",
       "      <td>20240322_120625_alone_comp_subj_3-3_and_3-4.1</td>\n",
       "      <td>3.3</td>\n",
       "      <td>[34668, 34668, 34668, 34668, 34668, 34668, 346...</td>\n",
       "      <td>[34069, 34069, 34069, 34069, 34069, 34069, 340...</td>\n",
       "      <td>[[[61.16399490425991, 32.70045972585698], [59....</td>\n",
       "      <td>[[61.53968210480167, 35.796468985578834], [61....</td>\n",
       "      <td>[1.0345234, 1.0340708, 1.0267321, 1.0295303, 0...</td>\n",
       "      <td>[[63.39944559401088, 26.348095697771708], [63....</td>\n",
       "      <td>[[63.14227571637791, 29.264671717012554], [62....</td>\n",
       "      <td>[2.4555418, 3.5262117, 4.9005065, 6.496412, 8....</td>\n",
       "      <td>...</td>\n",
       "      <td>[0.13999104, 0.09235755, 0.03774096, -0.020495...</td>\n",
       "      <td>[0.011866312, 0.9828468, 1.330576, 1.6782773, ...</td>\n",
       "      <td>[3.5099998, -2.145, -9.36, -28.275, -55.379997...</td>\n",
       "      <td>[[0.009626778, 0.042104572, 0.26073232, 0.0171...</td>\n",
       "      <td>[[0.032633882, 0.034465823, 0.037538365, 0.026...</td>\n",
       "      <td>[0.0021949317, 0.0022116762, 0.0016394572, nan...</td>\n",
       "      <td>[0.03049053, 0.017763153, 0.024036832, nan, na...</td>\n",
       "      <td>[0.20751306, 0.24045162, 0.27310878, 0.3053482...</td>\n",
       "      <td>[-1.2177873, -1.0926981, -1.0485686, -0.963749...</td>\n",
       "      <td>[1384, 1983, 2770, 4156, 5541, 5541, 6927, 831...</td>\n",
       "    </tr>\n",
       "  </tbody>\n",
       "</table>\n",
       "<p>5 rows × 219 columns</p>\n",
       "</div>"
      ],
      "text/plain": [
       "                                      video_name current_subject  \\\n",
       "0  20240320_142408_alone_comp_subj_3-1_and_3-3.1             3.1   \n",
       "1  20240320_142408_alone_comp_subj_3-1_and_3-3.1             3.3   \n",
       "2  20240320_171038_alone_comp_subj_4-2_and_4-3.1             4.2   \n",
       "3  20240320_171038_alone_comp_subj_4-2_and_4-3.1             4.3   \n",
       "4  20240322_120625_alone_comp_subj_3-3_and_3-4.1             3.3   \n",
       "\n",
       "                                10s_after_tone_frame  \\\n",
       "0  [34640, 34640, 34640, 34640, 34640, 34640, 346...   \n",
       "1  [34640, 34640, 34640, 34640, 34640, 34640, 346...   \n",
       "2  [34642, 34642, 34642, 34642, 34642, 34642, 346...   \n",
       "3  [34642, 34642, 34642, 34642, 34642, 34642, 346...   \n",
       "4  [34668, 34668, 34668, 34668, 34668, 34668, 346...   \n",
       "\n",
       "                               10s_before_tone_frame  \\\n",
       "0  [34040, 34040, 34040, 34040, 34040, 34040, 340...   \n",
       "1  [34040, 34040, 34040, 34040, 34040, 34040, 340...   \n",
       "2  [34042, 34042, 34042, 34042, 34042, 34042, 340...   \n",
       "3  [34042, 34042, 34042, 34042, 34042, 34042, 340...   \n",
       "4  [34069, 34069, 34069, 34069, 34069, 34069, 340...   \n",
       "\n",
       "                                     agent_locations  \\\n",
       "0  [[[54.047201234350496, 32.48462136905939], [52...   \n",
       "1  [[[62.81573570925102, 33.49031610207749], [59....   \n",
       "2  [[[56.40002042465876, 33.47263135770957], [55....   \n",
       "3  [[[61.39644296346538, 31.82081289424359], [58....   \n",
       "4  [[[61.16399490425991, 32.70045972585698], [59....   \n",
       "\n",
       "                                          agent_nose  \\\n",
       "0  [[57.31849083590113, 33.645587310504695], [56....   \n",
       "1  [[60.5507800219845, 35.26465151447588], [60.78...   \n",
       "2  [[60.438020774390075, 35.57292836881663], [60....   \n",
       "3  [[62.13302320168461, 34.13495024512682], [61.3...   \n",
       "4  [[61.53968210480167, 35.796468985578834], [61....   \n",
       "\n",
       "                           agent_nose_to_reward_port  \\\n",
       "0  [4.960474, 5.34718, 5.802983, 6.407976, 7.1417...   \n",
       "1  [0.53517926, 0.50113046, 0.48567954, 0.4737239...   \n",
       "2  [1.4890755, 1.1949695, 0.93336076, 0.738537, 0...   \n",
       "3  [2.1410906, 2.5980964, 3.2073143, 3.9916637, 4...   \n",
       "4  [1.0345234, 1.0340708, 1.0267321, 1.0295303, 0...   \n",
       "\n",
       "                                     agent_tail_base  \\\n",
       "0  [[46.630318040576064, 30.523901100123272], [46...   \n",
       "1  [[66.06126838242345, 28.880162680346388], [66....   \n",
       "2  [[48.80137642581422, 31.16922356981376], [49.0...   \n",
       "3  [[50.83958858240558, 27.427984293098355], [50....   \n",
       "4  [[63.39944559401088, 26.348095697771708], [63....   \n",
       "\n",
       "                                        agent_thorax  \\\n",
       "0  [[48.61806735273943, 32.66608744832453], [48.1...   \n",
       "1  [[64.05699608055423, 31.17933144091776], [64.0...   \n",
       "2  [[51.35546426976598, 33.93773101458849], [52.3...   \n",
       "3  [[54.225662928143386, 30.269937128249303], [54...   \n",
       "4  [[63.14227571637791, 29.264671717012554], [62....   \n",
       "\n",
       "                               agent_thorax_velocity  ...  \\\n",
       "0  [7.0735817, 9.794592, 12.977724, 16.4886, 20.1...  ...   \n",
       "1  [0.07300971, 0.08296164, 0.08879429, 0.0909930...  ...   \n",
       "2  [10.536535, 10.738277, 10.965685, 11.176429, 1...  ...   \n",
       "3  [5.105928, 5.1050973, 5.082959, 5.072279, 5.09...  ...   \n",
       "4  [2.4555418, 3.5262117, 4.9005065, 6.496412, 8....  ...   \n",
       "\n",
       "                                     vHPC_gamma_band  \\\n",
       "0  [-0.07481611, -0.11126414, -0.14154938, -0.162...   \n",
       "1  [0.055602852, -0.017465636, -0.09318138, -0.16...   \n",
       "2  [0.45194888, 0.3116872, 0.14765647, -0.0319272...   \n",
       "3  [-0.065887734, -0.10607955, -0.14392401, -0.17...   \n",
       "4  [0.13999104, 0.09235755, 0.03774096, -0.020495...   \n",
       "\n",
       "                                    vHPC_gamma_phase  \\\n",
       "0  [2.1274095, 2.4930122, 2.7189336, 3.0126748, -...   \n",
       "1  [1.1501461, 1.6517024, 1.9768442, 2.2265384, 2...   \n",
       "2  [0.023950227, 0.96471804, 1.2889154, 1.6205887...   \n",
       "3  [2.0565047, 2.3807256, 2.6063833, 2.87997, 3.1...   \n",
       "4  [0.011866312, 0.9828468, 1.330576, 1.6782773, ...   \n",
       "\n",
       "                                      vHPC_lfp_trace  \\\n",
       "0  [65.715, 96.329994, 95.159996, 77.61, 112.905,...   \n",
       "1  [-100.619995, -102.96, -129.87, -165.75, -191....   \n",
       "2  [-74.685, -113.49, -156.78, -194.21999, -266.1...   \n",
       "3  [53.234997, 80.145, 106.079994, 139.42499, 206...   \n",
       "4  [3.5099998, -2.145, -9.36, -28.275, -55.379997...   \n",
       "\n",
       "       vHPC_mPFC_granger_all_frequencies_all_windows  \\\n",
       "0  [[nan, nan, nan, nan, nan, nan, nan, nan, nan,...   \n",
       "1  [[2.5391848, 1.5146569, 1.0411696, 1.5689967, ...   \n",
       "2  [[nan, nan, nan, nan, nan, nan, nan, nan, nan,...   \n",
       "3  [[2.7552054, 1.5484817, 2.318468, 0.67259854, ...   \n",
       "4  [[0.009626778, 0.042104572, 0.26073232, 0.0171...   \n",
       "\n",
       "              vHPC_power_all_frequencies_all_windows  \\\n",
       "0  [[nan, nan, nan, nan, nan, nan, nan, nan, nan,...   \n",
       "1  [[0.001042456, 0.009847558, 0.012313993, 0.009...   \n",
       "2  [[0.0013803464, 0.0079310145, 0.009366615, 0.0...   \n",
       "3  [[0.001118467, 0.0013452128, 0.009780567, 0.01...   \n",
       "4  [[0.032633882, 0.034465823, 0.037538365, 0.026...   \n",
       "\n",
       "                                    vHPC_power_gamma  \\\n",
       "0  [nan, 0.0046885125, 0.0033377786, 0.0018332143...   \n",
       "1  [0.0008264334, 0.0009773864, 0.0009832539, nan...   \n",
       "2  [0.00366902, nan, nan, 0.002184509, 0.00216185...   \n",
       "3  [0.0017462745, 0.0017710698, 0.0011198351, 0.0...   \n",
       "4  [0.0021949317, 0.0022116762, 0.0016394572, nan...   \n",
       "\n",
       "                                    vHPC_power_theta  \\\n",
       "0  [nan, 0.07223674, 0.06942491, 0.065466404, 0.0...   \n",
       "1  [0.0408452, 0.04246293, 0.04184469, nan, nan, ...   \n",
       "2  [0.046842232, nan, nan, 0.023685867, 0.0444350...   \n",
       "3  [0.031059334, 0.026878728, 0.018851878, 0.0271...   \n",
       "4  [0.03049053, 0.017763153, 0.024036832, nan, na...   \n",
       "\n",
       "                                     vHPC_theta_band  \\\n",
       "0  [0.8526041, 0.89195466, 0.93002737, 0.96665066...   \n",
       "1  [-0.347932, -0.33184236, -0.31452566, -0.29600...   \n",
       "2  [-0.37066078, -0.35752764, -0.3432352, -0.3277...   \n",
       "3  [0.49282554, 0.4864071, 0.47833988, 0.46862525...   \n",
       "4  [0.20751306, 0.24045162, 0.27310878, 0.3053482...   \n",
       "\n",
       "                                    vHPC_theta_phase  \\\n",
       "0  [-1.0124702, -0.7600434, -0.73781365, -0.59900...   \n",
       "1  [2.6819186, -2.904363, -2.827914, -2.5523405, ...   \n",
       "2  [2.7155704, -2.8761566, -2.806554, -2.548516, ...   \n",
       "3  [-0.7696023, -0.28357738, -0.24996911, 0.00574...   \n",
       "4  [-1.2177873, -1.0926981, -1.0485686, -0.963749...   \n",
       "\n",
       "                                    video_timestamps  \n",
       "0  [1384, 2770, 4156, 4156, 5542, 6928, 6928, 831...  \n",
       "1  [1384, 2770, 4156, 4156, 5542, 6928, 6928, 831...  \n",
       "2  [1384, 2770, 4156, 4156, 5541, 6927, 6927, 831...  \n",
       "3  [1384, 2770, 4156, 4156, 5541, 6927, 6927, 831...  \n",
       "4  [1384, 1983, 2770, 4156, 5541, 5541, 6927, 831...  \n",
       "\n",
       "[5 rows x 219 columns]"
      ]
     },
     "execution_count": 22,
     "metadata": {},
     "output_type": "execute_result"
    }
   ],
   "source": [
    "merged_LFP_SPECTRAL_DF.head()"
   ]
  },
  {
   "cell_type": "markdown",
   "metadata": {},
   "source": [
    "## Getting the timestamps of each cluster frame"
   ]
  },
  {
   "cell_type": "code",
   "execution_count": 23,
   "metadata": {},
   "outputs": [
    {
     "data": {
      "text/plain": [
       "array([34040, 34041, 34042, ..., 61586, 61587, 61588])"
      ]
     },
     "execution_count": 23,
     "metadata": {},
     "output_type": "execute_result"
    }
   ],
   "source": [
    "merged_LFP_SPECTRAL_DF[\"frame_index\"].iloc[0]"
   ]
  },
  {
   "cell_type": "code",
   "execution_count": 24,
   "metadata": {
    "tags": []
   },
   "outputs": [
    {
     "data": {
      "text/plain": [
       "array([    1384,     2770,     4156, ..., 63592009, 63593395, 63594781],\n",
       "      dtype=int32)"
      ]
     },
     "execution_count": 24,
     "metadata": {},
     "output_type": "execute_result"
    }
   ],
   "source": [
    "merged_LFP_SPECTRAL_DF[\"video_timestamps\"].iloc[0]"
   ]
  },
  {
   "cell_type": "code",
   "execution_count": 25,
   "metadata": {},
   "outputs": [],
   "source": [
    "merged_LFP_SPECTRAL_DF[\"cluster_timestamp\"] = merged_LFP_SPECTRAL_DF.apply(lambda x: x[\"video_timestamps\"][x[\"frame_index\"]], axis=1)\n"
   ]
  },
  {
   "cell_type": "code",
   "execution_count": 26,
   "metadata": {},
   "outputs": [
    {
     "data": {
      "text/plain": [
       "0    [34077145, 34077145, 34078531, 34079917, 34079...\n",
       "1    [34077145, 34077145, 34078531, 34079917, 34079...\n",
       "2    [34079916, 34081302, 34082688, 34084074, 34084...\n",
       "3    [34079916, 34081302, 34082688, 34084074, 34084...\n",
       "4    [34103476, 34104862, 34106248, 34106248, 34107...\n",
       "Name: cluster_timestamp, dtype: object"
      ]
     },
     "execution_count": 26,
     "metadata": {},
     "output_type": "execute_result"
    }
   ],
   "source": [
    "merged_LFP_SPECTRAL_DF[\"cluster_timestamp\"].head()"
   ]
  },
  {
   "cell_type": "markdown",
   "metadata": {},
   "source": [
    "- Checking if the cluster timestamp shape matches the actual number of clusters"
   ]
  },
  {
   "cell_type": "code",
   "execution_count": 27,
   "metadata": {},
   "outputs": [
    {
     "data": {
      "text/plain": [
       "0    (12589,)\n",
       "1    (12589,)\n",
       "2    (12593,)\n",
       "3    (12593,)\n",
       "4    (12591,)\n",
       "Name: cluster_timestamp, dtype: object"
      ]
     },
     "execution_count": 27,
     "metadata": {},
     "output_type": "execute_result"
    }
   ],
   "source": [
    "merged_LFP_SPECTRAL_DF[\"cluster_timestamp\"].apply(lambda x: x.shape).head()"
   ]
  },
  {
   "cell_type": "code",
   "execution_count": 28,
   "metadata": {},
   "outputs": [
    {
     "data": {
      "text/plain": [
       "0    [0, 0, 0, 0, 0, 3, 1, 1, 1, 1, 1, 1, 1, 1, 1, ...\n",
       "1    [0, 0, 0, 0, 0, 3, 1, 1, 1, 1, 1, 1, 1, 1, 1, ...\n",
       "2    [7, 7, 7, 7, 7, 7, 3, 3, 3, 3, 3, 3, 3, 3, 2, ...\n",
       "3    [7, 7, 7, 7, 7, 7, 3, 3, 3, 3, 3, 3, 3, 3, 2, ...\n",
       "4    [5, 7, 7, 7, 7, 7, 7, 7, 7, 7, 7, 7, 7, 7, 7, ...\n",
       "Name: kmeans_cluster, dtype: object"
      ]
     },
     "execution_count": 28,
     "metadata": {},
     "output_type": "execute_result"
    }
   ],
   "source": [
    "merged_LFP_SPECTRAL_DF[\"kmeans_cluster\"].head()"
   ]
  },
  {
   "cell_type": "code",
   "execution_count": 29,
   "metadata": {},
   "outputs": [
    {
     "data": {
      "text/plain": [
       "0    (12589,)\n",
       "1    (12589,)\n",
       "2    (12593,)\n",
       "3    (12593,)\n",
       "4    (12591,)\n",
       "Name: kmeans_cluster, dtype: object"
      ]
     },
     "execution_count": 29,
     "metadata": {},
     "output_type": "execute_result"
    }
   ],
   "source": [
    "merged_LFP_SPECTRAL_DF[\"kmeans_cluster\"].apply(lambda x: x.shape).head()"
   ]
  },
  {
   "cell_type": "code",
   "execution_count": 30,
   "metadata": {
    "tags": []
   },
   "outputs": [
    {
     "data": {
      "text/plain": [
       "'rce_pilot_3_alone_comp_04_spectral_and_sleap.pkl'"
      ]
     },
     "execution_count": 30,
     "metadata": {},
     "output_type": "execute_result"
    }
   ],
   "source": [
    "FULL_LFP_TRACES_PKL"
   ]
  },
  {
   "cell_type": "code",
   "execution_count": 31,
   "metadata": {
    "tags": []
   },
   "outputs": [
    {
     "data": {
      "text/plain": [
       "['video_name',\n",
       " 'current_subject',\n",
       " '10s_after_tone_frame',\n",
       " '10s_before_tone_frame',\n",
       " 'agent_locations',\n",
       " 'agent_nose',\n",
       " 'agent_nose_to_reward_port',\n",
       " 'agent_tail_base',\n",
       " 'agent_thorax',\n",
       " 'agent_thorax_velocity',\n",
       " 'agent_to_reward_port_angle',\n",
       " 'closebool_agent_nose_to_reward_port',\n",
       " 'closebool_subject_nose_to_reward_port',\n",
       " 'clusterable_embedding_x',\n",
       " 'clusterable_embedding_y',\n",
       " 'color',\n",
       " 'comp_id',\n",
       " 'competition_closeness',\n",
       " 'competitiveness',\n",
       " 'condition ',\n",
       " 'frame_index',\n",
       " 'get_reward_frame',\n",
       " 'kmeans_cluster',\n",
       " 'manual_cluster_id',\n",
       " 'movingbool_agent_thorax_velocity',\n",
       " 'movingbool_subject_thorax_velocity',\n",
       " 'nose_to_reward_port_diff',\n",
       " 'nose_to_reward_port_sum',\n",
       " 'nose_to_tail_diff',\n",
       " 'nose_to_tail_sum',\n",
       " 'notes',\n",
       " 'out_reward_frame',\n",
       " 'standard_embedding_x',\n",
       " 'standard_embedding_y',\n",
       " 'subject_locations',\n",
       " 'subject_nose',\n",
       " 'subject_nose_to_reward_port',\n",
       " 'subject_tail_base',\n",
       " 'subject_thorax',\n",
       " 'subject_thorax_to_agent_thorax',\n",
       " 'subject_thorax_velocity',\n",
       " 'subject_to_reward_port_angle',\n",
       " 'thorax_velocity_diff',\n",
       " 'thorax_velocity_sum',\n",
       " 'to_reward_port_angle_diff',\n",
       " 'to_reward_port_angle_sum',\n",
       " 'tone_start_frame',\n",
       " 'tone_start_timestamp',\n",
       " 'tone_start_to_stop_frame',\n",
       " 'tone_stop_frame',\n",
       " 'tone_stop_timestamp',\n",
       " 'within_trial_frame_index',\n",
       " 'within_trial_index',\n",
       " 'agent',\n",
       " 'all_subjects',\n",
       " 'body_parts',\n",
       " 'box_bottom_left',\n",
       " 'box_bottom_right',\n",
       " 'box_number',\n",
       " 'box_top_left',\n",
       " 'box_top_right',\n",
       " 'experiment',\n",
       " 'first_timestamp',\n",
       " 'last_timestamp',\n",
       " 'reward_port',\n",
       " 'session_dir',\n",
       " 'sleap_name',\n",
       " 'start_frame',\n",
       " 'stop_frame',\n",
       " 'tracked_subject',\n",
       " 'video_id']"
      ]
     },
     "execution_count": 31,
     "metadata": {},
     "output_type": "execute_result"
    }
   ],
   "source": [
    "list(SLEAP_DF.columns)"
   ]
  },
  {
   "cell_type": "code",
   "execution_count": 32,
   "metadata": {
    "tags": []
   },
   "outputs": [
    {
     "data": {
      "text/plain": [
       "array(['20240320_142408_alone_comp_subj_3-1_t6b6_merged',\n",
       "       '20240320_142408_alone_comp_subj_3-3_t5b5_merged',\n",
       "       '20240320_171038_alone_comp_subj_4-2_t6b6_merged',\n",
       "       '20240320_171038_alone_comp_subj_4-3_t5b5_merged',\n",
       "       '20240322_120625_alone_comp_subj_3-3_t6b6_merged',\n",
       "       '20240322_120625_alone_comp_subj_3-4_t5b5_merged',\n",
       "       '20240322_160946_alone_comp_subj_4-3_t6b6_merged',\n",
       "       '20240322_160946_alone_comp_subj_4-4_t5b5_merged',\n",
       "       '20240323_122227_alone_comp_subj_5-2_t6b6_merged',\n",
       "       '20240323_122227_alone_comp_subj_5-3_t5b5_merged',\n",
       "       '20240323_144517_alone_comp_subj_3-1_t5b5_merged',\n",
       "       '20240323_144517_alone_comp_subj_3-4_t6b6_merged',\n",
       "       '20240323_165815_alone_comp_subj_4-2_t5b5_merged',\n",
       "       '20240323_165815_alone_comp_subj_4-4_t6b6_merged'], dtype=object)"
      ]
     },
     "execution_count": 32,
     "metadata": {},
     "output_type": "execute_result"
    }
   ],
   "source": [
    "merged_LFP_SPECTRAL_DF[\"recording\"].unique()"
   ]
  },
  {
   "cell_type": "code",
   "execution_count": 33,
   "metadata": {},
   "outputs": [],
   "source": [
    "merged_LFP_SPECTRAL_DF.to_pickle(os.path.join(OUTPUT_DIR, FULL_LFP_TRACES_PKL))\n"
   ]
  },
  {
   "cell_type": "code",
   "execution_count": 34,
   "metadata": {},
   "outputs": [
    {
     "data": {
      "text/plain": [
       "(14, 220)"
      ]
     },
     "execution_count": 34,
     "metadata": {},
     "output_type": "execute_result"
    }
   ],
   "source": [
    "merged_LFP_SPECTRAL_DF.shape"
   ]
  },
  {
   "cell_type": "code",
   "execution_count": 35,
   "metadata": {},
   "outputs": [
    {
     "ename": "ValueError",
     "evalue": "",
     "output_type": "error",
     "traceback": [
      "\u001b[0;31m---------------------------------------------------------------------------\u001b[0m",
      "\u001b[0;31mValueError\u001b[0m                                Traceback (most recent call last)",
      "Cell \u001b[0;32mIn[35], line 1\u001b[0m\n\u001b[0;32m----> 1\u001b[0m \u001b[38;5;28;01mraise\u001b[39;00m \u001b[38;5;167;01mValueError\u001b[39;00m()\n",
      "\u001b[0;31mValueError\u001b[0m: "
     ]
    }
   ],
   "source": [
    "raise ValueError()"
   ]
  }
 ],
 "metadata": {
  "deepnote": {},
  "deepnote_execution_queue": [],
  "deepnote_notebook_id": "cf8fe3695d074ee7887fdf6459cbf5ce",
  "kernelspec": {
   "display_name": "mountainsort_0_5_6",
   "language": "python",
   "name": "python3"
  },
  "language_info": {
   "codemirror_mode": {
    "name": "ipython",
    "version": 3
   },
   "file_extension": ".py",
   "mimetype": "text/x-python",
   "name": "python",
   "nbconvert_exporter": "python",
   "pygments_lexer": "ipython3",
   "version": "3.9.19"
  }
 },
 "nbformat": 4,
 "nbformat_minor": 4
}
