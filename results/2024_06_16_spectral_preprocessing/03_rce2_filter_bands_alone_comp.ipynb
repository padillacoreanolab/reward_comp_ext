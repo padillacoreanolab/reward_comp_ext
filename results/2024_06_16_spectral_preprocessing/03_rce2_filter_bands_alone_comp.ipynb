{
 "cells": [
  {
   "cell_type": "markdown",
   "metadata": {
    "cell_id": "c3a02adc9e884466bc8c79db549cc3d2",
    "deepnote_cell_type": "text-cell-h1",
    "formattedRanges": [
     {
      "fromCodePoint": 0,
      "marks": {
       "bold": true,
       "underline": true
      },
      "toCodePoint": 17,
      "type": "marks"
     }
    ]
   },
   "source": [
    "# All oscillation analysis"
   ]
  },
  {
   "cell_type": "markdown",
   "metadata": {
    "cell_id": "4546bee655b14a5dbf393161f1228e60",
    "deepnote_cell_type": "text-cell-p",
    "formattedRanges": []
   },
   "source": [
    "Brief 1-2 sentence description of notebook."
   ]
  },
  {
   "cell_type": "code",
   "execution_count": 1,
   "metadata": {
    "tags": []
   },
   "outputs": [],
   "source": [
    "# Imports of all used packages and libraries\n",
    "import sys\n",
    "import os\n",
    "import git\n",
    "import glob\n",
    "from collections import defaultdict"
   ]
  },
  {
   "cell_type": "code",
   "execution_count": 2,
   "metadata": {
    "tags": []
   },
   "outputs": [],
   "source": [
    "git_repo = git.Repo(\".\", search_parent_directories=True)\n",
    "git_root = git_repo.git.rev_parse(\"--show-toplevel\")"
   ]
  },
  {
   "cell_type": "code",
   "execution_count": 3,
   "metadata": {
    "tags": []
   },
   "outputs": [
    {
     "data": {
      "text/plain": [
       "'/blue/npadillacoreano/ryoi360/projects/reward_comp/repos/reward_comp_ext'"
      ]
     },
     "execution_count": 3,
     "metadata": {},
     "output_type": "execute_result"
    }
   ],
   "source": [
    "git_root"
   ]
  },
  {
   "cell_type": "code",
   "execution_count": 4,
   "metadata": {
    "tags": []
   },
   "outputs": [],
   "source": [
    "sys.path.insert(0, os.path.join(git_root, 'src'))"
   ]
  },
  {
   "cell_type": "code",
   "execution_count": 5,
   "metadata": {
    "tags": []
   },
   "outputs": [],
   "source": [
    "import warnings\n",
    "warnings.filterwarnings('ignore')"
   ]
  },
  {
   "cell_type": "code",
   "execution_count": 6,
   "metadata": {
    "tags": []
   },
   "outputs": [],
   "source": [
    "import os\n",
    "import collections\n",
    "import itertools\n",
    "from collections import defaultdict\n",
    "from itertools import combinations"
   ]
  },
  {
   "cell_type": "code",
   "execution_count": 7,
   "metadata": {
    "cell_id": "03b495cefa6a4798a44c7f2e4c6a3ea7",
    "deepnote_cell_type": "code",
    "deepnote_to_be_reexecuted": false,
    "execution_millis": 21,
    "execution_start": 1691424003626,
    "source_hash": null,
    "tags": []
   },
   "outputs": [],
   "source": [
    "# Imports of all used packages and libraries\n",
    "import numpy as np\n",
    "import pandas as pd\n",
    "from scipy import stats\n",
    "from scipy.stats import mannwhitneyu\n"
   ]
  },
  {
   "cell_type": "code",
   "execution_count": 8,
   "metadata": {
    "tags": []
   },
   "outputs": [],
   "source": [
    "import matplotlib\n",
    "import matplotlib.colors as mcolors\n",
    "import matplotlib.pyplot as plt\n",
    "import matplotlib.cm as cm\n",
    "# import seaborn as sns\n",
    "import colorsys"
   ]
  },
  {
   "cell_type": "code",
   "execution_count": 9,
   "metadata": {
    "tags": []
   },
   "outputs": [],
   "source": [
    "from sklearn.metrics import confusion_matrix"
   ]
  },
  {
   "cell_type": "code",
   "execution_count": 10,
   "metadata": {
    "tags": []
   },
   "outputs": [],
   "source": [
    "from spectral_connectivity import Multitaper, Connectivity\n",
    "import spectral_connectivity"
   ]
  },
  {
   "cell_type": "code",
   "execution_count": 11,
   "metadata": {
    "tags": []
   },
   "outputs": [],
   "source": [
    "import utilities.helper\n",
    "import trodes.read_exported"
   ]
  },
  {
   "cell_type": "code",
   "execution_count": 12,
   "metadata": {
    "tags": []
   },
   "outputs": [],
   "source": [
    "FONTSIZE = 20"
   ]
  },
  {
   "cell_type": "code",
   "execution_count": 13,
   "metadata": {
    "tags": []
   },
   "outputs": [],
   "source": [
    "font = {'weight' : 'medium',\n",
    "        'size'   : 20}\n",
    "\n",
    "matplotlib.rc('font', **font)"
   ]
  },
  {
   "cell_type": "markdown",
   "metadata": {
    "cell_id": "d290bac2c17940bfbc0f9296beaf70e5",
    "deepnote_cell_type": "text-cell-h2",
    "formattedRanges": []
   },
   "source": [
    "## Inputs & Data"
   ]
  },
  {
   "cell_type": "markdown",
   "metadata": {
    "cell_id": "e528ce19c608425292151930d380f49f",
    "deepnote_cell_type": "text-cell-p",
    "formattedRanges": []
   },
   "source": [
    "Explanation of each input and where it comes from."
   ]
  },
  {
   "cell_type": "code",
   "execution_count": 14,
   "metadata": {
    "cell_id": "6cf83a5811054461a718a71673d09aab",
    "deepnote_cell_type": "code",
    "deepnote_to_be_reexecuted": false,
    "execution_millis": 373,
    "execution_start": 1691424003628,
    "source_hash": null,
    "tags": []
   },
   "outputs": [],
   "source": [
    "# Inputs and Required data loading\n",
    "# input varaible names are in all caps snake case\n",
    "# Whenever an input changes or is used for processing \n",
    "# the vairables are all lower in snake case\n",
    "OUTPUT_DIR = r\"./proc/\" # where data is saved should always be shown in the inputs\n",
    "os.makedirs(OUTPUT_DIR, exist_ok=True)\n",
    "OUTPUT_PREFIX = \"rce_pilot_3_alone_comp\""
   ]
  },
  {
   "cell_type": "code",
   "execution_count": 15,
   "metadata": {
    "tags": []
   },
   "outputs": [],
   "source": [
    "LFP_SPECTRAL_DF = pd.read_pickle(\"./proc/{}_02_full_spectral.pkl\".format(OUTPUT_PREFIX))\n",
    "\n",
    "\n",
    "# LFP_SPECTRAL_DF = pd.read_pickle(\"./proc/rce_pilot_2_02_full_spectral_copy.pkl\")\n",
    "# LFP_SPECTRAL_DF = pd.read_pickle(\"./proc/rce_pilot_2_02_full_spectral.pkl\")"
   ]
  },
  {
   "cell_type": "code",
   "execution_count": 16,
   "metadata": {
    "tags": []
   },
   "outputs": [],
   "source": [
    "# CHANNEL_MAP_AND_ALL_TRIALS_DF = pd.read_pickle(\"./proc/full_baseline_and_trial_lfp_traces.pkl\")\n",
    "# MERGED_TRIALS_AND_VIDEO = pd.read_pickle(\"./proc/trial_SLEAP_and_metadata.pkl\")"
   ]
  },
  {
   "cell_type": "code",
   "execution_count": 17,
   "metadata": {
    "tags": []
   },
   "outputs": [],
   "source": [
    "theta_band = (4, 12)\n",
    "gamma_band = (30, 50)\n",
    "filter_band = (0, 56)"
   ]
  },
  {
   "cell_type": "code",
   "execution_count": 18,
   "metadata": {
    "tags": []
   },
   "outputs": [],
   "source": [
    "FONTSIZE=20"
   ]
  },
  {
   "cell_type": "code",
   "execution_count": 19,
   "metadata": {
    "tags": []
   },
   "outputs": [],
   "source": [
    "FULL_LFP_TRACES_PKL = \"{}_03_spectral_bands.pkl\".format(OUTPUT_PREFIX)"
   ]
  },
  {
   "cell_type": "markdown",
   "metadata": {
    "cell_id": "e3ee4891d43a4ac287413afc552ca289",
    "deepnote_cell_type": "text-cell-h2",
    "formattedRanges": []
   },
   "source": [
    "## Outputs"
   ]
  },
  {
   "cell_type": "markdown",
   "metadata": {
    "cell_id": "9ccbf6cc70fd4d379fa29317f733771f",
    "deepnote_cell_type": "text-cell-p",
    "formattedRanges": []
   },
   "source": [
    "Describe each output that the notebook creates. "
   ]
  },
  {
   "cell_type": "markdown",
   "metadata": {
    "cell_id": "fc8e8920a6944918a15fac575cdf6e78",
    "deepnote_cell_type": "text-cell-bullet",
    "formattedRanges": []
   },
   "source": [
    "- Is it a plot or is it data?"
   ]
  },
  {
   "cell_type": "markdown",
   "metadata": {
    "cell_id": "1e639d4776a84aa9ac8ded2e14fa57db",
    "deepnote_cell_type": "text-cell-bullet",
    "formattedRanges": []
   },
   "source": [
    "- How valuable is the output and why is it valuable or useful?"
   ]
  },
  {
   "cell_type": "markdown",
   "metadata": {},
   "source": [
    "## Functions "
   ]
  },
  {
   "cell_type": "code",
   "execution_count": null,
   "metadata": {},
   "outputs": [],
   "source": []
  },
  {
   "cell_type": "markdown",
   "metadata": {
    "cell_id": "8999d19b6b7d4d63bc90f0b0bd9ab085",
    "deepnote_cell_type": "text-cell-h2",
    "formattedRanges": []
   },
   "source": [
    "## Processing"
   ]
  },
  {
   "cell_type": "markdown",
   "metadata": {
    "cell_id": "9b36cdf08567463082b005cb0dec684b",
    "deepnote_cell_type": "text-cell-p",
    "formattedRanges": []
   },
   "source": [
    "Describe what is done to the data here and how inputs are manipulated to generate outputs. "
   ]
  },
  {
   "cell_type": "markdown",
   "metadata": {
    "tags": []
   },
   "source": [
    "# Dropping unused columns"
   ]
  },
  {
   "cell_type": "code",
   "execution_count": 20,
   "metadata": {
    "cell_id": "89aaba237c644628b1b37604b75e7cb1",
    "deepnote_cell_type": "code",
    "tags": []
   },
   "outputs": [],
   "source": [
    "# As much code and as many cells as required\n",
    "# includes EDA and playing with data\n",
    "# GO HAM!\n",
    "\n",
    "# Ideally functions are defined here first and then data is processed using the functions\n",
    "\n",
    "# function names are short and in snake case all lowercase\n",
    "# a function name should be unique but does not have to describe the function\n",
    "# doc strings describe functions not function names\n",
    "\n",
    "\n"
   ]
  },
  {
   "cell_type": "code",
   "execution_count": 21,
   "metadata": {
    "tags": []
   },
   "outputs": [
    {
     "data": {
      "text/plain": [
       "['cohort',\n",
       " 'session_dir',\n",
       " 'tone_frames',\n",
       " 'box_1_port_entry_frames',\n",
       " 'box_2_port_entry_frames',\n",
       " 'video_name',\n",
       " 'notes',\n",
       " 'session_path',\n",
       " 'recording',\n",
       " 'current_subject',\n",
       " 'subject',\n",
       " 'all_subjects',\n",
       " 'first_timestamp',\n",
       " 'last_timestamp',\n",
       " 'video_timestamps',\n",
       " 'tone_timestamps',\n",
       " 'box_1_port_entry_timestamps',\n",
       " 'box_2_port_entry_timestamps',\n",
       " 'lfp_timestamps',\n",
       " 'vHPC_lfp_trace',\n",
       " 'BLA_lfp_trace',\n",
       " 'LH_lfp_trace',\n",
       " 'MD_lfp_trace',\n",
       " 'mPFC_lfp_trace',\n",
       " 'vHPC_lfp_MAD',\n",
       " 'BLA_lfp_MAD',\n",
       " 'LH_lfp_MAD',\n",
       " 'MD_lfp_MAD',\n",
       " 'mPFC_lfp_MAD',\n",
       " 'vHPC_lfp_modified_zscore',\n",
       " 'BLA_lfp_modified_zscore',\n",
       " 'LH_lfp_modified_zscore',\n",
       " 'MD_lfp_modified_zscore',\n",
       " 'mPFC_lfp_modified_zscore',\n",
       " 'vHPC_lfp_RMS',\n",
       " 'BLA_lfp_RMS',\n",
       " 'LH_lfp_RMS',\n",
       " 'MD_lfp_RMS',\n",
       " 'mPFC_lfp_RMS',\n",
       " 'vHPC_lfp_mask',\n",
       " 'BLA_lfp_mask',\n",
       " 'LH_lfp_mask',\n",
       " 'MD_lfp_mask',\n",
       " 'mPFC_lfp_mask',\n",
       " 'vHPC_lfp_trace_filtered',\n",
       " 'BLA_lfp_trace_filtered',\n",
       " 'LH_lfp_trace_filtered',\n",
       " 'MD_lfp_trace_filtered',\n",
       " 'mPFC_lfp_trace_filtered',\n",
       " 'vHPC_lfp_RMS_filtered',\n",
       " 'BLA_lfp_RMS_filtered',\n",
       " 'LH_lfp_RMS_filtered',\n",
       " 'MD_lfp_RMS_filtered',\n",
       " 'mPFC_lfp_RMS_filtered',\n",
       " 'vHPC_RMS_filtered_power_all_frequencies_all_windows',\n",
       " 'BLA_RMS_filtered_power_all_frequencies_all_windows',\n",
       " 'LH_RMS_filtered_power_all_frequencies_all_windows',\n",
       " 'MD_RMS_filtered_power_all_frequencies_all_windows',\n",
       " 'mPFC_RMS_filtered_power_all_frequencies_all_windows',\n",
       " 'power_timestamps',\n",
       " 'power_calculation_frequencies',\n",
       " 'vHPC_theta_band',\n",
       " 'BLA_theta_band',\n",
       " 'LH_theta_band',\n",
       " 'MD_theta_band',\n",
       " 'mPFC_theta_band',\n",
       " 'vHPC_gamma_band',\n",
       " 'BLA_gamma_band',\n",
       " 'LH_gamma_band',\n",
       " 'MD_gamma_band',\n",
       " 'mPFC_gamma_band',\n",
       " 'vHPC_theta_phase',\n",
       " 'BLA_theta_phase',\n",
       " 'LH_theta_phase',\n",
       " 'MD_theta_phase',\n",
       " 'mPFC_theta_phase',\n",
       " 'vHPC_gamma_phase',\n",
       " 'BLA_gamma_phase',\n",
       " 'LH_gamma_phase',\n",
       " 'MD_gamma_phase',\n",
       " 'mPFC_gamma_phase',\n",
       " 'BLA_LH_coherence_all_frequencies_all_windows',\n",
       " 'BLA_MD_coherence_all_frequencies_all_windows',\n",
       " 'BLA_mPFC_coherence_all_frequencies_all_windows',\n",
       " 'BLA_vHPC_coherence_all_frequencies_all_windows',\n",
       " 'LH_MD_coherence_all_frequencies_all_windows',\n",
       " 'LH_mPFC_coherence_all_frequencies_all_windows',\n",
       " 'LH_vHPC_coherence_all_frequencies_all_windows',\n",
       " 'MD_mPFC_coherence_all_frequencies_all_windows',\n",
       " 'MD_vHPC_coherence_all_frequencies_all_windows',\n",
       " 'mPFC_vHPC_coherence_all_frequencies_all_windows',\n",
       " 'coherence_timestamps',\n",
       " 'coherence_calculation_frequencies',\n",
       " 'BLA_LH_granger_all_frequencies_all_windows',\n",
       " 'LH_BLA_granger_all_frequencies_all_windows',\n",
       " 'BLA_MD_granger_all_frequencies_all_windows',\n",
       " 'MD_BLA_granger_all_frequencies_all_windows',\n",
       " 'BLA_mPFC_granger_all_frequencies_all_windows',\n",
       " 'mPFC_BLA_granger_all_frequencies_all_windows',\n",
       " 'BLA_vHPC_granger_all_frequencies_all_windows',\n",
       " 'vHPC_BLA_granger_all_frequencies_all_windows',\n",
       " 'LH_MD_granger_all_frequencies_all_windows',\n",
       " 'MD_LH_granger_all_frequencies_all_windows',\n",
       " 'LH_mPFC_granger_all_frequencies_all_windows',\n",
       " 'mPFC_LH_granger_all_frequencies_all_windows',\n",
       " 'LH_vHPC_granger_all_frequencies_all_windows',\n",
       " 'vHPC_LH_granger_all_frequencies_all_windows',\n",
       " 'MD_mPFC_granger_all_frequencies_all_windows',\n",
       " 'mPFC_MD_granger_all_frequencies_all_windows',\n",
       " 'MD_vHPC_granger_all_frequencies_all_windows',\n",
       " 'vHPC_MD_granger_all_frequencies_all_windows',\n",
       " 'mPFC_vHPC_granger_all_frequencies_all_windows',\n",
       " 'vHPC_mPFC_granger_all_frequencies_all_windows',\n",
       " 'granger_timestamps',\n",
       " 'granger_calculation_frequencies']"
      ]
     },
     "execution_count": 21,
     "metadata": {},
     "output_type": "execute_result"
    }
   ],
   "source": [
    "list(LFP_SPECTRAL_DF.columns)"
   ]
  },
  {
   "cell_type": "code",
   "execution_count": 22,
   "metadata": {
    "tags": []
   },
   "outputs": [],
   "source": [
    "dropping_columns = [col for col in LFP_SPECTRAL_DF if (\"MAD\" in col or \"modified_zscore\" in col or \"RMS\" in col or \"mask\" in col or \"trace_filtered\" in col) and \"power\" not in col]\n",
    "\n",
    "\n"
   ]
  },
  {
   "cell_type": "code",
   "execution_count": 23,
   "metadata": {
    "tags": []
   },
   "outputs": [
    {
     "data": {
      "text/plain": [
       "['vHPC_lfp_MAD',\n",
       " 'BLA_lfp_MAD',\n",
       " 'LH_lfp_MAD',\n",
       " 'MD_lfp_MAD',\n",
       " 'mPFC_lfp_MAD',\n",
       " 'vHPC_lfp_modified_zscore',\n",
       " 'BLA_lfp_modified_zscore',\n",
       " 'LH_lfp_modified_zscore',\n",
       " 'MD_lfp_modified_zscore',\n",
       " 'mPFC_lfp_modified_zscore',\n",
       " 'vHPC_lfp_RMS',\n",
       " 'BLA_lfp_RMS',\n",
       " 'LH_lfp_RMS',\n",
       " 'MD_lfp_RMS',\n",
       " 'mPFC_lfp_RMS',\n",
       " 'vHPC_lfp_mask',\n",
       " 'BLA_lfp_mask',\n",
       " 'LH_lfp_mask',\n",
       " 'MD_lfp_mask',\n",
       " 'mPFC_lfp_mask',\n",
       " 'vHPC_lfp_trace_filtered',\n",
       " 'BLA_lfp_trace_filtered',\n",
       " 'LH_lfp_trace_filtered',\n",
       " 'MD_lfp_trace_filtered',\n",
       " 'mPFC_lfp_trace_filtered',\n",
       " 'vHPC_lfp_RMS_filtered',\n",
       " 'BLA_lfp_RMS_filtered',\n",
       " 'LH_lfp_RMS_filtered',\n",
       " 'MD_lfp_RMS_filtered',\n",
       " 'mPFC_lfp_RMS_filtered']"
      ]
     },
     "execution_count": 23,
     "metadata": {},
     "output_type": "execute_result"
    }
   ],
   "source": [
    "dropping_columns"
   ]
  },
  {
   "cell_type": "code",
   "execution_count": 24,
   "metadata": {
    "tags": []
   },
   "outputs": [],
   "source": [
    "LFP_SPECTRAL_DF = LFP_SPECTRAL_DF.drop(columns=dropping_columns, errors=\"ignore\")"
   ]
  },
  {
   "cell_type": "markdown",
   "metadata": {},
   "source": [
    "## Filtering frequencies"
   ]
  },
  {
   "cell_type": "code",
   "execution_count": 25,
   "metadata": {
    "tags": []
   },
   "outputs": [
    {
     "data": {
      "text/plain": [
       "['cohort',\n",
       " 'session_dir',\n",
       " 'tone_frames',\n",
       " 'box_1_port_entry_frames',\n",
       " 'box_2_port_entry_frames',\n",
       " 'video_name',\n",
       " 'notes',\n",
       " 'session_path',\n",
       " 'recording',\n",
       " 'current_subject',\n",
       " 'subject',\n",
       " 'all_subjects',\n",
       " 'first_timestamp',\n",
       " 'last_timestamp',\n",
       " 'video_timestamps',\n",
       " 'tone_timestamps',\n",
       " 'box_1_port_entry_timestamps',\n",
       " 'box_2_port_entry_timestamps',\n",
       " 'lfp_timestamps',\n",
       " 'vHPC_lfp_trace',\n",
       " 'BLA_lfp_trace',\n",
       " 'LH_lfp_trace',\n",
       " 'MD_lfp_trace',\n",
       " 'mPFC_lfp_trace',\n",
       " 'vHPC_RMS_filtered_power_all_frequencies_all_windows',\n",
       " 'BLA_RMS_filtered_power_all_frequencies_all_windows',\n",
       " 'LH_RMS_filtered_power_all_frequencies_all_windows',\n",
       " 'MD_RMS_filtered_power_all_frequencies_all_windows',\n",
       " 'mPFC_RMS_filtered_power_all_frequencies_all_windows',\n",
       " 'power_timestamps',\n",
       " 'power_calculation_frequencies',\n",
       " 'vHPC_theta_band',\n",
       " 'BLA_theta_band',\n",
       " 'LH_theta_band',\n",
       " 'MD_theta_band',\n",
       " 'mPFC_theta_band',\n",
       " 'vHPC_gamma_band',\n",
       " 'BLA_gamma_band',\n",
       " 'LH_gamma_band',\n",
       " 'MD_gamma_band',\n",
       " 'mPFC_gamma_band',\n",
       " 'vHPC_theta_phase',\n",
       " 'BLA_theta_phase',\n",
       " 'LH_theta_phase',\n",
       " 'MD_theta_phase',\n",
       " 'mPFC_theta_phase',\n",
       " 'vHPC_gamma_phase',\n",
       " 'BLA_gamma_phase',\n",
       " 'LH_gamma_phase',\n",
       " 'MD_gamma_phase',\n",
       " 'mPFC_gamma_phase',\n",
       " 'BLA_LH_coherence_all_frequencies_all_windows',\n",
       " 'BLA_MD_coherence_all_frequencies_all_windows',\n",
       " 'BLA_mPFC_coherence_all_frequencies_all_windows',\n",
       " 'BLA_vHPC_coherence_all_frequencies_all_windows',\n",
       " 'LH_MD_coherence_all_frequencies_all_windows',\n",
       " 'LH_mPFC_coherence_all_frequencies_all_windows',\n",
       " 'LH_vHPC_coherence_all_frequencies_all_windows',\n",
       " 'MD_mPFC_coherence_all_frequencies_all_windows',\n",
       " 'MD_vHPC_coherence_all_frequencies_all_windows',\n",
       " 'mPFC_vHPC_coherence_all_frequencies_all_windows',\n",
       " 'coherence_timestamps',\n",
       " 'coherence_calculation_frequencies',\n",
       " 'BLA_LH_granger_all_frequencies_all_windows',\n",
       " 'LH_BLA_granger_all_frequencies_all_windows',\n",
       " 'BLA_MD_granger_all_frequencies_all_windows',\n",
       " 'MD_BLA_granger_all_frequencies_all_windows',\n",
       " 'BLA_mPFC_granger_all_frequencies_all_windows',\n",
       " 'mPFC_BLA_granger_all_frequencies_all_windows',\n",
       " 'BLA_vHPC_granger_all_frequencies_all_windows',\n",
       " 'vHPC_BLA_granger_all_frequencies_all_windows',\n",
       " 'LH_MD_granger_all_frequencies_all_windows',\n",
       " 'MD_LH_granger_all_frequencies_all_windows',\n",
       " 'LH_mPFC_granger_all_frequencies_all_windows',\n",
       " 'mPFC_LH_granger_all_frequencies_all_windows',\n",
       " 'LH_vHPC_granger_all_frequencies_all_windows',\n",
       " 'vHPC_LH_granger_all_frequencies_all_windows',\n",
       " 'MD_mPFC_granger_all_frequencies_all_windows',\n",
       " 'mPFC_MD_granger_all_frequencies_all_windows',\n",
       " 'MD_vHPC_granger_all_frequencies_all_windows',\n",
       " 'vHPC_MD_granger_all_frequencies_all_windows',\n",
       " 'mPFC_vHPC_granger_all_frequencies_all_windows',\n",
       " 'vHPC_mPFC_granger_all_frequencies_all_windows',\n",
       " 'granger_timestamps',\n",
       " 'granger_calculation_frequencies']"
      ]
     },
     "execution_count": 25,
     "metadata": {},
     "output_type": "execute_result"
    }
   ],
   "source": [
    "list(LFP_SPECTRAL_DF.columns)"
   ]
  },
  {
   "cell_type": "code",
   "execution_count": 26,
   "metadata": {
    "tags": []
   },
   "outputs": [],
   "source": [
    "all_frequencies_columns = [col for col in LFP_SPECTRAL_DF if \"all_frequencies_all_windows\" in col] "
   ]
  },
  {
   "cell_type": "code",
   "execution_count": 27,
   "metadata": {
    "tags": []
   },
   "outputs": [],
   "source": [
    "for col in all_frequencies_columns:\n",
    "    if \"power\" in col:\n",
    "        LFP_SPECTRAL_DF[col] = LFP_SPECTRAL_DF.apply(lambda x: x[col][:, (x[\"power_calculation_frequencies\"] >= filter_band[0]) & (x[\"power_calculation_frequencies\"] < filter_band[1])], axis=1)\n",
    "LFP_SPECTRAL_DF[\"power_calculation_frequencies\"] = LFP_SPECTRAL_DF[\"power_calculation_frequencies\"].apply(lambda x: x[filter_band[0]: filter_band[1]])\n"
   ]
  },
  {
   "cell_type": "code",
   "execution_count": 28,
   "metadata": {
    "tags": []
   },
   "outputs": [],
   "source": [
    "for col in all_frequencies_columns:\n",
    "    if \"coherence\" in col:\n",
    "        LFP_SPECTRAL_DF[col] = LFP_SPECTRAL_DF.apply(lambda x: x[col][:, (x[\"coherence_calculation_frequencies\"] >= filter_band[0]) & (x[\"coherence_calculation_frequencies\"] < filter_band[1])], axis=1)\n",
    "LFP_SPECTRAL_DF[\"coherence_calculation_frequencies\"] = LFP_SPECTRAL_DF[\"coherence_calculation_frequencies\"].apply(lambda x: x[filter_band[0]: filter_band[1]])\n"
   ]
  },
  {
   "cell_type": "code",
   "execution_count": 29,
   "metadata": {
    "tags": []
   },
   "outputs": [],
   "source": [
    "for col in all_frequencies_columns:\n",
    "    if \"granger\" in col:\n",
    "        LFP_SPECTRAL_DF[col] = LFP_SPECTRAL_DF.apply(lambda x: x[col][:, (x[\"granger_calculation_frequencies\"] >= filter_band[0]) & (x[\"granger_calculation_frequencies\"] < filter_band[1])], axis=1)\n",
    "LFP_SPECTRAL_DF[\"granger_calculation_frequencies\"] = LFP_SPECTRAL_DF[\"granger_calculation_frequencies\"].apply(lambda x: x[filter_band[0]: filter_band[1]])\n"
   ]
  },
  {
   "cell_type": "code",
   "execution_count": 30,
   "metadata": {
    "tags": []
   },
   "outputs": [
    {
     "name": "stdout",
     "output_type": "stream",
     "text": [
      "(6358, 56)\n",
      "(6358, 56)\n",
      "(6358, 56)\n",
      "(6358, 56)\n",
      "(6358, 56)\n",
      "(6358, 56)\n",
      "(6358, 56)\n",
      "(6358, 56)\n",
      "(6358, 56)\n",
      "(6358, 56)\n",
      "(6358, 56)\n",
      "(6358, 56)\n",
      "(6358, 56)\n",
      "(6358, 56)\n",
      "(6358, 56)\n",
      "(6358, 56)\n",
      "(6358, 56)\n",
      "(6358, 56)\n",
      "(6358, 56)\n",
      "(6358, 56)\n",
      "(6358, 56)\n",
      "(6358, 56)\n",
      "(6358, 56)\n",
      "(6358, 56)\n",
      "(6358, 56)\n",
      "(6358, 56)\n",
      "(6358, 56)\n",
      "(6358, 56)\n",
      "(6358, 56)\n",
      "(6358, 56)\n",
      "(6358, 56)\n",
      "(6358, 56)\n",
      "(6358, 56)\n",
      "(6358, 56)\n",
      "(6358, 56)\n"
     ]
    }
   ],
   "source": [
    "for col in all_frequencies_columns:\n",
    "    print(LFP_SPECTRAL_DF[col].iloc[0].shape)"
   ]
  },
  {
   "cell_type": "code",
   "execution_count": 31,
   "metadata": {
    "tags": []
   },
   "outputs": [
    {
     "data": {
      "text/plain": [
       "(56,)"
      ]
     },
     "execution_count": 31,
     "metadata": {},
     "output_type": "execute_result"
    }
   ],
   "source": [
    "LFP_SPECTRAL_DF[\"power_calculation_frequencies\"].iloc[0].shape"
   ]
  },
  {
   "cell_type": "code",
   "execution_count": 32,
   "metadata": {},
   "outputs": [
    {
     "data": {
      "text/plain": [
       "(56,)"
      ]
     },
     "execution_count": 32,
     "metadata": {},
     "output_type": "execute_result"
    }
   ],
   "source": [
    "LFP_SPECTRAL_DF[\"coherence_calculation_frequencies\"].iloc[0].shape"
   ]
  },
  {
   "cell_type": "code",
   "execution_count": 33,
   "metadata": {},
   "outputs": [
    {
     "data": {
      "text/plain": [
       "(56,)"
      ]
     },
     "execution_count": 33,
     "metadata": {},
     "output_type": "execute_result"
    }
   ],
   "source": [
    "LFP_SPECTRAL_DF[\"granger_calculation_frequencies\"].iloc[0].shape"
   ]
  },
  {
   "cell_type": "markdown",
   "metadata": {
    "tags": []
   },
   "source": [
    "## Filtering by theta and gamma band"
   ]
  },
  {
   "cell_type": "markdown",
   "metadata": {},
   "source": [
    "- Filtering theta/gamma for coherence"
   ]
  },
  {
   "cell_type": "code",
   "execution_count": 37,
   "metadata": {
    "tags": []
   },
   "outputs": [],
   "source": [
    "coherence_columns = [col for col in LFP_SPECTRAL_DF.columns if \"coherence\" in col and \"calculation\" not in col and \"time\" not in col]"
   ]
  },
  {
   "cell_type": "code",
   "execution_count": 38,
   "metadata": {
    "tags": []
   },
   "outputs": [
    {
     "data": {
      "text/plain": [
       "['BLA_LH_coherence_all_frequencies_all_windows',\n",
       " 'BLA_MD_coherence_all_frequencies_all_windows',\n",
       " 'BLA_mPFC_coherence_all_frequencies_all_windows',\n",
       " 'BLA_vHPC_coherence_all_frequencies_all_windows',\n",
       " 'LH_MD_coherence_all_frequencies_all_windows',\n",
       " 'LH_mPFC_coherence_all_frequencies_all_windows',\n",
       " 'LH_vHPC_coherence_all_frequencies_all_windows',\n",
       " 'MD_mPFC_coherence_all_frequencies_all_windows',\n",
       " 'MD_vHPC_coherence_all_frequencies_all_windows',\n",
       " 'mPFC_vHPC_coherence_all_frequencies_all_windows']"
      ]
     },
     "execution_count": 38,
     "metadata": {},
     "output_type": "execute_result"
    }
   ],
   "source": [
    "coherence_columns"
   ]
  },
  {
   "cell_type": "code",
   "execution_count": 39,
   "metadata": {
    "tags": []
   },
   "outputs": [
    {
     "name": "stdout",
     "output_type": "stream",
     "text": [
      "BLA_LH\n",
      "BLA_MD\n",
      "BLA_mPFC\n",
      "BLA_vHPC\n",
      "LH_MD\n",
      "LH_mPFC\n",
      "LH_vHPC\n",
      "MD_mPFC\n",
      "MD_vHPC\n",
      "mPFC_vHPC\n"
     ]
    }
   ],
   "source": [
    "for col in coherence_columns:\n",
    "    brain_region_name = \"_\".join(col.split(\"_\")[:2])\n",
    "    print(brain_region_name)\n",
    "    theta_coherence_col = \"{}_coherence_theta\".format(brain_region_name)\n",
    "    gamma_coherence_col = \"{}_coherence_gamma\".format(brain_region_name)\n",
    "    LFP_SPECTRAL_DF[\"{}\".format(theta_coherence_col)] = LFP_SPECTRAL_DF.apply(lambda x: np.nanmean(x[col][:, (x[\"coherence_calculation_frequencies\"] >= theta_band[0]) & (x[\"coherence_calculation_frequencies\"] <= theta_band[1])], axis=1), axis=1)\n",
    "    LFP_SPECTRAL_DF[\"{}\".format(gamma_coherence_col)] = LFP_SPECTRAL_DF.apply(lambda x: np.nanmean(x[col][:, (x[\"coherence_calculation_frequencies\"] >= gamma_band[0]) & (x[\"coherence_calculation_frequencies\"] <= gamma_band[1])], axis=1), axis=1)"
   ]
  },
  {
   "cell_type": "code",
   "execution_count": 40,
   "metadata": {
    "tags": []
   },
   "outputs": [
    {
     "data": {
      "text/html": [
       "<div>\n",
       "<style scoped>\n",
       "    .dataframe tbody tr th:only-of-type {\n",
       "        vertical-align: middle;\n",
       "    }\n",
       "\n",
       "    .dataframe tbody tr th {\n",
       "        vertical-align: top;\n",
       "    }\n",
       "\n",
       "    .dataframe thead th {\n",
       "        text-align: right;\n",
       "    }\n",
       "</style>\n",
       "<table border=\"1\" class=\"dataframe\">\n",
       "  <thead>\n",
       "    <tr style=\"text-align: right;\">\n",
       "      <th></th>\n",
       "      <th>cohort</th>\n",
       "      <th>session_dir</th>\n",
       "      <th>tone_frames</th>\n",
       "      <th>box_1_port_entry_frames</th>\n",
       "      <th>box_2_port_entry_frames</th>\n",
       "      <th>video_name</th>\n",
       "      <th>notes</th>\n",
       "      <th>session_path</th>\n",
       "      <th>recording</th>\n",
       "      <th>current_subject</th>\n",
       "      <th>...</th>\n",
       "      <th>LH_mPFC_coherence_theta</th>\n",
       "      <th>LH_mPFC_coherence_gamma</th>\n",
       "      <th>LH_vHPC_coherence_theta</th>\n",
       "      <th>LH_vHPC_coherence_gamma</th>\n",
       "      <th>MD_mPFC_coherence_theta</th>\n",
       "      <th>MD_mPFC_coherence_gamma</th>\n",
       "      <th>MD_vHPC_coherence_theta</th>\n",
       "      <th>MD_vHPC_coherence_gamma</th>\n",
       "      <th>mPFC_vHPC_coherence_theta</th>\n",
       "      <th>mPFC_vHPC_coherence_gamma</th>\n",
       "    </tr>\n",
       "  </thead>\n",
       "  <tbody>\n",
       "    <tr>\n",
       "      <th>0</th>\n",
       "      <td>NaN</td>\n",
       "      <td>20240320_142408_alone_comp_subj_3-1_and_3-3</td>\n",
       "      <td>[[0, 74], [1272, 1471], [3268, 3469], [4466, 4...</td>\n",
       "      <td>[[0, 74], [152, 157], [252, 305], [305, 323], ...</td>\n",
       "      <td>[[0, 74], [160, 225], [254, 257], [257, 279], ...</td>\n",
       "      <td>20240320_142408_alone_comp_subj_3-1_and_3-3.1....</td>\n",
       "      <td>NaN</td>\n",
       "      <td>/scratch/back_up/reward_competition_extention/...</td>\n",
       "      <td>20240320_142408_alone_comp_subj_3-1_t6b6_merged</td>\n",
       "      <td>3.1</td>\n",
       "      <td>...</td>\n",
       "      <td>[0.9914984, 0.9911759, 0.9134759, 0.9374575, 0...</td>\n",
       "      <td>[0.89405376, 0.93365735, 0.9576979, 0.9373238,...</td>\n",
       "      <td>[0.9846841, 0.9790238, 0.9358691, 0.92978275, ...</td>\n",
       "      <td>[0.9778496, 0.9755029, 0.9706771, 0.95098776, ...</td>\n",
       "      <td>[0.9726341, 0.9888332, 0.9394758, 0.9509144, 0...</td>\n",
       "      <td>[0.89643115, 0.86710066, 0.81470764, 0.871521,...</td>\n",
       "      <td>[0.9555161, 0.9717722, 0.89344174, 0.8849591, ...</td>\n",
       "      <td>[0.9103005, 0.8557355, 0.8185155, 0.81018096, ...</td>\n",
       "      <td>[0.9653773, 0.96830297, 0.77577275, 0.7981992,...</td>\n",
       "      <td>[0.91000295, 0.91290253, 0.9302923, 0.8766653,...</td>\n",
       "    </tr>\n",
       "    <tr>\n",
       "      <th>1</th>\n",
       "      <td>NaN</td>\n",
       "      <td>20240320_142408_alone_comp_subj_3-1_and_3-3</td>\n",
       "      <td>[[0, 75], [1273, 1472], [3269, 3470], [4467, 4...</td>\n",
       "      <td>[[0, 75], [153, 158], [252, 306], [306, 324], ...</td>\n",
       "      <td>[[0, 75], [161, 226], [255, 258], [258, 280], ...</td>\n",
       "      <td>20240320_142408_alone_comp_subj_3-1_and_3-3.2....</td>\n",
       "      <td>NaN</td>\n",
       "      <td>/scratch/back_up/reward_competition_extention/...</td>\n",
       "      <td>20240320_142408_alone_comp_subj_3-1_t6b6_merged</td>\n",
       "      <td>3.1</td>\n",
       "      <td>...</td>\n",
       "      <td>[0.9914984, 0.9911759, 0.9134759, 0.9374575, 0...</td>\n",
       "      <td>[0.89405376, 0.93365735, 0.9576979, 0.9373238,...</td>\n",
       "      <td>[0.9846841, 0.9790238, 0.9358691, 0.92978275, ...</td>\n",
       "      <td>[0.9778496, 0.9755029, 0.9706771, 0.95098776, ...</td>\n",
       "      <td>[0.9726341, 0.9888332, 0.9394758, 0.9509144, 0...</td>\n",
       "      <td>[0.89643115, 0.86710066, 0.81470764, 0.871521,...</td>\n",
       "      <td>[0.9555161, 0.9717722, 0.89344174, 0.8849591, ...</td>\n",
       "      <td>[0.9103005, 0.8557355, 0.8185155, 0.81018096, ...</td>\n",
       "      <td>[0.9653773, 0.96830297, 0.77577275, 0.7981992,...</td>\n",
       "      <td>[0.91000295, 0.91290253, 0.9302923, 0.8766653,...</td>\n",
       "    </tr>\n",
       "    <tr>\n",
       "      <th>2</th>\n",
       "      <td>NaN</td>\n",
       "      <td>20240320_142408_alone_comp_subj_3-1_and_3-3</td>\n",
       "      <td>[[0, 74], [1272, 1471], [3268, 3469], [4466, 4...</td>\n",
       "      <td>[[0, 74], [152, 157], [252, 305], [305, 323], ...</td>\n",
       "      <td>[[0, 74], [160, 225], [254, 257], [257, 279], ...</td>\n",
       "      <td>20240320_142408_alone_comp_subj_3-1_and_3-3.1....</td>\n",
       "      <td>NaN</td>\n",
       "      <td>/scratch/back_up/reward_competition_extention/...</td>\n",
       "      <td>20240320_142408_alone_comp_subj_3-3_t5b5_merged</td>\n",
       "      <td>3.3</td>\n",
       "      <td>...</td>\n",
       "      <td>[0.993233, 0.99620587, 0.99454, nan, nan, 0.98...</td>\n",
       "      <td>[0.9386059, 0.9323386, 0.94416934, nan, nan, 0...</td>\n",
       "      <td>[0.9984559, 0.9968355, 0.99545413, nan, nan, 0...</td>\n",
       "      <td>[0.9755613, 0.9771468, 0.98318654, nan, nan, 0...</td>\n",
       "      <td>[0.9916318, 0.99025565, 0.9916064, nan, nan, 0...</td>\n",
       "      <td>[0.84362084, 0.8870618, 0.88932526, nan, nan, ...</td>\n",
       "      <td>[0.9890073, 0.99289894, 0.99066913, nan, nan, ...</td>\n",
       "      <td>[0.88504237, 0.8983213, 0.935107, nan, nan, 0....</td>\n",
       "      <td>[0.9922177, 0.995457, 0.99034446, nan, nan, 0....</td>\n",
       "      <td>[0.9531989, 0.95851034, 0.96198416, nan, nan, ...</td>\n",
       "    </tr>\n",
       "    <tr>\n",
       "      <th>3</th>\n",
       "      <td>NaN</td>\n",
       "      <td>20240320_142408_alone_comp_subj_3-1_and_3-3</td>\n",
       "      <td>[[0, 75], [1273, 1472], [3269, 3470], [4467, 4...</td>\n",
       "      <td>[[0, 75], [153, 158], [252, 306], [306, 324], ...</td>\n",
       "      <td>[[0, 75], [161, 226], [255, 258], [258, 280], ...</td>\n",
       "      <td>20240320_142408_alone_comp_subj_3-1_and_3-3.2....</td>\n",
       "      <td>NaN</td>\n",
       "      <td>/scratch/back_up/reward_competition_extention/...</td>\n",
       "      <td>20240320_142408_alone_comp_subj_3-3_t5b5_merged</td>\n",
       "      <td>3.3</td>\n",
       "      <td>...</td>\n",
       "      <td>[0.993233, 0.99620587, 0.99454, nan, nan, 0.98...</td>\n",
       "      <td>[0.9386059, 0.9323386, 0.94416934, nan, nan, 0...</td>\n",
       "      <td>[0.9984559, 0.9968355, 0.99545413, nan, nan, 0...</td>\n",
       "      <td>[0.9755613, 0.9771468, 0.98318654, nan, nan, 0...</td>\n",
       "      <td>[0.9916318, 0.99025565, 0.9916064, nan, nan, 0...</td>\n",
       "      <td>[0.84362084, 0.8870618, 0.88932526, nan, nan, ...</td>\n",
       "      <td>[0.9890073, 0.99289894, 0.99066913, nan, nan, ...</td>\n",
       "      <td>[0.88504237, 0.8983213, 0.935107, nan, nan, 0....</td>\n",
       "      <td>[0.9922177, 0.995457, 0.99034446, nan, nan, 0....</td>\n",
       "      <td>[0.9531989, 0.95851034, 0.96198416, nan, nan, ...</td>\n",
       "    </tr>\n",
       "    <tr>\n",
       "      <th>4</th>\n",
       "      <td>NaN</td>\n",
       "      <td>20240320_171038_alone_comp_subj_4-2_and_4-3</td>\n",
       "      <td>[[0, 79], [1276, 1477], [3272, 3473], [4470, 4...</td>\n",
       "      <td>[[0, 79], [84, 92], [92, 132], [145, 175], [25...</td>\n",
       "      <td>[[0, 79], [79, 186], [188, 191], [191, 268], [...</td>\n",
       "      <td>20240320_171038_alone_comp_subj_4-2_and_4-3.1....</td>\n",
       "      <td>NaN</td>\n",
       "      <td>/scratch/back_up/reward_competition_extention/...</td>\n",
       "      <td>20240320_171038_alone_comp_subj_4-2_t6b6_merged</td>\n",
       "      <td>4.2</td>\n",
       "      <td>...</td>\n",
       "      <td>[nan, 0.9867119, 0.9915893, 0.9936498, 0.99362...</td>\n",
       "      <td>[nan, 0.9371764, 0.91116005, 0.9100085, 0.9700...</td>\n",
       "      <td>[nan, 0.9769532, 0.9897766, 0.9826922, 0.98163...</td>\n",
       "      <td>[nan, 0.891475, 0.8924268, 0.88298434, 0.92669...</td>\n",
       "      <td>[nan, 0.99160045, 0.99688286, 0.9965605, 0.993...</td>\n",
       "      <td>[nan, 0.9458024, 0.93168294, 0.92927617, 0.965...</td>\n",
       "      <td>[nan, 0.9915499, 0.995436, 0.9854747, 0.984067...</td>\n",
       "      <td>[nan, 0.90753835, 0.9178847, 0.9151536, 0.9432...</td>\n",
       "      <td>[nan, 0.9818674, 0.9908409, 0.99035347, 0.9930...</td>\n",
       "      <td>[nan, 0.97628224, 0.9731062, 0.96888816, 0.964...</td>\n",
       "    </tr>\n",
       "  </tbody>\n",
       "</table>\n",
       "<p>5 rows × 105 columns</p>\n",
       "</div>"
      ],
      "text/plain": [
       "   cohort                                  session_dir  \\\n",
       "0     NaN  20240320_142408_alone_comp_subj_3-1_and_3-3   \n",
       "1     NaN  20240320_142408_alone_comp_subj_3-1_and_3-3   \n",
       "2     NaN  20240320_142408_alone_comp_subj_3-1_and_3-3   \n",
       "3     NaN  20240320_142408_alone_comp_subj_3-1_and_3-3   \n",
       "4     NaN  20240320_171038_alone_comp_subj_4-2_and_4-3   \n",
       "\n",
       "                                         tone_frames  \\\n",
       "0  [[0, 74], [1272, 1471], [3268, 3469], [4466, 4...   \n",
       "1  [[0, 75], [1273, 1472], [3269, 3470], [4467, 4...   \n",
       "2  [[0, 74], [1272, 1471], [3268, 3469], [4466, 4...   \n",
       "3  [[0, 75], [1273, 1472], [3269, 3470], [4467, 4...   \n",
       "4  [[0, 79], [1276, 1477], [3272, 3473], [4470, 4...   \n",
       "\n",
       "                             box_1_port_entry_frames  \\\n",
       "0  [[0, 74], [152, 157], [252, 305], [305, 323], ...   \n",
       "1  [[0, 75], [153, 158], [252, 306], [306, 324], ...   \n",
       "2  [[0, 74], [152, 157], [252, 305], [305, 323], ...   \n",
       "3  [[0, 75], [153, 158], [252, 306], [306, 324], ...   \n",
       "4  [[0, 79], [84, 92], [92, 132], [145, 175], [25...   \n",
       "\n",
       "                             box_2_port_entry_frames  \\\n",
       "0  [[0, 74], [160, 225], [254, 257], [257, 279], ...   \n",
       "1  [[0, 75], [161, 226], [255, 258], [258, 280], ...   \n",
       "2  [[0, 74], [160, 225], [254, 257], [257, 279], ...   \n",
       "3  [[0, 75], [161, 226], [255, 258], [258, 280], ...   \n",
       "4  [[0, 79], [79, 186], [188, 191], [191, 268], [...   \n",
       "\n",
       "                                          video_name notes  \\\n",
       "0  20240320_142408_alone_comp_subj_3-1_and_3-3.1....   NaN   \n",
       "1  20240320_142408_alone_comp_subj_3-1_and_3-3.2....   NaN   \n",
       "2  20240320_142408_alone_comp_subj_3-1_and_3-3.1....   NaN   \n",
       "3  20240320_142408_alone_comp_subj_3-1_and_3-3.2....   NaN   \n",
       "4  20240320_171038_alone_comp_subj_4-2_and_4-3.1....   NaN   \n",
       "\n",
       "                                        session_path  \\\n",
       "0  /scratch/back_up/reward_competition_extention/...   \n",
       "1  /scratch/back_up/reward_competition_extention/...   \n",
       "2  /scratch/back_up/reward_competition_extention/...   \n",
       "3  /scratch/back_up/reward_competition_extention/...   \n",
       "4  /scratch/back_up/reward_competition_extention/...   \n",
       "\n",
       "                                         recording current_subject  ...  \\\n",
       "0  20240320_142408_alone_comp_subj_3-1_t6b6_merged             3.1  ...   \n",
       "1  20240320_142408_alone_comp_subj_3-1_t6b6_merged             3.1  ...   \n",
       "2  20240320_142408_alone_comp_subj_3-3_t5b5_merged             3.3  ...   \n",
       "3  20240320_142408_alone_comp_subj_3-3_t5b5_merged             3.3  ...   \n",
       "4  20240320_171038_alone_comp_subj_4-2_t6b6_merged             4.2  ...   \n",
       "\n",
       "                             LH_mPFC_coherence_theta  \\\n",
       "0  [0.9914984, 0.9911759, 0.9134759, 0.9374575, 0...   \n",
       "1  [0.9914984, 0.9911759, 0.9134759, 0.9374575, 0...   \n",
       "2  [0.993233, 0.99620587, 0.99454, nan, nan, 0.98...   \n",
       "3  [0.993233, 0.99620587, 0.99454, nan, nan, 0.98...   \n",
       "4  [nan, 0.9867119, 0.9915893, 0.9936498, 0.99362...   \n",
       "\n",
       "                             LH_mPFC_coherence_gamma  \\\n",
       "0  [0.89405376, 0.93365735, 0.9576979, 0.9373238,...   \n",
       "1  [0.89405376, 0.93365735, 0.9576979, 0.9373238,...   \n",
       "2  [0.9386059, 0.9323386, 0.94416934, nan, nan, 0...   \n",
       "3  [0.9386059, 0.9323386, 0.94416934, nan, nan, 0...   \n",
       "4  [nan, 0.9371764, 0.91116005, 0.9100085, 0.9700...   \n",
       "\n",
       "                             LH_vHPC_coherence_theta  \\\n",
       "0  [0.9846841, 0.9790238, 0.9358691, 0.92978275, ...   \n",
       "1  [0.9846841, 0.9790238, 0.9358691, 0.92978275, ...   \n",
       "2  [0.9984559, 0.9968355, 0.99545413, nan, nan, 0...   \n",
       "3  [0.9984559, 0.9968355, 0.99545413, nan, nan, 0...   \n",
       "4  [nan, 0.9769532, 0.9897766, 0.9826922, 0.98163...   \n",
       "\n",
       "                             LH_vHPC_coherence_gamma  \\\n",
       "0  [0.9778496, 0.9755029, 0.9706771, 0.95098776, ...   \n",
       "1  [0.9778496, 0.9755029, 0.9706771, 0.95098776, ...   \n",
       "2  [0.9755613, 0.9771468, 0.98318654, nan, nan, 0...   \n",
       "3  [0.9755613, 0.9771468, 0.98318654, nan, nan, 0...   \n",
       "4  [nan, 0.891475, 0.8924268, 0.88298434, 0.92669...   \n",
       "\n",
       "                             MD_mPFC_coherence_theta  \\\n",
       "0  [0.9726341, 0.9888332, 0.9394758, 0.9509144, 0...   \n",
       "1  [0.9726341, 0.9888332, 0.9394758, 0.9509144, 0...   \n",
       "2  [0.9916318, 0.99025565, 0.9916064, nan, nan, 0...   \n",
       "3  [0.9916318, 0.99025565, 0.9916064, nan, nan, 0...   \n",
       "4  [nan, 0.99160045, 0.99688286, 0.9965605, 0.993...   \n",
       "\n",
       "                             MD_mPFC_coherence_gamma  \\\n",
       "0  [0.89643115, 0.86710066, 0.81470764, 0.871521,...   \n",
       "1  [0.89643115, 0.86710066, 0.81470764, 0.871521,...   \n",
       "2  [0.84362084, 0.8870618, 0.88932526, nan, nan, ...   \n",
       "3  [0.84362084, 0.8870618, 0.88932526, nan, nan, ...   \n",
       "4  [nan, 0.9458024, 0.93168294, 0.92927617, 0.965...   \n",
       "\n",
       "                             MD_vHPC_coherence_theta  \\\n",
       "0  [0.9555161, 0.9717722, 0.89344174, 0.8849591, ...   \n",
       "1  [0.9555161, 0.9717722, 0.89344174, 0.8849591, ...   \n",
       "2  [0.9890073, 0.99289894, 0.99066913, nan, nan, ...   \n",
       "3  [0.9890073, 0.99289894, 0.99066913, nan, nan, ...   \n",
       "4  [nan, 0.9915499, 0.995436, 0.9854747, 0.984067...   \n",
       "\n",
       "                             MD_vHPC_coherence_gamma  \\\n",
       "0  [0.9103005, 0.8557355, 0.8185155, 0.81018096, ...   \n",
       "1  [0.9103005, 0.8557355, 0.8185155, 0.81018096, ...   \n",
       "2  [0.88504237, 0.8983213, 0.935107, nan, nan, 0....   \n",
       "3  [0.88504237, 0.8983213, 0.935107, nan, nan, 0....   \n",
       "4  [nan, 0.90753835, 0.9178847, 0.9151536, 0.9432...   \n",
       "\n",
       "                           mPFC_vHPC_coherence_theta  \\\n",
       "0  [0.9653773, 0.96830297, 0.77577275, 0.7981992,...   \n",
       "1  [0.9653773, 0.96830297, 0.77577275, 0.7981992,...   \n",
       "2  [0.9922177, 0.995457, 0.99034446, nan, nan, 0....   \n",
       "3  [0.9922177, 0.995457, 0.99034446, nan, nan, 0....   \n",
       "4  [nan, 0.9818674, 0.9908409, 0.99035347, 0.9930...   \n",
       "\n",
       "                           mPFC_vHPC_coherence_gamma  \n",
       "0  [0.91000295, 0.91290253, 0.9302923, 0.8766653,...  \n",
       "1  [0.91000295, 0.91290253, 0.9302923, 0.8766653,...  \n",
       "2  [0.9531989, 0.95851034, 0.96198416, nan, nan, ...  \n",
       "3  [0.9531989, 0.95851034, 0.96198416, nan, nan, ...  \n",
       "4  [nan, 0.97628224, 0.9731062, 0.96888816, 0.964...  \n",
       "\n",
       "[5 rows x 105 columns]"
      ]
     },
     "execution_count": 40,
     "metadata": {},
     "output_type": "execute_result"
    }
   ],
   "source": [
    "LFP_SPECTRAL_DF.head()"
   ]
  },
  {
   "cell_type": "code",
   "execution_count": 41,
   "metadata": {
    "tags": []
   },
   "outputs": [
    {
     "name": "stdout",
     "output_type": "stream",
     "text": [
      "cohort\n",
      "session_dir\n",
      "tone_frames\n",
      "box_1_port_entry_frames\n",
      "box_2_port_entry_frames\n",
      "video_name\n",
      "notes\n",
      "session_path\n",
      "recording\n",
      "current_subject\n",
      "subject\n",
      "all_subjects\n",
      "first_timestamp\n",
      "last_timestamp\n",
      "video_timestamps\n",
      "tone_timestamps\n",
      "box_1_port_entry_timestamps\n",
      "box_2_port_entry_timestamps\n",
      "lfp_timestamps\n",
      "vHPC_lfp_trace\n",
      "BLA_lfp_trace\n",
      "LH_lfp_trace\n",
      "MD_lfp_trace\n",
      "mPFC_lfp_trace\n",
      "vHPC_RMS_filtered_power_all_frequencies_all_windows\n",
      "BLA_RMS_filtered_power_all_frequencies_all_windows\n",
      "LH_RMS_filtered_power_all_frequencies_all_windows\n",
      "MD_RMS_filtered_power_all_frequencies_all_windows\n",
      "mPFC_RMS_filtered_power_all_frequencies_all_windows\n",
      "power_timestamps\n",
      "power_calculation_frequencies\n",
      "vHPC_theta_band\n",
      "BLA_theta_band\n",
      "LH_theta_band\n",
      "MD_theta_band\n",
      "mPFC_theta_band\n",
      "vHPC_gamma_band\n",
      "BLA_gamma_band\n",
      "LH_gamma_band\n",
      "MD_gamma_band\n",
      "mPFC_gamma_band\n",
      "vHPC_theta_phase\n",
      "BLA_theta_phase\n",
      "LH_theta_phase\n",
      "MD_theta_phase\n",
      "mPFC_theta_phase\n",
      "vHPC_gamma_phase\n",
      "BLA_gamma_phase\n",
      "LH_gamma_phase\n",
      "MD_gamma_phase\n",
      "mPFC_gamma_phase\n",
      "BLA_LH_coherence_all_frequencies_all_windows\n",
      "BLA_MD_coherence_all_frequencies_all_windows\n",
      "BLA_mPFC_coherence_all_frequencies_all_windows\n",
      "BLA_vHPC_coherence_all_frequencies_all_windows\n",
      "LH_MD_coherence_all_frequencies_all_windows\n",
      "LH_mPFC_coherence_all_frequencies_all_windows\n",
      "LH_vHPC_coherence_all_frequencies_all_windows\n",
      "MD_mPFC_coherence_all_frequencies_all_windows\n",
      "MD_vHPC_coherence_all_frequencies_all_windows\n",
      "mPFC_vHPC_coherence_all_frequencies_all_windows\n",
      "coherence_timestamps\n",
      "coherence_calculation_frequencies\n",
      "BLA_LH_granger_all_frequencies_all_windows\n",
      "LH_BLA_granger_all_frequencies_all_windows\n",
      "BLA_MD_granger_all_frequencies_all_windows\n",
      "MD_BLA_granger_all_frequencies_all_windows\n",
      "BLA_mPFC_granger_all_frequencies_all_windows\n",
      "mPFC_BLA_granger_all_frequencies_all_windows\n",
      "BLA_vHPC_granger_all_frequencies_all_windows\n",
      "vHPC_BLA_granger_all_frequencies_all_windows\n",
      "LH_MD_granger_all_frequencies_all_windows\n",
      "MD_LH_granger_all_frequencies_all_windows\n",
      "LH_mPFC_granger_all_frequencies_all_windows\n",
      "mPFC_LH_granger_all_frequencies_all_windows\n",
      "LH_vHPC_granger_all_frequencies_all_windows\n",
      "vHPC_LH_granger_all_frequencies_all_windows\n",
      "MD_mPFC_granger_all_frequencies_all_windows\n",
      "mPFC_MD_granger_all_frequencies_all_windows\n",
      "MD_vHPC_granger_all_frequencies_all_windows\n",
      "vHPC_MD_granger_all_frequencies_all_windows\n",
      "mPFC_vHPC_granger_all_frequencies_all_windows\n",
      "vHPC_mPFC_granger_all_frequencies_all_windows\n",
      "granger_timestamps\n",
      "granger_calculation_frequencies\n",
      "BLA_LH_coherence_theta\n",
      "BLA_LH_coherence_gamma\n",
      "BLA_MD_coherence_theta\n",
      "BLA_MD_coherence_gamma\n",
      "BLA_mPFC_coherence_theta\n",
      "BLA_mPFC_coherence_gamma\n",
      "BLA_vHPC_coherence_theta\n",
      "BLA_vHPC_coherence_gamma\n",
      "LH_MD_coherence_theta\n",
      "LH_MD_coherence_gamma\n",
      "LH_mPFC_coherence_theta\n",
      "LH_mPFC_coherence_gamma\n",
      "LH_vHPC_coherence_theta\n",
      "LH_vHPC_coherence_gamma\n",
      "MD_mPFC_coherence_theta\n",
      "MD_mPFC_coherence_gamma\n",
      "MD_vHPC_coherence_theta\n",
      "MD_vHPC_coherence_gamma\n",
      "mPFC_vHPC_coherence_theta\n",
      "mPFC_vHPC_coherence_gamma\n"
     ]
    }
   ],
   "source": [
    "for col in LFP_SPECTRAL_DF.columns:\n",
    "    print(col)"
   ]
  },
  {
   "cell_type": "markdown",
   "metadata": {},
   "source": [
    "- Filtering theta/gamma for granger"
   ]
  },
  {
   "cell_type": "code",
   "execution_count": 42,
   "metadata": {
    "tags": []
   },
   "outputs": [],
   "source": [
    "granger_columns = [col for col in LFP_SPECTRAL_DF.columns if \"granger\" in col and \"calculation\" not in col and \"time\" not in col]"
   ]
  },
  {
   "cell_type": "code",
   "execution_count": 43,
   "metadata": {
    "tags": []
   },
   "outputs": [
    {
     "data": {
      "text/plain": [
       "['BLA_LH_granger_all_frequencies_all_windows',\n",
       " 'LH_BLA_granger_all_frequencies_all_windows',\n",
       " 'BLA_MD_granger_all_frequencies_all_windows',\n",
       " 'MD_BLA_granger_all_frequencies_all_windows',\n",
       " 'BLA_mPFC_granger_all_frequencies_all_windows',\n",
       " 'mPFC_BLA_granger_all_frequencies_all_windows',\n",
       " 'BLA_vHPC_granger_all_frequencies_all_windows',\n",
       " 'vHPC_BLA_granger_all_frequencies_all_windows',\n",
       " 'LH_MD_granger_all_frequencies_all_windows',\n",
       " 'MD_LH_granger_all_frequencies_all_windows',\n",
       " 'LH_mPFC_granger_all_frequencies_all_windows',\n",
       " 'mPFC_LH_granger_all_frequencies_all_windows',\n",
       " 'LH_vHPC_granger_all_frequencies_all_windows',\n",
       " 'vHPC_LH_granger_all_frequencies_all_windows',\n",
       " 'MD_mPFC_granger_all_frequencies_all_windows',\n",
       " 'mPFC_MD_granger_all_frequencies_all_windows',\n",
       " 'MD_vHPC_granger_all_frequencies_all_windows',\n",
       " 'vHPC_MD_granger_all_frequencies_all_windows',\n",
       " 'mPFC_vHPC_granger_all_frequencies_all_windows',\n",
       " 'vHPC_mPFC_granger_all_frequencies_all_windows']"
      ]
     },
     "execution_count": 43,
     "metadata": {},
     "output_type": "execute_result"
    }
   ],
   "source": [
    "granger_columns"
   ]
  },
  {
   "cell_type": "code",
   "execution_count": 44,
   "metadata": {
    "tags": []
   },
   "outputs": [
    {
     "name": "stdout",
     "output_type": "stream",
     "text": [
      "BLA-to-LH\n",
      "LH-to-BLA\n",
      "BLA-to-MD\n",
      "MD-to-BLA\n",
      "BLA-to-mPFC\n",
      "mPFC-to-BLA\n",
      "BLA-to-vHPC\n",
      "vHPC-to-BLA\n",
      "LH-to-MD\n",
      "MD-to-LH\n",
      "LH-to-mPFC\n",
      "mPFC-to-LH\n",
      "LH-to-vHPC\n",
      "vHPC-to-LH\n",
      "MD-to-mPFC\n",
      "mPFC-to-MD\n",
      "MD-to-vHPC\n",
      "vHPC-to-MD\n",
      "mPFC-to-vHPC\n",
      "vHPC-to-mPFC\n"
     ]
    }
   ],
   "source": [
    "for col in granger_columns:\n",
    "    brain_region_name = \"-to-\".join(col.split(\"_\")[:2])\n",
    "    print(brain_region_name)\n",
    "    theta_granger_col = \"{}_granger_theta\".format(brain_region_name)\n",
    "    gamma_granger_col = \"{}_granger_gamma\".format(brain_region_name)\n",
    "    LFP_SPECTRAL_DF[\"{}\".format(theta_granger_col)] = LFP_SPECTRAL_DF.apply(lambda x: np.nanmean(x[col][:, (x[\"granger_calculation_frequencies\"] >= theta_band[0]) & (x[\"granger_calculation_frequencies\"] <= theta_band[1])], axis=1), axis=1)\n",
    "    LFP_SPECTRAL_DF[\"{}\".format(gamma_granger_col)] = LFP_SPECTRAL_DF.apply(lambda x: np.nanmean(x[col][:, (x[\"granger_calculation_frequencies\"] >= gamma_band[0]) & (x[\"granger_calculation_frequencies\"] <= gamma_band[1])], axis=1), axis=1)"
   ]
  },
  {
   "cell_type": "code",
   "execution_count": 45,
   "metadata": {
    "tags": []
   },
   "outputs": [
    {
     "data": {
      "text/html": [
       "<div>\n",
       "<style scoped>\n",
       "    .dataframe tbody tr th:only-of-type {\n",
       "        vertical-align: middle;\n",
       "    }\n",
       "\n",
       "    .dataframe tbody tr th {\n",
       "        vertical-align: top;\n",
       "    }\n",
       "\n",
       "    .dataframe thead th {\n",
       "        text-align: right;\n",
       "    }\n",
       "</style>\n",
       "<table border=\"1\" class=\"dataframe\">\n",
       "  <thead>\n",
       "    <tr style=\"text-align: right;\">\n",
       "      <th></th>\n",
       "      <th>cohort</th>\n",
       "      <th>session_dir</th>\n",
       "      <th>tone_frames</th>\n",
       "      <th>box_1_port_entry_frames</th>\n",
       "      <th>box_2_port_entry_frames</th>\n",
       "      <th>video_name</th>\n",
       "      <th>notes</th>\n",
       "      <th>session_path</th>\n",
       "      <th>recording</th>\n",
       "      <th>current_subject</th>\n",
       "      <th>...</th>\n",
       "      <th>mPFC-to-MD_granger_theta</th>\n",
       "      <th>mPFC-to-MD_granger_gamma</th>\n",
       "      <th>MD-to-vHPC_granger_theta</th>\n",
       "      <th>MD-to-vHPC_granger_gamma</th>\n",
       "      <th>vHPC-to-MD_granger_theta</th>\n",
       "      <th>vHPC-to-MD_granger_gamma</th>\n",
       "      <th>mPFC-to-vHPC_granger_theta</th>\n",
       "      <th>mPFC-to-vHPC_granger_gamma</th>\n",
       "      <th>vHPC-to-mPFC_granger_theta</th>\n",
       "      <th>vHPC-to-mPFC_granger_gamma</th>\n",
       "    </tr>\n",
       "  </thead>\n",
       "  <tbody>\n",
       "    <tr>\n",
       "      <th>0</th>\n",
       "      <td>NaN</td>\n",
       "      <td>20240320_142408_alone_comp_subj_3-1_and_3-3</td>\n",
       "      <td>[[0, 74], [1272, 1471], [3268, 3469], [4466, 4...</td>\n",
       "      <td>[[0, 74], [152, 157], [252, 305], [305, 323], ...</td>\n",
       "      <td>[[0, 74], [160, 225], [254, 257], [257, 279], ...</td>\n",
       "      <td>20240320_142408_alone_comp_subj_3-1_and_3-3.1....</td>\n",
       "      <td>NaN</td>\n",
       "      <td>/scratch/back_up/reward_competition_extention/...</td>\n",
       "      <td>20240320_142408_alone_comp_subj_3-1_t6b6_merged</td>\n",
       "      <td>3.1</td>\n",
       "      <td>...</td>\n",
       "      <td>[0.09978862, 0.0917924, 0.06545186, 0.26598245...</td>\n",
       "      <td>[0.18022239, 0.29192212, 0.1875326, 0.3189625,...</td>\n",
       "      <td>[0.1028801, 0.64942694, 0.6515044, 0.6141504, ...</td>\n",
       "      <td>[0.24379513, 0.42287427, 0.27167717, 0.3081668...</td>\n",
       "      <td>[0.1553676, 0.34767604, 0.6182264, 0.60141194,...</td>\n",
       "      <td>[0.27239832, 0.5185845, 0.3143558, 0.3351132, ...</td>\n",
       "      <td>[0.09882275, 0.22929356, 0.22830552, 0.4447759...</td>\n",
       "      <td>[0.34312424, 0.26166397, 0.3534468, 0.2589829,...</td>\n",
       "      <td>[0.20085452, 0.12860614, 0.7871779, 0.62881094...</td>\n",
       "      <td>[0.40137377, 0.32272452, 0.34111, 0.29608062, ...</td>\n",
       "    </tr>\n",
       "    <tr>\n",
       "      <th>1</th>\n",
       "      <td>NaN</td>\n",
       "      <td>20240320_142408_alone_comp_subj_3-1_and_3-3</td>\n",
       "      <td>[[0, 75], [1273, 1472], [3269, 3470], [4467, 4...</td>\n",
       "      <td>[[0, 75], [153, 158], [252, 306], [306, 324], ...</td>\n",
       "      <td>[[0, 75], [161, 226], [255, 258], [258, 280], ...</td>\n",
       "      <td>20240320_142408_alone_comp_subj_3-1_and_3-3.2....</td>\n",
       "      <td>NaN</td>\n",
       "      <td>/scratch/back_up/reward_competition_extention/...</td>\n",
       "      <td>20240320_142408_alone_comp_subj_3-1_t6b6_merged</td>\n",
       "      <td>3.1</td>\n",
       "      <td>...</td>\n",
       "      <td>[0.09978862, 0.0917924, 0.06545186, 0.26598245...</td>\n",
       "      <td>[0.18022239, 0.29192212, 0.1875326, 0.3189625,...</td>\n",
       "      <td>[0.1028801, 0.64942694, 0.6515044, 0.6141504, ...</td>\n",
       "      <td>[0.24379513, 0.42287427, 0.27167717, 0.3081668...</td>\n",
       "      <td>[0.1553676, 0.34767604, 0.6182264, 0.60141194,...</td>\n",
       "      <td>[0.27239832, 0.5185845, 0.3143558, 0.3351132, ...</td>\n",
       "      <td>[0.09882275, 0.22929356, 0.22830552, 0.4447759...</td>\n",
       "      <td>[0.34312424, 0.26166397, 0.3534468, 0.2589829,...</td>\n",
       "      <td>[0.20085452, 0.12860614, 0.7871779, 0.62881094...</td>\n",
       "      <td>[0.40137377, 0.32272452, 0.34111, 0.29608062, ...</td>\n",
       "    </tr>\n",
       "    <tr>\n",
       "      <th>2</th>\n",
       "      <td>NaN</td>\n",
       "      <td>20240320_142408_alone_comp_subj_3-1_and_3-3</td>\n",
       "      <td>[[0, 74], [1272, 1471], [3268, 3469], [4466, 4...</td>\n",
       "      <td>[[0, 74], [152, 157], [252, 305], [305, 323], ...</td>\n",
       "      <td>[[0, 74], [160, 225], [254, 257], [257, 279], ...</td>\n",
       "      <td>20240320_142408_alone_comp_subj_3-1_and_3-3.1....</td>\n",
       "      <td>NaN</td>\n",
       "      <td>/scratch/back_up/reward_competition_extention/...</td>\n",
       "      <td>20240320_142408_alone_comp_subj_3-3_t5b5_merged</td>\n",
       "      <td>3.3</td>\n",
       "      <td>...</td>\n",
       "      <td>[0.3786427, 0.10848974, 0.13087398, nan, nan, ...</td>\n",
       "      <td>[0.22951481, 0.20620021, 0.1264659, nan, nan, ...</td>\n",
       "      <td>[0.17354819, 0.62853163, 0.24569933, nan, nan,...</td>\n",
       "      <td>[0.37194476, 0.3507466, 0.10138529, nan, nan, ...</td>\n",
       "      <td>[0.20419009, 0.24417135, 0.041727543, nan, nan...</td>\n",
       "      <td>[0.34255663, 0.18434596, 0.1590514, nan, nan, ...</td>\n",
       "      <td>[0.59064376, 0.5289562, 0.105457336, nan, nan,...</td>\n",
       "      <td>[0.124310404, 0.2784533, 0.24192896, nan, nan,...</td>\n",
       "      <td>[0.1828931, 0.27666944, 0.18685448, nan, nan, ...</td>\n",
       "      <td>[0.31981283, 0.44073185, 0.2833393, nan, nan, ...</td>\n",
       "    </tr>\n",
       "    <tr>\n",
       "      <th>3</th>\n",
       "      <td>NaN</td>\n",
       "      <td>20240320_142408_alone_comp_subj_3-1_and_3-3</td>\n",
       "      <td>[[0, 75], [1273, 1472], [3269, 3470], [4467, 4...</td>\n",
       "      <td>[[0, 75], [153, 158], [252, 306], [306, 324], ...</td>\n",
       "      <td>[[0, 75], [161, 226], [255, 258], [258, 280], ...</td>\n",
       "      <td>20240320_142408_alone_comp_subj_3-1_and_3-3.2....</td>\n",
       "      <td>NaN</td>\n",
       "      <td>/scratch/back_up/reward_competition_extention/...</td>\n",
       "      <td>20240320_142408_alone_comp_subj_3-3_t5b5_merged</td>\n",
       "      <td>3.3</td>\n",
       "      <td>...</td>\n",
       "      <td>[0.3786427, 0.10848974, 0.13087398, nan, nan, ...</td>\n",
       "      <td>[0.22951481, 0.20620021, 0.1264659, nan, nan, ...</td>\n",
       "      <td>[0.17354819, 0.62853163, 0.24569933, nan, nan,...</td>\n",
       "      <td>[0.37194476, 0.3507466, 0.10138529, nan, nan, ...</td>\n",
       "      <td>[0.20419009, 0.24417135, 0.041727543, nan, nan...</td>\n",
       "      <td>[0.34255663, 0.18434596, 0.1590514, nan, nan, ...</td>\n",
       "      <td>[0.59064376, 0.5289562, 0.105457336, nan, nan,...</td>\n",
       "      <td>[0.124310404, 0.2784533, 0.24192896, nan, nan,...</td>\n",
       "      <td>[0.1828931, 0.27666944, 0.18685448, nan, nan, ...</td>\n",
       "      <td>[0.31981283, 0.44073185, 0.2833393, nan, nan, ...</td>\n",
       "    </tr>\n",
       "    <tr>\n",
       "      <th>4</th>\n",
       "      <td>NaN</td>\n",
       "      <td>20240320_171038_alone_comp_subj_4-2_and_4-3</td>\n",
       "      <td>[[0, 79], [1276, 1477], [3272, 3473], [4470, 4...</td>\n",
       "      <td>[[0, 79], [84, 92], [92, 132], [145, 175], [25...</td>\n",
       "      <td>[[0, 79], [79, 186], [188, 191], [191, 268], [...</td>\n",
       "      <td>20240320_171038_alone_comp_subj_4-2_and_4-3.1....</td>\n",
       "      <td>NaN</td>\n",
       "      <td>/scratch/back_up/reward_competition_extention/...</td>\n",
       "      <td>20240320_171038_alone_comp_subj_4-2_t6b6_merged</td>\n",
       "      <td>4.2</td>\n",
       "      <td>...</td>\n",
       "      <td>[nan, 0.1871157, 0.6151669, 0.2286364, 0.43875...</td>\n",
       "      <td>[nan, 0.27700913, 0.31921446, 0.2554613, 0.280...</td>\n",
       "      <td>[nan, 0.33909583, 0.53962207, 0.16559932, 0.31...</td>\n",
       "      <td>[nan, 0.19593565, 0.13819218, 0.08532058, 0.20...</td>\n",
       "      <td>[nan, 0.22110134, 0.652956, 0.16228491, 0.1858...</td>\n",
       "      <td>[nan, 0.25822935, 0.20194232, 0.12102669, 0.17...</td>\n",
       "      <td>[nan, 0.18940061, 0.48988643, 0.2454177, 0.300...</td>\n",
       "      <td>[nan, 0.81252044, 0.3297455, 0.17579514, 0.155...</td>\n",
       "      <td>[nan, 0.17698522, 0.4880568, 0.2828651, 0.4828...</td>\n",
       "      <td>[nan, 0.8382031, 0.26739866, 0.17282096, 0.107...</td>\n",
       "    </tr>\n",
       "  </tbody>\n",
       "</table>\n",
       "<p>5 rows × 145 columns</p>\n",
       "</div>"
      ],
      "text/plain": [
       "   cohort                                  session_dir  \\\n",
       "0     NaN  20240320_142408_alone_comp_subj_3-1_and_3-3   \n",
       "1     NaN  20240320_142408_alone_comp_subj_3-1_and_3-3   \n",
       "2     NaN  20240320_142408_alone_comp_subj_3-1_and_3-3   \n",
       "3     NaN  20240320_142408_alone_comp_subj_3-1_and_3-3   \n",
       "4     NaN  20240320_171038_alone_comp_subj_4-2_and_4-3   \n",
       "\n",
       "                                         tone_frames  \\\n",
       "0  [[0, 74], [1272, 1471], [3268, 3469], [4466, 4...   \n",
       "1  [[0, 75], [1273, 1472], [3269, 3470], [4467, 4...   \n",
       "2  [[0, 74], [1272, 1471], [3268, 3469], [4466, 4...   \n",
       "3  [[0, 75], [1273, 1472], [3269, 3470], [4467, 4...   \n",
       "4  [[0, 79], [1276, 1477], [3272, 3473], [4470, 4...   \n",
       "\n",
       "                             box_1_port_entry_frames  \\\n",
       "0  [[0, 74], [152, 157], [252, 305], [305, 323], ...   \n",
       "1  [[0, 75], [153, 158], [252, 306], [306, 324], ...   \n",
       "2  [[0, 74], [152, 157], [252, 305], [305, 323], ...   \n",
       "3  [[0, 75], [153, 158], [252, 306], [306, 324], ...   \n",
       "4  [[0, 79], [84, 92], [92, 132], [145, 175], [25...   \n",
       "\n",
       "                             box_2_port_entry_frames  \\\n",
       "0  [[0, 74], [160, 225], [254, 257], [257, 279], ...   \n",
       "1  [[0, 75], [161, 226], [255, 258], [258, 280], ...   \n",
       "2  [[0, 74], [160, 225], [254, 257], [257, 279], ...   \n",
       "3  [[0, 75], [161, 226], [255, 258], [258, 280], ...   \n",
       "4  [[0, 79], [79, 186], [188, 191], [191, 268], [...   \n",
       "\n",
       "                                          video_name notes  \\\n",
       "0  20240320_142408_alone_comp_subj_3-1_and_3-3.1....   NaN   \n",
       "1  20240320_142408_alone_comp_subj_3-1_and_3-3.2....   NaN   \n",
       "2  20240320_142408_alone_comp_subj_3-1_and_3-3.1....   NaN   \n",
       "3  20240320_142408_alone_comp_subj_3-1_and_3-3.2....   NaN   \n",
       "4  20240320_171038_alone_comp_subj_4-2_and_4-3.1....   NaN   \n",
       "\n",
       "                                        session_path  \\\n",
       "0  /scratch/back_up/reward_competition_extention/...   \n",
       "1  /scratch/back_up/reward_competition_extention/...   \n",
       "2  /scratch/back_up/reward_competition_extention/...   \n",
       "3  /scratch/back_up/reward_competition_extention/...   \n",
       "4  /scratch/back_up/reward_competition_extention/...   \n",
       "\n",
       "                                         recording current_subject  ...  \\\n",
       "0  20240320_142408_alone_comp_subj_3-1_t6b6_merged             3.1  ...   \n",
       "1  20240320_142408_alone_comp_subj_3-1_t6b6_merged             3.1  ...   \n",
       "2  20240320_142408_alone_comp_subj_3-3_t5b5_merged             3.3  ...   \n",
       "3  20240320_142408_alone_comp_subj_3-3_t5b5_merged             3.3  ...   \n",
       "4  20240320_171038_alone_comp_subj_4-2_t6b6_merged             4.2  ...   \n",
       "\n",
       "                            mPFC-to-MD_granger_theta  \\\n",
       "0  [0.09978862, 0.0917924, 0.06545186, 0.26598245...   \n",
       "1  [0.09978862, 0.0917924, 0.06545186, 0.26598245...   \n",
       "2  [0.3786427, 0.10848974, 0.13087398, nan, nan, ...   \n",
       "3  [0.3786427, 0.10848974, 0.13087398, nan, nan, ...   \n",
       "4  [nan, 0.1871157, 0.6151669, 0.2286364, 0.43875...   \n",
       "\n",
       "                            mPFC-to-MD_granger_gamma  \\\n",
       "0  [0.18022239, 0.29192212, 0.1875326, 0.3189625,...   \n",
       "1  [0.18022239, 0.29192212, 0.1875326, 0.3189625,...   \n",
       "2  [0.22951481, 0.20620021, 0.1264659, nan, nan, ...   \n",
       "3  [0.22951481, 0.20620021, 0.1264659, nan, nan, ...   \n",
       "4  [nan, 0.27700913, 0.31921446, 0.2554613, 0.280...   \n",
       "\n",
       "                            MD-to-vHPC_granger_theta  \\\n",
       "0  [0.1028801, 0.64942694, 0.6515044, 0.6141504, ...   \n",
       "1  [0.1028801, 0.64942694, 0.6515044, 0.6141504, ...   \n",
       "2  [0.17354819, 0.62853163, 0.24569933, nan, nan,...   \n",
       "3  [0.17354819, 0.62853163, 0.24569933, nan, nan,...   \n",
       "4  [nan, 0.33909583, 0.53962207, 0.16559932, 0.31...   \n",
       "\n",
       "                            MD-to-vHPC_granger_gamma  \\\n",
       "0  [0.24379513, 0.42287427, 0.27167717, 0.3081668...   \n",
       "1  [0.24379513, 0.42287427, 0.27167717, 0.3081668...   \n",
       "2  [0.37194476, 0.3507466, 0.10138529, nan, nan, ...   \n",
       "3  [0.37194476, 0.3507466, 0.10138529, nan, nan, ...   \n",
       "4  [nan, 0.19593565, 0.13819218, 0.08532058, 0.20...   \n",
       "\n",
       "                            vHPC-to-MD_granger_theta  \\\n",
       "0  [0.1553676, 0.34767604, 0.6182264, 0.60141194,...   \n",
       "1  [0.1553676, 0.34767604, 0.6182264, 0.60141194,...   \n",
       "2  [0.20419009, 0.24417135, 0.041727543, nan, nan...   \n",
       "3  [0.20419009, 0.24417135, 0.041727543, nan, nan...   \n",
       "4  [nan, 0.22110134, 0.652956, 0.16228491, 0.1858...   \n",
       "\n",
       "                            vHPC-to-MD_granger_gamma  \\\n",
       "0  [0.27239832, 0.5185845, 0.3143558, 0.3351132, ...   \n",
       "1  [0.27239832, 0.5185845, 0.3143558, 0.3351132, ...   \n",
       "2  [0.34255663, 0.18434596, 0.1590514, nan, nan, ...   \n",
       "3  [0.34255663, 0.18434596, 0.1590514, nan, nan, ...   \n",
       "4  [nan, 0.25822935, 0.20194232, 0.12102669, 0.17...   \n",
       "\n",
       "                          mPFC-to-vHPC_granger_theta  \\\n",
       "0  [0.09882275, 0.22929356, 0.22830552, 0.4447759...   \n",
       "1  [0.09882275, 0.22929356, 0.22830552, 0.4447759...   \n",
       "2  [0.59064376, 0.5289562, 0.105457336, nan, nan,...   \n",
       "3  [0.59064376, 0.5289562, 0.105457336, nan, nan,...   \n",
       "4  [nan, 0.18940061, 0.48988643, 0.2454177, 0.300...   \n",
       "\n",
       "                          mPFC-to-vHPC_granger_gamma  \\\n",
       "0  [0.34312424, 0.26166397, 0.3534468, 0.2589829,...   \n",
       "1  [0.34312424, 0.26166397, 0.3534468, 0.2589829,...   \n",
       "2  [0.124310404, 0.2784533, 0.24192896, nan, nan,...   \n",
       "3  [0.124310404, 0.2784533, 0.24192896, nan, nan,...   \n",
       "4  [nan, 0.81252044, 0.3297455, 0.17579514, 0.155...   \n",
       "\n",
       "                          vHPC-to-mPFC_granger_theta  \\\n",
       "0  [0.20085452, 0.12860614, 0.7871779, 0.62881094...   \n",
       "1  [0.20085452, 0.12860614, 0.7871779, 0.62881094...   \n",
       "2  [0.1828931, 0.27666944, 0.18685448, nan, nan, ...   \n",
       "3  [0.1828931, 0.27666944, 0.18685448, nan, nan, ...   \n",
       "4  [nan, 0.17698522, 0.4880568, 0.2828651, 0.4828...   \n",
       "\n",
       "                          vHPC-to-mPFC_granger_gamma  \n",
       "0  [0.40137377, 0.32272452, 0.34111, 0.29608062, ...  \n",
       "1  [0.40137377, 0.32272452, 0.34111, 0.29608062, ...  \n",
       "2  [0.31981283, 0.44073185, 0.2833393, nan, nan, ...  \n",
       "3  [0.31981283, 0.44073185, 0.2833393, nan, nan, ...  \n",
       "4  [nan, 0.8382031, 0.26739866, 0.17282096, 0.107...  \n",
       "\n",
       "[5 rows x 145 columns]"
      ]
     },
     "execution_count": 45,
     "metadata": {},
     "output_type": "execute_result"
    }
   ],
   "source": [
    "LFP_SPECTRAL_DF.head()"
   ]
  },
  {
   "cell_type": "markdown",
   "metadata": {},
   "source": [
    "- Filtering theta/gamma for power"
   ]
  },
  {
   "cell_type": "code",
   "execution_count": 46,
   "metadata": {
    "tags": []
   },
   "outputs": [],
   "source": [
    "power_columns = [col for col in LFP_SPECTRAL_DF.columns if \"power\" in col and \"calculation\" not in col and \"time\" not in col]"
   ]
  },
  {
   "cell_type": "code",
   "execution_count": 47,
   "metadata": {
    "tags": []
   },
   "outputs": [
    {
     "data": {
      "text/plain": [
       "['vHPC_RMS_filtered_power_all_frequencies_all_windows',\n",
       " 'BLA_RMS_filtered_power_all_frequencies_all_windows',\n",
       " 'LH_RMS_filtered_power_all_frequencies_all_windows',\n",
       " 'MD_RMS_filtered_power_all_frequencies_all_windows',\n",
       " 'mPFC_RMS_filtered_power_all_frequencies_all_windows']"
      ]
     },
     "execution_count": 47,
     "metadata": {},
     "output_type": "execute_result"
    }
   ],
   "source": [
    "power_columns"
   ]
  },
  {
   "cell_type": "code",
   "execution_count": 48,
   "metadata": {
    "tags": []
   },
   "outputs": [
    {
     "data": {
      "text/plain": [
       "array([False, False, False, False,  True,  True,  True,  True,  True,\n",
       "        True,  True,  True,  True, False, False, False, False, False,\n",
       "       False, False, False, False, False, False, False, False, False,\n",
       "       False, False, False, False, False, False, False, False, False,\n",
       "       False, False, False, False, False, False, False, False, False,\n",
       "       False, False, False, False, False, False, False, False, False,\n",
       "       False, False])"
      ]
     },
     "execution_count": 48,
     "metadata": {},
     "output_type": "execute_result"
    }
   ],
   "source": [
    "LFP_SPECTRAL_DF[\"power_calculation_frequencies\"].apply(lambda x: (x >= theta_band[0]) & (x <= theta_band[1])).iloc[0]"
   ]
  },
  {
   "cell_type": "code",
   "execution_count": 49,
   "metadata": {
    "tags": []
   },
   "outputs": [
    {
     "name": "stdout",
     "output_type": "stream",
     "text": [
      "vHPC_RMS_filtered\n",
      "BLA_RMS_filtered\n",
      "LH_RMS_filtered\n",
      "MD_RMS_filtered\n",
      "mPFC_RMS_filtered\n"
     ]
    }
   ],
   "source": [
    "for col in power_columns:\n",
    "    # brain_region_name = col.split(\"_\")[0]\n",
    "    brain_region_name = col.split(\"power\")[0]\n",
    "    brain_region_name = brain_region_name.strip(\"_\")\n",
    "    print(brain_region_name)\n",
    "    theta_power_col = \"{}_power_theta\".format(brain_region_name)\n",
    "    gamma_power_col = \"{}_power_gamma\".format(brain_region_name)\n",
    "    LFP_SPECTRAL_DF[\"{}\".format(theta_power_col)] = LFP_SPECTRAL_DF.apply(lambda x: np.nanmean(x[col][:, (x[\"power_calculation_frequencies\"] >= theta_band[0]) & (x[\"power_calculation_frequencies\"] <= theta_band[1])], axis=1), axis=1)\n",
    "    LFP_SPECTRAL_DF[\"{}\".format(gamma_power_col)] = LFP_SPECTRAL_DF.apply(lambda x: np.nanmean(x[col][:, (x[\"power_calculation_frequencies\"] >= gamma_band[0]) & (x[\"power_calculation_frequencies\"] <= gamma_band[1])], axis=1), axis=1)"
   ]
  },
  {
   "cell_type": "code",
   "execution_count": 50,
   "metadata": {
    "tags": []
   },
   "outputs": [
    {
     "data": {
      "text/html": [
       "<div>\n",
       "<style scoped>\n",
       "    .dataframe tbody tr th:only-of-type {\n",
       "        vertical-align: middle;\n",
       "    }\n",
       "\n",
       "    .dataframe tbody tr th {\n",
       "        vertical-align: top;\n",
       "    }\n",
       "\n",
       "    .dataframe thead th {\n",
       "        text-align: right;\n",
       "    }\n",
       "</style>\n",
       "<table border=\"1\" class=\"dataframe\">\n",
       "  <thead>\n",
       "    <tr style=\"text-align: right;\">\n",
       "      <th></th>\n",
       "      <th>cohort</th>\n",
       "      <th>session_dir</th>\n",
       "      <th>tone_frames</th>\n",
       "      <th>box_1_port_entry_frames</th>\n",
       "      <th>box_2_port_entry_frames</th>\n",
       "      <th>video_name</th>\n",
       "      <th>notes</th>\n",
       "      <th>session_path</th>\n",
       "      <th>recording</th>\n",
       "      <th>current_subject</th>\n",
       "      <th>...</th>\n",
       "      <th>vHPC_RMS_filtered_power_theta</th>\n",
       "      <th>vHPC_RMS_filtered_power_gamma</th>\n",
       "      <th>BLA_RMS_filtered_power_theta</th>\n",
       "      <th>BLA_RMS_filtered_power_gamma</th>\n",
       "      <th>LH_RMS_filtered_power_theta</th>\n",
       "      <th>LH_RMS_filtered_power_gamma</th>\n",
       "      <th>MD_RMS_filtered_power_theta</th>\n",
       "      <th>MD_RMS_filtered_power_gamma</th>\n",
       "      <th>mPFC_RMS_filtered_power_theta</th>\n",
       "      <th>mPFC_RMS_filtered_power_gamma</th>\n",
       "    </tr>\n",
       "  </thead>\n",
       "  <tbody>\n",
       "    <tr>\n",
       "      <th>0</th>\n",
       "      <td>NaN</td>\n",
       "      <td>20240320_142408_alone_comp_subj_3-1_and_3-3</td>\n",
       "      <td>[[0, 74], [1272, 1471], [3268, 3469], [4466, 4...</td>\n",
       "      <td>[[0, 74], [152, 157], [252, 305], [305, 323], ...</td>\n",
       "      <td>[[0, 74], [160, 225], [254, 257], [257, 279], ...</td>\n",
       "      <td>20240320_142408_alone_comp_subj_3-1_and_3-3.1....</td>\n",
       "      <td>NaN</td>\n",
       "      <td>/scratch/back_up/reward_competition_extention/...</td>\n",
       "      <td>20240320_142408_alone_comp_subj_3-1_t6b6_merged</td>\n",
       "      <td>3.1</td>\n",
       "      <td>...</td>\n",
       "      <td>[0.014285023, 0.022181146, 0.044097915, 0.0591...</td>\n",
       "      <td>[0.0017202137, 0.0012658514, 0.0011930467, 0.0...</td>\n",
       "      <td>[0.015456602, 0.025747435, 0.034084156, 0.0321...</td>\n",
       "      <td>[0.0023020238, 0.0016523497, 0.0015088222, 0.0...</td>\n",
       "      <td>[0.016193103, 0.025915565, 0.03433929, 0.03140...</td>\n",
       "      <td>[0.0018237891, 0.001400824, 0.001404246, 0.001...</td>\n",
       "      <td>[0.01444151, 0.02424808, 0.031674195, 0.028802...</td>\n",
       "      <td>[0.0024518063, 0.0018558174, 0.0014195474, 0.0...</td>\n",
       "      <td>[0.016354451, 0.025327114, 0.028878175, 0.0222...</td>\n",
       "      <td>[0.00209533, 0.0015905038, 0.0014053435, 0.001...</td>\n",
       "    </tr>\n",
       "    <tr>\n",
       "      <th>1</th>\n",
       "      <td>NaN</td>\n",
       "      <td>20240320_142408_alone_comp_subj_3-1_and_3-3</td>\n",
       "      <td>[[0, 75], [1273, 1472], [3269, 3470], [4467, 4...</td>\n",
       "      <td>[[0, 75], [153, 158], [252, 306], [306, 324], ...</td>\n",
       "      <td>[[0, 75], [161, 226], [255, 258], [258, 280], ...</td>\n",
       "      <td>20240320_142408_alone_comp_subj_3-1_and_3-3.2....</td>\n",
       "      <td>NaN</td>\n",
       "      <td>/scratch/back_up/reward_competition_extention/...</td>\n",
       "      <td>20240320_142408_alone_comp_subj_3-1_t6b6_merged</td>\n",
       "      <td>3.1</td>\n",
       "      <td>...</td>\n",
       "      <td>[0.014285023, 0.022181146, 0.044097915, 0.0591...</td>\n",
       "      <td>[0.0017202137, 0.0012658514, 0.0011930467, 0.0...</td>\n",
       "      <td>[0.015456602, 0.025747435, 0.034084156, 0.0321...</td>\n",
       "      <td>[0.0023020238, 0.0016523497, 0.0015088222, 0.0...</td>\n",
       "      <td>[0.016193103, 0.025915565, 0.03433929, 0.03140...</td>\n",
       "      <td>[0.0018237891, 0.001400824, 0.001404246, 0.001...</td>\n",
       "      <td>[0.01444151, 0.02424808, 0.031674195, 0.028802...</td>\n",
       "      <td>[0.0024518063, 0.0018558174, 0.0014195474, 0.0...</td>\n",
       "      <td>[0.016354451, 0.025327114, 0.028878175, 0.0222...</td>\n",
       "      <td>[0.00209533, 0.0015905038, 0.0014053435, 0.001...</td>\n",
       "    </tr>\n",
       "    <tr>\n",
       "      <th>2</th>\n",
       "      <td>NaN</td>\n",
       "      <td>20240320_142408_alone_comp_subj_3-1_and_3-3</td>\n",
       "      <td>[[0, 74], [1272, 1471], [3268, 3469], [4466, 4...</td>\n",
       "      <td>[[0, 74], [152, 157], [252, 305], [305, 323], ...</td>\n",
       "      <td>[[0, 74], [160, 225], [254, 257], [257, 279], ...</td>\n",
       "      <td>20240320_142408_alone_comp_subj_3-1_and_3-3.1....</td>\n",
       "      <td>NaN</td>\n",
       "      <td>/scratch/back_up/reward_competition_extention/...</td>\n",
       "      <td>20240320_142408_alone_comp_subj_3-3_t5b5_merged</td>\n",
       "      <td>3.3</td>\n",
       "      <td>...</td>\n",
       "      <td>[0.021758892, 0.030758785, 0.024464468, nan, n...</td>\n",
       "      <td>[0.0007876017, 0.0012533057, 0.0011539572, nan...</td>\n",
       "      <td>[0.022868399, 0.03210648, 0.025050245, nan, na...</td>\n",
       "      <td>[0.0007347132, 0.0011532403, 0.0011211544, nan...</td>\n",
       "      <td>[0.022456143, 0.031618252, 0.025473533, nan, n...</td>\n",
       "      <td>[0.00077316794, 0.0012196691, 0.0011400171, na...</td>\n",
       "      <td>[0.023196202, 0.032333095, 0.025302932, nan, n...</td>\n",
       "      <td>[0.0007058642, 0.0011378538, 0.001115803, nan,...</td>\n",
       "      <td>[0.021055607, 0.030588005, 0.023756983, nan, n...</td>\n",
       "      <td>[0.0008363458, 0.001157422, 0.0010688329, nan,...</td>\n",
       "    </tr>\n",
       "    <tr>\n",
       "      <th>3</th>\n",
       "      <td>NaN</td>\n",
       "      <td>20240320_142408_alone_comp_subj_3-1_and_3-3</td>\n",
       "      <td>[[0, 75], [1273, 1472], [3269, 3470], [4467, 4...</td>\n",
       "      <td>[[0, 75], [153, 158], [252, 306], [306, 324], ...</td>\n",
       "      <td>[[0, 75], [161, 226], [255, 258], [258, 280], ...</td>\n",
       "      <td>20240320_142408_alone_comp_subj_3-1_and_3-3.2....</td>\n",
       "      <td>NaN</td>\n",
       "      <td>/scratch/back_up/reward_competition_extention/...</td>\n",
       "      <td>20240320_142408_alone_comp_subj_3-3_t5b5_merged</td>\n",
       "      <td>3.3</td>\n",
       "      <td>...</td>\n",
       "      <td>[0.021758892, 0.030758785, 0.024464468, nan, n...</td>\n",
       "      <td>[0.0007876017, 0.0012533057, 0.0011539572, nan...</td>\n",
       "      <td>[0.022868399, 0.03210648, 0.025050245, nan, na...</td>\n",
       "      <td>[0.0007347132, 0.0011532403, 0.0011211544, nan...</td>\n",
       "      <td>[0.022456143, 0.031618252, 0.025473533, nan, n...</td>\n",
       "      <td>[0.00077316794, 0.0012196691, 0.0011400171, na...</td>\n",
       "      <td>[0.023196202, 0.032333095, 0.025302932, nan, n...</td>\n",
       "      <td>[0.0007058642, 0.0011378538, 0.001115803, nan,...</td>\n",
       "      <td>[0.021055607, 0.030588005, 0.023756983, nan, n...</td>\n",
       "      <td>[0.0008363458, 0.001157422, 0.0010688329, nan,...</td>\n",
       "    </tr>\n",
       "    <tr>\n",
       "      <th>4</th>\n",
       "      <td>NaN</td>\n",
       "      <td>20240320_171038_alone_comp_subj_4-2_and_4-3</td>\n",
       "      <td>[[0, 79], [1276, 1477], [3272, 3473], [4470, 4...</td>\n",
       "      <td>[[0, 79], [84, 92], [92, 132], [145, 175], [25...</td>\n",
       "      <td>[[0, 79], [79, 186], [188, 191], [191, 268], [...</td>\n",
       "      <td>20240320_171038_alone_comp_subj_4-2_and_4-3.1....</td>\n",
       "      <td>NaN</td>\n",
       "      <td>/scratch/back_up/reward_competition_extention/...</td>\n",
       "      <td>20240320_171038_alone_comp_subj_4-2_t6b6_merged</td>\n",
       "      <td>4.2</td>\n",
       "      <td>...</td>\n",
       "      <td>[nan, 0.029861301, 0.033973657, 0.05462378, 0....</td>\n",
       "      <td>[nan, 0.0015774673, 0.0016509024, 0.001697123,...</td>\n",
       "      <td>[nan, 0.03286716, 0.039887715, 0.062551185, 0....</td>\n",
       "      <td>[nan, 0.0015874342, 0.0014698216, 0.0013966789...</td>\n",
       "      <td>[nan, 0.030759402, 0.037941046, 0.057817955, 0...</td>\n",
       "      <td>[nan, 0.0015480762, 0.0013578442, 0.0013411792...</td>\n",
       "      <td>[nan, 0.029725261, 0.03812604, 0.056733567, 0....</td>\n",
       "      <td>[nan, 0.0015221424, 0.0014563424, 0.0014623193...</td>\n",
       "      <td>[nan, 0.028878195, 0.0361402, 0.056812976, 0.0...</td>\n",
       "      <td>[nan, 0.0015049445, 0.0015290054, 0.0016440556...</td>\n",
       "    </tr>\n",
       "  </tbody>\n",
       "</table>\n",
       "<p>5 rows × 155 columns</p>\n",
       "</div>"
      ],
      "text/plain": [
       "   cohort                                  session_dir  \\\n",
       "0     NaN  20240320_142408_alone_comp_subj_3-1_and_3-3   \n",
       "1     NaN  20240320_142408_alone_comp_subj_3-1_and_3-3   \n",
       "2     NaN  20240320_142408_alone_comp_subj_3-1_and_3-3   \n",
       "3     NaN  20240320_142408_alone_comp_subj_3-1_and_3-3   \n",
       "4     NaN  20240320_171038_alone_comp_subj_4-2_and_4-3   \n",
       "\n",
       "                                         tone_frames  \\\n",
       "0  [[0, 74], [1272, 1471], [3268, 3469], [4466, 4...   \n",
       "1  [[0, 75], [1273, 1472], [3269, 3470], [4467, 4...   \n",
       "2  [[0, 74], [1272, 1471], [3268, 3469], [4466, 4...   \n",
       "3  [[0, 75], [1273, 1472], [3269, 3470], [4467, 4...   \n",
       "4  [[0, 79], [1276, 1477], [3272, 3473], [4470, 4...   \n",
       "\n",
       "                             box_1_port_entry_frames  \\\n",
       "0  [[0, 74], [152, 157], [252, 305], [305, 323], ...   \n",
       "1  [[0, 75], [153, 158], [252, 306], [306, 324], ...   \n",
       "2  [[0, 74], [152, 157], [252, 305], [305, 323], ...   \n",
       "3  [[0, 75], [153, 158], [252, 306], [306, 324], ...   \n",
       "4  [[0, 79], [84, 92], [92, 132], [145, 175], [25...   \n",
       "\n",
       "                             box_2_port_entry_frames  \\\n",
       "0  [[0, 74], [160, 225], [254, 257], [257, 279], ...   \n",
       "1  [[0, 75], [161, 226], [255, 258], [258, 280], ...   \n",
       "2  [[0, 74], [160, 225], [254, 257], [257, 279], ...   \n",
       "3  [[0, 75], [161, 226], [255, 258], [258, 280], ...   \n",
       "4  [[0, 79], [79, 186], [188, 191], [191, 268], [...   \n",
       "\n",
       "                                          video_name notes  \\\n",
       "0  20240320_142408_alone_comp_subj_3-1_and_3-3.1....   NaN   \n",
       "1  20240320_142408_alone_comp_subj_3-1_and_3-3.2....   NaN   \n",
       "2  20240320_142408_alone_comp_subj_3-1_and_3-3.1....   NaN   \n",
       "3  20240320_142408_alone_comp_subj_3-1_and_3-3.2....   NaN   \n",
       "4  20240320_171038_alone_comp_subj_4-2_and_4-3.1....   NaN   \n",
       "\n",
       "                                        session_path  \\\n",
       "0  /scratch/back_up/reward_competition_extention/...   \n",
       "1  /scratch/back_up/reward_competition_extention/...   \n",
       "2  /scratch/back_up/reward_competition_extention/...   \n",
       "3  /scratch/back_up/reward_competition_extention/...   \n",
       "4  /scratch/back_up/reward_competition_extention/...   \n",
       "\n",
       "                                         recording current_subject  ...  \\\n",
       "0  20240320_142408_alone_comp_subj_3-1_t6b6_merged             3.1  ...   \n",
       "1  20240320_142408_alone_comp_subj_3-1_t6b6_merged             3.1  ...   \n",
       "2  20240320_142408_alone_comp_subj_3-3_t5b5_merged             3.3  ...   \n",
       "3  20240320_142408_alone_comp_subj_3-3_t5b5_merged             3.3  ...   \n",
       "4  20240320_171038_alone_comp_subj_4-2_t6b6_merged             4.2  ...   \n",
       "\n",
       "                       vHPC_RMS_filtered_power_theta  \\\n",
       "0  [0.014285023, 0.022181146, 0.044097915, 0.0591...   \n",
       "1  [0.014285023, 0.022181146, 0.044097915, 0.0591...   \n",
       "2  [0.021758892, 0.030758785, 0.024464468, nan, n...   \n",
       "3  [0.021758892, 0.030758785, 0.024464468, nan, n...   \n",
       "4  [nan, 0.029861301, 0.033973657, 0.05462378, 0....   \n",
       "\n",
       "                       vHPC_RMS_filtered_power_gamma  \\\n",
       "0  [0.0017202137, 0.0012658514, 0.0011930467, 0.0...   \n",
       "1  [0.0017202137, 0.0012658514, 0.0011930467, 0.0...   \n",
       "2  [0.0007876017, 0.0012533057, 0.0011539572, nan...   \n",
       "3  [0.0007876017, 0.0012533057, 0.0011539572, nan...   \n",
       "4  [nan, 0.0015774673, 0.0016509024, 0.001697123,...   \n",
       "\n",
       "                        BLA_RMS_filtered_power_theta  \\\n",
       "0  [0.015456602, 0.025747435, 0.034084156, 0.0321...   \n",
       "1  [0.015456602, 0.025747435, 0.034084156, 0.0321...   \n",
       "2  [0.022868399, 0.03210648, 0.025050245, nan, na...   \n",
       "3  [0.022868399, 0.03210648, 0.025050245, nan, na...   \n",
       "4  [nan, 0.03286716, 0.039887715, 0.062551185, 0....   \n",
       "\n",
       "                        BLA_RMS_filtered_power_gamma  \\\n",
       "0  [0.0023020238, 0.0016523497, 0.0015088222, 0.0...   \n",
       "1  [0.0023020238, 0.0016523497, 0.0015088222, 0.0...   \n",
       "2  [0.0007347132, 0.0011532403, 0.0011211544, nan...   \n",
       "3  [0.0007347132, 0.0011532403, 0.0011211544, nan...   \n",
       "4  [nan, 0.0015874342, 0.0014698216, 0.0013966789...   \n",
       "\n",
       "                         LH_RMS_filtered_power_theta  \\\n",
       "0  [0.016193103, 0.025915565, 0.03433929, 0.03140...   \n",
       "1  [0.016193103, 0.025915565, 0.03433929, 0.03140...   \n",
       "2  [0.022456143, 0.031618252, 0.025473533, nan, n...   \n",
       "3  [0.022456143, 0.031618252, 0.025473533, nan, n...   \n",
       "4  [nan, 0.030759402, 0.037941046, 0.057817955, 0...   \n",
       "\n",
       "                         LH_RMS_filtered_power_gamma  \\\n",
       "0  [0.0018237891, 0.001400824, 0.001404246, 0.001...   \n",
       "1  [0.0018237891, 0.001400824, 0.001404246, 0.001...   \n",
       "2  [0.00077316794, 0.0012196691, 0.0011400171, na...   \n",
       "3  [0.00077316794, 0.0012196691, 0.0011400171, na...   \n",
       "4  [nan, 0.0015480762, 0.0013578442, 0.0013411792...   \n",
       "\n",
       "                         MD_RMS_filtered_power_theta  \\\n",
       "0  [0.01444151, 0.02424808, 0.031674195, 0.028802...   \n",
       "1  [0.01444151, 0.02424808, 0.031674195, 0.028802...   \n",
       "2  [0.023196202, 0.032333095, 0.025302932, nan, n...   \n",
       "3  [0.023196202, 0.032333095, 0.025302932, nan, n...   \n",
       "4  [nan, 0.029725261, 0.03812604, 0.056733567, 0....   \n",
       "\n",
       "                         MD_RMS_filtered_power_gamma  \\\n",
       "0  [0.0024518063, 0.0018558174, 0.0014195474, 0.0...   \n",
       "1  [0.0024518063, 0.0018558174, 0.0014195474, 0.0...   \n",
       "2  [0.0007058642, 0.0011378538, 0.001115803, nan,...   \n",
       "3  [0.0007058642, 0.0011378538, 0.001115803, nan,...   \n",
       "4  [nan, 0.0015221424, 0.0014563424, 0.0014623193...   \n",
       "\n",
       "                       mPFC_RMS_filtered_power_theta  \\\n",
       "0  [0.016354451, 0.025327114, 0.028878175, 0.0222...   \n",
       "1  [0.016354451, 0.025327114, 0.028878175, 0.0222...   \n",
       "2  [0.021055607, 0.030588005, 0.023756983, nan, n...   \n",
       "3  [0.021055607, 0.030588005, 0.023756983, nan, n...   \n",
       "4  [nan, 0.028878195, 0.0361402, 0.056812976, 0.0...   \n",
       "\n",
       "                       mPFC_RMS_filtered_power_gamma  \n",
       "0  [0.00209533, 0.0015905038, 0.0014053435, 0.001...  \n",
       "1  [0.00209533, 0.0015905038, 0.0014053435, 0.001...  \n",
       "2  [0.0008363458, 0.001157422, 0.0010688329, nan,...  \n",
       "3  [0.0008363458, 0.001157422, 0.0010688329, nan,...  \n",
       "4  [nan, 0.0015049445, 0.0015290054, 0.0016440556...  \n",
       "\n",
       "[5 rows x 155 columns]"
      ]
     },
     "execution_count": 50,
     "metadata": {},
     "output_type": "execute_result"
    }
   ],
   "source": [
    "LFP_SPECTRAL_DF.head()"
   ]
  },
  {
   "cell_type": "code",
   "execution_count": 51,
   "metadata": {
    "tags": []
   },
   "outputs": [],
   "source": [
    "LFP_SPECTRAL_DF.to_pickle(os.path.join(OUTPUT_DIR, FULL_LFP_TRACES_PKL))"
   ]
  },
  {
   "cell_type": "code",
   "execution_count": 52,
   "metadata": {
    "tags": []
   },
   "outputs": [
    {
     "name": "stdout",
     "output_type": "stream",
     "text": [
      "cohort\n",
      "session_dir\n",
      "tone_frames\n",
      "box_1_port_entry_frames\n",
      "box_2_port_entry_frames\n",
      "video_name\n",
      "notes\n",
      "session_path\n",
      "recording\n",
      "current_subject\n",
      "subject\n",
      "all_subjects\n",
      "first_timestamp\n",
      "last_timestamp\n",
      "video_timestamps\n",
      "tone_timestamps\n",
      "box_1_port_entry_timestamps\n",
      "box_2_port_entry_timestamps\n",
      "lfp_timestamps\n",
      "vHPC_lfp_trace\n",
      "BLA_lfp_trace\n",
      "LH_lfp_trace\n",
      "MD_lfp_trace\n",
      "mPFC_lfp_trace\n",
      "vHPC_RMS_filtered_power_all_frequencies_all_windows\n",
      "BLA_RMS_filtered_power_all_frequencies_all_windows\n",
      "LH_RMS_filtered_power_all_frequencies_all_windows\n",
      "MD_RMS_filtered_power_all_frequencies_all_windows\n",
      "mPFC_RMS_filtered_power_all_frequencies_all_windows\n",
      "power_timestamps\n",
      "power_calculation_frequencies\n",
      "vHPC_theta_band\n",
      "BLA_theta_band\n",
      "LH_theta_band\n",
      "MD_theta_band\n",
      "mPFC_theta_band\n",
      "vHPC_gamma_band\n",
      "BLA_gamma_band\n",
      "LH_gamma_band\n",
      "MD_gamma_band\n",
      "mPFC_gamma_band\n",
      "vHPC_theta_phase\n",
      "BLA_theta_phase\n",
      "LH_theta_phase\n",
      "MD_theta_phase\n",
      "mPFC_theta_phase\n",
      "vHPC_gamma_phase\n",
      "BLA_gamma_phase\n",
      "LH_gamma_phase\n",
      "MD_gamma_phase\n",
      "mPFC_gamma_phase\n",
      "BLA_LH_coherence_all_frequencies_all_windows\n",
      "BLA_MD_coherence_all_frequencies_all_windows\n",
      "BLA_mPFC_coherence_all_frequencies_all_windows\n",
      "BLA_vHPC_coherence_all_frequencies_all_windows\n",
      "LH_MD_coherence_all_frequencies_all_windows\n",
      "LH_mPFC_coherence_all_frequencies_all_windows\n",
      "LH_vHPC_coherence_all_frequencies_all_windows\n",
      "MD_mPFC_coherence_all_frequencies_all_windows\n",
      "MD_vHPC_coherence_all_frequencies_all_windows\n",
      "mPFC_vHPC_coherence_all_frequencies_all_windows\n",
      "coherence_timestamps\n",
      "coherence_calculation_frequencies\n",
      "BLA_LH_granger_all_frequencies_all_windows\n",
      "LH_BLA_granger_all_frequencies_all_windows\n",
      "BLA_MD_granger_all_frequencies_all_windows\n",
      "MD_BLA_granger_all_frequencies_all_windows\n",
      "BLA_mPFC_granger_all_frequencies_all_windows\n",
      "mPFC_BLA_granger_all_frequencies_all_windows\n",
      "BLA_vHPC_granger_all_frequencies_all_windows\n",
      "vHPC_BLA_granger_all_frequencies_all_windows\n",
      "LH_MD_granger_all_frequencies_all_windows\n",
      "MD_LH_granger_all_frequencies_all_windows\n",
      "LH_mPFC_granger_all_frequencies_all_windows\n",
      "mPFC_LH_granger_all_frequencies_all_windows\n",
      "LH_vHPC_granger_all_frequencies_all_windows\n",
      "vHPC_LH_granger_all_frequencies_all_windows\n",
      "MD_mPFC_granger_all_frequencies_all_windows\n",
      "mPFC_MD_granger_all_frequencies_all_windows\n",
      "MD_vHPC_granger_all_frequencies_all_windows\n",
      "vHPC_MD_granger_all_frequencies_all_windows\n",
      "mPFC_vHPC_granger_all_frequencies_all_windows\n",
      "vHPC_mPFC_granger_all_frequencies_all_windows\n",
      "granger_timestamps\n",
      "granger_calculation_frequencies\n",
      "BLA_LH_coherence_theta\n",
      "BLA_LH_coherence_gamma\n",
      "BLA_MD_coherence_theta\n",
      "BLA_MD_coherence_gamma\n",
      "BLA_mPFC_coherence_theta\n",
      "BLA_mPFC_coherence_gamma\n",
      "BLA_vHPC_coherence_theta\n",
      "BLA_vHPC_coherence_gamma\n",
      "LH_MD_coherence_theta\n",
      "LH_MD_coherence_gamma\n",
      "LH_mPFC_coherence_theta\n",
      "LH_mPFC_coherence_gamma\n",
      "LH_vHPC_coherence_theta\n",
      "LH_vHPC_coherence_gamma\n",
      "MD_mPFC_coherence_theta\n",
      "MD_mPFC_coherence_gamma\n",
      "MD_vHPC_coherence_theta\n",
      "MD_vHPC_coherence_gamma\n",
      "mPFC_vHPC_coherence_theta\n",
      "mPFC_vHPC_coherence_gamma\n",
      "BLA-to-LH_granger_theta\n",
      "BLA-to-LH_granger_gamma\n",
      "LH-to-BLA_granger_theta\n",
      "LH-to-BLA_granger_gamma\n",
      "BLA-to-MD_granger_theta\n",
      "BLA-to-MD_granger_gamma\n",
      "MD-to-BLA_granger_theta\n",
      "MD-to-BLA_granger_gamma\n",
      "BLA-to-mPFC_granger_theta\n",
      "BLA-to-mPFC_granger_gamma\n",
      "mPFC-to-BLA_granger_theta\n",
      "mPFC-to-BLA_granger_gamma\n",
      "BLA-to-vHPC_granger_theta\n",
      "BLA-to-vHPC_granger_gamma\n",
      "vHPC-to-BLA_granger_theta\n",
      "vHPC-to-BLA_granger_gamma\n",
      "LH-to-MD_granger_theta\n",
      "LH-to-MD_granger_gamma\n",
      "MD-to-LH_granger_theta\n",
      "MD-to-LH_granger_gamma\n",
      "LH-to-mPFC_granger_theta\n",
      "LH-to-mPFC_granger_gamma\n",
      "mPFC-to-LH_granger_theta\n",
      "mPFC-to-LH_granger_gamma\n",
      "LH-to-vHPC_granger_theta\n",
      "LH-to-vHPC_granger_gamma\n",
      "vHPC-to-LH_granger_theta\n",
      "vHPC-to-LH_granger_gamma\n",
      "MD-to-mPFC_granger_theta\n",
      "MD-to-mPFC_granger_gamma\n",
      "mPFC-to-MD_granger_theta\n",
      "mPFC-to-MD_granger_gamma\n",
      "MD-to-vHPC_granger_theta\n",
      "MD-to-vHPC_granger_gamma\n",
      "vHPC-to-MD_granger_theta\n",
      "vHPC-to-MD_granger_gamma\n",
      "mPFC-to-vHPC_granger_theta\n",
      "mPFC-to-vHPC_granger_gamma\n",
      "vHPC-to-mPFC_granger_theta\n",
      "vHPC-to-mPFC_granger_gamma\n",
      "vHPC_RMS_filtered_power_theta\n",
      "vHPC_RMS_filtered_power_gamma\n",
      "BLA_RMS_filtered_power_theta\n",
      "BLA_RMS_filtered_power_gamma\n",
      "LH_RMS_filtered_power_theta\n",
      "LH_RMS_filtered_power_gamma\n",
      "MD_RMS_filtered_power_theta\n",
      "MD_RMS_filtered_power_gamma\n",
      "mPFC_RMS_filtered_power_theta\n",
      "mPFC_RMS_filtered_power_gamma\n"
     ]
    }
   ],
   "source": [
    "for col in LFP_SPECTRAL_DF.columns:\n",
    "    print(col)"
   ]
  },
  {
   "cell_type": "code",
   "execution_count": 53,
   "metadata": {
    "tags": []
   },
   "outputs": [
    {
     "ename": "ValueError",
     "evalue": "",
     "output_type": "error",
     "traceback": [
      "\u001b[0;31m---------------------------------------------------------------------------\u001b[0m",
      "\u001b[0;31mValueError\u001b[0m                                Traceback (most recent call last)",
      "Cell \u001b[0;32mIn[53], line 1\u001b[0m\n\u001b[0;32m----> 1\u001b[0m \u001b[38;5;28;01mraise\u001b[39;00m \u001b[38;5;167;01mValueError\u001b[39;00m()\n",
      "\u001b[0;31mValueError\u001b[0m: "
     ]
    }
   ],
   "source": [
    "raise ValueError()"
   ]
  },
  {
   "cell_type": "code",
   "execution_count": null,
   "metadata": {},
   "outputs": [],
   "source": []
  }
 ],
 "metadata": {
  "deepnote": {},
  "deepnote_execution_queue": [],
  "deepnote_notebook_id": "cf8fe3695d074ee7887fdf6459cbf5ce",
  "kernelspec": {
   "display_name": "spike_interface_0_100_8",
   "language": "python",
   "name": "spike_interface_0_100_8"
  },
  "language_info": {
   "codemirror_mode": {
    "name": "ipython",
    "version": 3
   },
   "file_extension": ".py",
   "mimetype": "text/x-python",
   "name": "python",
   "nbconvert_exporter": "python",
   "pygments_lexer": "ipython3",
   "version": "3.10.14"
  }
 },
 "nbformat": 4,
 "nbformat_minor": 4
}
