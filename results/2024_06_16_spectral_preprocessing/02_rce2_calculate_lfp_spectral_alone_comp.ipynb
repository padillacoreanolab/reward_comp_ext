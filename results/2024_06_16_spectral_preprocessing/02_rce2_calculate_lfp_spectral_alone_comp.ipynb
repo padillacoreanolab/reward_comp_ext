{
 "cells": [
  {
   "cell_type": "markdown",
   "metadata": {
    "cell_id": "c3a02adc9e884466bc8c79db549cc3d2",
    "deepnote_cell_type": "text-cell-h1",
    "formattedRanges": [
     {
      "fromCodePoint": 0,
      "marks": {
       "bold": true,
       "underline": true
      },
      "toCodePoint": 17,
      "type": "marks"
     }
    ]
   },
   "source": [
    "# All oscillation analysis"
   ]
  },
  {
   "cell_type": "markdown",
   "metadata": {
    "cell_id": "4546bee655b14a5dbf393161f1228e60",
    "deepnote_cell_type": "text-cell-p",
    "formattedRanges": []
   },
   "source": [
    "Brief 1-2 sentence description of notebook."
   ]
  },
  {
   "cell_type": "code",
   "execution_count": 1,
   "metadata": {
    "tags": []
   },
   "outputs": [],
   "source": [
    "import warnings\n",
    "warnings.filterwarnings('ignore')"
   ]
  },
  {
   "cell_type": "code",
   "execution_count": 2,
   "metadata": {
    "tags": []
   },
   "outputs": [],
   "source": [
    "import os\n",
    "import collections\n",
    "import itertools\n",
    "from collections import defaultdict\n",
    "from itertools import combinations"
   ]
  },
  {
   "cell_type": "code",
   "execution_count": 3,
   "metadata": {
    "tags": []
   },
   "outputs": [],
   "source": [
    "os.environ[\"SPECTRAL_CONNECTIVITY_ENABLE_GPU\"] = \"true\"\n",
    "import cupy as cp"
   ]
  },
  {
   "cell_type": "code",
   "execution_count": 4,
   "metadata": {
    "cell_id": "03b495cefa6a4798a44c7f2e4c6a3ea7",
    "deepnote_cell_type": "code",
    "deepnote_to_be_reexecuted": false,
    "execution_millis": 21,
    "execution_start": 1691424003626,
    "source_hash": null,
    "tags": []
   },
   "outputs": [],
   "source": [
    "# Imports of all used packages and libraries\n",
    "import numpy as np\n",
    "import pandas as pd\n",
    "from scipy import stats\n",
    "from scipy.stats import mannwhitneyu\n"
   ]
  },
  {
   "cell_type": "code",
   "execution_count": 5,
   "metadata": {
    "tags": []
   },
   "outputs": [],
   "source": [
    "import matplotlib\n",
    "import matplotlib.colors as mcolors\n",
    "import matplotlib.pyplot as plt\n",
    "import matplotlib.cm as cm\n",
    "import seaborn as sns\n",
    "import colorsys"
   ]
  },
  {
   "cell_type": "code",
   "execution_count": 6,
   "metadata": {
    "tags": []
   },
   "outputs": [],
   "source": [
    "from sklearn.metrics import confusion_matrix"
   ]
  },
  {
   "cell_type": "code",
   "execution_count": 7,
   "metadata": {
    "tags": []
   },
   "outputs": [],
   "source": [
    "from spectral_connectivity import Multitaper, Connectivity\n",
    "import spectral_connectivity"
   ]
  },
  {
   "cell_type": "code",
   "execution_count": 8,
   "metadata": {
    "tags": []
   },
   "outputs": [],
   "source": [
    "FONTSIZE = 20"
   ]
  },
  {
   "cell_type": "code",
   "execution_count": 9,
   "metadata": {
    "tags": []
   },
   "outputs": [],
   "source": [
    "font = {'weight' : 'medium',\n",
    "        'size'   : 20}\n",
    "\n",
    "matplotlib.rc('font', **font)"
   ]
  },
  {
   "cell_type": "markdown",
   "metadata": {},
   "source": [
    "# Functions"
   ]
  },
  {
   "cell_type": "code",
   "execution_count": 10,
   "metadata": {
    "tags": []
   },
   "outputs": [],
   "source": [
    "def generate_pairs(lst):\n",
    "    \"\"\"\n",
    "    Generates all unique pairs from a list.\n",
    "\n",
    "    Parameters:\n",
    "    - lst (list): The list to generate pairs from.\n",
    "\n",
    "    Returns:\n",
    "    - list: A list of tuples, each containing a unique pair from the input list.\n",
    "    \"\"\"\n",
    "    n = len(lst)\n",
    "    return [(lst[i], lst[j]) for i in range(n) for j in range(i+1, n)]"
   ]
  },
  {
   "cell_type": "code",
   "execution_count": 11,
   "metadata": {
    "tags": []
   },
   "outputs": [],
   "source": [
    "def update_array_by_mask(array, mask, value=np.nan):\n",
    "    \"\"\"\n",
    "    \"\"\"\n",
    "    result = array.copy()\n",
    "    result[mask] = value\n",
    "    return result"
   ]
  },
  {
   "cell_type": "markdown",
   "metadata": {
    "cell_id": "d290bac2c17940bfbc0f9296beaf70e5",
    "deepnote_cell_type": "text-cell-h2",
    "formattedRanges": []
   },
   "source": [
    "## Inputs & Data"
   ]
  },
  {
   "cell_type": "markdown",
   "metadata": {
    "cell_id": "e528ce19c608425292151930d380f49f",
    "deepnote_cell_type": "text-cell-p",
    "formattedRanges": []
   },
   "source": [
    "Explanation of each input and where it comes from."
   ]
  },
  {
   "cell_type": "code",
   "execution_count": 12,
   "metadata": {
    "cell_id": "6cf83a5811054461a718a71673d09aab",
    "deepnote_cell_type": "code",
    "deepnote_to_be_reexecuted": false,
    "execution_millis": 373,
    "execution_start": 1691424003628,
    "source_hash": null,
    "tags": []
   },
   "outputs": [],
   "source": [
    "# Inputs and Required data loading\n",
    "# input varaible names are in all caps snake case\n",
    "# Whenever an input changes or is used for processing \n",
    "# the vairables are all lower in snake case\n",
    "OUTPUT_DIR = r\"./proc\" # where data is saved should always be shown in the inputs"
   ]
  },
  {
   "cell_type": "code",
   "execution_count": 13,
   "metadata": {
    "tags": []
   },
   "outputs": [],
   "source": [
    "TIME_HALFBANDWIDTH_PRODUCT = 2\n",
    "TIME_WINDOW_DURATION = 1\n",
    "TIME_WINDOW_STEP = 0.5\n",
    "RESAMPLE_RATE=1000"
   ]
  },
  {
   "cell_type": "code",
   "execution_count": 14,
   "metadata": {
    "tags": []
   },
   "outputs": [],
   "source": [
    "zscore_threshold = 4\n",
    "VOLTAGE_SCALING_VALUE = 0.195"
   ]
  },
  {
   "cell_type": "code",
   "execution_count": 15,
   "metadata": {
    "tags": []
   },
   "outputs": [],
   "source": [
    "BAND_TO_FREQ = {\"theta\": (4,12), \"gamma\": (30,51)}"
   ]
  },
  {
   "cell_type": "code",
   "execution_count": 16,
   "metadata": {},
   "outputs": [],
   "source": [
    "OUTPUT_PREFIX = \"rce_pilot_3_alone_comp\""
   ]
  },
  {
   "cell_type": "code",
   "execution_count": 17,
   "metadata": {
    "tags": []
   },
   "outputs": [],
   "source": [
    "LFP_TRACES_DF = pd.read_pickle(\"./proc/{}_01_lfp_traces_and_frames.pkl\".format(OUTPUT_PREFIX))"
   ]
  },
  {
   "cell_type": "code",
   "execution_count": 18,
   "metadata": {
    "tags": []
   },
   "outputs": [
    {
     "data": {
      "text/plain": [
       "(28, 24)"
      ]
     },
     "execution_count": 18,
     "metadata": {},
     "output_type": "execute_result"
    }
   ],
   "source": [
    "LFP_TRACES_DF.shape"
   ]
  },
  {
   "cell_type": "markdown",
   "metadata": {},
   "source": [
    "## Preprocessing"
   ]
  },
  {
   "cell_type": "code",
   "execution_count": 19,
   "metadata": {
    "tags": []
   },
   "outputs": [],
   "source": [
    "original_trace_columns = [col for col in LFP_TRACES_DF.columns if \"trace\" in col]"
   ]
  },
  {
   "cell_type": "code",
   "execution_count": 20,
   "metadata": {
    "tags": []
   },
   "outputs": [
    {
     "data": {
      "text/plain": [
       "['vHPC_lfp_trace',\n",
       " 'BLA_lfp_trace',\n",
       " 'LH_lfp_trace',\n",
       " 'MD_lfp_trace',\n",
       " 'mPFC_lfp_trace']"
      ]
     },
     "execution_count": 20,
     "metadata": {},
     "output_type": "execute_result"
    }
   ],
   "source": [
    "original_trace_columns"
   ]
  },
  {
   "cell_type": "code",
   "execution_count": 21,
   "metadata": {
    "tags": []
   },
   "outputs": [
    {
     "name": "stdout",
     "output_type": "stream",
     "text": [
      "vHPC_lfp_trace\n",
      "BLA_lfp_trace\n",
      "LH_lfp_trace\n",
      "MD_lfp_trace\n",
      "mPFC_lfp_trace\n"
     ]
    }
   ],
   "source": [
    "for col in original_trace_columns:\n",
    "    print(col)\n",
    "    LFP_TRACES_DF[col] = LFP_TRACES_DF[col].apply(lambda x: x.astype(np.float32) * VOLTAGE_SCALING_VALUE)"
   ]
  },
  {
   "cell_type": "code",
   "execution_count": 22,
   "metadata": {
    "tags": []
   },
   "outputs": [
    {
     "data": {
      "text/html": [
       "<div>\n",
       "<style scoped>\n",
       "    .dataframe tbody tr th:only-of-type {\n",
       "        vertical-align: middle;\n",
       "    }\n",
       "\n",
       "    .dataframe tbody tr th {\n",
       "        vertical-align: top;\n",
       "    }\n",
       "\n",
       "    .dataframe thead th {\n",
       "        text-align: right;\n",
       "    }\n",
       "</style>\n",
       "<table border=\"1\" class=\"dataframe\">\n",
       "  <thead>\n",
       "    <tr style=\"text-align: right;\">\n",
       "      <th></th>\n",
       "      <th>cohort</th>\n",
       "      <th>session_dir</th>\n",
       "      <th>tone_frames</th>\n",
       "      <th>box_1_port_entry_frames</th>\n",
       "      <th>box_2_port_entry_frames</th>\n",
       "      <th>video_name</th>\n",
       "      <th>notes</th>\n",
       "      <th>session_path</th>\n",
       "      <th>recording</th>\n",
       "      <th>current_subject</th>\n",
       "      <th>...</th>\n",
       "      <th>video_timestamps</th>\n",
       "      <th>tone_timestamps</th>\n",
       "      <th>box_1_port_entry_timestamps</th>\n",
       "      <th>box_2_port_entry_timestamps</th>\n",
       "      <th>lfp_timestamps</th>\n",
       "      <th>vHPC_lfp_trace</th>\n",
       "      <th>BLA_lfp_trace</th>\n",
       "      <th>LH_lfp_trace</th>\n",
       "      <th>MD_lfp_trace</th>\n",
       "      <th>mPFC_lfp_trace</th>\n",
       "    </tr>\n",
       "  </thead>\n",
       "  <tbody>\n",
       "    <tr>\n",
       "      <th>0</th>\n",
       "      <td>NaN</td>\n",
       "      <td>20240320_142408_alone_comp_subj_3-1_and_3-3</td>\n",
       "      <td>[[0, 74], [1272, 1471], [3268, 3469], [4466, 4...</td>\n",
       "      <td>[[0, 74], [152, 157], [252, 305], [305, 323], ...</td>\n",
       "      <td>[[0, 74], [160, 225], [254, 257], [257, 279], ...</td>\n",
       "      <td>20240320_142408_alone_comp_subj_3-1_and_3-3.1....</td>\n",
       "      <td>NaN</td>\n",
       "      <td>/scratch/back_up/reward_competition_extention/...</td>\n",
       "      <td>20240320_142408_alone_comp_subj_3-1_t6b6_merged</td>\n",
       "      <td>3.1</td>\n",
       "      <td>...</td>\n",
       "      <td>[1384, 2770, 4156, 4156, 5542, 6928, 6928, 831...</td>\n",
       "      <td>[[0, 75474], [1275889, 1475891], [3275911, 347...</td>\n",
       "      <td>[[0, 75474], [153075, 158874], [252873, 306276...</td>\n",
       "      <td>[[0, 75474], [162074, 226073], [255076, 258076...</td>\n",
       "      <td>[0, 20, 40, 60, 80, 100, 120, 140, 160, 180, 2...</td>\n",
       "      <td>[75.465, 134.355, 124.799995, 63.374996, 101.5...</td>\n",
       "      <td>[62.01, 111.149994, 97.5, 50.114998, 96.524994...</td>\n",
       "      <td>[62.204998, 108.615, 94.575, 44.07, 83.85, 94....</td>\n",
       "      <td>[64.35, 99.255, 82.875, 49.92, 98.67, 102.765,...</td>\n",
       "      <td>[72.735, 125.189995, 118.56, 86.774994, 139.62...</td>\n",
       "    </tr>\n",
       "    <tr>\n",
       "      <th>1</th>\n",
       "      <td>NaN</td>\n",
       "      <td>20240320_142408_alone_comp_subj_3-1_and_3-3</td>\n",
       "      <td>[[0, 75], [1273, 1472], [3269, 3470], [4467, 4...</td>\n",
       "      <td>[[0, 75], [153, 158], [252, 306], [306, 324], ...</td>\n",
       "      <td>[[0, 75], [161, 226], [255, 258], [258, 280], ...</td>\n",
       "      <td>20240320_142408_alone_comp_subj_3-1_and_3-3.2....</td>\n",
       "      <td>NaN</td>\n",
       "      <td>/scratch/back_up/reward_competition_extention/...</td>\n",
       "      <td>20240320_142408_alone_comp_subj_3-1_t6b6_merged</td>\n",
       "      <td>3.1</td>\n",
       "      <td>...</td>\n",
       "      <td>[1332, 1384, 2770, 4156, 5267, 5542, 6928, 831...</td>\n",
       "      <td>[[0, 75474], [1275889, 1475891], [3275911, 347...</td>\n",
       "      <td>[[0, 75474], [153075, 158874], [252873, 306276...</td>\n",
       "      <td>[[0, 75474], [162074, 226073], [255076, 258076...</td>\n",
       "      <td>[0, 20, 40, 60, 80, 100, 120, 140, 160, 180, 2...</td>\n",
       "      <td>[75.465, 134.355, 124.799995, 63.374996, 101.5...</td>\n",
       "      <td>[62.01, 111.149994, 97.5, 50.114998, 96.524994...</td>\n",
       "      <td>[62.204998, 108.615, 94.575, 44.07, 83.85, 94....</td>\n",
       "      <td>[64.35, 99.255, 82.875, 49.92, 98.67, 102.765,...</td>\n",
       "      <td>[72.735, 125.189995, 118.56, 86.774994, 139.62...</td>\n",
       "    </tr>\n",
       "    <tr>\n",
       "      <th>2</th>\n",
       "      <td>NaN</td>\n",
       "      <td>20240320_142408_alone_comp_subj_3-1_and_3-3</td>\n",
       "      <td>[[0, 74], [1272, 1471], [3268, 3469], [4466, 4...</td>\n",
       "      <td>[[0, 74], [152, 157], [252, 305], [305, 323], ...</td>\n",
       "      <td>[[0, 74], [160, 225], [254, 257], [257, 279], ...</td>\n",
       "      <td>20240320_142408_alone_comp_subj_3-1_and_3-3.1....</td>\n",
       "      <td>NaN</td>\n",
       "      <td>/scratch/back_up/reward_competition_extention/...</td>\n",
       "      <td>20240320_142408_alone_comp_subj_3-3_t5b5_merged</td>\n",
       "      <td>3.3</td>\n",
       "      <td>...</td>\n",
       "      <td>[1384, 2770, 4156, 4156, 5542, 6928, 6928, 831...</td>\n",
       "      <td>[[0, 75474], [1275889, 1475891], [3275911, 347...</td>\n",
       "      <td>[[0, 75474], [153075, 158874], [252873, 306276...</td>\n",
       "      <td>[[0, 75474], [162074, 226073], [255076, 258076...</td>\n",
       "      <td>[0, 20, 40, 60, 80, 100, 120, 140, 160, 180, 2...</td>\n",
       "      <td>[-20.474998, -4.68, 21.644999, 28.079998, 23.7...</td>\n",
       "      <td>[13.844999, 53.82, 88.53, 85.409996, 96.91499,...</td>\n",
       "      <td>[0.0, 28.47, 67.079994, 70.784996, 70.784996, ...</td>\n",
       "      <td>[3.3149998, 38.805, 69.03, 67.47, 81.704994, 1...</td>\n",
       "      <td>[-38.805, -20.085, 2.73, 11.309999, 28.47, 64....</td>\n",
       "    </tr>\n",
       "    <tr>\n",
       "      <th>3</th>\n",
       "      <td>NaN</td>\n",
       "      <td>20240320_142408_alone_comp_subj_3-1_and_3-3</td>\n",
       "      <td>[[0, 75], [1273, 1472], [3269, 3470], [4467, 4...</td>\n",
       "      <td>[[0, 75], [153, 158], [252, 306], [306, 324], ...</td>\n",
       "      <td>[[0, 75], [161, 226], [255, 258], [258, 280], ...</td>\n",
       "      <td>20240320_142408_alone_comp_subj_3-1_and_3-3.2....</td>\n",
       "      <td>NaN</td>\n",
       "      <td>/scratch/back_up/reward_competition_extention/...</td>\n",
       "      <td>20240320_142408_alone_comp_subj_3-3_t5b5_merged</td>\n",
       "      <td>3.3</td>\n",
       "      <td>...</td>\n",
       "      <td>[1332, 1384, 2770, 4156, 5267, 5542, 6928, 831...</td>\n",
       "      <td>[[0, 75474], [1275889, 1475891], [3275911, 347...</td>\n",
       "      <td>[[0, 75474], [153075, 158874], [252873, 306276...</td>\n",
       "      <td>[[0, 75474], [162074, 226073], [255076, 258076...</td>\n",
       "      <td>[0, 20, 40, 60, 80, 100, 120, 140, 160, 180, 2...</td>\n",
       "      <td>[-20.474998, -4.68, 21.644999, 28.079998, 23.7...</td>\n",
       "      <td>[13.844999, 53.82, 88.53, 85.409996, 96.91499,...</td>\n",
       "      <td>[0.0, 28.47, 67.079994, 70.784996, 70.784996, ...</td>\n",
       "      <td>[3.3149998, 38.805, 69.03, 67.47, 81.704994, 1...</td>\n",
       "      <td>[-38.805, -20.085, 2.73, 11.309999, 28.47, 64....</td>\n",
       "    </tr>\n",
       "    <tr>\n",
       "      <th>4</th>\n",
       "      <td>NaN</td>\n",
       "      <td>20240320_171038_alone_comp_subj_4-2_and_4-3</td>\n",
       "      <td>[[0, 79], [1276, 1477], [3272, 3473], [4470, 4...</td>\n",
       "      <td>[[0, 79], [84, 92], [92, 132], [145, 175], [25...</td>\n",
       "      <td>[[0, 79], [79, 186], [188, 191], [191, 268], [...</td>\n",
       "      <td>20240320_171038_alone_comp_subj_4-2_and_4-3.1....</td>\n",
       "      <td>NaN</td>\n",
       "      <td>/scratch/back_up/reward_competition_extention/...</td>\n",
       "      <td>20240320_171038_alone_comp_subj_4-2_t6b6_merged</td>\n",
       "      <td>4.2</td>\n",
       "      <td>...</td>\n",
       "      <td>[1384, 2770, 4156, 4156, 5541, 6927, 6927, 831...</td>\n",
       "      <td>[[0, 79744], [1280158, 1480161], [3280184, 348...</td>\n",
       "      <td>[[0, 79744], [85741, 92941], [93544, 134344], ...</td>\n",
       "      <td>[[0, 79744], [80141, 188142], [188942, 191545]...</td>\n",
       "      <td>[0, 20, 40, 60, 80, 100, 120, 140, 160, 180, 2...</td>\n",
       "      <td>[-8.384999, -70.005, -99.645, -99.45, -157.56,...</td>\n",
       "      <td>[-11.115, -77.024994, -109.005, -96.91499, -13...</td>\n",
       "      <td>[-21.255, -83.07, -112.515, -100.229996, -145....</td>\n",
       "      <td>[7.41, -51.089996, -80.729996, -73.515, -127.9...</td>\n",
       "      <td>[0.78, -46.8, -69.81, -72.735, -126.74999, -16...</td>\n",
       "    </tr>\n",
       "  </tbody>\n",
       "</table>\n",
       "<p>5 rows × 24 columns</p>\n",
       "</div>"
      ],
      "text/plain": [
       "   cohort                                  session_dir  \\\n",
       "0     NaN  20240320_142408_alone_comp_subj_3-1_and_3-3   \n",
       "1     NaN  20240320_142408_alone_comp_subj_3-1_and_3-3   \n",
       "2     NaN  20240320_142408_alone_comp_subj_3-1_and_3-3   \n",
       "3     NaN  20240320_142408_alone_comp_subj_3-1_and_3-3   \n",
       "4     NaN  20240320_171038_alone_comp_subj_4-2_and_4-3   \n",
       "\n",
       "                                         tone_frames  \\\n",
       "0  [[0, 74], [1272, 1471], [3268, 3469], [4466, 4...   \n",
       "1  [[0, 75], [1273, 1472], [3269, 3470], [4467, 4...   \n",
       "2  [[0, 74], [1272, 1471], [3268, 3469], [4466, 4...   \n",
       "3  [[0, 75], [1273, 1472], [3269, 3470], [4467, 4...   \n",
       "4  [[0, 79], [1276, 1477], [3272, 3473], [4470, 4...   \n",
       "\n",
       "                             box_1_port_entry_frames  \\\n",
       "0  [[0, 74], [152, 157], [252, 305], [305, 323], ...   \n",
       "1  [[0, 75], [153, 158], [252, 306], [306, 324], ...   \n",
       "2  [[0, 74], [152, 157], [252, 305], [305, 323], ...   \n",
       "3  [[0, 75], [153, 158], [252, 306], [306, 324], ...   \n",
       "4  [[0, 79], [84, 92], [92, 132], [145, 175], [25...   \n",
       "\n",
       "                             box_2_port_entry_frames  \\\n",
       "0  [[0, 74], [160, 225], [254, 257], [257, 279], ...   \n",
       "1  [[0, 75], [161, 226], [255, 258], [258, 280], ...   \n",
       "2  [[0, 74], [160, 225], [254, 257], [257, 279], ...   \n",
       "3  [[0, 75], [161, 226], [255, 258], [258, 280], ...   \n",
       "4  [[0, 79], [79, 186], [188, 191], [191, 268], [...   \n",
       "\n",
       "                                          video_name notes  \\\n",
       "0  20240320_142408_alone_comp_subj_3-1_and_3-3.1....   NaN   \n",
       "1  20240320_142408_alone_comp_subj_3-1_and_3-3.2....   NaN   \n",
       "2  20240320_142408_alone_comp_subj_3-1_and_3-3.1....   NaN   \n",
       "3  20240320_142408_alone_comp_subj_3-1_and_3-3.2....   NaN   \n",
       "4  20240320_171038_alone_comp_subj_4-2_and_4-3.1....   NaN   \n",
       "\n",
       "                                        session_path  \\\n",
       "0  /scratch/back_up/reward_competition_extention/...   \n",
       "1  /scratch/back_up/reward_competition_extention/...   \n",
       "2  /scratch/back_up/reward_competition_extention/...   \n",
       "3  /scratch/back_up/reward_competition_extention/...   \n",
       "4  /scratch/back_up/reward_competition_extention/...   \n",
       "\n",
       "                                         recording current_subject  ...  \\\n",
       "0  20240320_142408_alone_comp_subj_3-1_t6b6_merged             3.1  ...   \n",
       "1  20240320_142408_alone_comp_subj_3-1_t6b6_merged             3.1  ...   \n",
       "2  20240320_142408_alone_comp_subj_3-3_t5b5_merged             3.3  ...   \n",
       "3  20240320_142408_alone_comp_subj_3-3_t5b5_merged             3.3  ...   \n",
       "4  20240320_171038_alone_comp_subj_4-2_t6b6_merged             4.2  ...   \n",
       "\n",
       "                                    video_timestamps  \\\n",
       "0  [1384, 2770, 4156, 4156, 5542, 6928, 6928, 831...   \n",
       "1  [1332, 1384, 2770, 4156, 5267, 5542, 6928, 831...   \n",
       "2  [1384, 2770, 4156, 4156, 5542, 6928, 6928, 831...   \n",
       "3  [1332, 1384, 2770, 4156, 5267, 5542, 6928, 831...   \n",
       "4  [1384, 2770, 4156, 4156, 5541, 6927, 6927, 831...   \n",
       "\n",
       "                                     tone_timestamps  \\\n",
       "0  [[0, 75474], [1275889, 1475891], [3275911, 347...   \n",
       "1  [[0, 75474], [1275889, 1475891], [3275911, 347...   \n",
       "2  [[0, 75474], [1275889, 1475891], [3275911, 347...   \n",
       "3  [[0, 75474], [1275889, 1475891], [3275911, 347...   \n",
       "4  [[0, 79744], [1280158, 1480161], [3280184, 348...   \n",
       "\n",
       "                         box_1_port_entry_timestamps  \\\n",
       "0  [[0, 75474], [153075, 158874], [252873, 306276...   \n",
       "1  [[0, 75474], [153075, 158874], [252873, 306276...   \n",
       "2  [[0, 75474], [153075, 158874], [252873, 306276...   \n",
       "3  [[0, 75474], [153075, 158874], [252873, 306276...   \n",
       "4  [[0, 79744], [85741, 92941], [93544, 134344], ...   \n",
       "\n",
       "                         box_2_port_entry_timestamps  \\\n",
       "0  [[0, 75474], [162074, 226073], [255076, 258076...   \n",
       "1  [[0, 75474], [162074, 226073], [255076, 258076...   \n",
       "2  [[0, 75474], [162074, 226073], [255076, 258076...   \n",
       "3  [[0, 75474], [162074, 226073], [255076, 258076...   \n",
       "4  [[0, 79744], [80141, 188142], [188942, 191545]...   \n",
       "\n",
       "                                      lfp_timestamps  \\\n",
       "0  [0, 20, 40, 60, 80, 100, 120, 140, 160, 180, 2...   \n",
       "1  [0, 20, 40, 60, 80, 100, 120, 140, 160, 180, 2...   \n",
       "2  [0, 20, 40, 60, 80, 100, 120, 140, 160, 180, 2...   \n",
       "3  [0, 20, 40, 60, 80, 100, 120, 140, 160, 180, 2...   \n",
       "4  [0, 20, 40, 60, 80, 100, 120, 140, 160, 180, 2...   \n",
       "\n",
       "                                      vHPC_lfp_trace  \\\n",
       "0  [75.465, 134.355, 124.799995, 63.374996, 101.5...   \n",
       "1  [75.465, 134.355, 124.799995, 63.374996, 101.5...   \n",
       "2  [-20.474998, -4.68, 21.644999, 28.079998, 23.7...   \n",
       "3  [-20.474998, -4.68, 21.644999, 28.079998, 23.7...   \n",
       "4  [-8.384999, -70.005, -99.645, -99.45, -157.56,...   \n",
       "\n",
       "                                       BLA_lfp_trace  \\\n",
       "0  [62.01, 111.149994, 97.5, 50.114998, 96.524994...   \n",
       "1  [62.01, 111.149994, 97.5, 50.114998, 96.524994...   \n",
       "2  [13.844999, 53.82, 88.53, 85.409996, 96.91499,...   \n",
       "3  [13.844999, 53.82, 88.53, 85.409996, 96.91499,...   \n",
       "4  [-11.115, -77.024994, -109.005, -96.91499, -13...   \n",
       "\n",
       "                                        LH_lfp_trace  \\\n",
       "0  [62.204998, 108.615, 94.575, 44.07, 83.85, 94....   \n",
       "1  [62.204998, 108.615, 94.575, 44.07, 83.85, 94....   \n",
       "2  [0.0, 28.47, 67.079994, 70.784996, 70.784996, ...   \n",
       "3  [0.0, 28.47, 67.079994, 70.784996, 70.784996, ...   \n",
       "4  [-21.255, -83.07, -112.515, -100.229996, -145....   \n",
       "\n",
       "                                        MD_lfp_trace  \\\n",
       "0  [64.35, 99.255, 82.875, 49.92, 98.67, 102.765,...   \n",
       "1  [64.35, 99.255, 82.875, 49.92, 98.67, 102.765,...   \n",
       "2  [3.3149998, 38.805, 69.03, 67.47, 81.704994, 1...   \n",
       "3  [3.3149998, 38.805, 69.03, 67.47, 81.704994, 1...   \n",
       "4  [7.41, -51.089996, -80.729996, -73.515, -127.9...   \n",
       "\n",
       "                                      mPFC_lfp_trace  \n",
       "0  [72.735, 125.189995, 118.56, 86.774994, 139.62...  \n",
       "1  [72.735, 125.189995, 118.56, 86.774994, 139.62...  \n",
       "2  [-38.805, -20.085, 2.73, 11.309999, 28.47, 64....  \n",
       "3  [-38.805, -20.085, 2.73, 11.309999, 28.47, 64....  \n",
       "4  [0.78, -46.8, -69.81, -72.735, -126.74999, -16...  \n",
       "\n",
       "[5 rows x 24 columns]"
      ]
     },
     "execution_count": 22,
     "metadata": {},
     "output_type": "execute_result"
    }
   ],
   "source": [
    "LFP_TRACES_DF.head()"
   ]
  },
  {
   "cell_type": "markdown",
   "metadata": {},
   "source": [
    "# Calculating modified zscore"
   ]
  },
  {
   "cell_type": "markdown",
   "metadata": {},
   "source": [
    "`0.6745(xi – x̃) / MAD`"
   ]
  },
  {
   "cell_type": "code",
   "execution_count": 23,
   "metadata": {},
   "outputs": [
    {
     "name": "stdout",
     "output_type": "stream",
     "text": [
      "vHPC_lfp_trace\n",
      "BLA_lfp_trace\n",
      "LH_lfp_trace\n",
      "MD_lfp_trace\n",
      "mPFC_lfp_trace\n"
     ]
    }
   ],
   "source": [
    "for col in original_trace_columns:\n",
    "    print(col)\n",
    "    brain_region = col.split(\"_\")[0]\n",
    "    updated_column = \"{}_lfp_MAD\".format(brain_region)\n",
    "    LFP_TRACES_DF[updated_column] = LFP_TRACES_DF[col].apply(lambda x: stats.median_abs_deviation(x))"
   ]
  },
  {
   "cell_type": "code",
   "execution_count": 24,
   "metadata": {},
   "outputs": [
    {
     "name": "stdout",
     "output_type": "stream",
     "text": [
      "vHPC_lfp_trace\n",
      "BLA_lfp_trace\n",
      "LH_lfp_trace\n",
      "MD_lfp_trace\n",
      "mPFC_lfp_trace\n"
     ]
    }
   ],
   "source": [
    "for col in original_trace_columns:\n",
    "    print(col)\n",
    "    brain_region = col.split(\"_\")[0]\n",
    "    updated_column = \"{}_lfp_modified_zscore\".format(brain_region)\n",
    "    MAD_column = \"{}_lfp_MAD\".format(brain_region)\n",
    "\n",
    "    LFP_TRACES_DF[updated_column] = LFP_TRACES_DF.apply(lambda x: 0.6745 * (x[col] - np.median(x[col])) / x[MAD_column], axis=1)"
   ]
  },
  {
   "cell_type": "code",
   "execution_count": 25,
   "metadata": {},
   "outputs": [
    {
     "data": {
      "text/plain": [
       "0     [0.74413866, 1.2793614, 1.2117124, 0.88739526,...\n",
       "1     [0.74413866, 1.2793614, 1.2117124, 0.88739526,...\n",
       "2     [-0.2906841, -0.15521966, 0.009877616, 0.07196...\n",
       "3     [-0.2906841, -0.15521966, 0.009877616, 0.07196...\n",
       "4     [0.024630615, -0.43766713, -0.66123736, -0.689...\n",
       "5     [0.024630615, -0.43766713, -0.66123736, -0.689...\n",
       "6     [0.14578532, 0.297402, -0.1399539, -0.56370324...\n",
       "7     [0.14578532, 0.297402, -0.1399539, -0.56370324...\n",
       "8     [-0.3882878, 0.09206825, 0.15211275, -0.506375...\n",
       "9     [-0.3882878, 0.09206825, 0.15211275, -0.506375...\n",
       "10    [-0.5509115, -0.8881615, 0.029326085, 0.804372...\n",
       "11    [-0.5509115, -0.8881615, 0.029326085, 0.804372...\n",
       "12    [-0.6099, -0.80939996, -0.6707, -0.39139998, -...\n",
       "13    [-0.6099, -0.80939996, -0.6707, -0.39139998, -...\n",
       "14    [-0.60751194, -0.5821027, -0.3257003, -0.02078...\n",
       "15    [-0.60751194, -0.5821027, -0.3257003, -0.02078...\n",
       "16    [-1.3656029, -1.3822061, -0.97958153, -0.36526...\n",
       "17    [-1.3656029, -1.3822061, -0.97958153, -0.36526...\n",
       "18    [-0.4158208, -0.5705448, -0.69142294, -0.79537...\n",
       "19    [-0.4158208, -0.5705448, -0.69142294, -0.79537...\n",
       "20    [0.33921072, -0.009803778, -0.18823254, 0.0274...\n",
       "21    [0.33921072, -0.009803778, -0.18823254, 0.0274...\n",
       "22    [-0.17471987, -0.09142318, -0.052822284, -0.06...\n",
       "23    [-0.17471987, -0.09142318, -0.052822284, -0.06...\n",
       "24    [-0.1341111, -0.065083325, 0.055222213, 0.2504...\n",
       "25    [-0.1341111, -0.065083325, 0.055222213, 0.2504...\n",
       "26    [0.035104092, 0.022566916, -0.22566913, -0.524...\n",
       "27    [0.035104092, 0.022566916, -0.22566913, -0.524...\n",
       "Name: mPFC_lfp_modified_zscore, dtype: object"
      ]
     },
     "execution_count": 25,
     "metadata": {},
     "output_type": "execute_result"
    }
   ],
   "source": [
    "LFP_TRACES_DF[updated_column]"
   ]
  },
  {
   "cell_type": "markdown",
   "metadata": {},
   "source": [
    "## calculating root mean sequare"
   ]
  },
  {
   "cell_type": "code",
   "execution_count": 26,
   "metadata": {
    "tags": []
   },
   "outputs": [
    {
     "name": "stdout",
     "output_type": "stream",
     "text": [
      "vHPC_lfp_trace\n",
      "BLA_lfp_trace\n",
      "LH_lfp_trace\n",
      "MD_lfp_trace\n",
      "mPFC_lfp_trace\n"
     ]
    }
   ],
   "source": [
    "for col in original_trace_columns:\n",
    "    print(col)\n",
    "    brain_region = col.split(\"_\")[0]\n",
    "    updated_column = \"{}_lfp_RMS\".format(brain_region)\n",
    "    LFP_TRACES_DF[updated_column] = LFP_TRACES_DF[col].apply(lambda x: (x / np.sqrt(np.mean(x**2))).astype(np.float32))\n"
   ]
  },
  {
   "cell_type": "code",
   "execution_count": 27,
   "metadata": {
    "tags": []
   },
   "outputs": [
    {
     "data": {
      "text/html": [
       "<div>\n",
       "<style scoped>\n",
       "    .dataframe tbody tr th:only-of-type {\n",
       "        vertical-align: middle;\n",
       "    }\n",
       "\n",
       "    .dataframe tbody tr th {\n",
       "        vertical-align: top;\n",
       "    }\n",
       "\n",
       "    .dataframe thead th {\n",
       "        text-align: right;\n",
       "    }\n",
       "</style>\n",
       "<table border=\"1\" class=\"dataframe\">\n",
       "  <thead>\n",
       "    <tr style=\"text-align: right;\">\n",
       "      <th></th>\n",
       "      <th>cohort</th>\n",
       "      <th>session_dir</th>\n",
       "      <th>tone_frames</th>\n",
       "      <th>box_1_port_entry_frames</th>\n",
       "      <th>box_2_port_entry_frames</th>\n",
       "      <th>video_name</th>\n",
       "      <th>notes</th>\n",
       "      <th>session_path</th>\n",
       "      <th>recording</th>\n",
       "      <th>current_subject</th>\n",
       "      <th>...</th>\n",
       "      <th>vHPC_lfp_modified_zscore</th>\n",
       "      <th>BLA_lfp_modified_zscore</th>\n",
       "      <th>LH_lfp_modified_zscore</th>\n",
       "      <th>MD_lfp_modified_zscore</th>\n",
       "      <th>mPFC_lfp_modified_zscore</th>\n",
       "      <th>vHPC_lfp_RMS</th>\n",
       "      <th>BLA_lfp_RMS</th>\n",
       "      <th>LH_lfp_RMS</th>\n",
       "      <th>MD_lfp_RMS</th>\n",
       "      <th>mPFC_lfp_RMS</th>\n",
       "    </tr>\n",
       "  </thead>\n",
       "  <tbody>\n",
       "    <tr>\n",
       "      <th>0</th>\n",
       "      <td>NaN</td>\n",
       "      <td>20240320_142408_alone_comp_subj_3-1_and_3-3</td>\n",
       "      <td>[[0, 74], [1272, 1471], [3268, 3469], [4466, 4...</td>\n",
       "      <td>[[0, 74], [152, 157], [252, 305], [305, 323], ...</td>\n",
       "      <td>[[0, 74], [160, 225], [254, 257], [257, 279], ...</td>\n",
       "      <td>20240320_142408_alone_comp_subj_3-1_and_3-3.1....</td>\n",
       "      <td>NaN</td>\n",
       "      <td>/scratch/back_up/reward_competition_extention/...</td>\n",
       "      <td>20240320_142408_alone_comp_subj_3-1_t6b6_merged</td>\n",
       "      <td>3.1</td>\n",
       "      <td>...</td>\n",
       "      <td>[0.7310223, 1.300014, 1.207694, 0.6142095, 0.9...</td>\n",
       "      <td>[0.6501205, 1.1620903, 1.0198765, 0.52619123, ...</td>\n",
       "      <td>[0.63669616, 1.1102389, 0.96698236, 0.45165634...</td>\n",
       "      <td>[0.6605723, 1.0167242, 0.8495915, 0.5133363, 1...</td>\n",
       "      <td>[0.74413866, 1.2793614, 1.2117124, 0.88739526,...</td>\n",
       "      <td>[0.69433415, 1.236166, 1.1482528, 0.58309716, ...</td>\n",
       "      <td>[0.6303827, 1.1299312, 0.9911678, 0.5094602, 0...</td>\n",
       "      <td>[0.6189879, 1.0808034, 0.94109446, 0.43853062,...</td>\n",
       "      <td>[0.6432096, 0.992102, 0.828376, 0.49897468, 0....</td>\n",
       "      <td>[0.7264124, 1.2502861, 1.1840717, 0.8666313, 1...</td>\n",
       "    </tr>\n",
       "    <tr>\n",
       "      <th>1</th>\n",
       "      <td>NaN</td>\n",
       "      <td>20240320_142408_alone_comp_subj_3-1_and_3-3</td>\n",
       "      <td>[[0, 75], [1273, 1472], [3269, 3470], [4467, 4...</td>\n",
       "      <td>[[0, 75], [153, 158], [252, 306], [306, 324], ...</td>\n",
       "      <td>[[0, 75], [161, 226], [255, 258], [258, 280], ...</td>\n",
       "      <td>20240320_142408_alone_comp_subj_3-1_and_3-3.2....</td>\n",
       "      <td>NaN</td>\n",
       "      <td>/scratch/back_up/reward_competition_extention/...</td>\n",
       "      <td>20240320_142408_alone_comp_subj_3-1_t6b6_merged</td>\n",
       "      <td>3.1</td>\n",
       "      <td>...</td>\n",
       "      <td>[0.7310223, 1.300014, 1.207694, 0.6142095, 0.9...</td>\n",
       "      <td>[0.6501205, 1.1620903, 1.0198765, 0.52619123, ...</td>\n",
       "      <td>[0.63669616, 1.1102389, 0.96698236, 0.45165634...</td>\n",
       "      <td>[0.6605723, 1.0167242, 0.8495915, 0.5133363, 1...</td>\n",
       "      <td>[0.74413866, 1.2793614, 1.2117124, 0.88739526,...</td>\n",
       "      <td>[0.69433415, 1.236166, 1.1482528, 0.58309716, ...</td>\n",
       "      <td>[0.6303827, 1.1299312, 0.9911678, 0.5094602, 0...</td>\n",
       "      <td>[0.6189879, 1.0808034, 0.94109446, 0.43853062,...</td>\n",
       "      <td>[0.6432096, 0.992102, 0.828376, 0.49897468, 0....</td>\n",
       "      <td>[0.7264124, 1.2502861, 1.1840717, 0.8666313, 1...</td>\n",
       "    </tr>\n",
       "    <tr>\n",
       "      <th>2</th>\n",
       "      <td>NaN</td>\n",
       "      <td>20240320_142408_alone_comp_subj_3-1_and_3-3</td>\n",
       "      <td>[[0, 74], [1272, 1471], [3268, 3469], [4466, 4...</td>\n",
       "      <td>[[0, 74], [152, 157], [252, 305], [305, 323], ...</td>\n",
       "      <td>[[0, 74], [160, 225], [254, 257], [257, 279], ...</td>\n",
       "      <td>20240320_142408_alone_comp_subj_3-1_and_3-3.1....</td>\n",
       "      <td>NaN</td>\n",
       "      <td>/scratch/back_up/reward_competition_extention/...</td>\n",
       "      <td>20240320_142408_alone_comp_subj_3-3_t5b5_merged</td>\n",
       "      <td>3.3</td>\n",
       "      <td>...</td>\n",
       "      <td>[-0.16099176, -0.048575103, 0.13878599, 0.1845...</td>\n",
       "      <td>[0.09494012, 0.38542855, 0.6376576, 0.6149853,...</td>\n",
       "      <td>[-0.008537974, 0.19921939, 0.48097253, 0.50800...</td>\n",
       "      <td>[0.015425156, 0.2706414, 0.48799583, 0.4767775...</td>\n",
       "      <td>[-0.2906841, -0.15521966, 0.009877616, 0.07196...</td>\n",
       "      <td>[-0.10348419, -0.02365353, 0.109397575, 0.1419...</td>\n",
       "      <td>[0.0727714, 0.28288603, 0.46532702, 0.44892782...</td>\n",
       "      <td>[0.0, 0.15239632, 0.35907075, 0.37890315, 0.37...</td>\n",
       "      <td>[0.017063027, 0.1997378, 0.35531247, 0.3472828...</td>\n",
       "      <td>[-0.20107095, -0.10407189, 0.014145696, 0.0586...</td>\n",
       "    </tr>\n",
       "    <tr>\n",
       "      <th>3</th>\n",
       "      <td>NaN</td>\n",
       "      <td>20240320_142408_alone_comp_subj_3-1_and_3-3</td>\n",
       "      <td>[[0, 75], [1273, 1472], [3269, 3470], [4467, 4...</td>\n",
       "      <td>[[0, 75], [153, 158], [252, 306], [306, 324], ...</td>\n",
       "      <td>[[0, 75], [161, 226], [255, 258], [258, 280], ...</td>\n",
       "      <td>20240320_142408_alone_comp_subj_3-1_and_3-3.2....</td>\n",
       "      <td>NaN</td>\n",
       "      <td>/scratch/back_up/reward_competition_extention/...</td>\n",
       "      <td>20240320_142408_alone_comp_subj_3-3_t5b5_merged</td>\n",
       "      <td>3.3</td>\n",
       "      <td>...</td>\n",
       "      <td>[-0.16099176, -0.048575103, 0.13878599, 0.1845...</td>\n",
       "      <td>[0.09494012, 0.38542855, 0.6376576, 0.6149853,...</td>\n",
       "      <td>[-0.008537974, 0.19921939, 0.48097253, 0.50800...</td>\n",
       "      <td>[0.015425156, 0.2706414, 0.48799583, 0.4767775...</td>\n",
       "      <td>[-0.2906841, -0.15521966, 0.009877616, 0.07196...</td>\n",
       "      <td>[-0.10348419, -0.02365353, 0.109397575, 0.1419...</td>\n",
       "      <td>[0.0727714, 0.28288603, 0.46532702, 0.44892782...</td>\n",
       "      <td>[0.0, 0.15239632, 0.35907075, 0.37890315, 0.37...</td>\n",
       "      <td>[0.017063027, 0.1997378, 0.35531247, 0.3472828...</td>\n",
       "      <td>[-0.20107095, -0.10407189, 0.014145696, 0.0586...</td>\n",
       "    </tr>\n",
       "    <tr>\n",
       "      <th>4</th>\n",
       "      <td>NaN</td>\n",
       "      <td>20240320_171038_alone_comp_subj_4-2_and_4-3</td>\n",
       "      <td>[[0, 79], [1276, 1477], [3272, 3473], [4470, 4...</td>\n",
       "      <td>[[0, 79], [84, 92], [92, 132], [145, 175], [25...</td>\n",
       "      <td>[[0, 79], [79, 186], [188, 191], [191, 268], [...</td>\n",
       "      <td>20240320_171038_alone_comp_subj_4-2_and_4-3.1....</td>\n",
       "      <td>NaN</td>\n",
       "      <td>/scratch/back_up/reward_competition_extention/...</td>\n",
       "      <td>20240320_171038_alone_comp_subj_4-2_t6b6_merged</td>\n",
       "      <td>4.2</td>\n",
       "      <td>...</td>\n",
       "      <td>[-0.066892564, -0.65406066, -0.93649584, -0.93...</td>\n",
       "      <td>[-0.09079807, -0.7171194, -1.021015, -0.906127...</td>\n",
       "      <td>[-0.1854875, -0.7794223, -1.0623376, -0.9443, ...</td>\n",
       "      <td>[0.09368055, -0.46840268, -0.7531916, -0.68386...</td>\n",
       "      <td>[0.024630615, -0.43766713, -0.66123736, -0.689...</td>\n",
       "      <td>[-0.07440248, -0.6211742, -0.88417834, -0.8824...</td>\n",
       "      <td>[-0.09824534, -0.6808229, -0.9634937, -0.85663...</td>\n",
       "      <td>[-0.19297375, -0.75419104, -1.0215217, -0.9099...</td>\n",
       "      <td>[0.06584331, -0.45397222, -0.7173454, -0.65323...</td>\n",
       "      <td>[0.007265325, -0.4359195, -0.65024656, -0.6774...</td>\n",
       "    </tr>\n",
       "  </tbody>\n",
       "</table>\n",
       "<p>5 rows × 39 columns</p>\n",
       "</div>"
      ],
      "text/plain": [
       "   cohort                                  session_dir  \\\n",
       "0     NaN  20240320_142408_alone_comp_subj_3-1_and_3-3   \n",
       "1     NaN  20240320_142408_alone_comp_subj_3-1_and_3-3   \n",
       "2     NaN  20240320_142408_alone_comp_subj_3-1_and_3-3   \n",
       "3     NaN  20240320_142408_alone_comp_subj_3-1_and_3-3   \n",
       "4     NaN  20240320_171038_alone_comp_subj_4-2_and_4-3   \n",
       "\n",
       "                                         tone_frames  \\\n",
       "0  [[0, 74], [1272, 1471], [3268, 3469], [4466, 4...   \n",
       "1  [[0, 75], [1273, 1472], [3269, 3470], [4467, 4...   \n",
       "2  [[0, 74], [1272, 1471], [3268, 3469], [4466, 4...   \n",
       "3  [[0, 75], [1273, 1472], [3269, 3470], [4467, 4...   \n",
       "4  [[0, 79], [1276, 1477], [3272, 3473], [4470, 4...   \n",
       "\n",
       "                             box_1_port_entry_frames  \\\n",
       "0  [[0, 74], [152, 157], [252, 305], [305, 323], ...   \n",
       "1  [[0, 75], [153, 158], [252, 306], [306, 324], ...   \n",
       "2  [[0, 74], [152, 157], [252, 305], [305, 323], ...   \n",
       "3  [[0, 75], [153, 158], [252, 306], [306, 324], ...   \n",
       "4  [[0, 79], [84, 92], [92, 132], [145, 175], [25...   \n",
       "\n",
       "                             box_2_port_entry_frames  \\\n",
       "0  [[0, 74], [160, 225], [254, 257], [257, 279], ...   \n",
       "1  [[0, 75], [161, 226], [255, 258], [258, 280], ...   \n",
       "2  [[0, 74], [160, 225], [254, 257], [257, 279], ...   \n",
       "3  [[0, 75], [161, 226], [255, 258], [258, 280], ...   \n",
       "4  [[0, 79], [79, 186], [188, 191], [191, 268], [...   \n",
       "\n",
       "                                          video_name notes  \\\n",
       "0  20240320_142408_alone_comp_subj_3-1_and_3-3.1....   NaN   \n",
       "1  20240320_142408_alone_comp_subj_3-1_and_3-3.2....   NaN   \n",
       "2  20240320_142408_alone_comp_subj_3-1_and_3-3.1....   NaN   \n",
       "3  20240320_142408_alone_comp_subj_3-1_and_3-3.2....   NaN   \n",
       "4  20240320_171038_alone_comp_subj_4-2_and_4-3.1....   NaN   \n",
       "\n",
       "                                        session_path  \\\n",
       "0  /scratch/back_up/reward_competition_extention/...   \n",
       "1  /scratch/back_up/reward_competition_extention/...   \n",
       "2  /scratch/back_up/reward_competition_extention/...   \n",
       "3  /scratch/back_up/reward_competition_extention/...   \n",
       "4  /scratch/back_up/reward_competition_extention/...   \n",
       "\n",
       "                                         recording current_subject  ...  \\\n",
       "0  20240320_142408_alone_comp_subj_3-1_t6b6_merged             3.1  ...   \n",
       "1  20240320_142408_alone_comp_subj_3-1_t6b6_merged             3.1  ...   \n",
       "2  20240320_142408_alone_comp_subj_3-3_t5b5_merged             3.3  ...   \n",
       "3  20240320_142408_alone_comp_subj_3-3_t5b5_merged             3.3  ...   \n",
       "4  20240320_171038_alone_comp_subj_4-2_t6b6_merged             4.2  ...   \n",
       "\n",
       "                            vHPC_lfp_modified_zscore  \\\n",
       "0  [0.7310223, 1.300014, 1.207694, 0.6142095, 0.9...   \n",
       "1  [0.7310223, 1.300014, 1.207694, 0.6142095, 0.9...   \n",
       "2  [-0.16099176, -0.048575103, 0.13878599, 0.1845...   \n",
       "3  [-0.16099176, -0.048575103, 0.13878599, 0.1845...   \n",
       "4  [-0.066892564, -0.65406066, -0.93649584, -0.93...   \n",
       "\n",
       "                             BLA_lfp_modified_zscore  \\\n",
       "0  [0.6501205, 1.1620903, 1.0198765, 0.52619123, ...   \n",
       "1  [0.6501205, 1.1620903, 1.0198765, 0.52619123, ...   \n",
       "2  [0.09494012, 0.38542855, 0.6376576, 0.6149853,...   \n",
       "3  [0.09494012, 0.38542855, 0.6376576, 0.6149853,...   \n",
       "4  [-0.09079807, -0.7171194, -1.021015, -0.906127...   \n",
       "\n",
       "                              LH_lfp_modified_zscore  \\\n",
       "0  [0.63669616, 1.1102389, 0.96698236, 0.45165634...   \n",
       "1  [0.63669616, 1.1102389, 0.96698236, 0.45165634...   \n",
       "2  [-0.008537974, 0.19921939, 0.48097253, 0.50800...   \n",
       "3  [-0.008537974, 0.19921939, 0.48097253, 0.50800...   \n",
       "4  [-0.1854875, -0.7794223, -1.0623376, -0.9443, ...   \n",
       "\n",
       "                              MD_lfp_modified_zscore  \\\n",
       "0  [0.6605723, 1.0167242, 0.8495915, 0.5133363, 1...   \n",
       "1  [0.6605723, 1.0167242, 0.8495915, 0.5133363, 1...   \n",
       "2  [0.015425156, 0.2706414, 0.48799583, 0.4767775...   \n",
       "3  [0.015425156, 0.2706414, 0.48799583, 0.4767775...   \n",
       "4  [0.09368055, -0.46840268, -0.7531916, -0.68386...   \n",
       "\n",
       "                            mPFC_lfp_modified_zscore  \\\n",
       "0  [0.74413866, 1.2793614, 1.2117124, 0.88739526,...   \n",
       "1  [0.74413866, 1.2793614, 1.2117124, 0.88739526,...   \n",
       "2  [-0.2906841, -0.15521966, 0.009877616, 0.07196...   \n",
       "3  [-0.2906841, -0.15521966, 0.009877616, 0.07196...   \n",
       "4  [0.024630615, -0.43766713, -0.66123736, -0.689...   \n",
       "\n",
       "                                        vHPC_lfp_RMS  \\\n",
       "0  [0.69433415, 1.236166, 1.1482528, 0.58309716, ...   \n",
       "1  [0.69433415, 1.236166, 1.1482528, 0.58309716, ...   \n",
       "2  [-0.10348419, -0.02365353, 0.109397575, 0.1419...   \n",
       "3  [-0.10348419, -0.02365353, 0.109397575, 0.1419...   \n",
       "4  [-0.07440248, -0.6211742, -0.88417834, -0.8824...   \n",
       "\n",
       "                                         BLA_lfp_RMS  \\\n",
       "0  [0.6303827, 1.1299312, 0.9911678, 0.5094602, 0...   \n",
       "1  [0.6303827, 1.1299312, 0.9911678, 0.5094602, 0...   \n",
       "2  [0.0727714, 0.28288603, 0.46532702, 0.44892782...   \n",
       "3  [0.0727714, 0.28288603, 0.46532702, 0.44892782...   \n",
       "4  [-0.09824534, -0.6808229, -0.9634937, -0.85663...   \n",
       "\n",
       "                                          LH_lfp_RMS  \\\n",
       "0  [0.6189879, 1.0808034, 0.94109446, 0.43853062,...   \n",
       "1  [0.6189879, 1.0808034, 0.94109446, 0.43853062,...   \n",
       "2  [0.0, 0.15239632, 0.35907075, 0.37890315, 0.37...   \n",
       "3  [0.0, 0.15239632, 0.35907075, 0.37890315, 0.37...   \n",
       "4  [-0.19297375, -0.75419104, -1.0215217, -0.9099...   \n",
       "\n",
       "                                          MD_lfp_RMS  \\\n",
       "0  [0.6432096, 0.992102, 0.828376, 0.49897468, 0....   \n",
       "1  [0.6432096, 0.992102, 0.828376, 0.49897468, 0....   \n",
       "2  [0.017063027, 0.1997378, 0.35531247, 0.3472828...   \n",
       "3  [0.017063027, 0.1997378, 0.35531247, 0.3472828...   \n",
       "4  [0.06584331, -0.45397222, -0.7173454, -0.65323...   \n",
       "\n",
       "                                        mPFC_lfp_RMS  \n",
       "0  [0.7264124, 1.2502861, 1.1840717, 0.8666313, 1...  \n",
       "1  [0.7264124, 1.2502861, 1.1840717, 0.8666313, 1...  \n",
       "2  [-0.20107095, -0.10407189, 0.014145696, 0.0586...  \n",
       "3  [-0.20107095, -0.10407189, 0.014145696, 0.0586...  \n",
       "4  [0.007265325, -0.4359195, -0.65024656, -0.6774...  \n",
       "\n",
       "[5 rows x 39 columns]"
      ]
     },
     "execution_count": 27,
     "metadata": {},
     "output_type": "execute_result"
    }
   ],
   "source": [
    "LFP_TRACES_DF.head()"
   ]
  },
  {
   "cell_type": "markdown",
   "metadata": {},
   "source": [
    "## Filtering for zscore value"
   ]
  },
  {
   "cell_type": "code",
   "execution_count": 28,
   "metadata": {
    "tags": []
   },
   "outputs": [],
   "source": [
    "zscore_columns = [col for col in LFP_TRACES_DF.columns if \"zscore\" in col]"
   ]
  },
  {
   "cell_type": "code",
   "execution_count": 29,
   "metadata": {
    "tags": []
   },
   "outputs": [
    {
     "data": {
      "text/plain": [
       "['vHPC_lfp_modified_zscore',\n",
       " 'BLA_lfp_modified_zscore',\n",
       " 'LH_lfp_modified_zscore',\n",
       " 'MD_lfp_modified_zscore',\n",
       " 'mPFC_lfp_modified_zscore']"
      ]
     },
     "execution_count": 29,
     "metadata": {},
     "output_type": "execute_result"
    }
   ],
   "source": [
    "zscore_columns"
   ]
  },
  {
   "cell_type": "code",
   "execution_count": 30,
   "metadata": {
    "tags": []
   },
   "outputs": [
    {
     "name": "stdout",
     "output_type": "stream",
     "text": [
      "vHPC_lfp_modified_zscore\n",
      "BLA_lfp_modified_zscore\n",
      "LH_lfp_modified_zscore\n",
      "MD_lfp_modified_zscore\n",
      "mPFC_lfp_modified_zscore\n"
     ]
    }
   ],
   "source": [
    "for col in zscore_columns:\n",
    "    print(col)\n",
    "    brain_region = col.split(\"_\")[0]\n",
    "    updated_column = \"{}_lfp_mask\".format(brain_region)\n",
    "    LFP_TRACES_DF[updated_column] = LFP_TRACES_DF[col].apply(lambda x: np.abs(x) >= zscore_threshold)"
   ]
  },
  {
   "cell_type": "code",
   "execution_count": 31,
   "metadata": {
    "tags": []
   },
   "outputs": [
    {
     "data": {
      "text/plain": [
       "0    [False, False, False, False, False, False, Fal...\n",
       "1    [False, False, False, False, False, False, Fal...\n",
       "2    [False, False, False, False, False, False, Fal...\n",
       "3    [False, False, False, False, False, False, Fal...\n",
       "4    [False, False, False, False, False, False, Fal...\n",
       "Name: mPFC_lfp_mask, dtype: object"
      ]
     },
     "execution_count": 31,
     "metadata": {},
     "output_type": "execute_result"
    }
   ],
   "source": [
    "LFP_TRACES_DF[updated_column].head()"
   ]
  },
  {
   "cell_type": "code",
   "execution_count": 32,
   "metadata": {
    "tags": []
   },
   "outputs": [
    {
     "data": {
      "text/plain": [
       "(3179713,)"
      ]
     },
     "execution_count": 32,
     "metadata": {},
     "output_type": "execute_result"
    }
   ],
   "source": [
    "LFP_TRACES_DF[updated_column].iloc[0].shape"
   ]
  },
  {
   "cell_type": "code",
   "execution_count": 33,
   "metadata": {
    "tags": []
   },
   "outputs": [
    {
     "data": {
      "text/plain": [
       "930"
      ]
     },
     "execution_count": 33,
     "metadata": {},
     "output_type": "execute_result"
    }
   ],
   "source": [
    "sum(LFP_TRACES_DF[updated_column].iloc[0])"
   ]
  },
  {
   "cell_type": "markdown",
   "metadata": {
    "tags": []
   },
   "source": [
    "- Filtering raw traces by zscore"
   ]
  },
  {
   "cell_type": "code",
   "execution_count": 34,
   "metadata": {
    "tags": []
   },
   "outputs": [
    {
     "data": {
      "text/plain": [
       "0    [0.74413866, 1.2793614, 1.2117124, 0.88739526,...\n",
       "1    [0.74413866, 1.2793614, 1.2117124, 0.88739526,...\n",
       "2    [-0.2906841, -0.15521966, 0.009877616, 0.07196...\n",
       "3    [-0.2906841, -0.15521966, 0.009877616, 0.07196...\n",
       "4    [0.024630615, -0.43766713, -0.66123736, -0.689...\n",
       "Name: mPFC_lfp_modified_zscore, dtype: object"
      ]
     },
     "execution_count": 34,
     "metadata": {},
     "output_type": "execute_result"
    }
   ],
   "source": [
    "LFP_TRACES_DF[col].head()"
   ]
  },
  {
   "cell_type": "code",
   "execution_count": 35,
   "metadata": {
    "tags": []
   },
   "outputs": [
    {
     "name": "stdout",
     "output_type": "stream",
     "text": [
      "vHPC_lfp_trace\n",
      "BLA_lfp_trace\n",
      "LH_lfp_trace\n",
      "MD_lfp_trace\n",
      "mPFC_lfp_trace\n"
     ]
    }
   ],
   "source": [
    "for col in original_trace_columns:\n",
    "    print(col)\n",
    "    brain_region = col.split(\"_\")[0]\n",
    "    updated_column = \"{}_lfp_trace_filtered\".format(brain_region)    \n",
    "    mask_column = \"{}_lfp_mask\".format(brain_region)\n",
    "    LFP_TRACES_DF[updated_column] = LFP_TRACES_DF.apply(lambda x: update_array_by_mask(x[col], x[mask_column]), axis=1)"
   ]
  },
  {
   "cell_type": "code",
   "execution_count": 36,
   "metadata": {
    "tags": []
   },
   "outputs": [
    {
     "data": {
      "text/plain": [
       "0    [72.735, 125.189995, 118.56, 86.774994, 139.62...\n",
       "1    [72.735, 125.189995, 118.56, 86.774994, 139.62...\n",
       "2    [-38.805, -20.085, 2.73, 11.309999, 28.47, 64....\n",
       "3    [-38.805, -20.085, 2.73, 11.309999, 28.47, 64....\n",
       "4    [0.78, -46.8, -69.81, -72.735, -126.74999, -16...\n",
       "Name: mPFC_lfp_trace, dtype: object"
      ]
     },
     "execution_count": 36,
     "metadata": {},
     "output_type": "execute_result"
    }
   ],
   "source": [
    "LFP_TRACES_DF[col].head()"
   ]
  },
  {
   "cell_type": "code",
   "execution_count": 37,
   "metadata": {
    "tags": []
   },
   "outputs": [
    {
     "data": {
      "text/plain": [
       "0"
      ]
     },
     "execution_count": 37,
     "metadata": {},
     "output_type": "execute_result"
    }
   ],
   "source": [
    "sum(np.isnan(LFP_TRACES_DF[col].iloc[0]))"
   ]
  },
  {
   "cell_type": "markdown",
   "metadata": {},
   "source": [
    "- Calculating RMS of filtered signal"
   ]
  },
  {
   "cell_type": "code",
   "execution_count": 38,
   "metadata": {
    "tags": []
   },
   "outputs": [],
   "source": [
    "filtered_trace_column = [col for col in LFP_TRACES_DF if \"lfp_trace_filtered\" in col]"
   ]
  },
  {
   "cell_type": "code",
   "execution_count": 39,
   "metadata": {},
   "outputs": [
    {
     "name": "stdout",
     "output_type": "stream",
     "text": [
      "vHPC_lfp_trace_filtered\n",
      "BLA_lfp_trace_filtered\n",
      "LH_lfp_trace_filtered\n",
      "MD_lfp_trace_filtered\n",
      "mPFC_lfp_trace_filtered\n"
     ]
    }
   ],
   "source": [
    "for col in filtered_trace_column:\n",
    "    print(col)\n",
    "    brain_region = col.split(\"_\")[0]\n",
    "    updated_column = \"{}_lfp_RMS_filtered\".format(brain_region)\n",
    "    LFP_TRACES_DF[updated_column] = LFP_TRACES_DF[col].apply(lambda x: (x / np.sqrt(np.nanmean(x**2))).astype(np.float32))"
   ]
  },
  {
   "cell_type": "markdown",
   "metadata": {
    "tags": []
   },
   "source": [
    "# Power Calcuation"
   ]
  },
  {
   "cell_type": "markdown",
   "metadata": {},
   "source": [
    "- Getting the column name of all the traces"
   ]
  },
  {
   "cell_type": "code",
   "execution_count": 40,
   "metadata": {
    "tags": []
   },
   "outputs": [],
   "source": [
    "input_columns = [col for col in LFP_TRACES_DF.columns if \"RMS\" in col and \"filtered\" in col]"
   ]
  },
  {
   "cell_type": "code",
   "execution_count": 41,
   "metadata": {
    "tags": []
   },
   "outputs": [
    {
     "data": {
      "text/plain": [
       "['vHPC_lfp_RMS_filtered',\n",
       " 'BLA_lfp_RMS_filtered',\n",
       " 'LH_lfp_RMS_filtered',\n",
       " 'MD_lfp_RMS_filtered',\n",
       " 'mPFC_lfp_RMS_filtered']"
      ]
     },
     "execution_count": 41,
     "metadata": {},
     "output_type": "execute_result"
    }
   ],
   "source": [
    "input_columns"
   ]
  },
  {
   "cell_type": "code",
   "execution_count": 42,
   "metadata": {
    "tags": []
   },
   "outputs": [
    {
     "name": "stdout",
     "output_type": "stream",
     "text": [
      "vHPC_lfp_RMS_filtered\n",
      "BLA_lfp_RMS_filtered\n",
      "LH_lfp_RMS_filtered\n",
      "MD_lfp_RMS_filtered\n",
      "mPFC_lfp_RMS_filtered\n"
     ]
    }
   ],
   "source": [
    "for col in input_columns:\n",
    "    print(col)\n",
    "    LFP_TRACES_DF[col] = LFP_TRACES_DF[col].apply(lambda x: np.round(x.astype(np.float32), decimals=3))"
   ]
  },
  {
   "cell_type": "markdown",
   "metadata": {},
   "source": [
    "- Calcuating the power at each frequency band"
   ]
  },
  {
   "cell_type": "code",
   "execution_count": 43,
   "metadata": {},
   "outputs": [
    {
     "data": {
      "text/plain": [
       "array([ 0.736,  1.267,  1.2  , ..., -0.442, -0.489, -0.29 ], dtype=float32)"
      ]
     },
     "execution_count": 43,
     "metadata": {},
     "output_type": "execute_result"
    }
   ],
   "source": [
    "LFP_TRACES_DF[col].iloc[0]"
   ]
  },
  {
   "cell_type": "code",
   "execution_count": 44,
   "metadata": {
    "tags": []
   },
   "outputs": [
    {
     "name": "stdout",
     "output_type": "stream",
     "text": [
      "vHPC_RMS_filtered\n",
      "BLA_RMS_filtered\n",
      "LH_RMS_filtered\n",
      "MD_RMS_filtered\n",
      "mPFC_RMS_filtered\n"
     ]
    }
   ],
   "source": [
    "for col in input_columns:\n",
    "    # brain_region = col.split(\"_\")[0]\n",
    "    brain_region = col.replace(\"_lfp\", \"\")\n",
    "    print(brain_region)\n",
    "\n",
    "    # Define column names\n",
    "    multitaper_col = f\"{brain_region}_power_multitaper\"\n",
    "    connectivity_col = f\"{brain_region}_power_connectivity\"\n",
    "    frequencies_col = f\"{brain_region}_power_frequencies\"\n",
    "    power_col = f\"{brain_region}_power_all_frequencies_all_windows\"\n",
    "    \n",
    "    try:\n",
    "        # Apply Multitaper function to the lfp_trace column\n",
    "        LFP_TRACES_DF[multitaper_col] = LFP_TRACES_DF[col].apply(\n",
    "            lambda x: Multitaper(\n",
    "                time_series=x, \n",
    "                sampling_frequency=RESAMPLE_RATE, \n",
    "                time_halfbandwidth_product=TIME_HALFBANDWIDTH_PRODUCT,\n",
    "                time_window_duration=TIME_WINDOW_DURATION, \n",
    "                time_window_step=TIME_WINDOW_STEP\n",
    "            )\n",
    "        )\n",
    "\n",
    "        # Apply Connectivity function to the multitaper column\n",
    "        LFP_TRACES_DF[connectivity_col] = LFP_TRACES_DF[multitaper_col].apply(\n",
    "            lambda x: Connectivity.from_multitaper(x)\n",
    "        )\n",
    "\n",
    "        # Apply frequencies and power functions to the connectivity column\n",
    "        LFP_TRACES_DF[frequencies_col] = LFP_TRACES_DF[connectivity_col].apply(\n",
    "            lambda x: x.frequencies\n",
    "        )\n",
    "        LFP_TRACES_DF[power_col] = LFP_TRACES_DF[connectivity_col].apply(\n",
    "            lambda x: x.power().squeeze()\n",
    "        )\n",
    "        \n",
    "        LFP_TRACES_DF[power_col] = LFP_TRACES_DF[power_col].apply(lambda x: x.astype(np.float32))\n",
    "            \n",
    "        # Removing unnecessary columns\n",
    "        LFP_TRACES_DF = LFP_TRACES_DF.drop(columns=[multitaper_col, connectivity_col], errors=\"ignore\")\n",
    "    \n",
    "    except Exception as e: \n",
    "        print(e)"
   ]
  },
  {
   "cell_type": "markdown",
   "metadata": {},
   "source": [
    "- Getting the timestamps of the power"
   ]
  },
  {
   "cell_type": "code",
   "execution_count": 45,
   "metadata": {
    "tags": []
   },
   "outputs": [],
   "source": [
    "LFP_TRACES_DF[\"power_timestamps\"] = LFP_TRACES_DF[\"lfp_timestamps\"].apply(lambda x: x[(RESAMPLE_RATE//2):(-RESAMPLE_RATE//2):(RESAMPLE_RATE//2)])\n",
    "# .iloc[0][500:-500:500].shape"
   ]
  },
  {
   "cell_type": "markdown",
   "metadata": {},
   "source": [
    "- Making sure that the timestamps for power makes sense with shape and values"
   ]
  },
  {
   "cell_type": "code",
   "execution_count": 46,
   "metadata": {
    "tags": []
   },
   "outputs": [
    {
     "data": {
      "text/plain": [
       "0    (6358,)\n",
       "1    (6358,)\n",
       "2    (6358,)\n",
       "3    (6358,)\n",
       "4    (6437,)\n",
       "Name: power_timestamps, dtype: object"
      ]
     },
     "execution_count": 46,
     "metadata": {},
     "output_type": "execute_result"
    }
   ],
   "source": [
    "LFP_TRACES_DF[\"power_timestamps\"].head().apply(lambda x: x.shape)"
   ]
  },
  {
   "cell_type": "code",
   "execution_count": 47,
   "metadata": {
    "tags": []
   },
   "outputs": [
    {
     "data": {
      "text/plain": [
       "(6358, 500)"
      ]
     },
     "execution_count": 47,
     "metadata": {},
     "output_type": "execute_result"
    }
   ],
   "source": [
    "LFP_TRACES_DF[[col for col in LFP_TRACES_DF.columns if \"power_all_frequencies_all_windows\" in col][0]].iloc[0].shape"
   ]
  },
  {
   "cell_type": "code",
   "execution_count": 48,
   "metadata": {
    "tags": []
   },
   "outputs": [
    {
     "data": {
      "text/plain": [
       "array([       0,       20,       40, ..., 63594200, 63594220, 63594240])"
      ]
     },
     "execution_count": 48,
     "metadata": {},
     "output_type": "execute_result"
    }
   ],
   "source": [
    "LFP_TRACES_DF[[col for col in LFP_TRACES_DF.columns if \"lfp_timestamps\" in col][0]].iloc[0]"
   ]
  },
  {
   "cell_type": "code",
   "execution_count": 49,
   "metadata": {
    "tags": []
   },
   "outputs": [
    {
     "data": {
      "text/plain": [
       "array([   10000,    20000,    30000, ..., 63560000, 63570000, 63580000])"
      ]
     },
     "execution_count": 49,
     "metadata": {},
     "output_type": "execute_result"
    }
   ],
   "source": [
    "LFP_TRACES_DF[[col for col in LFP_TRACES_DF.columns if \"power_timestamps\" in col][0]].iloc[0]"
   ]
  },
  {
   "cell_type": "markdown",
   "metadata": {},
   "source": [
    "- Checking if the right frequencies are being used"
   ]
  },
  {
   "cell_type": "code",
   "execution_count": 50,
   "metadata": {
    "tags": []
   },
   "outputs": [
    {
     "data": {
      "text/html": [
       "<div>\n",
       "<style scoped>\n",
       "    .dataframe tbody tr th:only-of-type {\n",
       "        vertical-align: middle;\n",
       "    }\n",
       "\n",
       "    .dataframe tbody tr th {\n",
       "        vertical-align: top;\n",
       "    }\n",
       "\n",
       "    .dataframe thead th {\n",
       "        text-align: right;\n",
       "    }\n",
       "</style>\n",
       "<table border=\"1\" class=\"dataframe\">\n",
       "  <thead>\n",
       "    <tr style=\"text-align: right;\">\n",
       "      <th></th>\n",
       "      <th>vHPC_RMS_filtered_power_frequencies</th>\n",
       "      <th>BLA_RMS_filtered_power_frequencies</th>\n",
       "      <th>LH_RMS_filtered_power_frequencies</th>\n",
       "      <th>MD_RMS_filtered_power_frequencies</th>\n",
       "      <th>mPFC_RMS_filtered_power_frequencies</th>\n",
       "    </tr>\n",
       "  </thead>\n",
       "  <tbody>\n",
       "    <tr>\n",
       "      <th>0</th>\n",
       "      <td>[0.0, 1.0, 2.0, 3.0, 4.0, 5.0, 6.0, 7.0, 8.0, ...</td>\n",
       "      <td>[0.0, 1.0, 2.0, 3.0, 4.0, 5.0, 6.0, 7.0, 8.0, ...</td>\n",
       "      <td>[0.0, 1.0, 2.0, 3.0, 4.0, 5.0, 6.0, 7.0, 8.0, ...</td>\n",
       "      <td>[0.0, 1.0, 2.0, 3.0, 4.0, 5.0, 6.0, 7.0, 8.0, ...</td>\n",
       "      <td>[0.0, 1.0, 2.0, 3.0, 4.0, 5.0, 6.0, 7.0, 8.0, ...</td>\n",
       "    </tr>\n",
       "    <tr>\n",
       "      <th>1</th>\n",
       "      <td>[0.0, 1.0, 2.0, 3.0, 4.0, 5.0, 6.0, 7.0, 8.0, ...</td>\n",
       "      <td>[0.0, 1.0, 2.0, 3.0, 4.0, 5.0, 6.0, 7.0, 8.0, ...</td>\n",
       "      <td>[0.0, 1.0, 2.0, 3.0, 4.0, 5.0, 6.0, 7.0, 8.0, ...</td>\n",
       "      <td>[0.0, 1.0, 2.0, 3.0, 4.0, 5.0, 6.0, 7.0, 8.0, ...</td>\n",
       "      <td>[0.0, 1.0, 2.0, 3.0, 4.0, 5.0, 6.0, 7.0, 8.0, ...</td>\n",
       "    </tr>\n",
       "    <tr>\n",
       "      <th>2</th>\n",
       "      <td>[0.0, 1.0, 2.0, 3.0, 4.0, 5.0, 6.0, 7.0, 8.0, ...</td>\n",
       "      <td>[0.0, 1.0, 2.0, 3.0, 4.0, 5.0, 6.0, 7.0, 8.0, ...</td>\n",
       "      <td>[0.0, 1.0, 2.0, 3.0, 4.0, 5.0, 6.0, 7.0, 8.0, ...</td>\n",
       "      <td>[0.0, 1.0, 2.0, 3.0, 4.0, 5.0, 6.0, 7.0, 8.0, ...</td>\n",
       "      <td>[0.0, 1.0, 2.0, 3.0, 4.0, 5.0, 6.0, 7.0, 8.0, ...</td>\n",
       "    </tr>\n",
       "    <tr>\n",
       "      <th>3</th>\n",
       "      <td>[0.0, 1.0, 2.0, 3.0, 4.0, 5.0, 6.0, 7.0, 8.0, ...</td>\n",
       "      <td>[0.0, 1.0, 2.0, 3.0, 4.0, 5.0, 6.0, 7.0, 8.0, ...</td>\n",
       "      <td>[0.0, 1.0, 2.0, 3.0, 4.0, 5.0, 6.0, 7.0, 8.0, ...</td>\n",
       "      <td>[0.0, 1.0, 2.0, 3.0, 4.0, 5.0, 6.0, 7.0, 8.0, ...</td>\n",
       "      <td>[0.0, 1.0, 2.0, 3.0, 4.0, 5.0, 6.0, 7.0, 8.0, ...</td>\n",
       "    </tr>\n",
       "    <tr>\n",
       "      <th>4</th>\n",
       "      <td>[0.0, 1.0, 2.0, 3.0, 4.0, 5.0, 6.0, 7.0, 8.0, ...</td>\n",
       "      <td>[0.0, 1.0, 2.0, 3.0, 4.0, 5.0, 6.0, 7.0, 8.0, ...</td>\n",
       "      <td>[0.0, 1.0, 2.0, 3.0, 4.0, 5.0, 6.0, 7.0, 8.0, ...</td>\n",
       "      <td>[0.0, 1.0, 2.0, 3.0, 4.0, 5.0, 6.0, 7.0, 8.0, ...</td>\n",
       "      <td>[0.0, 1.0, 2.0, 3.0, 4.0, 5.0, 6.0, 7.0, 8.0, ...</td>\n",
       "    </tr>\n",
       "  </tbody>\n",
       "</table>\n",
       "</div>"
      ],
      "text/plain": [
       "                 vHPC_RMS_filtered_power_frequencies  \\\n",
       "0  [0.0, 1.0, 2.0, 3.0, 4.0, 5.0, 6.0, 7.0, 8.0, ...   \n",
       "1  [0.0, 1.0, 2.0, 3.0, 4.0, 5.0, 6.0, 7.0, 8.0, ...   \n",
       "2  [0.0, 1.0, 2.0, 3.0, 4.0, 5.0, 6.0, 7.0, 8.0, ...   \n",
       "3  [0.0, 1.0, 2.0, 3.0, 4.0, 5.0, 6.0, 7.0, 8.0, ...   \n",
       "4  [0.0, 1.0, 2.0, 3.0, 4.0, 5.0, 6.0, 7.0, 8.0, ...   \n",
       "\n",
       "                  BLA_RMS_filtered_power_frequencies  \\\n",
       "0  [0.0, 1.0, 2.0, 3.0, 4.0, 5.0, 6.0, 7.0, 8.0, ...   \n",
       "1  [0.0, 1.0, 2.0, 3.0, 4.0, 5.0, 6.0, 7.0, 8.0, ...   \n",
       "2  [0.0, 1.0, 2.0, 3.0, 4.0, 5.0, 6.0, 7.0, 8.0, ...   \n",
       "3  [0.0, 1.0, 2.0, 3.0, 4.0, 5.0, 6.0, 7.0, 8.0, ...   \n",
       "4  [0.0, 1.0, 2.0, 3.0, 4.0, 5.0, 6.0, 7.0, 8.0, ...   \n",
       "\n",
       "                   LH_RMS_filtered_power_frequencies  \\\n",
       "0  [0.0, 1.0, 2.0, 3.0, 4.0, 5.0, 6.0, 7.0, 8.0, ...   \n",
       "1  [0.0, 1.0, 2.0, 3.0, 4.0, 5.0, 6.0, 7.0, 8.0, ...   \n",
       "2  [0.0, 1.0, 2.0, 3.0, 4.0, 5.0, 6.0, 7.0, 8.0, ...   \n",
       "3  [0.0, 1.0, 2.0, 3.0, 4.0, 5.0, 6.0, 7.0, 8.0, ...   \n",
       "4  [0.0, 1.0, 2.0, 3.0, 4.0, 5.0, 6.0, 7.0, 8.0, ...   \n",
       "\n",
       "                   MD_RMS_filtered_power_frequencies  \\\n",
       "0  [0.0, 1.0, 2.0, 3.0, 4.0, 5.0, 6.0, 7.0, 8.0, ...   \n",
       "1  [0.0, 1.0, 2.0, 3.0, 4.0, 5.0, 6.0, 7.0, 8.0, ...   \n",
       "2  [0.0, 1.0, 2.0, 3.0, 4.0, 5.0, 6.0, 7.0, 8.0, ...   \n",
       "3  [0.0, 1.0, 2.0, 3.0, 4.0, 5.0, 6.0, 7.0, 8.0, ...   \n",
       "4  [0.0, 1.0, 2.0, 3.0, 4.0, 5.0, 6.0, 7.0, 8.0, ...   \n",
       "\n",
       "                 mPFC_RMS_filtered_power_frequencies  \n",
       "0  [0.0, 1.0, 2.0, 3.0, 4.0, 5.0, 6.0, 7.0, 8.0, ...  \n",
       "1  [0.0, 1.0, 2.0, 3.0, 4.0, 5.0, 6.0, 7.0, 8.0, ...  \n",
       "2  [0.0, 1.0, 2.0, 3.0, 4.0, 5.0, 6.0, 7.0, 8.0, ...  \n",
       "3  [0.0, 1.0, 2.0, 3.0, 4.0, 5.0, 6.0, 7.0, 8.0, ...  \n",
       "4  [0.0, 1.0, 2.0, 3.0, 4.0, 5.0, 6.0, 7.0, 8.0, ...  "
      ]
     },
     "execution_count": 50,
     "metadata": {},
     "output_type": "execute_result"
    }
   ],
   "source": [
    "LFP_TRACES_DF[[col for col in LFP_TRACES_DF.columns if \"power_frequencies\" in col]].head()"
   ]
  },
  {
   "cell_type": "code",
   "execution_count": 51,
   "metadata": {},
   "outputs": [],
   "source": [
    "LFP_TRACES_DF[\"power_calculation_frequencies\"] = LFP_TRACES_DF[[col for col in LFP_TRACES_DF.columns if \"power_frequencies\" in col][0]].copy()"
   ]
  },
  {
   "cell_type": "markdown",
   "metadata": {},
   "source": [
    "- Dropping unnecessary columns"
   ]
  },
  {
   "cell_type": "code",
   "execution_count": 52,
   "metadata": {
    "tags": []
   },
   "outputs": [],
   "source": [
    "LFP_TRACES_DF = LFP_TRACES_DF.drop(columns=[col for col in LFP_TRACES_DF.columns if \"power_frequencies\" in col], errors=\"ignore\")"
   ]
  },
  {
   "cell_type": "code",
   "execution_count": 53,
   "metadata": {
    "tags": []
   },
   "outputs": [
    {
     "data": {
      "text/html": [
       "<div>\n",
       "<style scoped>\n",
       "    .dataframe tbody tr th:only-of-type {\n",
       "        vertical-align: middle;\n",
       "    }\n",
       "\n",
       "    .dataframe tbody tr th {\n",
       "        vertical-align: top;\n",
       "    }\n",
       "\n",
       "    .dataframe thead th {\n",
       "        text-align: right;\n",
       "    }\n",
       "</style>\n",
       "<table border=\"1\" class=\"dataframe\">\n",
       "  <thead>\n",
       "    <tr style=\"text-align: right;\">\n",
       "      <th></th>\n",
       "      <th>cohort</th>\n",
       "      <th>session_dir</th>\n",
       "      <th>tone_frames</th>\n",
       "      <th>box_1_port_entry_frames</th>\n",
       "      <th>box_2_port_entry_frames</th>\n",
       "      <th>video_name</th>\n",
       "      <th>notes</th>\n",
       "      <th>session_path</th>\n",
       "      <th>recording</th>\n",
       "      <th>current_subject</th>\n",
       "      <th>...</th>\n",
       "      <th>LH_lfp_RMS_filtered</th>\n",
       "      <th>MD_lfp_RMS_filtered</th>\n",
       "      <th>mPFC_lfp_RMS_filtered</th>\n",
       "      <th>vHPC_RMS_filtered_power_all_frequencies_all_windows</th>\n",
       "      <th>BLA_RMS_filtered_power_all_frequencies_all_windows</th>\n",
       "      <th>LH_RMS_filtered_power_all_frequencies_all_windows</th>\n",
       "      <th>MD_RMS_filtered_power_all_frequencies_all_windows</th>\n",
       "      <th>mPFC_RMS_filtered_power_all_frequencies_all_windows</th>\n",
       "      <th>power_timestamps</th>\n",
       "      <th>power_calculation_frequencies</th>\n",
       "    </tr>\n",
       "  </thead>\n",
       "  <tbody>\n",
       "    <tr>\n",
       "      <th>0</th>\n",
       "      <td>NaN</td>\n",
       "      <td>20240320_142408_alone_comp_subj_3-1_and_3-3</td>\n",
       "      <td>[[0, 74], [1272, 1471], [3268, 3469], [4466, 4...</td>\n",
       "      <td>[[0, 74], [152, 157], [252, 305], [305, 323], ...</td>\n",
       "      <td>[[0, 74], [160, 225], [254, 257], [257, 279], ...</td>\n",
       "      <td>20240320_142408_alone_comp_subj_3-1_and_3-3.1....</td>\n",
       "      <td>NaN</td>\n",
       "      <td>/scratch/back_up/reward_competition_extention/...</td>\n",
       "      <td>20240320_142408_alone_comp_subj_3-1_t6b6_merged</td>\n",
       "      <td>3.1</td>\n",
       "      <td>...</td>\n",
       "      <td>[0.628, 1.097, 0.955, 0.445, 0.847, 0.957, 0.8...</td>\n",
       "      <td>[0.652, 1.006, 0.84, 0.506, 1.0, 1.042, 0.757,...</td>\n",
       "      <td>[0.736, 1.267, 1.2, 0.878, 1.413, 1.338, 1.082...</td>\n",
       "      <td>[[0.02512, 0.0261, 0.02692, 0.00785, 0.004463,...</td>\n",
       "      <td>[[0.008224, 0.011826, 0.0124, 0.00541, 0.00406...</td>\n",
       "      <td>[[0.01274, 0.01656, 0.01614, 0.00654, 0.004974...</td>\n",
       "      <td>[[0.007378, 0.0123, 0.01349, 0.00665, 0.005016...</td>\n",
       "      <td>[[0.01654, 0.01999, 0.01736, 0.00589, 0.00537,...</td>\n",
       "      <td>[10000, 20000, 30000, 40000, 50000, 60000, 700...</td>\n",
       "      <td>[0.0, 1.0, 2.0, 3.0, 4.0, 5.0, 6.0, 7.0, 8.0, ...</td>\n",
       "    </tr>\n",
       "    <tr>\n",
       "      <th>1</th>\n",
       "      <td>NaN</td>\n",
       "      <td>20240320_142408_alone_comp_subj_3-1_and_3-3</td>\n",
       "      <td>[[0, 75], [1273, 1472], [3269, 3470], [4467, 4...</td>\n",
       "      <td>[[0, 75], [153, 158], [252, 306], [306, 324], ...</td>\n",
       "      <td>[[0, 75], [161, 226], [255, 258], [258, 280], ...</td>\n",
       "      <td>20240320_142408_alone_comp_subj_3-1_and_3-3.2....</td>\n",
       "      <td>NaN</td>\n",
       "      <td>/scratch/back_up/reward_competition_extention/...</td>\n",
       "      <td>20240320_142408_alone_comp_subj_3-1_t6b6_merged</td>\n",
       "      <td>3.1</td>\n",
       "      <td>...</td>\n",
       "      <td>[0.628, 1.097, 0.955, 0.445, 0.847, 0.957, 0.8...</td>\n",
       "      <td>[0.652, 1.006, 0.84, 0.506, 1.0, 1.042, 0.757,...</td>\n",
       "      <td>[0.736, 1.267, 1.2, 0.878, 1.413, 1.338, 1.082...</td>\n",
       "      <td>[[0.02512, 0.0261, 0.02692, 0.00785, 0.004463,...</td>\n",
       "      <td>[[0.008224, 0.011826, 0.0124, 0.00541, 0.00406...</td>\n",
       "      <td>[[0.01274, 0.01656, 0.01614, 0.00654, 0.004974...</td>\n",
       "      <td>[[0.007378, 0.0123, 0.01349, 0.00665, 0.005016...</td>\n",
       "      <td>[[0.01654, 0.01999, 0.01736, 0.00589, 0.00537,...</td>\n",
       "      <td>[10000, 20000, 30000, 40000, 50000, 60000, 700...</td>\n",
       "      <td>[0.0, 1.0, 2.0, 3.0, 4.0, 5.0, 6.0, 7.0, 8.0, ...</td>\n",
       "    </tr>\n",
       "    <tr>\n",
       "      <th>2</th>\n",
       "      <td>NaN</td>\n",
       "      <td>20240320_142408_alone_comp_subj_3-1_and_3-3</td>\n",
       "      <td>[[0, 74], [1272, 1471], [3268, 3469], [4466, 4...</td>\n",
       "      <td>[[0, 74], [152, 157], [252, 305], [305, 323], ...</td>\n",
       "      <td>[[0, 74], [160, 225], [254, 257], [257, 279], ...</td>\n",
       "      <td>20240320_142408_alone_comp_subj_3-1_and_3-3.1....</td>\n",
       "      <td>NaN</td>\n",
       "      <td>/scratch/back_up/reward_competition_extention/...</td>\n",
       "      <td>20240320_142408_alone_comp_subj_3-3_t5b5_merged</td>\n",
       "      <td>3.3</td>\n",
       "      <td>...</td>\n",
       "      <td>[0.0, 0.189, 0.445, 0.469, 0.469, 0.623, 0.701...</td>\n",
       "      <td>[0.022, 0.254, 0.451, 0.441, 0.534, 0.656, 0.6...</td>\n",
       "      <td>[-0.254, -0.131, 0.018, 0.074, 0.186, 0.423, 0...</td>\n",
       "      <td>[[0.001297, 0.0183, 0.0182, 0.01605, 0.006317,...</td>\n",
       "      <td>[[0.00703, 0.02872, 0.02641, 0.01648, 0.00547,...</td>\n",
       "      <td>[[0.003872, 0.02621, 0.02477, 0.01805, 0.00580...</td>\n",
       "      <td>[[0.00937, 0.0324, 0.0291, 0.01663, 0.00514, 0...</td>\n",
       "      <td>[[0.002625, 0.02373, 0.02347, 0.01898, 0.00757...</td>\n",
       "      <td>[10000, 20000, 30000, 40000, 50000, 60000, 700...</td>\n",
       "      <td>[0.0, 1.0, 2.0, 3.0, 4.0, 5.0, 6.0, 7.0, 8.0, ...</td>\n",
       "    </tr>\n",
       "    <tr>\n",
       "      <th>3</th>\n",
       "      <td>NaN</td>\n",
       "      <td>20240320_142408_alone_comp_subj_3-1_and_3-3</td>\n",
       "      <td>[[0, 75], [1273, 1472], [3269, 3470], [4467, 4...</td>\n",
       "      <td>[[0, 75], [153, 158], [252, 306], [306, 324], ...</td>\n",
       "      <td>[[0, 75], [161, 226], [255, 258], [258, 280], ...</td>\n",
       "      <td>20240320_142408_alone_comp_subj_3-1_and_3-3.2....</td>\n",
       "      <td>NaN</td>\n",
       "      <td>/scratch/back_up/reward_competition_extention/...</td>\n",
       "      <td>20240320_142408_alone_comp_subj_3-3_t5b5_merged</td>\n",
       "      <td>3.3</td>\n",
       "      <td>...</td>\n",
       "      <td>[0.0, 0.189, 0.445, 0.469, 0.469, 0.623, 0.701...</td>\n",
       "      <td>[0.022, 0.254, 0.451, 0.441, 0.534, 0.656, 0.6...</td>\n",
       "      <td>[-0.254, -0.131, 0.018, 0.074, 0.186, 0.423, 0...</td>\n",
       "      <td>[[0.001297, 0.0183, 0.0182, 0.01605, 0.006317,...</td>\n",
       "      <td>[[0.00703, 0.02872, 0.02641, 0.01648, 0.00547,...</td>\n",
       "      <td>[[0.003872, 0.02621, 0.02477, 0.01805, 0.00580...</td>\n",
       "      <td>[[0.00937, 0.0324, 0.0291, 0.01663, 0.00514, 0...</td>\n",
       "      <td>[[0.002625, 0.02373, 0.02347, 0.01898, 0.00757...</td>\n",
       "      <td>[10000, 20000, 30000, 40000, 50000, 60000, 700...</td>\n",
       "      <td>[0.0, 1.0, 2.0, 3.0, 4.0, 5.0, 6.0, 7.0, 8.0, ...</td>\n",
       "    </tr>\n",
       "    <tr>\n",
       "      <th>4</th>\n",
       "      <td>NaN</td>\n",
       "      <td>20240320_171038_alone_comp_subj_4-2_and_4-3</td>\n",
       "      <td>[[0, 79], [1276, 1477], [3272, 3473], [4470, 4...</td>\n",
       "      <td>[[0, 79], [84, 92], [92, 132], [145, 175], [25...</td>\n",
       "      <td>[[0, 79], [79, 186], [188, 191], [191, 268], [...</td>\n",
       "      <td>20240320_171038_alone_comp_subj_4-2_and_4-3.1....</td>\n",
       "      <td>NaN</td>\n",
       "      <td>/scratch/back_up/reward_competition_extention/...</td>\n",
       "      <td>20240320_171038_alone_comp_subj_4-2_t6b6_merged</td>\n",
       "      <td>4.2</td>\n",
       "      <td>...</td>\n",
       "      <td>[-0.203, -0.794, -1.076, -0.958, -1.391, -1.71...</td>\n",
       "      <td>[0.071, -0.488, -0.772, -0.703, -1.223, -1.67,...</td>\n",
       "      <td>[0.008, -0.452, -0.674, -0.703, -1.224, -1.56,...</td>\n",
       "      <td>[[nan, nan, nan, nan, nan, nan, nan, nan, nan,...</td>\n",
       "      <td>[[nan, nan, nan, nan, nan, nan, nan, nan, nan,...</td>\n",
       "      <td>[[nan, nan, nan, nan, nan, nan, nan, nan, nan,...</td>\n",
       "      <td>[[nan, nan, nan, nan, nan, nan, nan, nan, nan,...</td>\n",
       "      <td>[[nan, nan, nan, nan, nan, nan, nan, nan, nan,...</td>\n",
       "      <td>[10000, 20000, 30000, 40000, 50000, 60000, 700...</td>\n",
       "      <td>[0.0, 1.0, 2.0, 3.0, 4.0, 5.0, 6.0, 7.0, 8.0, ...</td>\n",
       "    </tr>\n",
       "  </tbody>\n",
       "</table>\n",
       "<p>5 rows × 61 columns</p>\n",
       "</div>"
      ],
      "text/plain": [
       "   cohort                                  session_dir  \\\n",
       "0     NaN  20240320_142408_alone_comp_subj_3-1_and_3-3   \n",
       "1     NaN  20240320_142408_alone_comp_subj_3-1_and_3-3   \n",
       "2     NaN  20240320_142408_alone_comp_subj_3-1_and_3-3   \n",
       "3     NaN  20240320_142408_alone_comp_subj_3-1_and_3-3   \n",
       "4     NaN  20240320_171038_alone_comp_subj_4-2_and_4-3   \n",
       "\n",
       "                                         tone_frames  \\\n",
       "0  [[0, 74], [1272, 1471], [3268, 3469], [4466, 4...   \n",
       "1  [[0, 75], [1273, 1472], [3269, 3470], [4467, 4...   \n",
       "2  [[0, 74], [1272, 1471], [3268, 3469], [4466, 4...   \n",
       "3  [[0, 75], [1273, 1472], [3269, 3470], [4467, 4...   \n",
       "4  [[0, 79], [1276, 1477], [3272, 3473], [4470, 4...   \n",
       "\n",
       "                             box_1_port_entry_frames  \\\n",
       "0  [[0, 74], [152, 157], [252, 305], [305, 323], ...   \n",
       "1  [[0, 75], [153, 158], [252, 306], [306, 324], ...   \n",
       "2  [[0, 74], [152, 157], [252, 305], [305, 323], ...   \n",
       "3  [[0, 75], [153, 158], [252, 306], [306, 324], ...   \n",
       "4  [[0, 79], [84, 92], [92, 132], [145, 175], [25...   \n",
       "\n",
       "                             box_2_port_entry_frames  \\\n",
       "0  [[0, 74], [160, 225], [254, 257], [257, 279], ...   \n",
       "1  [[0, 75], [161, 226], [255, 258], [258, 280], ...   \n",
       "2  [[0, 74], [160, 225], [254, 257], [257, 279], ...   \n",
       "3  [[0, 75], [161, 226], [255, 258], [258, 280], ...   \n",
       "4  [[0, 79], [79, 186], [188, 191], [191, 268], [...   \n",
       "\n",
       "                                          video_name notes  \\\n",
       "0  20240320_142408_alone_comp_subj_3-1_and_3-3.1....   NaN   \n",
       "1  20240320_142408_alone_comp_subj_3-1_and_3-3.2....   NaN   \n",
       "2  20240320_142408_alone_comp_subj_3-1_and_3-3.1....   NaN   \n",
       "3  20240320_142408_alone_comp_subj_3-1_and_3-3.2....   NaN   \n",
       "4  20240320_171038_alone_comp_subj_4-2_and_4-3.1....   NaN   \n",
       "\n",
       "                                        session_path  \\\n",
       "0  /scratch/back_up/reward_competition_extention/...   \n",
       "1  /scratch/back_up/reward_competition_extention/...   \n",
       "2  /scratch/back_up/reward_competition_extention/...   \n",
       "3  /scratch/back_up/reward_competition_extention/...   \n",
       "4  /scratch/back_up/reward_competition_extention/...   \n",
       "\n",
       "                                         recording current_subject  ...  \\\n",
       "0  20240320_142408_alone_comp_subj_3-1_t6b6_merged             3.1  ...   \n",
       "1  20240320_142408_alone_comp_subj_3-1_t6b6_merged             3.1  ...   \n",
       "2  20240320_142408_alone_comp_subj_3-3_t5b5_merged             3.3  ...   \n",
       "3  20240320_142408_alone_comp_subj_3-3_t5b5_merged             3.3  ...   \n",
       "4  20240320_171038_alone_comp_subj_4-2_t6b6_merged             4.2  ...   \n",
       "\n",
       "                                 LH_lfp_RMS_filtered  \\\n",
       "0  [0.628, 1.097, 0.955, 0.445, 0.847, 0.957, 0.8...   \n",
       "1  [0.628, 1.097, 0.955, 0.445, 0.847, 0.957, 0.8...   \n",
       "2  [0.0, 0.189, 0.445, 0.469, 0.469, 0.623, 0.701...   \n",
       "3  [0.0, 0.189, 0.445, 0.469, 0.469, 0.623, 0.701...   \n",
       "4  [-0.203, -0.794, -1.076, -0.958, -1.391, -1.71...   \n",
       "\n",
       "                                 MD_lfp_RMS_filtered  \\\n",
       "0  [0.652, 1.006, 0.84, 0.506, 1.0, 1.042, 0.757,...   \n",
       "1  [0.652, 1.006, 0.84, 0.506, 1.0, 1.042, 0.757,...   \n",
       "2  [0.022, 0.254, 0.451, 0.441, 0.534, 0.656, 0.6...   \n",
       "3  [0.022, 0.254, 0.451, 0.441, 0.534, 0.656, 0.6...   \n",
       "4  [0.071, -0.488, -0.772, -0.703, -1.223, -1.67,...   \n",
       "\n",
       "                               mPFC_lfp_RMS_filtered  \\\n",
       "0  [0.736, 1.267, 1.2, 0.878, 1.413, 1.338, 1.082...   \n",
       "1  [0.736, 1.267, 1.2, 0.878, 1.413, 1.338, 1.082...   \n",
       "2  [-0.254, -0.131, 0.018, 0.074, 0.186, 0.423, 0...   \n",
       "3  [-0.254, -0.131, 0.018, 0.074, 0.186, 0.423, 0...   \n",
       "4  [0.008, -0.452, -0.674, -0.703, -1.224, -1.56,...   \n",
       "\n",
       "   vHPC_RMS_filtered_power_all_frequencies_all_windows  \\\n",
       "0  [[0.02512, 0.0261, 0.02692, 0.00785, 0.004463,...     \n",
       "1  [[0.02512, 0.0261, 0.02692, 0.00785, 0.004463,...     \n",
       "2  [[0.001297, 0.0183, 0.0182, 0.01605, 0.006317,...     \n",
       "3  [[0.001297, 0.0183, 0.0182, 0.01605, 0.006317,...     \n",
       "4  [[nan, nan, nan, nan, nan, nan, nan, nan, nan,...     \n",
       "\n",
       "  BLA_RMS_filtered_power_all_frequencies_all_windows  \\\n",
       "0  [[0.008224, 0.011826, 0.0124, 0.00541, 0.00406...   \n",
       "1  [[0.008224, 0.011826, 0.0124, 0.00541, 0.00406...   \n",
       "2  [[0.00703, 0.02872, 0.02641, 0.01648, 0.00547,...   \n",
       "3  [[0.00703, 0.02872, 0.02641, 0.01648, 0.00547,...   \n",
       "4  [[nan, nan, nan, nan, nan, nan, nan, nan, nan,...   \n",
       "\n",
       "   LH_RMS_filtered_power_all_frequencies_all_windows  \\\n",
       "0  [[0.01274, 0.01656, 0.01614, 0.00654, 0.004974...   \n",
       "1  [[0.01274, 0.01656, 0.01614, 0.00654, 0.004974...   \n",
       "2  [[0.003872, 0.02621, 0.02477, 0.01805, 0.00580...   \n",
       "3  [[0.003872, 0.02621, 0.02477, 0.01805, 0.00580...   \n",
       "4  [[nan, nan, nan, nan, nan, nan, nan, nan, nan,...   \n",
       "\n",
       "   MD_RMS_filtered_power_all_frequencies_all_windows  \\\n",
       "0  [[0.007378, 0.0123, 0.01349, 0.00665, 0.005016...   \n",
       "1  [[0.007378, 0.0123, 0.01349, 0.00665, 0.005016...   \n",
       "2  [[0.00937, 0.0324, 0.0291, 0.01663, 0.00514, 0...   \n",
       "3  [[0.00937, 0.0324, 0.0291, 0.01663, 0.00514, 0...   \n",
       "4  [[nan, nan, nan, nan, nan, nan, nan, nan, nan,...   \n",
       "\n",
       "  mPFC_RMS_filtered_power_all_frequencies_all_windows  \\\n",
       "0  [[0.01654, 0.01999, 0.01736, 0.00589, 0.00537,...    \n",
       "1  [[0.01654, 0.01999, 0.01736, 0.00589, 0.00537,...    \n",
       "2  [[0.002625, 0.02373, 0.02347, 0.01898, 0.00757...    \n",
       "3  [[0.002625, 0.02373, 0.02347, 0.01898, 0.00757...    \n",
       "4  [[nan, nan, nan, nan, nan, nan, nan, nan, nan,...    \n",
       "\n",
       "                                    power_timestamps  \\\n",
       "0  [10000, 20000, 30000, 40000, 50000, 60000, 700...   \n",
       "1  [10000, 20000, 30000, 40000, 50000, 60000, 700...   \n",
       "2  [10000, 20000, 30000, 40000, 50000, 60000, 700...   \n",
       "3  [10000, 20000, 30000, 40000, 50000, 60000, 700...   \n",
       "4  [10000, 20000, 30000, 40000, 50000, 60000, 700...   \n",
       "\n",
       "                       power_calculation_frequencies  \n",
       "0  [0.0, 1.0, 2.0, 3.0, 4.0, 5.0, 6.0, 7.0, 8.0, ...  \n",
       "1  [0.0, 1.0, 2.0, 3.0, 4.0, 5.0, 6.0, 7.0, 8.0, ...  \n",
       "2  [0.0, 1.0, 2.0, 3.0, 4.0, 5.0, 6.0, 7.0, 8.0, ...  \n",
       "3  [0.0, 1.0, 2.0, 3.0, 4.0, 5.0, 6.0, 7.0, 8.0, ...  \n",
       "4  [0.0, 1.0, 2.0, 3.0, 4.0, 5.0, 6.0, 7.0, 8.0, ...  \n",
       "\n",
       "[5 rows x 61 columns]"
      ]
     },
     "execution_count": 53,
     "metadata": {},
     "output_type": "execute_result"
    }
   ],
   "source": [
    "LFP_TRACES_DF.head()"
   ]
  },
  {
   "cell_type": "code",
   "execution_count": 54,
   "metadata": {
    "tags": []
   },
   "outputs": [
    {
     "data": {
      "text/plain": [
       "0    [[0.01654, 0.01999, 0.01736, 0.00589, 0.00537,...\n",
       "1    [[0.01654, 0.01999, 0.01736, 0.00589, 0.00537,...\n",
       "2    [[0.002625, 0.02373, 0.02347, 0.01898, 0.00757...\n",
       "3    [[0.002625, 0.02373, 0.02347, 0.01898, 0.00757...\n",
       "4    [[nan, nan, nan, nan, nan, nan, nan, nan, nan,...\n",
       "Name: mPFC_RMS_filtered_power_all_frequencies_all_windows, dtype: object"
      ]
     },
     "execution_count": 54,
     "metadata": {},
     "output_type": "execute_result"
    }
   ],
   "source": [
    "LFP_TRACES_DF[\"mPFC_RMS_filtered_power_all_frequencies_all_windows\"].head()"
   ]
  },
  {
   "cell_type": "code",
   "execution_count": 55,
   "metadata": {
    "tags": []
   },
   "outputs": [
    {
     "data": {
      "text/plain": [
       "(6437, 500)"
      ]
     },
     "execution_count": 55,
     "metadata": {},
     "output_type": "execute_result"
    }
   ],
   "source": [
    "LFP_TRACES_DF[\"mPFC_RMS_filtered_power_all_frequencies_all_windows\"].iloc[4].shape"
   ]
  },
  {
   "cell_type": "code",
   "execution_count": 56,
   "metadata": {
    "tags": []
   },
   "outputs": [
    {
     "data": {
      "text/plain": [
       "0    [0.736, 1.267, 1.2, 0.878, 1.413, 1.338, 1.082...\n",
       "1    [0.736, 1.267, 1.2, 0.878, 1.413, 1.338, 1.082...\n",
       "2    [-0.254, -0.131, 0.018, 0.074, 0.186, 0.423, 0...\n",
       "3    [-0.254, -0.131, 0.018, 0.074, 0.186, 0.423, 0...\n",
       "4    [0.008, -0.452, -0.674, -0.703, -1.224, -1.56,...\n",
       "Name: mPFC_lfp_RMS_filtered, dtype: object"
      ]
     },
     "execution_count": 56,
     "metadata": {},
     "output_type": "execute_result"
    }
   ],
   "source": [
    "LFP_TRACES_DF[\"mPFC_lfp_RMS_filtered\"].head()"
   ]
  },
  {
   "cell_type": "code",
   "execution_count": 57,
   "metadata": {
    "tags": []
   },
   "outputs": [
    {
     "data": {
      "text/plain": [
       "[<matplotlib.lines.Line2D at 0x7f74b434e160>]"
      ]
     },
     "execution_count": 57,
     "metadata": {},
     "output_type": "execute_result"
    },
    {
     "data": {
      "image/png": "[encoded data removed]",
      "text/plain": [
       "<Figure size 640x480 with 1 Axes>"
      ]
     },
     "metadata": {},
     "output_type": "display_data"
    }
   ],
   "source": [
    "plt.plot(LFP_TRACES_DF[\"BLA_lfp_trace\"].iloc[0])"
   ]
  },
  {
   "cell_type": "code",
   "execution_count": 58,
   "metadata": {
    "tags": []
   },
   "outputs": [
    {
     "data": {
      "text/plain": [
       "[<matplotlib.lines.Line2D at 0x7f74babd06a0>]"
      ]
     },
     "execution_count": 58,
     "metadata": {},
     "output_type": "execute_result"
    },
    {
     "data": {
      "image/png": "[encoded data removed]",
      "text/plain": [
       "<Figure size 640x480 with 1 Axes>"
      ]
     },
     "metadata": {},
     "output_type": "display_data"
    }
   ],
   "source": [
    "plt.plot(LFP_TRACES_DF[\"BLA_lfp_RMS\"].iloc[0])"
   ]
  },
  {
   "cell_type": "code",
   "execution_count": 59,
   "metadata": {
    "tags": []
   },
   "outputs": [
    {
     "data": {
      "text/plain": [
       "[<matplotlib.lines.Line2D at 0x7f74b420e3d0>]"
      ]
     },
     "execution_count": 59,
     "metadata": {},
     "output_type": "execute_result"
    },
    {
     "data": {
      "image/png": "[encoded data removed]",
      "text/plain": [
       "<Figure size 640x480 with 1 Axes>"
      ]
     },
     "metadata": {},
     "output_type": "display_data"
    }
   ],
   "source": [
    "plt.plot(LFP_TRACES_DF[\"BLA_lfp_RMS_filtered\"].iloc[0])"
   ]
  },
  {
   "cell_type": "code",
   "execution_count": null,
   "metadata": {},
   "outputs": [],
   "source": []
  },
  {
   "cell_type": "markdown",
   "metadata": {},
   "source": [
    "## Calculating phase of signals"
   ]
  },
  {
   "cell_type": "code",
   "execution_count": 60,
   "metadata": {},
   "outputs": [],
   "source": [
    "from scipy.signal import butter, filtfilt, hilbert"
   ]
  },
  {
   "cell_type": "markdown",
   "metadata": {},
   "source": [
    "- Filtering for theta and gamma"
   ]
  },
  {
   "cell_type": "code",
   "execution_count": 61,
   "metadata": {},
   "outputs": [],
   "source": [
    "RMS_columns = [col for col in LFP_TRACES_DF if \"RMS\" in col and \"filtered\" not in col]"
   ]
  },
  {
   "cell_type": "code",
   "execution_count": 62,
   "metadata": {},
   "outputs": [],
   "source": [
    "fs = 1000\n",
    "order=4"
   ]
  },
  {
   "cell_type": "code",
   "execution_count": 63,
   "metadata": {},
   "outputs": [],
   "source": [
    "freq_band = [4, 12]\n",
    "b, a = butter(order, freq_band, fs=fs, btype='band')"
   ]
  },
  {
   "cell_type": "code",
   "execution_count": 64,
   "metadata": {},
   "outputs": [
    {
     "name": "stdout",
     "output_type": "stream",
     "text": [
      "vHPC_lfp_RMS\n",
      "BLA_lfp_RMS\n",
      "LH_lfp_RMS\n",
      "MD_lfp_RMS\n",
      "mPFC_lfp_RMS\n"
     ]
    }
   ],
   "source": [
    "for col in RMS_columns:\n",
    "    print(col)\n",
    "    brain_region = col.split(\"_\")[0]\n",
    "    updated_column = \"{}_theta_band\".format(brain_region)\n",
    "    LFP_TRACES_DF[updated_column] = LFP_TRACES_DF[col].apply(lambda x: filtfilt(b, a, x, padtype=None).astype(np.float32))"
   ]
  },
  {
   "cell_type": "code",
   "execution_count": 65,
   "metadata": {},
   "outputs": [],
   "source": [
    "freq_band = [30, 50]\n",
    "b, a = butter(order, freq_band, fs=fs, btype='band')"
   ]
  },
  {
   "cell_type": "code",
   "execution_count": 66,
   "metadata": {},
   "outputs": [
    {
     "name": "stdout",
     "output_type": "stream",
     "text": [
      "vHPC_lfp_RMS\n",
      "BLA_lfp_RMS\n",
      "LH_lfp_RMS\n",
      "MD_lfp_RMS\n",
      "mPFC_lfp_RMS\n"
     ]
    }
   ],
   "source": [
    "for col in RMS_columns:\n",
    "    print(col)\n",
    "    brain_region = col.split(\"_\")[0]\n",
    "    updated_column = \"{}_gamma_band\".format(brain_region)\n",
    "    LFP_TRACES_DF[updated_column] = LFP_TRACES_DF[col].apply(lambda x: filtfilt(b, a, x, padtype=None).astype(np.float32))"
   ]
  },
  {
   "cell_type": "markdown",
   "metadata": {},
   "source": [
    "- Calculating the phase"
   ]
  },
  {
   "cell_type": "code",
   "execution_count": 67,
   "metadata": {},
   "outputs": [],
   "source": [
    "band_columns = [col for col in LFP_TRACES_DF if \"band\" in col]"
   ]
  },
  {
   "cell_type": "code",
   "execution_count": 68,
   "metadata": {},
   "outputs": [
    {
     "data": {
      "text/plain": [
       "['vHPC_theta_band',\n",
       " 'BLA_theta_band',\n",
       " 'LH_theta_band',\n",
       " 'MD_theta_band',\n",
       " 'mPFC_theta_band',\n",
       " 'vHPC_gamma_band',\n",
       " 'BLA_gamma_band',\n",
       " 'LH_gamma_band',\n",
       " 'MD_gamma_band',\n",
       " 'mPFC_gamma_band']"
      ]
     },
     "execution_count": 68,
     "metadata": {},
     "output_type": "execute_result"
    }
   ],
   "source": [
    "band_columns"
   ]
  },
  {
   "cell_type": "code",
   "execution_count": 69,
   "metadata": {},
   "outputs": [
    {
     "name": "stdout",
     "output_type": "stream",
     "text": [
      "vHPC_theta_band\n",
      "vHPC_theta_phase\n",
      "BLA_theta_band\n",
      "BLA_theta_phase\n",
      "LH_theta_band\n",
      "LH_theta_phase\n",
      "MD_theta_band\n",
      "MD_theta_phase\n",
      "mPFC_theta_band\n",
      "mPFC_theta_phase\n",
      "vHPC_gamma_band\n",
      "vHPC_gamma_phase\n",
      "BLA_gamma_band\n",
      "BLA_gamma_phase\n",
      "LH_gamma_band\n",
      "LH_gamma_phase\n",
      "MD_gamma_band\n",
      "MD_gamma_phase\n",
      "mPFC_gamma_band\n",
      "mPFC_gamma_phase\n"
     ]
    }
   ],
   "source": [
    "for col in band_columns:\n",
    "    print(col)\n",
    "    brain_region = col.replace(\"_band\", \"\")\n",
    "    updated_column = \"{}_phase\".format(brain_region)\n",
    "    print(updated_column)\n",
    "    LFP_TRACES_DF[updated_column] = LFP_TRACES_DF[col].apply(lambda x: np.angle(hilbert(x), deg=False))"
   ]
  },
  {
   "cell_type": "code",
   "execution_count": 70,
   "metadata": {},
   "outputs": [
    {
     "data": {
      "text/plain": [
       "0     [-0.073652945, -0.027648753, 0.023473203, 0.07...\n",
       "1     [-0.073652945, -0.027648753, 0.023473203, 0.07...\n",
       "2     [-0.10603527, -0.11340957, -0.11593773, -0.113...\n",
       "3     [-0.10603527, -0.11340957, -0.11593773, -0.113...\n",
       "4     [-0.060700476, -0.11583101, -0.16058828, -0.19...\n",
       "5     [-0.060700476, -0.11583101, -0.16058828, -0.19...\n",
       "6     [0.10086174, 0.10749034, 0.10687582, 0.0987401...\n",
       "7     [0.10086174, 0.10749034, 0.10687582, 0.0987401...\n",
       "8     [0.0702091, 0.05466633, 0.03668893, 0.01727806...\n",
       "9     [0.0702091, 0.05466633, 0.03668893, 0.01727806...\n",
       "10    [-0.35048875, -0.32354048, -0.27675727, -0.212...\n",
       "11    [-0.35048875, -0.32354048, -0.27675727, -0.212...\n",
       "12    [-0.1007646, -0.08146265, -0.05295461, -0.0165...\n",
       "13    [-0.1007646, -0.08146265, -0.05295461, -0.0165...\n",
       "14    [-0.1857664, -0.120168306, -0.04169256, 0.0444...\n",
       "15    [-0.1857664, -0.120168306, -0.04169256, 0.0444...\n",
       "16    [-0.25569814, -0.21503006, -0.15813461, -0.088...\n",
       "17    [-0.25569814, -0.21503006, -0.15813461, -0.088...\n",
       "18    [-0.15970245, -0.19902146, -0.22785495, -0.244...\n",
       "19    [-0.15970245, -0.19902146, -0.22785495, -0.244...\n",
       "20    [0.10209437, 0.17158128, 0.23625568, 0.2907263...\n",
       "21    [0.10209437, 0.17158128, 0.23625568, 0.2907263...\n",
       "22    [-0.15952645, -0.15435402, -0.13609506, -0.105...\n",
       "23    [-0.15952645, -0.15435402, -0.13609506, -0.105...\n",
       "24    [0.12005038, 0.09877759, 0.068627015, 0.031011...\n",
       "25    [0.12005038, 0.09877759, 0.068627015, 0.031011...\n",
       "26    [0.15926565, 0.1254882, 0.08132471, 0.03040214...\n",
       "27    [0.15926565, 0.1254882, 0.08132471, 0.03040214...\n",
       "Name: mPFC_gamma_band, dtype: object"
      ]
     },
     "execution_count": 70,
     "metadata": {},
     "output_type": "execute_result"
    }
   ],
   "source": [
    "LFP_TRACES_DF[col]"
   ]
  },
  {
   "cell_type": "markdown",
   "metadata": {},
   "source": [
    "## Coherence Calculation"
   ]
  },
  {
   "cell_type": "markdown",
   "metadata": {},
   "source": [
    "- Getting the trace column pairs"
   ]
  },
  {
   "cell_type": "code",
   "execution_count": null,
   "metadata": {},
   "outputs": [],
   "source": []
  },
  {
   "cell_type": "code",
   "execution_count": 71,
   "metadata": {
    "tags": []
   },
   "outputs": [],
   "source": [
    "brain_region_pairs = generate_pairs(sorted(input_columns))\n",
    "brain_region_pairs = sorted(brain_region_pairs)\n"
   ]
  },
  {
   "cell_type": "code",
   "execution_count": 72,
   "metadata": {
    "tags": []
   },
   "outputs": [
    {
     "data": {
      "text/plain": [
       "[('BLA_lfp_RMS_filtered', 'LH_lfp_RMS_filtered'),\n",
       " ('BLA_lfp_RMS_filtered', 'MD_lfp_RMS_filtered'),\n",
       " ('BLA_lfp_RMS_filtered', 'mPFC_lfp_RMS_filtered'),\n",
       " ('BLA_lfp_RMS_filtered', 'vHPC_lfp_RMS_filtered'),\n",
       " ('LH_lfp_RMS_filtered', 'MD_lfp_RMS_filtered'),\n",
       " ('LH_lfp_RMS_filtered', 'mPFC_lfp_RMS_filtered'),\n",
       " ('LH_lfp_RMS_filtered', 'vHPC_lfp_RMS_filtered'),\n",
       " ('MD_lfp_RMS_filtered', 'mPFC_lfp_RMS_filtered'),\n",
       " ('MD_lfp_RMS_filtered', 'vHPC_lfp_RMS_filtered'),\n",
       " ('mPFC_lfp_RMS_filtered', 'vHPC_lfp_RMS_filtered')]"
      ]
     },
     "execution_count": 72,
     "metadata": {},
     "output_type": "execute_result"
    }
   ],
   "source": [
    "brain_region_pairs"
   ]
  },
  {
   "cell_type": "markdown",
   "metadata": {},
   "source": [
    "## Coherece Calculation"
   ]
  },
  {
   "cell_type": "markdown",
   "metadata": {},
   "source": [
    "- Calculating the coherence"
   ]
  },
  {
   "cell_type": "code",
   "execution_count": 84,
   "metadata": {},
   "outputs": [
    {
     "name": "stdout",
     "output_type": "stream",
     "text": [
      "BLA_LH\n",
      "0\n",
      "1\n",
      "2\n",
      "3\n",
      "4\n",
      "5\n",
      "6\n",
      "7\n",
      "8\n",
      "9\n",
      "Out of memory allocating 608,544,256 bytes (allocated so far: 11,080,341,504 bytes).\n",
      "BLA_MD\n",
      "0\n",
      "1\n",
      "2\n"
     ]
    },
    {
     "ename": "KeyboardInterrupt",
     "evalue": "",
     "output_type": "error",
     "traceback": [
      "\u001b[0;31m---------------------------------------------------------------------------\u001b[0m",
      "\u001b[0;31mKeyboardInterrupt\u001b[0m                         Traceback (most recent call last)",
      "Cell \u001b[0;32mIn[84], line 29\u001b[0m\n\u001b[1;32m     27\u001b[0m     index_to_connectivity[index] \u001b[38;5;241m=\u001b[39m Connectivity\u001b[38;5;241m.\u001b[39mfrom_multitaper(index_to_multitaper[index])\n\u001b[1;32m     28\u001b[0m     index_to_frequencies[index] \u001b[38;5;241m=\u001b[39m index_to_connectivity[index]\u001b[38;5;241m.\u001b[39mfrequencies\n\u001b[0;32m---> 29\u001b[0m     index_to_coherence[index] \u001b[38;5;241m=\u001b[39m \u001b[43mindex_to_connectivity\u001b[49m\u001b[43m[\u001b[49m\u001b[43mindex\u001b[49m\u001b[43m]\u001b[49m\u001b[38;5;241;43m.\u001b[39;49m\u001b[43mcoherence_magnitude\u001b[49m\u001b[43m(\u001b[49m\u001b[43m)\u001b[49m[:,:,\u001b[38;5;241m0\u001b[39m,\u001b[38;5;241m1\u001b[39m]\n\u001b[1;32m     31\u001b[0m LFP_TRACES_DF[frequencies_col] \u001b[38;5;241m=\u001b[39m LFP_TRACES_DF\u001b[38;5;241m.\u001b[39mindex\u001b[38;5;241m.\u001b[39mto_series()\u001b[38;5;241m.\u001b[39mmap(index_to_frequencies)\n\u001b[1;32m     32\u001b[0m LFP_TRACES_DF[coherence_col] \u001b[38;5;241m=\u001b[39m LFP_TRACES_DF\u001b[38;5;241m.\u001b[39mindex\u001b[38;5;241m.\u001b[39mto_series()\u001b[38;5;241m.\u001b[39mmap(index_to_coherence)\n",
      "File \u001b[0;32m~/miniforge3/envs/mountainsort_0_5_6/lib/python3.9/site-packages/spectral_connectivity/connectivity.py:64\u001b[0m, in \u001b[0;36m_asnumpy.<locals>.wrapper\u001b[0;34m(*args, **kwargs)\u001b[0m\n\u001b[1;32m     62\u001b[0m \u001b[38;5;28;01mif\u001b[39;00m measure \u001b[38;5;129;01mis\u001b[39;00m \u001b[38;5;129;01mnot\u001b[39;00m \u001b[38;5;28;01mNone\u001b[39;00m:\n\u001b[1;32m     63\u001b[0m     \u001b[38;5;28;01mtry\u001b[39;00m:\n\u001b[0;32m---> 64\u001b[0m         \u001b[38;5;28;01mreturn\u001b[39;00m \u001b[43mxp\u001b[49m\u001b[38;5;241;43m.\u001b[39;49m\u001b[43masnumpy\u001b[49m\u001b[43m(\u001b[49m\u001b[43mmeasure\u001b[49m\u001b[43m)\u001b[49m\n\u001b[1;32m     65\u001b[0m     \u001b[38;5;28;01mexcept\u001b[39;00m \u001b[38;5;167;01mAttributeError\u001b[39;00m:\n\u001b[1;32m     66\u001b[0m         \u001b[38;5;28;01mreturn\u001b[39;00m measure\n",
      "File \u001b[0;32m~/miniforge3/envs/mountainsort_0_5_6/lib/python3.9/site-packages/cupy/__init__.py:807\u001b[0m, in \u001b[0;36masnumpy\u001b[0;34m(a, stream, order, out, blocking)\u001b[0m\n\u001b[1;32m    783\u001b[0m \u001b[38;5;250m\u001b[39m\u001b[38;5;124;03m\"\"\"Returns an array on the host memory from an arbitrary source array.\u001b[39;00m\n\u001b[1;32m    784\u001b[0m \n\u001b[1;32m    785\u001b[0m \u001b[38;5;124;03mArgs:\u001b[39;00m\n\u001b[0;32m   (...)\u001b[0m\n\u001b[1;32m    804\u001b[0m \n\u001b[1;32m    805\u001b[0m \u001b[38;5;124;03m\"\"\"\u001b[39;00m\n\u001b[1;32m    806\u001b[0m \u001b[38;5;28;01mif\u001b[39;00m \u001b[38;5;28misinstance\u001b[39m(a, ndarray):\n\u001b[0;32m--> 807\u001b[0m     \u001b[38;5;28;01mreturn\u001b[39;00m \u001b[43ma\u001b[49m\u001b[38;5;241;43m.\u001b[39;49m\u001b[43mget\u001b[49m\u001b[43m(\u001b[49m\u001b[43mstream\u001b[49m\u001b[38;5;241;43m=\u001b[39;49m\u001b[43mstream\u001b[49m\u001b[43m,\u001b[49m\u001b[43m \u001b[49m\u001b[43morder\u001b[49m\u001b[38;5;241;43m=\u001b[39;49m\u001b[43morder\u001b[49m\u001b[43m,\u001b[49m\u001b[43m \u001b[49m\u001b[43mout\u001b[49m\u001b[38;5;241;43m=\u001b[39;49m\u001b[43mout\u001b[49m\u001b[43m,\u001b[49m\u001b[43m \u001b[49m\u001b[43mblocking\u001b[49m\u001b[38;5;241;43m=\u001b[39;49m\u001b[43mblocking\u001b[49m\u001b[43m)\u001b[49m\n\u001b[1;32m    808\u001b[0m \u001b[38;5;28;01melif\u001b[39;00m \u001b[38;5;28mhasattr\u001b[39m(a, \u001b[38;5;124m\"\u001b[39m\u001b[38;5;124m__cuda_array_interface__\u001b[39m\u001b[38;5;124m\"\u001b[39m):\n\u001b[1;32m    809\u001b[0m     \u001b[38;5;28;01mreturn\u001b[39;00m array(a)\u001b[38;5;241m.\u001b[39mget(\n\u001b[1;32m    810\u001b[0m         stream\u001b[38;5;241m=\u001b[39mstream, order\u001b[38;5;241m=\u001b[39morder, out\u001b[38;5;241m=\u001b[39mout, blocking\u001b[38;5;241m=\u001b[39mblocking)\n",
      "\u001b[0;31mKeyboardInterrupt\u001b[0m: "
     ]
    }
   ],
   "source": [
    "for region_1, region_2 in brain_region_pairs:\n",
    "    # Define base name for pair\n",
    "    pair_base_name = f\"{region_1.split('_')[0]}_{region_2.split('_')[0]}\"\n",
    "    print(pair_base_name)\n",
    "\n",
    "    try:\n",
    "        # Define column names\n",
    "        multitaper_col = f\"{pair_base_name}_coherence_multitaper\"\n",
    "        connectivity_col = f\"{pair_base_name}_coherence_connectivity\"\n",
    "        frequencies_col = f\"{pair_base_name}_coherence_frequencies\"\n",
    "        coherence_col = f\"{pair_base_name}_coherence_all_frequencies_all_windows\"\n",
    "\n",
    "        index_to_multitaper = {}\n",
    "        index_to_connectivity = {}\n",
    "        index_to_frequencies = {}\n",
    "        index_to_coherence = {}\n",
    "\n",
    "        for index, row in LFP_TRACES_DF.iterrows():\n",
    "            index_to_multitaper[index] = Multitaper(\n",
    "                time_series=np.array([row[region_1], row[region_2]]).T, \n",
    "                sampling_frequency=RESAMPLE_RATE, \n",
    "                time_halfbandwidth_product=TIME_HALFBANDWIDTH_PRODUCT, \n",
    "                time_window_step=TIME_WINDOW_STEP, \n",
    "                time_window_duration=TIME_WINDOW_DURATION\n",
    "            )\n",
    "            print(index)\n",
    "            index_to_connectivity[index] = Connectivity.from_multitaper(index_to_multitaper[index])\n",
    "            index_to_frequencies[index] = index_to_connectivity[index].frequencies\n",
    "            index_to_coherence[index] = index_to_connectivity[index].coherence_magnitude()[:,:,0,1]\n",
    "\n",
    "        LFP_TRACES_DF[frequencies_col] = LFP_TRACES_DF.index.to_series().map(index_to_frequencies)\n",
    "        LFP_TRACES_DF[coherence_col] = LFP_TRACES_DF.index.to_series().map(index_to_coherence)\n",
    "        LFP_TRACES_DF[coherence_col] = LFP_TRACES_DF[coherence_col].apply(lambda x: x.astype(np.float32))\n",
    "\n",
    "    except Exception as e: \n",
    "        print(e)\n",
    "\n",
    "    # Drop temporary columns\n",
    "    LFP_TRACES_DF = LFP_TRACES_DF.drop(columns=[multitaper_col, connectivity_col], errors=\"ignore\")"
   ]
  },
  {
   "cell_type": "code",
   "execution_count": 73,
   "metadata": {
    "tags": []
   },
   "outputs": [
    {
     "name": "stdout",
     "output_type": "stream",
     "text": [
      "BLA_LH\n",
      "Out of memory allocating 612,576,256 bytes (allocated so far: 11,058,372,096 bytes).\n",
      "BLA_MD\n",
      "Out of memory allocating 612,576,256 bytes (allocated so far: 11,058,372,096 bytes).\n",
      "BLA_mPFC\n",
      "Out of memory allocating 612,576,256 bytes (allocated so far: 11,058,372,096 bytes).\n",
      "BLA_vHPC\n",
      "Out of memory allocating 612,576,256 bytes (allocated so far: 11,058,372,096 bytes).\n",
      "LH_MD\n",
      "Out of memory allocating 612,576,256 bytes (allocated so far: 11,058,372,096 bytes).\n",
      "LH_mPFC\n",
      "Out of memory allocating 612,576,256 bytes (allocated so far: 11,058,372,096 bytes).\n",
      "LH_vHPC\n",
      "Out of memory allocating 612,576,256 bytes (allocated so far: 11,058,372,096 bytes).\n",
      "MD_mPFC\n",
      "Out of memory allocating 612,576,256 bytes (allocated so far: 11,058,372,096 bytes).\n",
      "MD_vHPC\n",
      "Out of memory allocating 612,576,256 bytes (allocated so far: 11,058,372,096 bytes).\n",
      "mPFC_vHPC\n",
      "Out of memory allocating 612,576,256 bytes (allocated so far: 11,058,372,096 bytes).\n"
     ]
    }
   ],
   "source": [
    "for region_1, region_2 in brain_region_pairs:\n",
    "    # Define base name for pair\n",
    "    pair_base_name = f\"{region_1.split('_')[0]}_{region_2.split('_')[0]}\"\n",
    "    print(pair_base_name)\n",
    "\n",
    "    try:\n",
    "        # Define column names\n",
    "        multitaper_col = f\"{pair_base_name}_coherence_multitaper\"\n",
    "        connectivity_col = f\"{pair_base_name}_coherence_connectivity\"\n",
    "        frequencies_col = f\"{pair_base_name}_coherence_frequencies\"\n",
    "        coherence_col = f\"{pair_base_name}_coherence_all_frequencies_all_windows\"\n",
    "\n",
    "        # Apply Multitaper function\n",
    "        LFP_TRACES_DF[multitaper_col] = LFP_TRACES_DF.apply(\n",
    "            lambda x: Multitaper(\n",
    "                time_series=np.array([x[region_1], x[region_2]]).T, \n",
    "                sampling_frequency=RESAMPLE_RATE, \n",
    "                time_halfbandwidth_product=TIME_HALFBANDWIDTH_PRODUCT, \n",
    "                time_window_step=TIME_WINDOW_STEP, \n",
    "                time_window_duration=TIME_WINDOW_DURATION\n",
    "            ), \n",
    "            axis=1\n",
    "        )\n",
    "\n",
    "        # Apply Connectivity function\n",
    "        LFP_TRACES_DF[connectivity_col] = LFP_TRACES_DF[multitaper_col].apply(\n",
    "            lambda x: Connectivity.from_multitaper(x)\n",
    "        )\n",
    "\n",
    "        # Apply frequencies and coherence functions\n",
    "        LFP_TRACES_DF[frequencies_col] = LFP_TRACES_DF[connectivity_col].apply(\n",
    "            lambda x: x.frequencies\n",
    "        )\n",
    "        LFP_TRACES_DF[coherence_col] = LFP_TRACES_DF[connectivity_col].apply(\n",
    "            lambda x: x.coherence_magnitude()[:,:,0,1]\n",
    "        )\n",
    "\n",
    "        LFP_TRACES_DF[coherence_col] = LFP_TRACES_DF[coherence_col].apply(lambda x: x.astype(np.float32))\n",
    "\n",
    "    except Exception as e: \n",
    "        print(e)\n",
    "\n",
    "    # Drop temporary columns\n",
    "    LFP_TRACES_DF = LFP_TRACES_DF.drop(columns=[multitaper_col, connectivity_col], errors=\"ignore\")"
   ]
  },
  {
   "cell_type": "code",
   "execution_count": 78,
   "metadata": {},
   "outputs": [
    {
     "data": {
      "text/html": [
       "<div>\n",
       "<style scoped>\n",
       "    .dataframe tbody tr th:only-of-type {\n",
       "        vertical-align: middle;\n",
       "    }\n",
       "\n",
       "    .dataframe tbody tr th {\n",
       "        vertical-align: top;\n",
       "    }\n",
       "\n",
       "    .dataframe thead th {\n",
       "        text-align: right;\n",
       "    }\n",
       "</style>\n",
       "<table border=\"1\" class=\"dataframe\">\n",
       "  <thead>\n",
       "    <tr style=\"text-align: right;\">\n",
       "      <th></th>\n",
       "      <th>cohort</th>\n",
       "      <th>session_dir</th>\n",
       "      <th>tone_frames</th>\n",
       "      <th>box_1_port_entry_frames</th>\n",
       "      <th>box_2_port_entry_frames</th>\n",
       "      <th>video_name</th>\n",
       "      <th>notes</th>\n",
       "      <th>session_path</th>\n",
       "      <th>recording</th>\n",
       "      <th>current_subject</th>\n",
       "      <th>...</th>\n",
       "      <th>BLA_theta_phase</th>\n",
       "      <th>LH_theta_phase</th>\n",
       "      <th>MD_theta_phase</th>\n",
       "      <th>mPFC_theta_phase</th>\n",
       "      <th>vHPC_gamma_phase</th>\n",
       "      <th>BLA_gamma_phase</th>\n",
       "      <th>LH_gamma_phase</th>\n",
       "      <th>MD_gamma_phase</th>\n",
       "      <th>mPFC_gamma_phase</th>\n",
       "      <th>coherence_timestamps</th>\n",
       "    </tr>\n",
       "  </thead>\n",
       "  <tbody>\n",
       "    <tr>\n",
       "      <th>0</th>\n",
       "      <td>NaN</td>\n",
       "      <td>20240320_142408_alone_comp_subj_3-1_and_3-3</td>\n",
       "      <td>[[0, 74], [1272, 1471], [3268, 3469], [4466, 4...</td>\n",
       "      <td>[[0, 74], [152, 157], [252, 305], [305, 323], ...</td>\n",
       "      <td>[[0, 74], [160, 225], [254, 257], [257, 279], ...</td>\n",
       "      <td>20240320_142408_alone_comp_subj_3-1_and_3-3.1....</td>\n",
       "      <td>NaN</td>\n",
       "      <td>/scratch/back_up/reward_competition_extention/...</td>\n",
       "      <td>20240320_142408_alone_comp_subj_3-1_t6b6_merged</td>\n",
       "      <td>3.1</td>\n",
       "      <td>...</td>\n",
       "      <td>[-2.334019, -1.9927528, -1.9034189, -1.7969302...</td>\n",
       "      <td>[-2.4721982, -2.0628796, -1.9708004, -1.852214...</td>\n",
       "      <td>[-2.598095, -2.1275039, -2.0337176, -1.9035088...</td>\n",
       "      <td>[-2.4334762, -2.04466, -1.9542742, -1.8397615,...</td>\n",
       "      <td>[-2.1064563, -1.4880958, -1.1023823, -0.809092...</td>\n",
       "      <td>[-1.7656207, -1.3221099, -0.9771053, -0.704203...</td>\n",
       "      <td>[3.1384287, -2.1446424, -1.7603616, -1.3851118...</td>\n",
       "      <td>[-3.0306644, -2.0574017, -1.6692585, -1.313524...</td>\n",
       "      <td>[-2.5887551, -1.7770386, -1.4036323, -1.106262...</td>\n",
       "      <td>[10000, 20000, 30000, 40000, 50000, 60000, 700...</td>\n",
       "    </tr>\n",
       "    <tr>\n",
       "      <th>1</th>\n",
       "      <td>NaN</td>\n",
       "      <td>20240320_142408_alone_comp_subj_3-1_and_3-3</td>\n",
       "      <td>[[0, 75], [1273, 1472], [3269, 3470], [4467, 4...</td>\n",
       "      <td>[[0, 75], [153, 158], [252, 306], [306, 324], ...</td>\n",
       "      <td>[[0, 75], [161, 226], [255, 258], [258, 280], ...</td>\n",
       "      <td>20240320_142408_alone_comp_subj_3-1_and_3-3.2....</td>\n",
       "      <td>NaN</td>\n",
       "      <td>/scratch/back_up/reward_competition_extention/...</td>\n",
       "      <td>20240320_142408_alone_comp_subj_3-1_t6b6_merged</td>\n",
       "      <td>3.1</td>\n",
       "      <td>...</td>\n",
       "      <td>[-2.334019, -1.9927528, -1.9034189, -1.7969302...</td>\n",
       "      <td>[-2.4721982, -2.0628796, -1.9708004, -1.852214...</td>\n",
       "      <td>[-2.598095, -2.1275039, -2.0337176, -1.9035088...</td>\n",
       "      <td>[-2.4334762, -2.04466, -1.9542742, -1.8397615,...</td>\n",
       "      <td>[-2.1064563, -1.4880958, -1.1023823, -0.809092...</td>\n",
       "      <td>[-1.7656207, -1.3221099, -0.9771053, -0.704203...</td>\n",
       "      <td>[3.1384287, -2.1446424, -1.7603616, -1.3851118...</td>\n",
       "      <td>[-3.0306644, -2.0574017, -1.6692585, -1.313524...</td>\n",
       "      <td>[-2.5887551, -1.7770386, -1.4036323, -1.106262...</td>\n",
       "      <td>[10000, 20000, 30000, 40000, 50000, 60000, 700...</td>\n",
       "    </tr>\n",
       "    <tr>\n",
       "      <th>2</th>\n",
       "      <td>NaN</td>\n",
       "      <td>20240320_142408_alone_comp_subj_3-1_and_3-3</td>\n",
       "      <td>[[0, 74], [1272, 1471], [3268, 3469], [4466, 4...</td>\n",
       "      <td>[[0, 74], [152, 157], [252, 305], [305, 323], ...</td>\n",
       "      <td>[[0, 74], [160, 225], [254, 257], [257, 279], ...</td>\n",
       "      <td>20240320_142408_alone_comp_subj_3-1_and_3-3.1....</td>\n",
       "      <td>NaN</td>\n",
       "      <td>/scratch/back_up/reward_competition_extention/...</td>\n",
       "      <td>20240320_142408_alone_comp_subj_3-3_t5b5_merged</td>\n",
       "      <td>3.3</td>\n",
       "      <td>...</td>\n",
       "      <td>[2.777857, -2.8048103, -2.7293303, -2.4831357,...</td>\n",
       "      <td>[2.6830528, -2.927227, -2.8598695, -2.6025956,...</td>\n",
       "      <td>[2.7793484, -2.7970326, -2.719044, -2.4694462,...</td>\n",
       "      <td>[2.7433667, -2.8429945, -2.769275, -2.5160036,...</td>\n",
       "      <td>[2.267583, 2.6921847, 2.8533244, -3.1335492, -...</td>\n",
       "      <td>[2.224765, 2.616535, 2.7845728, 3.0693748, -3....</td>\n",
       "      <td>[2.3251767, 2.7912498, 2.93496, -3.0425863, -2...</td>\n",
       "      <td>[2.2850137, 2.7242794, 2.8865585, -3.093528, -...</td>\n",
       "      <td>[2.422544, 2.9823062, 3.1248415, -2.8174012, -...</td>\n",
       "      <td>[10000, 20000, 30000, 40000, 50000, 60000, 700...</td>\n",
       "    </tr>\n",
       "    <tr>\n",
       "      <th>3</th>\n",
       "      <td>NaN</td>\n",
       "      <td>20240320_142408_alone_comp_subj_3-1_and_3-3</td>\n",
       "      <td>[[0, 75], [1273, 1472], [3269, 3470], [4467, 4...</td>\n",
       "      <td>[[0, 75], [153, 158], [252, 306], [306, 324], ...</td>\n",
       "      <td>[[0, 75], [161, 226], [255, 258], [258, 280], ...</td>\n",
       "      <td>20240320_142408_alone_comp_subj_3-1_and_3-3.2....</td>\n",
       "      <td>NaN</td>\n",
       "      <td>/scratch/back_up/reward_competition_extention/...</td>\n",
       "      <td>20240320_142408_alone_comp_subj_3-3_t5b5_merged</td>\n",
       "      <td>3.3</td>\n",
       "      <td>...</td>\n",
       "      <td>[2.777857, -2.8048103, -2.7293303, -2.4831357,...</td>\n",
       "      <td>[2.6830528, -2.927227, -2.8598695, -2.6025956,...</td>\n",
       "      <td>[2.7793484, -2.7970326, -2.719044, -2.4694462,...</td>\n",
       "      <td>[2.7433667, -2.8429945, -2.769275, -2.5160036,...</td>\n",
       "      <td>[2.267583, 2.6921847, 2.8533244, -3.1335492, -...</td>\n",
       "      <td>[2.224765, 2.616535, 2.7845728, 3.0693748, -3....</td>\n",
       "      <td>[2.3251767, 2.7912498, 2.93496, -3.0425863, -2...</td>\n",
       "      <td>[2.2850137, 2.7242794, 2.8865585, -3.093528, -...</td>\n",
       "      <td>[2.422544, 2.9823062, 3.1248415, -2.8174012, -...</td>\n",
       "      <td>[10000, 20000, 30000, 40000, 50000, 60000, 700...</td>\n",
       "    </tr>\n",
       "    <tr>\n",
       "      <th>4</th>\n",
       "      <td>NaN</td>\n",
       "      <td>20240320_171038_alone_comp_subj_4-2_and_4-3</td>\n",
       "      <td>[[0, 79], [1276, 1477], [3272, 3473], [4470, 4...</td>\n",
       "      <td>[[0, 79], [84, 92], [92, 132], [145, 175], [25...</td>\n",
       "      <td>[[0, 79], [79, 186], [188, 191], [191, 268], [...</td>\n",
       "      <td>20240320_171038_alone_comp_subj_4-2_and_4-3.1....</td>\n",
       "      <td>NaN</td>\n",
       "      <td>/scratch/back_up/reward_competition_extention/...</td>\n",
       "      <td>20240320_171038_alone_comp_subj_4-2_t6b6_merged</td>\n",
       "      <td>4.2</td>\n",
       "      <td>...</td>\n",
       "      <td>[-0.45844918, 0.24414097, 0.3196618, 0.5989013...</td>\n",
       "      <td>[-0.4616929, 0.23914438, 0.31395027, 0.5931897...</td>\n",
       "      <td>[-0.453676, 0.25062832, 0.3265519, 0.60504854,...</td>\n",
       "      <td>[-0.41333583, 0.30418724, 0.3847279, 0.6573411...</td>\n",
       "      <td>[2.0203476, 2.3698096, 2.632465, 2.9235487, -3...</td>\n",
       "      <td>[1.910993, 2.2364957, 2.509788, 2.7816582, 3.0...</td>\n",
       "      <td>[1.9870733, 2.3193254, 2.5775566, 2.8560693, 3...</td>\n",
       "      <td>[1.8512229, 2.1740398, 2.4554274, 2.721458, 2....</td>\n",
       "      <td>[1.9646965, 2.3034666, 2.576395, 2.8607607, 3....</td>\n",
       "      <td>[10000, 20000, 30000, 40000, 50000, 60000, 700...</td>\n",
       "    </tr>\n",
       "  </tbody>\n",
       "</table>\n",
       "<p>5 rows × 82 columns</p>\n",
       "</div>"
      ],
      "text/plain": [
       "   cohort                                  session_dir  \\\n",
       "0     NaN  20240320_142408_alone_comp_subj_3-1_and_3-3   \n",
       "1     NaN  20240320_142408_alone_comp_subj_3-1_and_3-3   \n",
       "2     NaN  20240320_142408_alone_comp_subj_3-1_and_3-3   \n",
       "3     NaN  20240320_142408_alone_comp_subj_3-1_and_3-3   \n",
       "4     NaN  20240320_171038_alone_comp_subj_4-2_and_4-3   \n",
       "\n",
       "                                         tone_frames  \\\n",
       "0  [[0, 74], [1272, 1471], [3268, 3469], [4466, 4...   \n",
       "1  [[0, 75], [1273, 1472], [3269, 3470], [4467, 4...   \n",
       "2  [[0, 74], [1272, 1471], [3268, 3469], [4466, 4...   \n",
       "3  [[0, 75], [1273, 1472], [3269, 3470], [4467, 4...   \n",
       "4  [[0, 79], [1276, 1477], [3272, 3473], [4470, 4...   \n",
       "\n",
       "                             box_1_port_entry_frames  \\\n",
       "0  [[0, 74], [152, 157], [252, 305], [305, 323], ...   \n",
       "1  [[0, 75], [153, 158], [252, 306], [306, 324], ...   \n",
       "2  [[0, 74], [152, 157], [252, 305], [305, 323], ...   \n",
       "3  [[0, 75], [153, 158], [252, 306], [306, 324], ...   \n",
       "4  [[0, 79], [84, 92], [92, 132], [145, 175], [25...   \n",
       "\n",
       "                             box_2_port_entry_frames  \\\n",
       "0  [[0, 74], [160, 225], [254, 257], [257, 279], ...   \n",
       "1  [[0, 75], [161, 226], [255, 258], [258, 280], ...   \n",
       "2  [[0, 74], [160, 225], [254, 257], [257, 279], ...   \n",
       "3  [[0, 75], [161, 226], [255, 258], [258, 280], ...   \n",
       "4  [[0, 79], [79, 186], [188, 191], [191, 268], [...   \n",
       "\n",
       "                                          video_name notes  \\\n",
       "0  20240320_142408_alone_comp_subj_3-1_and_3-3.1....   NaN   \n",
       "1  20240320_142408_alone_comp_subj_3-1_and_3-3.2....   NaN   \n",
       "2  20240320_142408_alone_comp_subj_3-1_and_3-3.1....   NaN   \n",
       "3  20240320_142408_alone_comp_subj_3-1_and_3-3.2....   NaN   \n",
       "4  20240320_171038_alone_comp_subj_4-2_and_4-3.1....   NaN   \n",
       "\n",
       "                                        session_path  \\\n",
       "0  /scratch/back_up/reward_competition_extention/...   \n",
       "1  /scratch/back_up/reward_competition_extention/...   \n",
       "2  /scratch/back_up/reward_competition_extention/...   \n",
       "3  /scratch/back_up/reward_competition_extention/...   \n",
       "4  /scratch/back_up/reward_competition_extention/...   \n",
       "\n",
       "                                         recording current_subject  ...  \\\n",
       "0  20240320_142408_alone_comp_subj_3-1_t6b6_merged             3.1  ...   \n",
       "1  20240320_142408_alone_comp_subj_3-1_t6b6_merged             3.1  ...   \n",
       "2  20240320_142408_alone_comp_subj_3-3_t5b5_merged             3.3  ...   \n",
       "3  20240320_142408_alone_comp_subj_3-3_t5b5_merged             3.3  ...   \n",
       "4  20240320_171038_alone_comp_subj_4-2_t6b6_merged             4.2  ...   \n",
       "\n",
       "                                     BLA_theta_phase  \\\n",
       "0  [-2.334019, -1.9927528, -1.9034189, -1.7969302...   \n",
       "1  [-2.334019, -1.9927528, -1.9034189, -1.7969302...   \n",
       "2  [2.777857, -2.8048103, -2.7293303, -2.4831357,...   \n",
       "3  [2.777857, -2.8048103, -2.7293303, -2.4831357,...   \n",
       "4  [-0.45844918, 0.24414097, 0.3196618, 0.5989013...   \n",
       "\n",
       "                                      LH_theta_phase  \\\n",
       "0  [-2.4721982, -2.0628796, -1.9708004, -1.852214...   \n",
       "1  [-2.4721982, -2.0628796, -1.9708004, -1.852214...   \n",
       "2  [2.6830528, -2.927227, -2.8598695, -2.6025956,...   \n",
       "3  [2.6830528, -2.927227, -2.8598695, -2.6025956,...   \n",
       "4  [-0.4616929, 0.23914438, 0.31395027, 0.5931897...   \n",
       "\n",
       "                                      MD_theta_phase  \\\n",
       "0  [-2.598095, -2.1275039, -2.0337176, -1.9035088...   \n",
       "1  [-2.598095, -2.1275039, -2.0337176, -1.9035088...   \n",
       "2  [2.7793484, -2.7970326, -2.719044, -2.4694462,...   \n",
       "3  [2.7793484, -2.7970326, -2.719044, -2.4694462,...   \n",
       "4  [-0.453676, 0.25062832, 0.3265519, 0.60504854,...   \n",
       "\n",
       "                                    mPFC_theta_phase  \\\n",
       "0  [-2.4334762, -2.04466, -1.9542742, -1.8397615,...   \n",
       "1  [-2.4334762, -2.04466, -1.9542742, -1.8397615,...   \n",
       "2  [2.7433667, -2.8429945, -2.769275, -2.5160036,...   \n",
       "3  [2.7433667, -2.8429945, -2.769275, -2.5160036,...   \n",
       "4  [-0.41333583, 0.30418724, 0.3847279, 0.6573411...   \n",
       "\n",
       "                                    vHPC_gamma_phase  \\\n",
       "0  [-2.1064563, -1.4880958, -1.1023823, -0.809092...   \n",
       "1  [-2.1064563, -1.4880958, -1.1023823, -0.809092...   \n",
       "2  [2.267583, 2.6921847, 2.8533244, -3.1335492, -...   \n",
       "3  [2.267583, 2.6921847, 2.8533244, -3.1335492, -...   \n",
       "4  [2.0203476, 2.3698096, 2.632465, 2.9235487, -3...   \n",
       "\n",
       "                                     BLA_gamma_phase  \\\n",
       "0  [-1.7656207, -1.3221099, -0.9771053, -0.704203...   \n",
       "1  [-1.7656207, -1.3221099, -0.9771053, -0.704203...   \n",
       "2  [2.224765, 2.616535, 2.7845728, 3.0693748, -3....   \n",
       "3  [2.224765, 2.616535, 2.7845728, 3.0693748, -3....   \n",
       "4  [1.910993, 2.2364957, 2.509788, 2.7816582, 3.0...   \n",
       "\n",
       "                                      LH_gamma_phase  \\\n",
       "0  [3.1384287, -2.1446424, -1.7603616, -1.3851118...   \n",
       "1  [3.1384287, -2.1446424, -1.7603616, -1.3851118...   \n",
       "2  [2.3251767, 2.7912498, 2.93496, -3.0425863, -2...   \n",
       "3  [2.3251767, 2.7912498, 2.93496, -3.0425863, -2...   \n",
       "4  [1.9870733, 2.3193254, 2.5775566, 2.8560693, 3...   \n",
       "\n",
       "                                      MD_gamma_phase  \\\n",
       "0  [-3.0306644, -2.0574017, -1.6692585, -1.313524...   \n",
       "1  [-3.0306644, -2.0574017, -1.6692585, -1.313524...   \n",
       "2  [2.2850137, 2.7242794, 2.8865585, -3.093528, -...   \n",
       "3  [2.2850137, 2.7242794, 2.8865585, -3.093528, -...   \n",
       "4  [1.8512229, 2.1740398, 2.4554274, 2.721458, 2....   \n",
       "\n",
       "                                    mPFC_gamma_phase  \\\n",
       "0  [-2.5887551, -1.7770386, -1.4036323, -1.106262...   \n",
       "1  [-2.5887551, -1.7770386, -1.4036323, -1.106262...   \n",
       "2  [2.422544, 2.9823062, 3.1248415, -2.8174012, -...   \n",
       "3  [2.422544, 2.9823062, 3.1248415, -2.8174012, -...   \n",
       "4  [1.9646965, 2.3034666, 2.576395, 2.8607607, 3....   \n",
       "\n",
       "                                coherence_timestamps  \n",
       "0  [10000, 20000, 30000, 40000, 50000, 60000, 700...  \n",
       "1  [10000, 20000, 30000, 40000, 50000, 60000, 700...  \n",
       "2  [10000, 20000, 30000, 40000, 50000, 60000, 700...  \n",
       "3  [10000, 20000, 30000, 40000, 50000, 60000, 700...  \n",
       "4  [10000, 20000, 30000, 40000, 50000, 60000, 700...  \n",
       "\n",
       "[5 rows x 82 columns]"
      ]
     },
     "execution_count": 78,
     "metadata": {},
     "output_type": "execute_result"
    }
   ],
   "source": [
    "LFP_TRACES_DF.head()"
   ]
  },
  {
   "cell_type": "code",
   "execution_count": null,
   "metadata": {},
   "outputs": [],
   "source": []
  },
  {
   "cell_type": "markdown",
   "metadata": {},
   "source": [
    "- Getting the timestamps of the coherence"
   ]
  },
  {
   "cell_type": "code",
   "execution_count": 74,
   "metadata": {
    "tags": []
   },
   "outputs": [],
   "source": [
    "LFP_TRACES_DF[\"coherence_timestamps\"] = LFP_TRACES_DF[\"lfp_timestamps\"].apply(lambda x: x[(RESAMPLE_RATE//2):(-RESAMPLE_RATE//2):(RESAMPLE_RATE//2)])\n"
   ]
  },
  {
   "cell_type": "markdown",
   "metadata": {},
   "source": [
    "- Making sure that the timestamps for coherence makes sense with shape and values"
   ]
  },
  {
   "cell_type": "code",
   "execution_count": 75,
   "metadata": {
    "tags": []
   },
   "outputs": [
    {
     "data": {
      "text/plain": [
       "0    (6358,)\n",
       "1    (6358,)\n",
       "2    (6358,)\n",
       "3    (6358,)\n",
       "4    (6437,)\n",
       "Name: coherence_timestamps, dtype: object"
      ]
     },
     "execution_count": 75,
     "metadata": {},
     "output_type": "execute_result"
    }
   ],
   "source": [
    "LFP_TRACES_DF[\"coherence_timestamps\"].head().apply(lambda x: x.shape)"
   ]
  },
  {
   "cell_type": "code",
   "execution_count": 76,
   "metadata": {
    "tags": []
   },
   "outputs": [
    {
     "ename": "IndexError",
     "evalue": "list index out of range",
     "output_type": "error",
     "traceback": [
      "\u001b[0;31m---------------------------------------------------------------------------\u001b[0m",
      "\u001b[0;31mIndexError\u001b[0m                                Traceback (most recent call last)",
      "Cell \u001b[0;32mIn[76], line 1\u001b[0m\n\u001b[0;32m----> 1\u001b[0m LFP_TRACES_DF[\u001b[43m[\u001b[49m\u001b[43mcol\u001b[49m\u001b[43m \u001b[49m\u001b[38;5;28;43;01mfor\u001b[39;49;00m\u001b[43m \u001b[49m\u001b[43mcol\u001b[49m\u001b[43m \u001b[49m\u001b[38;5;129;43;01min\u001b[39;49;00m\u001b[43m \u001b[49m\u001b[43mLFP_TRACES_DF\u001b[49m\u001b[38;5;241;43m.\u001b[39;49m\u001b[43mcolumns\u001b[49m\u001b[43m \u001b[49m\u001b[38;5;28;43;01mif\u001b[39;49;00m\u001b[43m \u001b[49m\u001b[38;5;124;43m\"\u001b[39;49m\u001b[38;5;124;43mcoherence_all_frequencies_all_windows\u001b[39;49m\u001b[38;5;124;43m\"\u001b[39;49m\u001b[43m \u001b[49m\u001b[38;5;129;43;01min\u001b[39;49;00m\u001b[43m \u001b[49m\u001b[43mcol\u001b[49m\u001b[43m]\u001b[49m\u001b[43m[\u001b[49m\u001b[38;5;241;43m0\u001b[39;49m\u001b[43m]\u001b[49m]\u001b[38;5;241m.\u001b[39miloc[\u001b[38;5;241m0\u001b[39m]\u001b[38;5;241m.\u001b[39mshape\n",
      "\u001b[0;31mIndexError\u001b[0m: list index out of range"
     ]
    }
   ],
   "source": [
    "LFP_TRACES_DF[[col for col in LFP_TRACES_DF.columns if \"coherence_all_frequencies_all_windows\" in col][0]].iloc[0].shape"
   ]
  },
  {
   "cell_type": "code",
   "execution_count": null,
   "metadata": {
    "tags": []
   },
   "outputs": [],
   "source": [
    "LFP_TRACES_DF[[col for col in LFP_TRACES_DF.columns if \"lfp_timestamps\" in col][0]].iloc[0]"
   ]
  },
  {
   "cell_type": "code",
   "execution_count": null,
   "metadata": {
    "tags": []
   },
   "outputs": [],
   "source": [
    "LFP_TRACES_DF[[col for col in LFP_TRACES_DF.columns if \"coherence_timestamps\" in col][0]].iloc[0]"
   ]
  },
  {
   "cell_type": "markdown",
   "metadata": {},
   "source": [
    "- Checking if the right frequencies are being used"
   ]
  },
  {
   "cell_type": "code",
   "execution_count": null,
   "metadata": {
    "tags": []
   },
   "outputs": [],
   "source": [
    "LFP_TRACES_DF[[col for col in LFP_TRACES_DF.columns if \"coherence_frequencies\" in col]].head()"
   ]
  },
  {
   "cell_type": "code",
   "execution_count": null,
   "metadata": {},
   "outputs": [],
   "source": [
    "LFP_TRACES_DF[\"coherence_calculation_frequencies\"] = LFP_TRACES_DF[[col for col in LFP_TRACES_DF.columns if \"coherence_frequencies\" in col][0]].copy()"
   ]
  },
  {
   "cell_type": "markdown",
   "metadata": {},
   "source": [
    "- Dropping unnecessary columns"
   ]
  },
  {
   "cell_type": "code",
   "execution_count": null,
   "metadata": {
    "tags": []
   },
   "outputs": [],
   "source": [
    "LFP_TRACES_DF = LFP_TRACES_DF.drop(columns=[col for col in LFP_TRACES_DF.columns if \"coherence_frequencies\" in col], errors=\"ignore\")"
   ]
  },
  {
   "cell_type": "code",
   "execution_count": null,
   "metadata": {
    "tags": []
   },
   "outputs": [],
   "source": [
    "LFP_TRACES_DF.head()"
   ]
  },
  {
   "cell_type": "markdown",
   "metadata": {},
   "source": [
    "# Calculate Granger's"
   ]
  },
  {
   "cell_type": "code",
   "execution_count": null,
   "metadata": {
    "tags": []
   },
   "outputs": [],
   "source": [
    "for region_1, region_2 in brain_region_pairs:\n",
    "    # Define base name for pair\n",
    "    region_1_base_name = region_1.split('_')[0]\n",
    "    region_2_base_name = region_2.split('_')[0]\n",
    "\n",
    "    pair_base_name = f\"{region_1_base_name}_{region_2_base_name}\"\n",
    "    print(pair_base_name)\n",
    "\n",
    "    try:\n",
    "        # Define column names\n",
    "        multitaper_col = f\"{pair_base_name}_granger_multitaper\"\n",
    "        connectivity_col = f\"{pair_base_name}_granger_connectivity\"\n",
    "        frequencies_col = f\"{pair_base_name}_granger_frequencies\"\n",
    "        granger_1_2_col = f\"{region_1_base_name}_{region_2_base_name}_granger_all_frequencies_all_windows\"\n",
    "        granger_2_1_col = f\"{region_2_base_name}_{region_1_base_name}_granger_all_frequencies_all_windows\"\n",
    "\n",
    "        # Apply Multitaper function\n",
    "        LFP_TRACES_DF[multitaper_col] = LFP_TRACES_DF.apply(\n",
    "            lambda x: Multitaper(\n",
    "                time_series=np.array([x[region_1], x[region_2]]).T, \n",
    "                sampling_frequency=RESAMPLE_RATE, \n",
    "                time_halfbandwidth_product=TIME_HALFBANDWIDTH_PRODUCT, \n",
    "                time_window_step=TIME_WINDOW_STEP, \n",
    "                time_window_duration=TIME_WINDOW_DURATION\n",
    "            ), \n",
    "            axis=1\n",
    "        )\n",
    "    \n",
    "        # Apply Connectivity function\n",
    "        LFP_TRACES_DF[connectivity_col] = LFP_TRACES_DF[multitaper_col].apply(\n",
    "            lambda x: Connectivity.from_multitaper(x)\n",
    "        )\n",
    "\n",
    "        # Apply frequencies and granger functions\n",
    "        LFP_TRACES_DF[frequencies_col] = LFP_TRACES_DF[connectivity_col].apply(\n",
    "            lambda x: x.frequencies\n",
    "        )\n",
    "        \n",
    "        LFP_TRACES_DF[granger_1_2_col] = LFP_TRACES_DF[connectivity_col].apply(\n",
    "            lambda x: x.pairwise_spectral_granger_prediction()[:,:,0,1]\n",
    "        )\n",
    "\n",
    "        LFP_TRACES_DF[granger_2_1_col] = LFP_TRACES_DF[connectivity_col].apply(\n",
    "            lambda x: x.pairwise_spectral_granger_prediction()[:,:,1,0]\n",
    "        )\n",
    "\n",
    "        LFP_TRACES_DF[granger_1_2_col] = LFP_TRACES_DF[granger_1_2_col].apply(lambda x: x.astype(np.float32))\n",
    "        LFP_TRACES_DF[granger_2_1_col] = LFP_TRACES_DF[granger_2_1_col].apply(lambda x: x.astype(np.float32))\n",
    "        \n",
    "    except Exception as e: \n",
    "        print(e)\n",
    "\n",
    "    # Drop temporary columns\n",
    "    LFP_TRACES_DF = LFP_TRACES_DF.drop(columns=[multitaper_col, connectivity_col], errors=\"ignore\")"
   ]
  },
  {
   "cell_type": "code",
   "execution_count": null,
   "metadata": {},
   "outputs": [],
   "source": []
  },
  {
   "cell_type": "markdown",
   "metadata": {},
   "source": [
    "- Getting the timestamps of the granger"
   ]
  },
  {
   "cell_type": "code",
   "execution_count": null,
   "metadata": {
    "tags": []
   },
   "outputs": [],
   "source": [
    "LFP_TRACES_DF[\"granger_timestamps\"] = LFP_TRACES_DF[\"lfp_timestamps\"].apply(lambda x: x[(RESAMPLE_RATE//2):(-RESAMPLE_RATE//2):(RESAMPLE_RATE//2)])\n"
   ]
  },
  {
   "cell_type": "markdown",
   "metadata": {},
   "source": [
    "- Making sure that the timestamps for granger makes sense with shape and values"
   ]
  },
  {
   "cell_type": "code",
   "execution_count": null,
   "metadata": {
    "tags": []
   },
   "outputs": [],
   "source": [
    "LFP_TRACES_DF[\"granger_timestamps\"].head().apply(lambda x: x.shape)"
   ]
  },
  {
   "cell_type": "code",
   "execution_count": null,
   "metadata": {
    "tags": []
   },
   "outputs": [],
   "source": [
    "LFP_TRACES_DF[[col for col in LFP_TRACES_DF.columns if \"granger_all_frequencies_all_windows\" in col][0]].iloc[0].shape"
   ]
  },
  {
   "cell_type": "code",
   "execution_count": null,
   "metadata": {
    "tags": []
   },
   "outputs": [],
   "source": [
    "LFP_TRACES_DF[[col for col in LFP_TRACES_DF.columns if \"lfp_timestamps\" in col][0]].iloc[0]"
   ]
  },
  {
   "cell_type": "code",
   "execution_count": null,
   "metadata": {
    "tags": []
   },
   "outputs": [],
   "source": [
    "LFP_TRACES_DF[[col for col in LFP_TRACES_DF.columns if \"granger_timestamps\" in col][0]].iloc[0]"
   ]
  },
  {
   "cell_type": "markdown",
   "metadata": {},
   "source": [
    "- Checking if the right frequencies are being used"
   ]
  },
  {
   "cell_type": "code",
   "execution_count": null,
   "metadata": {
    "tags": []
   },
   "outputs": [],
   "source": [
    "LFP_TRACES_DF[[col for col in LFP_TRACES_DF.columns if \"granger_frequencies\" in col]].head()"
   ]
  },
  {
   "cell_type": "code",
   "execution_count": null,
   "metadata": {},
   "outputs": [],
   "source": [
    "LFP_TRACES_DF[\"granger_calculation_frequencies\"] = LFP_TRACES_DF[[col for col in LFP_TRACES_DF.columns if \"granger_frequencies\" in col][0]].copy()"
   ]
  },
  {
   "cell_type": "markdown",
   "metadata": {},
   "source": [
    "- Dropping unnecessary columns"
   ]
  },
  {
   "cell_type": "code",
   "execution_count": null,
   "metadata": {
    "tags": []
   },
   "outputs": [],
   "source": [
    "LFP_TRACES_DF = LFP_TRACES_DF.drop(columns=[col for col in LFP_TRACES_DF.columns if \"granger_frequencies\" in col], errors=\"ignore\")"
   ]
  },
  {
   "cell_type": "code",
   "execution_count": null,
   "metadata": {
    "tags": []
   },
   "outputs": [],
   "source": [
    "LFP_TRACES_DF.head()"
   ]
  },
  {
   "cell_type": "code",
   "execution_count": null,
   "metadata": {
    "tags": []
   },
   "outputs": [],
   "source": [
    "LFP_TRACES_DF.columns"
   ]
  },
  {
   "cell_type": "code",
   "execution_count": null,
   "metadata": {
    "tags": []
   },
   "outputs": [],
   "source": [
    "# LFP_TRACES_DF.to_pickle(\"./proc/rce2_spectral_granger.pkl\")\n",
    "LFP_TRACES_DF.to_pickle(\"./proc/{}_02_full_spectral.pkl\".format(OUTPUT_PREFIX))\n",
    "# LFP_TRACES_DF.to_pickle(\"/blue/npadillacoreano/ryoi360/projects/reward_comp/final_proc/rce_pilot_2_02_spectral_granger.pkl\")"
   ]
  },
  {
   "cell_type": "code",
   "execution_count": null,
   "metadata": {
    "tags": []
   },
   "outputs": [],
   "source": [
    "raise ValueError()"
   ]
  },
  {
   "cell_type": "code",
   "execution_count": null,
   "metadata": {},
   "outputs": [],
   "source": []
  }
 ],
 "metadata": {
  "deepnote": {},
  "deepnote_execution_queue": [],
  "deepnote_notebook_id": "cf8fe3695d074ee7887fdf6459cbf5ce",
  "kernelspec": {
   "display_name": "mountainsort_0_5_6",
   "language": "python",
   "name": "python3"
  },
  "language_info": {
   "codemirror_mode": {
    "name": "ipython",
    "version": 3
   },
   "file_extension": ".py",
   "mimetype": "text/x-python",
   "name": "python",
   "nbconvert_exporter": "python",
   "pygments_lexer": "ipython3",
   "version": "3.9.19"
  }
 },
 "nbformat": 4,
 "nbformat_minor": 4
}
