{
 "cells": [
  {
   "cell_type": "markdown",
   "metadata": {
    "cell_id": "c3a02adc9e884466bc8c79db549cc3d2",
    "deepnote_cell_type": "text-cell-h1",
    "formattedRanges": [
     {
      "fromCodePoint": 0,
      "marks": {
       "bold": true,
       "underline": true
      },
      "toCodePoint": 17,
      "type": "marks"
     }
    ]
   },
   "source": [
    "# SLEAP Distance Calculation"
   ]
  },
  {
   "cell_type": "markdown",
   "metadata": {
    "cell_id": "4546bee655b14a5dbf393161f1228e60",
    "deepnote_cell_type": "text-cell-p",
    "formattedRanges": []
   },
   "source": [
    "Brief 1-2 sentence description of notebook."
   ]
  },
  {
   "cell_type": "code",
   "execution_count": 1,
   "metadata": {
    "tags": []
   },
   "outputs": [],
   "source": [
    "import os\n",
    "import glob\n",
    "import git\n",
    "import sys\n",
    "from collections import defaultdict"
   ]
  },
  {
   "cell_type": "code",
   "execution_count": 2,
   "metadata": {
    "cell_id": "03b495cefa6a4798a44c7f2e4c6a3ea7",
    "deepnote_cell_type": "code",
    "deepnote_to_be_reexecuted": false,
    "execution_millis": 21,
    "execution_start": 1691424003626,
    "source_hash": null,
    "tags": []
   },
   "outputs": [],
   "source": [
    "# Imports of all used packages and libraries\n",
    "import numpy as np\n",
    "import pandas as pd\n",
    "# import seaborn as sns\n",
    "import matplotlib as mpl\n",
    "import matplotlib.pyplot as plt\n",
    "import h5py\n"
   ]
  },
  {
   "cell_type": "code",
   "execution_count": 3,
   "metadata": {
    "tags": []
   },
   "outputs": [],
   "source": [
    "git_repo = git.Repo(\".\", search_parent_directories=True)\n",
    "git_root = git_repo.git.rev_parse(\"--show-toplevel\")"
   ]
  },
  {
   "cell_type": "code",
   "execution_count": 4,
   "metadata": {
    "tags": []
   },
   "outputs": [
    {
     "data": {
      "text/plain": [
       "'/nancy/user/riwata/projects/reward_comp_ext'"
      ]
     },
     "execution_count": 4,
     "metadata": {},
     "output_type": "execute_result"
    }
   ],
   "source": [
    "git_root"
   ]
  },
  {
   "cell_type": "code",
   "execution_count": 5,
   "metadata": {
    "tags": []
   },
   "outputs": [],
   "source": [
    "sys.path.insert(0, os.path.join(git_root, 'src'))"
   ]
  },
  {
   "cell_type": "code",
   "execution_count": 6,
   "metadata": {
    "tags": []
   },
   "outputs": [],
   "source": [
    "import sleap.process_pose"
   ]
  },
  {
   "cell_type": "code",
   "execution_count": 7,
   "metadata": {
    "tags": []
   },
   "outputs": [],
   "source": [
    "# sns.set('notebook', 'ticks', font_scale=1.2)\n",
    "mpl.rcParams['figure.figsize'] = [15,6]"
   ]
  },
  {
   "cell_type": "code",
   "execution_count": null,
   "metadata": {},
   "outputs": [],
   "source": []
  },
  {
   "cell_type": "markdown",
   "metadata": {},
   "source": [
    "# Functions"
   ]
  },
  {
   "cell_type": "code",
   "execution_count": 8,
   "metadata": {
    "tags": []
   },
   "outputs": [
    {
     "name": "stdout",
     "output_type": "stream",
     "text": [
      "{'a': [1, 2, 5, 8, 9], 'b': [3, 4, 6, 7], 'c': [10]}\n"
     ]
    }
   ],
   "source": [
    "def combine_dicts(dicts):\n",
    "    \"\"\"\n",
    "    Combine lists from multiple dictionaries that share the same key.\n",
    "\n",
    "    This function takes a list of dictionaries where each dictionary's values are lists of numbers.\n",
    "    It merges these lists for each corresponding key across all dictionaries, producing a single\n",
    "    dictionary where each key has a combined list of all numbers from the input dictionaries.\n",
    "\n",
    "    Parameters:\n",
    "        dicts (list of dict): A list of dictionaries with values as lists of numbers.\n",
    "\n",
    "    Returns:\n",
    "        dict: A dictionary with keys from the input dictionaries and values as merged lists \n",
    "        of numbers from all corresponding input dictionary values.\n",
    "    \"\"\"\n",
    "    combined = defaultdict(list)\n",
    "    for dictionary in dicts:\n",
    "        for key, value in dictionary.items():\n",
    "            combined[key].extend(value)\n",
    "    \n",
    "    return dict(combined)\n",
    "\n",
    "\n",
    "# Example usage\n",
    "list_of_dicts = [\n",
    "    {'a': [1, 2], 'b': [3, 4]},\n",
    "    {'a': [5], 'b': [6, 7]},\n",
    "    {'a': [8, 9], 'c': [10]}\n",
    "]\n",
    "\n",
    "combined_dict = combine_dicts(list_of_dicts)\n",
    "print(combined_dict)"
   ]
  },
  {
   "cell_type": "code",
   "execution_count": 9,
   "metadata": {
    "tags": []
   },
   "outputs": [
    {
     "name": "stdout",
     "output_type": "stream",
     "text": [
      "{2: [(2, 4)], 3: [(5, 8)]}\n"
     ]
    }
   ],
   "source": [
    "def find_consecutive_ranges(numbers, min_length=1):\n",
    "    \"\"\"\n",
    "    Finds the start and end indices for consecutive ranges of each number in a list where the range meets a minimum length.\n",
    "\n",
    "    This function iterates through a list of integers and identifies ranges where the same integer appears consecutively\n",
    "    and the length of this sequence meets or exceeds the specified minimum length.\n",
    "\n",
    "    Parameters:\n",
    "        numbers (list): A list of integers to analyze for consecutive ranges.\n",
    "        min_length (int): The minimum length of a range for it to be included in the results.\n",
    "\n",
    "    Returns:\n",
    "        dict: A dictionary with integers as keys and a list of tuples (start, end) as values,\n",
    "              where each tuple represents the start and end indices (inclusive) of consecutive ranges\n",
    "              for that integer. Only ranges that meet or exceed the minimum length are included.\n",
    "    \"\"\"\n",
    "    ranges = {}\n",
    "    n = len(numbers)\n",
    "    if n == 0:\n",
    "        return ranges\n",
    "    \n",
    "    start = 0\n",
    "    current = numbers[0]\n",
    "\n",
    "    for i in range(1, n):\n",
    "        if numbers[i] != current:\n",
    "            if (i - start) >= min_length:\n",
    "                if current not in ranges:\n",
    "                    ranges[current] = []\n",
    "                ranges[current].append((start, i - 1))\n",
    "            current = numbers[i]\n",
    "            start = i\n",
    "\n",
    "    # Handle the last range\n",
    "    if (n - start) >= min_length:\n",
    "        if current not in ranges:\n",
    "            ranges[current] = []\n",
    "        ranges[current].append((start, n - 1))\n",
    "\n",
    "    return ranges\n",
    "\n",
    "# Example usage:\n",
    "numbers = [1, 1, 2, 2, 2, 3, 3, 3, 3, 2, 2, 1, 1]\n",
    "print(find_consecutive_ranges(numbers, min_length=3))"
   ]
  },
  {
   "cell_type": "code",
   "execution_count": 10,
   "metadata": {
    "tags": []
   },
   "outputs": [
    {
     "name": "stdout",
     "output_type": "stream",
     "text": [
      "{'a': [('alpha', 'beta'), ('gamma', 'delta')], 'b': [('beta', 'delta'), ('alpha', 'gamma')]}\n"
     ]
    }
   ],
   "source": [
    "def update_tuples_in_dict(original_dict, reference_list):\n",
    "    \"\"\"\n",
    "    Updates the values in the tuples within a dictionary by replacing indices with corresponding values from a reference list.\n",
    "    \n",
    "    This function iterates through each key-value pair in the original dictionary. Each value is expected to be a list of tuples,\n",
    "    where each tuple contains indices. These indices are used to fetch corresponding values from the reference list, creating new tuples.\n",
    "    \n",
    "    Parameters:\n",
    "        original_dict (dict): Dictionary whose values are lists of tuples. Each tuple consists of indices into the reference_list.\n",
    "        reference_list (list): List of elements that are referenced by the indices in the tuples of the original_dict.\n",
    "        \n",
    "    Returns:\n",
    "        dict: A dictionary with the same keys as original_dict but with tuples transformed to contain elements from reference_list\n",
    "              based on the indices in the original tuples.\n",
    "    \"\"\"\n",
    "    # Create a new dictionary to store the updated key-value pairs\n",
    "    new_dict = {}\n",
    "    for key, list_of_tuples in original_dict.items():\n",
    "        # Process each tuple in the list associated with the current key\n",
    "        updated_tuples = [\n",
    "            tuple(reference_list[idx] for idx in tup) for tup in list_of_tuples\n",
    "        ]\n",
    "        new_dict[key] = updated_tuples\n",
    "    \n",
    "    return new_dict\n",
    "\n",
    "# Example usage:\n",
    "original_dict = {\n",
    "    'a': [(0, 1), (2, 3)],\n",
    "    'b': [(1, 3), (0, 2)]\n",
    "}\n",
    "reference_list = ['alpha', 'beta', 'gamma', 'delta']\n",
    "\n",
    "updated_dict = update_tuples_in_dict(original_dict, reference_list)\n",
    "print(updated_dict)"
   ]
  },
  {
   "cell_type": "markdown",
   "metadata": {
    "cell_id": "d290bac2c17940bfbc0f9296beaf70e5",
    "deepnote_cell_type": "text-cell-h2",
    "formattedRanges": []
   },
   "source": [
    "## Inputs & Data"
   ]
  },
  {
   "cell_type": "markdown",
   "metadata": {
    "cell_id": "e528ce19c608425292151930d380f49f",
    "deepnote_cell_type": "text-cell-p",
    "formattedRanges": []
   },
   "source": [
    "Explanation of each input and where it comes from."
   ]
  },
  {
   "cell_type": "code",
   "execution_count": 11,
   "metadata": {
    "tags": []
   },
   "outputs": [],
   "source": [
    "OUTPUT_PREFIX = \"rce_pilot_3_long_comp\""
   ]
  },
  {
   "cell_type": "code",
   "execution_count": 12,
   "metadata": {
    "tags": []
   },
   "outputs": [],
   "source": [
    "# Inputs and Required data loading\n",
    "# input varaible names are in all caps snake case\n",
    "# Whenever an input changes or is used for processing \n",
    "# the vairables are all lower in snake case\n",
    "\n",
    "LFP_SPECTRAL_DF = pd.read_pickle(\"./proc/{}_03_spectral_bands.pkl\".format(OUTPUT_PREFIX))\n",
    "# LFP_SPECTRAL_DF = pd.read_pickle(\"./proc/{}_01_lfp_traces_and_frames.pkl\".format(OUTPUT_PREFIX))\n",
    "\n"
   ]
  },
  {
   "cell_type": "code",
   "execution_count": 13,
   "metadata": {
    "tags": []
   },
   "outputs": [],
   "source": [
    "# SLEAP_DF = pd.read_pickle(\"/blue/npadillacoreano/ryoi360/projects/reward_comp/repos/reward_comp_ext/results/2024_06_26_sleap_clustering/proc/grouped_exploded_columns.pkl\")\n",
    "SLEAP_DF = pd.read_pickle(\"../2024_06_26_sleap_clustering/proc/grouped_exploded_columns.pkl\")"
   ]
  },
  {
   "cell_type": "code",
   "execution_count": 14,
   "metadata": {
    "tags": []
   },
   "outputs": [
    {
     "data": {
      "text/html": [
       "<div>\n",
       "<style scoped>\n",
       "    .dataframe tbody tr th:only-of-type {\n",
       "        vertical-align: middle;\n",
       "    }\n",
       "\n",
       "    .dataframe tbody tr th {\n",
       "        vertical-align: top;\n",
       "    }\n",
       "\n",
       "    .dataframe thead th {\n",
       "        text-align: right;\n",
       "    }\n",
       "</style>\n",
       "<table border=\"1\" class=\"dataframe\">\n",
       "  <thead>\n",
       "    <tr style=\"text-align: right;\">\n",
       "      <th></th>\n",
       "      <th>video_name</th>\n",
       "      <th>current_subject</th>\n",
       "      <th>10s_after_tone_frame</th>\n",
       "      <th>10s_before_tone_frame</th>\n",
       "      <th>agent_locations</th>\n",
       "      <th>agent_nose</th>\n",
       "      <th>agent_nose_to_reward_port</th>\n",
       "      <th>agent_tail_base</th>\n",
       "      <th>agent_thorax</th>\n",
       "      <th>agent_thorax_velocity</th>\n",
       "      <th>...</th>\n",
       "      <th>experiment</th>\n",
       "      <th>first_timestamp</th>\n",
       "      <th>last_timestamp</th>\n",
       "      <th>reward_port</th>\n",
       "      <th>session_dir</th>\n",
       "      <th>sleap_name</th>\n",
       "      <th>start_frame</th>\n",
       "      <th>stop_frame</th>\n",
       "      <th>tracked_subject</th>\n",
       "      <th>video_id</th>\n",
       "    </tr>\n",
       "  </thead>\n",
       "  <tbody>\n",
       "    <tr>\n",
       "      <th>0</th>\n",
       "      <td>20240317_151922_long_comp_subj_3-1_and_3-3.1</td>\n",
       "      <td>3.1</td>\n",
       "      <td>[1686, 1686, 1686, 1686, 1686, 1686, 1686, 168...</td>\n",
       "      <td>[1086, 1086, 1086, 1086, 1086, 1086, 1086, 108...</td>\n",
       "      <td>[[[47.329585864054316, 13.395104517336417], [4...</td>\n",
       "      <td>[[43.139588993359475, 13.385259646809214], [43...</td>\n",
       "      <td>[29.850004, 29.948483, 30.033619, 30.119339, 3...</td>\n",
       "      <td>[[54.49241922411595, 12.722769593270066], [54....</td>\n",
       "      <td>[[51.04336785027878, 11.609328010205985], [51....</td>\n",
       "      <td>[1.75459, 0.8485628, 0.20676309, -0.17881195, ...</td>\n",
       "      <td>...</td>\n",
       "      <td>long_comp</td>\n",
       "      <td>2415571.0</td>\n",
       "      <td>48236575.0</td>\n",
       "      <td>[60.41313477701829, 37.56463736381247]</td>\n",
       "      <td>20240317_151922_long_comp_subj_3-1_and_3-3</td>\n",
       "      <td>20240317_151922_long_comp_subj_3-1_and_3-3.1.f...</td>\n",
       "      <td>1</td>\n",
       "      <td>45736</td>\n",
       "      <td>[3.1, 3.3]</td>\n",
       "      <td>0</td>\n",
       "    </tr>\n",
       "    <tr>\n",
       "      <th>1</th>\n",
       "      <td>20240317_151922_long_comp_subj_3-1_and_3-3.1</td>\n",
       "      <td>3.3</td>\n",
       "      <td>[1686, 1686, 1686, 1686, 1686, 1686, 1686, 168...</td>\n",
       "      <td>[1086, 1086, 1086, 1086, 1086, 1086, 1086, 108...</td>\n",
       "      <td>[[[61.390550187751444, 36.122362967315595], [5...</td>\n",
       "      <td>[[60.14673983110819, 38.0809500426292], [60.14...</td>\n",
       "      <td>[0.7214881, 0.70931464, 0.7049949, 0.705891, 0...</td>\n",
       "      <td>[[65.86894804065032, 31.8436244490543], [65.86...</td>\n",
       "      <td>[[64.11036004541992, 34.137273635147906], [64....</td>\n",
       "      <td>[0.11019329, 0.08970148, 0.09392373, 0.1159680...</td>\n",
       "      <td>...</td>\n",
       "      <td>long_comp</td>\n",
       "      <td>2415571.0</td>\n",
       "      <td>48236575.0</td>\n",
       "      <td>[60.41313477701829, 37.56463736381247]</td>\n",
       "      <td>20240317_151922_long_comp_subj_3-1_and_3-3</td>\n",
       "      <td>20240317_151922_long_comp_subj_3-1_and_3-3.1.f...</td>\n",
       "      <td>1</td>\n",
       "      <td>45736</td>\n",
       "      <td>[3.1, 3.3]</td>\n",
       "      <td>0</td>\n",
       "    </tr>\n",
       "    <tr>\n",
       "      <th>2</th>\n",
       "      <td>20240317_172017_long_comp_subj_4-2_and_4-3.1</td>\n",
       "      <td>4.2</td>\n",
       "      <td>[1701, 1701, 1701, 1701, 1701, 1701, 1701, 170...</td>\n",
       "      <td>[1100, 1100, 1100, 1100, 1100, 1100, 1100, 110...</td>\n",
       "      <td>[[[61.75545079959451, 33.21821636449367], [59....</td>\n",
       "      <td>[[60.79884848875681, 35.963595797483414], [60....</td>\n",
       "      <td>[1.2679133, 1.1848546, 1.0835545, 1.0503241, 1...</td>\n",
       "      <td>[[56.32709801682682, 29.966639024342353], [56....</td>\n",
       "      <td>[[57.3449526902064, 32.078917344899914], [57.5...</td>\n",
       "      <td>[0.28695866, 0.29812592, 0.3080636, 0.34382957...</td>\n",
       "      <td>...</td>\n",
       "      <td>long_comp</td>\n",
       "      <td>2020598.0</td>\n",
       "      <td>61007363.0</td>\n",
       "      <td>[60.1935112853622, 35.25163617313764]</td>\n",
       "      <td>20240317_172017_long_comp_subj_4-2_and_4-3</td>\n",
       "      <td>20240317_172017_long_comp_subj_4-2_and_4-3.1.f...</td>\n",
       "      <td>1</td>\n",
       "      <td>58878</td>\n",
       "      <td>[4.2, 4.3]</td>\n",
       "      <td>1</td>\n",
       "    </tr>\n",
       "    <tr>\n",
       "      <th>3</th>\n",
       "      <td>20240317_172017_long_comp_subj_4-2_and_4-3.1</td>\n",
       "      <td>4.3</td>\n",
       "      <td>[1701, 1701, 1701, 1701, 1701, 1701, 1701, 170...</td>\n",
       "      <td>[1100, 1100, 1100, 1100, 1100, 1100, 1100, 110...</td>\n",
       "      <td>[[[67.1750209289574, 9.986812953490931], [69.1...</td>\n",
       "      <td>[[65.23110812441777, 8.220414676017084], [62.5...</td>\n",
       "      <td>[28.389486, 28.209822, 28.007545, 27.813864, 2...</td>\n",
       "      <td>[[72.8621368084351, 13.53665765315761], [72.41...</td>\n",
       "      <td>[[72.18478668206376, 10.328978616940205], [71....</td>\n",
       "      <td>[21.16527, 21.272135, 21.302916, 21.162853, 20...</td>\n",
       "      <td>...</td>\n",
       "      <td>long_comp</td>\n",
       "      <td>2020598.0</td>\n",
       "      <td>61007363.0</td>\n",
       "      <td>[60.1935112853622, 35.25163617313764]</td>\n",
       "      <td>20240317_172017_long_comp_subj_4-2_and_4-3</td>\n",
       "      <td>20240317_172017_long_comp_subj_4-2_and_4-3.1.f...</td>\n",
       "      <td>1</td>\n",
       "      <td>58878</td>\n",
       "      <td>[4.2, 4.3]</td>\n",
       "      <td>1</td>\n",
       "    </tr>\n",
       "    <tr>\n",
       "      <th>4</th>\n",
       "      <td>20240318_143819_long_comp_subj_3-3_and_3-4.1</td>\n",
       "      <td>3.3</td>\n",
       "      <td>[1733, 1733, 1733, 1733, 1733, 1733, 1733, 173...</td>\n",
       "      <td>[1134, 1134, 1134, 1134, 1134, 1134, 1134, 113...</td>\n",
       "      <td>[[[61.29948457574409, 34.98487547102027], [61....</td>\n",
       "      <td>[[58.01061366578415, 33.98924535992776], [58.0...</td>\n",
       "      <td>[3.077167, 3.613538, 4.1945314, 4.827455, 5.53...</td>\n",
       "      <td>[[68.06216599593583, 32.37245454635553], [67.8...</td>\n",
       "      <td>[[65.57930503887175, 33.84569047638807], [65.3...</td>\n",
       "      <td>[8.288751, 9.374064, 10.581271, 11.979093, 13....</td>\n",
       "      <td>...</td>\n",
       "      <td>long_comp</td>\n",
       "      <td>1938832.0</td>\n",
       "      <td>60762064.0</td>\n",
       "      <td>[60.56358180384908, 36.19153363328459]</td>\n",
       "      <td>20240318_143819_long_comp_subj_3-3_and_3-4</td>\n",
       "      <td>20240318_143819_long_comp_subj_3-3_and_3-4.1.f...</td>\n",
       "      <td>1</td>\n",
       "      <td>58752</td>\n",
       "      <td>[3.3, 3.4]</td>\n",
       "      <td>2</td>\n",
       "    </tr>\n",
       "  </tbody>\n",
       "</table>\n",
       "<p>5 rows × 71 columns</p>\n",
       "</div>"
      ],
      "text/plain": [
       "                                     video_name current_subject  \\\n",
       "0  20240317_151922_long_comp_subj_3-1_and_3-3.1             3.1   \n",
       "1  20240317_151922_long_comp_subj_3-1_and_3-3.1             3.3   \n",
       "2  20240317_172017_long_comp_subj_4-2_and_4-3.1             4.2   \n",
       "3  20240317_172017_long_comp_subj_4-2_and_4-3.1             4.3   \n",
       "4  20240318_143819_long_comp_subj_3-3_and_3-4.1             3.3   \n",
       "\n",
       "                                10s_after_tone_frame  \\\n",
       "0  [1686, 1686, 1686, 1686, 1686, 1686, 1686, 168...   \n",
       "1  [1686, 1686, 1686, 1686, 1686, 1686, 1686, 168...   \n",
       "2  [1701, 1701, 1701, 1701, 1701, 1701, 1701, 170...   \n",
       "3  [1701, 1701, 1701, 1701, 1701, 1701, 1701, 170...   \n",
       "4  [1733, 1733, 1733, 1733, 1733, 1733, 1733, 173...   \n",
       "\n",
       "                               10s_before_tone_frame  \\\n",
       "0  [1086, 1086, 1086, 1086, 1086, 1086, 1086, 108...   \n",
       "1  [1086, 1086, 1086, 1086, 1086, 1086, 1086, 108...   \n",
       "2  [1100, 1100, 1100, 1100, 1100, 1100, 1100, 110...   \n",
       "3  [1100, 1100, 1100, 1100, 1100, 1100, 1100, 110...   \n",
       "4  [1134, 1134, 1134, 1134, 1134, 1134, 1134, 113...   \n",
       "\n",
       "                                     agent_locations  \\\n",
       "0  [[[47.329585864054316, 13.395104517336417], [4...   \n",
       "1  [[[61.390550187751444, 36.122362967315595], [5...   \n",
       "2  [[[61.75545079959451, 33.21821636449367], [59....   \n",
       "3  [[[67.1750209289574, 9.986812953490931], [69.1...   \n",
       "4  [[[61.29948457574409, 34.98487547102027], [61....   \n",
       "\n",
       "                                          agent_nose  \\\n",
       "0  [[43.139588993359475, 13.385259646809214], [43...   \n",
       "1  [[60.14673983110819, 38.0809500426292], [60.14...   \n",
       "2  [[60.79884848875681, 35.963595797483414], [60....   \n",
       "3  [[65.23110812441777, 8.220414676017084], [62.5...   \n",
       "4  [[58.01061366578415, 33.98924535992776], [58.0...   \n",
       "\n",
       "                           agent_nose_to_reward_port  \\\n",
       "0  [29.850004, 29.948483, 30.033619, 30.119339, 3...   \n",
       "1  [0.7214881, 0.70931464, 0.7049949, 0.705891, 0...   \n",
       "2  [1.2679133, 1.1848546, 1.0835545, 1.0503241, 1...   \n",
       "3  [28.389486, 28.209822, 28.007545, 27.813864, 2...   \n",
       "4  [3.077167, 3.613538, 4.1945314, 4.827455, 5.53...   \n",
       "\n",
       "                                     agent_tail_base  \\\n",
       "0  [[54.49241922411595, 12.722769593270066], [54....   \n",
       "1  [[65.86894804065032, 31.8436244490543], [65.86...   \n",
       "2  [[56.32709801682682, 29.966639024342353], [56....   \n",
       "3  [[72.8621368084351, 13.53665765315761], [72.41...   \n",
       "4  [[68.06216599593583, 32.37245454635553], [67.8...   \n",
       "\n",
       "                                        agent_thorax  \\\n",
       "0  [[51.04336785027878, 11.609328010205985], [51....   \n",
       "1  [[64.11036004541992, 34.137273635147906], [64....   \n",
       "2  [[57.3449526902064, 32.078917344899914], [57.5...   \n",
       "3  [[72.18478668206376, 10.328978616940205], [71....   \n",
       "4  [[65.57930503887175, 33.84569047638807], [65.3...   \n",
       "\n",
       "                               agent_thorax_velocity  ... experiment  \\\n",
       "0  [1.75459, 0.8485628, 0.20676309, -0.17881195, ...  ...  long_comp   \n",
       "1  [0.11019329, 0.08970148, 0.09392373, 0.1159680...  ...  long_comp   \n",
       "2  [0.28695866, 0.29812592, 0.3080636, 0.34382957...  ...  long_comp   \n",
       "3  [21.16527, 21.272135, 21.302916, 21.162853, 20...  ...  long_comp   \n",
       "4  [8.288751, 9.374064, 10.581271, 11.979093, 13....  ...  long_comp   \n",
       "\n",
       "  first_timestamp last_timestamp                             reward_port  \\\n",
       "0       2415571.0     48236575.0  [60.41313477701829, 37.56463736381247]   \n",
       "1       2415571.0     48236575.0  [60.41313477701829, 37.56463736381247]   \n",
       "2       2020598.0     61007363.0   [60.1935112853622, 35.25163617313764]   \n",
       "3       2020598.0     61007363.0   [60.1935112853622, 35.25163617313764]   \n",
       "4       1938832.0     60762064.0  [60.56358180384908, 36.19153363328459]   \n",
       "\n",
       "                                  session_dir  \\\n",
       "0  20240317_151922_long_comp_subj_3-1_and_3-3   \n",
       "1  20240317_151922_long_comp_subj_3-1_and_3-3   \n",
       "2  20240317_172017_long_comp_subj_4-2_and_4-3   \n",
       "3  20240317_172017_long_comp_subj_4-2_and_4-3   \n",
       "4  20240318_143819_long_comp_subj_3-3_and_3-4   \n",
       "\n",
       "                                          sleap_name start_frame stop_frame  \\\n",
       "0  20240317_151922_long_comp_subj_3-1_and_3-3.1.f...           1      45736   \n",
       "1  20240317_151922_long_comp_subj_3-1_and_3-3.1.f...           1      45736   \n",
       "2  20240317_172017_long_comp_subj_4-2_and_4-3.1.f...           1      58878   \n",
       "3  20240317_172017_long_comp_subj_4-2_and_4-3.1.f...           1      58878   \n",
       "4  20240318_143819_long_comp_subj_3-3_and_3-4.1.f...           1      58752   \n",
       "\n",
       "  tracked_subject video_id  \n",
       "0      [3.1, 3.3]        0  \n",
       "1      [3.1, 3.3]        0  \n",
       "2      [4.2, 4.3]        1  \n",
       "3      [4.2, 4.3]        1  \n",
       "4      [3.3, 3.4]        2  \n",
       "\n",
       "[5 rows x 71 columns]"
      ]
     },
     "execution_count": 14,
     "metadata": {},
     "output_type": "execute_result"
    }
   ],
   "source": [
    "SLEAP_DF.head()"
   ]
  },
  {
   "cell_type": "markdown",
   "metadata": {},
   "source": [
    "## Outputs"
   ]
  },
  {
   "cell_type": "markdown",
   "metadata": {},
   "source": [
    "Describe each output that the notebook creates. "
   ]
  },
  {
   "cell_type": "markdown",
   "metadata": {},
   "source": [
    "- Is it a plot or is it data?"
   ]
  },
  {
   "cell_type": "markdown",
   "metadata": {},
   "source": [
    "- How valuable is the output and why is it valuable or useful?"
   ]
  },
  {
   "cell_type": "code",
   "execution_count": 15,
   "metadata": {
    "tags": []
   },
   "outputs": [],
   "source": [
    "# Inputs and Required data loading\n",
    "# input varaible names are in all caps snake case\n",
    "# Whenever an input changes or is used for processing \n",
    "# the vairables are all lower in snake case\n",
    "OUTPUT_DIR = r\"./proc/\" # where data is saved should always be shown in the inputs\n",
    "os.makedirs(OUTPUT_DIR, exist_ok=True)"
   ]
  },
  {
   "cell_type": "code",
   "execution_count": 16,
   "metadata": {
    "tags": []
   },
   "outputs": [],
   "source": [
    "FULL_LFP_TRACES_PKL = \"{}_04_spectral_and_sleap.pkl\".format(OUTPUT_PREFIX)"
   ]
  },
  {
   "cell_type": "markdown",
   "metadata": {},
   "source": [
    "## Processing"
   ]
  },
  {
   "cell_type": "markdown",
   "metadata": {},
   "source": [
    "Describe what is done to the data here and how inputs are manipulated to generate outputs. "
   ]
  },
  {
   "cell_type": "markdown",
   "metadata": {},
   "source": [
    "## Merging the dataframes based on shared video name"
   ]
  },
  {
   "cell_type": "code",
   "execution_count": 17,
   "metadata": {
    "tags": []
   },
   "outputs": [],
   "source": [
    "LFP_SPECTRAL_DF[\"video_name\"] = LFP_SPECTRAL_DF[\"video_name\"].apply(lambda x: x.strip(\".videoTimeStamps.cameraHWSync\"))\n"
   ]
  },
  {
   "cell_type": "code",
   "execution_count": 18,
   "metadata": {
    "tags": []
   },
   "outputs": [
    {
     "data": {
      "text/html": [
       "<div>\n",
       "<style scoped>\n",
       "    .dataframe tbody tr th:only-of-type {\n",
       "        vertical-align: middle;\n",
       "    }\n",
       "\n",
       "    .dataframe tbody tr th {\n",
       "        vertical-align: top;\n",
       "    }\n",
       "\n",
       "    .dataframe thead th {\n",
       "        text-align: right;\n",
       "    }\n",
       "</style>\n",
       "<table border=\"1\" class=\"dataframe\">\n",
       "  <thead>\n",
       "    <tr style=\"text-align: right;\">\n",
       "      <th></th>\n",
       "      <th>cohort</th>\n",
       "      <th>session_dir</th>\n",
       "      <th>tone_frames</th>\n",
       "      <th>box_1_port_entry_frames</th>\n",
       "      <th>box_2_port_entry_frames</th>\n",
       "      <th>video_name</th>\n",
       "      <th>notes</th>\n",
       "      <th>session_path</th>\n",
       "      <th>recording</th>\n",
       "      <th>current_subject</th>\n",
       "      <th>...</th>\n",
       "      <th>vHPC_power_theta</th>\n",
       "      <th>vHPC_power_gamma</th>\n",
       "      <th>BLA_power_theta</th>\n",
       "      <th>BLA_power_gamma</th>\n",
       "      <th>LH_power_theta</th>\n",
       "      <th>LH_power_gamma</th>\n",
       "      <th>MD_power_theta</th>\n",
       "      <th>MD_power_gamma</th>\n",
       "      <th>mPFC_power_theta</th>\n",
       "      <th>mPFC_power_gamma</th>\n",
       "    </tr>\n",
       "  </thead>\n",
       "  <tbody>\n",
       "    <tr>\n",
       "      <th>0</th>\n",
       "      <td>rce_pilot_3</td>\n",
       "      <td>20240317_151922_long_comp_subj_3-1_and_3-3</td>\n",
       "      <td>[[1, 88], [1286, 1486], [3282, 3482], [4480, 4...</td>\n",
       "      <td>[[1, 88], [259, 278], [310, 365], [366, 382], ...</td>\n",
       "      <td>[]</td>\n",
       "      <td>20240317_151922_long_comp_subj_3-1_and_3-3.1</td>\n",
       "      <td>NaN</td>\n",
       "      <td>/scratch/back_up/reward_competition_extention/...</td>\n",
       "      <td>20240317_151922_long_comp_subj_3-1_t6b6_merged</td>\n",
       "      <td>3.1</td>\n",
       "      <td>...</td>\n",
       "      <td>[0.029989537, 0.05074093, 0.045202438, 0.03654...</td>\n",
       "      <td>[0.0021393485, 0.001990721, 0.0016591972, 0.00...</td>\n",
       "      <td>[0.01576374, 0.017160619, nan, nan, 0.01513487...</td>\n",
       "      <td>[0.0029858148, 0.0055226046, nan, nan, 0.00234...</td>\n",
       "      <td>[0.014374395, nan, nan, nan, nan, nan, 0.02792...</td>\n",
       "      <td>[0.0015033478, nan, nan, nan, nan, nan, 0.0011...</td>\n",
       "      <td>[0.015749235, nan, nan, 0.013588659, 0.0394984...</td>\n",
       "      <td>[0.0012602397, nan, nan, 0.0016373609, 0.00110...</td>\n",
       "      <td>[0.02549853, 0.01599767, 0.019950056, 0.041470...</td>\n",
       "      <td>[0.0018852353, 0.0019809369, 0.0013036462, 0.0...</td>\n",
       "    </tr>\n",
       "    <tr>\n",
       "      <th>1</th>\n",
       "      <td>rce_pilot_3</td>\n",
       "      <td>20240317_151922_long_comp_subj_3-1_and_3-3</td>\n",
       "      <td>[[2, 132], [1922, 2220], [4906, 5203], [6696, ...</td>\n",
       "      <td>[[2, 132], [387, 415], [463, 546], [548, 571],...</td>\n",
       "      <td>[]</td>\n",
       "      <td>20240317_151922_long_comp_subj_3-1_and_3-3.2</td>\n",
       "      <td>NaN</td>\n",
       "      <td>/scratch/back_up/reward_competition_extention/...</td>\n",
       "      <td>20240317_151922_long_comp_subj_3-1_t6b6_merged</td>\n",
       "      <td>3.1</td>\n",
       "      <td>...</td>\n",
       "      <td>[0.029989537, 0.05074093, 0.045202438, 0.03654...</td>\n",
       "      <td>[0.0021393485, 0.001990721, 0.0016591972, 0.00...</td>\n",
       "      <td>[0.01576374, 0.017160619, nan, nan, 0.01513487...</td>\n",
       "      <td>[0.0029858148, 0.0055226046, nan, nan, 0.00234...</td>\n",
       "      <td>[0.014374395, nan, nan, nan, nan, nan, 0.02792...</td>\n",
       "      <td>[0.0015033478, nan, nan, nan, nan, nan, 0.0011...</td>\n",
       "      <td>[0.015749235, nan, nan, 0.013588659, 0.0394984...</td>\n",
       "      <td>[0.0012602397, nan, nan, 0.0016373609, 0.00110...</td>\n",
       "      <td>[0.02549853, 0.01599767, 0.019950056, 0.041470...</td>\n",
       "      <td>[0.0018852353, 0.0019809369, 0.0013036462, 0.0...</td>\n",
       "    </tr>\n",
       "    <tr>\n",
       "      <th>2</th>\n",
       "      <td>rce_pilot_3</td>\n",
       "      <td>20240317_151922_long_comp_subj_3-1_and_3-3</td>\n",
       "      <td>[[1, 88], [1286, 1486], [3282, 3482], [4480, 4...</td>\n",
       "      <td>[[1, 88], [259, 278], [310, 365], [366, 382], ...</td>\n",
       "      <td>[]</td>\n",
       "      <td>20240317_151922_long_comp_subj_3-1_and_3-3.1</td>\n",
       "      <td>NaN</td>\n",
       "      <td>/scratch/back_up/reward_competition_extention/...</td>\n",
       "      <td>20240317_151922_long_comp_subj_3-3_t5b5_merged</td>\n",
       "      <td>3.3</td>\n",
       "      <td>...</td>\n",
       "      <td>[0.030139383, 0.038337562, 0.035997633, 0.0163...</td>\n",
       "      <td>[0.0013218134, 0.001314961, 0.0014802001, 0.00...</td>\n",
       "      <td>[0.035382226, 0.031998232, 0.029764285, 0.0189...</td>\n",
       "      <td>[0.0013072899, 0.0012992765, 0.0010765253, 0.0...</td>\n",
       "      <td>[0.03857511, 0.028973801, 0.029779362, 0.02279...</td>\n",
       "      <td>[0.0009867165, 0.0008933175, 0.00090869045, 0....</td>\n",
       "      <td>[0.01698081, 0.014525875, 0.015493691, 0.01093...</td>\n",
       "      <td>[0.0012375844, 0.0010923791, 0.0008535082, 0.0...</td>\n",
       "      <td>[0.020940535, 0.027591836, 0.029557036, 0.0211...</td>\n",
       "      <td>[0.0014317904, 0.0010592391, 0.0012028972, 0.0...</td>\n",
       "    </tr>\n",
       "    <tr>\n",
       "      <th>3</th>\n",
       "      <td>rce_pilot_3</td>\n",
       "      <td>20240317_151922_long_comp_subj_3-1_and_3-3</td>\n",
       "      <td>[[2, 132], [1922, 2220], [4906, 5203], [6696, ...</td>\n",
       "      <td>[[2, 132], [387, 415], [463, 546], [548, 571],...</td>\n",
       "      <td>[]</td>\n",
       "      <td>20240317_151922_long_comp_subj_3-1_and_3-3.2</td>\n",
       "      <td>NaN</td>\n",
       "      <td>/scratch/back_up/reward_competition_extention/...</td>\n",
       "      <td>20240317_151922_long_comp_subj_3-3_t5b5_merged</td>\n",
       "      <td>3.3</td>\n",
       "      <td>...</td>\n",
       "      <td>[0.030139383, 0.038337562, 0.035997633, 0.0163...</td>\n",
       "      <td>[0.0013218134, 0.001314961, 0.0014802001, 0.00...</td>\n",
       "      <td>[0.035382226, 0.031998232, 0.029764285, 0.0189...</td>\n",
       "      <td>[0.0013072899, 0.0012992765, 0.0010765253, 0.0...</td>\n",
       "      <td>[0.03857511, 0.028973801, 0.029779362, 0.02279...</td>\n",
       "      <td>[0.0009867165, 0.0008933175, 0.00090869045, 0....</td>\n",
       "      <td>[0.01698081, 0.014525875, 0.015493691, 0.01093...</td>\n",
       "      <td>[0.0012375844, 0.0010923791, 0.0008535082, 0.0...</td>\n",
       "      <td>[0.020940535, 0.027591836, 0.029557036, 0.0211...</td>\n",
       "      <td>[0.0014317904, 0.0010592391, 0.0012028972, 0.0...</td>\n",
       "    </tr>\n",
       "    <tr>\n",
       "      <th>4</th>\n",
       "      <td>rce_pilot_3</td>\n",
       "      <td>20240317_172017_long_comp_subj_4-2_and_4-3</td>\n",
       "      <td>[[1, 102], [1300, 1501], [3297, 3497], [4494, ...</td>\n",
       "      <td>[[1, 102], [115, 153], [191, 245], [261, 263],...</td>\n",
       "      <td>[]</td>\n",
       "      <td>20240317_172017_long_comp_subj_4-2_and_4-3.1</td>\n",
       "      <td>NaN</td>\n",
       "      <td>/scratch/back_up/reward_competition_extention/...</td>\n",
       "      <td>20240317_172017_long_comp_subj_4-2_t6b6_merged</td>\n",
       "      <td>4.2</td>\n",
       "      <td>...</td>\n",
       "      <td>[0.028422035, 0.01407221, 0.023395533, 0.02382...</td>\n",
       "      <td>[0.0036248525, 0.004009613, 0.0021644833, 0.00...</td>\n",
       "      <td>[0.045641977, 0.046155874, 0.029715423, 0.0361...</td>\n",
       "      <td>[0.0026258836, 0.0029411335, 0.004551022, 0.00...</td>\n",
       "      <td>[nan, nan, nan, nan, nan, nan, nan, nan, nan, ...</td>\n",
       "      <td>[nan, nan, nan, nan, nan, nan, nan, nan, nan, ...</td>\n",
       "      <td>[nan, nan, nan, nan, nan, nan, nan, nan, nan, ...</td>\n",
       "      <td>[nan, nan, nan, nan, nan, nan, nan, nan, nan, ...</td>\n",
       "      <td>[0.03796135, 0.033379465, 0.020905837, 0.03186...</td>\n",
       "      <td>[0.001795531, 0.0019260239, 0.0023288091, 0.00...</td>\n",
       "    </tr>\n",
       "  </tbody>\n",
       "</table>\n",
       "<p>5 rows × 155 columns</p>\n",
       "</div>"
      ],
      "text/plain": [
       "        cohort                                 session_dir  \\\n",
       "0  rce_pilot_3  20240317_151922_long_comp_subj_3-1_and_3-3   \n",
       "1  rce_pilot_3  20240317_151922_long_comp_subj_3-1_and_3-3   \n",
       "2  rce_pilot_3  20240317_151922_long_comp_subj_3-1_and_3-3   \n",
       "3  rce_pilot_3  20240317_151922_long_comp_subj_3-1_and_3-3   \n",
       "4  rce_pilot_3  20240317_172017_long_comp_subj_4-2_and_4-3   \n",
       "\n",
       "                                         tone_frames  \\\n",
       "0  [[1, 88], [1286, 1486], [3282, 3482], [4480, 4...   \n",
       "1  [[2, 132], [1922, 2220], [4906, 5203], [6696, ...   \n",
       "2  [[1, 88], [1286, 1486], [3282, 3482], [4480, 4...   \n",
       "3  [[2, 132], [1922, 2220], [4906, 5203], [6696, ...   \n",
       "4  [[1, 102], [1300, 1501], [3297, 3497], [4494, ...   \n",
       "\n",
       "                             box_1_port_entry_frames box_2_port_entry_frames  \\\n",
       "0  [[1, 88], [259, 278], [310, 365], [366, 382], ...                      []   \n",
       "1  [[2, 132], [387, 415], [463, 546], [548, 571],...                      []   \n",
       "2  [[1, 88], [259, 278], [310, 365], [366, 382], ...                      []   \n",
       "3  [[2, 132], [387, 415], [463, 546], [548, 571],...                      []   \n",
       "4  [[1, 102], [115, 153], [191, 245], [261, 263],...                      []   \n",
       "\n",
       "                                     video_name notes  \\\n",
       "0  20240317_151922_long_comp_subj_3-1_and_3-3.1   NaN   \n",
       "1  20240317_151922_long_comp_subj_3-1_and_3-3.2   NaN   \n",
       "2  20240317_151922_long_comp_subj_3-1_and_3-3.1   NaN   \n",
       "3  20240317_151922_long_comp_subj_3-1_and_3-3.2   NaN   \n",
       "4  20240317_172017_long_comp_subj_4-2_and_4-3.1   NaN   \n",
       "\n",
       "                                        session_path  \\\n",
       "0  /scratch/back_up/reward_competition_extention/...   \n",
       "1  /scratch/back_up/reward_competition_extention/...   \n",
       "2  /scratch/back_up/reward_competition_extention/...   \n",
       "3  /scratch/back_up/reward_competition_extention/...   \n",
       "4  /scratch/back_up/reward_competition_extention/...   \n",
       "\n",
       "                                        recording current_subject  ...  \\\n",
       "0  20240317_151922_long_comp_subj_3-1_t6b6_merged             3.1  ...   \n",
       "1  20240317_151922_long_comp_subj_3-1_t6b6_merged             3.1  ...   \n",
       "2  20240317_151922_long_comp_subj_3-3_t5b5_merged             3.3  ...   \n",
       "3  20240317_151922_long_comp_subj_3-3_t5b5_merged             3.3  ...   \n",
       "4  20240317_172017_long_comp_subj_4-2_t6b6_merged             4.2  ...   \n",
       "\n",
       "                                    vHPC_power_theta  \\\n",
       "0  [0.029989537, 0.05074093, 0.045202438, 0.03654...   \n",
       "1  [0.029989537, 0.05074093, 0.045202438, 0.03654...   \n",
       "2  [0.030139383, 0.038337562, 0.035997633, 0.0163...   \n",
       "3  [0.030139383, 0.038337562, 0.035997633, 0.0163...   \n",
       "4  [0.028422035, 0.01407221, 0.023395533, 0.02382...   \n",
       "\n",
       "                                    vHPC_power_gamma  \\\n",
       "0  [0.0021393485, 0.001990721, 0.0016591972, 0.00...   \n",
       "1  [0.0021393485, 0.001990721, 0.0016591972, 0.00...   \n",
       "2  [0.0013218134, 0.001314961, 0.0014802001, 0.00...   \n",
       "3  [0.0013218134, 0.001314961, 0.0014802001, 0.00...   \n",
       "4  [0.0036248525, 0.004009613, 0.0021644833, 0.00...   \n",
       "\n",
       "                                     BLA_power_theta  \\\n",
       "0  [0.01576374, 0.017160619, nan, nan, 0.01513487...   \n",
       "1  [0.01576374, 0.017160619, nan, nan, 0.01513487...   \n",
       "2  [0.035382226, 0.031998232, 0.029764285, 0.0189...   \n",
       "3  [0.035382226, 0.031998232, 0.029764285, 0.0189...   \n",
       "4  [0.045641977, 0.046155874, 0.029715423, 0.0361...   \n",
       "\n",
       "                                     BLA_power_gamma  \\\n",
       "0  [0.0029858148, 0.0055226046, nan, nan, 0.00234...   \n",
       "1  [0.0029858148, 0.0055226046, nan, nan, 0.00234...   \n",
       "2  [0.0013072899, 0.0012992765, 0.0010765253, 0.0...   \n",
       "3  [0.0013072899, 0.0012992765, 0.0010765253, 0.0...   \n",
       "4  [0.0026258836, 0.0029411335, 0.004551022, 0.00...   \n",
       "\n",
       "                                      LH_power_theta  \\\n",
       "0  [0.014374395, nan, nan, nan, nan, nan, 0.02792...   \n",
       "1  [0.014374395, nan, nan, nan, nan, nan, 0.02792...   \n",
       "2  [0.03857511, 0.028973801, 0.029779362, 0.02279...   \n",
       "3  [0.03857511, 0.028973801, 0.029779362, 0.02279...   \n",
       "4  [nan, nan, nan, nan, nan, nan, nan, nan, nan, ...   \n",
       "\n",
       "                                      LH_power_gamma  \\\n",
       "0  [0.0015033478, nan, nan, nan, nan, nan, 0.0011...   \n",
       "1  [0.0015033478, nan, nan, nan, nan, nan, 0.0011...   \n",
       "2  [0.0009867165, 0.0008933175, 0.00090869045, 0....   \n",
       "3  [0.0009867165, 0.0008933175, 0.00090869045, 0....   \n",
       "4  [nan, nan, nan, nan, nan, nan, nan, nan, nan, ...   \n",
       "\n",
       "                                      MD_power_theta  \\\n",
       "0  [0.015749235, nan, nan, 0.013588659, 0.0394984...   \n",
       "1  [0.015749235, nan, nan, 0.013588659, 0.0394984...   \n",
       "2  [0.01698081, 0.014525875, 0.015493691, 0.01093...   \n",
       "3  [0.01698081, 0.014525875, 0.015493691, 0.01093...   \n",
       "4  [nan, nan, nan, nan, nan, nan, nan, nan, nan, ...   \n",
       "\n",
       "                                      MD_power_gamma  \\\n",
       "0  [0.0012602397, nan, nan, 0.0016373609, 0.00110...   \n",
       "1  [0.0012602397, nan, nan, 0.0016373609, 0.00110...   \n",
       "2  [0.0012375844, 0.0010923791, 0.0008535082, 0.0...   \n",
       "3  [0.0012375844, 0.0010923791, 0.0008535082, 0.0...   \n",
       "4  [nan, nan, nan, nan, nan, nan, nan, nan, nan, ...   \n",
       "\n",
       "                                    mPFC_power_theta  \\\n",
       "0  [0.02549853, 0.01599767, 0.019950056, 0.041470...   \n",
       "1  [0.02549853, 0.01599767, 0.019950056, 0.041470...   \n",
       "2  [0.020940535, 0.027591836, 0.029557036, 0.0211...   \n",
       "3  [0.020940535, 0.027591836, 0.029557036, 0.0211...   \n",
       "4  [0.03796135, 0.033379465, 0.020905837, 0.03186...   \n",
       "\n",
       "                                    mPFC_power_gamma  \n",
       "0  [0.0018852353, 0.0019809369, 0.0013036462, 0.0...  \n",
       "1  [0.0018852353, 0.0019809369, 0.0013036462, 0.0...  \n",
       "2  [0.0014317904, 0.0010592391, 0.0012028972, 0.0...  \n",
       "3  [0.0014317904, 0.0010592391, 0.0012028972, 0.0...  \n",
       "4  [0.001795531, 0.0019260239, 0.0023288091, 0.00...  \n",
       "\n",
       "[5 rows x 155 columns]"
      ]
     },
     "execution_count": 18,
     "metadata": {},
     "output_type": "execute_result"
    }
   ],
   "source": [
    "LFP_SPECTRAL_DF.head()"
   ]
  },
  {
   "cell_type": "code",
   "execution_count": 19,
   "metadata": {
    "tags": []
   },
   "outputs": [],
   "source": [
    "SLEAP_DF[\"video_name\"] = SLEAP_DF[\"video_name\"].apply(lambda x: x.strip(\".videoTimeStamps.cameraHWSync\"))\n"
   ]
  },
  {
   "cell_type": "code",
   "execution_count": 20,
   "metadata": {},
   "outputs": [
    {
     "data": {
      "text/plain": [
       "0     [1287955.0, 1287955.0, 1287955.0, 1287955.0, 1...\n",
       "1     [1287955.0, 1287955.0, 1287955.0, 1287955.0, 1...\n",
       "2     [1302635.0, 1302635.0, 1302635.0, 1302635.0, 1...\n",
       "3     [1302635.0, 1302635.0, 1302635.0, 1302635.0, 1...\n",
       "4     [1300498.0, 1300498.0, 1300498.0, 1300498.0, 1...\n",
       "5     [1300498.0, 1300498.0, 1300498.0, 1300498.0, 1...\n",
       "6     [1378134.0, 1378134.0, 1378134.0, 1378134.0, 1...\n",
       "7     [1378134.0, 1378134.0, 1378134.0, 1378134.0, 1...\n",
       "8     [1543730.0, 1543730.0, 1543730.0, 1543730.0, 1...\n",
       "9     [1543730.0, 1543730.0, 1543730.0, 1543730.0, 1...\n",
       "10    [1362950.0, 1362950.0, 1362950.0, 1362950.0, 1...\n",
       "11    [1362950.0, 1362950.0, 1362950.0, 1362950.0, 1...\n",
       "12    [34276299.0, 34276299.0, 34276299.0, 34276299....\n",
       "13    [34276299.0, 34276299.0, 34276299.0, 34276299....\n",
       "14    [34280576.0, 34280576.0, 34280576.0, 34280576....\n",
       "15    [34280576.0, 34280576.0, 34280576.0, 34280576....\n",
       "16    [1305657.0, 1305657.0, 1305657.0, 1305657.0, 1...\n",
       "17    [1305657.0, 1305657.0, 1305657.0, 1305657.0, 1...\n",
       "18    [34303075.0, 34303075.0, 34303075.0, 34303075....\n",
       "19    [34303075.0, 34303075.0, 34303075.0, 34303075....\n",
       "20    [34296415.0, 34296415.0, 34296415.0, 34296415....\n",
       "21    [34296415.0, 34296415.0, 34296415.0, 34296415....\n",
       "22    [34269488.0, 34269488.0, 34269488.0, 34269488....\n",
       "23    [34269488.0, 34269488.0, 34269488.0, 34269488....\n",
       "24    [35156898.0, 35156898.0, 35156898.0, 35156898....\n",
       "25    [35156898.0, 35156898.0, 35156898.0, 35156898....\n",
       "26    [37364639.0, 37364639.0, 37364639.0, 37364639....\n",
       "27    [37364639.0, 37364639.0, 37364639.0, 37364639....\n",
       "Name: tone_start_timestamp, dtype: object"
      ]
     },
     "execution_count": 20,
     "metadata": {},
     "output_type": "execute_result"
    }
   ],
   "source": [
    "SLEAP_DF[\"tone_start_timestamp\"]"
   ]
  },
  {
   "cell_type": "code",
   "execution_count": 21,
   "metadata": {
    "tags": []
   },
   "outputs": [],
   "source": [
    "cols_to_use = LFP_SPECTRAL_DF.columns.difference(SLEAP_DF.columns)\n",
    "merged_LFP_SPECTRAL_DF = pd.merge(SLEAP_DF, LFP_SPECTRAL_DF[list(cols_to_use) + [\"video_name\", \"current_subject\"]], on=[\"video_name\", \"current_subject\"], how=\"inner\")"
   ]
  },
  {
   "cell_type": "code",
   "execution_count": 22,
   "metadata": {
    "tags": []
   },
   "outputs": [
    {
     "data": {
      "text/html": [
       "<div>\n",
       "<style scoped>\n",
       "    .dataframe tbody tr th:only-of-type {\n",
       "        vertical-align: middle;\n",
       "    }\n",
       "\n",
       "    .dataframe tbody tr th {\n",
       "        vertical-align: top;\n",
       "    }\n",
       "\n",
       "    .dataframe thead th {\n",
       "        text-align: right;\n",
       "    }\n",
       "</style>\n",
       "<table border=\"1\" class=\"dataframe\">\n",
       "  <thead>\n",
       "    <tr style=\"text-align: right;\">\n",
       "      <th></th>\n",
       "      <th>video_name</th>\n",
       "      <th>current_subject</th>\n",
       "      <th>10s_after_tone_frame</th>\n",
       "      <th>10s_before_tone_frame</th>\n",
       "      <th>agent_locations</th>\n",
       "      <th>agent_nose</th>\n",
       "      <th>agent_nose_to_reward_port</th>\n",
       "      <th>agent_tail_base</th>\n",
       "      <th>agent_thorax</th>\n",
       "      <th>agent_thorax_velocity</th>\n",
       "      <th>...</th>\n",
       "      <th>vHPC_gamma_band</th>\n",
       "      <th>vHPC_gamma_phase</th>\n",
       "      <th>vHPC_lfp_trace</th>\n",
       "      <th>vHPC_mPFC_granger_all_frequencies_all_windows</th>\n",
       "      <th>vHPC_power_all_frequencies_all_windows</th>\n",
       "      <th>vHPC_power_gamma</th>\n",
       "      <th>vHPC_power_theta</th>\n",
       "      <th>vHPC_theta_band</th>\n",
       "      <th>vHPC_theta_phase</th>\n",
       "      <th>video_timestamps</th>\n",
       "    </tr>\n",
       "  </thead>\n",
       "  <tbody>\n",
       "    <tr>\n",
       "      <th>0</th>\n",
       "      <td>20240317_151922_long_comp_subj_3-1_and_3-3.1</td>\n",
       "      <td>3.1</td>\n",
       "      <td>[1686, 1686, 1686, 1686, 1686, 1686, 1686, 168...</td>\n",
       "      <td>[1086, 1086, 1086, 1086, 1086, 1086, 1086, 108...</td>\n",
       "      <td>[[[47.329585864054316, 13.395104517336417], [4...</td>\n",
       "      <td>[[43.139588993359475, 13.385259646809214], [43...</td>\n",
       "      <td>[29.850004, 29.948483, 30.033619, 30.119339, 3...</td>\n",
       "      <td>[[54.49241922411595, 12.722769593270066], [54....</td>\n",
       "      <td>[[51.04336785027878, 11.609328010205985], [51....</td>\n",
       "      <td>[1.75459, 0.8485628, 0.20676309, -0.17881195, ...</td>\n",
       "      <td>...</td>\n",
       "      <td>[0.2201744, 0.29787034, 0.35982215, 0.40078652...</td>\n",
       "      <td>[-0.954227, -0.5681917, -0.37009934, -0.076165...</td>\n",
       "      <td>[-93.015, -87.75, -61.815, -29.445, -25.935, -...</td>\n",
       "      <td>[[0.45251086, 0.062478807, 0.47624385, 0.30874...</td>\n",
       "      <td>[[0.00589379, 0.0066235354, 0.008387087, 0.020...</td>\n",
       "      <td>[0.0021393485, 0.001990721, 0.0016591972, 0.00...</td>\n",
       "      <td>[0.029989537, 0.05074093, 0.045202438, 0.03654...</td>\n",
       "      <td>[-0.36557105, -0.35522795, -0.34353578, -0.330...</td>\n",
       "      <td>[2.4317799, 2.9768577, 3.0195692, -2.9837036, ...</td>\n",
       "      <td>[-2, 1384, 1384, 2770, 4156, 5542, 5542, 6928,...</td>\n",
       "    </tr>\n",
       "    <tr>\n",
       "      <th>1</th>\n",
       "      <td>20240317_151922_long_comp_subj_3-1_and_3-3.1</td>\n",
       "      <td>3.3</td>\n",
       "      <td>[1686, 1686, 1686, 1686, 1686, 1686, 1686, 168...</td>\n",
       "      <td>[1086, 1086, 1086, 1086, 1086, 1086, 1086, 108...</td>\n",
       "      <td>[[[61.390550187751444, 36.122362967315595], [5...</td>\n",
       "      <td>[[60.14673983110819, 38.0809500426292], [60.14...</td>\n",
       "      <td>[0.7214881, 0.70931464, 0.7049949, 0.705891, 0...</td>\n",
       "      <td>[[65.86894804065032, 31.8436244490543], [65.86...</td>\n",
       "      <td>[[64.11036004541992, 34.137273635147906], [64....</td>\n",
       "      <td>[0.11019329, 0.08970148, 0.09392373, 0.1159680...</td>\n",
       "      <td>...</td>\n",
       "      <td>[0.22105147, 0.22064163, 0.20793986, 0.1835019...</td>\n",
       "      <td>[-0.62403333, 0.03802512, 0.2023374, 0.5861103...</td>\n",
       "      <td>[63.569996, 69.615, 73.32, 57.914997, 37.05, 1...</td>\n",
       "      <td>[[0.001371691, 0.20976743, 0.17549993, 0.50632...</td>\n",
       "      <td>[[0.011929583, 0.01116798, 0.030497659, 0.0248...</td>\n",
       "      <td>[0.0013218134, 0.001314961, 0.0014802001, 0.00...</td>\n",
       "      <td>[0.030139383, 0.038337562, 0.035997633, 0.0163...</td>\n",
       "      <td>[0.092747614, 0.061942074, 0.030017471, -0.002...</td>\n",
       "      <td>[1.2483366, 1.4093654, 1.4967988, 1.5773847, 1...</td>\n",
       "      <td>[-2, 1384, 1384, 2770, 4156, 5542, 5542, 6928,...</td>\n",
       "    </tr>\n",
       "    <tr>\n",
       "      <th>2</th>\n",
       "      <td>20240317_172017_long_comp_subj_4-2_and_4-3.1</td>\n",
       "      <td>4.2</td>\n",
       "      <td>[1701, 1701, 1701, 1701, 1701, 1701, 1701, 170...</td>\n",
       "      <td>[1100, 1100, 1100, 1100, 1100, 1100, 1100, 110...</td>\n",
       "      <td>[[[61.75545079959451, 33.21821636449367], [59....</td>\n",
       "      <td>[[60.79884848875681, 35.963595797483414], [60....</td>\n",
       "      <td>[1.2679133, 1.1848546, 1.0835545, 1.0503241, 1...</td>\n",
       "      <td>[[56.32709801682682, 29.966639024342353], [56....</td>\n",
       "      <td>[[57.3449526902064, 32.078917344899914], [57.5...</td>\n",
       "      <td>[0.28695866, 0.29812592, 0.3080636, 0.34382957...</td>\n",
       "      <td>...</td>\n",
       "      <td>[0.0987376, -0.040491626, -0.18328854, -0.3207...</td>\n",
       "      <td>[1.1787544, 1.6703464, 1.9961439, 2.2459297, 2...</td>\n",
       "      <td>[20.67, -22.035, -49.53, -35.879997, -41.34, -...</td>\n",
       "      <td>[[0.12891674, 1.1085438, 1.110659, 0.18731599,...</td>\n",
       "      <td>[[0.02371147, 0.0119896205, 0.04165479, 0.0294...</td>\n",
       "      <td>[0.0036248525, 0.004009613, 0.0021644833, 0.00...</td>\n",
       "      <td>[0.028422035, 0.01407221, 0.023395533, 0.02382...</td>\n",
       "      <td>[-0.3841577, -0.3746623, -0.36333248, -0.35014...</td>\n",
       "      <td>[2.6506236, -2.9641438, -2.8957667, -2.6281376...</td>\n",
       "      <td>[-2, 1384, 2770, 2770, 4156, 5542, 5542, 6928,...</td>\n",
       "    </tr>\n",
       "    <tr>\n",
       "      <th>3</th>\n",
       "      <td>20240317_172017_long_comp_subj_4-2_and_4-3.1</td>\n",
       "      <td>4.3</td>\n",
       "      <td>[1701, 1701, 1701, 1701, 1701, 1701, 1701, 170...</td>\n",
       "      <td>[1100, 1100, 1100, 1100, 1100, 1100, 1100, 110...</td>\n",
       "      <td>[[[67.1750209289574, 9.986812953490931], [69.1...</td>\n",
       "      <td>[[65.23110812441777, 8.220414676017084], [62.5...</td>\n",
       "      <td>[28.389486, 28.209822, 28.007545, 27.813864, 2...</td>\n",
       "      <td>[[72.8621368084351, 13.53665765315761], [72.41...</td>\n",
       "      <td>[[72.18478668206376, 10.328978616940205], [71....</td>\n",
       "      <td>[21.16527, 21.272135, 21.302916, 21.162853, 20...</td>\n",
       "      <td>...</td>\n",
       "      <td>[0.20125747, 0.25603184, 0.297664, 0.3218874, ...</td>\n",
       "      <td>[-0.8791572, -0.44574457, -0.25671825, 0.05544...</td>\n",
       "      <td>[103.155, 145.275, 186.42, 190.70999, 185.4449...</td>\n",
       "      <td>[[2.2130556, 0.80043894, 0.22213456, 0.2710376...</td>\n",
       "      <td>[[0.008084274, 0.006739571, 0.008228533, 0.025...</td>\n",
       "      <td>[0.0013482062, 0.0012150956, 0.0016119903, 0.0...</td>\n",
       "      <td>[0.050342575, 0.03379877, 0.029949626, 0.03911...</td>\n",
       "      <td>[0.422362, 0.42610937, 0.4286247, 0.42985302, ...</td>\n",
       "      <td>[-0.84279317, -0.4306993, -0.40252516, -0.1809...</td>\n",
       "      <td>[-2, 1384, 2770, 2770, 4156, 5542, 5542, 6928,...</td>\n",
       "    </tr>\n",
       "    <tr>\n",
       "      <th>4</th>\n",
       "      <td>20240318_143819_long_comp_subj_3-3_and_3-4.1</td>\n",
       "      <td>3.3</td>\n",
       "      <td>[1733, 1733, 1733, 1733, 1733, 1733, 1733, 173...</td>\n",
       "      <td>[1134, 1134, 1134, 1134, 1134, 1134, 1134, 113...</td>\n",
       "      <td>[[[61.29948457574409, 34.98487547102027], [61....</td>\n",
       "      <td>[[58.01061366578415, 33.98924535992776], [58.0...</td>\n",
       "      <td>[3.077167, 3.613538, 4.1945314, 4.827455, 5.53...</td>\n",
       "      <td>[[68.06216599593583, 32.37245454635553], [67.8...</td>\n",
       "      <td>[[65.57930503887175, 33.84569047638807], [65.3...</td>\n",
       "      <td>[8.288751, 9.374064, 10.581271, 11.979093, 13....</td>\n",
       "      <td>...</td>\n",
       "      <td>[0.049426246, 0.083508745, 0.11384763, 0.13834...</td>\n",
       "      <td>[-1.1458093, -0.84176433, -0.61683136, -0.3612...</td>\n",
       "      <td>[-54.21, -60.254997, -66.494995, -64.155, -57....</td>\n",
       "      <td>[[0.678713, 0.37892807, 0.1396561, 0.028809266...</td>\n",
       "      <td>[[0.0035772505, 0.007254109, 0.008794605, 0.02...</td>\n",
       "      <td>[0.0016460003, 0.0016080565, 0.0019354661, 0.0...</td>\n",
       "      <td>[0.05727462, 0.03308555, 0.034518804, 0.043184...</td>\n",
       "      <td>[-0.5945928, -0.5781312, -0.5601761, -0.540729...</td>\n",
       "      <td>[2.5259705, 3.1337843, -3.0986528, -2.821297, ...</td>\n",
       "      <td>[-2, 1384, 1384, 2770, 2770, 4156, 5542, 5542,...</td>\n",
       "    </tr>\n",
       "  </tbody>\n",
       "</table>\n",
       "<p>5 rows × 219 columns</p>\n",
       "</div>"
      ],
      "text/plain": [
       "                                     video_name current_subject  \\\n",
       "0  20240317_151922_long_comp_subj_3-1_and_3-3.1             3.1   \n",
       "1  20240317_151922_long_comp_subj_3-1_and_3-3.1             3.3   \n",
       "2  20240317_172017_long_comp_subj_4-2_and_4-3.1             4.2   \n",
       "3  20240317_172017_long_comp_subj_4-2_and_4-3.1             4.3   \n",
       "4  20240318_143819_long_comp_subj_3-3_and_3-4.1             3.3   \n",
       "\n",
       "                                10s_after_tone_frame  \\\n",
       "0  [1686, 1686, 1686, 1686, 1686, 1686, 1686, 168...   \n",
       "1  [1686, 1686, 1686, 1686, 1686, 1686, 1686, 168...   \n",
       "2  [1701, 1701, 1701, 1701, 1701, 1701, 1701, 170...   \n",
       "3  [1701, 1701, 1701, 1701, 1701, 1701, 1701, 170...   \n",
       "4  [1733, 1733, 1733, 1733, 1733, 1733, 1733, 173...   \n",
       "\n",
       "                               10s_before_tone_frame  \\\n",
       "0  [1086, 1086, 1086, 1086, 1086, 1086, 1086, 108...   \n",
       "1  [1086, 1086, 1086, 1086, 1086, 1086, 1086, 108...   \n",
       "2  [1100, 1100, 1100, 1100, 1100, 1100, 1100, 110...   \n",
       "3  [1100, 1100, 1100, 1100, 1100, 1100, 1100, 110...   \n",
       "4  [1134, 1134, 1134, 1134, 1134, 1134, 1134, 113...   \n",
       "\n",
       "                                     agent_locations  \\\n",
       "0  [[[47.329585864054316, 13.395104517336417], [4...   \n",
       "1  [[[61.390550187751444, 36.122362967315595], [5...   \n",
       "2  [[[61.75545079959451, 33.21821636449367], [59....   \n",
       "3  [[[67.1750209289574, 9.986812953490931], [69.1...   \n",
       "4  [[[61.29948457574409, 34.98487547102027], [61....   \n",
       "\n",
       "                                          agent_nose  \\\n",
       "0  [[43.139588993359475, 13.385259646809214], [43...   \n",
       "1  [[60.14673983110819, 38.0809500426292], [60.14...   \n",
       "2  [[60.79884848875681, 35.963595797483414], [60....   \n",
       "3  [[65.23110812441777, 8.220414676017084], [62.5...   \n",
       "4  [[58.01061366578415, 33.98924535992776], [58.0...   \n",
       "\n",
       "                           agent_nose_to_reward_port  \\\n",
       "0  [29.850004, 29.948483, 30.033619, 30.119339, 3...   \n",
       "1  [0.7214881, 0.70931464, 0.7049949, 0.705891, 0...   \n",
       "2  [1.2679133, 1.1848546, 1.0835545, 1.0503241, 1...   \n",
       "3  [28.389486, 28.209822, 28.007545, 27.813864, 2...   \n",
       "4  [3.077167, 3.613538, 4.1945314, 4.827455, 5.53...   \n",
       "\n",
       "                                     agent_tail_base  \\\n",
       "0  [[54.49241922411595, 12.722769593270066], [54....   \n",
       "1  [[65.86894804065032, 31.8436244490543], [65.86...   \n",
       "2  [[56.32709801682682, 29.966639024342353], [56....   \n",
       "3  [[72.8621368084351, 13.53665765315761], [72.41...   \n",
       "4  [[68.06216599593583, 32.37245454635553], [67.8...   \n",
       "\n",
       "                                        agent_thorax  \\\n",
       "0  [[51.04336785027878, 11.609328010205985], [51....   \n",
       "1  [[64.11036004541992, 34.137273635147906], [64....   \n",
       "2  [[57.3449526902064, 32.078917344899914], [57.5...   \n",
       "3  [[72.18478668206376, 10.328978616940205], [71....   \n",
       "4  [[65.57930503887175, 33.84569047638807], [65.3...   \n",
       "\n",
       "                               agent_thorax_velocity  ...  \\\n",
       "0  [1.75459, 0.8485628, 0.20676309, -0.17881195, ...  ...   \n",
       "1  [0.11019329, 0.08970148, 0.09392373, 0.1159680...  ...   \n",
       "2  [0.28695866, 0.29812592, 0.3080636, 0.34382957...  ...   \n",
       "3  [21.16527, 21.272135, 21.302916, 21.162853, 20...  ...   \n",
       "4  [8.288751, 9.374064, 10.581271, 11.979093, 13....  ...   \n",
       "\n",
       "                                     vHPC_gamma_band  \\\n",
       "0  [0.2201744, 0.29787034, 0.35982215, 0.40078652...   \n",
       "1  [0.22105147, 0.22064163, 0.20793986, 0.1835019...   \n",
       "2  [0.0987376, -0.040491626, -0.18328854, -0.3207...   \n",
       "3  [0.20125747, 0.25603184, 0.297664, 0.3218874, ...   \n",
       "4  [0.049426246, 0.083508745, 0.11384763, 0.13834...   \n",
       "\n",
       "                                    vHPC_gamma_phase  \\\n",
       "0  [-0.954227, -0.5681917, -0.37009934, -0.076165...   \n",
       "1  [-0.62403333, 0.03802512, 0.2023374, 0.5861103...   \n",
       "2  [1.1787544, 1.6703464, 1.9961439, 2.2459297, 2...   \n",
       "3  [-0.8791572, -0.44574457, -0.25671825, 0.05544...   \n",
       "4  [-1.1458093, -0.84176433, -0.61683136, -0.3612...   \n",
       "\n",
       "                                      vHPC_lfp_trace  \\\n",
       "0  [-93.015, -87.75, -61.815, -29.445, -25.935, -...   \n",
       "1  [63.569996, 69.615, 73.32, 57.914997, 37.05, 1...   \n",
       "2  [20.67, -22.035, -49.53, -35.879997, -41.34, -...   \n",
       "3  [103.155, 145.275, 186.42, 190.70999, 185.4449...   \n",
       "4  [-54.21, -60.254997, -66.494995, -64.155, -57....   \n",
       "\n",
       "       vHPC_mPFC_granger_all_frequencies_all_windows  \\\n",
       "0  [[0.45251086, 0.062478807, 0.47624385, 0.30874...   \n",
       "1  [[0.001371691, 0.20976743, 0.17549993, 0.50632...   \n",
       "2  [[0.12891674, 1.1085438, 1.110659, 0.18731599,...   \n",
       "3  [[2.2130556, 0.80043894, 0.22213456, 0.2710376...   \n",
       "4  [[0.678713, 0.37892807, 0.1396561, 0.028809266...   \n",
       "\n",
       "              vHPC_power_all_frequencies_all_windows  \\\n",
       "0  [[0.00589379, 0.0066235354, 0.008387087, 0.020...   \n",
       "1  [[0.011929583, 0.01116798, 0.030497659, 0.0248...   \n",
       "2  [[0.02371147, 0.0119896205, 0.04165479, 0.0294...   \n",
       "3  [[0.008084274, 0.006739571, 0.008228533, 0.025...   \n",
       "4  [[0.0035772505, 0.007254109, 0.008794605, 0.02...   \n",
       "\n",
       "                                    vHPC_power_gamma  \\\n",
       "0  [0.0021393485, 0.001990721, 0.0016591972, 0.00...   \n",
       "1  [0.0013218134, 0.001314961, 0.0014802001, 0.00...   \n",
       "2  [0.0036248525, 0.004009613, 0.0021644833, 0.00...   \n",
       "3  [0.0013482062, 0.0012150956, 0.0016119903, 0.0...   \n",
       "4  [0.0016460003, 0.0016080565, 0.0019354661, 0.0...   \n",
       "\n",
       "                                    vHPC_power_theta  \\\n",
       "0  [0.029989537, 0.05074093, 0.045202438, 0.03654...   \n",
       "1  [0.030139383, 0.038337562, 0.035997633, 0.0163...   \n",
       "2  [0.028422035, 0.01407221, 0.023395533, 0.02382...   \n",
       "3  [0.050342575, 0.03379877, 0.029949626, 0.03911...   \n",
       "4  [0.05727462, 0.03308555, 0.034518804, 0.043184...   \n",
       "\n",
       "                                     vHPC_theta_band  \\\n",
       "0  [-0.36557105, -0.35522795, -0.34353578, -0.330...   \n",
       "1  [0.092747614, 0.061942074, 0.030017471, -0.002...   \n",
       "2  [-0.3841577, -0.3746623, -0.36333248, -0.35014...   \n",
       "3  [0.422362, 0.42610937, 0.4286247, 0.42985302, ...   \n",
       "4  [-0.5945928, -0.5781312, -0.5601761, -0.540729...   \n",
       "\n",
       "                                    vHPC_theta_phase  \\\n",
       "0  [2.4317799, 2.9768577, 3.0195692, -2.9837036, ...   \n",
       "1  [1.2483366, 1.4093654, 1.4967988, 1.5773847, 1...   \n",
       "2  [2.6506236, -2.9641438, -2.8957667, -2.6281376...   \n",
       "3  [-0.84279317, -0.4306993, -0.40252516, -0.1809...   \n",
       "4  [2.5259705, 3.1337843, -3.0986528, -2.821297, ...   \n",
       "\n",
       "                                    video_timestamps  \n",
       "0  [-2, 1384, 1384, 2770, 4156, 5542, 5542, 6928,...  \n",
       "1  [-2, 1384, 1384, 2770, 4156, 5542, 5542, 6928,...  \n",
       "2  [-2, 1384, 2770, 2770, 4156, 5542, 5542, 6928,...  \n",
       "3  [-2, 1384, 2770, 2770, 4156, 5542, 5542, 6928,...  \n",
       "4  [-2, 1384, 1384, 2770, 2770, 4156, 5542, 5542,...  \n",
       "\n",
       "[5 rows x 219 columns]"
      ]
     },
     "execution_count": 22,
     "metadata": {},
     "output_type": "execute_result"
    }
   ],
   "source": [
    "merged_LFP_SPECTRAL_DF.head()"
   ]
  },
  {
   "cell_type": "markdown",
   "metadata": {},
   "source": [
    "## Getting the timestamps of each cluster frame"
   ]
  },
  {
   "cell_type": "code",
   "execution_count": 23,
   "metadata": {},
   "outputs": [
    {
     "data": {
      "text/plain": [
       "array([ 1086,  1087,  1088, ..., 40511, 40512, 40513])"
      ]
     },
     "execution_count": 23,
     "metadata": {},
     "output_type": "execute_result"
    }
   ],
   "source": [
    "merged_LFP_SPECTRAL_DF[\"frame_index\"].iloc[0]"
   ]
  },
  {
   "cell_type": "code",
   "execution_count": 24,
   "metadata": {
    "tags": []
   },
   "outputs": [
    {
     "data": {
      "text/plain": [
       "array([      -2,     1384,     1384, ..., 45819618, 45819618, 45821004],\n",
       "      dtype=int32)"
      ]
     },
     "execution_count": 24,
     "metadata": {},
     "output_type": "execute_result"
    }
   ],
   "source": [
    "merged_LFP_SPECTRAL_DF[\"video_timestamps\"].iloc[0]"
   ]
  },
  {
   "cell_type": "code",
   "execution_count": 25,
   "metadata": {},
   "outputs": [],
   "source": [
    "merged_LFP_SPECTRAL_DF[\"cluster_timestamp\"] = merged_LFP_SPECTRAL_DF.apply(lambda x: x[\"video_timestamps\"][x[\"frame_index\"]], axis=1)\n"
   ]
  },
  {
   "cell_type": "code",
   "execution_count": 26,
   "metadata": {},
   "outputs": [
    {
     "data": {
      "text/plain": [
       "0    [1087906, 1089292, 1089292, 1090678, 1092063, ...\n",
       "1    [1087906, 1089292, 1089292, 1090678, 1092063, ...\n",
       "2    [1101765, 1103151, 1104536, 1104536, 1105922, ...\n",
       "3    [1101765, 1103151, 1104536, 1104536, 1105922, ...\n",
       "4    [1100378, 1101764, 1103150, 1104536, 1104536, ...\n",
       "Name: cluster_timestamp, dtype: object"
      ]
     },
     "execution_count": 26,
     "metadata": {},
     "output_type": "execute_result"
    }
   ],
   "source": [
    "merged_LFP_SPECTRAL_DF[\"cluster_timestamp\"].head()"
   ]
  },
  {
   "cell_type": "markdown",
   "metadata": {},
   "source": [
    "- Checking if the cluster timestamp shape matches the actual number of clusters"
   ]
  },
  {
   "cell_type": "code",
   "execution_count": 27,
   "metadata": {},
   "outputs": [
    {
     "data": {
      "text/plain": [
       "0    (17987,)\n",
       "1    (17987,)\n",
       "2    (24593,)\n",
       "3    (24593,)\n",
       "4    (24578,)\n",
       "Name: cluster_timestamp, dtype: object"
      ]
     },
     "execution_count": 27,
     "metadata": {},
     "output_type": "execute_result"
    }
   ],
   "source": [
    "merged_LFP_SPECTRAL_DF[\"cluster_timestamp\"].apply(lambda x: x.shape).head()"
   ]
  },
  {
   "cell_type": "code",
   "execution_count": 28,
   "metadata": {},
   "outputs": [
    {
     "data": {
      "text/plain": [
       "0    [4, 4, 4, 4, 4, 4, 4, 4, 4, 4, 4, 4, 4, 4, 4, ...\n",
       "1    [4, 4, 4, 4, 4, 4, 4, 4, 4, 4, 4, 4, 4, 4, 4, ...\n",
       "2    [1, 1, 1, 1, 1, 1, 1, 1, 1, 1, 1, 1, 4, 4, 4, ...\n",
       "3    [1, 1, 1, 1, 1, 1, 1, 1, 1, 1, 1, 1, 4, 4, 4, ...\n",
       "4    [2, 1, 1, 1, 1, 1, 1, 1, 1, 1, 1, 1, 1, 1, 1, ...\n",
       "Name: kmeans_cluster, dtype: object"
      ]
     },
     "execution_count": 28,
     "metadata": {},
     "output_type": "execute_result"
    }
   ],
   "source": [
    "merged_LFP_SPECTRAL_DF[\"kmeans_cluster\"].head()"
   ]
  },
  {
   "cell_type": "code",
   "execution_count": 29,
   "metadata": {},
   "outputs": [
    {
     "data": {
      "text/plain": [
       "0    (17987,)\n",
       "1    (17987,)\n",
       "2    (24593,)\n",
       "3    (24593,)\n",
       "4    (24578,)\n",
       "Name: kmeans_cluster, dtype: object"
      ]
     },
     "execution_count": 29,
     "metadata": {},
     "output_type": "execute_result"
    }
   ],
   "source": [
    "merged_LFP_SPECTRAL_DF[\"kmeans_cluster\"].apply(lambda x: x.shape).head()"
   ]
  },
  {
   "cell_type": "code",
   "execution_count": 30,
   "metadata": {
    "tags": []
   },
   "outputs": [
    {
     "data": {
      "text/plain": [
       "'rce_pilot_3_long_comp_04_spectral_and_sleap.pkl'"
      ]
     },
     "execution_count": 30,
     "metadata": {},
     "output_type": "execute_result"
    }
   ],
   "source": [
    "FULL_LFP_TRACES_PKL"
   ]
  },
  {
   "cell_type": "code",
   "execution_count": 31,
   "metadata": {
    "tags": []
   },
   "outputs": [
    {
     "data": {
      "text/plain": [
       "['video_name',\n",
       " 'current_subject',\n",
       " '10s_after_tone_frame',\n",
       " '10s_before_tone_frame',\n",
       " 'agent_locations',\n",
       " 'agent_nose',\n",
       " 'agent_nose_to_reward_port',\n",
       " 'agent_tail_base',\n",
       " 'agent_thorax',\n",
       " 'agent_thorax_velocity',\n",
       " 'agent_to_reward_port_angle',\n",
       " 'closebool_agent_nose_to_reward_port',\n",
       " 'closebool_subject_nose_to_reward_port',\n",
       " 'clusterable_embedding_x',\n",
       " 'clusterable_embedding_y',\n",
       " 'color',\n",
       " 'comp_id',\n",
       " 'competition_closeness',\n",
       " 'competitiveness',\n",
       " 'condition ',\n",
       " 'frame_index',\n",
       " 'get_reward_frame',\n",
       " 'kmeans_cluster',\n",
       " 'manual_cluster_id',\n",
       " 'movingbool_agent_thorax_velocity',\n",
       " 'movingbool_subject_thorax_velocity',\n",
       " 'nose_to_reward_port_diff',\n",
       " 'nose_to_reward_port_sum',\n",
       " 'nose_to_tail_diff',\n",
       " 'nose_to_tail_sum',\n",
       " 'notes',\n",
       " 'out_reward_frame',\n",
       " 'standard_embedding_x',\n",
       " 'standard_embedding_y',\n",
       " 'subject_locations',\n",
       " 'subject_nose',\n",
       " 'subject_nose_to_reward_port',\n",
       " 'subject_tail_base',\n",
       " 'subject_thorax',\n",
       " 'subject_thorax_to_agent_thorax',\n",
       " 'subject_thorax_velocity',\n",
       " 'subject_to_reward_port_angle',\n",
       " 'thorax_velocity_diff',\n",
       " 'thorax_velocity_sum',\n",
       " 'to_reward_port_angle_diff',\n",
       " 'to_reward_port_angle_sum',\n",
       " 'tone_start_frame',\n",
       " 'tone_start_timestamp',\n",
       " 'tone_start_to_stop_frame',\n",
       " 'tone_stop_frame',\n",
       " 'tone_stop_timestamp',\n",
       " 'within_trial_frame_index',\n",
       " 'within_trial_index',\n",
       " 'agent',\n",
       " 'all_subjects',\n",
       " 'body_parts',\n",
       " 'box_bottom_left',\n",
       " 'box_bottom_right',\n",
       " 'box_number',\n",
       " 'box_top_left',\n",
       " 'box_top_right',\n",
       " 'experiment',\n",
       " 'first_timestamp',\n",
       " 'last_timestamp',\n",
       " 'reward_port',\n",
       " 'session_dir',\n",
       " 'sleap_name',\n",
       " 'start_frame',\n",
       " 'stop_frame',\n",
       " 'tracked_subject',\n",
       " 'video_id']"
      ]
     },
     "execution_count": 31,
     "metadata": {},
     "output_type": "execute_result"
    }
   ],
   "source": [
    "list(SLEAP_DF.columns)"
   ]
  },
  {
   "cell_type": "code",
   "execution_count": 32,
   "metadata": {
    "tags": []
   },
   "outputs": [
    {
     "data": {
      "text/plain": [
       "array(['20240317_151922_long_comp_subj_3-1_t6b6_merged',\n",
       "       '20240317_151922_long_comp_subj_3-3_t5b5_merged',\n",
       "       '20240317_172017_long_comp_subj_4-2_t6b6_merged',\n",
       "       '20240317_172017_long_comp_subj_4-3_t5b5_merged',\n",
       "       '20240318_143819_long_comp_subj_3-3_t6b6_merged',\n",
       "       '20240318_143819_long_comp_subj_3-4_t5b5_merged',\n",
       "       '20240318_170933_long_comp_subj_4-3_t6b6_merged',\n",
       "       '20240318_170933_long_comp_subj_4-4_t5b5_merged',\n",
       "       '20240319_160457_long_comp_subj_4-2_t5b5_merged',\n",
       "       '20240319_160457_long_comp_subj_4-4_t6b6_merged',\n",
       "       '20240320_114629_long_comp_subj_5-3_t6b6_merged',\n",
       "       '20240320_114629_long_comp_subj_5-4_t5b5_merged',\n",
       "       '20240321_114851_long_comp_subj_5-2_t6b6_merged',\n",
       "       '20240321_114851_long_comp_subj_5-3_t5b5_merged'], dtype=object)"
      ]
     },
     "execution_count": 32,
     "metadata": {},
     "output_type": "execute_result"
    }
   ],
   "source": [
    "merged_LFP_SPECTRAL_DF[\"recording\"].unique()"
   ]
  },
  {
   "cell_type": "code",
   "execution_count": 33,
   "metadata": {},
   "outputs": [],
   "source": [
    "merged_LFP_SPECTRAL_DF.to_pickle(os.path.join(OUTPUT_DIR, FULL_LFP_TRACES_PKL))\n"
   ]
  },
  {
   "cell_type": "code",
   "execution_count": 34,
   "metadata": {},
   "outputs": [
    {
     "data": {
      "text/plain": [
       "(14, 220)"
      ]
     },
     "execution_count": 34,
     "metadata": {},
     "output_type": "execute_result"
    }
   ],
   "source": [
    "merged_LFP_SPECTRAL_DF.shape"
   ]
  },
  {
   "cell_type": "code",
   "execution_count": 35,
   "metadata": {},
   "outputs": [
    {
     "ename": "ValueError",
     "evalue": "",
     "output_type": "error",
     "traceback": [
      "\u001b[0;31m---------------------------------------------------------------------------\u001b[0m",
      "\u001b[0;31mValueError\u001b[0m                                Traceback (most recent call last)",
      "Cell \u001b[0;32mIn[35], line 1\u001b[0m\n\u001b[0;32m----> 1\u001b[0m \u001b[38;5;28;01mraise\u001b[39;00m \u001b[38;5;167;01mValueError\u001b[39;00m()\n",
      "\u001b[0;31mValueError\u001b[0m: "
     ]
    }
   ],
   "source": [
    "raise ValueError()"
   ]
  }
 ],
 "metadata": {
  "deepnote": {},
  "deepnote_execution_queue": [],
  "deepnote_notebook_id": "cf8fe3695d074ee7887fdf6459cbf5ce",
  "kernelspec": {
   "display_name": "mountainsort_0_5_6",
   "language": "python",
   "name": "python3"
  },
  "language_info": {
   "codemirror_mode": {
    "name": "ipython",
    "version": 3
   },
   "file_extension": ".py",
   "mimetype": "text/x-python",
   "name": "python",
   "nbconvert_exporter": "python",
   "pygments_lexer": "ipython3",
   "version": "3.9.19"
  }
 },
 "nbformat": 4,
 "nbformat_minor": 4
}
