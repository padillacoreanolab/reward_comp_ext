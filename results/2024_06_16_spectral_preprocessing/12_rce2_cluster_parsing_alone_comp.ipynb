{
 "cells": [
  {
   "cell_type": "markdown",
   "metadata": {
    "cell_id": "c3a02adc9e884466bc8c79db549cc3d2",
    "deepnote_cell_type": "text-cell-h1",
    "formattedRanges": [
     {
      "fromCodePoint": 0,
      "marks": {
       "bold": true,
       "underline": true
      },
      "toCodePoint": 17,
      "type": "marks"
     }
    ]
   },
   "source": [
    "# All oscillation analysis"
   ]
  },
  {
   "cell_type": "markdown",
   "metadata": {
    "cell_id": "4546bee655b14a5dbf393161f1228e60",
    "deepnote_cell_type": "text-cell-p",
    "formattedRanges": []
   },
   "source": [
    "Brief 1-2 sentence description of notebook."
   ]
  },
  {
   "cell_type": "code",
   "execution_count": 1,
   "metadata": {
    "tags": []
   },
   "outputs": [],
   "source": [
    "# Imports of all used packages and libraries\n",
    "import sys\n",
    "import os\n",
    "import git\n",
    "import glob\n",
    "from collections import defaultdict"
   ]
  },
  {
   "cell_type": "code",
   "execution_count": 2,
   "metadata": {
    "tags": []
   },
   "outputs": [],
   "source": [
    "git_repo = git.Repo(\".\", search_parent_directories=True)\n",
    "git_root = git_repo.git.rev_parse(\"--show-toplevel\")"
   ]
  },
  {
   "cell_type": "code",
   "execution_count": 3,
   "metadata": {
    "tags": []
   },
   "outputs": [
    {
     "data": {
      "text/plain": [
       "'/nancy/user/riwata/projects/reward_comp_ext'"
      ]
     },
     "execution_count": 3,
     "metadata": {},
     "output_type": "execute_result"
    }
   ],
   "source": [
    "git_root"
   ]
  },
  {
   "cell_type": "code",
   "execution_count": 4,
   "metadata": {
    "tags": []
   },
   "outputs": [],
   "source": [
    "sys.path.insert(0, os.path.join(git_root, 'src'))"
   ]
  },
  {
   "cell_type": "code",
   "execution_count": 5,
   "metadata": {
    "tags": []
   },
   "outputs": [],
   "source": [
    "import warnings\n",
    "warnings.filterwarnings('ignore')"
   ]
  },
  {
   "cell_type": "code",
   "execution_count": 6,
   "metadata": {
    "tags": []
   },
   "outputs": [],
   "source": [
    "import os\n",
    "import collections\n",
    "import itertools\n",
    "from collections import defaultdict\n",
    "from itertools import combinations"
   ]
  },
  {
   "cell_type": "raw",
   "metadata": {},
   "source": [
    "os.environ[\"SPECTRAL_CONNECTIVITY_ENABLE_GPU\"] = \"true\"\n",
    "import cupy as cp"
   ]
  },
  {
   "cell_type": "code",
   "execution_count": 7,
   "metadata": {
    "cell_id": "03b495cefa6a4798a44c7f2e4c6a3ea7",
    "deepnote_cell_type": "code",
    "deepnote_to_be_reexecuted": false,
    "execution_millis": 21,
    "execution_start": 1691424003626,
    "source_hash": null,
    "tags": []
   },
   "outputs": [],
   "source": [
    "# Imports of all used packages and libraries\n",
    "import numpy as np\n",
    "import pandas as pd\n",
    "from scipy import stats\n",
    "from scipy.stats import mannwhitneyu\n",
    "import seaborn as sns\n",
    "\n"
   ]
  },
  {
   "cell_type": "code",
   "execution_count": 8,
   "metadata": {
    "tags": []
   },
   "outputs": [],
   "source": [
    "import matplotlib\n",
    "import matplotlib.colors as mcolors\n",
    "import matplotlib.pyplot as plt\n",
    "import matplotlib.cm as cm\n",
    "import colorsys"
   ]
  },
  {
   "cell_type": "code",
   "execution_count": 9,
   "metadata": {
    "tags": []
   },
   "outputs": [],
   "source": [
    "from sklearn.metrics import confusion_matrix"
   ]
  },
  {
   "cell_type": "code",
   "execution_count": 10,
   "metadata": {
    "tags": []
   },
   "outputs": [],
   "source": [
    "from spectral_connectivity import Multitaper, Connectivity\n",
    "import spectral_connectivity"
   ]
  },
  {
   "cell_type": "code",
   "execution_count": 11,
   "metadata": {
    "tags": []
   },
   "outputs": [],
   "source": [
    "import utilities.helper\n",
    "import trodes.read_exported"
   ]
  },
  {
   "cell_type": "code",
   "execution_count": 12,
   "metadata": {
    "tags": []
   },
   "outputs": [],
   "source": [
    "FONTSIZE = 20"
   ]
  },
  {
   "cell_type": "code",
   "execution_count": 13,
   "metadata": {
    "tags": []
   },
   "outputs": [],
   "source": [
    "font = {'weight' : 'medium',\n",
    "        'size'   : 20}\n",
    "\n",
    "matplotlib.rc('font', **font)"
   ]
  },
  {
   "cell_type": "code",
   "execution_count": null,
   "metadata": {},
   "outputs": [],
   "source": []
  },
  {
   "cell_type": "code",
   "execution_count": 14,
   "metadata": {},
   "outputs": [],
   "source": [
    "# Define a function to horizontally stack arrays\n",
    "def stack_arrays(arrays):\n",
    "    return np.vstack(arrays)"
   ]
  },
  {
   "cell_type": "code",
   "execution_count": 15,
   "metadata": {},
   "outputs": [],
   "source": [
    "BAND_TO_FREQ_PLOT = {'theta': (4, 12), 'gamma': (30, 50)}\n",
    "BAND_TO_FREQ_COLOR = {'theta': \"red\", 'beta': \"blue\", 'gamma': \"green\"}"
   ]
  },
  {
   "cell_type": "markdown",
   "metadata": {
    "cell_id": "d290bac2c17940bfbc0f9296beaf70e5",
    "deepnote_cell_type": "text-cell-h2",
    "formattedRanges": []
   },
   "source": [
    "## Inputs & Data"
   ]
  },
  {
   "cell_type": "code",
   "execution_count": 16,
   "metadata": {
    "tags": []
   },
   "outputs": [],
   "source": [
    "EPHYS_SAMPLE_RATE = 20000"
   ]
  },
  {
   "cell_type": "markdown",
   "metadata": {
    "cell_id": "e528ce19c608425292151930d380f49f",
    "deepnote_cell_type": "text-cell-p",
    "formattedRanges": []
   },
   "source": [
    "Explanation of each input and where it comes from."
   ]
  },
  {
   "cell_type": "code",
   "execution_count": 17,
   "metadata": {
    "cell_id": "6cf83a5811054461a718a71673d09aab",
    "deepnote_cell_type": "code",
    "deepnote_to_be_reexecuted": false,
    "execution_millis": 373,
    "execution_start": 1691424003628,
    "source_hash": null,
    "tags": []
   },
   "outputs": [],
   "source": [
    "# Inputs and Required data loading\n",
    "# input varaible names are in all caps snake case\n",
    "# Whenever an input changes or is used for processing \n",
    "# the vairables are all lower in snake case\n",
    "OUTPUT_DIR = r\"./proc/\" # where data is saved should always be shown in the inputs\n",
    "os.makedirs(OUTPUT_DIR, exist_ok=True)\n",
    "OUTPUT_PREFIX = \"rce_pilot_3_alone_comp\""
   ]
  },
  {
   "cell_type": "code",
   "execution_count": 18,
   "metadata": {
    "tags": []
   },
   "outputs": [],
   "source": [
    "# TRIAL_LABELS_DF = pd.read_excel(\"/blue/npadillacoreano/ryoi360/projects/reward_comp/repos/reward_comp_ext/results/2024_06_26_sleap_clustering/data/rce_pilot_3_alone_comp_per_video_trial_labels.xlsx\")\n",
    "TRIALS_AND_SPECTRAL_DF = pd.read_pickle(\"./proc/rce_pilot_3_alone_comp_10_per_trial_spectral_bans_sleap.pkl\")"
   ]
  },
  {
   "cell_type": "code",
   "execution_count": 19,
   "metadata": {
    "tags": []
   },
   "outputs": [],
   "source": [
    "FULL_LFP_TRACES_PKL = \"{}_12_per_cluster_spectral_bans_sleap.pkl\".format(OUTPUT_PREFIX)"
   ]
  },
  {
   "cell_type": "markdown",
   "metadata": {
    "cell_id": "e3ee4891d43a4ac287413afc552ca289",
    "deepnote_cell_type": "text-cell-h2",
    "formattedRanges": []
   },
   "source": [
    "## Outputs"
   ]
  },
  {
   "cell_type": "markdown",
   "metadata": {
    "cell_id": "9ccbf6cc70fd4d379fa29317f733771f",
    "deepnote_cell_type": "text-cell-p",
    "formattedRanges": []
   },
   "source": [
    "Describe each output that the notebook creates. "
   ]
  },
  {
   "cell_type": "markdown",
   "metadata": {
    "cell_id": "fc8e8920a6944918a15fac575cdf6e78",
    "deepnote_cell_type": "text-cell-bullet",
    "formattedRanges": []
   },
   "source": [
    "- Is it a plot or is it data?"
   ]
  },
  {
   "cell_type": "markdown",
   "metadata": {
    "cell_id": "1e639d4776a84aa9ac8ded2e14fa57db",
    "deepnote_cell_type": "text-cell-bullet",
    "formattedRanges": []
   },
   "source": [
    "- How valuable is the output and why is it valuable or useful?"
   ]
  },
  {
   "cell_type": "markdown",
   "metadata": {},
   "source": [
    "## Functions "
   ]
  },
  {
   "cell_type": "code",
   "execution_count": 20,
   "metadata": {
    "tags": []
   },
   "outputs": [
    {
     "name": "stdout",
     "output_type": "stream",
     "text": [
      "{'a': [1, 2, 5, 8, 9], 'b': [3, 4, 6, 7], 'c': [10]}\n"
     ]
    }
   ],
   "source": [
    "def combine_dicts(dicts):\n",
    "    \"\"\"\n",
    "    Combine lists from multiple dictionaries that share the same key.\n",
    "\n",
    "    This function takes a list of dictionaries where each dictionary's values are lists of numbers.\n",
    "    It merges these lists for each corresponding key across all dictionaries, producing a single\n",
    "    dictionary where each key has a combined list of all numbers from the input dictionaries.\n",
    "\n",
    "    Parameters:\n",
    "        dicts (list of dict): A list of dictionaries with values as lists of numbers.\n",
    "\n",
    "    Returns:\n",
    "        dict: A dictionary with keys from the input dictionaries and values as merged lists \n",
    "        of numbers from all corresponding input dictionary values.\n",
    "    \"\"\"\n",
    "    combined = defaultdict(list)\n",
    "    for dictionary in dicts:\n",
    "        for key, value in dictionary.items():\n",
    "            combined[key].extend(value)\n",
    "    \n",
    "    return dict(combined)\n",
    "\n",
    "\n",
    "# Example usage\n",
    "list_of_dicts = [\n",
    "    {'a': [1, 2], 'b': [3, 4]},\n",
    "    {'a': [5], 'b': [6, 7]},\n",
    "    {'a': [8, 9], 'c': [10]}\n",
    "]\n",
    "\n",
    "combined_dict = combine_dicts(list_of_dicts)\n",
    "print(combined_dict)"
   ]
  },
  {
   "cell_type": "code",
   "execution_count": 21,
   "metadata": {
    "tags": []
   },
   "outputs": [
    {
     "name": "stdout",
     "output_type": "stream",
     "text": [
      "{2: [(2, 4)], 3: [(5, 8)]}\n"
     ]
    }
   ],
   "source": [
    "def find_consecutive_ranges(numbers, min_length=1):\n",
    "    \"\"\"\n",
    "    Finds the start and end indices for consecutive ranges of each number in a list where the range meets a minimum length.\n",
    "\n",
    "    This function iterates through a list of integers and identifies ranges where the same integer appears consecutively\n",
    "    and the length of this sequence meets or exceeds the specified minimum length.\n",
    "\n",
    "    Parameters:\n",
    "        numbers (list): A list of integers to analyze for consecutive ranges.\n",
    "        min_length (int): The minimum length of a range for it to be included in the results.\n",
    "\n",
    "    Returns:\n",
    "        dict: A dictionary with integers as keys and a list of tuples (start, end) as values,\n",
    "              where each tuple represents the start and end indices (inclusive) of consecutive ranges\n",
    "              for that integer. Only ranges that meet or exceed the minimum length are included.\n",
    "    \"\"\"\n",
    "    ranges = {}\n",
    "    n = len(numbers)\n",
    "    if n == 0:\n",
    "        return ranges\n",
    "    \n",
    "    start = 0\n",
    "    current = numbers[0]\n",
    "\n",
    "    for i in range(1, n):\n",
    "        if numbers[i] != current:\n",
    "            if (i - start) >= min_length:\n",
    "                if current not in ranges:\n",
    "                    ranges[current] = []\n",
    "                ranges[current].append((start, i - 1))\n",
    "            current = numbers[i]\n",
    "            start = i\n",
    "\n",
    "    # Handle the last range\n",
    "    if (n - start) >= min_length:\n",
    "        if current not in ranges:\n",
    "            ranges[current] = []\n",
    "        ranges[current].append((start, n - 1))\n",
    "\n",
    "    return ranges\n",
    "\n",
    "# Example usage:\n",
    "numbers = [1, 1, 2, 2, 2, 3, 3, 3, 3, 2, 2, 1, 1]\n",
    "print(find_consecutive_ranges(numbers, min_length=3))"
   ]
  },
  {
   "cell_type": "code",
   "execution_count": 22,
   "metadata": {
    "tags": []
   },
   "outputs": [
    {
     "name": "stdout",
     "output_type": "stream",
     "text": [
      "{'a': [('alpha', 'beta'), ('gamma', 'delta')], 'b': [('beta', 'delta'), ('alpha', 'gamma')]}\n"
     ]
    }
   ],
   "source": [
    "def update_tuples_in_dict(original_dict, reference_list):\n",
    "    \"\"\"\n",
    "    Updates the values in the tuples within a dictionary by replacing indices with corresponding values from a reference list.\n",
    "    \n",
    "    This function iterates through each key-value pair in the original dictionary. Each value is expected to be a list of tuples,\n",
    "    where each tuple contains indices. These indices are used to fetch corresponding values from the reference list, creating new tuples.\n",
    "    \n",
    "    Parameters:\n",
    "        original_dict (dict): Dictionary whose values are lists of tuples. Each tuple consists of indices into the reference_list.\n",
    "        reference_list (list): List of elements that are referenced by the indices in the tuples of the original_dict.\n",
    "        \n",
    "    Returns:\n",
    "        dict: A dictionary with the same keys as original_dict but with tuples transformed to contain elements from reference_list\n",
    "              based on the indices in the original tuples.\n",
    "    \"\"\"\n",
    "    # Create a new dictionary to store the updated key-value pairs\n",
    "    new_dict = {}\n",
    "    for key, list_of_tuples in original_dict.items():\n",
    "        # Process each tuple in the list associated with the current key\n",
    "        updated_tuples = [\n",
    "            tuple(reference_list[idx] for idx in tup) for tup in list_of_tuples\n",
    "        ]\n",
    "        new_dict[key] = updated_tuples\n",
    "    \n",
    "    return new_dict\n",
    "\n",
    "# Example usage:\n",
    "original_dict = {\n",
    "    'a': [(0, 1), (2, 3)],\n",
    "    'b': [(1, 3), (0, 2)]\n",
    "}\n",
    "reference_list = ['alpha', 'beta', 'gamma', 'delta']\n",
    "\n",
    "updated_dict = update_tuples_in_dict(original_dict, reference_list)\n",
    "print(updated_dict)"
   ]
  },
  {
   "cell_type": "code",
   "execution_count": 23,
   "metadata": {
    "tags": []
   },
   "outputs": [
    {
     "name": "stdout",
     "output_type": "stream",
     "text": [
      "[('range1', [1, 2, 3, 4, 5, 10, 11, 12, 13, 14, 15]), ('range2', [0, 1, 2, 4, 5, 6, 7, 8])]\n"
     ]
    }
   ],
   "source": [
    "def find_indices_within_ranges(ranges_dict, values):\n",
    "    \"\"\"\n",
    "    Creates a dictionary mapping keys to sorted indices of values that fall within specified ranges.\n",
    "    \n",
    "    Parameters:\n",
    "        ranges_dict (dict): A dictionary with keys and values as lists of tuples representing ranges.\n",
    "        values (list): A list of values to check against the ranges.\n",
    "        \n",
    "    Returns:\n",
    "        dict: A dictionary where each key maps to a sorted list of indices for values within the ranges.\n",
    "    \"\"\"\n",
    "    result_dict = {}\n",
    "    for key, ranges in ranges_dict.items():\n",
    "        matched_indices = []\n",
    "        for index, value in enumerate(values):\n",
    "            if any(start <= value <= end for start, end in ranges):\n",
    "                matched_indices.append(index)\n",
    "        result_dict[key] = sorted(matched_indices)\n",
    "    return list(result_dict.items())\n",
    "\n",
    "# Example usage:\n",
    "ranges_dict = {\n",
    "    'range1': [(1, 5), (10, 15)],\n",
    "    'range2': [(0, 2), (4, 8)]\n",
    "}\n",
    "values = [0, 1, 2, 3, 4, 5, 6, 7, 8, 9, 10, 11, 12, 13, 14, 15]\n",
    "\n",
    "result = find_indices_within_ranges(ranges_dict, values)\n",
    "print(result)\n"
   ]
  },
  {
   "cell_type": "markdown",
   "metadata": {
    "cell_id": "8999d19b6b7d4d63bc90f0b0bd9ab085",
    "deepnote_cell_type": "text-cell-h2",
    "formattedRanges": []
   },
   "source": [
    "## Processing"
   ]
  },
  {
   "cell_type": "markdown",
   "metadata": {
    "cell_id": "9b36cdf08567463082b005cb0dec684b",
    "deepnote_cell_type": "text-cell-p",
    "formattedRanges": []
   },
   "source": [
    "Describe what is done to the data here and how inputs are manipulated to generate outputs. "
   ]
  },
  {
   "cell_type": "code",
   "execution_count": 24,
   "metadata": {
    "cell_id": "89aaba237c644628b1b37604b75e7cb1",
    "deepnote_cell_type": "code",
    "tags": []
   },
   "outputs": [],
   "source": [
    "# As much code and as many cells as required\n",
    "# includes EDA and playing with data\n",
    "# GO HAM!\n",
    "\n",
    "# Ideally functions are defined here first and then data is processed using the functions\n",
    "\n",
    "# function names are short and in snake case all lowercase\n",
    "# a function name should be unique but does not have to describe the function\n",
    "# doc strings describe functions not function names\n",
    "\n",
    "\n"
   ]
  },
  {
   "cell_type": "markdown",
   "metadata": {},
   "source": [
    "## Renaming the trial labels"
   ]
  },
  {
   "cell_type": "code",
   "execution_count": 25,
   "metadata": {
    "tags": []
   },
   "outputs": [
    {
     "data": {
      "text/html": [
       "<div>\n",
       "<style scoped>\n",
       "    .dataframe tbody tr th:only-of-type {\n",
       "        vertical-align: middle;\n",
       "    }\n",
       "\n",
       "    .dataframe tbody tr th {\n",
       "        vertical-align: top;\n",
       "    }\n",
       "\n",
       "    .dataframe thead th {\n",
       "        text-align: right;\n",
       "    }\n",
       "</style>\n",
       "<table border=\"1\" class=\"dataframe\">\n",
       "  <thead>\n",
       "    <tr style=\"text-align: right;\">\n",
       "      <th></th>\n",
       "      <th>tone_start_frame</th>\n",
       "      <th>reward_start</th>\n",
       "      <th>reward_dispensed</th>\n",
       "      <th>tone_stop_frame</th>\n",
       "      <th>condition</th>\n",
       "      <th>competition_closeness</th>\n",
       "      <th>get_reward_frame</th>\n",
       "      <th>out_reward_frame</th>\n",
       "      <th>notes</th>\n",
       "      <th>box_1_port_entry_frames</th>\n",
       "      <th>...</th>\n",
       "      <th>trial_and_post_mPFC_gamma_phase</th>\n",
       "      <th>trial_and_post_mPFC_lfp_trace</th>\n",
       "      <th>trial_and_post_mPFC_theta_band</th>\n",
       "      <th>trial_and_post_mPFC_theta_phase</th>\n",
       "      <th>trial_and_post_vHPC_gamma_band</th>\n",
       "      <th>trial_and_post_vHPC_gamma_phase</th>\n",
       "      <th>trial_and_post_vHPC_lfp_trace</th>\n",
       "      <th>trial_and_post_vHPC_theta_band</th>\n",
       "      <th>trial_and_post_vHPC_theta_phase</th>\n",
       "      <th>trial_and_post_lfp_timestamps</th>\n",
       "    </tr>\n",
       "  </thead>\n",
       "  <tbody>\n",
       "    <tr>\n",
       "      <th>0</th>\n",
       "      <td>34242.0</td>\n",
       "      <td>34322</td>\n",
       "      <td>34342.0</td>\n",
       "      <td>34442.0</td>\n",
       "      <td>4.3</td>\n",
       "      <td>After trial</td>\n",
       "      <td>NaN</td>\n",
       "      <td>NaN</td>\n",
       "      <td>NaN</td>\n",
       "      <td>[34250 34265]</td>\n",
       "      <td>...</td>\n",
       "      <td>[-2.8267386, -2.5752828, -2.3241265, -2.073247...</td>\n",
       "      <td>[74.295, 59.67, 49.53, 71.174995, 98.865, 105....</td>\n",
       "      <td>[0.45963967, 0.46584538, 0.4714166, 0.47629145...</td>\n",
       "      <td>[0.0660045, 0.100497134, 0.13558412, 0.1712443...</td>\n",
       "      <td>[-0.7498611, -0.73270696, -0.66639715, -0.5548...</td>\n",
       "      <td>[3.130545, -2.895104, -2.6377413, -2.380579, -...</td>\n",
       "      <td>[-194.60999, -213.915, -161.06999, -52.454998,...</td>\n",
       "      <td>[-0.7498519, -0.71976215, -0.68688864, -0.6512...</td>\n",
       "      <td>[-2.373418, -2.3229098, -2.2723296, -2.2216792...</td>\n",
       "      <td>[34280580, 34280600, 34280620, 34280640, 34280...</td>\n",
       "    </tr>\n",
       "    <tr>\n",
       "      <th>1</th>\n",
       "      <td>34242.0</td>\n",
       "      <td>34322</td>\n",
       "      <td>34342.0</td>\n",
       "      <td>34442.0</td>\n",
       "      <td>4.3</td>\n",
       "      <td>After trial</td>\n",
       "      <td>NaN</td>\n",
       "      <td>NaN</td>\n",
       "      <td>NaN</td>\n",
       "      <td>[34250 34265]</td>\n",
       "      <td>...</td>\n",
       "      <td>[-2.4468, -2.2177749, -1.9918119, -1.7689933, ...</td>\n",
       "      <td>[19.695, 43.68, 68.25, 87.16499, 101.204994, 9...</td>\n",
       "      <td>[0.6209574, 0.6194976, 0.6152875, 0.6083768, 0...</td>\n",
       "      <td>[-0.14499341, -0.07693758, -0.008636221, 0.059...</td>\n",
       "      <td>[-0.012106158, 0.046377987, 0.09737586, 0.1367...</td>\n",
       "      <td>[-1.6299233, -1.3326924, -1.029256, -0.7194334...</td>\n",
       "      <td>[193.245, 173.54999, 157.36499, 132.405, 102.7...</td>\n",
       "      <td>[0.7059251, 0.6601463, 0.611616, 0.56049484, 0...</td>\n",
       "      <td>[0.86685646, 0.92562836, 0.984195, 1.0425555, ...</td>\n",
       "      <td>[34280580, 34280600, 34280620, 34280640, 34280...</td>\n",
       "    </tr>\n",
       "    <tr>\n",
       "      <th>2</th>\n",
       "      <td>35241.0</td>\n",
       "      <td>35321</td>\n",
       "      <td>35341.0</td>\n",
       "      <td>35439.0</td>\n",
       "      <td>4.3</td>\n",
       "      <td>Subj 2 Only</td>\n",
       "      <td>NaN</td>\n",
       "      <td>NaN</td>\n",
       "      <td>NaN</td>\n",
       "      <td>[35242 35249] [35249 35250] [35250 35271] [353...</td>\n",
       "      <td>...</td>\n",
       "      <td>[-1.3393176, -1.0746405, -0.8121532, -0.552019...</td>\n",
       "      <td>[-42.12, -46.019997, -42.899998, -34.515, -29....</td>\n",
       "      <td>[-0.55376214, -0.54105306, -0.5277178, -0.5138...</td>\n",
       "      <td>[-2.848622, -2.809103, -2.7699904, -2.7312958,...</td>\n",
       "      <td>[0.029952968, 0.0829829, 0.13468696, 0.1792766...</td>\n",
       "      <td>[-1.3647506, -1.033497, -0.7162916, -0.40997, ...</td>\n",
       "      <td>[141.765, 137.08499, 126.74999, 128.89499, 140...</td>\n",
       "      <td>[0.3417526, 0.3667192, 0.38927597, 0.40933278,...</td>\n",
       "      <td>[-0.8138773, -0.7312234, -0.6479294, -0.564073...</td>\n",
       "      <td>[35280600, 35280620, 35280640, 35280660, 35280...</td>\n",
       "    </tr>\n",
       "    <tr>\n",
       "      <th>3</th>\n",
       "      <td>35241.0</td>\n",
       "      <td>35321</td>\n",
       "      <td>35341.0</td>\n",
       "      <td>35439.0</td>\n",
       "      <td>4.3</td>\n",
       "      <td>Subj 2 Only</td>\n",
       "      <td>NaN</td>\n",
       "      <td>NaN</td>\n",
       "      <td>NaN</td>\n",
       "      <td>[35242 35249] [35249 35250] [35250 35271] [353...</td>\n",
       "      <td>...</td>\n",
       "      <td>[1.1835573, 1.3989904, 1.6151469, 1.8322233, 2...</td>\n",
       "      <td>[-84.24, -29.64, 8.969999, -31.005, -109.395, ...</td>\n",
       "      <td>[-0.43594536, -0.40849745, -0.37993425, -0.350...</td>\n",
       "      <td>[-2.290331, -2.2391956, -2.18775, -2.1359916, ...</td>\n",
       "      <td>[-0.04873953, 0.006628439, 0.061135184, 0.1117...</td>\n",
       "      <td>[-1.7751641, -1.5431039, -1.3114904, -1.080336...</td>\n",
       "      <td>[-134.355, -74.685, -16.965, -39.39, -100.8149...</td>\n",
       "      <td>[-0.3201336, -0.33739012, -0.3543125, -0.37081...</td>\n",
       "      <td>[2.4480984, 2.4920197, 2.5362623, 2.580803, 2....</td>\n",
       "      <td>[35280600, 35280620, 35280640, 35280660, 35280...</td>\n",
       "    </tr>\n",
       "    <tr>\n",
       "      <th>4</th>\n",
       "      <td>36339.0</td>\n",
       "      <td>36419</td>\n",
       "      <td>36439.0</td>\n",
       "      <td>36538.0</td>\n",
       "      <td>4.3</td>\n",
       "      <td>Subj 2 blocking Subj 1</td>\n",
       "      <td>NaN</td>\n",
       "      <td>NaN</td>\n",
       "      <td>NaN</td>\n",
       "      <td>[36339 36354] [36361 36365] [36410 36473] [364...</td>\n",
       "      <td>...</td>\n",
       "      <td>[1.9263768, 2.1613147, 2.397383, 2.634575, 2.8...</td>\n",
       "      <td>[7.995, 11.7, 12.674999, 5.85, -11.8949995, -3...</td>\n",
       "      <td>[0.04354602, 0.04824548, 0.050688196, 0.050923...</td>\n",
       "      <td>[-1.434966, -1.4083124, -1.3854433, -1.3673644...</td>\n",
       "      <td>[-0.22771999, -0.38629508, -0.5159725, -0.6101...</td>\n",
       "      <td>[1.8742249, 2.113802, 2.3528705, 2.5913677, 2....</td>\n",
       "      <td>[-279.435, -256.62, -195.58499, -120.314995, -...</td>\n",
       "      <td>[-0.76139945, -0.7329739, -0.7030888, -0.67182...</td>\n",
       "      <td>[-2.445381, -2.4016135, -2.3579578, -2.3144145...</td>\n",
       "      <td>[36380600, 36380620, 36380640, 36380660, 36380...</td>\n",
       "    </tr>\n",
       "  </tbody>\n",
       "</table>\n",
       "<p>5 rows × 208 columns</p>\n",
       "</div>"
      ],
      "text/plain": [
       "   tone_start_frame  reward_start  reward_dispensed  tone_stop_frame  \\\n",
       "0           34242.0         34322           34342.0          34442.0   \n",
       "1           34242.0         34322           34342.0          34442.0   \n",
       "2           35241.0         35321           35341.0          35439.0   \n",
       "3           35241.0         35321           35341.0          35439.0   \n",
       "4           36339.0         36419           36439.0          36538.0   \n",
       "\n",
       "  condition    competition_closeness  get_reward_frame  out_reward_frame  \\\n",
       "0        4.3             After trial               NaN               NaN   \n",
       "1        4.3             After trial               NaN               NaN   \n",
       "2        4.3             Subj 2 Only               NaN               NaN   \n",
       "3        4.3             Subj 2 Only               NaN               NaN   \n",
       "4        4.3  Subj 2 blocking Subj 1               NaN               NaN   \n",
       "\n",
       "  notes                            box_1_port_entry_frames  ...  \\\n",
       "0   NaN                                      [34250 34265]  ...   \n",
       "1   NaN                                      [34250 34265]  ...   \n",
       "2   NaN  [35242 35249] [35249 35250] [35250 35271] [353...  ...   \n",
       "3   NaN  [35242 35249] [35249 35250] [35250 35271] [353...  ...   \n",
       "4   NaN  [36339 36354] [36361 36365] [36410 36473] [364...  ...   \n",
       "\n",
       "                     trial_and_post_mPFC_gamma_phase  \\\n",
       "0  [-2.8267386, -2.5752828, -2.3241265, -2.073247...   \n",
       "1  [-2.4468, -2.2177749, -1.9918119, -1.7689933, ...   \n",
       "2  [-1.3393176, -1.0746405, -0.8121532, -0.552019...   \n",
       "3  [1.1835573, 1.3989904, 1.6151469, 1.8322233, 2...   \n",
       "4  [1.9263768, 2.1613147, 2.397383, 2.634575, 2.8...   \n",
       "\n",
       "                       trial_and_post_mPFC_lfp_trace  \\\n",
       "0  [74.295, 59.67, 49.53, 71.174995, 98.865, 105....   \n",
       "1  [19.695, 43.68, 68.25, 87.16499, 101.204994, 9...   \n",
       "2  [-42.12, -46.019997, -42.899998, -34.515, -29....   \n",
       "3  [-84.24, -29.64, 8.969999, -31.005, -109.395, ...   \n",
       "4  [7.995, 11.7, 12.674999, 5.85, -11.8949995, -3...   \n",
       "\n",
       "                      trial_and_post_mPFC_theta_band  \\\n",
       "0  [0.45963967, 0.46584538, 0.4714166, 0.47629145...   \n",
       "1  [0.6209574, 0.6194976, 0.6152875, 0.6083768, 0...   \n",
       "2  [-0.55376214, -0.54105306, -0.5277178, -0.5138...   \n",
       "3  [-0.43594536, -0.40849745, -0.37993425, -0.350...   \n",
       "4  [0.04354602, 0.04824548, 0.050688196, 0.050923...   \n",
       "\n",
       "                     trial_and_post_mPFC_theta_phase  \\\n",
       "0  [0.0660045, 0.100497134, 0.13558412, 0.1712443...   \n",
       "1  [-0.14499341, -0.07693758, -0.008636221, 0.059...   \n",
       "2  [-2.848622, -2.809103, -2.7699904, -2.7312958,...   \n",
       "3  [-2.290331, -2.2391956, -2.18775, -2.1359916, ...   \n",
       "4  [-1.434966, -1.4083124, -1.3854433, -1.3673644...   \n",
       "\n",
       "                      trial_and_post_vHPC_gamma_band  \\\n",
       "0  [-0.7498611, -0.73270696, -0.66639715, -0.5548...   \n",
       "1  [-0.012106158, 0.046377987, 0.09737586, 0.1367...   \n",
       "2  [0.029952968, 0.0829829, 0.13468696, 0.1792766...   \n",
       "3  [-0.04873953, 0.006628439, 0.061135184, 0.1117...   \n",
       "4  [-0.22771999, -0.38629508, -0.5159725, -0.6101...   \n",
       "\n",
       "                     trial_and_post_vHPC_gamma_phase  \\\n",
       "0  [3.130545, -2.895104, -2.6377413, -2.380579, -...   \n",
       "1  [-1.6299233, -1.3326924, -1.029256, -0.7194334...   \n",
       "2  [-1.3647506, -1.033497, -0.7162916, -0.40997, ...   \n",
       "3  [-1.7751641, -1.5431039, -1.3114904, -1.080336...   \n",
       "4  [1.8742249, 2.113802, 2.3528705, 2.5913677, 2....   \n",
       "\n",
       "                       trial_and_post_vHPC_lfp_trace  \\\n",
       "0  [-194.60999, -213.915, -161.06999, -52.454998,...   \n",
       "1  [193.245, 173.54999, 157.36499, 132.405, 102.7...   \n",
       "2  [141.765, 137.08499, 126.74999, 128.89499, 140...   \n",
       "3  [-134.355, -74.685, -16.965, -39.39, -100.8149...   \n",
       "4  [-279.435, -256.62, -195.58499, -120.314995, -...   \n",
       "\n",
       "                      trial_and_post_vHPC_theta_band  \\\n",
       "0  [-0.7498519, -0.71976215, -0.68688864, -0.6512...   \n",
       "1  [0.7059251, 0.6601463, 0.611616, 0.56049484, 0...   \n",
       "2  [0.3417526, 0.3667192, 0.38927597, 0.40933278,...   \n",
       "3  [-0.3201336, -0.33739012, -0.3543125, -0.37081...   \n",
       "4  [-0.76139945, -0.7329739, -0.7030888, -0.67182...   \n",
       "\n",
       "                     trial_and_post_vHPC_theta_phase  \\\n",
       "0  [-2.373418, -2.3229098, -2.2723296, -2.2216792...   \n",
       "1  [0.86685646, 0.92562836, 0.984195, 1.0425555, ...   \n",
       "2  [-0.8138773, -0.7312234, -0.6479294, -0.564073...   \n",
       "3  [2.4480984, 2.4920197, 2.5362623, 2.580803, 2....   \n",
       "4  [-2.445381, -2.4016135, -2.3579578, -2.3144145...   \n",
       "\n",
       "                       trial_and_post_lfp_timestamps  \n",
       "0  [34280580, 34280600, 34280620, 34280640, 34280...  \n",
       "1  [34280580, 34280600, 34280620, 34280640, 34280...  \n",
       "2  [35280600, 35280620, 35280640, 35280660, 35280...  \n",
       "3  [35280600, 35280620, 35280640, 35280660, 35280...  \n",
       "4  [36380600, 36380620, 36380640, 36380660, 36380...  \n",
       "\n",
       "[5 rows x 208 columns]"
      ]
     },
     "execution_count": 25,
     "metadata": {},
     "output_type": "execute_result"
    }
   ],
   "source": [
    "TRIALS_AND_SPECTRAL_DF.head()"
   ]
  },
  {
   "cell_type": "code",
   "execution_count": 26,
   "metadata": {
    "tags": []
   },
   "outputs": [],
   "source": [
    "comp_closeness_dict = {'Subj 1 blocking Subj 2': \"competitive\",\n",
    "'Subj 2 Only': \"no_comp\",\n",
    "'Subj 2 blocking Subj 1': \"competitive\",\n",
    "'Subj 1 then Subj 2': \"competitive\", \n",
    "'Subj 1 Only': \"no_comp\",\n",
    "'Subj 2 then Subj 1': \"competitive\",\n",
    "'Close Call': \"competitive\",\n",
    "'After trial': \"no_comp\"}"
   ]
  },
  {
   "cell_type": "code",
   "execution_count": 27,
   "metadata": {
    "tags": []
   },
   "outputs": [],
   "source": [
    "TRIALS_AND_SPECTRAL_DF[\"current_subject\"] = TRIALS_AND_SPECTRAL_DF[\"current_subject\"].apply(lambda x: str(x).strip().lower())"
   ]
  },
  {
   "cell_type": "code",
   "execution_count": 28,
   "metadata": {
    "tags": []
   },
   "outputs": [],
   "source": [
    "TRIALS_AND_SPECTRAL_DF[\"condition \"] = TRIALS_AND_SPECTRAL_DF[\"condition \"].apply(lambda x: str(x).strip().lower())"
   ]
  },
  {
   "cell_type": "code",
   "execution_count": 29,
   "metadata": {
    "tags": []
   },
   "outputs": [],
   "source": [
    "TRIALS_AND_SPECTRAL_DF[\"trial_label\"] = TRIALS_AND_SPECTRAL_DF.apply(lambda x: \"win\" if x[\"current_subject\"] == x[\"condition \"]  else (\"lose\" if x[\"agent\"] == x[\"condition \"] else \"tie\"), axis=1)\n",
    "                                                                        "
   ]
  },
  {
   "cell_type": "code",
   "execution_count": 30,
   "metadata": {
    "tags": []
   },
   "outputs": [],
   "source": [
    "TRIALS_AND_SPECTRAL_DF[\"competition_closeness\"] = TRIALS_AND_SPECTRAL_DF[\"competition_closeness\"].map(comp_closeness_dict)"
   ]
  },
  {
   "cell_type": "code",
   "execution_count": 31,
   "metadata": {
    "tags": []
   },
   "outputs": [
    {
     "data": {
      "text/plain": [
       "0      lose\n",
       "1       win\n",
       "2      lose\n",
       "3       win\n",
       "4      lose\n",
       "       ... \n",
       "243     win\n",
       "244    lose\n",
       "245     win\n",
       "246     tie\n",
       "247     tie\n",
       "Name: trial_label, Length: 248, dtype: object"
      ]
     },
     "execution_count": 31,
     "metadata": {},
     "output_type": "execute_result"
    }
   ],
   "source": [
    "TRIALS_AND_SPECTRAL_DF[\"trial_label\"]"
   ]
  },
  {
   "cell_type": "markdown",
   "metadata": {},
   "source": [
    "## Getting the ranges of each cluster"
   ]
  },
  {
   "cell_type": "markdown",
   "metadata": {},
   "source": [
    "- Getting the index range"
   ]
  },
  {
   "cell_type": "code",
   "execution_count": 32,
   "metadata": {
    "tags": []
   },
   "outputs": [
    {
     "data": {
      "text/plain": [
       "['tone_start_frame',\n",
       " 'reward_start',\n",
       " 'reward_dispensed',\n",
       " 'tone_stop_frame',\n",
       " 'condition ',\n",
       " 'competition_closeness',\n",
       " 'get_reward_frame',\n",
       " 'out_reward_frame',\n",
       " 'notes',\n",
       " 'box_1_port_entry_frames',\n",
       " 'box_2_port_entry_frames',\n",
       " 'video_name',\n",
       " 'tone_start_timestamp',\n",
       " 'tone_stop_timestamp',\n",
       " 'box_1_port_entry_timestamps',\n",
       " 'box_2_port_entry_timestamps',\n",
       " 'current_subject',\n",
       " 'subject_tail_base',\n",
       " 'agent_tail_base',\n",
       " 'session_dir',\n",
       " 'experiment',\n",
       " 'sleap_name',\n",
       " 'video_id',\n",
       " 'agent',\n",
       " 'BLA_lfp_RMS_filtered',\n",
       " 'LH_lfp_RMS_filtered',\n",
       " 'MD_lfp_RMS_filtered',\n",
       " 'all_subjects',\n",
       " 'coherence_calculation_frequencies',\n",
       " 'cohort',\n",
       " 'first_timestamp',\n",
       " 'granger_calculation_frequencies',\n",
       " 'last_timestamp',\n",
       " 'mPFC_lfp_RMS_filtered',\n",
       " 'power_calculation_frequencies',\n",
       " 'recording',\n",
       " 'session_path',\n",
       " 'subject',\n",
       " 'tone_frames',\n",
       " 'tone_timestamps',\n",
       " 'vHPC_lfp_RMS_filtered',\n",
       " 'video_timestamps',\n",
       " 'baseline_start_timestamp',\n",
       " 'post_trial_end_timestamp',\n",
       " 'video_frame',\n",
       " 'trial_and_post_agent_locations',\n",
       " 'trial_and_post_agent_nose',\n",
       " 'trial_and_post_agent_nose_to_reward_port',\n",
       " 'trial_and_post_agent_thorax',\n",
       " 'trial_and_post_agent_thorax_velocity',\n",
       " 'trial_and_post_agent_to_reward_port_angle',\n",
       " 'trial_and_post_closebool_agent_nose_to_reward_port',\n",
       " 'trial_and_post_closebool_subject_nose_to_reward_port',\n",
       " 'trial_and_post_frame_index',\n",
       " 'trial_and_post_kmeans_cluster',\n",
       " 'trial_and_post_manual_cluster_id',\n",
       " 'trial_and_post_movingbool_agent_thorax_velocity',\n",
       " 'trial_and_post_movingbool_subject_thorax_velocity',\n",
       " 'trial_and_post_nose_to_reward_port_diff',\n",
       " 'trial_and_post_nose_to_reward_port_sum',\n",
       " 'trial_and_post_standard_embedding_x',\n",
       " 'trial_and_post_standard_embedding_y',\n",
       " 'trial_and_post_subject_locations',\n",
       " 'trial_and_post_subject_nose',\n",
       " 'trial_and_post_subject_nose_to_reward_port',\n",
       " 'trial_and_post_subject_thorax',\n",
       " 'trial_and_post_subject_thorax_to_agent_thorax',\n",
       " 'trial_and_post_subject_thorax_velocity',\n",
       " 'trial_and_post_subject_to_reward_port_angle',\n",
       " 'trial_and_post_thorax_velocity_diff',\n",
       " 'trial_and_post_thorax_velocity_sum',\n",
       " 'trial_and_post_to_reward_port_angle_diff',\n",
       " 'trial_and_post_to_reward_port_angle_sum',\n",
       " 'trial_and_post_video_timestamps',\n",
       " 'trial_and_post_BLA_LH_coherence_all_frequencies_all_windows',\n",
       " 'trial_and_post_BLA_LH_coherence_gamma',\n",
       " 'trial_and_post_BLA_LH_coherence_theta',\n",
       " 'trial_and_post_BLA_MD_coherence_all_frequencies_all_windows',\n",
       " 'trial_and_post_BLA_MD_coherence_gamma',\n",
       " 'trial_and_post_BLA_MD_coherence_theta',\n",
       " 'trial_and_post_BLA_mPFC_coherence_all_frequencies_all_windows',\n",
       " 'trial_and_post_BLA_mPFC_coherence_gamma',\n",
       " 'trial_and_post_BLA_mPFC_coherence_theta',\n",
       " 'trial_and_post_BLA_vHPC_coherence_all_frequencies_all_windows',\n",
       " 'trial_and_post_BLA_vHPC_coherence_gamma',\n",
       " 'trial_and_post_BLA_vHPC_coherence_theta',\n",
       " 'trial_and_post_LH_MD_coherence_all_frequencies_all_windows',\n",
       " 'trial_and_post_LH_MD_coherence_gamma',\n",
       " 'trial_and_post_LH_MD_coherence_theta',\n",
       " 'trial_and_post_LH_mPFC_coherence_all_frequencies_all_windows',\n",
       " 'trial_and_post_LH_mPFC_coherence_gamma',\n",
       " 'trial_and_post_LH_mPFC_coherence_theta',\n",
       " 'trial_and_post_LH_vHPC_coherence_all_frequencies_all_windows',\n",
       " 'trial_and_post_LH_vHPC_coherence_gamma',\n",
       " 'trial_and_post_LH_vHPC_coherence_theta',\n",
       " 'trial_and_post_MD_mPFC_coherence_all_frequencies_all_windows',\n",
       " 'trial_and_post_MD_mPFC_coherence_gamma',\n",
       " 'trial_and_post_MD_mPFC_coherence_theta',\n",
       " 'trial_and_post_MD_vHPC_coherence_all_frequencies_all_windows',\n",
       " 'trial_and_post_MD_vHPC_coherence_gamma',\n",
       " 'trial_and_post_MD_vHPC_coherence_theta',\n",
       " 'trial_and_post_mPFC_vHPC_coherence_all_frequencies_all_windows',\n",
       " 'trial_and_post_mPFC_vHPC_coherence_gamma',\n",
       " 'trial_and_post_mPFC_vHPC_coherence_theta',\n",
       " 'trial_and_post_coherence_timestamps',\n",
       " 'trial_and_post_BLA-to-LH_granger_gamma',\n",
       " 'trial_and_post_BLA-to-LH_granger_theta',\n",
       " 'trial_and_post_BLA-to-MD_granger_gamma',\n",
       " 'trial_and_post_BLA-to-MD_granger_theta',\n",
       " 'trial_and_post_BLA-to-mPFC_granger_gamma',\n",
       " 'trial_and_post_BLA-to-mPFC_granger_theta',\n",
       " 'trial_and_post_BLA-to-vHPC_granger_gamma',\n",
       " 'trial_and_post_BLA-to-vHPC_granger_theta',\n",
       " 'trial_and_post_BLA_LH_granger_all_frequencies_all_windows',\n",
       " 'trial_and_post_BLA_MD_granger_all_frequencies_all_windows',\n",
       " 'trial_and_post_BLA_mPFC_granger_all_frequencies_all_windows',\n",
       " 'trial_and_post_BLA_vHPC_granger_all_frequencies_all_windows',\n",
       " 'trial_and_post_LH-to-BLA_granger_gamma',\n",
       " 'trial_and_post_LH-to-BLA_granger_theta',\n",
       " 'trial_and_post_LH-to-MD_granger_gamma',\n",
       " 'trial_and_post_LH-to-MD_granger_theta',\n",
       " 'trial_and_post_LH-to-mPFC_granger_gamma',\n",
       " 'trial_and_post_LH-to-mPFC_granger_theta',\n",
       " 'trial_and_post_LH-to-vHPC_granger_gamma',\n",
       " 'trial_and_post_LH-to-vHPC_granger_theta',\n",
       " 'trial_and_post_LH_BLA_granger_all_frequencies_all_windows',\n",
       " 'trial_and_post_LH_MD_granger_all_frequencies_all_windows',\n",
       " 'trial_and_post_LH_mPFC_granger_all_frequencies_all_windows',\n",
       " 'trial_and_post_LH_vHPC_granger_all_frequencies_all_windows',\n",
       " 'trial_and_post_MD-to-BLA_granger_gamma',\n",
       " 'trial_and_post_MD-to-BLA_granger_theta',\n",
       " 'trial_and_post_MD-to-LH_granger_gamma',\n",
       " 'trial_and_post_MD-to-LH_granger_theta',\n",
       " 'trial_and_post_MD-to-mPFC_granger_gamma',\n",
       " 'trial_and_post_MD-to-mPFC_granger_theta',\n",
       " 'trial_and_post_MD-to-vHPC_granger_gamma',\n",
       " 'trial_and_post_MD-to-vHPC_granger_theta',\n",
       " 'trial_and_post_MD_BLA_granger_all_frequencies_all_windows',\n",
       " 'trial_and_post_MD_LH_granger_all_frequencies_all_windows',\n",
       " 'trial_and_post_MD_mPFC_granger_all_frequencies_all_windows',\n",
       " 'trial_and_post_MD_vHPC_granger_all_frequencies_all_windows',\n",
       " 'trial_and_post_mPFC-to-BLA_granger_gamma',\n",
       " 'trial_and_post_mPFC-to-BLA_granger_theta',\n",
       " 'trial_and_post_mPFC-to-LH_granger_gamma',\n",
       " 'trial_and_post_mPFC-to-LH_granger_theta',\n",
       " 'trial_and_post_mPFC-to-MD_granger_gamma',\n",
       " 'trial_and_post_mPFC-to-MD_granger_theta',\n",
       " 'trial_and_post_mPFC-to-vHPC_granger_gamma',\n",
       " 'trial_and_post_mPFC-to-vHPC_granger_theta',\n",
       " 'trial_and_post_mPFC_BLA_granger_all_frequencies_all_windows',\n",
       " 'trial_and_post_mPFC_LH_granger_all_frequencies_all_windows',\n",
       " 'trial_and_post_mPFC_MD_granger_all_frequencies_all_windows',\n",
       " 'trial_and_post_mPFC_vHPC_granger_all_frequencies_all_windows',\n",
       " 'trial_and_post_vHPC-to-BLA_granger_gamma',\n",
       " 'trial_and_post_vHPC-to-BLA_granger_theta',\n",
       " 'trial_and_post_vHPC-to-LH_granger_gamma',\n",
       " 'trial_and_post_vHPC-to-LH_granger_theta',\n",
       " 'trial_and_post_vHPC-to-MD_granger_gamma',\n",
       " 'trial_and_post_vHPC-to-MD_granger_theta',\n",
       " 'trial_and_post_vHPC-to-mPFC_granger_gamma',\n",
       " 'trial_and_post_vHPC-to-mPFC_granger_theta',\n",
       " 'trial_and_post_vHPC_BLA_granger_all_frequencies_all_windows',\n",
       " 'trial_and_post_vHPC_LH_granger_all_frequencies_all_windows',\n",
       " 'trial_and_post_vHPC_MD_granger_all_frequencies_all_windows',\n",
       " 'trial_and_post_vHPC_mPFC_granger_all_frequencies_all_windows',\n",
       " 'trial_and_post_granger_timestamps',\n",
       " 'trial_and_post_BLA_power_all_frequencies_all_windows',\n",
       " 'trial_and_post_BLA_power_gamma',\n",
       " 'trial_and_post_BLA_power_theta',\n",
       " 'trial_and_post_LH_power_all_frequencies_all_windows',\n",
       " 'trial_and_post_LH_power_gamma',\n",
       " 'trial_and_post_LH_power_theta',\n",
       " 'trial_and_post_MD_power_all_frequencies_all_windows',\n",
       " 'trial_and_post_MD_power_gamma',\n",
       " 'trial_and_post_MD_power_theta',\n",
       " 'trial_and_post_mPFC_power_all_frequencies_all_windows',\n",
       " 'trial_and_post_mPFC_power_gamma',\n",
       " 'trial_and_post_mPFC_power_theta',\n",
       " 'trial_and_post_vHPC_power_all_frequencies_all_windows',\n",
       " 'trial_and_post_vHPC_power_gamma',\n",
       " 'trial_and_post_vHPC_power_theta',\n",
       " 'trial_and_post_power_timestamps',\n",
       " 'trial_and_post_BLA_gamma_band',\n",
       " 'trial_and_post_BLA_gamma_phase',\n",
       " 'trial_and_post_BLA_lfp_trace',\n",
       " 'trial_and_post_BLA_theta_band',\n",
       " 'trial_and_post_BLA_theta_phase',\n",
       " 'trial_and_post_LH_gamma_band',\n",
       " 'trial_and_post_LH_gamma_phase',\n",
       " 'trial_and_post_LH_lfp_trace',\n",
       " 'trial_and_post_LH_theta_band',\n",
       " 'trial_and_post_LH_theta_phase',\n",
       " 'trial_and_post_MD_gamma_band',\n",
       " 'trial_and_post_MD_gamma_phase',\n",
       " 'trial_and_post_MD_lfp_trace',\n",
       " 'trial_and_post_MD_theta_band',\n",
       " 'trial_and_post_MD_theta_phase',\n",
       " 'trial_and_post_mPFC_gamma_band',\n",
       " 'trial_and_post_mPFC_gamma_phase',\n",
       " 'trial_and_post_mPFC_lfp_trace',\n",
       " 'trial_and_post_mPFC_theta_band',\n",
       " 'trial_and_post_mPFC_theta_phase',\n",
       " 'trial_and_post_vHPC_gamma_band',\n",
       " 'trial_and_post_vHPC_gamma_phase',\n",
       " 'trial_and_post_vHPC_lfp_trace',\n",
       " 'trial_and_post_vHPC_theta_band',\n",
       " 'trial_and_post_vHPC_theta_phase',\n",
       " 'trial_and_post_lfp_timestamps',\n",
       " 'trial_label']"
      ]
     },
     "execution_count": 32,
     "metadata": {},
     "output_type": "execute_result"
    }
   ],
   "source": [
    "list(TRIALS_AND_SPECTRAL_DF.columns)"
   ]
  },
  {
   "cell_type": "code",
   "execution_count": 33,
   "metadata": {
    "tags": []
   },
   "outputs": [],
   "source": [
    "TRIALS_AND_SPECTRAL_DF[\"cluster_index_ranges_dict\"] = TRIALS_AND_SPECTRAL_DF[\"trial_and_post_kmeans_cluster\"].apply(lambda x: find_consecutive_ranges(x, min_length=20))\n"
   ]
  },
  {
   "cell_type": "code",
   "execution_count": 34,
   "metadata": {
    "tags": []
   },
   "outputs": [
    {
     "data": {
      "text/plain": [
       "{5: [(4, 44), (58, 228), (281, 304)], 1: [(254, 280)], 2: [(358, 381)]}"
      ]
     },
     "execution_count": 34,
     "metadata": {},
     "output_type": "execute_result"
    }
   ],
   "source": [
    "TRIALS_AND_SPECTRAL_DF[\"cluster_index_ranges_dict\"].iloc[0]"
   ]
  },
  {
   "cell_type": "code",
   "execution_count": 35,
   "metadata": {
    "tags": []
   },
   "outputs": [
    {
     "data": {
      "text/html": [
       "<div>\n",
       "<style scoped>\n",
       "    .dataframe tbody tr th:only-of-type {\n",
       "        vertical-align: middle;\n",
       "    }\n",
       "\n",
       "    .dataframe tbody tr th {\n",
       "        vertical-align: top;\n",
       "    }\n",
       "\n",
       "    .dataframe thead th {\n",
       "        text-align: right;\n",
       "    }\n",
       "</style>\n",
       "<table border=\"1\" class=\"dataframe\">\n",
       "  <thead>\n",
       "    <tr style=\"text-align: right;\">\n",
       "      <th></th>\n",
       "      <th>tone_start_frame</th>\n",
       "      <th>reward_start</th>\n",
       "      <th>reward_dispensed</th>\n",
       "      <th>tone_stop_frame</th>\n",
       "      <th>condition</th>\n",
       "      <th>competition_closeness</th>\n",
       "      <th>get_reward_frame</th>\n",
       "      <th>out_reward_frame</th>\n",
       "      <th>notes</th>\n",
       "      <th>box_1_port_entry_frames</th>\n",
       "      <th>...</th>\n",
       "      <th>trial_and_post_mPFC_theta_band</th>\n",
       "      <th>trial_and_post_mPFC_theta_phase</th>\n",
       "      <th>trial_and_post_vHPC_gamma_band</th>\n",
       "      <th>trial_and_post_vHPC_gamma_phase</th>\n",
       "      <th>trial_and_post_vHPC_lfp_trace</th>\n",
       "      <th>trial_and_post_vHPC_theta_band</th>\n",
       "      <th>trial_and_post_vHPC_theta_phase</th>\n",
       "      <th>trial_and_post_lfp_timestamps</th>\n",
       "      <th>trial_label</th>\n",
       "      <th>cluster_index_ranges_dict</th>\n",
       "    </tr>\n",
       "  </thead>\n",
       "  <tbody>\n",
       "    <tr>\n",
       "      <th>0</th>\n",
       "      <td>34242.0</td>\n",
       "      <td>34322</td>\n",
       "      <td>34342.0</td>\n",
       "      <td>34442.0</td>\n",
       "      <td>4.3</td>\n",
       "      <td>no_comp</td>\n",
       "      <td>NaN</td>\n",
       "      <td>NaN</td>\n",
       "      <td>NaN</td>\n",
       "      <td>[34250 34265]</td>\n",
       "      <td>...</td>\n",
       "      <td>[0.45963967, 0.46584538, 0.4714166, 0.47629145...</td>\n",
       "      <td>[0.0660045, 0.100497134, 0.13558412, 0.1712443...</td>\n",
       "      <td>[-0.7498611, -0.73270696, -0.66639715, -0.5548...</td>\n",
       "      <td>[3.130545, -2.895104, -2.6377413, -2.380579, -...</td>\n",
       "      <td>[-194.60999, -213.915, -161.06999, -52.454998,...</td>\n",
       "      <td>[-0.7498519, -0.71976215, -0.68688864, -0.6512...</td>\n",
       "      <td>[-2.373418, -2.3229098, -2.2723296, -2.2216792...</td>\n",
       "      <td>[34280580, 34280600, 34280620, 34280640, 34280...</td>\n",
       "      <td>lose</td>\n",
       "      <td>{5: [(4, 44), (58, 228), (281, 304)], 1: [(254...</td>\n",
       "    </tr>\n",
       "    <tr>\n",
       "      <th>1</th>\n",
       "      <td>34242.0</td>\n",
       "      <td>34322</td>\n",
       "      <td>34342.0</td>\n",
       "      <td>34442.0</td>\n",
       "      <td>4.3</td>\n",
       "      <td>no_comp</td>\n",
       "      <td>NaN</td>\n",
       "      <td>NaN</td>\n",
       "      <td>NaN</td>\n",
       "      <td>[34250 34265]</td>\n",
       "      <td>...</td>\n",
       "      <td>[0.6209574, 0.6194976, 0.6152875, 0.6083768, 0...</td>\n",
       "      <td>[-0.14499341, -0.07693758, -0.008636221, 0.059...</td>\n",
       "      <td>[-0.012106158, 0.046377987, 0.09737586, 0.1367...</td>\n",
       "      <td>[-1.6299233, -1.3326924, -1.029256, -0.7194334...</td>\n",
       "      <td>[193.245, 173.54999, 157.36499, 132.405, 102.7...</td>\n",
       "      <td>[0.7059251, 0.6601463, 0.611616, 0.56049484, 0...</td>\n",
       "      <td>[0.86685646, 0.92562836, 0.984195, 1.0425555, ...</td>\n",
       "      <td>[34280580, 34280600, 34280620, 34280640, 34280...</td>\n",
       "      <td>win</td>\n",
       "      <td>{5: [(4, 44), (58, 228), (281, 304)], 1: [(254...</td>\n",
       "    </tr>\n",
       "    <tr>\n",
       "      <th>2</th>\n",
       "      <td>35241.0</td>\n",
       "      <td>35321</td>\n",
       "      <td>35341.0</td>\n",
       "      <td>35439.0</td>\n",
       "      <td>4.3</td>\n",
       "      <td>no_comp</td>\n",
       "      <td>NaN</td>\n",
       "      <td>NaN</td>\n",
       "      <td>NaN</td>\n",
       "      <td>[35242 35249] [35249 35250] [35250 35271] [353...</td>\n",
       "      <td>...</td>\n",
       "      <td>[-0.55376214, -0.54105306, -0.5277178, -0.5138...</td>\n",
       "      <td>[-2.848622, -2.809103, -2.7699904, -2.7312958,...</td>\n",
       "      <td>[0.029952968, 0.0829829, 0.13468696, 0.1792766...</td>\n",
       "      <td>[-1.3647506, -1.033497, -0.7162916, -0.40997, ...</td>\n",
       "      <td>[141.765, 137.08499, 126.74999, 128.89499, 140...</td>\n",
       "      <td>[0.3417526, 0.3667192, 0.38927597, 0.40933278,...</td>\n",
       "      <td>[-0.8138773, -0.7312234, -0.6479294, -0.564073...</td>\n",
       "      <td>[35280600, 35280620, 35280640, 35280660, 35280...</td>\n",
       "      <td>lose</td>\n",
       "      <td>{5: [(10, 31)], 6: [(32, 67)], 1: [(115, 161),...</td>\n",
       "    </tr>\n",
       "    <tr>\n",
       "      <th>3</th>\n",
       "      <td>35241.0</td>\n",
       "      <td>35321</td>\n",
       "      <td>35341.0</td>\n",
       "      <td>35439.0</td>\n",
       "      <td>4.3</td>\n",
       "      <td>no_comp</td>\n",
       "      <td>NaN</td>\n",
       "      <td>NaN</td>\n",
       "      <td>NaN</td>\n",
       "      <td>[35242 35249] [35249 35250] [35250 35271] [353...</td>\n",
       "      <td>...</td>\n",
       "      <td>[-0.43594536, -0.40849745, -0.37993425, -0.350...</td>\n",
       "      <td>[-2.290331, -2.2391956, -2.18775, -2.1359916, ...</td>\n",
       "      <td>[-0.04873953, 0.006628439, 0.061135184, 0.1117...</td>\n",
       "      <td>[-1.7751641, -1.5431039, -1.3114904, -1.080336...</td>\n",
       "      <td>[-134.355, -74.685, -16.965, -39.39, -100.8149...</td>\n",
       "      <td>[-0.3201336, -0.33739012, -0.3543125, -0.37081...</td>\n",
       "      <td>[2.4480984, 2.4920197, 2.5362623, 2.580803, 2....</td>\n",
       "      <td>[35280600, 35280620, 35280640, 35280660, 35280...</td>\n",
       "      <td>win</td>\n",
       "      <td>{5: [(10, 31)], 6: [(32, 67)], 1: [(115, 161),...</td>\n",
       "    </tr>\n",
       "    <tr>\n",
       "      <th>4</th>\n",
       "      <td>36339.0</td>\n",
       "      <td>36419</td>\n",
       "      <td>36439.0</td>\n",
       "      <td>36538.0</td>\n",
       "      <td>4.3</td>\n",
       "      <td>competitive</td>\n",
       "      <td>NaN</td>\n",
       "      <td>NaN</td>\n",
       "      <td>NaN</td>\n",
       "      <td>[36339 36354] [36361 36365] [36410 36473] [364...</td>\n",
       "      <td>...</td>\n",
       "      <td>[0.04354602, 0.04824548, 0.050688196, 0.050923...</td>\n",
       "      <td>[-1.434966, -1.4083124, -1.3854433, -1.3673644...</td>\n",
       "      <td>[-0.22771999, -0.38629508, -0.5159725, -0.6101...</td>\n",
       "      <td>[1.8742249, 2.113802, 2.3528705, 2.5913677, 2....</td>\n",
       "      <td>[-279.435, -256.62, -195.58499, -120.314995, -...</td>\n",
       "      <td>[-0.76139945, -0.7329739, -0.7030888, -0.67182...</td>\n",
       "      <td>[-2.445381, -2.4016135, -2.3579578, -2.3144145...</td>\n",
       "      <td>[36380600, 36380620, 36380640, 36380660, 36380...</td>\n",
       "      <td>lose</td>\n",
       "      <td>{3: [(10, 29)], 1: [(108, 130), (329, 350), (3...</td>\n",
       "    </tr>\n",
       "  </tbody>\n",
       "</table>\n",
       "<p>5 rows × 210 columns</p>\n",
       "</div>"
      ],
      "text/plain": [
       "   tone_start_frame  reward_start  reward_dispensed  tone_stop_frame  \\\n",
       "0           34242.0         34322           34342.0          34442.0   \n",
       "1           34242.0         34322           34342.0          34442.0   \n",
       "2           35241.0         35321           35341.0          35439.0   \n",
       "3           35241.0         35321           35341.0          35439.0   \n",
       "4           36339.0         36419           36439.0          36538.0   \n",
       "\n",
       "  condition  competition_closeness  get_reward_frame  out_reward_frame notes  \\\n",
       "0        4.3               no_comp               NaN               NaN   NaN   \n",
       "1        4.3               no_comp               NaN               NaN   NaN   \n",
       "2        4.3               no_comp               NaN               NaN   NaN   \n",
       "3        4.3               no_comp               NaN               NaN   NaN   \n",
       "4        4.3           competitive               NaN               NaN   NaN   \n",
       "\n",
       "                             box_1_port_entry_frames  ...  \\\n",
       "0                                      [34250 34265]  ...   \n",
       "1                                      [34250 34265]  ...   \n",
       "2  [35242 35249] [35249 35250] [35250 35271] [353...  ...   \n",
       "3  [35242 35249] [35249 35250] [35250 35271] [353...  ...   \n",
       "4  [36339 36354] [36361 36365] [36410 36473] [364...  ...   \n",
       "\n",
       "                      trial_and_post_mPFC_theta_band  \\\n",
       "0  [0.45963967, 0.46584538, 0.4714166, 0.47629145...   \n",
       "1  [0.6209574, 0.6194976, 0.6152875, 0.6083768, 0...   \n",
       "2  [-0.55376214, -0.54105306, -0.5277178, -0.5138...   \n",
       "3  [-0.43594536, -0.40849745, -0.37993425, -0.350...   \n",
       "4  [0.04354602, 0.04824548, 0.050688196, 0.050923...   \n",
       "\n",
       "                     trial_and_post_mPFC_theta_phase  \\\n",
       "0  [0.0660045, 0.100497134, 0.13558412, 0.1712443...   \n",
       "1  [-0.14499341, -0.07693758, -0.008636221, 0.059...   \n",
       "2  [-2.848622, -2.809103, -2.7699904, -2.7312958,...   \n",
       "3  [-2.290331, -2.2391956, -2.18775, -2.1359916, ...   \n",
       "4  [-1.434966, -1.4083124, -1.3854433, -1.3673644...   \n",
       "\n",
       "                      trial_and_post_vHPC_gamma_band  \\\n",
       "0  [-0.7498611, -0.73270696, -0.66639715, -0.5548...   \n",
       "1  [-0.012106158, 0.046377987, 0.09737586, 0.1367...   \n",
       "2  [0.029952968, 0.0829829, 0.13468696, 0.1792766...   \n",
       "3  [-0.04873953, 0.006628439, 0.061135184, 0.1117...   \n",
       "4  [-0.22771999, -0.38629508, -0.5159725, -0.6101...   \n",
       "\n",
       "                     trial_and_post_vHPC_gamma_phase  \\\n",
       "0  [3.130545, -2.895104, -2.6377413, -2.380579, -...   \n",
       "1  [-1.6299233, -1.3326924, -1.029256, -0.7194334...   \n",
       "2  [-1.3647506, -1.033497, -0.7162916, -0.40997, ...   \n",
       "3  [-1.7751641, -1.5431039, -1.3114904, -1.080336...   \n",
       "4  [1.8742249, 2.113802, 2.3528705, 2.5913677, 2....   \n",
       "\n",
       "                       trial_and_post_vHPC_lfp_trace  \\\n",
       "0  [-194.60999, -213.915, -161.06999, -52.454998,...   \n",
       "1  [193.245, 173.54999, 157.36499, 132.405, 102.7...   \n",
       "2  [141.765, 137.08499, 126.74999, 128.89499, 140...   \n",
       "3  [-134.355, -74.685, -16.965, -39.39, -100.8149...   \n",
       "4  [-279.435, -256.62, -195.58499, -120.314995, -...   \n",
       "\n",
       "                      trial_and_post_vHPC_theta_band  \\\n",
       "0  [-0.7498519, -0.71976215, -0.68688864, -0.6512...   \n",
       "1  [0.7059251, 0.6601463, 0.611616, 0.56049484, 0...   \n",
       "2  [0.3417526, 0.3667192, 0.38927597, 0.40933278,...   \n",
       "3  [-0.3201336, -0.33739012, -0.3543125, -0.37081...   \n",
       "4  [-0.76139945, -0.7329739, -0.7030888, -0.67182...   \n",
       "\n",
       "                     trial_and_post_vHPC_theta_phase  \\\n",
       "0  [-2.373418, -2.3229098, -2.2723296, -2.2216792...   \n",
       "1  [0.86685646, 0.92562836, 0.984195, 1.0425555, ...   \n",
       "2  [-0.8138773, -0.7312234, -0.6479294, -0.564073...   \n",
       "3  [2.4480984, 2.4920197, 2.5362623, 2.580803, 2....   \n",
       "4  [-2.445381, -2.4016135, -2.3579578, -2.3144145...   \n",
       "\n",
       "                       trial_and_post_lfp_timestamps trial_label  \\\n",
       "0  [34280580, 34280600, 34280620, 34280640, 34280...        lose   \n",
       "1  [34280580, 34280600, 34280620, 34280640, 34280...         win   \n",
       "2  [35280600, 35280620, 35280640, 35280660, 35280...        lose   \n",
       "3  [35280600, 35280620, 35280640, 35280660, 35280...         win   \n",
       "4  [36380600, 36380620, 36380640, 36380660, 36380...        lose   \n",
       "\n",
       "                           cluster_index_ranges_dict  \n",
       "0  {5: [(4, 44), (58, 228), (281, 304)], 1: [(254...  \n",
       "1  {5: [(4, 44), (58, 228), (281, 304)], 1: [(254...  \n",
       "2  {5: [(10, 31)], 6: [(32, 67)], 1: [(115, 161),...  \n",
       "3  {5: [(10, 31)], 6: [(32, 67)], 1: [(115, 161),...  \n",
       "4  {3: [(10, 29)], 1: [(108, 130), (329, 350), (3...  \n",
       "\n",
       "[5 rows x 210 columns]"
      ]
     },
     "execution_count": 35,
     "metadata": {},
     "output_type": "execute_result"
    }
   ],
   "source": [
    "TRIALS_AND_SPECTRAL_DF.head()"
   ]
  },
  {
   "cell_type": "code",
   "execution_count": 36,
   "metadata": {
    "tags": []
   },
   "outputs": [],
   "source": [
    "TRIALS_AND_SPECTRAL_DF[\"cluster_timestamp\"] = TRIALS_AND_SPECTRAL_DF.apply(lambda x: x[\"video_timestamps\"][x[\"trial_and_post_frame_index\"]], axis=1)\n"
   ]
  },
  {
   "cell_type": "markdown",
   "metadata": {},
   "source": [
    "- Calculating the times in milliseconds of each cluster frame"
   ]
  },
  {
   "cell_type": "code",
   "execution_count": null,
   "metadata": {},
   "outputs": [],
   "source": []
  },
  {
   "cell_type": "code",
   "execution_count": 37,
   "metadata": {
    "tags": []
   },
   "outputs": [],
   "source": [
    "TRIALS_AND_SPECTRAL_DF[\"cluster_times\"] = TRIALS_AND_SPECTRAL_DF.apply(lambda x: (np.array(x[\"cluster_timestamp\"]) - x[\"first_timestamp\"]) // 20, axis=1)\n"
   ]
  },
  {
   "cell_type": "markdown",
   "metadata": {},
   "source": [
    "- Updating the index to use cluster times and timestamps based on video frame timestamps list"
   ]
  },
  {
   "cell_type": "code",
   "execution_count": 38,
   "metadata": {
    "tags": []
   },
   "outputs": [],
   "source": [
    "TRIALS_AND_SPECTRAL_DF[\"cluster_times_ranges_dict\"] = TRIALS_AND_SPECTRAL_DF.apply(lambda x: update_tuples_in_dict(x[\"cluster_index_ranges_dict\"], x[\"cluster_times\"]), axis=1)"
   ]
  },
  {
   "cell_type": "code",
   "execution_count": 39,
   "metadata": {
    "tags": []
   },
   "outputs": [],
   "source": [
    "TRIALS_AND_SPECTRAL_DF[\"cluster_timestamps_ranges_dict\"] = TRIALS_AND_SPECTRAL_DF.apply(lambda x: update_tuples_in_dict(x[\"cluster_index_ranges_dict\"], x[\"cluster_timestamp\"]), axis=1)"
   ]
  },
  {
   "cell_type": "markdown",
   "metadata": {},
   "source": [
    "- Combining the win and loss label with the cluster"
   ]
  },
  {
   "cell_type": "code",
   "execution_count": 40,
   "metadata": {
    "tags": []
   },
   "outputs": [],
   "source": [
    "TRIALS_AND_SPECTRAL_DF[\"trial_cluster_times_ranges_dict\"] = TRIALS_AND_SPECTRAL_DF.apply(lambda x: {\"{}_{}\".format(x[\"trial_label\"], k): v for k, v in x[\"cluster_times_ranges_dict\"].items()}, axis=1)\n"
   ]
  },
  {
   "cell_type": "code",
   "execution_count": 41,
   "metadata": {
    "tags": []
   },
   "outputs": [],
   "source": [
    "TRIALS_AND_SPECTRAL_DF[\"trial_cluster_timestamps_ranges_dict\"] = TRIALS_AND_SPECTRAL_DF.apply(lambda x: {\"{}_{}\".format(x[\"trial_label\"], k): v for k, v in x[\"cluster_timestamps_ranges_dict\"].items()}, axis=1)\n"
   ]
  },
  {
   "cell_type": "code",
   "execution_count": 42,
   "metadata": {},
   "outputs": [
    {
     "data": {
      "text/plain": [
       "{'lose_5': [(34285025, 34325215), (34339074, 34509536), (34562199, 34585759)],\n",
       " 'lose_1': [(34535867, 34562199)],\n",
       " 'lose_2': [(34639808, 34661982)]}"
      ]
     },
     "execution_count": 42,
     "metadata": {},
     "output_type": "execute_result"
    }
   ],
   "source": [
    "TRIALS_AND_SPECTRAL_DF[\"trial_cluster_timestamps_ranges_dict\"].iloc[0]"
   ]
  },
  {
   "cell_type": "code",
   "execution_count": null,
   "metadata": {},
   "outputs": [],
   "source": []
  },
  {
   "cell_type": "code",
   "execution_count": 43,
   "metadata": {
    "tags": []
   },
   "outputs": [
    {
     "data": {
      "text/plain": [
       "Index(['tone_start_frame', 'reward_start', 'reward_dispensed',\n",
       "       'tone_stop_frame', 'condition ', 'competition_closeness',\n",
       "       'get_reward_frame', 'out_reward_frame', 'notes',\n",
       "       'box_1_port_entry_frames',\n",
       "       ...\n",
       "       'trial_and_post_vHPC_theta_phase', 'trial_and_post_lfp_timestamps',\n",
       "       'trial_label', 'cluster_index_ranges_dict', 'cluster_timestamp',\n",
       "       'cluster_times', 'cluster_times_ranges_dict',\n",
       "       'cluster_timestamps_ranges_dict', 'trial_cluster_times_ranges_dict',\n",
       "       'trial_cluster_timestamps_ranges_dict'],\n",
       "      dtype='object', length=216)"
      ]
     },
     "execution_count": 43,
     "metadata": {},
     "output_type": "execute_result"
    }
   ],
   "source": [
    "TRIALS_AND_SPECTRAL_DF.columns"
   ]
  },
  {
   "cell_type": "code",
   "execution_count": 44,
   "metadata": {
    "tags": []
   },
   "outputs": [
    {
     "data": {
      "text/plain": [
       "array([34290000, 34300000, 34310000, 34320000, 34330000, 34340000,\n",
       "       34350000, 34360000, 34370000, 34380000, 34390000, 34400000,\n",
       "       34410000, 34420000, 34430000, 34440000, 34450000, 34460000,\n",
       "       34470000, 34480000, 34490000, 34500000, 34510000, 34520000,\n",
       "       34530000, 34540000, 34550000, 34560000, 34570000, 34580000,\n",
       "       34590000, 34600000, 34610000, 34620000, 34630000, 34640000,\n",
       "       34650000, 34660000, 34670000, 34680000])"
      ]
     },
     "execution_count": 44,
     "metadata": {},
     "output_type": "execute_result"
    }
   ],
   "source": [
    "TRIALS_AND_SPECTRAL_DF[\"trial_and_post_coherence_timestamps\"].iloc[0]"
   ]
  },
  {
   "cell_type": "code",
   "execution_count": 45,
   "metadata": {
    "tags": []
   },
   "outputs": [],
   "source": [
    "timestamps_col = [col for col in TRIALS_AND_SPECTRAL_DF.columns if \"timestamps\" in col and \"trial_and_post\" in col and \"video\" not in col]"
   ]
  },
  {
   "cell_type": "code",
   "execution_count": 46,
   "metadata": {
    "tags": []
   },
   "outputs": [
    {
     "data": {
      "text/plain": [
       "['trial_and_post_coherence_timestamps',\n",
       " 'trial_and_post_granger_timestamps',\n",
       " 'trial_and_post_power_timestamps',\n",
       " 'trial_and_post_lfp_timestamps']"
      ]
     },
     "execution_count": 46,
     "metadata": {},
     "output_type": "execute_result"
    }
   ],
   "source": [
    "timestamps_col"
   ]
  },
  {
   "cell_type": "markdown",
   "metadata": {},
   "source": [
    "- Getting all the indexes that fit within each range"
   ]
  },
  {
   "cell_type": "code",
   "execution_count": 47,
   "metadata": {
    "tags": []
   },
   "outputs": [],
   "source": [
    "for col in timestamps_col:\n",
    "    base_col = col.replace(\"trial_and_post_\", \"\")\n",
    "    TRIALS_AND_SPECTRAL_DF[\"cluster_filtered_{}\".format(base_col)] = TRIALS_AND_SPECTRAL_DF.apply(lambda x: find_indices_within_ranges(x[\"trial_cluster_timestamps_ranges_dict\"], x[col]), axis=1)"
   ]
  },
  {
   "cell_type": "markdown",
   "metadata": {},
   "source": [
    "# Filtering for power"
   ]
  },
  {
   "cell_type": "code",
   "execution_count": 48,
   "metadata": {
    "tags": []
   },
   "outputs": [],
   "source": [
    "TRIALS_AND_SPECTRAL_DF = TRIALS_AND_SPECTRAL_DF[TRIALS_AND_SPECTRAL_DF[\"cluster_filtered_power_timestamps\"].apply(lambda x: len(x)) >= 1] "
   ]
  },
  {
   "cell_type": "code",
   "execution_count": 49,
   "metadata": {},
   "outputs": [
    {
     "data": {
      "text/plain": [
       "['tone_start_frame',\n",
       " 'reward_start',\n",
       " 'reward_dispensed',\n",
       " 'tone_stop_frame',\n",
       " 'condition ',\n",
       " 'competition_closeness',\n",
       " 'get_reward_frame',\n",
       " 'out_reward_frame',\n",
       " 'notes',\n",
       " 'box_1_port_entry_frames',\n",
       " 'box_2_port_entry_frames',\n",
       " 'video_name',\n",
       " 'tone_start_timestamp',\n",
       " 'tone_stop_timestamp',\n",
       " 'box_1_port_entry_timestamps',\n",
       " 'box_2_port_entry_timestamps',\n",
       " 'current_subject',\n",
       " 'subject_tail_base',\n",
       " 'agent_tail_base',\n",
       " 'session_dir',\n",
       " 'experiment',\n",
       " 'sleap_name',\n",
       " 'video_id',\n",
       " 'agent',\n",
       " 'BLA_lfp_RMS_filtered',\n",
       " 'LH_lfp_RMS_filtered',\n",
       " 'MD_lfp_RMS_filtered',\n",
       " 'all_subjects',\n",
       " 'coherence_calculation_frequencies',\n",
       " 'cohort',\n",
       " 'first_timestamp',\n",
       " 'granger_calculation_frequencies',\n",
       " 'last_timestamp',\n",
       " 'mPFC_lfp_RMS_filtered',\n",
       " 'power_calculation_frequencies',\n",
       " 'recording',\n",
       " 'session_path',\n",
       " 'subject',\n",
       " 'tone_frames',\n",
       " 'tone_timestamps',\n",
       " 'vHPC_lfp_RMS_filtered',\n",
       " 'video_timestamps',\n",
       " 'baseline_start_timestamp',\n",
       " 'post_trial_end_timestamp',\n",
       " 'video_frame',\n",
       " 'trial_and_post_agent_locations',\n",
       " 'trial_and_post_agent_nose',\n",
       " 'trial_and_post_agent_nose_to_reward_port',\n",
       " 'trial_and_post_agent_thorax',\n",
       " 'trial_and_post_agent_thorax_velocity',\n",
       " 'trial_and_post_agent_to_reward_port_angle',\n",
       " 'trial_and_post_closebool_agent_nose_to_reward_port',\n",
       " 'trial_and_post_closebool_subject_nose_to_reward_port',\n",
       " 'trial_and_post_frame_index',\n",
       " 'trial_and_post_kmeans_cluster',\n",
       " 'trial_and_post_manual_cluster_id',\n",
       " 'trial_and_post_movingbool_agent_thorax_velocity',\n",
       " 'trial_and_post_movingbool_subject_thorax_velocity',\n",
       " 'trial_and_post_nose_to_reward_port_diff',\n",
       " 'trial_and_post_nose_to_reward_port_sum',\n",
       " 'trial_and_post_standard_embedding_x',\n",
       " 'trial_and_post_standard_embedding_y',\n",
       " 'trial_and_post_subject_locations',\n",
       " 'trial_and_post_subject_nose',\n",
       " 'trial_and_post_subject_nose_to_reward_port',\n",
       " 'trial_and_post_subject_thorax',\n",
       " 'trial_and_post_subject_thorax_to_agent_thorax',\n",
       " 'trial_and_post_subject_thorax_velocity',\n",
       " 'trial_and_post_subject_to_reward_port_angle',\n",
       " 'trial_and_post_thorax_velocity_diff',\n",
       " 'trial_and_post_thorax_velocity_sum',\n",
       " 'trial_and_post_to_reward_port_angle_diff',\n",
       " 'trial_and_post_to_reward_port_angle_sum',\n",
       " 'trial_and_post_video_timestamps',\n",
       " 'trial_and_post_BLA_LH_coherence_all_frequencies_all_windows',\n",
       " 'trial_and_post_BLA_LH_coherence_gamma',\n",
       " 'trial_and_post_BLA_LH_coherence_theta',\n",
       " 'trial_and_post_BLA_MD_coherence_all_frequencies_all_windows',\n",
       " 'trial_and_post_BLA_MD_coherence_gamma',\n",
       " 'trial_and_post_BLA_MD_coherence_theta',\n",
       " 'trial_and_post_BLA_mPFC_coherence_all_frequencies_all_windows',\n",
       " 'trial_and_post_BLA_mPFC_coherence_gamma',\n",
       " 'trial_and_post_BLA_mPFC_coherence_theta',\n",
       " 'trial_and_post_BLA_vHPC_coherence_all_frequencies_all_windows',\n",
       " 'trial_and_post_BLA_vHPC_coherence_gamma',\n",
       " 'trial_and_post_BLA_vHPC_coherence_theta',\n",
       " 'trial_and_post_LH_MD_coherence_all_frequencies_all_windows',\n",
       " 'trial_and_post_LH_MD_coherence_gamma',\n",
       " 'trial_and_post_LH_MD_coherence_theta',\n",
       " 'trial_and_post_LH_mPFC_coherence_all_frequencies_all_windows',\n",
       " 'trial_and_post_LH_mPFC_coherence_gamma',\n",
       " 'trial_and_post_LH_mPFC_coherence_theta',\n",
       " 'trial_and_post_LH_vHPC_coherence_all_frequencies_all_windows',\n",
       " 'trial_and_post_LH_vHPC_coherence_gamma',\n",
       " 'trial_and_post_LH_vHPC_coherence_theta',\n",
       " 'trial_and_post_MD_mPFC_coherence_all_frequencies_all_windows',\n",
       " 'trial_and_post_MD_mPFC_coherence_gamma',\n",
       " 'trial_and_post_MD_mPFC_coherence_theta',\n",
       " 'trial_and_post_MD_vHPC_coherence_all_frequencies_all_windows',\n",
       " 'trial_and_post_MD_vHPC_coherence_gamma',\n",
       " 'trial_and_post_MD_vHPC_coherence_theta',\n",
       " 'trial_and_post_mPFC_vHPC_coherence_all_frequencies_all_windows',\n",
       " 'trial_and_post_mPFC_vHPC_coherence_gamma',\n",
       " 'trial_and_post_mPFC_vHPC_coherence_theta',\n",
       " 'trial_and_post_coherence_timestamps',\n",
       " 'trial_and_post_BLA-to-LH_granger_gamma',\n",
       " 'trial_and_post_BLA-to-LH_granger_theta',\n",
       " 'trial_and_post_BLA-to-MD_granger_gamma',\n",
       " 'trial_and_post_BLA-to-MD_granger_theta',\n",
       " 'trial_and_post_BLA-to-mPFC_granger_gamma',\n",
       " 'trial_and_post_BLA-to-mPFC_granger_theta',\n",
       " 'trial_and_post_BLA-to-vHPC_granger_gamma',\n",
       " 'trial_and_post_BLA-to-vHPC_granger_theta',\n",
       " 'trial_and_post_BLA_LH_granger_all_frequencies_all_windows',\n",
       " 'trial_and_post_BLA_MD_granger_all_frequencies_all_windows',\n",
       " 'trial_and_post_BLA_mPFC_granger_all_frequencies_all_windows',\n",
       " 'trial_and_post_BLA_vHPC_granger_all_frequencies_all_windows',\n",
       " 'trial_and_post_LH-to-BLA_granger_gamma',\n",
       " 'trial_and_post_LH-to-BLA_granger_theta',\n",
       " 'trial_and_post_LH-to-MD_granger_gamma',\n",
       " 'trial_and_post_LH-to-MD_granger_theta',\n",
       " 'trial_and_post_LH-to-mPFC_granger_gamma',\n",
       " 'trial_and_post_LH-to-mPFC_granger_theta',\n",
       " 'trial_and_post_LH-to-vHPC_granger_gamma',\n",
       " 'trial_and_post_LH-to-vHPC_granger_theta',\n",
       " 'trial_and_post_LH_BLA_granger_all_frequencies_all_windows',\n",
       " 'trial_and_post_LH_MD_granger_all_frequencies_all_windows',\n",
       " 'trial_and_post_LH_mPFC_granger_all_frequencies_all_windows',\n",
       " 'trial_and_post_LH_vHPC_granger_all_frequencies_all_windows',\n",
       " 'trial_and_post_MD-to-BLA_granger_gamma',\n",
       " 'trial_and_post_MD-to-BLA_granger_theta',\n",
       " 'trial_and_post_MD-to-LH_granger_gamma',\n",
       " 'trial_and_post_MD-to-LH_granger_theta',\n",
       " 'trial_and_post_MD-to-mPFC_granger_gamma',\n",
       " 'trial_and_post_MD-to-mPFC_granger_theta',\n",
       " 'trial_and_post_MD-to-vHPC_granger_gamma',\n",
       " 'trial_and_post_MD-to-vHPC_granger_theta',\n",
       " 'trial_and_post_MD_BLA_granger_all_frequencies_all_windows',\n",
       " 'trial_and_post_MD_LH_granger_all_frequencies_all_windows',\n",
       " 'trial_and_post_MD_mPFC_granger_all_frequencies_all_windows',\n",
       " 'trial_and_post_MD_vHPC_granger_all_frequencies_all_windows',\n",
       " 'trial_and_post_mPFC-to-BLA_granger_gamma',\n",
       " 'trial_and_post_mPFC-to-BLA_granger_theta',\n",
       " 'trial_and_post_mPFC-to-LH_granger_gamma',\n",
       " 'trial_and_post_mPFC-to-LH_granger_theta',\n",
       " 'trial_and_post_mPFC-to-MD_granger_gamma',\n",
       " 'trial_and_post_mPFC-to-MD_granger_theta',\n",
       " 'trial_and_post_mPFC-to-vHPC_granger_gamma',\n",
       " 'trial_and_post_mPFC-to-vHPC_granger_theta',\n",
       " 'trial_and_post_mPFC_BLA_granger_all_frequencies_all_windows',\n",
       " 'trial_and_post_mPFC_LH_granger_all_frequencies_all_windows',\n",
       " 'trial_and_post_mPFC_MD_granger_all_frequencies_all_windows',\n",
       " 'trial_and_post_mPFC_vHPC_granger_all_frequencies_all_windows',\n",
       " 'trial_and_post_vHPC-to-BLA_granger_gamma',\n",
       " 'trial_and_post_vHPC-to-BLA_granger_theta',\n",
       " 'trial_and_post_vHPC-to-LH_granger_gamma',\n",
       " 'trial_and_post_vHPC-to-LH_granger_theta',\n",
       " 'trial_and_post_vHPC-to-MD_granger_gamma',\n",
       " 'trial_and_post_vHPC-to-MD_granger_theta',\n",
       " 'trial_and_post_vHPC-to-mPFC_granger_gamma',\n",
       " 'trial_and_post_vHPC-to-mPFC_granger_theta',\n",
       " 'trial_and_post_vHPC_BLA_granger_all_frequencies_all_windows',\n",
       " 'trial_and_post_vHPC_LH_granger_all_frequencies_all_windows',\n",
       " 'trial_and_post_vHPC_MD_granger_all_frequencies_all_windows',\n",
       " 'trial_and_post_vHPC_mPFC_granger_all_frequencies_all_windows',\n",
       " 'trial_and_post_granger_timestamps',\n",
       " 'trial_and_post_BLA_power_all_frequencies_all_windows',\n",
       " 'trial_and_post_BLA_power_gamma',\n",
       " 'trial_and_post_BLA_power_theta',\n",
       " 'trial_and_post_LH_power_all_frequencies_all_windows',\n",
       " 'trial_and_post_LH_power_gamma',\n",
       " 'trial_and_post_LH_power_theta',\n",
       " 'trial_and_post_MD_power_all_frequencies_all_windows',\n",
       " 'trial_and_post_MD_power_gamma',\n",
       " 'trial_and_post_MD_power_theta',\n",
       " 'trial_and_post_mPFC_power_all_frequencies_all_windows',\n",
       " 'trial_and_post_mPFC_power_gamma',\n",
       " 'trial_and_post_mPFC_power_theta',\n",
       " 'trial_and_post_vHPC_power_all_frequencies_all_windows',\n",
       " 'trial_and_post_vHPC_power_gamma',\n",
       " 'trial_and_post_vHPC_power_theta',\n",
       " 'trial_and_post_power_timestamps',\n",
       " 'trial_and_post_BLA_gamma_band',\n",
       " 'trial_and_post_BLA_gamma_phase',\n",
       " 'trial_and_post_BLA_lfp_trace',\n",
       " 'trial_and_post_BLA_theta_band',\n",
       " 'trial_and_post_BLA_theta_phase',\n",
       " 'trial_and_post_LH_gamma_band',\n",
       " 'trial_and_post_LH_gamma_phase',\n",
       " 'trial_and_post_LH_lfp_trace',\n",
       " 'trial_and_post_LH_theta_band',\n",
       " 'trial_and_post_LH_theta_phase',\n",
       " 'trial_and_post_MD_gamma_band',\n",
       " 'trial_and_post_MD_gamma_phase',\n",
       " 'trial_and_post_MD_lfp_trace',\n",
       " 'trial_and_post_MD_theta_band',\n",
       " 'trial_and_post_MD_theta_phase',\n",
       " 'trial_and_post_mPFC_gamma_band',\n",
       " 'trial_and_post_mPFC_gamma_phase',\n",
       " 'trial_and_post_mPFC_lfp_trace',\n",
       " 'trial_and_post_mPFC_theta_band',\n",
       " 'trial_and_post_mPFC_theta_phase',\n",
       " 'trial_and_post_vHPC_gamma_band',\n",
       " 'trial_and_post_vHPC_gamma_phase',\n",
       " 'trial_and_post_vHPC_lfp_trace',\n",
       " 'trial_and_post_vHPC_theta_band',\n",
       " 'trial_and_post_vHPC_theta_phase',\n",
       " 'trial_and_post_lfp_timestamps',\n",
       " 'trial_label',\n",
       " 'cluster_index_ranges_dict',\n",
       " 'cluster_timestamp',\n",
       " 'cluster_times',\n",
       " 'cluster_times_ranges_dict',\n",
       " 'cluster_timestamps_ranges_dict',\n",
       " 'trial_cluster_times_ranges_dict',\n",
       " 'trial_cluster_timestamps_ranges_dict',\n",
       " 'cluster_filtered_coherence_timestamps',\n",
       " 'cluster_filtered_granger_timestamps',\n",
       " 'cluster_filtered_power_timestamps',\n",
       " 'cluster_filtered_lfp_timestamps']"
      ]
     },
     "execution_count": 49,
     "metadata": {},
     "output_type": "execute_result"
    }
   ],
   "source": [
    "list(TRIALS_AND_SPECTRAL_DF.columns)"
   ]
  },
  {
   "cell_type": "code",
   "execution_count": 50,
   "metadata": {},
   "outputs": [],
   "source": [
    "to_keep_columns = ['trial_label',\n",
    "'tone_start_frame',\n",
    "'reward_start',\n",
    "'reward_dispensed',\n",
    "'tone_stop_frame',\n",
    "'condition ',\n",
    "'competition_closeness',\n",
    "'get_reward_frame',\n",
    "'out_reward_frame',\n",
    "'notes',\n",
    "'box_1_port_entry_frames',\n",
    "'box_2_port_entry_frames',\n",
    "'video_name',\n",
    "'tone_start_timestamp',\n",
    "'tone_stop_timestamp',\n",
    "'box_1_port_entry_timestamps',\n",
    "'box_2_port_entry_timestamps',\n",
    "'current_subject',\n",
    "'session_dir',\n",
    "'experiment',\n",
    "'sleap_name',\n",
    "'video_id',\n",
    "'agent',\n",
    "'all_subjects',\n",
    "'cohort',\n",
    "'first_timestamp',\n",
    "'last_timestamp',\n",
    "'recording',\n",
    "'session_path',\n",
    "'subject',\n",
    "'baseline_start_timestamp',\n",
    "'post_trial_end_timestamp',]"
   ]
  },
  {
   "cell_type": "code",
   "execution_count": 51,
   "metadata": {},
   "outputs": [],
   "source": [
    "power_columns = [col for col in TRIALS_AND_SPECTRAL_DF if \"power\" in col and (\"trial_and_post\" in col or \"cluster\" in col)]"
   ]
  },
  {
   "cell_type": "code",
   "execution_count": 52,
   "metadata": {},
   "outputs": [
    {
     "data": {
      "text/plain": [
       "['trial_and_post_BLA_power_all_frequencies_all_windows',\n",
       " 'trial_and_post_BLA_power_gamma',\n",
       " 'trial_and_post_BLA_power_theta',\n",
       " 'trial_and_post_LH_power_all_frequencies_all_windows',\n",
       " 'trial_and_post_LH_power_gamma',\n",
       " 'trial_and_post_LH_power_theta',\n",
       " 'trial_and_post_MD_power_all_frequencies_all_windows',\n",
       " 'trial_and_post_MD_power_gamma',\n",
       " 'trial_and_post_MD_power_theta',\n",
       " 'trial_and_post_mPFC_power_all_frequencies_all_windows',\n",
       " 'trial_and_post_mPFC_power_gamma',\n",
       " 'trial_and_post_mPFC_power_theta',\n",
       " 'trial_and_post_vHPC_power_all_frequencies_all_windows',\n",
       " 'trial_and_post_vHPC_power_gamma',\n",
       " 'trial_and_post_vHPC_power_theta',\n",
       " 'trial_and_post_power_timestamps',\n",
       " 'cluster_filtered_power_timestamps']"
      ]
     },
     "execution_count": 52,
     "metadata": {},
     "output_type": "execute_result"
    }
   ],
   "source": [
    "power_columns"
   ]
  },
  {
   "cell_type": "markdown",
   "metadata": {},
   "source": [
    "- Making a separate row for each cluster"
   ]
  },
  {
   "cell_type": "code",
   "execution_count": 53,
   "metadata": {
    "tags": []
   },
   "outputs": [],
   "source": [
    "power_exploded_TRIALS_AND_SPECTRAL_DF = TRIALS_AND_SPECTRAL_DF[to_keep_columns + power_columns].explode([\"cluster_filtered_power_timestamps\"])"
   ]
  },
  {
   "cell_type": "code",
   "execution_count": 54,
   "metadata": {
    "tags": []
   },
   "outputs": [
    {
     "data": {
      "text/plain": [
       "0      (lose_5, [0, 1, 2, 3, 5, 6, 7, 8, 9, 10, 11, 1...\n",
       "0                                 (lose_1, [25, 26, 27])\n",
       "0                                 (lose_2, [35, 36, 37])\n",
       "1      (win_5, [0, 1, 2, 3, 5, 6, 7, 8, 9, 10, 11, 12...\n",
       "1                                  (win_1, [25, 26, 27])\n",
       "                             ...                        \n",
       "246    (tie_0, [15, 16, 17, 18, 19, 20, 21, 22, 23, 2...\n",
       "246                                (tie_7, [30, 31, 32])\n",
       "247             (tie_3, [5, 6, 7, 8, 9, 10, 37, 38, 39])\n",
       "247    (tie_0, [15, 16, 17, 18, 19, 20, 21, 22, 23, 2...\n",
       "247                                (tie_7, [30, 31, 32])\n",
       "Name: cluster_filtered_power_timestamps, Length: 836, dtype: object"
      ]
     },
     "execution_count": 54,
     "metadata": {},
     "output_type": "execute_result"
    }
   ],
   "source": [
    "power_exploded_TRIALS_AND_SPECTRAL_DF[\"cluster_filtered_power_timestamps\"]"
   ]
  },
  {
   "cell_type": "markdown",
   "metadata": {},
   "source": [
    "- Making independent columns for cluster name and indexes"
   ]
  },
  {
   "cell_type": "code",
   "execution_count": 55,
   "metadata": {
    "tags": []
   },
   "outputs": [],
   "source": [
    "power_exploded_TRIALS_AND_SPECTRAL_DF[\"power_cluster_id\"] = power_exploded_TRIALS_AND_SPECTRAL_DF[\"cluster_filtered_power_timestamps\"].apply(lambda x: x[0])\n",
    "power_exploded_TRIALS_AND_SPECTRAL_DF[\"power_cluster_indexes\"] = power_exploded_TRIALS_AND_SPECTRAL_DF[\"cluster_filtered_power_timestamps\"].apply(lambda x: x[1])"
   ]
  },
  {
   "cell_type": "code",
   "execution_count": 56,
   "metadata": {
    "tags": []
   },
   "outputs": [],
   "source": [
    "power_columns = [col for col in power_exploded_TRIALS_AND_SPECTRAL_DF if \"power\" in col and \"trial_and_post\" in col and \"timestamps\" not in col]"
   ]
  },
  {
   "cell_type": "code",
   "execution_count": 57,
   "metadata": {
    "tags": []
   },
   "outputs": [
    {
     "data": {
      "text/plain": [
       "['trial_and_post_BLA_power_all_frequencies_all_windows',\n",
       " 'trial_and_post_BLA_power_gamma',\n",
       " 'trial_and_post_BLA_power_theta',\n",
       " 'trial_and_post_LH_power_all_frequencies_all_windows',\n",
       " 'trial_and_post_LH_power_gamma',\n",
       " 'trial_and_post_LH_power_theta',\n",
       " 'trial_and_post_MD_power_all_frequencies_all_windows',\n",
       " 'trial_and_post_MD_power_gamma',\n",
       " 'trial_and_post_MD_power_theta',\n",
       " 'trial_and_post_mPFC_power_all_frequencies_all_windows',\n",
       " 'trial_and_post_mPFC_power_gamma',\n",
       " 'trial_and_post_mPFC_power_theta',\n",
       " 'trial_and_post_vHPC_power_all_frequencies_all_windows',\n",
       " 'trial_and_post_vHPC_power_gamma',\n",
       " 'trial_and_post_vHPC_power_theta']"
      ]
     },
     "execution_count": 57,
     "metadata": {},
     "output_type": "execute_result"
    }
   ],
   "source": [
    "power_columns"
   ]
  },
  {
   "cell_type": "markdown",
   "metadata": {},
   "source": [
    "- Getting the timestamps of all the clusters"
   ]
  },
  {
   "cell_type": "code",
   "execution_count": 58,
   "metadata": {
    "tags": []
   },
   "outputs": [],
   "source": [
    "for col in power_columns:\n",
    "    power_exploded_TRIALS_AND_SPECTRAL_DF[\"cluster_all_{}\".format(col)] = power_exploded_TRIALS_AND_SPECTRAL_DF.apply(lambda x: x[col][x[\"power_cluster_indexes\"]], axis=1)"
   ]
  },
  {
   "cell_type": "code",
   "execution_count": 59,
   "metadata": {
    "tags": []
   },
   "outputs": [],
   "source": [
    "cluster_all_columns = [col for col in power_exploded_TRIALS_AND_SPECTRAL_DF if \"cluster_all\" in col]"
   ]
  },
  {
   "cell_type": "code",
   "execution_count": 60,
   "metadata": {
    "tags": []
   },
   "outputs": [
    {
     "data": {
      "text/plain": [
       "['cluster_all_trial_and_post_BLA_power_all_frequencies_all_windows',\n",
       " 'cluster_all_trial_and_post_BLA_power_gamma',\n",
       " 'cluster_all_trial_and_post_BLA_power_theta',\n",
       " 'cluster_all_trial_and_post_LH_power_all_frequencies_all_windows',\n",
       " 'cluster_all_trial_and_post_LH_power_gamma',\n",
       " 'cluster_all_trial_and_post_LH_power_theta',\n",
       " 'cluster_all_trial_and_post_MD_power_all_frequencies_all_windows',\n",
       " 'cluster_all_trial_and_post_MD_power_gamma',\n",
       " 'cluster_all_trial_and_post_MD_power_theta',\n",
       " 'cluster_all_trial_and_post_mPFC_power_all_frequencies_all_windows',\n",
       " 'cluster_all_trial_and_post_mPFC_power_gamma',\n",
       " 'cluster_all_trial_and_post_mPFC_power_theta',\n",
       " 'cluster_all_trial_and_post_vHPC_power_all_frequencies_all_windows',\n",
       " 'cluster_all_trial_and_post_vHPC_power_gamma',\n",
       " 'cluster_all_trial_and_post_vHPC_power_theta']"
      ]
     },
     "execution_count": 60,
     "metadata": {},
     "output_type": "execute_result"
    }
   ],
   "source": [
    "cluster_all_columns"
   ]
  },
  {
   "cell_type": "markdown",
   "metadata": {},
   "source": [
    "- Aggregating all the values within a given trial"
   ]
  },
  {
   "cell_type": "code",
   "execution_count": 61,
   "metadata": {
    "tags": []
   },
   "outputs": [
    {
     "name": "stdout",
     "output_type": "stream",
     "text": [
      "cluster_mean_trial_and_post_BLA_power_all_frequencies_all_windows\n",
      "[0.00605898 0.00949873 0.01782924 0.0259081  0.02467416 0.02258703\n",
      " 0.01978621 0.02012155 0.04224694 0.04844583 0.04515726 0.03503035\n",
      " 0.01314412 0.00986471 0.00749058 0.0072245  0.00625549 0.0054254\n",
      " 0.00529777 0.00521559 0.00531413 0.00391569 0.00393387 0.00373306\n",
      " 0.00407019 0.00351577 0.00350859 0.00351539 0.00365863 0.0036235\n",
      " 0.00428843 0.00380927 0.00403925 0.003502   0.00403098 0.00384469\n",
      " 0.00416308 0.00462857 0.00442132 0.00378513 0.00348919 0.00334637\n",
      " 0.0030553  0.00302201 0.00286391 0.00256628 0.00195642 0.00136064\n",
      " 0.00128846 0.00151478 0.00156552 0.00150745 0.00124543 0.00125155\n",
      " 0.00113615 0.00123842]\n",
      "cluster_mean_trial_and_post_BLA_power_gamma\n",
      "0.003168647\n",
      "cluster_mean_trial_and_post_BLA_power_theta\n",
      "0.030132607\n",
      "cluster_mean_trial_and_post_LH_power_all_frequencies_all_windows\n",
      "[0.00691569 0.02020926 0.03251559 0.03554516 0.02741165 0.02527219\n",
      " 0.01905128 0.01913767 0.02861497 0.03399329 0.03533868 0.03111591\n",
      " 0.0156081  0.0084734  0.00717777 0.00707207 0.00537971 0.0043091\n",
      " 0.00335424 0.00255199 0.00277793 0.00322761 0.00429805 0.00453115\n",
      " 0.00335992 0.00274634 0.00195823 0.00188221 0.00162783 0.0012368\n",
      " 0.0014742  0.0015157  0.00143449 0.00159054 0.00149952 0.00143377\n",
      " 0.00133599 0.0011512  0.00166644 0.00257975 0.00293494 0.00282501\n",
      " 0.00186572 0.00152372 0.00130259 0.00093589 0.00068053 0.00055173\n",
      " 0.00078587 0.00095199 0.00096447 0.0009447  0.0010371  0.00102513\n",
      " 0.00106777 0.00091023]\n",
      "cluster_mean_trial_and_post_LH_power_gamma\n",
      "0.0014763825\n",
      "cluster_mean_trial_and_post_LH_power_theta\n",
      "0.026171526\n",
      "cluster_mean_trial_and_post_MD_power_all_frequencies_all_windows\n",
      "[0.00433209 0.00726276 0.0151036  0.02058581 0.01887325 0.01359789\n",
      " 0.01638619 0.02813595 0.07515234 0.09461165 0.09097801 0.06418333\n",
      " 0.02070817 0.01095013 0.00819829 0.00699988 0.00610288 0.00616356\n",
      " 0.00666452 0.00760245 0.00690321 0.00555993 0.00381284 0.00285582\n",
      " 0.00237969 0.00233864 0.00230793 0.0020998  0.00192677 0.00127376\n",
      " 0.00123287 0.00133978 0.00136262 0.00126234 0.00115984 0.00105194\n",
      " 0.00110748 0.00104676 0.00102748 0.0010337  0.0010691  0.0010254\n",
      " 0.00097423 0.00078098 0.00073443 0.0007713  0.00074453 0.00074993\n",
      " 0.00060564 0.0006067  0.00064705 0.00063301 0.00060094 0.00061976\n",
      " 0.00066105 0.00063807]\n",
      "cluster_mean_trial_and_post_MD_power_gamma\n",
      "0.0009682904\n",
      "cluster_mean_trial_and_post_MD_power_theta\n",
      "0.046958532\n",
      "cluster_mean_trial_and_post_mPFC_power_all_frequencies_all_windows\n",
      "[0.0048431  0.01031282 0.02166105 0.02804819 0.02868355 0.02402111\n",
      " 0.02316638 0.02363568 0.0381437  0.04274648 0.04175865 0.03288521\n",
      " 0.01654584 0.0102012  0.00795642 0.00574306 0.00544419 0.00456792\n",
      " 0.00383765 0.00312447 0.00338031 0.00418053 0.0044284  0.00429188\n",
      " 0.0036541  0.00336846 0.00308633 0.0028811  0.00245487 0.00209447\n",
      " 0.00229797 0.00226404 0.0024434  0.00198134 0.00182021 0.00135398\n",
      " 0.00123884 0.00130109 0.00139975 0.00163861 0.001609   0.00158632\n",
      " 0.00166277 0.00199571 0.00184351 0.00170756 0.00118796 0.00141973\n",
      " 0.00121097 0.00126205 0.00109686 0.00100167 0.001058   0.0011857\n",
      " 0.00129527 0.00122844]\n",
      "cluster_mean_trial_and_post_mPFC_power_gamma\n",
      "0.0016343652\n",
      "cluster_mean_trial_and_post_mPFC_power_theta\n",
      "0.030176291\n",
      "cluster_mean_trial_and_post_vHPC_power_all_frequencies_all_windows\n",
      "[0.00220064 0.00652756 0.01642021 0.02690289 0.03006484 0.0282212\n",
      " 0.02236877 0.01849817 0.02144296 0.02028054 0.01832968 0.01380006\n",
      " 0.00957033 0.00801309 0.00650376 0.00741123 0.00754284 0.00772328\n",
      " 0.00737228 0.00722155 0.00770587 0.00642379 0.00502241 0.00528886\n",
      " 0.00593215 0.00772727 0.00798888 0.00648806 0.00570851 0.00524801\n",
      " 0.00601517 0.00650614 0.00633772 0.00620192 0.00512323 0.0048748\n",
      " 0.00420159 0.00454961 0.00457745 0.00390851 0.00289613 0.00318366\n",
      " 0.00314119 0.00312556 0.00244906 0.00215649 0.00172394 0.00168108\n",
      " 0.00162374 0.00182764 0.0019128  0.00218885 0.00208791 0.00226197\n",
      " 0.00204313 0.00180525]\n",
      "cluster_mean_trial_and_post_vHPC_power_gamma\n",
      "0.0037151163\n",
      "cluster_mean_trial_and_post_vHPC_power_theta\n",
      "0.020286284\n"
     ]
    }
   ],
   "source": [
    "for col in cluster_all_columns:\n",
    "    updated_column = col.replace(\"cluster_all\", \"cluster_mean\")\n",
    "    if \"gamma\" in col or \"theta\" in col:\n",
    "        power_exploded_TRIALS_AND_SPECTRAL_DF[updated_column] = power_exploded_TRIALS_AND_SPECTRAL_DF.apply(lambda x: np.nanmean(x[col]), axis=1)\n",
    "    else:\n",
    "        power_exploded_TRIALS_AND_SPECTRAL_DF[updated_column] = power_exploded_TRIALS_AND_SPECTRAL_DF.apply(lambda x: np.nanmean(x[col], axis=0), axis=1)\n",
    "    print(updated_column)\n",
    "    print(power_exploded_TRIALS_AND_SPECTRAL_DF[updated_column].iloc[0])\n",
    "        "
   ]
  },
  {
   "cell_type": "code",
   "execution_count": 62,
   "metadata": {
    "tags": []
   },
   "outputs": [],
   "source": [
    "cluster_mean_columns = [col for col in power_exploded_TRIALS_AND_SPECTRAL_DF if \"cluster_mean\" in col]"
   ]
  },
  {
   "cell_type": "code",
   "execution_count": 63,
   "metadata": {
    "tags": []
   },
   "outputs": [
    {
     "data": {
      "text/plain": [
       "['cluster_mean_trial_and_post_BLA_power_all_frequencies_all_windows',\n",
       " 'cluster_mean_trial_and_post_BLA_power_gamma',\n",
       " 'cluster_mean_trial_and_post_BLA_power_theta',\n",
       " 'cluster_mean_trial_and_post_LH_power_all_frequencies_all_windows',\n",
       " 'cluster_mean_trial_and_post_LH_power_gamma',\n",
       " 'cluster_mean_trial_and_post_LH_power_theta',\n",
       " 'cluster_mean_trial_and_post_MD_power_all_frequencies_all_windows',\n",
       " 'cluster_mean_trial_and_post_MD_power_gamma',\n",
       " 'cluster_mean_trial_and_post_MD_power_theta',\n",
       " 'cluster_mean_trial_and_post_mPFC_power_all_frequencies_all_windows',\n",
       " 'cluster_mean_trial_and_post_mPFC_power_gamma',\n",
       " 'cluster_mean_trial_and_post_mPFC_power_theta',\n",
       " 'cluster_mean_trial_and_post_vHPC_power_all_frequencies_all_windows',\n",
       " 'cluster_mean_trial_and_post_vHPC_power_gamma',\n",
       " 'cluster_mean_trial_and_post_vHPC_power_theta']"
      ]
     },
     "execution_count": 63,
     "metadata": {},
     "output_type": "execute_result"
    }
   ],
   "source": [
    "cluster_mean_columns"
   ]
  },
  {
   "cell_type": "code",
   "execution_count": 65,
   "metadata": {},
   "outputs": [],
   "source": [
    "OUTCOME_TO_COLOR = {\"both_rewarded\": \"green\", \n",
    "\"novel_lose\": \"#e67073\",\n",
    "\"novel_win\": \"#93a5da\",\n",
    "\"lose\": \"#951a1d\",\n",
    "\"alone_rewarded\": \"#0499af\",\n",
    "\"win\": \"#3853a3\",\n",
    "\"omission\": \"orange\",\n",
    "\"tie\": \"green\"}"
   ]
  },
  {
   "cell_type": "code",
   "execution_count": 66,
   "metadata": {
    "tags": []
   },
   "outputs": [
    {
     "data": {
      "image/png": "[encoded data removed]",
      "text/plain": [
       "<Figure size 640x480 with 1 Axes>"
      ]
     },
     "metadata": {},
     "output_type": "display_data"
    },
    {
     "data": {
      "image/png": "[encoded data removed]",
      "text/plain": [
       "<Figure size 640x480 with 1 Axes>"
      ]
     },
     "metadata": {},
     "output_type": "display_data"
    },
    {
     "data": {
      "image/png": "[encoded data removed]",
      "text/plain": [
       "<Figure size 640x480 with 1 Axes>"
      ]
     },
     "metadata": {},
     "output_type": "display_data"
    },
    {
     "data": {
      "image/png": "[encoded data removed]",
      "text/plain": [
       "<Figure size 640x480 with 1 Axes>"
      ]
     },
     "metadata": {},
     "output_type": "display_data"
    },
    {
     "data": {
      "image/png": "[encoded data removed]",
      "text/plain": [
       "<Figure size 640x480 with 1 Axes>"
      ]
     },
     "metadata": {},
     "output_type": "display_data"
    },
    {
     "data": {
      "image/png": "[encoded data removed]",
      "text/plain": [
       "<Figure size 640x480 with 1 Axes>"
      ]
     },
     "metadata": {},
     "output_type": "display_data"
    },
    {
     "data": {
      "image/png": "[encoded data removed]",
      "text/plain": [
       "<Figure size 640x480 with 1 Axes>"
      ]
     },
     "metadata": {},
     "output_type": "display_data"
    },
    {
     "data": {
      "image/png": "[encoded data removed]",
      "text/plain": [
       "<Figure size 640x480 with 1 Axes>"
      ]
     },
     "metadata": {},
     "output_type": "display_data"
    },
    {
     "data": {
      "image/png": "[encoded data removed]",
      "text/plain": [
       "<Figure size 640x480 with 1 Axes>"
      ]
     },
     "metadata": {},
     "output_type": "display_data"
    },
    {
     "data": {
      "image/png": "[encoded data removed]",
      "text/plain": [
       "<Figure size 640x480 with 1 Axes>"
      ]
     },
     "metadata": {},
     "output_type": "display_data"
    }
   ],
   "source": [
    "for col in cluster_mean_columns:\n",
    "    if \"all_frequencies\" in col:\n",
    "        continue\n",
    "    grouped_power_exploded_TRIALS_AND_SPECTRAL_DF = pd.DataFrame(power_exploded_TRIALS_AND_SPECTRAL_DF.groupby('power_cluster_id')[col].mean())\n",
    "    grouped_power_exploded_TRIALS_AND_SPECTRAL_DF = grouped_power_exploded_TRIALS_AND_SPECTRAL_DF.reset_index()\n",
    "\n",
    "\n",
    "\n",
    "    grouped_power_exploded_TRIALS_AND_SPECTRAL_DF[\"sem\"] = grouped_power_exploded_TRIALS_AND_SPECTRAL_DF[\"power_cluster_id\"].map(power_exploded_TRIALS_AND_SPECTRAL_DF.groupby('power_cluster_id')[col].sem().to_dict())\n",
    "    grouped_power_exploded_TRIALS_AND_SPECTRAL_DF[\"color\"] = grouped_power_exploded_TRIALS_AND_SPECTRAL_DF[\"power_cluster_id\"].apply(lambda x: x.split(\"_\")[0]).map(OUTCOME_TO_COLOR)\n",
    "    grouped_power_exploded_TRIALS_AND_SPECTRAL_DF[\"id_number\"] = grouped_power_exploded_TRIALS_AND_SPECTRAL_DF[\"power_cluster_id\"].apply(lambda x: x.split(\"_\")[0]).map(OUTCOME_TO_COLOR)\n",
    "\n",
    "    \n",
    "    \n",
    "    fig, ax = plt.subplots()\n",
    "    plt.bar(grouped_power_exploded_TRIALS_AND_SPECTRAL_DF[\"power_cluster_id\"], grouped_power_exploded_TRIALS_AND_SPECTRAL_DF[col], color=grouped_power_exploded_TRIALS_AND_SPECTRAL_DF[\"color\"])\n",
    "    plt.title(col.replace(\"cluster_mean_trial_and_post_\", \"\").replace(\"RMS_filtered_\", \"\"))\n",
    "    plt.xticks(rotation=90, ha='right')\n",
    "    plt.show()"
   ]
  },
  {
   "cell_type": "code",
   "execution_count": 77,
   "metadata": {},
   "outputs": [
    {
     "data": {
      "text/plain": [
       "['cluster_mean_trial_and_post_BLA_power_all_frequencies_all_windows',\n",
       " 'cluster_mean_trial_and_post_BLA_power_gamma',\n",
       " 'cluster_mean_trial_and_post_BLA_power_theta',\n",
       " 'cluster_mean_trial_and_post_LH_power_all_frequencies_all_windows',\n",
       " 'cluster_mean_trial_and_post_LH_power_gamma',\n",
       " 'cluster_mean_trial_and_post_LH_power_theta',\n",
       " 'cluster_mean_trial_and_post_MD_power_all_frequencies_all_windows',\n",
       " 'cluster_mean_trial_and_post_MD_power_gamma',\n",
       " 'cluster_mean_trial_and_post_MD_power_theta',\n",
       " 'cluster_mean_trial_and_post_mPFC_power_all_frequencies_all_windows',\n",
       " 'cluster_mean_trial_and_post_mPFC_power_gamma',\n",
       " 'cluster_mean_trial_and_post_mPFC_power_theta',\n",
       " 'cluster_mean_trial_and_post_vHPC_power_all_frequencies_all_windows',\n",
       " 'cluster_mean_trial_and_post_vHPC_power_gamma',\n",
       " 'cluster_mean_trial_and_post_vHPC_power_theta']"
      ]
     },
     "execution_count": 77,
     "metadata": {},
     "output_type": "execute_result"
    }
   ],
   "source": [
    "cluster_mean_columns"
   ]
  },
  {
   "cell_type": "code",
   "execution_count": 76,
   "metadata": {},
   "outputs": [
    {
     "name": "stdout",
     "output_type": "stream",
     "text": [
      "cluster_mean_trial_and_post_BLA_power_all_frequencies_all_windows\n"
     ]
    },
    {
     "ename": "KeyError",
     "evalue": "\"Column(s) ['cluster_mean_trial_and_post_BLA_power_all_frequencies_all_windows'] do not exist\"",
     "output_type": "error",
     "traceback": [
      "\u001b[0;31m---------------------------------------------------------------------------\u001b[0m",
      "\u001b[0;31mKeyError\u001b[0m                                  Traceback (most recent call last)",
      "Cell \u001b[0;32mIn[76], line 11\u001b[0m\n\u001b[1;32m      8\u001b[0m     \u001b[38;5;28;01mcontinue\u001b[39;00m\n\u001b[1;32m      9\u001b[0m \u001b[38;5;28mprint\u001b[39m(col)\n\u001b[0;32m---> 11\u001b[0m stacked_df \u001b[38;5;241m=\u001b[39m \u001b[43mpower_exploded_TRIALS_AND_SPECTRAL_DF\u001b[49m\u001b[38;5;241;43m.\u001b[39;49m\u001b[43mgroupby\u001b[49m\u001b[43m(\u001b[49m\u001b[38;5;124;43m\"\u001b[39;49m\u001b[38;5;124;43mpower_cluster_id\u001b[39;49m\u001b[38;5;124;43m\"\u001b[39;49m\u001b[43m)\u001b[49m\u001b[38;5;241;43m.\u001b[39;49m\u001b[43magg\u001b[49m\u001b[43m(\u001b[49m\u001b[43m{\u001b[49m\u001b[43mcol\u001b[49m\u001b[43m:\u001b[49m\u001b[43m \u001b[49m\u001b[43mstack_arrays\u001b[49m\u001b[43m}\u001b[49m\u001b[43m)\u001b[49m\n\u001b[1;32m     12\u001b[0m stacked_df \u001b[38;5;241m=\u001b[39m stacked_df\u001b[38;5;241m.\u001b[39mreset_index()\n\u001b[1;32m     14\u001b[0m \u001b[38;5;66;03m# grouped_power_exploded_TRIALS_AND_SPECTRAL_DF[\"sem\"] = grouped_power_exploded_TRIALS_AND_SPECTRAL_DF[\"power_cluster_id\"].map(power_exploded_TRIALS_AND_SPECTRAL_DF.groupby('power_cluster_id')[col].sem().to_dict())\u001b[39;00m\n",
      "File \u001b[0;32m~/miniforge3/envs/mountainsort_0_5_6/lib/python3.9/site-packages/pandas/core/groupby/generic.py:1432\u001b[0m, in \u001b[0;36mDataFrameGroupBy.aggregate\u001b[0;34m(self, func, engine, engine_kwargs, *args, **kwargs)\u001b[0m\n\u001b[1;32m   1429\u001b[0m     kwargs[\u001b[38;5;124m\"\u001b[39m\u001b[38;5;124mengine_kwargs\u001b[39m\u001b[38;5;124m\"\u001b[39m] \u001b[38;5;241m=\u001b[39m engine_kwargs\n\u001b[1;32m   1431\u001b[0m op \u001b[38;5;241m=\u001b[39m GroupByApply(\u001b[38;5;28mself\u001b[39m, func, args\u001b[38;5;241m=\u001b[39margs, kwargs\u001b[38;5;241m=\u001b[39mkwargs)\n\u001b[0;32m-> 1432\u001b[0m result \u001b[38;5;241m=\u001b[39m \u001b[43mop\u001b[49m\u001b[38;5;241;43m.\u001b[39;49m\u001b[43magg\u001b[49m\u001b[43m(\u001b[49m\u001b[43m)\u001b[49m\n\u001b[1;32m   1433\u001b[0m \u001b[38;5;28;01mif\u001b[39;00m \u001b[38;5;129;01mnot\u001b[39;00m is_dict_like(func) \u001b[38;5;129;01mand\u001b[39;00m result \u001b[38;5;129;01mis\u001b[39;00m \u001b[38;5;129;01mnot\u001b[39;00m \u001b[38;5;28;01mNone\u001b[39;00m:\n\u001b[1;32m   1434\u001b[0m     \u001b[38;5;66;03m# GH #52849\u001b[39;00m\n\u001b[1;32m   1435\u001b[0m     \u001b[38;5;28;01mif\u001b[39;00m \u001b[38;5;129;01mnot\u001b[39;00m \u001b[38;5;28mself\u001b[39m\u001b[38;5;241m.\u001b[39mas_index \u001b[38;5;129;01mand\u001b[39;00m is_list_like(func):\n",
      "File \u001b[0;32m~/miniforge3/envs/mountainsort_0_5_6/lib/python3.9/site-packages/pandas/core/apply.py:190\u001b[0m, in \u001b[0;36mApply.agg\u001b[0;34m(self)\u001b[0m\n\u001b[1;32m    187\u001b[0m     \u001b[38;5;28;01mreturn\u001b[39;00m \u001b[38;5;28mself\u001b[39m\u001b[38;5;241m.\u001b[39mapply_str()\n\u001b[1;32m    189\u001b[0m \u001b[38;5;28;01mif\u001b[39;00m is_dict_like(func):\n\u001b[0;32m--> 190\u001b[0m     \u001b[38;5;28;01mreturn\u001b[39;00m \u001b[38;5;28;43mself\u001b[39;49m\u001b[38;5;241;43m.\u001b[39;49m\u001b[43magg_dict_like\u001b[49m\u001b[43m(\u001b[49m\u001b[43m)\u001b[49m\n\u001b[1;32m    191\u001b[0m \u001b[38;5;28;01melif\u001b[39;00m is_list_like(func):\n\u001b[1;32m    192\u001b[0m     \u001b[38;5;66;03m# we require a list, but not a 'str'\u001b[39;00m\n\u001b[1;32m    193\u001b[0m     \u001b[38;5;28;01mreturn\u001b[39;00m \u001b[38;5;28mself\u001b[39m\u001b[38;5;241m.\u001b[39magg_list_like()\n",
      "File \u001b[0;32m~/miniforge3/envs/mountainsort_0_5_6/lib/python3.9/site-packages/pandas/core/apply.py:423\u001b[0m, in \u001b[0;36mApply.agg_dict_like\u001b[0;34m(self)\u001b[0m\n\u001b[1;32m    415\u001b[0m \u001b[38;5;28;01mdef\u001b[39;00m \u001b[38;5;21magg_dict_like\u001b[39m(\u001b[38;5;28mself\u001b[39m) \u001b[38;5;241m-\u001b[39m\u001b[38;5;241m>\u001b[39m DataFrame \u001b[38;5;241m|\u001b[39m Series:\n\u001b[1;32m    416\u001b[0m \u001b[38;5;250m    \u001b[39m\u001b[38;5;124;03m\"\"\"\u001b[39;00m\n\u001b[1;32m    417\u001b[0m \u001b[38;5;124;03m    Compute aggregation in the case of a dict-like argument.\u001b[39;00m\n\u001b[1;32m    418\u001b[0m \n\u001b[0;32m   (...)\u001b[0m\n\u001b[1;32m    421\u001b[0m \u001b[38;5;124;03m    Result of aggregation.\u001b[39;00m\n\u001b[1;32m    422\u001b[0m \u001b[38;5;124;03m    \"\"\"\u001b[39;00m\n\u001b[0;32m--> 423\u001b[0m     \u001b[38;5;28;01mreturn\u001b[39;00m \u001b[38;5;28;43mself\u001b[39;49m\u001b[38;5;241;43m.\u001b[39;49m\u001b[43magg_or_apply_dict_like\u001b[49m\u001b[43m(\u001b[49m\u001b[43mop_name\u001b[49m\u001b[38;5;241;43m=\u001b[39;49m\u001b[38;5;124;43m\"\u001b[39;49m\u001b[38;5;124;43magg\u001b[39;49m\u001b[38;5;124;43m\"\u001b[39;49m\u001b[43m)\u001b[49m\n",
      "File \u001b[0;32m~/miniforge3/envs/mountainsort_0_5_6/lib/python3.9/site-packages/pandas/core/apply.py:1608\u001b[0m, in \u001b[0;36mGroupByApply.agg_or_apply_dict_like\u001b[0;34m(self, op_name)\u001b[0m\n\u001b[1;32m   1603\u001b[0m     kwargs\u001b[38;5;241m.\u001b[39mupdate({\u001b[38;5;124m\"\u001b[39m\u001b[38;5;124mengine\u001b[39m\u001b[38;5;124m\"\u001b[39m: engine, \u001b[38;5;124m\"\u001b[39m\u001b[38;5;124mengine_kwargs\u001b[39m\u001b[38;5;124m\"\u001b[39m: engine_kwargs})\n\u001b[1;32m   1605\u001b[0m \u001b[38;5;28;01mwith\u001b[39;00m com\u001b[38;5;241m.\u001b[39mtemp_setattr(\n\u001b[1;32m   1606\u001b[0m     obj, \u001b[38;5;124m\"\u001b[39m\u001b[38;5;124mas_index\u001b[39m\u001b[38;5;124m\"\u001b[39m, \u001b[38;5;28;01mTrue\u001b[39;00m, condition\u001b[38;5;241m=\u001b[39m\u001b[38;5;28mhasattr\u001b[39m(obj, \u001b[38;5;124m\"\u001b[39m\u001b[38;5;124mas_index\u001b[39m\u001b[38;5;124m\"\u001b[39m)\n\u001b[1;32m   1607\u001b[0m ):\n\u001b[0;32m-> 1608\u001b[0m     result_index, result_data \u001b[38;5;241m=\u001b[39m \u001b[38;5;28;43mself\u001b[39;49m\u001b[38;5;241;43m.\u001b[39;49m\u001b[43mcompute_dict_like\u001b[49m\u001b[43m(\u001b[49m\n\u001b[1;32m   1609\u001b[0m \u001b[43m        \u001b[49m\u001b[43mop_name\u001b[49m\u001b[43m,\u001b[49m\u001b[43m \u001b[49m\u001b[43mselected_obj\u001b[49m\u001b[43m,\u001b[49m\u001b[43m \u001b[49m\u001b[43mselection\u001b[49m\u001b[43m,\u001b[49m\u001b[43m \u001b[49m\u001b[43mkwargs\u001b[49m\n\u001b[1;32m   1610\u001b[0m \u001b[43m    \u001b[49m\u001b[43m)\u001b[49m\n\u001b[1;32m   1611\u001b[0m result \u001b[38;5;241m=\u001b[39m \u001b[38;5;28mself\u001b[39m\u001b[38;5;241m.\u001b[39mwrap_results_dict_like(selected_obj, result_index, result_data)\n\u001b[1;32m   1612\u001b[0m \u001b[38;5;28;01mreturn\u001b[39;00m result\n",
      "File \u001b[0;32m~/miniforge3/envs/mountainsort_0_5_6/lib/python3.9/site-packages/pandas/core/apply.py:462\u001b[0m, in \u001b[0;36mApply.compute_dict_like\u001b[0;34m(self, op_name, selected_obj, selection, kwargs)\u001b[0m\n\u001b[1;32m    460\u001b[0m is_groupby \u001b[38;5;241m=\u001b[39m \u001b[38;5;28misinstance\u001b[39m(obj, (DataFrameGroupBy, SeriesGroupBy))\n\u001b[1;32m    461\u001b[0m func \u001b[38;5;241m=\u001b[39m cast(AggFuncTypeDict, \u001b[38;5;28mself\u001b[39m\u001b[38;5;241m.\u001b[39mfunc)\n\u001b[0;32m--> 462\u001b[0m func \u001b[38;5;241m=\u001b[39m \u001b[38;5;28;43mself\u001b[39;49m\u001b[38;5;241;43m.\u001b[39;49m\u001b[43mnormalize_dictlike_arg\u001b[49m\u001b[43m(\u001b[49m\u001b[43mop_name\u001b[49m\u001b[43m,\u001b[49m\u001b[43m \u001b[49m\u001b[43mselected_obj\u001b[49m\u001b[43m,\u001b[49m\u001b[43m \u001b[49m\u001b[43mfunc\u001b[49m\u001b[43m)\u001b[49m\n\u001b[1;32m    464\u001b[0m is_non_unique_col \u001b[38;5;241m=\u001b[39m (\n\u001b[1;32m    465\u001b[0m     selected_obj\u001b[38;5;241m.\u001b[39mndim \u001b[38;5;241m==\u001b[39m \u001b[38;5;241m2\u001b[39m\n\u001b[1;32m    466\u001b[0m     \u001b[38;5;129;01mand\u001b[39;00m selected_obj\u001b[38;5;241m.\u001b[39mcolumns\u001b[38;5;241m.\u001b[39mnunique() \u001b[38;5;241m<\u001b[39m \u001b[38;5;28mlen\u001b[39m(selected_obj\u001b[38;5;241m.\u001b[39mcolumns)\n\u001b[1;32m    467\u001b[0m )\n\u001b[1;32m    469\u001b[0m \u001b[38;5;28;01mif\u001b[39;00m selected_obj\u001b[38;5;241m.\u001b[39mndim \u001b[38;5;241m==\u001b[39m \u001b[38;5;241m1\u001b[39m:\n\u001b[1;32m    470\u001b[0m     \u001b[38;5;66;03m# key only used for output\u001b[39;00m\n",
      "File \u001b[0;32m~/miniforge3/envs/mountainsort_0_5_6/lib/python3.9/site-packages/pandas/core/apply.py:663\u001b[0m, in \u001b[0;36mApply.normalize_dictlike_arg\u001b[0;34m(self, how, obj, func)\u001b[0m\n\u001b[1;32m    661\u001b[0m     cols \u001b[38;5;241m=\u001b[39m Index(\u001b[38;5;28mlist\u001b[39m(func\u001b[38;5;241m.\u001b[39mkeys()))\u001b[38;5;241m.\u001b[39mdifference(obj\u001b[38;5;241m.\u001b[39mcolumns, sort\u001b[38;5;241m=\u001b[39m\u001b[38;5;28;01mTrue\u001b[39;00m)\n\u001b[1;32m    662\u001b[0m     \u001b[38;5;28;01mif\u001b[39;00m \u001b[38;5;28mlen\u001b[39m(cols) \u001b[38;5;241m>\u001b[39m \u001b[38;5;241m0\u001b[39m:\n\u001b[0;32m--> 663\u001b[0m         \u001b[38;5;28;01mraise\u001b[39;00m \u001b[38;5;167;01mKeyError\u001b[39;00m(\u001b[38;5;124mf\u001b[39m\u001b[38;5;124m\"\u001b[39m\u001b[38;5;124mColumn(s) \u001b[39m\u001b[38;5;132;01m{\u001b[39;00m\u001b[38;5;28mlist\u001b[39m(cols)\u001b[38;5;132;01m}\u001b[39;00m\u001b[38;5;124m do not exist\u001b[39m\u001b[38;5;124m\"\u001b[39m)\n\u001b[1;32m    665\u001b[0m aggregator_types \u001b[38;5;241m=\u001b[39m (\u001b[38;5;28mlist\u001b[39m, \u001b[38;5;28mtuple\u001b[39m, \u001b[38;5;28mdict\u001b[39m)\n\u001b[1;32m    667\u001b[0m \u001b[38;5;66;03m# if we have a dict of any non-scalars\u001b[39;00m\n\u001b[1;32m    668\u001b[0m \u001b[38;5;66;03m# eg. {'A' : ['mean']}, normalize all to\u001b[39;00m\n\u001b[1;32m    669\u001b[0m \u001b[38;5;66;03m# be list-likes\u001b[39;00m\n\u001b[1;32m    670\u001b[0m \u001b[38;5;66;03m# Cannot use func.values() because arg may be a Series\u001b[39;00m\n",
      "\u001b[0;31mKeyError\u001b[0m: \"Column(s) ['cluster_mean_trial_and_post_BLA_power_all_frequencies_all_windows'] do not exist\""
     ]
    }
   ],
   "source": [
    "low_freq = 0\n",
    "high_freq = 51\n",
    "current_frequencies = range(low_freq, high_freq)\n",
    "\n",
    "# Iterating through each brain region\n",
    "for col in cluster_mean_columns:\n",
    "    if \"all_frequencies\" not in col:\n",
    "        continue\n",
    "    print(col)\n",
    "\n",
    "    stacked_df = power_exploded_TRIALS_AND_SPECTRAL_DF.groupby(\"power_cluster_id\").agg({col: stack_arrays})\n",
    "    stacked_df = stacked_df.reset_index()\n",
    "    \n",
    "    # grouped_power_exploded_TRIALS_AND_SPECTRAL_DF[\"sem\"] = grouped_power_exploded_TRIALS_AND_SPECTRAL_DF[\"power_cluster_id\"].map(power_exploded_TRIALS_AND_SPECTRAL_DF.groupby('power_cluster_id')[col].sem().to_dict())\n",
    "    stacked_df[\"id_number\"] = stacked_df[\"power_cluster_id\"].apply(lambda x: x.split(\"_\")[1])\n",
    "    stacked_df[\"trial_label\"] = stacked_df[\"power_cluster_id\"].apply(lambda x: x.split(\"_\")[0])\n",
    "    stacked_df[\"color\"] = stacked_df[\"trial_label\"].map(OUTCOME_TO_COLOR)\n",
    "\n",
    "    stacked_df[\"max_value\"] = stacked_df[col].apply(lambda x: np.nanmax(x[low_freq: high_freq]))\n",
    "    max_value = np.nanmax(stacked_df[\"max_value\"])\n",
    "    \n",
    "    # Iterating through each trial type\n",
    "    for trial_label in stacked_df[\"trial_label\"].unique():\n",
    "        current_df = stacked_df[stacked_df[\"trial_label\"] == trial_label]\n",
    "        fig, ax = plt.subplots()\n",
    "\n",
    "        plt.xlim(low_freq, high_freq-1) \n",
    "        plt.xticks(np.arange(low_freq, high_freq-1, 5))\n",
    "\n",
    "        for band, (min_freq, max_freq) in BAND_TO_FREQ_PLOT.items():\n",
    "            ax.axvspan(min_freq, max_freq, facecolor=BAND_TO_FREQ_COLOR[band], alpha=0.1, label=band)\n",
    "    \n",
    "        if \"power\" in col:\n",
    "            # plt.ylim(0,0.01)\n",
    "            # plt.yscale(\"log\")\n",
    "            # plt.ylim((10**-3.5,10**-0.5))\n",
    "            ax.set_ylim(auto=True)\n",
    "            # plt.ylim(0, max_value)\n",
    "            pass\n",
    "        else:\n",
    "            # pass\n",
    "            plt.ylim(0, 1)\n",
    "\n",
    "        current_df[\"id_number\"] = current_df[\"id_number\"].astype(int)\n",
    "        # Sample data: a list of numbers\n",
    "        \n",
    "\n",
    "        \n",
    "        for index, row in current_df.iterrows():   \n",
    "            #### DURING TRIAL ####\n",
    "            mean_power = np.nanmean(row[col], axis=0)[low_freq: high_freq]\n",
    "            \n",
    "            # nans, x= nan_helper(mean_power)\n",
    "            # mean_power[nans]= np.interp(x(nans), x(~nans), mean_power[~nans])\n",
    "            # sem_power = stats.sem(row[col], axis=0, ddof=0)\n",
    "            \n",
    "            sem_power = np.nanstd(row[col], axis=0) / ((row[col].shape[0])**0.5)\n",
    "            sem_power = sem_power[low_freq: high_freq]\n",
    "            # nans, x= nan_helper(sem_power)\n",
    "            # sem_power[nans]= np.interp(x(nans), x(~nans), sem_power[~nans])   \n",
    "            \n",
    "\n",
    "            ax = sns.lineplot(x=current_frequencies, y=mean_power, \\\n",
    "            label=row[\"id_number\"], linewidth=3)\n",
    "\n",
    "            plt.fill_between(current_frequencies, \n",
    "            mean_power - sem_power, mean_power + sem_power, \\\n",
    "            alpha=0.3)\n",
    "        title = \"{}_{}\".format(col.replace(\"cluster_mean_trial_and_post_\", \"\").replace(\"RMS_filtered_\", \"\").replace(\"all_frequencies_all_windows\", \"\").replace(\" \", \"_\").replace(\"__\", \"_\"), trial_label).replace(\"__\", \"_\")\n",
    "        plt.title(title)\n",
    "        plt.legend(fontsize=10)\n",
    "        plt.tight_layout()\n",
    "        plt.savefig(\"./proc/cluster_spectra_plots/cluster_{}.png\".format(title))\n",
    "        plt.show()\n",
    "    \n",
    "    \n",
    "\n",
    "\n",
    "\n",
    "\n",
    "\n"
   ]
  },
  {
   "cell_type": "code",
   "execution_count": null,
   "metadata": {},
   "outputs": [],
   "source": []
  },
  {
   "cell_type": "markdown",
   "metadata": {},
   "source": [
    "# Filtering for coherence"
   ]
  },
  {
   "cell_type": "code",
   "execution_count": null,
   "metadata": {},
   "outputs": [],
   "source": [
    "TRIALS_AND_SPECTRAL_DF = TRIALS_AND_SPECTRAL_DF[TRIALS_AND_SPECTRAL_DF[\"cluster_filtered_coherence_timestamps\"].apply(lambda x: len(x)) >= 1] "
   ]
  },
  {
   "cell_type": "code",
   "execution_count": 68,
   "metadata": {},
   "outputs": [
    {
     "data": {
      "text/plain": [
       "['tone_start_frame',\n",
       " 'reward_start',\n",
       " 'reward_dispensed',\n",
       " 'tone_stop_frame',\n",
       " 'condition ',\n",
       " 'competition_closeness',\n",
       " 'get_reward_frame',\n",
       " 'out_reward_frame',\n",
       " 'notes',\n",
       " 'box_1_port_entry_frames',\n",
       " 'box_2_port_entry_frames',\n",
       " 'video_name',\n",
       " 'tone_start_timestamp',\n",
       " 'tone_stop_timestamp',\n",
       " 'box_1_port_entry_timestamps',\n",
       " 'box_2_port_entry_timestamps',\n",
       " 'current_subject',\n",
       " 'subject_tail_base',\n",
       " 'agent_tail_base',\n",
       " 'session_dir',\n",
       " 'experiment',\n",
       " 'sleap_name',\n",
       " 'video_id',\n",
       " 'agent',\n",
       " 'BLA_lfp_RMS_filtered',\n",
       " 'LH_lfp_RMS_filtered',\n",
       " 'MD_lfp_RMS_filtered',\n",
       " 'all_subjects',\n",
       " 'coherence_calculation_frequencies',\n",
       " 'cohort',\n",
       " 'first_timestamp',\n",
       " 'granger_calculation_frequencies',\n",
       " 'last_timestamp',\n",
       " 'mPFC_lfp_RMS_filtered',\n",
       " 'power_calculation_frequencies',\n",
       " 'recording',\n",
       " 'session_path',\n",
       " 'subject',\n",
       " 'tone_frames',\n",
       " 'tone_timestamps',\n",
       " 'vHPC_lfp_RMS_filtered',\n",
       " 'video_timestamps',\n",
       " 'baseline_start_timestamp',\n",
       " 'post_trial_end_timestamp',\n",
       " 'video_frame',\n",
       " 'trial_and_post_agent_locations',\n",
       " 'trial_and_post_agent_nose',\n",
       " 'trial_and_post_agent_nose_to_reward_port',\n",
       " 'trial_and_post_agent_thorax',\n",
       " 'trial_and_post_agent_thorax_velocity',\n",
       " 'trial_and_post_agent_to_reward_port_angle',\n",
       " 'trial_and_post_closebool_agent_nose_to_reward_port',\n",
       " 'trial_and_post_closebool_subject_nose_to_reward_port',\n",
       " 'trial_and_post_frame_index',\n",
       " 'trial_and_post_kmeans_cluster',\n",
       " 'trial_and_post_manual_cluster_id',\n",
       " 'trial_and_post_movingbool_agent_thorax_velocity',\n",
       " 'trial_and_post_movingbool_subject_thorax_velocity',\n",
       " 'trial_and_post_nose_to_reward_port_diff',\n",
       " 'trial_and_post_nose_to_reward_port_sum',\n",
       " 'trial_and_post_standard_embedding_x',\n",
       " 'trial_and_post_standard_embedding_y',\n",
       " 'trial_and_post_subject_locations',\n",
       " 'trial_and_post_subject_nose',\n",
       " 'trial_and_post_subject_nose_to_reward_port',\n",
       " 'trial_and_post_subject_thorax',\n",
       " 'trial_and_post_subject_thorax_to_agent_thorax',\n",
       " 'trial_and_post_subject_thorax_velocity',\n",
       " 'trial_and_post_subject_to_reward_port_angle',\n",
       " 'trial_and_post_thorax_velocity_diff',\n",
       " 'trial_and_post_thorax_velocity_sum',\n",
       " 'trial_and_post_to_reward_port_angle_diff',\n",
       " 'trial_and_post_to_reward_port_angle_sum',\n",
       " 'trial_and_post_video_timestamps',\n",
       " 'trial_and_post_BLA_LH_coherence_all_frequencies_all_windows',\n",
       " 'trial_and_post_BLA_LH_coherence_gamma',\n",
       " 'trial_and_post_BLA_LH_coherence_theta',\n",
       " 'trial_and_post_BLA_MD_coherence_all_frequencies_all_windows',\n",
       " 'trial_and_post_BLA_MD_coherence_gamma',\n",
       " 'trial_and_post_BLA_MD_coherence_theta',\n",
       " 'trial_and_post_BLA_mPFC_coherence_all_frequencies_all_windows',\n",
       " 'trial_and_post_BLA_mPFC_coherence_gamma',\n",
       " 'trial_and_post_BLA_mPFC_coherence_theta',\n",
       " 'trial_and_post_BLA_vHPC_coherence_all_frequencies_all_windows',\n",
       " 'trial_and_post_BLA_vHPC_coherence_gamma',\n",
       " 'trial_and_post_BLA_vHPC_coherence_theta',\n",
       " 'trial_and_post_LH_MD_coherence_all_frequencies_all_windows',\n",
       " 'trial_and_post_LH_MD_coherence_gamma',\n",
       " 'trial_and_post_LH_MD_coherence_theta',\n",
       " 'trial_and_post_LH_mPFC_coherence_all_frequencies_all_windows',\n",
       " 'trial_and_post_LH_mPFC_coherence_gamma',\n",
       " 'trial_and_post_LH_mPFC_coherence_theta',\n",
       " 'trial_and_post_LH_vHPC_coherence_all_frequencies_all_windows',\n",
       " 'trial_and_post_LH_vHPC_coherence_gamma',\n",
       " 'trial_and_post_LH_vHPC_coherence_theta',\n",
       " 'trial_and_post_MD_mPFC_coherence_all_frequencies_all_windows',\n",
       " 'trial_and_post_MD_mPFC_coherence_gamma',\n",
       " 'trial_and_post_MD_mPFC_coherence_theta',\n",
       " 'trial_and_post_MD_vHPC_coherence_all_frequencies_all_windows',\n",
       " 'trial_and_post_MD_vHPC_coherence_gamma',\n",
       " 'trial_and_post_MD_vHPC_coherence_theta',\n",
       " 'trial_and_post_mPFC_vHPC_coherence_all_frequencies_all_windows',\n",
       " 'trial_and_post_mPFC_vHPC_coherence_gamma',\n",
       " 'trial_and_post_mPFC_vHPC_coherence_theta',\n",
       " 'trial_and_post_coherence_timestamps',\n",
       " 'trial_and_post_BLA-to-LH_granger_gamma',\n",
       " 'trial_and_post_BLA-to-LH_granger_theta',\n",
       " 'trial_and_post_BLA-to-MD_granger_gamma',\n",
       " 'trial_and_post_BLA-to-MD_granger_theta',\n",
       " 'trial_and_post_BLA-to-mPFC_granger_gamma',\n",
       " 'trial_and_post_BLA-to-mPFC_granger_theta',\n",
       " 'trial_and_post_BLA-to-vHPC_granger_gamma',\n",
       " 'trial_and_post_BLA-to-vHPC_granger_theta',\n",
       " 'trial_and_post_BLA_LH_granger_all_frequencies_all_windows',\n",
       " 'trial_and_post_BLA_MD_granger_all_frequencies_all_windows',\n",
       " 'trial_and_post_BLA_mPFC_granger_all_frequencies_all_windows',\n",
       " 'trial_and_post_BLA_vHPC_granger_all_frequencies_all_windows',\n",
       " 'trial_and_post_LH-to-BLA_granger_gamma',\n",
       " 'trial_and_post_LH-to-BLA_granger_theta',\n",
       " 'trial_and_post_LH-to-MD_granger_gamma',\n",
       " 'trial_and_post_LH-to-MD_granger_theta',\n",
       " 'trial_and_post_LH-to-mPFC_granger_gamma',\n",
       " 'trial_and_post_LH-to-mPFC_granger_theta',\n",
       " 'trial_and_post_LH-to-vHPC_granger_gamma',\n",
       " 'trial_and_post_LH-to-vHPC_granger_theta',\n",
       " 'trial_and_post_LH_BLA_granger_all_frequencies_all_windows',\n",
       " 'trial_and_post_LH_MD_granger_all_frequencies_all_windows',\n",
       " 'trial_and_post_LH_mPFC_granger_all_frequencies_all_windows',\n",
       " 'trial_and_post_LH_vHPC_granger_all_frequencies_all_windows',\n",
       " 'trial_and_post_MD-to-BLA_granger_gamma',\n",
       " 'trial_and_post_MD-to-BLA_granger_theta',\n",
       " 'trial_and_post_MD-to-LH_granger_gamma',\n",
       " 'trial_and_post_MD-to-LH_granger_theta',\n",
       " 'trial_and_post_MD-to-mPFC_granger_gamma',\n",
       " 'trial_and_post_MD-to-mPFC_granger_theta',\n",
       " 'trial_and_post_MD-to-vHPC_granger_gamma',\n",
       " 'trial_and_post_MD-to-vHPC_granger_theta',\n",
       " 'trial_and_post_MD_BLA_granger_all_frequencies_all_windows',\n",
       " 'trial_and_post_MD_LH_granger_all_frequencies_all_windows',\n",
       " 'trial_and_post_MD_mPFC_granger_all_frequencies_all_windows',\n",
       " 'trial_and_post_MD_vHPC_granger_all_frequencies_all_windows',\n",
       " 'trial_and_post_mPFC-to-BLA_granger_gamma',\n",
       " 'trial_and_post_mPFC-to-BLA_granger_theta',\n",
       " 'trial_and_post_mPFC-to-LH_granger_gamma',\n",
       " 'trial_and_post_mPFC-to-LH_granger_theta',\n",
       " 'trial_and_post_mPFC-to-MD_granger_gamma',\n",
       " 'trial_and_post_mPFC-to-MD_granger_theta',\n",
       " 'trial_and_post_mPFC-to-vHPC_granger_gamma',\n",
       " 'trial_and_post_mPFC-to-vHPC_granger_theta',\n",
       " 'trial_and_post_mPFC_BLA_granger_all_frequencies_all_windows',\n",
       " 'trial_and_post_mPFC_LH_granger_all_frequencies_all_windows',\n",
       " 'trial_and_post_mPFC_MD_granger_all_frequencies_all_windows',\n",
       " 'trial_and_post_mPFC_vHPC_granger_all_frequencies_all_windows',\n",
       " 'trial_and_post_vHPC-to-BLA_granger_gamma',\n",
       " 'trial_and_post_vHPC-to-BLA_granger_theta',\n",
       " 'trial_and_post_vHPC-to-LH_granger_gamma',\n",
       " 'trial_and_post_vHPC-to-LH_granger_theta',\n",
       " 'trial_and_post_vHPC-to-MD_granger_gamma',\n",
       " 'trial_and_post_vHPC-to-MD_granger_theta',\n",
       " 'trial_and_post_vHPC-to-mPFC_granger_gamma',\n",
       " 'trial_and_post_vHPC-to-mPFC_granger_theta',\n",
       " 'trial_and_post_vHPC_BLA_granger_all_frequencies_all_windows',\n",
       " 'trial_and_post_vHPC_LH_granger_all_frequencies_all_windows',\n",
       " 'trial_and_post_vHPC_MD_granger_all_frequencies_all_windows',\n",
       " 'trial_and_post_vHPC_mPFC_granger_all_frequencies_all_windows',\n",
       " 'trial_and_post_granger_timestamps',\n",
       " 'trial_and_post_BLA_power_all_frequencies_all_windows',\n",
       " 'trial_and_post_BLA_power_gamma',\n",
       " 'trial_and_post_BLA_power_theta',\n",
       " 'trial_and_post_LH_power_all_frequencies_all_windows',\n",
       " 'trial_and_post_LH_power_gamma',\n",
       " 'trial_and_post_LH_power_theta',\n",
       " 'trial_and_post_MD_power_all_frequencies_all_windows',\n",
       " 'trial_and_post_MD_power_gamma',\n",
       " 'trial_and_post_MD_power_theta',\n",
       " 'trial_and_post_mPFC_power_all_frequencies_all_windows',\n",
       " 'trial_and_post_mPFC_power_gamma',\n",
       " 'trial_and_post_mPFC_power_theta',\n",
       " 'trial_and_post_vHPC_power_all_frequencies_all_windows',\n",
       " 'trial_and_post_vHPC_power_gamma',\n",
       " 'trial_and_post_vHPC_power_theta',\n",
       " 'trial_and_post_power_timestamps',\n",
       " 'trial_and_post_BLA_gamma_band',\n",
       " 'trial_and_post_BLA_gamma_phase',\n",
       " 'trial_and_post_BLA_lfp_trace',\n",
       " 'trial_and_post_BLA_theta_band',\n",
       " 'trial_and_post_BLA_theta_phase',\n",
       " 'trial_and_post_LH_gamma_band',\n",
       " 'trial_and_post_LH_gamma_phase',\n",
       " 'trial_and_post_LH_lfp_trace',\n",
       " 'trial_and_post_LH_theta_band',\n",
       " 'trial_and_post_LH_theta_phase',\n",
       " 'trial_and_post_MD_gamma_band',\n",
       " 'trial_and_post_MD_gamma_phase',\n",
       " 'trial_and_post_MD_lfp_trace',\n",
       " 'trial_and_post_MD_theta_band',\n",
       " 'trial_and_post_MD_theta_phase',\n",
       " 'trial_and_post_mPFC_gamma_band',\n",
       " 'trial_and_post_mPFC_gamma_phase',\n",
       " 'trial_and_post_mPFC_lfp_trace',\n",
       " 'trial_and_post_mPFC_theta_band',\n",
       " 'trial_and_post_mPFC_theta_phase',\n",
       " 'trial_and_post_vHPC_gamma_band',\n",
       " 'trial_and_post_vHPC_gamma_phase',\n",
       " 'trial_and_post_vHPC_lfp_trace',\n",
       " 'trial_and_post_vHPC_theta_band',\n",
       " 'trial_and_post_vHPC_theta_phase',\n",
       " 'trial_and_post_lfp_timestamps',\n",
       " 'trial_label',\n",
       " 'cluster_index_ranges_dict',\n",
       " 'cluster_timestamp',\n",
       " 'cluster_times',\n",
       " 'cluster_times_ranges_dict',\n",
       " 'cluster_timestamps_ranges_dict',\n",
       " 'trial_cluster_times_ranges_dict',\n",
       " 'trial_cluster_timestamps_ranges_dict',\n",
       " 'cluster_filtered_coherence_timestamps',\n",
       " 'cluster_filtered_granger_timestamps',\n",
       " 'cluster_filtered_power_timestamps',\n",
       " 'cluster_filtered_lfp_timestamps']"
      ]
     },
     "execution_count": 68,
     "metadata": {},
     "output_type": "execute_result"
    }
   ],
   "source": [
    "list(TRIALS_AND_SPECTRAL_DF.columns)"
   ]
  },
  {
   "cell_type": "code",
   "execution_count": 69,
   "metadata": {},
   "outputs": [],
   "source": [
    "to_keep_columns = ['trial_label',\n",
    "'tone_start_frame',\n",
    "'reward_start',\n",
    "'reward_dispensed',\n",
    "'tone_stop_frame',\n",
    "'condition ',\n",
    "'competition_closeness',\n",
    "'get_reward_frame',\n",
    "'out_reward_frame',\n",
    "'notes',\n",
    "'box_1_port_entry_frames',\n",
    "'box_2_port_entry_frames',\n",
    "'video_name',\n",
    "'tone_start_timestamp',\n",
    "'tone_stop_timestamp',\n",
    "'box_1_port_entry_timestamps',\n",
    "'box_2_port_entry_timestamps',\n",
    "'current_subject',\n",
    "'session_dir',\n",
    "'experiment',\n",
    "'sleap_name',\n",
    "'video_id',\n",
    "'agent',\n",
    "'all_subjects',\n",
    "'cohort',\n",
    "'first_timestamp',\n",
    "'last_timestamp',\n",
    "'recording',\n",
    "'session_path',\n",
    "'subject',\n",
    "'baseline_start_timestamp',\n",
    "'post_trial_end_timestamp',]"
   ]
  },
  {
   "cell_type": "code",
   "execution_count": 70,
   "metadata": {},
   "outputs": [],
   "source": [
    "power_columns = [col for col in TRIALS_AND_SPECTRAL_DF if \"coherence\" in col and (\"trial_and_post\" in col or \"cluster\" in col)]"
   ]
  },
  {
   "cell_type": "code",
   "execution_count": 71,
   "metadata": {},
   "outputs": [
    {
     "data": {
      "text/plain": [
       "['trial_and_post_BLA_LH_coherence_all_frequencies_all_windows',\n",
       " 'trial_and_post_BLA_LH_coherence_gamma',\n",
       " 'trial_and_post_BLA_LH_coherence_theta',\n",
       " 'trial_and_post_BLA_MD_coherence_all_frequencies_all_windows',\n",
       " 'trial_and_post_BLA_MD_coherence_gamma',\n",
       " 'trial_and_post_BLA_MD_coherence_theta',\n",
       " 'trial_and_post_BLA_mPFC_coherence_all_frequencies_all_windows',\n",
       " 'trial_and_post_BLA_mPFC_coherence_gamma',\n",
       " 'trial_and_post_BLA_mPFC_coherence_theta',\n",
       " 'trial_and_post_BLA_vHPC_coherence_all_frequencies_all_windows',\n",
       " 'trial_and_post_BLA_vHPC_coherence_gamma',\n",
       " 'trial_and_post_BLA_vHPC_coherence_theta',\n",
       " 'trial_and_post_LH_MD_coherence_all_frequencies_all_windows',\n",
       " 'trial_and_post_LH_MD_coherence_gamma',\n",
       " 'trial_and_post_LH_MD_coherence_theta',\n",
       " 'trial_and_post_LH_mPFC_coherence_all_frequencies_all_windows',\n",
       " 'trial_and_post_LH_mPFC_coherence_gamma',\n",
       " 'trial_and_post_LH_mPFC_coherence_theta',\n",
       " 'trial_and_post_LH_vHPC_coherence_all_frequencies_all_windows',\n",
       " 'trial_and_post_LH_vHPC_coherence_gamma',\n",
       " 'trial_and_post_LH_vHPC_coherence_theta',\n",
       " 'trial_and_post_MD_mPFC_coherence_all_frequencies_all_windows',\n",
       " 'trial_and_post_MD_mPFC_coherence_gamma',\n",
       " 'trial_and_post_MD_mPFC_coherence_theta',\n",
       " 'trial_and_post_MD_vHPC_coherence_all_frequencies_all_windows',\n",
       " 'trial_and_post_MD_vHPC_coherence_gamma',\n",
       " 'trial_and_post_MD_vHPC_coherence_theta',\n",
       " 'trial_and_post_mPFC_vHPC_coherence_all_frequencies_all_windows',\n",
       " 'trial_and_post_mPFC_vHPC_coherence_gamma',\n",
       " 'trial_and_post_mPFC_vHPC_coherence_theta',\n",
       " 'trial_and_post_coherence_timestamps',\n",
       " 'cluster_filtered_coherence_timestamps']"
      ]
     },
     "execution_count": 71,
     "metadata": {},
     "output_type": "execute_result"
    }
   ],
   "source": [
    "power_columns"
   ]
  },
  {
   "cell_type": "markdown",
   "metadata": {},
   "source": [
    "- Making a separate row for each cluster"
   ]
  },
  {
   "cell_type": "code",
   "execution_count": 72,
   "metadata": {},
   "outputs": [],
   "source": [
    "power_exploded_TRIALS_AND_SPECTRAL_DF = TRIALS_AND_SPECTRAL_DF[to_keep_columns + power_columns].explode([\"cluster_filtered_coherence_timestamps\"])"
   ]
  },
  {
   "cell_type": "code",
   "execution_count": 73,
   "metadata": {},
   "outputs": [
    {
     "data": {
      "text/plain": [
       "0      (lose_5, [0, 1, 2, 3, 5, 6, 7, 8, 9, 10, 11, 1...\n",
       "0                                 (lose_1, [25, 26, 27])\n",
       "0                                 (lose_2, [35, 36, 37])\n",
       "1      (win_5, [0, 1, 2, 3, 5, 6, 7, 8, 9, 10, 11, 12...\n",
       "1                                  (win_1, [25, 26, 27])\n",
       "                             ...                        \n",
       "246    (tie_0, [15, 16, 17, 18, 19, 20, 21, 22, 23, 2...\n",
       "246                                (tie_7, [30, 31, 32])\n",
       "247             (tie_3, [5, 6, 7, 8, 9, 10, 37, 38, 39])\n",
       "247    (tie_0, [15, 16, 17, 18, 19, 20, 21, 22, 23, 2...\n",
       "247                                (tie_7, [30, 31, 32])\n",
       "Name: cluster_filtered_coherence_timestamps, Length: 836, dtype: object"
      ]
     },
     "execution_count": 73,
     "metadata": {},
     "output_type": "execute_result"
    }
   ],
   "source": [
    "power_exploded_TRIALS_AND_SPECTRAL_DF[\"cluster_filtered_coherence_timestamps\"]"
   ]
  },
  {
   "cell_type": "markdown",
   "metadata": {},
   "source": [
    "- Making independent columns for cluster name and indexes"
   ]
  },
  {
   "cell_type": "code",
   "execution_count": 74,
   "metadata": {},
   "outputs": [],
   "source": [
    "power_exploded_TRIALS_AND_SPECTRAL_DF[\"power_cluster_id\"] = power_exploded_TRIALS_AND_SPECTRAL_DF[\"cluster_filtered_coherence_timestamps\"].apply(lambda x: x[0])\n",
    "power_exploded_TRIALS_AND_SPECTRAL_DF[\"power_cluster_indexes\"] = power_exploded_TRIALS_AND_SPECTRAL_DF[\"cluster_filtered_coherence_timestamps\"].apply(lambda x: x[1])"
   ]
  },
  {
   "cell_type": "code",
   "execution_count": null,
   "metadata": {},
   "outputs": [],
   "source": [
    "power_columns = [col for col in power_exploded_TRIALS_AND_SPECTRAL_DF if \"coherence\" in col and \"trial_and_post\" in col and \"timestamps\" not in col]"
   ]
  },
  {
   "cell_type": "code",
   "execution_count": null,
   "metadata": {},
   "outputs": [],
   "source": [
    "power_columns"
   ]
  },
  {
   "cell_type": "markdown",
   "metadata": {},
   "source": [
    "- Getting the timestamps of all the clusters"
   ]
  },
  {
   "cell_type": "code",
   "execution_count": null,
   "metadata": {},
   "outputs": [],
   "source": [
    "for col in power_columns:\n",
    "    power_exploded_TRIALS_AND_SPECTRAL_DF[\"cluster_all_{}\".format(col)] = power_exploded_TRIALS_AND_SPECTRAL_DF.apply(lambda x: x[col][x[\"power_cluster_indexes\"]], axis=1)"
   ]
  },
  {
   "cell_type": "code",
   "execution_count": null,
   "metadata": {},
   "outputs": [],
   "source": [
    "cluster_all_columns = [col for col in power_exploded_TRIALS_AND_SPECTRAL_DF if \"cluster_all\" in col]"
   ]
  },
  {
   "cell_type": "code",
   "execution_count": null,
   "metadata": {},
   "outputs": [],
   "source": [
    "cluster_all_columns"
   ]
  },
  {
   "cell_type": "markdown",
   "metadata": {},
   "source": [
    "- Aggregating all the values within a given trial"
   ]
  },
  {
   "cell_type": "code",
   "execution_count": null,
   "metadata": {},
   "outputs": [],
   "source": [
    "for col in cluster_all_columns:\n",
    "    updated_column = col.replace(\"cluster_all\", \"cluster_mean\")\n",
    "    if \"gamma\" in col or \"theta\" in col:\n",
    "        power_exploded_TRIALS_AND_SPECTRAL_DF[updated_column] = power_exploded_TRIALS_AND_SPECTRAL_DF.apply(lambda x: np.nanmean(x[col]), axis=1)\n",
    "    else:\n",
    "        power_exploded_TRIALS_AND_SPECTRAL_DF[updated_column] = power_exploded_TRIALS_AND_SPECTRAL_DF.apply(lambda x: np.nanmean(x[col], axis=0), axis=1)\n",
    "    print(updated_column)\n",
    "    print(power_exploded_TRIALS_AND_SPECTRAL_DF[updated_column].iloc[0])\n",
    "        "
   ]
  },
  {
   "cell_type": "code",
   "execution_count": null,
   "metadata": {},
   "outputs": [],
   "source": [
    "cluster_mean_columns = [col for col in power_exploded_TRIALS_AND_SPECTRAL_DF if \"cluster_mean\" in col]"
   ]
  },
  {
   "cell_type": "code",
   "execution_count": null,
   "metadata": {},
   "outputs": [],
   "source": [
    "cluster_mean_columns"
   ]
  },
  {
   "cell_type": "code",
   "execution_count": null,
   "metadata": {},
   "outputs": [],
   "source": [
    "OUTCOME_TO_COLOR = {\"both_rewarded\": \"green\", \n",
    "\"novel_lose\": \"#e67073\",\n",
    "\"novel_win\": \"#93a5da\",\n",
    "\"lose\": \"#951a1d\",\n",
    "\"alone_rewarded\": \"#0499af\",\n",
    "\"win\": \"#3853a3\",\n",
    "\"omission\": \"orange\",\n",
    "\"tie\": \"green\"}"
   ]
  },
  {
   "cell_type": "code",
   "execution_count": null,
   "metadata": {},
   "outputs": [],
   "source": [
    "for col in cluster_mean_columns:\n",
    "    if \"all_frequencies\" in col:\n",
    "        continue\n",
    "    grouped_power_exploded_TRIALS_AND_SPECTRAL_DF = pd.DataFrame(power_exploded_TRIALS_AND_SPECTRAL_DF.groupby('power_cluster_id')[col].mean())\n",
    "    grouped_power_exploded_TRIALS_AND_SPECTRAL_DF = grouped_power_exploded_TRIALS_AND_SPECTRAL_DF.reset_index()\n",
    "\n",
    "\n",
    "\n",
    "    grouped_power_exploded_TRIALS_AND_SPECTRAL_DF[\"sem\"] = grouped_power_exploded_TRIALS_AND_SPECTRAL_DF[\"power_cluster_id\"].map(power_exploded_TRIALS_AND_SPECTRAL_DF.groupby('power_cluster_id')[col].sem().to_dict())\n",
    "    grouped_power_exploded_TRIALS_AND_SPECTRAL_DF[\"color\"] = grouped_power_exploded_TRIALS_AND_SPECTRAL_DF[\"power_cluster_id\"].apply(lambda x: x.split(\"_\")[0]).map(OUTCOME_TO_COLOR)\n",
    "    grouped_power_exploded_TRIALS_AND_SPECTRAL_DF[\"id_number\"] = grouped_power_exploded_TRIALS_AND_SPECTRAL_DF[\"power_cluster_id\"].apply(lambda x: x.split(\"_\")[0]).map(OUTCOME_TO_COLOR)\n",
    "\n",
    "    \n",
    "    \n",
    "    fig, ax = plt.subplots()\n",
    "    plt.bar(grouped_power_exploded_TRIALS_AND_SPECTRAL_DF[\"power_cluster_id\"], grouped_power_exploded_TRIALS_AND_SPECTRAL_DF[col], color=grouped_power_exploded_TRIALS_AND_SPECTRAL_DF[\"color\"])\n",
    "    plt.title(col.replace(\"cluster_mean_trial_and_post_\", \"\").replace(\"RMS_filtered_\", \"\"))\n",
    "    plt.xticks(rotation=90, ha='right')\n",
    "    plt.show()"
   ]
  },
  {
   "cell_type": "code",
   "execution_count": null,
   "metadata": {},
   "outputs": [],
   "source": [
    "low_freq = 0\n",
    "high_freq = 51\n",
    "current_frequencies = range(low_freq, high_freq)\n",
    "\n",
    "# Iterating through each brain region\n",
    "for col in cluster_mean_columns:\n",
    "    if \"all_frequencies\" not in col:\n",
    "        continue\n",
    "    print(col)\n",
    "\n",
    "    stacked_df = power_exploded_TRIALS_AND_SPECTRAL_DF.groupby(\"power_cluster_id\").agg({col: stack_arrays})\n",
    "    stacked_df = stacked_df.reset_index()\n",
    "    \n",
    "    # grouped_power_exploded_TRIALS_AND_SPECTRAL_DF[\"sem\"] = grouped_power_exploded_TRIALS_AND_SPECTRAL_DF[\"power_cluster_id\"].map(power_exploded_TRIALS_AND_SPECTRAL_DF.groupby('power_cluster_id')[col].sem().to_dict())\n",
    "    stacked_df[\"id_number\"] = stacked_df[\"power_cluster_id\"].apply(lambda x: x.split(\"_\")[1])\n",
    "    stacked_df[\"trial_label\"] = stacked_df[\"power_cluster_id\"].apply(lambda x: x.split(\"_\")[0])\n",
    "    stacked_df[\"color\"] = stacked_df[\"trial_label\"].map(OUTCOME_TO_COLOR)\n",
    "\n",
    "    stacked_df[\"max_value\"] = stacked_df[col].apply(lambda x: np.nanmax(x[low_freq: high_freq]))\n",
    "    max_value = np.nanmax(stacked_df[\"max_value\"])\n",
    "    \n",
    "    # Iterating through each trial type\n",
    "    for trial_label in stacked_df[\"trial_label\"].unique():\n",
    "        current_df = stacked_df[stacked_df[\"trial_label\"] == trial_label]\n",
    "        fig, ax = plt.subplots()\n",
    "\n",
    "        plt.xlim(low_freq, high_freq-1) \n",
    "        plt.xticks(np.arange(low_freq, high_freq-1, 5))\n",
    "\n",
    "        for band, (min_freq, max_freq) in BAND_TO_FREQ_PLOT.items():\n",
    "            ax.axvspan(min_freq, max_freq, facecolor=BAND_TO_FREQ_COLOR[band], alpha=0.1, label=band)\n",
    "    \n",
    "        if \"power\" in col:\n",
    "            # plt.ylim(0,0.01)\n",
    "            # plt.yscale(\"log\")\n",
    "            # plt.ylim((10**-3.5,10**-0.5))\n",
    "            ax.set_ylim(auto=True)\n",
    "            # plt.ylim(0, max_value)\n",
    "            pass\n",
    "        else:\n",
    "            # pass\n",
    "            plt.ylim(0, 1)\n",
    "\n",
    "        current_df[\"id_number\"] = current_df[\"id_number\"].astype(int)\n",
    "        # Sample data: a list of numbers\n",
    "        \n",
    "\n",
    "        \n",
    "        for index, row in current_df.iterrows():   \n",
    "            #### DURING TRIAL ####\n",
    "            mean_power = np.nanmean(row[col], axis=0)[low_freq: high_freq]\n",
    "            \n",
    "            # nans, x= nan_helper(mean_power)\n",
    "            # mean_power[nans]= np.interp(x(nans), x(~nans), mean_power[~nans])\n",
    "            # sem_power = stats.sem(row[col], axis=0, ddof=0)\n",
    "            \n",
    "            sem_power = np.nanstd(row[col], axis=0) / ((row[col].shape[0])**0.5)\n",
    "            sem_power = sem_power[low_freq: high_freq]\n",
    "            # nans, x= nan_helper(sem_power)\n",
    "            # sem_power[nans]= np.interp(x(nans), x(~nans), sem_power[~nans])   \n",
    "            \n",
    "\n",
    "            ax = sns.lineplot(x=current_frequencies, y=mean_power, \\\n",
    "            label=row[\"id_number\"], linewidth=3)\n",
    "\n",
    "            plt.fill_between(current_frequencies, \n",
    "            mean_power - sem_power, mean_power + sem_power, \\\n",
    "            alpha=0.3)\n",
    "        title = \"{}_{}\".format(col.replace(\"cluster_mean_trial_and_post_\", \"\").replace(\"RMS_filtered_\", \"\").replace(\"all_frequencies_all_windows\", \"\").replace(\" \", \"_\").replace(\"__\", \"_\"), trial_label).replace(\"__\", \"_\")\n",
    "        plt.title(title)\n",
    "        plt.legend(fontsize=10)\n",
    "        plt.tight_layout()\n",
    "        plt.savefig(\"./proc/cluster_plots/cluster_{}.png\".format(title))\n",
    "        plt.show()\n",
    "    \n",
    "    \n",
    "\n",
    "\n",
    "\n",
    "\n",
    "\n"
   ]
  },
  {
   "cell_type": "code",
   "execution_count": null,
   "metadata": {},
   "outputs": [],
   "source": []
  },
  {
   "cell_type": "code",
   "execution_count": null,
   "metadata": {},
   "outputs": [],
   "source": []
  },
  {
   "cell_type": "code",
   "execution_count": null,
   "metadata": {},
   "outputs": [],
   "source": []
  },
  {
   "cell_type": "markdown",
   "metadata": {},
   "source": [
    "# Filtering for granger"
   ]
  },
  {
   "cell_type": "code",
   "execution_count": null,
   "metadata": {},
   "outputs": [],
   "source": [
    "TRIALS_AND_SPECTRAL_DF = TRIALS_AND_SPECTRAL_DF[TRIALS_AND_SPECTRAL_DF[\"cluster_filtered_granger_timestamps\"].apply(lambda x: len(x)) >= 1] "
   ]
  },
  {
   "cell_type": "code",
   "execution_count": null,
   "metadata": {},
   "outputs": [],
   "source": [
    "list(TRIALS_AND_SPECTRAL_DF.columns)"
   ]
  },
  {
   "cell_type": "code",
   "execution_count": null,
   "metadata": {},
   "outputs": [],
   "source": [
    "to_keep_columns = ['trial_label',\n",
    "'tone_start_frame',\n",
    "'reward_start',\n",
    "'reward_dispensed',\n",
    "'tone_stop_frame',\n",
    "'condition ',\n",
    "'competition_closeness',\n",
    "'get_reward_frame',\n",
    "'out_reward_frame',\n",
    "'notes',\n",
    "'box_1_port_entry_frames',\n",
    "'box_2_port_entry_frames',\n",
    "'video_name',\n",
    "'tone_start_timestamp',\n",
    "'tone_stop_timestamp',\n",
    "'box_1_port_entry_timestamps',\n",
    "'box_2_port_entry_timestamps',\n",
    "'current_subject',\n",
    "'session_dir',\n",
    "'experiment',\n",
    "'sleap_name',\n",
    "'video_id',\n",
    "'agent',\n",
    "'all_subjects',\n",
    "'cohort',\n",
    "'first_timestamp',\n",
    "'last_timestamp',\n",
    "'recording',\n",
    "'session_path',\n",
    "'subject',\n",
    "'baseline_start_timestamp',\n",
    "'post_trial_end_timestamp',]"
   ]
  },
  {
   "cell_type": "code",
   "execution_count": null,
   "metadata": {},
   "outputs": [],
   "source": [
    "power_columns = [col for col in TRIALS_AND_SPECTRAL_DF if \"granger\" in col and (\"trial_and_post\" in col or \"cluster\" in col)]"
   ]
  },
  {
   "cell_type": "code",
   "execution_count": null,
   "metadata": {},
   "outputs": [],
   "source": [
    "power_columns"
   ]
  },
  {
   "cell_type": "markdown",
   "metadata": {},
   "source": [
    "- Making a separate row for each cluster"
   ]
  },
  {
   "cell_type": "code",
   "execution_count": null,
   "metadata": {},
   "outputs": [],
   "source": [
    "power_exploded_TRIALS_AND_SPECTRAL_DF = TRIALS_AND_SPECTRAL_DF[to_keep_columns + power_columns].explode([\"cluster_filtered_granger_timestamps\"])"
   ]
  },
  {
   "cell_type": "code",
   "execution_count": null,
   "metadata": {},
   "outputs": [],
   "source": [
    "power_exploded_TRIALS_AND_SPECTRAL_DF[\"cluster_filtered_granger_timestamps\"]"
   ]
  },
  {
   "cell_type": "markdown",
   "metadata": {},
   "source": [
    "- Making independent columns for cluster name and indexes"
   ]
  },
  {
   "cell_type": "code",
   "execution_count": null,
   "metadata": {},
   "outputs": [],
   "source": [
    "power_exploded_TRIALS_AND_SPECTRAL_DF[\"power_cluster_id\"] = power_exploded_TRIALS_AND_SPECTRAL_DF[\"cluster_filtered_granger_timestamps\"].apply(lambda x: x[0])\n",
    "power_exploded_TRIALS_AND_SPECTRAL_DF[\"power_cluster_indexes\"] = power_exploded_TRIALS_AND_SPECTRAL_DF[\"cluster_filtered_granger_timestamps\"].apply(lambda x: x[1])"
   ]
  },
  {
   "cell_type": "code",
   "execution_count": null,
   "metadata": {},
   "outputs": [],
   "source": [
    "power_columns = [col for col in power_exploded_TRIALS_AND_SPECTRAL_DF if \"granger\" in col and \"trial_and_post\" in col and \"timestamps\" not in col]"
   ]
  },
  {
   "cell_type": "code",
   "execution_count": null,
   "metadata": {},
   "outputs": [],
   "source": [
    "power_columns"
   ]
  },
  {
   "cell_type": "markdown",
   "metadata": {},
   "source": [
    "- Getting the timestamps of all the clusters"
   ]
  },
  {
   "cell_type": "code",
   "execution_count": null,
   "metadata": {},
   "outputs": [],
   "source": [
    "for col in power_columns:\n",
    "    power_exploded_TRIALS_AND_SPECTRAL_DF[\"cluster_all_{}\".format(col)] = power_exploded_TRIALS_AND_SPECTRAL_DF.apply(lambda x: x[col][x[\"power_cluster_indexes\"]], axis=1)"
   ]
  },
  {
   "cell_type": "code",
   "execution_count": null,
   "metadata": {},
   "outputs": [],
   "source": [
    "cluster_all_columns = [col for col in power_exploded_TRIALS_AND_SPECTRAL_DF if \"cluster_all\" in col]"
   ]
  },
  {
   "cell_type": "code",
   "execution_count": null,
   "metadata": {},
   "outputs": [],
   "source": [
    "cluster_all_columns"
   ]
  },
  {
   "cell_type": "markdown",
   "metadata": {},
   "source": [
    "- Aggregating all the values within a given trial"
   ]
  },
  {
   "cell_type": "code",
   "execution_count": null,
   "metadata": {},
   "outputs": [],
   "source": [
    "for col in cluster_all_columns:\n",
    "    updated_column = col.replace(\"cluster_all\", \"cluster_mean\")\n",
    "    if \"gamma\" in col or \"theta\" in col:\n",
    "        power_exploded_TRIALS_AND_SPECTRAL_DF[updated_column] = power_exploded_TRIALS_AND_SPECTRAL_DF.apply(lambda x: np.nanmean(x[col]), axis=1)\n",
    "    else:\n",
    "        power_exploded_TRIALS_AND_SPECTRAL_DF[updated_column] = power_exploded_TRIALS_AND_SPECTRAL_DF.apply(lambda x: np.nanmean(x[col], axis=0), axis=1)\n",
    "    print(updated_column)\n",
    "    print(power_exploded_TRIALS_AND_SPECTRAL_DF[updated_column].iloc[0])\n",
    "        "
   ]
  },
  {
   "cell_type": "code",
   "execution_count": null,
   "metadata": {},
   "outputs": [],
   "source": [
    "cluster_mean_columns = [col for col in power_exploded_TRIALS_AND_SPECTRAL_DF if \"cluster_mean\" in col]"
   ]
  },
  {
   "cell_type": "code",
   "execution_count": null,
   "metadata": {},
   "outputs": [],
   "source": [
    "cluster_mean_columns"
   ]
  },
  {
   "cell_type": "code",
   "execution_count": null,
   "metadata": {},
   "outputs": [],
   "source": [
    "OUTCOME_TO_COLOR = {\"both_rewarded\": \"green\", \n",
    "\"novel_lose\": \"#e67073\",\n",
    "\"novel_win\": \"#93a5da\",\n",
    "\"lose\": \"#951a1d\",\n",
    "\"alone_rewarded\": \"#0499af\",\n",
    "\"win\": \"#3853a3\",\n",
    "\"omission\": \"orange\",\n",
    "\"tie\": \"green\"}"
   ]
  },
  {
   "cell_type": "code",
   "execution_count": null,
   "metadata": {},
   "outputs": [],
   "source": [
    "for col in cluster_mean_columns:\n",
    "    if \"all_frequencies\" in col:\n",
    "        continue\n",
    "    grouped_power_exploded_TRIALS_AND_SPECTRAL_DF = pd.DataFrame(power_exploded_TRIALS_AND_SPECTRAL_DF.groupby('power_cluster_id')[col].mean())\n",
    "    grouped_power_exploded_TRIALS_AND_SPECTRAL_DF = grouped_power_exploded_TRIALS_AND_SPECTRAL_DF.reset_index()\n",
    "\n",
    "\n",
    "\n",
    "    grouped_power_exploded_TRIALS_AND_SPECTRAL_DF[\"sem\"] = grouped_power_exploded_TRIALS_AND_SPECTRAL_DF[\"power_cluster_id\"].map(power_exploded_TRIALS_AND_SPECTRAL_DF.groupby('power_cluster_id')[col].sem().to_dict())\n",
    "    grouped_power_exploded_TRIALS_AND_SPECTRAL_DF[\"color\"] = grouped_power_exploded_TRIALS_AND_SPECTRAL_DF[\"power_cluster_id\"].apply(lambda x: x.split(\"_\")[0]).map(OUTCOME_TO_COLOR)\n",
    "    grouped_power_exploded_TRIALS_AND_SPECTRAL_DF[\"id_number\"] = grouped_power_exploded_TRIALS_AND_SPECTRAL_DF[\"power_cluster_id\"].apply(lambda x: x.split(\"_\")[0]).map(OUTCOME_TO_COLOR)\n",
    "\n",
    "    \n",
    "    \n",
    "    fig, ax = plt.subplots()\n",
    "    plt.bar(grouped_power_exploded_TRIALS_AND_SPECTRAL_DF[\"power_cluster_id\"], grouped_power_exploded_TRIALS_AND_SPECTRAL_DF[col], color=grouped_power_exploded_TRIALS_AND_SPECTRAL_DF[\"color\"])\n",
    "    plt.title(col.replace(\"cluster_mean_trial_and_post_\", \"\").replace(\"RMS_filtered_\", \"\"))\n",
    "    plt.xticks(rotation=90, ha='right')\n",
    "    plt.show()"
   ]
  },
  {
   "cell_type": "code",
   "execution_count": null,
   "metadata": {},
   "outputs": [],
   "source": []
  },
  {
   "cell_type": "code",
   "execution_count": null,
   "metadata": {},
   "outputs": [],
   "source": [
    "low_freq = 0\n",
    "high_freq = 51\n",
    "current_frequencies = range(low_freq, high_freq)\n",
    "\n",
    "# Iterating through each brain region\n",
    "for col in cluster_mean_columns:\n",
    "    if \"all_frequencies\" not in col:\n",
    "        continue\n",
    "    print(col)\n",
    "\n",
    "    stacked_df = power_exploded_TRIALS_AND_SPECTRAL_DF.groupby(\"power_cluster_id\").agg({col: stack_arrays})\n",
    "    stacked_df = stacked_df.reset_index()\n",
    "    \n",
    "    # grouped_power_exploded_TRIALS_AND_SPECTRAL_DF[\"sem\"] = grouped_power_exploded_TRIALS_AND_SPECTRAL_DF[\"power_cluster_id\"].map(power_exploded_TRIALS_AND_SPECTRAL_DF.groupby('power_cluster_id')[col].sem().to_dict())\n",
    "    stacked_df[\"id_number\"] = stacked_df[\"power_cluster_id\"].apply(lambda x: x.split(\"_\")[1])\n",
    "    stacked_df[\"trial_label\"] = stacked_df[\"power_cluster_id\"].apply(lambda x: x.split(\"_\")[0])\n",
    "    stacked_df[\"color\"] = stacked_df[\"trial_label\"].map(OUTCOME_TO_COLOR)\n",
    "\n",
    "    stacked_df[\"max_value\"] = stacked_df[col].apply(lambda x: np.nanmax(x[low_freq: high_freq]))\n",
    "    max_value = np.nanmax(stacked_df[\"max_value\"])\n",
    "    \n",
    "    # Iterating through each trial type\n",
    "    for trial_label in stacked_df[\"trial_label\"].unique():\n",
    "        current_df = stacked_df[stacked_df[\"trial_label\"] == trial_label]\n",
    "        fig, ax = plt.subplots()\n",
    "\n",
    "        plt.xlim(low_freq, high_freq-1) \n",
    "        plt.xticks(np.arange(low_freq, high_freq-1, 5))\n",
    "\n",
    "        for band, (min_freq, max_freq) in BAND_TO_FREQ_PLOT.items():\n",
    "            ax.axvspan(min_freq, max_freq, facecolor=BAND_TO_FREQ_COLOR[band], alpha=0.1, label=band)\n",
    "    \n",
    "        if \"power\" in col:\n",
    "            # plt.ylim(0,0.01)\n",
    "            # plt.yscale(\"log\")\n",
    "            # plt.ylim((10**-3.5,10**-0.5))\n",
    "            ax.set_ylim(auto=True)\n",
    "            # plt.ylim(0, max_value)\n",
    "            pass\n",
    "        else:\n",
    "            # pass\n",
    "            plt.ylim(0, 1)\n",
    "\n",
    "        current_df[\"id_number\"] = current_df[\"id_number\"].astype(int)\n",
    "        # Sample data: a list of numbers\n",
    "        \n",
    "\n",
    "        \n",
    "        for index, row in current_df.iterrows():   \n",
    "            #### DURING TRIAL ####\n",
    "            mean_power = np.nanmean(row[col], axis=0)[low_freq: high_freq]\n",
    "            \n",
    "            # nans, x= nan_helper(mean_power)\n",
    "            # mean_power[nans]= np.interp(x(nans), x(~nans), mean_power[~nans])\n",
    "            # sem_power = stats.sem(row[col], axis=0, ddof=0)\n",
    "            \n",
    "            sem_power = np.nanstd(row[col], axis=0) / ((row[col].shape[0])**0.5)\n",
    "            sem_power = sem_power[low_freq: high_freq]\n",
    "            # nans, x= nan_helper(sem_power)\n",
    "            # sem_power[nans]= np.interp(x(nans), x(~nans), sem_power[~nans])   \n",
    "            \n",
    "\n",
    "            ax = sns.lineplot(x=current_frequencies, y=mean_power, \\\n",
    "            label=row[\"id_number\"], linewidth=3)\n",
    "\n",
    "            plt.fill_between(current_frequencies, \n",
    "            mean_power - sem_power, mean_power + sem_power, \\\n",
    "            alpha=0.3)\n",
    "        title = \"{}_{}\".format(col.replace(\"cluster_mean_trial_and_post_\", \"\").replace(\"RMS_filtered_\", \"\").replace(\"all_frequencies_all_windows\", \"\").replace(\" \", \"_\").replace(\"__\", \"_\"), trial_label).replace(\"__\", \"_\")\n",
    "        plt.title(title)\n",
    "        plt.legend(fontsize=10)\n",
    "        plt.tight_layout()\n",
    "        plt.savefig(\"./proc/cluster_plots/cluster_{}.png\".format(title))\n",
    "        plt.show()\n",
    "    \n",
    "    \n",
    "\n",
    "\n",
    "\n",
    "\n",
    "\n"
   ]
  },
  {
   "cell_type": "code",
   "execution_count": null,
   "metadata": {},
   "outputs": [],
   "source": [
    "raise ValueError()"
   ]
  },
  {
   "cell_type": "markdown",
   "metadata": {},
   "source": [
    "- Grouping all the rows with the same video and subject together"
   ]
  },
  {
   "cell_type": "code",
   "execution_count": null,
   "metadata": {
    "tags": []
   },
   "outputs": [],
   "source": [
    "list(TRIALS_AND_SPECTRAL_DF.columns)"
   ]
  },
  {
   "cell_type": "code",
   "execution_count": null,
   "metadata": {
    "tags": []
   },
   "outputs": [],
   "source": [
    "explode_columns"
   ]
  },
  {
   "cell_type": "code",
   "execution_count": null,
   "metadata": {
    "tags": []
   },
   "outputs": [],
   "source": [
    "other_explode_columns = [\"tone_stop_frame\",\n",
    "                         \"condition \",\n",
    "                         \"competition_closeness\",\n",
    "                         \"notes\",\n",
    "                         \"10s_before_tone_frame\",\n",
    "                         \"10s_after_tone_frame\",\n",
    "                        'cluster_index_ranges_dict',\n",
    " 'cluster_times',\n",
    " 'cluster_times_ranges_dict',\n",
    " 'cluster_timestamps_ranges_dict',\n",
    " 'trial_cluster_times_ranges_dict',\n",
    " 'trial_cluster_timestamps_ranges_dict']"
   ]
  },
  {
   "cell_type": "code",
   "execution_count": null,
   "metadata": {
    "tags": []
   },
   "outputs": [],
   "source": [
    "filter_columns"
   ]
  },
  {
   "cell_type": "code",
   "execution_count": null,
   "metadata": {
    "tags": []
   },
   "outputs": [],
   "source": [
    "# Define columns to be transformed into numpy arrays\n",
    "\n",
    "\n",
    "# Define aggregation dictionary\n",
    "agg_dict = {col: list for col in explode_columns + other_explode_columns if col not in groupby_columns and col != \"tone_start_frame\"}\n",
    "\n",
    "agg_dict.update({col: 'first' for col in filter_columns + [\"tone_start_frame\"] if col not in groupby_columns and col not in other_explode_columns})\n",
    "\n",
    "# Apply groupby and aggregation\n",
    "video_TRIALS_AND_SPECTRAL_DF = TRIALS_AND_SPECTRAL_DF.groupby([\"video_name\", \"current_subject\"]).agg(agg_dict).reset_index()\n"
   ]
  },
  {
   "cell_type": "code",
   "execution_count": null,
   "metadata": {
    "tags": []
   },
   "outputs": [],
   "source": [
    "video_TRIALS_AND_SPECTRAL_DF.columns"
   ]
  },
  {
   "cell_type": "code",
   "execution_count": null,
   "metadata": {
    "tags": []
   },
   "outputs": [],
   "source": [
    "video_TRIALS_AND_SPECTRAL_DF.head()"
   ]
  },
  {
   "cell_type": "markdown",
   "metadata": {},
   "source": [
    "- Combining all the dictionaries together"
   ]
  },
  {
   "cell_type": "code",
   "execution_count": null,
   "metadata": {},
   "outputs": [],
   "source": []
  },
  {
   "cell_type": "code",
   "execution_count": null,
   "metadata": {
    "tags": []
   },
   "outputs": [],
   "source": [
    "for col in [_ for _ in video_TRIALS_AND_SPECTRAL_DF if \"dict\" in _]:\n",
    "    video_TRIALS_AND_SPECTRAL_DF[col] = video_TRIALS_AND_SPECTRAL_DF[col].apply(lambda x: combine_dicts(x))"
   ]
  },
  {
   "cell_type": "code",
   "execution_count": null,
   "metadata": {
    "tags": []
   },
   "outputs": [],
   "source": [
    "video_TRIALS_AND_SPECTRAL_DF.head()"
   ]
  },
  {
   "cell_type": "code",
   "execution_count": null,
   "metadata": {
    "tags": []
   },
   "outputs": [],
   "source": [
    "video_TRIALS_AND_SPECTRAL_DF.to_pickle(\"./proc/{}_cluster_ranges.pkl\".format(OUTPUT_PREFIX))"
   ]
  },
  {
   "cell_type": "code",
   "execution_count": null,
   "metadata": {},
   "outputs": [],
   "source": []
  },
  {
   "cell_type": "markdown",
   "metadata": {},
   "source": [
    "# Filtering out the SLEAP posed for during trials"
   ]
  },
  {
   "cell_type": "code",
   "execution_count": null,
   "metadata": {},
   "outputs": [],
   "source": [
    "raise ValueError()"
   ]
  },
  {
   "cell_type": "code",
   "execution_count": null,
   "metadata": {},
   "outputs": [],
   "source": [
    "TRIALS_AND_SPECTRAL_DF"
   ]
  },
  {
   "cell_type": "code",
   "execution_count": null,
   "metadata": {},
   "outputs": [],
   "source": []
  },
  {
   "cell_type": "code",
   "execution_count": null,
   "metadata": {},
   "outputs": [],
   "source": []
  },
  {
   "cell_type": "code",
   "execution_count": null,
   "metadata": {},
   "outputs": [],
   "source": []
  },
  {
   "cell_type": "code",
   "execution_count": null,
   "metadata": {},
   "outputs": [],
   "source": []
  },
  {
   "cell_type": "code",
   "execution_count": null,
   "metadata": {},
   "outputs": [],
   "source": []
  },
  {
   "cell_type": "code",
   "execution_count": null,
   "metadata": {
    "tags": []
   },
   "outputs": [],
   "source": [
    "TRIALS_AND_SPECTRAL_DF[\"video_frame\"] = TRIALS_AND_SPECTRAL_DF[\"video_timestamps\"].apply(lambda x: np.array(list(range(len(x)))) + 1)"
   ]
  },
  {
   "cell_type": "code",
   "execution_count": null,
   "metadata": {
    "tags": []
   },
   "outputs": [],
   "source": [
    "TRIALS_AND_SPECTRAL_DF[\"video_frame\"].head().apply(lambda x: x.shape)"
   ]
  },
  {
   "cell_type": "code",
   "execution_count": null,
   "metadata": {},
   "outputs": [],
   "source": [
    "['subject_thorax_to_agent_thorax',\n",
    " 'nose_to_reward_port_sum',\n",
    " 'nose_to_reward_port_diff',\n",
    " 'thorax_velocity_sum',\n",
    " 'thorax_velocity_diff',\n",
    " 'to_reward_port_angle_sum',\n",
    " 'to_reward_port_angle_diff',\n",
    " 'subject_nose_to_reward_port',\n",
    " 'subject_thorax_velocity',\n",
    " 'subject_to_reward_port_angle',\n",
    " 'agent_nose_to_reward_port',\n",
    " 'agent_thorax_velocity',\n",
    " 'agent_to_reward_port_angle',\n",
    " 'closebool_subject_nose_to_reward_port',\n",
    " 'closebool_agent_nose_to_reward_port',\n",
    " 'movingbool_subject_thorax_velocity',\n",
    " 'movingbool_agent_thorax_velocity',\n",
    " 'manual_cluster_id',\n",
    " 'standard_embedding_x',\n",
    " 'standard_embedding_y',\n",
    " 'kmeans_cluster',\n",
    " 'subject_locations',\n",
    " 'agent_locations',\n",
    " 'subject_thorax',\n",
    " 'subject_nose',\n",
    " 'subject_tail_base',\n",
    " 'agent_thorax',\n",
    " 'agent_nose',\n",
    " 'agent_tail_base']"
   ]
  },
  {
   "cell_type": "code",
   "execution_count": null,
   "metadata": {
    "tags": []
   },
   "outputs": [],
   "source": [
    "# sleap_columns = [col for col in TRIALS_AND_SPECTRAL_DF.columns if \"locations\" in col or \"velocity\" in col or \"to_reward_port\" in col or \"video_frame\" in col]"
   ]
  },
  {
   "cell_type": "code",
   "execution_count": null,
   "metadata": {
    "tags": []
   },
   "outputs": [],
   "source": [
    "sleap_columns = [col for col in TRIALS_AND_SPECTRAL_DF.columns if (\"thorax\" in col or \"nose\" in col or \"reward_port\" in col or \"standard_embedding\" in col or \"cluster\" in col or \"frame_index\" in col or \"locations\" in col or \"tailbase\" in col) and \"timestamp\" not in col]\n"
   ]
  },
  {
   "cell_type": "code",
   "execution_count": null,
   "metadata": {
    "tags": []
   },
   "outputs": [],
   "source": [
    "sleap_columns"
   ]
  },
  {
   "cell_type": "code",
   "execution_count": null,
   "metadata": {
    "tags": []
   },
   "outputs": [],
   "source": [
    "for col in sleap_columns:\n",
    "    print(col)\n",
    "    print(TRIALS_AND_SPECTRAL_DF[col].apply(lambda x: x.shape).iloc[0])"
   ]
  },
  {
   "cell_type": "code",
   "execution_count": null,
   "metadata": {
    "tags": []
   },
   "outputs": [],
   "source": [
    "for col in sorted(sleap_columns):\n",
    "    updated_item_col = \"trial_and_post_{}\".format(col)\n",
    "    print(updated_item_col)\n",
    "    updated_timestamp_col = \"trial_and_post_video_timestamps\"\n",
    "    TRIALS_AND_SPECTRAL_DF[updated_item_col] = TRIALS_AND_SPECTRAL_DF.apply(lambda x: utilities.helper.filter_by_timestamp_range(start=x[\"tone_start_timestamp\"], stop=x[\"post_trial_end_timestamp\"], timestamps=x[\"cluster_timestamp\"], items=x[col])[1], axis=1)\n",
    "\n",
    "TRIALS_AND_SPECTRAL_DF[updated_timestamp_col] = TRIALS_AND_SPECTRAL_DF.apply(lambda x: utilities.helper.filter_by_timestamp_range(start=x[\"tone_start_timestamp\"], stop=x[\"post_trial_end_timestamp\"], timestamps=x[\"cluster_timestamp\"], items=x[col])[0], axis=1)"
   ]
  },
  {
   "cell_type": "code",
   "execution_count": null,
   "metadata": {
    "tags": []
   },
   "outputs": [],
   "source": [
    "TRIALS_AND_SPECTRAL_DF.head()"
   ]
  },
  {
   "cell_type": "code",
   "execution_count": null,
   "metadata": {
    "tags": []
   },
   "outputs": [],
   "source": [
    "TRIALS_AND_SPECTRAL_DF[\"trial_and_post_frame_index\"].iloc[0].shape"
   ]
  },
  {
   "cell_type": "code",
   "execution_count": null,
   "metadata": {
    "tags": []
   },
   "outputs": [],
   "source": [
    "TRIALS_AND_SPECTRAL_DF = TRIALS_AND_SPECTRAL_DF.drop(columns=sleap_columns + [\"cluster_timestamp\"], errors=\"ignore\")"
   ]
  },
  {
   "cell_type": "code",
   "execution_count": null,
   "metadata": {
    "tags": []
   },
   "outputs": [],
   "source": [
    "for col in TRIALS_AND_SPECTRAL_DF.columns:\n",
    "    print(col)"
   ]
  },
  {
   "cell_type": "markdown",
   "metadata": {},
   "source": [
    "- Filtering coherence"
   ]
  },
  {
   "cell_type": "code",
   "execution_count": null,
   "metadata": {
    "tags": []
   },
   "outputs": [],
   "source": [
    "coherence_columns = [col for col in TRIALS_AND_SPECTRAL_DF.columns if \"coherence\" in col and \"timestamps\" not in col and \"calculation\" not in col]"
   ]
  },
  {
   "cell_type": "code",
   "execution_count": null,
   "metadata": {
    "tags": []
   },
   "outputs": [],
   "source": [
    "coherence_columns"
   ]
  },
  {
   "cell_type": "code",
   "execution_count": null,
   "metadata": {
    "tags": []
   },
   "outputs": [],
   "source": [
    "for col in sorted(coherence_columns):\n",
    "    updated_item_col = \"trial_and_post_{}\".format(col)\n",
    "    print(updated_item_col)\n",
    "    updated_timestamp_col = \"trial_and_post_coherence_timestamps\"\n",
    "    TRIALS_AND_SPECTRAL_DF[updated_item_col] = TRIALS_AND_SPECTRAL_DF.apply(lambda x: utilities.helper.filter_by_timestamp_range(start=x[\"tone_start_timestamp\"], stop=x[\"post_trial_end_timestamp\"], timestamps=x[\"coherence_timestamps\"], items=x[col])[1], axis=1)\n",
    "\n",
    "TRIALS_AND_SPECTRAL_DF[updated_timestamp_col] = TRIALS_AND_SPECTRAL_DF.apply(lambda x: utilities.helper.filter_by_timestamp_range(start=x[\"tone_start_timestamp\"], stop=x[\"post_trial_end_timestamp\"], timestamps=x[\"coherence_timestamps\"], items=x[col])[0], axis=1)"
   ]
  },
  {
   "cell_type": "code",
   "execution_count": null,
   "metadata": {
    "tags": []
   },
   "outputs": [],
   "source": [
    "TRIALS_AND_SPECTRAL_DF = TRIALS_AND_SPECTRAL_DF.drop(columns=coherence_columns + [\"coherence_timestamps\"], errors=\"ignore\")"
   ]
  },
  {
   "cell_type": "markdown",
   "metadata": {},
   "source": [
    "- Filtering Grangers"
   ]
  },
  {
   "cell_type": "code",
   "execution_count": null,
   "metadata": {
    "tags": []
   },
   "outputs": [],
   "source": [
    "granger_columns = [col for col in TRIALS_AND_SPECTRAL_DF.columns if \"granger\" in col and \"timestamps\" not in col and \"calculation\" not in col]"
   ]
  },
  {
   "cell_type": "code",
   "execution_count": null,
   "metadata": {
    "tags": []
   },
   "outputs": [],
   "source": [
    "granger_columns"
   ]
  },
  {
   "cell_type": "code",
   "execution_count": null,
   "metadata": {
    "tags": []
   },
   "outputs": [],
   "source": [
    "for col in sorted(granger_columns):\n",
    "    updated_item_col = \"trial_and_post_{}\".format(col)\n",
    "    print(updated_item_col)\n",
    "    updated_timestamp_col = \"trial_and_post_granger_timestamps\"\n",
    "    TRIALS_AND_SPECTRAL_DF[updated_item_col] = TRIALS_AND_SPECTRAL_DF.apply(lambda x: utilities.helper.filter_by_timestamp_range(start=x[\"tone_start_timestamp\"], stop=x[\"post_trial_end_timestamp\"], timestamps=x[\"granger_timestamps\"], items=x[col])[1], axis=1)\n",
    "\n",
    "TRIALS_AND_SPECTRAL_DF[updated_timestamp_col] = TRIALS_AND_SPECTRAL_DF.apply(lambda x: utilities.helper.filter_by_timestamp_range(start=x[\"tone_start_timestamp\"], stop=x[\"post_trial_end_timestamp\"], timestamps=x[\"granger_timestamps\"], items=x[col])[0], axis=1)"
   ]
  },
  {
   "cell_type": "code",
   "execution_count": null,
   "metadata": {
    "tags": []
   },
   "outputs": [],
   "source": [
    "TRIALS_AND_SPECTRAL_DF = TRIALS_AND_SPECTRAL_DF.drop(columns=granger_columns + [\"granger_timestamps\"], errors=\"ignore\")"
   ]
  },
  {
   "cell_type": "code",
   "execution_count": null,
   "metadata": {},
   "outputs": [],
   "source": [
    "TRIALS_AND_SPECTRAL_DF.to_pickle(os.path.join(OUTPUT_DIR, FULL_LFP_TRACES_PKL))"
   ]
  },
  {
   "cell_type": "markdown",
   "metadata": {},
   "source": [
    "- Filtering power"
   ]
  },
  {
   "cell_type": "code",
   "execution_count": null,
   "metadata": {},
   "outputs": [],
   "source": [
    "TRIALS_AND_SPECTRAL_DF.head()"
   ]
  },
  {
   "cell_type": "code",
   "execution_count": null,
   "metadata": {
    "tags": []
   },
   "outputs": [],
   "source": [
    "power_columns = [col for col in TRIALS_AND_SPECTRAL_DF.columns if \"power\" in col and \"timestamps\" not in col and \"calculation\" not in col]"
   ]
  },
  {
   "cell_type": "code",
   "execution_count": null,
   "metadata": {
    "tags": []
   },
   "outputs": [],
   "source": [
    "power_columns"
   ]
  },
  {
   "cell_type": "code",
   "execution_count": null,
   "metadata": {
    "tags": []
   },
   "outputs": [],
   "source": [
    "for col in sorted(power_columns):\n",
    "    updated_item_col = \"trial_and_post_{}\".format(col)\n",
    "    print(updated_item_col)\n",
    "    updated_timestamp_col = \"trial_and_post_power_timestamps\"\n",
    "    TRIALS_AND_SPECTRAL_DF[updated_item_col] = TRIALS_AND_SPECTRAL_DF.apply(lambda x: utilities.helper.filter_by_timestamp_range(start=x[\"tone_start_timestamp\"], stop=x[\"post_trial_end_timestamp\"], timestamps=x[\"power_timestamps\"], items=x[col])[1], axis=1)\n",
    "\n",
    "TRIALS_AND_SPECTRAL_DF[updated_timestamp_col] = TRIALS_AND_SPECTRAL_DF.apply(lambda x: utilities.helper.filter_by_timestamp_range(start=x[\"tone_start_timestamp\"], stop=x[\"post_trial_end_timestamp\"], timestamps=x[\"power_timestamps\"], items=x[col])[0], axis=1)\n"
   ]
  },
  {
   "cell_type": "code",
   "execution_count": null,
   "metadata": {
    "tags": []
   },
   "outputs": [],
   "source": [
    "TRIALS_AND_SPECTRAL_DF = TRIALS_AND_SPECTRAL_DF.drop(columns=power_columns + [\"power_timestamps\"], errors=\"ignore\")"
   ]
  },
  {
   "cell_type": "code",
   "execution_count": null,
   "metadata": {
    "tags": []
   },
   "outputs": [],
   "source": [
    "for col in TRIALS_AND_SPECTRAL_DF:\n",
    "    print(col)"
   ]
  },
  {
   "cell_type": "markdown",
   "metadata": {
    "tags": []
   },
   "source": [
    "# Filtering out phase"
   ]
  },
  {
   "cell_type": "code",
   "execution_count": null,
   "metadata": {
    "tags": []
   },
   "outputs": [],
   "source": [
    "lfp_columns = [col for col in TRIALS_AND_SPECTRAL_DF.columns if \"trace\" in col and \"timestamps\" not in col and \"calculation\" not in col]"
   ]
  },
  {
   "cell_type": "code",
   "execution_count": null,
   "metadata": {
    "tags": []
   },
   "outputs": [],
   "source": [
    "band_columns = [col for col in TRIALS_AND_SPECTRAL_DF.columns if \"band\" in col and \"timestamps\" not in col and \"calculation\" not in col]"
   ]
  },
  {
   "cell_type": "code",
   "execution_count": null,
   "metadata": {
    "tags": []
   },
   "outputs": [],
   "source": [
    "phase_columns = [col for col in TRIALS_AND_SPECTRAL_DF.columns if \"phase\" in col and \"timestamps\" not in col and \"calculation\" not in col]"
   ]
  },
  {
   "cell_type": "code",
   "execution_count": null,
   "metadata": {
    "tags": []
   },
   "outputs": [],
   "source": [
    "phase_columns = phase_columns + band_columns +lfp_columns"
   ]
  },
  {
   "cell_type": "code",
   "execution_count": null,
   "metadata": {
    "tags": []
   },
   "outputs": [],
   "source": [
    "phase_columns"
   ]
  },
  {
   "cell_type": "code",
   "execution_count": null,
   "metadata": {
    "tags": []
   },
   "outputs": [],
   "source": [
    "for col in sorted(phase_columns):\n",
    "    updated_item_col = \"trial_and_post_{}\".format(col)\n",
    "    print(updated_item_col)\n",
    "    updated_timestamp_col = \"trial_and_post_lfp_timestamps\"\n",
    "    TRIALS_AND_SPECTRAL_DF[updated_item_col] = TRIALS_AND_SPECTRAL_DF.apply(lambda x: utilities.helper.filter_by_timestamp_range(start=x[\"tone_start_timestamp\"], stop=x[\"post_trial_end_timestamp\"], timestamps=x[\"lfp_timestamps\"], items=x[col])[1], axis=1)\n",
    "\n",
    "TRIALS_AND_SPECTRAL_DF[updated_timestamp_col] = TRIALS_AND_SPECTRAL_DF.apply(lambda x: utilities.helper.filter_by_timestamp_range(start=x[\"tone_start_timestamp\"], stop=x[\"post_trial_end_timestamp\"], timestamps=x[\"lfp_timestamps\"], items=x[col])[0], axis=1)\n"
   ]
  },
  {
   "cell_type": "code",
   "execution_count": null,
   "metadata": {
    "tags": []
   },
   "outputs": [],
   "source": []
  },
  {
   "cell_type": "code",
   "execution_count": null,
   "metadata": {
    "tags": []
   },
   "outputs": [],
   "source": [
    "TRIALS_AND_SPECTRAL_DF[\"trial_and_post_lfp_timestamps\"]"
   ]
  },
  {
   "cell_type": "code",
   "execution_count": null,
   "metadata": {
    "tags": []
   },
   "outputs": [],
   "source": [
    "TRIALS_AND_SPECTRAL_DF = TRIALS_AND_SPECTRAL_DF.drop(columns=phase_columns + [\"lfp_timestamps\"], errors=\"ignore\")"
   ]
  },
  {
   "cell_type": "code",
   "execution_count": null,
   "metadata": {
    "tags": []
   },
   "outputs": [],
   "source": [
    "TRIALS_AND_SPECTRAL_DF.to_pickle(os.path.join(OUTPUT_DIR, FULL_LFP_TRACES_PKL))"
   ]
  },
  {
   "cell_type": "code",
   "execution_count": null,
   "metadata": {
    "tags": []
   },
   "outputs": [],
   "source": [
    "for col in TRIALS_AND_SPECTRAL_DF:\n",
    "    print(col)"
   ]
  },
  {
   "cell_type": "code",
   "execution_count": null,
   "metadata": {
    "tags": []
   },
   "outputs": [],
   "source": [
    "TRIALS_AND_SPECTRAL_DF[\"trial_and_post_kmeans_cluster\"].iloc[0].shape"
   ]
  },
  {
   "cell_type": "code",
   "execution_count": null,
   "metadata": {},
   "outputs": [],
   "source": [
    "raise ValueError()"
   ]
  },
  {
   "cell_type": "markdown",
   "metadata": {},
   "source": [
    "# Filtering for rows that are in the video"
   ]
  },
  {
   "cell_type": "code",
   "execution_count": null,
   "metadata": {
    "tags": []
   },
   "outputs": [],
   "source": [
    "TRIALS_AND_SPECTRAL_DF[\"in_video\"] = TRIALS_AND_SPECTRAL_DF.apply(lambda x: x[\"start_frame\"] <= x[\"trial_video_frame\"][0] <= x[\"stop_frame\"], axis=1)"
   ]
  },
  {
   "cell_type": "code",
   "execution_count": null,
   "metadata": {
    "tags": []
   },
   "outputs": [],
   "source": [
    "TRIALS_AND_SPECTRAL_DF = TRIALS_AND_SPECTRAL_DF[TRIALS_AND_SPECTRAL_DF[\"in_video\"]].reset_index()"
   ]
  },
  {
   "cell_type": "code",
   "execution_count": null,
   "metadata": {
    "tags": []
   },
   "outputs": [],
   "source": [
    "TRIALS_AND_SPECTRAL_DF"
   ]
  },
  {
   "cell_type": "code",
   "execution_count": null,
   "metadata": {
    "tags": []
   },
   "outputs": [],
   "source": [
    "TRIALS_AND_SPECTRAL_DF.to_pickle(os.path.join(OUTPUT_DIR, FULL_LFP_TRACES_PKL))"
   ]
  },
  {
   "cell_type": "code",
   "execution_count": null,
   "metadata": {},
   "outputs": [],
   "source": [
    "raise ValueError()"
   ]
  },
  {
   "cell_type": "markdown",
   "metadata": {},
   "source": [
    "# Filtering out spikes"
   ]
  },
  {
   "cell_type": "code",
   "execution_count": null,
   "metadata": {
    "tags": []
   },
   "outputs": [],
   "source": [
    "raise ValueError()"
   ]
  },
  {
   "cell_type": "code",
   "execution_count": null,
   "metadata": {
    "tags": []
   },
   "outputs": [],
   "source": [
    "TRIALS_AND_SPECTRAL_DF[\"baseline_spike_times\"] = TRIALS_AND_SPECTRAL_DF.apply(lambda x: filter_spike_times(x[\"spike_times\"], start=x[\"tone_start_timestamp\"], stop=x[\"baseline_stop_timestamp\"]).astype(int), axis=1)\n"
   ]
  },
  {
   "cell_type": "code",
   "execution_count": null,
   "metadata": {
    "tags": []
   },
   "outputs": [],
   "source": [
    "TRIALS_AND_SPECTRAL_DF[\"trial_spike_times\"] = TRIALS_AND_SPECTRAL_DF.apply(lambda x: filter_spike_times(x[\"spike_times\"], start=x[\"tone_start_timestamp\"], stop=x[\"tone_stop_timestamp\"]).astype(int), axis=1)\n"
   ]
  },
  {
   "cell_type": "code",
   "execution_count": null,
   "metadata": {
    "tags": []
   },
   "outputs": [],
   "source": [
    "TRIALS_AND_SPECTRAL_DF[\"tone_start_timestamp\"].head()"
   ]
  },
  {
   "cell_type": "code",
   "execution_count": null,
   "metadata": {
    "tags": []
   },
   "outputs": [],
   "source": [
    "TRIALS_AND_SPECTRAL_DF[\"baseline_stop_timestamp\"].head()"
   ]
  },
  {
   "cell_type": "code",
   "execution_count": null,
   "metadata": {
    "tags": []
   },
   "outputs": [],
   "source": [
    "TRIALS_AND_SPECTRAL_DF[\"baseline_spike_times\"].iloc[0]"
   ]
  },
  {
   "cell_type": "code",
   "execution_count": null,
   "metadata": {
    "tags": []
   },
   "outputs": [],
   "source": [
    "TRIALS_AND_SPECTRAL_DF[\"baseline_neuron_average_fr\"] = TRIALS_AND_SPECTRAL_DF.apply(lambda x: utilities.helper.filter_by_timestamp_range(start=x[\"tone_start_timestamp\"], stop=x[\"baseline_stop_timestamp\"], timestamps=x[\"neuron_average_timestamps\"], items=x[\"neuron_average_fr\"].T)[1], axis=1)\n",
    "TRIALS_AND_SPECTRAL_DF[\"baseline_neuron_average_timestamp\"] = TRIALS_AND_SPECTRAL_DF.apply(lambda x: utilities.helper.filter_by_timestamp_range(start=x[\"tone_start_timestamp\"], stop=x[\"baseline_stop_timestamp\"], timestamps=x[\"neuron_average_timestamps\"], items=x[\"neuron_average_fr\"].T)[0], axis=1)"
   ]
  },
  {
   "cell_type": "code",
   "execution_count": null,
   "metadata": {
    "tags": []
   },
   "outputs": [],
   "source": [
    "TRIALS_AND_SPECTRAL_DF[\"trial_neuron_average_fr\"] = TRIALS_AND_SPECTRAL_DF.apply(lambda x: utilities.helper.filter_by_timestamp_range(start=x[\"tone_start_timestamp\"], stop=x[\"tone_stop_timestamp\"], timestamps=x[\"neuron_average_timestamps\"], items=x[\"neuron_average_fr\"].T)[1].T, axis=1)\n",
    "TRIALS_AND_SPECTRAL_DF[\"trial_neuron_average_timestamp\"] = TRIALS_AND_SPECTRAL_DF.apply(lambda x: utilities.helper.filter_by_timestamp_range(start=x[\"tone_start_timestamp\"], stop=x[\"tone_stop_timestamp\"], timestamps=x[\"neuron_average_timestamps\"], items=x[\"neuron_average_fr\"].T)[0], axis=1)"
   ]
  },
  {
   "cell_type": "code",
   "execution_count": null,
   "metadata": {
    "tags": []
   },
   "outputs": [],
   "source": [
    "TRIALS_AND_SPECTRAL_DF = TRIALS_AND_SPECTRAL_DF.drop(columns=[\"spike_clusters\", \"spike_times\", \"neuron_average_fr\", \"neuron_average_timestamps\",], errors=\"ignore\")"
   ]
  },
  {
   "cell_type": "code",
   "execution_count": null,
   "metadata": {
    "tags": []
   },
   "outputs": [],
   "source": [
    "TRIALS_AND_SPECTRAL_DF[\"trial_neuron_average_fr\"].iloc[0].shape"
   ]
  },
  {
   "cell_type": "code",
   "execution_count": null,
   "metadata": {
    "tags": []
   },
   "outputs": [],
   "source": [
    "TRIALS_AND_SPECTRAL_DF[\"trial_neuron_average_timestamp\"].iloc[0].shape"
   ]
  },
  {
   "cell_type": "code",
   "execution_count": null,
   "metadata": {},
   "outputs": [],
   "source": []
  }
 ],
 "metadata": {
  "deepnote": {},
  "deepnote_execution_queue": [],
  "deepnote_notebook_id": "cf8fe3695d074ee7887fdf6459cbf5ce",
  "kernelspec": {
   "display_name": "mountainsort_0_5_6",
   "language": "python",
   "name": "python3"
  },
  "language_info": {
   "codemirror_mode": {
    "name": "ipython",
    "version": 3
   },
   "file_extension": ".py",
   "mimetype": "text/x-python",
   "name": "python",
   "nbconvert_exporter": "python",
   "pygments_lexer": "ipython3",
   "version": "3.9.19"
  }
 },
 "nbformat": 4,
 "nbformat_minor": 4
}
