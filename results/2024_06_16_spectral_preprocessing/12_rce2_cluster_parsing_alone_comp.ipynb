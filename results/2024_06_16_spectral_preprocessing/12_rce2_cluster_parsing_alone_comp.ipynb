{
 "cells": [
  {
   "cell_type": "markdown",
   "metadata": {
    "cell_id": "c3a02adc9e884466bc8c79db549cc3d2",
    "deepnote_cell_type": "text-cell-h1",
    "formattedRanges": [
     {
      "fromCodePoint": 0,
      "marks": {
       "bold": true,
       "underline": true
      },
      "toCodePoint": 17,
      "type": "marks"
     }
    ]
   },
   "source": [
    "# All oscillation analysis"
   ]
  },
  {
   "cell_type": "markdown",
   "metadata": {
    "cell_id": "4546bee655b14a5dbf393161f1228e60",
    "deepnote_cell_type": "text-cell-p",
    "formattedRanges": []
   },
   "source": [
    "Brief 1-2 sentence description of notebook."
   ]
  },
  {
   "cell_type": "code",
   "execution_count": null,
   "metadata": {
    "tags": []
   },
   "outputs": [],
   "source": [
    "# Imports of all used packages and libraries\n",
    "import sys\n",
    "import os\n",
    "import git\n",
    "import glob\n",
    "from collections import defaultdict"
   ]
  },
  {
   "cell_type": "code",
   "execution_count": null,
   "metadata": {
    "tags": []
   },
   "outputs": [],
   "source": [
    "git_repo = git.Repo(\".\", search_parent_directories=True)\n",
    "git_root = git_repo.git.rev_parse(\"--show-toplevel\")"
   ]
  },
  {
   "cell_type": "code",
   "execution_count": null,
   "metadata": {
    "tags": []
   },
   "outputs": [],
   "source": [
    "git_root"
   ]
  },
  {
   "cell_type": "code",
   "execution_count": null,
   "metadata": {
    "tags": []
   },
   "outputs": [],
   "source": [
    "sys.path.insert(0, os.path.join(git_root, 'src'))"
   ]
  },
  {
   "cell_type": "code",
   "execution_count": null,
   "metadata": {
    "tags": []
   },
   "outputs": [],
   "source": [
    "import warnings\n",
    "warnings.filterwarnings('ignore')"
   ]
  },
  {
   "cell_type": "code",
   "execution_count": null,
   "metadata": {
    "tags": []
   },
   "outputs": [],
   "source": [
    "import os\n",
    "import collections\n",
    "import itertools\n",
    "from collections import defaultdict\n",
    "from itertools import combinations"
   ]
  },
  {
   "cell_type": "raw",
   "metadata": {},
   "source": [
    "os.environ[\"SPECTRAL_CONNECTIVITY_ENABLE_GPU\"] = \"true\"\n",
    "import cupy as cp"
   ]
  },
  {
   "cell_type": "code",
   "execution_count": null,
   "metadata": {
    "cell_id": "03b495cefa6a4798a44c7f2e4c6a3ea7",
    "deepnote_cell_type": "code",
    "deepnote_to_be_reexecuted": false,
    "execution_millis": 21,
    "execution_start": 1691424003626,
    "source_hash": null,
    "tags": []
   },
   "outputs": [],
   "source": [
    "# Imports of all used packages and libraries\n",
    "import numpy as np\n",
    "import pandas as pd\n",
    "from scipy import stats\n",
    "from scipy.stats import mannwhitneyu\n"
   ]
  },
  {
   "cell_type": "code",
   "execution_count": null,
   "metadata": {
    "tags": []
   },
   "outputs": [],
   "source": [
    "import matplotlib\n",
    "import matplotlib.colors as mcolors\n",
    "import matplotlib.pyplot as plt\n",
    "import matplotlib.cm as cm\n",
    "import colorsys"
   ]
  },
  {
   "cell_type": "code",
   "execution_count": null,
   "metadata": {
    "tags": []
   },
   "outputs": [],
   "source": [
    "from sklearn.metrics import confusion_matrix"
   ]
  },
  {
   "cell_type": "code",
   "execution_count": null,
   "metadata": {
    "tags": []
   },
   "outputs": [],
   "source": [
    "from spectral_connectivity import Multitaper, Connectivity\n",
    "import spectral_connectivity"
   ]
  },
  {
   "cell_type": "code",
   "execution_count": null,
   "metadata": {
    "tags": []
   },
   "outputs": [],
   "source": [
    "import utilities.helper\n",
    "import trodes.read_exported"
   ]
  },
  {
   "cell_type": "code",
   "execution_count": null,
   "metadata": {
    "tags": []
   },
   "outputs": [],
   "source": [
    "FONTSIZE = 20"
   ]
  },
  {
   "cell_type": "code",
   "execution_count": null,
   "metadata": {
    "tags": []
   },
   "outputs": [],
   "source": [
    "font = {'weight' : 'medium',\n",
    "        'size'   : 20}\n",
    "\n",
    "matplotlib.rc('font', **font)"
   ]
  },
  {
   "cell_type": "markdown",
   "metadata": {
    "cell_id": "d290bac2c17940bfbc0f9296beaf70e5",
    "deepnote_cell_type": "text-cell-h2",
    "formattedRanges": []
   },
   "source": [
    "## Inputs & Data"
   ]
  },
  {
   "cell_type": "code",
   "execution_count": null,
   "metadata": {
    "tags": []
   },
   "outputs": [],
   "source": [
    "EPHYS_SAMPLE_RATE = 20000"
   ]
  },
  {
   "cell_type": "markdown",
   "metadata": {
    "cell_id": "e528ce19c608425292151930d380f49f",
    "deepnote_cell_type": "text-cell-p",
    "formattedRanges": []
   },
   "source": [
    "Explanation of each input and where it comes from."
   ]
  },
  {
   "cell_type": "code",
   "execution_count": null,
   "metadata": {
    "cell_id": "6cf83a5811054461a718a71673d09aab",
    "deepnote_cell_type": "code",
    "deepnote_to_be_reexecuted": false,
    "execution_millis": 373,
    "execution_start": 1691424003628,
    "source_hash": null,
    "tags": []
   },
   "outputs": [],
   "source": [
    "# Inputs and Required data loading\n",
    "# input varaible names are in all caps snake case\n",
    "# Whenever an input changes or is used for processing \n",
    "# the vairables are all lower in snake case\n",
    "OUTPUT_DIR = r\"./proc/\" # where data is saved should always be shown in the inputs\n",
    "os.makedirs(OUTPUT_DIR, exist_ok=True)\n",
    "OUTPUT_PREFIX = \"rce_pilot_3_alone_comp\""
   ]
  },
  {
   "cell_type": "code",
   "execution_count": null,
   "metadata": {
    "tags": []
   },
   "outputs": [],
   "source": [
    "# TRIAL_LABELS_DF = pd.read_excel(\"/blue/npadillacoreano/ryoi360/projects/reward_comp/repos/reward_comp_ext/results/2024_06_26_sleap_clustering/data/rce_pilot_3_alone_comp_per_video_trial_labels.xlsx\")\n",
    "TRIALS_AND_SPECTRAL_DF = pd.read_pickle(\"./proc/rce_pilot_3_alone_comp_10_per_trial_spectral_bans_sleap.pkl\")"
   ]
  },
  {
   "cell_type": "code",
   "execution_count": null,
   "metadata": {
    "tags": []
   },
   "outputs": [],
   "source": [
    "FULL_LFP_TRACES_PKL = \"{}_12_per_cluster_spectral_bans_sleap.pkl\".format(OUTPUT_PREFIX)"
   ]
  },
  {
   "cell_type": "markdown",
   "metadata": {
    "cell_id": "e3ee4891d43a4ac287413afc552ca289",
    "deepnote_cell_type": "text-cell-h2",
    "formattedRanges": []
   },
   "source": [
    "## Outputs"
   ]
  },
  {
   "cell_type": "markdown",
   "metadata": {
    "cell_id": "9ccbf6cc70fd4d379fa29317f733771f",
    "deepnote_cell_type": "text-cell-p",
    "formattedRanges": []
   },
   "source": [
    "Describe each output that the notebook creates. "
   ]
  },
  {
   "cell_type": "markdown",
   "metadata": {
    "cell_id": "fc8e8920a6944918a15fac575cdf6e78",
    "deepnote_cell_type": "text-cell-bullet",
    "formattedRanges": []
   },
   "source": [
    "- Is it a plot or is it data?"
   ]
  },
  {
   "cell_type": "markdown",
   "metadata": {
    "cell_id": "1e639d4776a84aa9ac8ded2e14fa57db",
    "deepnote_cell_type": "text-cell-bullet",
    "formattedRanges": []
   },
   "source": [
    "- How valuable is the output and why is it valuable or useful?"
   ]
  },
  {
   "cell_type": "markdown",
   "metadata": {},
   "source": [
    "## Functions "
   ]
  },
  {
   "cell_type": "code",
   "execution_count": null,
   "metadata": {
    "tags": []
   },
   "outputs": [],
   "source": [
    "def combine_dicts(dicts):\n",
    "    \"\"\"\n",
    "    Combine lists from multiple dictionaries that share the same key.\n",
    "\n",
    "    This function takes a list of dictionaries where each dictionary's values are lists of numbers.\n",
    "    It merges these lists for each corresponding key across all dictionaries, producing a single\n",
    "    dictionary where each key has a combined list of all numbers from the input dictionaries.\n",
    "\n",
    "    Parameters:\n",
    "        dicts (list of dict): A list of dictionaries with values as lists of numbers.\n",
    "\n",
    "    Returns:\n",
    "        dict: A dictionary with keys from the input dictionaries and values as merged lists \n",
    "        of numbers from all corresponding input dictionary values.\n",
    "    \"\"\"\n",
    "    combined = defaultdict(list)\n",
    "    for dictionary in dicts:\n",
    "        for key, value in dictionary.items():\n",
    "            combined[key].extend(value)\n",
    "    \n",
    "    return dict(combined)\n",
    "\n",
    "\n",
    "# Example usage\n",
    "list_of_dicts = [\n",
    "    {'a': [1, 2], 'b': [3, 4]},\n",
    "    {'a': [5], 'b': [6, 7]},\n",
    "    {'a': [8, 9], 'c': [10]}\n",
    "]\n",
    "\n",
    "combined_dict = combine_dicts(list_of_dicts)\n",
    "print(combined_dict)"
   ]
  },
  {
   "cell_type": "code",
   "execution_count": null,
   "metadata": {
    "tags": []
   },
   "outputs": [],
   "source": [
    "def find_consecutive_ranges(numbers, min_length=1):\n",
    "    \"\"\"\n",
    "    Finds the start and end indices for consecutive ranges of each number in a list where the range meets a minimum length.\n",
    "\n",
    "    This function iterates through a list of integers and identifies ranges where the same integer appears consecutively\n",
    "    and the length of this sequence meets or exceeds the specified minimum length.\n",
    "\n",
    "    Parameters:\n",
    "        numbers (list): A list of integers to analyze for consecutive ranges.\n",
    "        min_length (int): The minimum length of a range for it to be included in the results.\n",
    "\n",
    "    Returns:\n",
    "        dict: A dictionary with integers as keys and a list of tuples (start, end) as values,\n",
    "              where each tuple represents the start and end indices (inclusive) of consecutive ranges\n",
    "              for that integer. Only ranges that meet or exceed the minimum length are included.\n",
    "    \"\"\"\n",
    "    ranges = {}\n",
    "    n = len(numbers)\n",
    "    if n == 0:\n",
    "        return ranges\n",
    "    \n",
    "    start = 0\n",
    "    current = numbers[0]\n",
    "\n",
    "    for i in range(1, n):\n",
    "        if numbers[i] != current:\n",
    "            if (i - start) >= min_length:\n",
    "                if current not in ranges:\n",
    "                    ranges[current] = []\n",
    "                ranges[current].append((start, i - 1))\n",
    "            current = numbers[i]\n",
    "            start = i\n",
    "\n",
    "    # Handle the last range\n",
    "    if (n - start) >= min_length:\n",
    "        if current not in ranges:\n",
    "            ranges[current] = []\n",
    "        ranges[current].append((start, n - 1))\n",
    "\n",
    "    return ranges\n",
    "\n",
    "# Example usage:\n",
    "numbers = [1, 1, 2, 2, 2, 3, 3, 3, 3, 2, 2, 1, 1]\n",
    "print(find_consecutive_ranges(numbers, min_length=3))"
   ]
  },
  {
   "cell_type": "code",
   "execution_count": null,
   "metadata": {
    "tags": []
   },
   "outputs": [],
   "source": [
    "def update_tuples_in_dict(original_dict, reference_list):\n",
    "    \"\"\"\n",
    "    Updates the values in the tuples within a dictionary by replacing indices with corresponding values from a reference list.\n",
    "    \n",
    "    This function iterates through each key-value pair in the original dictionary. Each value is expected to be a list of tuples,\n",
    "    where each tuple contains indices. These indices are used to fetch corresponding values from the reference list, creating new tuples.\n",
    "    \n",
    "    Parameters:\n",
    "        original_dict (dict): Dictionary whose values are lists of tuples. Each tuple consists of indices into the reference_list.\n",
    "        reference_list (list): List of elements that are referenced by the indices in the tuples of the original_dict.\n",
    "        \n",
    "    Returns:\n",
    "        dict: A dictionary with the same keys as original_dict but with tuples transformed to contain elements from reference_list\n",
    "              based on the indices in the original tuples.\n",
    "    \"\"\"\n",
    "    # Create a new dictionary to store the updated key-value pairs\n",
    "    new_dict = {}\n",
    "    for key, list_of_tuples in original_dict.items():\n",
    "        # Process each tuple in the list associated with the current key\n",
    "        updated_tuples = [\n",
    "            tuple(reference_list[idx] for idx in tup) for tup in list_of_tuples\n",
    "        ]\n",
    "        new_dict[key] = updated_tuples\n",
    "    \n",
    "    return new_dict\n",
    "\n",
    "# Example usage:\n",
    "original_dict = {\n",
    "    'a': [(0, 1), (2, 3)],\n",
    "    'b': [(1, 3), (0, 2)]\n",
    "}\n",
    "reference_list = ['alpha', 'beta', 'gamma', 'delta']\n",
    "\n",
    "updated_dict = update_tuples_in_dict(original_dict, reference_list)\n",
    "print(updated_dict)"
   ]
  },
  {
   "cell_type": "code",
   "execution_count": null,
   "metadata": {
    "tags": []
   },
   "outputs": [],
   "source": [
    "def find_indices_within_ranges(ranges_dict, values):\n",
    "    \"\"\"\n",
    "    Creates a dictionary mapping keys to sorted indices of values that fall within specified ranges.\n",
    "    \n",
    "    Parameters:\n",
    "        ranges_dict (dict): A dictionary with keys and values as lists of tuples representing ranges.\n",
    "        values (list): A list of values to check against the ranges.\n",
    "        \n",
    "    Returns:\n",
    "        dict: A dictionary where each key maps to a sorted list of indices for values within the ranges.\n",
    "    \"\"\"\n",
    "    result_dict = {}\n",
    "    for key, ranges in ranges_dict.items():\n",
    "        matched_indices = []\n",
    "        for index, value in enumerate(values):\n",
    "            if any(start <= value <= end for start, end in ranges):\n",
    "                matched_indices.append(index)\n",
    "        result_dict[key] = sorted(matched_indices)\n",
    "    return list(result_dict.items())\n",
    "\n",
    "# Example usage:\n",
    "ranges_dict = {\n",
    "    'range1': [(1, 5), (10, 15)],\n",
    "    'range2': [(0, 2), (4, 8)]\n",
    "}\n",
    "values = [0, 1, 2, 3, 4, 5, 6, 7, 8, 9, 10, 11, 12, 13, 14, 15]\n",
    "\n",
    "result = find_indices_within_ranges(ranges_dict, values)\n",
    "print(result)\n"
   ]
  },
  {
   "cell_type": "markdown",
   "metadata": {
    "cell_id": "8999d19b6b7d4d63bc90f0b0bd9ab085",
    "deepnote_cell_type": "text-cell-h2",
    "formattedRanges": []
   },
   "source": [
    "## Processing"
   ]
  },
  {
   "cell_type": "markdown",
   "metadata": {
    "cell_id": "9b36cdf08567463082b005cb0dec684b",
    "deepnote_cell_type": "text-cell-p",
    "formattedRanges": []
   },
   "source": [
    "Describe what is done to the data here and how inputs are manipulated to generate outputs. "
   ]
  },
  {
   "cell_type": "code",
   "execution_count": null,
   "metadata": {
    "cell_id": "89aaba237c644628b1b37604b75e7cb1",
    "deepnote_cell_type": "code",
    "tags": []
   },
   "outputs": [],
   "source": [
    "# As much code and as many cells as required\n",
    "# includes EDA and playing with data\n",
    "# GO HAM!\n",
    "\n",
    "# Ideally functions are defined here first and then data is processed using the functions\n",
    "\n",
    "# function names are short and in snake case all lowercase\n",
    "# a function name should be unique but does not have to describe the function\n",
    "# doc strings describe functions not function names\n",
    "\n",
    "\n"
   ]
  },
  {
   "cell_type": "markdown",
   "metadata": {},
   "source": [
    "## Renaming the trial labels"
   ]
  },
  {
   "cell_type": "code",
   "execution_count": null,
   "metadata": {
    "tags": []
   },
   "outputs": [],
   "source": [
    "TRIALS_AND_SPECTRAL_DF.head()"
   ]
  },
  {
   "cell_type": "code",
   "execution_count": null,
   "metadata": {
    "tags": []
   },
   "outputs": [],
   "source": [
    "comp_closeness_dict = {'Subj 1 blocking Subj 2': \"competitive\",\n",
    "'Subj 2 Only': \"no_comp\",\n",
    "'Subj 2 blocking Subj 1': \"competitive\",\n",
    "'Subj 1 then Subj 2': \"competitive\", \n",
    "'Subj 1 Only': \"no_comp\",\n",
    "'Subj 2 then Subj 1': \"competitive\",\n",
    "'Close Call': \"competitive\",\n",
    "'After trial': \"no_comp\"}"
   ]
  },
  {
   "cell_type": "code",
   "execution_count": null,
   "metadata": {
    "tags": []
   },
   "outputs": [],
   "source": [
    "TRIALS_AND_SPECTRAL_DF[\"current_subject\"] = TRIALS_AND_SPECTRAL_DF[\"current_subject\"].apply(lambda x: str(x).strip().lower())"
   ]
  },
  {
   "cell_type": "code",
   "execution_count": null,
   "metadata": {
    "tags": []
   },
   "outputs": [],
   "source": [
    "TRIALS_AND_SPECTRAL_DF[\"condition \"] = TRIALS_AND_SPECTRAL_DF[\"condition \"].apply(lambda x: str(x).strip().lower())"
   ]
  },
  {
   "cell_type": "code",
   "execution_count": null,
   "metadata": {
    "tags": []
   },
   "outputs": [],
   "source": [
    "TRIALS_AND_SPECTRAL_DF[\"trial_label\"] = TRIALS_AND_SPECTRAL_DF.apply(lambda x: \"win\" if x[\"current_subject\"] == x[\"condition \"]  else (\"lose\" if x[\"agent\"] == x[\"condition \"] else \"tie\"), axis=1)\n",
    "                                                                        "
   ]
  },
  {
   "cell_type": "code",
   "execution_count": null,
   "metadata": {
    "tags": []
   },
   "outputs": [],
   "source": [
    "TRIALS_AND_SPECTRAL_DF[\"competition_closeness\"] = TRIALS_AND_SPECTRAL_DF[\"competition_closeness\"].map(comp_closeness_dict)"
   ]
  },
  {
   "cell_type": "code",
   "execution_count": null,
   "metadata": {
    "tags": []
   },
   "outputs": [],
   "source": [
    "TRIALS_AND_SPECTRAL_DF[\"trial_label\"]"
   ]
  },
  {
   "cell_type": "markdown",
   "metadata": {},
   "source": [
    "## Getting the ranges of each cluster"
   ]
  },
  {
   "cell_type": "markdown",
   "metadata": {},
   "source": [
    "- Getting the index range"
   ]
  },
  {
   "cell_type": "code",
   "execution_count": null,
   "metadata": {
    "tags": []
   },
   "outputs": [],
   "source": [
    "list(TRIALS_AND_SPECTRAL_DF.columns)"
   ]
  },
  {
   "cell_type": "code",
   "execution_count": null,
   "metadata": {
    "tags": []
   },
   "outputs": [],
   "source": [
    "TRIALS_AND_SPECTRAL_DF[\"cluster_index_ranges_dict\"] = TRIALS_AND_SPECTRAL_DF[\"trial_and_post_kmeans_cluster\"].apply(lambda x: find_consecutive_ranges(x, min_length=20))\n"
   ]
  },
  {
   "cell_type": "code",
   "execution_count": null,
   "metadata": {
    "tags": []
   },
   "outputs": [],
   "source": [
    "TRIALS_AND_SPECTRAL_DF[\"cluster_index_ranges_dict\"].iloc[0]"
   ]
  },
  {
   "cell_type": "code",
   "execution_count": null,
   "metadata": {
    "tags": []
   },
   "outputs": [],
   "source": [
    "TRIALS_AND_SPECTRAL_DF.head()"
   ]
  },
  {
   "cell_type": "code",
   "execution_count": null,
   "metadata": {
    "tags": []
   },
   "outputs": [],
   "source": [
    "TRIALS_AND_SPECTRAL_DF[\"cluster_timestamp\"] = TRIALS_AND_SPECTRAL_DF.apply(lambda x: x[\"video_timestamps\"][x[\"trial_and_post_frame_index\"]], axis=1)\n"
   ]
  },
  {
   "cell_type": "markdown",
   "metadata": {},
   "source": [
    "- Calculating the times in milliseconds of each cluster frame"
   ]
  },
  {
   "cell_type": "code",
   "execution_count": null,
   "metadata": {},
   "outputs": [],
   "source": []
  },
  {
   "cell_type": "code",
   "execution_count": null,
   "metadata": {
    "tags": []
   },
   "outputs": [],
   "source": [
    "TRIALS_AND_SPECTRAL_DF[\"cluster_times\"] = TRIALS_AND_SPECTRAL_DF.apply(lambda x: (np.array(x[\"cluster_timestamp\"]) - x[\"first_timestamp\"]) // 20, axis=1)\n"
   ]
  },
  {
   "cell_type": "markdown",
   "metadata": {},
   "source": [
    "- Updating the index to use cluster times and timestamps based on video frame timestamps list"
   ]
  },
  {
   "cell_type": "code",
   "execution_count": null,
   "metadata": {
    "tags": []
   },
   "outputs": [],
   "source": [
    "TRIALS_AND_SPECTRAL_DF[\"cluster_times_ranges_dict\"] = TRIALS_AND_SPECTRAL_DF.apply(lambda x: update_tuples_in_dict(x[\"cluster_index_ranges_dict\"], x[\"cluster_times\"]), axis=1)"
   ]
  },
  {
   "cell_type": "code",
   "execution_count": null,
   "metadata": {
    "tags": []
   },
   "outputs": [],
   "source": [
    "TRIALS_AND_SPECTRAL_DF[\"cluster_timestamps_ranges_dict\"] = TRIALS_AND_SPECTRAL_DF.apply(lambda x: update_tuples_in_dict(x[\"cluster_index_ranges_dict\"], x[\"cluster_timestamp\"]), axis=1)"
   ]
  },
  {
   "cell_type": "markdown",
   "metadata": {},
   "source": [
    "- Combining the win and loss label with the cluster"
   ]
  },
  {
   "cell_type": "code",
   "execution_count": null,
   "metadata": {
    "tags": []
   },
   "outputs": [],
   "source": [
    "TRIALS_AND_SPECTRAL_DF[\"trial_cluster_times_ranges_dict\"] = TRIALS_AND_SPECTRAL_DF.apply(lambda x: {\"{}_{}\".format(x[\"trial_label\"], k): v for k, v in x[\"cluster_times_ranges_dict\"].items()}, axis=1)\n"
   ]
  },
  {
   "cell_type": "code",
   "execution_count": null,
   "metadata": {
    "tags": []
   },
   "outputs": [],
   "source": [
    "TRIALS_AND_SPECTRAL_DF[\"trial_cluster_timestamps_ranges_dict\"] = TRIALS_AND_SPECTRAL_DF.apply(lambda x: {\"{}_{}\".format(x[\"trial_label\"], k): v for k, v in x[\"cluster_timestamps_ranges_dict\"].items()}, axis=1)\n"
   ]
  },
  {
   "cell_type": "code",
   "execution_count": null,
   "metadata": {},
   "outputs": [],
   "source": [
    "TRIALS_AND_SPECTRAL_DF[\"trial_cluster_timestamps_ranges_dict\"].iloc[0]"
   ]
  },
  {
   "cell_type": "code",
   "execution_count": null,
   "metadata": {},
   "outputs": [],
   "source": []
  },
  {
   "cell_type": "code",
   "execution_count": null,
   "metadata": {
    "tags": []
   },
   "outputs": [],
   "source": [
    "TRIALS_AND_SPECTRAL_DF.columns"
   ]
  },
  {
   "cell_type": "code",
   "execution_count": null,
   "metadata": {
    "tags": []
   },
   "outputs": [],
   "source": [
    "TRIALS_AND_SPECTRAL_DF[\"trial_and_post_coherence_timestamps\"].iloc[0]"
   ]
  },
  {
   "cell_type": "code",
   "execution_count": null,
   "metadata": {
    "tags": []
   },
   "outputs": [],
   "source": [
    "timestamps_col = [col for col in TRIALS_AND_SPECTRAL_DF.columns if \"timestamps\" in col and \"trial_and_post\" in col and \"video\" not in col]"
   ]
  },
  {
   "cell_type": "code",
   "execution_count": null,
   "metadata": {
    "tags": []
   },
   "outputs": [],
   "source": [
    "timestamps_col"
   ]
  },
  {
   "cell_type": "code",
   "execution_count": null,
   "metadata": {
    "tags": []
   },
   "outputs": [],
   "source": [
    "for col in timestamps_col:\n",
    "    base_col = col.replace(\"trial_and_post_\", \"\")\n",
    "    TRIALS_AND_SPECTRAL_DF[\"cluster_filtered_{}\".format(base_col)] = TRIALS_AND_SPECTRAL_DF.apply(lambda x: find_indices_within_ranges(x[\"trial_cluster_timestamps_ranges_dict\"], x[col]), axis=1)"
   ]
  },
  {
   "cell_type": "code",
   "execution_count": null,
   "metadata": {
    "tags": []
   },
   "outputs": [],
   "source": [
    "TRIALS_AND_SPECTRAL_DF = TRIALS_AND_SPECTRAL_DF[TRIALS_AND_SPECTRAL_DF[\"cluster_filtered_power_timestamps\"].apply(lambda x: len(x)) >= 1] "
   ]
  },
  {
   "cell_type": "code",
   "execution_count": null,
   "metadata": {},
   "outputs": [],
   "source": [
    "raise ValueError()"
   ]
  },
  {
   "cell_type": "code",
   "execution_count": null,
   "metadata": {
    "tags": []
   },
   "outputs": [],
   "source": [
    "power_exploded_TRIALS_AND_SPECTRAL_DF = TRIALS_AND_SPECTRAL_DF.explode([\"cluster_filtered_power_timestamps\"])"
   ]
  },
  {
   "cell_type": "code",
   "execution_count": null,
   "metadata": {
    "tags": []
   },
   "outputs": [],
   "source": [
    "power_exploded_TRIALS_AND_SPECTRAL_DF[\"cluster_filtered_power_timestamps\"]"
   ]
  },
  {
   "cell_type": "code",
   "execution_count": null,
   "metadata": {
    "tags": []
   },
   "outputs": [],
   "source": [
    "power_exploded_TRIALS_AND_SPECTRAL_DF[\"power_cluster_id\"] = power_exploded_TRIALS_AND_SPECTRAL_DF[\"cluster_filtered_power_timestamps\"].apply(lambda x: x[0])\n",
    "power_exploded_TRIALS_AND_SPECTRAL_DF[\"power_cluster_indexes\"] = power_exploded_TRIALS_AND_SPECTRAL_DF[\"cluster_filtered_power_timestamps\"].apply(lambda x: x[1])"
   ]
  },
  {
   "cell_type": "code",
   "execution_count": null,
   "metadata": {
    "tags": []
   },
   "outputs": [],
   "source": [
    "power_columns = [col for col in power_exploded_TRIALS_AND_SPECTRAL_DF if \"power\" in col and \"trial_and_post\" in col and \"timestamps\" not in col]"
   ]
  },
  {
   "cell_type": "code",
   "execution_count": null,
   "metadata": {
    "tags": []
   },
   "outputs": [],
   "source": [
    "power_columns"
   ]
  },
  {
   "cell_type": "code",
   "execution_count": null,
   "metadata": {
    "tags": []
   },
   "outputs": [],
   "source": [
    "for col in power_columns:\n",
    "    power_exploded_TRIALS_AND_SPECTRAL_DF[\"cluster_all_{}\".format(col)] = power_exploded_TRIALS_AND_SPECTRAL_DF.apply(lambda x: x[col][x[\"power_cluster_indexes\"]], axis=1)"
   ]
  },
  {
   "cell_type": "code",
   "execution_count": null,
   "metadata": {
    "tags": []
   },
   "outputs": [],
   "source": [
    "cluster_all_columns = [col for col in power_exploded_TRIALS_AND_SPECTRAL_DF if \"cluster_all\" in col]"
   ]
  },
  {
   "cell_type": "code",
   "execution_count": null,
   "metadata": {
    "tags": []
   },
   "outputs": [],
   "source": [
    "cluster_all_columns"
   ]
  },
  {
   "cell_type": "code",
   "execution_count": null,
   "metadata": {
    "tags": []
   },
   "outputs": [],
   "source": [
    "len(power_exploded_TRIALS_AND_SPECTRAL_DF[\"power_cluster_indexes\"].iloc[0])"
   ]
  },
  {
   "cell_type": "code",
   "execution_count": null,
   "metadata": {
    "tags": []
   },
   "outputs": [],
   "source": [
    "for col in cluster_all_columns:\n",
    "    updated_column = col.replace(\"cluster_all\", \"cluster_mean\")\n",
    "    if \"gamma\" in col or \"theta\" in col:\n",
    "        power_exploded_TRIALS_AND_SPECTRAL_DF[updated_column] = power_exploded_TRIALS_AND_SPECTRAL_DF.apply(lambda x: np.nanmean(x[col]), axis=1)\n",
    "    else:\n",
    "        power_exploded_TRIALS_AND_SPECTRAL_DF[updated_column] = power_exploded_TRIALS_AND_SPECTRAL_DF.apply(lambda x: np.nanmean(x[col], axis=0), axis=1)\n",
    "    print(updated_column)\n",
    "    print(power_exploded_TRIALS_AND_SPECTRAL_DF[updated_column].iloc[0])\n",
    "        "
   ]
  },
  {
   "cell_type": "code",
   "execution_count": null,
   "metadata": {
    "tags": []
   },
   "outputs": [],
   "source": [
    "cluster_mean_columns = [col for col in power_exploded_TRIALS_AND_SPECTRAL_DF if \"cluster_mean\" in col]"
   ]
  },
  {
   "cell_type": "code",
   "execution_count": null,
   "metadata": {
    "tags": []
   },
   "outputs": [],
   "source": [
    "cluster_mean_columns"
   ]
  },
  {
   "cell_type": "code",
   "execution_count": null,
   "metadata": {
    "tags": []
   },
   "outputs": [],
   "source": [
    "power_exploded_TRIALS_AND_SPECTRAL_DF[\"cluster_mean_trial_and_post_BLA_RMS_filtered_power_all_frequencies_all_windows\"].iloc[0].shape"
   ]
  },
  {
   "cell_type": "code",
   "execution_count": null,
   "metadata": {
    "tags": []
   },
   "outputs": [],
   "source": [
    "list(power_exploded_TRIALS_AND_SPECTRAL_DF.columns)"
   ]
  },
  {
   "cell_type": "code",
   "execution_count": null,
   "metadata": {
    "tags": []
   },
   "outputs": [],
   "source": [
    "for col in cluster_mean_columns:\n",
    "    if \"all_frequencies\" in col:\n",
    "        continue\n",
    "    grouped_power_exploded_TRIALS_AND_SPECTRAL_DF = power_exploded_TRIALS_AND_SPECTRAL_DF.groupby('power_cluster_id')[col].mean()\n",
    "    fig, ax = plt.subplots()\n",
    "    plt.bar(grouped_power_exploded_TRIALS_AND_SPECTRAL_DF.index, grouped_power_exploded_TRIALS_AND_SPECTRAL_DF.values)\n",
    "    plt.title(col.replace(\"cluster_mean_trial_and_post_\", \"\").replace(\"RMS_filtered_\", \"\"))\n",
    "    plt.show()\n",
    "    break"
   ]
  },
  {
   "cell_type": "code",
   "execution_count": null,
   "metadata": {
    "tags": []
   },
   "outputs": [],
   "source": []
  },
  {
   "cell_type": "code",
   "execution_count": null,
   "metadata": {
    "tags": []
   },
   "outputs": [],
   "source": [
    "grouped_power_exploded_TRIALS_AND_SPECTRAL_DF.index"
   ]
  },
  {
   "cell_type": "code",
   "execution_count": null,
   "metadata": {
    "tags": []
   },
   "outputs": [],
   "source": [
    "grouped_power_exploded_TRIALS_AND_SPECTRAL_DF.values"
   ]
  },
  {
   "cell_type": "code",
   "execution_count": null,
   "metadata": {
    "tags": []
   },
   "outputs": [],
   "source": [
    "plt.bar(grouped_power_exploded_TRIALS_AND_SPECTRAL_DF)"
   ]
  },
  {
   "cell_type": "code",
   "execution_count": null,
   "metadata": {},
   "outputs": [],
   "source": [
    "power_exploded_TRIALS_AND_SPECTRAL_DF"
   ]
  },
  {
   "cell_type": "code",
   "execution_count": null,
   "metadata": {},
   "outputs": [],
   "source": [
    "power_exploded_TRIALS_AND_SPECTRAL_DF"
   ]
  },
  {
   "cell_type": "code",
   "execution_count": null,
   "metadata": {
    "tags": []
   },
   "outputs": [],
   "source": [
    "raise ValueError()"
   ]
  },
  {
   "cell_type": "code",
   "execution_count": null,
   "metadata": {},
   "outputs": [],
   "source": []
  },
  {
   "cell_type": "code",
   "execution_count": null,
   "metadata": {},
   "outputs": [],
   "source": []
  },
  {
   "cell_type": "code",
   "execution_count": null,
   "metadata": {},
   "outputs": [],
   "source": []
  },
  {
   "cell_type": "code",
   "execution_count": null,
   "metadata": {},
   "outputs": [],
   "source": []
  },
  {
   "cell_type": "code",
   "execution_count": null,
   "metadata": {},
   "outputs": [],
   "source": []
  },
  {
   "cell_type": "markdown",
   "metadata": {},
   "source": [
    "- Grouping all the rows with the same video and subject together"
   ]
  },
  {
   "cell_type": "code",
   "execution_count": null,
   "metadata": {
    "tags": []
   },
   "outputs": [],
   "source": [
    "list(TRIALS_AND_SPECTRAL_DF.columns)"
   ]
  },
  {
   "cell_type": "code",
   "execution_count": null,
   "metadata": {
    "tags": []
   },
   "outputs": [],
   "source": [
    "explode_columns"
   ]
  },
  {
   "cell_type": "code",
   "execution_count": null,
   "metadata": {
    "tags": []
   },
   "outputs": [],
   "source": [
    "other_explode_columns = [\"tone_stop_frame\",\n",
    "                         \"condition \",\n",
    "                         \"competition_closeness\",\n",
    "                         \"notes\",\n",
    "                         \"10s_before_tone_frame\",\n",
    "                         \"10s_after_tone_frame\",\n",
    "                        'cluster_index_ranges_dict',\n",
    " 'cluster_times',\n",
    " 'cluster_times_ranges_dict',\n",
    " 'cluster_timestamps_ranges_dict',\n",
    " 'trial_cluster_times_ranges_dict',\n",
    " 'trial_cluster_timestamps_ranges_dict']"
   ]
  },
  {
   "cell_type": "code",
   "execution_count": null,
   "metadata": {
    "tags": []
   },
   "outputs": [],
   "source": [
    "filter_columns"
   ]
  },
  {
   "cell_type": "code",
   "execution_count": null,
   "metadata": {
    "tags": []
   },
   "outputs": [],
   "source": [
    "# Define columns to be transformed into numpy arrays\n",
    "\n",
    "\n",
    "# Define aggregation dictionary\n",
    "agg_dict = {col: list for col in explode_columns + other_explode_columns if col not in groupby_columns and col != \"tone_start_frame\"}\n",
    "\n",
    "agg_dict.update({col: 'first' for col in filter_columns + [\"tone_start_frame\"] if col not in groupby_columns and col not in other_explode_columns})\n",
    "\n",
    "# Apply groupby and aggregation\n",
    "video_TRIALS_AND_SPECTRAL_DF = TRIALS_AND_SPECTRAL_DF.groupby([\"video_name\", \"current_subject\"]).agg(agg_dict).reset_index()\n"
   ]
  },
  {
   "cell_type": "code",
   "execution_count": null,
   "metadata": {
    "tags": []
   },
   "outputs": [],
   "source": [
    "video_TRIALS_AND_SPECTRAL_DF.columns"
   ]
  },
  {
   "cell_type": "code",
   "execution_count": null,
   "metadata": {
    "tags": []
   },
   "outputs": [],
   "source": [
    "video_TRIALS_AND_SPECTRAL_DF.head()"
   ]
  },
  {
   "cell_type": "markdown",
   "metadata": {},
   "source": [
    "- Combining all the dictionaries together"
   ]
  },
  {
   "cell_type": "code",
   "execution_count": null,
   "metadata": {},
   "outputs": [],
   "source": []
  },
  {
   "cell_type": "code",
   "execution_count": null,
   "metadata": {
    "tags": []
   },
   "outputs": [],
   "source": [
    "for col in [_ for _ in video_TRIALS_AND_SPECTRAL_DF if \"dict\" in _]:\n",
    "    video_TRIALS_AND_SPECTRAL_DF[col] = video_TRIALS_AND_SPECTRAL_DF[col].apply(lambda x: combine_dicts(x))"
   ]
  },
  {
   "cell_type": "code",
   "execution_count": null,
   "metadata": {
    "tags": []
   },
   "outputs": [],
   "source": [
    "video_TRIALS_AND_SPECTRAL_DF.head()"
   ]
  },
  {
   "cell_type": "code",
   "execution_count": null,
   "metadata": {
    "tags": []
   },
   "outputs": [],
   "source": [
    "video_TRIALS_AND_SPECTRAL_DF.to_pickle(\"./proc/{}_cluster_ranges.pkl\".format(OUTPUT_PREFIX))"
   ]
  },
  {
   "cell_type": "code",
   "execution_count": null,
   "metadata": {},
   "outputs": [],
   "source": []
  },
  {
   "cell_type": "markdown",
   "metadata": {},
   "source": [
    "# Filtering out the SLEAP posed for during trials"
   ]
  },
  {
   "cell_type": "code",
   "execution_count": null,
   "metadata": {},
   "outputs": [],
   "source": [
    "raise ValueError()"
   ]
  },
  {
   "cell_type": "code",
   "execution_count": null,
   "metadata": {},
   "outputs": [],
   "source": [
    "TRIALS_AND_SPECTRAL_DF"
   ]
  },
  {
   "cell_type": "code",
   "execution_count": null,
   "metadata": {},
   "outputs": [],
   "source": []
  },
  {
   "cell_type": "code",
   "execution_count": null,
   "metadata": {},
   "outputs": [],
   "source": []
  },
  {
   "cell_type": "code",
   "execution_count": null,
   "metadata": {},
   "outputs": [],
   "source": []
  },
  {
   "cell_type": "code",
   "execution_count": null,
   "metadata": {},
   "outputs": [],
   "source": []
  },
  {
   "cell_type": "code",
   "execution_count": null,
   "metadata": {},
   "outputs": [],
   "source": []
  },
  {
   "cell_type": "code",
   "execution_count": null,
   "metadata": {
    "tags": []
   },
   "outputs": [],
   "source": [
    "TRIALS_AND_SPECTRAL_DF[\"video_frame\"] = TRIALS_AND_SPECTRAL_DF[\"video_timestamps\"].apply(lambda x: np.array(list(range(len(x)))) + 1)"
   ]
  },
  {
   "cell_type": "code",
   "execution_count": null,
   "metadata": {
    "tags": []
   },
   "outputs": [],
   "source": [
    "TRIALS_AND_SPECTRAL_DF[\"video_frame\"].head().apply(lambda x: x.shape)"
   ]
  },
  {
   "cell_type": "code",
   "execution_count": null,
   "metadata": {},
   "outputs": [],
   "source": [
    "['subject_thorax_to_agent_thorax',\n",
    " 'nose_to_reward_port_sum',\n",
    " 'nose_to_reward_port_diff',\n",
    " 'thorax_velocity_sum',\n",
    " 'thorax_velocity_diff',\n",
    " 'to_reward_port_angle_sum',\n",
    " 'to_reward_port_angle_diff',\n",
    " 'subject_nose_to_reward_port',\n",
    " 'subject_thorax_velocity',\n",
    " 'subject_to_reward_port_angle',\n",
    " 'agent_nose_to_reward_port',\n",
    " 'agent_thorax_velocity',\n",
    " 'agent_to_reward_port_angle',\n",
    " 'closebool_subject_nose_to_reward_port',\n",
    " 'closebool_agent_nose_to_reward_port',\n",
    " 'movingbool_subject_thorax_velocity',\n",
    " 'movingbool_agent_thorax_velocity',\n",
    " 'manual_cluster_id',\n",
    " 'standard_embedding_x',\n",
    " 'standard_embedding_y',\n",
    " 'kmeans_cluster',\n",
    " 'subject_locations',\n",
    " 'agent_locations',\n",
    " 'subject_thorax',\n",
    " 'subject_nose',\n",
    " 'subject_tail_base',\n",
    " 'agent_thorax',\n",
    " 'agent_nose',\n",
    " 'agent_tail_base']"
   ]
  },
  {
   "cell_type": "code",
   "execution_count": null,
   "metadata": {
    "tags": []
   },
   "outputs": [],
   "source": [
    "# sleap_columns = [col for col in TRIALS_AND_SPECTRAL_DF.columns if \"locations\" in col or \"velocity\" in col or \"to_reward_port\" in col or \"video_frame\" in col]"
   ]
  },
  {
   "cell_type": "code",
   "execution_count": null,
   "metadata": {
    "tags": []
   },
   "outputs": [],
   "source": [
    "sleap_columns = [col for col in TRIALS_AND_SPECTRAL_DF.columns if (\"thorax\" in col or \"nose\" in col or \"reward_port\" in col or \"standard_embedding\" in col or \"cluster\" in col or \"frame_index\" in col or \"locations\" in col or \"tailbase\" in col) and \"timestamp\" not in col]\n"
   ]
  },
  {
   "cell_type": "code",
   "execution_count": null,
   "metadata": {
    "tags": []
   },
   "outputs": [],
   "source": [
    "sleap_columns"
   ]
  },
  {
   "cell_type": "code",
   "execution_count": null,
   "metadata": {
    "tags": []
   },
   "outputs": [],
   "source": [
    "for col in sleap_columns:\n",
    "    print(col)\n",
    "    print(TRIALS_AND_SPECTRAL_DF[col].apply(lambda x: x.shape).iloc[0])"
   ]
  },
  {
   "cell_type": "code",
   "execution_count": null,
   "metadata": {
    "tags": []
   },
   "outputs": [],
   "source": [
    "for col in sorted(sleap_columns):\n",
    "    updated_item_col = \"trial_and_post_{}\".format(col)\n",
    "    print(updated_item_col)\n",
    "    updated_timestamp_col = \"trial_and_post_video_timestamps\"\n",
    "    TRIALS_AND_SPECTRAL_DF[updated_item_col] = TRIALS_AND_SPECTRAL_DF.apply(lambda x: utilities.helper.filter_by_timestamp_range(start=x[\"tone_start_timestamp\"], stop=x[\"post_trial_end_timestamp\"], timestamps=x[\"cluster_timestamp\"], items=x[col])[1], axis=1)\n",
    "\n",
    "TRIALS_AND_SPECTRAL_DF[updated_timestamp_col] = TRIALS_AND_SPECTRAL_DF.apply(lambda x: utilities.helper.filter_by_timestamp_range(start=x[\"tone_start_timestamp\"], stop=x[\"post_trial_end_timestamp\"], timestamps=x[\"cluster_timestamp\"], items=x[col])[0], axis=1)"
   ]
  },
  {
   "cell_type": "code",
   "execution_count": null,
   "metadata": {
    "tags": []
   },
   "outputs": [],
   "source": [
    "TRIALS_AND_SPECTRAL_DF.head()"
   ]
  },
  {
   "cell_type": "code",
   "execution_count": null,
   "metadata": {
    "tags": []
   },
   "outputs": [],
   "source": [
    "TRIALS_AND_SPECTRAL_DF[\"trial_and_post_frame_index\"].iloc[0].shape"
   ]
  },
  {
   "cell_type": "code",
   "execution_count": null,
   "metadata": {
    "tags": []
   },
   "outputs": [],
   "source": [
    "TRIALS_AND_SPECTRAL_DF = TRIALS_AND_SPECTRAL_DF.drop(columns=sleap_columns + [\"cluster_timestamp\"], errors=\"ignore\")"
   ]
  },
  {
   "cell_type": "code",
   "execution_count": null,
   "metadata": {
    "tags": []
   },
   "outputs": [],
   "source": [
    "for col in TRIALS_AND_SPECTRAL_DF.columns:\n",
    "    print(col)"
   ]
  },
  {
   "cell_type": "markdown",
   "metadata": {},
   "source": [
    "- Filtering coherence"
   ]
  },
  {
   "cell_type": "code",
   "execution_count": null,
   "metadata": {
    "tags": []
   },
   "outputs": [],
   "source": [
    "coherence_columns = [col for col in TRIALS_AND_SPECTRAL_DF.columns if \"coherence\" in col and \"timestamps\" not in col and \"calculation\" not in col]"
   ]
  },
  {
   "cell_type": "code",
   "execution_count": null,
   "metadata": {
    "tags": []
   },
   "outputs": [],
   "source": [
    "coherence_columns"
   ]
  },
  {
   "cell_type": "code",
   "execution_count": null,
   "metadata": {
    "tags": []
   },
   "outputs": [],
   "source": [
    "for col in sorted(coherence_columns):\n",
    "    updated_item_col = \"trial_and_post_{}\".format(col)\n",
    "    print(updated_item_col)\n",
    "    updated_timestamp_col = \"trial_and_post_coherence_timestamps\"\n",
    "    TRIALS_AND_SPECTRAL_DF[updated_item_col] = TRIALS_AND_SPECTRAL_DF.apply(lambda x: utilities.helper.filter_by_timestamp_range(start=x[\"tone_start_timestamp\"], stop=x[\"post_trial_end_timestamp\"], timestamps=x[\"coherence_timestamps\"], items=x[col])[1], axis=1)\n",
    "\n",
    "TRIALS_AND_SPECTRAL_DF[updated_timestamp_col] = TRIALS_AND_SPECTRAL_DF.apply(lambda x: utilities.helper.filter_by_timestamp_range(start=x[\"tone_start_timestamp\"], stop=x[\"post_trial_end_timestamp\"], timestamps=x[\"coherence_timestamps\"], items=x[col])[0], axis=1)"
   ]
  },
  {
   "cell_type": "code",
   "execution_count": null,
   "metadata": {
    "tags": []
   },
   "outputs": [],
   "source": [
    "TRIALS_AND_SPECTRAL_DF = TRIALS_AND_SPECTRAL_DF.drop(columns=coherence_columns + [\"coherence_timestamps\"], errors=\"ignore\")"
   ]
  },
  {
   "cell_type": "markdown",
   "metadata": {},
   "source": [
    "- Filtering Grangers"
   ]
  },
  {
   "cell_type": "code",
   "execution_count": null,
   "metadata": {
    "tags": []
   },
   "outputs": [],
   "source": [
    "granger_columns = [col for col in TRIALS_AND_SPECTRAL_DF.columns if \"granger\" in col and \"timestamps\" not in col and \"calculation\" not in col]"
   ]
  },
  {
   "cell_type": "code",
   "execution_count": null,
   "metadata": {
    "tags": []
   },
   "outputs": [],
   "source": [
    "granger_columns"
   ]
  },
  {
   "cell_type": "code",
   "execution_count": null,
   "metadata": {
    "tags": []
   },
   "outputs": [],
   "source": [
    "for col in sorted(granger_columns):\n",
    "    updated_item_col = \"trial_and_post_{}\".format(col)\n",
    "    print(updated_item_col)\n",
    "    updated_timestamp_col = \"trial_and_post_granger_timestamps\"\n",
    "    TRIALS_AND_SPECTRAL_DF[updated_item_col] = TRIALS_AND_SPECTRAL_DF.apply(lambda x: utilities.helper.filter_by_timestamp_range(start=x[\"tone_start_timestamp\"], stop=x[\"post_trial_end_timestamp\"], timestamps=x[\"granger_timestamps\"], items=x[col])[1], axis=1)\n",
    "\n",
    "TRIALS_AND_SPECTRAL_DF[updated_timestamp_col] = TRIALS_AND_SPECTRAL_DF.apply(lambda x: utilities.helper.filter_by_timestamp_range(start=x[\"tone_start_timestamp\"], stop=x[\"post_trial_end_timestamp\"], timestamps=x[\"granger_timestamps\"], items=x[col])[0], axis=1)"
   ]
  },
  {
   "cell_type": "code",
   "execution_count": null,
   "metadata": {
    "tags": []
   },
   "outputs": [],
   "source": [
    "TRIALS_AND_SPECTRAL_DF = TRIALS_AND_SPECTRAL_DF.drop(columns=granger_columns + [\"granger_timestamps\"], errors=\"ignore\")"
   ]
  },
  {
   "cell_type": "code",
   "execution_count": null,
   "metadata": {},
   "outputs": [],
   "source": [
    "TRIALS_AND_SPECTRAL_DF.to_pickle(os.path.join(OUTPUT_DIR, FULL_LFP_TRACES_PKL))"
   ]
  },
  {
   "cell_type": "markdown",
   "metadata": {},
   "source": [
    "- Filtering power"
   ]
  },
  {
   "cell_type": "code",
   "execution_count": null,
   "metadata": {},
   "outputs": [],
   "source": [
    "TRIALS_AND_SPECTRAL_DF.head()"
   ]
  },
  {
   "cell_type": "code",
   "execution_count": null,
   "metadata": {
    "tags": []
   },
   "outputs": [],
   "source": [
    "power_columns = [col for col in TRIALS_AND_SPECTRAL_DF.columns if \"power\" in col and \"timestamps\" not in col and \"calculation\" not in col]"
   ]
  },
  {
   "cell_type": "code",
   "execution_count": null,
   "metadata": {
    "tags": []
   },
   "outputs": [],
   "source": [
    "power_columns"
   ]
  },
  {
   "cell_type": "code",
   "execution_count": null,
   "metadata": {
    "tags": []
   },
   "outputs": [],
   "source": [
    "for col in sorted(power_columns):\n",
    "    updated_item_col = \"trial_and_post_{}\".format(col)\n",
    "    print(updated_item_col)\n",
    "    updated_timestamp_col = \"trial_and_post_power_timestamps\"\n",
    "    TRIALS_AND_SPECTRAL_DF[updated_item_col] = TRIALS_AND_SPECTRAL_DF.apply(lambda x: utilities.helper.filter_by_timestamp_range(start=x[\"tone_start_timestamp\"], stop=x[\"post_trial_end_timestamp\"], timestamps=x[\"power_timestamps\"], items=x[col])[1], axis=1)\n",
    "\n",
    "TRIALS_AND_SPECTRAL_DF[updated_timestamp_col] = TRIALS_AND_SPECTRAL_DF.apply(lambda x: utilities.helper.filter_by_timestamp_range(start=x[\"tone_start_timestamp\"], stop=x[\"post_trial_end_timestamp\"], timestamps=x[\"power_timestamps\"], items=x[col])[0], axis=1)\n"
   ]
  },
  {
   "cell_type": "code",
   "execution_count": null,
   "metadata": {
    "tags": []
   },
   "outputs": [],
   "source": [
    "TRIALS_AND_SPECTRAL_DF = TRIALS_AND_SPECTRAL_DF.drop(columns=power_columns + [\"power_timestamps\"], errors=\"ignore\")"
   ]
  },
  {
   "cell_type": "code",
   "execution_count": null,
   "metadata": {
    "tags": []
   },
   "outputs": [],
   "source": [
    "for col in TRIALS_AND_SPECTRAL_DF:\n",
    "    print(col)"
   ]
  },
  {
   "cell_type": "markdown",
   "metadata": {
    "tags": []
   },
   "source": [
    "# Filtering out phase"
   ]
  },
  {
   "cell_type": "code",
   "execution_count": null,
   "metadata": {
    "tags": []
   },
   "outputs": [],
   "source": [
    "lfp_columns = [col for col in TRIALS_AND_SPECTRAL_DF.columns if \"trace\" in col and \"timestamps\" not in col and \"calculation\" not in col]"
   ]
  },
  {
   "cell_type": "code",
   "execution_count": null,
   "metadata": {
    "tags": []
   },
   "outputs": [],
   "source": [
    "band_columns = [col for col in TRIALS_AND_SPECTRAL_DF.columns if \"band\" in col and \"timestamps\" not in col and \"calculation\" not in col]"
   ]
  },
  {
   "cell_type": "code",
   "execution_count": null,
   "metadata": {
    "tags": []
   },
   "outputs": [],
   "source": [
    "phase_columns = [col for col in TRIALS_AND_SPECTRAL_DF.columns if \"phase\" in col and \"timestamps\" not in col and \"calculation\" not in col]"
   ]
  },
  {
   "cell_type": "code",
   "execution_count": null,
   "metadata": {
    "tags": []
   },
   "outputs": [],
   "source": [
    "phase_columns = phase_columns + band_columns +lfp_columns"
   ]
  },
  {
   "cell_type": "code",
   "execution_count": null,
   "metadata": {
    "tags": []
   },
   "outputs": [],
   "source": [
    "phase_columns"
   ]
  },
  {
   "cell_type": "code",
   "execution_count": null,
   "metadata": {
    "tags": []
   },
   "outputs": [],
   "source": [
    "for col in sorted(phase_columns):\n",
    "    updated_item_col = \"trial_and_post_{}\".format(col)\n",
    "    print(updated_item_col)\n",
    "    updated_timestamp_col = \"trial_and_post_lfp_timestamps\"\n",
    "    TRIALS_AND_SPECTRAL_DF[updated_item_col] = TRIALS_AND_SPECTRAL_DF.apply(lambda x: utilities.helper.filter_by_timestamp_range(start=x[\"tone_start_timestamp\"], stop=x[\"post_trial_end_timestamp\"], timestamps=x[\"lfp_timestamps\"], items=x[col])[1], axis=1)\n",
    "\n",
    "TRIALS_AND_SPECTRAL_DF[updated_timestamp_col] = TRIALS_AND_SPECTRAL_DF.apply(lambda x: utilities.helper.filter_by_timestamp_range(start=x[\"tone_start_timestamp\"], stop=x[\"post_trial_end_timestamp\"], timestamps=x[\"lfp_timestamps\"], items=x[col])[0], axis=1)\n"
   ]
  },
  {
   "cell_type": "code",
   "execution_count": null,
   "metadata": {
    "tags": []
   },
   "outputs": [],
   "source": []
  },
  {
   "cell_type": "code",
   "execution_count": null,
   "metadata": {
    "tags": []
   },
   "outputs": [],
   "source": [
    "TRIALS_AND_SPECTRAL_DF[\"trial_and_post_lfp_timestamps\"]"
   ]
  },
  {
   "cell_type": "code",
   "execution_count": null,
   "metadata": {
    "tags": []
   },
   "outputs": [],
   "source": [
    "TRIALS_AND_SPECTRAL_DF = TRIALS_AND_SPECTRAL_DF.drop(columns=phase_columns + [\"lfp_timestamps\"], errors=\"ignore\")"
   ]
  },
  {
   "cell_type": "code",
   "execution_count": null,
   "metadata": {
    "tags": []
   },
   "outputs": [],
   "source": [
    "TRIALS_AND_SPECTRAL_DF.to_pickle(os.path.join(OUTPUT_DIR, FULL_LFP_TRACES_PKL))"
   ]
  },
  {
   "cell_type": "code",
   "execution_count": null,
   "metadata": {
    "tags": []
   },
   "outputs": [],
   "source": [
    "for col in TRIALS_AND_SPECTRAL_DF:\n",
    "    print(col)"
   ]
  },
  {
   "cell_type": "code",
   "execution_count": null,
   "metadata": {
    "tags": []
   },
   "outputs": [],
   "source": [
    "TRIALS_AND_SPECTRAL_DF[\"trial_and_post_kmeans_cluster\"].iloc[0].shape"
   ]
  },
  {
   "cell_type": "code",
   "execution_count": null,
   "metadata": {},
   "outputs": [],
   "source": [
    "raise ValueError()"
   ]
  },
  {
   "cell_type": "markdown",
   "metadata": {},
   "source": [
    "# Filtering for rows that are in the video"
   ]
  },
  {
   "cell_type": "code",
   "execution_count": null,
   "metadata": {
    "tags": []
   },
   "outputs": [],
   "source": [
    "TRIALS_AND_SPECTRAL_DF[\"in_video\"] = TRIALS_AND_SPECTRAL_DF.apply(lambda x: x[\"start_frame\"] <= x[\"trial_video_frame\"][0] <= x[\"stop_frame\"], axis=1)"
   ]
  },
  {
   "cell_type": "code",
   "execution_count": null,
   "metadata": {
    "tags": []
   },
   "outputs": [],
   "source": [
    "TRIALS_AND_SPECTRAL_DF = TRIALS_AND_SPECTRAL_DF[TRIALS_AND_SPECTRAL_DF[\"in_video\"]].reset_index()"
   ]
  },
  {
   "cell_type": "code",
   "execution_count": null,
   "metadata": {
    "tags": []
   },
   "outputs": [],
   "source": [
    "TRIALS_AND_SPECTRAL_DF"
   ]
  },
  {
   "cell_type": "code",
   "execution_count": null,
   "metadata": {
    "tags": []
   },
   "outputs": [],
   "source": [
    "TRIALS_AND_SPECTRAL_DF.to_pickle(os.path.join(OUTPUT_DIR, FULL_LFP_TRACES_PKL))"
   ]
  },
  {
   "cell_type": "code",
   "execution_count": null,
   "metadata": {},
   "outputs": [],
   "source": [
    "raise ValueError()"
   ]
  },
  {
   "cell_type": "markdown",
   "metadata": {},
   "source": [
    "# Filtering out spikes"
   ]
  },
  {
   "cell_type": "code",
   "execution_count": null,
   "metadata": {
    "tags": []
   },
   "outputs": [],
   "source": [
    "raise ValueError()"
   ]
  },
  {
   "cell_type": "code",
   "execution_count": null,
   "metadata": {
    "tags": []
   },
   "outputs": [],
   "source": [
    "TRIALS_AND_SPECTRAL_DF[\"baseline_spike_times\"] = TRIALS_AND_SPECTRAL_DF.apply(lambda x: filter_spike_times(x[\"spike_times\"], start=x[\"tone_start_timestamp\"], stop=x[\"baseline_stop_timestamp\"]).astype(int), axis=1)\n"
   ]
  },
  {
   "cell_type": "code",
   "execution_count": null,
   "metadata": {
    "tags": []
   },
   "outputs": [],
   "source": [
    "TRIALS_AND_SPECTRAL_DF[\"trial_spike_times\"] = TRIALS_AND_SPECTRAL_DF.apply(lambda x: filter_spike_times(x[\"spike_times\"], start=x[\"tone_start_timestamp\"], stop=x[\"tone_stop_timestamp\"]).astype(int), axis=1)\n"
   ]
  },
  {
   "cell_type": "code",
   "execution_count": null,
   "metadata": {
    "tags": []
   },
   "outputs": [],
   "source": [
    "TRIALS_AND_SPECTRAL_DF[\"tone_start_timestamp\"].head()"
   ]
  },
  {
   "cell_type": "code",
   "execution_count": null,
   "metadata": {
    "tags": []
   },
   "outputs": [],
   "source": [
    "TRIALS_AND_SPECTRAL_DF[\"baseline_stop_timestamp\"].head()"
   ]
  },
  {
   "cell_type": "code",
   "execution_count": null,
   "metadata": {
    "tags": []
   },
   "outputs": [],
   "source": [
    "TRIALS_AND_SPECTRAL_DF[\"baseline_spike_times\"].iloc[0]"
   ]
  },
  {
   "cell_type": "code",
   "execution_count": null,
   "metadata": {
    "tags": []
   },
   "outputs": [],
   "source": [
    "TRIALS_AND_SPECTRAL_DF[\"baseline_neuron_average_fr\"] = TRIALS_AND_SPECTRAL_DF.apply(lambda x: utilities.helper.filter_by_timestamp_range(start=x[\"tone_start_timestamp\"], stop=x[\"baseline_stop_timestamp\"], timestamps=x[\"neuron_average_timestamps\"], items=x[\"neuron_average_fr\"].T)[1], axis=1)\n",
    "TRIALS_AND_SPECTRAL_DF[\"baseline_neuron_average_timestamp\"] = TRIALS_AND_SPECTRAL_DF.apply(lambda x: utilities.helper.filter_by_timestamp_range(start=x[\"tone_start_timestamp\"], stop=x[\"baseline_stop_timestamp\"], timestamps=x[\"neuron_average_timestamps\"], items=x[\"neuron_average_fr\"].T)[0], axis=1)"
   ]
  },
  {
   "cell_type": "code",
   "execution_count": null,
   "metadata": {
    "tags": []
   },
   "outputs": [],
   "source": [
    "TRIALS_AND_SPECTRAL_DF[\"trial_neuron_average_fr\"] = TRIALS_AND_SPECTRAL_DF.apply(lambda x: utilities.helper.filter_by_timestamp_range(start=x[\"tone_start_timestamp\"], stop=x[\"tone_stop_timestamp\"], timestamps=x[\"neuron_average_timestamps\"], items=x[\"neuron_average_fr\"].T)[1].T, axis=1)\n",
    "TRIALS_AND_SPECTRAL_DF[\"trial_neuron_average_timestamp\"] = TRIALS_AND_SPECTRAL_DF.apply(lambda x: utilities.helper.filter_by_timestamp_range(start=x[\"tone_start_timestamp\"], stop=x[\"tone_stop_timestamp\"], timestamps=x[\"neuron_average_timestamps\"], items=x[\"neuron_average_fr\"].T)[0], axis=1)"
   ]
  },
  {
   "cell_type": "code",
   "execution_count": null,
   "metadata": {
    "tags": []
   },
   "outputs": [],
   "source": [
    "TRIALS_AND_SPECTRAL_DF = TRIALS_AND_SPECTRAL_DF.drop(columns=[\"spike_clusters\", \"spike_times\", \"neuron_average_fr\", \"neuron_average_timestamps\",], errors=\"ignore\")"
   ]
  },
  {
   "cell_type": "code",
   "execution_count": null,
   "metadata": {
    "tags": []
   },
   "outputs": [],
   "source": [
    "TRIALS_AND_SPECTRAL_DF[\"trial_neuron_average_fr\"].iloc[0].shape"
   ]
  },
  {
   "cell_type": "code",
   "execution_count": null,
   "metadata": {
    "tags": []
   },
   "outputs": [],
   "source": [
    "TRIALS_AND_SPECTRAL_DF[\"trial_neuron_average_timestamp\"].iloc[0].shape"
   ]
  },
  {
   "cell_type": "code",
   "execution_count": null,
   "metadata": {},
   "outputs": [],
   "source": []
  }
 ],
 "metadata": {
  "deepnote": {},
  "deepnote_execution_queue": [],
  "deepnote_notebook_id": "cf8fe3695d074ee7887fdf6459cbf5ce",
  "kernelspec": {
   "display_name": "spike_interface_0_100_8",
   "language": "python",
   "name": "spike_interface_0_100_8"
  },
  "language_info": {
   "codemirror_mode": {
    "name": "ipython",
    "version": 3
   },
   "file_extension": ".py",
   "mimetype": "text/x-python",
   "name": "python",
   "nbconvert_exporter": "python",
   "pygments_lexer": "ipython3",
   "version": "3.10.14"
  }
 },
 "nbformat": 4,
 "nbformat_minor": 4
}
