{
 "cells": [
  {
   "cell_type": "markdown",
   "metadata": {
    "cell_id": "c3a02adc9e884466bc8c79db549cc3d2",
    "deepnote_cell_type": "text-cell-h1",
    "formattedRanges": [
     {
      "fromCodePoint": 0,
      "marks": {
       "bold": true,
       "underline": true
      },
      "toCodePoint": 17,
      "type": "marks"
     }
    ]
   },
   "source": [
    "# All oscillation analysis"
   ]
  },
  {
   "cell_type": "markdown",
   "metadata": {
    "cell_id": "4546bee655b14a5dbf393161f1228e60",
    "deepnote_cell_type": "text-cell-p",
    "formattedRanges": []
   },
   "source": [
    "Brief 1-2 sentence description of notebook."
   ]
  },
  {
   "cell_type": "code",
   "execution_count": 1,
   "metadata": {
    "tags": []
   },
   "outputs": [],
   "source": [
    "# Imports of all used packages and libraries\n",
    "import sys\n",
    "import os\n",
    "import git\n",
    "import glob\n",
    "from collections import defaultdict"
   ]
  },
  {
   "cell_type": "code",
   "execution_count": 2,
   "metadata": {
    "tags": []
   },
   "outputs": [],
   "source": [
    "git_repo = git.Repo(\".\", search_parent_directories=True)\n",
    "git_root = git_repo.git.rev_parse(\"--show-toplevel\")"
   ]
  },
  {
   "cell_type": "code",
   "execution_count": 3,
   "metadata": {
    "tags": []
   },
   "outputs": [
    {
     "data": {
      "text/plain": [
       "'/blue/npadillacoreano/ryoi360/projects/reward_comp/repos/reward_comp_ext'"
      ]
     },
     "execution_count": 3,
     "metadata": {},
     "output_type": "execute_result"
    }
   ],
   "source": [
    "git_root"
   ]
  },
  {
   "cell_type": "code",
   "execution_count": 4,
   "metadata": {
    "tags": []
   },
   "outputs": [],
   "source": [
    "sys.path.insert(0, os.path.join(git_root, 'src'))"
   ]
  },
  {
   "cell_type": "code",
   "execution_count": 5,
   "metadata": {
    "tags": []
   },
   "outputs": [],
   "source": [
    "import warnings\n",
    "warnings.filterwarnings('ignore')"
   ]
  },
  {
   "cell_type": "code",
   "execution_count": 6,
   "metadata": {
    "tags": []
   },
   "outputs": [],
   "source": [
    "import os\n",
    "import collections\n",
    "import itertools\n",
    "from collections import defaultdict\n",
    "from itertools import combinations"
   ]
  },
  {
   "cell_type": "raw",
   "metadata": {},
   "source": [
    "os.environ[\"SPECTRAL_CONNECTIVITY_ENABLE_GPU\"] = \"true\"\n",
    "import cupy as cp"
   ]
  },
  {
   "cell_type": "code",
   "execution_count": 7,
   "metadata": {
    "cell_id": "03b495cefa6a4798a44c7f2e4c6a3ea7",
    "deepnote_cell_type": "code",
    "deepnote_to_be_reexecuted": false,
    "execution_millis": 21,
    "execution_start": 1691424003626,
    "source_hash": null,
    "tags": []
   },
   "outputs": [],
   "source": [
    "# Imports of all used packages and libraries\n",
    "import numpy as np\n",
    "import pandas as pd\n",
    "from scipy import stats\n",
    "from scipy.stats import mannwhitneyu\n"
   ]
  },
  {
   "cell_type": "code",
   "execution_count": 8,
   "metadata": {
    "tags": []
   },
   "outputs": [],
   "source": [
    "import matplotlib\n",
    "import matplotlib.colors as mcolors\n",
    "import matplotlib.pyplot as plt\n",
    "import matplotlib.cm as cm\n",
    "import colorsys"
   ]
  },
  {
   "cell_type": "code",
   "execution_count": 9,
   "metadata": {
    "tags": []
   },
   "outputs": [],
   "source": [
    "from sklearn.metrics import confusion_matrix"
   ]
  },
  {
   "cell_type": "code",
   "execution_count": 10,
   "metadata": {
    "tags": []
   },
   "outputs": [],
   "source": [
    "from spectral_connectivity import Multitaper, Connectivity\n",
    "import spectral_connectivity"
   ]
  },
  {
   "cell_type": "code",
   "execution_count": 11,
   "metadata": {
    "tags": []
   },
   "outputs": [],
   "source": [
    "import utilities.helper\n",
    "import trodes.read_exported"
   ]
  },
  {
   "cell_type": "code",
   "execution_count": 12,
   "metadata": {
    "tags": []
   },
   "outputs": [],
   "source": [
    "FONTSIZE = 20"
   ]
  },
  {
   "cell_type": "code",
   "execution_count": 13,
   "metadata": {
    "tags": []
   },
   "outputs": [],
   "source": [
    "font = {'weight' : 'medium',\n",
    "        'size'   : 20}\n",
    "\n",
    "matplotlib.rc('font', **font)"
   ]
  },
  {
   "cell_type": "markdown",
   "metadata": {
    "cell_id": "d290bac2c17940bfbc0f9296beaf70e5",
    "deepnote_cell_type": "text-cell-h2",
    "formattedRanges": []
   },
   "source": [
    "## Inputs & Data"
   ]
  },
  {
   "cell_type": "code",
   "execution_count": 14,
   "metadata": {
    "tags": []
   },
   "outputs": [],
   "source": [
    "EPHYS_SAMPLE_RATE = 20000"
   ]
  },
  {
   "cell_type": "markdown",
   "metadata": {
    "cell_id": "e528ce19c608425292151930d380f49f",
    "deepnote_cell_type": "text-cell-p",
    "formattedRanges": []
   },
   "source": [
    "Explanation of each input and where it comes from."
   ]
  },
  {
   "cell_type": "code",
   "execution_count": 15,
   "metadata": {
    "cell_id": "6cf83a5811054461a718a71673d09aab",
    "deepnote_cell_type": "code",
    "deepnote_to_be_reexecuted": false,
    "execution_millis": 373,
    "execution_start": 1691424003628,
    "source_hash": null,
    "tags": []
   },
   "outputs": [],
   "source": [
    "# Inputs and Required data loading\n",
    "# input varaible names are in all caps snake case\n",
    "# Whenever an input changes or is used for processing \n",
    "# the vairables are all lower in snake case\n",
    "OUTPUT_DIR = r\"./proc/\" # where data is saved should always be shown in the inputs\n",
    "os.makedirs(OUTPUT_DIR, exist_ok=True)\n",
    "OUTPUT_PREFIX = \"rce_pilot_3_alone_comp\""
   ]
  },
  {
   "cell_type": "code",
   "execution_count": 18,
   "metadata": {
    "tags": []
   },
   "outputs": [],
   "source": [
    "# TRIAL_LABELS_DF = pd.read_excel(\"/blue/npadillacoreano/ryoi360/projects/reward_comp/repos/reward_comp_ext/results/2024_06_26_sleap_clustering/data/rce_pilot_3_alone_comp_per_video_trial_labels.xlsx\")\n",
    "TRIALS_AND_SPECTRAL_DF = pd.read_pickle(\"./proc/rce_pilot_3_alone_comp_10_per_trial_spectral_bans_sleap.pkl\")"
   ]
  },
  {
   "cell_type": "code",
   "execution_count": 19,
   "metadata": {
    "tags": []
   },
   "outputs": [],
   "source": [
    "FULL_LFP_TRACES_PKL = \"{}_12_per_cluster_spectral_bans_sleap.pkl\".format(OUTPUT_PREFIX)"
   ]
  },
  {
   "cell_type": "markdown",
   "metadata": {
    "cell_id": "e3ee4891d43a4ac287413afc552ca289",
    "deepnote_cell_type": "text-cell-h2",
    "formattedRanges": []
   },
   "source": [
    "## Outputs"
   ]
  },
  {
   "cell_type": "markdown",
   "metadata": {
    "cell_id": "9ccbf6cc70fd4d379fa29317f733771f",
    "deepnote_cell_type": "text-cell-p",
    "formattedRanges": []
   },
   "source": [
    "Describe each output that the notebook creates. "
   ]
  },
  {
   "cell_type": "markdown",
   "metadata": {
    "cell_id": "fc8e8920a6944918a15fac575cdf6e78",
    "deepnote_cell_type": "text-cell-bullet",
    "formattedRanges": []
   },
   "source": [
    "- Is it a plot or is it data?"
   ]
  },
  {
   "cell_type": "markdown",
   "metadata": {
    "cell_id": "1e639d4776a84aa9ac8ded2e14fa57db",
    "deepnote_cell_type": "text-cell-bullet",
    "formattedRanges": []
   },
   "source": [
    "- How valuable is the output and why is it valuable or useful?"
   ]
  },
  {
   "cell_type": "markdown",
   "metadata": {},
   "source": [
    "## Functions "
   ]
  },
  {
   "cell_type": "code",
   "execution_count": 21,
   "metadata": {
    "tags": []
   },
   "outputs": [
    {
     "name": "stdout",
     "output_type": "stream",
     "text": [
      "{'a': [1, 2, 5, 8, 9], 'b': [3, 4, 6, 7], 'c': [10]}\n"
     ]
    }
   ],
   "source": [
    "def combine_dicts(dicts):\n",
    "    \"\"\"\n",
    "    Combine lists from multiple dictionaries that share the same key.\n",
    "\n",
    "    This function takes a list of dictionaries where each dictionary's values are lists of numbers.\n",
    "    It merges these lists for each corresponding key across all dictionaries, producing a single\n",
    "    dictionary where each key has a combined list of all numbers from the input dictionaries.\n",
    "\n",
    "    Parameters:\n",
    "        dicts (list of dict): A list of dictionaries with values as lists of numbers.\n",
    "\n",
    "    Returns:\n",
    "        dict: A dictionary with keys from the input dictionaries and values as merged lists \n",
    "        of numbers from all corresponding input dictionary values.\n",
    "    \"\"\"\n",
    "    combined = defaultdict(list)\n",
    "    for dictionary in dicts:\n",
    "        for key, value in dictionary.items():\n",
    "            combined[key].extend(value)\n",
    "    \n",
    "    return dict(combined)\n",
    "\n",
    "\n",
    "# Example usage\n",
    "list_of_dicts = [\n",
    "    {'a': [1, 2], 'b': [3, 4]},\n",
    "    {'a': [5], 'b': [6, 7]},\n",
    "    {'a': [8, 9], 'c': [10]}\n",
    "]\n",
    "\n",
    "combined_dict = combine_dicts(list_of_dicts)\n",
    "print(combined_dict)"
   ]
  },
  {
   "cell_type": "code",
   "execution_count": 22,
   "metadata": {
    "tags": []
   },
   "outputs": [
    {
     "name": "stdout",
     "output_type": "stream",
     "text": [
      "{2: [(2, 4)], 3: [(5, 8)]}\n"
     ]
    }
   ],
   "source": [
    "def find_consecutive_ranges(numbers, min_length=1):\n",
    "    \"\"\"\n",
    "    Finds the start and end indices for consecutive ranges of each number in a list where the range meets a minimum length.\n",
    "\n",
    "    This function iterates through a list of integers and identifies ranges where the same integer appears consecutively\n",
    "    and the length of this sequence meets or exceeds the specified minimum length.\n",
    "\n",
    "    Parameters:\n",
    "        numbers (list): A list of integers to analyze for consecutive ranges.\n",
    "        min_length (int): The minimum length of a range for it to be included in the results.\n",
    "\n",
    "    Returns:\n",
    "        dict: A dictionary with integers as keys and a list of tuples (start, end) as values,\n",
    "              where each tuple represents the start and end indices (inclusive) of consecutive ranges\n",
    "              for that integer. Only ranges that meet or exceed the minimum length are included.\n",
    "    \"\"\"\n",
    "    ranges = {}\n",
    "    n = len(numbers)\n",
    "    if n == 0:\n",
    "        return ranges\n",
    "    \n",
    "    start = 0\n",
    "    current = numbers[0]\n",
    "\n",
    "    for i in range(1, n):\n",
    "        if numbers[i] != current:\n",
    "            if (i - start) >= min_length:\n",
    "                if current not in ranges:\n",
    "                    ranges[current] = []\n",
    "                ranges[current].append((start, i - 1))\n",
    "            current = numbers[i]\n",
    "            start = i\n",
    "\n",
    "    # Handle the last range\n",
    "    if (n - start) >= min_length:\n",
    "        if current not in ranges:\n",
    "            ranges[current] = []\n",
    "        ranges[current].append((start, n - 1))\n",
    "\n",
    "    return ranges\n",
    "\n",
    "# Example usage:\n",
    "numbers = [1, 1, 2, 2, 2, 3, 3, 3, 3, 2, 2, 1, 1]\n",
    "print(find_consecutive_ranges(numbers, min_length=3))"
   ]
  },
  {
   "cell_type": "code",
   "execution_count": 23,
   "metadata": {
    "tags": []
   },
   "outputs": [
    {
     "name": "stdout",
     "output_type": "stream",
     "text": [
      "{'a': [('alpha', 'beta'), ('gamma', 'delta')], 'b': [('beta', 'delta'), ('alpha', 'gamma')]}\n"
     ]
    }
   ],
   "source": [
    "def update_tuples_in_dict(original_dict, reference_list):\n",
    "    \"\"\"\n",
    "    Updates the values in the tuples within a dictionary by replacing indices with corresponding values from a reference list.\n",
    "    \n",
    "    This function iterates through each key-value pair in the original dictionary. Each value is expected to be a list of tuples,\n",
    "    where each tuple contains indices. These indices are used to fetch corresponding values from the reference list, creating new tuples.\n",
    "    \n",
    "    Parameters:\n",
    "        original_dict (dict): Dictionary whose values are lists of tuples. Each tuple consists of indices into the reference_list.\n",
    "        reference_list (list): List of elements that are referenced by the indices in the tuples of the original_dict.\n",
    "        \n",
    "    Returns:\n",
    "        dict: A dictionary with the same keys as original_dict but with tuples transformed to contain elements from reference_list\n",
    "              based on the indices in the original tuples.\n",
    "    \"\"\"\n",
    "    # Create a new dictionary to store the updated key-value pairs\n",
    "    new_dict = {}\n",
    "    for key, list_of_tuples in original_dict.items():\n",
    "        # Process each tuple in the list associated with the current key\n",
    "        updated_tuples = [\n",
    "            tuple(reference_list[idx] for idx in tup) for tup in list_of_tuples\n",
    "        ]\n",
    "        new_dict[key] = updated_tuples\n",
    "    \n",
    "    return new_dict\n",
    "\n",
    "# Example usage:\n",
    "original_dict = {\n",
    "    'a': [(0, 1), (2, 3)],\n",
    "    'b': [(1, 3), (0, 2)]\n",
    "}\n",
    "reference_list = ['alpha', 'beta', 'gamma', 'delta']\n",
    "\n",
    "updated_dict = update_tuples_in_dict(original_dict, reference_list)\n",
    "print(updated_dict)"
   ]
  },
  {
   "cell_type": "code",
   "execution_count": 88,
   "metadata": {
    "tags": []
   },
   "outputs": [
    {
     "name": "stdout",
     "output_type": "stream",
     "text": [
      "[('range1', [1, 2, 3, 4, 5, 10, 11, 12, 13, 14, 15]), ('range2', [0, 1, 2, 4, 5, 6, 7, 8])]\n"
     ]
    }
   ],
   "source": [
    "def find_indices_within_ranges(ranges_dict, values):\n",
    "    \"\"\"\n",
    "    Creates a dictionary mapping keys to sorted indices of values that fall within specified ranges.\n",
    "    \n",
    "    Parameters:\n",
    "        ranges_dict (dict): A dictionary with keys and values as lists of tuples representing ranges.\n",
    "        values (list): A list of values to check against the ranges.\n",
    "        \n",
    "    Returns:\n",
    "        dict: A dictionary where each key maps to a sorted list of indices for values within the ranges.\n",
    "    \"\"\"\n",
    "    result_dict = {}\n",
    "    for key, ranges in ranges_dict.items():\n",
    "        matched_indices = []\n",
    "        for index, value in enumerate(values):\n",
    "            if any(start <= value <= end for start, end in ranges):\n",
    "                matched_indices.append(index)\n",
    "        result_dict[key] = sorted(matched_indices)\n",
    "    return list(result_dict.items())\n",
    "\n",
    "# Example usage:\n",
    "ranges_dict = {\n",
    "    'range1': [(1, 5), (10, 15)],\n",
    "    'range2': [(0, 2), (4, 8)]\n",
    "}\n",
    "values = [0, 1, 2, 3, 4, 5, 6, 7, 8, 9, 10, 11, 12, 13, 14, 15]\n",
    "\n",
    "result = find_indices_within_ranges(ranges_dict, values)\n",
    "print(result)\n"
   ]
  },
  {
   "cell_type": "markdown",
   "metadata": {
    "cell_id": "8999d19b6b7d4d63bc90f0b0bd9ab085",
    "deepnote_cell_type": "text-cell-h2",
    "formattedRanges": []
   },
   "source": [
    "## Processing"
   ]
  },
  {
   "cell_type": "markdown",
   "metadata": {
    "cell_id": "9b36cdf08567463082b005cb0dec684b",
    "deepnote_cell_type": "text-cell-p",
    "formattedRanges": []
   },
   "source": [
    "Describe what is done to the data here and how inputs are manipulated to generate outputs. "
   ]
  },
  {
   "cell_type": "code",
   "execution_count": 20,
   "metadata": {
    "cell_id": "89aaba237c644628b1b37604b75e7cb1",
    "deepnote_cell_type": "code",
    "tags": []
   },
   "outputs": [],
   "source": [
    "# As much code and as many cells as required\n",
    "# includes EDA and playing with data\n",
    "# GO HAM!\n",
    "\n",
    "# Ideally functions are defined here first and then data is processed using the functions\n",
    "\n",
    "# function names are short and in snake case all lowercase\n",
    "# a function name should be unique but does not have to describe the function\n",
    "# doc strings describe functions not function names\n",
    "\n",
    "\n"
   ]
  },
  {
   "cell_type": "markdown",
   "metadata": {},
   "source": [
    "## Renaming the trial labels"
   ]
  },
  {
   "cell_type": "code",
   "execution_count": 24,
   "metadata": {
    "tags": []
   },
   "outputs": [
    {
     "data": {
      "text/html": [
       "<div>\n",
       "<style scoped>\n",
       "    .dataframe tbody tr th:only-of-type {\n",
       "        vertical-align: middle;\n",
       "    }\n",
       "\n",
       "    .dataframe tbody tr th {\n",
       "        vertical-align: top;\n",
       "    }\n",
       "\n",
       "    .dataframe thead th {\n",
       "        text-align: right;\n",
       "    }\n",
       "</style>\n",
       "<table border=\"1\" class=\"dataframe\">\n",
       "  <thead>\n",
       "    <tr style=\"text-align: right;\">\n",
       "      <th></th>\n",
       "      <th>tone_start_frame</th>\n",
       "      <th>reward_start</th>\n",
       "      <th>reward_dispensed</th>\n",
       "      <th>tone_stop_frame</th>\n",
       "      <th>condition</th>\n",
       "      <th>competition_closeness</th>\n",
       "      <th>get_reward_frame</th>\n",
       "      <th>out_reward_frame</th>\n",
       "      <th>notes</th>\n",
       "      <th>box_1_port_entry_frames</th>\n",
       "      <th>...</th>\n",
       "      <th>trial_and_post_mPFC_gamma_phase</th>\n",
       "      <th>trial_and_post_mPFC_lfp_trace</th>\n",
       "      <th>trial_and_post_mPFC_theta_band</th>\n",
       "      <th>trial_and_post_mPFC_theta_phase</th>\n",
       "      <th>trial_and_post_vHPC_gamma_band</th>\n",
       "      <th>trial_and_post_vHPC_gamma_phase</th>\n",
       "      <th>trial_and_post_vHPC_lfp_trace</th>\n",
       "      <th>trial_and_post_vHPC_theta_band</th>\n",
       "      <th>trial_and_post_vHPC_theta_phase</th>\n",
       "      <th>trial_and_post_lfp_timestamps</th>\n",
       "    </tr>\n",
       "  </thead>\n",
       "  <tbody>\n",
       "    <tr>\n",
       "      <th>0</th>\n",
       "      <td>34242.0</td>\n",
       "      <td>34322</td>\n",
       "      <td>34342.0</td>\n",
       "      <td>34442.0</td>\n",
       "      <td>4.3</td>\n",
       "      <td>After trial</td>\n",
       "      <td>NaN</td>\n",
       "      <td>NaN</td>\n",
       "      <td>NaN</td>\n",
       "      <td>[34250 34265]</td>\n",
       "      <td>...</td>\n",
       "      <td>[-2.8267386, -2.5752828, -2.3241265, -2.073247...</td>\n",
       "      <td>[74.295, 59.67, 49.53, 71.174995, 98.865, 105....</td>\n",
       "      <td>[0.45963967, 0.46584538, 0.4714166, 0.47629145...</td>\n",
       "      <td>[0.0660045, 0.100497134, 0.13558412, 0.1712443...</td>\n",
       "      <td>[-0.33073074, -0.2819916, -0.21614309, -0.1376...</td>\n",
       "      <td>[-2.721211, -2.4700835, -2.2192981, -1.9688195...</td>\n",
       "      <td>[100.424995, 94.38, 89.7, 106.274994, 127.1399...</td>\n",
       "      <td>[0.5714821, 0.57240754, 0.5722418, 0.57094795,...</td>\n",
       "      <td>[0.16306445, 0.20337772, 0.24396515, 0.2848233...</td>\n",
       "      <td>[34280580, 34280600, 34280620, 34280640, 34280...</td>\n",
       "    </tr>\n",
       "    <tr>\n",
       "      <th>1</th>\n",
       "      <td>34242.0</td>\n",
       "      <td>34322</td>\n",
       "      <td>34342.0</td>\n",
       "      <td>34442.0</td>\n",
       "      <td>4.3</td>\n",
       "      <td>After trial</td>\n",
       "      <td>NaN</td>\n",
       "      <td>NaN</td>\n",
       "      <td>NaN</td>\n",
       "      <td>[34250 34265]</td>\n",
       "      <td>...</td>\n",
       "      <td>[-2.4468, -2.2177749, -1.9918119, -1.7689933, ...</td>\n",
       "      <td>[19.695, 43.68, 68.25, 87.16499, 101.204994, 9...</td>\n",
       "      <td>[0.6209574, 0.6194976, 0.6152875, 0.6083768, 0...</td>\n",
       "      <td>[-0.14499341, -0.07693758, -0.008636221, 0.059...</td>\n",
       "      <td>[0.005282254, 0.024448069, 0.041276596, 0.0541...</td>\n",
       "      <td>[-1.484184, -1.164493, -0.85072726, -0.5423021...</td>\n",
       "      <td>[-6.24, 8.384999, 61.815, 109.005, 125.774994,...</td>\n",
       "      <td>[0.51433784, 0.4935799, 0.47049338, 0.44517246...</td>\n",
       "      <td>[0.5733892, 0.64060175, 0.7075213, 0.7741529, ...</td>\n",
       "      <td>[34280580, 34280600, 34280620, 34280640, 34280...</td>\n",
       "    </tr>\n",
       "    <tr>\n",
       "      <th>2</th>\n",
       "      <td>35241.0</td>\n",
       "      <td>35321</td>\n",
       "      <td>35341.0</td>\n",
       "      <td>35439.0</td>\n",
       "      <td>4.3</td>\n",
       "      <td>Subj 2 Only</td>\n",
       "      <td>NaN</td>\n",
       "      <td>NaN</td>\n",
       "      <td>NaN</td>\n",
       "      <td>[35242 35249] [35249 35250] [35250 35271] [353...</td>\n",
       "      <td>...</td>\n",
       "      <td>[-1.3393176, -1.0746405, -0.8121532, -0.552019...</td>\n",
       "      <td>[-42.12, -46.019997, -42.899998, -34.515, -29....</td>\n",
       "      <td>[-0.55376214, -0.54105306, -0.5277178, -0.5138...</td>\n",
       "      <td>[-2.848622, -2.809103, -2.7699904, -2.7312958,...</td>\n",
       "      <td>[0.033837054, 0.08063326, 0.120246336, 0.15044...</td>\n",
       "      <td>[-1.3934808, -1.129738, -0.86815214, -0.608863...</td>\n",
       "      <td>[-65.13, -52.065, -46.215, -45.045, -38.024998...</td>\n",
       "      <td>[-0.51730657, -0.50465643, -0.49131757, -0.477...</td>\n",
       "      <td>[-2.8382177, -2.7967052, -2.75556, -2.7147894,...</td>\n",
       "      <td>[35280600, 35280620, 35280640, 35280660, 35280...</td>\n",
       "    </tr>\n",
       "    <tr>\n",
       "      <th>3</th>\n",
       "      <td>35241.0</td>\n",
       "      <td>35321</td>\n",
       "      <td>35341.0</td>\n",
       "      <td>35439.0</td>\n",
       "      <td>4.3</td>\n",
       "      <td>Subj 2 Only</td>\n",
       "      <td>NaN</td>\n",
       "      <td>NaN</td>\n",
       "      <td>NaN</td>\n",
       "      <td>[35242 35249] [35249 35250] [35250 35271] [353...</td>\n",
       "      <td>...</td>\n",
       "      <td>[1.1835573, 1.3989904, 1.6151469, 1.8322233, 2...</td>\n",
       "      <td>[-84.24, -29.64, 8.969999, -31.005, -109.395, ...</td>\n",
       "      <td>[-0.43594536, -0.40849745, -0.37993425, -0.350...</td>\n",
       "      <td>[-2.290331, -2.2391956, -2.18775, -2.1359916, ...</td>\n",
       "      <td>[0.032845914, 0.01358331, -0.008819404, -0.033...</td>\n",
       "      <td>[1.2072978, 1.4309896, 1.6569884, 1.884983, 2....</td>\n",
       "      <td>[-74.1, -20.865, 18.33, -21.644999, -101.39999...</td>\n",
       "      <td>[-0.45931047, -0.42667648, -0.3932578, -0.3591...</td>\n",
       "      <td>[-2.2182832, -2.1700776, -2.1216602, -2.073028...</td>\n",
       "      <td>[35280600, 35280620, 35280640, 35280660, 35280...</td>\n",
       "    </tr>\n",
       "    <tr>\n",
       "      <th>4</th>\n",
       "      <td>36339.0</td>\n",
       "      <td>36419</td>\n",
       "      <td>36439.0</td>\n",
       "      <td>36538.0</td>\n",
       "      <td>4.3</td>\n",
       "      <td>Subj 2 blocking Subj 1</td>\n",
       "      <td>NaN</td>\n",
       "      <td>NaN</td>\n",
       "      <td>NaN</td>\n",
       "      <td>[36339 36354] [36361 36365] [36410 36473] [364...</td>\n",
       "      <td>...</td>\n",
       "      <td>[1.9263768, 2.1613147, 2.397383, 2.634575, 2.8...</td>\n",
       "      <td>[7.995, 11.7, 12.674999, 5.85, -11.8949995, -3...</td>\n",
       "      <td>[0.04354602, 0.04824548, 0.050688196, 0.050923...</td>\n",
       "      <td>[-1.434966, -1.4083124, -1.3854433, -1.3673644...</td>\n",
       "      <td>[-0.17820239, -0.24864225, -0.30498573, -0.344...</td>\n",
       "      <td>[2.0645847, 2.298156, 2.5328636, 2.768695, 3.0...</td>\n",
       "      <td>[22.814999, 32.37, 31.005, 12.674999, -14.4299...</td>\n",
       "      <td>[0.007989262, 0.015576166, 0.021102728, 0.0245...</td>\n",
       "      <td>[-1.5463593, -1.5198455, -1.4966478, -1.477523...</td>\n",
       "      <td>[36380600, 36380620, 36380640, 36380660, 36380...</td>\n",
       "    </tr>\n",
       "  </tbody>\n",
       "</table>\n",
       "<p>5 rows × 203 columns</p>\n",
       "</div>"
      ],
      "text/plain": [
       "   tone_start_frame  reward_start  reward_dispensed  tone_stop_frame  \\\n",
       "0           34242.0         34322           34342.0          34442.0   \n",
       "1           34242.0         34322           34342.0          34442.0   \n",
       "2           35241.0         35321           35341.0          35439.0   \n",
       "3           35241.0         35321           35341.0          35439.0   \n",
       "4           36339.0         36419           36439.0          36538.0   \n",
       "\n",
       "  condition    competition_closeness  get_reward_frame  out_reward_frame  \\\n",
       "0        4.3             After trial               NaN               NaN   \n",
       "1        4.3             After trial               NaN               NaN   \n",
       "2        4.3             Subj 2 Only               NaN               NaN   \n",
       "3        4.3             Subj 2 Only               NaN               NaN   \n",
       "4        4.3  Subj 2 blocking Subj 1               NaN               NaN   \n",
       "\n",
       "  notes                            box_1_port_entry_frames  ...  \\\n",
       "0   NaN                                      [34250 34265]  ...   \n",
       "1   NaN                                      [34250 34265]  ...   \n",
       "2   NaN  [35242 35249] [35249 35250] [35250 35271] [353...  ...   \n",
       "3   NaN  [35242 35249] [35249 35250] [35250 35271] [353...  ...   \n",
       "4   NaN  [36339 36354] [36361 36365] [36410 36473] [364...  ...   \n",
       "\n",
       "                     trial_and_post_mPFC_gamma_phase  \\\n",
       "0  [-2.8267386, -2.5752828, -2.3241265, -2.073247...   \n",
       "1  [-2.4468, -2.2177749, -1.9918119, -1.7689933, ...   \n",
       "2  [-1.3393176, -1.0746405, -0.8121532, -0.552019...   \n",
       "3  [1.1835573, 1.3989904, 1.6151469, 1.8322233, 2...   \n",
       "4  [1.9263768, 2.1613147, 2.397383, 2.634575, 2.8...   \n",
       "\n",
       "                       trial_and_post_mPFC_lfp_trace  \\\n",
       "0  [74.295, 59.67, 49.53, 71.174995, 98.865, 105....   \n",
       "1  [19.695, 43.68, 68.25, 87.16499, 101.204994, 9...   \n",
       "2  [-42.12, -46.019997, -42.899998, -34.515, -29....   \n",
       "3  [-84.24, -29.64, 8.969999, -31.005, -109.395, ...   \n",
       "4  [7.995, 11.7, 12.674999, 5.85, -11.8949995, -3...   \n",
       "\n",
       "                      trial_and_post_mPFC_theta_band  \\\n",
       "0  [0.45963967, 0.46584538, 0.4714166, 0.47629145...   \n",
       "1  [0.6209574, 0.6194976, 0.6152875, 0.6083768, 0...   \n",
       "2  [-0.55376214, -0.54105306, -0.5277178, -0.5138...   \n",
       "3  [-0.43594536, -0.40849745, -0.37993425, -0.350...   \n",
       "4  [0.04354602, 0.04824548, 0.050688196, 0.050923...   \n",
       "\n",
       "                     trial_and_post_mPFC_theta_phase  \\\n",
       "0  [0.0660045, 0.100497134, 0.13558412, 0.1712443...   \n",
       "1  [-0.14499341, -0.07693758, -0.008636221, 0.059...   \n",
       "2  [-2.848622, -2.809103, -2.7699904, -2.7312958,...   \n",
       "3  [-2.290331, -2.2391956, -2.18775, -2.1359916, ...   \n",
       "4  [-1.434966, -1.4083124, -1.3854433, -1.3673644...   \n",
       "\n",
       "                      trial_and_post_vHPC_gamma_band  \\\n",
       "0  [-0.33073074, -0.2819916, -0.21614309, -0.1376...   \n",
       "1  [0.005282254, 0.024448069, 0.041276596, 0.0541...   \n",
       "2  [0.033837054, 0.08063326, 0.120246336, 0.15044...   \n",
       "3  [0.032845914, 0.01358331, -0.008819404, -0.033...   \n",
       "4  [-0.17820239, -0.24864225, -0.30498573, -0.344...   \n",
       "\n",
       "                     trial_and_post_vHPC_gamma_phase  \\\n",
       "0  [-2.721211, -2.4700835, -2.2192981, -1.9688195...   \n",
       "1  [-1.484184, -1.164493, -0.85072726, -0.5423021...   \n",
       "2  [-1.3934808, -1.129738, -0.86815214, -0.608863...   \n",
       "3  [1.2072978, 1.4309896, 1.6569884, 1.884983, 2....   \n",
       "4  [2.0645847, 2.298156, 2.5328636, 2.768695, 3.0...   \n",
       "\n",
       "                       trial_and_post_vHPC_lfp_trace  \\\n",
       "0  [100.424995, 94.38, 89.7, 106.274994, 127.1399...   \n",
       "1  [-6.24, 8.384999, 61.815, 109.005, 125.774994,...   \n",
       "2  [-65.13, -52.065, -46.215, -45.045, -38.024998...   \n",
       "3  [-74.1, -20.865, 18.33, -21.644999, -101.39999...   \n",
       "4  [22.814999, 32.37, 31.005, 12.674999, -14.4299...   \n",
       "\n",
       "                      trial_and_post_vHPC_theta_band  \\\n",
       "0  [0.5714821, 0.57240754, 0.5722418, 0.57094795,...   \n",
       "1  [0.51433784, 0.4935799, 0.47049338, 0.44517246...   \n",
       "2  [-0.51730657, -0.50465643, -0.49131757, -0.477...   \n",
       "3  [-0.45931047, -0.42667648, -0.3932578, -0.3591...   \n",
       "4  [0.007989262, 0.015576166, 0.021102728, 0.0245...   \n",
       "\n",
       "                     trial_and_post_vHPC_theta_phase  \\\n",
       "0  [0.16306445, 0.20337772, 0.24396515, 0.2848233...   \n",
       "1  [0.5733892, 0.64060175, 0.7075213, 0.7741529, ...   \n",
       "2  [-2.8382177, -2.7967052, -2.75556, -2.7147894,...   \n",
       "3  [-2.2182832, -2.1700776, -2.1216602, -2.073028...   \n",
       "4  [-1.5463593, -1.5198455, -1.4966478, -1.477523...   \n",
       "\n",
       "                       trial_and_post_lfp_timestamps  \n",
       "0  [34280580, 34280600, 34280620, 34280640, 34280...  \n",
       "1  [34280580, 34280600, 34280620, 34280640, 34280...  \n",
       "2  [35280600, 35280620, 35280640, 35280660, 35280...  \n",
       "3  [35280600, 35280620, 35280640, 35280660, 35280...  \n",
       "4  [36380600, 36380620, 36380640, 36380660, 36380...  \n",
       "\n",
       "[5 rows x 203 columns]"
      ]
     },
     "execution_count": 24,
     "metadata": {},
     "output_type": "execute_result"
    }
   ],
   "source": [
    "TRIALS_AND_SPECTRAL_DF.head()"
   ]
  },
  {
   "cell_type": "code",
   "execution_count": 25,
   "metadata": {
    "tags": []
   },
   "outputs": [],
   "source": [
    "comp_closeness_dict = {'Subj 1 blocking Subj 2': \"competitive\",\n",
    "'Subj 2 Only': \"no_comp\",\n",
    "'Subj 2 blocking Subj 1': \"competitive\",\n",
    "'Subj 1 then Subj 2': \"competitive\", \n",
    "'Subj 1 Only': \"no_comp\",\n",
    "'Subj 2 then Subj 1': \"competitive\",\n",
    "'Close Call': \"competitive\",\n",
    "'After trial': \"no_comp\"}"
   ]
  },
  {
   "cell_type": "code",
   "execution_count": 29,
   "metadata": {
    "tags": []
   },
   "outputs": [],
   "source": [
    "TRIALS_AND_SPECTRAL_DF[\"current_subject\"] = TRIALS_AND_SPECTRAL_DF[\"current_subject\"].apply(lambda x: str(x).strip().lower())"
   ]
  },
  {
   "cell_type": "code",
   "execution_count": 36,
   "metadata": {
    "tags": []
   },
   "outputs": [],
   "source": [
    "TRIALS_AND_SPECTRAL_DF[\"condition \"] = TRIALS_AND_SPECTRAL_DF[\"condition \"].apply(lambda x: str(x).strip().lower())"
   ]
  },
  {
   "cell_type": "code",
   "execution_count": 37,
   "metadata": {
    "tags": []
   },
   "outputs": [],
   "source": [
    "TRIALS_AND_SPECTRAL_DF[\"trial_label\"] = TRIALS_AND_SPECTRAL_DF.apply(lambda x: \"win\" if x[\"current_subject\"] == x[\"condition \"]  else (\"lose\" if x[\"agent\"] == x[\"condition \"] else \"tie\"), axis=1)\n",
    "                                                                        "
   ]
  },
  {
   "cell_type": "code",
   "execution_count": 38,
   "metadata": {
    "tags": []
   },
   "outputs": [],
   "source": [
    "TRIALS_AND_SPECTRAL_DF[\"competition_closeness\"] = TRIALS_AND_SPECTRAL_DF[\"competition_closeness\"].map(comp_closeness_dict)"
   ]
  },
  {
   "cell_type": "code",
   "execution_count": 39,
   "metadata": {
    "tags": []
   },
   "outputs": [
    {
     "data": {
      "text/plain": [
       "0      lose\n",
       "1       win\n",
       "2      lose\n",
       "3       win\n",
       "4      lose\n",
       "       ... \n",
       "243     win\n",
       "244    lose\n",
       "245     win\n",
       "246     tie\n",
       "247     tie\n",
       "Name: trial_label, Length: 248, dtype: object"
      ]
     },
     "execution_count": 39,
     "metadata": {},
     "output_type": "execute_result"
    }
   ],
   "source": [
    "TRIALS_AND_SPECTRAL_DF[\"trial_label\"]"
   ]
  },
  {
   "cell_type": "markdown",
   "metadata": {},
   "source": [
    "## Getting the ranges of each cluster"
   ]
  },
  {
   "cell_type": "markdown",
   "metadata": {},
   "source": [
    "- Getting the index range"
   ]
  },
  {
   "cell_type": "code",
   "execution_count": 41,
   "metadata": {
    "tags": []
   },
   "outputs": [
    {
     "data": {
      "text/plain": [
       "['tone_start_frame',\n",
       " 'reward_start',\n",
       " 'reward_dispensed',\n",
       " 'tone_stop_frame',\n",
       " 'condition ',\n",
       " 'competition_closeness',\n",
       " 'get_reward_frame',\n",
       " 'out_reward_frame',\n",
       " 'notes',\n",
       " 'box_1_port_entry_frames',\n",
       " 'box_2_port_entry_frames',\n",
       " 'video_name',\n",
       " 'tone_start_timestamp',\n",
       " 'tone_stop_timestamp',\n",
       " 'box_1_port_entry_timestamps',\n",
       " 'box_2_port_entry_timestamps',\n",
       " 'current_subject',\n",
       " 'subject_tail_base',\n",
       " 'agent_tail_base',\n",
       " 'session_dir',\n",
       " 'experiment',\n",
       " 'sleap_name',\n",
       " 'video_id',\n",
       " 'agent',\n",
       " 'all_subjects',\n",
       " 'coherence_calculation_frequencies',\n",
       " 'cohort',\n",
       " 'first_timestamp',\n",
       " 'granger_calculation_frequencies',\n",
       " 'last_timestamp',\n",
       " 'power_calculation_frequencies',\n",
       " 'recording',\n",
       " 'session_path',\n",
       " 'subject',\n",
       " 'tone_frames',\n",
       " 'tone_timestamps',\n",
       " 'video_timestamps',\n",
       " 'baseline_start_timestamp',\n",
       " 'post_trial_end_timestamp',\n",
       " 'video_frame',\n",
       " 'trial_and_post_agent_locations',\n",
       " 'trial_and_post_agent_nose',\n",
       " 'trial_and_post_agent_nose_to_reward_port',\n",
       " 'trial_and_post_agent_thorax',\n",
       " 'trial_and_post_agent_thorax_velocity',\n",
       " 'trial_and_post_agent_to_reward_port_angle',\n",
       " 'trial_and_post_closebool_agent_nose_to_reward_port',\n",
       " 'trial_and_post_closebool_subject_nose_to_reward_port',\n",
       " 'trial_and_post_frame_index',\n",
       " 'trial_and_post_kmeans_cluster',\n",
       " 'trial_and_post_manual_cluster_id',\n",
       " 'trial_and_post_movingbool_agent_thorax_velocity',\n",
       " 'trial_and_post_movingbool_subject_thorax_velocity',\n",
       " 'trial_and_post_nose_to_reward_port_diff',\n",
       " 'trial_and_post_nose_to_reward_port_sum',\n",
       " 'trial_and_post_standard_embedding_x',\n",
       " 'trial_and_post_standard_embedding_y',\n",
       " 'trial_and_post_subject_locations',\n",
       " 'trial_and_post_subject_nose',\n",
       " 'trial_and_post_subject_nose_to_reward_port',\n",
       " 'trial_and_post_subject_thorax',\n",
       " 'trial_and_post_subject_thorax_to_agent_thorax',\n",
       " 'trial_and_post_subject_thorax_velocity',\n",
       " 'trial_and_post_subject_to_reward_port_angle',\n",
       " 'trial_and_post_thorax_velocity_diff',\n",
       " 'trial_and_post_thorax_velocity_sum',\n",
       " 'trial_and_post_to_reward_port_angle_diff',\n",
       " 'trial_and_post_to_reward_port_angle_sum',\n",
       " 'trial_and_post_video_timestamps',\n",
       " 'trial_and_post_BLA_LH_coherence_all_frequencies_all_windows',\n",
       " 'trial_and_post_BLA_LH_coherence_gamma',\n",
       " 'trial_and_post_BLA_LH_coherence_theta',\n",
       " 'trial_and_post_BLA_MD_coherence_all_frequencies_all_windows',\n",
       " 'trial_and_post_BLA_MD_coherence_gamma',\n",
       " 'trial_and_post_BLA_MD_coherence_theta',\n",
       " 'trial_and_post_BLA_mPFC_coherence_all_frequencies_all_windows',\n",
       " 'trial_and_post_BLA_mPFC_coherence_gamma',\n",
       " 'trial_and_post_BLA_mPFC_coherence_theta',\n",
       " 'trial_and_post_BLA_vHPC_coherence_all_frequencies_all_windows',\n",
       " 'trial_and_post_BLA_vHPC_coherence_gamma',\n",
       " 'trial_and_post_BLA_vHPC_coherence_theta',\n",
       " 'trial_and_post_LH_MD_coherence_all_frequencies_all_windows',\n",
       " 'trial_and_post_LH_MD_coherence_gamma',\n",
       " 'trial_and_post_LH_MD_coherence_theta',\n",
       " 'trial_and_post_LH_mPFC_coherence_all_frequencies_all_windows',\n",
       " 'trial_and_post_LH_mPFC_coherence_gamma',\n",
       " 'trial_and_post_LH_mPFC_coherence_theta',\n",
       " 'trial_and_post_LH_vHPC_coherence_all_frequencies_all_windows',\n",
       " 'trial_and_post_LH_vHPC_coherence_gamma',\n",
       " 'trial_and_post_LH_vHPC_coherence_theta',\n",
       " 'trial_and_post_MD_mPFC_coherence_all_frequencies_all_windows',\n",
       " 'trial_and_post_MD_mPFC_coherence_gamma',\n",
       " 'trial_and_post_MD_mPFC_coherence_theta',\n",
       " 'trial_and_post_MD_vHPC_coherence_all_frequencies_all_windows',\n",
       " 'trial_and_post_MD_vHPC_coherence_gamma',\n",
       " 'trial_and_post_MD_vHPC_coherence_theta',\n",
       " 'trial_and_post_mPFC_vHPC_coherence_all_frequencies_all_windows',\n",
       " 'trial_and_post_mPFC_vHPC_coherence_gamma',\n",
       " 'trial_and_post_mPFC_vHPC_coherence_theta',\n",
       " 'trial_and_post_coherence_timestamps',\n",
       " 'trial_and_post_BLA-to-LH_granger_gamma',\n",
       " 'trial_and_post_BLA-to-LH_granger_theta',\n",
       " 'trial_and_post_BLA-to-MD_granger_gamma',\n",
       " 'trial_and_post_BLA-to-MD_granger_theta',\n",
       " 'trial_and_post_BLA-to-mPFC_granger_gamma',\n",
       " 'trial_and_post_BLA-to-mPFC_granger_theta',\n",
       " 'trial_and_post_BLA-to-vHPC_granger_gamma',\n",
       " 'trial_and_post_BLA-to-vHPC_granger_theta',\n",
       " 'trial_and_post_BLA_LH_granger_all_frequencies_all_windows',\n",
       " 'trial_and_post_BLA_MD_granger_all_frequencies_all_windows',\n",
       " 'trial_and_post_BLA_mPFC_granger_all_frequencies_all_windows',\n",
       " 'trial_and_post_BLA_vHPC_granger_all_frequencies_all_windows',\n",
       " 'trial_and_post_LH-to-BLA_granger_gamma',\n",
       " 'trial_and_post_LH-to-BLA_granger_theta',\n",
       " 'trial_and_post_LH-to-MD_granger_gamma',\n",
       " 'trial_and_post_LH-to-MD_granger_theta',\n",
       " 'trial_and_post_LH-to-mPFC_granger_gamma',\n",
       " 'trial_and_post_LH-to-mPFC_granger_theta',\n",
       " 'trial_and_post_LH-to-vHPC_granger_gamma',\n",
       " 'trial_and_post_LH-to-vHPC_granger_theta',\n",
       " 'trial_and_post_LH_BLA_granger_all_frequencies_all_windows',\n",
       " 'trial_and_post_LH_MD_granger_all_frequencies_all_windows',\n",
       " 'trial_and_post_LH_mPFC_granger_all_frequencies_all_windows',\n",
       " 'trial_and_post_LH_vHPC_granger_all_frequencies_all_windows',\n",
       " 'trial_and_post_MD-to-BLA_granger_gamma',\n",
       " 'trial_and_post_MD-to-BLA_granger_theta',\n",
       " 'trial_and_post_MD-to-LH_granger_gamma',\n",
       " 'trial_and_post_MD-to-LH_granger_theta',\n",
       " 'trial_and_post_MD-to-mPFC_granger_gamma',\n",
       " 'trial_and_post_MD-to-mPFC_granger_theta',\n",
       " 'trial_and_post_MD-to-vHPC_granger_gamma',\n",
       " 'trial_and_post_MD-to-vHPC_granger_theta',\n",
       " 'trial_and_post_MD_BLA_granger_all_frequencies_all_windows',\n",
       " 'trial_and_post_MD_LH_granger_all_frequencies_all_windows',\n",
       " 'trial_and_post_MD_mPFC_granger_all_frequencies_all_windows',\n",
       " 'trial_and_post_MD_vHPC_granger_all_frequencies_all_windows',\n",
       " 'trial_and_post_mPFC-to-BLA_granger_gamma',\n",
       " 'trial_and_post_mPFC-to-BLA_granger_theta',\n",
       " 'trial_and_post_mPFC-to-LH_granger_gamma',\n",
       " 'trial_and_post_mPFC-to-LH_granger_theta',\n",
       " 'trial_and_post_mPFC-to-MD_granger_gamma',\n",
       " 'trial_and_post_mPFC-to-MD_granger_theta',\n",
       " 'trial_and_post_mPFC-to-vHPC_granger_gamma',\n",
       " 'trial_and_post_mPFC-to-vHPC_granger_theta',\n",
       " 'trial_and_post_mPFC_BLA_granger_all_frequencies_all_windows',\n",
       " 'trial_and_post_mPFC_LH_granger_all_frequencies_all_windows',\n",
       " 'trial_and_post_mPFC_MD_granger_all_frequencies_all_windows',\n",
       " 'trial_and_post_mPFC_vHPC_granger_all_frequencies_all_windows',\n",
       " 'trial_and_post_vHPC-to-BLA_granger_gamma',\n",
       " 'trial_and_post_vHPC-to-BLA_granger_theta',\n",
       " 'trial_and_post_vHPC-to-LH_granger_gamma',\n",
       " 'trial_and_post_vHPC-to-LH_granger_theta',\n",
       " 'trial_and_post_vHPC-to-MD_granger_gamma',\n",
       " 'trial_and_post_vHPC-to-MD_granger_theta',\n",
       " 'trial_and_post_vHPC-to-mPFC_granger_gamma',\n",
       " 'trial_and_post_vHPC-to-mPFC_granger_theta',\n",
       " 'trial_and_post_vHPC_BLA_granger_all_frequencies_all_windows',\n",
       " 'trial_and_post_vHPC_LH_granger_all_frequencies_all_windows',\n",
       " 'trial_and_post_vHPC_MD_granger_all_frequencies_all_windows',\n",
       " 'trial_and_post_vHPC_mPFC_granger_all_frequencies_all_windows',\n",
       " 'trial_and_post_granger_timestamps',\n",
       " 'trial_and_post_BLA_RMS_filtered_power_all_frequencies_all_windows',\n",
       " 'trial_and_post_BLA_RMS_filtered_power_gamma',\n",
       " 'trial_and_post_BLA_RMS_filtered_power_theta',\n",
       " 'trial_and_post_LH_RMS_filtered_power_all_frequencies_all_windows',\n",
       " 'trial_and_post_LH_RMS_filtered_power_gamma',\n",
       " 'trial_and_post_LH_RMS_filtered_power_theta',\n",
       " 'trial_and_post_MD_RMS_filtered_power_all_frequencies_all_windows',\n",
       " 'trial_and_post_MD_RMS_filtered_power_gamma',\n",
       " 'trial_and_post_MD_RMS_filtered_power_theta',\n",
       " 'trial_and_post_mPFC_RMS_filtered_power_all_frequencies_all_windows',\n",
       " 'trial_and_post_mPFC_RMS_filtered_power_gamma',\n",
       " 'trial_and_post_mPFC_RMS_filtered_power_theta',\n",
       " 'trial_and_post_vHPC_RMS_filtered_power_all_frequencies_all_windows',\n",
       " 'trial_and_post_vHPC_RMS_filtered_power_gamma',\n",
       " 'trial_and_post_vHPC_RMS_filtered_power_theta',\n",
       " 'trial_and_post_power_timestamps',\n",
       " 'trial_and_post_BLA_gamma_band',\n",
       " 'trial_and_post_BLA_gamma_phase',\n",
       " 'trial_and_post_BLA_lfp_trace',\n",
       " 'trial_and_post_BLA_theta_band',\n",
       " 'trial_and_post_BLA_theta_phase',\n",
       " 'trial_and_post_LH_gamma_band',\n",
       " 'trial_and_post_LH_gamma_phase',\n",
       " 'trial_and_post_LH_lfp_trace',\n",
       " 'trial_and_post_LH_theta_band',\n",
       " 'trial_and_post_LH_theta_phase',\n",
       " 'trial_and_post_MD_gamma_band',\n",
       " 'trial_and_post_MD_gamma_phase',\n",
       " 'trial_and_post_MD_lfp_trace',\n",
       " 'trial_and_post_MD_theta_band',\n",
       " 'trial_and_post_MD_theta_phase',\n",
       " 'trial_and_post_mPFC_gamma_band',\n",
       " 'trial_and_post_mPFC_gamma_phase',\n",
       " 'trial_and_post_mPFC_lfp_trace',\n",
       " 'trial_and_post_mPFC_theta_band',\n",
       " 'trial_and_post_mPFC_theta_phase',\n",
       " 'trial_and_post_vHPC_gamma_band',\n",
       " 'trial_and_post_vHPC_gamma_phase',\n",
       " 'trial_and_post_vHPC_lfp_trace',\n",
       " 'trial_and_post_vHPC_theta_band',\n",
       " 'trial_and_post_vHPC_theta_phase',\n",
       " 'trial_and_post_lfp_timestamps',\n",
       " 'trial_label']"
      ]
     },
     "execution_count": 41,
     "metadata": {},
     "output_type": "execute_result"
    }
   ],
   "source": [
    "list(TRIALS_AND_SPECTRAL_DF.columns)"
   ]
  },
  {
   "cell_type": "code",
   "execution_count": 45,
   "metadata": {
    "tags": []
   },
   "outputs": [],
   "source": [
    "TRIALS_AND_SPECTRAL_DF[\"cluster_index_ranges_dict\"] = TRIALS_AND_SPECTRAL_DF[\"trial_and_post_kmeans_cluster\"].apply(lambda x: find_consecutive_ranges(x, min_length=20))\n"
   ]
  },
  {
   "cell_type": "code",
   "execution_count": 46,
   "metadata": {
    "tags": []
   },
   "outputs": [
    {
     "data": {
      "text/plain": [
       "{5: [(4, 44), (58, 228), (281, 304)], 1: [(254, 280)], 2: [(358, 381)]}"
      ]
     },
     "execution_count": 46,
     "metadata": {},
     "output_type": "execute_result"
    }
   ],
   "source": [
    "TRIALS_AND_SPECTRAL_DF[\"cluster_index_ranges_dict\"].iloc[0]"
   ]
  },
  {
   "cell_type": "code",
   "execution_count": 47,
   "metadata": {
    "tags": []
   },
   "outputs": [
    {
     "data": {
      "text/html": [
       "<div>\n",
       "<style scoped>\n",
       "    .dataframe tbody tr th:only-of-type {\n",
       "        vertical-align: middle;\n",
       "    }\n",
       "\n",
       "    .dataframe tbody tr th {\n",
       "        vertical-align: top;\n",
       "    }\n",
       "\n",
       "    .dataframe thead th {\n",
       "        text-align: right;\n",
       "    }\n",
       "</style>\n",
       "<table border=\"1\" class=\"dataframe\">\n",
       "  <thead>\n",
       "    <tr style=\"text-align: right;\">\n",
       "      <th></th>\n",
       "      <th>tone_start_frame</th>\n",
       "      <th>reward_start</th>\n",
       "      <th>reward_dispensed</th>\n",
       "      <th>tone_stop_frame</th>\n",
       "      <th>condition</th>\n",
       "      <th>competition_closeness</th>\n",
       "      <th>get_reward_frame</th>\n",
       "      <th>out_reward_frame</th>\n",
       "      <th>notes</th>\n",
       "      <th>box_1_port_entry_frames</th>\n",
       "      <th>...</th>\n",
       "      <th>trial_and_post_mPFC_theta_phase</th>\n",
       "      <th>trial_and_post_vHPC_gamma_band</th>\n",
       "      <th>trial_and_post_vHPC_gamma_phase</th>\n",
       "      <th>trial_and_post_vHPC_lfp_trace</th>\n",
       "      <th>trial_and_post_vHPC_theta_band</th>\n",
       "      <th>trial_and_post_vHPC_theta_phase</th>\n",
       "      <th>trial_and_post_lfp_timestamps</th>\n",
       "      <th>trial_label</th>\n",
       "      <th>trial_and_post_cluster_index_ranges_dict</th>\n",
       "      <th>cluster_index_ranges_dict</th>\n",
       "    </tr>\n",
       "  </thead>\n",
       "  <tbody>\n",
       "    <tr>\n",
       "      <th>0</th>\n",
       "      <td>34242.0</td>\n",
       "      <td>34322</td>\n",
       "      <td>34342.0</td>\n",
       "      <td>34442.0</td>\n",
       "      <td>4.3</td>\n",
       "      <td>NaN</td>\n",
       "      <td>NaN</td>\n",
       "      <td>NaN</td>\n",
       "      <td>NaN</td>\n",
       "      <td>[34250 34265]</td>\n",
       "      <td>...</td>\n",
       "      <td>[0.0660045, 0.100497134, 0.13558412, 0.1712443...</td>\n",
       "      <td>[-0.33073074, -0.2819916, -0.21614309, -0.1376...</td>\n",
       "      <td>[-2.721211, -2.4700835, -2.2192981, -1.9688195...</td>\n",
       "      <td>[100.424995, 94.38, 89.7, 106.274994, 127.1399...</td>\n",
       "      <td>[0.5714821, 0.57240754, 0.5722418, 0.57094795,...</td>\n",
       "      <td>[0.16306445, 0.20337772, 0.24396515, 0.2848233...</td>\n",
       "      <td>[34280580, 34280600, 34280620, 34280640, 34280...</td>\n",
       "      <td>lose</td>\n",
       "      <td>{5: [(4, 44), (58, 228), (281, 304)], 1: [(254...</td>\n",
       "      <td>{5: [(4, 44), (58, 228), (281, 304)], 1: [(254...</td>\n",
       "    </tr>\n",
       "    <tr>\n",
       "      <th>1</th>\n",
       "      <td>34242.0</td>\n",
       "      <td>34322</td>\n",
       "      <td>34342.0</td>\n",
       "      <td>34442.0</td>\n",
       "      <td>4.3</td>\n",
       "      <td>NaN</td>\n",
       "      <td>NaN</td>\n",
       "      <td>NaN</td>\n",
       "      <td>NaN</td>\n",
       "      <td>[34250 34265]</td>\n",
       "      <td>...</td>\n",
       "      <td>[-0.14499341, -0.07693758, -0.008636221, 0.059...</td>\n",
       "      <td>[0.005282254, 0.024448069, 0.041276596, 0.0541...</td>\n",
       "      <td>[-1.484184, -1.164493, -0.85072726, -0.5423021...</td>\n",
       "      <td>[-6.24, 8.384999, 61.815, 109.005, 125.774994,...</td>\n",
       "      <td>[0.51433784, 0.4935799, 0.47049338, 0.44517246...</td>\n",
       "      <td>[0.5733892, 0.64060175, 0.7075213, 0.7741529, ...</td>\n",
       "      <td>[34280580, 34280600, 34280620, 34280640, 34280...</td>\n",
       "      <td>win</td>\n",
       "      <td>{5: [(4, 44), (58, 228), (281, 304)], 1: [(254...</td>\n",
       "      <td>{5: [(4, 44), (58, 228), (281, 304)], 1: [(254...</td>\n",
       "    </tr>\n",
       "    <tr>\n",
       "      <th>2</th>\n",
       "      <td>35241.0</td>\n",
       "      <td>35321</td>\n",
       "      <td>35341.0</td>\n",
       "      <td>35439.0</td>\n",
       "      <td>4.3</td>\n",
       "      <td>NaN</td>\n",
       "      <td>NaN</td>\n",
       "      <td>NaN</td>\n",
       "      <td>NaN</td>\n",
       "      <td>[35242 35249] [35249 35250] [35250 35271] [353...</td>\n",
       "      <td>...</td>\n",
       "      <td>[-2.848622, -2.809103, -2.7699904, -2.7312958,...</td>\n",
       "      <td>[0.033837054, 0.08063326, 0.120246336, 0.15044...</td>\n",
       "      <td>[-1.3934808, -1.129738, -0.86815214, -0.608863...</td>\n",
       "      <td>[-65.13, -52.065, -46.215, -45.045, -38.024998...</td>\n",
       "      <td>[-0.51730657, -0.50465643, -0.49131757, -0.477...</td>\n",
       "      <td>[-2.8382177, -2.7967052, -2.75556, -2.7147894,...</td>\n",
       "      <td>[35280600, 35280620, 35280640, 35280660, 35280...</td>\n",
       "      <td>lose</td>\n",
       "      <td>{5: [(10, 31)], 6: [(32, 67)], 1: [(115, 161),...</td>\n",
       "      <td>{5: [(10, 31)], 6: [(32, 67)], 1: [(115, 161),...</td>\n",
       "    </tr>\n",
       "    <tr>\n",
       "      <th>3</th>\n",
       "      <td>35241.0</td>\n",
       "      <td>35321</td>\n",
       "      <td>35341.0</td>\n",
       "      <td>35439.0</td>\n",
       "      <td>4.3</td>\n",
       "      <td>NaN</td>\n",
       "      <td>NaN</td>\n",
       "      <td>NaN</td>\n",
       "      <td>NaN</td>\n",
       "      <td>[35242 35249] [35249 35250] [35250 35271] [353...</td>\n",
       "      <td>...</td>\n",
       "      <td>[-2.290331, -2.2391956, -2.18775, -2.1359916, ...</td>\n",
       "      <td>[0.032845914, 0.01358331, -0.008819404, -0.033...</td>\n",
       "      <td>[1.2072978, 1.4309896, 1.6569884, 1.884983, 2....</td>\n",
       "      <td>[-74.1, -20.865, 18.33, -21.644999, -101.39999...</td>\n",
       "      <td>[-0.45931047, -0.42667648, -0.3932578, -0.3591...</td>\n",
       "      <td>[-2.2182832, -2.1700776, -2.1216602, -2.073028...</td>\n",
       "      <td>[35280600, 35280620, 35280640, 35280660, 35280...</td>\n",
       "      <td>win</td>\n",
       "      <td>{5: [(10, 31)], 6: [(32, 67)], 1: [(115, 161),...</td>\n",
       "      <td>{5: [(10, 31)], 6: [(32, 67)], 1: [(115, 161),...</td>\n",
       "    </tr>\n",
       "    <tr>\n",
       "      <th>4</th>\n",
       "      <td>36339.0</td>\n",
       "      <td>36419</td>\n",
       "      <td>36439.0</td>\n",
       "      <td>36538.0</td>\n",
       "      <td>4.3</td>\n",
       "      <td>NaN</td>\n",
       "      <td>NaN</td>\n",
       "      <td>NaN</td>\n",
       "      <td>NaN</td>\n",
       "      <td>[36339 36354] [36361 36365] [36410 36473] [364...</td>\n",
       "      <td>...</td>\n",
       "      <td>[-1.434966, -1.4083124, -1.3854433, -1.3673644...</td>\n",
       "      <td>[-0.17820239, -0.24864225, -0.30498573, -0.344...</td>\n",
       "      <td>[2.0645847, 2.298156, 2.5328636, 2.768695, 3.0...</td>\n",
       "      <td>[22.814999, 32.37, 31.005, 12.674999, -14.4299...</td>\n",
       "      <td>[0.007989262, 0.015576166, 0.021102728, 0.0245...</td>\n",
       "      <td>[-1.5463593, -1.5198455, -1.4966478, -1.477523...</td>\n",
       "      <td>[36380600, 36380620, 36380640, 36380660, 36380...</td>\n",
       "      <td>lose</td>\n",
       "      <td>{3: [(10, 29)], 1: [(108, 130), (329, 350), (3...</td>\n",
       "      <td>{3: [(10, 29)], 1: [(108, 130), (329, 350), (3...</td>\n",
       "    </tr>\n",
       "  </tbody>\n",
       "</table>\n",
       "<p>5 rows × 206 columns</p>\n",
       "</div>"
      ],
      "text/plain": [
       "   tone_start_frame  reward_start  reward_dispensed  tone_stop_frame  \\\n",
       "0           34242.0         34322           34342.0          34442.0   \n",
       "1           34242.0         34322           34342.0          34442.0   \n",
       "2           35241.0         35321           35341.0          35439.0   \n",
       "3           35241.0         35321           35341.0          35439.0   \n",
       "4           36339.0         36419           36439.0          36538.0   \n",
       "\n",
       "  condition  competition_closeness  get_reward_frame  out_reward_frame notes  \\\n",
       "0        4.3                   NaN               NaN               NaN   NaN   \n",
       "1        4.3                   NaN               NaN               NaN   NaN   \n",
       "2        4.3                   NaN               NaN               NaN   NaN   \n",
       "3        4.3                   NaN               NaN               NaN   NaN   \n",
       "4        4.3                   NaN               NaN               NaN   NaN   \n",
       "\n",
       "                             box_1_port_entry_frames  ...  \\\n",
       "0                                      [34250 34265]  ...   \n",
       "1                                      [34250 34265]  ...   \n",
       "2  [35242 35249] [35249 35250] [35250 35271] [353...  ...   \n",
       "3  [35242 35249] [35249 35250] [35250 35271] [353...  ...   \n",
       "4  [36339 36354] [36361 36365] [36410 36473] [364...  ...   \n",
       "\n",
       "                     trial_and_post_mPFC_theta_phase  \\\n",
       "0  [0.0660045, 0.100497134, 0.13558412, 0.1712443...   \n",
       "1  [-0.14499341, -0.07693758, -0.008636221, 0.059...   \n",
       "2  [-2.848622, -2.809103, -2.7699904, -2.7312958,...   \n",
       "3  [-2.290331, -2.2391956, -2.18775, -2.1359916, ...   \n",
       "4  [-1.434966, -1.4083124, -1.3854433, -1.3673644...   \n",
       "\n",
       "                      trial_and_post_vHPC_gamma_band  \\\n",
       "0  [-0.33073074, -0.2819916, -0.21614309, -0.1376...   \n",
       "1  [0.005282254, 0.024448069, 0.041276596, 0.0541...   \n",
       "2  [0.033837054, 0.08063326, 0.120246336, 0.15044...   \n",
       "3  [0.032845914, 0.01358331, -0.008819404, -0.033...   \n",
       "4  [-0.17820239, -0.24864225, -0.30498573, -0.344...   \n",
       "\n",
       "                     trial_and_post_vHPC_gamma_phase  \\\n",
       "0  [-2.721211, -2.4700835, -2.2192981, -1.9688195...   \n",
       "1  [-1.484184, -1.164493, -0.85072726, -0.5423021...   \n",
       "2  [-1.3934808, -1.129738, -0.86815214, -0.608863...   \n",
       "3  [1.2072978, 1.4309896, 1.6569884, 1.884983, 2....   \n",
       "4  [2.0645847, 2.298156, 2.5328636, 2.768695, 3.0...   \n",
       "\n",
       "                       trial_and_post_vHPC_lfp_trace  \\\n",
       "0  [100.424995, 94.38, 89.7, 106.274994, 127.1399...   \n",
       "1  [-6.24, 8.384999, 61.815, 109.005, 125.774994,...   \n",
       "2  [-65.13, -52.065, -46.215, -45.045, -38.024998...   \n",
       "3  [-74.1, -20.865, 18.33, -21.644999, -101.39999...   \n",
       "4  [22.814999, 32.37, 31.005, 12.674999, -14.4299...   \n",
       "\n",
       "                      trial_and_post_vHPC_theta_band  \\\n",
       "0  [0.5714821, 0.57240754, 0.5722418, 0.57094795,...   \n",
       "1  [0.51433784, 0.4935799, 0.47049338, 0.44517246...   \n",
       "2  [-0.51730657, -0.50465643, -0.49131757, -0.477...   \n",
       "3  [-0.45931047, -0.42667648, -0.3932578, -0.3591...   \n",
       "4  [0.007989262, 0.015576166, 0.021102728, 0.0245...   \n",
       "\n",
       "                     trial_and_post_vHPC_theta_phase  \\\n",
       "0  [0.16306445, 0.20337772, 0.24396515, 0.2848233...   \n",
       "1  [0.5733892, 0.64060175, 0.7075213, 0.7741529, ...   \n",
       "2  [-2.8382177, -2.7967052, -2.75556, -2.7147894,...   \n",
       "3  [-2.2182832, -2.1700776, -2.1216602, -2.073028...   \n",
       "4  [-1.5463593, -1.5198455, -1.4966478, -1.477523...   \n",
       "\n",
       "                       trial_and_post_lfp_timestamps trial_label  \\\n",
       "0  [34280580, 34280600, 34280620, 34280640, 34280...        lose   \n",
       "1  [34280580, 34280600, 34280620, 34280640, 34280...         win   \n",
       "2  [35280600, 35280620, 35280640, 35280660, 35280...        lose   \n",
       "3  [35280600, 35280620, 35280640, 35280660, 35280...         win   \n",
       "4  [36380600, 36380620, 36380640, 36380660, 36380...        lose   \n",
       "\n",
       "            trial_and_post_cluster_index_ranges_dict  \\\n",
       "0  {5: [(4, 44), (58, 228), (281, 304)], 1: [(254...   \n",
       "1  {5: [(4, 44), (58, 228), (281, 304)], 1: [(254...   \n",
       "2  {5: [(10, 31)], 6: [(32, 67)], 1: [(115, 161),...   \n",
       "3  {5: [(10, 31)], 6: [(32, 67)], 1: [(115, 161),...   \n",
       "4  {3: [(10, 29)], 1: [(108, 130), (329, 350), (3...   \n",
       "\n",
       "                           cluster_index_ranges_dict  \n",
       "0  {5: [(4, 44), (58, 228), (281, 304)], 1: [(254...  \n",
       "1  {5: [(4, 44), (58, 228), (281, 304)], 1: [(254...  \n",
       "2  {5: [(10, 31)], 6: [(32, 67)], 1: [(115, 161),...  \n",
       "3  {5: [(10, 31)], 6: [(32, 67)], 1: [(115, 161),...  \n",
       "4  {3: [(10, 29)], 1: [(108, 130), (329, 350), (3...  \n",
       "\n",
       "[5 rows x 206 columns]"
      ]
     },
     "execution_count": 47,
     "metadata": {},
     "output_type": "execute_result"
    }
   ],
   "source": [
    "TRIALS_AND_SPECTRAL_DF.head()"
   ]
  },
  {
   "cell_type": "code",
   "execution_count": 50,
   "metadata": {
    "tags": []
   },
   "outputs": [],
   "source": [
    "TRIALS_AND_SPECTRAL_DF[\"cluster_timestamp\"] = TRIALS_AND_SPECTRAL_DF.apply(lambda x: x[\"video_timestamps\"][x[\"trial_and_post_frame_index\"]], axis=1)\n"
   ]
  },
  {
   "cell_type": "markdown",
   "metadata": {},
   "source": [
    "- Calculating the times in milliseconds of each cluster frame"
   ]
  },
  {
   "cell_type": "code",
   "execution_count": null,
   "metadata": {},
   "outputs": [],
   "source": []
  },
  {
   "cell_type": "code",
   "execution_count": 53,
   "metadata": {
    "tags": []
   },
   "outputs": [],
   "source": [
    "TRIALS_AND_SPECTRAL_DF[\"cluster_times\"] = TRIALS_AND_SPECTRAL_DF.apply(lambda x: (np.array(x[\"cluster_timestamp\"]) - x[\"first_timestamp\"]) // 20, axis=1)\n"
   ]
  },
  {
   "cell_type": "markdown",
   "metadata": {},
   "source": [
    "- Updating the index to use cluster times and timestamps based on video frame timestamps list"
   ]
  },
  {
   "cell_type": "code",
   "execution_count": 54,
   "metadata": {
    "tags": []
   },
   "outputs": [],
   "source": [
    "TRIALS_AND_SPECTRAL_DF[\"cluster_times_ranges_dict\"] = TRIALS_AND_SPECTRAL_DF.apply(lambda x: update_tuples_in_dict(x[\"cluster_index_ranges_dict\"], x[\"cluster_times\"]), axis=1)"
   ]
  },
  {
   "cell_type": "code",
   "execution_count": 55,
   "metadata": {
    "tags": []
   },
   "outputs": [],
   "source": [
    "TRIALS_AND_SPECTRAL_DF[\"cluster_timestamps_ranges_dict\"] = TRIALS_AND_SPECTRAL_DF.apply(lambda x: update_tuples_in_dict(x[\"cluster_index_ranges_dict\"], x[\"cluster_timestamp\"]), axis=1)"
   ]
  },
  {
   "cell_type": "markdown",
   "metadata": {},
   "source": [
    "- Combining the win and loss label with the cluster"
   ]
  },
  {
   "cell_type": "code",
   "execution_count": 56,
   "metadata": {
    "tags": []
   },
   "outputs": [],
   "source": [
    "TRIALS_AND_SPECTRAL_DF[\"trial_cluster_times_ranges_dict\"] = TRIALS_AND_SPECTRAL_DF.apply(lambda x: {\"{}_{}\".format(x[\"trial_label\"], k): v for k, v in x[\"cluster_times_ranges_dict\"].items()}, axis=1)\n"
   ]
  },
  {
   "cell_type": "code",
   "execution_count": 57,
   "metadata": {
    "tags": []
   },
   "outputs": [],
   "source": [
    "TRIALS_AND_SPECTRAL_DF[\"trial_cluster_timestamps_ranges_dict\"] = TRIALS_AND_SPECTRAL_DF.apply(lambda x: {\"{}_{}\".format(x[\"trial_label\"], k): v for k, v in x[\"cluster_timestamps_ranges_dict\"].items()}, axis=1)\n"
   ]
  },
  {
   "cell_type": "code",
   "execution_count": 59,
   "metadata": {},
   "outputs": [
    {
     "data": {
      "text/plain": [
       "{'lose_5': [(34285025, 34325215), (34339074, 34509536), (34562199, 34585759)],\n",
       " 'lose_1': [(34535867, 34562199)],\n",
       " 'lose_2': [(34639808, 34661982)]}"
      ]
     },
     "execution_count": 59,
     "metadata": {},
     "output_type": "execute_result"
    }
   ],
   "source": [
    "TRIALS_AND_SPECTRAL_DF[\"trial_cluster_timestamps_ranges_dict\"].iloc[0]"
   ]
  },
  {
   "cell_type": "code",
   "execution_count": 61,
   "metadata": {
    "tags": []
   },
   "outputs": [
    {
     "data": {
      "text/plain": [
       "Index(['tone_start_frame', 'reward_start', 'reward_dispensed',\n",
       "       'tone_stop_frame', 'condition ', 'competition_closeness',\n",
       "       'get_reward_frame', 'out_reward_frame', 'notes',\n",
       "       'box_1_port_entry_frames',\n",
       "       ...\n",
       "       'trial_and_post_lfp_timestamps', 'trial_label',\n",
       "       'trial_and_post_cluster_index_ranges_dict', 'cluster_index_ranges_dict',\n",
       "       'cluster_timestamp', 'cluster_times', 'cluster_times_ranges_dict',\n",
       "       'cluster_timestamps_ranges_dict', 'trial_cluster_times_ranges_dict',\n",
       "       'trial_cluster_timestamps_ranges_dict'],\n",
       "      dtype='object', length=212)"
      ]
     },
     "execution_count": 61,
     "metadata": {},
     "output_type": "execute_result"
    }
   ],
   "source": [
    "TRIALS_AND_SPECTRAL_DF.columns"
   ]
  },
  {
   "cell_type": "code",
   "execution_count": 62,
   "metadata": {
    "tags": []
   },
   "outputs": [
    {
     "data": {
      "text/plain": [
       "array([34290000, 34300000, 34310000, 34320000, 34330000, 34340000,\n",
       "       34350000, 34360000, 34370000, 34380000, 34390000, 34400000,\n",
       "       34410000, 34420000, 34430000, 34440000, 34450000, 34460000,\n",
       "       34470000, 34480000, 34490000, 34500000, 34510000, 34520000,\n",
       "       34530000, 34540000, 34550000, 34560000, 34570000, 34580000,\n",
       "       34590000, 34600000, 34610000, 34620000, 34630000, 34640000,\n",
       "       34650000, 34660000, 34670000, 34680000])"
      ]
     },
     "execution_count": 62,
     "metadata": {},
     "output_type": "execute_result"
    }
   ],
   "source": [
    "TRIALS_AND_SPECTRAL_DF[\"trial_and_post_coherence_timestamps\"].iloc[0]"
   ]
  },
  {
   "cell_type": "code",
   "execution_count": 67,
   "metadata": {
    "tags": []
   },
   "outputs": [],
   "source": [
    "timestamps_col = [col for col in TRIALS_AND_SPECTRAL_DF.columns if \"timestamps\" in col and \"trial_and_post\" in col and \"video\" not in col]"
   ]
  },
  {
   "cell_type": "code",
   "execution_count": 66,
   "metadata": {
    "tags": []
   },
   "outputs": [
    {
     "data": {
      "text/plain": [
       "['trial_and_post_video_timestamps',\n",
       " 'trial_and_post_coherence_timestamps',\n",
       " 'trial_and_post_granger_timestamps',\n",
       " 'trial_and_post_power_timestamps',\n",
       " 'trial_and_post_lfp_timestamps']"
      ]
     },
     "execution_count": 66,
     "metadata": {},
     "output_type": "execute_result"
    }
   ],
   "source": [
    "timestamps_col"
   ]
  },
  {
   "cell_type": "code",
   "execution_count": 79,
   "metadata": {
    "tags": []
   },
   "outputs": [],
   "source": [
    "for col in timestamps_col:\n",
    "    base_col = col.replace(\"trial_and_post_\", \"\")\n",
    "    TRIALS_AND_SPECTRAL_DF[\"cluster_filtered_{}\".format(base_col)] = TRIALS_AND_SPECTRAL_DF.apply(lambda x: find_indices_within_ranges(x[\"trial_cluster_timestamps_ranges_dict\"], x[col]), axis=1)"
   ]
  },
  {
   "cell_type": "code",
   "execution_count": 80,
   "metadata": {
    "tags": []
   },
   "outputs": [],
   "source": [
    "TRIALS_AND_SPECTRAL_DF = TRIALS_AND_SPECTRAL_DF[TRIALS_AND_SPECTRAL_DF[\"cluster_filtered_power_timestamps\"].apply(lambda x: len(x)) >= 1] "
   ]
  },
  {
   "cell_type": "code",
   "execution_count": 81,
   "metadata": {
    "tags": []
   },
   "outputs": [],
   "source": [
    "power_exploded_TRIALS_AND_SPECTRAL_DF = TRIALS_AND_SPECTRAL_DF.explode([\"cluster_filtered_power_timestamps\"])"
   ]
  },
  {
   "cell_type": "code",
   "execution_count": 82,
   "metadata": {
    "tags": []
   },
   "outputs": [
    {
     "data": {
      "text/plain": [
       "0      (lose_5, [0, 1, 2, 3, 5, 6, 7, 8, 9, 10, 11, 1...\n",
       "0                                 (lose_1, [25, 26, 27])\n",
       "0                                 (lose_2, [35, 36, 37])\n",
       "1      (win_5, [0, 1, 2, 3, 5, 6, 7, 8, 9, 10, 11, 12...\n",
       "1                                  (win_1, [25, 26, 27])\n",
       "                             ...                        \n",
       "246    (tie_0, [15, 16, 17, 18, 19, 20, 21, 22, 23, 2...\n",
       "246                                (tie_7, [30, 31, 32])\n",
       "247             (tie_3, [5, 6, 7, 8, 9, 10, 37, 38, 39])\n",
       "247    (tie_0, [15, 16, 17, 18, 19, 20, 21, 22, 23, 2...\n",
       "247                                (tie_7, [30, 31, 32])\n",
       "Name: cluster_filtered_power_timestamps, Length: 836, dtype: object"
      ]
     },
     "execution_count": 82,
     "metadata": {},
     "output_type": "execute_result"
    }
   ],
   "source": [
    "power_exploded_TRIALS_AND_SPECTRAL_DF[\"cluster_filtered_power_timestamps\"]"
   ]
  },
  {
   "cell_type": "code",
   "execution_count": 83,
   "metadata": {
    "tags": []
   },
   "outputs": [],
   "source": [
    "power_exploded_TRIALS_AND_SPECTRAL_DF[\"power_cluster_id\"] = power_exploded_TRIALS_AND_SPECTRAL_DF[\"cluster_filtered_power_timestamps\"].apply(lambda x: x[0])\n",
    "power_exploded_TRIALS_AND_SPECTRAL_DF[\"power_cluster_indexes\"] = power_exploded_TRIALS_AND_SPECTRAL_DF[\"cluster_filtered_power_timestamps\"].apply(lambda x: x[1])"
   ]
  },
  {
   "cell_type": "code",
   "execution_count": 86,
   "metadata": {
    "tags": []
   },
   "outputs": [],
   "source": [
    "power_columns = [col for col in power_exploded_TRIALS_AND_SPECTRAL_DF if \"power\" in col and \"trial_and_post\" in col and \"timestamps\" not in col]"
   ]
  },
  {
   "cell_type": "code",
   "execution_count": 87,
   "metadata": {
    "tags": []
   },
   "outputs": [
    {
     "data": {
      "text/plain": [
       "['trial_and_post_BLA_RMS_filtered_power_all_frequencies_all_windows',\n",
       " 'trial_and_post_BLA_RMS_filtered_power_gamma',\n",
       " 'trial_and_post_BLA_RMS_filtered_power_theta',\n",
       " 'trial_and_post_LH_RMS_filtered_power_all_frequencies_all_windows',\n",
       " 'trial_and_post_LH_RMS_filtered_power_gamma',\n",
       " 'trial_and_post_LH_RMS_filtered_power_theta',\n",
       " 'trial_and_post_MD_RMS_filtered_power_all_frequencies_all_windows',\n",
       " 'trial_and_post_MD_RMS_filtered_power_gamma',\n",
       " 'trial_and_post_MD_RMS_filtered_power_theta',\n",
       " 'trial_and_post_mPFC_RMS_filtered_power_all_frequencies_all_windows',\n",
       " 'trial_and_post_mPFC_RMS_filtered_power_gamma',\n",
       " 'trial_and_post_mPFC_RMS_filtered_power_theta',\n",
       " 'trial_and_post_vHPC_RMS_filtered_power_all_frequencies_all_windows',\n",
       " 'trial_and_post_vHPC_RMS_filtered_power_gamma',\n",
       " 'trial_and_post_vHPC_RMS_filtered_power_theta']"
      ]
     },
     "execution_count": 87,
     "metadata": {},
     "output_type": "execute_result"
    }
   ],
   "source": [
    "power_columns"
   ]
  },
  {
   "cell_type": "code",
   "execution_count": 89,
   "metadata": {
    "tags": []
   },
   "outputs": [],
   "source": [
    "for col in power_columns:\n",
    "    power_exploded_TRIALS_AND_SPECTRAL_DF[\"cluster_{}\".format(col)] = power_exploded_TRIALS_AND_SPECTRAL_DF.apply(lambda x: x[col][x[\"power_cluster_indexes\"]], axis=1)"
   ]
  },
  {
   "cell_type": "code",
   "execution_count": 92,
   "metadata": {
    "tags": []
   },
   "outputs": [
    {
     "data": {
      "text/plain": [
       "(23,)"
      ]
     },
     "execution_count": 92,
     "metadata": {},
     "output_type": "execute_result"
    }
   ],
   "source": [
    "power_exploded_TRIALS_AND_SPECTRAL_DF[\"cluster_{}\".format(col)].iloc[0].shape"
   ]
  },
  {
   "cell_type": "code",
   "execution_count": 94,
   "metadata": {
    "tags": []
   },
   "outputs": [
    {
     "data": {
      "text/plain": [
       "23"
      ]
     },
     "execution_count": 94,
     "metadata": {},
     "output_type": "execute_result"
    }
   ],
   "source": [
    "len(power_exploded_TRIALS_AND_SPECTRAL_DF[\"power_cluster_indexes\"].iloc[0])"
   ]
  },
  {
   "cell_type": "code",
   "execution_count": 95,
   "metadata": {
    "tags": []
   },
   "outputs": [
    {
     "data": {
      "text/html": [
       "<div>\n",
       "<style scoped>\n",
       "    .dataframe tbody tr th:only-of-type {\n",
       "        vertical-align: middle;\n",
       "    }\n",
       "\n",
       "    .dataframe tbody tr th {\n",
       "        vertical-align: top;\n",
       "    }\n",
       "\n",
       "    .dataframe thead th {\n",
       "        text-align: right;\n",
       "    }\n",
       "</style>\n",
       "<table border=\"1\" class=\"dataframe\">\n",
       "  <thead>\n",
       "    <tr style=\"text-align: right;\">\n",
       "      <th></th>\n",
       "      <th>tone_start_frame</th>\n",
       "      <th>reward_start</th>\n",
       "      <th>reward_dispensed</th>\n",
       "      <th>tone_stop_frame</th>\n",
       "      <th>condition</th>\n",
       "      <th>competition_closeness</th>\n",
       "      <th>get_reward_frame</th>\n",
       "      <th>out_reward_frame</th>\n",
       "      <th>notes</th>\n",
       "      <th>box_1_port_entry_frames</th>\n",
       "      <th>...</th>\n",
       "      <th>cluster_trial_and_post_LH_RMS_filtered_power_theta</th>\n",
       "      <th>cluster_trial_and_post_MD_RMS_filtered_power_all_frequencies_all_windows</th>\n",
       "      <th>cluster_trial_and_post_MD_RMS_filtered_power_gamma</th>\n",
       "      <th>cluster_trial_and_post_MD_RMS_filtered_power_theta</th>\n",
       "      <th>cluster_trial_and_post_mPFC_RMS_filtered_power_all_frequencies_all_windows</th>\n",
       "      <th>cluster_trial_and_post_mPFC_RMS_filtered_power_gamma</th>\n",
       "      <th>cluster_trial_and_post_mPFC_RMS_filtered_power_theta</th>\n",
       "      <th>cluster_trial_and_post_vHPC_RMS_filtered_power_all_frequencies_all_windows</th>\n",
       "      <th>cluster_trial_and_post_vHPC_RMS_filtered_power_gamma</th>\n",
       "      <th>cluster_trial_and_post_vHPC_RMS_filtered_power_theta</th>\n",
       "    </tr>\n",
       "  </thead>\n",
       "  <tbody>\n",
       "    <tr>\n",
       "      <th>0</th>\n",
       "      <td>34242.0</td>\n",
       "      <td>34322</td>\n",
       "      <td>34342.0</td>\n",
       "      <td>34442.0</td>\n",
       "      <td>4.3</td>\n",
       "      <td>NaN</td>\n",
       "      <td>NaN</td>\n",
       "      <td>NaN</td>\n",
       "      <td>NaN</td>\n",
       "      <td>[34250 34265]</td>\n",
       "      <td>...</td>\n",
       "      <td>[0.049118653, 0.04432029, 0.022806628, 0.01454...</td>\n",
       "      <td>[[0.017404627, 0.009237435, 0.020289144, 0.037...</td>\n",
       "      <td>[0.0010392, 0.0017778483, 0.0017340889, 0.0018...</td>\n",
       "      <td>[0.049298737, 0.04430734, 0.02234565, 0.015264...</td>\n",
       "      <td>[[0.010256077, 0.005490159, 0.014048004, 0.034...</td>\n",
       "      <td>[0.0011133909, 0.0017187449, 0.0016338199, 0.0...</td>\n",
       "      <td>[0.048836093, 0.03983216, 0.018579122, 0.01443...</td>\n",
       "      <td>[[nan, nan, nan, nan, nan, nan, nan, nan, nan,...</td>\n",
       "      <td>[nan, nan, 0.0017035144, 0.0019062511, 0.00202...</td>\n",
       "      <td>[nan, nan, 0.021297257, 0.012002589, 0.0345453...</td>\n",
       "    </tr>\n",
       "    <tr>\n",
       "      <th>0</th>\n",
       "      <td>34242.0</td>\n",
       "      <td>34322</td>\n",
       "      <td>34342.0</td>\n",
       "      <td>34442.0</td>\n",
       "      <td>4.3</td>\n",
       "      <td>NaN</td>\n",
       "      <td>NaN</td>\n",
       "      <td>NaN</td>\n",
       "      <td>NaN</td>\n",
       "      <td>[34250 34265]</td>\n",
       "      <td>...</td>\n",
       "      <td>[0.03340388, 0.013828592, 0.032644738]</td>\n",
       "      <td>[[0.0011329819, 0.0029382098, 0.010730247, 0.0...</td>\n",
       "      <td>[0.00138236, 0.0015774369, 0.0015782466]</td>\n",
       "      <td>[0.033414055, 0.014103232, 0.030887991]</td>\n",
       "      <td>[[0.0007109967, 0.0025325161, 0.010118886, 0.0...</td>\n",
       "      <td>[0.0015798573, 0.0018669195, 0.001755629]</td>\n",
       "      <td>[0.034668207, 0.0144437505, 0.033530086]</td>\n",
       "      <td>[[0.0010037111, 0.002760056, 0.011625801, 0.01...</td>\n",
       "      <td>[0.0015151085, 0.0019391747, 0.0017612593]</td>\n",
       "      <td>[0.031577937, 0.012718529, 0.028678037]</td>\n",
       "    </tr>\n",
       "    <tr>\n",
       "      <th>0</th>\n",
       "      <td>34242.0</td>\n",
       "      <td>34322</td>\n",
       "      <td>34342.0</td>\n",
       "      <td>34442.0</td>\n",
       "      <td>4.3</td>\n",
       "      <td>NaN</td>\n",
       "      <td>NaN</td>\n",
       "      <td>NaN</td>\n",
       "      <td>NaN</td>\n",
       "      <td>[34250 34265]</td>\n",
       "      <td>...</td>\n",
       "      <td>[0.026547624, 0.040914092, 0.024725916]</td>\n",
       "      <td>[[0.0043959557, 0.019276168, 0.028550087, 0.02...</td>\n",
       "      <td>[0.0018075058, 0.0020755674, 0.002119519]</td>\n",
       "      <td>[0.027208393, 0.04165223, 0.024425242]</td>\n",
       "      <td>[[0.0029105109, 0.017083567, 0.025493046, 0.02...</td>\n",
       "      <td>[0.0020433604, 0.0019597295, 0.002066028]</td>\n",
       "      <td>[0.025156047, 0.036479283, 0.023404984]</td>\n",
       "      <td>[[0.0037428935, 0.01909009, 0.026942024, 0.027...</td>\n",
       "      <td>[0.0019578887, 0.0018662137, 0.001895907]</td>\n",
       "      <td>[0.026043838, 0.03870262, 0.023299344]</td>\n",
       "    </tr>\n",
       "    <tr>\n",
       "      <th>1</th>\n",
       "      <td>34242.0</td>\n",
       "      <td>34322</td>\n",
       "      <td>34342.0</td>\n",
       "      <td>34442.0</td>\n",
       "      <td>4.3</td>\n",
       "      <td>NaN</td>\n",
       "      <td>NaN</td>\n",
       "      <td>NaN</td>\n",
       "      <td>NaN</td>\n",
       "      <td>[34250 34265]</td>\n",
       "      <td>...</td>\n",
       "      <td>[0.043261394, 0.033036076, 0.023986526, 0.0426...</td>\n",
       "      <td>[[0.0026740688, 0.00498721, 0.016309006, 0.041...</td>\n",
       "      <td>[0.0015232281, 0.001145195, 0.0011130486, 0.00...</td>\n",
       "      <td>[0.04461408, 0.0295235, 0.02294997, 0.03491530...</td>\n",
       "      <td>[[0.0048666033, 0.015937502, 0.02933665, 0.060...</td>\n",
       "      <td>[0.0015928985, 0.0009774407, 0.00082807784, 0....</td>\n",
       "      <td>[0.044317845, 0.035353914, 0.025194542, 0.0402...</td>\n",
       "      <td>[[0.0037987193, 0.0090422025, 0.025519658, 0.0...</td>\n",
       "      <td>[0.0022985975, 0.0015938631, 0.0012393639, 0.0...</td>\n",
       "      <td>[0.0398159, 0.034608986, 0.025157357, 0.046068...</td>\n",
       "    </tr>\n",
       "    <tr>\n",
       "      <th>1</th>\n",
       "      <td>34242.0</td>\n",
       "      <td>34322</td>\n",
       "      <td>34342.0</td>\n",
       "      <td>34442.0</td>\n",
       "      <td>4.3</td>\n",
       "      <td>NaN</td>\n",
       "      <td>NaN</td>\n",
       "      <td>NaN</td>\n",
       "      <td>NaN</td>\n",
       "      <td>[34250 34265]</td>\n",
       "      <td>...</td>\n",
       "      <td>[0.030990265, 0.030563287, 0.046492025]</td>\n",
       "      <td>[[2.900416e-05, 0.0003022305, 0.008950673, 0.0...</td>\n",
       "      <td>[0.0010723824, 0.0008024939, 0.00083178625]</td>\n",
       "      <td>[0.031504564, 0.0312215, 0.044477757]</td>\n",
       "      <td>[[0.00010818613, 0.00028267736, 0.009814792, 0...</td>\n",
       "      <td>[0.0011198713, 0.0007631681, 0.0009200637]</td>\n",
       "      <td>[0.030414684, 0.03258735, 0.048469886]</td>\n",
       "      <td>[[0.000108958506, 0.00035143815, 0.0077658286,...</td>\n",
       "      <td>[0.0008281053, 0.00066190725, 0.0006686406]</td>\n",
       "      <td>[0.026542457, 0.026474128, 0.03777187]</td>\n",
       "    </tr>\n",
       "    <tr>\n",
       "      <th>...</th>\n",
       "      <td>...</td>\n",
       "      <td>...</td>\n",
       "      <td>...</td>\n",
       "      <td>...</td>\n",
       "      <td>...</td>\n",
       "      <td>...</td>\n",
       "      <td>...</td>\n",
       "      <td>...</td>\n",
       "      <td>...</td>\n",
       "      <td>...</td>\n",
       "      <td>...</td>\n",
       "      <td>...</td>\n",
       "      <td>...</td>\n",
       "      <td>...</td>\n",
       "      <td>...</td>\n",
       "      <td>...</td>\n",
       "      <td>...</td>\n",
       "      <td>...</td>\n",
       "      <td>...</td>\n",
       "      <td>...</td>\n",
       "      <td>...</td>\n",
       "    </tr>\n",
       "    <tr>\n",
       "      <th>246</th>\n",
       "      <td>61174.0</td>\n",
       "      <td>61254</td>\n",
       "      <td>61274.0</td>\n",
       "      <td>61375.0</td>\n",
       "      <td>tie</td>\n",
       "      <td>NaN</td>\n",
       "      <td>NaN</td>\n",
       "      <td>NaN</td>\n",
       "      <td>NaN</td>\n",
       "      <td>[61188 61211] [61211 61214] [61214 61220] [612...</td>\n",
       "      <td>...</td>\n",
       "      <td>[0.034779496, 0.030795025, 0.024519028, 0.0264...</td>\n",
       "      <td>[[0.007165184, 0.02350792, 0.03555188, 0.03744...</td>\n",
       "      <td>[0.0015547881, 0.0010615957, 0.0015940937, 0.0...</td>\n",
       "      <td>[0.037937496, 0.031846806, 0.023657246, 0.0258...</td>\n",
       "      <td>[[0.007405589, 0.023178458, 0.0334355, 0.03525...</td>\n",
       "      <td>[0.0018750331, 0.0011793282, 0.0017875882, 0.0...</td>\n",
       "      <td>[0.03504678, 0.030210767, 0.02331958, 0.027523...</td>\n",
       "      <td>[[0.0074433764, 0.027607517, 0.03864226, 0.039...</td>\n",
       "      <td>[0.0018224685, 0.001228588, 0.0019482669, 0.00...</td>\n",
       "      <td>[0.033014286, 0.027767176, 0.02384674, 0.02729...</td>\n",
       "    </tr>\n",
       "    <tr>\n",
       "      <th>246</th>\n",
       "      <td>61174.0</td>\n",
       "      <td>61254</td>\n",
       "      <td>61274.0</td>\n",
       "      <td>61375.0</td>\n",
       "      <td>tie</td>\n",
       "      <td>NaN</td>\n",
       "      <td>NaN</td>\n",
       "      <td>NaN</td>\n",
       "      <td>NaN</td>\n",
       "      <td>[61188 61211] [61211 61214] [61214 61220] [612...</td>\n",
       "      <td>...</td>\n",
       "      <td>[0.02897481, 0.03992848, 0.042006325]</td>\n",
       "      <td>[[0.0059307134, 0.0063216523, 0.018682986, 0.0...</td>\n",
       "      <td>[0.0014880112, 0.0014743354, 0.0012698664]</td>\n",
       "      <td>[0.030244596, 0.038799666, 0.040436637]</td>\n",
       "      <td>[[0.0048454874, 0.006485032, 0.019611292, 0.04...</td>\n",
       "      <td>[0.0015871755, 0.0014100957, 0.0012493795]</td>\n",
       "      <td>[0.026064148, 0.033288274, 0.03844673]</td>\n",
       "      <td>[[0.005925396, 0.008483903, 0.023374194, 0.046...</td>\n",
       "      <td>[0.0017502569, 0.0014982653, 0.0013362867]</td>\n",
       "      <td>[0.027269222, 0.03432478, 0.037928835]</td>\n",
       "    </tr>\n",
       "    <tr>\n",
       "      <th>247</th>\n",
       "      <td>61174.0</td>\n",
       "      <td>61254</td>\n",
       "      <td>61274.0</td>\n",
       "      <td>61375.0</td>\n",
       "      <td>tie</td>\n",
       "      <td>NaN</td>\n",
       "      <td>NaN</td>\n",
       "      <td>NaN</td>\n",
       "      <td>NaN</td>\n",
       "      <td>[61188 61211] [61211 61214] [61214 61220] [612...</td>\n",
       "      <td>...</td>\n",
       "      <td>[0.023800597, 0.026005648, 0.017076336, 0.0177...</td>\n",
       "      <td>[[0.003955681, 0.0045808423, 0.021397913, 0.02...</td>\n",
       "      <td>[0.0013840718, 0.0018056248, 0.001683403, 0.00...</td>\n",
       "      <td>[0.022839582, 0.026060395, 0.017273102, 0.0186...</td>\n",
       "      <td>[[0.005517801, 0.008576511, 0.025602443, 0.030...</td>\n",
       "      <td>[0.0014785485, 0.0019368517, 0.0018095085, 0.0...</td>\n",
       "      <td>[0.022574034, 0.026939044, 0.019214658, 0.0197...</td>\n",
       "      <td>[[nan, nan, nan, nan, nan, nan, nan, nan, nan,...</td>\n",
       "      <td>[nan, nan, nan, nan, nan, nan, nan, nan, nan]</td>\n",
       "      <td>[nan, nan, nan, nan, nan, nan, nan, nan, nan]</td>\n",
       "    </tr>\n",
       "    <tr>\n",
       "      <th>247</th>\n",
       "      <td>61174.0</td>\n",
       "      <td>61254</td>\n",
       "      <td>61274.0</td>\n",
       "      <td>61375.0</td>\n",
       "      <td>tie</td>\n",
       "      <td>NaN</td>\n",
       "      <td>NaN</td>\n",
       "      <td>NaN</td>\n",
       "      <td>NaN</td>\n",
       "      <td>[61188 61211] [61211 61214] [61214 61220] [612...</td>\n",
       "      <td>...</td>\n",
       "      <td>[0.032219436, 0.020639228, 0.018929325, 0.0167...</td>\n",
       "      <td>[[2.7145168e-05, 0.0015520303, 0.013508321, 0....</td>\n",
       "      <td>[0.0026441943, 0.0021435444, 0.0020745182, 0.0...</td>\n",
       "      <td>[0.031723026, 0.020868437, 0.017366085, 0.0157...</td>\n",
       "      <td>[[5.9284645e-05, 0.0014917682, 0.01275937, 0.0...</td>\n",
       "      <td>[0.0026853066, 0.0024094502, 0.0022870433, 0.0...</td>\n",
       "      <td>[0.031214543, 0.02266122, 0.019571435, 0.01381...</td>\n",
       "      <td>[[nan, nan, nan, nan, nan, nan, nan, nan, nan,...</td>\n",
       "      <td>[nan, nan, nan, nan, nan, nan, nan, nan, nan, ...</td>\n",
       "      <td>[nan, nan, nan, nan, nan, nan, nan, nan, nan, ...</td>\n",
       "    </tr>\n",
       "    <tr>\n",
       "      <th>247</th>\n",
       "      <td>61174.0</td>\n",
       "      <td>61254</td>\n",
       "      <td>61274.0</td>\n",
       "      <td>61375.0</td>\n",
       "      <td>tie</td>\n",
       "      <td>NaN</td>\n",
       "      <td>NaN</td>\n",
       "      <td>NaN</td>\n",
       "      <td>NaN</td>\n",
       "      <td>[61188 61211] [61211 61214] [61214 61220] [612...</td>\n",
       "      <td>...</td>\n",
       "      <td>[0.033348974, 0.023304084, 0.024394087]</td>\n",
       "      <td>[[0.0011375622, 0.0024693832, 0.0032926798, 0....</td>\n",
       "      <td>[0.0016035349, 0.0015695237, 0.0013028821]</td>\n",
       "      <td>[0.033536047, 0.024063526, 0.02607602]</td>\n",
       "      <td>[[0.0016252008, 0.002411011, 0.0027492805, 0.0...</td>\n",
       "      <td>[0.0015718811, 0.0015149558, 0.0012969993]</td>\n",
       "      <td>[0.036076933, 0.025718883, 0.02746744]</td>\n",
       "      <td>[[nan, nan, nan, nan, nan, nan, nan, nan, nan,...</td>\n",
       "      <td>[nan, nan, nan]</td>\n",
       "      <td>[nan, nan, nan]</td>\n",
       "    </tr>\n",
       "  </tbody>\n",
       "</table>\n",
       "<p>836 rows × 233 columns</p>\n",
       "</div>"
      ],
      "text/plain": [
       "     tone_start_frame  reward_start  reward_dispensed  tone_stop_frame  \\\n",
       "0             34242.0         34322           34342.0          34442.0   \n",
       "0             34242.0         34322           34342.0          34442.0   \n",
       "0             34242.0         34322           34342.0          34442.0   \n",
       "1             34242.0         34322           34342.0          34442.0   \n",
       "1             34242.0         34322           34342.0          34442.0   \n",
       "..                ...           ...               ...              ...   \n",
       "246           61174.0         61254           61274.0          61375.0   \n",
       "246           61174.0         61254           61274.0          61375.0   \n",
       "247           61174.0         61254           61274.0          61375.0   \n",
       "247           61174.0         61254           61274.0          61375.0   \n",
       "247           61174.0         61254           61274.0          61375.0   \n",
       "\n",
       "    condition  competition_closeness  get_reward_frame  out_reward_frame  \\\n",
       "0          4.3                   NaN               NaN               NaN   \n",
       "0          4.3                   NaN               NaN               NaN   \n",
       "0          4.3                   NaN               NaN               NaN   \n",
       "1          4.3                   NaN               NaN               NaN   \n",
       "1          4.3                   NaN               NaN               NaN   \n",
       "..         ...                   ...               ...               ...   \n",
       "246        tie                   NaN               NaN               NaN   \n",
       "246        tie                   NaN               NaN               NaN   \n",
       "247        tie                   NaN               NaN               NaN   \n",
       "247        tie                   NaN               NaN               NaN   \n",
       "247        tie                   NaN               NaN               NaN   \n",
       "\n",
       "    notes                            box_1_port_entry_frames  ...  \\\n",
       "0     NaN                                      [34250 34265]  ...   \n",
       "0     NaN                                      [34250 34265]  ...   \n",
       "0     NaN                                      [34250 34265]  ...   \n",
       "1     NaN                                      [34250 34265]  ...   \n",
       "1     NaN                                      [34250 34265]  ...   \n",
       "..    ...                                                ...  ...   \n",
       "246   NaN  [61188 61211] [61211 61214] [61214 61220] [612...  ...   \n",
       "246   NaN  [61188 61211] [61211 61214] [61214 61220] [612...  ...   \n",
       "247   NaN  [61188 61211] [61211 61214] [61214 61220] [612...  ...   \n",
       "247   NaN  [61188 61211] [61211 61214] [61214 61220] [612...  ...   \n",
       "247   NaN  [61188 61211] [61211 61214] [61214 61220] [612...  ...   \n",
       "\n",
       "    cluster_trial_and_post_LH_RMS_filtered_power_theta  \\\n",
       "0    [0.049118653, 0.04432029, 0.022806628, 0.01454...   \n",
       "0               [0.03340388, 0.013828592, 0.032644738]   \n",
       "0              [0.026547624, 0.040914092, 0.024725916]   \n",
       "1    [0.043261394, 0.033036076, 0.023986526, 0.0426...   \n",
       "1              [0.030990265, 0.030563287, 0.046492025]   \n",
       "..                                                 ...   \n",
       "246  [0.034779496, 0.030795025, 0.024519028, 0.0264...   \n",
       "246              [0.02897481, 0.03992848, 0.042006325]   \n",
       "247  [0.023800597, 0.026005648, 0.017076336, 0.0177...   \n",
       "247  [0.032219436, 0.020639228, 0.018929325, 0.0167...   \n",
       "247            [0.033348974, 0.023304084, 0.024394087]   \n",
       "\n",
       "    cluster_trial_and_post_MD_RMS_filtered_power_all_frequencies_all_windows  \\\n",
       "0    [[0.017404627, 0.009237435, 0.020289144, 0.037...                         \n",
       "0    [[0.0011329819, 0.0029382098, 0.010730247, 0.0...                         \n",
       "0    [[0.0043959557, 0.019276168, 0.028550087, 0.02...                         \n",
       "1    [[0.0026740688, 0.00498721, 0.016309006, 0.041...                         \n",
       "1    [[2.900416e-05, 0.0003022305, 0.008950673, 0.0...                         \n",
       "..                                                 ...                         \n",
       "246  [[0.007165184, 0.02350792, 0.03555188, 0.03744...                         \n",
       "246  [[0.0059307134, 0.0063216523, 0.018682986, 0.0...                         \n",
       "247  [[0.003955681, 0.0045808423, 0.021397913, 0.02...                         \n",
       "247  [[2.7145168e-05, 0.0015520303, 0.013508321, 0....                         \n",
       "247  [[0.0011375622, 0.0024693832, 0.0032926798, 0....                         \n",
       "\n",
       "     cluster_trial_and_post_MD_RMS_filtered_power_gamma  \\\n",
       "0    [0.0010392, 0.0017778483, 0.0017340889, 0.0018...    \n",
       "0             [0.00138236, 0.0015774369, 0.0015782466]    \n",
       "0            [0.0018075058, 0.0020755674, 0.002119519]    \n",
       "1    [0.0015232281, 0.001145195, 0.0011130486, 0.00...    \n",
       "1          [0.0010723824, 0.0008024939, 0.00083178625]    \n",
       "..                                                 ...    \n",
       "246  [0.0015547881, 0.0010615957, 0.0015940937, 0.0...    \n",
       "246         [0.0014880112, 0.0014743354, 0.0012698664]    \n",
       "247  [0.0013840718, 0.0018056248, 0.001683403, 0.00...    \n",
       "247  [0.0026441943, 0.0021435444, 0.0020745182, 0.0...    \n",
       "247         [0.0016035349, 0.0015695237, 0.0013028821]    \n",
       "\n",
       "     cluster_trial_and_post_MD_RMS_filtered_power_theta  \\\n",
       "0    [0.049298737, 0.04430734, 0.02234565, 0.015264...    \n",
       "0              [0.033414055, 0.014103232, 0.030887991]    \n",
       "0               [0.027208393, 0.04165223, 0.024425242]    \n",
       "1    [0.04461408, 0.0295235, 0.02294997, 0.03491530...    \n",
       "1                [0.031504564, 0.0312215, 0.044477757]    \n",
       "..                                                 ...    \n",
       "246  [0.037937496, 0.031846806, 0.023657246, 0.0258...    \n",
       "246            [0.030244596, 0.038799666, 0.040436637]    \n",
       "247  [0.022839582, 0.026060395, 0.017273102, 0.0186...    \n",
       "247  [0.031723026, 0.020868437, 0.017366085, 0.0157...    \n",
       "247             [0.033536047, 0.024063526, 0.02607602]    \n",
       "\n",
       "    cluster_trial_and_post_mPFC_RMS_filtered_power_all_frequencies_all_windows  \\\n",
       "0    [[0.010256077, 0.005490159, 0.014048004, 0.034...                           \n",
       "0    [[0.0007109967, 0.0025325161, 0.010118886, 0.0...                           \n",
       "0    [[0.0029105109, 0.017083567, 0.025493046, 0.02...                           \n",
       "1    [[0.0048666033, 0.015937502, 0.02933665, 0.060...                           \n",
       "1    [[0.00010818613, 0.00028267736, 0.009814792, 0...                           \n",
       "..                                                 ...                           \n",
       "246  [[0.007405589, 0.023178458, 0.0334355, 0.03525...                           \n",
       "246  [[0.0048454874, 0.006485032, 0.019611292, 0.04...                           \n",
       "247  [[0.005517801, 0.008576511, 0.025602443, 0.030...                           \n",
       "247  [[5.9284645e-05, 0.0014917682, 0.01275937, 0.0...                           \n",
       "247  [[0.0016252008, 0.002411011, 0.0027492805, 0.0...                           \n",
       "\n",
       "    cluster_trial_and_post_mPFC_RMS_filtered_power_gamma  \\\n",
       "0    [0.0011133909, 0.0017187449, 0.0016338199, 0.0...     \n",
       "0            [0.0015798573, 0.0018669195, 0.001755629]     \n",
       "0            [0.0020433604, 0.0019597295, 0.002066028]     \n",
       "1    [0.0015928985, 0.0009774407, 0.00082807784, 0....     \n",
       "1           [0.0011198713, 0.0007631681, 0.0009200637]     \n",
       "..                                                 ...     \n",
       "246  [0.0018750331, 0.0011793282, 0.0017875882, 0.0...     \n",
       "246         [0.0015871755, 0.0014100957, 0.0012493795]     \n",
       "247  [0.0014785485, 0.0019368517, 0.0018095085, 0.0...     \n",
       "247  [0.0026853066, 0.0024094502, 0.0022870433, 0.0...     \n",
       "247         [0.0015718811, 0.0015149558, 0.0012969993]     \n",
       "\n",
       "    cluster_trial_and_post_mPFC_RMS_filtered_power_theta  \\\n",
       "0    [0.048836093, 0.03983216, 0.018579122, 0.01443...     \n",
       "0             [0.034668207, 0.0144437505, 0.033530086]     \n",
       "0              [0.025156047, 0.036479283, 0.023404984]     \n",
       "1    [0.044317845, 0.035353914, 0.025194542, 0.0402...     \n",
       "1               [0.030414684, 0.03258735, 0.048469886]     \n",
       "..                                                 ...     \n",
       "246  [0.03504678, 0.030210767, 0.02331958, 0.027523...     \n",
       "246             [0.026064148, 0.033288274, 0.03844673]     \n",
       "247  [0.022574034, 0.026939044, 0.019214658, 0.0197...     \n",
       "247  [0.031214543, 0.02266122, 0.019571435, 0.01381...     \n",
       "247             [0.036076933, 0.025718883, 0.02746744]     \n",
       "\n",
       "    cluster_trial_and_post_vHPC_RMS_filtered_power_all_frequencies_all_windows  \\\n",
       "0    [[nan, nan, nan, nan, nan, nan, nan, nan, nan,...                           \n",
       "0    [[0.0010037111, 0.002760056, 0.011625801, 0.01...                           \n",
       "0    [[0.0037428935, 0.01909009, 0.026942024, 0.027...                           \n",
       "1    [[0.0037987193, 0.0090422025, 0.025519658, 0.0...                           \n",
       "1    [[0.000108958506, 0.00035143815, 0.0077658286,...                           \n",
       "..                                                 ...                           \n",
       "246  [[0.0074433764, 0.027607517, 0.03864226, 0.039...                           \n",
       "246  [[0.005925396, 0.008483903, 0.023374194, 0.046...                           \n",
       "247  [[nan, nan, nan, nan, nan, nan, nan, nan, nan,...                           \n",
       "247  [[nan, nan, nan, nan, nan, nan, nan, nan, nan,...                           \n",
       "247  [[nan, nan, nan, nan, nan, nan, nan, nan, nan,...                           \n",
       "\n",
       "    cluster_trial_and_post_vHPC_RMS_filtered_power_gamma  \\\n",
       "0    [nan, nan, 0.0017035144, 0.0019062511, 0.00202...     \n",
       "0           [0.0015151085, 0.0019391747, 0.0017612593]     \n",
       "0            [0.0019578887, 0.0018662137, 0.001895907]     \n",
       "1    [0.0022985975, 0.0015938631, 0.0012393639, 0.0...     \n",
       "1          [0.0008281053, 0.00066190725, 0.0006686406]     \n",
       "..                                                 ...     \n",
       "246  [0.0018224685, 0.001228588, 0.0019482669, 0.00...     \n",
       "246         [0.0017502569, 0.0014982653, 0.0013362867]     \n",
       "247      [nan, nan, nan, nan, nan, nan, nan, nan, nan]     \n",
       "247  [nan, nan, nan, nan, nan, nan, nan, nan, nan, ...     \n",
       "247                                    [nan, nan, nan]     \n",
       "\n",
       "    cluster_trial_and_post_vHPC_RMS_filtered_power_theta  \n",
       "0    [nan, nan, 0.021297257, 0.012002589, 0.0345453...    \n",
       "0              [0.031577937, 0.012718529, 0.028678037]    \n",
       "0               [0.026043838, 0.03870262, 0.023299344]    \n",
       "1    [0.0398159, 0.034608986, 0.025157357, 0.046068...    \n",
       "1               [0.026542457, 0.026474128, 0.03777187]    \n",
       "..                                                 ...    \n",
       "246  [0.033014286, 0.027767176, 0.02384674, 0.02729...    \n",
       "246             [0.027269222, 0.03432478, 0.037928835]    \n",
       "247      [nan, nan, nan, nan, nan, nan, nan, nan, nan]    \n",
       "247  [nan, nan, nan, nan, nan, nan, nan, nan, nan, ...    \n",
       "247                                    [nan, nan, nan]    \n",
       "\n",
       "[836 rows x 233 columns]"
      ]
     },
     "execution_count": 95,
     "metadata": {},
     "output_type": "execute_result"
    }
   ],
   "source": [
    "power_exploded_TRIALS_AND_SPECTRAL_DF"
   ]
  },
  {
   "cell_type": "code",
   "execution_count": 60,
   "metadata": {
    "tags": []
   },
   "outputs": [
    {
     "ename": "ValueError",
     "evalue": "",
     "output_type": "error",
     "traceback": [
      "\u001b[0;31m---------------------------------------------------------------------------\u001b[0m",
      "\u001b[0;31mValueError\u001b[0m                                Traceback (most recent call last)",
      "Cell \u001b[0;32mIn[60], line 1\u001b[0m\n\u001b[0;32m----> 1\u001b[0m \u001b[38;5;28;01mraise\u001b[39;00m \u001b[38;5;167;01mValueError\u001b[39;00m()\n",
      "\u001b[0;31mValueError\u001b[0m: "
     ]
    }
   ],
   "source": [
    "raise ValueError()"
   ]
  },
  {
   "cell_type": "markdown",
   "metadata": {},
   "source": [
    "- Grouping all the rows with the same video and subject together"
   ]
  },
  {
   "cell_type": "code",
   "execution_count": 55,
   "metadata": {
    "tags": []
   },
   "outputs": [
    {
     "data": {
      "text/plain": [
       "['video_name',\n",
       " 'current_subject',\n",
       " 'tone_start_frame',\n",
       " 'frame_index',\n",
       " 'subject_thorax_to_agent_thorax',\n",
       " 'nose_to_reward_port_sum',\n",
       " 'nose_to_reward_port_diff',\n",
       " 'thorax_velocity_sum',\n",
       " 'thorax_velocity_diff',\n",
       " 'to_reward_port_angle_sum',\n",
       " 'to_reward_port_angle_diff',\n",
       " 'subject_nose_to_reward_port',\n",
       " 'subject_thorax_velocity',\n",
       " 'subject_to_reward_port_angle',\n",
       " 'agent_nose_to_reward_port',\n",
       " 'agent_thorax_velocity',\n",
       " 'agent_to_reward_port_angle',\n",
       " 'closebool_subject_nose_to_reward_port',\n",
       " 'closebool_agent_nose_to_reward_port',\n",
       " 'movingbool_subject_thorax_velocity',\n",
       " 'movingbool_agent_thorax_velocity',\n",
       " 'manual_cluster_id',\n",
       " 'standard_embedding_x',\n",
       " 'standard_embedding_y',\n",
       " 'kmeans_cluster',\n",
       " 'subject_locations',\n",
       " 'agent_locations',\n",
       " 'subject_thorax',\n",
       " 'subject_nose',\n",
       " 'subject_tail_base',\n",
       " 'agent_thorax',\n",
       " 'agent_nose',\n",
       " 'agent_tail_base',\n",
       " 'session_dir',\n",
       " 'sleap_name',\n",
       " 'video_id',\n",
       " 'agent',\n",
       " 'cluster_timestamp',\n",
       " 'first_timestamp',\n",
       " 'recording',\n",
       " 'tone_stop_frame',\n",
       " 'condition ',\n",
       " 'competition_closeness',\n",
       " 'notes',\n",
       " '10s_before_tone_frame',\n",
       " '10s_after_tone_frame',\n",
       " 'trial_label',\n",
       " 'cluster_index_ranges_dict',\n",
       " 'cluster_times',\n",
       " 'cluster_times_ranges_dict',\n",
       " 'cluster_timestamps_ranges_dict',\n",
       " 'trial_cluster_times_ranges_dict',\n",
       " 'trial_cluster_timestamps_ranges_dict']"
      ]
     },
     "execution_count": 55,
     "metadata": {},
     "output_type": "execute_result"
    }
   ],
   "source": [
    "list(TRIALS_AND_SPECTRAL_DF.columns)"
   ]
  },
  {
   "cell_type": "code",
   "execution_count": 56,
   "metadata": {
    "tags": []
   },
   "outputs": [
    {
     "data": {
      "text/plain": [
       "['frame_index',\n",
       " 'tone_start_frame',\n",
       " 'tone_stop_frame',\n",
       " 'condition ',\n",
       " 'competition_closeness',\n",
       " 'notes',\n",
       " '10s_before_tone_frame',\n",
       " '10s_after_tone_frame',\n",
       " 'subject_thorax_to_agent_thorax',\n",
       " 'nose_to_reward_port_sum',\n",
       " 'nose_to_reward_port_diff',\n",
       " 'thorax_velocity_sum',\n",
       " 'thorax_velocity_diff',\n",
       " 'to_reward_port_angle_sum',\n",
       " 'to_reward_port_angle_diff',\n",
       " 'subject_nose_to_reward_port',\n",
       " 'subject_thorax_velocity',\n",
       " 'subject_to_reward_port_angle',\n",
       " 'agent_nose_to_reward_port',\n",
       " 'agent_thorax_velocity',\n",
       " 'agent_to_reward_port_angle',\n",
       " 'closebool_subject_nose_to_reward_port',\n",
       " 'closebool_agent_nose_to_reward_port',\n",
       " 'movingbool_subject_thorax_velocity',\n",
       " 'movingbool_agent_thorax_velocity',\n",
       " 'manual_cluster_id',\n",
       " 'standard_embedding_x',\n",
       " 'standard_embedding_y',\n",
       " 'kmeans_cluster',\n",
       " 'subject_locations',\n",
       " 'agent_locations',\n",
       " 'subject_thorax',\n",
       " 'subject_nose',\n",
       " 'subject_tail_base',\n",
       " 'agent_thorax',\n",
       " 'agent_nose',\n",
       " 'agent_tail_base']"
      ]
     },
     "execution_count": 56,
     "metadata": {},
     "output_type": "execute_result"
    }
   ],
   "source": [
    "explode_columns"
   ]
  },
  {
   "cell_type": "code",
   "execution_count": 57,
   "metadata": {
    "tags": []
   },
   "outputs": [],
   "source": [
    "other_explode_columns = [\"tone_stop_frame\",\n",
    "                         \"condition \",\n",
    "                         \"competition_closeness\",\n",
    "                         \"notes\",\n",
    "                         \"10s_before_tone_frame\",\n",
    "                         \"10s_after_tone_frame\",\n",
    "                        'cluster_index_ranges_dict',\n",
    " 'cluster_times',\n",
    " 'cluster_times_ranges_dict',\n",
    " 'cluster_timestamps_ranges_dict',\n",
    " 'trial_cluster_times_ranges_dict',\n",
    " 'trial_cluster_timestamps_ranges_dict']"
   ]
  },
  {
   "cell_type": "code",
   "execution_count": 58,
   "metadata": {
    "tags": []
   },
   "outputs": [
    {
     "data": {
      "text/plain": [
       "['video_name',\n",
       " 'current_subject',\n",
       " 'session_dir',\n",
       " 'sleap_name',\n",
       " 'video_id',\n",
       " 'agent',\n",
       " 'cluster_timestamp',\n",
       " 'first_timestamp',\n",
       " 'recording',\n",
       " 'tone_stop_frame',\n",
       " 'condition ',\n",
       " 'competition_closeness',\n",
       " 'notes',\n",
       " '10s_before_tone_frame',\n",
       " '10s_after_tone_frame']"
      ]
     },
     "execution_count": 58,
     "metadata": {},
     "output_type": "execute_result"
    }
   ],
   "source": [
    "filter_columns"
   ]
  },
  {
   "cell_type": "code",
   "execution_count": 59,
   "metadata": {
    "tags": []
   },
   "outputs": [],
   "source": [
    "# Define columns to be transformed into numpy arrays\n",
    "\n",
    "\n",
    "# Define aggregation dictionary\n",
    "agg_dict = {col: list for col in explode_columns + other_explode_columns if col not in groupby_columns and col != \"tone_start_frame\"}\n",
    "\n",
    "agg_dict.update({col: 'first' for col in filter_columns + [\"tone_start_frame\"] if col not in groupby_columns and col not in other_explode_columns})\n",
    "\n",
    "# Apply groupby and aggregation\n",
    "video_TRIALS_AND_SPECTRAL_DF = TRIALS_AND_SPECTRAL_DF.groupby([\"video_name\", \"current_subject\"]).agg(agg_dict).reset_index()\n"
   ]
  },
  {
   "cell_type": "code",
   "execution_count": 60,
   "metadata": {
    "tags": []
   },
   "outputs": [
    {
     "data": {
      "text/plain": [
       "Index(['video_name', 'current_subject', 'frame_index', 'tone_stop_frame',\n",
       "       'condition ', 'competition_closeness', 'notes', '10s_before_tone_frame',\n",
       "       '10s_after_tone_frame', 'subject_thorax_to_agent_thorax',\n",
       "       'nose_to_reward_port_sum', 'nose_to_reward_port_diff',\n",
       "       'thorax_velocity_sum', 'thorax_velocity_diff',\n",
       "       'to_reward_port_angle_sum', 'to_reward_port_angle_diff',\n",
       "       'subject_nose_to_reward_port', 'subject_thorax_velocity',\n",
       "       'subject_to_reward_port_angle', 'agent_nose_to_reward_port',\n",
       "       'agent_thorax_velocity', 'agent_to_reward_port_angle',\n",
       "       'closebool_subject_nose_to_reward_port',\n",
       "       'closebool_agent_nose_to_reward_port',\n",
       "       'movingbool_subject_thorax_velocity',\n",
       "       'movingbool_agent_thorax_velocity', 'manual_cluster_id',\n",
       "       'standard_embedding_x', 'standard_embedding_y', 'kmeans_cluster',\n",
       "       'subject_locations', 'agent_locations', 'subject_thorax',\n",
       "       'subject_nose', 'subject_tail_base', 'agent_thorax', 'agent_nose',\n",
       "       'agent_tail_base', 'cluster_index_ranges_dict', 'cluster_times',\n",
       "       'cluster_times_ranges_dict', 'cluster_timestamps_ranges_dict',\n",
       "       'trial_cluster_times_ranges_dict',\n",
       "       'trial_cluster_timestamps_ranges_dict', 'session_dir', 'sleap_name',\n",
       "       'video_id', 'agent', 'cluster_timestamp', 'first_timestamp',\n",
       "       'recording'],\n",
       "      dtype='object')"
      ]
     },
     "execution_count": 60,
     "metadata": {},
     "output_type": "execute_result"
    }
   ],
   "source": [
    "video_TRIALS_AND_SPECTRAL_DF.columns"
   ]
  },
  {
   "cell_type": "code",
   "execution_count": 61,
   "metadata": {
    "tags": []
   },
   "outputs": [
    {
     "data": {
      "text/html": [
       "<div>\n",
       "<style scoped>\n",
       "    .dataframe tbody tr th:only-of-type {\n",
       "        vertical-align: middle;\n",
       "    }\n",
       "\n",
       "    .dataframe tbody tr th {\n",
       "        vertical-align: top;\n",
       "    }\n",
       "\n",
       "    .dataframe thead th {\n",
       "        text-align: right;\n",
       "    }\n",
       "</style>\n",
       "<table border=\"1\" class=\"dataframe\">\n",
       "  <thead>\n",
       "    <tr style=\"text-align: right;\">\n",
       "      <th></th>\n",
       "      <th>video_name</th>\n",
       "      <th>current_subject</th>\n",
       "      <th>frame_index</th>\n",
       "      <th>tone_stop_frame</th>\n",
       "      <th>condition</th>\n",
       "      <th>competition_closeness</th>\n",
       "      <th>notes</th>\n",
       "      <th>10s_before_tone_frame</th>\n",
       "      <th>10s_after_tone_frame</th>\n",
       "      <th>subject_thorax_to_agent_thorax</th>\n",
       "      <th>...</th>\n",
       "      <th>cluster_timestamps_ranges_dict</th>\n",
       "      <th>trial_cluster_times_ranges_dict</th>\n",
       "      <th>trial_cluster_timestamps_ranges_dict</th>\n",
       "      <th>session_dir</th>\n",
       "      <th>sleap_name</th>\n",
       "      <th>video_id</th>\n",
       "      <th>agent</th>\n",
       "      <th>cluster_timestamp</th>\n",
       "      <th>first_timestamp</th>\n",
       "      <th>recording</th>\n",
       "    </tr>\n",
       "  </thead>\n",
       "  <tbody>\n",
       "    <tr>\n",
       "      <th>0</th>\n",
       "      <td>20240320_171038_alone_comp_subj_4-2_and_4-3.1</td>\n",
       "      <td>4.2</td>\n",
       "      <td>[[34042, 34043, 34044, 34045, 34046, 34047, 34...</td>\n",
       "      <td>[34442, 35439, 36538, 37535, 39033, 40731, 430...</td>\n",
       "      <td>[4.3, 4.3, 4.3, 4.3, 4.3, 4.3, 4.3, 4.3, 4.3, ...</td>\n",
       "      <td>[no_comp, no_comp, competitive, competitive, n...</td>\n",
       "      <td>[nan, nan, nan, nan, nan, nan, nan, nan, 4.2 b...</td>\n",
       "      <td>[34042, 35041, 36139, 37136, 38634, 40330, 426...</td>\n",
       "      <td>[34642, 35639, 36738, 37735, 39233, 40931, 432...</td>\n",
       "      <td>[[4.873386, 4.9368286, 4.95431, 4.9935803, 5.1...</td>\n",
       "      <td>...</td>\n",
       "      <td>[{7: [(34079916, 34093775), (34668911, 3467168...</td>\n",
       "      <td>[{'lose_7': [(1600609, 1601302), (1630059, 163...</td>\n",
       "      <td>[{'lose_7': [(34079916, 34093775), (34668911, ...</td>\n",
       "      <td>20240320_171038_alone_comp_subj_4-2_and_4-3</td>\n",
       "      <td>20240320_171038_alone_comp_subj_4-2_and_4-3.1....</td>\n",
       "      <td>17</td>\n",
       "      <td>4.3</td>\n",
       "      <td>[34079916, 34081302, 34082688, 34084074, 34084...</td>\n",
       "      <td>2067718</td>\n",
       "      <td>20240320_171038_alone_comp_subj_4-2_t6b6_merged</td>\n",
       "    </tr>\n",
       "    <tr>\n",
       "      <th>1</th>\n",
       "      <td>20240320_171038_alone_comp_subj_4-2_and_4-3.1</td>\n",
       "      <td>4.3</td>\n",
       "      <td>[[34042, 34043, 34044, 34045, 34046, 34047, 34...</td>\n",
       "      <td>[34442, 35439, 36538, 37535, 39033, 40731, 430...</td>\n",
       "      <td>[4.3, 4.3, 4.3, 4.3, 4.3, 4.3, 4.3, 4.3, 4.3, ...</td>\n",
       "      <td>[no_comp, no_comp, competitive, competitive, n...</td>\n",
       "      <td>[nan, nan, nan, nan, nan, nan, nan, nan, 4.2 b...</td>\n",
       "      <td>[34042, 35041, 36139, 37136, 38634, 40330, 426...</td>\n",
       "      <td>[34642, 35639, 36738, 37735, 39233, 40931, 432...</td>\n",
       "      <td>[[4.873386, 4.9368286, 4.95431, 4.9935803, 5.1...</td>\n",
       "      <td>...</td>\n",
       "      <td>[{7: [(34079916, 34093775), (34668911, 3467168...</td>\n",
       "      <td>[{'win_7': [(1600609, 1601302), (1630059, 1630...</td>\n",
       "      <td>[{'win_7': [(34079916, 34093775), (34668911, 3...</td>\n",
       "      <td>20240320_171038_alone_comp_subj_4-2_and_4-3</td>\n",
       "      <td>20240320_171038_alone_comp_subj_4-2_and_4-3.1....</td>\n",
       "      <td>17</td>\n",
       "      <td>4.2</td>\n",
       "      <td>[34079916, 34081302, 34082688, 34084074, 34084...</td>\n",
       "      <td>2067718</td>\n",
       "      <td>20240320_171038_alone_comp_subj_4-3_t5b5_merged</td>\n",
       "    </tr>\n",
       "    <tr>\n",
       "      <th>2</th>\n",
       "      <td>20240322_120625_alone_comp_subj_3-3_and_3-4.1</td>\n",
       "      <td>3.3</td>\n",
       "      <td>[[34069, 34070, 34071, 34072, 34073, 34074, 34...</td>\n",
       "      <td>[34468, 35465, 36564, 37562, 39059, 40756, 430...</td>\n",
       "      <td>[3.4, 3.4, 3.4, 3.4, 3.4, 3.4, 3.4, 3.4, 3.4, ...</td>\n",
       "      <td>[competitive, no_comp, competitive, competitiv...</td>\n",
       "      <td>[nan, 3.4 got reward at 35432, nan, nan, nan, ...</td>\n",
       "      <td>[34069, 35066, 36165, 37162, 38660, 40356, 426...</td>\n",
       "      <td>[34668, 35665, 36764, 37762, 39259, 40956, 432...</td>\n",
       "      <td>[[8.018456, 7.997978, 7.9187427, 7.8369646, 7....</td>\n",
       "      <td>...</td>\n",
       "      <td>[{3: [(34103476, 34103476), (34169998, 3420880...</td>\n",
       "      <td>[{'tie_3': [(1524248, 1524248), (1527574, 1529...</td>\n",
       "      <td>[{'tie_3': [(34103476, 34103476), (34169998, 3...</td>\n",
       "      <td>20240322_120625_alone_comp_subj_3-3_and_3-4</td>\n",
       "      <td>20240322_120625_alone_comp_subj_3-3_and_3-4.1....</td>\n",
       "      <td>18</td>\n",
       "      <td>3.4</td>\n",
       "      <td>[34103476, 34104862, 34106248, 34106248, 34107...</td>\n",
       "      <td>3618506</td>\n",
       "      <td>20240322_120625_alone_comp_subj_3-3_t6b6_merged</td>\n",
       "    </tr>\n",
       "    <tr>\n",
       "      <th>3</th>\n",
       "      <td>20240322_120625_alone_comp_subj_3-3_and_3-4.1</td>\n",
       "      <td>3.4</td>\n",
       "      <td>[[34069, 34070, 34071, 34072, 34073, 34074, 34...</td>\n",
       "      <td>[34468, 35465, 36564, 37562, 39059, 40756, 430...</td>\n",
       "      <td>[3.4, 3.4, 3.4, 3.4, 3.4, 3.4, 3.4, 3.4, 3.4, ...</td>\n",
       "      <td>[competitive, no_comp, competitive, competitiv...</td>\n",
       "      <td>[nan, 3.4 got reward at 35432, nan, nan, nan, ...</td>\n",
       "      <td>[34069, 35066, 36165, 37162, 38660, 40356, 426...</td>\n",
       "      <td>[34668, 35665, 36764, 37762, 39259, 40956, 432...</td>\n",
       "      <td>[[8.018456, 7.997978, 7.9187427, 7.8369646, 7....</td>\n",
       "      <td>...</td>\n",
       "      <td>[{3: [(34103476, 34103476), (34169998, 3420880...</td>\n",
       "      <td>[{'tie_3': [(1524248, 1524248), (1527574, 1529...</td>\n",
       "      <td>[{'tie_3': [(34103476, 34103476), (34169998, 3...</td>\n",
       "      <td>20240322_120625_alone_comp_subj_3-3_and_3-4</td>\n",
       "      <td>20240322_120625_alone_comp_subj_3-3_and_3-4.1....</td>\n",
       "      <td>18</td>\n",
       "      <td>3.3</td>\n",
       "      <td>[34103476, 34104862, 34106248, 34106248, 34107...</td>\n",
       "      <td>3618506</td>\n",
       "      <td>20240322_120625_alone_comp_subj_3-4_t5b5_merged</td>\n",
       "    </tr>\n",
       "    <tr>\n",
       "      <th>4</th>\n",
       "      <td>20240322_160946_alone_comp_subj_4-3_and_4-4.1</td>\n",
       "      <td>4.3</td>\n",
       "      <td>[[34063, 34064, 34065, 34066, 34067, 34068, 34...</td>\n",
       "      <td>[34462, 35461, 36558, 37557, 39054, 40751, 430...</td>\n",
       "      <td>[4.3, 4.3, 4.3, 4.3, 4.3, 4.4, 4.3, 4.3, 4.3, ...</td>\n",
       "      <td>[competitive, no_comp, competitive, competitiv...</td>\n",
       "      <td>[4.3 got reward at 34433, 4.3 got reward at 35...</td>\n",
       "      <td>[34063, 35061, 36159, 37158, 38654, 40352, 426...</td>\n",
       "      <td>[34662, 35661, 36758, 37757, 39254, 40951, 432...</td>\n",
       "      <td>[[2.1562233, 2.2290666, 2.3999894, 2.5436177, ...</td>\n",
       "      <td>...</td>\n",
       "      <td>[{7: [(34096547, 34106248), (34109019, 3412980...</td>\n",
       "      <td>[{'tie_7': [(1438255, 1438740), (1438878, 1439...</td>\n",
       "      <td>[{'tie_7': [(34096547, 34106248), (34109019, 3...</td>\n",
       "      <td>20240322_160946_alone_comp_subj_4-3_and_4-4</td>\n",
       "      <td>20240322_160946_alone_comp_subj_4-3_and_4-4.1....</td>\n",
       "      <td>19</td>\n",
       "      <td>4.4</td>\n",
       "      <td>[34096547, 34097933, 34098977, 34099318, 34100...</td>\n",
       "      <td>5331441</td>\n",
       "      <td>20240322_160946_alone_comp_subj_4-3_t6b6_merged</td>\n",
       "    </tr>\n",
       "  </tbody>\n",
       "</table>\n",
       "<p>5 rows × 51 columns</p>\n",
       "</div>"
      ],
      "text/plain": [
       "                                      video_name current_subject  \\\n",
       "0  20240320_171038_alone_comp_subj_4-2_and_4-3.1             4.2   \n",
       "1  20240320_171038_alone_comp_subj_4-2_and_4-3.1             4.3   \n",
       "2  20240322_120625_alone_comp_subj_3-3_and_3-4.1             3.3   \n",
       "3  20240322_120625_alone_comp_subj_3-3_and_3-4.1             3.4   \n",
       "4  20240322_160946_alone_comp_subj_4-3_and_4-4.1             4.3   \n",
       "\n",
       "                                         frame_index  \\\n",
       "0  [[34042, 34043, 34044, 34045, 34046, 34047, 34...   \n",
       "1  [[34042, 34043, 34044, 34045, 34046, 34047, 34...   \n",
       "2  [[34069, 34070, 34071, 34072, 34073, 34074, 34...   \n",
       "3  [[34069, 34070, 34071, 34072, 34073, 34074, 34...   \n",
       "4  [[34063, 34064, 34065, 34066, 34067, 34068, 34...   \n",
       "\n",
       "                                     tone_stop_frame  \\\n",
       "0  [34442, 35439, 36538, 37535, 39033, 40731, 430...   \n",
       "1  [34442, 35439, 36538, 37535, 39033, 40731, 430...   \n",
       "2  [34468, 35465, 36564, 37562, 39059, 40756, 430...   \n",
       "3  [34468, 35465, 36564, 37562, 39059, 40756, 430...   \n",
       "4  [34462, 35461, 36558, 37557, 39054, 40751, 430...   \n",
       "\n",
       "                                          condition   \\\n",
       "0  [4.3, 4.3, 4.3, 4.3, 4.3, 4.3, 4.3, 4.3, 4.3, ...   \n",
       "1  [4.3, 4.3, 4.3, 4.3, 4.3, 4.3, 4.3, 4.3, 4.3, ...   \n",
       "2  [3.4, 3.4, 3.4, 3.4, 3.4, 3.4, 3.4, 3.4, 3.4, ...   \n",
       "3  [3.4, 3.4, 3.4, 3.4, 3.4, 3.4, 3.4, 3.4, 3.4, ...   \n",
       "4  [4.3, 4.3, 4.3, 4.3, 4.3, 4.4, 4.3, 4.3, 4.3, ...   \n",
       "\n",
       "                               competition_closeness  \\\n",
       "0  [no_comp, no_comp, competitive, competitive, n...   \n",
       "1  [no_comp, no_comp, competitive, competitive, n...   \n",
       "2  [competitive, no_comp, competitive, competitiv...   \n",
       "3  [competitive, no_comp, competitive, competitiv...   \n",
       "4  [competitive, no_comp, competitive, competitiv...   \n",
       "\n",
       "                                               notes  \\\n",
       "0  [nan, nan, nan, nan, nan, nan, nan, nan, 4.2 b...   \n",
       "1  [nan, nan, nan, nan, nan, nan, nan, nan, 4.2 b...   \n",
       "2  [nan, 3.4 got reward at 35432, nan, nan, nan, ...   \n",
       "3  [nan, 3.4 got reward at 35432, nan, nan, nan, ...   \n",
       "4  [4.3 got reward at 34433, 4.3 got reward at 35...   \n",
       "\n",
       "                               10s_before_tone_frame  \\\n",
       "0  [34042, 35041, 36139, 37136, 38634, 40330, 426...   \n",
       "1  [34042, 35041, 36139, 37136, 38634, 40330, 426...   \n",
       "2  [34069, 35066, 36165, 37162, 38660, 40356, 426...   \n",
       "3  [34069, 35066, 36165, 37162, 38660, 40356, 426...   \n",
       "4  [34063, 35061, 36159, 37158, 38654, 40352, 426...   \n",
       "\n",
       "                                10s_after_tone_frame  \\\n",
       "0  [34642, 35639, 36738, 37735, 39233, 40931, 432...   \n",
       "1  [34642, 35639, 36738, 37735, 39233, 40931, 432...   \n",
       "2  [34668, 35665, 36764, 37762, 39259, 40956, 432...   \n",
       "3  [34668, 35665, 36764, 37762, 39259, 40956, 432...   \n",
       "4  [34662, 35661, 36758, 37757, 39254, 40951, 432...   \n",
       "\n",
       "                      subject_thorax_to_agent_thorax  ...  \\\n",
       "0  [[4.873386, 4.9368286, 4.95431, 4.9935803, 5.1...  ...   \n",
       "1  [[4.873386, 4.9368286, 4.95431, 4.9935803, 5.1...  ...   \n",
       "2  [[8.018456, 7.997978, 7.9187427, 7.8369646, 7....  ...   \n",
       "3  [[8.018456, 7.997978, 7.9187427, 7.8369646, 7....  ...   \n",
       "4  [[2.1562233, 2.2290666, 2.3999894, 2.5436177, ...  ...   \n",
       "\n",
       "                      cluster_timestamps_ranges_dict  \\\n",
       "0  [{7: [(34079916, 34093775), (34668911, 3467168...   \n",
       "1  [{7: [(34079916, 34093775), (34668911, 3467168...   \n",
       "2  [{3: [(34103476, 34103476), (34169998, 3420880...   \n",
       "3  [{3: [(34103476, 34103476), (34169998, 3420880...   \n",
       "4  [{7: [(34096547, 34106248), (34109019, 3412980...   \n",
       "\n",
       "                     trial_cluster_times_ranges_dict  \\\n",
       "0  [{'lose_7': [(1600609, 1601302), (1630059, 163...   \n",
       "1  [{'win_7': [(1600609, 1601302), (1630059, 1630...   \n",
       "2  [{'tie_3': [(1524248, 1524248), (1527574, 1529...   \n",
       "3  [{'tie_3': [(1524248, 1524248), (1527574, 1529...   \n",
       "4  [{'tie_7': [(1438255, 1438740), (1438878, 1439...   \n",
       "\n",
       "                trial_cluster_timestamps_ranges_dict  \\\n",
       "0  [{'lose_7': [(34079916, 34093775), (34668911, ...   \n",
       "1  [{'win_7': [(34079916, 34093775), (34668911, 3...   \n",
       "2  [{'tie_3': [(34103476, 34103476), (34169998, 3...   \n",
       "3  [{'tie_3': [(34103476, 34103476), (34169998, 3...   \n",
       "4  [{'tie_7': [(34096547, 34106248), (34109019, 3...   \n",
       "\n",
       "                                   session_dir  \\\n",
       "0  20240320_171038_alone_comp_subj_4-2_and_4-3   \n",
       "1  20240320_171038_alone_comp_subj_4-2_and_4-3   \n",
       "2  20240322_120625_alone_comp_subj_3-3_and_3-4   \n",
       "3  20240322_120625_alone_comp_subj_3-3_and_3-4   \n",
       "4  20240322_160946_alone_comp_subj_4-3_and_4-4   \n",
       "\n",
       "                                          sleap_name video_id agent  \\\n",
       "0  20240320_171038_alone_comp_subj_4-2_and_4-3.1....       17   4.3   \n",
       "1  20240320_171038_alone_comp_subj_4-2_and_4-3.1....       17   4.2   \n",
       "2  20240322_120625_alone_comp_subj_3-3_and_3-4.1....       18   3.4   \n",
       "3  20240322_120625_alone_comp_subj_3-3_and_3-4.1....       18   3.3   \n",
       "4  20240322_160946_alone_comp_subj_4-3_and_4-4.1....       19   4.4   \n",
       "\n",
       "                                   cluster_timestamp first_timestamp  \\\n",
       "0  [34079916, 34081302, 34082688, 34084074, 34084...         2067718   \n",
       "1  [34079916, 34081302, 34082688, 34084074, 34084...         2067718   \n",
       "2  [34103476, 34104862, 34106248, 34106248, 34107...         3618506   \n",
       "3  [34103476, 34104862, 34106248, 34106248, 34107...         3618506   \n",
       "4  [34096547, 34097933, 34098977, 34099318, 34100...         5331441   \n",
       "\n",
       "                                         recording  \n",
       "0  20240320_171038_alone_comp_subj_4-2_t6b6_merged  \n",
       "1  20240320_171038_alone_comp_subj_4-3_t5b5_merged  \n",
       "2  20240322_120625_alone_comp_subj_3-3_t6b6_merged  \n",
       "3  20240322_120625_alone_comp_subj_3-4_t5b5_merged  \n",
       "4  20240322_160946_alone_comp_subj_4-3_t6b6_merged  \n",
       "\n",
       "[5 rows x 51 columns]"
      ]
     },
     "execution_count": 61,
     "metadata": {},
     "output_type": "execute_result"
    }
   ],
   "source": [
    "video_TRIALS_AND_SPECTRAL_DF.head()"
   ]
  },
  {
   "cell_type": "markdown",
   "metadata": {},
   "source": [
    "- Combining all the dictionaries together"
   ]
  },
  {
   "cell_type": "code",
   "execution_count": null,
   "metadata": {},
   "outputs": [],
   "source": []
  },
  {
   "cell_type": "code",
   "execution_count": 62,
   "metadata": {
    "tags": []
   },
   "outputs": [],
   "source": [
    "for col in [_ for _ in video_TRIALS_AND_SPECTRAL_DF if \"dict\" in _]:\n",
    "    video_TRIALS_AND_SPECTRAL_DF[col] = video_TRIALS_AND_SPECTRAL_DF[col].apply(lambda x: combine_dicts(x))"
   ]
  },
  {
   "cell_type": "code",
   "execution_count": 63,
   "metadata": {
    "tags": []
   },
   "outputs": [
    {
     "data": {
      "text/html": [
       "<div>\n",
       "<style scoped>\n",
       "    .dataframe tbody tr th:only-of-type {\n",
       "        vertical-align: middle;\n",
       "    }\n",
       "\n",
       "    .dataframe tbody tr th {\n",
       "        vertical-align: top;\n",
       "    }\n",
       "\n",
       "    .dataframe thead th {\n",
       "        text-align: right;\n",
       "    }\n",
       "</style>\n",
       "<table border=\"1\" class=\"dataframe\">\n",
       "  <thead>\n",
       "    <tr style=\"text-align: right;\">\n",
       "      <th></th>\n",
       "      <th>video_name</th>\n",
       "      <th>current_subject</th>\n",
       "      <th>frame_index</th>\n",
       "      <th>tone_stop_frame</th>\n",
       "      <th>condition</th>\n",
       "      <th>competition_closeness</th>\n",
       "      <th>notes</th>\n",
       "      <th>10s_before_tone_frame</th>\n",
       "      <th>10s_after_tone_frame</th>\n",
       "      <th>subject_thorax_to_agent_thorax</th>\n",
       "      <th>...</th>\n",
       "      <th>cluster_timestamps_ranges_dict</th>\n",
       "      <th>trial_cluster_times_ranges_dict</th>\n",
       "      <th>trial_cluster_timestamps_ranges_dict</th>\n",
       "      <th>session_dir</th>\n",
       "      <th>sleap_name</th>\n",
       "      <th>video_id</th>\n",
       "      <th>agent</th>\n",
       "      <th>cluster_timestamp</th>\n",
       "      <th>first_timestamp</th>\n",
       "      <th>recording</th>\n",
       "    </tr>\n",
       "  </thead>\n",
       "  <tbody>\n",
       "    <tr>\n",
       "      <th>0</th>\n",
       "      <td>20240320_171038_alone_comp_subj_4-2_and_4-3.1</td>\n",
       "      <td>4.2</td>\n",
       "      <td>[[34042, 34043, 34044, 34045, 34046, 34047, 34...</td>\n",
       "      <td>[34442, 35439, 36538, 37535, 39033, 40731, 430...</td>\n",
       "      <td>[4.3, 4.3, 4.3, 4.3, 4.3, 4.3, 4.3, 4.3, 4.3, ...</td>\n",
       "      <td>[no_comp, no_comp, competitive, competitive, n...</td>\n",
       "      <td>[nan, nan, nan, nan, nan, nan, nan, nan, 4.2 b...</td>\n",
       "      <td>[34042, 35041, 36139, 37136, 38634, 40330, 426...</td>\n",
       "      <td>[34642, 35639, 36738, 37735, 39233, 40931, 432...</td>\n",
       "      <td>[[4.873386, 4.9368286, 4.95431, 4.9935803, 5.1...</td>\n",
       "      <td>...</td>\n",
       "      <td>{7: [(34079916, 34093775), (34668911, 34671683...</td>\n",
       "      <td>{'lose_7': [(1600609, 1601302), (1630059, 1630...</td>\n",
       "      <td>{'lose_7': [(34079916, 34093775), (34668911, 3...</td>\n",
       "      <td>20240320_171038_alone_comp_subj_4-2_and_4-3</td>\n",
       "      <td>20240320_171038_alone_comp_subj_4-2_and_4-3.1....</td>\n",
       "      <td>17</td>\n",
       "      <td>4.3</td>\n",
       "      <td>[34079916, 34081302, 34082688, 34084074, 34084...</td>\n",
       "      <td>2067718</td>\n",
       "      <td>20240320_171038_alone_comp_subj_4-2_t6b6_merged</td>\n",
       "    </tr>\n",
       "    <tr>\n",
       "      <th>1</th>\n",
       "      <td>20240320_171038_alone_comp_subj_4-2_and_4-3.1</td>\n",
       "      <td>4.3</td>\n",
       "      <td>[[34042, 34043, 34044, 34045, 34046, 34047, 34...</td>\n",
       "      <td>[34442, 35439, 36538, 37535, 39033, 40731, 430...</td>\n",
       "      <td>[4.3, 4.3, 4.3, 4.3, 4.3, 4.3, 4.3, 4.3, 4.3, ...</td>\n",
       "      <td>[no_comp, no_comp, competitive, competitive, n...</td>\n",
       "      <td>[nan, nan, nan, nan, nan, nan, nan, nan, 4.2 b...</td>\n",
       "      <td>[34042, 35041, 36139, 37136, 38634, 40330, 426...</td>\n",
       "      <td>[34642, 35639, 36738, 37735, 39233, 40931, 432...</td>\n",
       "      <td>[[4.873386, 4.9368286, 4.95431, 4.9935803, 5.1...</td>\n",
       "      <td>...</td>\n",
       "      <td>{7: [(34079916, 34093775), (34668911, 34671683...</td>\n",
       "      <td>{'win_7': [(1600609, 1601302), (1630059, 16301...</td>\n",
       "      <td>{'win_7': [(34079916, 34093775), (34668911, 34...</td>\n",
       "      <td>20240320_171038_alone_comp_subj_4-2_and_4-3</td>\n",
       "      <td>20240320_171038_alone_comp_subj_4-2_and_4-3.1....</td>\n",
       "      <td>17</td>\n",
       "      <td>4.2</td>\n",
       "      <td>[34079916, 34081302, 34082688, 34084074, 34084...</td>\n",
       "      <td>2067718</td>\n",
       "      <td>20240320_171038_alone_comp_subj_4-3_t5b5_merged</td>\n",
       "    </tr>\n",
       "    <tr>\n",
       "      <th>2</th>\n",
       "      <td>20240322_120625_alone_comp_subj_3-3_and_3-4.1</td>\n",
       "      <td>3.3</td>\n",
       "      <td>[[34069, 34070, 34071, 34072, 34073, 34074, 34...</td>\n",
       "      <td>[34468, 35465, 36564, 37562, 39059, 40756, 430...</td>\n",
       "      <td>[3.4, 3.4, 3.4, 3.4, 3.4, 3.4, 3.4, 3.4, 3.4, ...</td>\n",
       "      <td>[competitive, no_comp, competitive, competitiv...</td>\n",
       "      <td>[nan, 3.4 got reward at 35432, nan, nan, nan, ...</td>\n",
       "      <td>[34069, 35066, 36165, 37162, 38660, 40356, 426...</td>\n",
       "      <td>[34668, 35665, 36764, 37762, 39259, 40956, 432...</td>\n",
       "      <td>[[8.018456, 7.997978, 7.9187427, 7.8369646, 7....</td>\n",
       "      <td>...</td>\n",
       "      <td>{3: [(34103476, 34103476), (34169998, 34208802...</td>\n",
       "      <td>{'tie_3': [(1524248, 1524248), (1527574, 15295...</td>\n",
       "      <td>{'tie_3': [(34103476, 34103476), (34169998, 34...</td>\n",
       "      <td>20240322_120625_alone_comp_subj_3-3_and_3-4</td>\n",
       "      <td>20240322_120625_alone_comp_subj_3-3_and_3-4.1....</td>\n",
       "      <td>18</td>\n",
       "      <td>3.4</td>\n",
       "      <td>[34103476, 34104862, 34106248, 34106248, 34107...</td>\n",
       "      <td>3618506</td>\n",
       "      <td>20240322_120625_alone_comp_subj_3-3_t6b6_merged</td>\n",
       "    </tr>\n",
       "    <tr>\n",
       "      <th>3</th>\n",
       "      <td>20240322_120625_alone_comp_subj_3-3_and_3-4.1</td>\n",
       "      <td>3.4</td>\n",
       "      <td>[[34069, 34070, 34071, 34072, 34073, 34074, 34...</td>\n",
       "      <td>[34468, 35465, 36564, 37562, 39059, 40756, 430...</td>\n",
       "      <td>[3.4, 3.4, 3.4, 3.4, 3.4, 3.4, 3.4, 3.4, 3.4, ...</td>\n",
       "      <td>[competitive, no_comp, competitive, competitiv...</td>\n",
       "      <td>[nan, 3.4 got reward at 35432, nan, nan, nan, ...</td>\n",
       "      <td>[34069, 35066, 36165, 37162, 38660, 40356, 426...</td>\n",
       "      <td>[34668, 35665, 36764, 37762, 39259, 40956, 432...</td>\n",
       "      <td>[[8.018456, 7.997978, 7.9187427, 7.8369646, 7....</td>\n",
       "      <td>...</td>\n",
       "      <td>{3: [(34103476, 34103476), (34169998, 34208802...</td>\n",
       "      <td>{'tie_3': [(1524248, 1524248), (1527574, 15295...</td>\n",
       "      <td>{'tie_3': [(34103476, 34103476), (34169998, 34...</td>\n",
       "      <td>20240322_120625_alone_comp_subj_3-3_and_3-4</td>\n",
       "      <td>20240322_120625_alone_comp_subj_3-3_and_3-4.1....</td>\n",
       "      <td>18</td>\n",
       "      <td>3.3</td>\n",
       "      <td>[34103476, 34104862, 34106248, 34106248, 34107...</td>\n",
       "      <td>3618506</td>\n",
       "      <td>20240322_120625_alone_comp_subj_3-4_t5b5_merged</td>\n",
       "    </tr>\n",
       "    <tr>\n",
       "      <th>4</th>\n",
       "      <td>20240322_160946_alone_comp_subj_4-3_and_4-4.1</td>\n",
       "      <td>4.3</td>\n",
       "      <td>[[34063, 34064, 34065, 34066, 34067, 34068, 34...</td>\n",
       "      <td>[34462, 35461, 36558, 37557, 39054, 40751, 430...</td>\n",
       "      <td>[4.3, 4.3, 4.3, 4.3, 4.3, 4.4, 4.3, 4.3, 4.3, ...</td>\n",
       "      <td>[competitive, no_comp, competitive, competitiv...</td>\n",
       "      <td>[4.3 got reward at 34433, 4.3 got reward at 35...</td>\n",
       "      <td>[34063, 35061, 36159, 37158, 38654, 40352, 426...</td>\n",
       "      <td>[34662, 35661, 36758, 37757, 39254, 40951, 432...</td>\n",
       "      <td>[[2.1562233, 2.2290666, 2.3999894, 2.5436177, ...</td>\n",
       "      <td>...</td>\n",
       "      <td>{7: [(34096547, 34106248), (34109019, 34129808...</td>\n",
       "      <td>{'tie_7': [(1438255, 1438740), (1438878, 14399...</td>\n",
       "      <td>{'tie_7': [(34096547, 34106248), (34109019, 34...</td>\n",
       "      <td>20240322_160946_alone_comp_subj_4-3_and_4-4</td>\n",
       "      <td>20240322_160946_alone_comp_subj_4-3_and_4-4.1....</td>\n",
       "      <td>19</td>\n",
       "      <td>4.4</td>\n",
       "      <td>[34096547, 34097933, 34098977, 34099318, 34100...</td>\n",
       "      <td>5331441</td>\n",
       "      <td>20240322_160946_alone_comp_subj_4-3_t6b6_merged</td>\n",
       "    </tr>\n",
       "  </tbody>\n",
       "</table>\n",
       "<p>5 rows × 51 columns</p>\n",
       "</div>"
      ],
      "text/plain": [
       "                                      video_name current_subject  \\\n",
       "0  20240320_171038_alone_comp_subj_4-2_and_4-3.1             4.2   \n",
       "1  20240320_171038_alone_comp_subj_4-2_and_4-3.1             4.3   \n",
       "2  20240322_120625_alone_comp_subj_3-3_and_3-4.1             3.3   \n",
       "3  20240322_120625_alone_comp_subj_3-3_and_3-4.1             3.4   \n",
       "4  20240322_160946_alone_comp_subj_4-3_and_4-4.1             4.3   \n",
       "\n",
       "                                         frame_index  \\\n",
       "0  [[34042, 34043, 34044, 34045, 34046, 34047, 34...   \n",
       "1  [[34042, 34043, 34044, 34045, 34046, 34047, 34...   \n",
       "2  [[34069, 34070, 34071, 34072, 34073, 34074, 34...   \n",
       "3  [[34069, 34070, 34071, 34072, 34073, 34074, 34...   \n",
       "4  [[34063, 34064, 34065, 34066, 34067, 34068, 34...   \n",
       "\n",
       "                                     tone_stop_frame  \\\n",
       "0  [34442, 35439, 36538, 37535, 39033, 40731, 430...   \n",
       "1  [34442, 35439, 36538, 37535, 39033, 40731, 430...   \n",
       "2  [34468, 35465, 36564, 37562, 39059, 40756, 430...   \n",
       "3  [34468, 35465, 36564, 37562, 39059, 40756, 430...   \n",
       "4  [34462, 35461, 36558, 37557, 39054, 40751, 430...   \n",
       "\n",
       "                                          condition   \\\n",
       "0  [4.3, 4.3, 4.3, 4.3, 4.3, 4.3, 4.3, 4.3, 4.3, ...   \n",
       "1  [4.3, 4.3, 4.3, 4.3, 4.3, 4.3, 4.3, 4.3, 4.3, ...   \n",
       "2  [3.4, 3.4, 3.4, 3.4, 3.4, 3.4, 3.4, 3.4, 3.4, ...   \n",
       "3  [3.4, 3.4, 3.4, 3.4, 3.4, 3.4, 3.4, 3.4, 3.4, ...   \n",
       "4  [4.3, 4.3, 4.3, 4.3, 4.3, 4.4, 4.3, 4.3, 4.3, ...   \n",
       "\n",
       "                               competition_closeness  \\\n",
       "0  [no_comp, no_comp, competitive, competitive, n...   \n",
       "1  [no_comp, no_comp, competitive, competitive, n...   \n",
       "2  [competitive, no_comp, competitive, competitiv...   \n",
       "3  [competitive, no_comp, competitive, competitiv...   \n",
       "4  [competitive, no_comp, competitive, competitiv...   \n",
       "\n",
       "                                               notes  \\\n",
       "0  [nan, nan, nan, nan, nan, nan, nan, nan, 4.2 b...   \n",
       "1  [nan, nan, nan, nan, nan, nan, nan, nan, 4.2 b...   \n",
       "2  [nan, 3.4 got reward at 35432, nan, nan, nan, ...   \n",
       "3  [nan, 3.4 got reward at 35432, nan, nan, nan, ...   \n",
       "4  [4.3 got reward at 34433, 4.3 got reward at 35...   \n",
       "\n",
       "                               10s_before_tone_frame  \\\n",
       "0  [34042, 35041, 36139, 37136, 38634, 40330, 426...   \n",
       "1  [34042, 35041, 36139, 37136, 38634, 40330, 426...   \n",
       "2  [34069, 35066, 36165, 37162, 38660, 40356, 426...   \n",
       "3  [34069, 35066, 36165, 37162, 38660, 40356, 426...   \n",
       "4  [34063, 35061, 36159, 37158, 38654, 40352, 426...   \n",
       "\n",
       "                                10s_after_tone_frame  \\\n",
       "0  [34642, 35639, 36738, 37735, 39233, 40931, 432...   \n",
       "1  [34642, 35639, 36738, 37735, 39233, 40931, 432...   \n",
       "2  [34668, 35665, 36764, 37762, 39259, 40956, 432...   \n",
       "3  [34668, 35665, 36764, 37762, 39259, 40956, 432...   \n",
       "4  [34662, 35661, 36758, 37757, 39254, 40951, 432...   \n",
       "\n",
       "                      subject_thorax_to_agent_thorax  ...  \\\n",
       "0  [[4.873386, 4.9368286, 4.95431, 4.9935803, 5.1...  ...   \n",
       "1  [[4.873386, 4.9368286, 4.95431, 4.9935803, 5.1...  ...   \n",
       "2  [[8.018456, 7.997978, 7.9187427, 7.8369646, 7....  ...   \n",
       "3  [[8.018456, 7.997978, 7.9187427, 7.8369646, 7....  ...   \n",
       "4  [[2.1562233, 2.2290666, 2.3999894, 2.5436177, ...  ...   \n",
       "\n",
       "                      cluster_timestamps_ranges_dict  \\\n",
       "0  {7: [(34079916, 34093775), (34668911, 34671683...   \n",
       "1  {7: [(34079916, 34093775), (34668911, 34671683...   \n",
       "2  {3: [(34103476, 34103476), (34169998, 34208802...   \n",
       "3  {3: [(34103476, 34103476), (34169998, 34208802...   \n",
       "4  {7: [(34096547, 34106248), (34109019, 34129808...   \n",
       "\n",
       "                     trial_cluster_times_ranges_dict  \\\n",
       "0  {'lose_7': [(1600609, 1601302), (1630059, 1630...   \n",
       "1  {'win_7': [(1600609, 1601302), (1630059, 16301...   \n",
       "2  {'tie_3': [(1524248, 1524248), (1527574, 15295...   \n",
       "3  {'tie_3': [(1524248, 1524248), (1527574, 15295...   \n",
       "4  {'tie_7': [(1438255, 1438740), (1438878, 14399...   \n",
       "\n",
       "                trial_cluster_timestamps_ranges_dict  \\\n",
       "0  {'lose_7': [(34079916, 34093775), (34668911, 3...   \n",
       "1  {'win_7': [(34079916, 34093775), (34668911, 34...   \n",
       "2  {'tie_3': [(34103476, 34103476), (34169998, 34...   \n",
       "3  {'tie_3': [(34103476, 34103476), (34169998, 34...   \n",
       "4  {'tie_7': [(34096547, 34106248), (34109019, 34...   \n",
       "\n",
       "                                   session_dir  \\\n",
       "0  20240320_171038_alone_comp_subj_4-2_and_4-3   \n",
       "1  20240320_171038_alone_comp_subj_4-2_and_4-3   \n",
       "2  20240322_120625_alone_comp_subj_3-3_and_3-4   \n",
       "3  20240322_120625_alone_comp_subj_3-3_and_3-4   \n",
       "4  20240322_160946_alone_comp_subj_4-3_and_4-4   \n",
       "\n",
       "                                          sleap_name video_id agent  \\\n",
       "0  20240320_171038_alone_comp_subj_4-2_and_4-3.1....       17   4.3   \n",
       "1  20240320_171038_alone_comp_subj_4-2_and_4-3.1....       17   4.2   \n",
       "2  20240322_120625_alone_comp_subj_3-3_and_3-4.1....       18   3.4   \n",
       "3  20240322_120625_alone_comp_subj_3-3_and_3-4.1....       18   3.3   \n",
       "4  20240322_160946_alone_comp_subj_4-3_and_4-4.1....       19   4.4   \n",
       "\n",
       "                                   cluster_timestamp first_timestamp  \\\n",
       "0  [34079916, 34081302, 34082688, 34084074, 34084...         2067718   \n",
       "1  [34079916, 34081302, 34082688, 34084074, 34084...         2067718   \n",
       "2  [34103476, 34104862, 34106248, 34106248, 34107...         3618506   \n",
       "3  [34103476, 34104862, 34106248, 34106248, 34107...         3618506   \n",
       "4  [34096547, 34097933, 34098977, 34099318, 34100...         5331441   \n",
       "\n",
       "                                         recording  \n",
       "0  20240320_171038_alone_comp_subj_4-2_t6b6_merged  \n",
       "1  20240320_171038_alone_comp_subj_4-3_t5b5_merged  \n",
       "2  20240322_120625_alone_comp_subj_3-3_t6b6_merged  \n",
       "3  20240322_120625_alone_comp_subj_3-4_t5b5_merged  \n",
       "4  20240322_160946_alone_comp_subj_4-3_t6b6_merged  \n",
       "\n",
       "[5 rows x 51 columns]"
      ]
     },
     "execution_count": 63,
     "metadata": {},
     "output_type": "execute_result"
    }
   ],
   "source": [
    "video_TRIALS_AND_SPECTRAL_DF.head()"
   ]
  },
  {
   "cell_type": "code",
   "execution_count": 64,
   "metadata": {
    "tags": []
   },
   "outputs": [],
   "source": [
    "video_TRIALS_AND_SPECTRAL_DF.to_pickle(\"./proc/{}_cluster_ranges.pkl\".format(OUTPUT_PREFIX))"
   ]
  },
  {
   "cell_type": "code",
   "execution_count": null,
   "metadata": {},
   "outputs": [],
   "source": []
  },
  {
   "cell_type": "markdown",
   "metadata": {},
   "source": [
    "# Filtering out the SLEAP posed for during trials"
   ]
  },
  {
   "cell_type": "code",
   "execution_count": null,
   "metadata": {},
   "outputs": [],
   "source": [
    "raise ValueError()"
   ]
  },
  {
   "cell_type": "code",
   "execution_count": null,
   "metadata": {},
   "outputs": [],
   "source": [
    "TRIALS_AND_SPECTRAL_DF"
   ]
  },
  {
   "cell_type": "code",
   "execution_count": null,
   "metadata": {},
   "outputs": [],
   "source": []
  },
  {
   "cell_type": "code",
   "execution_count": null,
   "metadata": {},
   "outputs": [],
   "source": []
  },
  {
   "cell_type": "code",
   "execution_count": null,
   "metadata": {},
   "outputs": [],
   "source": []
  },
  {
   "cell_type": "code",
   "execution_count": null,
   "metadata": {},
   "outputs": [],
   "source": []
  },
  {
   "cell_type": "code",
   "execution_count": null,
   "metadata": {},
   "outputs": [],
   "source": []
  },
  {
   "cell_type": "code",
   "execution_count": null,
   "metadata": {
    "tags": []
   },
   "outputs": [],
   "source": [
    "TRIALS_AND_SPECTRAL_DF[\"video_frame\"] = TRIALS_AND_SPECTRAL_DF[\"video_timestamps\"].apply(lambda x: np.array(list(range(len(x)))) + 1)"
   ]
  },
  {
   "cell_type": "code",
   "execution_count": null,
   "metadata": {
    "tags": []
   },
   "outputs": [],
   "source": [
    "TRIALS_AND_SPECTRAL_DF[\"video_frame\"].head().apply(lambda x: x.shape)"
   ]
  },
  {
   "cell_type": "code",
   "execution_count": null,
   "metadata": {},
   "outputs": [],
   "source": [
    "['subject_thorax_to_agent_thorax',\n",
    " 'nose_to_reward_port_sum',\n",
    " 'nose_to_reward_port_diff',\n",
    " 'thorax_velocity_sum',\n",
    " 'thorax_velocity_diff',\n",
    " 'to_reward_port_angle_sum',\n",
    " 'to_reward_port_angle_diff',\n",
    " 'subject_nose_to_reward_port',\n",
    " 'subject_thorax_velocity',\n",
    " 'subject_to_reward_port_angle',\n",
    " 'agent_nose_to_reward_port',\n",
    " 'agent_thorax_velocity',\n",
    " 'agent_to_reward_port_angle',\n",
    " 'closebool_subject_nose_to_reward_port',\n",
    " 'closebool_agent_nose_to_reward_port',\n",
    " 'movingbool_subject_thorax_velocity',\n",
    " 'movingbool_agent_thorax_velocity',\n",
    " 'manual_cluster_id',\n",
    " 'standard_embedding_x',\n",
    " 'standard_embedding_y',\n",
    " 'kmeans_cluster',\n",
    " 'subject_locations',\n",
    " 'agent_locations',\n",
    " 'subject_thorax',\n",
    " 'subject_nose',\n",
    " 'subject_tail_base',\n",
    " 'agent_thorax',\n",
    " 'agent_nose',\n",
    " 'agent_tail_base']"
   ]
  },
  {
   "cell_type": "code",
   "execution_count": null,
   "metadata": {
    "tags": []
   },
   "outputs": [],
   "source": [
    "# sleap_columns = [col for col in TRIALS_AND_SPECTRAL_DF.columns if \"locations\" in col or \"velocity\" in col or \"to_reward_port\" in col or \"video_frame\" in col]"
   ]
  },
  {
   "cell_type": "code",
   "execution_count": null,
   "metadata": {
    "tags": []
   },
   "outputs": [],
   "source": [
    "sleap_columns = [col for col in TRIALS_AND_SPECTRAL_DF.columns if (\"thorax\" in col or \"nose\" in col or \"reward_port\" in col or \"standard_embedding\" in col or \"cluster\" in col or \"frame_index\" in col or \"locations\" in col or \"tailbase\" in col) and \"timestamp\" not in col]\n"
   ]
  },
  {
   "cell_type": "code",
   "execution_count": null,
   "metadata": {
    "tags": []
   },
   "outputs": [],
   "source": [
    "sleap_columns"
   ]
  },
  {
   "cell_type": "code",
   "execution_count": null,
   "metadata": {
    "tags": []
   },
   "outputs": [],
   "source": [
    "for col in sleap_columns:\n",
    "    print(col)\n",
    "    print(TRIALS_AND_SPECTRAL_DF[col].apply(lambda x: x.shape).iloc[0])"
   ]
  },
  {
   "cell_type": "code",
   "execution_count": null,
   "metadata": {
    "tags": []
   },
   "outputs": [],
   "source": [
    "for col in sorted(sleap_columns):\n",
    "    updated_item_col = \"trial_and_post_{}\".format(col)\n",
    "    print(updated_item_col)\n",
    "    updated_timestamp_col = \"trial_and_post_video_timestamps\"\n",
    "    TRIALS_AND_SPECTRAL_DF[updated_item_col] = TRIALS_AND_SPECTRAL_DF.apply(lambda x: utilities.helper.filter_by_timestamp_range(start=x[\"tone_start_timestamp\"], stop=x[\"post_trial_end_timestamp\"], timestamps=x[\"cluster_timestamp\"], items=x[col])[1], axis=1)\n",
    "\n",
    "TRIALS_AND_SPECTRAL_DF[updated_timestamp_col] = TRIALS_AND_SPECTRAL_DF.apply(lambda x: utilities.helper.filter_by_timestamp_range(start=x[\"tone_start_timestamp\"], stop=x[\"post_trial_end_timestamp\"], timestamps=x[\"cluster_timestamp\"], items=x[col])[0], axis=1)"
   ]
  },
  {
   "cell_type": "code",
   "execution_count": null,
   "metadata": {
    "tags": []
   },
   "outputs": [],
   "source": [
    "TRIALS_AND_SPECTRAL_DF.head()"
   ]
  },
  {
   "cell_type": "code",
   "execution_count": null,
   "metadata": {
    "tags": []
   },
   "outputs": [],
   "source": [
    "TRIALS_AND_SPECTRAL_DF[\"trial_and_post_frame_index\"].iloc[0].shape"
   ]
  },
  {
   "cell_type": "code",
   "execution_count": null,
   "metadata": {
    "tags": []
   },
   "outputs": [],
   "source": [
    "TRIALS_AND_SPECTRAL_DF = TRIALS_AND_SPECTRAL_DF.drop(columns=sleap_columns + [\"cluster_timestamp\"], errors=\"ignore\")"
   ]
  },
  {
   "cell_type": "code",
   "execution_count": null,
   "metadata": {
    "tags": []
   },
   "outputs": [],
   "source": [
    "for col in TRIALS_AND_SPECTRAL_DF.columns:\n",
    "    print(col)"
   ]
  },
  {
   "cell_type": "markdown",
   "metadata": {},
   "source": [
    "- Filtering coherence"
   ]
  },
  {
   "cell_type": "code",
   "execution_count": null,
   "metadata": {
    "tags": []
   },
   "outputs": [],
   "source": [
    "coherence_columns = [col for col in TRIALS_AND_SPECTRAL_DF.columns if \"coherence\" in col and \"timestamps\" not in col and \"calculation\" not in col]"
   ]
  },
  {
   "cell_type": "code",
   "execution_count": null,
   "metadata": {
    "tags": []
   },
   "outputs": [],
   "source": [
    "coherence_columns"
   ]
  },
  {
   "cell_type": "code",
   "execution_count": null,
   "metadata": {
    "tags": []
   },
   "outputs": [],
   "source": [
    "for col in sorted(coherence_columns):\n",
    "    updated_item_col = \"trial_and_post_{}\".format(col)\n",
    "    print(updated_item_col)\n",
    "    updated_timestamp_col = \"trial_and_post_coherence_timestamps\"\n",
    "    TRIALS_AND_SPECTRAL_DF[updated_item_col] = TRIALS_AND_SPECTRAL_DF.apply(lambda x: utilities.helper.filter_by_timestamp_range(start=x[\"tone_start_timestamp\"], stop=x[\"post_trial_end_timestamp\"], timestamps=x[\"coherence_timestamps\"], items=x[col])[1], axis=1)\n",
    "\n",
    "TRIALS_AND_SPECTRAL_DF[updated_timestamp_col] = TRIALS_AND_SPECTRAL_DF.apply(lambda x: utilities.helper.filter_by_timestamp_range(start=x[\"tone_start_timestamp\"], stop=x[\"post_trial_end_timestamp\"], timestamps=x[\"coherence_timestamps\"], items=x[col])[0], axis=1)"
   ]
  },
  {
   "cell_type": "code",
   "execution_count": null,
   "metadata": {
    "tags": []
   },
   "outputs": [],
   "source": [
    "TRIALS_AND_SPECTRAL_DF = TRIALS_AND_SPECTRAL_DF.drop(columns=coherence_columns + [\"coherence_timestamps\"], errors=\"ignore\")"
   ]
  },
  {
   "cell_type": "markdown",
   "metadata": {},
   "source": [
    "- Filtering Grangers"
   ]
  },
  {
   "cell_type": "code",
   "execution_count": null,
   "metadata": {
    "tags": []
   },
   "outputs": [],
   "source": [
    "granger_columns = [col for col in TRIALS_AND_SPECTRAL_DF.columns if \"granger\" in col and \"timestamps\" not in col and \"calculation\" not in col]"
   ]
  },
  {
   "cell_type": "code",
   "execution_count": null,
   "metadata": {
    "tags": []
   },
   "outputs": [],
   "source": [
    "granger_columns"
   ]
  },
  {
   "cell_type": "code",
   "execution_count": null,
   "metadata": {
    "tags": []
   },
   "outputs": [],
   "source": [
    "for col in sorted(granger_columns):\n",
    "    updated_item_col = \"trial_and_post_{}\".format(col)\n",
    "    print(updated_item_col)\n",
    "    updated_timestamp_col = \"trial_and_post_granger_timestamps\"\n",
    "    TRIALS_AND_SPECTRAL_DF[updated_item_col] = TRIALS_AND_SPECTRAL_DF.apply(lambda x: utilities.helper.filter_by_timestamp_range(start=x[\"tone_start_timestamp\"], stop=x[\"post_trial_end_timestamp\"], timestamps=x[\"granger_timestamps\"], items=x[col])[1], axis=1)\n",
    "\n",
    "TRIALS_AND_SPECTRAL_DF[updated_timestamp_col] = TRIALS_AND_SPECTRAL_DF.apply(lambda x: utilities.helper.filter_by_timestamp_range(start=x[\"tone_start_timestamp\"], stop=x[\"post_trial_end_timestamp\"], timestamps=x[\"granger_timestamps\"], items=x[col])[0], axis=1)"
   ]
  },
  {
   "cell_type": "code",
   "execution_count": null,
   "metadata": {
    "tags": []
   },
   "outputs": [],
   "source": [
    "TRIALS_AND_SPECTRAL_DF = TRIALS_AND_SPECTRAL_DF.drop(columns=granger_columns + [\"granger_timestamps\"], errors=\"ignore\")"
   ]
  },
  {
   "cell_type": "code",
   "execution_count": null,
   "metadata": {},
   "outputs": [],
   "source": [
    "TRIALS_AND_SPECTRAL_DF.to_pickle(os.path.join(OUTPUT_DIR, FULL_LFP_TRACES_PKL))"
   ]
  },
  {
   "cell_type": "markdown",
   "metadata": {},
   "source": [
    "- Filtering power"
   ]
  },
  {
   "cell_type": "code",
   "execution_count": null,
   "metadata": {},
   "outputs": [],
   "source": [
    "TRIALS_AND_SPECTRAL_DF.head()"
   ]
  },
  {
   "cell_type": "code",
   "execution_count": null,
   "metadata": {
    "tags": []
   },
   "outputs": [],
   "source": [
    "power_columns = [col for col in TRIALS_AND_SPECTRAL_DF.columns if \"power\" in col and \"timestamps\" not in col and \"calculation\" not in col]"
   ]
  },
  {
   "cell_type": "code",
   "execution_count": null,
   "metadata": {
    "tags": []
   },
   "outputs": [],
   "source": [
    "power_columns"
   ]
  },
  {
   "cell_type": "code",
   "execution_count": null,
   "metadata": {
    "tags": []
   },
   "outputs": [],
   "source": [
    "for col in sorted(power_columns):\n",
    "    updated_item_col = \"trial_and_post_{}\".format(col)\n",
    "    print(updated_item_col)\n",
    "    updated_timestamp_col = \"trial_and_post_power_timestamps\"\n",
    "    TRIALS_AND_SPECTRAL_DF[updated_item_col] = TRIALS_AND_SPECTRAL_DF.apply(lambda x: utilities.helper.filter_by_timestamp_range(start=x[\"tone_start_timestamp\"], stop=x[\"post_trial_end_timestamp\"], timestamps=x[\"power_timestamps\"], items=x[col])[1], axis=1)\n",
    "\n",
    "TRIALS_AND_SPECTRAL_DF[updated_timestamp_col] = TRIALS_AND_SPECTRAL_DF.apply(lambda x: utilities.helper.filter_by_timestamp_range(start=x[\"tone_start_timestamp\"], stop=x[\"post_trial_end_timestamp\"], timestamps=x[\"power_timestamps\"], items=x[col])[0], axis=1)\n"
   ]
  },
  {
   "cell_type": "code",
   "execution_count": null,
   "metadata": {
    "tags": []
   },
   "outputs": [],
   "source": [
    "TRIALS_AND_SPECTRAL_DF = TRIALS_AND_SPECTRAL_DF.drop(columns=power_columns + [\"power_timestamps\"], errors=\"ignore\")"
   ]
  },
  {
   "cell_type": "code",
   "execution_count": null,
   "metadata": {
    "tags": []
   },
   "outputs": [],
   "source": [
    "for col in TRIALS_AND_SPECTRAL_DF:\n",
    "    print(col)"
   ]
  },
  {
   "cell_type": "markdown",
   "metadata": {
    "tags": []
   },
   "source": [
    "# Filtering out phase"
   ]
  },
  {
   "cell_type": "code",
   "execution_count": null,
   "metadata": {
    "tags": []
   },
   "outputs": [],
   "source": [
    "lfp_columns = [col for col in TRIALS_AND_SPECTRAL_DF.columns if \"trace\" in col and \"timestamps\" not in col and \"calculation\" not in col]"
   ]
  },
  {
   "cell_type": "code",
   "execution_count": null,
   "metadata": {
    "tags": []
   },
   "outputs": [],
   "source": [
    "band_columns = [col for col in TRIALS_AND_SPECTRAL_DF.columns if \"band\" in col and \"timestamps\" not in col and \"calculation\" not in col]"
   ]
  },
  {
   "cell_type": "code",
   "execution_count": null,
   "metadata": {
    "tags": []
   },
   "outputs": [],
   "source": [
    "phase_columns = [col for col in TRIALS_AND_SPECTRAL_DF.columns if \"phase\" in col and \"timestamps\" not in col and \"calculation\" not in col]"
   ]
  },
  {
   "cell_type": "code",
   "execution_count": null,
   "metadata": {
    "tags": []
   },
   "outputs": [],
   "source": [
    "phase_columns = phase_columns + band_columns +lfp_columns"
   ]
  },
  {
   "cell_type": "code",
   "execution_count": null,
   "metadata": {
    "tags": []
   },
   "outputs": [],
   "source": [
    "phase_columns"
   ]
  },
  {
   "cell_type": "code",
   "execution_count": null,
   "metadata": {
    "tags": []
   },
   "outputs": [],
   "source": [
    "for col in sorted(phase_columns):\n",
    "    updated_item_col = \"trial_and_post_{}\".format(col)\n",
    "    print(updated_item_col)\n",
    "    updated_timestamp_col = \"trial_and_post_lfp_timestamps\"\n",
    "    TRIALS_AND_SPECTRAL_DF[updated_item_col] = TRIALS_AND_SPECTRAL_DF.apply(lambda x: utilities.helper.filter_by_timestamp_range(start=x[\"tone_start_timestamp\"], stop=x[\"post_trial_end_timestamp\"], timestamps=x[\"lfp_timestamps\"], items=x[col])[1], axis=1)\n",
    "\n",
    "TRIALS_AND_SPECTRAL_DF[updated_timestamp_col] = TRIALS_AND_SPECTRAL_DF.apply(lambda x: utilities.helper.filter_by_timestamp_range(start=x[\"tone_start_timestamp\"], stop=x[\"post_trial_end_timestamp\"], timestamps=x[\"lfp_timestamps\"], items=x[col])[0], axis=1)\n"
   ]
  },
  {
   "cell_type": "code",
   "execution_count": null,
   "metadata": {
    "tags": []
   },
   "outputs": [],
   "source": []
  },
  {
   "cell_type": "code",
   "execution_count": null,
   "metadata": {
    "tags": []
   },
   "outputs": [],
   "source": [
    "TRIALS_AND_SPECTRAL_DF[\"trial_and_post_lfp_timestamps\"]"
   ]
  },
  {
   "cell_type": "code",
   "execution_count": null,
   "metadata": {
    "tags": []
   },
   "outputs": [],
   "source": [
    "TRIALS_AND_SPECTRAL_DF = TRIALS_AND_SPECTRAL_DF.drop(columns=phase_columns + [\"lfp_timestamps\"], errors=\"ignore\")"
   ]
  },
  {
   "cell_type": "code",
   "execution_count": null,
   "metadata": {
    "tags": []
   },
   "outputs": [],
   "source": [
    "TRIALS_AND_SPECTRAL_DF.to_pickle(os.path.join(OUTPUT_DIR, FULL_LFP_TRACES_PKL))"
   ]
  },
  {
   "cell_type": "code",
   "execution_count": null,
   "metadata": {
    "tags": []
   },
   "outputs": [],
   "source": [
    "for col in TRIALS_AND_SPECTRAL_DF:\n",
    "    print(col)"
   ]
  },
  {
   "cell_type": "code",
   "execution_count": null,
   "metadata": {
    "tags": []
   },
   "outputs": [],
   "source": [
    "TRIALS_AND_SPECTRAL_DF[\"trial_and_post_kmeans_cluster\"].iloc[0].shape"
   ]
  },
  {
   "cell_type": "code",
   "execution_count": null,
   "metadata": {},
   "outputs": [],
   "source": [
    "raise ValueError()"
   ]
  },
  {
   "cell_type": "markdown",
   "metadata": {},
   "source": [
    "# Filtering for rows that are in the video"
   ]
  },
  {
   "cell_type": "code",
   "execution_count": null,
   "metadata": {
    "tags": []
   },
   "outputs": [],
   "source": [
    "TRIALS_AND_SPECTRAL_DF[\"in_video\"] = TRIALS_AND_SPECTRAL_DF.apply(lambda x: x[\"start_frame\"] <= x[\"trial_video_frame\"][0] <= x[\"stop_frame\"], axis=1)"
   ]
  },
  {
   "cell_type": "code",
   "execution_count": null,
   "metadata": {
    "tags": []
   },
   "outputs": [],
   "source": [
    "TRIALS_AND_SPECTRAL_DF = TRIALS_AND_SPECTRAL_DF[TRIALS_AND_SPECTRAL_DF[\"in_video\"]].reset_index()"
   ]
  },
  {
   "cell_type": "code",
   "execution_count": null,
   "metadata": {
    "tags": []
   },
   "outputs": [],
   "source": [
    "TRIALS_AND_SPECTRAL_DF"
   ]
  },
  {
   "cell_type": "code",
   "execution_count": null,
   "metadata": {
    "tags": []
   },
   "outputs": [],
   "source": [
    "TRIALS_AND_SPECTRAL_DF.to_pickle(os.path.join(OUTPUT_DIR, FULL_LFP_TRACES_PKL))"
   ]
  },
  {
   "cell_type": "code",
   "execution_count": null,
   "metadata": {},
   "outputs": [],
   "source": [
    "raise ValueError()"
   ]
  },
  {
   "cell_type": "markdown",
   "metadata": {},
   "source": [
    "# Filtering out spikes"
   ]
  },
  {
   "cell_type": "code",
   "execution_count": null,
   "metadata": {
    "tags": []
   },
   "outputs": [],
   "source": [
    "raise ValueError()"
   ]
  },
  {
   "cell_type": "code",
   "execution_count": null,
   "metadata": {
    "tags": []
   },
   "outputs": [],
   "source": [
    "TRIALS_AND_SPECTRAL_DF[\"baseline_spike_times\"] = TRIALS_AND_SPECTRAL_DF.apply(lambda x: filter_spike_times(x[\"spike_times\"], start=x[\"tone_start_timestamp\"], stop=x[\"baseline_stop_timestamp\"]).astype(int), axis=1)\n"
   ]
  },
  {
   "cell_type": "code",
   "execution_count": null,
   "metadata": {
    "tags": []
   },
   "outputs": [],
   "source": [
    "TRIALS_AND_SPECTRAL_DF[\"trial_spike_times\"] = TRIALS_AND_SPECTRAL_DF.apply(lambda x: filter_spike_times(x[\"spike_times\"], start=x[\"tone_start_timestamp\"], stop=x[\"tone_stop_timestamp\"]).astype(int), axis=1)\n"
   ]
  },
  {
   "cell_type": "code",
   "execution_count": null,
   "metadata": {
    "tags": []
   },
   "outputs": [],
   "source": [
    "TRIALS_AND_SPECTRAL_DF[\"tone_start_timestamp\"].head()"
   ]
  },
  {
   "cell_type": "code",
   "execution_count": null,
   "metadata": {
    "tags": []
   },
   "outputs": [],
   "source": [
    "TRIALS_AND_SPECTRAL_DF[\"baseline_stop_timestamp\"].head()"
   ]
  },
  {
   "cell_type": "code",
   "execution_count": null,
   "metadata": {
    "tags": []
   },
   "outputs": [],
   "source": [
    "TRIALS_AND_SPECTRAL_DF[\"baseline_spike_times\"].iloc[0]"
   ]
  },
  {
   "cell_type": "code",
   "execution_count": null,
   "metadata": {
    "tags": []
   },
   "outputs": [],
   "source": [
    "TRIALS_AND_SPECTRAL_DF[\"baseline_neuron_average_fr\"] = TRIALS_AND_SPECTRAL_DF.apply(lambda x: utilities.helper.filter_by_timestamp_range(start=x[\"tone_start_timestamp\"], stop=x[\"baseline_stop_timestamp\"], timestamps=x[\"neuron_average_timestamps\"], items=x[\"neuron_average_fr\"].T)[1], axis=1)\n",
    "TRIALS_AND_SPECTRAL_DF[\"baseline_neuron_average_timestamp\"] = TRIALS_AND_SPECTRAL_DF.apply(lambda x: utilities.helper.filter_by_timestamp_range(start=x[\"tone_start_timestamp\"], stop=x[\"baseline_stop_timestamp\"], timestamps=x[\"neuron_average_timestamps\"], items=x[\"neuron_average_fr\"].T)[0], axis=1)"
   ]
  },
  {
   "cell_type": "code",
   "execution_count": null,
   "metadata": {
    "tags": []
   },
   "outputs": [],
   "source": [
    "TRIALS_AND_SPECTRAL_DF[\"trial_neuron_average_fr\"] = TRIALS_AND_SPECTRAL_DF.apply(lambda x: utilities.helper.filter_by_timestamp_range(start=x[\"tone_start_timestamp\"], stop=x[\"tone_stop_timestamp\"], timestamps=x[\"neuron_average_timestamps\"], items=x[\"neuron_average_fr\"].T)[1].T, axis=1)\n",
    "TRIALS_AND_SPECTRAL_DF[\"trial_neuron_average_timestamp\"] = TRIALS_AND_SPECTRAL_DF.apply(lambda x: utilities.helper.filter_by_timestamp_range(start=x[\"tone_start_timestamp\"], stop=x[\"tone_stop_timestamp\"], timestamps=x[\"neuron_average_timestamps\"], items=x[\"neuron_average_fr\"].T)[0], axis=1)"
   ]
  },
  {
   "cell_type": "code",
   "execution_count": null,
   "metadata": {
    "tags": []
   },
   "outputs": [],
   "source": [
    "TRIALS_AND_SPECTRAL_DF = TRIALS_AND_SPECTRAL_DF.drop(columns=[\"spike_clusters\", \"spike_times\", \"neuron_average_fr\", \"neuron_average_timestamps\",], errors=\"ignore\")"
   ]
  },
  {
   "cell_type": "code",
   "execution_count": null,
   "metadata": {
    "tags": []
   },
   "outputs": [],
   "source": [
    "TRIALS_AND_SPECTRAL_DF[\"trial_neuron_average_fr\"].iloc[0].shape"
   ]
  },
  {
   "cell_type": "code",
   "execution_count": null,
   "metadata": {
    "tags": []
   },
   "outputs": [],
   "source": [
    "TRIALS_AND_SPECTRAL_DF[\"trial_neuron_average_timestamp\"].iloc[0].shape"
   ]
  },
  {
   "cell_type": "code",
   "execution_count": null,
   "metadata": {},
   "outputs": [],
   "source": []
  }
 ],
 "metadata": {
  "deepnote": {},
  "deepnote_execution_queue": [],
  "deepnote_notebook_id": "cf8fe3695d074ee7887fdf6459cbf5ce",
  "kernelspec": {
   "display_name": "spike_interface_0_100_8",
   "language": "python",
   "name": "spike_interface_0_100_8"
  },
  "language_info": {
   "codemirror_mode": {
    "name": "ipython",
    "version": 3
   },
   "file_extension": ".py",
   "mimetype": "text/x-python",
   "name": "python",
   "nbconvert_exporter": "python",
   "pygments_lexer": "ipython3",
   "version": "3.10.14"
  }
 },
 "nbformat": 4,
 "nbformat_minor": 4
}
