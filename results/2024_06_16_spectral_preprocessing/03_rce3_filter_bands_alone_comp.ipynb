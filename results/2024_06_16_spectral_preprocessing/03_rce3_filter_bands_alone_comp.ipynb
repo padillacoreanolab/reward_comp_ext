{
 "cells": [
  {
   "cell_type": "markdown",
   "metadata": {
    "cell_id": "c3a02adc9e884466bc8c79db549cc3d2",
    "deepnote_cell_type": "text-cell-h1",
    "formattedRanges": [
     {
      "fromCodePoint": 0,
      "marks": {
       "bold": true,
       "underline": true
      },
      "toCodePoint": 17,
      "type": "marks"
     }
    ]
   },
   "source": [
    "# All oscillation analysis"
   ]
  },
  {
   "cell_type": "markdown",
   "metadata": {
    "cell_id": "4546bee655b14a5dbf393161f1228e60",
    "deepnote_cell_type": "text-cell-p",
    "formattedRanges": []
   },
   "source": [
    "Brief 1-2 sentence description of notebook."
   ]
  },
  {
   "cell_type": "code",
   "execution_count": 1,
   "metadata": {
    "tags": []
   },
   "outputs": [],
   "source": [
    "# Imports of all used packages and libraries\n",
    "import sys\n",
    "import os\n",
    "import git\n",
    "import glob\n",
    "from collections import defaultdict"
   ]
  },
  {
   "cell_type": "code",
   "execution_count": 2,
   "metadata": {
    "tags": []
   },
   "outputs": [],
   "source": [
    "git_repo = git.Repo(\".\", search_parent_directories=True)\n",
    "git_root = git_repo.git.rev_parse(\"--show-toplevel\")"
   ]
  },
  {
   "cell_type": "code",
   "execution_count": 3,
   "metadata": {
    "tags": []
   },
   "outputs": [
    {
     "data": {
      "text/plain": [
       "'/nancy/user/riwata/projects/reward_comp_ext'"
      ]
     },
     "execution_count": 3,
     "metadata": {},
     "output_type": "execute_result"
    }
   ],
   "source": [
    "git_root"
   ]
  },
  {
   "cell_type": "code",
   "execution_count": 4,
   "metadata": {
    "tags": []
   },
   "outputs": [],
   "source": [
    "sys.path.insert(0, os.path.join(git_root, 'src'))"
   ]
  },
  {
   "cell_type": "code",
   "execution_count": 5,
   "metadata": {
    "tags": []
   },
   "outputs": [],
   "source": [
    "import warnings\n",
    "warnings.filterwarnings('ignore')"
   ]
  },
  {
   "cell_type": "code",
   "execution_count": 6,
   "metadata": {
    "tags": []
   },
   "outputs": [],
   "source": [
    "import os\n",
    "import collections\n",
    "import itertools\n",
    "from collections import defaultdict\n",
    "from itertools import combinations"
   ]
  },
  {
   "cell_type": "code",
   "execution_count": 7,
   "metadata": {
    "cell_id": "03b495cefa6a4798a44c7f2e4c6a3ea7",
    "deepnote_cell_type": "code",
    "deepnote_to_be_reexecuted": false,
    "execution_millis": 21,
    "execution_start": 1691424003626,
    "source_hash": null,
    "tags": []
   },
   "outputs": [],
   "source": [
    "# Imports of all used packages and libraries\n",
    "import numpy as np\n",
    "import pandas as pd\n",
    "from scipy import stats\n",
    "from scipy.stats import mannwhitneyu\n"
   ]
  },
  {
   "cell_type": "code",
   "execution_count": 8,
   "metadata": {
    "tags": []
   },
   "outputs": [],
   "source": [
    "import matplotlib\n",
    "import matplotlib.colors as mcolors\n",
    "import matplotlib.pyplot as plt\n",
    "import matplotlib.cm as cm\n",
    "# import seaborn as sns\n",
    "import colorsys"
   ]
  },
  {
   "cell_type": "code",
   "execution_count": 9,
   "metadata": {
    "tags": []
   },
   "outputs": [],
   "source": [
    "from sklearn.metrics import confusion_matrix"
   ]
  },
  {
   "cell_type": "code",
   "execution_count": 10,
   "metadata": {
    "tags": []
   },
   "outputs": [],
   "source": [
    "from spectral_connectivity import Multitaper, Connectivity\n",
    "import spectral_connectivity"
   ]
  },
  {
   "cell_type": "code",
   "execution_count": 11,
   "metadata": {
    "tags": []
   },
   "outputs": [],
   "source": [
    "import utilities.helper\n",
    "import trodes.read_exported"
   ]
  },
  {
   "cell_type": "code",
   "execution_count": 12,
   "metadata": {
    "tags": []
   },
   "outputs": [],
   "source": [
    "FONTSIZE = 20"
   ]
  },
  {
   "cell_type": "code",
   "execution_count": 13,
   "metadata": {
    "tags": []
   },
   "outputs": [],
   "source": [
    "font = {'weight' : 'medium',\n",
    "        'size'   : 20}\n",
    "\n",
    "matplotlib.rc('font', **font)"
   ]
  },
  {
   "cell_type": "markdown",
   "metadata": {
    "cell_id": "d290bac2c17940bfbc0f9296beaf70e5",
    "deepnote_cell_type": "text-cell-h2",
    "formattedRanges": []
   },
   "source": [
    "## Inputs & Data"
   ]
  },
  {
   "cell_type": "markdown",
   "metadata": {
    "cell_id": "e528ce19c608425292151930d380f49f",
    "deepnote_cell_type": "text-cell-p",
    "formattedRanges": []
   },
   "source": [
    "Explanation of each input and where it comes from."
   ]
  },
  {
   "cell_type": "code",
   "execution_count": 14,
   "metadata": {
    "cell_id": "6cf83a5811054461a718a71673d09aab",
    "deepnote_cell_type": "code",
    "deepnote_to_be_reexecuted": false,
    "execution_millis": 373,
    "execution_start": 1691424003628,
    "source_hash": null,
    "tags": []
   },
   "outputs": [],
   "source": [
    "# Inputs and Required data loading\n",
    "# input varaible names are in all caps snake case\n",
    "# Whenever an input changes or is used for processing \n",
    "# the vairables are all lower in snake case\n",
    "OUTPUT_DIR = r\"./proc/\" # where data is saved should always be shown in the inputs\n",
    "os.makedirs(OUTPUT_DIR, exist_ok=True)\n",
    "OUTPUT_PREFIX = \"rce_pilot_3_alone_comp\""
   ]
  },
  {
   "cell_type": "code",
   "execution_count": 15,
   "metadata": {
    "tags": []
   },
   "outputs": [],
   "source": [
    "LFP_SPECTRAL_DF = pd.read_pickle(\"./proc/{}_02_full_spectral.pkl\".format(OUTPUT_PREFIX))\n",
    "\n",
    "\n",
    "# LFP_SPECTRAL_DF = pd.read_pickle(\"./proc/rce_pilot_2_02_full_spectral_copy.pkl\")\n",
    "# LFP_SPECTRAL_DF = pd.read_pickle(\"./proc/rce_pilot_2_02_full_spectral.pkl\")"
   ]
  },
  {
   "cell_type": "code",
   "execution_count": 16,
   "metadata": {
    "tags": []
   },
   "outputs": [],
   "source": [
    "# CHANNEL_MAP_AND_ALL_TRIALS_DF = pd.read_pickle(\"./proc/full_baseline_and_trial_lfp_traces.pkl\")\n",
    "# MERGED_TRIALS_AND_VIDEO = pd.read_pickle(\"./proc/trial_SLEAP_and_metadata.pkl\")"
   ]
  },
  {
   "cell_type": "code",
   "execution_count": 17,
   "metadata": {
    "tags": []
   },
   "outputs": [],
   "source": [
    "theta_band = (4, 12)\n",
    "gamma_band = (30, 50)\n",
    "filter_band = (0, 56)"
   ]
  },
  {
   "cell_type": "code",
   "execution_count": 18,
   "metadata": {
    "tags": []
   },
   "outputs": [],
   "source": [
    "FONTSIZE=20"
   ]
  },
  {
   "cell_type": "code",
   "execution_count": 19,
   "metadata": {
    "tags": []
   },
   "outputs": [],
   "source": [
    "FULL_LFP_TRACES_PKL = \"{}_03_spectral_bands.pkl\".format(OUTPUT_PREFIX)"
   ]
  },
  {
   "cell_type": "markdown",
   "metadata": {
    "cell_id": "e3ee4891d43a4ac287413afc552ca289",
    "deepnote_cell_type": "text-cell-h2",
    "formattedRanges": []
   },
   "source": [
    "## Outputs"
   ]
  },
  {
   "cell_type": "markdown",
   "metadata": {
    "cell_id": "9ccbf6cc70fd4d379fa29317f733771f",
    "deepnote_cell_type": "text-cell-p",
    "formattedRanges": []
   },
   "source": [
    "Describe each output that the notebook creates. "
   ]
  },
  {
   "cell_type": "markdown",
   "metadata": {
    "cell_id": "fc8e8920a6944918a15fac575cdf6e78",
    "deepnote_cell_type": "text-cell-bullet",
    "formattedRanges": []
   },
   "source": [
    "- Is it a plot or is it data?"
   ]
  },
  {
   "cell_type": "markdown",
   "metadata": {
    "cell_id": "1e639d4776a84aa9ac8ded2e14fa57db",
    "deepnote_cell_type": "text-cell-bullet",
    "formattedRanges": []
   },
   "source": [
    "- How valuable is the output and why is it valuable or useful?"
   ]
  },
  {
   "cell_type": "markdown",
   "metadata": {},
   "source": [
    "## Functions "
   ]
  },
  {
   "cell_type": "code",
   "execution_count": null,
   "metadata": {},
   "outputs": [],
   "source": []
  },
  {
   "cell_type": "markdown",
   "metadata": {
    "cell_id": "8999d19b6b7d4d63bc90f0b0bd9ab085",
    "deepnote_cell_type": "text-cell-h2",
    "formattedRanges": []
   },
   "source": [
    "## Processing"
   ]
  },
  {
   "cell_type": "markdown",
   "metadata": {
    "cell_id": "9b36cdf08567463082b005cb0dec684b",
    "deepnote_cell_type": "text-cell-p",
    "formattedRanges": []
   },
   "source": [
    "Describe what is done to the data here and how inputs are manipulated to generate outputs. "
   ]
  },
  {
   "cell_type": "markdown",
   "metadata": {
    "tags": []
   },
   "source": [
    "# Dropping unused columns"
   ]
  },
  {
   "cell_type": "code",
   "execution_count": 20,
   "metadata": {
    "cell_id": "89aaba237c644628b1b37604b75e7cb1",
    "deepnote_cell_type": "code",
    "tags": []
   },
   "outputs": [],
   "source": [
    "# As much code and as many cells as required\n",
    "# includes EDA and playing with data\n",
    "# GO HAM!\n",
    "\n",
    "# Ideally functions are defined here first and then data is processed using the functions\n",
    "\n",
    "# function names are short and in snake case all lowercase\n",
    "# a function name should be unique but does not have to describe the function\n",
    "# doc strings describe functions not function names\n",
    "\n",
    "\n"
   ]
  },
  {
   "cell_type": "code",
   "execution_count": 21,
   "metadata": {
    "tags": []
   },
   "outputs": [
    {
     "data": {
      "text/plain": [
       "['cohort',\n",
       " 'session_dir',\n",
       " 'tone_frames',\n",
       " 'box_1_port_entry_frames',\n",
       " 'box_2_port_entry_frames',\n",
       " 'video_name',\n",
       " 'notes',\n",
       " 'session_path',\n",
       " 'recording',\n",
       " 'current_subject',\n",
       " 'subject',\n",
       " 'all_subjects',\n",
       " 'first_timestamp',\n",
       " 'last_timestamp',\n",
       " 'video_timestamps',\n",
       " 'tone_timestamps',\n",
       " 'box_1_port_entry_timestamps',\n",
       " 'box_2_port_entry_timestamps',\n",
       " 'lfp_timestamps',\n",
       " 'vHPC_lfp_trace',\n",
       " 'BLA_lfp_trace',\n",
       " 'LH_lfp_trace',\n",
       " 'MD_lfp_trace',\n",
       " 'mPFC_lfp_trace',\n",
       " 'vHPC_lfp_RMS_filtered',\n",
       " 'BLA_lfp_RMS_filtered',\n",
       " 'LH_lfp_RMS_filtered',\n",
       " 'MD_lfp_RMS_filtered',\n",
       " 'mPFC_lfp_RMS_filtered',\n",
       " 'vHPC_theta_band',\n",
       " 'BLA_theta_band',\n",
       " 'LH_theta_band',\n",
       " 'MD_theta_band',\n",
       " 'mPFC_theta_band',\n",
       " 'vHPC_gamma_band',\n",
       " 'BLA_gamma_band',\n",
       " 'LH_gamma_band',\n",
       " 'MD_gamma_band',\n",
       " 'mPFC_gamma_band',\n",
       " 'vHPC_theta_phase',\n",
       " 'BLA_theta_phase',\n",
       " 'LH_theta_phase',\n",
       " 'MD_theta_phase',\n",
       " 'mPFC_theta_phase',\n",
       " 'vHPC_gamma_phase',\n",
       " 'BLA_gamma_phase',\n",
       " 'LH_gamma_phase',\n",
       " 'MD_gamma_phase',\n",
       " 'mPFC_gamma_phase',\n",
       " 'vHPC_power_all_frequencies_all_windows',\n",
       " 'BLA_power_all_frequencies_all_windows',\n",
       " 'LH_power_all_frequencies_all_windows',\n",
       " 'MD_power_all_frequencies_all_windows',\n",
       " 'mPFC_power_all_frequencies_all_windows',\n",
       " 'power_timestamps',\n",
       " 'power_calculation_frequencies',\n",
       " 'BLA_LH_coherence_all_frequencies_all_windows',\n",
       " 'BLA_MD_coherence_all_frequencies_all_windows',\n",
       " 'BLA_mPFC_coherence_all_frequencies_all_windows',\n",
       " 'BLA_vHPC_coherence_all_frequencies_all_windows',\n",
       " 'LH_MD_coherence_all_frequencies_all_windows',\n",
       " 'LH_mPFC_coherence_all_frequencies_all_windows',\n",
       " 'LH_vHPC_coherence_all_frequencies_all_windows',\n",
       " 'MD_mPFC_coherence_all_frequencies_all_windows',\n",
       " 'MD_vHPC_coherence_all_frequencies_all_windows',\n",
       " 'mPFC_vHPC_coherence_all_frequencies_all_windows',\n",
       " 'coherence_timestamps',\n",
       " 'coherence_calculation_frequencies',\n",
       " 'BLA_LH_granger_all_frequencies_all_windows',\n",
       " 'LH_BLA_granger_all_frequencies_all_windows',\n",
       " 'BLA_MD_granger_all_frequencies_all_windows',\n",
       " 'MD_BLA_granger_all_frequencies_all_windows',\n",
       " 'BLA_mPFC_granger_all_frequencies_all_windows',\n",
       " 'mPFC_BLA_granger_all_frequencies_all_windows',\n",
       " 'BLA_vHPC_granger_all_frequencies_all_windows',\n",
       " 'vHPC_BLA_granger_all_frequencies_all_windows',\n",
       " 'LH_MD_granger_all_frequencies_all_windows',\n",
       " 'MD_LH_granger_all_frequencies_all_windows',\n",
       " 'LH_mPFC_granger_all_frequencies_all_windows',\n",
       " 'mPFC_LH_granger_all_frequencies_all_windows',\n",
       " 'LH_vHPC_granger_all_frequencies_all_windows',\n",
       " 'vHPC_LH_granger_all_frequencies_all_windows',\n",
       " 'MD_mPFC_granger_all_frequencies_all_windows',\n",
       " 'mPFC_MD_granger_all_frequencies_all_windows',\n",
       " 'MD_vHPC_granger_all_frequencies_all_windows',\n",
       " 'vHPC_MD_granger_all_frequencies_all_windows',\n",
       " 'mPFC_vHPC_granger_all_frequencies_all_windows',\n",
       " 'vHPC_mPFC_granger_all_frequencies_all_windows',\n",
       " 'granger_timestamps',\n",
       " 'granger_calculation_frequencies']"
      ]
     },
     "execution_count": 21,
     "metadata": {},
     "output_type": "execute_result"
    }
   ],
   "source": [
    "list(LFP_SPECTRAL_DF.columns)"
   ]
  },
  {
   "cell_type": "code",
   "execution_count": 22,
   "metadata": {
    "tags": []
   },
   "outputs": [],
   "source": [
    "dropping_columns = [col for col in LFP_SPECTRAL_DF if (\"MAD\" in col or \"modified_zscore\" in col or \"RMS\" in col or \"mask\" in col or \"trace_filtered\" in col) and \"power\" not in col]\n",
    "\n",
    "\n"
   ]
  },
  {
   "cell_type": "code",
   "execution_count": 23,
   "metadata": {
    "tags": []
   },
   "outputs": [
    {
     "data": {
      "text/plain": [
       "['vHPC_lfp_RMS_filtered',\n",
       " 'BLA_lfp_RMS_filtered',\n",
       " 'LH_lfp_RMS_filtered',\n",
       " 'MD_lfp_RMS_filtered',\n",
       " 'mPFC_lfp_RMS_filtered']"
      ]
     },
     "execution_count": 23,
     "metadata": {},
     "output_type": "execute_result"
    }
   ],
   "source": [
    "dropping_columns"
   ]
  },
  {
   "cell_type": "code",
   "execution_count": 24,
   "metadata": {
    "tags": []
   },
   "outputs": [],
   "source": [
    "LFP_SPECTRAL_DF = LFP_SPECTRAL_DF.drop(columns=dropping_columns, errors=\"ignore\")"
   ]
  },
  {
   "cell_type": "markdown",
   "metadata": {},
   "source": [
    "## Filtering frequencies"
   ]
  },
  {
   "cell_type": "code",
   "execution_count": 25,
   "metadata": {
    "tags": []
   },
   "outputs": [
    {
     "data": {
      "text/plain": [
       "['cohort',\n",
       " 'session_dir',\n",
       " 'tone_frames',\n",
       " 'box_1_port_entry_frames',\n",
       " 'box_2_port_entry_frames',\n",
       " 'video_name',\n",
       " 'notes',\n",
       " 'session_path',\n",
       " 'recording',\n",
       " 'current_subject',\n",
       " 'subject',\n",
       " 'all_subjects',\n",
       " 'first_timestamp',\n",
       " 'last_timestamp',\n",
       " 'video_timestamps',\n",
       " 'tone_timestamps',\n",
       " 'box_1_port_entry_timestamps',\n",
       " 'box_2_port_entry_timestamps',\n",
       " 'lfp_timestamps',\n",
       " 'vHPC_lfp_trace',\n",
       " 'BLA_lfp_trace',\n",
       " 'LH_lfp_trace',\n",
       " 'MD_lfp_trace',\n",
       " 'mPFC_lfp_trace',\n",
       " 'vHPC_theta_band',\n",
       " 'BLA_theta_band',\n",
       " 'LH_theta_band',\n",
       " 'MD_theta_band',\n",
       " 'mPFC_theta_band',\n",
       " 'vHPC_gamma_band',\n",
       " 'BLA_gamma_band',\n",
       " 'LH_gamma_band',\n",
       " 'MD_gamma_band',\n",
       " 'mPFC_gamma_band',\n",
       " 'vHPC_theta_phase',\n",
       " 'BLA_theta_phase',\n",
       " 'LH_theta_phase',\n",
       " 'MD_theta_phase',\n",
       " 'mPFC_theta_phase',\n",
       " 'vHPC_gamma_phase',\n",
       " 'BLA_gamma_phase',\n",
       " 'LH_gamma_phase',\n",
       " 'MD_gamma_phase',\n",
       " 'mPFC_gamma_phase',\n",
       " 'vHPC_power_all_frequencies_all_windows',\n",
       " 'BLA_power_all_frequencies_all_windows',\n",
       " 'LH_power_all_frequencies_all_windows',\n",
       " 'MD_power_all_frequencies_all_windows',\n",
       " 'mPFC_power_all_frequencies_all_windows',\n",
       " 'power_timestamps',\n",
       " 'power_calculation_frequencies',\n",
       " 'BLA_LH_coherence_all_frequencies_all_windows',\n",
       " 'BLA_MD_coherence_all_frequencies_all_windows',\n",
       " 'BLA_mPFC_coherence_all_frequencies_all_windows',\n",
       " 'BLA_vHPC_coherence_all_frequencies_all_windows',\n",
       " 'LH_MD_coherence_all_frequencies_all_windows',\n",
       " 'LH_mPFC_coherence_all_frequencies_all_windows',\n",
       " 'LH_vHPC_coherence_all_frequencies_all_windows',\n",
       " 'MD_mPFC_coherence_all_frequencies_all_windows',\n",
       " 'MD_vHPC_coherence_all_frequencies_all_windows',\n",
       " 'mPFC_vHPC_coherence_all_frequencies_all_windows',\n",
       " 'coherence_timestamps',\n",
       " 'coherence_calculation_frequencies',\n",
       " 'BLA_LH_granger_all_frequencies_all_windows',\n",
       " 'LH_BLA_granger_all_frequencies_all_windows',\n",
       " 'BLA_MD_granger_all_frequencies_all_windows',\n",
       " 'MD_BLA_granger_all_frequencies_all_windows',\n",
       " 'BLA_mPFC_granger_all_frequencies_all_windows',\n",
       " 'mPFC_BLA_granger_all_frequencies_all_windows',\n",
       " 'BLA_vHPC_granger_all_frequencies_all_windows',\n",
       " 'vHPC_BLA_granger_all_frequencies_all_windows',\n",
       " 'LH_MD_granger_all_frequencies_all_windows',\n",
       " 'MD_LH_granger_all_frequencies_all_windows',\n",
       " 'LH_mPFC_granger_all_frequencies_all_windows',\n",
       " 'mPFC_LH_granger_all_frequencies_all_windows',\n",
       " 'LH_vHPC_granger_all_frequencies_all_windows',\n",
       " 'vHPC_LH_granger_all_frequencies_all_windows',\n",
       " 'MD_mPFC_granger_all_frequencies_all_windows',\n",
       " 'mPFC_MD_granger_all_frequencies_all_windows',\n",
       " 'MD_vHPC_granger_all_frequencies_all_windows',\n",
       " 'vHPC_MD_granger_all_frequencies_all_windows',\n",
       " 'mPFC_vHPC_granger_all_frequencies_all_windows',\n",
       " 'vHPC_mPFC_granger_all_frequencies_all_windows',\n",
       " 'granger_timestamps',\n",
       " 'granger_calculation_frequencies']"
      ]
     },
     "execution_count": 25,
     "metadata": {},
     "output_type": "execute_result"
    }
   ],
   "source": [
    "list(LFP_SPECTRAL_DF.columns)"
   ]
  },
  {
   "cell_type": "code",
   "execution_count": 26,
   "metadata": {
    "tags": []
   },
   "outputs": [],
   "source": [
    "all_frequencies_columns = [col for col in LFP_SPECTRAL_DF if \"all_frequencies_all_windows\" in col] "
   ]
  },
  {
   "cell_type": "code",
   "execution_count": 27,
   "metadata": {
    "tags": []
   },
   "outputs": [],
   "source": [
    "for col in all_frequencies_columns:\n",
    "    if \"power\" in col:\n",
    "        LFP_SPECTRAL_DF[col] = LFP_SPECTRAL_DF.apply(lambda x: x[col][:, (x[\"power_calculation_frequencies\"] >= filter_band[0]) & (x[\"power_calculation_frequencies\"] < filter_band[1])], axis=1)\n",
    "LFP_SPECTRAL_DF[\"power_calculation_frequencies\"] = LFP_SPECTRAL_DF[\"power_calculation_frequencies\"].apply(lambda x: x[filter_band[0]: filter_band[1]])\n"
   ]
  },
  {
   "cell_type": "code",
   "execution_count": 28,
   "metadata": {
    "tags": []
   },
   "outputs": [],
   "source": [
    "for col in all_frequencies_columns:\n",
    "    if \"coherence\" in col:\n",
    "        LFP_SPECTRAL_DF[col] = LFP_SPECTRAL_DF.apply(lambda x: x[col][:, (x[\"coherence_calculation_frequencies\"] >= filter_band[0]) & (x[\"coherence_calculation_frequencies\"] < filter_band[1])], axis=1)\n",
    "LFP_SPECTRAL_DF[\"coherence_calculation_frequencies\"] = LFP_SPECTRAL_DF[\"coherence_calculation_frequencies\"].apply(lambda x: x[filter_band[0]: filter_band[1]])\n"
   ]
  },
  {
   "cell_type": "code",
   "execution_count": 29,
   "metadata": {
    "tags": []
   },
   "outputs": [],
   "source": [
    "for col in all_frequencies_columns:\n",
    "    if \"granger\" in col:\n",
    "        LFP_SPECTRAL_DF[col] = LFP_SPECTRAL_DF.apply(lambda x: x[col][:, (x[\"granger_calculation_frequencies\"] >= filter_band[0]) & (x[\"granger_calculation_frequencies\"] < filter_band[1])], axis=1)\n",
    "LFP_SPECTRAL_DF[\"granger_calculation_frequencies\"] = LFP_SPECTRAL_DF[\"granger_calculation_frequencies\"].apply(lambda x: x[filter_band[0]: filter_band[1]])\n"
   ]
  },
  {
   "cell_type": "code",
   "execution_count": 30,
   "metadata": {
    "tags": []
   },
   "outputs": [
    {
     "name": "stdout",
     "output_type": "stream",
     "text": [
      "(6358, 56)\n",
      "(6358, 56)\n",
      "(6358, 56)\n",
      "(6358, 56)\n",
      "(6358, 56)\n",
      "(6358, 56)\n",
      "(6358, 56)\n",
      "(6358, 56)\n",
      "(6358, 56)\n",
      "(6358, 56)\n",
      "(6358, 56)\n",
      "(6358, 56)\n",
      "(6358, 56)\n",
      "(6358, 56)\n",
      "(6358, 56)\n",
      "(6358, 56)\n",
      "(6358, 56)\n",
      "(6358, 56)\n",
      "(6358, 56)\n",
      "(6358, 56)\n",
      "(6358, 56)\n",
      "(6358, 56)\n",
      "(6358, 56)\n",
      "(6358, 56)\n",
      "(6358, 56)\n",
      "(6358, 56)\n",
      "(6358, 56)\n",
      "(6358, 56)\n",
      "(6358, 56)\n",
      "(6358, 56)\n",
      "(6358, 56)\n",
      "(6358, 56)\n",
      "(6358, 56)\n",
      "(6358, 56)\n",
      "(6358, 56)\n"
     ]
    }
   ],
   "source": [
    "for col in all_frequencies_columns:\n",
    "    print(LFP_SPECTRAL_DF[col].iloc[0].shape)"
   ]
  },
  {
   "cell_type": "code",
   "execution_count": 31,
   "metadata": {
    "tags": []
   },
   "outputs": [
    {
     "data": {
      "text/plain": [
       "(56,)"
      ]
     },
     "execution_count": 31,
     "metadata": {},
     "output_type": "execute_result"
    }
   ],
   "source": [
    "LFP_SPECTRAL_DF[\"power_calculation_frequencies\"].iloc[0].shape"
   ]
  },
  {
   "cell_type": "code",
   "execution_count": 32,
   "metadata": {},
   "outputs": [
    {
     "data": {
      "text/plain": [
       "(56,)"
      ]
     },
     "execution_count": 32,
     "metadata": {},
     "output_type": "execute_result"
    }
   ],
   "source": [
    "LFP_SPECTRAL_DF[\"coherence_calculation_frequencies\"].iloc[0].shape"
   ]
  },
  {
   "cell_type": "code",
   "execution_count": 33,
   "metadata": {},
   "outputs": [
    {
     "data": {
      "text/plain": [
       "(56,)"
      ]
     },
     "execution_count": 33,
     "metadata": {},
     "output_type": "execute_result"
    }
   ],
   "source": [
    "LFP_SPECTRAL_DF[\"granger_calculation_frequencies\"].iloc[0].shape"
   ]
  },
  {
   "cell_type": "markdown",
   "metadata": {
    "tags": []
   },
   "source": [
    "## Filtering by theta and gamma band"
   ]
  },
  {
   "cell_type": "markdown",
   "metadata": {},
   "source": [
    "- Filtering theta/gamma for coherence"
   ]
  },
  {
   "cell_type": "code",
   "execution_count": 34,
   "metadata": {
    "tags": []
   },
   "outputs": [],
   "source": [
    "coherence_columns = [col for col in LFP_SPECTRAL_DF.columns if \"coherence\" in col and \"calculation\" not in col and \"time\" not in col]"
   ]
  },
  {
   "cell_type": "code",
   "execution_count": 35,
   "metadata": {
    "tags": []
   },
   "outputs": [
    {
     "data": {
      "text/plain": [
       "['BLA_LH_coherence_all_frequencies_all_windows',\n",
       " 'BLA_MD_coherence_all_frequencies_all_windows',\n",
       " 'BLA_mPFC_coherence_all_frequencies_all_windows',\n",
       " 'BLA_vHPC_coherence_all_frequencies_all_windows',\n",
       " 'LH_MD_coherence_all_frequencies_all_windows',\n",
       " 'LH_mPFC_coherence_all_frequencies_all_windows',\n",
       " 'LH_vHPC_coherence_all_frequencies_all_windows',\n",
       " 'MD_mPFC_coherence_all_frequencies_all_windows',\n",
       " 'MD_vHPC_coherence_all_frequencies_all_windows',\n",
       " 'mPFC_vHPC_coherence_all_frequencies_all_windows']"
      ]
     },
     "execution_count": 35,
     "metadata": {},
     "output_type": "execute_result"
    }
   ],
   "source": [
    "coherence_columns"
   ]
  },
  {
   "cell_type": "code",
   "execution_count": 36,
   "metadata": {
    "tags": []
   },
   "outputs": [
    {
     "name": "stdout",
     "output_type": "stream",
     "text": [
      "BLA_LH\n",
      "BLA_MD\n",
      "BLA_mPFC\n",
      "BLA_vHPC\n",
      "LH_MD\n",
      "LH_mPFC\n",
      "LH_vHPC\n",
      "MD_mPFC\n",
      "MD_vHPC\n",
      "mPFC_vHPC\n"
     ]
    }
   ],
   "source": [
    "for col in coherence_columns:\n",
    "    brain_region_name = \"_\".join(col.split(\"_\")[:2])\n",
    "    print(brain_region_name)\n",
    "    theta_coherence_col = \"{}_coherence_theta\".format(brain_region_name)\n",
    "    gamma_coherence_col = \"{}_coherence_gamma\".format(brain_region_name)\n",
    "    LFP_SPECTRAL_DF[\"{}\".format(theta_coherence_col)] = LFP_SPECTRAL_DF.apply(lambda x: np.nanmean(x[col][:, (x[\"coherence_calculation_frequencies\"] >= theta_band[0]) & (x[\"coherence_calculation_frequencies\"] <= theta_band[1])], axis=1), axis=1)\n",
    "    LFP_SPECTRAL_DF[\"{}\".format(gamma_coherence_col)] = LFP_SPECTRAL_DF.apply(lambda x: np.nanmean(x[col][:, (x[\"coherence_calculation_frequencies\"] >= gamma_band[0]) & (x[\"coherence_calculation_frequencies\"] <= gamma_band[1])], axis=1), axis=1)"
   ]
  },
  {
   "cell_type": "code",
   "execution_count": 37,
   "metadata": {
    "tags": []
   },
   "outputs": [
    {
     "data": {
      "text/html": [
       "<div>\n",
       "<style scoped>\n",
       "    .dataframe tbody tr th:only-of-type {\n",
       "        vertical-align: middle;\n",
       "    }\n",
       "\n",
       "    .dataframe tbody tr th {\n",
       "        vertical-align: top;\n",
       "    }\n",
       "\n",
       "    .dataframe thead th {\n",
       "        text-align: right;\n",
       "    }\n",
       "</style>\n",
       "<table border=\"1\" class=\"dataframe\">\n",
       "  <thead>\n",
       "    <tr style=\"text-align: right;\">\n",
       "      <th></th>\n",
       "      <th>cohort</th>\n",
       "      <th>session_dir</th>\n",
       "      <th>tone_frames</th>\n",
       "      <th>box_1_port_entry_frames</th>\n",
       "      <th>box_2_port_entry_frames</th>\n",
       "      <th>video_name</th>\n",
       "      <th>notes</th>\n",
       "      <th>session_path</th>\n",
       "      <th>recording</th>\n",
       "      <th>current_subject</th>\n",
       "      <th>...</th>\n",
       "      <th>LH_mPFC_coherence_theta</th>\n",
       "      <th>LH_mPFC_coherence_gamma</th>\n",
       "      <th>LH_vHPC_coherence_theta</th>\n",
       "      <th>LH_vHPC_coherence_gamma</th>\n",
       "      <th>MD_mPFC_coherence_theta</th>\n",
       "      <th>MD_mPFC_coherence_gamma</th>\n",
       "      <th>MD_vHPC_coherence_theta</th>\n",
       "      <th>MD_vHPC_coherence_gamma</th>\n",
       "      <th>mPFC_vHPC_coherence_theta</th>\n",
       "      <th>mPFC_vHPC_coherence_gamma</th>\n",
       "    </tr>\n",
       "  </thead>\n",
       "  <tbody>\n",
       "    <tr>\n",
       "      <th>0</th>\n",
       "      <td>rce_pilot_3</td>\n",
       "      <td>20240320_142408_alone_comp_subj_3-1_and_3-3</td>\n",
       "      <td>[[0, 74], [1272, 1471], [3268, 3469], [4466, 4...</td>\n",
       "      <td>[[0, 74], [152, 157], [252, 305], [305, 323], ...</td>\n",
       "      <td>[[0, 74], [160, 225], [254, 257], [257, 279], ...</td>\n",
       "      <td>20240320_142408_alone_comp_subj_3-1_and_3-3.1....</td>\n",
       "      <td>NaN</td>\n",
       "      <td>/scratch/back_up/reward_competition_extention/...</td>\n",
       "      <td>20240320_142408_alone_comp_subj_3-1_t6b6_merged</td>\n",
       "      <td>3.1</td>\n",
       "      <td>...</td>\n",
       "      <td>[nan, nan, 0.66578615, 0.71455723, 0.70779204,...</td>\n",
       "      <td>[nan, nan, 0.42835087, 0.5590993, 0.43337494, ...</td>\n",
       "      <td>[nan, nan, 0.4717538, 0.4339342, 0.5687888, 0....</td>\n",
       "      <td>[nan, nan, 0.45298973, 0.22820581, 0.3585577, ...</td>\n",
       "      <td>[0.53791547, 0.7005945, 0.58507025, 0.5095136,...</td>\n",
       "      <td>[0.43646446, 0.49723727, 0.4331182, 0.53396994...</td>\n",
       "      <td>[nan, 0.6052197, 0.4935742, 0.6154693, nan, na...</td>\n",
       "      <td>[nan, 0.28264648, 0.47072393, 0.35121575, nan,...</td>\n",
       "      <td>[nan, 0.69276094, 0.67357486, 0.33313167, 0.53...</td>\n",
       "      <td>[nan, 0.24414322, 0.34572023, 0.3490095, 0.245...</td>\n",
       "    </tr>\n",
       "    <tr>\n",
       "      <th>1</th>\n",
       "      <td>rce_pilot_3</td>\n",
       "      <td>20240320_142408_alone_comp_subj_3-1_and_3-3</td>\n",
       "      <td>[[0, 75], [1273, 1472], [3269, 3470], [4467, 4...</td>\n",
       "      <td>[[0, 75], [153, 158], [252, 306], [306, 324], ...</td>\n",
       "      <td>[[0, 75], [161, 226], [255, 258], [258, 280], ...</td>\n",
       "      <td>20240320_142408_alone_comp_subj_3-1_and_3-3.2....</td>\n",
       "      <td>NaN</td>\n",
       "      <td>/scratch/back_up/reward_competition_extention/...</td>\n",
       "      <td>20240320_142408_alone_comp_subj_3-1_t6b6_merged</td>\n",
       "      <td>3.1</td>\n",
       "      <td>...</td>\n",
       "      <td>[nan, nan, 0.66578615, 0.71455723, 0.70779204,...</td>\n",
       "      <td>[nan, nan, 0.42835087, 0.5590993, 0.43337494, ...</td>\n",
       "      <td>[nan, nan, 0.4717538, 0.4339342, 0.5687888, 0....</td>\n",
       "      <td>[nan, nan, 0.45298973, 0.22820581, 0.3585577, ...</td>\n",
       "      <td>[0.53791547, 0.7005945, 0.58507025, 0.5095136,...</td>\n",
       "      <td>[0.43646446, 0.49723727, 0.4331182, 0.53396994...</td>\n",
       "      <td>[nan, 0.6052197, 0.4935742, 0.6154693, nan, na...</td>\n",
       "      <td>[nan, 0.28264648, 0.47072393, 0.35121575, nan,...</td>\n",
       "      <td>[nan, 0.69276094, 0.67357486, 0.33313167, 0.53...</td>\n",
       "      <td>[nan, 0.24414322, 0.34572023, 0.3490095, 0.245...</td>\n",
       "    </tr>\n",
       "    <tr>\n",
       "      <th>2</th>\n",
       "      <td>rce_pilot_3</td>\n",
       "      <td>20240320_142408_alone_comp_subj_3-1_and_3-3</td>\n",
       "      <td>[[0, 74], [1272, 1471], [3268, 3469], [4466, 4...</td>\n",
       "      <td>[[0, 74], [152, 157], [252, 305], [305, 323], ...</td>\n",
       "      <td>[[0, 74], [160, 225], [254, 257], [257, 279], ...</td>\n",
       "      <td>20240320_142408_alone_comp_subj_3-1_and_3-3.1....</td>\n",
       "      <td>NaN</td>\n",
       "      <td>/scratch/back_up/reward_competition_extention/...</td>\n",
       "      <td>20240320_142408_alone_comp_subj_3-3_t5b5_merged</td>\n",
       "      <td>3.3</td>\n",
       "      <td>...</td>\n",
       "      <td>[0.8827801, 0.8987765, 0.9303894, nan, nan, 0....</td>\n",
       "      <td>[0.54208976, 0.7324878, 0.70628226, nan, nan, ...</td>\n",
       "      <td>[0.7073132, 0.8735628, 0.86064696, nan, nan, 0...</td>\n",
       "      <td>[0.6243902, 0.6751488, 0.72943676, nan, nan, 0...</td>\n",
       "      <td>[0.8822864, 0.93042713, 0.94797623, nan, nan, ...</td>\n",
       "      <td>[0.59913385, 0.74510723, 0.76855767, nan, nan,...</td>\n",
       "      <td>[0.6591146, 0.8446648, 0.8442039, nan, nan, 0....</td>\n",
       "      <td>[0.49413526, 0.67826587, 0.7268031, nan, nan, ...</td>\n",
       "      <td>[0.7519526, 0.7967754, 0.85469705, nan, nan, 0...</td>\n",
       "      <td>[0.4529712, 0.59342456, 0.6972208, nan, nan, 0...</td>\n",
       "    </tr>\n",
       "    <tr>\n",
       "      <th>3</th>\n",
       "      <td>rce_pilot_3</td>\n",
       "      <td>20240320_142408_alone_comp_subj_3-1_and_3-3</td>\n",
       "      <td>[[0, 75], [1273, 1472], [3269, 3470], [4467, 4...</td>\n",
       "      <td>[[0, 75], [153, 158], [252, 306], [306, 324], ...</td>\n",
       "      <td>[[0, 75], [161, 226], [255, 258], [258, 280], ...</td>\n",
       "      <td>20240320_142408_alone_comp_subj_3-1_and_3-3.2....</td>\n",
       "      <td>NaN</td>\n",
       "      <td>/scratch/back_up/reward_competition_extention/...</td>\n",
       "      <td>20240320_142408_alone_comp_subj_3-3_t5b5_merged</td>\n",
       "      <td>3.3</td>\n",
       "      <td>...</td>\n",
       "      <td>[0.8827801, 0.8987765, 0.9303894, nan, nan, 0....</td>\n",
       "      <td>[0.54208976, 0.7324878, 0.70628226, nan, nan, ...</td>\n",
       "      <td>[0.7073132, 0.8735628, 0.86064696, nan, nan, 0...</td>\n",
       "      <td>[0.6243902, 0.6751488, 0.72943676, nan, nan, 0...</td>\n",
       "      <td>[0.8822864, 0.93042713, 0.94797623, nan, nan, ...</td>\n",
       "      <td>[0.59913385, 0.74510723, 0.76855767, nan, nan,...</td>\n",
       "      <td>[0.6591146, 0.8446648, 0.8442039, nan, nan, 0....</td>\n",
       "      <td>[0.49413526, 0.67826587, 0.7268031, nan, nan, ...</td>\n",
       "      <td>[0.7519526, 0.7967754, 0.85469705, nan, nan, 0...</td>\n",
       "      <td>[0.4529712, 0.59342456, 0.6972208, nan, nan, 0...</td>\n",
       "    </tr>\n",
       "    <tr>\n",
       "      <th>4</th>\n",
       "      <td>rce_pilot_3</td>\n",
       "      <td>20240320_171038_alone_comp_subj_4-2_and_4-3</td>\n",
       "      <td>[[0, 79], [1276, 1477], [3272, 3473], [4470, 4...</td>\n",
       "      <td>[[0, 79], [84, 92], [92, 132], [145, 175], [25...</td>\n",
       "      <td>[[0, 79], [79, 186], [188, 191], [191, 268], [...</td>\n",
       "      <td>20240320_171038_alone_comp_subj_4-2_and_4-3.1....</td>\n",
       "      <td>NaN</td>\n",
       "      <td>/scratch/back_up/reward_competition_extention/...</td>\n",
       "      <td>20240320_171038_alone_comp_subj_4-2_t6b6_merged</td>\n",
       "      <td>4.2</td>\n",
       "      <td>...</td>\n",
       "      <td>[nan, 0.7989184, 0.860641, 0.8534249, 0.871897...</td>\n",
       "      <td>[nan, 0.7506801, 0.7418067, 0.7108363, 0.73887...</td>\n",
       "      <td>[0.4032052, nan, nan, 0.37658632, 0.39698827, ...</td>\n",
       "      <td>[0.35637856, nan, nan, 0.33429885, 0.4763161, ...</td>\n",
       "      <td>[nan, 0.5074783, 0.5460096, 0.6233239, 0.74263...</td>\n",
       "      <td>[nan, 0.4333527, 0.5120598, 0.4197158, 0.37561...</td>\n",
       "      <td>[0.41901994, nan, nan, 0.39786017, 0.5241361, ...</td>\n",
       "      <td>[0.45505825, nan, nan, 0.4049686, 0.34086737, ...</td>\n",
       "      <td>[nan, nan, nan, 0.2137862, 0.2234531, 0.204126...</td>\n",
       "      <td>[nan, nan, nan, 0.29020652, 0.32570463, 0.3330...</td>\n",
       "    </tr>\n",
       "  </tbody>\n",
       "</table>\n",
       "<p>5 rows × 105 columns</p>\n",
       "</div>"
      ],
      "text/plain": [
       "        cohort                                  session_dir  \\\n",
       "0  rce_pilot_3  20240320_142408_alone_comp_subj_3-1_and_3-3   \n",
       "1  rce_pilot_3  20240320_142408_alone_comp_subj_3-1_and_3-3   \n",
       "2  rce_pilot_3  20240320_142408_alone_comp_subj_3-1_and_3-3   \n",
       "3  rce_pilot_3  20240320_142408_alone_comp_subj_3-1_and_3-3   \n",
       "4  rce_pilot_3  20240320_171038_alone_comp_subj_4-2_and_4-3   \n",
       "\n",
       "                                         tone_frames  \\\n",
       "0  [[0, 74], [1272, 1471], [3268, 3469], [4466, 4...   \n",
       "1  [[0, 75], [1273, 1472], [3269, 3470], [4467, 4...   \n",
       "2  [[0, 74], [1272, 1471], [3268, 3469], [4466, 4...   \n",
       "3  [[0, 75], [1273, 1472], [3269, 3470], [4467, 4...   \n",
       "4  [[0, 79], [1276, 1477], [3272, 3473], [4470, 4...   \n",
       "\n",
       "                             box_1_port_entry_frames  \\\n",
       "0  [[0, 74], [152, 157], [252, 305], [305, 323], ...   \n",
       "1  [[0, 75], [153, 158], [252, 306], [306, 324], ...   \n",
       "2  [[0, 74], [152, 157], [252, 305], [305, 323], ...   \n",
       "3  [[0, 75], [153, 158], [252, 306], [306, 324], ...   \n",
       "4  [[0, 79], [84, 92], [92, 132], [145, 175], [25...   \n",
       "\n",
       "                             box_2_port_entry_frames  \\\n",
       "0  [[0, 74], [160, 225], [254, 257], [257, 279], ...   \n",
       "1  [[0, 75], [161, 226], [255, 258], [258, 280], ...   \n",
       "2  [[0, 74], [160, 225], [254, 257], [257, 279], ...   \n",
       "3  [[0, 75], [161, 226], [255, 258], [258, 280], ...   \n",
       "4  [[0, 79], [79, 186], [188, 191], [191, 268], [...   \n",
       "\n",
       "                                          video_name notes  \\\n",
       "0  20240320_142408_alone_comp_subj_3-1_and_3-3.1....   NaN   \n",
       "1  20240320_142408_alone_comp_subj_3-1_and_3-3.2....   NaN   \n",
       "2  20240320_142408_alone_comp_subj_3-1_and_3-3.1....   NaN   \n",
       "3  20240320_142408_alone_comp_subj_3-1_and_3-3.2....   NaN   \n",
       "4  20240320_171038_alone_comp_subj_4-2_and_4-3.1....   NaN   \n",
       "\n",
       "                                        session_path  \\\n",
       "0  /scratch/back_up/reward_competition_extention/...   \n",
       "1  /scratch/back_up/reward_competition_extention/...   \n",
       "2  /scratch/back_up/reward_competition_extention/...   \n",
       "3  /scratch/back_up/reward_competition_extention/...   \n",
       "4  /scratch/back_up/reward_competition_extention/...   \n",
       "\n",
       "                                         recording current_subject  ...  \\\n",
       "0  20240320_142408_alone_comp_subj_3-1_t6b6_merged             3.1  ...   \n",
       "1  20240320_142408_alone_comp_subj_3-1_t6b6_merged             3.1  ...   \n",
       "2  20240320_142408_alone_comp_subj_3-3_t5b5_merged             3.3  ...   \n",
       "3  20240320_142408_alone_comp_subj_3-3_t5b5_merged             3.3  ...   \n",
       "4  20240320_171038_alone_comp_subj_4-2_t6b6_merged             4.2  ...   \n",
       "\n",
       "                             LH_mPFC_coherence_theta  \\\n",
       "0  [nan, nan, 0.66578615, 0.71455723, 0.70779204,...   \n",
       "1  [nan, nan, 0.66578615, 0.71455723, 0.70779204,...   \n",
       "2  [0.8827801, 0.8987765, 0.9303894, nan, nan, 0....   \n",
       "3  [0.8827801, 0.8987765, 0.9303894, nan, nan, 0....   \n",
       "4  [nan, 0.7989184, 0.860641, 0.8534249, 0.871897...   \n",
       "\n",
       "                             LH_mPFC_coherence_gamma  \\\n",
       "0  [nan, nan, 0.42835087, 0.5590993, 0.43337494, ...   \n",
       "1  [nan, nan, 0.42835087, 0.5590993, 0.43337494, ...   \n",
       "2  [0.54208976, 0.7324878, 0.70628226, nan, nan, ...   \n",
       "3  [0.54208976, 0.7324878, 0.70628226, nan, nan, ...   \n",
       "4  [nan, 0.7506801, 0.7418067, 0.7108363, 0.73887...   \n",
       "\n",
       "                             LH_vHPC_coherence_theta  \\\n",
       "0  [nan, nan, 0.4717538, 0.4339342, 0.5687888, 0....   \n",
       "1  [nan, nan, 0.4717538, 0.4339342, 0.5687888, 0....   \n",
       "2  [0.7073132, 0.8735628, 0.86064696, nan, nan, 0...   \n",
       "3  [0.7073132, 0.8735628, 0.86064696, nan, nan, 0...   \n",
       "4  [0.4032052, nan, nan, 0.37658632, 0.39698827, ...   \n",
       "\n",
       "                             LH_vHPC_coherence_gamma  \\\n",
       "0  [nan, nan, 0.45298973, 0.22820581, 0.3585577, ...   \n",
       "1  [nan, nan, 0.45298973, 0.22820581, 0.3585577, ...   \n",
       "2  [0.6243902, 0.6751488, 0.72943676, nan, nan, 0...   \n",
       "3  [0.6243902, 0.6751488, 0.72943676, nan, nan, 0...   \n",
       "4  [0.35637856, nan, nan, 0.33429885, 0.4763161, ...   \n",
       "\n",
       "                             MD_mPFC_coherence_theta  \\\n",
       "0  [0.53791547, 0.7005945, 0.58507025, 0.5095136,...   \n",
       "1  [0.53791547, 0.7005945, 0.58507025, 0.5095136,...   \n",
       "2  [0.8822864, 0.93042713, 0.94797623, nan, nan, ...   \n",
       "3  [0.8822864, 0.93042713, 0.94797623, nan, nan, ...   \n",
       "4  [nan, 0.5074783, 0.5460096, 0.6233239, 0.74263...   \n",
       "\n",
       "                             MD_mPFC_coherence_gamma  \\\n",
       "0  [0.43646446, 0.49723727, 0.4331182, 0.53396994...   \n",
       "1  [0.43646446, 0.49723727, 0.4331182, 0.53396994...   \n",
       "2  [0.59913385, 0.74510723, 0.76855767, nan, nan,...   \n",
       "3  [0.59913385, 0.74510723, 0.76855767, nan, nan,...   \n",
       "4  [nan, 0.4333527, 0.5120598, 0.4197158, 0.37561...   \n",
       "\n",
       "                             MD_vHPC_coherence_theta  \\\n",
       "0  [nan, 0.6052197, 0.4935742, 0.6154693, nan, na...   \n",
       "1  [nan, 0.6052197, 0.4935742, 0.6154693, nan, na...   \n",
       "2  [0.6591146, 0.8446648, 0.8442039, nan, nan, 0....   \n",
       "3  [0.6591146, 0.8446648, 0.8442039, nan, nan, 0....   \n",
       "4  [0.41901994, nan, nan, 0.39786017, 0.5241361, ...   \n",
       "\n",
       "                             MD_vHPC_coherence_gamma  \\\n",
       "0  [nan, 0.28264648, 0.47072393, 0.35121575, nan,...   \n",
       "1  [nan, 0.28264648, 0.47072393, 0.35121575, nan,...   \n",
       "2  [0.49413526, 0.67826587, 0.7268031, nan, nan, ...   \n",
       "3  [0.49413526, 0.67826587, 0.7268031, nan, nan, ...   \n",
       "4  [0.45505825, nan, nan, 0.4049686, 0.34086737, ...   \n",
       "\n",
       "                           mPFC_vHPC_coherence_theta  \\\n",
       "0  [nan, 0.69276094, 0.67357486, 0.33313167, 0.53...   \n",
       "1  [nan, 0.69276094, 0.67357486, 0.33313167, 0.53...   \n",
       "2  [0.7519526, 0.7967754, 0.85469705, nan, nan, 0...   \n",
       "3  [0.7519526, 0.7967754, 0.85469705, nan, nan, 0...   \n",
       "4  [nan, nan, nan, 0.2137862, 0.2234531, 0.204126...   \n",
       "\n",
       "                           mPFC_vHPC_coherence_gamma  \n",
       "0  [nan, 0.24414322, 0.34572023, 0.3490095, 0.245...  \n",
       "1  [nan, 0.24414322, 0.34572023, 0.3490095, 0.245...  \n",
       "2  [0.4529712, 0.59342456, 0.6972208, nan, nan, 0...  \n",
       "3  [0.4529712, 0.59342456, 0.6972208, nan, nan, 0...  \n",
       "4  [nan, nan, nan, 0.29020652, 0.32570463, 0.3330...  \n",
       "\n",
       "[5 rows x 105 columns]"
      ]
     },
     "execution_count": 37,
     "metadata": {},
     "output_type": "execute_result"
    }
   ],
   "source": [
    "LFP_SPECTRAL_DF.head()"
   ]
  },
  {
   "cell_type": "code",
   "execution_count": 38,
   "metadata": {
    "tags": []
   },
   "outputs": [
    {
     "name": "stdout",
     "output_type": "stream",
     "text": [
      "cohort\n",
      "session_dir\n",
      "tone_frames\n",
      "box_1_port_entry_frames\n",
      "box_2_port_entry_frames\n",
      "video_name\n",
      "notes\n",
      "session_path\n",
      "recording\n",
      "current_subject\n",
      "subject\n",
      "all_subjects\n",
      "first_timestamp\n",
      "last_timestamp\n",
      "video_timestamps\n",
      "tone_timestamps\n",
      "box_1_port_entry_timestamps\n",
      "box_2_port_entry_timestamps\n",
      "lfp_timestamps\n",
      "vHPC_lfp_trace\n",
      "BLA_lfp_trace\n",
      "LH_lfp_trace\n",
      "MD_lfp_trace\n",
      "mPFC_lfp_trace\n",
      "vHPC_theta_band\n",
      "BLA_theta_band\n",
      "LH_theta_band\n",
      "MD_theta_band\n",
      "mPFC_theta_band\n",
      "vHPC_gamma_band\n",
      "BLA_gamma_band\n",
      "LH_gamma_band\n",
      "MD_gamma_band\n",
      "mPFC_gamma_band\n",
      "vHPC_theta_phase\n",
      "BLA_theta_phase\n",
      "LH_theta_phase\n",
      "MD_theta_phase\n",
      "mPFC_theta_phase\n",
      "vHPC_gamma_phase\n",
      "BLA_gamma_phase\n",
      "LH_gamma_phase\n",
      "MD_gamma_phase\n",
      "mPFC_gamma_phase\n",
      "vHPC_power_all_frequencies_all_windows\n",
      "BLA_power_all_frequencies_all_windows\n",
      "LH_power_all_frequencies_all_windows\n",
      "MD_power_all_frequencies_all_windows\n",
      "mPFC_power_all_frequencies_all_windows\n",
      "power_timestamps\n",
      "power_calculation_frequencies\n",
      "BLA_LH_coherence_all_frequencies_all_windows\n",
      "BLA_MD_coherence_all_frequencies_all_windows\n",
      "BLA_mPFC_coherence_all_frequencies_all_windows\n",
      "BLA_vHPC_coherence_all_frequencies_all_windows\n",
      "LH_MD_coherence_all_frequencies_all_windows\n",
      "LH_mPFC_coherence_all_frequencies_all_windows\n",
      "LH_vHPC_coherence_all_frequencies_all_windows\n",
      "MD_mPFC_coherence_all_frequencies_all_windows\n",
      "MD_vHPC_coherence_all_frequencies_all_windows\n",
      "mPFC_vHPC_coherence_all_frequencies_all_windows\n",
      "coherence_timestamps\n",
      "coherence_calculation_frequencies\n",
      "BLA_LH_granger_all_frequencies_all_windows\n",
      "LH_BLA_granger_all_frequencies_all_windows\n",
      "BLA_MD_granger_all_frequencies_all_windows\n",
      "MD_BLA_granger_all_frequencies_all_windows\n",
      "BLA_mPFC_granger_all_frequencies_all_windows\n",
      "mPFC_BLA_granger_all_frequencies_all_windows\n",
      "BLA_vHPC_granger_all_frequencies_all_windows\n",
      "vHPC_BLA_granger_all_frequencies_all_windows\n",
      "LH_MD_granger_all_frequencies_all_windows\n",
      "MD_LH_granger_all_frequencies_all_windows\n",
      "LH_mPFC_granger_all_frequencies_all_windows\n",
      "mPFC_LH_granger_all_frequencies_all_windows\n",
      "LH_vHPC_granger_all_frequencies_all_windows\n",
      "vHPC_LH_granger_all_frequencies_all_windows\n",
      "MD_mPFC_granger_all_frequencies_all_windows\n",
      "mPFC_MD_granger_all_frequencies_all_windows\n",
      "MD_vHPC_granger_all_frequencies_all_windows\n",
      "vHPC_MD_granger_all_frequencies_all_windows\n",
      "mPFC_vHPC_granger_all_frequencies_all_windows\n",
      "vHPC_mPFC_granger_all_frequencies_all_windows\n",
      "granger_timestamps\n",
      "granger_calculation_frequencies\n",
      "BLA_LH_coherence_theta\n",
      "BLA_LH_coherence_gamma\n",
      "BLA_MD_coherence_theta\n",
      "BLA_MD_coherence_gamma\n",
      "BLA_mPFC_coherence_theta\n",
      "BLA_mPFC_coherence_gamma\n",
      "BLA_vHPC_coherence_theta\n",
      "BLA_vHPC_coherence_gamma\n",
      "LH_MD_coherence_theta\n",
      "LH_MD_coherence_gamma\n",
      "LH_mPFC_coherence_theta\n",
      "LH_mPFC_coherence_gamma\n",
      "LH_vHPC_coherence_theta\n",
      "LH_vHPC_coherence_gamma\n",
      "MD_mPFC_coherence_theta\n",
      "MD_mPFC_coherence_gamma\n",
      "MD_vHPC_coherence_theta\n",
      "MD_vHPC_coherence_gamma\n",
      "mPFC_vHPC_coherence_theta\n",
      "mPFC_vHPC_coherence_gamma\n"
     ]
    }
   ],
   "source": [
    "for col in LFP_SPECTRAL_DF.columns:\n",
    "    print(col)"
   ]
  },
  {
   "cell_type": "markdown",
   "metadata": {},
   "source": [
    "- Filtering theta/gamma for granger"
   ]
  },
  {
   "cell_type": "code",
   "execution_count": 39,
   "metadata": {
    "tags": []
   },
   "outputs": [],
   "source": [
    "granger_columns = [col for col in LFP_SPECTRAL_DF.columns if \"granger\" in col and \"calculation\" not in col and \"time\" not in col]"
   ]
  },
  {
   "cell_type": "code",
   "execution_count": 40,
   "metadata": {
    "tags": []
   },
   "outputs": [
    {
     "data": {
      "text/plain": [
       "['BLA_LH_granger_all_frequencies_all_windows',\n",
       " 'LH_BLA_granger_all_frequencies_all_windows',\n",
       " 'BLA_MD_granger_all_frequencies_all_windows',\n",
       " 'MD_BLA_granger_all_frequencies_all_windows',\n",
       " 'BLA_mPFC_granger_all_frequencies_all_windows',\n",
       " 'mPFC_BLA_granger_all_frequencies_all_windows',\n",
       " 'BLA_vHPC_granger_all_frequencies_all_windows',\n",
       " 'vHPC_BLA_granger_all_frequencies_all_windows',\n",
       " 'LH_MD_granger_all_frequencies_all_windows',\n",
       " 'MD_LH_granger_all_frequencies_all_windows',\n",
       " 'LH_mPFC_granger_all_frequencies_all_windows',\n",
       " 'mPFC_LH_granger_all_frequencies_all_windows',\n",
       " 'LH_vHPC_granger_all_frequencies_all_windows',\n",
       " 'vHPC_LH_granger_all_frequencies_all_windows',\n",
       " 'MD_mPFC_granger_all_frequencies_all_windows',\n",
       " 'mPFC_MD_granger_all_frequencies_all_windows',\n",
       " 'MD_vHPC_granger_all_frequencies_all_windows',\n",
       " 'vHPC_MD_granger_all_frequencies_all_windows',\n",
       " 'mPFC_vHPC_granger_all_frequencies_all_windows',\n",
       " 'vHPC_mPFC_granger_all_frequencies_all_windows']"
      ]
     },
     "execution_count": 40,
     "metadata": {},
     "output_type": "execute_result"
    }
   ],
   "source": [
    "granger_columns"
   ]
  },
  {
   "cell_type": "code",
   "execution_count": 41,
   "metadata": {
    "tags": []
   },
   "outputs": [
    {
     "name": "stdout",
     "output_type": "stream",
     "text": [
      "BLA-to-LH\n",
      "LH-to-BLA\n",
      "BLA-to-MD\n",
      "MD-to-BLA\n",
      "BLA-to-mPFC\n",
      "mPFC-to-BLA\n",
      "BLA-to-vHPC\n",
      "vHPC-to-BLA\n",
      "LH-to-MD\n",
      "MD-to-LH\n",
      "LH-to-mPFC\n",
      "mPFC-to-LH\n",
      "LH-to-vHPC\n",
      "vHPC-to-LH\n",
      "MD-to-mPFC\n",
      "mPFC-to-MD\n",
      "MD-to-vHPC\n",
      "vHPC-to-MD\n",
      "mPFC-to-vHPC\n",
      "vHPC-to-mPFC\n"
     ]
    }
   ],
   "source": [
    "for col in granger_columns:\n",
    "    brain_region_name = \"-to-\".join(col.split(\"_\")[:2])\n",
    "    print(brain_region_name)\n",
    "    theta_granger_col = \"{}_granger_theta\".format(brain_region_name)\n",
    "    gamma_granger_col = \"{}_granger_gamma\".format(brain_region_name)\n",
    "    LFP_SPECTRAL_DF[\"{}\".format(theta_granger_col)] = LFP_SPECTRAL_DF.apply(lambda x: np.nanmean(x[col][:, (x[\"granger_calculation_frequencies\"] >= theta_band[0]) & (x[\"granger_calculation_frequencies\"] <= theta_band[1])], axis=1), axis=1)\n",
    "    LFP_SPECTRAL_DF[\"{}\".format(gamma_granger_col)] = LFP_SPECTRAL_DF.apply(lambda x: np.nanmean(x[col][:, (x[\"granger_calculation_frequencies\"] >= gamma_band[0]) & (x[\"granger_calculation_frequencies\"] <= gamma_band[1])], axis=1), axis=1)"
   ]
  },
  {
   "cell_type": "code",
   "execution_count": 42,
   "metadata": {
    "tags": []
   },
   "outputs": [
    {
     "data": {
      "text/html": [
       "<div>\n",
       "<style scoped>\n",
       "    .dataframe tbody tr th:only-of-type {\n",
       "        vertical-align: middle;\n",
       "    }\n",
       "\n",
       "    .dataframe tbody tr th {\n",
       "        vertical-align: top;\n",
       "    }\n",
       "\n",
       "    .dataframe thead th {\n",
       "        text-align: right;\n",
       "    }\n",
       "</style>\n",
       "<table border=\"1\" class=\"dataframe\">\n",
       "  <thead>\n",
       "    <tr style=\"text-align: right;\">\n",
       "      <th></th>\n",
       "      <th>cohort</th>\n",
       "      <th>session_dir</th>\n",
       "      <th>tone_frames</th>\n",
       "      <th>box_1_port_entry_frames</th>\n",
       "      <th>box_2_port_entry_frames</th>\n",
       "      <th>video_name</th>\n",
       "      <th>notes</th>\n",
       "      <th>session_path</th>\n",
       "      <th>recording</th>\n",
       "      <th>current_subject</th>\n",
       "      <th>...</th>\n",
       "      <th>mPFC-to-MD_granger_theta</th>\n",
       "      <th>mPFC-to-MD_granger_gamma</th>\n",
       "      <th>MD-to-vHPC_granger_theta</th>\n",
       "      <th>MD-to-vHPC_granger_gamma</th>\n",
       "      <th>vHPC-to-MD_granger_theta</th>\n",
       "      <th>vHPC-to-MD_granger_gamma</th>\n",
       "      <th>mPFC-to-vHPC_granger_theta</th>\n",
       "      <th>mPFC-to-vHPC_granger_gamma</th>\n",
       "      <th>vHPC-to-mPFC_granger_theta</th>\n",
       "      <th>vHPC-to-mPFC_granger_gamma</th>\n",
       "    </tr>\n",
       "  </thead>\n",
       "  <tbody>\n",
       "    <tr>\n",
       "      <th>0</th>\n",
       "      <td>rce_pilot_3</td>\n",
       "      <td>20240320_142408_alone_comp_subj_3-1_and_3-3</td>\n",
       "      <td>[[0, 74], [1272, 1471], [3268, 3469], [4466, 4...</td>\n",
       "      <td>[[0, 74], [152, 157], [252, 305], [305, 323], ...</td>\n",
       "      <td>[[0, 74], [160, 225], [254, 257], [257, 279], ...</td>\n",
       "      <td>20240320_142408_alone_comp_subj_3-1_and_3-3.1....</td>\n",
       "      <td>NaN</td>\n",
       "      <td>/scratch/back_up/reward_competition_extention/...</td>\n",
       "      <td>20240320_142408_alone_comp_subj_3-1_t6b6_merged</td>\n",
       "      <td>3.1</td>\n",
       "      <td>...</td>\n",
       "      <td>[1.025482, 0.41221225, 0.32672292, 0.1874097, ...</td>\n",
       "      <td>[0.60007405, 0.2822732, 0.29430756, 0.40580773...</td>\n",
       "      <td>[nan, 0.491483, 0.44139874, 0.53886676, nan, n...</td>\n",
       "      <td>[nan, 0.2496434, 0.21510589, 0.42774624, nan, ...</td>\n",
       "      <td>[nan, 1.2430829, 1.0742137, 0.7353348, nan, na...</td>\n",
       "      <td>[nan, 0.4479247, 0.54432523, 0.28272176, nan, ...</td>\n",
       "      <td>[nan, 0.9007437, 0.685132, 0.19129051, 0.80936...</td>\n",
       "      <td>[nan, 0.20879993, 0.26942345, 0.47420612, 0.16...</td>\n",
       "      <td>[nan, 0.4939099, 0.8372965, 0.64537555, 0.5764...</td>\n",
       "      <td>[nan, 0.50144595, 0.30817866, 0.14948007, 0.18...</td>\n",
       "    </tr>\n",
       "    <tr>\n",
       "      <th>1</th>\n",
       "      <td>rce_pilot_3</td>\n",
       "      <td>20240320_142408_alone_comp_subj_3-1_and_3-3</td>\n",
       "      <td>[[0, 75], [1273, 1472], [3269, 3470], [4467, 4...</td>\n",
       "      <td>[[0, 75], [153, 158], [252, 306], [306, 324], ...</td>\n",
       "      <td>[[0, 75], [161, 226], [255, 258], [258, 280], ...</td>\n",
       "      <td>20240320_142408_alone_comp_subj_3-1_and_3-3.2....</td>\n",
       "      <td>NaN</td>\n",
       "      <td>/scratch/back_up/reward_competition_extention/...</td>\n",
       "      <td>20240320_142408_alone_comp_subj_3-1_t6b6_merged</td>\n",
       "      <td>3.1</td>\n",
       "      <td>...</td>\n",
       "      <td>[1.025482, 0.41221225, 0.32672292, 0.1874097, ...</td>\n",
       "      <td>[0.60007405, 0.2822732, 0.29430756, 0.40580773...</td>\n",
       "      <td>[nan, 0.491483, 0.44139874, 0.53886676, nan, n...</td>\n",
       "      <td>[nan, 0.2496434, 0.21510589, 0.42774624, nan, ...</td>\n",
       "      <td>[nan, 1.2430829, 1.0742137, 0.7353348, nan, na...</td>\n",
       "      <td>[nan, 0.4479247, 0.54432523, 0.28272176, nan, ...</td>\n",
       "      <td>[nan, 0.9007437, 0.685132, 0.19129051, 0.80936...</td>\n",
       "      <td>[nan, 0.20879993, 0.26942345, 0.47420612, 0.16...</td>\n",
       "      <td>[nan, 0.4939099, 0.8372965, 0.64537555, 0.5764...</td>\n",
       "      <td>[nan, 0.50144595, 0.30817866, 0.14948007, 0.18...</td>\n",
       "    </tr>\n",
       "    <tr>\n",
       "      <th>2</th>\n",
       "      <td>rce_pilot_3</td>\n",
       "      <td>20240320_142408_alone_comp_subj_3-1_and_3-3</td>\n",
       "      <td>[[0, 74], [1272, 1471], [3268, 3469], [4466, 4...</td>\n",
       "      <td>[[0, 74], [152, 157], [252, 305], [305, 323], ...</td>\n",
       "      <td>[[0, 74], [160, 225], [254, 257], [257, 279], ...</td>\n",
       "      <td>20240320_142408_alone_comp_subj_3-1_and_3-3.1....</td>\n",
       "      <td>NaN</td>\n",
       "      <td>/scratch/back_up/reward_competition_extention/...</td>\n",
       "      <td>20240320_142408_alone_comp_subj_3-3_t5b5_merged</td>\n",
       "      <td>3.3</td>\n",
       "      <td>...</td>\n",
       "      <td>[0.09776501, 0.40236086, 0.28928506, nan, nan,...</td>\n",
       "      <td>[0.27274314, 0.2917483, 0.20819838, nan, nan, ...</td>\n",
       "      <td>[0.35391855, 0.5397556, 0.4918575, nan, nan, 0...</td>\n",
       "      <td>[0.3308991, 0.24682036, 0.23084931, nan, nan, ...</td>\n",
       "      <td>[0.1520014, 0.108759224, 0.18117219, nan, nan,...</td>\n",
       "      <td>[0.1207855, 0.28944397, 0.20289902, nan, nan, ...</td>\n",
       "      <td>[0.6886265, 1.288887, 0.5724063, nan, nan, 0.5...</td>\n",
       "      <td>[0.26781583, 0.17785063, 0.42926326, nan, nan,...</td>\n",
       "      <td>[0.23952945, 0.1226715, 0.2661613, nan, nan, 0...</td>\n",
       "      <td>[0.2798054, 0.47546524, 0.33869317, nan, nan, ...</td>\n",
       "    </tr>\n",
       "    <tr>\n",
       "      <th>3</th>\n",
       "      <td>rce_pilot_3</td>\n",
       "      <td>20240320_142408_alone_comp_subj_3-1_and_3-3</td>\n",
       "      <td>[[0, 75], [1273, 1472], [3269, 3470], [4467, 4...</td>\n",
       "      <td>[[0, 75], [153, 158], [252, 306], [306, 324], ...</td>\n",
       "      <td>[[0, 75], [161, 226], [255, 258], [258, 280], ...</td>\n",
       "      <td>20240320_142408_alone_comp_subj_3-1_and_3-3.2....</td>\n",
       "      <td>NaN</td>\n",
       "      <td>/scratch/back_up/reward_competition_extention/...</td>\n",
       "      <td>20240320_142408_alone_comp_subj_3-3_t5b5_merged</td>\n",
       "      <td>3.3</td>\n",
       "      <td>...</td>\n",
       "      <td>[0.09776501, 0.40236086, 0.28928506, nan, nan,...</td>\n",
       "      <td>[0.27274314, 0.2917483, 0.20819838, nan, nan, ...</td>\n",
       "      <td>[0.35391855, 0.5397556, 0.4918575, nan, nan, 0...</td>\n",
       "      <td>[0.3308991, 0.24682036, 0.23084931, nan, nan, ...</td>\n",
       "      <td>[0.1520014, 0.108759224, 0.18117219, nan, nan,...</td>\n",
       "      <td>[0.1207855, 0.28944397, 0.20289902, nan, nan, ...</td>\n",
       "      <td>[0.6886265, 1.288887, 0.5724063, nan, nan, 0.5...</td>\n",
       "      <td>[0.26781583, 0.17785063, 0.42926326, nan, nan,...</td>\n",
       "      <td>[0.23952945, 0.1226715, 0.2661613, nan, nan, 0...</td>\n",
       "      <td>[0.2798054, 0.47546524, 0.33869317, nan, nan, ...</td>\n",
       "    </tr>\n",
       "    <tr>\n",
       "      <th>4</th>\n",
       "      <td>rce_pilot_3</td>\n",
       "      <td>20240320_171038_alone_comp_subj_4-2_and_4-3</td>\n",
       "      <td>[[0, 79], [1276, 1477], [3272, 3473], [4470, 4...</td>\n",
       "      <td>[[0, 79], [84, 92], [92, 132], [145, 175], [25...</td>\n",
       "      <td>[[0, 79], [79, 186], [188, 191], [191, 268], [...</td>\n",
       "      <td>20240320_171038_alone_comp_subj_4-2_and_4-3.1....</td>\n",
       "      <td>NaN</td>\n",
       "      <td>/scratch/back_up/reward_competition_extention/...</td>\n",
       "      <td>20240320_171038_alone_comp_subj_4-2_t6b6_merged</td>\n",
       "      <td>4.2</td>\n",
       "      <td>...</td>\n",
       "      <td>[nan, 0.12811427, 0.5035731, 0.5652646, 0.3826...</td>\n",
       "      <td>[nan, 0.24538903, 0.38765758, 0.3548329, 0.218...</td>\n",
       "      <td>[0.39338532, nan, nan, 0.5685341, 0.25864053, ...</td>\n",
       "      <td>[0.42956498, nan, nan, 0.37195382, 0.3143023, ...</td>\n",
       "      <td>[0.25846228, nan, nan, 0.30769867, 0.5574851, ...</td>\n",
       "      <td>[0.39412463, nan, nan, 0.28136268, 0.23818675,...</td>\n",
       "      <td>[nan, nan, nan, 0.07190676, 0.14918703, 0.0799...</td>\n",
       "      <td>[nan, nan, nan, 0.25988698, 0.15988645, 0.1256...</td>\n",
       "      <td>[nan, nan, nan, 0.45428902, 0.23746692, 0.3434...</td>\n",
       "      <td>[nan, nan, nan, 0.27734724, 0.15172823, 0.2491...</td>\n",
       "    </tr>\n",
       "  </tbody>\n",
       "</table>\n",
       "<p>5 rows × 145 columns</p>\n",
       "</div>"
      ],
      "text/plain": [
       "        cohort                                  session_dir  \\\n",
       "0  rce_pilot_3  20240320_142408_alone_comp_subj_3-1_and_3-3   \n",
       "1  rce_pilot_3  20240320_142408_alone_comp_subj_3-1_and_3-3   \n",
       "2  rce_pilot_3  20240320_142408_alone_comp_subj_3-1_and_3-3   \n",
       "3  rce_pilot_3  20240320_142408_alone_comp_subj_3-1_and_3-3   \n",
       "4  rce_pilot_3  20240320_171038_alone_comp_subj_4-2_and_4-3   \n",
       "\n",
       "                                         tone_frames  \\\n",
       "0  [[0, 74], [1272, 1471], [3268, 3469], [4466, 4...   \n",
       "1  [[0, 75], [1273, 1472], [3269, 3470], [4467, 4...   \n",
       "2  [[0, 74], [1272, 1471], [3268, 3469], [4466, 4...   \n",
       "3  [[0, 75], [1273, 1472], [3269, 3470], [4467, 4...   \n",
       "4  [[0, 79], [1276, 1477], [3272, 3473], [4470, 4...   \n",
       "\n",
       "                             box_1_port_entry_frames  \\\n",
       "0  [[0, 74], [152, 157], [252, 305], [305, 323], ...   \n",
       "1  [[0, 75], [153, 158], [252, 306], [306, 324], ...   \n",
       "2  [[0, 74], [152, 157], [252, 305], [305, 323], ...   \n",
       "3  [[0, 75], [153, 158], [252, 306], [306, 324], ...   \n",
       "4  [[0, 79], [84, 92], [92, 132], [145, 175], [25...   \n",
       "\n",
       "                             box_2_port_entry_frames  \\\n",
       "0  [[0, 74], [160, 225], [254, 257], [257, 279], ...   \n",
       "1  [[0, 75], [161, 226], [255, 258], [258, 280], ...   \n",
       "2  [[0, 74], [160, 225], [254, 257], [257, 279], ...   \n",
       "3  [[0, 75], [161, 226], [255, 258], [258, 280], ...   \n",
       "4  [[0, 79], [79, 186], [188, 191], [191, 268], [...   \n",
       "\n",
       "                                          video_name notes  \\\n",
       "0  20240320_142408_alone_comp_subj_3-1_and_3-3.1....   NaN   \n",
       "1  20240320_142408_alone_comp_subj_3-1_and_3-3.2....   NaN   \n",
       "2  20240320_142408_alone_comp_subj_3-1_and_3-3.1....   NaN   \n",
       "3  20240320_142408_alone_comp_subj_3-1_and_3-3.2....   NaN   \n",
       "4  20240320_171038_alone_comp_subj_4-2_and_4-3.1....   NaN   \n",
       "\n",
       "                                        session_path  \\\n",
       "0  /scratch/back_up/reward_competition_extention/...   \n",
       "1  /scratch/back_up/reward_competition_extention/...   \n",
       "2  /scratch/back_up/reward_competition_extention/...   \n",
       "3  /scratch/back_up/reward_competition_extention/...   \n",
       "4  /scratch/back_up/reward_competition_extention/...   \n",
       "\n",
       "                                         recording current_subject  ...  \\\n",
       "0  20240320_142408_alone_comp_subj_3-1_t6b6_merged             3.1  ...   \n",
       "1  20240320_142408_alone_comp_subj_3-1_t6b6_merged             3.1  ...   \n",
       "2  20240320_142408_alone_comp_subj_3-3_t5b5_merged             3.3  ...   \n",
       "3  20240320_142408_alone_comp_subj_3-3_t5b5_merged             3.3  ...   \n",
       "4  20240320_171038_alone_comp_subj_4-2_t6b6_merged             4.2  ...   \n",
       "\n",
       "                            mPFC-to-MD_granger_theta  \\\n",
       "0  [1.025482, 0.41221225, 0.32672292, 0.1874097, ...   \n",
       "1  [1.025482, 0.41221225, 0.32672292, 0.1874097, ...   \n",
       "2  [0.09776501, 0.40236086, 0.28928506, nan, nan,...   \n",
       "3  [0.09776501, 0.40236086, 0.28928506, nan, nan,...   \n",
       "4  [nan, 0.12811427, 0.5035731, 0.5652646, 0.3826...   \n",
       "\n",
       "                            mPFC-to-MD_granger_gamma  \\\n",
       "0  [0.60007405, 0.2822732, 0.29430756, 0.40580773...   \n",
       "1  [0.60007405, 0.2822732, 0.29430756, 0.40580773...   \n",
       "2  [0.27274314, 0.2917483, 0.20819838, nan, nan, ...   \n",
       "3  [0.27274314, 0.2917483, 0.20819838, nan, nan, ...   \n",
       "4  [nan, 0.24538903, 0.38765758, 0.3548329, 0.218...   \n",
       "\n",
       "                            MD-to-vHPC_granger_theta  \\\n",
       "0  [nan, 0.491483, 0.44139874, 0.53886676, nan, n...   \n",
       "1  [nan, 0.491483, 0.44139874, 0.53886676, nan, n...   \n",
       "2  [0.35391855, 0.5397556, 0.4918575, nan, nan, 0...   \n",
       "3  [0.35391855, 0.5397556, 0.4918575, nan, nan, 0...   \n",
       "4  [0.39338532, nan, nan, 0.5685341, 0.25864053, ...   \n",
       "\n",
       "                            MD-to-vHPC_granger_gamma  \\\n",
       "0  [nan, 0.2496434, 0.21510589, 0.42774624, nan, ...   \n",
       "1  [nan, 0.2496434, 0.21510589, 0.42774624, nan, ...   \n",
       "2  [0.3308991, 0.24682036, 0.23084931, nan, nan, ...   \n",
       "3  [0.3308991, 0.24682036, 0.23084931, nan, nan, ...   \n",
       "4  [0.42956498, nan, nan, 0.37195382, 0.3143023, ...   \n",
       "\n",
       "                            vHPC-to-MD_granger_theta  \\\n",
       "0  [nan, 1.2430829, 1.0742137, 0.7353348, nan, na...   \n",
       "1  [nan, 1.2430829, 1.0742137, 0.7353348, nan, na...   \n",
       "2  [0.1520014, 0.108759224, 0.18117219, nan, nan,...   \n",
       "3  [0.1520014, 0.108759224, 0.18117219, nan, nan,...   \n",
       "4  [0.25846228, nan, nan, 0.30769867, 0.5574851, ...   \n",
       "\n",
       "                            vHPC-to-MD_granger_gamma  \\\n",
       "0  [nan, 0.4479247, 0.54432523, 0.28272176, nan, ...   \n",
       "1  [nan, 0.4479247, 0.54432523, 0.28272176, nan, ...   \n",
       "2  [0.1207855, 0.28944397, 0.20289902, nan, nan, ...   \n",
       "3  [0.1207855, 0.28944397, 0.20289902, nan, nan, ...   \n",
       "4  [0.39412463, nan, nan, 0.28136268, 0.23818675,...   \n",
       "\n",
       "                          mPFC-to-vHPC_granger_theta  \\\n",
       "0  [nan, 0.9007437, 0.685132, 0.19129051, 0.80936...   \n",
       "1  [nan, 0.9007437, 0.685132, 0.19129051, 0.80936...   \n",
       "2  [0.6886265, 1.288887, 0.5724063, nan, nan, 0.5...   \n",
       "3  [0.6886265, 1.288887, 0.5724063, nan, nan, 0.5...   \n",
       "4  [nan, nan, nan, 0.07190676, 0.14918703, 0.0799...   \n",
       "\n",
       "                          mPFC-to-vHPC_granger_gamma  \\\n",
       "0  [nan, 0.20879993, 0.26942345, 0.47420612, 0.16...   \n",
       "1  [nan, 0.20879993, 0.26942345, 0.47420612, 0.16...   \n",
       "2  [0.26781583, 0.17785063, 0.42926326, nan, nan,...   \n",
       "3  [0.26781583, 0.17785063, 0.42926326, nan, nan,...   \n",
       "4  [nan, nan, nan, 0.25988698, 0.15988645, 0.1256...   \n",
       "\n",
       "                          vHPC-to-mPFC_granger_theta  \\\n",
       "0  [nan, 0.4939099, 0.8372965, 0.64537555, 0.5764...   \n",
       "1  [nan, 0.4939099, 0.8372965, 0.64537555, 0.5764...   \n",
       "2  [0.23952945, 0.1226715, 0.2661613, nan, nan, 0...   \n",
       "3  [0.23952945, 0.1226715, 0.2661613, nan, nan, 0...   \n",
       "4  [nan, nan, nan, 0.45428902, 0.23746692, 0.3434...   \n",
       "\n",
       "                          vHPC-to-mPFC_granger_gamma  \n",
       "0  [nan, 0.50144595, 0.30817866, 0.14948007, 0.18...  \n",
       "1  [nan, 0.50144595, 0.30817866, 0.14948007, 0.18...  \n",
       "2  [0.2798054, 0.47546524, 0.33869317, nan, nan, ...  \n",
       "3  [0.2798054, 0.47546524, 0.33869317, nan, nan, ...  \n",
       "4  [nan, nan, nan, 0.27734724, 0.15172823, 0.2491...  \n",
       "\n",
       "[5 rows x 145 columns]"
      ]
     },
     "execution_count": 42,
     "metadata": {},
     "output_type": "execute_result"
    }
   ],
   "source": [
    "LFP_SPECTRAL_DF.head()"
   ]
  },
  {
   "cell_type": "markdown",
   "metadata": {},
   "source": [
    "- Filtering theta/gamma for power"
   ]
  },
  {
   "cell_type": "code",
   "execution_count": 43,
   "metadata": {
    "tags": []
   },
   "outputs": [],
   "source": [
    "power_columns = [col for col in LFP_SPECTRAL_DF.columns if \"power\" in col and \"calculation\" not in col and \"time\" not in col]"
   ]
  },
  {
   "cell_type": "code",
   "execution_count": 44,
   "metadata": {
    "tags": []
   },
   "outputs": [
    {
     "data": {
      "text/plain": [
       "['vHPC_power_all_frequencies_all_windows',\n",
       " 'BLA_power_all_frequencies_all_windows',\n",
       " 'LH_power_all_frequencies_all_windows',\n",
       " 'MD_power_all_frequencies_all_windows',\n",
       " 'mPFC_power_all_frequencies_all_windows']"
      ]
     },
     "execution_count": 44,
     "metadata": {},
     "output_type": "execute_result"
    }
   ],
   "source": [
    "power_columns"
   ]
  },
  {
   "cell_type": "code",
   "execution_count": 45,
   "metadata": {
    "tags": []
   },
   "outputs": [
    {
     "data": {
      "text/plain": [
       "array([False, False, False, False,  True,  True,  True,  True,  True,\n",
       "        True,  True,  True,  True, False, False, False, False, False,\n",
       "       False, False, False, False, False, False, False, False, False,\n",
       "       False, False, False, False, False, False, False, False, False,\n",
       "       False, False, False, False, False, False, False, False, False,\n",
       "       False, False, False, False, False, False, False, False, False,\n",
       "       False, False])"
      ]
     },
     "execution_count": 45,
     "metadata": {},
     "output_type": "execute_result"
    }
   ],
   "source": [
    "LFP_SPECTRAL_DF[\"power_calculation_frequencies\"].apply(lambda x: (x >= theta_band[0]) & (x <= theta_band[1])).iloc[0]"
   ]
  },
  {
   "cell_type": "code",
   "execution_count": 46,
   "metadata": {
    "tags": []
   },
   "outputs": [
    {
     "name": "stdout",
     "output_type": "stream",
     "text": [
      "vHPC\n",
      "BLA\n",
      "LH\n",
      "MD\n",
      "mPFC\n"
     ]
    }
   ],
   "source": [
    "for col in power_columns:\n",
    "    # brain_region_name = col.split(\"_\")[0]\n",
    "    brain_region_name = col.split(\"power\")[0]\n",
    "    brain_region_name = brain_region_name.strip(\"_\")\n",
    "    print(brain_region_name)\n",
    "    theta_power_col = \"{}_power_theta\".format(brain_region_name)\n",
    "    gamma_power_col = \"{}_power_gamma\".format(brain_region_name)\n",
    "    LFP_SPECTRAL_DF[\"{}\".format(theta_power_col)] = LFP_SPECTRAL_DF.apply(lambda x: np.nanmean(x[col][:, (x[\"power_calculation_frequencies\"] >= theta_band[0]) & (x[\"power_calculation_frequencies\"] <= theta_band[1])], axis=1), axis=1)\n",
    "    LFP_SPECTRAL_DF[\"{}\".format(gamma_power_col)] = LFP_SPECTRAL_DF.apply(lambda x: np.nanmean(x[col][:, (x[\"power_calculation_frequencies\"] >= gamma_band[0]) & (x[\"power_calculation_frequencies\"] <= gamma_band[1])], axis=1), axis=1)"
   ]
  },
  {
   "cell_type": "code",
   "execution_count": 47,
   "metadata": {
    "tags": []
   },
   "outputs": [
    {
     "data": {
      "text/html": [
       "<div>\n",
       "<style scoped>\n",
       "    .dataframe tbody tr th:only-of-type {\n",
       "        vertical-align: middle;\n",
       "    }\n",
       "\n",
       "    .dataframe tbody tr th {\n",
       "        vertical-align: top;\n",
       "    }\n",
       "\n",
       "    .dataframe thead th {\n",
       "        text-align: right;\n",
       "    }\n",
       "</style>\n",
       "<table border=\"1\" class=\"dataframe\">\n",
       "  <thead>\n",
       "    <tr style=\"text-align: right;\">\n",
       "      <th></th>\n",
       "      <th>cohort</th>\n",
       "      <th>session_dir</th>\n",
       "      <th>tone_frames</th>\n",
       "      <th>box_1_port_entry_frames</th>\n",
       "      <th>box_2_port_entry_frames</th>\n",
       "      <th>video_name</th>\n",
       "      <th>notes</th>\n",
       "      <th>session_path</th>\n",
       "      <th>recording</th>\n",
       "      <th>current_subject</th>\n",
       "      <th>...</th>\n",
       "      <th>vHPC_power_theta</th>\n",
       "      <th>vHPC_power_gamma</th>\n",
       "      <th>BLA_power_theta</th>\n",
       "      <th>BLA_power_gamma</th>\n",
       "      <th>LH_power_theta</th>\n",
       "      <th>LH_power_gamma</th>\n",
       "      <th>MD_power_theta</th>\n",
       "      <th>MD_power_gamma</th>\n",
       "      <th>mPFC_power_theta</th>\n",
       "      <th>mPFC_power_gamma</th>\n",
       "    </tr>\n",
       "  </thead>\n",
       "  <tbody>\n",
       "    <tr>\n",
       "      <th>0</th>\n",
       "      <td>rce_pilot_3</td>\n",
       "      <td>20240320_142408_alone_comp_subj_3-1_and_3-3</td>\n",
       "      <td>[[0, 74], [1272, 1471], [3268, 3469], [4466, 4...</td>\n",
       "      <td>[[0, 74], [152, 157], [252, 305], [305, 323], ...</td>\n",
       "      <td>[[0, 74], [160, 225], [254, 257], [257, 279], ...</td>\n",
       "      <td>20240320_142408_alone_comp_subj_3-1_and_3-3.1....</td>\n",
       "      <td>NaN</td>\n",
       "      <td>/scratch/back_up/reward_competition_extention/...</td>\n",
       "      <td>20240320_142408_alone_comp_subj_3-1_t6b6_merged</td>\n",
       "      <td>3.1</td>\n",
       "      <td>...</td>\n",
       "      <td>[nan, 0.07223674, 0.06942491, 0.065466404, 0.0...</td>\n",
       "      <td>[nan, 0.0046885125, 0.0033377786, 0.0018332143...</td>\n",
       "      <td>[0.01945638, nan, nan, nan, 0.019393958, nan, ...</td>\n",
       "      <td>[0.0130572505, nan, nan, nan, 0.007762581, nan...</td>\n",
       "      <td>[nan, nan, 0.03636455, 0.029700823, 0.02418904...</td>\n",
       "      <td>[nan, nan, 0.0018358257, 0.0017288909, 0.00135...</td>\n",
       "      <td>[0.033121496, 0.041370735, 0.055094175, 0.0427...</td>\n",
       "      <td>[0.0017061487, 0.0015902787, 0.0014763202, 0.0...</td>\n",
       "      <td>[0.016354451, 0.025327114, 0.028878175, 0.0222...</td>\n",
       "      <td>[0.00209533, 0.0015905038, 0.0014053435, 0.001...</td>\n",
       "    </tr>\n",
       "    <tr>\n",
       "      <th>1</th>\n",
       "      <td>rce_pilot_3</td>\n",
       "      <td>20240320_142408_alone_comp_subj_3-1_and_3-3</td>\n",
       "      <td>[[0, 75], [1273, 1472], [3269, 3470], [4467, 4...</td>\n",
       "      <td>[[0, 75], [153, 158], [252, 306], [306, 324], ...</td>\n",
       "      <td>[[0, 75], [161, 226], [255, 258], [258, 280], ...</td>\n",
       "      <td>20240320_142408_alone_comp_subj_3-1_and_3-3.2....</td>\n",
       "      <td>NaN</td>\n",
       "      <td>/scratch/back_up/reward_competition_extention/...</td>\n",
       "      <td>20240320_142408_alone_comp_subj_3-1_t6b6_merged</td>\n",
       "      <td>3.1</td>\n",
       "      <td>...</td>\n",
       "      <td>[nan, 0.07223674, 0.06942491, 0.065466404, 0.0...</td>\n",
       "      <td>[nan, 0.0046885125, 0.0033377786, 0.0018332143...</td>\n",
       "      <td>[0.01945638, nan, nan, nan, 0.019393958, nan, ...</td>\n",
       "      <td>[0.0130572505, nan, nan, nan, 0.007762581, nan...</td>\n",
       "      <td>[nan, nan, 0.03636455, 0.029700823, 0.02418904...</td>\n",
       "      <td>[nan, nan, 0.0018358257, 0.0017288909, 0.00135...</td>\n",
       "      <td>[0.033121496, 0.041370735, 0.055094175, 0.0427...</td>\n",
       "      <td>[0.0017061487, 0.0015902787, 0.0014763202, 0.0...</td>\n",
       "      <td>[0.016354451, 0.025327114, 0.028878175, 0.0222...</td>\n",
       "      <td>[0.00209533, 0.0015905038, 0.0014053435, 0.001...</td>\n",
       "    </tr>\n",
       "    <tr>\n",
       "      <th>2</th>\n",
       "      <td>rce_pilot_3</td>\n",
       "      <td>20240320_142408_alone_comp_subj_3-1_and_3-3</td>\n",
       "      <td>[[0, 74], [1272, 1471], [3268, 3469], [4466, 4...</td>\n",
       "      <td>[[0, 74], [152, 157], [252, 305], [305, 323], ...</td>\n",
       "      <td>[[0, 74], [160, 225], [254, 257], [257, 279], ...</td>\n",
       "      <td>20240320_142408_alone_comp_subj_3-1_and_3-3.1....</td>\n",
       "      <td>NaN</td>\n",
       "      <td>/scratch/back_up/reward_competition_extention/...</td>\n",
       "      <td>20240320_142408_alone_comp_subj_3-3_t5b5_merged</td>\n",
       "      <td>3.3</td>\n",
       "      <td>...</td>\n",
       "      <td>[0.0408452, 0.04246293, 0.04184469, nan, nan, ...</td>\n",
       "      <td>[0.0008264334, 0.0009773864, 0.0009832539, nan...</td>\n",
       "      <td>[0.024847934, 0.047361273, 0.042880192, nan, n...</td>\n",
       "      <td>[0.0006459263, 0.00090438855, 0.0010187915, na...</td>\n",
       "      <td>[0.023980794, 0.04565177, 0.03644787, nan, nan...</td>\n",
       "      <td>[0.00055783533, 0.00084574166, 0.0008706296, n...</td>\n",
       "      <td>[0.016893655, 0.027668845, 0.022960208, nan, n...</td>\n",
       "      <td>[0.0006401466, 0.0010481183, 0.0009893934, nan...</td>\n",
       "      <td>[0.021055607, 0.030588005, 0.023756983, nan, n...</td>\n",
       "      <td>[0.0008363458, 0.001157422, 0.0010688329, nan,...</td>\n",
       "    </tr>\n",
       "    <tr>\n",
       "      <th>3</th>\n",
       "      <td>rce_pilot_3</td>\n",
       "      <td>20240320_142408_alone_comp_subj_3-1_and_3-3</td>\n",
       "      <td>[[0, 75], [1273, 1472], [3269, 3470], [4467, 4...</td>\n",
       "      <td>[[0, 75], [153, 158], [252, 306], [306, 324], ...</td>\n",
       "      <td>[[0, 75], [161, 226], [255, 258], [258, 280], ...</td>\n",
       "      <td>20240320_142408_alone_comp_subj_3-1_and_3-3.2....</td>\n",
       "      <td>NaN</td>\n",
       "      <td>/scratch/back_up/reward_competition_extention/...</td>\n",
       "      <td>20240320_142408_alone_comp_subj_3-3_t5b5_merged</td>\n",
       "      <td>3.3</td>\n",
       "      <td>...</td>\n",
       "      <td>[0.0408452, 0.04246293, 0.04184469, nan, nan, ...</td>\n",
       "      <td>[0.0008264334, 0.0009773864, 0.0009832539, nan...</td>\n",
       "      <td>[0.024847934, 0.047361273, 0.042880192, nan, n...</td>\n",
       "      <td>[0.0006459263, 0.00090438855, 0.0010187915, na...</td>\n",
       "      <td>[0.023980794, 0.04565177, 0.03644787, nan, nan...</td>\n",
       "      <td>[0.00055783533, 0.00084574166, 0.0008706296, n...</td>\n",
       "      <td>[0.016893655, 0.027668845, 0.022960208, nan, n...</td>\n",
       "      <td>[0.0006401466, 0.0010481183, 0.0009893934, nan...</td>\n",
       "      <td>[0.021055607, 0.030588005, 0.023756983, nan, n...</td>\n",
       "      <td>[0.0008363458, 0.001157422, 0.0010688329, nan,...</td>\n",
       "    </tr>\n",
       "    <tr>\n",
       "      <th>4</th>\n",
       "      <td>rce_pilot_3</td>\n",
       "      <td>20240320_171038_alone_comp_subj_4-2_and_4-3</td>\n",
       "      <td>[[0, 79], [1276, 1477], [3272, 3473], [4470, 4...</td>\n",
       "      <td>[[0, 79], [84, 92], [92, 132], [145, 175], [25...</td>\n",
       "      <td>[[0, 79], [79, 186], [188, 191], [191, 268], [...</td>\n",
       "      <td>20240320_171038_alone_comp_subj_4-2_and_4-3.1....</td>\n",
       "      <td>NaN</td>\n",
       "      <td>/scratch/back_up/reward_competition_extention/...</td>\n",
       "      <td>20240320_171038_alone_comp_subj_4-2_t6b6_merged</td>\n",
       "      <td>4.2</td>\n",
       "      <td>...</td>\n",
       "      <td>[0.046842232, nan, nan, 0.023685867, 0.0444350...</td>\n",
       "      <td>[0.00366902, nan, nan, 0.002184509, 0.00216185...</td>\n",
       "      <td>[0.03638237, 0.03240743, nan, nan, nan, nan, 0...</td>\n",
       "      <td>[0.0023446064, 0.0023572678, nan, nan, nan, na...</td>\n",
       "      <td>[0.022580775, 0.020614795, 0.025732357, 0.0402...</td>\n",
       "      <td>[0.000938801, 0.0009402243, 0.0009571773, 0.00...</td>\n",
       "      <td>[0.035689075, 0.029545942, 0.038346574, 0.0345...</td>\n",
       "      <td>[0.0006134348, 0.00083359046, 0.00092188915, 0...</td>\n",
       "      <td>[nan, 0.028878195, 0.0361402, 0.056812976, 0.0...</td>\n",
       "      <td>[nan, 0.0015049445, 0.0015290054, 0.0016440556...</td>\n",
       "    </tr>\n",
       "  </tbody>\n",
       "</table>\n",
       "<p>5 rows × 155 columns</p>\n",
       "</div>"
      ],
      "text/plain": [
       "        cohort                                  session_dir  \\\n",
       "0  rce_pilot_3  20240320_142408_alone_comp_subj_3-1_and_3-3   \n",
       "1  rce_pilot_3  20240320_142408_alone_comp_subj_3-1_and_3-3   \n",
       "2  rce_pilot_3  20240320_142408_alone_comp_subj_3-1_and_3-3   \n",
       "3  rce_pilot_3  20240320_142408_alone_comp_subj_3-1_and_3-3   \n",
       "4  rce_pilot_3  20240320_171038_alone_comp_subj_4-2_and_4-3   \n",
       "\n",
       "                                         tone_frames  \\\n",
       "0  [[0, 74], [1272, 1471], [3268, 3469], [4466, 4...   \n",
       "1  [[0, 75], [1273, 1472], [3269, 3470], [4467, 4...   \n",
       "2  [[0, 74], [1272, 1471], [3268, 3469], [4466, 4...   \n",
       "3  [[0, 75], [1273, 1472], [3269, 3470], [4467, 4...   \n",
       "4  [[0, 79], [1276, 1477], [3272, 3473], [4470, 4...   \n",
       "\n",
       "                             box_1_port_entry_frames  \\\n",
       "0  [[0, 74], [152, 157], [252, 305], [305, 323], ...   \n",
       "1  [[0, 75], [153, 158], [252, 306], [306, 324], ...   \n",
       "2  [[0, 74], [152, 157], [252, 305], [305, 323], ...   \n",
       "3  [[0, 75], [153, 158], [252, 306], [306, 324], ...   \n",
       "4  [[0, 79], [84, 92], [92, 132], [145, 175], [25...   \n",
       "\n",
       "                             box_2_port_entry_frames  \\\n",
       "0  [[0, 74], [160, 225], [254, 257], [257, 279], ...   \n",
       "1  [[0, 75], [161, 226], [255, 258], [258, 280], ...   \n",
       "2  [[0, 74], [160, 225], [254, 257], [257, 279], ...   \n",
       "3  [[0, 75], [161, 226], [255, 258], [258, 280], ...   \n",
       "4  [[0, 79], [79, 186], [188, 191], [191, 268], [...   \n",
       "\n",
       "                                          video_name notes  \\\n",
       "0  20240320_142408_alone_comp_subj_3-1_and_3-3.1....   NaN   \n",
       "1  20240320_142408_alone_comp_subj_3-1_and_3-3.2....   NaN   \n",
       "2  20240320_142408_alone_comp_subj_3-1_and_3-3.1....   NaN   \n",
       "3  20240320_142408_alone_comp_subj_3-1_and_3-3.2....   NaN   \n",
       "4  20240320_171038_alone_comp_subj_4-2_and_4-3.1....   NaN   \n",
       "\n",
       "                                        session_path  \\\n",
       "0  /scratch/back_up/reward_competition_extention/...   \n",
       "1  /scratch/back_up/reward_competition_extention/...   \n",
       "2  /scratch/back_up/reward_competition_extention/...   \n",
       "3  /scratch/back_up/reward_competition_extention/...   \n",
       "4  /scratch/back_up/reward_competition_extention/...   \n",
       "\n",
       "                                         recording current_subject  ...  \\\n",
       "0  20240320_142408_alone_comp_subj_3-1_t6b6_merged             3.1  ...   \n",
       "1  20240320_142408_alone_comp_subj_3-1_t6b6_merged             3.1  ...   \n",
       "2  20240320_142408_alone_comp_subj_3-3_t5b5_merged             3.3  ...   \n",
       "3  20240320_142408_alone_comp_subj_3-3_t5b5_merged             3.3  ...   \n",
       "4  20240320_171038_alone_comp_subj_4-2_t6b6_merged             4.2  ...   \n",
       "\n",
       "                                    vHPC_power_theta  \\\n",
       "0  [nan, 0.07223674, 0.06942491, 0.065466404, 0.0...   \n",
       "1  [nan, 0.07223674, 0.06942491, 0.065466404, 0.0...   \n",
       "2  [0.0408452, 0.04246293, 0.04184469, nan, nan, ...   \n",
       "3  [0.0408452, 0.04246293, 0.04184469, nan, nan, ...   \n",
       "4  [0.046842232, nan, nan, 0.023685867, 0.0444350...   \n",
       "\n",
       "                                    vHPC_power_gamma  \\\n",
       "0  [nan, 0.0046885125, 0.0033377786, 0.0018332143...   \n",
       "1  [nan, 0.0046885125, 0.0033377786, 0.0018332143...   \n",
       "2  [0.0008264334, 0.0009773864, 0.0009832539, nan...   \n",
       "3  [0.0008264334, 0.0009773864, 0.0009832539, nan...   \n",
       "4  [0.00366902, nan, nan, 0.002184509, 0.00216185...   \n",
       "\n",
       "                                     BLA_power_theta  \\\n",
       "0  [0.01945638, nan, nan, nan, 0.019393958, nan, ...   \n",
       "1  [0.01945638, nan, nan, nan, 0.019393958, nan, ...   \n",
       "2  [0.024847934, 0.047361273, 0.042880192, nan, n...   \n",
       "3  [0.024847934, 0.047361273, 0.042880192, nan, n...   \n",
       "4  [0.03638237, 0.03240743, nan, nan, nan, nan, 0...   \n",
       "\n",
       "                                     BLA_power_gamma  \\\n",
       "0  [0.0130572505, nan, nan, nan, 0.007762581, nan...   \n",
       "1  [0.0130572505, nan, nan, nan, 0.007762581, nan...   \n",
       "2  [0.0006459263, 0.00090438855, 0.0010187915, na...   \n",
       "3  [0.0006459263, 0.00090438855, 0.0010187915, na...   \n",
       "4  [0.0023446064, 0.0023572678, nan, nan, nan, na...   \n",
       "\n",
       "                                      LH_power_theta  \\\n",
       "0  [nan, nan, 0.03636455, 0.029700823, 0.02418904...   \n",
       "1  [nan, nan, 0.03636455, 0.029700823, 0.02418904...   \n",
       "2  [0.023980794, 0.04565177, 0.03644787, nan, nan...   \n",
       "3  [0.023980794, 0.04565177, 0.03644787, nan, nan...   \n",
       "4  [0.022580775, 0.020614795, 0.025732357, 0.0402...   \n",
       "\n",
       "                                      LH_power_gamma  \\\n",
       "0  [nan, nan, 0.0018358257, 0.0017288909, 0.00135...   \n",
       "1  [nan, nan, 0.0018358257, 0.0017288909, 0.00135...   \n",
       "2  [0.00055783533, 0.00084574166, 0.0008706296, n...   \n",
       "3  [0.00055783533, 0.00084574166, 0.0008706296, n...   \n",
       "4  [0.000938801, 0.0009402243, 0.0009571773, 0.00...   \n",
       "\n",
       "                                      MD_power_theta  \\\n",
       "0  [0.033121496, 0.041370735, 0.055094175, 0.0427...   \n",
       "1  [0.033121496, 0.041370735, 0.055094175, 0.0427...   \n",
       "2  [0.016893655, 0.027668845, 0.022960208, nan, n...   \n",
       "3  [0.016893655, 0.027668845, 0.022960208, nan, n...   \n",
       "4  [0.035689075, 0.029545942, 0.038346574, 0.0345...   \n",
       "\n",
       "                                      MD_power_gamma  \\\n",
       "0  [0.0017061487, 0.0015902787, 0.0014763202, 0.0...   \n",
       "1  [0.0017061487, 0.0015902787, 0.0014763202, 0.0...   \n",
       "2  [0.0006401466, 0.0010481183, 0.0009893934, nan...   \n",
       "3  [0.0006401466, 0.0010481183, 0.0009893934, nan...   \n",
       "4  [0.0006134348, 0.00083359046, 0.00092188915, 0...   \n",
       "\n",
       "                                    mPFC_power_theta  \\\n",
       "0  [0.016354451, 0.025327114, 0.028878175, 0.0222...   \n",
       "1  [0.016354451, 0.025327114, 0.028878175, 0.0222...   \n",
       "2  [0.021055607, 0.030588005, 0.023756983, nan, n...   \n",
       "3  [0.021055607, 0.030588005, 0.023756983, nan, n...   \n",
       "4  [nan, 0.028878195, 0.0361402, 0.056812976, 0.0...   \n",
       "\n",
       "                                    mPFC_power_gamma  \n",
       "0  [0.00209533, 0.0015905038, 0.0014053435, 0.001...  \n",
       "1  [0.00209533, 0.0015905038, 0.0014053435, 0.001...  \n",
       "2  [0.0008363458, 0.001157422, 0.0010688329, nan,...  \n",
       "3  [0.0008363458, 0.001157422, 0.0010688329, nan,...  \n",
       "4  [nan, 0.0015049445, 0.0015290054, 0.0016440556...  \n",
       "\n",
       "[5 rows x 155 columns]"
      ]
     },
     "execution_count": 47,
     "metadata": {},
     "output_type": "execute_result"
    }
   ],
   "source": [
    "LFP_SPECTRAL_DF.head()"
   ]
  },
  {
   "cell_type": "code",
   "execution_count": 48,
   "metadata": {
    "tags": []
   },
   "outputs": [],
   "source": [
    "LFP_SPECTRAL_DF.to_pickle(os.path.join(OUTPUT_DIR, FULL_LFP_TRACES_PKL))"
   ]
  },
  {
   "cell_type": "code",
   "execution_count": 49,
   "metadata": {
    "tags": []
   },
   "outputs": [
    {
     "name": "stdout",
     "output_type": "stream",
     "text": [
      "cohort\n",
      "session_dir\n",
      "tone_frames\n",
      "box_1_port_entry_frames\n",
      "box_2_port_entry_frames\n",
      "video_name\n",
      "notes\n",
      "session_path\n",
      "recording\n",
      "current_subject\n",
      "subject\n",
      "all_subjects\n",
      "first_timestamp\n",
      "last_timestamp\n",
      "video_timestamps\n",
      "tone_timestamps\n",
      "box_1_port_entry_timestamps\n",
      "box_2_port_entry_timestamps\n",
      "lfp_timestamps\n",
      "vHPC_lfp_trace\n",
      "BLA_lfp_trace\n",
      "LH_lfp_trace\n",
      "MD_lfp_trace\n",
      "mPFC_lfp_trace\n",
      "vHPC_theta_band\n",
      "BLA_theta_band\n",
      "LH_theta_band\n",
      "MD_theta_band\n",
      "mPFC_theta_band\n",
      "vHPC_gamma_band\n",
      "BLA_gamma_band\n",
      "LH_gamma_band\n",
      "MD_gamma_band\n",
      "mPFC_gamma_band\n",
      "vHPC_theta_phase\n",
      "BLA_theta_phase\n",
      "LH_theta_phase\n",
      "MD_theta_phase\n",
      "mPFC_theta_phase\n",
      "vHPC_gamma_phase\n",
      "BLA_gamma_phase\n",
      "LH_gamma_phase\n",
      "MD_gamma_phase\n",
      "mPFC_gamma_phase\n",
      "vHPC_power_all_frequencies_all_windows\n",
      "BLA_power_all_frequencies_all_windows\n",
      "LH_power_all_frequencies_all_windows\n",
      "MD_power_all_frequencies_all_windows\n",
      "mPFC_power_all_frequencies_all_windows\n",
      "power_timestamps\n",
      "power_calculation_frequencies\n",
      "BLA_LH_coherence_all_frequencies_all_windows\n",
      "BLA_MD_coherence_all_frequencies_all_windows\n",
      "BLA_mPFC_coherence_all_frequencies_all_windows\n",
      "BLA_vHPC_coherence_all_frequencies_all_windows\n",
      "LH_MD_coherence_all_frequencies_all_windows\n",
      "LH_mPFC_coherence_all_frequencies_all_windows\n",
      "LH_vHPC_coherence_all_frequencies_all_windows\n",
      "MD_mPFC_coherence_all_frequencies_all_windows\n",
      "MD_vHPC_coherence_all_frequencies_all_windows\n",
      "mPFC_vHPC_coherence_all_frequencies_all_windows\n",
      "coherence_timestamps\n",
      "coherence_calculation_frequencies\n",
      "BLA_LH_granger_all_frequencies_all_windows\n",
      "LH_BLA_granger_all_frequencies_all_windows\n",
      "BLA_MD_granger_all_frequencies_all_windows\n",
      "MD_BLA_granger_all_frequencies_all_windows\n",
      "BLA_mPFC_granger_all_frequencies_all_windows\n",
      "mPFC_BLA_granger_all_frequencies_all_windows\n",
      "BLA_vHPC_granger_all_frequencies_all_windows\n",
      "vHPC_BLA_granger_all_frequencies_all_windows\n",
      "LH_MD_granger_all_frequencies_all_windows\n",
      "MD_LH_granger_all_frequencies_all_windows\n",
      "LH_mPFC_granger_all_frequencies_all_windows\n",
      "mPFC_LH_granger_all_frequencies_all_windows\n",
      "LH_vHPC_granger_all_frequencies_all_windows\n",
      "vHPC_LH_granger_all_frequencies_all_windows\n",
      "MD_mPFC_granger_all_frequencies_all_windows\n",
      "mPFC_MD_granger_all_frequencies_all_windows\n",
      "MD_vHPC_granger_all_frequencies_all_windows\n",
      "vHPC_MD_granger_all_frequencies_all_windows\n",
      "mPFC_vHPC_granger_all_frequencies_all_windows\n",
      "vHPC_mPFC_granger_all_frequencies_all_windows\n",
      "granger_timestamps\n",
      "granger_calculation_frequencies\n",
      "BLA_LH_coherence_theta\n",
      "BLA_LH_coherence_gamma\n",
      "BLA_MD_coherence_theta\n",
      "BLA_MD_coherence_gamma\n",
      "BLA_mPFC_coherence_theta\n",
      "BLA_mPFC_coherence_gamma\n",
      "BLA_vHPC_coherence_theta\n",
      "BLA_vHPC_coherence_gamma\n",
      "LH_MD_coherence_theta\n",
      "LH_MD_coherence_gamma\n",
      "LH_mPFC_coherence_theta\n",
      "LH_mPFC_coherence_gamma\n",
      "LH_vHPC_coherence_theta\n",
      "LH_vHPC_coherence_gamma\n",
      "MD_mPFC_coherence_theta\n",
      "MD_mPFC_coherence_gamma\n",
      "MD_vHPC_coherence_theta\n",
      "MD_vHPC_coherence_gamma\n",
      "mPFC_vHPC_coherence_theta\n",
      "mPFC_vHPC_coherence_gamma\n",
      "BLA-to-LH_granger_theta\n",
      "BLA-to-LH_granger_gamma\n",
      "LH-to-BLA_granger_theta\n",
      "LH-to-BLA_granger_gamma\n",
      "BLA-to-MD_granger_theta\n",
      "BLA-to-MD_granger_gamma\n",
      "MD-to-BLA_granger_theta\n",
      "MD-to-BLA_granger_gamma\n",
      "BLA-to-mPFC_granger_theta\n",
      "BLA-to-mPFC_granger_gamma\n",
      "mPFC-to-BLA_granger_theta\n",
      "mPFC-to-BLA_granger_gamma\n",
      "BLA-to-vHPC_granger_theta\n",
      "BLA-to-vHPC_granger_gamma\n",
      "vHPC-to-BLA_granger_theta\n",
      "vHPC-to-BLA_granger_gamma\n",
      "LH-to-MD_granger_theta\n",
      "LH-to-MD_granger_gamma\n",
      "MD-to-LH_granger_theta\n",
      "MD-to-LH_granger_gamma\n",
      "LH-to-mPFC_granger_theta\n",
      "LH-to-mPFC_granger_gamma\n",
      "mPFC-to-LH_granger_theta\n",
      "mPFC-to-LH_granger_gamma\n",
      "LH-to-vHPC_granger_theta\n",
      "LH-to-vHPC_granger_gamma\n",
      "vHPC-to-LH_granger_theta\n",
      "vHPC-to-LH_granger_gamma\n",
      "MD-to-mPFC_granger_theta\n",
      "MD-to-mPFC_granger_gamma\n",
      "mPFC-to-MD_granger_theta\n",
      "mPFC-to-MD_granger_gamma\n",
      "MD-to-vHPC_granger_theta\n",
      "MD-to-vHPC_granger_gamma\n",
      "vHPC-to-MD_granger_theta\n",
      "vHPC-to-MD_granger_gamma\n",
      "mPFC-to-vHPC_granger_theta\n",
      "mPFC-to-vHPC_granger_gamma\n",
      "vHPC-to-mPFC_granger_theta\n",
      "vHPC-to-mPFC_granger_gamma\n",
      "vHPC_power_theta\n",
      "vHPC_power_gamma\n",
      "BLA_power_theta\n",
      "BLA_power_gamma\n",
      "LH_power_theta\n",
      "LH_power_gamma\n",
      "MD_power_theta\n",
      "MD_power_gamma\n",
      "mPFC_power_theta\n",
      "mPFC_power_gamma\n"
     ]
    }
   ],
   "source": [
    "for col in LFP_SPECTRAL_DF.columns:\n",
    "    print(col)"
   ]
  },
  {
   "cell_type": "code",
   "execution_count": 50,
   "metadata": {
    "tags": []
   },
   "outputs": [
    {
     "ename": "ValueError",
     "evalue": "",
     "output_type": "error",
     "traceback": [
      "\u001b[0;31m---------------------------------------------------------------------------\u001b[0m",
      "\u001b[0;31mValueError\u001b[0m                                Traceback (most recent call last)",
      "Cell \u001b[0;32mIn[50], line 1\u001b[0m\n\u001b[0;32m----> 1\u001b[0m \u001b[38;5;28;01mraise\u001b[39;00m \u001b[38;5;167;01mValueError\u001b[39;00m()\n",
      "\u001b[0;31mValueError\u001b[0m: "
     ]
    }
   ],
   "source": [
    "raise ValueError()"
   ]
  },
  {
   "cell_type": "code",
   "execution_count": null,
   "metadata": {},
   "outputs": [],
   "source": []
  }
 ],
 "metadata": {
  "deepnote": {},
  "deepnote_execution_queue": [],
  "deepnote_notebook_id": "cf8fe3695d074ee7887fdf6459cbf5ce",
  "kernelspec": {
   "display_name": "mountainsort_0_5_6",
   "language": "python",
   "name": "python3"
  },
  "language_info": {
   "codemirror_mode": {
    "name": "ipython",
    "version": 3
   },
   "file_extension": ".py",
   "mimetype": "text/x-python",
   "name": "python",
   "nbconvert_exporter": "python",
   "pygments_lexer": "ipython3",
   "version": "3.9.19"
  }
 },
 "nbformat": 4,
 "nbformat_minor": 4
}
