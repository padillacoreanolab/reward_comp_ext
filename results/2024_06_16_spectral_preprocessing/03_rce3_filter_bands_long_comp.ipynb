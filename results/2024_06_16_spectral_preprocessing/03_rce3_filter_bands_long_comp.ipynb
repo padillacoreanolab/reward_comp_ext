{
 "cells": [
  {
   "cell_type": "markdown",
   "metadata": {
    "cell_id": "c3a02adc9e884466bc8c79db549cc3d2",
    "deepnote_cell_type": "text-cell-h1",
    "formattedRanges": [
     {
      "fromCodePoint": 0,
      "marks": {
       "bold": true,
       "underline": true
      },
      "toCodePoint": 17,
      "type": "marks"
     }
    ]
   },
   "source": [
    "# All oscillation analysis"
   ]
  },
  {
   "cell_type": "markdown",
   "metadata": {
    "cell_id": "4546bee655b14a5dbf393161f1228e60",
    "deepnote_cell_type": "text-cell-p",
    "formattedRanges": []
   },
   "source": [
    "Brief 1-2 sentence description of notebook."
   ]
  },
  {
   "cell_type": "code",
   "execution_count": 1,
   "metadata": {
    "tags": []
   },
   "outputs": [],
   "source": [
    "# Imports of all used packages and libraries\n",
    "import sys\n",
    "import os\n",
    "import git\n",
    "import glob\n",
    "from collections import defaultdict"
   ]
  },
  {
   "cell_type": "code",
   "execution_count": 2,
   "metadata": {
    "tags": []
   },
   "outputs": [],
   "source": [
    "git_repo = git.Repo(\".\", search_parent_directories=True)\n",
    "git_root = git_repo.git.rev_parse(\"--show-toplevel\")"
   ]
  },
  {
   "cell_type": "code",
   "execution_count": 3,
   "metadata": {
    "tags": []
   },
   "outputs": [
    {
     "data": {
      "text/plain": [
       "'/nancy/user/riwata/projects/reward_comp_ext'"
      ]
     },
     "execution_count": 3,
     "metadata": {},
     "output_type": "execute_result"
    }
   ],
   "source": [
    "git_root"
   ]
  },
  {
   "cell_type": "code",
   "execution_count": 4,
   "metadata": {
    "tags": []
   },
   "outputs": [],
   "source": [
    "sys.path.insert(0, os.path.join(git_root, 'src'))"
   ]
  },
  {
   "cell_type": "code",
   "execution_count": 5,
   "metadata": {
    "tags": []
   },
   "outputs": [],
   "source": [
    "import warnings\n",
    "warnings.filterwarnings('ignore')"
   ]
  },
  {
   "cell_type": "code",
   "execution_count": 6,
   "metadata": {
    "tags": []
   },
   "outputs": [],
   "source": [
    "import os\n",
    "import collections\n",
    "import itertools\n",
    "from collections import defaultdict\n",
    "from itertools import combinations"
   ]
  },
  {
   "cell_type": "code",
   "execution_count": 7,
   "metadata": {
    "cell_id": "03b495cefa6a4798a44c7f2e4c6a3ea7",
    "deepnote_cell_type": "code",
    "deepnote_to_be_reexecuted": false,
    "execution_millis": 21,
    "execution_start": 1691424003626,
    "source_hash": null,
    "tags": []
   },
   "outputs": [],
   "source": [
    "# Imports of all used packages and libraries\n",
    "import numpy as np\n",
    "import pandas as pd\n",
    "from scipy import stats\n",
    "from scipy.stats import mannwhitneyu\n"
   ]
  },
  {
   "cell_type": "code",
   "execution_count": 8,
   "metadata": {
    "tags": []
   },
   "outputs": [],
   "source": [
    "import matplotlib\n",
    "import matplotlib.colors as mcolors\n",
    "import matplotlib.pyplot as plt\n",
    "import matplotlib.cm as cm\n",
    "# import seaborn as sns\n",
    "import colorsys"
   ]
  },
  {
   "cell_type": "code",
   "execution_count": 9,
   "metadata": {
    "tags": []
   },
   "outputs": [],
   "source": [
    "from sklearn.metrics import confusion_matrix"
   ]
  },
  {
   "cell_type": "code",
   "execution_count": 10,
   "metadata": {
    "tags": []
   },
   "outputs": [],
   "source": [
    "from spectral_connectivity import Multitaper, Connectivity\n",
    "import spectral_connectivity"
   ]
  },
  {
   "cell_type": "code",
   "execution_count": 11,
   "metadata": {
    "tags": []
   },
   "outputs": [],
   "source": [
    "import utilities.helper\n",
    "import trodes.read_exported"
   ]
  },
  {
   "cell_type": "code",
   "execution_count": 12,
   "metadata": {
    "tags": []
   },
   "outputs": [],
   "source": [
    "FONTSIZE = 20"
   ]
  },
  {
   "cell_type": "code",
   "execution_count": 13,
   "metadata": {
    "tags": []
   },
   "outputs": [],
   "source": [
    "font = {'weight' : 'medium',\n",
    "        'size'   : 20}\n",
    "\n",
    "matplotlib.rc('font', **font)"
   ]
  },
  {
   "cell_type": "markdown",
   "metadata": {
    "cell_id": "d290bac2c17940bfbc0f9296beaf70e5",
    "deepnote_cell_type": "text-cell-h2",
    "formattedRanges": []
   },
   "source": [
    "## Inputs & Data"
   ]
  },
  {
   "cell_type": "markdown",
   "metadata": {
    "cell_id": "e528ce19c608425292151930d380f49f",
    "deepnote_cell_type": "text-cell-p",
    "formattedRanges": []
   },
   "source": [
    "Explanation of each input and where it comes from."
   ]
  },
  {
   "cell_type": "code",
   "execution_count": 14,
   "metadata": {
    "cell_id": "6cf83a5811054461a718a71673d09aab",
    "deepnote_cell_type": "code",
    "deepnote_to_be_reexecuted": false,
    "execution_millis": 373,
    "execution_start": 1691424003628,
    "source_hash": null,
    "tags": []
   },
   "outputs": [],
   "source": [
    "# Inputs and Required data loading\n",
    "# input varaible names are in all caps snake case\n",
    "# Whenever an input changes or is used for processing \n",
    "# the vairables are all lower in snake case\n",
    "OUTPUT_DIR = r\"./proc/\" # where data is saved should always be shown in the inputs\n",
    "os.makedirs(OUTPUT_DIR, exist_ok=True)\n",
    "OUTPUT_PREFIX = \"rce_pilot_3_long_comp\""
   ]
  },
  {
   "cell_type": "code",
   "execution_count": 15,
   "metadata": {
    "tags": []
   },
   "outputs": [],
   "source": [
    "LFP_SPECTRAL_DF = pd.read_pickle(\"./proc/{}_02_full_spectral.pkl\".format(OUTPUT_PREFIX))\n",
    "\n",
    "\n",
    "# LFP_SPECTRAL_DF = pd.read_pickle(\"./proc/rce_pilot_2_02_full_spectral_copy.pkl\")\n",
    "# LFP_SPECTRAL_DF = pd.read_pickle(\"./proc/rce_pilot_2_02_full_spectral.pkl\")"
   ]
  },
  {
   "cell_type": "code",
   "execution_count": 16,
   "metadata": {
    "tags": []
   },
   "outputs": [],
   "source": [
    "# CHANNEL_MAP_AND_ALL_TRIALS_DF = pd.read_pickle(\"./proc/full_baseline_and_trial_lfp_traces.pkl\")\n",
    "# MERGED_TRIALS_AND_VIDEO = pd.read_pickle(\"./proc/trial_SLEAP_and_metadata.pkl\")"
   ]
  },
  {
   "cell_type": "code",
   "execution_count": 17,
   "metadata": {
    "tags": []
   },
   "outputs": [],
   "source": [
    "theta_band = (4, 12)\n",
    "gamma_band = (30, 50)\n",
    "filter_band = (0, 56)"
   ]
  },
  {
   "cell_type": "code",
   "execution_count": 18,
   "metadata": {
    "tags": []
   },
   "outputs": [],
   "source": [
    "FONTSIZE=20"
   ]
  },
  {
   "cell_type": "code",
   "execution_count": 19,
   "metadata": {
    "tags": []
   },
   "outputs": [],
   "source": [
    "FULL_LFP_TRACES_PKL = \"{}_03_spectral_bands.pkl\".format(OUTPUT_PREFIX)"
   ]
  },
  {
   "cell_type": "markdown",
   "metadata": {
    "cell_id": "e3ee4891d43a4ac287413afc552ca289",
    "deepnote_cell_type": "text-cell-h2",
    "formattedRanges": []
   },
   "source": [
    "## Outputs"
   ]
  },
  {
   "cell_type": "markdown",
   "metadata": {
    "cell_id": "9ccbf6cc70fd4d379fa29317f733771f",
    "deepnote_cell_type": "text-cell-p",
    "formattedRanges": []
   },
   "source": [
    "Describe each output that the notebook creates. "
   ]
  },
  {
   "cell_type": "markdown",
   "metadata": {
    "cell_id": "fc8e8920a6944918a15fac575cdf6e78",
    "deepnote_cell_type": "text-cell-bullet",
    "formattedRanges": []
   },
   "source": [
    "- Is it a plot or is it data?"
   ]
  },
  {
   "cell_type": "markdown",
   "metadata": {
    "cell_id": "1e639d4776a84aa9ac8ded2e14fa57db",
    "deepnote_cell_type": "text-cell-bullet",
    "formattedRanges": []
   },
   "source": [
    "- How valuable is the output and why is it valuable or useful?"
   ]
  },
  {
   "cell_type": "markdown",
   "metadata": {},
   "source": [
    "## Functions "
   ]
  },
  {
   "cell_type": "code",
   "execution_count": null,
   "metadata": {},
   "outputs": [],
   "source": []
  },
  {
   "cell_type": "markdown",
   "metadata": {
    "cell_id": "8999d19b6b7d4d63bc90f0b0bd9ab085",
    "deepnote_cell_type": "text-cell-h2",
    "formattedRanges": []
   },
   "source": [
    "## Processing"
   ]
  },
  {
   "cell_type": "markdown",
   "metadata": {
    "cell_id": "9b36cdf08567463082b005cb0dec684b",
    "deepnote_cell_type": "text-cell-p",
    "formattedRanges": []
   },
   "source": [
    "Describe what is done to the data here and how inputs are manipulated to generate outputs. "
   ]
  },
  {
   "cell_type": "markdown",
   "metadata": {
    "tags": []
   },
   "source": [
    "# Dropping unused columns"
   ]
  },
  {
   "cell_type": "code",
   "execution_count": 20,
   "metadata": {
    "cell_id": "89aaba237c644628b1b37604b75e7cb1",
    "deepnote_cell_type": "code",
    "tags": []
   },
   "outputs": [],
   "source": [
    "# As much code and as many cells as required\n",
    "# includes EDA and playing with data\n",
    "# GO HAM!\n",
    "\n",
    "# Ideally functions are defined here first and then data is processed using the functions\n",
    "\n",
    "# function names are short and in snake case all lowercase\n",
    "# a function name should be unique but does not have to describe the function\n",
    "# doc strings describe functions not function names\n",
    "\n",
    "\n"
   ]
  },
  {
   "cell_type": "code",
   "execution_count": 21,
   "metadata": {
    "tags": []
   },
   "outputs": [
    {
     "data": {
      "text/plain": [
       "['cohort',\n",
       " 'session_dir',\n",
       " 'tone_frames',\n",
       " 'box_1_port_entry_frames',\n",
       " 'box_2_port_entry_frames',\n",
       " 'video_name',\n",
       " 'notes',\n",
       " 'session_path',\n",
       " 'recording',\n",
       " 'current_subject',\n",
       " 'subject',\n",
       " 'all_subjects',\n",
       " 'first_timestamp',\n",
       " 'last_timestamp',\n",
       " 'video_timestamps',\n",
       " 'tone_timestamps',\n",
       " 'box_1_port_entry_timestamps',\n",
       " 'box_2_port_entry_timestamps',\n",
       " 'lfp_timestamps',\n",
       " 'vHPC_lfp_trace',\n",
       " 'BLA_lfp_trace',\n",
       " 'LH_lfp_trace',\n",
       " 'MD_lfp_trace',\n",
       " 'mPFC_lfp_trace',\n",
       " 'vHPC_lfp_RMS_filtered',\n",
       " 'BLA_lfp_RMS_filtered',\n",
       " 'LH_lfp_RMS_filtered',\n",
       " 'MD_lfp_RMS_filtered',\n",
       " 'mPFC_lfp_RMS_filtered',\n",
       " 'vHPC_theta_band',\n",
       " 'BLA_theta_band',\n",
       " 'LH_theta_band',\n",
       " 'MD_theta_band',\n",
       " 'mPFC_theta_band',\n",
       " 'vHPC_gamma_band',\n",
       " 'BLA_gamma_band',\n",
       " 'LH_gamma_band',\n",
       " 'MD_gamma_band',\n",
       " 'mPFC_gamma_band',\n",
       " 'vHPC_theta_phase',\n",
       " 'BLA_theta_phase',\n",
       " 'LH_theta_phase',\n",
       " 'MD_theta_phase',\n",
       " 'mPFC_theta_phase',\n",
       " 'vHPC_gamma_phase',\n",
       " 'BLA_gamma_phase',\n",
       " 'LH_gamma_phase',\n",
       " 'MD_gamma_phase',\n",
       " 'mPFC_gamma_phase',\n",
       " 'vHPC_power_all_frequencies_all_windows',\n",
       " 'BLA_power_all_frequencies_all_windows',\n",
       " 'LH_power_all_frequencies_all_windows',\n",
       " 'MD_power_all_frequencies_all_windows',\n",
       " 'mPFC_power_all_frequencies_all_windows',\n",
       " 'power_timestamps',\n",
       " 'power_calculation_frequencies',\n",
       " 'BLA_LH_coherence_all_frequencies_all_windows',\n",
       " 'BLA_MD_coherence_all_frequencies_all_windows',\n",
       " 'BLA_mPFC_coherence_all_frequencies_all_windows',\n",
       " 'BLA_vHPC_coherence_all_frequencies_all_windows',\n",
       " 'LH_MD_coherence_all_frequencies_all_windows',\n",
       " 'LH_mPFC_coherence_all_frequencies_all_windows',\n",
       " 'LH_vHPC_coherence_all_frequencies_all_windows',\n",
       " 'MD_mPFC_coherence_all_frequencies_all_windows',\n",
       " 'MD_vHPC_coherence_all_frequencies_all_windows',\n",
       " 'mPFC_vHPC_coherence_all_frequencies_all_windows',\n",
       " 'coherence_timestamps',\n",
       " 'coherence_calculation_frequencies',\n",
       " 'BLA_LH_granger_all_frequencies_all_windows',\n",
       " 'LH_BLA_granger_all_frequencies_all_windows',\n",
       " 'BLA_MD_granger_all_frequencies_all_windows',\n",
       " 'MD_BLA_granger_all_frequencies_all_windows',\n",
       " 'BLA_mPFC_granger_all_frequencies_all_windows',\n",
       " 'mPFC_BLA_granger_all_frequencies_all_windows',\n",
       " 'BLA_vHPC_granger_all_frequencies_all_windows',\n",
       " 'vHPC_BLA_granger_all_frequencies_all_windows',\n",
       " 'LH_MD_granger_all_frequencies_all_windows',\n",
       " 'MD_LH_granger_all_frequencies_all_windows',\n",
       " 'LH_mPFC_granger_all_frequencies_all_windows',\n",
       " 'mPFC_LH_granger_all_frequencies_all_windows',\n",
       " 'LH_vHPC_granger_all_frequencies_all_windows',\n",
       " 'vHPC_LH_granger_all_frequencies_all_windows',\n",
       " 'MD_mPFC_granger_all_frequencies_all_windows',\n",
       " 'mPFC_MD_granger_all_frequencies_all_windows',\n",
       " 'MD_vHPC_granger_all_frequencies_all_windows',\n",
       " 'vHPC_MD_granger_all_frequencies_all_windows',\n",
       " 'mPFC_vHPC_granger_all_frequencies_all_windows',\n",
       " 'vHPC_mPFC_granger_all_frequencies_all_windows',\n",
       " 'granger_timestamps',\n",
       " 'granger_calculation_frequencies']"
      ]
     },
     "execution_count": 21,
     "metadata": {},
     "output_type": "execute_result"
    }
   ],
   "source": [
    "list(LFP_SPECTRAL_DF.columns)"
   ]
  },
  {
   "cell_type": "code",
   "execution_count": 22,
   "metadata": {
    "tags": []
   },
   "outputs": [],
   "source": [
    "dropping_columns = [col for col in LFP_SPECTRAL_DF if (\"MAD\" in col or \"modified_zscore\" in col or \"RMS\" in col or \"mask\" in col or \"trace_filtered\" in col) and \"power\" not in col]\n",
    "\n",
    "\n"
   ]
  },
  {
   "cell_type": "code",
   "execution_count": 23,
   "metadata": {
    "tags": []
   },
   "outputs": [
    {
     "data": {
      "text/plain": [
       "['vHPC_lfp_RMS_filtered',\n",
       " 'BLA_lfp_RMS_filtered',\n",
       " 'LH_lfp_RMS_filtered',\n",
       " 'MD_lfp_RMS_filtered',\n",
       " 'mPFC_lfp_RMS_filtered']"
      ]
     },
     "execution_count": 23,
     "metadata": {},
     "output_type": "execute_result"
    }
   ],
   "source": [
    "dropping_columns"
   ]
  },
  {
   "cell_type": "code",
   "execution_count": 24,
   "metadata": {
    "tags": []
   },
   "outputs": [],
   "source": [
    "LFP_SPECTRAL_DF = LFP_SPECTRAL_DF.drop(columns=dropping_columns, errors=\"ignore\")"
   ]
  },
  {
   "cell_type": "markdown",
   "metadata": {},
   "source": [
    "## Filtering frequencies"
   ]
  },
  {
   "cell_type": "code",
   "execution_count": 25,
   "metadata": {
    "tags": []
   },
   "outputs": [
    {
     "data": {
      "text/plain": [
       "['cohort',\n",
       " 'session_dir',\n",
       " 'tone_frames',\n",
       " 'box_1_port_entry_frames',\n",
       " 'box_2_port_entry_frames',\n",
       " 'video_name',\n",
       " 'notes',\n",
       " 'session_path',\n",
       " 'recording',\n",
       " 'current_subject',\n",
       " 'subject',\n",
       " 'all_subjects',\n",
       " 'first_timestamp',\n",
       " 'last_timestamp',\n",
       " 'video_timestamps',\n",
       " 'tone_timestamps',\n",
       " 'box_1_port_entry_timestamps',\n",
       " 'box_2_port_entry_timestamps',\n",
       " 'lfp_timestamps',\n",
       " 'vHPC_lfp_trace',\n",
       " 'BLA_lfp_trace',\n",
       " 'LH_lfp_trace',\n",
       " 'MD_lfp_trace',\n",
       " 'mPFC_lfp_trace',\n",
       " 'vHPC_theta_band',\n",
       " 'BLA_theta_band',\n",
       " 'LH_theta_band',\n",
       " 'MD_theta_band',\n",
       " 'mPFC_theta_band',\n",
       " 'vHPC_gamma_band',\n",
       " 'BLA_gamma_band',\n",
       " 'LH_gamma_band',\n",
       " 'MD_gamma_band',\n",
       " 'mPFC_gamma_band',\n",
       " 'vHPC_theta_phase',\n",
       " 'BLA_theta_phase',\n",
       " 'LH_theta_phase',\n",
       " 'MD_theta_phase',\n",
       " 'mPFC_theta_phase',\n",
       " 'vHPC_gamma_phase',\n",
       " 'BLA_gamma_phase',\n",
       " 'LH_gamma_phase',\n",
       " 'MD_gamma_phase',\n",
       " 'mPFC_gamma_phase',\n",
       " 'vHPC_power_all_frequencies_all_windows',\n",
       " 'BLA_power_all_frequencies_all_windows',\n",
       " 'LH_power_all_frequencies_all_windows',\n",
       " 'MD_power_all_frequencies_all_windows',\n",
       " 'mPFC_power_all_frequencies_all_windows',\n",
       " 'power_timestamps',\n",
       " 'power_calculation_frequencies',\n",
       " 'BLA_LH_coherence_all_frequencies_all_windows',\n",
       " 'BLA_MD_coherence_all_frequencies_all_windows',\n",
       " 'BLA_mPFC_coherence_all_frequencies_all_windows',\n",
       " 'BLA_vHPC_coherence_all_frequencies_all_windows',\n",
       " 'LH_MD_coherence_all_frequencies_all_windows',\n",
       " 'LH_mPFC_coherence_all_frequencies_all_windows',\n",
       " 'LH_vHPC_coherence_all_frequencies_all_windows',\n",
       " 'MD_mPFC_coherence_all_frequencies_all_windows',\n",
       " 'MD_vHPC_coherence_all_frequencies_all_windows',\n",
       " 'mPFC_vHPC_coherence_all_frequencies_all_windows',\n",
       " 'coherence_timestamps',\n",
       " 'coherence_calculation_frequencies',\n",
       " 'BLA_LH_granger_all_frequencies_all_windows',\n",
       " 'LH_BLA_granger_all_frequencies_all_windows',\n",
       " 'BLA_MD_granger_all_frequencies_all_windows',\n",
       " 'MD_BLA_granger_all_frequencies_all_windows',\n",
       " 'BLA_mPFC_granger_all_frequencies_all_windows',\n",
       " 'mPFC_BLA_granger_all_frequencies_all_windows',\n",
       " 'BLA_vHPC_granger_all_frequencies_all_windows',\n",
       " 'vHPC_BLA_granger_all_frequencies_all_windows',\n",
       " 'LH_MD_granger_all_frequencies_all_windows',\n",
       " 'MD_LH_granger_all_frequencies_all_windows',\n",
       " 'LH_mPFC_granger_all_frequencies_all_windows',\n",
       " 'mPFC_LH_granger_all_frequencies_all_windows',\n",
       " 'LH_vHPC_granger_all_frequencies_all_windows',\n",
       " 'vHPC_LH_granger_all_frequencies_all_windows',\n",
       " 'MD_mPFC_granger_all_frequencies_all_windows',\n",
       " 'mPFC_MD_granger_all_frequencies_all_windows',\n",
       " 'MD_vHPC_granger_all_frequencies_all_windows',\n",
       " 'vHPC_MD_granger_all_frequencies_all_windows',\n",
       " 'mPFC_vHPC_granger_all_frequencies_all_windows',\n",
       " 'vHPC_mPFC_granger_all_frequencies_all_windows',\n",
       " 'granger_timestamps',\n",
       " 'granger_calculation_frequencies']"
      ]
     },
     "execution_count": 25,
     "metadata": {},
     "output_type": "execute_result"
    }
   ],
   "source": [
    "list(LFP_SPECTRAL_DF.columns)"
   ]
  },
  {
   "cell_type": "code",
   "execution_count": 26,
   "metadata": {
    "tags": []
   },
   "outputs": [],
   "source": [
    "all_frequencies_columns = [col for col in LFP_SPECTRAL_DF if \"all_frequencies_all_windows\" in col] "
   ]
  },
  {
   "cell_type": "code",
   "execution_count": 27,
   "metadata": {
    "tags": []
   },
   "outputs": [],
   "source": [
    "for col in all_frequencies_columns:\n",
    "    if \"power\" in col:\n",
    "        LFP_SPECTRAL_DF[col] = LFP_SPECTRAL_DF.apply(lambda x: x[col][:, (x[\"power_calculation_frequencies\"] >= filter_band[0]) & (x[\"power_calculation_frequencies\"] < filter_band[1])], axis=1)\n",
    "LFP_SPECTRAL_DF[\"power_calculation_frequencies\"] = LFP_SPECTRAL_DF[\"power_calculation_frequencies\"].apply(lambda x: x[filter_band[0]: filter_band[1]])\n"
   ]
  },
  {
   "cell_type": "code",
   "execution_count": 28,
   "metadata": {
    "tags": []
   },
   "outputs": [],
   "source": [
    "for col in all_frequencies_columns:\n",
    "    if \"coherence\" in col:\n",
    "        LFP_SPECTRAL_DF[col] = LFP_SPECTRAL_DF.apply(lambda x: x[col][:, (x[\"coherence_calculation_frequencies\"] >= filter_band[0]) & (x[\"coherence_calculation_frequencies\"] < filter_band[1])], axis=1)\n",
    "LFP_SPECTRAL_DF[\"coherence_calculation_frequencies\"] = LFP_SPECTRAL_DF[\"coherence_calculation_frequencies\"].apply(lambda x: x[filter_band[0]: filter_band[1]])\n"
   ]
  },
  {
   "cell_type": "code",
   "execution_count": 29,
   "metadata": {
    "tags": []
   },
   "outputs": [],
   "source": [
    "for col in all_frequencies_columns:\n",
    "    if \"granger\" in col:\n",
    "        LFP_SPECTRAL_DF[col] = LFP_SPECTRAL_DF.apply(lambda x: x[col][:, (x[\"granger_calculation_frequencies\"] >= filter_band[0]) & (x[\"granger_calculation_frequencies\"] < filter_band[1])], axis=1)\n",
    "LFP_SPECTRAL_DF[\"granger_calculation_frequencies\"] = LFP_SPECTRAL_DF[\"granger_calculation_frequencies\"].apply(lambda x: x[filter_band[0]: filter_band[1]])\n"
   ]
  },
  {
   "cell_type": "code",
   "execution_count": 30,
   "metadata": {
    "tags": []
   },
   "outputs": [
    {
     "name": "stdout",
     "output_type": "stream",
     "text": [
      "(4581, 56)\n",
      "(4581, 56)\n",
      "(4581, 56)\n",
      "(4581, 56)\n",
      "(4581, 56)\n",
      "(4581, 56)\n",
      "(4581, 56)\n",
      "(4581, 56)\n",
      "(4581, 56)\n",
      "(4581, 56)\n",
      "(4581, 56)\n",
      "(4581, 56)\n",
      "(4581, 56)\n",
      "(4581, 56)\n",
      "(4581, 56)\n",
      "(4581, 56)\n",
      "(4581, 56)\n",
      "(4581, 56)\n",
      "(4581, 56)\n",
      "(4581, 56)\n",
      "(4581, 56)\n",
      "(4581, 56)\n",
      "(4581, 56)\n",
      "(4581, 56)\n",
      "(4581, 56)\n",
      "(4581, 56)\n",
      "(4581, 56)\n",
      "(4581, 56)\n",
      "(4581, 56)\n",
      "(4581, 56)\n",
      "(4581, 56)\n",
      "(4581, 56)\n",
      "(4581, 56)\n",
      "(4581, 56)\n",
      "(4581, 56)\n"
     ]
    }
   ],
   "source": [
    "for col in all_frequencies_columns:\n",
    "    print(LFP_SPECTRAL_DF[col].iloc[0].shape)"
   ]
  },
  {
   "cell_type": "code",
   "execution_count": 31,
   "metadata": {
    "tags": []
   },
   "outputs": [
    {
     "data": {
      "text/plain": [
       "(56,)"
      ]
     },
     "execution_count": 31,
     "metadata": {},
     "output_type": "execute_result"
    }
   ],
   "source": [
    "LFP_SPECTRAL_DF[\"power_calculation_frequencies\"].iloc[0].shape"
   ]
  },
  {
   "cell_type": "code",
   "execution_count": 32,
   "metadata": {},
   "outputs": [
    {
     "data": {
      "text/plain": [
       "(56,)"
      ]
     },
     "execution_count": 32,
     "metadata": {},
     "output_type": "execute_result"
    }
   ],
   "source": [
    "LFP_SPECTRAL_DF[\"coherence_calculation_frequencies\"].iloc[0].shape"
   ]
  },
  {
   "cell_type": "code",
   "execution_count": 33,
   "metadata": {},
   "outputs": [
    {
     "data": {
      "text/plain": [
       "(56,)"
      ]
     },
     "execution_count": 33,
     "metadata": {},
     "output_type": "execute_result"
    }
   ],
   "source": [
    "LFP_SPECTRAL_DF[\"granger_calculation_frequencies\"].iloc[0].shape"
   ]
  },
  {
   "cell_type": "markdown",
   "metadata": {
    "tags": []
   },
   "source": [
    "## Filtering by theta and gamma band"
   ]
  },
  {
   "cell_type": "markdown",
   "metadata": {},
   "source": [
    "- Filtering theta/gamma for coherence"
   ]
  },
  {
   "cell_type": "code",
   "execution_count": 34,
   "metadata": {
    "tags": []
   },
   "outputs": [],
   "source": [
    "coherence_columns = [col for col in LFP_SPECTRAL_DF.columns if \"coherence\" in col and \"calculation\" not in col and \"time\" not in col]"
   ]
  },
  {
   "cell_type": "code",
   "execution_count": 35,
   "metadata": {
    "tags": []
   },
   "outputs": [
    {
     "data": {
      "text/plain": [
       "['BLA_LH_coherence_all_frequencies_all_windows',\n",
       " 'BLA_MD_coherence_all_frequencies_all_windows',\n",
       " 'BLA_mPFC_coherence_all_frequencies_all_windows',\n",
       " 'BLA_vHPC_coherence_all_frequencies_all_windows',\n",
       " 'LH_MD_coherence_all_frequencies_all_windows',\n",
       " 'LH_mPFC_coherence_all_frequencies_all_windows',\n",
       " 'LH_vHPC_coherence_all_frequencies_all_windows',\n",
       " 'MD_mPFC_coherence_all_frequencies_all_windows',\n",
       " 'MD_vHPC_coherence_all_frequencies_all_windows',\n",
       " 'mPFC_vHPC_coherence_all_frequencies_all_windows']"
      ]
     },
     "execution_count": 35,
     "metadata": {},
     "output_type": "execute_result"
    }
   ],
   "source": [
    "coherence_columns"
   ]
  },
  {
   "cell_type": "code",
   "execution_count": 36,
   "metadata": {
    "tags": []
   },
   "outputs": [
    {
     "name": "stdout",
     "output_type": "stream",
     "text": [
      "BLA_LH\n",
      "BLA_MD\n",
      "BLA_mPFC\n",
      "BLA_vHPC\n",
      "LH_MD\n",
      "LH_mPFC\n",
      "LH_vHPC\n",
      "MD_mPFC\n",
      "MD_vHPC\n",
      "mPFC_vHPC\n"
     ]
    }
   ],
   "source": [
    "for col in coherence_columns:\n",
    "    brain_region_name = \"_\".join(col.split(\"_\")[:2])\n",
    "    print(brain_region_name)\n",
    "    theta_coherence_col = \"{}_coherence_theta\".format(brain_region_name)\n",
    "    gamma_coherence_col = \"{}_coherence_gamma\".format(brain_region_name)\n",
    "    LFP_SPECTRAL_DF[\"{}\".format(theta_coherence_col)] = LFP_SPECTRAL_DF.apply(lambda x: np.nanmean(x[col][:, (x[\"coherence_calculation_frequencies\"] >= theta_band[0]) & (x[\"coherence_calculation_frequencies\"] <= theta_band[1])], axis=1), axis=1)\n",
    "    LFP_SPECTRAL_DF[\"{}\".format(gamma_coherence_col)] = LFP_SPECTRAL_DF.apply(lambda x: np.nanmean(x[col][:, (x[\"coherence_calculation_frequencies\"] >= gamma_band[0]) & (x[\"coherence_calculation_frequencies\"] <= gamma_band[1])], axis=1), axis=1)"
   ]
  },
  {
   "cell_type": "code",
   "execution_count": 37,
   "metadata": {
    "tags": []
   },
   "outputs": [
    {
     "data": {
      "text/html": [
       "<div>\n",
       "<style scoped>\n",
       "    .dataframe tbody tr th:only-of-type {\n",
       "        vertical-align: middle;\n",
       "    }\n",
       "\n",
       "    .dataframe tbody tr th {\n",
       "        vertical-align: top;\n",
       "    }\n",
       "\n",
       "    .dataframe thead th {\n",
       "        text-align: right;\n",
       "    }\n",
       "</style>\n",
       "<table border=\"1\" class=\"dataframe\">\n",
       "  <thead>\n",
       "    <tr style=\"text-align: right;\">\n",
       "      <th></th>\n",
       "      <th>cohort</th>\n",
       "      <th>session_dir</th>\n",
       "      <th>tone_frames</th>\n",
       "      <th>box_1_port_entry_frames</th>\n",
       "      <th>box_2_port_entry_frames</th>\n",
       "      <th>video_name</th>\n",
       "      <th>notes</th>\n",
       "      <th>session_path</th>\n",
       "      <th>recording</th>\n",
       "      <th>current_subject</th>\n",
       "      <th>...</th>\n",
       "      <th>LH_mPFC_coherence_theta</th>\n",
       "      <th>LH_mPFC_coherence_gamma</th>\n",
       "      <th>LH_vHPC_coherence_theta</th>\n",
       "      <th>LH_vHPC_coherence_gamma</th>\n",
       "      <th>MD_mPFC_coherence_theta</th>\n",
       "      <th>MD_mPFC_coherence_gamma</th>\n",
       "      <th>MD_vHPC_coherence_theta</th>\n",
       "      <th>MD_vHPC_coherence_gamma</th>\n",
       "      <th>mPFC_vHPC_coherence_theta</th>\n",
       "      <th>mPFC_vHPC_coherence_gamma</th>\n",
       "    </tr>\n",
       "  </thead>\n",
       "  <tbody>\n",
       "    <tr>\n",
       "      <th>0</th>\n",
       "      <td>rce_pilot_3</td>\n",
       "      <td>20240317_151922_long_comp_subj_3-1_and_3-3</td>\n",
       "      <td>[[1, 88], [1286, 1486], [3282, 3482], [4480, 4...</td>\n",
       "      <td>[[1, 88], [259, 278], [310, 365], [366, 382], ...</td>\n",
       "      <td>[]</td>\n",
       "      <td>20240317_151922_long_comp_subj_3-1_and_3-3.1.v...</td>\n",
       "      <td>NaN</td>\n",
       "      <td>/scratch/back_up/reward_competition_extention/...</td>\n",
       "      <td>20240317_151922_long_comp_subj_3-1_t6b6_merged</td>\n",
       "      <td>3.1</td>\n",
       "      <td>...</td>\n",
       "      <td>[0.6199009, nan, nan, nan, nan, nan, 0.7190465...</td>\n",
       "      <td>[0.4824039, nan, nan, nan, nan, nan, 0.3201964...</td>\n",
       "      <td>[0.24118073, nan, nan, nan, nan, nan, 0.509870...</td>\n",
       "      <td>[0.35312024, nan, nan, nan, nan, nan, 0.423012...</td>\n",
       "      <td>[0.70054024, nan, nan, 0.7242584, 0.68935406, ...</td>\n",
       "      <td>[0.4300425, nan, nan, 0.57167405, 0.50112396, ...</td>\n",
       "      <td>[0.3609763, nan, nan, 0.50976896, 0.50285643, ...</td>\n",
       "      <td>[0.15037705, nan, nan, 0.3243009, 0.3042064, 0...</td>\n",
       "      <td>[0.4029725, 0.16296464, 0.4309047, 0.40245545,...</td>\n",
       "      <td>[0.31822205, 0.39309344, 0.37264958, 0.2815909...</td>\n",
       "    </tr>\n",
       "    <tr>\n",
       "      <th>1</th>\n",
       "      <td>rce_pilot_3</td>\n",
       "      <td>20240317_151922_long_comp_subj_3-1_and_3-3</td>\n",
       "      <td>[[2, 132], [1922, 2220], [4906, 5203], [6696, ...</td>\n",
       "      <td>[[2, 132], [387, 415], [463, 546], [548, 571],...</td>\n",
       "      <td>[]</td>\n",
       "      <td>20240317_151922_long_comp_subj_3-1_and_3-3.2.v...</td>\n",
       "      <td>NaN</td>\n",
       "      <td>/scratch/back_up/reward_competition_extention/...</td>\n",
       "      <td>20240317_151922_long_comp_subj_3-1_t6b6_merged</td>\n",
       "      <td>3.1</td>\n",
       "      <td>...</td>\n",
       "      <td>[0.6199009, nan, nan, nan, nan, nan, 0.7190465...</td>\n",
       "      <td>[0.4824039, nan, nan, nan, nan, nan, 0.3201964...</td>\n",
       "      <td>[0.24118073, nan, nan, nan, nan, nan, 0.509870...</td>\n",
       "      <td>[0.35312024, nan, nan, nan, nan, nan, 0.423012...</td>\n",
       "      <td>[0.70054024, nan, nan, 0.7242584, 0.68935406, ...</td>\n",
       "      <td>[0.4300425, nan, nan, 0.57167405, 0.50112396, ...</td>\n",
       "      <td>[0.3609763, nan, nan, 0.50976896, 0.50285643, ...</td>\n",
       "      <td>[0.15037705, nan, nan, 0.3243009, 0.3042064, 0...</td>\n",
       "      <td>[0.4029725, 0.16296464, 0.4309047, 0.40245545,...</td>\n",
       "      <td>[0.31822205, 0.39309344, 0.37264958, 0.2815909...</td>\n",
       "    </tr>\n",
       "    <tr>\n",
       "      <th>2</th>\n",
       "      <td>rce_pilot_3</td>\n",
       "      <td>20240317_151922_long_comp_subj_3-1_and_3-3</td>\n",
       "      <td>[[1, 88], [1286, 1486], [3282, 3482], [4480, 4...</td>\n",
       "      <td>[[1, 88], [259, 278], [310, 365], [366, 382], ...</td>\n",
       "      <td>[]</td>\n",
       "      <td>20240317_151922_long_comp_subj_3-1_and_3-3.1.v...</td>\n",
       "      <td>NaN</td>\n",
       "      <td>/scratch/back_up/reward_competition_extention/...</td>\n",
       "      <td>20240317_151922_long_comp_subj_3-3_t5b5_merged</td>\n",
       "      <td>3.3</td>\n",
       "      <td>...</td>\n",
       "      <td>[0.82404065, 0.8251563, 0.8670573, 0.8001956, ...</td>\n",
       "      <td>[0.69295216, 0.6436656, 0.53512263, 0.44921312...</td>\n",
       "      <td>[0.73253983, 0.82799184, 0.7557261, 0.353088, ...</td>\n",
       "      <td>[0.6078736, 0.54056174, 0.5845927, 0.41842666,...</td>\n",
       "      <td>[0.8340234, 0.9002462, 0.8425386, 0.69482654, ...</td>\n",
       "      <td>[0.6832412, 0.59949577, 0.5694806, 0.4314444, ...</td>\n",
       "      <td>[0.6932799, 0.77787244, 0.70582354, 0.37044504...</td>\n",
       "      <td>[0.5074058, 0.5024076, 0.5942596, 0.5443486, 0...</td>\n",
       "      <td>[0.6331956, 0.7959172, 0.73796403, 0.5448313, ...</td>\n",
       "      <td>[0.47152033, 0.5181883, 0.49669346, 0.44575334...</td>\n",
       "    </tr>\n",
       "    <tr>\n",
       "      <th>3</th>\n",
       "      <td>rce_pilot_3</td>\n",
       "      <td>20240317_151922_long_comp_subj_3-1_and_3-3</td>\n",
       "      <td>[[2, 132], [1922, 2220], [4906, 5203], [6696, ...</td>\n",
       "      <td>[[2, 132], [387, 415], [463, 546], [548, 571],...</td>\n",
       "      <td>[]</td>\n",
       "      <td>20240317_151922_long_comp_subj_3-1_and_3-3.2.v...</td>\n",
       "      <td>NaN</td>\n",
       "      <td>/scratch/back_up/reward_competition_extention/...</td>\n",
       "      <td>20240317_151922_long_comp_subj_3-3_t5b5_merged</td>\n",
       "      <td>3.3</td>\n",
       "      <td>...</td>\n",
       "      <td>[0.82404065, 0.8251563, 0.8670573, 0.8001956, ...</td>\n",
       "      <td>[0.69295216, 0.6436656, 0.53512263, 0.44921312...</td>\n",
       "      <td>[0.73253983, 0.82799184, 0.7557261, 0.353088, ...</td>\n",
       "      <td>[0.6078736, 0.54056174, 0.5845927, 0.41842666,...</td>\n",
       "      <td>[0.8340234, 0.9002462, 0.8425386, 0.69482654, ...</td>\n",
       "      <td>[0.6832412, 0.59949577, 0.5694806, 0.4314444, ...</td>\n",
       "      <td>[0.6932799, 0.77787244, 0.70582354, 0.37044504...</td>\n",
       "      <td>[0.5074058, 0.5024076, 0.5942596, 0.5443486, 0...</td>\n",
       "      <td>[0.6331956, 0.7959172, 0.73796403, 0.5448313, ...</td>\n",
       "      <td>[0.47152033, 0.5181883, 0.49669346, 0.44575334...</td>\n",
       "    </tr>\n",
       "    <tr>\n",
       "      <th>4</th>\n",
       "      <td>rce_pilot_3</td>\n",
       "      <td>20240317_172017_long_comp_subj_4-2_and_4-3</td>\n",
       "      <td>[[1, 102], [1300, 1501], [3297, 3497], [4494, ...</td>\n",
       "      <td>[[1, 102], [115, 153], [191, 245], [261, 263],...</td>\n",
       "      <td>[]</td>\n",
       "      <td>20240317_172017_long_comp_subj_4-2_and_4-3.1.v...</td>\n",
       "      <td>NaN</td>\n",
       "      <td>/scratch/back_up/reward_competition_extention/...</td>\n",
       "      <td>20240317_172017_long_comp_subj_4-2_t6b6_merged</td>\n",
       "      <td>4.2</td>\n",
       "      <td>...</td>\n",
       "      <td>[nan, nan, nan, nan, nan, nan, nan, nan, nan, ...</td>\n",
       "      <td>[nan, nan, nan, nan, nan, nan, nan, nan, nan, ...</td>\n",
       "      <td>[nan, nan, nan, nan, nan, nan, nan, nan, nan, ...</td>\n",
       "      <td>[nan, nan, nan, nan, nan, nan, nan, nan, nan, ...</td>\n",
       "      <td>[nan, nan, nan, nan, nan, nan, nan, nan, nan, ...</td>\n",
       "      <td>[nan, nan, nan, nan, nan, nan, nan, nan, nan, ...</td>\n",
       "      <td>[nan, nan, nan, nan, nan, nan, nan, nan, nan, ...</td>\n",
       "      <td>[nan, nan, nan, nan, nan, nan, nan, nan, nan, ...</td>\n",
       "      <td>[0.4865797, 0.17668664, 0.3953272, 0.3850444, ...</td>\n",
       "      <td>[0.41603407, 0.47507718, 0.42519438, 0.3442304...</td>\n",
       "    </tr>\n",
       "  </tbody>\n",
       "</table>\n",
       "<p>5 rows × 105 columns</p>\n",
       "</div>"
      ],
      "text/plain": [
       "        cohort                                 session_dir  \\\n",
       "0  rce_pilot_3  20240317_151922_long_comp_subj_3-1_and_3-3   \n",
       "1  rce_pilot_3  20240317_151922_long_comp_subj_3-1_and_3-3   \n",
       "2  rce_pilot_3  20240317_151922_long_comp_subj_3-1_and_3-3   \n",
       "3  rce_pilot_3  20240317_151922_long_comp_subj_3-1_and_3-3   \n",
       "4  rce_pilot_3  20240317_172017_long_comp_subj_4-2_and_4-3   \n",
       "\n",
       "                                         tone_frames  \\\n",
       "0  [[1, 88], [1286, 1486], [3282, 3482], [4480, 4...   \n",
       "1  [[2, 132], [1922, 2220], [4906, 5203], [6696, ...   \n",
       "2  [[1, 88], [1286, 1486], [3282, 3482], [4480, 4...   \n",
       "3  [[2, 132], [1922, 2220], [4906, 5203], [6696, ...   \n",
       "4  [[1, 102], [1300, 1501], [3297, 3497], [4494, ...   \n",
       "\n",
       "                             box_1_port_entry_frames box_2_port_entry_frames  \\\n",
       "0  [[1, 88], [259, 278], [310, 365], [366, 382], ...                      []   \n",
       "1  [[2, 132], [387, 415], [463, 546], [548, 571],...                      []   \n",
       "2  [[1, 88], [259, 278], [310, 365], [366, 382], ...                      []   \n",
       "3  [[2, 132], [387, 415], [463, 546], [548, 571],...                      []   \n",
       "4  [[1, 102], [115, 153], [191, 245], [261, 263],...                      []   \n",
       "\n",
       "                                          video_name notes  \\\n",
       "0  20240317_151922_long_comp_subj_3-1_and_3-3.1.v...   NaN   \n",
       "1  20240317_151922_long_comp_subj_3-1_and_3-3.2.v...   NaN   \n",
       "2  20240317_151922_long_comp_subj_3-1_and_3-3.1.v...   NaN   \n",
       "3  20240317_151922_long_comp_subj_3-1_and_3-3.2.v...   NaN   \n",
       "4  20240317_172017_long_comp_subj_4-2_and_4-3.1.v...   NaN   \n",
       "\n",
       "                                        session_path  \\\n",
       "0  /scratch/back_up/reward_competition_extention/...   \n",
       "1  /scratch/back_up/reward_competition_extention/...   \n",
       "2  /scratch/back_up/reward_competition_extention/...   \n",
       "3  /scratch/back_up/reward_competition_extention/...   \n",
       "4  /scratch/back_up/reward_competition_extention/...   \n",
       "\n",
       "                                        recording current_subject  ...  \\\n",
       "0  20240317_151922_long_comp_subj_3-1_t6b6_merged             3.1  ...   \n",
       "1  20240317_151922_long_comp_subj_3-1_t6b6_merged             3.1  ...   \n",
       "2  20240317_151922_long_comp_subj_3-3_t5b5_merged             3.3  ...   \n",
       "3  20240317_151922_long_comp_subj_3-3_t5b5_merged             3.3  ...   \n",
       "4  20240317_172017_long_comp_subj_4-2_t6b6_merged             4.2  ...   \n",
       "\n",
       "                             LH_mPFC_coherence_theta  \\\n",
       "0  [0.6199009, nan, nan, nan, nan, nan, 0.7190465...   \n",
       "1  [0.6199009, nan, nan, nan, nan, nan, 0.7190465...   \n",
       "2  [0.82404065, 0.8251563, 0.8670573, 0.8001956, ...   \n",
       "3  [0.82404065, 0.8251563, 0.8670573, 0.8001956, ...   \n",
       "4  [nan, nan, nan, nan, nan, nan, nan, nan, nan, ...   \n",
       "\n",
       "                             LH_mPFC_coherence_gamma  \\\n",
       "0  [0.4824039, nan, nan, nan, nan, nan, 0.3201964...   \n",
       "1  [0.4824039, nan, nan, nan, nan, nan, 0.3201964...   \n",
       "2  [0.69295216, 0.6436656, 0.53512263, 0.44921312...   \n",
       "3  [0.69295216, 0.6436656, 0.53512263, 0.44921312...   \n",
       "4  [nan, nan, nan, nan, nan, nan, nan, nan, nan, ...   \n",
       "\n",
       "                             LH_vHPC_coherence_theta  \\\n",
       "0  [0.24118073, nan, nan, nan, nan, nan, 0.509870...   \n",
       "1  [0.24118073, nan, nan, nan, nan, nan, 0.509870...   \n",
       "2  [0.73253983, 0.82799184, 0.7557261, 0.353088, ...   \n",
       "3  [0.73253983, 0.82799184, 0.7557261, 0.353088, ...   \n",
       "4  [nan, nan, nan, nan, nan, nan, nan, nan, nan, ...   \n",
       "\n",
       "                             LH_vHPC_coherence_gamma  \\\n",
       "0  [0.35312024, nan, nan, nan, nan, nan, 0.423012...   \n",
       "1  [0.35312024, nan, nan, nan, nan, nan, 0.423012...   \n",
       "2  [0.6078736, 0.54056174, 0.5845927, 0.41842666,...   \n",
       "3  [0.6078736, 0.54056174, 0.5845927, 0.41842666,...   \n",
       "4  [nan, nan, nan, nan, nan, nan, nan, nan, nan, ...   \n",
       "\n",
       "                             MD_mPFC_coherence_theta  \\\n",
       "0  [0.70054024, nan, nan, 0.7242584, 0.68935406, ...   \n",
       "1  [0.70054024, nan, nan, 0.7242584, 0.68935406, ...   \n",
       "2  [0.8340234, 0.9002462, 0.8425386, 0.69482654, ...   \n",
       "3  [0.8340234, 0.9002462, 0.8425386, 0.69482654, ...   \n",
       "4  [nan, nan, nan, nan, nan, nan, nan, nan, nan, ...   \n",
       "\n",
       "                             MD_mPFC_coherence_gamma  \\\n",
       "0  [0.4300425, nan, nan, 0.57167405, 0.50112396, ...   \n",
       "1  [0.4300425, nan, nan, 0.57167405, 0.50112396, ...   \n",
       "2  [0.6832412, 0.59949577, 0.5694806, 0.4314444, ...   \n",
       "3  [0.6832412, 0.59949577, 0.5694806, 0.4314444, ...   \n",
       "4  [nan, nan, nan, nan, nan, nan, nan, nan, nan, ...   \n",
       "\n",
       "                             MD_vHPC_coherence_theta  \\\n",
       "0  [0.3609763, nan, nan, 0.50976896, 0.50285643, ...   \n",
       "1  [0.3609763, nan, nan, 0.50976896, 0.50285643, ...   \n",
       "2  [0.6932799, 0.77787244, 0.70582354, 0.37044504...   \n",
       "3  [0.6932799, 0.77787244, 0.70582354, 0.37044504...   \n",
       "4  [nan, nan, nan, nan, nan, nan, nan, nan, nan, ...   \n",
       "\n",
       "                             MD_vHPC_coherence_gamma  \\\n",
       "0  [0.15037705, nan, nan, 0.3243009, 0.3042064, 0...   \n",
       "1  [0.15037705, nan, nan, 0.3243009, 0.3042064, 0...   \n",
       "2  [0.5074058, 0.5024076, 0.5942596, 0.5443486, 0...   \n",
       "3  [0.5074058, 0.5024076, 0.5942596, 0.5443486, 0...   \n",
       "4  [nan, nan, nan, nan, nan, nan, nan, nan, nan, ...   \n",
       "\n",
       "                           mPFC_vHPC_coherence_theta  \\\n",
       "0  [0.4029725, 0.16296464, 0.4309047, 0.40245545,...   \n",
       "1  [0.4029725, 0.16296464, 0.4309047, 0.40245545,...   \n",
       "2  [0.6331956, 0.7959172, 0.73796403, 0.5448313, ...   \n",
       "3  [0.6331956, 0.7959172, 0.73796403, 0.5448313, ...   \n",
       "4  [0.4865797, 0.17668664, 0.3953272, 0.3850444, ...   \n",
       "\n",
       "                           mPFC_vHPC_coherence_gamma  \n",
       "0  [0.31822205, 0.39309344, 0.37264958, 0.2815909...  \n",
       "1  [0.31822205, 0.39309344, 0.37264958, 0.2815909...  \n",
       "2  [0.47152033, 0.5181883, 0.49669346, 0.44575334...  \n",
       "3  [0.47152033, 0.5181883, 0.49669346, 0.44575334...  \n",
       "4  [0.41603407, 0.47507718, 0.42519438, 0.3442304...  \n",
       "\n",
       "[5 rows x 105 columns]"
      ]
     },
     "execution_count": 37,
     "metadata": {},
     "output_type": "execute_result"
    }
   ],
   "source": [
    "LFP_SPECTRAL_DF.head()"
   ]
  },
  {
   "cell_type": "code",
   "execution_count": 38,
   "metadata": {
    "tags": []
   },
   "outputs": [
    {
     "name": "stdout",
     "output_type": "stream",
     "text": [
      "cohort\n",
      "session_dir\n",
      "tone_frames\n",
      "box_1_port_entry_frames\n",
      "box_2_port_entry_frames\n",
      "video_name\n",
      "notes\n",
      "session_path\n",
      "recording\n",
      "current_subject\n",
      "subject\n",
      "all_subjects\n",
      "first_timestamp\n",
      "last_timestamp\n",
      "video_timestamps\n",
      "tone_timestamps\n",
      "box_1_port_entry_timestamps\n",
      "box_2_port_entry_timestamps\n",
      "lfp_timestamps\n",
      "vHPC_lfp_trace\n",
      "BLA_lfp_trace\n",
      "LH_lfp_trace\n",
      "MD_lfp_trace\n",
      "mPFC_lfp_trace\n",
      "vHPC_theta_band\n",
      "BLA_theta_band\n",
      "LH_theta_band\n",
      "MD_theta_band\n",
      "mPFC_theta_band\n",
      "vHPC_gamma_band\n",
      "BLA_gamma_band\n",
      "LH_gamma_band\n",
      "MD_gamma_band\n",
      "mPFC_gamma_band\n",
      "vHPC_theta_phase\n",
      "BLA_theta_phase\n",
      "LH_theta_phase\n",
      "MD_theta_phase\n",
      "mPFC_theta_phase\n",
      "vHPC_gamma_phase\n",
      "BLA_gamma_phase\n",
      "LH_gamma_phase\n",
      "MD_gamma_phase\n",
      "mPFC_gamma_phase\n",
      "vHPC_power_all_frequencies_all_windows\n",
      "BLA_power_all_frequencies_all_windows\n",
      "LH_power_all_frequencies_all_windows\n",
      "MD_power_all_frequencies_all_windows\n",
      "mPFC_power_all_frequencies_all_windows\n",
      "power_timestamps\n",
      "power_calculation_frequencies\n",
      "BLA_LH_coherence_all_frequencies_all_windows\n",
      "BLA_MD_coherence_all_frequencies_all_windows\n",
      "BLA_mPFC_coherence_all_frequencies_all_windows\n",
      "BLA_vHPC_coherence_all_frequencies_all_windows\n",
      "LH_MD_coherence_all_frequencies_all_windows\n",
      "LH_mPFC_coherence_all_frequencies_all_windows\n",
      "LH_vHPC_coherence_all_frequencies_all_windows\n",
      "MD_mPFC_coherence_all_frequencies_all_windows\n",
      "MD_vHPC_coherence_all_frequencies_all_windows\n",
      "mPFC_vHPC_coherence_all_frequencies_all_windows\n",
      "coherence_timestamps\n",
      "coherence_calculation_frequencies\n",
      "BLA_LH_granger_all_frequencies_all_windows\n",
      "LH_BLA_granger_all_frequencies_all_windows\n",
      "BLA_MD_granger_all_frequencies_all_windows\n",
      "MD_BLA_granger_all_frequencies_all_windows\n",
      "BLA_mPFC_granger_all_frequencies_all_windows\n",
      "mPFC_BLA_granger_all_frequencies_all_windows\n",
      "BLA_vHPC_granger_all_frequencies_all_windows\n",
      "vHPC_BLA_granger_all_frequencies_all_windows\n",
      "LH_MD_granger_all_frequencies_all_windows\n",
      "MD_LH_granger_all_frequencies_all_windows\n",
      "LH_mPFC_granger_all_frequencies_all_windows\n",
      "mPFC_LH_granger_all_frequencies_all_windows\n",
      "LH_vHPC_granger_all_frequencies_all_windows\n",
      "vHPC_LH_granger_all_frequencies_all_windows\n",
      "MD_mPFC_granger_all_frequencies_all_windows\n",
      "mPFC_MD_granger_all_frequencies_all_windows\n",
      "MD_vHPC_granger_all_frequencies_all_windows\n",
      "vHPC_MD_granger_all_frequencies_all_windows\n",
      "mPFC_vHPC_granger_all_frequencies_all_windows\n",
      "vHPC_mPFC_granger_all_frequencies_all_windows\n",
      "granger_timestamps\n",
      "granger_calculation_frequencies\n",
      "BLA_LH_coherence_theta\n",
      "BLA_LH_coherence_gamma\n",
      "BLA_MD_coherence_theta\n",
      "BLA_MD_coherence_gamma\n",
      "BLA_mPFC_coherence_theta\n",
      "BLA_mPFC_coherence_gamma\n",
      "BLA_vHPC_coherence_theta\n",
      "BLA_vHPC_coherence_gamma\n",
      "LH_MD_coherence_theta\n",
      "LH_MD_coherence_gamma\n",
      "LH_mPFC_coherence_theta\n",
      "LH_mPFC_coherence_gamma\n",
      "LH_vHPC_coherence_theta\n",
      "LH_vHPC_coherence_gamma\n",
      "MD_mPFC_coherence_theta\n",
      "MD_mPFC_coherence_gamma\n",
      "MD_vHPC_coherence_theta\n",
      "MD_vHPC_coherence_gamma\n",
      "mPFC_vHPC_coherence_theta\n",
      "mPFC_vHPC_coherence_gamma\n"
     ]
    }
   ],
   "source": [
    "for col in LFP_SPECTRAL_DF.columns:\n",
    "    print(col)"
   ]
  },
  {
   "cell_type": "markdown",
   "metadata": {},
   "source": [
    "- Filtering theta/gamma for granger"
   ]
  },
  {
   "cell_type": "code",
   "execution_count": 39,
   "metadata": {
    "tags": []
   },
   "outputs": [],
   "source": [
    "granger_columns = [col for col in LFP_SPECTRAL_DF.columns if \"granger\" in col and \"calculation\" not in col and \"time\" not in col]"
   ]
  },
  {
   "cell_type": "code",
   "execution_count": 40,
   "metadata": {
    "tags": []
   },
   "outputs": [
    {
     "data": {
      "text/plain": [
       "['BLA_LH_granger_all_frequencies_all_windows',\n",
       " 'LH_BLA_granger_all_frequencies_all_windows',\n",
       " 'BLA_MD_granger_all_frequencies_all_windows',\n",
       " 'MD_BLA_granger_all_frequencies_all_windows',\n",
       " 'BLA_mPFC_granger_all_frequencies_all_windows',\n",
       " 'mPFC_BLA_granger_all_frequencies_all_windows',\n",
       " 'BLA_vHPC_granger_all_frequencies_all_windows',\n",
       " 'vHPC_BLA_granger_all_frequencies_all_windows',\n",
       " 'LH_MD_granger_all_frequencies_all_windows',\n",
       " 'MD_LH_granger_all_frequencies_all_windows',\n",
       " 'LH_mPFC_granger_all_frequencies_all_windows',\n",
       " 'mPFC_LH_granger_all_frequencies_all_windows',\n",
       " 'LH_vHPC_granger_all_frequencies_all_windows',\n",
       " 'vHPC_LH_granger_all_frequencies_all_windows',\n",
       " 'MD_mPFC_granger_all_frequencies_all_windows',\n",
       " 'mPFC_MD_granger_all_frequencies_all_windows',\n",
       " 'MD_vHPC_granger_all_frequencies_all_windows',\n",
       " 'vHPC_MD_granger_all_frequencies_all_windows',\n",
       " 'mPFC_vHPC_granger_all_frequencies_all_windows',\n",
       " 'vHPC_mPFC_granger_all_frequencies_all_windows']"
      ]
     },
     "execution_count": 40,
     "metadata": {},
     "output_type": "execute_result"
    }
   ],
   "source": [
    "granger_columns"
   ]
  },
  {
   "cell_type": "code",
   "execution_count": 41,
   "metadata": {
    "tags": []
   },
   "outputs": [
    {
     "name": "stdout",
     "output_type": "stream",
     "text": [
      "BLA-to-LH\n",
      "LH-to-BLA\n",
      "BLA-to-MD\n",
      "MD-to-BLA\n",
      "BLA-to-mPFC\n",
      "mPFC-to-BLA\n",
      "BLA-to-vHPC\n",
      "vHPC-to-BLA\n",
      "LH-to-MD\n",
      "MD-to-LH\n",
      "LH-to-mPFC\n",
      "mPFC-to-LH\n",
      "LH-to-vHPC\n",
      "vHPC-to-LH\n",
      "MD-to-mPFC\n",
      "mPFC-to-MD\n",
      "MD-to-vHPC\n",
      "vHPC-to-MD\n",
      "mPFC-to-vHPC\n",
      "vHPC-to-mPFC\n"
     ]
    }
   ],
   "source": [
    "for col in granger_columns:\n",
    "    brain_region_name = \"-to-\".join(col.split(\"_\")[:2])\n",
    "    print(brain_region_name)\n",
    "    theta_granger_col = \"{}_granger_theta\".format(brain_region_name)\n",
    "    gamma_granger_col = \"{}_granger_gamma\".format(brain_region_name)\n",
    "    LFP_SPECTRAL_DF[\"{}\".format(theta_granger_col)] = LFP_SPECTRAL_DF.apply(lambda x: np.nanmean(x[col][:, (x[\"granger_calculation_frequencies\"] >= theta_band[0]) & (x[\"granger_calculation_frequencies\"] <= theta_band[1])], axis=1), axis=1)\n",
    "    LFP_SPECTRAL_DF[\"{}\".format(gamma_granger_col)] = LFP_SPECTRAL_DF.apply(lambda x: np.nanmean(x[col][:, (x[\"granger_calculation_frequencies\"] >= gamma_band[0]) & (x[\"granger_calculation_frequencies\"] <= gamma_band[1])], axis=1), axis=1)"
   ]
  },
  {
   "cell_type": "code",
   "execution_count": 42,
   "metadata": {
    "tags": []
   },
   "outputs": [
    {
     "data": {
      "text/html": [
       "<div>\n",
       "<style scoped>\n",
       "    .dataframe tbody tr th:only-of-type {\n",
       "        vertical-align: middle;\n",
       "    }\n",
       "\n",
       "    .dataframe tbody tr th {\n",
       "        vertical-align: top;\n",
       "    }\n",
       "\n",
       "    .dataframe thead th {\n",
       "        text-align: right;\n",
       "    }\n",
       "</style>\n",
       "<table border=\"1\" class=\"dataframe\">\n",
       "  <thead>\n",
       "    <tr style=\"text-align: right;\">\n",
       "      <th></th>\n",
       "      <th>cohort</th>\n",
       "      <th>session_dir</th>\n",
       "      <th>tone_frames</th>\n",
       "      <th>box_1_port_entry_frames</th>\n",
       "      <th>box_2_port_entry_frames</th>\n",
       "      <th>video_name</th>\n",
       "      <th>notes</th>\n",
       "      <th>session_path</th>\n",
       "      <th>recording</th>\n",
       "      <th>current_subject</th>\n",
       "      <th>...</th>\n",
       "      <th>mPFC-to-MD_granger_theta</th>\n",
       "      <th>mPFC-to-MD_granger_gamma</th>\n",
       "      <th>MD-to-vHPC_granger_theta</th>\n",
       "      <th>MD-to-vHPC_granger_gamma</th>\n",
       "      <th>vHPC-to-MD_granger_theta</th>\n",
       "      <th>vHPC-to-MD_granger_gamma</th>\n",
       "      <th>mPFC-to-vHPC_granger_theta</th>\n",
       "      <th>mPFC-to-vHPC_granger_gamma</th>\n",
       "      <th>vHPC-to-mPFC_granger_theta</th>\n",
       "      <th>vHPC-to-mPFC_granger_gamma</th>\n",
       "    </tr>\n",
       "  </thead>\n",
       "  <tbody>\n",
       "    <tr>\n",
       "      <th>0</th>\n",
       "      <td>rce_pilot_3</td>\n",
       "      <td>20240317_151922_long_comp_subj_3-1_and_3-3</td>\n",
       "      <td>[[1, 88], [1286, 1486], [3282, 3482], [4480, 4...</td>\n",
       "      <td>[[1, 88], [259, 278], [310, 365], [366, 382], ...</td>\n",
       "      <td>[]</td>\n",
       "      <td>20240317_151922_long_comp_subj_3-1_and_3-3.1.v...</td>\n",
       "      <td>NaN</td>\n",
       "      <td>/scratch/back_up/reward_competition_extention/...</td>\n",
       "      <td>20240317_151922_long_comp_subj_3-1_t6b6_merged</td>\n",
       "      <td>3.1</td>\n",
       "      <td>...</td>\n",
       "      <td>[0.55530393, nan, nan, 1.144514, 0.4849566, 1....</td>\n",
       "      <td>[0.43555573, nan, nan, 0.4677967, 0.28638032, ...</td>\n",
       "      <td>[0.21118473, nan, nan, 0.5874789, 0.5205787, 0...</td>\n",
       "      <td>[0.09165167, nan, nan, 0.43196425, 0.33087164,...</td>\n",
       "      <td>[0.4447786, nan, nan, 0.19807723, 0.29667133, ...</td>\n",
       "      <td>[0.15449163, nan, nan, 0.17275214, 0.29230323,...</td>\n",
       "      <td>[0.26188377, 0.28431654, 0.87577665, 0.5741280...</td>\n",
       "      <td>[0.32400984, 0.4826204, 0.49196243, 0.6095017,...</td>\n",
       "      <td>[0.47272158, 0.21452194, 0.193596, 0.3200296, ...</td>\n",
       "      <td>[0.21859355, 0.3514257, 0.40666527, 0.169144, ...</td>\n",
       "    </tr>\n",
       "    <tr>\n",
       "      <th>1</th>\n",
       "      <td>rce_pilot_3</td>\n",
       "      <td>20240317_151922_long_comp_subj_3-1_and_3-3</td>\n",
       "      <td>[[2, 132], [1922, 2220], [4906, 5203], [6696, ...</td>\n",
       "      <td>[[2, 132], [387, 415], [463, 546], [548, 571],...</td>\n",
       "      <td>[]</td>\n",
       "      <td>20240317_151922_long_comp_subj_3-1_and_3-3.2.v...</td>\n",
       "      <td>NaN</td>\n",
       "      <td>/scratch/back_up/reward_competition_extention/...</td>\n",
       "      <td>20240317_151922_long_comp_subj_3-1_t6b6_merged</td>\n",
       "      <td>3.1</td>\n",
       "      <td>...</td>\n",
       "      <td>[0.55530393, nan, nan, 1.144514, 0.4849566, 1....</td>\n",
       "      <td>[0.43555573, nan, nan, 0.4677967, 0.28638032, ...</td>\n",
       "      <td>[0.21118473, nan, nan, 0.5874789, 0.5205787, 0...</td>\n",
       "      <td>[0.09165167, nan, nan, 0.43196425, 0.33087164,...</td>\n",
       "      <td>[0.4447786, nan, nan, 0.19807723, 0.29667133, ...</td>\n",
       "      <td>[0.15449163, nan, nan, 0.17275214, 0.29230323,...</td>\n",
       "      <td>[0.26188377, 0.28431654, 0.87577665, 0.5741280...</td>\n",
       "      <td>[0.32400984, 0.4826204, 0.49196243, 0.6095017,...</td>\n",
       "      <td>[0.47272158, 0.21452194, 0.193596, 0.3200296, ...</td>\n",
       "      <td>[0.21859355, 0.3514257, 0.40666527, 0.169144, ...</td>\n",
       "    </tr>\n",
       "    <tr>\n",
       "      <th>2</th>\n",
       "      <td>rce_pilot_3</td>\n",
       "      <td>20240317_151922_long_comp_subj_3-1_and_3-3</td>\n",
       "      <td>[[1, 88], [1286, 1486], [3282, 3482], [4480, 4...</td>\n",
       "      <td>[[1, 88], [259, 278], [310, 365], [366, 382], ...</td>\n",
       "      <td>[]</td>\n",
       "      <td>20240317_151922_long_comp_subj_3-1_and_3-3.1.v...</td>\n",
       "      <td>NaN</td>\n",
       "      <td>/scratch/back_up/reward_competition_extention/...</td>\n",
       "      <td>20240317_151922_long_comp_subj_3-3_t5b5_merged</td>\n",
       "      <td>3.3</td>\n",
       "      <td>...</td>\n",
       "      <td>[0.29298076, 0.34389672, 0.10124099, 0.3364377...</td>\n",
       "      <td>[0.23826034, 0.31733543, 0.1894333, 0.23274863...</td>\n",
       "      <td>[0.6946653, 0.99855816, 0.8788032, 0.25746834,...</td>\n",
       "      <td>[0.42479968, 0.17542012, 0.31873545, 0.4310779...</td>\n",
       "      <td>[0.53250146, 0.65065455, 0.672333, 0.37134326,...</td>\n",
       "      <td>[0.2533988, 0.35809487, 0.45942515, 0.3916846,...</td>\n",
       "      <td>[0.700121, 0.6060421, 1.0413619, 0.55516905, 0...</td>\n",
       "      <td>[0.17148598, 0.55180275, 0.5668941, 0.45296097...</td>\n",
       "      <td>[0.22400546, 0.48265776, 0.40391633, 0.5957653...</td>\n",
       "      <td>[0.18092635, 0.2230971, 0.25372884, 0.28041154...</td>\n",
       "    </tr>\n",
       "    <tr>\n",
       "      <th>3</th>\n",
       "      <td>rce_pilot_3</td>\n",
       "      <td>20240317_151922_long_comp_subj_3-1_and_3-3</td>\n",
       "      <td>[[2, 132], [1922, 2220], [4906, 5203], [6696, ...</td>\n",
       "      <td>[[2, 132], [387, 415], [463, 546], [548, 571],...</td>\n",
       "      <td>[]</td>\n",
       "      <td>20240317_151922_long_comp_subj_3-1_and_3-3.2.v...</td>\n",
       "      <td>NaN</td>\n",
       "      <td>/scratch/back_up/reward_competition_extention/...</td>\n",
       "      <td>20240317_151922_long_comp_subj_3-3_t5b5_merged</td>\n",
       "      <td>3.3</td>\n",
       "      <td>...</td>\n",
       "      <td>[0.29298076, 0.34389672, 0.10124099, 0.3364377...</td>\n",
       "      <td>[0.23826034, 0.31733543, 0.1894333, 0.23274863...</td>\n",
       "      <td>[0.6946653, 0.99855816, 0.8788032, 0.25746834,...</td>\n",
       "      <td>[0.42479968, 0.17542012, 0.31873545, 0.4310779...</td>\n",
       "      <td>[0.53250146, 0.65065455, 0.672333, 0.37134326,...</td>\n",
       "      <td>[0.2533988, 0.35809487, 0.45942515, 0.3916846,...</td>\n",
       "      <td>[0.700121, 0.6060421, 1.0413619, 0.55516905, 0...</td>\n",
       "      <td>[0.17148598, 0.55180275, 0.5668941, 0.45296097...</td>\n",
       "      <td>[0.22400546, 0.48265776, 0.40391633, 0.5957653...</td>\n",
       "      <td>[0.18092635, 0.2230971, 0.25372884, 0.28041154...</td>\n",
       "    </tr>\n",
       "    <tr>\n",
       "      <th>4</th>\n",
       "      <td>rce_pilot_3</td>\n",
       "      <td>20240317_172017_long_comp_subj_4-2_and_4-3</td>\n",
       "      <td>[[1, 102], [1300, 1501], [3297, 3497], [4494, ...</td>\n",
       "      <td>[[1, 102], [115, 153], [191, 245], [261, 263],...</td>\n",
       "      <td>[]</td>\n",
       "      <td>20240317_172017_long_comp_subj_4-2_and_4-3.1.v...</td>\n",
       "      <td>NaN</td>\n",
       "      <td>/scratch/back_up/reward_competition_extention/...</td>\n",
       "      <td>20240317_172017_long_comp_subj_4-2_t6b6_merged</td>\n",
       "      <td>4.2</td>\n",
       "      <td>...</td>\n",
       "      <td>[nan, nan, nan, nan, nan, nan, nan, nan, nan, ...</td>\n",
       "      <td>[nan, nan, nan, nan, nan, nan, nan, nan, nan, ...</td>\n",
       "      <td>[nan, nan, nan, nan, nan, nan, nan, nan, nan, ...</td>\n",
       "      <td>[nan, nan, nan, nan, nan, nan, nan, nan, nan, ...</td>\n",
       "      <td>[nan, nan, nan, nan, nan, nan, nan, nan, nan, ...</td>\n",
       "      <td>[nan, nan, nan, nan, nan, nan, nan, nan, nan, ...</td>\n",
       "      <td>[0.2359814, 0.15030126, 0.19135155, 0.502207, ...</td>\n",
       "      <td>[0.3724934, 0.293823, 0.18084694, 0.13583039, ...</td>\n",
       "      <td>[1.0730355, 0.13993967, 0.5751139, 0.5292284, ...</td>\n",
       "      <td>[0.34380022, 0.41701967, 0.4784237, 0.30054238...</td>\n",
       "    </tr>\n",
       "  </tbody>\n",
       "</table>\n",
       "<p>5 rows × 145 columns</p>\n",
       "</div>"
      ],
      "text/plain": [
       "        cohort                                 session_dir  \\\n",
       "0  rce_pilot_3  20240317_151922_long_comp_subj_3-1_and_3-3   \n",
       "1  rce_pilot_3  20240317_151922_long_comp_subj_3-1_and_3-3   \n",
       "2  rce_pilot_3  20240317_151922_long_comp_subj_3-1_and_3-3   \n",
       "3  rce_pilot_3  20240317_151922_long_comp_subj_3-1_and_3-3   \n",
       "4  rce_pilot_3  20240317_172017_long_comp_subj_4-2_and_4-3   \n",
       "\n",
       "                                         tone_frames  \\\n",
       "0  [[1, 88], [1286, 1486], [3282, 3482], [4480, 4...   \n",
       "1  [[2, 132], [1922, 2220], [4906, 5203], [6696, ...   \n",
       "2  [[1, 88], [1286, 1486], [3282, 3482], [4480, 4...   \n",
       "3  [[2, 132], [1922, 2220], [4906, 5203], [6696, ...   \n",
       "4  [[1, 102], [1300, 1501], [3297, 3497], [4494, ...   \n",
       "\n",
       "                             box_1_port_entry_frames box_2_port_entry_frames  \\\n",
       "0  [[1, 88], [259, 278], [310, 365], [366, 382], ...                      []   \n",
       "1  [[2, 132], [387, 415], [463, 546], [548, 571],...                      []   \n",
       "2  [[1, 88], [259, 278], [310, 365], [366, 382], ...                      []   \n",
       "3  [[2, 132], [387, 415], [463, 546], [548, 571],...                      []   \n",
       "4  [[1, 102], [115, 153], [191, 245], [261, 263],...                      []   \n",
       "\n",
       "                                          video_name notes  \\\n",
       "0  20240317_151922_long_comp_subj_3-1_and_3-3.1.v...   NaN   \n",
       "1  20240317_151922_long_comp_subj_3-1_and_3-3.2.v...   NaN   \n",
       "2  20240317_151922_long_comp_subj_3-1_and_3-3.1.v...   NaN   \n",
       "3  20240317_151922_long_comp_subj_3-1_and_3-3.2.v...   NaN   \n",
       "4  20240317_172017_long_comp_subj_4-2_and_4-3.1.v...   NaN   \n",
       "\n",
       "                                        session_path  \\\n",
       "0  /scratch/back_up/reward_competition_extention/...   \n",
       "1  /scratch/back_up/reward_competition_extention/...   \n",
       "2  /scratch/back_up/reward_competition_extention/...   \n",
       "3  /scratch/back_up/reward_competition_extention/...   \n",
       "4  /scratch/back_up/reward_competition_extention/...   \n",
       "\n",
       "                                        recording current_subject  ...  \\\n",
       "0  20240317_151922_long_comp_subj_3-1_t6b6_merged             3.1  ...   \n",
       "1  20240317_151922_long_comp_subj_3-1_t6b6_merged             3.1  ...   \n",
       "2  20240317_151922_long_comp_subj_3-3_t5b5_merged             3.3  ...   \n",
       "3  20240317_151922_long_comp_subj_3-3_t5b5_merged             3.3  ...   \n",
       "4  20240317_172017_long_comp_subj_4-2_t6b6_merged             4.2  ...   \n",
       "\n",
       "                            mPFC-to-MD_granger_theta  \\\n",
       "0  [0.55530393, nan, nan, 1.144514, 0.4849566, 1....   \n",
       "1  [0.55530393, nan, nan, 1.144514, 0.4849566, 1....   \n",
       "2  [0.29298076, 0.34389672, 0.10124099, 0.3364377...   \n",
       "3  [0.29298076, 0.34389672, 0.10124099, 0.3364377...   \n",
       "4  [nan, nan, nan, nan, nan, nan, nan, nan, nan, ...   \n",
       "\n",
       "                            mPFC-to-MD_granger_gamma  \\\n",
       "0  [0.43555573, nan, nan, 0.4677967, 0.28638032, ...   \n",
       "1  [0.43555573, nan, nan, 0.4677967, 0.28638032, ...   \n",
       "2  [0.23826034, 0.31733543, 0.1894333, 0.23274863...   \n",
       "3  [0.23826034, 0.31733543, 0.1894333, 0.23274863...   \n",
       "4  [nan, nan, nan, nan, nan, nan, nan, nan, nan, ...   \n",
       "\n",
       "                            MD-to-vHPC_granger_theta  \\\n",
       "0  [0.21118473, nan, nan, 0.5874789, 0.5205787, 0...   \n",
       "1  [0.21118473, nan, nan, 0.5874789, 0.5205787, 0...   \n",
       "2  [0.6946653, 0.99855816, 0.8788032, 0.25746834,...   \n",
       "3  [0.6946653, 0.99855816, 0.8788032, 0.25746834,...   \n",
       "4  [nan, nan, nan, nan, nan, nan, nan, nan, nan, ...   \n",
       "\n",
       "                            MD-to-vHPC_granger_gamma  \\\n",
       "0  [0.09165167, nan, nan, 0.43196425, 0.33087164,...   \n",
       "1  [0.09165167, nan, nan, 0.43196425, 0.33087164,...   \n",
       "2  [0.42479968, 0.17542012, 0.31873545, 0.4310779...   \n",
       "3  [0.42479968, 0.17542012, 0.31873545, 0.4310779...   \n",
       "4  [nan, nan, nan, nan, nan, nan, nan, nan, nan, ...   \n",
       "\n",
       "                            vHPC-to-MD_granger_theta  \\\n",
       "0  [0.4447786, nan, nan, 0.19807723, 0.29667133, ...   \n",
       "1  [0.4447786, nan, nan, 0.19807723, 0.29667133, ...   \n",
       "2  [0.53250146, 0.65065455, 0.672333, 0.37134326,...   \n",
       "3  [0.53250146, 0.65065455, 0.672333, 0.37134326,...   \n",
       "4  [nan, nan, nan, nan, nan, nan, nan, nan, nan, ...   \n",
       "\n",
       "                            vHPC-to-MD_granger_gamma  \\\n",
       "0  [0.15449163, nan, nan, 0.17275214, 0.29230323,...   \n",
       "1  [0.15449163, nan, nan, 0.17275214, 0.29230323,...   \n",
       "2  [0.2533988, 0.35809487, 0.45942515, 0.3916846,...   \n",
       "3  [0.2533988, 0.35809487, 0.45942515, 0.3916846,...   \n",
       "4  [nan, nan, nan, nan, nan, nan, nan, nan, nan, ...   \n",
       "\n",
       "                          mPFC-to-vHPC_granger_theta  \\\n",
       "0  [0.26188377, 0.28431654, 0.87577665, 0.5741280...   \n",
       "1  [0.26188377, 0.28431654, 0.87577665, 0.5741280...   \n",
       "2  [0.700121, 0.6060421, 1.0413619, 0.55516905, 0...   \n",
       "3  [0.700121, 0.6060421, 1.0413619, 0.55516905, 0...   \n",
       "4  [0.2359814, 0.15030126, 0.19135155, 0.502207, ...   \n",
       "\n",
       "                          mPFC-to-vHPC_granger_gamma  \\\n",
       "0  [0.32400984, 0.4826204, 0.49196243, 0.6095017,...   \n",
       "1  [0.32400984, 0.4826204, 0.49196243, 0.6095017,...   \n",
       "2  [0.17148598, 0.55180275, 0.5668941, 0.45296097...   \n",
       "3  [0.17148598, 0.55180275, 0.5668941, 0.45296097...   \n",
       "4  [0.3724934, 0.293823, 0.18084694, 0.13583039, ...   \n",
       "\n",
       "                          vHPC-to-mPFC_granger_theta  \\\n",
       "0  [0.47272158, 0.21452194, 0.193596, 0.3200296, ...   \n",
       "1  [0.47272158, 0.21452194, 0.193596, 0.3200296, ...   \n",
       "2  [0.22400546, 0.48265776, 0.40391633, 0.5957653...   \n",
       "3  [0.22400546, 0.48265776, 0.40391633, 0.5957653...   \n",
       "4  [1.0730355, 0.13993967, 0.5751139, 0.5292284, ...   \n",
       "\n",
       "                          vHPC-to-mPFC_granger_gamma  \n",
       "0  [0.21859355, 0.3514257, 0.40666527, 0.169144, ...  \n",
       "1  [0.21859355, 0.3514257, 0.40666527, 0.169144, ...  \n",
       "2  [0.18092635, 0.2230971, 0.25372884, 0.28041154...  \n",
       "3  [0.18092635, 0.2230971, 0.25372884, 0.28041154...  \n",
       "4  [0.34380022, 0.41701967, 0.4784237, 0.30054238...  \n",
       "\n",
       "[5 rows x 145 columns]"
      ]
     },
     "execution_count": 42,
     "metadata": {},
     "output_type": "execute_result"
    }
   ],
   "source": [
    "LFP_SPECTRAL_DF.head()"
   ]
  },
  {
   "cell_type": "markdown",
   "metadata": {},
   "source": [
    "- Filtering theta/gamma for power"
   ]
  },
  {
   "cell_type": "code",
   "execution_count": 43,
   "metadata": {
    "tags": []
   },
   "outputs": [],
   "source": [
    "power_columns = [col for col in LFP_SPECTRAL_DF.columns if \"power\" in col and \"calculation\" not in col and \"time\" not in col]"
   ]
  },
  {
   "cell_type": "code",
   "execution_count": 44,
   "metadata": {
    "tags": []
   },
   "outputs": [
    {
     "data": {
      "text/plain": [
       "['vHPC_power_all_frequencies_all_windows',\n",
       " 'BLA_power_all_frequencies_all_windows',\n",
       " 'LH_power_all_frequencies_all_windows',\n",
       " 'MD_power_all_frequencies_all_windows',\n",
       " 'mPFC_power_all_frequencies_all_windows']"
      ]
     },
     "execution_count": 44,
     "metadata": {},
     "output_type": "execute_result"
    }
   ],
   "source": [
    "power_columns"
   ]
  },
  {
   "cell_type": "code",
   "execution_count": 45,
   "metadata": {
    "tags": []
   },
   "outputs": [
    {
     "data": {
      "text/plain": [
       "array([False, False, False, False,  True,  True,  True,  True,  True,\n",
       "        True,  True,  True,  True, False, False, False, False, False,\n",
       "       False, False, False, False, False, False, False, False, False,\n",
       "       False, False, False, False, False, False, False, False, False,\n",
       "       False, False, False, False, False, False, False, False, False,\n",
       "       False, False, False, False, False, False, False, False, False,\n",
       "       False, False])"
      ]
     },
     "execution_count": 45,
     "metadata": {},
     "output_type": "execute_result"
    }
   ],
   "source": [
    "LFP_SPECTRAL_DF[\"power_calculation_frequencies\"].apply(lambda x: (x >= theta_band[0]) & (x <= theta_band[1])).iloc[0]"
   ]
  },
  {
   "cell_type": "code",
   "execution_count": 46,
   "metadata": {
    "tags": []
   },
   "outputs": [
    {
     "name": "stdout",
     "output_type": "stream",
     "text": [
      "vHPC\n",
      "BLA\n",
      "LH\n",
      "MD\n",
      "mPFC\n"
     ]
    }
   ],
   "source": [
    "for col in power_columns:\n",
    "    # brain_region_name = col.split(\"_\")[0]\n",
    "    brain_region_name = col.split(\"power\")[0]\n",
    "    brain_region_name = brain_region_name.strip(\"_\")\n",
    "    print(brain_region_name)\n",
    "    theta_power_col = \"{}_power_theta\".format(brain_region_name)\n",
    "    gamma_power_col = \"{}_power_gamma\".format(brain_region_name)\n",
    "    LFP_SPECTRAL_DF[\"{}\".format(theta_power_col)] = LFP_SPECTRAL_DF.apply(lambda x: np.nanmean(x[col][:, (x[\"power_calculation_frequencies\"] >= theta_band[0]) & (x[\"power_calculation_frequencies\"] <= theta_band[1])], axis=1), axis=1)\n",
    "    LFP_SPECTRAL_DF[\"{}\".format(gamma_power_col)] = LFP_SPECTRAL_DF.apply(lambda x: np.nanmean(x[col][:, (x[\"power_calculation_frequencies\"] >= gamma_band[0]) & (x[\"power_calculation_frequencies\"] <= gamma_band[1])], axis=1), axis=1)"
   ]
  },
  {
   "cell_type": "code",
   "execution_count": 47,
   "metadata": {
    "tags": []
   },
   "outputs": [
    {
     "data": {
      "text/html": [
       "<div>\n",
       "<style scoped>\n",
       "    .dataframe tbody tr th:only-of-type {\n",
       "        vertical-align: middle;\n",
       "    }\n",
       "\n",
       "    .dataframe tbody tr th {\n",
       "        vertical-align: top;\n",
       "    }\n",
       "\n",
       "    .dataframe thead th {\n",
       "        text-align: right;\n",
       "    }\n",
       "</style>\n",
       "<table border=\"1\" class=\"dataframe\">\n",
       "  <thead>\n",
       "    <tr style=\"text-align: right;\">\n",
       "      <th></th>\n",
       "      <th>cohort</th>\n",
       "      <th>session_dir</th>\n",
       "      <th>tone_frames</th>\n",
       "      <th>box_1_port_entry_frames</th>\n",
       "      <th>box_2_port_entry_frames</th>\n",
       "      <th>video_name</th>\n",
       "      <th>notes</th>\n",
       "      <th>session_path</th>\n",
       "      <th>recording</th>\n",
       "      <th>current_subject</th>\n",
       "      <th>...</th>\n",
       "      <th>vHPC_power_theta</th>\n",
       "      <th>vHPC_power_gamma</th>\n",
       "      <th>BLA_power_theta</th>\n",
       "      <th>BLA_power_gamma</th>\n",
       "      <th>LH_power_theta</th>\n",
       "      <th>LH_power_gamma</th>\n",
       "      <th>MD_power_theta</th>\n",
       "      <th>MD_power_gamma</th>\n",
       "      <th>mPFC_power_theta</th>\n",
       "      <th>mPFC_power_gamma</th>\n",
       "    </tr>\n",
       "  </thead>\n",
       "  <tbody>\n",
       "    <tr>\n",
       "      <th>0</th>\n",
       "      <td>rce_pilot_3</td>\n",
       "      <td>20240317_151922_long_comp_subj_3-1_and_3-3</td>\n",
       "      <td>[[1, 88], [1286, 1486], [3282, 3482], [4480, 4...</td>\n",
       "      <td>[[1, 88], [259, 278], [310, 365], [366, 382], ...</td>\n",
       "      <td>[]</td>\n",
       "      <td>20240317_151922_long_comp_subj_3-1_and_3-3.1.v...</td>\n",
       "      <td>NaN</td>\n",
       "      <td>/scratch/back_up/reward_competition_extention/...</td>\n",
       "      <td>20240317_151922_long_comp_subj_3-1_t6b6_merged</td>\n",
       "      <td>3.1</td>\n",
       "      <td>...</td>\n",
       "      <td>[0.029989537, 0.05074093, 0.045202438, 0.03654...</td>\n",
       "      <td>[0.0021393485, 0.001990721, 0.0016591972, 0.00...</td>\n",
       "      <td>[0.01576374, 0.017160619, nan, nan, 0.01513487...</td>\n",
       "      <td>[0.0029858148, 0.0055226046, nan, nan, 0.00234...</td>\n",
       "      <td>[0.014374395, nan, nan, nan, nan, nan, 0.02792...</td>\n",
       "      <td>[0.0015033478, nan, nan, nan, nan, nan, 0.0011...</td>\n",
       "      <td>[0.015749235, nan, nan, 0.013588659, 0.0394984...</td>\n",
       "      <td>[0.0012602397, nan, nan, 0.0016373609, 0.00110...</td>\n",
       "      <td>[0.02549853, 0.01599767, 0.019950056, 0.041470...</td>\n",
       "      <td>[0.0018852353, 0.0019809369, 0.0013036462, 0.0...</td>\n",
       "    </tr>\n",
       "    <tr>\n",
       "      <th>1</th>\n",
       "      <td>rce_pilot_3</td>\n",
       "      <td>20240317_151922_long_comp_subj_3-1_and_3-3</td>\n",
       "      <td>[[2, 132], [1922, 2220], [4906, 5203], [6696, ...</td>\n",
       "      <td>[[2, 132], [387, 415], [463, 546], [548, 571],...</td>\n",
       "      <td>[]</td>\n",
       "      <td>20240317_151922_long_comp_subj_3-1_and_3-3.2.v...</td>\n",
       "      <td>NaN</td>\n",
       "      <td>/scratch/back_up/reward_competition_extention/...</td>\n",
       "      <td>20240317_151922_long_comp_subj_3-1_t6b6_merged</td>\n",
       "      <td>3.1</td>\n",
       "      <td>...</td>\n",
       "      <td>[0.029989537, 0.05074093, 0.045202438, 0.03654...</td>\n",
       "      <td>[0.0021393485, 0.001990721, 0.0016591972, 0.00...</td>\n",
       "      <td>[0.01576374, 0.017160619, nan, nan, 0.01513487...</td>\n",
       "      <td>[0.0029858148, 0.0055226046, nan, nan, 0.00234...</td>\n",
       "      <td>[0.014374395, nan, nan, nan, nan, nan, 0.02792...</td>\n",
       "      <td>[0.0015033478, nan, nan, nan, nan, nan, 0.0011...</td>\n",
       "      <td>[0.015749235, nan, nan, 0.013588659, 0.0394984...</td>\n",
       "      <td>[0.0012602397, nan, nan, 0.0016373609, 0.00110...</td>\n",
       "      <td>[0.02549853, 0.01599767, 0.019950056, 0.041470...</td>\n",
       "      <td>[0.0018852353, 0.0019809369, 0.0013036462, 0.0...</td>\n",
       "    </tr>\n",
       "    <tr>\n",
       "      <th>2</th>\n",
       "      <td>rce_pilot_3</td>\n",
       "      <td>20240317_151922_long_comp_subj_3-1_and_3-3</td>\n",
       "      <td>[[1, 88], [1286, 1486], [3282, 3482], [4480, 4...</td>\n",
       "      <td>[[1, 88], [259, 278], [310, 365], [366, 382], ...</td>\n",
       "      <td>[]</td>\n",
       "      <td>20240317_151922_long_comp_subj_3-1_and_3-3.1.v...</td>\n",
       "      <td>NaN</td>\n",
       "      <td>/scratch/back_up/reward_competition_extention/...</td>\n",
       "      <td>20240317_151922_long_comp_subj_3-3_t5b5_merged</td>\n",
       "      <td>3.3</td>\n",
       "      <td>...</td>\n",
       "      <td>[0.030139383, 0.038337562, 0.035997633, 0.0163...</td>\n",
       "      <td>[0.0013218134, 0.001314961, 0.0014802001, 0.00...</td>\n",
       "      <td>[0.035382226, 0.031998232, 0.029764285, 0.0189...</td>\n",
       "      <td>[0.0013072899, 0.0012992765, 0.0010765253, 0.0...</td>\n",
       "      <td>[0.03857511, 0.028973801, 0.029779362, 0.02279...</td>\n",
       "      <td>[0.0009867165, 0.0008933175, 0.00090869045, 0....</td>\n",
       "      <td>[0.01698081, 0.014525875, 0.015493691, 0.01093...</td>\n",
       "      <td>[0.0012375844, 0.0010923791, 0.0008535082, 0.0...</td>\n",
       "      <td>[0.020940535, 0.027591836, 0.029557036, 0.0211...</td>\n",
       "      <td>[0.0014317904, 0.0010592391, 0.0012028972, 0.0...</td>\n",
       "    </tr>\n",
       "    <tr>\n",
       "      <th>3</th>\n",
       "      <td>rce_pilot_3</td>\n",
       "      <td>20240317_151922_long_comp_subj_3-1_and_3-3</td>\n",
       "      <td>[[2, 132], [1922, 2220], [4906, 5203], [6696, ...</td>\n",
       "      <td>[[2, 132], [387, 415], [463, 546], [548, 571],...</td>\n",
       "      <td>[]</td>\n",
       "      <td>20240317_151922_long_comp_subj_3-1_and_3-3.2.v...</td>\n",
       "      <td>NaN</td>\n",
       "      <td>/scratch/back_up/reward_competition_extention/...</td>\n",
       "      <td>20240317_151922_long_comp_subj_3-3_t5b5_merged</td>\n",
       "      <td>3.3</td>\n",
       "      <td>...</td>\n",
       "      <td>[0.030139383, 0.038337562, 0.035997633, 0.0163...</td>\n",
       "      <td>[0.0013218134, 0.001314961, 0.0014802001, 0.00...</td>\n",
       "      <td>[0.035382226, 0.031998232, 0.029764285, 0.0189...</td>\n",
       "      <td>[0.0013072899, 0.0012992765, 0.0010765253, 0.0...</td>\n",
       "      <td>[0.03857511, 0.028973801, 0.029779362, 0.02279...</td>\n",
       "      <td>[0.0009867165, 0.0008933175, 0.00090869045, 0....</td>\n",
       "      <td>[0.01698081, 0.014525875, 0.015493691, 0.01093...</td>\n",
       "      <td>[0.0012375844, 0.0010923791, 0.0008535082, 0.0...</td>\n",
       "      <td>[0.020940535, 0.027591836, 0.029557036, 0.0211...</td>\n",
       "      <td>[0.0014317904, 0.0010592391, 0.0012028972, 0.0...</td>\n",
       "    </tr>\n",
       "    <tr>\n",
       "      <th>4</th>\n",
       "      <td>rce_pilot_3</td>\n",
       "      <td>20240317_172017_long_comp_subj_4-2_and_4-3</td>\n",
       "      <td>[[1, 102], [1300, 1501], [3297, 3497], [4494, ...</td>\n",
       "      <td>[[1, 102], [115, 153], [191, 245], [261, 263],...</td>\n",
       "      <td>[]</td>\n",
       "      <td>20240317_172017_long_comp_subj_4-2_and_4-3.1.v...</td>\n",
       "      <td>NaN</td>\n",
       "      <td>/scratch/back_up/reward_competition_extention/...</td>\n",
       "      <td>20240317_172017_long_comp_subj_4-2_t6b6_merged</td>\n",
       "      <td>4.2</td>\n",
       "      <td>...</td>\n",
       "      <td>[0.028422035, 0.01407221, 0.023395533, 0.02382...</td>\n",
       "      <td>[0.0036248525, 0.004009613, 0.0021644833, 0.00...</td>\n",
       "      <td>[0.045641977, 0.046155874, 0.029715423, 0.0361...</td>\n",
       "      <td>[0.0026258836, 0.0029411335, 0.004551022, 0.00...</td>\n",
       "      <td>[nan, nan, nan, nan, nan, nan, nan, nan, nan, ...</td>\n",
       "      <td>[nan, nan, nan, nan, nan, nan, nan, nan, nan, ...</td>\n",
       "      <td>[nan, nan, nan, nan, nan, nan, nan, nan, nan, ...</td>\n",
       "      <td>[nan, nan, nan, nan, nan, nan, nan, nan, nan, ...</td>\n",
       "      <td>[0.03796135, 0.033379465, 0.020905837, 0.03186...</td>\n",
       "      <td>[0.001795531, 0.0019260239, 0.0023288091, 0.00...</td>\n",
       "    </tr>\n",
       "  </tbody>\n",
       "</table>\n",
       "<p>5 rows × 155 columns</p>\n",
       "</div>"
      ],
      "text/plain": [
       "        cohort                                 session_dir  \\\n",
       "0  rce_pilot_3  20240317_151922_long_comp_subj_3-1_and_3-3   \n",
       "1  rce_pilot_3  20240317_151922_long_comp_subj_3-1_and_3-3   \n",
       "2  rce_pilot_3  20240317_151922_long_comp_subj_3-1_and_3-3   \n",
       "3  rce_pilot_3  20240317_151922_long_comp_subj_3-1_and_3-3   \n",
       "4  rce_pilot_3  20240317_172017_long_comp_subj_4-2_and_4-3   \n",
       "\n",
       "                                         tone_frames  \\\n",
       "0  [[1, 88], [1286, 1486], [3282, 3482], [4480, 4...   \n",
       "1  [[2, 132], [1922, 2220], [4906, 5203], [6696, ...   \n",
       "2  [[1, 88], [1286, 1486], [3282, 3482], [4480, 4...   \n",
       "3  [[2, 132], [1922, 2220], [4906, 5203], [6696, ...   \n",
       "4  [[1, 102], [1300, 1501], [3297, 3497], [4494, ...   \n",
       "\n",
       "                             box_1_port_entry_frames box_2_port_entry_frames  \\\n",
       "0  [[1, 88], [259, 278], [310, 365], [366, 382], ...                      []   \n",
       "1  [[2, 132], [387, 415], [463, 546], [548, 571],...                      []   \n",
       "2  [[1, 88], [259, 278], [310, 365], [366, 382], ...                      []   \n",
       "3  [[2, 132], [387, 415], [463, 546], [548, 571],...                      []   \n",
       "4  [[1, 102], [115, 153], [191, 245], [261, 263],...                      []   \n",
       "\n",
       "                                          video_name notes  \\\n",
       "0  20240317_151922_long_comp_subj_3-1_and_3-3.1.v...   NaN   \n",
       "1  20240317_151922_long_comp_subj_3-1_and_3-3.2.v...   NaN   \n",
       "2  20240317_151922_long_comp_subj_3-1_and_3-3.1.v...   NaN   \n",
       "3  20240317_151922_long_comp_subj_3-1_and_3-3.2.v...   NaN   \n",
       "4  20240317_172017_long_comp_subj_4-2_and_4-3.1.v...   NaN   \n",
       "\n",
       "                                        session_path  \\\n",
       "0  /scratch/back_up/reward_competition_extention/...   \n",
       "1  /scratch/back_up/reward_competition_extention/...   \n",
       "2  /scratch/back_up/reward_competition_extention/...   \n",
       "3  /scratch/back_up/reward_competition_extention/...   \n",
       "4  /scratch/back_up/reward_competition_extention/...   \n",
       "\n",
       "                                        recording current_subject  ...  \\\n",
       "0  20240317_151922_long_comp_subj_3-1_t6b6_merged             3.1  ...   \n",
       "1  20240317_151922_long_comp_subj_3-1_t6b6_merged             3.1  ...   \n",
       "2  20240317_151922_long_comp_subj_3-3_t5b5_merged             3.3  ...   \n",
       "3  20240317_151922_long_comp_subj_3-3_t5b5_merged             3.3  ...   \n",
       "4  20240317_172017_long_comp_subj_4-2_t6b6_merged             4.2  ...   \n",
       "\n",
       "                                    vHPC_power_theta  \\\n",
       "0  [0.029989537, 0.05074093, 0.045202438, 0.03654...   \n",
       "1  [0.029989537, 0.05074093, 0.045202438, 0.03654...   \n",
       "2  [0.030139383, 0.038337562, 0.035997633, 0.0163...   \n",
       "3  [0.030139383, 0.038337562, 0.035997633, 0.0163...   \n",
       "4  [0.028422035, 0.01407221, 0.023395533, 0.02382...   \n",
       "\n",
       "                                    vHPC_power_gamma  \\\n",
       "0  [0.0021393485, 0.001990721, 0.0016591972, 0.00...   \n",
       "1  [0.0021393485, 0.001990721, 0.0016591972, 0.00...   \n",
       "2  [0.0013218134, 0.001314961, 0.0014802001, 0.00...   \n",
       "3  [0.0013218134, 0.001314961, 0.0014802001, 0.00...   \n",
       "4  [0.0036248525, 0.004009613, 0.0021644833, 0.00...   \n",
       "\n",
       "                                     BLA_power_theta  \\\n",
       "0  [0.01576374, 0.017160619, nan, nan, 0.01513487...   \n",
       "1  [0.01576374, 0.017160619, nan, nan, 0.01513487...   \n",
       "2  [0.035382226, 0.031998232, 0.029764285, 0.0189...   \n",
       "3  [0.035382226, 0.031998232, 0.029764285, 0.0189...   \n",
       "4  [0.045641977, 0.046155874, 0.029715423, 0.0361...   \n",
       "\n",
       "                                     BLA_power_gamma  \\\n",
       "0  [0.0029858148, 0.0055226046, nan, nan, 0.00234...   \n",
       "1  [0.0029858148, 0.0055226046, nan, nan, 0.00234...   \n",
       "2  [0.0013072899, 0.0012992765, 0.0010765253, 0.0...   \n",
       "3  [0.0013072899, 0.0012992765, 0.0010765253, 0.0...   \n",
       "4  [0.0026258836, 0.0029411335, 0.004551022, 0.00...   \n",
       "\n",
       "                                      LH_power_theta  \\\n",
       "0  [0.014374395, nan, nan, nan, nan, nan, 0.02792...   \n",
       "1  [0.014374395, nan, nan, nan, nan, nan, 0.02792...   \n",
       "2  [0.03857511, 0.028973801, 0.029779362, 0.02279...   \n",
       "3  [0.03857511, 0.028973801, 0.029779362, 0.02279...   \n",
       "4  [nan, nan, nan, nan, nan, nan, nan, nan, nan, ...   \n",
       "\n",
       "                                      LH_power_gamma  \\\n",
       "0  [0.0015033478, nan, nan, nan, nan, nan, 0.0011...   \n",
       "1  [0.0015033478, nan, nan, nan, nan, nan, 0.0011...   \n",
       "2  [0.0009867165, 0.0008933175, 0.00090869045, 0....   \n",
       "3  [0.0009867165, 0.0008933175, 0.00090869045, 0....   \n",
       "4  [nan, nan, nan, nan, nan, nan, nan, nan, nan, ...   \n",
       "\n",
       "                                      MD_power_theta  \\\n",
       "0  [0.015749235, nan, nan, 0.013588659, 0.0394984...   \n",
       "1  [0.015749235, nan, nan, 0.013588659, 0.0394984...   \n",
       "2  [0.01698081, 0.014525875, 0.015493691, 0.01093...   \n",
       "3  [0.01698081, 0.014525875, 0.015493691, 0.01093...   \n",
       "4  [nan, nan, nan, nan, nan, nan, nan, nan, nan, ...   \n",
       "\n",
       "                                      MD_power_gamma  \\\n",
       "0  [0.0012602397, nan, nan, 0.0016373609, 0.00110...   \n",
       "1  [0.0012602397, nan, nan, 0.0016373609, 0.00110...   \n",
       "2  [0.0012375844, 0.0010923791, 0.0008535082, 0.0...   \n",
       "3  [0.0012375844, 0.0010923791, 0.0008535082, 0.0...   \n",
       "4  [nan, nan, nan, nan, nan, nan, nan, nan, nan, ...   \n",
       "\n",
       "                                    mPFC_power_theta  \\\n",
       "0  [0.02549853, 0.01599767, 0.019950056, 0.041470...   \n",
       "1  [0.02549853, 0.01599767, 0.019950056, 0.041470...   \n",
       "2  [0.020940535, 0.027591836, 0.029557036, 0.0211...   \n",
       "3  [0.020940535, 0.027591836, 0.029557036, 0.0211...   \n",
       "4  [0.03796135, 0.033379465, 0.020905837, 0.03186...   \n",
       "\n",
       "                                    mPFC_power_gamma  \n",
       "0  [0.0018852353, 0.0019809369, 0.0013036462, 0.0...  \n",
       "1  [0.0018852353, 0.0019809369, 0.0013036462, 0.0...  \n",
       "2  [0.0014317904, 0.0010592391, 0.0012028972, 0.0...  \n",
       "3  [0.0014317904, 0.0010592391, 0.0012028972, 0.0...  \n",
       "4  [0.001795531, 0.0019260239, 0.0023288091, 0.00...  \n",
       "\n",
       "[5 rows x 155 columns]"
      ]
     },
     "execution_count": 47,
     "metadata": {},
     "output_type": "execute_result"
    }
   ],
   "source": [
    "LFP_SPECTRAL_DF.head()"
   ]
  },
  {
   "cell_type": "code",
   "execution_count": 48,
   "metadata": {
    "tags": []
   },
   "outputs": [],
   "source": [
    "LFP_SPECTRAL_DF.to_pickle(os.path.join(OUTPUT_DIR, FULL_LFP_TRACES_PKL))"
   ]
  },
  {
   "cell_type": "code",
   "execution_count": 49,
   "metadata": {
    "tags": []
   },
   "outputs": [
    {
     "name": "stdout",
     "output_type": "stream",
     "text": [
      "cohort\n",
      "session_dir\n",
      "tone_frames\n",
      "box_1_port_entry_frames\n",
      "box_2_port_entry_frames\n",
      "video_name\n",
      "notes\n",
      "session_path\n",
      "recording\n",
      "current_subject\n",
      "subject\n",
      "all_subjects\n",
      "first_timestamp\n",
      "last_timestamp\n",
      "video_timestamps\n",
      "tone_timestamps\n",
      "box_1_port_entry_timestamps\n",
      "box_2_port_entry_timestamps\n",
      "lfp_timestamps\n",
      "vHPC_lfp_trace\n",
      "BLA_lfp_trace\n",
      "LH_lfp_trace\n",
      "MD_lfp_trace\n",
      "mPFC_lfp_trace\n",
      "vHPC_theta_band\n",
      "BLA_theta_band\n",
      "LH_theta_band\n",
      "MD_theta_band\n",
      "mPFC_theta_band\n",
      "vHPC_gamma_band\n",
      "BLA_gamma_band\n",
      "LH_gamma_band\n",
      "MD_gamma_band\n",
      "mPFC_gamma_band\n",
      "vHPC_theta_phase\n",
      "BLA_theta_phase\n",
      "LH_theta_phase\n",
      "MD_theta_phase\n",
      "mPFC_theta_phase\n",
      "vHPC_gamma_phase\n",
      "BLA_gamma_phase\n",
      "LH_gamma_phase\n",
      "MD_gamma_phase\n",
      "mPFC_gamma_phase\n",
      "vHPC_power_all_frequencies_all_windows\n",
      "BLA_power_all_frequencies_all_windows\n",
      "LH_power_all_frequencies_all_windows\n",
      "MD_power_all_frequencies_all_windows\n",
      "mPFC_power_all_frequencies_all_windows\n",
      "power_timestamps\n",
      "power_calculation_frequencies\n",
      "BLA_LH_coherence_all_frequencies_all_windows\n",
      "BLA_MD_coherence_all_frequencies_all_windows\n",
      "BLA_mPFC_coherence_all_frequencies_all_windows\n",
      "BLA_vHPC_coherence_all_frequencies_all_windows\n",
      "LH_MD_coherence_all_frequencies_all_windows\n",
      "LH_mPFC_coherence_all_frequencies_all_windows\n",
      "LH_vHPC_coherence_all_frequencies_all_windows\n",
      "MD_mPFC_coherence_all_frequencies_all_windows\n",
      "MD_vHPC_coherence_all_frequencies_all_windows\n",
      "mPFC_vHPC_coherence_all_frequencies_all_windows\n",
      "coherence_timestamps\n",
      "coherence_calculation_frequencies\n",
      "BLA_LH_granger_all_frequencies_all_windows\n",
      "LH_BLA_granger_all_frequencies_all_windows\n",
      "BLA_MD_granger_all_frequencies_all_windows\n",
      "MD_BLA_granger_all_frequencies_all_windows\n",
      "BLA_mPFC_granger_all_frequencies_all_windows\n",
      "mPFC_BLA_granger_all_frequencies_all_windows\n",
      "BLA_vHPC_granger_all_frequencies_all_windows\n",
      "vHPC_BLA_granger_all_frequencies_all_windows\n",
      "LH_MD_granger_all_frequencies_all_windows\n",
      "MD_LH_granger_all_frequencies_all_windows\n",
      "LH_mPFC_granger_all_frequencies_all_windows\n",
      "mPFC_LH_granger_all_frequencies_all_windows\n",
      "LH_vHPC_granger_all_frequencies_all_windows\n",
      "vHPC_LH_granger_all_frequencies_all_windows\n",
      "MD_mPFC_granger_all_frequencies_all_windows\n",
      "mPFC_MD_granger_all_frequencies_all_windows\n",
      "MD_vHPC_granger_all_frequencies_all_windows\n",
      "vHPC_MD_granger_all_frequencies_all_windows\n",
      "mPFC_vHPC_granger_all_frequencies_all_windows\n",
      "vHPC_mPFC_granger_all_frequencies_all_windows\n",
      "granger_timestamps\n",
      "granger_calculation_frequencies\n",
      "BLA_LH_coherence_theta\n",
      "BLA_LH_coherence_gamma\n",
      "BLA_MD_coherence_theta\n",
      "BLA_MD_coherence_gamma\n",
      "BLA_mPFC_coherence_theta\n",
      "BLA_mPFC_coherence_gamma\n",
      "BLA_vHPC_coherence_theta\n",
      "BLA_vHPC_coherence_gamma\n",
      "LH_MD_coherence_theta\n",
      "LH_MD_coherence_gamma\n",
      "LH_mPFC_coherence_theta\n",
      "LH_mPFC_coherence_gamma\n",
      "LH_vHPC_coherence_theta\n",
      "LH_vHPC_coherence_gamma\n",
      "MD_mPFC_coherence_theta\n",
      "MD_mPFC_coherence_gamma\n",
      "MD_vHPC_coherence_theta\n",
      "MD_vHPC_coherence_gamma\n",
      "mPFC_vHPC_coherence_theta\n",
      "mPFC_vHPC_coherence_gamma\n",
      "BLA-to-LH_granger_theta\n",
      "BLA-to-LH_granger_gamma\n",
      "LH-to-BLA_granger_theta\n",
      "LH-to-BLA_granger_gamma\n",
      "BLA-to-MD_granger_theta\n",
      "BLA-to-MD_granger_gamma\n",
      "MD-to-BLA_granger_theta\n",
      "MD-to-BLA_granger_gamma\n",
      "BLA-to-mPFC_granger_theta\n",
      "BLA-to-mPFC_granger_gamma\n",
      "mPFC-to-BLA_granger_theta\n",
      "mPFC-to-BLA_granger_gamma\n",
      "BLA-to-vHPC_granger_theta\n",
      "BLA-to-vHPC_granger_gamma\n",
      "vHPC-to-BLA_granger_theta\n",
      "vHPC-to-BLA_granger_gamma\n",
      "LH-to-MD_granger_theta\n",
      "LH-to-MD_granger_gamma\n",
      "MD-to-LH_granger_theta\n",
      "MD-to-LH_granger_gamma\n",
      "LH-to-mPFC_granger_theta\n",
      "LH-to-mPFC_granger_gamma\n",
      "mPFC-to-LH_granger_theta\n",
      "mPFC-to-LH_granger_gamma\n",
      "LH-to-vHPC_granger_theta\n",
      "LH-to-vHPC_granger_gamma\n",
      "vHPC-to-LH_granger_theta\n",
      "vHPC-to-LH_granger_gamma\n",
      "MD-to-mPFC_granger_theta\n",
      "MD-to-mPFC_granger_gamma\n",
      "mPFC-to-MD_granger_theta\n",
      "mPFC-to-MD_granger_gamma\n",
      "MD-to-vHPC_granger_theta\n",
      "MD-to-vHPC_granger_gamma\n",
      "vHPC-to-MD_granger_theta\n",
      "vHPC-to-MD_granger_gamma\n",
      "mPFC-to-vHPC_granger_theta\n",
      "mPFC-to-vHPC_granger_gamma\n",
      "vHPC-to-mPFC_granger_theta\n",
      "vHPC-to-mPFC_granger_gamma\n",
      "vHPC_power_theta\n",
      "vHPC_power_gamma\n",
      "BLA_power_theta\n",
      "BLA_power_gamma\n",
      "LH_power_theta\n",
      "LH_power_gamma\n",
      "MD_power_theta\n",
      "MD_power_gamma\n",
      "mPFC_power_theta\n",
      "mPFC_power_gamma\n"
     ]
    }
   ],
   "source": [
    "for col in LFP_SPECTRAL_DF.columns:\n",
    "    print(col)"
   ]
  },
  {
   "cell_type": "code",
   "execution_count": 50,
   "metadata": {
    "tags": []
   },
   "outputs": [
    {
     "ename": "ValueError",
     "evalue": "",
     "output_type": "error",
     "traceback": [
      "\u001b[0;31m---------------------------------------------------------------------------\u001b[0m",
      "\u001b[0;31mValueError\u001b[0m                                Traceback (most recent call last)",
      "Cell \u001b[0;32mIn[50], line 1\u001b[0m\n\u001b[0;32m----> 1\u001b[0m \u001b[38;5;28;01mraise\u001b[39;00m \u001b[38;5;167;01mValueError\u001b[39;00m()\n",
      "\u001b[0;31mValueError\u001b[0m: "
     ]
    }
   ],
   "source": [
    "raise ValueError()"
   ]
  },
  {
   "cell_type": "code",
   "execution_count": null,
   "metadata": {},
   "outputs": [],
   "source": []
  }
 ],
 "metadata": {
  "deepnote": {},
  "deepnote_execution_queue": [],
  "deepnote_notebook_id": "cf8fe3695d074ee7887fdf6459cbf5ce",
  "kernelspec": {
   "display_name": "mountainsort_0_5_6",
   "language": "python",
   "name": "python3"
  },
  "language_info": {
   "codemirror_mode": {
    "name": "ipython",
    "version": 3
   },
   "file_extension": ".py",
   "mimetype": "text/x-python",
   "name": "python",
   "nbconvert_exporter": "python",
   "pygments_lexer": "ipython3",
   "version": "3.9.19"
  }
 },
 "nbformat": 4,
 "nbformat_minor": 4
}
