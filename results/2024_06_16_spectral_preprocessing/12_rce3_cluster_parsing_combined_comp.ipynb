{
 "cells": [
  {
   "cell_type": "markdown",
   "metadata": {
    "cell_id": "c3a02adc9e884466bc8c79db549cc3d2",
    "deepnote_cell_type": "text-cell-h1",
    "formattedRanges": [
     {
      "fromCodePoint": 0,
      "marks": {
       "bold": true,
       "underline": true
      },
      "toCodePoint": 17,
      "type": "marks"
     }
    ]
   },
   "source": [
    "# All oscillation analysis"
   ]
  },
  {
   "cell_type": "markdown",
   "metadata": {
    "cell_id": "4546bee655b14a5dbf393161f1228e60",
    "deepnote_cell_type": "text-cell-p",
    "formattedRanges": []
   },
   "source": [
    "Brief 1-2 sentence description of notebook."
   ]
  },
  {
   "cell_type": "code",
   "execution_count": 1,
   "metadata": {
    "tags": []
   },
   "outputs": [],
   "source": [
    "# Imports of all used packages and libraries\n",
    "import sys\n",
    "import os\n",
    "import git\n",
    "import glob\n",
    "from collections import defaultdict"
   ]
  },
  {
   "cell_type": "code",
   "execution_count": 2,
   "metadata": {
    "tags": []
   },
   "outputs": [],
   "source": [
    "git_repo = git.Repo(\".\", search_parent_directories=True)\n",
    "git_root = git_repo.git.rev_parse(\"--show-toplevel\")"
   ]
  },
  {
   "cell_type": "code",
   "execution_count": 3,
   "metadata": {
    "tags": []
   },
   "outputs": [
    {
     "data": {
      "text/plain": [
       "'/nancy/user/riwata/projects/reward_comp_ext'"
      ]
     },
     "execution_count": 3,
     "metadata": {},
     "output_type": "execute_result"
    }
   ],
   "source": [
    "git_root"
   ]
  },
  {
   "cell_type": "code",
   "execution_count": 4,
   "metadata": {
    "tags": []
   },
   "outputs": [],
   "source": [
    "sys.path.insert(0, os.path.join(git_root, 'src'))"
   ]
  },
  {
   "cell_type": "code",
   "execution_count": 5,
   "metadata": {
    "tags": []
   },
   "outputs": [],
   "source": [
    "import warnings\n",
    "warnings.filterwarnings('ignore')"
   ]
  },
  {
   "cell_type": "code",
   "execution_count": 6,
   "metadata": {
    "tags": []
   },
   "outputs": [],
   "source": [
    "import os\n",
    "import collections\n",
    "import itertools\n",
    "from collections import defaultdict\n",
    "from itertools import combinations"
   ]
  },
  {
   "cell_type": "raw",
   "metadata": {},
   "source": [
    "os.environ[\"SPECTRAL_CONNECTIVITY_ENABLE_GPU\"] = \"true\"\n",
    "import cupy as cp"
   ]
  },
  {
   "cell_type": "code",
   "execution_count": 7,
   "metadata": {
    "cell_id": "03b495cefa6a4798a44c7f2e4c6a3ea7",
    "deepnote_cell_type": "code",
    "deepnote_to_be_reexecuted": false,
    "execution_millis": 21,
    "execution_start": 1691424003626,
    "source_hash": null,
    "tags": []
   },
   "outputs": [],
   "source": [
    "# Imports of all used packages and libraries\n",
    "import numpy as np\n",
    "import pandas as pd\n",
    "from scipy import stats\n",
    "from scipy.stats import mannwhitneyu\n",
    "# import seaborn as sns\n",
    "\n"
   ]
  },
  {
   "cell_type": "code",
   "execution_count": 8,
   "metadata": {
    "tags": []
   },
   "outputs": [],
   "source": [
    "import matplotlib\n",
    "import matplotlib.colors as mcolors\n",
    "import matplotlib.pyplot as plt\n",
    "import matplotlib.cm as cm\n",
    "import colorsys"
   ]
  },
  {
   "cell_type": "code",
   "execution_count": 9,
   "metadata": {
    "tags": []
   },
   "outputs": [],
   "source": [
    "from sklearn.metrics import confusion_matrix"
   ]
  },
  {
   "cell_type": "code",
   "execution_count": 10,
   "metadata": {
    "tags": []
   },
   "outputs": [],
   "source": [
    "from spectral_connectivity import Multitaper, Connectivity\n",
    "import spectral_connectivity"
   ]
  },
  {
   "cell_type": "code",
   "execution_count": 11,
   "metadata": {
    "tags": []
   },
   "outputs": [],
   "source": [
    "import utilities.helper\n",
    "import trodes.read_exported"
   ]
  },
  {
   "cell_type": "code",
   "execution_count": 12,
   "metadata": {
    "tags": []
   },
   "outputs": [],
   "source": [
    "FONTSIZE = 20"
   ]
  },
  {
   "cell_type": "code",
   "execution_count": 13,
   "metadata": {
    "tags": []
   },
   "outputs": [],
   "source": [
    "font = {'weight' : 'medium',\n",
    "        'size'   : 20}\n",
    "\n",
    "matplotlib.rc('font', **font)"
   ]
  },
  {
   "cell_type": "code",
   "execution_count": null,
   "metadata": {},
   "outputs": [],
   "source": []
  },
  {
   "cell_type": "code",
   "execution_count": 14,
   "metadata": {},
   "outputs": [],
   "source": [
    "# Define a function to horizontally stack arrays\n",
    "def stack_arrays(arrays):\n",
    "    return np.vstack(arrays)"
   ]
  },
  {
   "cell_type": "code",
   "execution_count": 15,
   "metadata": {},
   "outputs": [],
   "source": [
    "# BAND_TO_FREQ_PLOT = {'theta': (4, 12), 'gamma': (30, 50)}\n",
    "BAND_TO_FREQ_PLOT = {'theta': (4, 12)}\n",
    "BAND_TO_FREQ_COLOR = {'theta': \"#FFAF00\", 'beta': \"blue\", 'gamma': \"green\"}"
   ]
  },
  {
   "cell_type": "markdown",
   "metadata": {
    "cell_id": "d290bac2c17940bfbc0f9296beaf70e5",
    "deepnote_cell_type": "text-cell-h2",
    "formattedRanges": []
   },
   "source": [
    "## Inputs & Data"
   ]
  },
  {
   "cell_type": "code",
   "execution_count": 16,
   "metadata": {
    "tags": []
   },
   "outputs": [],
   "source": [
    "EPHYS_SAMPLE_RATE = 20000"
   ]
  },
  {
   "cell_type": "code",
   "execution_count": 17,
   "metadata": {
    "tags": []
   },
   "outputs": [],
   "source": [
    "# GOOD_SUBJECTS = [\"3.1\", \"3.3\", \"3.4\", \"4.2\", \"4.3\", \"5.2\", \"5.3\"]\n",
    "# GOOD_SUBJECTS = [\"3.1\", \"4.2\", \"4.3\"]\n",
    "# GOOD_SUBJECTS = [\"3.1\", \"3.3\", \"3.4\", \"4.2\", \"4.3\"]\n",
    "GOOD_SUBJECTS = [\"3.1\", \"3.3\", \"3.4\", \"4.2\", \"4.3\", \"5.2\", \"5.3\"]\n",
    "# GOOD_SUBJECTS = [\"3.1\", \"3.3\", \"3.4\", \"4.2\", \"4.3\"]\n"
   ]
  },
  {
   "cell_type": "markdown",
   "metadata": {
    "cell_id": "e528ce19c608425292151930d380f49f",
    "deepnote_cell_type": "text-cell-p",
    "formattedRanges": []
   },
   "source": [
    "Explanation of each input and where it comes from."
   ]
  },
  {
   "cell_type": "code",
   "execution_count": 18,
   "metadata": {
    "cell_id": "6cf83a5811054461a718a71673d09aab",
    "deepnote_cell_type": "code",
    "deepnote_to_be_reexecuted": false,
    "execution_millis": 373,
    "execution_start": 1691424003628,
    "source_hash": null,
    "tags": []
   },
   "outputs": [],
   "source": [
    "# Inputs and Required data loading\n",
    "# input varaible names are in all caps snake case\n",
    "# Whenever an input changes or is used for processing \n",
    "# the vairables are all lower in snake case\n",
    "OUTPUT_DIR = r\"./proc/\" # where data is saved should always be shown in the inputs\n",
    "os.makedirs(OUTPUT_DIR, exist_ok=True)\n",
    "OUTPUT_PREFIXES = [\"rce_pilot_3_alone_comp\", \"rce_pilot_3_long_comp\"]\n",
    "OUTPUT_PREFIX = \"rce_pilot_3_combined\""
   ]
  },
  {
   "cell_type": "code",
   "execution_count": 19,
   "metadata": {
    "tags": []
   },
   "outputs": [],
   "source": [
    "# TRIAL_LABELS_DF = pd.read_excel(\"/blue/npadillacoreano/ryoi360/projects/reward_comp/repos/reward_comp_ext/results/2024_06_26_sleap_clustering/data/rce_pilot_3_alone_comp_per_video_trial_labels.xlsx\")\n",
    "TRIALS_AND_SPECTRAL_DF = pd.concat([pd.read_pickle(\"./proc/{}_10_per_trial_spectral_bans_sleap.pkl\".format(prefix)) for prefix in OUTPUT_PREFIXES])"
   ]
  },
  {
   "cell_type": "code",
   "execution_count": 20,
   "metadata": {
    "tags": []
   },
   "outputs": [],
   "source": [
    "FULL_LFP_TRACES_PKL = \"{}_12_per_cluster_spectral_bans_sleap.pkl\".format(OUTPUT_PREFIX)"
   ]
  },
  {
   "cell_type": "markdown",
   "metadata": {
    "cell_id": "e3ee4891d43a4ac287413afc552ca289",
    "deepnote_cell_type": "text-cell-h2",
    "formattedRanges": []
   },
   "source": [
    "## Outputs"
   ]
  },
  {
   "cell_type": "markdown",
   "metadata": {
    "cell_id": "9ccbf6cc70fd4d379fa29317f733771f",
    "deepnote_cell_type": "text-cell-p",
    "formattedRanges": []
   },
   "source": [
    "Describe each output that the notebook creates. "
   ]
  },
  {
   "cell_type": "markdown",
   "metadata": {
    "cell_id": "fc8e8920a6944918a15fac575cdf6e78",
    "deepnote_cell_type": "text-cell-bullet",
    "formattedRanges": []
   },
   "source": [
    "- Is it a plot or is it data?"
   ]
  },
  {
   "cell_type": "markdown",
   "metadata": {
    "cell_id": "1e639d4776a84aa9ac8ded2e14fa57db",
    "deepnote_cell_type": "text-cell-bullet",
    "formattedRanges": []
   },
   "source": [
    "- How valuable is the output and why is it valuable or useful?"
   ]
  },
  {
   "cell_type": "markdown",
   "metadata": {},
   "source": [
    "## Functions "
   ]
  },
  {
   "cell_type": "code",
   "execution_count": 21,
   "metadata": {
    "tags": []
   },
   "outputs": [
    {
     "name": "stdout",
     "output_type": "stream",
     "text": [
      "{'a': [1, 2, 5, 8, 9], 'b': [3, 4, 6, 7], 'c': [10]}\n"
     ]
    }
   ],
   "source": [
    "def combine_dicts(dicts):\n",
    "    \"\"\"\n",
    "    Combine lists from multiple dictionaries that share the same key.\n",
    "\n",
    "    This function takes a list of dictionaries where each dictionary's values are lists of numbers.\n",
    "    It merges these lists for each corresponding key across all dictionaries, producing a single\n",
    "    dictionary where each key has a combined list of all numbers from the input dictionaries.\n",
    "\n",
    "    Parameters:\n",
    "        dicts (list of dict): A list of dictionaries with values as lists of numbers.\n",
    "\n",
    "    Returns:\n",
    "        dict: A dictionary with keys from the input dictionaries and values as merged lists \n",
    "        of numbers from all corresponding input dictionary values.\n",
    "    \"\"\"\n",
    "    combined = defaultdict(list)\n",
    "    for dictionary in dicts:\n",
    "        for key, value in dictionary.items():\n",
    "            combined[key].extend(value)\n",
    "    \n",
    "    return dict(combined)\n",
    "\n",
    "\n",
    "# Example usage\n",
    "list_of_dicts = [\n",
    "    {'a': [1, 2], 'b': [3, 4]},\n",
    "    {'a': [5], 'b': [6, 7]},\n",
    "    {'a': [8, 9], 'c': [10]}\n",
    "]\n",
    "\n",
    "combined_dict = combine_dicts(list_of_dicts)\n",
    "print(combined_dict)"
   ]
  },
  {
   "cell_type": "code",
   "execution_count": 22,
   "metadata": {
    "tags": []
   },
   "outputs": [
    {
     "name": "stdout",
     "output_type": "stream",
     "text": [
      "{2: [(2, 4)], 3: [(5, 8)]}\n"
     ]
    }
   ],
   "source": [
    "def find_consecutive_ranges(numbers, min_length=1):\n",
    "    \"\"\"\n",
    "    Finds the start and end indices for consecutive ranges of each number in a list where the range meets a minimum length.\n",
    "\n",
    "    This function iterates through a list of integers and identifies ranges where the same integer appears consecutively\n",
    "    and the length of this sequence meets or exceeds the specified minimum length.\n",
    "\n",
    "    Parameters:\n",
    "        numbers (list): A list of integers to analyze for consecutive ranges.\n",
    "        min_length (int): The minimum length of a range for it to be included in the results.\n",
    "\n",
    "    Returns:\n",
    "        dict: A dictionary with integers as keys and a list of tuples (start, end) as values,\n",
    "              where each tuple represents the start and end indices (inclusive) of consecutive ranges\n",
    "              for that integer. Only ranges that meet or exceed the minimum length are included.\n",
    "    \"\"\"\n",
    "    ranges = {}\n",
    "    n = len(numbers)\n",
    "    if n == 0:\n",
    "        return ranges\n",
    "    \n",
    "    start = 0\n",
    "    current = numbers[0]\n",
    "\n",
    "    for i in range(1, n):\n",
    "        if numbers[i] != current:\n",
    "            if (i - start) >= min_length:\n",
    "                if current not in ranges:\n",
    "                    ranges[current] = []\n",
    "                ranges[current].append((start, i - 1))\n",
    "            current = numbers[i]\n",
    "            start = i\n",
    "\n",
    "    # Handle the last range\n",
    "    if (n - start) >= min_length:\n",
    "        if current not in ranges:\n",
    "            ranges[current] = []\n",
    "        ranges[current].append((start, n - 1))\n",
    "\n",
    "    return ranges\n",
    "\n",
    "# Example usage:\n",
    "numbers = [1, 1, 2, 2, 2, 3, 3, 3, 3, 2, 2, 1, 1]\n",
    "print(find_consecutive_ranges(numbers, min_length=3))"
   ]
  },
  {
   "cell_type": "code",
   "execution_count": 23,
   "metadata": {
    "tags": []
   },
   "outputs": [
    {
     "name": "stdout",
     "output_type": "stream",
     "text": [
      "{'a': [('alpha', 'beta'), ('gamma', 'delta')], 'b': [('beta', 'delta'), ('alpha', 'gamma')]}\n"
     ]
    }
   ],
   "source": [
    "def update_tuples_in_dict(original_dict, reference_list):\n",
    "    \"\"\"\n",
    "    Updates the values in the tuples within a dictionary by replacing indices with corresponding values from a reference list.\n",
    "    \n",
    "    This function iterates through each key-value pair in the original dictionary. Each value is expected to be a list of tuples,\n",
    "    where each tuple contains indices. These indices are used to fetch corresponding values from the reference list, creating new tuples.\n",
    "    \n",
    "    Parameters:\n",
    "        original_dict (dict): Dictionary whose values are lists of tuples. Each tuple consists of indices into the reference_list.\n",
    "        reference_list (list): List of elements that are referenced by the indices in the tuples of the original_dict.\n",
    "        \n",
    "    Returns:\n",
    "        dict: A dictionary with the same keys as original_dict but with tuples transformed to contain elements from reference_list\n",
    "              based on the indices in the original tuples.\n",
    "    \"\"\"\n",
    "    # Create a new dictionary to store the updated key-value pairs\n",
    "    new_dict = {}\n",
    "    for key, list_of_tuples in original_dict.items():\n",
    "        # Process each tuple in the list associated with the current key\n",
    "        updated_tuples = [\n",
    "            tuple(reference_list[idx] for idx in tup) for tup in list_of_tuples\n",
    "        ]\n",
    "        new_dict[key] = updated_tuples\n",
    "    \n",
    "    return new_dict\n",
    "\n",
    "# Example usage:\n",
    "original_dict = {\n",
    "    'a': [(0, 1), (2, 3)],\n",
    "    'b': [(1, 3), (0, 2)]\n",
    "}\n",
    "reference_list = ['alpha', 'beta', 'gamma', 'delta']\n",
    "\n",
    "updated_dict = update_tuples_in_dict(original_dict, reference_list)\n",
    "print(updated_dict)"
   ]
  },
  {
   "cell_type": "code",
   "execution_count": 24,
   "metadata": {
    "tags": []
   },
   "outputs": [],
   "source": [
    "# def find_indices_within_ranges(ranges_dict, values):\n",
    "#     \"\"\"\n",
    "#     Creates a dictionary mapping keys to sorted indices of values that fall within specified ranges.\n",
    "    \n",
    "#     Parameters:\n",
    "#         ranges_dict (dict): A dictionary with keys and values as lists of tuples representing ranges.\n",
    "#         values (list): A list of values to check against the ranges.\n",
    "        \n",
    "#     Returns:\n",
    "#         dict: A dictionary where each key maps to a sorted list of indices for values within the ranges.\n",
    "#     \"\"\"\n",
    "#     result_dict = {}\n",
    "#     for key, ranges in ranges_dict.items():\n",
    "#         matched_indices = []\n",
    "#         for index, value in enumerate(values):\n",
    "#             if any(start <= value <= end for start, end in ranges):\n",
    "#                 matched_indices.append(index)\n",
    "#         result_dict[key] = sorted(matched_indices)\n",
    "#     return list(result_dict.items())\n",
    "\n",
    "# # Example usage:\n",
    "# ranges_dict = {\n",
    "#     'range1': [(1, 5), (10, 15)],\n",
    "#     'range2': [(0, 2), (4, 8)]\n",
    "# }\n",
    "# values = [0, 1, 2, 3, 4, 5, 6, 7, 8, 9, 10, 11, 12, 13, 14, 15]\n",
    "\n",
    "# result = find_indices_within_ranges(ranges_dict, values)\n",
    "# print(result)\n"
   ]
  },
  {
   "cell_type": "code",
   "execution_count": 25,
   "metadata": {},
   "outputs": [
    {
     "name": "stdout",
     "output_type": "stream",
     "text": [
      "[('alpha', 'beta'), ('gamma', 'delta'), ('beta', 'delta'), ('alpha', 'gamma')]\n"
     ]
    }
   ],
   "source": [
    "def update_tuples_in_list(original_list, reference_list):\n",
    "    \"\"\"\n",
    "    Updates the values in the tuples within a list by replacing indices with corresponding values from a reference list.\n",
    "    \n",
    "    This function iterates through each tuple in the original list. Each tuple is expected to contain indices.\n",
    "    These indices are used to fetch corresponding values from the reference list, creating new tuples.\n",
    "    \n",
    "    Parameters:\n",
    "        original_list (list): List of tuples. Each inner tuple consists of indices into the reference_list.\n",
    "        reference_list (list): List of elements that are referenced by the indices in the tuples of the original_list.\n",
    "        \n",
    "    Returns:\n",
    "        list: A list with the same structure as original_list but with tuples transformed to contain elements from reference_list\n",
    "              based on the indices in the original tuples.\n",
    "    \"\"\"\n",
    "    # Create a new list to store the updated tuples\n",
    "    new_list = [\n",
    "        tuple(reference_list[idx] for idx in tup) for tup in original_list\n",
    "    ]\n",
    "    \n",
    "    return new_list\n",
    "\n",
    "# Example usage:\n",
    "original_list = [\n",
    "    (0, 1), (2, 3),\n",
    "    (1, 3), (0, 2)\n",
    "]\n",
    "reference_list = ['alpha', 'beta', 'gamma', 'delta']\n",
    "\n",
    "updated_list = update_tuples_in_list(original_list, reference_list)\n",
    "print(updated_list)"
   ]
  },
  {
   "cell_type": "code",
   "execution_count": 26,
   "metadata": {},
   "outputs": [
    {
     "name": "stdout",
     "output_type": "stream",
     "text": [
      "[0, 1, 2, 3, 4, 5, 6, 7, 8, 10, 11, 12, 13, 14, 15]\n"
     ]
    }
   ],
   "source": [
    "def find_indices_within_ranges(ranges_list, values):\n",
    "    \"\"\"\n",
    "    Finds the indices of values that fall within specified ranges.\n",
    "    \n",
    "    Parameters:\n",
    "        ranges_list (list): A list of tuples representing ranges.\n",
    "        values (list): A list of values to check against the ranges.\n",
    "        \n",
    "    Returns:\n",
    "        list: A list of sorted indices for values within the ranges.\n",
    "    \"\"\"\n",
    "    matched_indices = []\n",
    "    for index, value in enumerate(values):\n",
    "        if any(start <= value <= end for start, end in ranges_list):\n",
    "            matched_indices.append(index)\n",
    "    \n",
    "    return sorted(matched_indices)\n",
    "\n",
    "# Example usage:\n",
    "ranges_list = [(1, 5), (10, 15), (0, 2), (4, 8)]\n",
    "values = [0, 1, 2, 3, 4, 5, 6, 7, 8, 9, 10, 11, 12, 13, 14, 15]\n",
    "\n",
    "result = find_indices_within_ranges(ranges_list, values)\n",
    "print(result)"
   ]
  },
  {
   "cell_type": "code",
   "execution_count": 27,
   "metadata": {},
   "outputs": [],
   "source": [
    "OUTCOME_TO_COLOR = {\"both_rewarded\": \"green\", \n",
    "\"novel_lose\": \"#e67073\",\n",
    "\"novel_win\": \"#93a5da\",\n",
    "\"lose\": \"#951a1d\",\n",
    "\"alone_rewarded\": \"#0499af\",\n",
    "\"win\": \"#3853a3\",\n",
    "\"omission\": \"orange\",\n",
    "\"tie\": \"green\"}"
   ]
  },
  {
   "cell_type": "code",
   "execution_count": 28,
   "metadata": {},
   "outputs": [],
   "source": [
    "comp_id_to_color = {'competitive_1': \"#281640\",\n",
    "'competitive_2': \"#43246a\",\n",
    "'competitive_3': \"#8e7ca6\",\n",
    "'no_comp_4': \"#2f3600\",\n",
    "'no_comp_5': \"#535f00\",\n",
    "'no_comp_6': \"#768800\",\n",
    "'no_comp_7': \"#9fac4d\",\n",
    "'no_comp_8': \"#c8cf99\",\n",
    "'competitive': \"#43246A\",\n",
    "'no_comp': \"#768800\",\n",
    "'win': \"#0045A6\",\n",
    "'win_competitive': \"#003074\",\n",
    "'win_no_comp': \"#4d7dc1\",\n",
    "'lose': \"#792910\",\n",
    "'lose_competitive': \"#551d0b\",\n",
    "'lose_no_comp': \"#a16958\",\n",
    "'rewarded': \"#FFAF00\"\n",
    "}"
   ]
  },
  {
   "cell_type": "code",
   "execution_count": 29,
   "metadata": {},
   "outputs": [],
   "source": [
    "to_keep_columns = ['trial_label',\n",
    "'tone_start_frame',\n",
    "'reward_start',\n",
    "'reward_dispensed',\n",
    "'tone_stop_frame',\n",
    "'condition',\n",
    "'competition_closeness',\n",
    "'get_reward_frame',\n",
    "'out_reward_frame',\n",
    "'notes',\n",
    "'box_1_port_entry_frames',\n",
    "'box_2_port_entry_frames',\n",
    "'video_name',\n",
    "'tone_start_timestamp',\n",
    "'tone_stop_timestamp',\n",
    "'box_1_port_entry_timestamps',\n",
    "'box_2_port_entry_timestamps',\n",
    "'current_subject',\n",
    "'session_dir',\n",
    "'experiment',\n",
    "'sleap_name',\n",
    "'video_id',\n",
    "'agent',\n",
    "'all_subjects',\n",
    "'cohort',\n",
    "'first_timestamp',\n",
    "'last_timestamp',\n",
    "'recording',\n",
    "'session_path',\n",
    "'subject',\n",
    "'baseline_start_timestamp',\n",
    "'post_trial_end_timestamp',]"
   ]
  },
  {
   "cell_type": "markdown",
   "metadata": {
    "cell_id": "8999d19b6b7d4d63bc90f0b0bd9ab085",
    "deepnote_cell_type": "text-cell-h2",
    "formattedRanges": []
   },
   "source": [
    "## Processing"
   ]
  },
  {
   "cell_type": "markdown",
   "metadata": {
    "cell_id": "9b36cdf08567463082b005cb0dec684b",
    "deepnote_cell_type": "text-cell-p",
    "formattedRanges": []
   },
   "source": [
    "Describe what is done to the data here and how inputs are manipulated to generate outputs. "
   ]
  },
  {
   "cell_type": "code",
   "execution_count": 30,
   "metadata": {
    "cell_id": "89aaba237c644628b1b37604b75e7cb1",
    "deepnote_cell_type": "code",
    "tags": []
   },
   "outputs": [],
   "source": [
    "# As much code and as many cells as required\n",
    "# includes EDA and playing with data\n",
    "# GO HAM!\n",
    "\n",
    "# Ideally functions are defined here first and then data is processed using the functions\n",
    "\n",
    "# function names are short and in snake case all lowercase\n",
    "# a function name should be unique but does not have to describe the function\n",
    "# doc strings describe functions not function names\n",
    "\n",
    "\n"
   ]
  },
  {
   "cell_type": "markdown",
   "metadata": {},
   "source": [
    "## Renaming the trial labels"
   ]
  },
  {
   "cell_type": "code",
   "execution_count": 31,
   "metadata": {
    "tags": []
   },
   "outputs": [
    {
     "data": {
      "text/html": [
       "<div>\n",
       "<style scoped>\n",
       "    .dataframe tbody tr th:only-of-type {\n",
       "        vertical-align: middle;\n",
       "    }\n",
       "\n",
       "    .dataframe tbody tr th {\n",
       "        vertical-align: top;\n",
       "    }\n",
       "\n",
       "    .dataframe thead th {\n",
       "        text-align: right;\n",
       "    }\n",
       "</style>\n",
       "<table border=\"1\" class=\"dataframe\">\n",
       "  <thead>\n",
       "    <tr style=\"text-align: right;\">\n",
       "      <th></th>\n",
       "      <th>tone_start_frame</th>\n",
       "      <th>reward_start</th>\n",
       "      <th>reward_dispensed</th>\n",
       "      <th>tone_stop_frame</th>\n",
       "      <th>condition</th>\n",
       "      <th>competition_closeness</th>\n",
       "      <th>get_reward_frame</th>\n",
       "      <th>out_reward_frame</th>\n",
       "      <th>experiment</th>\n",
       "      <th>video_name</th>\n",
       "      <th>...</th>\n",
       "      <th>trial_mPFC_gamma_phase</th>\n",
       "      <th>trial_mPFC_lfp_trace</th>\n",
       "      <th>trial_mPFC_theta_band</th>\n",
       "      <th>trial_mPFC_theta_phase</th>\n",
       "      <th>trial_vHPC_gamma_band</th>\n",
       "      <th>trial_vHPC_gamma_phase</th>\n",
       "      <th>trial_vHPC_lfp_trace</th>\n",
       "      <th>trial_vHPC_theta_band</th>\n",
       "      <th>trial_vHPC_theta_phase</th>\n",
       "      <th>trial_lfp_timestamps</th>\n",
       "    </tr>\n",
       "  </thead>\n",
       "  <tbody>\n",
       "    <tr>\n",
       "      <th>0</th>\n",
       "      <td>1272</td>\n",
       "      <td>1352</td>\n",
       "      <td>1372.0</td>\n",
       "      <td>1471</td>\n",
       "      <td>rewarded</td>\n",
       "      <td>NaN</td>\n",
       "      <td>NaN</td>\n",
       "      <td>NaN</td>\n",
       "      <td>alone_comp</td>\n",
       "      <td>20240320_142408_alone_comp_subj_3-1_and_3-3.1</td>\n",
       "      <td>...</td>\n",
       "      <td>[1.2753748, 1.5470532, 1.8195912, 2.0930052, 2...</td>\n",
       "      <td>[22.814999, 55.379997, 50.114998, 24.179998, -...</td>\n",
       "      <td>[0.5009692, 0.53753847, 0.5733678, 0.6084092, ...</td>\n",
       "      <td>[-1.0597045, -1.0193127, -0.9789509, -0.938608...</td>\n",
       "      <td>[-0.22174568, -0.15121, -0.07674848, -0.003606...</td>\n",
       "      <td>[-2.3506742, -2.0960093, -1.8404455, -1.583913...</td>\n",
       "      <td>[-4.29, 39.975, 43.094997, 21.06, -5.6549997, ...</td>\n",
       "      <td>[0.4803362, 0.48351339, 0.48608577, 0.48801196...</td>\n",
       "      <td>[0.14521578, 0.18225646, 0.2195385, 0.25703296...</td>\n",
       "      <td>[1275900, 1275920, 1275940, 1275960, 1275980, ...</td>\n",
       "    </tr>\n",
       "    <tr>\n",
       "      <th>1</th>\n",
       "      <td>1272</td>\n",
       "      <td>1352</td>\n",
       "      <td>1372.0</td>\n",
       "      <td>1471</td>\n",
       "      <td>rewarded</td>\n",
       "      <td>NaN</td>\n",
       "      <td>NaN</td>\n",
       "      <td>NaN</td>\n",
       "      <td>alone_comp</td>\n",
       "      <td>20240320_142408_alone_comp_subj_3-1_and_3-3.1</td>\n",
       "      <td>...</td>\n",
       "      <td>[-2.6912959, -2.4323404, -2.1741595, -1.916653...</td>\n",
       "      <td>[117.975, 157.17, 185.44499, 204.165, 219.5699...</td>\n",
       "      <td>[0.41623178, 0.44744003, 0.4777408, 0.5070615,...</td>\n",
       "      <td>[-1.0413939, -0.9972529, -0.953115, -0.9089798...</td>\n",
       "      <td>[-0.19825788, -0.17507692, -0.1398036, -0.0950...</td>\n",
       "      <td>[-2.806776, -2.5489123, -2.2918756, -2.035616,...</td>\n",
       "      <td>[263.835, 275.34, 281.97, 297.96, 333.06, 362....</td>\n",
       "      <td>[0.8099415, 0.8086726, 0.8049505, 0.7988323, 0...</td>\n",
       "      <td>[-0.19100325, -0.13849367, -0.08597504, -0.033...</td>\n",
       "      <td>[1275900, 1275920, 1275940, 1275960, 1275980, ...</td>\n",
       "    </tr>\n",
       "    <tr>\n",
       "      <th>2</th>\n",
       "      <td>3268</td>\n",
       "      <td>3348</td>\n",
       "      <td>3368.0</td>\n",
       "      <td>3469</td>\n",
       "      <td>rewarded</td>\n",
       "      <td>NaN</td>\n",
       "      <td>NaN</td>\n",
       "      <td>NaN</td>\n",
       "      <td>alone_comp</td>\n",
       "      <td>20240320_142408_alone_comp_subj_3-1_and_3-3.1</td>\n",
       "      <td>...</td>\n",
       "      <td>[0.58294773, 0.7505529, 0.9197189, 1.0913352, ...</td>\n",
       "      <td>[2.145, -42.12, -53.039997, -31.589998, -20.86...</td>\n",
       "      <td>[-0.0064961687, 0.018417874, 0.043314125, 0.06...</td>\n",
       "      <td>[-1.5829574, -1.5362812, -1.4894676, -1.442518...</td>\n",
       "      <td>[-0.01912621, -0.033232022, -0.049906872, -0.0...</td>\n",
       "      <td>[1.9426272, 2.1319108, 2.337184, 2.552226, 2.7...</td>\n",
       "      <td>[-52.065, -62.789997, -52.454998, -24.765, -14...</td>\n",
       "      <td>[-0.10823959, -0.09060646, -0.073256046, -0.05...</td>\n",
       "      <td>[-1.9164537, -1.8633498, -1.8102874, -1.757266...</td>\n",
       "      <td>[3275920, 3275940, 3275960, 3275980, 3276000, ...</td>\n",
       "    </tr>\n",
       "    <tr>\n",
       "      <th>3</th>\n",
       "      <td>3268</td>\n",
       "      <td>3348</td>\n",
       "      <td>3368.0</td>\n",
       "      <td>3469</td>\n",
       "      <td>rewarded</td>\n",
       "      <td>NaN</td>\n",
       "      <td>NaN</td>\n",
       "      <td>NaN</td>\n",
       "      <td>alone_comp</td>\n",
       "      <td>20240320_142408_alone_comp_subj_3-1_and_3-3.1</td>\n",
       "      <td>...</td>\n",
       "      <td>[-0.76390547, -0.4791815, -0.19379114, 0.09212...</td>\n",
       "      <td>[-344.565, -341.055, -330.13498, -327.99, -337...</td>\n",
       "      <td>[-1.3024672, -1.2773724, -1.2492679, -1.218197...</td>\n",
       "      <td>[-2.7217343, -2.6761148, -2.6304095, -2.584616...</td>\n",
       "      <td>[0.079524525, 0.13604781, 0.17970274, 0.207705...</td>\n",
       "      <td>[-1.237902, -0.9604684, -0.68224925, -0.403271...</td>\n",
       "      <td>[-358.02, -340.275, -334.22998, -328.185, -330...</td>\n",
       "      <td>[-1.5992576, -1.5621724, -1.5210515, -1.475959...</td>\n",
       "      <td>[-2.6333451, -2.5866175, -2.5398245, -2.492964...</td>\n",
       "      <td>[3275920, 3275940, 3275960, 3275980, 3276000, ...</td>\n",
       "    </tr>\n",
       "    <tr>\n",
       "      <th>4</th>\n",
       "      <td>4466</td>\n",
       "      <td>4546</td>\n",
       "      <td>4566.0</td>\n",
       "      <td>4667</td>\n",
       "      <td>rewarded</td>\n",
       "      <td>NaN</td>\n",
       "      <td>NaN</td>\n",
       "      <td>NaN</td>\n",
       "      <td>alone_comp</td>\n",
       "      <td>20240320_142408_alone_comp_subj_3-1_and_3-3.1</td>\n",
       "      <td>...</td>\n",
       "      <td>[0.38113782, 0.6316041, 0.88663894, 1.1470807,...</td>\n",
       "      <td>[11.115, 15.99, 47.774998, 82.485, 62.399998, ...</td>\n",
       "      <td>[0.09507684, 0.12369889, 0.1522407, 0.18062358...</td>\n",
       "      <td>[-1.4375641, -1.3976009, -1.3576338, -1.317669...</td>\n",
       "      <td>[0.21734843, 0.26351532, 0.2944534, 0.30633113...</td>\n",
       "      <td>[-0.6291391, -0.37048072, -0.112057924, 0.1461...</td>\n",
       "      <td>[163.40999, 159.51, 179.985, 185.64, 168.87, 1...</td>\n",
       "      <td>[0.26782152, 0.24838205, 0.22872408, 0.2089296...</td>\n",
       "      <td>[0.83442557, 0.8842498, 0.93427587, 0.98450065...</td>\n",
       "      <td>[4475940, 4475960, 4475980, 4476000, 4476020, ...</td>\n",
       "    </tr>\n",
       "  </tbody>\n",
       "</table>\n",
       "<p>5 rows × 243 columns</p>\n",
       "</div>"
      ],
      "text/plain": [
       "   tone_start_frame  reward_start  reward_dispensed  tone_stop_frame  \\\n",
       "0              1272          1352            1372.0             1471   \n",
       "1              1272          1352            1372.0             1471   \n",
       "2              3268          3348            3368.0             3469   \n",
       "3              3268          3348            3368.0             3469   \n",
       "4              4466          4546            4566.0             4667   \n",
       "\n",
       "  condition competition_closeness  get_reward_frame  out_reward_frame  \\\n",
       "0  rewarded                   NaN               NaN               NaN   \n",
       "1  rewarded                   NaN               NaN               NaN   \n",
       "2  rewarded                   NaN               NaN               NaN   \n",
       "3  rewarded                   NaN               NaN               NaN   \n",
       "4  rewarded                   NaN               NaN               NaN   \n",
       "\n",
       "   experiment                                     video_name  ...  \\\n",
       "0  alone_comp  20240320_142408_alone_comp_subj_3-1_and_3-3.1  ...   \n",
       "1  alone_comp  20240320_142408_alone_comp_subj_3-1_and_3-3.1  ...   \n",
       "2  alone_comp  20240320_142408_alone_comp_subj_3-1_and_3-3.1  ...   \n",
       "3  alone_comp  20240320_142408_alone_comp_subj_3-1_and_3-3.1  ...   \n",
       "4  alone_comp  20240320_142408_alone_comp_subj_3-1_and_3-3.1  ...   \n",
       "\n",
       "                              trial_mPFC_gamma_phase  \\\n",
       "0  [1.2753748, 1.5470532, 1.8195912, 2.0930052, 2...   \n",
       "1  [-2.6912959, -2.4323404, -2.1741595, -1.916653...   \n",
       "2  [0.58294773, 0.7505529, 0.9197189, 1.0913352, ...   \n",
       "3  [-0.76390547, -0.4791815, -0.19379114, 0.09212...   \n",
       "4  [0.38113782, 0.6316041, 0.88663894, 1.1470807,...   \n",
       "\n",
       "                                trial_mPFC_lfp_trace  \\\n",
       "0  [22.814999, 55.379997, 50.114998, 24.179998, -...   \n",
       "1  [117.975, 157.17, 185.44499, 204.165, 219.5699...   \n",
       "2  [2.145, -42.12, -53.039997, -31.589998, -20.86...   \n",
       "3  [-344.565, -341.055, -330.13498, -327.99, -337...   \n",
       "4  [11.115, 15.99, 47.774998, 82.485, 62.399998, ...   \n",
       "\n",
       "                               trial_mPFC_theta_band  \\\n",
       "0  [0.5009692, 0.53753847, 0.5733678, 0.6084092, ...   \n",
       "1  [0.41623178, 0.44744003, 0.4777408, 0.5070615,...   \n",
       "2  [-0.0064961687, 0.018417874, 0.043314125, 0.06...   \n",
       "3  [-1.3024672, -1.2773724, -1.2492679, -1.218197...   \n",
       "4  [0.09507684, 0.12369889, 0.1522407, 0.18062358...   \n",
       "\n",
       "                              trial_mPFC_theta_phase  \\\n",
       "0  [-1.0597045, -1.0193127, -0.9789509, -0.938608...   \n",
       "1  [-1.0413939, -0.9972529, -0.953115, -0.9089798...   \n",
       "2  [-1.5829574, -1.5362812, -1.4894676, -1.442518...   \n",
       "3  [-2.7217343, -2.6761148, -2.6304095, -2.584616...   \n",
       "4  [-1.4375641, -1.3976009, -1.3576338, -1.317669...   \n",
       "\n",
       "                               trial_vHPC_gamma_band  \\\n",
       "0  [-0.22174568, -0.15121, -0.07674848, -0.003606...   \n",
       "1  [-0.19825788, -0.17507692, -0.1398036, -0.0950...   \n",
       "2  [-0.01912621, -0.033232022, -0.049906872, -0.0...   \n",
       "3  [0.079524525, 0.13604781, 0.17970274, 0.207705...   \n",
       "4  [0.21734843, 0.26351532, 0.2944534, 0.30633113...   \n",
       "\n",
       "                              trial_vHPC_gamma_phase  \\\n",
       "0  [-2.3506742, -2.0960093, -1.8404455, -1.583913...   \n",
       "1  [-2.806776, -2.5489123, -2.2918756, -2.035616,...   \n",
       "2  [1.9426272, 2.1319108, 2.337184, 2.552226, 2.7...   \n",
       "3  [-1.237902, -0.9604684, -0.68224925, -0.403271...   \n",
       "4  [-0.6291391, -0.37048072, -0.112057924, 0.1461...   \n",
       "\n",
       "                                trial_vHPC_lfp_trace  \\\n",
       "0  [-4.29, 39.975, 43.094997, 21.06, -5.6549997, ...   \n",
       "1  [263.835, 275.34, 281.97, 297.96, 333.06, 362....   \n",
       "2  [-52.065, -62.789997, -52.454998, -24.765, -14...   \n",
       "3  [-358.02, -340.275, -334.22998, -328.185, -330...   \n",
       "4  [163.40999, 159.51, 179.985, 185.64, 168.87, 1...   \n",
       "\n",
       "                               trial_vHPC_theta_band  \\\n",
       "0  [0.4803362, 0.48351339, 0.48608577, 0.48801196...   \n",
       "1  [0.8099415, 0.8086726, 0.8049505, 0.7988323, 0...   \n",
       "2  [-0.10823959, -0.09060646, -0.073256046, -0.05...   \n",
       "3  [-1.5992576, -1.5621724, -1.5210515, -1.475959...   \n",
       "4  [0.26782152, 0.24838205, 0.22872408, 0.2089296...   \n",
       "\n",
       "                              trial_vHPC_theta_phase  \\\n",
       "0  [0.14521578, 0.18225646, 0.2195385, 0.25703296...   \n",
       "1  [-0.19100325, -0.13849367, -0.08597504, -0.033...   \n",
       "2  [-1.9164537, -1.8633498, -1.8102874, -1.757266...   \n",
       "3  [-2.6333451, -2.5866175, -2.5398245, -2.492964...   \n",
       "4  [0.83442557, 0.8842498, 0.93427587, 0.98450065...   \n",
       "\n",
       "                                trial_lfp_timestamps  \n",
       "0  [1275900, 1275920, 1275940, 1275960, 1275980, ...  \n",
       "1  [1275900, 1275920, 1275940, 1275960, 1275980, ...  \n",
       "2  [3275920, 3275940, 3275960, 3275980, 3276000, ...  \n",
       "3  [3275920, 3275940, 3275960, 3275980, 3276000, ...  \n",
       "4  [4475940, 4475960, 4475980, 4476000, 4476020, ...  \n",
       "\n",
       "[5 rows x 243 columns]"
      ]
     },
     "execution_count": 31,
     "metadata": {},
     "output_type": "execute_result"
    }
   ],
   "source": [
    "TRIALS_AND_SPECTRAL_DF.head()"
   ]
  },
  {
   "cell_type": "code",
   "execution_count": 32,
   "metadata": {
    "tags": []
   },
   "outputs": [],
   "source": [
    "comp_closeness_dict = {'Subj 1 blocking Subj 2': \"competitive\",\n",
    "'Subj 2 Only': \"no_comp\",\n",
    "'Subj 2 blocking Subj 1': \"competitive\",\n",
    "'Subj 1 then Subj 2': \"competitive\", \n",
    "'Subj 1 Only': \"no_comp\",\n",
    "'Subj 2 then Subj 1': \"competitive\",\n",
    "'Close Call': \"competitive\",\n",
    "'After trial': \"no_comp\"}"
   ]
  },
  {
   "cell_type": "code",
   "execution_count": 33,
   "metadata": {},
   "outputs": [],
   "source": [
    "# cluster_to_competitiveness = {\"0\": \"no_comp\", \"1\": \"competitive\", \"2\": \"competitive\", \"3\": \"no_comp\", \"4\": \"competitive\", \"5\": \"no_comp\", \"6\": \"no_comp\", \"7\": \"no_comp\"}\n",
    "# cluster_to_comp_id = {\"0\": \"no_comp_8\", \"1\": \"competitive_3\", \"2\": \"competitive_1\", \"3\": \"no_comp_6\", \"4\": \"competitive_2\", \"5\": \"no_comp_7\", \"6\": \"no_comp_5\", \"7\": \"no_comp_4\"}\n",
    "# comp_id = {\"no_comp_8\", \"competitive_3\", \"competitive_1\", \"no_comp_6\", \"competitive_2\", \"no_comp_7\", \"no_comp_5\", \"no_comp_4\"}\n"
   ]
  },
  {
   "cell_type": "markdown",
   "metadata": {},
   "source": [
    "Win base color\n",
    "#0045A6 \n",
    "Win competitive color\n",
    "#003074\n",
    "Win no comp color\n",
    "#4d7dc1\n",
    "\n",
    "Lose base color\n",
    "#792910\n",
    "Lose competitive color\n",
    "#551d0b\n",
    "Lose no comp color\n",
    "#a16958"
   ]
  },
  {
   "cell_type": "code",
   "execution_count": 34,
   "metadata": {
    "tags": []
   },
   "outputs": [],
   "source": [
    "TRIALS_AND_SPECTRAL_DF[\"current_subject\"] = TRIALS_AND_SPECTRAL_DF[\"current_subject\"].apply(lambda x: str(x).strip().lower())"
   ]
  },
  {
   "cell_type": "code",
   "execution_count": 35,
   "metadata": {},
   "outputs": [],
   "source": [
    "TRIALS_AND_SPECTRAL_DF = TRIALS_AND_SPECTRAL_DF[TRIALS_AND_SPECTRAL_DF[\"current_subject\"].isin(GOOD_SUBJECTS)]"
   ]
  },
  {
   "cell_type": "code",
   "execution_count": 36,
   "metadata": {},
   "outputs": [
    {
     "data": {
      "text/plain": [
       "array(['3.1', '3.3', '4.2', '4.3', '3.4', '5.2', '5.3'], dtype=object)"
      ]
     },
     "execution_count": 36,
     "metadata": {},
     "output_type": "execute_result"
    }
   ],
   "source": [
    "TRIALS_AND_SPECTRAL_DF[\"current_subject\"].unique()"
   ]
  },
  {
   "cell_type": "code",
   "execution_count": 37,
   "metadata": {},
   "outputs": [],
   "source": [
    "TRIALS_AND_SPECTRAL_DF = TRIALS_AND_SPECTRAL_DF[TRIALS_AND_SPECTRAL_DF[\"condition\"] != \"tie\"].reset_index(drop=True)"
   ]
  },
  {
   "cell_type": "code",
   "execution_count": 38,
   "metadata": {},
   "outputs": [],
   "source": [
    "TRIALS_AND_SPECTRAL_DF = TRIALS_AND_SPECTRAL_DF[TRIALS_AND_SPECTRAL_DF[\"condition\"] != \"temp\"].reset_index(drop=True)"
   ]
  },
  {
   "cell_type": "code",
   "execution_count": 39,
   "metadata": {},
   "outputs": [
    {
     "data": {
      "text/plain": [
       "array(['rewarded', 3.1, 3.3, 4.3, 3.4, 4.4, 5.3, 4.2, 5.4, 5.2],\n",
       "      dtype=object)"
      ]
     },
     "execution_count": 39,
     "metadata": {},
     "output_type": "execute_result"
    }
   ],
   "source": [
    "TRIALS_AND_SPECTRAL_DF[\"condition\"].unique()"
   ]
  },
  {
   "cell_type": "code",
   "execution_count": 40,
   "metadata": {
    "tags": []
   },
   "outputs": [],
   "source": [
    "TRIALS_AND_SPECTRAL_DF[\"condition\"] = TRIALS_AND_SPECTRAL_DF[\"condition\"].apply(lambda x: str(x).strip().lower())"
   ]
  },
  {
   "cell_type": "code",
   "execution_count": 41,
   "metadata": {
    "tags": []
   },
   "outputs": [],
   "source": [
    "TRIALS_AND_SPECTRAL_DF[\"trial_label\"] = TRIALS_AND_SPECTRAL_DF.apply(lambda x: \"win\" if x[\"current_subject\"] == x[\"condition\"]  else (\"lose\" if x[\"agent\"] == x[\"condition\"] else x[\"condition\"]), axis=1)\n",
    "                                                                        "
   ]
  },
  {
   "cell_type": "code",
   "execution_count": 42,
   "metadata": {},
   "outputs": [
    {
     "data": {
      "text/plain": [
       "array(['rewarded', 'win', 'lose'], dtype=object)"
      ]
     },
     "execution_count": 42,
     "metadata": {},
     "output_type": "execute_result"
    }
   ],
   "source": [
    "TRIALS_AND_SPECTRAL_DF[\"trial_label\"].unique()"
   ]
  },
  {
   "cell_type": "code",
   "execution_count": 43,
   "metadata": {
    "tags": []
   },
   "outputs": [],
   "source": [
    "TRIALS_AND_SPECTRAL_DF[\"competition_closeness\"] = TRIALS_AND_SPECTRAL_DF[\"competition_closeness\"].map(comp_closeness_dict)"
   ]
  },
  {
   "cell_type": "code",
   "execution_count": 44,
   "metadata": {
    "tags": []
   },
   "outputs": [
    {
     "data": {
      "text/plain": [
       "array(['rewarded', 'win', 'lose'], dtype=object)"
      ]
     },
     "execution_count": 44,
     "metadata": {},
     "output_type": "execute_result"
    }
   ],
   "source": [
    "TRIALS_AND_SPECTRAL_DF[\"trial_label\"].unique()"
   ]
  },
  {
   "cell_type": "code",
   "execution_count": 45,
   "metadata": {},
   "outputs": [
    {
     "data": {
      "text/plain": [
       "array([nan, 'no_comp', 'competitive'], dtype=object)"
      ]
     },
     "execution_count": 45,
     "metadata": {},
     "output_type": "execute_result"
    }
   ],
   "source": [
    "TRIALS_AND_SPECTRAL_DF[\"competition_closeness\"].unique()"
   ]
  },
  {
   "cell_type": "markdown",
   "metadata": {},
   "source": [
    "## Making separate rows for each cluster"
   ]
  },
  {
   "cell_type": "code",
   "execution_count": 46,
   "metadata": {},
   "outputs": [
    {
     "data": {
      "text/plain": [
       "{'competitive': [(34040, 34045),\n",
       "  (34241, 34257),\n",
       "  (34264, 34298),\n",
       "  (34433, 34536),\n",
       "  (34545, 34639)],\n",
       " 'no_comp': [(34046, 34240), (34258, 34263), (34299, 34432), (34537, 34544)]}"
      ]
     },
     "execution_count": 46,
     "metadata": {},
     "output_type": "execute_result"
    }
   ],
   "source": [
    "TRIALS_AND_SPECTRAL_DF[TRIALS_AND_SPECTRAL_DF[\"trial_label\"] != \"rewarded\"][\"competitiveness_frame_ranges_dict\"].iloc[0]"
   ]
  },
  {
   "cell_type": "code",
   "execution_count": 47,
   "metadata": {},
   "outputs": [
    {
     "data": {
      "text/plain": [
       "0    1272\n",
       "1    1272\n",
       "2    3268\n",
       "3    3268\n",
       "4    4466\n",
       "Name: tone_start_frame, dtype: int64"
      ]
     },
     "execution_count": 47,
     "metadata": {},
     "output_type": "execute_result"
    }
   ],
   "source": [
    "TRIALS_AND_SPECTRAL_DF[\"tone_start_frame\"].head()"
   ]
  },
  {
   "cell_type": "code",
   "execution_count": 48,
   "metadata": {},
   "outputs": [
    {
     "data": {
      "text/plain": [
       "0        1471\n",
       "1        1471\n",
       "2        3469\n",
       "3        3469\n",
       "4        4667\n",
       "        ...  \n",
       "1138    50711\n",
       "1139    52108\n",
       "1140    52108\n",
       "1141    54304\n",
       "1142    54304\n",
       "Name: tone_stop_frame, Length: 1143, dtype: int64"
      ]
     },
     "execution_count": 48,
     "metadata": {},
     "output_type": "execute_result"
    }
   ],
   "source": [
    "TRIALS_AND_SPECTRAL_DF[\"tone_stop_frame\"]"
   ]
  },
  {
   "cell_type": "markdown",
   "metadata": {},
   "source": [
    "- Making each dictionary into a list so that we can explode it"
   ]
  },
  {
   "cell_type": "code",
   "execution_count": 49,
   "metadata": {},
   "outputs": [],
   "source": [
    "dict_col = [col for col in TRIALS_AND_SPECTRAL_DF.columns if \"dict\" in col and \"competitiveness\" in col]\n"
   ]
  },
  {
   "cell_type": "code",
   "execution_count": 50,
   "metadata": {},
   "outputs": [
    {
     "data": {
      "text/plain": [
       "['competitiveness_index_ranges_dict', 'competitiveness_frame_ranges_dict']"
      ]
     },
     "execution_count": 50,
     "metadata": {},
     "output_type": "execute_result"
    }
   ],
   "source": [
    "dict_col"
   ]
  },
  {
   "cell_type": "code",
   "execution_count": 51,
   "metadata": {},
   "outputs": [
    {
     "data": {
      "text/plain": [
       "{'competitive': [(0, 5), (201, 217), (224, 258), (393, 496), (505, 599)],\n",
       " 'no_comp': [(6, 200), (218, 223), (259, 392), (497, 504)]}"
      ]
     },
     "execution_count": 51,
     "metadata": {},
     "output_type": "execute_result"
    }
   ],
   "source": [
    "TRIALS_AND_SPECTRAL_DF[TRIALS_AND_SPECTRAL_DF[\"trial_label\"] != \"rewarded\"][\"competitiveness_index_ranges_dict\"].iloc[0]"
   ]
  },
  {
   "cell_type": "code",
   "execution_count": 52,
   "metadata": {},
   "outputs": [],
   "source": [
    "for col in dict_col:\n",
    "    TRIALS_AND_SPECTRAL_DF[col] = TRIALS_AND_SPECTRAL_DF.apply(lambda x: list(x[col].items()) if isinstance(x[col], dict) else [(\"rewarded\", [(x[\"tone_start_frame\"], x[\"tone_stop_frame\"])])], axis=1)"
   ]
  },
  {
   "cell_type": "code",
   "execution_count": 53,
   "metadata": {},
   "outputs": [
    {
     "data": {
      "text/plain": [
       "0    [(rewarded, [(1272, 1471)])]\n",
       "1    [(rewarded, [(1272, 1471)])]\n",
       "2    [(rewarded, [(3268, 3469)])]\n",
       "3    [(rewarded, [(3268, 3469)])]\n",
       "4    [(rewarded, [(4466, 4667)])]\n",
       "Name: competitiveness_frame_ranges_dict, dtype: object"
      ]
     },
     "execution_count": 53,
     "metadata": {},
     "output_type": "execute_result"
    }
   ],
   "source": [
    "TRIALS_AND_SPECTRAL_DF[\"competitiveness_frame_ranges_dict\"].head()"
   ]
  },
  {
   "cell_type": "code",
   "execution_count": 54,
   "metadata": {},
   "outputs": [
    {
     "data": {
      "text/plain": [
       "42    [(competitive, [(34040, 34045), (34241, 34257)...\n",
       "43    [(competitive, [(34040, 34045), (34241, 34257)...\n",
       "44    [(no_comp, [(35038, 35090), (35167, 35172), (3...\n",
       "45    [(no_comp, [(35038, 35090), (35167, 35172), (3...\n",
       "46    [(no_comp, [(36137, 36386), (36438, 36503), (3...\n",
       "Name: competitiveness_frame_ranges_dict, dtype: object"
      ]
     },
     "execution_count": 54,
     "metadata": {},
     "output_type": "execute_result"
    }
   ],
   "source": [
    "TRIALS_AND_SPECTRAL_DF[TRIALS_AND_SPECTRAL_DF[\"trial_label\"] != \"rewarded\"][\"competitiveness_frame_ranges_dict\"].head()"
   ]
  },
  {
   "cell_type": "code",
   "execution_count": 55,
   "metadata": {},
   "outputs": [],
   "source": [
    "cluster_exploded_TRIALS_AND_SPECTRAL_DF = TRIALS_AND_SPECTRAL_DF.explode(column=dict_col)"
   ]
  },
  {
   "cell_type": "code",
   "execution_count": 56,
   "metadata": {},
   "outputs": [
    {
     "data": {
      "text/plain": [
       "0    (rewarded, [(1272, 1471)])\n",
       "1    (rewarded, [(1272, 1471)])\n",
       "2    (rewarded, [(3268, 3469)])\n",
       "3    (rewarded, [(3268, 3469)])\n",
       "4    (rewarded, [(4466, 4667)])\n",
       "Name: competitiveness_frame_ranges_dict, dtype: object"
      ]
     },
     "execution_count": 56,
     "metadata": {},
     "output_type": "execute_result"
    }
   ],
   "source": [
    "cluster_exploded_TRIALS_AND_SPECTRAL_DF[\"competitiveness_frame_ranges_dict\"].head()"
   ]
  },
  {
   "cell_type": "code",
   "execution_count": 57,
   "metadata": {},
   "outputs": [
    {
     "data": {
      "text/plain": [
       "42    (competitive, [(34040, 34045), (34241, 34257),...\n",
       "42    (no_comp, [(34046, 34240), (34258, 34263), (34...\n",
       "43    (competitive, [(34040, 34045), (34241, 34257),...\n",
       "43    (no_comp, [(34046, 34240), (34258, 34263), (34...\n",
       "44    (no_comp, [(35038, 35090), (35167, 35172), (35...\n",
       "Name: competitiveness_frame_ranges_dict, dtype: object"
      ]
     },
     "execution_count": 57,
     "metadata": {},
     "output_type": "execute_result"
    }
   ],
   "source": [
    "cluster_exploded_TRIALS_AND_SPECTRAL_DF[cluster_exploded_TRIALS_AND_SPECTRAL_DF[\"trial_label\"] != \"rewarded\"][\"competitiveness_frame_ranges_dict\"].head()"
   ]
  },
  {
   "cell_type": "code",
   "execution_count": 58,
   "metadata": {},
   "outputs": [],
   "source": [
    "cluster_exploded_TRIALS_AND_SPECTRAL_DF[\"competitiveness_label\"] = cluster_exploded_TRIALS_AND_SPECTRAL_DF[\"competitiveness_frame_ranges_dict\"].apply(lambda x: x[0])"
   ]
  },
  {
   "cell_type": "code",
   "execution_count": 59,
   "metadata": {},
   "outputs": [],
   "source": [
    "cluster_exploded_TRIALS_AND_SPECTRAL_DF[\"trial_and_competitiveness_label\"] = cluster_exploded_TRIALS_AND_SPECTRAL_DF.apply(lambda x: \"_\".join([x[\"trial_label\"], x[\"competitiveness_label\"]]) if  x[\"trial_label\"] != x[\"competitiveness_label\"] else x[\"trial_label\"], axis=1)"
   ]
  },
  {
   "cell_type": "code",
   "execution_count": 60,
   "metadata": {},
   "outputs": [
    {
     "data": {
      "text/plain": [
       "array(['rewarded', 'win_competitive', 'win_no_comp', 'lose_competitive',\n",
       "       'lose_no_comp'], dtype=object)"
      ]
     },
     "execution_count": 60,
     "metadata": {},
     "output_type": "execute_result"
    }
   ],
   "source": [
    "cluster_exploded_TRIALS_AND_SPECTRAL_DF[\"trial_and_competitiveness_label\"].unique()"
   ]
  },
  {
   "cell_type": "code",
   "execution_count": 61,
   "metadata": {},
   "outputs": [],
   "source": [
    "cluster_exploded_TRIALS_AND_SPECTRAL_DF[\"competitiveness_frame_ranges\"] = cluster_exploded_TRIALS_AND_SPECTRAL_DF[\"competitiveness_frame_ranges_dict\"].apply(lambda x: x[1])"
   ]
  },
  {
   "cell_type": "code",
   "execution_count": 62,
   "metadata": {},
   "outputs": [
    {
     "data": {
      "text/plain": [
       "0    rewarded\n",
       "1    rewarded\n",
       "2    rewarded\n",
       "3    rewarded\n",
       "4    rewarded\n",
       "Name: competitiveness_label, dtype: object"
      ]
     },
     "execution_count": 62,
     "metadata": {},
     "output_type": "execute_result"
    }
   ],
   "source": [
    "cluster_exploded_TRIALS_AND_SPECTRAL_DF[\"competitiveness_label\"].head()"
   ]
  },
  {
   "cell_type": "code",
   "execution_count": 63,
   "metadata": {},
   "outputs": [
    {
     "data": {
      "text/plain": [
       "42    competitive\n",
       "42        no_comp\n",
       "43    competitive\n",
       "43        no_comp\n",
       "44        no_comp\n",
       "Name: competitiveness_label, dtype: object"
      ]
     },
     "execution_count": 63,
     "metadata": {},
     "output_type": "execute_result"
    }
   ],
   "source": [
    "cluster_exploded_TRIALS_AND_SPECTRAL_DF[cluster_exploded_TRIALS_AND_SPECTRAL_DF[\"trial_label\"] != \"rewarded\"][\"competitiveness_label\"].head()"
   ]
  },
  {
   "cell_type": "code",
   "execution_count": 64,
   "metadata": {},
   "outputs": [
    {
     "data": {
      "text/plain": [
       "0    [(1272, 1471)]\n",
       "1    [(1272, 1471)]\n",
       "2    [(3268, 3469)]\n",
       "3    [(3268, 3469)]\n",
       "4    [(4466, 4667)]\n",
       "Name: competitiveness_frame_ranges, dtype: object"
      ]
     },
     "execution_count": 64,
     "metadata": {},
     "output_type": "execute_result"
    }
   ],
   "source": [
    "cluster_exploded_TRIALS_AND_SPECTRAL_DF[\"competitiveness_frame_ranges\"].head()"
   ]
  },
  {
   "cell_type": "code",
   "execution_count": 65,
   "metadata": {},
   "outputs": [
    {
     "data": {
      "text/plain": [
       "42    [(34040, 34045), (34241, 34257), (34264, 34298...\n",
       "42    [(34046, 34240), (34258, 34263), (34299, 34432...\n",
       "43    [(34040, 34045), (34241, 34257), (34264, 34298...\n",
       "43    [(34046, 34240), (34258, 34263), (34299, 34432...\n",
       "44    [(35038, 35090), (35167, 35172), (35201, 35248...\n",
       "Name: competitiveness_frame_ranges, dtype: object"
      ]
     },
     "execution_count": 65,
     "metadata": {},
     "output_type": "execute_result"
    }
   ],
   "source": [
    "cluster_exploded_TRIALS_AND_SPECTRAL_DF[cluster_exploded_TRIALS_AND_SPECTRAL_DF[\"trial_label\"] != \"rewarded\"][\"competitiveness_frame_ranges\"].head()"
   ]
  },
  {
   "cell_type": "markdown",
   "metadata": {},
   "source": [
    "- Filtering for ranges that are 1 second consecutive"
   ]
  },
  {
   "cell_type": "code",
   "execution_count": 66,
   "metadata": {},
   "outputs": [
    {
     "data": {
      "text/plain": [
       "0                                          [(1272, 1471)]\n",
       "1                                          [(1272, 1471)]\n",
       "2                                          [(3268, 3469)]\n",
       "3                                          [(3268, 3469)]\n",
       "4                                          [(4466, 4667)]\n",
       "                              ...                        \n",
       "1140                     [(51823, 52219), (52251, 52299)]\n",
       "1141    [(53904, 53948), (53980, 54023), (54064, 54110...\n",
       "1141    [(53949, 53979), (54024, 54063), (54111, 54119...\n",
       "1142    [(53904, 53948), (53980, 54023), (54064, 54110...\n",
       "1142    [(53949, 53979), (54024, 54063), (54111, 54119...\n",
       "Name: competitiveness_frame_ranges, Length: 1752, dtype: object"
      ]
     },
     "execution_count": 66,
     "metadata": {},
     "output_type": "execute_result"
    }
   ],
   "source": [
    "cluster_exploded_TRIALS_AND_SPECTRAL_DF[\"competitiveness_frame_ranges\"]"
   ]
  },
  {
   "cell_type": "markdown",
   "metadata": {},
   "source": [
    "- Filtering for ranges that are at least 1 second"
   ]
  },
  {
   "cell_type": "code",
   "execution_count": 67,
   "metadata": {},
   "outputs": [],
   "source": [
    "cluster_exploded_TRIALS_AND_SPECTRAL_DF[\"competitiveness_frame_ranges\"] = cluster_exploded_TRIALS_AND_SPECTRAL_DF[\"competitiveness_frame_ranges\"].apply(lambda x: [(start, stop) for start, stop in x if stop - start >= 20])"
   ]
  },
  {
   "cell_type": "code",
   "execution_count": 68,
   "metadata": {},
   "outputs": [],
   "source": [
    "cluster_exploded_TRIALS_AND_SPECTRAL_DF = cluster_exploded_TRIALS_AND_SPECTRAL_DF[cluster_exploded_TRIALS_AND_SPECTRAL_DF[\"competitiveness_frame_ranges\"].apply(lambda x: len(x) >= 1)]"
   ]
  },
  {
   "cell_type": "code",
   "execution_count": 69,
   "metadata": {},
   "outputs": [
    {
     "data": {
      "text/plain": [
       "0                                          [(1272, 1471)]\n",
       "1                                          [(1272, 1471)]\n",
       "2                                          [(3268, 3469)]\n",
       "3                                          [(3268, 3469)]\n",
       "4                                          [(4466, 4667)]\n",
       "                              ...                        \n",
       "1140                     [(51823, 52219), (52251, 52299)]\n",
       "1141    [(53904, 53948), (53980, 54023), (54064, 54110...\n",
       "1141    [(53949, 53979), (54024, 54063), (54213, 54244...\n",
       "1142    [(53904, 53948), (53980, 54023), (54064, 54110...\n",
       "1142    [(53949, 53979), (54024, 54063), (54213, 54244...\n",
       "Name: competitiveness_frame_ranges, Length: 1693, dtype: object"
      ]
     },
     "execution_count": 69,
     "metadata": {},
     "output_type": "execute_result"
    }
   ],
   "source": [
    "cluster_exploded_TRIALS_AND_SPECTRAL_DF[\"competitiveness_frame_ranges\"]"
   ]
  },
  {
   "cell_type": "markdown",
   "metadata": {},
   "source": [
    "- Getting the timestamps for each frame"
   ]
  },
  {
   "cell_type": "code",
   "execution_count": 70,
   "metadata": {},
   "outputs": [],
   "source": [
    "cluster_exploded_TRIALS_AND_SPECTRAL_DF[\"competitiveness_timestamp_ranges\"] = cluster_exploded_TRIALS_AND_SPECTRAL_DF.apply(lambda x: update_tuples_in_list(x[\"competitiveness_frame_ranges\"], x[\"video_timestamps\"]), axis=1)"
   ]
  },
  {
   "cell_type": "code",
   "execution_count": 71,
   "metadata": {},
   "outputs": [
    {
     "data": {
      "text/plain": [
       "42      [(34300270, 34334917), (34470732, 34573286), (...\n",
       "42           [(34082688, 34276710), (34336303, 34469346)]\n",
       "43      [(34300270, 34334917), (34470732, 34573286), (...\n",
       "43           [(34082688, 34276710), (34336303, 34469346)]\n",
       "44      [(35076357, 35129020), (35239890, 35287009), (...\n",
       "                              ...                        \n",
       "1140         [(51920215, 52317960), (52349835, 52398340)]\n",
       "1141    [(54005949, 54050297), (54082172, 54125134), (...\n",
       "1141    [(54050297, 54080786), (54126520, 54165324), (...\n",
       "1142    [(54005949, 54050297), (54082172, 54125134), (...\n",
       "1142    [(54050297, 54080786), (54126520, 54165324), (...\n",
       "Name: competitiveness_timestamp_ranges, Length: 1189, dtype: object"
      ]
     },
     "execution_count": 71,
     "metadata": {},
     "output_type": "execute_result"
    }
   ],
   "source": [
    "cluster_exploded_TRIALS_AND_SPECTRAL_DF[cluster_exploded_TRIALS_AND_SPECTRAL_DF[\"trial_label\"] != \"rewarded\"][\"competitiveness_timestamp_ranges\"]"
   ]
  },
  {
   "cell_type": "code",
   "execution_count": 72,
   "metadata": {},
   "outputs": [
    {
     "data": {
      "text/plain": [
       "0                                    [(1276384, 1475949)]\n",
       "1                                    [(1276384, 1475949)]\n",
       "2                                    [(3276194, 3477145)]\n",
       "3                                    [(3276194, 3477145)]\n",
       "4                                    [(4476357, 4677308)]\n",
       "                              ...                        \n",
       "1140         [(51920215, 52317960), (52349835, 52398340)]\n",
       "1141    [(54005949, 54050297), (54082172, 54125134), (...\n",
       "1141    [(54050297, 54080786), (54126520, 54165324), (...\n",
       "1142    [(54005949, 54050297), (54082172, 54125134), (...\n",
       "1142    [(54050297, 54080786), (54126520, 54165324), (...\n",
       "Name: competitiveness_timestamp_ranges, Length: 1693, dtype: object"
      ]
     },
     "execution_count": 72,
     "metadata": {},
     "output_type": "execute_result"
    }
   ],
   "source": [
    "cluster_exploded_TRIALS_AND_SPECTRAL_DF[\"competitiveness_timestamp_ranges\"]"
   ]
  },
  {
   "cell_type": "markdown",
   "metadata": {},
   "source": [
    "- Getting all the spectral timestamps that are in the ranges"
   ]
  },
  {
   "cell_type": "code",
   "execution_count": 73,
   "metadata": {
    "tags": []
   },
   "outputs": [],
   "source": [
    "timestamps_col = [col for col in cluster_exploded_TRIALS_AND_SPECTRAL_DF.columns if \"timestamps\" in col and \"video\" not in col and \"trial\" in col]"
   ]
  },
  {
   "cell_type": "code",
   "execution_count": 74,
   "metadata": {
    "tags": []
   },
   "outputs": [
    {
     "data": {
      "text/plain": [
       "['trial_coherence_timestamps',\n",
       " 'trial_granger_timestamps',\n",
       " 'trial_power_timestamps',\n",
       " 'trial_lfp_timestamps']"
      ]
     },
     "execution_count": 74,
     "metadata": {},
     "output_type": "execute_result"
    }
   ],
   "source": [
    "timestamps_col"
   ]
  },
  {
   "cell_type": "markdown",
   "metadata": {},
   "source": [
    "- Getting all the indexes that fit within each range"
   ]
  },
  {
   "cell_type": "code",
   "execution_count": 75,
   "metadata": {
    "tags": []
   },
   "outputs": [
    {
     "name": "stdout",
     "output_type": "stream",
     "text": [
      "coherence_index\n",
      "granger_index\n",
      "power_index\n",
      "lfp_index\n"
     ]
    }
   ],
   "source": [
    "for col in timestamps_col:\n",
    "    base_col = col.replace(\"trial_\", \"\").replace(\"timestamps\", \"index\")\n",
    "    print(base_col)\n",
    "    cluster_exploded_TRIALS_AND_SPECTRAL_DF[\"cluster_filtered_{}\".format(base_col)] = cluster_exploded_TRIALS_AND_SPECTRAL_DF.apply(lambda x: find_indices_within_ranges(x[\"competitiveness_timestamp_ranges\"], x[col]), axis=1)"
   ]
  },
  {
   "cell_type": "code",
   "execution_count": 76,
   "metadata": {},
   "outputs": [
    {
     "data": {
      "text/plain": [
       "'lfp_index'"
      ]
     },
     "execution_count": 76,
     "metadata": {},
     "output_type": "execute_result"
    }
   ],
   "source": [
    "base_col"
   ]
  },
  {
   "cell_type": "code",
   "execution_count": 77,
   "metadata": {},
   "outputs": [
    {
     "data": {
      "text/plain": [
       "(10000,)"
      ]
     },
     "execution_count": 77,
     "metadata": {},
     "output_type": "execute_result"
    }
   ],
   "source": [
    "cluster_exploded_TRIALS_AND_SPECTRAL_DF[\"trial_mPFC_theta_band\"].iloc[0].shape"
   ]
  },
  {
   "cell_type": "code",
   "execution_count": 78,
   "metadata": {},
   "outputs": [
    {
     "data": {
      "text/plain": [
       "[25, 26, 27, 28, 29, 30, 31, 32, 33, 34]"
      ]
     },
     "execution_count": 78,
     "metadata": {},
     "output_type": "execute_result"
    }
   ],
   "source": [
    "cluster_exploded_TRIALS_AND_SPECTRAL_DF[\"cluster_filtered_{}\".format(base_col)].iloc[0][:10]"
   ]
  },
  {
   "cell_type": "code",
   "execution_count": 79,
   "metadata": {},
   "outputs": [
    {
     "data": {
      "text/plain": [
       "[9990, 9991, 9992, 9993, 9994, 9995, 9996, 9997, 9998, 9999]"
      ]
     },
     "execution_count": 79,
     "metadata": {},
     "output_type": "execute_result"
    }
   ],
   "source": [
    "cluster_exploded_TRIALS_AND_SPECTRAL_DF[\"cluster_filtered_{}\".format(base_col)].iloc[0][-10:]"
   ]
  },
  {
   "cell_type": "code",
   "execution_count": null,
   "metadata": {},
   "outputs": [],
   "source": []
  },
  {
   "cell_type": "markdown",
   "metadata": {},
   "source": [
    "# Filtering for rows"
   ]
  },
  {
   "cell_type": "code",
   "execution_count": 80,
   "metadata": {},
   "outputs": [
    {
     "data": {
      "text/html": [
       "<div>\n",
       "<style scoped>\n",
       "    .dataframe tbody tr th:only-of-type {\n",
       "        vertical-align: middle;\n",
       "    }\n",
       "\n",
       "    .dataframe tbody tr th {\n",
       "        vertical-align: top;\n",
       "    }\n",
       "\n",
       "    .dataframe thead th {\n",
       "        text-align: right;\n",
       "    }\n",
       "</style>\n",
       "<table border=\"1\" class=\"dataframe\">\n",
       "  <thead>\n",
       "    <tr style=\"text-align: right;\">\n",
       "      <th></th>\n",
       "      <th>tone_start_frame</th>\n",
       "      <th>reward_start</th>\n",
       "      <th>reward_dispensed</th>\n",
       "      <th>tone_stop_frame</th>\n",
       "      <th>condition</th>\n",
       "      <th>competition_closeness</th>\n",
       "      <th>get_reward_frame</th>\n",
       "      <th>out_reward_frame</th>\n",
       "      <th>experiment</th>\n",
       "      <th>video_name</th>\n",
       "      <th>...</th>\n",
       "      <th>trial_lfp_timestamps</th>\n",
       "      <th>trial_label</th>\n",
       "      <th>competitiveness_label</th>\n",
       "      <th>trial_and_competitiveness_label</th>\n",
       "      <th>competitiveness_frame_ranges</th>\n",
       "      <th>competitiveness_timestamp_ranges</th>\n",
       "      <th>cluster_filtered_coherence_index</th>\n",
       "      <th>cluster_filtered_granger_index</th>\n",
       "      <th>cluster_filtered_power_index</th>\n",
       "      <th>cluster_filtered_lfp_index</th>\n",
       "    </tr>\n",
       "  </thead>\n",
       "  <tbody>\n",
       "    <tr>\n",
       "      <th>0</th>\n",
       "      <td>1272</td>\n",
       "      <td>1352</td>\n",
       "      <td>1372.0</td>\n",
       "      <td>1471</td>\n",
       "      <td>rewarded</td>\n",
       "      <td>NaN</td>\n",
       "      <td>NaN</td>\n",
       "      <td>NaN</td>\n",
       "      <td>alone_comp</td>\n",
       "      <td>20240320_142408_alone_comp_subj_3-1_and_3-3.1</td>\n",
       "      <td>...</td>\n",
       "      <td>[1275900, 1275920, 1275940, 1275960, 1275980, ...</td>\n",
       "      <td>rewarded</td>\n",
       "      <td>rewarded</td>\n",
       "      <td>rewarded</td>\n",
       "      <td>[(1272, 1471)]</td>\n",
       "      <td>[(1276384, 1475949)]</td>\n",
       "      <td>[0, 1, 2, 3, 4, 5, 6, 7, 8, 9, 10, 11, 12, 13,...</td>\n",
       "      <td>[0, 1, 2, 3, 4, 5, 6, 7, 8, 9, 10, 11, 12, 13,...</td>\n",
       "      <td>[0, 1, 2, 3, 4, 5, 6, 7, 8, 9, 10, 11, 12, 13,...</td>\n",
       "      <td>[25, 26, 27, 28, 29, 30, 31, 32, 33, 34, 35, 3...</td>\n",
       "    </tr>\n",
       "    <tr>\n",
       "      <th>1</th>\n",
       "      <td>1272</td>\n",
       "      <td>1352</td>\n",
       "      <td>1372.0</td>\n",
       "      <td>1471</td>\n",
       "      <td>rewarded</td>\n",
       "      <td>NaN</td>\n",
       "      <td>NaN</td>\n",
       "      <td>NaN</td>\n",
       "      <td>alone_comp</td>\n",
       "      <td>20240320_142408_alone_comp_subj_3-1_and_3-3.1</td>\n",
       "      <td>...</td>\n",
       "      <td>[1275900, 1275920, 1275940, 1275960, 1275980, ...</td>\n",
       "      <td>rewarded</td>\n",
       "      <td>rewarded</td>\n",
       "      <td>rewarded</td>\n",
       "      <td>[(1272, 1471)]</td>\n",
       "      <td>[(1276384, 1475949)]</td>\n",
       "      <td>[0, 1, 2, 3, 4, 5, 6, 7, 8, 9, 10, 11, 12, 13,...</td>\n",
       "      <td>[0, 1, 2, 3, 4, 5, 6, 7, 8, 9, 10, 11, 12, 13,...</td>\n",
       "      <td>[0, 1, 2, 3, 4, 5, 6, 7, 8, 9, 10, 11, 12, 13,...</td>\n",
       "      <td>[25, 26, 27, 28, 29, 30, 31, 32, 33, 34, 35, 3...</td>\n",
       "    </tr>\n",
       "    <tr>\n",
       "      <th>2</th>\n",
       "      <td>3268</td>\n",
       "      <td>3348</td>\n",
       "      <td>3368.0</td>\n",
       "      <td>3469</td>\n",
       "      <td>rewarded</td>\n",
       "      <td>NaN</td>\n",
       "      <td>NaN</td>\n",
       "      <td>NaN</td>\n",
       "      <td>alone_comp</td>\n",
       "      <td>20240320_142408_alone_comp_subj_3-1_and_3-3.1</td>\n",
       "      <td>...</td>\n",
       "      <td>[3275920, 3275940, 3275960, 3275980, 3276000, ...</td>\n",
       "      <td>rewarded</td>\n",
       "      <td>rewarded</td>\n",
       "      <td>rewarded</td>\n",
       "      <td>[(3268, 3469)]</td>\n",
       "      <td>[(3276194, 3477145)]</td>\n",
       "      <td>[0, 1, 2, 3, 4, 5, 6, 7, 8, 9, 10, 11, 12, 13,...</td>\n",
       "      <td>[0, 1, 2, 3, 4, 5, 6, 7, 8, 9, 10, 11, 12, 13,...</td>\n",
       "      <td>[0, 1, 2, 3, 4, 5, 6, 7, 8, 9, 10, 11, 12, 13,...</td>\n",
       "      <td>[14, 15, 16, 17, 18, 19, 20, 21, 22, 23, 24, 2...</td>\n",
       "    </tr>\n",
       "    <tr>\n",
       "      <th>3</th>\n",
       "      <td>3268</td>\n",
       "      <td>3348</td>\n",
       "      <td>3368.0</td>\n",
       "      <td>3469</td>\n",
       "      <td>rewarded</td>\n",
       "      <td>NaN</td>\n",
       "      <td>NaN</td>\n",
       "      <td>NaN</td>\n",
       "      <td>alone_comp</td>\n",
       "      <td>20240320_142408_alone_comp_subj_3-1_and_3-3.1</td>\n",
       "      <td>...</td>\n",
       "      <td>[3275920, 3275940, 3275960, 3275980, 3276000, ...</td>\n",
       "      <td>rewarded</td>\n",
       "      <td>rewarded</td>\n",
       "      <td>rewarded</td>\n",
       "      <td>[(3268, 3469)]</td>\n",
       "      <td>[(3276194, 3477145)]</td>\n",
       "      <td>[0, 1, 2, 3, 4, 5, 6, 7, 8, 9, 10, 11, 12, 13,...</td>\n",
       "      <td>[0, 1, 2, 3, 4, 5, 6, 7, 8, 9, 10, 11, 12, 13,...</td>\n",
       "      <td>[0, 1, 2, 3, 4, 5, 6, 7, 8, 9, 10, 11, 12, 13,...</td>\n",
       "      <td>[14, 15, 16, 17, 18, 19, 20, 21, 22, 23, 24, 2...</td>\n",
       "    </tr>\n",
       "    <tr>\n",
       "      <th>4</th>\n",
       "      <td>4466</td>\n",
       "      <td>4546</td>\n",
       "      <td>4566.0</td>\n",
       "      <td>4667</td>\n",
       "      <td>rewarded</td>\n",
       "      <td>NaN</td>\n",
       "      <td>NaN</td>\n",
       "      <td>NaN</td>\n",
       "      <td>alone_comp</td>\n",
       "      <td>20240320_142408_alone_comp_subj_3-1_and_3-3.1</td>\n",
       "      <td>...</td>\n",
       "      <td>[4475940, 4475960, 4475980, 4476000, 4476020, ...</td>\n",
       "      <td>rewarded</td>\n",
       "      <td>rewarded</td>\n",
       "      <td>rewarded</td>\n",
       "      <td>[(4466, 4667)]</td>\n",
       "      <td>[(4476357, 4677308)]</td>\n",
       "      <td>[0, 1, 2, 3, 4, 5, 6, 7, 8, 9, 10, 11, 12, 13,...</td>\n",
       "      <td>[0, 1, 2, 3, 4, 5, 6, 7, 8, 9, 10, 11, 12, 13,...</td>\n",
       "      <td>[0, 1, 2, 3, 4, 5, 6, 7, 8, 9, 10, 11, 12, 13,...</td>\n",
       "      <td>[21, 22, 23, 24, 25, 26, 27, 28, 29, 30, 31, 3...</td>\n",
       "    </tr>\n",
       "    <tr>\n",
       "      <th>...</th>\n",
       "      <td>...</td>\n",
       "      <td>...</td>\n",
       "      <td>...</td>\n",
       "      <td>...</td>\n",
       "      <td>...</td>\n",
       "      <td>...</td>\n",
       "      <td>...</td>\n",
       "      <td>...</td>\n",
       "      <td>...</td>\n",
       "      <td>...</td>\n",
       "      <td>...</td>\n",
       "      <td>...</td>\n",
       "      <td>...</td>\n",
       "      <td>...</td>\n",
       "      <td>...</td>\n",
       "      <td>...</td>\n",
       "      <td>...</td>\n",
       "      <td>...</td>\n",
       "      <td>...</td>\n",
       "      <td>...</td>\n",
       "      <td>...</td>\n",
       "    </tr>\n",
       "    <tr>\n",
       "      <th>1140</th>\n",
       "      <td>51909</td>\n",
       "      <td>51989</td>\n",
       "      <td>52009.0</td>\n",
       "      <td>52108</td>\n",
       "      <td>5.3</td>\n",
       "      <td>competitive</td>\n",
       "      <td>51972.0</td>\n",
       "      <td>52121.0</td>\n",
       "      <td>long_comp</td>\n",
       "      <td>20240321_114851_long_comp_subj_5-2_and_5-3.1</td>\n",
       "      <td>...</td>\n",
       "      <td>[52006300, 52006320, 52006340, 52006360, 52006...</td>\n",
       "      <td>win</td>\n",
       "      <td>competitive</td>\n",
       "      <td>win_competitive</td>\n",
       "      <td>[(51823, 52219), (52251, 52299)]</td>\n",
       "      <td>[(51920215, 52317960), (52349835, 52398340)]</td>\n",
       "      <td>[0, 1, 2, 3, 4, 5, 6, 7, 8, 9, 10, 11, 12, 13,...</td>\n",
       "      <td>[0, 1, 2, 3, 4, 5, 6, 7, 8, 9, 10, 11, 12, 13,...</td>\n",
       "      <td>[0, 1, 2, 3, 4, 5, 6, 7, 8, 9, 10, 11, 12, 13,...</td>\n",
       "      <td>[0, 1, 2, 3, 4, 5, 6, 7, 8, 9, 10, 11, 12, 13,...</td>\n",
       "    </tr>\n",
       "    <tr>\n",
       "      <th>1141</th>\n",
       "      <td>54104</td>\n",
       "      <td>54184</td>\n",
       "      <td>54204.0</td>\n",
       "      <td>54304</td>\n",
       "      <td>5.3</td>\n",
       "      <td>competitive</td>\n",
       "      <td>54157.0</td>\n",
       "      <td>54286.0</td>\n",
       "      <td>long_comp</td>\n",
       "      <td>20240321_114851_long_comp_subj_5-2_and_5-3.1</td>\n",
       "      <td>...</td>\n",
       "      <td>[54206320, 54206340, 54206360, 54206380, 54206...</td>\n",
       "      <td>lose</td>\n",
       "      <td>competitive</td>\n",
       "      <td>lose_competitive</td>\n",
       "      <td>[(53904, 53948), (53980, 54023), (54064, 54110...</td>\n",
       "      <td>[(54005949, 54050297), (54082172, 54125134), (...</td>\n",
       "      <td>[0, 2, 3, 4, 5, 6, 7, 8, 9, 10, 14, 15, 16, 17...</td>\n",
       "      <td>[0, 2, 3, 4, 5, 6, 7, 8, 9, 10, 14, 15, 16, 17...</td>\n",
       "      <td>[0, 2, 3, 4, 5, 6, 7, 8, 9, 10, 14, 15, 16, 17...</td>\n",
       "      <td>[0, 1, 2, 3, 4, 5, 6, 7, 8, 9, 10, 11, 12, 13,...</td>\n",
       "    </tr>\n",
       "    <tr>\n",
       "      <th>1141</th>\n",
       "      <td>54104</td>\n",
       "      <td>54184</td>\n",
       "      <td>54204.0</td>\n",
       "      <td>54304</td>\n",
       "      <td>5.3</td>\n",
       "      <td>competitive</td>\n",
       "      <td>54157.0</td>\n",
       "      <td>54286.0</td>\n",
       "      <td>long_comp</td>\n",
       "      <td>20240321_114851_long_comp_subj_5-2_and_5-3.1</td>\n",
       "      <td>...</td>\n",
       "      <td>[54206320, 54206340, 54206360, 54206380, 54206...</td>\n",
       "      <td>lose</td>\n",
       "      <td>no_comp</td>\n",
       "      <td>lose_no_comp</td>\n",
       "      <td>[(53949, 53979), (54024, 54063), (54213, 54244...</td>\n",
       "      <td>[(54050297, 54080786), (54126520, 54165324), (...</td>\n",
       "      <td>[11, 12, 13]</td>\n",
       "      <td>[11, 12, 13]</td>\n",
       "      <td>[11, 12, 13]</td>\n",
       "      <td>[5434, 5435, 5436, 5437, 5438, 5439, 5440, 544...</td>\n",
       "    </tr>\n",
       "    <tr>\n",
       "      <th>1142</th>\n",
       "      <td>54104</td>\n",
       "      <td>54184</td>\n",
       "      <td>54204.0</td>\n",
       "      <td>54304</td>\n",
       "      <td>5.3</td>\n",
       "      <td>competitive</td>\n",
       "      <td>54157.0</td>\n",
       "      <td>54286.0</td>\n",
       "      <td>long_comp</td>\n",
       "      <td>20240321_114851_long_comp_subj_5-2_and_5-3.1</td>\n",
       "      <td>...</td>\n",
       "      <td>[54206320, 54206340, 54206360, 54206380, 54206...</td>\n",
       "      <td>win</td>\n",
       "      <td>competitive</td>\n",
       "      <td>win_competitive</td>\n",
       "      <td>[(53904, 53948), (53980, 54023), (54064, 54110...</td>\n",
       "      <td>[(54005949, 54050297), (54082172, 54125134), (...</td>\n",
       "      <td>[0, 2, 3, 4, 5, 6, 7, 8, 9, 10, 14, 15, 16, 17...</td>\n",
       "      <td>[0, 2, 3, 4, 5, 6, 7, 8, 9, 10, 14, 15, 16, 17...</td>\n",
       "      <td>[0, 2, 3, 4, 5, 6, 7, 8, 9, 10, 14, 15, 16, 17...</td>\n",
       "      <td>[0, 1, 2, 3, 4, 5, 6, 7, 8, 9, 10, 11, 12, 13,...</td>\n",
       "    </tr>\n",
       "    <tr>\n",
       "      <th>1142</th>\n",
       "      <td>54104</td>\n",
       "      <td>54184</td>\n",
       "      <td>54204.0</td>\n",
       "      <td>54304</td>\n",
       "      <td>5.3</td>\n",
       "      <td>competitive</td>\n",
       "      <td>54157.0</td>\n",
       "      <td>54286.0</td>\n",
       "      <td>long_comp</td>\n",
       "      <td>20240321_114851_long_comp_subj_5-2_and_5-3.1</td>\n",
       "      <td>...</td>\n",
       "      <td>[54206320, 54206340, 54206360, 54206380, 54206...</td>\n",
       "      <td>win</td>\n",
       "      <td>no_comp</td>\n",
       "      <td>win_no_comp</td>\n",
       "      <td>[(53949, 53979), (54024, 54063), (54213, 54244...</td>\n",
       "      <td>[(54050297, 54080786), (54126520, 54165324), (...</td>\n",
       "      <td>[11, 12, 13]</td>\n",
       "      <td>[11, 12, 13]</td>\n",
       "      <td>[11, 12, 13]</td>\n",
       "      <td>[5434, 5435, 5436, 5437, 5438, 5439, 5440, 544...</td>\n",
       "    </tr>\n",
       "  </tbody>\n",
       "</table>\n",
       "<p>1693 rows × 252 columns</p>\n",
       "</div>"
      ],
      "text/plain": [
       "      tone_start_frame  reward_start  reward_dispensed  tone_stop_frame  \\\n",
       "0                 1272          1352            1372.0             1471   \n",
       "1                 1272          1352            1372.0             1471   \n",
       "2                 3268          3348            3368.0             3469   \n",
       "3                 3268          3348            3368.0             3469   \n",
       "4                 4466          4546            4566.0             4667   \n",
       "...                ...           ...               ...              ...   \n",
       "1140             51909         51989           52009.0            52108   \n",
       "1141             54104         54184           54204.0            54304   \n",
       "1141             54104         54184           54204.0            54304   \n",
       "1142             54104         54184           54204.0            54304   \n",
       "1142             54104         54184           54204.0            54304   \n",
       "\n",
       "     condition competition_closeness  get_reward_frame  out_reward_frame  \\\n",
       "0     rewarded                   NaN               NaN               NaN   \n",
       "1     rewarded                   NaN               NaN               NaN   \n",
       "2     rewarded                   NaN               NaN               NaN   \n",
       "3     rewarded                   NaN               NaN               NaN   \n",
       "4     rewarded                   NaN               NaN               NaN   \n",
       "...        ...                   ...               ...               ...   \n",
       "1140       5.3           competitive           51972.0           52121.0   \n",
       "1141       5.3           competitive           54157.0           54286.0   \n",
       "1141       5.3           competitive           54157.0           54286.0   \n",
       "1142       5.3           competitive           54157.0           54286.0   \n",
       "1142       5.3           competitive           54157.0           54286.0   \n",
       "\n",
       "      experiment                                     video_name  ...  \\\n",
       "0     alone_comp  20240320_142408_alone_comp_subj_3-1_and_3-3.1  ...   \n",
       "1     alone_comp  20240320_142408_alone_comp_subj_3-1_and_3-3.1  ...   \n",
       "2     alone_comp  20240320_142408_alone_comp_subj_3-1_and_3-3.1  ...   \n",
       "3     alone_comp  20240320_142408_alone_comp_subj_3-1_and_3-3.1  ...   \n",
       "4     alone_comp  20240320_142408_alone_comp_subj_3-1_and_3-3.1  ...   \n",
       "...          ...                                            ...  ...   \n",
       "1140   long_comp   20240321_114851_long_comp_subj_5-2_and_5-3.1  ...   \n",
       "1141   long_comp   20240321_114851_long_comp_subj_5-2_and_5-3.1  ...   \n",
       "1141   long_comp   20240321_114851_long_comp_subj_5-2_and_5-3.1  ...   \n",
       "1142   long_comp   20240321_114851_long_comp_subj_5-2_and_5-3.1  ...   \n",
       "1142   long_comp   20240321_114851_long_comp_subj_5-2_and_5-3.1  ...   \n",
       "\n",
       "                                   trial_lfp_timestamps  trial_label  \\\n",
       "0     [1275900, 1275920, 1275940, 1275960, 1275980, ...     rewarded   \n",
       "1     [1275900, 1275920, 1275940, 1275960, 1275980, ...     rewarded   \n",
       "2     [3275920, 3275940, 3275960, 3275980, 3276000, ...     rewarded   \n",
       "3     [3275920, 3275940, 3275960, 3275980, 3276000, ...     rewarded   \n",
       "4     [4475940, 4475960, 4475980, 4476000, 4476020, ...     rewarded   \n",
       "...                                                 ...          ...   \n",
       "1140  [52006300, 52006320, 52006340, 52006360, 52006...          win   \n",
       "1141  [54206320, 54206340, 54206360, 54206380, 54206...         lose   \n",
       "1141  [54206320, 54206340, 54206360, 54206380, 54206...         lose   \n",
       "1142  [54206320, 54206340, 54206360, 54206380, 54206...          win   \n",
       "1142  [54206320, 54206340, 54206360, 54206380, 54206...          win   \n",
       "\n",
       "     competitiveness_label trial_and_competitiveness_label  \\\n",
       "0                 rewarded                        rewarded   \n",
       "1                 rewarded                        rewarded   \n",
       "2                 rewarded                        rewarded   \n",
       "3                 rewarded                        rewarded   \n",
       "4                 rewarded                        rewarded   \n",
       "...                    ...                             ...   \n",
       "1140           competitive                 win_competitive   \n",
       "1141           competitive                lose_competitive   \n",
       "1141               no_comp                    lose_no_comp   \n",
       "1142           competitive                 win_competitive   \n",
       "1142               no_comp                     win_no_comp   \n",
       "\n",
       "                           competitiveness_frame_ranges  \\\n",
       "0                                        [(1272, 1471)]   \n",
       "1                                        [(1272, 1471)]   \n",
       "2                                        [(3268, 3469)]   \n",
       "3                                        [(3268, 3469)]   \n",
       "4                                        [(4466, 4667)]   \n",
       "...                                                 ...   \n",
       "1140                   [(51823, 52219), (52251, 52299)]   \n",
       "1141  [(53904, 53948), (53980, 54023), (54064, 54110...   \n",
       "1141  [(53949, 53979), (54024, 54063), (54213, 54244...   \n",
       "1142  [(53904, 53948), (53980, 54023), (54064, 54110...   \n",
       "1142  [(53949, 53979), (54024, 54063), (54213, 54244...   \n",
       "\n",
       "                       competitiveness_timestamp_ranges  \\\n",
       "0                                  [(1276384, 1475949)]   \n",
       "1                                  [(1276384, 1475949)]   \n",
       "2                                  [(3276194, 3477145)]   \n",
       "3                                  [(3276194, 3477145)]   \n",
       "4                                  [(4476357, 4677308)]   \n",
       "...                                                 ...   \n",
       "1140       [(51920215, 52317960), (52349835, 52398340)]   \n",
       "1141  [(54005949, 54050297), (54082172, 54125134), (...   \n",
       "1141  [(54050297, 54080786), (54126520, 54165324), (...   \n",
       "1142  [(54005949, 54050297), (54082172, 54125134), (...   \n",
       "1142  [(54050297, 54080786), (54126520, 54165324), (...   \n",
       "\n",
       "                       cluster_filtered_coherence_index  \\\n",
       "0     [0, 1, 2, 3, 4, 5, 6, 7, 8, 9, 10, 11, 12, 13,...   \n",
       "1     [0, 1, 2, 3, 4, 5, 6, 7, 8, 9, 10, 11, 12, 13,...   \n",
       "2     [0, 1, 2, 3, 4, 5, 6, 7, 8, 9, 10, 11, 12, 13,...   \n",
       "3     [0, 1, 2, 3, 4, 5, 6, 7, 8, 9, 10, 11, 12, 13,...   \n",
       "4     [0, 1, 2, 3, 4, 5, 6, 7, 8, 9, 10, 11, 12, 13,...   \n",
       "...                                                 ...   \n",
       "1140  [0, 1, 2, 3, 4, 5, 6, 7, 8, 9, 10, 11, 12, 13,...   \n",
       "1141  [0, 2, 3, 4, 5, 6, 7, 8, 9, 10, 14, 15, 16, 17...   \n",
       "1141                                       [11, 12, 13]   \n",
       "1142  [0, 2, 3, 4, 5, 6, 7, 8, 9, 10, 14, 15, 16, 17...   \n",
       "1142                                       [11, 12, 13]   \n",
       "\n",
       "                         cluster_filtered_granger_index  \\\n",
       "0     [0, 1, 2, 3, 4, 5, 6, 7, 8, 9, 10, 11, 12, 13,...   \n",
       "1     [0, 1, 2, 3, 4, 5, 6, 7, 8, 9, 10, 11, 12, 13,...   \n",
       "2     [0, 1, 2, 3, 4, 5, 6, 7, 8, 9, 10, 11, 12, 13,...   \n",
       "3     [0, 1, 2, 3, 4, 5, 6, 7, 8, 9, 10, 11, 12, 13,...   \n",
       "4     [0, 1, 2, 3, 4, 5, 6, 7, 8, 9, 10, 11, 12, 13,...   \n",
       "...                                                 ...   \n",
       "1140  [0, 1, 2, 3, 4, 5, 6, 7, 8, 9, 10, 11, 12, 13,...   \n",
       "1141  [0, 2, 3, 4, 5, 6, 7, 8, 9, 10, 14, 15, 16, 17...   \n",
       "1141                                       [11, 12, 13]   \n",
       "1142  [0, 2, 3, 4, 5, 6, 7, 8, 9, 10, 14, 15, 16, 17...   \n",
       "1142                                       [11, 12, 13]   \n",
       "\n",
       "                           cluster_filtered_power_index  \\\n",
       "0     [0, 1, 2, 3, 4, 5, 6, 7, 8, 9, 10, 11, 12, 13,...   \n",
       "1     [0, 1, 2, 3, 4, 5, 6, 7, 8, 9, 10, 11, 12, 13,...   \n",
       "2     [0, 1, 2, 3, 4, 5, 6, 7, 8, 9, 10, 11, 12, 13,...   \n",
       "3     [0, 1, 2, 3, 4, 5, 6, 7, 8, 9, 10, 11, 12, 13,...   \n",
       "4     [0, 1, 2, 3, 4, 5, 6, 7, 8, 9, 10, 11, 12, 13,...   \n",
       "...                                                 ...   \n",
       "1140  [0, 1, 2, 3, 4, 5, 6, 7, 8, 9, 10, 11, 12, 13,...   \n",
       "1141  [0, 2, 3, 4, 5, 6, 7, 8, 9, 10, 14, 15, 16, 17...   \n",
       "1141                                       [11, 12, 13]   \n",
       "1142  [0, 2, 3, 4, 5, 6, 7, 8, 9, 10, 14, 15, 16, 17...   \n",
       "1142                                       [11, 12, 13]   \n",
       "\n",
       "                             cluster_filtered_lfp_index  \n",
       "0     [25, 26, 27, 28, 29, 30, 31, 32, 33, 34, 35, 3...  \n",
       "1     [25, 26, 27, 28, 29, 30, 31, 32, 33, 34, 35, 3...  \n",
       "2     [14, 15, 16, 17, 18, 19, 20, 21, 22, 23, 24, 2...  \n",
       "3     [14, 15, 16, 17, 18, 19, 20, 21, 22, 23, 24, 2...  \n",
       "4     [21, 22, 23, 24, 25, 26, 27, 28, 29, 30, 31, 3...  \n",
       "...                                                 ...  \n",
       "1140  [0, 1, 2, 3, 4, 5, 6, 7, 8, 9, 10, 11, 12, 13,...  \n",
       "1141  [0, 1, 2, 3, 4, 5, 6, 7, 8, 9, 10, 11, 12, 13,...  \n",
       "1141  [5434, 5435, 5436, 5437, 5438, 5439, 5440, 544...  \n",
       "1142  [0, 1, 2, 3, 4, 5, 6, 7, 8, 9, 10, 11, 12, 13,...  \n",
       "1142  [5434, 5435, 5436, 5437, 5438, 5439, 5440, 544...  \n",
       "\n",
       "[1693 rows x 252 columns]"
      ]
     },
     "execution_count": 80,
     "metadata": {},
     "output_type": "execute_result"
    }
   ],
   "source": [
    "cluster_exploded_TRIALS_AND_SPECTRAL_DF"
   ]
  },
  {
   "cell_type": "code",
   "execution_count": 81,
   "metadata": {},
   "outputs": [],
   "source": [
    "cluster_exploded_TRIALS_AND_SPECTRAL_DF = cluster_exploded_TRIALS_AND_SPECTRAL_DF[~cluster_exploded_TRIALS_AND_SPECTRAL_DF[\"video_name\"].apply(lambda x: \".2\" in x)]"
   ]
  },
  {
   "cell_type": "code",
   "execution_count": 82,
   "metadata": {},
   "outputs": [],
   "source": [
    "cluster_exploded_TRIALS_AND_SPECTRAL_DF = cluster_exploded_TRIALS_AND_SPECTRAL_DF[~cluster_exploded_TRIALS_AND_SPECTRAL_DF[\"trial_and_competitiveness_label\"].apply(lambda x: \"temp\" in x)]"
   ]
  },
  {
   "cell_type": "code",
   "execution_count": 83,
   "metadata": {},
   "outputs": [
    {
     "data": {
      "text/html": [
       "<div>\n",
       "<style scoped>\n",
       "    .dataframe tbody tr th:only-of-type {\n",
       "        vertical-align: middle;\n",
       "    }\n",
       "\n",
       "    .dataframe tbody tr th {\n",
       "        vertical-align: top;\n",
       "    }\n",
       "\n",
       "    .dataframe thead th {\n",
       "        text-align: right;\n",
       "    }\n",
       "</style>\n",
       "<table border=\"1\" class=\"dataframe\">\n",
       "  <thead>\n",
       "    <tr style=\"text-align: right;\">\n",
       "      <th></th>\n",
       "      <th></th>\n",
       "      <th>tone_start_frame</th>\n",
       "      <th>reward_start</th>\n",
       "      <th>reward_dispensed</th>\n",
       "      <th>tone_stop_frame</th>\n",
       "      <th>condition</th>\n",
       "      <th>competition_closeness</th>\n",
       "      <th>get_reward_frame</th>\n",
       "      <th>out_reward_frame</th>\n",
       "      <th>experiment</th>\n",
       "      <th>tone_start_timestamp</th>\n",
       "      <th>...</th>\n",
       "      <th>trial_lfp_timestamps</th>\n",
       "      <th>trial_label</th>\n",
       "      <th>competitiveness_label</th>\n",
       "      <th>trial_and_competitiveness_label</th>\n",
       "      <th>competitiveness_frame_ranges</th>\n",
       "      <th>competitiveness_timestamp_ranges</th>\n",
       "      <th>cluster_filtered_coherence_index</th>\n",
       "      <th>cluster_filtered_granger_index</th>\n",
       "      <th>cluster_filtered_power_index</th>\n",
       "      <th>cluster_filtered_lfp_index</th>\n",
       "    </tr>\n",
       "    <tr>\n",
       "      <th>video_name</th>\n",
       "      <th>current_subject</th>\n",
       "      <th></th>\n",
       "      <th></th>\n",
       "      <th></th>\n",
       "      <th></th>\n",
       "      <th></th>\n",
       "      <th></th>\n",
       "      <th></th>\n",
       "      <th></th>\n",
       "      <th></th>\n",
       "      <th></th>\n",
       "      <th></th>\n",
       "      <th></th>\n",
       "      <th></th>\n",
       "      <th></th>\n",
       "      <th></th>\n",
       "      <th></th>\n",
       "      <th></th>\n",
       "      <th></th>\n",
       "      <th></th>\n",
       "      <th></th>\n",
       "      <th></th>\n",
       "    </tr>\n",
       "  </thead>\n",
       "  <tbody>\n",
       "    <tr>\n",
       "      <th rowspan=\"2\" valign=\"top\">20240317_151922_long_comp_subj_3-1_and_3-3.1</th>\n",
       "      <th>3.1</th>\n",
       "      <td>59</td>\n",
       "      <td>59</td>\n",
       "      <td>59</td>\n",
       "      <td>59</td>\n",
       "      <td>59</td>\n",
       "      <td>59</td>\n",
       "      <td>0</td>\n",
       "      <td>0</td>\n",
       "      <td>59</td>\n",
       "      <td>59</td>\n",
       "      <td>...</td>\n",
       "      <td>59</td>\n",
       "      <td>59</td>\n",
       "      <td>59</td>\n",
       "      <td>59</td>\n",
       "      <td>59</td>\n",
       "      <td>59</td>\n",
       "      <td>59</td>\n",
       "      <td>59</td>\n",
       "      <td>59</td>\n",
       "      <td>59</td>\n",
       "    </tr>\n",
       "    <tr>\n",
       "      <th>3.3</th>\n",
       "      <td>59</td>\n",
       "      <td>59</td>\n",
       "      <td>59</td>\n",
       "      <td>59</td>\n",
       "      <td>59</td>\n",
       "      <td>59</td>\n",
       "      <td>0</td>\n",
       "      <td>0</td>\n",
       "      <td>59</td>\n",
       "      <td>59</td>\n",
       "      <td>...</td>\n",
       "      <td>59</td>\n",
       "      <td>59</td>\n",
       "      <td>59</td>\n",
       "      <td>59</td>\n",
       "      <td>59</td>\n",
       "      <td>59</td>\n",
       "      <td>59</td>\n",
       "      <td>59</td>\n",
       "      <td>59</td>\n",
       "      <td>59</td>\n",
       "    </tr>\n",
       "    <tr>\n",
       "      <th rowspan=\"2\" valign=\"top\">20240317_172017_long_comp_subj_4-2_and_4-3.1</th>\n",
       "      <th>4.2</th>\n",
       "      <td>69</td>\n",
       "      <td>69</td>\n",
       "      <td>69</td>\n",
       "      <td>69</td>\n",
       "      <td>69</td>\n",
       "      <td>69</td>\n",
       "      <td>69</td>\n",
       "      <td>69</td>\n",
       "      <td>69</td>\n",
       "      <td>69</td>\n",
       "      <td>...</td>\n",
       "      <td>69</td>\n",
       "      <td>69</td>\n",
       "      <td>69</td>\n",
       "      <td>69</td>\n",
       "      <td>69</td>\n",
       "      <td>69</td>\n",
       "      <td>69</td>\n",
       "      <td>69</td>\n",
       "      <td>69</td>\n",
       "      <td>69</td>\n",
       "    </tr>\n",
       "    <tr>\n",
       "      <th>4.3</th>\n",
       "      <td>69</td>\n",
       "      <td>69</td>\n",
       "      <td>69</td>\n",
       "      <td>69</td>\n",
       "      <td>69</td>\n",
       "      <td>69</td>\n",
       "      <td>69</td>\n",
       "      <td>69</td>\n",
       "      <td>69</td>\n",
       "      <td>69</td>\n",
       "      <td>...</td>\n",
       "      <td>69</td>\n",
       "      <td>69</td>\n",
       "      <td>69</td>\n",
       "      <td>69</td>\n",
       "      <td>69</td>\n",
       "      <td>69</td>\n",
       "      <td>69</td>\n",
       "      <td>69</td>\n",
       "      <td>69</td>\n",
       "      <td>69</td>\n",
       "    </tr>\n",
       "    <tr>\n",
       "      <th rowspan=\"2\" valign=\"top\">20240318_143819_long_comp_subj_3-3_and_3-4.1</th>\n",
       "      <th>3.3</th>\n",
       "      <td>76</td>\n",
       "      <td>76</td>\n",
       "      <td>76</td>\n",
       "      <td>76</td>\n",
       "      <td>76</td>\n",
       "      <td>76</td>\n",
       "      <td>0</td>\n",
       "      <td>0</td>\n",
       "      <td>76</td>\n",
       "      <td>76</td>\n",
       "      <td>...</td>\n",
       "      <td>76</td>\n",
       "      <td>76</td>\n",
       "      <td>76</td>\n",
       "      <td>76</td>\n",
       "      <td>76</td>\n",
       "      <td>76</td>\n",
       "      <td>76</td>\n",
       "      <td>76</td>\n",
       "      <td>76</td>\n",
       "      <td>76</td>\n",
       "    </tr>\n",
       "    <tr>\n",
       "      <th>3.4</th>\n",
       "      <td>76</td>\n",
       "      <td>76</td>\n",
       "      <td>76</td>\n",
       "      <td>76</td>\n",
       "      <td>76</td>\n",
       "      <td>76</td>\n",
       "      <td>0</td>\n",
       "      <td>0</td>\n",
       "      <td>76</td>\n",
       "      <td>76</td>\n",
       "      <td>...</td>\n",
       "      <td>76</td>\n",
       "      <td>76</td>\n",
       "      <td>76</td>\n",
       "      <td>76</td>\n",
       "      <td>76</td>\n",
       "      <td>76</td>\n",
       "      <td>76</td>\n",
       "      <td>76</td>\n",
       "      <td>76</td>\n",
       "      <td>76</td>\n",
       "    </tr>\n",
       "    <tr>\n",
       "      <th>20240318_170933_long_comp_subj_4-3_and_4-4.1</th>\n",
       "      <th>4.3</th>\n",
       "      <td>72</td>\n",
       "      <td>72</td>\n",
       "      <td>72</td>\n",
       "      <td>72</td>\n",
       "      <td>72</td>\n",
       "      <td>72</td>\n",
       "      <td>0</td>\n",
       "      <td>0</td>\n",
       "      <td>72</td>\n",
       "      <td>72</td>\n",
       "      <td>...</td>\n",
       "      <td>72</td>\n",
       "      <td>72</td>\n",
       "      <td>72</td>\n",
       "      <td>72</td>\n",
       "      <td>72</td>\n",
       "      <td>72</td>\n",
       "      <td>72</td>\n",
       "      <td>72</td>\n",
       "      <td>72</td>\n",
       "      <td>72</td>\n",
       "    </tr>\n",
       "    <tr>\n",
       "      <th>20240319_160457_long_comp_subj_4-2_and_4-4.1</th>\n",
       "      <th>4.2</th>\n",
       "      <td>60</td>\n",
       "      <td>60</td>\n",
       "      <td>60</td>\n",
       "      <td>60</td>\n",
       "      <td>60</td>\n",
       "      <td>60</td>\n",
       "      <td>0</td>\n",
       "      <td>0</td>\n",
       "      <td>60</td>\n",
       "      <td>60</td>\n",
       "      <td>...</td>\n",
       "      <td>60</td>\n",
       "      <td>60</td>\n",
       "      <td>60</td>\n",
       "      <td>60</td>\n",
       "      <td>60</td>\n",
       "      <td>60</td>\n",
       "      <td>60</td>\n",
       "      <td>60</td>\n",
       "      <td>60</td>\n",
       "      <td>60</td>\n",
       "    </tr>\n",
       "    <tr>\n",
       "      <th>20240320_114629_long_comp_subj_5-3_and_5-4.1</th>\n",
       "      <th>5.3</th>\n",
       "      <td>75</td>\n",
       "      <td>75</td>\n",
       "      <td>75</td>\n",
       "      <td>75</td>\n",
       "      <td>75</td>\n",
       "      <td>75</td>\n",
       "      <td>32</td>\n",
       "      <td>32</td>\n",
       "      <td>75</td>\n",
       "      <td>75</td>\n",
       "      <td>...</td>\n",
       "      <td>75</td>\n",
       "      <td>75</td>\n",
       "      <td>75</td>\n",
       "      <td>75</td>\n",
       "      <td>75</td>\n",
       "      <td>75</td>\n",
       "      <td>75</td>\n",
       "      <td>75</td>\n",
       "      <td>75</td>\n",
       "      <td>75</td>\n",
       "    </tr>\n",
       "    <tr>\n",
       "      <th rowspan=\"2\" valign=\"top\">20240320_142408_alone_comp_subj_3-1_and_3-3.1</th>\n",
       "      <th>3.1</th>\n",
       "      <td>59</td>\n",
       "      <td>59</td>\n",
       "      <td>59</td>\n",
       "      <td>59</td>\n",
       "      <td>59</td>\n",
       "      <td>38</td>\n",
       "      <td>0</td>\n",
       "      <td>0</td>\n",
       "      <td>59</td>\n",
       "      <td>59</td>\n",
       "      <td>...</td>\n",
       "      <td>59</td>\n",
       "      <td>59</td>\n",
       "      <td>59</td>\n",
       "      <td>59</td>\n",
       "      <td>59</td>\n",
       "      <td>59</td>\n",
       "      <td>59</td>\n",
       "      <td>59</td>\n",
       "      <td>59</td>\n",
       "      <td>59</td>\n",
       "    </tr>\n",
       "    <tr>\n",
       "      <th>3.3</th>\n",
       "      <td>59</td>\n",
       "      <td>59</td>\n",
       "      <td>59</td>\n",
       "      <td>59</td>\n",
       "      <td>59</td>\n",
       "      <td>38</td>\n",
       "      <td>0</td>\n",
       "      <td>0</td>\n",
       "      <td>59</td>\n",
       "      <td>59</td>\n",
       "      <td>...</td>\n",
       "      <td>59</td>\n",
       "      <td>59</td>\n",
       "      <td>59</td>\n",
       "      <td>59</td>\n",
       "      <td>59</td>\n",
       "      <td>59</td>\n",
       "      <td>59</td>\n",
       "      <td>59</td>\n",
       "      <td>59</td>\n",
       "      <td>59</td>\n",
       "    </tr>\n",
       "    <tr>\n",
       "      <th rowspan=\"2\" valign=\"top\">20240320_171038_alone_comp_subj_4-2_and_4-3.1</th>\n",
       "      <th>4.2</th>\n",
       "      <td>58</td>\n",
       "      <td>58</td>\n",
       "      <td>58</td>\n",
       "      <td>58</td>\n",
       "      <td>58</td>\n",
       "      <td>37</td>\n",
       "      <td>0</td>\n",
       "      <td>0</td>\n",
       "      <td>58</td>\n",
       "      <td>58</td>\n",
       "      <td>...</td>\n",
       "      <td>58</td>\n",
       "      <td>58</td>\n",
       "      <td>58</td>\n",
       "      <td>58</td>\n",
       "      <td>58</td>\n",
       "      <td>58</td>\n",
       "      <td>58</td>\n",
       "      <td>58</td>\n",
       "      <td>58</td>\n",
       "      <td>58</td>\n",
       "    </tr>\n",
       "    <tr>\n",
       "      <th>4.3</th>\n",
       "      <td>58</td>\n",
       "      <td>58</td>\n",
       "      <td>58</td>\n",
       "      <td>58</td>\n",
       "      <td>58</td>\n",
       "      <td>37</td>\n",
       "      <td>0</td>\n",
       "      <td>0</td>\n",
       "      <td>58</td>\n",
       "      <td>58</td>\n",
       "      <td>...</td>\n",
       "      <td>58</td>\n",
       "      <td>58</td>\n",
       "      <td>58</td>\n",
       "      <td>58</td>\n",
       "      <td>58</td>\n",
       "      <td>58</td>\n",
       "      <td>58</td>\n",
       "      <td>58</td>\n",
       "      <td>58</td>\n",
       "      <td>58</td>\n",
       "    </tr>\n",
       "    <tr>\n",
       "      <th rowspan=\"2\" valign=\"top\">20240321_114851_long_comp_subj_5-2_and_5-3.1</th>\n",
       "      <th>5.2</th>\n",
       "      <td>64</td>\n",
       "      <td>64</td>\n",
       "      <td>64</td>\n",
       "      <td>64</td>\n",
       "      <td>64</td>\n",
       "      <td>64</td>\n",
       "      <td>64</td>\n",
       "      <td>64</td>\n",
       "      <td>64</td>\n",
       "      <td>64</td>\n",
       "      <td>...</td>\n",
       "      <td>64</td>\n",
       "      <td>64</td>\n",
       "      <td>64</td>\n",
       "      <td>64</td>\n",
       "      <td>64</td>\n",
       "      <td>64</td>\n",
       "      <td>64</td>\n",
       "      <td>64</td>\n",
       "      <td>64</td>\n",
       "      <td>64</td>\n",
       "    </tr>\n",
       "    <tr>\n",
       "      <th>5.3</th>\n",
       "      <td>64</td>\n",
       "      <td>64</td>\n",
       "      <td>64</td>\n",
       "      <td>64</td>\n",
       "      <td>64</td>\n",
       "      <td>64</td>\n",
       "      <td>64</td>\n",
       "      <td>64</td>\n",
       "      <td>64</td>\n",
       "      <td>64</td>\n",
       "      <td>...</td>\n",
       "      <td>64</td>\n",
       "      <td>64</td>\n",
       "      <td>64</td>\n",
       "      <td>64</td>\n",
       "      <td>64</td>\n",
       "      <td>64</td>\n",
       "      <td>64</td>\n",
       "      <td>64</td>\n",
       "      <td>64</td>\n",
       "      <td>64</td>\n",
       "    </tr>\n",
       "    <tr>\n",
       "      <th rowspan=\"2\" valign=\"top\">20240322_120625_alone_comp_subj_3-3_and_3-4.1</th>\n",
       "      <th>3.3</th>\n",
       "      <td>63</td>\n",
       "      <td>63</td>\n",
       "      <td>63</td>\n",
       "      <td>63</td>\n",
       "      <td>63</td>\n",
       "      <td>42</td>\n",
       "      <td>0</td>\n",
       "      <td>0</td>\n",
       "      <td>63</td>\n",
       "      <td>63</td>\n",
       "      <td>...</td>\n",
       "      <td>63</td>\n",
       "      <td>63</td>\n",
       "      <td>63</td>\n",
       "      <td>63</td>\n",
       "      <td>63</td>\n",
       "      <td>63</td>\n",
       "      <td>63</td>\n",
       "      <td>63</td>\n",
       "      <td>63</td>\n",
       "      <td>63</td>\n",
       "    </tr>\n",
       "    <tr>\n",
       "      <th>3.4</th>\n",
       "      <td>63</td>\n",
       "      <td>63</td>\n",
       "      <td>63</td>\n",
       "      <td>63</td>\n",
       "      <td>63</td>\n",
       "      <td>42</td>\n",
       "      <td>0</td>\n",
       "      <td>0</td>\n",
       "      <td>63</td>\n",
       "      <td>63</td>\n",
       "      <td>...</td>\n",
       "      <td>63</td>\n",
       "      <td>63</td>\n",
       "      <td>63</td>\n",
       "      <td>63</td>\n",
       "      <td>63</td>\n",
       "      <td>63</td>\n",
       "      <td>63</td>\n",
       "      <td>63</td>\n",
       "      <td>63</td>\n",
       "      <td>63</td>\n",
       "    </tr>\n",
       "    <tr>\n",
       "      <th>20240322_160946_alone_comp_subj_4-3_and_4-4.1</th>\n",
       "      <th>4.3</th>\n",
       "      <td>62</td>\n",
       "      <td>62</td>\n",
       "      <td>62</td>\n",
       "      <td>62</td>\n",
       "      <td>62</td>\n",
       "      <td>41</td>\n",
       "      <td>0</td>\n",
       "      <td>0</td>\n",
       "      <td>62</td>\n",
       "      <td>62</td>\n",
       "      <td>...</td>\n",
       "      <td>62</td>\n",
       "      <td>62</td>\n",
       "      <td>62</td>\n",
       "      <td>62</td>\n",
       "      <td>62</td>\n",
       "      <td>62</td>\n",
       "      <td>62</td>\n",
       "      <td>62</td>\n",
       "      <td>62</td>\n",
       "      <td>62</td>\n",
       "    </tr>\n",
       "    <tr>\n",
       "      <th rowspan=\"2\" valign=\"top\">20240323_122227_alone_comp_subj_5-2_and_5-3.1</th>\n",
       "      <th>5.2</th>\n",
       "      <td>57</td>\n",
       "      <td>57</td>\n",
       "      <td>57</td>\n",
       "      <td>57</td>\n",
       "      <td>57</td>\n",
       "      <td>36</td>\n",
       "      <td>0</td>\n",
       "      <td>0</td>\n",
       "      <td>57</td>\n",
       "      <td>57</td>\n",
       "      <td>...</td>\n",
       "      <td>57</td>\n",
       "      <td>57</td>\n",
       "      <td>57</td>\n",
       "      <td>57</td>\n",
       "      <td>57</td>\n",
       "      <td>57</td>\n",
       "      <td>57</td>\n",
       "      <td>57</td>\n",
       "      <td>57</td>\n",
       "      <td>57</td>\n",
       "    </tr>\n",
       "    <tr>\n",
       "      <th>5.3</th>\n",
       "      <td>57</td>\n",
       "      <td>57</td>\n",
       "      <td>57</td>\n",
       "      <td>57</td>\n",
       "      <td>57</td>\n",
       "      <td>36</td>\n",
       "      <td>0</td>\n",
       "      <td>0</td>\n",
       "      <td>57</td>\n",
       "      <td>57</td>\n",
       "      <td>...</td>\n",
       "      <td>57</td>\n",
       "      <td>57</td>\n",
       "      <td>57</td>\n",
       "      <td>57</td>\n",
       "      <td>57</td>\n",
       "      <td>57</td>\n",
       "      <td>57</td>\n",
       "      <td>57</td>\n",
       "      <td>57</td>\n",
       "      <td>57</td>\n",
       "    </tr>\n",
       "    <tr>\n",
       "      <th rowspan=\"2\" valign=\"top\">20240323_144517_alone_comp_subj_3-1_and_3-4.1</th>\n",
       "      <th>3.1</th>\n",
       "      <td>55</td>\n",
       "      <td>55</td>\n",
       "      <td>55</td>\n",
       "      <td>55</td>\n",
       "      <td>55</td>\n",
       "      <td>34</td>\n",
       "      <td>0</td>\n",
       "      <td>0</td>\n",
       "      <td>55</td>\n",
       "      <td>55</td>\n",
       "      <td>...</td>\n",
       "      <td>55</td>\n",
       "      <td>55</td>\n",
       "      <td>55</td>\n",
       "      <td>55</td>\n",
       "      <td>55</td>\n",
       "      <td>55</td>\n",
       "      <td>55</td>\n",
       "      <td>55</td>\n",
       "      <td>55</td>\n",
       "      <td>55</td>\n",
       "    </tr>\n",
       "    <tr>\n",
       "      <th>3.4</th>\n",
       "      <td>55</td>\n",
       "      <td>55</td>\n",
       "      <td>55</td>\n",
       "      <td>55</td>\n",
       "      <td>55</td>\n",
       "      <td>34</td>\n",
       "      <td>0</td>\n",
       "      <td>0</td>\n",
       "      <td>55</td>\n",
       "      <td>55</td>\n",
       "      <td>...</td>\n",
       "      <td>55</td>\n",
       "      <td>55</td>\n",
       "      <td>55</td>\n",
       "      <td>55</td>\n",
       "      <td>55</td>\n",
       "      <td>55</td>\n",
       "      <td>55</td>\n",
       "      <td>55</td>\n",
       "      <td>55</td>\n",
       "      <td>55</td>\n",
       "    </tr>\n",
       "    <tr>\n",
       "      <th>20240323_165815_alone_comp_subj_4-2_and_4-4.1</th>\n",
       "      <th>4.2</th>\n",
       "      <td>52</td>\n",
       "      <td>52</td>\n",
       "      <td>52</td>\n",
       "      <td>52</td>\n",
       "      <td>52</td>\n",
       "      <td>31</td>\n",
       "      <td>0</td>\n",
       "      <td>0</td>\n",
       "      <td>52</td>\n",
       "      <td>52</td>\n",
       "      <td>...</td>\n",
       "      <td>52</td>\n",
       "      <td>52</td>\n",
       "      <td>52</td>\n",
       "      <td>52</td>\n",
       "      <td>52</td>\n",
       "      <td>52</td>\n",
       "      <td>52</td>\n",
       "      <td>52</td>\n",
       "      <td>52</td>\n",
       "      <td>52</td>\n",
       "    </tr>\n",
       "  </tbody>\n",
       "</table>\n",
       "<p>23 rows × 250 columns</p>\n",
       "</div>"
      ],
      "text/plain": [
       "                                                               tone_start_frame  \\\n",
       "video_name                                    current_subject                     \n",
       "20240317_151922_long_comp_subj_3-1_and_3-3.1  3.1                            59   \n",
       "                                              3.3                            59   \n",
       "20240317_172017_long_comp_subj_4-2_and_4-3.1  4.2                            69   \n",
       "                                              4.3                            69   \n",
       "20240318_143819_long_comp_subj_3-3_and_3-4.1  3.3                            76   \n",
       "                                              3.4                            76   \n",
       "20240318_170933_long_comp_subj_4-3_and_4-4.1  4.3                            72   \n",
       "20240319_160457_long_comp_subj_4-2_and_4-4.1  4.2                            60   \n",
       "20240320_114629_long_comp_subj_5-3_and_5-4.1  5.3                            75   \n",
       "20240320_142408_alone_comp_subj_3-1_and_3-3.1 3.1                            59   \n",
       "                                              3.3                            59   \n",
       "20240320_171038_alone_comp_subj_4-2_and_4-3.1 4.2                            58   \n",
       "                                              4.3                            58   \n",
       "20240321_114851_long_comp_subj_5-2_and_5-3.1  5.2                            64   \n",
       "                                              5.3                            64   \n",
       "20240322_120625_alone_comp_subj_3-3_and_3-4.1 3.3                            63   \n",
       "                                              3.4                            63   \n",
       "20240322_160946_alone_comp_subj_4-3_and_4-4.1 4.3                            62   \n",
       "20240323_122227_alone_comp_subj_5-2_and_5-3.1 5.2                            57   \n",
       "                                              5.3                            57   \n",
       "20240323_144517_alone_comp_subj_3-1_and_3-4.1 3.1                            55   \n",
       "                                              3.4                            55   \n",
       "20240323_165815_alone_comp_subj_4-2_and_4-4.1 4.2                            52   \n",
       "\n",
       "                                                               reward_start  \\\n",
       "video_name                                    current_subject                 \n",
       "20240317_151922_long_comp_subj_3-1_and_3-3.1  3.1                        59   \n",
       "                                              3.3                        59   \n",
       "20240317_172017_long_comp_subj_4-2_and_4-3.1  4.2                        69   \n",
       "                                              4.3                        69   \n",
       "20240318_143819_long_comp_subj_3-3_and_3-4.1  3.3                        76   \n",
       "                                              3.4                        76   \n",
       "20240318_170933_long_comp_subj_4-3_and_4-4.1  4.3                        72   \n",
       "20240319_160457_long_comp_subj_4-2_and_4-4.1  4.2                        60   \n",
       "20240320_114629_long_comp_subj_5-3_and_5-4.1  5.3                        75   \n",
       "20240320_142408_alone_comp_subj_3-1_and_3-3.1 3.1                        59   \n",
       "                                              3.3                        59   \n",
       "20240320_171038_alone_comp_subj_4-2_and_4-3.1 4.2                        58   \n",
       "                                              4.3                        58   \n",
       "20240321_114851_long_comp_subj_5-2_and_5-3.1  5.2                        64   \n",
       "                                              5.3                        64   \n",
       "20240322_120625_alone_comp_subj_3-3_and_3-4.1 3.3                        63   \n",
       "                                              3.4                        63   \n",
       "20240322_160946_alone_comp_subj_4-3_and_4-4.1 4.3                        62   \n",
       "20240323_122227_alone_comp_subj_5-2_and_5-3.1 5.2                        57   \n",
       "                                              5.3                        57   \n",
       "20240323_144517_alone_comp_subj_3-1_and_3-4.1 3.1                        55   \n",
       "                                              3.4                        55   \n",
       "20240323_165815_alone_comp_subj_4-2_and_4-4.1 4.2                        52   \n",
       "\n",
       "                                                               reward_dispensed  \\\n",
       "video_name                                    current_subject                     \n",
       "20240317_151922_long_comp_subj_3-1_and_3-3.1  3.1                            59   \n",
       "                                              3.3                            59   \n",
       "20240317_172017_long_comp_subj_4-2_and_4-3.1  4.2                            69   \n",
       "                                              4.3                            69   \n",
       "20240318_143819_long_comp_subj_3-3_and_3-4.1  3.3                            76   \n",
       "                                              3.4                            76   \n",
       "20240318_170933_long_comp_subj_4-3_and_4-4.1  4.3                            72   \n",
       "20240319_160457_long_comp_subj_4-2_and_4-4.1  4.2                            60   \n",
       "20240320_114629_long_comp_subj_5-3_and_5-4.1  5.3                            75   \n",
       "20240320_142408_alone_comp_subj_3-1_and_3-3.1 3.1                            59   \n",
       "                                              3.3                            59   \n",
       "20240320_171038_alone_comp_subj_4-2_and_4-3.1 4.2                            58   \n",
       "                                              4.3                            58   \n",
       "20240321_114851_long_comp_subj_5-2_and_5-3.1  5.2                            64   \n",
       "                                              5.3                            64   \n",
       "20240322_120625_alone_comp_subj_3-3_and_3-4.1 3.3                            63   \n",
       "                                              3.4                            63   \n",
       "20240322_160946_alone_comp_subj_4-3_and_4-4.1 4.3                            62   \n",
       "20240323_122227_alone_comp_subj_5-2_and_5-3.1 5.2                            57   \n",
       "                                              5.3                            57   \n",
       "20240323_144517_alone_comp_subj_3-1_and_3-4.1 3.1                            55   \n",
       "                                              3.4                            55   \n",
       "20240323_165815_alone_comp_subj_4-2_and_4-4.1 4.2                            52   \n",
       "\n",
       "                                                               tone_stop_frame  \\\n",
       "video_name                                    current_subject                    \n",
       "20240317_151922_long_comp_subj_3-1_and_3-3.1  3.1                           59   \n",
       "                                              3.3                           59   \n",
       "20240317_172017_long_comp_subj_4-2_and_4-3.1  4.2                           69   \n",
       "                                              4.3                           69   \n",
       "20240318_143819_long_comp_subj_3-3_and_3-4.1  3.3                           76   \n",
       "                                              3.4                           76   \n",
       "20240318_170933_long_comp_subj_4-3_and_4-4.1  4.3                           72   \n",
       "20240319_160457_long_comp_subj_4-2_and_4-4.1  4.2                           60   \n",
       "20240320_114629_long_comp_subj_5-3_and_5-4.1  5.3                           75   \n",
       "20240320_142408_alone_comp_subj_3-1_and_3-3.1 3.1                           59   \n",
       "                                              3.3                           59   \n",
       "20240320_171038_alone_comp_subj_4-2_and_4-3.1 4.2                           58   \n",
       "                                              4.3                           58   \n",
       "20240321_114851_long_comp_subj_5-2_and_5-3.1  5.2                           64   \n",
       "                                              5.3                           64   \n",
       "20240322_120625_alone_comp_subj_3-3_and_3-4.1 3.3                           63   \n",
       "                                              3.4                           63   \n",
       "20240322_160946_alone_comp_subj_4-3_and_4-4.1 4.3                           62   \n",
       "20240323_122227_alone_comp_subj_5-2_and_5-3.1 5.2                           57   \n",
       "                                              5.3                           57   \n",
       "20240323_144517_alone_comp_subj_3-1_and_3-4.1 3.1                           55   \n",
       "                                              3.4                           55   \n",
       "20240323_165815_alone_comp_subj_4-2_and_4-4.1 4.2                           52   \n",
       "\n",
       "                                                               condition  \\\n",
       "video_name                                    current_subject              \n",
       "20240317_151922_long_comp_subj_3-1_and_3-3.1  3.1                     59   \n",
       "                                              3.3                     59   \n",
       "20240317_172017_long_comp_subj_4-2_and_4-3.1  4.2                     69   \n",
       "                                              4.3                     69   \n",
       "20240318_143819_long_comp_subj_3-3_and_3-4.1  3.3                     76   \n",
       "                                              3.4                     76   \n",
       "20240318_170933_long_comp_subj_4-3_and_4-4.1  4.3                     72   \n",
       "20240319_160457_long_comp_subj_4-2_and_4-4.1  4.2                     60   \n",
       "20240320_114629_long_comp_subj_5-3_and_5-4.1  5.3                     75   \n",
       "20240320_142408_alone_comp_subj_3-1_and_3-3.1 3.1                     59   \n",
       "                                              3.3                     59   \n",
       "20240320_171038_alone_comp_subj_4-2_and_4-3.1 4.2                     58   \n",
       "                                              4.3                     58   \n",
       "20240321_114851_long_comp_subj_5-2_and_5-3.1  5.2                     64   \n",
       "                                              5.3                     64   \n",
       "20240322_120625_alone_comp_subj_3-3_and_3-4.1 3.3                     63   \n",
       "                                              3.4                     63   \n",
       "20240322_160946_alone_comp_subj_4-3_and_4-4.1 4.3                     62   \n",
       "20240323_122227_alone_comp_subj_5-2_and_5-3.1 5.2                     57   \n",
       "                                              5.3                     57   \n",
       "20240323_144517_alone_comp_subj_3-1_and_3-4.1 3.1                     55   \n",
       "                                              3.4                     55   \n",
       "20240323_165815_alone_comp_subj_4-2_and_4-4.1 4.2                     52   \n",
       "\n",
       "                                                               competition_closeness  \\\n",
       "video_name                                    current_subject                          \n",
       "20240317_151922_long_comp_subj_3-1_and_3-3.1  3.1                                 59   \n",
       "                                              3.3                                 59   \n",
       "20240317_172017_long_comp_subj_4-2_and_4-3.1  4.2                                 69   \n",
       "                                              4.3                                 69   \n",
       "20240318_143819_long_comp_subj_3-3_and_3-4.1  3.3                                 76   \n",
       "                                              3.4                                 76   \n",
       "20240318_170933_long_comp_subj_4-3_and_4-4.1  4.3                                 72   \n",
       "20240319_160457_long_comp_subj_4-2_and_4-4.1  4.2                                 60   \n",
       "20240320_114629_long_comp_subj_5-3_and_5-4.1  5.3                                 75   \n",
       "20240320_142408_alone_comp_subj_3-1_and_3-3.1 3.1                                 38   \n",
       "                                              3.3                                 38   \n",
       "20240320_171038_alone_comp_subj_4-2_and_4-3.1 4.2                                 37   \n",
       "                                              4.3                                 37   \n",
       "20240321_114851_long_comp_subj_5-2_and_5-3.1  5.2                                 64   \n",
       "                                              5.3                                 64   \n",
       "20240322_120625_alone_comp_subj_3-3_and_3-4.1 3.3                                 42   \n",
       "                                              3.4                                 42   \n",
       "20240322_160946_alone_comp_subj_4-3_and_4-4.1 4.3                                 41   \n",
       "20240323_122227_alone_comp_subj_5-2_and_5-3.1 5.2                                 36   \n",
       "                                              5.3                                 36   \n",
       "20240323_144517_alone_comp_subj_3-1_and_3-4.1 3.1                                 34   \n",
       "                                              3.4                                 34   \n",
       "20240323_165815_alone_comp_subj_4-2_and_4-4.1 4.2                                 31   \n",
       "\n",
       "                                                               get_reward_frame  \\\n",
       "video_name                                    current_subject                     \n",
       "20240317_151922_long_comp_subj_3-1_and_3-3.1  3.1                             0   \n",
       "                                              3.3                             0   \n",
       "20240317_172017_long_comp_subj_4-2_and_4-3.1  4.2                            69   \n",
       "                                              4.3                            69   \n",
       "20240318_143819_long_comp_subj_3-3_and_3-4.1  3.3                             0   \n",
       "                                              3.4                             0   \n",
       "20240318_170933_long_comp_subj_4-3_and_4-4.1  4.3                             0   \n",
       "20240319_160457_long_comp_subj_4-2_and_4-4.1  4.2                             0   \n",
       "20240320_114629_long_comp_subj_5-3_and_5-4.1  5.3                            32   \n",
       "20240320_142408_alone_comp_subj_3-1_and_3-3.1 3.1                             0   \n",
       "                                              3.3                             0   \n",
       "20240320_171038_alone_comp_subj_4-2_and_4-3.1 4.2                             0   \n",
       "                                              4.3                             0   \n",
       "20240321_114851_long_comp_subj_5-2_and_5-3.1  5.2                            64   \n",
       "                                              5.3                            64   \n",
       "20240322_120625_alone_comp_subj_3-3_and_3-4.1 3.3                             0   \n",
       "                                              3.4                             0   \n",
       "20240322_160946_alone_comp_subj_4-3_and_4-4.1 4.3                             0   \n",
       "20240323_122227_alone_comp_subj_5-2_and_5-3.1 5.2                             0   \n",
       "                                              5.3                             0   \n",
       "20240323_144517_alone_comp_subj_3-1_and_3-4.1 3.1                             0   \n",
       "                                              3.4                             0   \n",
       "20240323_165815_alone_comp_subj_4-2_and_4-4.1 4.2                             0   \n",
       "\n",
       "                                                               out_reward_frame  \\\n",
       "video_name                                    current_subject                     \n",
       "20240317_151922_long_comp_subj_3-1_and_3-3.1  3.1                             0   \n",
       "                                              3.3                             0   \n",
       "20240317_172017_long_comp_subj_4-2_and_4-3.1  4.2                            69   \n",
       "                                              4.3                            69   \n",
       "20240318_143819_long_comp_subj_3-3_and_3-4.1  3.3                             0   \n",
       "                                              3.4                             0   \n",
       "20240318_170933_long_comp_subj_4-3_and_4-4.1  4.3                             0   \n",
       "20240319_160457_long_comp_subj_4-2_and_4-4.1  4.2                             0   \n",
       "20240320_114629_long_comp_subj_5-3_and_5-4.1  5.3                            32   \n",
       "20240320_142408_alone_comp_subj_3-1_and_3-3.1 3.1                             0   \n",
       "                                              3.3                             0   \n",
       "20240320_171038_alone_comp_subj_4-2_and_4-3.1 4.2                             0   \n",
       "                                              4.3                             0   \n",
       "20240321_114851_long_comp_subj_5-2_and_5-3.1  5.2                            64   \n",
       "                                              5.3                            64   \n",
       "20240322_120625_alone_comp_subj_3-3_and_3-4.1 3.3                             0   \n",
       "                                              3.4                             0   \n",
       "20240322_160946_alone_comp_subj_4-3_and_4-4.1 4.3                             0   \n",
       "20240323_122227_alone_comp_subj_5-2_and_5-3.1 5.2                             0   \n",
       "                                              5.3                             0   \n",
       "20240323_144517_alone_comp_subj_3-1_and_3-4.1 3.1                             0   \n",
       "                                              3.4                             0   \n",
       "20240323_165815_alone_comp_subj_4-2_and_4-4.1 4.2                             0   \n",
       "\n",
       "                                                               experiment  \\\n",
       "video_name                                    current_subject               \n",
       "20240317_151922_long_comp_subj_3-1_and_3-3.1  3.1                      59   \n",
       "                                              3.3                      59   \n",
       "20240317_172017_long_comp_subj_4-2_and_4-3.1  4.2                      69   \n",
       "                                              4.3                      69   \n",
       "20240318_143819_long_comp_subj_3-3_and_3-4.1  3.3                      76   \n",
       "                                              3.4                      76   \n",
       "20240318_170933_long_comp_subj_4-3_and_4-4.1  4.3                      72   \n",
       "20240319_160457_long_comp_subj_4-2_and_4-4.1  4.2                      60   \n",
       "20240320_114629_long_comp_subj_5-3_and_5-4.1  5.3                      75   \n",
       "20240320_142408_alone_comp_subj_3-1_and_3-3.1 3.1                      59   \n",
       "                                              3.3                      59   \n",
       "20240320_171038_alone_comp_subj_4-2_and_4-3.1 4.2                      58   \n",
       "                                              4.3                      58   \n",
       "20240321_114851_long_comp_subj_5-2_and_5-3.1  5.2                      64   \n",
       "                                              5.3                      64   \n",
       "20240322_120625_alone_comp_subj_3-3_and_3-4.1 3.3                      63   \n",
       "                                              3.4                      63   \n",
       "20240322_160946_alone_comp_subj_4-3_and_4-4.1 4.3                      62   \n",
       "20240323_122227_alone_comp_subj_5-2_and_5-3.1 5.2                      57   \n",
       "                                              5.3                      57   \n",
       "20240323_144517_alone_comp_subj_3-1_and_3-4.1 3.1                      55   \n",
       "                                              3.4                      55   \n",
       "20240323_165815_alone_comp_subj_4-2_and_4-4.1 4.2                      52   \n",
       "\n",
       "                                                               tone_start_timestamp  \\\n",
       "video_name                                    current_subject                         \n",
       "20240317_151922_long_comp_subj_3-1_and_3-3.1  3.1                                59   \n",
       "                                              3.3                                59   \n",
       "20240317_172017_long_comp_subj_4-2_and_4-3.1  4.2                                69   \n",
       "                                              4.3                                69   \n",
       "20240318_143819_long_comp_subj_3-3_and_3-4.1  3.3                                76   \n",
       "                                              3.4                                76   \n",
       "20240318_170933_long_comp_subj_4-3_and_4-4.1  4.3                                72   \n",
       "20240319_160457_long_comp_subj_4-2_and_4-4.1  4.2                                60   \n",
       "20240320_114629_long_comp_subj_5-3_and_5-4.1  5.3                                75   \n",
       "20240320_142408_alone_comp_subj_3-1_and_3-3.1 3.1                                59   \n",
       "                                              3.3                                59   \n",
       "20240320_171038_alone_comp_subj_4-2_and_4-3.1 4.2                                58   \n",
       "                                              4.3                                58   \n",
       "20240321_114851_long_comp_subj_5-2_and_5-3.1  5.2                                64   \n",
       "                                              5.3                                64   \n",
       "20240322_120625_alone_comp_subj_3-3_and_3-4.1 3.3                                63   \n",
       "                                              3.4                                63   \n",
       "20240322_160946_alone_comp_subj_4-3_and_4-4.1 4.3                                62   \n",
       "20240323_122227_alone_comp_subj_5-2_and_5-3.1 5.2                                57   \n",
       "                                              5.3                                57   \n",
       "20240323_144517_alone_comp_subj_3-1_and_3-4.1 3.1                                55   \n",
       "                                              3.4                                55   \n",
       "20240323_165815_alone_comp_subj_4-2_and_4-4.1 4.2                                52   \n",
       "\n",
       "                                                               ...  \\\n",
       "video_name                                    current_subject  ...   \n",
       "20240317_151922_long_comp_subj_3-1_and_3-3.1  3.1              ...   \n",
       "                                              3.3              ...   \n",
       "20240317_172017_long_comp_subj_4-2_and_4-3.1  4.2              ...   \n",
       "                                              4.3              ...   \n",
       "20240318_143819_long_comp_subj_3-3_and_3-4.1  3.3              ...   \n",
       "                                              3.4              ...   \n",
       "20240318_170933_long_comp_subj_4-3_and_4-4.1  4.3              ...   \n",
       "20240319_160457_long_comp_subj_4-2_and_4-4.1  4.2              ...   \n",
       "20240320_114629_long_comp_subj_5-3_and_5-4.1  5.3              ...   \n",
       "20240320_142408_alone_comp_subj_3-1_and_3-3.1 3.1              ...   \n",
       "                                              3.3              ...   \n",
       "20240320_171038_alone_comp_subj_4-2_and_4-3.1 4.2              ...   \n",
       "                                              4.3              ...   \n",
       "20240321_114851_long_comp_subj_5-2_and_5-3.1  5.2              ...   \n",
       "                                              5.3              ...   \n",
       "20240322_120625_alone_comp_subj_3-3_and_3-4.1 3.3              ...   \n",
       "                                              3.4              ...   \n",
       "20240322_160946_alone_comp_subj_4-3_and_4-4.1 4.3              ...   \n",
       "20240323_122227_alone_comp_subj_5-2_and_5-3.1 5.2              ...   \n",
       "                                              5.3              ...   \n",
       "20240323_144517_alone_comp_subj_3-1_and_3-4.1 3.1              ...   \n",
       "                                              3.4              ...   \n",
       "20240323_165815_alone_comp_subj_4-2_and_4-4.1 4.2              ...   \n",
       "\n",
       "                                                               trial_lfp_timestamps  \\\n",
       "video_name                                    current_subject                         \n",
       "20240317_151922_long_comp_subj_3-1_and_3-3.1  3.1                                59   \n",
       "                                              3.3                                59   \n",
       "20240317_172017_long_comp_subj_4-2_and_4-3.1  4.2                                69   \n",
       "                                              4.3                                69   \n",
       "20240318_143819_long_comp_subj_3-3_and_3-4.1  3.3                                76   \n",
       "                                              3.4                                76   \n",
       "20240318_170933_long_comp_subj_4-3_and_4-4.1  4.3                                72   \n",
       "20240319_160457_long_comp_subj_4-2_and_4-4.1  4.2                                60   \n",
       "20240320_114629_long_comp_subj_5-3_and_5-4.1  5.3                                75   \n",
       "20240320_142408_alone_comp_subj_3-1_and_3-3.1 3.1                                59   \n",
       "                                              3.3                                59   \n",
       "20240320_171038_alone_comp_subj_4-2_and_4-3.1 4.2                                58   \n",
       "                                              4.3                                58   \n",
       "20240321_114851_long_comp_subj_5-2_and_5-3.1  5.2                                64   \n",
       "                                              5.3                                64   \n",
       "20240322_120625_alone_comp_subj_3-3_and_3-4.1 3.3                                63   \n",
       "                                              3.4                                63   \n",
       "20240322_160946_alone_comp_subj_4-3_and_4-4.1 4.3                                62   \n",
       "20240323_122227_alone_comp_subj_5-2_and_5-3.1 5.2                                57   \n",
       "                                              5.3                                57   \n",
       "20240323_144517_alone_comp_subj_3-1_and_3-4.1 3.1                                55   \n",
       "                                              3.4                                55   \n",
       "20240323_165815_alone_comp_subj_4-2_and_4-4.1 4.2                                52   \n",
       "\n",
       "                                                               trial_label  \\\n",
       "video_name                                    current_subject                \n",
       "20240317_151922_long_comp_subj_3-1_and_3-3.1  3.1                       59   \n",
       "                                              3.3                       59   \n",
       "20240317_172017_long_comp_subj_4-2_and_4-3.1  4.2                       69   \n",
       "                                              4.3                       69   \n",
       "20240318_143819_long_comp_subj_3-3_and_3-4.1  3.3                       76   \n",
       "                                              3.4                       76   \n",
       "20240318_170933_long_comp_subj_4-3_and_4-4.1  4.3                       72   \n",
       "20240319_160457_long_comp_subj_4-2_and_4-4.1  4.2                       60   \n",
       "20240320_114629_long_comp_subj_5-3_and_5-4.1  5.3                       75   \n",
       "20240320_142408_alone_comp_subj_3-1_and_3-3.1 3.1                       59   \n",
       "                                              3.3                       59   \n",
       "20240320_171038_alone_comp_subj_4-2_and_4-3.1 4.2                       58   \n",
       "                                              4.3                       58   \n",
       "20240321_114851_long_comp_subj_5-2_and_5-3.1  5.2                       64   \n",
       "                                              5.3                       64   \n",
       "20240322_120625_alone_comp_subj_3-3_and_3-4.1 3.3                       63   \n",
       "                                              3.4                       63   \n",
       "20240322_160946_alone_comp_subj_4-3_and_4-4.1 4.3                       62   \n",
       "20240323_122227_alone_comp_subj_5-2_and_5-3.1 5.2                       57   \n",
       "                                              5.3                       57   \n",
       "20240323_144517_alone_comp_subj_3-1_and_3-4.1 3.1                       55   \n",
       "                                              3.4                       55   \n",
       "20240323_165815_alone_comp_subj_4-2_and_4-4.1 4.2                       52   \n",
       "\n",
       "                                                               competitiveness_label  \\\n",
       "video_name                                    current_subject                          \n",
       "20240317_151922_long_comp_subj_3-1_and_3-3.1  3.1                                 59   \n",
       "                                              3.3                                 59   \n",
       "20240317_172017_long_comp_subj_4-2_and_4-3.1  4.2                                 69   \n",
       "                                              4.3                                 69   \n",
       "20240318_143819_long_comp_subj_3-3_and_3-4.1  3.3                                 76   \n",
       "                                              3.4                                 76   \n",
       "20240318_170933_long_comp_subj_4-3_and_4-4.1  4.3                                 72   \n",
       "20240319_160457_long_comp_subj_4-2_and_4-4.1  4.2                                 60   \n",
       "20240320_114629_long_comp_subj_5-3_and_5-4.1  5.3                                 75   \n",
       "20240320_142408_alone_comp_subj_3-1_and_3-3.1 3.1                                 59   \n",
       "                                              3.3                                 59   \n",
       "20240320_171038_alone_comp_subj_4-2_and_4-3.1 4.2                                 58   \n",
       "                                              4.3                                 58   \n",
       "20240321_114851_long_comp_subj_5-2_and_5-3.1  5.2                                 64   \n",
       "                                              5.3                                 64   \n",
       "20240322_120625_alone_comp_subj_3-3_and_3-4.1 3.3                                 63   \n",
       "                                              3.4                                 63   \n",
       "20240322_160946_alone_comp_subj_4-3_and_4-4.1 4.3                                 62   \n",
       "20240323_122227_alone_comp_subj_5-2_and_5-3.1 5.2                                 57   \n",
       "                                              5.3                                 57   \n",
       "20240323_144517_alone_comp_subj_3-1_and_3-4.1 3.1                                 55   \n",
       "                                              3.4                                 55   \n",
       "20240323_165815_alone_comp_subj_4-2_and_4-4.1 4.2                                 52   \n",
       "\n",
       "                                                               trial_and_competitiveness_label  \\\n",
       "video_name                                    current_subject                                    \n",
       "20240317_151922_long_comp_subj_3-1_and_3-3.1  3.1                                           59   \n",
       "                                              3.3                                           59   \n",
       "20240317_172017_long_comp_subj_4-2_and_4-3.1  4.2                                           69   \n",
       "                                              4.3                                           69   \n",
       "20240318_143819_long_comp_subj_3-3_and_3-4.1  3.3                                           76   \n",
       "                                              3.4                                           76   \n",
       "20240318_170933_long_comp_subj_4-3_and_4-4.1  4.3                                           72   \n",
       "20240319_160457_long_comp_subj_4-2_and_4-4.1  4.2                                           60   \n",
       "20240320_114629_long_comp_subj_5-3_and_5-4.1  5.3                                           75   \n",
       "20240320_142408_alone_comp_subj_3-1_and_3-3.1 3.1                                           59   \n",
       "                                              3.3                                           59   \n",
       "20240320_171038_alone_comp_subj_4-2_and_4-3.1 4.2                                           58   \n",
       "                                              4.3                                           58   \n",
       "20240321_114851_long_comp_subj_5-2_and_5-3.1  5.2                                           64   \n",
       "                                              5.3                                           64   \n",
       "20240322_120625_alone_comp_subj_3-3_and_3-4.1 3.3                                           63   \n",
       "                                              3.4                                           63   \n",
       "20240322_160946_alone_comp_subj_4-3_and_4-4.1 4.3                                           62   \n",
       "20240323_122227_alone_comp_subj_5-2_and_5-3.1 5.2                                           57   \n",
       "                                              5.3                                           57   \n",
       "20240323_144517_alone_comp_subj_3-1_and_3-4.1 3.1                                           55   \n",
       "                                              3.4                                           55   \n",
       "20240323_165815_alone_comp_subj_4-2_and_4-4.1 4.2                                           52   \n",
       "\n",
       "                                                               competitiveness_frame_ranges  \\\n",
       "video_name                                    current_subject                                 \n",
       "20240317_151922_long_comp_subj_3-1_and_3-3.1  3.1                                        59   \n",
       "                                              3.3                                        59   \n",
       "20240317_172017_long_comp_subj_4-2_and_4-3.1  4.2                                        69   \n",
       "                                              4.3                                        69   \n",
       "20240318_143819_long_comp_subj_3-3_and_3-4.1  3.3                                        76   \n",
       "                                              3.4                                        76   \n",
       "20240318_170933_long_comp_subj_4-3_and_4-4.1  4.3                                        72   \n",
       "20240319_160457_long_comp_subj_4-2_and_4-4.1  4.2                                        60   \n",
       "20240320_114629_long_comp_subj_5-3_and_5-4.1  5.3                                        75   \n",
       "20240320_142408_alone_comp_subj_3-1_and_3-3.1 3.1                                        59   \n",
       "                                              3.3                                        59   \n",
       "20240320_171038_alone_comp_subj_4-2_and_4-3.1 4.2                                        58   \n",
       "                                              4.3                                        58   \n",
       "20240321_114851_long_comp_subj_5-2_and_5-3.1  5.2                                        64   \n",
       "                                              5.3                                        64   \n",
       "20240322_120625_alone_comp_subj_3-3_and_3-4.1 3.3                                        63   \n",
       "                                              3.4                                        63   \n",
       "20240322_160946_alone_comp_subj_4-3_and_4-4.1 4.3                                        62   \n",
       "20240323_122227_alone_comp_subj_5-2_and_5-3.1 5.2                                        57   \n",
       "                                              5.3                                        57   \n",
       "20240323_144517_alone_comp_subj_3-1_and_3-4.1 3.1                                        55   \n",
       "                                              3.4                                        55   \n",
       "20240323_165815_alone_comp_subj_4-2_and_4-4.1 4.2                                        52   \n",
       "\n",
       "                                                               competitiveness_timestamp_ranges  \\\n",
       "video_name                                    current_subject                                     \n",
       "20240317_151922_long_comp_subj_3-1_and_3-3.1  3.1                                            59   \n",
       "                                              3.3                                            59   \n",
       "20240317_172017_long_comp_subj_4-2_and_4-3.1  4.2                                            69   \n",
       "                                              4.3                                            69   \n",
       "20240318_143819_long_comp_subj_3-3_and_3-4.1  3.3                                            76   \n",
       "                                              3.4                                            76   \n",
       "20240318_170933_long_comp_subj_4-3_and_4-4.1  4.3                                            72   \n",
       "20240319_160457_long_comp_subj_4-2_and_4-4.1  4.2                                            60   \n",
       "20240320_114629_long_comp_subj_5-3_and_5-4.1  5.3                                            75   \n",
       "20240320_142408_alone_comp_subj_3-1_and_3-3.1 3.1                                            59   \n",
       "                                              3.3                                            59   \n",
       "20240320_171038_alone_comp_subj_4-2_and_4-3.1 4.2                                            58   \n",
       "                                              4.3                                            58   \n",
       "20240321_114851_long_comp_subj_5-2_and_5-3.1  5.2                                            64   \n",
       "                                              5.3                                            64   \n",
       "20240322_120625_alone_comp_subj_3-3_and_3-4.1 3.3                                            63   \n",
       "                                              3.4                                            63   \n",
       "20240322_160946_alone_comp_subj_4-3_and_4-4.1 4.3                                            62   \n",
       "20240323_122227_alone_comp_subj_5-2_and_5-3.1 5.2                                            57   \n",
       "                                              5.3                                            57   \n",
       "20240323_144517_alone_comp_subj_3-1_and_3-4.1 3.1                                            55   \n",
       "                                              3.4                                            55   \n",
       "20240323_165815_alone_comp_subj_4-2_and_4-4.1 4.2                                            52   \n",
       "\n",
       "                                                               cluster_filtered_coherence_index  \\\n",
       "video_name                                    current_subject                                     \n",
       "20240317_151922_long_comp_subj_3-1_and_3-3.1  3.1                                            59   \n",
       "                                              3.3                                            59   \n",
       "20240317_172017_long_comp_subj_4-2_and_4-3.1  4.2                                            69   \n",
       "                                              4.3                                            69   \n",
       "20240318_143819_long_comp_subj_3-3_and_3-4.1  3.3                                            76   \n",
       "                                              3.4                                            76   \n",
       "20240318_170933_long_comp_subj_4-3_and_4-4.1  4.3                                            72   \n",
       "20240319_160457_long_comp_subj_4-2_and_4-4.1  4.2                                            60   \n",
       "20240320_114629_long_comp_subj_5-3_and_5-4.1  5.3                                            75   \n",
       "20240320_142408_alone_comp_subj_3-1_and_3-3.1 3.1                                            59   \n",
       "                                              3.3                                            59   \n",
       "20240320_171038_alone_comp_subj_4-2_and_4-3.1 4.2                                            58   \n",
       "                                              4.3                                            58   \n",
       "20240321_114851_long_comp_subj_5-2_and_5-3.1  5.2                                            64   \n",
       "                                              5.3                                            64   \n",
       "20240322_120625_alone_comp_subj_3-3_and_3-4.1 3.3                                            63   \n",
       "                                              3.4                                            63   \n",
       "20240322_160946_alone_comp_subj_4-3_and_4-4.1 4.3                                            62   \n",
       "20240323_122227_alone_comp_subj_5-2_and_5-3.1 5.2                                            57   \n",
       "                                              5.3                                            57   \n",
       "20240323_144517_alone_comp_subj_3-1_and_3-4.1 3.1                                            55   \n",
       "                                              3.4                                            55   \n",
       "20240323_165815_alone_comp_subj_4-2_and_4-4.1 4.2                                            52   \n",
       "\n",
       "                                                               cluster_filtered_granger_index  \\\n",
       "video_name                                    current_subject                                   \n",
       "20240317_151922_long_comp_subj_3-1_and_3-3.1  3.1                                          59   \n",
       "                                              3.3                                          59   \n",
       "20240317_172017_long_comp_subj_4-2_and_4-3.1  4.2                                          69   \n",
       "                                              4.3                                          69   \n",
       "20240318_143819_long_comp_subj_3-3_and_3-4.1  3.3                                          76   \n",
       "                                              3.4                                          76   \n",
       "20240318_170933_long_comp_subj_4-3_and_4-4.1  4.3                                          72   \n",
       "20240319_160457_long_comp_subj_4-2_and_4-4.1  4.2                                          60   \n",
       "20240320_114629_long_comp_subj_5-3_and_5-4.1  5.3                                          75   \n",
       "20240320_142408_alone_comp_subj_3-1_and_3-3.1 3.1                                          59   \n",
       "                                              3.3                                          59   \n",
       "20240320_171038_alone_comp_subj_4-2_and_4-3.1 4.2                                          58   \n",
       "                                              4.3                                          58   \n",
       "20240321_114851_long_comp_subj_5-2_and_5-3.1  5.2                                          64   \n",
       "                                              5.3                                          64   \n",
       "20240322_120625_alone_comp_subj_3-3_and_3-4.1 3.3                                          63   \n",
       "                                              3.4                                          63   \n",
       "20240322_160946_alone_comp_subj_4-3_and_4-4.1 4.3                                          62   \n",
       "20240323_122227_alone_comp_subj_5-2_and_5-3.1 5.2                                          57   \n",
       "                                              5.3                                          57   \n",
       "20240323_144517_alone_comp_subj_3-1_and_3-4.1 3.1                                          55   \n",
       "                                              3.4                                          55   \n",
       "20240323_165815_alone_comp_subj_4-2_and_4-4.1 4.2                                          52   \n",
       "\n",
       "                                                               cluster_filtered_power_index  \\\n",
       "video_name                                    current_subject                                 \n",
       "20240317_151922_long_comp_subj_3-1_and_3-3.1  3.1                                        59   \n",
       "                                              3.3                                        59   \n",
       "20240317_172017_long_comp_subj_4-2_and_4-3.1  4.2                                        69   \n",
       "                                              4.3                                        69   \n",
       "20240318_143819_long_comp_subj_3-3_and_3-4.1  3.3                                        76   \n",
       "                                              3.4                                        76   \n",
       "20240318_170933_long_comp_subj_4-3_and_4-4.1  4.3                                        72   \n",
       "20240319_160457_long_comp_subj_4-2_and_4-4.1  4.2                                        60   \n",
       "20240320_114629_long_comp_subj_5-3_and_5-4.1  5.3                                        75   \n",
       "20240320_142408_alone_comp_subj_3-1_and_3-3.1 3.1                                        59   \n",
       "                                              3.3                                        59   \n",
       "20240320_171038_alone_comp_subj_4-2_and_4-3.1 4.2                                        58   \n",
       "                                              4.3                                        58   \n",
       "20240321_114851_long_comp_subj_5-2_and_5-3.1  5.2                                        64   \n",
       "                                              5.3                                        64   \n",
       "20240322_120625_alone_comp_subj_3-3_and_3-4.1 3.3                                        63   \n",
       "                                              3.4                                        63   \n",
       "20240322_160946_alone_comp_subj_4-3_and_4-4.1 4.3                                        62   \n",
       "20240323_122227_alone_comp_subj_5-2_and_5-3.1 5.2                                        57   \n",
       "                                              5.3                                        57   \n",
       "20240323_144517_alone_comp_subj_3-1_and_3-4.1 3.1                                        55   \n",
       "                                              3.4                                        55   \n",
       "20240323_165815_alone_comp_subj_4-2_and_4-4.1 4.2                                        52   \n",
       "\n",
       "                                                               cluster_filtered_lfp_index  \n",
       "video_name                                    current_subject                              \n",
       "20240317_151922_long_comp_subj_3-1_and_3-3.1  3.1                                      59  \n",
       "                                              3.3                                      59  \n",
       "20240317_172017_long_comp_subj_4-2_and_4-3.1  4.2                                      69  \n",
       "                                              4.3                                      69  \n",
       "20240318_143819_long_comp_subj_3-3_and_3-4.1  3.3                                      76  \n",
       "                                              3.4                                      76  \n",
       "20240318_170933_long_comp_subj_4-3_and_4-4.1  4.3                                      72  \n",
       "20240319_160457_long_comp_subj_4-2_and_4-4.1  4.2                                      60  \n",
       "20240320_114629_long_comp_subj_5-3_and_5-4.1  5.3                                      75  \n",
       "20240320_142408_alone_comp_subj_3-1_and_3-3.1 3.1                                      59  \n",
       "                                              3.3                                      59  \n",
       "20240320_171038_alone_comp_subj_4-2_and_4-3.1 4.2                                      58  \n",
       "                                              4.3                                      58  \n",
       "20240321_114851_long_comp_subj_5-2_and_5-3.1  5.2                                      64  \n",
       "                                              5.3                                      64  \n",
       "20240322_120625_alone_comp_subj_3-3_and_3-4.1 3.3                                      63  \n",
       "                                              3.4                                      63  \n",
       "20240322_160946_alone_comp_subj_4-3_and_4-4.1 4.3                                      62  \n",
       "20240323_122227_alone_comp_subj_5-2_and_5-3.1 5.2                                      57  \n",
       "                                              5.3                                      57  \n",
       "20240323_144517_alone_comp_subj_3-1_and_3-4.1 3.1                                      55  \n",
       "                                              3.4                                      55  \n",
       "20240323_165815_alone_comp_subj_4-2_and_4-4.1 4.2                                      52  \n",
       "\n",
       "[23 rows x 250 columns]"
      ]
     },
     "execution_count": 83,
     "metadata": {},
     "output_type": "execute_result"
    }
   ],
   "source": [
    "cluster_exploded_TRIALS_AND_SPECTRAL_DF.groupby([\"video_name\", \"current_subject\"]).count()"
   ]
  },
  {
   "cell_type": "markdown",
   "metadata": {},
   "source": [
    "# Filtering for power"
   ]
  },
  {
   "cell_type": "code",
   "execution_count": 84,
   "metadata": {
    "tags": []
   },
   "outputs": [],
   "source": [
    "cluster_exploded_TRIALS_AND_SPECTRAL_DF = cluster_exploded_TRIALS_AND_SPECTRAL_DF[cluster_exploded_TRIALS_AND_SPECTRAL_DF[\"cluster_filtered_power_index\"].apply(lambda x: len(x)) >= 1] "
   ]
  },
  {
   "cell_type": "code",
   "execution_count": 85,
   "metadata": {},
   "outputs": [
    {
     "data": {
      "text/plain": [
       "['tone_start_frame',\n",
       " 'reward_start',\n",
       " 'reward_dispensed',\n",
       " 'tone_stop_frame',\n",
       " 'condition',\n",
       " 'competition_closeness',\n",
       " 'get_reward_frame',\n",
       " 'out_reward_frame',\n",
       " 'experiment',\n",
       " 'video_name',\n",
       " 'tone_start_timestamp',\n",
       " 'tone_stop_timestamp',\n",
       " 'cohort',\n",
       " 'session_dir',\n",
       " 'tone_frames',\n",
       " 'box_1_port_entry_frames',\n",
       " 'box_2_port_entry_frames',\n",
       " 'notes',\n",
       " 'session_path',\n",
       " 'recording',\n",
       " 'current_subject',\n",
       " 'subject',\n",
       " 'all_subjects',\n",
       " 'first_timestamp',\n",
       " 'last_timestamp',\n",
       " 'video_timestamps',\n",
       " 'tone_timestamps',\n",
       " 'box_1_port_entry_timestamps',\n",
       " 'box_2_port_entry_timestamps',\n",
       " 'power_calculation_frequencies',\n",
       " 'coherence_calculation_frequencies',\n",
       " 'granger_calculation_frequencies',\n",
       " 'tone_start_frame_remove',\n",
       " 'agent_tail_base',\n",
       " 'agent_to_reward_port_angle',\n",
       " 'subject_tail_base',\n",
       " 'subject_to_reward_port_angle',\n",
       " 'to_reward_port_angle_diff',\n",
       " 'to_reward_port_angle_sum',\n",
       " 'within_trial_index',\n",
       " 'agent',\n",
       " '10s_after_tone_frame',\n",
       " '10s_before_tone_frame',\n",
       " 'all_subjects_remove',\n",
       " 'body_parts',\n",
       " 'box_bottom_left',\n",
       " 'box_bottom_right',\n",
       " 'box_number',\n",
       " 'box_top_left',\n",
       " 'box_top_right',\n",
       " 'color',\n",
       " 'comp_id',\n",
       " 'competition_closeness_remove',\n",
       " 'condition ',\n",
       " 'experiment_remove',\n",
       " 'first_timestamp_remove',\n",
       " 'get_reward_frame_remove',\n",
       " 'in_video_subjects',\n",
       " 'last_timestamp_remove',\n",
       " 'notes_remove',\n",
       " 'out_reward_frame_remove',\n",
       " 'reward_port',\n",
       " 'session_dir_remove',\n",
       " 'sleap_name',\n",
       " 'start_frame',\n",
       " 'stop_frame',\n",
       " 'tone_start_to_stop_frame',\n",
       " 'tone_stop_frame_remove',\n",
       " 'tone_stop_timestamp_remove',\n",
       " 'tracked_subject',\n",
       " 'video_id',\n",
       " 'cluster_index_ranges_dict',\n",
       " 'competitiveness_index_ranges_dict',\n",
       " 'cluster_frame_ranges_dict',\n",
       " 'competitiveness_frame_ranges_dict',\n",
       " 'baseline_start_timestamp',\n",
       " 'post_trial_end_timestamp',\n",
       " 'video_frame',\n",
       " 'trial_agent_locations',\n",
       " 'trial_agent_nose',\n",
       " 'trial_agent_nose_to_reward_port',\n",
       " 'trial_agent_thorax',\n",
       " 'trial_agent_thorax_velocity',\n",
       " 'trial_closebool_agent_nose_to_reward_port',\n",
       " 'trial_closebool_subject_nose_to_reward_port',\n",
       " 'trial_clusterable_embedding_x',\n",
       " 'trial_clusterable_embedding_y',\n",
       " 'trial_competitiveness',\n",
       " 'trial_frame_index',\n",
       " 'trial_kmeans_cluster',\n",
       " 'trial_manual_cluster_id',\n",
       " 'trial_movingbool_agent_thorax_velocity',\n",
       " 'trial_movingbool_subject_thorax_velocity',\n",
       " 'trial_nose_to_reward_port_diff',\n",
       " 'trial_nose_to_reward_port_sum',\n",
       " 'trial_nose_to_tail_diff',\n",
       " 'trial_nose_to_tail_sum',\n",
       " 'trial_standard_embedding_x',\n",
       " 'trial_standard_embedding_y',\n",
       " 'trial_subject_locations',\n",
       " 'trial_subject_nose',\n",
       " 'trial_subject_nose_to_reward_port',\n",
       " 'trial_subject_thorax',\n",
       " 'trial_subject_thorax_to_agent_thorax',\n",
       " 'trial_subject_thorax_velocity',\n",
       " 'trial_thorax_velocity_diff',\n",
       " 'trial_thorax_velocity_sum',\n",
       " 'trial_within_trial_frame_index',\n",
       " 'trial_video_timestamps',\n",
       " 'trial_BLA_LH_coherence_all_frequencies_all_windows',\n",
       " 'trial_BLA_LH_coherence_gamma',\n",
       " 'trial_BLA_LH_coherence_theta',\n",
       " 'trial_BLA_MD_coherence_all_frequencies_all_windows',\n",
       " 'trial_BLA_MD_coherence_gamma',\n",
       " 'trial_BLA_MD_coherence_theta',\n",
       " 'trial_BLA_mPFC_coherence_all_frequencies_all_windows',\n",
       " 'trial_BLA_mPFC_coherence_gamma',\n",
       " 'trial_BLA_mPFC_coherence_theta',\n",
       " 'trial_BLA_vHPC_coherence_all_frequencies_all_windows',\n",
       " 'trial_BLA_vHPC_coherence_gamma',\n",
       " 'trial_BLA_vHPC_coherence_theta',\n",
       " 'trial_LH_MD_coherence_all_frequencies_all_windows',\n",
       " 'trial_LH_MD_coherence_gamma',\n",
       " 'trial_LH_MD_coherence_theta',\n",
       " 'trial_LH_mPFC_coherence_all_frequencies_all_windows',\n",
       " 'trial_LH_mPFC_coherence_gamma',\n",
       " 'trial_LH_mPFC_coherence_theta',\n",
       " 'trial_LH_vHPC_coherence_all_frequencies_all_windows',\n",
       " 'trial_LH_vHPC_coherence_gamma',\n",
       " 'trial_LH_vHPC_coherence_theta',\n",
       " 'trial_MD_mPFC_coherence_all_frequencies_all_windows',\n",
       " 'trial_MD_mPFC_coherence_gamma',\n",
       " 'trial_MD_mPFC_coherence_theta',\n",
       " 'trial_MD_vHPC_coherence_all_frequencies_all_windows',\n",
       " 'trial_MD_vHPC_coherence_gamma',\n",
       " 'trial_MD_vHPC_coherence_theta',\n",
       " 'trial_mPFC_vHPC_coherence_all_frequencies_all_windows',\n",
       " 'trial_mPFC_vHPC_coherence_gamma',\n",
       " 'trial_mPFC_vHPC_coherence_theta',\n",
       " 'trial_coherence_timestamps',\n",
       " 'trial_BLA-to-LH_granger_gamma',\n",
       " 'trial_BLA-to-LH_granger_theta',\n",
       " 'trial_BLA-to-MD_granger_gamma',\n",
       " 'trial_BLA-to-MD_granger_theta',\n",
       " 'trial_BLA-to-mPFC_granger_gamma',\n",
       " 'trial_BLA-to-mPFC_granger_theta',\n",
       " 'trial_BLA-to-vHPC_granger_gamma',\n",
       " 'trial_BLA-to-vHPC_granger_theta',\n",
       " 'trial_BLA_LH_granger_all_frequencies_all_windows',\n",
       " 'trial_BLA_MD_granger_all_frequencies_all_windows',\n",
       " 'trial_BLA_mPFC_granger_all_frequencies_all_windows',\n",
       " 'trial_BLA_vHPC_granger_all_frequencies_all_windows',\n",
       " 'trial_LH-to-BLA_granger_gamma',\n",
       " 'trial_LH-to-BLA_granger_theta',\n",
       " 'trial_LH-to-MD_granger_gamma',\n",
       " 'trial_LH-to-MD_granger_theta',\n",
       " 'trial_LH-to-mPFC_granger_gamma',\n",
       " 'trial_LH-to-mPFC_granger_theta',\n",
       " 'trial_LH-to-vHPC_granger_gamma',\n",
       " 'trial_LH-to-vHPC_granger_theta',\n",
       " 'trial_LH_BLA_granger_all_frequencies_all_windows',\n",
       " 'trial_LH_MD_granger_all_frequencies_all_windows',\n",
       " 'trial_LH_mPFC_granger_all_frequencies_all_windows',\n",
       " 'trial_LH_vHPC_granger_all_frequencies_all_windows',\n",
       " 'trial_MD-to-BLA_granger_gamma',\n",
       " 'trial_MD-to-BLA_granger_theta',\n",
       " 'trial_MD-to-LH_granger_gamma',\n",
       " 'trial_MD-to-LH_granger_theta',\n",
       " 'trial_MD-to-mPFC_granger_gamma',\n",
       " 'trial_MD-to-mPFC_granger_theta',\n",
       " 'trial_MD-to-vHPC_granger_gamma',\n",
       " 'trial_MD-to-vHPC_granger_theta',\n",
       " 'trial_MD_BLA_granger_all_frequencies_all_windows',\n",
       " 'trial_MD_LH_granger_all_frequencies_all_windows',\n",
       " 'trial_MD_mPFC_granger_all_frequencies_all_windows',\n",
       " 'trial_MD_vHPC_granger_all_frequencies_all_windows',\n",
       " 'trial_mPFC-to-BLA_granger_gamma',\n",
       " 'trial_mPFC-to-BLA_granger_theta',\n",
       " 'trial_mPFC-to-LH_granger_gamma',\n",
       " 'trial_mPFC-to-LH_granger_theta',\n",
       " 'trial_mPFC-to-MD_granger_gamma',\n",
       " 'trial_mPFC-to-MD_granger_theta',\n",
       " 'trial_mPFC-to-vHPC_granger_gamma',\n",
       " 'trial_mPFC-to-vHPC_granger_theta',\n",
       " 'trial_mPFC_BLA_granger_all_frequencies_all_windows',\n",
       " 'trial_mPFC_LH_granger_all_frequencies_all_windows',\n",
       " 'trial_mPFC_MD_granger_all_frequencies_all_windows',\n",
       " 'trial_mPFC_vHPC_granger_all_frequencies_all_windows',\n",
       " 'trial_vHPC-to-BLA_granger_gamma',\n",
       " 'trial_vHPC-to-BLA_granger_theta',\n",
       " 'trial_vHPC-to-LH_granger_gamma',\n",
       " 'trial_vHPC-to-LH_granger_theta',\n",
       " 'trial_vHPC-to-MD_granger_gamma',\n",
       " 'trial_vHPC-to-MD_granger_theta',\n",
       " 'trial_vHPC-to-mPFC_granger_gamma',\n",
       " 'trial_vHPC-to-mPFC_granger_theta',\n",
       " 'trial_vHPC_BLA_granger_all_frequencies_all_windows',\n",
       " 'trial_vHPC_LH_granger_all_frequencies_all_windows',\n",
       " 'trial_vHPC_MD_granger_all_frequencies_all_windows',\n",
       " 'trial_vHPC_mPFC_granger_all_frequencies_all_windows',\n",
       " 'trial_granger_timestamps',\n",
       " 'trial_BLA_power_all_frequencies_all_windows',\n",
       " 'trial_BLA_power_gamma',\n",
       " 'trial_BLA_power_theta',\n",
       " 'trial_LH_power_all_frequencies_all_windows',\n",
       " 'trial_LH_power_gamma',\n",
       " 'trial_LH_power_theta',\n",
       " 'trial_MD_power_all_frequencies_all_windows',\n",
       " 'trial_MD_power_gamma',\n",
       " 'trial_MD_power_theta',\n",
       " 'trial_mPFC_power_all_frequencies_all_windows',\n",
       " 'trial_mPFC_power_gamma',\n",
       " 'trial_mPFC_power_theta',\n",
       " 'trial_vHPC_power_all_frequencies_all_windows',\n",
       " 'trial_vHPC_power_gamma',\n",
       " 'trial_vHPC_power_theta',\n",
       " 'trial_power_timestamps',\n",
       " 'trial_BLA_gamma_band',\n",
       " 'trial_BLA_gamma_phase',\n",
       " 'trial_BLA_lfp_trace',\n",
       " 'trial_BLA_theta_band',\n",
       " 'trial_BLA_theta_phase',\n",
       " 'trial_LH_gamma_band',\n",
       " 'trial_LH_gamma_phase',\n",
       " 'trial_LH_lfp_trace',\n",
       " 'trial_LH_theta_band',\n",
       " 'trial_LH_theta_phase',\n",
       " 'trial_MD_gamma_band',\n",
       " 'trial_MD_gamma_phase',\n",
       " 'trial_MD_lfp_trace',\n",
       " 'trial_MD_theta_band',\n",
       " 'trial_MD_theta_phase',\n",
       " 'trial_mPFC_gamma_band',\n",
       " 'trial_mPFC_gamma_phase',\n",
       " 'trial_mPFC_lfp_trace',\n",
       " 'trial_mPFC_theta_band',\n",
       " 'trial_mPFC_theta_phase',\n",
       " 'trial_vHPC_gamma_band',\n",
       " 'trial_vHPC_gamma_phase',\n",
       " 'trial_vHPC_lfp_trace',\n",
       " 'trial_vHPC_theta_band',\n",
       " 'trial_vHPC_theta_phase',\n",
       " 'trial_lfp_timestamps',\n",
       " 'trial_label',\n",
       " 'competitiveness_label',\n",
       " 'trial_and_competitiveness_label',\n",
       " 'competitiveness_frame_ranges',\n",
       " 'competitiveness_timestamp_ranges',\n",
       " 'cluster_filtered_coherence_index',\n",
       " 'cluster_filtered_granger_index',\n",
       " 'cluster_filtered_power_index',\n",
       " 'cluster_filtered_lfp_index']"
      ]
     },
     "execution_count": 85,
     "metadata": {},
     "output_type": "execute_result"
    }
   ],
   "source": [
    "list(cluster_exploded_TRIALS_AND_SPECTRAL_DF.columns)"
   ]
  },
  {
   "cell_type": "code",
   "execution_count": 86,
   "metadata": {},
   "outputs": [],
   "source": [
    "power_columns = [col for col in cluster_exploded_TRIALS_AND_SPECTRAL_DF if \"trial\" in col and (\"power\" in col or \"granger\" in col or \"coherence\" in col)]"
   ]
  },
  {
   "cell_type": "code",
   "execution_count": 87,
   "metadata": {},
   "outputs": [
    {
     "data": {
      "text/plain": [
       "['trial_BLA_LH_coherence_all_frequencies_all_windows',\n",
       " 'trial_BLA_LH_coherence_gamma',\n",
       " 'trial_BLA_LH_coherence_theta',\n",
       " 'trial_BLA_MD_coherence_all_frequencies_all_windows',\n",
       " 'trial_BLA_MD_coherence_gamma',\n",
       " 'trial_BLA_MD_coherence_theta',\n",
       " 'trial_BLA_mPFC_coherence_all_frequencies_all_windows',\n",
       " 'trial_BLA_mPFC_coherence_gamma',\n",
       " 'trial_BLA_mPFC_coherence_theta',\n",
       " 'trial_BLA_vHPC_coherence_all_frequencies_all_windows',\n",
       " 'trial_BLA_vHPC_coherence_gamma',\n",
       " 'trial_BLA_vHPC_coherence_theta',\n",
       " 'trial_LH_MD_coherence_all_frequencies_all_windows',\n",
       " 'trial_LH_MD_coherence_gamma',\n",
       " 'trial_LH_MD_coherence_theta',\n",
       " 'trial_LH_mPFC_coherence_all_frequencies_all_windows',\n",
       " 'trial_LH_mPFC_coherence_gamma',\n",
       " 'trial_LH_mPFC_coherence_theta',\n",
       " 'trial_LH_vHPC_coherence_all_frequencies_all_windows',\n",
       " 'trial_LH_vHPC_coherence_gamma',\n",
       " 'trial_LH_vHPC_coherence_theta',\n",
       " 'trial_MD_mPFC_coherence_all_frequencies_all_windows',\n",
       " 'trial_MD_mPFC_coherence_gamma',\n",
       " 'trial_MD_mPFC_coherence_theta',\n",
       " 'trial_MD_vHPC_coherence_all_frequencies_all_windows',\n",
       " 'trial_MD_vHPC_coherence_gamma',\n",
       " 'trial_MD_vHPC_coherence_theta',\n",
       " 'trial_mPFC_vHPC_coherence_all_frequencies_all_windows',\n",
       " 'trial_mPFC_vHPC_coherence_gamma',\n",
       " 'trial_mPFC_vHPC_coherence_theta',\n",
       " 'trial_coherence_timestamps',\n",
       " 'trial_BLA-to-LH_granger_gamma',\n",
       " 'trial_BLA-to-LH_granger_theta',\n",
       " 'trial_BLA-to-MD_granger_gamma',\n",
       " 'trial_BLA-to-MD_granger_theta',\n",
       " 'trial_BLA-to-mPFC_granger_gamma',\n",
       " 'trial_BLA-to-mPFC_granger_theta',\n",
       " 'trial_BLA-to-vHPC_granger_gamma',\n",
       " 'trial_BLA-to-vHPC_granger_theta',\n",
       " 'trial_BLA_LH_granger_all_frequencies_all_windows',\n",
       " 'trial_BLA_MD_granger_all_frequencies_all_windows',\n",
       " 'trial_BLA_mPFC_granger_all_frequencies_all_windows',\n",
       " 'trial_BLA_vHPC_granger_all_frequencies_all_windows',\n",
       " 'trial_LH-to-BLA_granger_gamma',\n",
       " 'trial_LH-to-BLA_granger_theta',\n",
       " 'trial_LH-to-MD_granger_gamma',\n",
       " 'trial_LH-to-MD_granger_theta',\n",
       " 'trial_LH-to-mPFC_granger_gamma',\n",
       " 'trial_LH-to-mPFC_granger_theta',\n",
       " 'trial_LH-to-vHPC_granger_gamma',\n",
       " 'trial_LH-to-vHPC_granger_theta',\n",
       " 'trial_LH_BLA_granger_all_frequencies_all_windows',\n",
       " 'trial_LH_MD_granger_all_frequencies_all_windows',\n",
       " 'trial_LH_mPFC_granger_all_frequencies_all_windows',\n",
       " 'trial_LH_vHPC_granger_all_frequencies_all_windows',\n",
       " 'trial_MD-to-BLA_granger_gamma',\n",
       " 'trial_MD-to-BLA_granger_theta',\n",
       " 'trial_MD-to-LH_granger_gamma',\n",
       " 'trial_MD-to-LH_granger_theta',\n",
       " 'trial_MD-to-mPFC_granger_gamma',\n",
       " 'trial_MD-to-mPFC_granger_theta',\n",
       " 'trial_MD-to-vHPC_granger_gamma',\n",
       " 'trial_MD-to-vHPC_granger_theta',\n",
       " 'trial_MD_BLA_granger_all_frequencies_all_windows',\n",
       " 'trial_MD_LH_granger_all_frequencies_all_windows',\n",
       " 'trial_MD_mPFC_granger_all_frequencies_all_windows',\n",
       " 'trial_MD_vHPC_granger_all_frequencies_all_windows',\n",
       " 'trial_mPFC-to-BLA_granger_gamma',\n",
       " 'trial_mPFC-to-BLA_granger_theta',\n",
       " 'trial_mPFC-to-LH_granger_gamma',\n",
       " 'trial_mPFC-to-LH_granger_theta',\n",
       " 'trial_mPFC-to-MD_granger_gamma',\n",
       " 'trial_mPFC-to-MD_granger_theta',\n",
       " 'trial_mPFC-to-vHPC_granger_gamma',\n",
       " 'trial_mPFC-to-vHPC_granger_theta',\n",
       " 'trial_mPFC_BLA_granger_all_frequencies_all_windows',\n",
       " 'trial_mPFC_LH_granger_all_frequencies_all_windows',\n",
       " 'trial_mPFC_MD_granger_all_frequencies_all_windows',\n",
       " 'trial_mPFC_vHPC_granger_all_frequencies_all_windows',\n",
       " 'trial_vHPC-to-BLA_granger_gamma',\n",
       " 'trial_vHPC-to-BLA_granger_theta',\n",
       " 'trial_vHPC-to-LH_granger_gamma',\n",
       " 'trial_vHPC-to-LH_granger_theta',\n",
       " 'trial_vHPC-to-MD_granger_gamma',\n",
       " 'trial_vHPC-to-MD_granger_theta',\n",
       " 'trial_vHPC-to-mPFC_granger_gamma',\n",
       " 'trial_vHPC-to-mPFC_granger_theta',\n",
       " 'trial_vHPC_BLA_granger_all_frequencies_all_windows',\n",
       " 'trial_vHPC_LH_granger_all_frequencies_all_windows',\n",
       " 'trial_vHPC_MD_granger_all_frequencies_all_windows',\n",
       " 'trial_vHPC_mPFC_granger_all_frequencies_all_windows',\n",
       " 'trial_granger_timestamps',\n",
       " 'trial_BLA_power_all_frequencies_all_windows',\n",
       " 'trial_BLA_power_gamma',\n",
       " 'trial_BLA_power_theta',\n",
       " 'trial_LH_power_all_frequencies_all_windows',\n",
       " 'trial_LH_power_gamma',\n",
       " 'trial_LH_power_theta',\n",
       " 'trial_MD_power_all_frequencies_all_windows',\n",
       " 'trial_MD_power_gamma',\n",
       " 'trial_MD_power_theta',\n",
       " 'trial_mPFC_power_all_frequencies_all_windows',\n",
       " 'trial_mPFC_power_gamma',\n",
       " 'trial_mPFC_power_theta',\n",
       " 'trial_vHPC_power_all_frequencies_all_windows',\n",
       " 'trial_vHPC_power_gamma',\n",
       " 'trial_vHPC_power_theta',\n",
       " 'trial_power_timestamps']"
      ]
     },
     "execution_count": 87,
     "metadata": {},
     "output_type": "execute_result"
    }
   ],
   "source": [
    "power_columns"
   ]
  },
  {
   "cell_type": "markdown",
   "metadata": {},
   "source": [
    "- Getting the timestamps of all the clusters"
   ]
  },
  {
   "cell_type": "code",
   "execution_count": 88,
   "metadata": {
    "tags": []
   },
   "outputs": [
    {
     "name": "stdout",
     "output_type": "stream",
     "text": [
      "trial_BLA_LH_coherence_all_frequencies_all_windows\n",
      "trial_BLA_LH_coherence_gamma\n",
      "trial_BLA_LH_coherence_theta\n",
      "trial_BLA_MD_coherence_all_frequencies_all_windows\n",
      "trial_BLA_MD_coherence_gamma\n",
      "trial_BLA_MD_coherence_theta\n",
      "trial_BLA_mPFC_coherence_all_frequencies_all_windows\n",
      "trial_BLA_mPFC_coherence_gamma\n",
      "trial_BLA_mPFC_coherence_theta\n",
      "trial_BLA_vHPC_coherence_all_frequencies_all_windows\n",
      "trial_BLA_vHPC_coherence_gamma\n",
      "trial_BLA_vHPC_coherence_theta\n",
      "trial_LH_MD_coherence_all_frequencies_all_windows\n",
      "trial_LH_MD_coherence_gamma\n",
      "trial_LH_MD_coherence_theta\n",
      "trial_LH_mPFC_coherence_all_frequencies_all_windows\n",
      "trial_LH_mPFC_coherence_gamma\n",
      "trial_LH_mPFC_coherence_theta\n",
      "trial_LH_vHPC_coherence_all_frequencies_all_windows\n",
      "trial_LH_vHPC_coherence_gamma\n",
      "trial_LH_vHPC_coherence_theta\n",
      "trial_MD_mPFC_coherence_all_frequencies_all_windows\n",
      "trial_MD_mPFC_coherence_gamma\n",
      "trial_MD_mPFC_coherence_theta\n",
      "trial_MD_vHPC_coherence_all_frequencies_all_windows\n",
      "trial_MD_vHPC_coherence_gamma\n",
      "trial_MD_vHPC_coherence_theta\n",
      "trial_mPFC_vHPC_coherence_all_frequencies_all_windows\n",
      "trial_mPFC_vHPC_coherence_gamma\n",
      "trial_mPFC_vHPC_coherence_theta\n",
      "trial_coherence_timestamps\n",
      "trial_BLA-to-LH_granger_gamma\n",
      "trial_BLA-to-LH_granger_theta\n",
      "trial_BLA-to-MD_granger_gamma\n",
      "trial_BLA-to-MD_granger_theta\n",
      "trial_BLA-to-mPFC_granger_gamma\n",
      "trial_BLA-to-mPFC_granger_theta\n",
      "trial_BLA-to-vHPC_granger_gamma\n",
      "trial_BLA-to-vHPC_granger_theta\n",
      "trial_BLA_LH_granger_all_frequencies_all_windows\n",
      "trial_BLA_MD_granger_all_frequencies_all_windows\n",
      "trial_BLA_mPFC_granger_all_frequencies_all_windows\n",
      "trial_BLA_vHPC_granger_all_frequencies_all_windows\n",
      "trial_LH-to-BLA_granger_gamma\n",
      "trial_LH-to-BLA_granger_theta\n",
      "trial_LH-to-MD_granger_gamma\n",
      "trial_LH-to-MD_granger_theta\n",
      "trial_LH-to-mPFC_granger_gamma\n",
      "trial_LH-to-mPFC_granger_theta\n",
      "trial_LH-to-vHPC_granger_gamma\n",
      "trial_LH-to-vHPC_granger_theta\n",
      "trial_LH_BLA_granger_all_frequencies_all_windows\n",
      "trial_LH_MD_granger_all_frequencies_all_windows\n",
      "trial_LH_mPFC_granger_all_frequencies_all_windows\n",
      "trial_LH_vHPC_granger_all_frequencies_all_windows\n",
      "trial_MD-to-BLA_granger_gamma\n",
      "trial_MD-to-BLA_granger_theta\n",
      "trial_MD-to-LH_granger_gamma\n",
      "trial_MD-to-LH_granger_theta\n",
      "trial_MD-to-mPFC_granger_gamma\n",
      "trial_MD-to-mPFC_granger_theta\n",
      "trial_MD-to-vHPC_granger_gamma\n",
      "trial_MD-to-vHPC_granger_theta\n",
      "trial_MD_BLA_granger_all_frequencies_all_windows\n",
      "trial_MD_LH_granger_all_frequencies_all_windows\n",
      "trial_MD_mPFC_granger_all_frequencies_all_windows\n",
      "trial_MD_vHPC_granger_all_frequencies_all_windows\n",
      "trial_mPFC-to-BLA_granger_gamma\n",
      "trial_mPFC-to-BLA_granger_theta\n",
      "trial_mPFC-to-LH_granger_gamma\n",
      "trial_mPFC-to-LH_granger_theta\n",
      "trial_mPFC-to-MD_granger_gamma\n",
      "trial_mPFC-to-MD_granger_theta\n",
      "trial_mPFC-to-vHPC_granger_gamma\n",
      "trial_mPFC-to-vHPC_granger_theta\n",
      "trial_mPFC_BLA_granger_all_frequencies_all_windows\n",
      "trial_mPFC_LH_granger_all_frequencies_all_windows\n",
      "trial_mPFC_MD_granger_all_frequencies_all_windows\n",
      "trial_mPFC_vHPC_granger_all_frequencies_all_windows\n",
      "trial_vHPC-to-BLA_granger_gamma\n",
      "trial_vHPC-to-BLA_granger_theta\n",
      "trial_vHPC-to-LH_granger_gamma\n",
      "trial_vHPC-to-LH_granger_theta\n",
      "trial_vHPC-to-MD_granger_gamma\n",
      "trial_vHPC-to-MD_granger_theta\n",
      "trial_vHPC-to-mPFC_granger_gamma\n",
      "trial_vHPC-to-mPFC_granger_theta\n",
      "trial_vHPC_BLA_granger_all_frequencies_all_windows\n",
      "trial_vHPC_LH_granger_all_frequencies_all_windows\n",
      "trial_vHPC_MD_granger_all_frequencies_all_windows\n",
      "trial_vHPC_mPFC_granger_all_frequencies_all_windows\n",
      "trial_granger_timestamps\n",
      "trial_BLA_power_all_frequencies_all_windows\n",
      "trial_BLA_power_gamma\n",
      "trial_BLA_power_theta\n",
      "trial_LH_power_all_frequencies_all_windows\n",
      "trial_LH_power_gamma\n",
      "trial_LH_power_theta\n",
      "trial_MD_power_all_frequencies_all_windows\n",
      "trial_MD_power_gamma\n",
      "trial_MD_power_theta\n",
      "trial_mPFC_power_all_frequencies_all_windows\n",
      "trial_mPFC_power_gamma\n",
      "trial_mPFC_power_theta\n",
      "trial_vHPC_power_all_frequencies_all_windows\n",
      "trial_vHPC_power_gamma\n",
      "trial_vHPC_power_theta\n",
      "trial_power_timestamps\n"
     ]
    }
   ],
   "source": [
    "for col in power_columns:\n",
    "    print(col)\n",
    "    cluster_exploded_TRIALS_AND_SPECTRAL_DF[\"cluster_all_{}\".format(col)] = cluster_exploded_TRIALS_AND_SPECTRAL_DF.apply(lambda x: x[col][x[\"cluster_filtered_power_index\"]], axis=1)"
   ]
  },
  {
   "cell_type": "code",
   "execution_count": 89,
   "metadata": {
    "tags": []
   },
   "outputs": [],
   "source": [
    "cluster_all_columns = [col for col in cluster_exploded_TRIALS_AND_SPECTRAL_DF if \"cluster_all\" in col]"
   ]
  },
  {
   "cell_type": "code",
   "execution_count": 90,
   "metadata": {
    "tags": []
   },
   "outputs": [
    {
     "data": {
      "text/plain": [
       "['cluster_all_trial_BLA_LH_coherence_all_frequencies_all_windows',\n",
       " 'cluster_all_trial_BLA_LH_coherence_gamma',\n",
       " 'cluster_all_trial_BLA_LH_coherence_theta',\n",
       " 'cluster_all_trial_BLA_MD_coherence_all_frequencies_all_windows',\n",
       " 'cluster_all_trial_BLA_MD_coherence_gamma',\n",
       " 'cluster_all_trial_BLA_MD_coherence_theta',\n",
       " 'cluster_all_trial_BLA_mPFC_coherence_all_frequencies_all_windows',\n",
       " 'cluster_all_trial_BLA_mPFC_coherence_gamma',\n",
       " 'cluster_all_trial_BLA_mPFC_coherence_theta',\n",
       " 'cluster_all_trial_BLA_vHPC_coherence_all_frequencies_all_windows',\n",
       " 'cluster_all_trial_BLA_vHPC_coherence_gamma',\n",
       " 'cluster_all_trial_BLA_vHPC_coherence_theta',\n",
       " 'cluster_all_trial_LH_MD_coherence_all_frequencies_all_windows',\n",
       " 'cluster_all_trial_LH_MD_coherence_gamma',\n",
       " 'cluster_all_trial_LH_MD_coherence_theta',\n",
       " 'cluster_all_trial_LH_mPFC_coherence_all_frequencies_all_windows',\n",
       " 'cluster_all_trial_LH_mPFC_coherence_gamma',\n",
       " 'cluster_all_trial_LH_mPFC_coherence_theta',\n",
       " 'cluster_all_trial_LH_vHPC_coherence_all_frequencies_all_windows',\n",
       " 'cluster_all_trial_LH_vHPC_coherence_gamma',\n",
       " 'cluster_all_trial_LH_vHPC_coherence_theta',\n",
       " 'cluster_all_trial_MD_mPFC_coherence_all_frequencies_all_windows',\n",
       " 'cluster_all_trial_MD_mPFC_coherence_gamma',\n",
       " 'cluster_all_trial_MD_mPFC_coherence_theta',\n",
       " 'cluster_all_trial_MD_vHPC_coherence_all_frequencies_all_windows',\n",
       " 'cluster_all_trial_MD_vHPC_coherence_gamma',\n",
       " 'cluster_all_trial_MD_vHPC_coherence_theta',\n",
       " 'cluster_all_trial_mPFC_vHPC_coherence_all_frequencies_all_windows',\n",
       " 'cluster_all_trial_mPFC_vHPC_coherence_gamma',\n",
       " 'cluster_all_trial_mPFC_vHPC_coherence_theta',\n",
       " 'cluster_all_trial_coherence_timestamps',\n",
       " 'cluster_all_trial_BLA-to-LH_granger_gamma',\n",
       " 'cluster_all_trial_BLA-to-LH_granger_theta',\n",
       " 'cluster_all_trial_BLA-to-MD_granger_gamma',\n",
       " 'cluster_all_trial_BLA-to-MD_granger_theta',\n",
       " 'cluster_all_trial_BLA-to-mPFC_granger_gamma',\n",
       " 'cluster_all_trial_BLA-to-mPFC_granger_theta',\n",
       " 'cluster_all_trial_BLA-to-vHPC_granger_gamma',\n",
       " 'cluster_all_trial_BLA-to-vHPC_granger_theta',\n",
       " 'cluster_all_trial_BLA_LH_granger_all_frequencies_all_windows',\n",
       " 'cluster_all_trial_BLA_MD_granger_all_frequencies_all_windows',\n",
       " 'cluster_all_trial_BLA_mPFC_granger_all_frequencies_all_windows',\n",
       " 'cluster_all_trial_BLA_vHPC_granger_all_frequencies_all_windows',\n",
       " 'cluster_all_trial_LH-to-BLA_granger_gamma',\n",
       " 'cluster_all_trial_LH-to-BLA_granger_theta',\n",
       " 'cluster_all_trial_LH-to-MD_granger_gamma',\n",
       " 'cluster_all_trial_LH-to-MD_granger_theta',\n",
       " 'cluster_all_trial_LH-to-mPFC_granger_gamma',\n",
       " 'cluster_all_trial_LH-to-mPFC_granger_theta',\n",
       " 'cluster_all_trial_LH-to-vHPC_granger_gamma',\n",
       " 'cluster_all_trial_LH-to-vHPC_granger_theta',\n",
       " 'cluster_all_trial_LH_BLA_granger_all_frequencies_all_windows',\n",
       " 'cluster_all_trial_LH_MD_granger_all_frequencies_all_windows',\n",
       " 'cluster_all_trial_LH_mPFC_granger_all_frequencies_all_windows',\n",
       " 'cluster_all_trial_LH_vHPC_granger_all_frequencies_all_windows',\n",
       " 'cluster_all_trial_MD-to-BLA_granger_gamma',\n",
       " 'cluster_all_trial_MD-to-BLA_granger_theta',\n",
       " 'cluster_all_trial_MD-to-LH_granger_gamma',\n",
       " 'cluster_all_trial_MD-to-LH_granger_theta',\n",
       " 'cluster_all_trial_MD-to-mPFC_granger_gamma',\n",
       " 'cluster_all_trial_MD-to-mPFC_granger_theta',\n",
       " 'cluster_all_trial_MD-to-vHPC_granger_gamma',\n",
       " 'cluster_all_trial_MD-to-vHPC_granger_theta',\n",
       " 'cluster_all_trial_MD_BLA_granger_all_frequencies_all_windows',\n",
       " 'cluster_all_trial_MD_LH_granger_all_frequencies_all_windows',\n",
       " 'cluster_all_trial_MD_mPFC_granger_all_frequencies_all_windows',\n",
       " 'cluster_all_trial_MD_vHPC_granger_all_frequencies_all_windows',\n",
       " 'cluster_all_trial_mPFC-to-BLA_granger_gamma',\n",
       " 'cluster_all_trial_mPFC-to-BLA_granger_theta',\n",
       " 'cluster_all_trial_mPFC-to-LH_granger_gamma',\n",
       " 'cluster_all_trial_mPFC-to-LH_granger_theta',\n",
       " 'cluster_all_trial_mPFC-to-MD_granger_gamma',\n",
       " 'cluster_all_trial_mPFC-to-MD_granger_theta',\n",
       " 'cluster_all_trial_mPFC-to-vHPC_granger_gamma',\n",
       " 'cluster_all_trial_mPFC-to-vHPC_granger_theta',\n",
       " 'cluster_all_trial_mPFC_BLA_granger_all_frequencies_all_windows',\n",
       " 'cluster_all_trial_mPFC_LH_granger_all_frequencies_all_windows',\n",
       " 'cluster_all_trial_mPFC_MD_granger_all_frequencies_all_windows',\n",
       " 'cluster_all_trial_mPFC_vHPC_granger_all_frequencies_all_windows',\n",
       " 'cluster_all_trial_vHPC-to-BLA_granger_gamma',\n",
       " 'cluster_all_trial_vHPC-to-BLA_granger_theta',\n",
       " 'cluster_all_trial_vHPC-to-LH_granger_gamma',\n",
       " 'cluster_all_trial_vHPC-to-LH_granger_theta',\n",
       " 'cluster_all_trial_vHPC-to-MD_granger_gamma',\n",
       " 'cluster_all_trial_vHPC-to-MD_granger_theta',\n",
       " 'cluster_all_trial_vHPC-to-mPFC_granger_gamma',\n",
       " 'cluster_all_trial_vHPC-to-mPFC_granger_theta',\n",
       " 'cluster_all_trial_vHPC_BLA_granger_all_frequencies_all_windows',\n",
       " 'cluster_all_trial_vHPC_LH_granger_all_frequencies_all_windows',\n",
       " 'cluster_all_trial_vHPC_MD_granger_all_frequencies_all_windows',\n",
       " 'cluster_all_trial_vHPC_mPFC_granger_all_frequencies_all_windows',\n",
       " 'cluster_all_trial_granger_timestamps',\n",
       " 'cluster_all_trial_BLA_power_all_frequencies_all_windows',\n",
       " 'cluster_all_trial_BLA_power_gamma',\n",
       " 'cluster_all_trial_BLA_power_theta',\n",
       " 'cluster_all_trial_LH_power_all_frequencies_all_windows',\n",
       " 'cluster_all_trial_LH_power_gamma',\n",
       " 'cluster_all_trial_LH_power_theta',\n",
       " 'cluster_all_trial_MD_power_all_frequencies_all_windows',\n",
       " 'cluster_all_trial_MD_power_gamma',\n",
       " 'cluster_all_trial_MD_power_theta',\n",
       " 'cluster_all_trial_mPFC_power_all_frequencies_all_windows',\n",
       " 'cluster_all_trial_mPFC_power_gamma',\n",
       " 'cluster_all_trial_mPFC_power_theta',\n",
       " 'cluster_all_trial_vHPC_power_all_frequencies_all_windows',\n",
       " 'cluster_all_trial_vHPC_power_gamma',\n",
       " 'cluster_all_trial_vHPC_power_theta',\n",
       " 'cluster_all_trial_power_timestamps']"
      ]
     },
     "execution_count": 90,
     "metadata": {},
     "output_type": "execute_result"
    }
   ],
   "source": [
    "cluster_all_columns"
   ]
  },
  {
   "cell_type": "markdown",
   "metadata": {},
   "source": [
    "- Aggregating all the values within a given trial"
   ]
  },
  {
   "cell_type": "code",
   "execution_count": 91,
   "metadata": {
    "tags": []
   },
   "outputs": [
    {
     "name": "stdout",
     "output_type": "stream",
     "text": [
      "cluster_mean_trial_BLA_LH_coherence_all_frequencies_all_windows\n",
      "[0.4816411  0.47437584 0.38758895 0.47314748 0.4112646  0.4678715\n",
      " 0.500128   0.54443806 0.6094994  0.5046063  0.41542214 0.41915244\n",
      " 0.35264367 0.37307736 0.3015937  0.5477752  0.460324   0.37803367\n",
      " 0.27931294 0.33784035 0.38929427 0.42147675 0.48511648 0.37922812\n",
      " 0.2187491  0.17233329 0.32699814 0.29351762 0.32965615 0.4738761\n",
      " 0.37858412 0.40473512 0.36763945 0.40212154 0.44159785 0.40177697\n",
      " 0.51000637 0.52599233 0.46931505 0.3009566  0.38391772 0.42997447\n",
      " 0.32129315 0.28094372 0.44380024 0.4952751  0.4805331  0.42855617\n",
      " 0.4258792  0.2977934  0.35096166 0.4125808  0.38594648 0.4732981\n",
      " 0.52795213 0.47386643]\n",
      "cluster_mean_trial_BLA_LH_coherence_gamma\n",
      "0.40674543\n",
      "cluster_mean_trial_BLA_LH_coherence_theta\n",
      "0.46944734\n",
      "cluster_mean_trial_BLA_MD_coherence_all_frequencies_all_windows\n",
      "[0.335477   0.44359854 0.31041303 0.36812082 0.30387202 0.3744634\n",
      " 0.49758816 0.6550918  0.726526   0.51593083 0.42670345 0.47595647\n",
      " 0.34560943 0.27852252 0.24091883 0.31535915 0.3966918  0.46884468\n",
      " 0.38824221 0.45460236 0.38806355 0.3878963  0.46580434 0.38998935\n",
      " 0.263416   0.2743071  0.2820454  0.31365803 0.34986714 0.46506682\n",
      " 0.3812268  0.34437743 0.32773104 0.28786257 0.35356784 0.3785464\n",
      " 0.45112348 0.45323396 0.28747877 0.34710002 0.33631837 0.3942847\n",
      " 0.36993405 0.37782016 0.3451909  0.36096668 0.352764   0.30167037\n",
      " 0.31686458 0.2743663  0.36184826 0.4179177  0.29899964 0.43237886\n",
      " 0.43917215 0.46903148]\n",
      "cluster_mean_trial_BLA_MD_coherence_gamma\n",
      "0.3525846\n",
      "cluster_mean_trial_BLA_MD_coherence_theta\n",
      "0.48019353\n",
      "cluster_mean_trial_BLA_mPFC_coherence_all_frequencies_all_windows\n",
      "[0.32561538 0.40071478 0.30914426 0.3702944  0.3265151  0.3782927\n",
      " 0.5393637  0.64537936 0.59476465 0.44798273 0.48767096 0.467247\n",
      " 0.41179165 0.42886466 0.47147506 0.55401397 0.47450548 0.47563767\n",
      " 0.40592346 0.37875634 0.40536174 0.36761576 0.35263005 0.40804043\n",
      " 0.28577942 0.32474434 0.33167496 0.40035886 0.3701885  0.36271426\n",
      " 0.34694594 0.4350725  0.4710544  0.3394795  0.39393622 0.25612694\n",
      " 0.2917881  0.44813052 0.38703883 0.3273609  0.3795718  0.35370907\n",
      " 0.29867202 0.28040186 0.3762382  0.37880248 0.36994922 0.3608249\n",
      " 0.36442772 0.42661065 0.3587101  0.2564128  0.37195414 0.43101135\n",
      " 0.39035773 0.34345394]\n",
      "cluster_mean_trial_BLA_mPFC_coherence_gamma\n",
      "0.36404058\n",
      "cluster_mean_trial_BLA_mPFC_coherence_theta\n",
      "0.4776675\n",
      "cluster_mean_trial_BLA_vHPC_coherence_all_frequencies_all_windows\n",
      "[0.3114643  0.39325273 0.35573575 0.43551943 0.43517426 0.46366712\n",
      " 0.61793864 0.63003635 0.6208612  0.5712411  0.58634406 0.53760344\n",
      " 0.42346328 0.3939477  0.45297265 0.39601144 0.48469874 0.55916923\n",
      " 0.53693724 0.4849418  0.4830077  0.49820703 0.54068124 0.46101508\n",
      " 0.4938814  0.3914466  0.4093571  0.44040793 0.48362836 0.4774911\n",
      " 0.4398806  0.4574477  0.47804075 0.4391593  0.5083186  0.5454909\n",
      " 0.269586   0.31643194 0.40885526 0.4969064  0.39800617 0.4037214\n",
      " 0.37125078 0.21292973 0.32023075 0.34492865 0.36495712 0.39195582\n",
      " 0.42672855 0.41075853 0.48765814 0.6100293  0.5012543  0.2782819\n",
      " 0.40611386 0.37038243]\n",
      "cluster_mean_trial_BLA_vHPC_coherence_gamma\n",
      "0.40444013\n",
      "cluster_mean_trial_BLA_vHPC_coherence_theta\n",
      "0.54292554\n",
      "cluster_mean_trial_LH_MD_coherence_all_frequencies_all_windows\n",
      "[0.57332355 0.6527164  0.6468196  0.8000327  0.79058594 0.8601309\n",
      " 0.7741634  0.75719607 0.78870064 0.68896776 0.77484876 0.79943776\n",
      " 0.7684116  0.7483526  0.7209327  0.68465066 0.71958786 0.706939\n",
      " 0.72253025 0.6112578  0.64257765 0.62749076 0.73057103 0.7446518\n",
      " 0.7949934  0.76674515 0.712512   0.7647413  0.69336754 0.63061273\n",
      " 0.63512474 0.60239816 0.7142282  0.6970924  0.6570971  0.73412627\n",
      " 0.6964201  0.6366376  0.6100723  0.5259079  0.38181657 0.44016093\n",
      " 0.5556744  0.49644536 0.49348277 0.5792896  0.57181036 0.46261406\n",
      " 0.52303797 0.55711085 0.5460968  0.6305368  0.6643839  0.7402737\n",
      " 0.69665194 0.7230893 ]\n",
      "cluster_mean_trial_LH_MD_coherence_gamma\n",
      "0.57698315\n",
      "cluster_mean_trial_LH_MD_coherence_theta\n",
      "0.77804923\n",
      "cluster_mean_trial_LH_mPFC_coherence_all_frequencies_all_windows\n",
      "[0.39306927 0.5965107  0.5960651  0.73950666 0.8047319  0.7298494\n",
      " 0.6718996  0.67339027 0.7233042  0.6548855  0.6370501  0.5677049\n",
      " 0.54476964 0.61461085 0.69543004 0.7222518  0.67897743 0.6341449\n",
      " 0.66542983 0.5606321  0.46010235 0.37778416 0.5984434  0.573587\n",
      " 0.54729563 0.55309504 0.45517093 0.40347555 0.40994433 0.3724546\n",
      " 0.46741173 0.40613213 0.3662515  0.3377038  0.32735813 0.40986016\n",
      " 0.44817305 0.55017143 0.5854146  0.5063683  0.4526761  0.3682104\n",
      " 0.3426361  0.40711406 0.4600128  0.5696728  0.4641282  0.34354246\n",
      " 0.27634862 0.3241305  0.38461953 0.21259774 0.38390204 0.4425124\n",
      " 0.5198708  0.54790825]\n",
      "cluster_mean_trial_LH_mPFC_coherence_gamma\n",
      "0.41894934\n",
      "cluster_mean_trial_LH_mPFC_coherence_theta\n",
      "0.6675095\n",
      "cluster_mean_trial_LH_vHPC_coherence_all_frequencies_all_windows\n",
      "[0.23362017 0.40569845 0.29239544 0.50400484 0.3683576  0.29527682\n",
      " 0.36465898 0.38887498 0.47029495 0.31202883 0.3345419  0.31232628\n",
      " 0.24529703 0.31098366 0.45680696 0.4208378  0.29378492 0.3966747\n",
      " 0.38285378 0.3681976  0.3225062  0.37719572 0.4010918  0.3163542\n",
      " 0.4034358  0.35933024 0.26239517 0.2828856  0.5219499  0.4315409\n",
      " 0.25719315 0.24690945 0.30329448 0.32635766 0.3375185  0.40195137\n",
      " 0.3541177  0.29282737 0.26854268 0.3665821  0.25304988 0.29300267\n",
      " 0.41383424 0.35013723 0.46258754 0.310997   0.3838321  0.46488267\n",
      " 0.34318942 0.34741193 0.3092607  0.31571442 0.339296   0.26393813\n",
      " 0.37281305 0.30024958]\n",
      "cluster_mean_trial_LH_vHPC_coherence_gamma\n",
      "0.33749902\n",
      "cluster_mean_trial_LH_vHPC_coherence_theta\n",
      "0.34351745\n",
      "cluster_mean_trial_MD_mPFC_coherence_all_frequencies_all_windows\n",
      "[0.6253836  0.84775764 0.84791154 0.88100725 0.86888486 0.6618995\n",
      " 0.624148   0.5169405  0.5609726  0.3718181  0.5032757  0.60857767\n",
      " 0.47815564 0.40402976 0.5083866  0.57035154 0.5944472  0.67914695\n",
      " 0.7057392  0.65493876 0.6145913  0.5942026  0.6224194  0.5793304\n",
      " 0.5693705  0.5924049  0.5885546  0.42903745 0.38455555 0.350513\n",
      " 0.56178606 0.45235527 0.39352396 0.46524036 0.42231408 0.48367402\n",
      " 0.543283   0.5669676  0.45031047 0.3021087  0.268661   0.37617758\n",
      " 0.46070555 0.43905318 0.3577642  0.38400015 0.33766106 0.21505256\n",
      " 0.26864502 0.30538875 0.3421396  0.2896026  0.36165932 0.30291077\n",
      " 0.3049741  0.39644805]\n",
      "cluster_mean_trial_MD_mPFC_coherence_gamma\n",
      "0.3998482\n",
      "cluster_mean_trial_MD_mPFC_coherence_theta\n",
      "0.5771858\n",
      "cluster_mean_trial_MD_vHPC_coherence_all_frequencies_all_windows\n",
      "[0.32920188 0.48350078 0.3649421  0.42301664 0.34709275 0.25404394\n",
      " 0.4196967  0.5413454  0.66634834 0.35223123 0.38962346 0.37878373\n",
      " 0.3430779  0.38669425 0.47820994 0.45932892 0.3666129  0.4297166\n",
      " 0.40846786 0.47303933 0.33504382 0.32823408 0.37931672 0.30873024\n",
      " 0.35346326 0.3323892  0.2591321  0.35700792 0.48688495 0.39054248\n",
      " 0.391599   0.35848367 0.31952238 0.17759562 0.254776   0.38936794\n",
      " 0.37818784 0.42450905 0.35772276 0.22425085 0.21584152 0.16865307\n",
      " 0.29368466 0.31459454 0.16093002 0.38124254 0.37806082 0.2677109\n",
      " 0.30229202 0.29083169 0.36427277 0.38940752 0.43396807 0.25911984\n",
      " 0.2578143  0.2830208 ]\n",
      "cluster_mean_trial_MD_vHPC_coherence_gamma\n",
      "0.30543473\n",
      "cluster_mean_trial_MD_vHPC_coherence_theta\n",
      "0.41024926\n",
      "cluster_mean_trial_mPFC_vHPC_coherence_all_frequencies_all_windows\n",
      "[0.24818866 0.52517647 0.37432566 0.3664069  0.29202822 0.3525739\n",
      " 0.54352605 0.523722   0.4922164  0.31220633 0.34111047 0.35218042\n",
      " 0.32702097 0.29087037 0.44663844 0.4874931  0.42094973 0.46672338\n",
      " 0.32742012 0.45742604 0.38344142 0.24584754 0.26717767 0.31340533\n",
      " 0.38350695 0.34574902 0.39265049 0.2981193  0.362277   0.35002962\n",
      " 0.35103646 0.32703927 0.36765462 0.3441525  0.32044554 0.29002497\n",
      " 0.3887646  0.34186712 0.38761303 0.35344946 0.31103712 0.26051775\n",
      " 0.3294455  0.35435104 0.30957973 0.36932608 0.33734214 0.39254025\n",
      " 0.31506407 0.28186408 0.25453952 0.1947949  0.36452165 0.26730248\n",
      " 0.4226573  0.35387954]\n",
      "cluster_mean_trial_mPFC_vHPC_coherence_gamma\n",
      "0.33274546\n",
      "cluster_mean_trial_mPFC_vHPC_coherence_theta\n",
      "0.39295384\n",
      "cluster_mean_trial_coherence_timestamps\n",
      "1375000.0\n",
      "cluster_mean_trial_BLA-to-LH_granger_gamma\n",
      "0.4680335\n",
      "cluster_mean_trial_BLA-to-LH_granger_theta\n",
      "0.32974678\n",
      "cluster_mean_trial_BLA-to-MD_granger_gamma\n",
      "0.5630219\n",
      "cluster_mean_trial_BLA-to-MD_granger_theta\n",
      "0.37862822\n",
      "cluster_mean_trial_BLA-to-mPFC_granger_gamma\n",
      "0.47963113\n",
      "cluster_mean_trial_BLA-to-mPFC_granger_theta\n",
      "0.360753\n",
      "cluster_mean_trial_BLA-to-vHPC_granger_gamma\n",
      "0.5553123\n",
      "cluster_mean_trial_BLA-to-vHPC_granger_theta\n",
      "0.67491597\n",
      "cluster_mean_trial_BLA_LH_granger_all_frequencies_all_windows\n",
      "[0.7262061  0.47820872 0.57987875 0.5471105  0.47088292 0.4180698\n",
      " 0.24090676 0.22698432 0.32922608 0.2337459  0.31807715 0.32694808\n",
      " 0.40288    0.3371217  0.45788148 0.49549294 0.6702464  0.61238104\n",
      " 0.68229604 0.5551995  0.5635126  0.31320226 0.28487006 0.46668246\n",
      " 0.42883062 0.6730521  0.5385335  0.68258137 0.6222258  1.0572624\n",
      " 1.0889655  0.50629884 0.58419156 0.5010221  0.40777415 0.36614063\n",
      " 0.54019964 0.6163466  0.62652725 0.30882066 0.27893525 0.32047763\n",
      " 0.31348836 0.3652835  0.3371123  0.2813639  0.2926259  0.44801006\n",
      " 0.49228534 0.50506395 0.62499154 0.58207035 0.5354487  0.42157182\n",
      " 0.5917688  0.43634892]\n",
      "cluster_mean_trial_BLA_MD_granger_all_frequencies_all_windows\n",
      "[0.4213687  0.6105118  0.707029   0.5635202  0.5499048  0.4951881\n",
      " 0.33444214 0.29871988 0.24747409 0.64432186 0.3355992  0.23757309\n",
      " 0.26443085 0.15106578 0.22567452 0.44361356 0.445089   0.5656151\n",
      " 0.8306719  0.5928133  0.8444958  0.60243785 0.42079365 0.31039697\n",
      " 0.5027167  0.7320294  0.5422343  0.40158522 0.6636068  0.7539896\n",
      " 1.0091921  0.48487827 0.6283901  0.77625424 0.64841324 0.7593212\n",
      " 0.4648117  0.5615099  0.5964233  0.5953569  0.53233486 0.5398111\n",
      " 0.54457384 0.50007457 0.2881164  0.28049546 0.2811526  0.4536866\n",
      " 0.7040438  0.6546187  0.5371686  0.49843952 0.36338553 0.41775224\n",
      " 0.4508479  0.22743277]\n",
      "cluster_mean_trial_BLA_mPFC_granger_all_frequencies_all_windows\n",
      "[0.38225722 0.55166644 0.396483   0.35708705 0.2426059  0.3267402\n",
      " 0.32229215 0.41104823 0.38362113 0.40282598 0.33791125 0.48707914\n",
      " 0.3326526  0.42133647 0.3888895  0.6273938  0.53460896 0.46993947\n",
      " 0.69674546 0.60570204 0.46878776 0.5309616  0.49100846 0.40569755\n",
      " 0.5303092  0.5178876  0.31744355 0.30669573 0.403821   0.41622257\n",
      " 0.51712465 0.3721764  0.50714034 0.6681718  0.39185998 0.3354377\n",
      " 0.49854487 0.64155024 0.4899641  0.4685557  0.45229387 0.42898345\n",
      " 0.7476446  0.4166955  0.2551057  0.59540015 0.36844105 0.5198511\n",
      " 0.49899155 0.43862393 0.46347323 0.3561431  0.60060793 0.58575004\n",
      " 0.4558572  0.40280867]\n",
      "cluster_mean_trial_BLA_vHPC_granger_all_frequencies_all_windows\n",
      "[0.8779097  0.7574794  0.5124153  0.56825674 0.51961714 0.6051842\n",
      " 0.55194867 0.91845876 0.85347664 0.8325519  0.7245564  0.6404177\n",
      " 0.39588633 0.3711046  0.47922033 0.6584075  0.62182266 0.67483926\n",
      " 0.7933718  0.70147926 0.99966645 1.1182482  0.6465282  0.76969665\n",
      " 0.4151479  0.34715536 0.2335583  0.53011805 0.61862427 0.76808256\n",
      " 0.6591114  0.8720789  0.87191033 0.7576847  0.66364074 0.4443248\n",
      " 0.34517184 0.2792297  0.32258502 0.6807396  0.4710829  0.48469362\n",
      " 0.45379147 0.46747807 0.4281034  0.45261914 0.51199    0.46821296\n",
      " 0.49709222 0.80155426 0.72228134 0.90359074 0.6323903  0.75426954\n",
      " 0.4911645  0.6523866 ]\n",
      "cluster_mean_trial_LH-to-BLA_granger_gamma\n",
      "0.27696934\n",
      "cluster_mean_trial_LH-to-BLA_granger_theta\n",
      "0.29207495\n",
      "cluster_mean_trial_LH-to-MD_granger_gamma\n",
      "0.25468722\n",
      "cluster_mean_trial_LH-to-MD_granger_theta\n",
      "0.28707257\n",
      "cluster_mean_trial_LH-to-mPFC_granger_gamma\n",
      "0.23478685\n",
      "cluster_mean_trial_LH-to-mPFC_granger_theta\n",
      "0.32923955\n",
      "cluster_mean_trial_LH-to-vHPC_granger_gamma\n",
      "0.38816577\n",
      "cluster_mean_trial_LH-to-vHPC_granger_theta\n",
      "0.32309663\n",
      "cluster_mean_trial_LH_BLA_granger_all_frequencies_all_windows\n",
      "[0.4092537  0.33988294 0.29348505 0.3507821  0.25134036 0.31123406\n",
      " 0.3100417  0.15970701 0.2376275  0.3200266  0.30932745 0.46802205\n",
      " 0.2613476  0.19083762 0.29282534 0.28137583 0.2560596  0.27041215\n",
      " 0.3907759  0.3970049  0.40686333 0.3028099  0.1827433  0.19815002\n",
      " 0.18657789 0.33242047 0.2767839  0.19561419 0.26417443 0.3769201\n",
      " 0.5558894  0.4098202  0.34940636 0.35131437 0.41365436 0.17805038\n",
      " 0.15579434 0.18644279 0.23935713 0.2910304  0.22859153 0.14717917\n",
      " 0.13886693 0.15064567 0.21597718 0.35424945 0.34250426 0.3538462\n",
      " 0.4524798  0.14157619 0.15967983 0.12016987 0.34537128 0.3036397\n",
      " 0.26506487 0.24866286]\n",
      "cluster_mean_trial_LH_MD_granger_all_frequencies_all_windows\n",
      "[0.66766816 0.38333207 0.33031642 0.29656872 0.20997071 0.2568032\n",
      " 0.3068823  0.2809193  0.24127278 0.35624123 0.340044   0.2909567\n",
      " 0.28874043 0.14359099 0.3166467  0.24602751 0.3645434  0.21531917\n",
      " 0.27465814 0.25270867 0.22317313 0.1964232  0.16697682 0.1806876\n",
      " 0.28242195 0.25512218 0.224059   0.2799523  0.360786   0.4692877\n",
      " 0.1794567  0.08595192 0.13255265 0.43034503 0.33224946 0.26702225\n",
      " 0.20462117 0.22024105 0.313429   0.32665583 0.25058615 0.25792962\n",
      " 0.27703422 0.25825384 0.3113408  0.38355476 0.23791026 0.2018267\n",
      " 0.15150909 0.23839879 0.28756216 0.19191061 0.34971574 0.21848875\n",
      " 0.11874595 0.17718078]\n",
      "cluster_mean_trial_LH_mPFC_granger_all_frequencies_all_windows\n",
      "[0.49578223 0.29234642 0.31377205 0.36285537 0.65346783 0.51386815\n",
      " 0.19270918 0.20666327 0.19072376 0.26894248 0.21324429 0.33423135\n",
      " 0.41675633 0.17309166 0.29184404 0.18587524 0.3000723  0.1470805\n",
      " 0.3833809  0.38942936 0.31282094 0.13555437 0.11583566 0.2730392\n",
      " 0.23366313 0.20896725 0.20565158 0.30760363 0.4451332  0.3238653\n",
      " 0.19908208 0.17185862 0.19491643 0.18473092 0.34997052 0.12222648\n",
      " 0.17038839 0.18086848 0.1687688  0.2007516  0.20364203 0.21067916\n",
      " 0.28431517 0.24513282 0.15965782 0.29395702 0.2470654  0.21541576\n",
      " 0.43057021 0.41691256 0.27961382 0.2234394  0.58601546 0.18594202\n",
      " 0.24578534 0.20046087]\n",
      "cluster_mean_trial_LH_vHPC_granger_all_frequencies_all_windows\n",
      "[0.2988277  0.16031839 0.4089478  0.22784984 0.34700546 0.21347523\n",
      " 0.34349537 0.5834139  0.43742362 0.24877466 0.24964435 0.23070829\n",
      " 0.18800128 0.18980725 0.20253202 0.31034014 0.28058243 0.40856647\n",
      " 0.40837613 0.4064334  0.44418082 0.64964724 0.517378   0.56697375\n",
      " 0.5728549  0.48207885 0.4589812  0.41558486 0.36614317 0.3878869\n",
      " 0.38527188 0.49794802 0.50730747 0.23053275 0.3209437  0.28820926\n",
      " 0.29076448 0.12344436 0.21474414 0.23253469 0.23567586 0.22183284\n",
      " 0.32088703 0.6957497  0.3961511  0.44909602 0.36346078 0.82341766\n",
      " 0.74001664 0.38646606 0.39920178 0.24670193 0.33142608 0.28267422\n",
      " 0.31122074 0.35983437]\n",
      "cluster_mean_trial_MD-to-BLA_granger_gamma\n",
      "0.28391913\n",
      "cluster_mean_trial_MD-to-BLA_granger_theta\n",
      "0.27692825\n",
      "cluster_mean_trial_MD-to-LH_granger_gamma\n",
      "0.39010403\n",
      "cluster_mean_trial_MD-to-LH_granger_theta\n",
      "0.39719322\n",
      "cluster_mean_trial_MD-to-mPFC_granger_gamma\n",
      "0.32486513\n",
      "cluster_mean_trial_MD-to-mPFC_granger_theta\n",
      "0.6400468\n",
      "cluster_mean_trial_MD-to-vHPC_granger_gamma\n",
      "0.35230613\n",
      "cluster_mean_trial_MD-to-vHPC_granger_theta\n",
      "0.42913845\n",
      "cluster_mean_trial_MD_BLA_granger_all_frequencies_all_windows\n",
      "[0.67739934 0.2883297  0.20263214 0.25704268 0.17773247 0.15081193\n",
      " 0.19935673 0.12149107 0.24827121 0.3186158  0.4126486  0.42117667\n",
      " 0.4422498  0.24146564 0.2655296  0.2688045  0.19038154 0.29878762\n",
      " 0.38949332 0.37272248 0.458644   0.4099637  0.30540052 0.31129557\n",
      " 0.19850321 0.27792382 0.17498411 0.20862317 0.27282548 0.27620572\n",
      " 0.48764965 0.3507278  0.3502406  0.50104517 0.33647528 0.18563895\n",
      " 0.19392364 0.30882445 0.4659817  0.34123838 0.24962266 0.20806362\n",
      " 0.13426135 0.22484516 0.2197301  0.22733848 0.2532371  0.28650638\n",
      " 0.27873996 0.18054068 0.17766982 0.14366217 0.3304647  0.32326382\n",
      " 0.20465596 0.1891576 ]\n",
      "cluster_mean_trial_MD_LH_granger_all_frequencies_all_windows\n",
      "[0.53736037 0.49943936 0.4749877  0.40020406 0.2841152  0.3678051\n",
      " 0.5490782  0.32447806 0.48645666 0.59942526 0.28012973 0.35864192\n",
      " 0.31630746 0.16634843 0.21060982 0.21514216 0.36043268 0.29622027\n",
      " 0.36315876 0.30052477 0.32614547 0.26016632 0.2625109  0.20871162\n",
      " 0.37153003 0.5909954  0.22620608 0.5069406  0.33834973 0.34498656\n",
      " 0.21009256 0.16632408 0.22581549 0.45677683 0.8882094  0.4454522\n",
      " 0.35398743 0.22575487 0.34844238 0.29128206 0.46352282 0.27234626\n",
      " 0.39151284 0.5992854  0.51761204 0.35923287 0.46656755 0.31601185\n",
      " 0.6005821  0.2508199  0.342554   0.20904227 0.39146283 0.2697887\n",
      " 0.28733844 0.56982905]\n",
      "cluster_mean_trial_MD_mPFC_granger_all_frequencies_all_windows\n",
      "[1.0656741  1.1229895  0.36326098 0.5255651  1.036683   0.99391675\n",
      " 0.7893854  0.37931737 0.43145823 0.5981247  0.3884776  0.60335106\n",
      " 0.61577874 0.20444107 0.26453006 0.12766865 0.29518533 0.26795557\n",
      " 0.3482583  0.33823776 0.40532228 0.44864193 0.3812208  0.33936203\n",
      " 0.41955367 0.35313085 0.30423167 0.33032575 0.49282432 0.354134\n",
      " 0.22224557 0.24206965 0.20789905 0.22493546 0.354635   0.17290111\n",
      " 0.31487012 0.49280748 0.7973163  0.44427112 0.4059521  0.1895866\n",
      " 0.42133513 0.2440211  0.3198136  0.34772167 0.34910962 0.17141068\n",
      " 0.23476207 0.34211436 0.32239035 0.35907865 0.5525806  0.23215866\n",
      " 0.289143   0.27403405]\n",
      "cluster_mean_trial_MD_vHPC_granger_all_frequencies_all_windows\n",
      "[1.0134215  0.30028775 0.464229   0.20930482 0.22933887 0.50936943\n",
      " 0.4859868  0.69506097 0.39807016 0.5407989  0.3732816  0.25219885\n",
      " 0.35302687 0.30692503 0.23707643 0.34026605 0.3537608  0.33650824\n",
      " 0.38209108 0.44127324 0.55239415 0.45143947 0.41191918 0.3975897\n",
      " 0.4945547  0.44827688 0.6762446  0.24626695 0.25631472 0.3849785\n",
      " 0.51790243 0.49264792 0.51852393 0.3098775  0.27513883 0.27702647\n",
      " 0.56325173 0.218144   0.2579062  0.23076811 0.2000463  0.20238699\n",
      " 0.22468887 0.3408547  0.5119612  0.43658534 0.38360885 0.17410293\n",
      " 0.4490525  0.43371555 0.38023862 0.4789481  0.46779898 0.19133522\n",
      " 0.2512344  0.31409836]\n",
      "cluster_mean_trial_mPFC-to-BLA_granger_gamma\n",
      "0.30719003\n",
      "cluster_mean_trial_mPFC-to-BLA_granger_theta\n",
      "0.3989976\n",
      "cluster_mean_trial_mPFC-to-LH_granger_gamma\n",
      "0.5890617\n",
      "cluster_mean_trial_mPFC-to-LH_granger_theta\n",
      "0.4796444\n",
      "cluster_mean_trial_mPFC-to-MD_granger_gamma\n",
      "0.4752754\n",
      "cluster_mean_trial_mPFC-to-MD_granger_theta\n",
      "0.45678684\n",
      "cluster_mean_trial_mPFC-to-vHPC_granger_gamma\n",
      "0.40351474\n",
      "cluster_mean_trial_mPFC-to-vHPC_granger_theta\n",
      "0.40351793\n",
      "cluster_mean_trial_mPFC_BLA_granger_all_frequencies_all_windows\n",
      "[0.4943426  0.6658356  0.46152076 0.5876013  0.58489513 0.69174653\n",
      " 0.56872445 0.43468696 0.29853386 0.28579402 0.24005803 0.18152471\n",
      " 0.2969733  0.3248531  0.48932543 0.48184085 0.30507734 0.47119886\n",
      " 0.36719003 0.56134427 0.5609137  0.48022375 0.27907112 0.21554558\n",
      " 0.2383161  0.25532615 0.16811666 0.2228527  0.32666367 0.29939604\n",
      " 0.43642965 0.27714905 0.30971423 0.25196886 0.23323062 0.29423648\n",
      " 0.16930208 0.2867531  0.2753753  0.29785842 0.327315   0.36398235\n",
      " 0.4241663  0.2783609  0.30393866 0.2640318  0.36023802 0.29282635\n",
      " 0.34893227 0.350936   0.30424532 0.22401102 0.28091866 0.36890996\n",
      " 0.26191133 0.3396584 ]\n",
      "cluster_mean_trial_mPFC_LH_granger_all_frequencies_all_windows\n",
      "[0.6884818  0.89963716 0.57736486 0.4819319  0.7034037  0.6467687\n",
      " 0.77061045 0.6174873  0.38816717 0.44716558 0.19590059 0.20670663\n",
      " 0.34058926 0.313096   0.42832097 0.21743909 0.14476006 0.14786406\n",
      " 0.3768223  0.53474224 0.6017983  0.56971    0.21595766 0.24595898\n",
      " 0.25867003 0.59482396 0.4997419  0.44359386 0.5922465  0.32759255\n",
      " 0.59485006 0.27047366 0.84591806 0.8548346  0.6904058  0.56266105\n",
      " 0.5333876  0.42568818 0.29148024 0.26617968 0.46007827 0.66104376\n",
      " 0.5559984  0.7247853  0.3923622  0.44577953 0.6382894  0.6714671\n",
      " 0.8934797  0.7252206  0.9344597  0.7723589  0.67125887 0.43426704\n",
      " 0.46100667 0.4477966 ]\n",
      "cluster_mean_trial_mPFC_MD_granger_all_frequencies_all_windows\n",
      "[1.4382265  0.73847026 0.34111205 0.43000767 0.27077657 0.53953475\n",
      " 0.7861019  0.53796935 0.44252825 0.32207015 0.3259056  0.52774644\n",
      " 0.37223485 0.46000743 0.58595175 0.20023829 0.11388942 0.10577133\n",
      " 0.149058   0.24070553 0.32668188 0.3560493  0.23499914 0.09187102\n",
      " 0.1914605  0.27985266 0.27492073 0.3438039  0.45337382 0.3141277\n",
      " 0.367565   0.40180898 0.80518633 0.6580998  0.63122135 0.36531055\n",
      " 0.30125788 0.31234333 0.23168229 0.28616473 0.23303829 0.3439287\n",
      " 0.21354477 0.48899078 0.38423324 0.52551836 0.6305748  0.74694425\n",
      " 0.72127056 0.70921737 0.6253584  0.43540886 0.74245954 0.35586873\n",
      " 0.27046642 0.35601196]\n",
      "cluster_mean_trial_mPFC_vHPC_granger_all_frequencies_all_windows\n",
      "[0.6047887  0.37215334 0.27161682 0.2857175  0.16395718 0.385316\n",
      " 0.25538906 0.6562337  0.54368275 0.5728794  0.4112903  0.43089068\n",
      " 0.24877435 0.4075128  0.3776795  0.46683815 0.35560408 0.64098376\n",
      " 0.3006558  0.32827055 0.3640695  0.5128788  0.40365064 0.33211926\n",
      " 0.32343212 0.4445667  0.29353645 0.21428186 0.3199381  0.46331912\n",
      " 0.5748482  0.7144044  0.41709903 0.6389917  0.4452746  0.28478187\n",
      " 0.28841385 0.5317787  0.30233562 0.34043887 0.28090554 0.33103824\n",
      " 0.35907698 0.41075265 0.24893531 0.35191107 0.45159954 0.32078677\n",
      " 0.40489116 0.40924194 0.36000142 0.29885623 0.4523726  0.39688\n",
      " 0.50335985 0.45420852]\n",
      "cluster_mean_trial_vHPC-to-BLA_granger_gamma\n",
      "0.6886175\n",
      "cluster_mean_trial_vHPC-to-BLA_granger_theta\n",
      "0.7223442\n",
      "cluster_mean_trial_vHPC-to-LH_granger_gamma\n",
      "0.6166622\n",
      "cluster_mean_trial_vHPC-to-LH_granger_theta\n",
      "0.6255907\n",
      "cluster_mean_trial_vHPC-to-MD_granger_gamma\n",
      "0.4638653\n",
      "cluster_mean_trial_vHPC-to-MD_granger_theta\n",
      "0.59958434\n",
      "cluster_mean_trial_vHPC-to-mPFC_granger_gamma\n",
      "0.5154705\n",
      "cluster_mean_trial_vHPC-to-mPFC_granger_theta\n",
      "0.38219404\n",
      "cluster_mean_trial_vHPC_BLA_granger_all_frequencies_all_windows\n",
      "[0.79042965 0.3871771  0.5925948  0.63999325 0.712403   1.1097713\n",
      " 0.93056273 0.70378304 0.72756886 0.46476892 0.5828444  0.56678987\n",
      " 0.6876934  0.8068283  0.6331064  0.4390401  0.59279495 0.7811148\n",
      " 0.46073478 0.42869288 0.32968828 0.29854766 0.45983103 0.36615047\n",
      " 0.4009419  0.54991347 0.84356016 0.7337686  0.69998854 0.6770205\n",
      " 0.59316456 0.8846795  0.7848361  0.6663547  0.7576981  0.7806992\n",
      " 0.77797645 0.85323673 0.6512408  0.77806413 0.8634408  0.83169305\n",
      " 0.6525598  0.8323772  0.6798014  0.6494621  0.50883263 0.44465327\n",
      " 0.36199147 0.55615383 0.51701784 0.7460594  0.5644614  0.69274575\n",
      " 0.5936625  0.8654314 ]\n",
      "cluster_mean_trial_vHPC_LH_granger_all_frequencies_all_windows\n",
      "[1.2305003  0.56273353 0.7773466  1.3559592  0.7630736  0.78247297\n",
      " 0.51338005 0.64925474 0.853783   0.43645573 0.59091914 0.6006366\n",
      " 0.4382038  0.86150634 0.8245252  0.6429688  0.7846673  0.64214766\n",
      " 0.8450703  0.4987951  0.6934664  0.516248   0.51842153 0.57379866\n",
      " 0.8323892  0.44899708 1.0220076  0.6610786  0.4598229  0.3878696\n",
      " 0.23889992 0.35042065 0.32007498 0.34463316 0.6313114  0.59555566\n",
      " 1.0149202  0.8950507  0.94234705 0.94212323 0.6931387  0.6758887\n",
      " 0.67086226 0.54536015 0.53930175 0.4658367  0.42743367 0.6038389\n",
      " 0.4682452  0.88567525 0.7418094  0.58531344 0.6231489  0.7551939\n",
      " 0.3600085  0.50298935]\n",
      "cluster_mean_trial_vHPC_MD_granger_all_frequencies_all_windows\n",
      "[0.8614317  0.9778879  0.919945   1.1250671  0.60986525 0.6180432\n",
      " 0.41299522 0.5884491  0.67335445 0.6929614  0.46811572 0.63507915\n",
      " 0.6794716  0.8110324  1.0324956  0.7283411  0.73876274 0.66508764\n",
      " 1.0890455  0.6344957  0.58755946 0.3254538  0.4575962  0.371982\n",
      " 0.63064486 0.48033997 0.65392387 0.7673304  0.45020008 0.3031895\n",
      " 0.3782304  0.4685567  0.38443813 0.3258943  0.46036628 0.6638645\n",
      " 0.7132176  0.5627263  0.3956776  0.45063165 0.24300723 0.25895694\n",
      " 0.5017256  0.32956925 0.42898318 0.51238745 0.44023693 0.5663065\n",
      " 0.37707624 0.6499387  0.6550515  0.5521662  0.5385295  0.4357958\n",
      " 0.22915603 0.3170653 ]\n",
      "cluster_mean_trial_vHPC_mPFC_granger_all_frequencies_all_windows\n",
      "[1.4230222  0.79221183 0.833667   0.72770184 0.39471638 0.5428126\n",
      " 0.3348542  0.4358268  0.34382215 0.16744092 0.3101982  0.40929928\n",
      " 0.5007758  0.5817374  0.5387289  0.3450066  0.5341738  0.45095825\n",
      " 0.4841894  0.550134   0.5480139  0.390474   0.599656   0.5558009\n",
      " 0.6536602  0.59678    0.74302304 0.59631747 0.44567734 0.40631875\n",
      " 0.49408633 0.751227   0.6452954  0.5403863  0.4299226  0.51190686\n",
      " 0.46009237 0.48094866 0.65626043 0.5764401  0.3767883  0.5001053\n",
      " 0.3297475  0.5832022  0.744078   0.72471076 0.40688676 0.54356\n",
      " 0.39533198 0.26137954 0.31230518 0.5407827  0.38719246 0.53801686\n",
      " 0.56795406 0.39043316]\n",
      "cluster_mean_trial_granger_timestamps\n",
      "1375000.0\n",
      "cluster_mean_trial_BLA_power_all_frequencies_all_windows\n",
      "[0.00156184 0.00271731 0.00742899 0.01515111 0.02246711 0.03087692\n",
      " 0.03396531 0.03164826 0.02527457 0.0131996  0.00987597 0.00913839\n",
      " 0.00768356 0.00618262 0.00549916 0.00440668 0.00374387 0.00335052\n",
      " 0.00483058 0.0054855  0.00631275 0.00633741 0.00482628 0.0042719\n",
      " 0.00450093 0.00483739 0.00535883 0.00550567 0.00527287 0.00434626\n",
      " 0.00451107 0.00420544 0.00473137 0.00515162 0.00534204 0.0049071\n",
      " 0.00379805 0.00392978 0.00381981 0.00310531 0.00335008 0.00305027\n",
      " 0.00322771 0.00296088 0.00300552 0.00316603 0.00259051 0.00227263\n",
      " 0.00192878 0.0017303  0.00174813 0.00134315 0.00124924 0.00140905\n",
      " 0.0015834  0.00146381]\n",
      "cluster_mean_trial_BLA_power_gamma\n",
      "0.0034539248\n",
      "cluster_mean_trial_BLA_power_theta\n",
      "0.020458853\n",
      "cluster_mean_trial_LH_power_all_frequencies_all_windows\n",
      "[0.0030889  0.00479984 0.00989022 0.02083152 0.02146573 0.02447516\n",
      " 0.02643363 0.02819958 0.02521547 0.01285754 0.00632448 0.00709205\n",
      " 0.00806237 0.0081666  0.00733955 0.00662246 0.00411526 0.00376991\n",
      " 0.00285699 0.00219229 0.00269296 0.00330701 0.00446598 0.00394121\n",
      " 0.00344556 0.00260136 0.00224389 0.00168089 0.00140519 0.00110909\n",
      " 0.0013537  0.00141853 0.00133279 0.00131701 0.00143733 0.00175703\n",
      " 0.00160288 0.00112159 0.0009577  0.00110668 0.00085811 0.00093296\n",
      " 0.00088525 0.00089921 0.00087367 0.0006207  0.00064596 0.00060497\n",
      " 0.00068846 0.00069529 0.00067622 0.00064435 0.00074814 0.00101329\n",
      " 0.00091748 0.00090727]\n",
      "cluster_mean_trial_LH_power_gamma\n",
      "0.0010374298\n",
      "cluster_mean_trial_LH_power_theta\n",
      "0.017791778\n",
      "cluster_mean_trial_MD_power_all_frequencies_all_windows\n",
      "[0.00264868 0.00543041 0.01327951 0.02506157 0.02812469 0.03831538\n",
      " 0.03948543 0.0394949  0.02841055 0.00972982 0.00526999 0.00538682\n",
      " 0.00656552 0.00755613 0.00714049 0.00674888 0.00475318 0.00422937\n",
      " 0.0034698  0.00283247 0.00248906 0.00271017 0.00299617 0.00289585\n",
      " 0.00299694 0.00253133 0.00252905 0.00229857 0.00180725 0.00151614\n",
      " 0.00150943 0.00137186 0.00139229 0.00140507 0.00124803 0.00130567\n",
      " 0.00113303 0.00089866 0.00096061 0.00092921 0.00096575 0.00117282\n",
      " 0.00105907 0.00089952 0.00077335 0.00066424 0.00070569 0.00062671\n",
      " 0.00064465 0.00061359 0.00060677 0.00065414 0.00078574 0.00103719\n",
      " 0.00092763 0.00089094]\n",
      "cluster_mean_trial_MD_power_gamma\n",
      "0.0009945731\n",
      "cluster_mean_trial_MD_power_theta\n",
      "0.022309236\n",
      "cluster_mean_trial_mPFC_power_all_frequencies_all_windows\n",
      "[0.00294384 0.00737011 0.02062855 0.03670077 0.03990976 0.03422869\n",
      " 0.02708114 0.022262   0.02039301 0.01151548 0.00882551 0.00604747\n",
      " 0.00531618 0.00455026 0.00488463 0.00501821 0.00487061 0.00499593\n",
      " 0.00497134 0.00495546 0.00471828 0.00489249 0.00401238 0.00416295\n",
      " 0.00358121 0.00333411 0.00294939 0.00257378 0.00209961 0.0022823\n",
      " 0.00238525 0.0023617  0.0021389  0.00179302 0.00159384 0.00143432\n",
      " 0.00163406 0.0016372  0.0016302  0.00131141 0.00116703 0.0013544\n",
      " 0.00125764 0.00144352 0.00134348 0.00133422 0.00126029 0.00127311\n",
      " 0.00144807 0.00123887 0.00116277 0.00086981 0.00082009 0.00096026\n",
      " 0.0009269  0.00089471]\n",
      "cluster_mean_trial_mPFC_power_gamma\n",
      "0.001533491\n",
      "cluster_mean_trial_mPFC_power_theta\n",
      "0.019508805\n",
      "cluster_mean_trial_vHPC_power_all_frequencies_all_windows\n",
      "[0.00292178 0.0057113  0.01060905 0.02259371 0.02788963 0.03849712\n",
      " 0.05487517 0.05235207 0.04768401 0.02520355 0.02022615 0.01510581\n",
      " 0.01201837 0.00887383 0.00866769 0.00823739 0.00723292 0.00555875\n",
      " 0.00577278 0.0057749  0.00753612 0.00670702 0.0059479  0.00622072\n",
      " 0.00532552 0.00431161 0.00276383 0.00367934 0.00343039 0.00337175\n",
      " 0.00270155 0.00267648 0.0028195  0.00248355 0.00186709 0.00161412\n",
      " 0.0014959  0.00144862 0.00124603 0.00101594 0.00127015 0.00134764\n",
      " 0.00120923 0.00109189 0.00104696 0.00101259 0.00104595 0.00098158\n",
      " 0.00068014 0.00069598 0.0006647  0.00067652 0.00062793 0.00050682\n",
      " 0.00051756 0.00042617]\n",
      "cluster_mean_trial_vHPC_power_gamma\n",
      "0.0014483618\n",
      "cluster_mean_trial_vHPC_power_theta\n",
      "0.03265021\n",
      "cluster_mean_trial_power_timestamps\n",
      "1375000.0\n"
     ]
    }
   ],
   "source": [
    "for col in cluster_all_columns:\n",
    "    updated_column = col.replace(\"cluster_all\", \"cluster_mean\")\n",
    "    if \"gamma\" in col or \"theta\" in col:\n",
    "        cluster_exploded_TRIALS_AND_SPECTRAL_DF[updated_column] = cluster_exploded_TRIALS_AND_SPECTRAL_DF.apply(lambda x: np.nanmean(x[col]), axis=1)\n",
    "    else:\n",
    "        cluster_exploded_TRIALS_AND_SPECTRAL_DF[updated_column] = cluster_exploded_TRIALS_AND_SPECTRAL_DF.apply(lambda x: np.nanmean(x[col], axis=0), axis=1)\n",
    "    print(updated_column)\n",
    "    print(cluster_exploded_TRIALS_AND_SPECTRAL_DF[updated_column].iloc[0])\n",
    "        "
   ]
  },
  {
   "cell_type": "code",
   "execution_count": 92,
   "metadata": {
    "tags": []
   },
   "outputs": [],
   "source": [
    "cluster_mean_columns = [col for col in cluster_exploded_TRIALS_AND_SPECTRAL_DF if \"cluster_mean\" in col and \"all_frequencies_all_windows\" in col]"
   ]
  },
  {
   "cell_type": "code",
   "execution_count": 93,
   "metadata": {
    "tags": []
   },
   "outputs": [
    {
     "data": {
      "text/plain": [
       "['cluster_mean_trial_BLA_LH_coherence_all_frequencies_all_windows',\n",
       " 'cluster_mean_trial_BLA_MD_coherence_all_frequencies_all_windows',\n",
       " 'cluster_mean_trial_BLA_mPFC_coherence_all_frequencies_all_windows',\n",
       " 'cluster_mean_trial_BLA_vHPC_coherence_all_frequencies_all_windows',\n",
       " 'cluster_mean_trial_LH_MD_coherence_all_frequencies_all_windows',\n",
       " 'cluster_mean_trial_LH_mPFC_coherence_all_frequencies_all_windows',\n",
       " 'cluster_mean_trial_LH_vHPC_coherence_all_frequencies_all_windows',\n",
       " 'cluster_mean_trial_MD_mPFC_coherence_all_frequencies_all_windows',\n",
       " 'cluster_mean_trial_MD_vHPC_coherence_all_frequencies_all_windows',\n",
       " 'cluster_mean_trial_mPFC_vHPC_coherence_all_frequencies_all_windows',\n",
       " 'cluster_mean_trial_BLA_LH_granger_all_frequencies_all_windows',\n",
       " 'cluster_mean_trial_BLA_MD_granger_all_frequencies_all_windows',\n",
       " 'cluster_mean_trial_BLA_mPFC_granger_all_frequencies_all_windows',\n",
       " 'cluster_mean_trial_BLA_vHPC_granger_all_frequencies_all_windows',\n",
       " 'cluster_mean_trial_LH_BLA_granger_all_frequencies_all_windows',\n",
       " 'cluster_mean_trial_LH_MD_granger_all_frequencies_all_windows',\n",
       " 'cluster_mean_trial_LH_mPFC_granger_all_frequencies_all_windows',\n",
       " 'cluster_mean_trial_LH_vHPC_granger_all_frequencies_all_windows',\n",
       " 'cluster_mean_trial_MD_BLA_granger_all_frequencies_all_windows',\n",
       " 'cluster_mean_trial_MD_LH_granger_all_frequencies_all_windows',\n",
       " 'cluster_mean_trial_MD_mPFC_granger_all_frequencies_all_windows',\n",
       " 'cluster_mean_trial_MD_vHPC_granger_all_frequencies_all_windows',\n",
       " 'cluster_mean_trial_mPFC_BLA_granger_all_frequencies_all_windows',\n",
       " 'cluster_mean_trial_mPFC_LH_granger_all_frequencies_all_windows',\n",
       " 'cluster_mean_trial_mPFC_MD_granger_all_frequencies_all_windows',\n",
       " 'cluster_mean_trial_mPFC_vHPC_granger_all_frequencies_all_windows',\n",
       " 'cluster_mean_trial_vHPC_BLA_granger_all_frequencies_all_windows',\n",
       " 'cluster_mean_trial_vHPC_LH_granger_all_frequencies_all_windows',\n",
       " 'cluster_mean_trial_vHPC_MD_granger_all_frequencies_all_windows',\n",
       " 'cluster_mean_trial_vHPC_mPFC_granger_all_frequencies_all_windows',\n",
       " 'cluster_mean_trial_BLA_power_all_frequencies_all_windows',\n",
       " 'cluster_mean_trial_LH_power_all_frequencies_all_windows',\n",
       " 'cluster_mean_trial_MD_power_all_frequencies_all_windows',\n",
       " 'cluster_mean_trial_mPFC_power_all_frequencies_all_windows',\n",
       " 'cluster_mean_trial_vHPC_power_all_frequencies_all_windows']"
      ]
     },
     "execution_count": 93,
     "metadata": {},
     "output_type": "execute_result"
    }
   ],
   "source": [
    "cluster_mean_columns"
   ]
  },
  {
   "cell_type": "code",
   "execution_count": 94,
   "metadata": {},
   "outputs": [
    {
     "data": {
      "text/html": [
       "<div>\n",
       "<style scoped>\n",
       "    .dataframe tbody tr th:only-of-type {\n",
       "        vertical-align: middle;\n",
       "    }\n",
       "\n",
       "    .dataframe tbody tr th {\n",
       "        vertical-align: top;\n",
       "    }\n",
       "\n",
       "    .dataframe thead th {\n",
       "        text-align: right;\n",
       "    }\n",
       "</style>\n",
       "<table border=\"1\" class=\"dataframe\">\n",
       "  <thead>\n",
       "    <tr style=\"text-align: right;\">\n",
       "      <th></th>\n",
       "      <th>tone_start_frame</th>\n",
       "      <th>reward_start</th>\n",
       "      <th>reward_dispensed</th>\n",
       "      <th>tone_stop_frame</th>\n",
       "      <th>condition</th>\n",
       "      <th>competition_closeness</th>\n",
       "      <th>get_reward_frame</th>\n",
       "      <th>out_reward_frame</th>\n",
       "      <th>experiment</th>\n",
       "      <th>video_name</th>\n",
       "      <th>...</th>\n",
       "      <th>cluster_mean_trial_MD_power_all_frequencies_all_windows</th>\n",
       "      <th>cluster_mean_trial_MD_power_gamma</th>\n",
       "      <th>cluster_mean_trial_MD_power_theta</th>\n",
       "      <th>cluster_mean_trial_mPFC_power_all_frequencies_all_windows</th>\n",
       "      <th>cluster_mean_trial_mPFC_power_gamma</th>\n",
       "      <th>cluster_mean_trial_mPFC_power_theta</th>\n",
       "      <th>cluster_mean_trial_vHPC_power_all_frequencies_all_windows</th>\n",
       "      <th>cluster_mean_trial_vHPC_power_gamma</th>\n",
       "      <th>cluster_mean_trial_vHPC_power_theta</th>\n",
       "      <th>cluster_mean_trial_power_timestamps</th>\n",
       "    </tr>\n",
       "  </thead>\n",
       "  <tbody>\n",
       "    <tr>\n",
       "      <th>0</th>\n",
       "      <td>1272</td>\n",
       "      <td>1352</td>\n",
       "      <td>1372.0</td>\n",
       "      <td>1471</td>\n",
       "      <td>rewarded</td>\n",
       "      <td>NaN</td>\n",
       "      <td>NaN</td>\n",
       "      <td>NaN</td>\n",
       "      <td>alone_comp</td>\n",
       "      <td>20240320_142408_alone_comp_subj_3-1_and_3-3.1</td>\n",
       "      <td>...</td>\n",
       "      <td>[0.0026486786, 0.005430412, 0.0132795125, 0.02...</td>\n",
       "      <td>0.000995</td>\n",
       "      <td>0.022309</td>\n",
       "      <td>[0.002943836, 0.0073701115, 0.020628551, 0.036...</td>\n",
       "      <td>0.001533</td>\n",
       "      <td>0.019509</td>\n",
       "      <td>[0.002921776, 0.005711304, 0.010609054, 0.0225...</td>\n",
       "      <td>0.001448</td>\n",
       "      <td>0.032650</td>\n",
       "      <td>1375000.0</td>\n",
       "    </tr>\n",
       "    <tr>\n",
       "      <th>1</th>\n",
       "      <td>1272</td>\n",
       "      <td>1352</td>\n",
       "      <td>1372.0</td>\n",
       "      <td>1471</td>\n",
       "      <td>rewarded</td>\n",
       "      <td>NaN</td>\n",
       "      <td>NaN</td>\n",
       "      <td>NaN</td>\n",
       "      <td>alone_comp</td>\n",
       "      <td>20240320_142408_alone_comp_subj_3-1_and_3-3.1</td>\n",
       "      <td>...</td>\n",
       "      <td>[0.0013180817, 0.0019057549, 0.0038911868, 0.0...</td>\n",
       "      <td>0.000861</td>\n",
       "      <td>0.011037</td>\n",
       "      <td>[0.0025098089, 0.004177024, 0.0070650093, 0.01...</td>\n",
       "      <td>0.000968</td>\n",
       "      <td>0.015476</td>\n",
       "      <td>[0.004501448, 0.0047970195, 0.010342834, 0.012...</td>\n",
       "      <td>0.001023</td>\n",
       "      <td>0.018229</td>\n",
       "      <td>1375000.0</td>\n",
       "    </tr>\n",
       "    <tr>\n",
       "      <th>2</th>\n",
       "      <td>3268</td>\n",
       "      <td>3348</td>\n",
       "      <td>3368.0</td>\n",
       "      <td>3469</td>\n",
       "      <td>rewarded</td>\n",
       "      <td>NaN</td>\n",
       "      <td>NaN</td>\n",
       "      <td>NaN</td>\n",
       "      <td>alone_comp</td>\n",
       "      <td>20240320_142408_alone_comp_subj_3-1_and_3-3.1</td>\n",
       "      <td>...</td>\n",
       "      <td>[0.001690788, 0.0043548183, 0.019096818, 0.038...</td>\n",
       "      <td>0.001067</td>\n",
       "      <td>0.023897</td>\n",
       "      <td>[0.002300576, 0.005869463, 0.024728615, 0.0556...</td>\n",
       "      <td>0.001711</td>\n",
       "      <td>0.024114</td>\n",
       "      <td>[0.0025493593, 0.008762072, 0.020663612, 0.032...</td>\n",
       "      <td>0.001143</td>\n",
       "      <td>0.026148</td>\n",
       "      <td>3375000.0</td>\n",
       "    </tr>\n",
       "    <tr>\n",
       "      <th>3</th>\n",
       "      <td>3268</td>\n",
       "      <td>3348</td>\n",
       "      <td>3368.0</td>\n",
       "      <td>3469</td>\n",
       "      <td>rewarded</td>\n",
       "      <td>NaN</td>\n",
       "      <td>NaN</td>\n",
       "      <td>NaN</td>\n",
       "      <td>alone_comp</td>\n",
       "      <td>20240320_142408_alone_comp_subj_3-1_and_3-3.1</td>\n",
       "      <td>...</td>\n",
       "      <td>[0.0013261967, 0.00161965, 0.00448946, 0.00852...</td>\n",
       "      <td>0.000872</td>\n",
       "      <td>0.009743</td>\n",
       "      <td>[0.0018210271, 0.0033454504, 0.009506376, 0.02...</td>\n",
       "      <td>0.001049</td>\n",
       "      <td>0.014004</td>\n",
       "      <td>[0.0023885863, 0.0030379929, 0.0071357437, 0.0...</td>\n",
       "      <td>0.001021</td>\n",
       "      <td>0.016937</td>\n",
       "      <td>3375000.0</td>\n",
       "    </tr>\n",
       "    <tr>\n",
       "      <th>4</th>\n",
       "      <td>4466</td>\n",
       "      <td>4546</td>\n",
       "      <td>4566.0</td>\n",
       "      <td>4667</td>\n",
       "      <td>rewarded</td>\n",
       "      <td>NaN</td>\n",
       "      <td>NaN</td>\n",
       "      <td>NaN</td>\n",
       "      <td>alone_comp</td>\n",
       "      <td>20240320_142408_alone_comp_subj_3-1_and_3-3.1</td>\n",
       "      <td>...</td>\n",
       "      <td>[0.0016349533, 0.0036012302, 0.0095740575, 0.0...</td>\n",
       "      <td>0.000979</td>\n",
       "      <td>0.022719</td>\n",
       "      <td>[0.0021478166, 0.003128228, 0.01146675, 0.0657...</td>\n",
       "      <td>0.001512</td>\n",
       "      <td>0.027959</td>\n",
       "      <td>[0.0042967293, 0.010051728, 0.017485294, 0.032...</td>\n",
       "      <td>0.001223</td>\n",
       "      <td>0.032853</td>\n",
       "      <td>4575000.0</td>\n",
       "    </tr>\n",
       "    <tr>\n",
       "      <th>...</th>\n",
       "      <td>...</td>\n",
       "      <td>...</td>\n",
       "      <td>...</td>\n",
       "      <td>...</td>\n",
       "      <td>...</td>\n",
       "      <td>...</td>\n",
       "      <td>...</td>\n",
       "      <td>...</td>\n",
       "      <td>...</td>\n",
       "      <td>...</td>\n",
       "      <td>...</td>\n",
       "      <td>...</td>\n",
       "      <td>...</td>\n",
       "      <td>...</td>\n",
       "      <td>...</td>\n",
       "      <td>...</td>\n",
       "      <td>...</td>\n",
       "      <td>...</td>\n",
       "      <td>...</td>\n",
       "      <td>...</td>\n",
       "      <td>...</td>\n",
       "    </tr>\n",
       "    <tr>\n",
       "      <th>1140</th>\n",
       "      <td>51909</td>\n",
       "      <td>51989</td>\n",
       "      <td>52009.0</td>\n",
       "      <td>52108</td>\n",
       "      <td>5.3</td>\n",
       "      <td>competitive</td>\n",
       "      <td>51972.0</td>\n",
       "      <td>52121.0</td>\n",
       "      <td>long_comp</td>\n",
       "      <td>20240321_114851_long_comp_subj_5-2_and_5-3.1</td>\n",
       "      <td>...</td>\n",
       "      <td>[0.004207005, 0.0077516674, 0.01251897, 0.0180...</td>\n",
       "      <td>0.000579</td>\n",
       "      <td>0.028071</td>\n",
       "      <td>[0.004610344, 0.015953934, 0.024447136, 0.0374...</td>\n",
       "      <td>0.001104</td>\n",
       "      <td>0.024817</td>\n",
       "      <td>[0.0067934217, 0.01163643, 0.02410892, 0.03277...</td>\n",
       "      <td>0.001404</td>\n",
       "      <td>0.035511</td>\n",
       "      <td>52105000.0</td>\n",
       "    </tr>\n",
       "    <tr>\n",
       "      <th>1141</th>\n",
       "      <td>54104</td>\n",
       "      <td>54184</td>\n",
       "      <td>54204.0</td>\n",
       "      <td>54304</td>\n",
       "      <td>5.3</td>\n",
       "      <td>competitive</td>\n",
       "      <td>54157.0</td>\n",
       "      <td>54286.0</td>\n",
       "      <td>long_comp</td>\n",
       "      <td>20240321_114851_long_comp_subj_5-2_and_5-3.1</td>\n",
       "      <td>...</td>\n",
       "      <td>[0.0036288055, 0.0050950367, 0.009662012, 0.01...</td>\n",
       "      <td>0.000923</td>\n",
       "      <td>0.040684</td>\n",
       "      <td>[0.008815157, 0.009853998, 0.020196836, 0.0313...</td>\n",
       "      <td>0.001266</td>\n",
       "      <td>0.031718</td>\n",
       "      <td>[0.0020238676, 0.006515126, 0.010959141, 0.014...</td>\n",
       "      <td>0.000342</td>\n",
       "      <td>0.009998</td>\n",
       "      <td>54305625.0</td>\n",
       "    </tr>\n",
       "    <tr>\n",
       "      <th>1141</th>\n",
       "      <td>54104</td>\n",
       "      <td>54184</td>\n",
       "      <td>54204.0</td>\n",
       "      <td>54304</td>\n",
       "      <td>5.3</td>\n",
       "      <td>competitive</td>\n",
       "      <td>54157.0</td>\n",
       "      <td>54286.0</td>\n",
       "      <td>long_comp</td>\n",
       "      <td>20240321_114851_long_comp_subj_5-2_and_5-3.1</td>\n",
       "      <td>...</td>\n",
       "      <td>[0.0014525481, 0.002863473, 0.0052275616, 0.00...</td>\n",
       "      <td>0.000686</td>\n",
       "      <td>0.042990</td>\n",
       "      <td>[0.003098718, 0.0067935954, 0.0114538, 0.01399...</td>\n",
       "      <td>0.001092</td>\n",
       "      <td>0.021805</td>\n",
       "      <td>[0.00067201443, 0.0017552056, 0.0036737695, 0....</td>\n",
       "      <td>0.000392</td>\n",
       "      <td>0.004664</td>\n",
       "      <td>54330000.0</td>\n",
       "    </tr>\n",
       "    <tr>\n",
       "      <th>1142</th>\n",
       "      <td>54104</td>\n",
       "      <td>54184</td>\n",
       "      <td>54204.0</td>\n",
       "      <td>54304</td>\n",
       "      <td>5.3</td>\n",
       "      <td>competitive</td>\n",
       "      <td>54157.0</td>\n",
       "      <td>54286.0</td>\n",
       "      <td>long_comp</td>\n",
       "      <td>20240321_114851_long_comp_subj_5-2_and_5-3.1</td>\n",
       "      <td>...</td>\n",
       "      <td>[0.012545282, 0.017102132, 0.025579067, 0.0332...</td>\n",
       "      <td>0.000704</td>\n",
       "      <td>0.040226</td>\n",
       "      <td>[0.010377309, 0.018746542, 0.0281478, 0.039952...</td>\n",
       "      <td>0.001007</td>\n",
       "      <td>0.027576</td>\n",
       "      <td>[0.006619641, 0.012975378, 0.023850061, 0.0314...</td>\n",
       "      <td>0.001043</td>\n",
       "      <td>0.031816</td>\n",
       "      <td>54305625.0</td>\n",
       "    </tr>\n",
       "    <tr>\n",
       "      <th>1142</th>\n",
       "      <td>54104</td>\n",
       "      <td>54184</td>\n",
       "      <td>54204.0</td>\n",
       "      <td>54304</td>\n",
       "      <td>5.3</td>\n",
       "      <td>competitive</td>\n",
       "      <td>54157.0</td>\n",
       "      <td>54286.0</td>\n",
       "      <td>long_comp</td>\n",
       "      <td>20240321_114851_long_comp_subj_5-2_and_5-3.1</td>\n",
       "      <td>...</td>\n",
       "      <td>[0.004353631, 0.015085765, 0.017355325, 0.0178...</td>\n",
       "      <td>0.000556</td>\n",
       "      <td>0.042650</td>\n",
       "      <td>[0.006583869, 0.035041187, 0.042203482, 0.0455...</td>\n",
       "      <td>0.000941</td>\n",
       "      <td>0.032013</td>\n",
       "      <td>[0.02560789, 0.023611903, 0.036057677, 0.03514...</td>\n",
       "      <td>0.001756</td>\n",
       "      <td>0.034622</td>\n",
       "      <td>54330000.0</td>\n",
       "    </tr>\n",
       "  </tbody>\n",
       "</table>\n",
       "<p>1255 rows × 468 columns</p>\n",
       "</div>"
      ],
      "text/plain": [
       "      tone_start_frame  reward_start  reward_dispensed  tone_stop_frame  \\\n",
       "0                 1272          1352            1372.0             1471   \n",
       "1                 1272          1352            1372.0             1471   \n",
       "2                 3268          3348            3368.0             3469   \n",
       "3                 3268          3348            3368.0             3469   \n",
       "4                 4466          4546            4566.0             4667   \n",
       "...                ...           ...               ...              ...   \n",
       "1140             51909         51989           52009.0            52108   \n",
       "1141             54104         54184           54204.0            54304   \n",
       "1141             54104         54184           54204.0            54304   \n",
       "1142             54104         54184           54204.0            54304   \n",
       "1142             54104         54184           54204.0            54304   \n",
       "\n",
       "     condition competition_closeness  get_reward_frame  out_reward_frame  \\\n",
       "0     rewarded                   NaN               NaN               NaN   \n",
       "1     rewarded                   NaN               NaN               NaN   \n",
       "2     rewarded                   NaN               NaN               NaN   \n",
       "3     rewarded                   NaN               NaN               NaN   \n",
       "4     rewarded                   NaN               NaN               NaN   \n",
       "...        ...                   ...               ...               ...   \n",
       "1140       5.3           competitive           51972.0           52121.0   \n",
       "1141       5.3           competitive           54157.0           54286.0   \n",
       "1141       5.3           competitive           54157.0           54286.0   \n",
       "1142       5.3           competitive           54157.0           54286.0   \n",
       "1142       5.3           competitive           54157.0           54286.0   \n",
       "\n",
       "      experiment                                     video_name  ...  \\\n",
       "0     alone_comp  20240320_142408_alone_comp_subj_3-1_and_3-3.1  ...   \n",
       "1     alone_comp  20240320_142408_alone_comp_subj_3-1_and_3-3.1  ...   \n",
       "2     alone_comp  20240320_142408_alone_comp_subj_3-1_and_3-3.1  ...   \n",
       "3     alone_comp  20240320_142408_alone_comp_subj_3-1_and_3-3.1  ...   \n",
       "4     alone_comp  20240320_142408_alone_comp_subj_3-1_and_3-3.1  ...   \n",
       "...          ...                                            ...  ...   \n",
       "1140   long_comp   20240321_114851_long_comp_subj_5-2_and_5-3.1  ...   \n",
       "1141   long_comp   20240321_114851_long_comp_subj_5-2_and_5-3.1  ...   \n",
       "1141   long_comp   20240321_114851_long_comp_subj_5-2_and_5-3.1  ...   \n",
       "1142   long_comp   20240321_114851_long_comp_subj_5-2_and_5-3.1  ...   \n",
       "1142   long_comp   20240321_114851_long_comp_subj_5-2_and_5-3.1  ...   \n",
       "\n",
       "      cluster_mean_trial_MD_power_all_frequencies_all_windows  \\\n",
       "0     [0.0026486786, 0.005430412, 0.0132795125, 0.02...         \n",
       "1     [0.0013180817, 0.0019057549, 0.0038911868, 0.0...         \n",
       "2     [0.001690788, 0.0043548183, 0.019096818, 0.038...         \n",
       "3     [0.0013261967, 0.00161965, 0.00448946, 0.00852...         \n",
       "4     [0.0016349533, 0.0036012302, 0.0095740575, 0.0...         \n",
       "...                                                 ...         \n",
       "1140  [0.004207005, 0.0077516674, 0.01251897, 0.0180...         \n",
       "1141  [0.0036288055, 0.0050950367, 0.009662012, 0.01...         \n",
       "1141  [0.0014525481, 0.002863473, 0.0052275616, 0.00...         \n",
       "1142  [0.012545282, 0.017102132, 0.025579067, 0.0332...         \n",
       "1142  [0.004353631, 0.015085765, 0.017355325, 0.0178...         \n",
       "\n",
       "      cluster_mean_trial_MD_power_gamma cluster_mean_trial_MD_power_theta  \\\n",
       "0                              0.000995                          0.022309   \n",
       "1                              0.000861                          0.011037   \n",
       "2                              0.001067                          0.023897   \n",
       "3                              0.000872                          0.009743   \n",
       "4                              0.000979                          0.022719   \n",
       "...                                 ...                               ...   \n",
       "1140                           0.000579                          0.028071   \n",
       "1141                           0.000923                          0.040684   \n",
       "1141                           0.000686                          0.042990   \n",
       "1142                           0.000704                          0.040226   \n",
       "1142                           0.000556                          0.042650   \n",
       "\n",
       "     cluster_mean_trial_mPFC_power_all_frequencies_all_windows  \\\n",
       "0     [0.002943836, 0.0073701115, 0.020628551, 0.036...          \n",
       "1     [0.0025098089, 0.004177024, 0.0070650093, 0.01...          \n",
       "2     [0.002300576, 0.005869463, 0.024728615, 0.0556...          \n",
       "3     [0.0018210271, 0.0033454504, 0.009506376, 0.02...          \n",
       "4     [0.0021478166, 0.003128228, 0.01146675, 0.0657...          \n",
       "...                                                 ...          \n",
       "1140  [0.004610344, 0.015953934, 0.024447136, 0.0374...          \n",
       "1141  [0.008815157, 0.009853998, 0.020196836, 0.0313...          \n",
       "1141  [0.003098718, 0.0067935954, 0.0114538, 0.01399...          \n",
       "1142  [0.010377309, 0.018746542, 0.0281478, 0.039952...          \n",
       "1142  [0.006583869, 0.035041187, 0.042203482, 0.0455...          \n",
       "\n",
       "     cluster_mean_trial_mPFC_power_gamma cluster_mean_trial_mPFC_power_theta  \\\n",
       "0                               0.001533                            0.019509   \n",
       "1                               0.000968                            0.015476   \n",
       "2                               0.001711                            0.024114   \n",
       "3                               0.001049                            0.014004   \n",
       "4                               0.001512                            0.027959   \n",
       "...                                  ...                                 ...   \n",
       "1140                            0.001104                            0.024817   \n",
       "1141                            0.001266                            0.031718   \n",
       "1141                            0.001092                            0.021805   \n",
       "1142                            0.001007                            0.027576   \n",
       "1142                            0.000941                            0.032013   \n",
       "\n",
       "     cluster_mean_trial_vHPC_power_all_frequencies_all_windows  \\\n",
       "0     [0.002921776, 0.005711304, 0.010609054, 0.0225...          \n",
       "1     [0.004501448, 0.0047970195, 0.010342834, 0.012...          \n",
       "2     [0.0025493593, 0.008762072, 0.020663612, 0.032...          \n",
       "3     [0.0023885863, 0.0030379929, 0.0071357437, 0.0...          \n",
       "4     [0.0042967293, 0.010051728, 0.017485294, 0.032...          \n",
       "...                                                 ...          \n",
       "1140  [0.0067934217, 0.01163643, 0.02410892, 0.03277...          \n",
       "1141  [0.0020238676, 0.006515126, 0.010959141, 0.014...          \n",
       "1141  [0.00067201443, 0.0017552056, 0.0036737695, 0....          \n",
       "1142  [0.006619641, 0.012975378, 0.023850061, 0.0314...          \n",
       "1142  [0.02560789, 0.023611903, 0.036057677, 0.03514...          \n",
       "\n",
       "     cluster_mean_trial_vHPC_power_gamma cluster_mean_trial_vHPC_power_theta  \\\n",
       "0                               0.001448                            0.032650   \n",
       "1                               0.001023                            0.018229   \n",
       "2                               0.001143                            0.026148   \n",
       "3                               0.001021                            0.016937   \n",
       "4                               0.001223                            0.032853   \n",
       "...                                  ...                                 ...   \n",
       "1140                            0.001404                            0.035511   \n",
       "1141                            0.000342                            0.009998   \n",
       "1141                            0.000392                            0.004664   \n",
       "1142                            0.001043                            0.031816   \n",
       "1142                            0.001756                            0.034622   \n",
       "\n",
       "     cluster_mean_trial_power_timestamps  \n",
       "0                              1375000.0  \n",
       "1                              1375000.0  \n",
       "2                              3375000.0  \n",
       "3                              3375000.0  \n",
       "4                              4575000.0  \n",
       "...                                  ...  \n",
       "1140                          52105000.0  \n",
       "1141                          54305625.0  \n",
       "1141                          54330000.0  \n",
       "1142                          54305625.0  \n",
       "1142                          54330000.0  \n",
       "\n",
       "[1255 rows x 468 columns]"
      ]
     },
     "execution_count": 94,
     "metadata": {},
     "output_type": "execute_result"
    }
   ],
   "source": [
    "cluster_exploded_TRIALS_AND_SPECTRAL_DF"
   ]
  },
  {
   "cell_type": "code",
   "execution_count": 154,
   "metadata": {},
   "outputs": [
    {
     "name": "stdout",
     "output_type": "stream",
     "text": [
      "cluster_mean_trial_BLA_LH_coherence_all_frequencies_all_windows\n",
      "lose_competitive\n",
      "(233, 56)\n",
      "[0.01439096 0.01131856 0.01306493 0.01390598 0.01495486 0.01437282\n",
      " 0.01556308 0.01516076 0.01438967 0.01413965 0.01406912 0.01492712\n",
      " 0.01470091 0.01490179 0.01507224 0.01561937 0.01463207 0.0148599\n",
      " 0.01484671 0.01423065 0.01399591 0.01298372 0.01323095 0.01368035\n",
      " 0.01356758 0.0136803  0.01364718 0.01437537 0.01439926 0.01470955\n",
      " 0.01492701 0.0142993  0.01437058 0.01456209 0.01421787 0.01460984\n",
      " 0.01441149 0.01525194 0.01474636 0.01526522 0.01592738 0.01544184\n",
      " 0.01536626 0.0148496  0.01481179 0.01506546 0.01504549 0.0154501\n",
      " 0.01505107 0.01505659 0.01524632]\n",
      "lose_no_comp\n",
      "(203, 56)\n",
      "[0.01810474 0.01427354 0.01552143 0.01685139 0.01737604 0.01636448\n",
      " 0.01696904 0.01703679 0.01581193 0.01500971 0.01483936 0.01771763\n",
      " 0.01791004 0.01712048 0.01790031 0.01757069 0.0176194  0.01762718\n",
      " 0.01642085 0.01628009 0.01667154 0.01561014 0.01510207 0.01552156\n",
      " 0.01565827 0.01631031 0.01583289 0.01607941 0.01621184 0.01646734\n",
      " 0.01590824 0.01665499 0.01640032 0.01639163 0.01684299 0.01609756\n",
      " 0.01740757 0.01714061 0.01753965 0.01660449 0.01651678 0.0171653\n",
      " 0.01696821 0.01665659 0.01608926 0.01653302 0.01743105 0.01804367\n",
      " 0.01737996 0.01712106 0.01783419]\n",
      "rewarded\n",
      "(252, 56)\n",
      "[0.0100585  0.00842266 0.00934749 0.01095524 0.01208545 0.01220581\n",
      " 0.01199716 0.01142043 0.01044249 0.0104332  0.01088454 0.01083094\n",
      " 0.01080019 0.01094797 0.01021328 0.01073695 0.01065344 0.01070802\n",
      " 0.01108313 0.01054024 0.01023932 0.01036095 0.01065914 0.01053033\n",
      " 0.01066749 0.01070957 0.01137717 0.01096555 0.01099244 0.01105494\n",
      " 0.01052953 0.01083487 0.01119247 0.01131385 0.01107886 0.01116804\n",
      " 0.01100858 0.01150936 0.01143708 0.01108797 0.0115043  0.01151353\n",
      " 0.01085377 0.01086758 0.01126428 0.01131075 0.011318   0.01111441\n",
      " 0.01097062 0.01122617 0.01144323]\n",
      "win_competitive\n",
      "(296, 56)\n",
      "[0.01069724 0.00848739 0.00908917 0.01068609 0.01074985 0.01129923\n",
      " 0.01074909 0.0100515  0.00999185 0.01022234 0.01014698 0.00952756\n",
      " 0.00986459 0.01017462 0.01002814 0.01040859 0.00971364 0.00962757\n",
      " 0.01021144 0.01021956 0.00987183 0.01039064 0.01020635 0.00993457\n",
      " 0.01030151 0.0098731  0.00959691 0.00962672 0.01018829 0.01023481\n",
      " 0.00985223 0.00999775 0.01022254 0.00997094 0.0093922  0.00941809\n",
      " 0.00947366 0.00913035 0.00977655 0.00971695 0.00991274 0.01022318\n",
      " 0.01006529 0.01082129 0.01035984 0.01000769 0.00979255 0.01003936\n",
      " 0.01028582 0.00971934 0.0099806 ]\n",
      "win_no_comp\n",
      "(271, 56)\n",
      "[0.01216998 0.00911318 0.0104269  0.01089173 0.01149052 0.01220897\n",
      " 0.01155734 0.01112202 0.01138162 0.01087183 0.01090669 0.01046654\n",
      " 0.01102204 0.01070164 0.01058337 0.00998917 0.01049152 0.01045203\n",
      " 0.01051942 0.01007297 0.01094706 0.01069951 0.01096035 0.01038258\n",
      " 0.01090185 0.01104061 0.01123491 0.01040766 0.01104243 0.01064349\n",
      " 0.01030885 0.01077683 0.01035965 0.01042286 0.01007012 0.01043698\n",
      " 0.00994272 0.01027465 0.01007401 0.01059758 0.01057763 0.01102586\n",
      " 0.01028148 0.0103783  0.01019709 0.01077434 0.01124799 0.01097912\n",
      " 0.01098591 0.01030542 0.01065836]\n"
     ]
    },
    {
     "data": {
      "image/png": "[encoded data removed]",
      "text/plain": [
       "<Figure size 640x480 with 1 Axes>"
      ]
     },
     "metadata": {},
     "output_type": "display_data"
    },
    {
     "name": "stdout",
     "output_type": "stream",
     "text": [
      "cluster_mean_trial_BLA_MD_coherence_all_frequencies_all_windows\n"
     ]
    }
   ],
   "source": [
    "low_freq = 0\n",
    "high_freq = 51\n",
    "current_frequencies = range(low_freq, high_freq)\n",
    "\n",
    "# Iterating through each brain region\n",
    "for col in cluster_mean_columns:\n",
    "    if \"all_frequencies\" not in col:\n",
    "        continue\n",
    "    print(col)\n",
    "\n",
    "    fig, ax = plt.subplots()\n",
    "    plt.xlim(low_freq, high_freq-1) \n",
    "    plt.xticks(np.arange(low_freq, high_freq-1, 5))\n",
    "\n",
    "    stacked_df = cluster_exploded_TRIALS_AND_SPECTRAL_DF.groupby(\"trial_and_competitiveness_label\").agg({col: stack_arrays})\n",
    "    stacked_df = stacked_df.reset_index()\n",
    "    stacked_df = stacked_df[~stacked_df[\"trial_and_competitiveness_label\"].str.contains(\"tie\")]\n",
    "\n",
    "    stacked_df[\"color\"] = stacked_df[\"trial_and_competitiveness_label\"].map(comp_id_to_color)\n",
    "    \n",
    "    if \"power\" in col:\n",
    "        # plt.ylim(0,0.01)\n",
    "        # plt.yscale(\"log\")\n",
    "        plt.ylim((10**-3.2,10**-1.2))\n",
    "        # plt.set_ylim(auto=True)\n",
    "        # plt.ylim(0, 0.5)\n",
    "        ax.set_yscale('log')\n",
    "        # plt.ylim(0, max_value)\n",
    "        \n",
    "    else:\n",
    "        # pass\n",
    "        plt.ylim(0, 1)\n",
    "    \n",
    "    # Iterating through each trial type\n",
    "    for index, row in stacked_df.iterrows():\n",
    "        print(row[\"trial_and_competitiveness_label\"])\n",
    "        print(row[col].shape)\n",
    "        #### DURING TRIAL ####\n",
    "        mean_power = np.nanmean(row[col], axis=0)[low_freq: high_freq]\n",
    "        \n",
    "        sem_power = np.nanstd(row[col], axis=0) / np.sqrt(row[col].shape[0])\n",
    "        sem_power = sem_power[low_freq: high_freq]\n",
    "        print(sem_power)\n",
    "\n",
    "        plt.fill_between(current_frequencies, \n",
    "        mean_power - sem_power, mean_power + sem_power, \\\n",
    "        alpha=0.3, color=row[\"color\"])\n",
    "\n",
    "        plt.plot(current_frequencies, mean_power, \\\n",
    "        label=\"{}\".format(row[\"trial_and_competitiveness_label\"]), linewidth=3, color=row[\"color\"])\n",
    "    \n",
    "    if \"granger\" in col:\n",
    "        title = \"{}\".format(col.replace(\"cluster_mean_trial_\", \"\").replace(\"cluster_mean_trial_and_post_\", \"\").replace(\"RMS_filtered_\", \"\").replace(\"all_frequencies_all_windows\", \"\").replace(\"power\", \"\").replace(\"granger\", \"\")).replace(\"coherence\", \"\").replace(\"_\", \" \").replace(\"  \", \" \").strip().replace(\" \", \" to \").strip()\n",
    "    else:\n",
    "        title = \"{}\".format(col.replace(\"cluster_mean_trial_\", \"\").replace(\"cluster_mean_trial_and_post_\", \"\").replace(\"RMS_filtered_\", \"\").replace(\"all_frequencies_all_windows\", \"\").replace(\"power\", \"\").replace(\"granger\", \"\")).replace(\"coherence\", \"\").replace(\"_\", \" \").replace(\"  \", \" \").strip()\n",
    "\n",
    "    plt.title(title)\n",
    "    plt.xlabel(\"Frequency (Hz)\")\n",
    "    \n",
    "    if \"power\" in col:\n",
    "        # plt.ylabel(\"Normalized Power (a.u.)\")\n",
    "        output_dir = \"./proc/cluster_spectra_plots/power\"\n",
    "\n",
    "    elif \"coherence\" in col:\n",
    "        # plt.ylabel(\"Coherence\")\n",
    "        output_dir = \"./proc/cluster_spectra_plots/coherence\"\n",
    "\n",
    "    elif \"granger\" in col:\n",
    "        # plt.ylabel(\"Granger's Causality\")\n",
    "        output_dir = \"./proc/cluster_spectra_plots/granger\"\n",
    "    \n",
    "    os.makedirs(output_dir, exist_ok=True)\n",
    "\n",
    "    # plt.legend(fontsize=10)\n",
    "\n",
    "    # Hide top and right borders\n",
    "    ax.spines['top'].set_visible(False)\n",
    "    ax.spines['right'].set_visible(False)\n",
    "\n",
    "    # Leave bottom and left spines\n",
    "    ax.spines['bottom'].set_visible(True)\n",
    "    ax.spines['left'].set_visible(True)\n",
    "    ax.spines['bottom'].set_linewidth(2)\n",
    "    ax.spines['left'].set_linewidth(2)\n",
    "\n",
    "    plt.tight_layout()    \n",
    "    plt.savefig(os.path.join(output_dir, \"cluster_{}.png\".format(col.replace(\"cluster_mean_trial_and_post_\", \"\").replace(\"RMS_filtered_\", \"\").replace(\"all_frequencies_all_windows\", \"\").strip(\"_\").strip())), transparent=True)\n",
    "    plt.show()\n"
   ]
  },
  {
   "cell_type": "code",
   "execution_count": 96,
   "metadata": {},
   "outputs": [],
   "source": [
    "cluster_exploded_TRIALS_AND_SPECTRAL_DF.to_pickle(\"./proc/cluster_exploded_TRIALS_AND_SPECTRAL_DF.pkl\")"
   ]
  },
  {
   "cell_type": "code",
   "execution_count": 97,
   "metadata": {},
   "outputs": [],
   "source": [
    "export_cluster_exploded_TRIALS_AND_SPECTRAL_DF = cluster_exploded_TRIALS_AND_SPECTRAL_DF.copy()"
   ]
  },
  {
   "cell_type": "code",
   "execution_count": 98,
   "metadata": {},
   "outputs": [
    {
     "data": {
      "text/plain": [
       "Index(['tone_start_frame', 'reward_start', 'reward_dispensed',\n",
       "       'tone_stop_frame', 'condition', 'competition_closeness',\n",
       "       'get_reward_frame', 'out_reward_frame', 'experiment', 'video_name',\n",
       "       ...\n",
       "       'cluster_mean_trial_MD_power_all_frequencies_all_windows',\n",
       "       'cluster_mean_trial_MD_power_gamma',\n",
       "       'cluster_mean_trial_MD_power_theta',\n",
       "       'cluster_mean_trial_mPFC_power_all_frequencies_all_windows',\n",
       "       'cluster_mean_trial_mPFC_power_gamma',\n",
       "       'cluster_mean_trial_mPFC_power_theta',\n",
       "       'cluster_mean_trial_vHPC_power_all_frequencies_all_windows',\n",
       "       'cluster_mean_trial_vHPC_power_gamma',\n",
       "       'cluster_mean_trial_vHPC_power_theta',\n",
       "       'cluster_mean_trial_power_timestamps'],\n",
       "      dtype='object', length=468)"
      ]
     },
     "execution_count": 98,
     "metadata": {},
     "output_type": "execute_result"
    }
   ],
   "source": [
    "export_cluster_exploded_TRIALS_AND_SPECTRAL_DF.columns"
   ]
  },
  {
   "cell_type": "code",
   "execution_count": 99,
   "metadata": {},
   "outputs": [
    {
     "data": {
      "text/html": [
       "<div>\n",
       "<style scoped>\n",
       "    .dataframe tbody tr th:only-of-type {\n",
       "        vertical-align: middle;\n",
       "    }\n",
       "\n",
       "    .dataframe tbody tr th {\n",
       "        vertical-align: top;\n",
       "    }\n",
       "\n",
       "    .dataframe thead th {\n",
       "        text-align: right;\n",
       "    }\n",
       "</style>\n",
       "<table border=\"1\" class=\"dataframe\">\n",
       "  <thead>\n",
       "    <tr style=\"text-align: right;\">\n",
       "      <th></th>\n",
       "      <th>tone_start_frame</th>\n",
       "      <th>reward_start</th>\n",
       "      <th>reward_dispensed</th>\n",
       "      <th>tone_stop_frame</th>\n",
       "      <th>condition</th>\n",
       "      <th>competition_closeness</th>\n",
       "      <th>get_reward_frame</th>\n",
       "      <th>out_reward_frame</th>\n",
       "      <th>experiment</th>\n",
       "      <th>video_name</th>\n",
       "      <th>...</th>\n",
       "      <th>cluster_mean_trial_MD_power_all_frequencies_all_windows</th>\n",
       "      <th>cluster_mean_trial_MD_power_gamma</th>\n",
       "      <th>cluster_mean_trial_MD_power_theta</th>\n",
       "      <th>cluster_mean_trial_mPFC_power_all_frequencies_all_windows</th>\n",
       "      <th>cluster_mean_trial_mPFC_power_gamma</th>\n",
       "      <th>cluster_mean_trial_mPFC_power_theta</th>\n",
       "      <th>cluster_mean_trial_vHPC_power_all_frequencies_all_windows</th>\n",
       "      <th>cluster_mean_trial_vHPC_power_gamma</th>\n",
       "      <th>cluster_mean_trial_vHPC_power_theta</th>\n",
       "      <th>cluster_mean_trial_power_timestamps</th>\n",
       "    </tr>\n",
       "  </thead>\n",
       "  <tbody>\n",
       "    <tr>\n",
       "      <th>0</th>\n",
       "      <td>1272</td>\n",
       "      <td>1352</td>\n",
       "      <td>1372.0</td>\n",
       "      <td>1471</td>\n",
       "      <td>rewarded</td>\n",
       "      <td>NaN</td>\n",
       "      <td>NaN</td>\n",
       "      <td>NaN</td>\n",
       "      <td>alone_comp</td>\n",
       "      <td>20240320_142408_alone_comp_subj_3-1_and_3-3.1</td>\n",
       "      <td>...</td>\n",
       "      <td>[0.0026486786, 0.005430412, 0.0132795125, 0.02...</td>\n",
       "      <td>0.000995</td>\n",
       "      <td>0.022309</td>\n",
       "      <td>[0.002943836, 0.0073701115, 0.020628551, 0.036...</td>\n",
       "      <td>0.001533</td>\n",
       "      <td>0.019509</td>\n",
       "      <td>[0.002921776, 0.005711304, 0.010609054, 0.0225...</td>\n",
       "      <td>0.001448</td>\n",
       "      <td>0.032650</td>\n",
       "      <td>1375000.0</td>\n",
       "    </tr>\n",
       "    <tr>\n",
       "      <th>1</th>\n",
       "      <td>1272</td>\n",
       "      <td>1352</td>\n",
       "      <td>1372.0</td>\n",
       "      <td>1471</td>\n",
       "      <td>rewarded</td>\n",
       "      <td>NaN</td>\n",
       "      <td>NaN</td>\n",
       "      <td>NaN</td>\n",
       "      <td>alone_comp</td>\n",
       "      <td>20240320_142408_alone_comp_subj_3-1_and_3-3.1</td>\n",
       "      <td>...</td>\n",
       "      <td>[0.0013180817, 0.0019057549, 0.0038911868, 0.0...</td>\n",
       "      <td>0.000861</td>\n",
       "      <td>0.011037</td>\n",
       "      <td>[0.0025098089, 0.004177024, 0.0070650093, 0.01...</td>\n",
       "      <td>0.000968</td>\n",
       "      <td>0.015476</td>\n",
       "      <td>[0.004501448, 0.0047970195, 0.010342834, 0.012...</td>\n",
       "      <td>0.001023</td>\n",
       "      <td>0.018229</td>\n",
       "      <td>1375000.0</td>\n",
       "    </tr>\n",
       "    <tr>\n",
       "      <th>2</th>\n",
       "      <td>3268</td>\n",
       "      <td>3348</td>\n",
       "      <td>3368.0</td>\n",
       "      <td>3469</td>\n",
       "      <td>rewarded</td>\n",
       "      <td>NaN</td>\n",
       "      <td>NaN</td>\n",
       "      <td>NaN</td>\n",
       "      <td>alone_comp</td>\n",
       "      <td>20240320_142408_alone_comp_subj_3-1_and_3-3.1</td>\n",
       "      <td>...</td>\n",
       "      <td>[0.001690788, 0.0043548183, 0.019096818, 0.038...</td>\n",
       "      <td>0.001067</td>\n",
       "      <td>0.023897</td>\n",
       "      <td>[0.002300576, 0.005869463, 0.024728615, 0.0556...</td>\n",
       "      <td>0.001711</td>\n",
       "      <td>0.024114</td>\n",
       "      <td>[0.0025493593, 0.008762072, 0.020663612, 0.032...</td>\n",
       "      <td>0.001143</td>\n",
       "      <td>0.026148</td>\n",
       "      <td>3375000.0</td>\n",
       "    </tr>\n",
       "    <tr>\n",
       "      <th>3</th>\n",
       "      <td>3268</td>\n",
       "      <td>3348</td>\n",
       "      <td>3368.0</td>\n",
       "      <td>3469</td>\n",
       "      <td>rewarded</td>\n",
       "      <td>NaN</td>\n",
       "      <td>NaN</td>\n",
       "      <td>NaN</td>\n",
       "      <td>alone_comp</td>\n",
       "      <td>20240320_142408_alone_comp_subj_3-1_and_3-3.1</td>\n",
       "      <td>...</td>\n",
       "      <td>[0.0013261967, 0.00161965, 0.00448946, 0.00852...</td>\n",
       "      <td>0.000872</td>\n",
       "      <td>0.009743</td>\n",
       "      <td>[0.0018210271, 0.0033454504, 0.009506376, 0.02...</td>\n",
       "      <td>0.001049</td>\n",
       "      <td>0.014004</td>\n",
       "      <td>[0.0023885863, 0.0030379929, 0.0071357437, 0.0...</td>\n",
       "      <td>0.001021</td>\n",
       "      <td>0.016937</td>\n",
       "      <td>3375000.0</td>\n",
       "    </tr>\n",
       "    <tr>\n",
       "      <th>4</th>\n",
       "      <td>4466</td>\n",
       "      <td>4546</td>\n",
       "      <td>4566.0</td>\n",
       "      <td>4667</td>\n",
       "      <td>rewarded</td>\n",
       "      <td>NaN</td>\n",
       "      <td>NaN</td>\n",
       "      <td>NaN</td>\n",
       "      <td>alone_comp</td>\n",
       "      <td>20240320_142408_alone_comp_subj_3-1_and_3-3.1</td>\n",
       "      <td>...</td>\n",
       "      <td>[0.0016349533, 0.0036012302, 0.0095740575, 0.0...</td>\n",
       "      <td>0.000979</td>\n",
       "      <td>0.022719</td>\n",
       "      <td>[0.0021478166, 0.003128228, 0.01146675, 0.0657...</td>\n",
       "      <td>0.001512</td>\n",
       "      <td>0.027959</td>\n",
       "      <td>[0.0042967293, 0.010051728, 0.017485294, 0.032...</td>\n",
       "      <td>0.001223</td>\n",
       "      <td>0.032853</td>\n",
       "      <td>4575000.0</td>\n",
       "    </tr>\n",
       "    <tr>\n",
       "      <th>...</th>\n",
       "      <td>...</td>\n",
       "      <td>...</td>\n",
       "      <td>...</td>\n",
       "      <td>...</td>\n",
       "      <td>...</td>\n",
       "      <td>...</td>\n",
       "      <td>...</td>\n",
       "      <td>...</td>\n",
       "      <td>...</td>\n",
       "      <td>...</td>\n",
       "      <td>...</td>\n",
       "      <td>...</td>\n",
       "      <td>...</td>\n",
       "      <td>...</td>\n",
       "      <td>...</td>\n",
       "      <td>...</td>\n",
       "      <td>...</td>\n",
       "      <td>...</td>\n",
       "      <td>...</td>\n",
       "      <td>...</td>\n",
       "      <td>...</td>\n",
       "    </tr>\n",
       "    <tr>\n",
       "      <th>1140</th>\n",
       "      <td>51909</td>\n",
       "      <td>51989</td>\n",
       "      <td>52009.0</td>\n",
       "      <td>52108</td>\n",
       "      <td>5.3</td>\n",
       "      <td>competitive</td>\n",
       "      <td>51972.0</td>\n",
       "      <td>52121.0</td>\n",
       "      <td>long_comp</td>\n",
       "      <td>20240321_114851_long_comp_subj_5-2_and_5-3.1</td>\n",
       "      <td>...</td>\n",
       "      <td>[0.004207005, 0.0077516674, 0.01251897, 0.0180...</td>\n",
       "      <td>0.000579</td>\n",
       "      <td>0.028071</td>\n",
       "      <td>[0.004610344, 0.015953934, 0.024447136, 0.0374...</td>\n",
       "      <td>0.001104</td>\n",
       "      <td>0.024817</td>\n",
       "      <td>[0.0067934217, 0.01163643, 0.02410892, 0.03277...</td>\n",
       "      <td>0.001404</td>\n",
       "      <td>0.035511</td>\n",
       "      <td>52105000.0</td>\n",
       "    </tr>\n",
       "    <tr>\n",
       "      <th>1141</th>\n",
       "      <td>54104</td>\n",
       "      <td>54184</td>\n",
       "      <td>54204.0</td>\n",
       "      <td>54304</td>\n",
       "      <td>5.3</td>\n",
       "      <td>competitive</td>\n",
       "      <td>54157.0</td>\n",
       "      <td>54286.0</td>\n",
       "      <td>long_comp</td>\n",
       "      <td>20240321_114851_long_comp_subj_5-2_and_5-3.1</td>\n",
       "      <td>...</td>\n",
       "      <td>[0.0036288055, 0.0050950367, 0.009662012, 0.01...</td>\n",
       "      <td>0.000923</td>\n",
       "      <td>0.040684</td>\n",
       "      <td>[0.008815157, 0.009853998, 0.020196836, 0.0313...</td>\n",
       "      <td>0.001266</td>\n",
       "      <td>0.031718</td>\n",
       "      <td>[0.0020238676, 0.006515126, 0.010959141, 0.014...</td>\n",
       "      <td>0.000342</td>\n",
       "      <td>0.009998</td>\n",
       "      <td>54305625.0</td>\n",
       "    </tr>\n",
       "    <tr>\n",
       "      <th>1141</th>\n",
       "      <td>54104</td>\n",
       "      <td>54184</td>\n",
       "      <td>54204.0</td>\n",
       "      <td>54304</td>\n",
       "      <td>5.3</td>\n",
       "      <td>competitive</td>\n",
       "      <td>54157.0</td>\n",
       "      <td>54286.0</td>\n",
       "      <td>long_comp</td>\n",
       "      <td>20240321_114851_long_comp_subj_5-2_and_5-3.1</td>\n",
       "      <td>...</td>\n",
       "      <td>[0.0014525481, 0.002863473, 0.0052275616, 0.00...</td>\n",
       "      <td>0.000686</td>\n",
       "      <td>0.042990</td>\n",
       "      <td>[0.003098718, 0.0067935954, 0.0114538, 0.01399...</td>\n",
       "      <td>0.001092</td>\n",
       "      <td>0.021805</td>\n",
       "      <td>[0.00067201443, 0.0017552056, 0.0036737695, 0....</td>\n",
       "      <td>0.000392</td>\n",
       "      <td>0.004664</td>\n",
       "      <td>54330000.0</td>\n",
       "    </tr>\n",
       "    <tr>\n",
       "      <th>1142</th>\n",
       "      <td>54104</td>\n",
       "      <td>54184</td>\n",
       "      <td>54204.0</td>\n",
       "      <td>54304</td>\n",
       "      <td>5.3</td>\n",
       "      <td>competitive</td>\n",
       "      <td>54157.0</td>\n",
       "      <td>54286.0</td>\n",
       "      <td>long_comp</td>\n",
       "      <td>20240321_114851_long_comp_subj_5-2_and_5-3.1</td>\n",
       "      <td>...</td>\n",
       "      <td>[0.012545282, 0.017102132, 0.025579067, 0.0332...</td>\n",
       "      <td>0.000704</td>\n",
       "      <td>0.040226</td>\n",
       "      <td>[0.010377309, 0.018746542, 0.0281478, 0.039952...</td>\n",
       "      <td>0.001007</td>\n",
       "      <td>0.027576</td>\n",
       "      <td>[0.006619641, 0.012975378, 0.023850061, 0.0314...</td>\n",
       "      <td>0.001043</td>\n",
       "      <td>0.031816</td>\n",
       "      <td>54305625.0</td>\n",
       "    </tr>\n",
       "    <tr>\n",
       "      <th>1142</th>\n",
       "      <td>54104</td>\n",
       "      <td>54184</td>\n",
       "      <td>54204.0</td>\n",
       "      <td>54304</td>\n",
       "      <td>5.3</td>\n",
       "      <td>competitive</td>\n",
       "      <td>54157.0</td>\n",
       "      <td>54286.0</td>\n",
       "      <td>long_comp</td>\n",
       "      <td>20240321_114851_long_comp_subj_5-2_and_5-3.1</td>\n",
       "      <td>...</td>\n",
       "      <td>[0.004353631, 0.015085765, 0.017355325, 0.0178...</td>\n",
       "      <td>0.000556</td>\n",
       "      <td>0.042650</td>\n",
       "      <td>[0.006583869, 0.035041187, 0.042203482, 0.0455...</td>\n",
       "      <td>0.000941</td>\n",
       "      <td>0.032013</td>\n",
       "      <td>[0.02560789, 0.023611903, 0.036057677, 0.03514...</td>\n",
       "      <td>0.001756</td>\n",
       "      <td>0.034622</td>\n",
       "      <td>54330000.0</td>\n",
       "    </tr>\n",
       "  </tbody>\n",
       "</table>\n",
       "<p>1255 rows × 468 columns</p>\n",
       "</div>"
      ],
      "text/plain": [
       "      tone_start_frame  reward_start  reward_dispensed  tone_stop_frame  \\\n",
       "0                 1272          1352            1372.0             1471   \n",
       "1                 1272          1352            1372.0             1471   \n",
       "2                 3268          3348            3368.0             3469   \n",
       "3                 3268          3348            3368.0             3469   \n",
       "4                 4466          4546            4566.0             4667   \n",
       "...                ...           ...               ...              ...   \n",
       "1140             51909         51989           52009.0            52108   \n",
       "1141             54104         54184           54204.0            54304   \n",
       "1141             54104         54184           54204.0            54304   \n",
       "1142             54104         54184           54204.0            54304   \n",
       "1142             54104         54184           54204.0            54304   \n",
       "\n",
       "     condition competition_closeness  get_reward_frame  out_reward_frame  \\\n",
       "0     rewarded                   NaN               NaN               NaN   \n",
       "1     rewarded                   NaN               NaN               NaN   \n",
       "2     rewarded                   NaN               NaN               NaN   \n",
       "3     rewarded                   NaN               NaN               NaN   \n",
       "4     rewarded                   NaN               NaN               NaN   \n",
       "...        ...                   ...               ...               ...   \n",
       "1140       5.3           competitive           51972.0           52121.0   \n",
       "1141       5.3           competitive           54157.0           54286.0   \n",
       "1141       5.3           competitive           54157.0           54286.0   \n",
       "1142       5.3           competitive           54157.0           54286.0   \n",
       "1142       5.3           competitive           54157.0           54286.0   \n",
       "\n",
       "      experiment                                     video_name  ...  \\\n",
       "0     alone_comp  20240320_142408_alone_comp_subj_3-1_and_3-3.1  ...   \n",
       "1     alone_comp  20240320_142408_alone_comp_subj_3-1_and_3-3.1  ...   \n",
       "2     alone_comp  20240320_142408_alone_comp_subj_3-1_and_3-3.1  ...   \n",
       "3     alone_comp  20240320_142408_alone_comp_subj_3-1_and_3-3.1  ...   \n",
       "4     alone_comp  20240320_142408_alone_comp_subj_3-1_and_3-3.1  ...   \n",
       "...          ...                                            ...  ...   \n",
       "1140   long_comp   20240321_114851_long_comp_subj_5-2_and_5-3.1  ...   \n",
       "1141   long_comp   20240321_114851_long_comp_subj_5-2_and_5-3.1  ...   \n",
       "1141   long_comp   20240321_114851_long_comp_subj_5-2_and_5-3.1  ...   \n",
       "1142   long_comp   20240321_114851_long_comp_subj_5-2_and_5-3.1  ...   \n",
       "1142   long_comp   20240321_114851_long_comp_subj_5-2_and_5-3.1  ...   \n",
       "\n",
       "      cluster_mean_trial_MD_power_all_frequencies_all_windows  \\\n",
       "0     [0.0026486786, 0.005430412, 0.0132795125, 0.02...         \n",
       "1     [0.0013180817, 0.0019057549, 0.0038911868, 0.0...         \n",
       "2     [0.001690788, 0.0043548183, 0.019096818, 0.038...         \n",
       "3     [0.0013261967, 0.00161965, 0.00448946, 0.00852...         \n",
       "4     [0.0016349533, 0.0036012302, 0.0095740575, 0.0...         \n",
       "...                                                 ...         \n",
       "1140  [0.004207005, 0.0077516674, 0.01251897, 0.0180...         \n",
       "1141  [0.0036288055, 0.0050950367, 0.009662012, 0.01...         \n",
       "1141  [0.0014525481, 0.002863473, 0.0052275616, 0.00...         \n",
       "1142  [0.012545282, 0.017102132, 0.025579067, 0.0332...         \n",
       "1142  [0.004353631, 0.015085765, 0.017355325, 0.0178...         \n",
       "\n",
       "      cluster_mean_trial_MD_power_gamma cluster_mean_trial_MD_power_theta  \\\n",
       "0                              0.000995                          0.022309   \n",
       "1                              0.000861                          0.011037   \n",
       "2                              0.001067                          0.023897   \n",
       "3                              0.000872                          0.009743   \n",
       "4                              0.000979                          0.022719   \n",
       "...                                 ...                               ...   \n",
       "1140                           0.000579                          0.028071   \n",
       "1141                           0.000923                          0.040684   \n",
       "1141                           0.000686                          0.042990   \n",
       "1142                           0.000704                          0.040226   \n",
       "1142                           0.000556                          0.042650   \n",
       "\n",
       "     cluster_mean_trial_mPFC_power_all_frequencies_all_windows  \\\n",
       "0     [0.002943836, 0.0073701115, 0.020628551, 0.036...          \n",
       "1     [0.0025098089, 0.004177024, 0.0070650093, 0.01...          \n",
       "2     [0.002300576, 0.005869463, 0.024728615, 0.0556...          \n",
       "3     [0.0018210271, 0.0033454504, 0.009506376, 0.02...          \n",
       "4     [0.0021478166, 0.003128228, 0.01146675, 0.0657...          \n",
       "...                                                 ...          \n",
       "1140  [0.004610344, 0.015953934, 0.024447136, 0.0374...          \n",
       "1141  [0.008815157, 0.009853998, 0.020196836, 0.0313...          \n",
       "1141  [0.003098718, 0.0067935954, 0.0114538, 0.01399...          \n",
       "1142  [0.010377309, 0.018746542, 0.0281478, 0.039952...          \n",
       "1142  [0.006583869, 0.035041187, 0.042203482, 0.0455...          \n",
       "\n",
       "     cluster_mean_trial_mPFC_power_gamma cluster_mean_trial_mPFC_power_theta  \\\n",
       "0                               0.001533                            0.019509   \n",
       "1                               0.000968                            0.015476   \n",
       "2                               0.001711                            0.024114   \n",
       "3                               0.001049                            0.014004   \n",
       "4                               0.001512                            0.027959   \n",
       "...                                  ...                                 ...   \n",
       "1140                            0.001104                            0.024817   \n",
       "1141                            0.001266                            0.031718   \n",
       "1141                            0.001092                            0.021805   \n",
       "1142                            0.001007                            0.027576   \n",
       "1142                            0.000941                            0.032013   \n",
       "\n",
       "     cluster_mean_trial_vHPC_power_all_frequencies_all_windows  \\\n",
       "0     [0.002921776, 0.005711304, 0.010609054, 0.0225...          \n",
       "1     [0.004501448, 0.0047970195, 0.010342834, 0.012...          \n",
       "2     [0.0025493593, 0.008762072, 0.020663612, 0.032...          \n",
       "3     [0.0023885863, 0.0030379929, 0.0071357437, 0.0...          \n",
       "4     [0.0042967293, 0.010051728, 0.017485294, 0.032...          \n",
       "...                                                 ...          \n",
       "1140  [0.0067934217, 0.01163643, 0.02410892, 0.03277...          \n",
       "1141  [0.0020238676, 0.006515126, 0.010959141, 0.014...          \n",
       "1141  [0.00067201443, 0.0017552056, 0.0036737695, 0....          \n",
       "1142  [0.006619641, 0.012975378, 0.023850061, 0.0314...          \n",
       "1142  [0.02560789, 0.023611903, 0.036057677, 0.03514...          \n",
       "\n",
       "     cluster_mean_trial_vHPC_power_gamma cluster_mean_trial_vHPC_power_theta  \\\n",
       "0                               0.001448                            0.032650   \n",
       "1                               0.001023                            0.018229   \n",
       "2                               0.001143                            0.026148   \n",
       "3                               0.001021                            0.016937   \n",
       "4                               0.001223                            0.032853   \n",
       "...                                  ...                                 ...   \n",
       "1140                            0.001404                            0.035511   \n",
       "1141                            0.000342                            0.009998   \n",
       "1141                            0.000392                            0.004664   \n",
       "1142                            0.001043                            0.031816   \n",
       "1142                            0.001756                            0.034622   \n",
       "\n",
       "     cluster_mean_trial_power_timestamps  \n",
       "0                              1375000.0  \n",
       "1                              1375000.0  \n",
       "2                              3375000.0  \n",
       "3                              3375000.0  \n",
       "4                              4575000.0  \n",
       "...                                  ...  \n",
       "1140                          52105000.0  \n",
       "1141                          54305625.0  \n",
       "1141                          54330000.0  \n",
       "1142                          54305625.0  \n",
       "1142                          54330000.0  \n",
       "\n",
       "[1255 rows x 468 columns]"
      ]
     },
     "execution_count": 99,
     "metadata": {},
     "output_type": "execute_result"
    }
   ],
   "source": [
    "export_cluster_exploded_TRIALS_AND_SPECTRAL_DF"
   ]
  },
  {
   "cell_type": "code",
   "execution_count": 100,
   "metadata": {},
   "outputs": [
    {
     "name": "stdout",
     "output_type": "stream",
     "text": [
      "cluster_mean_trial_BLA_LH_coherence_all_frequencies_all_windows\n",
      "lose_competitive\n",
      "(233, 56)\n",
      "lose_no_comp\n",
      "(203, 56)\n",
      "rewarded\n",
      "(252, 56)\n",
      "win_competitive\n",
      "(296, 56)\n",
      "win_no_comp\n",
      "(271, 56)\n"
     ]
    },
    {
     "data": {
      "image/png": "[encoded data removed]",
      "text/plain": [
       "<Figure size 640x480 with 1 Axes>"
      ]
     },
     "metadata": {},
     "output_type": "display_data"
    }
   ],
   "source": [
    "low_freq = 0\n",
    "high_freq = 51\n",
    "current_frequencies = range(low_freq, high_freq)\n",
    "\n",
    "# Iterating through each brain region\n",
    "for col in cluster_mean_columns:\n",
    "    if \"all_frequencies\" not in col:\n",
    "        continue\n",
    "    print(col)\n",
    "\n",
    "    fig, ax = plt.subplots()\n",
    "    plt.xlim(low_freq, high_freq-1) \n",
    "    plt.xticks(np.arange(low_freq, high_freq-1, 5))\n",
    "\n",
    "    stacked_df = cluster_exploded_TRIALS_AND_SPECTRAL_DF.groupby(\"trial_and_competitiveness_label\").agg({col: stack_arrays})\n",
    "    stacked_df = stacked_df.reset_index()\n",
    "    stacked_df = stacked_df[~stacked_df[\"trial_and_competitiveness_label\"].str.contains(\"tie\")]\n",
    "\n",
    "    stacked_df[\"color\"] = stacked_df[\"trial_and_competitiveness_label\"].map(comp_id_to_color)\n",
    "    \n",
    "    if \"power\" in col:\n",
    "        # plt.ylim(0,0.01)\n",
    "        # plt.yscale(\"log\")\n",
    "        # plt.ylim((10**-3.5,10**-0.5))\n",
    "        # plt.set_ylim(auto=True)\n",
    "        plt.ylim()\n",
    "        ax.set_yscale('log')\n",
    "        # plt.ylim(0, max_value)\n",
    "        \n",
    "    else:\n",
    "        # pass\n",
    "        plt.ylim(0, 1)\n",
    "    \n",
    "    # Iterating through each trial type\n",
    "    counter = 0\n",
    "    for index, row in stacked_df.iloc[:100].iterrows():\n",
    "        print(row[\"trial_and_competitiveness_label\"])\n",
    "        print(row[col].shape)\n",
    "        for trace in row[col]: \n",
    "            plt.plot(current_frequencies, trace[low_freq: high_freq], color=row[\"color\"], alpha=0.5)\n",
    "            counter += 1\n",
    "            if counter >= 100:\n",
    "                break\n",
    "    \n",
    "    if \"granger\" in col:\n",
    "        title = \"{}\".format(col.replace(\"cluster_mean_trial_\", \"\").replace(\"cluster_mean_trial_and_post_\", \"\").replace(\"RMS_filtered_\", \"\").replace(\"all_frequencies_all_windows\", \"\").replace(\"power\", \"\").replace(\"granger\", \"\")).replace(\"coherence\", \"\").replace(\"_\", \" \").replace(\"  \", \" \").strip().replace(\" \", \" to \").strip()\n",
    "    else:\n",
    "        title = \"{}\".format(col.replace(\"cluster_mean_trial_\", \"\").replace(\"cluster_mean_trial_and_post_\", \"\").replace(\"RMS_filtered_\", \"\").replace(\"all_frequencies_all_windows\", \"\").replace(\"power\", \"\").replace(\"granger\", \"\")).replace(\"coherence\", \"\").replace(\"_\", \" \").replace(\"  \", \" \").strip()\n",
    "\n",
    "    plt.title(title)\n",
    "    plt.xlabel(\"Frequency (Hz)\")\n",
    "    \n",
    "    if \"power\" in col:\n",
    "        # plt.ylabel(\"Normalized Power (a.u.)\")\n",
    "        output_dir = \"./proc/cluster_spectra_plots/power\"\n",
    "\n",
    "    elif \"coherence\" in col:\n",
    "        # plt.ylabel(\"Coherence\")\n",
    "        output_dir = \"./proc/cluster_spectra_plots/coherence\"\n",
    "\n",
    "    elif \"granger\" in col:\n",
    "        # plt.ylabel(\"Granger's Causality\")\n",
    "        output_dir = \"./proc/cluster_spectra_plots/granger\"\n",
    "    \n",
    "    os.makedirs(output_dir, exist_ok=True)\n",
    "\n",
    "    # plt.legend(fontsize=10)\n",
    "\n",
    "    # Hide top and right borders\n",
    "    ax.spines['top'].set_visible(False)\n",
    "    ax.spines['right'].set_visible(False)\n",
    "\n",
    "    # Leave bottom and left spines\n",
    "    ax.spines['bottom'].set_visible(True)\n",
    "    ax.spines['left'].set_visible(True)\n",
    "    ax.spines['bottom'].set_linewidth(2)\n",
    "    ax.spines['left'].set_linewidth(2)\n",
    "\n",
    "    plt.tight_layout()    \n",
    "    plt.show()\n",
    "    break"
   ]
  },
  {
   "cell_type": "code",
   "execution_count": 101,
   "metadata": {},
   "outputs": [],
   "source": [
    "cluster_exploded_TRIALS_AND_SPECTRAL_DF.to_pickle(\"./proc/cluster_exploded_TRIALS_AND_SPECTRAL_DF.pkl\")"
   ]
  },
  {
   "cell_type": "markdown",
   "metadata": {},
   "source": [
    "# Plotting averages"
   ]
  },
  {
   "cell_type": "code",
   "execution_count": 102,
   "metadata": {},
   "outputs": [],
   "source": [
    "GROUPING = \"trial_and_competitiveness_label\""
   ]
  },
  {
   "cell_type": "code",
   "execution_count": 103,
   "metadata": {},
   "outputs": [],
   "source": [
    "theta_gamma_mean_columns = [col for col in cluster_exploded_TRIALS_AND_SPECTRAL_DF if \"cluster_mean\" in col and \"all_frequencies_all_windows\" not in col and (\"gamma\" in col or \"theta\" in col)]"
   ]
  },
  {
   "cell_type": "code",
   "execution_count": 104,
   "metadata": {},
   "outputs": [
    {
     "data": {
      "text/plain": [
       "['cluster_mean_trial_BLA_LH_coherence_gamma',\n",
       " 'cluster_mean_trial_BLA_LH_coherence_theta',\n",
       " 'cluster_mean_trial_BLA_MD_coherence_gamma',\n",
       " 'cluster_mean_trial_BLA_MD_coherence_theta',\n",
       " 'cluster_mean_trial_BLA_mPFC_coherence_gamma',\n",
       " 'cluster_mean_trial_BLA_mPFC_coherence_theta',\n",
       " 'cluster_mean_trial_BLA_vHPC_coherence_gamma',\n",
       " 'cluster_mean_trial_BLA_vHPC_coherence_theta',\n",
       " 'cluster_mean_trial_LH_MD_coherence_gamma',\n",
       " 'cluster_mean_trial_LH_MD_coherence_theta',\n",
       " 'cluster_mean_trial_LH_mPFC_coherence_gamma',\n",
       " 'cluster_mean_trial_LH_mPFC_coherence_theta',\n",
       " 'cluster_mean_trial_LH_vHPC_coherence_gamma',\n",
       " 'cluster_mean_trial_LH_vHPC_coherence_theta',\n",
       " 'cluster_mean_trial_MD_mPFC_coherence_gamma',\n",
       " 'cluster_mean_trial_MD_mPFC_coherence_theta',\n",
       " 'cluster_mean_trial_MD_vHPC_coherence_gamma',\n",
       " 'cluster_mean_trial_MD_vHPC_coherence_theta',\n",
       " 'cluster_mean_trial_mPFC_vHPC_coherence_gamma',\n",
       " 'cluster_mean_trial_mPFC_vHPC_coherence_theta',\n",
       " 'cluster_mean_trial_BLA-to-LH_granger_gamma',\n",
       " 'cluster_mean_trial_BLA-to-LH_granger_theta',\n",
       " 'cluster_mean_trial_BLA-to-MD_granger_gamma',\n",
       " 'cluster_mean_trial_BLA-to-MD_granger_theta',\n",
       " 'cluster_mean_trial_BLA-to-mPFC_granger_gamma',\n",
       " 'cluster_mean_trial_BLA-to-mPFC_granger_theta',\n",
       " 'cluster_mean_trial_BLA-to-vHPC_granger_gamma',\n",
       " 'cluster_mean_trial_BLA-to-vHPC_granger_theta',\n",
       " 'cluster_mean_trial_LH-to-BLA_granger_gamma',\n",
       " 'cluster_mean_trial_LH-to-BLA_granger_theta',\n",
       " 'cluster_mean_trial_LH-to-MD_granger_gamma',\n",
       " 'cluster_mean_trial_LH-to-MD_granger_theta',\n",
       " 'cluster_mean_trial_LH-to-mPFC_granger_gamma',\n",
       " 'cluster_mean_trial_LH-to-mPFC_granger_theta',\n",
       " 'cluster_mean_trial_LH-to-vHPC_granger_gamma',\n",
       " 'cluster_mean_trial_LH-to-vHPC_granger_theta',\n",
       " 'cluster_mean_trial_MD-to-BLA_granger_gamma',\n",
       " 'cluster_mean_trial_MD-to-BLA_granger_theta',\n",
       " 'cluster_mean_trial_MD-to-LH_granger_gamma',\n",
       " 'cluster_mean_trial_MD-to-LH_granger_theta',\n",
       " 'cluster_mean_trial_MD-to-mPFC_granger_gamma',\n",
       " 'cluster_mean_trial_MD-to-mPFC_granger_theta',\n",
       " 'cluster_mean_trial_MD-to-vHPC_granger_gamma',\n",
       " 'cluster_mean_trial_MD-to-vHPC_granger_theta',\n",
       " 'cluster_mean_trial_mPFC-to-BLA_granger_gamma',\n",
       " 'cluster_mean_trial_mPFC-to-BLA_granger_theta',\n",
       " 'cluster_mean_trial_mPFC-to-LH_granger_gamma',\n",
       " 'cluster_mean_trial_mPFC-to-LH_granger_theta',\n",
       " 'cluster_mean_trial_mPFC-to-MD_granger_gamma',\n",
       " 'cluster_mean_trial_mPFC-to-MD_granger_theta',\n",
       " 'cluster_mean_trial_mPFC-to-vHPC_granger_gamma',\n",
       " 'cluster_mean_trial_mPFC-to-vHPC_granger_theta',\n",
       " 'cluster_mean_trial_vHPC-to-BLA_granger_gamma',\n",
       " 'cluster_mean_trial_vHPC-to-BLA_granger_theta',\n",
       " 'cluster_mean_trial_vHPC-to-LH_granger_gamma',\n",
       " 'cluster_mean_trial_vHPC-to-LH_granger_theta',\n",
       " 'cluster_mean_trial_vHPC-to-MD_granger_gamma',\n",
       " 'cluster_mean_trial_vHPC-to-MD_granger_theta',\n",
       " 'cluster_mean_trial_vHPC-to-mPFC_granger_gamma',\n",
       " 'cluster_mean_trial_vHPC-to-mPFC_granger_theta',\n",
       " 'cluster_mean_trial_BLA_power_gamma',\n",
       " 'cluster_mean_trial_BLA_power_theta',\n",
       " 'cluster_mean_trial_LH_power_gamma',\n",
       " 'cluster_mean_trial_LH_power_theta',\n",
       " 'cluster_mean_trial_MD_power_gamma',\n",
       " 'cluster_mean_trial_MD_power_theta',\n",
       " 'cluster_mean_trial_mPFC_power_gamma',\n",
       " 'cluster_mean_trial_mPFC_power_theta',\n",
       " 'cluster_mean_trial_vHPC_power_gamma',\n",
       " 'cluster_mean_trial_vHPC_power_theta']"
      ]
     },
     "execution_count": 104,
     "metadata": {},
     "output_type": "execute_result"
    }
   ],
   "source": [
    "theta_gamma_mean_columns"
   ]
  },
  {
   "cell_type": "code",
   "execution_count": 105,
   "metadata": {},
   "outputs": [
    {
     "data": {
      "text/plain": [
       "'cluster_mean_trial_BLA_LH_coherence_all_frequencies_all_windows'"
      ]
     },
     "execution_count": 105,
     "metadata": {},
     "output_type": "execute_result"
    }
   ],
   "source": [
    "col"
   ]
  },
  {
   "cell_type": "code",
   "execution_count": 107,
   "metadata": {},
   "outputs": [],
   "source": [
    "# for col in theta_gamma_mean_columns:\n",
    "#     fig, ax = plt.subplots()\n",
    "#     mean_df = pd.DataFrame(cluster_exploded_TRIALS_AND_SPECTRAL_DF[[GROUPING, col]].groupby(GROUPING).mean()[col]).rename(columns={col: \"mean\"})\n",
    "#     sem_df = pd.DataFrame(cluster_exploded_TRIALS_AND_SPECTRAL_DF[[GROUPING, col]].groupby(GROUPING).agg(\"sem\")[col]).rename(columns={col: \"sem\"})\n",
    "#     merged_df = pd.merge(mean_df, sem_df, on=GROUPING).reset_index().sort_values([GROUPING])\n",
    "#     merged_df[\"measurement\"] = col\n",
    "#     for index, row in merged_df.iterrows():\n",
    "#         if \"tie\" in row[GROUPING]:\n",
    "#             continue\n",
    "#         plt.bar(\"\\n\".join(row[GROUPING].split(\"_\")).replace(\"competitive\", \"comp\"), row[\"mean\"], color=comp_id_to_color[row[GROUPING]])\n",
    "#         plt.errorbar(\"\\n\".join(row[GROUPING].split(\"_\")).replace(\"competitive\", \"comp\"), row[\"mean\"], yerr=row[\"sem\"], capsize=20, ecolor = \"black\")\n",
    "\n",
    "#     ax.tick_params(axis='x', rotation=90)\n",
    "#     brain_region = col.replace(\"cluster_mean_trial_\", \"\").replace(\"cluster_mean_trial_and_post\", \"\").replace(\"coherence\", \"\").replace(\"granger\", \"\").replace(\"power\", \"\").replace(\"__\", \"_\").replace(\"_\", \" \").strip()\n",
    "#     plt.title(brain_region.replace(\"gamma\", \"\").replace(\"theta\", \"\").strip())\n",
    "    \n",
    "#     if \"power\" in col:\n",
    "#         plt.ylim()\n",
    "#     else:\n",
    "#         plt.ylim(0, 0.8)\n",
    "\n",
    "\n",
    "#     plt.tight_layout()\n",
    "#     # plt.savefig(\"./proc/cluster_average_spectra/{}_averages.png\".format(col.replace(\"cluster_mean_trial_\", \"\")))\n",
    "#     plt.close()\n",
    "#     # plt.show()\n",
    "#     # for group in cluster_exploded_TRIALS_AND_SPECTRAL_DF[GROUPING].unique():\n",
    "#     #     current_df = cluster_exploded_TRIALS_AND_SPECTRAL_DF[cluster_exploded_TRIALS_AND_SPECTRAL_DF[GROUPING] == group]\n",
    "    "
   ]
  },
  {
   "cell_type": "code",
   "execution_count": 108,
   "metadata": {},
   "outputs": [
    {
     "data": {
      "text/plain": [
       "array(['rewarded', 'win_competitive', 'win_no_comp', 'lose_competitive',\n",
       "       'lose_no_comp'], dtype=object)"
      ]
     },
     "execution_count": 108,
     "metadata": {},
     "output_type": "execute_result"
    }
   ],
   "source": [
    "cluster_exploded_TRIALS_AND_SPECTRAL_DF[\"trial_and_competitiveness_label\"].unique()"
   ]
  },
  {
   "cell_type": "code",
   "execution_count": 112,
   "metadata": {},
   "outputs": [],
   "source": [
    "cluster_exploded_TRIALS_AND_SPECTRAL_DF[[\"trial_and_competitiveness_label\", \"current_subject\", \"recording\", \"video_name\"] + theta_gamma_mean_columns].to_excel(\"./proc/competitiveness_trials_and_spectral_mean.xlsx\")"
   ]
  },
  {
   "cell_type": "code",
   "execution_count": 113,
   "metadata": {},
   "outputs": [],
   "source": [
    "cluster_exploded_TRIALS_AND_SPECTRAL_DF[[\"trial_and_competitiveness_label\", \"current_subject\", \"recording\", \"video_name\"] + theta_gamma_mean_columns].to_csv(\"./proc/competitiveness_trials_and_spectral_mean.csv\")"
   ]
  },
  {
   "cell_type": "markdown",
   "metadata": {},
   "source": [
    "# Plotting power bar graphs"
   ]
  },
  {
   "cell_type": "code",
   "execution_count": 116,
   "metadata": {},
   "outputs": [],
   "source": [
    "    x_pos = np.arange(0,1,len(merged_df))"
   ]
  },
  {
   "cell_type": "code",
   "execution_count": 117,
   "metadata": {},
   "outputs": [
    {
     "data": {
      "text/plain": [
       "array([0])"
      ]
     },
     "execution_count": 117,
     "metadata": {},
     "output_type": "execute_result"
    }
   ],
   "source": [
    "x_pos"
   ]
  },
  {
   "cell_type": "code",
   "execution_count": 141,
   "metadata": {},
   "outputs": [],
   "source": [
    "for col in theta_gamma_mean_columns:\n",
    "    if \"power\" not in col:\n",
    "        continue\n",
    "\n",
    "    fig, ax = plt.subplots()\n",
    "    # plt.figure(figsize=(10,6))\n",
    "\n",
    "    mean_df = pd.DataFrame(cluster_exploded_TRIALS_AND_SPECTRAL_DF[[GROUPING, col]].groupby(GROUPING).mean()[col]).rename(columns={col: \"mean\"})\n",
    "    sem_df = pd.DataFrame(cluster_exploded_TRIALS_AND_SPECTRAL_DF[[GROUPING, col]].groupby(GROUPING).agg(\"sem\")[col]).rename(columns={col: \"sem\"})\n",
    "    merged_df = pd.merge(mean_df, sem_df, on=GROUPING).reset_index().sort_values([GROUPING])\n",
    "    merged_df[\"measurement\"] = col\n",
    "    x_pos = np.linspace(0,0.5,len(merged_df)) * 0.9\n",
    "    \n",
    "    for index, row in merged_df.iterrows():\n",
    "\n",
    "        plt.bar(x_pos[index], row[\"mean\"], color=comp_id_to_color[row[GROUPING]], width=0.5/len(merged_df))\n",
    "        plt.errorbar(x_pos[index], row[\"mean\"], yerr=row[\"sem\"], capsize=20, ecolor = \"black\", elinewidth=3, markeredgewidth=3)\n",
    "\n",
    "        # plt.bar(\"\\n\".join(row[GROUPING].split(\"_\")).replace(\"competitive\", \"comp\"), row[\"mean\"], color=comp_id_to_color[row[GROUPING]], width=0.5)\n",
    "        # plt.errorbar(\"\\n\".join(row[GROUPING].split(\"_\")).replace(\"competitive\", \"comp\"), row[\"mean\"], yerr=row[\"sem\"], capsize=20, ecolor = \"black\")\n",
    "\n",
    "    plt.tick_params(\n",
    "        axis='x',          # changes apply to the x-axis\n",
    "        which='both',      # both major and minor ticks are affected\n",
    "        bottom=False,      # ticks along the bottom edge are off\n",
    "        top=False,         # ticks along the top edge are off\n",
    "        labelbottom=False) # labels along the bottom edge are off\n",
    "\n",
    "    ax.tick_params(axis='x', rotation=90)\n",
    "    brain_region = col.replace(\"cluster_mean_trial_\", \"\").replace(\"cluster_mean_trial_and_post\", \"\").replace(\"coherence\", \"\").replace(\"granger\", \"\").replace(\"power\", \"\").replace(\"__\", \"_\").replace(\"_\", \" \").strip()\n",
    "    plt.title(brain_region.replace(\"gamma\", \"\").replace(\"theta\", \"\").strip())\n",
    "    \n",
    "    if \"theta\" in col:\n",
    "        plt.ylim(0, 0.04)\n",
    "    elif \"gamma\" in col:\n",
    "        plt.ylim(0, 0.004)\n",
    "    else:\n",
    "        plt.ylim(0, 0.8)\n",
    "\n",
    "    plt.ticklabel_format(style='sci', axis='y', scilimits=(0,0))\n",
    "\n",
    "    # Hide top and right borders\n",
    "    ax.spines['top'].set_visible(False)\n",
    "    ax.spines['right'].set_visible(False)\n",
    "\n",
    "    # Leave bottom and left spines\n",
    "    ax.spines['bottom'].set_visible(True)\n",
    "    ax.spines['left'].set_visible(True)\n",
    "    ax.spines['bottom'].set_linewidth(2)\n",
    "    ax.spines['left'].set_linewidth(2)\n",
    "\n",
    "    plt.tight_layout()\n",
    "    plt.savefig(\"./proc/cluster_average_spectra/power/{}_averages.png\".format(col.replace(\"cluster_mean_trial_\", \"\")), transparent=True)\n",
    "    plt.close()\n",
    "    # plt.show()\n",
    "    # for group in cluster_exploded_TRIALS_AND_SPECTRAL_DF[GROUPING].unique():\n",
    "    #     current_df = cluster_exploded_TRIALS_AND_SPECTRAL_DF[cluster_exploded_TRIALS_AND_SPECTRAL_DF[GROUPING] == group]\n",
    "    "
   ]
  },
  {
   "cell_type": "code",
   "execution_count": 115,
   "metadata": {},
   "outputs": [
    {
     "data": {
      "text/html": [
       "<div>\n",
       "<style scoped>\n",
       "    .dataframe tbody tr th:only-of-type {\n",
       "        vertical-align: middle;\n",
       "    }\n",
       "\n",
       "    .dataframe tbody tr th {\n",
       "        vertical-align: top;\n",
       "    }\n",
       "\n",
       "    .dataframe thead th {\n",
       "        text-align: right;\n",
       "    }\n",
       "</style>\n",
       "<table border=\"1\" class=\"dataframe\">\n",
       "  <thead>\n",
       "    <tr style=\"text-align: right;\">\n",
       "      <th></th>\n",
       "      <th>trial_and_competitiveness_label</th>\n",
       "      <th>mean</th>\n",
       "      <th>sem</th>\n",
       "      <th>measurement</th>\n",
       "    </tr>\n",
       "  </thead>\n",
       "  <tbody>\n",
       "    <tr>\n",
       "      <th>0</th>\n",
       "      <td>lose_competitive</td>\n",
       "      <td>0.023892</td>\n",
       "      <td>0.000531</td>\n",
       "      <td>cluster_mean_trial_vHPC_power_theta</td>\n",
       "    </tr>\n",
       "    <tr>\n",
       "      <th>1</th>\n",
       "      <td>lose_no_comp</td>\n",
       "      <td>0.026135</td>\n",
       "      <td>0.000598</td>\n",
       "      <td>cluster_mean_trial_vHPC_power_theta</td>\n",
       "    </tr>\n",
       "    <tr>\n",
       "      <th>2</th>\n",
       "      <td>rewarded</td>\n",
       "      <td>0.026597</td>\n",
       "      <td>0.000376</td>\n",
       "      <td>cluster_mean_trial_vHPC_power_theta</td>\n",
       "    </tr>\n",
       "    <tr>\n",
       "      <th>3</th>\n",
       "      <td>win_competitive</td>\n",
       "      <td>0.027206</td>\n",
       "      <td>0.000412</td>\n",
       "      <td>cluster_mean_trial_vHPC_power_theta</td>\n",
       "    </tr>\n",
       "    <tr>\n",
       "      <th>4</th>\n",
       "      <td>win_no_comp</td>\n",
       "      <td>0.028550</td>\n",
       "      <td>0.000426</td>\n",
       "      <td>cluster_mean_trial_vHPC_power_theta</td>\n",
       "    </tr>\n",
       "  </tbody>\n",
       "</table>\n",
       "</div>"
      ],
      "text/plain": [
       "  trial_and_competitiveness_label      mean       sem  \\\n",
       "0                lose_competitive  0.023892  0.000531   \n",
       "1                    lose_no_comp  0.026135  0.000598   \n",
       "2                        rewarded  0.026597  0.000376   \n",
       "3                 win_competitive  0.027206  0.000412   \n",
       "4                     win_no_comp  0.028550  0.000426   \n",
       "\n",
       "                           measurement  \n",
       "0  cluster_mean_trial_vHPC_power_theta  \n",
       "1  cluster_mean_trial_vHPC_power_theta  \n",
       "2  cluster_mean_trial_vHPC_power_theta  \n",
       "3  cluster_mean_trial_vHPC_power_theta  \n",
       "4  cluster_mean_trial_vHPC_power_theta  "
      ]
     },
     "execution_count": 115,
     "metadata": {},
     "output_type": "execute_result"
    }
   ],
   "source": [
    "merged_df"
   ]
  },
  {
   "cell_type": "markdown",
   "metadata": {},
   "source": [
    "# OLD Stuff"
   ]
  },
  {
   "cell_type": "code",
   "execution_count": null,
   "metadata": {},
   "outputs": [],
   "source": [
    "granger_col = [col for col in cluster_exploded_TRIALS_AND_SPECTRAL_DF.columns if (\"theta\" in col or \"gamma\" in col) and \"granger\" in col and \"mean\" in col]"
   ]
  },
  {
   "cell_type": "code",
   "execution_count": null,
   "metadata": {},
   "outputs": [],
   "source": [
    "granger_col"
   ]
  },
  {
   "cell_type": "code",
   "execution_count": null,
   "metadata": {},
   "outputs": [],
   "source": [
    "for col in granger_col:\n",
    "    fig, ax = plt.subplots()\n",
    "    mean_df = pd.DataFrame(cluster_exploded_TRIALS_AND_SPECTRAL_DF[[GROUPING, col]].groupby(GROUPING).mean()[col]).rename(columns={col: \"mean\"})\n",
    "    sem_df = pd.DataFrame(cluster_exploded_TRIALS_AND_SPECTRAL_DF[[GROUPING, col]].groupby(GROUPING).agg(\"sem\")[col]).rename(columns={col: \"sem\"})\n",
    "    merged_df = pd.merge(mean_df, sem_df, on=GROUPING).reset_index().sort_values([GROUPING])\n",
    "    merged_df[\"measurement\"] = col\n",
    "    for index, row in merged_df.iterrows():\n",
    "        plt.bar(\"\\n\".join(row[GROUPING].split(\"_\")).replace(\"competitive\", \"comp\"), row[\"mean\"], color=comp_id_to_color[row[GROUPING]])\n",
    "        plt.errorbar(\"\\n\".join(row[GROUPING].split(\"_\")).replace(\"competitive\", \"comp\"), row[\"mean\"], yerr=row[\"sem\"], capsize=20, ecolor = \"black\")\n",
    "\n",
    "    ax.tick_params(axis='x', rotation=90)\n",
    "    brain_region = col.replace(\"cluster_mean_trial_and_post\", \"\").replace(\"coherence\", \"\").replace(\"__\", \"_\").replace(\"_\", \" \").strip()\n",
    "    plt.title(brain_region.replace(\"gamma\", \"\").replace(\"theta\", \"\").strip())\n",
    "    plt.ylim(0, 0.6)\n",
    "    plt.tight_layout()\n",
    "    plt.savefig(\"./proc/cluster_spectra_plots/mean_granger/{} granger.png\".format(brain_region))\n",
    "    # for group in cluster_exploded_TRIALS_AND_SPECTRAL_DF[GROUPING].unique():\n",
    "    #     current_df = cluster_exploded_TRIALS_AND_SPECTRAL_DF[cluster_exploded_TRIALS_AND_SPECTRAL_DF[GROUPING] == group]\n",
    "    "
   ]
  },
  {
   "cell_type": "code",
   "execution_count": null,
   "metadata": {},
   "outputs": [],
   "source": [
    "raise ValueError()"
   ]
  },
  {
   "cell_type": "markdown",
   "metadata": {},
   "source": [
    "# LDA"
   ]
  },
  {
   "cell_type": "code",
   "execution_count": null,
   "metadata": {},
   "outputs": [],
   "source": [
    "power_columns = [col for col in TRIALS_AND_SPECTRAL_DF if (\"gamma\" in col or \"theta\" in col) and (\"trial_and_post\" in col or \"cluster\" in col) and \"phase\" not in col and \"band\" not in col or \"cluster_filtered\" in col] "
   ]
  },
  {
   "cell_type": "code",
   "execution_count": null,
   "metadata": {},
   "outputs": [],
   "source": [
    "power_columns"
   ]
  },
  {
   "cell_type": "markdown",
   "metadata": {},
   "source": [
    "- Making a separate row for each cluster"
   ]
  },
  {
   "cell_type": "code",
   "execution_count": null,
   "metadata": {},
   "outputs": [],
   "source": [
    "cluster_exploded_TRIALS_AND_SPECTRAL_DF = TRIALS_AND_SPECTRAL_DF[to_keep_columns + power_columns].explode([\"cluster_filtered_power_timestamps\"])"
   ]
  },
  {
   "cell_type": "code",
   "execution_count": null,
   "metadata": {},
   "outputs": [],
   "source": [
    "cluster_exploded_TRIALS_AND_SPECTRAL_DF[\"cluster_filtered_granger_timestamps\"]"
   ]
  },
  {
   "cell_type": "markdown",
   "metadata": {},
   "source": [
    "- Making independent columns for cluster name and indexes"
   ]
  },
  {
   "cell_type": "code",
   "execution_count": null,
   "metadata": {},
   "outputs": [],
   "source": [
    "cluster_exploded_TRIALS_AND_SPECTRAL_DF[\"power_cluster_id\"] = cluster_exploded_TRIALS_AND_SPECTRAL_DF[\"cluster_filtered_power_timestamps\"].apply(lambda x: x[0])\n",
    "cluster_exploded_TRIALS_AND_SPECTRAL_DF[\"power_cluster_indexes\"] = cluster_exploded_TRIALS_AND_SPECTRAL_DF[\"cluster_filtered_power_timestamps\"].apply(lambda x: x[1])"
   ]
  },
  {
   "cell_type": "code",
   "execution_count": null,
   "metadata": {},
   "outputs": [],
   "source": [
    "cluster_exploded_TRIALS_AND_SPECTRAL_DF"
   ]
  },
  {
   "cell_type": "code",
   "execution_count": null,
   "metadata": {},
   "outputs": [],
   "source": [
    "power_columns = [col for col in cluster_exploded_TRIALS_AND_SPECTRAL_DF if \"granger\" in col and \"trial_and_post\" in col and \"timestamps\" not in col]\n",
    "\n",
    "\n",
    "power_columns = [col for col in TRIALS_AND_SPECTRAL_DF if (\"gamma\" in col or \"theta\" in col) and (\"trial_and_post\" in col or \"cluster\" in col) and \"phase\" not in col and \"band\" not in col] "
   ]
  },
  {
   "cell_type": "code",
   "execution_count": null,
   "metadata": {},
   "outputs": [],
   "source": [
    "power_columns"
   ]
  },
  {
   "cell_type": "markdown",
   "metadata": {},
   "source": [
    "- Getting the timestamps of all the clusters"
   ]
  },
  {
   "cell_type": "code",
   "execution_count": null,
   "metadata": {},
   "outputs": [],
   "source": [
    "for col in power_columns:\n",
    "    print(col)\n",
    "    cluster_exploded_TRIALS_AND_SPECTRAL_DF[\"cluster_all_{}\".format(col)] = cluster_exploded_TRIALS_AND_SPECTRAL_DF.apply(lambda x: x[col][x[\"power_cluster_indexes\"]], axis=1)"
   ]
  },
  {
   "cell_type": "code",
   "execution_count": null,
   "metadata": {},
   "outputs": [],
   "source": [
    "cluster_all_columns = [col for col in cluster_exploded_TRIALS_AND_SPECTRAL_DF if \"cluster_all\" in col]"
   ]
  },
  {
   "cell_type": "code",
   "execution_count": null,
   "metadata": {},
   "outputs": [],
   "source": [
    "cluster_all_columns"
   ]
  },
  {
   "cell_type": "markdown",
   "metadata": {},
   "source": [
    "- Aggregating all the values within a given trial"
   ]
  },
  {
   "cell_type": "code",
   "execution_count": null,
   "metadata": {},
   "outputs": [],
   "source": [
    "for col in cluster_all_columns:\n",
    "    updated_column = col.replace(\"cluster_all\", \"cluster_mean\")\n",
    "    if \"gamma\" in col or \"theta\" in col:\n",
    "        cluster_exploded_TRIALS_AND_SPECTRAL_DF[updated_column] = cluster_exploded_TRIALS_AND_SPECTRAL_DF.apply(lambda x: np.nanmean(x[col]), axis=1)\n",
    "    else:\n",
    "        cluster_exploded_TRIALS_AND_SPECTRAL_DF[updated_column] = cluster_exploded_TRIALS_AND_SPECTRAL_DF.apply(lambda x: np.nanmean(x[col], axis=0), axis=1)\n",
    "    print(updated_column)\n",
    "    print(cluster_exploded_TRIALS_AND_SPECTRAL_DF[updated_column].iloc[0])\n",
    "        "
   ]
  },
  {
   "cell_type": "code",
   "execution_count": null,
   "metadata": {},
   "outputs": [],
   "source": [
    "cluster_mean_columns = [col for col in cluster_exploded_TRIALS_AND_SPECTRAL_DF if \"cluster_mean\" in col]"
   ]
  },
  {
   "cell_type": "code",
   "execution_count": null,
   "metadata": {},
   "outputs": [],
   "source": [
    "cluster_mean_columns = [col for col in cluster_mean_columns if \"mPFC\" in col and \"power\" not in col and \"coherence\" in col]"
   ]
  },
  {
   "cell_type": "code",
   "execution_count": null,
   "metadata": {},
   "outputs": [],
   "source": [
    "cluster_mean_columns"
   ]
  },
  {
   "cell_type": "code",
   "execution_count": null,
   "metadata": {},
   "outputs": [],
   "source": [
    "cluster_exploded_TRIALS_AND_SPECTRAL_DF = cluster_exploded_TRIALS_AND_SPECTRAL_DF[~cluster_exploded_TRIALS_AND_SPECTRAL_DF[\"power_cluster_id\"].str.contains(\"tie\")]"
   ]
  },
  {
   "cell_type": "code",
   "execution_count": null,
   "metadata": {},
   "outputs": [],
   "source": [
    "# cluster_exploded_TRIALS_AND_SPECTRAL_DF = cluster_exploded_TRIALS_AND_SPECTRAL_DF[cluster_exploded_TRIALS_AND_SPECTRAL_DF[\"power_cluster_id\"].isin([\"lose_no_comp\", \"lose_competitive\"])].reset_index(drop=True)"
   ]
  },
  {
   "cell_type": "code",
   "execution_count": null,
   "metadata": {},
   "outputs": [],
   "source": [
    "cluster_exploded_TRIALS_AND_SPECTRAL_DF[\"power_cluster_id\"]"
   ]
  },
  {
   "cell_type": "code",
   "execution_count": null,
   "metadata": {},
   "outputs": [],
   "source": [
    "# GROUPING = \"competition_closeness\"\n",
    "\n",
    "\n",
    "GROUPING = \"trial_label\"\t\n",
    "GROUPING = \"competition_closeness\"\n",
    "GROUPING = \"power_cluster_id\"\n",
    "\n",
    "\n",
    "\n"
   ]
  },
  {
   "cell_type": "code",
   "execution_count": null,
   "metadata": {},
   "outputs": [],
   "source": [
    "cluster_exploded_TRIALS_AND_SPECTRAL_DF[\"factorized_{}\".format(GROUPING)], unique = pd.factorize(cluster_exploded_TRIALS_AND_SPECTRAL_DF[GROUPING])\n"
   ]
  },
  {
   "cell_type": "code",
   "execution_count": null,
   "metadata": {},
   "outputs": [],
   "source": [
    "cluster_exploded_TRIALS_AND_SPECTRAL_DF = cluster_exploded_TRIALS_AND_SPECTRAL_DF.dropna(subset=cluster_mean_columns)"
   ]
  },
  {
   "cell_type": "code",
   "execution_count": null,
   "metadata": {},
   "outputs": [],
   "source": [
    "network_array = cluster_exploded_TRIALS_AND_SPECTRAL_DF[cluster_mean_columns].values"
   ]
  },
  {
   "cell_type": "code",
   "execution_count": null,
   "metadata": {},
   "outputs": [],
   "source": [
    "cluster_exploded_TRIALS_AND_SPECTRAL_DF[GROUPING].unique()"
   ]
  },
  {
   "cell_type": "markdown",
   "metadata": {},
   "source": [
    "# Reducing Dimensions"
   ]
  },
  {
   "cell_type": "code",
   "execution_count": null,
   "metadata": {},
   "outputs": [],
   "source": [
    "network_array"
   ]
  },
  {
   "cell_type": "code",
   "execution_count": null,
   "metadata": {},
   "outputs": [],
   "source": [
    "from sklearn.preprocessing import StandardScaler\n",
    "from sklearn.discriminant_analysis import LinearDiscriminantAnalysis\n",
    "from sklearn.decomposition import PCA\n",
    "from umap import UMAP\n"
   ]
  },
  {
   "cell_type": "code",
   "execution_count": null,
   "metadata": {},
   "outputs": [],
   "source": [
    "scaler = StandardScaler()\n",
    "reduced_dimension_network_array = scaler.fit_transform(network_array)\n",
    "\n",
    "\n",
    "\n"
   ]
  },
  {
   "cell_type": "code",
   "execution_count": null,
   "metadata": {},
   "outputs": [],
   "source": [
    "# lda = LinearDiscriminantAnalysis()\n",
    "# lda = LinearDiscriminantAnalysis(n_components=2)\n",
    "# reduced_dimension_network_array = lda.fit_transform(reduced_dimension_network_array, cluster_exploded_TRIALS_AND_SPECTRAL_DF[GROUPING])\n",
    "# reduced_dimension_network_array = lda.fit_transform(reduced_dimension_network_array)"
   ]
  },
  {
   "cell_type": "code",
   "execution_count": null,
   "metadata": {},
   "outputs": [],
   "source": [
    "# lda = PCA(n_components=2)\n",
    "# reduced_dimension_network_array = lda.fit_transform(reduced_dimension_network_array)"
   ]
  },
  {
   "cell_type": "code",
   "execution_count": null,
   "metadata": {},
   "outputs": [],
   "source": [
    "reduced_dimension_network_array = UMAP(\n",
    "    n_components=2,\n",
    "    random_state=42,\n",
    ").fit_transform(network_array, y=cluster_exploded_TRIALS_AND_SPECTRAL_DF[\"factorized_{}\".format(GROUPING)].values)\n"
   ]
  },
  {
   "cell_type": "code",
   "execution_count": null,
   "metadata": {},
   "outputs": [],
   "source": []
  },
  {
   "cell_type": "code",
   "execution_count": null,
   "metadata": {},
   "outputs": [],
   "source": [
    "reduced_dimension_network_array.shape"
   ]
  },
  {
   "cell_type": "code",
   "execution_count": null,
   "metadata": {},
   "outputs": [],
   "source": [
    "# reduced_dimension_network_array = lda.fit_transform(reduced_dimension_network_array, cluster_exploded_TRIALS_AND_SPECTRAL_DF[GROUPING])\n"
   ]
  },
  {
   "cell_type": "code",
   "execution_count": null,
   "metadata": {},
   "outputs": [],
   "source": []
  },
  {
   "cell_type": "code",
   "execution_count": null,
   "metadata": {},
   "outputs": [],
   "source": []
  },
  {
   "cell_type": "code",
   "execution_count": null,
   "metadata": {},
   "outputs": [],
   "source": [
    "reduced_dimension_network_array.shape"
   ]
  },
  {
   "cell_type": "code",
   "execution_count": null,
   "metadata": {},
   "outputs": [],
   "source": [
    "GROUPING = \"current_subject\"\n",
    "# GROUPING = \"video_name\"\n",
    "# GROUPING = \"power_cluster_id\"\n"
   ]
  },
  {
   "cell_type": "code",
   "execution_count": null,
   "metadata": {},
   "outputs": [],
   "source": [
    "reduced_dimension_network_array"
   ]
  },
  {
   "cell_type": "code",
   "execution_count": null,
   "metadata": {},
   "outputs": [],
   "source": [
    "plt.figure(figsize=(5,5))\n",
    "for group in cluster_exploded_TRIALS_AND_SPECTRAL_DF[GROUPING].unique():\n",
    "    current_df = cluster_exploded_TRIALS_AND_SPECTRAL_DF[cluster_exploded_TRIALS_AND_SPECTRAL_DF[GROUPING] == group]\n",
    "    print(current_df.index)\n",
    "    plot = plt.scatter(reduced_dimension_network_array[current_df.index,0], reduced_dimension_network_array[current_df.index,1], label=group, alpha=0.8)#, c=comp_id_to_color[group], )\n",
    "    \n",
    "plt.title(\"LDA of LFP features\", fontsize=20)\n",
    "plt.xlabel(\"LD1\", fontsize=20)\n",
    "plt.ylabel(\"LD2\", fontsize=20)\n",
    "plt.xticks(fontsize=15)\n",
    "plt.yticks(fontsize=15)\n",
    "# plt.legend()\n",
    "plt.tight_layout()\n",
    "\n",
    "os.makedirs(\"./proc/network\", exist_ok=True)\n",
    "\n",
    "plt.savefig(\"./proc/network/rf_LDA_outcome_labeled.png\")\n",
    "plt.savefig(\"./proc/network/rf_LDA_outcome_labeled.eps\")\n",
    "plt.show()"
   ]
  },
  {
   "cell_type": "code",
   "execution_count": null,
   "metadata": {},
   "outputs": [],
   "source": [
    "plt.figure(figsize=(5,5))\n",
    "for group in cluster_exploded_TRIALS_AND_SPECTRAL_DF[GROUPING].unique():\n",
    "    current_df = cluster_exploded_TRIALS_AND_SPECTRAL_DF[cluster_exploded_TRIALS_AND_SPECTRAL_DF[GROUPING] == group]\n",
    "    print(current_df.index)\n",
    "    plot = plt.hist(reduced_dimension_network_array[current_df.index,0], color=comp_id_to_color[group], label=group, alpha=0.8)\n",
    "    \n",
    "plt.title(\"LDA of LFP features\", fontsize=20)\n",
    "plt.xlabel(\"LD1\", fontsize=20)\n",
    "plt.xticks(fontsize=15)\n",
    "plt.yticks(fontsize=15)\n",
    "# plt.legend()\n",
    "plt.tight_layout()\n",
    "\n",
    "os.makedirs(\"./proc/network\", exist_ok=True)\n",
    "\n",
    "plt.savefig(\"./proc/network/rf_LDA_outcome_labeled.png\")\n",
    "plt.savefig(\"./proc/network/rf_LDA_outcome_labeled.eps\")\n",
    "plt.show()"
   ]
  },
  {
   "cell_type": "code",
   "execution_count": null,
   "metadata": {},
   "outputs": [],
   "source": [
    "raise ValueError()"
   ]
  },
  {
   "cell_type": "code",
   "execution_count": null,
   "metadata": {},
   "outputs": [],
   "source": [
    "plt.figure(figsize=(5,5))\n",
    "for group in cluster_exploded_TRIALS_AND_SPECTRAL_DF[\"current_subject\"].unique():\n",
    "    current_df = cluster_exploded_TRIALS_AND_SPECTRAL_DF[cluster_exploded_TRIALS_AND_SPECTRAL_DF[\"current_subject\"] == group]\n",
    "    \n",
    "    plot = plt.scatter(reduced_dimension_network_array[current_df.index,0], reduced_dimension_network_array[current_df.index,1], label=group)\n",
    "\n",
    "    \n",
    "plt.title(\"LDA of LFP features\", fontsize=20)\n",
    "plt.xlabel(\"LD1\", fontsize=20)\n",
    "plt.ylabel(\"LD2\", fontsize=20)\n",
    "plt.xticks(fontsize=15)\n",
    "plt.yticks(fontsize=15)\n",
    "plt.legend()\n",
    "plt.tight_layout()\n",
    "plt.savefig(\"./proc/network/rf_LDA_subject_labeled.png\")\n",
    "plt.savefig(\"./proc/network/rf_LDA_subject_labeled.eps\")\n",
    "plt.show()"
   ]
  },
  {
   "cell_type": "code",
   "execution_count": null,
   "metadata": {},
   "outputs": [],
   "source": [
    "# Get the coefficients (loadings) of each feature\n",
    "loadings = lda.scalings_\n",
    "\n",
    "# Calculate importance for each feature for each discriminant\n",
    "# The importance is calculated as the square of each coefficient\n",
    "importance = np.square(loadings)\n",
    "\n"
   ]
  },
  {
   "cell_type": "code",
   "execution_count": null,
   "metadata": {},
   "outputs": [],
   "source": [
    "lda_importance = pd.DataFrame(importance)\n",
    "lda_importance[\"feature\"] = feature_columns"
   ]
  },
  {
   "cell_type": "code",
   "execution_count": null,
   "metadata": {},
   "outputs": [],
   "source": [
    "important_features = []"
   ]
  },
  {
   "cell_type": "code",
   "execution_count": null,
   "metadata": {},
   "outputs": [],
   "source": [
    "lda_importance.sort_values(0, ascending=False)"
   ]
  },
  {
   "cell_type": "code",
   "execution_count": null,
   "metadata": {},
   "outputs": [],
   "source": [
    "important_features += lda_importance.sort_values(0, ascending=False).head(n=4)[\"feature\"].to_list()"
   ]
  },
  {
   "cell_type": "code",
   "execution_count": null,
   "metadata": {},
   "outputs": [],
   "source": [
    "important_features += lda_importance.sort_values(1, ascending=False).head(n=4)[\"feature\"].to_list()"
   ]
  },
  {
   "cell_type": "code",
   "execution_count": null,
   "metadata": {},
   "outputs": [],
   "source": [
    "filtered_lda_importance = lda_importance[lda_importance[\"feature\"].isin(important_features)]"
   ]
  },
  {
   "cell_type": "code",
   "execution_count": null,
   "metadata": {},
   "outputs": [],
   "source": [
    "filtered_lda_importance = filtered_lda_importance.sort_values(0, ascending=False)"
   ]
  },
  {
   "cell_type": "code",
   "execution_count": null,
   "metadata": {},
   "outputs": [],
   "source": [
    "filtered_lda_importance[\"feature\"] = filtered_lda_importance[\"feature\"].apply(lambda x: x.replace(\"_band_\", \"\\n\").replace(\"_\", \" \"))"
   ]
  },
  {
   "cell_type": "code",
   "execution_count": null,
   "metadata": {},
   "outputs": [],
   "source": [
    "# Sample data\n",
    "list1 = filtered_lda_importance[0]\n",
    "list2 = filtered_lda_importance[1]\n",
    "indices = range(len(list1))\n",
    "\n",
    "# Creating the plot\n",
    "fig, ax1 = plt.subplots(figsize=(6,6))\n",
    "    # fig, ax = plt.subplots(figsize=(6,6))\n",
    "\n",
    "\n",
    "# Plotting the first list\n",
    "color1 = '#15616F'\n",
    "# FFAF00; teal #15616F\n",
    "ax1.bar(indices, list1, width=0.4, align='center', color=color1)\n",
    "# ax1.set_xlabel('Index')\n",
    "ax1.set_ylabel('LD1 Scalings', color=color1, fontsize=20)\n",
    "ax1.tick_params(axis='y', labelcolor=color1, rotation=90)\n",
    "\n",
    "# Creating a second Y-axis for the second list\n",
    "ax2 = ax1.twinx()  \n",
    "color2 = 'tab:red'\n",
    "ax2.bar([i + 0.4 for i in indices], list2, width=0.4, align='center', color=color2)\n",
    "ax2.set_ylabel('LD2 Scalings', color=color2, fontsize=20)\n",
    "ax2.tick_params(axis='y', labelcolor=color2, rotation=90)\n",
    "\n",
    "# Adjusting the X-axis to show labels correctly\n",
    "ax1.set_xticks(indices, filtered_lda_importance['feature'].values, rotation = 90, fontsize=15)\n",
    "# xticks(indices, filtered_lda_importance['feature'].values, rotation = 90)\n",
    "# plt.xticks(labels=filtered_lda_importance['feature'])\n",
    "\n",
    "plt.title('LDA feature importance', fontsize=20)\n",
    "plt.tight_layout()\n",
    "plt.savefig(\"./proc/network/lda_feature_importance.png\")\n",
    "plt.savefig(\"./proc/network/lda_feature_importance.eps\")\n",
    "\n",
    "plt.show()"
   ]
  },
  {
   "cell_type": "code",
   "execution_count": null,
   "metadata": {},
   "outputs": [],
   "source": []
  },
  {
   "cell_type": "code",
   "execution_count": null,
   "metadata": {},
   "outputs": [],
   "source": []
  },
  {
   "cell_type": "code",
   "execution_count": null,
   "metadata": {},
   "outputs": [],
   "source": [
    "raise ValueError()"
   ]
  },
  {
   "cell_type": "markdown",
   "metadata": {},
   "source": [
    "- Grouping all the rows with the same video and subject together"
   ]
  },
  {
   "cell_type": "code",
   "execution_count": null,
   "metadata": {
    "tags": []
   },
   "outputs": [],
   "source": [
    "list(TRIALS_AND_SPECTRAL_DF.columns)"
   ]
  },
  {
   "cell_type": "code",
   "execution_count": null,
   "metadata": {
    "tags": []
   },
   "outputs": [],
   "source": [
    "explode_columns"
   ]
  },
  {
   "cell_type": "code",
   "execution_count": null,
   "metadata": {
    "tags": []
   },
   "outputs": [],
   "source": [
    "other_explode_columns = [\"tone_stop_frame\",\n",
    "                         \"condition\",\n",
    "                         \"competition_closeness\",\n",
    "                         \"notes\",\n",
    "                         \"10s_before_tone_frame\",\n",
    "                         \"10s_after_tone_frame\",\n",
    "                        'cluster_index_ranges_dict',\n",
    " 'cluster_times',\n",
    " 'cluster_times_ranges_dict',\n",
    " 'cluster_timestamps_ranges_dict',\n",
    " 'trial_cluster_times_ranges_dict',\n",
    " 'trial_cluster_timestamps_ranges_dict']"
   ]
  },
  {
   "cell_type": "code",
   "execution_count": null,
   "metadata": {
    "tags": []
   },
   "outputs": [],
   "source": [
    "filter_columns"
   ]
  },
  {
   "cell_type": "code",
   "execution_count": null,
   "metadata": {
    "tags": []
   },
   "outputs": [],
   "source": [
    "# Define columns to be transformed into numpy arrays\n",
    "\n",
    "\n",
    "# Define aggregation dictionary\n",
    "agg_dict = {col: list for col in explode_columns + other_explode_columns if col not in groupby_columns and col != \"tone_start_frame\"}\n",
    "\n",
    "agg_dict.update({col: 'first' for col in filter_columns + [\"tone_start_frame\"] if col not in groupby_columns and col not in other_explode_columns})\n",
    "\n",
    "# Apply groupby and aggregation\n",
    "video_TRIALS_AND_SPECTRAL_DF = TRIALS_AND_SPECTRAL_DF.groupby([\"video_name\", \"current_subject\"]).agg(agg_dict).reset_index()\n"
   ]
  },
  {
   "cell_type": "code",
   "execution_count": null,
   "metadata": {
    "tags": []
   },
   "outputs": [],
   "source": [
    "video_TRIALS_AND_SPECTRAL_DF.columns"
   ]
  },
  {
   "cell_type": "code",
   "execution_count": null,
   "metadata": {
    "tags": []
   },
   "outputs": [],
   "source": [
    "video_TRIALS_AND_SPECTRAL_DF.head()"
   ]
  },
  {
   "cell_type": "markdown",
   "metadata": {},
   "source": [
    "- Combining all the dictionaries together"
   ]
  },
  {
   "cell_type": "code",
   "execution_count": null,
   "metadata": {},
   "outputs": [],
   "source": []
  },
  {
   "cell_type": "code",
   "execution_count": null,
   "metadata": {
    "tags": []
   },
   "outputs": [],
   "source": [
    "for col in [_ for _ in video_TRIALS_AND_SPECTRAL_DF if \"dict\" in _]:\n",
    "    video_TRIALS_AND_SPECTRAL_DF[col] = video_TRIALS_AND_SPECTRAL_DF[col].apply(lambda x: combine_dicts(x))"
   ]
  },
  {
   "cell_type": "code",
   "execution_count": null,
   "metadata": {
    "tags": []
   },
   "outputs": [],
   "source": [
    "video_TRIALS_AND_SPECTRAL_DF.head()"
   ]
  },
  {
   "cell_type": "code",
   "execution_count": null,
   "metadata": {
    "tags": []
   },
   "outputs": [],
   "source": [
    "video_TRIALS_AND_SPECTRAL_DF.to_pickle(\"./proc/{}_cluster_ranges.pkl\".format(OUTPUT_PREFIX))"
   ]
  },
  {
   "cell_type": "code",
   "execution_count": null,
   "metadata": {},
   "outputs": [],
   "source": []
  },
  {
   "cell_type": "markdown",
   "metadata": {},
   "source": [
    "# Filtering out the SLEAP posed for during trials"
   ]
  },
  {
   "cell_type": "code",
   "execution_count": null,
   "metadata": {},
   "outputs": [],
   "source": [
    "raise ValueError()"
   ]
  },
  {
   "cell_type": "code",
   "execution_count": null,
   "metadata": {},
   "outputs": [],
   "source": [
    "TRIALS_AND_SPECTRAL_DF"
   ]
  },
  {
   "cell_type": "code",
   "execution_count": null,
   "metadata": {},
   "outputs": [],
   "source": []
  },
  {
   "cell_type": "code",
   "execution_count": null,
   "metadata": {},
   "outputs": [],
   "source": []
  },
  {
   "cell_type": "code",
   "execution_count": null,
   "metadata": {},
   "outputs": [],
   "source": []
  },
  {
   "cell_type": "code",
   "execution_count": null,
   "metadata": {},
   "outputs": [],
   "source": []
  },
  {
   "cell_type": "code",
   "execution_count": null,
   "metadata": {},
   "outputs": [],
   "source": []
  },
  {
   "cell_type": "code",
   "execution_count": null,
   "metadata": {
    "tags": []
   },
   "outputs": [],
   "source": [
    "TRIALS_AND_SPECTRAL_DF[\"video_frame\"] = TRIALS_AND_SPECTRAL_DF[\"video_timestamps\"].apply(lambda x: np.array(list(range(len(x)))) + 1)"
   ]
  },
  {
   "cell_type": "code",
   "execution_count": null,
   "metadata": {
    "tags": []
   },
   "outputs": [],
   "source": [
    "TRIALS_AND_SPECTRAL_DF[\"video_frame\"].head().apply(lambda x: x.shape)"
   ]
  },
  {
   "cell_type": "code",
   "execution_count": null,
   "metadata": {},
   "outputs": [],
   "source": [
    "['subject_thorax_to_agent_thorax',\n",
    " 'nose_to_reward_port_sum',\n",
    " 'nose_to_reward_port_diff',\n",
    " 'thorax_velocity_sum',\n",
    " 'thorax_velocity_diff',\n",
    " 'to_reward_port_angle_sum',\n",
    " 'to_reward_port_angle_diff',\n",
    " 'subject_nose_to_reward_port',\n",
    " 'subject_thorax_velocity',\n",
    " 'subject_to_reward_port_angle',\n",
    " 'agent_nose_to_reward_port',\n",
    " 'agent_thorax_velocity',\n",
    " 'agent_to_reward_port_angle',\n",
    " 'closebool_subject_nose_to_reward_port',\n",
    " 'closebool_agent_nose_to_reward_port',\n",
    " 'movingbool_subject_thorax_velocity',\n",
    " 'movingbool_agent_thorax_velocity',\n",
    " 'manual_cluster_id',\n",
    " 'standard_embedding_x',\n",
    " 'standard_embedding_y',\n",
    " 'kmeans_cluster',\n",
    " 'subject_locations',\n",
    " 'agent_locations',\n",
    " 'subject_thorax',\n",
    " 'subject_nose',\n",
    " 'subject_tail_base',\n",
    " 'agent_thorax',\n",
    " 'agent_nose',\n",
    " 'agent_tail_base']"
   ]
  },
  {
   "cell_type": "code",
   "execution_count": null,
   "metadata": {
    "tags": []
   },
   "outputs": [],
   "source": [
    "# sleap_columns = [col for col in TRIALS_AND_SPECTRAL_DF.columns if \"locations\" in col or \"velocity\" in col or \"to_reward_port\" in col or \"video_frame\" in col]"
   ]
  },
  {
   "cell_type": "code",
   "execution_count": null,
   "metadata": {
    "tags": []
   },
   "outputs": [],
   "source": [
    "sleap_columns = [col for col in TRIALS_AND_SPECTRAL_DF.columns if (\"thorax\" in col or \"nose\" in col or \"reward_port\" in col or \"standard_embedding\" in col or \"cluster\" in col or \"frame_index\" in col or \"locations\" in col or \"tailbase\" in col) and \"timestamp\" not in col]\n"
   ]
  },
  {
   "cell_type": "code",
   "execution_count": null,
   "metadata": {
    "tags": []
   },
   "outputs": [],
   "source": [
    "sleap_columns"
   ]
  },
  {
   "cell_type": "code",
   "execution_count": null,
   "metadata": {
    "tags": []
   },
   "outputs": [],
   "source": [
    "for col in sleap_columns:\n",
    "    print(col)\n",
    "    print(TRIALS_AND_SPECTRAL_DF[col].apply(lambda x: x.shape).iloc[0])"
   ]
  },
  {
   "cell_type": "code",
   "execution_count": null,
   "metadata": {
    "tags": []
   },
   "outputs": [],
   "source": [
    "for col in sorted(sleap_columns):\n",
    "    updated_item_col = \"trial_and_post_{}\".format(col)\n",
    "    print(updated_item_col)\n",
    "    updated_timestamp_col = \"trial_and_post_video_timestamps\"\n",
    "    TRIALS_AND_SPECTRAL_DF[updated_item_col] = TRIALS_AND_SPECTRAL_DF.apply(lambda x: utilities.helper.filter_by_timestamp_range(start=x[\"tone_start_timestamp\"], stop=x[\"post_trial_end_timestamp\"], timestamps=x[\"cluster_timestamp\"], items=x[col])[1], axis=1)\n",
    "\n",
    "TRIALS_AND_SPECTRAL_DF[updated_timestamp_col] = TRIALS_AND_SPECTRAL_DF.apply(lambda x: utilities.helper.filter_by_timestamp_range(start=x[\"tone_start_timestamp\"], stop=x[\"post_trial_end_timestamp\"], timestamps=x[\"cluster_timestamp\"], items=x[col])[0], axis=1)"
   ]
  },
  {
   "cell_type": "code",
   "execution_count": null,
   "metadata": {
    "tags": []
   },
   "outputs": [],
   "source": [
    "TRIALS_AND_SPECTRAL_DF.head()"
   ]
  },
  {
   "cell_type": "code",
   "execution_count": null,
   "metadata": {
    "tags": []
   },
   "outputs": [],
   "source": [
    "TRIALS_AND_SPECTRAL_DF[\"trial_and_post_frame_index\"].iloc[0].shape"
   ]
  },
  {
   "cell_type": "code",
   "execution_count": null,
   "metadata": {
    "tags": []
   },
   "outputs": [],
   "source": [
    "TRIALS_AND_SPECTRAL_DF = TRIALS_AND_SPECTRAL_DF.drop(columns=sleap_columns + [\"cluster_timestamp\"], errors=\"ignore\")"
   ]
  },
  {
   "cell_type": "code",
   "execution_count": null,
   "metadata": {
    "tags": []
   },
   "outputs": [],
   "source": [
    "for col in TRIALS_AND_SPECTRAL_DF.columns:\n",
    "    print(col)"
   ]
  },
  {
   "cell_type": "markdown",
   "metadata": {},
   "source": [
    "- Filtering coherence"
   ]
  },
  {
   "cell_type": "code",
   "execution_count": null,
   "metadata": {
    "tags": []
   },
   "outputs": [],
   "source": [
    "coherence_columns = [col for col in TRIALS_AND_SPECTRAL_DF.columns if \"coherence\" in col and \"timestamps\" not in col and \"calculation\" not in col]"
   ]
  },
  {
   "cell_type": "code",
   "execution_count": null,
   "metadata": {
    "tags": []
   },
   "outputs": [],
   "source": [
    "coherence_columns"
   ]
  },
  {
   "cell_type": "code",
   "execution_count": null,
   "metadata": {
    "tags": []
   },
   "outputs": [],
   "source": [
    "for col in sorted(coherence_columns):\n",
    "    updated_item_col = \"trial_and_post_{}\".format(col)\n",
    "    print(updated_item_col)\n",
    "    updated_timestamp_col = \"trial_and_post_coherence_timestamps\"\n",
    "    TRIALS_AND_SPECTRAL_DF[updated_item_col] = TRIALS_AND_SPECTRAL_DF.apply(lambda x: utilities.helper.filter_by_timestamp_range(start=x[\"tone_start_timestamp\"], stop=x[\"post_trial_end_timestamp\"], timestamps=x[\"coherence_timestamps\"], items=x[col])[1], axis=1)\n",
    "\n",
    "TRIALS_AND_SPECTRAL_DF[updated_timestamp_col] = TRIALS_AND_SPECTRAL_DF.apply(lambda x: utilities.helper.filter_by_timestamp_range(start=x[\"tone_start_timestamp\"], stop=x[\"post_trial_end_timestamp\"], timestamps=x[\"coherence_timestamps\"], items=x[col])[0], axis=1)"
   ]
  },
  {
   "cell_type": "code",
   "execution_count": null,
   "metadata": {
    "tags": []
   },
   "outputs": [],
   "source": [
    "TRIALS_AND_SPECTRAL_DF = TRIALS_AND_SPECTRAL_DF.drop(columns=coherence_columns + [\"coherence_timestamps\"], errors=\"ignore\")"
   ]
  },
  {
   "cell_type": "markdown",
   "metadata": {},
   "source": [
    "- Filtering Grangers"
   ]
  },
  {
   "cell_type": "code",
   "execution_count": null,
   "metadata": {
    "tags": []
   },
   "outputs": [],
   "source": [
    "granger_columns = [col for col in TRIALS_AND_SPECTRAL_DF.columns if \"granger\" in col and \"timestamps\" not in col and \"calculation\" not in col]"
   ]
  },
  {
   "cell_type": "code",
   "execution_count": null,
   "metadata": {
    "tags": []
   },
   "outputs": [],
   "source": [
    "granger_columns"
   ]
  },
  {
   "cell_type": "code",
   "execution_count": null,
   "metadata": {
    "tags": []
   },
   "outputs": [],
   "source": [
    "for col in sorted(granger_columns):\n",
    "    updated_item_col = \"trial_and_post_{}\".format(col)\n",
    "    print(updated_item_col)\n",
    "    updated_timestamp_col = \"trial_and_post_granger_timestamps\"\n",
    "    TRIALS_AND_SPECTRAL_DF[updated_item_col] = TRIALS_AND_SPECTRAL_DF.apply(lambda x: utilities.helper.filter_by_timestamp_range(start=x[\"tone_start_timestamp\"], stop=x[\"post_trial_end_timestamp\"], timestamps=x[\"granger_timestamps\"], items=x[col])[1], axis=1)\n",
    "\n",
    "TRIALS_AND_SPECTRAL_DF[updated_timestamp_col] = TRIALS_AND_SPECTRAL_DF.apply(lambda x: utilities.helper.filter_by_timestamp_range(start=x[\"tone_start_timestamp\"], stop=x[\"post_trial_end_timestamp\"], timestamps=x[\"granger_timestamps\"], items=x[col])[0], axis=1)"
   ]
  },
  {
   "cell_type": "code",
   "execution_count": null,
   "metadata": {
    "tags": []
   },
   "outputs": [],
   "source": [
    "TRIALS_AND_SPECTRAL_DF = TRIALS_AND_SPECTRAL_DF.drop(columns=granger_columns + [\"granger_timestamps\"], errors=\"ignore\")"
   ]
  },
  {
   "cell_type": "code",
   "execution_count": null,
   "metadata": {},
   "outputs": [],
   "source": [
    "TRIALS_AND_SPECTRAL_DF.to_pickle(os.path.join(OUTPUT_DIR, FULL_LFP_TRACES_PKL))"
   ]
  },
  {
   "cell_type": "markdown",
   "metadata": {},
   "source": [
    "- Filtering power"
   ]
  },
  {
   "cell_type": "code",
   "execution_count": null,
   "metadata": {},
   "outputs": [],
   "source": [
    "TRIALS_AND_SPECTRAL_DF.head()"
   ]
  },
  {
   "cell_type": "code",
   "execution_count": null,
   "metadata": {
    "tags": []
   },
   "outputs": [],
   "source": [
    "power_columns = [col for col in TRIALS_AND_SPECTRAL_DF.columns if \"power\" in col and \"timestamps\" not in col and \"calculation\" not in col]"
   ]
  },
  {
   "cell_type": "code",
   "execution_count": null,
   "metadata": {
    "tags": []
   },
   "outputs": [],
   "source": [
    "power_columns"
   ]
  },
  {
   "cell_type": "code",
   "execution_count": null,
   "metadata": {
    "tags": []
   },
   "outputs": [],
   "source": [
    "for col in sorted(power_columns):\n",
    "    updated_item_col = \"trial_and_post_{}\".format(col)\n",
    "    print(updated_item_col)\n",
    "    updated_timestamp_col = \"trial_and_post_power_timestamps\"\n",
    "    TRIALS_AND_SPECTRAL_DF[updated_item_col] = TRIALS_AND_SPECTRAL_DF.apply(lambda x: utilities.helper.filter_by_timestamp_range(start=x[\"tone_start_timestamp\"], stop=x[\"post_trial_end_timestamp\"], timestamps=x[\"power_timestamps\"], items=x[col])[1], axis=1)\n",
    "\n",
    "TRIALS_AND_SPECTRAL_DF[updated_timestamp_col] = TRIALS_AND_SPECTRAL_DF.apply(lambda x: utilities.helper.filter_by_timestamp_range(start=x[\"tone_start_timestamp\"], stop=x[\"post_trial_end_timestamp\"], timestamps=x[\"power_timestamps\"], items=x[col])[0], axis=1)\n"
   ]
  },
  {
   "cell_type": "code",
   "execution_count": null,
   "metadata": {
    "tags": []
   },
   "outputs": [],
   "source": [
    "TRIALS_AND_SPECTRAL_DF = TRIALS_AND_SPECTRAL_DF.drop(columns=power_columns + [\"power_timestamps\"], errors=\"ignore\")"
   ]
  },
  {
   "cell_type": "code",
   "execution_count": null,
   "metadata": {
    "tags": []
   },
   "outputs": [],
   "source": [
    "for col in TRIALS_AND_SPECTRAL_DF:\n",
    "    print(col)"
   ]
  },
  {
   "cell_type": "markdown",
   "metadata": {
    "tags": []
   },
   "source": [
    "# Filtering out phase"
   ]
  },
  {
   "cell_type": "code",
   "execution_count": null,
   "metadata": {
    "tags": []
   },
   "outputs": [],
   "source": [
    "lfp_columns = [col for col in TRIALS_AND_SPECTRAL_DF.columns if \"trace\" in col and \"timestamps\" not in col and \"calculation\" not in col]"
   ]
  },
  {
   "cell_type": "code",
   "execution_count": null,
   "metadata": {
    "tags": []
   },
   "outputs": [],
   "source": [
    "band_columns = [col for col in TRIALS_AND_SPECTRAL_DF.columns if \"band\" in col and \"timestamps\" not in col and \"calculation\" not in col]"
   ]
  },
  {
   "cell_type": "code",
   "execution_count": null,
   "metadata": {
    "tags": []
   },
   "outputs": [],
   "source": [
    "phase_columns = [col for col in TRIALS_AND_SPECTRAL_DF.columns if \"phase\" in col and \"timestamps\" not in col and \"calculation\" not in col]"
   ]
  },
  {
   "cell_type": "code",
   "execution_count": null,
   "metadata": {
    "tags": []
   },
   "outputs": [],
   "source": [
    "phase_columns = phase_columns + band_columns +lfp_columns"
   ]
  },
  {
   "cell_type": "code",
   "execution_count": null,
   "metadata": {
    "tags": []
   },
   "outputs": [],
   "source": [
    "phase_columns"
   ]
  },
  {
   "cell_type": "code",
   "execution_count": null,
   "metadata": {
    "tags": []
   },
   "outputs": [],
   "source": [
    "for col in sorted(phase_columns):\n",
    "    updated_item_col = \"trial_and_post_{}\".format(col)\n",
    "    print(updated_item_col)\n",
    "    updated_timestamp_col = \"trial_and_post_lfp_timestamps\"\n",
    "    TRIALS_AND_SPECTRAL_DF[updated_item_col] = TRIALS_AND_SPECTRAL_DF.apply(lambda x: utilities.helper.filter_by_timestamp_range(start=x[\"tone_start_timestamp\"], stop=x[\"post_trial_end_timestamp\"], timestamps=x[\"lfp_timestamps\"], items=x[col])[1], axis=1)\n",
    "\n",
    "TRIALS_AND_SPECTRAL_DF[updated_timestamp_col] = TRIALS_AND_SPECTRAL_DF.apply(lambda x: utilities.helper.filter_by_timestamp_range(start=x[\"tone_start_timestamp\"], stop=x[\"post_trial_end_timestamp\"], timestamps=x[\"lfp_timestamps\"], items=x[col])[0], axis=1)\n"
   ]
  },
  {
   "cell_type": "code",
   "execution_count": null,
   "metadata": {
    "tags": []
   },
   "outputs": [],
   "source": []
  },
  {
   "cell_type": "code",
   "execution_count": null,
   "metadata": {
    "tags": []
   },
   "outputs": [],
   "source": [
    "TRIALS_AND_SPECTRAL_DF[\"trial_and_post_lfp_timestamps\"]"
   ]
  },
  {
   "cell_type": "code",
   "execution_count": null,
   "metadata": {
    "tags": []
   },
   "outputs": [],
   "source": [
    "TRIALS_AND_SPECTRAL_DF = TRIALS_AND_SPECTRAL_DF.drop(columns=phase_columns + [\"lfp_timestamps\"], errors=\"ignore\")"
   ]
  },
  {
   "cell_type": "code",
   "execution_count": null,
   "metadata": {
    "tags": []
   },
   "outputs": [],
   "source": [
    "TRIALS_AND_SPECTRAL_DF.to_pickle(os.path.join(OUTPUT_DIR, FULL_LFP_TRACES_PKL))"
   ]
  },
  {
   "cell_type": "code",
   "execution_count": null,
   "metadata": {
    "tags": []
   },
   "outputs": [],
   "source": [
    "for col in TRIALS_AND_SPECTRAL_DF:\n",
    "    print(col)"
   ]
  },
  {
   "cell_type": "code",
   "execution_count": null,
   "metadata": {
    "tags": []
   },
   "outputs": [],
   "source": [
    "TRIALS_AND_SPECTRAL_DF[\"trial_and_post_kmeans_cluster\"].iloc[0].shape"
   ]
  },
  {
   "cell_type": "code",
   "execution_count": null,
   "metadata": {},
   "outputs": [],
   "source": [
    "raise ValueError()"
   ]
  },
  {
   "cell_type": "markdown",
   "metadata": {},
   "source": [
    "# Filtering for rows that are in the video"
   ]
  },
  {
   "cell_type": "code",
   "execution_count": null,
   "metadata": {
    "tags": []
   },
   "outputs": [],
   "source": [
    "TRIALS_AND_SPECTRAL_DF[\"in_video\"] = TRIALS_AND_SPECTRAL_DF.apply(lambda x: x[\"start_frame\"] <= x[\"trial_video_frame\"][0] <= x[\"stop_frame\"], axis=1)"
   ]
  },
  {
   "cell_type": "code",
   "execution_count": null,
   "metadata": {
    "tags": []
   },
   "outputs": [],
   "source": [
    "TRIALS_AND_SPECTRAL_DF = TRIALS_AND_SPECTRAL_DF[TRIALS_AND_SPECTRAL_DF[\"in_video\"]].reset_index()"
   ]
  },
  {
   "cell_type": "code",
   "execution_count": null,
   "metadata": {
    "tags": []
   },
   "outputs": [],
   "source": [
    "TRIALS_AND_SPECTRAL_DF"
   ]
  },
  {
   "cell_type": "code",
   "execution_count": null,
   "metadata": {
    "tags": []
   },
   "outputs": [],
   "source": [
    "TRIALS_AND_SPECTRAL_DF.to_pickle(os.path.join(OUTPUT_DIR, FULL_LFP_TRACES_PKL))"
   ]
  },
  {
   "cell_type": "code",
   "execution_count": null,
   "metadata": {},
   "outputs": [],
   "source": [
    "raise ValueError()"
   ]
  },
  {
   "cell_type": "markdown",
   "metadata": {},
   "source": [
    "# Filtering out spikes"
   ]
  },
  {
   "cell_type": "code",
   "execution_count": null,
   "metadata": {
    "tags": []
   },
   "outputs": [],
   "source": [
    "raise ValueError()"
   ]
  },
  {
   "cell_type": "code",
   "execution_count": null,
   "metadata": {
    "tags": []
   },
   "outputs": [],
   "source": [
    "TRIALS_AND_SPECTRAL_DF[\"baseline_spike_times\"] = TRIALS_AND_SPECTRAL_DF.apply(lambda x: filter_spike_times(x[\"spike_times\"], start=x[\"tone_start_timestamp\"], stop=x[\"baseline_stop_timestamp\"]).astype(int), axis=1)\n"
   ]
  },
  {
   "cell_type": "code",
   "execution_count": null,
   "metadata": {
    "tags": []
   },
   "outputs": [],
   "source": [
    "TRIALS_AND_SPECTRAL_DF[\"trial_spike_times\"] = TRIALS_AND_SPECTRAL_DF.apply(lambda x: filter_spike_times(x[\"spike_times\"], start=x[\"tone_start_timestamp\"], stop=x[\"tone_stop_timestamp\"]).astype(int), axis=1)\n"
   ]
  },
  {
   "cell_type": "code",
   "execution_count": null,
   "metadata": {
    "tags": []
   },
   "outputs": [],
   "source": [
    "TRIALS_AND_SPECTRAL_DF[\"tone_start_timestamp\"].head()"
   ]
  },
  {
   "cell_type": "code",
   "execution_count": null,
   "metadata": {
    "tags": []
   },
   "outputs": [],
   "source": [
    "TRIALS_AND_SPECTRAL_DF[\"baseline_stop_timestamp\"].head()"
   ]
  },
  {
   "cell_type": "code",
   "execution_count": null,
   "metadata": {
    "tags": []
   },
   "outputs": [],
   "source": [
    "TRIALS_AND_SPECTRAL_DF[\"baseline_spike_times\"].iloc[0]"
   ]
  },
  {
   "cell_type": "code",
   "execution_count": null,
   "metadata": {
    "tags": []
   },
   "outputs": [],
   "source": [
    "TRIALS_AND_SPECTRAL_DF[\"baseline_neuron_average_fr\"] = TRIALS_AND_SPECTRAL_DF.apply(lambda x: utilities.helper.filter_by_timestamp_range(start=x[\"tone_start_timestamp\"], stop=x[\"baseline_stop_timestamp\"], timestamps=x[\"neuron_average_timestamps\"], items=x[\"neuron_average_fr\"].T)[1], axis=1)\n",
    "TRIALS_AND_SPECTRAL_DF[\"baseline_neuron_average_timestamp\"] = TRIALS_AND_SPECTRAL_DF.apply(lambda x: utilities.helper.filter_by_timestamp_range(start=x[\"tone_start_timestamp\"], stop=x[\"baseline_stop_timestamp\"], timestamps=x[\"neuron_average_timestamps\"], items=x[\"neuron_average_fr\"].T)[0], axis=1)"
   ]
  },
  {
   "cell_type": "code",
   "execution_count": null,
   "metadata": {
    "tags": []
   },
   "outputs": [],
   "source": [
    "TRIALS_AND_SPECTRAL_DF[\"trial_neuron_average_fr\"] = TRIALS_AND_SPECTRAL_DF.apply(lambda x: utilities.helper.filter_by_timestamp_range(start=x[\"tone_start_timestamp\"], stop=x[\"tone_stop_timestamp\"], timestamps=x[\"neuron_average_timestamps\"], items=x[\"neuron_average_fr\"].T)[1].T, axis=1)\n",
    "TRIALS_AND_SPECTRAL_DF[\"trial_neuron_average_timestamp\"] = TRIALS_AND_SPECTRAL_DF.apply(lambda x: utilities.helper.filter_by_timestamp_range(start=x[\"tone_start_timestamp\"], stop=x[\"tone_stop_timestamp\"], timestamps=x[\"neuron_average_timestamps\"], items=x[\"neuron_average_fr\"].T)[0], axis=1)"
   ]
  },
  {
   "cell_type": "code",
   "execution_count": null,
   "metadata": {
    "tags": []
   },
   "outputs": [],
   "source": [
    "TRIALS_AND_SPECTRAL_DF = TRIALS_AND_SPECTRAL_DF.drop(columns=[\"spike_clusters\", \"spike_times\", \"neuron_average_fr\", \"neuron_average_timestamps\",], errors=\"ignore\")"
   ]
  },
  {
   "cell_type": "code",
   "execution_count": null,
   "metadata": {
    "tags": []
   },
   "outputs": [],
   "source": [
    "TRIALS_AND_SPECTRAL_DF[\"trial_neuron_average_fr\"].iloc[0].shape"
   ]
  },
  {
   "cell_type": "code",
   "execution_count": null,
   "metadata": {
    "tags": []
   },
   "outputs": [],
   "source": [
    "TRIALS_AND_SPECTRAL_DF[\"trial_neuron_average_timestamp\"].iloc[0].shape"
   ]
  },
  {
   "cell_type": "markdown",
   "metadata": {},
   "source": [
    "# OLD Stuff"
   ]
  },
  {
   "cell_type": "code",
   "execution_count": null,
   "metadata": {},
   "outputs": [],
   "source": []
  },
  {
   "cell_type": "markdown",
   "metadata": {},
   "source": [
    "## Getting the ranges of each cluster"
   ]
  },
  {
   "cell_type": "markdown",
   "metadata": {},
   "source": [
    "- Getting the index range"
   ]
  },
  {
   "cell_type": "code",
   "execution_count": null,
   "metadata": {},
   "outputs": [],
   "source": [
    "list(TRIALS_AND_SPECTRAL_DF.columns)"
   ]
  },
  {
   "cell_type": "code",
   "execution_count": null,
   "metadata": {},
   "outputs": [],
   "source": [
    "TRIALS_AND_SPECTRAL_DF[\"trial_and_post_kmeans_cluster\"].iloc[0]"
   ]
  },
  {
   "cell_type": "code",
   "execution_count": null,
   "metadata": {},
   "outputs": [],
   "source": [
    "TRIALS_AND_SPECTRAL_DF[\"trial_and_post_comp_id\"] = TRIALS_AND_SPECTRAL_DF[\"trial_and_post_kmeans_cluster\"].apply(lambda x: np.vectorize(cluster_to_comp_id.get)(x.astype(str)))"
   ]
  },
  {
   "cell_type": "code",
   "execution_count": null,
   "metadata": {},
   "outputs": [],
   "source": [
    "TRIALS_AND_SPECTRAL_DF[\"trial_and_post_competitiveness\"] = TRIALS_AND_SPECTRAL_DF[\"trial_and_post_kmeans_cluster\"].apply(lambda x: np.vectorize(cluster_to_competitiveness.get)(x.astype(str)))"
   ]
  },
  {
   "cell_type": "code",
   "execution_count": null,
   "metadata": {},
   "outputs": [],
   "source": [
    "TRIALS_AND_SPECTRAL_DF[\"trial_and_post_competitiveness\"] "
   ]
  },
  {
   "cell_type": "code",
   "execution_count": null,
   "metadata": {},
   "outputs": [],
   "source": [
    "TRIALS_AND_SPECTRAL_DF[\"trial_and_post_competitiveness\"].iloc[0].shape"
   ]
  },
  {
   "cell_type": "code",
   "execution_count": null,
   "metadata": {},
   "outputs": [],
   "source": [
    "# TRIALS_AND_SPECTRAL_DF[\"cluster_index_ranges_dict\"] = TRIALS_AND_SPECTRAL_DF[\"trial_and_post_comp_id\"].apply(lambda x: find_consecutive_ranges(x, min_length=20))\n",
    "\n",
    "TRIALS_AND_SPECTRAL_DF[\"cluster_index_ranges_dict\"] = TRIALS_AND_SPECTRAL_DF[\"trial_and_post_competitiveness\"].apply(lambda x: find_consecutive_ranges(x[:200], min_length=20))\n"
   ]
  },
  {
   "cell_type": "code",
   "execution_count": null,
   "metadata": {},
   "outputs": [],
   "source": [
    "TRIALS_AND_SPECTRAL_DF[\"cluster_index_ranges_dict\"].iloc[0]"
   ]
  },
  {
   "cell_type": "code",
   "execution_count": null,
   "metadata": {},
   "outputs": [],
   "source": [
    "TRIALS_AND_SPECTRAL_DF.head()"
   ]
  },
  {
   "cell_type": "code",
   "execution_count": null,
   "metadata": {},
   "outputs": [],
   "source": [
    "TRIALS_AND_SPECTRAL_DF[\"cluster_timestamp\"] = TRIALS_AND_SPECTRAL_DF.apply(lambda x: x[\"video_timestamps\"][x[\"trial_and_post_frame_index\"]], axis=1)\n"
   ]
  },
  {
   "cell_type": "markdown",
   "metadata": {},
   "source": [
    "- Calculating the times in milliseconds of each cluster frame"
   ]
  },
  {
   "cell_type": "code",
   "execution_count": null,
   "metadata": {},
   "outputs": [],
   "source": []
  },
  {
   "cell_type": "code",
   "execution_count": null,
   "metadata": {},
   "outputs": [],
   "source": [
    "TRIALS_AND_SPECTRAL_DF[\"cluster_times\"] = TRIALS_AND_SPECTRAL_DF.apply(lambda x: (np.array(x[\"cluster_timestamp\"]) - x[\"first_timestamp\"]) // 20, axis=1)\n"
   ]
  },
  {
   "cell_type": "markdown",
   "metadata": {},
   "source": [
    "- Updating the index to use cluster times and timestamps based on video frame timestamps list"
   ]
  },
  {
   "cell_type": "code",
   "execution_count": null,
   "metadata": {},
   "outputs": [],
   "source": [
    "TRIALS_AND_SPECTRAL_DF[\"cluster_times_ranges_dict\"] = TRIALS_AND_SPECTRAL_DF.apply(lambda x: update_tuples_in_dict(x[\"cluster_index_ranges_dict\"], x[\"cluster_times\"]), axis=1)"
   ]
  },
  {
   "cell_type": "code",
   "execution_count": null,
   "metadata": {},
   "outputs": [],
   "source": [
    "TRIALS_AND_SPECTRAL_DF[\"cluster_timestamps_ranges_dict\"] = TRIALS_AND_SPECTRAL_DF.apply(lambda x: update_tuples_in_dict(x[\"cluster_index_ranges_dict\"], x[\"cluster_timestamp\"]), axis=1)"
   ]
  },
  {
   "cell_type": "markdown",
   "metadata": {},
   "source": [
    "- Combining the win and loss label with the cluster"
   ]
  },
  {
   "cell_type": "code",
   "execution_count": null,
   "metadata": {},
   "outputs": [],
   "source": [
    "TRIALS_AND_SPECTRAL_DF[\"trial_cluster_times_ranges_dict\"] = TRIALS_AND_SPECTRAL_DF.apply(lambda x: {\"{}_{}\".format(x[\"trial_label\"], k): v for k, v in x[\"cluster_times_ranges_dict\"].items()}, axis=1)\n"
   ]
  },
  {
   "cell_type": "code",
   "execution_count": null,
   "metadata": {},
   "outputs": [],
   "source": [
    "TRIALS_AND_SPECTRAL_DF[\"trial_cluster_timestamps_ranges_dict\"] = TRIALS_AND_SPECTRAL_DF.apply(lambda x: {\"{}_{}\".format(x[\"trial_label\"], k): v for k, v in x[\"cluster_timestamps_ranges_dict\"].items()}, axis=1)\n"
   ]
  },
  {
   "cell_type": "code",
   "execution_count": null,
   "metadata": {},
   "outputs": [],
   "source": [
    "TRIALS_AND_SPECTRAL_DF[\"trial_cluster_timestamps_ranges_dict\"].iloc[0]"
   ]
  },
  {
   "cell_type": "code",
   "execution_count": null,
   "metadata": {},
   "outputs": [],
   "source": []
  },
  {
   "cell_type": "code",
   "execution_count": null,
   "metadata": {},
   "outputs": [],
   "source": [
    "TRIALS_AND_SPECTRAL_DF.columns"
   ]
  },
  {
   "cell_type": "code",
   "execution_count": null,
   "metadata": {},
   "outputs": [],
   "source": [
    "TRIALS_AND_SPECTRAL_DF[\"trial_and_post_coherence_timestamps\"].iloc[0]"
   ]
  }
 ],
 "metadata": {
  "deepnote": {},
  "deepnote_execution_queue": [],
  "deepnote_notebook_id": "cf8fe3695d074ee7887fdf6459cbf5ce",
  "kernelspec": {
   "display_name": "mountainsort_0_5_6",
   "language": "python",
   "name": "python3"
  },
  "language_info": {
   "codemirror_mode": {
    "name": "ipython",
    "version": 3
   },
   "file_extension": ".py",
   "mimetype": "text/x-python",
   "name": "python",
   "nbconvert_exporter": "python",
   "pygments_lexer": "ipython3",
   "version": "3.9.19"
  }
 },
 "nbformat": 4,
 "nbformat_minor": 4
}
