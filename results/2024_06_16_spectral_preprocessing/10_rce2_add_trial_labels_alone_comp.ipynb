{
 "cells": [
  {
   "cell_type": "markdown",
   "metadata": {
    "cell_id": "c3a02adc9e884466bc8c79db549cc3d2",
    "deepnote_cell_type": "text-cell-h1",
    "formattedRanges": [
     {
      "fromCodePoint": 0,
      "marks": {
       "bold": true,
       "underline": true
      },
      "toCodePoint": 17,
      "type": "marks"
     }
    ]
   },
   "source": [
    "# All oscillation analysis"
   ]
  },
  {
   "cell_type": "markdown",
   "metadata": {
    "cell_id": "4546bee655b14a5dbf393161f1228e60",
    "deepnote_cell_type": "text-cell-p",
    "formattedRanges": []
   },
   "source": [
    "Brief 1-2 sentence description of notebook."
   ]
  },
  {
   "cell_type": "code",
   "execution_count": 1,
   "metadata": {
    "tags": []
   },
   "outputs": [],
   "source": [
    "# Imports of all used packages and libraries\n",
    "import sys\n",
    "import os\n",
    "import git\n",
    "import glob\n",
    "from collections import defaultdict"
   ]
  },
  {
   "cell_type": "code",
   "execution_count": 2,
   "metadata": {
    "tags": []
   },
   "outputs": [],
   "source": [
    "git_repo = git.Repo(\".\", search_parent_directories=True)\n",
    "git_root = git_repo.git.rev_parse(\"--show-toplevel\")"
   ]
  },
  {
   "cell_type": "code",
   "execution_count": 3,
   "metadata": {
    "tags": []
   },
   "outputs": [
    {
     "data": {
      "text/plain": [
       "'/nancy/user/riwata/projects/reward_comp_ext'"
      ]
     },
     "execution_count": 3,
     "metadata": {},
     "output_type": "execute_result"
    }
   ],
   "source": [
    "git_root"
   ]
  },
  {
   "cell_type": "code",
   "execution_count": 4,
   "metadata": {
    "tags": []
   },
   "outputs": [],
   "source": [
    "sys.path.insert(0, os.path.join(git_root, 'src'))"
   ]
  },
  {
   "cell_type": "code",
   "execution_count": 5,
   "metadata": {
    "tags": []
   },
   "outputs": [],
   "source": [
    "import warnings\n",
    "warnings.filterwarnings('ignore')"
   ]
  },
  {
   "cell_type": "code",
   "execution_count": 6,
   "metadata": {
    "tags": []
   },
   "outputs": [],
   "source": [
    "import os\n",
    "import collections\n",
    "import itertools\n",
    "from collections import defaultdict\n",
    "from itertools import combinations"
   ]
  },
  {
   "cell_type": "raw",
   "metadata": {},
   "source": [
    "os.environ[\"SPECTRAL_CONNECTIVITY_ENABLE_GPU\"] = \"true\"\n",
    "import cupy as cp"
   ]
  },
  {
   "cell_type": "code",
   "execution_count": 7,
   "metadata": {
    "cell_id": "03b495cefa6a4798a44c7f2e4c6a3ea7",
    "deepnote_cell_type": "code",
    "deepnote_to_be_reexecuted": false,
    "execution_millis": 21,
    "execution_start": 1691424003626,
    "source_hash": null,
    "tags": []
   },
   "outputs": [],
   "source": [
    "# Imports of all used packages and libraries\n",
    "import numpy as np\n",
    "import pandas as pd\n",
    "from scipy import stats\n",
    "from scipy.stats import mannwhitneyu\n"
   ]
  },
  {
   "cell_type": "code",
   "execution_count": 8,
   "metadata": {
    "tags": []
   },
   "outputs": [],
   "source": [
    "import matplotlib\n",
    "import matplotlib.colors as mcolors\n",
    "import matplotlib.pyplot as plt\n",
    "import matplotlib.cm as cm\n",
    "import colorsys"
   ]
  },
  {
   "cell_type": "code",
   "execution_count": 9,
   "metadata": {
    "tags": []
   },
   "outputs": [],
   "source": [
    "from sklearn.metrics import confusion_matrix"
   ]
  },
  {
   "cell_type": "code",
   "execution_count": 10,
   "metadata": {
    "tags": []
   },
   "outputs": [],
   "source": [
    "from spectral_connectivity import Multitaper, Connectivity\n",
    "import spectral_connectivity"
   ]
  },
  {
   "cell_type": "code",
   "execution_count": 11,
   "metadata": {
    "tags": []
   },
   "outputs": [],
   "source": [
    "import utilities.helper\n",
    "import trodes.read_exported"
   ]
  },
  {
   "cell_type": "code",
   "execution_count": 12,
   "metadata": {
    "tags": []
   },
   "outputs": [],
   "source": [
    "FONTSIZE = 20"
   ]
  },
  {
   "cell_type": "code",
   "execution_count": 13,
   "metadata": {
    "tags": []
   },
   "outputs": [],
   "source": [
    "font = {'weight' : 'medium',\n",
    "        'size'   : 20}\n",
    "\n",
    "matplotlib.rc('font', **font)"
   ]
  },
  {
   "cell_type": "markdown",
   "metadata": {
    "cell_id": "d290bac2c17940bfbc0f9296beaf70e5",
    "deepnote_cell_type": "text-cell-h2",
    "formattedRanges": []
   },
   "source": [
    "## Inputs & Data"
   ]
  },
  {
   "cell_type": "code",
   "execution_count": 14,
   "metadata": {
    "tags": []
   },
   "outputs": [],
   "source": [
    "EPHYS_SAMPLE_RATE = 20000"
   ]
  },
  {
   "cell_type": "markdown",
   "metadata": {
    "cell_id": "e528ce19c608425292151930d380f49f",
    "deepnote_cell_type": "text-cell-p",
    "formattedRanges": []
   },
   "source": [
    "Explanation of each input and where it comes from."
   ]
  },
  {
   "cell_type": "code",
   "execution_count": 15,
   "metadata": {
    "cell_id": "6cf83a5811054461a718a71673d09aab",
    "deepnote_cell_type": "code",
    "deepnote_to_be_reexecuted": false,
    "execution_millis": 373,
    "execution_start": 1691424003628,
    "source_hash": null,
    "tags": []
   },
   "outputs": [],
   "source": [
    "# Inputs and Required data loading\n",
    "# input varaible names are in all caps snake case\n",
    "# Whenever an input changes or is used for processing \n",
    "# the vairables are all lower in snake case\n",
    "OUTPUT_DIR = r\"./proc/\" # where data is saved should always be shown in the inputs\n",
    "os.makedirs(OUTPUT_DIR, exist_ok=True)\n",
    "OUTPUT_PREFIX = \"rce_pilot_3_alone_comp\""
   ]
  },
  {
   "cell_type": "code",
   "execution_count": 16,
   "metadata": {
    "tags": []
   },
   "outputs": [],
   "source": [
    "# TRIAL_LABELS_DF = pd.read_excel(\"/blue/npadillacoreano/ryoi360/projects/reward_comp/repos/reward_comp_ext/results/2024_06_26_sleap_clustering/data/rce_pilot_3_alone_comp_per_video_trial_labels.xlsx\")\n",
    "TRIAL_LABELS_DF = pd.read_excel(\"../../data/rce_pilot_3_alone_comp_per_video_trial_labels.xlsx\")"
   ]
  },
  {
   "cell_type": "raw",
   "metadata": {
    "tags": []
   },
   "source": [
    "LFP_SPECTRAL_DF = pd.read_pickle(\"./proc/rce_pilot_2_03_spectral_bands.pkl\")"
   ]
  },
  {
   "cell_type": "code",
   "execution_count": 17,
   "metadata": {
    "tags": []
   },
   "outputs": [],
   "source": [
    "LFP_SPECTRAL_DF = pd.read_pickle(\"./proc/{}_04_spectral_and_sleap.pkl\".format(OUTPUT_PREFIX))"
   ]
  },
  {
   "cell_type": "code",
   "execution_count": 18,
   "metadata": {
    "tags": []
   },
   "outputs": [],
   "source": [
    "FULL_LFP_TRACES_PKL = \"{}_10_per_trial_spectral_bans_sleap.pkl\".format(OUTPUT_PREFIX)"
   ]
  },
  {
   "cell_type": "markdown",
   "metadata": {
    "cell_id": "e3ee4891d43a4ac287413afc552ca289",
    "deepnote_cell_type": "text-cell-h2",
    "formattedRanges": []
   },
   "source": [
    "## Outputs"
   ]
  },
  {
   "cell_type": "markdown",
   "metadata": {
    "cell_id": "9ccbf6cc70fd4d379fa29317f733771f",
    "deepnote_cell_type": "text-cell-p",
    "formattedRanges": []
   },
   "source": [
    "Describe each output that the notebook creates. "
   ]
  },
  {
   "cell_type": "markdown",
   "metadata": {
    "cell_id": "fc8e8920a6944918a15fac575cdf6e78",
    "deepnote_cell_type": "text-cell-bullet",
    "formattedRanges": []
   },
   "source": [
    "- Is it a plot or is it data?"
   ]
  },
  {
   "cell_type": "markdown",
   "metadata": {
    "cell_id": "1e639d4776a84aa9ac8ded2e14fa57db",
    "deepnote_cell_type": "text-cell-bullet",
    "formattedRanges": []
   },
   "source": [
    "- How valuable is the output and why is it valuable or useful?"
   ]
  },
  {
   "cell_type": "markdown",
   "metadata": {},
   "source": [
    "## Functions "
   ]
  },
  {
   "cell_type": "markdown",
   "metadata": {
    "cell_id": "8999d19b6b7d4d63bc90f0b0bd9ab085",
    "deepnote_cell_type": "text-cell-h2",
    "formattedRanges": []
   },
   "source": [
    "## Processing"
   ]
  },
  {
   "cell_type": "markdown",
   "metadata": {
    "cell_id": "9b36cdf08567463082b005cb0dec684b",
    "deepnote_cell_type": "text-cell-p",
    "formattedRanges": []
   },
   "source": [
    "Describe what is done to the data here and how inputs are manipulated to generate outputs. "
   ]
  },
  {
   "cell_type": "code",
   "execution_count": 19,
   "metadata": {
    "cell_id": "89aaba237c644628b1b37604b75e7cb1",
    "deepnote_cell_type": "code",
    "tags": []
   },
   "outputs": [],
   "source": [
    "# As much code and as many cells as required\n",
    "# includes EDA and playing with data\n",
    "# GO HAM!\n",
    "\n",
    "# Ideally functions are defined here first and then data is processed using the functions\n",
    "\n",
    "# function names are short and in snake case all lowercase\n",
    "# a function name should be unique but does not have to describe the function\n",
    "# doc strings describe functions not function names\n",
    "\n",
    "\n"
   ]
  },
  {
   "cell_type": "code",
   "execution_count": 20,
   "metadata": {
    "tags": []
   },
   "outputs": [
    {
     "data": {
      "text/plain": [
       "Index(['video_name', 'current_subject', 'frame_index', 'tone_start_frame',\n",
       "       'tone_stop_frame', 'condition ', 'competition_closeness', 'notes',\n",
       "       '10s_before_tone_frame', '10s_after_tone_frame',\n",
       "       ...\n",
       "       'vHPC_lfp_RMS_filtered', 'vHPC_lfp_trace',\n",
       "       'vHPC_mPFC_granger_all_frequencies_all_windows',\n",
       "       'vHPC_power_all_frequencies_all_windows', 'vHPC_power_gamma',\n",
       "       'vHPC_power_theta', 'vHPC_theta_band', 'vHPC_theta_phase',\n",
       "       'video_timestamps', 'cluster_timestamp'],\n",
       "      dtype='object', length=201)"
      ]
     },
     "execution_count": 20,
     "metadata": {},
     "output_type": "execute_result"
    }
   ],
   "source": [
    "LFP_SPECTRAL_DF.columns"
   ]
  },
  {
   "cell_type": "code",
   "execution_count": 21,
   "metadata": {
    "scrolled": true,
    "tags": []
   },
   "outputs": [
    {
     "data": {
      "text/plain": [
       "Index(['Unnamed: 0', 'session_dir', 'tone_start_frame', 'reward_start',\n",
       "       'reward_dispensed', 'tone_stop_frame', 'condition ',\n",
       "       'competition_closeness', 'get_reward_frame', 'out_reward_frame',\n",
       "       'notes', 'experiment', 'box_1_port_entry_frames',\n",
       "       'box_2_port_entry_frames', 'video_name', 'all_subjects',\n",
       "       'first_timestamp', 'last_timestamp', 'tone_start_timestamp',\n",
       "       'tone_stop_timestamp', 'box_1_port_entry_timestamps',\n",
       "       'box_2_port_entry_timestamps'],\n",
       "      dtype='object')"
      ]
     },
     "execution_count": 21,
     "metadata": {},
     "output_type": "execute_result"
    }
   ],
   "source": [
    "TRIAL_LABELS_DF.columns"
   ]
  },
  {
   "cell_type": "markdown",
   "metadata": {},
   "source": [
    "## Merging the labels and LFP spectral"
   ]
  },
  {
   "cell_type": "code",
   "execution_count": 22,
   "metadata": {
    "tags": []
   },
   "outputs": [
    {
     "data": {
      "text/html": [
       "<div>\n",
       "<style scoped>\n",
       "    .dataframe tbody tr th:only-of-type {\n",
       "        vertical-align: middle;\n",
       "    }\n",
       "\n",
       "    .dataframe tbody tr th {\n",
       "        vertical-align: top;\n",
       "    }\n",
       "\n",
       "    .dataframe thead th {\n",
       "        text-align: right;\n",
       "    }\n",
       "</style>\n",
       "<table border=\"1\" class=\"dataframe\">\n",
       "  <thead>\n",
       "    <tr style=\"text-align: right;\">\n",
       "      <th></th>\n",
       "      <th>Unnamed: 0</th>\n",
       "      <th>session_dir</th>\n",
       "      <th>tone_start_frame</th>\n",
       "      <th>reward_start</th>\n",
       "      <th>reward_dispensed</th>\n",
       "      <th>tone_stop_frame</th>\n",
       "      <th>condition</th>\n",
       "      <th>competition_closeness</th>\n",
       "      <th>get_reward_frame</th>\n",
       "      <th>out_reward_frame</th>\n",
       "      <th>...</th>\n",
       "      <th>box_1_port_entry_frames</th>\n",
       "      <th>box_2_port_entry_frames</th>\n",
       "      <th>video_name</th>\n",
       "      <th>all_subjects</th>\n",
       "      <th>first_timestamp</th>\n",
       "      <th>last_timestamp</th>\n",
       "      <th>tone_start_timestamp</th>\n",
       "      <th>tone_stop_timestamp</th>\n",
       "      <th>box_1_port_entry_timestamps</th>\n",
       "      <th>box_2_port_entry_timestamps</th>\n",
       "    </tr>\n",
       "  </thead>\n",
       "  <tbody>\n",
       "    <tr>\n",
       "      <th>0</th>\n",
       "      <td>0.0</td>\n",
       "      <td>20240320_142408_alone_comp_subj_3-1_and_3-3</td>\n",
       "      <td>0.0</td>\n",
       "      <td>80</td>\n",
       "      <td>100.0</td>\n",
       "      <td>74.0</td>\n",
       "      <td>NaN</td>\n",
       "      <td>NaN</td>\n",
       "      <td>NaN</td>\n",
       "      <td>NaN</td>\n",
       "      <td>...</td>\n",
       "      <td>[ 0 74]</td>\n",
       "      <td>[ 0 74]</td>\n",
       "      <td>20240320_142408_alone_comp_subj_3-1_and_3-3.1....</td>\n",
       "      <td>['3.1', '3.3']</td>\n",
       "      <td>1830734.0</td>\n",
       "      <td>65425515.0</td>\n",
       "      <td>0.0</td>\n",
       "      <td>75474.0</td>\n",
       "      <td>[    0 75474]</td>\n",
       "      <td>[    0 75474]</td>\n",
       "    </tr>\n",
       "    <tr>\n",
       "      <th>1</th>\n",
       "      <td>0.0</td>\n",
       "      <td>20240320_142408_alone_comp_subj_3-1_and_3-3</td>\n",
       "      <td>1272.0</td>\n",
       "      <td>1352</td>\n",
       "      <td>1372.0</td>\n",
       "      <td>1471.0</td>\n",
       "      <td>NaN</td>\n",
       "      <td>NaN</td>\n",
       "      <td>NaN</td>\n",
       "      <td>NaN</td>\n",
       "      <td>...</td>\n",
       "      <td>[1282 1283] [1285 1297] [1326 1344] [1362 1509]</td>\n",
       "      <td>[1326 1328] [1331 1347] [1380 1592]</td>\n",
       "      <td>20240320_142408_alone_comp_subj_3-1_and_3-3.1....</td>\n",
       "      <td>['3.1', '3.3']</td>\n",
       "      <td>1830734.0</td>\n",
       "      <td>65425515.0</td>\n",
       "      <td>1275889.0</td>\n",
       "      <td>1475891.0</td>\n",
       "      <td>[1285888 1286688] [1287488 1300689] [1330286 1...</td>\n",
       "      <td>[1329489 1331487] [1334489 1350089] [1383490 1...</td>\n",
       "    </tr>\n",
       "    <tr>\n",
       "      <th>2</th>\n",
       "      <td>0.0</td>\n",
       "      <td>20240320_142408_alone_comp_subj_3-1_and_3-3</td>\n",
       "      <td>3268.0</td>\n",
       "      <td>3348</td>\n",
       "      <td>3368.0</td>\n",
       "      <td>3469.0</td>\n",
       "      <td>NaN</td>\n",
       "      <td>NaN</td>\n",
       "      <td>NaN</td>\n",
       "      <td>NaN</td>\n",
       "      <td>...</td>\n",
       "      <td>[3281 3324] [3324 3327] [3344 3347] [3347 3523]</td>\n",
       "      <td>[3327 3704]</td>\n",
       "      <td>20240320_142408_alone_comp_subj_3-1_and_3-3.1....</td>\n",
       "      <td>['3.1', '3.3']</td>\n",
       "      <td>1830734.0</td>\n",
       "      <td>65425515.0</td>\n",
       "      <td>3275911.0</td>\n",
       "      <td>3475914.0</td>\n",
       "      <td>[3287914 3330314] [3331114 3333712] [3351715 3...</td>\n",
       "      <td>[3333515 3712519]</td>\n",
       "    </tr>\n",
       "    <tr>\n",
       "      <th>3</th>\n",
       "      <td>0.0</td>\n",
       "      <td>20240320_142408_alone_comp_subj_3-1_and_3-3</td>\n",
       "      <td>4466.0</td>\n",
       "      <td>4546</td>\n",
       "      <td>4566.0</td>\n",
       "      <td>4667.0</td>\n",
       "      <td>NaN</td>\n",
       "      <td>NaN</td>\n",
       "      <td>NaN</td>\n",
       "      <td>NaN</td>\n",
       "      <td>...</td>\n",
       "      <td>[4441 4476] [4476 4489] [4508 4509] [4511 4534...</td>\n",
       "      <td>[4445 4473] [4494 4551] [4566 4830]</td>\n",
       "      <td>20240320_142408_alone_comp_subj_3-1_and_3-3.1....</td>\n",
       "      <td>['3.1', '3.3']</td>\n",
       "      <td>1830734.0</td>\n",
       "      <td>65425515.0</td>\n",
       "      <td>4475927.0</td>\n",
       "      <td>4675931.0</td>\n",
       "      <td>[4450528 4485129] [4485929 4497529] [4516929 4...</td>\n",
       "      <td>[4454926 4483129] [4503531 4560730] [4575330 4...</td>\n",
       "    </tr>\n",
       "    <tr>\n",
       "      <th>4</th>\n",
       "      <td>0.0</td>\n",
       "      <td>20240320_142408_alone_comp_subj_3-1_and_3-3</td>\n",
       "      <td>5465.0</td>\n",
       "      <td>5545</td>\n",
       "      <td>5565.0</td>\n",
       "      <td>5664.0</td>\n",
       "      <td>NaN</td>\n",
       "      <td>NaN</td>\n",
       "      <td>NaN</td>\n",
       "      <td>NaN</td>\n",
       "      <td>...</td>\n",
       "      <td>[5483 5512] [5552 5698]</td>\n",
       "      <td>[5455 5486] [5581 5794]</td>\n",
       "      <td>20240320_142408_alone_comp_subj_3-1_and_3-3.1....</td>\n",
       "      <td>['3.1', '3.3']</td>\n",
       "      <td>1830734.0</td>\n",
       "      <td>65425515.0</td>\n",
       "      <td>5475942.0</td>\n",
       "      <td>5675942.0</td>\n",
       "      <td>[5493742 5523542] [5563742 5709147]</td>\n",
       "      <td>[5466941 5496741] [5592343 5806546]</td>\n",
       "    </tr>\n",
       "  </tbody>\n",
       "</table>\n",
       "<p>5 rows × 22 columns</p>\n",
       "</div>"
      ],
      "text/plain": [
       "   Unnamed: 0                                  session_dir  tone_start_frame  \\\n",
       "0         0.0  20240320_142408_alone_comp_subj_3-1_and_3-3               0.0   \n",
       "1         0.0  20240320_142408_alone_comp_subj_3-1_and_3-3            1272.0   \n",
       "2         0.0  20240320_142408_alone_comp_subj_3-1_and_3-3            3268.0   \n",
       "3         0.0  20240320_142408_alone_comp_subj_3-1_and_3-3            4466.0   \n",
       "4         0.0  20240320_142408_alone_comp_subj_3-1_and_3-3            5465.0   \n",
       "\n",
       "   reward_start  reward_dispensed  tone_stop_frame condition   \\\n",
       "0            80             100.0             74.0        NaN   \n",
       "1          1352            1372.0           1471.0        NaN   \n",
       "2          3348            3368.0           3469.0        NaN   \n",
       "3          4546            4566.0           4667.0        NaN   \n",
       "4          5545            5565.0           5664.0        NaN   \n",
       "\n",
       "  competition_closeness  get_reward_frame  out_reward_frame  ...  \\\n",
       "0                   NaN               NaN               NaN  ...   \n",
       "1                   NaN               NaN               NaN  ...   \n",
       "2                   NaN               NaN               NaN  ...   \n",
       "3                   NaN               NaN               NaN  ...   \n",
       "4                   NaN               NaN               NaN  ...   \n",
       "\n",
       "                             box_1_port_entry_frames  \\\n",
       "0                                            [ 0 74]   \n",
       "1    [1282 1283] [1285 1297] [1326 1344] [1362 1509]   \n",
       "2    [3281 3324] [3324 3327] [3344 3347] [3347 3523]   \n",
       "3  [4441 4476] [4476 4489] [4508 4509] [4511 4534...   \n",
       "4                            [5483 5512] [5552 5698]   \n",
       "\n",
       "               box_2_port_entry_frames  \\\n",
       "0                              [ 0 74]   \n",
       "1  [1326 1328] [1331 1347] [1380 1592]   \n",
       "2                          [3327 3704]   \n",
       "3  [4445 4473] [4494 4551] [4566 4830]   \n",
       "4              [5455 5486] [5581 5794]   \n",
       "\n",
       "                                          video_name    all_subjects  \\\n",
       "0  20240320_142408_alone_comp_subj_3-1_and_3-3.1....  ['3.1', '3.3']   \n",
       "1  20240320_142408_alone_comp_subj_3-1_and_3-3.1....  ['3.1', '3.3']   \n",
       "2  20240320_142408_alone_comp_subj_3-1_and_3-3.1....  ['3.1', '3.3']   \n",
       "3  20240320_142408_alone_comp_subj_3-1_and_3-3.1....  ['3.1', '3.3']   \n",
       "4  20240320_142408_alone_comp_subj_3-1_and_3-3.1....  ['3.1', '3.3']   \n",
       "\n",
       "  first_timestamp last_timestamp  tone_start_timestamp  tone_stop_timestamp  \\\n",
       "0       1830734.0     65425515.0                   0.0              75474.0   \n",
       "1       1830734.0     65425515.0             1275889.0            1475891.0   \n",
       "2       1830734.0     65425515.0             3275911.0            3475914.0   \n",
       "3       1830734.0     65425515.0             4475927.0            4675931.0   \n",
       "4       1830734.0     65425515.0             5475942.0            5675942.0   \n",
       "\n",
       "                         box_1_port_entry_timestamps  \\\n",
       "0                                      [    0 75474]   \n",
       "1  [1285888 1286688] [1287488 1300689] [1330286 1...   \n",
       "2  [3287914 3330314] [3331114 3333712] [3351715 3...   \n",
       "3  [4450528 4485129] [4485929 4497529] [4516929 4...   \n",
       "4                [5493742 5523542] [5563742 5709147]   \n",
       "\n",
       "                         box_2_port_entry_timestamps  \n",
       "0                                      [    0 75474]  \n",
       "1  [1329489 1331487] [1334489 1350089] [1383490 1...  \n",
       "2                                  [3333515 3712519]  \n",
       "3  [4454926 4483129] [4503531 4560730] [4575330 4...  \n",
       "4                [5466941 5496741] [5592343 5806546]  \n",
       "\n",
       "[5 rows x 22 columns]"
      ]
     },
     "execution_count": 22,
     "metadata": {},
     "output_type": "execute_result"
    }
   ],
   "source": [
    "TRIAL_LABELS_DF.head()"
   ]
  },
  {
   "cell_type": "code",
   "execution_count": 23,
   "metadata": {
    "tags": []
   },
   "outputs": [
    {
     "data": {
      "text/html": [
       "<div>\n",
       "<style scoped>\n",
       "    .dataframe tbody tr th:only-of-type {\n",
       "        vertical-align: middle;\n",
       "    }\n",
       "\n",
       "    .dataframe tbody tr th {\n",
       "        vertical-align: top;\n",
       "    }\n",
       "\n",
       "    .dataframe thead th {\n",
       "        text-align: right;\n",
       "    }\n",
       "</style>\n",
       "<table border=\"1\" class=\"dataframe\">\n",
       "  <thead>\n",
       "    <tr style=\"text-align: right;\">\n",
       "      <th></th>\n",
       "      <th>video_name</th>\n",
       "      <th>current_subject</th>\n",
       "      <th>frame_index</th>\n",
       "      <th>tone_start_frame</th>\n",
       "      <th>tone_stop_frame</th>\n",
       "      <th>condition</th>\n",
       "      <th>competition_closeness</th>\n",
       "      <th>notes</th>\n",
       "      <th>10s_before_tone_frame</th>\n",
       "      <th>10s_after_tone_frame</th>\n",
       "      <th>...</th>\n",
       "      <th>vHPC_lfp_RMS_filtered</th>\n",
       "      <th>vHPC_lfp_trace</th>\n",
       "      <th>vHPC_mPFC_granger_all_frequencies_all_windows</th>\n",
       "      <th>vHPC_power_all_frequencies_all_windows</th>\n",
       "      <th>vHPC_power_gamma</th>\n",
       "      <th>vHPC_power_theta</th>\n",
       "      <th>vHPC_theta_band</th>\n",
       "      <th>vHPC_theta_phase</th>\n",
       "      <th>video_timestamps</th>\n",
       "      <th>cluster_timestamp</th>\n",
       "    </tr>\n",
       "  </thead>\n",
       "  <tbody>\n",
       "    <tr>\n",
       "      <th>0</th>\n",
       "      <td>20240320_171038_alone_comp_subj_4-2_and_4-3.1</td>\n",
       "      <td>4.2</td>\n",
       "      <td>[34042, 34043, 34044, 34045, 34046, 34047, 340...</td>\n",
       "      <td>[34242, 34242, 34242, 34242, 34242, 34242, 342...</td>\n",
       "      <td>[34442, 34442, 34442, 34442, 34442, 34442, 344...</td>\n",
       "      <td>[4.3, 4.3, 4.3, 4.3, 4.3, 4.3, 4.3, 4.3, 4.3, ...</td>\n",
       "      <td>[After trial, After trial, After trial, After ...</td>\n",
       "      <td>[nan, nan, nan, nan, nan, nan, nan, nan, nan, ...</td>\n",
       "      <td>[34042, 34042, 34042, 34042, 34042, 34042, 340...</td>\n",
       "      <td>[34642, 34642, 34642, 34642, 34642, 34642, 346...</td>\n",
       "      <td>...</td>\n",
       "      <td>[-0.375, -0.569, -0.786, -0.974, -1.335, -1.65...</td>\n",
       "      <td>[-74.685, -113.49, -156.78, -194.21999, -266.1...</td>\n",
       "      <td>[[nan, nan, nan, nan, nan, nan, nan, nan, nan,...</td>\n",
       "      <td>[[0.0013803464, 0.0079310145, 0.009366615, 0.0...</td>\n",
       "      <td>[0.00366902, nan, nan, 0.002184509, 0.00216185...</td>\n",
       "      <td>[0.046842232, nan, nan, 0.023685867, 0.0444350...</td>\n",
       "      <td>[-0.37066078, -0.35752764, -0.3432352, -0.3277...</td>\n",
       "      <td>[2.7155704, -2.8761566, -2.806554, -2.548516, ...</td>\n",
       "      <td>[1384, 2770, 4156, 4156, 5541, 6927, 6927, 831...</td>\n",
       "      <td>[34079916, 34081302, 34082688, 34084074, 34084...</td>\n",
       "    </tr>\n",
       "    <tr>\n",
       "      <th>1</th>\n",
       "      <td>20240320_171038_alone_comp_subj_4-2_and_4-3.1</td>\n",
       "      <td>4.3</td>\n",
       "      <td>[34042, 34043, 34044, 34045, 34046, 34047, 340...</td>\n",
       "      <td>[34242, 34242, 34242, 34242, 34242, 34242, 342...</td>\n",
       "      <td>[34442, 34442, 34442, 34442, 34442, 34442, 344...</td>\n",
       "      <td>[4.3, 4.3, 4.3, 4.3, 4.3, 4.3, 4.3, 4.3, 4.3, ...</td>\n",
       "      <td>[After trial, After trial, After trial, After ...</td>\n",
       "      <td>[nan, nan, nan, nan, nan, nan, nan, nan, nan, ...</td>\n",
       "      <td>[34042, 34042, 34042, 34042, 34042, 34042, 340...</td>\n",
       "      <td>[34642, 34642, 34642, 34642, 34642, 34642, 346...</td>\n",
       "      <td>...</td>\n",
       "      <td>[0.254, 0.382, 0.505, 0.664, 0.985, 0.99, 0.61...</td>\n",
       "      <td>[53.234997, 80.145, 106.079994, 139.42499, 206...</td>\n",
       "      <td>[[2.7552054, 1.5484817, 2.318468, 0.67259854, ...</td>\n",
       "      <td>[[0.001118467, 0.0013452128, 0.009780567, 0.01...</td>\n",
       "      <td>[0.0017462745, 0.0017710698, 0.0011198351, 0.0...</td>\n",
       "      <td>[0.031059334, 0.026878728, 0.018851878, 0.0271...</td>\n",
       "      <td>[0.49282554, 0.4864071, 0.47833988, 0.46862525...</td>\n",
       "      <td>[-0.7696023, -0.28357738, -0.24996911, 0.00574...</td>\n",
       "      <td>[1384, 2770, 4156, 4156, 5541, 6927, 6927, 831...</td>\n",
       "      <td>[34079916, 34081302, 34082688, 34084074, 34084...</td>\n",
       "    </tr>\n",
       "    <tr>\n",
       "      <th>2</th>\n",
       "      <td>20240322_120625_alone_comp_subj_3-3_and_3-4.1</td>\n",
       "      <td>3.3</td>\n",
       "      <td>[34069, 34070, 34071, 34072, 34073, 34074, 340...</td>\n",
       "      <td>[34269, 34269, 34269, 34269, 34269, 34269, 342...</td>\n",
       "      <td>[34468, 34468, 34468, 34468, 34468, 34468, 344...</td>\n",
       "      <td>[3.4, 3.4, 3.4, 3.4, 3.4, 3.4, 3.4, 3.4, 3.4, ...</td>\n",
       "      <td>[Subj 1 then Subj 2, Subj 1 then Subj 2, Subj ...</td>\n",
       "      <td>[nan, nan, nan, nan, nan, nan, nan, nan, nan, ...</td>\n",
       "      <td>[34069, 34069, 34069, 34069, 34069, 34069, 340...</td>\n",
       "      <td>[34668, 34668, 34668, 34668, 34668, 34668, 346...</td>\n",
       "      <td>...</td>\n",
       "      <td>[0.027, -0.017, -0.073, -0.221, -0.433, -0.49,...</td>\n",
       "      <td>[3.5099998, -2.145, -9.36, -28.275, -55.379997...</td>\n",
       "      <td>[[0.009626778, 0.042104572, 0.26073232, 0.0171...</td>\n",
       "      <td>[[0.032633882, 0.034465823, 0.037538365, 0.026...</td>\n",
       "      <td>[0.0021949317, 0.0022116762, 0.0016394572, nan...</td>\n",
       "      <td>[0.03049053, 0.017763153, 0.024036832, nan, na...</td>\n",
       "      <td>[0.20751306, 0.24045162, 0.27310878, 0.3053482...</td>\n",
       "      <td>[-1.2177873, -1.0926981, -1.0485686, -0.963749...</td>\n",
       "      <td>[1384, 1983, 2770, 4156, 5541, 5541, 6927, 831...</td>\n",
       "      <td>[34103476, 34104862, 34106248, 34106248, 34107...</td>\n",
       "    </tr>\n",
       "    <tr>\n",
       "      <th>3</th>\n",
       "      <td>20240322_120625_alone_comp_subj_3-3_and_3-4.1</td>\n",
       "      <td>3.4</td>\n",
       "      <td>[34069, 34070, 34071, 34072, 34073, 34074, 340...</td>\n",
       "      <td>[34269, 34269, 34269, 34269, 34269, 34269, 342...</td>\n",
       "      <td>[34468, 34468, 34468, 34468, 34468, 34468, 344...</td>\n",
       "      <td>[3.4, 3.4, 3.4, 3.4, 3.4, 3.4, 3.4, 3.4, 3.4, ...</td>\n",
       "      <td>[Subj 1 then Subj 2, Subj 1 then Subj 2, Subj ...</td>\n",
       "      <td>[nan, nan, nan, nan, nan, nan, nan, nan, nan, ...</td>\n",
       "      <td>[34069, 34069, 34069, 34069, 34069, 34069, 340...</td>\n",
       "      <td>[34668, 34668, 34668, 34668, 34668, 34668, 346...</td>\n",
       "      <td>...</td>\n",
       "      <td>[0.032, -0.283, 0.276, 0.578, -0.641, -0.791, ...</td>\n",
       "      <td>[3.705, -32.37, 31.589998, 66.104996, -73.32, ...</td>\n",
       "      <td>[[nan, nan, nan, nan, nan, nan, nan, nan, nan,...</td>\n",
       "      <td>[[0.040690776, 0.03892651, 0.032306284, 0.0133...</td>\n",
       "      <td>[0.002786819, 0.0025729614, 0.0028866376, 0.00...</td>\n",
       "      <td>[0.0126365535, 0.011473266, 0.015836226, 0.026...</td>\n",
       "      <td>[0.491885, 0.4842932, 0.47509313, 0.4642877, 0...</td>\n",
       "      <td>[-0.773838, -0.28928056, -0.25523737, 0.002492...</td>\n",
       "      <td>[1384, 1983, 2770, 4156, 5541, 5541, 6927, 831...</td>\n",
       "      <td>[34103476, 34104862, 34106248, 34106248, 34107...</td>\n",
       "    </tr>\n",
       "    <tr>\n",
       "      <th>4</th>\n",
       "      <td>20240322_160946_alone_comp_subj_4-3_and_4-4.1</td>\n",
       "      <td>4.3</td>\n",
       "      <td>[34063, 34064, 34065, 34066, 34067, 34068, 340...</td>\n",
       "      <td>[34263, 34263, 34263, 34263, 34263, 34263, 342...</td>\n",
       "      <td>[34462, 34462, 34462, 34462, 34462, 34462, 344...</td>\n",
       "      <td>[4.3, 4.3, 4.3, 4.3, 4.3, 4.3, 4.3, 4.3, 4.3, ...</td>\n",
       "      <td>[Subj 1 blocking Subj 2, Subj 1 blocking Subj ...</td>\n",
       "      <td>[4.3 got reward at 34433, 4.3 got reward at 34...</td>\n",
       "      <td>[34063, 34063, 34063, 34063, 34063, 34063, 340...</td>\n",
       "      <td>[34662, 34662, 34662, 34662, 34662, 34662, 346...</td>\n",
       "      <td>...</td>\n",
       "      <td>[0.68, 0.704, 0.693, 0.66, 0.634, 0.541, 0.443...</td>\n",
       "      <td>[145.47, 150.735, 148.2, 141.18, 135.72, 115.8...</td>\n",
       "      <td>[[0.7224885, 0.7782183, 0.75218856, 2.2805634,...</td>\n",
       "      <td>[[0.018642105, 0.014985245, 0.071603484, 0.088...</td>\n",
       "      <td>[0.0014527348, 0.0017514509, 0.0017265382, 0.0...</td>\n",
       "      <td>[0.04934767, 0.043050382, 0.04412556, 0.046400...</td>\n",
       "      <td>[-0.3856073, -0.4121907, -0.43901566, -0.46598...</td>\n",
       "      <td>[2.0593038, 2.2542338, 2.277145, 2.384784, 2.4...</td>\n",
       "      <td>[1384, 1384, 2769, 4155, 5214, 5541, 6927, 831...</td>\n",
       "      <td>[34096547, 34097933, 34098977, 34099318, 34100...</td>\n",
       "    </tr>\n",
       "  </tbody>\n",
       "</table>\n",
       "<p>5 rows × 201 columns</p>\n",
       "</div>"
      ],
      "text/plain": [
       "                                      video_name current_subject  \\\n",
       "0  20240320_171038_alone_comp_subj_4-2_and_4-3.1             4.2   \n",
       "1  20240320_171038_alone_comp_subj_4-2_and_4-3.1             4.3   \n",
       "2  20240322_120625_alone_comp_subj_3-3_and_3-4.1             3.3   \n",
       "3  20240322_120625_alone_comp_subj_3-3_and_3-4.1             3.4   \n",
       "4  20240322_160946_alone_comp_subj_4-3_and_4-4.1             4.3   \n",
       "\n",
       "                                         frame_index  \\\n",
       "0  [34042, 34043, 34044, 34045, 34046, 34047, 340...   \n",
       "1  [34042, 34043, 34044, 34045, 34046, 34047, 340...   \n",
       "2  [34069, 34070, 34071, 34072, 34073, 34074, 340...   \n",
       "3  [34069, 34070, 34071, 34072, 34073, 34074, 340...   \n",
       "4  [34063, 34064, 34065, 34066, 34067, 34068, 340...   \n",
       "\n",
       "                                    tone_start_frame  \\\n",
       "0  [34242, 34242, 34242, 34242, 34242, 34242, 342...   \n",
       "1  [34242, 34242, 34242, 34242, 34242, 34242, 342...   \n",
       "2  [34269, 34269, 34269, 34269, 34269, 34269, 342...   \n",
       "3  [34269, 34269, 34269, 34269, 34269, 34269, 342...   \n",
       "4  [34263, 34263, 34263, 34263, 34263, 34263, 342...   \n",
       "\n",
       "                                     tone_stop_frame  \\\n",
       "0  [34442, 34442, 34442, 34442, 34442, 34442, 344...   \n",
       "1  [34442, 34442, 34442, 34442, 34442, 34442, 344...   \n",
       "2  [34468, 34468, 34468, 34468, 34468, 34468, 344...   \n",
       "3  [34468, 34468, 34468, 34468, 34468, 34468, 344...   \n",
       "4  [34462, 34462, 34462, 34462, 34462, 34462, 344...   \n",
       "\n",
       "                                          condition   \\\n",
       "0  [4.3, 4.3, 4.3, 4.3, 4.3, 4.3, 4.3, 4.3, 4.3, ...   \n",
       "1  [4.3, 4.3, 4.3, 4.3, 4.3, 4.3, 4.3, 4.3, 4.3, ...   \n",
       "2  [3.4, 3.4, 3.4, 3.4, 3.4, 3.4, 3.4, 3.4, 3.4, ...   \n",
       "3  [3.4, 3.4, 3.4, 3.4, 3.4, 3.4, 3.4, 3.4, 3.4, ...   \n",
       "4  [4.3, 4.3, 4.3, 4.3, 4.3, 4.3, 4.3, 4.3, 4.3, ...   \n",
       "\n",
       "                               competition_closeness  \\\n",
       "0  [After trial, After trial, After trial, After ...   \n",
       "1  [After trial, After trial, After trial, After ...   \n",
       "2  [Subj 1 then Subj 2, Subj 1 then Subj 2, Subj ...   \n",
       "3  [Subj 1 then Subj 2, Subj 1 then Subj 2, Subj ...   \n",
       "4  [Subj 1 blocking Subj 2, Subj 1 blocking Subj ...   \n",
       "\n",
       "                                               notes  \\\n",
       "0  [nan, nan, nan, nan, nan, nan, nan, nan, nan, ...   \n",
       "1  [nan, nan, nan, nan, nan, nan, nan, nan, nan, ...   \n",
       "2  [nan, nan, nan, nan, nan, nan, nan, nan, nan, ...   \n",
       "3  [nan, nan, nan, nan, nan, nan, nan, nan, nan, ...   \n",
       "4  [4.3 got reward at 34433, 4.3 got reward at 34...   \n",
       "\n",
       "                               10s_before_tone_frame  \\\n",
       "0  [34042, 34042, 34042, 34042, 34042, 34042, 340...   \n",
       "1  [34042, 34042, 34042, 34042, 34042, 34042, 340...   \n",
       "2  [34069, 34069, 34069, 34069, 34069, 34069, 340...   \n",
       "3  [34069, 34069, 34069, 34069, 34069, 34069, 340...   \n",
       "4  [34063, 34063, 34063, 34063, 34063, 34063, 340...   \n",
       "\n",
       "                                10s_after_tone_frame  ...  \\\n",
       "0  [34642, 34642, 34642, 34642, 34642, 34642, 346...  ...   \n",
       "1  [34642, 34642, 34642, 34642, 34642, 34642, 346...  ...   \n",
       "2  [34668, 34668, 34668, 34668, 34668, 34668, 346...  ...   \n",
       "3  [34668, 34668, 34668, 34668, 34668, 34668, 346...  ...   \n",
       "4  [34662, 34662, 34662, 34662, 34662, 34662, 346...  ...   \n",
       "\n",
       "                               vHPC_lfp_RMS_filtered  \\\n",
       "0  [-0.375, -0.569, -0.786, -0.974, -1.335, -1.65...   \n",
       "1  [0.254, 0.382, 0.505, 0.664, 0.985, 0.99, 0.61...   \n",
       "2  [0.027, -0.017, -0.073, -0.221, -0.433, -0.49,...   \n",
       "3  [0.032, -0.283, 0.276, 0.578, -0.641, -0.791, ...   \n",
       "4  [0.68, 0.704, 0.693, 0.66, 0.634, 0.541, 0.443...   \n",
       "\n",
       "                                      vHPC_lfp_trace  \\\n",
       "0  [-74.685, -113.49, -156.78, -194.21999, -266.1...   \n",
       "1  [53.234997, 80.145, 106.079994, 139.42499, 206...   \n",
       "2  [3.5099998, -2.145, -9.36, -28.275, -55.379997...   \n",
       "3  [3.705, -32.37, 31.589998, 66.104996, -73.32, ...   \n",
       "4  [145.47, 150.735, 148.2, 141.18, 135.72, 115.8...   \n",
       "\n",
       "       vHPC_mPFC_granger_all_frequencies_all_windows  \\\n",
       "0  [[nan, nan, nan, nan, nan, nan, nan, nan, nan,...   \n",
       "1  [[2.7552054, 1.5484817, 2.318468, 0.67259854, ...   \n",
       "2  [[0.009626778, 0.042104572, 0.26073232, 0.0171...   \n",
       "3  [[nan, nan, nan, nan, nan, nan, nan, nan, nan,...   \n",
       "4  [[0.7224885, 0.7782183, 0.75218856, 2.2805634,...   \n",
       "\n",
       "              vHPC_power_all_frequencies_all_windows  \\\n",
       "0  [[0.0013803464, 0.0079310145, 0.009366615, 0.0...   \n",
       "1  [[0.001118467, 0.0013452128, 0.009780567, 0.01...   \n",
       "2  [[0.032633882, 0.034465823, 0.037538365, 0.026...   \n",
       "3  [[0.040690776, 0.03892651, 0.032306284, 0.0133...   \n",
       "4  [[0.018642105, 0.014985245, 0.071603484, 0.088...   \n",
       "\n",
       "                                    vHPC_power_gamma  \\\n",
       "0  [0.00366902, nan, nan, 0.002184509, 0.00216185...   \n",
       "1  [0.0017462745, 0.0017710698, 0.0011198351, 0.0...   \n",
       "2  [0.0021949317, 0.0022116762, 0.0016394572, nan...   \n",
       "3  [0.002786819, 0.0025729614, 0.0028866376, 0.00...   \n",
       "4  [0.0014527348, 0.0017514509, 0.0017265382, 0.0...   \n",
       "\n",
       "                                    vHPC_power_theta  \\\n",
       "0  [0.046842232, nan, nan, 0.023685867, 0.0444350...   \n",
       "1  [0.031059334, 0.026878728, 0.018851878, 0.0271...   \n",
       "2  [0.03049053, 0.017763153, 0.024036832, nan, na...   \n",
       "3  [0.0126365535, 0.011473266, 0.015836226, 0.026...   \n",
       "4  [0.04934767, 0.043050382, 0.04412556, 0.046400...   \n",
       "\n",
       "                                     vHPC_theta_band  \\\n",
       "0  [-0.37066078, -0.35752764, -0.3432352, -0.3277...   \n",
       "1  [0.49282554, 0.4864071, 0.47833988, 0.46862525...   \n",
       "2  [0.20751306, 0.24045162, 0.27310878, 0.3053482...   \n",
       "3  [0.491885, 0.4842932, 0.47509313, 0.4642877, 0...   \n",
       "4  [-0.3856073, -0.4121907, -0.43901566, -0.46598...   \n",
       "\n",
       "                                    vHPC_theta_phase  \\\n",
       "0  [2.7155704, -2.8761566, -2.806554, -2.548516, ...   \n",
       "1  [-0.7696023, -0.28357738, -0.24996911, 0.00574...   \n",
       "2  [-1.2177873, -1.0926981, -1.0485686, -0.963749...   \n",
       "3  [-0.773838, -0.28928056, -0.25523737, 0.002492...   \n",
       "4  [2.0593038, 2.2542338, 2.277145, 2.384784, 2.4...   \n",
       "\n",
       "                                    video_timestamps  \\\n",
       "0  [1384, 2770, 4156, 4156, 5541, 6927, 6927, 831...   \n",
       "1  [1384, 2770, 4156, 4156, 5541, 6927, 6927, 831...   \n",
       "2  [1384, 1983, 2770, 4156, 5541, 5541, 6927, 831...   \n",
       "3  [1384, 1983, 2770, 4156, 5541, 5541, 6927, 831...   \n",
       "4  [1384, 1384, 2769, 4155, 5214, 5541, 6927, 831...   \n",
       "\n",
       "                                   cluster_timestamp  \n",
       "0  [34079916, 34081302, 34082688, 34084074, 34084...  \n",
       "1  [34079916, 34081302, 34082688, 34084074, 34084...  \n",
       "2  [34103476, 34104862, 34106248, 34106248, 34107...  \n",
       "3  [34103476, 34104862, 34106248, 34106248, 34107...  \n",
       "4  [34096547, 34097933, 34098977, 34099318, 34100...  \n",
       "\n",
       "[5 rows x 201 columns]"
      ]
     },
     "execution_count": 23,
     "metadata": {},
     "output_type": "execute_result"
    }
   ],
   "source": [
    "LFP_SPECTRAL_DF.head()"
   ]
  },
  {
   "cell_type": "markdown",
   "metadata": {},
   "source": [
    "# Dropping redundant columns"
   ]
  },
  {
   "cell_type": "code",
   "execution_count": 24,
   "metadata": {
    "tags": []
   },
   "outputs": [],
   "source": [
    "dropping_columns = list(set(TRIAL_LABELS_DF.columns).intersection(set(LFP_SPECTRAL_DF.columns)))"
   ]
  },
  {
   "cell_type": "code",
   "execution_count": 25,
   "metadata": {
    "tags": []
   },
   "outputs": [
    {
     "data": {
      "text/plain": [
       "['first_timestamp',\n",
       " 'video_name',\n",
       " 'notes',\n",
       " 'tone_start_frame',\n",
       " 'box_2_port_entry_timestamps',\n",
       " 'box_2_port_entry_frames',\n",
       " 'competition_closeness',\n",
       " 'experiment',\n",
       " 'all_subjects',\n",
       " 'session_dir',\n",
       " 'box_1_port_entry_frames',\n",
       " 'box_1_port_entry_timestamps',\n",
       " 'last_timestamp',\n",
       " 'tone_stop_frame',\n",
       " 'condition ']"
      ]
     },
     "execution_count": 25,
     "metadata": {},
     "output_type": "execute_result"
    }
   ],
   "source": [
    "dropping_columns"
   ]
  },
  {
   "cell_type": "code",
   "execution_count": 26,
   "metadata": {
    "tags": []
   },
   "outputs": [],
   "source": [
    "dropping_columns = ['tone_start_frame', 'tone_stop_frame', 'condition ', 'notes', 'competition_closeness', '10s_before_tone_frame', '10s_after_tone_frame']"
   ]
  },
  {
   "cell_type": "code",
   "execution_count": 27,
   "metadata": {
    "tags": []
   },
   "outputs": [],
   "source": [
    "LFP_SPECTRAL_DF = LFP_SPECTRAL_DF.drop(columns=dropping_columns, errors=\"ignore\")"
   ]
  },
  {
   "cell_type": "code",
   "execution_count": 28,
   "metadata": {
    "tags": []
   },
   "outputs": [],
   "source": [
    "dropping_columns = list(set(TRIAL_LABELS_DF.columns).intersection(set(LFP_SPECTRAL_DF.columns)))"
   ]
  },
  {
   "cell_type": "code",
   "execution_count": 29,
   "metadata": {
    "tags": []
   },
   "outputs": [
    {
     "data": {
      "text/plain": [
       "2067718"
      ]
     },
     "execution_count": 29,
     "metadata": {},
     "output_type": "execute_result"
    }
   ],
   "source": [
    "LFP_SPECTRAL_DF[\"first_timestamp\"].iloc[0]"
   ]
  },
  {
   "cell_type": "code",
   "execution_count": 30,
   "metadata": {
    "tags": []
   },
   "outputs": [
    {
     "data": {
      "text/plain": [
       "['first_timestamp',\n",
       " 'video_name',\n",
       " 'box_2_port_entry_frames',\n",
       " 'box_2_port_entry_timestamps',\n",
       " 'experiment',\n",
       " 'all_subjects',\n",
       " 'session_dir',\n",
       " 'box_1_port_entry_frames',\n",
       " 'box_1_port_entry_timestamps',\n",
       " 'last_timestamp']"
      ]
     },
     "execution_count": 30,
     "metadata": {},
     "output_type": "execute_result"
    }
   ],
   "source": [
    "dropping_columns"
   ]
  },
  {
   "cell_type": "code",
   "execution_count": 31,
   "metadata": {
    "tags": []
   },
   "outputs": [],
   "source": [
    "dropping_columns = ['experiment',\n",
    "                    'box_1_port_entry_frames'\n",
    "                    'box_1_port_entry_timestamps'\n",
    "                    'box_2_port_entry_frames'\n",
    "                    'box_2_port_entry_timestamps',\n",
    "                    'session_dir',\n",
    "                    'all_subjects',\n",
    "                    'first_timestamp',\n",
    "                    'last_timestamp']\n"
   ]
  },
  {
   "cell_type": "code",
   "execution_count": 32,
   "metadata": {
    "tags": []
   },
   "outputs": [],
   "source": [
    "TRIAL_LABELS_DF = TRIAL_LABELS_DF.drop(columns=dropping_columns, errors=\"ignore\")"
   ]
  },
  {
   "cell_type": "markdown",
   "metadata": {},
   "source": [
    "## Merging the LFP and trial dataframe"
   ]
  },
  {
   "cell_type": "code",
   "execution_count": 33,
   "metadata": {
    "tags": []
   },
   "outputs": [],
   "source": [
    "LFP_SPECTRAL_DF[\"video_name\"] = LFP_SPECTRAL_DF[\"video_name\"].apply(lambda x: x.strip(\".videoTimeStamps.cameraHWSync\"))"
   ]
  },
  {
   "cell_type": "code",
   "execution_count": 34,
   "metadata": {
    "tags": []
   },
   "outputs": [],
   "source": [
    "LFP_SPECTRAL_DF[\"current_subject\"] = LFP_SPECTRAL_DF[\"current_subject\"].astype(str)\n"
   ]
  },
  {
   "cell_type": "code",
   "execution_count": 35,
   "metadata": {
    "tags": []
   },
   "outputs": [],
   "source": [
    "TRIAL_LABELS_DF = TRIAL_LABELS_DF.dropna(subset=[\"video_name\"])"
   ]
  },
  {
   "cell_type": "code",
   "execution_count": 36,
   "metadata": {
    "tags": []
   },
   "outputs": [],
   "source": [
    "TRIAL_LABELS_DF = TRIAL_LABELS_DF.dropna(subset=[\"condition \"])"
   ]
  },
  {
   "cell_type": "code",
   "execution_count": 37,
   "metadata": {
    "tags": []
   },
   "outputs": [],
   "source": [
    "TRIAL_LABELS_DF[\"video_name\"] = TRIAL_LABELS_DF[\"video_name\"].apply(lambda x: x.strip(\".videoTimeStamps.cameraHWSync\"))\n"
   ]
  },
  {
   "cell_type": "code",
   "execution_count": 38,
   "metadata": {
    "tags": []
   },
   "outputs": [
    {
     "data": {
      "text/plain": [
       "array(['20240320_142408_alone_comp_subj_3-1_and_3-3.1',\n",
       "       '20240320_171038_alone_comp_subj_4-2_and_4-3.1',\n",
       "       '20240322_120625_alone_comp_subj_3-3_and_3-4.1',\n",
       "       '20240322_160946_alone_comp_subj_4-3_and_4-4.1',\n",
       "       '20240323_122227_alone_comp_subj_5-2_and_5-3.1',\n",
       "       '20240323_144517_alone_comp_subj_3-1_and_3-4.1',\n",
       "       '20240323_165815_alone_comp_subj_4-2_and_4-4.1'], dtype=object)"
      ]
     },
     "execution_count": 38,
     "metadata": {},
     "output_type": "execute_result"
    }
   ],
   "source": [
    "TRIAL_LABELS_DF[\"video_name\"].unique()"
   ]
  },
  {
   "cell_type": "code",
   "execution_count": 39,
   "metadata": {
    "tags": []
   },
   "outputs": [
    {
     "data": {
      "text/plain": [
       "array(['20240320_171038_alone_comp_subj_4-2_and_4-3.1',\n",
       "       '20240322_120625_alone_comp_subj_3-3_and_3-4.1',\n",
       "       '20240322_160946_alone_comp_subj_4-3_and_4-4.1',\n",
       "       '20240323_144517_alone_comp_subj_3-1_and_3-4.1',\n",
       "       '20240323_165815_alone_comp_subj_4-2_and_4-4.1'], dtype=object)"
      ]
     },
     "execution_count": 39,
     "metadata": {},
     "output_type": "execute_result"
    }
   ],
   "source": [
    "LFP_SPECTRAL_DF[\"video_name\"].unique()"
   ]
  },
  {
   "cell_type": "code",
   "execution_count": 40,
   "metadata": {
    "tags": []
   },
   "outputs": [],
   "source": [
    "TRIALS_AND_SPECTRAL_DF = pd.merge(TRIAL_LABELS_DF, LFP_SPECTRAL_DF, on=[\"video_name\"], how=\"inner\", suffixes=('', '_remove'))"
   ]
  },
  {
   "cell_type": "code",
   "execution_count": 41,
   "metadata": {
    "tags": []
   },
   "outputs": [
    {
     "data": {
      "text/html": [
       "<div>\n",
       "<style scoped>\n",
       "    .dataframe tbody tr th:only-of-type {\n",
       "        vertical-align: middle;\n",
       "    }\n",
       "\n",
       "    .dataframe tbody tr th {\n",
       "        vertical-align: top;\n",
       "    }\n",
       "\n",
       "    .dataframe thead th {\n",
       "        text-align: right;\n",
       "    }\n",
       "</style>\n",
       "<table border=\"1\" class=\"dataframe\">\n",
       "  <thead>\n",
       "    <tr style=\"text-align: right;\">\n",
       "      <th></th>\n",
       "      <th>box_1_port_entry_frames_remove</th>\n",
       "      <th>box_1_port_entry_timestamps_remove</th>\n",
       "      <th>box_2_port_entry_frames_remove</th>\n",
       "      <th>box_2_port_entry_timestamps_remove</th>\n",
       "    </tr>\n",
       "  </thead>\n",
       "  <tbody>\n",
       "    <tr>\n",
       "      <th>0</th>\n",
       "      <td>[[0, 79], [84, 92], [92, 132], [145, 175], [25...</td>\n",
       "      <td>[[0, 79744], [85741, 92941], [93544, 134344], ...</td>\n",
       "      <td>[[0, 79], [79, 186], [188, 191], [191, 268], [...</td>\n",
       "      <td>[[0, 79744], [80141, 188142], [188942, 191545]...</td>\n",
       "    </tr>\n",
       "    <tr>\n",
       "      <th>1</th>\n",
       "      <td>[[0, 79], [84, 92], [92, 132], [145, 175], [25...</td>\n",
       "      <td>[[0, 79744], [85741, 92941], [93544, 134344], ...</td>\n",
       "      <td>[[0, 79], [79, 186], [188, 191], [191, 268], [...</td>\n",
       "      <td>[[0, 79744], [80141, 188142], [188942, 191545]...</td>\n",
       "    </tr>\n",
       "    <tr>\n",
       "      <th>2</th>\n",
       "      <td>[[0, 79], [84, 92], [92, 132], [145, 175], [25...</td>\n",
       "      <td>[[0, 79744], [85741, 92941], [93544, 134344], ...</td>\n",
       "      <td>[[0, 79], [79, 186], [188, 191], [191, 268], [...</td>\n",
       "      <td>[[0, 79744], [80141, 188142], [188942, 191545]...</td>\n",
       "    </tr>\n",
       "    <tr>\n",
       "      <th>3</th>\n",
       "      <td>[[0, 79], [84, 92], [92, 132], [145, 175], [25...</td>\n",
       "      <td>[[0, 79744], [85741, 92941], [93544, 134344], ...</td>\n",
       "      <td>[[0, 79], [79, 186], [188, 191], [191, 268], [...</td>\n",
       "      <td>[[0, 79744], [80141, 188142], [188942, 191545]...</td>\n",
       "    </tr>\n",
       "    <tr>\n",
       "      <th>4</th>\n",
       "      <td>[[0, 79], [84, 92], [92, 132], [145, 175], [25...</td>\n",
       "      <td>[[0, 79744], [85741, 92941], [93544, 134344], ...</td>\n",
       "      <td>[[0, 79], [79, 186], [188, 191], [191, 268], [...</td>\n",
       "      <td>[[0, 79744], [80141, 188142], [188942, 191545]...</td>\n",
       "    </tr>\n",
       "  </tbody>\n",
       "</table>\n",
       "</div>"
      ],
      "text/plain": [
       "                      box_1_port_entry_frames_remove  \\\n",
       "0  [[0, 79], [84, 92], [92, 132], [145, 175], [25...   \n",
       "1  [[0, 79], [84, 92], [92, 132], [145, 175], [25...   \n",
       "2  [[0, 79], [84, 92], [92, 132], [145, 175], [25...   \n",
       "3  [[0, 79], [84, 92], [92, 132], [145, 175], [25...   \n",
       "4  [[0, 79], [84, 92], [92, 132], [145, 175], [25...   \n",
       "\n",
       "                  box_1_port_entry_timestamps_remove  \\\n",
       "0  [[0, 79744], [85741, 92941], [93544, 134344], ...   \n",
       "1  [[0, 79744], [85741, 92941], [93544, 134344], ...   \n",
       "2  [[0, 79744], [85741, 92941], [93544, 134344], ...   \n",
       "3  [[0, 79744], [85741, 92941], [93544, 134344], ...   \n",
       "4  [[0, 79744], [85741, 92941], [93544, 134344], ...   \n",
       "\n",
       "                      box_2_port_entry_frames_remove  \\\n",
       "0  [[0, 79], [79, 186], [188, 191], [191, 268], [...   \n",
       "1  [[0, 79], [79, 186], [188, 191], [191, 268], [...   \n",
       "2  [[0, 79], [79, 186], [188, 191], [191, 268], [...   \n",
       "3  [[0, 79], [79, 186], [188, 191], [191, 268], [...   \n",
       "4  [[0, 79], [79, 186], [188, 191], [191, 268], [...   \n",
       "\n",
       "                  box_2_port_entry_timestamps_remove  \n",
       "0  [[0, 79744], [80141, 188142], [188942, 191545]...  \n",
       "1  [[0, 79744], [80141, 188142], [188942, 191545]...  \n",
       "2  [[0, 79744], [80141, 188142], [188942, 191545]...  \n",
       "3  [[0, 79744], [80141, 188142], [188942, 191545]...  \n",
       "4  [[0, 79744], [80141, 188142], [188942, 191545]...  "
      ]
     },
     "execution_count": 41,
     "metadata": {},
     "output_type": "execute_result"
    }
   ],
   "source": [
    "TRIALS_AND_SPECTRAL_DF[[col for col in TRIALS_AND_SPECTRAL_DF if \"_remove\" in col]].head()"
   ]
  },
  {
   "cell_type": "code",
   "execution_count": 42,
   "metadata": {
    "tags": []
   },
   "outputs": [],
   "source": [
    "TRIALS_AND_SPECTRAL_DF = TRIALS_AND_SPECTRAL_DF.drop(columns=[col for col in TRIALS_AND_SPECTRAL_DF if \"remove\" in col], errors=\"ignore\")"
   ]
  },
  {
   "cell_type": "code",
   "execution_count": 43,
   "metadata": {
    "tags": []
   },
   "outputs": [],
   "source": [
    "TRIALS_AND_SPECTRAL_DF = TRIALS_AND_SPECTRAL_DF.drop(columns=[col for col in TRIALS_AND_SPECTRAL_DF if \"Unnamed\" in col])"
   ]
  },
  {
   "cell_type": "code",
   "execution_count": 44,
   "metadata": {
    "tags": []
   },
   "outputs": [
    {
     "data": {
      "text/html": [
       "<div>\n",
       "<style scoped>\n",
       "    .dataframe tbody tr th:only-of-type {\n",
       "        vertical-align: middle;\n",
       "    }\n",
       "\n",
       "    .dataframe tbody tr th {\n",
       "        vertical-align: top;\n",
       "    }\n",
       "\n",
       "    .dataframe thead th {\n",
       "        text-align: right;\n",
       "    }\n",
       "</style>\n",
       "<table border=\"1\" class=\"dataframe\">\n",
       "  <thead>\n",
       "    <tr style=\"text-align: right;\">\n",
       "      <th></th>\n",
       "      <th>tone_start_frame</th>\n",
       "      <th>reward_start</th>\n",
       "      <th>reward_dispensed</th>\n",
       "      <th>tone_stop_frame</th>\n",
       "      <th>condition</th>\n",
       "      <th>competition_closeness</th>\n",
       "      <th>get_reward_frame</th>\n",
       "      <th>out_reward_frame</th>\n",
       "      <th>notes</th>\n",
       "      <th>box_1_port_entry_frames</th>\n",
       "      <th>...</th>\n",
       "      <th>vHPC_lfp_RMS_filtered</th>\n",
       "      <th>vHPC_lfp_trace</th>\n",
       "      <th>vHPC_mPFC_granger_all_frequencies_all_windows</th>\n",
       "      <th>vHPC_power_all_frequencies_all_windows</th>\n",
       "      <th>vHPC_power_gamma</th>\n",
       "      <th>vHPC_power_theta</th>\n",
       "      <th>vHPC_theta_band</th>\n",
       "      <th>vHPC_theta_phase</th>\n",
       "      <th>video_timestamps</th>\n",
       "      <th>cluster_timestamp</th>\n",
       "    </tr>\n",
       "  </thead>\n",
       "  <tbody>\n",
       "    <tr>\n",
       "      <th>0</th>\n",
       "      <td>34242.0</td>\n",
       "      <td>34322</td>\n",
       "      <td>34342.0</td>\n",
       "      <td>34442.0</td>\n",
       "      <td>4.3</td>\n",
       "      <td>After trial</td>\n",
       "      <td>NaN</td>\n",
       "      <td>NaN</td>\n",
       "      <td>NaN</td>\n",
       "      <td>[34250 34265]</td>\n",
       "      <td>...</td>\n",
       "      <td>[-0.375, -0.569, -0.786, -0.974, -1.335, -1.65...</td>\n",
       "      <td>[-74.685, -113.49, -156.78, -194.21999, -266.1...</td>\n",
       "      <td>[[nan, nan, nan, nan, nan, nan, nan, nan, nan,...</td>\n",
       "      <td>[[0.0013803464, 0.0079310145, 0.009366615, 0.0...</td>\n",
       "      <td>[0.00366902, nan, nan, 0.002184509, 0.00216185...</td>\n",
       "      <td>[0.046842232, nan, nan, 0.023685867, 0.0444350...</td>\n",
       "      <td>[-0.37066078, -0.35752764, -0.3432352, -0.3277...</td>\n",
       "      <td>[2.7155704, -2.8761566, -2.806554, -2.548516, ...</td>\n",
       "      <td>[1384, 2770, 4156, 4156, 5541, 6927, 6927, 831...</td>\n",
       "      <td>[34079916, 34081302, 34082688, 34084074, 34084...</td>\n",
       "    </tr>\n",
       "    <tr>\n",
       "      <th>1</th>\n",
       "      <td>34242.0</td>\n",
       "      <td>34322</td>\n",
       "      <td>34342.0</td>\n",
       "      <td>34442.0</td>\n",
       "      <td>4.3</td>\n",
       "      <td>After trial</td>\n",
       "      <td>NaN</td>\n",
       "      <td>NaN</td>\n",
       "      <td>NaN</td>\n",
       "      <td>[34250 34265]</td>\n",
       "      <td>...</td>\n",
       "      <td>[0.254, 0.382, 0.505, 0.664, 0.985, 0.99, 0.61...</td>\n",
       "      <td>[53.234997, 80.145, 106.079994, 139.42499, 206...</td>\n",
       "      <td>[[2.7552054, 1.5484817, 2.318468, 0.67259854, ...</td>\n",
       "      <td>[[0.001118467, 0.0013452128, 0.009780567, 0.01...</td>\n",
       "      <td>[0.0017462745, 0.0017710698, 0.0011198351, 0.0...</td>\n",
       "      <td>[0.031059334, 0.026878728, 0.018851878, 0.0271...</td>\n",
       "      <td>[0.49282554, 0.4864071, 0.47833988, 0.46862525...</td>\n",
       "      <td>[-0.7696023, -0.28357738, -0.24996911, 0.00574...</td>\n",
       "      <td>[1384, 2770, 4156, 4156, 5541, 6927, 6927, 831...</td>\n",
       "      <td>[34079916, 34081302, 34082688, 34084074, 34084...</td>\n",
       "    </tr>\n",
       "    <tr>\n",
       "      <th>2</th>\n",
       "      <td>35241.0</td>\n",
       "      <td>35321</td>\n",
       "      <td>35341.0</td>\n",
       "      <td>35439.0</td>\n",
       "      <td>4.3</td>\n",
       "      <td>Subj 2 Only</td>\n",
       "      <td>NaN</td>\n",
       "      <td>NaN</td>\n",
       "      <td>NaN</td>\n",
       "      <td>[35242 35249] [35249 35250] [35250 35271] [353...</td>\n",
       "      <td>...</td>\n",
       "      <td>[-0.375, -0.569, -0.786, -0.974, -1.335, -1.65...</td>\n",
       "      <td>[-74.685, -113.49, -156.78, -194.21999, -266.1...</td>\n",
       "      <td>[[nan, nan, nan, nan, nan, nan, nan, nan, nan,...</td>\n",
       "      <td>[[0.0013803464, 0.0079310145, 0.009366615, 0.0...</td>\n",
       "      <td>[0.00366902, nan, nan, 0.002184509, 0.00216185...</td>\n",
       "      <td>[0.046842232, nan, nan, 0.023685867, 0.0444350...</td>\n",
       "      <td>[-0.37066078, -0.35752764, -0.3432352, -0.3277...</td>\n",
       "      <td>[2.7155704, -2.8761566, -2.806554, -2.548516, ...</td>\n",
       "      <td>[1384, 2770, 4156, 4156, 5541, 6927, 6927, 831...</td>\n",
       "      <td>[34079916, 34081302, 34082688, 34084074, 34084...</td>\n",
       "    </tr>\n",
       "    <tr>\n",
       "      <th>3</th>\n",
       "      <td>35241.0</td>\n",
       "      <td>35321</td>\n",
       "      <td>35341.0</td>\n",
       "      <td>35439.0</td>\n",
       "      <td>4.3</td>\n",
       "      <td>Subj 2 Only</td>\n",
       "      <td>NaN</td>\n",
       "      <td>NaN</td>\n",
       "      <td>NaN</td>\n",
       "      <td>[35242 35249] [35249 35250] [35250 35271] [353...</td>\n",
       "      <td>...</td>\n",
       "      <td>[0.254, 0.382, 0.505, 0.664, 0.985, 0.99, 0.61...</td>\n",
       "      <td>[53.234997, 80.145, 106.079994, 139.42499, 206...</td>\n",
       "      <td>[[2.7552054, 1.5484817, 2.318468, 0.67259854, ...</td>\n",
       "      <td>[[0.001118467, 0.0013452128, 0.009780567, 0.01...</td>\n",
       "      <td>[0.0017462745, 0.0017710698, 0.0011198351, 0.0...</td>\n",
       "      <td>[0.031059334, 0.026878728, 0.018851878, 0.0271...</td>\n",
       "      <td>[0.49282554, 0.4864071, 0.47833988, 0.46862525...</td>\n",
       "      <td>[-0.7696023, -0.28357738, -0.24996911, 0.00574...</td>\n",
       "      <td>[1384, 2770, 4156, 4156, 5541, 6927, 6927, 831...</td>\n",
       "      <td>[34079916, 34081302, 34082688, 34084074, 34084...</td>\n",
       "    </tr>\n",
       "    <tr>\n",
       "      <th>4</th>\n",
       "      <td>36339.0</td>\n",
       "      <td>36419</td>\n",
       "      <td>36439.0</td>\n",
       "      <td>36538.0</td>\n",
       "      <td>4.3</td>\n",
       "      <td>Subj 2 blocking Subj 1</td>\n",
       "      <td>NaN</td>\n",
       "      <td>NaN</td>\n",
       "      <td>NaN</td>\n",
       "      <td>[36339 36354] [36361 36365] [36410 36473] [364...</td>\n",
       "      <td>...</td>\n",
       "      <td>[-0.375, -0.569, -0.786, -0.974, -1.335, -1.65...</td>\n",
       "      <td>[-74.685, -113.49, -156.78, -194.21999, -266.1...</td>\n",
       "      <td>[[nan, nan, nan, nan, nan, nan, nan, nan, nan,...</td>\n",
       "      <td>[[0.0013803464, 0.0079310145, 0.009366615, 0.0...</td>\n",
       "      <td>[0.00366902, nan, nan, 0.002184509, 0.00216185...</td>\n",
       "      <td>[0.046842232, nan, nan, 0.023685867, 0.0444350...</td>\n",
       "      <td>[-0.37066078, -0.35752764, -0.3432352, -0.3277...</td>\n",
       "      <td>[2.7155704, -2.8761566, -2.806554, -2.548516, ...</td>\n",
       "      <td>[1384, 2770, 4156, 4156, 5541, 6927, 6927, 831...</td>\n",
       "      <td>[34079916, 34081302, 34082688, 34084074, 34084...</td>\n",
       "    </tr>\n",
       "  </tbody>\n",
       "</table>\n",
       "<p>5 rows × 205 columns</p>\n",
       "</div>"
      ],
      "text/plain": [
       "   tone_start_frame  reward_start  reward_dispensed  tone_stop_frame  \\\n",
       "0           34242.0         34322           34342.0          34442.0   \n",
       "1           34242.0         34322           34342.0          34442.0   \n",
       "2           35241.0         35321           35341.0          35439.0   \n",
       "3           35241.0         35321           35341.0          35439.0   \n",
       "4           36339.0         36419           36439.0          36538.0   \n",
       "\n",
       "  condition    competition_closeness  get_reward_frame  out_reward_frame  \\\n",
       "0        4.3             After trial               NaN               NaN   \n",
       "1        4.3             After trial               NaN               NaN   \n",
       "2        4.3             Subj 2 Only               NaN               NaN   \n",
       "3        4.3             Subj 2 Only               NaN               NaN   \n",
       "4        4.3  Subj 2 blocking Subj 1               NaN               NaN   \n",
       "\n",
       "  notes                            box_1_port_entry_frames  ...  \\\n",
       "0   NaN                                      [34250 34265]  ...   \n",
       "1   NaN                                      [34250 34265]  ...   \n",
       "2   NaN  [35242 35249] [35249 35250] [35250 35271] [353...  ...   \n",
       "3   NaN  [35242 35249] [35249 35250] [35250 35271] [353...  ...   \n",
       "4   NaN  [36339 36354] [36361 36365] [36410 36473] [364...  ...   \n",
       "\n",
       "                               vHPC_lfp_RMS_filtered  \\\n",
       "0  [-0.375, -0.569, -0.786, -0.974, -1.335, -1.65...   \n",
       "1  [0.254, 0.382, 0.505, 0.664, 0.985, 0.99, 0.61...   \n",
       "2  [-0.375, -0.569, -0.786, -0.974, -1.335, -1.65...   \n",
       "3  [0.254, 0.382, 0.505, 0.664, 0.985, 0.99, 0.61...   \n",
       "4  [-0.375, -0.569, -0.786, -0.974, -1.335, -1.65...   \n",
       "\n",
       "                                      vHPC_lfp_trace  \\\n",
       "0  [-74.685, -113.49, -156.78, -194.21999, -266.1...   \n",
       "1  [53.234997, 80.145, 106.079994, 139.42499, 206...   \n",
       "2  [-74.685, -113.49, -156.78, -194.21999, -266.1...   \n",
       "3  [53.234997, 80.145, 106.079994, 139.42499, 206...   \n",
       "4  [-74.685, -113.49, -156.78, -194.21999, -266.1...   \n",
       "\n",
       "       vHPC_mPFC_granger_all_frequencies_all_windows  \\\n",
       "0  [[nan, nan, nan, nan, nan, nan, nan, nan, nan,...   \n",
       "1  [[2.7552054, 1.5484817, 2.318468, 0.67259854, ...   \n",
       "2  [[nan, nan, nan, nan, nan, nan, nan, nan, nan,...   \n",
       "3  [[2.7552054, 1.5484817, 2.318468, 0.67259854, ...   \n",
       "4  [[nan, nan, nan, nan, nan, nan, nan, nan, nan,...   \n",
       "\n",
       "              vHPC_power_all_frequencies_all_windows  \\\n",
       "0  [[0.0013803464, 0.0079310145, 0.009366615, 0.0...   \n",
       "1  [[0.001118467, 0.0013452128, 0.009780567, 0.01...   \n",
       "2  [[0.0013803464, 0.0079310145, 0.009366615, 0.0...   \n",
       "3  [[0.001118467, 0.0013452128, 0.009780567, 0.01...   \n",
       "4  [[0.0013803464, 0.0079310145, 0.009366615, 0.0...   \n",
       "\n",
       "                                    vHPC_power_gamma  \\\n",
       "0  [0.00366902, nan, nan, 0.002184509, 0.00216185...   \n",
       "1  [0.0017462745, 0.0017710698, 0.0011198351, 0.0...   \n",
       "2  [0.00366902, nan, nan, 0.002184509, 0.00216185...   \n",
       "3  [0.0017462745, 0.0017710698, 0.0011198351, 0.0...   \n",
       "4  [0.00366902, nan, nan, 0.002184509, 0.00216185...   \n",
       "\n",
       "                                    vHPC_power_theta  \\\n",
       "0  [0.046842232, nan, nan, 0.023685867, 0.0444350...   \n",
       "1  [0.031059334, 0.026878728, 0.018851878, 0.0271...   \n",
       "2  [0.046842232, nan, nan, 0.023685867, 0.0444350...   \n",
       "3  [0.031059334, 0.026878728, 0.018851878, 0.0271...   \n",
       "4  [0.046842232, nan, nan, 0.023685867, 0.0444350...   \n",
       "\n",
       "                                     vHPC_theta_band  \\\n",
       "0  [-0.37066078, -0.35752764, -0.3432352, -0.3277...   \n",
       "1  [0.49282554, 0.4864071, 0.47833988, 0.46862525...   \n",
       "2  [-0.37066078, -0.35752764, -0.3432352, -0.3277...   \n",
       "3  [0.49282554, 0.4864071, 0.47833988, 0.46862525...   \n",
       "4  [-0.37066078, -0.35752764, -0.3432352, -0.3277...   \n",
       "\n",
       "                                    vHPC_theta_phase  \\\n",
       "0  [2.7155704, -2.8761566, -2.806554, -2.548516, ...   \n",
       "1  [-0.7696023, -0.28357738, -0.24996911, 0.00574...   \n",
       "2  [2.7155704, -2.8761566, -2.806554, -2.548516, ...   \n",
       "3  [-0.7696023, -0.28357738, -0.24996911, 0.00574...   \n",
       "4  [2.7155704, -2.8761566, -2.806554, -2.548516, ...   \n",
       "\n",
       "                                    video_timestamps  \\\n",
       "0  [1384, 2770, 4156, 4156, 5541, 6927, 6927, 831...   \n",
       "1  [1384, 2770, 4156, 4156, 5541, 6927, 6927, 831...   \n",
       "2  [1384, 2770, 4156, 4156, 5541, 6927, 6927, 831...   \n",
       "3  [1384, 2770, 4156, 4156, 5541, 6927, 6927, 831...   \n",
       "4  [1384, 2770, 4156, 4156, 5541, 6927, 6927, 831...   \n",
       "\n",
       "                                   cluster_timestamp  \n",
       "0  [34079916, 34081302, 34082688, 34084074, 34084...  \n",
       "1  [34079916, 34081302, 34082688, 34084074, 34084...  \n",
       "2  [34079916, 34081302, 34082688, 34084074, 34084...  \n",
       "3  [34079916, 34081302, 34082688, 34084074, 34084...  \n",
       "4  [34079916, 34081302, 34082688, 34084074, 34084...  \n",
       "\n",
       "[5 rows x 205 columns]"
      ]
     },
     "execution_count": 44,
     "metadata": {},
     "output_type": "execute_result"
    }
   ],
   "source": [
    "TRIALS_AND_SPECTRAL_DF.head()"
   ]
  },
  {
   "cell_type": "code",
   "execution_count": 45,
   "metadata": {
    "tags": []
   },
   "outputs": [
    {
     "data": {
      "text/html": [
       "<div>\n",
       "<style scoped>\n",
       "    .dataframe tbody tr th:only-of-type {\n",
       "        vertical-align: middle;\n",
       "    }\n",
       "\n",
       "    .dataframe tbody tr th {\n",
       "        vertical-align: top;\n",
       "    }\n",
       "\n",
       "    .dataframe thead th {\n",
       "        text-align: right;\n",
       "    }\n",
       "</style>\n",
       "<table border=\"1\" class=\"dataframe\">\n",
       "  <thead>\n",
       "    <tr style=\"text-align: right;\">\n",
       "      <th></th>\n",
       "      <th>tone_start_frame</th>\n",
       "      <th>reward_start</th>\n",
       "      <th>reward_dispensed</th>\n",
       "      <th>tone_stop_frame</th>\n",
       "      <th>condition</th>\n",
       "      <th>competition_closeness</th>\n",
       "      <th>get_reward_frame</th>\n",
       "      <th>out_reward_frame</th>\n",
       "      <th>notes</th>\n",
       "      <th>box_1_port_entry_frames</th>\n",
       "      <th>...</th>\n",
       "      <th>vHPC_lfp_RMS_filtered</th>\n",
       "      <th>vHPC_lfp_trace</th>\n",
       "      <th>vHPC_mPFC_granger_all_frequencies_all_windows</th>\n",
       "      <th>vHPC_power_all_frequencies_all_windows</th>\n",
       "      <th>vHPC_power_gamma</th>\n",
       "      <th>vHPC_power_theta</th>\n",
       "      <th>vHPC_theta_band</th>\n",
       "      <th>vHPC_theta_phase</th>\n",
       "      <th>video_timestamps</th>\n",
       "      <th>cluster_timestamp</th>\n",
       "    </tr>\n",
       "  </thead>\n",
       "  <tbody>\n",
       "    <tr>\n",
       "      <th>201</th>\n",
       "      <td>57880.0</td>\n",
       "      <td>57960</td>\n",
       "      <td>57980.0</td>\n",
       "      <td>58079.0</td>\n",
       "      <td>4.4</td>\n",
       "      <td>Subj 2 then Subj 1</td>\n",
       "      <td>NaN</td>\n",
       "      <td>NaN</td>\n",
       "      <td>NaN</td>\n",
       "      <td>[57883 57894] [57896 57900] [57901 57909] [579...</td>\n",
       "      <td>...</td>\n",
       "      <td>[0.111, 0.066, -0.037, -0.128, -0.145, -0.126,...</td>\n",
       "      <td>[45.045, 26.91, -14.82, -51.675, -58.695, -51....</td>\n",
       "      <td>[[0.6611806, 0.2473011, 0.73096365, 0.5656533,...</td>\n",
       "      <td>[[0.00643258, 0.006992285, 0.0069811256, 0.004...</td>\n",
       "      <td>[0.00016188143, 0.0002133701, 0.00021314951, 0...</td>\n",
       "      <td>[0.007144761, 0.0037135014, 0.005482981, 0.006...</td>\n",
       "      <td>[-0.096212715, -0.10505088, -0.11372743, -0.12...</td>\n",
       "      <td>[2.032272, 2.214738, 2.247664, 2.3557777, 2.39...</td>\n",
       "      <td>[1384, 2515, 2770, 4156, 5542, 5542, 6927, 831...</td>\n",
       "      <td>[36182281, 36183667, 36183667, 36185052, 36186...</td>\n",
       "    </tr>\n",
       "    <tr>\n",
       "      <th>202</th>\n",
       "      <td>60077.0</td>\n",
       "      <td>60157</td>\n",
       "      <td>60177.0</td>\n",
       "      <td>60276.0</td>\n",
       "      <td>4.4</td>\n",
       "      <td>Subj 2 blocking Subj 1</td>\n",
       "      <td>NaN</td>\n",
       "      <td>NaN</td>\n",
       "      <td>4.2 just jumping around on the right side of port</td>\n",
       "      <td>[60070 60098] [60099 60101] [60103 60105] [601...</td>\n",
       "      <td>...</td>\n",
       "      <td>[-0.05, 0.038, 0.075, -0.063, -0.34, -0.729, -...</td>\n",
       "      <td>[-9.75, 7.41, 14.624999, -12.285, -66.299995, ...</td>\n",
       "      <td>[[1.095963, 0.27759162, 0.13746454, 0.27555922...</td>\n",
       "      <td>[[0.007860632, 0.0064592217, 0.006611264, 0.00...</td>\n",
       "      <td>[0.003164349, 0.0026817215, 0.002723993, 0.002...</td>\n",
       "      <td>[0.014044589, 0.025243934, 0.021230606, 0.0120...</td>\n",
       "      <td>[-0.16617914, -0.17804804, -0.18976012, -0.201...</td>\n",
       "      <td>[2.005712, 2.1644444, 2.1874144, 2.27717, 2.30...</td>\n",
       "      <td>[1384, 2515, 2770, 4156, 5542, 5542, 6927, 831...</td>\n",
       "      <td>[36182281, 36183667, 36183667, 36185052, 36186...</td>\n",
       "    </tr>\n",
       "    <tr>\n",
       "      <th>203</th>\n",
       "      <td>60077.0</td>\n",
       "      <td>60157</td>\n",
       "      <td>60177.0</td>\n",
       "      <td>60276.0</td>\n",
       "      <td>4.4</td>\n",
       "      <td>Subj 2 blocking Subj 1</td>\n",
       "      <td>NaN</td>\n",
       "      <td>NaN</td>\n",
       "      <td>4.2 just jumping around on the right side of port</td>\n",
       "      <td>[60070 60098] [60099 60101] [60103 60105] [601...</td>\n",
       "      <td>...</td>\n",
       "      <td>[0.111, 0.066, -0.037, -0.128, -0.145, -0.126,...</td>\n",
       "      <td>[45.045, 26.91, -14.82, -51.675, -58.695, -51....</td>\n",
       "      <td>[[0.6611806, 0.2473011, 0.73096365, 0.5656533,...</td>\n",
       "      <td>[[0.00643258, 0.006992285, 0.0069811256, 0.004...</td>\n",
       "      <td>[0.00016188143, 0.0002133701, 0.00021314951, 0...</td>\n",
       "      <td>[0.007144761, 0.0037135014, 0.005482981, 0.006...</td>\n",
       "      <td>[-0.096212715, -0.10505088, -0.11372743, -0.12...</td>\n",
       "      <td>[2.032272, 2.214738, 2.247664, 2.3557777, 2.39...</td>\n",
       "      <td>[1384, 2515, 2770, 4156, 5542, 5542, 6927, 831...</td>\n",
       "      <td>[36182281, 36183667, 36183667, 36185052, 36186...</td>\n",
       "    </tr>\n",
       "    <tr>\n",
       "      <th>204</th>\n",
       "      <td>61174.0</td>\n",
       "      <td>61254</td>\n",
       "      <td>61274.0</td>\n",
       "      <td>61375.0</td>\n",
       "      <td>tie</td>\n",
       "      <td>Close Call</td>\n",
       "      <td>NaN</td>\n",
       "      <td>NaN</td>\n",
       "      <td>NaN</td>\n",
       "      <td>[61188 61211] [61211 61214] [61214 61220] [612...</td>\n",
       "      <td>...</td>\n",
       "      <td>[-0.05, 0.038, 0.075, -0.063, -0.34, -0.729, -...</td>\n",
       "      <td>[-9.75, 7.41, 14.624999, -12.285, -66.299995, ...</td>\n",
       "      <td>[[1.095963, 0.27759162, 0.13746454, 0.27555922...</td>\n",
       "      <td>[[0.007860632, 0.0064592217, 0.006611264, 0.00...</td>\n",
       "      <td>[0.003164349, 0.0026817215, 0.002723993, 0.002...</td>\n",
       "      <td>[0.014044589, 0.025243934, 0.021230606, 0.0120...</td>\n",
       "      <td>[-0.16617914, -0.17804804, -0.18976012, -0.201...</td>\n",
       "      <td>[2.005712, 2.1644444, 2.1874144, 2.27717, 2.30...</td>\n",
       "      <td>[1384, 2515, 2770, 4156, 5542, 5542, 6927, 831...</td>\n",
       "      <td>[36182281, 36183667, 36183667, 36185052, 36186...</td>\n",
       "    </tr>\n",
       "    <tr>\n",
       "      <th>205</th>\n",
       "      <td>61174.0</td>\n",
       "      <td>61254</td>\n",
       "      <td>61274.0</td>\n",
       "      <td>61375.0</td>\n",
       "      <td>tie</td>\n",
       "      <td>Close Call</td>\n",
       "      <td>NaN</td>\n",
       "      <td>NaN</td>\n",
       "      <td>NaN</td>\n",
       "      <td>[61188 61211] [61211 61214] [61214 61220] [612...</td>\n",
       "      <td>...</td>\n",
       "      <td>[0.111, 0.066, -0.037, -0.128, -0.145, -0.126,...</td>\n",
       "      <td>[45.045, 26.91, -14.82, -51.675, -58.695, -51....</td>\n",
       "      <td>[[0.6611806, 0.2473011, 0.73096365, 0.5656533,...</td>\n",
       "      <td>[[0.00643258, 0.006992285, 0.0069811256, 0.004...</td>\n",
       "      <td>[0.00016188143, 0.0002133701, 0.00021314951, 0...</td>\n",
       "      <td>[0.007144761, 0.0037135014, 0.005482981, 0.006...</td>\n",
       "      <td>[-0.096212715, -0.10505088, -0.11372743, -0.12...</td>\n",
       "      <td>[2.032272, 2.214738, 2.247664, 2.3557777, 2.39...</td>\n",
       "      <td>[1384, 2515, 2770, 4156, 5542, 5542, 6927, 831...</td>\n",
       "      <td>[36182281, 36183667, 36183667, 36185052, 36186...</td>\n",
       "    </tr>\n",
       "  </tbody>\n",
       "</table>\n",
       "<p>5 rows × 205 columns</p>\n",
       "</div>"
      ],
      "text/plain": [
       "     tone_start_frame  reward_start  reward_dispensed  tone_stop_frame  \\\n",
       "201           57880.0         57960           57980.0          58079.0   \n",
       "202           60077.0         60157           60177.0          60276.0   \n",
       "203           60077.0         60157           60177.0          60276.0   \n",
       "204           61174.0         61254           61274.0          61375.0   \n",
       "205           61174.0         61254           61274.0          61375.0   \n",
       "\n",
       "    condition    competition_closeness  get_reward_frame  out_reward_frame  \\\n",
       "201        4.4      Subj 2 then Subj 1               NaN               NaN   \n",
       "202        4.4  Subj 2 blocking Subj 1               NaN               NaN   \n",
       "203        4.4  Subj 2 blocking Subj 1               NaN               NaN   \n",
       "204        tie              Close Call               NaN               NaN   \n",
       "205        tie              Close Call               NaN               NaN   \n",
       "\n",
       "                                                 notes  \\\n",
       "201                                                NaN   \n",
       "202  4.2 just jumping around on the right side of port   \n",
       "203  4.2 just jumping around on the right side of port   \n",
       "204                                                NaN   \n",
       "205                                                NaN   \n",
       "\n",
       "                               box_1_port_entry_frames  ...  \\\n",
       "201  [57883 57894] [57896 57900] [57901 57909] [579...  ...   \n",
       "202  [60070 60098] [60099 60101] [60103 60105] [601...  ...   \n",
       "203  [60070 60098] [60099 60101] [60103 60105] [601...  ...   \n",
       "204  [61188 61211] [61211 61214] [61214 61220] [612...  ...   \n",
       "205  [61188 61211] [61211 61214] [61214 61220] [612...  ...   \n",
       "\n",
       "                                 vHPC_lfp_RMS_filtered  \\\n",
       "201  [0.111, 0.066, -0.037, -0.128, -0.145, -0.126,...   \n",
       "202  [-0.05, 0.038, 0.075, -0.063, -0.34, -0.729, -...   \n",
       "203  [0.111, 0.066, -0.037, -0.128, -0.145, -0.126,...   \n",
       "204  [-0.05, 0.038, 0.075, -0.063, -0.34, -0.729, -...   \n",
       "205  [0.111, 0.066, -0.037, -0.128, -0.145, -0.126,...   \n",
       "\n",
       "                                        vHPC_lfp_trace  \\\n",
       "201  [45.045, 26.91, -14.82, -51.675, -58.695, -51....   \n",
       "202  [-9.75, 7.41, 14.624999, -12.285, -66.299995, ...   \n",
       "203  [45.045, 26.91, -14.82, -51.675, -58.695, -51....   \n",
       "204  [-9.75, 7.41, 14.624999, -12.285, -66.299995, ...   \n",
       "205  [45.045, 26.91, -14.82, -51.675, -58.695, -51....   \n",
       "\n",
       "         vHPC_mPFC_granger_all_frequencies_all_windows  \\\n",
       "201  [[0.6611806, 0.2473011, 0.73096365, 0.5656533,...   \n",
       "202  [[1.095963, 0.27759162, 0.13746454, 0.27555922...   \n",
       "203  [[0.6611806, 0.2473011, 0.73096365, 0.5656533,...   \n",
       "204  [[1.095963, 0.27759162, 0.13746454, 0.27555922...   \n",
       "205  [[0.6611806, 0.2473011, 0.73096365, 0.5656533,...   \n",
       "\n",
       "                vHPC_power_all_frequencies_all_windows  \\\n",
       "201  [[0.00643258, 0.006992285, 0.0069811256, 0.004...   \n",
       "202  [[0.007860632, 0.0064592217, 0.006611264, 0.00...   \n",
       "203  [[0.00643258, 0.006992285, 0.0069811256, 0.004...   \n",
       "204  [[0.007860632, 0.0064592217, 0.006611264, 0.00...   \n",
       "205  [[0.00643258, 0.006992285, 0.0069811256, 0.004...   \n",
       "\n",
       "                                      vHPC_power_gamma  \\\n",
       "201  [0.00016188143, 0.0002133701, 0.00021314951, 0...   \n",
       "202  [0.003164349, 0.0026817215, 0.002723993, 0.002...   \n",
       "203  [0.00016188143, 0.0002133701, 0.00021314951, 0...   \n",
       "204  [0.003164349, 0.0026817215, 0.002723993, 0.002...   \n",
       "205  [0.00016188143, 0.0002133701, 0.00021314951, 0...   \n",
       "\n",
       "                                      vHPC_power_theta  \\\n",
       "201  [0.007144761, 0.0037135014, 0.005482981, 0.006...   \n",
       "202  [0.014044589, 0.025243934, 0.021230606, 0.0120...   \n",
       "203  [0.007144761, 0.0037135014, 0.005482981, 0.006...   \n",
       "204  [0.014044589, 0.025243934, 0.021230606, 0.0120...   \n",
       "205  [0.007144761, 0.0037135014, 0.005482981, 0.006...   \n",
       "\n",
       "                                       vHPC_theta_band  \\\n",
       "201  [-0.096212715, -0.10505088, -0.11372743, -0.12...   \n",
       "202  [-0.16617914, -0.17804804, -0.18976012, -0.201...   \n",
       "203  [-0.096212715, -0.10505088, -0.11372743, -0.12...   \n",
       "204  [-0.16617914, -0.17804804, -0.18976012, -0.201...   \n",
       "205  [-0.096212715, -0.10505088, -0.11372743, -0.12...   \n",
       "\n",
       "                                      vHPC_theta_phase  \\\n",
       "201  [2.032272, 2.214738, 2.247664, 2.3557777, 2.39...   \n",
       "202  [2.005712, 2.1644444, 2.1874144, 2.27717, 2.30...   \n",
       "203  [2.032272, 2.214738, 2.247664, 2.3557777, 2.39...   \n",
       "204  [2.005712, 2.1644444, 2.1874144, 2.27717, 2.30...   \n",
       "205  [2.032272, 2.214738, 2.247664, 2.3557777, 2.39...   \n",
       "\n",
       "                                      video_timestamps  \\\n",
       "201  [1384, 2515, 2770, 4156, 5542, 5542, 6927, 831...   \n",
       "202  [1384, 2515, 2770, 4156, 5542, 5542, 6927, 831...   \n",
       "203  [1384, 2515, 2770, 4156, 5542, 5542, 6927, 831...   \n",
       "204  [1384, 2515, 2770, 4156, 5542, 5542, 6927, 831...   \n",
       "205  [1384, 2515, 2770, 4156, 5542, 5542, 6927, 831...   \n",
       "\n",
       "                                     cluster_timestamp  \n",
       "201  [36182281, 36183667, 36183667, 36185052, 36186...  \n",
       "202  [36182281, 36183667, 36183667, 36185052, 36186...  \n",
       "203  [36182281, 36183667, 36183667, 36185052, 36186...  \n",
       "204  [36182281, 36183667, 36183667, 36185052, 36186...  \n",
       "205  [36182281, 36183667, 36183667, 36185052, 36186...  \n",
       "\n",
       "[5 rows x 205 columns]"
      ]
     },
     "execution_count": 45,
     "metadata": {},
     "output_type": "execute_result"
    }
   ],
   "source": [
    "TRIALS_AND_SPECTRAL_DF.tail()"
   ]
  },
  {
   "cell_type": "code",
   "execution_count": 46,
   "metadata": {
    "tags": []
   },
   "outputs": [],
   "source": [
    "timestamps_col = [col for col in TRIALS_AND_SPECTRAL_DF if \"timestamp\" in col and \"timestamps\" not in col and \"cluster\" not in col]"
   ]
  },
  {
   "cell_type": "code",
   "execution_count": 47,
   "metadata": {
    "tags": []
   },
   "outputs": [],
   "source": [
    "for col in timestamps_col:\n",
    "    TRIALS_AND_SPECTRAL_DF[col] = TRIALS_AND_SPECTRAL_DF[col].astype(int)"
   ]
  },
  {
   "cell_type": "code",
   "execution_count": 48,
   "metadata": {
    "tags": []
   },
   "outputs": [
    {
     "data": {
      "text/html": [
       "<div>\n",
       "<style scoped>\n",
       "    .dataframe tbody tr th:only-of-type {\n",
       "        vertical-align: middle;\n",
       "    }\n",
       "\n",
       "    .dataframe tbody tr th {\n",
       "        vertical-align: top;\n",
       "    }\n",
       "\n",
       "    .dataframe thead th {\n",
       "        text-align: right;\n",
       "    }\n",
       "</style>\n",
       "<table border=\"1\" class=\"dataframe\">\n",
       "  <thead>\n",
       "    <tr style=\"text-align: right;\">\n",
       "      <th></th>\n",
       "      <th>tone_start_timestamp</th>\n",
       "      <th>tone_stop_timestamp</th>\n",
       "      <th>first_timestamp</th>\n",
       "      <th>last_timestamp</th>\n",
       "    </tr>\n",
       "  </thead>\n",
       "  <tbody>\n",
       "    <tr>\n",
       "      <th>0</th>\n",
       "      <td>34280576</td>\n",
       "      <td>34480576</td>\n",
       "      <td>2067718</td>\n",
       "      <td>66452444</td>\n",
       "    </tr>\n",
       "    <tr>\n",
       "      <th>1</th>\n",
       "      <td>34280576</td>\n",
       "      <td>34480576</td>\n",
       "      <td>2067718</td>\n",
       "      <td>66452444</td>\n",
       "    </tr>\n",
       "    <tr>\n",
       "      <th>2</th>\n",
       "      <td>35280586</td>\n",
       "      <td>35480585</td>\n",
       "      <td>2067718</td>\n",
       "      <td>66452444</td>\n",
       "    </tr>\n",
       "    <tr>\n",
       "      <th>3</th>\n",
       "      <td>35280586</td>\n",
       "      <td>35480585</td>\n",
       "      <td>2067718</td>\n",
       "      <td>66452444</td>\n",
       "    </tr>\n",
       "    <tr>\n",
       "      <th>4</th>\n",
       "      <td>36380600</td>\n",
       "      <td>36580602</td>\n",
       "      <td>2067718</td>\n",
       "      <td>66452444</td>\n",
       "    </tr>\n",
       "  </tbody>\n",
       "</table>\n",
       "</div>"
      ],
      "text/plain": [
       "   tone_start_timestamp  tone_stop_timestamp  first_timestamp  last_timestamp\n",
       "0              34280576             34480576          2067718        66452444\n",
       "1              34280576             34480576          2067718        66452444\n",
       "2              35280586             35480585          2067718        66452444\n",
       "3              35280586             35480585          2067718        66452444\n",
       "4              36380600             36580602          2067718        66452444"
      ]
     },
     "execution_count": 48,
     "metadata": {},
     "output_type": "execute_result"
    }
   ],
   "source": [
    "TRIALS_AND_SPECTRAL_DF[timestamps_col].head()"
   ]
  },
  {
   "cell_type": "markdown",
   "metadata": {},
   "source": [
    "# Calculating the relevant timestamps"
   ]
  },
  {
   "cell_type": "code",
   "execution_count": 49,
   "metadata": {
    "tags": []
   },
   "outputs": [],
   "source": [
    "TRIALS_AND_SPECTRAL_DF[\"baseline_start_timestamp\"] = TRIALS_AND_SPECTRAL_DF[\"tone_start_timestamp\"] - 10 * EPHYS_SAMPLE_RATE"
   ]
  },
  {
   "cell_type": "code",
   "execution_count": 50,
   "metadata": {
    "tags": []
   },
   "outputs": [],
   "source": [
    "TRIALS_AND_SPECTRAL_DF[\"post_trial_end_timestamp\"] = TRIALS_AND_SPECTRAL_DF[\"tone_stop_timestamp\"] + 10 * EPHYS_SAMPLE_RATE"
   ]
  },
  {
   "cell_type": "code",
   "execution_count": 51,
   "metadata": {
    "tags": []
   },
   "outputs": [
    {
     "data": {
      "text/plain": [
       "0    34280576\n",
       "1    34280576\n",
       "2    35280586\n",
       "3    35280586\n",
       "4    36380600\n",
       "Name: tone_start_timestamp, dtype: int64"
      ]
     },
     "execution_count": 51,
     "metadata": {},
     "output_type": "execute_result"
    }
   ],
   "source": [
    "TRIALS_AND_SPECTRAL_DF[\"tone_start_timestamp\"].head()"
   ]
  },
  {
   "cell_type": "code",
   "execution_count": 52,
   "metadata": {
    "tags": []
   },
   "outputs": [
    {
     "data": {
      "text/plain": [
       "0    34280576\n",
       "1    34280576\n",
       "2    35280586\n",
       "3    35280586\n",
       "4    36380600\n",
       "Name: tone_start_timestamp, dtype: int64"
      ]
     },
     "execution_count": 52,
     "metadata": {},
     "output_type": "execute_result"
    }
   ],
   "source": [
    "TRIALS_AND_SPECTRAL_DF[\"tone_start_timestamp\"].head()"
   ]
  },
  {
   "cell_type": "code",
   "execution_count": 53,
   "metadata": {
    "tags": []
   },
   "outputs": [
    {
     "data": {
      "text/plain": [
       "0    34480576\n",
       "1    34480576\n",
       "2    35480585\n",
       "3    35480585\n",
       "4    36580602\n",
       "Name: tone_stop_timestamp, dtype: int64"
      ]
     },
     "execution_count": 53,
     "metadata": {},
     "output_type": "execute_result"
    }
   ],
   "source": [
    "TRIALS_AND_SPECTRAL_DF[\"tone_stop_timestamp\"].head()"
   ]
  },
  {
   "cell_type": "code",
   "execution_count": 54,
   "metadata": {
    "tags": []
   },
   "outputs": [
    {
     "data": {
      "text/html": [
       "<div>\n",
       "<style scoped>\n",
       "    .dataframe tbody tr th:only-of-type {\n",
       "        vertical-align: middle;\n",
       "    }\n",
       "\n",
       "    .dataframe tbody tr th {\n",
       "        vertical-align: top;\n",
       "    }\n",
       "\n",
       "    .dataframe thead th {\n",
       "        text-align: right;\n",
       "    }\n",
       "</style>\n",
       "<table border=\"1\" class=\"dataframe\">\n",
       "  <thead>\n",
       "    <tr style=\"text-align: right;\">\n",
       "      <th></th>\n",
       "      <th>tone_start_frame</th>\n",
       "      <th>reward_start</th>\n",
       "      <th>reward_dispensed</th>\n",
       "      <th>tone_stop_frame</th>\n",
       "      <th>condition</th>\n",
       "      <th>competition_closeness</th>\n",
       "      <th>get_reward_frame</th>\n",
       "      <th>out_reward_frame</th>\n",
       "      <th>notes</th>\n",
       "      <th>box_1_port_entry_frames</th>\n",
       "      <th>...</th>\n",
       "      <th>vHPC_mPFC_granger_all_frequencies_all_windows</th>\n",
       "      <th>vHPC_power_all_frequencies_all_windows</th>\n",
       "      <th>vHPC_power_gamma</th>\n",
       "      <th>vHPC_power_theta</th>\n",
       "      <th>vHPC_theta_band</th>\n",
       "      <th>vHPC_theta_phase</th>\n",
       "      <th>video_timestamps</th>\n",
       "      <th>cluster_timestamp</th>\n",
       "      <th>baseline_start_timestamp</th>\n",
       "      <th>post_trial_end_timestamp</th>\n",
       "    </tr>\n",
       "  </thead>\n",
       "  <tbody>\n",
       "    <tr>\n",
       "      <th>0</th>\n",
       "      <td>34242.0</td>\n",
       "      <td>34322</td>\n",
       "      <td>34342.0</td>\n",
       "      <td>34442.0</td>\n",
       "      <td>4.3</td>\n",
       "      <td>After trial</td>\n",
       "      <td>NaN</td>\n",
       "      <td>NaN</td>\n",
       "      <td>NaN</td>\n",
       "      <td>[34250 34265]</td>\n",
       "      <td>...</td>\n",
       "      <td>[[nan, nan, nan, nan, nan, nan, nan, nan, nan,...</td>\n",
       "      <td>[[0.0013803464, 0.0079310145, 0.009366615, 0.0...</td>\n",
       "      <td>[0.00366902, nan, nan, 0.002184509, 0.00216185...</td>\n",
       "      <td>[0.046842232, nan, nan, 0.023685867, 0.0444350...</td>\n",
       "      <td>[-0.37066078, -0.35752764, -0.3432352, -0.3277...</td>\n",
       "      <td>[2.7155704, -2.8761566, -2.806554, -2.548516, ...</td>\n",
       "      <td>[1384, 2770, 4156, 4156, 5541, 6927, 6927, 831...</td>\n",
       "      <td>[34079916, 34081302, 34082688, 34084074, 34084...</td>\n",
       "      <td>34080576</td>\n",
       "      <td>34680576</td>\n",
       "    </tr>\n",
       "    <tr>\n",
       "      <th>1</th>\n",
       "      <td>34242.0</td>\n",
       "      <td>34322</td>\n",
       "      <td>34342.0</td>\n",
       "      <td>34442.0</td>\n",
       "      <td>4.3</td>\n",
       "      <td>After trial</td>\n",
       "      <td>NaN</td>\n",
       "      <td>NaN</td>\n",
       "      <td>NaN</td>\n",
       "      <td>[34250 34265]</td>\n",
       "      <td>...</td>\n",
       "      <td>[[2.7552054, 1.5484817, 2.318468, 0.67259854, ...</td>\n",
       "      <td>[[0.001118467, 0.0013452128, 0.009780567, 0.01...</td>\n",
       "      <td>[0.0017462745, 0.0017710698, 0.0011198351, 0.0...</td>\n",
       "      <td>[0.031059334, 0.026878728, 0.018851878, 0.0271...</td>\n",
       "      <td>[0.49282554, 0.4864071, 0.47833988, 0.46862525...</td>\n",
       "      <td>[-0.7696023, -0.28357738, -0.24996911, 0.00574...</td>\n",
       "      <td>[1384, 2770, 4156, 4156, 5541, 6927, 6927, 831...</td>\n",
       "      <td>[34079916, 34081302, 34082688, 34084074, 34084...</td>\n",
       "      <td>34080576</td>\n",
       "      <td>34680576</td>\n",
       "    </tr>\n",
       "    <tr>\n",
       "      <th>2</th>\n",
       "      <td>35241.0</td>\n",
       "      <td>35321</td>\n",
       "      <td>35341.0</td>\n",
       "      <td>35439.0</td>\n",
       "      <td>4.3</td>\n",
       "      <td>Subj 2 Only</td>\n",
       "      <td>NaN</td>\n",
       "      <td>NaN</td>\n",
       "      <td>NaN</td>\n",
       "      <td>[35242 35249] [35249 35250] [35250 35271] [353...</td>\n",
       "      <td>...</td>\n",
       "      <td>[[nan, nan, nan, nan, nan, nan, nan, nan, nan,...</td>\n",
       "      <td>[[0.0013803464, 0.0079310145, 0.009366615, 0.0...</td>\n",
       "      <td>[0.00366902, nan, nan, 0.002184509, 0.00216185...</td>\n",
       "      <td>[0.046842232, nan, nan, 0.023685867, 0.0444350...</td>\n",
       "      <td>[-0.37066078, -0.35752764, -0.3432352, -0.3277...</td>\n",
       "      <td>[2.7155704, -2.8761566, -2.806554, -2.548516, ...</td>\n",
       "      <td>[1384, 2770, 4156, 4156, 5541, 6927, 6927, 831...</td>\n",
       "      <td>[34079916, 34081302, 34082688, 34084074, 34084...</td>\n",
       "      <td>35080586</td>\n",
       "      <td>35680585</td>\n",
       "    </tr>\n",
       "    <tr>\n",
       "      <th>3</th>\n",
       "      <td>35241.0</td>\n",
       "      <td>35321</td>\n",
       "      <td>35341.0</td>\n",
       "      <td>35439.0</td>\n",
       "      <td>4.3</td>\n",
       "      <td>Subj 2 Only</td>\n",
       "      <td>NaN</td>\n",
       "      <td>NaN</td>\n",
       "      <td>NaN</td>\n",
       "      <td>[35242 35249] [35249 35250] [35250 35271] [353...</td>\n",
       "      <td>...</td>\n",
       "      <td>[[2.7552054, 1.5484817, 2.318468, 0.67259854, ...</td>\n",
       "      <td>[[0.001118467, 0.0013452128, 0.009780567, 0.01...</td>\n",
       "      <td>[0.0017462745, 0.0017710698, 0.0011198351, 0.0...</td>\n",
       "      <td>[0.031059334, 0.026878728, 0.018851878, 0.0271...</td>\n",
       "      <td>[0.49282554, 0.4864071, 0.47833988, 0.46862525...</td>\n",
       "      <td>[-0.7696023, -0.28357738, -0.24996911, 0.00574...</td>\n",
       "      <td>[1384, 2770, 4156, 4156, 5541, 6927, 6927, 831...</td>\n",
       "      <td>[34079916, 34081302, 34082688, 34084074, 34084...</td>\n",
       "      <td>35080586</td>\n",
       "      <td>35680585</td>\n",
       "    </tr>\n",
       "    <tr>\n",
       "      <th>4</th>\n",
       "      <td>36339.0</td>\n",
       "      <td>36419</td>\n",
       "      <td>36439.0</td>\n",
       "      <td>36538.0</td>\n",
       "      <td>4.3</td>\n",
       "      <td>Subj 2 blocking Subj 1</td>\n",
       "      <td>NaN</td>\n",
       "      <td>NaN</td>\n",
       "      <td>NaN</td>\n",
       "      <td>[36339 36354] [36361 36365] [36410 36473] [364...</td>\n",
       "      <td>...</td>\n",
       "      <td>[[nan, nan, nan, nan, nan, nan, nan, nan, nan,...</td>\n",
       "      <td>[[0.0013803464, 0.0079310145, 0.009366615, 0.0...</td>\n",
       "      <td>[0.00366902, nan, nan, 0.002184509, 0.00216185...</td>\n",
       "      <td>[0.046842232, nan, nan, 0.023685867, 0.0444350...</td>\n",
       "      <td>[-0.37066078, -0.35752764, -0.3432352, -0.3277...</td>\n",
       "      <td>[2.7155704, -2.8761566, -2.806554, -2.548516, ...</td>\n",
       "      <td>[1384, 2770, 4156, 4156, 5541, 6927, 6927, 831...</td>\n",
       "      <td>[34079916, 34081302, 34082688, 34084074, 34084...</td>\n",
       "      <td>36180600</td>\n",
       "      <td>36780602</td>\n",
       "    </tr>\n",
       "  </tbody>\n",
       "</table>\n",
       "<p>5 rows × 207 columns</p>\n",
       "</div>"
      ],
      "text/plain": [
       "   tone_start_frame  reward_start  reward_dispensed  tone_stop_frame  \\\n",
       "0           34242.0         34322           34342.0          34442.0   \n",
       "1           34242.0         34322           34342.0          34442.0   \n",
       "2           35241.0         35321           35341.0          35439.0   \n",
       "3           35241.0         35321           35341.0          35439.0   \n",
       "4           36339.0         36419           36439.0          36538.0   \n",
       "\n",
       "  condition    competition_closeness  get_reward_frame  out_reward_frame  \\\n",
       "0        4.3             After trial               NaN               NaN   \n",
       "1        4.3             After trial               NaN               NaN   \n",
       "2        4.3             Subj 2 Only               NaN               NaN   \n",
       "3        4.3             Subj 2 Only               NaN               NaN   \n",
       "4        4.3  Subj 2 blocking Subj 1               NaN               NaN   \n",
       "\n",
       "  notes                            box_1_port_entry_frames  ...  \\\n",
       "0   NaN                                      [34250 34265]  ...   \n",
       "1   NaN                                      [34250 34265]  ...   \n",
       "2   NaN  [35242 35249] [35249 35250] [35250 35271] [353...  ...   \n",
       "3   NaN  [35242 35249] [35249 35250] [35250 35271] [353...  ...   \n",
       "4   NaN  [36339 36354] [36361 36365] [36410 36473] [364...  ...   \n",
       "\n",
       "       vHPC_mPFC_granger_all_frequencies_all_windows  \\\n",
       "0  [[nan, nan, nan, nan, nan, nan, nan, nan, nan,...   \n",
       "1  [[2.7552054, 1.5484817, 2.318468, 0.67259854, ...   \n",
       "2  [[nan, nan, nan, nan, nan, nan, nan, nan, nan,...   \n",
       "3  [[2.7552054, 1.5484817, 2.318468, 0.67259854, ...   \n",
       "4  [[nan, nan, nan, nan, nan, nan, nan, nan, nan,...   \n",
       "\n",
       "              vHPC_power_all_frequencies_all_windows  \\\n",
       "0  [[0.0013803464, 0.0079310145, 0.009366615, 0.0...   \n",
       "1  [[0.001118467, 0.0013452128, 0.009780567, 0.01...   \n",
       "2  [[0.0013803464, 0.0079310145, 0.009366615, 0.0...   \n",
       "3  [[0.001118467, 0.0013452128, 0.009780567, 0.01...   \n",
       "4  [[0.0013803464, 0.0079310145, 0.009366615, 0.0...   \n",
       "\n",
       "                                    vHPC_power_gamma  \\\n",
       "0  [0.00366902, nan, nan, 0.002184509, 0.00216185...   \n",
       "1  [0.0017462745, 0.0017710698, 0.0011198351, 0.0...   \n",
       "2  [0.00366902, nan, nan, 0.002184509, 0.00216185...   \n",
       "3  [0.0017462745, 0.0017710698, 0.0011198351, 0.0...   \n",
       "4  [0.00366902, nan, nan, 0.002184509, 0.00216185...   \n",
       "\n",
       "                                    vHPC_power_theta  \\\n",
       "0  [0.046842232, nan, nan, 0.023685867, 0.0444350...   \n",
       "1  [0.031059334, 0.026878728, 0.018851878, 0.0271...   \n",
       "2  [0.046842232, nan, nan, 0.023685867, 0.0444350...   \n",
       "3  [0.031059334, 0.026878728, 0.018851878, 0.0271...   \n",
       "4  [0.046842232, nan, nan, 0.023685867, 0.0444350...   \n",
       "\n",
       "                                     vHPC_theta_band  \\\n",
       "0  [-0.37066078, -0.35752764, -0.3432352, -0.3277...   \n",
       "1  [0.49282554, 0.4864071, 0.47833988, 0.46862525...   \n",
       "2  [-0.37066078, -0.35752764, -0.3432352, -0.3277...   \n",
       "3  [0.49282554, 0.4864071, 0.47833988, 0.46862525...   \n",
       "4  [-0.37066078, -0.35752764, -0.3432352, -0.3277...   \n",
       "\n",
       "                                    vHPC_theta_phase  \\\n",
       "0  [2.7155704, -2.8761566, -2.806554, -2.548516, ...   \n",
       "1  [-0.7696023, -0.28357738, -0.24996911, 0.00574...   \n",
       "2  [2.7155704, -2.8761566, -2.806554, -2.548516, ...   \n",
       "3  [-0.7696023, -0.28357738, -0.24996911, 0.00574...   \n",
       "4  [2.7155704, -2.8761566, -2.806554, -2.548516, ...   \n",
       "\n",
       "                                    video_timestamps  \\\n",
       "0  [1384, 2770, 4156, 4156, 5541, 6927, 6927, 831...   \n",
       "1  [1384, 2770, 4156, 4156, 5541, 6927, 6927, 831...   \n",
       "2  [1384, 2770, 4156, 4156, 5541, 6927, 6927, 831...   \n",
       "3  [1384, 2770, 4156, 4156, 5541, 6927, 6927, 831...   \n",
       "4  [1384, 2770, 4156, 4156, 5541, 6927, 6927, 831...   \n",
       "\n",
       "                                   cluster_timestamp baseline_start_timestamp  \\\n",
       "0  [34079916, 34081302, 34082688, 34084074, 34084...                 34080576   \n",
       "1  [34079916, 34081302, 34082688, 34084074, 34084...                 34080576   \n",
       "2  [34079916, 34081302, 34082688, 34084074, 34084...                 35080586   \n",
       "3  [34079916, 34081302, 34082688, 34084074, 34084...                 35080586   \n",
       "4  [34079916, 34081302, 34082688, 34084074, 34084...                 36180600   \n",
       "\n",
       "  post_trial_end_timestamp  \n",
       "0                 34680576  \n",
       "1                 34680576  \n",
       "2                 35680585  \n",
       "3                 35680585  \n",
       "4                 36780602  \n",
       "\n",
       "[5 rows x 207 columns]"
      ]
     },
     "execution_count": 54,
     "metadata": {},
     "output_type": "execute_result"
    }
   ],
   "source": [
    "TRIALS_AND_SPECTRAL_DF.head()"
   ]
  },
  {
   "cell_type": "markdown",
   "metadata": {},
   "source": [
    "# Filtering out the SLEAP posed for during trials"
   ]
  },
  {
   "cell_type": "code",
   "execution_count": 55,
   "metadata": {
    "tags": []
   },
   "outputs": [],
   "source": [
    "TRIALS_AND_SPECTRAL_DF[\"video_frame\"] = TRIALS_AND_SPECTRAL_DF[\"video_timestamps\"].apply(lambda x: np.array(list(range(len(x)))) + 1)"
   ]
  },
  {
   "cell_type": "code",
   "execution_count": 56,
   "metadata": {
    "tags": []
   },
   "outputs": [
    {
     "data": {
      "text/plain": [
       "0    (64255,)\n",
       "1    (64255,)\n",
       "2    (64255,)\n",
       "3    (64255,)\n",
       "4    (64255,)\n",
       "Name: video_frame, dtype: object"
      ]
     },
     "execution_count": 56,
     "metadata": {},
     "output_type": "execute_result"
    }
   ],
   "source": [
    "TRIALS_AND_SPECTRAL_DF[\"video_frame\"].head().apply(lambda x: x.shape)"
   ]
  },
  {
   "cell_type": "code",
   "execution_count": 57,
   "metadata": {},
   "outputs": [
    {
     "data": {
      "text/plain": [
       "['subject_thorax_to_agent_thorax',\n",
       " 'nose_to_reward_port_sum',\n",
       " 'nose_to_reward_port_diff',\n",
       " 'thorax_velocity_sum',\n",
       " 'thorax_velocity_diff',\n",
       " 'to_reward_port_angle_sum',\n",
       " 'to_reward_port_angle_diff',\n",
       " 'subject_nose_to_reward_port',\n",
       " 'subject_thorax_velocity',\n",
       " 'subject_to_reward_port_angle',\n",
       " 'agent_nose_to_reward_port',\n",
       " 'agent_thorax_velocity',\n",
       " 'agent_to_reward_port_angle',\n",
       " 'closebool_subject_nose_to_reward_port',\n",
       " 'closebool_agent_nose_to_reward_port',\n",
       " 'movingbool_subject_thorax_velocity',\n",
       " 'movingbool_agent_thorax_velocity',\n",
       " 'manual_cluster_id',\n",
       " 'standard_embedding_x',\n",
       " 'standard_embedding_y',\n",
       " 'kmeans_cluster',\n",
       " 'subject_locations',\n",
       " 'agent_locations',\n",
       " 'subject_thorax',\n",
       " 'subject_nose',\n",
       " 'subject_tail_base',\n",
       " 'agent_thorax',\n",
       " 'agent_nose',\n",
       " 'agent_tail_base']"
      ]
     },
     "execution_count": 57,
     "metadata": {},
     "output_type": "execute_result"
    }
   ],
   "source": [
    "['subject_thorax_to_agent_thorax',\n",
    " 'nose_to_reward_port_sum',\n",
    " 'nose_to_reward_port_diff',\n",
    " 'thorax_velocity_sum',\n",
    " 'thorax_velocity_diff',\n",
    " 'to_reward_port_angle_sum',\n",
    " 'to_reward_port_angle_diff',\n",
    " 'subject_nose_to_reward_port',\n",
    " 'subject_thorax_velocity',\n",
    " 'subject_to_reward_port_angle',\n",
    " 'agent_nose_to_reward_port',\n",
    " 'agent_thorax_velocity',\n",
    " 'agent_to_reward_port_angle',\n",
    " 'closebool_subject_nose_to_reward_port',\n",
    " 'closebool_agent_nose_to_reward_port',\n",
    " 'movingbool_subject_thorax_velocity',\n",
    " 'movingbool_agent_thorax_velocity',\n",
    " 'manual_cluster_id',\n",
    " 'standard_embedding_x',\n",
    " 'standard_embedding_y',\n",
    " 'kmeans_cluster',\n",
    " 'subject_locations',\n",
    " 'agent_locations',\n",
    " 'subject_thorax',\n",
    " 'subject_nose',\n",
    " 'subject_tail_base',\n",
    " 'agent_thorax',\n",
    " 'agent_nose',\n",
    " 'agent_tail_base']"
   ]
  },
  {
   "cell_type": "code",
   "execution_count": 58,
   "metadata": {
    "tags": []
   },
   "outputs": [],
   "source": [
    "# sleap_columns = [col for col in TRIALS_AND_SPECTRAL_DF.columns if \"locations\" in col or \"velocity\" in col or \"to_reward_port\" in col or \"video_frame\" in col]"
   ]
  },
  {
   "cell_type": "code",
   "execution_count": 59,
   "metadata": {
    "tags": []
   },
   "outputs": [],
   "source": [
    "sleap_columns = [col for col in TRIALS_AND_SPECTRAL_DF.columns if (\"thorax\" in col or \"nose\" in col or \"reward_port\" in col or \"standard_embedding\" in col or \"cluster\" in col or \"frame_index\" in col or \"locations\" in col or \"tailbase\" in col) and \"timestamp\" not in col]\n"
   ]
  },
  {
   "cell_type": "code",
   "execution_count": 60,
   "metadata": {
    "tags": []
   },
   "outputs": [
    {
     "data": {
      "text/plain": [
       "['frame_index',\n",
       " 'subject_thorax_to_agent_thorax',\n",
       " 'nose_to_reward_port_sum',\n",
       " 'nose_to_reward_port_diff',\n",
       " 'thorax_velocity_sum',\n",
       " 'thorax_velocity_diff',\n",
       " 'to_reward_port_angle_sum',\n",
       " 'to_reward_port_angle_diff',\n",
       " 'subject_nose_to_reward_port',\n",
       " 'subject_thorax_velocity',\n",
       " 'subject_to_reward_port_angle',\n",
       " 'agent_nose_to_reward_port',\n",
       " 'agent_thorax_velocity',\n",
       " 'agent_to_reward_port_angle',\n",
       " 'closebool_subject_nose_to_reward_port',\n",
       " 'closebool_agent_nose_to_reward_port',\n",
       " 'movingbool_subject_thorax_velocity',\n",
       " 'movingbool_agent_thorax_velocity',\n",
       " 'manual_cluster_id',\n",
       " 'standard_embedding_x',\n",
       " 'standard_embedding_y',\n",
       " 'kmeans_cluster',\n",
       " 'subject_locations',\n",
       " 'agent_locations',\n",
       " 'subject_thorax',\n",
       " 'subject_nose',\n",
       " 'agent_thorax',\n",
       " 'agent_nose']"
      ]
     },
     "execution_count": 60,
     "metadata": {},
     "output_type": "execute_result"
    }
   ],
   "source": [
    "sleap_columns"
   ]
  },
  {
   "cell_type": "code",
   "execution_count": 61,
   "metadata": {
    "tags": []
   },
   "outputs": [
    {
     "name": "stdout",
     "output_type": "stream",
     "text": [
      "frame_index\n",
      "(12593,)\n",
      "subject_thorax_to_agent_thorax\n",
      "(12593,)\n",
      "nose_to_reward_port_sum\n",
      "(12593,)\n",
      "nose_to_reward_port_diff\n",
      "(12593,)\n",
      "thorax_velocity_sum\n",
      "(12593,)\n",
      "thorax_velocity_diff\n",
      "(12593,)\n",
      "to_reward_port_angle_sum\n",
      "(12593,)\n",
      "to_reward_port_angle_diff\n",
      "(12593,)\n",
      "subject_nose_to_reward_port\n",
      "(12593,)\n",
      "subject_thorax_velocity\n",
      "(12593,)\n",
      "subject_to_reward_port_angle\n",
      "(12593,)\n",
      "agent_nose_to_reward_port\n",
      "(12593,)\n",
      "agent_thorax_velocity\n",
      "(12593,)\n",
      "agent_to_reward_port_angle\n",
      "(12593,)\n",
      "closebool_subject_nose_to_reward_port\n",
      "(12593,)\n",
      "closebool_agent_nose_to_reward_port\n",
      "(12593,)\n",
      "movingbool_subject_thorax_velocity\n",
      "(12593,)\n",
      "movingbool_agent_thorax_velocity\n",
      "(12593,)\n",
      "manual_cluster_id\n",
      "(12593,)\n",
      "standard_embedding_x\n",
      "(12593,)\n",
      "standard_embedding_y\n",
      "(12593,)\n",
      "kmeans_cluster\n",
      "(12593,)\n",
      "subject_locations\n",
      "(12593, 6, 2)\n",
      "agent_locations\n",
      "(12593, 6, 2)\n",
      "subject_thorax\n",
      "(12593, 2)\n",
      "subject_nose\n",
      "(12593, 2)\n",
      "agent_thorax\n",
      "(12593, 2)\n",
      "agent_nose\n",
      "(12593, 2)\n"
     ]
    }
   ],
   "source": [
    "for col in sleap_columns:\n",
    "    print(col)\n",
    "    print(TRIALS_AND_SPECTRAL_DF[col].apply(lambda x: x.shape).iloc[0])"
   ]
  },
  {
   "cell_type": "code",
   "execution_count": 62,
   "metadata": {
    "tags": []
   },
   "outputs": [
    {
     "name": "stdout",
     "output_type": "stream",
     "text": [
      "trial_and_post_agent_locations\n",
      "trial_and_post_agent_nose\n",
      "trial_and_post_agent_nose_to_reward_port\n",
      "trial_and_post_agent_thorax\n",
      "trial_and_post_agent_thorax_velocity\n",
      "trial_and_post_agent_to_reward_port_angle\n",
      "trial_and_post_closebool_agent_nose_to_reward_port\n",
      "trial_and_post_closebool_subject_nose_to_reward_port\n",
      "trial_and_post_frame_index\n",
      "trial_and_post_kmeans_cluster\n",
      "trial_and_post_manual_cluster_id\n",
      "trial_and_post_movingbool_agent_thorax_velocity\n",
      "trial_and_post_movingbool_subject_thorax_velocity\n",
      "trial_and_post_nose_to_reward_port_diff\n",
      "trial_and_post_nose_to_reward_port_sum\n",
      "trial_and_post_standard_embedding_x\n",
      "trial_and_post_standard_embedding_y\n",
      "trial_and_post_subject_locations\n",
      "trial_and_post_subject_nose\n",
      "trial_and_post_subject_nose_to_reward_port\n",
      "trial_and_post_subject_thorax\n",
      "trial_and_post_subject_thorax_to_agent_thorax\n",
      "trial_and_post_subject_thorax_velocity\n",
      "trial_and_post_subject_to_reward_port_angle\n",
      "trial_and_post_thorax_velocity_diff\n",
      "trial_and_post_thorax_velocity_sum\n",
      "trial_and_post_to_reward_port_angle_diff\n",
      "trial_and_post_to_reward_port_angle_sum\n"
     ]
    }
   ],
   "source": [
    "for col in sorted(sleap_columns):\n",
    "    updated_item_col = \"trial_and_post_{}\".format(col)\n",
    "    print(updated_item_col)\n",
    "    updated_timestamp_col = \"trial_and_post_video_timestamps\"\n",
    "    TRIALS_AND_SPECTRAL_DF[updated_item_col] = TRIALS_AND_SPECTRAL_DF.apply(lambda x: utilities.helper.filter_by_timestamp_range(start=x[\"tone_start_timestamp\"], stop=x[\"post_trial_end_timestamp\"], timestamps=x[\"cluster_timestamp\"], items=x[col])[1], axis=1)\n",
    "\n",
    "TRIALS_AND_SPECTRAL_DF[updated_timestamp_col] = TRIALS_AND_SPECTRAL_DF.apply(lambda x: utilities.helper.filter_by_timestamp_range(start=x[\"tone_start_timestamp\"], stop=x[\"post_trial_end_timestamp\"], timestamps=x[\"cluster_timestamp\"], items=x[col])[0], axis=1)"
   ]
  },
  {
   "cell_type": "code",
   "execution_count": 63,
   "metadata": {
    "tags": []
   },
   "outputs": [
    {
     "data": {
      "text/html": [
       "<div>\n",
       "<style scoped>\n",
       "    .dataframe tbody tr th:only-of-type {\n",
       "        vertical-align: middle;\n",
       "    }\n",
       "\n",
       "    .dataframe tbody tr th {\n",
       "        vertical-align: top;\n",
       "    }\n",
       "\n",
       "    .dataframe thead th {\n",
       "        text-align: right;\n",
       "    }\n",
       "</style>\n",
       "<table border=\"1\" class=\"dataframe\">\n",
       "  <thead>\n",
       "    <tr style=\"text-align: right;\">\n",
       "      <th></th>\n",
       "      <th>tone_start_frame</th>\n",
       "      <th>reward_start</th>\n",
       "      <th>reward_dispensed</th>\n",
       "      <th>tone_stop_frame</th>\n",
       "      <th>condition</th>\n",
       "      <th>competition_closeness</th>\n",
       "      <th>get_reward_frame</th>\n",
       "      <th>out_reward_frame</th>\n",
       "      <th>notes</th>\n",
       "      <th>box_1_port_entry_frames</th>\n",
       "      <th>...</th>\n",
       "      <th>trial_and_post_subject_nose_to_reward_port</th>\n",
       "      <th>trial_and_post_subject_thorax</th>\n",
       "      <th>trial_and_post_subject_thorax_to_agent_thorax</th>\n",
       "      <th>trial_and_post_subject_thorax_velocity</th>\n",
       "      <th>trial_and_post_subject_to_reward_port_angle</th>\n",
       "      <th>trial_and_post_thorax_velocity_diff</th>\n",
       "      <th>trial_and_post_thorax_velocity_sum</th>\n",
       "      <th>trial_and_post_to_reward_port_angle_diff</th>\n",
       "      <th>trial_and_post_to_reward_port_angle_sum</th>\n",
       "      <th>trial_and_post_video_timestamps</th>\n",
       "    </tr>\n",
       "  </thead>\n",
       "  <tbody>\n",
       "    <tr>\n",
       "      <th>0</th>\n",
       "      <td>34242.0</td>\n",
       "      <td>34322</td>\n",
       "      <td>34342.0</td>\n",
       "      <td>34442.0</td>\n",
       "      <td>4.3</td>\n",
       "      <td>After trial</td>\n",
       "      <td>NaN</td>\n",
       "      <td>NaN</td>\n",
       "      <td>NaN</td>\n",
       "      <td>[34250 34265]</td>\n",
       "      <td>...</td>\n",
       "      <td>[2.4861953, 2.2716153, 2.0270197, 1.8338053, 1...</td>\n",
       "      <td>[[71.95774040324862, 32.322139769886114], [71....</td>\n",
       "      <td>[13.249745, 12.420274, 11.498921, 10.627059, 9...</td>\n",
       "      <td>[4.569111, 5.1593533, 5.675921, 6.0645876, 6.3...</td>\n",
       "      <td>[2.9412072, 2.8742726, 2.7693202, 2.6417112, 2...</td>\n",
       "      <td>[5.8270407, 7.315352, 9.172596, 11.392724, 13....</td>\n",
       "      <td>[14.965262, 17.634058, 20.524439, 23.5219, 26....</td>\n",
       "      <td>[1.9850475, 2.0960886, 2.1170332, 2.0739496, 1...</td>\n",
       "      <td>[3.9031072, 3.6548777, 3.3964436, 3.159185, 2....</td>\n",
       "      <td>[34280867, 34282253, 34282253, 34283639, 34285...</td>\n",
       "    </tr>\n",
       "    <tr>\n",
       "      <th>1</th>\n",
       "      <td>34242.0</td>\n",
       "      <td>34322</td>\n",
       "      <td>34342.0</td>\n",
       "      <td>34442.0</td>\n",
       "      <td>4.3</td>\n",
       "      <td>After trial</td>\n",
       "      <td>NaN</td>\n",
       "      <td>NaN</td>\n",
       "      <td>NaN</td>\n",
       "      <td>[34250 34265]</td>\n",
       "      <td>...</td>\n",
       "      <td>[6.6279693, 7.402137, 8.201156, 9.028512, 9.92...</td>\n",
       "      <td>[[57.85368672899245, 29.88676433471742], [58.3...</td>\n",
       "      <td>[13.249745, 12.420274, 11.498921, 10.627059, 9...</td>\n",
       "      <td>[10.396152, 12.474705, 14.848517, 17.457312, 2...</td>\n",
       "      <td>[0.96189994, 0.7806051, 0.62712336, 0.5174737,...</td>\n",
       "      <td>[5.8270407, 7.315352, 9.172596, 11.392724, 13....</td>\n",
       "      <td>[14.965262, 17.634058, 20.524439, 23.5219, 26....</td>\n",
       "      <td>[1.9850475, 2.0960886, 2.1170332, 2.0739496, 1...</td>\n",
       "      <td>[3.9031072, 3.6548777, 3.3964436, 3.159185, 2....</td>\n",
       "      <td>[34280867, 34282253, 34282253, 34283639, 34285...</td>\n",
       "    </tr>\n",
       "    <tr>\n",
       "      <th>2</th>\n",
       "      <td>35241.0</td>\n",
       "      <td>35321</td>\n",
       "      <td>35341.0</td>\n",
       "      <td>35439.0</td>\n",
       "      <td>4.3</td>\n",
       "      <td>Subj 2 Only</td>\n",
       "      <td>NaN</td>\n",
       "      <td>NaN</td>\n",
       "      <td>NaN</td>\n",
       "      <td>[35242 35249] [35249 35250] [35250 35271] [353...</td>\n",
       "      <td>...</td>\n",
       "      <td>[36.418747, 36.07958, 35.682335, 35.189987, 34...</td>\n",
       "      <td>[[52.097475233035375, 4.403293847774247], [52....</td>\n",
       "      <td>[27.067476, 26.779356, 26.523151, 26.297247, 2...</td>\n",
       "      <td>[4.785028, 4.347873, 4.0194354, 3.9396296, 4.2...</td>\n",
       "      <td>[0.04650808, 0.07419765, 0.12292117, 0.1924254...</td>\n",
       "      <td>[4.3826394, 3.919239, 3.5807028, 3.4981563, 3....</td>\n",
       "      <td>[5.187416, 4.7765074, 4.4581676, 4.3811026, 4....</td>\n",
       "      <td>[0.19098243, 0.19574554, 0.22000165, 0.2532908...</td>\n",
       "      <td>[0.31987455, 0.38714713, 0.47364113, 0.5777477...</td>\n",
       "      <td>[35281465, 35282851, 35284237, 35284237, 35285...</td>\n",
       "    </tr>\n",
       "    <tr>\n",
       "      <th>3</th>\n",
       "      <td>35241.0</td>\n",
       "      <td>35321</td>\n",
       "      <td>35341.0</td>\n",
       "      <td>35439.0</td>\n",
       "      <td>4.3</td>\n",
       "      <td>Subj 2 Only</td>\n",
       "      <td>NaN</td>\n",
       "      <td>NaN</td>\n",
       "      <td>NaN</td>\n",
       "      <td>[35242 35249] [35249 35250] [35250 35271] [353...</td>\n",
       "      <td>...</td>\n",
       "      <td>[1.1089377, 1.1452469, 1.1488823, 1.1699165, 1...</td>\n",
       "      <td>[[59.889793975715484, 31.176297534826535], [59...</td>\n",
       "      <td>[27.067476, 26.779356, 26.523151, 26.297247, 2...</td>\n",
       "      <td>[0.40238845, 0.4286343, 0.4387325, 0.44147334,...</td>\n",
       "      <td>[0.27336645, 0.31294948, 0.35071996, 0.3853223...</td>\n",
       "      <td>[4.3826394, 3.919239, 3.5807028, 3.4981563, 3....</td>\n",
       "      <td>[5.187416, 4.7765074, 4.4581676, 4.3811026, 4....</td>\n",
       "      <td>[0.19098243, 0.19574554, 0.22000165, 0.2532908...</td>\n",
       "      <td>[0.31987455, 0.38714713, 0.47364113, 0.5777477...</td>\n",
       "      <td>[35281465, 35282851, 35284237, 35284237, 35285...</td>\n",
       "    </tr>\n",
       "    <tr>\n",
       "      <th>4</th>\n",
       "      <td>36339.0</td>\n",
       "      <td>36419</td>\n",
       "      <td>36439.0</td>\n",
       "      <td>36538.0</td>\n",
       "      <td>4.3</td>\n",
       "      <td>Subj 2 blocking Subj 1</td>\n",
       "      <td>NaN</td>\n",
       "      <td>NaN</td>\n",
       "      <td>NaN</td>\n",
       "      <td>[36339 36354] [36361 36365] [36410 36473] [364...</td>\n",
       "      <td>...</td>\n",
       "      <td>[9.789054, 9.184889, 8.528983, 7.8693385, 7.22...</td>\n",
       "      <td>[[52.59027177867942, 37.86150455327927], [52.3...</td>\n",
       "      <td>[9.941473, 9.860621, 9.8498745, 9.888419, 9.96...</td>\n",
       "      <td>[5.841807, 6.232897, 6.469622, 6.5713687, 6.57...</td>\n",
       "      <td>[1.1148233, 1.2282927, 1.3672389, 1.523626, 1....</td>\n",
       "      <td>[4.92766, 5.32972, 5.5500345, 5.5871577, 5.489...</td>\n",
       "      <td>[6.954897, 7.253446, 7.432253, 7.5142064, 7.54...</td>\n",
       "      <td>[0.54289323, 0.6733394, 0.8578373, 1.0346372, ...</td>\n",
       "      <td>[1.9546683, 2.028851, 2.0825138, 2.171481, 2.2...</td>\n",
       "      <td>[36381846, 36383232, 36383232, 36384617, 36386...</td>\n",
       "    </tr>\n",
       "  </tbody>\n",
       "</table>\n",
       "<p>5 rows × 237 columns</p>\n",
       "</div>"
      ],
      "text/plain": [
       "   tone_start_frame  reward_start  reward_dispensed  tone_stop_frame  \\\n",
       "0           34242.0         34322           34342.0          34442.0   \n",
       "1           34242.0         34322           34342.0          34442.0   \n",
       "2           35241.0         35321           35341.0          35439.0   \n",
       "3           35241.0         35321           35341.0          35439.0   \n",
       "4           36339.0         36419           36439.0          36538.0   \n",
       "\n",
       "  condition    competition_closeness  get_reward_frame  out_reward_frame  \\\n",
       "0        4.3             After trial               NaN               NaN   \n",
       "1        4.3             After trial               NaN               NaN   \n",
       "2        4.3             Subj 2 Only               NaN               NaN   \n",
       "3        4.3             Subj 2 Only               NaN               NaN   \n",
       "4        4.3  Subj 2 blocking Subj 1               NaN               NaN   \n",
       "\n",
       "  notes                            box_1_port_entry_frames  ...  \\\n",
       "0   NaN                                      [34250 34265]  ...   \n",
       "1   NaN                                      [34250 34265]  ...   \n",
       "2   NaN  [35242 35249] [35249 35250] [35250 35271] [353...  ...   \n",
       "3   NaN  [35242 35249] [35249 35250] [35250 35271] [353...  ...   \n",
       "4   NaN  [36339 36354] [36361 36365] [36410 36473] [364...  ...   \n",
       "\n",
       "          trial_and_post_subject_nose_to_reward_port  \\\n",
       "0  [2.4861953, 2.2716153, 2.0270197, 1.8338053, 1...   \n",
       "1  [6.6279693, 7.402137, 8.201156, 9.028512, 9.92...   \n",
       "2  [36.418747, 36.07958, 35.682335, 35.189987, 34...   \n",
       "3  [1.1089377, 1.1452469, 1.1488823, 1.1699165, 1...   \n",
       "4  [9.789054, 9.184889, 8.528983, 7.8693385, 7.22...   \n",
       "\n",
       "                       trial_and_post_subject_thorax  \\\n",
       "0  [[71.95774040324862, 32.322139769886114], [71....   \n",
       "1  [[57.85368672899245, 29.88676433471742], [58.3...   \n",
       "2  [[52.097475233035375, 4.403293847774247], [52....   \n",
       "3  [[59.889793975715484, 31.176297534826535], [59...   \n",
       "4  [[52.59027177867942, 37.86150455327927], [52.3...   \n",
       "\n",
       "       trial_and_post_subject_thorax_to_agent_thorax  \\\n",
       "0  [13.249745, 12.420274, 11.498921, 10.627059, 9...   \n",
       "1  [13.249745, 12.420274, 11.498921, 10.627059, 9...   \n",
       "2  [27.067476, 26.779356, 26.523151, 26.297247, 2...   \n",
       "3  [27.067476, 26.779356, 26.523151, 26.297247, 2...   \n",
       "4  [9.941473, 9.860621, 9.8498745, 9.888419, 9.96...   \n",
       "\n",
       "              trial_and_post_subject_thorax_velocity  \\\n",
       "0  [4.569111, 5.1593533, 5.675921, 6.0645876, 6.3...   \n",
       "1  [10.396152, 12.474705, 14.848517, 17.457312, 2...   \n",
       "2  [4.785028, 4.347873, 4.0194354, 3.9396296, 4.2...   \n",
       "3  [0.40238845, 0.4286343, 0.4387325, 0.44147334,...   \n",
       "4  [5.841807, 6.232897, 6.469622, 6.5713687, 6.57...   \n",
       "\n",
       "         trial_and_post_subject_to_reward_port_angle  \\\n",
       "0  [2.9412072, 2.8742726, 2.7693202, 2.6417112, 2...   \n",
       "1  [0.96189994, 0.7806051, 0.62712336, 0.5174737,...   \n",
       "2  [0.04650808, 0.07419765, 0.12292117, 0.1924254...   \n",
       "3  [0.27336645, 0.31294948, 0.35071996, 0.3853223...   \n",
       "4  [1.1148233, 1.2282927, 1.3672389, 1.523626, 1....   \n",
       "\n",
       "                 trial_and_post_thorax_velocity_diff  \\\n",
       "0  [5.8270407, 7.315352, 9.172596, 11.392724, 13....   \n",
       "1  [5.8270407, 7.315352, 9.172596, 11.392724, 13....   \n",
       "2  [4.3826394, 3.919239, 3.5807028, 3.4981563, 3....   \n",
       "3  [4.3826394, 3.919239, 3.5807028, 3.4981563, 3....   \n",
       "4  [4.92766, 5.32972, 5.5500345, 5.5871577, 5.489...   \n",
       "\n",
       "                  trial_and_post_thorax_velocity_sum  \\\n",
       "0  [14.965262, 17.634058, 20.524439, 23.5219, 26....   \n",
       "1  [14.965262, 17.634058, 20.524439, 23.5219, 26....   \n",
       "2  [5.187416, 4.7765074, 4.4581676, 4.3811026, 4....   \n",
       "3  [5.187416, 4.7765074, 4.4581676, 4.3811026, 4....   \n",
       "4  [6.954897, 7.253446, 7.432253, 7.5142064, 7.54...   \n",
       "\n",
       "            trial_and_post_to_reward_port_angle_diff  \\\n",
       "0  [1.9850475, 2.0960886, 2.1170332, 2.0739496, 1...   \n",
       "1  [1.9850475, 2.0960886, 2.1170332, 2.0739496, 1...   \n",
       "2  [0.19098243, 0.19574554, 0.22000165, 0.2532908...   \n",
       "3  [0.19098243, 0.19574554, 0.22000165, 0.2532908...   \n",
       "4  [0.54289323, 0.6733394, 0.8578373, 1.0346372, ...   \n",
       "\n",
       "             trial_and_post_to_reward_port_angle_sum  \\\n",
       "0  [3.9031072, 3.6548777, 3.3964436, 3.159185, 2....   \n",
       "1  [3.9031072, 3.6548777, 3.3964436, 3.159185, 2....   \n",
       "2  [0.31987455, 0.38714713, 0.47364113, 0.5777477...   \n",
       "3  [0.31987455, 0.38714713, 0.47364113, 0.5777477...   \n",
       "4  [1.9546683, 2.028851, 2.0825138, 2.171481, 2.2...   \n",
       "\n",
       "                     trial_and_post_video_timestamps  \n",
       "0  [34280867, 34282253, 34282253, 34283639, 34285...  \n",
       "1  [34280867, 34282253, 34282253, 34283639, 34285...  \n",
       "2  [35281465, 35282851, 35284237, 35284237, 35285...  \n",
       "3  [35281465, 35282851, 35284237, 35284237, 35285...  \n",
       "4  [36381846, 36383232, 36383232, 36384617, 36386...  \n",
       "\n",
       "[5 rows x 237 columns]"
      ]
     },
     "execution_count": 63,
     "metadata": {},
     "output_type": "execute_result"
    }
   ],
   "source": [
    "TRIALS_AND_SPECTRAL_DF.head()"
   ]
  },
  {
   "cell_type": "code",
   "execution_count": 64,
   "metadata": {
    "tags": []
   },
   "outputs": [
    {
     "data": {
      "text/plain": [
       "(400,)"
      ]
     },
     "execution_count": 64,
     "metadata": {},
     "output_type": "execute_result"
    }
   ],
   "source": [
    "TRIALS_AND_SPECTRAL_DF[\"trial_and_post_frame_index\"].iloc[0].shape"
   ]
  },
  {
   "cell_type": "code",
   "execution_count": 65,
   "metadata": {
    "tags": []
   },
   "outputs": [],
   "source": [
    "TRIALS_AND_SPECTRAL_DF = TRIALS_AND_SPECTRAL_DF.drop(columns=sleap_columns + [\"cluster_timestamp\"], errors=\"ignore\")"
   ]
  },
  {
   "cell_type": "code",
   "execution_count": 66,
   "metadata": {
    "tags": []
   },
   "outputs": [
    {
     "name": "stdout",
     "output_type": "stream",
     "text": [
      "tone_start_frame\n",
      "reward_start\n",
      "reward_dispensed\n",
      "tone_stop_frame\n",
      "condition \n",
      "competition_closeness\n",
      "get_reward_frame\n",
      "out_reward_frame\n",
      "notes\n",
      "box_1_port_entry_frames\n",
      "box_2_port_entry_frames\n",
      "video_name\n",
      "tone_start_timestamp\n",
      "tone_stop_timestamp\n",
      "box_1_port_entry_timestamps\n",
      "box_2_port_entry_timestamps\n",
      "current_subject\n",
      "subject_tail_base\n",
      "agent_tail_base\n",
      "session_dir\n",
      "experiment\n",
      "sleap_name\n",
      "video_id\n",
      "agent\n",
      "BLA-to-LH_granger_gamma\n",
      "BLA-to-LH_granger_theta\n",
      "BLA-to-MD_granger_gamma\n",
      "BLA-to-MD_granger_theta\n",
      "BLA-to-mPFC_granger_gamma\n",
      "BLA-to-mPFC_granger_theta\n",
      "BLA-to-vHPC_granger_gamma\n",
      "BLA-to-vHPC_granger_theta\n",
      "BLA_LH_coherence_all_frequencies_all_windows\n",
      "BLA_LH_coherence_gamma\n",
      "BLA_LH_coherence_theta\n",
      "BLA_LH_granger_all_frequencies_all_windows\n",
      "BLA_MD_coherence_all_frequencies_all_windows\n",
      "BLA_MD_coherence_gamma\n",
      "BLA_MD_coherence_theta\n",
      "BLA_MD_granger_all_frequencies_all_windows\n",
      "BLA_gamma_band\n",
      "BLA_gamma_phase\n",
      "BLA_lfp_RMS_filtered\n",
      "BLA_lfp_trace\n",
      "BLA_mPFC_coherence_all_frequencies_all_windows\n",
      "BLA_mPFC_coherence_gamma\n",
      "BLA_mPFC_coherence_theta\n",
      "BLA_mPFC_granger_all_frequencies_all_windows\n",
      "BLA_power_all_frequencies_all_windows\n",
      "BLA_power_gamma\n",
      "BLA_power_theta\n",
      "BLA_theta_band\n",
      "BLA_theta_phase\n",
      "BLA_vHPC_coherence_all_frequencies_all_windows\n",
      "BLA_vHPC_coherence_gamma\n",
      "BLA_vHPC_coherence_theta\n",
      "BLA_vHPC_granger_all_frequencies_all_windows\n",
      "LH-to-BLA_granger_gamma\n",
      "LH-to-BLA_granger_theta\n",
      "LH-to-MD_granger_gamma\n",
      "LH-to-MD_granger_theta\n",
      "LH-to-mPFC_granger_gamma\n",
      "LH-to-mPFC_granger_theta\n",
      "LH-to-vHPC_granger_gamma\n",
      "LH-to-vHPC_granger_theta\n",
      "LH_BLA_granger_all_frequencies_all_windows\n",
      "LH_MD_coherence_all_frequencies_all_windows\n",
      "LH_MD_coherence_gamma\n",
      "LH_MD_coherence_theta\n",
      "LH_MD_granger_all_frequencies_all_windows\n",
      "LH_gamma_band\n",
      "LH_gamma_phase\n",
      "LH_lfp_RMS_filtered\n",
      "LH_lfp_trace\n",
      "LH_mPFC_coherence_all_frequencies_all_windows\n",
      "LH_mPFC_coherence_gamma\n",
      "LH_mPFC_coherence_theta\n",
      "LH_mPFC_granger_all_frequencies_all_windows\n",
      "LH_power_all_frequencies_all_windows\n",
      "LH_power_gamma\n",
      "LH_power_theta\n",
      "LH_theta_band\n",
      "LH_theta_phase\n",
      "LH_vHPC_coherence_all_frequencies_all_windows\n",
      "LH_vHPC_coherence_gamma\n",
      "LH_vHPC_coherence_theta\n",
      "LH_vHPC_granger_all_frequencies_all_windows\n",
      "MD-to-BLA_granger_gamma\n",
      "MD-to-BLA_granger_theta\n",
      "MD-to-LH_granger_gamma\n",
      "MD-to-LH_granger_theta\n",
      "MD-to-mPFC_granger_gamma\n",
      "MD-to-mPFC_granger_theta\n",
      "MD-to-vHPC_granger_gamma\n",
      "MD-to-vHPC_granger_theta\n",
      "MD_BLA_granger_all_frequencies_all_windows\n",
      "MD_LH_granger_all_frequencies_all_windows\n",
      "MD_gamma_band\n",
      "MD_gamma_phase\n",
      "MD_lfp_RMS_filtered\n",
      "MD_lfp_trace\n",
      "MD_mPFC_coherence_all_frequencies_all_windows\n",
      "MD_mPFC_coherence_gamma\n",
      "MD_mPFC_coherence_theta\n",
      "MD_mPFC_granger_all_frequencies_all_windows\n",
      "MD_power_all_frequencies_all_windows\n",
      "MD_power_gamma\n",
      "MD_power_theta\n",
      "MD_theta_band\n",
      "MD_theta_phase\n",
      "MD_vHPC_coherence_all_frequencies_all_windows\n",
      "MD_vHPC_coherence_gamma\n",
      "MD_vHPC_coherence_theta\n",
      "MD_vHPC_granger_all_frequencies_all_windows\n",
      "all_subjects\n",
      "coherence_calculation_frequencies\n",
      "coherence_timestamps\n",
      "cohort\n",
      "first_timestamp\n",
      "granger_calculation_frequencies\n",
      "granger_timestamps\n",
      "last_timestamp\n",
      "lfp_timestamps\n",
      "mPFC-to-BLA_granger_gamma\n",
      "mPFC-to-BLA_granger_theta\n",
      "mPFC-to-LH_granger_gamma\n",
      "mPFC-to-LH_granger_theta\n",
      "mPFC-to-MD_granger_gamma\n",
      "mPFC-to-MD_granger_theta\n",
      "mPFC-to-vHPC_granger_gamma\n",
      "mPFC-to-vHPC_granger_theta\n",
      "mPFC_BLA_granger_all_frequencies_all_windows\n",
      "mPFC_LH_granger_all_frequencies_all_windows\n",
      "mPFC_MD_granger_all_frequencies_all_windows\n",
      "mPFC_gamma_band\n",
      "mPFC_gamma_phase\n",
      "mPFC_lfp_RMS_filtered\n",
      "mPFC_lfp_trace\n",
      "mPFC_power_all_frequencies_all_windows\n",
      "mPFC_power_gamma\n",
      "mPFC_power_theta\n",
      "mPFC_theta_band\n",
      "mPFC_theta_phase\n",
      "mPFC_vHPC_coherence_all_frequencies_all_windows\n",
      "mPFC_vHPC_coherence_gamma\n",
      "mPFC_vHPC_coherence_theta\n",
      "mPFC_vHPC_granger_all_frequencies_all_windows\n",
      "power_calculation_frequencies\n",
      "power_timestamps\n",
      "recording\n",
      "session_path\n",
      "subject\n",
      "tone_frames\n",
      "tone_timestamps\n",
      "vHPC-to-BLA_granger_gamma\n",
      "vHPC-to-BLA_granger_theta\n",
      "vHPC-to-LH_granger_gamma\n",
      "vHPC-to-LH_granger_theta\n",
      "vHPC-to-MD_granger_gamma\n",
      "vHPC-to-MD_granger_theta\n",
      "vHPC-to-mPFC_granger_gamma\n",
      "vHPC-to-mPFC_granger_theta\n",
      "vHPC_BLA_granger_all_frequencies_all_windows\n",
      "vHPC_LH_granger_all_frequencies_all_windows\n",
      "vHPC_MD_granger_all_frequencies_all_windows\n",
      "vHPC_gamma_band\n",
      "vHPC_gamma_phase\n",
      "vHPC_lfp_RMS_filtered\n",
      "vHPC_lfp_trace\n",
      "vHPC_mPFC_granger_all_frequencies_all_windows\n",
      "vHPC_power_all_frequencies_all_windows\n",
      "vHPC_power_gamma\n",
      "vHPC_power_theta\n",
      "vHPC_theta_band\n",
      "vHPC_theta_phase\n",
      "video_timestamps\n",
      "baseline_start_timestamp\n",
      "post_trial_end_timestamp\n",
      "video_frame\n",
      "trial_and_post_agent_locations\n",
      "trial_and_post_agent_nose\n",
      "trial_and_post_agent_nose_to_reward_port\n",
      "trial_and_post_agent_thorax\n",
      "trial_and_post_agent_thorax_velocity\n",
      "trial_and_post_agent_to_reward_port_angle\n",
      "trial_and_post_closebool_agent_nose_to_reward_port\n",
      "trial_and_post_closebool_subject_nose_to_reward_port\n",
      "trial_and_post_frame_index\n",
      "trial_and_post_kmeans_cluster\n",
      "trial_and_post_manual_cluster_id\n",
      "trial_and_post_movingbool_agent_thorax_velocity\n",
      "trial_and_post_movingbool_subject_thorax_velocity\n",
      "trial_and_post_nose_to_reward_port_diff\n",
      "trial_and_post_nose_to_reward_port_sum\n",
      "trial_and_post_standard_embedding_x\n",
      "trial_and_post_standard_embedding_y\n",
      "trial_and_post_subject_locations\n",
      "trial_and_post_subject_nose\n",
      "trial_and_post_subject_nose_to_reward_port\n",
      "trial_and_post_subject_thorax\n",
      "trial_and_post_subject_thorax_to_agent_thorax\n",
      "trial_and_post_subject_thorax_velocity\n",
      "trial_and_post_subject_to_reward_port_angle\n",
      "trial_and_post_thorax_velocity_diff\n",
      "trial_and_post_thorax_velocity_sum\n",
      "trial_and_post_to_reward_port_angle_diff\n",
      "trial_and_post_to_reward_port_angle_sum\n",
      "trial_and_post_video_timestamps\n"
     ]
    }
   ],
   "source": [
    "for col in TRIALS_AND_SPECTRAL_DF.columns:\n",
    "    print(col)"
   ]
  },
  {
   "cell_type": "markdown",
   "metadata": {},
   "source": [
    "- Filtering coherence"
   ]
  },
  {
   "cell_type": "code",
   "execution_count": 67,
   "metadata": {
    "tags": []
   },
   "outputs": [],
   "source": [
    "coherence_columns = [col for col in TRIALS_AND_SPECTRAL_DF.columns if \"coherence\" in col and \"timestamps\" not in col and \"calculation\" not in col]"
   ]
  },
  {
   "cell_type": "code",
   "execution_count": 68,
   "metadata": {
    "tags": []
   },
   "outputs": [
    {
     "data": {
      "text/plain": [
       "['BLA_LH_coherence_all_frequencies_all_windows',\n",
       " 'BLA_LH_coherence_gamma',\n",
       " 'BLA_LH_coherence_theta',\n",
       " 'BLA_MD_coherence_all_frequencies_all_windows',\n",
       " 'BLA_MD_coherence_gamma',\n",
       " 'BLA_MD_coherence_theta',\n",
       " 'BLA_mPFC_coherence_all_frequencies_all_windows',\n",
       " 'BLA_mPFC_coherence_gamma',\n",
       " 'BLA_mPFC_coherence_theta',\n",
       " 'BLA_vHPC_coherence_all_frequencies_all_windows',\n",
       " 'BLA_vHPC_coherence_gamma',\n",
       " 'BLA_vHPC_coherence_theta',\n",
       " 'LH_MD_coherence_all_frequencies_all_windows',\n",
       " 'LH_MD_coherence_gamma',\n",
       " 'LH_MD_coherence_theta',\n",
       " 'LH_mPFC_coherence_all_frequencies_all_windows',\n",
       " 'LH_mPFC_coherence_gamma',\n",
       " 'LH_mPFC_coherence_theta',\n",
       " 'LH_vHPC_coherence_all_frequencies_all_windows',\n",
       " 'LH_vHPC_coherence_gamma',\n",
       " 'LH_vHPC_coherence_theta',\n",
       " 'MD_mPFC_coherence_all_frequencies_all_windows',\n",
       " 'MD_mPFC_coherence_gamma',\n",
       " 'MD_mPFC_coherence_theta',\n",
       " 'MD_vHPC_coherence_all_frequencies_all_windows',\n",
       " 'MD_vHPC_coherence_gamma',\n",
       " 'MD_vHPC_coherence_theta',\n",
       " 'mPFC_vHPC_coherence_all_frequencies_all_windows',\n",
       " 'mPFC_vHPC_coherence_gamma',\n",
       " 'mPFC_vHPC_coherence_theta']"
      ]
     },
     "execution_count": 68,
     "metadata": {},
     "output_type": "execute_result"
    }
   ],
   "source": [
    "coherence_columns"
   ]
  },
  {
   "cell_type": "code",
   "execution_count": 69,
   "metadata": {
    "tags": []
   },
   "outputs": [
    {
     "name": "stdout",
     "output_type": "stream",
     "text": [
      "trial_and_post_BLA_LH_coherence_all_frequencies_all_windows\n",
      "trial_and_post_BLA_LH_coherence_gamma\n",
      "trial_and_post_BLA_LH_coherence_theta\n",
      "trial_and_post_BLA_MD_coherence_all_frequencies_all_windows\n",
      "trial_and_post_BLA_MD_coherence_gamma\n",
      "trial_and_post_BLA_MD_coherence_theta\n",
      "trial_and_post_BLA_mPFC_coherence_all_frequencies_all_windows\n",
      "trial_and_post_BLA_mPFC_coherence_gamma\n",
      "trial_and_post_BLA_mPFC_coherence_theta\n",
      "trial_and_post_BLA_vHPC_coherence_all_frequencies_all_windows\n",
      "trial_and_post_BLA_vHPC_coherence_gamma\n",
      "trial_and_post_BLA_vHPC_coherence_theta\n",
      "trial_and_post_LH_MD_coherence_all_frequencies_all_windows\n",
      "trial_and_post_LH_MD_coherence_gamma\n",
      "trial_and_post_LH_MD_coherence_theta\n",
      "trial_and_post_LH_mPFC_coherence_all_frequencies_all_windows\n",
      "trial_and_post_LH_mPFC_coherence_gamma\n",
      "trial_and_post_LH_mPFC_coherence_theta\n",
      "trial_and_post_LH_vHPC_coherence_all_frequencies_all_windows\n",
      "trial_and_post_LH_vHPC_coherence_gamma\n",
      "trial_and_post_LH_vHPC_coherence_theta\n",
      "trial_and_post_MD_mPFC_coherence_all_frequencies_all_windows\n",
      "trial_and_post_MD_mPFC_coherence_gamma\n",
      "trial_and_post_MD_mPFC_coherence_theta\n",
      "trial_and_post_MD_vHPC_coherence_all_frequencies_all_windows\n",
      "trial_and_post_MD_vHPC_coherence_gamma\n",
      "trial_and_post_MD_vHPC_coherence_theta\n",
      "trial_and_post_mPFC_vHPC_coherence_all_frequencies_all_windows\n",
      "trial_and_post_mPFC_vHPC_coherence_gamma\n",
      "trial_and_post_mPFC_vHPC_coherence_theta\n"
     ]
    }
   ],
   "source": [
    "for col in sorted(coherence_columns):\n",
    "    updated_item_col = \"trial_and_post_{}\".format(col)\n",
    "    print(updated_item_col)\n",
    "    updated_timestamp_col = \"trial_and_post_coherence_timestamps\"\n",
    "    TRIALS_AND_SPECTRAL_DF[updated_item_col] = TRIALS_AND_SPECTRAL_DF.apply(lambda x: utilities.helper.filter_by_timestamp_range(start=x[\"tone_start_timestamp\"], stop=x[\"post_trial_end_timestamp\"], timestamps=x[\"coherence_timestamps\"], items=x[col])[1], axis=1)\n",
    "\n",
    "TRIALS_AND_SPECTRAL_DF[updated_timestamp_col] = TRIALS_AND_SPECTRAL_DF.apply(lambda x: utilities.helper.filter_by_timestamp_range(start=x[\"tone_start_timestamp\"], stop=x[\"post_trial_end_timestamp\"], timestamps=x[\"coherence_timestamps\"], items=x[col])[0], axis=1)"
   ]
  },
  {
   "cell_type": "code",
   "execution_count": 70,
   "metadata": {
    "tags": []
   },
   "outputs": [],
   "source": [
    "TRIALS_AND_SPECTRAL_DF = TRIALS_AND_SPECTRAL_DF.drop(columns=coherence_columns + [\"coherence_timestamps\"], errors=\"ignore\")"
   ]
  },
  {
   "cell_type": "markdown",
   "metadata": {},
   "source": [
    "- Filtering Grangers"
   ]
  },
  {
   "cell_type": "code",
   "execution_count": 71,
   "metadata": {
    "tags": []
   },
   "outputs": [],
   "source": [
    "granger_columns = [col for col in TRIALS_AND_SPECTRAL_DF.columns if \"granger\" in col and \"timestamps\" not in col and \"calculation\" not in col]"
   ]
  },
  {
   "cell_type": "code",
   "execution_count": 72,
   "metadata": {
    "tags": []
   },
   "outputs": [
    {
     "data": {
      "text/plain": [
       "['BLA-to-LH_granger_gamma',\n",
       " 'BLA-to-LH_granger_theta',\n",
       " 'BLA-to-MD_granger_gamma',\n",
       " 'BLA-to-MD_granger_theta',\n",
       " 'BLA-to-mPFC_granger_gamma',\n",
       " 'BLA-to-mPFC_granger_theta',\n",
       " 'BLA-to-vHPC_granger_gamma',\n",
       " 'BLA-to-vHPC_granger_theta',\n",
       " 'BLA_LH_granger_all_frequencies_all_windows',\n",
       " 'BLA_MD_granger_all_frequencies_all_windows',\n",
       " 'BLA_mPFC_granger_all_frequencies_all_windows',\n",
       " 'BLA_vHPC_granger_all_frequencies_all_windows',\n",
       " 'LH-to-BLA_granger_gamma',\n",
       " 'LH-to-BLA_granger_theta',\n",
       " 'LH-to-MD_granger_gamma',\n",
       " 'LH-to-MD_granger_theta',\n",
       " 'LH-to-mPFC_granger_gamma',\n",
       " 'LH-to-mPFC_granger_theta',\n",
       " 'LH-to-vHPC_granger_gamma',\n",
       " 'LH-to-vHPC_granger_theta',\n",
       " 'LH_BLA_granger_all_frequencies_all_windows',\n",
       " 'LH_MD_granger_all_frequencies_all_windows',\n",
       " 'LH_mPFC_granger_all_frequencies_all_windows',\n",
       " 'LH_vHPC_granger_all_frequencies_all_windows',\n",
       " 'MD-to-BLA_granger_gamma',\n",
       " 'MD-to-BLA_granger_theta',\n",
       " 'MD-to-LH_granger_gamma',\n",
       " 'MD-to-LH_granger_theta',\n",
       " 'MD-to-mPFC_granger_gamma',\n",
       " 'MD-to-mPFC_granger_theta',\n",
       " 'MD-to-vHPC_granger_gamma',\n",
       " 'MD-to-vHPC_granger_theta',\n",
       " 'MD_BLA_granger_all_frequencies_all_windows',\n",
       " 'MD_LH_granger_all_frequencies_all_windows',\n",
       " 'MD_mPFC_granger_all_frequencies_all_windows',\n",
       " 'MD_vHPC_granger_all_frequencies_all_windows',\n",
       " 'mPFC-to-BLA_granger_gamma',\n",
       " 'mPFC-to-BLA_granger_theta',\n",
       " 'mPFC-to-LH_granger_gamma',\n",
       " 'mPFC-to-LH_granger_theta',\n",
       " 'mPFC-to-MD_granger_gamma',\n",
       " 'mPFC-to-MD_granger_theta',\n",
       " 'mPFC-to-vHPC_granger_gamma',\n",
       " 'mPFC-to-vHPC_granger_theta',\n",
       " 'mPFC_BLA_granger_all_frequencies_all_windows',\n",
       " 'mPFC_LH_granger_all_frequencies_all_windows',\n",
       " 'mPFC_MD_granger_all_frequencies_all_windows',\n",
       " 'mPFC_vHPC_granger_all_frequencies_all_windows',\n",
       " 'vHPC-to-BLA_granger_gamma',\n",
       " 'vHPC-to-BLA_granger_theta',\n",
       " 'vHPC-to-LH_granger_gamma',\n",
       " 'vHPC-to-LH_granger_theta',\n",
       " 'vHPC-to-MD_granger_gamma',\n",
       " 'vHPC-to-MD_granger_theta',\n",
       " 'vHPC-to-mPFC_granger_gamma',\n",
       " 'vHPC-to-mPFC_granger_theta',\n",
       " 'vHPC_BLA_granger_all_frequencies_all_windows',\n",
       " 'vHPC_LH_granger_all_frequencies_all_windows',\n",
       " 'vHPC_MD_granger_all_frequencies_all_windows',\n",
       " 'vHPC_mPFC_granger_all_frequencies_all_windows']"
      ]
     },
     "execution_count": 72,
     "metadata": {},
     "output_type": "execute_result"
    }
   ],
   "source": [
    "granger_columns"
   ]
  },
  {
   "cell_type": "code",
   "execution_count": 73,
   "metadata": {
    "tags": []
   },
   "outputs": [
    {
     "name": "stdout",
     "output_type": "stream",
     "text": [
      "trial_and_post_BLA-to-LH_granger_gamma\n",
      "trial_and_post_BLA-to-LH_granger_theta\n",
      "trial_and_post_BLA-to-MD_granger_gamma\n",
      "trial_and_post_BLA-to-MD_granger_theta\n",
      "trial_and_post_BLA-to-mPFC_granger_gamma\n",
      "trial_and_post_BLA-to-mPFC_granger_theta\n",
      "trial_and_post_BLA-to-vHPC_granger_gamma\n",
      "trial_and_post_BLA-to-vHPC_granger_theta\n",
      "trial_and_post_BLA_LH_granger_all_frequencies_all_windows\n",
      "trial_and_post_BLA_MD_granger_all_frequencies_all_windows\n",
      "trial_and_post_BLA_mPFC_granger_all_frequencies_all_windows\n",
      "trial_and_post_BLA_vHPC_granger_all_frequencies_all_windows\n",
      "trial_and_post_LH-to-BLA_granger_gamma\n",
      "trial_and_post_LH-to-BLA_granger_theta\n",
      "trial_and_post_LH-to-MD_granger_gamma\n",
      "trial_and_post_LH-to-MD_granger_theta\n",
      "trial_and_post_LH-to-mPFC_granger_gamma\n",
      "trial_and_post_LH-to-mPFC_granger_theta\n",
      "trial_and_post_LH-to-vHPC_granger_gamma\n",
      "trial_and_post_LH-to-vHPC_granger_theta\n",
      "trial_and_post_LH_BLA_granger_all_frequencies_all_windows\n",
      "trial_and_post_LH_MD_granger_all_frequencies_all_windows\n",
      "trial_and_post_LH_mPFC_granger_all_frequencies_all_windows\n",
      "trial_and_post_LH_vHPC_granger_all_frequencies_all_windows\n",
      "trial_and_post_MD-to-BLA_granger_gamma\n",
      "trial_and_post_MD-to-BLA_granger_theta\n",
      "trial_and_post_MD-to-LH_granger_gamma\n",
      "trial_and_post_MD-to-LH_granger_theta\n",
      "trial_and_post_MD-to-mPFC_granger_gamma\n",
      "trial_and_post_MD-to-mPFC_granger_theta\n",
      "trial_and_post_MD-to-vHPC_granger_gamma\n",
      "trial_and_post_MD-to-vHPC_granger_theta\n",
      "trial_and_post_MD_BLA_granger_all_frequencies_all_windows\n",
      "trial_and_post_MD_LH_granger_all_frequencies_all_windows\n",
      "trial_and_post_MD_mPFC_granger_all_frequencies_all_windows\n",
      "trial_and_post_MD_vHPC_granger_all_frequencies_all_windows\n",
      "trial_and_post_mPFC-to-BLA_granger_gamma\n",
      "trial_and_post_mPFC-to-BLA_granger_theta\n",
      "trial_and_post_mPFC-to-LH_granger_gamma\n",
      "trial_and_post_mPFC-to-LH_granger_theta\n",
      "trial_and_post_mPFC-to-MD_granger_gamma\n",
      "trial_and_post_mPFC-to-MD_granger_theta\n",
      "trial_and_post_mPFC-to-vHPC_granger_gamma\n",
      "trial_and_post_mPFC-to-vHPC_granger_theta\n",
      "trial_and_post_mPFC_BLA_granger_all_frequencies_all_windows\n",
      "trial_and_post_mPFC_LH_granger_all_frequencies_all_windows\n",
      "trial_and_post_mPFC_MD_granger_all_frequencies_all_windows\n",
      "trial_and_post_mPFC_vHPC_granger_all_frequencies_all_windows\n",
      "trial_and_post_vHPC-to-BLA_granger_gamma\n",
      "trial_and_post_vHPC-to-BLA_granger_theta\n",
      "trial_and_post_vHPC-to-LH_granger_gamma\n",
      "trial_and_post_vHPC-to-LH_granger_theta\n",
      "trial_and_post_vHPC-to-MD_granger_gamma\n",
      "trial_and_post_vHPC-to-MD_granger_theta\n",
      "trial_and_post_vHPC-to-mPFC_granger_gamma\n",
      "trial_and_post_vHPC-to-mPFC_granger_theta\n",
      "trial_and_post_vHPC_BLA_granger_all_frequencies_all_windows\n",
      "trial_and_post_vHPC_LH_granger_all_frequencies_all_windows\n",
      "trial_and_post_vHPC_MD_granger_all_frequencies_all_windows\n",
      "trial_and_post_vHPC_mPFC_granger_all_frequencies_all_windows\n"
     ]
    }
   ],
   "source": [
    "for col in sorted(granger_columns):\n",
    "    updated_item_col = \"trial_and_post_{}\".format(col)\n",
    "    print(updated_item_col)\n",
    "    updated_timestamp_col = \"trial_and_post_granger_timestamps\"\n",
    "    TRIALS_AND_SPECTRAL_DF[updated_item_col] = TRIALS_AND_SPECTRAL_DF.apply(lambda x: utilities.helper.filter_by_timestamp_range(start=x[\"tone_start_timestamp\"], stop=x[\"post_trial_end_timestamp\"], timestamps=x[\"granger_timestamps\"], items=x[col])[1], axis=1)\n",
    "\n",
    "TRIALS_AND_SPECTRAL_DF[updated_timestamp_col] = TRIALS_AND_SPECTRAL_DF.apply(lambda x: utilities.helper.filter_by_timestamp_range(start=x[\"tone_start_timestamp\"], stop=x[\"post_trial_end_timestamp\"], timestamps=x[\"granger_timestamps\"], items=x[col])[0], axis=1)"
   ]
  },
  {
   "cell_type": "code",
   "execution_count": 74,
   "metadata": {
    "tags": []
   },
   "outputs": [],
   "source": [
    "TRIALS_AND_SPECTRAL_DF = TRIALS_AND_SPECTRAL_DF.drop(columns=granger_columns + [\"granger_timestamps\"], errors=\"ignore\")"
   ]
  },
  {
   "cell_type": "code",
   "execution_count": 75,
   "metadata": {},
   "outputs": [],
   "source": [
    "TRIALS_AND_SPECTRAL_DF.to_pickle(os.path.join(OUTPUT_DIR, FULL_LFP_TRACES_PKL))"
   ]
  },
  {
   "cell_type": "markdown",
   "metadata": {},
   "source": [
    "- Filtering power"
   ]
  },
  {
   "cell_type": "code",
   "execution_count": 76,
   "metadata": {},
   "outputs": [
    {
     "data": {
      "text/html": [
       "<div>\n",
       "<style scoped>\n",
       "    .dataframe tbody tr th:only-of-type {\n",
       "        vertical-align: middle;\n",
       "    }\n",
       "\n",
       "    .dataframe tbody tr th {\n",
       "        vertical-align: top;\n",
       "    }\n",
       "\n",
       "    .dataframe thead th {\n",
       "        text-align: right;\n",
       "    }\n",
       "</style>\n",
       "<table border=\"1\" class=\"dataframe\">\n",
       "  <thead>\n",
       "    <tr style=\"text-align: right;\">\n",
       "      <th></th>\n",
       "      <th>tone_start_frame</th>\n",
       "      <th>reward_start</th>\n",
       "      <th>reward_dispensed</th>\n",
       "      <th>tone_stop_frame</th>\n",
       "      <th>condition</th>\n",
       "      <th>competition_closeness</th>\n",
       "      <th>get_reward_frame</th>\n",
       "      <th>out_reward_frame</th>\n",
       "      <th>notes</th>\n",
       "      <th>box_1_port_entry_frames</th>\n",
       "      <th>...</th>\n",
       "      <th>trial_and_post_vHPC-to-LH_granger_theta</th>\n",
       "      <th>trial_and_post_vHPC-to-MD_granger_gamma</th>\n",
       "      <th>trial_and_post_vHPC-to-MD_granger_theta</th>\n",
       "      <th>trial_and_post_vHPC-to-mPFC_granger_gamma</th>\n",
       "      <th>trial_and_post_vHPC-to-mPFC_granger_theta</th>\n",
       "      <th>trial_and_post_vHPC_BLA_granger_all_frequencies_all_windows</th>\n",
       "      <th>trial_and_post_vHPC_LH_granger_all_frequencies_all_windows</th>\n",
       "      <th>trial_and_post_vHPC_MD_granger_all_frequencies_all_windows</th>\n",
       "      <th>trial_and_post_vHPC_mPFC_granger_all_frequencies_all_windows</th>\n",
       "      <th>trial_and_post_granger_timestamps</th>\n",
       "    </tr>\n",
       "  </thead>\n",
       "  <tbody>\n",
       "    <tr>\n",
       "      <th>0</th>\n",
       "      <td>34242.0</td>\n",
       "      <td>34322</td>\n",
       "      <td>34342.0</td>\n",
       "      <td>34442.0</td>\n",
       "      <td>4.3</td>\n",
       "      <td>After trial</td>\n",
       "      <td>NaN</td>\n",
       "      <td>NaN</td>\n",
       "      <td>NaN</td>\n",
       "      <td>[34250 34265]</td>\n",
       "      <td>...</td>\n",
       "      <td>[nan, nan, nan, nan, nan, nan, nan, nan, nan, ...</td>\n",
       "      <td>[0.28025758, nan, nan, 0.41743714, 0.21834409,...</td>\n",
       "      <td>[0.23024763, nan, nan, 0.9353319, 0.319544, 0....</td>\n",
       "      <td>[0.37370068, 0.19593298, 0.24783824, 0.5190265...</td>\n",
       "      <td>[0.24562584, 0.3226391, 0.3933062, 0.2503362, ...</td>\n",
       "      <td>[[0.19570056, 0.39165547, 0.42840633, 0.003789...</td>\n",
       "      <td>[[nan, nan, nan, nan, nan, nan, nan, nan, nan,...</td>\n",
       "      <td>[[0.08415773, 0.3302141, 0.045392677, 0.055473...</td>\n",
       "      <td>[[0.86276275, 0.14905748, 0.06818561, 0.797947...</td>\n",
       "      <td>[34290000, 34300000, 34310000, 34320000, 34330...</td>\n",
       "    </tr>\n",
       "    <tr>\n",
       "      <th>1</th>\n",
       "      <td>34242.0</td>\n",
       "      <td>34322</td>\n",
       "      <td>34342.0</td>\n",
       "      <td>34442.0</td>\n",
       "      <td>4.3</td>\n",
       "      <td>After trial</td>\n",
       "      <td>NaN</td>\n",
       "      <td>NaN</td>\n",
       "      <td>NaN</td>\n",
       "      <td>[34250 34265]</td>\n",
       "      <td>...</td>\n",
       "      <td>[0.2363139, 0.41075477, 0.8478528, 0.48844126,...</td>\n",
       "      <td>[0.36353996, 0.15205036, 0.23416331, 0.3566951...</td>\n",
       "      <td>[0.33668253, 0.85507286, 0.90271455, 0.4501695...</td>\n",
       "      <td>[0.32077262, 0.24556732, 0.29555127, 0.2154068...</td>\n",
       "      <td>[0.20953523, 0.2844586, 0.50291806, 0.28010756...</td>\n",
       "      <td>[[0.014382862, 0.406129, 0.153771, 0.20892818,...</td>\n",
       "      <td>[[1.019669, 0.92050135, 0.31001902, 0.33910534...</td>\n",
       "      <td>[[nan, 0.35356078, 0.40626025, 0.48121068, 0.6...</td>\n",
       "      <td>[[nan, 0.33710825, 0.37741727, 0.0030226384, 0...</td>\n",
       "      <td>[34290000, 34300000, 34310000, 34320000, 34330...</td>\n",
       "    </tr>\n",
       "    <tr>\n",
       "      <th>2</th>\n",
       "      <td>35241.0</td>\n",
       "      <td>35321</td>\n",
       "      <td>35341.0</td>\n",
       "      <td>35439.0</td>\n",
       "      <td>4.3</td>\n",
       "      <td>Subj 2 Only</td>\n",
       "      <td>NaN</td>\n",
       "      <td>NaN</td>\n",
       "      <td>NaN</td>\n",
       "      <td>[35242 35249] [35249 35250] [35250 35271] [353...</td>\n",
       "      <td>...</td>\n",
       "      <td>[nan, nan, nan, nan, nan, 0.21267332, 0.664433...</td>\n",
       "      <td>[0.19391048, 0.37919402, 0.23631321, 0.2089716...</td>\n",
       "      <td>[0.7717466, 0.40888223, 0.2859683, 0.42284307,...</td>\n",
       "      <td>[nan, nan, 0.505424, 0.18228588, 0.25823608, 0...</td>\n",
       "      <td>[nan, nan, 0.2680256, 0.37803674, 0.26108357, ...</td>\n",
       "      <td>[[0.787003, 2.0898507, 0.23305301, 0.42564744,...</td>\n",
       "      <td>[[nan, nan, nan, nan, nan, nan, nan, nan, nan,...</td>\n",
       "      <td>[[nan, 0.7974316, 0.95851564, 0.1460529, 0.334...</td>\n",
       "      <td>[[nan, nan, nan, nan, nan, nan, nan, nan, nan,...</td>\n",
       "      <td>[35290000, 35300000, 35310000, 35320000, 35330...</td>\n",
       "    </tr>\n",
       "    <tr>\n",
       "      <th>3</th>\n",
       "      <td>35241.0</td>\n",
       "      <td>35321</td>\n",
       "      <td>35341.0</td>\n",
       "      <td>35439.0</td>\n",
       "      <td>4.3</td>\n",
       "      <td>Subj 2 Only</td>\n",
       "      <td>NaN</td>\n",
       "      <td>NaN</td>\n",
       "      <td>NaN</td>\n",
       "      <td>[35242 35249] [35249 35250] [35250 35271] [353...</td>\n",
       "      <td>...</td>\n",
       "      <td>[0.63246053, 0.27426302, 0.24294318, 0.3799649...</td>\n",
       "      <td>[0.37667498, 0.32664865, 0.51134294, 0.4639755...</td>\n",
       "      <td>[0.6417161, 0.5026112, 0.2073952, 0.44877592, ...</td>\n",
       "      <td>[0.4314264, 0.5059805, 0.17072167, 0.3232596, ...</td>\n",
       "      <td>[0.652398, 0.28057894, 0.30667073, 0.3425745, ...</td>\n",
       "      <td>[[nan, 0.59907705, nan, 0.42015857, 0.7900691,...</td>\n",
       "      <td>[[nan, 1.2316518, nan, 0.4315901, 0.394599, 0....</td>\n",
       "      <td>[[1.4480077, 0.30466077, nan, 0.55090654, 0.47...</td>\n",
       "      <td>[[1.0272465, 0.7757136, 3.993393, 1.0649973, 1...</td>\n",
       "      <td>[35290000, 35300000, 35310000, 35320000, 35330...</td>\n",
       "    </tr>\n",
       "    <tr>\n",
       "      <th>4</th>\n",
       "      <td>36339.0</td>\n",
       "      <td>36419</td>\n",
       "      <td>36439.0</td>\n",
       "      <td>36538.0</td>\n",
       "      <td>4.3</td>\n",
       "      <td>Subj 2 blocking Subj 1</td>\n",
       "      <td>NaN</td>\n",
       "      <td>NaN</td>\n",
       "      <td>NaN</td>\n",
       "      <td>[36339 36354] [36361 36365] [36410 36473] [364...</td>\n",
       "      <td>...</td>\n",
       "      <td>[1.2062156, 0.7592138, nan, nan, 0.45571697, 0...</td>\n",
       "      <td>[0.30087486, 0.38171488, 0.42217037, 0.781968,...</td>\n",
       "      <td>[0.51709586, 0.5179555, 0.7205621, 0.46453947,...</td>\n",
       "      <td>[0.26118484, 0.40878722, 0.33726102, 0.4539449...</td>\n",
       "      <td>[0.5702603, 0.32227325, 0.3927004, 0.34283605,...</td>\n",
       "      <td>[[nan, 0.6854275, 0.9115972, 0.46858928, 1.234...</td>\n",
       "      <td>[[1.385739, 0.99603033, 0.766229, 0.3370798, 1...</td>\n",
       "      <td>[[nan, 0.7964243, 0.09600371, 0.23006243, 0.14...</td>\n",
       "      <td>[[3.0856311, 0.80222654, 0.83091146, 0.3477300...</td>\n",
       "      <td>[36390000, 36400000, 36410000, 36420000, 36430...</td>\n",
       "    </tr>\n",
       "  </tbody>\n",
       "</table>\n",
       "<p>5 rows × 208 columns</p>\n",
       "</div>"
      ],
      "text/plain": [
       "   tone_start_frame  reward_start  reward_dispensed  tone_stop_frame  \\\n",
       "0           34242.0         34322           34342.0          34442.0   \n",
       "1           34242.0         34322           34342.0          34442.0   \n",
       "2           35241.0         35321           35341.0          35439.0   \n",
       "3           35241.0         35321           35341.0          35439.0   \n",
       "4           36339.0         36419           36439.0          36538.0   \n",
       "\n",
       "  condition    competition_closeness  get_reward_frame  out_reward_frame  \\\n",
       "0        4.3             After trial               NaN               NaN   \n",
       "1        4.3             After trial               NaN               NaN   \n",
       "2        4.3             Subj 2 Only               NaN               NaN   \n",
       "3        4.3             Subj 2 Only               NaN               NaN   \n",
       "4        4.3  Subj 2 blocking Subj 1               NaN               NaN   \n",
       "\n",
       "  notes                            box_1_port_entry_frames  ...  \\\n",
       "0   NaN                                      [34250 34265]  ...   \n",
       "1   NaN                                      [34250 34265]  ...   \n",
       "2   NaN  [35242 35249] [35249 35250] [35250 35271] [353...  ...   \n",
       "3   NaN  [35242 35249] [35249 35250] [35250 35271] [353...  ...   \n",
       "4   NaN  [36339 36354] [36361 36365] [36410 36473] [364...  ...   \n",
       "\n",
       "             trial_and_post_vHPC-to-LH_granger_theta  \\\n",
       "0  [nan, nan, nan, nan, nan, nan, nan, nan, nan, ...   \n",
       "1  [0.2363139, 0.41075477, 0.8478528, 0.48844126,...   \n",
       "2  [nan, nan, nan, nan, nan, 0.21267332, 0.664433...   \n",
       "3  [0.63246053, 0.27426302, 0.24294318, 0.3799649...   \n",
       "4  [1.2062156, 0.7592138, nan, nan, 0.45571697, 0...   \n",
       "\n",
       "             trial_and_post_vHPC-to-MD_granger_gamma  \\\n",
       "0  [0.28025758, nan, nan, 0.41743714, 0.21834409,...   \n",
       "1  [0.36353996, 0.15205036, 0.23416331, 0.3566951...   \n",
       "2  [0.19391048, 0.37919402, 0.23631321, 0.2089716...   \n",
       "3  [0.37667498, 0.32664865, 0.51134294, 0.4639755...   \n",
       "4  [0.30087486, 0.38171488, 0.42217037, 0.781968,...   \n",
       "\n",
       "             trial_and_post_vHPC-to-MD_granger_theta  \\\n",
       "0  [0.23024763, nan, nan, 0.9353319, 0.319544, 0....   \n",
       "1  [0.33668253, 0.85507286, 0.90271455, 0.4501695...   \n",
       "2  [0.7717466, 0.40888223, 0.2859683, 0.42284307,...   \n",
       "3  [0.6417161, 0.5026112, 0.2073952, 0.44877592, ...   \n",
       "4  [0.51709586, 0.5179555, 0.7205621, 0.46453947,...   \n",
       "\n",
       "           trial_and_post_vHPC-to-mPFC_granger_gamma  \\\n",
       "0  [0.37370068, 0.19593298, 0.24783824, 0.5190265...   \n",
       "1  [0.32077262, 0.24556732, 0.29555127, 0.2154068...   \n",
       "2  [nan, nan, 0.505424, 0.18228588, 0.25823608, 0...   \n",
       "3  [0.4314264, 0.5059805, 0.17072167, 0.3232596, ...   \n",
       "4  [0.26118484, 0.40878722, 0.33726102, 0.4539449...   \n",
       "\n",
       "           trial_and_post_vHPC-to-mPFC_granger_theta  \\\n",
       "0  [0.24562584, 0.3226391, 0.3933062, 0.2503362, ...   \n",
       "1  [0.20953523, 0.2844586, 0.50291806, 0.28010756...   \n",
       "2  [nan, nan, 0.2680256, 0.37803674, 0.26108357, ...   \n",
       "3  [0.652398, 0.28057894, 0.30667073, 0.3425745, ...   \n",
       "4  [0.5702603, 0.32227325, 0.3927004, 0.34283605,...   \n",
       "\n",
       "  trial_and_post_vHPC_BLA_granger_all_frequencies_all_windows  \\\n",
       "0  [[0.19570056, 0.39165547, 0.42840633, 0.003789...            \n",
       "1  [[0.014382862, 0.406129, 0.153771, 0.20892818,...            \n",
       "2  [[0.787003, 2.0898507, 0.23305301, 0.42564744,...            \n",
       "3  [[nan, 0.59907705, nan, 0.42015857, 0.7900691,...            \n",
       "4  [[nan, 0.6854275, 0.9115972, 0.46858928, 1.234...            \n",
       "\n",
       "  trial_and_post_vHPC_LH_granger_all_frequencies_all_windows  \\\n",
       "0  [[nan, nan, nan, nan, nan, nan, nan, nan, nan,...           \n",
       "1  [[1.019669, 0.92050135, 0.31001902, 0.33910534...           \n",
       "2  [[nan, nan, nan, nan, nan, nan, nan, nan, nan,...           \n",
       "3  [[nan, 1.2316518, nan, 0.4315901, 0.394599, 0....           \n",
       "4  [[1.385739, 0.99603033, 0.766229, 0.3370798, 1...           \n",
       "\n",
       "  trial_and_post_vHPC_MD_granger_all_frequencies_all_windows  \\\n",
       "0  [[0.08415773, 0.3302141, 0.045392677, 0.055473...           \n",
       "1  [[nan, 0.35356078, 0.40626025, 0.48121068, 0.6...           \n",
       "2  [[nan, 0.7974316, 0.95851564, 0.1460529, 0.334...           \n",
       "3  [[1.4480077, 0.30466077, nan, 0.55090654, 0.47...           \n",
       "4  [[nan, 0.7964243, 0.09600371, 0.23006243, 0.14...           \n",
       "\n",
       "  trial_and_post_vHPC_mPFC_granger_all_frequencies_all_windows  \\\n",
       "0  [[0.86276275, 0.14905748, 0.06818561, 0.797947...             \n",
       "1  [[nan, 0.33710825, 0.37741727, 0.0030226384, 0...             \n",
       "2  [[nan, nan, nan, nan, nan, nan, nan, nan, nan,...             \n",
       "3  [[1.0272465, 0.7757136, 3.993393, 1.0649973, 1...             \n",
       "4  [[3.0856311, 0.80222654, 0.83091146, 0.3477300...             \n",
       "\n",
       "                   trial_and_post_granger_timestamps  \n",
       "0  [34290000, 34300000, 34310000, 34320000, 34330...  \n",
       "1  [34290000, 34300000, 34310000, 34320000, 34330...  \n",
       "2  [35290000, 35300000, 35310000, 35320000, 35330...  \n",
       "3  [35290000, 35300000, 35310000, 35320000, 35330...  \n",
       "4  [36390000, 36400000, 36410000, 36420000, 36430...  \n",
       "\n",
       "[5 rows x 208 columns]"
      ]
     },
     "execution_count": 76,
     "metadata": {},
     "output_type": "execute_result"
    }
   ],
   "source": [
    "TRIALS_AND_SPECTRAL_DF.head()"
   ]
  },
  {
   "cell_type": "code",
   "execution_count": 77,
   "metadata": {
    "tags": []
   },
   "outputs": [],
   "source": [
    "power_columns = [col for col in TRIALS_AND_SPECTRAL_DF.columns if \"power\" in col and \"timestamps\" not in col and \"calculation\" not in col]"
   ]
  },
  {
   "cell_type": "code",
   "execution_count": 78,
   "metadata": {
    "tags": []
   },
   "outputs": [
    {
     "data": {
      "text/plain": [
       "['BLA_power_all_frequencies_all_windows',\n",
       " 'BLA_power_gamma',\n",
       " 'BLA_power_theta',\n",
       " 'LH_power_all_frequencies_all_windows',\n",
       " 'LH_power_gamma',\n",
       " 'LH_power_theta',\n",
       " 'MD_power_all_frequencies_all_windows',\n",
       " 'MD_power_gamma',\n",
       " 'MD_power_theta',\n",
       " 'mPFC_power_all_frequencies_all_windows',\n",
       " 'mPFC_power_gamma',\n",
       " 'mPFC_power_theta',\n",
       " 'vHPC_power_all_frequencies_all_windows',\n",
       " 'vHPC_power_gamma',\n",
       " 'vHPC_power_theta']"
      ]
     },
     "execution_count": 78,
     "metadata": {},
     "output_type": "execute_result"
    }
   ],
   "source": [
    "power_columns"
   ]
  },
  {
   "cell_type": "code",
   "execution_count": 79,
   "metadata": {
    "tags": []
   },
   "outputs": [
    {
     "name": "stdout",
     "output_type": "stream",
     "text": [
      "trial_and_post_BLA_power_all_frequencies_all_windows\n",
      "trial_and_post_BLA_power_gamma\n",
      "trial_and_post_BLA_power_theta\n",
      "trial_and_post_LH_power_all_frequencies_all_windows\n",
      "trial_and_post_LH_power_gamma\n",
      "trial_and_post_LH_power_theta\n",
      "trial_and_post_MD_power_all_frequencies_all_windows\n",
      "trial_and_post_MD_power_gamma\n",
      "trial_and_post_MD_power_theta\n",
      "trial_and_post_mPFC_power_all_frequencies_all_windows\n",
      "trial_and_post_mPFC_power_gamma\n",
      "trial_and_post_mPFC_power_theta\n",
      "trial_and_post_vHPC_power_all_frequencies_all_windows\n",
      "trial_and_post_vHPC_power_gamma\n",
      "trial_and_post_vHPC_power_theta\n"
     ]
    }
   ],
   "source": [
    "for col in sorted(power_columns):\n",
    "    updated_item_col = \"trial_and_post_{}\".format(col)\n",
    "    print(updated_item_col)\n",
    "    updated_timestamp_col = \"trial_and_post_power_timestamps\"\n",
    "    TRIALS_AND_SPECTRAL_DF[updated_item_col] = TRIALS_AND_SPECTRAL_DF.apply(lambda x: utilities.helper.filter_by_timestamp_range(start=x[\"tone_start_timestamp\"], stop=x[\"post_trial_end_timestamp\"], timestamps=x[\"power_timestamps\"], items=x[col])[1], axis=1)\n",
    "\n",
    "TRIALS_AND_SPECTRAL_DF[updated_timestamp_col] = TRIALS_AND_SPECTRAL_DF.apply(lambda x: utilities.helper.filter_by_timestamp_range(start=x[\"tone_start_timestamp\"], stop=x[\"post_trial_end_timestamp\"], timestamps=x[\"power_timestamps\"], items=x[col])[0], axis=1)\n"
   ]
  },
  {
   "cell_type": "code",
   "execution_count": 80,
   "metadata": {
    "tags": []
   },
   "outputs": [],
   "source": [
    "TRIALS_AND_SPECTRAL_DF = TRIALS_AND_SPECTRAL_DF.drop(columns=power_columns + [\"power_timestamps\"], errors=\"ignore\")"
   ]
  },
  {
   "cell_type": "code",
   "execution_count": 81,
   "metadata": {
    "tags": []
   },
   "outputs": [
    {
     "name": "stdout",
     "output_type": "stream",
     "text": [
      "tone_start_frame\n",
      "reward_start\n",
      "reward_dispensed\n",
      "tone_stop_frame\n",
      "condition \n",
      "competition_closeness\n",
      "get_reward_frame\n",
      "out_reward_frame\n",
      "notes\n",
      "box_1_port_entry_frames\n",
      "box_2_port_entry_frames\n",
      "video_name\n",
      "tone_start_timestamp\n",
      "tone_stop_timestamp\n",
      "box_1_port_entry_timestamps\n",
      "box_2_port_entry_timestamps\n",
      "current_subject\n",
      "subject_tail_base\n",
      "agent_tail_base\n",
      "session_dir\n",
      "experiment\n",
      "sleap_name\n",
      "video_id\n",
      "agent\n",
      "BLA_gamma_band\n",
      "BLA_gamma_phase\n",
      "BLA_lfp_RMS_filtered\n",
      "BLA_lfp_trace\n",
      "BLA_theta_band\n",
      "BLA_theta_phase\n",
      "LH_gamma_band\n",
      "LH_gamma_phase\n",
      "LH_lfp_RMS_filtered\n",
      "LH_lfp_trace\n",
      "LH_theta_band\n",
      "LH_theta_phase\n",
      "MD_gamma_band\n",
      "MD_gamma_phase\n",
      "MD_lfp_RMS_filtered\n",
      "MD_lfp_trace\n",
      "MD_theta_band\n",
      "MD_theta_phase\n",
      "all_subjects\n",
      "coherence_calculation_frequencies\n",
      "cohort\n",
      "first_timestamp\n",
      "granger_calculation_frequencies\n",
      "last_timestamp\n",
      "lfp_timestamps\n",
      "mPFC_gamma_band\n",
      "mPFC_gamma_phase\n",
      "mPFC_lfp_RMS_filtered\n",
      "mPFC_lfp_trace\n",
      "mPFC_theta_band\n",
      "mPFC_theta_phase\n",
      "power_calculation_frequencies\n",
      "recording\n",
      "session_path\n",
      "subject\n",
      "tone_frames\n",
      "tone_timestamps\n",
      "vHPC_gamma_band\n",
      "vHPC_gamma_phase\n",
      "vHPC_lfp_RMS_filtered\n",
      "vHPC_lfp_trace\n",
      "vHPC_theta_band\n",
      "vHPC_theta_phase\n",
      "video_timestamps\n",
      "baseline_start_timestamp\n",
      "post_trial_end_timestamp\n",
      "video_frame\n",
      "trial_and_post_agent_locations\n",
      "trial_and_post_agent_nose\n",
      "trial_and_post_agent_nose_to_reward_port\n",
      "trial_and_post_agent_thorax\n",
      "trial_and_post_agent_thorax_velocity\n",
      "trial_and_post_agent_to_reward_port_angle\n",
      "trial_and_post_closebool_agent_nose_to_reward_port\n",
      "trial_and_post_closebool_subject_nose_to_reward_port\n",
      "trial_and_post_frame_index\n",
      "trial_and_post_kmeans_cluster\n",
      "trial_and_post_manual_cluster_id\n",
      "trial_and_post_movingbool_agent_thorax_velocity\n",
      "trial_and_post_movingbool_subject_thorax_velocity\n",
      "trial_and_post_nose_to_reward_port_diff\n",
      "trial_and_post_nose_to_reward_port_sum\n",
      "trial_and_post_standard_embedding_x\n",
      "trial_and_post_standard_embedding_y\n",
      "trial_and_post_subject_locations\n",
      "trial_and_post_subject_nose\n",
      "trial_and_post_subject_nose_to_reward_port\n",
      "trial_and_post_subject_thorax\n",
      "trial_and_post_subject_thorax_to_agent_thorax\n",
      "trial_and_post_subject_thorax_velocity\n",
      "trial_and_post_subject_to_reward_port_angle\n",
      "trial_and_post_thorax_velocity_diff\n",
      "trial_and_post_thorax_velocity_sum\n",
      "trial_and_post_to_reward_port_angle_diff\n",
      "trial_and_post_to_reward_port_angle_sum\n",
      "trial_and_post_video_timestamps\n",
      "trial_and_post_BLA_LH_coherence_all_frequencies_all_windows\n",
      "trial_and_post_BLA_LH_coherence_gamma\n",
      "trial_and_post_BLA_LH_coherence_theta\n",
      "trial_and_post_BLA_MD_coherence_all_frequencies_all_windows\n",
      "trial_and_post_BLA_MD_coherence_gamma\n",
      "trial_and_post_BLA_MD_coherence_theta\n",
      "trial_and_post_BLA_mPFC_coherence_all_frequencies_all_windows\n",
      "trial_and_post_BLA_mPFC_coherence_gamma\n",
      "trial_and_post_BLA_mPFC_coherence_theta\n",
      "trial_and_post_BLA_vHPC_coherence_all_frequencies_all_windows\n",
      "trial_and_post_BLA_vHPC_coherence_gamma\n",
      "trial_and_post_BLA_vHPC_coherence_theta\n",
      "trial_and_post_LH_MD_coherence_all_frequencies_all_windows\n",
      "trial_and_post_LH_MD_coherence_gamma\n",
      "trial_and_post_LH_MD_coherence_theta\n",
      "trial_and_post_LH_mPFC_coherence_all_frequencies_all_windows\n",
      "trial_and_post_LH_mPFC_coherence_gamma\n",
      "trial_and_post_LH_mPFC_coherence_theta\n",
      "trial_and_post_LH_vHPC_coherence_all_frequencies_all_windows\n",
      "trial_and_post_LH_vHPC_coherence_gamma\n",
      "trial_and_post_LH_vHPC_coherence_theta\n",
      "trial_and_post_MD_mPFC_coherence_all_frequencies_all_windows\n",
      "trial_and_post_MD_mPFC_coherence_gamma\n",
      "trial_and_post_MD_mPFC_coherence_theta\n",
      "trial_and_post_MD_vHPC_coherence_all_frequencies_all_windows\n",
      "trial_and_post_MD_vHPC_coherence_gamma\n",
      "trial_and_post_MD_vHPC_coherence_theta\n",
      "trial_and_post_mPFC_vHPC_coherence_all_frequencies_all_windows\n",
      "trial_and_post_mPFC_vHPC_coherence_gamma\n",
      "trial_and_post_mPFC_vHPC_coherence_theta\n",
      "trial_and_post_coherence_timestamps\n",
      "trial_and_post_BLA-to-LH_granger_gamma\n",
      "trial_and_post_BLA-to-LH_granger_theta\n",
      "trial_and_post_BLA-to-MD_granger_gamma\n",
      "trial_and_post_BLA-to-MD_granger_theta\n",
      "trial_and_post_BLA-to-mPFC_granger_gamma\n",
      "trial_and_post_BLA-to-mPFC_granger_theta\n",
      "trial_and_post_BLA-to-vHPC_granger_gamma\n",
      "trial_and_post_BLA-to-vHPC_granger_theta\n",
      "trial_and_post_BLA_LH_granger_all_frequencies_all_windows\n",
      "trial_and_post_BLA_MD_granger_all_frequencies_all_windows\n",
      "trial_and_post_BLA_mPFC_granger_all_frequencies_all_windows\n",
      "trial_and_post_BLA_vHPC_granger_all_frequencies_all_windows\n",
      "trial_and_post_LH-to-BLA_granger_gamma\n",
      "trial_and_post_LH-to-BLA_granger_theta\n",
      "trial_and_post_LH-to-MD_granger_gamma\n",
      "trial_and_post_LH-to-MD_granger_theta\n",
      "trial_and_post_LH-to-mPFC_granger_gamma\n",
      "trial_and_post_LH-to-mPFC_granger_theta\n",
      "trial_and_post_LH-to-vHPC_granger_gamma\n",
      "trial_and_post_LH-to-vHPC_granger_theta\n",
      "trial_and_post_LH_BLA_granger_all_frequencies_all_windows\n",
      "trial_and_post_LH_MD_granger_all_frequencies_all_windows\n",
      "trial_and_post_LH_mPFC_granger_all_frequencies_all_windows\n",
      "trial_and_post_LH_vHPC_granger_all_frequencies_all_windows\n",
      "trial_and_post_MD-to-BLA_granger_gamma\n",
      "trial_and_post_MD-to-BLA_granger_theta\n",
      "trial_and_post_MD-to-LH_granger_gamma\n",
      "trial_and_post_MD-to-LH_granger_theta\n",
      "trial_and_post_MD-to-mPFC_granger_gamma\n",
      "trial_and_post_MD-to-mPFC_granger_theta\n",
      "trial_and_post_MD-to-vHPC_granger_gamma\n",
      "trial_and_post_MD-to-vHPC_granger_theta\n",
      "trial_and_post_MD_BLA_granger_all_frequencies_all_windows\n",
      "trial_and_post_MD_LH_granger_all_frequencies_all_windows\n",
      "trial_and_post_MD_mPFC_granger_all_frequencies_all_windows\n",
      "trial_and_post_MD_vHPC_granger_all_frequencies_all_windows\n",
      "trial_and_post_mPFC-to-BLA_granger_gamma\n",
      "trial_and_post_mPFC-to-BLA_granger_theta\n",
      "trial_and_post_mPFC-to-LH_granger_gamma\n",
      "trial_and_post_mPFC-to-LH_granger_theta\n",
      "trial_and_post_mPFC-to-MD_granger_gamma\n",
      "trial_and_post_mPFC-to-MD_granger_theta\n",
      "trial_and_post_mPFC-to-vHPC_granger_gamma\n",
      "trial_and_post_mPFC-to-vHPC_granger_theta\n",
      "trial_and_post_mPFC_BLA_granger_all_frequencies_all_windows\n",
      "trial_and_post_mPFC_LH_granger_all_frequencies_all_windows\n",
      "trial_and_post_mPFC_MD_granger_all_frequencies_all_windows\n",
      "trial_and_post_mPFC_vHPC_granger_all_frequencies_all_windows\n",
      "trial_and_post_vHPC-to-BLA_granger_gamma\n",
      "trial_and_post_vHPC-to-BLA_granger_theta\n",
      "trial_and_post_vHPC-to-LH_granger_gamma\n",
      "trial_and_post_vHPC-to-LH_granger_theta\n",
      "trial_and_post_vHPC-to-MD_granger_gamma\n",
      "trial_and_post_vHPC-to-MD_granger_theta\n",
      "trial_and_post_vHPC-to-mPFC_granger_gamma\n",
      "trial_and_post_vHPC-to-mPFC_granger_theta\n",
      "trial_and_post_vHPC_BLA_granger_all_frequencies_all_windows\n",
      "trial_and_post_vHPC_LH_granger_all_frequencies_all_windows\n",
      "trial_and_post_vHPC_MD_granger_all_frequencies_all_windows\n",
      "trial_and_post_vHPC_mPFC_granger_all_frequencies_all_windows\n",
      "trial_and_post_granger_timestamps\n",
      "trial_and_post_BLA_power_all_frequencies_all_windows\n",
      "trial_and_post_BLA_power_gamma\n",
      "trial_and_post_BLA_power_theta\n",
      "trial_and_post_LH_power_all_frequencies_all_windows\n",
      "trial_and_post_LH_power_gamma\n",
      "trial_and_post_LH_power_theta\n",
      "trial_and_post_MD_power_all_frequencies_all_windows\n",
      "trial_and_post_MD_power_gamma\n",
      "trial_and_post_MD_power_theta\n",
      "trial_and_post_mPFC_power_all_frequencies_all_windows\n",
      "trial_and_post_mPFC_power_gamma\n",
      "trial_and_post_mPFC_power_theta\n",
      "trial_and_post_vHPC_power_all_frequencies_all_windows\n",
      "trial_and_post_vHPC_power_gamma\n",
      "trial_and_post_vHPC_power_theta\n",
      "trial_and_post_power_timestamps\n"
     ]
    }
   ],
   "source": [
    "for col in TRIALS_AND_SPECTRAL_DF:\n",
    "    print(col)"
   ]
  },
  {
   "cell_type": "markdown",
   "metadata": {
    "tags": []
   },
   "source": [
    "# Filtering out phase"
   ]
  },
  {
   "cell_type": "code",
   "execution_count": 82,
   "metadata": {
    "tags": []
   },
   "outputs": [],
   "source": [
    "lfp_columns = [col for col in TRIALS_AND_SPECTRAL_DF.columns if \"trace\" in col and \"timestamps\" not in col and \"calculation\" not in col]"
   ]
  },
  {
   "cell_type": "code",
   "execution_count": 83,
   "metadata": {
    "tags": []
   },
   "outputs": [],
   "source": [
    "band_columns = [col for col in TRIALS_AND_SPECTRAL_DF.columns if \"band\" in col and \"timestamps\" not in col and \"calculation\" not in col]"
   ]
  },
  {
   "cell_type": "code",
   "execution_count": 84,
   "metadata": {
    "tags": []
   },
   "outputs": [],
   "source": [
    "phase_columns = [col for col in TRIALS_AND_SPECTRAL_DF.columns if \"phase\" in col and \"timestamps\" not in col and \"calculation\" not in col]"
   ]
  },
  {
   "cell_type": "code",
   "execution_count": 85,
   "metadata": {
    "tags": []
   },
   "outputs": [],
   "source": [
    "phase_columns = phase_columns + band_columns +lfp_columns"
   ]
  },
  {
   "cell_type": "code",
   "execution_count": 86,
   "metadata": {
    "tags": []
   },
   "outputs": [
    {
     "data": {
      "text/plain": [
       "['BLA_gamma_phase',\n",
       " 'BLA_theta_phase',\n",
       " 'LH_gamma_phase',\n",
       " 'LH_theta_phase',\n",
       " 'MD_gamma_phase',\n",
       " 'MD_theta_phase',\n",
       " 'mPFC_gamma_phase',\n",
       " 'mPFC_theta_phase',\n",
       " 'vHPC_gamma_phase',\n",
       " 'vHPC_theta_phase',\n",
       " 'BLA_gamma_band',\n",
       " 'BLA_theta_band',\n",
       " 'LH_gamma_band',\n",
       " 'LH_theta_band',\n",
       " 'MD_gamma_band',\n",
       " 'MD_theta_band',\n",
       " 'mPFC_gamma_band',\n",
       " 'mPFC_theta_band',\n",
       " 'vHPC_gamma_band',\n",
       " 'vHPC_theta_band',\n",
       " 'BLA_lfp_trace',\n",
       " 'LH_lfp_trace',\n",
       " 'MD_lfp_trace',\n",
       " 'mPFC_lfp_trace',\n",
       " 'vHPC_lfp_trace']"
      ]
     },
     "execution_count": 86,
     "metadata": {},
     "output_type": "execute_result"
    }
   ],
   "source": [
    "phase_columns"
   ]
  },
  {
   "cell_type": "code",
   "execution_count": 87,
   "metadata": {
    "tags": []
   },
   "outputs": [
    {
     "name": "stdout",
     "output_type": "stream",
     "text": [
      "trial_and_post_BLA_gamma_band\n",
      "trial_and_post_BLA_gamma_phase\n",
      "trial_and_post_BLA_lfp_trace\n",
      "trial_and_post_BLA_theta_band\n",
      "trial_and_post_BLA_theta_phase\n",
      "trial_and_post_LH_gamma_band\n",
      "trial_and_post_LH_gamma_phase\n",
      "trial_and_post_LH_lfp_trace\n",
      "trial_and_post_LH_theta_band\n",
      "trial_and_post_LH_theta_phase\n",
      "trial_and_post_MD_gamma_band\n",
      "trial_and_post_MD_gamma_phase\n",
      "trial_and_post_MD_lfp_trace\n",
      "trial_and_post_MD_theta_band\n",
      "trial_and_post_MD_theta_phase\n",
      "trial_and_post_mPFC_gamma_band\n",
      "trial_and_post_mPFC_gamma_phase\n",
      "trial_and_post_mPFC_lfp_trace\n",
      "trial_and_post_mPFC_theta_band\n",
      "trial_and_post_mPFC_theta_phase\n",
      "trial_and_post_vHPC_gamma_band\n",
      "trial_and_post_vHPC_gamma_phase\n",
      "trial_and_post_vHPC_lfp_trace\n",
      "trial_and_post_vHPC_theta_band\n",
      "trial_and_post_vHPC_theta_phase\n"
     ]
    }
   ],
   "source": [
    "for col in sorted(phase_columns):\n",
    "    updated_item_col = \"trial_and_post_{}\".format(col)\n",
    "    print(updated_item_col)\n",
    "    updated_timestamp_col = \"trial_and_post_lfp_timestamps\"\n",
    "    TRIALS_AND_SPECTRAL_DF[updated_item_col] = TRIALS_AND_SPECTRAL_DF.apply(lambda x: utilities.helper.filter_by_timestamp_range(start=x[\"tone_start_timestamp\"], stop=x[\"post_trial_end_timestamp\"], timestamps=x[\"lfp_timestamps\"], items=x[col])[1], axis=1)\n",
    "\n",
    "TRIALS_AND_SPECTRAL_DF[updated_timestamp_col] = TRIALS_AND_SPECTRAL_DF.apply(lambda x: utilities.helper.filter_by_timestamp_range(start=x[\"tone_start_timestamp\"], stop=x[\"post_trial_end_timestamp\"], timestamps=x[\"lfp_timestamps\"], items=x[col])[0], axis=1)\n"
   ]
  },
  {
   "cell_type": "code",
   "execution_count": null,
   "metadata": {
    "tags": []
   },
   "outputs": [],
   "source": []
  },
  {
   "cell_type": "code",
   "execution_count": 88,
   "metadata": {
    "tags": []
   },
   "outputs": [
    {
     "data": {
      "text/plain": [
       "0      [34280580, 34280600, 34280620, 34280640, 34280...\n",
       "1      [34280580, 34280600, 34280620, 34280640, 34280...\n",
       "2      [35280600, 35280620, 35280640, 35280660, 35280...\n",
       "3      [35280600, 35280620, 35280640, 35280660, 35280...\n",
       "4      [36380600, 36380620, 36380640, 36380660, 36380...\n",
       "                             ...                        \n",
       "201    [57964900, 57964920, 57964940, 57964960, 57964...\n",
       "202    [60164920, 60164940, 60164960, 60164980, 60165...\n",
       "203    [60164920, 60164940, 60164960, 60164980, 60165...\n",
       "204    [61264940, 61264960, 61264980, 61265000, 61265...\n",
       "205    [61264940, 61264960, 61264980, 61265000, 61265...\n",
       "Name: trial_and_post_lfp_timestamps, Length: 206, dtype: object"
      ]
     },
     "execution_count": 88,
     "metadata": {},
     "output_type": "execute_result"
    }
   ],
   "source": [
    "TRIALS_AND_SPECTRAL_DF[\"trial_and_post_lfp_timestamps\"]"
   ]
  },
  {
   "cell_type": "code",
   "execution_count": 89,
   "metadata": {
    "tags": []
   },
   "outputs": [],
   "source": [
    "TRIALS_AND_SPECTRAL_DF = TRIALS_AND_SPECTRAL_DF.drop(columns=phase_columns + [\"lfp_timestamps\"], errors=\"ignore\")"
   ]
  },
  {
   "cell_type": "code",
   "execution_count": 90,
   "metadata": {
    "tags": []
   },
   "outputs": [],
   "source": [
    "TRIALS_AND_SPECTRAL_DF.to_pickle(os.path.join(OUTPUT_DIR, FULL_LFP_TRACES_PKL))"
   ]
  },
  {
   "cell_type": "code",
   "execution_count": 91,
   "metadata": {
    "tags": []
   },
   "outputs": [
    {
     "name": "stdout",
     "output_type": "stream",
     "text": [
      "tone_start_frame\n",
      "reward_start\n",
      "reward_dispensed\n",
      "tone_stop_frame\n",
      "condition \n",
      "competition_closeness\n",
      "get_reward_frame\n",
      "out_reward_frame\n",
      "notes\n",
      "box_1_port_entry_frames\n",
      "box_2_port_entry_frames\n",
      "video_name\n",
      "tone_start_timestamp\n",
      "tone_stop_timestamp\n",
      "box_1_port_entry_timestamps\n",
      "box_2_port_entry_timestamps\n",
      "current_subject\n",
      "subject_tail_base\n",
      "agent_tail_base\n",
      "session_dir\n",
      "experiment\n",
      "sleap_name\n",
      "video_id\n",
      "agent\n",
      "BLA_lfp_RMS_filtered\n",
      "LH_lfp_RMS_filtered\n",
      "MD_lfp_RMS_filtered\n",
      "all_subjects\n",
      "coherence_calculation_frequencies\n",
      "cohort\n",
      "first_timestamp\n",
      "granger_calculation_frequencies\n",
      "last_timestamp\n",
      "mPFC_lfp_RMS_filtered\n",
      "power_calculation_frequencies\n",
      "recording\n",
      "session_path\n",
      "subject\n",
      "tone_frames\n",
      "tone_timestamps\n",
      "vHPC_lfp_RMS_filtered\n",
      "video_timestamps\n",
      "baseline_start_timestamp\n",
      "post_trial_end_timestamp\n",
      "video_frame\n",
      "trial_and_post_agent_locations\n",
      "trial_and_post_agent_nose\n",
      "trial_and_post_agent_nose_to_reward_port\n",
      "trial_and_post_agent_thorax\n",
      "trial_and_post_agent_thorax_velocity\n",
      "trial_and_post_agent_to_reward_port_angle\n",
      "trial_and_post_closebool_agent_nose_to_reward_port\n",
      "trial_and_post_closebool_subject_nose_to_reward_port\n",
      "trial_and_post_frame_index\n",
      "trial_and_post_kmeans_cluster\n",
      "trial_and_post_manual_cluster_id\n",
      "trial_and_post_movingbool_agent_thorax_velocity\n",
      "trial_and_post_movingbool_subject_thorax_velocity\n",
      "trial_and_post_nose_to_reward_port_diff\n",
      "trial_and_post_nose_to_reward_port_sum\n",
      "trial_and_post_standard_embedding_x\n",
      "trial_and_post_standard_embedding_y\n",
      "trial_and_post_subject_locations\n",
      "trial_and_post_subject_nose\n",
      "trial_and_post_subject_nose_to_reward_port\n",
      "trial_and_post_subject_thorax\n",
      "trial_and_post_subject_thorax_to_agent_thorax\n",
      "trial_and_post_subject_thorax_velocity\n",
      "trial_and_post_subject_to_reward_port_angle\n",
      "trial_and_post_thorax_velocity_diff\n",
      "trial_and_post_thorax_velocity_sum\n",
      "trial_and_post_to_reward_port_angle_diff\n",
      "trial_and_post_to_reward_port_angle_sum\n",
      "trial_and_post_video_timestamps\n",
      "trial_and_post_BLA_LH_coherence_all_frequencies_all_windows\n",
      "trial_and_post_BLA_LH_coherence_gamma\n",
      "trial_and_post_BLA_LH_coherence_theta\n",
      "trial_and_post_BLA_MD_coherence_all_frequencies_all_windows\n",
      "trial_and_post_BLA_MD_coherence_gamma\n",
      "trial_and_post_BLA_MD_coherence_theta\n",
      "trial_and_post_BLA_mPFC_coherence_all_frequencies_all_windows\n",
      "trial_and_post_BLA_mPFC_coherence_gamma\n",
      "trial_and_post_BLA_mPFC_coherence_theta\n",
      "trial_and_post_BLA_vHPC_coherence_all_frequencies_all_windows\n",
      "trial_and_post_BLA_vHPC_coherence_gamma\n",
      "trial_and_post_BLA_vHPC_coherence_theta\n",
      "trial_and_post_LH_MD_coherence_all_frequencies_all_windows\n",
      "trial_and_post_LH_MD_coherence_gamma\n",
      "trial_and_post_LH_MD_coherence_theta\n",
      "trial_and_post_LH_mPFC_coherence_all_frequencies_all_windows\n",
      "trial_and_post_LH_mPFC_coherence_gamma\n",
      "trial_and_post_LH_mPFC_coherence_theta\n",
      "trial_and_post_LH_vHPC_coherence_all_frequencies_all_windows\n",
      "trial_and_post_LH_vHPC_coherence_gamma\n",
      "trial_and_post_LH_vHPC_coherence_theta\n",
      "trial_and_post_MD_mPFC_coherence_all_frequencies_all_windows\n",
      "trial_and_post_MD_mPFC_coherence_gamma\n",
      "trial_and_post_MD_mPFC_coherence_theta\n",
      "trial_and_post_MD_vHPC_coherence_all_frequencies_all_windows\n",
      "trial_and_post_MD_vHPC_coherence_gamma\n",
      "trial_and_post_MD_vHPC_coherence_theta\n",
      "trial_and_post_mPFC_vHPC_coherence_all_frequencies_all_windows\n",
      "trial_and_post_mPFC_vHPC_coherence_gamma\n",
      "trial_and_post_mPFC_vHPC_coherence_theta\n",
      "trial_and_post_coherence_timestamps\n",
      "trial_and_post_BLA-to-LH_granger_gamma\n",
      "trial_and_post_BLA-to-LH_granger_theta\n",
      "trial_and_post_BLA-to-MD_granger_gamma\n",
      "trial_and_post_BLA-to-MD_granger_theta\n",
      "trial_and_post_BLA-to-mPFC_granger_gamma\n",
      "trial_and_post_BLA-to-mPFC_granger_theta\n",
      "trial_and_post_BLA-to-vHPC_granger_gamma\n",
      "trial_and_post_BLA-to-vHPC_granger_theta\n",
      "trial_and_post_BLA_LH_granger_all_frequencies_all_windows\n",
      "trial_and_post_BLA_MD_granger_all_frequencies_all_windows\n",
      "trial_and_post_BLA_mPFC_granger_all_frequencies_all_windows\n",
      "trial_and_post_BLA_vHPC_granger_all_frequencies_all_windows\n",
      "trial_and_post_LH-to-BLA_granger_gamma\n",
      "trial_and_post_LH-to-BLA_granger_theta\n",
      "trial_and_post_LH-to-MD_granger_gamma\n",
      "trial_and_post_LH-to-MD_granger_theta\n",
      "trial_and_post_LH-to-mPFC_granger_gamma\n",
      "trial_and_post_LH-to-mPFC_granger_theta\n",
      "trial_and_post_LH-to-vHPC_granger_gamma\n",
      "trial_and_post_LH-to-vHPC_granger_theta\n",
      "trial_and_post_LH_BLA_granger_all_frequencies_all_windows\n",
      "trial_and_post_LH_MD_granger_all_frequencies_all_windows\n",
      "trial_and_post_LH_mPFC_granger_all_frequencies_all_windows\n",
      "trial_and_post_LH_vHPC_granger_all_frequencies_all_windows\n",
      "trial_and_post_MD-to-BLA_granger_gamma\n",
      "trial_and_post_MD-to-BLA_granger_theta\n",
      "trial_and_post_MD-to-LH_granger_gamma\n",
      "trial_and_post_MD-to-LH_granger_theta\n",
      "trial_and_post_MD-to-mPFC_granger_gamma\n",
      "trial_and_post_MD-to-mPFC_granger_theta\n",
      "trial_and_post_MD-to-vHPC_granger_gamma\n",
      "trial_and_post_MD-to-vHPC_granger_theta\n",
      "trial_and_post_MD_BLA_granger_all_frequencies_all_windows\n",
      "trial_and_post_MD_LH_granger_all_frequencies_all_windows\n",
      "trial_and_post_MD_mPFC_granger_all_frequencies_all_windows\n",
      "trial_and_post_MD_vHPC_granger_all_frequencies_all_windows\n",
      "trial_and_post_mPFC-to-BLA_granger_gamma\n",
      "trial_and_post_mPFC-to-BLA_granger_theta\n",
      "trial_and_post_mPFC-to-LH_granger_gamma\n",
      "trial_and_post_mPFC-to-LH_granger_theta\n",
      "trial_and_post_mPFC-to-MD_granger_gamma\n",
      "trial_and_post_mPFC-to-MD_granger_theta\n",
      "trial_and_post_mPFC-to-vHPC_granger_gamma\n",
      "trial_and_post_mPFC-to-vHPC_granger_theta\n",
      "trial_and_post_mPFC_BLA_granger_all_frequencies_all_windows\n",
      "trial_and_post_mPFC_LH_granger_all_frequencies_all_windows\n",
      "trial_and_post_mPFC_MD_granger_all_frequencies_all_windows\n",
      "trial_and_post_mPFC_vHPC_granger_all_frequencies_all_windows\n",
      "trial_and_post_vHPC-to-BLA_granger_gamma\n",
      "trial_and_post_vHPC-to-BLA_granger_theta\n",
      "trial_and_post_vHPC-to-LH_granger_gamma\n",
      "trial_and_post_vHPC-to-LH_granger_theta\n",
      "trial_and_post_vHPC-to-MD_granger_gamma\n",
      "trial_and_post_vHPC-to-MD_granger_theta\n",
      "trial_and_post_vHPC-to-mPFC_granger_gamma\n",
      "trial_and_post_vHPC-to-mPFC_granger_theta\n",
      "trial_and_post_vHPC_BLA_granger_all_frequencies_all_windows\n",
      "trial_and_post_vHPC_LH_granger_all_frequencies_all_windows\n",
      "trial_and_post_vHPC_MD_granger_all_frequencies_all_windows\n",
      "trial_and_post_vHPC_mPFC_granger_all_frequencies_all_windows\n",
      "trial_and_post_granger_timestamps\n",
      "trial_and_post_BLA_power_all_frequencies_all_windows\n",
      "trial_and_post_BLA_power_gamma\n",
      "trial_and_post_BLA_power_theta\n",
      "trial_and_post_LH_power_all_frequencies_all_windows\n",
      "trial_and_post_LH_power_gamma\n",
      "trial_and_post_LH_power_theta\n",
      "trial_and_post_MD_power_all_frequencies_all_windows\n",
      "trial_and_post_MD_power_gamma\n",
      "trial_and_post_MD_power_theta\n",
      "trial_and_post_mPFC_power_all_frequencies_all_windows\n",
      "trial_and_post_mPFC_power_gamma\n",
      "trial_and_post_mPFC_power_theta\n",
      "trial_and_post_vHPC_power_all_frequencies_all_windows\n",
      "trial_and_post_vHPC_power_gamma\n",
      "trial_and_post_vHPC_power_theta\n",
      "trial_and_post_power_timestamps\n",
      "trial_and_post_BLA_gamma_band\n",
      "trial_and_post_BLA_gamma_phase\n",
      "trial_and_post_BLA_lfp_trace\n",
      "trial_and_post_BLA_theta_band\n",
      "trial_and_post_BLA_theta_phase\n",
      "trial_and_post_LH_gamma_band\n",
      "trial_and_post_LH_gamma_phase\n",
      "trial_and_post_LH_lfp_trace\n",
      "trial_and_post_LH_theta_band\n",
      "trial_and_post_LH_theta_phase\n",
      "trial_and_post_MD_gamma_band\n",
      "trial_and_post_MD_gamma_phase\n",
      "trial_and_post_MD_lfp_trace\n",
      "trial_and_post_MD_theta_band\n",
      "trial_and_post_MD_theta_phase\n",
      "trial_and_post_mPFC_gamma_band\n",
      "trial_and_post_mPFC_gamma_phase\n",
      "trial_and_post_mPFC_lfp_trace\n",
      "trial_and_post_mPFC_theta_band\n",
      "trial_and_post_mPFC_theta_phase\n",
      "trial_and_post_vHPC_gamma_band\n",
      "trial_and_post_vHPC_gamma_phase\n",
      "trial_and_post_vHPC_lfp_trace\n",
      "trial_and_post_vHPC_theta_band\n",
      "trial_and_post_vHPC_theta_phase\n",
      "trial_and_post_lfp_timestamps\n"
     ]
    }
   ],
   "source": [
    "for col in TRIALS_AND_SPECTRAL_DF:\n",
    "    print(col)"
   ]
  },
  {
   "cell_type": "code",
   "execution_count": 92,
   "metadata": {
    "tags": []
   },
   "outputs": [
    {
     "data": {
      "text/plain": [
       "(400,)"
      ]
     },
     "execution_count": 92,
     "metadata": {},
     "output_type": "execute_result"
    }
   ],
   "source": [
    "TRIALS_AND_SPECTRAL_DF[\"trial_and_post_kmeans_cluster\"].iloc[0].shape"
   ]
  },
  {
   "cell_type": "code",
   "execution_count": 93,
   "metadata": {},
   "outputs": [
    {
     "ename": "ValueError",
     "evalue": "",
     "output_type": "error",
     "traceback": [
      "\u001b[0;31m---------------------------------------------------------------------------\u001b[0m",
      "\u001b[0;31mValueError\u001b[0m                                Traceback (most recent call last)",
      "Cell \u001b[0;32mIn[93], line 1\u001b[0m\n\u001b[0;32m----> 1\u001b[0m \u001b[38;5;28;01mraise\u001b[39;00m \u001b[38;5;167;01mValueError\u001b[39;00m()\n",
      "\u001b[0;31mValueError\u001b[0m: "
     ]
    }
   ],
   "source": [
    "raise ValueError()"
   ]
  },
  {
   "cell_type": "markdown",
   "metadata": {},
   "source": [
    "# Filtering for rows that are in the video"
   ]
  },
  {
   "cell_type": "code",
   "execution_count": null,
   "metadata": {
    "tags": []
   },
   "outputs": [],
   "source": [
    "TRIALS_AND_SPECTRAL_DF[\"in_video\"] = TRIALS_AND_SPECTRAL_DF.apply(lambda x: x[\"start_frame\"] <= x[\"trial_video_frame\"][0] <= x[\"stop_frame\"], axis=1)"
   ]
  },
  {
   "cell_type": "code",
   "execution_count": null,
   "metadata": {
    "tags": []
   },
   "outputs": [],
   "source": [
    "TRIALS_AND_SPECTRAL_DF = TRIALS_AND_SPECTRAL_DF[TRIALS_AND_SPECTRAL_DF[\"in_video\"]].reset_index()"
   ]
  },
  {
   "cell_type": "code",
   "execution_count": null,
   "metadata": {
    "tags": []
   },
   "outputs": [],
   "source": [
    "TRIALS_AND_SPECTRAL_DF"
   ]
  },
  {
   "cell_type": "code",
   "execution_count": null,
   "metadata": {
    "tags": []
   },
   "outputs": [],
   "source": [
    "TRIALS_AND_SPECTRAL_DF.to_pickle(os.path.join(OUTPUT_DIR, FULL_LFP_TRACES_PKL))"
   ]
  },
  {
   "cell_type": "code",
   "execution_count": null,
   "metadata": {},
   "outputs": [],
   "source": [
    "raise ValueError()"
   ]
  },
  {
   "cell_type": "markdown",
   "metadata": {},
   "source": [
    "# Filtering out spikes"
   ]
  },
  {
   "cell_type": "code",
   "execution_count": null,
   "metadata": {
    "tags": []
   },
   "outputs": [],
   "source": [
    "raise ValueError()"
   ]
  },
  {
   "cell_type": "code",
   "execution_count": null,
   "metadata": {
    "tags": []
   },
   "outputs": [],
   "source": [
    "TRIALS_AND_SPECTRAL_DF[\"baseline_spike_times\"] = TRIALS_AND_SPECTRAL_DF.apply(lambda x: filter_spike_times(x[\"spike_times\"], start=x[\"tone_start_timestamp\"], stop=x[\"baseline_stop_timestamp\"]).astype(int), axis=1)\n"
   ]
  },
  {
   "cell_type": "code",
   "execution_count": null,
   "metadata": {
    "tags": []
   },
   "outputs": [],
   "source": [
    "TRIALS_AND_SPECTRAL_DF[\"trial_spike_times\"] = TRIALS_AND_SPECTRAL_DF.apply(lambda x: filter_spike_times(x[\"spike_times\"], start=x[\"tone_start_timestamp\"], stop=x[\"tone_stop_timestamp\"]).astype(int), axis=1)\n"
   ]
  },
  {
   "cell_type": "code",
   "execution_count": null,
   "metadata": {
    "tags": []
   },
   "outputs": [],
   "source": [
    "TRIALS_AND_SPECTRAL_DF[\"tone_start_timestamp\"].head()"
   ]
  },
  {
   "cell_type": "code",
   "execution_count": null,
   "metadata": {
    "tags": []
   },
   "outputs": [],
   "source": [
    "TRIALS_AND_SPECTRAL_DF[\"baseline_stop_timestamp\"].head()"
   ]
  },
  {
   "cell_type": "code",
   "execution_count": null,
   "metadata": {
    "tags": []
   },
   "outputs": [],
   "source": [
    "TRIALS_AND_SPECTRAL_DF[\"baseline_spike_times\"].iloc[0]"
   ]
  },
  {
   "cell_type": "code",
   "execution_count": null,
   "metadata": {
    "tags": []
   },
   "outputs": [],
   "source": [
    "TRIALS_AND_SPECTRAL_DF[\"baseline_neuron_average_fr\"] = TRIALS_AND_SPECTRAL_DF.apply(lambda x: utilities.helper.filter_by_timestamp_range(start=x[\"tone_start_timestamp\"], stop=x[\"baseline_stop_timestamp\"], timestamps=x[\"neuron_average_timestamps\"], items=x[\"neuron_average_fr\"].T)[1], axis=1)\n",
    "TRIALS_AND_SPECTRAL_DF[\"baseline_neuron_average_timestamp\"] = TRIALS_AND_SPECTRAL_DF.apply(lambda x: utilities.helper.filter_by_timestamp_range(start=x[\"tone_start_timestamp\"], stop=x[\"baseline_stop_timestamp\"], timestamps=x[\"neuron_average_timestamps\"], items=x[\"neuron_average_fr\"].T)[0], axis=1)"
   ]
  },
  {
   "cell_type": "code",
   "execution_count": null,
   "metadata": {
    "tags": []
   },
   "outputs": [],
   "source": [
    "TRIALS_AND_SPECTRAL_DF[\"trial_neuron_average_fr\"] = TRIALS_AND_SPECTRAL_DF.apply(lambda x: utilities.helper.filter_by_timestamp_range(start=x[\"tone_start_timestamp\"], stop=x[\"tone_stop_timestamp\"], timestamps=x[\"neuron_average_timestamps\"], items=x[\"neuron_average_fr\"].T)[1].T, axis=1)\n",
    "TRIALS_AND_SPECTRAL_DF[\"trial_neuron_average_timestamp\"] = TRIALS_AND_SPECTRAL_DF.apply(lambda x: utilities.helper.filter_by_timestamp_range(start=x[\"tone_start_timestamp\"], stop=x[\"tone_stop_timestamp\"], timestamps=x[\"neuron_average_timestamps\"], items=x[\"neuron_average_fr\"].T)[0], axis=1)"
   ]
  },
  {
   "cell_type": "code",
   "execution_count": null,
   "metadata": {
    "tags": []
   },
   "outputs": [],
   "source": [
    "TRIALS_AND_SPECTRAL_DF = TRIALS_AND_SPECTRAL_DF.drop(columns=[\"spike_clusters\", \"spike_times\", \"neuron_average_fr\", \"neuron_average_timestamps\",], errors=\"ignore\")"
   ]
  },
  {
   "cell_type": "code",
   "execution_count": null,
   "metadata": {
    "tags": []
   },
   "outputs": [],
   "source": [
    "TRIALS_AND_SPECTRAL_DF[\"trial_neuron_average_fr\"].iloc[0].shape"
   ]
  },
  {
   "cell_type": "code",
   "execution_count": null,
   "metadata": {
    "tags": []
   },
   "outputs": [],
   "source": [
    "TRIALS_AND_SPECTRAL_DF[\"trial_neuron_average_timestamp\"].iloc[0].shape"
   ]
  },
  {
   "cell_type": "code",
   "execution_count": null,
   "metadata": {},
   "outputs": [],
   "source": []
  }
 ],
 "metadata": {
  "deepnote": {},
  "deepnote_execution_queue": [],
  "deepnote_notebook_id": "cf8fe3695d074ee7887fdf6459cbf5ce",
  "kernelspec": {
   "display_name": "mountainsort_0_5_6",
   "language": "python",
   "name": "python3"
  },
  "language_info": {
   "codemirror_mode": {
    "name": "ipython",
    "version": 3
   },
   "file_extension": ".py",
   "mimetype": "text/x-python",
   "name": "python",
   "nbconvert_exporter": "python",
   "pygments_lexer": "ipython3",
   "version": "3.9.19"
  }
 },
 "nbformat": 4,
 "nbformat_minor": 4
}
