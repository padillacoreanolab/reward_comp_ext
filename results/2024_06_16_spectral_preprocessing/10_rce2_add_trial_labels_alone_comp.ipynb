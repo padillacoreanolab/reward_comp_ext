{
 "cells": [
  {
   "cell_type": "markdown",
   "metadata": {
    "cell_id": "c3a02adc9e884466bc8c79db549cc3d2",
    "deepnote_cell_type": "text-cell-h1",
    "formattedRanges": [
     {
      "fromCodePoint": 0,
      "marks": {
       "bold": true,
       "underline": true
      },
      "toCodePoint": 17,
      "type": "marks"
     }
    ]
   },
   "source": [
    "# All oscillation analysis"
   ]
  },
  {
   "cell_type": "markdown",
   "metadata": {
    "cell_id": "4546bee655b14a5dbf393161f1228e60",
    "deepnote_cell_type": "text-cell-p",
    "formattedRanges": []
   },
   "source": [
    "Brief 1-2 sentence description of notebook."
   ]
  },
  {
   "cell_type": "code",
   "execution_count": 1,
   "metadata": {
    "tags": []
   },
   "outputs": [],
   "source": [
    "# Imports of all used packages and libraries\n",
    "import sys\n",
    "import os\n",
    "import git\n",
    "import glob\n",
    "from collections import defaultdict"
   ]
  },
  {
   "cell_type": "code",
   "execution_count": 2,
   "metadata": {
    "tags": []
   },
   "outputs": [],
   "source": [
    "git_repo = git.Repo(\".\", search_parent_directories=True)\n",
    "git_root = git_repo.git.rev_parse(\"--show-toplevel\")"
   ]
  },
  {
   "cell_type": "code",
   "execution_count": 3,
   "metadata": {
    "tags": []
   },
   "outputs": [
    {
     "data": {
      "text/plain": [
       "'/blue/npadillacoreano/ryoi360/projects/reward_comp/repos/reward_comp_ext'"
      ]
     },
     "execution_count": 3,
     "metadata": {},
     "output_type": "execute_result"
    }
   ],
   "source": [
    "git_root"
   ]
  },
  {
   "cell_type": "code",
   "execution_count": 4,
   "metadata": {
    "tags": []
   },
   "outputs": [],
   "source": [
    "sys.path.insert(0, os.path.join(git_root, 'src'))"
   ]
  },
  {
   "cell_type": "code",
   "execution_count": 5,
   "metadata": {
    "tags": []
   },
   "outputs": [],
   "source": [
    "import warnings\n",
    "warnings.filterwarnings('ignore')"
   ]
  },
  {
   "cell_type": "code",
   "execution_count": 6,
   "metadata": {
    "tags": []
   },
   "outputs": [],
   "source": [
    "import os\n",
    "import collections\n",
    "import itertools\n",
    "from collections import defaultdict\n",
    "from itertools import combinations"
   ]
  },
  {
   "cell_type": "raw",
   "metadata": {},
   "source": [
    "os.environ[\"SPECTRAL_CONNECTIVITY_ENABLE_GPU\"] = \"true\"\n",
    "import cupy as cp"
   ]
  },
  {
   "cell_type": "code",
   "execution_count": 7,
   "metadata": {
    "cell_id": "03b495cefa6a4798a44c7f2e4c6a3ea7",
    "deepnote_cell_type": "code",
    "deepnote_to_be_reexecuted": false,
    "execution_millis": 21,
    "execution_start": 1691424003626,
    "source_hash": null,
    "tags": []
   },
   "outputs": [],
   "source": [
    "# Imports of all used packages and libraries\n",
    "import numpy as np\n",
    "import pandas as pd\n",
    "from scipy import stats\n",
    "from scipy.stats import mannwhitneyu\n"
   ]
  },
  {
   "cell_type": "code",
   "execution_count": 8,
   "metadata": {
    "tags": []
   },
   "outputs": [],
   "source": [
    "import matplotlib\n",
    "import matplotlib.colors as mcolors\n",
    "import matplotlib.pyplot as plt\n",
    "import matplotlib.cm as cm\n",
    "import colorsys"
   ]
  },
  {
   "cell_type": "code",
   "execution_count": 9,
   "metadata": {
    "tags": []
   },
   "outputs": [],
   "source": [
    "from sklearn.metrics import confusion_matrix"
   ]
  },
  {
   "cell_type": "code",
   "execution_count": 10,
   "metadata": {
    "tags": []
   },
   "outputs": [],
   "source": [
    "from spectral_connectivity import Multitaper, Connectivity\n",
    "import spectral_connectivity"
   ]
  },
  {
   "cell_type": "code",
   "execution_count": 11,
   "metadata": {
    "tags": []
   },
   "outputs": [],
   "source": [
    "import utilities.helper\n",
    "import trodes.read_exported"
   ]
  },
  {
   "cell_type": "code",
   "execution_count": 12,
   "metadata": {
    "tags": []
   },
   "outputs": [],
   "source": [
    "FONTSIZE = 20"
   ]
  },
  {
   "cell_type": "code",
   "execution_count": 13,
   "metadata": {
    "tags": []
   },
   "outputs": [],
   "source": [
    "font = {'weight' : 'medium',\n",
    "        'size'   : 20}\n",
    "\n",
    "matplotlib.rc('font', **font)"
   ]
  },
  {
   "cell_type": "markdown",
   "metadata": {
    "cell_id": "d290bac2c17940bfbc0f9296beaf70e5",
    "deepnote_cell_type": "text-cell-h2",
    "formattedRanges": []
   },
   "source": [
    "## Inputs & Data"
   ]
  },
  {
   "cell_type": "code",
   "execution_count": 14,
   "metadata": {
    "tags": []
   },
   "outputs": [],
   "source": [
    "EPHYS_SAMPLE_RATE = 20000"
   ]
  },
  {
   "cell_type": "markdown",
   "metadata": {
    "cell_id": "e528ce19c608425292151930d380f49f",
    "deepnote_cell_type": "text-cell-p",
    "formattedRanges": []
   },
   "source": [
    "Explanation of each input and where it comes from."
   ]
  },
  {
   "cell_type": "code",
   "execution_count": 15,
   "metadata": {
    "cell_id": "6cf83a5811054461a718a71673d09aab",
    "deepnote_cell_type": "code",
    "deepnote_to_be_reexecuted": false,
    "execution_millis": 373,
    "execution_start": 1691424003628,
    "source_hash": null,
    "tags": []
   },
   "outputs": [],
   "source": [
    "# Inputs and Required data loading\n",
    "# input varaible names are in all caps snake case\n",
    "# Whenever an input changes or is used for processing \n",
    "# the vairables are all lower in snake case\n",
    "OUTPUT_DIR = r\"./proc/\" # where data is saved should always be shown in the inputs\n",
    "os.makedirs(OUTPUT_DIR, exist_ok=True)\n",
    "OUTPUT_PREFIX = \"rce_pilot_3_alone_comp\""
   ]
  },
  {
   "cell_type": "code",
   "execution_count": 16,
   "metadata": {
    "tags": []
   },
   "outputs": [],
   "source": [
    "# TRIAL_LABELS_DF = pd.read_excel(\"/blue/npadillacoreano/ryoi360/projects/reward_comp/repos/reward_comp_ext/results/2024_06_26_sleap_clustering/data/rce_pilot_3_alone_comp_per_video_trial_labels.xlsx\")\n",
    "TRIAL_LABELS_DF = pd.read_excel(\"../../data/sleap_id_corrected/rce_pilot_3_alone_comp_per_video_trial_labels.xlsx\")"
   ]
  },
  {
   "cell_type": "raw",
   "metadata": {
    "tags": []
   },
   "source": [
    "LFP_SPECTRAL_DF = pd.read_pickle(\"./proc/rce_pilot_2_03_spectral_bands.pkl\")"
   ]
  },
  {
   "cell_type": "code",
   "execution_count": 17,
   "metadata": {
    "tags": []
   },
   "outputs": [],
   "source": [
    "LFP_SPECTRAL_DF = pd.read_pickle(\"./proc/{}_04_spectral_and_sleap.pkl\".format(OUTPUT_PREFIX))"
   ]
  },
  {
   "cell_type": "code",
   "execution_count": 18,
   "metadata": {
    "tags": []
   },
   "outputs": [],
   "source": [
    "FULL_LFP_TRACES_PKL = \"{}_10_per_trial_spectral_bans_sleap.pkl\".format(OUTPUT_PREFIX)"
   ]
  },
  {
   "cell_type": "markdown",
   "metadata": {
    "cell_id": "e3ee4891d43a4ac287413afc552ca289",
    "deepnote_cell_type": "text-cell-h2",
    "formattedRanges": []
   },
   "source": [
    "## Outputs"
   ]
  },
  {
   "cell_type": "markdown",
   "metadata": {
    "cell_id": "9ccbf6cc70fd4d379fa29317f733771f",
    "deepnote_cell_type": "text-cell-p",
    "formattedRanges": []
   },
   "source": [
    "Describe each output that the notebook creates. "
   ]
  },
  {
   "cell_type": "markdown",
   "metadata": {
    "cell_id": "fc8e8920a6944918a15fac575cdf6e78",
    "deepnote_cell_type": "text-cell-bullet",
    "formattedRanges": []
   },
   "source": [
    "- Is it a plot or is it data?"
   ]
  },
  {
   "cell_type": "markdown",
   "metadata": {
    "cell_id": "1e639d4776a84aa9ac8ded2e14fa57db",
    "deepnote_cell_type": "text-cell-bullet",
    "formattedRanges": []
   },
   "source": [
    "- How valuable is the output and why is it valuable or useful?"
   ]
  },
  {
   "cell_type": "markdown",
   "metadata": {},
   "source": [
    "## Functions "
   ]
  },
  {
   "cell_type": "markdown",
   "metadata": {
    "cell_id": "8999d19b6b7d4d63bc90f0b0bd9ab085",
    "deepnote_cell_type": "text-cell-h2",
    "formattedRanges": []
   },
   "source": [
    "## Processing"
   ]
  },
  {
   "cell_type": "markdown",
   "metadata": {
    "cell_id": "9b36cdf08567463082b005cb0dec684b",
    "deepnote_cell_type": "text-cell-p",
    "formattedRanges": []
   },
   "source": [
    "Describe what is done to the data here and how inputs are manipulated to generate outputs. "
   ]
  },
  {
   "cell_type": "code",
   "execution_count": 19,
   "metadata": {
    "cell_id": "89aaba237c644628b1b37604b75e7cb1",
    "deepnote_cell_type": "code",
    "tags": []
   },
   "outputs": [],
   "source": [
    "# As much code and as many cells as required\n",
    "# includes EDA and playing with data\n",
    "# GO HAM!\n",
    "\n",
    "# Ideally functions are defined here first and then data is processed using the functions\n",
    "\n",
    "# function names are short and in snake case all lowercase\n",
    "# a function name should be unique but does not have to describe the function\n",
    "# doc strings describe functions not function names\n",
    "\n",
    "\n"
   ]
  },
  {
   "cell_type": "code",
   "execution_count": 20,
   "metadata": {
    "tags": []
   },
   "outputs": [
    {
     "data": {
      "text/plain": [
       "Index(['video_name', 'current_subject', 'frame_index', 'tone_start_frame',\n",
       "       'tone_stop_frame', 'condition ', 'competition_closeness', 'notes',\n",
       "       '10s_before_tone_frame', '10s_after_tone_frame',\n",
       "       ...\n",
       "       'vHPC_lfp_RMS_filtered', 'vHPC_lfp_mask', 'vHPC_lfp_modified_zscore',\n",
       "       'vHPC_lfp_trace', 'vHPC_lfp_trace_filtered',\n",
       "       'vHPC_mPFC_granger_all_frequencies_all_windows', 'vHPC_theta_band',\n",
       "       'vHPC_theta_phase', 'video_timestamps', 'cluster_timestamp'],\n",
       "      dtype='object', length=226)"
      ]
     },
     "execution_count": 20,
     "metadata": {},
     "output_type": "execute_result"
    }
   ],
   "source": [
    "LFP_SPECTRAL_DF.columns"
   ]
  },
  {
   "cell_type": "code",
   "execution_count": 21,
   "metadata": {
    "scrolled": true,
    "tags": []
   },
   "outputs": [
    {
     "data": {
      "text/plain": [
       "Index(['Unnamed: 0', 'session_dir', 'tone_start_frame', 'reward_start',\n",
       "       'reward_dispensed', 'tone_stop_frame', 'condition ',\n",
       "       'competition_closeness', 'get_reward_frame', 'out_reward_frame',\n",
       "       'notes', 'experiment', 'box_1_port_entry_frames',\n",
       "       'box_2_port_entry_frames', 'video_name', 'all_subjects',\n",
       "       'first_timestamp', 'last_timestamp', 'tone_start_timestamp',\n",
       "       'tone_stop_timestamp', 'box_1_port_entry_timestamps',\n",
       "       'box_2_port_entry_timestamps'],\n",
       "      dtype='object')"
      ]
     },
     "execution_count": 21,
     "metadata": {},
     "output_type": "execute_result"
    }
   ],
   "source": [
    "TRIAL_LABELS_DF.columns"
   ]
  },
  {
   "cell_type": "markdown",
   "metadata": {},
   "source": [
    "## Merging the labels and LFP spectral"
   ]
  },
  {
   "cell_type": "code",
   "execution_count": 22,
   "metadata": {
    "tags": []
   },
   "outputs": [
    {
     "data": {
      "text/html": [
       "<div>\n",
       "<style scoped>\n",
       "    .dataframe tbody tr th:only-of-type {\n",
       "        vertical-align: middle;\n",
       "    }\n",
       "\n",
       "    .dataframe tbody tr th {\n",
       "        vertical-align: top;\n",
       "    }\n",
       "\n",
       "    .dataframe thead th {\n",
       "        text-align: right;\n",
       "    }\n",
       "</style>\n",
       "<table border=\"1\" class=\"dataframe\">\n",
       "  <thead>\n",
       "    <tr style=\"text-align: right;\">\n",
       "      <th></th>\n",
       "      <th>Unnamed: 0</th>\n",
       "      <th>session_dir</th>\n",
       "      <th>tone_start_frame</th>\n",
       "      <th>reward_start</th>\n",
       "      <th>reward_dispensed</th>\n",
       "      <th>tone_stop_frame</th>\n",
       "      <th>condition</th>\n",
       "      <th>competition_closeness</th>\n",
       "      <th>get_reward_frame</th>\n",
       "      <th>out_reward_frame</th>\n",
       "      <th>...</th>\n",
       "      <th>box_1_port_entry_frames</th>\n",
       "      <th>box_2_port_entry_frames</th>\n",
       "      <th>video_name</th>\n",
       "      <th>all_subjects</th>\n",
       "      <th>first_timestamp</th>\n",
       "      <th>last_timestamp</th>\n",
       "      <th>tone_start_timestamp</th>\n",
       "      <th>tone_stop_timestamp</th>\n",
       "      <th>box_1_port_entry_timestamps</th>\n",
       "      <th>box_2_port_entry_timestamps</th>\n",
       "    </tr>\n",
       "  </thead>\n",
       "  <tbody>\n",
       "    <tr>\n",
       "      <th>0</th>\n",
       "      <td>0.0</td>\n",
       "      <td>20240320_142408_alone_comp_subj_3-1_and_3-3</td>\n",
       "      <td>0.0</td>\n",
       "      <td>80</td>\n",
       "      <td>100.0</td>\n",
       "      <td>74.0</td>\n",
       "      <td>NaN</td>\n",
       "      <td>NaN</td>\n",
       "      <td>NaN</td>\n",
       "      <td>NaN</td>\n",
       "      <td>...</td>\n",
       "      <td>[ 0 74]</td>\n",
       "      <td>[ 0 74]</td>\n",
       "      <td>20240320_142408_alone_comp_subj_3-1_and_3-3.1....</td>\n",
       "      <td>['3.1', '3.3']</td>\n",
       "      <td>1830734.0</td>\n",
       "      <td>65425515.0</td>\n",
       "      <td>0.0</td>\n",
       "      <td>75474.0</td>\n",
       "      <td>[    0 75474]</td>\n",
       "      <td>[    0 75474]</td>\n",
       "    </tr>\n",
       "    <tr>\n",
       "      <th>1</th>\n",
       "      <td>0.0</td>\n",
       "      <td>20240320_142408_alone_comp_subj_3-1_and_3-3</td>\n",
       "      <td>1272.0</td>\n",
       "      <td>1352</td>\n",
       "      <td>1372.0</td>\n",
       "      <td>1471.0</td>\n",
       "      <td>NaN</td>\n",
       "      <td>NaN</td>\n",
       "      <td>NaN</td>\n",
       "      <td>NaN</td>\n",
       "      <td>...</td>\n",
       "      <td>[1282 1283] [1285 1297] [1326 1344] [1362 1509]</td>\n",
       "      <td>[1326 1328] [1331 1347] [1380 1592]</td>\n",
       "      <td>20240320_142408_alone_comp_subj_3-1_and_3-3.1....</td>\n",
       "      <td>['3.1', '3.3']</td>\n",
       "      <td>1830734.0</td>\n",
       "      <td>65425515.0</td>\n",
       "      <td>1275889.0</td>\n",
       "      <td>1475891.0</td>\n",
       "      <td>[1285888 1286688] [1287488 1300689] [1330286 1...</td>\n",
       "      <td>[1329489 1331487] [1334489 1350089] [1383490 1...</td>\n",
       "    </tr>\n",
       "    <tr>\n",
       "      <th>2</th>\n",
       "      <td>0.0</td>\n",
       "      <td>20240320_142408_alone_comp_subj_3-1_and_3-3</td>\n",
       "      <td>3268.0</td>\n",
       "      <td>3348</td>\n",
       "      <td>3368.0</td>\n",
       "      <td>3469.0</td>\n",
       "      <td>NaN</td>\n",
       "      <td>NaN</td>\n",
       "      <td>NaN</td>\n",
       "      <td>NaN</td>\n",
       "      <td>...</td>\n",
       "      <td>[3281 3324] [3324 3327] [3344 3347] [3347 3523]</td>\n",
       "      <td>[3327 3704]</td>\n",
       "      <td>20240320_142408_alone_comp_subj_3-1_and_3-3.1....</td>\n",
       "      <td>['3.1', '3.3']</td>\n",
       "      <td>1830734.0</td>\n",
       "      <td>65425515.0</td>\n",
       "      <td>3275911.0</td>\n",
       "      <td>3475914.0</td>\n",
       "      <td>[3287914 3330314] [3331114 3333712] [3351715 3...</td>\n",
       "      <td>[3333515 3712519]</td>\n",
       "    </tr>\n",
       "    <tr>\n",
       "      <th>3</th>\n",
       "      <td>0.0</td>\n",
       "      <td>20240320_142408_alone_comp_subj_3-1_and_3-3</td>\n",
       "      <td>4466.0</td>\n",
       "      <td>4546</td>\n",
       "      <td>4566.0</td>\n",
       "      <td>4667.0</td>\n",
       "      <td>NaN</td>\n",
       "      <td>NaN</td>\n",
       "      <td>NaN</td>\n",
       "      <td>NaN</td>\n",
       "      <td>...</td>\n",
       "      <td>[4441 4476] [4476 4489] [4508 4509] [4511 4534...</td>\n",
       "      <td>[4445 4473] [4494 4551] [4566 4830]</td>\n",
       "      <td>20240320_142408_alone_comp_subj_3-1_and_3-3.1....</td>\n",
       "      <td>['3.1', '3.3']</td>\n",
       "      <td>1830734.0</td>\n",
       "      <td>65425515.0</td>\n",
       "      <td>4475927.0</td>\n",
       "      <td>4675931.0</td>\n",
       "      <td>[4450528 4485129] [4485929 4497529] [4516929 4...</td>\n",
       "      <td>[4454926 4483129] [4503531 4560730] [4575330 4...</td>\n",
       "    </tr>\n",
       "    <tr>\n",
       "      <th>4</th>\n",
       "      <td>0.0</td>\n",
       "      <td>20240320_142408_alone_comp_subj_3-1_and_3-3</td>\n",
       "      <td>5465.0</td>\n",
       "      <td>5545</td>\n",
       "      <td>5565.0</td>\n",
       "      <td>5664.0</td>\n",
       "      <td>NaN</td>\n",
       "      <td>NaN</td>\n",
       "      <td>NaN</td>\n",
       "      <td>NaN</td>\n",
       "      <td>...</td>\n",
       "      <td>[5483 5512] [5552 5698]</td>\n",
       "      <td>[5455 5486] [5581 5794]</td>\n",
       "      <td>20240320_142408_alone_comp_subj_3-1_and_3-3.1....</td>\n",
       "      <td>['3.1', '3.3']</td>\n",
       "      <td>1830734.0</td>\n",
       "      <td>65425515.0</td>\n",
       "      <td>5475942.0</td>\n",
       "      <td>5675942.0</td>\n",
       "      <td>[5493742 5523542] [5563742 5709147]</td>\n",
       "      <td>[5466941 5496741] [5592343 5806546]</td>\n",
       "    </tr>\n",
       "  </tbody>\n",
       "</table>\n",
       "<p>5 rows × 22 columns</p>\n",
       "</div>"
      ],
      "text/plain": [
       "   Unnamed: 0                                  session_dir  tone_start_frame  \\\n",
       "0         0.0  20240320_142408_alone_comp_subj_3-1_and_3-3               0.0   \n",
       "1         0.0  20240320_142408_alone_comp_subj_3-1_and_3-3            1272.0   \n",
       "2         0.0  20240320_142408_alone_comp_subj_3-1_and_3-3            3268.0   \n",
       "3         0.0  20240320_142408_alone_comp_subj_3-1_and_3-3            4466.0   \n",
       "4         0.0  20240320_142408_alone_comp_subj_3-1_and_3-3            5465.0   \n",
       "\n",
       "   reward_start  reward_dispensed  tone_stop_frame condition   \\\n",
       "0            80             100.0             74.0        NaN   \n",
       "1          1352            1372.0           1471.0        NaN   \n",
       "2          3348            3368.0           3469.0        NaN   \n",
       "3          4546            4566.0           4667.0        NaN   \n",
       "4          5545            5565.0           5664.0        NaN   \n",
       "\n",
       "  competition_closeness  get_reward_frame  out_reward_frame  ...  \\\n",
       "0                   NaN               NaN               NaN  ...   \n",
       "1                   NaN               NaN               NaN  ...   \n",
       "2                   NaN               NaN               NaN  ...   \n",
       "3                   NaN               NaN               NaN  ...   \n",
       "4                   NaN               NaN               NaN  ...   \n",
       "\n",
       "                             box_1_port_entry_frames  \\\n",
       "0                                            [ 0 74]   \n",
       "1    [1282 1283] [1285 1297] [1326 1344] [1362 1509]   \n",
       "2    [3281 3324] [3324 3327] [3344 3347] [3347 3523]   \n",
       "3  [4441 4476] [4476 4489] [4508 4509] [4511 4534...   \n",
       "4                            [5483 5512] [5552 5698]   \n",
       "\n",
       "               box_2_port_entry_frames  \\\n",
       "0                              [ 0 74]   \n",
       "1  [1326 1328] [1331 1347] [1380 1592]   \n",
       "2                          [3327 3704]   \n",
       "3  [4445 4473] [4494 4551] [4566 4830]   \n",
       "4              [5455 5486] [5581 5794]   \n",
       "\n",
       "                                          video_name    all_subjects  \\\n",
       "0  20240320_142408_alone_comp_subj_3-1_and_3-3.1....  ['3.1', '3.3']   \n",
       "1  20240320_142408_alone_comp_subj_3-1_and_3-3.1....  ['3.1', '3.3']   \n",
       "2  20240320_142408_alone_comp_subj_3-1_and_3-3.1....  ['3.1', '3.3']   \n",
       "3  20240320_142408_alone_comp_subj_3-1_and_3-3.1....  ['3.1', '3.3']   \n",
       "4  20240320_142408_alone_comp_subj_3-1_and_3-3.1....  ['3.1', '3.3']   \n",
       "\n",
       "  first_timestamp last_timestamp  tone_start_timestamp  tone_stop_timestamp  \\\n",
       "0       1830734.0     65425515.0                   0.0              75474.0   \n",
       "1       1830734.0     65425515.0             1275889.0            1475891.0   \n",
       "2       1830734.0     65425515.0             3275911.0            3475914.0   \n",
       "3       1830734.0     65425515.0             4475927.0            4675931.0   \n",
       "4       1830734.0     65425515.0             5475942.0            5675942.0   \n",
       "\n",
       "                         box_1_port_entry_timestamps  \\\n",
       "0                                      [    0 75474]   \n",
       "1  [1285888 1286688] [1287488 1300689] [1330286 1...   \n",
       "2  [3287914 3330314] [3331114 3333712] [3351715 3...   \n",
       "3  [4450528 4485129] [4485929 4497529] [4516929 4...   \n",
       "4                [5493742 5523542] [5563742 5709147]   \n",
       "\n",
       "                         box_2_port_entry_timestamps  \n",
       "0                                      [    0 75474]  \n",
       "1  [1329489 1331487] [1334489 1350089] [1383490 1...  \n",
       "2                                  [3333515 3712519]  \n",
       "3  [4454926 4483129] [4503531 4560730] [4575330 4...  \n",
       "4                [5466941 5496741] [5592343 5806546]  \n",
       "\n",
       "[5 rows x 22 columns]"
      ]
     },
     "execution_count": 22,
     "metadata": {},
     "output_type": "execute_result"
    }
   ],
   "source": [
    "TRIAL_LABELS_DF.head()"
   ]
  },
  {
   "cell_type": "code",
   "execution_count": 23,
   "metadata": {
    "tags": []
   },
   "outputs": [
    {
     "data": {
      "text/html": [
       "<div>\n",
       "<style scoped>\n",
       "    .dataframe tbody tr th:only-of-type {\n",
       "        vertical-align: middle;\n",
       "    }\n",
       "\n",
       "    .dataframe tbody tr th {\n",
       "        vertical-align: top;\n",
       "    }\n",
       "\n",
       "    .dataframe thead th {\n",
       "        text-align: right;\n",
       "    }\n",
       "</style>\n",
       "<table border=\"1\" class=\"dataframe\">\n",
       "  <thead>\n",
       "    <tr style=\"text-align: right;\">\n",
       "      <th></th>\n",
       "      <th>video_name</th>\n",
       "      <th>current_subject</th>\n",
       "      <th>frame_index</th>\n",
       "      <th>tone_start_frame</th>\n",
       "      <th>tone_stop_frame</th>\n",
       "      <th>condition</th>\n",
       "      <th>competition_closeness</th>\n",
       "      <th>notes</th>\n",
       "      <th>10s_before_tone_frame</th>\n",
       "      <th>10s_after_tone_frame</th>\n",
       "      <th>...</th>\n",
       "      <th>vHPC_lfp_RMS_filtered</th>\n",
       "      <th>vHPC_lfp_mask</th>\n",
       "      <th>vHPC_lfp_modified_zscore</th>\n",
       "      <th>vHPC_lfp_trace</th>\n",
       "      <th>vHPC_lfp_trace_filtered</th>\n",
       "      <th>vHPC_mPFC_granger_all_frequencies_all_windows</th>\n",
       "      <th>vHPC_theta_band</th>\n",
       "      <th>vHPC_theta_phase</th>\n",
       "      <th>video_timestamps</th>\n",
       "      <th>cluster_timestamp</th>\n",
       "    </tr>\n",
       "  </thead>\n",
       "  <tbody>\n",
       "    <tr>\n",
       "      <th>0</th>\n",
       "      <td>20240320_171038_alone_comp_subj_4-2_and_4-3.1</td>\n",
       "      <td>4.2</td>\n",
       "      <td>[34042, 34043, 34044, 34045, 34046, 34047, 340...</td>\n",
       "      <td>[34242, 34242, 34242, 34242, 34242, 34242, 342...</td>\n",
       "      <td>[34442, 34442, 34442, 34442, 34442, 34442, 344...</td>\n",
       "      <td>[4.3, 4.3, 4.3, 4.3, 4.3, 4.3, 4.3, 4.3, 4.3, ...</td>\n",
       "      <td>[After trial, After trial, After trial, After ...</td>\n",
       "      <td>[nan, nan, nan, nan, nan, nan, nan, nan, nan, ...</td>\n",
       "      <td>[34042, 34042, 34042, 34042, 34042, 34042, 340...</td>\n",
       "      <td>[34642, 34642, 34642, 34642, 34642, 34642, 346...</td>\n",
       "      <td>...</td>\n",
       "      <td>[-0.079, -0.661, -0.941, -0.939, -1.488, -1.78...</td>\n",
       "      <td>[False, False, False, False, False, False, Fal...</td>\n",
       "      <td>[-0.066892564, -0.65406066, -0.93649584, -0.93...</td>\n",
       "      <td>[-8.384999, -70.005, -99.645, -99.45, -157.56,...</td>\n",
       "      <td>[-8.384999, -70.005, -99.645, -99.45, -157.56,...</td>\n",
       "      <td>[[nan, nan, nan, nan, nan, nan, nan, nan, nan,...</td>\n",
       "      <td>[0.6103468, 0.5730442, 0.5342873, 0.4941693, 0...</td>\n",
       "      <td>[-0.41403934, 0.30454272, 0.38569367, 0.659321...</td>\n",
       "      <td>[1384, 2770, 4156, 4156, 5541, 6927, 6927, 831...</td>\n",
       "      <td>[34079916, 34081302, 34082688, 34084074, 34084...</td>\n",
       "    </tr>\n",
       "    <tr>\n",
       "      <th>1</th>\n",
       "      <td>20240320_171038_alone_comp_subj_4-2_and_4-3.1</td>\n",
       "      <td>4.3</td>\n",
       "      <td>[34042, 34043, 34044, 34045, 34046, 34047, 340...</td>\n",
       "      <td>[34242, 34242, 34242, 34242, 34242, 34242, 342...</td>\n",
       "      <td>[34442, 34442, 34442, 34442, 34442, 34442, 344...</td>\n",
       "      <td>[4.3, 4.3, 4.3, 4.3, 4.3, 4.3, 4.3, 4.3, 4.3, ...</td>\n",
       "      <td>[After trial, After trial, After trial, After ...</td>\n",
       "      <td>[nan, nan, nan, nan, nan, nan, nan, nan, nan, ...</td>\n",
       "      <td>[34042, 34042, 34042, 34042, 34042, 34042, 340...</td>\n",
       "      <td>[34642, 34642, 34642, 34642, 34642, 34642, 346...</td>\n",
       "      <td>...</td>\n",
       "      <td>[-0.007, -0.037, -0.495, -0.804, -0.191, 0.058...</td>\n",
       "      <td>[False, False, False, False, False, False, Fal...</td>\n",
       "      <td>[-0.0018840783, -0.03202933, -0.4936285, -0.80...</td>\n",
       "      <td>[-0.78, -3.8999999, -51.675, -83.85, -19.89, 6...</td>\n",
       "      <td>[-0.78, -3.8999999, -51.675, -83.85, -19.89, 6...</td>\n",
       "      <td>[[0.10801135, 0.9345647, 0.71951747, 0.1227541...</td>\n",
       "      <td>[-0.19497989, -0.21380065, -0.23236576, -0.250...</td>\n",
       "      <td>[2.0032697, 2.1665337, 2.1993783, 2.2978027, 2...</td>\n",
       "      <td>[1384, 2770, 4156, 4156, 5541, 6927, 6927, 831...</td>\n",
       "      <td>[34079916, 34081302, 34082688, 34084074, 34084...</td>\n",
       "    </tr>\n",
       "    <tr>\n",
       "      <th>2</th>\n",
       "      <td>20240322_120625_alone_comp_subj_3-3_and_3-4.1</td>\n",
       "      <td>3.3</td>\n",
       "      <td>[34069, 34070, 34071, 34072, 34073, 34074, 340...</td>\n",
       "      <td>[34269, 34269, 34269, 34269, 34269, 34269, 342...</td>\n",
       "      <td>[34468, 34468, 34468, 34468, 34468, 34468, 344...</td>\n",
       "      <td>[3.4, 3.4, 3.4, 3.4, 3.4, 3.4, 3.4, 3.4, 3.4, ...</td>\n",
       "      <td>[Subj 1 then Subj 2, Subj 1 then Subj 2, Subj ...</td>\n",
       "      <td>[nan, nan, nan, nan, nan, nan, nan, nan, nan, ...</td>\n",
       "      <td>[34069, 34069, 34069, 34069, 34069, 34069, 340...</td>\n",
       "      <td>[34668, 34668, 34668, 34668, 34668, 34668, 346...</td>\n",
       "      <td>...</td>\n",
       "      <td>[-0.413, 0.247, 0.407, -0.413, -0.615, -0.218,...</td>\n",
       "      <td>[False, False, False, False, False, False, Fal...</td>\n",
       "      <td>[-0.44384193, 0.26560622, 0.43685234, -0.44384...</td>\n",
       "      <td>[-24.765, 14.82, 24.375, -24.765, -36.855, -13...</td>\n",
       "      <td>[-24.765, 14.82, 24.375, -24.765, -36.855, -13...</td>\n",
       "      <td>[[0.014051933, 0.6209912, 0.20073363, 0.871971...</td>\n",
       "      <td>[0.069354706, 0.071877405, 0.07377358, 0.07502...</td>\n",
       "      <td>[-0.8432274, -0.42268786, -0.36932397, -0.1285...</td>\n",
       "      <td>[1384, 1983, 2770, 4156, 5541, 5541, 6927, 831...</td>\n",
       "      <td>[34103476, 34104862, 34106248, 34106248, 34107...</td>\n",
       "    </tr>\n",
       "    <tr>\n",
       "      <th>3</th>\n",
       "      <td>20240322_120625_alone_comp_subj_3-3_and_3-4.1</td>\n",
       "      <td>3.4</td>\n",
       "      <td>[34069, 34070, 34071, 34072, 34073, 34074, 340...</td>\n",
       "      <td>[34269, 34269, 34269, 34269, 34269, 34269, 342...</td>\n",
       "      <td>[34468, 34468, 34468, 34468, 34468, 34468, 344...</td>\n",
       "      <td>[3.4, 3.4, 3.4, 3.4, 3.4, 3.4, 3.4, 3.4, 3.4, ...</td>\n",
       "      <td>[Subj 1 then Subj 2, Subj 1 then Subj 2, Subj ...</td>\n",
       "      <td>[nan, nan, nan, nan, nan, nan, nan, nan, nan, ...</td>\n",
       "      <td>[34069, 34069, 34069, 34069, 34069, 34069, 340...</td>\n",
       "      <td>[34668, 34668, 34668, 34668, 34668, 34668, 346...</td>\n",
       "      <td>...</td>\n",
       "      <td>[-0.469, -0.878, 0.017, 0.835, -0.533, -0.996,...</td>\n",
       "      <td>[False, False, False, False, False, False, Fal...</td>\n",
       "      <td>[-0.46027198, -0.8696384, 0.027573898, 0.84842...</td>\n",
       "      <td>[-43.289997, -80.924995, 1.56, 77.024994, -49....</td>\n",
       "      <td>[-43.289997, -80.924995, 1.56, 77.024994, -49....</td>\n",
       "      <td>[[nan, nan, nan, nan, nan, nan, nan, nan, nan,...</td>\n",
       "      <td>[0.036580447, 0.002779069, -0.032599572, -0.06...</td>\n",
       "      <td>[1.4616449, 1.5639099, 1.6466243, 1.7200751, 1...</td>\n",
       "      <td>[1384, 1983, 2770, 4156, 5541, 5541, 6927, 831...</td>\n",
       "      <td>[34103476, 34104862, 34106248, 34106248, 34107...</td>\n",
       "    </tr>\n",
       "    <tr>\n",
       "      <th>4</th>\n",
       "      <td>20240322_160946_alone_comp_subj_4-3_and_4-4.1</td>\n",
       "      <td>4.3</td>\n",
       "      <td>[34063, 34064, 34065, 34066, 34067, 34068, 340...</td>\n",
       "      <td>[34263, 34263, 34263, 34263, 34263, 34263, 342...</td>\n",
       "      <td>[34462, 34462, 34462, 34462, 34462, 34462, 344...</td>\n",
       "      <td>[4.3, 4.3, 4.3, 4.3, 4.3, 4.3, 4.3, 4.3, 4.3, ...</td>\n",
       "      <td>[Subj 1 blocking Subj 2, Subj 1 blocking Subj ...</td>\n",
       "      <td>[4.3 got reward at 34433, 4.3 got reward at 34...</td>\n",
       "      <td>[34063, 34063, 34063, 34063, 34063, 34063, 340...</td>\n",
       "      <td>[34662, 34662, 34662, 34662, 34662, 34662, 346...</td>\n",
       "      <td>...</td>\n",
       "      <td>[-0.779, -1.092, -1.065, -0.735, -0.841, -0.88...</td>\n",
       "      <td>[False, False, False, False, False, False, Fal...</td>\n",
       "      <td>[-0.7595372, -1.0687635, -1.0417062, -0.717018...</td>\n",
       "      <td>[-77.415, -108.615, -105.884995, -73.125, -83....</td>\n",
       "      <td>[-77.415, -108.615, -105.884995, -73.125, -83....</td>\n",
       "      <td>[[0.021656672, 0.19774476, 0.5195144, 0.240041...</td>\n",
       "      <td>[0.15190038, 0.14261837, 0.13290596, 0.1227597...</td>\n",
       "      <td>[0.017970975, 0.6857072, 0.76834697, 0.9525465...</td>\n",
       "      <td>[1384, 1384, 2769, 4155, 5214, 5541, 6927, 831...</td>\n",
       "      <td>[34096547, 34097933, 34098977, 34099318, 34100...</td>\n",
       "    </tr>\n",
       "  </tbody>\n",
       "</table>\n",
       "<p>5 rows × 226 columns</p>\n",
       "</div>"
      ],
      "text/plain": [
       "                                      video_name current_subject  \\\n",
       "0  20240320_171038_alone_comp_subj_4-2_and_4-3.1             4.2   \n",
       "1  20240320_171038_alone_comp_subj_4-2_and_4-3.1             4.3   \n",
       "2  20240322_120625_alone_comp_subj_3-3_and_3-4.1             3.3   \n",
       "3  20240322_120625_alone_comp_subj_3-3_and_3-4.1             3.4   \n",
       "4  20240322_160946_alone_comp_subj_4-3_and_4-4.1             4.3   \n",
       "\n",
       "                                         frame_index  \\\n",
       "0  [34042, 34043, 34044, 34045, 34046, 34047, 340...   \n",
       "1  [34042, 34043, 34044, 34045, 34046, 34047, 340...   \n",
       "2  [34069, 34070, 34071, 34072, 34073, 34074, 340...   \n",
       "3  [34069, 34070, 34071, 34072, 34073, 34074, 340...   \n",
       "4  [34063, 34064, 34065, 34066, 34067, 34068, 340...   \n",
       "\n",
       "                                    tone_start_frame  \\\n",
       "0  [34242, 34242, 34242, 34242, 34242, 34242, 342...   \n",
       "1  [34242, 34242, 34242, 34242, 34242, 34242, 342...   \n",
       "2  [34269, 34269, 34269, 34269, 34269, 34269, 342...   \n",
       "3  [34269, 34269, 34269, 34269, 34269, 34269, 342...   \n",
       "4  [34263, 34263, 34263, 34263, 34263, 34263, 342...   \n",
       "\n",
       "                                     tone_stop_frame  \\\n",
       "0  [34442, 34442, 34442, 34442, 34442, 34442, 344...   \n",
       "1  [34442, 34442, 34442, 34442, 34442, 34442, 344...   \n",
       "2  [34468, 34468, 34468, 34468, 34468, 34468, 344...   \n",
       "3  [34468, 34468, 34468, 34468, 34468, 34468, 344...   \n",
       "4  [34462, 34462, 34462, 34462, 34462, 34462, 344...   \n",
       "\n",
       "                                          condition   \\\n",
       "0  [4.3, 4.3, 4.3, 4.3, 4.3, 4.3, 4.3, 4.3, 4.3, ...   \n",
       "1  [4.3, 4.3, 4.3, 4.3, 4.3, 4.3, 4.3, 4.3, 4.3, ...   \n",
       "2  [3.4, 3.4, 3.4, 3.4, 3.4, 3.4, 3.4, 3.4, 3.4, ...   \n",
       "3  [3.4, 3.4, 3.4, 3.4, 3.4, 3.4, 3.4, 3.4, 3.4, ...   \n",
       "4  [4.3, 4.3, 4.3, 4.3, 4.3, 4.3, 4.3, 4.3, 4.3, ...   \n",
       "\n",
       "                               competition_closeness  \\\n",
       "0  [After trial, After trial, After trial, After ...   \n",
       "1  [After trial, After trial, After trial, After ...   \n",
       "2  [Subj 1 then Subj 2, Subj 1 then Subj 2, Subj ...   \n",
       "3  [Subj 1 then Subj 2, Subj 1 then Subj 2, Subj ...   \n",
       "4  [Subj 1 blocking Subj 2, Subj 1 blocking Subj ...   \n",
       "\n",
       "                                               notes  \\\n",
       "0  [nan, nan, nan, nan, nan, nan, nan, nan, nan, ...   \n",
       "1  [nan, nan, nan, nan, nan, nan, nan, nan, nan, ...   \n",
       "2  [nan, nan, nan, nan, nan, nan, nan, nan, nan, ...   \n",
       "3  [nan, nan, nan, nan, nan, nan, nan, nan, nan, ...   \n",
       "4  [4.3 got reward at 34433, 4.3 got reward at 34...   \n",
       "\n",
       "                               10s_before_tone_frame  \\\n",
       "0  [34042, 34042, 34042, 34042, 34042, 34042, 340...   \n",
       "1  [34042, 34042, 34042, 34042, 34042, 34042, 340...   \n",
       "2  [34069, 34069, 34069, 34069, 34069, 34069, 340...   \n",
       "3  [34069, 34069, 34069, 34069, 34069, 34069, 340...   \n",
       "4  [34063, 34063, 34063, 34063, 34063, 34063, 340...   \n",
       "\n",
       "                                10s_after_tone_frame  ...  \\\n",
       "0  [34642, 34642, 34642, 34642, 34642, 34642, 346...  ...   \n",
       "1  [34642, 34642, 34642, 34642, 34642, 34642, 346...  ...   \n",
       "2  [34668, 34668, 34668, 34668, 34668, 34668, 346...  ...   \n",
       "3  [34668, 34668, 34668, 34668, 34668, 34668, 346...  ...   \n",
       "4  [34662, 34662, 34662, 34662, 34662, 34662, 346...  ...   \n",
       "\n",
       "                               vHPC_lfp_RMS_filtered  \\\n",
       "0  [-0.079, -0.661, -0.941, -0.939, -1.488, -1.78...   \n",
       "1  [-0.007, -0.037, -0.495, -0.804, -0.191, 0.058...   \n",
       "2  [-0.413, 0.247, 0.407, -0.413, -0.615, -0.218,...   \n",
       "3  [-0.469, -0.878, 0.017, 0.835, -0.533, -0.996,...   \n",
       "4  [-0.779, -1.092, -1.065, -0.735, -0.841, -0.88...   \n",
       "\n",
       "                                       vHPC_lfp_mask  \\\n",
       "0  [False, False, False, False, False, False, Fal...   \n",
       "1  [False, False, False, False, False, False, Fal...   \n",
       "2  [False, False, False, False, False, False, Fal...   \n",
       "3  [False, False, False, False, False, False, Fal...   \n",
       "4  [False, False, False, False, False, False, Fal...   \n",
       "\n",
       "                            vHPC_lfp_modified_zscore  \\\n",
       "0  [-0.066892564, -0.65406066, -0.93649584, -0.93...   \n",
       "1  [-0.0018840783, -0.03202933, -0.4936285, -0.80...   \n",
       "2  [-0.44384193, 0.26560622, 0.43685234, -0.44384...   \n",
       "3  [-0.46027198, -0.8696384, 0.027573898, 0.84842...   \n",
       "4  [-0.7595372, -1.0687635, -1.0417062, -0.717018...   \n",
       "\n",
       "                                      vHPC_lfp_trace  \\\n",
       "0  [-8.384999, -70.005, -99.645, -99.45, -157.56,...   \n",
       "1  [-0.78, -3.8999999, -51.675, -83.85, -19.89, 6...   \n",
       "2  [-24.765, 14.82, 24.375, -24.765, -36.855, -13...   \n",
       "3  [-43.289997, -80.924995, 1.56, 77.024994, -49....   \n",
       "4  [-77.415, -108.615, -105.884995, -73.125, -83....   \n",
       "\n",
       "                             vHPC_lfp_trace_filtered  \\\n",
       "0  [-8.384999, -70.005, -99.645, -99.45, -157.56,...   \n",
       "1  [-0.78, -3.8999999, -51.675, -83.85, -19.89, 6...   \n",
       "2  [-24.765, 14.82, 24.375, -24.765, -36.855, -13...   \n",
       "3  [-43.289997, -80.924995, 1.56, 77.024994, -49....   \n",
       "4  [-77.415, -108.615, -105.884995, -73.125, -83....   \n",
       "\n",
       "       vHPC_mPFC_granger_all_frequencies_all_windows  \\\n",
       "0  [[nan, nan, nan, nan, nan, nan, nan, nan, nan,...   \n",
       "1  [[0.10801135, 0.9345647, 0.71951747, 0.1227541...   \n",
       "2  [[0.014051933, 0.6209912, 0.20073363, 0.871971...   \n",
       "3  [[nan, nan, nan, nan, nan, nan, nan, nan, nan,...   \n",
       "4  [[0.021656672, 0.19774476, 0.5195144, 0.240041...   \n",
       "\n",
       "                                     vHPC_theta_band  \\\n",
       "0  [0.6103468, 0.5730442, 0.5342873, 0.4941693, 0...   \n",
       "1  [-0.19497989, -0.21380065, -0.23236576, -0.250...   \n",
       "2  [0.069354706, 0.071877405, 0.07377358, 0.07502...   \n",
       "3  [0.036580447, 0.002779069, -0.032599572, -0.06...   \n",
       "4  [0.15190038, 0.14261837, 0.13290596, 0.1227597...   \n",
       "\n",
       "                                    vHPC_theta_phase  \\\n",
       "0  [-0.41403934, 0.30454272, 0.38569367, 0.659321...   \n",
       "1  [2.0032697, 2.1665337, 2.1993783, 2.2978027, 2...   \n",
       "2  [-0.8432274, -0.42268786, -0.36932397, -0.1285...   \n",
       "3  [1.4616449, 1.5639099, 1.6466243, 1.7200751, 1...   \n",
       "4  [0.017970975, 0.6857072, 0.76834697, 0.9525465...   \n",
       "\n",
       "                                    video_timestamps  \\\n",
       "0  [1384, 2770, 4156, 4156, 5541, 6927, 6927, 831...   \n",
       "1  [1384, 2770, 4156, 4156, 5541, 6927, 6927, 831...   \n",
       "2  [1384, 1983, 2770, 4156, 5541, 5541, 6927, 831...   \n",
       "3  [1384, 1983, 2770, 4156, 5541, 5541, 6927, 831...   \n",
       "4  [1384, 1384, 2769, 4155, 5214, 5541, 6927, 831...   \n",
       "\n",
       "                                   cluster_timestamp  \n",
       "0  [34079916, 34081302, 34082688, 34084074, 34084...  \n",
       "1  [34079916, 34081302, 34082688, 34084074, 34084...  \n",
       "2  [34103476, 34104862, 34106248, 34106248, 34107...  \n",
       "3  [34103476, 34104862, 34106248, 34106248, 34107...  \n",
       "4  [34096547, 34097933, 34098977, 34099318, 34100...  \n",
       "\n",
       "[5 rows x 226 columns]"
      ]
     },
     "execution_count": 23,
     "metadata": {},
     "output_type": "execute_result"
    }
   ],
   "source": [
    "LFP_SPECTRAL_DF.head()"
   ]
  },
  {
   "cell_type": "code",
   "execution_count": 24,
   "metadata": {
    "tags": []
   },
   "outputs": [],
   "source": [
    "LFP_SPECTRAL_DF[\"video_name\"] = LFP_SPECTRAL_DF[\"video_name\"].apply(lambda x: x.strip(\".videoTimeStamps.cameraHWSync\"))"
   ]
  },
  {
   "cell_type": "code",
   "execution_count": 25,
   "metadata": {
    "tags": []
   },
   "outputs": [],
   "source": [
    "LFP_SPECTRAL_DF[\"current_subject\"] = LFP_SPECTRAL_DF[\"current_subject\"].astype(str)\n"
   ]
  },
  {
   "cell_type": "code",
   "execution_count": 26,
   "metadata": {
    "tags": []
   },
   "outputs": [
    {
     "data": {
      "text/plain": [
       "array(['20240320_142408_alone_comp_subj_3-1_and_3-3.1.videoTimeStamps.cameraHWSync',\n",
       "       '20240320_142408_alone_comp_subj_3-1_and_3-3.2.videoTimeStamps.cameraHWSync',\n",
       "       '20240320_171038_alone_comp_subj_4-2_and_4-3.1.videoTimeStamps.cameraHWSync',\n",
       "       '20240320_171038_alone_comp_subj_4-2_and_4-3.2.videoTimeStamps.cameraHWSync',\n",
       "       '20240322_120625_alone_comp_subj_3-3_and_3-4.1.videoTimeStamps.cameraHWSync',\n",
       "       nan,\n",
       "       '20240322_120625_alone_comp_subj_3-3_and_3-4.2.videoTimeStamps.cameraHWSync',\n",
       "       '20240322_160946_alone_comp_subj_4-3_and_4-4.1.videoTimeStamps.cameraHWSync',\n",
       "       '20240322_160946_alone_comp_subj_4-3_and_4-4.2.videoTimeStamps.cameraHWSync',\n",
       "       '20240323_122227_alone_comp_subj_5-2_and_5-3.1.videoTimeStamps.cameraHWSync',\n",
       "       '20240323_122227_alone_comp_subj_5-2_and_5-3.2.videoTimeStamps.cameraHWSync',\n",
       "       '20240323_144517_alone_comp_subj_3-1_and_3-4.1.videoTimeStamps.cameraHWSync',\n",
       "       '20240323_144517_alone_comp_subj_3-1_and_3-4.2.videoTimeStamps.cameraHWSync',\n",
       "       '20240323_165815_alone_comp_subj_4-2_and_4-4.1.videoTimeStamps.cameraHWSync',\n",
       "       '20240323_165815_alone_comp_subj_4-2_and_4-4.2.videoTimeStamps.cameraHWSync'],\n",
       "      dtype=object)"
      ]
     },
     "execution_count": 26,
     "metadata": {},
     "output_type": "execute_result"
    }
   ],
   "source": [
    "TRIAL_LABELS_DF[\"video_name\"].unique()"
   ]
  },
  {
   "cell_type": "code",
   "execution_count": 27,
   "metadata": {
    "tags": []
   },
   "outputs": [],
   "source": [
    "TRIAL_LABELS_DF = TRIAL_LABELS_DF.dropna(subset=[\"video_name\"])"
   ]
  },
  {
   "cell_type": "code",
   "execution_count": 28,
   "metadata": {
    "tags": []
   },
   "outputs": [],
   "source": [
    "TRIAL_LABELS_DF = TRIAL_LABELS_DF.dropna(subset=[\"condition \"])"
   ]
  },
  {
   "cell_type": "code",
   "execution_count": 29,
   "metadata": {
    "tags": []
   },
   "outputs": [],
   "source": [
    "TRIAL_LABELS_DF[\"video_name\"] = TRIAL_LABELS_DF[\"video_name\"].apply(lambda x: x.strip(\".videoTimeStamps.cameraHWSync\"))\n"
   ]
  },
  {
   "cell_type": "code",
   "execution_count": 30,
   "metadata": {
    "tags": []
   },
   "outputs": [
    {
     "data": {
      "text/plain": [
       "array(['20240320_142408_alone_comp_subj_3-1_and_3-3.1',\n",
       "       '20240320_171038_alone_comp_subj_4-2_and_4-3.1',\n",
       "       '20240322_120625_alone_comp_subj_3-3_and_3-4.1',\n",
       "       '20240322_160946_alone_comp_subj_4-3_and_4-4.1',\n",
       "       '20240323_122227_alone_comp_subj_5-2_and_5-3.1',\n",
       "       '20240323_144517_alone_comp_subj_3-1_and_3-4.1',\n",
       "       '20240323_165815_alone_comp_subj_4-2_and_4-4.1'], dtype=object)"
      ]
     },
     "execution_count": 30,
     "metadata": {},
     "output_type": "execute_result"
    }
   ],
   "source": [
    "TRIAL_LABELS_DF[\"video_name\"].unique()"
   ]
  },
  {
   "cell_type": "code",
   "execution_count": 31,
   "metadata": {
    "tags": []
   },
   "outputs": [
    {
     "data": {
      "text/plain": [
       "array(['20240320_171038_alone_comp_subj_4-2_and_4-3.1',\n",
       "       '20240322_120625_alone_comp_subj_3-3_and_3-4.1',\n",
       "       '20240322_160946_alone_comp_subj_4-3_and_4-4.1',\n",
       "       '20240323_122227_alone_comp_subj_5-2_and_5-3.1',\n",
       "       '20240323_144517_alone_comp_subj_3-1_and_3-4.1',\n",
       "       '20240323_165815_alone_comp_subj_4-2_and_4-4.1'], dtype=object)"
      ]
     },
     "execution_count": 31,
     "metadata": {},
     "output_type": "execute_result"
    }
   ],
   "source": [
    "LFP_SPECTRAL_DF[\"video_name\"].unique()"
   ]
  },
  {
   "cell_type": "code",
   "execution_count": 32,
   "metadata": {
    "tags": []
   },
   "outputs": [],
   "source": [
    "TRIALS_AND_SPECTRAL_DF = pd.merge(TRIAL_LABELS_DF, LFP_SPECTRAL_DF, on=[\"video_name\"], how=\"inner\", suffixes=('', '_y'))"
   ]
  },
  {
   "cell_type": "code",
   "execution_count": 33,
   "metadata": {
    "tags": []
   },
   "outputs": [],
   "source": [
    "TRIALS_AND_SPECTRAL_DF = TRIALS_AND_SPECTRAL_DF.drop(columns=[col for col in TRIALS_AND_SPECTRAL_DF if \"Unnamed\" in col])"
   ]
  },
  {
   "cell_type": "code",
   "execution_count": 34,
   "metadata": {
    "tags": []
   },
   "outputs": [
    {
     "data": {
      "text/html": [
       "<div>\n",
       "<style scoped>\n",
       "    .dataframe tbody tr th:only-of-type {\n",
       "        vertical-align: middle;\n",
       "    }\n",
       "\n",
       "    .dataframe tbody tr th {\n",
       "        vertical-align: top;\n",
       "    }\n",
       "\n",
       "    .dataframe thead th {\n",
       "        text-align: right;\n",
       "    }\n",
       "</style>\n",
       "<table border=\"1\" class=\"dataframe\">\n",
       "  <thead>\n",
       "    <tr style=\"text-align: right;\">\n",
       "      <th></th>\n",
       "      <th>session_dir</th>\n",
       "      <th>tone_start_frame</th>\n",
       "      <th>reward_start</th>\n",
       "      <th>reward_dispensed</th>\n",
       "      <th>tone_stop_frame</th>\n",
       "      <th>condition</th>\n",
       "      <th>competition_closeness</th>\n",
       "      <th>get_reward_frame</th>\n",
       "      <th>out_reward_frame</th>\n",
       "      <th>notes</th>\n",
       "      <th>...</th>\n",
       "      <th>vHPC_lfp_RMS_filtered</th>\n",
       "      <th>vHPC_lfp_mask</th>\n",
       "      <th>vHPC_lfp_modified_zscore</th>\n",
       "      <th>vHPC_lfp_trace</th>\n",
       "      <th>vHPC_lfp_trace_filtered</th>\n",
       "      <th>vHPC_mPFC_granger_all_frequencies_all_windows</th>\n",
       "      <th>vHPC_theta_band</th>\n",
       "      <th>vHPC_theta_phase</th>\n",
       "      <th>video_timestamps</th>\n",
       "      <th>cluster_timestamp</th>\n",
       "    </tr>\n",
       "  </thead>\n",
       "  <tbody>\n",
       "    <tr>\n",
       "      <th>0</th>\n",
       "      <td>20240320_171038_alone_comp_subj_4-2_and_4-3</td>\n",
       "      <td>34242.0</td>\n",
       "      <td>34322</td>\n",
       "      <td>34342.0</td>\n",
       "      <td>34442.0</td>\n",
       "      <td>4.3</td>\n",
       "      <td>After trial</td>\n",
       "      <td>NaN</td>\n",
       "      <td>NaN</td>\n",
       "      <td>NaN</td>\n",
       "      <td>...</td>\n",
       "      <td>[-0.079, -0.661, -0.941, -0.939, -1.488, -1.78...</td>\n",
       "      <td>[False, False, False, False, False, False, Fal...</td>\n",
       "      <td>[-0.066892564, -0.65406066, -0.93649584, -0.93...</td>\n",
       "      <td>[-8.384999, -70.005, -99.645, -99.45, -157.56,...</td>\n",
       "      <td>[-8.384999, -70.005, -99.645, -99.45, -157.56,...</td>\n",
       "      <td>[[nan, nan, nan, nan, nan, nan, nan, nan, nan,...</td>\n",
       "      <td>[0.6103468, 0.5730442, 0.5342873, 0.4941693, 0...</td>\n",
       "      <td>[-0.41403934, 0.30454272, 0.38569367, 0.659321...</td>\n",
       "      <td>[1384, 2770, 4156, 4156, 5541, 6927, 6927, 831...</td>\n",
       "      <td>[34079916, 34081302, 34082688, 34084074, 34084...</td>\n",
       "    </tr>\n",
       "    <tr>\n",
       "      <th>1</th>\n",
       "      <td>20240320_171038_alone_comp_subj_4-2_and_4-3</td>\n",
       "      <td>34242.0</td>\n",
       "      <td>34322</td>\n",
       "      <td>34342.0</td>\n",
       "      <td>34442.0</td>\n",
       "      <td>4.3</td>\n",
       "      <td>After trial</td>\n",
       "      <td>NaN</td>\n",
       "      <td>NaN</td>\n",
       "      <td>NaN</td>\n",
       "      <td>...</td>\n",
       "      <td>[-0.007, -0.037, -0.495, -0.804, -0.191, 0.058...</td>\n",
       "      <td>[False, False, False, False, False, False, Fal...</td>\n",
       "      <td>[-0.0018840783, -0.03202933, -0.4936285, -0.80...</td>\n",
       "      <td>[-0.78, -3.8999999, -51.675, -83.85, -19.89, 6...</td>\n",
       "      <td>[-0.78, -3.8999999, -51.675, -83.85, -19.89, 6...</td>\n",
       "      <td>[[0.10801135, 0.9345647, 0.71951747, 0.1227541...</td>\n",
       "      <td>[-0.19497989, -0.21380065, -0.23236576, -0.250...</td>\n",
       "      <td>[2.0032697, 2.1665337, 2.1993783, 2.2978027, 2...</td>\n",
       "      <td>[1384, 2770, 4156, 4156, 5541, 6927, 6927, 831...</td>\n",
       "      <td>[34079916, 34081302, 34082688, 34084074, 34084...</td>\n",
       "    </tr>\n",
       "    <tr>\n",
       "      <th>2</th>\n",
       "      <td>20240320_171038_alone_comp_subj_4-2_and_4-3</td>\n",
       "      <td>35241.0</td>\n",
       "      <td>35321</td>\n",
       "      <td>35341.0</td>\n",
       "      <td>35439.0</td>\n",
       "      <td>4.3</td>\n",
       "      <td>Subj 2 Only</td>\n",
       "      <td>NaN</td>\n",
       "      <td>NaN</td>\n",
       "      <td>NaN</td>\n",
       "      <td>...</td>\n",
       "      <td>[-0.079, -0.661, -0.941, -0.939, -1.488, -1.78...</td>\n",
       "      <td>[False, False, False, False, False, False, Fal...</td>\n",
       "      <td>[-0.066892564, -0.65406066, -0.93649584, -0.93...</td>\n",
       "      <td>[-8.384999, -70.005, -99.645, -99.45, -157.56,...</td>\n",
       "      <td>[-8.384999, -70.005, -99.645, -99.45, -157.56,...</td>\n",
       "      <td>[[nan, nan, nan, nan, nan, nan, nan, nan, nan,...</td>\n",
       "      <td>[0.6103468, 0.5730442, 0.5342873, 0.4941693, 0...</td>\n",
       "      <td>[-0.41403934, 0.30454272, 0.38569367, 0.659321...</td>\n",
       "      <td>[1384, 2770, 4156, 4156, 5541, 6927, 6927, 831...</td>\n",
       "      <td>[34079916, 34081302, 34082688, 34084074, 34084...</td>\n",
       "    </tr>\n",
       "    <tr>\n",
       "      <th>3</th>\n",
       "      <td>20240320_171038_alone_comp_subj_4-2_and_4-3</td>\n",
       "      <td>35241.0</td>\n",
       "      <td>35321</td>\n",
       "      <td>35341.0</td>\n",
       "      <td>35439.0</td>\n",
       "      <td>4.3</td>\n",
       "      <td>Subj 2 Only</td>\n",
       "      <td>NaN</td>\n",
       "      <td>NaN</td>\n",
       "      <td>NaN</td>\n",
       "      <td>...</td>\n",
       "      <td>[-0.007, -0.037, -0.495, -0.804, -0.191, 0.058...</td>\n",
       "      <td>[False, False, False, False, False, False, Fal...</td>\n",
       "      <td>[-0.0018840783, -0.03202933, -0.4936285, -0.80...</td>\n",
       "      <td>[-0.78, -3.8999999, -51.675, -83.85, -19.89, 6...</td>\n",
       "      <td>[-0.78, -3.8999999, -51.675, -83.85, -19.89, 6...</td>\n",
       "      <td>[[0.10801135, 0.9345647, 0.71951747, 0.1227541...</td>\n",
       "      <td>[-0.19497989, -0.21380065, -0.23236576, -0.250...</td>\n",
       "      <td>[2.0032697, 2.1665337, 2.1993783, 2.2978027, 2...</td>\n",
       "      <td>[1384, 2770, 4156, 4156, 5541, 6927, 6927, 831...</td>\n",
       "      <td>[34079916, 34081302, 34082688, 34084074, 34084...</td>\n",
       "    </tr>\n",
       "    <tr>\n",
       "      <th>4</th>\n",
       "      <td>20240320_171038_alone_comp_subj_4-2_and_4-3</td>\n",
       "      <td>36339.0</td>\n",
       "      <td>36419</td>\n",
       "      <td>36439.0</td>\n",
       "      <td>36538.0</td>\n",
       "      <td>4.3</td>\n",
       "      <td>Subj 2 blocking Subj 1</td>\n",
       "      <td>NaN</td>\n",
       "      <td>NaN</td>\n",
       "      <td>NaN</td>\n",
       "      <td>...</td>\n",
       "      <td>[-0.079, -0.661, -0.941, -0.939, -1.488, -1.78...</td>\n",
       "      <td>[False, False, False, False, False, False, Fal...</td>\n",
       "      <td>[-0.066892564, -0.65406066, -0.93649584, -0.93...</td>\n",
       "      <td>[-8.384999, -70.005, -99.645, -99.45, -157.56,...</td>\n",
       "      <td>[-8.384999, -70.005, -99.645, -99.45, -157.56,...</td>\n",
       "      <td>[[nan, nan, nan, nan, nan, nan, nan, nan, nan,...</td>\n",
       "      <td>[0.6103468, 0.5730442, 0.5342873, 0.4941693, 0...</td>\n",
       "      <td>[-0.41403934, 0.30454272, 0.38569367, 0.659321...</td>\n",
       "      <td>[1384, 2770, 4156, 4156, 5541, 6927, 6927, 831...</td>\n",
       "      <td>[34079916, 34081302, 34082688, 34084074, 34084...</td>\n",
       "    </tr>\n",
       "  </tbody>\n",
       "</table>\n",
       "<p>5 rows × 246 columns</p>\n",
       "</div>"
      ],
      "text/plain": [
       "                                   session_dir  tone_start_frame  \\\n",
       "0  20240320_171038_alone_comp_subj_4-2_and_4-3           34242.0   \n",
       "1  20240320_171038_alone_comp_subj_4-2_and_4-3           34242.0   \n",
       "2  20240320_171038_alone_comp_subj_4-2_and_4-3           35241.0   \n",
       "3  20240320_171038_alone_comp_subj_4-2_and_4-3           35241.0   \n",
       "4  20240320_171038_alone_comp_subj_4-2_and_4-3           36339.0   \n",
       "\n",
       "   reward_start  reward_dispensed  tone_stop_frame condition   \\\n",
       "0         34322           34342.0          34442.0        4.3   \n",
       "1         34322           34342.0          34442.0        4.3   \n",
       "2         35321           35341.0          35439.0        4.3   \n",
       "3         35321           35341.0          35439.0        4.3   \n",
       "4         36419           36439.0          36538.0        4.3   \n",
       "\n",
       "    competition_closeness  get_reward_frame  out_reward_frame notes  ...  \\\n",
       "0             After trial               NaN               NaN   NaN  ...   \n",
       "1             After trial               NaN               NaN   NaN  ...   \n",
       "2             Subj 2 Only               NaN               NaN   NaN  ...   \n",
       "3             Subj 2 Only               NaN               NaN   NaN  ...   \n",
       "4  Subj 2 blocking Subj 1               NaN               NaN   NaN  ...   \n",
       "\n",
       "                               vHPC_lfp_RMS_filtered  \\\n",
       "0  [-0.079, -0.661, -0.941, -0.939, -1.488, -1.78...   \n",
       "1  [-0.007, -0.037, -0.495, -0.804, -0.191, 0.058...   \n",
       "2  [-0.079, -0.661, -0.941, -0.939, -1.488, -1.78...   \n",
       "3  [-0.007, -0.037, -0.495, -0.804, -0.191, 0.058...   \n",
       "4  [-0.079, -0.661, -0.941, -0.939, -1.488, -1.78...   \n",
       "\n",
       "                                       vHPC_lfp_mask  \\\n",
       "0  [False, False, False, False, False, False, Fal...   \n",
       "1  [False, False, False, False, False, False, Fal...   \n",
       "2  [False, False, False, False, False, False, Fal...   \n",
       "3  [False, False, False, False, False, False, Fal...   \n",
       "4  [False, False, False, False, False, False, Fal...   \n",
       "\n",
       "                            vHPC_lfp_modified_zscore  \\\n",
       "0  [-0.066892564, -0.65406066, -0.93649584, -0.93...   \n",
       "1  [-0.0018840783, -0.03202933, -0.4936285, -0.80...   \n",
       "2  [-0.066892564, -0.65406066, -0.93649584, -0.93...   \n",
       "3  [-0.0018840783, -0.03202933, -0.4936285, -0.80...   \n",
       "4  [-0.066892564, -0.65406066, -0.93649584, -0.93...   \n",
       "\n",
       "                                      vHPC_lfp_trace  \\\n",
       "0  [-8.384999, -70.005, -99.645, -99.45, -157.56,...   \n",
       "1  [-0.78, -3.8999999, -51.675, -83.85, -19.89, 6...   \n",
       "2  [-8.384999, -70.005, -99.645, -99.45, -157.56,...   \n",
       "3  [-0.78, -3.8999999, -51.675, -83.85, -19.89, 6...   \n",
       "4  [-8.384999, -70.005, -99.645, -99.45, -157.56,...   \n",
       "\n",
       "                             vHPC_lfp_trace_filtered  \\\n",
       "0  [-8.384999, -70.005, -99.645, -99.45, -157.56,...   \n",
       "1  [-0.78, -3.8999999, -51.675, -83.85, -19.89, 6...   \n",
       "2  [-8.384999, -70.005, -99.645, -99.45, -157.56,...   \n",
       "3  [-0.78, -3.8999999, -51.675, -83.85, -19.89, 6...   \n",
       "4  [-8.384999, -70.005, -99.645, -99.45, -157.56,...   \n",
       "\n",
       "       vHPC_mPFC_granger_all_frequencies_all_windows  \\\n",
       "0  [[nan, nan, nan, nan, nan, nan, nan, nan, nan,...   \n",
       "1  [[0.10801135, 0.9345647, 0.71951747, 0.1227541...   \n",
       "2  [[nan, nan, nan, nan, nan, nan, nan, nan, nan,...   \n",
       "3  [[0.10801135, 0.9345647, 0.71951747, 0.1227541...   \n",
       "4  [[nan, nan, nan, nan, nan, nan, nan, nan, nan,...   \n",
       "\n",
       "                                     vHPC_theta_band  \\\n",
       "0  [0.6103468, 0.5730442, 0.5342873, 0.4941693, 0...   \n",
       "1  [-0.19497989, -0.21380065, -0.23236576, -0.250...   \n",
       "2  [0.6103468, 0.5730442, 0.5342873, 0.4941693, 0...   \n",
       "3  [-0.19497989, -0.21380065, -0.23236576, -0.250...   \n",
       "4  [0.6103468, 0.5730442, 0.5342873, 0.4941693, 0...   \n",
       "\n",
       "                                    vHPC_theta_phase  \\\n",
       "0  [-0.41403934, 0.30454272, 0.38569367, 0.659321...   \n",
       "1  [2.0032697, 2.1665337, 2.1993783, 2.2978027, 2...   \n",
       "2  [-0.41403934, 0.30454272, 0.38569367, 0.659321...   \n",
       "3  [2.0032697, 2.1665337, 2.1993783, 2.2978027, 2...   \n",
       "4  [-0.41403934, 0.30454272, 0.38569367, 0.659321...   \n",
       "\n",
       "                                    video_timestamps  \\\n",
       "0  [1384, 2770, 4156, 4156, 5541, 6927, 6927, 831...   \n",
       "1  [1384, 2770, 4156, 4156, 5541, 6927, 6927, 831...   \n",
       "2  [1384, 2770, 4156, 4156, 5541, 6927, 6927, 831...   \n",
       "3  [1384, 2770, 4156, 4156, 5541, 6927, 6927, 831...   \n",
       "4  [1384, 2770, 4156, 4156, 5541, 6927, 6927, 831...   \n",
       "\n",
       "                                   cluster_timestamp  \n",
       "0  [34079916, 34081302, 34082688, 34084074, 34084...  \n",
       "1  [34079916, 34081302, 34082688, 34084074, 34084...  \n",
       "2  [34079916, 34081302, 34082688, 34084074, 34084...  \n",
       "3  [34079916, 34081302, 34082688, 34084074, 34084...  \n",
       "4  [34079916, 34081302, 34082688, 34084074, 34084...  \n",
       "\n",
       "[5 rows x 246 columns]"
      ]
     },
     "execution_count": 34,
     "metadata": {},
     "output_type": "execute_result"
    }
   ],
   "source": [
    "TRIALS_AND_SPECTRAL_DF.head()"
   ]
  },
  {
   "cell_type": "code",
   "execution_count": 35,
   "metadata": {
    "tags": []
   },
   "outputs": [
    {
     "data": {
      "text/html": [
       "<div>\n",
       "<style scoped>\n",
       "    .dataframe tbody tr th:only-of-type {\n",
       "        vertical-align: middle;\n",
       "    }\n",
       "\n",
       "    .dataframe tbody tr th {\n",
       "        vertical-align: top;\n",
       "    }\n",
       "\n",
       "    .dataframe thead th {\n",
       "        text-align: right;\n",
       "    }\n",
       "</style>\n",
       "<table border=\"1\" class=\"dataframe\">\n",
       "  <thead>\n",
       "    <tr style=\"text-align: right;\">\n",
       "      <th></th>\n",
       "      <th>session_dir</th>\n",
       "      <th>tone_start_frame</th>\n",
       "      <th>reward_start</th>\n",
       "      <th>reward_dispensed</th>\n",
       "      <th>tone_stop_frame</th>\n",
       "      <th>condition</th>\n",
       "      <th>competition_closeness</th>\n",
       "      <th>get_reward_frame</th>\n",
       "      <th>out_reward_frame</th>\n",
       "      <th>notes</th>\n",
       "      <th>...</th>\n",
       "      <th>vHPC_lfp_RMS_filtered</th>\n",
       "      <th>vHPC_lfp_mask</th>\n",
       "      <th>vHPC_lfp_modified_zscore</th>\n",
       "      <th>vHPC_lfp_trace</th>\n",
       "      <th>vHPC_lfp_trace_filtered</th>\n",
       "      <th>vHPC_mPFC_granger_all_frequencies_all_windows</th>\n",
       "      <th>vHPC_theta_band</th>\n",
       "      <th>vHPC_theta_phase</th>\n",
       "      <th>video_timestamps</th>\n",
       "      <th>cluster_timestamp</th>\n",
       "    </tr>\n",
       "  </thead>\n",
       "  <tbody>\n",
       "    <tr>\n",
       "      <th>243</th>\n",
       "      <td>20240323_165815_alone_comp_subj_4-2_and_4-4</td>\n",
       "      <td>57880.0</td>\n",
       "      <td>57960</td>\n",
       "      <td>57980.0</td>\n",
       "      <td>58079.0</td>\n",
       "      <td>4.4</td>\n",
       "      <td>Subj 2 then Subj 1</td>\n",
       "      <td>NaN</td>\n",
       "      <td>NaN</td>\n",
       "      <td>NaN</td>\n",
       "      <td>...</td>\n",
       "      <td>[0.285, 0.161, -0.38, -0.921, -0.873, -0.731, ...</td>\n",
       "      <td>[False, False, False, False, False, False, Fal...</td>\n",
       "      <td>[0.3113077, 0.1764077, -0.41507694, -1.0065615...</td>\n",
       "      <td>[5.85, 3.3149998, -7.7999997, -18.914999, -17....</td>\n",
       "      <td>[5.85, 3.3149998, -7.7999997, -18.914999, -17....</td>\n",
       "      <td>[[0.22426029, 0.031661306, 0.23187897, 0.50685...</td>\n",
       "      <td>[-0.17116006, -0.19133626, -0.21119694, -0.230...</td>\n",
       "      <td>[1.9537605, 2.088994, 2.1246827, 2.2100766, 2....</td>\n",
       "      <td>[1384, 2515, 2770, 4156, 5542, 5542, 6927, 831...</td>\n",
       "      <td>[36182281, 36183667, 36183667, 36185052, 36186...</td>\n",
       "    </tr>\n",
       "    <tr>\n",
       "      <th>244</th>\n",
       "      <td>20240323_165815_alone_comp_subj_4-2_and_4-4</td>\n",
       "      <td>60077.0</td>\n",
       "      <td>60157</td>\n",
       "      <td>60177.0</td>\n",
       "      <td>60276.0</td>\n",
       "      <td>4.4</td>\n",
       "      <td>Subj 2 blocking Subj 1</td>\n",
       "      <td>NaN</td>\n",
       "      <td>NaN</td>\n",
       "      <td>4.2 just jumping around on the right side of port</td>\n",
       "      <td>...</td>\n",
       "      <td>[0.083, 0.316, 0.588, 0.714, 0.662, 0.246, -0....</td>\n",
       "      <td>[False, False, False, False, False, False, Fal...</td>\n",
       "      <td>[0.0997087, 0.32845217, 0.59629714, 0.7194666,...</td>\n",
       "      <td>[8.19, 31.005, 57.719997, 70.005, 64.935, 24.1...</td>\n",
       "      <td>[8.19, 31.005, 57.719997, 70.005, 64.935, 24.1...</td>\n",
       "      <td>[[3.099082, 0.46414718, 0.33549076, 0.6002563,...</td>\n",
       "      <td>[-0.2993394, -0.27316827, -0.24553603, -0.2164...</td>\n",
       "      <td>[3.108997, -2.4551952, -2.344967, -2.1353333, ...</td>\n",
       "      <td>[1384, 2515, 2770, 4156, 5542, 5542, 6927, 831...</td>\n",
       "      <td>[36182281, 36183667, 36183667, 36185052, 36186...</td>\n",
       "    </tr>\n",
       "    <tr>\n",
       "      <th>245</th>\n",
       "      <td>20240323_165815_alone_comp_subj_4-2_and_4-4</td>\n",
       "      <td>60077.0</td>\n",
       "      <td>60157</td>\n",
       "      <td>60177.0</td>\n",
       "      <td>60276.0</td>\n",
       "      <td>4.4</td>\n",
       "      <td>Subj 2 blocking Subj 1</td>\n",
       "      <td>NaN</td>\n",
       "      <td>NaN</td>\n",
       "      <td>4.2 just jumping around on the right side of port</td>\n",
       "      <td>...</td>\n",
       "      <td>[0.285, 0.161, -0.38, -0.921, -0.873, -0.731, ...</td>\n",
       "      <td>[False, False, False, False, False, False, Fal...</td>\n",
       "      <td>[0.3113077, 0.1764077, -0.41507694, -1.0065615...</td>\n",
       "      <td>[5.85, 3.3149998, -7.7999997, -18.914999, -17....</td>\n",
       "      <td>[5.85, 3.3149998, -7.7999997, -18.914999, -17....</td>\n",
       "      <td>[[0.22426029, 0.031661306, 0.23187897, 0.50685...</td>\n",
       "      <td>[-0.17116006, -0.19133626, -0.21119694, -0.230...</td>\n",
       "      <td>[1.9537605, 2.088994, 2.1246827, 2.2100766, 2....</td>\n",
       "      <td>[1384, 2515, 2770, 4156, 5542, 5542, 6927, 831...</td>\n",
       "      <td>[36182281, 36183667, 36183667, 36185052, 36186...</td>\n",
       "    </tr>\n",
       "    <tr>\n",
       "      <th>246</th>\n",
       "      <td>20240323_165815_alone_comp_subj_4-2_and_4-4</td>\n",
       "      <td>61174.0</td>\n",
       "      <td>61254</td>\n",
       "      <td>61274.0</td>\n",
       "      <td>61375.0</td>\n",
       "      <td>tie</td>\n",
       "      <td>Close Call</td>\n",
       "      <td>NaN</td>\n",
       "      <td>NaN</td>\n",
       "      <td>NaN</td>\n",
       "      <td>...</td>\n",
       "      <td>[0.083, 0.316, 0.588, 0.714, 0.662, 0.246, -0....</td>\n",
       "      <td>[False, False, False, False, False, False, Fal...</td>\n",
       "      <td>[0.0997087, 0.32845217, 0.59629714, 0.7194666,...</td>\n",
       "      <td>[8.19, 31.005, 57.719997, 70.005, 64.935, 24.1...</td>\n",
       "      <td>[8.19, 31.005, 57.719997, 70.005, 64.935, 24.1...</td>\n",
       "      <td>[[3.099082, 0.46414718, 0.33549076, 0.6002563,...</td>\n",
       "      <td>[-0.2993394, -0.27316827, -0.24553603, -0.2164...</td>\n",
       "      <td>[3.108997, -2.4551952, -2.344967, -2.1353333, ...</td>\n",
       "      <td>[1384, 2515, 2770, 4156, 5542, 5542, 6927, 831...</td>\n",
       "      <td>[36182281, 36183667, 36183667, 36185052, 36186...</td>\n",
       "    </tr>\n",
       "    <tr>\n",
       "      <th>247</th>\n",
       "      <td>20240323_165815_alone_comp_subj_4-2_and_4-4</td>\n",
       "      <td>61174.0</td>\n",
       "      <td>61254</td>\n",
       "      <td>61274.0</td>\n",
       "      <td>61375.0</td>\n",
       "      <td>tie</td>\n",
       "      <td>Close Call</td>\n",
       "      <td>NaN</td>\n",
       "      <td>NaN</td>\n",
       "      <td>NaN</td>\n",
       "      <td>...</td>\n",
       "      <td>[0.285, 0.161, -0.38, -0.921, -0.873, -0.731, ...</td>\n",
       "      <td>[False, False, False, False, False, False, Fal...</td>\n",
       "      <td>[0.3113077, 0.1764077, -0.41507694, -1.0065615...</td>\n",
       "      <td>[5.85, 3.3149998, -7.7999997, -18.914999, -17....</td>\n",
       "      <td>[5.85, 3.3149998, -7.7999997, -18.914999, -17....</td>\n",
       "      <td>[[0.22426029, 0.031661306, 0.23187897, 0.50685...</td>\n",
       "      <td>[-0.17116006, -0.19133626, -0.21119694, -0.230...</td>\n",
       "      <td>[1.9537605, 2.088994, 2.1246827, 2.2100766, 2....</td>\n",
       "      <td>[1384, 2515, 2770, 4156, 5542, 5542, 6927, 831...</td>\n",
       "      <td>[36182281, 36183667, 36183667, 36185052, 36186...</td>\n",
       "    </tr>\n",
       "  </tbody>\n",
       "</table>\n",
       "<p>5 rows × 246 columns</p>\n",
       "</div>"
      ],
      "text/plain": [
       "                                     session_dir  tone_start_frame  \\\n",
       "243  20240323_165815_alone_comp_subj_4-2_and_4-4           57880.0   \n",
       "244  20240323_165815_alone_comp_subj_4-2_and_4-4           60077.0   \n",
       "245  20240323_165815_alone_comp_subj_4-2_and_4-4           60077.0   \n",
       "246  20240323_165815_alone_comp_subj_4-2_and_4-4           61174.0   \n",
       "247  20240323_165815_alone_comp_subj_4-2_and_4-4           61174.0   \n",
       "\n",
       "     reward_start  reward_dispensed  tone_stop_frame condition   \\\n",
       "243         57960           57980.0          58079.0        4.4   \n",
       "244         60157           60177.0          60276.0        4.4   \n",
       "245         60157           60177.0          60276.0        4.4   \n",
       "246         61254           61274.0          61375.0        tie   \n",
       "247         61254           61274.0          61375.0        tie   \n",
       "\n",
       "      competition_closeness  get_reward_frame  out_reward_frame  \\\n",
       "243      Subj 2 then Subj 1               NaN               NaN   \n",
       "244  Subj 2 blocking Subj 1               NaN               NaN   \n",
       "245  Subj 2 blocking Subj 1               NaN               NaN   \n",
       "246              Close Call               NaN               NaN   \n",
       "247              Close Call               NaN               NaN   \n",
       "\n",
       "                                                 notes  ...  \\\n",
       "243                                                NaN  ...   \n",
       "244  4.2 just jumping around on the right side of port  ...   \n",
       "245  4.2 just jumping around on the right side of port  ...   \n",
       "246                                                NaN  ...   \n",
       "247                                                NaN  ...   \n",
       "\n",
       "                                 vHPC_lfp_RMS_filtered  \\\n",
       "243  [0.285, 0.161, -0.38, -0.921, -0.873, -0.731, ...   \n",
       "244  [0.083, 0.316, 0.588, 0.714, 0.662, 0.246, -0....   \n",
       "245  [0.285, 0.161, -0.38, -0.921, -0.873, -0.731, ...   \n",
       "246  [0.083, 0.316, 0.588, 0.714, 0.662, 0.246, -0....   \n",
       "247  [0.285, 0.161, -0.38, -0.921, -0.873, -0.731, ...   \n",
       "\n",
       "                                         vHPC_lfp_mask  \\\n",
       "243  [False, False, False, False, False, False, Fal...   \n",
       "244  [False, False, False, False, False, False, Fal...   \n",
       "245  [False, False, False, False, False, False, Fal...   \n",
       "246  [False, False, False, False, False, False, Fal...   \n",
       "247  [False, False, False, False, False, False, Fal...   \n",
       "\n",
       "                              vHPC_lfp_modified_zscore  \\\n",
       "243  [0.3113077, 0.1764077, -0.41507694, -1.0065615...   \n",
       "244  [0.0997087, 0.32845217, 0.59629714, 0.7194666,...   \n",
       "245  [0.3113077, 0.1764077, -0.41507694, -1.0065615...   \n",
       "246  [0.0997087, 0.32845217, 0.59629714, 0.7194666,...   \n",
       "247  [0.3113077, 0.1764077, -0.41507694, -1.0065615...   \n",
       "\n",
       "                                        vHPC_lfp_trace  \\\n",
       "243  [5.85, 3.3149998, -7.7999997, -18.914999, -17....   \n",
       "244  [8.19, 31.005, 57.719997, 70.005, 64.935, 24.1...   \n",
       "245  [5.85, 3.3149998, -7.7999997, -18.914999, -17....   \n",
       "246  [8.19, 31.005, 57.719997, 70.005, 64.935, 24.1...   \n",
       "247  [5.85, 3.3149998, -7.7999997, -18.914999, -17....   \n",
       "\n",
       "                               vHPC_lfp_trace_filtered  \\\n",
       "243  [5.85, 3.3149998, -7.7999997, -18.914999, -17....   \n",
       "244  [8.19, 31.005, 57.719997, 70.005, 64.935, 24.1...   \n",
       "245  [5.85, 3.3149998, -7.7999997, -18.914999, -17....   \n",
       "246  [8.19, 31.005, 57.719997, 70.005, 64.935, 24.1...   \n",
       "247  [5.85, 3.3149998, -7.7999997, -18.914999, -17....   \n",
       "\n",
       "         vHPC_mPFC_granger_all_frequencies_all_windows  \\\n",
       "243  [[0.22426029, 0.031661306, 0.23187897, 0.50685...   \n",
       "244  [[3.099082, 0.46414718, 0.33549076, 0.6002563,...   \n",
       "245  [[0.22426029, 0.031661306, 0.23187897, 0.50685...   \n",
       "246  [[3.099082, 0.46414718, 0.33549076, 0.6002563,...   \n",
       "247  [[0.22426029, 0.031661306, 0.23187897, 0.50685...   \n",
       "\n",
       "                                       vHPC_theta_band  \\\n",
       "243  [-0.17116006, -0.19133626, -0.21119694, -0.230...   \n",
       "244  [-0.2993394, -0.27316827, -0.24553603, -0.2164...   \n",
       "245  [-0.17116006, -0.19133626, -0.21119694, -0.230...   \n",
       "246  [-0.2993394, -0.27316827, -0.24553603, -0.2164...   \n",
       "247  [-0.17116006, -0.19133626, -0.21119694, -0.230...   \n",
       "\n",
       "                                      vHPC_theta_phase  \\\n",
       "243  [1.9537605, 2.088994, 2.1246827, 2.2100766, 2....   \n",
       "244  [3.108997, -2.4551952, -2.344967, -2.1353333, ...   \n",
       "245  [1.9537605, 2.088994, 2.1246827, 2.2100766, 2....   \n",
       "246  [3.108997, -2.4551952, -2.344967, -2.1353333, ...   \n",
       "247  [1.9537605, 2.088994, 2.1246827, 2.2100766, 2....   \n",
       "\n",
       "                                      video_timestamps  \\\n",
       "243  [1384, 2515, 2770, 4156, 5542, 5542, 6927, 831...   \n",
       "244  [1384, 2515, 2770, 4156, 5542, 5542, 6927, 831...   \n",
       "245  [1384, 2515, 2770, 4156, 5542, 5542, 6927, 831...   \n",
       "246  [1384, 2515, 2770, 4156, 5542, 5542, 6927, 831...   \n",
       "247  [1384, 2515, 2770, 4156, 5542, 5542, 6927, 831...   \n",
       "\n",
       "                                     cluster_timestamp  \n",
       "243  [36182281, 36183667, 36183667, 36185052, 36186...  \n",
       "244  [36182281, 36183667, 36183667, 36185052, 36186...  \n",
       "245  [36182281, 36183667, 36183667, 36185052, 36186...  \n",
       "246  [36182281, 36183667, 36183667, 36185052, 36186...  \n",
       "247  [36182281, 36183667, 36183667, 36185052, 36186...  \n",
       "\n",
       "[5 rows x 246 columns]"
      ]
     },
     "execution_count": 35,
     "metadata": {},
     "output_type": "execute_result"
    }
   ],
   "source": [
    "TRIALS_AND_SPECTRAL_DF.tail()"
   ]
  },
  {
   "cell_type": "code",
   "execution_count": 36,
   "metadata": {
    "tags": []
   },
   "outputs": [],
   "source": [
    "TRIALS_AND_SPECTRAL_DF = TRIALS_AND_SPECTRAL_DF.drop(columns=[col for col in TRIALS_AND_SPECTRAL_DF.columns if \"_y\" in col], errors=\"ignore\")"
   ]
  },
  {
   "cell_type": "code",
   "execution_count": 37,
   "metadata": {
    "tags": []
   },
   "outputs": [],
   "source": [
    "timestamps_col = [\"first_timestamp\", \"last_timestamp\", \"tone_start_timestamp\", \"tone_stop_timestamp\"]"
   ]
  },
  {
   "cell_type": "code",
   "execution_count": 38,
   "metadata": {
    "tags": []
   },
   "outputs": [],
   "source": [
    "for col in timestamps_col:\n",
    "    TRIALS_AND_SPECTRAL_DF[col] = TRIALS_AND_SPECTRAL_DF[col].astype(int)"
   ]
  },
  {
   "cell_type": "markdown",
   "metadata": {},
   "source": [
    "# Calculating the relevant timestamps"
   ]
  },
  {
   "cell_type": "code",
   "execution_count": 39,
   "metadata": {
    "tags": []
   },
   "outputs": [],
   "source": [
    "TRIALS_AND_SPECTRAL_DF[\"baseline_start_timestamp\"] = TRIALS_AND_SPECTRAL_DF[\"tone_start_timestamp\"] - 10 * EPHYS_SAMPLE_RATE"
   ]
  },
  {
   "cell_type": "code",
   "execution_count": 40,
   "metadata": {
    "tags": []
   },
   "outputs": [],
   "source": [
    "TRIALS_AND_SPECTRAL_DF[\"post_trial_end_timestamp\"] = TRIALS_AND_SPECTRAL_DF[\"tone_stop_timestamp\"] + 10 * EPHYS_SAMPLE_RATE"
   ]
  },
  {
   "cell_type": "code",
   "execution_count": 41,
   "metadata": {
    "tags": []
   },
   "outputs": [
    {
     "data": {
      "text/plain": [
       "0    34080576\n",
       "1    34080576\n",
       "2    35080586\n",
       "3    35080586\n",
       "4    36180600\n",
       "Name: baseline_start_timestamp, dtype: int64"
      ]
     },
     "execution_count": 41,
     "metadata": {},
     "output_type": "execute_result"
    }
   ],
   "source": [
    "TRIALS_AND_SPECTRAL_DF[\"baseline_start_timestamp\"].head()"
   ]
  },
  {
   "cell_type": "code",
   "execution_count": 42,
   "metadata": {
    "tags": []
   },
   "outputs": [
    {
     "data": {
      "text/plain": [
       "0    34280576\n",
       "1    34280576\n",
       "2    35280586\n",
       "3    35280586\n",
       "4    36380600\n",
       "Name: tone_start_timestamp, dtype: int64"
      ]
     },
     "execution_count": 42,
     "metadata": {},
     "output_type": "execute_result"
    }
   ],
   "source": [
    "TRIALS_AND_SPECTRAL_DF[\"tone_start_timestamp\"].head()"
   ]
  },
  {
   "cell_type": "code",
   "execution_count": 43,
   "metadata": {
    "tags": []
   },
   "outputs": [
    {
     "data": {
      "text/plain": [
       "0    34480576\n",
       "1    34480576\n",
       "2    35480585\n",
       "3    35480585\n",
       "4    36580602\n",
       "Name: tone_stop_timestamp, dtype: int64"
      ]
     },
     "execution_count": 43,
     "metadata": {},
     "output_type": "execute_result"
    }
   ],
   "source": [
    "TRIALS_AND_SPECTRAL_DF[\"tone_stop_timestamp\"].head()"
   ]
  },
  {
   "cell_type": "code",
   "execution_count": 44,
   "metadata": {
    "tags": []
   },
   "outputs": [
    {
     "data": {
      "text/html": [
       "<div>\n",
       "<style scoped>\n",
       "    .dataframe tbody tr th:only-of-type {\n",
       "        vertical-align: middle;\n",
       "    }\n",
       "\n",
       "    .dataframe tbody tr th {\n",
       "        vertical-align: top;\n",
       "    }\n",
       "\n",
       "    .dataframe thead th {\n",
       "        text-align: right;\n",
       "    }\n",
       "</style>\n",
       "<table border=\"1\" class=\"dataframe\">\n",
       "  <thead>\n",
       "    <tr style=\"text-align: right;\">\n",
       "      <th></th>\n",
       "      <th>session_dir</th>\n",
       "      <th>tone_start_frame</th>\n",
       "      <th>reward_start</th>\n",
       "      <th>reward_dispensed</th>\n",
       "      <th>tone_stop_frame</th>\n",
       "      <th>condition</th>\n",
       "      <th>competition_closeness</th>\n",
       "      <th>get_reward_frame</th>\n",
       "      <th>out_reward_frame</th>\n",
       "      <th>notes</th>\n",
       "      <th>...</th>\n",
       "      <th>vHPC_lfp_modified_zscore</th>\n",
       "      <th>vHPC_lfp_trace</th>\n",
       "      <th>vHPC_lfp_trace_filtered</th>\n",
       "      <th>vHPC_mPFC_granger_all_frequencies_all_windows</th>\n",
       "      <th>vHPC_theta_band</th>\n",
       "      <th>vHPC_theta_phase</th>\n",
       "      <th>video_timestamps</th>\n",
       "      <th>cluster_timestamp</th>\n",
       "      <th>baseline_start_timestamp</th>\n",
       "      <th>post_trial_end_timestamp</th>\n",
       "    </tr>\n",
       "  </thead>\n",
       "  <tbody>\n",
       "    <tr>\n",
       "      <th>0</th>\n",
       "      <td>20240320_171038_alone_comp_subj_4-2_and_4-3</td>\n",
       "      <td>34242.0</td>\n",
       "      <td>34322</td>\n",
       "      <td>34342.0</td>\n",
       "      <td>34442.0</td>\n",
       "      <td>4.3</td>\n",
       "      <td>After trial</td>\n",
       "      <td>NaN</td>\n",
       "      <td>NaN</td>\n",
       "      <td>NaN</td>\n",
       "      <td>...</td>\n",
       "      <td>[-0.066892564, -0.65406066, -0.93649584, -0.93...</td>\n",
       "      <td>[-8.384999, -70.005, -99.645, -99.45, -157.56,...</td>\n",
       "      <td>[-8.384999, -70.005, -99.645, -99.45, -157.56,...</td>\n",
       "      <td>[[nan, nan, nan, nan, nan, nan, nan, nan, nan,...</td>\n",
       "      <td>[0.6103468, 0.5730442, 0.5342873, 0.4941693, 0...</td>\n",
       "      <td>[-0.41403934, 0.30454272, 0.38569367, 0.659321...</td>\n",
       "      <td>[1384, 2770, 4156, 4156, 5541, 6927, 6927, 831...</td>\n",
       "      <td>[34079916, 34081302, 34082688, 34084074, 34084...</td>\n",
       "      <td>34080576</td>\n",
       "      <td>34680576</td>\n",
       "    </tr>\n",
       "    <tr>\n",
       "      <th>1</th>\n",
       "      <td>20240320_171038_alone_comp_subj_4-2_and_4-3</td>\n",
       "      <td>34242.0</td>\n",
       "      <td>34322</td>\n",
       "      <td>34342.0</td>\n",
       "      <td>34442.0</td>\n",
       "      <td>4.3</td>\n",
       "      <td>After trial</td>\n",
       "      <td>NaN</td>\n",
       "      <td>NaN</td>\n",
       "      <td>NaN</td>\n",
       "      <td>...</td>\n",
       "      <td>[-0.0018840783, -0.03202933, -0.4936285, -0.80...</td>\n",
       "      <td>[-0.78, -3.8999999, -51.675, -83.85, -19.89, 6...</td>\n",
       "      <td>[-0.78, -3.8999999, -51.675, -83.85, -19.89, 6...</td>\n",
       "      <td>[[0.10801135, 0.9345647, 0.71951747, 0.1227541...</td>\n",
       "      <td>[-0.19497989, -0.21380065, -0.23236576, -0.250...</td>\n",
       "      <td>[2.0032697, 2.1665337, 2.1993783, 2.2978027, 2...</td>\n",
       "      <td>[1384, 2770, 4156, 4156, 5541, 6927, 6927, 831...</td>\n",
       "      <td>[34079916, 34081302, 34082688, 34084074, 34084...</td>\n",
       "      <td>34080576</td>\n",
       "      <td>34680576</td>\n",
       "    </tr>\n",
       "    <tr>\n",
       "      <th>2</th>\n",
       "      <td>20240320_171038_alone_comp_subj_4-2_and_4-3</td>\n",
       "      <td>35241.0</td>\n",
       "      <td>35321</td>\n",
       "      <td>35341.0</td>\n",
       "      <td>35439.0</td>\n",
       "      <td>4.3</td>\n",
       "      <td>Subj 2 Only</td>\n",
       "      <td>NaN</td>\n",
       "      <td>NaN</td>\n",
       "      <td>NaN</td>\n",
       "      <td>...</td>\n",
       "      <td>[-0.066892564, -0.65406066, -0.93649584, -0.93...</td>\n",
       "      <td>[-8.384999, -70.005, -99.645, -99.45, -157.56,...</td>\n",
       "      <td>[-8.384999, -70.005, -99.645, -99.45, -157.56,...</td>\n",
       "      <td>[[nan, nan, nan, nan, nan, nan, nan, nan, nan,...</td>\n",
       "      <td>[0.6103468, 0.5730442, 0.5342873, 0.4941693, 0...</td>\n",
       "      <td>[-0.41403934, 0.30454272, 0.38569367, 0.659321...</td>\n",
       "      <td>[1384, 2770, 4156, 4156, 5541, 6927, 6927, 831...</td>\n",
       "      <td>[34079916, 34081302, 34082688, 34084074, 34084...</td>\n",
       "      <td>35080586</td>\n",
       "      <td>35680585</td>\n",
       "    </tr>\n",
       "    <tr>\n",
       "      <th>3</th>\n",
       "      <td>20240320_171038_alone_comp_subj_4-2_and_4-3</td>\n",
       "      <td>35241.0</td>\n",
       "      <td>35321</td>\n",
       "      <td>35341.0</td>\n",
       "      <td>35439.0</td>\n",
       "      <td>4.3</td>\n",
       "      <td>Subj 2 Only</td>\n",
       "      <td>NaN</td>\n",
       "      <td>NaN</td>\n",
       "      <td>NaN</td>\n",
       "      <td>...</td>\n",
       "      <td>[-0.0018840783, -0.03202933, -0.4936285, -0.80...</td>\n",
       "      <td>[-0.78, -3.8999999, -51.675, -83.85, -19.89, 6...</td>\n",
       "      <td>[-0.78, -3.8999999, -51.675, -83.85, -19.89, 6...</td>\n",
       "      <td>[[0.10801135, 0.9345647, 0.71951747, 0.1227541...</td>\n",
       "      <td>[-0.19497989, -0.21380065, -0.23236576, -0.250...</td>\n",
       "      <td>[2.0032697, 2.1665337, 2.1993783, 2.2978027, 2...</td>\n",
       "      <td>[1384, 2770, 4156, 4156, 5541, 6927, 6927, 831...</td>\n",
       "      <td>[34079916, 34081302, 34082688, 34084074, 34084...</td>\n",
       "      <td>35080586</td>\n",
       "      <td>35680585</td>\n",
       "    </tr>\n",
       "    <tr>\n",
       "      <th>4</th>\n",
       "      <td>20240320_171038_alone_comp_subj_4-2_and_4-3</td>\n",
       "      <td>36339.0</td>\n",
       "      <td>36419</td>\n",
       "      <td>36439.0</td>\n",
       "      <td>36538.0</td>\n",
       "      <td>4.3</td>\n",
       "      <td>Subj 2 blocking Subj 1</td>\n",
       "      <td>NaN</td>\n",
       "      <td>NaN</td>\n",
       "      <td>NaN</td>\n",
       "      <td>...</td>\n",
       "      <td>[-0.066892564, -0.65406066, -0.93649584, -0.93...</td>\n",
       "      <td>[-8.384999, -70.005, -99.645, -99.45, -157.56,...</td>\n",
       "      <td>[-8.384999, -70.005, -99.645, -99.45, -157.56,...</td>\n",
       "      <td>[[nan, nan, nan, nan, nan, nan, nan, nan, nan,...</td>\n",
       "      <td>[0.6103468, 0.5730442, 0.5342873, 0.4941693, 0...</td>\n",
       "      <td>[-0.41403934, 0.30454272, 0.38569367, 0.659321...</td>\n",
       "      <td>[1384, 2770, 4156, 4156, 5541, 6927, 6927, 831...</td>\n",
       "      <td>[34079916, 34081302, 34082688, 34084074, 34084...</td>\n",
       "      <td>36180600</td>\n",
       "      <td>36780602</td>\n",
       "    </tr>\n",
       "  </tbody>\n",
       "</table>\n",
       "<p>5 rows × 233 columns</p>\n",
       "</div>"
      ],
      "text/plain": [
       "                                   session_dir  tone_start_frame  \\\n",
       "0  20240320_171038_alone_comp_subj_4-2_and_4-3           34242.0   \n",
       "1  20240320_171038_alone_comp_subj_4-2_and_4-3           34242.0   \n",
       "2  20240320_171038_alone_comp_subj_4-2_and_4-3           35241.0   \n",
       "3  20240320_171038_alone_comp_subj_4-2_and_4-3           35241.0   \n",
       "4  20240320_171038_alone_comp_subj_4-2_and_4-3           36339.0   \n",
       "\n",
       "   reward_start  reward_dispensed  tone_stop_frame condition   \\\n",
       "0         34322           34342.0          34442.0        4.3   \n",
       "1         34322           34342.0          34442.0        4.3   \n",
       "2         35321           35341.0          35439.0        4.3   \n",
       "3         35321           35341.0          35439.0        4.3   \n",
       "4         36419           36439.0          36538.0        4.3   \n",
       "\n",
       "    competition_closeness  get_reward_frame  out_reward_frame notes  ...  \\\n",
       "0             After trial               NaN               NaN   NaN  ...   \n",
       "1             After trial               NaN               NaN   NaN  ...   \n",
       "2             Subj 2 Only               NaN               NaN   NaN  ...   \n",
       "3             Subj 2 Only               NaN               NaN   NaN  ...   \n",
       "4  Subj 2 blocking Subj 1               NaN               NaN   NaN  ...   \n",
       "\n",
       "                            vHPC_lfp_modified_zscore  \\\n",
       "0  [-0.066892564, -0.65406066, -0.93649584, -0.93...   \n",
       "1  [-0.0018840783, -0.03202933, -0.4936285, -0.80...   \n",
       "2  [-0.066892564, -0.65406066, -0.93649584, -0.93...   \n",
       "3  [-0.0018840783, -0.03202933, -0.4936285, -0.80...   \n",
       "4  [-0.066892564, -0.65406066, -0.93649584, -0.93...   \n",
       "\n",
       "                                      vHPC_lfp_trace  \\\n",
       "0  [-8.384999, -70.005, -99.645, -99.45, -157.56,...   \n",
       "1  [-0.78, -3.8999999, -51.675, -83.85, -19.89, 6...   \n",
       "2  [-8.384999, -70.005, -99.645, -99.45, -157.56,...   \n",
       "3  [-0.78, -3.8999999, -51.675, -83.85, -19.89, 6...   \n",
       "4  [-8.384999, -70.005, -99.645, -99.45, -157.56,...   \n",
       "\n",
       "                             vHPC_lfp_trace_filtered  \\\n",
       "0  [-8.384999, -70.005, -99.645, -99.45, -157.56,...   \n",
       "1  [-0.78, -3.8999999, -51.675, -83.85, -19.89, 6...   \n",
       "2  [-8.384999, -70.005, -99.645, -99.45, -157.56,...   \n",
       "3  [-0.78, -3.8999999, -51.675, -83.85, -19.89, 6...   \n",
       "4  [-8.384999, -70.005, -99.645, -99.45, -157.56,...   \n",
       "\n",
       "       vHPC_mPFC_granger_all_frequencies_all_windows  \\\n",
       "0  [[nan, nan, nan, nan, nan, nan, nan, nan, nan,...   \n",
       "1  [[0.10801135, 0.9345647, 0.71951747, 0.1227541...   \n",
       "2  [[nan, nan, nan, nan, nan, nan, nan, nan, nan,...   \n",
       "3  [[0.10801135, 0.9345647, 0.71951747, 0.1227541...   \n",
       "4  [[nan, nan, nan, nan, nan, nan, nan, nan, nan,...   \n",
       "\n",
       "                                     vHPC_theta_band  \\\n",
       "0  [0.6103468, 0.5730442, 0.5342873, 0.4941693, 0...   \n",
       "1  [-0.19497989, -0.21380065, -0.23236576, -0.250...   \n",
       "2  [0.6103468, 0.5730442, 0.5342873, 0.4941693, 0...   \n",
       "3  [-0.19497989, -0.21380065, -0.23236576, -0.250...   \n",
       "4  [0.6103468, 0.5730442, 0.5342873, 0.4941693, 0...   \n",
       "\n",
       "                                    vHPC_theta_phase  \\\n",
       "0  [-0.41403934, 0.30454272, 0.38569367, 0.659321...   \n",
       "1  [2.0032697, 2.1665337, 2.1993783, 2.2978027, 2...   \n",
       "2  [-0.41403934, 0.30454272, 0.38569367, 0.659321...   \n",
       "3  [2.0032697, 2.1665337, 2.1993783, 2.2978027, 2...   \n",
       "4  [-0.41403934, 0.30454272, 0.38569367, 0.659321...   \n",
       "\n",
       "                                    video_timestamps  \\\n",
       "0  [1384, 2770, 4156, 4156, 5541, 6927, 6927, 831...   \n",
       "1  [1384, 2770, 4156, 4156, 5541, 6927, 6927, 831...   \n",
       "2  [1384, 2770, 4156, 4156, 5541, 6927, 6927, 831...   \n",
       "3  [1384, 2770, 4156, 4156, 5541, 6927, 6927, 831...   \n",
       "4  [1384, 2770, 4156, 4156, 5541, 6927, 6927, 831...   \n",
       "\n",
       "                                   cluster_timestamp  \\\n",
       "0  [34079916, 34081302, 34082688, 34084074, 34084...   \n",
       "1  [34079916, 34081302, 34082688, 34084074, 34084...   \n",
       "2  [34079916, 34081302, 34082688, 34084074, 34084...   \n",
       "3  [34079916, 34081302, 34082688, 34084074, 34084...   \n",
       "4  [34079916, 34081302, 34082688, 34084074, 34084...   \n",
       "\n",
       "   baseline_start_timestamp post_trial_end_timestamp  \n",
       "0                  34080576                 34680576  \n",
       "1                  34080576                 34680576  \n",
       "2                  35080586                 35680585  \n",
       "3                  35080586                 35680585  \n",
       "4                  36180600                 36780602  \n",
       "\n",
       "[5 rows x 233 columns]"
      ]
     },
     "execution_count": 44,
     "metadata": {},
     "output_type": "execute_result"
    }
   ],
   "source": [
    "TRIALS_AND_SPECTRAL_DF.head()"
   ]
  },
  {
   "cell_type": "markdown",
   "metadata": {},
   "source": [
    "# Filtering out the SLEAP posed for during trials"
   ]
  },
  {
   "cell_type": "code",
   "execution_count": 45,
   "metadata": {
    "tags": []
   },
   "outputs": [
    {
     "data": {
      "text/plain": [
       "['session_dir',\n",
       " 'tone_start_frame',\n",
       " 'reward_start',\n",
       " 'reward_dispensed',\n",
       " 'tone_stop_frame',\n",
       " 'condition ',\n",
       " 'competition_closeness',\n",
       " 'get_reward_frame',\n",
       " 'out_reward_frame',\n",
       " 'notes',\n",
       " 'experiment',\n",
       " 'box_1_port_entry_frames',\n",
       " 'box_2_port_entry_frames',\n",
       " 'video_name',\n",
       " 'all_subjects',\n",
       " 'first_timestamp',\n",
       " 'last_timestamp',\n",
       " 'tone_start_timestamp',\n",
       " 'tone_stop_timestamp',\n",
       " 'box_1_port_entry_timestamps',\n",
       " 'box_2_port_entry_timestamps',\n",
       " 'current_subject',\n",
       " 'frame_index',\n",
       " '10s_before_tone_frame',\n",
       " '10s_after_tone_frame',\n",
       " 'subject_thorax_to_agent_thorax',\n",
       " 'nose_to_reward_port_sum',\n",
       " 'nose_to_reward_port_diff',\n",
       " 'thorax_velocity_sum',\n",
       " 'thorax_velocity_diff',\n",
       " 'to_reward_port_angle_sum',\n",
       " 'to_reward_port_angle_diff',\n",
       " 'subject_nose_to_reward_port',\n",
       " 'subject_thorax_velocity',\n",
       " 'subject_to_reward_port_angle',\n",
       " 'agent_nose_to_reward_port',\n",
       " 'agent_thorax_velocity',\n",
       " 'agent_to_reward_port_angle',\n",
       " 'closebool_subject_nose_to_reward_port',\n",
       " 'closebool_agent_nose_to_reward_port',\n",
       " 'movingbool_subject_thorax_velocity',\n",
       " 'movingbool_agent_thorax_velocity',\n",
       " 'manual_cluster_id',\n",
       " 'standard_embedding_x',\n",
       " 'kmeans_cluster',\n",
       " 'subject_locations',\n",
       " 'agent_locations',\n",
       " 'subject_thorax',\n",
       " 'subject_nose',\n",
       " 'subject_tail_base',\n",
       " 'agent_thorax',\n",
       " 'agent_nose',\n",
       " 'agent_tail_base',\n",
       " 'sleap_name',\n",
       " 'video_id',\n",
       " 'agent',\n",
       " 'BLA-to-LH_granger_gamma',\n",
       " 'BLA-to-LH_granger_theta',\n",
       " 'BLA-to-MD_granger_gamma',\n",
       " 'BLA-to-MD_granger_theta',\n",
       " 'BLA-to-mPFC_granger_gamma',\n",
       " 'BLA-to-mPFC_granger_theta',\n",
       " 'BLA-to-vHPC_granger_gamma',\n",
       " 'BLA-to-vHPC_granger_theta',\n",
       " 'BLA_LH_coherence_all_frequencies_all_windows',\n",
       " 'BLA_LH_coherence_gamma',\n",
       " 'BLA_LH_coherence_theta',\n",
       " 'BLA_LH_granger_all_frequencies_all_windows',\n",
       " 'BLA_MD_coherence_all_frequencies_all_windows',\n",
       " 'BLA_MD_coherence_gamma',\n",
       " 'BLA_MD_coherence_theta',\n",
       " 'BLA_MD_granger_all_frequencies_all_windows',\n",
       " 'BLA_RMS_filtered_power_all_frequencies_all_windows',\n",
       " 'BLA_RMS_filtered_power_gamma',\n",
       " 'BLA_RMS_filtered_power_theta',\n",
       " 'BLA_gamma_band',\n",
       " 'BLA_gamma_phase',\n",
       " 'BLA_lfp_MAD',\n",
       " 'BLA_lfp_RMS',\n",
       " 'BLA_lfp_RMS_filtered',\n",
       " 'BLA_lfp_mask',\n",
       " 'BLA_lfp_modified_zscore',\n",
       " 'BLA_lfp_trace',\n",
       " 'BLA_lfp_trace_filtered',\n",
       " 'BLA_mPFC_coherence_all_frequencies_all_windows',\n",
       " 'BLA_mPFC_coherence_gamma',\n",
       " 'BLA_mPFC_coherence_theta',\n",
       " 'BLA_mPFC_granger_all_frequencies_all_windows',\n",
       " 'BLA_theta_band',\n",
       " 'BLA_theta_phase',\n",
       " 'BLA_vHPC_coherence_all_frequencies_all_windows',\n",
       " 'BLA_vHPC_coherence_gamma',\n",
       " 'BLA_vHPC_coherence_theta',\n",
       " 'BLA_vHPC_granger_all_frequencies_all_windows',\n",
       " 'LH-to-BLA_granger_gamma',\n",
       " 'LH-to-BLA_granger_theta',\n",
       " 'LH-to-MD_granger_gamma',\n",
       " 'LH-to-MD_granger_theta',\n",
       " 'LH-to-mPFC_granger_gamma',\n",
       " 'LH-to-mPFC_granger_theta',\n",
       " 'LH-to-vHPC_granger_gamma',\n",
       " 'LH-to-vHPC_granger_theta',\n",
       " 'LH_BLA_granger_all_frequencies_all_windows',\n",
       " 'LH_MD_coherence_all_frequencies_all_windows',\n",
       " 'LH_MD_coherence_gamma',\n",
       " 'LH_MD_coherence_theta',\n",
       " 'LH_MD_granger_all_frequencies_all_windows',\n",
       " 'LH_RMS_filtered_power_all_frequencies_all_windows',\n",
       " 'LH_RMS_filtered_power_gamma',\n",
       " 'LH_RMS_filtered_power_theta',\n",
       " 'LH_gamma_band',\n",
       " 'LH_gamma_phase',\n",
       " 'LH_lfp_MAD',\n",
       " 'LH_lfp_RMS',\n",
       " 'LH_lfp_RMS_filtered',\n",
       " 'LH_lfp_mask',\n",
       " 'LH_lfp_modified_zscore',\n",
       " 'LH_lfp_trace',\n",
       " 'LH_lfp_trace_filtered',\n",
       " 'LH_mPFC_coherence_all_frequencies_all_windows',\n",
       " 'LH_mPFC_coherence_gamma',\n",
       " 'LH_mPFC_coherence_theta',\n",
       " 'LH_mPFC_granger_all_frequencies_all_windows',\n",
       " 'LH_theta_band',\n",
       " 'LH_theta_phase',\n",
       " 'LH_vHPC_coherence_all_frequencies_all_windows',\n",
       " 'LH_vHPC_coherence_gamma',\n",
       " 'LH_vHPC_coherence_theta',\n",
       " 'LH_vHPC_granger_all_frequencies_all_windows',\n",
       " 'MD-to-BLA_granger_gamma',\n",
       " 'MD-to-BLA_granger_theta',\n",
       " 'MD-to-LH_granger_gamma',\n",
       " 'MD-to-LH_granger_theta',\n",
       " 'MD-to-mPFC_granger_gamma',\n",
       " 'MD-to-mPFC_granger_theta',\n",
       " 'MD-to-vHPC_granger_gamma',\n",
       " 'MD-to-vHPC_granger_theta',\n",
       " 'MD_BLA_granger_all_frequencies_all_windows',\n",
       " 'MD_LH_granger_all_frequencies_all_windows',\n",
       " 'MD_RMS_filtered_power_all_frequencies_all_windows',\n",
       " 'MD_RMS_filtered_power_gamma',\n",
       " 'MD_RMS_filtered_power_theta',\n",
       " 'MD_gamma_band',\n",
       " 'MD_gamma_phase',\n",
       " 'MD_lfp_MAD',\n",
       " 'MD_lfp_RMS',\n",
       " 'MD_lfp_RMS_filtered',\n",
       " 'MD_lfp_mask',\n",
       " 'MD_lfp_modified_zscore',\n",
       " 'MD_lfp_trace',\n",
       " 'MD_lfp_trace_filtered',\n",
       " 'MD_mPFC_coherence_all_frequencies_all_windows',\n",
       " 'MD_mPFC_coherence_gamma',\n",
       " 'MD_mPFC_coherence_theta',\n",
       " 'MD_mPFC_granger_all_frequencies_all_windows',\n",
       " 'MD_theta_band',\n",
       " 'MD_theta_phase',\n",
       " 'MD_vHPC_coherence_all_frequencies_all_windows',\n",
       " 'MD_vHPC_coherence_gamma',\n",
       " 'MD_vHPC_coherence_theta',\n",
       " 'MD_vHPC_granger_all_frequencies_all_windows',\n",
       " 'coherence_calculation_frequencies',\n",
       " 'coherence_timestamps',\n",
       " 'cohort',\n",
       " 'granger_calculation_frequencies',\n",
       " 'granger_timestamps',\n",
       " 'lfp_timestamps',\n",
       " 'mPFC-to-BLA_granger_gamma',\n",
       " 'mPFC-to-BLA_granger_theta',\n",
       " 'mPFC-to-LH_granger_gamma',\n",
       " 'mPFC-to-LH_granger_theta',\n",
       " 'mPFC-to-MD_granger_gamma',\n",
       " 'mPFC-to-MD_granger_theta',\n",
       " 'mPFC-to-vHPC_granger_gamma',\n",
       " 'mPFC-to-vHPC_granger_theta',\n",
       " 'mPFC_BLA_granger_all_frequencies_all_windows',\n",
       " 'mPFC_LH_granger_all_frequencies_all_windows',\n",
       " 'mPFC_MD_granger_all_frequencies_all_windows',\n",
       " 'mPFC_RMS_filtered_power_all_frequencies_all_windows',\n",
       " 'mPFC_RMS_filtered_power_gamma',\n",
       " 'mPFC_RMS_filtered_power_theta',\n",
       " 'mPFC_gamma_band',\n",
       " 'mPFC_gamma_phase',\n",
       " 'mPFC_lfp_MAD',\n",
       " 'mPFC_lfp_RMS',\n",
       " 'mPFC_lfp_RMS_filtered',\n",
       " 'mPFC_lfp_mask',\n",
       " 'mPFC_lfp_modified_zscore',\n",
       " 'mPFC_lfp_trace',\n",
       " 'mPFC_lfp_trace_filtered',\n",
       " 'mPFC_theta_band',\n",
       " 'mPFC_theta_phase',\n",
       " 'mPFC_vHPC_coherence_all_frequencies_all_windows',\n",
       " 'mPFC_vHPC_coherence_gamma',\n",
       " 'mPFC_vHPC_coherence_theta',\n",
       " 'mPFC_vHPC_granger_all_frequencies_all_windows',\n",
       " 'power_calculation_frequencies',\n",
       " 'power_timestamps',\n",
       " 'recording',\n",
       " 'session_path',\n",
       " 'subject',\n",
       " 'tone_frames',\n",
       " 'tone_timestamps',\n",
       " 'vHPC-to-BLA_granger_gamma',\n",
       " 'vHPC-to-BLA_granger_theta',\n",
       " 'vHPC-to-LH_granger_gamma',\n",
       " 'vHPC-to-LH_granger_theta',\n",
       " 'vHPC-to-MD_granger_gamma',\n",
       " 'vHPC-to-MD_granger_theta',\n",
       " 'vHPC-to-mPFC_granger_gamma',\n",
       " 'vHPC-to-mPFC_granger_theta',\n",
       " 'vHPC_BLA_granger_all_frequencies_all_windows',\n",
       " 'vHPC_LH_granger_all_frequencies_all_windows',\n",
       " 'vHPC_MD_granger_all_frequencies_all_windows',\n",
       " 'vHPC_RMS_filtered_power_all_frequencies_all_windows',\n",
       " 'vHPC_RMS_filtered_power_gamma',\n",
       " 'vHPC_RMS_filtered_power_theta',\n",
       " 'vHPC_gamma_band',\n",
       " 'vHPC_gamma_phase',\n",
       " 'vHPC_lfp_MAD',\n",
       " 'vHPC_lfp_RMS',\n",
       " 'vHPC_lfp_RMS_filtered',\n",
       " 'vHPC_lfp_mask',\n",
       " 'vHPC_lfp_modified_zscore',\n",
       " 'vHPC_lfp_trace',\n",
       " 'vHPC_lfp_trace_filtered',\n",
       " 'vHPC_mPFC_granger_all_frequencies_all_windows',\n",
       " 'vHPC_theta_band',\n",
       " 'vHPC_theta_phase',\n",
       " 'video_timestamps',\n",
       " 'cluster_timestamp',\n",
       " 'baseline_start_timestamp',\n",
       " 'post_trial_end_timestamp']"
      ]
     },
     "execution_count": 45,
     "metadata": {},
     "output_type": "execute_result"
    }
   ],
   "source": [
    "list(TRIALS_AND_SPECTRAL_DF.columns)"
   ]
  },
  {
   "cell_type": "code",
   "execution_count": 46,
   "metadata": {
    "tags": []
   },
   "outputs": [],
   "source": [
    "TRIALS_AND_SPECTRAL_DF[\"video_frame\"] = TRIALS_AND_SPECTRAL_DF[\"video_timestamps\"].apply(lambda x: np.array(list(range(len(x)))) + 1)"
   ]
  },
  {
   "cell_type": "code",
   "execution_count": 47,
   "metadata": {
    "tags": []
   },
   "outputs": [
    {
     "data": {
      "text/plain": [
       "0    (64255,)\n",
       "1    (64255,)\n",
       "2    (64255,)\n",
       "3    (64255,)\n",
       "4    (64255,)\n",
       "Name: video_frame, dtype: object"
      ]
     },
     "execution_count": 47,
     "metadata": {},
     "output_type": "execute_result"
    }
   ],
   "source": [
    "TRIALS_AND_SPECTRAL_DF[\"video_frame\"].head().apply(lambda x: x.shape)"
   ]
  },
  {
   "cell_type": "code",
   "execution_count": 49,
   "metadata": {},
   "outputs": [
    {
     "data": {
      "text/plain": [
       "['session_dir',\n",
       " 'tone_start_frame',\n",
       " 'reward_start',\n",
       " 'reward_dispensed',\n",
       " 'tone_stop_frame',\n",
       " 'condition ',\n",
       " 'competition_closeness',\n",
       " 'get_reward_frame',\n",
       " 'out_reward_frame',\n",
       " 'notes',\n",
       " 'experiment',\n",
       " 'box_1_port_entry_frames',\n",
       " 'box_2_port_entry_frames',\n",
       " 'video_name',\n",
       " 'all_subjects',\n",
       " 'first_timestamp',\n",
       " 'last_timestamp',\n",
       " 'tone_start_timestamp',\n",
       " 'tone_stop_timestamp',\n",
       " 'box_1_port_entry_timestamps',\n",
       " 'box_2_port_entry_timestamps',\n",
       " 'current_subject',\n",
       " 'frame_index',\n",
       " '10s_before_tone_frame',\n",
       " '10s_after_tone_frame',\n",
       " 'subject_thorax_to_agent_thorax',\n",
       " 'nose_to_reward_port_sum',\n",
       " 'nose_to_reward_port_diff',\n",
       " 'thorax_velocity_sum',\n",
       " 'thorax_velocity_diff',\n",
       " 'to_reward_port_angle_sum',\n",
       " 'to_reward_port_angle_diff',\n",
       " 'subject_nose_to_reward_port',\n",
       " 'subject_thorax_velocity',\n",
       " 'subject_to_reward_port_angle',\n",
       " 'agent_nose_to_reward_port',\n",
       " 'agent_thorax_velocity',\n",
       " 'agent_to_reward_port_angle',\n",
       " 'closebool_subject_nose_to_reward_port',\n",
       " 'closebool_agent_nose_to_reward_port',\n",
       " 'movingbool_subject_thorax_velocity',\n",
       " 'movingbool_agent_thorax_velocity',\n",
       " 'manual_cluster_id',\n",
       " 'standard_embedding_x',\n",
       " 'kmeans_cluster',\n",
       " 'subject_locations',\n",
       " 'agent_locations',\n",
       " 'subject_thorax',\n",
       " 'subject_nose',\n",
       " 'subject_tail_base',\n",
       " 'agent_thorax',\n",
       " 'agent_nose',\n",
       " 'agent_tail_base',\n",
       " 'sleap_name',\n",
       " 'video_id',\n",
       " 'agent']"
      ]
     },
     "execution_count": 49,
     "metadata": {},
     "output_type": "execute_result"
    }
   ],
   "source": [
    "['session_dir',\n",
    " 'tone_start_frame',\n",
    " 'reward_start',\n",
    " 'reward_dispensed',\n",
    " 'tone_stop_frame',\n",
    " 'condition ',\n",
    " 'competition_closeness',\n",
    " 'get_reward_frame',\n",
    " 'out_reward_frame',\n",
    " 'notes',\n",
    " 'experiment',\n",
    " 'box_1_port_entry_frames',\n",
    " 'box_2_port_entry_frames',\n",
    " 'video_name',\n",
    " 'all_subjects',\n",
    " 'first_timestamp',\n",
    " 'last_timestamp',\n",
    " 'tone_start_timestamp',\n",
    " 'tone_stop_timestamp',\n",
    " 'box_1_port_entry_timestamps',\n",
    " 'box_2_port_entry_timestamps',\n",
    " 'current_subject',\n",
    " 'frame_index',\n",
    " '10s_before_tone_frame',\n",
    " '10s_after_tone_frame',\n",
    " 'subject_thorax_to_agent_thorax',\n",
    " 'nose_to_reward_port_sum',\n",
    " 'nose_to_reward_port_diff',\n",
    " 'thorax_velocity_sum',\n",
    " 'thorax_velocity_diff',\n",
    " 'to_reward_port_angle_sum',\n",
    " 'to_reward_port_angle_diff',\n",
    " 'subject_nose_to_reward_port',\n",
    " 'subject_thorax_velocity',\n",
    " 'subject_to_reward_port_angle',\n",
    " 'agent_nose_to_reward_port',\n",
    " 'agent_thorax_velocity',\n",
    " 'agent_to_reward_port_angle',\n",
    " 'closebool_subject_nose_to_reward_port',\n",
    " 'closebool_agent_nose_to_reward_port',\n",
    " 'movingbool_subject_thorax_velocity',\n",
    " 'movingbool_agent_thorax_velocity',\n",
    " 'manual_cluster_id',\n",
    " 'standard_embedding_x',\n",
    " 'kmeans_cluster',\n",
    " 'subject_locations',\n",
    " 'agent_locations',\n",
    " 'subject_thorax',\n",
    " 'subject_nose',\n",
    " 'subject_tail_base',\n",
    " 'agent_thorax',\n",
    " 'agent_nose',\n",
    " 'agent_tail_base',\n",
    " 'sleap_name',\n",
    " 'video_id',\n",
    " 'agent']"
   ]
  },
  {
   "cell_type": "code",
   "execution_count": 50,
   "metadata": {
    "tags": []
   },
   "outputs": [],
   "source": [
    "# sleap_columns = [col for col in TRIALS_AND_SPECTRAL_DF.columns if \"locations\" in col or \"velocity\" in col or \"to_reward_port\" in col or \"video_frame\" in col]"
   ]
  },
  {
   "cell_type": "code",
   "execution_count": 51,
   "metadata": {
    "tags": []
   },
   "outputs": [],
   "source": [
    "sleap_columns = [col for col in TRIALS_AND_SPECTRAL_DF.columns if \"thorax\" in col or \"nose\" in col or \"reward_port\" in col or \"standard_embedding\" in col or \"cluster\" in col or \"frame_index\" in col]\n"
   ]
  },
  {
   "cell_type": "code",
   "execution_count": 52,
   "metadata": {
    "tags": []
   },
   "outputs": [
    {
     "data": {
      "text/plain": [
       "['frame_index',\n",
       " 'subject_thorax_to_agent_thorax',\n",
       " 'nose_to_reward_port_sum',\n",
       " 'nose_to_reward_port_diff',\n",
       " 'thorax_velocity_sum',\n",
       " 'thorax_velocity_diff',\n",
       " 'to_reward_port_angle_sum',\n",
       " 'to_reward_port_angle_diff',\n",
       " 'subject_nose_to_reward_port',\n",
       " 'subject_thorax_velocity',\n",
       " 'subject_to_reward_port_angle',\n",
       " 'agent_nose_to_reward_port',\n",
       " 'agent_thorax_velocity',\n",
       " 'agent_to_reward_port_angle',\n",
       " 'closebool_subject_nose_to_reward_port',\n",
       " 'closebool_agent_nose_to_reward_port',\n",
       " 'movingbool_subject_thorax_velocity',\n",
       " 'movingbool_agent_thorax_velocity',\n",
       " 'manual_cluster_id',\n",
       " 'standard_embedding_x',\n",
       " 'kmeans_cluster',\n",
       " 'subject_thorax',\n",
       " 'subject_nose',\n",
       " 'agent_thorax',\n",
       " 'agent_nose',\n",
       " 'cluster_timestamp']"
      ]
     },
     "execution_count": 52,
     "metadata": {},
     "output_type": "execute_result"
    }
   ],
   "source": [
    "sleap_columns"
   ]
  },
  {
   "cell_type": "code",
   "execution_count": 53,
   "metadata": {
    "tags": []
   },
   "outputs": [
    {
     "name": "stdout",
     "output_type": "stream",
     "text": [
      "frame_index\n",
      "(12593,)\n",
      "subject_thorax_to_agent_thorax\n",
      "(12593,)\n",
      "nose_to_reward_port_sum\n",
      "(12593,)\n",
      "nose_to_reward_port_diff\n",
      "(12593,)\n",
      "thorax_velocity_sum\n",
      "(12593,)\n",
      "thorax_velocity_diff\n",
      "(12593,)\n",
      "to_reward_port_angle_sum\n",
      "(12593,)\n",
      "to_reward_port_angle_diff\n",
      "(12593,)\n",
      "subject_nose_to_reward_port\n",
      "(12593,)\n",
      "subject_thorax_velocity\n",
      "(12593,)\n",
      "subject_to_reward_port_angle\n",
      "(12593,)\n",
      "agent_nose_to_reward_port\n",
      "(12593,)\n",
      "agent_thorax_velocity\n",
      "(12593,)\n",
      "agent_to_reward_port_angle\n",
      "(12593,)\n",
      "closebool_subject_nose_to_reward_port\n",
      "(12593,)\n",
      "closebool_agent_nose_to_reward_port\n",
      "(12593,)\n",
      "movingbool_subject_thorax_velocity\n",
      "(12593,)\n",
      "movingbool_agent_thorax_velocity\n",
      "(12593,)\n",
      "manual_cluster_id\n",
      "(12593,)\n",
      "standard_embedding_x\n",
      "(12593,)\n",
      "kmeans_cluster\n",
      "(12593,)\n",
      "subject_thorax\n",
      "(12593, 2)\n",
      "subject_nose\n",
      "(12593, 2)\n",
      "agent_thorax\n",
      "(12593, 2)\n",
      "agent_nose\n",
      "(12593, 2)\n",
      "cluster_timestamp\n",
      "(12593,)\n"
     ]
    }
   ],
   "source": [
    "for col in sleap_columns:\n",
    "    print(col)\n",
    "    print(TRIALS_AND_SPECTRAL_DF[col].apply(lambda x: x.shape).iloc[0])"
   ]
  },
  {
   "cell_type": "code",
   "execution_count": 54,
   "metadata": {
    "tags": []
   },
   "outputs": [
    {
     "name": "stdout",
     "output_type": "stream",
     "text": [
      "pre_and_post_agent_nose\n",
      "pre_and_post_agent_nose_to_reward_port\n",
      "pre_and_post_agent_thorax\n",
      "pre_and_post_agent_thorax_velocity\n",
      "pre_and_post_agent_to_reward_port_angle\n",
      "pre_and_post_closebool_agent_nose_to_reward_port\n",
      "pre_and_post_closebool_subject_nose_to_reward_port\n",
      "pre_and_post_cluster_timestamp\n",
      "pre_and_post_frame_index\n",
      "pre_and_post_kmeans_cluster\n",
      "pre_and_post_manual_cluster_id\n",
      "pre_and_post_movingbool_agent_thorax_velocity\n",
      "pre_and_post_movingbool_subject_thorax_velocity\n",
      "pre_and_post_nose_to_reward_port_diff\n",
      "pre_and_post_nose_to_reward_port_sum\n",
      "pre_and_post_standard_embedding_x\n",
      "pre_and_post_subject_nose\n",
      "pre_and_post_subject_nose_to_reward_port\n",
      "pre_and_post_subject_thorax\n",
      "pre_and_post_subject_thorax_to_agent_thorax\n",
      "pre_and_post_subject_thorax_velocity\n",
      "pre_and_post_subject_to_reward_port_angle\n",
      "pre_and_post_thorax_velocity_diff\n",
      "pre_and_post_thorax_velocity_sum\n",
      "pre_and_post_to_reward_port_angle_diff\n",
      "pre_and_post_to_reward_port_angle_sum\n"
     ]
    }
   ],
   "source": [
    "for col in sorted(sleap_columns):\n",
    "    updated_item_col = \"pre_and_post_{}\".format(col)\n",
    "    print(updated_item_col)\n",
    "    updated_timestamp_col = \"pre_and_post_video_timestamps\"\n",
    "    TRIALS_AND_SPECTRAL_DF[updated_item_col] = TRIALS_AND_SPECTRAL_DF.apply(lambda x: utilities.helper.filter_by_timestamp_range(start=x[\"baseline_start_timestamp\"], stop=x[\"post_trial_end_timestamp\"], timestamps=x[\"cluster_timestamp\"], items=x[col])[1], axis=1)\n",
    "\n",
    "TRIALS_AND_SPECTRAL_DF[updated_timestamp_col] = TRIALS_AND_SPECTRAL_DF.apply(lambda x: utilities.helper.filter_by_timestamp_range(start=x[\"baseline_start_timestamp\"], stop=x[\"post_trial_end_timestamp\"], timestamps=x[\"cluster_timestamp\"], items=x[col])[0], axis=1)"
   ]
  },
  {
   "cell_type": "code",
   "execution_count": 55,
   "metadata": {
    "tags": []
   },
   "outputs": [
    {
     "data": {
      "text/html": [
       "<div>\n",
       "<style scoped>\n",
       "    .dataframe tbody tr th:only-of-type {\n",
       "        vertical-align: middle;\n",
       "    }\n",
       "\n",
       "    .dataframe tbody tr th {\n",
       "        vertical-align: top;\n",
       "    }\n",
       "\n",
       "    .dataframe thead th {\n",
       "        text-align: right;\n",
       "    }\n",
       "</style>\n",
       "<table border=\"1\" class=\"dataframe\">\n",
       "  <thead>\n",
       "    <tr style=\"text-align: right;\">\n",
       "      <th></th>\n",
       "      <th>session_dir</th>\n",
       "      <th>tone_start_frame</th>\n",
       "      <th>reward_start</th>\n",
       "      <th>reward_dispensed</th>\n",
       "      <th>tone_stop_frame</th>\n",
       "      <th>condition</th>\n",
       "      <th>competition_closeness</th>\n",
       "      <th>get_reward_frame</th>\n",
       "      <th>out_reward_frame</th>\n",
       "      <th>notes</th>\n",
       "      <th>...</th>\n",
       "      <th>pre_and_post_subject_nose_to_reward_port</th>\n",
       "      <th>pre_and_post_subject_thorax</th>\n",
       "      <th>pre_and_post_subject_thorax_to_agent_thorax</th>\n",
       "      <th>pre_and_post_subject_thorax_velocity</th>\n",
       "      <th>pre_and_post_subject_to_reward_port_angle</th>\n",
       "      <th>pre_and_post_thorax_velocity_diff</th>\n",
       "      <th>pre_and_post_thorax_velocity_sum</th>\n",
       "      <th>pre_and_post_to_reward_port_angle_diff</th>\n",
       "      <th>pre_and_post_to_reward_port_angle_sum</th>\n",
       "      <th>pre_and_post_video_timestamps</th>\n",
       "    </tr>\n",
       "  </thead>\n",
       "  <tbody>\n",
       "    <tr>\n",
       "      <th>0</th>\n",
       "      <td>20240320_171038_alone_comp_subj_4-2_and_4-3</td>\n",
       "      <td>34242.0</td>\n",
       "      <td>34322</td>\n",
       "      <td>34342.0</td>\n",
       "      <td>34442.0</td>\n",
       "      <td>4.3</td>\n",
       "      <td>After trial</td>\n",
       "      <td>NaN</td>\n",
       "      <td>NaN</td>\n",
       "      <td>NaN</td>\n",
       "      <td>...</td>\n",
       "      <td>[2.5980964, 3.2073143, 3.9916637, 4.8566847, 5...</td>\n",
       "      <td>[[54.093177424666216, 30.357495891388663], [53...</td>\n",
       "      <td>[4.9368286, 4.95431, 4.9935803, 5.1178784, 5.3...</td>\n",
       "      <td>[5.1050973, 5.082959, 5.072279, 5.091807, 5.14...</td>\n",
       "      <td>[2.4313493, 2.3651402, 2.2818353, 2.199549, 2....</td>\n",
       "      <td>[5.6331806, 5.7147374, 5.6083183, 5.3814564, 5...</td>\n",
       "      <td>[15.843375, 16.048643, 16.248707, 16.423662, 1...</td>\n",
       "      <td>[0.6321054, 0.6899271, 0.74678916, 0.802343, 0...</td>\n",
       "      <td>[4.8800473, 4.662217, 4.401958, 4.117365, 3.82...</td>\n",
       "      <td>[34081302, 34082688, 34084074, 34084074, 34085...</td>\n",
       "    </tr>\n",
       "    <tr>\n",
       "      <th>1</th>\n",
       "      <td>20240320_171038_alone_comp_subj_4-2_and_4-3</td>\n",
       "      <td>34242.0</td>\n",
       "      <td>34322</td>\n",
       "      <td>34342.0</td>\n",
       "      <td>34442.0</td>\n",
       "      <td>4.3</td>\n",
       "      <td>After trial</td>\n",
       "      <td>NaN</td>\n",
       "      <td>NaN</td>\n",
       "      <td>NaN</td>\n",
       "      <td>...</td>\n",
       "      <td>[1.1949695, 0.93336076, 0.738537, 0.5684192, 0...</td>\n",
       "      <td>[[52.330529932218774, 33.8102838308305], [52.8...</td>\n",
       "      <td>[4.9368286, 4.95431, 4.9935803, 5.1178784, 5.3...</td>\n",
       "      <td>[10.738277, 10.965685, 11.176429, 11.331856, 1...</td>\n",
       "      <td>[2.4486978, 2.297077, 2.1201227, 1.9178162, 1....</td>\n",
       "      <td>[5.6331806, 5.7147374, 5.6083183, 5.3814564, 5...</td>\n",
       "      <td>[15.843375, 16.048643, 16.248707, 16.423662, 1...</td>\n",
       "      <td>[0.6321054, 0.6899271, 0.74678916, 0.802343, 0...</td>\n",
       "      <td>[4.8800473, 4.662217, 4.401958, 4.117365, 3.82...</td>\n",
       "      <td>[34081302, 34082688, 34084074, 34084074, 34085...</td>\n",
       "    </tr>\n",
       "    <tr>\n",
       "      <th>2</th>\n",
       "      <td>20240320_171038_alone_comp_subj_4-2_and_4-3</td>\n",
       "      <td>35241.0</td>\n",
       "      <td>35321</td>\n",
       "      <td>35341.0</td>\n",
       "      <td>35439.0</td>\n",
       "      <td>4.3</td>\n",
       "      <td>Subj 2 Only</td>\n",
       "      <td>NaN</td>\n",
       "      <td>NaN</td>\n",
       "      <td>NaN</td>\n",
       "      <td>...</td>\n",
       "      <td>[1.088969, 1.0757009, 1.0131229, 0.9762328, 0....</td>\n",
       "      <td>[[59.86917104209446, 31.176008001006366], [59....</td>\n",
       "      <td>[24.583914, 23.842857, 23.053654, 22.21829, 21...</td>\n",
       "      <td>[0.84502804, 0.7296608, 0.62726414, 0.54466546...</td>\n",
       "      <td>[0.17591879, 0.17943281, 0.17603831, 0.2038250...</td>\n",
       "      <td>[15.349337, 18.314651, 21.41159, 24.472757, 27...</td>\n",
       "      <td>[17.039392, 19.773973, 22.66612, 25.562088, 28...</td>\n",
       "      <td>[1.9538506, 2.020497, 2.0900402, 2.0998404, 2....</td>\n",
       "      <td>[2.3056881, 2.3793628, 2.442117, 2.5074904, 2....</td>\n",
       "      <td>[35081900, 35081900, 35083286, 35084672, 35085...</td>\n",
       "    </tr>\n",
       "    <tr>\n",
       "      <th>3</th>\n",
       "      <td>20240320_171038_alone_comp_subj_4-2_and_4-3</td>\n",
       "      <td>35241.0</td>\n",
       "      <td>35321</td>\n",
       "      <td>35341.0</td>\n",
       "      <td>35439.0</td>\n",
       "      <td>4.3</td>\n",
       "      <td>Subj 2 Only</td>\n",
       "      <td>NaN</td>\n",
       "      <td>NaN</td>\n",
       "      <td>NaN</td>\n",
       "      <td>...</td>\n",
       "      <td>[25.323456, 23.973078, 22.660395, 21.498892, 2...</td>\n",
       "      <td>[[47.29296806743566, 9.135700788934573], [46.8...</td>\n",
       "      <td>[24.583914, 23.842857, 23.053654, 22.21829, 21...</td>\n",
       "      <td>[16.194365, 19.044312, 22.038855, 25.017424, 2...</td>\n",
       "      <td>[2.1297693, 2.19993, 2.2660787, 2.3036654, 2.3...</td>\n",
       "      <td>[15.349337, 18.314651, 21.41159, 24.472757, 27...</td>\n",
       "      <td>[17.039392, 19.773973, 22.66612, 25.562088, 28...</td>\n",
       "      <td>[1.9538506, 2.020497, 2.0900402, 2.0998404, 2....</td>\n",
       "      <td>[2.3056881, 2.3793628, 2.442117, 2.5074904, 2....</td>\n",
       "      <td>[35081900, 35081900, 35083286, 35084672, 35085...</td>\n",
       "    </tr>\n",
       "    <tr>\n",
       "      <th>4</th>\n",
       "      <td>20240320_171038_alone_comp_subj_4-2_and_4-3</td>\n",
       "      <td>36339.0</td>\n",
       "      <td>36419</td>\n",
       "      <td>36439.0</td>\n",
       "      <td>36538.0</td>\n",
       "      <td>4.3</td>\n",
       "      <td>Subj 2 blocking Subj 1</td>\n",
       "      <td>NaN</td>\n",
       "      <td>NaN</td>\n",
       "      <td>NaN</td>\n",
       "      <td>...</td>\n",
       "      <td>[0.7897185, 0.7472973, 0.7605625, 0.8177425, 0...</td>\n",
       "      <td>[[60.38185337098157, 31.177069002360277], [60....</td>\n",
       "      <td>[13.881315, 14.176304, 14.438505, 14.65004, 14...</td>\n",
       "      <td>[0.49317342, 0.4948187, 0.509421, 0.54049957, ...</td>\n",
       "      <td>[0.5789979, 0.5902529, 0.5984625, 0.60776705, ...</td>\n",
       "      <td>[5.934906, 6.0408955, 5.9854646, 5.8209095, 5....</td>\n",
       "      <td>[6.936893, 7.039064, 7.0063467, 6.898076, 6.69...</td>\n",
       "      <td>[0.3554064, 0.39349312, 0.42495528, 0.46008515...</td>\n",
       "      <td>[0.8359046, 0.79514295, 0.75987095, 0.7393834,...</td>\n",
       "      <td>[36180895, 36182281, 36183666, 36183666, 36186...</td>\n",
       "    </tr>\n",
       "  </tbody>\n",
       "</table>\n",
       "<p>5 rows × 261 columns</p>\n",
       "</div>"
      ],
      "text/plain": [
       "                                   session_dir  tone_start_frame  \\\n",
       "0  20240320_171038_alone_comp_subj_4-2_and_4-3           34242.0   \n",
       "1  20240320_171038_alone_comp_subj_4-2_and_4-3           34242.0   \n",
       "2  20240320_171038_alone_comp_subj_4-2_and_4-3           35241.0   \n",
       "3  20240320_171038_alone_comp_subj_4-2_and_4-3           35241.0   \n",
       "4  20240320_171038_alone_comp_subj_4-2_and_4-3           36339.0   \n",
       "\n",
       "   reward_start  reward_dispensed  tone_stop_frame condition   \\\n",
       "0         34322           34342.0          34442.0        4.3   \n",
       "1         34322           34342.0          34442.0        4.3   \n",
       "2         35321           35341.0          35439.0        4.3   \n",
       "3         35321           35341.0          35439.0        4.3   \n",
       "4         36419           36439.0          36538.0        4.3   \n",
       "\n",
       "    competition_closeness  get_reward_frame  out_reward_frame notes  ...  \\\n",
       "0             After trial               NaN               NaN   NaN  ...   \n",
       "1             After trial               NaN               NaN   NaN  ...   \n",
       "2             Subj 2 Only               NaN               NaN   NaN  ...   \n",
       "3             Subj 2 Only               NaN               NaN   NaN  ...   \n",
       "4  Subj 2 blocking Subj 1               NaN               NaN   NaN  ...   \n",
       "\n",
       "            pre_and_post_subject_nose_to_reward_port  \\\n",
       "0  [2.5980964, 3.2073143, 3.9916637, 4.8566847, 5...   \n",
       "1  [1.1949695, 0.93336076, 0.738537, 0.5684192, 0...   \n",
       "2  [1.088969, 1.0757009, 1.0131229, 0.9762328, 0....   \n",
       "3  [25.323456, 23.973078, 22.660395, 21.498892, 2...   \n",
       "4  [0.7897185, 0.7472973, 0.7605625, 0.8177425, 0...   \n",
       "\n",
       "                         pre_and_post_subject_thorax  \\\n",
       "0  [[54.093177424666216, 30.357495891388663], [53...   \n",
       "1  [[52.330529932218774, 33.8102838308305], [52.8...   \n",
       "2  [[59.86917104209446, 31.176008001006366], [59....   \n",
       "3  [[47.29296806743566, 9.135700788934573], [46.8...   \n",
       "4  [[60.38185337098157, 31.177069002360277], [60....   \n",
       "\n",
       "         pre_and_post_subject_thorax_to_agent_thorax  \\\n",
       "0  [4.9368286, 4.95431, 4.9935803, 5.1178784, 5.3...   \n",
       "1  [4.9368286, 4.95431, 4.9935803, 5.1178784, 5.3...   \n",
       "2  [24.583914, 23.842857, 23.053654, 22.21829, 21...   \n",
       "3  [24.583914, 23.842857, 23.053654, 22.21829, 21...   \n",
       "4  [13.881315, 14.176304, 14.438505, 14.65004, 14...   \n",
       "\n",
       "                pre_and_post_subject_thorax_velocity  \\\n",
       "0  [5.1050973, 5.082959, 5.072279, 5.091807, 5.14...   \n",
       "1  [10.738277, 10.965685, 11.176429, 11.331856, 1...   \n",
       "2  [0.84502804, 0.7296608, 0.62726414, 0.54466546...   \n",
       "3  [16.194365, 19.044312, 22.038855, 25.017424, 2...   \n",
       "4  [0.49317342, 0.4948187, 0.509421, 0.54049957, ...   \n",
       "\n",
       "           pre_and_post_subject_to_reward_port_angle  \\\n",
       "0  [2.4313493, 2.3651402, 2.2818353, 2.199549, 2....   \n",
       "1  [2.4486978, 2.297077, 2.1201227, 1.9178162, 1....   \n",
       "2  [0.17591879, 0.17943281, 0.17603831, 0.2038250...   \n",
       "3  [2.1297693, 2.19993, 2.2660787, 2.3036654, 2.3...   \n",
       "4  [0.5789979, 0.5902529, 0.5984625, 0.60776705, ...   \n",
       "\n",
       "                   pre_and_post_thorax_velocity_diff  \\\n",
       "0  [5.6331806, 5.7147374, 5.6083183, 5.3814564, 5...   \n",
       "1  [5.6331806, 5.7147374, 5.6083183, 5.3814564, 5...   \n",
       "2  [15.349337, 18.314651, 21.41159, 24.472757, 27...   \n",
       "3  [15.349337, 18.314651, 21.41159, 24.472757, 27...   \n",
       "4  [5.934906, 6.0408955, 5.9854646, 5.8209095, 5....   \n",
       "\n",
       "                    pre_and_post_thorax_velocity_sum  \\\n",
       "0  [15.843375, 16.048643, 16.248707, 16.423662, 1...   \n",
       "1  [15.843375, 16.048643, 16.248707, 16.423662, 1...   \n",
       "2  [17.039392, 19.773973, 22.66612, 25.562088, 28...   \n",
       "3  [17.039392, 19.773973, 22.66612, 25.562088, 28...   \n",
       "4  [6.936893, 7.039064, 7.0063467, 6.898076, 6.69...   \n",
       "\n",
       "              pre_and_post_to_reward_port_angle_diff  \\\n",
       "0  [0.6321054, 0.6899271, 0.74678916, 0.802343, 0...   \n",
       "1  [0.6321054, 0.6899271, 0.74678916, 0.802343, 0...   \n",
       "2  [1.9538506, 2.020497, 2.0900402, 2.0998404, 2....   \n",
       "3  [1.9538506, 2.020497, 2.0900402, 2.0998404, 2....   \n",
       "4  [0.3554064, 0.39349312, 0.42495528, 0.46008515...   \n",
       "\n",
       "               pre_and_post_to_reward_port_angle_sum  \\\n",
       "0  [4.8800473, 4.662217, 4.401958, 4.117365, 3.82...   \n",
       "1  [4.8800473, 4.662217, 4.401958, 4.117365, 3.82...   \n",
       "2  [2.3056881, 2.3793628, 2.442117, 2.5074904, 2....   \n",
       "3  [2.3056881, 2.3793628, 2.442117, 2.5074904, 2....   \n",
       "4  [0.8359046, 0.79514295, 0.75987095, 0.7393834,...   \n",
       "\n",
       "                       pre_and_post_video_timestamps  \n",
       "0  [34081302, 34082688, 34084074, 34084074, 34085...  \n",
       "1  [34081302, 34082688, 34084074, 34084074, 34085...  \n",
       "2  [35081900, 35081900, 35083286, 35084672, 35085...  \n",
       "3  [35081900, 35081900, 35083286, 35084672, 35085...  \n",
       "4  [36180895, 36182281, 36183666, 36183666, 36186...  \n",
       "\n",
       "[5 rows x 261 columns]"
      ]
     },
     "execution_count": 55,
     "metadata": {},
     "output_type": "execute_result"
    }
   ],
   "source": [
    "TRIALS_AND_SPECTRAL_DF.head()"
   ]
  },
  {
   "cell_type": "code",
   "execution_count": 56,
   "metadata": {
    "tags": []
   },
   "outputs": [
    {
     "data": {
      "text/plain": [
       "(599,)"
      ]
     },
     "execution_count": 56,
     "metadata": {},
     "output_type": "execute_result"
    }
   ],
   "source": [
    "TRIALS_AND_SPECTRAL_DF[\"pre_and_post_frame_index\"].iloc[0].shape"
   ]
  },
  {
   "cell_type": "code",
   "execution_count": 57,
   "metadata": {
    "tags": []
   },
   "outputs": [],
   "source": [
    "TRIALS_AND_SPECTRAL_DF = TRIALS_AND_SPECTRAL_DF.drop(columns=sleap_columns + [\"video_timestamps\"], errors=\"ignore\")"
   ]
  },
  {
   "cell_type": "code",
   "execution_count": 58,
   "metadata": {
    "tags": []
   },
   "outputs": [
    {
     "name": "stdout",
     "output_type": "stream",
     "text": [
      "session_dir\n",
      "tone_start_frame\n",
      "reward_start\n",
      "reward_dispensed\n",
      "tone_stop_frame\n",
      "condition \n",
      "competition_closeness\n",
      "get_reward_frame\n",
      "out_reward_frame\n",
      "notes\n",
      "experiment\n",
      "box_1_port_entry_frames\n",
      "box_2_port_entry_frames\n",
      "video_name\n",
      "all_subjects\n",
      "first_timestamp\n",
      "last_timestamp\n",
      "tone_start_timestamp\n",
      "tone_stop_timestamp\n",
      "box_1_port_entry_timestamps\n",
      "box_2_port_entry_timestamps\n",
      "current_subject\n",
      "10s_before_tone_frame\n",
      "10s_after_tone_frame\n",
      "subject_locations\n",
      "agent_locations\n",
      "subject_tail_base\n",
      "agent_tail_base\n",
      "sleap_name\n",
      "video_id\n",
      "agent\n",
      "BLA-to-LH_granger_gamma\n",
      "BLA-to-LH_granger_theta\n",
      "BLA-to-MD_granger_gamma\n",
      "BLA-to-MD_granger_theta\n",
      "BLA-to-mPFC_granger_gamma\n",
      "BLA-to-mPFC_granger_theta\n",
      "BLA-to-vHPC_granger_gamma\n",
      "BLA-to-vHPC_granger_theta\n",
      "BLA_LH_coherence_all_frequencies_all_windows\n",
      "BLA_LH_coherence_gamma\n",
      "BLA_LH_coherence_theta\n",
      "BLA_LH_granger_all_frequencies_all_windows\n",
      "BLA_MD_coherence_all_frequencies_all_windows\n",
      "BLA_MD_coherence_gamma\n",
      "BLA_MD_coherence_theta\n",
      "BLA_MD_granger_all_frequencies_all_windows\n",
      "BLA_RMS_filtered_power_all_frequencies_all_windows\n",
      "BLA_RMS_filtered_power_gamma\n",
      "BLA_RMS_filtered_power_theta\n",
      "BLA_gamma_band\n",
      "BLA_gamma_phase\n",
      "BLA_lfp_MAD\n",
      "BLA_lfp_RMS\n",
      "BLA_lfp_RMS_filtered\n",
      "BLA_lfp_mask\n",
      "BLA_lfp_modified_zscore\n",
      "BLA_lfp_trace\n",
      "BLA_lfp_trace_filtered\n",
      "BLA_mPFC_coherence_all_frequencies_all_windows\n",
      "BLA_mPFC_coherence_gamma\n",
      "BLA_mPFC_coherence_theta\n",
      "BLA_mPFC_granger_all_frequencies_all_windows\n",
      "BLA_theta_band\n",
      "BLA_theta_phase\n",
      "BLA_vHPC_coherence_all_frequencies_all_windows\n",
      "BLA_vHPC_coherence_gamma\n",
      "BLA_vHPC_coherence_theta\n",
      "BLA_vHPC_granger_all_frequencies_all_windows\n",
      "LH-to-BLA_granger_gamma\n",
      "LH-to-BLA_granger_theta\n",
      "LH-to-MD_granger_gamma\n",
      "LH-to-MD_granger_theta\n",
      "LH-to-mPFC_granger_gamma\n",
      "LH-to-mPFC_granger_theta\n",
      "LH-to-vHPC_granger_gamma\n",
      "LH-to-vHPC_granger_theta\n",
      "LH_BLA_granger_all_frequencies_all_windows\n",
      "LH_MD_coherence_all_frequencies_all_windows\n",
      "LH_MD_coherence_gamma\n",
      "LH_MD_coherence_theta\n",
      "LH_MD_granger_all_frequencies_all_windows\n",
      "LH_RMS_filtered_power_all_frequencies_all_windows\n",
      "LH_RMS_filtered_power_gamma\n",
      "LH_RMS_filtered_power_theta\n",
      "LH_gamma_band\n",
      "LH_gamma_phase\n",
      "LH_lfp_MAD\n",
      "LH_lfp_RMS\n",
      "LH_lfp_RMS_filtered\n",
      "LH_lfp_mask\n",
      "LH_lfp_modified_zscore\n",
      "LH_lfp_trace\n",
      "LH_lfp_trace_filtered\n",
      "LH_mPFC_coherence_all_frequencies_all_windows\n",
      "LH_mPFC_coherence_gamma\n",
      "LH_mPFC_coherence_theta\n",
      "LH_mPFC_granger_all_frequencies_all_windows\n",
      "LH_theta_band\n",
      "LH_theta_phase\n",
      "LH_vHPC_coherence_all_frequencies_all_windows\n",
      "LH_vHPC_coherence_gamma\n",
      "LH_vHPC_coherence_theta\n",
      "LH_vHPC_granger_all_frequencies_all_windows\n",
      "MD-to-BLA_granger_gamma\n",
      "MD-to-BLA_granger_theta\n",
      "MD-to-LH_granger_gamma\n",
      "MD-to-LH_granger_theta\n",
      "MD-to-mPFC_granger_gamma\n",
      "MD-to-mPFC_granger_theta\n",
      "MD-to-vHPC_granger_gamma\n",
      "MD-to-vHPC_granger_theta\n",
      "MD_BLA_granger_all_frequencies_all_windows\n",
      "MD_LH_granger_all_frequencies_all_windows\n",
      "MD_RMS_filtered_power_all_frequencies_all_windows\n",
      "MD_RMS_filtered_power_gamma\n",
      "MD_RMS_filtered_power_theta\n",
      "MD_gamma_band\n",
      "MD_gamma_phase\n",
      "MD_lfp_MAD\n",
      "MD_lfp_RMS\n",
      "MD_lfp_RMS_filtered\n",
      "MD_lfp_mask\n",
      "MD_lfp_modified_zscore\n",
      "MD_lfp_trace\n",
      "MD_lfp_trace_filtered\n",
      "MD_mPFC_coherence_all_frequencies_all_windows\n",
      "MD_mPFC_coherence_gamma\n",
      "MD_mPFC_coherence_theta\n",
      "MD_mPFC_granger_all_frequencies_all_windows\n",
      "MD_theta_band\n",
      "MD_theta_phase\n",
      "MD_vHPC_coherence_all_frequencies_all_windows\n",
      "MD_vHPC_coherence_gamma\n",
      "MD_vHPC_coherence_theta\n",
      "MD_vHPC_granger_all_frequencies_all_windows\n",
      "coherence_calculation_frequencies\n",
      "coherence_timestamps\n",
      "cohort\n",
      "granger_calculation_frequencies\n",
      "granger_timestamps\n",
      "lfp_timestamps\n",
      "mPFC-to-BLA_granger_gamma\n",
      "mPFC-to-BLA_granger_theta\n",
      "mPFC-to-LH_granger_gamma\n",
      "mPFC-to-LH_granger_theta\n",
      "mPFC-to-MD_granger_gamma\n",
      "mPFC-to-MD_granger_theta\n",
      "mPFC-to-vHPC_granger_gamma\n",
      "mPFC-to-vHPC_granger_theta\n",
      "mPFC_BLA_granger_all_frequencies_all_windows\n",
      "mPFC_LH_granger_all_frequencies_all_windows\n",
      "mPFC_MD_granger_all_frequencies_all_windows\n",
      "mPFC_RMS_filtered_power_all_frequencies_all_windows\n",
      "mPFC_RMS_filtered_power_gamma\n",
      "mPFC_RMS_filtered_power_theta\n",
      "mPFC_gamma_band\n",
      "mPFC_gamma_phase\n",
      "mPFC_lfp_MAD\n",
      "mPFC_lfp_RMS\n",
      "mPFC_lfp_RMS_filtered\n",
      "mPFC_lfp_mask\n",
      "mPFC_lfp_modified_zscore\n",
      "mPFC_lfp_trace\n",
      "mPFC_lfp_trace_filtered\n",
      "mPFC_theta_band\n",
      "mPFC_theta_phase\n",
      "mPFC_vHPC_coherence_all_frequencies_all_windows\n",
      "mPFC_vHPC_coherence_gamma\n",
      "mPFC_vHPC_coherence_theta\n",
      "mPFC_vHPC_granger_all_frequencies_all_windows\n",
      "power_calculation_frequencies\n",
      "power_timestamps\n",
      "recording\n",
      "session_path\n",
      "subject\n",
      "tone_frames\n",
      "tone_timestamps\n",
      "vHPC-to-BLA_granger_gamma\n",
      "vHPC-to-BLA_granger_theta\n",
      "vHPC-to-LH_granger_gamma\n",
      "vHPC-to-LH_granger_theta\n",
      "vHPC-to-MD_granger_gamma\n",
      "vHPC-to-MD_granger_theta\n",
      "vHPC-to-mPFC_granger_gamma\n",
      "vHPC-to-mPFC_granger_theta\n",
      "vHPC_BLA_granger_all_frequencies_all_windows\n",
      "vHPC_LH_granger_all_frequencies_all_windows\n",
      "vHPC_MD_granger_all_frequencies_all_windows\n",
      "vHPC_RMS_filtered_power_all_frequencies_all_windows\n",
      "vHPC_RMS_filtered_power_gamma\n",
      "vHPC_RMS_filtered_power_theta\n",
      "vHPC_gamma_band\n",
      "vHPC_gamma_phase\n",
      "vHPC_lfp_MAD\n",
      "vHPC_lfp_RMS\n",
      "vHPC_lfp_RMS_filtered\n",
      "vHPC_lfp_mask\n",
      "vHPC_lfp_modified_zscore\n",
      "vHPC_lfp_trace\n",
      "vHPC_lfp_trace_filtered\n",
      "vHPC_mPFC_granger_all_frequencies_all_windows\n",
      "vHPC_theta_band\n",
      "vHPC_theta_phase\n",
      "baseline_start_timestamp\n",
      "post_trial_end_timestamp\n",
      "video_frame\n",
      "pre_and_post_agent_nose\n",
      "pre_and_post_agent_nose_to_reward_port\n",
      "pre_and_post_agent_thorax\n",
      "pre_and_post_agent_thorax_velocity\n",
      "pre_and_post_agent_to_reward_port_angle\n",
      "pre_and_post_closebool_agent_nose_to_reward_port\n",
      "pre_and_post_closebool_subject_nose_to_reward_port\n",
      "pre_and_post_cluster_timestamp\n",
      "pre_and_post_frame_index\n",
      "pre_and_post_kmeans_cluster\n",
      "pre_and_post_manual_cluster_id\n",
      "pre_and_post_movingbool_agent_thorax_velocity\n",
      "pre_and_post_movingbool_subject_thorax_velocity\n",
      "pre_and_post_nose_to_reward_port_diff\n",
      "pre_and_post_nose_to_reward_port_sum\n",
      "pre_and_post_standard_embedding_x\n",
      "pre_and_post_subject_nose\n",
      "pre_and_post_subject_nose_to_reward_port\n",
      "pre_and_post_subject_thorax\n",
      "pre_and_post_subject_thorax_to_agent_thorax\n",
      "pre_and_post_subject_thorax_velocity\n",
      "pre_and_post_subject_to_reward_port_angle\n",
      "pre_and_post_thorax_velocity_diff\n",
      "pre_and_post_thorax_velocity_sum\n",
      "pre_and_post_to_reward_port_angle_diff\n",
      "pre_and_post_to_reward_port_angle_sum\n",
      "pre_and_post_video_timestamps\n"
     ]
    }
   ],
   "source": [
    "for col in TRIALS_AND_SPECTRAL_DF.columns:\n",
    "    print(col)"
   ]
  },
  {
   "cell_type": "markdown",
   "metadata": {},
   "source": [
    "- Filtering coherence"
   ]
  },
  {
   "cell_type": "code",
   "execution_count": 61,
   "metadata": {
    "tags": []
   },
   "outputs": [],
   "source": [
    "coherence_columns = [col for col in TRIALS_AND_SPECTRAL_DF.columns if \"coherence\" in col and \"timestamps\" not in col and \"calculation\" not in col]"
   ]
  },
  {
   "cell_type": "code",
   "execution_count": 62,
   "metadata": {
    "tags": []
   },
   "outputs": [
    {
     "data": {
      "text/plain": [
       "['BLA_LH_coherence_all_frequencies_all_windows',\n",
       " 'BLA_LH_coherence_gamma',\n",
       " 'BLA_LH_coherence_theta',\n",
       " 'BLA_MD_coherence_all_frequencies_all_windows',\n",
       " 'BLA_MD_coherence_gamma',\n",
       " 'BLA_MD_coherence_theta',\n",
       " 'BLA_mPFC_coherence_all_frequencies_all_windows',\n",
       " 'BLA_mPFC_coherence_gamma',\n",
       " 'BLA_mPFC_coherence_theta',\n",
       " 'BLA_vHPC_coherence_all_frequencies_all_windows',\n",
       " 'BLA_vHPC_coherence_gamma',\n",
       " 'BLA_vHPC_coherence_theta',\n",
       " 'LH_MD_coherence_all_frequencies_all_windows',\n",
       " 'LH_MD_coherence_gamma',\n",
       " 'LH_MD_coherence_theta',\n",
       " 'LH_mPFC_coherence_all_frequencies_all_windows',\n",
       " 'LH_mPFC_coherence_gamma',\n",
       " 'LH_mPFC_coherence_theta',\n",
       " 'LH_vHPC_coherence_all_frequencies_all_windows',\n",
       " 'LH_vHPC_coherence_gamma',\n",
       " 'LH_vHPC_coherence_theta',\n",
       " 'MD_mPFC_coherence_all_frequencies_all_windows',\n",
       " 'MD_mPFC_coherence_gamma',\n",
       " 'MD_mPFC_coherence_theta',\n",
       " 'MD_vHPC_coherence_all_frequencies_all_windows',\n",
       " 'MD_vHPC_coherence_gamma',\n",
       " 'MD_vHPC_coherence_theta',\n",
       " 'mPFC_vHPC_coherence_all_frequencies_all_windows',\n",
       " 'mPFC_vHPC_coherence_gamma',\n",
       " 'mPFC_vHPC_coherence_theta']"
      ]
     },
     "execution_count": 62,
     "metadata": {},
     "output_type": "execute_result"
    }
   ],
   "source": [
    "coherence_columns"
   ]
  },
  {
   "cell_type": "code",
   "execution_count": 63,
   "metadata": {
    "tags": []
   },
   "outputs": [
    {
     "name": "stdout",
     "output_type": "stream",
     "text": [
      "pre_and_post_BLA_LH_coherence_all_frequencies_all_windows\n",
      "pre_and_post_BLA_LH_coherence_gamma\n",
      "pre_and_post_BLA_LH_coherence_theta\n",
      "pre_and_post_BLA_MD_coherence_all_frequencies_all_windows\n",
      "pre_and_post_BLA_MD_coherence_gamma\n",
      "pre_and_post_BLA_MD_coherence_theta\n",
      "pre_and_post_BLA_mPFC_coherence_all_frequencies_all_windows\n",
      "pre_and_post_BLA_mPFC_coherence_gamma\n",
      "pre_and_post_BLA_mPFC_coherence_theta\n",
      "pre_and_post_BLA_vHPC_coherence_all_frequencies_all_windows\n",
      "pre_and_post_BLA_vHPC_coherence_gamma\n",
      "pre_and_post_BLA_vHPC_coherence_theta\n",
      "pre_and_post_LH_MD_coherence_all_frequencies_all_windows\n",
      "pre_and_post_LH_MD_coherence_gamma\n",
      "pre_and_post_LH_MD_coherence_theta\n",
      "pre_and_post_LH_mPFC_coherence_all_frequencies_all_windows\n",
      "pre_and_post_LH_mPFC_coherence_gamma\n",
      "pre_and_post_LH_mPFC_coherence_theta\n",
      "pre_and_post_LH_vHPC_coherence_all_frequencies_all_windows\n",
      "pre_and_post_LH_vHPC_coherence_gamma\n",
      "pre_and_post_LH_vHPC_coherence_theta\n",
      "pre_and_post_MD_mPFC_coherence_all_frequencies_all_windows\n",
      "pre_and_post_MD_mPFC_coherence_gamma\n",
      "pre_and_post_MD_mPFC_coherence_theta\n",
      "pre_and_post_MD_vHPC_coherence_all_frequencies_all_windows\n",
      "pre_and_post_MD_vHPC_coherence_gamma\n",
      "pre_and_post_MD_vHPC_coherence_theta\n",
      "pre_and_post_mPFC_vHPC_coherence_all_frequencies_all_windows\n",
      "pre_and_post_mPFC_vHPC_coherence_gamma\n",
      "pre_and_post_mPFC_vHPC_coherence_theta\n"
     ]
    }
   ],
   "source": [
    "for col in sorted(coherence_columns):\n",
    "    updated_item_col = \"pre_and_post_{}\".format(col)\n",
    "    print(updated_item_col)\n",
    "    updated_timestamp_col = \"pre_and_post_video_timestamps\"\n",
    "    TRIALS_AND_SPECTRAL_DF[updated_item_col] = TRIALS_AND_SPECTRAL_DF.apply(lambda x: utilities.helper.filter_by_timestamp_range(start=x[\"baseline_start_timestamp\"], stop=x[\"post_trial_end_timestamp\"], timestamps=x[\"coherence_timestamps\"], items=x[col])[1], axis=1)\n",
    "\n",
    "TRIALS_AND_SPECTRAL_DF[updated_timestamp_col] = TRIALS_AND_SPECTRAL_DF.apply(lambda x: utilities.helper.filter_by_timestamp_range(start=x[\"baseline_start_timestamp\"], stop=x[\"post_trial_end_timestamp\"], timestamps=x[\"coherence_timestamps\"], items=x[col])[0], axis=1)"
   ]
  },
  {
   "cell_type": "code",
   "execution_count": 64,
   "metadata": {
    "tags": []
   },
   "outputs": [],
   "source": [
    "TRIALS_AND_SPECTRAL_DF = TRIALS_AND_SPECTRAL_DF.drop(columns=coherence_columns + [\"coherence_timestamps\"], errors=\"ignore\")"
   ]
  },
  {
   "cell_type": "markdown",
   "metadata": {},
   "source": [
    "- Filtering Grangers"
   ]
  },
  {
   "cell_type": "code",
   "execution_count": 65,
   "metadata": {
    "tags": []
   },
   "outputs": [],
   "source": [
    "granger_columns = [col for col in TRIALS_AND_SPECTRAL_DF.columns if \"granger\" in col and \"timestamps\" not in col and \"calculation\" not in col]"
   ]
  },
  {
   "cell_type": "code",
   "execution_count": 66,
   "metadata": {
    "tags": []
   },
   "outputs": [
    {
     "data": {
      "text/plain": [
       "['BLA-to-LH_granger_gamma',\n",
       " 'BLA-to-LH_granger_theta',\n",
       " 'BLA-to-MD_granger_gamma',\n",
       " 'BLA-to-MD_granger_theta',\n",
       " 'BLA-to-mPFC_granger_gamma',\n",
       " 'BLA-to-mPFC_granger_theta',\n",
       " 'BLA-to-vHPC_granger_gamma',\n",
       " 'BLA-to-vHPC_granger_theta',\n",
       " 'BLA_LH_granger_all_frequencies_all_windows',\n",
       " 'BLA_MD_granger_all_frequencies_all_windows',\n",
       " 'BLA_mPFC_granger_all_frequencies_all_windows',\n",
       " 'BLA_vHPC_granger_all_frequencies_all_windows',\n",
       " 'LH-to-BLA_granger_gamma',\n",
       " 'LH-to-BLA_granger_theta',\n",
       " 'LH-to-MD_granger_gamma',\n",
       " 'LH-to-MD_granger_theta',\n",
       " 'LH-to-mPFC_granger_gamma',\n",
       " 'LH-to-mPFC_granger_theta',\n",
       " 'LH-to-vHPC_granger_gamma',\n",
       " 'LH-to-vHPC_granger_theta',\n",
       " 'LH_BLA_granger_all_frequencies_all_windows',\n",
       " 'LH_MD_granger_all_frequencies_all_windows',\n",
       " 'LH_mPFC_granger_all_frequencies_all_windows',\n",
       " 'LH_vHPC_granger_all_frequencies_all_windows',\n",
       " 'MD-to-BLA_granger_gamma',\n",
       " 'MD-to-BLA_granger_theta',\n",
       " 'MD-to-LH_granger_gamma',\n",
       " 'MD-to-LH_granger_theta',\n",
       " 'MD-to-mPFC_granger_gamma',\n",
       " 'MD-to-mPFC_granger_theta',\n",
       " 'MD-to-vHPC_granger_gamma',\n",
       " 'MD-to-vHPC_granger_theta',\n",
       " 'MD_BLA_granger_all_frequencies_all_windows',\n",
       " 'MD_LH_granger_all_frequencies_all_windows',\n",
       " 'MD_mPFC_granger_all_frequencies_all_windows',\n",
       " 'MD_vHPC_granger_all_frequencies_all_windows',\n",
       " 'mPFC-to-BLA_granger_gamma',\n",
       " 'mPFC-to-BLA_granger_theta',\n",
       " 'mPFC-to-LH_granger_gamma',\n",
       " 'mPFC-to-LH_granger_theta',\n",
       " 'mPFC-to-MD_granger_gamma',\n",
       " 'mPFC-to-MD_granger_theta',\n",
       " 'mPFC-to-vHPC_granger_gamma',\n",
       " 'mPFC-to-vHPC_granger_theta',\n",
       " 'mPFC_BLA_granger_all_frequencies_all_windows',\n",
       " 'mPFC_LH_granger_all_frequencies_all_windows',\n",
       " 'mPFC_MD_granger_all_frequencies_all_windows',\n",
       " 'mPFC_vHPC_granger_all_frequencies_all_windows',\n",
       " 'vHPC-to-BLA_granger_gamma',\n",
       " 'vHPC-to-BLA_granger_theta',\n",
       " 'vHPC-to-LH_granger_gamma',\n",
       " 'vHPC-to-LH_granger_theta',\n",
       " 'vHPC-to-MD_granger_gamma',\n",
       " 'vHPC-to-MD_granger_theta',\n",
       " 'vHPC-to-mPFC_granger_gamma',\n",
       " 'vHPC-to-mPFC_granger_theta',\n",
       " 'vHPC_BLA_granger_all_frequencies_all_windows',\n",
       " 'vHPC_LH_granger_all_frequencies_all_windows',\n",
       " 'vHPC_MD_granger_all_frequencies_all_windows',\n",
       " 'vHPC_mPFC_granger_all_frequencies_all_windows']"
      ]
     },
     "execution_count": 66,
     "metadata": {},
     "output_type": "execute_result"
    }
   ],
   "source": [
    "granger_columns"
   ]
  },
  {
   "cell_type": "code",
   "execution_count": 67,
   "metadata": {
    "tags": []
   },
   "outputs": [
    {
     "name": "stdout",
     "output_type": "stream",
     "text": [
      "pre_and_post_BLA-to-LH_granger_gamma\n",
      "pre_and_post_BLA-to-LH_granger_theta\n",
      "pre_and_post_BLA-to-MD_granger_gamma\n",
      "pre_and_post_BLA-to-MD_granger_theta\n",
      "pre_and_post_BLA-to-mPFC_granger_gamma\n",
      "pre_and_post_BLA-to-mPFC_granger_theta\n",
      "pre_and_post_BLA-to-vHPC_granger_gamma\n",
      "pre_and_post_BLA-to-vHPC_granger_theta\n",
      "pre_and_post_BLA_LH_granger_all_frequencies_all_windows\n",
      "pre_and_post_BLA_MD_granger_all_frequencies_all_windows\n",
      "pre_and_post_BLA_mPFC_granger_all_frequencies_all_windows\n",
      "pre_and_post_BLA_vHPC_granger_all_frequencies_all_windows\n",
      "pre_and_post_LH-to-BLA_granger_gamma\n",
      "pre_and_post_LH-to-BLA_granger_theta\n",
      "pre_and_post_LH-to-MD_granger_gamma\n",
      "pre_and_post_LH-to-MD_granger_theta\n",
      "pre_and_post_LH-to-mPFC_granger_gamma\n",
      "pre_and_post_LH-to-mPFC_granger_theta\n",
      "pre_and_post_LH-to-vHPC_granger_gamma\n",
      "pre_and_post_LH-to-vHPC_granger_theta\n",
      "pre_and_post_LH_BLA_granger_all_frequencies_all_windows\n",
      "pre_and_post_LH_MD_granger_all_frequencies_all_windows\n",
      "pre_and_post_LH_mPFC_granger_all_frequencies_all_windows\n",
      "pre_and_post_LH_vHPC_granger_all_frequencies_all_windows\n",
      "pre_and_post_MD-to-BLA_granger_gamma\n",
      "pre_and_post_MD-to-BLA_granger_theta\n",
      "pre_and_post_MD-to-LH_granger_gamma\n",
      "pre_and_post_MD-to-LH_granger_theta\n",
      "pre_and_post_MD-to-mPFC_granger_gamma\n",
      "pre_and_post_MD-to-mPFC_granger_theta\n",
      "pre_and_post_MD-to-vHPC_granger_gamma\n",
      "pre_and_post_MD-to-vHPC_granger_theta\n",
      "pre_and_post_MD_BLA_granger_all_frequencies_all_windows\n",
      "pre_and_post_MD_LH_granger_all_frequencies_all_windows\n",
      "pre_and_post_MD_mPFC_granger_all_frequencies_all_windows\n",
      "pre_and_post_MD_vHPC_granger_all_frequencies_all_windows\n",
      "pre_and_post_mPFC-to-BLA_granger_gamma\n",
      "pre_and_post_mPFC-to-BLA_granger_theta\n",
      "pre_and_post_mPFC-to-LH_granger_gamma\n",
      "pre_and_post_mPFC-to-LH_granger_theta\n",
      "pre_and_post_mPFC-to-MD_granger_gamma\n",
      "pre_and_post_mPFC-to-MD_granger_theta\n",
      "pre_and_post_mPFC-to-vHPC_granger_gamma\n",
      "pre_and_post_mPFC-to-vHPC_granger_theta\n",
      "pre_and_post_mPFC_BLA_granger_all_frequencies_all_windows\n",
      "pre_and_post_mPFC_LH_granger_all_frequencies_all_windows\n",
      "pre_and_post_mPFC_MD_granger_all_frequencies_all_windows\n",
      "pre_and_post_mPFC_vHPC_granger_all_frequencies_all_windows\n",
      "pre_and_post_vHPC-to-BLA_granger_gamma\n",
      "pre_and_post_vHPC-to-BLA_granger_theta\n",
      "pre_and_post_vHPC-to-LH_granger_gamma\n",
      "pre_and_post_vHPC-to-LH_granger_theta\n",
      "pre_and_post_vHPC-to-MD_granger_gamma\n",
      "pre_and_post_vHPC-to-MD_granger_theta\n",
      "pre_and_post_vHPC-to-mPFC_granger_gamma\n",
      "pre_and_post_vHPC-to-mPFC_granger_theta\n",
      "pre_and_post_vHPC_BLA_granger_all_frequencies_all_windows\n",
      "pre_and_post_vHPC_LH_granger_all_frequencies_all_windows\n",
      "pre_and_post_vHPC_MD_granger_all_frequencies_all_windows\n",
      "pre_and_post_vHPC_mPFC_granger_all_frequencies_all_windows\n"
     ]
    }
   ],
   "source": [
    "for col in sorted(granger_columns):\n",
    "    updated_item_col = \"pre_and_post_{}\".format(col)\n",
    "    print(updated_item_col)\n",
    "    updated_timestamp_col = \"pre_and_post_video_timestamps\"\n",
    "    TRIALS_AND_SPECTRAL_DF[updated_item_col] = TRIALS_AND_SPECTRAL_DF.apply(lambda x: utilities.helper.filter_by_timestamp_range(start=x[\"baseline_start_timestamp\"], stop=x[\"post_trial_end_timestamp\"], timestamps=x[\"granger_timestamps\"], items=x[col])[1], axis=1)\n",
    "\n",
    "TRIALS_AND_SPECTRAL_DF[updated_timestamp_col] = TRIALS_AND_SPECTRAL_DF.apply(lambda x: utilities.helper.filter_by_timestamp_range(start=x[\"baseline_start_timestamp\"], stop=x[\"post_trial_end_timestamp\"], timestamps=x[\"granger_timestamps\"], items=x[col])[0], axis=1)"
   ]
  },
  {
   "cell_type": "code",
   "execution_count": 68,
   "metadata": {
    "tags": []
   },
   "outputs": [],
   "source": [
    "TRIALS_AND_SPECTRAL_DF = TRIALS_AND_SPECTRAL_DF.drop(columns=granger_columns + [\"granger_timestamps\"], errors=\"ignore\")"
   ]
  },
  {
   "cell_type": "code",
   "execution_count": 69,
   "metadata": {},
   "outputs": [],
   "source": [
    "TRIALS_AND_SPECTRAL_DF.to_pickle(os.path.join(OUTPUT_DIR, FULL_LFP_TRACES_PKL))"
   ]
  },
  {
   "cell_type": "markdown",
   "metadata": {},
   "source": [
    "- Filtering power"
   ]
  },
  {
   "cell_type": "code",
   "execution_count": 70,
   "metadata": {},
   "outputs": [
    {
     "data": {
      "text/html": [
       "<div>\n",
       "<style scoped>\n",
       "    .dataframe tbody tr th:only-of-type {\n",
       "        vertical-align: middle;\n",
       "    }\n",
       "\n",
       "    .dataframe tbody tr th {\n",
       "        vertical-align: top;\n",
       "    }\n",
       "\n",
       "    .dataframe thead th {\n",
       "        text-align: right;\n",
       "    }\n",
       "</style>\n",
       "<table border=\"1\" class=\"dataframe\">\n",
       "  <thead>\n",
       "    <tr style=\"text-align: right;\">\n",
       "      <th></th>\n",
       "      <th>session_dir</th>\n",
       "      <th>tone_start_frame</th>\n",
       "      <th>reward_start</th>\n",
       "      <th>reward_dispensed</th>\n",
       "      <th>tone_stop_frame</th>\n",
       "      <th>condition</th>\n",
       "      <th>competition_closeness</th>\n",
       "      <th>get_reward_frame</th>\n",
       "      <th>out_reward_frame</th>\n",
       "      <th>notes</th>\n",
       "      <th>...</th>\n",
       "      <th>pre_and_post_vHPC-to-LH_granger_gamma</th>\n",
       "      <th>pre_and_post_vHPC-to-LH_granger_theta</th>\n",
       "      <th>pre_and_post_vHPC-to-MD_granger_gamma</th>\n",
       "      <th>pre_and_post_vHPC-to-MD_granger_theta</th>\n",
       "      <th>pre_and_post_vHPC-to-mPFC_granger_gamma</th>\n",
       "      <th>pre_and_post_vHPC-to-mPFC_granger_theta</th>\n",
       "      <th>pre_and_post_vHPC_BLA_granger_all_frequencies_all_windows</th>\n",
       "      <th>pre_and_post_vHPC_LH_granger_all_frequencies_all_windows</th>\n",
       "      <th>pre_and_post_vHPC_MD_granger_all_frequencies_all_windows</th>\n",
       "      <th>pre_and_post_vHPC_mPFC_granger_all_frequencies_all_windows</th>\n",
       "    </tr>\n",
       "  </thead>\n",
       "  <tbody>\n",
       "    <tr>\n",
       "      <th>0</th>\n",
       "      <td>20240320_171038_alone_comp_subj_4-2_and_4-3</td>\n",
       "      <td>34242.0</td>\n",
       "      <td>34322</td>\n",
       "      <td>34342.0</td>\n",
       "      <td>34442.0</td>\n",
       "      <td>4.3</td>\n",
       "      <td>After trial</td>\n",
       "      <td>NaN</td>\n",
       "      <td>NaN</td>\n",
       "      <td>NaN</td>\n",
       "      <td>...</td>\n",
       "      <td>[0.29341307, 0.25543022, 0.4201393, 0.23980951...</td>\n",
       "      <td>[0.36782616, 0.11848986, 0.26258618, 0.3678115...</td>\n",
       "      <td>[0.23130372, 0.34455413, 0.32136595, 0.1711519...</td>\n",
       "      <td>[0.3305366, 0.1900366, 0.5451826, 0.35900232, ...</td>\n",
       "      <td>[0.18996, 0.2313756, 0.45686305, 0.1539646, 0....</td>\n",
       "      <td>[0.24734256, 0.11689982, 0.43787938, 0.2189229...</td>\n",
       "      <td>[[0.7969552, 0.896725, 0.08472422, 0.22447705,...</td>\n",
       "      <td>[[0.11179353, 0.2347677, 0.5620465, 0.19969913...</td>\n",
       "      <td>[[1.2762377, 1.2222601, 0.035040043, 0.5407100...</td>\n",
       "      <td>[[0.01619947, 0.124842755, 0.4138201, 0.149170...</td>\n",
       "    </tr>\n",
       "    <tr>\n",
       "      <th>1</th>\n",
       "      <td>20240320_171038_alone_comp_subj_4-2_and_4-3</td>\n",
       "      <td>34242.0</td>\n",
       "      <td>34322</td>\n",
       "      <td>34342.0</td>\n",
       "      <td>34442.0</td>\n",
       "      <td>4.3</td>\n",
       "      <td>After trial</td>\n",
       "      <td>NaN</td>\n",
       "      <td>NaN</td>\n",
       "      <td>NaN</td>\n",
       "      <td>...</td>\n",
       "      <td>[0.5062664, 0.6013324, 0.28935644, 0.28739107,...</td>\n",
       "      <td>[0.36696273, 0.6597051, 0.19064282, 0.39824545...</td>\n",
       "      <td>[0.58782995, 0.46289966, 0.17136228, 0.1721866...</td>\n",
       "      <td>[0.23794852, 0.19862981, 0.11563269, 0.3981060...</td>\n",
       "      <td>[0.38799196, 0.29099765, 0.1223909, 0.21023442...</td>\n",
       "      <td>[0.4256485, 0.17132095, 0.3653476, 0.7137943, ...</td>\n",
       "      <td>[[0.01593203, 0.50195557, 0.22257225, 1.051627...</td>\n",
       "      <td>[[0.030171767, 0.51494586, 0.05360611, 0.49936...</td>\n",
       "      <td>[[1.6665556, 0.20019405, 0.11537983, 0.0011932...</td>\n",
       "      <td>[[0.0009881377, 0.9771604, 0.574515, 0.2478132...</td>\n",
       "    </tr>\n",
       "    <tr>\n",
       "      <th>2</th>\n",
       "      <td>20240320_171038_alone_comp_subj_4-2_and_4-3</td>\n",
       "      <td>35241.0</td>\n",
       "      <td>35321</td>\n",
       "      <td>35341.0</td>\n",
       "      <td>35439.0</td>\n",
       "      <td>4.3</td>\n",
       "      <td>Subj 2 Only</td>\n",
       "      <td>NaN</td>\n",
       "      <td>NaN</td>\n",
       "      <td>NaN</td>\n",
       "      <td>...</td>\n",
       "      <td>[0.23565084, 0.29949525, 0.40756822, 0.3720342...</td>\n",
       "      <td>[0.29373866, 0.19913526, 0.1664011, 0.17306124...</td>\n",
       "      <td>[0.29494444, 0.33364385, 0.43299717, 0.3429591...</td>\n",
       "      <td>[0.3036561, 0.25521982, 0.21036552, 0.2728724,...</td>\n",
       "      <td>[0.19576988, 0.21245046, 0.26954073, 0.1542914...</td>\n",
       "      <td>[0.26033425, 0.35530025, 0.075279415, 0.164272...</td>\n",
       "      <td>[[0.0015281317, 0.05445077, 0.4672157, 0.14554...</td>\n",
       "      <td>[[0.2036718, 0.031650987, 0.44773144, 0.328611...</td>\n",
       "      <td>[[0.66735643, 0.22344528, 0.23367827, 0.264800...</td>\n",
       "      <td>[[3.2664258, 1.0008569, 0.2694132, 0.08409576,...</td>\n",
       "    </tr>\n",
       "    <tr>\n",
       "      <th>3</th>\n",
       "      <td>20240320_171038_alone_comp_subj_4-2_and_4-3</td>\n",
       "      <td>35241.0</td>\n",
       "      <td>35321</td>\n",
       "      <td>35341.0</td>\n",
       "      <td>35439.0</td>\n",
       "      <td>4.3</td>\n",
       "      <td>Subj 2 Only</td>\n",
       "      <td>NaN</td>\n",
       "      <td>NaN</td>\n",
       "      <td>NaN</td>\n",
       "      <td>...</td>\n",
       "      <td>[0.069989085, 0.23998056, 0.29364488, 0.182408...</td>\n",
       "      <td>[0.19689235, 0.12293133, 0.18649417, 0.255562,...</td>\n",
       "      <td>[0.21834221, 0.20445994, 0.22933356, 0.2893294...</td>\n",
       "      <td>[0.24399506, 0.21722521, 0.40527433, 0.4494708...</td>\n",
       "      <td>[nan, nan, 0.27557155, 0.18831533, 0.22206363,...</td>\n",
       "      <td>[nan, nan, 0.19225794, 0.17318204, 0.4158725, ...</td>\n",
       "      <td>[[1.3576767, 0.18696061, 0.53456825, 0.6180225...</td>\n",
       "      <td>[[0.021285018, 0.2659307, 0.62544596, 0.100141...</td>\n",
       "      <td>[[2.6762187, 0.359536, 0.591506, 0.23778938, 0...</td>\n",
       "      <td>[[nan, nan, nan, nan, nan, nan, nan, nan, nan,...</td>\n",
       "    </tr>\n",
       "    <tr>\n",
       "      <th>4</th>\n",
       "      <td>20240320_171038_alone_comp_subj_4-2_and_4-3</td>\n",
       "      <td>36339.0</td>\n",
       "      <td>36419</td>\n",
       "      <td>36439.0</td>\n",
       "      <td>36538.0</td>\n",
       "      <td>4.3</td>\n",
       "      <td>Subj 2 blocking Subj 1</td>\n",
       "      <td>NaN</td>\n",
       "      <td>NaN</td>\n",
       "      <td>NaN</td>\n",
       "      <td>...</td>\n",
       "      <td>[0.3760613, 0.28269434, 0.31337386, 0.23031126...</td>\n",
       "      <td>[0.09998439, 0.92171395, 1.0438794, 0.19538805...</td>\n",
       "      <td>[0.31572416, 0.1987081, 0.18472315, 0.15923928...</td>\n",
       "      <td>[0.23193137, 0.7758891, 0.39863747, 0.43584633...</td>\n",
       "      <td>[0.43207794, 0.22308315, 0.27651992, 0.0629055...</td>\n",
       "      <td>[0.29729372, 0.37963903, 0.27517694, 0.3632434...</td>\n",
       "      <td>[[0.74546915, 0.22318698, 0.009117729, 0.07482...</td>\n",
       "      <td>[[1.2072806, 0.22529954, 0.022428008, 0.122314...</td>\n",
       "      <td>[[0.9502404, 0.2883093, 0.040734246, 0.3167789...</td>\n",
       "      <td>[[1.5025154, 0.13349208, 0.04087703, 0.0351425...</td>\n",
       "    </tr>\n",
       "  </tbody>\n",
       "</table>\n",
       "<p>5 rows × 232 columns</p>\n",
       "</div>"
      ],
      "text/plain": [
       "                                   session_dir  tone_start_frame  \\\n",
       "0  20240320_171038_alone_comp_subj_4-2_and_4-3           34242.0   \n",
       "1  20240320_171038_alone_comp_subj_4-2_and_4-3           34242.0   \n",
       "2  20240320_171038_alone_comp_subj_4-2_and_4-3           35241.0   \n",
       "3  20240320_171038_alone_comp_subj_4-2_and_4-3           35241.0   \n",
       "4  20240320_171038_alone_comp_subj_4-2_and_4-3           36339.0   \n",
       "\n",
       "   reward_start  reward_dispensed  tone_stop_frame condition   \\\n",
       "0         34322           34342.0          34442.0        4.3   \n",
       "1         34322           34342.0          34442.0        4.3   \n",
       "2         35321           35341.0          35439.0        4.3   \n",
       "3         35321           35341.0          35439.0        4.3   \n",
       "4         36419           36439.0          36538.0        4.3   \n",
       "\n",
       "    competition_closeness  get_reward_frame  out_reward_frame notes  ...  \\\n",
       "0             After trial               NaN               NaN   NaN  ...   \n",
       "1             After trial               NaN               NaN   NaN  ...   \n",
       "2             Subj 2 Only               NaN               NaN   NaN  ...   \n",
       "3             Subj 2 Only               NaN               NaN   NaN  ...   \n",
       "4  Subj 2 blocking Subj 1               NaN               NaN   NaN  ...   \n",
       "\n",
       "               pre_and_post_vHPC-to-LH_granger_gamma  \\\n",
       "0  [0.29341307, 0.25543022, 0.4201393, 0.23980951...   \n",
       "1  [0.5062664, 0.6013324, 0.28935644, 0.28739107,...   \n",
       "2  [0.23565084, 0.29949525, 0.40756822, 0.3720342...   \n",
       "3  [0.069989085, 0.23998056, 0.29364488, 0.182408...   \n",
       "4  [0.3760613, 0.28269434, 0.31337386, 0.23031126...   \n",
       "\n",
       "               pre_and_post_vHPC-to-LH_granger_theta  \\\n",
       "0  [0.36782616, 0.11848986, 0.26258618, 0.3678115...   \n",
       "1  [0.36696273, 0.6597051, 0.19064282, 0.39824545...   \n",
       "2  [0.29373866, 0.19913526, 0.1664011, 0.17306124...   \n",
       "3  [0.19689235, 0.12293133, 0.18649417, 0.255562,...   \n",
       "4  [0.09998439, 0.92171395, 1.0438794, 0.19538805...   \n",
       "\n",
       "               pre_and_post_vHPC-to-MD_granger_gamma  \\\n",
       "0  [0.23130372, 0.34455413, 0.32136595, 0.1711519...   \n",
       "1  [0.58782995, 0.46289966, 0.17136228, 0.1721866...   \n",
       "2  [0.29494444, 0.33364385, 0.43299717, 0.3429591...   \n",
       "3  [0.21834221, 0.20445994, 0.22933356, 0.2893294...   \n",
       "4  [0.31572416, 0.1987081, 0.18472315, 0.15923928...   \n",
       "\n",
       "               pre_and_post_vHPC-to-MD_granger_theta  \\\n",
       "0  [0.3305366, 0.1900366, 0.5451826, 0.35900232, ...   \n",
       "1  [0.23794852, 0.19862981, 0.11563269, 0.3981060...   \n",
       "2  [0.3036561, 0.25521982, 0.21036552, 0.2728724,...   \n",
       "3  [0.24399506, 0.21722521, 0.40527433, 0.4494708...   \n",
       "4  [0.23193137, 0.7758891, 0.39863747, 0.43584633...   \n",
       "\n",
       "             pre_and_post_vHPC-to-mPFC_granger_gamma  \\\n",
       "0  [0.18996, 0.2313756, 0.45686305, 0.1539646, 0....   \n",
       "1  [0.38799196, 0.29099765, 0.1223909, 0.21023442...   \n",
       "2  [0.19576988, 0.21245046, 0.26954073, 0.1542914...   \n",
       "3  [nan, nan, 0.27557155, 0.18831533, 0.22206363,...   \n",
       "4  [0.43207794, 0.22308315, 0.27651992, 0.0629055...   \n",
       "\n",
       "             pre_and_post_vHPC-to-mPFC_granger_theta  \\\n",
       "0  [0.24734256, 0.11689982, 0.43787938, 0.2189229...   \n",
       "1  [0.4256485, 0.17132095, 0.3653476, 0.7137943, ...   \n",
       "2  [0.26033425, 0.35530025, 0.075279415, 0.164272...   \n",
       "3  [nan, nan, 0.19225794, 0.17318204, 0.4158725, ...   \n",
       "4  [0.29729372, 0.37963903, 0.27517694, 0.3632434...   \n",
       "\n",
       "   pre_and_post_vHPC_BLA_granger_all_frequencies_all_windows  \\\n",
       "0  [[0.7969552, 0.896725, 0.08472422, 0.22447705,...           \n",
       "1  [[0.01593203, 0.50195557, 0.22257225, 1.051627...           \n",
       "2  [[0.0015281317, 0.05445077, 0.4672157, 0.14554...           \n",
       "3  [[1.3576767, 0.18696061, 0.53456825, 0.6180225...           \n",
       "4  [[0.74546915, 0.22318698, 0.009117729, 0.07482...           \n",
       "\n",
       "   pre_and_post_vHPC_LH_granger_all_frequencies_all_windows  \\\n",
       "0  [[0.11179353, 0.2347677, 0.5620465, 0.19969913...          \n",
       "1  [[0.030171767, 0.51494586, 0.05360611, 0.49936...          \n",
       "2  [[0.2036718, 0.031650987, 0.44773144, 0.328611...          \n",
       "3  [[0.021285018, 0.2659307, 0.62544596, 0.100141...          \n",
       "4  [[1.2072806, 0.22529954, 0.022428008, 0.122314...          \n",
       "\n",
       "   pre_and_post_vHPC_MD_granger_all_frequencies_all_windows  \\\n",
       "0  [[1.2762377, 1.2222601, 0.035040043, 0.5407100...          \n",
       "1  [[1.6665556, 0.20019405, 0.11537983, 0.0011932...          \n",
       "2  [[0.66735643, 0.22344528, 0.23367827, 0.264800...          \n",
       "3  [[2.6762187, 0.359536, 0.591506, 0.23778938, 0...          \n",
       "4  [[0.9502404, 0.2883093, 0.040734246, 0.3167789...          \n",
       "\n",
       "  pre_and_post_vHPC_mPFC_granger_all_frequencies_all_windows  \n",
       "0  [[0.01619947, 0.124842755, 0.4138201, 0.149170...          \n",
       "1  [[0.0009881377, 0.9771604, 0.574515, 0.2478132...          \n",
       "2  [[3.2664258, 1.0008569, 0.2694132, 0.08409576,...          \n",
       "3  [[nan, nan, nan, nan, nan, nan, nan, nan, nan,...          \n",
       "4  [[1.5025154, 0.13349208, 0.04087703, 0.0351425...          \n",
       "\n",
       "[5 rows x 232 columns]"
      ]
     },
     "execution_count": 70,
     "metadata": {},
     "output_type": "execute_result"
    }
   ],
   "source": [
    "TRIALS_AND_SPECTRAL_DF.head()"
   ]
  },
  {
   "cell_type": "code",
   "execution_count": 71,
   "metadata": {
    "tags": []
   },
   "outputs": [],
   "source": [
    "power_columns = [col for col in TRIALS_AND_SPECTRAL_DF.columns if \"power\" in col and \"timestamps\" not in col and \"calculation\" not in col]"
   ]
  },
  {
   "cell_type": "code",
   "execution_count": 72,
   "metadata": {
    "tags": []
   },
   "outputs": [
    {
     "data": {
      "text/plain": [
       "['BLA_RMS_filtered_power_all_frequencies_all_windows',\n",
       " 'BLA_RMS_filtered_power_gamma',\n",
       " 'BLA_RMS_filtered_power_theta',\n",
       " 'LH_RMS_filtered_power_all_frequencies_all_windows',\n",
       " 'LH_RMS_filtered_power_gamma',\n",
       " 'LH_RMS_filtered_power_theta',\n",
       " 'MD_RMS_filtered_power_all_frequencies_all_windows',\n",
       " 'MD_RMS_filtered_power_gamma',\n",
       " 'MD_RMS_filtered_power_theta',\n",
       " 'mPFC_RMS_filtered_power_all_frequencies_all_windows',\n",
       " 'mPFC_RMS_filtered_power_gamma',\n",
       " 'mPFC_RMS_filtered_power_theta',\n",
       " 'vHPC_RMS_filtered_power_all_frequencies_all_windows',\n",
       " 'vHPC_RMS_filtered_power_gamma',\n",
       " 'vHPC_RMS_filtered_power_theta']"
      ]
     },
     "execution_count": 72,
     "metadata": {},
     "output_type": "execute_result"
    }
   ],
   "source": [
    "power_columns"
   ]
  },
  {
   "cell_type": "code",
   "execution_count": 73,
   "metadata": {
    "tags": []
   },
   "outputs": [
    {
     "name": "stdout",
     "output_type": "stream",
     "text": [
      "pre_and_post_BLA_RMS_filtered_power_all_frequencies_all_windows\n",
      "pre_and_post_BLA_RMS_filtered_power_gamma\n",
      "pre_and_post_BLA_RMS_filtered_power_theta\n",
      "pre_and_post_LH_RMS_filtered_power_all_frequencies_all_windows\n",
      "pre_and_post_LH_RMS_filtered_power_gamma\n",
      "pre_and_post_LH_RMS_filtered_power_theta\n",
      "pre_and_post_MD_RMS_filtered_power_all_frequencies_all_windows\n",
      "pre_and_post_MD_RMS_filtered_power_gamma\n",
      "pre_and_post_MD_RMS_filtered_power_theta\n",
      "pre_and_post_mPFC_RMS_filtered_power_all_frequencies_all_windows\n",
      "pre_and_post_mPFC_RMS_filtered_power_gamma\n",
      "pre_and_post_mPFC_RMS_filtered_power_theta\n",
      "pre_and_post_vHPC_RMS_filtered_power_all_frequencies_all_windows\n",
      "pre_and_post_vHPC_RMS_filtered_power_gamma\n",
      "pre_and_post_vHPC_RMS_filtered_power_theta\n"
     ]
    }
   ],
   "source": [
    "for col in sorted(power_columns):\n",
    "    updated_item_col = \"pre_and_post_{}\".format(col)\n",
    "    print(updated_item_col)\n",
    "    updated_timestamp_col = \"pre_and_post_video_timestamps\"\n",
    "    TRIALS_AND_SPECTRAL_DF[updated_item_col] = TRIALS_AND_SPECTRAL_DF.apply(lambda x: utilities.helper.filter_by_timestamp_range(start=x[\"baseline_start_timestamp\"], stop=x[\"post_trial_end_timestamp\"], timestamps=x[\"power_timestamps\"], items=x[col])[1], axis=1)\n",
    "\n",
    "TRIALS_AND_SPECTRAL_DF[updated_timestamp_col] = TRIALS_AND_SPECTRAL_DF.apply(lambda x: utilities.helper.filter_by_timestamp_range(start=x[\"baseline_start_timestamp\"], stop=x[\"post_trial_end_timestamp\"], timestamps=x[\"power_timestamps\"], items=x[col])[0], axis=1)\n"
   ]
  },
  {
   "cell_type": "code",
   "execution_count": 75,
   "metadata": {
    "tags": []
   },
   "outputs": [
    {
     "ename": "KeyError",
     "evalue": "'pre_and_post_power_timestamps'",
     "output_type": "error",
     "traceback": [
      "\u001b[0;31m---------------------------------------------------------------------------\u001b[0m",
      "\u001b[0;31mKeyError\u001b[0m                                  Traceback (most recent call last)",
      "File \u001b[0;32m/blue/npadillacoreano/ryoi360/conda/spike_interface_0_100_8/lib/python3.10/site-packages/pandas/core/indexes/base.py:3805\u001b[0m, in \u001b[0;36mIndex.get_loc\u001b[0;34m(self, key)\u001b[0m\n\u001b[1;32m   3804\u001b[0m \u001b[38;5;28;01mtry\u001b[39;00m:\n\u001b[0;32m-> 3805\u001b[0m     \u001b[38;5;28;01mreturn\u001b[39;00m \u001b[38;5;28;43mself\u001b[39;49m\u001b[38;5;241;43m.\u001b[39;49m\u001b[43m_engine\u001b[49m\u001b[38;5;241;43m.\u001b[39;49m\u001b[43mget_loc\u001b[49m\u001b[43m(\u001b[49m\u001b[43mcasted_key\u001b[49m\u001b[43m)\u001b[49m\n\u001b[1;32m   3806\u001b[0m \u001b[38;5;28;01mexcept\u001b[39;00m \u001b[38;5;167;01mKeyError\u001b[39;00m \u001b[38;5;28;01mas\u001b[39;00m err:\n",
      "File \u001b[0;32mindex.pyx:167\u001b[0m, in \u001b[0;36mpandas._libs.index.IndexEngine.get_loc\u001b[0;34m()\u001b[0m\n",
      "File \u001b[0;32mindex.pyx:196\u001b[0m, in \u001b[0;36mpandas._libs.index.IndexEngine.get_loc\u001b[0;34m()\u001b[0m\n",
      "File \u001b[0;32mpandas/_libs/hashtable_class_helper.pxi:7081\u001b[0m, in \u001b[0;36mpandas._libs.hashtable.PyObjectHashTable.get_item\u001b[0;34m()\u001b[0m\n",
      "File \u001b[0;32mpandas/_libs/hashtable_class_helper.pxi:7089\u001b[0m, in \u001b[0;36mpandas._libs.hashtable.PyObjectHashTable.get_item\u001b[0;34m()\u001b[0m\n",
      "\u001b[0;31mKeyError\u001b[0m: 'pre_and_post_power_timestamps'",
      "\nThe above exception was the direct cause of the following exception:\n",
      "\u001b[0;31mKeyError\u001b[0m                                  Traceback (most recent call last)",
      "Cell \u001b[0;32mIn[75], line 1\u001b[0m\n\u001b[0;32m----> 1\u001b[0m \u001b[43mTRIALS_AND_SPECTRAL_DF\u001b[49m\u001b[43m[\u001b[49m\u001b[38;5;124;43m\"\u001b[39;49m\u001b[38;5;124;43mpre_and_post_power_timestamps\u001b[39;49m\u001b[38;5;124;43m\"\u001b[39;49m\u001b[43m]\u001b[49m\n",
      "File \u001b[0;32m/blue/npadillacoreano/ryoi360/conda/spike_interface_0_100_8/lib/python3.10/site-packages/pandas/core/frame.py:4102\u001b[0m, in \u001b[0;36mDataFrame.__getitem__\u001b[0;34m(self, key)\u001b[0m\n\u001b[1;32m   4100\u001b[0m \u001b[38;5;28;01mif\u001b[39;00m \u001b[38;5;28mself\u001b[39m\u001b[38;5;241m.\u001b[39mcolumns\u001b[38;5;241m.\u001b[39mnlevels \u001b[38;5;241m>\u001b[39m \u001b[38;5;241m1\u001b[39m:\n\u001b[1;32m   4101\u001b[0m     \u001b[38;5;28;01mreturn\u001b[39;00m \u001b[38;5;28mself\u001b[39m\u001b[38;5;241m.\u001b[39m_getitem_multilevel(key)\n\u001b[0;32m-> 4102\u001b[0m indexer \u001b[38;5;241m=\u001b[39m \u001b[38;5;28;43mself\u001b[39;49m\u001b[38;5;241;43m.\u001b[39;49m\u001b[43mcolumns\u001b[49m\u001b[38;5;241;43m.\u001b[39;49m\u001b[43mget_loc\u001b[49m\u001b[43m(\u001b[49m\u001b[43mkey\u001b[49m\u001b[43m)\u001b[49m\n\u001b[1;32m   4103\u001b[0m \u001b[38;5;28;01mif\u001b[39;00m is_integer(indexer):\n\u001b[1;32m   4104\u001b[0m     indexer \u001b[38;5;241m=\u001b[39m [indexer]\n",
      "File \u001b[0;32m/blue/npadillacoreano/ryoi360/conda/spike_interface_0_100_8/lib/python3.10/site-packages/pandas/core/indexes/base.py:3812\u001b[0m, in \u001b[0;36mIndex.get_loc\u001b[0;34m(self, key)\u001b[0m\n\u001b[1;32m   3807\u001b[0m     \u001b[38;5;28;01mif\u001b[39;00m \u001b[38;5;28misinstance\u001b[39m(casted_key, \u001b[38;5;28mslice\u001b[39m) \u001b[38;5;129;01mor\u001b[39;00m (\n\u001b[1;32m   3808\u001b[0m         \u001b[38;5;28misinstance\u001b[39m(casted_key, abc\u001b[38;5;241m.\u001b[39mIterable)\n\u001b[1;32m   3809\u001b[0m         \u001b[38;5;129;01mand\u001b[39;00m \u001b[38;5;28many\u001b[39m(\u001b[38;5;28misinstance\u001b[39m(x, \u001b[38;5;28mslice\u001b[39m) \u001b[38;5;28;01mfor\u001b[39;00m x \u001b[38;5;129;01min\u001b[39;00m casted_key)\n\u001b[1;32m   3810\u001b[0m     ):\n\u001b[1;32m   3811\u001b[0m         \u001b[38;5;28;01mraise\u001b[39;00m InvalidIndexError(key)\n\u001b[0;32m-> 3812\u001b[0m     \u001b[38;5;28;01mraise\u001b[39;00m \u001b[38;5;167;01mKeyError\u001b[39;00m(key) \u001b[38;5;28;01mfrom\u001b[39;00m \u001b[38;5;21;01merr\u001b[39;00m\n\u001b[1;32m   3813\u001b[0m \u001b[38;5;28;01mexcept\u001b[39;00m \u001b[38;5;167;01mTypeError\u001b[39;00m:\n\u001b[1;32m   3814\u001b[0m     \u001b[38;5;66;03m# If we have a listlike key, _check_indexing_error will raise\u001b[39;00m\n\u001b[1;32m   3815\u001b[0m     \u001b[38;5;66;03m#  InvalidIndexError. Otherwise we fall through and re-raise\u001b[39;00m\n\u001b[1;32m   3816\u001b[0m     \u001b[38;5;66;03m#  the TypeError.\u001b[39;00m\n\u001b[1;32m   3817\u001b[0m     \u001b[38;5;28mself\u001b[39m\u001b[38;5;241m.\u001b[39m_check_indexing_error(key)\n",
      "\u001b[0;31mKeyError\u001b[0m: 'pre_and_post_power_timestamps'"
     ]
    }
   ],
   "source": [
    "TRIALS_AND_SPECTRAL_DF[\"pre_and_post_power_timestamps\"]"
   ]
  },
  {
   "cell_type": "code",
   "execution_count": null,
   "metadata": {
    "tags": []
   },
   "outputs": [],
   "source": [
    "TRIALS_AND_SPECTRAL_DF = TRIALS_AND_SPECTRAL_DF.drop(columns=power_columns + [\"power_timestamps\"], errors=\"ignore\")"
   ]
  },
  {
   "cell_type": "code",
   "execution_count": null,
   "metadata": {
    "tags": []
   },
   "outputs": [],
   "source": [
    "for col in TRIALS_AND_SPECTRAL_DF:\n",
    "    print(col)"
   ]
  },
  {
   "cell_type": "markdown",
   "metadata": {
    "tags": []
   },
   "source": [
    "# Filtering out phase"
   ]
  },
  {
   "cell_type": "code",
   "execution_count": null,
   "metadata": {
    "tags": []
   },
   "outputs": [],
   "source": [
    "lfp_columns = [col for col in TRIALS_AND_SPECTRAL_DF.columns if \"trace\" in col and \"timestamps\" not in col and \"calculation\" not in col]"
   ]
  },
  {
   "cell_type": "code",
   "execution_count": null,
   "metadata": {
    "tags": []
   },
   "outputs": [],
   "source": [
    "band_columns = [col for col in TRIALS_AND_SPECTRAL_DF.columns if \"band\" in col and \"timestamps\" not in col and \"calculation\" not in col]"
   ]
  },
  {
   "cell_type": "code",
   "execution_count": null,
   "metadata": {
    "tags": []
   },
   "outputs": [],
   "source": [
    "phase_columns = [col for col in TRIALS_AND_SPECTRAL_DF.columns if \"phase\" in col and \"timestamps\" not in col and \"calculation\" not in col]"
   ]
  },
  {
   "cell_type": "code",
   "execution_count": null,
   "metadata": {
    "tags": []
   },
   "outputs": [],
   "source": [
    "phase_columns = phase_columns + band_columns +lfp_columns"
   ]
  },
  {
   "cell_type": "code",
   "execution_count": null,
   "metadata": {
    "tags": []
   },
   "outputs": [],
   "source": [
    "phase_columns"
   ]
  },
  {
   "cell_type": "code",
   "execution_count": null,
   "metadata": {
    "tags": []
   },
   "outputs": [],
   "source": [
    "for col in phase_columns:\n",
    "    brain_region = col.replace(\"all_windows\", \"_\").strip(\"_\")\n",
    "    print(brain_region)\n",
    "    \n",
    "    updated_item_col = \"baseline_{}\".format(brain_region)\n",
    "    updated_timestamp_col = \"baseline_lfp_timestamps\".format(brain_region)\n",
    "    TRIALS_AND_SPECTRAL_DF[updated_item_col] = TRIALS_AND_SPECTRAL_DF.apply(lambda x: utilities.helper.filter_by_timestamp_range(start=x[\"baseline_start_timestamp\"], stop=x[\"baseline_stop_timestamp\"], timestamps=x[\"lfp_timestamps\"], items=x[col])[1], axis=1)\n",
    "TRIALS_AND_SPECTRAL_DF[updated_timestamp_col] = TRIALS_AND_SPECTRAL_DF.apply(lambda x: utilities.helper.filter_by_timestamp_range(start=x[\"baseline_start_timestamp\"], stop=x[\"baseline_stop_timestamp\"], timestamps=x[\"lfp_timestamps\"], items=x[col])[0], axis=1)"
   ]
  },
  {
   "cell_type": "code",
   "execution_count": null,
   "metadata": {
    "tags": []
   },
   "outputs": [],
   "source": [
    "for col in phase_columns:\n",
    "    brain_region = col.replace(\"all_windows\", \"_\").strip(\"_\")\n",
    "    print(brain_region)\n",
    "    \n",
    "    updated_item_col = \"trial_{}\".format(brain_region)\n",
    "    updated_timestamp_col = \"trial_lfp_timestamps\".format(brain_region)\n",
    "    TRIALS_AND_SPECTRAL_DF[updated_item_col] = TRIALS_AND_SPECTRAL_DF.apply(lambda x: utilities.helper.filter_by_timestamp_range(start=x[\"tone_start_timestamp\"], stop=x[\"tone_stop_timestamp\"], timestamps=x[\"lfp_timestamps\"], items=x[col])[1], axis=1)\n",
    "TRIALS_AND_SPECTRAL_DF[updated_timestamp_col] = TRIALS_AND_SPECTRAL_DF.apply(lambda x: utilities.helper.filter_by_timestamp_range(start=x[\"tone_start_timestamp\"], stop=x[\"tone_stop_timestamp\"], timestamps=x[\"lfp_timestamps\"], items=x[col])[0], axis=1)"
   ]
  },
  {
   "cell_type": "code",
   "execution_count": null,
   "metadata": {
    "tags": []
   },
   "outputs": [],
   "source": [
    "TRIALS_AND_SPECTRAL_DF[\"baseline_lfp_timestamps\"]"
   ]
  },
  {
   "cell_type": "code",
   "execution_count": null,
   "metadata": {
    "tags": []
   },
   "outputs": [],
   "source": [
    "TRIALS_AND_SPECTRAL_DF = TRIALS_AND_SPECTRAL_DF.drop(columns=phase_columns + [\"lfp_timestamps\"], errors=\"ignore\")"
   ]
  },
  {
   "cell_type": "code",
   "execution_count": null,
   "metadata": {
    "tags": []
   },
   "outputs": [],
   "source": [
    "TRIALS_AND_SPECTRAL_DF.to_pickle(os.path.join(OUTPUT_DIR, FULL_LFP_TRACES_PKL))"
   ]
  },
  {
   "cell_type": "code",
   "execution_count": null,
   "metadata": {
    "tags": []
   },
   "outputs": [],
   "source": [
    "for col in TRIALS_AND_SPECTRAL_DF:\n",
    "    print(col)"
   ]
  },
  {
   "cell_type": "markdown",
   "metadata": {},
   "source": [
    "# Filtering out spikes"
   ]
  },
  {
   "cell_type": "code",
   "execution_count": null,
   "metadata": {
    "tags": []
   },
   "outputs": [],
   "source": [
    "raise ValueError()"
   ]
  },
  {
   "cell_type": "code",
   "execution_count": null,
   "metadata": {
    "tags": []
   },
   "outputs": [],
   "source": [
    "TRIALS_AND_SPECTRAL_DF[\"baseline_spike_times\"] = TRIALS_AND_SPECTRAL_DF.apply(lambda x: filter_spike_times(x[\"spike_times\"], start=x[\"baseline_start_timestamp\"], stop=x[\"baseline_stop_timestamp\"]).astype(int), axis=1)\n"
   ]
  },
  {
   "cell_type": "code",
   "execution_count": null,
   "metadata": {
    "tags": []
   },
   "outputs": [],
   "source": [
    "TRIALS_AND_SPECTRAL_DF[\"trial_spike_times\"] = TRIALS_AND_SPECTRAL_DF.apply(lambda x: filter_spike_times(x[\"spike_times\"], start=x[\"tone_start_timestamp\"], stop=x[\"tone_stop_timestamp\"]).astype(int), axis=1)\n"
   ]
  },
  {
   "cell_type": "code",
   "execution_count": null,
   "metadata": {
    "tags": []
   },
   "outputs": [],
   "source": [
    "TRIALS_AND_SPECTRAL_DF[\"baseline_start_timestamp\"].head()"
   ]
  },
  {
   "cell_type": "code",
   "execution_count": null,
   "metadata": {
    "tags": []
   },
   "outputs": [],
   "source": [
    "TRIALS_AND_SPECTRAL_DF[\"baseline_stop_timestamp\"].head()"
   ]
  },
  {
   "cell_type": "code",
   "execution_count": null,
   "metadata": {
    "tags": []
   },
   "outputs": [],
   "source": [
    "TRIALS_AND_SPECTRAL_DF[\"baseline_spike_times\"].iloc[0]"
   ]
  },
  {
   "cell_type": "code",
   "execution_count": null,
   "metadata": {
    "tags": []
   },
   "outputs": [],
   "source": [
    "TRIALS_AND_SPECTRAL_DF[\"baseline_neuron_average_fr\"] = TRIALS_AND_SPECTRAL_DF.apply(lambda x: utilities.helper.filter_by_timestamp_range(start=x[\"baseline_start_timestamp\"], stop=x[\"baseline_stop_timestamp\"], timestamps=x[\"neuron_average_timestamps\"], items=x[\"neuron_average_fr\"].T)[1], axis=1)\n",
    "TRIALS_AND_SPECTRAL_DF[\"baseline_neuron_average_timestamp\"] = TRIALS_AND_SPECTRAL_DF.apply(lambda x: utilities.helper.filter_by_timestamp_range(start=x[\"baseline_start_timestamp\"], stop=x[\"baseline_stop_timestamp\"], timestamps=x[\"neuron_average_timestamps\"], items=x[\"neuron_average_fr\"].T)[0], axis=1)"
   ]
  },
  {
   "cell_type": "code",
   "execution_count": null,
   "metadata": {
    "tags": []
   },
   "outputs": [],
   "source": [
    "TRIALS_AND_SPECTRAL_DF[\"trial_neuron_average_fr\"] = TRIALS_AND_SPECTRAL_DF.apply(lambda x: utilities.helper.filter_by_timestamp_range(start=x[\"tone_start_timestamp\"], stop=x[\"tone_stop_timestamp\"], timestamps=x[\"neuron_average_timestamps\"], items=x[\"neuron_average_fr\"].T)[1].T, axis=1)\n",
    "TRIALS_AND_SPECTRAL_DF[\"trial_neuron_average_timestamp\"] = TRIALS_AND_SPECTRAL_DF.apply(lambda x: utilities.helper.filter_by_timestamp_range(start=x[\"tone_start_timestamp\"], stop=x[\"tone_stop_timestamp\"], timestamps=x[\"neuron_average_timestamps\"], items=x[\"neuron_average_fr\"].T)[0], axis=1)"
   ]
  },
  {
   "cell_type": "code",
   "execution_count": null,
   "metadata": {
    "tags": []
   },
   "outputs": [],
   "source": [
    "TRIALS_AND_SPECTRAL_DF = TRIALS_AND_SPECTRAL_DF.drop(columns=[\"spike_clusters\", \"spike_times\", \"neuron_average_fr\", \"neuron_average_timestamps\",], errors=\"ignore\")"
   ]
  },
  {
   "cell_type": "code",
   "execution_count": null,
   "metadata": {
    "tags": []
   },
   "outputs": [],
   "source": [
    "TRIALS_AND_SPECTRAL_DF[\"trial_neuron_average_fr\"].iloc[0].shape"
   ]
  },
  {
   "cell_type": "code",
   "execution_count": null,
   "metadata": {
    "tags": []
   },
   "outputs": [],
   "source": [
    "TRIALS_AND_SPECTRAL_DF[\"trial_neuron_average_timestamp\"].iloc[0].shape"
   ]
  },
  {
   "cell_type": "markdown",
   "metadata": {},
   "source": [
    "# Filtering for rows that are in the video"
   ]
  },
  {
   "cell_type": "code",
   "execution_count": null,
   "metadata": {
    "tags": []
   },
   "outputs": [],
   "source": [
    "TRIALS_AND_SPECTRAL_DF[\"in_video\"] = TRIALS_AND_SPECTRAL_DF.apply(lambda x: x[\"start_frame\"] <= x[\"trial_video_frame\"][0] <= x[\"stop_frame\"], axis=1)"
   ]
  },
  {
   "cell_type": "code",
   "execution_count": null,
   "metadata": {
    "tags": []
   },
   "outputs": [],
   "source": [
    "TRIALS_AND_SPECTRAL_DF = TRIALS_AND_SPECTRAL_DF[TRIALS_AND_SPECTRAL_DF[\"in_video\"]].reset_index()"
   ]
  },
  {
   "cell_type": "code",
   "execution_count": null,
   "metadata": {
    "tags": []
   },
   "outputs": [],
   "source": [
    "TRIALS_AND_SPECTRAL_DF"
   ]
  },
  {
   "cell_type": "code",
   "execution_count": null,
   "metadata": {
    "tags": []
   },
   "outputs": [],
   "source": [
    "TRIALS_AND_SPECTRAL_DF.to_pickle(os.path.join(OUTPUT_DIR, FULL_LFP_TRACES_PKL))"
   ]
  },
  {
   "cell_type": "code",
   "execution_count": null,
   "metadata": {},
   "outputs": [],
   "source": [
    "raise ValueError()"
   ]
  },
  {
   "cell_type": "code",
   "execution_count": null,
   "metadata": {},
   "outputs": [],
   "source": []
  }
 ],
 "metadata": {
  "deepnote": {},
  "deepnote_execution_queue": [],
  "deepnote_notebook_id": "cf8fe3695d074ee7887fdf6459cbf5ce",
  "kernelspec": {
   "display_name": "spike_interface_0_100_8",
   "language": "python",
   "name": "spike_interface_0_100_8"
  },
  "language_info": {
   "codemirror_mode": {
    "name": "ipython",
    "version": 3
   },
   "file_extension": ".py",
   "mimetype": "text/x-python",
   "name": "python",
   "nbconvert_exporter": "python",
   "pygments_lexer": "ipython3",
   "version": "3.10.14"
  }
 },
 "nbformat": 4,
 "nbformat_minor": 4
}
