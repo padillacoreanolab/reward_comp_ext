{
 "cells": [
  {
   "cell_type": "markdown",
   "metadata": {
    "cell_id": "c3a02adc9e884466bc8c79db549cc3d2",
    "deepnote_cell_type": "text-cell-h1",
    "formattedRanges": [
     {
      "fromCodePoint": 0,
      "marks": {
       "bold": true,
       "underline": true
      },
      "toCodePoint": 17,
      "type": "marks"
     }
    ]
   },
   "source": [
    "# All oscillation analysis"
   ]
  },
  {
   "cell_type": "markdown",
   "metadata": {
    "cell_id": "4546bee655b14a5dbf393161f1228e60",
    "deepnote_cell_type": "text-cell-p",
    "formattedRanges": []
   },
   "source": [
    "Brief 1-2 sentence description of notebook."
   ]
  },
  {
   "cell_type": "code",
   "execution_count": 1,
   "metadata": {
    "tags": []
   },
   "outputs": [],
   "source": [
    "# Imports of all used packages and libraries\n",
    "import sys\n",
    "import os\n",
    "import git\n",
    "import glob\n",
    "from collections import defaultdict"
   ]
  },
  {
   "cell_type": "code",
   "execution_count": 2,
   "metadata": {
    "tags": []
   },
   "outputs": [],
   "source": [
    "git_repo = git.Repo(\".\", search_parent_directories=True)\n",
    "git_root = git_repo.git.rev_parse(\"--show-toplevel\")"
   ]
  },
  {
   "cell_type": "code",
   "execution_count": 3,
   "metadata": {
    "tags": []
   },
   "outputs": [
    {
     "data": {
      "text/plain": [
       "'/blue/npadillacoreano/ryoi360/projects/reward_comp/repos/reward_comp_ext'"
      ]
     },
     "execution_count": 3,
     "metadata": {},
     "output_type": "execute_result"
    }
   ],
   "source": [
    "git_root"
   ]
  },
  {
   "cell_type": "code",
   "execution_count": 4,
   "metadata": {
    "tags": []
   },
   "outputs": [],
   "source": [
    "sys.path.insert(0, os.path.join(git_root, 'src'))"
   ]
  },
  {
   "cell_type": "code",
   "execution_count": 5,
   "metadata": {
    "tags": []
   },
   "outputs": [],
   "source": [
    "import warnings\n",
    "warnings.filterwarnings('ignore')"
   ]
  },
  {
   "cell_type": "code",
   "execution_count": 6,
   "metadata": {
    "tags": []
   },
   "outputs": [],
   "source": [
    "import os\n",
    "import collections\n",
    "import itertools\n",
    "from collections import defaultdict\n",
    "from itertools import combinations"
   ]
  },
  {
   "cell_type": "raw",
   "metadata": {},
   "source": [
    "os.environ[\"SPECTRAL_CONNECTIVITY_ENABLE_GPU\"] = \"true\"\n",
    "import cupy as cp"
   ]
  },
  {
   "cell_type": "code",
   "execution_count": 7,
   "metadata": {
    "cell_id": "03b495cefa6a4798a44c7f2e4c6a3ea7",
    "deepnote_cell_type": "code",
    "deepnote_to_be_reexecuted": false,
    "execution_millis": 21,
    "execution_start": 1691424003626,
    "source_hash": null,
    "tags": []
   },
   "outputs": [],
   "source": [
    "# Imports of all used packages and libraries\n",
    "import numpy as np\n",
    "import pandas as pd\n",
    "from scipy import stats\n",
    "from scipy.stats import mannwhitneyu\n"
   ]
  },
  {
   "cell_type": "code",
   "execution_count": 8,
   "metadata": {
    "tags": []
   },
   "outputs": [],
   "source": [
    "import matplotlib\n",
    "import matplotlib.colors as mcolors\n",
    "import matplotlib.pyplot as plt\n",
    "import matplotlib.cm as cm\n",
    "import colorsys"
   ]
  },
  {
   "cell_type": "code",
   "execution_count": 9,
   "metadata": {
    "tags": []
   },
   "outputs": [],
   "source": [
    "from sklearn.metrics import confusion_matrix"
   ]
  },
  {
   "cell_type": "code",
   "execution_count": 10,
   "metadata": {
    "tags": []
   },
   "outputs": [],
   "source": [
    "from spectral_connectivity import Multitaper, Connectivity\n",
    "import spectral_connectivity"
   ]
  },
  {
   "cell_type": "code",
   "execution_count": 11,
   "metadata": {
    "tags": []
   },
   "outputs": [],
   "source": [
    "import utilities.helper\n",
    "import trodes.read_exported"
   ]
  },
  {
   "cell_type": "code",
   "execution_count": 12,
   "metadata": {
    "tags": []
   },
   "outputs": [],
   "source": [
    "FONTSIZE = 20"
   ]
  },
  {
   "cell_type": "code",
   "execution_count": 13,
   "metadata": {
    "tags": []
   },
   "outputs": [],
   "source": [
    "font = {'weight' : 'medium',\n",
    "        'size'   : 20}\n",
    "\n",
    "matplotlib.rc('font', **font)"
   ]
  },
  {
   "cell_type": "markdown",
   "metadata": {
    "cell_id": "d290bac2c17940bfbc0f9296beaf70e5",
    "deepnote_cell_type": "text-cell-h2",
    "formattedRanges": []
   },
   "source": [
    "## Inputs & Data"
   ]
  },
  {
   "cell_type": "code",
   "execution_count": 14,
   "metadata": {
    "tags": []
   },
   "outputs": [],
   "source": [
    "EPHYS_SAMPLE_RATE = 20000"
   ]
  },
  {
   "cell_type": "markdown",
   "metadata": {
    "cell_id": "e528ce19c608425292151930d380f49f",
    "deepnote_cell_type": "text-cell-p",
    "formattedRanges": []
   },
   "source": [
    "Explanation of each input and where it comes from."
   ]
  },
  {
   "cell_type": "code",
   "execution_count": 15,
   "metadata": {
    "cell_id": "6cf83a5811054461a718a71673d09aab",
    "deepnote_cell_type": "code",
    "deepnote_to_be_reexecuted": false,
    "execution_millis": 373,
    "execution_start": 1691424003628,
    "source_hash": null,
    "tags": []
   },
   "outputs": [],
   "source": [
    "# Inputs and Required data loading\n",
    "# input varaible names are in all caps snake case\n",
    "# Whenever an input changes or is used for processing \n",
    "# the vairables are all lower in snake case\n",
    "OUTPUT_DIR = r\"./proc/\" # where data is saved should always be shown in the inputs\n",
    "os.makedirs(OUTPUT_DIR, exist_ok=True)\n",
    "OUTPUT_PREFIX = \"rce_pilot_3_alone_comp\""
   ]
  },
  {
   "cell_type": "code",
   "execution_count": 16,
   "metadata": {
    "tags": []
   },
   "outputs": [],
   "source": [
    "# TRIAL_LABELS_DF = pd.read_excel(\"/blue/npadillacoreano/ryoi360/projects/reward_comp/repos/reward_comp_ext/results/2024_06_26_sleap_clustering/data/rce_pilot_3_alone_comp_per_video_trial_labels.xlsx\")\n",
    "TRIAL_LABELS_DF = pd.read_excel(\"../../data/sleap_id_corrected/rce_pilot_3_alone_comp_per_video_trial_labels.xlsx\")"
   ]
  },
  {
   "cell_type": "raw",
   "metadata": {
    "tags": []
   },
   "source": [
    "LFP_SPECTRAL_DF = pd.read_pickle(\"./proc/rce_pilot_2_03_spectral_bands.pkl\")"
   ]
  },
  {
   "cell_type": "code",
   "execution_count": 17,
   "metadata": {
    "tags": []
   },
   "outputs": [],
   "source": [
    "LFP_SPECTRAL_DF = pd.read_pickle(\"./proc/{}_04_spectral_and_sleap.pkl\".format(OUTPUT_PREFIX))"
   ]
  },
  {
   "cell_type": "code",
   "execution_count": 18,
   "metadata": {
    "tags": []
   },
   "outputs": [],
   "source": [
    "FULL_LFP_TRACES_PKL = \"{}_10_per_trial_spectral_bans_sleap.pkl\".format(OUTPUT_PREFIX)"
   ]
  },
  {
   "cell_type": "markdown",
   "metadata": {
    "cell_id": "e3ee4891d43a4ac287413afc552ca289",
    "deepnote_cell_type": "text-cell-h2",
    "formattedRanges": []
   },
   "source": [
    "## Outputs"
   ]
  },
  {
   "cell_type": "markdown",
   "metadata": {
    "cell_id": "9ccbf6cc70fd4d379fa29317f733771f",
    "deepnote_cell_type": "text-cell-p",
    "formattedRanges": []
   },
   "source": [
    "Describe each output that the notebook creates. "
   ]
  },
  {
   "cell_type": "markdown",
   "metadata": {
    "cell_id": "fc8e8920a6944918a15fac575cdf6e78",
    "deepnote_cell_type": "text-cell-bullet",
    "formattedRanges": []
   },
   "source": [
    "- Is it a plot or is it data?"
   ]
  },
  {
   "cell_type": "markdown",
   "metadata": {
    "cell_id": "1e639d4776a84aa9ac8ded2e14fa57db",
    "deepnote_cell_type": "text-cell-bullet",
    "formattedRanges": []
   },
   "source": [
    "- How valuable is the output and why is it valuable or useful?"
   ]
  },
  {
   "cell_type": "markdown",
   "metadata": {},
   "source": [
    "## Functions "
   ]
  },
  {
   "cell_type": "markdown",
   "metadata": {
    "cell_id": "8999d19b6b7d4d63bc90f0b0bd9ab085",
    "deepnote_cell_type": "text-cell-h2",
    "formattedRanges": []
   },
   "source": [
    "## Processing"
   ]
  },
  {
   "cell_type": "markdown",
   "metadata": {
    "cell_id": "9b36cdf08567463082b005cb0dec684b",
    "deepnote_cell_type": "text-cell-p",
    "formattedRanges": []
   },
   "source": [
    "Describe what is done to the data here and how inputs are manipulated to generate outputs. "
   ]
  },
  {
   "cell_type": "code",
   "execution_count": 19,
   "metadata": {
    "cell_id": "89aaba237c644628b1b37604b75e7cb1",
    "deepnote_cell_type": "code",
    "tags": []
   },
   "outputs": [],
   "source": [
    "# As much code and as many cells as required\n",
    "# includes EDA and playing with data\n",
    "# GO HAM!\n",
    "\n",
    "# Ideally functions are defined here first and then data is processed using the functions\n",
    "\n",
    "# function names are short and in snake case all lowercase\n",
    "# a function name should be unique but does not have to describe the function\n",
    "# doc strings describe functions not function names\n",
    "\n",
    "\n"
   ]
  },
  {
   "cell_type": "code",
   "execution_count": 20,
   "metadata": {
    "tags": []
   },
   "outputs": [
    {
     "data": {
      "text/plain": [
       "Index(['video_name', 'current_subject', 'frame_index', 'tone_start_frame',\n",
       "       'tone_stop_frame', 'condition ', 'competition_closeness', 'notes',\n",
       "       '10s_before_tone_frame', '10s_after_tone_frame',\n",
       "       ...\n",
       "       'vHPC_RMS_filtered_power_gamma', 'vHPC_RMS_filtered_power_theta',\n",
       "       'vHPC_gamma_band', 'vHPC_gamma_phase', 'vHPC_lfp_trace',\n",
       "       'vHPC_mPFC_granger_all_frequencies_all_windows', 'vHPC_theta_band',\n",
       "       'vHPC_theta_phase', 'video_timestamps', 'cluster_timestamp'],\n",
       "      dtype='object', length=196)"
      ]
     },
     "execution_count": 20,
     "metadata": {},
     "output_type": "execute_result"
    }
   ],
   "source": [
    "LFP_SPECTRAL_DF.columns"
   ]
  },
  {
   "cell_type": "code",
   "execution_count": 21,
   "metadata": {
    "scrolled": true,
    "tags": []
   },
   "outputs": [
    {
     "data": {
      "text/plain": [
       "Index(['Unnamed: 0', 'session_dir', 'tone_start_frame', 'reward_start',\n",
       "       'reward_dispensed', 'tone_stop_frame', 'condition ',\n",
       "       'competition_closeness', 'get_reward_frame', 'out_reward_frame',\n",
       "       'notes', 'experiment', 'box_1_port_entry_frames',\n",
       "       'box_2_port_entry_frames', 'video_name', 'all_subjects',\n",
       "       'first_timestamp', 'last_timestamp', 'tone_start_timestamp',\n",
       "       'tone_stop_timestamp', 'box_1_port_entry_timestamps',\n",
       "       'box_2_port_entry_timestamps'],\n",
       "      dtype='object')"
      ]
     },
     "execution_count": 21,
     "metadata": {},
     "output_type": "execute_result"
    }
   ],
   "source": [
    "TRIAL_LABELS_DF.columns"
   ]
  },
  {
   "cell_type": "markdown",
   "metadata": {},
   "source": [
    "## Merging the labels and LFP spectral"
   ]
  },
  {
   "cell_type": "code",
   "execution_count": 22,
   "metadata": {
    "tags": []
   },
   "outputs": [
    {
     "data": {
      "text/html": [
       "<div>\n",
       "<style scoped>\n",
       "    .dataframe tbody tr th:only-of-type {\n",
       "        vertical-align: middle;\n",
       "    }\n",
       "\n",
       "    .dataframe tbody tr th {\n",
       "        vertical-align: top;\n",
       "    }\n",
       "\n",
       "    .dataframe thead th {\n",
       "        text-align: right;\n",
       "    }\n",
       "</style>\n",
       "<table border=\"1\" class=\"dataframe\">\n",
       "  <thead>\n",
       "    <tr style=\"text-align: right;\">\n",
       "      <th></th>\n",
       "      <th>Unnamed: 0</th>\n",
       "      <th>session_dir</th>\n",
       "      <th>tone_start_frame</th>\n",
       "      <th>reward_start</th>\n",
       "      <th>reward_dispensed</th>\n",
       "      <th>tone_stop_frame</th>\n",
       "      <th>condition</th>\n",
       "      <th>competition_closeness</th>\n",
       "      <th>get_reward_frame</th>\n",
       "      <th>out_reward_frame</th>\n",
       "      <th>...</th>\n",
       "      <th>box_1_port_entry_frames</th>\n",
       "      <th>box_2_port_entry_frames</th>\n",
       "      <th>video_name</th>\n",
       "      <th>all_subjects</th>\n",
       "      <th>first_timestamp</th>\n",
       "      <th>last_timestamp</th>\n",
       "      <th>tone_start_timestamp</th>\n",
       "      <th>tone_stop_timestamp</th>\n",
       "      <th>box_1_port_entry_timestamps</th>\n",
       "      <th>box_2_port_entry_timestamps</th>\n",
       "    </tr>\n",
       "  </thead>\n",
       "  <tbody>\n",
       "    <tr>\n",
       "      <th>0</th>\n",
       "      <td>0.0</td>\n",
       "      <td>20240320_142408_alone_comp_subj_3-1_and_3-3</td>\n",
       "      <td>0.0</td>\n",
       "      <td>80</td>\n",
       "      <td>100.0</td>\n",
       "      <td>74.0</td>\n",
       "      <td>NaN</td>\n",
       "      <td>NaN</td>\n",
       "      <td>NaN</td>\n",
       "      <td>NaN</td>\n",
       "      <td>...</td>\n",
       "      <td>[ 0 74]</td>\n",
       "      <td>[ 0 74]</td>\n",
       "      <td>20240320_142408_alone_comp_subj_3-1_and_3-3.1....</td>\n",
       "      <td>['3.1', '3.3']</td>\n",
       "      <td>1830734.0</td>\n",
       "      <td>65425515.0</td>\n",
       "      <td>0.0</td>\n",
       "      <td>75474.0</td>\n",
       "      <td>[    0 75474]</td>\n",
       "      <td>[    0 75474]</td>\n",
       "    </tr>\n",
       "    <tr>\n",
       "      <th>1</th>\n",
       "      <td>0.0</td>\n",
       "      <td>20240320_142408_alone_comp_subj_3-1_and_3-3</td>\n",
       "      <td>1272.0</td>\n",
       "      <td>1352</td>\n",
       "      <td>1372.0</td>\n",
       "      <td>1471.0</td>\n",
       "      <td>NaN</td>\n",
       "      <td>NaN</td>\n",
       "      <td>NaN</td>\n",
       "      <td>NaN</td>\n",
       "      <td>...</td>\n",
       "      <td>[1282 1283] [1285 1297] [1326 1344] [1362 1509]</td>\n",
       "      <td>[1326 1328] [1331 1347] [1380 1592]</td>\n",
       "      <td>20240320_142408_alone_comp_subj_3-1_and_3-3.1....</td>\n",
       "      <td>['3.1', '3.3']</td>\n",
       "      <td>1830734.0</td>\n",
       "      <td>65425515.0</td>\n",
       "      <td>1275889.0</td>\n",
       "      <td>1475891.0</td>\n",
       "      <td>[1285888 1286688] [1287488 1300689] [1330286 1...</td>\n",
       "      <td>[1329489 1331487] [1334489 1350089] [1383490 1...</td>\n",
       "    </tr>\n",
       "    <tr>\n",
       "      <th>2</th>\n",
       "      <td>0.0</td>\n",
       "      <td>20240320_142408_alone_comp_subj_3-1_and_3-3</td>\n",
       "      <td>3268.0</td>\n",
       "      <td>3348</td>\n",
       "      <td>3368.0</td>\n",
       "      <td>3469.0</td>\n",
       "      <td>NaN</td>\n",
       "      <td>NaN</td>\n",
       "      <td>NaN</td>\n",
       "      <td>NaN</td>\n",
       "      <td>...</td>\n",
       "      <td>[3281 3324] [3324 3327] [3344 3347] [3347 3523]</td>\n",
       "      <td>[3327 3704]</td>\n",
       "      <td>20240320_142408_alone_comp_subj_3-1_and_3-3.1....</td>\n",
       "      <td>['3.1', '3.3']</td>\n",
       "      <td>1830734.0</td>\n",
       "      <td>65425515.0</td>\n",
       "      <td>3275911.0</td>\n",
       "      <td>3475914.0</td>\n",
       "      <td>[3287914 3330314] [3331114 3333712] [3351715 3...</td>\n",
       "      <td>[3333515 3712519]</td>\n",
       "    </tr>\n",
       "    <tr>\n",
       "      <th>3</th>\n",
       "      <td>0.0</td>\n",
       "      <td>20240320_142408_alone_comp_subj_3-1_and_3-3</td>\n",
       "      <td>4466.0</td>\n",
       "      <td>4546</td>\n",
       "      <td>4566.0</td>\n",
       "      <td>4667.0</td>\n",
       "      <td>NaN</td>\n",
       "      <td>NaN</td>\n",
       "      <td>NaN</td>\n",
       "      <td>NaN</td>\n",
       "      <td>...</td>\n",
       "      <td>[4441 4476] [4476 4489] [4508 4509] [4511 4534...</td>\n",
       "      <td>[4445 4473] [4494 4551] [4566 4830]</td>\n",
       "      <td>20240320_142408_alone_comp_subj_3-1_and_3-3.1....</td>\n",
       "      <td>['3.1', '3.3']</td>\n",
       "      <td>1830734.0</td>\n",
       "      <td>65425515.0</td>\n",
       "      <td>4475927.0</td>\n",
       "      <td>4675931.0</td>\n",
       "      <td>[4450528 4485129] [4485929 4497529] [4516929 4...</td>\n",
       "      <td>[4454926 4483129] [4503531 4560730] [4575330 4...</td>\n",
       "    </tr>\n",
       "    <tr>\n",
       "      <th>4</th>\n",
       "      <td>0.0</td>\n",
       "      <td>20240320_142408_alone_comp_subj_3-1_and_3-3</td>\n",
       "      <td>5465.0</td>\n",
       "      <td>5545</td>\n",
       "      <td>5565.0</td>\n",
       "      <td>5664.0</td>\n",
       "      <td>NaN</td>\n",
       "      <td>NaN</td>\n",
       "      <td>NaN</td>\n",
       "      <td>NaN</td>\n",
       "      <td>...</td>\n",
       "      <td>[5483 5512] [5552 5698]</td>\n",
       "      <td>[5455 5486] [5581 5794]</td>\n",
       "      <td>20240320_142408_alone_comp_subj_3-1_and_3-3.1....</td>\n",
       "      <td>['3.1', '3.3']</td>\n",
       "      <td>1830734.0</td>\n",
       "      <td>65425515.0</td>\n",
       "      <td>5475942.0</td>\n",
       "      <td>5675942.0</td>\n",
       "      <td>[5493742 5523542] [5563742 5709147]</td>\n",
       "      <td>[5466941 5496741] [5592343 5806546]</td>\n",
       "    </tr>\n",
       "  </tbody>\n",
       "</table>\n",
       "<p>5 rows × 22 columns</p>\n",
       "</div>"
      ],
      "text/plain": [
       "   Unnamed: 0                                  session_dir  tone_start_frame  \\\n",
       "0         0.0  20240320_142408_alone_comp_subj_3-1_and_3-3               0.0   \n",
       "1         0.0  20240320_142408_alone_comp_subj_3-1_and_3-3            1272.0   \n",
       "2         0.0  20240320_142408_alone_comp_subj_3-1_and_3-3            3268.0   \n",
       "3         0.0  20240320_142408_alone_comp_subj_3-1_and_3-3            4466.0   \n",
       "4         0.0  20240320_142408_alone_comp_subj_3-1_and_3-3            5465.0   \n",
       "\n",
       "   reward_start  reward_dispensed  tone_stop_frame condition   \\\n",
       "0            80             100.0             74.0        NaN   \n",
       "1          1352            1372.0           1471.0        NaN   \n",
       "2          3348            3368.0           3469.0        NaN   \n",
       "3          4546            4566.0           4667.0        NaN   \n",
       "4          5545            5565.0           5664.0        NaN   \n",
       "\n",
       "  competition_closeness  get_reward_frame  out_reward_frame  ...  \\\n",
       "0                   NaN               NaN               NaN  ...   \n",
       "1                   NaN               NaN               NaN  ...   \n",
       "2                   NaN               NaN               NaN  ...   \n",
       "3                   NaN               NaN               NaN  ...   \n",
       "4                   NaN               NaN               NaN  ...   \n",
       "\n",
       "                             box_1_port_entry_frames  \\\n",
       "0                                            [ 0 74]   \n",
       "1    [1282 1283] [1285 1297] [1326 1344] [1362 1509]   \n",
       "2    [3281 3324] [3324 3327] [3344 3347] [3347 3523]   \n",
       "3  [4441 4476] [4476 4489] [4508 4509] [4511 4534...   \n",
       "4                            [5483 5512] [5552 5698]   \n",
       "\n",
       "               box_2_port_entry_frames  \\\n",
       "0                              [ 0 74]   \n",
       "1  [1326 1328] [1331 1347] [1380 1592]   \n",
       "2                          [3327 3704]   \n",
       "3  [4445 4473] [4494 4551] [4566 4830]   \n",
       "4              [5455 5486] [5581 5794]   \n",
       "\n",
       "                                          video_name    all_subjects  \\\n",
       "0  20240320_142408_alone_comp_subj_3-1_and_3-3.1....  ['3.1', '3.3']   \n",
       "1  20240320_142408_alone_comp_subj_3-1_and_3-3.1....  ['3.1', '3.3']   \n",
       "2  20240320_142408_alone_comp_subj_3-1_and_3-3.1....  ['3.1', '3.3']   \n",
       "3  20240320_142408_alone_comp_subj_3-1_and_3-3.1....  ['3.1', '3.3']   \n",
       "4  20240320_142408_alone_comp_subj_3-1_and_3-3.1....  ['3.1', '3.3']   \n",
       "\n",
       "  first_timestamp last_timestamp  tone_start_timestamp  tone_stop_timestamp  \\\n",
       "0       1830734.0     65425515.0                   0.0              75474.0   \n",
       "1       1830734.0     65425515.0             1275889.0            1475891.0   \n",
       "2       1830734.0     65425515.0             3275911.0            3475914.0   \n",
       "3       1830734.0     65425515.0             4475927.0            4675931.0   \n",
       "4       1830734.0     65425515.0             5475942.0            5675942.0   \n",
       "\n",
       "                         box_1_port_entry_timestamps  \\\n",
       "0                                      [    0 75474]   \n",
       "1  [1285888 1286688] [1287488 1300689] [1330286 1...   \n",
       "2  [3287914 3330314] [3331114 3333712] [3351715 3...   \n",
       "3  [4450528 4485129] [4485929 4497529] [4516929 4...   \n",
       "4                [5493742 5523542] [5563742 5709147]   \n",
       "\n",
       "                         box_2_port_entry_timestamps  \n",
       "0                                      [    0 75474]  \n",
       "1  [1329489 1331487] [1334489 1350089] [1383490 1...  \n",
       "2                                  [3333515 3712519]  \n",
       "3  [4454926 4483129] [4503531 4560730] [4575330 4...  \n",
       "4                [5466941 5496741] [5592343 5806546]  \n",
       "\n",
       "[5 rows x 22 columns]"
      ]
     },
     "execution_count": 22,
     "metadata": {},
     "output_type": "execute_result"
    }
   ],
   "source": [
    "TRIAL_LABELS_DF.head()"
   ]
  },
  {
   "cell_type": "code",
   "execution_count": 23,
   "metadata": {
    "tags": []
   },
   "outputs": [
    {
     "data": {
      "text/html": [
       "<div>\n",
       "<style scoped>\n",
       "    .dataframe tbody tr th:only-of-type {\n",
       "        vertical-align: middle;\n",
       "    }\n",
       "\n",
       "    .dataframe tbody tr th {\n",
       "        vertical-align: top;\n",
       "    }\n",
       "\n",
       "    .dataframe thead th {\n",
       "        text-align: right;\n",
       "    }\n",
       "</style>\n",
       "<table border=\"1\" class=\"dataframe\">\n",
       "  <thead>\n",
       "    <tr style=\"text-align: right;\">\n",
       "      <th></th>\n",
       "      <th>video_name</th>\n",
       "      <th>current_subject</th>\n",
       "      <th>frame_index</th>\n",
       "      <th>tone_start_frame</th>\n",
       "      <th>tone_stop_frame</th>\n",
       "      <th>condition</th>\n",
       "      <th>competition_closeness</th>\n",
       "      <th>notes</th>\n",
       "      <th>10s_before_tone_frame</th>\n",
       "      <th>10s_after_tone_frame</th>\n",
       "      <th>...</th>\n",
       "      <th>vHPC_RMS_filtered_power_gamma</th>\n",
       "      <th>vHPC_RMS_filtered_power_theta</th>\n",
       "      <th>vHPC_gamma_band</th>\n",
       "      <th>vHPC_gamma_phase</th>\n",
       "      <th>vHPC_lfp_trace</th>\n",
       "      <th>vHPC_mPFC_granger_all_frequencies_all_windows</th>\n",
       "      <th>vHPC_theta_band</th>\n",
       "      <th>vHPC_theta_phase</th>\n",
       "      <th>video_timestamps</th>\n",
       "      <th>cluster_timestamp</th>\n",
       "    </tr>\n",
       "  </thead>\n",
       "  <tbody>\n",
       "    <tr>\n",
       "      <th>0</th>\n",
       "      <td>20240320_171038_alone_comp_subj_4-2_and_4-3.1</td>\n",
       "      <td>4.2</td>\n",
       "      <td>[34042, 34043, 34044, 34045, 34046, 34047, 340...</td>\n",
       "      <td>[34242, 34242, 34242, 34242, 34242, 34242, 342...</td>\n",
       "      <td>[34442, 34442, 34442, 34442, 34442, 34442, 344...</td>\n",
       "      <td>[4.3, 4.3, 4.3, 4.3, 4.3, 4.3, 4.3, 4.3, 4.3, ...</td>\n",
       "      <td>[After trial, After trial, After trial, After ...</td>\n",
       "      <td>[nan, nan, nan, nan, nan, nan, nan, nan, nan, ...</td>\n",
       "      <td>[34042, 34042, 34042, 34042, 34042, 34042, 340...</td>\n",
       "      <td>[34642, 34642, 34642, 34642, 34642, 34642, 346...</td>\n",
       "      <td>...</td>\n",
       "      <td>[nan, 0.0015774673, 0.0016509024, 0.001697123,...</td>\n",
       "      <td>[nan, 0.029861301, 0.033973657, 0.05462378, 0....</td>\n",
       "      <td>[-0.06929627, -0.11967317, -0.15855941, -0.183...</td>\n",
       "      <td>[2.0203476, 2.3698096, 2.632465, 2.9235487, -3...</td>\n",
       "      <td>[-8.384999, -70.005, -99.645, -99.45, -157.56,...</td>\n",
       "      <td>[[nan, nan, nan, nan, nan, nan, nan, nan, nan,...</td>\n",
       "      <td>[0.6103468, 0.5730442, 0.5342873, 0.4941693, 0...</td>\n",
       "      <td>[-0.41403934, 0.30454272, 0.38569367, 0.659321...</td>\n",
       "      <td>[1384, 2770, 4156, 4156, 5541, 6927, 6927, 831...</td>\n",
       "      <td>[34079916, 34081302, 34082688, 34084074, 34084...</td>\n",
       "    </tr>\n",
       "    <tr>\n",
       "      <th>1</th>\n",
       "      <td>20240320_171038_alone_comp_subj_4-2_and_4-3.1</td>\n",
       "      <td>4.3</td>\n",
       "      <td>[34042, 34043, 34044, 34045, 34046, 34047, 340...</td>\n",
       "      <td>[34242, 34242, 34242, 34242, 34242, 34242, 342...</td>\n",
       "      <td>[34442, 34442, 34442, 34442, 34442, 34442, 344...</td>\n",
       "      <td>[4.3, 4.3, 4.3, 4.3, 4.3, 4.3, 4.3, 4.3, 4.3, ...</td>\n",
       "      <td>[After trial, After trial, After trial, After ...</td>\n",
       "      <td>[nan, nan, nan, nan, nan, nan, nan, nan, nan, ...</td>\n",
       "      <td>[34042, 34042, 34042, 34042, 34042, 34042, 340...</td>\n",
       "      <td>[34642, 34642, 34642, 34642, 34642, 34642, 346...</td>\n",
       "      <td>...</td>\n",
       "      <td>[0.00068537367, 0.0010442059, 0.0012645082, na...</td>\n",
       "      <td>[0.02813119, 0.023265623, 0.024091369, nan, na...</td>\n",
       "      <td>[0.056090515, 0.050495435, 0.040407084, 0.0263...</td>\n",
       "      <td>[-0.41799748, 0.42563042, 0.6898888, 1.115356,...</td>\n",
       "      <td>[-0.78, -3.8999999, -51.675, -83.85, -19.89, 6...</td>\n",
       "      <td>[[0.10801135, 0.9345647, 0.71951747, 0.1227541...</td>\n",
       "      <td>[-0.19497989, -0.21380065, -0.23236576, -0.250...</td>\n",
       "      <td>[2.0032697, 2.1665337, 2.1993783, 2.2978027, 2...</td>\n",
       "      <td>[1384, 2770, 4156, 4156, 5541, 6927, 6927, 831...</td>\n",
       "      <td>[34079916, 34081302, 34082688, 34084074, 34084...</td>\n",
       "    </tr>\n",
       "    <tr>\n",
       "      <th>2</th>\n",
       "      <td>20240322_120625_alone_comp_subj_3-3_and_3-4.1</td>\n",
       "      <td>3.3</td>\n",
       "      <td>[34069, 34070, 34071, 34072, 34073, 34074, 340...</td>\n",
       "      <td>[34269, 34269, 34269, 34269, 34269, 34269, 342...</td>\n",
       "      <td>[34468, 34468, 34468, 34468, 34468, 34468, 344...</td>\n",
       "      <td>[3.4, 3.4, 3.4, 3.4, 3.4, 3.4, 3.4, 3.4, 3.4, ...</td>\n",
       "      <td>[Subj 1 then Subj 2, Subj 1 then Subj 2, Subj ...</td>\n",
       "      <td>[nan, nan, nan, nan, nan, nan, nan, nan, nan, ...</td>\n",
       "      <td>[34069, 34069, 34069, 34069, 34069, 34069, 340...</td>\n",
       "      <td>[34668, 34668, 34668, 34668, 34668, 34668, 346...</td>\n",
       "      <td>...</td>\n",
       "      <td>[0.0014011, 0.0016158995, 0.0015800084, nan, n...</td>\n",
       "      <td>[0.013402096, 0.01478837, 0.009064879, nan, na...</td>\n",
       "      <td>[0.09273324, 0.093012325, 0.088457294, 0.07888...</td>\n",
       "      <td>[-0.5981963, 0.07866546, 0.2493537, 0.62838745...</td>\n",
       "      <td>[-24.765, 14.82, 24.375, -24.765, -36.855, -13...</td>\n",
       "      <td>[[0.014051933, 0.6209912, 0.20073363, 0.871971...</td>\n",
       "      <td>[0.069354706, 0.071877405, 0.07377358, 0.07502...</td>\n",
       "      <td>[-0.8432274, -0.42268786, -0.36932397, -0.1285...</td>\n",
       "      <td>[1384, 1983, 2770, 4156, 5541, 5541, 6927, 831...</td>\n",
       "      <td>[34103476, 34104862, 34106248, 34106248, 34107...</td>\n",
       "    </tr>\n",
       "    <tr>\n",
       "      <th>3</th>\n",
       "      <td>20240322_120625_alone_comp_subj_3-3_and_3-4.1</td>\n",
       "      <td>3.4</td>\n",
       "      <td>[34069, 34070, 34071, 34072, 34073, 34074, 340...</td>\n",
       "      <td>[34269, 34269, 34269, 34269, 34269, 34269, 342...</td>\n",
       "      <td>[34468, 34468, 34468, 34468, 34468, 34468, 344...</td>\n",
       "      <td>[3.4, 3.4, 3.4, 3.4, 3.4, 3.4, 3.4, 3.4, 3.4, ...</td>\n",
       "      <td>[Subj 1 then Subj 2, Subj 1 then Subj 2, Subj ...</td>\n",
       "      <td>[nan, nan, nan, nan, nan, nan, nan, nan, nan, ...</td>\n",
       "      <td>[34069, 34069, 34069, 34069, 34069, 34069, 340...</td>\n",
       "      <td>[34668, 34668, 34668, 34668, 34668, 34668, 346...</td>\n",
       "      <td>...</td>\n",
       "      <td>[nan, nan, 0.0016887838, 0.002533161, 0.002136...</td>\n",
       "      <td>[nan, nan, 0.01613984, 0.013336834, 0.01096460...</td>\n",
       "      <td>[-0.39455938, -0.3748218, -0.33224645, -0.2686...</td>\n",
       "      <td>[2.607048, -2.9309871, -2.7373552, -2.3333373,...</td>\n",
       "      <td>[-43.289997, -80.924995, 1.56, 77.024994, -49....</td>\n",
       "      <td>[[nan, nan, nan, nan, nan, nan, nan, nan, nan,...</td>\n",
       "      <td>[0.036580447, 0.002779069, -0.032599572, -0.06...</td>\n",
       "      <td>[1.4616449, 1.5639099, 1.6466243, 1.7200751, 1...</td>\n",
       "      <td>[1384, 1983, 2770, 4156, 5541, 5541, 6927, 831...</td>\n",
       "      <td>[34103476, 34104862, 34106248, 34106248, 34107...</td>\n",
       "    </tr>\n",
       "    <tr>\n",
       "      <th>4</th>\n",
       "      <td>20240322_160946_alone_comp_subj_4-3_and_4-4.1</td>\n",
       "      <td>4.3</td>\n",
       "      <td>[34063, 34064, 34065, 34066, 34067, 34068, 340...</td>\n",
       "      <td>[34263, 34263, 34263, 34263, 34263, 34263, 342...</td>\n",
       "      <td>[34462, 34462, 34462, 34462, 34462, 34462, 344...</td>\n",
       "      <td>[4.3, 4.3, 4.3, 4.3, 4.3, 4.3, 4.3, 4.3, 4.3, ...</td>\n",
       "      <td>[Subj 1 blocking Subj 2, Subj 1 blocking Subj ...</td>\n",
       "      <td>[4.3 got reward at 34433, 4.3 got reward at 34...</td>\n",
       "      <td>[34063, 34063, 34063, 34063, 34063, 34063, 340...</td>\n",
       "      <td>[34662, 34662, 34662, 34662, 34662, 34662, 346...</td>\n",
       "      <td>...</td>\n",
       "      <td>[0.0008702932, 0.0012397893, 0.001534485, 0.00...</td>\n",
       "      <td>[0.04326379, 0.04350199, 0.041684285, 0.047809...</td>\n",
       "      <td>[-0.15469374, -0.13056332, -0.09293501, -0.043...</td>\n",
       "      <td>[2.8732724, -2.504053, -2.202953, -1.8050741, ...</td>\n",
       "      <td>[-77.415, -108.615, -105.884995, -73.125, -83....</td>\n",
       "      <td>[[0.021656672, 0.19774476, 0.5195144, 0.240041...</td>\n",
       "      <td>[0.15190038, 0.14261837, 0.13290596, 0.1227597...</td>\n",
       "      <td>[0.017970975, 0.6857072, 0.76834697, 0.9525465...</td>\n",
       "      <td>[1384, 1384, 2769, 4155, 5214, 5541, 6927, 831...</td>\n",
       "      <td>[34096547, 34097933, 34098977, 34099318, 34100...</td>\n",
       "    </tr>\n",
       "  </tbody>\n",
       "</table>\n",
       "<p>5 rows × 196 columns</p>\n",
       "</div>"
      ],
      "text/plain": [
       "                                      video_name current_subject  \\\n",
       "0  20240320_171038_alone_comp_subj_4-2_and_4-3.1             4.2   \n",
       "1  20240320_171038_alone_comp_subj_4-2_and_4-3.1             4.3   \n",
       "2  20240322_120625_alone_comp_subj_3-3_and_3-4.1             3.3   \n",
       "3  20240322_120625_alone_comp_subj_3-3_and_3-4.1             3.4   \n",
       "4  20240322_160946_alone_comp_subj_4-3_and_4-4.1             4.3   \n",
       "\n",
       "                                         frame_index  \\\n",
       "0  [34042, 34043, 34044, 34045, 34046, 34047, 340...   \n",
       "1  [34042, 34043, 34044, 34045, 34046, 34047, 340...   \n",
       "2  [34069, 34070, 34071, 34072, 34073, 34074, 340...   \n",
       "3  [34069, 34070, 34071, 34072, 34073, 34074, 340...   \n",
       "4  [34063, 34064, 34065, 34066, 34067, 34068, 340...   \n",
       "\n",
       "                                    tone_start_frame  \\\n",
       "0  [34242, 34242, 34242, 34242, 34242, 34242, 342...   \n",
       "1  [34242, 34242, 34242, 34242, 34242, 34242, 342...   \n",
       "2  [34269, 34269, 34269, 34269, 34269, 34269, 342...   \n",
       "3  [34269, 34269, 34269, 34269, 34269, 34269, 342...   \n",
       "4  [34263, 34263, 34263, 34263, 34263, 34263, 342...   \n",
       "\n",
       "                                     tone_stop_frame  \\\n",
       "0  [34442, 34442, 34442, 34442, 34442, 34442, 344...   \n",
       "1  [34442, 34442, 34442, 34442, 34442, 34442, 344...   \n",
       "2  [34468, 34468, 34468, 34468, 34468, 34468, 344...   \n",
       "3  [34468, 34468, 34468, 34468, 34468, 34468, 344...   \n",
       "4  [34462, 34462, 34462, 34462, 34462, 34462, 344...   \n",
       "\n",
       "                                          condition   \\\n",
       "0  [4.3, 4.3, 4.3, 4.3, 4.3, 4.3, 4.3, 4.3, 4.3, ...   \n",
       "1  [4.3, 4.3, 4.3, 4.3, 4.3, 4.3, 4.3, 4.3, 4.3, ...   \n",
       "2  [3.4, 3.4, 3.4, 3.4, 3.4, 3.4, 3.4, 3.4, 3.4, ...   \n",
       "3  [3.4, 3.4, 3.4, 3.4, 3.4, 3.4, 3.4, 3.4, 3.4, ...   \n",
       "4  [4.3, 4.3, 4.3, 4.3, 4.3, 4.3, 4.3, 4.3, 4.3, ...   \n",
       "\n",
       "                               competition_closeness  \\\n",
       "0  [After trial, After trial, After trial, After ...   \n",
       "1  [After trial, After trial, After trial, After ...   \n",
       "2  [Subj 1 then Subj 2, Subj 1 then Subj 2, Subj ...   \n",
       "3  [Subj 1 then Subj 2, Subj 1 then Subj 2, Subj ...   \n",
       "4  [Subj 1 blocking Subj 2, Subj 1 blocking Subj ...   \n",
       "\n",
       "                                               notes  \\\n",
       "0  [nan, nan, nan, nan, nan, nan, nan, nan, nan, ...   \n",
       "1  [nan, nan, nan, nan, nan, nan, nan, nan, nan, ...   \n",
       "2  [nan, nan, nan, nan, nan, nan, nan, nan, nan, ...   \n",
       "3  [nan, nan, nan, nan, nan, nan, nan, nan, nan, ...   \n",
       "4  [4.3 got reward at 34433, 4.3 got reward at 34...   \n",
       "\n",
       "                               10s_before_tone_frame  \\\n",
       "0  [34042, 34042, 34042, 34042, 34042, 34042, 340...   \n",
       "1  [34042, 34042, 34042, 34042, 34042, 34042, 340...   \n",
       "2  [34069, 34069, 34069, 34069, 34069, 34069, 340...   \n",
       "3  [34069, 34069, 34069, 34069, 34069, 34069, 340...   \n",
       "4  [34063, 34063, 34063, 34063, 34063, 34063, 340...   \n",
       "\n",
       "                                10s_after_tone_frame  ...  \\\n",
       "0  [34642, 34642, 34642, 34642, 34642, 34642, 346...  ...   \n",
       "1  [34642, 34642, 34642, 34642, 34642, 34642, 346...  ...   \n",
       "2  [34668, 34668, 34668, 34668, 34668, 34668, 346...  ...   \n",
       "3  [34668, 34668, 34668, 34668, 34668, 34668, 346...  ...   \n",
       "4  [34662, 34662, 34662, 34662, 34662, 34662, 346...  ...   \n",
       "\n",
       "                       vHPC_RMS_filtered_power_gamma  \\\n",
       "0  [nan, 0.0015774673, 0.0016509024, 0.001697123,...   \n",
       "1  [0.00068537367, 0.0010442059, 0.0012645082, na...   \n",
       "2  [0.0014011, 0.0016158995, 0.0015800084, nan, n...   \n",
       "3  [nan, nan, 0.0016887838, 0.002533161, 0.002136...   \n",
       "4  [0.0008702932, 0.0012397893, 0.001534485, 0.00...   \n",
       "\n",
       "                       vHPC_RMS_filtered_power_theta  \\\n",
       "0  [nan, 0.029861301, 0.033973657, 0.05462378, 0....   \n",
       "1  [0.02813119, 0.023265623, 0.024091369, nan, na...   \n",
       "2  [0.013402096, 0.01478837, 0.009064879, nan, na...   \n",
       "3  [nan, nan, 0.01613984, 0.013336834, 0.01096460...   \n",
       "4  [0.04326379, 0.04350199, 0.041684285, 0.047809...   \n",
       "\n",
       "                                     vHPC_gamma_band  \\\n",
       "0  [-0.06929627, -0.11967317, -0.15855941, -0.183...   \n",
       "1  [0.056090515, 0.050495435, 0.040407084, 0.0263...   \n",
       "2  [0.09273324, 0.093012325, 0.088457294, 0.07888...   \n",
       "3  [-0.39455938, -0.3748218, -0.33224645, -0.2686...   \n",
       "4  [-0.15469374, -0.13056332, -0.09293501, -0.043...   \n",
       "\n",
       "                                    vHPC_gamma_phase  \\\n",
       "0  [2.0203476, 2.3698096, 2.632465, 2.9235487, -3...   \n",
       "1  [-0.41799748, 0.42563042, 0.6898888, 1.115356,...   \n",
       "2  [-0.5981963, 0.07866546, 0.2493537, 0.62838745...   \n",
       "3  [2.607048, -2.9309871, -2.7373552, -2.3333373,...   \n",
       "4  [2.8732724, -2.504053, -2.202953, -1.8050741, ...   \n",
       "\n",
       "                                      vHPC_lfp_trace  \\\n",
       "0  [-8.384999, -70.005, -99.645, -99.45, -157.56,...   \n",
       "1  [-0.78, -3.8999999, -51.675, -83.85, -19.89, 6...   \n",
       "2  [-24.765, 14.82, 24.375, -24.765, -36.855, -13...   \n",
       "3  [-43.289997, -80.924995, 1.56, 77.024994, -49....   \n",
       "4  [-77.415, -108.615, -105.884995, -73.125, -83....   \n",
       "\n",
       "       vHPC_mPFC_granger_all_frequencies_all_windows  \\\n",
       "0  [[nan, nan, nan, nan, nan, nan, nan, nan, nan,...   \n",
       "1  [[0.10801135, 0.9345647, 0.71951747, 0.1227541...   \n",
       "2  [[0.014051933, 0.6209912, 0.20073363, 0.871971...   \n",
       "3  [[nan, nan, nan, nan, nan, nan, nan, nan, nan,...   \n",
       "4  [[0.021656672, 0.19774476, 0.5195144, 0.240041...   \n",
       "\n",
       "                                     vHPC_theta_band  \\\n",
       "0  [0.6103468, 0.5730442, 0.5342873, 0.4941693, 0...   \n",
       "1  [-0.19497989, -0.21380065, -0.23236576, -0.250...   \n",
       "2  [0.069354706, 0.071877405, 0.07377358, 0.07502...   \n",
       "3  [0.036580447, 0.002779069, -0.032599572, -0.06...   \n",
       "4  [0.15190038, 0.14261837, 0.13290596, 0.1227597...   \n",
       "\n",
       "                                    vHPC_theta_phase  \\\n",
       "0  [-0.41403934, 0.30454272, 0.38569367, 0.659321...   \n",
       "1  [2.0032697, 2.1665337, 2.1993783, 2.2978027, 2...   \n",
       "2  [-0.8432274, -0.42268786, -0.36932397, -0.1285...   \n",
       "3  [1.4616449, 1.5639099, 1.6466243, 1.7200751, 1...   \n",
       "4  [0.017970975, 0.6857072, 0.76834697, 0.9525465...   \n",
       "\n",
       "                                    video_timestamps  \\\n",
       "0  [1384, 2770, 4156, 4156, 5541, 6927, 6927, 831...   \n",
       "1  [1384, 2770, 4156, 4156, 5541, 6927, 6927, 831...   \n",
       "2  [1384, 1983, 2770, 4156, 5541, 5541, 6927, 831...   \n",
       "3  [1384, 1983, 2770, 4156, 5541, 5541, 6927, 831...   \n",
       "4  [1384, 1384, 2769, 4155, 5214, 5541, 6927, 831...   \n",
       "\n",
       "                                   cluster_timestamp  \n",
       "0  [34079916, 34081302, 34082688, 34084074, 34084...  \n",
       "1  [34079916, 34081302, 34082688, 34084074, 34084...  \n",
       "2  [34103476, 34104862, 34106248, 34106248, 34107...  \n",
       "3  [34103476, 34104862, 34106248, 34106248, 34107...  \n",
       "4  [34096547, 34097933, 34098977, 34099318, 34100...  \n",
       "\n",
       "[5 rows x 196 columns]"
      ]
     },
     "execution_count": 23,
     "metadata": {},
     "output_type": "execute_result"
    }
   ],
   "source": [
    "LFP_SPECTRAL_DF.head()"
   ]
  },
  {
   "cell_type": "markdown",
   "metadata": {},
   "source": [
    "# Dropping redundant columns"
   ]
  },
  {
   "cell_type": "code",
   "execution_count": 24,
   "metadata": {
    "tags": []
   },
   "outputs": [],
   "source": [
    "dropping_columns = list(set(TRIAL_LABELS_DF.columns).intersection(set(LFP_SPECTRAL_DF.columns)))"
   ]
  },
  {
   "cell_type": "code",
   "execution_count": 25,
   "metadata": {
    "tags": []
   },
   "outputs": [
    {
     "data": {
      "text/plain": [
       "['box_2_port_entry_timestamps',\n",
       " 'tone_stop_frame',\n",
       " 'session_dir',\n",
       " 'box_1_port_entry_frames',\n",
       " 'first_timestamp',\n",
       " 'box_1_port_entry_timestamps',\n",
       " 'last_timestamp',\n",
       " 'box_2_port_entry_frames',\n",
       " 'tone_start_frame',\n",
       " 'all_subjects',\n",
       " 'condition ',\n",
       " 'competition_closeness',\n",
       " 'experiment',\n",
       " 'video_name',\n",
       " 'notes']"
      ]
     },
     "execution_count": 25,
     "metadata": {},
     "output_type": "execute_result"
    }
   ],
   "source": [
    "dropping_columns"
   ]
  },
  {
   "cell_type": "code",
   "execution_count": 26,
   "metadata": {
    "tags": []
   },
   "outputs": [],
   "source": [
    "dropping_columns = ['tone_start_frame', 'tone_stop_frame', 'condition ', 'notes', 'competition_closeness', '10s_before_tone_frame', '10s_after_tone_frame']"
   ]
  },
  {
   "cell_type": "code",
   "execution_count": 27,
   "metadata": {
    "tags": []
   },
   "outputs": [],
   "source": [
    "LFP_SPECTRAL_DF = LFP_SPECTRAL_DF.drop(columns=dropping_columns, errors=\"ignore\")"
   ]
  },
  {
   "cell_type": "code",
   "execution_count": 28,
   "metadata": {
    "tags": []
   },
   "outputs": [],
   "source": [
    "dropping_columns = list(set(TRIAL_LABELS_DF.columns).intersection(set(LFP_SPECTRAL_DF.columns)))"
   ]
  },
  {
   "cell_type": "code",
   "execution_count": 29,
   "metadata": {
    "tags": []
   },
   "outputs": [
    {
     "data": {
      "text/plain": [
       "2067718"
      ]
     },
     "execution_count": 29,
     "metadata": {},
     "output_type": "execute_result"
    }
   ],
   "source": [
    "LFP_SPECTRAL_DF[\"first_timestamp\"].iloc[0]"
   ]
  },
  {
   "cell_type": "code",
   "execution_count": 30,
   "metadata": {
    "tags": []
   },
   "outputs": [
    {
     "data": {
      "text/plain": [
       "['box_2_port_entry_timestamps',\n",
       " 'session_dir',\n",
       " 'box_1_port_entry_frames',\n",
       " 'first_timestamp',\n",
       " 'box_1_port_entry_timestamps',\n",
       " 'last_timestamp',\n",
       " 'box_2_port_entry_frames',\n",
       " 'all_subjects',\n",
       " 'experiment',\n",
       " 'video_name']"
      ]
     },
     "execution_count": 30,
     "metadata": {},
     "output_type": "execute_result"
    }
   ],
   "source": [
    "dropping_columns"
   ]
  },
  {
   "cell_type": "code",
   "execution_count": 31,
   "metadata": {
    "tags": []
   },
   "outputs": [],
   "source": [
    "dropping_columns = ['experiment',\n",
    "                    'box_1_port_entry_frames'\n",
    "                    'box_1_port_entry_timestamps'\n",
    "                    'box_2_port_entry_frames'\n",
    "                    'box_2_port_entry_timestamps',\n",
    "                    'session_dir',\n",
    "                    'all_subjects',\n",
    "                    'first_timestamp',\n",
    "                    'last_timestamp']\n"
   ]
  },
  {
   "cell_type": "code",
   "execution_count": 32,
   "metadata": {
    "tags": []
   },
   "outputs": [],
   "source": [
    "TRIAL_LABELS_DF = TRIAL_LABELS_DF.drop(columns=dropping_columns, errors=\"ignore\")"
   ]
  },
  {
   "cell_type": "markdown",
   "metadata": {},
   "source": [
    "## Merging the LFP and trial dataframe"
   ]
  },
  {
   "cell_type": "code",
   "execution_count": 33,
   "metadata": {
    "tags": []
   },
   "outputs": [],
   "source": [
    "LFP_SPECTRAL_DF[\"video_name\"] = LFP_SPECTRAL_DF[\"video_name\"].apply(lambda x: x.strip(\".videoTimeStamps.cameraHWSync\"))"
   ]
  },
  {
   "cell_type": "code",
   "execution_count": 34,
   "metadata": {
    "tags": []
   },
   "outputs": [],
   "source": [
    "LFP_SPECTRAL_DF[\"current_subject\"] = LFP_SPECTRAL_DF[\"current_subject\"].astype(str)\n"
   ]
  },
  {
   "cell_type": "code",
   "execution_count": 35,
   "metadata": {
    "tags": []
   },
   "outputs": [],
   "source": [
    "TRIAL_LABELS_DF = TRIAL_LABELS_DF.dropna(subset=[\"video_name\"])"
   ]
  },
  {
   "cell_type": "code",
   "execution_count": 36,
   "metadata": {
    "tags": []
   },
   "outputs": [],
   "source": [
    "TRIAL_LABELS_DF = TRIAL_LABELS_DF.dropna(subset=[\"condition \"])"
   ]
  },
  {
   "cell_type": "code",
   "execution_count": 37,
   "metadata": {
    "tags": []
   },
   "outputs": [],
   "source": [
    "TRIAL_LABELS_DF[\"video_name\"] = TRIAL_LABELS_DF[\"video_name\"].apply(lambda x: x.strip(\".videoTimeStamps.cameraHWSync\"))\n"
   ]
  },
  {
   "cell_type": "code",
   "execution_count": 38,
   "metadata": {
    "tags": []
   },
   "outputs": [
    {
     "data": {
      "text/plain": [
       "array(['20240320_142408_alone_comp_subj_3-1_and_3-3.1',\n",
       "       '20240320_171038_alone_comp_subj_4-2_and_4-3.1',\n",
       "       '20240322_120625_alone_comp_subj_3-3_and_3-4.1',\n",
       "       '20240322_160946_alone_comp_subj_4-3_and_4-4.1',\n",
       "       '20240323_122227_alone_comp_subj_5-2_and_5-3.1',\n",
       "       '20240323_144517_alone_comp_subj_3-1_and_3-4.1',\n",
       "       '20240323_165815_alone_comp_subj_4-2_and_4-4.1'], dtype=object)"
      ]
     },
     "execution_count": 38,
     "metadata": {},
     "output_type": "execute_result"
    }
   ],
   "source": [
    "TRIAL_LABELS_DF[\"video_name\"].unique()"
   ]
  },
  {
   "cell_type": "code",
   "execution_count": 39,
   "metadata": {
    "tags": []
   },
   "outputs": [
    {
     "data": {
      "text/plain": [
       "array(['20240320_171038_alone_comp_subj_4-2_and_4-3.1',\n",
       "       '20240322_120625_alone_comp_subj_3-3_and_3-4.1',\n",
       "       '20240322_160946_alone_comp_subj_4-3_and_4-4.1',\n",
       "       '20240323_122227_alone_comp_subj_5-2_and_5-3.1',\n",
       "       '20240323_144517_alone_comp_subj_3-1_and_3-4.1',\n",
       "       '20240323_165815_alone_comp_subj_4-2_and_4-4.1'], dtype=object)"
      ]
     },
     "execution_count": 39,
     "metadata": {},
     "output_type": "execute_result"
    }
   ],
   "source": [
    "LFP_SPECTRAL_DF[\"video_name\"].unique()"
   ]
  },
  {
   "cell_type": "code",
   "execution_count": 40,
   "metadata": {
    "tags": []
   },
   "outputs": [],
   "source": [
    "TRIALS_AND_SPECTRAL_DF = pd.merge(TRIAL_LABELS_DF, LFP_SPECTRAL_DF, on=[\"video_name\"], how=\"inner\", suffixes=('', '_remove'))"
   ]
  },
  {
   "cell_type": "code",
   "execution_count": 41,
   "metadata": {
    "tags": []
   },
   "outputs": [
    {
     "data": {
      "text/html": [
       "<div>\n",
       "<style scoped>\n",
       "    .dataframe tbody tr th:only-of-type {\n",
       "        vertical-align: middle;\n",
       "    }\n",
       "\n",
       "    .dataframe tbody tr th {\n",
       "        vertical-align: top;\n",
       "    }\n",
       "\n",
       "    .dataframe thead th {\n",
       "        text-align: right;\n",
       "    }\n",
       "</style>\n",
       "<table border=\"1\" class=\"dataframe\">\n",
       "  <thead>\n",
       "    <tr style=\"text-align: right;\">\n",
       "      <th></th>\n",
       "      <th>box_1_port_entry_frames_remove</th>\n",
       "      <th>box_1_port_entry_timestamps_remove</th>\n",
       "      <th>box_2_port_entry_frames_remove</th>\n",
       "      <th>box_2_port_entry_timestamps_remove</th>\n",
       "    </tr>\n",
       "  </thead>\n",
       "  <tbody>\n",
       "    <tr>\n",
       "      <th>0</th>\n",
       "      <td>[[0, 79], [84, 92], [92, 132], [145, 175], [25...</td>\n",
       "      <td>[[0, 79744], [85741, 92941], [93544, 134344], ...</td>\n",
       "      <td>[[0, 79], [79, 186], [188, 191], [191, 268], [...</td>\n",
       "      <td>[[0, 79744], [80141, 188142], [188942, 191545]...</td>\n",
       "    </tr>\n",
       "    <tr>\n",
       "      <th>1</th>\n",
       "      <td>[[0, 79], [84, 92], [92, 132], [145, 175], [25...</td>\n",
       "      <td>[[0, 79744], [85741, 92941], [93544, 134344], ...</td>\n",
       "      <td>[[0, 79], [79, 186], [188, 191], [191, 268], [...</td>\n",
       "      <td>[[0, 79744], [80141, 188142], [188942, 191545]...</td>\n",
       "    </tr>\n",
       "    <tr>\n",
       "      <th>2</th>\n",
       "      <td>[[0, 79], [84, 92], [92, 132], [145, 175], [25...</td>\n",
       "      <td>[[0, 79744], [85741, 92941], [93544, 134344], ...</td>\n",
       "      <td>[[0, 79], [79, 186], [188, 191], [191, 268], [...</td>\n",
       "      <td>[[0, 79744], [80141, 188142], [188942, 191545]...</td>\n",
       "    </tr>\n",
       "    <tr>\n",
       "      <th>3</th>\n",
       "      <td>[[0, 79], [84, 92], [92, 132], [145, 175], [25...</td>\n",
       "      <td>[[0, 79744], [85741, 92941], [93544, 134344], ...</td>\n",
       "      <td>[[0, 79], [79, 186], [188, 191], [191, 268], [...</td>\n",
       "      <td>[[0, 79744], [80141, 188142], [188942, 191545]...</td>\n",
       "    </tr>\n",
       "    <tr>\n",
       "      <th>4</th>\n",
       "      <td>[[0, 79], [84, 92], [92, 132], [145, 175], [25...</td>\n",
       "      <td>[[0, 79744], [85741, 92941], [93544, 134344], ...</td>\n",
       "      <td>[[0, 79], [79, 186], [188, 191], [191, 268], [...</td>\n",
       "      <td>[[0, 79744], [80141, 188142], [188942, 191545]...</td>\n",
       "    </tr>\n",
       "  </tbody>\n",
       "</table>\n",
       "</div>"
      ],
      "text/plain": [
       "                      box_1_port_entry_frames_remove  \\\n",
       "0  [[0, 79], [84, 92], [92, 132], [145, 175], [25...   \n",
       "1  [[0, 79], [84, 92], [92, 132], [145, 175], [25...   \n",
       "2  [[0, 79], [84, 92], [92, 132], [145, 175], [25...   \n",
       "3  [[0, 79], [84, 92], [92, 132], [145, 175], [25...   \n",
       "4  [[0, 79], [84, 92], [92, 132], [145, 175], [25...   \n",
       "\n",
       "                  box_1_port_entry_timestamps_remove  \\\n",
       "0  [[0, 79744], [85741, 92941], [93544, 134344], ...   \n",
       "1  [[0, 79744], [85741, 92941], [93544, 134344], ...   \n",
       "2  [[0, 79744], [85741, 92941], [93544, 134344], ...   \n",
       "3  [[0, 79744], [85741, 92941], [93544, 134344], ...   \n",
       "4  [[0, 79744], [85741, 92941], [93544, 134344], ...   \n",
       "\n",
       "                      box_2_port_entry_frames_remove  \\\n",
       "0  [[0, 79], [79, 186], [188, 191], [191, 268], [...   \n",
       "1  [[0, 79], [79, 186], [188, 191], [191, 268], [...   \n",
       "2  [[0, 79], [79, 186], [188, 191], [191, 268], [...   \n",
       "3  [[0, 79], [79, 186], [188, 191], [191, 268], [...   \n",
       "4  [[0, 79], [79, 186], [188, 191], [191, 268], [...   \n",
       "\n",
       "                  box_2_port_entry_timestamps_remove  \n",
       "0  [[0, 79744], [80141, 188142], [188942, 191545]...  \n",
       "1  [[0, 79744], [80141, 188142], [188942, 191545]...  \n",
       "2  [[0, 79744], [80141, 188142], [188942, 191545]...  \n",
       "3  [[0, 79744], [80141, 188142], [188942, 191545]...  \n",
       "4  [[0, 79744], [80141, 188142], [188942, 191545]...  "
      ]
     },
     "execution_count": 41,
     "metadata": {},
     "output_type": "execute_result"
    }
   ],
   "source": [
    "TRIALS_AND_SPECTRAL_DF[[col for col in TRIALS_AND_SPECTRAL_DF if \"_remove\" in col]].head()"
   ]
  },
  {
   "cell_type": "code",
   "execution_count": 42,
   "metadata": {
    "tags": []
   },
   "outputs": [],
   "source": [
    "TRIALS_AND_SPECTRAL_DF = TRIALS_AND_SPECTRAL_DF.drop(columns=[col for col in TRIALS_AND_SPECTRAL_DF if \"remove\" in col], errors=\"ignore\")"
   ]
  },
  {
   "cell_type": "code",
   "execution_count": 43,
   "metadata": {
    "tags": []
   },
   "outputs": [],
   "source": [
    "TRIALS_AND_SPECTRAL_DF = TRIALS_AND_SPECTRAL_DF.drop(columns=[col for col in TRIALS_AND_SPECTRAL_DF if \"Unnamed\" in col])"
   ]
  },
  {
   "cell_type": "code",
   "execution_count": 44,
   "metadata": {
    "tags": []
   },
   "outputs": [
    {
     "data": {
      "text/html": [
       "<div>\n",
       "<style scoped>\n",
       "    .dataframe tbody tr th:only-of-type {\n",
       "        vertical-align: middle;\n",
       "    }\n",
       "\n",
       "    .dataframe tbody tr th {\n",
       "        vertical-align: top;\n",
       "    }\n",
       "\n",
       "    .dataframe thead th {\n",
       "        text-align: right;\n",
       "    }\n",
       "</style>\n",
       "<table border=\"1\" class=\"dataframe\">\n",
       "  <thead>\n",
       "    <tr style=\"text-align: right;\">\n",
       "      <th></th>\n",
       "      <th>tone_start_frame</th>\n",
       "      <th>reward_start</th>\n",
       "      <th>reward_dispensed</th>\n",
       "      <th>tone_stop_frame</th>\n",
       "      <th>condition</th>\n",
       "      <th>competition_closeness</th>\n",
       "      <th>get_reward_frame</th>\n",
       "      <th>out_reward_frame</th>\n",
       "      <th>notes</th>\n",
       "      <th>box_1_port_entry_frames</th>\n",
       "      <th>...</th>\n",
       "      <th>vHPC_RMS_filtered_power_gamma</th>\n",
       "      <th>vHPC_RMS_filtered_power_theta</th>\n",
       "      <th>vHPC_gamma_band</th>\n",
       "      <th>vHPC_gamma_phase</th>\n",
       "      <th>vHPC_lfp_trace</th>\n",
       "      <th>vHPC_mPFC_granger_all_frequencies_all_windows</th>\n",
       "      <th>vHPC_theta_band</th>\n",
       "      <th>vHPC_theta_phase</th>\n",
       "      <th>video_timestamps</th>\n",
       "      <th>cluster_timestamp</th>\n",
       "    </tr>\n",
       "  </thead>\n",
       "  <tbody>\n",
       "    <tr>\n",
       "      <th>0</th>\n",
       "      <td>34242.0</td>\n",
       "      <td>34322</td>\n",
       "      <td>34342.0</td>\n",
       "      <td>34442.0</td>\n",
       "      <td>4.3</td>\n",
       "      <td>After trial</td>\n",
       "      <td>NaN</td>\n",
       "      <td>NaN</td>\n",
       "      <td>NaN</td>\n",
       "      <td>[34250 34265]</td>\n",
       "      <td>...</td>\n",
       "      <td>[nan, 0.0015774673, 0.0016509024, 0.001697123,...</td>\n",
       "      <td>[nan, 0.029861301, 0.033973657, 0.05462378, 0....</td>\n",
       "      <td>[-0.06929627, -0.11967317, -0.15855941, -0.183...</td>\n",
       "      <td>[2.0203476, 2.3698096, 2.632465, 2.9235487, -3...</td>\n",
       "      <td>[-8.384999, -70.005, -99.645, -99.45, -157.56,...</td>\n",
       "      <td>[[nan, nan, nan, nan, nan, nan, nan, nan, nan,...</td>\n",
       "      <td>[0.6103468, 0.5730442, 0.5342873, 0.4941693, 0...</td>\n",
       "      <td>[-0.41403934, 0.30454272, 0.38569367, 0.659321...</td>\n",
       "      <td>[1384, 2770, 4156, 4156, 5541, 6927, 6927, 831...</td>\n",
       "      <td>[34079916, 34081302, 34082688, 34084074, 34084...</td>\n",
       "    </tr>\n",
       "    <tr>\n",
       "      <th>1</th>\n",
       "      <td>34242.0</td>\n",
       "      <td>34322</td>\n",
       "      <td>34342.0</td>\n",
       "      <td>34442.0</td>\n",
       "      <td>4.3</td>\n",
       "      <td>After trial</td>\n",
       "      <td>NaN</td>\n",
       "      <td>NaN</td>\n",
       "      <td>NaN</td>\n",
       "      <td>[34250 34265]</td>\n",
       "      <td>...</td>\n",
       "      <td>[0.00068537367, 0.0010442059, 0.0012645082, na...</td>\n",
       "      <td>[0.02813119, 0.023265623, 0.024091369, nan, na...</td>\n",
       "      <td>[0.056090515, 0.050495435, 0.040407084, 0.0263...</td>\n",
       "      <td>[-0.41799748, 0.42563042, 0.6898888, 1.115356,...</td>\n",
       "      <td>[-0.78, -3.8999999, -51.675, -83.85, -19.89, 6...</td>\n",
       "      <td>[[0.10801135, 0.9345647, 0.71951747, 0.1227541...</td>\n",
       "      <td>[-0.19497989, -0.21380065, -0.23236576, -0.250...</td>\n",
       "      <td>[2.0032697, 2.1665337, 2.1993783, 2.2978027, 2...</td>\n",
       "      <td>[1384, 2770, 4156, 4156, 5541, 6927, 6927, 831...</td>\n",
       "      <td>[34079916, 34081302, 34082688, 34084074, 34084...</td>\n",
       "    </tr>\n",
       "    <tr>\n",
       "      <th>2</th>\n",
       "      <td>35241.0</td>\n",
       "      <td>35321</td>\n",
       "      <td>35341.0</td>\n",
       "      <td>35439.0</td>\n",
       "      <td>4.3</td>\n",
       "      <td>Subj 2 Only</td>\n",
       "      <td>NaN</td>\n",
       "      <td>NaN</td>\n",
       "      <td>NaN</td>\n",
       "      <td>[35242 35249] [35249 35250] [35250 35271] [353...</td>\n",
       "      <td>...</td>\n",
       "      <td>[nan, 0.0015774673, 0.0016509024, 0.001697123,...</td>\n",
       "      <td>[nan, 0.029861301, 0.033973657, 0.05462378, 0....</td>\n",
       "      <td>[-0.06929627, -0.11967317, -0.15855941, -0.183...</td>\n",
       "      <td>[2.0203476, 2.3698096, 2.632465, 2.9235487, -3...</td>\n",
       "      <td>[-8.384999, -70.005, -99.645, -99.45, -157.56,...</td>\n",
       "      <td>[[nan, nan, nan, nan, nan, nan, nan, nan, nan,...</td>\n",
       "      <td>[0.6103468, 0.5730442, 0.5342873, 0.4941693, 0...</td>\n",
       "      <td>[-0.41403934, 0.30454272, 0.38569367, 0.659321...</td>\n",
       "      <td>[1384, 2770, 4156, 4156, 5541, 6927, 6927, 831...</td>\n",
       "      <td>[34079916, 34081302, 34082688, 34084074, 34084...</td>\n",
       "    </tr>\n",
       "    <tr>\n",
       "      <th>3</th>\n",
       "      <td>35241.0</td>\n",
       "      <td>35321</td>\n",
       "      <td>35341.0</td>\n",
       "      <td>35439.0</td>\n",
       "      <td>4.3</td>\n",
       "      <td>Subj 2 Only</td>\n",
       "      <td>NaN</td>\n",
       "      <td>NaN</td>\n",
       "      <td>NaN</td>\n",
       "      <td>[35242 35249] [35249 35250] [35250 35271] [353...</td>\n",
       "      <td>...</td>\n",
       "      <td>[0.00068537367, 0.0010442059, 0.0012645082, na...</td>\n",
       "      <td>[0.02813119, 0.023265623, 0.024091369, nan, na...</td>\n",
       "      <td>[0.056090515, 0.050495435, 0.040407084, 0.0263...</td>\n",
       "      <td>[-0.41799748, 0.42563042, 0.6898888, 1.115356,...</td>\n",
       "      <td>[-0.78, -3.8999999, -51.675, -83.85, -19.89, 6...</td>\n",
       "      <td>[[0.10801135, 0.9345647, 0.71951747, 0.1227541...</td>\n",
       "      <td>[-0.19497989, -0.21380065, -0.23236576, -0.250...</td>\n",
       "      <td>[2.0032697, 2.1665337, 2.1993783, 2.2978027, 2...</td>\n",
       "      <td>[1384, 2770, 4156, 4156, 5541, 6927, 6927, 831...</td>\n",
       "      <td>[34079916, 34081302, 34082688, 34084074, 34084...</td>\n",
       "    </tr>\n",
       "    <tr>\n",
       "      <th>4</th>\n",
       "      <td>36339.0</td>\n",
       "      <td>36419</td>\n",
       "      <td>36439.0</td>\n",
       "      <td>36538.0</td>\n",
       "      <td>4.3</td>\n",
       "      <td>Subj 2 blocking Subj 1</td>\n",
       "      <td>NaN</td>\n",
       "      <td>NaN</td>\n",
       "      <td>NaN</td>\n",
       "      <td>[36339 36354] [36361 36365] [36410 36473] [364...</td>\n",
       "      <td>...</td>\n",
       "      <td>[nan, 0.0015774673, 0.0016509024, 0.001697123,...</td>\n",
       "      <td>[nan, 0.029861301, 0.033973657, 0.05462378, 0....</td>\n",
       "      <td>[-0.06929627, -0.11967317, -0.15855941, -0.183...</td>\n",
       "      <td>[2.0203476, 2.3698096, 2.632465, 2.9235487, -3...</td>\n",
       "      <td>[-8.384999, -70.005, -99.645, -99.45, -157.56,...</td>\n",
       "      <td>[[nan, nan, nan, nan, nan, nan, nan, nan, nan,...</td>\n",
       "      <td>[0.6103468, 0.5730442, 0.5342873, 0.4941693, 0...</td>\n",
       "      <td>[-0.41403934, 0.30454272, 0.38569367, 0.659321...</td>\n",
       "      <td>[1384, 2770, 4156, 4156, 5541, 6927, 6927, 831...</td>\n",
       "      <td>[34079916, 34081302, 34082688, 34084074, 34084...</td>\n",
       "    </tr>\n",
       "  </tbody>\n",
       "</table>\n",
       "<p>5 rows × 200 columns</p>\n",
       "</div>"
      ],
      "text/plain": [
       "   tone_start_frame  reward_start  reward_dispensed  tone_stop_frame  \\\n",
       "0           34242.0         34322           34342.0          34442.0   \n",
       "1           34242.0         34322           34342.0          34442.0   \n",
       "2           35241.0         35321           35341.0          35439.0   \n",
       "3           35241.0         35321           35341.0          35439.0   \n",
       "4           36339.0         36419           36439.0          36538.0   \n",
       "\n",
       "  condition    competition_closeness  get_reward_frame  out_reward_frame  \\\n",
       "0        4.3             After trial               NaN               NaN   \n",
       "1        4.3             After trial               NaN               NaN   \n",
       "2        4.3             Subj 2 Only               NaN               NaN   \n",
       "3        4.3             Subj 2 Only               NaN               NaN   \n",
       "4        4.3  Subj 2 blocking Subj 1               NaN               NaN   \n",
       "\n",
       "  notes                            box_1_port_entry_frames  ...  \\\n",
       "0   NaN                                      [34250 34265]  ...   \n",
       "1   NaN                                      [34250 34265]  ...   \n",
       "2   NaN  [35242 35249] [35249 35250] [35250 35271] [353...  ...   \n",
       "3   NaN  [35242 35249] [35249 35250] [35250 35271] [353...  ...   \n",
       "4   NaN  [36339 36354] [36361 36365] [36410 36473] [364...  ...   \n",
       "\n",
       "                       vHPC_RMS_filtered_power_gamma  \\\n",
       "0  [nan, 0.0015774673, 0.0016509024, 0.001697123,...   \n",
       "1  [0.00068537367, 0.0010442059, 0.0012645082, na...   \n",
       "2  [nan, 0.0015774673, 0.0016509024, 0.001697123,...   \n",
       "3  [0.00068537367, 0.0010442059, 0.0012645082, na...   \n",
       "4  [nan, 0.0015774673, 0.0016509024, 0.001697123,...   \n",
       "\n",
       "                       vHPC_RMS_filtered_power_theta  \\\n",
       "0  [nan, 0.029861301, 0.033973657, 0.05462378, 0....   \n",
       "1  [0.02813119, 0.023265623, 0.024091369, nan, na...   \n",
       "2  [nan, 0.029861301, 0.033973657, 0.05462378, 0....   \n",
       "3  [0.02813119, 0.023265623, 0.024091369, nan, na...   \n",
       "4  [nan, 0.029861301, 0.033973657, 0.05462378, 0....   \n",
       "\n",
       "                                     vHPC_gamma_band  \\\n",
       "0  [-0.06929627, -0.11967317, -0.15855941, -0.183...   \n",
       "1  [0.056090515, 0.050495435, 0.040407084, 0.0263...   \n",
       "2  [-0.06929627, -0.11967317, -0.15855941, -0.183...   \n",
       "3  [0.056090515, 0.050495435, 0.040407084, 0.0263...   \n",
       "4  [-0.06929627, -0.11967317, -0.15855941, -0.183...   \n",
       "\n",
       "                                    vHPC_gamma_phase  \\\n",
       "0  [2.0203476, 2.3698096, 2.632465, 2.9235487, -3...   \n",
       "1  [-0.41799748, 0.42563042, 0.6898888, 1.115356,...   \n",
       "2  [2.0203476, 2.3698096, 2.632465, 2.9235487, -3...   \n",
       "3  [-0.41799748, 0.42563042, 0.6898888, 1.115356,...   \n",
       "4  [2.0203476, 2.3698096, 2.632465, 2.9235487, -3...   \n",
       "\n",
       "                                      vHPC_lfp_trace  \\\n",
       "0  [-8.384999, -70.005, -99.645, -99.45, -157.56,...   \n",
       "1  [-0.78, -3.8999999, -51.675, -83.85, -19.89, 6...   \n",
       "2  [-8.384999, -70.005, -99.645, -99.45, -157.56,...   \n",
       "3  [-0.78, -3.8999999, -51.675, -83.85, -19.89, 6...   \n",
       "4  [-8.384999, -70.005, -99.645, -99.45, -157.56,...   \n",
       "\n",
       "       vHPC_mPFC_granger_all_frequencies_all_windows  \\\n",
       "0  [[nan, nan, nan, nan, nan, nan, nan, nan, nan,...   \n",
       "1  [[0.10801135, 0.9345647, 0.71951747, 0.1227541...   \n",
       "2  [[nan, nan, nan, nan, nan, nan, nan, nan, nan,...   \n",
       "3  [[0.10801135, 0.9345647, 0.71951747, 0.1227541...   \n",
       "4  [[nan, nan, nan, nan, nan, nan, nan, nan, nan,...   \n",
       "\n",
       "                                     vHPC_theta_band  \\\n",
       "0  [0.6103468, 0.5730442, 0.5342873, 0.4941693, 0...   \n",
       "1  [-0.19497989, -0.21380065, -0.23236576, -0.250...   \n",
       "2  [0.6103468, 0.5730442, 0.5342873, 0.4941693, 0...   \n",
       "3  [-0.19497989, -0.21380065, -0.23236576, -0.250...   \n",
       "4  [0.6103468, 0.5730442, 0.5342873, 0.4941693, 0...   \n",
       "\n",
       "                                    vHPC_theta_phase  \\\n",
       "0  [-0.41403934, 0.30454272, 0.38569367, 0.659321...   \n",
       "1  [2.0032697, 2.1665337, 2.1993783, 2.2978027, 2...   \n",
       "2  [-0.41403934, 0.30454272, 0.38569367, 0.659321...   \n",
       "3  [2.0032697, 2.1665337, 2.1993783, 2.2978027, 2...   \n",
       "4  [-0.41403934, 0.30454272, 0.38569367, 0.659321...   \n",
       "\n",
       "                                    video_timestamps  \\\n",
       "0  [1384, 2770, 4156, 4156, 5541, 6927, 6927, 831...   \n",
       "1  [1384, 2770, 4156, 4156, 5541, 6927, 6927, 831...   \n",
       "2  [1384, 2770, 4156, 4156, 5541, 6927, 6927, 831...   \n",
       "3  [1384, 2770, 4156, 4156, 5541, 6927, 6927, 831...   \n",
       "4  [1384, 2770, 4156, 4156, 5541, 6927, 6927, 831...   \n",
       "\n",
       "                                   cluster_timestamp  \n",
       "0  [34079916, 34081302, 34082688, 34084074, 34084...  \n",
       "1  [34079916, 34081302, 34082688, 34084074, 34084...  \n",
       "2  [34079916, 34081302, 34082688, 34084074, 34084...  \n",
       "3  [34079916, 34081302, 34082688, 34084074, 34084...  \n",
       "4  [34079916, 34081302, 34082688, 34084074, 34084...  \n",
       "\n",
       "[5 rows x 200 columns]"
      ]
     },
     "execution_count": 44,
     "metadata": {},
     "output_type": "execute_result"
    }
   ],
   "source": [
    "TRIALS_AND_SPECTRAL_DF.head()"
   ]
  },
  {
   "cell_type": "code",
   "execution_count": 45,
   "metadata": {
    "tags": []
   },
   "outputs": [
    {
     "data": {
      "text/html": [
       "<div>\n",
       "<style scoped>\n",
       "    .dataframe tbody tr th:only-of-type {\n",
       "        vertical-align: middle;\n",
       "    }\n",
       "\n",
       "    .dataframe tbody tr th {\n",
       "        vertical-align: top;\n",
       "    }\n",
       "\n",
       "    .dataframe thead th {\n",
       "        text-align: right;\n",
       "    }\n",
       "</style>\n",
       "<table border=\"1\" class=\"dataframe\">\n",
       "  <thead>\n",
       "    <tr style=\"text-align: right;\">\n",
       "      <th></th>\n",
       "      <th>tone_start_frame</th>\n",
       "      <th>reward_start</th>\n",
       "      <th>reward_dispensed</th>\n",
       "      <th>tone_stop_frame</th>\n",
       "      <th>condition</th>\n",
       "      <th>competition_closeness</th>\n",
       "      <th>get_reward_frame</th>\n",
       "      <th>out_reward_frame</th>\n",
       "      <th>notes</th>\n",
       "      <th>box_1_port_entry_frames</th>\n",
       "      <th>...</th>\n",
       "      <th>vHPC_RMS_filtered_power_gamma</th>\n",
       "      <th>vHPC_RMS_filtered_power_theta</th>\n",
       "      <th>vHPC_gamma_band</th>\n",
       "      <th>vHPC_gamma_phase</th>\n",
       "      <th>vHPC_lfp_trace</th>\n",
       "      <th>vHPC_mPFC_granger_all_frequencies_all_windows</th>\n",
       "      <th>vHPC_theta_band</th>\n",
       "      <th>vHPC_theta_phase</th>\n",
       "      <th>video_timestamps</th>\n",
       "      <th>cluster_timestamp</th>\n",
       "    </tr>\n",
       "  </thead>\n",
       "  <tbody>\n",
       "    <tr>\n",
       "      <th>243</th>\n",
       "      <td>57880.0</td>\n",
       "      <td>57960</td>\n",
       "      <td>57980.0</td>\n",
       "      <td>58079.0</td>\n",
       "      <td>4.4</td>\n",
       "      <td>Subj 2 then Subj 1</td>\n",
       "      <td>NaN</td>\n",
       "      <td>NaN</td>\n",
       "      <td>NaN</td>\n",
       "      <td>[57883 57894] [57896 57900] [57901 57909] [579...</td>\n",
       "      <td>...</td>\n",
       "      <td>[0.0026200346, nan, nan, 0.0027044346, 0.00204...</td>\n",
       "      <td>[0.015349463, nan, nan, 0.0061448426, 0.006152...</td>\n",
       "      <td>[0.08948469, -0.002254758, -0.09536301, -0.182...</td>\n",
       "      <td>[0.88585144, 1.5805309, 1.9701416, 2.2596772, ...</td>\n",
       "      <td>[5.85, 3.3149998, -7.7999997, -18.914999, -17....</td>\n",
       "      <td>[[0.22426029, 0.031661306, 0.23187897, 0.50685...</td>\n",
       "      <td>[-0.17116006, -0.19133626, -0.21119694, -0.230...</td>\n",
       "      <td>[1.9537605, 2.088994, 2.1246827, 2.2100766, 2....</td>\n",
       "      <td>[1384, 2515, 2770, 4156, 5542, 5542, 6927, 831...</td>\n",
       "      <td>[36182281, 36183667, 36183667, 36185052, 36186...</td>\n",
       "    </tr>\n",
       "    <tr>\n",
       "      <th>244</th>\n",
       "      <td>60077.0</td>\n",
       "      <td>60157</td>\n",
       "      <td>60177.0</td>\n",
       "      <td>60276.0</td>\n",
       "      <td>4.4</td>\n",
       "      <td>Subj 2 blocking Subj 1</td>\n",
       "      <td>NaN</td>\n",
       "      <td>NaN</td>\n",
       "      <td>4.2 just jumping around on the right side of port</td>\n",
       "      <td>[60070 60098] [60099 60101] [60103 60105] [601...</td>\n",
       "      <td>...</td>\n",
       "      <td>[0.0015146171, 0.0020185008, 0.0026215008, 0.0...</td>\n",
       "      <td>[0.042833474, 0.0325564, 0.014915451, 0.023749...</td>\n",
       "      <td>[0.124277644, 0.10781112, 0.0808986, 0.0448804...</td>\n",
       "      <td>[-0.32664496, 0.55800784, 0.84448737, 1.252265...</td>\n",
       "      <td>[8.19, 31.005, 57.719997, 70.005, 64.935, 24.1...</td>\n",
       "      <td>[[3.099082, 0.46414718, 0.33549076, 0.6002563,...</td>\n",
       "      <td>[-0.2993394, -0.27316827, -0.24553603, -0.2164...</td>\n",
       "      <td>[3.108997, -2.4551952, -2.344967, -2.1353333, ...</td>\n",
       "      <td>[1384, 2515, 2770, 4156, 5542, 5542, 6927, 831...</td>\n",
       "      <td>[36182281, 36183667, 36183667, 36185052, 36186...</td>\n",
       "    </tr>\n",
       "    <tr>\n",
       "      <th>245</th>\n",
       "      <td>60077.0</td>\n",
       "      <td>60157</td>\n",
       "      <td>60177.0</td>\n",
       "      <td>60276.0</td>\n",
       "      <td>4.4</td>\n",
       "      <td>Subj 2 blocking Subj 1</td>\n",
       "      <td>NaN</td>\n",
       "      <td>NaN</td>\n",
       "      <td>4.2 just jumping around on the right side of port</td>\n",
       "      <td>[60070 60098] [60099 60101] [60103 60105] [601...</td>\n",
       "      <td>...</td>\n",
       "      <td>[0.0026200346, nan, nan, 0.0027044346, 0.00204...</td>\n",
       "      <td>[0.015349463, nan, nan, 0.0061448426, 0.006152...</td>\n",
       "      <td>[0.08948469, -0.002254758, -0.09536301, -0.182...</td>\n",
       "      <td>[0.88585144, 1.5805309, 1.9701416, 2.2596772, ...</td>\n",
       "      <td>[5.85, 3.3149998, -7.7999997, -18.914999, -17....</td>\n",
       "      <td>[[0.22426029, 0.031661306, 0.23187897, 0.50685...</td>\n",
       "      <td>[-0.17116006, -0.19133626, -0.21119694, -0.230...</td>\n",
       "      <td>[1.9537605, 2.088994, 2.1246827, 2.2100766, 2....</td>\n",
       "      <td>[1384, 2515, 2770, 4156, 5542, 5542, 6927, 831...</td>\n",
       "      <td>[36182281, 36183667, 36183667, 36185052, 36186...</td>\n",
       "    </tr>\n",
       "    <tr>\n",
       "      <th>246</th>\n",
       "      <td>61174.0</td>\n",
       "      <td>61254</td>\n",
       "      <td>61274.0</td>\n",
       "      <td>61375.0</td>\n",
       "      <td>tie</td>\n",
       "      <td>Close Call</td>\n",
       "      <td>NaN</td>\n",
       "      <td>NaN</td>\n",
       "      <td>NaN</td>\n",
       "      <td>[61188 61211] [61211 61214] [61214 61220] [612...</td>\n",
       "      <td>...</td>\n",
       "      <td>[0.0015146171, 0.0020185008, 0.0026215008, 0.0...</td>\n",
       "      <td>[0.042833474, 0.0325564, 0.014915451, 0.023749...</td>\n",
       "      <td>[0.124277644, 0.10781112, 0.0808986, 0.0448804...</td>\n",
       "      <td>[-0.32664496, 0.55800784, 0.84448737, 1.252265...</td>\n",
       "      <td>[8.19, 31.005, 57.719997, 70.005, 64.935, 24.1...</td>\n",
       "      <td>[[3.099082, 0.46414718, 0.33549076, 0.6002563,...</td>\n",
       "      <td>[-0.2993394, -0.27316827, -0.24553603, -0.2164...</td>\n",
       "      <td>[3.108997, -2.4551952, -2.344967, -2.1353333, ...</td>\n",
       "      <td>[1384, 2515, 2770, 4156, 5542, 5542, 6927, 831...</td>\n",
       "      <td>[36182281, 36183667, 36183667, 36185052, 36186...</td>\n",
       "    </tr>\n",
       "    <tr>\n",
       "      <th>247</th>\n",
       "      <td>61174.0</td>\n",
       "      <td>61254</td>\n",
       "      <td>61274.0</td>\n",
       "      <td>61375.0</td>\n",
       "      <td>tie</td>\n",
       "      <td>Close Call</td>\n",
       "      <td>NaN</td>\n",
       "      <td>NaN</td>\n",
       "      <td>NaN</td>\n",
       "      <td>[61188 61211] [61211 61214] [61214 61220] [612...</td>\n",
       "      <td>...</td>\n",
       "      <td>[0.0026200346, nan, nan, 0.0027044346, 0.00204...</td>\n",
       "      <td>[0.015349463, nan, nan, 0.0061448426, 0.006152...</td>\n",
       "      <td>[0.08948469, -0.002254758, -0.09536301, -0.182...</td>\n",
       "      <td>[0.88585144, 1.5805309, 1.9701416, 2.2596772, ...</td>\n",
       "      <td>[5.85, 3.3149998, -7.7999997, -18.914999, -17....</td>\n",
       "      <td>[[0.22426029, 0.031661306, 0.23187897, 0.50685...</td>\n",
       "      <td>[-0.17116006, -0.19133626, -0.21119694, -0.230...</td>\n",
       "      <td>[1.9537605, 2.088994, 2.1246827, 2.2100766, 2....</td>\n",
       "      <td>[1384, 2515, 2770, 4156, 5542, 5542, 6927, 831...</td>\n",
       "      <td>[36182281, 36183667, 36183667, 36185052, 36186...</td>\n",
       "    </tr>\n",
       "  </tbody>\n",
       "</table>\n",
       "<p>5 rows × 200 columns</p>\n",
       "</div>"
      ],
      "text/plain": [
       "     tone_start_frame  reward_start  reward_dispensed  tone_stop_frame  \\\n",
       "243           57880.0         57960           57980.0          58079.0   \n",
       "244           60077.0         60157           60177.0          60276.0   \n",
       "245           60077.0         60157           60177.0          60276.0   \n",
       "246           61174.0         61254           61274.0          61375.0   \n",
       "247           61174.0         61254           61274.0          61375.0   \n",
       "\n",
       "    condition    competition_closeness  get_reward_frame  out_reward_frame  \\\n",
       "243        4.4      Subj 2 then Subj 1               NaN               NaN   \n",
       "244        4.4  Subj 2 blocking Subj 1               NaN               NaN   \n",
       "245        4.4  Subj 2 blocking Subj 1               NaN               NaN   \n",
       "246        tie              Close Call               NaN               NaN   \n",
       "247        tie              Close Call               NaN               NaN   \n",
       "\n",
       "                                                 notes  \\\n",
       "243                                                NaN   \n",
       "244  4.2 just jumping around on the right side of port   \n",
       "245  4.2 just jumping around on the right side of port   \n",
       "246                                                NaN   \n",
       "247                                                NaN   \n",
       "\n",
       "                               box_1_port_entry_frames  ...  \\\n",
       "243  [57883 57894] [57896 57900] [57901 57909] [579...  ...   \n",
       "244  [60070 60098] [60099 60101] [60103 60105] [601...  ...   \n",
       "245  [60070 60098] [60099 60101] [60103 60105] [601...  ...   \n",
       "246  [61188 61211] [61211 61214] [61214 61220] [612...  ...   \n",
       "247  [61188 61211] [61211 61214] [61214 61220] [612...  ...   \n",
       "\n",
       "                         vHPC_RMS_filtered_power_gamma  \\\n",
       "243  [0.0026200346, nan, nan, 0.0027044346, 0.00204...   \n",
       "244  [0.0015146171, 0.0020185008, 0.0026215008, 0.0...   \n",
       "245  [0.0026200346, nan, nan, 0.0027044346, 0.00204...   \n",
       "246  [0.0015146171, 0.0020185008, 0.0026215008, 0.0...   \n",
       "247  [0.0026200346, nan, nan, 0.0027044346, 0.00204...   \n",
       "\n",
       "                         vHPC_RMS_filtered_power_theta  \\\n",
       "243  [0.015349463, nan, nan, 0.0061448426, 0.006152...   \n",
       "244  [0.042833474, 0.0325564, 0.014915451, 0.023749...   \n",
       "245  [0.015349463, nan, nan, 0.0061448426, 0.006152...   \n",
       "246  [0.042833474, 0.0325564, 0.014915451, 0.023749...   \n",
       "247  [0.015349463, nan, nan, 0.0061448426, 0.006152...   \n",
       "\n",
       "                                       vHPC_gamma_band  \\\n",
       "243  [0.08948469, -0.002254758, -0.09536301, -0.182...   \n",
       "244  [0.124277644, 0.10781112, 0.0808986, 0.0448804...   \n",
       "245  [0.08948469, -0.002254758, -0.09536301, -0.182...   \n",
       "246  [0.124277644, 0.10781112, 0.0808986, 0.0448804...   \n",
       "247  [0.08948469, -0.002254758, -0.09536301, -0.182...   \n",
       "\n",
       "                                      vHPC_gamma_phase  \\\n",
       "243  [0.88585144, 1.5805309, 1.9701416, 2.2596772, ...   \n",
       "244  [-0.32664496, 0.55800784, 0.84448737, 1.252265...   \n",
       "245  [0.88585144, 1.5805309, 1.9701416, 2.2596772, ...   \n",
       "246  [-0.32664496, 0.55800784, 0.84448737, 1.252265...   \n",
       "247  [0.88585144, 1.5805309, 1.9701416, 2.2596772, ...   \n",
       "\n",
       "                                        vHPC_lfp_trace  \\\n",
       "243  [5.85, 3.3149998, -7.7999997, -18.914999, -17....   \n",
       "244  [8.19, 31.005, 57.719997, 70.005, 64.935, 24.1...   \n",
       "245  [5.85, 3.3149998, -7.7999997, -18.914999, -17....   \n",
       "246  [8.19, 31.005, 57.719997, 70.005, 64.935, 24.1...   \n",
       "247  [5.85, 3.3149998, -7.7999997, -18.914999, -17....   \n",
       "\n",
       "         vHPC_mPFC_granger_all_frequencies_all_windows  \\\n",
       "243  [[0.22426029, 0.031661306, 0.23187897, 0.50685...   \n",
       "244  [[3.099082, 0.46414718, 0.33549076, 0.6002563,...   \n",
       "245  [[0.22426029, 0.031661306, 0.23187897, 0.50685...   \n",
       "246  [[3.099082, 0.46414718, 0.33549076, 0.6002563,...   \n",
       "247  [[0.22426029, 0.031661306, 0.23187897, 0.50685...   \n",
       "\n",
       "                                       vHPC_theta_band  \\\n",
       "243  [-0.17116006, -0.19133626, -0.21119694, -0.230...   \n",
       "244  [-0.2993394, -0.27316827, -0.24553603, -0.2164...   \n",
       "245  [-0.17116006, -0.19133626, -0.21119694, -0.230...   \n",
       "246  [-0.2993394, -0.27316827, -0.24553603, -0.2164...   \n",
       "247  [-0.17116006, -0.19133626, -0.21119694, -0.230...   \n",
       "\n",
       "                                      vHPC_theta_phase  \\\n",
       "243  [1.9537605, 2.088994, 2.1246827, 2.2100766, 2....   \n",
       "244  [3.108997, -2.4551952, -2.344967, -2.1353333, ...   \n",
       "245  [1.9537605, 2.088994, 2.1246827, 2.2100766, 2....   \n",
       "246  [3.108997, -2.4551952, -2.344967, -2.1353333, ...   \n",
       "247  [1.9537605, 2.088994, 2.1246827, 2.2100766, 2....   \n",
       "\n",
       "                                      video_timestamps  \\\n",
       "243  [1384, 2515, 2770, 4156, 5542, 5542, 6927, 831...   \n",
       "244  [1384, 2515, 2770, 4156, 5542, 5542, 6927, 831...   \n",
       "245  [1384, 2515, 2770, 4156, 5542, 5542, 6927, 831...   \n",
       "246  [1384, 2515, 2770, 4156, 5542, 5542, 6927, 831...   \n",
       "247  [1384, 2515, 2770, 4156, 5542, 5542, 6927, 831...   \n",
       "\n",
       "                                     cluster_timestamp  \n",
       "243  [36182281, 36183667, 36183667, 36185052, 36186...  \n",
       "244  [36182281, 36183667, 36183667, 36185052, 36186...  \n",
       "245  [36182281, 36183667, 36183667, 36185052, 36186...  \n",
       "246  [36182281, 36183667, 36183667, 36185052, 36186...  \n",
       "247  [36182281, 36183667, 36183667, 36185052, 36186...  \n",
       "\n",
       "[5 rows x 200 columns]"
      ]
     },
     "execution_count": 45,
     "metadata": {},
     "output_type": "execute_result"
    }
   ],
   "source": [
    "TRIALS_AND_SPECTRAL_DF.tail()"
   ]
  },
  {
   "cell_type": "code",
   "execution_count": 46,
   "metadata": {
    "tags": []
   },
   "outputs": [],
   "source": [
    "timestamps_col = [col for col in TRIALS_AND_SPECTRAL_DF if \"timestamp\" in col and \"timestamps\" not in col and \"cluster\" not in col]"
   ]
  },
  {
   "cell_type": "code",
   "execution_count": 47,
   "metadata": {
    "tags": []
   },
   "outputs": [],
   "source": [
    "for col in timestamps_col:\n",
    "    TRIALS_AND_SPECTRAL_DF[col] = TRIALS_AND_SPECTRAL_DF[col].astype(int)"
   ]
  },
  {
   "cell_type": "code",
   "execution_count": 48,
   "metadata": {
    "tags": []
   },
   "outputs": [
    {
     "data": {
      "text/html": [
       "<div>\n",
       "<style scoped>\n",
       "    .dataframe tbody tr th:only-of-type {\n",
       "        vertical-align: middle;\n",
       "    }\n",
       "\n",
       "    .dataframe tbody tr th {\n",
       "        vertical-align: top;\n",
       "    }\n",
       "\n",
       "    .dataframe thead th {\n",
       "        text-align: right;\n",
       "    }\n",
       "</style>\n",
       "<table border=\"1\" class=\"dataframe\">\n",
       "  <thead>\n",
       "    <tr style=\"text-align: right;\">\n",
       "      <th></th>\n",
       "      <th>tone_start_timestamp</th>\n",
       "      <th>tone_stop_timestamp</th>\n",
       "      <th>first_timestamp</th>\n",
       "      <th>last_timestamp</th>\n",
       "    </tr>\n",
       "  </thead>\n",
       "  <tbody>\n",
       "    <tr>\n",
       "      <th>0</th>\n",
       "      <td>34280576</td>\n",
       "      <td>34480576</td>\n",
       "      <td>2067718</td>\n",
       "      <td>66452444</td>\n",
       "    </tr>\n",
       "    <tr>\n",
       "      <th>1</th>\n",
       "      <td>34280576</td>\n",
       "      <td>34480576</td>\n",
       "      <td>2067718</td>\n",
       "      <td>66452444</td>\n",
       "    </tr>\n",
       "    <tr>\n",
       "      <th>2</th>\n",
       "      <td>35280586</td>\n",
       "      <td>35480585</td>\n",
       "      <td>2067718</td>\n",
       "      <td>66452444</td>\n",
       "    </tr>\n",
       "    <tr>\n",
       "      <th>3</th>\n",
       "      <td>35280586</td>\n",
       "      <td>35480585</td>\n",
       "      <td>2067718</td>\n",
       "      <td>66452444</td>\n",
       "    </tr>\n",
       "    <tr>\n",
       "      <th>4</th>\n",
       "      <td>36380600</td>\n",
       "      <td>36580602</td>\n",
       "      <td>2067718</td>\n",
       "      <td>66452444</td>\n",
       "    </tr>\n",
       "  </tbody>\n",
       "</table>\n",
       "</div>"
      ],
      "text/plain": [
       "   tone_start_timestamp  tone_stop_timestamp  first_timestamp  last_timestamp\n",
       "0              34280576             34480576          2067718        66452444\n",
       "1              34280576             34480576          2067718        66452444\n",
       "2              35280586             35480585          2067718        66452444\n",
       "3              35280586             35480585          2067718        66452444\n",
       "4              36380600             36580602          2067718        66452444"
      ]
     },
     "execution_count": 48,
     "metadata": {},
     "output_type": "execute_result"
    }
   ],
   "source": [
    "TRIALS_AND_SPECTRAL_DF[timestamps_col].head()"
   ]
  },
  {
   "cell_type": "markdown",
   "metadata": {},
   "source": [
    "# Calculating the relevant timestamps"
   ]
  },
  {
   "cell_type": "code",
   "execution_count": 49,
   "metadata": {
    "tags": []
   },
   "outputs": [],
   "source": [
    "TRIALS_AND_SPECTRAL_DF[\"baseline_start_timestamp\"] = TRIALS_AND_SPECTRAL_DF[\"tone_start_timestamp\"] - 10 * EPHYS_SAMPLE_RATE"
   ]
  },
  {
   "cell_type": "code",
   "execution_count": 50,
   "metadata": {
    "tags": []
   },
   "outputs": [],
   "source": [
    "TRIALS_AND_SPECTRAL_DF[\"post_trial_end_timestamp\"] = TRIALS_AND_SPECTRAL_DF[\"tone_stop_timestamp\"] + 10 * EPHYS_SAMPLE_RATE"
   ]
  },
  {
   "cell_type": "code",
   "execution_count": 51,
   "metadata": {
    "tags": []
   },
   "outputs": [
    {
     "data": {
      "text/plain": [
       "0    34280576\n",
       "1    34280576\n",
       "2    35280586\n",
       "3    35280586\n",
       "4    36380600\n",
       "Name: tone_start_timestamp, dtype: int64"
      ]
     },
     "execution_count": 51,
     "metadata": {},
     "output_type": "execute_result"
    }
   ],
   "source": [
    "TRIALS_AND_SPECTRAL_DF[\"tone_start_timestamp\"].head()"
   ]
  },
  {
   "cell_type": "code",
   "execution_count": 52,
   "metadata": {
    "tags": []
   },
   "outputs": [
    {
     "data": {
      "text/plain": [
       "0    34280576\n",
       "1    34280576\n",
       "2    35280586\n",
       "3    35280586\n",
       "4    36380600\n",
       "Name: tone_start_timestamp, dtype: int64"
      ]
     },
     "execution_count": 52,
     "metadata": {},
     "output_type": "execute_result"
    }
   ],
   "source": [
    "TRIALS_AND_SPECTRAL_DF[\"tone_start_timestamp\"].head()"
   ]
  },
  {
   "cell_type": "code",
   "execution_count": 53,
   "metadata": {
    "tags": []
   },
   "outputs": [
    {
     "data": {
      "text/plain": [
       "0    34480576\n",
       "1    34480576\n",
       "2    35480585\n",
       "3    35480585\n",
       "4    36580602\n",
       "Name: tone_stop_timestamp, dtype: int64"
      ]
     },
     "execution_count": 53,
     "metadata": {},
     "output_type": "execute_result"
    }
   ],
   "source": [
    "TRIALS_AND_SPECTRAL_DF[\"tone_stop_timestamp\"].head()"
   ]
  },
  {
   "cell_type": "code",
   "execution_count": 54,
   "metadata": {
    "tags": []
   },
   "outputs": [
    {
     "data": {
      "text/html": [
       "<div>\n",
       "<style scoped>\n",
       "    .dataframe tbody tr th:only-of-type {\n",
       "        vertical-align: middle;\n",
       "    }\n",
       "\n",
       "    .dataframe tbody tr th {\n",
       "        vertical-align: top;\n",
       "    }\n",
       "\n",
       "    .dataframe thead th {\n",
       "        text-align: right;\n",
       "    }\n",
       "</style>\n",
       "<table border=\"1\" class=\"dataframe\">\n",
       "  <thead>\n",
       "    <tr style=\"text-align: right;\">\n",
       "      <th></th>\n",
       "      <th>tone_start_frame</th>\n",
       "      <th>reward_start</th>\n",
       "      <th>reward_dispensed</th>\n",
       "      <th>tone_stop_frame</th>\n",
       "      <th>condition</th>\n",
       "      <th>competition_closeness</th>\n",
       "      <th>get_reward_frame</th>\n",
       "      <th>out_reward_frame</th>\n",
       "      <th>notes</th>\n",
       "      <th>box_1_port_entry_frames</th>\n",
       "      <th>...</th>\n",
       "      <th>vHPC_gamma_band</th>\n",
       "      <th>vHPC_gamma_phase</th>\n",
       "      <th>vHPC_lfp_trace</th>\n",
       "      <th>vHPC_mPFC_granger_all_frequencies_all_windows</th>\n",
       "      <th>vHPC_theta_band</th>\n",
       "      <th>vHPC_theta_phase</th>\n",
       "      <th>video_timestamps</th>\n",
       "      <th>cluster_timestamp</th>\n",
       "      <th>baseline_start_timestamp</th>\n",
       "      <th>post_trial_end_timestamp</th>\n",
       "    </tr>\n",
       "  </thead>\n",
       "  <tbody>\n",
       "    <tr>\n",
       "      <th>0</th>\n",
       "      <td>34242.0</td>\n",
       "      <td>34322</td>\n",
       "      <td>34342.0</td>\n",
       "      <td>34442.0</td>\n",
       "      <td>4.3</td>\n",
       "      <td>After trial</td>\n",
       "      <td>NaN</td>\n",
       "      <td>NaN</td>\n",
       "      <td>NaN</td>\n",
       "      <td>[34250 34265]</td>\n",
       "      <td>...</td>\n",
       "      <td>[-0.06929627, -0.11967317, -0.15855941, -0.183...</td>\n",
       "      <td>[2.0203476, 2.3698096, 2.632465, 2.9235487, -3...</td>\n",
       "      <td>[-8.384999, -70.005, -99.645, -99.45, -157.56,...</td>\n",
       "      <td>[[nan, nan, nan, nan, nan, nan, nan, nan, nan,...</td>\n",
       "      <td>[0.6103468, 0.5730442, 0.5342873, 0.4941693, 0...</td>\n",
       "      <td>[-0.41403934, 0.30454272, 0.38569367, 0.659321...</td>\n",
       "      <td>[1384, 2770, 4156, 4156, 5541, 6927, 6927, 831...</td>\n",
       "      <td>[34079916, 34081302, 34082688, 34084074, 34084...</td>\n",
       "      <td>34080576</td>\n",
       "      <td>34680576</td>\n",
       "    </tr>\n",
       "    <tr>\n",
       "      <th>1</th>\n",
       "      <td>34242.0</td>\n",
       "      <td>34322</td>\n",
       "      <td>34342.0</td>\n",
       "      <td>34442.0</td>\n",
       "      <td>4.3</td>\n",
       "      <td>After trial</td>\n",
       "      <td>NaN</td>\n",
       "      <td>NaN</td>\n",
       "      <td>NaN</td>\n",
       "      <td>[34250 34265]</td>\n",
       "      <td>...</td>\n",
       "      <td>[0.056090515, 0.050495435, 0.040407084, 0.0263...</td>\n",
       "      <td>[-0.41799748, 0.42563042, 0.6898888, 1.115356,...</td>\n",
       "      <td>[-0.78, -3.8999999, -51.675, -83.85, -19.89, 6...</td>\n",
       "      <td>[[0.10801135, 0.9345647, 0.71951747, 0.1227541...</td>\n",
       "      <td>[-0.19497989, -0.21380065, -0.23236576, -0.250...</td>\n",
       "      <td>[2.0032697, 2.1665337, 2.1993783, 2.2978027, 2...</td>\n",
       "      <td>[1384, 2770, 4156, 4156, 5541, 6927, 6927, 831...</td>\n",
       "      <td>[34079916, 34081302, 34082688, 34084074, 34084...</td>\n",
       "      <td>34080576</td>\n",
       "      <td>34680576</td>\n",
       "    </tr>\n",
       "    <tr>\n",
       "      <th>2</th>\n",
       "      <td>35241.0</td>\n",
       "      <td>35321</td>\n",
       "      <td>35341.0</td>\n",
       "      <td>35439.0</td>\n",
       "      <td>4.3</td>\n",
       "      <td>Subj 2 Only</td>\n",
       "      <td>NaN</td>\n",
       "      <td>NaN</td>\n",
       "      <td>NaN</td>\n",
       "      <td>[35242 35249] [35249 35250] [35250 35271] [353...</td>\n",
       "      <td>...</td>\n",
       "      <td>[-0.06929627, -0.11967317, -0.15855941, -0.183...</td>\n",
       "      <td>[2.0203476, 2.3698096, 2.632465, 2.9235487, -3...</td>\n",
       "      <td>[-8.384999, -70.005, -99.645, -99.45, -157.56,...</td>\n",
       "      <td>[[nan, nan, nan, nan, nan, nan, nan, nan, nan,...</td>\n",
       "      <td>[0.6103468, 0.5730442, 0.5342873, 0.4941693, 0...</td>\n",
       "      <td>[-0.41403934, 0.30454272, 0.38569367, 0.659321...</td>\n",
       "      <td>[1384, 2770, 4156, 4156, 5541, 6927, 6927, 831...</td>\n",
       "      <td>[34079916, 34081302, 34082688, 34084074, 34084...</td>\n",
       "      <td>35080586</td>\n",
       "      <td>35680585</td>\n",
       "    </tr>\n",
       "    <tr>\n",
       "      <th>3</th>\n",
       "      <td>35241.0</td>\n",
       "      <td>35321</td>\n",
       "      <td>35341.0</td>\n",
       "      <td>35439.0</td>\n",
       "      <td>4.3</td>\n",
       "      <td>Subj 2 Only</td>\n",
       "      <td>NaN</td>\n",
       "      <td>NaN</td>\n",
       "      <td>NaN</td>\n",
       "      <td>[35242 35249] [35249 35250] [35250 35271] [353...</td>\n",
       "      <td>...</td>\n",
       "      <td>[0.056090515, 0.050495435, 0.040407084, 0.0263...</td>\n",
       "      <td>[-0.41799748, 0.42563042, 0.6898888, 1.115356,...</td>\n",
       "      <td>[-0.78, -3.8999999, -51.675, -83.85, -19.89, 6...</td>\n",
       "      <td>[[0.10801135, 0.9345647, 0.71951747, 0.1227541...</td>\n",
       "      <td>[-0.19497989, -0.21380065, -0.23236576, -0.250...</td>\n",
       "      <td>[2.0032697, 2.1665337, 2.1993783, 2.2978027, 2...</td>\n",
       "      <td>[1384, 2770, 4156, 4156, 5541, 6927, 6927, 831...</td>\n",
       "      <td>[34079916, 34081302, 34082688, 34084074, 34084...</td>\n",
       "      <td>35080586</td>\n",
       "      <td>35680585</td>\n",
       "    </tr>\n",
       "    <tr>\n",
       "      <th>4</th>\n",
       "      <td>36339.0</td>\n",
       "      <td>36419</td>\n",
       "      <td>36439.0</td>\n",
       "      <td>36538.0</td>\n",
       "      <td>4.3</td>\n",
       "      <td>Subj 2 blocking Subj 1</td>\n",
       "      <td>NaN</td>\n",
       "      <td>NaN</td>\n",
       "      <td>NaN</td>\n",
       "      <td>[36339 36354] [36361 36365] [36410 36473] [364...</td>\n",
       "      <td>...</td>\n",
       "      <td>[-0.06929627, -0.11967317, -0.15855941, -0.183...</td>\n",
       "      <td>[2.0203476, 2.3698096, 2.632465, 2.9235487, -3...</td>\n",
       "      <td>[-8.384999, -70.005, -99.645, -99.45, -157.56,...</td>\n",
       "      <td>[[nan, nan, nan, nan, nan, nan, nan, nan, nan,...</td>\n",
       "      <td>[0.6103468, 0.5730442, 0.5342873, 0.4941693, 0...</td>\n",
       "      <td>[-0.41403934, 0.30454272, 0.38569367, 0.659321...</td>\n",
       "      <td>[1384, 2770, 4156, 4156, 5541, 6927, 6927, 831...</td>\n",
       "      <td>[34079916, 34081302, 34082688, 34084074, 34084...</td>\n",
       "      <td>36180600</td>\n",
       "      <td>36780602</td>\n",
       "    </tr>\n",
       "  </tbody>\n",
       "</table>\n",
       "<p>5 rows × 202 columns</p>\n",
       "</div>"
      ],
      "text/plain": [
       "   tone_start_frame  reward_start  reward_dispensed  tone_stop_frame  \\\n",
       "0           34242.0         34322           34342.0          34442.0   \n",
       "1           34242.0         34322           34342.0          34442.0   \n",
       "2           35241.0         35321           35341.0          35439.0   \n",
       "3           35241.0         35321           35341.0          35439.0   \n",
       "4           36339.0         36419           36439.0          36538.0   \n",
       "\n",
       "  condition    competition_closeness  get_reward_frame  out_reward_frame  \\\n",
       "0        4.3             After trial               NaN               NaN   \n",
       "1        4.3             After trial               NaN               NaN   \n",
       "2        4.3             Subj 2 Only               NaN               NaN   \n",
       "3        4.3             Subj 2 Only               NaN               NaN   \n",
       "4        4.3  Subj 2 blocking Subj 1               NaN               NaN   \n",
       "\n",
       "  notes                            box_1_port_entry_frames  ...  \\\n",
       "0   NaN                                      [34250 34265]  ...   \n",
       "1   NaN                                      [34250 34265]  ...   \n",
       "2   NaN  [35242 35249] [35249 35250] [35250 35271] [353...  ...   \n",
       "3   NaN  [35242 35249] [35249 35250] [35250 35271] [353...  ...   \n",
       "4   NaN  [36339 36354] [36361 36365] [36410 36473] [364...  ...   \n",
       "\n",
       "                                     vHPC_gamma_band  \\\n",
       "0  [-0.06929627, -0.11967317, -0.15855941, -0.183...   \n",
       "1  [0.056090515, 0.050495435, 0.040407084, 0.0263...   \n",
       "2  [-0.06929627, -0.11967317, -0.15855941, -0.183...   \n",
       "3  [0.056090515, 0.050495435, 0.040407084, 0.0263...   \n",
       "4  [-0.06929627, -0.11967317, -0.15855941, -0.183...   \n",
       "\n",
       "                                    vHPC_gamma_phase  \\\n",
       "0  [2.0203476, 2.3698096, 2.632465, 2.9235487, -3...   \n",
       "1  [-0.41799748, 0.42563042, 0.6898888, 1.115356,...   \n",
       "2  [2.0203476, 2.3698096, 2.632465, 2.9235487, -3...   \n",
       "3  [-0.41799748, 0.42563042, 0.6898888, 1.115356,...   \n",
       "4  [2.0203476, 2.3698096, 2.632465, 2.9235487, -3...   \n",
       "\n",
       "                                      vHPC_lfp_trace  \\\n",
       "0  [-8.384999, -70.005, -99.645, -99.45, -157.56,...   \n",
       "1  [-0.78, -3.8999999, -51.675, -83.85, -19.89, 6...   \n",
       "2  [-8.384999, -70.005, -99.645, -99.45, -157.56,...   \n",
       "3  [-0.78, -3.8999999, -51.675, -83.85, -19.89, 6...   \n",
       "4  [-8.384999, -70.005, -99.645, -99.45, -157.56,...   \n",
       "\n",
       "       vHPC_mPFC_granger_all_frequencies_all_windows  \\\n",
       "0  [[nan, nan, nan, nan, nan, nan, nan, nan, nan,...   \n",
       "1  [[0.10801135, 0.9345647, 0.71951747, 0.1227541...   \n",
       "2  [[nan, nan, nan, nan, nan, nan, nan, nan, nan,...   \n",
       "3  [[0.10801135, 0.9345647, 0.71951747, 0.1227541...   \n",
       "4  [[nan, nan, nan, nan, nan, nan, nan, nan, nan,...   \n",
       "\n",
       "                                     vHPC_theta_band  \\\n",
       "0  [0.6103468, 0.5730442, 0.5342873, 0.4941693, 0...   \n",
       "1  [-0.19497989, -0.21380065, -0.23236576, -0.250...   \n",
       "2  [0.6103468, 0.5730442, 0.5342873, 0.4941693, 0...   \n",
       "3  [-0.19497989, -0.21380065, -0.23236576, -0.250...   \n",
       "4  [0.6103468, 0.5730442, 0.5342873, 0.4941693, 0...   \n",
       "\n",
       "                                    vHPC_theta_phase  \\\n",
       "0  [-0.41403934, 0.30454272, 0.38569367, 0.659321...   \n",
       "1  [2.0032697, 2.1665337, 2.1993783, 2.2978027, 2...   \n",
       "2  [-0.41403934, 0.30454272, 0.38569367, 0.659321...   \n",
       "3  [2.0032697, 2.1665337, 2.1993783, 2.2978027, 2...   \n",
       "4  [-0.41403934, 0.30454272, 0.38569367, 0.659321...   \n",
       "\n",
       "                                    video_timestamps  \\\n",
       "0  [1384, 2770, 4156, 4156, 5541, 6927, 6927, 831...   \n",
       "1  [1384, 2770, 4156, 4156, 5541, 6927, 6927, 831...   \n",
       "2  [1384, 2770, 4156, 4156, 5541, 6927, 6927, 831...   \n",
       "3  [1384, 2770, 4156, 4156, 5541, 6927, 6927, 831...   \n",
       "4  [1384, 2770, 4156, 4156, 5541, 6927, 6927, 831...   \n",
       "\n",
       "                                   cluster_timestamp baseline_start_timestamp  \\\n",
       "0  [34079916, 34081302, 34082688, 34084074, 34084...                 34080576   \n",
       "1  [34079916, 34081302, 34082688, 34084074, 34084...                 34080576   \n",
       "2  [34079916, 34081302, 34082688, 34084074, 34084...                 35080586   \n",
       "3  [34079916, 34081302, 34082688, 34084074, 34084...                 35080586   \n",
       "4  [34079916, 34081302, 34082688, 34084074, 34084...                 36180600   \n",
       "\n",
       "  post_trial_end_timestamp  \n",
       "0                 34680576  \n",
       "1                 34680576  \n",
       "2                 35680585  \n",
       "3                 35680585  \n",
       "4                 36780602  \n",
       "\n",
       "[5 rows x 202 columns]"
      ]
     },
     "execution_count": 54,
     "metadata": {},
     "output_type": "execute_result"
    }
   ],
   "source": [
    "TRIALS_AND_SPECTRAL_DF.head()"
   ]
  },
  {
   "cell_type": "markdown",
   "metadata": {},
   "source": [
    "# Filtering out the SLEAP posed for during trials"
   ]
  },
  {
   "cell_type": "code",
   "execution_count": 55,
   "metadata": {
    "tags": []
   },
   "outputs": [],
   "source": [
    "TRIALS_AND_SPECTRAL_DF[\"video_frame\"] = TRIALS_AND_SPECTRAL_DF[\"video_timestamps\"].apply(lambda x: np.array(list(range(len(x)))) + 1)"
   ]
  },
  {
   "cell_type": "code",
   "execution_count": 56,
   "metadata": {
    "tags": []
   },
   "outputs": [
    {
     "data": {
      "text/plain": [
       "0    (64255,)\n",
       "1    (64255,)\n",
       "2    (64255,)\n",
       "3    (64255,)\n",
       "4    (64255,)\n",
       "Name: video_frame, dtype: object"
      ]
     },
     "execution_count": 56,
     "metadata": {},
     "output_type": "execute_result"
    }
   ],
   "source": [
    "TRIALS_AND_SPECTRAL_DF[\"video_frame\"].head().apply(lambda x: x.shape)"
   ]
  },
  {
   "cell_type": "code",
   "execution_count": 57,
   "metadata": {},
   "outputs": [
    {
     "data": {
      "text/plain": [
       "['subject_thorax_to_agent_thorax',\n",
       " 'nose_to_reward_port_sum',\n",
       " 'nose_to_reward_port_diff',\n",
       " 'thorax_velocity_sum',\n",
       " 'thorax_velocity_diff',\n",
       " 'to_reward_port_angle_sum',\n",
       " 'to_reward_port_angle_diff',\n",
       " 'subject_nose_to_reward_port',\n",
       " 'subject_thorax_velocity',\n",
       " 'subject_to_reward_port_angle',\n",
       " 'agent_nose_to_reward_port',\n",
       " 'agent_thorax_velocity',\n",
       " 'agent_to_reward_port_angle',\n",
       " 'closebool_subject_nose_to_reward_port',\n",
       " 'closebool_agent_nose_to_reward_port',\n",
       " 'movingbool_subject_thorax_velocity',\n",
       " 'movingbool_agent_thorax_velocity',\n",
       " 'manual_cluster_id',\n",
       " 'standard_embedding_x',\n",
       " 'standard_embedding_y',\n",
       " 'kmeans_cluster',\n",
       " 'subject_locations',\n",
       " 'agent_locations',\n",
       " 'subject_thorax',\n",
       " 'subject_nose',\n",
       " 'subject_tail_base',\n",
       " 'agent_thorax',\n",
       " 'agent_nose',\n",
       " 'agent_tail_base']"
      ]
     },
     "execution_count": 57,
     "metadata": {},
     "output_type": "execute_result"
    }
   ],
   "source": [
    "['subject_thorax_to_agent_thorax',\n",
    " 'nose_to_reward_port_sum',\n",
    " 'nose_to_reward_port_diff',\n",
    " 'thorax_velocity_sum',\n",
    " 'thorax_velocity_diff',\n",
    " 'to_reward_port_angle_sum',\n",
    " 'to_reward_port_angle_diff',\n",
    " 'subject_nose_to_reward_port',\n",
    " 'subject_thorax_velocity',\n",
    " 'subject_to_reward_port_angle',\n",
    " 'agent_nose_to_reward_port',\n",
    " 'agent_thorax_velocity',\n",
    " 'agent_to_reward_port_angle',\n",
    " 'closebool_subject_nose_to_reward_port',\n",
    " 'closebool_agent_nose_to_reward_port',\n",
    " 'movingbool_subject_thorax_velocity',\n",
    " 'movingbool_agent_thorax_velocity',\n",
    " 'manual_cluster_id',\n",
    " 'standard_embedding_x',\n",
    " 'standard_embedding_y',\n",
    " 'kmeans_cluster',\n",
    " 'subject_locations',\n",
    " 'agent_locations',\n",
    " 'subject_thorax',\n",
    " 'subject_nose',\n",
    " 'subject_tail_base',\n",
    " 'agent_thorax',\n",
    " 'agent_nose',\n",
    " 'agent_tail_base']"
   ]
  },
  {
   "cell_type": "code",
   "execution_count": 58,
   "metadata": {
    "tags": []
   },
   "outputs": [],
   "source": [
    "# sleap_columns = [col for col in TRIALS_AND_SPECTRAL_DF.columns if \"locations\" in col or \"velocity\" in col or \"to_reward_port\" in col or \"video_frame\" in col]"
   ]
  },
  {
   "cell_type": "code",
   "execution_count": 59,
   "metadata": {
    "tags": []
   },
   "outputs": [],
   "source": [
    "sleap_columns = [col for col in TRIALS_AND_SPECTRAL_DF.columns if (\"thorax\" in col or \"nose\" in col or \"reward_port\" in col or \"standard_embedding\" in col or \"cluster\" in col or \"frame_index\" in col or \"locations\" in col or \"tailbase\" in col) and \"timestamp\" not in col]\n"
   ]
  },
  {
   "cell_type": "code",
   "execution_count": 60,
   "metadata": {
    "tags": []
   },
   "outputs": [
    {
     "data": {
      "text/plain": [
       "['frame_index',\n",
       " 'subject_thorax_to_agent_thorax',\n",
       " 'nose_to_reward_port_sum',\n",
       " 'nose_to_reward_port_diff',\n",
       " 'thorax_velocity_sum',\n",
       " 'thorax_velocity_diff',\n",
       " 'to_reward_port_angle_sum',\n",
       " 'to_reward_port_angle_diff',\n",
       " 'subject_nose_to_reward_port',\n",
       " 'subject_thorax_velocity',\n",
       " 'subject_to_reward_port_angle',\n",
       " 'agent_nose_to_reward_port',\n",
       " 'agent_thorax_velocity',\n",
       " 'agent_to_reward_port_angle',\n",
       " 'closebool_subject_nose_to_reward_port',\n",
       " 'closebool_agent_nose_to_reward_port',\n",
       " 'movingbool_subject_thorax_velocity',\n",
       " 'movingbool_agent_thorax_velocity',\n",
       " 'manual_cluster_id',\n",
       " 'standard_embedding_x',\n",
       " 'standard_embedding_y',\n",
       " 'kmeans_cluster',\n",
       " 'subject_locations',\n",
       " 'agent_locations',\n",
       " 'subject_thorax',\n",
       " 'subject_nose',\n",
       " 'agent_thorax',\n",
       " 'agent_nose']"
      ]
     },
     "execution_count": 60,
     "metadata": {},
     "output_type": "execute_result"
    }
   ],
   "source": [
    "sleap_columns"
   ]
  },
  {
   "cell_type": "code",
   "execution_count": 61,
   "metadata": {
    "tags": []
   },
   "outputs": [
    {
     "name": "stdout",
     "output_type": "stream",
     "text": [
      "frame_index\n",
      "(12593,)\n",
      "subject_thorax_to_agent_thorax\n",
      "(12593,)\n",
      "nose_to_reward_port_sum\n",
      "(12593,)\n",
      "nose_to_reward_port_diff\n",
      "(12593,)\n",
      "thorax_velocity_sum\n",
      "(12593,)\n",
      "thorax_velocity_diff\n",
      "(12593,)\n",
      "to_reward_port_angle_sum\n",
      "(12593,)\n",
      "to_reward_port_angle_diff\n",
      "(12593,)\n",
      "subject_nose_to_reward_port\n",
      "(12593,)\n",
      "subject_thorax_velocity\n",
      "(12593,)\n",
      "subject_to_reward_port_angle\n",
      "(12593,)\n",
      "agent_nose_to_reward_port\n",
      "(12593,)\n",
      "agent_thorax_velocity\n",
      "(12593,)\n",
      "agent_to_reward_port_angle\n",
      "(12593,)\n",
      "closebool_subject_nose_to_reward_port\n",
      "(12593,)\n",
      "closebool_agent_nose_to_reward_port\n",
      "(12593,)\n",
      "movingbool_subject_thorax_velocity\n",
      "(12593,)\n",
      "movingbool_agent_thorax_velocity\n",
      "(12593,)\n",
      "manual_cluster_id\n",
      "(12593,)\n",
      "standard_embedding_x\n",
      "(12593,)\n",
      "standard_embedding_y\n",
      "(12593,)\n",
      "kmeans_cluster\n",
      "(12593,)\n",
      "subject_locations\n",
      "(12593, 6, 2)\n",
      "agent_locations\n",
      "(12593, 6, 2)\n",
      "subject_thorax\n",
      "(12593, 2)\n",
      "subject_nose\n",
      "(12593, 2)\n",
      "agent_thorax\n",
      "(12593, 2)\n",
      "agent_nose\n",
      "(12593, 2)\n"
     ]
    }
   ],
   "source": [
    "for col in sleap_columns:\n",
    "    print(col)\n",
    "    print(TRIALS_AND_SPECTRAL_DF[col].apply(lambda x: x.shape).iloc[0])"
   ]
  },
  {
   "cell_type": "code",
   "execution_count": 62,
   "metadata": {
    "tags": []
   },
   "outputs": [
    {
     "name": "stdout",
     "output_type": "stream",
     "text": [
      "trial_and_post_agent_locations\n",
      "trial_and_post_agent_nose\n",
      "trial_and_post_agent_nose_to_reward_port\n",
      "trial_and_post_agent_thorax\n",
      "trial_and_post_agent_thorax_velocity\n",
      "trial_and_post_agent_to_reward_port_angle\n",
      "trial_and_post_closebool_agent_nose_to_reward_port\n",
      "trial_and_post_closebool_subject_nose_to_reward_port\n",
      "trial_and_post_frame_index\n",
      "trial_and_post_kmeans_cluster\n",
      "trial_and_post_manual_cluster_id\n",
      "trial_and_post_movingbool_agent_thorax_velocity\n",
      "trial_and_post_movingbool_subject_thorax_velocity\n",
      "trial_and_post_nose_to_reward_port_diff\n",
      "trial_and_post_nose_to_reward_port_sum\n",
      "trial_and_post_standard_embedding_x\n",
      "trial_and_post_standard_embedding_y\n",
      "trial_and_post_subject_locations\n",
      "trial_and_post_subject_nose\n",
      "trial_and_post_subject_nose_to_reward_port\n",
      "trial_and_post_subject_thorax\n",
      "trial_and_post_subject_thorax_to_agent_thorax\n",
      "trial_and_post_subject_thorax_velocity\n",
      "trial_and_post_subject_to_reward_port_angle\n",
      "trial_and_post_thorax_velocity_diff\n",
      "trial_and_post_thorax_velocity_sum\n",
      "trial_and_post_to_reward_port_angle_diff\n",
      "trial_and_post_to_reward_port_angle_sum\n"
     ]
    }
   ],
   "source": [
    "for col in sorted(sleap_columns):\n",
    "    updated_item_col = \"trial_and_post_{}\".format(col)\n",
    "    print(updated_item_col)\n",
    "    updated_timestamp_col = \"trial_and_post_video_timestamps\"\n",
    "    TRIALS_AND_SPECTRAL_DF[updated_item_col] = TRIALS_AND_SPECTRAL_DF.apply(lambda x: utilities.helper.filter_by_timestamp_range(start=x[\"tone_start_timestamp\"], stop=x[\"post_trial_end_timestamp\"], timestamps=x[\"cluster_timestamp\"], items=x[col])[1], axis=1)\n",
    "\n",
    "TRIALS_AND_SPECTRAL_DF[updated_timestamp_col] = TRIALS_AND_SPECTRAL_DF.apply(lambda x: utilities.helper.filter_by_timestamp_range(start=x[\"tone_start_timestamp\"], stop=x[\"post_trial_end_timestamp\"], timestamps=x[\"cluster_timestamp\"], items=x[col])[0], axis=1)"
   ]
  },
  {
   "cell_type": "code",
   "execution_count": 63,
   "metadata": {
    "tags": []
   },
   "outputs": [
    {
     "data": {
      "text/html": [
       "<div>\n",
       "<style scoped>\n",
       "    .dataframe tbody tr th:only-of-type {\n",
       "        vertical-align: middle;\n",
       "    }\n",
       "\n",
       "    .dataframe tbody tr th {\n",
       "        vertical-align: top;\n",
       "    }\n",
       "\n",
       "    .dataframe thead th {\n",
       "        text-align: right;\n",
       "    }\n",
       "</style>\n",
       "<table border=\"1\" class=\"dataframe\">\n",
       "  <thead>\n",
       "    <tr style=\"text-align: right;\">\n",
       "      <th></th>\n",
       "      <th>tone_start_frame</th>\n",
       "      <th>reward_start</th>\n",
       "      <th>reward_dispensed</th>\n",
       "      <th>tone_stop_frame</th>\n",
       "      <th>condition</th>\n",
       "      <th>competition_closeness</th>\n",
       "      <th>get_reward_frame</th>\n",
       "      <th>out_reward_frame</th>\n",
       "      <th>notes</th>\n",
       "      <th>box_1_port_entry_frames</th>\n",
       "      <th>...</th>\n",
       "      <th>trial_and_post_subject_nose_to_reward_port</th>\n",
       "      <th>trial_and_post_subject_thorax</th>\n",
       "      <th>trial_and_post_subject_thorax_to_agent_thorax</th>\n",
       "      <th>trial_and_post_subject_thorax_velocity</th>\n",
       "      <th>trial_and_post_subject_to_reward_port_angle</th>\n",
       "      <th>trial_and_post_thorax_velocity_diff</th>\n",
       "      <th>trial_and_post_thorax_velocity_sum</th>\n",
       "      <th>trial_and_post_to_reward_port_angle_diff</th>\n",
       "      <th>trial_and_post_to_reward_port_angle_sum</th>\n",
       "      <th>trial_and_post_video_timestamps</th>\n",
       "    </tr>\n",
       "  </thead>\n",
       "  <tbody>\n",
       "    <tr>\n",
       "      <th>0</th>\n",
       "      <td>34242.0</td>\n",
       "      <td>34322</td>\n",
       "      <td>34342.0</td>\n",
       "      <td>34442.0</td>\n",
       "      <td>4.3</td>\n",
       "      <td>After trial</td>\n",
       "      <td>NaN</td>\n",
       "      <td>NaN</td>\n",
       "      <td>NaN</td>\n",
       "      <td>[34250 34265]</td>\n",
       "      <td>...</td>\n",
       "      <td>[2.4861953, 2.2716153, 2.0270197, 1.8338053, 1...</td>\n",
       "      <td>[[71.95774040324862, 32.322139769886114], [71....</td>\n",
       "      <td>[13.249745, 12.420274, 11.498921, 10.627059, 9...</td>\n",
       "      <td>[4.569111, 5.1593533, 5.675921, 6.0645876, 6.3...</td>\n",
       "      <td>[2.9412072, 2.8742726, 2.7693202, 2.6417112, 2...</td>\n",
       "      <td>[5.8270407, 7.315352, 9.172596, 11.392724, 13....</td>\n",
       "      <td>[14.965262, 17.634058, 20.524439, 23.5219, 26....</td>\n",
       "      <td>[1.9850475, 2.0960886, 2.1170332, 2.0739496, 1...</td>\n",
       "      <td>[3.9031072, 3.6548777, 3.3964436, 3.159185, 2....</td>\n",
       "      <td>[34280867, 34282253, 34282253, 34283639, 34285...</td>\n",
       "    </tr>\n",
       "    <tr>\n",
       "      <th>1</th>\n",
       "      <td>34242.0</td>\n",
       "      <td>34322</td>\n",
       "      <td>34342.0</td>\n",
       "      <td>34442.0</td>\n",
       "      <td>4.3</td>\n",
       "      <td>After trial</td>\n",
       "      <td>NaN</td>\n",
       "      <td>NaN</td>\n",
       "      <td>NaN</td>\n",
       "      <td>[34250 34265]</td>\n",
       "      <td>...</td>\n",
       "      <td>[6.6279693, 7.402137, 8.201156, 9.028512, 9.92...</td>\n",
       "      <td>[[57.85368672899245, 29.88676433471742], [58.3...</td>\n",
       "      <td>[13.249745, 12.420274, 11.498921, 10.627059, 9...</td>\n",
       "      <td>[10.396152, 12.474705, 14.848517, 17.457312, 2...</td>\n",
       "      <td>[0.96189994, 0.7806051, 0.62712336, 0.5174737,...</td>\n",
       "      <td>[5.8270407, 7.315352, 9.172596, 11.392724, 13....</td>\n",
       "      <td>[14.965262, 17.634058, 20.524439, 23.5219, 26....</td>\n",
       "      <td>[1.9850475, 2.0960886, 2.1170332, 2.0739496, 1...</td>\n",
       "      <td>[3.9031072, 3.6548777, 3.3964436, 3.159185, 2....</td>\n",
       "      <td>[34280867, 34282253, 34282253, 34283639, 34285...</td>\n",
       "    </tr>\n",
       "    <tr>\n",
       "      <th>2</th>\n",
       "      <td>35241.0</td>\n",
       "      <td>35321</td>\n",
       "      <td>35341.0</td>\n",
       "      <td>35439.0</td>\n",
       "      <td>4.3</td>\n",
       "      <td>Subj 2 Only</td>\n",
       "      <td>NaN</td>\n",
       "      <td>NaN</td>\n",
       "      <td>NaN</td>\n",
       "      <td>[35242 35249] [35249 35250] [35250 35271] [353...</td>\n",
       "      <td>...</td>\n",
       "      <td>[1.1089377, 1.1452469, 1.1488823, 1.1699165, 1...</td>\n",
       "      <td>[[59.889793975715484, 31.176297534826535], [59...</td>\n",
       "      <td>[27.067476, 26.779356, 26.523151, 26.297247, 2...</td>\n",
       "      <td>[0.40238845, 0.4286343, 0.4387325, 0.44147334,...</td>\n",
       "      <td>[0.27336645, 0.31294948, 0.35071996, 0.3853223...</td>\n",
       "      <td>[4.3826394, 3.919239, 3.5807028, 3.4981563, 3....</td>\n",
       "      <td>[5.187416, 4.7765074, 4.4581676, 4.3811026, 4....</td>\n",
       "      <td>[0.19098243, 0.19574554, 0.22000165, 0.2532908...</td>\n",
       "      <td>[0.31987455, 0.38714713, 0.47364113, 0.5777477...</td>\n",
       "      <td>[35281465, 35282851, 35284237, 35284237, 35285...</td>\n",
       "    </tr>\n",
       "    <tr>\n",
       "      <th>3</th>\n",
       "      <td>35241.0</td>\n",
       "      <td>35321</td>\n",
       "      <td>35341.0</td>\n",
       "      <td>35439.0</td>\n",
       "      <td>4.3</td>\n",
       "      <td>Subj 2 Only</td>\n",
       "      <td>NaN</td>\n",
       "      <td>NaN</td>\n",
       "      <td>NaN</td>\n",
       "      <td>[35242 35249] [35249 35250] [35250 35271] [353...</td>\n",
       "      <td>...</td>\n",
       "      <td>[36.418747, 36.07958, 35.682335, 35.189987, 34...</td>\n",
       "      <td>[[52.097475233035375, 4.403293847774247], [52....</td>\n",
       "      <td>[27.067476, 26.779356, 26.523151, 26.297247, 2...</td>\n",
       "      <td>[4.785028, 4.347873, 4.0194354, 3.9396296, 4.2...</td>\n",
       "      <td>[0.04650808, 0.07419765, 0.12292117, 0.1924254...</td>\n",
       "      <td>[4.3826394, 3.919239, 3.5807028, 3.4981563, 3....</td>\n",
       "      <td>[5.187416, 4.7765074, 4.4581676, 4.3811026, 4....</td>\n",
       "      <td>[0.19098243, 0.19574554, 0.22000165, 0.2532908...</td>\n",
       "      <td>[0.31987455, 0.38714713, 0.47364113, 0.5777477...</td>\n",
       "      <td>[35281465, 35282851, 35284237, 35284237, 35285...</td>\n",
       "    </tr>\n",
       "    <tr>\n",
       "      <th>4</th>\n",
       "      <td>36339.0</td>\n",
       "      <td>36419</td>\n",
       "      <td>36439.0</td>\n",
       "      <td>36538.0</td>\n",
       "      <td>4.3</td>\n",
       "      <td>Subj 2 blocking Subj 1</td>\n",
       "      <td>NaN</td>\n",
       "      <td>NaN</td>\n",
       "      <td>NaN</td>\n",
       "      <td>[36339 36354] [36361 36365] [36410 36473] [364...</td>\n",
       "      <td>...</td>\n",
       "      <td>[1.1306264, 0.97184813, 0.85596865, 0.58294195...</td>\n",
       "      <td>[[59.88265859041628, 30.855202660299007], [60....</td>\n",
       "      <td>[9.941473, 9.860621, 9.8498745, 9.888419, 9.96...</td>\n",
       "      <td>[1.1130899, 1.0205495, 0.9626311, 0.9428376, 0...</td>\n",
       "      <td>[0.83984494, 0.8005584, 0.71527505, 0.64785486...</td>\n",
       "      <td>[4.92766, 5.32972, 5.5500345, 5.5871577, 5.489...</td>\n",
       "      <td>[6.954897, 7.253446, 7.432253, 7.5142064, 7.54...</td>\n",
       "      <td>[0.54289323, 0.6733394, 0.8578373, 1.0346372, ...</td>\n",
       "      <td>[1.9546683, 2.028851, 2.0825138, 2.171481, 2.2...</td>\n",
       "      <td>[36381846, 36383232, 36383232, 36384617, 36386...</td>\n",
       "    </tr>\n",
       "  </tbody>\n",
       "</table>\n",
       "<p>5 rows × 232 columns</p>\n",
       "</div>"
      ],
      "text/plain": [
       "   tone_start_frame  reward_start  reward_dispensed  tone_stop_frame  \\\n",
       "0           34242.0         34322           34342.0          34442.0   \n",
       "1           34242.0         34322           34342.0          34442.0   \n",
       "2           35241.0         35321           35341.0          35439.0   \n",
       "3           35241.0         35321           35341.0          35439.0   \n",
       "4           36339.0         36419           36439.0          36538.0   \n",
       "\n",
       "  condition    competition_closeness  get_reward_frame  out_reward_frame  \\\n",
       "0        4.3             After trial               NaN               NaN   \n",
       "1        4.3             After trial               NaN               NaN   \n",
       "2        4.3             Subj 2 Only               NaN               NaN   \n",
       "3        4.3             Subj 2 Only               NaN               NaN   \n",
       "4        4.3  Subj 2 blocking Subj 1               NaN               NaN   \n",
       "\n",
       "  notes                            box_1_port_entry_frames  ...  \\\n",
       "0   NaN                                      [34250 34265]  ...   \n",
       "1   NaN                                      [34250 34265]  ...   \n",
       "2   NaN  [35242 35249] [35249 35250] [35250 35271] [353...  ...   \n",
       "3   NaN  [35242 35249] [35249 35250] [35250 35271] [353...  ...   \n",
       "4   NaN  [36339 36354] [36361 36365] [36410 36473] [364...  ...   \n",
       "\n",
       "          trial_and_post_subject_nose_to_reward_port  \\\n",
       "0  [2.4861953, 2.2716153, 2.0270197, 1.8338053, 1...   \n",
       "1  [6.6279693, 7.402137, 8.201156, 9.028512, 9.92...   \n",
       "2  [1.1089377, 1.1452469, 1.1488823, 1.1699165, 1...   \n",
       "3  [36.418747, 36.07958, 35.682335, 35.189987, 34...   \n",
       "4  [1.1306264, 0.97184813, 0.85596865, 0.58294195...   \n",
       "\n",
       "                       trial_and_post_subject_thorax  \\\n",
       "0  [[71.95774040324862, 32.322139769886114], [71....   \n",
       "1  [[57.85368672899245, 29.88676433471742], [58.3...   \n",
       "2  [[59.889793975715484, 31.176297534826535], [59...   \n",
       "3  [[52.097475233035375, 4.403293847774247], [52....   \n",
       "4  [[59.88265859041628, 30.855202660299007], [60....   \n",
       "\n",
       "       trial_and_post_subject_thorax_to_agent_thorax  \\\n",
       "0  [13.249745, 12.420274, 11.498921, 10.627059, 9...   \n",
       "1  [13.249745, 12.420274, 11.498921, 10.627059, 9...   \n",
       "2  [27.067476, 26.779356, 26.523151, 26.297247, 2...   \n",
       "3  [27.067476, 26.779356, 26.523151, 26.297247, 2...   \n",
       "4  [9.941473, 9.860621, 9.8498745, 9.888419, 9.96...   \n",
       "\n",
       "              trial_and_post_subject_thorax_velocity  \\\n",
       "0  [4.569111, 5.1593533, 5.675921, 6.0645876, 6.3...   \n",
       "1  [10.396152, 12.474705, 14.848517, 17.457312, 2...   \n",
       "2  [0.40238845, 0.4286343, 0.4387325, 0.44147334,...   \n",
       "3  [4.785028, 4.347873, 4.0194354, 3.9396296, 4.2...   \n",
       "4  [1.1130899, 1.0205495, 0.9626311, 0.9428376, 0...   \n",
       "\n",
       "         trial_and_post_subject_to_reward_port_angle  \\\n",
       "0  [2.9412072, 2.8742726, 2.7693202, 2.6417112, 2...   \n",
       "1  [0.96189994, 0.7806051, 0.62712336, 0.5174737,...   \n",
       "2  [0.27336645, 0.31294948, 0.35071996, 0.3853223...   \n",
       "3  [0.04650808, 0.07419765, 0.12292117, 0.1924254...   \n",
       "4  [0.83984494, 0.8005584, 0.71527505, 0.64785486...   \n",
       "\n",
       "                 trial_and_post_thorax_velocity_diff  \\\n",
       "0  [5.8270407, 7.315352, 9.172596, 11.392724, 13....   \n",
       "1  [5.8270407, 7.315352, 9.172596, 11.392724, 13....   \n",
       "2  [4.3826394, 3.919239, 3.5807028, 3.4981563, 3....   \n",
       "3  [4.3826394, 3.919239, 3.5807028, 3.4981563, 3....   \n",
       "4  [4.92766, 5.32972, 5.5500345, 5.5871577, 5.489...   \n",
       "\n",
       "                  trial_and_post_thorax_velocity_sum  \\\n",
       "0  [14.965262, 17.634058, 20.524439, 23.5219, 26....   \n",
       "1  [14.965262, 17.634058, 20.524439, 23.5219, 26....   \n",
       "2  [5.187416, 4.7765074, 4.4581676, 4.3811026, 4....   \n",
       "3  [5.187416, 4.7765074, 4.4581676, 4.3811026, 4....   \n",
       "4  [6.954897, 7.253446, 7.432253, 7.5142064, 7.54...   \n",
       "\n",
       "            trial_and_post_to_reward_port_angle_diff  \\\n",
       "0  [1.9850475, 2.0960886, 2.1170332, 2.0739496, 1...   \n",
       "1  [1.9850475, 2.0960886, 2.1170332, 2.0739496, 1...   \n",
       "2  [0.19098243, 0.19574554, 0.22000165, 0.2532908...   \n",
       "3  [0.19098243, 0.19574554, 0.22000165, 0.2532908...   \n",
       "4  [0.54289323, 0.6733394, 0.8578373, 1.0346372, ...   \n",
       "\n",
       "             trial_and_post_to_reward_port_angle_sum  \\\n",
       "0  [3.9031072, 3.6548777, 3.3964436, 3.159185, 2....   \n",
       "1  [3.9031072, 3.6548777, 3.3964436, 3.159185, 2....   \n",
       "2  [0.31987455, 0.38714713, 0.47364113, 0.5777477...   \n",
       "3  [0.31987455, 0.38714713, 0.47364113, 0.5777477...   \n",
       "4  [1.9546683, 2.028851, 2.0825138, 2.171481, 2.2...   \n",
       "\n",
       "                     trial_and_post_video_timestamps  \n",
       "0  [34280867, 34282253, 34282253, 34283639, 34285...  \n",
       "1  [34280867, 34282253, 34282253, 34283639, 34285...  \n",
       "2  [35281465, 35282851, 35284237, 35284237, 35285...  \n",
       "3  [35281465, 35282851, 35284237, 35284237, 35285...  \n",
       "4  [36381846, 36383232, 36383232, 36384617, 36386...  \n",
       "\n",
       "[5 rows x 232 columns]"
      ]
     },
     "execution_count": 63,
     "metadata": {},
     "output_type": "execute_result"
    }
   ],
   "source": [
    "TRIALS_AND_SPECTRAL_DF.head()"
   ]
  },
  {
   "cell_type": "code",
   "execution_count": 64,
   "metadata": {
    "tags": []
   },
   "outputs": [
    {
     "data": {
      "text/plain": [
       "(400,)"
      ]
     },
     "execution_count": 64,
     "metadata": {},
     "output_type": "execute_result"
    }
   ],
   "source": [
    "TRIALS_AND_SPECTRAL_DF[\"trial_and_post_frame_index\"].iloc[0].shape"
   ]
  },
  {
   "cell_type": "code",
   "execution_count": 65,
   "metadata": {
    "tags": []
   },
   "outputs": [],
   "source": [
    "TRIALS_AND_SPECTRAL_DF = TRIALS_AND_SPECTRAL_DF.drop(columns=sleap_columns + [\"cluster_timestamp\"], errors=\"ignore\")"
   ]
  },
  {
   "cell_type": "code",
   "execution_count": 66,
   "metadata": {
    "tags": []
   },
   "outputs": [
    {
     "name": "stdout",
     "output_type": "stream",
     "text": [
      "tone_start_frame\n",
      "reward_start\n",
      "reward_dispensed\n",
      "tone_stop_frame\n",
      "condition \n",
      "competition_closeness\n",
      "get_reward_frame\n",
      "out_reward_frame\n",
      "notes\n",
      "box_1_port_entry_frames\n",
      "box_2_port_entry_frames\n",
      "video_name\n",
      "tone_start_timestamp\n",
      "tone_stop_timestamp\n",
      "box_1_port_entry_timestamps\n",
      "box_2_port_entry_timestamps\n",
      "current_subject\n",
      "subject_tail_base\n",
      "agent_tail_base\n",
      "session_dir\n",
      "experiment\n",
      "sleap_name\n",
      "video_id\n",
      "agent\n",
      "BLA-to-LH_granger_gamma\n",
      "BLA-to-LH_granger_theta\n",
      "BLA-to-MD_granger_gamma\n",
      "BLA-to-MD_granger_theta\n",
      "BLA-to-mPFC_granger_gamma\n",
      "BLA-to-mPFC_granger_theta\n",
      "BLA-to-vHPC_granger_gamma\n",
      "BLA-to-vHPC_granger_theta\n",
      "BLA_LH_coherence_all_frequencies_all_windows\n",
      "BLA_LH_coherence_gamma\n",
      "BLA_LH_coherence_theta\n",
      "BLA_LH_granger_all_frequencies_all_windows\n",
      "BLA_MD_coherence_all_frequencies_all_windows\n",
      "BLA_MD_coherence_gamma\n",
      "BLA_MD_coherence_theta\n",
      "BLA_MD_granger_all_frequencies_all_windows\n",
      "BLA_RMS_filtered_power_all_frequencies_all_windows\n",
      "BLA_RMS_filtered_power_gamma\n",
      "BLA_RMS_filtered_power_theta\n",
      "BLA_gamma_band\n",
      "BLA_gamma_phase\n",
      "BLA_lfp_trace\n",
      "BLA_mPFC_coherence_all_frequencies_all_windows\n",
      "BLA_mPFC_coherence_gamma\n",
      "BLA_mPFC_coherence_theta\n",
      "BLA_mPFC_granger_all_frequencies_all_windows\n",
      "BLA_theta_band\n",
      "BLA_theta_phase\n",
      "BLA_vHPC_coherence_all_frequencies_all_windows\n",
      "BLA_vHPC_coherence_gamma\n",
      "BLA_vHPC_coherence_theta\n",
      "BLA_vHPC_granger_all_frequencies_all_windows\n",
      "LH-to-BLA_granger_gamma\n",
      "LH-to-BLA_granger_theta\n",
      "LH-to-MD_granger_gamma\n",
      "LH-to-MD_granger_theta\n",
      "LH-to-mPFC_granger_gamma\n",
      "LH-to-mPFC_granger_theta\n",
      "LH-to-vHPC_granger_gamma\n",
      "LH-to-vHPC_granger_theta\n",
      "LH_BLA_granger_all_frequencies_all_windows\n",
      "LH_MD_coherence_all_frequencies_all_windows\n",
      "LH_MD_coherence_gamma\n",
      "LH_MD_coherence_theta\n",
      "LH_MD_granger_all_frequencies_all_windows\n",
      "LH_RMS_filtered_power_all_frequencies_all_windows\n",
      "LH_RMS_filtered_power_gamma\n",
      "LH_RMS_filtered_power_theta\n",
      "LH_gamma_band\n",
      "LH_gamma_phase\n",
      "LH_lfp_trace\n",
      "LH_mPFC_coherence_all_frequencies_all_windows\n",
      "LH_mPFC_coherence_gamma\n",
      "LH_mPFC_coherence_theta\n",
      "LH_mPFC_granger_all_frequencies_all_windows\n",
      "LH_theta_band\n",
      "LH_theta_phase\n",
      "LH_vHPC_coherence_all_frequencies_all_windows\n",
      "LH_vHPC_coherence_gamma\n",
      "LH_vHPC_coherence_theta\n",
      "LH_vHPC_granger_all_frequencies_all_windows\n",
      "MD-to-BLA_granger_gamma\n",
      "MD-to-BLA_granger_theta\n",
      "MD-to-LH_granger_gamma\n",
      "MD-to-LH_granger_theta\n",
      "MD-to-mPFC_granger_gamma\n",
      "MD-to-mPFC_granger_theta\n",
      "MD-to-vHPC_granger_gamma\n",
      "MD-to-vHPC_granger_theta\n",
      "MD_BLA_granger_all_frequencies_all_windows\n",
      "MD_LH_granger_all_frequencies_all_windows\n",
      "MD_RMS_filtered_power_all_frequencies_all_windows\n",
      "MD_RMS_filtered_power_gamma\n",
      "MD_RMS_filtered_power_theta\n",
      "MD_gamma_band\n",
      "MD_gamma_phase\n",
      "MD_lfp_trace\n",
      "MD_mPFC_coherence_all_frequencies_all_windows\n",
      "MD_mPFC_coherence_gamma\n",
      "MD_mPFC_coherence_theta\n",
      "MD_mPFC_granger_all_frequencies_all_windows\n",
      "MD_theta_band\n",
      "MD_theta_phase\n",
      "MD_vHPC_coherence_all_frequencies_all_windows\n",
      "MD_vHPC_coherence_gamma\n",
      "MD_vHPC_coherence_theta\n",
      "MD_vHPC_granger_all_frequencies_all_windows\n",
      "all_subjects\n",
      "coherence_calculation_frequencies\n",
      "coherence_timestamps\n",
      "cohort\n",
      "first_timestamp\n",
      "granger_calculation_frequencies\n",
      "granger_timestamps\n",
      "last_timestamp\n",
      "lfp_timestamps\n",
      "mPFC-to-BLA_granger_gamma\n",
      "mPFC-to-BLA_granger_theta\n",
      "mPFC-to-LH_granger_gamma\n",
      "mPFC-to-LH_granger_theta\n",
      "mPFC-to-MD_granger_gamma\n",
      "mPFC-to-MD_granger_theta\n",
      "mPFC-to-vHPC_granger_gamma\n",
      "mPFC-to-vHPC_granger_theta\n",
      "mPFC_BLA_granger_all_frequencies_all_windows\n",
      "mPFC_LH_granger_all_frequencies_all_windows\n",
      "mPFC_MD_granger_all_frequencies_all_windows\n",
      "mPFC_RMS_filtered_power_all_frequencies_all_windows\n",
      "mPFC_RMS_filtered_power_gamma\n",
      "mPFC_RMS_filtered_power_theta\n",
      "mPFC_gamma_band\n",
      "mPFC_gamma_phase\n",
      "mPFC_lfp_trace\n",
      "mPFC_theta_band\n",
      "mPFC_theta_phase\n",
      "mPFC_vHPC_coherence_all_frequencies_all_windows\n",
      "mPFC_vHPC_coherence_gamma\n",
      "mPFC_vHPC_coherence_theta\n",
      "mPFC_vHPC_granger_all_frequencies_all_windows\n",
      "power_calculation_frequencies\n",
      "power_timestamps\n",
      "recording\n",
      "session_path\n",
      "subject\n",
      "tone_frames\n",
      "tone_timestamps\n",
      "vHPC-to-BLA_granger_gamma\n",
      "vHPC-to-BLA_granger_theta\n",
      "vHPC-to-LH_granger_gamma\n",
      "vHPC-to-LH_granger_theta\n",
      "vHPC-to-MD_granger_gamma\n",
      "vHPC-to-MD_granger_theta\n",
      "vHPC-to-mPFC_granger_gamma\n",
      "vHPC-to-mPFC_granger_theta\n",
      "vHPC_BLA_granger_all_frequencies_all_windows\n",
      "vHPC_LH_granger_all_frequencies_all_windows\n",
      "vHPC_MD_granger_all_frequencies_all_windows\n",
      "vHPC_RMS_filtered_power_all_frequencies_all_windows\n",
      "vHPC_RMS_filtered_power_gamma\n",
      "vHPC_RMS_filtered_power_theta\n",
      "vHPC_gamma_band\n",
      "vHPC_gamma_phase\n",
      "vHPC_lfp_trace\n",
      "vHPC_mPFC_granger_all_frequencies_all_windows\n",
      "vHPC_theta_band\n",
      "vHPC_theta_phase\n",
      "video_timestamps\n",
      "baseline_start_timestamp\n",
      "post_trial_end_timestamp\n",
      "video_frame\n",
      "trial_and_post_agent_locations\n",
      "trial_and_post_agent_nose\n",
      "trial_and_post_agent_nose_to_reward_port\n",
      "trial_and_post_agent_thorax\n",
      "trial_and_post_agent_thorax_velocity\n",
      "trial_and_post_agent_to_reward_port_angle\n",
      "trial_and_post_closebool_agent_nose_to_reward_port\n",
      "trial_and_post_closebool_subject_nose_to_reward_port\n",
      "trial_and_post_frame_index\n",
      "trial_and_post_kmeans_cluster\n",
      "trial_and_post_manual_cluster_id\n",
      "trial_and_post_movingbool_agent_thorax_velocity\n",
      "trial_and_post_movingbool_subject_thorax_velocity\n",
      "trial_and_post_nose_to_reward_port_diff\n",
      "trial_and_post_nose_to_reward_port_sum\n",
      "trial_and_post_standard_embedding_x\n",
      "trial_and_post_standard_embedding_y\n",
      "trial_and_post_subject_locations\n",
      "trial_and_post_subject_nose\n",
      "trial_and_post_subject_nose_to_reward_port\n",
      "trial_and_post_subject_thorax\n",
      "trial_and_post_subject_thorax_to_agent_thorax\n",
      "trial_and_post_subject_thorax_velocity\n",
      "trial_and_post_subject_to_reward_port_angle\n",
      "trial_and_post_thorax_velocity_diff\n",
      "trial_and_post_thorax_velocity_sum\n",
      "trial_and_post_to_reward_port_angle_diff\n",
      "trial_and_post_to_reward_port_angle_sum\n",
      "trial_and_post_video_timestamps\n"
     ]
    }
   ],
   "source": [
    "for col in TRIALS_AND_SPECTRAL_DF.columns:\n",
    "    print(col)"
   ]
  },
  {
   "cell_type": "markdown",
   "metadata": {},
   "source": [
    "- Filtering coherence"
   ]
  },
  {
   "cell_type": "code",
   "execution_count": 67,
   "metadata": {
    "tags": []
   },
   "outputs": [],
   "source": [
    "coherence_columns = [col for col in TRIALS_AND_SPECTRAL_DF.columns if \"coherence\" in col and \"timestamps\" not in col and \"calculation\" not in col]"
   ]
  },
  {
   "cell_type": "code",
   "execution_count": 68,
   "metadata": {
    "tags": []
   },
   "outputs": [
    {
     "data": {
      "text/plain": [
       "['BLA_LH_coherence_all_frequencies_all_windows',\n",
       " 'BLA_LH_coherence_gamma',\n",
       " 'BLA_LH_coherence_theta',\n",
       " 'BLA_MD_coherence_all_frequencies_all_windows',\n",
       " 'BLA_MD_coherence_gamma',\n",
       " 'BLA_MD_coherence_theta',\n",
       " 'BLA_mPFC_coherence_all_frequencies_all_windows',\n",
       " 'BLA_mPFC_coherence_gamma',\n",
       " 'BLA_mPFC_coherence_theta',\n",
       " 'BLA_vHPC_coherence_all_frequencies_all_windows',\n",
       " 'BLA_vHPC_coherence_gamma',\n",
       " 'BLA_vHPC_coherence_theta',\n",
       " 'LH_MD_coherence_all_frequencies_all_windows',\n",
       " 'LH_MD_coherence_gamma',\n",
       " 'LH_MD_coherence_theta',\n",
       " 'LH_mPFC_coherence_all_frequencies_all_windows',\n",
       " 'LH_mPFC_coherence_gamma',\n",
       " 'LH_mPFC_coherence_theta',\n",
       " 'LH_vHPC_coherence_all_frequencies_all_windows',\n",
       " 'LH_vHPC_coherence_gamma',\n",
       " 'LH_vHPC_coherence_theta',\n",
       " 'MD_mPFC_coherence_all_frequencies_all_windows',\n",
       " 'MD_mPFC_coherence_gamma',\n",
       " 'MD_mPFC_coherence_theta',\n",
       " 'MD_vHPC_coherence_all_frequencies_all_windows',\n",
       " 'MD_vHPC_coherence_gamma',\n",
       " 'MD_vHPC_coherence_theta',\n",
       " 'mPFC_vHPC_coherence_all_frequencies_all_windows',\n",
       " 'mPFC_vHPC_coherence_gamma',\n",
       " 'mPFC_vHPC_coherence_theta']"
      ]
     },
     "execution_count": 68,
     "metadata": {},
     "output_type": "execute_result"
    }
   ],
   "source": [
    "coherence_columns"
   ]
  },
  {
   "cell_type": "code",
   "execution_count": 69,
   "metadata": {
    "tags": []
   },
   "outputs": [
    {
     "name": "stdout",
     "output_type": "stream",
     "text": [
      "trial_and_post_BLA_LH_coherence_all_frequencies_all_windows\n",
      "trial_and_post_BLA_LH_coherence_gamma\n",
      "trial_and_post_BLA_LH_coherence_theta\n",
      "trial_and_post_BLA_MD_coherence_all_frequencies_all_windows\n",
      "trial_and_post_BLA_MD_coherence_gamma\n",
      "trial_and_post_BLA_MD_coherence_theta\n",
      "trial_and_post_BLA_mPFC_coherence_all_frequencies_all_windows\n",
      "trial_and_post_BLA_mPFC_coherence_gamma\n",
      "trial_and_post_BLA_mPFC_coherence_theta\n",
      "trial_and_post_BLA_vHPC_coherence_all_frequencies_all_windows\n",
      "trial_and_post_BLA_vHPC_coherence_gamma\n",
      "trial_and_post_BLA_vHPC_coherence_theta\n",
      "trial_and_post_LH_MD_coherence_all_frequencies_all_windows\n",
      "trial_and_post_LH_MD_coherence_gamma\n",
      "trial_and_post_LH_MD_coherence_theta\n",
      "trial_and_post_LH_mPFC_coherence_all_frequencies_all_windows\n",
      "trial_and_post_LH_mPFC_coherence_gamma\n",
      "trial_and_post_LH_mPFC_coherence_theta\n",
      "trial_and_post_LH_vHPC_coherence_all_frequencies_all_windows\n",
      "trial_and_post_LH_vHPC_coherence_gamma\n",
      "trial_and_post_LH_vHPC_coherence_theta\n",
      "trial_and_post_MD_mPFC_coherence_all_frequencies_all_windows\n",
      "trial_and_post_MD_mPFC_coherence_gamma\n",
      "trial_and_post_MD_mPFC_coherence_theta\n",
      "trial_and_post_MD_vHPC_coherence_all_frequencies_all_windows\n",
      "trial_and_post_MD_vHPC_coherence_gamma\n",
      "trial_and_post_MD_vHPC_coherence_theta\n",
      "trial_and_post_mPFC_vHPC_coherence_all_frequencies_all_windows\n",
      "trial_and_post_mPFC_vHPC_coherence_gamma\n",
      "trial_and_post_mPFC_vHPC_coherence_theta\n"
     ]
    }
   ],
   "source": [
    "for col in sorted(coherence_columns):\n",
    "    updated_item_col = \"trial_and_post_{}\".format(col)\n",
    "    print(updated_item_col)\n",
    "    updated_timestamp_col = \"trial_and_post_coherence_timestamps\"\n",
    "    TRIALS_AND_SPECTRAL_DF[updated_item_col] = TRIALS_AND_SPECTRAL_DF.apply(lambda x: utilities.helper.filter_by_timestamp_range(start=x[\"tone_start_timestamp\"], stop=x[\"post_trial_end_timestamp\"], timestamps=x[\"coherence_timestamps\"], items=x[col])[1], axis=1)\n",
    "\n",
    "TRIALS_AND_SPECTRAL_DF[updated_timestamp_col] = TRIALS_AND_SPECTRAL_DF.apply(lambda x: utilities.helper.filter_by_timestamp_range(start=x[\"tone_start_timestamp\"], stop=x[\"post_trial_end_timestamp\"], timestamps=x[\"coherence_timestamps\"], items=x[col])[0], axis=1)"
   ]
  },
  {
   "cell_type": "code",
   "execution_count": 70,
   "metadata": {
    "tags": []
   },
   "outputs": [],
   "source": [
    "TRIALS_AND_SPECTRAL_DF = TRIALS_AND_SPECTRAL_DF.drop(columns=coherence_columns + [\"coherence_timestamps\"], errors=\"ignore\")"
   ]
  },
  {
   "cell_type": "markdown",
   "metadata": {},
   "source": [
    "- Filtering Grangers"
   ]
  },
  {
   "cell_type": "code",
   "execution_count": 71,
   "metadata": {
    "tags": []
   },
   "outputs": [],
   "source": [
    "granger_columns = [col for col in TRIALS_AND_SPECTRAL_DF.columns if \"granger\" in col and \"timestamps\" not in col and \"calculation\" not in col]"
   ]
  },
  {
   "cell_type": "code",
   "execution_count": 72,
   "metadata": {
    "tags": []
   },
   "outputs": [
    {
     "data": {
      "text/plain": [
       "['BLA-to-LH_granger_gamma',\n",
       " 'BLA-to-LH_granger_theta',\n",
       " 'BLA-to-MD_granger_gamma',\n",
       " 'BLA-to-MD_granger_theta',\n",
       " 'BLA-to-mPFC_granger_gamma',\n",
       " 'BLA-to-mPFC_granger_theta',\n",
       " 'BLA-to-vHPC_granger_gamma',\n",
       " 'BLA-to-vHPC_granger_theta',\n",
       " 'BLA_LH_granger_all_frequencies_all_windows',\n",
       " 'BLA_MD_granger_all_frequencies_all_windows',\n",
       " 'BLA_mPFC_granger_all_frequencies_all_windows',\n",
       " 'BLA_vHPC_granger_all_frequencies_all_windows',\n",
       " 'LH-to-BLA_granger_gamma',\n",
       " 'LH-to-BLA_granger_theta',\n",
       " 'LH-to-MD_granger_gamma',\n",
       " 'LH-to-MD_granger_theta',\n",
       " 'LH-to-mPFC_granger_gamma',\n",
       " 'LH-to-mPFC_granger_theta',\n",
       " 'LH-to-vHPC_granger_gamma',\n",
       " 'LH-to-vHPC_granger_theta',\n",
       " 'LH_BLA_granger_all_frequencies_all_windows',\n",
       " 'LH_MD_granger_all_frequencies_all_windows',\n",
       " 'LH_mPFC_granger_all_frequencies_all_windows',\n",
       " 'LH_vHPC_granger_all_frequencies_all_windows',\n",
       " 'MD-to-BLA_granger_gamma',\n",
       " 'MD-to-BLA_granger_theta',\n",
       " 'MD-to-LH_granger_gamma',\n",
       " 'MD-to-LH_granger_theta',\n",
       " 'MD-to-mPFC_granger_gamma',\n",
       " 'MD-to-mPFC_granger_theta',\n",
       " 'MD-to-vHPC_granger_gamma',\n",
       " 'MD-to-vHPC_granger_theta',\n",
       " 'MD_BLA_granger_all_frequencies_all_windows',\n",
       " 'MD_LH_granger_all_frequencies_all_windows',\n",
       " 'MD_mPFC_granger_all_frequencies_all_windows',\n",
       " 'MD_vHPC_granger_all_frequencies_all_windows',\n",
       " 'mPFC-to-BLA_granger_gamma',\n",
       " 'mPFC-to-BLA_granger_theta',\n",
       " 'mPFC-to-LH_granger_gamma',\n",
       " 'mPFC-to-LH_granger_theta',\n",
       " 'mPFC-to-MD_granger_gamma',\n",
       " 'mPFC-to-MD_granger_theta',\n",
       " 'mPFC-to-vHPC_granger_gamma',\n",
       " 'mPFC-to-vHPC_granger_theta',\n",
       " 'mPFC_BLA_granger_all_frequencies_all_windows',\n",
       " 'mPFC_LH_granger_all_frequencies_all_windows',\n",
       " 'mPFC_MD_granger_all_frequencies_all_windows',\n",
       " 'mPFC_vHPC_granger_all_frequencies_all_windows',\n",
       " 'vHPC-to-BLA_granger_gamma',\n",
       " 'vHPC-to-BLA_granger_theta',\n",
       " 'vHPC-to-LH_granger_gamma',\n",
       " 'vHPC-to-LH_granger_theta',\n",
       " 'vHPC-to-MD_granger_gamma',\n",
       " 'vHPC-to-MD_granger_theta',\n",
       " 'vHPC-to-mPFC_granger_gamma',\n",
       " 'vHPC-to-mPFC_granger_theta',\n",
       " 'vHPC_BLA_granger_all_frequencies_all_windows',\n",
       " 'vHPC_LH_granger_all_frequencies_all_windows',\n",
       " 'vHPC_MD_granger_all_frequencies_all_windows',\n",
       " 'vHPC_mPFC_granger_all_frequencies_all_windows']"
      ]
     },
     "execution_count": 72,
     "metadata": {},
     "output_type": "execute_result"
    }
   ],
   "source": [
    "granger_columns"
   ]
  },
  {
   "cell_type": "code",
   "execution_count": 73,
   "metadata": {
    "tags": []
   },
   "outputs": [
    {
     "name": "stdout",
     "output_type": "stream",
     "text": [
      "trial_and_post_BLA-to-LH_granger_gamma\n",
      "trial_and_post_BLA-to-LH_granger_theta\n",
      "trial_and_post_BLA-to-MD_granger_gamma\n",
      "trial_and_post_BLA-to-MD_granger_theta\n",
      "trial_and_post_BLA-to-mPFC_granger_gamma\n",
      "trial_and_post_BLA-to-mPFC_granger_theta\n",
      "trial_and_post_BLA-to-vHPC_granger_gamma\n",
      "trial_and_post_BLA-to-vHPC_granger_theta\n",
      "trial_and_post_BLA_LH_granger_all_frequencies_all_windows\n",
      "trial_and_post_BLA_MD_granger_all_frequencies_all_windows\n",
      "trial_and_post_BLA_mPFC_granger_all_frequencies_all_windows\n",
      "trial_and_post_BLA_vHPC_granger_all_frequencies_all_windows\n",
      "trial_and_post_LH-to-BLA_granger_gamma\n",
      "trial_and_post_LH-to-BLA_granger_theta\n",
      "trial_and_post_LH-to-MD_granger_gamma\n",
      "trial_and_post_LH-to-MD_granger_theta\n",
      "trial_and_post_LH-to-mPFC_granger_gamma\n",
      "trial_and_post_LH-to-mPFC_granger_theta\n",
      "trial_and_post_LH-to-vHPC_granger_gamma\n",
      "trial_and_post_LH-to-vHPC_granger_theta\n",
      "trial_and_post_LH_BLA_granger_all_frequencies_all_windows\n",
      "trial_and_post_LH_MD_granger_all_frequencies_all_windows\n",
      "trial_and_post_LH_mPFC_granger_all_frequencies_all_windows\n",
      "trial_and_post_LH_vHPC_granger_all_frequencies_all_windows\n",
      "trial_and_post_MD-to-BLA_granger_gamma\n",
      "trial_and_post_MD-to-BLA_granger_theta\n",
      "trial_and_post_MD-to-LH_granger_gamma\n",
      "trial_and_post_MD-to-LH_granger_theta\n",
      "trial_and_post_MD-to-mPFC_granger_gamma\n",
      "trial_and_post_MD-to-mPFC_granger_theta\n",
      "trial_and_post_MD-to-vHPC_granger_gamma\n",
      "trial_and_post_MD-to-vHPC_granger_theta\n",
      "trial_and_post_MD_BLA_granger_all_frequencies_all_windows\n",
      "trial_and_post_MD_LH_granger_all_frequencies_all_windows\n",
      "trial_and_post_MD_mPFC_granger_all_frequencies_all_windows\n",
      "trial_and_post_MD_vHPC_granger_all_frequencies_all_windows\n",
      "trial_and_post_mPFC-to-BLA_granger_gamma\n",
      "trial_and_post_mPFC-to-BLA_granger_theta\n",
      "trial_and_post_mPFC-to-LH_granger_gamma\n",
      "trial_and_post_mPFC-to-LH_granger_theta\n",
      "trial_and_post_mPFC-to-MD_granger_gamma\n",
      "trial_and_post_mPFC-to-MD_granger_theta\n",
      "trial_and_post_mPFC-to-vHPC_granger_gamma\n",
      "trial_and_post_mPFC-to-vHPC_granger_theta\n",
      "trial_and_post_mPFC_BLA_granger_all_frequencies_all_windows\n",
      "trial_and_post_mPFC_LH_granger_all_frequencies_all_windows\n",
      "trial_and_post_mPFC_MD_granger_all_frequencies_all_windows\n",
      "trial_and_post_mPFC_vHPC_granger_all_frequencies_all_windows\n",
      "trial_and_post_vHPC-to-BLA_granger_gamma\n",
      "trial_and_post_vHPC-to-BLA_granger_theta\n",
      "trial_and_post_vHPC-to-LH_granger_gamma\n",
      "trial_and_post_vHPC-to-LH_granger_theta\n",
      "trial_and_post_vHPC-to-MD_granger_gamma\n",
      "trial_and_post_vHPC-to-MD_granger_theta\n",
      "trial_and_post_vHPC-to-mPFC_granger_gamma\n",
      "trial_and_post_vHPC-to-mPFC_granger_theta\n",
      "trial_and_post_vHPC_BLA_granger_all_frequencies_all_windows\n",
      "trial_and_post_vHPC_LH_granger_all_frequencies_all_windows\n",
      "trial_and_post_vHPC_MD_granger_all_frequencies_all_windows\n",
      "trial_and_post_vHPC_mPFC_granger_all_frequencies_all_windows\n"
     ]
    }
   ],
   "source": [
    "for col in sorted(granger_columns):\n",
    "    updated_item_col = \"trial_and_post_{}\".format(col)\n",
    "    print(updated_item_col)\n",
    "    updated_timestamp_col = \"trial_and_post_granger_timestamps\"\n",
    "    TRIALS_AND_SPECTRAL_DF[updated_item_col] = TRIALS_AND_SPECTRAL_DF.apply(lambda x: utilities.helper.filter_by_timestamp_range(start=x[\"tone_start_timestamp\"], stop=x[\"post_trial_end_timestamp\"], timestamps=x[\"granger_timestamps\"], items=x[col])[1], axis=1)\n",
    "\n",
    "TRIALS_AND_SPECTRAL_DF[updated_timestamp_col] = TRIALS_AND_SPECTRAL_DF.apply(lambda x: utilities.helper.filter_by_timestamp_range(start=x[\"tone_start_timestamp\"], stop=x[\"post_trial_end_timestamp\"], timestamps=x[\"granger_timestamps\"], items=x[col])[0], axis=1)"
   ]
  },
  {
   "cell_type": "code",
   "execution_count": 74,
   "metadata": {
    "tags": []
   },
   "outputs": [],
   "source": [
    "TRIALS_AND_SPECTRAL_DF = TRIALS_AND_SPECTRAL_DF.drop(columns=granger_columns + [\"granger_timestamps\"], errors=\"ignore\")"
   ]
  },
  {
   "cell_type": "code",
   "execution_count": 75,
   "metadata": {},
   "outputs": [],
   "source": [
    "TRIALS_AND_SPECTRAL_DF.to_pickle(os.path.join(OUTPUT_DIR, FULL_LFP_TRACES_PKL))"
   ]
  },
  {
   "cell_type": "markdown",
   "metadata": {},
   "source": [
    "- Filtering power"
   ]
  },
  {
   "cell_type": "code",
   "execution_count": 76,
   "metadata": {},
   "outputs": [
    {
     "data": {
      "text/html": [
       "<div>\n",
       "<style scoped>\n",
       "    .dataframe tbody tr th:only-of-type {\n",
       "        vertical-align: middle;\n",
       "    }\n",
       "\n",
       "    .dataframe tbody tr th {\n",
       "        vertical-align: top;\n",
       "    }\n",
       "\n",
       "    .dataframe thead th {\n",
       "        text-align: right;\n",
       "    }\n",
       "</style>\n",
       "<table border=\"1\" class=\"dataframe\">\n",
       "  <thead>\n",
       "    <tr style=\"text-align: right;\">\n",
       "      <th></th>\n",
       "      <th>tone_start_frame</th>\n",
       "      <th>reward_start</th>\n",
       "      <th>reward_dispensed</th>\n",
       "      <th>tone_stop_frame</th>\n",
       "      <th>condition</th>\n",
       "      <th>competition_closeness</th>\n",
       "      <th>get_reward_frame</th>\n",
       "      <th>out_reward_frame</th>\n",
       "      <th>notes</th>\n",
       "      <th>box_1_port_entry_frames</th>\n",
       "      <th>...</th>\n",
       "      <th>trial_and_post_vHPC-to-LH_granger_theta</th>\n",
       "      <th>trial_and_post_vHPC-to-MD_granger_gamma</th>\n",
       "      <th>trial_and_post_vHPC-to-MD_granger_theta</th>\n",
       "      <th>trial_and_post_vHPC-to-mPFC_granger_gamma</th>\n",
       "      <th>trial_and_post_vHPC-to-mPFC_granger_theta</th>\n",
       "      <th>trial_and_post_vHPC_BLA_granger_all_frequencies_all_windows</th>\n",
       "      <th>trial_and_post_vHPC_LH_granger_all_frequencies_all_windows</th>\n",
       "      <th>trial_and_post_vHPC_MD_granger_all_frequencies_all_windows</th>\n",
       "      <th>trial_and_post_vHPC_mPFC_granger_all_frequencies_all_windows</th>\n",
       "      <th>trial_and_post_granger_timestamps</th>\n",
       "    </tr>\n",
       "  </thead>\n",
       "  <tbody>\n",
       "    <tr>\n",
       "      <th>0</th>\n",
       "      <td>34242.0</td>\n",
       "      <td>34322</td>\n",
       "      <td>34342.0</td>\n",
       "      <td>34442.0</td>\n",
       "      <td>4.3</td>\n",
       "      <td>After trial</td>\n",
       "      <td>NaN</td>\n",
       "      <td>NaN</td>\n",
       "      <td>NaN</td>\n",
       "      <td>[34250 34265]</td>\n",
       "      <td>...</td>\n",
       "      <td>[nan, nan, 0.20589761, 0.9640081, nan, nan, 0....</td>\n",
       "      <td>[nan, nan, 0.30926424, 0.25220188, nan, nan, 0...</td>\n",
       "      <td>[nan, nan, 0.095124066, 0.643016, nan, nan, 0....</td>\n",
       "      <td>[nan, nan, 0.1569771, 0.19070423, 0.4585937, 0...</td>\n",
       "      <td>[nan, nan, 0.2088117, 0.16601166, 0.3455993, 0...</td>\n",
       "      <td>[[nan, nan, nan, nan, nan, nan, nan, nan, nan,...</td>\n",
       "      <td>[[nan, nan, nan, nan, nan, nan, nan, nan, nan,...</td>\n",
       "      <td>[[nan, nan, nan, nan, nan, nan, nan, nan, nan,...</td>\n",
       "      <td>[[nan, nan, nan, nan, nan, nan, nan, nan, nan,...</td>\n",
       "      <td>[34290000, 34300000, 34310000, 34320000, 34330...</td>\n",
       "    </tr>\n",
       "    <tr>\n",
       "      <th>1</th>\n",
       "      <td>34242.0</td>\n",
       "      <td>34322</td>\n",
       "      <td>34342.0</td>\n",
       "      <td>34442.0</td>\n",
       "      <td>4.3</td>\n",
       "      <td>After trial</td>\n",
       "      <td>NaN</td>\n",
       "      <td>NaN</td>\n",
       "      <td>NaN</td>\n",
       "      <td>[34250 34265]</td>\n",
       "      <td>...</td>\n",
       "      <td>[0.10217985, 0.12709841, 0.20064971, 0.0970779...</td>\n",
       "      <td>[0.519983, 0.4223254, 0.2499345, 0.30090326, 0...</td>\n",
       "      <td>[0.10570881, 0.14331408, 0.17701852, 0.1849999...</td>\n",
       "      <td>[0.21263, 0.37446445, 0.34829086, 0.36602214, ...</td>\n",
       "      <td>[0.07440844, 0.10832663, 0.1621511, 0.0767037,...</td>\n",
       "      <td>[[0.9082437, 1.702321, 0.26233336, 0.005933128...</td>\n",
       "      <td>[[0.5064685, 0.358471, 0.55923617, 0.30875865,...</td>\n",
       "      <td>[[0.96538275, 0.10910119, 0.004785885, 0.01848...</td>\n",
       "      <td>[[0.016020196, 0.00012993268, 0.2842621, 0.199...</td>\n",
       "      <td>[34290000, 34300000, 34310000, 34320000, 34330...</td>\n",
       "    </tr>\n",
       "    <tr>\n",
       "      <th>2</th>\n",
       "      <td>35241.0</td>\n",
       "      <td>35321</td>\n",
       "      <td>35341.0</td>\n",
       "      <td>35439.0</td>\n",
       "      <td>4.3</td>\n",
       "      <td>Subj 2 Only</td>\n",
       "      <td>NaN</td>\n",
       "      <td>NaN</td>\n",
       "      <td>NaN</td>\n",
       "      <td>[35242 35249] [35249 35250] [35250 35271] [353...</td>\n",
       "      <td>...</td>\n",
       "      <td>[nan, nan, 0.62891924, 0.6018706, 0.265078, 0....</td>\n",
       "      <td>[nan, nan, 0.57126826, 0.3705952, 0.49803594, ...</td>\n",
       "      <td>[nan, nan, 0.54193485, 0.2436925, 0.26329193, ...</td>\n",
       "      <td>[nan, nan, 0.166316, 0.31046996, 0.21204294, 0...</td>\n",
       "      <td>[nan, nan, 0.24754146, 0.15036911, 0.061768956...</td>\n",
       "      <td>[[nan, nan, nan, nan, nan, nan, nan, nan, nan,...</td>\n",
       "      <td>[[nan, nan, nan, nan, nan, nan, nan, nan, nan,...</td>\n",
       "      <td>[[nan, nan, nan, nan, nan, nan, nan, nan, nan,...</td>\n",
       "      <td>[[nan, nan, nan, nan, nan, nan, nan, nan, nan,...</td>\n",
       "      <td>[35290000, 35300000, 35310000, 35320000, 35330...</td>\n",
       "    </tr>\n",
       "    <tr>\n",
       "      <th>3</th>\n",
       "      <td>35241.0</td>\n",
       "      <td>35321</td>\n",
       "      <td>35341.0</td>\n",
       "      <td>35439.0</td>\n",
       "      <td>4.3</td>\n",
       "      <td>Subj 2 Only</td>\n",
       "      <td>NaN</td>\n",
       "      <td>NaN</td>\n",
       "      <td>NaN</td>\n",
       "      <td>[35242 35249] [35249 35250] [35250 35271] [353...</td>\n",
       "      <td>...</td>\n",
       "      <td>[0.13519448, 0.04071226, 0.113442235, 0.200003...</td>\n",
       "      <td>[0.28915203, 0.28622752, 0.15704502, 0.1970611...</td>\n",
       "      <td>[0.26806355, 0.2262254, 0.33601293, 0.81927377...</td>\n",
       "      <td>[0.17953686, 0.28731292, 0.23438458, 0.2861041...</td>\n",
       "      <td>[0.25073707, 0.21066107, 0.3490196, 0.07607516...</td>\n",
       "      <td>[[0.5816017, 0.063610435, 0.14955683, 0.210158...</td>\n",
       "      <td>[[0.6568974, 1.0212861, 0.05766481, 0.1917388,...</td>\n",
       "      <td>[[0.77305835, 0.23048328, 0.24249722, 0.269778...</td>\n",
       "      <td>[[0.027987318, 0.061369784, 0.01772461, 0.1635...</td>\n",
       "      <td>[35290000, 35300000, 35310000, 35320000, 35330...</td>\n",
       "    </tr>\n",
       "    <tr>\n",
       "      <th>4</th>\n",
       "      <td>36339.0</td>\n",
       "      <td>36419</td>\n",
       "      <td>36439.0</td>\n",
       "      <td>36538.0</td>\n",
       "      <td>4.3</td>\n",
       "      <td>Subj 2 blocking Subj 1</td>\n",
       "      <td>NaN</td>\n",
       "      <td>NaN</td>\n",
       "      <td>NaN</td>\n",
       "      <td>[36339 36354] [36361 36365] [36410 36473] [364...</td>\n",
       "      <td>...</td>\n",
       "      <td>[0.20555179, 0.54496163, 0.5135671, 0.4818653,...</td>\n",
       "      <td>[0.12461248, 0.17561705, 0.27625504, 0.1882012...</td>\n",
       "      <td>[0.20821989, 0.45550716, 0.2562119, 0.3394489,...</td>\n",
       "      <td>[0.17908934, 0.23997788, 0.39097258, 0.4240108...</td>\n",
       "      <td>[0.16767275, 0.311181, 0.3730203, 0.33727127, ...</td>\n",
       "      <td>[[0.004335904, 0.004469719, 0.019590594, 0.001...</td>\n",
       "      <td>[[0.18915232, 0.47623792, 0.19593622, 0.045745...</td>\n",
       "      <td>[[0.5212869, 0.5885494, 0.13759334, 0.05542526...</td>\n",
       "      <td>[[1.0416099, 0.33503333, 0.0035690519, 0.07738...</td>\n",
       "      <td>[36390000, 36400000, 36410000, 36420000, 36430...</td>\n",
       "    </tr>\n",
       "  </tbody>\n",
       "</table>\n",
       "<p>5 rows × 203 columns</p>\n",
       "</div>"
      ],
      "text/plain": [
       "   tone_start_frame  reward_start  reward_dispensed  tone_stop_frame  \\\n",
       "0           34242.0         34322           34342.0          34442.0   \n",
       "1           34242.0         34322           34342.0          34442.0   \n",
       "2           35241.0         35321           35341.0          35439.0   \n",
       "3           35241.0         35321           35341.0          35439.0   \n",
       "4           36339.0         36419           36439.0          36538.0   \n",
       "\n",
       "  condition    competition_closeness  get_reward_frame  out_reward_frame  \\\n",
       "0        4.3             After trial               NaN               NaN   \n",
       "1        4.3             After trial               NaN               NaN   \n",
       "2        4.3             Subj 2 Only               NaN               NaN   \n",
       "3        4.3             Subj 2 Only               NaN               NaN   \n",
       "4        4.3  Subj 2 blocking Subj 1               NaN               NaN   \n",
       "\n",
       "  notes                            box_1_port_entry_frames  ...  \\\n",
       "0   NaN                                      [34250 34265]  ...   \n",
       "1   NaN                                      [34250 34265]  ...   \n",
       "2   NaN  [35242 35249] [35249 35250] [35250 35271] [353...  ...   \n",
       "3   NaN  [35242 35249] [35249 35250] [35250 35271] [353...  ...   \n",
       "4   NaN  [36339 36354] [36361 36365] [36410 36473] [364...  ...   \n",
       "\n",
       "             trial_and_post_vHPC-to-LH_granger_theta  \\\n",
       "0  [nan, nan, 0.20589761, 0.9640081, nan, nan, 0....   \n",
       "1  [0.10217985, 0.12709841, 0.20064971, 0.0970779...   \n",
       "2  [nan, nan, 0.62891924, 0.6018706, 0.265078, 0....   \n",
       "3  [0.13519448, 0.04071226, 0.113442235, 0.200003...   \n",
       "4  [0.20555179, 0.54496163, 0.5135671, 0.4818653,...   \n",
       "\n",
       "             trial_and_post_vHPC-to-MD_granger_gamma  \\\n",
       "0  [nan, nan, 0.30926424, 0.25220188, nan, nan, 0...   \n",
       "1  [0.519983, 0.4223254, 0.2499345, 0.30090326, 0...   \n",
       "2  [nan, nan, 0.57126826, 0.3705952, 0.49803594, ...   \n",
       "3  [0.28915203, 0.28622752, 0.15704502, 0.1970611...   \n",
       "4  [0.12461248, 0.17561705, 0.27625504, 0.1882012...   \n",
       "\n",
       "             trial_and_post_vHPC-to-MD_granger_theta  \\\n",
       "0  [nan, nan, 0.095124066, 0.643016, nan, nan, 0....   \n",
       "1  [0.10570881, 0.14331408, 0.17701852, 0.1849999...   \n",
       "2  [nan, nan, 0.54193485, 0.2436925, 0.26329193, ...   \n",
       "3  [0.26806355, 0.2262254, 0.33601293, 0.81927377...   \n",
       "4  [0.20821989, 0.45550716, 0.2562119, 0.3394489,...   \n",
       "\n",
       "           trial_and_post_vHPC-to-mPFC_granger_gamma  \\\n",
       "0  [nan, nan, 0.1569771, 0.19070423, 0.4585937, 0...   \n",
       "1  [0.21263, 0.37446445, 0.34829086, 0.36602214, ...   \n",
       "2  [nan, nan, 0.166316, 0.31046996, 0.21204294, 0...   \n",
       "3  [0.17953686, 0.28731292, 0.23438458, 0.2861041...   \n",
       "4  [0.17908934, 0.23997788, 0.39097258, 0.4240108...   \n",
       "\n",
       "           trial_and_post_vHPC-to-mPFC_granger_theta  \\\n",
       "0  [nan, nan, 0.2088117, 0.16601166, 0.3455993, 0...   \n",
       "1  [0.07440844, 0.10832663, 0.1621511, 0.0767037,...   \n",
       "2  [nan, nan, 0.24754146, 0.15036911, 0.061768956...   \n",
       "3  [0.25073707, 0.21066107, 0.3490196, 0.07607516...   \n",
       "4  [0.16767275, 0.311181, 0.3730203, 0.33727127, ...   \n",
       "\n",
       "  trial_and_post_vHPC_BLA_granger_all_frequencies_all_windows  \\\n",
       "0  [[nan, nan, nan, nan, nan, nan, nan, nan, nan,...            \n",
       "1  [[0.9082437, 1.702321, 0.26233336, 0.005933128...            \n",
       "2  [[nan, nan, nan, nan, nan, nan, nan, nan, nan,...            \n",
       "3  [[0.5816017, 0.063610435, 0.14955683, 0.210158...            \n",
       "4  [[0.004335904, 0.004469719, 0.019590594, 0.001...            \n",
       "\n",
       "  trial_and_post_vHPC_LH_granger_all_frequencies_all_windows  \\\n",
       "0  [[nan, nan, nan, nan, nan, nan, nan, nan, nan,...           \n",
       "1  [[0.5064685, 0.358471, 0.55923617, 0.30875865,...           \n",
       "2  [[nan, nan, nan, nan, nan, nan, nan, nan, nan,...           \n",
       "3  [[0.6568974, 1.0212861, 0.05766481, 0.1917388,...           \n",
       "4  [[0.18915232, 0.47623792, 0.19593622, 0.045745...           \n",
       "\n",
       "  trial_and_post_vHPC_MD_granger_all_frequencies_all_windows  \\\n",
       "0  [[nan, nan, nan, nan, nan, nan, nan, nan, nan,...           \n",
       "1  [[0.96538275, 0.10910119, 0.004785885, 0.01848...           \n",
       "2  [[nan, nan, nan, nan, nan, nan, nan, nan, nan,...           \n",
       "3  [[0.77305835, 0.23048328, 0.24249722, 0.269778...           \n",
       "4  [[0.5212869, 0.5885494, 0.13759334, 0.05542526...           \n",
       "\n",
       "  trial_and_post_vHPC_mPFC_granger_all_frequencies_all_windows  \\\n",
       "0  [[nan, nan, nan, nan, nan, nan, nan, nan, nan,...             \n",
       "1  [[0.016020196, 0.00012993268, 0.2842621, 0.199...             \n",
       "2  [[nan, nan, nan, nan, nan, nan, nan, nan, nan,...             \n",
       "3  [[0.027987318, 0.061369784, 0.01772461, 0.1635...             \n",
       "4  [[1.0416099, 0.33503333, 0.0035690519, 0.07738...             \n",
       "\n",
       "                   trial_and_post_granger_timestamps  \n",
       "0  [34290000, 34300000, 34310000, 34320000, 34330...  \n",
       "1  [34290000, 34300000, 34310000, 34320000, 34330...  \n",
       "2  [35290000, 35300000, 35310000, 35320000, 35330...  \n",
       "3  [35290000, 35300000, 35310000, 35320000, 35330...  \n",
       "4  [36390000, 36400000, 36410000, 36420000, 36430...  \n",
       "\n",
       "[5 rows x 203 columns]"
      ]
     },
     "execution_count": 76,
     "metadata": {},
     "output_type": "execute_result"
    }
   ],
   "source": [
    "TRIALS_AND_SPECTRAL_DF.head()"
   ]
  },
  {
   "cell_type": "code",
   "execution_count": 77,
   "metadata": {
    "tags": []
   },
   "outputs": [],
   "source": [
    "power_columns = [col for col in TRIALS_AND_SPECTRAL_DF.columns if \"power\" in col and \"timestamps\" not in col and \"calculation\" not in col]"
   ]
  },
  {
   "cell_type": "code",
   "execution_count": 78,
   "metadata": {
    "tags": []
   },
   "outputs": [
    {
     "data": {
      "text/plain": [
       "['BLA_RMS_filtered_power_all_frequencies_all_windows',\n",
       " 'BLA_RMS_filtered_power_gamma',\n",
       " 'BLA_RMS_filtered_power_theta',\n",
       " 'LH_RMS_filtered_power_all_frequencies_all_windows',\n",
       " 'LH_RMS_filtered_power_gamma',\n",
       " 'LH_RMS_filtered_power_theta',\n",
       " 'MD_RMS_filtered_power_all_frequencies_all_windows',\n",
       " 'MD_RMS_filtered_power_gamma',\n",
       " 'MD_RMS_filtered_power_theta',\n",
       " 'mPFC_RMS_filtered_power_all_frequencies_all_windows',\n",
       " 'mPFC_RMS_filtered_power_gamma',\n",
       " 'mPFC_RMS_filtered_power_theta',\n",
       " 'vHPC_RMS_filtered_power_all_frequencies_all_windows',\n",
       " 'vHPC_RMS_filtered_power_gamma',\n",
       " 'vHPC_RMS_filtered_power_theta']"
      ]
     },
     "execution_count": 78,
     "metadata": {},
     "output_type": "execute_result"
    }
   ],
   "source": [
    "power_columns"
   ]
  },
  {
   "cell_type": "code",
   "execution_count": 79,
   "metadata": {
    "tags": []
   },
   "outputs": [
    {
     "name": "stdout",
     "output_type": "stream",
     "text": [
      "trial_and_post_BLA_RMS_filtered_power_all_frequencies_all_windows\n",
      "trial_and_post_BLA_RMS_filtered_power_gamma\n",
      "trial_and_post_BLA_RMS_filtered_power_theta\n",
      "trial_and_post_LH_RMS_filtered_power_all_frequencies_all_windows\n",
      "trial_and_post_LH_RMS_filtered_power_gamma\n",
      "trial_and_post_LH_RMS_filtered_power_theta\n",
      "trial_and_post_MD_RMS_filtered_power_all_frequencies_all_windows\n",
      "trial_and_post_MD_RMS_filtered_power_gamma\n",
      "trial_and_post_MD_RMS_filtered_power_theta\n",
      "trial_and_post_mPFC_RMS_filtered_power_all_frequencies_all_windows\n",
      "trial_and_post_mPFC_RMS_filtered_power_gamma\n",
      "trial_and_post_mPFC_RMS_filtered_power_theta\n",
      "trial_and_post_vHPC_RMS_filtered_power_all_frequencies_all_windows\n",
      "trial_and_post_vHPC_RMS_filtered_power_gamma\n",
      "trial_and_post_vHPC_RMS_filtered_power_theta\n"
     ]
    }
   ],
   "source": [
    "for col in sorted(power_columns):\n",
    "    updated_item_col = \"trial_and_post_{}\".format(col)\n",
    "    print(updated_item_col)\n",
    "    updated_timestamp_col = \"trial_and_post_power_timestamps\"\n",
    "    TRIALS_AND_SPECTRAL_DF[updated_item_col] = TRIALS_AND_SPECTRAL_DF.apply(lambda x: utilities.helper.filter_by_timestamp_range(start=x[\"tone_start_timestamp\"], stop=x[\"post_trial_end_timestamp\"], timestamps=x[\"power_timestamps\"], items=x[col])[1], axis=1)\n",
    "\n",
    "TRIALS_AND_SPECTRAL_DF[updated_timestamp_col] = TRIALS_AND_SPECTRAL_DF.apply(lambda x: utilities.helper.filter_by_timestamp_range(start=x[\"tone_start_timestamp\"], stop=x[\"post_trial_end_timestamp\"], timestamps=x[\"power_timestamps\"], items=x[col])[0], axis=1)\n"
   ]
  },
  {
   "cell_type": "code",
   "execution_count": 80,
   "metadata": {
    "tags": []
   },
   "outputs": [],
   "source": [
    "TRIALS_AND_SPECTRAL_DF = TRIALS_AND_SPECTRAL_DF.drop(columns=power_columns + [\"power_timestamps\"], errors=\"ignore\")"
   ]
  },
  {
   "cell_type": "code",
   "execution_count": 81,
   "metadata": {
    "tags": []
   },
   "outputs": [
    {
     "name": "stdout",
     "output_type": "stream",
     "text": [
      "tone_start_frame\n",
      "reward_start\n",
      "reward_dispensed\n",
      "tone_stop_frame\n",
      "condition \n",
      "competition_closeness\n",
      "get_reward_frame\n",
      "out_reward_frame\n",
      "notes\n",
      "box_1_port_entry_frames\n",
      "box_2_port_entry_frames\n",
      "video_name\n",
      "tone_start_timestamp\n",
      "tone_stop_timestamp\n",
      "box_1_port_entry_timestamps\n",
      "box_2_port_entry_timestamps\n",
      "current_subject\n",
      "subject_tail_base\n",
      "agent_tail_base\n",
      "session_dir\n",
      "experiment\n",
      "sleap_name\n",
      "video_id\n",
      "agent\n",
      "BLA_gamma_band\n",
      "BLA_gamma_phase\n",
      "BLA_lfp_trace\n",
      "BLA_theta_band\n",
      "BLA_theta_phase\n",
      "LH_gamma_band\n",
      "LH_gamma_phase\n",
      "LH_lfp_trace\n",
      "LH_theta_band\n",
      "LH_theta_phase\n",
      "MD_gamma_band\n",
      "MD_gamma_phase\n",
      "MD_lfp_trace\n",
      "MD_theta_band\n",
      "MD_theta_phase\n",
      "all_subjects\n",
      "coherence_calculation_frequencies\n",
      "cohort\n",
      "first_timestamp\n",
      "granger_calculation_frequencies\n",
      "last_timestamp\n",
      "lfp_timestamps\n",
      "mPFC_gamma_band\n",
      "mPFC_gamma_phase\n",
      "mPFC_lfp_trace\n",
      "mPFC_theta_band\n",
      "mPFC_theta_phase\n",
      "power_calculation_frequencies\n",
      "recording\n",
      "session_path\n",
      "subject\n",
      "tone_frames\n",
      "tone_timestamps\n",
      "vHPC_gamma_band\n",
      "vHPC_gamma_phase\n",
      "vHPC_lfp_trace\n",
      "vHPC_theta_band\n",
      "vHPC_theta_phase\n",
      "video_timestamps\n",
      "baseline_start_timestamp\n",
      "post_trial_end_timestamp\n",
      "video_frame\n",
      "trial_and_post_agent_locations\n",
      "trial_and_post_agent_nose\n",
      "trial_and_post_agent_nose_to_reward_port\n",
      "trial_and_post_agent_thorax\n",
      "trial_and_post_agent_thorax_velocity\n",
      "trial_and_post_agent_to_reward_port_angle\n",
      "trial_and_post_closebool_agent_nose_to_reward_port\n",
      "trial_and_post_closebool_subject_nose_to_reward_port\n",
      "trial_and_post_frame_index\n",
      "trial_and_post_kmeans_cluster\n",
      "trial_and_post_manual_cluster_id\n",
      "trial_and_post_movingbool_agent_thorax_velocity\n",
      "trial_and_post_movingbool_subject_thorax_velocity\n",
      "trial_and_post_nose_to_reward_port_diff\n",
      "trial_and_post_nose_to_reward_port_sum\n",
      "trial_and_post_standard_embedding_x\n",
      "trial_and_post_standard_embedding_y\n",
      "trial_and_post_subject_locations\n",
      "trial_and_post_subject_nose\n",
      "trial_and_post_subject_nose_to_reward_port\n",
      "trial_and_post_subject_thorax\n",
      "trial_and_post_subject_thorax_to_agent_thorax\n",
      "trial_and_post_subject_thorax_velocity\n",
      "trial_and_post_subject_to_reward_port_angle\n",
      "trial_and_post_thorax_velocity_diff\n",
      "trial_and_post_thorax_velocity_sum\n",
      "trial_and_post_to_reward_port_angle_diff\n",
      "trial_and_post_to_reward_port_angle_sum\n",
      "trial_and_post_video_timestamps\n",
      "trial_and_post_BLA_LH_coherence_all_frequencies_all_windows\n",
      "trial_and_post_BLA_LH_coherence_gamma\n",
      "trial_and_post_BLA_LH_coherence_theta\n",
      "trial_and_post_BLA_MD_coherence_all_frequencies_all_windows\n",
      "trial_and_post_BLA_MD_coherence_gamma\n",
      "trial_and_post_BLA_MD_coherence_theta\n",
      "trial_and_post_BLA_mPFC_coherence_all_frequencies_all_windows\n",
      "trial_and_post_BLA_mPFC_coherence_gamma\n",
      "trial_and_post_BLA_mPFC_coherence_theta\n",
      "trial_and_post_BLA_vHPC_coherence_all_frequencies_all_windows\n",
      "trial_and_post_BLA_vHPC_coherence_gamma\n",
      "trial_and_post_BLA_vHPC_coherence_theta\n",
      "trial_and_post_LH_MD_coherence_all_frequencies_all_windows\n",
      "trial_and_post_LH_MD_coherence_gamma\n",
      "trial_and_post_LH_MD_coherence_theta\n",
      "trial_and_post_LH_mPFC_coherence_all_frequencies_all_windows\n",
      "trial_and_post_LH_mPFC_coherence_gamma\n",
      "trial_and_post_LH_mPFC_coherence_theta\n",
      "trial_and_post_LH_vHPC_coherence_all_frequencies_all_windows\n",
      "trial_and_post_LH_vHPC_coherence_gamma\n",
      "trial_and_post_LH_vHPC_coherence_theta\n",
      "trial_and_post_MD_mPFC_coherence_all_frequencies_all_windows\n",
      "trial_and_post_MD_mPFC_coherence_gamma\n",
      "trial_and_post_MD_mPFC_coherence_theta\n",
      "trial_and_post_MD_vHPC_coherence_all_frequencies_all_windows\n",
      "trial_and_post_MD_vHPC_coherence_gamma\n",
      "trial_and_post_MD_vHPC_coherence_theta\n",
      "trial_and_post_mPFC_vHPC_coherence_all_frequencies_all_windows\n",
      "trial_and_post_mPFC_vHPC_coherence_gamma\n",
      "trial_and_post_mPFC_vHPC_coherence_theta\n",
      "trial_and_post_coherence_timestamps\n",
      "trial_and_post_BLA-to-LH_granger_gamma\n",
      "trial_and_post_BLA-to-LH_granger_theta\n",
      "trial_and_post_BLA-to-MD_granger_gamma\n",
      "trial_and_post_BLA-to-MD_granger_theta\n",
      "trial_and_post_BLA-to-mPFC_granger_gamma\n",
      "trial_and_post_BLA-to-mPFC_granger_theta\n",
      "trial_and_post_BLA-to-vHPC_granger_gamma\n",
      "trial_and_post_BLA-to-vHPC_granger_theta\n",
      "trial_and_post_BLA_LH_granger_all_frequencies_all_windows\n",
      "trial_and_post_BLA_MD_granger_all_frequencies_all_windows\n",
      "trial_and_post_BLA_mPFC_granger_all_frequencies_all_windows\n",
      "trial_and_post_BLA_vHPC_granger_all_frequencies_all_windows\n",
      "trial_and_post_LH-to-BLA_granger_gamma\n",
      "trial_and_post_LH-to-BLA_granger_theta\n",
      "trial_and_post_LH-to-MD_granger_gamma\n",
      "trial_and_post_LH-to-MD_granger_theta\n",
      "trial_and_post_LH-to-mPFC_granger_gamma\n",
      "trial_and_post_LH-to-mPFC_granger_theta\n",
      "trial_and_post_LH-to-vHPC_granger_gamma\n",
      "trial_and_post_LH-to-vHPC_granger_theta\n",
      "trial_and_post_LH_BLA_granger_all_frequencies_all_windows\n",
      "trial_and_post_LH_MD_granger_all_frequencies_all_windows\n",
      "trial_and_post_LH_mPFC_granger_all_frequencies_all_windows\n",
      "trial_and_post_LH_vHPC_granger_all_frequencies_all_windows\n",
      "trial_and_post_MD-to-BLA_granger_gamma\n",
      "trial_and_post_MD-to-BLA_granger_theta\n",
      "trial_and_post_MD-to-LH_granger_gamma\n",
      "trial_and_post_MD-to-LH_granger_theta\n",
      "trial_and_post_MD-to-mPFC_granger_gamma\n",
      "trial_and_post_MD-to-mPFC_granger_theta\n",
      "trial_and_post_MD-to-vHPC_granger_gamma\n",
      "trial_and_post_MD-to-vHPC_granger_theta\n",
      "trial_and_post_MD_BLA_granger_all_frequencies_all_windows\n",
      "trial_and_post_MD_LH_granger_all_frequencies_all_windows\n",
      "trial_and_post_MD_mPFC_granger_all_frequencies_all_windows\n",
      "trial_and_post_MD_vHPC_granger_all_frequencies_all_windows\n",
      "trial_and_post_mPFC-to-BLA_granger_gamma\n",
      "trial_and_post_mPFC-to-BLA_granger_theta\n",
      "trial_and_post_mPFC-to-LH_granger_gamma\n",
      "trial_and_post_mPFC-to-LH_granger_theta\n",
      "trial_and_post_mPFC-to-MD_granger_gamma\n",
      "trial_and_post_mPFC-to-MD_granger_theta\n",
      "trial_and_post_mPFC-to-vHPC_granger_gamma\n",
      "trial_and_post_mPFC-to-vHPC_granger_theta\n",
      "trial_and_post_mPFC_BLA_granger_all_frequencies_all_windows\n",
      "trial_and_post_mPFC_LH_granger_all_frequencies_all_windows\n",
      "trial_and_post_mPFC_MD_granger_all_frequencies_all_windows\n",
      "trial_and_post_mPFC_vHPC_granger_all_frequencies_all_windows\n",
      "trial_and_post_vHPC-to-BLA_granger_gamma\n",
      "trial_and_post_vHPC-to-BLA_granger_theta\n",
      "trial_and_post_vHPC-to-LH_granger_gamma\n",
      "trial_and_post_vHPC-to-LH_granger_theta\n",
      "trial_and_post_vHPC-to-MD_granger_gamma\n",
      "trial_and_post_vHPC-to-MD_granger_theta\n",
      "trial_and_post_vHPC-to-mPFC_granger_gamma\n",
      "trial_and_post_vHPC-to-mPFC_granger_theta\n",
      "trial_and_post_vHPC_BLA_granger_all_frequencies_all_windows\n",
      "trial_and_post_vHPC_LH_granger_all_frequencies_all_windows\n",
      "trial_and_post_vHPC_MD_granger_all_frequencies_all_windows\n",
      "trial_and_post_vHPC_mPFC_granger_all_frequencies_all_windows\n",
      "trial_and_post_granger_timestamps\n",
      "trial_and_post_BLA_RMS_filtered_power_all_frequencies_all_windows\n",
      "trial_and_post_BLA_RMS_filtered_power_gamma\n",
      "trial_and_post_BLA_RMS_filtered_power_theta\n",
      "trial_and_post_LH_RMS_filtered_power_all_frequencies_all_windows\n",
      "trial_and_post_LH_RMS_filtered_power_gamma\n",
      "trial_and_post_LH_RMS_filtered_power_theta\n",
      "trial_and_post_MD_RMS_filtered_power_all_frequencies_all_windows\n",
      "trial_and_post_MD_RMS_filtered_power_gamma\n",
      "trial_and_post_MD_RMS_filtered_power_theta\n",
      "trial_and_post_mPFC_RMS_filtered_power_all_frequencies_all_windows\n",
      "trial_and_post_mPFC_RMS_filtered_power_gamma\n",
      "trial_and_post_mPFC_RMS_filtered_power_theta\n",
      "trial_and_post_vHPC_RMS_filtered_power_all_frequencies_all_windows\n",
      "trial_and_post_vHPC_RMS_filtered_power_gamma\n",
      "trial_and_post_vHPC_RMS_filtered_power_theta\n",
      "trial_and_post_power_timestamps\n"
     ]
    }
   ],
   "source": [
    "for col in TRIALS_AND_SPECTRAL_DF:\n",
    "    print(col)"
   ]
  },
  {
   "cell_type": "markdown",
   "metadata": {
    "tags": []
   },
   "source": [
    "# Filtering out phase"
   ]
  },
  {
   "cell_type": "code",
   "execution_count": 82,
   "metadata": {
    "tags": []
   },
   "outputs": [],
   "source": [
    "lfp_columns = [col for col in TRIALS_AND_SPECTRAL_DF.columns if \"trace\" in col and \"timestamps\" not in col and \"calculation\" not in col]"
   ]
  },
  {
   "cell_type": "code",
   "execution_count": 83,
   "metadata": {
    "tags": []
   },
   "outputs": [],
   "source": [
    "band_columns = [col for col in TRIALS_AND_SPECTRAL_DF.columns if \"band\" in col and \"timestamps\" not in col and \"calculation\" not in col]"
   ]
  },
  {
   "cell_type": "code",
   "execution_count": 84,
   "metadata": {
    "tags": []
   },
   "outputs": [],
   "source": [
    "phase_columns = [col for col in TRIALS_AND_SPECTRAL_DF.columns if \"phase\" in col and \"timestamps\" not in col and \"calculation\" not in col]"
   ]
  },
  {
   "cell_type": "code",
   "execution_count": 85,
   "metadata": {
    "tags": []
   },
   "outputs": [],
   "source": [
    "phase_columns = phase_columns + band_columns +lfp_columns"
   ]
  },
  {
   "cell_type": "code",
   "execution_count": 86,
   "metadata": {
    "tags": []
   },
   "outputs": [
    {
     "data": {
      "text/plain": [
       "['BLA_gamma_phase',\n",
       " 'BLA_theta_phase',\n",
       " 'LH_gamma_phase',\n",
       " 'LH_theta_phase',\n",
       " 'MD_gamma_phase',\n",
       " 'MD_theta_phase',\n",
       " 'mPFC_gamma_phase',\n",
       " 'mPFC_theta_phase',\n",
       " 'vHPC_gamma_phase',\n",
       " 'vHPC_theta_phase',\n",
       " 'BLA_gamma_band',\n",
       " 'BLA_theta_band',\n",
       " 'LH_gamma_band',\n",
       " 'LH_theta_band',\n",
       " 'MD_gamma_band',\n",
       " 'MD_theta_band',\n",
       " 'mPFC_gamma_band',\n",
       " 'mPFC_theta_band',\n",
       " 'vHPC_gamma_band',\n",
       " 'vHPC_theta_band',\n",
       " 'BLA_lfp_trace',\n",
       " 'LH_lfp_trace',\n",
       " 'MD_lfp_trace',\n",
       " 'mPFC_lfp_trace',\n",
       " 'vHPC_lfp_trace']"
      ]
     },
     "execution_count": 86,
     "metadata": {},
     "output_type": "execute_result"
    }
   ],
   "source": [
    "phase_columns"
   ]
  },
  {
   "cell_type": "code",
   "execution_count": 87,
   "metadata": {
    "tags": []
   },
   "outputs": [
    {
     "name": "stdout",
     "output_type": "stream",
     "text": [
      "trial_and_post_BLA_gamma_band\n",
      "trial_and_post_BLA_gamma_phase\n",
      "trial_and_post_BLA_lfp_trace\n",
      "trial_and_post_BLA_theta_band\n",
      "trial_and_post_BLA_theta_phase\n",
      "trial_and_post_LH_gamma_band\n",
      "trial_and_post_LH_gamma_phase\n",
      "trial_and_post_LH_lfp_trace\n",
      "trial_and_post_LH_theta_band\n",
      "trial_and_post_LH_theta_phase\n",
      "trial_and_post_MD_gamma_band\n",
      "trial_and_post_MD_gamma_phase\n",
      "trial_and_post_MD_lfp_trace\n",
      "trial_and_post_MD_theta_band\n",
      "trial_and_post_MD_theta_phase\n",
      "trial_and_post_mPFC_gamma_band\n",
      "trial_and_post_mPFC_gamma_phase\n",
      "trial_and_post_mPFC_lfp_trace\n",
      "trial_and_post_mPFC_theta_band\n",
      "trial_and_post_mPFC_theta_phase\n",
      "trial_and_post_vHPC_gamma_band\n",
      "trial_and_post_vHPC_gamma_phase\n",
      "trial_and_post_vHPC_lfp_trace\n",
      "trial_and_post_vHPC_theta_band\n",
      "trial_and_post_vHPC_theta_phase\n"
     ]
    }
   ],
   "source": [
    "for col in sorted(phase_columns):\n",
    "    updated_item_col = \"trial_and_post_{}\".format(col)\n",
    "    print(updated_item_col)\n",
    "    updated_timestamp_col = \"trial_and_post_lfp_timestamps\"\n",
    "    TRIALS_AND_SPECTRAL_DF[updated_item_col] = TRIALS_AND_SPECTRAL_DF.apply(lambda x: utilities.helper.filter_by_timestamp_range(start=x[\"tone_start_timestamp\"], stop=x[\"post_trial_end_timestamp\"], timestamps=x[\"lfp_timestamps\"], items=x[col])[1], axis=1)\n",
    "\n",
    "TRIALS_AND_SPECTRAL_DF[updated_timestamp_col] = TRIALS_AND_SPECTRAL_DF.apply(lambda x: utilities.helper.filter_by_timestamp_range(start=x[\"tone_start_timestamp\"], stop=x[\"post_trial_end_timestamp\"], timestamps=x[\"lfp_timestamps\"], items=x[col])[0], axis=1)\n"
   ]
  },
  {
   "cell_type": "code",
   "execution_count": null,
   "metadata": {
    "tags": []
   },
   "outputs": [],
   "source": []
  },
  {
   "cell_type": "code",
   "execution_count": 88,
   "metadata": {
    "tags": []
   },
   "outputs": [
    {
     "data": {
      "text/plain": [
       "0      [34280580, 34280600, 34280620, 34280640, 34280...\n",
       "1      [34280580, 34280600, 34280620, 34280640, 34280...\n",
       "2      [35280600, 35280620, 35280640, 35280660, 35280...\n",
       "3      [35280600, 35280620, 35280640, 35280660, 35280...\n",
       "4      [36380600, 36380620, 36380640, 36380660, 36380...\n",
       "                             ...                        \n",
       "243    [57964900, 57964920, 57964940, 57964960, 57964...\n",
       "244    [60164920, 60164940, 60164960, 60164980, 60165...\n",
       "245    [60164920, 60164940, 60164960, 60164980, 60165...\n",
       "246    [61264940, 61264960, 61264980, 61265000, 61265...\n",
       "247    [61264940, 61264960, 61264980, 61265000, 61265...\n",
       "Name: trial_and_post_lfp_timestamps, Length: 248, dtype: object"
      ]
     },
     "execution_count": 88,
     "metadata": {},
     "output_type": "execute_result"
    }
   ],
   "source": [
    "TRIALS_AND_SPECTRAL_DF[\"trial_and_post_lfp_timestamps\"]"
   ]
  },
  {
   "cell_type": "code",
   "execution_count": 89,
   "metadata": {
    "tags": []
   },
   "outputs": [],
   "source": [
    "TRIALS_AND_SPECTRAL_DF = TRIALS_AND_SPECTRAL_DF.drop(columns=phase_columns + [\"lfp_timestamps\"], errors=\"ignore\")"
   ]
  },
  {
   "cell_type": "code",
   "execution_count": 90,
   "metadata": {
    "tags": []
   },
   "outputs": [],
   "source": [
    "TRIALS_AND_SPECTRAL_DF.to_pickle(os.path.join(OUTPUT_DIR, FULL_LFP_TRACES_PKL))"
   ]
  },
  {
   "cell_type": "code",
   "execution_count": 91,
   "metadata": {
    "tags": []
   },
   "outputs": [
    {
     "name": "stdout",
     "output_type": "stream",
     "text": [
      "tone_start_frame\n",
      "reward_start\n",
      "reward_dispensed\n",
      "tone_stop_frame\n",
      "condition \n",
      "competition_closeness\n",
      "get_reward_frame\n",
      "out_reward_frame\n",
      "notes\n",
      "box_1_port_entry_frames\n",
      "box_2_port_entry_frames\n",
      "video_name\n",
      "tone_start_timestamp\n",
      "tone_stop_timestamp\n",
      "box_1_port_entry_timestamps\n",
      "box_2_port_entry_timestamps\n",
      "current_subject\n",
      "subject_tail_base\n",
      "agent_tail_base\n",
      "session_dir\n",
      "experiment\n",
      "sleap_name\n",
      "video_id\n",
      "agent\n",
      "all_subjects\n",
      "coherence_calculation_frequencies\n",
      "cohort\n",
      "first_timestamp\n",
      "granger_calculation_frequencies\n",
      "last_timestamp\n",
      "power_calculation_frequencies\n",
      "recording\n",
      "session_path\n",
      "subject\n",
      "tone_frames\n",
      "tone_timestamps\n",
      "video_timestamps\n",
      "baseline_start_timestamp\n",
      "post_trial_end_timestamp\n",
      "video_frame\n",
      "trial_and_post_agent_locations\n",
      "trial_and_post_agent_nose\n",
      "trial_and_post_agent_nose_to_reward_port\n",
      "trial_and_post_agent_thorax\n",
      "trial_and_post_agent_thorax_velocity\n",
      "trial_and_post_agent_to_reward_port_angle\n",
      "trial_and_post_closebool_agent_nose_to_reward_port\n",
      "trial_and_post_closebool_subject_nose_to_reward_port\n",
      "trial_and_post_frame_index\n",
      "trial_and_post_kmeans_cluster\n",
      "trial_and_post_manual_cluster_id\n",
      "trial_and_post_movingbool_agent_thorax_velocity\n",
      "trial_and_post_movingbool_subject_thorax_velocity\n",
      "trial_and_post_nose_to_reward_port_diff\n",
      "trial_and_post_nose_to_reward_port_sum\n",
      "trial_and_post_standard_embedding_x\n",
      "trial_and_post_standard_embedding_y\n",
      "trial_and_post_subject_locations\n",
      "trial_and_post_subject_nose\n",
      "trial_and_post_subject_nose_to_reward_port\n",
      "trial_and_post_subject_thorax\n",
      "trial_and_post_subject_thorax_to_agent_thorax\n",
      "trial_and_post_subject_thorax_velocity\n",
      "trial_and_post_subject_to_reward_port_angle\n",
      "trial_and_post_thorax_velocity_diff\n",
      "trial_and_post_thorax_velocity_sum\n",
      "trial_and_post_to_reward_port_angle_diff\n",
      "trial_and_post_to_reward_port_angle_sum\n",
      "trial_and_post_video_timestamps\n",
      "trial_and_post_BLA_LH_coherence_all_frequencies_all_windows\n",
      "trial_and_post_BLA_LH_coherence_gamma\n",
      "trial_and_post_BLA_LH_coherence_theta\n",
      "trial_and_post_BLA_MD_coherence_all_frequencies_all_windows\n",
      "trial_and_post_BLA_MD_coherence_gamma\n",
      "trial_and_post_BLA_MD_coherence_theta\n",
      "trial_and_post_BLA_mPFC_coherence_all_frequencies_all_windows\n",
      "trial_and_post_BLA_mPFC_coherence_gamma\n",
      "trial_and_post_BLA_mPFC_coherence_theta\n",
      "trial_and_post_BLA_vHPC_coherence_all_frequencies_all_windows\n",
      "trial_and_post_BLA_vHPC_coherence_gamma\n",
      "trial_and_post_BLA_vHPC_coherence_theta\n",
      "trial_and_post_LH_MD_coherence_all_frequencies_all_windows\n",
      "trial_and_post_LH_MD_coherence_gamma\n",
      "trial_and_post_LH_MD_coherence_theta\n",
      "trial_and_post_LH_mPFC_coherence_all_frequencies_all_windows\n",
      "trial_and_post_LH_mPFC_coherence_gamma\n",
      "trial_and_post_LH_mPFC_coherence_theta\n",
      "trial_and_post_LH_vHPC_coherence_all_frequencies_all_windows\n",
      "trial_and_post_LH_vHPC_coherence_gamma\n",
      "trial_and_post_LH_vHPC_coherence_theta\n",
      "trial_and_post_MD_mPFC_coherence_all_frequencies_all_windows\n",
      "trial_and_post_MD_mPFC_coherence_gamma\n",
      "trial_and_post_MD_mPFC_coherence_theta\n",
      "trial_and_post_MD_vHPC_coherence_all_frequencies_all_windows\n",
      "trial_and_post_MD_vHPC_coherence_gamma\n",
      "trial_and_post_MD_vHPC_coherence_theta\n",
      "trial_and_post_mPFC_vHPC_coherence_all_frequencies_all_windows\n",
      "trial_and_post_mPFC_vHPC_coherence_gamma\n",
      "trial_and_post_mPFC_vHPC_coherence_theta\n",
      "trial_and_post_coherence_timestamps\n",
      "trial_and_post_BLA-to-LH_granger_gamma\n",
      "trial_and_post_BLA-to-LH_granger_theta\n",
      "trial_and_post_BLA-to-MD_granger_gamma\n",
      "trial_and_post_BLA-to-MD_granger_theta\n",
      "trial_and_post_BLA-to-mPFC_granger_gamma\n",
      "trial_and_post_BLA-to-mPFC_granger_theta\n",
      "trial_and_post_BLA-to-vHPC_granger_gamma\n",
      "trial_and_post_BLA-to-vHPC_granger_theta\n",
      "trial_and_post_BLA_LH_granger_all_frequencies_all_windows\n",
      "trial_and_post_BLA_MD_granger_all_frequencies_all_windows\n",
      "trial_and_post_BLA_mPFC_granger_all_frequencies_all_windows\n",
      "trial_and_post_BLA_vHPC_granger_all_frequencies_all_windows\n",
      "trial_and_post_LH-to-BLA_granger_gamma\n",
      "trial_and_post_LH-to-BLA_granger_theta\n",
      "trial_and_post_LH-to-MD_granger_gamma\n",
      "trial_and_post_LH-to-MD_granger_theta\n",
      "trial_and_post_LH-to-mPFC_granger_gamma\n",
      "trial_and_post_LH-to-mPFC_granger_theta\n",
      "trial_and_post_LH-to-vHPC_granger_gamma\n",
      "trial_and_post_LH-to-vHPC_granger_theta\n",
      "trial_and_post_LH_BLA_granger_all_frequencies_all_windows\n",
      "trial_and_post_LH_MD_granger_all_frequencies_all_windows\n",
      "trial_and_post_LH_mPFC_granger_all_frequencies_all_windows\n",
      "trial_and_post_LH_vHPC_granger_all_frequencies_all_windows\n",
      "trial_and_post_MD-to-BLA_granger_gamma\n",
      "trial_and_post_MD-to-BLA_granger_theta\n",
      "trial_and_post_MD-to-LH_granger_gamma\n",
      "trial_and_post_MD-to-LH_granger_theta\n",
      "trial_and_post_MD-to-mPFC_granger_gamma\n",
      "trial_and_post_MD-to-mPFC_granger_theta\n",
      "trial_and_post_MD-to-vHPC_granger_gamma\n",
      "trial_and_post_MD-to-vHPC_granger_theta\n",
      "trial_and_post_MD_BLA_granger_all_frequencies_all_windows\n",
      "trial_and_post_MD_LH_granger_all_frequencies_all_windows\n",
      "trial_and_post_MD_mPFC_granger_all_frequencies_all_windows\n",
      "trial_and_post_MD_vHPC_granger_all_frequencies_all_windows\n",
      "trial_and_post_mPFC-to-BLA_granger_gamma\n",
      "trial_and_post_mPFC-to-BLA_granger_theta\n",
      "trial_and_post_mPFC-to-LH_granger_gamma\n",
      "trial_and_post_mPFC-to-LH_granger_theta\n",
      "trial_and_post_mPFC-to-MD_granger_gamma\n",
      "trial_and_post_mPFC-to-MD_granger_theta\n",
      "trial_and_post_mPFC-to-vHPC_granger_gamma\n",
      "trial_and_post_mPFC-to-vHPC_granger_theta\n",
      "trial_and_post_mPFC_BLA_granger_all_frequencies_all_windows\n",
      "trial_and_post_mPFC_LH_granger_all_frequencies_all_windows\n",
      "trial_and_post_mPFC_MD_granger_all_frequencies_all_windows\n",
      "trial_and_post_mPFC_vHPC_granger_all_frequencies_all_windows\n",
      "trial_and_post_vHPC-to-BLA_granger_gamma\n",
      "trial_and_post_vHPC-to-BLA_granger_theta\n",
      "trial_and_post_vHPC-to-LH_granger_gamma\n",
      "trial_and_post_vHPC-to-LH_granger_theta\n",
      "trial_and_post_vHPC-to-MD_granger_gamma\n",
      "trial_and_post_vHPC-to-MD_granger_theta\n",
      "trial_and_post_vHPC-to-mPFC_granger_gamma\n",
      "trial_and_post_vHPC-to-mPFC_granger_theta\n",
      "trial_and_post_vHPC_BLA_granger_all_frequencies_all_windows\n",
      "trial_and_post_vHPC_LH_granger_all_frequencies_all_windows\n",
      "trial_and_post_vHPC_MD_granger_all_frequencies_all_windows\n",
      "trial_and_post_vHPC_mPFC_granger_all_frequencies_all_windows\n",
      "trial_and_post_granger_timestamps\n",
      "trial_and_post_BLA_RMS_filtered_power_all_frequencies_all_windows\n",
      "trial_and_post_BLA_RMS_filtered_power_gamma\n",
      "trial_and_post_BLA_RMS_filtered_power_theta\n",
      "trial_and_post_LH_RMS_filtered_power_all_frequencies_all_windows\n",
      "trial_and_post_LH_RMS_filtered_power_gamma\n",
      "trial_and_post_LH_RMS_filtered_power_theta\n",
      "trial_and_post_MD_RMS_filtered_power_all_frequencies_all_windows\n",
      "trial_and_post_MD_RMS_filtered_power_gamma\n",
      "trial_and_post_MD_RMS_filtered_power_theta\n",
      "trial_and_post_mPFC_RMS_filtered_power_all_frequencies_all_windows\n",
      "trial_and_post_mPFC_RMS_filtered_power_gamma\n",
      "trial_and_post_mPFC_RMS_filtered_power_theta\n",
      "trial_and_post_vHPC_RMS_filtered_power_all_frequencies_all_windows\n",
      "trial_and_post_vHPC_RMS_filtered_power_gamma\n",
      "trial_and_post_vHPC_RMS_filtered_power_theta\n",
      "trial_and_post_power_timestamps\n",
      "trial_and_post_BLA_gamma_band\n",
      "trial_and_post_BLA_gamma_phase\n",
      "trial_and_post_BLA_lfp_trace\n",
      "trial_and_post_BLA_theta_band\n",
      "trial_and_post_BLA_theta_phase\n",
      "trial_and_post_LH_gamma_band\n",
      "trial_and_post_LH_gamma_phase\n",
      "trial_and_post_LH_lfp_trace\n",
      "trial_and_post_LH_theta_band\n",
      "trial_and_post_LH_theta_phase\n",
      "trial_and_post_MD_gamma_band\n",
      "trial_and_post_MD_gamma_phase\n",
      "trial_and_post_MD_lfp_trace\n",
      "trial_and_post_MD_theta_band\n",
      "trial_and_post_MD_theta_phase\n",
      "trial_and_post_mPFC_gamma_band\n",
      "trial_and_post_mPFC_gamma_phase\n",
      "trial_and_post_mPFC_lfp_trace\n",
      "trial_and_post_mPFC_theta_band\n",
      "trial_and_post_mPFC_theta_phase\n",
      "trial_and_post_vHPC_gamma_band\n",
      "trial_and_post_vHPC_gamma_phase\n",
      "trial_and_post_vHPC_lfp_trace\n",
      "trial_and_post_vHPC_theta_band\n",
      "trial_and_post_vHPC_theta_phase\n",
      "trial_and_post_lfp_timestamps\n"
     ]
    }
   ],
   "source": [
    "for col in TRIALS_AND_SPECTRAL_DF:\n",
    "    print(col)"
   ]
  },
  {
   "cell_type": "code",
   "execution_count": 94,
   "metadata": {
    "tags": []
   },
   "outputs": [
    {
     "data": {
      "text/plain": [
       "(400,)"
      ]
     },
     "execution_count": 94,
     "metadata": {},
     "output_type": "execute_result"
    }
   ],
   "source": [
    "TRIALS_AND_SPECTRAL_DF[\"trial_and_post_kmeans_cluster\"].iloc[0].shape"
   ]
  },
  {
   "cell_type": "code",
   "execution_count": 92,
   "metadata": {},
   "outputs": [
    {
     "ename": "ValueError",
     "evalue": "",
     "output_type": "error",
     "traceback": [
      "\u001b[0;31m---------------------------------------------------------------------------\u001b[0m",
      "\u001b[0;31mValueError\u001b[0m                                Traceback (most recent call last)",
      "Cell \u001b[0;32mIn[92], line 1\u001b[0m\n\u001b[0;32m----> 1\u001b[0m \u001b[38;5;28;01mraise\u001b[39;00m \u001b[38;5;167;01mValueError\u001b[39;00m()\n",
      "\u001b[0;31mValueError\u001b[0m: "
     ]
    }
   ],
   "source": [
    "raise ValueError()"
   ]
  },
  {
   "cell_type": "markdown",
   "metadata": {},
   "source": [
    "# Filtering for rows that are in the video"
   ]
  },
  {
   "cell_type": "code",
   "execution_count": null,
   "metadata": {
    "tags": []
   },
   "outputs": [],
   "source": [
    "TRIALS_AND_SPECTRAL_DF[\"in_video\"] = TRIALS_AND_SPECTRAL_DF.apply(lambda x: x[\"start_frame\"] <= x[\"trial_video_frame\"][0] <= x[\"stop_frame\"], axis=1)"
   ]
  },
  {
   "cell_type": "code",
   "execution_count": null,
   "metadata": {
    "tags": []
   },
   "outputs": [],
   "source": [
    "TRIALS_AND_SPECTRAL_DF = TRIALS_AND_SPECTRAL_DF[TRIALS_AND_SPECTRAL_DF[\"in_video\"]].reset_index()"
   ]
  },
  {
   "cell_type": "code",
   "execution_count": null,
   "metadata": {
    "tags": []
   },
   "outputs": [],
   "source": [
    "TRIALS_AND_SPECTRAL_DF"
   ]
  },
  {
   "cell_type": "code",
   "execution_count": null,
   "metadata": {
    "tags": []
   },
   "outputs": [],
   "source": [
    "TRIALS_AND_SPECTRAL_DF.to_pickle(os.path.join(OUTPUT_DIR, FULL_LFP_TRACES_PKL))"
   ]
  },
  {
   "cell_type": "code",
   "execution_count": null,
   "metadata": {},
   "outputs": [],
   "source": [
    "raise ValueError()"
   ]
  },
  {
   "cell_type": "markdown",
   "metadata": {},
   "source": [
    "# Filtering out spikes"
   ]
  },
  {
   "cell_type": "code",
   "execution_count": null,
   "metadata": {
    "tags": []
   },
   "outputs": [],
   "source": [
    "raise ValueError()"
   ]
  },
  {
   "cell_type": "code",
   "execution_count": null,
   "metadata": {
    "tags": []
   },
   "outputs": [],
   "source": [
    "TRIALS_AND_SPECTRAL_DF[\"baseline_spike_times\"] = TRIALS_AND_SPECTRAL_DF.apply(lambda x: filter_spike_times(x[\"spike_times\"], start=x[\"tone_start_timestamp\"], stop=x[\"baseline_stop_timestamp\"]).astype(int), axis=1)\n"
   ]
  },
  {
   "cell_type": "code",
   "execution_count": null,
   "metadata": {
    "tags": []
   },
   "outputs": [],
   "source": [
    "TRIALS_AND_SPECTRAL_DF[\"trial_spike_times\"] = TRIALS_AND_SPECTRAL_DF.apply(lambda x: filter_spike_times(x[\"spike_times\"], start=x[\"tone_start_timestamp\"], stop=x[\"tone_stop_timestamp\"]).astype(int), axis=1)\n"
   ]
  },
  {
   "cell_type": "code",
   "execution_count": null,
   "metadata": {
    "tags": []
   },
   "outputs": [],
   "source": [
    "TRIALS_AND_SPECTRAL_DF[\"tone_start_timestamp\"].head()"
   ]
  },
  {
   "cell_type": "code",
   "execution_count": null,
   "metadata": {
    "tags": []
   },
   "outputs": [],
   "source": [
    "TRIALS_AND_SPECTRAL_DF[\"baseline_stop_timestamp\"].head()"
   ]
  },
  {
   "cell_type": "code",
   "execution_count": null,
   "metadata": {
    "tags": []
   },
   "outputs": [],
   "source": [
    "TRIALS_AND_SPECTRAL_DF[\"baseline_spike_times\"].iloc[0]"
   ]
  },
  {
   "cell_type": "code",
   "execution_count": null,
   "metadata": {
    "tags": []
   },
   "outputs": [],
   "source": [
    "TRIALS_AND_SPECTRAL_DF[\"baseline_neuron_average_fr\"] = TRIALS_AND_SPECTRAL_DF.apply(lambda x: utilities.helper.filter_by_timestamp_range(start=x[\"tone_start_timestamp\"], stop=x[\"baseline_stop_timestamp\"], timestamps=x[\"neuron_average_timestamps\"], items=x[\"neuron_average_fr\"].T)[1], axis=1)\n",
    "TRIALS_AND_SPECTRAL_DF[\"baseline_neuron_average_timestamp\"] = TRIALS_AND_SPECTRAL_DF.apply(lambda x: utilities.helper.filter_by_timestamp_range(start=x[\"tone_start_timestamp\"], stop=x[\"baseline_stop_timestamp\"], timestamps=x[\"neuron_average_timestamps\"], items=x[\"neuron_average_fr\"].T)[0], axis=1)"
   ]
  },
  {
   "cell_type": "code",
   "execution_count": null,
   "metadata": {
    "tags": []
   },
   "outputs": [],
   "source": [
    "TRIALS_AND_SPECTRAL_DF[\"trial_neuron_average_fr\"] = TRIALS_AND_SPECTRAL_DF.apply(lambda x: utilities.helper.filter_by_timestamp_range(start=x[\"tone_start_timestamp\"], stop=x[\"tone_stop_timestamp\"], timestamps=x[\"neuron_average_timestamps\"], items=x[\"neuron_average_fr\"].T)[1].T, axis=1)\n",
    "TRIALS_AND_SPECTRAL_DF[\"trial_neuron_average_timestamp\"] = TRIALS_AND_SPECTRAL_DF.apply(lambda x: utilities.helper.filter_by_timestamp_range(start=x[\"tone_start_timestamp\"], stop=x[\"tone_stop_timestamp\"], timestamps=x[\"neuron_average_timestamps\"], items=x[\"neuron_average_fr\"].T)[0], axis=1)"
   ]
  },
  {
   "cell_type": "code",
   "execution_count": null,
   "metadata": {
    "tags": []
   },
   "outputs": [],
   "source": [
    "TRIALS_AND_SPECTRAL_DF = TRIALS_AND_SPECTRAL_DF.drop(columns=[\"spike_clusters\", \"spike_times\", \"neuron_average_fr\", \"neuron_average_timestamps\",], errors=\"ignore\")"
   ]
  },
  {
   "cell_type": "code",
   "execution_count": null,
   "metadata": {
    "tags": []
   },
   "outputs": [],
   "source": [
    "TRIALS_AND_SPECTRAL_DF[\"trial_neuron_average_fr\"].iloc[0].shape"
   ]
  },
  {
   "cell_type": "code",
   "execution_count": null,
   "metadata": {
    "tags": []
   },
   "outputs": [],
   "source": [
    "TRIALS_AND_SPECTRAL_DF[\"trial_neuron_average_timestamp\"].iloc[0].shape"
   ]
  },
  {
   "cell_type": "code",
   "execution_count": null,
   "metadata": {},
   "outputs": [],
   "source": []
  }
 ],
 "metadata": {
  "deepnote": {},
  "deepnote_execution_queue": [],
  "deepnote_notebook_id": "cf8fe3695d074ee7887fdf6459cbf5ce",
  "kernelspec": {
   "display_name": "spike_interface_0_100_8",
   "language": "python",
   "name": "spike_interface_0_100_8"
  },
  "language_info": {
   "codemirror_mode": {
    "name": "ipython",
    "version": 3
   },
   "file_extension": ".py",
   "mimetype": "text/x-python",
   "name": "python",
   "nbconvert_exporter": "python",
   "pygments_lexer": "ipython3",
   "version": "3.10.14"
  }
 },
 "nbformat": 4,
 "nbformat_minor": 4
}
