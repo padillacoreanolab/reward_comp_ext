{
 "cells": [
  {
   "cell_type": "markdown",
   "metadata": {
    "cell_id": "c3a02adc9e884466bc8c79db549cc3d2",
    "deepnote_cell_type": "text-cell-h1",
    "formattedRanges": [
     {
      "fromCodePoint": 0,
      "marks": {
       "bold": true,
       "underline": true
      },
      "toCodePoint": 17,
      "type": "marks"
     }
    ]
   },
   "source": [
    "# All oscillation analysis"
   ]
  },
  {
   "cell_type": "markdown",
   "metadata": {
    "cell_id": "4546bee655b14a5dbf393161f1228e60",
    "deepnote_cell_type": "text-cell-p",
    "formattedRanges": []
   },
   "source": [
    "Brief 1-2 sentence description of notebook."
   ]
  },
  {
   "cell_type": "code",
   "execution_count": 1,
   "metadata": {
    "tags": []
   },
   "outputs": [],
   "source": [
    "import warnings\n",
    "warnings.filterwarnings('ignore')"
   ]
  },
  {
   "cell_type": "code",
   "execution_count": 2,
   "metadata": {
    "tags": []
   },
   "outputs": [],
   "source": [
    "import os\n",
    "import collections\n",
    "import itertools\n",
    "from collections import defaultdict\n",
    "from itertools import combinations"
   ]
  },
  {
   "cell_type": "code",
   "execution_count": 3,
   "metadata": {
    "tags": []
   },
   "outputs": [],
   "source": [
    "# os.environ[\"SPECTRAL_CONNECTIVITY_ENABLE_GPU\"] = \"true\"\n",
    "# import cupy as cp"
   ]
  },
  {
   "cell_type": "code",
   "execution_count": 4,
   "metadata": {
    "cell_id": "03b495cefa6a4798a44c7f2e4c6a3ea7",
    "deepnote_cell_type": "code",
    "deepnote_to_be_reexecuted": false,
    "execution_millis": 21,
    "execution_start": 1691424003626,
    "source_hash": null,
    "tags": []
   },
   "outputs": [],
   "source": [
    "# Imports of all used packages and libraries\n",
    "import numpy as np\n",
    "import pandas as pd\n",
    "from scipy import stats\n",
    "from scipy.stats import mannwhitneyu\n"
   ]
  },
  {
   "cell_type": "code",
   "execution_count": 5,
   "metadata": {
    "tags": []
   },
   "outputs": [],
   "source": [
    "import matplotlib\n",
    "import matplotlib.colors as mcolors\n",
    "import matplotlib.pyplot as plt\n",
    "import matplotlib.cm as cm\n",
    "import colorsys"
   ]
  },
  {
   "cell_type": "code",
   "execution_count": 6,
   "metadata": {
    "tags": []
   },
   "outputs": [],
   "source": [
    "from sklearn.metrics import confusion_matrix"
   ]
  },
  {
   "cell_type": "code",
   "execution_count": 7,
   "metadata": {
    "tags": []
   },
   "outputs": [],
   "source": [
    "from spectral_connectivity import Multitaper, Connectivity\n",
    "import spectral_connectivity"
   ]
  },
  {
   "cell_type": "code",
   "execution_count": 8,
   "metadata": {
    "tags": []
   },
   "outputs": [],
   "source": [
    "FONTSIZE = 20"
   ]
  },
  {
   "cell_type": "code",
   "execution_count": 9,
   "metadata": {
    "tags": []
   },
   "outputs": [],
   "source": [
    "font = {'weight' : 'medium',\n",
    "        'size'   : 20}\n",
    "\n",
    "matplotlib.rc('font', **font)"
   ]
  },
  {
   "cell_type": "markdown",
   "metadata": {},
   "source": [
    "# Functions"
   ]
  },
  {
   "cell_type": "code",
   "execution_count": 10,
   "metadata": {
    "tags": []
   },
   "outputs": [],
   "source": [
    "def generate_pairs(lst):\n",
    "    \"\"\"\n",
    "    Generates all unique pairs from a list.\n",
    "\n",
    "    Parameters:\n",
    "    - lst (list): The list to generate pairs from.\n",
    "\n",
    "    Returns:\n",
    "    - list: A list of tuples, each containing a unique pair from the input list.\n",
    "    \"\"\"\n",
    "    n = len(lst)\n",
    "    return [(lst[i], lst[j]) for i in range(n) for j in range(i+1, n)]"
   ]
  },
  {
   "cell_type": "code",
   "execution_count": 11,
   "metadata": {
    "tags": []
   },
   "outputs": [],
   "source": [
    "def update_array_by_mask(array, mask, value=np.nan):\n",
    "    \"\"\"\n",
    "    \"\"\"\n",
    "    result = array.copy()\n",
    "    result[mask] = value\n",
    "    return result"
   ]
  },
  {
   "cell_type": "markdown",
   "metadata": {
    "cell_id": "d290bac2c17940bfbc0f9296beaf70e5",
    "deepnote_cell_type": "text-cell-h2",
    "formattedRanges": []
   },
   "source": [
    "## Inputs & Data"
   ]
  },
  {
   "cell_type": "markdown",
   "metadata": {
    "cell_id": "e528ce19c608425292151930d380f49f",
    "deepnote_cell_type": "text-cell-p",
    "formattedRanges": []
   },
   "source": [
    "Explanation of each input and where it comes from."
   ]
  },
  {
   "cell_type": "code",
   "execution_count": 12,
   "metadata": {
    "cell_id": "6cf83a5811054461a718a71673d09aab",
    "deepnote_cell_type": "code",
    "deepnote_to_be_reexecuted": false,
    "execution_millis": 373,
    "execution_start": 1691424003628,
    "source_hash": null,
    "tags": []
   },
   "outputs": [],
   "source": [
    "# Inputs and Required data loading\n",
    "# input varaible names are in all caps snake case\n",
    "# Whenever an input changes or is used for processing \n",
    "# the vairables are all lower in snake case\n",
    "OUTPUT_DIR = r\"./proc\" # where data is saved should always be shown in the inputs"
   ]
  },
  {
   "cell_type": "code",
   "execution_count": 13,
   "metadata": {
    "tags": []
   },
   "outputs": [],
   "source": [
    "TIME_HALFBANDWIDTH_PRODUCT = 2\n",
    "TIME_WINDOW_DURATION = 1\n",
    "TIME_WINDOW_STEP = 0.5\n",
    "RESAMPLE_RATE=1000"
   ]
  },
  {
   "cell_type": "code",
   "execution_count": 14,
   "metadata": {
    "tags": []
   },
   "outputs": [],
   "source": [
    "zscore_threshold = 4\n",
    "VOLTAGE_SCALING_VALUE = 0.195"
   ]
  },
  {
   "cell_type": "code",
   "execution_count": 15,
   "metadata": {
    "tags": []
   },
   "outputs": [],
   "source": [
    "BAND_TO_FREQ = {\"theta\": (4,12), \"gamma\": (30,51)}"
   ]
  },
  {
   "cell_type": "code",
   "execution_count": 16,
   "metadata": {},
   "outputs": [],
   "source": [
    "OUTPUT_PREFIX = \"rce_pilot_3_long_comp\""
   ]
  },
  {
   "cell_type": "code",
   "execution_count": 17,
   "metadata": {
    "tags": []
   },
   "outputs": [],
   "source": [
    "LFP_TRACES_DF = pd.read_pickle(\"./proc/{}_01_lfp_traces_and_frames.pkl\".format(OUTPUT_PREFIX))"
   ]
  },
  {
   "cell_type": "code",
   "execution_count": 18,
   "metadata": {
    "tags": []
   },
   "outputs": [
    {
     "data": {
      "text/plain": [
       "(20, 24)"
      ]
     },
     "execution_count": 18,
     "metadata": {},
     "output_type": "execute_result"
    }
   ],
   "source": [
    "LFP_TRACES_DF.shape"
   ]
  },
  {
   "cell_type": "markdown",
   "metadata": {},
   "source": [
    "## Preprocessing"
   ]
  },
  {
   "cell_type": "code",
   "execution_count": 19,
   "metadata": {
    "tags": []
   },
   "outputs": [],
   "source": [
    "original_trace_columns = [col for col in LFP_TRACES_DF.columns if \"trace\" in col]"
   ]
  },
  {
   "cell_type": "code",
   "execution_count": 20,
   "metadata": {
    "tags": []
   },
   "outputs": [
    {
     "data": {
      "text/plain": [
       "['vHPC_lfp_trace',\n",
       " 'BLA_lfp_trace',\n",
       " 'LH_lfp_trace',\n",
       " 'MD_lfp_trace',\n",
       " 'mPFC_lfp_trace']"
      ]
     },
     "execution_count": 20,
     "metadata": {},
     "output_type": "execute_result"
    }
   ],
   "source": [
    "original_trace_columns"
   ]
  },
  {
   "cell_type": "code",
   "execution_count": 21,
   "metadata": {
    "tags": []
   },
   "outputs": [
    {
     "name": "stdout",
     "output_type": "stream",
     "text": [
      "vHPC_lfp_trace\n",
      "BLA_lfp_trace\n",
      "LH_lfp_trace\n",
      "MD_lfp_trace\n",
      "mPFC_lfp_trace\n"
     ]
    }
   ],
   "source": [
    "for col in original_trace_columns:\n",
    "    print(col)\n",
    "    LFP_TRACES_DF[col] = LFP_TRACES_DF[col].apply(lambda x: x.astype(np.float32) * VOLTAGE_SCALING_VALUE)"
   ]
  },
  {
   "cell_type": "code",
   "execution_count": 22,
   "metadata": {
    "tags": []
   },
   "outputs": [
    {
     "data": {
      "text/html": [
       "<div>\n",
       "<style scoped>\n",
       "    .dataframe tbody tr th:only-of-type {\n",
       "        vertical-align: middle;\n",
       "    }\n",
       "\n",
       "    .dataframe tbody tr th {\n",
       "        vertical-align: top;\n",
       "    }\n",
       "\n",
       "    .dataframe thead th {\n",
       "        text-align: right;\n",
       "    }\n",
       "</style>\n",
       "<table border=\"1\" class=\"dataframe\">\n",
       "  <thead>\n",
       "    <tr style=\"text-align: right;\">\n",
       "      <th></th>\n",
       "      <th>cohort</th>\n",
       "      <th>session_dir</th>\n",
       "      <th>tone_frames</th>\n",
       "      <th>box_1_port_entry_frames</th>\n",
       "      <th>box_2_port_entry_frames</th>\n",
       "      <th>video_name</th>\n",
       "      <th>notes</th>\n",
       "      <th>session_path</th>\n",
       "      <th>recording</th>\n",
       "      <th>current_subject</th>\n",
       "      <th>...</th>\n",
       "      <th>video_timestamps</th>\n",
       "      <th>tone_timestamps</th>\n",
       "      <th>box_1_port_entry_timestamps</th>\n",
       "      <th>box_2_port_entry_timestamps</th>\n",
       "      <th>lfp_timestamps</th>\n",
       "      <th>vHPC_lfp_trace</th>\n",
       "      <th>BLA_lfp_trace</th>\n",
       "      <th>LH_lfp_trace</th>\n",
       "      <th>MD_lfp_trace</th>\n",
       "      <th>mPFC_lfp_trace</th>\n",
       "    </tr>\n",
       "  </thead>\n",
       "  <tbody>\n",
       "    <tr>\n",
       "      <th>0</th>\n",
       "      <td>NaN</td>\n",
       "      <td>20240317_151922_long_comp_subj_3-1_and_3-3</td>\n",
       "      <td>[[1, 88], [1286, 1486], [3282, 3482], [4480, 4...</td>\n",
       "      <td>[[1, 88], [259, 278], [310, 365], [366, 382], ...</td>\n",
       "      <td>[]</td>\n",
       "      <td>20240317_151922_long_comp_subj_3-1_and_3-3.1.v...</td>\n",
       "      <td>NaN</td>\n",
       "      <td>/scratch/back_up/reward_competition_extention/...</td>\n",
       "      <td>20240317_151922_long_comp_subj_3-1_t6b6_merged</td>\n",
       "      <td>3.1</td>\n",
       "      <td>...</td>\n",
       "      <td>[-2, 1384, 1384, 2770, 4156, 5542, 5542, 6928,...</td>\n",
       "      <td>[[0, 87540], [1287955, 1487958], [3287980, 348...</td>\n",
       "      <td>[[0, 87540], [259142, 277740], [309743, 364544...</td>\n",
       "      <td>[]</td>\n",
       "      <td>[0, 20, 40, 60, 80, 100, 120, 140, 160, 180, 2...</td>\n",
       "      <td>[13.65, 36.27, 52.065, 37.635, 10.335, -19.109...</td>\n",
       "      <td>[14.235, 26.13, 34.71, 17.16, -19.695, -50.699...</td>\n",
       "      <td>[9.36, 15.794999, 24.765, 21.255, -3.12, -30.6...</td>\n",
       "      <td>[8.58, 6.24, 9.945, 11.115, -11.115, -33.735, ...</td>\n",
       "      <td>[1.56, 10.724999, 40.754997, 50.894997, 14.624...</td>\n",
       "    </tr>\n",
       "    <tr>\n",
       "      <th>1</th>\n",
       "      <td>NaN</td>\n",
       "      <td>20240317_151922_long_comp_subj_3-1_and_3-3</td>\n",
       "      <td>[[2, 132], [1922, 2220], [4906, 5203], [6696, ...</td>\n",
       "      <td>[[2, 132], [387, 415], [463, 546], [548, 571],...</td>\n",
       "      <td>[]</td>\n",
       "      <td>20240317_151922_long_comp_subj_3-1_and_3-3.2.v...</td>\n",
       "      <td>NaN</td>\n",
       "      <td>/scratch/back_up/reward_competition_extention/...</td>\n",
       "      <td>20240317_151922_long_comp_subj_3-1_t6b6_merged</td>\n",
       "      <td>3.1</td>\n",
       "      <td>...</td>\n",
       "      <td>[-2, -2, 1384, 1384, 2770, 2770, 4156, 4156, 5...</td>\n",
       "      <td>[[0, 87540], [1287955, 1487958], [3287980, 348...</td>\n",
       "      <td>[[0, 87540], [259142, 277740], [309743, 364544...</td>\n",
       "      <td>[]</td>\n",
       "      <td>[0, 20, 40, 60, 80, 100, 120, 140, 160, 180, 2...</td>\n",
       "      <td>[13.65, 36.27, 52.065, 37.635, 10.335, -19.109...</td>\n",
       "      <td>[14.235, 26.13, 34.71, 17.16, -19.695, -50.699...</td>\n",
       "      <td>[9.36, 15.794999, 24.765, 21.255, -3.12, -30.6...</td>\n",
       "      <td>[8.58, 6.24, 9.945, 11.115, -11.115, -33.735, ...</td>\n",
       "      <td>[1.56, 10.724999, 40.754997, 50.894997, 14.624...</td>\n",
       "    </tr>\n",
       "    <tr>\n",
       "      <th>2</th>\n",
       "      <td>NaN</td>\n",
       "      <td>20240317_151922_long_comp_subj_3-1_and_3-3</td>\n",
       "      <td>[[1, 88], [1286, 1486], [3282, 3482], [4480, 4...</td>\n",
       "      <td>[[1, 88], [259, 278], [310, 365], [366, 382], ...</td>\n",
       "      <td>[]</td>\n",
       "      <td>20240317_151922_long_comp_subj_3-1_and_3-3.1.v...</td>\n",
       "      <td>NaN</td>\n",
       "      <td>/scratch/back_up/reward_competition_extention/...</td>\n",
       "      <td>20240317_151922_long_comp_subj_3-3_t5b5_merged</td>\n",
       "      <td>3.3</td>\n",
       "      <td>...</td>\n",
       "      <td>[-2, 1384, 1384, 2770, 4156, 5542, 5542, 6928,...</td>\n",
       "      <td>[[0, 87540], [1287955, 1487958], [3287980, 348...</td>\n",
       "      <td>[[0, 87540], [259142, 277740], [309743, 364544...</td>\n",
       "      <td>[]</td>\n",
       "      <td>[0, 20, 40, 60, 80, 100, 120, 140, 160, 180, 2...</td>\n",
       "      <td>[-44.655, -60.839996, -79.95, -87.36, -84.045,...</td>\n",
       "      <td>[-36.465, -39.78, -49.335, -56.355, -43.484997...</td>\n",
       "      <td>[-58.109997, -57.914997, -63.179996, -70.97999...</td>\n",
       "      <td>[-36.27, -36.66, -38.805, -42.899998, -33.735,...</td>\n",
       "      <td>[-32.175, -22.23, -23.984999, -41.73, -42.12, ...</td>\n",
       "    </tr>\n",
       "    <tr>\n",
       "      <th>3</th>\n",
       "      <td>NaN</td>\n",
       "      <td>20240317_151922_long_comp_subj_3-1_and_3-3</td>\n",
       "      <td>[[2, 132], [1922, 2220], [4906, 5203], [6696, ...</td>\n",
       "      <td>[[2, 132], [387, 415], [463, 546], [548, 571],...</td>\n",
       "      <td>[]</td>\n",
       "      <td>20240317_151922_long_comp_subj_3-1_and_3-3.2.v...</td>\n",
       "      <td>NaN</td>\n",
       "      <td>/scratch/back_up/reward_competition_extention/...</td>\n",
       "      <td>20240317_151922_long_comp_subj_3-3_t5b5_merged</td>\n",
       "      <td>3.3</td>\n",
       "      <td>...</td>\n",
       "      <td>[-2, -2, 1384, 1384, 2770, 2770, 4156, 4156, 5...</td>\n",
       "      <td>[[0, 87540], [1287955, 1487958], [3287980, 348...</td>\n",
       "      <td>[[0, 87540], [259142, 277740], [309743, 364544...</td>\n",
       "      <td>[]</td>\n",
       "      <td>[0, 20, 40, 60, 80, 100, 120, 140, 160, 180, 2...</td>\n",
       "      <td>[-44.655, -60.839996, -79.95, -87.36, -84.045,...</td>\n",
       "      <td>[-36.465, -39.78, -49.335, -56.355, -43.484997...</td>\n",
       "      <td>[-58.109997, -57.914997, -63.179996, -70.97999...</td>\n",
       "      <td>[-36.27, -36.66, -38.805, -42.899998, -33.735,...</td>\n",
       "      <td>[-32.175, -22.23, -23.984999, -41.73, -42.12, ...</td>\n",
       "    </tr>\n",
       "    <tr>\n",
       "      <th>4</th>\n",
       "      <td>NaN</td>\n",
       "      <td>20240317_172017_long_comp_subj_4-2_and_4-3</td>\n",
       "      <td>[[1, 102], [1300, 1501], [3297, 3497], [4494, ...</td>\n",
       "      <td>[[1, 102], [115, 153], [191, 245], [261, 263],...</td>\n",
       "      <td>[]</td>\n",
       "      <td>20240317_172017_long_comp_subj_4-2_and_4-3.1.v...</td>\n",
       "      <td>NaN</td>\n",
       "      <td>/scratch/back_up/reward_competition_extention/...</td>\n",
       "      <td>20240317_172017_long_comp_subj_4-2_t6b6_merged</td>\n",
       "      <td>4.2</td>\n",
       "      <td>...</td>\n",
       "      <td>[-2, 1384, 2770, 2770, 4156, 5542, 5542, 6928,...</td>\n",
       "      <td>[[0, 102220], [1302635, 1502636], [3302656, 35...</td>\n",
       "      <td>[[0, 102220], [114617, 153218], [191021, 24402...</td>\n",
       "      <td>[]</td>\n",
       "      <td>[0, 20, 40, 60, 80, 100, 120, 140, 160, 180, 2...</td>\n",
       "      <td>[10.53, 30.615, 54.6, 50.894997, 40.17, 24.179...</td>\n",
       "      <td>[25.544998, 57.524998, 85.799995, 65.909996, 5...</td>\n",
       "      <td>[15.014999, 40.559998, 69.42, 53.624996, 31.19...</td>\n",
       "      <td>[22.619999, 41.73, 68.25, 59.085, 41.535, 59.0...</td>\n",
       "      <td>[26.91, 47.969997, 66.299995, 56.159996, 59.86...</td>\n",
       "    </tr>\n",
       "  </tbody>\n",
       "</table>\n",
       "<p>5 rows × 24 columns</p>\n",
       "</div>"
      ],
      "text/plain": [
       "   cohort                                 session_dir  \\\n",
       "0     NaN  20240317_151922_long_comp_subj_3-1_and_3-3   \n",
       "1     NaN  20240317_151922_long_comp_subj_3-1_and_3-3   \n",
       "2     NaN  20240317_151922_long_comp_subj_3-1_and_3-3   \n",
       "3     NaN  20240317_151922_long_comp_subj_3-1_and_3-3   \n",
       "4     NaN  20240317_172017_long_comp_subj_4-2_and_4-3   \n",
       "\n",
       "                                         tone_frames  \\\n",
       "0  [[1, 88], [1286, 1486], [3282, 3482], [4480, 4...   \n",
       "1  [[2, 132], [1922, 2220], [4906, 5203], [6696, ...   \n",
       "2  [[1, 88], [1286, 1486], [3282, 3482], [4480, 4...   \n",
       "3  [[2, 132], [1922, 2220], [4906, 5203], [6696, ...   \n",
       "4  [[1, 102], [1300, 1501], [3297, 3497], [4494, ...   \n",
       "\n",
       "                             box_1_port_entry_frames box_2_port_entry_frames  \\\n",
       "0  [[1, 88], [259, 278], [310, 365], [366, 382], ...                      []   \n",
       "1  [[2, 132], [387, 415], [463, 546], [548, 571],...                      []   \n",
       "2  [[1, 88], [259, 278], [310, 365], [366, 382], ...                      []   \n",
       "3  [[2, 132], [387, 415], [463, 546], [548, 571],...                      []   \n",
       "4  [[1, 102], [115, 153], [191, 245], [261, 263],...                      []   \n",
       "\n",
       "                                          video_name notes  \\\n",
       "0  20240317_151922_long_comp_subj_3-1_and_3-3.1.v...   NaN   \n",
       "1  20240317_151922_long_comp_subj_3-1_and_3-3.2.v...   NaN   \n",
       "2  20240317_151922_long_comp_subj_3-1_and_3-3.1.v...   NaN   \n",
       "3  20240317_151922_long_comp_subj_3-1_and_3-3.2.v...   NaN   \n",
       "4  20240317_172017_long_comp_subj_4-2_and_4-3.1.v...   NaN   \n",
       "\n",
       "                                        session_path  \\\n",
       "0  /scratch/back_up/reward_competition_extention/...   \n",
       "1  /scratch/back_up/reward_competition_extention/...   \n",
       "2  /scratch/back_up/reward_competition_extention/...   \n",
       "3  /scratch/back_up/reward_competition_extention/...   \n",
       "4  /scratch/back_up/reward_competition_extention/...   \n",
       "\n",
       "                                        recording current_subject  ...  \\\n",
       "0  20240317_151922_long_comp_subj_3-1_t6b6_merged             3.1  ...   \n",
       "1  20240317_151922_long_comp_subj_3-1_t6b6_merged             3.1  ...   \n",
       "2  20240317_151922_long_comp_subj_3-3_t5b5_merged             3.3  ...   \n",
       "3  20240317_151922_long_comp_subj_3-3_t5b5_merged             3.3  ...   \n",
       "4  20240317_172017_long_comp_subj_4-2_t6b6_merged             4.2  ...   \n",
       "\n",
       "                                    video_timestamps  \\\n",
       "0  [-2, 1384, 1384, 2770, 4156, 5542, 5542, 6928,...   \n",
       "1  [-2, -2, 1384, 1384, 2770, 2770, 4156, 4156, 5...   \n",
       "2  [-2, 1384, 1384, 2770, 4156, 5542, 5542, 6928,...   \n",
       "3  [-2, -2, 1384, 1384, 2770, 2770, 4156, 4156, 5...   \n",
       "4  [-2, 1384, 2770, 2770, 4156, 5542, 5542, 6928,...   \n",
       "\n",
       "                                     tone_timestamps  \\\n",
       "0  [[0, 87540], [1287955, 1487958], [3287980, 348...   \n",
       "1  [[0, 87540], [1287955, 1487958], [3287980, 348...   \n",
       "2  [[0, 87540], [1287955, 1487958], [3287980, 348...   \n",
       "3  [[0, 87540], [1287955, 1487958], [3287980, 348...   \n",
       "4  [[0, 102220], [1302635, 1502636], [3302656, 35...   \n",
       "\n",
       "                         box_1_port_entry_timestamps  \\\n",
       "0  [[0, 87540], [259142, 277740], [309743, 364544...   \n",
       "1  [[0, 87540], [259142, 277740], [309743, 364544...   \n",
       "2  [[0, 87540], [259142, 277740], [309743, 364544...   \n",
       "3  [[0, 87540], [259142, 277740], [309743, 364544...   \n",
       "4  [[0, 102220], [114617, 153218], [191021, 24402...   \n",
       "\n",
       "   box_2_port_entry_timestamps  \\\n",
       "0                           []   \n",
       "1                           []   \n",
       "2                           []   \n",
       "3                           []   \n",
       "4                           []   \n",
       "\n",
       "                                      lfp_timestamps  \\\n",
       "0  [0, 20, 40, 60, 80, 100, 120, 140, 160, 180, 2...   \n",
       "1  [0, 20, 40, 60, 80, 100, 120, 140, 160, 180, 2...   \n",
       "2  [0, 20, 40, 60, 80, 100, 120, 140, 160, 180, 2...   \n",
       "3  [0, 20, 40, 60, 80, 100, 120, 140, 160, 180, 2...   \n",
       "4  [0, 20, 40, 60, 80, 100, 120, 140, 160, 180, 2...   \n",
       "\n",
       "                                      vHPC_lfp_trace  \\\n",
       "0  [13.65, 36.27, 52.065, 37.635, 10.335, -19.109...   \n",
       "1  [13.65, 36.27, 52.065, 37.635, 10.335, -19.109...   \n",
       "2  [-44.655, -60.839996, -79.95, -87.36, -84.045,...   \n",
       "3  [-44.655, -60.839996, -79.95, -87.36, -84.045,...   \n",
       "4  [10.53, 30.615, 54.6, 50.894997, 40.17, 24.179...   \n",
       "\n",
       "                                       BLA_lfp_trace  \\\n",
       "0  [14.235, 26.13, 34.71, 17.16, -19.695, -50.699...   \n",
       "1  [14.235, 26.13, 34.71, 17.16, -19.695, -50.699...   \n",
       "2  [-36.465, -39.78, -49.335, -56.355, -43.484997...   \n",
       "3  [-36.465, -39.78, -49.335, -56.355, -43.484997...   \n",
       "4  [25.544998, 57.524998, 85.799995, 65.909996, 5...   \n",
       "\n",
       "                                        LH_lfp_trace  \\\n",
       "0  [9.36, 15.794999, 24.765, 21.255, -3.12, -30.6...   \n",
       "1  [9.36, 15.794999, 24.765, 21.255, -3.12, -30.6...   \n",
       "2  [-58.109997, -57.914997, -63.179996, -70.97999...   \n",
       "3  [-58.109997, -57.914997, -63.179996, -70.97999...   \n",
       "4  [15.014999, 40.559998, 69.42, 53.624996, 31.19...   \n",
       "\n",
       "                                        MD_lfp_trace  \\\n",
       "0  [8.58, 6.24, 9.945, 11.115, -11.115, -33.735, ...   \n",
       "1  [8.58, 6.24, 9.945, 11.115, -11.115, -33.735, ...   \n",
       "2  [-36.27, -36.66, -38.805, -42.899998, -33.735,...   \n",
       "3  [-36.27, -36.66, -38.805, -42.899998, -33.735,...   \n",
       "4  [22.619999, 41.73, 68.25, 59.085, 41.535, 59.0...   \n",
       "\n",
       "                                      mPFC_lfp_trace  \n",
       "0  [1.56, 10.724999, 40.754997, 50.894997, 14.624...  \n",
       "1  [1.56, 10.724999, 40.754997, 50.894997, 14.624...  \n",
       "2  [-32.175, -22.23, -23.984999, -41.73, -42.12, ...  \n",
       "3  [-32.175, -22.23, -23.984999, -41.73, -42.12, ...  \n",
       "4  [26.91, 47.969997, 66.299995, 56.159996, 59.86...  \n",
       "\n",
       "[5 rows x 24 columns]"
      ]
     },
     "execution_count": 22,
     "metadata": {},
     "output_type": "execute_result"
    }
   ],
   "source": [
    "LFP_TRACES_DF.head()"
   ]
  },
  {
   "cell_type": "markdown",
   "metadata": {},
   "source": [
    "# Calculating modified zscore"
   ]
  },
  {
   "cell_type": "markdown",
   "metadata": {},
   "source": [
    "`0.6745(xi – x̃) / MAD`"
   ]
  },
  {
   "cell_type": "code",
   "execution_count": 23,
   "metadata": {},
   "outputs": [
    {
     "name": "stdout",
     "output_type": "stream",
     "text": [
      "vHPC_lfp_trace\n",
      "BLA_lfp_trace\n",
      "LH_lfp_trace\n",
      "MD_lfp_trace\n",
      "mPFC_lfp_trace\n"
     ]
    }
   ],
   "source": [
    "for col in original_trace_columns:\n",
    "    print(col)\n",
    "    brain_region = col.split(\"_\")[0]\n",
    "    updated_column = \"{}_lfp_MAD\".format(brain_region)\n",
    "    LFP_TRACES_DF[updated_column] = LFP_TRACES_DF[col].apply(lambda x: stats.median_abs_deviation(x))"
   ]
  },
  {
   "cell_type": "code",
   "execution_count": 24,
   "metadata": {},
   "outputs": [
    {
     "name": "stdout",
     "output_type": "stream",
     "text": [
      "vHPC_lfp_trace\n",
      "BLA_lfp_trace\n",
      "LH_lfp_trace\n",
      "MD_lfp_trace\n",
      "mPFC_lfp_trace\n"
     ]
    }
   ],
   "source": [
    "for col in original_trace_columns:\n",
    "    print(col)\n",
    "    brain_region = col.split(\"_\")[0]\n",
    "    updated_column = \"{}_lfp_modified_zscore\".format(brain_region)\n",
    "    MAD_column = \"{}_lfp_MAD\".format(brain_region)\n",
    "\n",
    "    LFP_TRACES_DF[updated_column] = LFP_TRACES_DF.apply(lambda x: 0.6745 * (x[col] - np.median(x[col])) / x[MAD_column], axis=1)"
   ]
  },
  {
   "cell_type": "code",
   "execution_count": 25,
   "metadata": {},
   "outputs": [
    {
     "data": {
      "text/plain": [
       "0     [0.029157063, 0.120515846, 0.4198617, 0.520939...\n",
       "1     [0.029157063, 0.120515846, 0.4198617, 0.520939...\n",
       "2     [-0.25584483, -0.17676552, -0.19072068, -0.331...\n",
       "3     [-0.25584483, -0.17676552, -0.19072068, -0.331...\n",
       "4     [0.30132985, 0.51685053, 0.70443326, 0.6006641...\n",
       "5     [0.30132985, 0.51685053, 0.70443326, 0.6006641...\n",
       "6     [-0.011336134, -0.19460364, -0.3287479, -0.211...\n",
       "7     [-0.011336134, -0.19460364, -0.3287479, -0.211...\n",
       "8     [-0.7282213, -0.9152508, -1.0784042, -1.159980...\n",
       "9     [-0.21009016, -0.93619114, -1.1812963, -0.6321...\n",
       "10    [0.58418226, 1.160678, 1.3624516, 1.0357707, 1...\n",
       "11    [0.63150406, 0.74168134, 1.0695258, 1.1259581,...\n",
       "12    [-0.22914198, -0.54759055, -0.69565153, -0.549...\n",
       "13    [-0.26757026, -0.19881956, -0.027871901, -0.01...\n",
       "14    [-0.44513106, -1.0010589, -1.228484, -0.542321...\n",
       "15    [-0.51904887, -0.4742578, -0.4426406, -0.37677...\n",
       "16    [0.6042047, 0.80504835, 0.9289019, 0.8853859, ...\n",
       "17    [-0.4757634, -0.3573244, -0.29710117, -0.36133...\n",
       "18    [-1.1685257, -0.77476346, -0.5086095, -0.19688...\n",
       "19    [0.52707934, 0.7249865, 0.9976137, 1.0218472, ...\n",
       "Name: mPFC_lfp_modified_zscore, dtype: object"
      ]
     },
     "execution_count": 25,
     "metadata": {},
     "output_type": "execute_result"
    }
   ],
   "source": [
    "LFP_TRACES_DF[updated_column]"
   ]
  },
  {
   "cell_type": "markdown",
   "metadata": {},
   "source": [
    "## calculating root mean sequare"
   ]
  },
  {
   "cell_type": "code",
   "execution_count": 26,
   "metadata": {
    "tags": []
   },
   "outputs": [
    {
     "name": "stdout",
     "output_type": "stream",
     "text": [
      "vHPC_lfp_trace\n",
      "BLA_lfp_trace\n",
      "LH_lfp_trace\n",
      "MD_lfp_trace\n",
      "mPFC_lfp_trace\n"
     ]
    }
   ],
   "source": [
    "for col in original_trace_columns:\n",
    "    print(col)\n",
    "    brain_region = col.split(\"_\")[0]\n",
    "    updated_column = \"{}_lfp_RMS\".format(brain_region)\n",
    "    LFP_TRACES_DF[updated_column] = LFP_TRACES_DF[col].apply(lambda x: (x / np.sqrt(np.mean(x**2))).astype(np.float32))\n"
   ]
  },
  {
   "cell_type": "code",
   "execution_count": 27,
   "metadata": {
    "tags": []
   },
   "outputs": [
    {
     "data": {
      "text/html": [
       "<div>\n",
       "<style scoped>\n",
       "    .dataframe tbody tr th:only-of-type {\n",
       "        vertical-align: middle;\n",
       "    }\n",
       "\n",
       "    .dataframe tbody tr th {\n",
       "        vertical-align: top;\n",
       "    }\n",
       "\n",
       "    .dataframe thead th {\n",
       "        text-align: right;\n",
       "    }\n",
       "</style>\n",
       "<table border=\"1\" class=\"dataframe\">\n",
       "  <thead>\n",
       "    <tr style=\"text-align: right;\">\n",
       "      <th></th>\n",
       "      <th>cohort</th>\n",
       "      <th>session_dir</th>\n",
       "      <th>tone_frames</th>\n",
       "      <th>box_1_port_entry_frames</th>\n",
       "      <th>box_2_port_entry_frames</th>\n",
       "      <th>video_name</th>\n",
       "      <th>notes</th>\n",
       "      <th>session_path</th>\n",
       "      <th>recording</th>\n",
       "      <th>current_subject</th>\n",
       "      <th>...</th>\n",
       "      <th>vHPC_lfp_modified_zscore</th>\n",
       "      <th>BLA_lfp_modified_zscore</th>\n",
       "      <th>LH_lfp_modified_zscore</th>\n",
       "      <th>MD_lfp_modified_zscore</th>\n",
       "      <th>mPFC_lfp_modified_zscore</th>\n",
       "      <th>vHPC_lfp_RMS</th>\n",
       "      <th>BLA_lfp_RMS</th>\n",
       "      <th>LH_lfp_RMS</th>\n",
       "      <th>MD_lfp_RMS</th>\n",
       "      <th>mPFC_lfp_RMS</th>\n",
       "    </tr>\n",
       "  </thead>\n",
       "  <tbody>\n",
       "    <tr>\n",
       "      <th>0</th>\n",
       "      <td>NaN</td>\n",
       "      <td>20240317_151922_long_comp_subj_3-1_and_3-3</td>\n",
       "      <td>[[1, 88], [1286, 1486], [3282, 3482], [4480, 4...</td>\n",
       "      <td>[[1, 88], [259, 278], [310, 365], [366, 382], ...</td>\n",
       "      <td>[]</td>\n",
       "      <td>20240317_151922_long_comp_subj_3-1_and_3-3.1.v...</td>\n",
       "      <td>NaN</td>\n",
       "      <td>/scratch/back_up/reward_competition_extention/...</td>\n",
       "      <td>20240317_151922_long_comp_subj_3-1_t6b6_merged</td>\n",
       "      <td>3.1</td>\n",
       "      <td>...</td>\n",
       "      <td>[0.15141837, 0.37952918, 0.5388135, 0.39329448...</td>\n",
       "      <td>[0.16116373, 0.28253394, 0.37007967, 0.1910088...</td>\n",
       "      <td>[0.10752898, 0.17204638, 0.26197967, 0.2267883...</td>\n",
       "      <td>[0.10021142, 0.07708571, 0.11370142, 0.1252642...</td>\n",
       "      <td>[0.029157063, 0.120515846, 0.4198617, 0.520939...</td>\n",
       "      <td>[0.122742355, 0.32614398, 0.46817443, 0.338418...</td>\n",
       "      <td>[0.12974347, 0.23815925, 0.3163608, 0.1564031,...</td>\n",
       "      <td>[0.084228605, 0.14213577, 0.22285485, 0.191269...</td>\n",
       "      <td>[0.0762206, 0.055433165, 0.08834661, 0.0987403...</td>\n",
       "      <td>[0.013956478, 0.09595078, 0.36461297, 0.455330...</td>\n",
       "    </tr>\n",
       "    <tr>\n",
       "      <th>1</th>\n",
       "      <td>NaN</td>\n",
       "      <td>20240317_151922_long_comp_subj_3-1_and_3-3</td>\n",
       "      <td>[[2, 132], [1922, 2220], [4906, 5203], [6696, ...</td>\n",
       "      <td>[[2, 132], [387, 415], [463, 546], [548, 571],...</td>\n",
       "      <td>[]</td>\n",
       "      <td>20240317_151922_long_comp_subj_3-1_and_3-3.2.v...</td>\n",
       "      <td>NaN</td>\n",
       "      <td>/scratch/back_up/reward_competition_extention/...</td>\n",
       "      <td>20240317_151922_long_comp_subj_3-1_t6b6_merged</td>\n",
       "      <td>3.1</td>\n",
       "      <td>...</td>\n",
       "      <td>[0.15141837, 0.37952918, 0.5388135, 0.39329448...</td>\n",
       "      <td>[0.16116373, 0.28253394, 0.37007967, 0.1910088...</td>\n",
       "      <td>[0.10752898, 0.17204638, 0.26197967, 0.2267883...</td>\n",
       "      <td>[0.10021142, 0.07708571, 0.11370142, 0.1252642...</td>\n",
       "      <td>[0.029157063, 0.120515846, 0.4198617, 0.520939...</td>\n",
       "      <td>[0.122742355, 0.32614398, 0.46817443, 0.338418...</td>\n",
       "      <td>[0.12974347, 0.23815925, 0.3163608, 0.1564031,...</td>\n",
       "      <td>[0.084228605, 0.14213577, 0.22285485, 0.191269...</td>\n",
       "      <td>[0.0762206, 0.055433165, 0.08834661, 0.0987403...</td>\n",
       "      <td>[0.013956478, 0.09595078, 0.36461297, 0.455330...</td>\n",
       "    </tr>\n",
       "    <tr>\n",
       "      <th>2</th>\n",
       "      <td>NaN</td>\n",
       "      <td>20240317_151922_long_comp_subj_3-1_and_3-3</td>\n",
       "      <td>[[1, 88], [1286, 1486], [3282, 3482], [4480, 4...</td>\n",
       "      <td>[[1, 88], [259, 278], [310, 365], [366, 382], ...</td>\n",
       "      <td>[]</td>\n",
       "      <td>20240317_151922_long_comp_subj_3-1_and_3-3.1.v...</td>\n",
       "      <td>NaN</td>\n",
       "      <td>/scratch/back_up/reward_competition_extention/...</td>\n",
       "      <td>20240317_151922_long_comp_subj_3-3_t5b5_merged</td>\n",
       "      <td>3.3</td>\n",
       "      <td>...</td>\n",
       "      <td>[-0.46743464, -0.6375972, -0.8385122, -0.91641...</td>\n",
       "      <td>[-0.28001034, -0.30630964, -0.38211355, -0.437...</td>\n",
       "      <td>[-0.45686954, -0.45532608, -0.49699998, -0.558...</td>\n",
       "      <td>[-0.28231338, -0.2853654, -0.3021516, -0.33419...</td>\n",
       "      <td>[-0.25584483, -0.17676552, -0.19072068, -0.331...</td>\n",
       "      <td>[-0.3722158, -0.5071237, -0.6664126, -0.728177...</td>\n",
       "      <td>[-0.25305068, -0.27605528, -0.3423627, -0.3910...</td>\n",
       "      <td>[-0.40213147, -0.40078202, -0.43721676, -0.491...</td>\n",
       "      <td>[-0.24946693, -0.25214937, -0.26690277, -0.295...</td>\n",
       "      <td>[-0.22272706, -0.15388414, -0.1660329, -0.2888...</td>\n",
       "    </tr>\n",
       "    <tr>\n",
       "      <th>3</th>\n",
       "      <td>NaN</td>\n",
       "      <td>20240317_151922_long_comp_subj_3-1_and_3-3</td>\n",
       "      <td>[[2, 132], [1922, 2220], [4906, 5203], [6696, ...</td>\n",
       "      <td>[[2, 132], [387, 415], [463, 546], [548, 571],...</td>\n",
       "      <td>[]</td>\n",
       "      <td>20240317_151922_long_comp_subj_3-1_and_3-3.2.v...</td>\n",
       "      <td>NaN</td>\n",
       "      <td>/scratch/back_up/reward_competition_extention/...</td>\n",
       "      <td>20240317_151922_long_comp_subj_3-3_t5b5_merged</td>\n",
       "      <td>3.3</td>\n",
       "      <td>...</td>\n",
       "      <td>[-0.46743464, -0.6375972, -0.8385122, -0.91641...</td>\n",
       "      <td>[-0.28001034, -0.30630964, -0.38211355, -0.437...</td>\n",
       "      <td>[-0.45686954, -0.45532608, -0.49699998, -0.558...</td>\n",
       "      <td>[-0.28231338, -0.2853654, -0.3021516, -0.33419...</td>\n",
       "      <td>[-0.25584483, -0.17676552, -0.19072068, -0.331...</td>\n",
       "      <td>[-0.3722158, -0.5071237, -0.6664126, -0.728177...</td>\n",
       "      <td>[-0.25305068, -0.27605528, -0.3423627, -0.3910...</td>\n",
       "      <td>[-0.40213147, -0.40078202, -0.43721676, -0.491...</td>\n",
       "      <td>[-0.24946693, -0.25214937, -0.26690277, -0.295...</td>\n",
       "      <td>[-0.22272706, -0.15388414, -0.1660329, -0.2888...</td>\n",
       "    </tr>\n",
       "    <tr>\n",
       "      <th>4</th>\n",
       "      <td>NaN</td>\n",
       "      <td>20240317_172017_long_comp_subj_4-2_and_4-3</td>\n",
       "      <td>[[1, 102], [1300, 1501], [3297, 3497], [4494, ...</td>\n",
       "      <td>[[1, 102], [115, 153], [191, 245], [261, 263],...</td>\n",
       "      <td>[]</td>\n",
       "      <td>20240317_172017_long_comp_subj_4-2_and_4-3.1.v...</td>\n",
       "      <td>NaN</td>\n",
       "      <td>/scratch/back_up/reward_competition_extention/...</td>\n",
       "      <td>20240317_172017_long_comp_subj_4-2_t6b6_merged</td>\n",
       "      <td>4.2</td>\n",
       "      <td>...</td>\n",
       "      <td>[0.12940988, 0.3313677, 0.57254064, 0.5352863,...</td>\n",
       "      <td>[0.283172, 0.6056735, 0.8908119, 0.69023174, 0...</td>\n",
       "      <td>[0.18038954, 0.43724853, 0.7274405, 0.5686192,...</td>\n",
       "      <td>[0.2583611, 0.4516389, 0.71986115, 0.6271667, ...</td>\n",
       "      <td>[0.30132985, 0.51685053, 0.70443326, 0.6006641...</td>\n",
       "      <td>[0.10429102, 0.3032165, 0.54076827, 0.50407326...</td>\n",
       "      <td>[0.25413108, 0.57227993, 0.85357004, 0.655697,...</td>\n",
       "      <td>[0.14957175, 0.40403795, 0.69152653, 0.5341847...</td>\n",
       "      <td>[0.22591394, 0.41677228, 0.6816369, 0.5901028,...</td>\n",
       "      <td>[0.27238926, 0.48556343, 0.6711039, 0.5684645,...</td>\n",
       "    </tr>\n",
       "  </tbody>\n",
       "</table>\n",
       "<p>5 rows × 39 columns</p>\n",
       "</div>"
      ],
      "text/plain": [
       "   cohort                                 session_dir  \\\n",
       "0     NaN  20240317_151922_long_comp_subj_3-1_and_3-3   \n",
       "1     NaN  20240317_151922_long_comp_subj_3-1_and_3-3   \n",
       "2     NaN  20240317_151922_long_comp_subj_3-1_and_3-3   \n",
       "3     NaN  20240317_151922_long_comp_subj_3-1_and_3-3   \n",
       "4     NaN  20240317_172017_long_comp_subj_4-2_and_4-3   \n",
       "\n",
       "                                         tone_frames  \\\n",
       "0  [[1, 88], [1286, 1486], [3282, 3482], [4480, 4...   \n",
       "1  [[2, 132], [1922, 2220], [4906, 5203], [6696, ...   \n",
       "2  [[1, 88], [1286, 1486], [3282, 3482], [4480, 4...   \n",
       "3  [[2, 132], [1922, 2220], [4906, 5203], [6696, ...   \n",
       "4  [[1, 102], [1300, 1501], [3297, 3497], [4494, ...   \n",
       "\n",
       "                             box_1_port_entry_frames box_2_port_entry_frames  \\\n",
       "0  [[1, 88], [259, 278], [310, 365], [366, 382], ...                      []   \n",
       "1  [[2, 132], [387, 415], [463, 546], [548, 571],...                      []   \n",
       "2  [[1, 88], [259, 278], [310, 365], [366, 382], ...                      []   \n",
       "3  [[2, 132], [387, 415], [463, 546], [548, 571],...                      []   \n",
       "4  [[1, 102], [115, 153], [191, 245], [261, 263],...                      []   \n",
       "\n",
       "                                          video_name notes  \\\n",
       "0  20240317_151922_long_comp_subj_3-1_and_3-3.1.v...   NaN   \n",
       "1  20240317_151922_long_comp_subj_3-1_and_3-3.2.v...   NaN   \n",
       "2  20240317_151922_long_comp_subj_3-1_and_3-3.1.v...   NaN   \n",
       "3  20240317_151922_long_comp_subj_3-1_and_3-3.2.v...   NaN   \n",
       "4  20240317_172017_long_comp_subj_4-2_and_4-3.1.v...   NaN   \n",
       "\n",
       "                                        session_path  \\\n",
       "0  /scratch/back_up/reward_competition_extention/...   \n",
       "1  /scratch/back_up/reward_competition_extention/...   \n",
       "2  /scratch/back_up/reward_competition_extention/...   \n",
       "3  /scratch/back_up/reward_competition_extention/...   \n",
       "4  /scratch/back_up/reward_competition_extention/...   \n",
       "\n",
       "                                        recording current_subject  ...  \\\n",
       "0  20240317_151922_long_comp_subj_3-1_t6b6_merged             3.1  ...   \n",
       "1  20240317_151922_long_comp_subj_3-1_t6b6_merged             3.1  ...   \n",
       "2  20240317_151922_long_comp_subj_3-3_t5b5_merged             3.3  ...   \n",
       "3  20240317_151922_long_comp_subj_3-3_t5b5_merged             3.3  ...   \n",
       "4  20240317_172017_long_comp_subj_4-2_t6b6_merged             4.2  ...   \n",
       "\n",
       "                            vHPC_lfp_modified_zscore  \\\n",
       "0  [0.15141837, 0.37952918, 0.5388135, 0.39329448...   \n",
       "1  [0.15141837, 0.37952918, 0.5388135, 0.39329448...   \n",
       "2  [-0.46743464, -0.6375972, -0.8385122, -0.91641...   \n",
       "3  [-0.46743464, -0.6375972, -0.8385122, -0.91641...   \n",
       "4  [0.12940988, 0.3313677, 0.57254064, 0.5352863,...   \n",
       "\n",
       "                             BLA_lfp_modified_zscore  \\\n",
       "0  [0.16116373, 0.28253394, 0.37007967, 0.1910088...   \n",
       "1  [0.16116373, 0.28253394, 0.37007967, 0.1910088...   \n",
       "2  [-0.28001034, -0.30630964, -0.38211355, -0.437...   \n",
       "3  [-0.28001034, -0.30630964, -0.38211355, -0.437...   \n",
       "4  [0.283172, 0.6056735, 0.8908119, 0.69023174, 0...   \n",
       "\n",
       "                              LH_lfp_modified_zscore  \\\n",
       "0  [0.10752898, 0.17204638, 0.26197967, 0.2267883...   \n",
       "1  [0.10752898, 0.17204638, 0.26197967, 0.2267883...   \n",
       "2  [-0.45686954, -0.45532608, -0.49699998, -0.558...   \n",
       "3  [-0.45686954, -0.45532608, -0.49699998, -0.558...   \n",
       "4  [0.18038954, 0.43724853, 0.7274405, 0.5686192,...   \n",
       "\n",
       "                              MD_lfp_modified_zscore  \\\n",
       "0  [0.10021142, 0.07708571, 0.11370142, 0.1252642...   \n",
       "1  [0.10021142, 0.07708571, 0.11370142, 0.1252642...   \n",
       "2  [-0.28231338, -0.2853654, -0.3021516, -0.33419...   \n",
       "3  [-0.28231338, -0.2853654, -0.3021516, -0.33419...   \n",
       "4  [0.2583611, 0.4516389, 0.71986115, 0.6271667, ...   \n",
       "\n",
       "                            mPFC_lfp_modified_zscore  \\\n",
       "0  [0.029157063, 0.120515846, 0.4198617, 0.520939...   \n",
       "1  [0.029157063, 0.120515846, 0.4198617, 0.520939...   \n",
       "2  [-0.25584483, -0.17676552, -0.19072068, -0.331...   \n",
       "3  [-0.25584483, -0.17676552, -0.19072068, -0.331...   \n",
       "4  [0.30132985, 0.51685053, 0.70443326, 0.6006641...   \n",
       "\n",
       "                                        vHPC_lfp_RMS  \\\n",
       "0  [0.122742355, 0.32614398, 0.46817443, 0.338418...   \n",
       "1  [0.122742355, 0.32614398, 0.46817443, 0.338418...   \n",
       "2  [-0.3722158, -0.5071237, -0.6664126, -0.728177...   \n",
       "3  [-0.3722158, -0.5071237, -0.6664126, -0.728177...   \n",
       "4  [0.10429102, 0.3032165, 0.54076827, 0.50407326...   \n",
       "\n",
       "                                         BLA_lfp_RMS  \\\n",
       "0  [0.12974347, 0.23815925, 0.3163608, 0.1564031,...   \n",
       "1  [0.12974347, 0.23815925, 0.3163608, 0.1564031,...   \n",
       "2  [-0.25305068, -0.27605528, -0.3423627, -0.3910...   \n",
       "3  [-0.25305068, -0.27605528, -0.3423627, -0.3910...   \n",
       "4  [0.25413108, 0.57227993, 0.85357004, 0.655697,...   \n",
       "\n",
       "                                          LH_lfp_RMS  \\\n",
       "0  [0.084228605, 0.14213577, 0.22285485, 0.191269...   \n",
       "1  [0.084228605, 0.14213577, 0.22285485, 0.191269...   \n",
       "2  [-0.40213147, -0.40078202, -0.43721676, -0.491...   \n",
       "3  [-0.40213147, -0.40078202, -0.43721676, -0.491...   \n",
       "4  [0.14957175, 0.40403795, 0.69152653, 0.5341847...   \n",
       "\n",
       "                                          MD_lfp_RMS  \\\n",
       "0  [0.0762206, 0.055433165, 0.08834661, 0.0987403...   \n",
       "1  [0.0762206, 0.055433165, 0.08834661, 0.0987403...   \n",
       "2  [-0.24946693, -0.25214937, -0.26690277, -0.295...   \n",
       "3  [-0.24946693, -0.25214937, -0.26690277, -0.295...   \n",
       "4  [0.22591394, 0.41677228, 0.6816369, 0.5901028,...   \n",
       "\n",
       "                                        mPFC_lfp_RMS  \n",
       "0  [0.013956478, 0.09595078, 0.36461297, 0.455330...  \n",
       "1  [0.013956478, 0.09595078, 0.36461297, 0.455330...  \n",
       "2  [-0.22272706, -0.15388414, -0.1660329, -0.2888...  \n",
       "3  [-0.22272706, -0.15388414, -0.1660329, -0.2888...  \n",
       "4  [0.27238926, 0.48556343, 0.6711039, 0.5684645,...  \n",
       "\n",
       "[5 rows x 39 columns]"
      ]
     },
     "execution_count": 27,
     "metadata": {},
     "output_type": "execute_result"
    }
   ],
   "source": [
    "LFP_TRACES_DF.head()"
   ]
  },
  {
   "cell_type": "markdown",
   "metadata": {},
   "source": [
    "## Filtering for zscore value"
   ]
  },
  {
   "cell_type": "code",
   "execution_count": 28,
   "metadata": {
    "tags": []
   },
   "outputs": [],
   "source": [
    "zscore_columns = [col for col in LFP_TRACES_DF.columns if \"zscore\" in col]"
   ]
  },
  {
   "cell_type": "code",
   "execution_count": 29,
   "metadata": {
    "tags": []
   },
   "outputs": [
    {
     "data": {
      "text/plain": [
       "['vHPC_lfp_modified_zscore',\n",
       " 'BLA_lfp_modified_zscore',\n",
       " 'LH_lfp_modified_zscore',\n",
       " 'MD_lfp_modified_zscore',\n",
       " 'mPFC_lfp_modified_zscore']"
      ]
     },
     "execution_count": 29,
     "metadata": {},
     "output_type": "execute_result"
    }
   ],
   "source": [
    "zscore_columns"
   ]
  },
  {
   "cell_type": "code",
   "execution_count": 30,
   "metadata": {
    "tags": []
   },
   "outputs": [
    {
     "name": "stdout",
     "output_type": "stream",
     "text": [
      "vHPC_lfp_modified_zscore\n",
      "BLA_lfp_modified_zscore\n",
      "LH_lfp_modified_zscore\n",
      "MD_lfp_modified_zscore\n",
      "mPFC_lfp_modified_zscore\n"
     ]
    }
   ],
   "source": [
    "for col in zscore_columns:\n",
    "    print(col)\n",
    "    brain_region = col.split(\"_\")[0]\n",
    "    updated_column = \"{}_lfp_mask\".format(brain_region)\n",
    "    LFP_TRACES_DF[updated_column] = LFP_TRACES_DF[col].apply(lambda x: np.abs(x) >= zscore_threshold)"
   ]
  },
  {
   "cell_type": "code",
   "execution_count": 31,
   "metadata": {
    "tags": []
   },
   "outputs": [
    {
     "data": {
      "text/plain": [
       "0    [False, False, False, False, False, False, Fal...\n",
       "1    [False, False, False, False, False, False, Fal...\n",
       "2    [False, False, False, False, False, False, Fal...\n",
       "3    [False, False, False, False, False, False, Fal...\n",
       "4    [False, False, False, False, False, False, Fal...\n",
       "Name: mPFC_lfp_mask, dtype: object"
      ]
     },
     "execution_count": 31,
     "metadata": {},
     "output_type": "execute_result"
    }
   ],
   "source": [
    "LFP_TRACES_DF[updated_column].head()"
   ]
  },
  {
   "cell_type": "code",
   "execution_count": 32,
   "metadata": {
    "tags": []
   },
   "outputs": [
    {
     "data": {
      "text/plain": [
       "(2291031,)"
      ]
     },
     "execution_count": 32,
     "metadata": {},
     "output_type": "execute_result"
    }
   ],
   "source": [
    "LFP_TRACES_DF[updated_column].iloc[0].shape"
   ]
  },
  {
   "cell_type": "code",
   "execution_count": 33,
   "metadata": {
    "tags": []
   },
   "outputs": [
    {
     "data": {
      "text/plain": [
       "2379"
      ]
     },
     "execution_count": 33,
     "metadata": {},
     "output_type": "execute_result"
    }
   ],
   "source": [
    "sum(LFP_TRACES_DF[updated_column].iloc[0])"
   ]
  },
  {
   "cell_type": "markdown",
   "metadata": {
    "tags": []
   },
   "source": [
    "- Filtering raw traces by zscore"
   ]
  },
  {
   "cell_type": "code",
   "execution_count": 34,
   "metadata": {
    "tags": []
   },
   "outputs": [
    {
     "data": {
      "text/plain": [
       "0    [0.029157063, 0.120515846, 0.4198617, 0.520939...\n",
       "1    [0.029157063, 0.120515846, 0.4198617, 0.520939...\n",
       "2    [-0.25584483, -0.17676552, -0.19072068, -0.331...\n",
       "3    [-0.25584483, -0.17676552, -0.19072068, -0.331...\n",
       "4    [0.30132985, 0.51685053, 0.70443326, 0.6006641...\n",
       "Name: mPFC_lfp_modified_zscore, dtype: object"
      ]
     },
     "execution_count": 34,
     "metadata": {},
     "output_type": "execute_result"
    }
   ],
   "source": [
    "LFP_TRACES_DF[col].head()"
   ]
  },
  {
   "cell_type": "code",
   "execution_count": 35,
   "metadata": {
    "tags": []
   },
   "outputs": [
    {
     "name": "stdout",
     "output_type": "stream",
     "text": [
      "vHPC_lfp_trace\n",
      "BLA_lfp_trace\n",
      "LH_lfp_trace\n",
      "MD_lfp_trace\n",
      "mPFC_lfp_trace\n"
     ]
    }
   ],
   "source": [
    "for col in original_trace_columns:\n",
    "    print(col)\n",
    "    brain_region = col.split(\"_\")[0]\n",
    "    updated_column = \"{}_lfp_trace_filtered\".format(brain_region)    \n",
    "    mask_column = \"{}_lfp_mask\".format(brain_region)\n",
    "    LFP_TRACES_DF[updated_column] = LFP_TRACES_DF.apply(lambda x: update_array_by_mask(x[col], x[mask_column]), axis=1)"
   ]
  },
  {
   "cell_type": "code",
   "execution_count": 36,
   "metadata": {
    "tags": []
   },
   "outputs": [
    {
     "data": {
      "text/plain": [
       "0    [1.56, 10.724999, 40.754997, 50.894997, 14.624...\n",
       "1    [1.56, 10.724999, 40.754997, 50.894997, 14.624...\n",
       "2    [-32.175, -22.23, -23.984999, -41.73, -42.12, ...\n",
       "3    [-32.175, -22.23, -23.984999, -41.73, -42.12, ...\n",
       "4    [26.91, 47.969997, 66.299995, 56.159996, 59.86...\n",
       "Name: mPFC_lfp_trace, dtype: object"
      ]
     },
     "execution_count": 36,
     "metadata": {},
     "output_type": "execute_result"
    }
   ],
   "source": [
    "LFP_TRACES_DF[col].head()"
   ]
  },
  {
   "cell_type": "code",
   "execution_count": 37,
   "metadata": {
    "tags": []
   },
   "outputs": [
    {
     "data": {
      "text/plain": [
       "0"
      ]
     },
     "execution_count": 37,
     "metadata": {},
     "output_type": "execute_result"
    }
   ],
   "source": [
    "sum(np.isnan(LFP_TRACES_DF[col].iloc[0]))"
   ]
  },
  {
   "cell_type": "markdown",
   "metadata": {},
   "source": [
    "- Calculating RMS of filtered signal"
   ]
  },
  {
   "cell_type": "code",
   "execution_count": 38,
   "metadata": {
    "tags": []
   },
   "outputs": [],
   "source": [
    "filtered_trace_column = [col for col in LFP_TRACES_DF if \"lfp_trace_filtered\" in col]"
   ]
  },
  {
   "cell_type": "code",
   "execution_count": 39,
   "metadata": {},
   "outputs": [
    {
     "name": "stdout",
     "output_type": "stream",
     "text": [
      "vHPC_lfp_trace_filtered\n",
      "BLA_lfp_trace_filtered\n",
      "LH_lfp_trace_filtered\n",
      "MD_lfp_trace_filtered\n",
      "mPFC_lfp_trace_filtered\n"
     ]
    }
   ],
   "source": [
    "for col in filtered_trace_column:\n",
    "    print(col)\n",
    "    brain_region = col.split(\"_\")[0]\n",
    "    updated_column = \"{}_lfp_RMS_filtered\".format(brain_region)\n",
    "    LFP_TRACES_DF[updated_column] = LFP_TRACES_DF[col].apply(lambda x: (x / np.sqrt(np.nanmean(x**2))).astype(np.float32))"
   ]
  },
  {
   "cell_type": "markdown",
   "metadata": {
    "tags": []
   },
   "source": [
    "# Power Calcuation"
   ]
  },
  {
   "cell_type": "markdown",
   "metadata": {},
   "source": [
    "- Getting the column name of all the traces"
   ]
  },
  {
   "cell_type": "code",
   "execution_count": 40,
   "metadata": {
    "tags": []
   },
   "outputs": [],
   "source": [
    "input_columns = [col for col in LFP_TRACES_DF.columns if \"RMS\" in col and \"filtered\" in col]"
   ]
  },
  {
   "cell_type": "code",
   "execution_count": 41,
   "metadata": {
    "tags": []
   },
   "outputs": [
    {
     "data": {
      "text/plain": [
       "['vHPC_lfp_RMS_filtered',\n",
       " 'BLA_lfp_RMS_filtered',\n",
       " 'LH_lfp_RMS_filtered',\n",
       " 'MD_lfp_RMS_filtered',\n",
       " 'mPFC_lfp_RMS_filtered']"
      ]
     },
     "execution_count": 41,
     "metadata": {},
     "output_type": "execute_result"
    }
   ],
   "source": [
    "input_columns"
   ]
  },
  {
   "cell_type": "code",
   "execution_count": 42,
   "metadata": {
    "tags": []
   },
   "outputs": [
    {
     "name": "stdout",
     "output_type": "stream",
     "text": [
      "vHPC_lfp_RMS_filtered\n",
      "BLA_lfp_RMS_filtered\n",
      "LH_lfp_RMS_filtered\n",
      "MD_lfp_RMS_filtered\n",
      "mPFC_lfp_RMS_filtered\n"
     ]
    }
   ],
   "source": [
    "for col in input_columns:\n",
    "    print(col)\n",
    "    LFP_TRACES_DF[col] = LFP_TRACES_DF[col].apply(lambda x: np.round(x.astype(np.float32), decimals=3))"
   ]
  },
  {
   "cell_type": "markdown",
   "metadata": {},
   "source": [
    "- Calcuating the power at each frequency band"
   ]
  },
  {
   "cell_type": "code",
   "execution_count": 43,
   "metadata": {},
   "outputs": [
    {
     "data": {
      "text/plain": [
       "array([0.015, 0.106, 0.404, ..., 0.01 , 0.072, 0.122], dtype=float32)"
      ]
     },
     "execution_count": 43,
     "metadata": {},
     "output_type": "execute_result"
    }
   ],
   "source": [
    "LFP_TRACES_DF[col].iloc[0]"
   ]
  },
  {
   "cell_type": "code",
   "execution_count": 44,
   "metadata": {
    "tags": []
   },
   "outputs": [
    {
     "name": "stdout",
     "output_type": "stream",
     "text": [
      "vHPC_RMS_filtered\n",
      "BLA_RMS_filtered\n",
      "LH_RMS_filtered\n",
      "MD_RMS_filtered\n",
      "mPFC_RMS_filtered\n"
     ]
    }
   ],
   "source": [
    "for col in input_columns:\n",
    "    # brain_region = col.split(\"_\")[0]\n",
    "    brain_region = col.replace(\"_lfp\", \"\")\n",
    "    print(brain_region)\n",
    "\n",
    "    # Define column names\n",
    "    multitaper_col = f\"{brain_region}_power_multitaper\"\n",
    "    connectivity_col = f\"{brain_region}_power_connectivity\"\n",
    "    frequencies_col = f\"{brain_region}_power_frequencies\"\n",
    "    power_col = f\"{brain_region}_power_all_frequencies_all_windows\"\n",
    "    \n",
    "    try:\n",
    "        # Apply Multitaper function to the lfp_trace column\n",
    "        LFP_TRACES_DF[multitaper_col] = LFP_TRACES_DF[col].apply(\n",
    "            lambda x: Multitaper(\n",
    "                time_series=x, \n",
    "                sampling_frequency=RESAMPLE_RATE, \n",
    "                time_halfbandwidth_product=TIME_HALFBANDWIDTH_PRODUCT,\n",
    "                time_window_duration=TIME_WINDOW_DURATION, \n",
    "                time_window_step=TIME_WINDOW_STEP\n",
    "            )\n",
    "        )\n",
    "\n",
    "        # Apply Connectivity function to the multitaper column\n",
    "        LFP_TRACES_DF[connectivity_col] = LFP_TRACES_DF[multitaper_col].apply(\n",
    "            lambda x: Connectivity.from_multitaper(x)\n",
    "        )\n",
    "\n",
    "        # Apply frequencies and power functions to the connectivity column\n",
    "        LFP_TRACES_DF[frequencies_col] = LFP_TRACES_DF[connectivity_col].apply(\n",
    "            lambda x: x.frequencies\n",
    "        )\n",
    "        LFP_TRACES_DF[power_col] = LFP_TRACES_DF[connectivity_col].apply(\n",
    "            lambda x: x.power().squeeze()\n",
    "        )\n",
    "        \n",
    "        LFP_TRACES_DF[power_col] = LFP_TRACES_DF[power_col].apply(lambda x: x.astype(np.float32))\n",
    "            \n",
    "        # Removing unnecessary columns\n",
    "        LFP_TRACES_DF = LFP_TRACES_DF.drop(columns=[multitaper_col, connectivity_col], errors=\"ignore\")\n",
    "    \n",
    "    except Exception as e: \n",
    "        print(e)"
   ]
  },
  {
   "cell_type": "markdown",
   "metadata": {},
   "source": [
    "- Getting the timestamps of the power"
   ]
  },
  {
   "cell_type": "code",
   "execution_count": 45,
   "metadata": {
    "tags": []
   },
   "outputs": [],
   "source": [
    "LFP_TRACES_DF[\"power_timestamps\"] = LFP_TRACES_DF[\"lfp_timestamps\"].apply(lambda x: x[(RESAMPLE_RATE//2):(-RESAMPLE_RATE//2):(RESAMPLE_RATE//2)])\n",
    "# .iloc[0][500:-500:500].shape"
   ]
  },
  {
   "cell_type": "markdown",
   "metadata": {},
   "source": [
    "- Making sure that the timestamps for power makes sense with shape and values"
   ]
  },
  {
   "cell_type": "code",
   "execution_count": 46,
   "metadata": {
    "tags": []
   },
   "outputs": [
    {
     "data": {
      "text/plain": [
       "0    (4581,)\n",
       "1    (4581,)\n",
       "2    (4581,)\n",
       "3    (4581,)\n",
       "4    (5897,)\n",
       "Name: power_timestamps, dtype: object"
      ]
     },
     "execution_count": 46,
     "metadata": {},
     "output_type": "execute_result"
    }
   ],
   "source": [
    "LFP_TRACES_DF[\"power_timestamps\"].head().apply(lambda x: x.shape)"
   ]
  },
  {
   "cell_type": "code",
   "execution_count": 47,
   "metadata": {
    "tags": []
   },
   "outputs": [
    {
     "data": {
      "text/plain": [
       "(4581, 500)"
      ]
     },
     "execution_count": 47,
     "metadata": {},
     "output_type": "execute_result"
    }
   ],
   "source": [
    "LFP_TRACES_DF[[col for col in LFP_TRACES_DF.columns if \"power_all_frequencies_all_windows\" in col][0]].iloc[0].shape"
   ]
  },
  {
   "cell_type": "code",
   "execution_count": 48,
   "metadata": {
    "tags": []
   },
   "outputs": [
    {
     "data": {
      "text/plain": [
       "array([       0,       20,       40, ..., 45820560, 45820580, 45820600])"
      ]
     },
     "execution_count": 48,
     "metadata": {},
     "output_type": "execute_result"
    }
   ],
   "source": [
    "LFP_TRACES_DF[[col for col in LFP_TRACES_DF.columns if \"lfp_timestamps\" in col][0]].iloc[0]"
   ]
  },
  {
   "cell_type": "code",
   "execution_count": 49,
   "metadata": {
    "tags": []
   },
   "outputs": [
    {
     "data": {
      "text/plain": [
       "array([   10000,    20000,    30000, ..., 45790000, 45800000, 45810000])"
      ]
     },
     "execution_count": 49,
     "metadata": {},
     "output_type": "execute_result"
    }
   ],
   "source": [
    "LFP_TRACES_DF[[col for col in LFP_TRACES_DF.columns if \"power_timestamps\" in col][0]].iloc[0]"
   ]
  },
  {
   "cell_type": "markdown",
   "metadata": {},
   "source": [
    "- Checking if the right frequencies are being used"
   ]
  },
  {
   "cell_type": "code",
   "execution_count": 50,
   "metadata": {
    "tags": []
   },
   "outputs": [
    {
     "data": {
      "text/html": [
       "<div>\n",
       "<style scoped>\n",
       "    .dataframe tbody tr th:only-of-type {\n",
       "        vertical-align: middle;\n",
       "    }\n",
       "\n",
       "    .dataframe tbody tr th {\n",
       "        vertical-align: top;\n",
       "    }\n",
       "\n",
       "    .dataframe thead th {\n",
       "        text-align: right;\n",
       "    }\n",
       "</style>\n",
       "<table border=\"1\" class=\"dataframe\">\n",
       "  <thead>\n",
       "    <tr style=\"text-align: right;\">\n",
       "      <th></th>\n",
       "      <th>vHPC_RMS_filtered_power_frequencies</th>\n",
       "      <th>BLA_RMS_filtered_power_frequencies</th>\n",
       "      <th>LH_RMS_filtered_power_frequencies</th>\n",
       "      <th>MD_RMS_filtered_power_frequencies</th>\n",
       "      <th>mPFC_RMS_filtered_power_frequencies</th>\n",
       "    </tr>\n",
       "  </thead>\n",
       "  <tbody>\n",
       "    <tr>\n",
       "      <th>0</th>\n",
       "      <td>[0.0, 1.0, 2.0, 3.0, 4.0, 5.0, 6.0, 7.0, 8.0, ...</td>\n",
       "      <td>[0.0, 1.0, 2.0, 3.0, 4.0, 5.0, 6.0, 7.0, 8.0, ...</td>\n",
       "      <td>[0.0, 1.0, 2.0, 3.0, 4.0, 5.0, 6.0, 7.0, 8.0, ...</td>\n",
       "      <td>[0.0, 1.0, 2.0, 3.0, 4.0, 5.0, 6.0, 7.0, 8.0, ...</td>\n",
       "      <td>[0.0, 1.0, 2.0, 3.0, 4.0, 5.0, 6.0, 7.0, 8.0, ...</td>\n",
       "    </tr>\n",
       "    <tr>\n",
       "      <th>1</th>\n",
       "      <td>[0.0, 1.0, 2.0, 3.0, 4.0, 5.0, 6.0, 7.0, 8.0, ...</td>\n",
       "      <td>[0.0, 1.0, 2.0, 3.0, 4.0, 5.0, 6.0, 7.0, 8.0, ...</td>\n",
       "      <td>[0.0, 1.0, 2.0, 3.0, 4.0, 5.0, 6.0, 7.0, 8.0, ...</td>\n",
       "      <td>[0.0, 1.0, 2.0, 3.0, 4.0, 5.0, 6.0, 7.0, 8.0, ...</td>\n",
       "      <td>[0.0, 1.0, 2.0, 3.0, 4.0, 5.0, 6.0, 7.0, 8.0, ...</td>\n",
       "    </tr>\n",
       "    <tr>\n",
       "      <th>2</th>\n",
       "      <td>[0.0, 1.0, 2.0, 3.0, 4.0, 5.0, 6.0, 7.0, 8.0, ...</td>\n",
       "      <td>[0.0, 1.0, 2.0, 3.0, 4.0, 5.0, 6.0, 7.0, 8.0, ...</td>\n",
       "      <td>[0.0, 1.0, 2.0, 3.0, 4.0, 5.0, 6.0, 7.0, 8.0, ...</td>\n",
       "      <td>[0.0, 1.0, 2.0, 3.0, 4.0, 5.0, 6.0, 7.0, 8.0, ...</td>\n",
       "      <td>[0.0, 1.0, 2.0, 3.0, 4.0, 5.0, 6.0, 7.0, 8.0, ...</td>\n",
       "    </tr>\n",
       "    <tr>\n",
       "      <th>3</th>\n",
       "      <td>[0.0, 1.0, 2.0, 3.0, 4.0, 5.0, 6.0, 7.0, 8.0, ...</td>\n",
       "      <td>[0.0, 1.0, 2.0, 3.0, 4.0, 5.0, 6.0, 7.0, 8.0, ...</td>\n",
       "      <td>[0.0, 1.0, 2.0, 3.0, 4.0, 5.0, 6.0, 7.0, 8.0, ...</td>\n",
       "      <td>[0.0, 1.0, 2.0, 3.0, 4.0, 5.0, 6.0, 7.0, 8.0, ...</td>\n",
       "      <td>[0.0, 1.0, 2.0, 3.0, 4.0, 5.0, 6.0, 7.0, 8.0, ...</td>\n",
       "    </tr>\n",
       "    <tr>\n",
       "      <th>4</th>\n",
       "      <td>[0.0, 1.0, 2.0, 3.0, 4.0, 5.0, 6.0, 7.0, 8.0, ...</td>\n",
       "      <td>[0.0, 1.0, 2.0, 3.0, 4.0, 5.0, 6.0, 7.0, 8.0, ...</td>\n",
       "      <td>[0.0, 1.0, 2.0, 3.0, 4.0, 5.0, 6.0, 7.0, 8.0, ...</td>\n",
       "      <td>[0.0, 1.0, 2.0, 3.0, 4.0, 5.0, 6.0, 7.0, 8.0, ...</td>\n",
       "      <td>[0.0, 1.0, 2.0, 3.0, 4.0, 5.0, 6.0, 7.0, 8.0, ...</td>\n",
       "    </tr>\n",
       "  </tbody>\n",
       "</table>\n",
       "</div>"
      ],
      "text/plain": [
       "                 vHPC_RMS_filtered_power_frequencies  \\\n",
       "0  [0.0, 1.0, 2.0, 3.0, 4.0, 5.0, 6.0, 7.0, 8.0, ...   \n",
       "1  [0.0, 1.0, 2.0, 3.0, 4.0, 5.0, 6.0, 7.0, 8.0, ...   \n",
       "2  [0.0, 1.0, 2.0, 3.0, 4.0, 5.0, 6.0, 7.0, 8.0, ...   \n",
       "3  [0.0, 1.0, 2.0, 3.0, 4.0, 5.0, 6.0, 7.0, 8.0, ...   \n",
       "4  [0.0, 1.0, 2.0, 3.0, 4.0, 5.0, 6.0, 7.0, 8.0, ...   \n",
       "\n",
       "                  BLA_RMS_filtered_power_frequencies  \\\n",
       "0  [0.0, 1.0, 2.0, 3.0, 4.0, 5.0, 6.0, 7.0, 8.0, ...   \n",
       "1  [0.0, 1.0, 2.0, 3.0, 4.0, 5.0, 6.0, 7.0, 8.0, ...   \n",
       "2  [0.0, 1.0, 2.0, 3.0, 4.0, 5.0, 6.0, 7.0, 8.0, ...   \n",
       "3  [0.0, 1.0, 2.0, 3.0, 4.0, 5.0, 6.0, 7.0, 8.0, ...   \n",
       "4  [0.0, 1.0, 2.0, 3.0, 4.0, 5.0, 6.0, 7.0, 8.0, ...   \n",
       "\n",
       "                   LH_RMS_filtered_power_frequencies  \\\n",
       "0  [0.0, 1.0, 2.0, 3.0, 4.0, 5.0, 6.0, 7.0, 8.0, ...   \n",
       "1  [0.0, 1.0, 2.0, 3.0, 4.0, 5.0, 6.0, 7.0, 8.0, ...   \n",
       "2  [0.0, 1.0, 2.0, 3.0, 4.0, 5.0, 6.0, 7.0, 8.0, ...   \n",
       "3  [0.0, 1.0, 2.0, 3.0, 4.0, 5.0, 6.0, 7.0, 8.0, ...   \n",
       "4  [0.0, 1.0, 2.0, 3.0, 4.0, 5.0, 6.0, 7.0, 8.0, ...   \n",
       "\n",
       "                   MD_RMS_filtered_power_frequencies  \\\n",
       "0  [0.0, 1.0, 2.0, 3.0, 4.0, 5.0, 6.0, 7.0, 8.0, ...   \n",
       "1  [0.0, 1.0, 2.0, 3.0, 4.0, 5.0, 6.0, 7.0, 8.0, ...   \n",
       "2  [0.0, 1.0, 2.0, 3.0, 4.0, 5.0, 6.0, 7.0, 8.0, ...   \n",
       "3  [0.0, 1.0, 2.0, 3.0, 4.0, 5.0, 6.0, 7.0, 8.0, ...   \n",
       "4  [0.0, 1.0, 2.0, 3.0, 4.0, 5.0, 6.0, 7.0, 8.0, ...   \n",
       "\n",
       "                 mPFC_RMS_filtered_power_frequencies  \n",
       "0  [0.0, 1.0, 2.0, 3.0, 4.0, 5.0, 6.0, 7.0, 8.0, ...  \n",
       "1  [0.0, 1.0, 2.0, 3.0, 4.0, 5.0, 6.0, 7.0, 8.0, ...  \n",
       "2  [0.0, 1.0, 2.0, 3.0, 4.0, 5.0, 6.0, 7.0, 8.0, ...  \n",
       "3  [0.0, 1.0, 2.0, 3.0, 4.0, 5.0, 6.0, 7.0, 8.0, ...  \n",
       "4  [0.0, 1.0, 2.0, 3.0, 4.0, 5.0, 6.0, 7.0, 8.0, ...  "
      ]
     },
     "execution_count": 50,
     "metadata": {},
     "output_type": "execute_result"
    }
   ],
   "source": [
    "LFP_TRACES_DF[[col for col in LFP_TRACES_DF.columns if \"power_frequencies\" in col]].head()"
   ]
  },
  {
   "cell_type": "code",
   "execution_count": 51,
   "metadata": {},
   "outputs": [],
   "source": [
    "LFP_TRACES_DF[\"power_calculation_frequencies\"] = LFP_TRACES_DF[[col for col in LFP_TRACES_DF.columns if \"power_frequencies\" in col][0]].copy()"
   ]
  },
  {
   "cell_type": "markdown",
   "metadata": {},
   "source": [
    "- Dropping unnecessary columns"
   ]
  },
  {
   "cell_type": "code",
   "execution_count": 52,
   "metadata": {
    "tags": []
   },
   "outputs": [],
   "source": [
    "LFP_TRACES_DF = LFP_TRACES_DF.drop(columns=[col for col in LFP_TRACES_DF.columns if \"power_frequencies\" in col], errors=\"ignore\")"
   ]
  },
  {
   "cell_type": "code",
   "execution_count": 53,
   "metadata": {
    "tags": []
   },
   "outputs": [
    {
     "data": {
      "text/html": [
       "<div>\n",
       "<style scoped>\n",
       "    .dataframe tbody tr th:only-of-type {\n",
       "        vertical-align: middle;\n",
       "    }\n",
       "\n",
       "    .dataframe tbody tr th {\n",
       "        vertical-align: top;\n",
       "    }\n",
       "\n",
       "    .dataframe thead th {\n",
       "        text-align: right;\n",
       "    }\n",
       "</style>\n",
       "<table border=\"1\" class=\"dataframe\">\n",
       "  <thead>\n",
       "    <tr style=\"text-align: right;\">\n",
       "      <th></th>\n",
       "      <th>cohort</th>\n",
       "      <th>session_dir</th>\n",
       "      <th>tone_frames</th>\n",
       "      <th>box_1_port_entry_frames</th>\n",
       "      <th>box_2_port_entry_frames</th>\n",
       "      <th>video_name</th>\n",
       "      <th>notes</th>\n",
       "      <th>session_path</th>\n",
       "      <th>recording</th>\n",
       "      <th>current_subject</th>\n",
       "      <th>...</th>\n",
       "      <th>LH_lfp_RMS_filtered</th>\n",
       "      <th>MD_lfp_RMS_filtered</th>\n",
       "      <th>mPFC_lfp_RMS_filtered</th>\n",
       "      <th>vHPC_RMS_filtered_power_all_frequencies_all_windows</th>\n",
       "      <th>BLA_RMS_filtered_power_all_frequencies_all_windows</th>\n",
       "      <th>LH_RMS_filtered_power_all_frequencies_all_windows</th>\n",
       "      <th>MD_RMS_filtered_power_all_frequencies_all_windows</th>\n",
       "      <th>mPFC_RMS_filtered_power_all_frequencies_all_windows</th>\n",
       "      <th>power_timestamps</th>\n",
       "      <th>power_calculation_frequencies</th>\n",
       "    </tr>\n",
       "  </thead>\n",
       "  <tbody>\n",
       "    <tr>\n",
       "      <th>0</th>\n",
       "      <td>NaN</td>\n",
       "      <td>20240317_151922_long_comp_subj_3-1_and_3-3</td>\n",
       "      <td>[[1, 88], [1286, 1486], [3282, 3482], [4480, 4...</td>\n",
       "      <td>[[1, 88], [259, 278], [310, 365], [366, 382], ...</td>\n",
       "      <td>[]</td>\n",
       "      <td>20240317_151922_long_comp_subj_3-1_and_3-3.1.v...</td>\n",
       "      <td>NaN</td>\n",
       "      <td>/scratch/back_up/reward_competition_extention/...</td>\n",
       "      <td>20240317_151922_long_comp_subj_3-1_t6b6_merged</td>\n",
       "      <td>3.1</td>\n",
       "      <td>...</td>\n",
       "      <td>[0.093, 0.158, 0.247, 0.212, -0.031, -0.305, -...</td>\n",
       "      <td>[0.084, 0.061, 0.098, 0.109, -0.109, -0.332, -...</td>\n",
       "      <td>[0.015, 0.106, 0.404, 0.505, 0.145, -0.089, 0....</td>\n",
       "      <td>[[0.0021725139, 0.0018719432, 0.021916905, 0.0...</td>\n",
       "      <td>[[0.0036331136, 0.0036766352, 0.022667041, 0.0...</td>\n",
       "      <td>[[0.0067758905, 0.006356989, 0.02561185, 0.031...</td>\n",
       "      <td>[[0.009621815, 0.010429158, 0.028794985, 0.036...</td>\n",
       "      <td>[[0.007221631, 0.0065711415, 0.028780747, 0.03...</td>\n",
       "      <td>[10000, 20000, 30000, 40000, 50000, 60000, 700...</td>\n",
       "      <td>[0.0, 1.0, 2.0, 3.0, 4.0, 5.0, 6.0, 7.0, 8.0, ...</td>\n",
       "    </tr>\n",
       "    <tr>\n",
       "      <th>1</th>\n",
       "      <td>NaN</td>\n",
       "      <td>20240317_151922_long_comp_subj_3-1_and_3-3</td>\n",
       "      <td>[[2, 132], [1922, 2220], [4906, 5203], [6696, ...</td>\n",
       "      <td>[[2, 132], [387, 415], [463, 546], [548, 571],...</td>\n",
       "      <td>[]</td>\n",
       "      <td>20240317_151922_long_comp_subj_3-1_and_3-3.2.v...</td>\n",
       "      <td>NaN</td>\n",
       "      <td>/scratch/back_up/reward_competition_extention/...</td>\n",
       "      <td>20240317_151922_long_comp_subj_3-1_t6b6_merged</td>\n",
       "      <td>3.1</td>\n",
       "      <td>...</td>\n",
       "      <td>[0.093, 0.158, 0.247, 0.212, -0.031, -0.305, -...</td>\n",
       "      <td>[0.084, 0.061, 0.098, 0.109, -0.109, -0.332, -...</td>\n",
       "      <td>[0.015, 0.106, 0.404, 0.505, 0.145, -0.089, 0....</td>\n",
       "      <td>[[0.0021725139, 0.0018719432, 0.021916905, 0.0...</td>\n",
       "      <td>[[0.0036331136, 0.0036766352, 0.022667041, 0.0...</td>\n",
       "      <td>[[0.0067758905, 0.006356989, 0.02561185, 0.031...</td>\n",
       "      <td>[[0.009621815, 0.010429158, 0.028794985, 0.036...</td>\n",
       "      <td>[[0.007221631, 0.0065711415, 0.028780747, 0.03...</td>\n",
       "      <td>[10000, 20000, 30000, 40000, 50000, 60000, 700...</td>\n",
       "      <td>[0.0, 1.0, 2.0, 3.0, 4.0, 5.0, 6.0, 7.0, 8.0, ...</td>\n",
       "    </tr>\n",
       "    <tr>\n",
       "      <th>2</th>\n",
       "      <td>NaN</td>\n",
       "      <td>20240317_151922_long_comp_subj_3-1_and_3-3</td>\n",
       "      <td>[[1, 88], [1286, 1486], [3282, 3482], [4480, 4...</td>\n",
       "      <td>[[1, 88], [259, 278], [310, 365], [366, 382], ...</td>\n",
       "      <td>[]</td>\n",
       "      <td>20240317_151922_long_comp_subj_3-1_and_3-3.1.v...</td>\n",
       "      <td>NaN</td>\n",
       "      <td>/scratch/back_up/reward_competition_extention/...</td>\n",
       "      <td>20240317_151922_long_comp_subj_3-3_t5b5_merged</td>\n",
       "      <td>3.3</td>\n",
       "      <td>...</td>\n",
       "      <td>[-0.436, -0.435, -0.474, -0.533, -0.474, -0.33...</td>\n",
       "      <td>[-0.27, -0.272, -0.288, -0.319, -0.251, -0.126...</td>\n",
       "      <td>[-0.242, -0.167, -0.18, -0.314, -0.317, -0.278...</td>\n",
       "      <td>[[0.0007998176, 0.0028586437, 0.0029210031, 0....</td>\n",
       "      <td>[[0.0074761137, 0.0103244, 0.01043423, 0.01048...</td>\n",
       "      <td>[[0.007858961, 0.009166312, 0.009503893, 0.010...</td>\n",
       "      <td>[[0.010107513, 0.010485414, 0.01070681, 0.0099...</td>\n",
       "      <td>[[0.012884789, 0.01067535, 0.010974287, 0.0104...</td>\n",
       "      <td>[10000, 20000, 30000, 40000, 50000, 60000, 700...</td>\n",
       "      <td>[0.0, 1.0, 2.0, 3.0, 4.0, 5.0, 6.0, 7.0, 8.0, ...</td>\n",
       "    </tr>\n",
       "    <tr>\n",
       "      <th>3</th>\n",
       "      <td>NaN</td>\n",
       "      <td>20240317_151922_long_comp_subj_3-1_and_3-3</td>\n",
       "      <td>[[2, 132], [1922, 2220], [4906, 5203], [6696, ...</td>\n",
       "      <td>[[2, 132], [387, 415], [463, 546], [548, 571],...</td>\n",
       "      <td>[]</td>\n",
       "      <td>20240317_151922_long_comp_subj_3-1_and_3-3.2.v...</td>\n",
       "      <td>NaN</td>\n",
       "      <td>/scratch/back_up/reward_competition_extention/...</td>\n",
       "      <td>20240317_151922_long_comp_subj_3-3_t5b5_merged</td>\n",
       "      <td>3.3</td>\n",
       "      <td>...</td>\n",
       "      <td>[-0.436, -0.435, -0.474, -0.533, -0.474, -0.33...</td>\n",
       "      <td>[-0.27, -0.272, -0.288, -0.319, -0.251, -0.126...</td>\n",
       "      <td>[-0.242, -0.167, -0.18, -0.314, -0.317, -0.278...</td>\n",
       "      <td>[[0.0007998176, 0.0028586437, 0.0029210031, 0....</td>\n",
       "      <td>[[0.0074761137, 0.0103244, 0.01043423, 0.01048...</td>\n",
       "      <td>[[0.007858961, 0.009166312, 0.009503893, 0.010...</td>\n",
       "      <td>[[0.010107513, 0.010485414, 0.01070681, 0.0099...</td>\n",
       "      <td>[[0.012884789, 0.01067535, 0.010974287, 0.0104...</td>\n",
       "      <td>[10000, 20000, 30000, 40000, 50000, 60000, 700...</td>\n",
       "      <td>[0.0, 1.0, 2.0, 3.0, 4.0, 5.0, 6.0, 7.0, 8.0, ...</td>\n",
       "    </tr>\n",
       "    <tr>\n",
       "      <th>4</th>\n",
       "      <td>NaN</td>\n",
       "      <td>20240317_172017_long_comp_subj_4-2_and_4-3</td>\n",
       "      <td>[[1, 102], [1300, 1501], [3297, 3497], [4494, ...</td>\n",
       "      <td>[[1, 102], [115, 153], [191, 245], [261, 263],...</td>\n",
       "      <td>[]</td>\n",
       "      <td>20240317_172017_long_comp_subj_4-2_and_4-3.1.v...</td>\n",
       "      <td>NaN</td>\n",
       "      <td>/scratch/back_up/reward_competition_extention/...</td>\n",
       "      <td>20240317_172017_long_comp_subj_4-2_t6b6_merged</td>\n",
       "      <td>4.2</td>\n",
       "      <td>...</td>\n",
       "      <td>[0.15, 0.406, 0.696, 0.537, 0.313, 0.444, 0.78...</td>\n",
       "      <td>[0.227, 0.42, 0.686, 0.594, 0.418, 0.594, 0.93...</td>\n",
       "      <td>[0.274, 0.488, 0.675, 0.572, 0.609, 0.695, 0.6...</td>\n",
       "      <td>[[0.004627689, 0.004890026, 0.019871125, 0.031...</td>\n",
       "      <td>[[0.007906219, 0.0073129702, 0.021214603, 0.03...</td>\n",
       "      <td>[[0.0041390182, 0.004741594, 0.020386742, 0.03...</td>\n",
       "      <td>[[0.0036735544, 0.004290181, 0.021793123, 0.03...</td>\n",
       "      <td>[[0.005812339, 0.0054055406, 0.018171115, 0.02...</td>\n",
       "      <td>[10000, 20000, 30000, 40000, 50000, 60000, 700...</td>\n",
       "      <td>[0.0, 1.0, 2.0, 3.0, 4.0, 5.0, 6.0, 7.0, 8.0, ...</td>\n",
       "    </tr>\n",
       "  </tbody>\n",
       "</table>\n",
       "<p>5 rows × 61 columns</p>\n",
       "</div>"
      ],
      "text/plain": [
       "   cohort                                 session_dir  \\\n",
       "0     NaN  20240317_151922_long_comp_subj_3-1_and_3-3   \n",
       "1     NaN  20240317_151922_long_comp_subj_3-1_and_3-3   \n",
       "2     NaN  20240317_151922_long_comp_subj_3-1_and_3-3   \n",
       "3     NaN  20240317_151922_long_comp_subj_3-1_and_3-3   \n",
       "4     NaN  20240317_172017_long_comp_subj_4-2_and_4-3   \n",
       "\n",
       "                                         tone_frames  \\\n",
       "0  [[1, 88], [1286, 1486], [3282, 3482], [4480, 4...   \n",
       "1  [[2, 132], [1922, 2220], [4906, 5203], [6696, ...   \n",
       "2  [[1, 88], [1286, 1486], [3282, 3482], [4480, 4...   \n",
       "3  [[2, 132], [1922, 2220], [4906, 5203], [6696, ...   \n",
       "4  [[1, 102], [1300, 1501], [3297, 3497], [4494, ...   \n",
       "\n",
       "                             box_1_port_entry_frames box_2_port_entry_frames  \\\n",
       "0  [[1, 88], [259, 278], [310, 365], [366, 382], ...                      []   \n",
       "1  [[2, 132], [387, 415], [463, 546], [548, 571],...                      []   \n",
       "2  [[1, 88], [259, 278], [310, 365], [366, 382], ...                      []   \n",
       "3  [[2, 132], [387, 415], [463, 546], [548, 571],...                      []   \n",
       "4  [[1, 102], [115, 153], [191, 245], [261, 263],...                      []   \n",
       "\n",
       "                                          video_name notes  \\\n",
       "0  20240317_151922_long_comp_subj_3-1_and_3-3.1.v...   NaN   \n",
       "1  20240317_151922_long_comp_subj_3-1_and_3-3.2.v...   NaN   \n",
       "2  20240317_151922_long_comp_subj_3-1_and_3-3.1.v...   NaN   \n",
       "3  20240317_151922_long_comp_subj_3-1_and_3-3.2.v...   NaN   \n",
       "4  20240317_172017_long_comp_subj_4-2_and_4-3.1.v...   NaN   \n",
       "\n",
       "                                        session_path  \\\n",
       "0  /scratch/back_up/reward_competition_extention/...   \n",
       "1  /scratch/back_up/reward_competition_extention/...   \n",
       "2  /scratch/back_up/reward_competition_extention/...   \n",
       "3  /scratch/back_up/reward_competition_extention/...   \n",
       "4  /scratch/back_up/reward_competition_extention/...   \n",
       "\n",
       "                                        recording current_subject  ...  \\\n",
       "0  20240317_151922_long_comp_subj_3-1_t6b6_merged             3.1  ...   \n",
       "1  20240317_151922_long_comp_subj_3-1_t6b6_merged             3.1  ...   \n",
       "2  20240317_151922_long_comp_subj_3-3_t5b5_merged             3.3  ...   \n",
       "3  20240317_151922_long_comp_subj_3-3_t5b5_merged             3.3  ...   \n",
       "4  20240317_172017_long_comp_subj_4-2_t6b6_merged             4.2  ...   \n",
       "\n",
       "                                 LH_lfp_RMS_filtered  \\\n",
       "0  [0.093, 0.158, 0.247, 0.212, -0.031, -0.305, -...   \n",
       "1  [0.093, 0.158, 0.247, 0.212, -0.031, -0.305, -...   \n",
       "2  [-0.436, -0.435, -0.474, -0.533, -0.474, -0.33...   \n",
       "3  [-0.436, -0.435, -0.474, -0.533, -0.474, -0.33...   \n",
       "4  [0.15, 0.406, 0.696, 0.537, 0.313, 0.444, 0.78...   \n",
       "\n",
       "                                 MD_lfp_RMS_filtered  \\\n",
       "0  [0.084, 0.061, 0.098, 0.109, -0.109, -0.332, -...   \n",
       "1  [0.084, 0.061, 0.098, 0.109, -0.109, -0.332, -...   \n",
       "2  [-0.27, -0.272, -0.288, -0.319, -0.251, -0.126...   \n",
       "3  [-0.27, -0.272, -0.288, -0.319, -0.251, -0.126...   \n",
       "4  [0.227, 0.42, 0.686, 0.594, 0.418, 0.594, 0.93...   \n",
       "\n",
       "                               mPFC_lfp_RMS_filtered  \\\n",
       "0  [0.015, 0.106, 0.404, 0.505, 0.145, -0.089, 0....   \n",
       "1  [0.015, 0.106, 0.404, 0.505, 0.145, -0.089, 0....   \n",
       "2  [-0.242, -0.167, -0.18, -0.314, -0.317, -0.278...   \n",
       "3  [-0.242, -0.167, -0.18, -0.314, -0.317, -0.278...   \n",
       "4  [0.274, 0.488, 0.675, 0.572, 0.609, 0.695, 0.6...   \n",
       "\n",
       "   vHPC_RMS_filtered_power_all_frequencies_all_windows  \\\n",
       "0  [[0.0021725139, 0.0018719432, 0.021916905, 0.0...     \n",
       "1  [[0.0021725139, 0.0018719432, 0.021916905, 0.0...     \n",
       "2  [[0.0007998176, 0.0028586437, 0.0029210031, 0....     \n",
       "3  [[0.0007998176, 0.0028586437, 0.0029210031, 0....     \n",
       "4  [[0.004627689, 0.004890026, 0.019871125, 0.031...     \n",
       "\n",
       "  BLA_RMS_filtered_power_all_frequencies_all_windows  \\\n",
       "0  [[0.0036331136, 0.0036766352, 0.022667041, 0.0...   \n",
       "1  [[0.0036331136, 0.0036766352, 0.022667041, 0.0...   \n",
       "2  [[0.0074761137, 0.0103244, 0.01043423, 0.01048...   \n",
       "3  [[0.0074761137, 0.0103244, 0.01043423, 0.01048...   \n",
       "4  [[0.007906219, 0.0073129702, 0.021214603, 0.03...   \n",
       "\n",
       "   LH_RMS_filtered_power_all_frequencies_all_windows  \\\n",
       "0  [[0.0067758905, 0.006356989, 0.02561185, 0.031...   \n",
       "1  [[0.0067758905, 0.006356989, 0.02561185, 0.031...   \n",
       "2  [[0.007858961, 0.009166312, 0.009503893, 0.010...   \n",
       "3  [[0.007858961, 0.009166312, 0.009503893, 0.010...   \n",
       "4  [[0.0041390182, 0.004741594, 0.020386742, 0.03...   \n",
       "\n",
       "   MD_RMS_filtered_power_all_frequencies_all_windows  \\\n",
       "0  [[0.009621815, 0.010429158, 0.028794985, 0.036...   \n",
       "1  [[0.009621815, 0.010429158, 0.028794985, 0.036...   \n",
       "2  [[0.010107513, 0.010485414, 0.01070681, 0.0099...   \n",
       "3  [[0.010107513, 0.010485414, 0.01070681, 0.0099...   \n",
       "4  [[0.0036735544, 0.004290181, 0.021793123, 0.03...   \n",
       "\n",
       "  mPFC_RMS_filtered_power_all_frequencies_all_windows  \\\n",
       "0  [[0.007221631, 0.0065711415, 0.028780747, 0.03...    \n",
       "1  [[0.007221631, 0.0065711415, 0.028780747, 0.03...    \n",
       "2  [[0.012884789, 0.01067535, 0.010974287, 0.0104...    \n",
       "3  [[0.012884789, 0.01067535, 0.010974287, 0.0104...    \n",
       "4  [[0.005812339, 0.0054055406, 0.018171115, 0.02...    \n",
       "\n",
       "                                    power_timestamps  \\\n",
       "0  [10000, 20000, 30000, 40000, 50000, 60000, 700...   \n",
       "1  [10000, 20000, 30000, 40000, 50000, 60000, 700...   \n",
       "2  [10000, 20000, 30000, 40000, 50000, 60000, 700...   \n",
       "3  [10000, 20000, 30000, 40000, 50000, 60000, 700...   \n",
       "4  [10000, 20000, 30000, 40000, 50000, 60000, 700...   \n",
       "\n",
       "                       power_calculation_frequencies  \n",
       "0  [0.0, 1.0, 2.0, 3.0, 4.0, 5.0, 6.0, 7.0, 8.0, ...  \n",
       "1  [0.0, 1.0, 2.0, 3.0, 4.0, 5.0, 6.0, 7.0, 8.0, ...  \n",
       "2  [0.0, 1.0, 2.0, 3.0, 4.0, 5.0, 6.0, 7.0, 8.0, ...  \n",
       "3  [0.0, 1.0, 2.0, 3.0, 4.0, 5.0, 6.0, 7.0, 8.0, ...  \n",
       "4  [0.0, 1.0, 2.0, 3.0, 4.0, 5.0, 6.0, 7.0, 8.0, ...  \n",
       "\n",
       "[5 rows x 61 columns]"
      ]
     },
     "execution_count": 53,
     "metadata": {},
     "output_type": "execute_result"
    }
   ],
   "source": [
    "LFP_TRACES_DF.head()"
   ]
  },
  {
   "cell_type": "code",
   "execution_count": 54,
   "metadata": {
    "tags": []
   },
   "outputs": [
    {
     "data": {
      "text/plain": [
       "0    [[0.007221631, 0.0065711415, 0.028780747, 0.03...\n",
       "1    [[0.007221631, 0.0065711415, 0.028780747, 0.03...\n",
       "2    [[0.012884789, 0.01067535, 0.010974287, 0.0104...\n",
       "3    [[0.012884789, 0.01067535, 0.010974287, 0.0104...\n",
       "4    [[0.005812339, 0.0054055406, 0.018171115, 0.02...\n",
       "Name: mPFC_RMS_filtered_power_all_frequencies_all_windows, dtype: object"
      ]
     },
     "execution_count": 54,
     "metadata": {},
     "output_type": "execute_result"
    }
   ],
   "source": [
    "LFP_TRACES_DF[\"mPFC_RMS_filtered_power_all_frequencies_all_windows\"].head()"
   ]
  },
  {
   "cell_type": "code",
   "execution_count": 55,
   "metadata": {
    "tags": []
   },
   "outputs": [
    {
     "data": {
      "text/plain": [
       "(5897, 500)"
      ]
     },
     "execution_count": 55,
     "metadata": {},
     "output_type": "execute_result"
    }
   ],
   "source": [
    "LFP_TRACES_DF[\"mPFC_RMS_filtered_power_all_frequencies_all_windows\"].iloc[4].shape"
   ]
  },
  {
   "cell_type": "code",
   "execution_count": 56,
   "metadata": {
    "tags": []
   },
   "outputs": [
    {
     "data": {
      "text/plain": [
       "0    [0.015, 0.106, 0.404, 0.505, 0.145, -0.089, 0....\n",
       "1    [0.015, 0.106, 0.404, 0.505, 0.145, -0.089, 0....\n",
       "2    [-0.242, -0.167, -0.18, -0.314, -0.317, -0.278...\n",
       "3    [-0.242, -0.167, -0.18, -0.314, -0.317, -0.278...\n",
       "4    [0.274, 0.488, 0.675, 0.572, 0.609, 0.695, 0.6...\n",
       "Name: mPFC_lfp_RMS_filtered, dtype: object"
      ]
     },
     "execution_count": 56,
     "metadata": {},
     "output_type": "execute_result"
    }
   ],
   "source": [
    "LFP_TRACES_DF[\"mPFC_lfp_RMS_filtered\"].head()"
   ]
  },
  {
   "cell_type": "code",
   "execution_count": 57,
   "metadata": {
    "tags": []
   },
   "outputs": [
    {
     "data": {
      "text/plain": [
       "[<matplotlib.lines.Line2D at 0x149d314b5060>]"
      ]
     },
     "execution_count": 57,
     "metadata": {},
     "output_type": "execute_result"
    },
    {
     "data": {
      "image/png": "[encoded data removed]",
      "text/plain": [
       "<Figure size 640x480 with 1 Axes>"
      ]
     },
     "metadata": {},
     "output_type": "display_data"
    }
   ],
   "source": [
    "plt.plot(LFP_TRACES_DF[\"BLA_lfp_trace\"].iloc[0])"
   ]
  },
  {
   "cell_type": "code",
   "execution_count": 58,
   "metadata": {
    "tags": []
   },
   "outputs": [
    {
     "data": {
      "text/plain": [
       "[<matplotlib.lines.Line2D at 0x149d3150dcc0>]"
      ]
     },
     "execution_count": 58,
     "metadata": {},
     "output_type": "execute_result"
    },
    {
     "data": {
      "image/png": "[encoded data removed]",
      "text/plain": [
       "<Figure size 640x480 with 1 Axes>"
      ]
     },
     "metadata": {},
     "output_type": "display_data"
    }
   ],
   "source": [
    "plt.plot(LFP_TRACES_DF[\"BLA_lfp_RMS\"].iloc[0])"
   ]
  },
  {
   "cell_type": "code",
   "execution_count": 59,
   "metadata": {
    "tags": []
   },
   "outputs": [
    {
     "data": {
      "text/plain": [
       "[<matplotlib.lines.Line2D at 0x149d30c51360>]"
      ]
     },
     "execution_count": 59,
     "metadata": {},
     "output_type": "execute_result"
    },
    {
     "data": {
      "image/png": "[encoded data removed]",
      "text/plain": [
       "<Figure size 640x480 with 1 Axes>"
      ]
     },
     "metadata": {},
     "output_type": "display_data"
    }
   ],
   "source": [
    "plt.plot(LFP_TRACES_DF[\"BLA_lfp_RMS_filtered\"].iloc[0])"
   ]
  },
  {
   "cell_type": "code",
   "execution_count": null,
   "metadata": {},
   "outputs": [],
   "source": []
  },
  {
   "cell_type": "markdown",
   "metadata": {},
   "source": [
    "## Calculating phase of signals"
   ]
  },
  {
   "cell_type": "code",
   "execution_count": 60,
   "metadata": {},
   "outputs": [],
   "source": [
    "from scipy.signal import butter, filtfilt, hilbert"
   ]
  },
  {
   "cell_type": "markdown",
   "metadata": {},
   "source": [
    "- Filtering for theta and gamma"
   ]
  },
  {
   "cell_type": "code",
   "execution_count": 61,
   "metadata": {},
   "outputs": [],
   "source": [
    "RMS_columns = [col for col in LFP_TRACES_DF if \"RMS\" in col and \"filtered\" not in col]"
   ]
  },
  {
   "cell_type": "code",
   "execution_count": 62,
   "metadata": {},
   "outputs": [],
   "source": [
    "fs = 1000\n",
    "order=4"
   ]
  },
  {
   "cell_type": "code",
   "execution_count": 63,
   "metadata": {},
   "outputs": [],
   "source": [
    "freq_band = [4, 12]\n",
    "b, a = butter(order, freq_band, fs=fs, btype='band')"
   ]
  },
  {
   "cell_type": "code",
   "execution_count": 64,
   "metadata": {},
   "outputs": [
    {
     "name": "stdout",
     "output_type": "stream",
     "text": [
      "vHPC_lfp_RMS\n",
      "BLA_lfp_RMS\n",
      "LH_lfp_RMS\n",
      "MD_lfp_RMS\n",
      "mPFC_lfp_RMS\n"
     ]
    }
   ],
   "source": [
    "for col in RMS_columns:\n",
    "    print(col)\n",
    "    brain_region = col.split(\"_\")[0]\n",
    "    updated_column = \"{}_theta_band\".format(brain_region)\n",
    "    LFP_TRACES_DF[updated_column] = LFP_TRACES_DF[col].apply(lambda x: filtfilt(b, a, x, padtype=None).astype(np.float32))"
   ]
  },
  {
   "cell_type": "code",
   "execution_count": 65,
   "metadata": {},
   "outputs": [],
   "source": [
    "freq_band = [30, 50]\n",
    "b, a = butter(order, freq_band, fs=fs, btype='band')"
   ]
  },
  {
   "cell_type": "code",
   "execution_count": 66,
   "metadata": {},
   "outputs": [
    {
     "name": "stdout",
     "output_type": "stream",
     "text": [
      "vHPC_lfp_RMS\n",
      "BLA_lfp_RMS\n",
      "LH_lfp_RMS\n",
      "MD_lfp_RMS\n",
      "mPFC_lfp_RMS\n"
     ]
    }
   ],
   "source": [
    "for col in RMS_columns:\n",
    "    print(col)\n",
    "    brain_region = col.split(\"_\")[0]\n",
    "    updated_column = \"{}_gamma_band\".format(brain_region)\n",
    "    LFP_TRACES_DF[updated_column] = LFP_TRACES_DF[col].apply(lambda x: filtfilt(b, a, x, padtype=None).astype(np.float32))"
   ]
  },
  {
   "cell_type": "markdown",
   "metadata": {},
   "source": [
    "- Calculating the phase"
   ]
  },
  {
   "cell_type": "code",
   "execution_count": 67,
   "metadata": {},
   "outputs": [],
   "source": [
    "band_columns = [col for col in LFP_TRACES_DF if \"band\" in col]"
   ]
  },
  {
   "cell_type": "code",
   "execution_count": 68,
   "metadata": {},
   "outputs": [
    {
     "data": {
      "text/plain": [
       "['vHPC_theta_band',\n",
       " 'BLA_theta_band',\n",
       " 'LH_theta_band',\n",
       " 'MD_theta_band',\n",
       " 'mPFC_theta_band',\n",
       " 'vHPC_gamma_band',\n",
       " 'BLA_gamma_band',\n",
       " 'LH_gamma_band',\n",
       " 'MD_gamma_band',\n",
       " 'mPFC_gamma_band']"
      ]
     },
     "execution_count": 68,
     "metadata": {},
     "output_type": "execute_result"
    }
   ],
   "source": [
    "band_columns"
   ]
  },
  {
   "cell_type": "code",
   "execution_count": 69,
   "metadata": {},
   "outputs": [
    {
     "name": "stdout",
     "output_type": "stream",
     "text": [
      "vHPC_theta_band\n",
      "vHPC_theta_phase\n",
      "BLA_theta_band\n",
      "BLA_theta_phase\n",
      "LH_theta_band\n",
      "LH_theta_phase\n",
      "MD_theta_band\n",
      "MD_theta_phase\n",
      "mPFC_theta_band\n",
      "mPFC_theta_phase\n",
      "vHPC_gamma_band\n",
      "vHPC_gamma_phase\n",
      "BLA_gamma_band\n",
      "BLA_gamma_phase\n",
      "LH_gamma_band\n",
      "LH_gamma_phase\n",
      "MD_gamma_band\n",
      "MD_gamma_phase\n",
      "mPFC_gamma_band\n",
      "mPFC_gamma_phase\n"
     ]
    }
   ],
   "source": [
    "for col in band_columns:\n",
    "    print(col)\n",
    "    brain_region = col.replace(\"_band\", \"\")\n",
    "    updated_column = \"{}_phase\".format(brain_region)\n",
    "    print(updated_column)\n",
    "    LFP_TRACES_DF[updated_column] = LFP_TRACES_DF[col].apply(lambda x: np.angle(hilbert(x), deg=False))"
   ]
  },
  {
   "cell_type": "code",
   "execution_count": 70,
   "metadata": {},
   "outputs": [
    {
     "data": {
      "text/plain": [
       "0     [-0.015079244, 0.0070941676, 0.033775453, 0.06...\n",
       "1     [-0.015079244, 0.0070941676, 0.033775453, 0.06...\n",
       "2     [0.015131413, 0.027095474, 0.03773463, 0.04656...\n",
       "3     [0.015131413, 0.027095474, 0.03773463, 0.04656...\n",
       "4     [0.20639607, 0.13862394, 0.061657127, -0.02086...\n",
       "5     [0.20639607, 0.13862394, 0.061657127, -0.02086...\n",
       "6     [0.001561778, 0.07595457, 0.14949238, 0.217549...\n",
       "7     [0.001561778, 0.07595457, 0.14949238, 0.217549...\n",
       "8     [-0.0081307525, -0.04357865, -0.07822606, -0.1...\n",
       "9     [0.18496583, 0.13797754, 0.08190751, 0.0191120...\n",
       "10    [-0.28010583, -0.23104739, -0.1669334, -0.0901...\n",
       "11    [-0.0497448, -0.027195089, -0.001513123, 0.025...\n",
       "12    [-0.020004936, -0.042901617, -0.0637859, -0.08...\n",
       "13    [-0.18341908, -0.20023566, -0.20528391, -0.197...\n",
       "14    [-0.012846501, 0.01675214, 0.049775597, 0.0836...\n",
       "15    [0.086564146, 0.12178469, 0.15103419, 0.172188...\n",
       "16    [0.012113635, 0.03248144, 0.05161425, 0.068234...\n",
       "17    [-0.020762237, -0.044500872, -0.06506525, -0.0...\n",
       "18    [-0.005293379, 0.06721484, 0.13675098, 0.19827...\n",
       "19    [0.054472912, 0.052924957, 0.047791906, 0.0390...\n",
       "Name: mPFC_gamma_band, dtype: object"
      ]
     },
     "execution_count": 70,
     "metadata": {},
     "output_type": "execute_result"
    }
   ],
   "source": [
    "LFP_TRACES_DF[col]"
   ]
  },
  {
   "cell_type": "markdown",
   "metadata": {},
   "source": [
    "## Coherence Calculation"
   ]
  },
  {
   "cell_type": "markdown",
   "metadata": {},
   "source": [
    "- Getting the trace column pairs"
   ]
  },
  {
   "cell_type": "code",
   "execution_count": null,
   "metadata": {},
   "outputs": [],
   "source": []
  },
  {
   "cell_type": "code",
   "execution_count": 71,
   "metadata": {
    "tags": []
   },
   "outputs": [],
   "source": [
    "brain_region_pairs = generate_pairs(sorted(input_columns))\n",
    "brain_region_pairs = sorted(brain_region_pairs)\n"
   ]
  },
  {
   "cell_type": "code",
   "execution_count": 72,
   "metadata": {
    "tags": []
   },
   "outputs": [
    {
     "data": {
      "text/plain": [
       "[('BLA_lfp_RMS_filtered', 'LH_lfp_RMS_filtered'),\n",
       " ('BLA_lfp_RMS_filtered', 'MD_lfp_RMS_filtered'),\n",
       " ('BLA_lfp_RMS_filtered', 'mPFC_lfp_RMS_filtered'),\n",
       " ('BLA_lfp_RMS_filtered', 'vHPC_lfp_RMS_filtered'),\n",
       " ('LH_lfp_RMS_filtered', 'MD_lfp_RMS_filtered'),\n",
       " ('LH_lfp_RMS_filtered', 'mPFC_lfp_RMS_filtered'),\n",
       " ('LH_lfp_RMS_filtered', 'vHPC_lfp_RMS_filtered'),\n",
       " ('MD_lfp_RMS_filtered', 'mPFC_lfp_RMS_filtered'),\n",
       " ('MD_lfp_RMS_filtered', 'vHPC_lfp_RMS_filtered'),\n",
       " ('mPFC_lfp_RMS_filtered', 'vHPC_lfp_RMS_filtered')]"
      ]
     },
     "execution_count": 72,
     "metadata": {},
     "output_type": "execute_result"
    }
   ],
   "source": [
    "brain_region_pairs"
   ]
  },
  {
   "cell_type": "markdown",
   "metadata": {},
   "source": [
    "## Coherece Calculation"
   ]
  },
  {
   "cell_type": "markdown",
   "metadata": {},
   "source": [
    "- Calculating the coherence"
   ]
  },
  {
   "cell_type": "code",
   "execution_count": 73,
   "metadata": {},
   "outputs": [
    {
     "name": "stdout",
     "output_type": "stream",
     "text": [
      "BLA_LH\n",
      "0\n",
      "1\n",
      "2\n",
      "3\n",
      "4\n",
      "5\n",
      "6\n",
      "7\n",
      "8\n",
      "9\n",
      "10\n",
      "11\n",
      "12\n",
      "13\n",
      "14\n",
      "15\n",
      "16\n",
      "17\n",
      "18\n",
      "19\n",
      "BLA_MD\n",
      "0\n",
      "1\n",
      "2\n",
      "3\n",
      "4\n",
      "5\n",
      "6\n",
      "7\n",
      "8\n",
      "9\n",
      "10\n",
      "11\n",
      "12\n",
      "13\n",
      "14\n",
      "15\n",
      "16\n",
      "17\n",
      "18\n",
      "19\n",
      "BLA_mPFC\n",
      "0\n",
      "1\n",
      "2\n",
      "3\n",
      "4\n",
      "5\n",
      "6\n",
      "7\n",
      "8\n",
      "9\n",
      "10\n",
      "11\n",
      "12\n",
      "13\n",
      "14\n",
      "15\n",
      "16\n",
      "17\n",
      "18\n",
      "19\n",
      "BLA_vHPC\n",
      "0\n",
      "1\n",
      "2\n",
      "3\n",
      "4\n",
      "5\n",
      "6\n",
      "7\n",
      "8\n",
      "9\n",
      "10\n",
      "11\n",
      "12\n",
      "13\n",
      "14\n",
      "15\n",
      "16\n",
      "17\n",
      "18\n",
      "19\n",
      "LH_MD\n",
      "0\n",
      "1\n",
      "2\n",
      "3\n",
      "4\n",
      "5\n",
      "6\n",
      "7\n",
      "8\n",
      "9\n",
      "10\n",
      "11\n",
      "12\n",
      "13\n",
      "14\n",
      "15\n",
      "16\n",
      "17\n",
      "18\n",
      "19\n",
      "LH_mPFC\n",
      "0\n",
      "1\n",
      "2\n",
      "3\n",
      "4\n",
      "5\n",
      "6\n",
      "7\n",
      "8\n",
      "9\n",
      "10\n",
      "11\n",
      "12\n",
      "13\n",
      "14\n",
      "15\n",
      "16\n",
      "17\n",
      "18\n",
      "19\n",
      "LH_vHPC\n",
      "0\n",
      "1\n",
      "2\n",
      "3\n",
      "4\n",
      "5\n",
      "6\n",
      "7\n",
      "8\n",
      "9\n",
      "10\n",
      "11\n",
      "12\n",
      "13\n",
      "14\n",
      "15\n",
      "16\n",
      "17\n",
      "18\n",
      "19\n",
      "MD_mPFC\n",
      "0\n",
      "1\n",
      "2\n",
      "3\n",
      "4\n",
      "5\n",
      "6\n",
      "7\n",
      "8\n",
      "9\n",
      "10\n",
      "11\n",
      "12\n",
      "13\n",
      "14\n",
      "15\n",
      "16\n",
      "17\n",
      "18\n",
      "19\n",
      "MD_vHPC\n",
      "0\n",
      "1\n",
      "2\n",
      "3\n",
      "4\n",
      "5\n",
      "6\n",
      "7\n",
      "8\n",
      "9\n",
      "10\n",
      "11\n",
      "12\n",
      "13\n",
      "14\n",
      "15\n",
      "16\n",
      "17\n",
      "18\n",
      "19\n",
      "mPFC_vHPC\n",
      "0\n",
      "1\n",
      "2\n",
      "3\n",
      "4\n",
      "5\n",
      "6\n",
      "7\n",
      "8\n",
      "9\n",
      "10\n",
      "11\n",
      "12\n",
      "13\n",
      "14\n",
      "15\n",
      "16\n",
      "17\n",
      "18\n",
      "19\n"
     ]
    }
   ],
   "source": [
    "for region_1, region_2 in brain_region_pairs:\n",
    "    # Define base name for pair\n",
    "    pair_base_name = f\"{region_1.split('_')[0]}_{region_2.split('_')[0]}\"\n",
    "    print(pair_base_name)\n",
    "\n",
    "    try:\n",
    "        # Define column names\n",
    "        multitaper_col = f\"{pair_base_name}_coherence_multitaper\"\n",
    "        connectivity_col = f\"{pair_base_name}_coherence_connectivity\"\n",
    "        frequencies_col = f\"{pair_base_name}_coherence_frequencies\"\n",
    "        coherence_col = f\"{pair_base_name}_coherence_all_frequencies_all_windows\"\n",
    "\n",
    "        index_to_multitaper = {}\n",
    "        index_to_connectivity = {}\n",
    "        index_to_frequencies = {}\n",
    "        index_to_coherence = {}\n",
    "\n",
    "        for index, row in LFP_TRACES_DF.iterrows():\n",
    "            index_to_multitaper[index] = Multitaper(\n",
    "                time_series=np.array([row[region_1], row[region_2]]).T, \n",
    "                sampling_frequency=RESAMPLE_RATE, \n",
    "                time_halfbandwidth_product=TIME_HALFBANDWIDTH_PRODUCT, \n",
    "                time_window_step=TIME_WINDOW_STEP, \n",
    "                time_window_duration=TIME_WINDOW_DURATION\n",
    "            )\n",
    "            print(index)\n",
    "            index_to_connectivity[index] = Connectivity.from_multitaper(index_to_multitaper[index])\n",
    "            index_to_frequencies[index] = index_to_connectivity[index].frequencies\n",
    "            index_to_coherence[index] = index_to_connectivity[index].coherence_magnitude()[:,:,0,1]\n",
    "\n",
    "        LFP_TRACES_DF[frequencies_col] = LFP_TRACES_DF.index.to_series().map(index_to_frequencies)\n",
    "        LFP_TRACES_DF[coherence_col] = LFP_TRACES_DF.index.to_series().map(index_to_coherence)\n",
    "        LFP_TRACES_DF[coherence_col] = LFP_TRACES_DF[coherence_col].apply(lambda x: x.astype(np.float32))\n",
    "\n",
    "    except Exception as e: \n",
    "        print(e)\n",
    "\n",
    "    # Drop temporary columns\n",
    "    LFP_TRACES_DF = LFP_TRACES_DF.drop(columns=[multitaper_col, connectivity_col], errors=\"ignore\")"
   ]
  },
  {
   "cell_type": "code",
   "execution_count": 74,
   "metadata": {
    "tags": []
   },
   "outputs": [],
   "source": [
    "# for region_1, region_2 in brain_region_pairs:\n",
    "#     # Define base name for pair\n",
    "#     pair_base_name = f\"{region_1.split('_')[0]}_{region_2.split('_')[0]}\"\n",
    "#     print(pair_base_name)\n",
    "\n",
    "#     try:\n",
    "#         # Define column names\n",
    "#         multitaper_col = f\"{pair_base_name}_coherence_multitaper\"\n",
    "#         connectivity_col = f\"{pair_base_name}_coherence_connectivity\"\n",
    "#         frequencies_col = f\"{pair_base_name}_coherence_frequencies\"\n",
    "#         coherence_col = f\"{pair_base_name}_coherence_all_frequencies_all_windows\"\n",
    "\n",
    "#         # Apply Multitaper function\n",
    "#         LFP_TRACES_DF[multitaper_col] = LFP_TRACES_DF.apply(\n",
    "#             lambda x: Multitaper(\n",
    "#                 time_series=np.array([x[region_1], x[region_2]]).T, \n",
    "#                 sampling_frequency=RESAMPLE_RATE, \n",
    "#                 time_halfbandwidth_product=TIME_HALFBANDWIDTH_PRODUCT, \n",
    "#                 time_window_step=TIME_WINDOW_STEP, \n",
    "#                 time_window_duration=TIME_WINDOW_DURATION\n",
    "#             ), \n",
    "#             axis=1\n",
    "#         )\n",
    "\n",
    "#         # Apply Connectivity function\n",
    "#         LFP_TRACES_DF[connectivity_col] = LFP_TRACES_DF[multitaper_col].apply(\n",
    "#             lambda x: Connectivity.from_multitaper(x)\n",
    "#         )\n",
    "\n",
    "#         # Apply frequencies and coherence functions\n",
    "#         LFP_TRACES_DF[frequencies_col] = LFP_TRACES_DF[connectivity_col].apply(\n",
    "#             lambda x: x.frequencies\n",
    "#         )\n",
    "#         LFP_TRACES_DF[coherence_col] = LFP_TRACES_DF[connectivity_col].apply(\n",
    "#             lambda x: x.coherence_magnitude()[:,:,0,1]\n",
    "#         )\n",
    "\n",
    "#         LFP_TRACES_DF[coherence_col] = LFP_TRACES_DF[coherence_col].apply(lambda x: x.astype(np.float32))\n",
    "\n",
    "#     except Exception as e: \n",
    "#         print(e)\n",
    "\n",
    "#     # Drop temporary columns\n",
    "#     LFP_TRACES_DF = LFP_TRACES_DF.drop(columns=[multitaper_col, connectivity_col], errors=\"ignore\")"
   ]
  },
  {
   "cell_type": "code",
   "execution_count": 75,
   "metadata": {},
   "outputs": [
    {
     "data": {
      "text/html": [
       "<div>\n",
       "<style scoped>\n",
       "    .dataframe tbody tr th:only-of-type {\n",
       "        vertical-align: middle;\n",
       "    }\n",
       "\n",
       "    .dataframe tbody tr th {\n",
       "        vertical-align: top;\n",
       "    }\n",
       "\n",
       "    .dataframe thead th {\n",
       "        text-align: right;\n",
       "    }\n",
       "</style>\n",
       "<table border=\"1\" class=\"dataframe\">\n",
       "  <thead>\n",
       "    <tr style=\"text-align: right;\">\n",
       "      <th></th>\n",
       "      <th>cohort</th>\n",
       "      <th>session_dir</th>\n",
       "      <th>tone_frames</th>\n",
       "      <th>box_1_port_entry_frames</th>\n",
       "      <th>box_2_port_entry_frames</th>\n",
       "      <th>video_name</th>\n",
       "      <th>notes</th>\n",
       "      <th>session_path</th>\n",
       "      <th>recording</th>\n",
       "      <th>current_subject</th>\n",
       "      <th>...</th>\n",
       "      <th>LH_mPFC_coherence_frequencies</th>\n",
       "      <th>LH_mPFC_coherence_all_frequencies_all_windows</th>\n",
       "      <th>LH_vHPC_coherence_frequencies</th>\n",
       "      <th>LH_vHPC_coherence_all_frequencies_all_windows</th>\n",
       "      <th>MD_mPFC_coherence_frequencies</th>\n",
       "      <th>MD_mPFC_coherence_all_frequencies_all_windows</th>\n",
       "      <th>MD_vHPC_coherence_frequencies</th>\n",
       "      <th>MD_vHPC_coherence_all_frequencies_all_windows</th>\n",
       "      <th>mPFC_vHPC_coherence_frequencies</th>\n",
       "      <th>mPFC_vHPC_coherence_all_frequencies_all_windows</th>\n",
       "    </tr>\n",
       "  </thead>\n",
       "  <tbody>\n",
       "    <tr>\n",
       "      <th>0</th>\n",
       "      <td>NaN</td>\n",
       "      <td>20240317_151922_long_comp_subj_3-1_and_3-3</td>\n",
       "      <td>[[1, 88], [1286, 1486], [3282, 3482], [4480, 4...</td>\n",
       "      <td>[[1, 88], [259, 278], [310, 365], [366, 382], ...</td>\n",
       "      <td>[]</td>\n",
       "      <td>20240317_151922_long_comp_subj_3-1_and_3-3.1.v...</td>\n",
       "      <td>NaN</td>\n",
       "      <td>/scratch/back_up/reward_competition_extention/...</td>\n",
       "      <td>20240317_151922_long_comp_subj_3-1_t6b6_merged</td>\n",
       "      <td>3.1</td>\n",
       "      <td>...</td>\n",
       "      <td>[0.0, 1.0, 2.0, 3.0, 4.0, 5.0, 6.0, 7.0, 8.0, ...</td>\n",
       "      <td>[[0.9249496, 0.9829557, 0.99013513, 0.9955212,...</td>\n",
       "      <td>[0.0, 1.0, 2.0, 3.0, 4.0, 5.0, 6.0, 7.0, 8.0, ...</td>\n",
       "      <td>[[0.060117207, 0.12890075, 0.8475753, 0.995610...</td>\n",
       "      <td>[0.0, 1.0, 2.0, 3.0, 4.0, 5.0, 6.0, 7.0, 8.0, ...</td>\n",
       "      <td>[[0.9391111, 0.95470643, 0.97677666, 0.9876435...</td>\n",
       "      <td>[0.0, 1.0, 2.0, 3.0, 4.0, 5.0, 6.0, 7.0, 8.0, ...</td>\n",
       "      <td>[[0.060699753, 0.048701867, 0.7767016, 0.96149...</td>\n",
       "      <td>[0.0, 1.0, 2.0, 3.0, 4.0, 5.0, 6.0, 7.0, 8.0, ...</td>\n",
       "      <td>[[0.20586579, 0.14527641, 0.8650719, 0.9835180...</td>\n",
       "    </tr>\n",
       "    <tr>\n",
       "      <th>1</th>\n",
       "      <td>NaN</td>\n",
       "      <td>20240317_151922_long_comp_subj_3-1_and_3-3</td>\n",
       "      <td>[[2, 132], [1922, 2220], [4906, 5203], [6696, ...</td>\n",
       "      <td>[[2, 132], [387, 415], [463, 546], [548, 571],...</td>\n",
       "      <td>[]</td>\n",
       "      <td>20240317_151922_long_comp_subj_3-1_and_3-3.2.v...</td>\n",
       "      <td>NaN</td>\n",
       "      <td>/scratch/back_up/reward_competition_extention/...</td>\n",
       "      <td>20240317_151922_long_comp_subj_3-1_t6b6_merged</td>\n",
       "      <td>3.1</td>\n",
       "      <td>...</td>\n",
       "      <td>[0.0, 1.0, 2.0, 3.0, 4.0, 5.0, 6.0, 7.0, 8.0, ...</td>\n",
       "      <td>[[0.9249496, 0.9829557, 0.99013513, 0.9955212,...</td>\n",
       "      <td>[0.0, 1.0, 2.0, 3.0, 4.0, 5.0, 6.0, 7.0, 8.0, ...</td>\n",
       "      <td>[[0.060117207, 0.12890075, 0.8475753, 0.995610...</td>\n",
       "      <td>[0.0, 1.0, 2.0, 3.0, 4.0, 5.0, 6.0, 7.0, 8.0, ...</td>\n",
       "      <td>[[0.9391111, 0.95470643, 0.97677666, 0.9876435...</td>\n",
       "      <td>[0.0, 1.0, 2.0, 3.0, 4.0, 5.0, 6.0, 7.0, 8.0, ...</td>\n",
       "      <td>[[0.060699753, 0.048701867, 0.7767016, 0.96149...</td>\n",
       "      <td>[0.0, 1.0, 2.0, 3.0, 4.0, 5.0, 6.0, 7.0, 8.0, ...</td>\n",
       "      <td>[[0.20586579, 0.14527641, 0.8650719, 0.9835180...</td>\n",
       "    </tr>\n",
       "    <tr>\n",
       "      <th>2</th>\n",
       "      <td>NaN</td>\n",
       "      <td>20240317_151922_long_comp_subj_3-1_and_3-3</td>\n",
       "      <td>[[1, 88], [1286, 1486], [3282, 3482], [4480, 4...</td>\n",
       "      <td>[[1, 88], [259, 278], [310, 365], [366, 382], ...</td>\n",
       "      <td>[]</td>\n",
       "      <td>20240317_151922_long_comp_subj_3-1_and_3-3.1.v...</td>\n",
       "      <td>NaN</td>\n",
       "      <td>/scratch/back_up/reward_competition_extention/...</td>\n",
       "      <td>20240317_151922_long_comp_subj_3-3_t5b5_merged</td>\n",
       "      <td>3.3</td>\n",
       "      <td>...</td>\n",
       "      <td>[0.0, 1.0, 2.0, 3.0, 4.0, 5.0, 6.0, 7.0, 8.0, ...</td>\n",
       "      <td>[[0.99761665, 0.9637256, 0.9738427, 0.99587125...</td>\n",
       "      <td>[0.0, 1.0, 2.0, 3.0, 4.0, 5.0, 6.0, 7.0, 8.0, ...</td>\n",
       "      <td>[[0.2839897, 0.690091, 0.72793734, 0.97394633,...</td>\n",
       "      <td>[0.0, 1.0, 2.0, 3.0, 4.0, 5.0, 6.0, 7.0, 8.0, ...</td>\n",
       "      <td>[[0.9996997, 0.9824718, 0.9791998, 0.97131455,...</td>\n",
       "      <td>[0.0, 1.0, 2.0, 3.0, 4.0, 5.0, 6.0, 7.0, 8.0, ...</td>\n",
       "      <td>[[0.25900212, 0.63185, 0.654892, 0.9382397, 0....</td>\n",
       "      <td>[0.0, 1.0, 2.0, 3.0, 4.0, 5.0, 6.0, 7.0, 8.0, ...</td>\n",
       "      <td>[[0.24406572, 0.50392133, 0.59135556, 0.985619...</td>\n",
       "    </tr>\n",
       "    <tr>\n",
       "      <th>3</th>\n",
       "      <td>NaN</td>\n",
       "      <td>20240317_151922_long_comp_subj_3-1_and_3-3</td>\n",
       "      <td>[[2, 132], [1922, 2220], [4906, 5203], [6696, ...</td>\n",
       "      <td>[[2, 132], [387, 415], [463, 546], [548, 571],...</td>\n",
       "      <td>[]</td>\n",
       "      <td>20240317_151922_long_comp_subj_3-1_and_3-3.2.v...</td>\n",
       "      <td>NaN</td>\n",
       "      <td>/scratch/back_up/reward_competition_extention/...</td>\n",
       "      <td>20240317_151922_long_comp_subj_3-3_t5b5_merged</td>\n",
       "      <td>3.3</td>\n",
       "      <td>...</td>\n",
       "      <td>[0.0, 1.0, 2.0, 3.0, 4.0, 5.0, 6.0, 7.0, 8.0, ...</td>\n",
       "      <td>[[0.99761665, 0.9637256, 0.9738427, 0.99587125...</td>\n",
       "      <td>[0.0, 1.0, 2.0, 3.0, 4.0, 5.0, 6.0, 7.0, 8.0, ...</td>\n",
       "      <td>[[0.2839897, 0.690091, 0.72793734, 0.97394633,...</td>\n",
       "      <td>[0.0, 1.0, 2.0, 3.0, 4.0, 5.0, 6.0, 7.0, 8.0, ...</td>\n",
       "      <td>[[0.9996997, 0.9824718, 0.9791998, 0.97131455,...</td>\n",
       "      <td>[0.0, 1.0, 2.0, 3.0, 4.0, 5.0, 6.0, 7.0, 8.0, ...</td>\n",
       "      <td>[[0.25900212, 0.63185, 0.654892, 0.9382397, 0....</td>\n",
       "      <td>[0.0, 1.0, 2.0, 3.0, 4.0, 5.0, 6.0, 7.0, 8.0, ...</td>\n",
       "      <td>[[0.24406572, 0.50392133, 0.59135556, 0.985619...</td>\n",
       "    </tr>\n",
       "    <tr>\n",
       "      <th>4</th>\n",
       "      <td>NaN</td>\n",
       "      <td>20240317_172017_long_comp_subj_4-2_and_4-3</td>\n",
       "      <td>[[1, 102], [1300, 1501], [3297, 3497], [4494, ...</td>\n",
       "      <td>[[1, 102], [115, 153], [191, 245], [261, 263],...</td>\n",
       "      <td>[]</td>\n",
       "      <td>20240317_172017_long_comp_subj_4-2_and_4-3.1.v...</td>\n",
       "      <td>NaN</td>\n",
       "      <td>/scratch/back_up/reward_competition_extention/...</td>\n",
       "      <td>20240317_172017_long_comp_subj_4-2_t6b6_merged</td>\n",
       "      <td>4.2</td>\n",
       "      <td>...</td>\n",
       "      <td>[0.0, 1.0, 2.0, 3.0, 4.0, 5.0, 6.0, 7.0, 8.0, ...</td>\n",
       "      <td>[[0.9847638, 0.9640319, 0.9892336, 0.9837212, ...</td>\n",
       "      <td>[0.0, 1.0, 2.0, 3.0, 4.0, 5.0, 6.0, 7.0, 8.0, ...</td>\n",
       "      <td>[[0.9872652, 0.98198676, 0.9954629, 0.99331534...</td>\n",
       "      <td>[0.0, 1.0, 2.0, 3.0, 4.0, 5.0, 6.0, 7.0, 8.0, ...</td>\n",
       "      <td>[[0.9452574, 0.9179176, 0.9745894, 0.99191344,...</td>\n",
       "      <td>[0.0, 1.0, 2.0, 3.0, 4.0, 5.0, 6.0, 7.0, 8.0, ...</td>\n",
       "      <td>[[0.98568225, 0.9522139, 0.9862023, 0.9949253,...</td>\n",
       "      <td>[0.0, 1.0, 2.0, 3.0, 4.0, 5.0, 6.0, 7.0, 8.0, ...</td>\n",
       "      <td>[[0.97193545, 0.976451, 0.98838615, 0.9921904,...</td>\n",
       "    </tr>\n",
       "  </tbody>\n",
       "</table>\n",
       "<p>5 rows × 101 columns</p>\n",
       "</div>"
      ],
      "text/plain": [
       "   cohort                                 session_dir  \\\n",
       "0     NaN  20240317_151922_long_comp_subj_3-1_and_3-3   \n",
       "1     NaN  20240317_151922_long_comp_subj_3-1_and_3-3   \n",
       "2     NaN  20240317_151922_long_comp_subj_3-1_and_3-3   \n",
       "3     NaN  20240317_151922_long_comp_subj_3-1_and_3-3   \n",
       "4     NaN  20240317_172017_long_comp_subj_4-2_and_4-3   \n",
       "\n",
       "                                         tone_frames  \\\n",
       "0  [[1, 88], [1286, 1486], [3282, 3482], [4480, 4...   \n",
       "1  [[2, 132], [1922, 2220], [4906, 5203], [6696, ...   \n",
       "2  [[1, 88], [1286, 1486], [3282, 3482], [4480, 4...   \n",
       "3  [[2, 132], [1922, 2220], [4906, 5203], [6696, ...   \n",
       "4  [[1, 102], [1300, 1501], [3297, 3497], [4494, ...   \n",
       "\n",
       "                             box_1_port_entry_frames box_2_port_entry_frames  \\\n",
       "0  [[1, 88], [259, 278], [310, 365], [366, 382], ...                      []   \n",
       "1  [[2, 132], [387, 415], [463, 546], [548, 571],...                      []   \n",
       "2  [[1, 88], [259, 278], [310, 365], [366, 382], ...                      []   \n",
       "3  [[2, 132], [387, 415], [463, 546], [548, 571],...                      []   \n",
       "4  [[1, 102], [115, 153], [191, 245], [261, 263],...                      []   \n",
       "\n",
       "                                          video_name notes  \\\n",
       "0  20240317_151922_long_comp_subj_3-1_and_3-3.1.v...   NaN   \n",
       "1  20240317_151922_long_comp_subj_3-1_and_3-3.2.v...   NaN   \n",
       "2  20240317_151922_long_comp_subj_3-1_and_3-3.1.v...   NaN   \n",
       "3  20240317_151922_long_comp_subj_3-1_and_3-3.2.v...   NaN   \n",
       "4  20240317_172017_long_comp_subj_4-2_and_4-3.1.v...   NaN   \n",
       "\n",
       "                                        session_path  \\\n",
       "0  /scratch/back_up/reward_competition_extention/...   \n",
       "1  /scratch/back_up/reward_competition_extention/...   \n",
       "2  /scratch/back_up/reward_competition_extention/...   \n",
       "3  /scratch/back_up/reward_competition_extention/...   \n",
       "4  /scratch/back_up/reward_competition_extention/...   \n",
       "\n",
       "                                        recording current_subject  ...  \\\n",
       "0  20240317_151922_long_comp_subj_3-1_t6b6_merged             3.1  ...   \n",
       "1  20240317_151922_long_comp_subj_3-1_t6b6_merged             3.1  ...   \n",
       "2  20240317_151922_long_comp_subj_3-3_t5b5_merged             3.3  ...   \n",
       "3  20240317_151922_long_comp_subj_3-3_t5b5_merged             3.3  ...   \n",
       "4  20240317_172017_long_comp_subj_4-2_t6b6_merged             4.2  ...   \n",
       "\n",
       "                       LH_mPFC_coherence_frequencies  \\\n",
       "0  [0.0, 1.0, 2.0, 3.0, 4.0, 5.0, 6.0, 7.0, 8.0, ...   \n",
       "1  [0.0, 1.0, 2.0, 3.0, 4.0, 5.0, 6.0, 7.0, 8.0, ...   \n",
       "2  [0.0, 1.0, 2.0, 3.0, 4.0, 5.0, 6.0, 7.0, 8.0, ...   \n",
       "3  [0.0, 1.0, 2.0, 3.0, 4.0, 5.0, 6.0, 7.0, 8.0, ...   \n",
       "4  [0.0, 1.0, 2.0, 3.0, 4.0, 5.0, 6.0, 7.0, 8.0, ...   \n",
       "\n",
       "       LH_mPFC_coherence_all_frequencies_all_windows  \\\n",
       "0  [[0.9249496, 0.9829557, 0.99013513, 0.9955212,...   \n",
       "1  [[0.9249496, 0.9829557, 0.99013513, 0.9955212,...   \n",
       "2  [[0.99761665, 0.9637256, 0.9738427, 0.99587125...   \n",
       "3  [[0.99761665, 0.9637256, 0.9738427, 0.99587125...   \n",
       "4  [[0.9847638, 0.9640319, 0.9892336, 0.9837212, ...   \n",
       "\n",
       "                       LH_vHPC_coherence_frequencies  \\\n",
       "0  [0.0, 1.0, 2.0, 3.0, 4.0, 5.0, 6.0, 7.0, 8.0, ...   \n",
       "1  [0.0, 1.0, 2.0, 3.0, 4.0, 5.0, 6.0, 7.0, 8.0, ...   \n",
       "2  [0.0, 1.0, 2.0, 3.0, 4.0, 5.0, 6.0, 7.0, 8.0, ...   \n",
       "3  [0.0, 1.0, 2.0, 3.0, 4.0, 5.0, 6.0, 7.0, 8.0, ...   \n",
       "4  [0.0, 1.0, 2.0, 3.0, 4.0, 5.0, 6.0, 7.0, 8.0, ...   \n",
       "\n",
       "       LH_vHPC_coherence_all_frequencies_all_windows  \\\n",
       "0  [[0.060117207, 0.12890075, 0.8475753, 0.995610...   \n",
       "1  [[0.060117207, 0.12890075, 0.8475753, 0.995610...   \n",
       "2  [[0.2839897, 0.690091, 0.72793734, 0.97394633,...   \n",
       "3  [[0.2839897, 0.690091, 0.72793734, 0.97394633,...   \n",
       "4  [[0.9872652, 0.98198676, 0.9954629, 0.99331534...   \n",
       "\n",
       "                       MD_mPFC_coherence_frequencies  \\\n",
       "0  [0.0, 1.0, 2.0, 3.0, 4.0, 5.0, 6.0, 7.0, 8.0, ...   \n",
       "1  [0.0, 1.0, 2.0, 3.0, 4.0, 5.0, 6.0, 7.0, 8.0, ...   \n",
       "2  [0.0, 1.0, 2.0, 3.0, 4.0, 5.0, 6.0, 7.0, 8.0, ...   \n",
       "3  [0.0, 1.0, 2.0, 3.0, 4.0, 5.0, 6.0, 7.0, 8.0, ...   \n",
       "4  [0.0, 1.0, 2.0, 3.0, 4.0, 5.0, 6.0, 7.0, 8.0, ...   \n",
       "\n",
       "       MD_mPFC_coherence_all_frequencies_all_windows  \\\n",
       "0  [[0.9391111, 0.95470643, 0.97677666, 0.9876435...   \n",
       "1  [[0.9391111, 0.95470643, 0.97677666, 0.9876435...   \n",
       "2  [[0.9996997, 0.9824718, 0.9791998, 0.97131455,...   \n",
       "3  [[0.9996997, 0.9824718, 0.9791998, 0.97131455,...   \n",
       "4  [[0.9452574, 0.9179176, 0.9745894, 0.99191344,...   \n",
       "\n",
       "                       MD_vHPC_coherence_frequencies  \\\n",
       "0  [0.0, 1.0, 2.0, 3.0, 4.0, 5.0, 6.0, 7.0, 8.0, ...   \n",
       "1  [0.0, 1.0, 2.0, 3.0, 4.0, 5.0, 6.0, 7.0, 8.0, ...   \n",
       "2  [0.0, 1.0, 2.0, 3.0, 4.0, 5.0, 6.0, 7.0, 8.0, ...   \n",
       "3  [0.0, 1.0, 2.0, 3.0, 4.0, 5.0, 6.0, 7.0, 8.0, ...   \n",
       "4  [0.0, 1.0, 2.0, 3.0, 4.0, 5.0, 6.0, 7.0, 8.0, ...   \n",
       "\n",
       "       MD_vHPC_coherence_all_frequencies_all_windows  \\\n",
       "0  [[0.060699753, 0.048701867, 0.7767016, 0.96149...   \n",
       "1  [[0.060699753, 0.048701867, 0.7767016, 0.96149...   \n",
       "2  [[0.25900212, 0.63185, 0.654892, 0.9382397, 0....   \n",
       "3  [[0.25900212, 0.63185, 0.654892, 0.9382397, 0....   \n",
       "4  [[0.98568225, 0.9522139, 0.9862023, 0.9949253,...   \n",
       "\n",
       "                     mPFC_vHPC_coherence_frequencies  \\\n",
       "0  [0.0, 1.0, 2.0, 3.0, 4.0, 5.0, 6.0, 7.0, 8.0, ...   \n",
       "1  [0.0, 1.0, 2.0, 3.0, 4.0, 5.0, 6.0, 7.0, 8.0, ...   \n",
       "2  [0.0, 1.0, 2.0, 3.0, 4.0, 5.0, 6.0, 7.0, 8.0, ...   \n",
       "3  [0.0, 1.0, 2.0, 3.0, 4.0, 5.0, 6.0, 7.0, 8.0, ...   \n",
       "4  [0.0, 1.0, 2.0, 3.0, 4.0, 5.0, 6.0, 7.0, 8.0, ...   \n",
       "\n",
       "     mPFC_vHPC_coherence_all_frequencies_all_windows  \n",
       "0  [[0.20586579, 0.14527641, 0.8650719, 0.9835180...  \n",
       "1  [[0.20586579, 0.14527641, 0.8650719, 0.9835180...  \n",
       "2  [[0.24406572, 0.50392133, 0.59135556, 0.985619...  \n",
       "3  [[0.24406572, 0.50392133, 0.59135556, 0.985619...  \n",
       "4  [[0.97193545, 0.976451, 0.98838615, 0.9921904,...  \n",
       "\n",
       "[5 rows x 101 columns]"
      ]
     },
     "execution_count": 75,
     "metadata": {},
     "output_type": "execute_result"
    }
   ],
   "source": [
    "LFP_TRACES_DF.head()"
   ]
  },
  {
   "cell_type": "code",
   "execution_count": null,
   "metadata": {},
   "outputs": [],
   "source": []
  },
  {
   "cell_type": "markdown",
   "metadata": {},
   "source": [
    "- Getting the timestamps of the coherence"
   ]
  },
  {
   "cell_type": "code",
   "execution_count": 76,
   "metadata": {
    "tags": []
   },
   "outputs": [],
   "source": [
    "LFP_TRACES_DF[\"coherence_timestamps\"] = LFP_TRACES_DF[\"lfp_timestamps\"].apply(lambda x: x[(RESAMPLE_RATE//2):(-RESAMPLE_RATE//2):(RESAMPLE_RATE//2)])\n"
   ]
  },
  {
   "cell_type": "markdown",
   "metadata": {},
   "source": [
    "- Making sure that the timestamps for coherence makes sense with shape and values"
   ]
  },
  {
   "cell_type": "code",
   "execution_count": 77,
   "metadata": {
    "tags": []
   },
   "outputs": [
    {
     "data": {
      "text/plain": [
       "0    (4581,)\n",
       "1    (4581,)\n",
       "2    (4581,)\n",
       "3    (4581,)\n",
       "4    (5897,)\n",
       "Name: coherence_timestamps, dtype: object"
      ]
     },
     "execution_count": 77,
     "metadata": {},
     "output_type": "execute_result"
    }
   ],
   "source": [
    "LFP_TRACES_DF[\"coherence_timestamps\"].head().apply(lambda x: x.shape)"
   ]
  },
  {
   "cell_type": "code",
   "execution_count": 78,
   "metadata": {
    "tags": []
   },
   "outputs": [
    {
     "data": {
      "text/plain": [
       "(4581, 500)"
      ]
     },
     "execution_count": 78,
     "metadata": {},
     "output_type": "execute_result"
    }
   ],
   "source": [
    "LFP_TRACES_DF[[col for col in LFP_TRACES_DF.columns if \"coherence_all_frequencies_all_windows\" in col][0]].iloc[0].shape"
   ]
  },
  {
   "cell_type": "code",
   "execution_count": 79,
   "metadata": {
    "tags": []
   },
   "outputs": [
    {
     "data": {
      "text/plain": [
       "array([       0,       20,       40, ..., 45820560, 45820580, 45820600])"
      ]
     },
     "execution_count": 79,
     "metadata": {},
     "output_type": "execute_result"
    }
   ],
   "source": [
    "LFP_TRACES_DF[[col for col in LFP_TRACES_DF.columns if \"lfp_timestamps\" in col][0]].iloc[0]"
   ]
  },
  {
   "cell_type": "code",
   "execution_count": 80,
   "metadata": {
    "tags": []
   },
   "outputs": [
    {
     "data": {
      "text/plain": [
       "array([   10000,    20000,    30000, ..., 45790000, 45800000, 45810000])"
      ]
     },
     "execution_count": 80,
     "metadata": {},
     "output_type": "execute_result"
    }
   ],
   "source": [
    "LFP_TRACES_DF[[col for col in LFP_TRACES_DF.columns if \"coherence_timestamps\" in col][0]].iloc[0]"
   ]
  },
  {
   "cell_type": "markdown",
   "metadata": {},
   "source": [
    "- Checking if the right frequencies are being used"
   ]
  },
  {
   "cell_type": "code",
   "execution_count": 81,
   "metadata": {
    "tags": []
   },
   "outputs": [
    {
     "data": {
      "text/html": [
       "<div>\n",
       "<style scoped>\n",
       "    .dataframe tbody tr th:only-of-type {\n",
       "        vertical-align: middle;\n",
       "    }\n",
       "\n",
       "    .dataframe tbody tr th {\n",
       "        vertical-align: top;\n",
       "    }\n",
       "\n",
       "    .dataframe thead th {\n",
       "        text-align: right;\n",
       "    }\n",
       "</style>\n",
       "<table border=\"1\" class=\"dataframe\">\n",
       "  <thead>\n",
       "    <tr style=\"text-align: right;\">\n",
       "      <th></th>\n",
       "      <th>BLA_LH_coherence_frequencies</th>\n",
       "      <th>BLA_MD_coherence_frequencies</th>\n",
       "      <th>BLA_mPFC_coherence_frequencies</th>\n",
       "      <th>BLA_vHPC_coherence_frequencies</th>\n",
       "      <th>LH_MD_coherence_frequencies</th>\n",
       "      <th>LH_mPFC_coherence_frequencies</th>\n",
       "      <th>LH_vHPC_coherence_frequencies</th>\n",
       "      <th>MD_mPFC_coherence_frequencies</th>\n",
       "      <th>MD_vHPC_coherence_frequencies</th>\n",
       "      <th>mPFC_vHPC_coherence_frequencies</th>\n",
       "    </tr>\n",
       "  </thead>\n",
       "  <tbody>\n",
       "    <tr>\n",
       "      <th>0</th>\n",
       "      <td>[0.0, 1.0, 2.0, 3.0, 4.0, 5.0, 6.0, 7.0, 8.0, ...</td>\n",
       "      <td>[0.0, 1.0, 2.0, 3.0, 4.0, 5.0, 6.0, 7.0, 8.0, ...</td>\n",
       "      <td>[0.0, 1.0, 2.0, 3.0, 4.0, 5.0, 6.0, 7.0, 8.0, ...</td>\n",
       "      <td>[0.0, 1.0, 2.0, 3.0, 4.0, 5.0, 6.0, 7.0, 8.0, ...</td>\n",
       "      <td>[0.0, 1.0, 2.0, 3.0, 4.0, 5.0, 6.0, 7.0, 8.0, ...</td>\n",
       "      <td>[0.0, 1.0, 2.0, 3.0, 4.0, 5.0, 6.0, 7.0, 8.0, ...</td>\n",
       "      <td>[0.0, 1.0, 2.0, 3.0, 4.0, 5.0, 6.0, 7.0, 8.0, ...</td>\n",
       "      <td>[0.0, 1.0, 2.0, 3.0, 4.0, 5.0, 6.0, 7.0, 8.0, ...</td>\n",
       "      <td>[0.0, 1.0, 2.0, 3.0, 4.0, 5.0, 6.0, 7.0, 8.0, ...</td>\n",
       "      <td>[0.0, 1.0, 2.0, 3.0, 4.0, 5.0, 6.0, 7.0, 8.0, ...</td>\n",
       "    </tr>\n",
       "    <tr>\n",
       "      <th>1</th>\n",
       "      <td>[0.0, 1.0, 2.0, 3.0, 4.0, 5.0, 6.0, 7.0, 8.0, ...</td>\n",
       "      <td>[0.0, 1.0, 2.0, 3.0, 4.0, 5.0, 6.0, 7.0, 8.0, ...</td>\n",
       "      <td>[0.0, 1.0, 2.0, 3.0, 4.0, 5.0, 6.0, 7.0, 8.0, ...</td>\n",
       "      <td>[0.0, 1.0, 2.0, 3.0, 4.0, 5.0, 6.0, 7.0, 8.0, ...</td>\n",
       "      <td>[0.0, 1.0, 2.0, 3.0, 4.0, 5.0, 6.0, 7.0, 8.0, ...</td>\n",
       "      <td>[0.0, 1.0, 2.0, 3.0, 4.0, 5.0, 6.0, 7.0, 8.0, ...</td>\n",
       "      <td>[0.0, 1.0, 2.0, 3.0, 4.0, 5.0, 6.0, 7.0, 8.0, ...</td>\n",
       "      <td>[0.0, 1.0, 2.0, 3.0, 4.0, 5.0, 6.0, 7.0, 8.0, ...</td>\n",
       "      <td>[0.0, 1.0, 2.0, 3.0, 4.0, 5.0, 6.0, 7.0, 8.0, ...</td>\n",
       "      <td>[0.0, 1.0, 2.0, 3.0, 4.0, 5.0, 6.0, 7.0, 8.0, ...</td>\n",
       "    </tr>\n",
       "    <tr>\n",
       "      <th>2</th>\n",
       "      <td>[0.0, 1.0, 2.0, 3.0, 4.0, 5.0, 6.0, 7.0, 8.0, ...</td>\n",
       "      <td>[0.0, 1.0, 2.0, 3.0, 4.0, 5.0, 6.0, 7.0, 8.0, ...</td>\n",
       "      <td>[0.0, 1.0, 2.0, 3.0, 4.0, 5.0, 6.0, 7.0, 8.0, ...</td>\n",
       "      <td>[0.0, 1.0, 2.0, 3.0, 4.0, 5.0, 6.0, 7.0, 8.0, ...</td>\n",
       "      <td>[0.0, 1.0, 2.0, 3.0, 4.0, 5.0, 6.0, 7.0, 8.0, ...</td>\n",
       "      <td>[0.0, 1.0, 2.0, 3.0, 4.0, 5.0, 6.0, 7.0, 8.0, ...</td>\n",
       "      <td>[0.0, 1.0, 2.0, 3.0, 4.0, 5.0, 6.0, 7.0, 8.0, ...</td>\n",
       "      <td>[0.0, 1.0, 2.0, 3.0, 4.0, 5.0, 6.0, 7.0, 8.0, ...</td>\n",
       "      <td>[0.0, 1.0, 2.0, 3.0, 4.0, 5.0, 6.0, 7.0, 8.0, ...</td>\n",
       "      <td>[0.0, 1.0, 2.0, 3.0, 4.0, 5.0, 6.0, 7.0, 8.0, ...</td>\n",
       "    </tr>\n",
       "    <tr>\n",
       "      <th>3</th>\n",
       "      <td>[0.0, 1.0, 2.0, 3.0, 4.0, 5.0, 6.0, 7.0, 8.0, ...</td>\n",
       "      <td>[0.0, 1.0, 2.0, 3.0, 4.0, 5.0, 6.0, 7.0, 8.0, ...</td>\n",
       "      <td>[0.0, 1.0, 2.0, 3.0, 4.0, 5.0, 6.0, 7.0, 8.0, ...</td>\n",
       "      <td>[0.0, 1.0, 2.0, 3.0, 4.0, 5.0, 6.0, 7.0, 8.0, ...</td>\n",
       "      <td>[0.0, 1.0, 2.0, 3.0, 4.0, 5.0, 6.0, 7.0, 8.0, ...</td>\n",
       "      <td>[0.0, 1.0, 2.0, 3.0, 4.0, 5.0, 6.0, 7.0, 8.0, ...</td>\n",
       "      <td>[0.0, 1.0, 2.0, 3.0, 4.0, 5.0, 6.0, 7.0, 8.0, ...</td>\n",
       "      <td>[0.0, 1.0, 2.0, 3.0, 4.0, 5.0, 6.0, 7.0, 8.0, ...</td>\n",
       "      <td>[0.0, 1.0, 2.0, 3.0, 4.0, 5.0, 6.0, 7.0, 8.0, ...</td>\n",
       "      <td>[0.0, 1.0, 2.0, 3.0, 4.0, 5.0, 6.0, 7.0, 8.0, ...</td>\n",
       "    </tr>\n",
       "    <tr>\n",
       "      <th>4</th>\n",
       "      <td>[0.0, 1.0, 2.0, 3.0, 4.0, 5.0, 6.0, 7.0, 8.0, ...</td>\n",
       "      <td>[0.0, 1.0, 2.0, 3.0, 4.0, 5.0, 6.0, 7.0, 8.0, ...</td>\n",
       "      <td>[0.0, 1.0, 2.0, 3.0, 4.0, 5.0, 6.0, 7.0, 8.0, ...</td>\n",
       "      <td>[0.0, 1.0, 2.0, 3.0, 4.0, 5.0, 6.0, 7.0, 8.0, ...</td>\n",
       "      <td>[0.0, 1.0, 2.0, 3.0, 4.0, 5.0, 6.0, 7.0, 8.0, ...</td>\n",
       "      <td>[0.0, 1.0, 2.0, 3.0, 4.0, 5.0, 6.0, 7.0, 8.0, ...</td>\n",
       "      <td>[0.0, 1.0, 2.0, 3.0, 4.0, 5.0, 6.0, 7.0, 8.0, ...</td>\n",
       "      <td>[0.0, 1.0, 2.0, 3.0, 4.0, 5.0, 6.0, 7.0, 8.0, ...</td>\n",
       "      <td>[0.0, 1.0, 2.0, 3.0, 4.0, 5.0, 6.0, 7.0, 8.0, ...</td>\n",
       "      <td>[0.0, 1.0, 2.0, 3.0, 4.0, 5.0, 6.0, 7.0, 8.0, ...</td>\n",
       "    </tr>\n",
       "  </tbody>\n",
       "</table>\n",
       "</div>"
      ],
      "text/plain": [
       "                        BLA_LH_coherence_frequencies  \\\n",
       "0  [0.0, 1.0, 2.0, 3.0, 4.0, 5.0, 6.0, 7.0, 8.0, ...   \n",
       "1  [0.0, 1.0, 2.0, 3.0, 4.0, 5.0, 6.0, 7.0, 8.0, ...   \n",
       "2  [0.0, 1.0, 2.0, 3.0, 4.0, 5.0, 6.0, 7.0, 8.0, ...   \n",
       "3  [0.0, 1.0, 2.0, 3.0, 4.0, 5.0, 6.0, 7.0, 8.0, ...   \n",
       "4  [0.0, 1.0, 2.0, 3.0, 4.0, 5.0, 6.0, 7.0, 8.0, ...   \n",
       "\n",
       "                        BLA_MD_coherence_frequencies  \\\n",
       "0  [0.0, 1.0, 2.0, 3.0, 4.0, 5.0, 6.0, 7.0, 8.0, ...   \n",
       "1  [0.0, 1.0, 2.0, 3.0, 4.0, 5.0, 6.0, 7.0, 8.0, ...   \n",
       "2  [0.0, 1.0, 2.0, 3.0, 4.0, 5.0, 6.0, 7.0, 8.0, ...   \n",
       "3  [0.0, 1.0, 2.0, 3.0, 4.0, 5.0, 6.0, 7.0, 8.0, ...   \n",
       "4  [0.0, 1.0, 2.0, 3.0, 4.0, 5.0, 6.0, 7.0, 8.0, ...   \n",
       "\n",
       "                      BLA_mPFC_coherence_frequencies  \\\n",
       "0  [0.0, 1.0, 2.0, 3.0, 4.0, 5.0, 6.0, 7.0, 8.0, ...   \n",
       "1  [0.0, 1.0, 2.0, 3.0, 4.0, 5.0, 6.0, 7.0, 8.0, ...   \n",
       "2  [0.0, 1.0, 2.0, 3.0, 4.0, 5.0, 6.0, 7.0, 8.0, ...   \n",
       "3  [0.0, 1.0, 2.0, 3.0, 4.0, 5.0, 6.0, 7.0, 8.0, ...   \n",
       "4  [0.0, 1.0, 2.0, 3.0, 4.0, 5.0, 6.0, 7.0, 8.0, ...   \n",
       "\n",
       "                      BLA_vHPC_coherence_frequencies  \\\n",
       "0  [0.0, 1.0, 2.0, 3.0, 4.0, 5.0, 6.0, 7.0, 8.0, ...   \n",
       "1  [0.0, 1.0, 2.0, 3.0, 4.0, 5.0, 6.0, 7.0, 8.0, ...   \n",
       "2  [0.0, 1.0, 2.0, 3.0, 4.0, 5.0, 6.0, 7.0, 8.0, ...   \n",
       "3  [0.0, 1.0, 2.0, 3.0, 4.0, 5.0, 6.0, 7.0, 8.0, ...   \n",
       "4  [0.0, 1.0, 2.0, 3.0, 4.0, 5.0, 6.0, 7.0, 8.0, ...   \n",
       "\n",
       "                         LH_MD_coherence_frequencies  \\\n",
       "0  [0.0, 1.0, 2.0, 3.0, 4.0, 5.0, 6.0, 7.0, 8.0, ...   \n",
       "1  [0.0, 1.0, 2.0, 3.0, 4.0, 5.0, 6.0, 7.0, 8.0, ...   \n",
       "2  [0.0, 1.0, 2.0, 3.0, 4.0, 5.0, 6.0, 7.0, 8.0, ...   \n",
       "3  [0.0, 1.0, 2.0, 3.0, 4.0, 5.0, 6.0, 7.0, 8.0, ...   \n",
       "4  [0.0, 1.0, 2.0, 3.0, 4.0, 5.0, 6.0, 7.0, 8.0, ...   \n",
       "\n",
       "                       LH_mPFC_coherence_frequencies  \\\n",
       "0  [0.0, 1.0, 2.0, 3.0, 4.0, 5.0, 6.0, 7.0, 8.0, ...   \n",
       "1  [0.0, 1.0, 2.0, 3.0, 4.0, 5.0, 6.0, 7.0, 8.0, ...   \n",
       "2  [0.0, 1.0, 2.0, 3.0, 4.0, 5.0, 6.0, 7.0, 8.0, ...   \n",
       "3  [0.0, 1.0, 2.0, 3.0, 4.0, 5.0, 6.0, 7.0, 8.0, ...   \n",
       "4  [0.0, 1.0, 2.0, 3.0, 4.0, 5.0, 6.0, 7.0, 8.0, ...   \n",
       "\n",
       "                       LH_vHPC_coherence_frequencies  \\\n",
       "0  [0.0, 1.0, 2.0, 3.0, 4.0, 5.0, 6.0, 7.0, 8.0, ...   \n",
       "1  [0.0, 1.0, 2.0, 3.0, 4.0, 5.0, 6.0, 7.0, 8.0, ...   \n",
       "2  [0.0, 1.0, 2.0, 3.0, 4.0, 5.0, 6.0, 7.0, 8.0, ...   \n",
       "3  [0.0, 1.0, 2.0, 3.0, 4.0, 5.0, 6.0, 7.0, 8.0, ...   \n",
       "4  [0.0, 1.0, 2.0, 3.0, 4.0, 5.0, 6.0, 7.0, 8.0, ...   \n",
       "\n",
       "                       MD_mPFC_coherence_frequencies  \\\n",
       "0  [0.0, 1.0, 2.0, 3.0, 4.0, 5.0, 6.0, 7.0, 8.0, ...   \n",
       "1  [0.0, 1.0, 2.0, 3.0, 4.0, 5.0, 6.0, 7.0, 8.0, ...   \n",
       "2  [0.0, 1.0, 2.0, 3.0, 4.0, 5.0, 6.0, 7.0, 8.0, ...   \n",
       "3  [0.0, 1.0, 2.0, 3.0, 4.0, 5.0, 6.0, 7.0, 8.0, ...   \n",
       "4  [0.0, 1.0, 2.0, 3.0, 4.0, 5.0, 6.0, 7.0, 8.0, ...   \n",
       "\n",
       "                       MD_vHPC_coherence_frequencies  \\\n",
       "0  [0.0, 1.0, 2.0, 3.0, 4.0, 5.0, 6.0, 7.0, 8.0, ...   \n",
       "1  [0.0, 1.0, 2.0, 3.0, 4.0, 5.0, 6.0, 7.0, 8.0, ...   \n",
       "2  [0.0, 1.0, 2.0, 3.0, 4.0, 5.0, 6.0, 7.0, 8.0, ...   \n",
       "3  [0.0, 1.0, 2.0, 3.0, 4.0, 5.0, 6.0, 7.0, 8.0, ...   \n",
       "4  [0.0, 1.0, 2.0, 3.0, 4.0, 5.0, 6.0, 7.0, 8.0, ...   \n",
       "\n",
       "                     mPFC_vHPC_coherence_frequencies  \n",
       "0  [0.0, 1.0, 2.0, 3.0, 4.0, 5.0, 6.0, 7.0, 8.0, ...  \n",
       "1  [0.0, 1.0, 2.0, 3.0, 4.0, 5.0, 6.0, 7.0, 8.0, ...  \n",
       "2  [0.0, 1.0, 2.0, 3.0, 4.0, 5.0, 6.0, 7.0, 8.0, ...  \n",
       "3  [0.0, 1.0, 2.0, 3.0, 4.0, 5.0, 6.0, 7.0, 8.0, ...  \n",
       "4  [0.0, 1.0, 2.0, 3.0, 4.0, 5.0, 6.0, 7.0, 8.0, ...  "
      ]
     },
     "execution_count": 81,
     "metadata": {},
     "output_type": "execute_result"
    }
   ],
   "source": [
    "LFP_TRACES_DF[[col for col in LFP_TRACES_DF.columns if \"coherence_frequencies\" in col]].head()"
   ]
  },
  {
   "cell_type": "code",
   "execution_count": 82,
   "metadata": {},
   "outputs": [],
   "source": [
    "LFP_TRACES_DF[\"coherence_calculation_frequencies\"] = LFP_TRACES_DF[[col for col in LFP_TRACES_DF.columns if \"coherence_frequencies\" in col][0]].copy()"
   ]
  },
  {
   "cell_type": "markdown",
   "metadata": {},
   "source": [
    "- Dropping unnecessary columns"
   ]
  },
  {
   "cell_type": "code",
   "execution_count": 83,
   "metadata": {
    "tags": []
   },
   "outputs": [],
   "source": [
    "LFP_TRACES_DF = LFP_TRACES_DF.drop(columns=[col for col in LFP_TRACES_DF.columns if \"coherence_frequencies\" in col], errors=\"ignore\")"
   ]
  },
  {
   "cell_type": "code",
   "execution_count": 84,
   "metadata": {
    "tags": []
   },
   "outputs": [
    {
     "data": {
      "text/html": [
       "<div>\n",
       "<style scoped>\n",
       "    .dataframe tbody tr th:only-of-type {\n",
       "        vertical-align: middle;\n",
       "    }\n",
       "\n",
       "    .dataframe tbody tr th {\n",
       "        vertical-align: top;\n",
       "    }\n",
       "\n",
       "    .dataframe thead th {\n",
       "        text-align: right;\n",
       "    }\n",
       "</style>\n",
       "<table border=\"1\" class=\"dataframe\">\n",
       "  <thead>\n",
       "    <tr style=\"text-align: right;\">\n",
       "      <th></th>\n",
       "      <th>cohort</th>\n",
       "      <th>session_dir</th>\n",
       "      <th>tone_frames</th>\n",
       "      <th>box_1_port_entry_frames</th>\n",
       "      <th>box_2_port_entry_frames</th>\n",
       "      <th>video_name</th>\n",
       "      <th>notes</th>\n",
       "      <th>session_path</th>\n",
       "      <th>recording</th>\n",
       "      <th>current_subject</th>\n",
       "      <th>...</th>\n",
       "      <th>BLA_mPFC_coherence_all_frequencies_all_windows</th>\n",
       "      <th>BLA_vHPC_coherence_all_frequencies_all_windows</th>\n",
       "      <th>LH_MD_coherence_all_frequencies_all_windows</th>\n",
       "      <th>LH_mPFC_coherence_all_frequencies_all_windows</th>\n",
       "      <th>LH_vHPC_coherence_all_frequencies_all_windows</th>\n",
       "      <th>MD_mPFC_coherence_all_frequencies_all_windows</th>\n",
       "      <th>MD_vHPC_coherence_all_frequencies_all_windows</th>\n",
       "      <th>mPFC_vHPC_coherence_all_frequencies_all_windows</th>\n",
       "      <th>coherence_timestamps</th>\n",
       "      <th>coherence_calculation_frequencies</th>\n",
       "    </tr>\n",
       "  </thead>\n",
       "  <tbody>\n",
       "    <tr>\n",
       "      <th>0</th>\n",
       "      <td>NaN</td>\n",
       "      <td>20240317_151922_long_comp_subj_3-1_and_3-3</td>\n",
       "      <td>[[1, 88], [1286, 1486], [3282, 3482], [4480, 4...</td>\n",
       "      <td>[[1, 88], [259, 278], [310, 365], [366, 382], ...</td>\n",
       "      <td>[]</td>\n",
       "      <td>20240317_151922_long_comp_subj_3-1_and_3-3.1.v...</td>\n",
       "      <td>NaN</td>\n",
       "      <td>/scratch/back_up/reward_competition_extention/...</td>\n",
       "      <td>20240317_151922_long_comp_subj_3-1_t6b6_merged</td>\n",
       "      <td>3.1</td>\n",
       "      <td>...</td>\n",
       "      <td>[[0.97476727, 0.9552079, 0.9898461, 0.99497, 0...</td>\n",
       "      <td>[[0.27993318, 0.28660965, 0.92280686, 0.994024...</td>\n",
       "      <td>[[0.9971566, 0.95990616, 0.9832427, 0.9805603,...</td>\n",
       "      <td>[[0.9249496, 0.9829557, 0.99013513, 0.9955212,...</td>\n",
       "      <td>[[0.060117207, 0.12890075, 0.8475753, 0.995610...</td>\n",
       "      <td>[[0.9391111, 0.95470643, 0.97677666, 0.9876435...</td>\n",
       "      <td>[[0.060699753, 0.048701867, 0.7767016, 0.96149...</td>\n",
       "      <td>[[0.20586579, 0.14527641, 0.8650719, 0.9835180...</td>\n",
       "      <td>[10000, 20000, 30000, 40000, 50000, 60000, 700...</td>\n",
       "      <td>[0.0, 1.0, 2.0, 3.0, 4.0, 5.0, 6.0, 7.0, 8.0, ...</td>\n",
       "    </tr>\n",
       "    <tr>\n",
       "      <th>1</th>\n",
       "      <td>NaN</td>\n",
       "      <td>20240317_151922_long_comp_subj_3-1_and_3-3</td>\n",
       "      <td>[[2, 132], [1922, 2220], [4906, 5203], [6696, ...</td>\n",
       "      <td>[[2, 132], [387, 415], [463, 546], [548, 571],...</td>\n",
       "      <td>[]</td>\n",
       "      <td>20240317_151922_long_comp_subj_3-1_and_3-3.2.v...</td>\n",
       "      <td>NaN</td>\n",
       "      <td>/scratch/back_up/reward_competition_extention/...</td>\n",
       "      <td>20240317_151922_long_comp_subj_3-1_t6b6_merged</td>\n",
       "      <td>3.1</td>\n",
       "      <td>...</td>\n",
       "      <td>[[0.97476727, 0.9552079, 0.9898461, 0.99497, 0...</td>\n",
       "      <td>[[0.27993318, 0.28660965, 0.92280686, 0.994024...</td>\n",
       "      <td>[[0.9971566, 0.95990616, 0.9832427, 0.9805603,...</td>\n",
       "      <td>[[0.9249496, 0.9829557, 0.99013513, 0.9955212,...</td>\n",
       "      <td>[[0.060117207, 0.12890075, 0.8475753, 0.995610...</td>\n",
       "      <td>[[0.9391111, 0.95470643, 0.97677666, 0.9876435...</td>\n",
       "      <td>[[0.060699753, 0.048701867, 0.7767016, 0.96149...</td>\n",
       "      <td>[[0.20586579, 0.14527641, 0.8650719, 0.9835180...</td>\n",
       "      <td>[10000, 20000, 30000, 40000, 50000, 60000, 700...</td>\n",
       "      <td>[0.0, 1.0, 2.0, 3.0, 4.0, 5.0, 6.0, 7.0, 8.0, ...</td>\n",
       "    </tr>\n",
       "    <tr>\n",
       "      <th>2</th>\n",
       "      <td>NaN</td>\n",
       "      <td>20240317_151922_long_comp_subj_3-1_and_3-3</td>\n",
       "      <td>[[1, 88], [1286, 1486], [3282, 3482], [4480, 4...</td>\n",
       "      <td>[[1, 88], [259, 278], [310, 365], [366, 382], ...</td>\n",
       "      <td>[]</td>\n",
       "      <td>20240317_151922_long_comp_subj_3-1_and_3-3.1.v...</td>\n",
       "      <td>NaN</td>\n",
       "      <td>/scratch/back_up/reward_competition_extention/...</td>\n",
       "      <td>20240317_151922_long_comp_subj_3-3_t5b5_merged</td>\n",
       "      <td>3.3</td>\n",
       "      <td>...</td>\n",
       "      <td>[[0.9795295, 0.92010224, 0.9208842, 0.95480806...</td>\n",
       "      <td>[[0.37587917, 0.77335584, 0.7578621, 0.9200043...</td>\n",
       "      <td>[[0.9988069, 0.9959728, 0.9912375, 0.9786582, ...</td>\n",
       "      <td>[[0.99761665, 0.9637256, 0.9738427, 0.99587125...</td>\n",
       "      <td>[[0.2839897, 0.690091, 0.72793734, 0.97394633,...</td>\n",
       "      <td>[[0.9996997, 0.9824718, 0.9791998, 0.97131455,...</td>\n",
       "      <td>[[0.25900212, 0.63185, 0.654892, 0.9382397, 0....</td>\n",
       "      <td>[[0.24406572, 0.50392133, 0.59135556, 0.985619...</td>\n",
       "      <td>[10000, 20000, 30000, 40000, 50000, 60000, 700...</td>\n",
       "      <td>[0.0, 1.0, 2.0, 3.0, 4.0, 5.0, 6.0, 7.0, 8.0, ...</td>\n",
       "    </tr>\n",
       "    <tr>\n",
       "      <th>3</th>\n",
       "      <td>NaN</td>\n",
       "      <td>20240317_151922_long_comp_subj_3-1_and_3-3</td>\n",
       "      <td>[[2, 132], [1922, 2220], [4906, 5203], [6696, ...</td>\n",
       "      <td>[[2, 132], [387, 415], [463, 546], [548, 571],...</td>\n",
       "      <td>[]</td>\n",
       "      <td>20240317_151922_long_comp_subj_3-1_and_3-3.2.v...</td>\n",
       "      <td>NaN</td>\n",
       "      <td>/scratch/back_up/reward_competition_extention/...</td>\n",
       "      <td>20240317_151922_long_comp_subj_3-3_t5b5_merged</td>\n",
       "      <td>3.3</td>\n",
       "      <td>...</td>\n",
       "      <td>[[0.9795295, 0.92010224, 0.9208842, 0.95480806...</td>\n",
       "      <td>[[0.37587917, 0.77335584, 0.7578621, 0.9200043...</td>\n",
       "      <td>[[0.9988069, 0.9959728, 0.9912375, 0.9786582, ...</td>\n",
       "      <td>[[0.99761665, 0.9637256, 0.9738427, 0.99587125...</td>\n",
       "      <td>[[0.2839897, 0.690091, 0.72793734, 0.97394633,...</td>\n",
       "      <td>[[0.9996997, 0.9824718, 0.9791998, 0.97131455,...</td>\n",
       "      <td>[[0.25900212, 0.63185, 0.654892, 0.9382397, 0....</td>\n",
       "      <td>[[0.24406572, 0.50392133, 0.59135556, 0.985619...</td>\n",
       "      <td>[10000, 20000, 30000, 40000, 50000, 60000, 700...</td>\n",
       "      <td>[0.0, 1.0, 2.0, 3.0, 4.0, 5.0, 6.0, 7.0, 8.0, ...</td>\n",
       "    </tr>\n",
       "    <tr>\n",
       "      <th>4</th>\n",
       "      <td>NaN</td>\n",
       "      <td>20240317_172017_long_comp_subj_4-2_and_4-3</td>\n",
       "      <td>[[1, 102], [1300, 1501], [3297, 3497], [4494, ...</td>\n",
       "      <td>[[1, 102], [115, 153], [191, 245], [261, 263],...</td>\n",
       "      <td>[]</td>\n",
       "      <td>20240317_172017_long_comp_subj_4-2_and_4-3.1.v...</td>\n",
       "      <td>NaN</td>\n",
       "      <td>/scratch/back_up/reward_competition_extention/...</td>\n",
       "      <td>20240317_172017_long_comp_subj_4-2_t6b6_merged</td>\n",
       "      <td>4.2</td>\n",
       "      <td>...</td>\n",
       "      <td>[[0.99997205, 0.9993396, 0.99739885, 0.9957922...</td>\n",
       "      <td>[[0.9711642, 0.9737629, 0.981567, 0.9950619, 0...</td>\n",
       "      <td>[[0.98584706, 0.98912746, 0.9962417, 0.9971427...</td>\n",
       "      <td>[[0.9847638, 0.9640319, 0.9892336, 0.9837212, ...</td>\n",
       "      <td>[[0.9872652, 0.98198676, 0.9954629, 0.99331534...</td>\n",
       "      <td>[[0.9452574, 0.9179176, 0.9745894, 0.99191344,...</td>\n",
       "      <td>[[0.98568225, 0.9522139, 0.9862023, 0.9949253,...</td>\n",
       "      <td>[[0.97193545, 0.976451, 0.98838615, 0.9921904,...</td>\n",
       "      <td>[10000, 20000, 30000, 40000, 50000, 60000, 700...</td>\n",
       "      <td>[0.0, 1.0, 2.0, 3.0, 4.0, 5.0, 6.0, 7.0, 8.0, ...</td>\n",
       "    </tr>\n",
       "  </tbody>\n",
       "</table>\n",
       "<p>5 rows × 93 columns</p>\n",
       "</div>"
      ],
      "text/plain": [
       "   cohort                                 session_dir  \\\n",
       "0     NaN  20240317_151922_long_comp_subj_3-1_and_3-3   \n",
       "1     NaN  20240317_151922_long_comp_subj_3-1_and_3-3   \n",
       "2     NaN  20240317_151922_long_comp_subj_3-1_and_3-3   \n",
       "3     NaN  20240317_151922_long_comp_subj_3-1_and_3-3   \n",
       "4     NaN  20240317_172017_long_comp_subj_4-2_and_4-3   \n",
       "\n",
       "                                         tone_frames  \\\n",
       "0  [[1, 88], [1286, 1486], [3282, 3482], [4480, 4...   \n",
       "1  [[2, 132], [1922, 2220], [4906, 5203], [6696, ...   \n",
       "2  [[1, 88], [1286, 1486], [3282, 3482], [4480, 4...   \n",
       "3  [[2, 132], [1922, 2220], [4906, 5203], [6696, ...   \n",
       "4  [[1, 102], [1300, 1501], [3297, 3497], [4494, ...   \n",
       "\n",
       "                             box_1_port_entry_frames box_2_port_entry_frames  \\\n",
       "0  [[1, 88], [259, 278], [310, 365], [366, 382], ...                      []   \n",
       "1  [[2, 132], [387, 415], [463, 546], [548, 571],...                      []   \n",
       "2  [[1, 88], [259, 278], [310, 365], [366, 382], ...                      []   \n",
       "3  [[2, 132], [387, 415], [463, 546], [548, 571],...                      []   \n",
       "4  [[1, 102], [115, 153], [191, 245], [261, 263],...                      []   \n",
       "\n",
       "                                          video_name notes  \\\n",
       "0  20240317_151922_long_comp_subj_3-1_and_3-3.1.v...   NaN   \n",
       "1  20240317_151922_long_comp_subj_3-1_and_3-3.2.v...   NaN   \n",
       "2  20240317_151922_long_comp_subj_3-1_and_3-3.1.v...   NaN   \n",
       "3  20240317_151922_long_comp_subj_3-1_and_3-3.2.v...   NaN   \n",
       "4  20240317_172017_long_comp_subj_4-2_and_4-3.1.v...   NaN   \n",
       "\n",
       "                                        session_path  \\\n",
       "0  /scratch/back_up/reward_competition_extention/...   \n",
       "1  /scratch/back_up/reward_competition_extention/...   \n",
       "2  /scratch/back_up/reward_competition_extention/...   \n",
       "3  /scratch/back_up/reward_competition_extention/...   \n",
       "4  /scratch/back_up/reward_competition_extention/...   \n",
       "\n",
       "                                        recording current_subject  ...  \\\n",
       "0  20240317_151922_long_comp_subj_3-1_t6b6_merged             3.1  ...   \n",
       "1  20240317_151922_long_comp_subj_3-1_t6b6_merged             3.1  ...   \n",
       "2  20240317_151922_long_comp_subj_3-3_t5b5_merged             3.3  ...   \n",
       "3  20240317_151922_long_comp_subj_3-3_t5b5_merged             3.3  ...   \n",
       "4  20240317_172017_long_comp_subj_4-2_t6b6_merged             4.2  ...   \n",
       "\n",
       "      BLA_mPFC_coherence_all_frequencies_all_windows  \\\n",
       "0  [[0.97476727, 0.9552079, 0.9898461, 0.99497, 0...   \n",
       "1  [[0.97476727, 0.9552079, 0.9898461, 0.99497, 0...   \n",
       "2  [[0.9795295, 0.92010224, 0.9208842, 0.95480806...   \n",
       "3  [[0.9795295, 0.92010224, 0.9208842, 0.95480806...   \n",
       "4  [[0.99997205, 0.9993396, 0.99739885, 0.9957922...   \n",
       "\n",
       "      BLA_vHPC_coherence_all_frequencies_all_windows  \\\n",
       "0  [[0.27993318, 0.28660965, 0.92280686, 0.994024...   \n",
       "1  [[0.27993318, 0.28660965, 0.92280686, 0.994024...   \n",
       "2  [[0.37587917, 0.77335584, 0.7578621, 0.9200043...   \n",
       "3  [[0.37587917, 0.77335584, 0.7578621, 0.9200043...   \n",
       "4  [[0.9711642, 0.9737629, 0.981567, 0.9950619, 0...   \n",
       "\n",
       "         LH_MD_coherence_all_frequencies_all_windows  \\\n",
       "0  [[0.9971566, 0.95990616, 0.9832427, 0.9805603,...   \n",
       "1  [[0.9971566, 0.95990616, 0.9832427, 0.9805603,...   \n",
       "2  [[0.9988069, 0.9959728, 0.9912375, 0.9786582, ...   \n",
       "3  [[0.9988069, 0.9959728, 0.9912375, 0.9786582, ...   \n",
       "4  [[0.98584706, 0.98912746, 0.9962417, 0.9971427...   \n",
       "\n",
       "       LH_mPFC_coherence_all_frequencies_all_windows  \\\n",
       "0  [[0.9249496, 0.9829557, 0.99013513, 0.9955212,...   \n",
       "1  [[0.9249496, 0.9829557, 0.99013513, 0.9955212,...   \n",
       "2  [[0.99761665, 0.9637256, 0.9738427, 0.99587125...   \n",
       "3  [[0.99761665, 0.9637256, 0.9738427, 0.99587125...   \n",
       "4  [[0.9847638, 0.9640319, 0.9892336, 0.9837212, ...   \n",
       "\n",
       "       LH_vHPC_coherence_all_frequencies_all_windows  \\\n",
       "0  [[0.060117207, 0.12890075, 0.8475753, 0.995610...   \n",
       "1  [[0.060117207, 0.12890075, 0.8475753, 0.995610...   \n",
       "2  [[0.2839897, 0.690091, 0.72793734, 0.97394633,...   \n",
       "3  [[0.2839897, 0.690091, 0.72793734, 0.97394633,...   \n",
       "4  [[0.9872652, 0.98198676, 0.9954629, 0.99331534...   \n",
       "\n",
       "       MD_mPFC_coherence_all_frequencies_all_windows  \\\n",
       "0  [[0.9391111, 0.95470643, 0.97677666, 0.9876435...   \n",
       "1  [[0.9391111, 0.95470643, 0.97677666, 0.9876435...   \n",
       "2  [[0.9996997, 0.9824718, 0.9791998, 0.97131455,...   \n",
       "3  [[0.9996997, 0.9824718, 0.9791998, 0.97131455,...   \n",
       "4  [[0.9452574, 0.9179176, 0.9745894, 0.99191344,...   \n",
       "\n",
       "       MD_vHPC_coherence_all_frequencies_all_windows  \\\n",
       "0  [[0.060699753, 0.048701867, 0.7767016, 0.96149...   \n",
       "1  [[0.060699753, 0.048701867, 0.7767016, 0.96149...   \n",
       "2  [[0.25900212, 0.63185, 0.654892, 0.9382397, 0....   \n",
       "3  [[0.25900212, 0.63185, 0.654892, 0.9382397, 0....   \n",
       "4  [[0.98568225, 0.9522139, 0.9862023, 0.9949253,...   \n",
       "\n",
       "     mPFC_vHPC_coherence_all_frequencies_all_windows  \\\n",
       "0  [[0.20586579, 0.14527641, 0.8650719, 0.9835180...   \n",
       "1  [[0.20586579, 0.14527641, 0.8650719, 0.9835180...   \n",
       "2  [[0.24406572, 0.50392133, 0.59135556, 0.985619...   \n",
       "3  [[0.24406572, 0.50392133, 0.59135556, 0.985619...   \n",
       "4  [[0.97193545, 0.976451, 0.98838615, 0.9921904,...   \n",
       "\n",
       "                                coherence_timestamps  \\\n",
       "0  [10000, 20000, 30000, 40000, 50000, 60000, 700...   \n",
       "1  [10000, 20000, 30000, 40000, 50000, 60000, 700...   \n",
       "2  [10000, 20000, 30000, 40000, 50000, 60000, 700...   \n",
       "3  [10000, 20000, 30000, 40000, 50000, 60000, 700...   \n",
       "4  [10000, 20000, 30000, 40000, 50000, 60000, 700...   \n",
       "\n",
       "                   coherence_calculation_frequencies  \n",
       "0  [0.0, 1.0, 2.0, 3.0, 4.0, 5.0, 6.0, 7.0, 8.0, ...  \n",
       "1  [0.0, 1.0, 2.0, 3.0, 4.0, 5.0, 6.0, 7.0, 8.0, ...  \n",
       "2  [0.0, 1.0, 2.0, 3.0, 4.0, 5.0, 6.0, 7.0, 8.0, ...  \n",
       "3  [0.0, 1.0, 2.0, 3.0, 4.0, 5.0, 6.0, 7.0, 8.0, ...  \n",
       "4  [0.0, 1.0, 2.0, 3.0, 4.0, 5.0, 6.0, 7.0, 8.0, ...  \n",
       "\n",
       "[5 rows x 93 columns]"
      ]
     },
     "execution_count": 84,
     "metadata": {},
     "output_type": "execute_result"
    }
   ],
   "source": [
    "LFP_TRACES_DF.head()"
   ]
  },
  {
   "cell_type": "code",
   "execution_count": 85,
   "metadata": {},
   "outputs": [],
   "source": [
    "# LFP_TRACES_DF.to_pickle(\"./proc/rce2_spectral_granger.pkl\")\n",
    "LFP_TRACES_DF.to_pickle(\"./proc/{}_02_full_spectral.pkl\".format(OUTPUT_PREFIX))\n",
    "# LFP_TRACES_DF.to_pickle(\"/blue/npadillacoreano/ryoi360/projects/reward_comp/final_proc/rce_pilot_2_02_spectral_granger.pkl\")"
   ]
  },
  {
   "cell_type": "markdown",
   "metadata": {},
   "source": [
    "# Calculate Granger's"
   ]
  },
  {
   "cell_type": "code",
   "execution_count": 86,
   "metadata": {
    "tags": []
   },
   "outputs": [
    {
     "name": "stdout",
     "output_type": "stream",
     "text": [
      "BLA_LH\n"
     ]
    },
    {
     "name": "stderr",
     "output_type": "stream",
     "text": [
      "Computing the initial conditions using the Cholesky failed. Using a random initial condition.\n",
      "Maximum iterations reached. 4131 of 4581 converged\n",
      "Computing the initial conditions using the Cholesky failed. Using a random initial condition.\n"
     ]
    },
    {
     "ename": "KeyboardInterrupt",
     "evalue": "",
     "output_type": "error",
     "traceback": [
      "\u001b[0;31m---------------------------------------------------------------------------\u001b[0m",
      "\u001b[0;31mKeyboardInterrupt\u001b[0m                         Traceback (most recent call last)",
      "    \u001b[0;31m[... skipping hidden 1 frame]\u001b[0m\n",
      "Cell \u001b[0;32mIn[86], line 39\u001b[0m\n\u001b[1;32m     35\u001b[0m LFP_TRACES_DF[frequencies_col] \u001b[38;5;241m=\u001b[39m LFP_TRACES_DF[connectivity_col]\u001b[38;5;241m.\u001b[39mapply(\n\u001b[1;32m     36\u001b[0m     \u001b[38;5;28;01mlambda\u001b[39;00m x: x\u001b[38;5;241m.\u001b[39mfrequencies\n\u001b[1;32m     37\u001b[0m )\n\u001b[0;32m---> 39\u001b[0m LFP_TRACES_DF[granger_1_2_col] \u001b[38;5;241m=\u001b[39m \u001b[43mLFP_TRACES_DF\u001b[49m\u001b[43m[\u001b[49m\u001b[43mconnectivity_col\u001b[49m\u001b[43m]\u001b[49m\u001b[38;5;241;43m.\u001b[39;49m\u001b[43mapply\u001b[49m\u001b[43m(\u001b[49m\n\u001b[1;32m     40\u001b[0m \u001b[43m    \u001b[49m\u001b[38;5;28;43;01mlambda\u001b[39;49;00m\u001b[43m \u001b[49m\u001b[43mx\u001b[49m\u001b[43m:\u001b[49m\u001b[43m \u001b[49m\u001b[43mx\u001b[49m\u001b[38;5;241;43m.\u001b[39;49m\u001b[43mpairwise_spectral_granger_prediction\u001b[49m\u001b[43m(\u001b[49m\u001b[43m)\u001b[49m\u001b[43m[\u001b[49m\u001b[43m:\u001b[49m\u001b[43m,\u001b[49m\u001b[43m:\u001b[49m\u001b[43m,\u001b[49m\u001b[38;5;241;43m0\u001b[39;49m\u001b[43m,\u001b[49m\u001b[38;5;241;43m1\u001b[39;49m\u001b[43m]\u001b[49m\n\u001b[1;32m     41\u001b[0m \u001b[43m\u001b[49m\u001b[43m)\u001b[49m\n\u001b[1;32m     43\u001b[0m LFP_TRACES_DF[granger_2_1_col] \u001b[38;5;241m=\u001b[39m LFP_TRACES_DF[connectivity_col]\u001b[38;5;241m.\u001b[39mapply(\n\u001b[1;32m     44\u001b[0m     \u001b[38;5;28;01mlambda\u001b[39;00m x: x\u001b[38;5;241m.\u001b[39mpairwise_spectral_granger_prediction()[:,:,\u001b[38;5;241m1\u001b[39m,\u001b[38;5;241m0\u001b[39m]\n\u001b[1;32m     45\u001b[0m )\n",
      "File \u001b[0;32m/blue/npadillacoreano/ryoi360/conda/spike_interface_0_100_8/lib/python3.10/site-packages/pandas/core/series.py:4924\u001b[0m, in \u001b[0;36mSeries.apply\u001b[0;34m(self, func, convert_dtype, args, by_row, **kwargs)\u001b[0m\n\u001b[1;32m   4798\u001b[0m \u001b[38;5;250m\u001b[39m\u001b[38;5;124;03m\"\"\"\u001b[39;00m\n\u001b[1;32m   4799\u001b[0m \u001b[38;5;124;03mInvoke function on values of Series.\u001b[39;00m\n\u001b[1;32m   4800\u001b[0m \n\u001b[0;32m   (...)\u001b[0m\n\u001b[1;32m   4915\u001b[0m \u001b[38;5;124;03mdtype: float64\u001b[39;00m\n\u001b[1;32m   4916\u001b[0m \u001b[38;5;124;03m\"\"\"\u001b[39;00m\n\u001b[1;32m   4917\u001b[0m \u001b[38;5;28;01mreturn\u001b[39;00m \u001b[43mSeriesApply\u001b[49m\u001b[43m(\u001b[49m\n\u001b[1;32m   4918\u001b[0m \u001b[43m    \u001b[49m\u001b[38;5;28;43mself\u001b[39;49m\u001b[43m,\u001b[49m\n\u001b[1;32m   4919\u001b[0m \u001b[43m    \u001b[49m\u001b[43mfunc\u001b[49m\u001b[43m,\u001b[49m\n\u001b[1;32m   4920\u001b[0m \u001b[43m    \u001b[49m\u001b[43mconvert_dtype\u001b[49m\u001b[38;5;241;43m=\u001b[39;49m\u001b[43mconvert_dtype\u001b[49m\u001b[43m,\u001b[49m\n\u001b[1;32m   4921\u001b[0m \u001b[43m    \u001b[49m\u001b[43mby_row\u001b[49m\u001b[38;5;241;43m=\u001b[39;49m\u001b[43mby_row\u001b[49m\u001b[43m,\u001b[49m\n\u001b[1;32m   4922\u001b[0m \u001b[43m    \u001b[49m\u001b[43margs\u001b[49m\u001b[38;5;241;43m=\u001b[39;49m\u001b[43margs\u001b[49m\u001b[43m,\u001b[49m\n\u001b[1;32m   4923\u001b[0m \u001b[43m    \u001b[49m\u001b[43mkwargs\u001b[49m\u001b[38;5;241;43m=\u001b[39;49m\u001b[43mkwargs\u001b[49m\u001b[43m,\u001b[49m\n\u001b[0;32m-> 4924\u001b[0m \u001b[43m\u001b[49m\u001b[43m)\u001b[49m\u001b[38;5;241;43m.\u001b[39;49m\u001b[43mapply\u001b[49m\u001b[43m(\u001b[49m\u001b[43m)\u001b[49m\n",
      "File \u001b[0;32m/blue/npadillacoreano/ryoi360/conda/spike_interface_0_100_8/lib/python3.10/site-packages/pandas/core/apply.py:1427\u001b[0m, in \u001b[0;36mSeriesApply.apply\u001b[0;34m(self)\u001b[0m\n\u001b[1;32m   1426\u001b[0m \u001b[38;5;66;03m# self.func is Callable\u001b[39;00m\n\u001b[0;32m-> 1427\u001b[0m \u001b[38;5;28;01mreturn\u001b[39;00m \u001b[38;5;28;43mself\u001b[39;49m\u001b[38;5;241;43m.\u001b[39;49m\u001b[43mapply_standard\u001b[49m\u001b[43m(\u001b[49m\u001b[43m)\u001b[49m\n",
      "File \u001b[0;32m/blue/npadillacoreano/ryoi360/conda/spike_interface_0_100_8/lib/python3.10/site-packages/pandas/core/apply.py:1507\u001b[0m, in \u001b[0;36mSeriesApply.apply_standard\u001b[0;34m(self)\u001b[0m\n\u001b[1;32m   1506\u001b[0m action \u001b[38;5;241m=\u001b[39m \u001b[38;5;124m\"\u001b[39m\u001b[38;5;124mignore\u001b[39m\u001b[38;5;124m\"\u001b[39m \u001b[38;5;28;01mif\u001b[39;00m \u001b[38;5;28misinstance\u001b[39m(obj\u001b[38;5;241m.\u001b[39mdtype, CategoricalDtype) \u001b[38;5;28;01melse\u001b[39;00m \u001b[38;5;28;01mNone\u001b[39;00m\n\u001b[0;32m-> 1507\u001b[0m mapped \u001b[38;5;241m=\u001b[39m \u001b[43mobj\u001b[49m\u001b[38;5;241;43m.\u001b[39;49m\u001b[43m_map_values\u001b[49m\u001b[43m(\u001b[49m\n\u001b[1;32m   1508\u001b[0m \u001b[43m    \u001b[49m\u001b[43mmapper\u001b[49m\u001b[38;5;241;43m=\u001b[39;49m\u001b[43mcurried\u001b[49m\u001b[43m,\u001b[49m\u001b[43m \u001b[49m\u001b[43mna_action\u001b[49m\u001b[38;5;241;43m=\u001b[39;49m\u001b[43maction\u001b[49m\u001b[43m,\u001b[49m\u001b[43m \u001b[49m\u001b[43mconvert\u001b[49m\u001b[38;5;241;43m=\u001b[39;49m\u001b[38;5;28;43mself\u001b[39;49m\u001b[38;5;241;43m.\u001b[39;49m\u001b[43mconvert_dtype\u001b[49m\n\u001b[1;32m   1509\u001b[0m \u001b[43m\u001b[49m\u001b[43m)\u001b[49m\n\u001b[1;32m   1511\u001b[0m \u001b[38;5;28;01mif\u001b[39;00m \u001b[38;5;28mlen\u001b[39m(mapped) \u001b[38;5;129;01mand\u001b[39;00m \u001b[38;5;28misinstance\u001b[39m(mapped[\u001b[38;5;241m0\u001b[39m], ABCSeries):\n\u001b[1;32m   1512\u001b[0m     \u001b[38;5;66;03m# GH#43986 Need to do list(mapped) in order to get treated as nested\u001b[39;00m\n\u001b[1;32m   1513\u001b[0m     \u001b[38;5;66;03m#  See also GH#25959 regarding EA support\u001b[39;00m\n",
      "File \u001b[0;32m/blue/npadillacoreano/ryoi360/conda/spike_interface_0_100_8/lib/python3.10/site-packages/pandas/core/base.py:921\u001b[0m, in \u001b[0;36mIndexOpsMixin._map_values\u001b[0;34m(self, mapper, na_action, convert)\u001b[0m\n\u001b[1;32m    919\u001b[0m     \u001b[38;5;28;01mreturn\u001b[39;00m arr\u001b[38;5;241m.\u001b[39mmap(mapper, na_action\u001b[38;5;241m=\u001b[39mna_action)\n\u001b[0;32m--> 921\u001b[0m \u001b[38;5;28;01mreturn\u001b[39;00m \u001b[43malgorithms\u001b[49m\u001b[38;5;241;43m.\u001b[39;49m\u001b[43mmap_array\u001b[49m\u001b[43m(\u001b[49m\u001b[43marr\u001b[49m\u001b[43m,\u001b[49m\u001b[43m \u001b[49m\u001b[43mmapper\u001b[49m\u001b[43m,\u001b[49m\u001b[43m \u001b[49m\u001b[43mna_action\u001b[49m\u001b[38;5;241;43m=\u001b[39;49m\u001b[43mna_action\u001b[49m\u001b[43m,\u001b[49m\u001b[43m \u001b[49m\u001b[43mconvert\u001b[49m\u001b[38;5;241;43m=\u001b[39;49m\u001b[43mconvert\u001b[49m\u001b[43m)\u001b[49m\n",
      "File \u001b[0;32m/blue/npadillacoreano/ryoi360/conda/spike_interface_0_100_8/lib/python3.10/site-packages/pandas/core/algorithms.py:1743\u001b[0m, in \u001b[0;36mmap_array\u001b[0;34m(arr, mapper, na_action, convert)\u001b[0m\n\u001b[1;32m   1742\u001b[0m \u001b[38;5;28;01mif\u001b[39;00m na_action \u001b[38;5;129;01mis\u001b[39;00m \u001b[38;5;28;01mNone\u001b[39;00m:\n\u001b[0;32m-> 1743\u001b[0m     \u001b[38;5;28;01mreturn\u001b[39;00m \u001b[43mlib\u001b[49m\u001b[38;5;241;43m.\u001b[39;49m\u001b[43mmap_infer\u001b[49m\u001b[43m(\u001b[49m\u001b[43mvalues\u001b[49m\u001b[43m,\u001b[49m\u001b[43m \u001b[49m\u001b[43mmapper\u001b[49m\u001b[43m,\u001b[49m\u001b[43m \u001b[49m\u001b[43mconvert\u001b[49m\u001b[38;5;241;43m=\u001b[39;49m\u001b[43mconvert\u001b[49m\u001b[43m)\u001b[49m\n\u001b[1;32m   1744\u001b[0m \u001b[38;5;28;01melse\u001b[39;00m:\n",
      "File \u001b[0;32mlib.pyx:2972\u001b[0m, in \u001b[0;36mpandas._libs.lib.map_infer\u001b[0;34m()\u001b[0m\n",
      "Cell \u001b[0;32mIn[86], line 40\u001b[0m, in \u001b[0;36m<lambda>\u001b[0;34m(x)\u001b[0m\n\u001b[1;32m     35\u001b[0m LFP_TRACES_DF[frequencies_col] \u001b[38;5;241m=\u001b[39m LFP_TRACES_DF[connectivity_col]\u001b[38;5;241m.\u001b[39mapply(\n\u001b[1;32m     36\u001b[0m     \u001b[38;5;28;01mlambda\u001b[39;00m x: x\u001b[38;5;241m.\u001b[39mfrequencies\n\u001b[1;32m     37\u001b[0m )\n\u001b[1;32m     39\u001b[0m LFP_TRACES_DF[granger_1_2_col] \u001b[38;5;241m=\u001b[39m LFP_TRACES_DF[connectivity_col]\u001b[38;5;241m.\u001b[39mapply(\n\u001b[0;32m---> 40\u001b[0m     \u001b[38;5;28;01mlambda\u001b[39;00m x: \u001b[43mx\u001b[49m\u001b[38;5;241;43m.\u001b[39;49m\u001b[43mpairwise_spectral_granger_prediction\u001b[49m\u001b[43m(\u001b[49m\u001b[43m)\u001b[49m[:,:,\u001b[38;5;241m0\u001b[39m,\u001b[38;5;241m1\u001b[39m]\n\u001b[1;32m     41\u001b[0m )\n\u001b[1;32m     43\u001b[0m LFP_TRACES_DF[granger_2_1_col] \u001b[38;5;241m=\u001b[39m LFP_TRACES_DF[connectivity_col]\u001b[38;5;241m.\u001b[39mapply(\n\u001b[1;32m     44\u001b[0m     \u001b[38;5;28;01mlambda\u001b[39;00m x: x\u001b[38;5;241m.\u001b[39mpairwise_spectral_granger_prediction()[:,:,\u001b[38;5;241m1\u001b[39m,\u001b[38;5;241m0\u001b[39m]\n\u001b[1;32m     45\u001b[0m )\n",
      "File \u001b[0;32m/blue/npadillacoreano/ryoi360/conda/spike_interface_0_100_8/lib/python3.10/site-packages/spectral_connectivity/connectivity.py:61\u001b[0m, in \u001b[0;36m_asnumpy.<locals>.wrapper\u001b[0;34m(*args, **kwargs)\u001b[0m\n\u001b[1;32m     59\u001b[0m \u001b[38;5;129m@wraps\u001b[39m(connectivity_measure)\n\u001b[1;32m     60\u001b[0m \u001b[38;5;28;01mdef\u001b[39;00m \u001b[38;5;21mwrapper\u001b[39m(\u001b[38;5;241m*\u001b[39margs, \u001b[38;5;241m*\u001b[39m\u001b[38;5;241m*\u001b[39mkwargs):\n\u001b[0;32m---> 61\u001b[0m     measure \u001b[38;5;241m=\u001b[39m \u001b[43mconnectivity_measure\u001b[49m\u001b[43m(\u001b[49m\u001b[38;5;241;43m*\u001b[39;49m\u001b[43margs\u001b[49m\u001b[43m,\u001b[49m\u001b[43m \u001b[49m\u001b[38;5;241;43m*\u001b[39;49m\u001b[38;5;241;43m*\u001b[39;49m\u001b[43mkwargs\u001b[49m\u001b[43m)\u001b[49m\n\u001b[1;32m     62\u001b[0m     \u001b[38;5;28;01mif\u001b[39;00m measure \u001b[38;5;129;01mis\u001b[39;00m \u001b[38;5;129;01mnot\u001b[39;00m \u001b[38;5;28;01mNone\u001b[39;00m:\n",
      "File \u001b[0;32m/blue/npadillacoreano/ryoi360/conda/spike_interface_0_100_8/lib/python3.10/site-packages/spectral_connectivity/connectivity.py:726\u001b[0m, in \u001b[0;36mConnectivity.pairwise_spectral_granger_prediction\u001b[0;34m(self)\u001b[0m\n\u001b[1;32m    725\u001b[0m \u001b[38;5;28;01mtry\u001b[39;00m:\n\u001b[0;32m--> 726\u001b[0m     minimum_phase_factor \u001b[38;5;241m=\u001b[39m \u001b[43mminimum_phase_decomposition\u001b[49m\u001b[43m(\u001b[49m\n\u001b[1;32m    727\u001b[0m \u001b[43m        \u001b[49m\u001b[43mcross_spectral_matrix\u001b[49m\u001b[43m[\u001b[49m\u001b[38;5;241;43m.\u001b[39;49m\u001b[38;5;241;43m.\u001b[39;49m\u001b[38;5;241;43m.\u001b[39;49m\u001b[43m,\u001b[49m\u001b[43m \u001b[49m\u001b[43mpair_indices\u001b[49m\u001b[43m,\u001b[49m\u001b[43m \u001b[49m\u001b[43mpair_indices\u001b[49m\u001b[38;5;241;43m.\u001b[39;49m\u001b[43mT\u001b[49m\u001b[43m]\u001b[49m\n\u001b[1;32m    728\u001b[0m \u001b[43m    \u001b[49m\u001b[43m)\u001b[49m\n\u001b[1;32m    729\u001b[0m     transfer_function \u001b[38;5;241m=\u001b[39m _estimate_transfer_function(minimum_phase_factor)[\n\u001b[1;32m    730\u001b[0m         \u001b[38;5;241m.\u001b[39m\u001b[38;5;241m.\u001b[39m\u001b[38;5;241m.\u001b[39m, non_neg_index, :, :\n\u001b[1;32m    731\u001b[0m     ]\n",
      "File \u001b[0;32m/blue/npadillacoreano/ryoi360/conda/spike_interface_0_100_8/lib/python3.10/site-packages/spectral_connectivity/minimum_phase_decomposition.py:200\u001b[0m, in \u001b[0;36mminimum_phase_decomposition\u001b[0;34m(cross_spectral_matrix, tolerance, max_iterations)\u001b[0m\n\u001b[1;32m    199\u001b[0m old_minimum_phase_factor \u001b[38;5;241m=\u001b[39m minimum_phase_factor\u001b[38;5;241m.\u001b[39mcopy()\n\u001b[0;32m--> 200\u001b[0m linear_predictor \u001b[38;5;241m=\u001b[39m \u001b[43m_get_linear_predictor\u001b[49m\u001b[43m(\u001b[49m\n\u001b[1;32m    201\u001b[0m \u001b[43m    \u001b[49m\u001b[43mminimum_phase_factor\u001b[49m\u001b[43m,\u001b[49m\u001b[43m \u001b[49m\u001b[43mcross_spectral_matrix\u001b[49m\u001b[43m,\u001b[49m\u001b[43m \u001b[49m\u001b[43mI\u001b[49m\n\u001b[1;32m    202\u001b[0m \u001b[43m\u001b[49m\u001b[43m)\u001b[49m\n\u001b[1;32m    203\u001b[0m minimum_phase_factor \u001b[38;5;241m=\u001b[39m xp\u001b[38;5;241m.\u001b[39mmatmul(\n\u001b[1;32m    204\u001b[0m     minimum_phase_factor, _get_causal_signal(linear_predictor)\n\u001b[1;32m    205\u001b[0m )\n",
      "\u001b[0;31mKeyboardInterrupt\u001b[0m: ",
      "\nDuring handling of the above exception, another exception occurred:\n",
      "\u001b[0;31mKeyboardInterrupt\u001b[0m                         Traceback (most recent call last)",
      "File \u001b[0;32m/blue/npadillacoreano/ryoi360/conda/spike_interface_0_100_8/lib/python3.10/site-packages/IPython/core/interactiveshell.py:2179\u001b[0m, in \u001b[0;36mInteractiveShell.showtraceback\u001b[0;34m(self, exc_tuple, filename, tb_offset, exception_only, running_compiled_code)\u001b[0m\n\u001b[1;32m   2177\u001b[0m         \u001b[38;5;28;01mreturn\u001b[39;00m \u001b[38;5;28;01mNone\u001b[39;00m\n\u001b[0;32m-> 2179\u001b[0m     \u001b[38;5;28;43mself\u001b[39;49m\u001b[38;5;241;43m.\u001b[39;49m\u001b[43m_showtraceback\u001b[49m\u001b[43m(\u001b[49m\u001b[43metype\u001b[49m\u001b[43m,\u001b[49m\u001b[43m \u001b[49m\u001b[43mvalue\u001b[49m\u001b[43m,\u001b[49m\u001b[43m \u001b[49m\u001b[43mstb\u001b[49m\u001b[43m)\u001b[49m\n\u001b[1;32m   2180\u001b[0m \u001b[38;5;28;01mif\u001b[39;00m \u001b[38;5;28mself\u001b[39m\u001b[38;5;241m.\u001b[39mcall_pdb:\n\u001b[1;32m   2181\u001b[0m     \u001b[38;5;66;03m# drop into debugger\u001b[39;00m\n",
      "File \u001b[0;32m/blue/npadillacoreano/ryoi360/conda/spike_interface_0_100_8/lib/python3.10/site-packages/ipykernel/zmqshell.py:569\u001b[0m, in \u001b[0;36mZMQInteractiveShell._showtraceback\u001b[0;34m(self, etype, evalue, stb)\u001b[0m\n\u001b[1;32m    567\u001b[0m     topic \u001b[38;5;241m=\u001b[39m dh\u001b[38;5;241m.\u001b[39mtopic\u001b[38;5;241m.\u001b[39mreplace(\u001b[38;5;124mb\u001b[39m\u001b[38;5;124m\"\u001b[39m\u001b[38;5;124mexecute_result\u001b[39m\u001b[38;5;124m\"\u001b[39m, \u001b[38;5;124mb\u001b[39m\u001b[38;5;124m\"\u001b[39m\u001b[38;5;124merror\u001b[39m\u001b[38;5;124m\"\u001b[39m)  \u001b[38;5;66;03m# type:ignore[attr-defined]\u001b[39;00m\n\u001b[0;32m--> 569\u001b[0m \u001b[43mdh\u001b[49m\u001b[38;5;241;43m.\u001b[39;49m\u001b[43msession\u001b[49m\u001b[38;5;241;43m.\u001b[39;49m\u001b[43msend\u001b[49m\u001b[43m(\u001b[49m\u001b[43m  \u001b[49m\u001b[38;5;66;43;03m# type:ignore[attr-defined]\u001b[39;49;00m\n\u001b[1;32m    570\u001b[0m \u001b[43m    \u001b[49m\u001b[43mdh\u001b[49m\u001b[38;5;241;43m.\u001b[39;49m\u001b[43mpub_socket\u001b[49m\u001b[43m,\u001b[49m\u001b[43m  \u001b[49m\u001b[38;5;66;43;03m# type:ignore[attr-defined]\u001b[39;49;00m\n\u001b[1;32m    571\u001b[0m \u001b[43m    \u001b[49m\u001b[38;5;124;43m\"\u001b[39;49m\u001b[38;5;124;43merror\u001b[39;49m\u001b[38;5;124;43m\"\u001b[39;49m\u001b[43m,\u001b[49m\n\u001b[1;32m    572\u001b[0m \u001b[43m    \u001b[49m\u001b[43mjson_clean\u001b[49m\u001b[43m(\u001b[49m\u001b[43mexc_content\u001b[49m\u001b[43m)\u001b[49m\u001b[43m,\u001b[49m\n\u001b[1;32m    573\u001b[0m \u001b[43m    \u001b[49m\u001b[43mdh\u001b[49m\u001b[38;5;241;43m.\u001b[39;49m\u001b[43mparent_header\u001b[49m\u001b[43m,\u001b[49m\u001b[43m  \u001b[49m\u001b[38;5;66;43;03m# type:ignore[attr-defined]\u001b[39;49;00m\n\u001b[1;32m    574\u001b[0m \u001b[43m    \u001b[49m\u001b[43mident\u001b[49m\u001b[38;5;241;43m=\u001b[39;49m\u001b[43mtopic\u001b[49m\u001b[43m,\u001b[49m\n\u001b[1;32m    575\u001b[0m \u001b[43m\u001b[49m\u001b[43m)\u001b[49m\n\u001b[1;32m    577\u001b[0m \u001b[38;5;66;03m# FIXME - Once we rely on Python 3, the traceback is stored on the\u001b[39;00m\n\u001b[1;32m    578\u001b[0m \u001b[38;5;66;03m# exception object, so we shouldn't need to store it here.\u001b[39;00m\n",
      "File \u001b[0;32m/blue/npadillacoreano/ryoi360/conda/spike_interface_0_100_8/lib/python3.10/site-packages/jupyter_client/session.py:852\u001b[0m, in \u001b[0;36mSession.send\u001b[0;34m(self, stream, msg_or_type, content, parent, ident, buffers, track, header, metadata)\u001b[0m\n\u001b[1;32m    851\u001b[0m     msg \u001b[38;5;241m=\u001b[39m adapt(msg, \u001b[38;5;28mself\u001b[39m\u001b[38;5;241m.\u001b[39madapt_version)\n\u001b[0;32m--> 852\u001b[0m to_send \u001b[38;5;241m=\u001b[39m \u001b[38;5;28;43mself\u001b[39;49m\u001b[38;5;241;43m.\u001b[39;49m\u001b[43mserialize\u001b[49m\u001b[43m(\u001b[49m\u001b[43mmsg\u001b[49m\u001b[43m,\u001b[49m\u001b[43m \u001b[49m\u001b[43mident\u001b[49m\u001b[43m)\u001b[49m\n\u001b[1;32m    853\u001b[0m to_send\u001b[38;5;241m.\u001b[39mextend(buffers)\n",
      "File \u001b[0;32m/blue/npadillacoreano/ryoi360/conda/spike_interface_0_100_8/lib/python3.10/site-packages/jupyter_client/session.py:747\u001b[0m, in \u001b[0;36mSession.serialize\u001b[0;34m(self, msg, ident)\u001b[0m\n\u001b[1;32m    745\u001b[0m to_send\u001b[38;5;241m.\u001b[39mappend(DELIM)\n\u001b[0;32m--> 747\u001b[0m signature \u001b[38;5;241m=\u001b[39m \u001b[38;5;28;43mself\u001b[39;49m\u001b[38;5;241;43m.\u001b[39;49m\u001b[43msign\u001b[49m\u001b[43m(\u001b[49m\u001b[43mreal_message\u001b[49m\u001b[43m)\u001b[49m\n\u001b[1;32m    748\u001b[0m to_send\u001b[38;5;241m.\u001b[39mappend(signature)\n",
      "File \u001b[0;32m/blue/npadillacoreano/ryoi360/conda/spike_interface_0_100_8/lib/python3.10/site-packages/jupyter_client/session.py:685\u001b[0m, in \u001b[0;36mSession.sign\u001b[0;34m(self, msg_list)\u001b[0m\n\u001b[1;32m    684\u001b[0m     \u001b[38;5;28;01mreturn\u001b[39;00m \u001b[38;5;124mb\u001b[39m\u001b[38;5;124m\"\u001b[39m\u001b[38;5;124m\"\u001b[39m\n\u001b[0;32m--> 685\u001b[0m h \u001b[38;5;241m=\u001b[39m \u001b[38;5;28;43mself\u001b[39;49m\u001b[38;5;241;43m.\u001b[39;49m\u001b[43mauth\u001b[49m\u001b[38;5;241;43m.\u001b[39;49m\u001b[43mcopy\u001b[49m\u001b[43m(\u001b[49m\u001b[43m)\u001b[49m\n\u001b[1;32m    686\u001b[0m \u001b[38;5;28;01mfor\u001b[39;00m m \u001b[38;5;129;01min\u001b[39;00m msg_list:\n",
      "File \u001b[0;32m/blue/npadillacoreano/ryoi360/conda/spike_interface_0_100_8/lib/python3.10/hmac.py:131\u001b[0m, in \u001b[0;36mHMAC.copy\u001b[0;34m(self)\u001b[0m\n\u001b[1;32m    130\u001b[0m \u001b[38;5;28;01mif\u001b[39;00m \u001b[38;5;28mself\u001b[39m\u001b[38;5;241m.\u001b[39m_hmac:\n\u001b[0;32m--> 131\u001b[0m     other\u001b[38;5;241m.\u001b[39m_hmac \u001b[38;5;241m=\u001b[39m \u001b[38;5;28;43mself\u001b[39;49m\u001b[38;5;241;43m.\u001b[39;49m\u001b[43m_hmac\u001b[49m\u001b[38;5;241;43m.\u001b[39;49m\u001b[43mcopy\u001b[49m\u001b[43m(\u001b[49m\u001b[43m)\u001b[49m\n\u001b[1;32m    132\u001b[0m     other\u001b[38;5;241m.\u001b[39m_inner \u001b[38;5;241m=\u001b[39m other\u001b[38;5;241m.\u001b[39m_outer \u001b[38;5;241m=\u001b[39m \u001b[38;5;28;01mNone\u001b[39;00m\n",
      "\u001b[0;31mKeyboardInterrupt\u001b[0m: ",
      "\nDuring handling of the above exception, another exception occurred:\n",
      "\u001b[0;31mKeyboardInterrupt\u001b[0m                         Traceback (most recent call last)",
      "    \u001b[0;31m[... skipping hidden 1 frame]\u001b[0m\n",
      "File \u001b[0;32m/blue/npadillacoreano/ryoi360/conda/spike_interface_0_100_8/lib/python3.10/site-packages/IPython/core/interactiveshell.py:2179\u001b[0m, in \u001b[0;36mInteractiveShell.showtraceback\u001b[0;34m(self, exc_tuple, filename, tb_offset, exception_only, running_compiled_code)\u001b[0m\n\u001b[1;32m   2176\u001b[0m         traceback\u001b[38;5;241m.\u001b[39mprint_exc()\n\u001b[1;32m   2177\u001b[0m         \u001b[38;5;28;01mreturn\u001b[39;00m \u001b[38;5;28;01mNone\u001b[39;00m\n\u001b[0;32m-> 2179\u001b[0m     \u001b[38;5;28;43mself\u001b[39;49m\u001b[38;5;241;43m.\u001b[39;49m\u001b[43m_showtraceback\u001b[49m\u001b[43m(\u001b[49m\u001b[43metype\u001b[49m\u001b[43m,\u001b[49m\u001b[43m \u001b[49m\u001b[43mvalue\u001b[49m\u001b[43m,\u001b[49m\u001b[43m \u001b[49m\u001b[43mstb\u001b[49m\u001b[43m)\u001b[49m\n\u001b[1;32m   2180\u001b[0m \u001b[38;5;28;01mif\u001b[39;00m \u001b[38;5;28mself\u001b[39m\u001b[38;5;241m.\u001b[39mcall_pdb:\n\u001b[1;32m   2181\u001b[0m     \u001b[38;5;66;03m# drop into debugger\u001b[39;00m\n\u001b[1;32m   2182\u001b[0m     \u001b[38;5;28mself\u001b[39m\u001b[38;5;241m.\u001b[39mdebugger(force\u001b[38;5;241m=\u001b[39m\u001b[38;5;28;01mTrue\u001b[39;00m)\n",
      "\u001b[0;31mKeyboardInterrupt\u001b[0m: "
     ]
    }
   ],
   "source": [
    "for region_1, region_2 in brain_region_pairs:\n",
    "    # Define base name for pair\n",
    "    region_1_base_name = region_1.split('_')[0]\n",
    "    region_2_base_name = region_2.split('_')[0]\n",
    "\n",
    "    pair_base_name = f\"{region_1_base_name}_{region_2_base_name}\"\n",
    "    print(pair_base_name)\n",
    "\n",
    "    try:\n",
    "        # Define column names\n",
    "        multitaper_col = f\"{pair_base_name}_granger_multitaper\"\n",
    "        connectivity_col = f\"{pair_base_name}_granger_connectivity\"\n",
    "        frequencies_col = f\"{pair_base_name}_granger_frequencies\"\n",
    "        granger_1_2_col = f\"{region_1_base_name}_{region_2_base_name}_granger_all_frequencies_all_windows\"\n",
    "        granger_2_1_col = f\"{region_2_base_name}_{region_1_base_name}_granger_all_frequencies_all_windows\"\n",
    "\n",
    "        # Apply Multitaper function\n",
    "        LFP_TRACES_DF[multitaper_col] = LFP_TRACES_DF.apply(\n",
    "            lambda x: Multitaper(\n",
    "                time_series=np.array([x[region_1], x[region_2]]).T, \n",
    "                sampling_frequency=RESAMPLE_RATE, \n",
    "                time_halfbandwidth_product=TIME_HALFBANDWIDTH_PRODUCT, \n",
    "                time_window_step=TIME_WINDOW_STEP, \n",
    "                time_window_duration=TIME_WINDOW_DURATION\n",
    "            ), \n",
    "            axis=1\n",
    "        )\n",
    "    \n",
    "        # Apply Connectivity function\n",
    "        LFP_TRACES_DF[connectivity_col] = LFP_TRACES_DF[multitaper_col].apply(\n",
    "            lambda x: Connectivity.from_multitaper(x)\n",
    "        )\n",
    "\n",
    "        # Apply frequencies and granger functions\n",
    "        LFP_TRACES_DF[frequencies_col] = LFP_TRACES_DF[connectivity_col].apply(\n",
    "            lambda x: x.frequencies\n",
    "        )\n",
    "        \n",
    "        LFP_TRACES_DF[granger_1_2_col] = LFP_TRACES_DF[connectivity_col].apply(\n",
    "            lambda x: x.pairwise_spectral_granger_prediction()[:,:,0,1]\n",
    "        )\n",
    "\n",
    "        LFP_TRACES_DF[granger_2_1_col] = LFP_TRACES_DF[connectivity_col].apply(\n",
    "            lambda x: x.pairwise_spectral_granger_prediction()[:,:,1,0]\n",
    "        )\n",
    "\n",
    "        LFP_TRACES_DF[granger_1_2_col] = LFP_TRACES_DF[granger_1_2_col].apply(lambda x: x.astype(np.float32))\n",
    "        LFP_TRACES_DF[granger_2_1_col] = LFP_TRACES_DF[granger_2_1_col].apply(lambda x: x.astype(np.float32))\n",
    "        \n",
    "    except Exception as e: \n",
    "        print(e)\n",
    "\n",
    "    # Drop temporary columns\n",
    "    LFP_TRACES_DF = LFP_TRACES_DF.drop(columns=[multitaper_col, connectivity_col], errors=\"ignore\")"
   ]
  },
  {
   "cell_type": "code",
   "execution_count": null,
   "metadata": {},
   "outputs": [],
   "source": []
  },
  {
   "cell_type": "markdown",
   "metadata": {},
   "source": [
    "- Getting the timestamps of the granger"
   ]
  },
  {
   "cell_type": "code",
   "execution_count": null,
   "metadata": {
    "tags": []
   },
   "outputs": [],
   "source": [
    "LFP_TRACES_DF[\"granger_timestamps\"] = LFP_TRACES_DF[\"lfp_timestamps\"].apply(lambda x: x[(RESAMPLE_RATE//2):(-RESAMPLE_RATE//2):(RESAMPLE_RATE//2)])\n"
   ]
  },
  {
   "cell_type": "markdown",
   "metadata": {},
   "source": [
    "- Making sure that the timestamps for granger makes sense with shape and values"
   ]
  },
  {
   "cell_type": "code",
   "execution_count": null,
   "metadata": {
    "tags": []
   },
   "outputs": [],
   "source": [
    "LFP_TRACES_DF[\"granger_timestamps\"].head().apply(lambda x: x.shape)"
   ]
  },
  {
   "cell_type": "code",
   "execution_count": null,
   "metadata": {
    "tags": []
   },
   "outputs": [],
   "source": [
    "LFP_TRACES_DF[[col for col in LFP_TRACES_DF.columns if \"granger_all_frequencies_all_windows\" in col][0]].iloc[0].shape"
   ]
  },
  {
   "cell_type": "code",
   "execution_count": null,
   "metadata": {
    "tags": []
   },
   "outputs": [],
   "source": [
    "LFP_TRACES_DF[[col for col in LFP_TRACES_DF.columns if \"lfp_timestamps\" in col][0]].iloc[0]"
   ]
  },
  {
   "cell_type": "code",
   "execution_count": null,
   "metadata": {
    "tags": []
   },
   "outputs": [],
   "source": [
    "LFP_TRACES_DF[[col for col in LFP_TRACES_DF.columns if \"granger_timestamps\" in col][0]].iloc[0]"
   ]
  },
  {
   "cell_type": "markdown",
   "metadata": {},
   "source": [
    "- Checking if the right frequencies are being used"
   ]
  },
  {
   "cell_type": "code",
   "execution_count": null,
   "metadata": {
    "tags": []
   },
   "outputs": [],
   "source": [
    "LFP_TRACES_DF[[col for col in LFP_TRACES_DF.columns if \"granger_frequencies\" in col]].head()"
   ]
  },
  {
   "cell_type": "code",
   "execution_count": null,
   "metadata": {},
   "outputs": [],
   "source": [
    "LFP_TRACES_DF[\"granger_calculation_frequencies\"] = LFP_TRACES_DF[[col for col in LFP_TRACES_DF.columns if \"granger_frequencies\" in col][0]].copy()"
   ]
  },
  {
   "cell_type": "markdown",
   "metadata": {},
   "source": [
    "- Dropping unnecessary columns"
   ]
  },
  {
   "cell_type": "code",
   "execution_count": null,
   "metadata": {
    "tags": []
   },
   "outputs": [],
   "source": [
    "LFP_TRACES_DF = LFP_TRACES_DF.drop(columns=[col for col in LFP_TRACES_DF.columns if \"granger_frequencies\" in col], errors=\"ignore\")"
   ]
  },
  {
   "cell_type": "code",
   "execution_count": null,
   "metadata": {
    "tags": []
   },
   "outputs": [],
   "source": [
    "LFP_TRACES_DF.head()"
   ]
  },
  {
   "cell_type": "code",
   "execution_count": null,
   "metadata": {
    "tags": []
   },
   "outputs": [],
   "source": [
    "LFP_TRACES_DF.columns"
   ]
  },
  {
   "cell_type": "code",
   "execution_count": null,
   "metadata": {
    "tags": []
   },
   "outputs": [],
   "source": [
    "# LFP_TRACES_DF.to_pickle(\"./proc/rce2_spectral_granger.pkl\")\n",
    "LFP_TRACES_DF.to_pickle(\"./proc/{}_02_full_spectral.pkl\".format(OUTPUT_PREFIX))\n",
    "# LFP_TRACES_DF.to_pickle(\"/blue/npadillacoreano/ryoi360/projects/reward_comp/final_proc/rce_pilot_2_02_spectral_granger.pkl\")"
   ]
  },
  {
   "cell_type": "code",
   "execution_count": null,
   "metadata": {
    "tags": []
   },
   "outputs": [],
   "source": [
    "raise ValueError()"
   ]
  },
  {
   "cell_type": "code",
   "execution_count": null,
   "metadata": {},
   "outputs": [],
   "source": []
  }
 ],
 "metadata": {
  "deepnote": {},
  "deepnote_execution_queue": [],
  "deepnote_notebook_id": "cf8fe3695d074ee7887fdf6459cbf5ce",
  "kernelspec": {
   "display_name": "spike_interface_0_100_8",
   "language": "python",
   "name": "spike_interface_0_100_8"
  },
  "language_info": {
   "codemirror_mode": {
    "name": "ipython",
    "version": 3
   },
   "file_extension": ".py",
   "mimetype": "text/x-python",
   "name": "python",
   "nbconvert_exporter": "python",
   "pygments_lexer": "ipython3",
   "version": "3.10.14"
  }
 },
 "nbformat": 4,
 "nbformat_minor": 4
}
