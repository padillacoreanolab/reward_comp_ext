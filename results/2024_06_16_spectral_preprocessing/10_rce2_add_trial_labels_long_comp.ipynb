{
 "cells": [
  {
   "cell_type": "markdown",
   "metadata": {
    "cell_id": "c3a02adc9e884466bc8c79db549cc3d2",
    "deepnote_cell_type": "text-cell-h1",
    "formattedRanges": [
     {
      "fromCodePoint": 0,
      "marks": {
       "bold": true,
       "underline": true
      },
      "toCodePoint": 17,
      "type": "marks"
     }
    ]
   },
   "source": [
    "# All oscillation analysis"
   ]
  },
  {
   "cell_type": "markdown",
   "metadata": {
    "cell_id": "4546bee655b14a5dbf393161f1228e60",
    "deepnote_cell_type": "text-cell-p",
    "formattedRanges": []
   },
   "source": [
    "Brief 1-2 sentence description of notebook."
   ]
  },
  {
   "cell_type": "code",
   "execution_count": 1,
   "metadata": {
    "tags": []
   },
   "outputs": [],
   "source": [
    "# Imports of all used packages and libraries\n",
    "import sys\n",
    "import os\n",
    "import git\n",
    "import glob\n",
    "from collections import defaultdict"
   ]
  },
  {
   "cell_type": "code",
   "execution_count": 2,
   "metadata": {
    "tags": []
   },
   "outputs": [],
   "source": [
    "git_repo = git.Repo(\".\", search_parent_directories=True)\n",
    "git_root = git_repo.git.rev_parse(\"--show-toplevel\")"
   ]
  },
  {
   "cell_type": "code",
   "execution_count": 3,
   "metadata": {
    "tags": []
   },
   "outputs": [
    {
     "data": {
      "text/plain": [
       "'/nancy/user/riwata/projects/reward_comp_ext'"
      ]
     },
     "execution_count": 3,
     "metadata": {},
     "output_type": "execute_result"
    }
   ],
   "source": [
    "git_root"
   ]
  },
  {
   "cell_type": "code",
   "execution_count": 4,
   "metadata": {
    "tags": []
   },
   "outputs": [],
   "source": [
    "sys.path.insert(0, os.path.join(git_root, 'src'))"
   ]
  },
  {
   "cell_type": "code",
   "execution_count": 5,
   "metadata": {
    "tags": []
   },
   "outputs": [],
   "source": [
    "import warnings\n",
    "warnings.filterwarnings('ignore')"
   ]
  },
  {
   "cell_type": "code",
   "execution_count": 6,
   "metadata": {
    "tags": []
   },
   "outputs": [],
   "source": [
    "import os\n",
    "import collections\n",
    "import itertools\n",
    "from collections import defaultdict\n",
    "from itertools import combinations"
   ]
  },
  {
   "cell_type": "raw",
   "metadata": {},
   "source": [
    "os.environ[\"SPECTRAL_CONNECTIVITY_ENABLE_GPU\"] = \"true\"\n",
    "import cupy as cp"
   ]
  },
  {
   "cell_type": "code",
   "execution_count": 7,
   "metadata": {
    "cell_id": "03b495cefa6a4798a44c7f2e4c6a3ea7",
    "deepnote_cell_type": "code",
    "deepnote_to_be_reexecuted": false,
    "execution_millis": 21,
    "execution_start": 1691424003626,
    "source_hash": null,
    "tags": []
   },
   "outputs": [],
   "source": [
    "# Imports of all used packages and libraries\n",
    "import numpy as np\n",
    "import pandas as pd\n",
    "from scipy import stats\n",
    "from scipy.stats import mannwhitneyu\n"
   ]
  },
  {
   "cell_type": "code",
   "execution_count": 8,
   "metadata": {
    "tags": []
   },
   "outputs": [],
   "source": [
    "import matplotlib\n",
    "import matplotlib.colors as mcolors\n",
    "import matplotlib.pyplot as plt\n",
    "import matplotlib.cm as cm\n",
    "import colorsys"
   ]
  },
  {
   "cell_type": "code",
   "execution_count": 9,
   "metadata": {
    "tags": []
   },
   "outputs": [],
   "source": [
    "from sklearn.metrics import confusion_matrix"
   ]
  },
  {
   "cell_type": "code",
   "execution_count": 10,
   "metadata": {
    "tags": []
   },
   "outputs": [],
   "source": [
    "from spectral_connectivity import Multitaper, Connectivity\n",
    "import spectral_connectivity"
   ]
  },
  {
   "cell_type": "code",
   "execution_count": 11,
   "metadata": {
    "tags": []
   },
   "outputs": [],
   "source": [
    "import utilities.helper\n",
    "import trodes.read_exported"
   ]
  },
  {
   "cell_type": "code",
   "execution_count": 12,
   "metadata": {
    "tags": []
   },
   "outputs": [],
   "source": [
    "FONTSIZE = 20"
   ]
  },
  {
   "cell_type": "code",
   "execution_count": 13,
   "metadata": {
    "tags": []
   },
   "outputs": [],
   "source": [
    "font = {'weight' : 'medium',\n",
    "        'size'   : 20}\n",
    "\n",
    "matplotlib.rc('font', **font)"
   ]
  },
  {
   "cell_type": "markdown",
   "metadata": {
    "cell_id": "d290bac2c17940bfbc0f9296beaf70e5",
    "deepnote_cell_type": "text-cell-h2",
    "formattedRanges": []
   },
   "source": [
    "## Inputs & Data"
   ]
  },
  {
   "cell_type": "code",
   "execution_count": 14,
   "metadata": {
    "tags": []
   },
   "outputs": [],
   "source": [
    "EPHYS_SAMPLE_RATE = 20000"
   ]
  },
  {
   "cell_type": "markdown",
   "metadata": {
    "cell_id": "e528ce19c608425292151930d380f49f",
    "deepnote_cell_type": "text-cell-p",
    "formattedRanges": []
   },
   "source": [
    "Explanation of each input and where it comes from."
   ]
  },
  {
   "cell_type": "code",
   "execution_count": 15,
   "metadata": {
    "cell_id": "6cf83a5811054461a718a71673d09aab",
    "deepnote_cell_type": "code",
    "deepnote_to_be_reexecuted": false,
    "execution_millis": 373,
    "execution_start": 1691424003628,
    "source_hash": null,
    "tags": []
   },
   "outputs": [],
   "source": [
    "# Inputs and Required data loading\n",
    "# input varaible names are in all caps snake case\n",
    "# Whenever an input changes or is used for processing \n",
    "# the vairables are all lower in snake case\n",
    "OUTPUT_DIR = r\"./proc/\" # where data is saved should always be shown in the inputs\n",
    "os.makedirs(OUTPUT_DIR, exist_ok=True)\n",
    "OUTPUT_PREFIX = \"rce_pilot_3_alone_comp\""
   ]
  },
  {
   "cell_type": "code",
   "execution_count": 16,
   "metadata": {
    "tags": []
   },
   "outputs": [],
   "source": [
    "# TRIAL_LABELS_DF = pd.read_excel(\"/blue/npadillacoreano/ryoi360/projects/reward_comp/repos/reward_comp_ext/results/2024_06_26_sleap_clustering/data/rce_pilot_3_alone_comp_per_video_trial_labels.xlsx\")\n",
    "TRIAL_LABELS_DF = pd.read_excel(\"../../data/{}_per_video_trial_labels.xlsx\".format(OUTPUT_PREFIX))"
   ]
  },
  {
   "cell_type": "raw",
   "metadata": {
    "tags": []
   },
   "source": [
    "LFP_SPECTRAL_DF = pd.read_pickle(\"./proc/rce_pilot_2_03_spectral_bands.pkl\")"
   ]
  },
  {
   "cell_type": "code",
   "execution_count": 17,
   "metadata": {
    "tags": []
   },
   "outputs": [],
   "source": [
    "LFP_SPECTRAL_DF = pd.read_pickle(\"./proc/{}_04_spectral_and_sleap.pkl\".format(OUTPUT_PREFIX))"
   ]
  },
  {
   "cell_type": "code",
   "execution_count": 18,
   "metadata": {
    "tags": []
   },
   "outputs": [],
   "source": [
    "FULL_LFP_TRACES_PKL = \"{}_10_per_trial_spectral_bans_sleap.pkl\".format(OUTPUT_PREFIX)"
   ]
  },
  {
   "cell_type": "markdown",
   "metadata": {
    "cell_id": "e3ee4891d43a4ac287413afc552ca289",
    "deepnote_cell_type": "text-cell-h2",
    "formattedRanges": []
   },
   "source": [
    "## Outputs"
   ]
  },
  {
   "cell_type": "markdown",
   "metadata": {
    "cell_id": "9ccbf6cc70fd4d379fa29317f733771f",
    "deepnote_cell_type": "text-cell-p",
    "formattedRanges": []
   },
   "source": [
    "Describe each output that the notebook creates. "
   ]
  },
  {
   "cell_type": "markdown",
   "metadata": {
    "cell_id": "fc8e8920a6944918a15fac575cdf6e78",
    "deepnote_cell_type": "text-cell-bullet",
    "formattedRanges": []
   },
   "source": [
    "- Is it a plot or is it data?"
   ]
  },
  {
   "cell_type": "markdown",
   "metadata": {
    "cell_id": "1e639d4776a84aa9ac8ded2e14fa57db",
    "deepnote_cell_type": "text-cell-bullet",
    "formattedRanges": []
   },
   "source": [
    "- How valuable is the output and why is it valuable or useful?"
   ]
  },
  {
   "cell_type": "markdown",
   "metadata": {},
   "source": [
    "## Functions "
   ]
  },
  {
   "cell_type": "markdown",
   "metadata": {
    "cell_id": "8999d19b6b7d4d63bc90f0b0bd9ab085",
    "deepnote_cell_type": "text-cell-h2",
    "formattedRanges": []
   },
   "source": [
    "## Processing"
   ]
  },
  {
   "cell_type": "markdown",
   "metadata": {
    "cell_id": "9b36cdf08567463082b005cb0dec684b",
    "deepnote_cell_type": "text-cell-p",
    "formattedRanges": []
   },
   "source": [
    "Describe what is done to the data here and how inputs are manipulated to generate outputs. "
   ]
  },
  {
   "cell_type": "code",
   "execution_count": 19,
   "metadata": {
    "cell_id": "89aaba237c644628b1b37604b75e7cb1",
    "deepnote_cell_type": "code",
    "tags": []
   },
   "outputs": [],
   "source": [
    "# As much code and as many cells as required\n",
    "# includes EDA and playing with data\n",
    "# GO HAM!\n",
    "\n",
    "# Ideally functions are defined here first and then data is processed using the functions\n",
    "\n",
    "# function names are short and in snake case all lowercase\n",
    "# a function name should be unique but does not have to describe the function\n",
    "# doc strings describe functions not function names\n",
    "\n",
    "\n"
   ]
  },
  {
   "cell_type": "code",
   "execution_count": 20,
   "metadata": {
    "tags": []
   },
   "outputs": [
    {
     "data": {
      "text/plain": [
       "Index(['video_name', 'current_subject', '10s_after_tone_frame',\n",
       "       '10s_before_tone_frame', 'agent_locations', 'agent_nose',\n",
       "       'agent_nose_to_reward_port', 'agent_tail_base', 'agent_thorax',\n",
       "       'agent_thorax_velocity',\n",
       "       ...\n",
       "       'vHPC_gamma_phase', 'vHPC_lfp_trace',\n",
       "       'vHPC_mPFC_granger_all_frequencies_all_windows',\n",
       "       'vHPC_power_all_frequencies_all_windows', 'vHPC_power_gamma',\n",
       "       'vHPC_power_theta', 'vHPC_theta_band', 'vHPC_theta_phase',\n",
       "       'video_timestamps', 'cluster_timestamp'],\n",
       "      dtype='object', length=220)"
      ]
     },
     "execution_count": 20,
     "metadata": {},
     "output_type": "execute_result"
    }
   ],
   "source": [
    "LFP_SPECTRAL_DF.columns"
   ]
  },
  {
   "cell_type": "code",
   "execution_count": 21,
   "metadata": {
    "scrolled": true,
    "tags": []
   },
   "outputs": [
    {
     "data": {
      "text/plain": [
       "Index(['Unnamed: 0', 'session_dir', 'tone_start_frame', 'reward_start',\n",
       "       'reward_dispensed', 'tone_stop_frame', 'condition ',\n",
       "       'competition_closeness', 'get_reward_frame', 'out_reward_frame',\n",
       "       'notes', 'experiment', 'box_1_port_entry_frames',\n",
       "       'box_2_port_entry_frames', 'video_name', 'all_subjects',\n",
       "       'first_timestamp', 'last_timestamp', 'tone_start_timestamp',\n",
       "       'tone_stop_timestamp', 'box_1_port_entry_timestamps',\n",
       "       'box_2_port_entry_timestamps'],\n",
       "      dtype='object')"
      ]
     },
     "execution_count": 21,
     "metadata": {},
     "output_type": "execute_result"
    }
   ],
   "source": [
    "TRIAL_LABELS_DF.columns"
   ]
  },
  {
   "cell_type": "markdown",
   "metadata": {},
   "source": [
    "## Merging the labels and LFP spectral"
   ]
  },
  {
   "cell_type": "code",
   "execution_count": 22,
   "metadata": {
    "tags": []
   },
   "outputs": [
    {
     "data": {
      "text/html": [
       "<div>\n",
       "<style scoped>\n",
       "    .dataframe tbody tr th:only-of-type {\n",
       "        vertical-align: middle;\n",
       "    }\n",
       "\n",
       "    .dataframe tbody tr th {\n",
       "        vertical-align: top;\n",
       "    }\n",
       "\n",
       "    .dataframe thead th {\n",
       "        text-align: right;\n",
       "    }\n",
       "</style>\n",
       "<table border=\"1\" class=\"dataframe\">\n",
       "  <thead>\n",
       "    <tr style=\"text-align: right;\">\n",
       "      <th></th>\n",
       "      <th>Unnamed: 0</th>\n",
       "      <th>session_dir</th>\n",
       "      <th>tone_start_frame</th>\n",
       "      <th>reward_start</th>\n",
       "      <th>reward_dispensed</th>\n",
       "      <th>tone_stop_frame</th>\n",
       "      <th>condition</th>\n",
       "      <th>competition_closeness</th>\n",
       "      <th>get_reward_frame</th>\n",
       "      <th>out_reward_frame</th>\n",
       "      <th>...</th>\n",
       "      <th>box_1_port_entry_frames</th>\n",
       "      <th>box_2_port_entry_frames</th>\n",
       "      <th>video_name</th>\n",
       "      <th>all_subjects</th>\n",
       "      <th>first_timestamp</th>\n",
       "      <th>last_timestamp</th>\n",
       "      <th>tone_start_timestamp</th>\n",
       "      <th>tone_stop_timestamp</th>\n",
       "      <th>box_1_port_entry_timestamps</th>\n",
       "      <th>box_2_port_entry_timestamps</th>\n",
       "    </tr>\n",
       "  </thead>\n",
       "  <tbody>\n",
       "    <tr>\n",
       "      <th>0</th>\n",
       "      <td>0.0</td>\n",
       "      <td>20240320_142408_alone_comp_subj_3-1_and_3-3</td>\n",
       "      <td>0.0</td>\n",
       "      <td>80</td>\n",
       "      <td>100.0</td>\n",
       "      <td>74.0</td>\n",
       "      <td>NaN</td>\n",
       "      <td>NaN</td>\n",
       "      <td>NaN</td>\n",
       "      <td>NaN</td>\n",
       "      <td>...</td>\n",
       "      <td>[ 0 74]</td>\n",
       "      <td>[ 0 74]</td>\n",
       "      <td>20240320_142408_alone_comp_subj_3-1_and_3-3.1....</td>\n",
       "      <td>['3.1', '3.3']</td>\n",
       "      <td>1830734.0</td>\n",
       "      <td>65425515.0</td>\n",
       "      <td>0.0</td>\n",
       "      <td>75474.0</td>\n",
       "      <td>[    0 75474]</td>\n",
       "      <td>[    0 75474]</td>\n",
       "    </tr>\n",
       "    <tr>\n",
       "      <th>1</th>\n",
       "      <td>0.0</td>\n",
       "      <td>20240320_142408_alone_comp_subj_3-1_and_3-3</td>\n",
       "      <td>1272.0</td>\n",
       "      <td>1352</td>\n",
       "      <td>1372.0</td>\n",
       "      <td>1471.0</td>\n",
       "      <td>rewarded</td>\n",
       "      <td>NaN</td>\n",
       "      <td>NaN</td>\n",
       "      <td>NaN</td>\n",
       "      <td>...</td>\n",
       "      <td>[1282 1283] [1285 1297] [1326 1344] [1362 1509]</td>\n",
       "      <td>[1326 1328] [1331 1347] [1380 1592]</td>\n",
       "      <td>20240320_142408_alone_comp_subj_3-1_and_3-3.1....</td>\n",
       "      <td>['3.1', '3.3']</td>\n",
       "      <td>1830734.0</td>\n",
       "      <td>65425515.0</td>\n",
       "      <td>1275889.0</td>\n",
       "      <td>1475891.0</td>\n",
       "      <td>[1285888 1286688] [1287488 1300689] [1330286 1...</td>\n",
       "      <td>[1329489 1331487] [1334489 1350089] [1383490 1...</td>\n",
       "    </tr>\n",
       "    <tr>\n",
       "      <th>2</th>\n",
       "      <td>0.0</td>\n",
       "      <td>20240320_142408_alone_comp_subj_3-1_and_3-3</td>\n",
       "      <td>3268.0</td>\n",
       "      <td>3348</td>\n",
       "      <td>3368.0</td>\n",
       "      <td>3469.0</td>\n",
       "      <td>rewarded</td>\n",
       "      <td>NaN</td>\n",
       "      <td>NaN</td>\n",
       "      <td>NaN</td>\n",
       "      <td>...</td>\n",
       "      <td>[3281 3324] [3324 3327] [3344 3347] [3347 3523]</td>\n",
       "      <td>[3327 3704]</td>\n",
       "      <td>20240320_142408_alone_comp_subj_3-1_and_3-3.1....</td>\n",
       "      <td>['3.1', '3.3']</td>\n",
       "      <td>1830734.0</td>\n",
       "      <td>65425515.0</td>\n",
       "      <td>3275911.0</td>\n",
       "      <td>3475914.0</td>\n",
       "      <td>[3287914 3330314] [3331114 3333712] [3351715 3...</td>\n",
       "      <td>[3333515 3712519]</td>\n",
       "    </tr>\n",
       "    <tr>\n",
       "      <th>3</th>\n",
       "      <td>0.0</td>\n",
       "      <td>20240320_142408_alone_comp_subj_3-1_and_3-3</td>\n",
       "      <td>4466.0</td>\n",
       "      <td>4546</td>\n",
       "      <td>4566.0</td>\n",
       "      <td>4667.0</td>\n",
       "      <td>rewarded</td>\n",
       "      <td>NaN</td>\n",
       "      <td>NaN</td>\n",
       "      <td>NaN</td>\n",
       "      <td>...</td>\n",
       "      <td>[4441 4476] [4476 4489] [4508 4509] [4511 4534...</td>\n",
       "      <td>[4445 4473] [4494 4551] [4566 4830]</td>\n",
       "      <td>20240320_142408_alone_comp_subj_3-1_and_3-3.1....</td>\n",
       "      <td>['3.1', '3.3']</td>\n",
       "      <td>1830734.0</td>\n",
       "      <td>65425515.0</td>\n",
       "      <td>4475927.0</td>\n",
       "      <td>4675931.0</td>\n",
       "      <td>[4450528 4485129] [4485929 4497529] [4516929 4...</td>\n",
       "      <td>[4454926 4483129] [4503531 4560730] [4575330 4...</td>\n",
       "    </tr>\n",
       "    <tr>\n",
       "      <th>4</th>\n",
       "      <td>0.0</td>\n",
       "      <td>20240320_142408_alone_comp_subj_3-1_and_3-3</td>\n",
       "      <td>5465.0</td>\n",
       "      <td>5545</td>\n",
       "      <td>5565.0</td>\n",
       "      <td>5664.0</td>\n",
       "      <td>rewarded</td>\n",
       "      <td>NaN</td>\n",
       "      <td>NaN</td>\n",
       "      <td>NaN</td>\n",
       "      <td>...</td>\n",
       "      <td>[5483 5512] [5552 5698]</td>\n",
       "      <td>[5455 5486] [5581 5794]</td>\n",
       "      <td>20240320_142408_alone_comp_subj_3-1_and_3-3.1....</td>\n",
       "      <td>['3.1', '3.3']</td>\n",
       "      <td>1830734.0</td>\n",
       "      <td>65425515.0</td>\n",
       "      <td>5475942.0</td>\n",
       "      <td>5675942.0</td>\n",
       "      <td>[5493742 5523542] [5563742 5709147]</td>\n",
       "      <td>[5466941 5496741] [5592343 5806546]</td>\n",
       "    </tr>\n",
       "  </tbody>\n",
       "</table>\n",
       "<p>5 rows × 22 columns</p>\n",
       "</div>"
      ],
      "text/plain": [
       "   Unnamed: 0                                  session_dir  tone_start_frame  \\\n",
       "0         0.0  20240320_142408_alone_comp_subj_3-1_and_3-3               0.0   \n",
       "1         0.0  20240320_142408_alone_comp_subj_3-1_and_3-3            1272.0   \n",
       "2         0.0  20240320_142408_alone_comp_subj_3-1_and_3-3            3268.0   \n",
       "3         0.0  20240320_142408_alone_comp_subj_3-1_and_3-3            4466.0   \n",
       "4         0.0  20240320_142408_alone_comp_subj_3-1_and_3-3            5465.0   \n",
       "\n",
       "   reward_start  reward_dispensed  tone_stop_frame condition   \\\n",
       "0            80             100.0             74.0        NaN   \n",
       "1          1352            1372.0           1471.0   rewarded   \n",
       "2          3348            3368.0           3469.0   rewarded   \n",
       "3          4546            4566.0           4667.0   rewarded   \n",
       "4          5545            5565.0           5664.0   rewarded   \n",
       "\n",
       "  competition_closeness  get_reward_frame  out_reward_frame  ...  \\\n",
       "0                   NaN               NaN               NaN  ...   \n",
       "1                   NaN               NaN               NaN  ...   \n",
       "2                   NaN               NaN               NaN  ...   \n",
       "3                   NaN               NaN               NaN  ...   \n",
       "4                   NaN               NaN               NaN  ...   \n",
       "\n",
       "                             box_1_port_entry_frames  \\\n",
       "0                                            [ 0 74]   \n",
       "1    [1282 1283] [1285 1297] [1326 1344] [1362 1509]   \n",
       "2    [3281 3324] [3324 3327] [3344 3347] [3347 3523]   \n",
       "3  [4441 4476] [4476 4489] [4508 4509] [4511 4534...   \n",
       "4                            [5483 5512] [5552 5698]   \n",
       "\n",
       "               box_2_port_entry_frames  \\\n",
       "0                              [ 0 74]   \n",
       "1  [1326 1328] [1331 1347] [1380 1592]   \n",
       "2                          [3327 3704]   \n",
       "3  [4445 4473] [4494 4551] [4566 4830]   \n",
       "4              [5455 5486] [5581 5794]   \n",
       "\n",
       "                                          video_name    all_subjects  \\\n",
       "0  20240320_142408_alone_comp_subj_3-1_and_3-3.1....  ['3.1', '3.3']   \n",
       "1  20240320_142408_alone_comp_subj_3-1_and_3-3.1....  ['3.1', '3.3']   \n",
       "2  20240320_142408_alone_comp_subj_3-1_and_3-3.1....  ['3.1', '3.3']   \n",
       "3  20240320_142408_alone_comp_subj_3-1_and_3-3.1....  ['3.1', '3.3']   \n",
       "4  20240320_142408_alone_comp_subj_3-1_and_3-3.1....  ['3.1', '3.3']   \n",
       "\n",
       "  first_timestamp last_timestamp  tone_start_timestamp  tone_stop_timestamp  \\\n",
       "0       1830734.0     65425515.0                   0.0              75474.0   \n",
       "1       1830734.0     65425515.0             1275889.0            1475891.0   \n",
       "2       1830734.0     65425515.0             3275911.0            3475914.0   \n",
       "3       1830734.0     65425515.0             4475927.0            4675931.0   \n",
       "4       1830734.0     65425515.0             5475942.0            5675942.0   \n",
       "\n",
       "                         box_1_port_entry_timestamps  \\\n",
       "0                                      [    0 75474]   \n",
       "1  [1285888 1286688] [1287488 1300689] [1330286 1...   \n",
       "2  [3287914 3330314] [3331114 3333712] [3351715 3...   \n",
       "3  [4450528 4485129] [4485929 4497529] [4516929 4...   \n",
       "4                [5493742 5523542] [5563742 5709147]   \n",
       "\n",
       "                         box_2_port_entry_timestamps  \n",
       "0                                      [    0 75474]  \n",
       "1  [1329489 1331487] [1334489 1350089] [1383490 1...  \n",
       "2                                  [3333515 3712519]  \n",
       "3  [4454926 4483129] [4503531 4560730] [4575330 4...  \n",
       "4                [5466941 5496741] [5592343 5806546]  \n",
       "\n",
       "[5 rows x 22 columns]"
      ]
     },
     "execution_count": 22,
     "metadata": {},
     "output_type": "execute_result"
    }
   ],
   "source": [
    "TRIAL_LABELS_DF.head()"
   ]
  },
  {
   "cell_type": "code",
   "execution_count": 23,
   "metadata": {
    "tags": []
   },
   "outputs": [
    {
     "data": {
      "text/html": [
       "<div>\n",
       "<style scoped>\n",
       "    .dataframe tbody tr th:only-of-type {\n",
       "        vertical-align: middle;\n",
       "    }\n",
       "\n",
       "    .dataframe tbody tr th {\n",
       "        vertical-align: top;\n",
       "    }\n",
       "\n",
       "    .dataframe thead th {\n",
       "        text-align: right;\n",
       "    }\n",
       "</style>\n",
       "<table border=\"1\" class=\"dataframe\">\n",
       "  <thead>\n",
       "    <tr style=\"text-align: right;\">\n",
       "      <th></th>\n",
       "      <th>video_name</th>\n",
       "      <th>current_subject</th>\n",
       "      <th>10s_after_tone_frame</th>\n",
       "      <th>10s_before_tone_frame</th>\n",
       "      <th>agent_locations</th>\n",
       "      <th>agent_nose</th>\n",
       "      <th>agent_nose_to_reward_port</th>\n",
       "      <th>agent_tail_base</th>\n",
       "      <th>agent_thorax</th>\n",
       "      <th>agent_thorax_velocity</th>\n",
       "      <th>...</th>\n",
       "      <th>vHPC_gamma_phase</th>\n",
       "      <th>vHPC_lfp_trace</th>\n",
       "      <th>vHPC_mPFC_granger_all_frequencies_all_windows</th>\n",
       "      <th>vHPC_power_all_frequencies_all_windows</th>\n",
       "      <th>vHPC_power_gamma</th>\n",
       "      <th>vHPC_power_theta</th>\n",
       "      <th>vHPC_theta_band</th>\n",
       "      <th>vHPC_theta_phase</th>\n",
       "      <th>video_timestamps</th>\n",
       "      <th>cluster_timestamp</th>\n",
       "    </tr>\n",
       "  </thead>\n",
       "  <tbody>\n",
       "    <tr>\n",
       "      <th>0</th>\n",
       "      <td>20240320_142408_alone_comp_subj_3-1_and_3-3.1</td>\n",
       "      <td>3.1</td>\n",
       "      <td>[34640, 34640, 34640, 34640, 34640, 34640, 346...</td>\n",
       "      <td>[34040, 34040, 34040, 34040, 34040, 34040, 340...</td>\n",
       "      <td>[[[54.047201234350496, 32.48462136905939], [52...</td>\n",
       "      <td>[[57.31849083590113, 33.645587310504695], [56....</td>\n",
       "      <td>[4.960474, 5.34718, 5.802983, 6.407976, 7.1417...</td>\n",
       "      <td>[[46.630318040576064, 30.523901100123272], [46...</td>\n",
       "      <td>[[48.61806735273943, 32.66608744832453], [48.1...</td>\n",
       "      <td>[7.0735817, 9.794592, 12.977724, 16.4886, 20.1...</td>\n",
       "      <td>...</td>\n",
       "      <td>[2.1274095, 2.4930122, 2.7189336, 3.0126748, -...</td>\n",
       "      <td>[65.715, 96.329994, 95.159996, 77.61, 112.905,...</td>\n",
       "      <td>[[nan, nan, nan, nan, nan, nan, nan, nan, nan,...</td>\n",
       "      <td>[[nan, nan, nan, nan, nan, nan, nan, nan, nan,...</td>\n",
       "      <td>[nan, 0.0046885125, 0.0033377786, 0.0018332143...</td>\n",
       "      <td>[nan, 0.07223674, 0.06942491, 0.065466404, 0.0...</td>\n",
       "      <td>[0.8526041, 0.89195466, 0.93002737, 0.96665066...</td>\n",
       "      <td>[-1.0124702, -0.7600434, -0.73781365, -0.59900...</td>\n",
       "      <td>[1384, 2770, 4156, 4156, 5542, 6928, 6928, 831...</td>\n",
       "      <td>[34077145, 34077145, 34078531, 34079917, 34079...</td>\n",
       "    </tr>\n",
       "    <tr>\n",
       "      <th>1</th>\n",
       "      <td>20240320_142408_alone_comp_subj_3-1_and_3-3.1</td>\n",
       "      <td>3.3</td>\n",
       "      <td>[34640, 34640, 34640, 34640, 34640, 34640, 346...</td>\n",
       "      <td>[34040, 34040, 34040, 34040, 34040, 34040, 340...</td>\n",
       "      <td>[[[62.81573570925102, 33.49031610207749], [59....</td>\n",
       "      <td>[[60.5507800219845, 35.26465151447588], [60.78...</td>\n",
       "      <td>[0.53517926, 0.50113046, 0.48567954, 0.4737239...</td>\n",
       "      <td>[[66.06126838242345, 28.880162680346388], [66....</td>\n",
       "      <td>[[64.05699608055423, 31.17933144091776], [64.0...</td>\n",
       "      <td>[0.07300971, 0.08296164, 0.08879429, 0.0909930...</td>\n",
       "      <td>...</td>\n",
       "      <td>[1.1501461, 1.6517024, 1.9768442, 2.2265384, 2...</td>\n",
       "      <td>[-100.619995, -102.96, -129.87, -165.75, -191....</td>\n",
       "      <td>[[2.5391848, 1.5146569, 1.0411696, 1.5689967, ...</td>\n",
       "      <td>[[0.001042456, 0.009847558, 0.012313993, 0.009...</td>\n",
       "      <td>[0.0008264334, 0.0009773864, 0.0009832539, nan...</td>\n",
       "      <td>[0.0408452, 0.04246293, 0.04184469, nan, nan, ...</td>\n",
       "      <td>[-0.347932, -0.33184236, -0.31452566, -0.29600...</td>\n",
       "      <td>[2.6819186, -2.904363, -2.827914, -2.5523405, ...</td>\n",
       "      <td>[1384, 2770, 4156, 4156, 5542, 6928, 6928, 831...</td>\n",
       "      <td>[34077145, 34077145, 34078531, 34079917, 34079...</td>\n",
       "    </tr>\n",
       "    <tr>\n",
       "      <th>2</th>\n",
       "      <td>20240320_171038_alone_comp_subj_4-2_and_4-3.1</td>\n",
       "      <td>4.2</td>\n",
       "      <td>[34642, 34642, 34642, 34642, 34642, 34642, 346...</td>\n",
       "      <td>[34042, 34042, 34042, 34042, 34042, 34042, 340...</td>\n",
       "      <td>[[[56.40002042465876, 33.47263135770957], [55....</td>\n",
       "      <td>[[60.438020774390075, 35.57292836881663], [60....</td>\n",
       "      <td>[1.4890755, 1.1949695, 0.93336076, 0.738537, 0...</td>\n",
       "      <td>[[48.80137642581422, 31.16922356981376], [49.0...</td>\n",
       "      <td>[[51.35546426976598, 33.93773101458849], [52.3...</td>\n",
       "      <td>[10.536535, 10.738277, 10.965685, 11.176429, 1...</td>\n",
       "      <td>...</td>\n",
       "      <td>[0.023950227, 0.96471804, 1.2889154, 1.6205887...</td>\n",
       "      <td>[-74.685, -113.49, -156.78, -194.21999, -266.1...</td>\n",
       "      <td>[[nan, nan, nan, nan, nan, nan, nan, nan, nan,...</td>\n",
       "      <td>[[0.0013803464, 0.0079310145, 0.009366615, 0.0...</td>\n",
       "      <td>[0.00366902, nan, nan, 0.002184509, 0.00216185...</td>\n",
       "      <td>[0.046842232, nan, nan, 0.023685867, 0.0444350...</td>\n",
       "      <td>[-0.37066078, -0.35752764, -0.3432352, -0.3277...</td>\n",
       "      <td>[2.7155704, -2.8761566, -2.806554, -2.548516, ...</td>\n",
       "      <td>[1384, 2770, 4156, 4156, 5541, 6927, 6927, 831...</td>\n",
       "      <td>[34079916, 34081302, 34082688, 34084074, 34084...</td>\n",
       "    </tr>\n",
       "    <tr>\n",
       "      <th>3</th>\n",
       "      <td>20240320_171038_alone_comp_subj_4-2_and_4-3.1</td>\n",
       "      <td>4.3</td>\n",
       "      <td>[34642, 34642, 34642, 34642, 34642, 34642, 346...</td>\n",
       "      <td>[34042, 34042, 34042, 34042, 34042, 34042, 340...</td>\n",
       "      <td>[[[61.39644296346538, 31.82081289424359], [58....</td>\n",
       "      <td>[[62.13302320168461, 34.13495024512682], [61.3...</td>\n",
       "      <td>[2.1410906, 2.5980964, 3.2073143, 3.9916637, 4...</td>\n",
       "      <td>[[50.83958858240558, 27.427984293098355], [50....</td>\n",
       "      <td>[[54.225662928143386, 30.269937128249303], [54...</td>\n",
       "      <td>[5.105928, 5.1050973, 5.082959, 5.072279, 5.09...</td>\n",
       "      <td>...</td>\n",
       "      <td>[2.0565047, 2.3807256, 2.6063833, 2.87997, 3.1...</td>\n",
       "      <td>[53.234997, 80.145, 106.079994, 139.42499, 206...</td>\n",
       "      <td>[[2.7552054, 1.5484817, 2.318468, 0.67259854, ...</td>\n",
       "      <td>[[0.001118467, 0.0013452128, 0.009780567, 0.01...</td>\n",
       "      <td>[0.0017462745, 0.0017710698, 0.0011198351, 0.0...</td>\n",
       "      <td>[0.031059334, 0.026878728, 0.018851878, 0.0271...</td>\n",
       "      <td>[0.49282554, 0.4864071, 0.47833988, 0.46862525...</td>\n",
       "      <td>[-0.7696023, -0.28357738, -0.24996911, 0.00574...</td>\n",
       "      <td>[1384, 2770, 4156, 4156, 5541, 6927, 6927, 831...</td>\n",
       "      <td>[34079916, 34081302, 34082688, 34084074, 34084...</td>\n",
       "    </tr>\n",
       "    <tr>\n",
       "      <th>4</th>\n",
       "      <td>20240322_120625_alone_comp_subj_3-3_and_3-4.1</td>\n",
       "      <td>3.3</td>\n",
       "      <td>[34668, 34668, 34668, 34668, 34668, 34668, 346...</td>\n",
       "      <td>[34069, 34069, 34069, 34069, 34069, 34069, 340...</td>\n",
       "      <td>[[[61.16399490425991, 32.70045972585698], [59....</td>\n",
       "      <td>[[61.53968210480167, 35.796468985578834], [61....</td>\n",
       "      <td>[1.0345234, 1.0340708, 1.0267321, 1.0295303, 0...</td>\n",
       "      <td>[[63.39944559401088, 26.348095697771708], [63....</td>\n",
       "      <td>[[63.14227571637791, 29.264671717012554], [62....</td>\n",
       "      <td>[2.4555418, 3.5262117, 4.9005065, 6.496412, 8....</td>\n",
       "      <td>...</td>\n",
       "      <td>[0.011866312, 0.9828468, 1.330576, 1.6782773, ...</td>\n",
       "      <td>[3.5099998, -2.145, -9.36, -28.275, -55.379997...</td>\n",
       "      <td>[[0.009626778, 0.042104572, 0.26073232, 0.0171...</td>\n",
       "      <td>[[0.032633882, 0.034465823, 0.037538365, 0.026...</td>\n",
       "      <td>[0.0021949317, 0.0022116762, 0.0016394572, nan...</td>\n",
       "      <td>[0.03049053, 0.017763153, 0.024036832, nan, na...</td>\n",
       "      <td>[0.20751306, 0.24045162, 0.27310878, 0.3053482...</td>\n",
       "      <td>[-1.2177873, -1.0926981, -1.0485686, -0.963749...</td>\n",
       "      <td>[1384, 1983, 2770, 4156, 5541, 5541, 6927, 831...</td>\n",
       "      <td>[34103476, 34104862, 34106248, 34106248, 34107...</td>\n",
       "    </tr>\n",
       "  </tbody>\n",
       "</table>\n",
       "<p>5 rows × 220 columns</p>\n",
       "</div>"
      ],
      "text/plain": [
       "                                      video_name current_subject  \\\n",
       "0  20240320_142408_alone_comp_subj_3-1_and_3-3.1             3.1   \n",
       "1  20240320_142408_alone_comp_subj_3-1_and_3-3.1             3.3   \n",
       "2  20240320_171038_alone_comp_subj_4-2_and_4-3.1             4.2   \n",
       "3  20240320_171038_alone_comp_subj_4-2_and_4-3.1             4.3   \n",
       "4  20240322_120625_alone_comp_subj_3-3_and_3-4.1             3.3   \n",
       "\n",
       "                                10s_after_tone_frame  \\\n",
       "0  [34640, 34640, 34640, 34640, 34640, 34640, 346...   \n",
       "1  [34640, 34640, 34640, 34640, 34640, 34640, 346...   \n",
       "2  [34642, 34642, 34642, 34642, 34642, 34642, 346...   \n",
       "3  [34642, 34642, 34642, 34642, 34642, 34642, 346...   \n",
       "4  [34668, 34668, 34668, 34668, 34668, 34668, 346...   \n",
       "\n",
       "                               10s_before_tone_frame  \\\n",
       "0  [34040, 34040, 34040, 34040, 34040, 34040, 340...   \n",
       "1  [34040, 34040, 34040, 34040, 34040, 34040, 340...   \n",
       "2  [34042, 34042, 34042, 34042, 34042, 34042, 340...   \n",
       "3  [34042, 34042, 34042, 34042, 34042, 34042, 340...   \n",
       "4  [34069, 34069, 34069, 34069, 34069, 34069, 340...   \n",
       "\n",
       "                                     agent_locations  \\\n",
       "0  [[[54.047201234350496, 32.48462136905939], [52...   \n",
       "1  [[[62.81573570925102, 33.49031610207749], [59....   \n",
       "2  [[[56.40002042465876, 33.47263135770957], [55....   \n",
       "3  [[[61.39644296346538, 31.82081289424359], [58....   \n",
       "4  [[[61.16399490425991, 32.70045972585698], [59....   \n",
       "\n",
       "                                          agent_nose  \\\n",
       "0  [[57.31849083590113, 33.645587310504695], [56....   \n",
       "1  [[60.5507800219845, 35.26465151447588], [60.78...   \n",
       "2  [[60.438020774390075, 35.57292836881663], [60....   \n",
       "3  [[62.13302320168461, 34.13495024512682], [61.3...   \n",
       "4  [[61.53968210480167, 35.796468985578834], [61....   \n",
       "\n",
       "                           agent_nose_to_reward_port  \\\n",
       "0  [4.960474, 5.34718, 5.802983, 6.407976, 7.1417...   \n",
       "1  [0.53517926, 0.50113046, 0.48567954, 0.4737239...   \n",
       "2  [1.4890755, 1.1949695, 0.93336076, 0.738537, 0...   \n",
       "3  [2.1410906, 2.5980964, 3.2073143, 3.9916637, 4...   \n",
       "4  [1.0345234, 1.0340708, 1.0267321, 1.0295303, 0...   \n",
       "\n",
       "                                     agent_tail_base  \\\n",
       "0  [[46.630318040576064, 30.523901100123272], [46...   \n",
       "1  [[66.06126838242345, 28.880162680346388], [66....   \n",
       "2  [[48.80137642581422, 31.16922356981376], [49.0...   \n",
       "3  [[50.83958858240558, 27.427984293098355], [50....   \n",
       "4  [[63.39944559401088, 26.348095697771708], [63....   \n",
       "\n",
       "                                        agent_thorax  \\\n",
       "0  [[48.61806735273943, 32.66608744832453], [48.1...   \n",
       "1  [[64.05699608055423, 31.17933144091776], [64.0...   \n",
       "2  [[51.35546426976598, 33.93773101458849], [52.3...   \n",
       "3  [[54.225662928143386, 30.269937128249303], [54...   \n",
       "4  [[63.14227571637791, 29.264671717012554], [62....   \n",
       "\n",
       "                               agent_thorax_velocity  ...  \\\n",
       "0  [7.0735817, 9.794592, 12.977724, 16.4886, 20.1...  ...   \n",
       "1  [0.07300971, 0.08296164, 0.08879429, 0.0909930...  ...   \n",
       "2  [10.536535, 10.738277, 10.965685, 11.176429, 1...  ...   \n",
       "3  [5.105928, 5.1050973, 5.082959, 5.072279, 5.09...  ...   \n",
       "4  [2.4555418, 3.5262117, 4.9005065, 6.496412, 8....  ...   \n",
       "\n",
       "                                    vHPC_gamma_phase  \\\n",
       "0  [2.1274095, 2.4930122, 2.7189336, 3.0126748, -...   \n",
       "1  [1.1501461, 1.6517024, 1.9768442, 2.2265384, 2...   \n",
       "2  [0.023950227, 0.96471804, 1.2889154, 1.6205887...   \n",
       "3  [2.0565047, 2.3807256, 2.6063833, 2.87997, 3.1...   \n",
       "4  [0.011866312, 0.9828468, 1.330576, 1.6782773, ...   \n",
       "\n",
       "                                      vHPC_lfp_trace  \\\n",
       "0  [65.715, 96.329994, 95.159996, 77.61, 112.905,...   \n",
       "1  [-100.619995, -102.96, -129.87, -165.75, -191....   \n",
       "2  [-74.685, -113.49, -156.78, -194.21999, -266.1...   \n",
       "3  [53.234997, 80.145, 106.079994, 139.42499, 206...   \n",
       "4  [3.5099998, -2.145, -9.36, -28.275, -55.379997...   \n",
       "\n",
       "       vHPC_mPFC_granger_all_frequencies_all_windows  \\\n",
       "0  [[nan, nan, nan, nan, nan, nan, nan, nan, nan,...   \n",
       "1  [[2.5391848, 1.5146569, 1.0411696, 1.5689967, ...   \n",
       "2  [[nan, nan, nan, nan, nan, nan, nan, nan, nan,...   \n",
       "3  [[2.7552054, 1.5484817, 2.318468, 0.67259854, ...   \n",
       "4  [[0.009626778, 0.042104572, 0.26073232, 0.0171...   \n",
       "\n",
       "              vHPC_power_all_frequencies_all_windows  \\\n",
       "0  [[nan, nan, nan, nan, nan, nan, nan, nan, nan,...   \n",
       "1  [[0.001042456, 0.009847558, 0.012313993, 0.009...   \n",
       "2  [[0.0013803464, 0.0079310145, 0.009366615, 0.0...   \n",
       "3  [[0.001118467, 0.0013452128, 0.009780567, 0.01...   \n",
       "4  [[0.032633882, 0.034465823, 0.037538365, 0.026...   \n",
       "\n",
       "                                    vHPC_power_gamma  \\\n",
       "0  [nan, 0.0046885125, 0.0033377786, 0.0018332143...   \n",
       "1  [0.0008264334, 0.0009773864, 0.0009832539, nan...   \n",
       "2  [0.00366902, nan, nan, 0.002184509, 0.00216185...   \n",
       "3  [0.0017462745, 0.0017710698, 0.0011198351, 0.0...   \n",
       "4  [0.0021949317, 0.0022116762, 0.0016394572, nan...   \n",
       "\n",
       "                                    vHPC_power_theta  \\\n",
       "0  [nan, 0.07223674, 0.06942491, 0.065466404, 0.0...   \n",
       "1  [0.0408452, 0.04246293, 0.04184469, nan, nan, ...   \n",
       "2  [0.046842232, nan, nan, 0.023685867, 0.0444350...   \n",
       "3  [0.031059334, 0.026878728, 0.018851878, 0.0271...   \n",
       "4  [0.03049053, 0.017763153, 0.024036832, nan, na...   \n",
       "\n",
       "                                     vHPC_theta_band  \\\n",
       "0  [0.8526041, 0.89195466, 0.93002737, 0.96665066...   \n",
       "1  [-0.347932, -0.33184236, -0.31452566, -0.29600...   \n",
       "2  [-0.37066078, -0.35752764, -0.3432352, -0.3277...   \n",
       "3  [0.49282554, 0.4864071, 0.47833988, 0.46862525...   \n",
       "4  [0.20751306, 0.24045162, 0.27310878, 0.3053482...   \n",
       "\n",
       "                                    vHPC_theta_phase  \\\n",
       "0  [-1.0124702, -0.7600434, -0.73781365, -0.59900...   \n",
       "1  [2.6819186, -2.904363, -2.827914, -2.5523405, ...   \n",
       "2  [2.7155704, -2.8761566, -2.806554, -2.548516, ...   \n",
       "3  [-0.7696023, -0.28357738, -0.24996911, 0.00574...   \n",
       "4  [-1.2177873, -1.0926981, -1.0485686, -0.963749...   \n",
       "\n",
       "                                    video_timestamps  \\\n",
       "0  [1384, 2770, 4156, 4156, 5542, 6928, 6928, 831...   \n",
       "1  [1384, 2770, 4156, 4156, 5542, 6928, 6928, 831...   \n",
       "2  [1384, 2770, 4156, 4156, 5541, 6927, 6927, 831...   \n",
       "3  [1384, 2770, 4156, 4156, 5541, 6927, 6927, 831...   \n",
       "4  [1384, 1983, 2770, 4156, 5541, 5541, 6927, 831...   \n",
       "\n",
       "                                   cluster_timestamp  \n",
       "0  [34077145, 34077145, 34078531, 34079917, 34079...  \n",
       "1  [34077145, 34077145, 34078531, 34079917, 34079...  \n",
       "2  [34079916, 34081302, 34082688, 34084074, 34084...  \n",
       "3  [34079916, 34081302, 34082688, 34084074, 34084...  \n",
       "4  [34103476, 34104862, 34106248, 34106248, 34107...  \n",
       "\n",
       "[5 rows x 220 columns]"
      ]
     },
     "execution_count": 23,
     "metadata": {},
     "output_type": "execute_result"
    }
   ],
   "source": [
    "LFP_SPECTRAL_DF.head()"
   ]
  },
  {
   "cell_type": "markdown",
   "metadata": {},
   "source": [
    "# Dropping redundant columns"
   ]
  },
  {
   "cell_type": "code",
   "execution_count": 24,
   "metadata": {
    "tags": []
   },
   "outputs": [],
   "source": [
    "dropping_columns = list(set(TRIAL_LABELS_DF.columns).intersection(set(LFP_SPECTRAL_DF.columns)))"
   ]
  },
  {
   "cell_type": "code",
   "execution_count": 25,
   "metadata": {
    "tags": []
   },
   "outputs": [
    {
     "data": {
      "text/plain": [
       "['video_name',\n",
       " 'last_timestamp',\n",
       " 'all_subjects',\n",
       " 'first_timestamp',\n",
       " 'tone_start_frame',\n",
       " 'box_2_port_entry_timestamps',\n",
       " 'tone_stop_frame',\n",
       " 'out_reward_frame',\n",
       " 'get_reward_frame',\n",
       " 'box_1_port_entry_frames',\n",
       " 'experiment',\n",
       " 'condition ',\n",
       " 'box_1_port_entry_timestamps',\n",
       " 'notes',\n",
       " 'competition_closeness',\n",
       " 'tone_stop_timestamp',\n",
       " 'session_dir',\n",
       " 'box_2_port_entry_frames',\n",
       " 'tone_start_timestamp']"
      ]
     },
     "execution_count": 25,
     "metadata": {},
     "output_type": "execute_result"
    }
   ],
   "source": [
    "dropping_columns"
   ]
  },
  {
   "cell_type": "code",
   "execution_count": 26,
   "metadata": {
    "tags": []
   },
   "outputs": [],
   "source": [
    "dropping_columns = ['tone_start_frame', 'tone_stop_frame', 'condition ', 'notes', 'competition_closeness', '10s_before_tone_frame', '10s_after_tone_frame']"
   ]
  },
  {
   "cell_type": "code",
   "execution_count": 27,
   "metadata": {
    "tags": []
   },
   "outputs": [],
   "source": [
    "LFP_SPECTRAL_DF = LFP_SPECTRAL_DF.drop(columns=dropping_columns, errors=\"ignore\")"
   ]
  },
  {
   "cell_type": "code",
   "execution_count": 28,
   "metadata": {
    "tags": []
   },
   "outputs": [],
   "source": [
    "dropping_columns = list(set(TRIAL_LABELS_DF.columns).intersection(set(LFP_SPECTRAL_DF.columns)))"
   ]
  },
  {
   "cell_type": "code",
   "execution_count": 29,
   "metadata": {
    "tags": []
   },
   "outputs": [
    {
     "data": {
      "text/plain": [
       "1830734.0"
      ]
     },
     "execution_count": 29,
     "metadata": {},
     "output_type": "execute_result"
    }
   ],
   "source": [
    "LFP_SPECTRAL_DF[\"first_timestamp\"].iloc[0]"
   ]
  },
  {
   "cell_type": "code",
   "execution_count": 30,
   "metadata": {
    "tags": []
   },
   "outputs": [
    {
     "data": {
      "text/plain": [
       "['video_name',\n",
       " 'last_timestamp',\n",
       " 'all_subjects',\n",
       " 'tone_stop_timestamp',\n",
       " 'first_timestamp',\n",
       " 'out_reward_frame',\n",
       " 'get_reward_frame',\n",
       " 'session_dir',\n",
       " 'box_2_port_entry_frames',\n",
       " 'experiment',\n",
       " 'tone_start_timestamp',\n",
       " 'box_2_port_entry_timestamps',\n",
       " 'box_1_port_entry_frames',\n",
       " 'box_1_port_entry_timestamps']"
      ]
     },
     "execution_count": 30,
     "metadata": {},
     "output_type": "execute_result"
    }
   ],
   "source": [
    "dropping_columns"
   ]
  },
  {
   "cell_type": "code",
   "execution_count": 31,
   "metadata": {
    "tags": []
   },
   "outputs": [],
   "source": [
    "dropping_columns = ['experiment',\n",
    "                    'box_1_port_entry_frames'\n",
    "                    'box_1_port_entry_timestamps'\n",
    "                    'box_2_port_entry_frames'\n",
    "                    'box_2_port_entry_timestamps',\n",
    "                    'session_dir',\n",
    "                    'all_subjects',\n",
    "                    'first_timestamp',\n",
    "                    'last_timestamp']\n"
   ]
  },
  {
   "cell_type": "code",
   "execution_count": 32,
   "metadata": {
    "tags": []
   },
   "outputs": [],
   "source": [
    "TRIAL_LABELS_DF = TRIAL_LABELS_DF.drop(columns=dropping_columns, errors=\"ignore\")"
   ]
  },
  {
   "cell_type": "markdown",
   "metadata": {},
   "source": [
    "## Merging the LFP and trial dataframe"
   ]
  },
  {
   "cell_type": "code",
   "execution_count": 33,
   "metadata": {
    "tags": []
   },
   "outputs": [],
   "source": [
    "LFP_SPECTRAL_DF[\"video_name\"] = LFP_SPECTRAL_DF[\"video_name\"].apply(lambda x: x.strip(\".videoTimeStamps.cameraHWSync\"))"
   ]
  },
  {
   "cell_type": "code",
   "execution_count": 34,
   "metadata": {
    "tags": []
   },
   "outputs": [],
   "source": [
    "LFP_SPECTRAL_DF[\"current_subject\"] = LFP_SPECTRAL_DF[\"current_subject\"].astype(str)\n"
   ]
  },
  {
   "cell_type": "code",
   "execution_count": 35,
   "metadata": {
    "tags": []
   },
   "outputs": [],
   "source": [
    "TRIAL_LABELS_DF = TRIAL_LABELS_DF.dropna(subset=[\"video_name\"])"
   ]
  },
  {
   "cell_type": "code",
   "execution_count": 36,
   "metadata": {
    "tags": []
   },
   "outputs": [],
   "source": [
    "TRIAL_LABELS_DF = TRIAL_LABELS_DF.dropna(subset=[\"condition \"])"
   ]
  },
  {
   "cell_type": "code",
   "execution_count": 37,
   "metadata": {},
   "outputs": [],
   "source": [
    "TRIAL_LABELS_DF = TRIAL_LABELS_DF[~TRIAL_LABELS_DF[\"condition \"].isin([\"rewarded\"])].copy()"
   ]
  },
  {
   "cell_type": "code",
   "execution_count": 38,
   "metadata": {
    "tags": []
   },
   "outputs": [],
   "source": [
    "TRIAL_LABELS_DF[\"video_name\"] = TRIAL_LABELS_DF[\"video_name\"].apply(lambda x: x.strip(\".videoTimeStamps.cameraHWSync\"))\n"
   ]
  },
  {
   "cell_type": "code",
   "execution_count": 39,
   "metadata": {
    "tags": []
   },
   "outputs": [
    {
     "data": {
      "text/plain": [
       "array(['20240320_142408_alone_comp_subj_3-1_and_3-3.1',\n",
       "       '20240320_171038_alone_comp_subj_4-2_and_4-3.1',\n",
       "       '20240322_120625_alone_comp_subj_3-3_and_3-4.1',\n",
       "       '20240322_160946_alone_comp_subj_4-3_and_4-4.1',\n",
       "       '20240323_122227_alone_comp_subj_5-2_and_5-3.1',\n",
       "       '20240323_144517_alone_comp_subj_3-1_and_3-4.1',\n",
       "       '20240323_165815_alone_comp_subj_4-2_and_4-4.1'], dtype=object)"
      ]
     },
     "execution_count": 39,
     "metadata": {},
     "output_type": "execute_result"
    }
   ],
   "source": [
    "TRIAL_LABELS_DF[\"video_name\"].unique()"
   ]
  },
  {
   "cell_type": "code",
   "execution_count": 40,
   "metadata": {
    "tags": []
   },
   "outputs": [
    {
     "data": {
      "text/plain": [
       "array(['20240320_142408_alone_comp_subj_3-1_and_3-3.1',\n",
       "       '20240320_171038_alone_comp_subj_4-2_and_4-3.1',\n",
       "       '20240322_120625_alone_comp_subj_3-3_and_3-4.1',\n",
       "       '20240322_160946_alone_comp_subj_4-3_and_4-4.1',\n",
       "       '20240323_122227_alone_comp_subj_5-2_and_5-3.1',\n",
       "       '20240323_144517_alone_comp_subj_3-1_and_3-4.1',\n",
       "       '20240323_165815_alone_comp_subj_4-2_and_4-4.1'], dtype=object)"
      ]
     },
     "execution_count": 40,
     "metadata": {},
     "output_type": "execute_result"
    }
   ],
   "source": [
    "LFP_SPECTRAL_DF[\"video_name\"].unique()"
   ]
  },
  {
   "cell_type": "code",
   "execution_count": 41,
   "metadata": {
    "tags": []
   },
   "outputs": [],
   "source": [
    "TRIALS_AND_SPECTRAL_DF = pd.merge(TRIAL_LABELS_DF, LFP_SPECTRAL_DF, on=[\"video_name\"], how=\"inner\", suffixes=('', '_remove'))"
   ]
  },
  {
   "cell_type": "code",
   "execution_count": 42,
   "metadata": {
    "tags": []
   },
   "outputs": [
    {
     "data": {
      "text/html": [
       "<div>\n",
       "<style scoped>\n",
       "    .dataframe tbody tr th:only-of-type {\n",
       "        vertical-align: middle;\n",
       "    }\n",
       "\n",
       "    .dataframe tbody tr th {\n",
       "        vertical-align: top;\n",
       "    }\n",
       "\n",
       "    .dataframe thead th {\n",
       "        text-align: right;\n",
       "    }\n",
       "</style>\n",
       "<table border=\"1\" class=\"dataframe\">\n",
       "  <thead>\n",
       "    <tr style=\"text-align: right;\">\n",
       "      <th></th>\n",
       "      <th>get_reward_frame_remove</th>\n",
       "      <th>out_reward_frame_remove</th>\n",
       "      <th>tone_start_timestamp_remove</th>\n",
       "      <th>tone_stop_timestamp_remove</th>\n",
       "      <th>box_1_port_entry_frames_remove</th>\n",
       "      <th>box_1_port_entry_timestamps_remove</th>\n",
       "      <th>box_2_port_entry_frames_remove</th>\n",
       "      <th>box_2_port_entry_timestamps_remove</th>\n",
       "    </tr>\n",
       "  </thead>\n",
       "  <tbody>\n",
       "    <tr>\n",
       "      <th>0</th>\n",
       "      <td>[nan, nan, nan, nan, nan, nan, nan, nan, nan, ...</td>\n",
       "      <td>[nan, nan, nan, nan, nan, nan, nan, nan, nan, ...</td>\n",
       "      <td>[34276299.0, 34276299.0, 34276299.0, 34276299....</td>\n",
       "      <td>[34476299.0, 34476299.0, 34476299.0, 34476299....</td>\n",
       "      <td>[[0, 74], [152, 157], [252, 305], [305, 323], ...</td>\n",
       "      <td>[[0, 75474], [153075, 158874], [252873, 306276...</td>\n",
       "      <td>[[0, 74], [160, 225], [254, 257], [257, 279], ...</td>\n",
       "      <td>[[0, 75474], [162074, 226073], [255076, 258076...</td>\n",
       "    </tr>\n",
       "    <tr>\n",
       "      <th>1</th>\n",
       "      <td>[nan, nan, nan, nan, nan, nan, nan, nan, nan, ...</td>\n",
       "      <td>[nan, nan, nan, nan, nan, nan, nan, nan, nan, ...</td>\n",
       "      <td>[34276299.0, 34276299.0, 34276299.0, 34276299....</td>\n",
       "      <td>[34476299.0, 34476299.0, 34476299.0, 34476299....</td>\n",
       "      <td>[[0, 74], [152, 157], [252, 305], [305, 323], ...</td>\n",
       "      <td>[[0, 75474], [153075, 158874], [252873, 306276...</td>\n",
       "      <td>[[0, 74], [160, 225], [254, 257], [257, 279], ...</td>\n",
       "      <td>[[0, 75474], [162074, 226073], [255076, 258076...</td>\n",
       "    </tr>\n",
       "    <tr>\n",
       "      <th>2</th>\n",
       "      <td>[nan, nan, nan, nan, nan, nan, nan, nan, nan, ...</td>\n",
       "      <td>[nan, nan, nan, nan, nan, nan, nan, nan, nan, ...</td>\n",
       "      <td>[34276299.0, 34276299.0, 34276299.0, 34276299....</td>\n",
       "      <td>[34476299.0, 34476299.0, 34476299.0, 34476299....</td>\n",
       "      <td>[[0, 74], [152, 157], [252, 305], [305, 323], ...</td>\n",
       "      <td>[[0, 75474], [153075, 158874], [252873, 306276...</td>\n",
       "      <td>[[0, 74], [160, 225], [254, 257], [257, 279], ...</td>\n",
       "      <td>[[0, 75474], [162074, 226073], [255076, 258076...</td>\n",
       "    </tr>\n",
       "    <tr>\n",
       "      <th>3</th>\n",
       "      <td>[nan, nan, nan, nan, nan, nan, nan, nan, nan, ...</td>\n",
       "      <td>[nan, nan, nan, nan, nan, nan, nan, nan, nan, ...</td>\n",
       "      <td>[34276299.0, 34276299.0, 34276299.0, 34276299....</td>\n",
       "      <td>[34476299.0, 34476299.0, 34476299.0, 34476299....</td>\n",
       "      <td>[[0, 74], [152, 157], [252, 305], [305, 323], ...</td>\n",
       "      <td>[[0, 75474], [153075, 158874], [252873, 306276...</td>\n",
       "      <td>[[0, 74], [160, 225], [254, 257], [257, 279], ...</td>\n",
       "      <td>[[0, 75474], [162074, 226073], [255076, 258076...</td>\n",
       "    </tr>\n",
       "    <tr>\n",
       "      <th>4</th>\n",
       "      <td>[nan, nan, nan, nan, nan, nan, nan, nan, nan, ...</td>\n",
       "      <td>[nan, nan, nan, nan, nan, nan, nan, nan, nan, ...</td>\n",
       "      <td>[34276299.0, 34276299.0, 34276299.0, 34276299....</td>\n",
       "      <td>[34476299.0, 34476299.0, 34476299.0, 34476299....</td>\n",
       "      <td>[[0, 74], [152, 157], [252, 305], [305, 323], ...</td>\n",
       "      <td>[[0, 75474], [153075, 158874], [252873, 306276...</td>\n",
       "      <td>[[0, 74], [160, 225], [254, 257], [257, 279], ...</td>\n",
       "      <td>[[0, 75474], [162074, 226073], [255076, 258076...</td>\n",
       "    </tr>\n",
       "  </tbody>\n",
       "</table>\n",
       "</div>"
      ],
      "text/plain": [
       "                             get_reward_frame_remove  \\\n",
       "0  [nan, nan, nan, nan, nan, nan, nan, nan, nan, ...   \n",
       "1  [nan, nan, nan, nan, nan, nan, nan, nan, nan, ...   \n",
       "2  [nan, nan, nan, nan, nan, nan, nan, nan, nan, ...   \n",
       "3  [nan, nan, nan, nan, nan, nan, nan, nan, nan, ...   \n",
       "4  [nan, nan, nan, nan, nan, nan, nan, nan, nan, ...   \n",
       "\n",
       "                             out_reward_frame_remove  \\\n",
       "0  [nan, nan, nan, nan, nan, nan, nan, nan, nan, ...   \n",
       "1  [nan, nan, nan, nan, nan, nan, nan, nan, nan, ...   \n",
       "2  [nan, nan, nan, nan, nan, nan, nan, nan, nan, ...   \n",
       "3  [nan, nan, nan, nan, nan, nan, nan, nan, nan, ...   \n",
       "4  [nan, nan, nan, nan, nan, nan, nan, nan, nan, ...   \n",
       "\n",
       "                         tone_start_timestamp_remove  \\\n",
       "0  [34276299.0, 34276299.0, 34276299.0, 34276299....   \n",
       "1  [34276299.0, 34276299.0, 34276299.0, 34276299....   \n",
       "2  [34276299.0, 34276299.0, 34276299.0, 34276299....   \n",
       "3  [34276299.0, 34276299.0, 34276299.0, 34276299....   \n",
       "4  [34276299.0, 34276299.0, 34276299.0, 34276299....   \n",
       "\n",
       "                          tone_stop_timestamp_remove  \\\n",
       "0  [34476299.0, 34476299.0, 34476299.0, 34476299....   \n",
       "1  [34476299.0, 34476299.0, 34476299.0, 34476299....   \n",
       "2  [34476299.0, 34476299.0, 34476299.0, 34476299....   \n",
       "3  [34476299.0, 34476299.0, 34476299.0, 34476299....   \n",
       "4  [34476299.0, 34476299.0, 34476299.0, 34476299....   \n",
       "\n",
       "                      box_1_port_entry_frames_remove  \\\n",
       "0  [[0, 74], [152, 157], [252, 305], [305, 323], ...   \n",
       "1  [[0, 74], [152, 157], [252, 305], [305, 323], ...   \n",
       "2  [[0, 74], [152, 157], [252, 305], [305, 323], ...   \n",
       "3  [[0, 74], [152, 157], [252, 305], [305, 323], ...   \n",
       "4  [[0, 74], [152, 157], [252, 305], [305, 323], ...   \n",
       "\n",
       "                  box_1_port_entry_timestamps_remove  \\\n",
       "0  [[0, 75474], [153075, 158874], [252873, 306276...   \n",
       "1  [[0, 75474], [153075, 158874], [252873, 306276...   \n",
       "2  [[0, 75474], [153075, 158874], [252873, 306276...   \n",
       "3  [[0, 75474], [153075, 158874], [252873, 306276...   \n",
       "4  [[0, 75474], [153075, 158874], [252873, 306276...   \n",
       "\n",
       "                      box_2_port_entry_frames_remove  \\\n",
       "0  [[0, 74], [160, 225], [254, 257], [257, 279], ...   \n",
       "1  [[0, 74], [160, 225], [254, 257], [257, 279], ...   \n",
       "2  [[0, 74], [160, 225], [254, 257], [257, 279], ...   \n",
       "3  [[0, 74], [160, 225], [254, 257], [257, 279], ...   \n",
       "4  [[0, 74], [160, 225], [254, 257], [257, 279], ...   \n",
       "\n",
       "                  box_2_port_entry_timestamps_remove  \n",
       "0  [[0, 75474], [162074, 226073], [255076, 258076...  \n",
       "1  [[0, 75474], [162074, 226073], [255076, 258076...  \n",
       "2  [[0, 75474], [162074, 226073], [255076, 258076...  \n",
       "3  [[0, 75474], [162074, 226073], [255076, 258076...  \n",
       "4  [[0, 75474], [162074, 226073], [255076, 258076...  "
      ]
     },
     "execution_count": 42,
     "metadata": {},
     "output_type": "execute_result"
    }
   ],
   "source": [
    "TRIALS_AND_SPECTRAL_DF[[col for col in TRIALS_AND_SPECTRAL_DF if \"_remove\" in col]].head()"
   ]
  },
  {
   "cell_type": "code",
   "execution_count": 43,
   "metadata": {
    "tags": []
   },
   "outputs": [],
   "source": [
    "TRIALS_AND_SPECTRAL_DF = TRIALS_AND_SPECTRAL_DF.drop(columns=[col for col in TRIALS_AND_SPECTRAL_DF if \"remove\" in col], errors=\"ignore\")"
   ]
  },
  {
   "cell_type": "code",
   "execution_count": 44,
   "metadata": {
    "tags": []
   },
   "outputs": [],
   "source": [
    "TRIALS_AND_SPECTRAL_DF = TRIALS_AND_SPECTRAL_DF.drop(columns=[col for col in TRIALS_AND_SPECTRAL_DF if \"Unnamed\" in col])"
   ]
  },
  {
   "cell_type": "code",
   "execution_count": 45,
   "metadata": {
    "tags": []
   },
   "outputs": [
    {
     "data": {
      "text/html": [
       "<div>\n",
       "<style scoped>\n",
       "    .dataframe tbody tr th:only-of-type {\n",
       "        vertical-align: middle;\n",
       "    }\n",
       "\n",
       "    .dataframe tbody tr th {\n",
       "        vertical-align: top;\n",
       "    }\n",
       "\n",
       "    .dataframe thead th {\n",
       "        text-align: right;\n",
       "    }\n",
       "</style>\n",
       "<table border=\"1\" class=\"dataframe\">\n",
       "  <thead>\n",
       "    <tr style=\"text-align: right;\">\n",
       "      <th></th>\n",
       "      <th>tone_start_frame</th>\n",
       "      <th>reward_start</th>\n",
       "      <th>reward_dispensed</th>\n",
       "      <th>tone_stop_frame</th>\n",
       "      <th>condition</th>\n",
       "      <th>competition_closeness</th>\n",
       "      <th>get_reward_frame</th>\n",
       "      <th>out_reward_frame</th>\n",
       "      <th>notes</th>\n",
       "      <th>box_1_port_entry_frames</th>\n",
       "      <th>...</th>\n",
       "      <th>vHPC_gamma_phase</th>\n",
       "      <th>vHPC_lfp_trace</th>\n",
       "      <th>vHPC_mPFC_granger_all_frequencies_all_windows</th>\n",
       "      <th>vHPC_power_all_frequencies_all_windows</th>\n",
       "      <th>vHPC_power_gamma</th>\n",
       "      <th>vHPC_power_theta</th>\n",
       "      <th>vHPC_theta_band</th>\n",
       "      <th>vHPC_theta_phase</th>\n",
       "      <th>video_timestamps</th>\n",
       "      <th>cluster_timestamp</th>\n",
       "    </tr>\n",
       "  </thead>\n",
       "  <tbody>\n",
       "    <tr>\n",
       "      <th>0</th>\n",
       "      <td>34240.0</td>\n",
       "      <td>34320</td>\n",
       "      <td>34340.0</td>\n",
       "      <td>34440.0</td>\n",
       "      <td>3.1</td>\n",
       "      <td>Subj 1 Only</td>\n",
       "      <td>NaN</td>\n",
       "      <td>NaN</td>\n",
       "      <td>NaN</td>\n",
       "      <td>[34236 34249] [34270 34280] [34342 34483]</td>\n",
       "      <td>...</td>\n",
       "      <td>[2.1274095, 2.4930122, 2.7189336, 3.0126748, -...</td>\n",
       "      <td>[65.715, 96.329994, 95.159996, 77.61, 112.905,...</td>\n",
       "      <td>[[nan, nan, nan, nan, nan, nan, nan, nan, nan,...</td>\n",
       "      <td>[[nan, nan, nan, nan, nan, nan, nan, nan, nan,...</td>\n",
       "      <td>[nan, 0.0046885125, 0.0033377786, 0.0018332143...</td>\n",
       "      <td>[nan, 0.07223674, 0.06942491, 0.065466404, 0.0...</td>\n",
       "      <td>[0.8526041, 0.89195466, 0.93002737, 0.96665066...</td>\n",
       "      <td>[-1.0124702, -0.7600434, -0.73781365, -0.59900...</td>\n",
       "      <td>[1384, 2770, 4156, 4156, 5542, 6928, 6928, 831...</td>\n",
       "      <td>[34077145, 34077145, 34078531, 34079917, 34079...</td>\n",
       "    </tr>\n",
       "    <tr>\n",
       "      <th>1</th>\n",
       "      <td>34240.0</td>\n",
       "      <td>34320</td>\n",
       "      <td>34340.0</td>\n",
       "      <td>34440.0</td>\n",
       "      <td>3.1</td>\n",
       "      <td>Subj 1 Only</td>\n",
       "      <td>NaN</td>\n",
       "      <td>NaN</td>\n",
       "      <td>NaN</td>\n",
       "      <td>[34236 34249] [34270 34280] [34342 34483]</td>\n",
       "      <td>...</td>\n",
       "      <td>[1.1501461, 1.6517024, 1.9768442, 2.2265384, 2...</td>\n",
       "      <td>[-100.619995, -102.96, -129.87, -165.75, -191....</td>\n",
       "      <td>[[2.5391848, 1.5146569, 1.0411696, 1.5689967, ...</td>\n",
       "      <td>[[0.001042456, 0.009847558, 0.012313993, 0.009...</td>\n",
       "      <td>[0.0008264334, 0.0009773864, 0.0009832539, nan...</td>\n",
       "      <td>[0.0408452, 0.04246293, 0.04184469, nan, nan, ...</td>\n",
       "      <td>[-0.347932, -0.33184236, -0.31452566, -0.29600...</td>\n",
       "      <td>[2.6819186, -2.904363, -2.827914, -2.5523405, ...</td>\n",
       "      <td>[1384, 2770, 4156, 4156, 5542, 6928, 6928, 831...</td>\n",
       "      <td>[34077145, 34077145, 34078531, 34079917, 34079...</td>\n",
       "    </tr>\n",
       "    <tr>\n",
       "      <th>2</th>\n",
       "      <td>35238.0</td>\n",
       "      <td>35318</td>\n",
       "      <td>35338.0</td>\n",
       "      <td>35437.0</td>\n",
       "      <td>3.1</td>\n",
       "      <td>Subj 1 then Subj 2</td>\n",
       "      <td>NaN</td>\n",
       "      <td>NaN</td>\n",
       "      <td>NaN</td>\n",
       "      <td>[35237 35255] [35280 35312] [35324 35368] [353...</td>\n",
       "      <td>...</td>\n",
       "      <td>[2.1274095, 2.4930122, 2.7189336, 3.0126748, -...</td>\n",
       "      <td>[65.715, 96.329994, 95.159996, 77.61, 112.905,...</td>\n",
       "      <td>[[nan, nan, nan, nan, nan, nan, nan, nan, nan,...</td>\n",
       "      <td>[[nan, nan, nan, nan, nan, nan, nan, nan, nan,...</td>\n",
       "      <td>[nan, 0.0046885125, 0.0033377786, 0.0018332143...</td>\n",
       "      <td>[nan, 0.07223674, 0.06942491, 0.065466404, 0.0...</td>\n",
       "      <td>[0.8526041, 0.89195466, 0.93002737, 0.96665066...</td>\n",
       "      <td>[-1.0124702, -0.7600434, -0.73781365, -0.59900...</td>\n",
       "      <td>[1384, 2770, 4156, 4156, 5542, 6928, 6928, 831...</td>\n",
       "      <td>[34077145, 34077145, 34078531, 34079917, 34079...</td>\n",
       "    </tr>\n",
       "    <tr>\n",
       "      <th>3</th>\n",
       "      <td>35238.0</td>\n",
       "      <td>35318</td>\n",
       "      <td>35338.0</td>\n",
       "      <td>35437.0</td>\n",
       "      <td>3.1</td>\n",
       "      <td>Subj 1 then Subj 2</td>\n",
       "      <td>NaN</td>\n",
       "      <td>NaN</td>\n",
       "      <td>NaN</td>\n",
       "      <td>[35237 35255] [35280 35312] [35324 35368] [353...</td>\n",
       "      <td>...</td>\n",
       "      <td>[1.1501461, 1.6517024, 1.9768442, 2.2265384, 2...</td>\n",
       "      <td>[-100.619995, -102.96, -129.87, -165.75, -191....</td>\n",
       "      <td>[[2.5391848, 1.5146569, 1.0411696, 1.5689967, ...</td>\n",
       "      <td>[[0.001042456, 0.009847558, 0.012313993, 0.009...</td>\n",
       "      <td>[0.0008264334, 0.0009773864, 0.0009832539, nan...</td>\n",
       "      <td>[0.0408452, 0.04246293, 0.04184469, nan, nan, ...</td>\n",
       "      <td>[-0.347932, -0.33184236, -0.31452566, -0.29600...</td>\n",
       "      <td>[2.6819186, -2.904363, -2.827914, -2.5523405, ...</td>\n",
       "      <td>[1384, 2770, 4156, 4156, 5542, 6928, 6928, 831...</td>\n",
       "      <td>[34077145, 34077145, 34078531, 34079917, 34079...</td>\n",
       "    </tr>\n",
       "    <tr>\n",
       "      <th>4</th>\n",
       "      <td>36337.0</td>\n",
       "      <td>36417</td>\n",
       "      <td>36437.0</td>\n",
       "      <td>36536.0</td>\n",
       "      <td>3.3</td>\n",
       "      <td>Subj 2 Only</td>\n",
       "      <td>NaN</td>\n",
       "      <td>NaN</td>\n",
       "      <td>NaN</td>\n",
       "      <td>[36312 36345] [36439 36503] [36522 36562]</td>\n",
       "      <td>...</td>\n",
       "      <td>[2.1274095, 2.4930122, 2.7189336, 3.0126748, -...</td>\n",
       "      <td>[65.715, 96.329994, 95.159996, 77.61, 112.905,...</td>\n",
       "      <td>[[nan, nan, nan, nan, nan, nan, nan, nan, nan,...</td>\n",
       "      <td>[[nan, nan, nan, nan, nan, nan, nan, nan, nan,...</td>\n",
       "      <td>[nan, 0.0046885125, 0.0033377786, 0.0018332143...</td>\n",
       "      <td>[nan, 0.07223674, 0.06942491, 0.065466404, 0.0...</td>\n",
       "      <td>[0.8526041, 0.89195466, 0.93002737, 0.96665066...</td>\n",
       "      <td>[-1.0124702, -0.7600434, -0.73781365, -0.59900...</td>\n",
       "      <td>[1384, 2770, 4156, 4156, 5542, 6928, 6928, 831...</td>\n",
       "      <td>[34077145, 34077145, 34078531, 34079917, 34079...</td>\n",
       "    </tr>\n",
       "  </tbody>\n",
       "</table>\n",
       "<p>5 rows × 220 columns</p>\n",
       "</div>"
      ],
      "text/plain": [
       "   tone_start_frame  reward_start  reward_dispensed  tone_stop_frame  \\\n",
       "0           34240.0         34320           34340.0          34440.0   \n",
       "1           34240.0         34320           34340.0          34440.0   \n",
       "2           35238.0         35318           35338.0          35437.0   \n",
       "3           35238.0         35318           35338.0          35437.0   \n",
       "4           36337.0         36417           36437.0          36536.0   \n",
       "\n",
       "  condition  competition_closeness  get_reward_frame  out_reward_frame notes  \\\n",
       "0        3.1           Subj 1 Only               NaN               NaN   NaN   \n",
       "1        3.1           Subj 1 Only               NaN               NaN   NaN   \n",
       "2        3.1    Subj 1 then Subj 2               NaN               NaN   NaN   \n",
       "3        3.1    Subj 1 then Subj 2               NaN               NaN   NaN   \n",
       "4        3.3           Subj 2 Only               NaN               NaN   NaN   \n",
       "\n",
       "                             box_1_port_entry_frames  ...  \\\n",
       "0          [34236 34249] [34270 34280] [34342 34483]  ...   \n",
       "1          [34236 34249] [34270 34280] [34342 34483]  ...   \n",
       "2  [35237 35255] [35280 35312] [35324 35368] [353...  ...   \n",
       "3  [35237 35255] [35280 35312] [35324 35368] [353...  ...   \n",
       "4          [36312 36345] [36439 36503] [36522 36562]  ...   \n",
       "\n",
       "                                    vHPC_gamma_phase  \\\n",
       "0  [2.1274095, 2.4930122, 2.7189336, 3.0126748, -...   \n",
       "1  [1.1501461, 1.6517024, 1.9768442, 2.2265384, 2...   \n",
       "2  [2.1274095, 2.4930122, 2.7189336, 3.0126748, -...   \n",
       "3  [1.1501461, 1.6517024, 1.9768442, 2.2265384, 2...   \n",
       "4  [2.1274095, 2.4930122, 2.7189336, 3.0126748, -...   \n",
       "\n",
       "                                      vHPC_lfp_trace  \\\n",
       "0  [65.715, 96.329994, 95.159996, 77.61, 112.905,...   \n",
       "1  [-100.619995, -102.96, -129.87, -165.75, -191....   \n",
       "2  [65.715, 96.329994, 95.159996, 77.61, 112.905,...   \n",
       "3  [-100.619995, -102.96, -129.87, -165.75, -191....   \n",
       "4  [65.715, 96.329994, 95.159996, 77.61, 112.905,...   \n",
       "\n",
       "       vHPC_mPFC_granger_all_frequencies_all_windows  \\\n",
       "0  [[nan, nan, nan, nan, nan, nan, nan, nan, nan,...   \n",
       "1  [[2.5391848, 1.5146569, 1.0411696, 1.5689967, ...   \n",
       "2  [[nan, nan, nan, nan, nan, nan, nan, nan, nan,...   \n",
       "3  [[2.5391848, 1.5146569, 1.0411696, 1.5689967, ...   \n",
       "4  [[nan, nan, nan, nan, nan, nan, nan, nan, nan,...   \n",
       "\n",
       "              vHPC_power_all_frequencies_all_windows  \\\n",
       "0  [[nan, nan, nan, nan, nan, nan, nan, nan, nan,...   \n",
       "1  [[0.001042456, 0.009847558, 0.012313993, 0.009...   \n",
       "2  [[nan, nan, nan, nan, nan, nan, nan, nan, nan,...   \n",
       "3  [[0.001042456, 0.009847558, 0.012313993, 0.009...   \n",
       "4  [[nan, nan, nan, nan, nan, nan, nan, nan, nan,...   \n",
       "\n",
       "                                    vHPC_power_gamma  \\\n",
       "0  [nan, 0.0046885125, 0.0033377786, 0.0018332143...   \n",
       "1  [0.0008264334, 0.0009773864, 0.0009832539, nan...   \n",
       "2  [nan, 0.0046885125, 0.0033377786, 0.0018332143...   \n",
       "3  [0.0008264334, 0.0009773864, 0.0009832539, nan...   \n",
       "4  [nan, 0.0046885125, 0.0033377786, 0.0018332143...   \n",
       "\n",
       "                                    vHPC_power_theta  \\\n",
       "0  [nan, 0.07223674, 0.06942491, 0.065466404, 0.0...   \n",
       "1  [0.0408452, 0.04246293, 0.04184469, nan, nan, ...   \n",
       "2  [nan, 0.07223674, 0.06942491, 0.065466404, 0.0...   \n",
       "3  [0.0408452, 0.04246293, 0.04184469, nan, nan, ...   \n",
       "4  [nan, 0.07223674, 0.06942491, 0.065466404, 0.0...   \n",
       "\n",
       "                                     vHPC_theta_band  \\\n",
       "0  [0.8526041, 0.89195466, 0.93002737, 0.96665066...   \n",
       "1  [-0.347932, -0.33184236, -0.31452566, -0.29600...   \n",
       "2  [0.8526041, 0.89195466, 0.93002737, 0.96665066...   \n",
       "3  [-0.347932, -0.33184236, -0.31452566, -0.29600...   \n",
       "4  [0.8526041, 0.89195466, 0.93002737, 0.96665066...   \n",
       "\n",
       "                                    vHPC_theta_phase  \\\n",
       "0  [-1.0124702, -0.7600434, -0.73781365, -0.59900...   \n",
       "1  [2.6819186, -2.904363, -2.827914, -2.5523405, ...   \n",
       "2  [-1.0124702, -0.7600434, -0.73781365, -0.59900...   \n",
       "3  [2.6819186, -2.904363, -2.827914, -2.5523405, ...   \n",
       "4  [-1.0124702, -0.7600434, -0.73781365, -0.59900...   \n",
       "\n",
       "                                    video_timestamps  \\\n",
       "0  [1384, 2770, 4156, 4156, 5542, 6928, 6928, 831...   \n",
       "1  [1384, 2770, 4156, 4156, 5542, 6928, 6928, 831...   \n",
       "2  [1384, 2770, 4156, 4156, 5542, 6928, 6928, 831...   \n",
       "3  [1384, 2770, 4156, 4156, 5542, 6928, 6928, 831...   \n",
       "4  [1384, 2770, 4156, 4156, 5542, 6928, 6928, 831...   \n",
       "\n",
       "                                   cluster_timestamp  \n",
       "0  [34077145, 34077145, 34078531, 34079917, 34079...  \n",
       "1  [34077145, 34077145, 34078531, 34079917, 34079...  \n",
       "2  [34077145, 34077145, 34078531, 34079917, 34079...  \n",
       "3  [34077145, 34077145, 34078531, 34079917, 34079...  \n",
       "4  [34077145, 34077145, 34078531, 34079917, 34079...  \n",
       "\n",
       "[5 rows x 220 columns]"
      ]
     },
     "execution_count": 45,
     "metadata": {},
     "output_type": "execute_result"
    }
   ],
   "source": [
    "TRIALS_AND_SPECTRAL_DF.head()"
   ]
  },
  {
   "cell_type": "code",
   "execution_count": 46,
   "metadata": {
    "tags": []
   },
   "outputs": [
    {
     "data": {
      "text/html": [
       "<div>\n",
       "<style scoped>\n",
       "    .dataframe tbody tr th:only-of-type {\n",
       "        vertical-align: middle;\n",
       "    }\n",
       "\n",
       "    .dataframe tbody tr th {\n",
       "        vertical-align: top;\n",
       "    }\n",
       "\n",
       "    .dataframe thead th {\n",
       "        text-align: right;\n",
       "    }\n",
       "</style>\n",
       "<table border=\"1\" class=\"dataframe\">\n",
       "  <thead>\n",
       "    <tr style=\"text-align: right;\">\n",
       "      <th></th>\n",
       "      <th>tone_start_frame</th>\n",
       "      <th>reward_start</th>\n",
       "      <th>reward_dispensed</th>\n",
       "      <th>tone_stop_frame</th>\n",
       "      <th>condition</th>\n",
       "      <th>competition_closeness</th>\n",
       "      <th>get_reward_frame</th>\n",
       "      <th>out_reward_frame</th>\n",
       "      <th>notes</th>\n",
       "      <th>box_1_port_entry_frames</th>\n",
       "      <th>...</th>\n",
       "      <th>vHPC_gamma_phase</th>\n",
       "      <th>vHPC_lfp_trace</th>\n",
       "      <th>vHPC_mPFC_granger_all_frequencies_all_windows</th>\n",
       "      <th>vHPC_power_all_frequencies_all_windows</th>\n",
       "      <th>vHPC_power_gamma</th>\n",
       "      <th>vHPC_power_theta</th>\n",
       "      <th>vHPC_theta_band</th>\n",
       "      <th>vHPC_theta_phase</th>\n",
       "      <th>video_timestamps</th>\n",
       "      <th>cluster_timestamp</th>\n",
       "    </tr>\n",
       "  </thead>\n",
       "  <tbody>\n",
       "    <tr>\n",
       "      <th>283</th>\n",
       "      <td>57880.0</td>\n",
       "      <td>57960</td>\n",
       "      <td>57980.0</td>\n",
       "      <td>58079.0</td>\n",
       "      <td>4.4</td>\n",
       "      <td>Subj 2 then Subj 1</td>\n",
       "      <td>NaN</td>\n",
       "      <td>NaN</td>\n",
       "      <td>NaN</td>\n",
       "      <td>[57883 57894] [57896 57900] [57901 57909] [579...</td>\n",
       "      <td>...</td>\n",
       "      <td>[0.45023292, 1.3117398, 1.6877564, 1.9906867, ...</td>\n",
       "      <td>[45.045, 26.91, -14.82, -51.675, -58.695, -51....</td>\n",
       "      <td>[[0.6611806, 0.2473011, 0.73096365, 0.5656533,...</td>\n",
       "      <td>[[0.00643258, 0.006992285, 0.0069811256, 0.004...</td>\n",
       "      <td>[0.00016188143, 0.0002133701, 0.00021314951, 0...</td>\n",
       "      <td>[0.007144761, 0.0037135014, 0.005482981, 0.006...</td>\n",
       "      <td>[-0.096212715, -0.10505088, -0.11372743, -0.12...</td>\n",
       "      <td>[2.032272, 2.214738, 2.247664, 2.3557777, 2.39...</td>\n",
       "      <td>[1384, 2515, 2770, 4156, 5542, 5542, 6927, 831...</td>\n",
       "      <td>[37164862, 37166248, 37167634, 37167634, 37169...</td>\n",
       "    </tr>\n",
       "    <tr>\n",
       "      <th>284</th>\n",
       "      <td>60077.0</td>\n",
       "      <td>60157</td>\n",
       "      <td>60177.0</td>\n",
       "      <td>60276.0</td>\n",
       "      <td>4.4</td>\n",
       "      <td>Subj 2 blocking Subj 1</td>\n",
       "      <td>NaN</td>\n",
       "      <td>NaN</td>\n",
       "      <td>4.2 just jumping around on the right side of port</td>\n",
       "      <td>[60070 60098] [60099 60101] [60103 60105] [601...</td>\n",
       "      <td>...</td>\n",
       "      <td>[0.72235066, 1.454637, 1.8199799, 2.1028404, 2...</td>\n",
       "      <td>[-9.75, 7.41, 14.624999, -12.285, -66.299995, ...</td>\n",
       "      <td>[[1.095963, 0.27759162, 0.13746454, 0.27555922...</td>\n",
       "      <td>[[0.007860632, 0.0064592217, 0.006611264, 0.00...</td>\n",
       "      <td>[0.003164349, 0.0026817215, 0.002723993, 0.002...</td>\n",
       "      <td>[0.014044589, 0.025243934, 0.021230606, 0.0120...</td>\n",
       "      <td>[-0.16617914, -0.17804804, -0.18976012, -0.201...</td>\n",
       "      <td>[2.005712, 2.1644444, 2.1874144, 2.27717, 2.30...</td>\n",
       "      <td>[1384, 2515, 2770, 4156, 5542, 5542, 6927, 831...</td>\n",
       "      <td>[37164862, 37166248, 37167634, 37167634, 37169...</td>\n",
       "    </tr>\n",
       "    <tr>\n",
       "      <th>285</th>\n",
       "      <td>60077.0</td>\n",
       "      <td>60157</td>\n",
       "      <td>60177.0</td>\n",
       "      <td>60276.0</td>\n",
       "      <td>4.4</td>\n",
       "      <td>Subj 2 blocking Subj 1</td>\n",
       "      <td>NaN</td>\n",
       "      <td>NaN</td>\n",
       "      <td>4.2 just jumping around on the right side of port</td>\n",
       "      <td>[60070 60098] [60099 60101] [60103 60105] [601...</td>\n",
       "      <td>...</td>\n",
       "      <td>[0.45023292, 1.3117398, 1.6877564, 1.9906867, ...</td>\n",
       "      <td>[45.045, 26.91, -14.82, -51.675, -58.695, -51....</td>\n",
       "      <td>[[0.6611806, 0.2473011, 0.73096365, 0.5656533,...</td>\n",
       "      <td>[[0.00643258, 0.006992285, 0.0069811256, 0.004...</td>\n",
       "      <td>[0.00016188143, 0.0002133701, 0.00021314951, 0...</td>\n",
       "      <td>[0.007144761, 0.0037135014, 0.005482981, 0.006...</td>\n",
       "      <td>[-0.096212715, -0.10505088, -0.11372743, -0.12...</td>\n",
       "      <td>[2.032272, 2.214738, 2.247664, 2.3557777, 2.39...</td>\n",
       "      <td>[1384, 2515, 2770, 4156, 5542, 5542, 6927, 831...</td>\n",
       "      <td>[37164862, 37166248, 37167634, 37167634, 37169...</td>\n",
       "    </tr>\n",
       "    <tr>\n",
       "      <th>286</th>\n",
       "      <td>61174.0</td>\n",
       "      <td>61254</td>\n",
       "      <td>61274.0</td>\n",
       "      <td>61375.0</td>\n",
       "      <td>tie</td>\n",
       "      <td>Close Call</td>\n",
       "      <td>NaN</td>\n",
       "      <td>NaN</td>\n",
       "      <td>NaN</td>\n",
       "      <td>[61188 61211] [61211 61214] [61214 61220] [612...</td>\n",
       "      <td>...</td>\n",
       "      <td>[0.72235066, 1.454637, 1.8199799, 2.1028404, 2...</td>\n",
       "      <td>[-9.75, 7.41, 14.624999, -12.285, -66.299995, ...</td>\n",
       "      <td>[[1.095963, 0.27759162, 0.13746454, 0.27555922...</td>\n",
       "      <td>[[0.007860632, 0.0064592217, 0.006611264, 0.00...</td>\n",
       "      <td>[0.003164349, 0.0026817215, 0.002723993, 0.002...</td>\n",
       "      <td>[0.014044589, 0.025243934, 0.021230606, 0.0120...</td>\n",
       "      <td>[-0.16617914, -0.17804804, -0.18976012, -0.201...</td>\n",
       "      <td>[2.005712, 2.1644444, 2.1874144, 2.27717, 2.30...</td>\n",
       "      <td>[1384, 2515, 2770, 4156, 5542, 5542, 6927, 831...</td>\n",
       "      <td>[37164862, 37166248, 37167634, 37167634, 37169...</td>\n",
       "    </tr>\n",
       "    <tr>\n",
       "      <th>287</th>\n",
       "      <td>61174.0</td>\n",
       "      <td>61254</td>\n",
       "      <td>61274.0</td>\n",
       "      <td>61375.0</td>\n",
       "      <td>tie</td>\n",
       "      <td>Close Call</td>\n",
       "      <td>NaN</td>\n",
       "      <td>NaN</td>\n",
       "      <td>NaN</td>\n",
       "      <td>[61188 61211] [61211 61214] [61214 61220] [612...</td>\n",
       "      <td>...</td>\n",
       "      <td>[0.45023292, 1.3117398, 1.6877564, 1.9906867, ...</td>\n",
       "      <td>[45.045, 26.91, -14.82, -51.675, -58.695, -51....</td>\n",
       "      <td>[[0.6611806, 0.2473011, 0.73096365, 0.5656533,...</td>\n",
       "      <td>[[0.00643258, 0.006992285, 0.0069811256, 0.004...</td>\n",
       "      <td>[0.00016188143, 0.0002133701, 0.00021314951, 0...</td>\n",
       "      <td>[0.007144761, 0.0037135014, 0.005482981, 0.006...</td>\n",
       "      <td>[-0.096212715, -0.10505088, -0.11372743, -0.12...</td>\n",
       "      <td>[2.032272, 2.214738, 2.247664, 2.3557777, 2.39...</td>\n",
       "      <td>[1384, 2515, 2770, 4156, 5542, 5542, 6927, 831...</td>\n",
       "      <td>[37164862, 37166248, 37167634, 37167634, 37169...</td>\n",
       "    </tr>\n",
       "  </tbody>\n",
       "</table>\n",
       "<p>5 rows × 220 columns</p>\n",
       "</div>"
      ],
      "text/plain": [
       "     tone_start_frame  reward_start  reward_dispensed  tone_stop_frame  \\\n",
       "283           57880.0         57960           57980.0          58079.0   \n",
       "284           60077.0         60157           60177.0          60276.0   \n",
       "285           60077.0         60157           60177.0          60276.0   \n",
       "286           61174.0         61254           61274.0          61375.0   \n",
       "287           61174.0         61254           61274.0          61375.0   \n",
       "\n",
       "    condition    competition_closeness  get_reward_frame  out_reward_frame  \\\n",
       "283        4.4      Subj 2 then Subj 1               NaN               NaN   \n",
       "284        4.4  Subj 2 blocking Subj 1               NaN               NaN   \n",
       "285        4.4  Subj 2 blocking Subj 1               NaN               NaN   \n",
       "286        tie              Close Call               NaN               NaN   \n",
       "287        tie              Close Call               NaN               NaN   \n",
       "\n",
       "                                                 notes  \\\n",
       "283                                                NaN   \n",
       "284  4.2 just jumping around on the right side of port   \n",
       "285  4.2 just jumping around on the right side of port   \n",
       "286                                                NaN   \n",
       "287                                                NaN   \n",
       "\n",
       "                               box_1_port_entry_frames  ...  \\\n",
       "283  [57883 57894] [57896 57900] [57901 57909] [579...  ...   \n",
       "284  [60070 60098] [60099 60101] [60103 60105] [601...  ...   \n",
       "285  [60070 60098] [60099 60101] [60103 60105] [601...  ...   \n",
       "286  [61188 61211] [61211 61214] [61214 61220] [612...  ...   \n",
       "287  [61188 61211] [61211 61214] [61214 61220] [612...  ...   \n",
       "\n",
       "                                      vHPC_gamma_phase  \\\n",
       "283  [0.45023292, 1.3117398, 1.6877564, 1.9906867, ...   \n",
       "284  [0.72235066, 1.454637, 1.8199799, 2.1028404, 2...   \n",
       "285  [0.45023292, 1.3117398, 1.6877564, 1.9906867, ...   \n",
       "286  [0.72235066, 1.454637, 1.8199799, 2.1028404, 2...   \n",
       "287  [0.45023292, 1.3117398, 1.6877564, 1.9906867, ...   \n",
       "\n",
       "                                        vHPC_lfp_trace  \\\n",
       "283  [45.045, 26.91, -14.82, -51.675, -58.695, -51....   \n",
       "284  [-9.75, 7.41, 14.624999, -12.285, -66.299995, ...   \n",
       "285  [45.045, 26.91, -14.82, -51.675, -58.695, -51....   \n",
       "286  [-9.75, 7.41, 14.624999, -12.285, -66.299995, ...   \n",
       "287  [45.045, 26.91, -14.82, -51.675, -58.695, -51....   \n",
       "\n",
       "         vHPC_mPFC_granger_all_frequencies_all_windows  \\\n",
       "283  [[0.6611806, 0.2473011, 0.73096365, 0.5656533,...   \n",
       "284  [[1.095963, 0.27759162, 0.13746454, 0.27555922...   \n",
       "285  [[0.6611806, 0.2473011, 0.73096365, 0.5656533,...   \n",
       "286  [[1.095963, 0.27759162, 0.13746454, 0.27555922...   \n",
       "287  [[0.6611806, 0.2473011, 0.73096365, 0.5656533,...   \n",
       "\n",
       "                vHPC_power_all_frequencies_all_windows  \\\n",
       "283  [[0.00643258, 0.006992285, 0.0069811256, 0.004...   \n",
       "284  [[0.007860632, 0.0064592217, 0.006611264, 0.00...   \n",
       "285  [[0.00643258, 0.006992285, 0.0069811256, 0.004...   \n",
       "286  [[0.007860632, 0.0064592217, 0.006611264, 0.00...   \n",
       "287  [[0.00643258, 0.006992285, 0.0069811256, 0.004...   \n",
       "\n",
       "                                      vHPC_power_gamma  \\\n",
       "283  [0.00016188143, 0.0002133701, 0.00021314951, 0...   \n",
       "284  [0.003164349, 0.0026817215, 0.002723993, 0.002...   \n",
       "285  [0.00016188143, 0.0002133701, 0.00021314951, 0...   \n",
       "286  [0.003164349, 0.0026817215, 0.002723993, 0.002...   \n",
       "287  [0.00016188143, 0.0002133701, 0.00021314951, 0...   \n",
       "\n",
       "                                      vHPC_power_theta  \\\n",
       "283  [0.007144761, 0.0037135014, 0.005482981, 0.006...   \n",
       "284  [0.014044589, 0.025243934, 0.021230606, 0.0120...   \n",
       "285  [0.007144761, 0.0037135014, 0.005482981, 0.006...   \n",
       "286  [0.014044589, 0.025243934, 0.021230606, 0.0120...   \n",
       "287  [0.007144761, 0.0037135014, 0.005482981, 0.006...   \n",
       "\n",
       "                                       vHPC_theta_band  \\\n",
       "283  [-0.096212715, -0.10505088, -0.11372743, -0.12...   \n",
       "284  [-0.16617914, -0.17804804, -0.18976012, -0.201...   \n",
       "285  [-0.096212715, -0.10505088, -0.11372743, -0.12...   \n",
       "286  [-0.16617914, -0.17804804, -0.18976012, -0.201...   \n",
       "287  [-0.096212715, -0.10505088, -0.11372743, -0.12...   \n",
       "\n",
       "                                      vHPC_theta_phase  \\\n",
       "283  [2.032272, 2.214738, 2.247664, 2.3557777, 2.39...   \n",
       "284  [2.005712, 2.1644444, 2.1874144, 2.27717, 2.30...   \n",
       "285  [2.032272, 2.214738, 2.247664, 2.3557777, 2.39...   \n",
       "286  [2.005712, 2.1644444, 2.1874144, 2.27717, 2.30...   \n",
       "287  [2.032272, 2.214738, 2.247664, 2.3557777, 2.39...   \n",
       "\n",
       "                                      video_timestamps  \\\n",
       "283  [1384, 2515, 2770, 4156, 5542, 5542, 6927, 831...   \n",
       "284  [1384, 2515, 2770, 4156, 5542, 5542, 6927, 831...   \n",
       "285  [1384, 2515, 2770, 4156, 5542, 5542, 6927, 831...   \n",
       "286  [1384, 2515, 2770, 4156, 5542, 5542, 6927, 831...   \n",
       "287  [1384, 2515, 2770, 4156, 5542, 5542, 6927, 831...   \n",
       "\n",
       "                                     cluster_timestamp  \n",
       "283  [37164862, 37166248, 37167634, 37167634, 37169...  \n",
       "284  [37164862, 37166248, 37167634, 37167634, 37169...  \n",
       "285  [37164862, 37166248, 37167634, 37167634, 37169...  \n",
       "286  [37164862, 37166248, 37167634, 37167634, 37169...  \n",
       "287  [37164862, 37166248, 37167634, 37167634, 37169...  \n",
       "\n",
       "[5 rows x 220 columns]"
      ]
     },
     "execution_count": 46,
     "metadata": {},
     "output_type": "execute_result"
    }
   ],
   "source": [
    "TRIALS_AND_SPECTRAL_DF.tail()"
   ]
  },
  {
   "cell_type": "code",
   "execution_count": 47,
   "metadata": {
    "tags": []
   },
   "outputs": [],
   "source": [
    "timestamps_col = [col for col in TRIALS_AND_SPECTRAL_DF if \"timestamp\" in col and \"timestamps\" not in col and \"cluster\" not in col]"
   ]
  },
  {
   "cell_type": "code",
   "execution_count": 48,
   "metadata": {
    "tags": []
   },
   "outputs": [],
   "source": [
    "for col in timestamps_col:\n",
    "    TRIALS_AND_SPECTRAL_DF[col] = TRIALS_AND_SPECTRAL_DF[col].astype(int)"
   ]
  },
  {
   "cell_type": "code",
   "execution_count": 49,
   "metadata": {
    "tags": []
   },
   "outputs": [
    {
     "data": {
      "text/html": [
       "<div>\n",
       "<style scoped>\n",
       "    .dataframe tbody tr th:only-of-type {\n",
       "        vertical-align: middle;\n",
       "    }\n",
       "\n",
       "    .dataframe tbody tr th {\n",
       "        vertical-align: top;\n",
       "    }\n",
       "\n",
       "    .dataframe thead th {\n",
       "        text-align: right;\n",
       "    }\n",
       "</style>\n",
       "<table border=\"1\" class=\"dataframe\">\n",
       "  <thead>\n",
       "    <tr style=\"text-align: right;\">\n",
       "      <th></th>\n",
       "      <th>tone_start_timestamp</th>\n",
       "      <th>tone_stop_timestamp</th>\n",
       "      <th>first_timestamp</th>\n",
       "      <th>last_timestamp</th>\n",
       "    </tr>\n",
       "  </thead>\n",
       "  <tbody>\n",
       "    <tr>\n",
       "      <th>0</th>\n",
       "      <td>34276299</td>\n",
       "      <td>34476299</td>\n",
       "      <td>1830734</td>\n",
       "      <td>65425515</td>\n",
       "    </tr>\n",
       "    <tr>\n",
       "      <th>1</th>\n",
       "      <td>34276299</td>\n",
       "      <td>34476299</td>\n",
       "      <td>1830734</td>\n",
       "      <td>65425515</td>\n",
       "    </tr>\n",
       "    <tr>\n",
       "      <th>2</th>\n",
       "      <td>35276311</td>\n",
       "      <td>35476311</td>\n",
       "      <td>1830734</td>\n",
       "      <td>65425515</td>\n",
       "    </tr>\n",
       "    <tr>\n",
       "      <th>3</th>\n",
       "      <td>35276311</td>\n",
       "      <td>35476311</td>\n",
       "      <td>1830734</td>\n",
       "      <td>65425515</td>\n",
       "    </tr>\n",
       "    <tr>\n",
       "      <th>4</th>\n",
       "      <td>36376322</td>\n",
       "      <td>36576327</td>\n",
       "      <td>1830734</td>\n",
       "      <td>65425515</td>\n",
       "    </tr>\n",
       "  </tbody>\n",
       "</table>\n",
       "</div>"
      ],
      "text/plain": [
       "   tone_start_timestamp  tone_stop_timestamp  first_timestamp  last_timestamp\n",
       "0              34276299             34476299          1830734        65425515\n",
       "1              34276299             34476299          1830734        65425515\n",
       "2              35276311             35476311          1830734        65425515\n",
       "3              35276311             35476311          1830734        65425515\n",
       "4              36376322             36576327          1830734        65425515"
      ]
     },
     "execution_count": 49,
     "metadata": {},
     "output_type": "execute_result"
    }
   ],
   "source": [
    "TRIALS_AND_SPECTRAL_DF[timestamps_col].head()"
   ]
  },
  {
   "cell_type": "markdown",
   "metadata": {},
   "source": [
    "# Calculating the relevant timestamps"
   ]
  },
  {
   "cell_type": "code",
   "execution_count": 50,
   "metadata": {
    "tags": []
   },
   "outputs": [],
   "source": [
    "TRIALS_AND_SPECTRAL_DF[\"baseline_start_timestamp\"] = TRIALS_AND_SPECTRAL_DF[\"tone_start_timestamp\"] - 10 * EPHYS_SAMPLE_RATE"
   ]
  },
  {
   "cell_type": "code",
   "execution_count": 51,
   "metadata": {
    "tags": []
   },
   "outputs": [],
   "source": [
    "TRIALS_AND_SPECTRAL_DF[\"post_trial_end_timestamp\"] = TRIALS_AND_SPECTRAL_DF[\"tone_stop_timestamp\"] + 10 * EPHYS_SAMPLE_RATE"
   ]
  },
  {
   "cell_type": "code",
   "execution_count": 52,
   "metadata": {
    "tags": []
   },
   "outputs": [
    {
     "data": {
      "text/plain": [
       "0    34276299\n",
       "1    34276299\n",
       "2    35276311\n",
       "3    35276311\n",
       "4    36376322\n",
       "Name: tone_start_timestamp, dtype: int64"
      ]
     },
     "execution_count": 52,
     "metadata": {},
     "output_type": "execute_result"
    }
   ],
   "source": [
    "TRIALS_AND_SPECTRAL_DF[\"tone_start_timestamp\"].head()"
   ]
  },
  {
   "cell_type": "code",
   "execution_count": 53,
   "metadata": {
    "tags": []
   },
   "outputs": [
    {
     "data": {
      "text/plain": [
       "0    34276299\n",
       "1    34276299\n",
       "2    35276311\n",
       "3    35276311\n",
       "4    36376322\n",
       "Name: tone_start_timestamp, dtype: int64"
      ]
     },
     "execution_count": 53,
     "metadata": {},
     "output_type": "execute_result"
    }
   ],
   "source": [
    "TRIALS_AND_SPECTRAL_DF[\"tone_start_timestamp\"].head()"
   ]
  },
  {
   "cell_type": "code",
   "execution_count": 54,
   "metadata": {
    "tags": []
   },
   "outputs": [
    {
     "data": {
      "text/plain": [
       "0    34476299\n",
       "1    34476299\n",
       "2    35476311\n",
       "3    35476311\n",
       "4    36576327\n",
       "Name: tone_stop_timestamp, dtype: int64"
      ]
     },
     "execution_count": 54,
     "metadata": {},
     "output_type": "execute_result"
    }
   ],
   "source": [
    "TRIALS_AND_SPECTRAL_DF[\"tone_stop_timestamp\"].head()"
   ]
  },
  {
   "cell_type": "code",
   "execution_count": 55,
   "metadata": {
    "tags": []
   },
   "outputs": [
    {
     "data": {
      "text/html": [
       "<div>\n",
       "<style scoped>\n",
       "    .dataframe tbody tr th:only-of-type {\n",
       "        vertical-align: middle;\n",
       "    }\n",
       "\n",
       "    .dataframe tbody tr th {\n",
       "        vertical-align: top;\n",
       "    }\n",
       "\n",
       "    .dataframe thead th {\n",
       "        text-align: right;\n",
       "    }\n",
       "</style>\n",
       "<table border=\"1\" class=\"dataframe\">\n",
       "  <thead>\n",
       "    <tr style=\"text-align: right;\">\n",
       "      <th></th>\n",
       "      <th>tone_start_frame</th>\n",
       "      <th>reward_start</th>\n",
       "      <th>reward_dispensed</th>\n",
       "      <th>tone_stop_frame</th>\n",
       "      <th>condition</th>\n",
       "      <th>competition_closeness</th>\n",
       "      <th>get_reward_frame</th>\n",
       "      <th>out_reward_frame</th>\n",
       "      <th>notes</th>\n",
       "      <th>box_1_port_entry_frames</th>\n",
       "      <th>...</th>\n",
       "      <th>vHPC_mPFC_granger_all_frequencies_all_windows</th>\n",
       "      <th>vHPC_power_all_frequencies_all_windows</th>\n",
       "      <th>vHPC_power_gamma</th>\n",
       "      <th>vHPC_power_theta</th>\n",
       "      <th>vHPC_theta_band</th>\n",
       "      <th>vHPC_theta_phase</th>\n",
       "      <th>video_timestamps</th>\n",
       "      <th>cluster_timestamp</th>\n",
       "      <th>baseline_start_timestamp</th>\n",
       "      <th>post_trial_end_timestamp</th>\n",
       "    </tr>\n",
       "  </thead>\n",
       "  <tbody>\n",
       "    <tr>\n",
       "      <th>0</th>\n",
       "      <td>34240.0</td>\n",
       "      <td>34320</td>\n",
       "      <td>34340.0</td>\n",
       "      <td>34440.0</td>\n",
       "      <td>3.1</td>\n",
       "      <td>Subj 1 Only</td>\n",
       "      <td>NaN</td>\n",
       "      <td>NaN</td>\n",
       "      <td>NaN</td>\n",
       "      <td>[34236 34249] [34270 34280] [34342 34483]</td>\n",
       "      <td>...</td>\n",
       "      <td>[[nan, nan, nan, nan, nan, nan, nan, nan, nan,...</td>\n",
       "      <td>[[nan, nan, nan, nan, nan, nan, nan, nan, nan,...</td>\n",
       "      <td>[nan, 0.0046885125, 0.0033377786, 0.0018332143...</td>\n",
       "      <td>[nan, 0.07223674, 0.06942491, 0.065466404, 0.0...</td>\n",
       "      <td>[0.8526041, 0.89195466, 0.93002737, 0.96665066...</td>\n",
       "      <td>[-1.0124702, -0.7600434, -0.73781365, -0.59900...</td>\n",
       "      <td>[1384, 2770, 4156, 4156, 5542, 6928, 6928, 831...</td>\n",
       "      <td>[34077145, 34077145, 34078531, 34079917, 34079...</td>\n",
       "      <td>34076299</td>\n",
       "      <td>34676299</td>\n",
       "    </tr>\n",
       "    <tr>\n",
       "      <th>1</th>\n",
       "      <td>34240.0</td>\n",
       "      <td>34320</td>\n",
       "      <td>34340.0</td>\n",
       "      <td>34440.0</td>\n",
       "      <td>3.1</td>\n",
       "      <td>Subj 1 Only</td>\n",
       "      <td>NaN</td>\n",
       "      <td>NaN</td>\n",
       "      <td>NaN</td>\n",
       "      <td>[34236 34249] [34270 34280] [34342 34483]</td>\n",
       "      <td>...</td>\n",
       "      <td>[[2.5391848, 1.5146569, 1.0411696, 1.5689967, ...</td>\n",
       "      <td>[[0.001042456, 0.009847558, 0.012313993, 0.009...</td>\n",
       "      <td>[0.0008264334, 0.0009773864, 0.0009832539, nan...</td>\n",
       "      <td>[0.0408452, 0.04246293, 0.04184469, nan, nan, ...</td>\n",
       "      <td>[-0.347932, -0.33184236, -0.31452566, -0.29600...</td>\n",
       "      <td>[2.6819186, -2.904363, -2.827914, -2.5523405, ...</td>\n",
       "      <td>[1384, 2770, 4156, 4156, 5542, 6928, 6928, 831...</td>\n",
       "      <td>[34077145, 34077145, 34078531, 34079917, 34079...</td>\n",
       "      <td>34076299</td>\n",
       "      <td>34676299</td>\n",
       "    </tr>\n",
       "    <tr>\n",
       "      <th>2</th>\n",
       "      <td>35238.0</td>\n",
       "      <td>35318</td>\n",
       "      <td>35338.0</td>\n",
       "      <td>35437.0</td>\n",
       "      <td>3.1</td>\n",
       "      <td>Subj 1 then Subj 2</td>\n",
       "      <td>NaN</td>\n",
       "      <td>NaN</td>\n",
       "      <td>NaN</td>\n",
       "      <td>[35237 35255] [35280 35312] [35324 35368] [353...</td>\n",
       "      <td>...</td>\n",
       "      <td>[[nan, nan, nan, nan, nan, nan, nan, nan, nan,...</td>\n",
       "      <td>[[nan, nan, nan, nan, nan, nan, nan, nan, nan,...</td>\n",
       "      <td>[nan, 0.0046885125, 0.0033377786, 0.0018332143...</td>\n",
       "      <td>[nan, 0.07223674, 0.06942491, 0.065466404, 0.0...</td>\n",
       "      <td>[0.8526041, 0.89195466, 0.93002737, 0.96665066...</td>\n",
       "      <td>[-1.0124702, -0.7600434, -0.73781365, -0.59900...</td>\n",
       "      <td>[1384, 2770, 4156, 4156, 5542, 6928, 6928, 831...</td>\n",
       "      <td>[34077145, 34077145, 34078531, 34079917, 34079...</td>\n",
       "      <td>35076311</td>\n",
       "      <td>35676311</td>\n",
       "    </tr>\n",
       "    <tr>\n",
       "      <th>3</th>\n",
       "      <td>35238.0</td>\n",
       "      <td>35318</td>\n",
       "      <td>35338.0</td>\n",
       "      <td>35437.0</td>\n",
       "      <td>3.1</td>\n",
       "      <td>Subj 1 then Subj 2</td>\n",
       "      <td>NaN</td>\n",
       "      <td>NaN</td>\n",
       "      <td>NaN</td>\n",
       "      <td>[35237 35255] [35280 35312] [35324 35368] [353...</td>\n",
       "      <td>...</td>\n",
       "      <td>[[2.5391848, 1.5146569, 1.0411696, 1.5689967, ...</td>\n",
       "      <td>[[0.001042456, 0.009847558, 0.012313993, 0.009...</td>\n",
       "      <td>[0.0008264334, 0.0009773864, 0.0009832539, nan...</td>\n",
       "      <td>[0.0408452, 0.04246293, 0.04184469, nan, nan, ...</td>\n",
       "      <td>[-0.347932, -0.33184236, -0.31452566, -0.29600...</td>\n",
       "      <td>[2.6819186, -2.904363, -2.827914, -2.5523405, ...</td>\n",
       "      <td>[1384, 2770, 4156, 4156, 5542, 6928, 6928, 831...</td>\n",
       "      <td>[34077145, 34077145, 34078531, 34079917, 34079...</td>\n",
       "      <td>35076311</td>\n",
       "      <td>35676311</td>\n",
       "    </tr>\n",
       "    <tr>\n",
       "      <th>4</th>\n",
       "      <td>36337.0</td>\n",
       "      <td>36417</td>\n",
       "      <td>36437.0</td>\n",
       "      <td>36536.0</td>\n",
       "      <td>3.3</td>\n",
       "      <td>Subj 2 Only</td>\n",
       "      <td>NaN</td>\n",
       "      <td>NaN</td>\n",
       "      <td>NaN</td>\n",
       "      <td>[36312 36345] [36439 36503] [36522 36562]</td>\n",
       "      <td>...</td>\n",
       "      <td>[[nan, nan, nan, nan, nan, nan, nan, nan, nan,...</td>\n",
       "      <td>[[nan, nan, nan, nan, nan, nan, nan, nan, nan,...</td>\n",
       "      <td>[nan, 0.0046885125, 0.0033377786, 0.0018332143...</td>\n",
       "      <td>[nan, 0.07223674, 0.06942491, 0.065466404, 0.0...</td>\n",
       "      <td>[0.8526041, 0.89195466, 0.93002737, 0.96665066...</td>\n",
       "      <td>[-1.0124702, -0.7600434, -0.73781365, -0.59900...</td>\n",
       "      <td>[1384, 2770, 4156, 4156, 5542, 6928, 6928, 831...</td>\n",
       "      <td>[34077145, 34077145, 34078531, 34079917, 34079...</td>\n",
       "      <td>36176322</td>\n",
       "      <td>36776327</td>\n",
       "    </tr>\n",
       "  </tbody>\n",
       "</table>\n",
       "<p>5 rows × 222 columns</p>\n",
       "</div>"
      ],
      "text/plain": [
       "   tone_start_frame  reward_start  reward_dispensed  tone_stop_frame  \\\n",
       "0           34240.0         34320           34340.0          34440.0   \n",
       "1           34240.0         34320           34340.0          34440.0   \n",
       "2           35238.0         35318           35338.0          35437.0   \n",
       "3           35238.0         35318           35338.0          35437.0   \n",
       "4           36337.0         36417           36437.0          36536.0   \n",
       "\n",
       "  condition  competition_closeness  get_reward_frame  out_reward_frame notes  \\\n",
       "0        3.1           Subj 1 Only               NaN               NaN   NaN   \n",
       "1        3.1           Subj 1 Only               NaN               NaN   NaN   \n",
       "2        3.1    Subj 1 then Subj 2               NaN               NaN   NaN   \n",
       "3        3.1    Subj 1 then Subj 2               NaN               NaN   NaN   \n",
       "4        3.3           Subj 2 Only               NaN               NaN   NaN   \n",
       "\n",
       "                             box_1_port_entry_frames  ...  \\\n",
       "0          [34236 34249] [34270 34280] [34342 34483]  ...   \n",
       "1          [34236 34249] [34270 34280] [34342 34483]  ...   \n",
       "2  [35237 35255] [35280 35312] [35324 35368] [353...  ...   \n",
       "3  [35237 35255] [35280 35312] [35324 35368] [353...  ...   \n",
       "4          [36312 36345] [36439 36503] [36522 36562]  ...   \n",
       "\n",
       "       vHPC_mPFC_granger_all_frequencies_all_windows  \\\n",
       "0  [[nan, nan, nan, nan, nan, nan, nan, nan, nan,...   \n",
       "1  [[2.5391848, 1.5146569, 1.0411696, 1.5689967, ...   \n",
       "2  [[nan, nan, nan, nan, nan, nan, nan, nan, nan,...   \n",
       "3  [[2.5391848, 1.5146569, 1.0411696, 1.5689967, ...   \n",
       "4  [[nan, nan, nan, nan, nan, nan, nan, nan, nan,...   \n",
       "\n",
       "              vHPC_power_all_frequencies_all_windows  \\\n",
       "0  [[nan, nan, nan, nan, nan, nan, nan, nan, nan,...   \n",
       "1  [[0.001042456, 0.009847558, 0.012313993, 0.009...   \n",
       "2  [[nan, nan, nan, nan, nan, nan, nan, nan, nan,...   \n",
       "3  [[0.001042456, 0.009847558, 0.012313993, 0.009...   \n",
       "4  [[nan, nan, nan, nan, nan, nan, nan, nan, nan,...   \n",
       "\n",
       "                                    vHPC_power_gamma  \\\n",
       "0  [nan, 0.0046885125, 0.0033377786, 0.0018332143...   \n",
       "1  [0.0008264334, 0.0009773864, 0.0009832539, nan...   \n",
       "2  [nan, 0.0046885125, 0.0033377786, 0.0018332143...   \n",
       "3  [0.0008264334, 0.0009773864, 0.0009832539, nan...   \n",
       "4  [nan, 0.0046885125, 0.0033377786, 0.0018332143...   \n",
       "\n",
       "                                    vHPC_power_theta  \\\n",
       "0  [nan, 0.07223674, 0.06942491, 0.065466404, 0.0...   \n",
       "1  [0.0408452, 0.04246293, 0.04184469, nan, nan, ...   \n",
       "2  [nan, 0.07223674, 0.06942491, 0.065466404, 0.0...   \n",
       "3  [0.0408452, 0.04246293, 0.04184469, nan, nan, ...   \n",
       "4  [nan, 0.07223674, 0.06942491, 0.065466404, 0.0...   \n",
       "\n",
       "                                     vHPC_theta_band  \\\n",
       "0  [0.8526041, 0.89195466, 0.93002737, 0.96665066...   \n",
       "1  [-0.347932, -0.33184236, -0.31452566, -0.29600...   \n",
       "2  [0.8526041, 0.89195466, 0.93002737, 0.96665066...   \n",
       "3  [-0.347932, -0.33184236, -0.31452566, -0.29600...   \n",
       "4  [0.8526041, 0.89195466, 0.93002737, 0.96665066...   \n",
       "\n",
       "                                    vHPC_theta_phase  \\\n",
       "0  [-1.0124702, -0.7600434, -0.73781365, -0.59900...   \n",
       "1  [2.6819186, -2.904363, -2.827914, -2.5523405, ...   \n",
       "2  [-1.0124702, -0.7600434, -0.73781365, -0.59900...   \n",
       "3  [2.6819186, -2.904363, -2.827914, -2.5523405, ...   \n",
       "4  [-1.0124702, -0.7600434, -0.73781365, -0.59900...   \n",
       "\n",
       "                                    video_timestamps  \\\n",
       "0  [1384, 2770, 4156, 4156, 5542, 6928, 6928, 831...   \n",
       "1  [1384, 2770, 4156, 4156, 5542, 6928, 6928, 831...   \n",
       "2  [1384, 2770, 4156, 4156, 5542, 6928, 6928, 831...   \n",
       "3  [1384, 2770, 4156, 4156, 5542, 6928, 6928, 831...   \n",
       "4  [1384, 2770, 4156, 4156, 5542, 6928, 6928, 831...   \n",
       "\n",
       "                                   cluster_timestamp baseline_start_timestamp  \\\n",
       "0  [34077145, 34077145, 34078531, 34079917, 34079...                 34076299   \n",
       "1  [34077145, 34077145, 34078531, 34079917, 34079...                 34076299   \n",
       "2  [34077145, 34077145, 34078531, 34079917, 34079...                 35076311   \n",
       "3  [34077145, 34077145, 34078531, 34079917, 34079...                 35076311   \n",
       "4  [34077145, 34077145, 34078531, 34079917, 34079...                 36176322   \n",
       "\n",
       "  post_trial_end_timestamp  \n",
       "0                 34676299  \n",
       "1                 34676299  \n",
       "2                 35676311  \n",
       "3                 35676311  \n",
       "4                 36776327  \n",
       "\n",
       "[5 rows x 222 columns]"
      ]
     },
     "execution_count": 55,
     "metadata": {},
     "output_type": "execute_result"
    }
   ],
   "source": [
    "TRIALS_AND_SPECTRAL_DF.head()"
   ]
  },
  {
   "cell_type": "markdown",
   "metadata": {},
   "source": [
    "# Filtering out the SLEAP posed for during trials"
   ]
  },
  {
   "cell_type": "code",
   "execution_count": 56,
   "metadata": {
    "tags": []
   },
   "outputs": [],
   "source": [
    "TRIALS_AND_SPECTRAL_DF[\"video_frame\"] = TRIALS_AND_SPECTRAL_DF[\"video_timestamps\"].apply(lambda x: np.array(list(range(len(x)))) + 1)"
   ]
  },
  {
   "cell_type": "code",
   "execution_count": 57,
   "metadata": {
    "tags": []
   },
   "outputs": [
    {
     "data": {
      "text/plain": [
       "0    (63504,)\n",
       "1    (63504,)\n",
       "2    (63504,)\n",
       "3    (63504,)\n",
       "4    (63504,)\n",
       "Name: video_frame, dtype: object"
      ]
     },
     "execution_count": 57,
     "metadata": {},
     "output_type": "execute_result"
    }
   ],
   "source": [
    "TRIALS_AND_SPECTRAL_DF[\"video_frame\"].head().apply(lambda x: x.shape)"
   ]
  },
  {
   "cell_type": "code",
   "execution_count": 58,
   "metadata": {},
   "outputs": [
    {
     "data": {
      "text/plain": [
       "['subject_thorax_to_agent_thorax',\n",
       " 'nose_to_reward_port_sum',\n",
       " 'nose_to_reward_port_diff',\n",
       " 'thorax_velocity_sum',\n",
       " 'thorax_velocity_diff',\n",
       " 'to_reward_port_angle_sum',\n",
       " 'to_reward_port_angle_diff',\n",
       " 'subject_nose_to_reward_port',\n",
       " 'subject_thorax_velocity',\n",
       " 'subject_to_reward_port_angle',\n",
       " 'agent_nose_to_reward_port',\n",
       " 'agent_thorax_velocity',\n",
       " 'agent_to_reward_port_angle',\n",
       " 'closebool_subject_nose_to_reward_port',\n",
       " 'closebool_agent_nose_to_reward_port',\n",
       " 'movingbool_subject_thorax_velocity',\n",
       " 'movingbool_agent_thorax_velocity',\n",
       " 'manual_cluster_id',\n",
       " 'standard_embedding_x',\n",
       " 'standard_embedding_y',\n",
       " 'kmeans_cluster',\n",
       " 'subject_locations',\n",
       " 'agent_locations',\n",
       " 'subject_thorax',\n",
       " 'subject_nose',\n",
       " 'subject_tail_base',\n",
       " 'agent_thorax',\n",
       " 'agent_nose',\n",
       " 'agent_tail_base']"
      ]
     },
     "execution_count": 58,
     "metadata": {},
     "output_type": "execute_result"
    }
   ],
   "source": [
    "['subject_thorax_to_agent_thorax',\n",
    " 'nose_to_reward_port_sum',\n",
    " 'nose_to_reward_port_diff',\n",
    " 'thorax_velocity_sum',\n",
    " 'thorax_velocity_diff',\n",
    " 'to_reward_port_angle_sum',\n",
    " 'to_reward_port_angle_diff',\n",
    " 'subject_nose_to_reward_port',\n",
    " 'subject_thorax_velocity',\n",
    " 'subject_to_reward_port_angle',\n",
    " 'agent_nose_to_reward_port',\n",
    " 'agent_thorax_velocity',\n",
    " 'agent_to_reward_port_angle',\n",
    " 'closebool_subject_nose_to_reward_port',\n",
    " 'closebool_agent_nose_to_reward_port',\n",
    " 'movingbool_subject_thorax_velocity',\n",
    " 'movingbool_agent_thorax_velocity',\n",
    " 'manual_cluster_id',\n",
    " 'standard_embedding_x',\n",
    " 'standard_embedding_y',\n",
    " 'kmeans_cluster',\n",
    " 'subject_locations',\n",
    " 'agent_locations',\n",
    " 'subject_thorax',\n",
    " 'subject_nose',\n",
    " 'subject_tail_base',\n",
    " 'agent_thorax',\n",
    " 'agent_nose',\n",
    " 'agent_tail_base']"
   ]
  },
  {
   "cell_type": "code",
   "execution_count": 59,
   "metadata": {
    "tags": []
   },
   "outputs": [],
   "source": [
    "# sleap_columns = [col for col in TRIALS_AND_SPECTRAL_DF.columns if \"locations\" in col or \"velocity\" in col or \"to_reward_port\" in col or \"video_frame\" in col]"
   ]
  },
  {
   "cell_type": "code",
   "execution_count": 60,
   "metadata": {
    "tags": []
   },
   "outputs": [],
   "source": [
    "sleap_columns = [col for col in TRIALS_AND_SPECTRAL_DF.columns if (\"thorax\" in col or \"nose\" in col or \"standard_embedding\" in col or \"cluster\" in col or \"frame_index\" in col or \"locations\" in col or \"tailbase\" in col or \"competitiveness\" in col) and \"timestamp\" not in col]\n"
   ]
  },
  {
   "cell_type": "code",
   "execution_count": 61,
   "metadata": {
    "tags": []
   },
   "outputs": [
    {
     "data": {
      "text/plain": [
       "['agent_locations',\n",
       " 'agent_nose',\n",
       " 'agent_nose_to_reward_port',\n",
       " 'agent_thorax',\n",
       " 'agent_thorax_velocity',\n",
       " 'closebool_agent_nose_to_reward_port',\n",
       " 'closebool_subject_nose_to_reward_port',\n",
       " 'clusterable_embedding_x',\n",
       " 'clusterable_embedding_y',\n",
       " 'competitiveness',\n",
       " 'frame_index',\n",
       " 'kmeans_cluster',\n",
       " 'manual_cluster_id',\n",
       " 'movingbool_agent_thorax_velocity',\n",
       " 'movingbool_subject_thorax_velocity',\n",
       " 'nose_to_reward_port_diff',\n",
       " 'nose_to_reward_port_sum',\n",
       " 'nose_to_tail_diff',\n",
       " 'nose_to_tail_sum',\n",
       " 'standard_embedding_x',\n",
       " 'standard_embedding_y',\n",
       " 'subject_locations',\n",
       " 'subject_nose',\n",
       " 'subject_nose_to_reward_port',\n",
       " 'subject_thorax',\n",
       " 'subject_thorax_to_agent_thorax',\n",
       " 'subject_thorax_velocity',\n",
       " 'thorax_velocity_diff',\n",
       " 'thorax_velocity_sum',\n",
       " 'within_trial_frame_index']"
      ]
     },
     "execution_count": 61,
     "metadata": {},
     "output_type": "execute_result"
    }
   ],
   "source": [
    "sleap_columns"
   ]
  },
  {
   "cell_type": "code",
   "execution_count": 62,
   "metadata": {
    "tags": []
   },
   "outputs": [
    {
     "name": "stdout",
     "output_type": "stream",
     "text": [
      "agent_locations\n",
      "(12589, 6, 2)\n",
      "agent_nose\n",
      "(12589, 2)\n",
      "agent_nose_to_reward_port\n",
      "(12589,)\n",
      "agent_thorax\n",
      "(12589, 2)\n",
      "agent_thorax_velocity\n",
      "(12589,)\n",
      "closebool_agent_nose_to_reward_port\n",
      "(12589,)\n",
      "closebool_subject_nose_to_reward_port\n",
      "(12589,)\n",
      "clusterable_embedding_x\n",
      "(12589,)\n",
      "clusterable_embedding_y\n",
      "(12589,)\n",
      "competitiveness\n",
      "(12589,)\n",
      "frame_index\n",
      "(12589,)\n",
      "kmeans_cluster\n",
      "(12589,)\n",
      "manual_cluster_id\n",
      "(12589,)\n",
      "movingbool_agent_thorax_velocity\n",
      "(12589,)\n",
      "movingbool_subject_thorax_velocity\n",
      "(12589,)\n",
      "nose_to_reward_port_diff\n",
      "(12589,)\n",
      "nose_to_reward_port_sum\n",
      "(12589,)\n",
      "nose_to_tail_diff\n",
      "(12589,)\n",
      "nose_to_tail_sum\n",
      "(12589,)\n",
      "standard_embedding_x\n",
      "(12589,)\n",
      "standard_embedding_y\n",
      "(12589,)\n",
      "subject_locations\n",
      "(12589, 6, 2)\n",
      "subject_nose\n",
      "(12589, 2)\n",
      "subject_nose_to_reward_port\n",
      "(12589,)\n",
      "subject_thorax\n",
      "(12589, 2)\n",
      "subject_thorax_to_agent_thorax\n",
      "(12589,)\n",
      "subject_thorax_velocity\n",
      "(12589,)\n",
      "thorax_velocity_diff\n",
      "(12589,)\n",
      "thorax_velocity_sum\n",
      "(12589,)\n",
      "within_trial_frame_index\n",
      "(12589,)\n"
     ]
    }
   ],
   "source": [
    "for col in sleap_columns:\n",
    "    print(col)\n",
    "    print(TRIALS_AND_SPECTRAL_DF[col].apply(lambda x: x.shape).iloc[0])"
   ]
  },
  {
   "cell_type": "code",
   "execution_count": 63,
   "metadata": {},
   "outputs": [
    {
     "data": {
      "text/plain": [
       "array([34077145, 34077145, 34078531, ..., 61673966, 61675351, 61676737],\n",
       "      dtype=int32)"
      ]
     },
     "execution_count": 63,
     "metadata": {},
     "output_type": "execute_result"
    }
   ],
   "source": [
    "TRIALS_AND_SPECTRAL_DF[\"cluster_timestamp\"].iloc[0]"
   ]
  },
  {
   "cell_type": "code",
   "execution_count": 64,
   "metadata": {},
   "outputs": [
    {
     "data": {
      "text/plain": [
       "0      34276299\n",
       "1      34276299\n",
       "2      35276311\n",
       "3      35276311\n",
       "4      36376322\n",
       "         ...   \n",
       "283    57964893\n",
       "284    60164920\n",
       "285    60164920\n",
       "286    61264933\n",
       "287    61264933\n",
       "Name: tone_start_timestamp, Length: 288, dtype: int64"
      ]
     },
     "execution_count": 64,
     "metadata": {},
     "output_type": "execute_result"
    }
   ],
   "source": [
    "TRIALS_AND_SPECTRAL_DF[\"tone_start_timestamp\"]"
   ]
  },
  {
   "cell_type": "code",
   "execution_count": 65,
   "metadata": {
    "tags": []
   },
   "outputs": [
    {
     "name": "stdout",
     "output_type": "stream",
     "text": [
      "trial_and_post_agent_locations\n",
      "trial_and_post_agent_nose\n",
      "trial_and_post_agent_nose_to_reward_port\n",
      "trial_and_post_agent_thorax\n",
      "trial_and_post_agent_thorax_velocity\n",
      "trial_and_post_closebool_agent_nose_to_reward_port\n",
      "trial_and_post_closebool_subject_nose_to_reward_port\n",
      "trial_and_post_clusterable_embedding_x\n",
      "trial_and_post_clusterable_embedding_y\n",
      "trial_and_post_competitiveness\n",
      "trial_and_post_frame_index\n",
      "trial_and_post_kmeans_cluster\n",
      "trial_and_post_manual_cluster_id\n",
      "trial_and_post_movingbool_agent_thorax_velocity\n",
      "trial_and_post_movingbool_subject_thorax_velocity\n",
      "trial_and_post_nose_to_reward_port_diff\n",
      "trial_and_post_nose_to_reward_port_sum\n",
      "trial_and_post_nose_to_tail_diff\n",
      "trial_and_post_nose_to_tail_sum\n",
      "trial_and_post_standard_embedding_x\n",
      "trial_and_post_standard_embedding_y\n",
      "trial_and_post_subject_locations\n",
      "trial_and_post_subject_nose\n",
      "trial_and_post_subject_nose_to_reward_port\n",
      "trial_and_post_subject_thorax\n",
      "trial_and_post_subject_thorax_to_agent_thorax\n",
      "trial_and_post_subject_thorax_velocity\n",
      "trial_and_post_thorax_velocity_diff\n",
      "trial_and_post_thorax_velocity_sum\n",
      "trial_and_post_within_trial_frame_index\n"
     ]
    }
   ],
   "source": [
    "for col in sorted(sleap_columns):\n",
    "    updated_item_col = \"trial_and_post_{}\".format(col)\n",
    "    print(updated_item_col)\n",
    "    updated_timestamp_col = \"trial_and_post_video_timestamps\"\n",
    "    TRIALS_AND_SPECTRAL_DF[updated_item_col] = TRIALS_AND_SPECTRAL_DF.apply(lambda x: utilities.helper.filter_by_timestamp_range(start=x[\"tone_start_timestamp\"], stop=x[\"post_trial_end_timestamp\"], timestamps=x[\"cluster_timestamp\"], items=x[col])[1], axis=1)\n",
    "\n",
    "TRIALS_AND_SPECTRAL_DF[updated_timestamp_col] = TRIALS_AND_SPECTRAL_DF.apply(lambda x: utilities.helper.filter_by_timestamp_range(start=x[\"tone_start_timestamp\"], stop=x[\"post_trial_end_timestamp\"], timestamps=x[\"cluster_timestamp\"], items=x[col])[0], axis=1)"
   ]
  },
  {
   "cell_type": "code",
   "execution_count": 66,
   "metadata": {
    "tags": []
   },
   "outputs": [
    {
     "data": {
      "text/html": [
       "<div>\n",
       "<style scoped>\n",
       "    .dataframe tbody tr th:only-of-type {\n",
       "        vertical-align: middle;\n",
       "    }\n",
       "\n",
       "    .dataframe tbody tr th {\n",
       "        vertical-align: top;\n",
       "    }\n",
       "\n",
       "    .dataframe thead th {\n",
       "        text-align: right;\n",
       "    }\n",
       "</style>\n",
       "<table border=\"1\" class=\"dataframe\">\n",
       "  <thead>\n",
       "    <tr style=\"text-align: right;\">\n",
       "      <th></th>\n",
       "      <th>tone_start_frame</th>\n",
       "      <th>reward_start</th>\n",
       "      <th>reward_dispensed</th>\n",
       "      <th>tone_stop_frame</th>\n",
       "      <th>condition</th>\n",
       "      <th>competition_closeness</th>\n",
       "      <th>get_reward_frame</th>\n",
       "      <th>out_reward_frame</th>\n",
       "      <th>notes</th>\n",
       "      <th>box_1_port_entry_frames</th>\n",
       "      <th>...</th>\n",
       "      <th>trial_and_post_subject_locations</th>\n",
       "      <th>trial_and_post_subject_nose</th>\n",
       "      <th>trial_and_post_subject_nose_to_reward_port</th>\n",
       "      <th>trial_and_post_subject_thorax</th>\n",
       "      <th>trial_and_post_subject_thorax_to_agent_thorax</th>\n",
       "      <th>trial_and_post_subject_thorax_velocity</th>\n",
       "      <th>trial_and_post_thorax_velocity_diff</th>\n",
       "      <th>trial_and_post_thorax_velocity_sum</th>\n",
       "      <th>trial_and_post_within_trial_frame_index</th>\n",
       "      <th>trial_and_post_video_timestamps</th>\n",
       "    </tr>\n",
       "  </thead>\n",
       "  <tbody>\n",
       "    <tr>\n",
       "      <th>0</th>\n",
       "      <td>34240.0</td>\n",
       "      <td>34320</td>\n",
       "      <td>34340.0</td>\n",
       "      <td>34440.0</td>\n",
       "      <td>3.1</td>\n",
       "      <td>Subj 1 Only</td>\n",
       "      <td>NaN</td>\n",
       "      <td>NaN</td>\n",
       "      <td>NaN</td>\n",
       "      <td>[34236 34249] [34270 34280] [34342 34483]</td>\n",
       "      <td>...</td>\n",
       "      <td>[[[62.57065705282688, 33.44730809206244], [58....</td>\n",
       "      <td>[[60.54818493730512, 35.74634421564697], [60.8...</td>\n",
       "      <td>[0.28861773, 0.17335962, 0.17028531, 0.2535302...</td>\n",
       "      <td>[[59.8319529727617, 31.001132715032707], [59.8...</td>\n",
       "      <td>[12.89103, 12.176237, 11.61231, 11.06019, 10.5...</td>\n",
       "      <td>[-0.021209748, 0.003994167, 0.15215835, 0.4798...</td>\n",
       "      <td>[26.120943, 23.606047, 20.731367, 17.724455, 1...</td>\n",
       "      <td>[27.127563, 25.086893, 22.796099, 20.469105, 1...</td>\n",
       "      <td>[200, 201, 202, 203, 204, 205, 206, 207, 208, ...</td>\n",
       "      <td>[34276710, 34278096, 34279482, 34279482, 34280...</td>\n",
       "    </tr>\n",
       "    <tr>\n",
       "      <th>1</th>\n",
       "      <td>34240.0</td>\n",
       "      <td>34320</td>\n",
       "      <td>34340.0</td>\n",
       "      <td>34440.0</td>\n",
       "      <td>3.1</td>\n",
       "      <td>Subj 1 Only</td>\n",
       "      <td>NaN</td>\n",
       "      <td>NaN</td>\n",
       "      <td>NaN</td>\n",
       "      <td>[34236 34249] [34270 34280] [34342 34483]</td>\n",
       "      <td>...</td>\n",
       "      <td>[[[70.76603142951862, 27.905445222198825], [66...</td>\n",
       "      <td>[[67.33614650729025, 29.551449212479824], [66....</td>\n",
       "      <td>[9.162211, 8.083501, 7.0652747, 6.1474023, 5.3...</td>\n",
       "      <td>[[69.77804561944015, 24.819920337934217], [70....</td>\n",
       "      <td>[12.89103, 12.176237, 11.61231, 11.06019, 10.5...</td>\n",
       "      <td>[27.148773, 25.0829, 22.643942, 19.98921, 17.2...</td>\n",
       "      <td>[26.120943, 23.606047, 20.731367, 17.724455, 1...</td>\n",
       "      <td>[27.127563, 25.086893, 22.796099, 20.469105, 1...</td>\n",
       "      <td>[200, 201, 202, 203, 204, 205, 206, 207, 208, ...</td>\n",
       "      <td>[34276710, 34278096, 34279482, 34279482, 34280...</td>\n",
       "    </tr>\n",
       "    <tr>\n",
       "      <th>2</th>\n",
       "      <td>35238.0</td>\n",
       "      <td>35318</td>\n",
       "      <td>35338.0</td>\n",
       "      <td>35437.0</td>\n",
       "      <td>3.1</td>\n",
       "      <td>Subj 1 then Subj 2</td>\n",
       "      <td>NaN</td>\n",
       "      <td>NaN</td>\n",
       "      <td>NaN</td>\n",
       "      <td>[35237 35255] [35280 35312] [35324 35368] [353...</td>\n",
       "      <td>...</td>\n",
       "      <td>[[[62.27856458758486, 33.78491219048569], [58....</td>\n",
       "      <td>[[60.821855153064945, 35.12897321756974], [60....</td>\n",
       "      <td>[0.41515765, 0.42165327, 0.43931708, 0.4439942...</td>\n",
       "      <td>[[63.76963180256321, 31.344854927989847], [63....</td>\n",
       "      <td>[12.874714, 12.780252, 12.830084, 12.994184, 1...</td>\n",
       "      <td>[0.5843707, 0.5663497, 0.55942494, 0.56991917,...</td>\n",
       "      <td>[26.742891, 27.9868, 29.002823, 29.783545, 30....</td>\n",
       "      <td>[27.911633, 29.1195, 30.121674, 30.923384, 31....</td>\n",
       "      <td>[200, 201, 202, 203, 204, 205, 206, 207, 208, ...</td>\n",
       "      <td>[35277308, 35277308, 35278694, 35280080, 35280...</td>\n",
       "    </tr>\n",
       "    <tr>\n",
       "      <th>3</th>\n",
       "      <td>35238.0</td>\n",
       "      <td>35318</td>\n",
       "      <td>35338.0</td>\n",
       "      <td>35437.0</td>\n",
       "      <td>3.1</td>\n",
       "      <td>Subj 1 then Subj 2</td>\n",
       "      <td>NaN</td>\n",
       "      <td>NaN</td>\n",
       "      <td>NaN</td>\n",
       "      <td>[35237 35255] [35280 35312] [35324 35368] [353...</td>\n",
       "      <td>...</td>\n",
       "      <td>[[[59.557187688302, 21.40206507656825], [56.81...</td>\n",
       "      <td>[[56.44453190593808, 22.041576176751878], [54....</td>\n",
       "      <td>[13.304398, 13.279373, 13.2186365, 13.117102, ...</td>\n",
       "      <td>[[62.308924226592204, 17.97009425079981], [62....</td>\n",
       "      <td>[12.874714, 12.780252, 12.830084, 12.994184, 1...</td>\n",
       "      <td>[27.327261, 28.553148, 29.562248, 30.353464, 3...</td>\n",
       "      <td>[26.742891, 27.9868, 29.002823, 29.783545, 30....</td>\n",
       "      <td>[27.911633, 29.1195, 30.121674, 30.923384, 31....</td>\n",
       "      <td>[200, 201, 202, 203, 204, 205, 206, 207, 208, ...</td>\n",
       "      <td>[35277308, 35277308, 35278694, 35280080, 35280...</td>\n",
       "    </tr>\n",
       "    <tr>\n",
       "      <th>4</th>\n",
       "      <td>36337.0</td>\n",
       "      <td>36417</td>\n",
       "      <td>36437.0</td>\n",
       "      <td>36536.0</td>\n",
       "      <td>3.3</td>\n",
       "      <td>Subj 2 Only</td>\n",
       "      <td>NaN</td>\n",
       "      <td>NaN</td>\n",
       "      <td>NaN</td>\n",
       "      <td>[36312 36345] [36439 36503] [36522 36562]</td>\n",
       "      <td>...</td>\n",
       "      <td>[[[62.31907642599725, 33.81738396661642], [60....</td>\n",
       "      <td>[[60.32622249671731, 35.42778006327852], [60.3...</td>\n",
       "      <td>[0.518957, 0.6057527, 0.6832184, 0.77924526, 0...</td>\n",
       "      <td>[[66.78737877919696, 32.823619089907766], [66....</td>\n",
       "      <td>[26.3084, 26.333275, 26.375715, 26.454876, 26....</td>\n",
       "      <td>[1.0364465, 1.3400655, 1.656862, 1.9446498, 2....</td>\n",
       "      <td>[0.672737, 0.96411556, 1.2816203, 1.5727413, 1...</td>\n",
       "      <td>[1.6744555, 1.9707181, 2.2606552, 2.5124037, 2...</td>\n",
       "      <td>[200, 201, 202, 203, 204, 205, 206, 207, 208, ...</td>\n",
       "      <td>[36377688, 36379074, 36380460, 36380460, 36381...</td>\n",
       "    </tr>\n",
       "  </tbody>\n",
       "</table>\n",
       "<p>5 rows × 254 columns</p>\n",
       "</div>"
      ],
      "text/plain": [
       "   tone_start_frame  reward_start  reward_dispensed  tone_stop_frame  \\\n",
       "0           34240.0         34320           34340.0          34440.0   \n",
       "1           34240.0         34320           34340.0          34440.0   \n",
       "2           35238.0         35318           35338.0          35437.0   \n",
       "3           35238.0         35318           35338.0          35437.0   \n",
       "4           36337.0         36417           36437.0          36536.0   \n",
       "\n",
       "  condition  competition_closeness  get_reward_frame  out_reward_frame notes  \\\n",
       "0        3.1           Subj 1 Only               NaN               NaN   NaN   \n",
       "1        3.1           Subj 1 Only               NaN               NaN   NaN   \n",
       "2        3.1    Subj 1 then Subj 2               NaN               NaN   NaN   \n",
       "3        3.1    Subj 1 then Subj 2               NaN               NaN   NaN   \n",
       "4        3.3           Subj 2 Only               NaN               NaN   NaN   \n",
       "\n",
       "                             box_1_port_entry_frames  ...  \\\n",
       "0          [34236 34249] [34270 34280] [34342 34483]  ...   \n",
       "1          [34236 34249] [34270 34280] [34342 34483]  ...   \n",
       "2  [35237 35255] [35280 35312] [35324 35368] [353...  ...   \n",
       "3  [35237 35255] [35280 35312] [35324 35368] [353...  ...   \n",
       "4          [36312 36345] [36439 36503] [36522 36562]  ...   \n",
       "\n",
       "                    trial_and_post_subject_locations  \\\n",
       "0  [[[62.57065705282688, 33.44730809206244], [58....   \n",
       "1  [[[70.76603142951862, 27.905445222198825], [66...   \n",
       "2  [[[62.27856458758486, 33.78491219048569], [58....   \n",
       "3  [[[59.557187688302, 21.40206507656825], [56.81...   \n",
       "4  [[[62.31907642599725, 33.81738396661642], [60....   \n",
       "\n",
       "                         trial_and_post_subject_nose  \\\n",
       "0  [[60.54818493730512, 35.74634421564697], [60.8...   \n",
       "1  [[67.33614650729025, 29.551449212479824], [66....   \n",
       "2  [[60.821855153064945, 35.12897321756974], [60....   \n",
       "3  [[56.44453190593808, 22.041576176751878], [54....   \n",
       "4  [[60.32622249671731, 35.42778006327852], [60.3...   \n",
       "\n",
       "          trial_and_post_subject_nose_to_reward_port  \\\n",
       "0  [0.28861773, 0.17335962, 0.17028531, 0.2535302...   \n",
       "1  [9.162211, 8.083501, 7.0652747, 6.1474023, 5.3...   \n",
       "2  [0.41515765, 0.42165327, 0.43931708, 0.4439942...   \n",
       "3  [13.304398, 13.279373, 13.2186365, 13.117102, ...   \n",
       "4  [0.518957, 0.6057527, 0.6832184, 0.77924526, 0...   \n",
       "\n",
       "                       trial_and_post_subject_thorax  \\\n",
       "0  [[59.8319529727617, 31.001132715032707], [59.8...   \n",
       "1  [[69.77804561944015, 24.819920337934217], [70....   \n",
       "2  [[63.76963180256321, 31.344854927989847], [63....   \n",
       "3  [[62.308924226592204, 17.97009425079981], [62....   \n",
       "4  [[66.78737877919696, 32.823619089907766], [66....   \n",
       "\n",
       "       trial_and_post_subject_thorax_to_agent_thorax  \\\n",
       "0  [12.89103, 12.176237, 11.61231, 11.06019, 10.5...   \n",
       "1  [12.89103, 12.176237, 11.61231, 11.06019, 10.5...   \n",
       "2  [12.874714, 12.780252, 12.830084, 12.994184, 1...   \n",
       "3  [12.874714, 12.780252, 12.830084, 12.994184, 1...   \n",
       "4  [26.3084, 26.333275, 26.375715, 26.454876, 26....   \n",
       "\n",
       "              trial_and_post_subject_thorax_velocity  \\\n",
       "0  [-0.021209748, 0.003994167, 0.15215835, 0.4798...   \n",
       "1  [27.148773, 25.0829, 22.643942, 19.98921, 17.2...   \n",
       "2  [0.5843707, 0.5663497, 0.55942494, 0.56991917,...   \n",
       "3  [27.327261, 28.553148, 29.562248, 30.353464, 3...   \n",
       "4  [1.0364465, 1.3400655, 1.656862, 1.9446498, 2....   \n",
       "\n",
       "                 trial_and_post_thorax_velocity_diff  \\\n",
       "0  [26.120943, 23.606047, 20.731367, 17.724455, 1...   \n",
       "1  [26.120943, 23.606047, 20.731367, 17.724455, 1...   \n",
       "2  [26.742891, 27.9868, 29.002823, 29.783545, 30....   \n",
       "3  [26.742891, 27.9868, 29.002823, 29.783545, 30....   \n",
       "4  [0.672737, 0.96411556, 1.2816203, 1.5727413, 1...   \n",
       "\n",
       "                  trial_and_post_thorax_velocity_sum  \\\n",
       "0  [27.127563, 25.086893, 22.796099, 20.469105, 1...   \n",
       "1  [27.127563, 25.086893, 22.796099, 20.469105, 1...   \n",
       "2  [27.911633, 29.1195, 30.121674, 30.923384, 31....   \n",
       "3  [27.911633, 29.1195, 30.121674, 30.923384, 31....   \n",
       "4  [1.6744555, 1.9707181, 2.2606552, 2.5124037, 2...   \n",
       "\n",
       "             trial_and_post_within_trial_frame_index  \\\n",
       "0  [200, 201, 202, 203, 204, 205, 206, 207, 208, ...   \n",
       "1  [200, 201, 202, 203, 204, 205, 206, 207, 208, ...   \n",
       "2  [200, 201, 202, 203, 204, 205, 206, 207, 208, ...   \n",
       "3  [200, 201, 202, 203, 204, 205, 206, 207, 208, ...   \n",
       "4  [200, 201, 202, 203, 204, 205, 206, 207, 208, ...   \n",
       "\n",
       "                     trial_and_post_video_timestamps  \n",
       "0  [34276710, 34278096, 34279482, 34279482, 34280...  \n",
       "1  [34276710, 34278096, 34279482, 34279482, 34280...  \n",
       "2  [35277308, 35277308, 35278694, 35280080, 35280...  \n",
       "3  [35277308, 35277308, 35278694, 35280080, 35280...  \n",
       "4  [36377688, 36379074, 36380460, 36380460, 36381...  \n",
       "\n",
       "[5 rows x 254 columns]"
      ]
     },
     "execution_count": 66,
     "metadata": {},
     "output_type": "execute_result"
    }
   ],
   "source": [
    "TRIALS_AND_SPECTRAL_DF.head()"
   ]
  },
  {
   "cell_type": "code",
   "execution_count": 67,
   "metadata": {
    "tags": []
   },
   "outputs": [
    {
     "data": {
      "text/plain": [
       "(399,)"
      ]
     },
     "execution_count": 67,
     "metadata": {},
     "output_type": "execute_result"
    }
   ],
   "source": [
    "TRIALS_AND_SPECTRAL_DF[\"trial_and_post_frame_index\"].iloc[0].shape"
   ]
  },
  {
   "cell_type": "code",
   "execution_count": 68,
   "metadata": {
    "tags": []
   },
   "outputs": [],
   "source": [
    "TRIALS_AND_SPECTRAL_DF = TRIALS_AND_SPECTRAL_DF.drop(columns=sleap_columns + [\"cluster_timestamp\"], errors=\"ignore\")"
   ]
  },
  {
   "cell_type": "code",
   "execution_count": 69,
   "metadata": {
    "tags": []
   },
   "outputs": [
    {
     "name": "stdout",
     "output_type": "stream",
     "text": [
      "tone_start_frame\n",
      "reward_start\n",
      "reward_dispensed\n",
      "tone_stop_frame\n",
      "condition \n",
      "competition_closeness\n",
      "get_reward_frame\n",
      "out_reward_frame\n",
      "notes\n",
      "box_1_port_entry_frames\n",
      "box_2_port_entry_frames\n",
      "video_name\n",
      "tone_start_timestamp\n",
      "tone_stop_timestamp\n",
      "box_1_port_entry_timestamps\n",
      "box_2_port_entry_timestamps\n",
      "current_subject\n",
      "agent_tail_base\n",
      "agent_to_reward_port_angle\n",
      "color\n",
      "comp_id\n",
      "subject_tail_base\n",
      "subject_to_reward_port_angle\n",
      "to_reward_port_angle_diff\n",
      "to_reward_port_angle_sum\n",
      "tone_start_to_stop_frame\n",
      "within_trial_index\n",
      "agent\n",
      "all_subjects\n",
      "body_parts\n",
      "box_bottom_left\n",
      "box_bottom_right\n",
      "box_number\n",
      "box_top_left\n",
      "box_top_right\n",
      "experiment\n",
      "first_timestamp\n",
      "last_timestamp\n",
      "reward_port\n",
      "session_dir\n",
      "sleap_name\n",
      "start_frame\n",
      "stop_frame\n",
      "tracked_subject\n",
      "video_id\n",
      "BLA-to-LH_granger_gamma\n",
      "BLA-to-LH_granger_theta\n",
      "BLA-to-MD_granger_gamma\n",
      "BLA-to-MD_granger_theta\n",
      "BLA-to-mPFC_granger_gamma\n",
      "BLA-to-mPFC_granger_theta\n",
      "BLA-to-vHPC_granger_gamma\n",
      "BLA-to-vHPC_granger_theta\n",
      "BLA_LH_coherence_all_frequencies_all_windows\n",
      "BLA_LH_coherence_gamma\n",
      "BLA_LH_coherence_theta\n",
      "BLA_LH_granger_all_frequencies_all_windows\n",
      "BLA_MD_coherence_all_frequencies_all_windows\n",
      "BLA_MD_coherence_gamma\n",
      "BLA_MD_coherence_theta\n",
      "BLA_MD_granger_all_frequencies_all_windows\n",
      "BLA_gamma_band\n",
      "BLA_gamma_phase\n",
      "BLA_lfp_trace\n",
      "BLA_mPFC_coherence_all_frequencies_all_windows\n",
      "BLA_mPFC_coherence_gamma\n",
      "BLA_mPFC_coherence_theta\n",
      "BLA_mPFC_granger_all_frequencies_all_windows\n",
      "BLA_power_all_frequencies_all_windows\n",
      "BLA_power_gamma\n",
      "BLA_power_theta\n",
      "BLA_theta_band\n",
      "BLA_theta_phase\n",
      "BLA_vHPC_coherence_all_frequencies_all_windows\n",
      "BLA_vHPC_coherence_gamma\n",
      "BLA_vHPC_coherence_theta\n",
      "BLA_vHPC_granger_all_frequencies_all_windows\n",
      "LH-to-BLA_granger_gamma\n",
      "LH-to-BLA_granger_theta\n",
      "LH-to-MD_granger_gamma\n",
      "LH-to-MD_granger_theta\n",
      "LH-to-mPFC_granger_gamma\n",
      "LH-to-mPFC_granger_theta\n",
      "LH-to-vHPC_granger_gamma\n",
      "LH-to-vHPC_granger_theta\n",
      "LH_BLA_granger_all_frequencies_all_windows\n",
      "LH_MD_coherence_all_frequencies_all_windows\n",
      "LH_MD_coherence_gamma\n",
      "LH_MD_coherence_theta\n",
      "LH_MD_granger_all_frequencies_all_windows\n",
      "LH_gamma_band\n",
      "LH_gamma_phase\n",
      "LH_lfp_trace\n",
      "LH_mPFC_coherence_all_frequencies_all_windows\n",
      "LH_mPFC_coherence_gamma\n",
      "LH_mPFC_coherence_theta\n",
      "LH_mPFC_granger_all_frequencies_all_windows\n",
      "LH_power_all_frequencies_all_windows\n",
      "LH_power_gamma\n",
      "LH_power_theta\n",
      "LH_theta_band\n",
      "LH_theta_phase\n",
      "LH_vHPC_coherence_all_frequencies_all_windows\n",
      "LH_vHPC_coherence_gamma\n",
      "LH_vHPC_coherence_theta\n",
      "LH_vHPC_granger_all_frequencies_all_windows\n",
      "MD-to-BLA_granger_gamma\n",
      "MD-to-BLA_granger_theta\n",
      "MD-to-LH_granger_gamma\n",
      "MD-to-LH_granger_theta\n",
      "MD-to-mPFC_granger_gamma\n",
      "MD-to-mPFC_granger_theta\n",
      "MD-to-vHPC_granger_gamma\n",
      "MD-to-vHPC_granger_theta\n",
      "MD_BLA_granger_all_frequencies_all_windows\n",
      "MD_LH_granger_all_frequencies_all_windows\n",
      "MD_gamma_band\n",
      "MD_gamma_phase\n",
      "MD_lfp_trace\n",
      "MD_mPFC_coherence_all_frequencies_all_windows\n",
      "MD_mPFC_coherence_gamma\n",
      "MD_mPFC_coherence_theta\n",
      "MD_mPFC_granger_all_frequencies_all_windows\n",
      "MD_power_all_frequencies_all_windows\n",
      "MD_power_gamma\n",
      "MD_power_theta\n",
      "MD_theta_band\n",
      "MD_theta_phase\n",
      "MD_vHPC_coherence_all_frequencies_all_windows\n",
      "MD_vHPC_coherence_gamma\n",
      "MD_vHPC_coherence_theta\n",
      "MD_vHPC_granger_all_frequencies_all_windows\n",
      "coherence_calculation_frequencies\n",
      "coherence_timestamps\n",
      "cohort\n",
      "granger_calculation_frequencies\n",
      "granger_timestamps\n",
      "lfp_timestamps\n",
      "mPFC-to-BLA_granger_gamma\n",
      "mPFC-to-BLA_granger_theta\n",
      "mPFC-to-LH_granger_gamma\n",
      "mPFC-to-LH_granger_theta\n",
      "mPFC-to-MD_granger_gamma\n",
      "mPFC-to-MD_granger_theta\n",
      "mPFC-to-vHPC_granger_gamma\n",
      "mPFC-to-vHPC_granger_theta\n",
      "mPFC_BLA_granger_all_frequencies_all_windows\n",
      "mPFC_LH_granger_all_frequencies_all_windows\n",
      "mPFC_MD_granger_all_frequencies_all_windows\n",
      "mPFC_gamma_band\n",
      "mPFC_gamma_phase\n",
      "mPFC_lfp_trace\n",
      "mPFC_power_all_frequencies_all_windows\n",
      "mPFC_power_gamma\n",
      "mPFC_power_theta\n",
      "mPFC_theta_band\n",
      "mPFC_theta_phase\n",
      "mPFC_vHPC_coherence_all_frequencies_all_windows\n",
      "mPFC_vHPC_coherence_gamma\n",
      "mPFC_vHPC_coherence_theta\n",
      "mPFC_vHPC_granger_all_frequencies_all_windows\n",
      "power_calculation_frequencies\n",
      "power_timestamps\n",
      "recording\n",
      "session_path\n",
      "subject\n",
      "tone_frames\n",
      "tone_timestamps\n",
      "vHPC-to-BLA_granger_gamma\n",
      "vHPC-to-BLA_granger_theta\n",
      "vHPC-to-LH_granger_gamma\n",
      "vHPC-to-LH_granger_theta\n",
      "vHPC-to-MD_granger_gamma\n",
      "vHPC-to-MD_granger_theta\n",
      "vHPC-to-mPFC_granger_gamma\n",
      "vHPC-to-mPFC_granger_theta\n",
      "vHPC_BLA_granger_all_frequencies_all_windows\n",
      "vHPC_LH_granger_all_frequencies_all_windows\n",
      "vHPC_MD_granger_all_frequencies_all_windows\n",
      "vHPC_gamma_band\n",
      "vHPC_gamma_phase\n",
      "vHPC_lfp_trace\n",
      "vHPC_mPFC_granger_all_frequencies_all_windows\n",
      "vHPC_power_all_frequencies_all_windows\n",
      "vHPC_power_gamma\n",
      "vHPC_power_theta\n",
      "vHPC_theta_band\n",
      "vHPC_theta_phase\n",
      "video_timestamps\n",
      "baseline_start_timestamp\n",
      "post_trial_end_timestamp\n",
      "video_frame\n",
      "trial_and_post_agent_locations\n",
      "trial_and_post_agent_nose\n",
      "trial_and_post_agent_nose_to_reward_port\n",
      "trial_and_post_agent_thorax\n",
      "trial_and_post_agent_thorax_velocity\n",
      "trial_and_post_closebool_agent_nose_to_reward_port\n",
      "trial_and_post_closebool_subject_nose_to_reward_port\n",
      "trial_and_post_clusterable_embedding_x\n",
      "trial_and_post_clusterable_embedding_y\n",
      "trial_and_post_competitiveness\n",
      "trial_and_post_frame_index\n",
      "trial_and_post_kmeans_cluster\n",
      "trial_and_post_manual_cluster_id\n",
      "trial_and_post_movingbool_agent_thorax_velocity\n",
      "trial_and_post_movingbool_subject_thorax_velocity\n",
      "trial_and_post_nose_to_reward_port_diff\n",
      "trial_and_post_nose_to_reward_port_sum\n",
      "trial_and_post_nose_to_tail_diff\n",
      "trial_and_post_nose_to_tail_sum\n",
      "trial_and_post_standard_embedding_x\n",
      "trial_and_post_standard_embedding_y\n",
      "trial_and_post_subject_locations\n",
      "trial_and_post_subject_nose\n",
      "trial_and_post_subject_nose_to_reward_port\n",
      "trial_and_post_subject_thorax\n",
      "trial_and_post_subject_thorax_to_agent_thorax\n",
      "trial_and_post_subject_thorax_velocity\n",
      "trial_and_post_thorax_velocity_diff\n",
      "trial_and_post_thorax_velocity_sum\n",
      "trial_and_post_within_trial_frame_index\n",
      "trial_and_post_video_timestamps\n"
     ]
    }
   ],
   "source": [
    "for col in TRIALS_AND_SPECTRAL_DF.columns:\n",
    "    print(col)"
   ]
  },
  {
   "cell_type": "markdown",
   "metadata": {},
   "source": [
    "- Filtering coherence"
   ]
  },
  {
   "cell_type": "code",
   "execution_count": 70,
   "metadata": {
    "tags": []
   },
   "outputs": [],
   "source": [
    "coherence_columns = [col for col in TRIALS_AND_SPECTRAL_DF.columns if \"coherence\" in col and \"timestamps\" not in col and \"calculation\" not in col]"
   ]
  },
  {
   "cell_type": "code",
   "execution_count": 71,
   "metadata": {
    "tags": []
   },
   "outputs": [
    {
     "data": {
      "text/plain": [
       "['BLA_LH_coherence_all_frequencies_all_windows',\n",
       " 'BLA_LH_coherence_gamma',\n",
       " 'BLA_LH_coherence_theta',\n",
       " 'BLA_MD_coherence_all_frequencies_all_windows',\n",
       " 'BLA_MD_coherence_gamma',\n",
       " 'BLA_MD_coherence_theta',\n",
       " 'BLA_mPFC_coherence_all_frequencies_all_windows',\n",
       " 'BLA_mPFC_coherence_gamma',\n",
       " 'BLA_mPFC_coherence_theta',\n",
       " 'BLA_vHPC_coherence_all_frequencies_all_windows',\n",
       " 'BLA_vHPC_coherence_gamma',\n",
       " 'BLA_vHPC_coherence_theta',\n",
       " 'LH_MD_coherence_all_frequencies_all_windows',\n",
       " 'LH_MD_coherence_gamma',\n",
       " 'LH_MD_coherence_theta',\n",
       " 'LH_mPFC_coherence_all_frequencies_all_windows',\n",
       " 'LH_mPFC_coherence_gamma',\n",
       " 'LH_mPFC_coherence_theta',\n",
       " 'LH_vHPC_coherence_all_frequencies_all_windows',\n",
       " 'LH_vHPC_coherence_gamma',\n",
       " 'LH_vHPC_coherence_theta',\n",
       " 'MD_mPFC_coherence_all_frequencies_all_windows',\n",
       " 'MD_mPFC_coherence_gamma',\n",
       " 'MD_mPFC_coherence_theta',\n",
       " 'MD_vHPC_coherence_all_frequencies_all_windows',\n",
       " 'MD_vHPC_coherence_gamma',\n",
       " 'MD_vHPC_coherence_theta',\n",
       " 'mPFC_vHPC_coherence_all_frequencies_all_windows',\n",
       " 'mPFC_vHPC_coherence_gamma',\n",
       " 'mPFC_vHPC_coherence_theta']"
      ]
     },
     "execution_count": 71,
     "metadata": {},
     "output_type": "execute_result"
    }
   ],
   "source": [
    "coherence_columns"
   ]
  },
  {
   "cell_type": "code",
   "execution_count": 72,
   "metadata": {
    "tags": []
   },
   "outputs": [
    {
     "name": "stdout",
     "output_type": "stream",
     "text": [
      "trial_and_post_BLA_LH_coherence_all_frequencies_all_windows\n",
      "trial_and_post_BLA_LH_coherence_gamma\n",
      "trial_and_post_BLA_LH_coherence_theta\n",
      "trial_and_post_BLA_MD_coherence_all_frequencies_all_windows\n",
      "trial_and_post_BLA_MD_coherence_gamma\n",
      "trial_and_post_BLA_MD_coherence_theta\n",
      "trial_and_post_BLA_mPFC_coherence_all_frequencies_all_windows\n",
      "trial_and_post_BLA_mPFC_coherence_gamma\n",
      "trial_and_post_BLA_mPFC_coherence_theta\n",
      "trial_and_post_BLA_vHPC_coherence_all_frequencies_all_windows\n",
      "trial_and_post_BLA_vHPC_coherence_gamma\n",
      "trial_and_post_BLA_vHPC_coherence_theta\n",
      "trial_and_post_LH_MD_coherence_all_frequencies_all_windows\n",
      "trial_and_post_LH_MD_coherence_gamma\n",
      "trial_and_post_LH_MD_coherence_theta\n",
      "trial_and_post_LH_mPFC_coherence_all_frequencies_all_windows\n",
      "trial_and_post_LH_mPFC_coherence_gamma\n",
      "trial_and_post_LH_mPFC_coherence_theta\n",
      "trial_and_post_LH_vHPC_coherence_all_frequencies_all_windows\n",
      "trial_and_post_LH_vHPC_coherence_gamma\n",
      "trial_and_post_LH_vHPC_coherence_theta\n",
      "trial_and_post_MD_mPFC_coherence_all_frequencies_all_windows\n",
      "trial_and_post_MD_mPFC_coherence_gamma\n",
      "trial_and_post_MD_mPFC_coherence_theta\n",
      "trial_and_post_MD_vHPC_coherence_all_frequencies_all_windows\n",
      "trial_and_post_MD_vHPC_coherence_gamma\n",
      "trial_and_post_MD_vHPC_coherence_theta\n",
      "trial_and_post_mPFC_vHPC_coherence_all_frequencies_all_windows\n",
      "trial_and_post_mPFC_vHPC_coherence_gamma\n",
      "trial_and_post_mPFC_vHPC_coherence_theta\n"
     ]
    }
   ],
   "source": [
    "for col in sorted(coherence_columns):\n",
    "    updated_item_col = \"trial_and_post_{}\".format(col)\n",
    "    print(updated_item_col)\n",
    "    updated_timestamp_col = \"trial_and_post_coherence_timestamps\"\n",
    "    TRIALS_AND_SPECTRAL_DF[updated_item_col] = TRIALS_AND_SPECTRAL_DF.apply(lambda x: utilities.helper.filter_by_timestamp_range(start=x[\"tone_start_timestamp\"], stop=x[\"post_trial_end_timestamp\"], timestamps=x[\"coherence_timestamps\"], items=x[col])[1], axis=1)\n",
    "\n",
    "TRIALS_AND_SPECTRAL_DF[updated_timestamp_col] = TRIALS_AND_SPECTRAL_DF.apply(lambda x: utilities.helper.filter_by_timestamp_range(start=x[\"tone_start_timestamp\"], stop=x[\"post_trial_end_timestamp\"], timestamps=x[\"coherence_timestamps\"], items=x[col])[0], axis=1)"
   ]
  },
  {
   "cell_type": "code",
   "execution_count": 73,
   "metadata": {
    "tags": []
   },
   "outputs": [],
   "source": [
    "TRIALS_AND_SPECTRAL_DF = TRIALS_AND_SPECTRAL_DF.drop(columns=coherence_columns + [\"coherence_timestamps\"], errors=\"ignore\")"
   ]
  },
  {
   "cell_type": "markdown",
   "metadata": {},
   "source": [
    "- Filtering Grangers"
   ]
  },
  {
   "cell_type": "code",
   "execution_count": 74,
   "metadata": {
    "tags": []
   },
   "outputs": [],
   "source": [
    "granger_columns = [col for col in TRIALS_AND_SPECTRAL_DF.columns if \"granger\" in col and \"timestamps\" not in col and \"calculation\" not in col]"
   ]
  },
  {
   "cell_type": "code",
   "execution_count": 75,
   "metadata": {
    "tags": []
   },
   "outputs": [
    {
     "data": {
      "text/plain": [
       "['BLA-to-LH_granger_gamma',\n",
       " 'BLA-to-LH_granger_theta',\n",
       " 'BLA-to-MD_granger_gamma',\n",
       " 'BLA-to-MD_granger_theta',\n",
       " 'BLA-to-mPFC_granger_gamma',\n",
       " 'BLA-to-mPFC_granger_theta',\n",
       " 'BLA-to-vHPC_granger_gamma',\n",
       " 'BLA-to-vHPC_granger_theta',\n",
       " 'BLA_LH_granger_all_frequencies_all_windows',\n",
       " 'BLA_MD_granger_all_frequencies_all_windows',\n",
       " 'BLA_mPFC_granger_all_frequencies_all_windows',\n",
       " 'BLA_vHPC_granger_all_frequencies_all_windows',\n",
       " 'LH-to-BLA_granger_gamma',\n",
       " 'LH-to-BLA_granger_theta',\n",
       " 'LH-to-MD_granger_gamma',\n",
       " 'LH-to-MD_granger_theta',\n",
       " 'LH-to-mPFC_granger_gamma',\n",
       " 'LH-to-mPFC_granger_theta',\n",
       " 'LH-to-vHPC_granger_gamma',\n",
       " 'LH-to-vHPC_granger_theta',\n",
       " 'LH_BLA_granger_all_frequencies_all_windows',\n",
       " 'LH_MD_granger_all_frequencies_all_windows',\n",
       " 'LH_mPFC_granger_all_frequencies_all_windows',\n",
       " 'LH_vHPC_granger_all_frequencies_all_windows',\n",
       " 'MD-to-BLA_granger_gamma',\n",
       " 'MD-to-BLA_granger_theta',\n",
       " 'MD-to-LH_granger_gamma',\n",
       " 'MD-to-LH_granger_theta',\n",
       " 'MD-to-mPFC_granger_gamma',\n",
       " 'MD-to-mPFC_granger_theta',\n",
       " 'MD-to-vHPC_granger_gamma',\n",
       " 'MD-to-vHPC_granger_theta',\n",
       " 'MD_BLA_granger_all_frequencies_all_windows',\n",
       " 'MD_LH_granger_all_frequencies_all_windows',\n",
       " 'MD_mPFC_granger_all_frequencies_all_windows',\n",
       " 'MD_vHPC_granger_all_frequencies_all_windows',\n",
       " 'mPFC-to-BLA_granger_gamma',\n",
       " 'mPFC-to-BLA_granger_theta',\n",
       " 'mPFC-to-LH_granger_gamma',\n",
       " 'mPFC-to-LH_granger_theta',\n",
       " 'mPFC-to-MD_granger_gamma',\n",
       " 'mPFC-to-MD_granger_theta',\n",
       " 'mPFC-to-vHPC_granger_gamma',\n",
       " 'mPFC-to-vHPC_granger_theta',\n",
       " 'mPFC_BLA_granger_all_frequencies_all_windows',\n",
       " 'mPFC_LH_granger_all_frequencies_all_windows',\n",
       " 'mPFC_MD_granger_all_frequencies_all_windows',\n",
       " 'mPFC_vHPC_granger_all_frequencies_all_windows',\n",
       " 'vHPC-to-BLA_granger_gamma',\n",
       " 'vHPC-to-BLA_granger_theta',\n",
       " 'vHPC-to-LH_granger_gamma',\n",
       " 'vHPC-to-LH_granger_theta',\n",
       " 'vHPC-to-MD_granger_gamma',\n",
       " 'vHPC-to-MD_granger_theta',\n",
       " 'vHPC-to-mPFC_granger_gamma',\n",
       " 'vHPC-to-mPFC_granger_theta',\n",
       " 'vHPC_BLA_granger_all_frequencies_all_windows',\n",
       " 'vHPC_LH_granger_all_frequencies_all_windows',\n",
       " 'vHPC_MD_granger_all_frequencies_all_windows',\n",
       " 'vHPC_mPFC_granger_all_frequencies_all_windows']"
      ]
     },
     "execution_count": 75,
     "metadata": {},
     "output_type": "execute_result"
    }
   ],
   "source": [
    "granger_columns"
   ]
  },
  {
   "cell_type": "code",
   "execution_count": 76,
   "metadata": {
    "tags": []
   },
   "outputs": [
    {
     "name": "stdout",
     "output_type": "stream",
     "text": [
      "trial_and_post_BLA-to-LH_granger_gamma\n",
      "trial_and_post_BLA-to-LH_granger_theta\n",
      "trial_and_post_BLA-to-MD_granger_gamma\n",
      "trial_and_post_BLA-to-MD_granger_theta\n",
      "trial_and_post_BLA-to-mPFC_granger_gamma\n",
      "trial_and_post_BLA-to-mPFC_granger_theta\n",
      "trial_and_post_BLA-to-vHPC_granger_gamma\n",
      "trial_and_post_BLA-to-vHPC_granger_theta\n",
      "trial_and_post_BLA_LH_granger_all_frequencies_all_windows\n",
      "trial_and_post_BLA_MD_granger_all_frequencies_all_windows\n",
      "trial_and_post_BLA_mPFC_granger_all_frequencies_all_windows\n",
      "trial_and_post_BLA_vHPC_granger_all_frequencies_all_windows\n",
      "trial_and_post_LH-to-BLA_granger_gamma\n",
      "trial_and_post_LH-to-BLA_granger_theta\n",
      "trial_and_post_LH-to-MD_granger_gamma\n",
      "trial_and_post_LH-to-MD_granger_theta\n",
      "trial_and_post_LH-to-mPFC_granger_gamma\n",
      "trial_and_post_LH-to-mPFC_granger_theta\n",
      "trial_and_post_LH-to-vHPC_granger_gamma\n",
      "trial_and_post_LH-to-vHPC_granger_theta\n",
      "trial_and_post_LH_BLA_granger_all_frequencies_all_windows\n",
      "trial_and_post_LH_MD_granger_all_frequencies_all_windows\n",
      "trial_and_post_LH_mPFC_granger_all_frequencies_all_windows\n",
      "trial_and_post_LH_vHPC_granger_all_frequencies_all_windows\n",
      "trial_and_post_MD-to-BLA_granger_gamma\n",
      "trial_and_post_MD-to-BLA_granger_theta\n",
      "trial_and_post_MD-to-LH_granger_gamma\n",
      "trial_and_post_MD-to-LH_granger_theta\n",
      "trial_and_post_MD-to-mPFC_granger_gamma\n",
      "trial_and_post_MD-to-mPFC_granger_theta\n",
      "trial_and_post_MD-to-vHPC_granger_gamma\n",
      "trial_and_post_MD-to-vHPC_granger_theta\n",
      "trial_and_post_MD_BLA_granger_all_frequencies_all_windows\n",
      "trial_and_post_MD_LH_granger_all_frequencies_all_windows\n",
      "trial_and_post_MD_mPFC_granger_all_frequencies_all_windows\n",
      "trial_and_post_MD_vHPC_granger_all_frequencies_all_windows\n",
      "trial_and_post_mPFC-to-BLA_granger_gamma\n",
      "trial_and_post_mPFC-to-BLA_granger_theta\n",
      "trial_and_post_mPFC-to-LH_granger_gamma\n",
      "trial_and_post_mPFC-to-LH_granger_theta\n",
      "trial_and_post_mPFC-to-MD_granger_gamma\n",
      "trial_and_post_mPFC-to-MD_granger_theta\n",
      "trial_and_post_mPFC-to-vHPC_granger_gamma\n",
      "trial_and_post_mPFC-to-vHPC_granger_theta\n",
      "trial_and_post_mPFC_BLA_granger_all_frequencies_all_windows\n",
      "trial_and_post_mPFC_LH_granger_all_frequencies_all_windows\n",
      "trial_and_post_mPFC_MD_granger_all_frequencies_all_windows\n",
      "trial_and_post_mPFC_vHPC_granger_all_frequencies_all_windows\n",
      "trial_and_post_vHPC-to-BLA_granger_gamma\n",
      "trial_and_post_vHPC-to-BLA_granger_theta\n",
      "trial_and_post_vHPC-to-LH_granger_gamma\n",
      "trial_and_post_vHPC-to-LH_granger_theta\n",
      "trial_and_post_vHPC-to-MD_granger_gamma\n",
      "trial_and_post_vHPC-to-MD_granger_theta\n",
      "trial_and_post_vHPC-to-mPFC_granger_gamma\n",
      "trial_and_post_vHPC-to-mPFC_granger_theta\n",
      "trial_and_post_vHPC_BLA_granger_all_frequencies_all_windows\n",
      "trial_and_post_vHPC_LH_granger_all_frequencies_all_windows\n",
      "trial_and_post_vHPC_MD_granger_all_frequencies_all_windows\n",
      "trial_and_post_vHPC_mPFC_granger_all_frequencies_all_windows\n"
     ]
    }
   ],
   "source": [
    "for col in sorted(granger_columns):\n",
    "    updated_item_col = \"trial_and_post_{}\".format(col)\n",
    "    print(updated_item_col)\n",
    "    updated_timestamp_col = \"trial_and_post_granger_timestamps\"\n",
    "    TRIALS_AND_SPECTRAL_DF[updated_item_col] = TRIALS_AND_SPECTRAL_DF.apply(lambda x: utilities.helper.filter_by_timestamp_range(start=x[\"tone_start_timestamp\"], stop=x[\"post_trial_end_timestamp\"], timestamps=x[\"granger_timestamps\"], items=x[col])[1], axis=1)\n",
    "\n",
    "TRIALS_AND_SPECTRAL_DF[updated_timestamp_col] = TRIALS_AND_SPECTRAL_DF.apply(lambda x: utilities.helper.filter_by_timestamp_range(start=x[\"tone_start_timestamp\"], stop=x[\"post_trial_end_timestamp\"], timestamps=x[\"granger_timestamps\"], items=x[col])[0], axis=1)"
   ]
  },
  {
   "cell_type": "code",
   "execution_count": 77,
   "metadata": {
    "tags": []
   },
   "outputs": [],
   "source": [
    "TRIALS_AND_SPECTRAL_DF = TRIALS_AND_SPECTRAL_DF.drop(columns=granger_columns + [\"granger_timestamps\"], errors=\"ignore\")"
   ]
  },
  {
   "cell_type": "code",
   "execution_count": 78,
   "metadata": {},
   "outputs": [],
   "source": [
    "TRIALS_AND_SPECTRAL_DF.to_pickle(os.path.join(OUTPUT_DIR, FULL_LFP_TRACES_PKL))"
   ]
  },
  {
   "cell_type": "markdown",
   "metadata": {},
   "source": [
    "- Filtering power"
   ]
  },
  {
   "cell_type": "code",
   "execution_count": 79,
   "metadata": {},
   "outputs": [
    {
     "data": {
      "text/html": [
       "<div>\n",
       "<style scoped>\n",
       "    .dataframe tbody tr th:only-of-type {\n",
       "        vertical-align: middle;\n",
       "    }\n",
       "\n",
       "    .dataframe tbody tr th {\n",
       "        vertical-align: top;\n",
       "    }\n",
       "\n",
       "    .dataframe thead th {\n",
       "        text-align: right;\n",
       "    }\n",
       "</style>\n",
       "<table border=\"1\" class=\"dataframe\">\n",
       "  <thead>\n",
       "    <tr style=\"text-align: right;\">\n",
       "      <th></th>\n",
       "      <th>tone_start_frame</th>\n",
       "      <th>reward_start</th>\n",
       "      <th>reward_dispensed</th>\n",
       "      <th>tone_stop_frame</th>\n",
       "      <th>condition</th>\n",
       "      <th>competition_closeness</th>\n",
       "      <th>get_reward_frame</th>\n",
       "      <th>out_reward_frame</th>\n",
       "      <th>notes</th>\n",
       "      <th>box_1_port_entry_frames</th>\n",
       "      <th>...</th>\n",
       "      <th>trial_and_post_vHPC-to-LH_granger_theta</th>\n",
       "      <th>trial_and_post_vHPC-to-MD_granger_gamma</th>\n",
       "      <th>trial_and_post_vHPC-to-MD_granger_theta</th>\n",
       "      <th>trial_and_post_vHPC-to-mPFC_granger_gamma</th>\n",
       "      <th>trial_and_post_vHPC-to-mPFC_granger_theta</th>\n",
       "      <th>trial_and_post_vHPC_BLA_granger_all_frequencies_all_windows</th>\n",
       "      <th>trial_and_post_vHPC_LH_granger_all_frequencies_all_windows</th>\n",
       "      <th>trial_and_post_vHPC_MD_granger_all_frequencies_all_windows</th>\n",
       "      <th>trial_and_post_vHPC_mPFC_granger_all_frequencies_all_windows</th>\n",
       "      <th>trial_and_post_granger_timestamps</th>\n",
       "    </tr>\n",
       "  </thead>\n",
       "  <tbody>\n",
       "    <tr>\n",
       "      <th>0</th>\n",
       "      <td>34240.0</td>\n",
       "      <td>34320</td>\n",
       "      <td>34340.0</td>\n",
       "      <td>34440.0</td>\n",
       "      <td>3.1</td>\n",
       "      <td>Subj 1 Only</td>\n",
       "      <td>NaN</td>\n",
       "      <td>NaN</td>\n",
       "      <td>NaN</td>\n",
       "      <td>[34236 34249] [34270 34280] [34342 34483]</td>\n",
       "      <td>...</td>\n",
       "      <td>[0.5568959, 0.24519724, 0.20076632, 0.5333081,...</td>\n",
       "      <td>[0.49166852, 0.22800069, 0.28546643, 0.4283831...</td>\n",
       "      <td>[0.45390114, 0.23823264, 0.20773382, 0.9316409...</td>\n",
       "      <td>[0.3317966, 0.34990138, nan, nan, 0.38994804, ...</td>\n",
       "      <td>[0.18835476, 0.2621064, nan, nan, 0.2167768, 0...</td>\n",
       "      <td>[[0.39526093, 0.14897035, 0.25017428, 0.354303...</td>\n",
       "      <td>[[0.45540842, 0.10189814, 0.10806129, 0.155386...</td>\n",
       "      <td>[[0.3080779, 0.10640508, 0.059618432, 0.078086...</td>\n",
       "      <td>[[3.5291126, 0.22613533, 0.3948932, 0.03885741...</td>\n",
       "      <td>[34280000, 34290000, 34300000, 34310000, 34320...</td>\n",
       "    </tr>\n",
       "    <tr>\n",
       "      <th>1</th>\n",
       "      <td>34240.0</td>\n",
       "      <td>34320</td>\n",
       "      <td>34340.0</td>\n",
       "      <td>34440.0</td>\n",
       "      <td>3.1</td>\n",
       "      <td>Subj 1 Only</td>\n",
       "      <td>NaN</td>\n",
       "      <td>NaN</td>\n",
       "      <td>NaN</td>\n",
       "      <td>[34236 34249] [34270 34280] [34342 34483]</td>\n",
       "      <td>...</td>\n",
       "      <td>[nan, nan, nan, nan, nan, 0.18690442, 0.049745...</td>\n",
       "      <td>[nan, nan, nan, nan, nan, 0.24698833, nan, nan...</td>\n",
       "      <td>[nan, nan, nan, nan, nan, 0.19479248, nan, nan...</td>\n",
       "      <td>[0.12839502, 0.19830413, nan, nan, nan, 0.1601...</td>\n",
       "      <td>[0.15178944, 0.5260722, nan, nan, nan, 0.30177...</td>\n",
       "      <td>[[nan, nan, nan, nan, nan, nan, nan, nan, nan,...</td>\n",
       "      <td>[[nan, nan, nan, nan, nan, nan, nan, nan, nan,...</td>\n",
       "      <td>[[nan, nan, nan, nan, nan, nan, nan, nan, nan,...</td>\n",
       "      <td>[[0.016699517, 0.22255981, 0.07830153, 0.16324...</td>\n",
       "      <td>[34280000, 34290000, 34300000, 34310000, 34320...</td>\n",
       "    </tr>\n",
       "    <tr>\n",
       "      <th>2</th>\n",
       "      <td>35238.0</td>\n",
       "      <td>35318</td>\n",
       "      <td>35338.0</td>\n",
       "      <td>35437.0</td>\n",
       "      <td>3.1</td>\n",
       "      <td>Subj 1 then Subj 2</td>\n",
       "      <td>NaN</td>\n",
       "      <td>NaN</td>\n",
       "      <td>NaN</td>\n",
       "      <td>[35237 35255] [35280 35312] [35324 35368] [353...</td>\n",
       "      <td>...</td>\n",
       "      <td>[0.574632, 0.13700777, 0.9124831, 1.6471814, 0...</td>\n",
       "      <td>[0.45921808, 0.4018911, 0.403811, 0.50582206, ...</td>\n",
       "      <td>[0.57140416, 0.22462066, 1.1100769, 1.5301652,...</td>\n",
       "      <td>[0.40667596, 0.15274861, 0.25372973, 0.649355,...</td>\n",
       "      <td>[0.57741445, 0.19582109, 0.35925627, 0.5910297...</td>\n",
       "      <td>[[0.21044426, 0.15949352, 1.9016874, 1.784712,...</td>\n",
       "      <td>[[0.0036610025, 0.29197437, 0.4380889, 0.49628...</td>\n",
       "      <td>[[0.18364595, 0.11826769, 0.32814094, 0.008369...</td>\n",
       "      <td>[[0.075233944, 0.6923916, 0.30742604, 0.203948...</td>\n",
       "      <td>[35280000, 35290000, 35300000, 35310000, 35320...</td>\n",
       "    </tr>\n",
       "    <tr>\n",
       "      <th>3</th>\n",
       "      <td>35238.0</td>\n",
       "      <td>35318</td>\n",
       "      <td>35338.0</td>\n",
       "      <td>35437.0</td>\n",
       "      <td>3.1</td>\n",
       "      <td>Subj 1 then Subj 2</td>\n",
       "      <td>NaN</td>\n",
       "      <td>NaN</td>\n",
       "      <td>NaN</td>\n",
       "      <td>[35237 35255] [35280 35312] [35324 35368] [353...</td>\n",
       "      <td>...</td>\n",
       "      <td>[0.21442229, nan, nan, nan, 0.24892299, 0.1522...</td>\n",
       "      <td>[0.22374396, nan, nan, nan, 0.28628382, 0.2395...</td>\n",
       "      <td>[0.13560255, nan, nan, nan, 0.25866804, 0.1881...</td>\n",
       "      <td>[0.19912642, nan, nan, nan, 0.23150067, 0.3139...</td>\n",
       "      <td>[0.34216553, nan, nan, nan, 0.2372961, 0.54322...</td>\n",
       "      <td>[[0.7861145, 0.34362876, 0.9110888, 0.39747307...</td>\n",
       "      <td>[[1.8253773, 0.45439005, 0.85494393, 0.3876086...</td>\n",
       "      <td>[[0.8063633, 0.3692385, 0.39918825, 0.4618175,...</td>\n",
       "      <td>[[0.413818, 0.43645024, 0.9202251, 0.4218581, ...</td>\n",
       "      <td>[35280000, 35290000, 35300000, 35310000, 35320...</td>\n",
       "    </tr>\n",
       "    <tr>\n",
       "      <th>4</th>\n",
       "      <td>36337.0</td>\n",
       "      <td>36417</td>\n",
       "      <td>36437.0</td>\n",
       "      <td>36536.0</td>\n",
       "      <td>3.3</td>\n",
       "      <td>Subj 2 Only</td>\n",
       "      <td>NaN</td>\n",
       "      <td>NaN</td>\n",
       "      <td>NaN</td>\n",
       "      <td>[36312 36345] [36439 36503] [36522 36562]</td>\n",
       "      <td>...</td>\n",
       "      <td>[0.17983302, 0.4491682, 0.6623069, 0.38262665,...</td>\n",
       "      <td>[nan, nan, 0.36340868, 0.2605309, 0.48815846, ...</td>\n",
       "      <td>[nan, nan, 0.70878524, 0.36362082, 0.41171372,...</td>\n",
       "      <td>[0.19675834, 0.4006446, 0.3744169, 0.16643988,...</td>\n",
       "      <td>[0.077478655, 0.40043724, 0.51819485, 0.240391...</td>\n",
       "      <td>[[0.63951916, 0.8236137, 0.19508992, 0.2977631...</td>\n",
       "      <td>[[2.5670233, 0.42199114, 0.20445032, 0.0982484...</td>\n",
       "      <td>[[nan, nan, nan, nan, nan, nan, nan, nan, nan,...</td>\n",
       "      <td>[[0.37562254, 0.17172635, 0.48035538, 0.098667...</td>\n",
       "      <td>[36380000, 36390000, 36400000, 36410000, 36420...</td>\n",
       "    </tr>\n",
       "  </tbody>\n",
       "</table>\n",
       "<p>5 rows × 223 columns</p>\n",
       "</div>"
      ],
      "text/plain": [
       "   tone_start_frame  reward_start  reward_dispensed  tone_stop_frame  \\\n",
       "0           34240.0         34320           34340.0          34440.0   \n",
       "1           34240.0         34320           34340.0          34440.0   \n",
       "2           35238.0         35318           35338.0          35437.0   \n",
       "3           35238.0         35318           35338.0          35437.0   \n",
       "4           36337.0         36417           36437.0          36536.0   \n",
       "\n",
       "  condition  competition_closeness  get_reward_frame  out_reward_frame notes  \\\n",
       "0        3.1           Subj 1 Only               NaN               NaN   NaN   \n",
       "1        3.1           Subj 1 Only               NaN               NaN   NaN   \n",
       "2        3.1    Subj 1 then Subj 2               NaN               NaN   NaN   \n",
       "3        3.1    Subj 1 then Subj 2               NaN               NaN   NaN   \n",
       "4        3.3           Subj 2 Only               NaN               NaN   NaN   \n",
       "\n",
       "                             box_1_port_entry_frames  ...  \\\n",
       "0          [34236 34249] [34270 34280] [34342 34483]  ...   \n",
       "1          [34236 34249] [34270 34280] [34342 34483]  ...   \n",
       "2  [35237 35255] [35280 35312] [35324 35368] [353...  ...   \n",
       "3  [35237 35255] [35280 35312] [35324 35368] [353...  ...   \n",
       "4          [36312 36345] [36439 36503] [36522 36562]  ...   \n",
       "\n",
       "             trial_and_post_vHPC-to-LH_granger_theta  \\\n",
       "0  [0.5568959, 0.24519724, 0.20076632, 0.5333081,...   \n",
       "1  [nan, nan, nan, nan, nan, 0.18690442, 0.049745...   \n",
       "2  [0.574632, 0.13700777, 0.9124831, 1.6471814, 0...   \n",
       "3  [0.21442229, nan, nan, nan, 0.24892299, 0.1522...   \n",
       "4  [0.17983302, 0.4491682, 0.6623069, 0.38262665,...   \n",
       "\n",
       "             trial_and_post_vHPC-to-MD_granger_gamma  \\\n",
       "0  [0.49166852, 0.22800069, 0.28546643, 0.4283831...   \n",
       "1  [nan, nan, nan, nan, nan, 0.24698833, nan, nan...   \n",
       "2  [0.45921808, 0.4018911, 0.403811, 0.50582206, ...   \n",
       "3  [0.22374396, nan, nan, nan, 0.28628382, 0.2395...   \n",
       "4  [nan, nan, 0.36340868, 0.2605309, 0.48815846, ...   \n",
       "\n",
       "             trial_and_post_vHPC-to-MD_granger_theta  \\\n",
       "0  [0.45390114, 0.23823264, 0.20773382, 0.9316409...   \n",
       "1  [nan, nan, nan, nan, nan, 0.19479248, nan, nan...   \n",
       "2  [0.57140416, 0.22462066, 1.1100769, 1.5301652,...   \n",
       "3  [0.13560255, nan, nan, nan, 0.25866804, 0.1881...   \n",
       "4  [nan, nan, 0.70878524, 0.36362082, 0.41171372,...   \n",
       "\n",
       "           trial_and_post_vHPC-to-mPFC_granger_gamma  \\\n",
       "0  [0.3317966, 0.34990138, nan, nan, 0.38994804, ...   \n",
       "1  [0.12839502, 0.19830413, nan, nan, nan, 0.1601...   \n",
       "2  [0.40667596, 0.15274861, 0.25372973, 0.649355,...   \n",
       "3  [0.19912642, nan, nan, nan, 0.23150067, 0.3139...   \n",
       "4  [0.19675834, 0.4006446, 0.3744169, 0.16643988,...   \n",
       "\n",
       "           trial_and_post_vHPC-to-mPFC_granger_theta  \\\n",
       "0  [0.18835476, 0.2621064, nan, nan, 0.2167768, 0...   \n",
       "1  [0.15178944, 0.5260722, nan, nan, nan, 0.30177...   \n",
       "2  [0.57741445, 0.19582109, 0.35925627, 0.5910297...   \n",
       "3  [0.34216553, nan, nan, nan, 0.2372961, 0.54322...   \n",
       "4  [0.077478655, 0.40043724, 0.51819485, 0.240391...   \n",
       "\n",
       "  trial_and_post_vHPC_BLA_granger_all_frequencies_all_windows  \\\n",
       "0  [[0.39526093, 0.14897035, 0.25017428, 0.354303...            \n",
       "1  [[nan, nan, nan, nan, nan, nan, nan, nan, nan,...            \n",
       "2  [[0.21044426, 0.15949352, 1.9016874, 1.784712,...            \n",
       "3  [[0.7861145, 0.34362876, 0.9110888, 0.39747307...            \n",
       "4  [[0.63951916, 0.8236137, 0.19508992, 0.2977631...            \n",
       "\n",
       "  trial_and_post_vHPC_LH_granger_all_frequencies_all_windows  \\\n",
       "0  [[0.45540842, 0.10189814, 0.10806129, 0.155386...           \n",
       "1  [[nan, nan, nan, nan, nan, nan, nan, nan, nan,...           \n",
       "2  [[0.0036610025, 0.29197437, 0.4380889, 0.49628...           \n",
       "3  [[1.8253773, 0.45439005, 0.85494393, 0.3876086...           \n",
       "4  [[2.5670233, 0.42199114, 0.20445032, 0.0982484...           \n",
       "\n",
       "  trial_and_post_vHPC_MD_granger_all_frequencies_all_windows  \\\n",
       "0  [[0.3080779, 0.10640508, 0.059618432, 0.078086...           \n",
       "1  [[nan, nan, nan, nan, nan, nan, nan, nan, nan,...           \n",
       "2  [[0.18364595, 0.11826769, 0.32814094, 0.008369...           \n",
       "3  [[0.8063633, 0.3692385, 0.39918825, 0.4618175,...           \n",
       "4  [[nan, nan, nan, nan, nan, nan, nan, nan, nan,...           \n",
       "\n",
       "  trial_and_post_vHPC_mPFC_granger_all_frequencies_all_windows  \\\n",
       "0  [[3.5291126, 0.22613533, 0.3948932, 0.03885741...             \n",
       "1  [[0.016699517, 0.22255981, 0.07830153, 0.16324...             \n",
       "2  [[0.075233944, 0.6923916, 0.30742604, 0.203948...             \n",
       "3  [[0.413818, 0.43645024, 0.9202251, 0.4218581, ...             \n",
       "4  [[0.37562254, 0.17172635, 0.48035538, 0.098667...             \n",
       "\n",
       "                   trial_and_post_granger_timestamps  \n",
       "0  [34280000, 34290000, 34300000, 34310000, 34320...  \n",
       "1  [34280000, 34290000, 34300000, 34310000, 34320...  \n",
       "2  [35280000, 35290000, 35300000, 35310000, 35320...  \n",
       "3  [35280000, 35290000, 35300000, 35310000, 35320...  \n",
       "4  [36380000, 36390000, 36400000, 36410000, 36420...  \n",
       "\n",
       "[5 rows x 223 columns]"
      ]
     },
     "execution_count": 79,
     "metadata": {},
     "output_type": "execute_result"
    }
   ],
   "source": [
    "TRIALS_AND_SPECTRAL_DF.head()"
   ]
  },
  {
   "cell_type": "code",
   "execution_count": 80,
   "metadata": {
    "tags": []
   },
   "outputs": [],
   "source": [
    "power_columns = [col for col in TRIALS_AND_SPECTRAL_DF.columns if \"power\" in col and \"timestamps\" not in col and \"calculation\" not in col]"
   ]
  },
  {
   "cell_type": "code",
   "execution_count": 81,
   "metadata": {
    "tags": []
   },
   "outputs": [
    {
     "data": {
      "text/plain": [
       "['BLA_power_all_frequencies_all_windows',\n",
       " 'BLA_power_gamma',\n",
       " 'BLA_power_theta',\n",
       " 'LH_power_all_frequencies_all_windows',\n",
       " 'LH_power_gamma',\n",
       " 'LH_power_theta',\n",
       " 'MD_power_all_frequencies_all_windows',\n",
       " 'MD_power_gamma',\n",
       " 'MD_power_theta',\n",
       " 'mPFC_power_all_frequencies_all_windows',\n",
       " 'mPFC_power_gamma',\n",
       " 'mPFC_power_theta',\n",
       " 'vHPC_power_all_frequencies_all_windows',\n",
       " 'vHPC_power_gamma',\n",
       " 'vHPC_power_theta']"
      ]
     },
     "execution_count": 81,
     "metadata": {},
     "output_type": "execute_result"
    }
   ],
   "source": [
    "power_columns"
   ]
  },
  {
   "cell_type": "code",
   "execution_count": 82,
   "metadata": {
    "tags": []
   },
   "outputs": [
    {
     "name": "stdout",
     "output_type": "stream",
     "text": [
      "trial_and_post_BLA_power_all_frequencies_all_windows\n",
      "trial_and_post_BLA_power_gamma\n",
      "trial_and_post_BLA_power_theta\n",
      "trial_and_post_LH_power_all_frequencies_all_windows\n",
      "trial_and_post_LH_power_gamma\n",
      "trial_and_post_LH_power_theta\n",
      "trial_and_post_MD_power_all_frequencies_all_windows\n",
      "trial_and_post_MD_power_gamma\n",
      "trial_and_post_MD_power_theta\n",
      "trial_and_post_mPFC_power_all_frequencies_all_windows\n",
      "trial_and_post_mPFC_power_gamma\n",
      "trial_and_post_mPFC_power_theta\n",
      "trial_and_post_vHPC_power_all_frequencies_all_windows\n",
      "trial_and_post_vHPC_power_gamma\n",
      "trial_and_post_vHPC_power_theta\n"
     ]
    }
   ],
   "source": [
    "for col in sorted(power_columns):\n",
    "    updated_item_col = \"trial_and_post_{}\".format(col)\n",
    "    print(updated_item_col)\n",
    "    updated_timestamp_col = \"trial_and_post_power_timestamps\"\n",
    "    TRIALS_AND_SPECTRAL_DF[updated_item_col] = TRIALS_AND_SPECTRAL_DF.apply(lambda x: utilities.helper.filter_by_timestamp_range(start=x[\"tone_start_timestamp\"], stop=x[\"post_trial_end_timestamp\"], timestamps=x[\"power_timestamps\"], items=x[col])[1], axis=1)\n",
    "\n",
    "TRIALS_AND_SPECTRAL_DF[updated_timestamp_col] = TRIALS_AND_SPECTRAL_DF.apply(lambda x: utilities.helper.filter_by_timestamp_range(start=x[\"tone_start_timestamp\"], stop=x[\"post_trial_end_timestamp\"], timestamps=x[\"power_timestamps\"], items=x[col])[0], axis=1)\n"
   ]
  },
  {
   "cell_type": "code",
   "execution_count": 83,
   "metadata": {
    "tags": []
   },
   "outputs": [],
   "source": [
    "TRIALS_AND_SPECTRAL_DF = TRIALS_AND_SPECTRAL_DF.drop(columns=power_columns + [\"power_timestamps\"], errors=\"ignore\")"
   ]
  },
  {
   "cell_type": "code",
   "execution_count": 84,
   "metadata": {
    "tags": []
   },
   "outputs": [
    {
     "name": "stdout",
     "output_type": "stream",
     "text": [
      "tone_start_frame\n",
      "reward_start\n",
      "reward_dispensed\n",
      "tone_stop_frame\n",
      "condition \n",
      "competition_closeness\n",
      "get_reward_frame\n",
      "out_reward_frame\n",
      "notes\n",
      "box_1_port_entry_frames\n",
      "box_2_port_entry_frames\n",
      "video_name\n",
      "tone_start_timestamp\n",
      "tone_stop_timestamp\n",
      "box_1_port_entry_timestamps\n",
      "box_2_port_entry_timestamps\n",
      "current_subject\n",
      "agent_tail_base\n",
      "agent_to_reward_port_angle\n",
      "color\n",
      "comp_id\n",
      "subject_tail_base\n",
      "subject_to_reward_port_angle\n",
      "to_reward_port_angle_diff\n",
      "to_reward_port_angle_sum\n",
      "tone_start_to_stop_frame\n",
      "within_trial_index\n",
      "agent\n",
      "all_subjects\n",
      "body_parts\n",
      "box_bottom_left\n",
      "box_bottom_right\n",
      "box_number\n",
      "box_top_left\n",
      "box_top_right\n",
      "experiment\n",
      "first_timestamp\n",
      "last_timestamp\n",
      "reward_port\n",
      "session_dir\n",
      "sleap_name\n",
      "start_frame\n",
      "stop_frame\n",
      "tracked_subject\n",
      "video_id\n",
      "BLA_gamma_band\n",
      "BLA_gamma_phase\n",
      "BLA_lfp_trace\n",
      "BLA_theta_band\n",
      "BLA_theta_phase\n",
      "LH_gamma_band\n",
      "LH_gamma_phase\n",
      "LH_lfp_trace\n",
      "LH_theta_band\n",
      "LH_theta_phase\n",
      "MD_gamma_band\n",
      "MD_gamma_phase\n",
      "MD_lfp_trace\n",
      "MD_theta_band\n",
      "MD_theta_phase\n",
      "coherence_calculation_frequencies\n",
      "cohort\n",
      "granger_calculation_frequencies\n",
      "lfp_timestamps\n",
      "mPFC_gamma_band\n",
      "mPFC_gamma_phase\n",
      "mPFC_lfp_trace\n",
      "mPFC_theta_band\n",
      "mPFC_theta_phase\n",
      "power_calculation_frequencies\n",
      "recording\n",
      "session_path\n",
      "subject\n",
      "tone_frames\n",
      "tone_timestamps\n",
      "vHPC_gamma_band\n",
      "vHPC_gamma_phase\n",
      "vHPC_lfp_trace\n",
      "vHPC_theta_band\n",
      "vHPC_theta_phase\n",
      "video_timestamps\n",
      "baseline_start_timestamp\n",
      "post_trial_end_timestamp\n",
      "video_frame\n",
      "trial_and_post_agent_locations\n",
      "trial_and_post_agent_nose\n",
      "trial_and_post_agent_nose_to_reward_port\n",
      "trial_and_post_agent_thorax\n",
      "trial_and_post_agent_thorax_velocity\n",
      "trial_and_post_closebool_agent_nose_to_reward_port\n",
      "trial_and_post_closebool_subject_nose_to_reward_port\n",
      "trial_and_post_clusterable_embedding_x\n",
      "trial_and_post_clusterable_embedding_y\n",
      "trial_and_post_competitiveness\n",
      "trial_and_post_frame_index\n",
      "trial_and_post_kmeans_cluster\n",
      "trial_and_post_manual_cluster_id\n",
      "trial_and_post_movingbool_agent_thorax_velocity\n",
      "trial_and_post_movingbool_subject_thorax_velocity\n",
      "trial_and_post_nose_to_reward_port_diff\n",
      "trial_and_post_nose_to_reward_port_sum\n",
      "trial_and_post_nose_to_tail_diff\n",
      "trial_and_post_nose_to_tail_sum\n",
      "trial_and_post_standard_embedding_x\n",
      "trial_and_post_standard_embedding_y\n",
      "trial_and_post_subject_locations\n",
      "trial_and_post_subject_nose\n",
      "trial_and_post_subject_nose_to_reward_port\n",
      "trial_and_post_subject_thorax\n",
      "trial_and_post_subject_thorax_to_agent_thorax\n",
      "trial_and_post_subject_thorax_velocity\n",
      "trial_and_post_thorax_velocity_diff\n",
      "trial_and_post_thorax_velocity_sum\n",
      "trial_and_post_within_trial_frame_index\n",
      "trial_and_post_video_timestamps\n",
      "trial_and_post_BLA_LH_coherence_all_frequencies_all_windows\n",
      "trial_and_post_BLA_LH_coherence_gamma\n",
      "trial_and_post_BLA_LH_coherence_theta\n",
      "trial_and_post_BLA_MD_coherence_all_frequencies_all_windows\n",
      "trial_and_post_BLA_MD_coherence_gamma\n",
      "trial_and_post_BLA_MD_coherence_theta\n",
      "trial_and_post_BLA_mPFC_coherence_all_frequencies_all_windows\n",
      "trial_and_post_BLA_mPFC_coherence_gamma\n",
      "trial_and_post_BLA_mPFC_coherence_theta\n",
      "trial_and_post_BLA_vHPC_coherence_all_frequencies_all_windows\n",
      "trial_and_post_BLA_vHPC_coherence_gamma\n",
      "trial_and_post_BLA_vHPC_coherence_theta\n",
      "trial_and_post_LH_MD_coherence_all_frequencies_all_windows\n",
      "trial_and_post_LH_MD_coherence_gamma\n",
      "trial_and_post_LH_MD_coherence_theta\n",
      "trial_and_post_LH_mPFC_coherence_all_frequencies_all_windows\n",
      "trial_and_post_LH_mPFC_coherence_gamma\n",
      "trial_and_post_LH_mPFC_coherence_theta\n",
      "trial_and_post_LH_vHPC_coherence_all_frequencies_all_windows\n",
      "trial_and_post_LH_vHPC_coherence_gamma\n",
      "trial_and_post_LH_vHPC_coherence_theta\n",
      "trial_and_post_MD_mPFC_coherence_all_frequencies_all_windows\n",
      "trial_and_post_MD_mPFC_coherence_gamma\n",
      "trial_and_post_MD_mPFC_coherence_theta\n",
      "trial_and_post_MD_vHPC_coherence_all_frequencies_all_windows\n",
      "trial_and_post_MD_vHPC_coherence_gamma\n",
      "trial_and_post_MD_vHPC_coherence_theta\n",
      "trial_and_post_mPFC_vHPC_coherence_all_frequencies_all_windows\n",
      "trial_and_post_mPFC_vHPC_coherence_gamma\n",
      "trial_and_post_mPFC_vHPC_coherence_theta\n",
      "trial_and_post_coherence_timestamps\n",
      "trial_and_post_BLA-to-LH_granger_gamma\n",
      "trial_and_post_BLA-to-LH_granger_theta\n",
      "trial_and_post_BLA-to-MD_granger_gamma\n",
      "trial_and_post_BLA-to-MD_granger_theta\n",
      "trial_and_post_BLA-to-mPFC_granger_gamma\n",
      "trial_and_post_BLA-to-mPFC_granger_theta\n",
      "trial_and_post_BLA-to-vHPC_granger_gamma\n",
      "trial_and_post_BLA-to-vHPC_granger_theta\n",
      "trial_and_post_BLA_LH_granger_all_frequencies_all_windows\n",
      "trial_and_post_BLA_MD_granger_all_frequencies_all_windows\n",
      "trial_and_post_BLA_mPFC_granger_all_frequencies_all_windows\n",
      "trial_and_post_BLA_vHPC_granger_all_frequencies_all_windows\n",
      "trial_and_post_LH-to-BLA_granger_gamma\n",
      "trial_and_post_LH-to-BLA_granger_theta\n",
      "trial_and_post_LH-to-MD_granger_gamma\n",
      "trial_and_post_LH-to-MD_granger_theta\n",
      "trial_and_post_LH-to-mPFC_granger_gamma\n",
      "trial_and_post_LH-to-mPFC_granger_theta\n",
      "trial_and_post_LH-to-vHPC_granger_gamma\n",
      "trial_and_post_LH-to-vHPC_granger_theta\n",
      "trial_and_post_LH_BLA_granger_all_frequencies_all_windows\n",
      "trial_and_post_LH_MD_granger_all_frequencies_all_windows\n",
      "trial_and_post_LH_mPFC_granger_all_frequencies_all_windows\n",
      "trial_and_post_LH_vHPC_granger_all_frequencies_all_windows\n",
      "trial_and_post_MD-to-BLA_granger_gamma\n",
      "trial_and_post_MD-to-BLA_granger_theta\n",
      "trial_and_post_MD-to-LH_granger_gamma\n",
      "trial_and_post_MD-to-LH_granger_theta\n",
      "trial_and_post_MD-to-mPFC_granger_gamma\n",
      "trial_and_post_MD-to-mPFC_granger_theta\n",
      "trial_and_post_MD-to-vHPC_granger_gamma\n",
      "trial_and_post_MD-to-vHPC_granger_theta\n",
      "trial_and_post_MD_BLA_granger_all_frequencies_all_windows\n",
      "trial_and_post_MD_LH_granger_all_frequencies_all_windows\n",
      "trial_and_post_MD_mPFC_granger_all_frequencies_all_windows\n",
      "trial_and_post_MD_vHPC_granger_all_frequencies_all_windows\n",
      "trial_and_post_mPFC-to-BLA_granger_gamma\n",
      "trial_and_post_mPFC-to-BLA_granger_theta\n",
      "trial_and_post_mPFC-to-LH_granger_gamma\n",
      "trial_and_post_mPFC-to-LH_granger_theta\n",
      "trial_and_post_mPFC-to-MD_granger_gamma\n",
      "trial_and_post_mPFC-to-MD_granger_theta\n",
      "trial_and_post_mPFC-to-vHPC_granger_gamma\n",
      "trial_and_post_mPFC-to-vHPC_granger_theta\n",
      "trial_and_post_mPFC_BLA_granger_all_frequencies_all_windows\n",
      "trial_and_post_mPFC_LH_granger_all_frequencies_all_windows\n",
      "trial_and_post_mPFC_MD_granger_all_frequencies_all_windows\n",
      "trial_and_post_mPFC_vHPC_granger_all_frequencies_all_windows\n",
      "trial_and_post_vHPC-to-BLA_granger_gamma\n",
      "trial_and_post_vHPC-to-BLA_granger_theta\n",
      "trial_and_post_vHPC-to-LH_granger_gamma\n",
      "trial_and_post_vHPC-to-LH_granger_theta\n",
      "trial_and_post_vHPC-to-MD_granger_gamma\n",
      "trial_and_post_vHPC-to-MD_granger_theta\n",
      "trial_and_post_vHPC-to-mPFC_granger_gamma\n",
      "trial_and_post_vHPC-to-mPFC_granger_theta\n",
      "trial_and_post_vHPC_BLA_granger_all_frequencies_all_windows\n",
      "trial_and_post_vHPC_LH_granger_all_frequencies_all_windows\n",
      "trial_and_post_vHPC_MD_granger_all_frequencies_all_windows\n",
      "trial_and_post_vHPC_mPFC_granger_all_frequencies_all_windows\n",
      "trial_and_post_granger_timestamps\n",
      "trial_and_post_BLA_power_all_frequencies_all_windows\n",
      "trial_and_post_BLA_power_gamma\n",
      "trial_and_post_BLA_power_theta\n",
      "trial_and_post_LH_power_all_frequencies_all_windows\n",
      "trial_and_post_LH_power_gamma\n",
      "trial_and_post_LH_power_theta\n",
      "trial_and_post_MD_power_all_frequencies_all_windows\n",
      "trial_and_post_MD_power_gamma\n",
      "trial_and_post_MD_power_theta\n",
      "trial_and_post_mPFC_power_all_frequencies_all_windows\n",
      "trial_and_post_mPFC_power_gamma\n",
      "trial_and_post_mPFC_power_theta\n",
      "trial_and_post_vHPC_power_all_frequencies_all_windows\n",
      "trial_and_post_vHPC_power_gamma\n",
      "trial_and_post_vHPC_power_theta\n",
      "trial_and_post_power_timestamps\n"
     ]
    }
   ],
   "source": [
    "for col in TRIALS_AND_SPECTRAL_DF:\n",
    "    print(col)"
   ]
  },
  {
   "cell_type": "markdown",
   "metadata": {
    "tags": []
   },
   "source": [
    "# Filtering out phase"
   ]
  },
  {
   "cell_type": "code",
   "execution_count": 85,
   "metadata": {
    "tags": []
   },
   "outputs": [],
   "source": [
    "lfp_columns = [col for col in TRIALS_AND_SPECTRAL_DF.columns if \"trace\" in col and \"timestamps\" not in col and \"calculation\" not in col]"
   ]
  },
  {
   "cell_type": "code",
   "execution_count": 86,
   "metadata": {
    "tags": []
   },
   "outputs": [],
   "source": [
    "band_columns = [col for col in TRIALS_AND_SPECTRAL_DF.columns if \"band\" in col and \"timestamps\" not in col and \"calculation\" not in col]"
   ]
  },
  {
   "cell_type": "code",
   "execution_count": 87,
   "metadata": {
    "tags": []
   },
   "outputs": [],
   "source": [
    "phase_columns = [col for col in TRIALS_AND_SPECTRAL_DF.columns if \"phase\" in col and \"timestamps\" not in col and \"calculation\" not in col]"
   ]
  },
  {
   "cell_type": "code",
   "execution_count": 88,
   "metadata": {
    "tags": []
   },
   "outputs": [],
   "source": [
    "phase_columns = phase_columns + band_columns +lfp_columns"
   ]
  },
  {
   "cell_type": "code",
   "execution_count": 89,
   "metadata": {
    "tags": []
   },
   "outputs": [
    {
     "data": {
      "text/plain": [
       "['BLA_gamma_phase',\n",
       " 'BLA_theta_phase',\n",
       " 'LH_gamma_phase',\n",
       " 'LH_theta_phase',\n",
       " 'MD_gamma_phase',\n",
       " 'MD_theta_phase',\n",
       " 'mPFC_gamma_phase',\n",
       " 'mPFC_theta_phase',\n",
       " 'vHPC_gamma_phase',\n",
       " 'vHPC_theta_phase',\n",
       " 'BLA_gamma_band',\n",
       " 'BLA_theta_band',\n",
       " 'LH_gamma_band',\n",
       " 'LH_theta_band',\n",
       " 'MD_gamma_band',\n",
       " 'MD_theta_band',\n",
       " 'mPFC_gamma_band',\n",
       " 'mPFC_theta_band',\n",
       " 'vHPC_gamma_band',\n",
       " 'vHPC_theta_band',\n",
       " 'BLA_lfp_trace',\n",
       " 'LH_lfp_trace',\n",
       " 'MD_lfp_trace',\n",
       " 'mPFC_lfp_trace',\n",
       " 'vHPC_lfp_trace']"
      ]
     },
     "execution_count": 89,
     "metadata": {},
     "output_type": "execute_result"
    }
   ],
   "source": [
    "phase_columns"
   ]
  },
  {
   "cell_type": "code",
   "execution_count": 90,
   "metadata": {
    "tags": []
   },
   "outputs": [
    {
     "name": "stdout",
     "output_type": "stream",
     "text": [
      "trial_and_post_BLA_gamma_band\n",
      "trial_and_post_BLA_gamma_phase\n",
      "trial_and_post_BLA_lfp_trace\n",
      "trial_and_post_BLA_theta_band\n",
      "trial_and_post_BLA_theta_phase\n",
      "trial_and_post_LH_gamma_band\n",
      "trial_and_post_LH_gamma_phase\n",
      "trial_and_post_LH_lfp_trace\n",
      "trial_and_post_LH_theta_band\n",
      "trial_and_post_LH_theta_phase\n",
      "trial_and_post_MD_gamma_band\n",
      "trial_and_post_MD_gamma_phase\n",
      "trial_and_post_MD_lfp_trace\n",
      "trial_and_post_MD_theta_band\n",
      "trial_and_post_MD_theta_phase\n",
      "trial_and_post_mPFC_gamma_band\n",
      "trial_and_post_mPFC_gamma_phase\n",
      "trial_and_post_mPFC_lfp_trace\n",
      "trial_and_post_mPFC_theta_band\n",
      "trial_and_post_mPFC_theta_phase\n",
      "trial_and_post_vHPC_gamma_band\n",
      "trial_and_post_vHPC_gamma_phase\n",
      "trial_and_post_vHPC_lfp_trace\n",
      "trial_and_post_vHPC_theta_band\n",
      "trial_and_post_vHPC_theta_phase\n"
     ]
    }
   ],
   "source": [
    "for col in sorted(phase_columns):\n",
    "    updated_item_col = \"trial_and_post_{}\".format(col)\n",
    "    print(updated_item_col)\n",
    "    updated_timestamp_col = \"trial_and_post_lfp_timestamps\"\n",
    "    TRIALS_AND_SPECTRAL_DF[updated_item_col] = TRIALS_AND_SPECTRAL_DF.apply(lambda x: utilities.helper.filter_by_timestamp_range(start=x[\"tone_start_timestamp\"], stop=x[\"post_trial_end_timestamp\"], timestamps=x[\"lfp_timestamps\"], items=x[col])[1], axis=1)\n",
    "\n",
    "TRIALS_AND_SPECTRAL_DF[updated_timestamp_col] = TRIALS_AND_SPECTRAL_DF.apply(lambda x: utilities.helper.filter_by_timestamp_range(start=x[\"tone_start_timestamp\"], stop=x[\"post_trial_end_timestamp\"], timestamps=x[\"lfp_timestamps\"], items=x[col])[0], axis=1)\n"
   ]
  },
  {
   "cell_type": "code",
   "execution_count": null,
   "metadata": {
    "tags": []
   },
   "outputs": [],
   "source": []
  },
  {
   "cell_type": "code",
   "execution_count": 91,
   "metadata": {
    "tags": []
   },
   "outputs": [
    {
     "data": {
      "text/plain": [
       "0      [34276300, 34276320, 34276340, 34276360, 34276...\n",
       "1      [34276300, 34276320, 34276340, 34276360, 34276...\n",
       "2      [35276320, 35276340, 35276360, 35276380, 35276...\n",
       "3      [35276320, 35276340, 35276360, 35276380, 35276...\n",
       "4      [36376340, 36376360, 36376380, 36376400, 36376...\n",
       "                             ...                        \n",
       "283    [57964900, 57964920, 57964940, 57964960, 57964...\n",
       "284    [60164920, 60164940, 60164960, 60164980, 60165...\n",
       "285    [60164920, 60164940, 60164960, 60164980, 60165...\n",
       "286    [61264940, 61264960, 61264980, 61265000, 61265...\n",
       "287    [61264940, 61264960, 61264980, 61265000, 61265...\n",
       "Name: trial_and_post_lfp_timestamps, Length: 288, dtype: object"
      ]
     },
     "execution_count": 91,
     "metadata": {},
     "output_type": "execute_result"
    }
   ],
   "source": [
    "TRIALS_AND_SPECTRAL_DF[\"trial_and_post_lfp_timestamps\"]"
   ]
  },
  {
   "cell_type": "code",
   "execution_count": 92,
   "metadata": {
    "tags": []
   },
   "outputs": [],
   "source": [
    "TRIALS_AND_SPECTRAL_DF = TRIALS_AND_SPECTRAL_DF.drop(columns=phase_columns + [\"lfp_timestamps\"], errors=\"ignore\")"
   ]
  },
  {
   "cell_type": "code",
   "execution_count": 93,
   "metadata": {
    "tags": []
   },
   "outputs": [],
   "source": [
    "TRIALS_AND_SPECTRAL_DF.to_pickle(os.path.join(OUTPUT_DIR, FULL_LFP_TRACES_PKL))"
   ]
  },
  {
   "cell_type": "code",
   "execution_count": 94,
   "metadata": {
    "tags": []
   },
   "outputs": [
    {
     "name": "stdout",
     "output_type": "stream",
     "text": [
      "tone_start_frame\n",
      "reward_start\n",
      "reward_dispensed\n",
      "tone_stop_frame\n",
      "condition \n",
      "competition_closeness\n",
      "get_reward_frame\n",
      "out_reward_frame\n",
      "notes\n",
      "box_1_port_entry_frames\n",
      "box_2_port_entry_frames\n",
      "video_name\n",
      "tone_start_timestamp\n",
      "tone_stop_timestamp\n",
      "box_1_port_entry_timestamps\n",
      "box_2_port_entry_timestamps\n",
      "current_subject\n",
      "agent_tail_base\n",
      "agent_to_reward_port_angle\n",
      "color\n",
      "comp_id\n",
      "subject_tail_base\n",
      "subject_to_reward_port_angle\n",
      "to_reward_port_angle_diff\n",
      "to_reward_port_angle_sum\n",
      "tone_start_to_stop_frame\n",
      "within_trial_index\n",
      "agent\n",
      "all_subjects\n",
      "body_parts\n",
      "box_bottom_left\n",
      "box_bottom_right\n",
      "box_number\n",
      "box_top_left\n",
      "box_top_right\n",
      "experiment\n",
      "first_timestamp\n",
      "last_timestamp\n",
      "reward_port\n",
      "session_dir\n",
      "sleap_name\n",
      "start_frame\n",
      "stop_frame\n",
      "tracked_subject\n",
      "video_id\n",
      "coherence_calculation_frequencies\n",
      "cohort\n",
      "granger_calculation_frequencies\n",
      "power_calculation_frequencies\n",
      "recording\n",
      "session_path\n",
      "subject\n",
      "tone_frames\n",
      "tone_timestamps\n",
      "video_timestamps\n",
      "baseline_start_timestamp\n",
      "post_trial_end_timestamp\n",
      "video_frame\n",
      "trial_and_post_agent_locations\n",
      "trial_and_post_agent_nose\n",
      "trial_and_post_agent_nose_to_reward_port\n",
      "trial_and_post_agent_thorax\n",
      "trial_and_post_agent_thorax_velocity\n",
      "trial_and_post_closebool_agent_nose_to_reward_port\n",
      "trial_and_post_closebool_subject_nose_to_reward_port\n",
      "trial_and_post_clusterable_embedding_x\n",
      "trial_and_post_clusterable_embedding_y\n",
      "trial_and_post_competitiveness\n",
      "trial_and_post_frame_index\n",
      "trial_and_post_kmeans_cluster\n",
      "trial_and_post_manual_cluster_id\n",
      "trial_and_post_movingbool_agent_thorax_velocity\n",
      "trial_and_post_movingbool_subject_thorax_velocity\n",
      "trial_and_post_nose_to_reward_port_diff\n",
      "trial_and_post_nose_to_reward_port_sum\n",
      "trial_and_post_nose_to_tail_diff\n",
      "trial_and_post_nose_to_tail_sum\n",
      "trial_and_post_standard_embedding_x\n",
      "trial_and_post_standard_embedding_y\n",
      "trial_and_post_subject_locations\n",
      "trial_and_post_subject_nose\n",
      "trial_and_post_subject_nose_to_reward_port\n",
      "trial_and_post_subject_thorax\n",
      "trial_and_post_subject_thorax_to_agent_thorax\n",
      "trial_and_post_subject_thorax_velocity\n",
      "trial_and_post_thorax_velocity_diff\n",
      "trial_and_post_thorax_velocity_sum\n",
      "trial_and_post_within_trial_frame_index\n",
      "trial_and_post_video_timestamps\n",
      "trial_and_post_BLA_LH_coherence_all_frequencies_all_windows\n",
      "trial_and_post_BLA_LH_coherence_gamma\n",
      "trial_and_post_BLA_LH_coherence_theta\n",
      "trial_and_post_BLA_MD_coherence_all_frequencies_all_windows\n",
      "trial_and_post_BLA_MD_coherence_gamma\n",
      "trial_and_post_BLA_MD_coherence_theta\n",
      "trial_and_post_BLA_mPFC_coherence_all_frequencies_all_windows\n",
      "trial_and_post_BLA_mPFC_coherence_gamma\n",
      "trial_and_post_BLA_mPFC_coherence_theta\n",
      "trial_and_post_BLA_vHPC_coherence_all_frequencies_all_windows\n",
      "trial_and_post_BLA_vHPC_coherence_gamma\n",
      "trial_and_post_BLA_vHPC_coherence_theta\n",
      "trial_and_post_LH_MD_coherence_all_frequencies_all_windows\n",
      "trial_and_post_LH_MD_coherence_gamma\n",
      "trial_and_post_LH_MD_coherence_theta\n",
      "trial_and_post_LH_mPFC_coherence_all_frequencies_all_windows\n",
      "trial_and_post_LH_mPFC_coherence_gamma\n",
      "trial_and_post_LH_mPFC_coherence_theta\n",
      "trial_and_post_LH_vHPC_coherence_all_frequencies_all_windows\n",
      "trial_and_post_LH_vHPC_coherence_gamma\n",
      "trial_and_post_LH_vHPC_coherence_theta\n",
      "trial_and_post_MD_mPFC_coherence_all_frequencies_all_windows\n",
      "trial_and_post_MD_mPFC_coherence_gamma\n",
      "trial_and_post_MD_mPFC_coherence_theta\n",
      "trial_and_post_MD_vHPC_coherence_all_frequencies_all_windows\n",
      "trial_and_post_MD_vHPC_coherence_gamma\n",
      "trial_and_post_MD_vHPC_coherence_theta\n",
      "trial_and_post_mPFC_vHPC_coherence_all_frequencies_all_windows\n",
      "trial_and_post_mPFC_vHPC_coherence_gamma\n",
      "trial_and_post_mPFC_vHPC_coherence_theta\n",
      "trial_and_post_coherence_timestamps\n",
      "trial_and_post_BLA-to-LH_granger_gamma\n",
      "trial_and_post_BLA-to-LH_granger_theta\n",
      "trial_and_post_BLA-to-MD_granger_gamma\n",
      "trial_and_post_BLA-to-MD_granger_theta\n",
      "trial_and_post_BLA-to-mPFC_granger_gamma\n",
      "trial_and_post_BLA-to-mPFC_granger_theta\n",
      "trial_and_post_BLA-to-vHPC_granger_gamma\n",
      "trial_and_post_BLA-to-vHPC_granger_theta\n",
      "trial_and_post_BLA_LH_granger_all_frequencies_all_windows\n",
      "trial_and_post_BLA_MD_granger_all_frequencies_all_windows\n",
      "trial_and_post_BLA_mPFC_granger_all_frequencies_all_windows\n",
      "trial_and_post_BLA_vHPC_granger_all_frequencies_all_windows\n",
      "trial_and_post_LH-to-BLA_granger_gamma\n",
      "trial_and_post_LH-to-BLA_granger_theta\n",
      "trial_and_post_LH-to-MD_granger_gamma\n",
      "trial_and_post_LH-to-MD_granger_theta\n",
      "trial_and_post_LH-to-mPFC_granger_gamma\n",
      "trial_and_post_LH-to-mPFC_granger_theta\n",
      "trial_and_post_LH-to-vHPC_granger_gamma\n",
      "trial_and_post_LH-to-vHPC_granger_theta\n",
      "trial_and_post_LH_BLA_granger_all_frequencies_all_windows\n",
      "trial_and_post_LH_MD_granger_all_frequencies_all_windows\n",
      "trial_and_post_LH_mPFC_granger_all_frequencies_all_windows\n",
      "trial_and_post_LH_vHPC_granger_all_frequencies_all_windows\n",
      "trial_and_post_MD-to-BLA_granger_gamma\n",
      "trial_and_post_MD-to-BLA_granger_theta\n",
      "trial_and_post_MD-to-LH_granger_gamma\n",
      "trial_and_post_MD-to-LH_granger_theta\n",
      "trial_and_post_MD-to-mPFC_granger_gamma\n",
      "trial_and_post_MD-to-mPFC_granger_theta\n",
      "trial_and_post_MD-to-vHPC_granger_gamma\n",
      "trial_and_post_MD-to-vHPC_granger_theta\n",
      "trial_and_post_MD_BLA_granger_all_frequencies_all_windows\n",
      "trial_and_post_MD_LH_granger_all_frequencies_all_windows\n",
      "trial_and_post_MD_mPFC_granger_all_frequencies_all_windows\n",
      "trial_and_post_MD_vHPC_granger_all_frequencies_all_windows\n",
      "trial_and_post_mPFC-to-BLA_granger_gamma\n",
      "trial_and_post_mPFC-to-BLA_granger_theta\n",
      "trial_and_post_mPFC-to-LH_granger_gamma\n",
      "trial_and_post_mPFC-to-LH_granger_theta\n",
      "trial_and_post_mPFC-to-MD_granger_gamma\n",
      "trial_and_post_mPFC-to-MD_granger_theta\n",
      "trial_and_post_mPFC-to-vHPC_granger_gamma\n",
      "trial_and_post_mPFC-to-vHPC_granger_theta\n",
      "trial_and_post_mPFC_BLA_granger_all_frequencies_all_windows\n",
      "trial_and_post_mPFC_LH_granger_all_frequencies_all_windows\n",
      "trial_and_post_mPFC_MD_granger_all_frequencies_all_windows\n",
      "trial_and_post_mPFC_vHPC_granger_all_frequencies_all_windows\n",
      "trial_and_post_vHPC-to-BLA_granger_gamma\n",
      "trial_and_post_vHPC-to-BLA_granger_theta\n",
      "trial_and_post_vHPC-to-LH_granger_gamma\n",
      "trial_and_post_vHPC-to-LH_granger_theta\n",
      "trial_and_post_vHPC-to-MD_granger_gamma\n",
      "trial_and_post_vHPC-to-MD_granger_theta\n",
      "trial_and_post_vHPC-to-mPFC_granger_gamma\n",
      "trial_and_post_vHPC-to-mPFC_granger_theta\n",
      "trial_and_post_vHPC_BLA_granger_all_frequencies_all_windows\n",
      "trial_and_post_vHPC_LH_granger_all_frequencies_all_windows\n",
      "trial_and_post_vHPC_MD_granger_all_frequencies_all_windows\n",
      "trial_and_post_vHPC_mPFC_granger_all_frequencies_all_windows\n",
      "trial_and_post_granger_timestamps\n",
      "trial_and_post_BLA_power_all_frequencies_all_windows\n",
      "trial_and_post_BLA_power_gamma\n",
      "trial_and_post_BLA_power_theta\n",
      "trial_and_post_LH_power_all_frequencies_all_windows\n",
      "trial_and_post_LH_power_gamma\n",
      "trial_and_post_LH_power_theta\n",
      "trial_and_post_MD_power_all_frequencies_all_windows\n",
      "trial_and_post_MD_power_gamma\n",
      "trial_and_post_MD_power_theta\n",
      "trial_and_post_mPFC_power_all_frequencies_all_windows\n",
      "trial_and_post_mPFC_power_gamma\n",
      "trial_and_post_mPFC_power_theta\n",
      "trial_and_post_vHPC_power_all_frequencies_all_windows\n",
      "trial_and_post_vHPC_power_gamma\n",
      "trial_and_post_vHPC_power_theta\n",
      "trial_and_post_power_timestamps\n",
      "trial_and_post_BLA_gamma_band\n",
      "trial_and_post_BLA_gamma_phase\n",
      "trial_and_post_BLA_lfp_trace\n",
      "trial_and_post_BLA_theta_band\n",
      "trial_and_post_BLA_theta_phase\n",
      "trial_and_post_LH_gamma_band\n",
      "trial_and_post_LH_gamma_phase\n",
      "trial_and_post_LH_lfp_trace\n",
      "trial_and_post_LH_theta_band\n",
      "trial_and_post_LH_theta_phase\n",
      "trial_and_post_MD_gamma_band\n",
      "trial_and_post_MD_gamma_phase\n",
      "trial_and_post_MD_lfp_trace\n",
      "trial_and_post_MD_theta_band\n",
      "trial_and_post_MD_theta_phase\n",
      "trial_and_post_mPFC_gamma_band\n",
      "trial_and_post_mPFC_gamma_phase\n",
      "trial_and_post_mPFC_lfp_trace\n",
      "trial_and_post_mPFC_theta_band\n",
      "trial_and_post_mPFC_theta_phase\n",
      "trial_and_post_vHPC_gamma_band\n",
      "trial_and_post_vHPC_gamma_phase\n",
      "trial_and_post_vHPC_lfp_trace\n",
      "trial_and_post_vHPC_theta_band\n",
      "trial_and_post_vHPC_theta_phase\n",
      "trial_and_post_lfp_timestamps\n"
     ]
    }
   ],
   "source": [
    "for col in TRIALS_AND_SPECTRAL_DF:\n",
    "    print(col)"
   ]
  },
  {
   "cell_type": "code",
   "execution_count": 95,
   "metadata": {
    "tags": []
   },
   "outputs": [
    {
     "data": {
      "text/plain": [
       "(399,)"
      ]
     },
     "execution_count": 95,
     "metadata": {},
     "output_type": "execute_result"
    }
   ],
   "source": [
    "TRIALS_AND_SPECTRAL_DF[\"trial_and_post_kmeans_cluster\"].iloc[0].shape"
   ]
  },
  {
   "cell_type": "code",
   "execution_count": 96,
   "metadata": {},
   "outputs": [
    {
     "ename": "ValueError",
     "evalue": "",
     "output_type": "error",
     "traceback": [
      "\u001b[0;31m---------------------------------------------------------------------------\u001b[0m",
      "\u001b[0;31mValueError\u001b[0m                                Traceback (most recent call last)",
      "Cell \u001b[0;32mIn[96], line 1\u001b[0m\n\u001b[0;32m----> 1\u001b[0m \u001b[38;5;28;01mraise\u001b[39;00m \u001b[38;5;167;01mValueError\u001b[39;00m()\n",
      "\u001b[0;31mValueError\u001b[0m: "
     ]
    }
   ],
   "source": [
    "raise ValueError()"
   ]
  },
  {
   "cell_type": "markdown",
   "metadata": {},
   "source": [
    "# Filtering for rows that are in the video"
   ]
  },
  {
   "cell_type": "code",
   "execution_count": null,
   "metadata": {
    "tags": []
   },
   "outputs": [],
   "source": [
    "TRIALS_AND_SPECTRAL_DF[\"in_video\"] = TRIALS_AND_SPECTRAL_DF.apply(lambda x: x[\"start_frame\"] <= x[\"trial_video_frame\"][0] <= x[\"stop_frame\"], axis=1)"
   ]
  },
  {
   "cell_type": "code",
   "execution_count": null,
   "metadata": {
    "tags": []
   },
   "outputs": [],
   "source": [
    "TRIALS_AND_SPECTRAL_DF = TRIALS_AND_SPECTRAL_DF[TRIALS_AND_SPECTRAL_DF[\"in_video\"]].reset_index()"
   ]
  },
  {
   "cell_type": "code",
   "execution_count": null,
   "metadata": {
    "tags": []
   },
   "outputs": [],
   "source": [
    "TRIALS_AND_SPECTRAL_DF"
   ]
  },
  {
   "cell_type": "code",
   "execution_count": null,
   "metadata": {
    "tags": []
   },
   "outputs": [],
   "source": [
    "TRIALS_AND_SPECTRAL_DF.to_pickle(os.path.join(OUTPUT_DIR, FULL_LFP_TRACES_PKL))"
   ]
  },
  {
   "cell_type": "code",
   "execution_count": null,
   "metadata": {},
   "outputs": [],
   "source": [
    "raise ValueError()"
   ]
  },
  {
   "cell_type": "markdown",
   "metadata": {},
   "source": [
    "# Filtering out spikes"
   ]
  },
  {
   "cell_type": "code",
   "execution_count": null,
   "metadata": {
    "tags": []
   },
   "outputs": [],
   "source": [
    "raise ValueError()"
   ]
  },
  {
   "cell_type": "code",
   "execution_count": null,
   "metadata": {
    "tags": []
   },
   "outputs": [],
   "source": [
    "TRIALS_AND_SPECTRAL_DF[\"baseline_spike_times\"] = TRIALS_AND_SPECTRAL_DF.apply(lambda x: filter_spike_times(x[\"spike_times\"], start=x[\"tone_start_timestamp\"], stop=x[\"baseline_stop_timestamp\"]).astype(int), axis=1)\n"
   ]
  },
  {
   "cell_type": "code",
   "execution_count": null,
   "metadata": {
    "tags": []
   },
   "outputs": [],
   "source": [
    "TRIALS_AND_SPECTRAL_DF[\"trial_spike_times\"] = TRIALS_AND_SPECTRAL_DF.apply(lambda x: filter_spike_times(x[\"spike_times\"], start=x[\"tone_start_timestamp\"], stop=x[\"tone_stop_timestamp\"]).astype(int), axis=1)\n"
   ]
  },
  {
   "cell_type": "code",
   "execution_count": null,
   "metadata": {
    "tags": []
   },
   "outputs": [],
   "source": [
    "TRIALS_AND_SPECTRAL_DF[\"tone_start_timestamp\"].head()"
   ]
  },
  {
   "cell_type": "code",
   "execution_count": null,
   "metadata": {
    "tags": []
   },
   "outputs": [],
   "source": [
    "TRIALS_AND_SPECTRAL_DF[\"baseline_stop_timestamp\"].head()"
   ]
  },
  {
   "cell_type": "code",
   "execution_count": null,
   "metadata": {
    "tags": []
   },
   "outputs": [],
   "source": [
    "TRIALS_AND_SPECTRAL_DF[\"baseline_spike_times\"].iloc[0]"
   ]
  },
  {
   "cell_type": "code",
   "execution_count": null,
   "metadata": {
    "tags": []
   },
   "outputs": [],
   "source": [
    "TRIALS_AND_SPECTRAL_DF[\"baseline_neuron_average_fr\"] = TRIALS_AND_SPECTRAL_DF.apply(lambda x: utilities.helper.filter_by_timestamp_range(start=x[\"tone_start_timestamp\"], stop=x[\"baseline_stop_timestamp\"], timestamps=x[\"neuron_average_timestamps\"], items=x[\"neuron_average_fr\"].T)[1], axis=1)\n",
    "TRIALS_AND_SPECTRAL_DF[\"baseline_neuron_average_timestamp\"] = TRIALS_AND_SPECTRAL_DF.apply(lambda x: utilities.helper.filter_by_timestamp_range(start=x[\"tone_start_timestamp\"], stop=x[\"baseline_stop_timestamp\"], timestamps=x[\"neuron_average_timestamps\"], items=x[\"neuron_average_fr\"].T)[0], axis=1)"
   ]
  },
  {
   "cell_type": "code",
   "execution_count": null,
   "metadata": {
    "tags": []
   },
   "outputs": [],
   "source": [
    "TRIALS_AND_SPECTRAL_DF[\"trial_neuron_average_fr\"] = TRIALS_AND_SPECTRAL_DF.apply(lambda x: utilities.helper.filter_by_timestamp_range(start=x[\"tone_start_timestamp\"], stop=x[\"tone_stop_timestamp\"], timestamps=x[\"neuron_average_timestamps\"], items=x[\"neuron_average_fr\"].T)[1].T, axis=1)\n",
    "TRIALS_AND_SPECTRAL_DF[\"trial_neuron_average_timestamp\"] = TRIALS_AND_SPECTRAL_DF.apply(lambda x: utilities.helper.filter_by_timestamp_range(start=x[\"tone_start_timestamp\"], stop=x[\"tone_stop_timestamp\"], timestamps=x[\"neuron_average_timestamps\"], items=x[\"neuron_average_fr\"].T)[0], axis=1)"
   ]
  },
  {
   "cell_type": "code",
   "execution_count": null,
   "metadata": {
    "tags": []
   },
   "outputs": [],
   "source": [
    "TRIALS_AND_SPECTRAL_DF = TRIALS_AND_SPECTRAL_DF.drop(columns=[\"spike_clusters\", \"spike_times\", \"neuron_average_fr\", \"neuron_average_timestamps\",], errors=\"ignore\")"
   ]
  },
  {
   "cell_type": "code",
   "execution_count": null,
   "metadata": {
    "tags": []
   },
   "outputs": [],
   "source": [
    "TRIALS_AND_SPECTRAL_DF[\"trial_neuron_average_fr\"].iloc[0].shape"
   ]
  },
  {
   "cell_type": "code",
   "execution_count": null,
   "metadata": {
    "tags": []
   },
   "outputs": [],
   "source": [
    "TRIALS_AND_SPECTRAL_DF[\"trial_neuron_average_timestamp\"].iloc[0].shape"
   ]
  },
  {
   "cell_type": "code",
   "execution_count": null,
   "metadata": {},
   "outputs": [],
   "source": []
  }
 ],
 "metadata": {
  "deepnote": {},
  "deepnote_execution_queue": [],
  "deepnote_notebook_id": "cf8fe3695d074ee7887fdf6459cbf5ce",
  "kernelspec": {
   "display_name": "mountainsort_0_5_6",
   "language": "python",
   "name": "python3"
  },
  "language_info": {
   "codemirror_mode": {
    "name": "ipython",
    "version": 3
   },
   "file_extension": ".py",
   "mimetype": "text/x-python",
   "name": "python",
   "nbconvert_exporter": "python",
   "pygments_lexer": "ipython3",
   "version": "3.9.19"
  }
 },
 "nbformat": 4,
 "nbformat_minor": 4
}
