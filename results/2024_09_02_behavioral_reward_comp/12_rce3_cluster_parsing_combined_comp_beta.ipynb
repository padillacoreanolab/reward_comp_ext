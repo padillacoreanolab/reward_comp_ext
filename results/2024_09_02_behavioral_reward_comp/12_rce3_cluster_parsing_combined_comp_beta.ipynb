{
 "cells": [
  {
   "cell_type": "markdown",
   "metadata": {
    "cell_id": "c3a02adc9e884466bc8c79db549cc3d2",
    "deepnote_cell_type": "text-cell-h1",
    "formattedRanges": [
     {
      "fromCodePoint": 0,
      "marks": {
       "bold": true,
       "underline": true
      },
      "toCodePoint": 17,
      "type": "marks"
     }
    ]
   },
   "source": [
    "# All oscillation analysis"
   ]
  },
  {
   "cell_type": "markdown",
   "metadata": {
    "cell_id": "4546bee655b14a5dbf393161f1228e60",
    "deepnote_cell_type": "text-cell-p",
    "formattedRanges": []
   },
   "source": [
    "Brief 1-2 sentence description of notebook."
   ]
  },
  {
   "cell_type": "code",
   "execution_count": 193,
   "metadata": {
    "tags": []
   },
   "outputs": [],
   "source": [
    "# Imports of all used packages and libraries\n",
    "import sys\n",
    "import os\n",
    "import git\n",
    "import glob\n",
    "from collections import defaultdict"
   ]
  },
  {
   "cell_type": "code",
   "execution_count": 194,
   "metadata": {
    "tags": []
   },
   "outputs": [],
   "source": [
    "git_repo = git.Repo(\".\", search_parent_directories=True)\n",
    "git_root = git_repo.git.rev_parse(\"--show-toplevel\")"
   ]
  },
  {
   "cell_type": "code",
   "execution_count": null,
   "metadata": {
    "tags": []
   },
   "outputs": [],
   "source": [
    "git_root"
   ]
  },
  {
   "cell_type": "code",
   "execution_count": 196,
   "metadata": {
    "tags": []
   },
   "outputs": [],
   "source": [
    "sys.path.insert(0, os.path.join(git_root, 'src'))"
   ]
  },
  {
   "cell_type": "code",
   "execution_count": 197,
   "metadata": {
    "tags": []
   },
   "outputs": [],
   "source": [
    "import warnings\n",
    "warnings.filterwarnings('ignore')"
   ]
  },
  {
   "cell_type": "code",
   "execution_count": 198,
   "metadata": {
    "tags": []
   },
   "outputs": [],
   "source": [
    "import os\n",
    "import collections\n",
    "import itertools\n",
    "from collections import defaultdict\n",
    "from itertools import combinations"
   ]
  },
  {
   "cell_type": "raw",
   "metadata": {},
   "source": [
    "os.environ[\"SPECTRAL_CONNECTIVITY_ENABLE_GPU\"] = \"true\"\n",
    "import cupy as cp"
   ]
  },
  {
   "cell_type": "code",
   "execution_count": 199,
   "metadata": {
    "cell_id": "03b495cefa6a4798a44c7f2e4c6a3ea7",
    "deepnote_cell_type": "code",
    "deepnote_to_be_reexecuted": false,
    "execution_millis": 21,
    "execution_start": 1691424003626,
    "source_hash": null,
    "tags": []
   },
   "outputs": [],
   "source": [
    "# Imports of all used packages and libraries\n",
    "import numpy as np\n",
    "import pandas as pd\n",
    "from scipy import stats\n",
    "from scipy.stats import mannwhitneyu\n",
    "# import seaborn as sns\n",
    "\n"
   ]
  },
  {
   "cell_type": "code",
   "execution_count": 200,
   "metadata": {
    "tags": []
   },
   "outputs": [],
   "source": [
    "import matplotlib\n",
    "import matplotlib.colors as mcolors\n",
    "import matplotlib.pyplot as plt\n",
    "import matplotlib.cm as cm\n",
    "import colorsys"
   ]
  },
  {
   "cell_type": "code",
   "execution_count": 201,
   "metadata": {
    "tags": []
   },
   "outputs": [],
   "source": [
    "from sklearn.metrics import confusion_matrix"
   ]
  },
  {
   "cell_type": "code",
   "execution_count": 202,
   "metadata": {
    "tags": []
   },
   "outputs": [],
   "source": [
    "# from spectral_connectivity import Multitaper, Connectivity\n",
    "# import spectral_connectivity"
   ]
  },
  {
   "cell_type": "code",
   "execution_count": 203,
   "metadata": {
    "tags": []
   },
   "outputs": [],
   "source": [
    "import utilities.helper\n",
    "import trodes.read_exported"
   ]
  },
  {
   "cell_type": "code",
   "execution_count": 204,
   "metadata": {
    "tags": []
   },
   "outputs": [],
   "source": [
    "FONTSIZE = 20"
   ]
  },
  {
   "cell_type": "code",
   "execution_count": 205,
   "metadata": {
    "tags": []
   },
   "outputs": [],
   "source": [
    "font = {'weight' : 'medium',\n",
    "        'size'   : 20}\n",
    "\n",
    "matplotlib.rc('font', **font)"
   ]
  },
  {
   "cell_type": "code",
   "execution_count": null,
   "metadata": {},
   "outputs": [],
   "source": []
  },
  {
   "cell_type": "code",
   "execution_count": 206,
   "metadata": {},
   "outputs": [],
   "source": [
    "# Define a function to horizontally stack arrays\n",
    "def stack_arrays(arrays):\n",
    "    return np.vstack(arrays)"
   ]
  },
  {
   "cell_type": "code",
   "execution_count": 207,
   "metadata": {},
   "outputs": [],
   "source": [
    "# BAND_TO_FREQ_PLOT = {'theta': (4, 12), 'gamma': (30, 50)}\n",
    "BAND_TO_FREQ_PLOT = {'theta': (4, 12)}\n",
    "BAND_TO_FREQ_COLOR = {'theta': \"#FFAF00\", 'beta': \"blue\", 'gamma': \"green\"}"
   ]
  },
  {
   "cell_type": "markdown",
   "metadata": {
    "cell_id": "d290bac2c17940bfbc0f9296beaf70e5",
    "deepnote_cell_type": "text-cell-h2",
    "formattedRanges": []
   },
   "source": [
    "## Inputs & Data"
   ]
  },
  {
   "cell_type": "code",
   "execution_count": 208,
   "metadata": {
    "tags": []
   },
   "outputs": [],
   "source": [
    "EPHYS_SAMPLE_RATE = 20000"
   ]
  },
  {
   "cell_type": "code",
   "execution_count": 209,
   "metadata": {
    "tags": []
   },
   "outputs": [],
   "source": [
    "# GOOD_SUBJECTS = [\"3.1\", \"3.3\", \"3.4\", \"4.2\", \"4.3\", \"5.2\", \"5.3\"]\n",
    "# GOOD_SUBJECTS = [\"3.1\", \"4.2\", \"4.3\"]\n",
    "# GOOD_SUBJECTS = [\"3.1\", \"3.3\", \"3.4\", \"4.2\", \"4.3\"]\n",
    "GOOD_SUBJECTS = [\"3.1\", \"3.3\", \"3.4\", \"4.2\", \"4.3\", \"5.2\", \"5.3\"]\n",
    "# GOOD_SUBJECTS = [\"3.1\", \"3.3\", \"3.4\", \"4.2\", \"4.3\"]\n"
   ]
  },
  {
   "cell_type": "markdown",
   "metadata": {
    "cell_id": "e528ce19c608425292151930d380f49f",
    "deepnote_cell_type": "text-cell-p",
    "formattedRanges": []
   },
   "source": [
    "Explanation of each input and where it comes from."
   ]
  },
  {
   "cell_type": "code",
   "execution_count": 210,
   "metadata": {
    "cell_id": "6cf83a5811054461a718a71673d09aab",
    "deepnote_cell_type": "code",
    "deepnote_to_be_reexecuted": false,
    "execution_millis": 373,
    "execution_start": 1691424003628,
    "source_hash": null,
    "tags": []
   },
   "outputs": [],
   "source": [
    "# Inputs and Required data loading\n",
    "# input varaible names are in all caps snake case\n",
    "# Whenever an input changes or is used for processing \n",
    "# the vairables are all lower in snake case\n",
    "OUTPUT_DIR = r\"./proc/\" # where data is saved should always be shown in the inputs\n",
    "os.makedirs(OUTPUT_DIR, exist_ok=True)\n",
    "OUTPUT_PREFIXES = [\"rce_pilot_3_alone_comp\", \"rce_pilot_3_long_comp\"]\n",
    "OUTPUT_PREFIX = \"rce_pilot_3_combined\""
   ]
  },
  {
   "cell_type": "code",
   "execution_count": 211,
   "metadata": {
    "tags": []
   },
   "outputs": [],
   "source": [
    "# TRIAL_LABELS_DF = pd.read_excel(\"/blue/npadillacoreano/ryoi360/projects/reward_comp/repos/reward_comp_ext/results/2024_06_26_sleap_clustering/data/rce_pilot_3_alone_comp_per_video_trial_labels.xlsx\")\n",
    "TRIALS_AND_SPECTRAL_DF = pd.concat([pd.read_pickle(\"./proc/{}_10_per_trial_spectral_bans_sleap.pkl\".format(prefix)) for prefix in OUTPUT_PREFIXES])"
   ]
  },
  {
   "cell_type": "code",
   "execution_count": 212,
   "metadata": {
    "tags": []
   },
   "outputs": [],
   "source": [
    "FULL_LFP_TRACES_PKL = \"{}_12_per_cluster_spectral_bans_sleap.pkl\".format(OUTPUT_PREFIX)"
   ]
  },
  {
   "cell_type": "markdown",
   "metadata": {
    "cell_id": "e3ee4891d43a4ac287413afc552ca289",
    "deepnote_cell_type": "text-cell-h2",
    "formattedRanges": []
   },
   "source": [
    "## Outputs"
   ]
  },
  {
   "cell_type": "markdown",
   "metadata": {
    "cell_id": "9ccbf6cc70fd4d379fa29317f733771f",
    "deepnote_cell_type": "text-cell-p",
    "formattedRanges": []
   },
   "source": [
    "Describe each output that the notebook creates. "
   ]
  },
  {
   "cell_type": "markdown",
   "metadata": {
    "cell_id": "fc8e8920a6944918a15fac575cdf6e78",
    "deepnote_cell_type": "text-cell-bullet",
    "formattedRanges": []
   },
   "source": [
    "- Is it a plot or is it data?"
   ]
  },
  {
   "cell_type": "markdown",
   "metadata": {
    "cell_id": "1e639d4776a84aa9ac8ded2e14fa57db",
    "deepnote_cell_type": "text-cell-bullet",
    "formattedRanges": []
   },
   "source": [
    "- How valuable is the output and why is it valuable or useful?"
   ]
  },
  {
   "cell_type": "markdown",
   "metadata": {},
   "source": [
    "## Functions "
   ]
  },
  {
   "cell_type": "code",
   "execution_count": null,
   "metadata": {
    "tags": []
   },
   "outputs": [],
   "source": [
    "def combine_dicts(dicts):\n",
    "    \"\"\"\n",
    "    Combine lists from multiple dictionaries that share the same key.\n",
    "\n",
    "    This function takes a list of dictionaries where each dictionary's values are lists of numbers.\n",
    "    It merges these lists for each corresponding key across all dictionaries, producing a single\n",
    "    dictionary where each key has a combined list of all numbers from the input dictionaries.\n",
    "\n",
    "    Parameters:\n",
    "        dicts (list of dict): A list of dictionaries with values as lists of numbers.\n",
    "\n",
    "    Returns:\n",
    "        dict: A dictionary with keys from the input dictionaries and values as merged lists \n",
    "        of numbers from all corresponding input dictionary values.\n",
    "    \"\"\"\n",
    "    combined = defaultdict(list)\n",
    "    for dictionary in dicts:\n",
    "        for key, value in dictionary.items():\n",
    "            combined[key].extend(value)\n",
    "    \n",
    "    return dict(combined)\n",
    "\n",
    "\n",
    "# Example usage\n",
    "list_of_dicts = [\n",
    "    {'a': [1, 2], 'b': [3, 4]},\n",
    "    {'a': [5], 'b': [6, 7]},\n",
    "    {'a': [8, 9], 'c': [10]}\n",
    "]\n",
    "\n",
    "combined_dict = combine_dicts(list_of_dicts)\n",
    "print(combined_dict)"
   ]
  },
  {
   "cell_type": "code",
   "execution_count": null,
   "metadata": {
    "tags": []
   },
   "outputs": [],
   "source": [
    "def find_consecutive_ranges(numbers, min_length=1):\n",
    "    \"\"\"\n",
    "    Finds the start and end indices for consecutive ranges of each number in a list where the range meets a minimum length.\n",
    "\n",
    "    This function iterates through a list of integers and identifies ranges where the same integer appears consecutively\n",
    "    and the length of this sequence meets or exceeds the specified minimum length.\n",
    "\n",
    "    Parameters:\n",
    "        numbers (list): A list of integers to analyze for consecutive ranges.\n",
    "        min_length (int): The minimum length of a range for it to be included in the results.\n",
    "\n",
    "    Returns:\n",
    "        dict: A dictionary with integers as keys and a list of tuples (start, end) as values,\n",
    "              where each tuple represents the start and end indices (inclusive) of consecutive ranges\n",
    "              for that integer. Only ranges that meet or exceed the minimum length are included.\n",
    "    \"\"\"\n",
    "    ranges = {}\n",
    "    n = len(numbers)\n",
    "    if n == 0:\n",
    "        return ranges\n",
    "    \n",
    "    start = 0\n",
    "    current = numbers[0]\n",
    "\n",
    "    for i in range(1, n):\n",
    "        if numbers[i] != current:\n",
    "            if (i - start) >= min_length:\n",
    "                if current not in ranges:\n",
    "                    ranges[current] = []\n",
    "                ranges[current].append((start, i - 1))\n",
    "            current = numbers[i]\n",
    "            start = i\n",
    "\n",
    "    # Handle the last range\n",
    "    if (n - start) >= min_length:\n",
    "        if current not in ranges:\n",
    "            ranges[current] = []\n",
    "        ranges[current].append((start, n - 1))\n",
    "\n",
    "    return ranges\n",
    "\n",
    "# Example usage:\n",
    "numbers = [1, 1, 2, 2, 2, 3, 3, 3, 3, 2, 2, 1, 1]\n",
    "print(find_consecutive_ranges(numbers, min_length=3))"
   ]
  },
  {
   "cell_type": "code",
   "execution_count": null,
   "metadata": {
    "tags": []
   },
   "outputs": [],
   "source": [
    "def update_tuples_in_dict(original_dict, reference_list):\n",
    "    \"\"\"\n",
    "    Updates the values in the tuples within a dictionary by replacing indices with corresponding values from a reference list.\n",
    "    \n",
    "    This function iterates through each key-value pair in the original dictionary. Each value is expected to be a list of tuples,\n",
    "    where each tuple contains indices. These indices are used to fetch corresponding values from the reference list, creating new tuples.\n",
    "    \n",
    "    Parameters:\n",
    "        original_dict (dict): Dictionary whose values are lists of tuples. Each tuple consists of indices into the reference_list.\n",
    "        reference_list (list): List of elements that are referenced by the indices in the tuples of the original_dict.\n",
    "        \n",
    "    Returns:\n",
    "        dict: A dictionary with the same keys as original_dict but with tuples transformed to contain elements from reference_list\n",
    "              based on the indices in the original tuples.\n",
    "    \"\"\"\n",
    "    # Create a new dictionary to store the updated key-value pairs\n",
    "    new_dict = {}\n",
    "    for key, list_of_tuples in original_dict.items():\n",
    "        # Process each tuple in the list associated with the current key\n",
    "        updated_tuples = [\n",
    "            tuple(reference_list[idx] for idx in tup) for tup in list_of_tuples\n",
    "        ]\n",
    "        new_dict[key] = updated_tuples\n",
    "    \n",
    "    return new_dict\n",
    "\n",
    "# Example usage:\n",
    "original_dict = {\n",
    "    'a': [(0, 1), (2, 3)],\n",
    "    'b': [(1, 3), (0, 2)]\n",
    "}\n",
    "reference_list = ['alpha', 'beta', 'gamma', 'delta']\n",
    "\n",
    "updated_dict = update_tuples_in_dict(original_dict, reference_list)\n",
    "print(updated_dict)"
   ]
  },
  {
   "cell_type": "code",
   "execution_count": 216,
   "metadata": {
    "tags": []
   },
   "outputs": [],
   "source": [
    "# def find_indices_within_ranges(ranges_dict, values):\n",
    "#     \"\"\"\n",
    "#     Creates a dictionary mapping keys to sorted indices of values that fall within specified ranges.\n",
    "    \n",
    "#     Parameters:\n",
    "#         ranges_dict (dict): A dictionary with keys and values as lists of tuples representing ranges.\n",
    "#         values (list): A list of values to check against the ranges.\n",
    "        \n",
    "#     Returns:\n",
    "#         dict: A dictionary where each key maps to a sorted list of indices for values within the ranges.\n",
    "#     \"\"\"\n",
    "#     result_dict = {}\n",
    "#     for key, ranges in ranges_dict.items():\n",
    "#         matched_indices = []\n",
    "#         for index, value in enumerate(values):\n",
    "#             if any(start <= value <= end for start, end in ranges):\n",
    "#                 matched_indices.append(index)\n",
    "#         result_dict[key] = sorted(matched_indices)\n",
    "#     return list(result_dict.items())\n",
    "\n",
    "# # Example usage:\n",
    "# ranges_dict = {\n",
    "#     'range1': [(1, 5), (10, 15)],\n",
    "#     'range2': [(0, 2), (4, 8)]\n",
    "# }\n",
    "# values = [0, 1, 2, 3, 4, 5, 6, 7, 8, 9, 10, 11, 12, 13, 14, 15]\n",
    "\n",
    "# result = find_indices_within_ranges(ranges_dict, values)\n",
    "# print(result)\n"
   ]
  },
  {
   "cell_type": "code",
   "execution_count": null,
   "metadata": {},
   "outputs": [],
   "source": [
    "def update_tuples_in_list(original_list, reference_list):\n",
    "    \"\"\"\n",
    "    Updates the values in the tuples within a list by replacing indices with corresponding values from a reference list.\n",
    "    \n",
    "    This function iterates through each tuple in the original list. Each tuple is expected to contain indices.\n",
    "    These indices are used to fetch corresponding values from the reference list, creating new tuples.\n",
    "    \n",
    "    Parameters:\n",
    "        original_list (list): List of tuples. Each inner tuple consists of indices into the reference_list.\n",
    "        reference_list (list): List of elements that are referenced by the indices in the tuples of the original_list.\n",
    "        \n",
    "    Returns:\n",
    "        list: A list with the same structure as original_list but with tuples transformed to contain elements from reference_list\n",
    "              based on the indices in the original tuples.\n",
    "    \"\"\"\n",
    "    # Create a new list to store the updated tuples\n",
    "    new_list = [\n",
    "        tuple(reference_list[idx] for idx in tup) for tup in original_list\n",
    "    ]\n",
    "    \n",
    "    return new_list\n",
    "\n",
    "# Example usage:\n",
    "original_list = [\n",
    "    (0, 1), (2, 3),\n",
    "    (1, 3), (0, 2)\n",
    "]\n",
    "reference_list = ['alpha', 'beta', 'gamma', 'delta']\n",
    "\n",
    "updated_list = update_tuples_in_list(original_list, reference_list)\n",
    "print(updated_list)"
   ]
  },
  {
   "cell_type": "code",
   "execution_count": null,
   "metadata": {},
   "outputs": [],
   "source": [
    "def find_indices_within_ranges(ranges_list, values):\n",
    "    \"\"\"\n",
    "    Finds the indices of values that fall within specified ranges.\n",
    "    \n",
    "    Parameters:\n",
    "        ranges_list (list): A list of tuples representing ranges.\n",
    "        values (list): A list of values to check against the ranges.\n",
    "        \n",
    "    Returns:\n",
    "        list: A list of sorted indices for values within the ranges.\n",
    "    \"\"\"\n",
    "    matched_indices = []\n",
    "    for index, value in enumerate(values):\n",
    "        if any(start <= value <= end for start, end in ranges_list):\n",
    "            matched_indices.append(index)\n",
    "    \n",
    "    return sorted(matched_indices)\n",
    "\n",
    "# Example usage:\n",
    "ranges_list = [(1, 5), (10, 15), (0, 2), (4, 8)]\n",
    "values = [0, 1, 2, 3, 4, 5, 6, 7, 8, 9, 10, 11, 12, 13, 14, 15]\n",
    "\n",
    "result = find_indices_within_ranges(ranges_list, values)\n",
    "print(result)"
   ]
  },
  {
   "cell_type": "code",
   "execution_count": 219,
   "metadata": {},
   "outputs": [],
   "source": [
    "OUTCOME_TO_COLOR = {\"both_rewarded\": \"green\", \n",
    "\"novel_lose\": \"#e67073\",\n",
    "\"novel_win\": \"#93a5da\",\n",
    "\"lose\": \"#951a1d\",\n",
    "\"alone_rewarded\": \"#0499af\",\n",
    "\"win\": \"#3853a3\",\n",
    "\"omission\": \"orange\",\n",
    "\"tie\": \"green\"}"
   ]
  },
  {
   "cell_type": "code",
   "execution_count": 220,
   "metadata": {},
   "outputs": [],
   "source": [
    "comp_id_to_color = {'competitive_1': \"#281640\",\n",
    "'competitive_2': \"#43246a\",\n",
    "'competitive_3': \"#8e7ca6\",\n",
    "'no_comp_4': \"#2f3600\",\n",
    "'no_comp_5': \"#535f00\",\n",
    "'no_comp_6': \"#768800\",\n",
    "'no_comp_7': \"#9fac4d\",\n",
    "'no_comp_8': \"#c8cf99\",\n",
    "'competitive': \"#43246A\",\n",
    "'no_comp': \"#768800\",\n",
    "'win': \"#0045A6\",\n",
    "'win_competitive': \"#003074\",\n",
    "'win_no_comp': \"#4d7dc1\",\n",
    "'lose': \"#792910\",\n",
    "'lose_competitive': \"#551d0b\",\n",
    "'lose_no_comp': \"#a16958\",\n",
    "'rewarded': \"#FFAF00\"\n",
    "}"
   ]
  },
  {
   "cell_type": "code",
   "execution_count": 221,
   "metadata": {},
   "outputs": [],
   "source": [
    "to_keep_columns = ['trial_label',\n",
    "'tone_start_frame',\n",
    "'reward_start',\n",
    "'reward_dispensed',\n",
    "'tone_stop_frame',\n",
    "'condition',\n",
    "'competition_closeness',\n",
    "'get_reward_frame',\n",
    "'out_reward_frame',\n",
    "'notes',\n",
    "'box_1_port_entry_frames',\n",
    "'box_2_port_entry_frames',\n",
    "'video_name',\n",
    "'tone_start_timestamp',\n",
    "'tone_stop_timestamp',\n",
    "'box_1_port_entry_timestamps',\n",
    "'box_2_port_entry_timestamps',\n",
    "'current_subject',\n",
    "'session_dir',\n",
    "'experiment',\n",
    "'sleap_name',\n",
    "'video_id',\n",
    "'agent',\n",
    "'all_subjects',\n",
    "'cohort',\n",
    "'first_timestamp',\n",
    "'last_timestamp',\n",
    "'recording',\n",
    "'session_path',\n",
    "'subject',\n",
    "'baseline_start_timestamp',\n",
    "'post_trial_end_timestamp',]"
   ]
  },
  {
   "cell_type": "markdown",
   "metadata": {
    "cell_id": "8999d19b6b7d4d63bc90f0b0bd9ab085",
    "deepnote_cell_type": "text-cell-h2",
    "formattedRanges": []
   },
   "source": [
    "## Processing"
   ]
  },
  {
   "cell_type": "markdown",
   "metadata": {
    "cell_id": "9b36cdf08567463082b005cb0dec684b",
    "deepnote_cell_type": "text-cell-p",
    "formattedRanges": []
   },
   "source": [
    "Describe what is done to the data here and how inputs are manipulated to generate outputs. "
   ]
  },
  {
   "cell_type": "code",
   "execution_count": 222,
   "metadata": {
    "cell_id": "89aaba237c644628b1b37604b75e7cb1",
    "deepnote_cell_type": "code",
    "tags": []
   },
   "outputs": [],
   "source": [
    "# As much code and as many cells as required\n",
    "# includes EDA and playing with data\n",
    "# GO HAM!\n",
    "\n",
    "# Ideally functions are defined here first and then data is processed using the functions\n",
    "\n",
    "# function names are short and in snake case all lowercase\n",
    "# a function name should be unique but does not have to describe the function\n",
    "# doc strings describe functions not function names\n",
    "\n",
    "\n"
   ]
  },
  {
   "cell_type": "markdown",
   "metadata": {},
   "source": [
    "## Renaming the trial labels"
   ]
  },
  {
   "cell_type": "code",
   "execution_count": null,
   "metadata": {
    "tags": []
   },
   "outputs": [],
   "source": [
    "TRIALS_AND_SPECTRAL_DF.head()"
   ]
  },
  {
   "cell_type": "code",
   "execution_count": 224,
   "metadata": {
    "tags": []
   },
   "outputs": [],
   "source": [
    "comp_closeness_dict = {'Subj 1 blocking Subj 2': \"competitive\",\n",
    "'Subj 2 Only': \"no_comp\",\n",
    "'Subj 2 blocking Subj 1': \"competitive\",\n",
    "'Subj 1 then Subj 2': \"competitive\", \n",
    "'Subj 1 Only': \"no_comp\",\n",
    "'Subj 2 then Subj 1': \"competitive\",\n",
    "'Close Call': \"competitive\",\n",
    "'After trial': \"no_comp\"}"
   ]
  },
  {
   "cell_type": "code",
   "execution_count": 225,
   "metadata": {},
   "outputs": [],
   "source": [
    "# cluster_to_competitiveness = {\"0\": \"no_comp\", \"1\": \"competitive\", \"2\": \"competitive\", \"3\": \"no_comp\", \"4\": \"competitive\", \"5\": \"no_comp\", \"6\": \"no_comp\", \"7\": \"no_comp\"}\n",
    "# cluster_to_comp_id = {\"0\": \"no_comp_8\", \"1\": \"competitive_3\", \"2\": \"competitive_1\", \"3\": \"no_comp_6\", \"4\": \"competitive_2\", \"5\": \"no_comp_7\", \"6\": \"no_comp_5\", \"7\": \"no_comp_4\"}\n",
    "# comp_id = {\"no_comp_8\", \"competitive_3\", \"competitive_1\", \"no_comp_6\", \"competitive_2\", \"no_comp_7\", \"no_comp_5\", \"no_comp_4\"}\n"
   ]
  },
  {
   "cell_type": "markdown",
   "metadata": {},
   "source": [
    "Win base color\n",
    "#0045A6 \n",
    "Win competitive color\n",
    "#003074\n",
    "Win no comp color\n",
    "#4d7dc1\n",
    "\n",
    "Lose base color\n",
    "#792910\n",
    "Lose competitive color\n",
    "#551d0b\n",
    "Lose no comp color\n",
    "#a16958"
   ]
  },
  {
   "cell_type": "code",
   "execution_count": 226,
   "metadata": {
    "tags": []
   },
   "outputs": [],
   "source": [
    "TRIALS_AND_SPECTRAL_DF[\"current_subject\"] = TRIALS_AND_SPECTRAL_DF[\"current_subject\"].apply(lambda x: str(x).strip().lower())"
   ]
  },
  {
   "cell_type": "code",
   "execution_count": 227,
   "metadata": {},
   "outputs": [],
   "source": [
    "TRIALS_AND_SPECTRAL_DF = TRIALS_AND_SPECTRAL_DF[TRIALS_AND_SPECTRAL_DF[\"current_subject\"].isin(GOOD_SUBJECTS)]"
   ]
  },
  {
   "cell_type": "code",
   "execution_count": null,
   "metadata": {},
   "outputs": [],
   "source": [
    "TRIALS_AND_SPECTRAL_DF[\"current_subject\"].unique()"
   ]
  },
  {
   "cell_type": "code",
   "execution_count": 229,
   "metadata": {},
   "outputs": [],
   "source": [
    "TRIALS_AND_SPECTRAL_DF = TRIALS_AND_SPECTRAL_DF[TRIALS_AND_SPECTRAL_DF[\"condition\"] != \"tie\"].reset_index(drop=True)"
   ]
  },
  {
   "cell_type": "code",
   "execution_count": 230,
   "metadata": {},
   "outputs": [],
   "source": [
    "TRIALS_AND_SPECTRAL_DF = TRIALS_AND_SPECTRAL_DF[TRIALS_AND_SPECTRAL_DF[\"condition\"] != \"temp\"].reset_index(drop=True)"
   ]
  },
  {
   "cell_type": "code",
   "execution_count": null,
   "metadata": {},
   "outputs": [],
   "source": [
    "TRIALS_AND_SPECTRAL_DF[\"condition\"].unique()"
   ]
  },
  {
   "cell_type": "code",
   "execution_count": 232,
   "metadata": {
    "tags": []
   },
   "outputs": [],
   "source": [
    "TRIALS_AND_SPECTRAL_DF[\"condition\"] = TRIALS_AND_SPECTRAL_DF[\"condition\"].apply(lambda x: str(x).strip().lower())"
   ]
  },
  {
   "cell_type": "code",
   "execution_count": 233,
   "metadata": {
    "tags": []
   },
   "outputs": [],
   "source": [
    "TRIALS_AND_SPECTRAL_DF[\"trial_label\"] = TRIALS_AND_SPECTRAL_DF.apply(lambda x: \"win\" if x[\"current_subject\"] == x[\"condition\"]  else (\"lose\" if x[\"agent\"] == x[\"condition\"] else x[\"condition\"]), axis=1)\n",
    "                                                                        "
   ]
  },
  {
   "cell_type": "code",
   "execution_count": null,
   "metadata": {},
   "outputs": [],
   "source": [
    "TRIALS_AND_SPECTRAL_DF[\"trial_label\"].unique()"
   ]
  },
  {
   "cell_type": "code",
   "execution_count": 235,
   "metadata": {
    "tags": []
   },
   "outputs": [],
   "source": [
    "TRIALS_AND_SPECTRAL_DF[\"competition_closeness\"] = TRIALS_AND_SPECTRAL_DF[\"competition_closeness\"].map(comp_closeness_dict).fillna(\"rewarded\")"
   ]
  },
  {
   "cell_type": "code",
   "execution_count": null,
   "metadata": {
    "tags": []
   },
   "outputs": [],
   "source": [
    "TRIALS_AND_SPECTRAL_DF[\"trial_label\"].unique()"
   ]
  },
  {
   "cell_type": "code",
   "execution_count": null,
   "metadata": {},
   "outputs": [],
   "source": [
    "TRIALS_AND_SPECTRAL_DF[\"competition_closeness\"].unique()"
   ]
  },
  {
   "cell_type": "markdown",
   "metadata": {},
   "source": [
    "## Making separate rows for each cluster"
   ]
  },
  {
   "cell_type": "code",
   "execution_count": null,
   "metadata": {},
   "outputs": [],
   "source": [
    "TRIALS_AND_SPECTRAL_DF[\"competitiveness_frame_ranges_dict\"]"
   ]
  },
  {
   "cell_type": "code",
   "execution_count": null,
   "metadata": {},
   "outputs": [],
   "source": [
    "TRIALS_AND_SPECTRAL_DF[TRIALS_AND_SPECTRAL_DF[\"trial_label\"] != \"rewarded\"][\"competitiveness_frame_ranges_dict\"].iloc[0]"
   ]
  },
  {
   "cell_type": "code",
   "execution_count": null,
   "metadata": {},
   "outputs": [],
   "source": [
    "TRIALS_AND_SPECTRAL_DF[\"tone_start_frame\"].head()"
   ]
  },
  {
   "cell_type": "code",
   "execution_count": null,
   "metadata": {},
   "outputs": [],
   "source": [
    "TRIALS_AND_SPECTRAL_DF[\"tone_stop_frame\"]"
   ]
  },
  {
   "cell_type": "markdown",
   "metadata": {},
   "source": [
    "- Making each dictionary into a list so that we can explode it"
   ]
  },
  {
   "cell_type": "code",
   "execution_count": 242,
   "metadata": {},
   "outputs": [],
   "source": [
    "dict_col = [col for col in TRIALS_AND_SPECTRAL_DF.columns if \"dict\" in col and \"competitiveness\" in col]\n"
   ]
  },
  {
   "cell_type": "code",
   "execution_count": null,
   "metadata": {},
   "outputs": [],
   "source": [
    "dict_col"
   ]
  },
  {
   "cell_type": "code",
   "execution_count": null,
   "metadata": {},
   "outputs": [],
   "source": [
    "TRIALS_AND_SPECTRAL_DF[TRIALS_AND_SPECTRAL_DF[\"trial_label\"] != \"rewarded\"][\"competitiveness_index_ranges_dict\"].iloc[0]"
   ]
  },
  {
   "cell_type": "code",
   "execution_count": 245,
   "metadata": {},
   "outputs": [],
   "source": [
    "for col in dict_col:\n",
    "    TRIALS_AND_SPECTRAL_DF[col] = TRIALS_AND_SPECTRAL_DF.apply(lambda x: list(x[col].items()) if isinstance(x[col], dict) else [(\"rewarded\", [(x[\"tone_start_frame\"], x[\"tone_stop_frame\"])])], axis=1)"
   ]
  },
  {
   "cell_type": "code",
   "execution_count": null,
   "metadata": {},
   "outputs": [],
   "source": [
    "TRIALS_AND_SPECTRAL_DF[\"competitiveness_frame_ranges_dict\"].head()"
   ]
  },
  {
   "cell_type": "code",
   "execution_count": null,
   "metadata": {},
   "outputs": [],
   "source": [
    "TRIALS_AND_SPECTRAL_DF[TRIALS_AND_SPECTRAL_DF[\"trial_label\"] != \"rewarded\"][\"competitiveness_frame_ranges_dict\"].head()"
   ]
  },
  {
   "cell_type": "markdown",
   "metadata": {},
   "source": [
    "- Exploding each row so that competitive and non-competitive clusters are on different rows"
   ]
  },
  {
   "cell_type": "code",
   "execution_count": 248,
   "metadata": {},
   "outputs": [],
   "source": [
    "cluster_exploded_TRIALS_AND_SPECTRAL_DF = TRIALS_AND_SPECTRAL_DF.explode(column=dict_col)"
   ]
  },
  {
   "cell_type": "code",
   "execution_count": null,
   "metadata": {},
   "outputs": [],
   "source": [
    "cluster_exploded_TRIALS_AND_SPECTRAL_DF[\"competitiveness_frame_ranges_dict\"].head()"
   ]
  },
  {
   "cell_type": "code",
   "execution_count": null,
   "metadata": {},
   "outputs": [],
   "source": [
    "cluster_exploded_TRIALS_AND_SPECTRAL_DF[cluster_exploded_TRIALS_AND_SPECTRAL_DF[\"trial_label\"] != \"rewarded\"][\"competitiveness_frame_ranges_dict\"].head()"
   ]
  },
  {
   "cell_type": "markdown",
   "metadata": {},
   "source": [
    "- Making a new column based on the key which is the competitiveness of the group"
   ]
  },
  {
   "cell_type": "code",
   "execution_count": 251,
   "metadata": {},
   "outputs": [],
   "source": [
    "cluster_exploded_TRIALS_AND_SPECTRAL_DF[\"competitiveness_label\"] = cluster_exploded_TRIALS_AND_SPECTRAL_DF[\"competitiveness_frame_ranges_dict\"].apply(lambda x: str(x[0]))"
   ]
  },
  {
   "cell_type": "code",
   "execution_count": null,
   "metadata": {},
   "outputs": [],
   "source": [
    "cluster_exploded_TRIALS_AND_SPECTRAL_DF[\"competitiveness_label\"].iloc[0]"
   ]
  },
  {
   "cell_type": "code",
   "execution_count": null,
   "metadata": {},
   "outputs": [],
   "source": [
    "cluster_exploded_TRIALS_AND_SPECTRAL_DF[\"competitiveness_label\"].head()"
   ]
  },
  {
   "cell_type": "code",
   "execution_count": null,
   "metadata": {},
   "outputs": [],
   "source": [
    "cluster_exploded_TRIALS_AND_SPECTRAL_DF[cluster_exploded_TRIALS_AND_SPECTRAL_DF[\"trial_label\"] != \"rewarded\"][\"competitiveness_label\"].head()"
   ]
  },
  {
   "cell_type": "markdown",
   "metadata": {},
   "source": [
    "- Filtering rows that don't have matching frame and trial competitiveness"
   ]
  },
  {
   "cell_type": "code",
   "execution_count": null,
   "metadata": {},
   "outputs": [],
   "source": [
    "cluster_exploded_TRIALS_AND_SPECTRAL_DF[\"competitiveness_label\"].unique()"
   ]
  },
  {
   "cell_type": "code",
   "execution_count": null,
   "metadata": {},
   "outputs": [],
   "source": [
    "cluster_exploded_TRIALS_AND_SPECTRAL_DF[\"competition_closeness\"].unique()"
   ]
  },
  {
   "cell_type": "code",
   "execution_count": null,
   "metadata": {},
   "outputs": [],
   "source": [
    "cluster_exploded_TRIALS_AND_SPECTRAL_DF.shape"
   ]
  },
  {
   "cell_type": "code",
   "execution_count": 258,
   "metadata": {},
   "outputs": [],
   "source": [
    "cluster_exploded_TRIALS_AND_SPECTRAL_DF = cluster_exploded_TRIALS_AND_SPECTRAL_DF[cluster_exploded_TRIALS_AND_SPECTRAL_DF[\"competition_closeness\"] == cluster_exploded_TRIALS_AND_SPECTRAL_DF[\"competitiveness_label\"]].reset_index(drop=True)"
   ]
  },
  {
   "cell_type": "code",
   "execution_count": null,
   "metadata": {},
   "outputs": [],
   "source": [
    "cluster_exploded_TRIALS_AND_SPECTRAL_DF.shape"
   ]
  },
  {
   "cell_type": "markdown",
   "metadata": {},
   "source": [
    "- Combining the competitiveness and the trial outcome labels"
   ]
  },
  {
   "cell_type": "code",
   "execution_count": 260,
   "metadata": {},
   "outputs": [],
   "source": [
    "cluster_exploded_TRIALS_AND_SPECTRAL_DF[\"trial_and_competitiveness_label\"] = cluster_exploded_TRIALS_AND_SPECTRAL_DF.apply(lambda x: \"_\".join([x[\"trial_label\"], x[\"competitiveness_label\"]]) if  x[\"trial_label\"] != x[\"competitiveness_label\"] else x[\"trial_label\"], axis=1)"
   ]
  },
  {
   "cell_type": "code",
   "execution_count": null,
   "metadata": {},
   "outputs": [],
   "source": [
    "cluster_exploded_TRIALS_AND_SPECTRAL_DF[\"trial_and_competitiveness_label\"].unique()"
   ]
  },
  {
   "cell_type": "markdown",
   "metadata": {},
   "source": [
    "- Making a new column that is the range of frames"
   ]
  },
  {
   "cell_type": "code",
   "execution_count": 262,
   "metadata": {},
   "outputs": [],
   "source": [
    "cluster_exploded_TRIALS_AND_SPECTRAL_DF[\"competitiveness_frame_ranges\"] = cluster_exploded_TRIALS_AND_SPECTRAL_DF[\"competitiveness_frame_ranges_dict\"].apply(lambda x: x[1])"
   ]
  },
  {
   "cell_type": "code",
   "execution_count": null,
   "metadata": {},
   "outputs": [],
   "source": [
    "cluster_exploded_TRIALS_AND_SPECTRAL_DF[\"competitiveness_frame_ranges\"].head()"
   ]
  },
  {
   "cell_type": "code",
   "execution_count": null,
   "metadata": {},
   "outputs": [],
   "source": [
    "cluster_exploded_TRIALS_AND_SPECTRAL_DF[cluster_exploded_TRIALS_AND_SPECTRAL_DF[\"trial_label\"] != \"rewarded\"][\"competitiveness_frame_ranges\"].head()"
   ]
  },
  {
   "cell_type": "markdown",
   "metadata": {},
   "source": [
    "- Filtering for ranges that are only during the trial"
   ]
  },
  {
   "cell_type": "code",
   "execution_count": null,
   "metadata": {},
   "outputs": [],
   "source": [
    "def adjust_frame_range(frame_range, event_range):\n",
    "    \"\"\"\n",
    "    Adjusts the frame range based on the event range.\n",
    "\n",
    "    Parameters:\n",
    "        frame_range (tuple): The tuple representing the start and end of the frame range.\n",
    "        event_range (tuple): The tuple representing the start and end of the event range.\n",
    "\n",
    "    Returns:\n",
    "        tuple or None: Adjusted frame range or None if there's no overlap.\n",
    "    \"\"\"\n",
    "    # Unpack the ranges\n",
    "    frame_start, frame_end = frame_range\n",
    "    event_start, event_end = event_range\n",
    "\n",
    "    # Check for overlap\n",
    "    if frame_end < event_start or frame_start > event_end:\n",
    "        return None  # No overlap\n",
    "\n",
    "    # Adjust the start and end of the frame range\n",
    "    adjusted_start = max(frame_start, event_start)\n",
    "    adjusted_end = min(frame_end, event_end)\n",
    "\n",
    "    return (adjusted_start, adjusted_end)\n",
    "\n",
    "# Example Usage:\n",
    "frame_range = (10, 20)\n",
    "event_range = (15, 25)\n",
    "result = adjust_frame_range(frame_range, event_range)\n",
    "print(result)  # Output will be (15, 20)\n"
   ]
  },
  {
   "cell_type": "code",
   "execution_count": null,
   "metadata": {},
   "outputs": [],
   "source": [
    "cluster_exploded_TRIALS_AND_SPECTRAL_DF[\"tone_start_frame\"]"
   ]
  },
  {
   "cell_type": "code",
   "execution_count": null,
   "metadata": {},
   "outputs": [],
   "source": [
    "cluster_exploded_TRIALS_AND_SPECTRAL_DF[\"tone_stop_frame\"]"
   ]
  },
  {
   "cell_type": "code",
   "execution_count": 268,
   "metadata": {},
   "outputs": [],
   "source": [
    "cluster_exploded_TRIALS_AND_SPECTRAL_DF[\"competitiveness_frame_ranges\"] = cluster_exploded_TRIALS_AND_SPECTRAL_DF.apply(lambda x: [adjust_frame_range((start, stop), (x[\"tone_start_frame\"], x[\"tone_stop_frame\"])) for start, stop in x[\"competitiveness_frame_ranges\"] if adjust_frame_range((start, stop), (x[\"tone_start_frame\"], x[\"tone_stop_frame\"]))], axis=1)"
   ]
  },
  {
   "cell_type": "markdown",
   "metadata": {},
   "source": [
    "- Filtering for rows that have at least one consecutive second"
   ]
  },
  {
   "cell_type": "code",
   "execution_count": 269,
   "metadata": {},
   "outputs": [],
   "source": [
    "cluster_exploded_TRIALS_AND_SPECTRAL_DF = cluster_exploded_TRIALS_AND_SPECTRAL_DF[cluster_exploded_TRIALS_AND_SPECTRAL_DF[\"competitiveness_frame_ranges\"].apply(lambda x: len(x) >= 1)]"
   ]
  },
  {
   "cell_type": "markdown",
   "metadata": {},
   "source": [
    "- Filtering for ranges that are 1 second consecutive"
   ]
  },
  {
   "cell_type": "code",
   "execution_count": 270,
   "metadata": {},
   "outputs": [],
   "source": [
    "cluster_exploded_TRIALS_AND_SPECTRAL_DF[\"competitiveness_frame_ranges\"] = cluster_exploded_TRIALS_AND_SPECTRAL_DF[\"competitiveness_frame_ranges\"].apply(lambda x: [(start, stop) for start, stop in x if stop - start >= 20])"
   ]
  },
  {
   "cell_type": "markdown",
   "metadata": {},
   "source": [
    "- Calculating the total number of frames for each trial"
   ]
  },
  {
   "cell_type": "code",
   "execution_count": 271,
   "metadata": {},
   "outputs": [],
   "source": [
    "cluster_exploded_TRIALS_AND_SPECTRAL_DF[\"frame_ranges_sum_frames\"] = cluster_exploded_TRIALS_AND_SPECTRAL_DF[\"competitiveness_frame_ranges\"].apply(lambda x: sum([stop - start for start, stop in x]))"
   ]
  },
  {
   "cell_type": "code",
   "execution_count": null,
   "metadata": {},
   "outputs": [],
   "source": [
    "cluster_exploded_TRIALS_AND_SPECTRAL_DF[\"frame_ranges_sum_frames\"]"
   ]
  },
  {
   "cell_type": "markdown",
   "metadata": {},
   "source": [
    "- Filtering for rows where at least half the frames are there"
   ]
  },
  {
   "cell_type": "code",
   "execution_count": 273,
   "metadata": {},
   "outputs": [],
   "source": [
    "cluster_exploded_TRIALS_AND_SPECTRAL_DF = cluster_exploded_TRIALS_AND_SPECTRAL_DF[cluster_exploded_TRIALS_AND_SPECTRAL_DF[\"frame_ranges_sum_frames\"] >= 100]"
   ]
  },
  {
   "cell_type": "code",
   "execution_count": null,
   "metadata": {},
   "outputs": [],
   "source": [
    "cluster_exploded_TRIALS_AND_SPECTRAL_DF[\"competitiveness_frame_ranges\"]"
   ]
  },
  {
   "cell_type": "markdown",
   "metadata": {},
   "source": [
    "- Filtering for rows that have at least one consecutive second"
   ]
  },
  {
   "cell_type": "code",
   "execution_count": 275,
   "metadata": {},
   "outputs": [],
   "source": [
    "cluster_exploded_TRIALS_AND_SPECTRAL_DF = cluster_exploded_TRIALS_AND_SPECTRAL_DF[cluster_exploded_TRIALS_AND_SPECTRAL_DF[\"competitiveness_frame_ranges\"].apply(lambda x: len(x) >= 1)]"
   ]
  },
  {
   "cell_type": "code",
   "execution_count": null,
   "metadata": {},
   "outputs": [],
   "source": [
    "cluster_exploded_TRIALS_AND_SPECTRAL_DF[\"competitiveness_frame_ranges\"]"
   ]
  },
  {
   "cell_type": "code",
   "execution_count": null,
   "metadata": {},
   "outputs": [],
   "source": [
    "for col in cluster_exploded_TRIALS_AND_SPECTRAL_DF.columns:\n",
    "    print(col)"
   ]
  },
  {
   "cell_type": "code",
   "execution_count": null,
   "metadata": {},
   "outputs": [],
   "source": []
  },
  {
   "cell_type": "markdown",
   "metadata": {},
   "source": [
    "## Adding the velocity"
   ]
  },
  {
   "cell_type": "code",
   "execution_count": 278,
   "metadata": {},
   "outputs": [],
   "source": [
    "alone_trials_df = pd.read_pickle(\"../2024_06_26_sleap_clustering/proc/alone_trials_sleap.pkl\")"
   ]
  },
  {
   "cell_type": "code",
   "execution_count": null,
   "metadata": {},
   "outputs": [],
   "source": [
    "alone_trials_df.columns"
   ]
  },
  {
   "cell_type": "code",
   "execution_count": null,
   "metadata": {},
   "outputs": [],
   "source": [
    "alone_trials_df[\"subject_thorax_velocity\"].apply(lambda x: x.shape)"
   ]
  },
  {
   "cell_type": "code",
   "execution_count": 281,
   "metadata": {},
   "outputs": [],
   "source": [
    "alone_trials_df[\"trial_subject_thorax_velocity\"] = alone_trials_df[\"subject_thorax_velocity\"].apply(lambda x: x[199:399])"
   ]
  },
  {
   "cell_type": "code",
   "execution_count": 282,
   "metadata": {},
   "outputs": [],
   "source": [
    "alone_trials_df[\"trial_frame_index\"] = alone_trials_df[\"frame_index\"].apply(lambda x: x[199:399])"
   ]
  },
  {
   "cell_type": "code",
   "execution_count": 283,
   "metadata": {},
   "outputs": [],
   "source": [
    "alone_trial_to_velocity = {(row['session_dir'], row['current_subject'], row['tone_start_timestamp']): row['trial_subject_thorax_velocity'] for index, row in alone_trials_df.iterrows()}"
   ]
  },
  {
   "cell_type": "code",
   "execution_count": 284,
   "metadata": {},
   "outputs": [],
   "source": [
    "alone_trial_to_frame_index = {(row['session_dir'], row['current_subject'], row['tone_start_timestamp']): row['trial_frame_index'] for index, row in alone_trials_df.iterrows()}"
   ]
  },
  {
   "cell_type": "code",
   "execution_count": 285,
   "metadata": {},
   "outputs": [],
   "source": [
    "cluster_exploded_TRIALS_AND_SPECTRAL_DF[\"trial_subject_thorax_velocity\"] = cluster_exploded_TRIALS_AND_SPECTRAL_DF.apply(lambda row: alone_trial_to_velocity[(row['session_dir'], row['current_subject'], row['tone_start_timestamp'])] if (row['session_dir'], row['current_subject'], row['tone_start_timestamp']) in alone_trial_to_velocity else row[\"trial_subject_thorax_velocity\"], axis=1)"
   ]
  },
  {
   "cell_type": "code",
   "execution_count": 286,
   "metadata": {},
   "outputs": [],
   "source": [
    "cluster_exploded_TRIALS_AND_SPECTRAL_DF[\"trial_frame_index\"] = cluster_exploded_TRIALS_AND_SPECTRAL_DF.apply(lambda row: alone_trial_to_frame_index[(row['session_dir'], row['current_subject'], row['tone_start_timestamp'])] if (row['session_dir'], row['current_subject'], row['tone_start_timestamp']) in alone_trial_to_frame_index else row[\"trial_frame_index\"], axis=1)"
   ]
  },
  {
   "cell_type": "code",
   "execution_count": null,
   "metadata": {},
   "outputs": [],
   "source": [
    "cluster_exploded_TRIALS_AND_SPECTRAL_DF[\"trial_subject_thorax_velocity\"].iloc[:5].apply(lambda x: x.shape)"
   ]
  },
  {
   "cell_type": "code",
   "execution_count": null,
   "metadata": {},
   "outputs": [],
   "source": [
    "cluster_exploded_TRIALS_AND_SPECTRAL_DF[\"trial_frame_index\"].iloc[:5].apply(lambda x: x.shape)"
   ]
  },
  {
   "cell_type": "code",
   "execution_count": 289,
   "metadata": {},
   "outputs": [],
   "source": [
    "cluster_exploded_TRIALS_AND_SPECTRAL_DF[\"trial_video_timestamps\"] = cluster_exploded_TRIALS_AND_SPECTRAL_DF.apply(lambda x: x[\"video_timestamps\"][x[\"trial_frame_index\"]] if isinstance(pd.isna(x[\"trial_video_timestamps\"]), bool) else x[\"trial_video_timestamps\"], axis=1)"
   ]
  },
  {
   "cell_type": "markdown",
   "metadata": {},
   "source": [
    "- Getting the timestamps for each frame"
   ]
  },
  {
   "cell_type": "code",
   "execution_count": 290,
   "metadata": {},
   "outputs": [],
   "source": [
    "cluster_exploded_TRIALS_AND_SPECTRAL_DF[\"competitiveness_timestamp_ranges\"] = cluster_exploded_TRIALS_AND_SPECTRAL_DF.apply(lambda x: update_tuples_in_list(x[\"competitiveness_frame_ranges\"], x[\"video_timestamps\"]), axis=1)"
   ]
  },
  {
   "cell_type": "code",
   "execution_count": null,
   "metadata": {},
   "outputs": [],
   "source": [
    "cluster_exploded_TRIALS_AND_SPECTRAL_DF[cluster_exploded_TRIALS_AND_SPECTRAL_DF[\"trial_label\"] != \"rewarded\"][\"competitiveness_timestamp_ranges\"]"
   ]
  },
  {
   "cell_type": "code",
   "execution_count": null,
   "metadata": {},
   "outputs": [],
   "source": [
    "cluster_exploded_TRIALS_AND_SPECTRAL_DF[\"competitiveness_timestamp_ranges\"]"
   ]
  },
  {
   "cell_type": "markdown",
   "metadata": {},
   "source": [
    "- Getting all the spectral timestamps that are in the ranges"
   ]
  },
  {
   "cell_type": "code",
   "execution_count": 293,
   "metadata": {
    "tags": []
   },
   "outputs": [],
   "source": [
    "# timestamps_col = [col for col in cluster_exploded_TRIALS_AND_SPECTRAL_DF.columns if \"timestamps\" in col and \"video\" not in col and \"trial\" in col]\n",
    "timestamps_col = [col for col in cluster_exploded_TRIALS_AND_SPECTRAL_DF.columns if \"timestamps\" in col and \"trial\" in col]"
   ]
  },
  {
   "cell_type": "code",
   "execution_count": null,
   "metadata": {
    "tags": []
   },
   "outputs": [],
   "source": [
    "timestamps_col"
   ]
  },
  {
   "cell_type": "markdown",
   "metadata": {},
   "source": [
    "- Getting all the indexes that fit within each range"
   ]
  },
  {
   "cell_type": "code",
   "execution_count": null,
   "metadata": {},
   "outputs": [],
   "source": []
  },
  {
   "cell_type": "code",
   "execution_count": null,
   "metadata": {},
   "outputs": [],
   "source": [
    "cluster_exploded_TRIALS_AND_SPECTRAL_DF[\"trial_lfp_timestamps\"]"
   ]
  },
  {
   "cell_type": "code",
   "execution_count": null,
   "metadata": {
    "tags": []
   },
   "outputs": [],
   "source": [
    "for col in timestamps_col:\n",
    "    base_col = col.replace(\"trial_\", \"\").replace(\"timestamps\", \"index\")\n",
    "    print(base_col)\n",
    "    cluster_exploded_TRIALS_AND_SPECTRAL_DF[\"cluster_filtered_{}\".format(base_col)] = cluster_exploded_TRIALS_AND_SPECTRAL_DF.apply(lambda x: find_indices_within_ranges(x[\"competitiveness_timestamp_ranges\"], x[col]), axis=1)"
   ]
  },
  {
   "cell_type": "code",
   "execution_count": null,
   "metadata": {},
   "outputs": [],
   "source": [
    "cluster_exploded_TRIALS_AND_SPECTRAL_DF[\"trial_mPFC_theta_band\"].iloc[0].shape"
   ]
  },
  {
   "cell_type": "code",
   "execution_count": null,
   "metadata": {},
   "outputs": [],
   "source": [
    "cluster_exploded_TRIALS_AND_SPECTRAL_DF[\"cluster_filtered_{}\".format(base_col)].iloc[0][:10]"
   ]
  },
  {
   "cell_type": "code",
   "execution_count": null,
   "metadata": {},
   "outputs": [],
   "source": [
    "cluster_exploded_TRIALS_AND_SPECTRAL_DF[\"cluster_filtered_{}\".format(base_col)].iloc[0][-10:]"
   ]
  },
  {
   "cell_type": "code",
   "execution_count": null,
   "metadata": {},
   "outputs": [],
   "source": [
    "cluster_exploded_TRIALS_AND_SPECTRAL_DF.head()"
   ]
  },
  {
   "cell_type": "code",
   "execution_count": null,
   "metadata": {},
   "outputs": [],
   "source": [
    "cluster_exploded_TRIALS_AND_SPECTRAL_DF.tail()"
   ]
  },
  {
   "cell_type": "code",
   "execution_count": null,
   "metadata": {},
   "outputs": [],
   "source": [
    "cluster_exploded_TRIALS_AND_SPECTRAL_DF[~cluster_exploded_TRIALS_AND_SPECTRAL_DF[\"video_name\"].apply(lambda x: \".2\" in x)]"
   ]
  },
  {
   "cell_type": "code",
   "execution_count": 111,
   "metadata": {},
   "outputs": [],
   "source": [
    "# cluster_exploded_TRIALS_AND_SPECTRAL_DF = cluster_exploded_TRIALS_AND_SPECTRAL_DF[~cluster_exploded_TRIALS_AND_SPECTRAL_DF[\"video_name\"].apply(lambda x: \".2\" in x)]\n",
    "# cluster_exploded_TRIALS_AND_SPECTRAL_DF = \n",
    "cluster_exploded_TRIALS_AND_SPECTRAL_DF = cluster_exploded_TRIALS_AND_SPECTRAL_DF[~cluster_exploded_TRIALS_AND_SPECTRAL_DF.apply(lambda x: (\".2\" in x[\"video_name\"]) and (x[\"condition\"] != \"rewarded\"), axis=1)]"
   ]
  },
  {
   "cell_type": "code",
   "execution_count": null,
   "metadata": {},
   "outputs": [],
   "source": [
    "cluster_exploded_TRIALS_AND_SPECTRAL_DF.groupby([\"video_name\", \"competitiveness_label\", \"current_subject\"]).count().tail(n=25)"
   ]
  },
  {
   "cell_type": "code",
   "execution_count": null,
   "metadata": {},
   "outputs": [],
   "source": [
    "cluster_exploded_TRIALS_AND_SPECTRAL_DF[\"trial_and_competitiveness_label\"].shape"
   ]
  },
  {
   "cell_type": "code",
   "execution_count": 114,
   "metadata": {},
   "outputs": [],
   "source": [
    "cluster_exploded_TRIALS_AND_SPECTRAL_DF = cluster_exploded_TRIALS_AND_SPECTRAL_DF[~cluster_exploded_TRIALS_AND_SPECTRAL_DF[\"trial_and_competitiveness_label\"].apply(lambda x: \"temp\" in x)]"
   ]
  },
  {
   "cell_type": "markdown",
   "metadata": {},
   "source": [
    "- Filtering for rows where the subject is correct for the rewarded trials"
   ]
  },
  {
   "cell_type": "code",
   "execution_count": 115,
   "metadata": {},
   "outputs": [],
   "source": [
    "START_STOP_FRAME_DF = pd.read_excel(\"../2024_06_26_sleap_clustering/data/rce_pilot_3_alone_comp_alone_trials_start_stop_video_frame.xlsx\")"
   ]
  },
  {
   "cell_type": "code",
   "execution_count": 116,
   "metadata": {},
   "outputs": [],
   "source": [
    "START_STOP_FRAME_DF[\"video_name\"] = START_STOP_FRAME_DF[\"file_path\"].apply(lambda x: \".\".join(os.path.basename(x).split(\".\")[:2]))\n"
   ]
  },
  {
   "cell_type": "code",
   "execution_count": 117,
   "metadata": {},
   "outputs": [],
   "source": [
    "START_STOP_FRAME_DF[\"current_subject\"] = START_STOP_FRAME_DF[\"tracked_subject\"].astype(str)"
   ]
  },
  {
   "cell_type": "code",
   "execution_count": 118,
   "metadata": {},
   "outputs": [],
   "source": [
    "video_to_current_subject = cluster_exploded_TRIALS_AND_SPECTRAL_DF.drop_duplicates([\"video_name\", \"current_subject\"])[[\"video_name\", \"current_subject\"]].copy()"
   ]
  },
  {
   "cell_type": "code",
   "execution_count": 119,
   "metadata": {},
   "outputs": [],
   "source": [
    "alone_video_to_subject = pd.merge(video_to_current_subject, START_STOP_FRAME_DF, on=[\"video_name\", \"current_subject\"])[[\"video_name\", \"current_subject\"]]"
   ]
  },
  {
   "cell_type": "code",
   "execution_count": null,
   "metadata": {},
   "outputs": [],
   "source": [
    "alone_video_to_subject"
   ]
  },
  {
   "cell_type": "code",
   "execution_count": null,
   "metadata": {},
   "outputs": [],
   "source": [
    "video_to_current_subject[video_to_current_subject[\"video_name\"].str.contains(\"long\")]"
   ]
  },
  {
   "cell_type": "code",
   "execution_count": 122,
   "metadata": {},
   "outputs": [],
   "source": [
    "video_to_current_subject = pd.concat([alone_video_to_subject, video_to_current_subject[video_to_current_subject[\"video_name\"].str.contains(\"long\")]])"
   ]
  },
  {
   "cell_type": "code",
   "execution_count": null,
   "metadata": {},
   "outputs": [],
   "source": [
    "video_to_current_subject"
   ]
  },
  {
   "cell_type": "code",
   "execution_count": 124,
   "metadata": {},
   "outputs": [],
   "source": [
    "list_of_tuples = list(zip(video_to_current_subject['video_name'], video_to_current_subject['current_subject']))"
   ]
  },
  {
   "cell_type": "code",
   "execution_count": 125,
   "metadata": {},
   "outputs": [],
   "source": [
    "cluster_exploded_TRIALS_AND_SPECTRAL_DF = cluster_exploded_TRIALS_AND_SPECTRAL_DF[(cluster_exploded_TRIALS_AND_SPECTRAL_DF[\"condition\"] != \"rewarded\") | (cluster_exploded_TRIALS_AND_SPECTRAL_DF.apply(lambda x: (x['video_name'], x['current_subject']) in list_of_tuples, axis=1))]"
   ]
  },
  {
   "cell_type": "markdown",
   "metadata": {},
   "source": [
    "# Filtering for power"
   ]
  },
  {
   "cell_type": "code",
   "execution_count": 126,
   "metadata": {
    "tags": []
   },
   "outputs": [],
   "source": [
    "cluster_exploded_TRIALS_AND_SPECTRAL_DF = cluster_exploded_TRIALS_AND_SPECTRAL_DF[cluster_exploded_TRIALS_AND_SPECTRAL_DF[\"cluster_filtered_power_index\"].apply(lambda x: len(x)) >= 1] "
   ]
  },
  {
   "cell_type": "code",
   "execution_count": null,
   "metadata": {},
   "outputs": [],
   "source": [
    "list(cluster_exploded_TRIALS_AND_SPECTRAL_DF.columns)"
   ]
  },
  {
   "cell_type": "code",
   "execution_count": 128,
   "metadata": {},
   "outputs": [],
   "source": [
    "power_columns = [col for col in cluster_exploded_TRIALS_AND_SPECTRAL_DF if \"trial\" in col and (\"power\" in col or \"granger\" in col or \"coherence\" in col or \"trial_subject_thorax_velocity\" in col) and \"agent\" not in col]"
   ]
  },
  {
   "cell_type": "code",
   "execution_count": null,
   "metadata": {},
   "outputs": [],
   "source": [
    "power_columns"
   ]
  },
  {
   "cell_type": "markdown",
   "metadata": {},
   "source": [
    "- Getting the timestamps of all the clusters"
   ]
  },
  {
   "cell_type": "code",
   "execution_count": null,
   "metadata": {
    "tags": []
   },
   "outputs": [],
   "source": [
    "for col in power_columns:\n",
    "    print(col)\n",
    "    cluster_exploded_TRIALS_AND_SPECTRAL_DF[\"cluster_all_{}\".format(col)] = cluster_exploded_TRIALS_AND_SPECTRAL_DF.apply(lambda x: x[col][x[\"cluster_filtered_power_index\"]], axis=1)"
   ]
  },
  {
   "cell_type": "code",
   "execution_count": 131,
   "metadata": {
    "tags": []
   },
   "outputs": [],
   "source": [
    "cluster_all_columns = [col for col in cluster_exploded_TRIALS_AND_SPECTRAL_DF if \"cluster_all\" in col]"
   ]
  },
  {
   "cell_type": "code",
   "execution_count": null,
   "metadata": {
    "tags": []
   },
   "outputs": [],
   "source": [
    "cluster_all_columns"
   ]
  },
  {
   "cell_type": "markdown",
   "metadata": {},
   "source": [
    "- Aggregating all the values within a given trial"
   ]
  },
  {
   "cell_type": "code",
   "execution_count": null,
   "metadata": {
    "tags": []
   },
   "outputs": [],
   "source": [
    "for col in cluster_all_columns:\n",
    "    updated_column = col.replace(\"cluster_all\", \"cluster_mean\")\n",
    "    if \"gamma\" in col or \"theta\" in col:\n",
    "        cluster_exploded_TRIALS_AND_SPECTRAL_DF[updated_column] = cluster_exploded_TRIALS_AND_SPECTRAL_DF.apply(lambda x: np.nanmean(x[col]), axis=1)\n",
    "    else:\n",
    "        cluster_exploded_TRIALS_AND_SPECTRAL_DF[updated_column] = cluster_exploded_TRIALS_AND_SPECTRAL_DF.apply(lambda x: np.nanmean(x[col], axis=0), axis=1)\n",
    "    print(updated_column)\n",
    "    print(cluster_exploded_TRIALS_AND_SPECTRAL_DF[updated_column].iloc[0])\n",
    "        "
   ]
  },
  {
   "cell_type": "code",
   "execution_count": 134,
   "metadata": {
    "tags": []
   },
   "outputs": [],
   "source": [
    "cluster_mean_columns = [col for col in cluster_exploded_TRIALS_AND_SPECTRAL_DF if \"cluster_mean\" in col and \"all_frequencies_all_windows\" in col]"
   ]
  },
  {
   "cell_type": "code",
   "execution_count": null,
   "metadata": {
    "tags": []
   },
   "outputs": [],
   "source": [
    "cluster_mean_columns"
   ]
  },
  {
   "cell_type": "code",
   "execution_count": null,
   "metadata": {},
   "outputs": [],
   "source": [
    "cluster_exploded_TRIALS_AND_SPECTRAL_DF"
   ]
  },
  {
   "cell_type": "code",
   "execution_count": null,
   "metadata": {},
   "outputs": [],
   "source": [
    "low_freq = 0\n",
    "high_freq = 51\n",
    "current_frequencies = range(low_freq, high_freq)\n",
    "\n",
    "# Iterating through each brain region\n",
    "for col in cluster_mean_columns:\n",
    "    if \"velocity\" in col:\n",
    "        continue\n",
    "    if \"all_frequencies\" not in col:\n",
    "        continue\n",
    "    print(col)\n",
    "\n",
    "    fig, ax = plt.subplots()\n",
    "    plt.xlim(low_freq, high_freq-1) \n",
    "    plt.xticks(np.arange(low_freq, high_freq, 5))\n",
    "\n",
    "    stacked_df = cluster_exploded_TRIALS_AND_SPECTRAL_DF.groupby(\"trial_and_competitiveness_label\").agg({col: stack_arrays})\n",
    "    stacked_df = stacked_df.reset_index()\n",
    "    stacked_df = stacked_df[~stacked_df[\"trial_and_competitiveness_label\"].str.contains(\"tie\")]\n",
    "\n",
    "    stacked_df[\"color\"] = stacked_df[\"trial_and_competitiveness_label\"].map(comp_id_to_color)\n",
    "    \n",
    "    if \"power\" in col:\n",
    "        # plt.ylim(0,0.01)\n",
    "        # plt.yscale(\"log\")\n",
    "        plt.ylim((10**-3.2,10**-1.2))\n",
    "        # plt.set_ylim(auto=True)\n",
    "        # plt.ylim(0, 0.5)\n",
    "        ax.set_yscale('log')\n",
    "        # plt.ylim(0, max_value)\n",
    "    elif \"coherence\" in col:\n",
    "        plt.ylim(0.3, 0.85)\n",
    "        plt.yticks(np.arange(0.3, 0.85, 0.1)) \n",
    "    elif \"granger\" in col:\n",
    "        plt.ylim(0.2, 0.8)\n",
    "        plt.yticks(np.arange(0.2, 0.85, 0.1)) \n",
    "    else:\n",
    "        # pass\n",
    "        plt.ylim()\n",
    "    \n",
    "    # Iterating through each trial type\n",
    "    for index, row in stacked_df.iterrows():\n",
    "        print(row[\"trial_and_competitiveness_label\"])\n",
    "        print(row[col].shape)\n",
    "        #### DURING TRIAL ####\n",
    "        mean_power = np.nanmean(row[col], axis=0)[low_freq: high_freq]\n",
    "        \n",
    "        sem_power = np.nanstd(row[col], axis=0) / np.sqrt(row[col].shape[0])\n",
    "        sem_power = sem_power[low_freq: high_freq]\n",
    "        print(sem_power)\n",
    "\n",
    "        plt.fill_between(current_frequencies, \n",
    "        mean_power - sem_power, mean_power + sem_power, \\\n",
    "        alpha=0.3, color=row[\"color\"])\n",
    "\n",
    "        plt.plot(current_frequencies, mean_power, \\\n",
    "        label=\"{}\".format(row[\"trial_and_competitiveness_label\"]), linewidth=3, color=row[\"color\"])\n",
    "    \n",
    "    if \"granger\" in col:\n",
    "        title = \"{}\".format(col.replace(\"cluster_mean_trial_\", \"\").replace(\"cluster_mean_trial_and_post_\", \"\").replace(\"RMS_filtered_\", \"\").replace(\"all_frequencies_all_windows\", \"\").replace(\"power\", \"\").replace(\"granger\", \"\")).replace(\"coherence\", \"\").replace(\"_\", \" \").replace(\"  \", \" \").strip().replace(\" \", \" to \").strip()\n",
    "    else:\n",
    "        title = \"{}\".format(col.replace(\"cluster_mean_trial_\", \"\").replace(\"cluster_mean_trial_and_post_\", \"\").replace(\"RMS_filtered_\", \"\").replace(\"all_frequencies_all_windows\", \"\").replace(\"power\", \"\").replace(\"granger\", \"\")).replace(\"coherence\", \"\").replace(\"_\", \" \").replace(\"  \", \" \").strip()\n",
    "\n",
    "    plt.title(title)\n",
    "    plt.xlabel(\"Frequency (Hz)\", fontsize=25)\n",
    "    \n",
    "    if \"power\" in col:\n",
    "        # plt.ylabel(\"Normalized Power (a.u.)\")\n",
    "        output_dir = \"./proc/cluster_spectra_plots/power\"\n",
    "\n",
    "    elif \"coherence\" in col:\n",
    "        # plt.ylabel(\"Coherence\")\n",
    "        output_dir = \"./proc/cluster_spectra_plots/coherence\"\n",
    "\n",
    "    elif \"granger\" in col:\n",
    "        # plt.ylabel(\"Granger's Causality\")\n",
    "        output_dir = \"./proc/cluster_spectra_plots/granger\"\n",
    "    \n",
    "    os.makedirs(output_dir, exist_ok=True)\n",
    "\n",
    "    # plt.legend(fontsize=10)\n",
    "    \n",
    "    # Hide top and right borders\n",
    "    ax.spines['top'].set_visible(False)\n",
    "    ax.spines['right'].set_visible(False)\n",
    "\n",
    "    # Leave bottom and left spines\n",
    "    ax.spines['bottom'].set_visible(True)\n",
    "    ax.spines['left'].set_visible(True)\n",
    "    ax.spines['bottom'].set_linewidth(4)\n",
    "    ax.spines['left'].set_linewidth(4)\n",
    "\n",
    "    ax.tick_params(length=8, width=4)\n",
    "    plt.yticks(fontsize=25)\n",
    "    plt.xticks(fontsize=25)\n",
    "\n",
    "    plt.tight_layout()    \n",
    "    plt.savefig(os.path.join(output_dir, \"cluster_{}.png\".format(col.replace(\"cluster_mean_trial_and_post_\", \"\").replace(\"RMS_filtered_\", \"\").replace(\"all_frequencies_all_windows\", \"\").strip(\"_\").strip())), transparent=True)\n",
    "    plt.show()\n"
   ]
  },
  {
   "cell_type": "code",
   "execution_count": 138,
   "metadata": {},
   "outputs": [],
   "source": [
    "cluster_exploded_TRIALS_AND_SPECTRAL_DF.to_pickle(\"./proc/cluster_exploded_TRIALS_AND_SPECTRAL_DF.pkl\")"
   ]
  },
  {
   "cell_type": "code",
   "execution_count": 139,
   "metadata": {},
   "outputs": [],
   "source": [
    "export_cluster_exploded_TRIALS_AND_SPECTRAL_DF = cluster_exploded_TRIALS_AND_SPECTRAL_DF.copy()"
   ]
  },
  {
   "cell_type": "code",
   "execution_count": null,
   "metadata": {},
   "outputs": [],
   "source": [
    "plt.hist(export_cluster_exploded_TRIALS_AND_SPECTRAL_DF[\"cluster_mean_trial_subject_thorax_velocity\"])"
   ]
  },
  {
   "cell_type": "code",
   "execution_count": 141,
   "metadata": {},
   "outputs": [],
   "source": [
    "export_cluster_exploded_TRIALS_AND_SPECTRAL_DF[\"velocity_zscore\"] = stats.zscore(export_cluster_exploded_TRIALS_AND_SPECTRAL_DF[\"cluster_mean_trial_subject_thorax_velocity\"])"
   ]
  },
  {
   "cell_type": "code",
   "execution_count": 142,
   "metadata": {},
   "outputs": [],
   "source": [
    "export_cluster_exploded_TRIALS_AND_SPECTRAL_DF = export_cluster_exploded_TRIALS_AND_SPECTRAL_DF[export_cluster_exploded_TRIALS_AND_SPECTRAL_DF[\"velocity_zscore\"] <= 2]"
   ]
  },
  {
   "cell_type": "code",
   "execution_count": null,
   "metadata": {},
   "outputs": [],
   "source": [
    "plt.hist(export_cluster_exploded_TRIALS_AND_SPECTRAL_DF[\"cluster_mean_trial_subject_thorax_velocity\"])"
   ]
  },
  {
   "cell_type": "code",
   "execution_count": null,
   "metadata": {},
   "outputs": [],
   "source": [
    "export_cluster_exploded_TRIALS_AND_SPECTRAL_DF"
   ]
  },
  {
   "cell_type": "code",
   "execution_count": null,
   "metadata": {},
   "outputs": [],
   "source": [
    "for col in export_cluster_exploded_TRIALS_AND_SPECTRAL_DF.columns:\n",
    "    print(col)"
   ]
  },
  {
   "cell_type": "code",
   "execution_count": 146,
   "metadata": {},
   "outputs": [],
   "source": [
    "export_cluster_exploded_TRIALS_AND_SPECTRAL_DF = export_cluster_exploded_TRIALS_AND_SPECTRAL_DF.reset_index().rename({\"index\": \"index_num\"})"
   ]
  },
  {
   "cell_type": "code",
   "execution_count": 147,
   "metadata": {},
   "outputs": [],
   "source": [
    "export_cluster_exploded_TRIALS_AND_SPECTRAL_DF = export_cluster_exploded_TRIALS_AND_SPECTRAL_DF[[col for col in export_cluster_exploded_TRIALS_AND_SPECTRAL_DF if (\"cluster_mean_trial\" in col and \"all_frequencies\" not in col) or (col in [\"trial_and_competitiveness_label\", \"current_subject\", \"index_num\"])]]"
   ]
  },
  {
   "cell_type": "code",
   "execution_count": 148,
   "metadata": {},
   "outputs": [],
   "source": [
    "export_cluster_exploded_TRIALS_AND_SPECTRAL_DF.to_csv(\"./proc/export_cluster_exploded_TRIALS_AND_SPECTRAL_DF.csv\")"
   ]
  },
  {
   "cell_type": "code",
   "execution_count": null,
   "metadata": {},
   "outputs": [],
   "source": [
    "export_cluster_exploded_TRIALS_AND_SPECTRAL_DF[[\"trial_and_competitiveness_label\", \"cluster_mean_trial_subject_thorax_velocity\"]].groupby([\"trial_and_competitiveness_label\"]).mean()"
   ]
  },
  {
   "cell_type": "code",
   "execution_count": 150,
   "metadata": {},
   "outputs": [],
   "source": [
    "import seaborn as sns\n"
   ]
  },
  {
   "cell_type": "markdown",
   "metadata": {},
   "source": [
    "## Plotting"
   ]
  },
  {
   "cell_type": "code",
   "execution_count": null,
   "metadata": {},
   "outputs": [],
   "source": [
    "export_cluster_exploded_TRIALS_AND_SPECTRAL_DF[\"trial_and_competitiveness_label\"].unique()"
   ]
  },
  {
   "cell_type": "code",
   "execution_count": 152,
   "metadata": {},
   "outputs": [],
   "source": [
    "label_to_ticks = {'rewarded': \"alone\\nrewarded\", 'win_no_comp': \"win\\nnon-comp\", 'lose_no_comp': \"lose\\nnon-comp\", 'win_competitive': \"win\\ncomp\",\n",
    "       'lose_competitive': \"lose\\ncomp\"}"
   ]
  },
  {
   "cell_type": "code",
   "execution_count": 153,
   "metadata": {},
   "outputs": [],
   "source": [
    "export_cluster_exploded_TRIALS_AND_SPECTRAL_DF[\"bar_ticks\"] = export_cluster_exploded_TRIALS_AND_SPECTRAL_DF[\"trial_and_competitiveness_label\"].map(label_to_ticks)"
   ]
  },
  {
   "cell_type": "code",
   "execution_count": null,
   "metadata": {},
   "outputs": [],
   "source": [
    "col"
   ]
  },
  {
   "cell_type": "code",
   "execution_count": null,
   "metadata": {},
   "outputs": [],
   "source": [
    "for col in [col for col in export_cluster_exploded_TRIALS_AND_SPECTRAL_DF if (\"cluster_mean_trial\" in col and \"all_frequencies\" not in col)]:\n",
    "    print(col)\n",
    "    sns.set_style('white', {'axes.linewidth': 0.5})\n",
    "    plt.rcParams['xtick.major.size'] = 20\n",
    "    plt.rcParams['xtick.major.width'] = 4\n",
    "    plt.rcParams['xtick.bottom'] = True\n",
    "    plt.rcParams['ytick.left'] = True\n",
    "\n",
    "    # Plot the transition matrix using only matplotlib\n",
    "    fig, ax = plt.subplots(figsize=(6.4, 4.8))\n",
    "\n",
    "    ax = sns.violinplot(data=export_cluster_exploded_TRIALS_AND_SPECTRAL_DF.sort_values([\"trial_and_competitiveness_label\"]), x='bar_ticks', y=col, hue='trial_and_competitiveness_label',\n",
    "        palette=comp_id_to_color,\n",
    "                        inner=None, linewidth=0, saturation=1)\n",
    "    \n",
    "    sns.boxplot(x='bar_ticks', y=col, data=export_cluster_exploded_TRIALS_AND_SPECTRAL_DF.sort_values([\"trial_and_competitiveness_label\"]), color='white',            # hue='competitiveness_grouping',    palette=comp_to_color, \n",
    "                width=0.2,\n",
    "                # boxprops={'zorder': 2}, \n",
    "                ax=ax, fill=True, linecolor=\"black\", linewidth=2)\n",
    "\n",
    "    plt.legend([],[], frameon=False)\n",
    "\n",
    "        # Hide top and right borders\n",
    "    ax.spines['top'].set_visible(False)\n",
    "    ax.spines['right'].set_visible(False)\n",
    "\n",
    "    # Leave bottom and left spines\n",
    "    ax.spines['bottom'].set_visible(True)\n",
    "    ax.spines['left'].set_visible(True)\n",
    "    ax.spines['bottom'].set_linewidth(3)\n",
    "    ax.spines['left'].set_linewidth(3)\n",
    "\n",
    "    ax.tick_params(axis='both', which='major', labelsize=23, length=10, width=3, color='black')\n",
    "    ax.tick_params(axis='both', which='minor', labelsize=23, length=10, width=3, color='black')\n",
    "\n",
    "\n",
    "\n",
    "    if \"granger\" in col:\n",
    "        title = \"{}\".format(col.replace(\"cluster_mean_trial_\", \"\").replace(\"cluster_mean_trial_and_post_\", \"\").replace(\"RMS_filtered_\", \"\").replace(\"all_frequencies_all_windows\", \"\").replace(\"power\", \"\").replace(\"granger\", \"\")).replace(\"coherence\", \"\").replace(\"_\", \" \").replace(\"  \", \" \").strip().replace(\" \", \" to \").strip()\n",
    "    else:\n",
    "        title = \"{}\".format(col.replace(\"cluster_mean_trial_\", \"\").replace(\"cluster_mean_trial_and_post_\", \"\").replace(\"RMS_filtered_\", \"\").replace(\"all_frequencies_all_windows\", \"\").replace(\"power\", \"\").replace(\"granger\", \"\")).replace(\"coherence\", \"\").replace(\"_\", \" \").replace(\"  \", \" \").strip()\n",
    "\n",
    "    if \"coherence\" in col or \"granger\" in col:\n",
    "        plt.ylim(0, 1)\n",
    "\n",
    "    elif \"theta\" in col:\n",
    "        plt.ylim(0, 0.04)\n",
    "    elif \"gamma\" in col:\n",
    "        plt.ylim(0, 0.004)\n",
    "\n",
    "    if \"coherence\" in col:\n",
    "        plt.ylabel('Coherence', size=30)\n",
    "\n",
    "    elif \"granger\" in col:\n",
    "        plt.ylabel('Granger Causality', size=30)\n",
    "\n",
    "    elif \"power\" in col: \n",
    "        plt.ylabel('Normalized Power (a.u.)', size=30)\n",
    "    \n",
    "    plt.tick_params(\n",
    "        axis='x',          # changes apply to the x-axis\n",
    "        which='both',      # both major and minor ticks are affected\n",
    "        bottom=False,      # ticks along the bottom edge are off\n",
    "        top=False,         # ticks along the top edge are off\n",
    "        labelbottom=False) # labels along the bottom edge are off\n",
    "\n",
    "    plt.xticks(rotation=90)\n",
    "    plt.title(title.replace(\"theta\", \"Theta\").replace(\"gamma\", \"Gamma\"))\n",
    "    plt.tight_layout()\n",
    "    # plt.savefig(\"./proc/spectra_bar/{}_bar.png\".format(col.replace(\"cluster_mean_trial_\", \"\")))\n",
    "    plt.show()\n",
    "    \n",
    "\n",
    "\n",
    "\n",
    "\n"
   ]
  },
  {
   "cell_type": "markdown",
   "metadata": {},
   "source": [
    "- Plotting with the predicted values"
   ]
  },
  {
   "cell_type": "code",
   "execution_count": 156,
   "metadata": {},
   "outputs": [],
   "source": [
    "all_predicted_df = []\n",
    "for file_path in glob.glob(\"../../output/predicted/*\"):\n",
    "    current_df = pd.read_csv(file_path, index_col=0)\n",
    "    current_df = current_df.rename(columns={\"predicted_value\": \"predicted_\" + current_df[\"col_name\"].iloc[0]})\n",
    "    current_df = current_df.rename(columns={\"original_value\": \"original_\" + current_df[\"col_name\"].iloc[0]})\n",
    "    current_df = current_df.drop(columns=[\"col_name\"], errors=\"ignore\")\n",
    "    all_predicted_df.append(current_df)\n"
   ]
  },
  {
   "cell_type": "code",
   "execution_count": null,
   "metadata": {},
   "outputs": [],
   "source": [
    "current_df"
   ]
  },
  {
   "cell_type": "code",
   "execution_count": 158,
   "metadata": {},
   "outputs": [],
   "source": [
    "joined_df = all_predicted_df[0]\n",
    "for current_df in all_predicted_df[1:]:\n",
    "    joined_df = pd.merge(joined_df, current_df, on=\"index_num\", suffixes=(\"\", \"_drop\"))\n",
    "    joined_df = joined_df.drop(columns=[col for col in joined_df if \"_drop\" in col])"
   ]
  },
  {
   "cell_type": "code",
   "execution_count": null,
   "metadata": {},
   "outputs": [],
   "source": [
    "joined_df"
   ]
  },
  {
   "cell_type": "code",
   "execution_count": null,
   "metadata": {},
   "outputs": [],
   "source": []
  },
  {
   "cell_type": "markdown",
   "metadata": {},
   "source": [
    "- Plotting the emmeans"
   ]
  },
  {
   "cell_type": "code",
   "execution_count": 160,
   "metadata": {},
   "outputs": [],
   "source": [
    "all_emmeans_df = []\n",
    "for file_path in glob.glob(\"../../output/emmeans_csv/*with_CI*\"):\n",
    "    current_df = pd.read_csv(file_path, index_col=0)\n",
    "    # current_df = current_df.rename(columns={\"predicted_value\": \"predicted_\" + current_df[\"col_name\"].iloc[0]})\n",
    "    # current_df = current_df.rename(columns={\"original_value\": \"original_\" + current_df[\"col_name\"].iloc[0]})\n",
    "    current_df = current_df.drop(columns=[\"col_name\"], errors=\"ignore\")\n",
    "    current_df = current_df.dropna(subset=[\"emmean\"])\n",
    "    all_emmeans_df.append(current_df)\n",
    "combined_emmeans_df = pd.concat(all_emmeans_df)\n"
   ]
  },
  {
   "cell_type": "code",
   "execution_count": 161,
   "metadata": {},
   "outputs": [],
   "source": [
    "combined_emmeans_df[\"color\"] = combined_emmeans_df[\"trial_and_competitiveness_label\"].map(comp_id_to_color)"
   ]
  },
  {
   "cell_type": "code",
   "execution_count": null,
   "metadata": {},
   "outputs": [],
   "source": [
    "current_df = combined_emmeans_df[combined_emmeans_df[\"spectra_metric\"] == \"cluster_mean_trial_vHPC_power_theta\"]\n",
    "for index, row in current_df.sort_values(by=[\"trial_and_competitiveness_label\"]).iterrows():\n",
    "    plt.errorbar(row[\"trial_and_competitiveness_label\"], row[\"emmean\"], yerr=row[\"upper.CL\"] - row[\"emmean\"], fmt='o', color=row[\"color\"],elinewidth=4, capsize=10, markeredgewidth=4)\n",
    "    plt.scatter(row[\"trial_and_competitiveness_label\"], row[\"emmean\"], s = 100, marker = \"o\", color = row[\"color\"])\n",
    "    # plt.barh(row[\"trial_and_competitiveness_label\"], row[\"emmean\"], yerr=row[\"upper.CL\"] - row[\"emmean\"], fmt='o', color=row[\"color\"])\n",
    "\n",
    "    plt.tick_params(\n",
    "        axis='x',          # changes apply to the x-axis\n",
    "        which='both',      # both major and minor ticks are affected\n",
    "        bottom=False,      # ticks along the bottom edge are off\n",
    "        top=False,         # ticks along the top edge are off\n",
    "        labelbottom=False) # labels along the bottom edge are off\n",
    "    \n",
    "    plt.ylabel('Estimated Marginal Means', size=20)\n",
    "\n",
    "    # means.index, means, yerr=sems, fmt='o', color='black')\n"
   ]
  },
  {
   "cell_type": "code",
   "execution_count": null,
   "metadata": {},
   "outputs": [],
   "source": [
    "0.021322 - 0.026051\n",
    "\n",
    "\t\t# 0.001951\t6.243603\t0.021322\t\n"
   ]
  },
  {
   "cell_type": "code",
   "execution_count": null,
   "metadata": {},
   "outputs": [],
   "source": [
    "col"
   ]
  },
  {
   "cell_type": "code",
   "execution_count": 165,
   "metadata": {},
   "outputs": [],
   "source": [
    "from matplotlib.ticker import FormatStrFormatter"
   ]
  },
  {
   "cell_type": "code",
   "execution_count": null,
   "metadata": {},
   "outputs": [],
   "source": [
    "\n",
    "joined_df[\"bar_ticks\"] = joined_df[\"trial_and_competitiveness_label\"].map(label_to_ticks)\n",
    "\n",
    "for col in [col for col in joined_df if (\"cluster_mean_trial\" in col and \"all_frequencies\" not in col and \"predicted\" in col)]:\n",
    "    if \"timestamps\" in col:\n",
    "        continue\n",
    "    \n",
    "    print(col)\n",
    "    sns.set_style('white', {'axes.linewidth': 0.5})\n",
    "    plt.rcParams['xtick.major.size'] = 20\n",
    "    plt.rcParams['xtick.major.width'] = 4\n",
    "    plt.rcParams['xtick.bottom'] = True\n",
    "    plt.rcParams['ytick.left'] = True\n",
    "\n",
    "    # Plot the transition matrix using only matplotlib\n",
    "    # fig, ax = plt.subplots(figsize=(6.4, 4.8))\n",
    "    fig, ax = plt.subplots(figsize=(6.4, 4.8))\n",
    "\n",
    "\n",
    "    ax = sns.violinplot(data=joined_df.sort_values([\"trial_and_competitiveness_label\"]), x='bar_ticks', y=col, hue='trial_and_competitiveness_label',\n",
    "        palette=comp_id_to_color,\n",
    "                        inner=None, linewidth=0, saturation=1)\n",
    "    \n",
    "    # ax.tick_params(bottom=False)\n",
    "    \n",
    "    # means = joined_df.groupby('bar_ticks')[col].mean()\n",
    "    # sems = joined_df.groupby('bar_ticks')[col].sem()\n",
    "\n",
    "    # Plot the means with SEM bars\n",
    "    # plt.errorbar(means.index, means, yerr=sems, fmt='o', color='black')\n",
    "\n",
    "    sns.boxplot(x='bar_ticks', y=col, data=joined_df.sort_values([\"trial_and_competitiveness_label\"]), color='white',            # hue='competitiveness_grouping',    palette=comp_to_color, \n",
    "                width=0.2,\n",
    "                # boxprops={'zorder': 2}, \n",
    "                ax=ax, fill=True, linecolor=\"black\", linewidth=2, medianprops=dict(color=\"red\", alpha=1))\n",
    "\n",
    "    plt.legend([],[], frameon=False)\n",
    "\n",
    "        # Hide top and right borders\n",
    "    ax.spines['top'].set_visible(False)\n",
    "    ax.spines['right'].set_visible(False)\n",
    "\n",
    "    # Leave bottom and left spines\n",
    "    ax.spines['bottom'].set_visible(True)\n",
    "    ax.spines['left'].set_visible(True)\n",
    "    ax.spines['bottom'].set_linewidth(3)\n",
    "    ax.spines['left'].set_linewidth(3)\n",
    "\n",
    "    ax.tick_params(axis='both', which='major', labelsize=23, length=10, width=3, color='black')\n",
    "    ax.tick_params(axis='both', which='minor', labelsize=23, length=10, width=3, color='black')\n",
    "\n",
    "    if \"granger\" in col:\n",
    "        # title = \"{}\".format(col.replace(\".\", \"-\").replace(\"cluster_mean_trial_\", \"\").replace(\"cluster_mean_trial_and_post_\", \"\").replace(\"RMS_filtered_\", \"\").replace(\"all_frequencies_all_windows\", \"\").replace(\"power\", \"\").replace(\"granger\", \"\")).replace(\"coherence\", \"\").replace(\"_\", \" \").replace(\"  \", \" \").strip().replace(\" \", \" to \").replace(\"predicted\", \"\").strip()\n",
    "        title = col.replace(\"predicted_cluster_mean_trial_\", \"\").replace(\"power\", \"\").replace(\"granger\", \"\").replace(\"coherence\", \"\").replace(\"_\", \" \").replace(\"  \", \" \").replace(\".\", \" \")\n",
    "\n",
    "    else:\n",
    "        # title = \"{}\".format(col.replace(\".\", \"-\").replace(\"cluster_mean_trial_\", \"\").replace(\"cluster_mean_trial_and_post_\", \"\").replace(\"RMS_filtered_\", \"\").replace(\"all_frequencies_all_windows\", \"\").replace(\"power\", \"\").replace(\"granger\", \"\")).replace(\"coherence\", \"\").replace(\"_\", \" \").replace(\"  \", \" \").replace(\"predicted\", \"\").strip()\n",
    "        title = col.replace(\"predicted_cluster_mean_trial_\", \"\").replace(\"power\", \"\").replace(\"granger\", \"\").replace(\"coherence\", \"\").replace(\"_\", \" \").replace(\"  \", \" \").replace(\".\", \" \")\n",
    "\n",
    "    if \"coherence\" in col:\n",
    "        plt.ylim(0.2, 1)\n",
    "        plt.yticks([0.2, 0.4, 0.6, 0.8, 1]) \n",
    "    if \"granger\" in col:\n",
    "        plt.ylim(0.2, 0.8)\n",
    "        plt.yticks([0.2, 0.4, 0.6, 0.8]) \n",
    "    elif \"power\" in col:\n",
    "        plt.ylim(0, np.round(joined_df[col].max() * 1.25, decimals=3))\n",
    "        if \"theta\" in col:\n",
    "            ax.yaxis.set_major_formatter(FormatStrFormatter('%.2f'))\n",
    "        elif \"gamma\" in col:\n",
    "            ax.yaxis.set_major_formatter(FormatStrFormatter('%.3f'))\n",
    "\n",
    "\n",
    "    elif \"theta\" in col:\n",
    "        # plt.ylim(0, 0.05)\n",
    "        pass\n",
    "    elif \"gamma\" in col:\n",
    "        # plt.ylim(0, 0.0075)\n",
    "        pass\n",
    "\n",
    "    # if \"coherence\" in col:\n",
    "    #     plt.ylabel('Coherence', size=25)\n",
    "\n",
    "    # elif \"granger\" in col:\n",
    "    #     plt.ylabel('Granger Causality', size=25)\n",
    "\n",
    "    # elif \"power\" in col: \n",
    "    #     plt.ylabel('Normalized Power (a.u.)', size=25)\n",
    "    \n",
    "    plt.tick_params(\n",
    "        axis='x',          # changes apply to the x-axis\n",
    "        which='both',      # both major and minor ticks are affected\n",
    "        bottom=False,      # ticks along the bottom edge are off\n",
    "        top=False,         # ticks along the top edge are off\n",
    "        labelbottom=False) # labels along the bottom edge are off\n",
    "    \n",
    "    plt.xticks(visible=False)\n",
    "\n",
    "    ax.set(xlabel=None)\n",
    "    ax.set(ylabel=None)\n",
    "\n",
    "\n",
    "    plt.xticks(rotation=90)\n",
    "    plt.title(title.replace(\"theta\", \"Theta\").replace(\"gamma\", \"Gamma\").replace(\"predicted\", \"\").strip(),  pad=50)\n",
    "    plt.tight_layout()\n",
    "\n",
    "    if \"coherence\" in col:\n",
    "        sub_dir = \"coherence\"\n",
    "\n",
    "    elif \"granger\" in col:\n",
    "        sub_dir = \"granger\"\n",
    "\n",
    "    elif \"power\" in col: \n",
    "        sub_dir = \"power\"\n",
    "\n",
    "    plt.savefig(\"./proc/spectra_bar/{}/{}_bar.png\".format(sub_dir, col.replace(\"cluster_mean_trial_\", \"\").replace(\"predicted_\", \"\")))\n",
    "    plt.show()\n",
    "    # break\n",
    "    \n",
    "\n",
    "\n",
    "\n",
    "\n"
   ]
  },
  {
   "cell_type": "code",
   "execution_count": 307,
   "metadata": {},
   "outputs": [],
   "source": [
    "\n",
    "# joined_df[\"bar_ticks\"] = joined_df[\"trial_and_competitiveness_label\"].map(label_to_ticks)\n",
    "\n",
    "# for col in [col for col in joined_df if (\"cluster_mean_trial\" in col and \"all_frequencies\" not in col and \"predicted\" in col)]:\n",
    "#     if \"timestamps\" in col:\n",
    "#         continue\n",
    "    \n",
    "#     print(col)\n",
    "#     sns.set_style('white', {'axes.linewidth': 0.5})\n",
    "#     plt.rcParams['xtick.major.size'] = 20\n",
    "#     plt.rcParams['xtick.major.width'] = 4\n",
    "#     plt.rcParams['xtick.bottom'] = True\n",
    "#     plt.rcParams['ytick.left'] = True\n",
    "\n",
    "#     # Plot the transition matrix using only matplotlib\n",
    "#     fig, ax = plt.subplots(figsize=(6.4, 4.8))\n",
    "\n",
    "#     ax = sns.violinplot(data=joined_df.sort_values([\"trial_and_competitiveness_label\"]), x='bar_ticks', y=col, hue='trial_and_competitiveness_label',\n",
    "#         palette=comp_id_to_color,\n",
    "#                         inner=None, linewidth=0, saturation=1)\n",
    "    \n",
    "#     # ax.tick_params(bottom=False)\n",
    "    \n",
    "#     # means = joined_df.groupby('bar_ticks')[col].mean()\n",
    "#     # sems = joined_df.groupby('bar_ticks')[col].sem()\n",
    "\n",
    "#     # Plot the means with SEM bars\n",
    "#     # plt.errorbar(means.index, means, yerr=sems, fmt='o', color='black')\n",
    "\n",
    "#     sns.boxplot(x='bar_ticks', y=col, data=joined_df.sort_values([\"trial_and_competitiveness_label\"]), color='white',            # hue='competitiveness_grouping',    palette=comp_to_color, \n",
    "#                 width=0.2,\n",
    "#                 # boxprops={'zorder': 2}, \n",
    "#                 ax=ax, fill=True, linecolor=\"black\", linewidth=2)\n",
    "\n",
    "#     plt.legend([],[], frameon=False)\n",
    "\n",
    "#         # Hide top and right borders\n",
    "#     ax.spines['top'].set_visible(False)\n",
    "#     ax.spines['right'].set_visible(False)\n",
    "\n",
    "#     # Leave bottom and left spines\n",
    "#     ax.spines['bottom'].set_visible(True)\n",
    "#     ax.spines['left'].set_visible(True)\n",
    "#     ax.spines['bottom'].set_linewidth(3)\n",
    "#     ax.spines['left'].set_linewidth(3)\n",
    "\n",
    "#     ax.tick_params(axis='both', which='major', labelsize=23, length=10, width=3, color='black')\n",
    "#     ax.tick_params(axis='both', which='minor', labelsize=23, length=10, width=3, color='black')\n",
    "\n",
    "#     if \"granger\" in col:\n",
    "#         # title = \"{}\".format(col.replace(\".\", \"-\").replace(\"cluster_mean_trial_\", \"\").replace(\"cluster_mean_trial_and_post_\", \"\").replace(\"RMS_filtered_\", \"\").replace(\"all_frequencies_all_windows\", \"\").replace(\"power\", \"\").replace(\"granger\", \"\")).replace(\"coherence\", \"\").replace(\"_\", \" \").replace(\"  \", \" \").strip().replace(\" \", \" to \").replace(\"predicted\", \"\").strip()\n",
    "#         title = col.replace(\"predicted_cluster_mean_trial_\", \"\").replace(\"power\", \"\").replace(\"granger\", \"\").replace(\"coherence\", \"\").replace(\"_\", \" \").replace(\"  \", \" \").replace(\".\", \" \")\n",
    "\n",
    "#     else:\n",
    "#         # title = \"{}\".format(col.replace(\".\", \"-\").replace(\"cluster_mean_trial_\", \"\").replace(\"cluster_mean_trial_and_post_\", \"\").replace(\"RMS_filtered_\", \"\").replace(\"all_frequencies_all_windows\", \"\").replace(\"power\", \"\").replace(\"granger\", \"\")).replace(\"coherence\", \"\").replace(\"_\", \" \").replace(\"  \", \" \").replace(\"predicted\", \"\").strip()\n",
    "#         title = col.replace(\"predicted_cluster_mean_trial_\", \"\").replace(\"power\", \"\").replace(\"granger\", \"\").replace(\"coherence\", \"\").replace(\"_\", \" \").replace(\"  \", \" \").replace(\".\", \" \")\n",
    "\n",
    "#     if \"coherence\" in col or \"granger\" in col:\n",
    "#         plt.ylim(0, 1)\n",
    "\n",
    "#     elif \"theta\" in col:\n",
    "#         plt.ylim(0, 0.04)\n",
    "#     elif \"gamma\" in col:\n",
    "#         plt.ylim(0, 0.004)\n",
    "\n",
    "#     if \"coherence\" in col:\n",
    "#         plt.ylabel('Coherence', size=25)\n",
    "\n",
    "#     elif \"granger\" in col:\n",
    "#         plt.ylabel('Granger Causality', size=25)\n",
    "\n",
    "#     elif \"power\" in col: \n",
    "#         plt.ylabel('Normalized Power (a.u.)', size=25)\n",
    "    \n",
    "#     plt.tick_params(\n",
    "#         axis='x',          # changes apply to the x-axis\n",
    "#         which='both',      # both major and minor ticks are affected\n",
    "#         bottom=False,      # ticks along the bottom edge are off\n",
    "#         top=False,         # ticks along the top edge are off\n",
    "#         labelbottom=False) # labels along the bottom edge are off\n",
    "    \n",
    "#     plt.xticks(visible=False)\n",
    "\n",
    "#     ax.set(xlabel=None)\n",
    "\n",
    "#     plt.xticks(rotation=90)\n",
    "#     plt.title(title.replace(\"theta\", \"Theta\").replace(\"gamma\", \"Gamma\").replace(\"predicted\", \"\").strip())\n",
    "#     plt.tight_layout()\n",
    "#     plt.savefig(\"./proc/spectra_bar/{}_bar.png\".format(col.replace(\"cluster_mean_trial_\", \"\").replace(\"predicted_\", \"\")))\n",
    "#     plt.show()\n",
    "#     # break"
   ]
  },
  {
   "cell_type": "code",
   "execution_count": null,
   "metadata": {},
   "outputs": [],
   "source": [
    "for col in [col for col in joined_df if (\"cluster_mean_trial\" in col and \"all_frequencies\" not in col and \"predicted\" in col)]:\n",
    "    if \"timestamps\" in col:\n",
    "        continue\n",
    "    \n",
    "    print(col)\n",
    "\n",
    "\n",
    "    # Plot the transition matrix using only matplotlib\n",
    "    fig, ax = plt.subplots(figsize=(6.4, 4.8))\n",
    "\n",
    "\n",
    "    current_df = combined_emmeans_df[combined_emmeans_df[\"spectra_metric\"] == col.replace(\"predicted_\", \"\")]\n",
    "    for index, row in current_df.sort_values(by=[\"trial_and_competitiveness_label\"]).iterrows():\n",
    "        plt.errorbar(row[\"trial_and_competitiveness_label\"], row[\"emmean\"], yerr=row[\"upper.CL\"] - row[\"emmean\"], fmt='o', color=row[\"color\"],elinewidth=4, capsize=10, markeredgewidth=4)\n",
    "        plt.scatter(row[\"trial_and_competitiveness_label\"], row[\"emmean\"], s = 100, marker = \"o\", color = row[\"color\"])\n",
    "        # plt.barh(row[\"trial_and_competitiveness_label\"], row[\"emmean\"], yerr=row[\"upper.CL\"] - row[\"emmean\"], fmt='o', color=row[\"color\"])\n",
    "\n",
    "        plt.tick_params(\n",
    "            axis='x',          # changes apply to the x-axis\n",
    "            which='both',      # both major and minor ticks are affected\n",
    "            bottom=False,      # ticks along the bottom edge are off\n",
    "            top=False,         # ticks along the top edge are off\n",
    "            labelbottom=False) # labels along the bottom edge are off\n",
    "        \n",
    "    # plt.ylabel('Estimated Marginal Means', size=20)\n",
    "\n",
    "        # means.index, means, yerr=sems, fmt='o', color='black')\n",
    "\n",
    "    # Hide top and right borders\n",
    "    ax.spines['top'].set_visible(False)\n",
    "    ax.spines['right'].set_visible(False)\n",
    "\n",
    "    # Leave bottom and left spines\n",
    "    ax.spines['bottom'].set_visible(True)\n",
    "    ax.spines['left'].set_visible(True)\n",
    "    ax.spines['bottom'].set_linewidth(3)\n",
    "    ax.spines['left'].set_linewidth(3)\n",
    "\n",
    "    if \"granger\" in col:\n",
    "        # title = \"{}\".format(col.replace(\".\", \"-\").replace(\"cluster_mean_trial_\", \"\").replace(\"cluster_mean_trial_and_post_\", \"\").replace(\"RMS_filtered_\", \"\").replace(\"all_frequencies_all_windows\", \"\").replace(\"power\", \"\").replace(\"granger\", \"\")).replace(\"coherence\", \"\").replace(\"_\", \" \").replace(\"  \", \" \").strip().replace(\" \", \" to \").replace(\"predicted\", \"\").strip()\n",
    "        title = col.replace(\"predicted_cluster_mean_trial_\", \"\").replace(\"power\", \"\").replace(\"granger\", \"\").replace(\"coherence\", \"\").replace(\"_\", \" \").replace(\"  \", \" \").replace(\".\", \" \")\n",
    "\n",
    "    else:\n",
    "        # title = \"{}\".format(col.replace(\".\", \"-\").replace(\"cluster_mean_trial_\", \"\").replace(\"cluster_mean_trial_and_post_\", \"\").replace(\"RMS_filtered_\", \"\").replace(\"all_frequencies_all_windows\", \"\").replace(\"power\", \"\").replace(\"granger\", \"\")).replace(\"coherence\", \"\").replace(\"_\", \" \").replace(\"  \", \" \").replace(\"predicted\", \"\").strip()\n",
    "        title = col.replace(\"predicted_cluster_mean_trial_\", \"\").replace(\"power\", \"\").replace(\"granger\", \"\").replace(\"coherence\", \"\").replace(\"_\", \" \").replace(\"  \", \" \").replace(\".\", \" \")\n",
    "\n",
    "    if \"coherence\" in col or \"granger\" in col:\n",
    "        ax.yaxis.set_major_formatter(FormatStrFormatter('%.2f'))\n",
    "    elif \"power\" in col:\n",
    "        if \"theta\" in col:\n",
    "            # ax.yaxis.set_major_formatter(FormatStrFormatter('%.2f'))\n",
    "            ax.yaxis.set_major_formatter(FormatStrFormatter('%.3f'))\n",
    "        elif \"gamma\" in col:\n",
    "            ax.yaxis.set_major_formatter(FormatStrFormatter('%.4f'))\n",
    "\n",
    "\n",
    "    plt.title(title.replace(\"theta\", \"Theta\").replace(\"gamma\", \"Gamma\").replace(\"predicted\", \"\").strip(),  pad=50)\n",
    "    plt.tight_layout()\n",
    "    \n",
    "    # plt.savefig(\"./proc/emmeans/{}_emmeans.png\".format(col.replace(\"cluster_mean_trial_\", \"\").replace(\"predicted_\", \"\")))\n",
    "    if \"coherence\" in col:\n",
    "        sub_dir = \"coherence\"\n",
    "\n",
    "    elif \"granger\" in col:\n",
    "        sub_dir = \"granger\"\n",
    "\n",
    "    elif \"power\" in col: \n",
    "        sub_dir = \"power\"\n",
    "\n",
    "    plt.savefig(\"./proc/emmeans/{}/{}_emmeans.png\".format(sub_dir, col.replace(\"cluster_mean_trial_\", \"\").replace(\"predicted_\", \"\")))\n",
    "    \n",
    "    plt.show()\n"
   ]
  },
  {
   "cell_type": "markdown",
   "metadata": {},
   "source": [
    "- Getting all the significant values"
   ]
  },
  {
   "cell_type": "code",
   "execution_count": null,
   "metadata": {},
   "outputs": [],
   "source": [
    "all_significance_df = []\n",
    "for file_path in glob.glob(\"../../output_lmer_velocity/emmeans_csv/*\"):\n",
    "    if \"with_CI\" in file_path:\n",
    "        continue\n",
    "    current_df = pd.read_csv(file_path, index_col=0)\n",
    "    all_significance_df.append(current_df)\n",
    "combined_significance_df = pd.concat(all_significance_df)\n"
   ]
  },
  {
   "cell_type": "code",
   "execution_count": null,
   "metadata": {},
   "outputs": [],
   "source": [
    "raise ValueError()"
   ]
  },
  {
   "cell_type": "code",
   "execution_count": null,
   "metadata": {},
   "outputs": [],
   "source": [
    "combined_significance_df[\"contrast\"].unique()"
   ]
  },
  {
   "cell_type": "code",
   "execution_count": 482,
   "metadata": {},
   "outputs": [],
   "source": [
    "valid_comparisons = [\n",
    "                    # 'rewarded - lose_no_comp', \n",
    "                    'rewarded - win_competitive',\n",
    "                    'rewarded - lose_competitive', \n",
    "                    # 'win_no_comp - lose_competitive',\n",
    "                    'win_no_comp - lose_no_comp', \n",
    "                    'win_no_comp - win_competitive',\n",
    "                    # 'lose_no_comp - win_competitive',\n",
    "                    'lose_no_comp - lose_competitive',\n",
    "                    'win_competitive - lose_competitive', \n",
    "                    'rewarded - win_no_comp'\n",
    "                    ]"
   ]
  },
  {
   "cell_type": "code",
   "execution_count": 483,
   "metadata": {},
   "outputs": [],
   "source": [
    "combined_significance_df = combined_significance_df[combined_significance_df[\"p.value\"] <= 0.001]"
   ]
  },
  {
   "cell_type": "code",
   "execution_count": 484,
   "metadata": {},
   "outputs": [],
   "source": [
    "combined_significance_df = combined_significance_df[combined_significance_df[\"contrast\"].isin(valid_comparisons)]"
   ]
  },
  {
   "cell_type": "code",
   "execution_count": 485,
   "metadata": {},
   "outputs": [],
   "source": [
    "def get_signficance_stars(p_value):\n",
    "    \"\"\"\n",
    "    \"\"\"\n",
    "    if p_value <= 0.001:\n",
    "        return \"***\"\n",
    "    elif p_value <= 0.01:\n",
    "        return \"**\"\n",
    "    elif p_value <= 0.05:\n",
    "        return \"*\"\n",
    "    else:\n",
    "        return \"\""
   ]
  },
  {
   "cell_type": "code",
   "execution_count": 486,
   "metadata": {},
   "outputs": [],
   "source": [
    "combined_significance_df[\"signficance_stars\"] = combined_significance_df[\"p.value\"].apply(lambda x: get_signficance_stars(x))"
   ]
  },
  {
   "cell_type": "code",
   "execution_count": 487,
   "metadata": {},
   "outputs": [],
   "source": [
    "combined_significance_df[\"metric\"] = combined_significance_df[\"spectra_metric\"].apply(lambda x: x.split(\"_\")[-2])\n",
    "combined_significance_df[\"band\"] = combined_significance_df[\"spectra_metric\"].apply(lambda x: x.split(\"_\")[-1])"
   ]
  },
  {
   "cell_type": "code",
   "execution_count": 488,
   "metadata": {},
   "outputs": [],
   "source": [
    "combined_significance_df[\"contrast\"] = combined_significance_df[\"contrast\"].apply(lambda x: sorted([word.strip() for word in x.split(\"-\")]))"
   ]
  },
  {
   "cell_type": "code",
   "execution_count": 489,
   "metadata": {},
   "outputs": [],
   "source": [
    "combined_significance_df[\"label_1\"] = combined_significance_df[\"contrast\"].apply(lambda x: x[0])\n",
    "combined_significance_df[\"label_2\"] = combined_significance_df[\"contrast\"].apply(lambda x: x[1])"
   ]
  },
  {
   "cell_type": "code",
   "execution_count": 490,
   "metadata": {},
   "outputs": [],
   "source": [
    "combined_significance_df[\"is_comp_comparison\"] = combined_significance_df[\"contrast\"].apply(lambda x: x[0].split(\"_\")[0] == x[1].split(\"_\")[0])"
   ]
  },
  {
   "cell_type": "code",
   "execution_count": 491,
   "metadata": {},
   "outputs": [],
   "source": [
    "combined_significance_df = combined_significance_df.sort_values([\"metric\", \"band\", \"spectra_metric\", \"label_1\", \"label_2\"])"
   ]
  },
  {
   "cell_type": "code",
   "execution_count": null,
   "metadata": {},
   "outputs": [],
   "source": [
    "combined_significance_df[~combined_significance_df[\"is_comp_comparison\"]].tail(n=50)"
   ]
  },
  {
   "cell_type": "code",
   "execution_count": null,
   "metadata": {},
   "outputs": [],
   "source": [
    "combined_significance_df[combined_significance_df[\"is_comp_comparison\"]]"
   ]
  },
  {
   "cell_type": "code",
   "execution_count": null,
   "metadata": {},
   "outputs": [],
   "source": [
    "# combined_significance_df[combined_significance_df[\"metric\"] == \"coherence\"]\n",
    "\n",
    "combined_significance_df[(combined_significance_df[\"metric\"] == \"coherence\") & (combined_significance_df[\"spectra_metric\"].str.contains(\"mPFC\"))]"
   ]
  },
  {
   "cell_type": "code",
   "execution_count": null,
   "metadata": {},
   "outputs": [],
   "source": [
    "combined_significance_df[(combined_significance_df[\"metric\"] == \"coherence\") & (combined_significance_df[\"contrast\"].apply(lambda x: \"lose_no_comp\" in x))]"
   ]
  },
  {
   "cell_type": "code",
   "execution_count": null,
   "metadata": {},
   "outputs": [],
   "source": [
    "combined_significance_df[(combined_significance_df[\"metric\"] == \"granger\") & (combined_significance_df[\"contrast\"].apply(lambda x: \"lose_no_comp\" in x))]"
   ]
  },
  {
   "cell_type": "code",
   "execution_count": null,
   "metadata": {},
   "outputs": [],
   "source": [
    "combined_significance_df[\"contrast\"]"
   ]
  },
  {
   "cell_type": "code",
   "execution_count": 179,
   "metadata": {},
   "outputs": [],
   "source": [
    "# import matplotlib.pyplot as plt\n",
    "# import numpy as np\n",
    "\n",
    "# # Some example data to display\n",
    "# x = np.linspace(0, 2 * np.pi, 400)\n",
    "# y = np.sin(x ** 2)\n",
    "\n",
    "\n",
    "\n",
    "\n",
    "\n",
    "# joined_df[\"bar_ticks\"] = joined_df[\"trial_and_competitiveness_label\"].map(label_to_ticks)\n",
    "\n",
    "# for col in [col for col in joined_df if (\"cluster_mean_trial\" in col and \"all_frequencies\" not in col and \"predicted\" in col)]:\n",
    "#     print(col)\n",
    "#     sns.set_style('white', {'axes.linewidth': 0.5})\n",
    "#     plt.rcParams['xtick.major.size'] = 20\n",
    "#     plt.rcParams['xtick.major.width'] = 4\n",
    "#     plt.rcParams['xtick.bottom'] = True\n",
    "#     plt.rcParams['ytick.left'] = True\n",
    "\n",
    "#     # Plot the transition matrix using only matplotlib\n",
    "#     # fig, ax = plt.subplots(figsize=(6.4, 4.8))\n",
    "\n",
    "#     fig, ax = plt.subplots(2)\n",
    "#     # fig.suptitle('Vertically stacked subplots')\n",
    "#     # ax[0].plot(x, y)\n",
    "#     # ax[1].plot(x, -y)\n",
    "\n",
    "#     sns.violinplot(ax=ax[0], data=joined_df.sort_values([\"trial_and_competitiveness_label\"]), x='bar_ticks', y=col, hue='trial_and_competitiveness_label',\n",
    "#         palette=comp_id_to_color,\n",
    "#                         inner=None, linewidth=0, saturation=1)\n",
    "\n",
    "#     sns.boxplot(ax=ax[0], x='bar_ticks', y=col, data=joined_df.sort_values([\"trial_and_competitiveness_label\"]), color='white',            # hue='competitiveness_grouping',    palette=comp_to_color, \n",
    "#                 width=0.2,\n",
    "#                 # boxprops={'zorder': 2}, \n",
    "#                 fill=True, linecolor=\"black\", linewidth=2)\n",
    "\n",
    "\n",
    "\n",
    "#         # Hide top and right borders\n",
    "#     ax[0].spines['top'].set_visible(False)\n",
    "#     ax[0].spines['right'].set_visible(False)\n",
    "\n",
    "#     # Leave bottom and left spines\n",
    "#     ax[0].spines['bottom'].set_visible(True)\n",
    "#     ax[0].spines['left'].set_visible(True)\n",
    "#     ax[0].spines['bottom'].set_linewidth(3)\n",
    "#     ax[0].spines['left'].set_linewidth(3)\n",
    "\n",
    "#     ax[0].tick_params(axis='both', which='major', labelsize=23, length=10, width=3, color='black')\n",
    "#     ax[0].tick_params(axis='both', which='minor', labelsize=23, length=10, width=3, color='black')\n",
    "\n",
    "\n",
    "\n",
    "#     if \"granger\" in col:\n",
    "#         # title = \"{}\".format(col.replace(\".\", \"-\").replace(\"cluster_mean_trial_\", \"\").replace(\"cluster_mean_trial_and_post_\", \"\").replace(\"RMS_filtered_\", \"\").replace(\"all_frequencies_all_windows\", \"\").replace(\"power\", \"\").replace(\"granger\", \"\")).replace(\"coherence\", \"\").replace(\"_\", \" \").replace(\"  \", \" \").strip().replace(\" \", \" to \").replace(\"predicted\", \"\").strip()\n",
    "#         title = col.replace(\"predicted_cluster_mean_trial_\", \"\").replace(\"power\", \"\").replace(\"granger\", \"\").replace(\"coherence\", \"\").replace(\"_\", \" \").replace(\"  \", \" \").replace(\".\", \" \")\n",
    "\n",
    "#     else:\n",
    "#         # title = \"{}\".format(col.replace(\".\", \"-\").replace(\"cluster_mean_trial_\", \"\").replace(\"cluster_mean_trial_and_post_\", \"\").replace(\"RMS_filtered_\", \"\").replace(\"all_frequencies_all_windows\", \"\").replace(\"power\", \"\").replace(\"granger\", \"\")).replace(\"coherence\", \"\").replace(\"_\", \" \").replace(\"  \", \" \").replace(\"predicted\", \"\").strip()\n",
    "#         title = col.replace(\"predicted_cluster_mean_trial_\", \"\").replace(\"power\", \"\").replace(\"granger\", \"\").replace(\"coherence\", \"\").replace(\"_\", \" \").replace(\"  \", \" \").replace(\".\", \" \")\n",
    "\n",
    "#     if \"coherence\" in col or \"granger\" in col:\n",
    "#         plt.ylim(0, 1)\n",
    "\n",
    "#     elif \"theta\" in col:\n",
    "#         plt.ylim(0, 0.04)\n",
    "#     elif \"gamma\" in col:\n",
    "#         plt.ylim(0, 0.004)\n",
    "\n",
    "#     # if \"coherence\" in col:\n",
    "#     #     plt.ylabel('Coherence', size=30)\n",
    "\n",
    "#     # elif \"granger\" in col:\n",
    "#     #     plt.ylabel('Granger Causality', size=30)\n",
    "\n",
    "#     # elif \"power\" in col: \n",
    "#     #     plt.ylabel('Normalized Power\\n(a.u.)', size=30)\n",
    "    \n",
    "#     plt.tick_params(\n",
    "#         axis='x',          # changes apply to the x-axis\n",
    "#         which='both',      # both major and minor ticks are affected\n",
    "#         bottom=False,      # ticks along the bottom edge are off\n",
    "#         top=False,         # ticks along the top edge are off\n",
    "#         labelbottom=False) # labels along the bottom edge are off\n",
    "\n",
    "#     plt.xticks(rotation=90)\n",
    "#     plt.title(title.replace(\"theta\", \"Theta\").replace(\"gamma\", \"Gamma\").replace(\"predicted\", \"\").strip())\n",
    "\n",
    "#     plt.legend([],[], frameon=False)\n",
    "\n",
    "#     plt.tight_layout()\n",
    "#     # plt.savefig(\"./proc/spectra_bar/{}_bar.png\".format(col.replace(\"cluster_mean_trial_\", \"\").replace(\"predicted_\", \"\")))\n",
    "#     plt.show()\n",
    "#     raise ValueError()\n",
    "\n",
    "\n",
    "\n",
    "\n"
   ]
  },
  {
   "cell_type": "code",
   "execution_count": null,
   "metadata": {},
   "outputs": [],
   "source": [
    "current_df"
   ]
  },
  {
   "cell_type": "code",
   "execution_count": 181,
   "metadata": {},
   "outputs": [],
   "source": [
    "joined_df = all_predicted_df[0]\n",
    "for current_df in all_predicted_df[1:]:\n",
    "    joined_df = pd.merge(joined_df, current_df, on=\"index_num\", suffixes=(\"\", \"_drop\"))\n",
    "    joined_df = joined_df.drop(columns=[col for col in joined_df if \"_drop\" in col])"
   ]
  },
  {
   "cell_type": "code",
   "execution_count": null,
   "metadata": {},
   "outputs": [],
   "source": [
    "joined_df"
   ]
  },
  {
   "cell_type": "code",
   "execution_count": null,
   "metadata": {},
   "outputs": [],
   "source": [
    "raise ValueError()"
   ]
  },
  {
   "cell_type": "code",
   "execution_count": null,
   "metadata": {},
   "outputs": [],
   "source": [
    "joined_df"
   ]
  },
  {
   "cell_type": "code",
   "execution_count": null,
   "metadata": {},
   "outputs": [],
   "source": [
    "\n",
    "joined_df[\"bar_ticks\"] = joined_df[\"trial_and_competitiveness_label\"].map(label_to_ticks)\n",
    "\n",
    "for col in [col for col in joined_df if (\"cluster_mean_trial\" in col and \"all_frequencies\" not in col and \"predicted\" in col)]:\n",
    "    print(col)\n",
    "    sns.set_style('white', {'axes.linewidth': 0.5})\n",
    "    plt.rcParams['xtick.major.size'] = 20\n",
    "    plt.rcParams['xtick.major.width'] = 4\n",
    "    plt.rcParams['xtick.bottom'] = True\n",
    "    plt.rcParams['ytick.left'] = True\n",
    "\n",
    "    # Plot the transition matrix using only matplotlib\n",
    "    fig, ax = plt.subplots(figsize=(6.4, 4.8))\n",
    "\n",
    "    ax = sns.violinplot(data=joined_df.sort_values([\"trial_and_competitiveness_label\"]), x='subject_id', y=col, \n",
    "                        inner=None, linewidth=0, saturation=1)\n",
    "    \n",
    "    # means = joined_df.groupby('bar_ticks')[col].mean()\n",
    "    # sems = joined_df.groupby('bar_ticks')[col].sem()\n",
    "\n",
    "    # Plot the means with SEM bars\n",
    "    # plt.errorbar(means.index, means, yerr=sems, fmt='o', color='black')\n",
    "\n",
    "    sns.boxplot(x='subject_id', y=col, data=joined_df.sort_values([\"trial_and_competitiveness_label\"]), color='white',            # hue='competitiveness_grouping',    palette=comp_to_color, \n",
    "                width=0.2,\n",
    "                # boxprops={'zorder': 2}, \n",
    "                ax=ax, fill=True, linecolor=\"black\", linewidth=2)\n",
    "\n",
    "    plt.legend([],[], frameon=False)\n",
    "\n",
    "        # Hide top and right borders\n",
    "    ax.spines['top'].set_visible(False)\n",
    "    ax.spines['right'].set_visible(False)\n",
    "\n",
    "    # Leave bottom and left spines\n",
    "    ax.spines['bottom'].set_visible(True)\n",
    "    ax.spines['left'].set_visible(True)\n",
    "    ax.spines['bottom'].set_linewidth(3)\n",
    "    ax.spines['left'].set_linewidth(3)\n",
    "\n",
    "    ax.tick_params(axis='both', which='major', labelsize=23, length=10, width=3, color='black')\n",
    "    ax.tick_params(axis='both', which='minor', labelsize=23, length=10, width=3, color='black')\n",
    "\n",
    "\n",
    "\n",
    "    if \"granger\" in col:\n",
    "        title = \"{}\".format(col.replace(\"cluster_mean_trial_\", \"\").replace(\"cluster_mean_trial_and_post_\", \"\").replace(\"RMS_filtered_\", \"\").replace(\"all_frequencies_all_windows\", \"\").replace(\"power\", \"\").replace(\"granger\", \"\")).replace(\"coherence\", \"\").replace(\"_\", \" \").replace(\"  \", \" \").strip().replace(\" \", \" to \").replace(\"predicted\", \"\").strip()\n",
    "    else:\n",
    "        title = \"{}\".format(col.replace(\"cluster_mean_trial_\", \"\").replace(\"cluster_mean_trial_and_post_\", \"\").replace(\"RMS_filtered_\", \"\").replace(\"all_frequencies_all_windows\", \"\").replace(\"power\", \"\").replace(\"granger\", \"\")).replace(\"coherence\", \"\").replace(\"_\", \" \").replace(\"  \", \" \").replace(\"predicted\", \"\").strip()\n",
    "\n",
    "    if \"coherence\" in col or \"granger\" in col:\n",
    "        plt.ylim(0, 1)\n",
    "\n",
    "    elif \"theta\" in col:\n",
    "        plt.ylim(0, 0.04)\n",
    "    elif \"gamma\" in col:\n",
    "        plt.ylim(0, 0.004)\n",
    "\n",
    "    if \"coherence\" in col:\n",
    "        plt.ylabel('Coherence', size=30)\n",
    "\n",
    "    elif \"granger\" in col:\n",
    "        plt.ylabel('Granger Causality', size=30)\n",
    "\n",
    "    elif \"power\" in col: \n",
    "        plt.ylabel('Normalized Power (a.u.)', size=30)\n",
    "    \n",
    "    # plt.tick_params(\n",
    "    #     axis='x',          # changes apply to the x-axis\n",
    "    #     which='both',      # both major and minor ticks are affected\n",
    "    #     bottom=False,      # ticks along the bottom edge are off\n",
    "    #     top=False,         # ticks along the top edge are off\n",
    "    #     labelbottom=False) # labels along the bottom edge are off\n",
    "\n",
    "    plt.xticks(rotation=90)\n",
    "    plt.title(title.replace(\"theta\", \"Theta\").replace(\"gamma\", \"Gamma\").replace(\"predicted\", \"\").strip())\n",
    "    plt.tight_layout()\n",
    "    # plt.savefig(\"./proc/spectra_bar/{}_bar.png\".format(col.replace(\"cluster_mean_trial_\", \"\").replace(\"predicted_\", \"\")))\n",
    "    plt.show()\n",
    "    \n",
    "\n",
    "\n",
    "\n",
    "\n"
   ]
  },
  {
   "cell_type": "code",
   "execution_count": null,
   "metadata": {},
   "outputs": [],
   "source": [
    "raise ValueError()"
   ]
  },
  {
   "cell_type": "code",
   "execution_count": null,
   "metadata": {},
   "outputs": [],
   "source": [
    "joined_df"
   ]
  },
  {
   "cell_type": "code",
   "execution_count": null,
   "metadata": {},
   "outputs": [],
   "source": [
    "for df in all_predicted_df:\n",
    "    print(df.shape)"
   ]
  },
  {
   "cell_type": "code",
   "execution_count": null,
   "metadata": {},
   "outputs": [],
   "source": [
    "all_predicted_df[\"cur\"]"
   ]
  },
  {
   "cell_type": "code",
   "execution_count": null,
   "metadata": {},
   "outputs": [],
   "source": [
    "all_predicted_df[0].head()"
   ]
  },
  {
   "cell_type": "code",
   "execution_count": null,
   "metadata": {},
   "outputs": [],
   "source": [
    "all_predicted_df[1]"
   ]
  },
  {
   "cell_type": "code",
   "execution_count": null,
   "metadata": {},
   "outputs": [],
   "source": []
  },
  {
   "cell_type": "code",
   "execution_count": null,
   "metadata": {},
   "outputs": [],
   "source": [
    "raise ValueError(312)"
   ]
  },
  {
   "cell_type": "code",
   "execution_count": null,
   "metadata": {},
   "outputs": [],
   "source": [
    "raise ValueError()"
   ]
  },
  {
   "cell_type": "code",
   "execution_count": null,
   "metadata": {},
   "outputs": [],
   "source": [
    "sns.set_style('white', {'axes.linewidth': 0.5})\n",
    "plt.rcParams['xtick.major.size'] = 20\n",
    "plt.rcParams['xtick.major.width'] = 4\n",
    "plt.rcParams['xtick.bottom'] = True\n",
    "plt.rcParams['ytick.left'] = True\n",
    "\n",
    "# Plot the transition matrix using only matplotlib\n",
    "fig, ax = plt.subplots(figsize=(6.4, 4.8))\n",
    "\n",
    "ax = sns.violinplot(data=distance_mean_df.sort_values([\"trial_label\", \"competitiveness_grouping\"]), x='trial_label_and_competitiveness_grouping', y='mean_distance', hue='competitiveness_grouping',\n",
    "    palette=comp_id_to_color,\n",
    "                    inner=None, linewidth=0, saturation=1)\n",
    "\n",
    "sns.boxplot(x='trial_label_and_competitiveness_grouping', y='mean_distance', data=distance_mean_df.sort_values([\"trial_label\", \"competitiveness_grouping\"]), color='white',            # hue='competitiveness_grouping',    palette=comp_to_color, \n",
    "            width=0.1,\n",
    "            # boxprops={'zorder': 2}, \n",
    "            ax=ax, fill=True, linecolor=\"black\",)\n",
    "\n",
    "plt.legend([],[], frameon=False)\n",
    "\n",
    "    # Hide top and right borders\n",
    "ax.spines['top'].set_visible(False)\n",
    "ax.spines['right'].set_visible(False)\n",
    "\n",
    "# Leave bottom and left spines\n",
    "ax.spines['bottom'].set_visible(True)\n",
    "ax.spines['left'].set_visible(True)\n",
    "ax.spines['bottom'].set_linewidth(3)\n",
    "ax.spines['left'].set_linewidth(3)\n",
    "\n",
    "ax.tick_params(axis='both', which='major', labelsize=23, length=10, width=3, color='black')\n",
    "ax.tick_params(axis='both', which='minor', labelsize=23, length=10, width=3, color='black')\n",
    "\n",
    "# Adding labels and title\n",
    "plt.ylabel('Distance (cm)', size=30)\n",
    "plt.xlabel('')\n",
    "\n",
    "plt.tight_layout()\n",
    "# plt.savefig(\"./proc/distance_violin_plot.png\")\n",
    "plt.show()\n",
    "\n"
   ]
  },
  {
   "cell_type": "code",
   "execution_count": null,
   "metadata": {},
   "outputs": [],
   "source": [
    "raise ValueError()"
   ]
  },
  {
   "cell_type": "markdown",
   "metadata": {},
   "source": [
    "## Looking at cluster related stuff"
   ]
  },
  {
   "cell_type": "markdown",
   "metadata": {},
   "source": [
    "- Parsing velocity during relavent cluster"
   ]
  },
  {
   "cell_type": "code",
   "execution_count": null,
   "metadata": {},
   "outputs": [],
   "source": [
    "for col in export_cluster_exploded_TRIALS_AND_SPECTRAL_DF.columns:\n",
    "    print(col)"
   ]
  },
  {
   "cell_type": "code",
   "execution_count": null,
   "metadata": {},
   "outputs": [],
   "source": [
    "export_cluster_exploded_TRIALS_AND_SPECTRAL_DF[\"cluster_mean_trial_BLA-to-LH_granger_gamma\"]"
   ]
  },
  {
   "cell_type": "code",
   "execution_count": null,
   "metadata": {},
   "outputs": [],
   "source": []
  },
  {
   "cell_type": "code",
   "execution_count": null,
   "metadata": {},
   "outputs": [],
   "source": [
    "raise ValueError()"
   ]
  },
  {
   "cell_type": "markdown",
   "metadata": {},
   "source": [
    "- Code for verifying spectram"
   ]
  },
  {
   "cell_type": "code",
   "execution_count": null,
   "metadata": {},
   "outputs": [],
   "source": [
    "# low_freq = 0\n",
    "# high_freq = 51\n",
    "# current_frequencies = range(low_freq, high_freq)\n",
    "\n",
    "# # Iterating through each brain region\n",
    "# for col in cluster_mean_columns:\n",
    "#     if \"all_frequencies\" not in col:\n",
    "#         continue\n",
    "#     print(col)\n",
    "\n",
    "#     fig, ax = plt.subplots()\n",
    "#     plt.xlim(low_freq, high_freq-1) \n",
    "#     plt.xticks(np.arange(low_freq, high_freq-1, 5))\n",
    "\n",
    "#     stacked_df = cluster_exploded_TRIALS_AND_SPECTRAL_DF.groupby(\"trial_and_competitiveness_label\").agg({col: stack_arrays})\n",
    "#     stacked_df = stacked_df.reset_index()\n",
    "#     stacked_df = stacked_df[~stacked_df[\"trial_and_competitiveness_label\"].str.contains(\"tie\")]\n",
    "\n",
    "#     stacked_df[\"color\"] = stacked_df[\"trial_and_competitiveness_label\"].map(comp_id_to_color)\n",
    "    \n",
    "#     if \"power\" in col:\n",
    "#         # plt.ylim(0,0.01)\n",
    "#         # plt.yscale(\"log\")\n",
    "#         # plt.ylim((10**-3.5,10**-0.5))\n",
    "#         # plt.set_ylim(auto=True)\n",
    "#         plt.ylim()\n",
    "#         ax.set_yscale('log')\n",
    "#         # plt.ylim(0, max_value)\n",
    "        \n",
    "#     else:\n",
    "#         # pass\n",
    "#         plt.ylim(0, 0.8)\n",
    "    \n",
    "#     # Iterating through each trial type\n",
    "#     counter = 0\n",
    "#     for index, row in stacked_df.iloc[:100].iterrows():\n",
    "#         print(row[\"trial_and_competitiveness_label\"])\n",
    "#         print(row[col].shape)\n",
    "#         for trace in row[col]: \n",
    "#             plt.plot(current_frequencies, trace[low_freq: high_freq], color=row[\"color\"], alpha=0.5)\n",
    "#             counter += 1\n",
    "#             if counter >= 100:\n",
    "#                 break\n",
    "    \n",
    "#     if \"granger\" in col:\n",
    "#         title = \"{}\".format(col.replace(\"cluster_mean_trial_\", \"\").replace(\"cluster_mean_trial_and_post_\", \"\").replace(\"RMS_filtered_\", \"\").replace(\"all_frequencies_all_windows\", \"\").replace(\"power\", \"\").replace(\"granger\", \"\")).replace(\"coherence\", \"\").replace(\"_\", \" \").replace(\"  \", \" \").strip().replace(\" \", \" to \").strip()\n",
    "#     else:\n",
    "#         title = \"{}\".format(col.replace(\"cluster_mean_trial_\", \"\").replace(\"cluster_mean_trial_and_post_\", \"\").replace(\"RMS_filtered_\", \"\").replace(\"all_frequencies_all_windows\", \"\").replace(\"power\", \"\").replace(\"granger\", \"\")).replace(\"coherence\", \"\").replace(\"_\", \" \").replace(\"  \", \" \").strip()\n",
    "\n",
    "#     plt.title(title)\n",
    "#     plt.xlabel(\"Frequency (Hz)\")\n",
    "    \n",
    "#     if \"power\" in col:\n",
    "#         # plt.ylabel(\"Normalized Power (a.u.)\")\n",
    "#         output_dir = \"./proc/cluster_spectra_plots/power\"\n",
    "\n",
    "#     elif \"coherence\" in col:\n",
    "#         # plt.ylabel(\"Coherence\")\n",
    "#         output_dir = \"./proc/cluster_spectra_plots/coherence\"\n",
    "\n",
    "#     elif \"granger\" in col:\n",
    "#         # plt.ylabel(\"Granger's Causality\")\n",
    "#         output_dir = \"./proc/cluster_spectra_plots/granger\"\n",
    "    \n",
    "#     os.makedirs(output_dir, exist_ok=True)\n",
    "\n",
    "#     # plt.legend(fontsize=10)\n",
    "\n",
    "#     # Hide top and right borders\n",
    "#     ax.spines['top'].set_visible(False)\n",
    "#     ax.spines['right'].set_visible(False)\n",
    "\n",
    "#     # Leave bottom and left spines\n",
    "#     ax.spines['bottom'].set_visible(True)\n",
    "#     ax.spines['left'].set_visible(True)\n",
    "#     ax.spines['bottom'].set_linewidth(2)\n",
    "#     ax.spines['left'].set_linewidth(2)\n",
    "\n",
    "#     plt.tight_layout()    \n",
    "#     plt.show()\n",
    "#     break"
   ]
  },
  {
   "cell_type": "code",
   "execution_count": 101,
   "metadata": {},
   "outputs": [],
   "source": [
    "cluster_exploded_TRIALS_AND_SPECTRAL_DF.to_pickle(\"./proc/cluster_exploded_TRIALS_AND_SPECTRAL_DF.pkl\")"
   ]
  },
  {
   "cell_type": "markdown",
   "metadata": {},
   "source": [
    "# Plotting averages"
   ]
  },
  {
   "cell_type": "code",
   "execution_count": 102,
   "metadata": {},
   "outputs": [],
   "source": [
    "GROUPING = \"trial_and_competitiveness_label\""
   ]
  },
  {
   "cell_type": "code",
   "execution_count": 103,
   "metadata": {},
   "outputs": [],
   "source": [
    "theta_gamma_mean_columns = [col for col in cluster_exploded_TRIALS_AND_SPECTRAL_DF if \"cluster_mean\" in col and \"all_frequencies_all_windows\" not in col and (\"gamma\" in col or \"theta\" in col)]"
   ]
  },
  {
   "cell_type": "code",
   "execution_count": null,
   "metadata": {},
   "outputs": [],
   "source": [
    "theta_gamma_mean_columns"
   ]
  },
  {
   "cell_type": "code",
   "execution_count": null,
   "metadata": {},
   "outputs": [],
   "source": [
    "col"
   ]
  },
  {
   "cell_type": "code",
   "execution_count": 107,
   "metadata": {},
   "outputs": [],
   "source": [
    "# for col in theta_gamma_mean_columns:\n",
    "#     fig, ax = plt.subplots()\n",
    "#     mean_df = pd.DataFrame(cluster_exploded_TRIALS_AND_SPECTRAL_DF[[GROUPING, col]].groupby(GROUPING).mean()[col]).rename(columns={col: \"mean\"})\n",
    "#     sem_df = pd.DataFrame(cluster_exploded_TRIALS_AND_SPECTRAL_DF[[GROUPING, col]].groupby(GROUPING).agg(\"sem\")[col]).rename(columns={col: \"sem\"})\n",
    "#     merged_df = pd.merge(mean_df, sem_df, on=GROUPING).reset_index().sort_values([GROUPING])\n",
    "#     merged_df[\"measurement\"] = col\n",
    "#     for index, row in merged_df.iterrows():\n",
    "#         if \"tie\" in row[GROUPING]:\n",
    "#             continue\n",
    "#         plt.bar(\"\\n\".join(row[GROUPING].split(\"_\")).replace(\"competitive\", \"comp\"), row[\"mean\"], color=comp_id_to_color[row[GROUPING]])\n",
    "#         plt.errorbar(\"\\n\".join(row[GROUPING].split(\"_\")).replace(\"competitive\", \"comp\"), row[\"mean\"], yerr=row[\"sem\"], capsize=20, ecolor = \"black\")\n",
    "\n",
    "#     ax.tick_params(axis='x', rotation=90)\n",
    "#     brain_region = col.replace(\"cluster_mean_trial_\", \"\").replace(\"cluster_mean_trial_and_post\", \"\").replace(\"coherence\", \"\").replace(\"granger\", \"\").replace(\"power\", \"\").replace(\"__\", \"_\").replace(\"_\", \" \").strip()\n",
    "#     plt.title(brain_region.replace(\"gamma\", \"\").replace(\"theta\", \"\").strip())\n",
    "    \n",
    "#     if \"power\" in col:\n",
    "#         plt.ylim()\n",
    "#     else:\n",
    "#         plt.ylim(0, 0.8)\n",
    "\n",
    "\n",
    "#     plt.tight_layout()\n",
    "#     # plt.savefig(\"./proc/cluster_average_spectra/{}_averages.png\".format(col.replace(\"cluster_mean_trial_\", \"\")))\n",
    "#     plt.close()\n",
    "#     # plt.show()\n",
    "#     # for group in cluster_exploded_TRIALS_AND_SPECTRAL_DF[GROUPING].unique():\n",
    "#     #     current_df = cluster_exploded_TRIALS_AND_SPECTRAL_DF[cluster_exploded_TRIALS_AND_SPECTRAL_DF[GROUPING] == group]\n",
    "    "
   ]
  },
  {
   "cell_type": "code",
   "execution_count": null,
   "metadata": {},
   "outputs": [],
   "source": [
    "cluster_exploded_TRIALS_AND_SPECTRAL_DF[\"trial_and_competitiveness_label\"].unique()"
   ]
  },
  {
   "cell_type": "code",
   "execution_count": 112,
   "metadata": {},
   "outputs": [],
   "source": [
    "cluster_exploded_TRIALS_AND_SPECTRAL_DF[[\"trial_and_competitiveness_label\", \"current_subject\", \"recording\", \"video_name\"] + theta_gamma_mean_columns].to_excel(\"./proc/competitiveness_trials_and_spectral_mean.xlsx\")"
   ]
  },
  {
   "cell_type": "code",
   "execution_count": 113,
   "metadata": {},
   "outputs": [],
   "source": [
    "cluster_exploded_TRIALS_AND_SPECTRAL_DF[[\"trial_and_competitiveness_label\", \"current_subject\", \"recording\", \"video_name\"] + theta_gamma_mean_columns].to_csv(\"./proc/competitiveness_trials_and_spectral_mean.csv\")"
   ]
  },
  {
   "cell_type": "markdown",
   "metadata": {},
   "source": [
    "# Plotting power bar graphs"
   ]
  },
  {
   "cell_type": "code",
   "execution_count": 116,
   "metadata": {},
   "outputs": [],
   "source": [
    "    x_pos = np.arange(0,1,len(merged_df))"
   ]
  },
  {
   "cell_type": "code",
   "execution_count": null,
   "metadata": {},
   "outputs": [],
   "source": [
    "x_pos"
   ]
  },
  {
   "cell_type": "code",
   "execution_count": 180,
   "metadata": {},
   "outputs": [],
   "source": [
    "for col in theta_gamma_mean_columns:\n",
    "    if \"power\" not in col:\n",
    "        continue\n",
    "\n",
    "    fig, ax = plt.subplots(figsize=(8,4))\n",
    "    # plt.figure(figsize=(10,6))\n",
    "\n",
    "    mean_df = pd.DataFrame(cluster_exploded_TRIALS_AND_SPECTRAL_DF[[GROUPING, col]].groupby(GROUPING).mean()[col]).rename(columns={col: \"mean\"})\n",
    "    sem_df = pd.DataFrame(cluster_exploded_TRIALS_AND_SPECTRAL_DF[[GROUPING, col]].groupby(GROUPING).agg(\"sem\")[col]).rename(columns={col: \"sem\"})\n",
    "    merged_df = pd.merge(mean_df, sem_df, on=GROUPING).reset_index().sort_values([GROUPING])\n",
    "    merged_df[\"measurement\"] = col\n",
    "    x_pos = np.linspace(0,0.5,len(merged_df)) * 0.9\n",
    "    \n",
    "    for index, row in merged_df.sort_values(by=[\"trial_and_competitiveness_label\"]).iloc[[3,4,2,0,1]].reset_index().iterrows():\n",
    "        \n",
    "        plt.bar(x_pos[index], row[\"mean\"], color=comp_id_to_color[row[GROUPING]], width=0.5/len(merged_df))\n",
    "        plt.errorbar(x_pos[index], row[\"mean\"], yerr=row[\"sem\"], capsize=20, ecolor = \"black\", elinewidth=3, markeredgewidth=3)\n",
    "\n",
    "        # plt.bar(\"\\n\".join(row[GROUPING].split(\"_\")).replace(\"competitive\", \"comp\"), row[\"mean\"], color=comp_id_to_color[row[GROUPING]], width=0.5)\n",
    "        # plt.errorbar(\"\\n\".join(row[GROUPING].split(\"_\")).replace(\"competitive\", \"comp\"), row[\"mean\"], yerr=row[\"sem\"], capsize=20, ecolor = \"black\")\n",
    "\n",
    "    plt.tick_params(\n",
    "        axis='x',          # changes apply to the x-axis\n",
    "        which='both',      # both major and minor ticks are affected\n",
    "        bottom=False,      # ticks along the bottom edge are off\n",
    "        top=False,         # ticks along the top edge are off\n",
    "        labelbottom=False) # labels along the bottom edge are off\n",
    "\n",
    "    ax.tick_params(axis='x', rotation=90)\n",
    "    brain_region = col.replace(\"cluster_mean_trial_\", \"\").replace(\"cluster_mean_trial_and_post\", \"\").replace(\"coherence\", \"\").replace(\"granger\", \"\").replace(\"power\", \"\").replace(\"__\", \"_\").replace(\"_\", \" \").strip()\n",
    "    # plt.title(brain_region.replace(\"gamma\", \"\").replace(\"theta\", \"\").strip())\n",
    "    \n",
    "    if \"theta\" in col:\n",
    "        plt.ylim(0, 0.04)\n",
    "    elif \"gamma\" in col:\n",
    "        plt.ylim(0, 0.004)\n",
    "    else:\n",
    "        plt.ylim(0, 0.8)\n",
    "    ax.tick_params(length=10, width=4)\n",
    "    plt.ticklabel_format(style='sci', axis='y', scilimits=(0,0))\n",
    "    plt.yticks(fontsize=30)\n",
    "\n",
    "    # Hide top and right borders\n",
    "    ax.spines['top'].set_visible(False)\n",
    "    ax.spines['right'].set_visible(False)\n",
    "\n",
    "    # Leave bottom and left spines\n",
    "    ax.spines['bottom'].set_visible(True)\n",
    "    ax.spines['left'].set_visible(True)\n",
    "    ax.spines['bottom'].set_linewidth(4)\n",
    "    ax.spines['left'].set_linewidth(4)\n",
    "\n",
    "    plt.tight_layout()\n",
    "    plt.savefig(\"./proc/cluster_average_spectra/power/{}_averages.png\".format(col.replace(\"cluster_mean_trial_\", \"\")), transparent=True)\n",
    "    plt.close()\n",
    "    # plt.show()\n",
    "    # for group in cluster_exploded_TRIALS_AND_SPECTRAL_DF[GROUPING].unique():\n",
    "    #     current_df = cluster_exploded_TRIALS_AND_SPECTRAL_DF[cluster_exploded_TRIALS_AND_SPECTRAL_DF[GROUPING] == group]\n",
    "    "
   ]
  },
  {
   "cell_type": "code",
   "execution_count": null,
   "metadata": {},
   "outputs": [],
   "source": []
  },
  {
   "cell_type": "markdown",
   "metadata": {},
   "source": [
    "# Plotting coherence plots"
   ]
  },
  {
   "cell_type": "code",
   "execution_count": 236,
   "metadata": {},
   "outputs": [],
   "source": [
    "for col in theta_gamma_mean_columns:\n",
    "    if \"coherence\" not in col:\n",
    "        continue\n",
    "\n",
    "\n",
    "    fig, ax = plt.subplots(figsize=(8,4))\n",
    "    # plt.figure(figsize=(10,6))\n",
    "\n",
    "    mean_df = pd.DataFrame(cluster_exploded_TRIALS_AND_SPECTRAL_DF[[GROUPING, col]].groupby(GROUPING).mean()[col]).rename(columns={col: \"mean\"})\n",
    "    sem_df = pd.DataFrame(cluster_exploded_TRIALS_AND_SPECTRAL_DF[[GROUPING, col]].groupby(GROUPING).agg(\"sem\")[col]).rename(columns={col: \"sem\"})\n",
    "    merged_df = pd.merge(mean_df, sem_df, on=GROUPING).reset_index().sort_values([GROUPING])\n",
    "    merged_df[\"measurement\"] = col\n",
    "    x_pos = np.linspace(0,0.5,len(merged_df)) * 0.9\n",
    "    \n",
    "    for index, row in merged_df.sort_values(by=[\"trial_and_competitiveness_label\"]).iloc[[3,4,2,0,1]].reset_index().iterrows():\n",
    "        \n",
    "        plt.bar(x_pos[index], row[\"mean\"], color=comp_id_to_color[row[GROUPING]], width=0.5/len(merged_df))\n",
    "        plt.errorbar(x_pos[index], row[\"mean\"], yerr=row[\"sem\"], capsize=20, ecolor = \"black\", elinewidth=3, markeredgewidth=3)\n",
    "\n",
    "        # plt.bar(\"\\n\".join(row[GROUPING].split(\"_\")).replace(\"competitive\", \"comp\"), row[\"mean\"], color=comp_id_to_color[row[GROUPING]], width=0.5)\n",
    "        # plt.errorbar(\"\\n\".join(row[GROUPING].split(\"_\")).replace(\"competitive\", \"comp\"), row[\"mean\"], yerr=row[\"sem\"], capsize=20, ecolor = \"black\")\n",
    "\n",
    "    plt.tick_params(\n",
    "        axis='x',          # changes apply to the x-axis\n",
    "        which='both',      # both major and minor ticks are affected\n",
    "        bottom=False,      # ticks along the bottom edge are off\n",
    "        top=False,         # ticks along the top edge are off\n",
    "        labelbottom=False) # labels along the bottom edge are off\n",
    "\n",
    "    ax.tick_params(axis='x', rotation=90)\n",
    "    brain_region = col.replace(\"cluster_mean_trial_\", \"\").replace(\"cluster_mean_trial_and_post\", \"\").replace(\"coherence\", \"\").replace(\"granger\", \"\").replace(\"power\", \"\").replace(\"__\", \"_\").replace(\"_\", \" \").strip()\n",
    "    # plt.title(brain_region.replace(\"gamma\", \"\").replace(\"theta\", \"\").strip())\n",
    "    \n",
    "    if \"theta\" in col:\n",
    "        plt.ylim(0, 0.8)\n",
    "    elif \"gamma\" in col:\n",
    "        plt.ylim(0, 0.8)\n",
    "    else:\n",
    "        plt.ylim(0, 0.8)\n",
    "    ax.tick_params(length=10, width=4)\n",
    "    plt.yticks(fontsize=30)\n",
    "\n",
    "    # Hide top and right borders\n",
    "    ax.spines['top'].set_visible(False)\n",
    "    ax.spines['right'].set_visible(False)\n",
    "\n",
    "    # Leave bottom and left spines\n",
    "    ax.spines['bottom'].set_visible(True)\n",
    "    ax.spines['left'].set_visible(True)\n",
    "    ax.spines['bottom'].set_linewidth(4)\n",
    "    ax.spines['left'].set_linewidth(4)\n",
    "\n",
    "    plt.tight_layout()\n",
    "    plt.savefig(\"./proc/cluster_average_spectra/coherence/{}_averages.png\".format(col.replace(\"cluster_mean_trial_\", \"\")), transparent=True)\n",
    "    plt.close()\n",
    "    # plt.show()\n",
    "    # for group in cluster_exploded_TRIALS_AND_SPECTRAL_DF[GROUPING].unique():\n",
    "    #     current_df = cluster_exploded_TRIALS_AND_SPECTRAL_DF[cluster_exploded_TRIALS_AND_SPECTRAL_DF[GROUPING] == group]\n",
    "    "
   ]
  },
  {
   "cell_type": "markdown",
   "metadata": {},
   "source": [
    "# Plotting Granger averages"
   ]
  },
  {
   "cell_type": "code",
   "execution_count": 235,
   "metadata": {},
   "outputs": [],
   "source": [
    "for col in theta_gamma_mean_columns:\n",
    "    if \"granger\" not in col:\n",
    "        continue\n",
    "\n",
    "\n",
    "    fig, ax = plt.subplots(figsize=(8,4))\n",
    "    # plt.figure(figsize=(10,6))\n",
    "\n",
    "    mean_df = pd.DataFrame(cluster_exploded_TRIALS_AND_SPECTRAL_DF[[GROUPING, col]].groupby(GROUPING).mean()[col]).rename(columns={col: \"mean\"})\n",
    "    sem_df = pd.DataFrame(cluster_exploded_TRIALS_AND_SPECTRAL_DF[[GROUPING, col]].groupby(GROUPING).agg(\"sem\")[col]).rename(columns={col: \"sem\"})\n",
    "    merged_df = pd.merge(mean_df, sem_df, on=GROUPING).reset_index().sort_values([GROUPING])\n",
    "    merged_df[\"measurement\"] = col\n",
    "    x_pos = np.linspace(0,0.5,len(merged_df)) * 0.9\n",
    "    \n",
    "    for index, row in merged_df.sort_values(by=[\"trial_and_competitiveness_label\"]).iloc[[3,4,2,0,1]].reset_index().iterrows():\n",
    "        \n",
    "        plt.bar(x_pos[index], row[\"mean\"], color=comp_id_to_color[row[GROUPING]], width=0.5/len(merged_df))\n",
    "        plt.errorbar(x_pos[index], row[\"mean\"], yerr=row[\"sem\"], capsize=20, ecolor = \"black\", elinewidth=3, markeredgewidth=3)\n",
    "\n",
    "        # plt.bar(\"\\n\".join(row[GROUPING].split(\"_\")).replace(\"competitive\", \"comp\"), row[\"mean\"], color=comp_id_to_color[row[GROUPING]], width=0.5)\n",
    "        # plt.errorbar(\"\\n\".join(row[GROUPING].split(\"_\")).replace(\"competitive\", \"comp\"), row[\"mean\"], yerr=row[\"sem\"], capsize=20, ecolor = \"black\")\n",
    "\n",
    "    plt.tick_params(\n",
    "        axis='x',          # changes apply to the x-axis\n",
    "        which='both',      # both major and minor ticks are affected\n",
    "        bottom=False,      # ticks along the bottom edge are off\n",
    "        top=False,         # ticks along the top edge are off\n",
    "        labelbottom=False) # labels along the bottom edge are off\n",
    "\n",
    "    ax.tick_params(axis='x', rotation=90)\n",
    "    brain_region = col.replace(\"cluster_mean_trial_\", \"\").replace(\"cluster_mean_trial_and_post\", \"\").replace(\"coherence\", \"\").replace(\"granger\", \"\").replace(\"power\", \"\").replace(\"__\", \"_\").replace(\"_\", \" \").strip()\n",
    "    # plt.title(brain_region.replace(\"gamma\", \"\").replace(\"theta\", \"\").strip())\n",
    "    \n",
    "    if \"theta\" in col:\n",
    "        plt.ylim(0, 0.8)\n",
    "    elif \"gamma\" in col:\n",
    "        plt.ylim(0, 0.8)\n",
    "    else:\n",
    "        plt.ylim(0, 0.8)\n",
    "    ax.tick_params(length=10, width=4)\n",
    "    plt.yticks(fontsize=30)\n",
    "\n",
    "    # Hide top and right borders\n",
    "    ax.spines['top'].set_visible(False)\n",
    "    ax.spines['right'].set_visible(False)\n",
    "\n",
    "    # Leave bottom and left spines\n",
    "    ax.spines['bottom'].set_visible(True)\n",
    "    ax.spines['left'].set_visible(True)\n",
    "    ax.spines['bottom'].set_linewidth(4)\n",
    "    ax.spines['left'].set_linewidth(4)\n",
    "\n",
    "    plt.tight_layout()\n",
    "    plt.savefig(\"./proc/cluster_average_spectra/granger/{}_averages.png\".format(col.replace(\"cluster_mean_trial_\", \"\")), transparent=True)\n",
    "    plt.close()\n",
    "    # plt.show()\n",
    "    # for group in cluster_exploded_TRIALS_AND_SPECTRAL_DF[GROUPING].unique():\n",
    "    #     current_df = cluster_exploded_TRIALS_AND_SPECTRAL_DF[cluster_exploded_TRIALS_AND_SPECTRAL_DF[GROUPING] == group]\n",
    "    "
   ]
  },
  {
   "cell_type": "code",
   "execution_count": null,
   "metadata": {},
   "outputs": [],
   "source": []
  },
  {
   "cell_type": "code",
   "execution_count": null,
   "metadata": {},
   "outputs": [],
   "source": [
    "merged_df"
   ]
  },
  {
   "cell_type": "markdown",
   "metadata": {},
   "source": [
    "# Checking significance"
   ]
  },
  {
   "cell_type": "code",
   "execution_count": null,
   "metadata": {},
   "outputs": [],
   "source": [
    "all_significance_csv = []\n",
    "for file_path in glob.glob(\"./significance_output/emmeans_coherence/*csv\"):\n",
    "    current_df = pd.read_csv(file_path, index_col=0)\n",
    "    file_name_parts = os.path.basename(file_path).replace(\".csv\", \"\").replace(\"cluster_mean_trial_\", \"\").replace(\"_emmeans\", \"\").replace(\"_coherence_\", \" \").split(\" \")\n",
    "    \n",
    "    print(file_name_parts)\n",
    "    current_df[\"brain_region\"] = file_name_parts[0]\n",
    "    current_df[\"band\"] = file_name_parts[1]\n",
    "\n",
    "    all_significance_csv.append(current_df)"
   ]
  },
  {
   "cell_type": "code",
   "execution_count": 196,
   "metadata": {},
   "outputs": [],
   "source": [
    "all_significance_df = pd.concat(all_significance_csv)"
   ]
  },
  {
   "cell_type": "code",
   "execution_count": 198,
   "metadata": {},
   "outputs": [],
   "source": [
    "all_significance_df[\"p.value\"] = all_significance_df[\"p.value\"].astype(float)"
   ]
  },
  {
   "cell_type": "code",
   "execution_count": null,
   "metadata": {},
   "outputs": [],
   "source": [
    "all_significance_df[\"contrast\"].unique()"
   ]
  },
  {
   "cell_type": "code",
   "execution_count": 204,
   "metadata": {},
   "outputs": [],
   "source": [
    "good_contrasts = ['rewarded - win_competitive', 'rewarded - win_no_comp',\n",
    "       'win_competitive - win_no_comp',\n",
    "       'win_competitive - lose_competitive',\n",
    "       'win_no_comp - lose_no_comp', 'lose_competitive - lose_no_comp']"
   ]
  },
  {
   "cell_type": "code",
   "execution_count": null,
   "metadata": {},
   "outputs": [],
   "source": [
    "all_significance_df[(all_significance_df[\"p.value\"] <= 0.001) & (all_significance_df[\"contrast\"].isin(good_contrasts)) & (~all_significance_df[\"brain_region\"].str.contains(\"mPFC\"))].sort_values(by=[\"band\", \"brain_region\", \"contrast\"])"
   ]
  },
  {
   "cell_type": "code",
   "execution_count": null,
   "metadata": {},
   "outputs": [],
   "source": [
    "all_significance_csv[0]"
   ]
  },
  {
   "cell_type": "markdown",
   "metadata": {},
   "source": [
    "# OLD Stuff"
   ]
  },
  {
   "cell_type": "code",
   "execution_count": null,
   "metadata": {},
   "outputs": [],
   "source": [
    "granger_col = [col for col in cluster_exploded_TRIALS_AND_SPECTRAL_DF.columns if (\"theta\" in col or \"gamma\" in col) and \"granger\" in col and \"mean\" in col]"
   ]
  },
  {
   "cell_type": "code",
   "execution_count": null,
   "metadata": {},
   "outputs": [],
   "source": [
    "granger_col"
   ]
  },
  {
   "cell_type": "code",
   "execution_count": null,
   "metadata": {},
   "outputs": [],
   "source": [
    "for col in granger_col:\n",
    "    fig, ax = plt.subplots()\n",
    "    mean_df = pd.DataFrame(cluster_exploded_TRIALS_AND_SPECTRAL_DF[[GROUPING, col]].groupby(GROUPING).mean()[col]).rename(columns={col: \"mean\"})\n",
    "    sem_df = pd.DataFrame(cluster_exploded_TRIALS_AND_SPECTRAL_DF[[GROUPING, col]].groupby(GROUPING).agg(\"sem\")[col]).rename(columns={col: \"sem\"})\n",
    "    merged_df = pd.merge(mean_df, sem_df, on=GROUPING).reset_index().sort_values([GROUPING])\n",
    "    merged_df[\"measurement\"] = col\n",
    "    for index, row in merged_df.iterrows():\n",
    "        plt.bar(\"\\n\".join(row[GROUPING].split(\"_\")).replace(\"competitive\", \"comp\"), row[\"mean\"], color=comp_id_to_color[row[GROUPING]])\n",
    "        plt.errorbar(\"\\n\".join(row[GROUPING].split(\"_\")).replace(\"competitive\", \"comp\"), row[\"mean\"], yerr=row[\"sem\"], capsize=20, ecolor = \"black\")\n",
    "\n",
    "    ax.tick_params(axis='x', rotation=90)\n",
    "    brain_region = col.replace(\"cluster_mean_trial_and_post\", \"\").replace(\"coherence\", \"\").replace(\"__\", \"_\").replace(\"_\", \" \").strip()\n",
    "    plt.title(brain_region.replace(\"gamma\", \"\").replace(\"theta\", \"\").strip())\n",
    "    plt.ylim(0, 0.6)\n",
    "    plt.tight_layout()\n",
    "    plt.savefig(\"./proc/cluster_spectra_plots/mean_granger/{} granger.png\".format(brain_region))\n",
    "    # for group in cluster_exploded_TRIALS_AND_SPECTRAL_DF[GROUPING].unique():\n",
    "    #     current_df = cluster_exploded_TRIALS_AND_SPECTRAL_DF[cluster_exploded_TRIALS_AND_SPECTRAL_DF[GROUPING] == group]\n",
    "    "
   ]
  },
  {
   "cell_type": "code",
   "execution_count": null,
   "metadata": {},
   "outputs": [],
   "source": [
    "raise ValueError()"
   ]
  },
  {
   "cell_type": "markdown",
   "metadata": {},
   "source": [
    "# LDA"
   ]
  },
  {
   "cell_type": "code",
   "execution_count": null,
   "metadata": {},
   "outputs": [],
   "source": [
    "power_columns = [col for col in TRIALS_AND_SPECTRAL_DF if (\"gamma\" in col or \"theta\" in col) and (\"trial_and_post\" in col or \"cluster\" in col) and \"phase\" not in col and \"band\" not in col or \"cluster_filtered\" in col] "
   ]
  },
  {
   "cell_type": "code",
   "execution_count": null,
   "metadata": {},
   "outputs": [],
   "source": [
    "power_columns"
   ]
  },
  {
   "cell_type": "markdown",
   "metadata": {},
   "source": [
    "- Making a separate row for each cluster"
   ]
  },
  {
   "cell_type": "code",
   "execution_count": null,
   "metadata": {},
   "outputs": [],
   "source": [
    "cluster_exploded_TRIALS_AND_SPECTRAL_DF = TRIALS_AND_SPECTRAL_DF[to_keep_columns + power_columns].explode([\"cluster_filtered_power_timestamps\"])"
   ]
  },
  {
   "cell_type": "code",
   "execution_count": null,
   "metadata": {},
   "outputs": [],
   "source": [
    "cluster_exploded_TRIALS_AND_SPECTRAL_DF[\"cluster_filtered_granger_timestamps\"]"
   ]
  },
  {
   "cell_type": "markdown",
   "metadata": {},
   "source": [
    "- Making independent columns for cluster name and indexes"
   ]
  },
  {
   "cell_type": "code",
   "execution_count": null,
   "metadata": {},
   "outputs": [],
   "source": [
    "cluster_exploded_TRIALS_AND_SPECTRAL_DF[\"power_cluster_id\"] = cluster_exploded_TRIALS_AND_SPECTRAL_DF[\"cluster_filtered_power_timestamps\"].apply(lambda x: x[0])\n",
    "cluster_exploded_TRIALS_AND_SPECTRAL_DF[\"power_cluster_indexes\"] = cluster_exploded_TRIALS_AND_SPECTRAL_DF[\"cluster_filtered_power_timestamps\"].apply(lambda x: x[1])"
   ]
  },
  {
   "cell_type": "code",
   "execution_count": null,
   "metadata": {},
   "outputs": [],
   "source": [
    "cluster_exploded_TRIALS_AND_SPECTRAL_DF"
   ]
  },
  {
   "cell_type": "code",
   "execution_count": null,
   "metadata": {},
   "outputs": [],
   "source": [
    "power_columns = [col for col in cluster_exploded_TRIALS_AND_SPECTRAL_DF if \"granger\" in col and \"trial_and_post\" in col and \"timestamps\" not in col]\n",
    "\n",
    "\n",
    "power_columns = [col for col in TRIALS_AND_SPECTRAL_DF if (\"gamma\" in col or \"theta\" in col) and (\"trial_and_post\" in col or \"cluster\" in col) and \"phase\" not in col and \"band\" not in col] "
   ]
  },
  {
   "cell_type": "code",
   "execution_count": null,
   "metadata": {},
   "outputs": [],
   "source": [
    "power_columns"
   ]
  },
  {
   "cell_type": "markdown",
   "metadata": {},
   "source": [
    "- Getting the timestamps of all the clusters"
   ]
  },
  {
   "cell_type": "code",
   "execution_count": null,
   "metadata": {},
   "outputs": [],
   "source": [
    "for col in power_columns:\n",
    "    print(col)\n",
    "    cluster_exploded_TRIALS_AND_SPECTRAL_DF[\"cluster_all_{}\".format(col)] = cluster_exploded_TRIALS_AND_SPECTRAL_DF.apply(lambda x: x[col][x[\"power_cluster_indexes\"]], axis=1)"
   ]
  },
  {
   "cell_type": "code",
   "execution_count": null,
   "metadata": {},
   "outputs": [],
   "source": [
    "cluster_all_columns = [col for col in cluster_exploded_TRIALS_AND_SPECTRAL_DF if \"cluster_all\" in col]"
   ]
  },
  {
   "cell_type": "code",
   "execution_count": null,
   "metadata": {},
   "outputs": [],
   "source": [
    "cluster_all_columns"
   ]
  },
  {
   "cell_type": "markdown",
   "metadata": {},
   "source": [
    "- Aggregating all the values within a given trial"
   ]
  },
  {
   "cell_type": "code",
   "execution_count": null,
   "metadata": {},
   "outputs": [],
   "source": [
    "for col in cluster_all_columns:\n",
    "    updated_column = col.replace(\"cluster_all\", \"cluster_mean\")\n",
    "    if \"gamma\" in col or \"theta\" in col:\n",
    "        cluster_exploded_TRIALS_AND_SPECTRAL_DF[updated_column] = cluster_exploded_TRIALS_AND_SPECTRAL_DF.apply(lambda x: np.nanmean(x[col]), axis=1)\n",
    "    else:\n",
    "        cluster_exploded_TRIALS_AND_SPECTRAL_DF[updated_column] = cluster_exploded_TRIALS_AND_SPECTRAL_DF.apply(lambda x: np.nanmean(x[col], axis=0), axis=1)\n",
    "    print(updated_column)\n",
    "    print(cluster_exploded_TRIALS_AND_SPECTRAL_DF[updated_column].iloc[0])\n",
    "        "
   ]
  },
  {
   "cell_type": "code",
   "execution_count": null,
   "metadata": {},
   "outputs": [],
   "source": [
    "cluster_mean_columns = [col for col in cluster_exploded_TRIALS_AND_SPECTRAL_DF if \"cluster_mean\" in col]"
   ]
  },
  {
   "cell_type": "code",
   "execution_count": null,
   "metadata": {},
   "outputs": [],
   "source": [
    "cluster_mean_columns = [col for col in cluster_mean_columns if \"mPFC\" in col and \"power\" not in col and \"coherence\" in col]"
   ]
  },
  {
   "cell_type": "code",
   "execution_count": null,
   "metadata": {},
   "outputs": [],
   "source": [
    "cluster_mean_columns"
   ]
  },
  {
   "cell_type": "code",
   "execution_count": null,
   "metadata": {},
   "outputs": [],
   "source": [
    "cluster_exploded_TRIALS_AND_SPECTRAL_DF = cluster_exploded_TRIALS_AND_SPECTRAL_DF[~cluster_exploded_TRIALS_AND_SPECTRAL_DF[\"power_cluster_id\"].str.contains(\"tie\")]"
   ]
  },
  {
   "cell_type": "code",
   "execution_count": null,
   "metadata": {},
   "outputs": [],
   "source": [
    "# cluster_exploded_TRIALS_AND_SPECTRAL_DF = cluster_exploded_TRIALS_AND_SPECTRAL_DF[cluster_exploded_TRIALS_AND_SPECTRAL_DF[\"power_cluster_id\"].isin([\"lose_no_comp\", \"lose_competitive\"])].reset_index(drop=True)"
   ]
  },
  {
   "cell_type": "code",
   "execution_count": null,
   "metadata": {},
   "outputs": [],
   "source": [
    "cluster_exploded_TRIALS_AND_SPECTRAL_DF[\"power_cluster_id\"]"
   ]
  },
  {
   "cell_type": "code",
   "execution_count": null,
   "metadata": {},
   "outputs": [],
   "source": [
    "# GROUPING = \"competition_closeness\"\n",
    "\n",
    "\n",
    "GROUPING = \"trial_label\"\t\n",
    "GROUPING = \"competition_closeness\"\n",
    "GROUPING = \"power_cluster_id\"\n",
    "\n",
    "\n",
    "\n"
   ]
  },
  {
   "cell_type": "code",
   "execution_count": null,
   "metadata": {},
   "outputs": [],
   "source": [
    "cluster_exploded_TRIALS_AND_SPECTRAL_DF[\"factorized_{}\".format(GROUPING)], unique = pd.factorize(cluster_exploded_TRIALS_AND_SPECTRAL_DF[GROUPING])\n"
   ]
  },
  {
   "cell_type": "code",
   "execution_count": null,
   "metadata": {},
   "outputs": [],
   "source": [
    "cluster_exploded_TRIALS_AND_SPECTRAL_DF = cluster_exploded_TRIALS_AND_SPECTRAL_DF.dropna(subset=cluster_mean_columns)"
   ]
  },
  {
   "cell_type": "code",
   "execution_count": null,
   "metadata": {},
   "outputs": [],
   "source": [
    "network_array = cluster_exploded_TRIALS_AND_SPECTRAL_DF[cluster_mean_columns].values"
   ]
  },
  {
   "cell_type": "code",
   "execution_count": null,
   "metadata": {},
   "outputs": [],
   "source": [
    "cluster_exploded_TRIALS_AND_SPECTRAL_DF[GROUPING].unique()"
   ]
  },
  {
   "cell_type": "markdown",
   "metadata": {},
   "source": [
    "# Reducing Dimensions"
   ]
  },
  {
   "cell_type": "code",
   "execution_count": null,
   "metadata": {},
   "outputs": [],
   "source": [
    "network_array"
   ]
  },
  {
   "cell_type": "code",
   "execution_count": null,
   "metadata": {},
   "outputs": [],
   "source": [
    "from sklearn.preprocessing import StandardScaler\n",
    "from sklearn.discriminant_analysis import LinearDiscriminantAnalysis\n",
    "from sklearn.decomposition import PCA\n",
    "from umap import UMAP\n"
   ]
  },
  {
   "cell_type": "code",
   "execution_count": null,
   "metadata": {},
   "outputs": [],
   "source": [
    "scaler = StandardScaler()\n",
    "reduced_dimension_network_array = scaler.fit_transform(network_array)\n",
    "\n",
    "\n",
    "\n"
   ]
  },
  {
   "cell_type": "code",
   "execution_count": null,
   "metadata": {},
   "outputs": [],
   "source": [
    "# lda = LinearDiscriminantAnalysis()\n",
    "# lda = LinearDiscriminantAnalysis(n_components=2)\n",
    "# reduced_dimension_network_array = lda.fit_transform(reduced_dimension_network_array, cluster_exploded_TRIALS_AND_SPECTRAL_DF[GROUPING])\n",
    "# reduced_dimension_network_array = lda.fit_transform(reduced_dimension_network_array)"
   ]
  },
  {
   "cell_type": "code",
   "execution_count": null,
   "metadata": {},
   "outputs": [],
   "source": [
    "# lda = PCA(n_components=2)\n",
    "# reduced_dimension_network_array = lda.fit_transform(reduced_dimension_network_array)"
   ]
  },
  {
   "cell_type": "code",
   "execution_count": null,
   "metadata": {},
   "outputs": [],
   "source": [
    "reduced_dimension_network_array = UMAP(\n",
    "    n_components=2,\n",
    "    random_state=42,\n",
    ").fit_transform(network_array, y=cluster_exploded_TRIALS_AND_SPECTRAL_DF[\"factorized_{}\".format(GROUPING)].values)\n"
   ]
  },
  {
   "cell_type": "code",
   "execution_count": null,
   "metadata": {},
   "outputs": [],
   "source": []
  },
  {
   "cell_type": "code",
   "execution_count": null,
   "metadata": {},
   "outputs": [],
   "source": [
    "reduced_dimension_network_array.shape"
   ]
  },
  {
   "cell_type": "code",
   "execution_count": null,
   "metadata": {},
   "outputs": [],
   "source": [
    "# reduced_dimension_network_array = lda.fit_transform(reduced_dimension_network_array, cluster_exploded_TRIALS_AND_SPECTRAL_DF[GROUPING])\n"
   ]
  },
  {
   "cell_type": "code",
   "execution_count": null,
   "metadata": {},
   "outputs": [],
   "source": []
  },
  {
   "cell_type": "code",
   "execution_count": null,
   "metadata": {},
   "outputs": [],
   "source": []
  },
  {
   "cell_type": "code",
   "execution_count": null,
   "metadata": {},
   "outputs": [],
   "source": [
    "reduced_dimension_network_array.shape"
   ]
  },
  {
   "cell_type": "code",
   "execution_count": null,
   "metadata": {},
   "outputs": [],
   "source": [
    "GROUPING = \"current_subject\"\n",
    "# GROUPING = \"video_name\"\n",
    "# GROUPING = \"power_cluster_id\"\n"
   ]
  },
  {
   "cell_type": "code",
   "execution_count": null,
   "metadata": {},
   "outputs": [],
   "source": [
    "reduced_dimension_network_array"
   ]
  },
  {
   "cell_type": "code",
   "execution_count": null,
   "metadata": {},
   "outputs": [],
   "source": [
    "plt.figure(figsize=(5,5))\n",
    "for group in cluster_exploded_TRIALS_AND_SPECTRAL_DF[GROUPING].unique():\n",
    "    current_df = cluster_exploded_TRIALS_AND_SPECTRAL_DF[cluster_exploded_TRIALS_AND_SPECTRAL_DF[GROUPING] == group]\n",
    "    print(current_df.index)\n",
    "    plot = plt.scatter(reduced_dimension_network_array[current_df.index,0], reduced_dimension_network_array[current_df.index,1], label=group, alpha=0.8)#, c=comp_id_to_color[group], )\n",
    "    \n",
    "plt.title(\"LDA of LFP features\", fontsize=20)\n",
    "plt.xlabel(\"LD1\", fontsize=20)\n",
    "plt.ylabel(\"LD2\", fontsize=20)\n",
    "plt.xticks(fontsize=15)\n",
    "plt.yticks(fontsize=15)\n",
    "# plt.legend()\n",
    "plt.tight_layout()\n",
    "\n",
    "os.makedirs(\"./proc/network\", exist_ok=True)\n",
    "\n",
    "plt.savefig(\"./proc/network/rf_LDA_outcome_labeled.png\")\n",
    "plt.savefig(\"./proc/network/rf_LDA_outcome_labeled.eps\")\n",
    "plt.show()"
   ]
  },
  {
   "cell_type": "code",
   "execution_count": null,
   "metadata": {},
   "outputs": [],
   "source": [
    "plt.figure(figsize=(5,5))\n",
    "for group in cluster_exploded_TRIALS_AND_SPECTRAL_DF[GROUPING].unique():\n",
    "    current_df = cluster_exploded_TRIALS_AND_SPECTRAL_DF[cluster_exploded_TRIALS_AND_SPECTRAL_DF[GROUPING] == group]\n",
    "    print(current_df.index)\n",
    "    plot = plt.hist(reduced_dimension_network_array[current_df.index,0], color=comp_id_to_color[group], label=group, alpha=0.8)\n",
    "    \n",
    "plt.title(\"LDA of LFP features\", fontsize=20)\n",
    "plt.xlabel(\"LD1\", fontsize=20)\n",
    "plt.xticks(fontsize=15)\n",
    "plt.yticks(fontsize=15)\n",
    "# plt.legend()\n",
    "plt.tight_layout()\n",
    "\n",
    "os.makedirs(\"./proc/network\", exist_ok=True)\n",
    "\n",
    "plt.savefig(\"./proc/network/rf_LDA_outcome_labeled.png\")\n",
    "plt.savefig(\"./proc/network/rf_LDA_outcome_labeled.eps\")\n",
    "plt.show()"
   ]
  },
  {
   "cell_type": "code",
   "execution_count": null,
   "metadata": {},
   "outputs": [],
   "source": [
    "raise ValueError()"
   ]
  },
  {
   "cell_type": "code",
   "execution_count": null,
   "metadata": {},
   "outputs": [],
   "source": [
    "plt.figure(figsize=(5,5))\n",
    "for group in cluster_exploded_TRIALS_AND_SPECTRAL_DF[\"current_subject\"].unique():\n",
    "    current_df = cluster_exploded_TRIALS_AND_SPECTRAL_DF[cluster_exploded_TRIALS_AND_SPECTRAL_DF[\"current_subject\"] == group]\n",
    "    \n",
    "    plot = plt.scatter(reduced_dimension_network_array[current_df.index,0], reduced_dimension_network_array[current_df.index,1], label=group)\n",
    "\n",
    "    \n",
    "plt.title(\"LDA of LFP features\", fontsize=20)\n",
    "plt.xlabel(\"LD1\", fontsize=20)\n",
    "plt.ylabel(\"LD2\", fontsize=20)\n",
    "plt.xticks(fontsize=15)\n",
    "plt.yticks(fontsize=15)\n",
    "plt.legend()\n",
    "plt.tight_layout()\n",
    "plt.savefig(\"./proc/network/rf_LDA_subject_labeled.png\")\n",
    "plt.savefig(\"./proc/network/rf_LDA_subject_labeled.eps\")\n",
    "plt.show()"
   ]
  },
  {
   "cell_type": "code",
   "execution_count": null,
   "metadata": {},
   "outputs": [],
   "source": [
    "# Get the coefficients (loadings) of each feature\n",
    "loadings = lda.scalings_\n",
    "\n",
    "# Calculate importance for each feature for each discriminant\n",
    "# The importance is calculated as the square of each coefficient\n",
    "importance = np.square(loadings)\n",
    "\n"
   ]
  },
  {
   "cell_type": "code",
   "execution_count": null,
   "metadata": {},
   "outputs": [],
   "source": [
    "lda_importance = pd.DataFrame(importance)\n",
    "lda_importance[\"feature\"] = feature_columns"
   ]
  },
  {
   "cell_type": "code",
   "execution_count": null,
   "metadata": {},
   "outputs": [],
   "source": [
    "important_features = []"
   ]
  },
  {
   "cell_type": "code",
   "execution_count": null,
   "metadata": {},
   "outputs": [],
   "source": [
    "lda_importance.sort_values(0, ascending=False)"
   ]
  },
  {
   "cell_type": "code",
   "execution_count": null,
   "metadata": {},
   "outputs": [],
   "source": [
    "important_features += lda_importance.sort_values(0, ascending=False).head(n=4)[\"feature\"].to_list()"
   ]
  },
  {
   "cell_type": "code",
   "execution_count": null,
   "metadata": {},
   "outputs": [],
   "source": [
    "important_features += lda_importance.sort_values(1, ascending=False).head(n=4)[\"feature\"].to_list()"
   ]
  },
  {
   "cell_type": "code",
   "execution_count": null,
   "metadata": {},
   "outputs": [],
   "source": [
    "filtered_lda_importance = lda_importance[lda_importance[\"feature\"].isin(important_features)]"
   ]
  },
  {
   "cell_type": "code",
   "execution_count": null,
   "metadata": {},
   "outputs": [],
   "source": [
    "filtered_lda_importance = filtered_lda_importance.sort_values(0, ascending=False)"
   ]
  },
  {
   "cell_type": "code",
   "execution_count": null,
   "metadata": {},
   "outputs": [],
   "source": [
    "filtered_lda_importance[\"feature\"] = filtered_lda_importance[\"feature\"].apply(lambda x: x.replace(\"_band_\", \"\\n\").replace(\"_\", \" \"))"
   ]
  },
  {
   "cell_type": "code",
   "execution_count": null,
   "metadata": {},
   "outputs": [],
   "source": [
    "# Sample data\n",
    "list1 = filtered_lda_importance[0]\n",
    "list2 = filtered_lda_importance[1]\n",
    "indices = range(len(list1))\n",
    "\n",
    "# Creating the plot\n",
    "fig, ax1 = plt.subplots(figsize=(6,6))\n",
    "    # fig, ax = plt.subplots(figsize=(6,6))\n",
    "\n",
    "\n",
    "# Plotting the first list\n",
    "color1 = '#15616F'\n",
    "# FFAF00; teal #15616F\n",
    "ax1.bar(indices, list1, width=0.4, align='center', color=color1)\n",
    "# ax1.set_xlabel('Index')\n",
    "ax1.set_ylabel('LD1 Scalings', color=color1, fontsize=20)\n",
    "ax1.tick_params(axis='y', labelcolor=color1, rotation=90)\n",
    "\n",
    "# Creating a second Y-axis for the second list\n",
    "ax2 = ax1.twinx()  \n",
    "color2 = 'tab:red'\n",
    "ax2.bar([i + 0.4 for i in indices], list2, width=0.4, align='center', color=color2)\n",
    "ax2.set_ylabel('LD2 Scalings', color=color2, fontsize=20)\n",
    "ax2.tick_params(axis='y', labelcolor=color2, rotation=90)\n",
    "\n",
    "# Adjusting the X-axis to show labels correctly\n",
    "ax1.set_xticks(indices, filtered_lda_importance['feature'].values, rotation = 90, fontsize=15)\n",
    "# xticks(indices, filtered_lda_importance['feature'].values, rotation = 90)\n",
    "# plt.xticks(labels=filtered_lda_importance['feature'])\n",
    "\n",
    "plt.title('LDA feature importance', fontsize=20)\n",
    "plt.tight_layout()\n",
    "plt.savefig(\"./proc/network/lda_feature_importance.png\")\n",
    "plt.savefig(\"./proc/network/lda_feature_importance.eps\")\n",
    "\n",
    "plt.show()"
   ]
  },
  {
   "cell_type": "code",
   "execution_count": null,
   "metadata": {},
   "outputs": [],
   "source": []
  },
  {
   "cell_type": "code",
   "execution_count": null,
   "metadata": {},
   "outputs": [],
   "source": []
  },
  {
   "cell_type": "code",
   "execution_count": null,
   "metadata": {},
   "outputs": [],
   "source": [
    "raise ValueError()"
   ]
  },
  {
   "cell_type": "markdown",
   "metadata": {},
   "source": [
    "- Grouping all the rows with the same video and subject together"
   ]
  },
  {
   "cell_type": "code",
   "execution_count": null,
   "metadata": {
    "tags": []
   },
   "outputs": [],
   "source": [
    "list(TRIALS_AND_SPECTRAL_DF.columns)"
   ]
  },
  {
   "cell_type": "code",
   "execution_count": null,
   "metadata": {
    "tags": []
   },
   "outputs": [],
   "source": [
    "explode_columns"
   ]
  },
  {
   "cell_type": "code",
   "execution_count": null,
   "metadata": {
    "tags": []
   },
   "outputs": [],
   "source": [
    "other_explode_columns = [\"tone_stop_frame\",\n",
    "                         \"condition\",\n",
    "                         \"competition_closeness\",\n",
    "                         \"notes\",\n",
    "                         \"10s_before_tone_frame\",\n",
    "                         \"10s_after_tone_frame\",\n",
    "                        'cluster_index_ranges_dict',\n",
    " 'cluster_times',\n",
    " 'cluster_times_ranges_dict',\n",
    " 'cluster_timestamps_ranges_dict',\n",
    " 'trial_cluster_times_ranges_dict',\n",
    " 'trial_cluster_timestamps_ranges_dict']"
   ]
  },
  {
   "cell_type": "code",
   "execution_count": null,
   "metadata": {
    "tags": []
   },
   "outputs": [],
   "source": [
    "filter_columns"
   ]
  },
  {
   "cell_type": "code",
   "execution_count": null,
   "metadata": {
    "tags": []
   },
   "outputs": [],
   "source": [
    "# Define columns to be transformed into numpy arrays\n",
    "\n",
    "\n",
    "# Define aggregation dictionary\n",
    "agg_dict = {col: list for col in explode_columns + other_explode_columns if col not in groupby_columns and col != \"tone_start_frame\"}\n",
    "\n",
    "agg_dict.update({col: 'first' for col in filter_columns + [\"tone_start_frame\"] if col not in groupby_columns and col not in other_explode_columns})\n",
    "\n",
    "# Apply groupby and aggregation\n",
    "video_TRIALS_AND_SPECTRAL_DF = TRIALS_AND_SPECTRAL_DF.groupby([\"video_name\", \"current_subject\"]).agg(agg_dict).reset_index()\n"
   ]
  },
  {
   "cell_type": "code",
   "execution_count": null,
   "metadata": {
    "tags": []
   },
   "outputs": [],
   "source": [
    "video_TRIALS_AND_SPECTRAL_DF.columns"
   ]
  },
  {
   "cell_type": "code",
   "execution_count": null,
   "metadata": {
    "tags": []
   },
   "outputs": [],
   "source": [
    "video_TRIALS_AND_SPECTRAL_DF.head()"
   ]
  },
  {
   "cell_type": "markdown",
   "metadata": {},
   "source": [
    "- Combining all the dictionaries together"
   ]
  },
  {
   "cell_type": "code",
   "execution_count": null,
   "metadata": {},
   "outputs": [],
   "source": []
  },
  {
   "cell_type": "code",
   "execution_count": null,
   "metadata": {
    "tags": []
   },
   "outputs": [],
   "source": [
    "for col in [_ for _ in video_TRIALS_AND_SPECTRAL_DF if \"dict\" in _]:\n",
    "    video_TRIALS_AND_SPECTRAL_DF[col] = video_TRIALS_AND_SPECTRAL_DF[col].apply(lambda x: combine_dicts(x))"
   ]
  },
  {
   "cell_type": "code",
   "execution_count": null,
   "metadata": {
    "tags": []
   },
   "outputs": [],
   "source": [
    "video_TRIALS_AND_SPECTRAL_DF.head()"
   ]
  },
  {
   "cell_type": "code",
   "execution_count": null,
   "metadata": {
    "tags": []
   },
   "outputs": [],
   "source": [
    "video_TRIALS_AND_SPECTRAL_DF.to_pickle(\"./proc/{}_cluster_ranges.pkl\".format(OUTPUT_PREFIX))"
   ]
  },
  {
   "cell_type": "code",
   "execution_count": null,
   "metadata": {},
   "outputs": [],
   "source": []
  },
  {
   "cell_type": "markdown",
   "metadata": {},
   "source": [
    "# Filtering out the SLEAP posed for during trials"
   ]
  },
  {
   "cell_type": "code",
   "execution_count": null,
   "metadata": {},
   "outputs": [],
   "source": [
    "raise ValueError()"
   ]
  },
  {
   "cell_type": "code",
   "execution_count": null,
   "metadata": {},
   "outputs": [],
   "source": [
    "TRIALS_AND_SPECTRAL_DF"
   ]
  },
  {
   "cell_type": "code",
   "execution_count": null,
   "metadata": {},
   "outputs": [],
   "source": []
  },
  {
   "cell_type": "code",
   "execution_count": null,
   "metadata": {},
   "outputs": [],
   "source": []
  },
  {
   "cell_type": "code",
   "execution_count": null,
   "metadata": {},
   "outputs": [],
   "source": []
  },
  {
   "cell_type": "code",
   "execution_count": null,
   "metadata": {},
   "outputs": [],
   "source": []
  },
  {
   "cell_type": "code",
   "execution_count": null,
   "metadata": {},
   "outputs": [],
   "source": []
  },
  {
   "cell_type": "code",
   "execution_count": null,
   "metadata": {
    "tags": []
   },
   "outputs": [],
   "source": [
    "TRIALS_AND_SPECTRAL_DF[\"video_frame\"] = TRIALS_AND_SPECTRAL_DF[\"video_timestamps\"].apply(lambda x: np.array(list(range(len(x)))) + 1)"
   ]
  },
  {
   "cell_type": "code",
   "execution_count": null,
   "metadata": {
    "tags": []
   },
   "outputs": [],
   "source": [
    "TRIALS_AND_SPECTRAL_DF[\"video_frame\"].head().apply(lambda x: x.shape)"
   ]
  },
  {
   "cell_type": "code",
   "execution_count": null,
   "metadata": {},
   "outputs": [],
   "source": [
    "['subject_thorax_to_agent_thorax',\n",
    " 'nose_to_reward_port_sum',\n",
    " 'nose_to_reward_port_diff',\n",
    " 'thorax_velocity_sum',\n",
    " 'thorax_velocity_diff',\n",
    " 'to_reward_port_angle_sum',\n",
    " 'to_reward_port_angle_diff',\n",
    " 'subject_nose_to_reward_port',\n",
    " 'subject_thorax_velocity',\n",
    " 'subject_to_reward_port_angle',\n",
    " 'agent_nose_to_reward_port',\n",
    " 'agent_thorax_velocity',\n",
    " 'agent_to_reward_port_angle',\n",
    " 'closebool_subject_nose_to_reward_port',\n",
    " 'closebool_agent_nose_to_reward_port',\n",
    " 'movingbool_subject_thorax_velocity',\n",
    " 'movingbool_agent_thorax_velocity',\n",
    " 'manual_cluster_id',\n",
    " 'standard_embedding_x',\n",
    " 'standard_embedding_y',\n",
    " 'kmeans_cluster',\n",
    " 'subject_locations',\n",
    " 'agent_locations',\n",
    " 'subject_thorax',\n",
    " 'subject_nose',\n",
    " 'subject_tail_base',\n",
    " 'agent_thorax',\n",
    " 'agent_nose',\n",
    " 'agent_tail_base']"
   ]
  },
  {
   "cell_type": "code",
   "execution_count": null,
   "metadata": {
    "tags": []
   },
   "outputs": [],
   "source": [
    "# sleap_columns = [col for col in TRIALS_AND_SPECTRAL_DF.columns if \"locations\" in col or \"velocity\" in col or \"to_reward_port\" in col or \"video_frame\" in col]"
   ]
  },
  {
   "cell_type": "code",
   "execution_count": null,
   "metadata": {
    "tags": []
   },
   "outputs": [],
   "source": [
    "sleap_columns = [col for col in TRIALS_AND_SPECTRAL_DF.columns if (\"thorax\" in col or \"nose\" in col or \"reward_port\" in col or \"standard_embedding\" in col or \"cluster\" in col or \"frame_index\" in col or \"locations\" in col or \"tailbase\" in col) and \"timestamp\" not in col]\n"
   ]
  },
  {
   "cell_type": "code",
   "execution_count": null,
   "metadata": {
    "tags": []
   },
   "outputs": [],
   "source": [
    "sleap_columns"
   ]
  },
  {
   "cell_type": "code",
   "execution_count": null,
   "metadata": {
    "tags": []
   },
   "outputs": [],
   "source": [
    "for col in sleap_columns:\n",
    "    print(col)\n",
    "    print(TRIALS_AND_SPECTRAL_DF[col].apply(lambda x: x.shape).iloc[0])"
   ]
  },
  {
   "cell_type": "code",
   "execution_count": null,
   "metadata": {
    "tags": []
   },
   "outputs": [],
   "source": [
    "for col in sorted(sleap_columns):\n",
    "    updated_item_col = \"trial_and_post_{}\".format(col)\n",
    "    print(updated_item_col)\n",
    "    updated_timestamp_col = \"trial_and_post_video_timestamps\"\n",
    "    TRIALS_AND_SPECTRAL_DF[updated_item_col] = TRIALS_AND_SPECTRAL_DF.apply(lambda x: utilities.helper.filter_by_timestamp_range(start=x[\"tone_start_timestamp\"], stop=x[\"post_trial_end_timestamp\"], timestamps=x[\"cluster_timestamp\"], items=x[col])[1], axis=1)\n",
    "\n",
    "TRIALS_AND_SPECTRAL_DF[updated_timestamp_col] = TRIALS_AND_SPECTRAL_DF.apply(lambda x: utilities.helper.filter_by_timestamp_range(start=x[\"tone_start_timestamp\"], stop=x[\"post_trial_end_timestamp\"], timestamps=x[\"cluster_timestamp\"], items=x[col])[0], axis=1)"
   ]
  },
  {
   "cell_type": "code",
   "execution_count": null,
   "metadata": {
    "tags": []
   },
   "outputs": [],
   "source": [
    "TRIALS_AND_SPECTRAL_DF.head()"
   ]
  },
  {
   "cell_type": "code",
   "execution_count": null,
   "metadata": {
    "tags": []
   },
   "outputs": [],
   "source": [
    "TRIALS_AND_SPECTRAL_DF[\"trial_and_post_frame_index\"].iloc[0].shape"
   ]
  },
  {
   "cell_type": "code",
   "execution_count": null,
   "metadata": {
    "tags": []
   },
   "outputs": [],
   "source": [
    "TRIALS_AND_SPECTRAL_DF = TRIALS_AND_SPECTRAL_DF.drop(columns=sleap_columns + [\"cluster_timestamp\"], errors=\"ignore\")"
   ]
  },
  {
   "cell_type": "code",
   "execution_count": null,
   "metadata": {
    "tags": []
   },
   "outputs": [],
   "source": [
    "for col in TRIALS_AND_SPECTRAL_DF.columns:\n",
    "    print(col)"
   ]
  },
  {
   "cell_type": "markdown",
   "metadata": {},
   "source": [
    "- Filtering coherence"
   ]
  },
  {
   "cell_type": "code",
   "execution_count": null,
   "metadata": {
    "tags": []
   },
   "outputs": [],
   "source": [
    "coherence_columns = [col for col in TRIALS_AND_SPECTRAL_DF.columns if \"coherence\" in col and \"timestamps\" not in col and \"calculation\" not in col]"
   ]
  },
  {
   "cell_type": "code",
   "execution_count": null,
   "metadata": {
    "tags": []
   },
   "outputs": [],
   "source": [
    "coherence_columns"
   ]
  },
  {
   "cell_type": "code",
   "execution_count": null,
   "metadata": {
    "tags": []
   },
   "outputs": [],
   "source": [
    "for col in sorted(coherence_columns):\n",
    "    updated_item_col = \"trial_and_post_{}\".format(col)\n",
    "    print(updated_item_col)\n",
    "    updated_timestamp_col = \"trial_and_post_coherence_timestamps\"\n",
    "    TRIALS_AND_SPECTRAL_DF[updated_item_col] = TRIALS_AND_SPECTRAL_DF.apply(lambda x: utilities.helper.filter_by_timestamp_range(start=x[\"tone_start_timestamp\"], stop=x[\"post_trial_end_timestamp\"], timestamps=x[\"coherence_timestamps\"], items=x[col])[1], axis=1)\n",
    "\n",
    "TRIALS_AND_SPECTRAL_DF[updated_timestamp_col] = TRIALS_AND_SPECTRAL_DF.apply(lambda x: utilities.helper.filter_by_timestamp_range(start=x[\"tone_start_timestamp\"], stop=x[\"post_trial_end_timestamp\"], timestamps=x[\"coherence_timestamps\"], items=x[col])[0], axis=1)"
   ]
  },
  {
   "cell_type": "code",
   "execution_count": null,
   "metadata": {
    "tags": []
   },
   "outputs": [],
   "source": [
    "TRIALS_AND_SPECTRAL_DF = TRIALS_AND_SPECTRAL_DF.drop(columns=coherence_columns + [\"coherence_timestamps\"], errors=\"ignore\")"
   ]
  },
  {
   "cell_type": "markdown",
   "metadata": {},
   "source": [
    "- Filtering Grangers"
   ]
  },
  {
   "cell_type": "code",
   "execution_count": null,
   "metadata": {
    "tags": []
   },
   "outputs": [],
   "source": [
    "granger_columns = [col for col in TRIALS_AND_SPECTRAL_DF.columns if \"granger\" in col and \"timestamps\" not in col and \"calculation\" not in col]"
   ]
  },
  {
   "cell_type": "code",
   "execution_count": null,
   "metadata": {
    "tags": []
   },
   "outputs": [],
   "source": [
    "granger_columns"
   ]
  },
  {
   "cell_type": "code",
   "execution_count": null,
   "metadata": {
    "tags": []
   },
   "outputs": [],
   "source": [
    "for col in sorted(granger_columns):\n",
    "    updated_item_col = \"trial_and_post_{}\".format(col)\n",
    "    print(updated_item_col)\n",
    "    updated_timestamp_col = \"trial_and_post_granger_timestamps\"\n",
    "    TRIALS_AND_SPECTRAL_DF[updated_item_col] = TRIALS_AND_SPECTRAL_DF.apply(lambda x: utilities.helper.filter_by_timestamp_range(start=x[\"tone_start_timestamp\"], stop=x[\"post_trial_end_timestamp\"], timestamps=x[\"granger_timestamps\"], items=x[col])[1], axis=1)\n",
    "\n",
    "TRIALS_AND_SPECTRAL_DF[updated_timestamp_col] = TRIALS_AND_SPECTRAL_DF.apply(lambda x: utilities.helper.filter_by_timestamp_range(start=x[\"tone_start_timestamp\"], stop=x[\"post_trial_end_timestamp\"], timestamps=x[\"granger_timestamps\"], items=x[col])[0], axis=1)"
   ]
  },
  {
   "cell_type": "code",
   "execution_count": null,
   "metadata": {
    "tags": []
   },
   "outputs": [],
   "source": [
    "TRIALS_AND_SPECTRAL_DF = TRIALS_AND_SPECTRAL_DF.drop(columns=granger_columns + [\"granger_timestamps\"], errors=\"ignore\")"
   ]
  },
  {
   "cell_type": "code",
   "execution_count": null,
   "metadata": {},
   "outputs": [],
   "source": [
    "TRIALS_AND_SPECTRAL_DF.to_pickle(os.path.join(OUTPUT_DIR, FULL_LFP_TRACES_PKL))"
   ]
  },
  {
   "cell_type": "markdown",
   "metadata": {},
   "source": [
    "- Filtering power"
   ]
  },
  {
   "cell_type": "code",
   "execution_count": null,
   "metadata": {},
   "outputs": [],
   "source": [
    "TRIALS_AND_SPECTRAL_DF.head()"
   ]
  },
  {
   "cell_type": "code",
   "execution_count": null,
   "metadata": {
    "tags": []
   },
   "outputs": [],
   "source": [
    "power_columns = [col for col in TRIALS_AND_SPECTRAL_DF.columns if \"power\" in col and \"timestamps\" not in col and \"calculation\" not in col]"
   ]
  },
  {
   "cell_type": "code",
   "execution_count": null,
   "metadata": {
    "tags": []
   },
   "outputs": [],
   "source": [
    "power_columns"
   ]
  },
  {
   "cell_type": "code",
   "execution_count": null,
   "metadata": {
    "tags": []
   },
   "outputs": [],
   "source": [
    "for col in sorted(power_columns):\n",
    "    updated_item_col = \"trial_and_post_{}\".format(col)\n",
    "    print(updated_item_col)\n",
    "    updated_timestamp_col = \"trial_and_post_power_timestamps\"\n",
    "    TRIALS_AND_SPECTRAL_DF[updated_item_col] = TRIALS_AND_SPECTRAL_DF.apply(lambda x: utilities.helper.filter_by_timestamp_range(start=x[\"tone_start_timestamp\"], stop=x[\"post_trial_end_timestamp\"], timestamps=x[\"power_timestamps\"], items=x[col])[1], axis=1)\n",
    "\n",
    "TRIALS_AND_SPECTRAL_DF[updated_timestamp_col] = TRIALS_AND_SPECTRAL_DF.apply(lambda x: utilities.helper.filter_by_timestamp_range(start=x[\"tone_start_timestamp\"], stop=x[\"post_trial_end_timestamp\"], timestamps=x[\"power_timestamps\"], items=x[col])[0], axis=1)\n"
   ]
  },
  {
   "cell_type": "code",
   "execution_count": null,
   "metadata": {
    "tags": []
   },
   "outputs": [],
   "source": [
    "TRIALS_AND_SPECTRAL_DF = TRIALS_AND_SPECTRAL_DF.drop(columns=power_columns + [\"power_timestamps\"], errors=\"ignore\")"
   ]
  },
  {
   "cell_type": "code",
   "execution_count": null,
   "metadata": {
    "tags": []
   },
   "outputs": [],
   "source": [
    "for col in TRIALS_AND_SPECTRAL_DF:\n",
    "    print(col)"
   ]
  },
  {
   "cell_type": "markdown",
   "metadata": {
    "tags": []
   },
   "source": [
    "# Filtering out phase"
   ]
  },
  {
   "cell_type": "code",
   "execution_count": null,
   "metadata": {
    "tags": []
   },
   "outputs": [],
   "source": [
    "lfp_columns = [col for col in TRIALS_AND_SPECTRAL_DF.columns if \"trace\" in col and \"timestamps\" not in col and \"calculation\" not in col]"
   ]
  },
  {
   "cell_type": "code",
   "execution_count": null,
   "metadata": {
    "tags": []
   },
   "outputs": [],
   "source": [
    "band_columns = [col for col in TRIALS_AND_SPECTRAL_DF.columns if \"band\" in col and \"timestamps\" not in col and \"calculation\" not in col]"
   ]
  },
  {
   "cell_type": "code",
   "execution_count": null,
   "metadata": {
    "tags": []
   },
   "outputs": [],
   "source": [
    "phase_columns = [col for col in TRIALS_AND_SPECTRAL_DF.columns if \"phase\" in col and \"timestamps\" not in col and \"calculation\" not in col]"
   ]
  },
  {
   "cell_type": "code",
   "execution_count": null,
   "metadata": {
    "tags": []
   },
   "outputs": [],
   "source": [
    "phase_columns = phase_columns + band_columns +lfp_columns"
   ]
  },
  {
   "cell_type": "code",
   "execution_count": null,
   "metadata": {
    "tags": []
   },
   "outputs": [],
   "source": [
    "phase_columns"
   ]
  },
  {
   "cell_type": "code",
   "execution_count": null,
   "metadata": {
    "tags": []
   },
   "outputs": [],
   "source": [
    "for col in sorted(phase_columns):\n",
    "    updated_item_col = \"trial_and_post_{}\".format(col)\n",
    "    print(updated_item_col)\n",
    "    updated_timestamp_col = \"trial_and_post_lfp_timestamps\"\n",
    "    TRIALS_AND_SPECTRAL_DF[updated_item_col] = TRIALS_AND_SPECTRAL_DF.apply(lambda x: utilities.helper.filter_by_timestamp_range(start=x[\"tone_start_timestamp\"], stop=x[\"post_trial_end_timestamp\"], timestamps=x[\"lfp_timestamps\"], items=x[col])[1], axis=1)\n",
    "\n",
    "TRIALS_AND_SPECTRAL_DF[updated_timestamp_col] = TRIALS_AND_SPECTRAL_DF.apply(lambda x: utilities.helper.filter_by_timestamp_range(start=x[\"tone_start_timestamp\"], stop=x[\"post_trial_end_timestamp\"], timestamps=x[\"lfp_timestamps\"], items=x[col])[0], axis=1)\n"
   ]
  },
  {
   "cell_type": "code",
   "execution_count": null,
   "metadata": {
    "tags": []
   },
   "outputs": [],
   "source": []
  },
  {
   "cell_type": "code",
   "execution_count": null,
   "metadata": {
    "tags": []
   },
   "outputs": [],
   "source": [
    "TRIALS_AND_SPECTRAL_DF[\"trial_and_post_lfp_timestamps\"]"
   ]
  },
  {
   "cell_type": "code",
   "execution_count": null,
   "metadata": {
    "tags": []
   },
   "outputs": [],
   "source": [
    "TRIALS_AND_SPECTRAL_DF = TRIALS_AND_SPECTRAL_DF.drop(columns=phase_columns + [\"lfp_timestamps\"], errors=\"ignore\")"
   ]
  },
  {
   "cell_type": "code",
   "execution_count": null,
   "metadata": {
    "tags": []
   },
   "outputs": [],
   "source": [
    "TRIALS_AND_SPECTRAL_DF.to_pickle(os.path.join(OUTPUT_DIR, FULL_LFP_TRACES_PKL))"
   ]
  },
  {
   "cell_type": "code",
   "execution_count": null,
   "metadata": {
    "tags": []
   },
   "outputs": [],
   "source": [
    "for col in TRIALS_AND_SPECTRAL_DF:\n",
    "    print(col)"
   ]
  },
  {
   "cell_type": "code",
   "execution_count": null,
   "metadata": {
    "tags": []
   },
   "outputs": [],
   "source": [
    "TRIALS_AND_SPECTRAL_DF[\"trial_and_post_kmeans_cluster\"].iloc[0].shape"
   ]
  },
  {
   "cell_type": "code",
   "execution_count": null,
   "metadata": {},
   "outputs": [],
   "source": [
    "raise ValueError()"
   ]
  },
  {
   "cell_type": "markdown",
   "metadata": {},
   "source": [
    "# Filtering for rows that are in the video"
   ]
  },
  {
   "cell_type": "code",
   "execution_count": null,
   "metadata": {
    "tags": []
   },
   "outputs": [],
   "source": [
    "TRIALS_AND_SPECTRAL_DF[\"in_video\"] = TRIALS_AND_SPECTRAL_DF.apply(lambda x: x[\"start_frame\"] <= x[\"trial_video_frame\"][0] <= x[\"stop_frame\"], axis=1)"
   ]
  },
  {
   "cell_type": "code",
   "execution_count": null,
   "metadata": {
    "tags": []
   },
   "outputs": [],
   "source": [
    "TRIALS_AND_SPECTRAL_DF = TRIALS_AND_SPECTRAL_DF[TRIALS_AND_SPECTRAL_DF[\"in_video\"]].reset_index()"
   ]
  },
  {
   "cell_type": "code",
   "execution_count": null,
   "metadata": {
    "tags": []
   },
   "outputs": [],
   "source": [
    "TRIALS_AND_SPECTRAL_DF"
   ]
  },
  {
   "cell_type": "code",
   "execution_count": null,
   "metadata": {
    "tags": []
   },
   "outputs": [],
   "source": [
    "TRIALS_AND_SPECTRAL_DF.to_pickle(os.path.join(OUTPUT_DIR, FULL_LFP_TRACES_PKL))"
   ]
  },
  {
   "cell_type": "code",
   "execution_count": null,
   "metadata": {},
   "outputs": [],
   "source": [
    "raise ValueError()"
   ]
  },
  {
   "cell_type": "markdown",
   "metadata": {},
   "source": [
    "# Filtering out spikes"
   ]
  },
  {
   "cell_type": "code",
   "execution_count": null,
   "metadata": {
    "tags": []
   },
   "outputs": [],
   "source": [
    "raise ValueError()"
   ]
  },
  {
   "cell_type": "code",
   "execution_count": null,
   "metadata": {
    "tags": []
   },
   "outputs": [],
   "source": [
    "TRIALS_AND_SPECTRAL_DF[\"baseline_spike_times\"] = TRIALS_AND_SPECTRAL_DF.apply(lambda x: filter_spike_times(x[\"spike_times\"], start=x[\"tone_start_timestamp\"], stop=x[\"baseline_stop_timestamp\"]).astype(int), axis=1)\n"
   ]
  },
  {
   "cell_type": "code",
   "execution_count": null,
   "metadata": {
    "tags": []
   },
   "outputs": [],
   "source": [
    "TRIALS_AND_SPECTRAL_DF[\"trial_spike_times\"] = TRIALS_AND_SPECTRAL_DF.apply(lambda x: filter_spike_times(x[\"spike_times\"], start=x[\"tone_start_timestamp\"], stop=x[\"tone_stop_timestamp\"]).astype(int), axis=1)\n"
   ]
  },
  {
   "cell_type": "code",
   "execution_count": null,
   "metadata": {
    "tags": []
   },
   "outputs": [],
   "source": [
    "TRIALS_AND_SPECTRAL_DF[\"tone_start_timestamp\"].head()"
   ]
  },
  {
   "cell_type": "code",
   "execution_count": null,
   "metadata": {
    "tags": []
   },
   "outputs": [],
   "source": [
    "TRIALS_AND_SPECTRAL_DF[\"baseline_stop_timestamp\"].head()"
   ]
  },
  {
   "cell_type": "code",
   "execution_count": null,
   "metadata": {
    "tags": []
   },
   "outputs": [],
   "source": [
    "TRIALS_AND_SPECTRAL_DF[\"baseline_spike_times\"].iloc[0]"
   ]
  },
  {
   "cell_type": "code",
   "execution_count": null,
   "metadata": {
    "tags": []
   },
   "outputs": [],
   "source": [
    "TRIALS_AND_SPECTRAL_DF[\"baseline_neuron_average_fr\"] = TRIALS_AND_SPECTRAL_DF.apply(lambda x: utilities.helper.filter_by_timestamp_range(start=x[\"tone_start_timestamp\"], stop=x[\"baseline_stop_timestamp\"], timestamps=x[\"neuron_average_timestamps\"], items=x[\"neuron_average_fr\"].T)[1], axis=1)\n",
    "TRIALS_AND_SPECTRAL_DF[\"baseline_neuron_average_timestamp\"] = TRIALS_AND_SPECTRAL_DF.apply(lambda x: utilities.helper.filter_by_timestamp_range(start=x[\"tone_start_timestamp\"], stop=x[\"baseline_stop_timestamp\"], timestamps=x[\"neuron_average_timestamps\"], items=x[\"neuron_average_fr\"].T)[0], axis=1)"
   ]
  },
  {
   "cell_type": "code",
   "execution_count": null,
   "metadata": {
    "tags": []
   },
   "outputs": [],
   "source": [
    "TRIALS_AND_SPECTRAL_DF[\"trial_neuron_average_fr\"] = TRIALS_AND_SPECTRAL_DF.apply(lambda x: utilities.helper.filter_by_timestamp_range(start=x[\"tone_start_timestamp\"], stop=x[\"tone_stop_timestamp\"], timestamps=x[\"neuron_average_timestamps\"], items=x[\"neuron_average_fr\"].T)[1].T, axis=1)\n",
    "TRIALS_AND_SPECTRAL_DF[\"trial_neuron_average_timestamp\"] = TRIALS_AND_SPECTRAL_DF.apply(lambda x: utilities.helper.filter_by_timestamp_range(start=x[\"tone_start_timestamp\"], stop=x[\"tone_stop_timestamp\"], timestamps=x[\"neuron_average_timestamps\"], items=x[\"neuron_average_fr\"].T)[0], axis=1)"
   ]
  },
  {
   "cell_type": "code",
   "execution_count": null,
   "metadata": {
    "tags": []
   },
   "outputs": [],
   "source": [
    "TRIALS_AND_SPECTRAL_DF = TRIALS_AND_SPECTRAL_DF.drop(columns=[\"spike_clusters\", \"spike_times\", \"neuron_average_fr\", \"neuron_average_timestamps\",], errors=\"ignore\")"
   ]
  },
  {
   "cell_type": "code",
   "execution_count": null,
   "metadata": {
    "tags": []
   },
   "outputs": [],
   "source": [
    "TRIALS_AND_SPECTRAL_DF[\"trial_neuron_average_fr\"].iloc[0].shape"
   ]
  },
  {
   "cell_type": "code",
   "execution_count": null,
   "metadata": {
    "tags": []
   },
   "outputs": [],
   "source": [
    "TRIALS_AND_SPECTRAL_DF[\"trial_neuron_average_timestamp\"].iloc[0].shape"
   ]
  },
  {
   "cell_type": "markdown",
   "metadata": {},
   "source": [
    "# OLD Stuff"
   ]
  },
  {
   "cell_type": "code",
   "execution_count": null,
   "metadata": {},
   "outputs": [],
   "source": []
  },
  {
   "cell_type": "markdown",
   "metadata": {},
   "source": [
    "## Getting the ranges of each cluster"
   ]
  },
  {
   "cell_type": "markdown",
   "metadata": {},
   "source": [
    "- Getting the index range"
   ]
  },
  {
   "cell_type": "code",
   "execution_count": null,
   "metadata": {},
   "outputs": [],
   "source": [
    "list(TRIALS_AND_SPECTRAL_DF.columns)"
   ]
  },
  {
   "cell_type": "code",
   "execution_count": null,
   "metadata": {},
   "outputs": [],
   "source": [
    "TRIALS_AND_SPECTRAL_DF[\"trial_and_post_kmeans_cluster\"].iloc[0]"
   ]
  },
  {
   "cell_type": "code",
   "execution_count": null,
   "metadata": {},
   "outputs": [],
   "source": [
    "TRIALS_AND_SPECTRAL_DF[\"trial_and_post_comp_id\"] = TRIALS_AND_SPECTRAL_DF[\"trial_and_post_kmeans_cluster\"].apply(lambda x: np.vectorize(cluster_to_comp_id.get)(x.astype(str)))"
   ]
  },
  {
   "cell_type": "code",
   "execution_count": null,
   "metadata": {},
   "outputs": [],
   "source": [
    "TRIALS_AND_SPECTRAL_DF[\"trial_and_post_competitiveness\"] = TRIALS_AND_SPECTRAL_DF[\"trial_and_post_kmeans_cluster\"].apply(lambda x: np.vectorize(cluster_to_competitiveness.get)(x.astype(str)))"
   ]
  },
  {
   "cell_type": "code",
   "execution_count": null,
   "metadata": {},
   "outputs": [],
   "source": [
    "TRIALS_AND_SPECTRAL_DF[\"trial_and_post_competitiveness\"] "
   ]
  },
  {
   "cell_type": "code",
   "execution_count": null,
   "metadata": {},
   "outputs": [],
   "source": [
    "TRIALS_AND_SPECTRAL_DF[\"trial_and_post_competitiveness\"].iloc[0].shape"
   ]
  },
  {
   "cell_type": "code",
   "execution_count": null,
   "metadata": {},
   "outputs": [],
   "source": [
    "# TRIALS_AND_SPECTRAL_DF[\"cluster_index_ranges_dict\"] = TRIALS_AND_SPECTRAL_DF[\"trial_and_post_comp_id\"].apply(lambda x: find_consecutive_ranges(x, min_length=20))\n",
    "\n",
    "TRIALS_AND_SPECTRAL_DF[\"cluster_index_ranges_dict\"] = TRIALS_AND_SPECTRAL_DF[\"trial_and_post_competitiveness\"].apply(lambda x: find_consecutive_ranges(x[:200], min_length=20))\n"
   ]
  },
  {
   "cell_type": "code",
   "execution_count": null,
   "metadata": {},
   "outputs": [],
   "source": [
    "TRIALS_AND_SPECTRAL_DF[\"cluster_index_ranges_dict\"].iloc[0]"
   ]
  },
  {
   "cell_type": "code",
   "execution_count": null,
   "metadata": {},
   "outputs": [],
   "source": [
    "TRIALS_AND_SPECTRAL_DF.head()"
   ]
  },
  {
   "cell_type": "code",
   "execution_count": null,
   "metadata": {},
   "outputs": [],
   "source": [
    "TRIALS_AND_SPECTRAL_DF[\"cluster_timestamp\"] = TRIALS_AND_SPECTRAL_DF.apply(lambda x: x[\"video_timestamps\"][x[\"trial_and_post_frame_index\"]], axis=1)\n"
   ]
  },
  {
   "cell_type": "markdown",
   "metadata": {},
   "source": [
    "- Calculating the times in milliseconds of each cluster frame"
   ]
  },
  {
   "cell_type": "code",
   "execution_count": null,
   "metadata": {},
   "outputs": [],
   "source": []
  },
  {
   "cell_type": "code",
   "execution_count": null,
   "metadata": {},
   "outputs": [],
   "source": [
    "TRIALS_AND_SPECTRAL_DF[\"cluster_times\"] = TRIALS_AND_SPECTRAL_DF.apply(lambda x: (np.array(x[\"cluster_timestamp\"]) - x[\"first_timestamp\"]) // 20, axis=1)\n"
   ]
  },
  {
   "cell_type": "markdown",
   "metadata": {},
   "source": [
    "- Updating the index to use cluster times and timestamps based on video frame timestamps list"
   ]
  },
  {
   "cell_type": "code",
   "execution_count": null,
   "metadata": {},
   "outputs": [],
   "source": [
    "TRIALS_AND_SPECTRAL_DF[\"cluster_times_ranges_dict\"] = TRIALS_AND_SPECTRAL_DF.apply(lambda x: update_tuples_in_dict(x[\"cluster_index_ranges_dict\"], x[\"cluster_times\"]), axis=1)"
   ]
  },
  {
   "cell_type": "code",
   "execution_count": null,
   "metadata": {},
   "outputs": [],
   "source": [
    "TRIALS_AND_SPECTRAL_DF[\"cluster_timestamps_ranges_dict\"] = TRIALS_AND_SPECTRAL_DF.apply(lambda x: update_tuples_in_dict(x[\"cluster_index_ranges_dict\"], x[\"cluster_timestamp\"]), axis=1)"
   ]
  },
  {
   "cell_type": "markdown",
   "metadata": {},
   "source": [
    "- Combining the win and loss label with the cluster"
   ]
  },
  {
   "cell_type": "code",
   "execution_count": null,
   "metadata": {},
   "outputs": [],
   "source": [
    "TRIALS_AND_SPECTRAL_DF[\"trial_cluster_times_ranges_dict\"] = TRIALS_AND_SPECTRAL_DF.apply(lambda x: {\"{}_{}\".format(x[\"trial_label\"], k): v for k, v in x[\"cluster_times_ranges_dict\"].items()}, axis=1)\n"
   ]
  },
  {
   "cell_type": "code",
   "execution_count": null,
   "metadata": {},
   "outputs": [],
   "source": [
    "TRIALS_AND_SPECTRAL_DF[\"trial_cluster_timestamps_ranges_dict\"] = TRIALS_AND_SPECTRAL_DF.apply(lambda x: {\"{}_{}\".format(x[\"trial_label\"], k): v for k, v in x[\"cluster_timestamps_ranges_dict\"].items()}, axis=1)\n"
   ]
  },
  {
   "cell_type": "code",
   "execution_count": null,
   "metadata": {},
   "outputs": [],
   "source": [
    "TRIALS_AND_SPECTRAL_DF[\"trial_cluster_timestamps_ranges_dict\"].iloc[0]"
   ]
  },
  {
   "cell_type": "code",
   "execution_count": null,
   "metadata": {},
   "outputs": [],
   "source": []
  },
  {
   "cell_type": "code",
   "execution_count": null,
   "metadata": {},
   "outputs": [],
   "source": [
    "TRIALS_AND_SPECTRAL_DF.columns"
   ]
  },
  {
   "cell_type": "code",
   "execution_count": null,
   "metadata": {},
   "outputs": [],
   "source": [
    "TRIALS_AND_SPECTRAL_DF[\"trial_and_post_coherence_timestamps\"].iloc[0]"
   ]
  }
 ],
 "metadata": {
  "deepnote": {},
  "deepnote_execution_queue": [],
  "deepnote_notebook_id": "cf8fe3695d074ee7887fdf6459cbf5ce",
  "kernelspec": {
   "display_name": "mountainsort_0_5_6",
   "language": "python",
   "name": "python3"
  },
  "language_info": {
   "codemirror_mode": {
    "name": "ipython",
    "version": 3
   },
   "file_extension": ".py",
   "mimetype": "text/x-python",
   "name": "python",
   "nbconvert_exporter": "python",
   "pygments_lexer": "ipython3",
   "version": "3.10.14"
  }
 },
 "nbformat": 4,
 "nbformat_minor": 4
}
