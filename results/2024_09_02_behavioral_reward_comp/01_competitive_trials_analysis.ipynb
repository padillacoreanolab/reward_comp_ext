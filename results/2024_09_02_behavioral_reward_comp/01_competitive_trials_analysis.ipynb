{
 "cells": [
  {
   "cell_type": "markdown",
   "metadata": {
    "cell_id": "c3a02adc9e884466bc8c79db549cc3d2",
    "deepnote_cell_type": "text-cell-h1",
    "formattedRanges": [
     {
      "fromCodePoint": 0,
      "marks": {
       "bold": true,
       "underline": true
      },
      "toCodePoint": 17,
      "type": "marks"
     }
    ]
   },
   "source": [
    "# SLEAP Distance Calculation"
   ]
  },
  {
   "cell_type": "markdown",
   "metadata": {
    "cell_id": "4546bee655b14a5dbf393161f1228e60",
    "deepnote_cell_type": "text-cell-p",
    "formattedRanges": []
   },
   "source": [
    "Brief 1-2 sentence description of notebook."
   ]
  },
  {
   "cell_type": "code",
   "execution_count": 1,
   "metadata": {
    "tags": []
   },
   "outputs": [],
   "source": [
    "#calling it a second time may prevent some graphics errors\n",
    "import matplotlib.pyplot as plt"
   ]
  },
  {
   "cell_type": "code",
   "execution_count": 2,
   "metadata": {
    "tags": []
   },
   "outputs": [],
   "source": [
    "import os\n",
    "import glob\n",
    "import sys\n"
   ]
  },
  {
   "cell_type": "code",
   "execution_count": 3,
   "metadata": {
    "cell_id": "03b495cefa6a4798a44c7f2e4c6a3ea7",
    "deepnote_cell_type": "code",
    "deepnote_to_be_reexecuted": false,
    "execution_millis": 21,
    "execution_start": 1691424003626,
    "source_hash": null,
    "tags": []
   },
   "outputs": [],
   "source": [
    "# Imports of all used packages and libraries\n",
    "import numpy as np\n",
    "import pandas as pd\n",
    "# import seaborn as sns\n",
    "import matplotlib as mpl\n",
    "# import matplotlib.pyplot as plt\n",
    "\n",
    "from collections import defaultdict\n",
    "\n"
   ]
  },
  {
   "cell_type": "code",
   "execution_count": 4,
   "metadata": {
    "tags": []
   },
   "outputs": [],
   "source": [
    "import os "
   ]
  },
  {
   "cell_type": "markdown",
   "metadata": {
    "cell_id": "d290bac2c17940bfbc0f9296beaf70e5",
    "deepnote_cell_type": "text-cell-h2",
    "formattedRanges": []
   },
   "source": [
    "## Inputs & Data"
   ]
  },
  {
   "cell_type": "markdown",
   "metadata": {
    "cell_id": "e528ce19c608425292151930d380f49f",
    "deepnote_cell_type": "text-cell-p",
    "formattedRanges": []
   },
   "source": [
    "Explanation of each input and where it comes from."
   ]
  },
  {
   "cell_type": "markdown",
   "metadata": {
    "cell_id": "e3ee4891d43a4ac287413afc552ca289",
    "deepnote_cell_type": "text-cell-h2",
    "formattedRanges": []
   },
   "source": [
    "## Outputs"
   ]
  },
  {
   "cell_type": "markdown",
   "metadata": {
    "cell_id": "9ccbf6cc70fd4d379fa29317f733771f",
    "deepnote_cell_type": "text-cell-p",
    "formattedRanges": []
   },
   "source": [
    "Describe each output that the notebook creates. "
   ]
  },
  {
   "cell_type": "markdown",
   "metadata": {
    "cell_id": "fc8e8920a6944918a15fac575cdf6e78",
    "deepnote_cell_type": "text-cell-bullet",
    "formattedRanges": []
   },
   "source": [
    "- Is it a plot or is it data?"
   ]
  },
  {
   "cell_type": "markdown",
   "metadata": {
    "cell_id": "1e639d4776a84aa9ac8ded2e14fa57db",
    "deepnote_cell_type": "text-cell-bullet",
    "formattedRanges": []
   },
   "source": [
    "- How valuable is the output and why is it valuable or useful?"
   ]
  },
  {
   "cell_type": "code",
   "execution_count": 47,
   "metadata": {
    "tags": []
   },
   "outputs": [],
   "source": [
    "# Inputs and Required data loading\n",
    "# input varaible names are in all caps snake case\n",
    "# Whenever an input changes or is used for processing \n",
    "# the vairables are all lower in snake case\n",
    "OUTPUT_DIR = r\"./proc/\" # where data is saved should always be shown in the inputs\n",
    "os.makedirs(OUTPUT_DIR, exist_ok=True)\n",
    "OUTPUT_PREFIX = \"rce_pilot_3\""
   ]
  },
  {
   "cell_type": "code",
   "execution_count": 48,
   "metadata": {
    "tags": []
   },
   "outputs": [],
   "source": [
    "FULL_LFP_TRACES_PKL = \"{}_04_spectral_and_sleap.pkl\".format(OUTPUT_PREFIX)"
   ]
  },
  {
   "cell_type": "markdown",
   "metadata": {
    "cell_id": "8999d19b6b7d4d63bc90f0b0bd9ab085",
    "deepnote_cell_type": "text-cell-h2",
    "formattedRanges": []
   },
   "source": [
    "## Processing"
   ]
  },
  {
   "cell_type": "markdown",
   "metadata": {
    "cell_id": "9b36cdf08567463082b005cb0dec684b",
    "deepnote_cell_type": "text-cell-p",
    "formattedRanges": []
   },
   "source": [
    "Describe what is done to the data here and how inputs are manipulated to generate outputs. "
   ]
  },
  {
   "cell_type": "code",
   "execution_count": 35,
   "metadata": {
    "tags": []
   },
   "outputs": [],
   "source": [
    "exploded_columns = pd.read_pickle(\"./proc/exploded_columns.pkl\")\n"
   ]
  },
  {
   "cell_type": "code",
   "execution_count": 36,
   "metadata": {
    "tags": []
   },
   "outputs": [
    {
     "data": {
      "text/plain": [
       "Index(['thorax_velocity_sum', 'thorax_velocity_diff', 'subject_tail_base',\n",
       "       'frame_index', 'nose_to_reward_port_diff', 'video_name',\n",
       "       'tone_start_to_stop_frame', 'reward_port', '10s_before_tone_frame',\n",
       "       'nose_to_reward_port_sum', 'to_reward_port_angle_diff',\n",
       "       'nose_to_tail_sum', 'get_reward_frame', 'agent_nose', 'agent_thorax',\n",
       "       'tone_stop_frame', 'competition_closeness', 'session_dir',\n",
       "       'tone_start_frame', 'box_bottom_left', 'agent_tail_base',\n",
       "       'box_bottom_right', 'subject_to_reward_port_angle', 'notes',\n",
       "       'box_top_left', 'box_number', 'experiment',\n",
       "       'subject_nose_to_reward_port', 'first_timestamp', 'start_frame',\n",
       "       'tone_stop_timestamp', 'sleap_name', 'subject_thorax_to_agent_thorax',\n",
       "       '10s_after_tone_frame', 'subject_thorax', 'within_trial_frame_index',\n",
       "       'tone_start_timestamp', 'all_subjects', 'agent', 'stop_frame',\n",
       "       'nose_to_tail_diff', 'agent_nose_to_reward_port',\n",
       "       'agent_to_reward_port_angle', 'current_subject',\n",
       "       'subject_thorax_velocity', 'tracked_subject',\n",
       "       'to_reward_port_angle_sum', 'subject_nose', 'body_parts', 'condition ',\n",
       "       'out_reward_frame', 'box_top_right', 'subject_locations',\n",
       "       'last_timestamp', 'agent_locations', 'agent_thorax_velocity',\n",
       "       'in_video_subjects', 'closebool_subject_nose_to_reward_port',\n",
       "       'closebool_agent_nose_to_reward_port',\n",
       "       'movingbool_subject_thorax_velocity',\n",
       "       'movingbool_agent_thorax_velocity', 'manual_cluster_id',\n",
       "       'standard_embedding_x', 'standard_embedding_y',\n",
       "       'clusterable_embedding_x', 'clusterable_embedding_y', 'kmeans_cluster',\n",
       "       'video_id'],\n",
       "      dtype='object')"
      ]
     },
     "execution_count": 36,
     "metadata": {},
     "output_type": "execute_result"
    }
   ],
   "source": [
    "exploded_columns.columns"
   ]
  },
  {
   "cell_type": "code",
   "execution_count": 38,
   "metadata": {},
   "outputs": [
    {
     "data": {
      "text/html": [
       "<div>\n",
       "<style scoped>\n",
       "    .dataframe tbody tr th:only-of-type {\n",
       "        vertical-align: middle;\n",
       "    }\n",
       "\n",
       "    .dataframe tbody tr th {\n",
       "        vertical-align: top;\n",
       "    }\n",
       "\n",
       "    .dataframe thead th {\n",
       "        text-align: right;\n",
       "    }\n",
       "</style>\n",
       "<table border=\"1\" class=\"dataframe\">\n",
       "  <thead>\n",
       "    <tr style=\"text-align: right;\">\n",
       "      <th></th>\n",
       "      <th>thorax_velocity_sum</th>\n",
       "      <th>thorax_velocity_diff</th>\n",
       "      <th>subject_tail_base</th>\n",
       "      <th>frame_index</th>\n",
       "      <th>nose_to_reward_port_diff</th>\n",
       "      <th>video_name</th>\n",
       "      <th>tone_start_to_stop_frame</th>\n",
       "      <th>reward_port</th>\n",
       "      <th>10s_before_tone_frame</th>\n",
       "      <th>nose_to_reward_port_sum</th>\n",
       "      <th>...</th>\n",
       "      <th>closebool_agent_nose_to_reward_port</th>\n",
       "      <th>movingbool_subject_thorax_velocity</th>\n",
       "      <th>movingbool_agent_thorax_velocity</th>\n",
       "      <th>manual_cluster_id</th>\n",
       "      <th>standard_embedding_x</th>\n",
       "      <th>standard_embedding_y</th>\n",
       "      <th>clusterable_embedding_x</th>\n",
       "      <th>clusterable_embedding_y</th>\n",
       "      <th>kmeans_cluster</th>\n",
       "      <th>video_id</th>\n",
       "    </tr>\n",
       "  </thead>\n",
       "  <tbody>\n",
       "    <tr>\n",
       "      <th>0</th>\n",
       "      <td>1.864783</td>\n",
       "      <td>1.641202</td>\n",
       "      <td>[65.86894804065032, 31.8436244490543]</td>\n",
       "      <td>1086</td>\n",
       "      <td>29.128517</td>\n",
       "      <td>20240317_151922_long_comp_subj_3-1_and_3-3.1</td>\n",
       "      <td>(1286, 1486)</td>\n",
       "      <td>[60.41313477701829, 37.56463736381247]</td>\n",
       "      <td>1086</td>\n",
       "      <td>30.571493</td>\n",
       "      <td>...</td>\n",
       "      <td>False</td>\n",
       "      <td>False</td>\n",
       "      <td>True</td>\n",
       "      <td>2</td>\n",
       "      <td>-2.570171</td>\n",
       "      <td>-0.481869</td>\n",
       "      <td>-2.189707</td>\n",
       "      <td>1.966187</td>\n",
       "      <td>4</td>\n",
       "      <td>0</td>\n",
       "    </tr>\n",
       "    <tr>\n",
       "      <th>1</th>\n",
       "      <td>0.938264</td>\n",
       "      <td>0.78134</td>\n",
       "      <td>[65.86498651970352, 31.842588737266972]</td>\n",
       "      <td>1087</td>\n",
       "      <td>29.239168</td>\n",
       "      <td>20240317_151922_long_comp_subj_3-1_and_3-3.1</td>\n",
       "      <td>(1286, 1486)</td>\n",
       "      <td>[60.41313477701829, 37.56463736381247]</td>\n",
       "      <td>1086</td>\n",
       "      <td>30.657799</td>\n",
       "      <td>...</td>\n",
       "      <td>False</td>\n",
       "      <td>False</td>\n",
       "      <td>True</td>\n",
       "      <td>2</td>\n",
       "      <td>-3.663163</td>\n",
       "      <td>-0.950025</td>\n",
       "      <td>-2.932820</td>\n",
       "      <td>1.766647</td>\n",
       "      <td>4</td>\n",
       "      <td>0</td>\n",
       "    </tr>\n",
       "    <tr>\n",
       "      <th>2</th>\n",
       "      <td>0.300687</td>\n",
       "      <td>0.158209</td>\n",
       "      <td>[65.87072564620338, 31.843130896866835]</td>\n",
       "      <td>1088</td>\n",
       "      <td>29.328625</td>\n",
       "      <td>20240317_151922_long_comp_subj_3-1_and_3-3.1</td>\n",
       "      <td>(1286, 1486)</td>\n",
       "      <td>[60.41313477701829, 37.56463736381247]</td>\n",
       "      <td>1086</td>\n",
       "      <td>30.738615</td>\n",
       "      <td>...</td>\n",
       "      <td>False</td>\n",
       "      <td>False</td>\n",
       "      <td>False</td>\n",
       "      <td>2</td>\n",
       "      <td>-4.050153</td>\n",
       "      <td>-0.833175</td>\n",
       "      <td>-3.094593</td>\n",
       "      <td>1.802257</td>\n",
       "      <td>4</td>\n",
       "      <td>0</td>\n",
       "    </tr>\n",
       "    <tr>\n",
       "      <th>3</th>\n",
       "      <td>-0.062844</td>\n",
       "      <td>-0.229304</td>\n",
       "      <td>[66.05605372229157, 31.84940499209838]</td>\n",
       "      <td>1089</td>\n",
       "      <td>29.413448</td>\n",
       "      <td>20240317_151922_long_comp_subj_3-1_and_3-3.1</td>\n",
       "      <td>(1286, 1486)</td>\n",
       "      <td>[60.41313477701829, 37.56463736381247]</td>\n",
       "      <td>1086</td>\n",
       "      <td>30.82523</td>\n",
       "      <td>...</td>\n",
       "      <td>False</td>\n",
       "      <td>False</td>\n",
       "      <td>False</td>\n",
       "      <td>2</td>\n",
       "      <td>-4.048223</td>\n",
       "      <td>-0.882780</td>\n",
       "      <td>-3.120238</td>\n",
       "      <td>1.702991</td>\n",
       "      <td>4</td>\n",
       "      <td>0</td>\n",
       "    </tr>\n",
       "    <tr>\n",
       "      <th>4</th>\n",
       "      <td>-0.214782</td>\n",
       "      <td>-0.405428</td>\n",
       "      <td>[65.86966472606377, 31.847913118440818]</td>\n",
       "      <td>1090</td>\n",
       "      <td>29.512577</td>\n",
       "      <td>20240317_151922_long_comp_subj_3-1_and_3-3.1</td>\n",
       "      <td>(1286, 1486)</td>\n",
       "      <td>[60.41313477701829, 37.56463736381247]</td>\n",
       "      <td>1086</td>\n",
       "      <td>30.916037</td>\n",
       "      <td>...</td>\n",
       "      <td>False</td>\n",
       "      <td>False</td>\n",
       "      <td>False</td>\n",
       "      <td>2</td>\n",
       "      <td>-4.029259</td>\n",
       "      <td>-0.994211</td>\n",
       "      <td>-3.105247</td>\n",
       "      <td>1.635060</td>\n",
       "      <td>4</td>\n",
       "      <td>0</td>\n",
       "    </tr>\n",
       "  </tbody>\n",
       "</table>\n",
       "<p>5 rows × 68 columns</p>\n",
       "</div>"
      ],
      "text/plain": [
       "  thorax_velocity_sum thorax_velocity_diff  \\\n",
       "0            1.864783             1.641202   \n",
       "1            0.938264              0.78134   \n",
       "2            0.300687             0.158209   \n",
       "3           -0.062844            -0.229304   \n",
       "4           -0.214782            -0.405428   \n",
       "\n",
       "                         subject_tail_base frame_index  \\\n",
       "0    [65.86894804065032, 31.8436244490543]        1086   \n",
       "1  [65.86498651970352, 31.842588737266972]        1087   \n",
       "2  [65.87072564620338, 31.843130896866835]        1088   \n",
       "3   [66.05605372229157, 31.84940499209838]        1089   \n",
       "4  [65.86966472606377, 31.847913118440818]        1090   \n",
       "\n",
       "  nose_to_reward_port_diff                                    video_name  \\\n",
       "0                29.128517  20240317_151922_long_comp_subj_3-1_and_3-3.1   \n",
       "1                29.239168  20240317_151922_long_comp_subj_3-1_and_3-3.1   \n",
       "2                29.328625  20240317_151922_long_comp_subj_3-1_and_3-3.1   \n",
       "3                29.413448  20240317_151922_long_comp_subj_3-1_and_3-3.1   \n",
       "4                29.512577  20240317_151922_long_comp_subj_3-1_and_3-3.1   \n",
       "\n",
       "  tone_start_to_stop_frame                             reward_port  \\\n",
       "0             (1286, 1486)  [60.41313477701829, 37.56463736381247]   \n",
       "1             (1286, 1486)  [60.41313477701829, 37.56463736381247]   \n",
       "2             (1286, 1486)  [60.41313477701829, 37.56463736381247]   \n",
       "3             (1286, 1486)  [60.41313477701829, 37.56463736381247]   \n",
       "4             (1286, 1486)  [60.41313477701829, 37.56463736381247]   \n",
       "\n",
       "   10s_before_tone_frame nose_to_reward_port_sum  ...  \\\n",
       "0                   1086               30.571493  ...   \n",
       "1                   1086               30.657799  ...   \n",
       "2                   1086               30.738615  ...   \n",
       "3                   1086                30.82523  ...   \n",
       "4                   1086               30.916037  ...   \n",
       "\n",
       "  closebool_agent_nose_to_reward_port movingbool_subject_thorax_velocity  \\\n",
       "0                               False                              False   \n",
       "1                               False                              False   \n",
       "2                               False                              False   \n",
       "3                               False                              False   \n",
       "4                               False                              False   \n",
       "\n",
       "   movingbool_agent_thorax_velocity manual_cluster_id standard_embedding_x  \\\n",
       "0                              True                 2            -2.570171   \n",
       "1                              True                 2            -3.663163   \n",
       "2                             False                 2            -4.050153   \n",
       "3                             False                 2            -4.048223   \n",
       "4                             False                 2            -4.029259   \n",
       "\n",
       "   standard_embedding_y clusterable_embedding_x clusterable_embedding_y  \\\n",
       "0             -0.481869               -2.189707                1.966187   \n",
       "1             -0.950025               -2.932820                1.766647   \n",
       "2             -0.833175               -3.094593                1.802257   \n",
       "3             -0.882780               -3.120238                1.702991   \n",
       "4             -0.994211               -3.105247                1.635060   \n",
       "\n",
       "   kmeans_cluster video_id  \n",
       "0               4        0  \n",
       "1               4        0  \n",
       "2               4        0  \n",
       "3               4        0  \n",
       "4               4        0  \n",
       "\n",
       "[5 rows x 68 columns]"
      ]
     },
     "execution_count": 38,
     "metadata": {},
     "output_type": "execute_result"
    }
   ],
   "source": [
    "exploded_columns.head()"
   ]
  },
  {
   "cell_type": "code",
   "execution_count": 39,
   "metadata": {},
   "outputs": [],
   "source": [
    "grouped_exploded_columns = pd.read_pickle(\"./proc/grouped_exploded_columns.pkl\")\n"
   ]
  },
  {
   "cell_type": "code",
   "execution_count": 58,
   "metadata": {},
   "outputs": [
    {
     "data": {
      "text/html": [
       "<div>\n",
       "<style scoped>\n",
       "    .dataframe tbody tr th:only-of-type {\n",
       "        vertical-align: middle;\n",
       "    }\n",
       "\n",
       "    .dataframe tbody tr th {\n",
       "        vertical-align: top;\n",
       "    }\n",
       "\n",
       "    .dataframe thead th {\n",
       "        text-align: right;\n",
       "    }\n",
       "</style>\n",
       "<table border=\"1\" class=\"dataframe\">\n",
       "  <thead>\n",
       "    <tr style=\"text-align: right;\">\n",
       "      <th></th>\n",
       "      <th>video_name</th>\n",
       "      <th>current_subject</th>\n",
       "      <th>10s_after_tone_frame</th>\n",
       "      <th>10s_before_tone_frame</th>\n",
       "      <th>agent_locations</th>\n",
       "      <th>agent_nose</th>\n",
       "      <th>agent_nose_to_reward_port</th>\n",
       "      <th>agent_tail_base</th>\n",
       "      <th>agent_thorax</th>\n",
       "      <th>agent_thorax_velocity</th>\n",
       "      <th>...</th>\n",
       "      <th>first_timestamp</th>\n",
       "      <th>last_timestamp</th>\n",
       "      <th>reward_port</th>\n",
       "      <th>session_dir</th>\n",
       "      <th>sleap_name</th>\n",
       "      <th>start_frame</th>\n",
       "      <th>stop_frame</th>\n",
       "      <th>tracked_subject</th>\n",
       "      <th>video_id</th>\n",
       "      <th>tone_start_ranges</th>\n",
       "    </tr>\n",
       "  </thead>\n",
       "  <tbody>\n",
       "    <tr>\n",
       "      <th>0</th>\n",
       "      <td>20240317_151922_long_comp_subj_3-1_and_3-3.1</td>\n",
       "      <td>3.1</td>\n",
       "      <td>[1686, 1686, 1686, 1686, 1686, 1686, 1686, 168...</td>\n",
       "      <td>[1086, 1086, 1086, 1086, 1086, 1086, 1086, 108...</td>\n",
       "      <td>[[[47.329585864054316, 13.395104517336417], [4...</td>\n",
       "      <td>[[43.139588993359475, 13.385259646809214], [43...</td>\n",
       "      <td>[29.850004, 29.948483, 30.033619, 30.119339, 3...</td>\n",
       "      <td>[[54.49241922411595, 12.722769593270066], [54....</td>\n",
       "      <td>[[51.04336785027878, 11.609328010205985], [51....</td>\n",
       "      <td>[1.75459, 0.8485628, 0.20676309, -0.17881195, ...</td>\n",
       "      <td>...</td>\n",
       "      <td>2415571.0</td>\n",
       "      <td>48236575.0</td>\n",
       "      <td>[60.41313477701829, 37.56463736381247]</td>\n",
       "      <td>20240317_151922_long_comp_subj_3-1_and_3-3</td>\n",
       "      <td>20240317_151922_long_comp_subj_3-1_and_3-3.1.f...</td>\n",
       "      <td>1</td>\n",
       "      <td>45736</td>\n",
       "      <td>[3.1, 3.3]</td>\n",
       "      <td>0</td>\n",
       "      <td>{1287955: [(0, 599)], 3287980: [(600, 1199)], ...</td>\n",
       "    </tr>\n",
       "    <tr>\n",
       "      <th>1</th>\n",
       "      <td>20240317_151922_long_comp_subj_3-1_and_3-3.1</td>\n",
       "      <td>3.3</td>\n",
       "      <td>[1686, 1686, 1686, 1686, 1686, 1686, 1686, 168...</td>\n",
       "      <td>[1086, 1086, 1086, 1086, 1086, 1086, 1086, 108...</td>\n",
       "      <td>[[[61.390550187751444, 36.122362967315595], [5...</td>\n",
       "      <td>[[60.14673983110819, 38.0809500426292], [60.14...</td>\n",
       "      <td>[0.7214881, 0.70931464, 0.7049949, 0.705891, 0...</td>\n",
       "      <td>[[65.86894804065032, 31.8436244490543], [65.86...</td>\n",
       "      <td>[[64.11036004541992, 34.137273635147906], [64....</td>\n",
       "      <td>[0.11019329, 0.08970148, 0.09392373, 0.1159680...</td>\n",
       "      <td>...</td>\n",
       "      <td>2415571.0</td>\n",
       "      <td>48236575.0</td>\n",
       "      <td>[60.41313477701829, 37.56463736381247]</td>\n",
       "      <td>20240317_151922_long_comp_subj_3-1_and_3-3</td>\n",
       "      <td>20240317_151922_long_comp_subj_3-1_and_3-3.1.f...</td>\n",
       "      <td>1</td>\n",
       "      <td>45736</td>\n",
       "      <td>[3.1, 3.3]</td>\n",
       "      <td>0</td>\n",
       "      <td>{1287955: [(0, 599)], 3287980: [(600, 1199)], ...</td>\n",
       "    </tr>\n",
       "    <tr>\n",
       "      <th>2</th>\n",
       "      <td>20240317_172017_long_comp_subj_4-2_and_4-3.1</td>\n",
       "      <td>4.2</td>\n",
       "      <td>[1701, 1701, 1701, 1701, 1701, 1701, 1701, 170...</td>\n",
       "      <td>[1100, 1100, 1100, 1100, 1100, 1100, 1100, 110...</td>\n",
       "      <td>[[[61.75545079959451, 33.21821636449367], [59....</td>\n",
       "      <td>[[60.79884848875681, 35.963595797483414], [60....</td>\n",
       "      <td>[1.2679133, 1.1848546, 1.0835545, 1.0503241, 1...</td>\n",
       "      <td>[[56.32709801682682, 29.966639024342353], [56....</td>\n",
       "      <td>[[57.3449526902064, 32.078917344899914], [57.5...</td>\n",
       "      <td>[0.28695866, 0.29812592, 0.3080636, 0.34382957...</td>\n",
       "      <td>...</td>\n",
       "      <td>2020598.0</td>\n",
       "      <td>61007363.0</td>\n",
       "      <td>[60.1935112853622, 35.25163617313764]</td>\n",
       "      <td>20240317_172017_long_comp_subj_4-2_and_4-3</td>\n",
       "      <td>20240317_172017_long_comp_subj_4-2_and_4-3.1.f...</td>\n",
       "      <td>1</td>\n",
       "      <td>58878</td>\n",
       "      <td>[4.2, 4.3]</td>\n",
       "      <td>1</td>\n",
       "      <td>{1302635: [(0, 600)], 3302656: [(601, 1200)], ...</td>\n",
       "    </tr>\n",
       "    <tr>\n",
       "      <th>3</th>\n",
       "      <td>20240317_172017_long_comp_subj_4-2_and_4-3.1</td>\n",
       "      <td>4.3</td>\n",
       "      <td>[1701, 1701, 1701, 1701, 1701, 1701, 1701, 170...</td>\n",
       "      <td>[1100, 1100, 1100, 1100, 1100, 1100, 1100, 110...</td>\n",
       "      <td>[[[67.1750209289574, 9.986812953490931], [69.1...</td>\n",
       "      <td>[[65.23110812441777, 8.220414676017084], [62.5...</td>\n",
       "      <td>[28.389486, 28.209822, 28.007545, 27.813864, 2...</td>\n",
       "      <td>[[72.8621368084351, 13.53665765315761], [72.41...</td>\n",
       "      <td>[[72.18478668206376, 10.328978616940205], [71....</td>\n",
       "      <td>[21.16527, 21.272135, 21.302916, 21.162853, 20...</td>\n",
       "      <td>...</td>\n",
       "      <td>2020598.0</td>\n",
       "      <td>61007363.0</td>\n",
       "      <td>[60.1935112853622, 35.25163617313764]</td>\n",
       "      <td>20240317_172017_long_comp_subj_4-2_and_4-3</td>\n",
       "      <td>20240317_172017_long_comp_subj_4-2_and_4-3.1.f...</td>\n",
       "      <td>1</td>\n",
       "      <td>58878</td>\n",
       "      <td>[4.2, 4.3]</td>\n",
       "      <td>1</td>\n",
       "      <td>{1302635: [(0, 600)], 3302656: [(601, 1200)], ...</td>\n",
       "    </tr>\n",
       "    <tr>\n",
       "      <th>4</th>\n",
       "      <td>20240318_143819_long_comp_subj_3-3_and_3-4.1</td>\n",
       "      <td>3.3</td>\n",
       "      <td>[1733, 1733, 1733, 1733, 1733, 1733, 1733, 173...</td>\n",
       "      <td>[1134, 1134, 1134, 1134, 1134, 1134, 1134, 113...</td>\n",
       "      <td>[[[61.29948457574409, 34.98487547102027], [61....</td>\n",
       "      <td>[[58.01061366578415, 33.98924535992776], [58.0...</td>\n",
       "      <td>[3.077167, 3.613538, 4.1945314, 4.827455, 5.53...</td>\n",
       "      <td>[[68.06216599593583, 32.37245454635553], [67.8...</td>\n",
       "      <td>[[65.57930503887175, 33.84569047638807], [65.3...</td>\n",
       "      <td>[8.288751, 9.374064, 10.581271, 11.979093, 13....</td>\n",
       "      <td>...</td>\n",
       "      <td>1938832.0</td>\n",
       "      <td>60762064.0</td>\n",
       "      <td>[60.56358180384908, 36.19153363328459]</td>\n",
       "      <td>20240318_143819_long_comp_subj_3-3_and_3-4</td>\n",
       "      <td>20240318_143819_long_comp_subj_3-3_and_3-4.1.f...</td>\n",
       "      <td>1</td>\n",
       "      <td>58752</td>\n",
       "      <td>[3.3, 3.4]</td>\n",
       "      <td>2</td>\n",
       "      <td>{1300498: [(0, 598)], 3300523: [(599, 1197)], ...</td>\n",
       "    </tr>\n",
       "  </tbody>\n",
       "</table>\n",
       "<p>5 rows × 72 columns</p>\n",
       "</div>"
      ],
      "text/plain": [
       "                                     video_name current_subject  \\\n",
       "0  20240317_151922_long_comp_subj_3-1_and_3-3.1             3.1   \n",
       "1  20240317_151922_long_comp_subj_3-1_and_3-3.1             3.3   \n",
       "2  20240317_172017_long_comp_subj_4-2_and_4-3.1             4.2   \n",
       "3  20240317_172017_long_comp_subj_4-2_and_4-3.1             4.3   \n",
       "4  20240318_143819_long_comp_subj_3-3_and_3-4.1             3.3   \n",
       "\n",
       "                                10s_after_tone_frame  \\\n",
       "0  [1686, 1686, 1686, 1686, 1686, 1686, 1686, 168...   \n",
       "1  [1686, 1686, 1686, 1686, 1686, 1686, 1686, 168...   \n",
       "2  [1701, 1701, 1701, 1701, 1701, 1701, 1701, 170...   \n",
       "3  [1701, 1701, 1701, 1701, 1701, 1701, 1701, 170...   \n",
       "4  [1733, 1733, 1733, 1733, 1733, 1733, 1733, 173...   \n",
       "\n",
       "                               10s_before_tone_frame  \\\n",
       "0  [1086, 1086, 1086, 1086, 1086, 1086, 1086, 108...   \n",
       "1  [1086, 1086, 1086, 1086, 1086, 1086, 1086, 108...   \n",
       "2  [1100, 1100, 1100, 1100, 1100, 1100, 1100, 110...   \n",
       "3  [1100, 1100, 1100, 1100, 1100, 1100, 1100, 110...   \n",
       "4  [1134, 1134, 1134, 1134, 1134, 1134, 1134, 113...   \n",
       "\n",
       "                                     agent_locations  \\\n",
       "0  [[[47.329585864054316, 13.395104517336417], [4...   \n",
       "1  [[[61.390550187751444, 36.122362967315595], [5...   \n",
       "2  [[[61.75545079959451, 33.21821636449367], [59....   \n",
       "3  [[[67.1750209289574, 9.986812953490931], [69.1...   \n",
       "4  [[[61.29948457574409, 34.98487547102027], [61....   \n",
       "\n",
       "                                          agent_nose  \\\n",
       "0  [[43.139588993359475, 13.385259646809214], [43...   \n",
       "1  [[60.14673983110819, 38.0809500426292], [60.14...   \n",
       "2  [[60.79884848875681, 35.963595797483414], [60....   \n",
       "3  [[65.23110812441777, 8.220414676017084], [62.5...   \n",
       "4  [[58.01061366578415, 33.98924535992776], [58.0...   \n",
       "\n",
       "                           agent_nose_to_reward_port  \\\n",
       "0  [29.850004, 29.948483, 30.033619, 30.119339, 3...   \n",
       "1  [0.7214881, 0.70931464, 0.7049949, 0.705891, 0...   \n",
       "2  [1.2679133, 1.1848546, 1.0835545, 1.0503241, 1...   \n",
       "3  [28.389486, 28.209822, 28.007545, 27.813864, 2...   \n",
       "4  [3.077167, 3.613538, 4.1945314, 4.827455, 5.53...   \n",
       "\n",
       "                                     agent_tail_base  \\\n",
       "0  [[54.49241922411595, 12.722769593270066], [54....   \n",
       "1  [[65.86894804065032, 31.8436244490543], [65.86...   \n",
       "2  [[56.32709801682682, 29.966639024342353], [56....   \n",
       "3  [[72.8621368084351, 13.53665765315761], [72.41...   \n",
       "4  [[68.06216599593583, 32.37245454635553], [67.8...   \n",
       "\n",
       "                                        agent_thorax  \\\n",
       "0  [[51.04336785027878, 11.609328010205985], [51....   \n",
       "1  [[64.11036004541992, 34.137273635147906], [64....   \n",
       "2  [[57.3449526902064, 32.078917344899914], [57.5...   \n",
       "3  [[72.18478668206376, 10.328978616940205], [71....   \n",
       "4  [[65.57930503887175, 33.84569047638807], [65.3...   \n",
       "\n",
       "                               agent_thorax_velocity  ... first_timestamp  \\\n",
       "0  [1.75459, 0.8485628, 0.20676309, -0.17881195, ...  ...       2415571.0   \n",
       "1  [0.11019329, 0.08970148, 0.09392373, 0.1159680...  ...       2415571.0   \n",
       "2  [0.28695866, 0.29812592, 0.3080636, 0.34382957...  ...       2020598.0   \n",
       "3  [21.16527, 21.272135, 21.302916, 21.162853, 20...  ...       2020598.0   \n",
       "4  [8.288751, 9.374064, 10.581271, 11.979093, 13....  ...       1938832.0   \n",
       "\n",
       "  last_timestamp                             reward_port  \\\n",
       "0     48236575.0  [60.41313477701829, 37.56463736381247]   \n",
       "1     48236575.0  [60.41313477701829, 37.56463736381247]   \n",
       "2     61007363.0   [60.1935112853622, 35.25163617313764]   \n",
       "3     61007363.0   [60.1935112853622, 35.25163617313764]   \n",
       "4     60762064.0  [60.56358180384908, 36.19153363328459]   \n",
       "\n",
       "                                  session_dir  \\\n",
       "0  20240317_151922_long_comp_subj_3-1_and_3-3   \n",
       "1  20240317_151922_long_comp_subj_3-1_and_3-3   \n",
       "2  20240317_172017_long_comp_subj_4-2_and_4-3   \n",
       "3  20240317_172017_long_comp_subj_4-2_and_4-3   \n",
       "4  20240318_143819_long_comp_subj_3-3_and_3-4   \n",
       "\n",
       "                                          sleap_name start_frame stop_frame  \\\n",
       "0  20240317_151922_long_comp_subj_3-1_and_3-3.1.f...           1      45736   \n",
       "1  20240317_151922_long_comp_subj_3-1_and_3-3.1.f...           1      45736   \n",
       "2  20240317_172017_long_comp_subj_4-2_and_4-3.1.f...           1      58878   \n",
       "3  20240317_172017_long_comp_subj_4-2_and_4-3.1.f...           1      58878   \n",
       "4  20240318_143819_long_comp_subj_3-3_and_3-4.1.f...           1      58752   \n",
       "\n",
       "  tracked_subject video_id                                  tone_start_ranges  \n",
       "0      [3.1, 3.3]        0  {1287955: [(0, 599)], 3287980: [(600, 1199)], ...  \n",
       "1      [3.1, 3.3]        0  {1287955: [(0, 599)], 3287980: [(600, 1199)], ...  \n",
       "2      [4.2, 4.3]        1  {1302635: [(0, 600)], 3302656: [(601, 1200)], ...  \n",
       "3      [4.2, 4.3]        1  {1302635: [(0, 600)], 3302656: [(601, 1200)], ...  \n",
       "4      [3.3, 3.4]        2  {1300498: [(0, 598)], 3300523: [(599, 1197)], ...  \n",
       "\n",
       "[5 rows x 72 columns]"
      ]
     },
     "execution_count": 58,
     "metadata": {},
     "output_type": "execute_result"
    }
   ],
   "source": [
    "grouped_exploded_columns.head()"
   ]
  },
  {
   "cell_type": "code",
   "execution_count": 42,
   "metadata": {},
   "outputs": [
    {
     "data": {
      "text/plain": [
       "(17987,)"
      ]
     },
     "execution_count": 42,
     "metadata": {},
     "output_type": "execute_result"
    }
   ],
   "source": [
    "grouped_exploded_columns[\"10s_after_tone_frame\"].iloc[0].shape"
   ]
  },
  {
   "cell_type": "code",
   "execution_count": 46,
   "metadata": {},
   "outputs": [
    {
     "data": {
      "text/plain": [
       "Index(['video_name', 'current_subject', '10s_after_tone_frame',\n",
       "       '10s_before_tone_frame', 'agent_locations', 'agent_nose',\n",
       "       'agent_nose_to_reward_port', 'agent_tail_base', 'agent_thorax',\n",
       "       'agent_thorax_velocity', 'agent_to_reward_port_angle',\n",
       "       'closebool_agent_nose_to_reward_port',\n",
       "       'closebool_subject_nose_to_reward_port', 'clusterable_embedding_x',\n",
       "       'clusterable_embedding_y', 'color', 'comp_id', 'competition_closeness',\n",
       "       'competitiveness', 'condition ', 'frame_index', 'get_reward_frame',\n",
       "       'kmeans_cluster', 'manual_cluster_id',\n",
       "       'movingbool_agent_thorax_velocity',\n",
       "       'movingbool_subject_thorax_velocity', 'nose_to_reward_port_diff',\n",
       "       'nose_to_reward_port_sum', 'nose_to_tail_diff', 'nose_to_tail_sum',\n",
       "       'notes', 'out_reward_frame', 'standard_embedding_x',\n",
       "       'standard_embedding_y', 'subject_locations', 'subject_nose',\n",
       "       'subject_nose_to_reward_port', 'subject_tail_base', 'subject_thorax',\n",
       "       'subject_thorax_to_agent_thorax', 'subject_thorax_velocity',\n",
       "       'subject_to_reward_port_angle', 'thorax_velocity_diff',\n",
       "       'thorax_velocity_sum', 'to_reward_port_angle_diff',\n",
       "       'to_reward_port_angle_sum', 'tone_start_frame', 'tone_start_timestamp',\n",
       "       'tone_start_to_stop_frame', 'tone_stop_frame', 'tone_stop_timestamp',\n",
       "       'within_trial_frame_index', 'within_trial_index', 'agent',\n",
       "       'all_subjects', 'body_parts', 'box_bottom_left', 'box_bottom_right',\n",
       "       'box_number', 'box_top_left', 'box_top_right', 'experiment',\n",
       "       'first_timestamp', 'last_timestamp', 'reward_port', 'session_dir',\n",
       "       'sleap_name', 'start_frame', 'stop_frame', 'tracked_subject',\n",
       "       'video_id'],\n",
       "      dtype='object')"
      ]
     },
     "execution_count": 46,
     "metadata": {},
     "output_type": "execute_result"
    }
   ],
   "source": [
    "grouped_exploded_columns.columns"
   ]
  },
  {
   "cell_type": "code",
   "execution_count": 48,
   "metadata": {},
   "outputs": [
    {
     "name": "stdout",
     "output_type": "stream",
     "text": [
      "{np.int64(3): [(4, 5)]}\n"
     ]
    }
   ],
   "source": [
    "import numpy as np\n",
    "from collections import defaultdict\n",
    "\n",
    "def get_repeating_ranges(arr):\n",
    "    repeating_ranges = defaultdict(list)\n",
    "    n = len(arr)\n",
    "\n",
    "    i = 0\n",
    "    while i < n:\n",
    "        value = arr[i]\n",
    "        start = i\n",
    "        \n",
    "        # Move to the end of the current block of repeating values\n",
    "        while i < n and arr[i] == value:\n",
    "            i += 1\n",
    "        \n",
    "        end = i - 1\n",
    "        \n",
    "        # If the value repeats, store the range in the dictionary\n",
    "        if end > start:\n",
    "            repeating_ranges[value].append((start, end))\n",
    "        else:\n",
    "            # Move to the next element\n",
    "            i += 1\n",
    "            \n",
    "    return dict(repeating_ranges)\n",
    "\n",
    "# Example usage\n",
    "arr = np.array([1, 2, 2, 3, 3, 3, 4, 2, 2, 5])\n",
    "repeating_ranges = get_repeating_ranges(arr)\n",
    "print(repeating_ranges)"
   ]
  },
  {
   "cell_type": "code",
   "execution_count": null,
   "metadata": {},
   "outputs": [],
   "source": []
  },
  {
   "cell_type": "code",
   "execution_count": 50,
   "metadata": {},
   "outputs": [],
   "source": [
    "grouped_exploded_columns[\"tone_start_timestamp\"] = grouped_exploded_columns[\"tone_start_timestamp\"].apply(lambda x: x.astype(int))"
   ]
  },
  {
   "cell_type": "code",
   "execution_count": 52,
   "metadata": {},
   "outputs": [],
   "source": [
    "grouped_exploded_columns[\"tone_start_ranges\"] = grouped_exploded_columns[\"tone_start_timestamp\"].apply(lambda x: get_repeating_ranges(x))"
   ]
  },
  {
   "cell_type": "markdown",
   "metadata": {},
   "source": [
    "# Calculating relationship between win/lose ratio and competitiveness"
   ]
  },
  {
   "cell_type": "code",
   "execution_count": 59,
   "metadata": {},
   "outputs": [
    {
     "data": {
      "text/plain": [
       "Index(['video_name', 'current_subject', '10s_after_tone_frame',\n",
       "       '10s_before_tone_frame', 'agent_locations', 'agent_nose',\n",
       "       'agent_nose_to_reward_port', 'agent_tail_base', 'agent_thorax',\n",
       "       'agent_thorax_velocity', 'agent_to_reward_port_angle',\n",
       "       'closebool_agent_nose_to_reward_port',\n",
       "       'closebool_subject_nose_to_reward_port', 'clusterable_embedding_x',\n",
       "       'clusterable_embedding_y', 'color', 'comp_id', 'competition_closeness',\n",
       "       'competitiveness', 'condition ', 'frame_index', 'get_reward_frame',\n",
       "       'kmeans_cluster', 'manual_cluster_id',\n",
       "       'movingbool_agent_thorax_velocity',\n",
       "       'movingbool_subject_thorax_velocity', 'nose_to_reward_port_diff',\n",
       "       'nose_to_reward_port_sum', 'nose_to_tail_diff', 'nose_to_tail_sum',\n",
       "       'notes', 'out_reward_frame', 'standard_embedding_x',\n",
       "       'standard_embedding_y', 'subject_locations', 'subject_nose',\n",
       "       'subject_nose_to_reward_port', 'subject_tail_base', 'subject_thorax',\n",
       "       'subject_thorax_to_agent_thorax', 'subject_thorax_velocity',\n",
       "       'subject_to_reward_port_angle', 'thorax_velocity_diff',\n",
       "       'thorax_velocity_sum', 'to_reward_port_angle_diff',\n",
       "       'to_reward_port_angle_sum', 'tone_start_frame', 'tone_start_timestamp',\n",
       "       'tone_start_to_stop_frame', 'tone_stop_frame', 'tone_stop_timestamp',\n",
       "       'within_trial_frame_index', 'within_trial_index', 'agent',\n",
       "       'all_subjects', 'body_parts', 'box_bottom_left', 'box_bottom_right',\n",
       "       'box_number', 'box_top_left', 'box_top_right', 'experiment',\n",
       "       'first_timestamp', 'last_timestamp', 'reward_port', 'session_dir',\n",
       "       'sleap_name', 'start_frame', 'stop_frame', 'tracked_subject',\n",
       "       'video_id', 'tone_start_ranges'],\n",
       "      dtype='object')"
      ]
     },
     "execution_count": 59,
     "metadata": {},
     "output_type": "execute_result"
    }
   ],
   "source": [
    "grouped_exploded_columns.columns"
   ]
  },
  {
   "cell_type": "code",
   "execution_count": 57,
   "metadata": {},
   "outputs": [
    {
     "data": {
      "text/plain": [
       "0    [3.3, 3.3, 3.3, 3.3, 3.3, 3.3, 3.3, 3.3, 3.3, ...\n",
       "1    [3.3, 3.3, 3.3, 3.3, 3.3, 3.3, 3.3, 3.3, 3.3, ...\n",
       "2    [4.2, 4.2, 4.2, 4.2, 4.2, 4.2, 4.2, 4.2, 4.2, ...\n",
       "3    [4.2, 4.2, 4.2, 4.2, 4.2, 4.2, 4.2, 4.2, 4.2, ...\n",
       "4    [3.4, 3.4, 3.4, 3.4, 3.4, 3.4, 3.4, 3.4, 3.4, ...\n",
       "Name: condition , dtype: object"
      ]
     },
     "execution_count": 57,
     "metadata": {},
     "output_type": "execute_result"
    }
   ],
   "source": [
    "grouped_exploded_columns[\"condition \"].head()"
   ]
  },
  {
   "cell_type": "code",
   "execution_count": 56,
   "metadata": {},
   "outputs": [
    {
     "data": {
      "text/plain": [
       "0    [Subj 2 then Subj 1, Subj 2 then Subj 1, Subj ...\n",
       "1    [Subj 2 then Subj 1, Subj 2 then Subj 1, Subj ...\n",
       "2    [Subj 1 then Subj 2, Subj 1 then Subj 2, Subj ...\n",
       "3    [Subj 1 then Subj 2, Subj 1 then Subj 2, Subj ...\n",
       "4    [Subj 2 Only, Subj 2 Only, Subj 2 Only, Subj 2...\n",
       "Name: competition_closeness, dtype: object"
      ]
     },
     "execution_count": 56,
     "metadata": {},
     "output_type": "execute_result"
    }
   ],
   "source": [
    "grouped_exploded_columns[\"competition_closeness\"].head()"
   ]
  },
  {
   "cell_type": "code",
   "execution_count": null,
   "metadata": {},
   "outputs": [],
   "source": []
  }
 ],
 "metadata": {
  "deepnote": {},
  "deepnote_execution_queue": [],
  "deepnote_notebook_id": "cf8fe3695d074ee7887fdf6459cbf5ce",
  "kernelspec": {
   "display_name": "mountainsort_0_5_6",
   "language": "python",
   "name": "python3"
  },
  "language_info": {
   "codemirror_mode": {
    "name": "ipython",
    "version": 3
   },
   "file_extension": ".py",
   "mimetype": "text/x-python",
   "name": "python",
   "nbconvert_exporter": "python",
   "pygments_lexer": "ipython3",
   "version": "3.9.19"
  }
 },
 "nbformat": 4,
 "nbformat_minor": 4
}
