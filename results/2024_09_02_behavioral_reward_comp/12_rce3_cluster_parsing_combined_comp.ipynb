{
 "cells": [
  {
   "cell_type": "markdown",
   "metadata": {
    "cell_id": "c3a02adc9e884466bc8c79db549cc3d2",
    "deepnote_cell_type": "text-cell-h1",
    "formattedRanges": [
     {
      "fromCodePoint": 0,
      "marks": {
       "bold": true,
       "underline": true
      },
      "toCodePoint": 17,
      "type": "marks"
     }
    ]
   },
   "source": [
    "# All oscillation analysis"
   ]
  },
  {
   "cell_type": "markdown",
   "metadata": {
    "cell_id": "4546bee655b14a5dbf393161f1228e60",
    "deepnote_cell_type": "text-cell-p",
    "formattedRanges": []
   },
   "source": [
    "Brief 1-2 sentence description of notebook."
   ]
  },
  {
   "cell_type": "code",
   "execution_count": 1,
   "metadata": {
    "tags": []
   },
   "outputs": [],
   "source": [
    "# Imports of all used packages and libraries\n",
    "import sys\n",
    "import os\n",
    "import git\n",
    "import glob\n",
    "from collections import defaultdict"
   ]
  },
  {
   "cell_type": "code",
   "execution_count": 2,
   "metadata": {
    "tags": []
   },
   "outputs": [],
   "source": [
    "git_repo = git.Repo(\".\", search_parent_directories=True)\n",
    "git_root = git_repo.git.rev_parse(\"--show-toplevel\")"
   ]
  },
  {
   "cell_type": "code",
   "execution_count": 3,
   "metadata": {
    "tags": []
   },
   "outputs": [
    {
     "data": {
      "text/plain": [
       "'C:/Users/ryoiwata/Documents/GitHub/reward_comp_ext'"
      ]
     },
     "execution_count": 3,
     "metadata": {},
     "output_type": "execute_result"
    }
   ],
   "source": [
    "git_root"
   ]
  },
  {
   "cell_type": "code",
   "execution_count": 4,
   "metadata": {
    "tags": []
   },
   "outputs": [],
   "source": [
    "sys.path.insert(0, os.path.join(git_root, 'src'))"
   ]
  },
  {
   "cell_type": "code",
   "execution_count": 5,
   "metadata": {
    "tags": []
   },
   "outputs": [],
   "source": [
    "import warnings\n",
    "warnings.filterwarnings('ignore')"
   ]
  },
  {
   "cell_type": "code",
   "execution_count": 6,
   "metadata": {
    "tags": []
   },
   "outputs": [],
   "source": [
    "import os\n",
    "import collections\n",
    "import itertools\n",
    "from collections import defaultdict\n",
    "from itertools import combinations"
   ]
  },
  {
   "cell_type": "raw",
   "metadata": {},
   "source": [
    "os.environ[\"SPECTRAL_CONNECTIVITY_ENABLE_GPU\"] = \"true\"\n",
    "import cupy as cp"
   ]
  },
  {
   "cell_type": "code",
   "execution_count": 7,
   "metadata": {
    "cell_id": "03b495cefa6a4798a44c7f2e4c6a3ea7",
    "deepnote_cell_type": "code",
    "deepnote_to_be_reexecuted": false,
    "execution_millis": 21,
    "execution_start": 1691424003626,
    "source_hash": null,
    "tags": []
   },
   "outputs": [],
   "source": [
    "# Imports of all used packages and libraries\n",
    "import numpy as np\n",
    "import pandas as pd\n",
    "from scipy import stats\n",
    "from scipy.stats import mannwhitneyu\n",
    "# import seaborn as sns\n",
    "\n"
   ]
  },
  {
   "cell_type": "code",
   "execution_count": 8,
   "metadata": {
    "tags": []
   },
   "outputs": [],
   "source": [
    "import matplotlib\n",
    "import matplotlib.colors as mcolors\n",
    "import matplotlib.pyplot as plt\n",
    "import matplotlib.cm as cm\n",
    "import colorsys"
   ]
  },
  {
   "cell_type": "code",
   "execution_count": 9,
   "metadata": {
    "tags": []
   },
   "outputs": [],
   "source": [
    "from sklearn.metrics import confusion_matrix"
   ]
  },
  {
   "cell_type": "code",
   "execution_count": 10,
   "metadata": {
    "tags": []
   },
   "outputs": [],
   "source": [
    "# from spectral_connectivity import Multitaper, Connectivity\n",
    "# import spectral_connectivity"
   ]
  },
  {
   "cell_type": "code",
   "execution_count": 11,
   "metadata": {
    "tags": []
   },
   "outputs": [],
   "source": [
    "import utilities.helper\n",
    "import trodes.read_exported"
   ]
  },
  {
   "cell_type": "code",
   "execution_count": 12,
   "metadata": {
    "tags": []
   },
   "outputs": [],
   "source": [
    "FONTSIZE = 20"
   ]
  },
  {
   "cell_type": "code",
   "execution_count": 13,
   "metadata": {
    "tags": []
   },
   "outputs": [],
   "source": [
    "font = {'weight' : 'medium',\n",
    "        'size'   : 20}\n",
    "\n",
    "matplotlib.rc('font', **font)"
   ]
  },
  {
   "cell_type": "code",
   "execution_count": null,
   "metadata": {},
   "outputs": [],
   "source": []
  },
  {
   "cell_type": "code",
   "execution_count": 14,
   "metadata": {},
   "outputs": [],
   "source": [
    "# Define a function to horizontally stack arrays\n",
    "def stack_arrays(arrays):\n",
    "    return np.vstack(arrays)"
   ]
  },
  {
   "cell_type": "code",
   "execution_count": 15,
   "metadata": {},
   "outputs": [],
   "source": [
    "# BAND_TO_FREQ_PLOT = {'theta': (4, 12), 'gamma': (30, 50)}\n",
    "BAND_TO_FREQ_PLOT = {'theta': (4, 12)}\n",
    "BAND_TO_FREQ_COLOR = {'theta': \"#FFAF00\", 'beta': \"blue\", 'gamma': \"green\"}"
   ]
  },
  {
   "cell_type": "markdown",
   "metadata": {
    "cell_id": "d290bac2c17940bfbc0f9296beaf70e5",
    "deepnote_cell_type": "text-cell-h2",
    "formattedRanges": []
   },
   "source": [
    "## Inputs & Data"
   ]
  },
  {
   "cell_type": "code",
   "execution_count": 16,
   "metadata": {
    "tags": []
   },
   "outputs": [],
   "source": [
    "EPHYS_SAMPLE_RATE = 20000"
   ]
  },
  {
   "cell_type": "code",
   "execution_count": 17,
   "metadata": {
    "tags": []
   },
   "outputs": [],
   "source": [
    "# GOOD_SUBJECTS = [\"3.1\", \"3.3\", \"3.4\", \"4.2\", \"4.3\", \"5.2\", \"5.3\"]\n",
    "# GOOD_SUBJECTS = [\"3.1\", \"4.2\", \"4.3\"]\n",
    "# GOOD_SUBJECTS = [\"3.1\", \"3.3\", \"3.4\", \"4.2\", \"4.3\"]\n",
    "GOOD_SUBJECTS = [\"3.1\", \"3.3\", \"3.4\", \"4.2\", \"4.3\", \"5.2\", \"5.3\"]\n",
    "# GOOD_SUBJECTS = [\"3.1\", \"3.3\", \"3.4\", \"4.2\", \"4.3\"]\n"
   ]
  },
  {
   "cell_type": "markdown",
   "metadata": {
    "cell_id": "e528ce19c608425292151930d380f49f",
    "deepnote_cell_type": "text-cell-p",
    "formattedRanges": []
   },
   "source": [
    "Explanation of each input and where it comes from."
   ]
  },
  {
   "cell_type": "code",
   "execution_count": 18,
   "metadata": {
    "cell_id": "6cf83a5811054461a718a71673d09aab",
    "deepnote_cell_type": "code",
    "deepnote_to_be_reexecuted": false,
    "execution_millis": 373,
    "execution_start": 1691424003628,
    "source_hash": null,
    "tags": []
   },
   "outputs": [],
   "source": [
    "# Inputs and Required data loading\n",
    "# input varaible names are in all caps snake case\n",
    "# Whenever an input changes or is used for processing \n",
    "# the vairables are all lower in snake case\n",
    "OUTPUT_DIR = r\"./proc/\" # where data is saved should always be shown in the inputs\n",
    "os.makedirs(OUTPUT_DIR, exist_ok=True)\n",
    "OUTPUT_PREFIXES = [\"rce_pilot_3_alone_comp\", \"rce_pilot_3_long_comp\"]\n",
    "OUTPUT_PREFIX = \"rce_pilot_3_combined\""
   ]
  },
  {
   "cell_type": "code",
   "execution_count": 19,
   "metadata": {
    "tags": []
   },
   "outputs": [],
   "source": [
    "# TRIAL_LABELS_DF = pd.read_excel(\"/blue/npadillacoreano/ryoi360/projects/reward_comp/repos/reward_comp_ext/results/2024_06_26_sleap_clustering/data/rce_pilot_3_alone_comp_per_video_trial_labels.xlsx\")\n",
    "TRIALS_AND_SPECTRAL_DF = pd.concat([pd.read_pickle(\"./proc/{}_10_per_trial_spectral_bans_sleap.pkl\".format(prefix)) for prefix in OUTPUT_PREFIXES])"
   ]
  },
  {
   "cell_type": "code",
   "execution_count": 20,
   "metadata": {
    "tags": []
   },
   "outputs": [],
   "source": [
    "FULL_LFP_TRACES_PKL = \"{}_12_per_cluster_spectral_bans_sleap.pkl\".format(OUTPUT_PREFIX)"
   ]
  },
  {
   "cell_type": "markdown",
   "metadata": {
    "cell_id": "e3ee4891d43a4ac287413afc552ca289",
    "deepnote_cell_type": "text-cell-h2",
    "formattedRanges": []
   },
   "source": [
    "## Outputs"
   ]
  },
  {
   "cell_type": "markdown",
   "metadata": {
    "cell_id": "9ccbf6cc70fd4d379fa29317f733771f",
    "deepnote_cell_type": "text-cell-p",
    "formattedRanges": []
   },
   "source": [
    "Describe each output that the notebook creates. "
   ]
  },
  {
   "cell_type": "markdown",
   "metadata": {
    "cell_id": "fc8e8920a6944918a15fac575cdf6e78",
    "deepnote_cell_type": "text-cell-bullet",
    "formattedRanges": []
   },
   "source": [
    "- Is it a plot or is it data?"
   ]
  },
  {
   "cell_type": "markdown",
   "metadata": {
    "cell_id": "1e639d4776a84aa9ac8ded2e14fa57db",
    "deepnote_cell_type": "text-cell-bullet",
    "formattedRanges": []
   },
   "source": [
    "- How valuable is the output and why is it valuable or useful?"
   ]
  },
  {
   "cell_type": "markdown",
   "metadata": {},
   "source": [
    "## Functions "
   ]
  },
  {
   "cell_type": "code",
   "execution_count": 21,
   "metadata": {
    "tags": []
   },
   "outputs": [
    {
     "name": "stdout",
     "output_type": "stream",
     "text": [
      "{'a': [1, 2, 5, 8, 9], 'b': [3, 4, 6, 7], 'c': [10]}\n"
     ]
    }
   ],
   "source": [
    "def combine_dicts(dicts):\n",
    "    \"\"\"\n",
    "    Combine lists from multiple dictionaries that share the same key.\n",
    "\n",
    "    This function takes a list of dictionaries where each dictionary's values are lists of numbers.\n",
    "    It merges these lists for each corresponding key across all dictionaries, producing a single\n",
    "    dictionary where each key has a combined list of all numbers from the input dictionaries.\n",
    "\n",
    "    Parameters:\n",
    "        dicts (list of dict): A list of dictionaries with values as lists of numbers.\n",
    "\n",
    "    Returns:\n",
    "        dict: A dictionary with keys from the input dictionaries and values as merged lists \n",
    "        of numbers from all corresponding input dictionary values.\n",
    "    \"\"\"\n",
    "    combined = defaultdict(list)\n",
    "    for dictionary in dicts:\n",
    "        for key, value in dictionary.items():\n",
    "            combined[key].extend(value)\n",
    "    \n",
    "    return dict(combined)\n",
    "\n",
    "\n",
    "# Example usage\n",
    "list_of_dicts = [\n",
    "    {'a': [1, 2], 'b': [3, 4]},\n",
    "    {'a': [5], 'b': [6, 7]},\n",
    "    {'a': [8, 9], 'c': [10]}\n",
    "]\n",
    "\n",
    "combined_dict = combine_dicts(list_of_dicts)\n",
    "print(combined_dict)"
   ]
  },
  {
   "cell_type": "code",
   "execution_count": 22,
   "metadata": {
    "tags": []
   },
   "outputs": [
    {
     "name": "stdout",
     "output_type": "stream",
     "text": [
      "{2: [(2, 4)], 3: [(5, 8)]}\n"
     ]
    }
   ],
   "source": [
    "def find_consecutive_ranges(numbers, min_length=1):\n",
    "    \"\"\"\n",
    "    Finds the start and end indices for consecutive ranges of each number in a list where the range meets a minimum length.\n",
    "\n",
    "    This function iterates through a list of integers and identifies ranges where the same integer appears consecutively\n",
    "    and the length of this sequence meets or exceeds the specified minimum length.\n",
    "\n",
    "    Parameters:\n",
    "        numbers (list): A list of integers to analyze for consecutive ranges.\n",
    "        min_length (int): The minimum length of a range for it to be included in the results.\n",
    "\n",
    "    Returns:\n",
    "        dict: A dictionary with integers as keys and a list of tuples (start, end) as values,\n",
    "              where each tuple represents the start and end indices (inclusive) of consecutive ranges\n",
    "              for that integer. Only ranges that meet or exceed the minimum length are included.\n",
    "    \"\"\"\n",
    "    ranges = {}\n",
    "    n = len(numbers)\n",
    "    if n == 0:\n",
    "        return ranges\n",
    "    \n",
    "    start = 0\n",
    "    current = numbers[0]\n",
    "\n",
    "    for i in range(1, n):\n",
    "        if numbers[i] != current:\n",
    "            if (i - start) >= min_length:\n",
    "                if current not in ranges:\n",
    "                    ranges[current] = []\n",
    "                ranges[current].append((start, i - 1))\n",
    "            current = numbers[i]\n",
    "            start = i\n",
    "\n",
    "    # Handle the last range\n",
    "    if (n - start) >= min_length:\n",
    "        if current not in ranges:\n",
    "            ranges[current] = []\n",
    "        ranges[current].append((start, n - 1))\n",
    "\n",
    "    return ranges\n",
    "\n",
    "# Example usage:\n",
    "numbers = [1, 1, 2, 2, 2, 3, 3, 3, 3, 2, 2, 1, 1]\n",
    "print(find_consecutive_ranges(numbers, min_length=3))"
   ]
  },
  {
   "cell_type": "code",
   "execution_count": 23,
   "metadata": {
    "tags": []
   },
   "outputs": [
    {
     "name": "stdout",
     "output_type": "stream",
     "text": [
      "{'a': [('alpha', 'beta'), ('gamma', 'delta')], 'b': [('beta', 'delta'), ('alpha', 'gamma')]}\n"
     ]
    }
   ],
   "source": [
    "def update_tuples_in_dict(original_dict, reference_list):\n",
    "    \"\"\"\n",
    "    Updates the values in the tuples within a dictionary by replacing indices with corresponding values from a reference list.\n",
    "    \n",
    "    This function iterates through each key-value pair in the original dictionary. Each value is expected to be a list of tuples,\n",
    "    where each tuple contains indices. These indices are used to fetch corresponding values from the reference list, creating new tuples.\n",
    "    \n",
    "    Parameters:\n",
    "        original_dict (dict): Dictionary whose values are lists of tuples. Each tuple consists of indices into the reference_list.\n",
    "        reference_list (list): List of elements that are referenced by the indices in the tuples of the original_dict.\n",
    "        \n",
    "    Returns:\n",
    "        dict: A dictionary with the same keys as original_dict but with tuples transformed to contain elements from reference_list\n",
    "              based on the indices in the original tuples.\n",
    "    \"\"\"\n",
    "    # Create a new dictionary to store the updated key-value pairs\n",
    "    new_dict = {}\n",
    "    for key, list_of_tuples in original_dict.items():\n",
    "        # Process each tuple in the list associated with the current key\n",
    "        updated_tuples = [\n",
    "            tuple(reference_list[idx] for idx in tup) for tup in list_of_tuples\n",
    "        ]\n",
    "        new_dict[key] = updated_tuples\n",
    "    \n",
    "    return new_dict\n",
    "\n",
    "# Example usage:\n",
    "original_dict = {\n",
    "    'a': [(0, 1), (2, 3)],\n",
    "    'b': [(1, 3), (0, 2)]\n",
    "}\n",
    "reference_list = ['alpha', 'beta', 'gamma', 'delta']\n",
    "\n",
    "updated_dict = update_tuples_in_dict(original_dict, reference_list)\n",
    "print(updated_dict)"
   ]
  },
  {
   "cell_type": "code",
   "execution_count": 24,
   "metadata": {
    "tags": []
   },
   "outputs": [],
   "source": [
    "# def find_indices_within_ranges(ranges_dict, values):\n",
    "#     \"\"\"\n",
    "#     Creates a dictionary mapping keys to sorted indices of values that fall within specified ranges.\n",
    "    \n",
    "#     Parameters:\n",
    "#         ranges_dict (dict): A dictionary with keys and values as lists of tuples representing ranges.\n",
    "#         values (list): A list of values to check against the ranges.\n",
    "        \n",
    "#     Returns:\n",
    "#         dict: A dictionary where each key maps to a sorted list of indices for values within the ranges.\n",
    "#     \"\"\"\n",
    "#     result_dict = {}\n",
    "#     for key, ranges in ranges_dict.items():\n",
    "#         matched_indices = []\n",
    "#         for index, value in enumerate(values):\n",
    "#             if any(start <= value <= end for start, end in ranges):\n",
    "#                 matched_indices.append(index)\n",
    "#         result_dict[key] = sorted(matched_indices)\n",
    "#     return list(result_dict.items())\n",
    "\n",
    "# # Example usage:\n",
    "# ranges_dict = {\n",
    "#     'range1': [(1, 5), (10, 15)],\n",
    "#     'range2': [(0, 2), (4, 8)]\n",
    "# }\n",
    "# values = [0, 1, 2, 3, 4, 5, 6, 7, 8, 9, 10, 11, 12, 13, 14, 15]\n",
    "\n",
    "# result = find_indices_within_ranges(ranges_dict, values)\n",
    "# print(result)\n"
   ]
  },
  {
   "cell_type": "code",
   "execution_count": 25,
   "metadata": {},
   "outputs": [
    {
     "name": "stdout",
     "output_type": "stream",
     "text": [
      "[('alpha', 'beta'), ('gamma', 'delta'), ('beta', 'delta'), ('alpha', 'gamma')]\n"
     ]
    }
   ],
   "source": [
    "def update_tuples_in_list(original_list, reference_list):\n",
    "    \"\"\"\n",
    "    Updates the values in the tuples within a list by replacing indices with corresponding values from a reference list.\n",
    "    \n",
    "    This function iterates through each tuple in the original list. Each tuple is expected to contain indices.\n",
    "    These indices are used to fetch corresponding values from the reference list, creating new tuples.\n",
    "    \n",
    "    Parameters:\n",
    "        original_list (list): List of tuples. Each inner tuple consists of indices into the reference_list.\n",
    "        reference_list (list): List of elements that are referenced by the indices in the tuples of the original_list.\n",
    "        \n",
    "    Returns:\n",
    "        list: A list with the same structure as original_list but with tuples transformed to contain elements from reference_list\n",
    "              based on the indices in the original tuples.\n",
    "    \"\"\"\n",
    "    # Create a new list to store the updated tuples\n",
    "    new_list = [\n",
    "        tuple(reference_list[idx] for idx in tup) for tup in original_list\n",
    "    ]\n",
    "    \n",
    "    return new_list\n",
    "\n",
    "# Example usage:\n",
    "original_list = [\n",
    "    (0, 1), (2, 3),\n",
    "    (1, 3), (0, 2)\n",
    "]\n",
    "reference_list = ['alpha', 'beta', 'gamma', 'delta']\n",
    "\n",
    "updated_list = update_tuples_in_list(original_list, reference_list)\n",
    "print(updated_list)"
   ]
  },
  {
   "cell_type": "code",
   "execution_count": 26,
   "metadata": {},
   "outputs": [
    {
     "name": "stdout",
     "output_type": "stream",
     "text": [
      "[0, 1, 2, 3, 4, 5, 6, 7, 8, 10, 11, 12, 13, 14, 15]\n"
     ]
    }
   ],
   "source": [
    "def find_indices_within_ranges(ranges_list, values):\n",
    "    \"\"\"\n",
    "    Finds the indices of values that fall within specified ranges.\n",
    "    \n",
    "    Parameters:\n",
    "        ranges_list (list): A list of tuples representing ranges.\n",
    "        values (list): A list of values to check against the ranges.\n",
    "        \n",
    "    Returns:\n",
    "        list: A list of sorted indices for values within the ranges.\n",
    "    \"\"\"\n",
    "    matched_indices = []\n",
    "    for index, value in enumerate(values):\n",
    "        if any(start <= value <= end for start, end in ranges_list):\n",
    "            matched_indices.append(index)\n",
    "    \n",
    "    return sorted(matched_indices)\n",
    "\n",
    "# Example usage:\n",
    "ranges_list = [(1, 5), (10, 15), (0, 2), (4, 8)]\n",
    "values = [0, 1, 2, 3, 4, 5, 6, 7, 8, 9, 10, 11, 12, 13, 14, 15]\n",
    "\n",
    "result = find_indices_within_ranges(ranges_list, values)\n",
    "print(result)"
   ]
  },
  {
   "cell_type": "code",
   "execution_count": 27,
   "metadata": {},
   "outputs": [],
   "source": [
    "OUTCOME_TO_COLOR = {\"both_rewarded\": \"green\", \n",
    "\"novel_lose\": \"#e67073\",\n",
    "\"novel_win\": \"#93a5da\",\n",
    "\"lose\": \"#951a1d\",\n",
    "\"alone_rewarded\": \"#0499af\",\n",
    "\"win\": \"#3853a3\",\n",
    "\"omission\": \"orange\",\n",
    "\"tie\": \"green\"}"
   ]
  },
  {
   "cell_type": "code",
   "execution_count": 28,
   "metadata": {},
   "outputs": [],
   "source": [
    "comp_id_to_color = {'competitive_1': \"#281640\",\n",
    "'competitive_2': \"#43246a\",\n",
    "'competitive_3': \"#8e7ca6\",\n",
    "'no_comp_4': \"#2f3600\",\n",
    "'no_comp_5': \"#535f00\",\n",
    "'no_comp_6': \"#768800\",\n",
    "'no_comp_7': \"#9fac4d\",\n",
    "'no_comp_8': \"#c8cf99\",\n",
    "'competitive': \"#43246A\",\n",
    "'no_comp': \"#768800\",\n",
    "'win': \"#0045A6\",\n",
    "'win_competitive': \"#003074\",\n",
    "'win_no_comp': \"#4d7dc1\",\n",
    "'lose': \"#792910\",\n",
    "'lose_competitive': \"#551d0b\",\n",
    "'lose_no_comp': \"#a16958\",\n",
    "'rewarded': \"#FFAF00\"\n",
    "}"
   ]
  },
  {
   "cell_type": "code",
   "execution_count": 29,
   "metadata": {},
   "outputs": [],
   "source": [
    "to_keep_columns = ['trial_label',\n",
    "'tone_start_frame',\n",
    "'reward_start',\n",
    "'reward_dispensed',\n",
    "'tone_stop_frame',\n",
    "'condition',\n",
    "'competition_closeness',\n",
    "'get_reward_frame',\n",
    "'out_reward_frame',\n",
    "'notes',\n",
    "'box_1_port_entry_frames',\n",
    "'box_2_port_entry_frames',\n",
    "'video_name',\n",
    "'tone_start_timestamp',\n",
    "'tone_stop_timestamp',\n",
    "'box_1_port_entry_timestamps',\n",
    "'box_2_port_entry_timestamps',\n",
    "'current_subject',\n",
    "'session_dir',\n",
    "'experiment',\n",
    "'sleap_name',\n",
    "'video_id',\n",
    "'agent',\n",
    "'all_subjects',\n",
    "'cohort',\n",
    "'first_timestamp',\n",
    "'last_timestamp',\n",
    "'recording',\n",
    "'session_path',\n",
    "'subject',\n",
    "'baseline_start_timestamp',\n",
    "'post_trial_end_timestamp',]"
   ]
  },
  {
   "cell_type": "markdown",
   "metadata": {
    "cell_id": "8999d19b6b7d4d63bc90f0b0bd9ab085",
    "deepnote_cell_type": "text-cell-h2",
    "formattedRanges": []
   },
   "source": [
    "## Processing"
   ]
  },
  {
   "cell_type": "markdown",
   "metadata": {
    "cell_id": "9b36cdf08567463082b005cb0dec684b",
    "deepnote_cell_type": "text-cell-p",
    "formattedRanges": []
   },
   "source": [
    "Describe what is done to the data here and how inputs are manipulated to generate outputs. "
   ]
  },
  {
   "cell_type": "code",
   "execution_count": 30,
   "metadata": {
    "cell_id": "89aaba237c644628b1b37604b75e7cb1",
    "deepnote_cell_type": "code",
    "tags": []
   },
   "outputs": [],
   "source": [
    "# As much code and as many cells as required\n",
    "# includes EDA and playing with data\n",
    "# GO HAM!\n",
    "\n",
    "# Ideally functions are defined here first and then data is processed using the functions\n",
    "\n",
    "# function names are short and in snake case all lowercase\n",
    "# a function name should be unique but does not have to describe the function\n",
    "# doc strings describe functions not function names\n",
    "\n",
    "\n"
   ]
  },
  {
   "cell_type": "markdown",
   "metadata": {},
   "source": [
    "## Renaming the trial labels"
   ]
  },
  {
   "cell_type": "code",
   "execution_count": 31,
   "metadata": {
    "tags": []
   },
   "outputs": [
    {
     "data": {
      "text/html": [
       "<div>\n",
       "<style scoped>\n",
       "    .dataframe tbody tr th:only-of-type {\n",
       "        vertical-align: middle;\n",
       "    }\n",
       "\n",
       "    .dataframe tbody tr th {\n",
       "        vertical-align: top;\n",
       "    }\n",
       "\n",
       "    .dataframe thead th {\n",
       "        text-align: right;\n",
       "    }\n",
       "</style>\n",
       "<table border=\"1\" class=\"dataframe\">\n",
       "  <thead>\n",
       "    <tr style=\"text-align: right;\">\n",
       "      <th></th>\n",
       "      <th>tone_start_frame</th>\n",
       "      <th>reward_start</th>\n",
       "      <th>reward_dispensed</th>\n",
       "      <th>tone_stop_frame</th>\n",
       "      <th>condition</th>\n",
       "      <th>competition_closeness</th>\n",
       "      <th>get_reward_frame</th>\n",
       "      <th>out_reward_frame</th>\n",
       "      <th>experiment</th>\n",
       "      <th>video_name</th>\n",
       "      <th>...</th>\n",
       "      <th>baseline_mPFC_gamma_phase</th>\n",
       "      <th>baseline_mPFC_lfp_trace</th>\n",
       "      <th>baseline_mPFC_theta_band</th>\n",
       "      <th>baseline_mPFC_theta_phase</th>\n",
       "      <th>baseline_vHPC_gamma_band</th>\n",
       "      <th>baseline_vHPC_gamma_phase</th>\n",
       "      <th>baseline_vHPC_lfp_trace</th>\n",
       "      <th>baseline_vHPC_theta_band</th>\n",
       "      <th>baseline_vHPC_theta_phase</th>\n",
       "      <th>baseline_lfp_timestamps</th>\n",
       "    </tr>\n",
       "  </thead>\n",
       "  <tbody>\n",
       "    <tr>\n",
       "      <th>0</th>\n",
       "      <td>1272</td>\n",
       "      <td>1352</td>\n",
       "      <td>1372.0</td>\n",
       "      <td>1471</td>\n",
       "      <td>rewarded</td>\n",
       "      <td>NaN</td>\n",
       "      <td>NaN</td>\n",
       "      <td>NaN</td>\n",
       "      <td>alone_comp</td>\n",
       "      <td>20240320_142408_alone_comp_subj_3-1_and_3-3.1</td>\n",
       "      <td>...</td>\n",
       "      <td>[-2.6797059, -2.3968484, -2.1131911, -1.828970...</td>\n",
       "      <td>[45.434998, 53.039997, 63.569996, 94.575, 114....</td>\n",
       "      <td>[0.3023039, 0.3250822, 0.34729052, 0.3688477, ...</td>\n",
       "      <td>[-0.788324, -0.7305608, -0.67332137, -0.616575...</td>\n",
       "      <td>[0.11822242, 0.026445314, -0.061667122, -0.141...</td>\n",
       "      <td>[1.2789538, 1.5046133, 1.7300067, 1.9551437, 2...</td>\n",
       "      <td>[-4.875, -0.39, 26.519999, 62.399998, 69.615, ...</td>\n",
       "      <td>[0.45442012, 0.4403637, 0.4263141, 0.4122978, ...</td>\n",
       "      <td>[0.5867341, 0.61907744, 0.6510671, 0.682684, 0...</td>\n",
       "      <td>[1075900, 1075920, 1075940, 1075960, 1075980, ...</td>\n",
       "    </tr>\n",
       "    <tr>\n",
       "      <th>1</th>\n",
       "      <td>1272</td>\n",
       "      <td>1352</td>\n",
       "      <td>1372.0</td>\n",
       "      <td>1471</td>\n",
       "      <td>rewarded</td>\n",
       "      <td>NaN</td>\n",
       "      <td>NaN</td>\n",
       "      <td>NaN</td>\n",
       "      <td>alone_comp</td>\n",
       "      <td>20240320_142408_alone_comp_subj_3-1_and_3-3.1</td>\n",
       "      <td>...</td>\n",
       "      <td>[-1.0192864, -0.7884174, -0.5577601, -0.327317...</td>\n",
       "      <td>[232.635, 241.79999, 253.49998, 259.935, 290.5...</td>\n",
       "      <td>[0.86803913, 0.8516945, 0.83444965, 0.8164087,...</td>\n",
       "      <td>[0.042734537, 0.07712564, 0.1110838, 0.1445905...</td>\n",
       "      <td>[0.04515997, 0.09145398, 0.13580361, 0.1756941...</td>\n",
       "      <td>[-1.3614203, -1.1462942, -0.92886734, -0.70931...</td>\n",
       "      <td>[221.715, 238.09499, 259.935, 264.03, 253.305,...</td>\n",
       "      <td>[0.49248752, 0.49964046, 0.50668645, 0.5136666...</td>\n",
       "      <td>[-0.7678083, -0.7481149, -0.7286564, -0.709394...</td>\n",
       "      <td>[1075900, 1075920, 1075940, 1075960, 1075980, ...</td>\n",
       "    </tr>\n",
       "    <tr>\n",
       "      <th>2</th>\n",
       "      <td>3268</td>\n",
       "      <td>3348</td>\n",
       "      <td>3368.0</td>\n",
       "      <td>3469</td>\n",
       "      <td>rewarded</td>\n",
       "      <td>NaN</td>\n",
       "      <td>NaN</td>\n",
       "      <td>NaN</td>\n",
       "      <td>alone_comp</td>\n",
       "      <td>20240320_142408_alone_comp_subj_3-1_and_3-3.1</td>\n",
       "      <td>...</td>\n",
       "      <td>[0.032740027, 0.27976346, 0.52697045, 0.774348...</td>\n",
       "      <td>[128.50499, 109.979996, 77.415, 22.619999, -20...</td>\n",
       "      <td>[0.31883484, 0.304557, 0.28981718, 0.27463654,...</td>\n",
       "      <td>[0.82180655, 0.86382616, 0.90566295, 0.9473232...</td>\n",
       "      <td>[-0.1966364, -0.20901106, -0.2086731, -0.19691...</td>\n",
       "      <td>[2.5922303, 2.8197713, 3.0456688, -3.0136209, ...</td>\n",
       "      <td>[-46.995, -35.489998, -35.684998, -43.484997, ...</td>\n",
       "      <td>[0.24851131, 0.20672616, 0.16414632, 0.1208212...</td>\n",
       "      <td>[1.333335, 1.3743384, 1.4155797, 1.4570614, 1....</td>\n",
       "      <td>[3075920, 3075940, 3075960, 3075980, 3076000, ...</td>\n",
       "    </tr>\n",
       "    <tr>\n",
       "      <th>3</th>\n",
       "      <td>3268</td>\n",
       "      <td>3348</td>\n",
       "      <td>3368.0</td>\n",
       "      <td>3469</td>\n",
       "      <td>rewarded</td>\n",
       "      <td>NaN</td>\n",
       "      <td>NaN</td>\n",
       "      <td>NaN</td>\n",
       "      <td>alone_comp</td>\n",
       "      <td>20240320_142408_alone_comp_subj_3-1_and_3-3.1</td>\n",
       "      <td>...</td>\n",
       "      <td>[1.9588519, 2.221262, 2.4844332, 2.7484064, 3....</td>\n",
       "      <td>[56.55, -39.195, -152.09999, -172.185, -144.10...</td>\n",
       "      <td>[0.019023584, 0.033879466, 0.04848842, 0.06283...</td>\n",
       "      <td>[-1.5093546, -1.4610933, -1.4133036, -1.365974...</td>\n",
       "      <td>[-0.034169298, -0.058782697, -0.0758774, -0.08...</td>\n",
       "      <td>[1.9731913, 2.3358655, 2.7034516, 3.0720255, -...</td>\n",
       "      <td>[0.78, 53.82, 101.59499, 119.729996, 94.77, 49...</td>\n",
       "      <td>[-0.0010840435, 0.03636438, 0.0744549, 0.11305...</td>\n",
       "      <td>[-1.572606, -1.5110681, -1.450328, -1.3903525,...</td>\n",
       "      <td>[3075920, 3075940, 3075960, 3075980, 3076000, ...</td>\n",
       "    </tr>\n",
       "    <tr>\n",
       "      <th>4</th>\n",
       "      <td>4466</td>\n",
       "      <td>4546</td>\n",
       "      <td>4566.0</td>\n",
       "      <td>4667</td>\n",
       "      <td>rewarded</td>\n",
       "      <td>NaN</td>\n",
       "      <td>NaN</td>\n",
       "      <td>NaN</td>\n",
       "      <td>alone_comp</td>\n",
       "      <td>20240320_142408_alone_comp_subj_3-1_and_3-3.1</td>\n",
       "      <td>...</td>\n",
       "      <td>[2.3436375, 2.551059, 2.757349, 2.9625306, -3....</td>\n",
       "      <td>[60.644997, 38.805, 30.81, 48.554996, 77.805, ...</td>\n",
       "      <td>[0.60134304, 0.6429786, 0.68366385, 0.7233099,...</td>\n",
       "      <td>[-1.0260117, -0.98588574, -0.9458348, -0.90586...</td>\n",
       "      <td>[-0.031517684, 0.033092283, 0.09645234, 0.1545...</td>\n",
       "      <td>[-1.6889625, -1.4474249, -1.2057016, -0.963856...</td>\n",
       "      <td>[223.665, 226.39499, 232.04999, 241.995, 243.1...</td>\n",
       "      <td>[1.0194497, 1.0016606, 0.98306626, 0.9636855, ...</td>\n",
       "      <td>[0.47053403, 0.5033234, 0.53599346, 0.56855184...</td>\n",
       "      <td>[4275940, 4275960, 4275980, 4276000, 4276020, ...</td>\n",
       "    </tr>\n",
       "  </tbody>\n",
       "</table>\n",
       "<p>5 rows × 408 columns</p>\n",
       "</div>"
      ],
      "text/plain": [
       "   tone_start_frame  reward_start  reward_dispensed  tone_stop_frame  \\\n",
       "0              1272          1352            1372.0             1471   \n",
       "1              1272          1352            1372.0             1471   \n",
       "2              3268          3348            3368.0             3469   \n",
       "3              3268          3348            3368.0             3469   \n",
       "4              4466          4546            4566.0             4667   \n",
       "\n",
       "  condition competition_closeness  get_reward_frame  out_reward_frame  \\\n",
       "0  rewarded                   NaN               NaN               NaN   \n",
       "1  rewarded                   NaN               NaN               NaN   \n",
       "2  rewarded                   NaN               NaN               NaN   \n",
       "3  rewarded                   NaN               NaN               NaN   \n",
       "4  rewarded                   NaN               NaN               NaN   \n",
       "\n",
       "   experiment                                     video_name  ...  \\\n",
       "0  alone_comp  20240320_142408_alone_comp_subj_3-1_and_3-3.1  ...   \n",
       "1  alone_comp  20240320_142408_alone_comp_subj_3-1_and_3-3.1  ...   \n",
       "2  alone_comp  20240320_142408_alone_comp_subj_3-1_and_3-3.1  ...   \n",
       "3  alone_comp  20240320_142408_alone_comp_subj_3-1_and_3-3.1  ...   \n",
       "4  alone_comp  20240320_142408_alone_comp_subj_3-1_and_3-3.1  ...   \n",
       "\n",
       "                           baseline_mPFC_gamma_phase  \\\n",
       "0  [-2.6797059, -2.3968484, -2.1131911, -1.828970...   \n",
       "1  [-1.0192864, -0.7884174, -0.5577601, -0.327317...   \n",
       "2  [0.032740027, 0.27976346, 0.52697045, 0.774348...   \n",
       "3  [1.9588519, 2.221262, 2.4844332, 2.7484064, 3....   \n",
       "4  [2.3436375, 2.551059, 2.757349, 2.9625306, -3....   \n",
       "\n",
       "                             baseline_mPFC_lfp_trace  \\\n",
       "0  [45.434998, 53.039997, 63.569996, 94.575, 114....   \n",
       "1  [232.635, 241.79999, 253.49998, 259.935, 290.5...   \n",
       "2  [128.50499, 109.979996, 77.415, 22.619999, -20...   \n",
       "3  [56.55, -39.195, -152.09999, -172.185, -144.10...   \n",
       "4  [60.644997, 38.805, 30.81, 48.554996, 77.805, ...   \n",
       "\n",
       "                            baseline_mPFC_theta_band  \\\n",
       "0  [0.3023039, 0.3250822, 0.34729052, 0.3688477, ...   \n",
       "1  [0.86803913, 0.8516945, 0.83444965, 0.8164087,...   \n",
       "2  [0.31883484, 0.304557, 0.28981718, 0.27463654,...   \n",
       "3  [0.019023584, 0.033879466, 0.04848842, 0.06283...   \n",
       "4  [0.60134304, 0.6429786, 0.68366385, 0.7233099,...   \n",
       "\n",
       "                           baseline_mPFC_theta_phase  \\\n",
       "0  [-0.788324, -0.7305608, -0.67332137, -0.616575...   \n",
       "1  [0.042734537, 0.07712564, 0.1110838, 0.1445905...   \n",
       "2  [0.82180655, 0.86382616, 0.90566295, 0.9473232...   \n",
       "3  [-1.5093546, -1.4610933, -1.4133036, -1.365974...   \n",
       "4  [-1.0260117, -0.98588574, -0.9458348, -0.90586...   \n",
       "\n",
       "                            baseline_vHPC_gamma_band  \\\n",
       "0  [0.11822242, 0.026445314, -0.061667122, -0.141...   \n",
       "1  [0.04515997, 0.09145398, 0.13580361, 0.1756941...   \n",
       "2  [-0.1966364, -0.20901106, -0.2086731, -0.19691...   \n",
       "3  [-0.034169298, -0.058782697, -0.0758774, -0.08...   \n",
       "4  [-0.031517684, 0.033092283, 0.09645234, 0.1545...   \n",
       "\n",
       "                           baseline_vHPC_gamma_phase  \\\n",
       "0  [1.2789538, 1.5046133, 1.7300067, 1.9551437, 2...   \n",
       "1  [-1.3614203, -1.1462942, -0.92886734, -0.70931...   \n",
       "2  [2.5922303, 2.8197713, 3.0456688, -3.0136209, ...   \n",
       "3  [1.9731913, 2.3358655, 2.7034516, 3.0720255, -...   \n",
       "4  [-1.6889625, -1.4474249, -1.2057016, -0.963856...   \n",
       "\n",
       "                             baseline_vHPC_lfp_trace  \\\n",
       "0  [-4.875, -0.39, 26.519999, 62.399998, 69.615, ...   \n",
       "1  [221.715, 238.09499, 259.935, 264.03, 253.305,...   \n",
       "2  [-46.995, -35.489998, -35.684998, -43.484997, ...   \n",
       "3  [0.78, 53.82, 101.59499, 119.729996, 94.77, 49...   \n",
       "4  [223.665, 226.39499, 232.04999, 241.995, 243.1...   \n",
       "\n",
       "                            baseline_vHPC_theta_band  \\\n",
       "0  [0.45442012, 0.4403637, 0.4263141, 0.4122978, ...   \n",
       "1  [0.49248752, 0.49964046, 0.50668645, 0.5136666...   \n",
       "2  [0.24851131, 0.20672616, 0.16414632, 0.1208212...   \n",
       "3  [-0.0010840435, 0.03636438, 0.0744549, 0.11305...   \n",
       "4  [1.0194497, 1.0016606, 0.98306626, 0.9636855, ...   \n",
       "\n",
       "                           baseline_vHPC_theta_phase  \\\n",
       "0  [0.5867341, 0.61907744, 0.6510671, 0.682684, 0...   \n",
       "1  [-0.7678083, -0.7481149, -0.7286564, -0.709394...   \n",
       "2  [1.333335, 1.3743384, 1.4155797, 1.4570614, 1....   \n",
       "3  [-1.572606, -1.5110681, -1.450328, -1.3903525,...   \n",
       "4  [0.47053403, 0.5033234, 0.53599346, 0.56855184...   \n",
       "\n",
       "                             baseline_lfp_timestamps  \n",
       "0  [1075900, 1075920, 1075940, 1075960, 1075980, ...  \n",
       "1  [1075900, 1075920, 1075940, 1075960, 1075980, ...  \n",
       "2  [3075920, 3075940, 3075960, 3075980, 3076000, ...  \n",
       "3  [3075920, 3075940, 3075960, 3075980, 3076000, ...  \n",
       "4  [4275940, 4275960, 4275980, 4276000, 4276020, ...  \n",
       "\n",
       "[5 rows x 408 columns]"
      ]
     },
     "execution_count": 31,
     "metadata": {},
     "output_type": "execute_result"
    }
   ],
   "source": [
    "TRIALS_AND_SPECTRAL_DF.head()"
   ]
  },
  {
   "cell_type": "code",
   "execution_count": 32,
   "metadata": {
    "tags": []
   },
   "outputs": [],
   "source": [
    "comp_closeness_dict = {'Subj 1 blocking Subj 2': \"competitive\",\n",
    "'Subj 2 Only': \"no_comp\",\n",
    "'Subj 2 blocking Subj 1': \"competitive\",\n",
    "'Subj 1 then Subj 2': \"competitive\", \n",
    "'Subj 1 Only': \"no_comp\",\n",
    "'Subj 2 then Subj 1': \"competitive\",\n",
    "'Close Call': \"competitive\",\n",
    "'After trial': \"no_comp\"}"
   ]
  },
  {
   "cell_type": "code",
   "execution_count": 33,
   "metadata": {},
   "outputs": [],
   "source": [
    "# cluster_to_competitiveness = {\"0\": \"no_comp\", \"1\": \"competitive\", \"2\": \"competitive\", \"3\": \"no_comp\", \"4\": \"competitive\", \"5\": \"no_comp\", \"6\": \"no_comp\", \"7\": \"no_comp\"}\n",
    "# cluster_to_comp_id = {\"0\": \"no_comp_8\", \"1\": \"competitive_3\", \"2\": \"competitive_1\", \"3\": \"no_comp_6\", \"4\": \"competitive_2\", \"5\": \"no_comp_7\", \"6\": \"no_comp_5\", \"7\": \"no_comp_4\"}\n",
    "# comp_id = {\"no_comp_8\", \"competitive_3\", \"competitive_1\", \"no_comp_6\", \"competitive_2\", \"no_comp_7\", \"no_comp_5\", \"no_comp_4\"}\n"
   ]
  },
  {
   "cell_type": "markdown",
   "metadata": {},
   "source": [
    "Win base color\n",
    "#0045A6 \n",
    "Win competitive color\n",
    "#003074\n",
    "Win no comp color\n",
    "#4d7dc1\n",
    "\n",
    "Lose base color\n",
    "#792910\n",
    "Lose competitive color\n",
    "#551d0b\n",
    "Lose no comp color\n",
    "#a16958"
   ]
  },
  {
   "cell_type": "code",
   "execution_count": 34,
   "metadata": {
    "tags": []
   },
   "outputs": [],
   "source": [
    "TRIALS_AND_SPECTRAL_DF[\"current_subject\"] = TRIALS_AND_SPECTRAL_DF[\"current_subject\"].apply(lambda x: str(x).strip().lower())"
   ]
  },
  {
   "cell_type": "code",
   "execution_count": 35,
   "metadata": {},
   "outputs": [],
   "source": [
    "TRIALS_AND_SPECTRAL_DF = TRIALS_AND_SPECTRAL_DF[TRIALS_AND_SPECTRAL_DF[\"current_subject\"].isin(GOOD_SUBJECTS)]"
   ]
  },
  {
   "cell_type": "code",
   "execution_count": 36,
   "metadata": {},
   "outputs": [
    {
     "data": {
      "text/plain": [
       "array(['3.1', '3.3', '4.2', '4.3', '3.4', '5.2', '5.3'], dtype=object)"
      ]
     },
     "execution_count": 36,
     "metadata": {},
     "output_type": "execute_result"
    }
   ],
   "source": [
    "TRIALS_AND_SPECTRAL_DF[\"current_subject\"].unique()"
   ]
  },
  {
   "cell_type": "code",
   "execution_count": 37,
   "metadata": {},
   "outputs": [],
   "source": [
    "TRIALS_AND_SPECTRAL_DF = TRIALS_AND_SPECTRAL_DF[TRIALS_AND_SPECTRAL_DF[\"condition\"] != \"tie\"].reset_index(drop=True)"
   ]
  },
  {
   "cell_type": "code",
   "execution_count": 38,
   "metadata": {},
   "outputs": [],
   "source": [
    "TRIALS_AND_SPECTRAL_DF = TRIALS_AND_SPECTRAL_DF[TRIALS_AND_SPECTRAL_DF[\"condition\"] != \"temp\"].reset_index(drop=True)"
   ]
  },
  {
   "cell_type": "code",
   "execution_count": 39,
   "metadata": {},
   "outputs": [
    {
     "data": {
      "text/plain": [
       "array(['rewarded', 3.1, 3.3, 4.3, 3.4, 4.4, 5.3, 4.2, 5.4, 5.2],\n",
       "      dtype=object)"
      ]
     },
     "execution_count": 39,
     "metadata": {},
     "output_type": "execute_result"
    }
   ],
   "source": [
    "TRIALS_AND_SPECTRAL_DF[\"condition\"].unique()"
   ]
  },
  {
   "cell_type": "code",
   "execution_count": 40,
   "metadata": {
    "tags": []
   },
   "outputs": [],
   "source": [
    "TRIALS_AND_SPECTRAL_DF[\"condition\"] = TRIALS_AND_SPECTRAL_DF[\"condition\"].apply(lambda x: str(x).strip().lower())"
   ]
  },
  {
   "cell_type": "code",
   "execution_count": 41,
   "metadata": {
    "tags": []
   },
   "outputs": [],
   "source": [
    "TRIALS_AND_SPECTRAL_DF[\"trial_label\"] = TRIALS_AND_SPECTRAL_DF.apply(lambda x: \"win\" if x[\"current_subject\"] == x[\"condition\"]  else (\"lose\" if x[\"agent\"] == x[\"condition\"] else x[\"condition\"]), axis=1)\n",
    "                                                                        "
   ]
  },
  {
   "cell_type": "code",
   "execution_count": 42,
   "metadata": {},
   "outputs": [
    {
     "data": {
      "text/plain": [
       "array(['rewarded', 'win', 'lose'], dtype=object)"
      ]
     },
     "execution_count": 42,
     "metadata": {},
     "output_type": "execute_result"
    }
   ],
   "source": [
    "TRIALS_AND_SPECTRAL_DF[\"trial_label\"].unique()"
   ]
  },
  {
   "cell_type": "code",
   "execution_count": 43,
   "metadata": {
    "tags": []
   },
   "outputs": [],
   "source": [
    "TRIALS_AND_SPECTRAL_DF[\"competition_closeness\"] = TRIALS_AND_SPECTRAL_DF[\"competition_closeness\"].map(comp_closeness_dict).fillna(\"rewarded\")"
   ]
  },
  {
   "cell_type": "code",
   "execution_count": 44,
   "metadata": {
    "tags": []
   },
   "outputs": [
    {
     "data": {
      "text/plain": [
       "array(['rewarded', 'win', 'lose'], dtype=object)"
      ]
     },
     "execution_count": 44,
     "metadata": {},
     "output_type": "execute_result"
    }
   ],
   "source": [
    "TRIALS_AND_SPECTRAL_DF[\"trial_label\"].unique()"
   ]
  },
  {
   "cell_type": "code",
   "execution_count": 45,
   "metadata": {},
   "outputs": [
    {
     "data": {
      "text/plain": [
       "array(['rewarded', 'no_comp', 'competitive'], dtype=object)"
      ]
     },
     "execution_count": 45,
     "metadata": {},
     "output_type": "execute_result"
    }
   ],
   "source": [
    "TRIALS_AND_SPECTRAL_DF[\"competition_closeness\"].unique()"
   ]
  },
  {
   "cell_type": "markdown",
   "metadata": {},
   "source": [
    "## Making separate rows for each cluster"
   ]
  },
  {
   "cell_type": "code",
   "execution_count": 46,
   "metadata": {},
   "outputs": [
    {
     "data": {
      "text/plain": [
       "0                                                     NaN\n",
       "1                                                     NaN\n",
       "2                                                     NaN\n",
       "3                                                     NaN\n",
       "4                                                     NaN\n",
       "                              ...                        \n",
       "1138    {'competitive': [(50311, 50319), (50462, 50491...\n",
       "1139    {'no_comp': [(51709, 51822), (52220, 52250), (...\n",
       "1140    {'no_comp': [(51709, 51822), (52220, 52250), (...\n",
       "1141    {'competitive': [(53904, 53948), (53980, 54023...\n",
       "1142    {'competitive': [(53904, 53948), (53980, 54023...\n",
       "Name: competitiveness_frame_ranges_dict, Length: 1143, dtype: object"
      ]
     },
     "execution_count": 46,
     "metadata": {},
     "output_type": "execute_result"
    }
   ],
   "source": [
    "TRIALS_AND_SPECTRAL_DF[\"competitiveness_frame_ranges_dict\"]"
   ]
  },
  {
   "cell_type": "code",
   "execution_count": 47,
   "metadata": {},
   "outputs": [
    {
     "data": {
      "text/plain": [
       "{np.str_('competitive'): [(np.int64(34040), np.int64(34045)),\n",
       "  (np.int64(34241), np.int64(34257)),\n",
       "  (np.int64(34264), np.int64(34298)),\n",
       "  (np.int64(34433), np.int64(34536)),\n",
       "  (np.int64(34545), np.int64(34639))],\n",
       " np.str_('no_comp'): [(np.int64(34046), np.int64(34240)),\n",
       "  (np.int64(34258), np.int64(34263)),\n",
       "  (np.int64(34299), np.int64(34432)),\n",
       "  (np.int64(34537), np.int64(34544))]}"
      ]
     },
     "execution_count": 47,
     "metadata": {},
     "output_type": "execute_result"
    }
   ],
   "source": [
    "TRIALS_AND_SPECTRAL_DF[TRIALS_AND_SPECTRAL_DF[\"trial_label\"] != \"rewarded\"][\"competitiveness_frame_ranges_dict\"].iloc[0]"
   ]
  },
  {
   "cell_type": "code",
   "execution_count": 48,
   "metadata": {},
   "outputs": [
    {
     "data": {
      "text/plain": [
       "0    1272\n",
       "1    1272\n",
       "2    3268\n",
       "3    3268\n",
       "4    4466\n",
       "Name: tone_start_frame, dtype: int64"
      ]
     },
     "execution_count": 48,
     "metadata": {},
     "output_type": "execute_result"
    }
   ],
   "source": [
    "TRIALS_AND_SPECTRAL_DF[\"tone_start_frame\"].head()"
   ]
  },
  {
   "cell_type": "code",
   "execution_count": 49,
   "metadata": {},
   "outputs": [
    {
     "data": {
      "text/plain": [
       "0        1471\n",
       "1        1471\n",
       "2        3469\n",
       "3        3469\n",
       "4        4667\n",
       "        ...  \n",
       "1138    50711\n",
       "1139    52108\n",
       "1140    52108\n",
       "1141    54304\n",
       "1142    54304\n",
       "Name: tone_stop_frame, Length: 1143, dtype: int64"
      ]
     },
     "execution_count": 49,
     "metadata": {},
     "output_type": "execute_result"
    }
   ],
   "source": [
    "TRIALS_AND_SPECTRAL_DF[\"tone_stop_frame\"]"
   ]
  },
  {
   "cell_type": "markdown",
   "metadata": {},
   "source": [
    "- Making each dictionary into a list so that we can explode it"
   ]
  },
  {
   "cell_type": "code",
   "execution_count": 50,
   "metadata": {},
   "outputs": [],
   "source": [
    "dict_col = [col for col in TRIALS_AND_SPECTRAL_DF.columns if \"dict\" in col and \"competitiveness\" in col]\n"
   ]
  },
  {
   "cell_type": "code",
   "execution_count": 51,
   "metadata": {},
   "outputs": [
    {
     "data": {
      "text/plain": [
       "['competitiveness_index_ranges_dict', 'competitiveness_frame_ranges_dict']"
      ]
     },
     "execution_count": 51,
     "metadata": {},
     "output_type": "execute_result"
    }
   ],
   "source": [
    "dict_col"
   ]
  },
  {
   "cell_type": "code",
   "execution_count": 52,
   "metadata": {},
   "outputs": [
    {
     "data": {
      "text/plain": [
       "{np.str_('competitive'): [(0, 5),\n",
       "  (201, 217),\n",
       "  (224, 258),\n",
       "  (393, 496),\n",
       "  (505, 599)],\n",
       " np.str_('no_comp'): [(6, 200), (218, 223), (259, 392), (497, 504)]}"
      ]
     },
     "execution_count": 52,
     "metadata": {},
     "output_type": "execute_result"
    }
   ],
   "source": [
    "TRIALS_AND_SPECTRAL_DF[TRIALS_AND_SPECTRAL_DF[\"trial_label\"] != \"rewarded\"][\"competitiveness_index_ranges_dict\"].iloc[0]"
   ]
  },
  {
   "cell_type": "code",
   "execution_count": 53,
   "metadata": {},
   "outputs": [],
   "source": [
    "for col in dict_col:\n",
    "    TRIALS_AND_SPECTRAL_DF[col] = TRIALS_AND_SPECTRAL_DF.apply(lambda x: list(x[col].items()) if isinstance(x[col], dict) else [(\"rewarded\", [(x[\"tone_start_frame\"], x[\"tone_stop_frame\"])])], axis=1)"
   ]
  },
  {
   "cell_type": "code",
   "execution_count": 54,
   "metadata": {},
   "outputs": [
    {
     "data": {
      "text/plain": [
       "0    [(rewarded, [(1272, 1471)])]\n",
       "1    [(rewarded, [(1272, 1471)])]\n",
       "2    [(rewarded, [(3268, 3469)])]\n",
       "3    [(rewarded, [(3268, 3469)])]\n",
       "4    [(rewarded, [(4466, 4667)])]\n",
       "Name: competitiveness_frame_ranges_dict, dtype: object"
      ]
     },
     "execution_count": 54,
     "metadata": {},
     "output_type": "execute_result"
    }
   ],
   "source": [
    "TRIALS_AND_SPECTRAL_DF[\"competitiveness_frame_ranges_dict\"].head()"
   ]
  },
  {
   "cell_type": "code",
   "execution_count": 55,
   "metadata": {},
   "outputs": [
    {
     "data": {
      "text/plain": [
       "42    [(competitive, [(np.int64(34040), np.int64(340...\n",
       "43    [(competitive, [(np.int64(34040), np.int64(340...\n",
       "44    [(no_comp, [(np.int64(35038), np.int64(35090))...\n",
       "45    [(no_comp, [(np.int64(35038), np.int64(35090))...\n",
       "46    [(no_comp, [(np.int64(36137), np.int64(36386))...\n",
       "Name: competitiveness_frame_ranges_dict, dtype: object"
      ]
     },
     "execution_count": 55,
     "metadata": {},
     "output_type": "execute_result"
    }
   ],
   "source": [
    "TRIALS_AND_SPECTRAL_DF[TRIALS_AND_SPECTRAL_DF[\"trial_label\"] != \"rewarded\"][\"competitiveness_frame_ranges_dict\"].head()"
   ]
  },
  {
   "cell_type": "markdown",
   "metadata": {},
   "source": [
    "- Exploding each row so that competitive and non-competitive clusters are on different rows"
   ]
  },
  {
   "cell_type": "code",
   "execution_count": 56,
   "metadata": {},
   "outputs": [],
   "source": [
    "cluster_exploded_TRIALS_AND_SPECTRAL_DF = TRIALS_AND_SPECTRAL_DF.explode(column=dict_col)"
   ]
  },
  {
   "cell_type": "code",
   "execution_count": 57,
   "metadata": {},
   "outputs": [
    {
     "data": {
      "text/plain": [
       "0    (rewarded, [(1272, 1471)])\n",
       "1    (rewarded, [(1272, 1471)])\n",
       "2    (rewarded, [(3268, 3469)])\n",
       "3    (rewarded, [(3268, 3469)])\n",
       "4    (rewarded, [(4466, 4667)])\n",
       "Name: competitiveness_frame_ranges_dict, dtype: object"
      ]
     },
     "execution_count": 57,
     "metadata": {},
     "output_type": "execute_result"
    }
   ],
   "source": [
    "cluster_exploded_TRIALS_AND_SPECTRAL_DF[\"competitiveness_frame_ranges_dict\"].head()"
   ]
  },
  {
   "cell_type": "code",
   "execution_count": 58,
   "metadata": {},
   "outputs": [
    {
     "data": {
      "text/plain": [
       "42    (competitive, [(34040, 34045), (34241, 34257),...\n",
       "42    (no_comp, [(34046, 34240), (34258, 34263), (34...\n",
       "43    (competitive, [(34040, 34045), (34241, 34257),...\n",
       "43    (no_comp, [(34046, 34240), (34258, 34263), (34...\n",
       "44    (no_comp, [(35038, 35090), (35167, 35172), (35...\n",
       "Name: competitiveness_frame_ranges_dict, dtype: object"
      ]
     },
     "execution_count": 58,
     "metadata": {},
     "output_type": "execute_result"
    }
   ],
   "source": [
    "cluster_exploded_TRIALS_AND_SPECTRAL_DF[cluster_exploded_TRIALS_AND_SPECTRAL_DF[\"trial_label\"] != \"rewarded\"][\"competitiveness_frame_ranges_dict\"].head()"
   ]
  },
  {
   "cell_type": "markdown",
   "metadata": {},
   "source": [
    "- Making a new column based on the key which is the competitiveness of the group"
   ]
  },
  {
   "cell_type": "code",
   "execution_count": 59,
   "metadata": {},
   "outputs": [],
   "source": [
    "cluster_exploded_TRIALS_AND_SPECTRAL_DF[\"competitiveness_label\"] = cluster_exploded_TRIALS_AND_SPECTRAL_DF[\"competitiveness_frame_ranges_dict\"].apply(lambda x: str(x[0]))"
   ]
  },
  {
   "cell_type": "code",
   "execution_count": 60,
   "metadata": {},
   "outputs": [
    {
     "data": {
      "text/plain": [
       "'rewarded'"
      ]
     },
     "execution_count": 60,
     "metadata": {},
     "output_type": "execute_result"
    }
   ],
   "source": [
    "cluster_exploded_TRIALS_AND_SPECTRAL_DF[\"competitiveness_label\"].iloc[0]"
   ]
  },
  {
   "cell_type": "code",
   "execution_count": 61,
   "metadata": {},
   "outputs": [
    {
     "data": {
      "text/plain": [
       "0    rewarded\n",
       "1    rewarded\n",
       "2    rewarded\n",
       "3    rewarded\n",
       "4    rewarded\n",
       "Name: competitiveness_label, dtype: object"
      ]
     },
     "execution_count": 61,
     "metadata": {},
     "output_type": "execute_result"
    }
   ],
   "source": [
    "cluster_exploded_TRIALS_AND_SPECTRAL_DF[\"competitiveness_label\"].head()"
   ]
  },
  {
   "cell_type": "code",
   "execution_count": 62,
   "metadata": {},
   "outputs": [
    {
     "data": {
      "text/plain": [
       "42    competitive\n",
       "42        no_comp\n",
       "43    competitive\n",
       "43        no_comp\n",
       "44        no_comp\n",
       "Name: competitiveness_label, dtype: object"
      ]
     },
     "execution_count": 62,
     "metadata": {},
     "output_type": "execute_result"
    }
   ],
   "source": [
    "cluster_exploded_TRIALS_AND_SPECTRAL_DF[cluster_exploded_TRIALS_AND_SPECTRAL_DF[\"trial_label\"] != \"rewarded\"][\"competitiveness_label\"].head()"
   ]
  },
  {
   "cell_type": "markdown",
   "metadata": {},
   "source": [
    "- Filtering rows that don't have matching frame and trial competitiveness"
   ]
  },
  {
   "cell_type": "code",
   "execution_count": 63,
   "metadata": {},
   "outputs": [
    {
     "data": {
      "text/plain": [
       "array(['rewarded', 'competitive', 'no_comp'], dtype=object)"
      ]
     },
     "execution_count": 63,
     "metadata": {},
     "output_type": "execute_result"
    }
   ],
   "source": [
    "cluster_exploded_TRIALS_AND_SPECTRAL_DF[\"competitiveness_label\"].unique()"
   ]
  },
  {
   "cell_type": "code",
   "execution_count": 64,
   "metadata": {},
   "outputs": [
    {
     "data": {
      "text/plain": [
       "array(['rewarded', 'no_comp', 'competitive'], dtype=object)"
      ]
     },
     "execution_count": 64,
     "metadata": {},
     "output_type": "execute_result"
    }
   ],
   "source": [
    "cluster_exploded_TRIALS_AND_SPECTRAL_DF[\"competition_closeness\"].unique()"
   ]
  },
  {
   "cell_type": "code",
   "execution_count": 65,
   "metadata": {},
   "outputs": [
    {
     "data": {
      "text/plain": [
       "(1752, 410)"
      ]
     },
     "execution_count": 65,
     "metadata": {},
     "output_type": "execute_result"
    }
   ],
   "source": [
    "cluster_exploded_TRIALS_AND_SPECTRAL_DF.shape"
   ]
  },
  {
   "cell_type": "code",
   "execution_count": 66,
   "metadata": {},
   "outputs": [],
   "source": [
    "cluster_exploded_TRIALS_AND_SPECTRAL_DF = cluster_exploded_TRIALS_AND_SPECTRAL_DF[cluster_exploded_TRIALS_AND_SPECTRAL_DF[\"competition_closeness\"] == cluster_exploded_TRIALS_AND_SPECTRAL_DF[\"competitiveness_label\"]].reset_index(drop=True)"
   ]
  },
  {
   "cell_type": "code",
   "execution_count": 67,
   "metadata": {},
   "outputs": [
    {
     "data": {
      "text/plain": [
       "(1143, 410)"
      ]
     },
     "execution_count": 67,
     "metadata": {},
     "output_type": "execute_result"
    }
   ],
   "source": [
    "cluster_exploded_TRIALS_AND_SPECTRAL_DF.shape"
   ]
  },
  {
   "cell_type": "markdown",
   "metadata": {},
   "source": [
    "- Combining the competitiveness and the trial outcome labels"
   ]
  },
  {
   "cell_type": "code",
   "execution_count": 68,
   "metadata": {},
   "outputs": [],
   "source": [
    "cluster_exploded_TRIALS_AND_SPECTRAL_DF[\"trial_and_competitiveness_label\"] = cluster_exploded_TRIALS_AND_SPECTRAL_DF.apply(lambda x: \"_\".join([x[\"trial_label\"], x[\"competitiveness_label\"]]) if  x[\"trial_label\"] != x[\"competitiveness_label\"] else x[\"trial_label\"], axis=1)"
   ]
  },
  {
   "cell_type": "code",
   "execution_count": 69,
   "metadata": {},
   "outputs": [
    {
     "data": {
      "text/plain": [
       "array(['rewarded', 'win_no_comp', 'lose_no_comp', 'win_competitive',\n",
       "       'lose_competitive'], dtype=object)"
      ]
     },
     "execution_count": 69,
     "metadata": {},
     "output_type": "execute_result"
    }
   ],
   "source": [
    "cluster_exploded_TRIALS_AND_SPECTRAL_DF[\"trial_and_competitiveness_label\"].unique()"
   ]
  },
  {
   "cell_type": "markdown",
   "metadata": {},
   "source": [
    "- Making a new column that is the range of frames"
   ]
  },
  {
   "cell_type": "code",
   "execution_count": 70,
   "metadata": {},
   "outputs": [],
   "source": [
    "cluster_exploded_TRIALS_AND_SPECTRAL_DF[\"competitiveness_frame_ranges\"] = cluster_exploded_TRIALS_AND_SPECTRAL_DF[\"competitiveness_frame_ranges_dict\"].apply(lambda x: x[1])"
   ]
  },
  {
   "cell_type": "code",
   "execution_count": 71,
   "metadata": {},
   "outputs": [
    {
     "data": {
      "text/plain": [
       "0    [(1272, 1471)]\n",
       "1    [(1272, 1471)]\n",
       "2    [(3268, 3469)]\n",
       "3    [(3268, 3469)]\n",
       "4    [(4466, 4667)]\n",
       "Name: competitiveness_frame_ranges, dtype: object"
      ]
     },
     "execution_count": 71,
     "metadata": {},
     "output_type": "execute_result"
    }
   ],
   "source": [
    "cluster_exploded_TRIALS_AND_SPECTRAL_DF[\"competitiveness_frame_ranges\"].head()"
   ]
  },
  {
   "cell_type": "code",
   "execution_count": 72,
   "metadata": {},
   "outputs": [
    {
     "data": {
      "text/plain": [
       "42    [(34046, 34240), (34258, 34263), (34299, 34432...\n",
       "43    [(34046, 34240), (34258, 34263), (34299, 34432...\n",
       "44    [(35091, 35166), (35173, 35200), (35249, 35334...\n",
       "45    [(35091, 35166), (35173, 35200), (35249, 35334...\n",
       "46    [(36137, 36386), (36438, 36503), (36509, 36516...\n",
       "Name: competitiveness_frame_ranges, dtype: object"
      ]
     },
     "execution_count": 72,
     "metadata": {},
     "output_type": "execute_result"
    }
   ],
   "source": [
    "cluster_exploded_TRIALS_AND_SPECTRAL_DF[cluster_exploded_TRIALS_AND_SPECTRAL_DF[\"trial_label\"] != \"rewarded\"][\"competitiveness_frame_ranges\"].head()"
   ]
  },
  {
   "cell_type": "markdown",
   "metadata": {},
   "source": [
    "- Filtering for ranges that are only during the trial"
   ]
  },
  {
   "cell_type": "code",
   "execution_count": 73,
   "metadata": {},
   "outputs": [
    {
     "name": "stdout",
     "output_type": "stream",
     "text": [
      "(15, 20)\n"
     ]
    }
   ],
   "source": [
    "def adjust_frame_range(frame_range, event_range):\n",
    "    \"\"\"\n",
    "    Adjusts the frame range based on the event range.\n",
    "\n",
    "    Parameters:\n",
    "        frame_range (tuple): The tuple representing the start and end of the frame range.\n",
    "        event_range (tuple): The tuple representing the start and end of the event range.\n",
    "\n",
    "    Returns:\n",
    "        tuple or None: Adjusted frame range or None if there's no overlap.\n",
    "    \"\"\"\n",
    "    # Unpack the ranges\n",
    "    frame_start, frame_end = frame_range\n",
    "    event_start, event_end = event_range\n",
    "\n",
    "    # Check for overlap\n",
    "    if frame_end < event_start or frame_start > event_end:\n",
    "        return None  # No overlap\n",
    "\n",
    "    # Adjust the start and end of the frame range\n",
    "    adjusted_start = max(frame_start, event_start)\n",
    "    adjusted_end = min(frame_end, event_end)\n",
    "\n",
    "    return (adjusted_start, adjusted_end)\n",
    "\n",
    "# Example Usage:\n",
    "frame_range = (10, 20)\n",
    "event_range = (15, 25)\n",
    "result = adjust_frame_range(frame_range, event_range)\n",
    "print(result)  # Output will be (15, 20)\n"
   ]
  },
  {
   "cell_type": "code",
   "execution_count": 74,
   "metadata": {},
   "outputs": [
    {
     "data": {
      "text/plain": [
       "0        1272\n",
       "1        1272\n",
       "2        3268\n",
       "3        3268\n",
       "4        4466\n",
       "        ...  \n",
       "1138    50511\n",
       "1139    51909\n",
       "1140    51909\n",
       "1141    54104\n",
       "1142    54104\n",
       "Name: tone_start_frame, Length: 1143, dtype: int64"
      ]
     },
     "execution_count": 74,
     "metadata": {},
     "output_type": "execute_result"
    }
   ],
   "source": [
    "cluster_exploded_TRIALS_AND_SPECTRAL_DF[\"tone_start_frame\"]"
   ]
  },
  {
   "cell_type": "code",
   "execution_count": 75,
   "metadata": {},
   "outputs": [
    {
     "data": {
      "text/plain": [
       "0        1471\n",
       "1        1471\n",
       "2        3469\n",
       "3        3469\n",
       "4        4667\n",
       "        ...  \n",
       "1138    50711\n",
       "1139    52108\n",
       "1140    52108\n",
       "1141    54304\n",
       "1142    54304\n",
       "Name: tone_stop_frame, Length: 1143, dtype: int64"
      ]
     },
     "execution_count": 75,
     "metadata": {},
     "output_type": "execute_result"
    }
   ],
   "source": [
    "cluster_exploded_TRIALS_AND_SPECTRAL_DF[\"tone_stop_frame\"]"
   ]
  },
  {
   "cell_type": "code",
   "execution_count": 76,
   "metadata": {},
   "outputs": [],
   "source": [
    "cluster_exploded_TRIALS_AND_SPECTRAL_DF[\"competitiveness_frame_ranges\"] = cluster_exploded_TRIALS_AND_SPECTRAL_DF.apply(lambda x: [adjust_frame_range((start, stop), (x[\"tone_start_frame\"], x[\"tone_stop_frame\"])) for start, stop in x[\"competitiveness_frame_ranges\"] if adjust_frame_range((start, stop), (x[\"tone_start_frame\"], x[\"tone_stop_frame\"]))], axis=1)"
   ]
  },
  {
   "cell_type": "markdown",
   "metadata": {},
   "source": [
    "- Filtering for rows that have at least one consecutive second"
   ]
  },
  {
   "cell_type": "code",
   "execution_count": 77,
   "metadata": {},
   "outputs": [],
   "source": [
    "cluster_exploded_TRIALS_AND_SPECTRAL_DF = cluster_exploded_TRIALS_AND_SPECTRAL_DF[cluster_exploded_TRIALS_AND_SPECTRAL_DF[\"competitiveness_frame_ranges\"].apply(lambda x: len(x) >= 1)]"
   ]
  },
  {
   "cell_type": "markdown",
   "metadata": {},
   "source": [
    "- Filtering for ranges that are 1 second consecutive"
   ]
  },
  {
   "cell_type": "code",
   "execution_count": 78,
   "metadata": {},
   "outputs": [],
   "source": [
    "cluster_exploded_TRIALS_AND_SPECTRAL_DF[\"competitiveness_frame_ranges\"] = cluster_exploded_TRIALS_AND_SPECTRAL_DF[\"competitiveness_frame_ranges\"].apply(lambda x: [(start, stop) for start, stop in x if stop - start >= 20])"
   ]
  },
  {
   "cell_type": "markdown",
   "metadata": {},
   "source": [
    "- Calculating the total number of frames for each trial"
   ]
  },
  {
   "cell_type": "code",
   "execution_count": 79,
   "metadata": {},
   "outputs": [],
   "source": [
    "cluster_exploded_TRIALS_AND_SPECTRAL_DF[\"frame_ranges_sum_frames\"] = cluster_exploded_TRIALS_AND_SPECTRAL_DF[\"competitiveness_frame_ranges\"].apply(lambda x: sum([stop - start for start, stop in x]))"
   ]
  },
  {
   "cell_type": "code",
   "execution_count": 80,
   "metadata": {},
   "outputs": [
    {
     "data": {
      "text/plain": [
       "0       199\n",
       "1       199\n",
       "2       201\n",
       "3       201\n",
       "4       201\n",
       "       ... \n",
       "1138     69\n",
       "1139    199\n",
       "1140    199\n",
       "1141    151\n",
       "1142    151\n",
       "Name: frame_ranges_sum_frames, Length: 1136, dtype: int64"
      ]
     },
     "execution_count": 80,
     "metadata": {},
     "output_type": "execute_result"
    }
   ],
   "source": [
    "cluster_exploded_TRIALS_AND_SPECTRAL_DF[\"frame_ranges_sum_frames\"]"
   ]
  },
  {
   "cell_type": "markdown",
   "metadata": {},
   "source": [
    "- Filtering for rows where at least half the frames are there"
   ]
  },
  {
   "cell_type": "code",
   "execution_count": 81,
   "metadata": {},
   "outputs": [],
   "source": [
    "cluster_exploded_TRIALS_AND_SPECTRAL_DF = cluster_exploded_TRIALS_AND_SPECTRAL_DF[cluster_exploded_TRIALS_AND_SPECTRAL_DF[\"frame_ranges_sum_frames\"] >= 100]"
   ]
  },
  {
   "cell_type": "code",
   "execution_count": 82,
   "metadata": {},
   "outputs": [
    {
     "data": {
      "text/plain": [
       "0                         [(1272, 1471)]\n",
       "1                         [(1272, 1471)]\n",
       "2                         [(3268, 3469)]\n",
       "3                         [(3268, 3469)]\n",
       "4                         [(4466, 4667)]\n",
       "                      ...               \n",
       "1136    [(49514, 49589), (49676, 49713)]\n",
       "1139                    [(51909, 52108)]\n",
       "1140                    [(51909, 52108)]\n",
       "1141    [(54120, 54212), (54245, 54304)]\n",
       "1142    [(54120, 54212), (54245, 54304)]\n",
       "Name: competitiveness_frame_ranges, Length: 1010, dtype: object"
      ]
     },
     "execution_count": 82,
     "metadata": {},
     "output_type": "execute_result"
    }
   ],
   "source": [
    "cluster_exploded_TRIALS_AND_SPECTRAL_DF[\"competitiveness_frame_ranges\"]"
   ]
  },
  {
   "cell_type": "markdown",
   "metadata": {},
   "source": [
    "- Filtering for rows that have at least one consecutive second"
   ]
  },
  {
   "cell_type": "code",
   "execution_count": 83,
   "metadata": {},
   "outputs": [],
   "source": [
    "cluster_exploded_TRIALS_AND_SPECTRAL_DF = cluster_exploded_TRIALS_AND_SPECTRAL_DF[cluster_exploded_TRIALS_AND_SPECTRAL_DF[\"competitiveness_frame_ranges\"].apply(lambda x: len(x) >= 1)]"
   ]
  },
  {
   "cell_type": "code",
   "execution_count": 84,
   "metadata": {},
   "outputs": [
    {
     "data": {
      "text/plain": [
       "0                         [(1272, 1471)]\n",
       "1                         [(1272, 1471)]\n",
       "2                         [(3268, 3469)]\n",
       "3                         [(3268, 3469)]\n",
       "4                         [(4466, 4667)]\n",
       "                      ...               \n",
       "1136    [(49514, 49589), (49676, 49713)]\n",
       "1139                    [(51909, 52108)]\n",
       "1140                    [(51909, 52108)]\n",
       "1141    [(54120, 54212), (54245, 54304)]\n",
       "1142    [(54120, 54212), (54245, 54304)]\n",
       "Name: competitiveness_frame_ranges, Length: 1010, dtype: object"
      ]
     },
     "execution_count": 84,
     "metadata": {},
     "output_type": "execute_result"
    }
   ],
   "source": [
    "cluster_exploded_TRIALS_AND_SPECTRAL_DF[\"competitiveness_frame_ranges\"]"
   ]
  },
  {
   "cell_type": "code",
   "execution_count": 85,
   "metadata": {},
   "outputs": [
    {
     "name": "stdout",
     "output_type": "stream",
     "text": [
      "tone_start_frame\n",
      "reward_start\n",
      "reward_dispensed\n",
      "tone_stop_frame\n",
      "condition\n",
      "competition_closeness\n",
      "get_reward_frame\n",
      "out_reward_frame\n",
      "experiment\n",
      "video_name\n",
      "tone_start_timestamp\n",
      "tone_stop_timestamp\n",
      "cohort\n",
      "session_dir\n",
      "tone_frames\n",
      "box_1_port_entry_frames\n",
      "box_2_port_entry_frames\n",
      "notes\n",
      "session_path\n",
      "recording\n",
      "current_subject\n",
      "subject\n",
      "all_subjects\n",
      "first_timestamp\n",
      "last_timestamp\n",
      "video_timestamps\n",
      "tone_timestamps\n",
      "box_1_port_entry_timestamps\n",
      "box_2_port_entry_timestamps\n",
      "power_calculation_frequencies\n",
      "coherence_calculation_frequencies\n",
      "granger_calculation_frequencies\n",
      "tone_start_frame_remove\n",
      "agent_tail_base\n",
      "agent_to_reward_port_angle\n",
      "subject_tail_base\n",
      "subject_to_reward_port_angle\n",
      "to_reward_port_angle_diff\n",
      "to_reward_port_angle_sum\n",
      "within_trial_index\n",
      "agent\n",
      "10s_after_tone_frame\n",
      "10s_before_tone_frame\n",
      "all_subjects_remove\n",
      "body_parts\n",
      "box_bottom_left\n",
      "box_bottom_right\n",
      "box_number\n",
      "box_top_left\n",
      "box_top_right\n",
      "color\n",
      "comp_id\n",
      "competition_closeness_remove\n",
      "condition \n",
      "experiment_remove\n",
      "first_timestamp_remove\n",
      "get_reward_frame_remove\n",
      "in_video_subjects\n",
      "last_timestamp_remove\n",
      "notes_remove\n",
      "out_reward_frame_remove\n",
      "reward_port\n",
      "session_dir_remove\n",
      "sleap_name\n",
      "start_frame\n",
      "stop_frame\n",
      "tone_start_to_stop_frame\n",
      "tone_stop_frame_remove\n",
      "tone_stop_timestamp_remove\n",
      "tracked_subject\n",
      "video_id\n",
      "cluster_index_ranges_dict\n",
      "competitiveness_index_ranges_dict\n",
      "cluster_frame_ranges_dict\n",
      "competitiveness_frame_ranges_dict\n",
      "baseline_start_timestamp\n",
      "post_trial_end_timestamp\n",
      "video_frame\n",
      "trial_agent_locations\n",
      "trial_agent_nose\n",
      "trial_agent_nose_to_reward_port\n",
      "trial_agent_thorax\n",
      "trial_agent_thorax_velocity\n",
      "trial_closebool_agent_nose_to_reward_port\n",
      "trial_closebool_subject_nose_to_reward_port\n",
      "trial_clusterable_embedding_x\n",
      "trial_clusterable_embedding_y\n",
      "trial_competitiveness\n",
      "trial_frame_index\n",
      "trial_kmeans_cluster\n",
      "trial_manual_cluster_id\n",
      "trial_movingbool_agent_thorax_velocity\n",
      "trial_movingbool_subject_thorax_velocity\n",
      "trial_nose_to_reward_port_diff\n",
      "trial_nose_to_reward_port_sum\n",
      "trial_nose_to_tail_diff\n",
      "trial_nose_to_tail_sum\n",
      "trial_standard_embedding_x\n",
      "trial_standard_embedding_y\n",
      "trial_subject_locations\n",
      "trial_subject_nose\n",
      "trial_subject_nose_to_reward_port\n",
      "trial_subject_thorax\n",
      "trial_subject_thorax_to_agent_thorax\n",
      "trial_subject_thorax_velocity\n",
      "trial_thorax_velocity_diff\n",
      "trial_thorax_velocity_sum\n",
      "trial_within_trial_frame_index\n",
      "trial_video_timestamps\n",
      "baseline_agent_locations\n",
      "baseline_agent_nose\n",
      "baseline_agent_nose_to_reward_port\n",
      "baseline_agent_thorax\n",
      "baseline_agent_thorax_velocity\n",
      "baseline_closebool_agent_nose_to_reward_port\n",
      "baseline_closebool_subject_nose_to_reward_port\n",
      "baseline_clusterable_embedding_x\n",
      "baseline_clusterable_embedding_y\n",
      "baseline_competitiveness\n",
      "baseline_frame_index\n",
      "baseline_kmeans_cluster\n",
      "baseline_manual_cluster_id\n",
      "baseline_movingbool_agent_thorax_velocity\n",
      "baseline_movingbool_subject_thorax_velocity\n",
      "baseline_nose_to_reward_port_diff\n",
      "baseline_nose_to_reward_port_sum\n",
      "baseline_nose_to_tail_diff\n",
      "baseline_nose_to_tail_sum\n",
      "baseline_standard_embedding_x\n",
      "baseline_standard_embedding_y\n",
      "baseline_subject_locations\n",
      "baseline_subject_nose\n",
      "baseline_subject_nose_to_reward_port\n",
      "baseline_subject_thorax\n",
      "baseline_subject_thorax_to_agent_thorax\n",
      "baseline_subject_thorax_velocity\n",
      "baseline_thorax_velocity_diff\n",
      "baseline_thorax_velocity_sum\n",
      "baseline_within_trial_frame_index\n",
      "baseline_video_timestamps\n",
      "trial_BLA_LH_coherence_all_frequencies_all_windows\n",
      "trial_BLA_LH_coherence_gamma\n",
      "trial_BLA_LH_coherence_theta\n",
      "trial_BLA_MD_coherence_all_frequencies_all_windows\n",
      "trial_BLA_MD_coherence_gamma\n",
      "trial_BLA_MD_coherence_theta\n",
      "trial_BLA_mPFC_coherence_all_frequencies_all_windows\n",
      "trial_BLA_mPFC_coherence_gamma\n",
      "trial_BLA_mPFC_coherence_theta\n",
      "trial_BLA_vHPC_coherence_all_frequencies_all_windows\n",
      "trial_BLA_vHPC_coherence_gamma\n",
      "trial_BLA_vHPC_coherence_theta\n",
      "trial_LH_MD_coherence_all_frequencies_all_windows\n",
      "trial_LH_MD_coherence_gamma\n",
      "trial_LH_MD_coherence_theta\n",
      "trial_LH_mPFC_coherence_all_frequencies_all_windows\n",
      "trial_LH_mPFC_coherence_gamma\n",
      "trial_LH_mPFC_coherence_theta\n",
      "trial_LH_vHPC_coherence_all_frequencies_all_windows\n",
      "trial_LH_vHPC_coherence_gamma\n",
      "trial_LH_vHPC_coherence_theta\n",
      "trial_MD_mPFC_coherence_all_frequencies_all_windows\n",
      "trial_MD_mPFC_coherence_gamma\n",
      "trial_MD_mPFC_coherence_theta\n",
      "trial_MD_vHPC_coherence_all_frequencies_all_windows\n",
      "trial_MD_vHPC_coherence_gamma\n",
      "trial_MD_vHPC_coherence_theta\n",
      "trial_mPFC_vHPC_coherence_all_frequencies_all_windows\n",
      "trial_mPFC_vHPC_coherence_gamma\n",
      "trial_mPFC_vHPC_coherence_theta\n",
      "trial_coherence_timestamps\n",
      "baseline_BLA_LH_coherence_all_frequencies_all_windows\n",
      "baseline_BLA_LH_coherence_gamma\n",
      "baseline_BLA_LH_coherence_theta\n",
      "baseline_BLA_MD_coherence_all_frequencies_all_windows\n",
      "baseline_BLA_MD_coherence_gamma\n",
      "baseline_BLA_MD_coherence_theta\n",
      "baseline_BLA_mPFC_coherence_all_frequencies_all_windows\n",
      "baseline_BLA_mPFC_coherence_gamma\n",
      "baseline_BLA_mPFC_coherence_theta\n",
      "baseline_BLA_vHPC_coherence_all_frequencies_all_windows\n",
      "baseline_BLA_vHPC_coherence_gamma\n",
      "baseline_BLA_vHPC_coherence_theta\n",
      "baseline_LH_MD_coherence_all_frequencies_all_windows\n",
      "baseline_LH_MD_coherence_gamma\n",
      "baseline_LH_MD_coherence_theta\n",
      "baseline_LH_mPFC_coherence_all_frequencies_all_windows\n",
      "baseline_LH_mPFC_coherence_gamma\n",
      "baseline_LH_mPFC_coherence_theta\n",
      "baseline_LH_vHPC_coherence_all_frequencies_all_windows\n",
      "baseline_LH_vHPC_coherence_gamma\n",
      "baseline_LH_vHPC_coherence_theta\n",
      "baseline_MD_mPFC_coherence_all_frequencies_all_windows\n",
      "baseline_MD_mPFC_coherence_gamma\n",
      "baseline_MD_mPFC_coherence_theta\n",
      "baseline_MD_vHPC_coherence_all_frequencies_all_windows\n",
      "baseline_MD_vHPC_coherence_gamma\n",
      "baseline_MD_vHPC_coherence_theta\n",
      "baseline_mPFC_vHPC_coherence_all_frequencies_all_windows\n",
      "baseline_mPFC_vHPC_coherence_gamma\n",
      "baseline_mPFC_vHPC_coherence_theta\n",
      "baseline_coherence_timestamps\n",
      "trial_BLA-to-LH_granger_gamma\n",
      "trial_BLA-to-LH_granger_theta\n",
      "trial_BLA-to-MD_granger_gamma\n",
      "trial_BLA-to-MD_granger_theta\n",
      "trial_BLA-to-mPFC_granger_gamma\n",
      "trial_BLA-to-mPFC_granger_theta\n",
      "trial_BLA-to-vHPC_granger_gamma\n",
      "trial_BLA-to-vHPC_granger_theta\n",
      "trial_BLA_LH_granger_all_frequencies_all_windows\n",
      "trial_BLA_MD_granger_all_frequencies_all_windows\n",
      "trial_BLA_mPFC_granger_all_frequencies_all_windows\n",
      "trial_BLA_vHPC_granger_all_frequencies_all_windows\n",
      "trial_LH-to-BLA_granger_gamma\n",
      "trial_LH-to-BLA_granger_theta\n",
      "trial_LH-to-MD_granger_gamma\n",
      "trial_LH-to-MD_granger_theta\n",
      "trial_LH-to-mPFC_granger_gamma\n",
      "trial_LH-to-mPFC_granger_theta\n",
      "trial_LH-to-vHPC_granger_gamma\n",
      "trial_LH-to-vHPC_granger_theta\n",
      "trial_LH_BLA_granger_all_frequencies_all_windows\n",
      "trial_LH_MD_granger_all_frequencies_all_windows\n",
      "trial_LH_mPFC_granger_all_frequencies_all_windows\n",
      "trial_LH_vHPC_granger_all_frequencies_all_windows\n",
      "trial_MD-to-BLA_granger_gamma\n",
      "trial_MD-to-BLA_granger_theta\n",
      "trial_MD-to-LH_granger_gamma\n",
      "trial_MD-to-LH_granger_theta\n",
      "trial_MD-to-mPFC_granger_gamma\n",
      "trial_MD-to-mPFC_granger_theta\n",
      "trial_MD-to-vHPC_granger_gamma\n",
      "trial_MD-to-vHPC_granger_theta\n",
      "trial_MD_BLA_granger_all_frequencies_all_windows\n",
      "trial_MD_LH_granger_all_frequencies_all_windows\n",
      "trial_MD_mPFC_granger_all_frequencies_all_windows\n",
      "trial_MD_vHPC_granger_all_frequencies_all_windows\n",
      "trial_mPFC-to-BLA_granger_gamma\n",
      "trial_mPFC-to-BLA_granger_theta\n",
      "trial_mPFC-to-LH_granger_gamma\n",
      "trial_mPFC-to-LH_granger_theta\n",
      "trial_mPFC-to-MD_granger_gamma\n",
      "trial_mPFC-to-MD_granger_theta\n",
      "trial_mPFC-to-vHPC_granger_gamma\n",
      "trial_mPFC-to-vHPC_granger_theta\n",
      "trial_mPFC_BLA_granger_all_frequencies_all_windows\n",
      "trial_mPFC_LH_granger_all_frequencies_all_windows\n",
      "trial_mPFC_MD_granger_all_frequencies_all_windows\n",
      "trial_mPFC_vHPC_granger_all_frequencies_all_windows\n",
      "trial_vHPC-to-BLA_granger_gamma\n",
      "trial_vHPC-to-BLA_granger_theta\n",
      "trial_vHPC-to-LH_granger_gamma\n",
      "trial_vHPC-to-LH_granger_theta\n",
      "trial_vHPC-to-MD_granger_gamma\n",
      "trial_vHPC-to-MD_granger_theta\n",
      "trial_vHPC-to-mPFC_granger_gamma\n",
      "trial_vHPC-to-mPFC_granger_theta\n",
      "trial_vHPC_BLA_granger_all_frequencies_all_windows\n",
      "trial_vHPC_LH_granger_all_frequencies_all_windows\n",
      "trial_vHPC_MD_granger_all_frequencies_all_windows\n",
      "trial_vHPC_mPFC_granger_all_frequencies_all_windows\n",
      "trial_granger_timestamps\n",
      "baseline_BLA-to-LH_granger_gamma\n",
      "baseline_BLA-to-LH_granger_theta\n",
      "baseline_BLA-to-MD_granger_gamma\n",
      "baseline_BLA-to-MD_granger_theta\n",
      "baseline_BLA-to-mPFC_granger_gamma\n",
      "baseline_BLA-to-mPFC_granger_theta\n",
      "baseline_BLA-to-vHPC_granger_gamma\n",
      "baseline_BLA-to-vHPC_granger_theta\n",
      "baseline_BLA_LH_granger_all_frequencies_all_windows\n",
      "baseline_BLA_MD_granger_all_frequencies_all_windows\n",
      "baseline_BLA_mPFC_granger_all_frequencies_all_windows\n",
      "baseline_BLA_vHPC_granger_all_frequencies_all_windows\n",
      "baseline_LH-to-BLA_granger_gamma\n",
      "baseline_LH-to-BLA_granger_theta\n",
      "baseline_LH-to-MD_granger_gamma\n",
      "baseline_LH-to-MD_granger_theta\n",
      "baseline_LH-to-mPFC_granger_gamma\n",
      "baseline_LH-to-mPFC_granger_theta\n",
      "baseline_LH-to-vHPC_granger_gamma\n",
      "baseline_LH-to-vHPC_granger_theta\n",
      "baseline_LH_BLA_granger_all_frequencies_all_windows\n",
      "baseline_LH_MD_granger_all_frequencies_all_windows\n",
      "baseline_LH_mPFC_granger_all_frequencies_all_windows\n",
      "baseline_LH_vHPC_granger_all_frequencies_all_windows\n",
      "baseline_MD-to-BLA_granger_gamma\n",
      "baseline_MD-to-BLA_granger_theta\n",
      "baseline_MD-to-LH_granger_gamma\n",
      "baseline_MD-to-LH_granger_theta\n",
      "baseline_MD-to-mPFC_granger_gamma\n",
      "baseline_MD-to-mPFC_granger_theta\n",
      "baseline_MD-to-vHPC_granger_gamma\n",
      "baseline_MD-to-vHPC_granger_theta\n",
      "baseline_MD_BLA_granger_all_frequencies_all_windows\n",
      "baseline_MD_LH_granger_all_frequencies_all_windows\n",
      "baseline_MD_mPFC_granger_all_frequencies_all_windows\n",
      "baseline_MD_vHPC_granger_all_frequencies_all_windows\n",
      "baseline_mPFC-to-BLA_granger_gamma\n",
      "baseline_mPFC-to-BLA_granger_theta\n",
      "baseline_mPFC-to-LH_granger_gamma\n",
      "baseline_mPFC-to-LH_granger_theta\n",
      "baseline_mPFC-to-MD_granger_gamma\n",
      "baseline_mPFC-to-MD_granger_theta\n",
      "baseline_mPFC-to-vHPC_granger_gamma\n",
      "baseline_mPFC-to-vHPC_granger_theta\n",
      "baseline_mPFC_BLA_granger_all_frequencies_all_windows\n",
      "baseline_mPFC_LH_granger_all_frequencies_all_windows\n",
      "baseline_mPFC_MD_granger_all_frequencies_all_windows\n",
      "baseline_mPFC_vHPC_granger_all_frequencies_all_windows\n",
      "baseline_vHPC-to-BLA_granger_gamma\n",
      "baseline_vHPC-to-BLA_granger_theta\n",
      "baseline_vHPC-to-LH_granger_gamma\n",
      "baseline_vHPC-to-LH_granger_theta\n",
      "baseline_vHPC-to-MD_granger_gamma\n",
      "baseline_vHPC-to-MD_granger_theta\n",
      "baseline_vHPC-to-mPFC_granger_gamma\n",
      "baseline_vHPC-to-mPFC_granger_theta\n",
      "baseline_vHPC_BLA_granger_all_frequencies_all_windows\n",
      "baseline_vHPC_LH_granger_all_frequencies_all_windows\n",
      "baseline_vHPC_MD_granger_all_frequencies_all_windows\n",
      "baseline_vHPC_mPFC_granger_all_frequencies_all_windows\n",
      "baseline_granger_timestamps\n",
      "trial_BLA_power_all_frequencies_all_windows\n",
      "trial_BLA_power_gamma\n",
      "trial_BLA_power_theta\n",
      "trial_LH_power_all_frequencies_all_windows\n",
      "trial_LH_power_gamma\n",
      "trial_LH_power_theta\n",
      "trial_MD_power_all_frequencies_all_windows\n",
      "trial_MD_power_gamma\n",
      "trial_MD_power_theta\n",
      "trial_mPFC_power_all_frequencies_all_windows\n",
      "trial_mPFC_power_gamma\n",
      "trial_mPFC_power_theta\n",
      "trial_vHPC_power_all_frequencies_all_windows\n",
      "trial_vHPC_power_gamma\n",
      "trial_vHPC_power_theta\n",
      "trial_power_timestamps\n",
      "baseline_BLA_power_all_frequencies_all_windows\n",
      "baseline_BLA_power_gamma\n",
      "baseline_BLA_power_theta\n",
      "baseline_LH_power_all_frequencies_all_windows\n",
      "baseline_LH_power_gamma\n",
      "baseline_LH_power_theta\n",
      "baseline_MD_power_all_frequencies_all_windows\n",
      "baseline_MD_power_gamma\n",
      "baseline_MD_power_theta\n",
      "baseline_mPFC_power_all_frequencies_all_windows\n",
      "baseline_mPFC_power_gamma\n",
      "baseline_mPFC_power_theta\n",
      "baseline_vHPC_power_all_frequencies_all_windows\n",
      "baseline_vHPC_power_gamma\n",
      "baseline_vHPC_power_theta\n",
      "baseline_power_timestamps\n",
      "trial_BLA_gamma_band\n",
      "trial_BLA_gamma_phase\n",
      "trial_BLA_lfp_trace\n",
      "trial_BLA_theta_band\n",
      "trial_BLA_theta_phase\n",
      "trial_LH_gamma_band\n",
      "trial_LH_gamma_phase\n",
      "trial_LH_lfp_trace\n",
      "trial_LH_theta_band\n",
      "trial_LH_theta_phase\n",
      "trial_MD_gamma_band\n",
      "trial_MD_gamma_phase\n",
      "trial_MD_lfp_trace\n",
      "trial_MD_theta_band\n",
      "trial_MD_theta_phase\n",
      "trial_mPFC_gamma_band\n",
      "trial_mPFC_gamma_phase\n",
      "trial_mPFC_lfp_trace\n",
      "trial_mPFC_theta_band\n",
      "trial_mPFC_theta_phase\n",
      "trial_vHPC_gamma_band\n",
      "trial_vHPC_gamma_phase\n",
      "trial_vHPC_lfp_trace\n",
      "trial_vHPC_theta_band\n",
      "trial_vHPC_theta_phase\n",
      "trial_lfp_timestamps\n",
      "baseline_BLA_gamma_band\n",
      "baseline_BLA_gamma_phase\n",
      "baseline_BLA_lfp_trace\n",
      "baseline_BLA_theta_band\n",
      "baseline_BLA_theta_phase\n",
      "baseline_LH_gamma_band\n",
      "baseline_LH_gamma_phase\n",
      "baseline_LH_lfp_trace\n",
      "baseline_LH_theta_band\n",
      "baseline_LH_theta_phase\n",
      "baseline_MD_gamma_band\n",
      "baseline_MD_gamma_phase\n",
      "baseline_MD_lfp_trace\n",
      "baseline_MD_theta_band\n",
      "baseline_MD_theta_phase\n",
      "baseline_mPFC_gamma_band\n",
      "baseline_mPFC_gamma_phase\n",
      "baseline_mPFC_lfp_trace\n",
      "baseline_mPFC_theta_band\n",
      "baseline_mPFC_theta_phase\n",
      "baseline_vHPC_gamma_band\n",
      "baseline_vHPC_gamma_phase\n",
      "baseline_vHPC_lfp_trace\n",
      "baseline_vHPC_theta_band\n",
      "baseline_vHPC_theta_phase\n",
      "baseline_lfp_timestamps\n",
      "trial_label\n",
      "competitiveness_label\n",
      "trial_and_competitiveness_label\n",
      "competitiveness_frame_ranges\n",
      "frame_ranges_sum_frames\n"
     ]
    }
   ],
   "source": [
    "for col in cluster_exploded_TRIALS_AND_SPECTRAL_DF.columns:\n",
    "    print(col)"
   ]
  },
  {
   "cell_type": "code",
   "execution_count": null,
   "metadata": {},
   "outputs": [],
   "source": []
  },
  {
   "cell_type": "markdown",
   "metadata": {},
   "source": [
    "## Adding the velocity"
   ]
  },
  {
   "cell_type": "code",
   "execution_count": 86,
   "metadata": {},
   "outputs": [],
   "source": [
    "alone_trials_df = pd.read_pickle(\"../2024_06_26_sleap_clustering/proc/alone_trials_sleap.pkl\")"
   ]
  },
  {
   "cell_type": "code",
   "execution_count": 87,
   "metadata": {},
   "outputs": [
    {
     "data": {
      "text/plain": [
       "Index(['unnamed: 0', 'session_dir', 'tone_start_frame', 'reward_start',\n",
       "       'reward_dispensed', 'tone_stop_frame', 'condition',\n",
       "       'competition_closeness', 'get_reward_frame', 'out_reward_frame',\n",
       "       'notes', 'experiment', 'box_1_port_entry_frames',\n",
       "       'box_2_port_entry_frames', 'video_name', 'all_subjects',\n",
       "       'first_timestamp', 'last_timestamp', 'tone_start_timestamp',\n",
       "       'tone_stop_timestamp', 'box_1_port_entry_timestamps',\n",
       "       'box_2_port_entry_timestamps', '10s_before_tone_frame',\n",
       "       '10s_after_tone_frame', 'tone_start_to_stop_frame', 'start_frame',\n",
       "       'stop_frame', 'tracked_subject', 'in_video_subjects', 'box_number',\n",
       "       'sleap_name', 'current_subject', 'body_parts', 'box_top_right',\n",
       "       'box_bottom_right', 'box_top_left', 'reward_port', 'box_bottom_left',\n",
       "       'agent', 'subject_locations', 'agent_locations', 'frame_index',\n",
       "       'subject_thorax', 'subject_nose', 'subject_tail_base', 'agent_thorax',\n",
       "       'agent_nose', 'agent_tail_base', 'subject_thorax_velocity',\n",
       "       'agent_thorax_velocity', 'subject_thorax_to_agent_thorax',\n",
       "       'subject_nose_to_agent_tail_base', 'subject_tail_base_to_agent_nose',\n",
       "       'subject_nose_to_reward_port', 'agent_nose_to_reward_port',\n",
       "       'subject_x_nose_to_reward_port', 'subject_y_nose_to_reward_port',\n",
       "       'agent_x_nose_to_reward_port', 'agent_y_nose_to_reward_port',\n",
       "       'subject_speed_to_reward_port', 'agent_speed_to_reward_port',\n",
       "       'subject_to_agent_speed', 'subject_to_reward_port_angle',\n",
       "       'agent_to_reward_port_angle', 'within_trial_frame_index'],\n",
       "      dtype='object')"
      ]
     },
     "execution_count": 87,
     "metadata": {},
     "output_type": "execute_result"
    }
   ],
   "source": [
    "alone_trials_df.columns"
   ]
  },
  {
   "cell_type": "code",
   "execution_count": 88,
   "metadata": {},
   "outputs": [
    {
     "data": {
      "text/plain": [
       "0      (599,)\n",
       "1      (601,)\n",
       "2      (601,)\n",
       "3      (599,)\n",
       "4      (599,)\n",
       "        ...  \n",
       "289    (601,)\n",
       "290    (599,)\n",
       "291    (599,)\n",
       "292    (600,)\n",
       "293    (601,)\n",
       "Name: subject_thorax_velocity, Length: 294, dtype: object"
      ]
     },
     "execution_count": 88,
     "metadata": {},
     "output_type": "execute_result"
    }
   ],
   "source": [
    "alone_trials_df[\"subject_thorax_velocity\"].apply(lambda x: x.shape)"
   ]
  },
  {
   "cell_type": "code",
   "execution_count": 126,
   "metadata": {},
   "outputs": [],
   "source": [
    "alone_trials_df[\"trial_subject_thorax_velocity\"] = alone_trials_df[\"subject_thorax_velocity\"].apply(lambda x: x[199:399])"
   ]
  },
  {
   "cell_type": "code",
   "execution_count": 127,
   "metadata": {},
   "outputs": [],
   "source": [
    "alone_trials_df[\"trial_frame_index\"] = alone_trials_df[\"frame_index\"].apply(lambda x: x[199:399])"
   ]
  },
  {
   "cell_type": "code",
   "execution_count": 128,
   "metadata": {},
   "outputs": [],
   "source": [
    "alone_trial_to_velocity = {(row['session_dir'], row['current_subject'], row['tone_start_timestamp']): row['trial_subject_thorax_velocity'] for index, row in alone_trials_df.iterrows()}"
   ]
  },
  {
   "cell_type": "code",
   "execution_count": 129,
   "metadata": {},
   "outputs": [],
   "source": [
    "alone_trial_to_frame_index = {(row['session_dir'], row['current_subject'], row['tone_start_timestamp']): row['trial_frame_index'] for index, row in alone_trials_df.iterrows()}"
   ]
  },
  {
   "cell_type": "code",
   "execution_count": 130,
   "metadata": {},
   "outputs": [],
   "source": [
    "cluster_exploded_TRIALS_AND_SPECTRAL_DF[\"trial_subject_thorax_velocity\"] = cluster_exploded_TRIALS_AND_SPECTRAL_DF.apply(lambda row: alone_trial_to_velocity[(row['session_dir'], row['current_subject'], row['tone_start_timestamp'])] if (row['session_dir'], row['current_subject'], row['tone_start_timestamp']) in alone_trial_to_velocity else row[\"trial_subject_thorax_velocity\"], axis=1)"
   ]
  },
  {
   "cell_type": "code",
   "execution_count": 131,
   "metadata": {},
   "outputs": [],
   "source": [
    "cluster_exploded_TRIALS_AND_SPECTRAL_DF[\"trial_frame_index\"] = cluster_exploded_TRIALS_AND_SPECTRAL_DF.apply(lambda row: alone_trial_to_frame_index[(row['session_dir'], row['current_subject'], row['tone_start_timestamp'])] if (row['session_dir'], row['current_subject'], row['tone_start_timestamp']) in alone_trial_to_frame_index else row[\"trial_frame_index\"], axis=1)"
   ]
  },
  {
   "cell_type": "code",
   "execution_count": 132,
   "metadata": {},
   "outputs": [
    {
     "data": {
      "text/plain": [
       "0    (200,)\n",
       "1    (200,)\n",
       "2    (200,)\n",
       "3    (200,)\n",
       "4    (200,)\n",
       "Name: trial_subject_thorax_velocity, dtype: object"
      ]
     },
     "execution_count": 132,
     "metadata": {},
     "output_type": "execute_result"
    }
   ],
   "source": [
    "cluster_exploded_TRIALS_AND_SPECTRAL_DF[\"trial_subject_thorax_velocity\"].iloc[:5].apply(lambda x: x.shape)"
   ]
  },
  {
   "cell_type": "code",
   "execution_count": 133,
   "metadata": {},
   "outputs": [
    {
     "data": {
      "text/plain": [
       "0    (200,)\n",
       "1    (200,)\n",
       "2    (200,)\n",
       "3    (200,)\n",
       "4    (200,)\n",
       "Name: trial_frame_index, dtype: object"
      ]
     },
     "execution_count": 133,
     "metadata": {},
     "output_type": "execute_result"
    }
   ],
   "source": [
    "cluster_exploded_TRIALS_AND_SPECTRAL_DF[\"trial_frame_index\"].iloc[:5].apply(lambda x: x.shape)"
   ]
  },
  {
   "cell_type": "markdown",
   "metadata": {},
   "source": [
    "- Getting the timestamps for each frame"
   ]
  },
  {
   "cell_type": "code",
   "execution_count": 134,
   "metadata": {},
   "outputs": [],
   "source": [
    "cluster_exploded_TRIALS_AND_SPECTRAL_DF[\"competitiveness_timestamp_ranges\"] = cluster_exploded_TRIALS_AND_SPECTRAL_DF.apply(lambda x: update_tuples_in_list(x[\"competitiveness_frame_ranges\"], x[\"video_timestamps\"]), axis=1)"
   ]
  },
  {
   "cell_type": "code",
   "execution_count": 135,
   "metadata": {},
   "outputs": [
    {
     "data": {
      "text/plain": [
       "42                                 [(34336303, 34469346)]\n",
       "43                                 [(34336303, 34469346)]\n",
       "44      [(35288395, 35372933), (35395107, 35422824), (...\n",
       "45      [(35288395, 35372933), (35395107, 35422824), (...\n",
       "46           [(36377688, 36427580), (36478857, 36543993)]\n",
       "                              ...                        \n",
       "1136         [(49607199, 49682036), (49769346, 49806764)]\n",
       "1139                               [(52007525, 52207090)]\n",
       "1140                               [(52007525, 52207090)]\n",
       "1141         [(54222145, 54314998), (54346873, 54406465)]\n",
       "1142         [(54222145, 54314998), (54346873, 54406465)]\n",
       "Name: competitiveness_timestamp_ranges, Length: 506, dtype: object"
      ]
     },
     "execution_count": 135,
     "metadata": {},
     "output_type": "execute_result"
    }
   ],
   "source": [
    "cluster_exploded_TRIALS_AND_SPECTRAL_DF[cluster_exploded_TRIALS_AND_SPECTRAL_DF[\"trial_label\"] != \"rewarded\"][\"competitiveness_timestamp_ranges\"]"
   ]
  },
  {
   "cell_type": "code",
   "execution_count": 136,
   "metadata": {},
   "outputs": [
    {
     "data": {
      "text/plain": [
       "0                               [(1276384, 1475949)]\n",
       "1                               [(1276384, 1475949)]\n",
       "2                               [(3276194, 3477145)]\n",
       "3                               [(3276194, 3477145)]\n",
       "4                               [(4476357, 4677308)]\n",
       "                            ...                     \n",
       "1136    [(49607199, 49682036), (49769346, 49806764)]\n",
       "1139                          [(52007525, 52207090)]\n",
       "1140                          [(52007525, 52207090)]\n",
       "1141    [(54222145, 54314998), (54346873, 54406465)]\n",
       "1142    [(54222145, 54314998), (54346873, 54406465)]\n",
       "Name: competitiveness_timestamp_ranges, Length: 1010, dtype: object"
      ]
     },
     "execution_count": 136,
     "metadata": {},
     "output_type": "execute_result"
    }
   ],
   "source": [
    "cluster_exploded_TRIALS_AND_SPECTRAL_DF[\"competitiveness_timestamp_ranges\"]"
   ]
  },
  {
   "cell_type": "markdown",
   "metadata": {},
   "source": [
    "- Getting all the spectral timestamps that are in the ranges"
   ]
  },
  {
   "cell_type": "code",
   "execution_count": 137,
   "metadata": {
    "tags": []
   },
   "outputs": [],
   "source": [
    "timestamps_col = [col for col in cluster_exploded_TRIALS_AND_SPECTRAL_DF.columns if \"timestamps\" in col and \"video\" not in col and \"trial\" in col]"
   ]
  },
  {
   "cell_type": "code",
   "execution_count": 111,
   "metadata": {
    "tags": []
   },
   "outputs": [
    {
     "data": {
      "text/plain": [
       "['trial_coherence_timestamps',\n",
       " 'trial_granger_timestamps',\n",
       " 'trial_power_timestamps',\n",
       " 'trial_lfp_timestamps']"
      ]
     },
     "execution_count": 111,
     "metadata": {},
     "output_type": "execute_result"
    }
   ],
   "source": [
    "timestamps_col"
   ]
  },
  {
   "cell_type": "markdown",
   "metadata": {},
   "source": [
    "- Getting all the indexes that fit within each range"
   ]
  },
  {
   "cell_type": "code",
   "execution_count": null,
   "metadata": {
    "tags": []
   },
   "outputs": [],
   "source": [
    "for col in timestamps_col:\n",
    "    base_col = col.replace(\"trial_\", \"\").replace(\"timestamps\", \"index\")\n",
    "    print(base_col)\n",
    "    cluster_exploded_TRIALS_AND_SPECTRAL_DF[\"cluster_filtered_{}\".format(base_col)] = cluster_exploded_TRIALS_AND_SPECTRAL_DF.apply(lambda x: find_indices_within_ranges(x[\"competitiveness_timestamp_ranges\"], x[col]), axis=1)"
   ]
  },
  {
   "cell_type": "code",
   "execution_count": null,
   "metadata": {},
   "outputs": [],
   "source": [
    "base_col"
   ]
  },
  {
   "cell_type": "code",
   "execution_count": null,
   "metadata": {},
   "outputs": [],
   "source": [
    "cluster_exploded_TRIALS_AND_SPECTRAL_DF[\"trial_mPFC_theta_band\"].iloc[0].shape"
   ]
  },
  {
   "cell_type": "code",
   "execution_count": null,
   "metadata": {},
   "outputs": [],
   "source": [
    "cluster_exploded_TRIALS_AND_SPECTRAL_DF[\"cluster_filtered_{}\".format(base_col)].iloc[0][:10]"
   ]
  },
  {
   "cell_type": "code",
   "execution_count": null,
   "metadata": {},
   "outputs": [],
   "source": [
    "cluster_exploded_TRIALS_AND_SPECTRAL_DF[\"cluster_filtered_{}\".format(base_col)].iloc[0][-10:]"
   ]
  },
  {
   "cell_type": "code",
   "execution_count": null,
   "metadata": {},
   "outputs": [],
   "source": [
    "cluster_exploded_TRIALS_AND_SPECTRAL_DF.head()"
   ]
  },
  {
   "cell_type": "code",
   "execution_count": null,
   "metadata": {},
   "outputs": [],
   "source": [
    "cluster_exploded_TRIALS_AND_SPECTRAL_DF.tail()"
   ]
  },
  {
   "cell_type": "code",
   "execution_count": 98,
   "metadata": {},
   "outputs": [],
   "source": [
    "cluster_exploded_TRIALS_AND_SPECTRAL_DF = cluster_exploded_TRIALS_AND_SPECTRAL_DF[~cluster_exploded_TRIALS_AND_SPECTRAL_DF[\"video_name\"].apply(lambda x: \".2\" in x)]"
   ]
  },
  {
   "cell_type": "code",
   "execution_count": 99,
   "metadata": {},
   "outputs": [],
   "source": [
    "cluster_exploded_TRIALS_AND_SPECTRAL_DF = cluster_exploded_TRIALS_AND_SPECTRAL_DF[~cluster_exploded_TRIALS_AND_SPECTRAL_DF[\"trial_and_competitiveness_label\"].apply(lambda x: \"temp\" in x)]"
   ]
  },
  {
   "cell_type": "code",
   "execution_count": null,
   "metadata": {},
   "outputs": [],
   "source": [
    "cluster_exploded_TRIALS_AND_SPECTRAL_DF.groupby([\"video_name\", \"current_subject\"]).count()"
   ]
  },
  {
   "cell_type": "markdown",
   "metadata": {},
   "source": [
    "# Filtering for power"
   ]
  },
  {
   "cell_type": "code",
   "execution_count": 101,
   "metadata": {
    "tags": []
   },
   "outputs": [],
   "source": [
    "cluster_exploded_TRIALS_AND_SPECTRAL_DF = cluster_exploded_TRIALS_AND_SPECTRAL_DF[cluster_exploded_TRIALS_AND_SPECTRAL_DF[\"cluster_filtered_power_index\"].apply(lambda x: len(x)) >= 1] "
   ]
  },
  {
   "cell_type": "code",
   "execution_count": null,
   "metadata": {},
   "outputs": [],
   "source": [
    "list(cluster_exploded_TRIALS_AND_SPECTRAL_DF.columns)"
   ]
  },
  {
   "cell_type": "code",
   "execution_count": 103,
   "metadata": {},
   "outputs": [],
   "source": [
    "power_columns = [col for col in cluster_exploded_TRIALS_AND_SPECTRAL_DF if \"trial\" in col and (\"power\" in col or \"granger\" in col or \"coherence\" in col)]"
   ]
  },
  {
   "cell_type": "code",
   "execution_count": null,
   "metadata": {},
   "outputs": [],
   "source": [
    "power_columns"
   ]
  },
  {
   "cell_type": "markdown",
   "metadata": {},
   "source": [
    "- Getting the timestamps of all the clusters"
   ]
  },
  {
   "cell_type": "code",
   "execution_count": null,
   "metadata": {
    "tags": []
   },
   "outputs": [],
   "source": [
    "for col in power_columns:\n",
    "    print(col)\n",
    "    cluster_exploded_TRIALS_AND_SPECTRAL_DF[\"cluster_all_{}\".format(col)] = cluster_exploded_TRIALS_AND_SPECTRAL_DF.apply(lambda x: x[col][x[\"cluster_filtered_power_index\"]], axis=1)"
   ]
  },
  {
   "cell_type": "code",
   "execution_count": 106,
   "metadata": {
    "tags": []
   },
   "outputs": [],
   "source": [
    "cluster_all_columns = [col for col in cluster_exploded_TRIALS_AND_SPECTRAL_DF if \"cluster_all\" in col]"
   ]
  },
  {
   "cell_type": "code",
   "execution_count": null,
   "metadata": {
    "tags": []
   },
   "outputs": [],
   "source": [
    "cluster_all_columns"
   ]
  },
  {
   "cell_type": "markdown",
   "metadata": {},
   "source": [
    "- Aggregating all the values within a given trial"
   ]
  },
  {
   "cell_type": "code",
   "execution_count": null,
   "metadata": {
    "tags": []
   },
   "outputs": [],
   "source": [
    "for col in cluster_all_columns:\n",
    "    updated_column = col.replace(\"cluster_all\", \"cluster_mean\")\n",
    "    if \"gamma\" in col or \"theta\" in col:\n",
    "        cluster_exploded_TRIALS_AND_SPECTRAL_DF[updated_column] = cluster_exploded_TRIALS_AND_SPECTRAL_DF.apply(lambda x: np.nanmean(x[col]), axis=1)\n",
    "    else:\n",
    "        cluster_exploded_TRIALS_AND_SPECTRAL_DF[updated_column] = cluster_exploded_TRIALS_AND_SPECTRAL_DF.apply(lambda x: np.nanmean(x[col], axis=0), axis=1)\n",
    "    print(updated_column)\n",
    "    print(cluster_exploded_TRIALS_AND_SPECTRAL_DF[updated_column].iloc[0])\n",
    "        "
   ]
  },
  {
   "cell_type": "code",
   "execution_count": 109,
   "metadata": {
    "tags": []
   },
   "outputs": [],
   "source": [
    "cluster_mean_columns = [col for col in cluster_exploded_TRIALS_AND_SPECTRAL_DF if \"cluster_mean\" in col and \"all_frequencies_all_windows\" in col]"
   ]
  },
  {
   "cell_type": "code",
   "execution_count": null,
   "metadata": {
    "tags": []
   },
   "outputs": [],
   "source": [
    "cluster_mean_columns"
   ]
  },
  {
   "cell_type": "code",
   "execution_count": null,
   "metadata": {},
   "outputs": [],
   "source": [
    "cluster_exploded_TRIALS_AND_SPECTRAL_DF"
   ]
  },
  {
   "cell_type": "code",
   "execution_count": null,
   "metadata": {},
   "outputs": [],
   "source": [
    "low_freq = 0\n",
    "high_freq = 51\n",
    "current_frequencies = range(low_freq, high_freq)\n",
    "\n",
    "# Iterating through each brain region\n",
    "for col in cluster_mean_columns:\n",
    "    if \"all_frequencies\" not in col:\n",
    "        continue\n",
    "    print(col)\n",
    "\n",
    "    fig, ax = plt.subplots()\n",
    "    plt.xlim(low_freq, high_freq-1) \n",
    "    plt.xticks(np.arange(low_freq, high_freq, 5))\n",
    "\n",
    "    stacked_df = cluster_exploded_TRIALS_AND_SPECTRAL_DF.groupby(\"trial_and_competitiveness_label\").agg({col: stack_arrays})\n",
    "    stacked_df = stacked_df.reset_index()\n",
    "    stacked_df = stacked_df[~stacked_df[\"trial_and_competitiveness_label\"].str.contains(\"tie\")]\n",
    "\n",
    "    stacked_df[\"color\"] = stacked_df[\"trial_and_competitiveness_label\"].map(comp_id_to_color)\n",
    "    \n",
    "    if \"power\" in col:\n",
    "        # plt.ylim(0,0.01)\n",
    "        # plt.yscale(\"log\")\n",
    "        plt.ylim((10**-3.2,10**-1.2))\n",
    "        # plt.set_ylim(auto=True)\n",
    "        # plt.ylim(0, 0.5)\n",
    "        ax.set_yscale('log')\n",
    "        # plt.ylim(0, max_value)\n",
    "    elif \"coherence\" in col:\n",
    "        plt.ylim(0.3, 0.85)\n",
    "        plt.yticks(np.arange(0.3, 0.85, 0.1)) \n",
    "    elif \"granger\" in col:\n",
    "        plt.ylim(0.2, 0.8)\n",
    "        plt.yticks(np.arange(0.2, 0.85, 0.1)) \n",
    "    else:\n",
    "        # pass\n",
    "        plt.ylim()\n",
    "    \n",
    "    # Iterating through each trial type\n",
    "    for index, row in stacked_df.iterrows():\n",
    "        print(row[\"trial_and_competitiveness_label\"])\n",
    "        print(row[col].shape)\n",
    "        #### DURING TRIAL ####\n",
    "        mean_power = np.nanmean(row[col], axis=0)[low_freq: high_freq]\n",
    "        \n",
    "        sem_power = np.nanstd(row[col], axis=0) / np.sqrt(row[col].shape[0])\n",
    "        sem_power = sem_power[low_freq: high_freq]\n",
    "        print(sem_power)\n",
    "\n",
    "        plt.fill_between(current_frequencies, \n",
    "        mean_power - sem_power, mean_power + sem_power, \\\n",
    "        alpha=0.3, color=row[\"color\"])\n",
    "\n",
    "        plt.plot(current_frequencies, mean_power, \\\n",
    "        label=\"{}\".format(row[\"trial_and_competitiveness_label\"]), linewidth=3, color=row[\"color\"])\n",
    "    \n",
    "    if \"granger\" in col:\n",
    "        title = \"{}\".format(col.replace(\"cluster_mean_trial_\", \"\").replace(\"cluster_mean_trial_and_post_\", \"\").replace(\"RMS_filtered_\", \"\").replace(\"all_frequencies_all_windows\", \"\").replace(\"power\", \"\").replace(\"granger\", \"\")).replace(\"coherence\", \"\").replace(\"_\", \" \").replace(\"  \", \" \").strip().replace(\" \", \" to \").strip()\n",
    "    else:\n",
    "        title = \"{}\".format(col.replace(\"cluster_mean_trial_\", \"\").replace(\"cluster_mean_trial_and_post_\", \"\").replace(\"RMS_filtered_\", \"\").replace(\"all_frequencies_all_windows\", \"\").replace(\"power\", \"\").replace(\"granger\", \"\")).replace(\"coherence\", \"\").replace(\"_\", \" \").replace(\"  \", \" \").strip()\n",
    "\n",
    "    plt.title(title)\n",
    "    plt.xlabel(\"Frequency (Hz)\", fontsize=25)\n",
    "    \n",
    "    if \"power\" in col:\n",
    "        # plt.ylabel(\"Normalized Power (a.u.)\")\n",
    "        output_dir = \"./proc/cluster_spectra_plots/power\"\n",
    "\n",
    "    elif \"coherence\" in col:\n",
    "        # plt.ylabel(\"Coherence\")\n",
    "        output_dir = \"./proc/cluster_spectra_plots/coherence\"\n",
    "\n",
    "    elif \"granger\" in col:\n",
    "        # plt.ylabel(\"Granger's Causality\")\n",
    "        output_dir = \"./proc/cluster_spectra_plots/granger\"\n",
    "    \n",
    "    os.makedirs(output_dir, exist_ok=True)\n",
    "\n",
    "    # plt.legend(fontsize=10)\n",
    "    \n",
    "    # Hide top and right borders\n",
    "    ax.spines['top'].set_visible(False)\n",
    "    ax.spines['right'].set_visible(False)\n",
    "\n",
    "    # Leave bottom and left spines\n",
    "    ax.spines['bottom'].set_visible(True)\n",
    "    ax.spines['left'].set_visible(True)\n",
    "    ax.spines['bottom'].set_linewidth(4)\n",
    "    ax.spines['left'].set_linewidth(4)\n",
    "\n",
    "    ax.tick_params(length=8, width=4)\n",
    "    plt.yticks(fontsize=25)\n",
    "    plt.xticks(fontsize=25)\n",
    "\n",
    "    plt.tight_layout()    \n",
    "    plt.savefig(os.path.join(output_dir, \"cluster_{}.png\".format(col.replace(\"cluster_mean_trial_and_post_\", \"\").replace(\"RMS_filtered_\", \"\").replace(\"all_frequencies_all_windows\", \"\").strip(\"_\").strip())), transparent=True)\n",
    "    plt.show()\n"
   ]
  },
  {
   "cell_type": "code",
   "execution_count": 113,
   "metadata": {},
   "outputs": [],
   "source": [
    "cluster_exploded_TRIALS_AND_SPECTRAL_DF.to_pickle(\"./proc/cluster_exploded_TRIALS_AND_SPECTRAL_DF.pkl\")"
   ]
  },
  {
   "cell_type": "code",
   "execution_count": 114,
   "metadata": {},
   "outputs": [],
   "source": [
    "export_cluster_exploded_TRIALS_AND_SPECTRAL_DF = cluster_exploded_TRIALS_AND_SPECTRAL_DF.copy()"
   ]
  },
  {
   "cell_type": "code",
   "execution_count": null,
   "metadata": {},
   "outputs": [],
   "source": [
    "export_cluster_exploded_TRIALS_AND_SPECTRAL_DF.columns"
   ]
  },
  {
   "cell_type": "code",
   "execution_count": null,
   "metadata": {},
   "outputs": [],
   "source": [
    "export_cluster_exploded_TRIALS_AND_SPECTRAL_DF"
   ]
  },
  {
   "cell_type": "code",
   "execution_count": null,
   "metadata": {},
   "outputs": [],
   "source": [
    "raise ValueError()"
   ]
  },
  {
   "cell_type": "markdown",
   "metadata": {},
   "source": [
    "## Looking at cluster related stuff"
   ]
  },
  {
   "cell_type": "markdown",
   "metadata": {},
   "source": [
    "- Parsing velocity during relavent cluster"
   ]
  },
  {
   "cell_type": "code",
   "execution_count": null,
   "metadata": {},
   "outputs": [],
   "source": [
    "for col in export_cluster_exploded_TRIALS_AND_SPECTRAL_DF.columns:\n",
    "    print(col)"
   ]
  },
  {
   "cell_type": "code",
   "execution_count": null,
   "metadata": {},
   "outputs": [],
   "source": [
    "export_cluster_exploded_TRIALS_AND_SPECTRAL_DF[\"cluster_mean_trial_BLA-to-LH_granger_gamma\"]"
   ]
  },
  {
   "cell_type": "code",
   "execution_count": null,
   "metadata": {},
   "outputs": [],
   "source": []
  },
  {
   "cell_type": "code",
   "execution_count": null,
   "metadata": {},
   "outputs": [],
   "source": [
    "raise ValueError()"
   ]
  },
  {
   "cell_type": "markdown",
   "metadata": {},
   "source": [
    "- Code for verifying spectram"
   ]
  },
  {
   "cell_type": "code",
   "execution_count": null,
   "metadata": {},
   "outputs": [],
   "source": [
    "# low_freq = 0\n",
    "# high_freq = 51\n",
    "# current_frequencies = range(low_freq, high_freq)\n",
    "\n",
    "# # Iterating through each brain region\n",
    "# for col in cluster_mean_columns:\n",
    "#     if \"all_frequencies\" not in col:\n",
    "#         continue\n",
    "#     print(col)\n",
    "\n",
    "#     fig, ax = plt.subplots()\n",
    "#     plt.xlim(low_freq, high_freq-1) \n",
    "#     plt.xticks(np.arange(low_freq, high_freq-1, 5))\n",
    "\n",
    "#     stacked_df = cluster_exploded_TRIALS_AND_SPECTRAL_DF.groupby(\"trial_and_competitiveness_label\").agg({col: stack_arrays})\n",
    "#     stacked_df = stacked_df.reset_index()\n",
    "#     stacked_df = stacked_df[~stacked_df[\"trial_and_competitiveness_label\"].str.contains(\"tie\")]\n",
    "\n",
    "#     stacked_df[\"color\"] = stacked_df[\"trial_and_competitiveness_label\"].map(comp_id_to_color)\n",
    "    \n",
    "#     if \"power\" in col:\n",
    "#         # plt.ylim(0,0.01)\n",
    "#         # plt.yscale(\"log\")\n",
    "#         # plt.ylim((10**-3.5,10**-0.5))\n",
    "#         # plt.set_ylim(auto=True)\n",
    "#         plt.ylim()\n",
    "#         ax.set_yscale('log')\n",
    "#         # plt.ylim(0, max_value)\n",
    "        \n",
    "#     else:\n",
    "#         # pass\n",
    "#         plt.ylim(0, 0.8)\n",
    "    \n",
    "#     # Iterating through each trial type\n",
    "#     counter = 0\n",
    "#     for index, row in stacked_df.iloc[:100].iterrows():\n",
    "#         print(row[\"trial_and_competitiveness_label\"])\n",
    "#         print(row[col].shape)\n",
    "#         for trace in row[col]: \n",
    "#             plt.plot(current_frequencies, trace[low_freq: high_freq], color=row[\"color\"], alpha=0.5)\n",
    "#             counter += 1\n",
    "#             if counter >= 100:\n",
    "#                 break\n",
    "    \n",
    "#     if \"granger\" in col:\n",
    "#         title = \"{}\".format(col.replace(\"cluster_mean_trial_\", \"\").replace(\"cluster_mean_trial_and_post_\", \"\").replace(\"RMS_filtered_\", \"\").replace(\"all_frequencies_all_windows\", \"\").replace(\"power\", \"\").replace(\"granger\", \"\")).replace(\"coherence\", \"\").replace(\"_\", \" \").replace(\"  \", \" \").strip().replace(\" \", \" to \").strip()\n",
    "#     else:\n",
    "#         title = \"{}\".format(col.replace(\"cluster_mean_trial_\", \"\").replace(\"cluster_mean_trial_and_post_\", \"\").replace(\"RMS_filtered_\", \"\").replace(\"all_frequencies_all_windows\", \"\").replace(\"power\", \"\").replace(\"granger\", \"\")).replace(\"coherence\", \"\").replace(\"_\", \" \").replace(\"  \", \" \").strip()\n",
    "\n",
    "#     plt.title(title)\n",
    "#     plt.xlabel(\"Frequency (Hz)\")\n",
    "    \n",
    "#     if \"power\" in col:\n",
    "#         # plt.ylabel(\"Normalized Power (a.u.)\")\n",
    "#         output_dir = \"./proc/cluster_spectra_plots/power\"\n",
    "\n",
    "#     elif \"coherence\" in col:\n",
    "#         # plt.ylabel(\"Coherence\")\n",
    "#         output_dir = \"./proc/cluster_spectra_plots/coherence\"\n",
    "\n",
    "#     elif \"granger\" in col:\n",
    "#         # plt.ylabel(\"Granger's Causality\")\n",
    "#         output_dir = \"./proc/cluster_spectra_plots/granger\"\n",
    "    \n",
    "#     os.makedirs(output_dir, exist_ok=True)\n",
    "\n",
    "#     # plt.legend(fontsize=10)\n",
    "\n",
    "#     # Hide top and right borders\n",
    "#     ax.spines['top'].set_visible(False)\n",
    "#     ax.spines['right'].set_visible(False)\n",
    "\n",
    "#     # Leave bottom and left spines\n",
    "#     ax.spines['bottom'].set_visible(True)\n",
    "#     ax.spines['left'].set_visible(True)\n",
    "#     ax.spines['bottom'].set_linewidth(2)\n",
    "#     ax.spines['left'].set_linewidth(2)\n",
    "\n",
    "#     plt.tight_layout()    \n",
    "#     plt.show()\n",
    "#     break"
   ]
  },
  {
   "cell_type": "code",
   "execution_count": 101,
   "metadata": {},
   "outputs": [],
   "source": [
    "cluster_exploded_TRIALS_AND_SPECTRAL_DF.to_pickle(\"./proc/cluster_exploded_TRIALS_AND_SPECTRAL_DF.pkl\")"
   ]
  },
  {
   "cell_type": "markdown",
   "metadata": {},
   "source": [
    "# Plotting averages"
   ]
  },
  {
   "cell_type": "code",
   "execution_count": 102,
   "metadata": {},
   "outputs": [],
   "source": [
    "GROUPING = \"trial_and_competitiveness_label\""
   ]
  },
  {
   "cell_type": "code",
   "execution_count": 103,
   "metadata": {},
   "outputs": [],
   "source": [
    "theta_gamma_mean_columns = [col for col in cluster_exploded_TRIALS_AND_SPECTRAL_DF if \"cluster_mean\" in col and \"all_frequencies_all_windows\" not in col and (\"gamma\" in col or \"theta\" in col)]"
   ]
  },
  {
   "cell_type": "code",
   "execution_count": null,
   "metadata": {},
   "outputs": [],
   "source": [
    "theta_gamma_mean_columns"
   ]
  },
  {
   "cell_type": "code",
   "execution_count": null,
   "metadata": {},
   "outputs": [],
   "source": [
    "col"
   ]
  },
  {
   "cell_type": "code",
   "execution_count": 107,
   "metadata": {},
   "outputs": [],
   "source": [
    "# for col in theta_gamma_mean_columns:\n",
    "#     fig, ax = plt.subplots()\n",
    "#     mean_df = pd.DataFrame(cluster_exploded_TRIALS_AND_SPECTRAL_DF[[GROUPING, col]].groupby(GROUPING).mean()[col]).rename(columns={col: \"mean\"})\n",
    "#     sem_df = pd.DataFrame(cluster_exploded_TRIALS_AND_SPECTRAL_DF[[GROUPING, col]].groupby(GROUPING).agg(\"sem\")[col]).rename(columns={col: \"sem\"})\n",
    "#     merged_df = pd.merge(mean_df, sem_df, on=GROUPING).reset_index().sort_values([GROUPING])\n",
    "#     merged_df[\"measurement\"] = col\n",
    "#     for index, row in merged_df.iterrows():\n",
    "#         if \"tie\" in row[GROUPING]:\n",
    "#             continue\n",
    "#         plt.bar(\"\\n\".join(row[GROUPING].split(\"_\")).replace(\"competitive\", \"comp\"), row[\"mean\"], color=comp_id_to_color[row[GROUPING]])\n",
    "#         plt.errorbar(\"\\n\".join(row[GROUPING].split(\"_\")).replace(\"competitive\", \"comp\"), row[\"mean\"], yerr=row[\"sem\"], capsize=20, ecolor = \"black\")\n",
    "\n",
    "#     ax.tick_params(axis='x', rotation=90)\n",
    "#     brain_region = col.replace(\"cluster_mean_trial_\", \"\").replace(\"cluster_mean_trial_and_post\", \"\").replace(\"coherence\", \"\").replace(\"granger\", \"\").replace(\"power\", \"\").replace(\"__\", \"_\").replace(\"_\", \" \").strip()\n",
    "#     plt.title(brain_region.replace(\"gamma\", \"\").replace(\"theta\", \"\").strip())\n",
    "    \n",
    "#     if \"power\" in col:\n",
    "#         plt.ylim()\n",
    "#     else:\n",
    "#         plt.ylim(0, 0.8)\n",
    "\n",
    "\n",
    "#     plt.tight_layout()\n",
    "#     # plt.savefig(\"./proc/cluster_average_spectra/{}_averages.png\".format(col.replace(\"cluster_mean_trial_\", \"\")))\n",
    "#     plt.close()\n",
    "#     # plt.show()\n",
    "#     # for group in cluster_exploded_TRIALS_AND_SPECTRAL_DF[GROUPING].unique():\n",
    "#     #     current_df = cluster_exploded_TRIALS_AND_SPECTRAL_DF[cluster_exploded_TRIALS_AND_SPECTRAL_DF[GROUPING] == group]\n",
    "    "
   ]
  },
  {
   "cell_type": "code",
   "execution_count": null,
   "metadata": {},
   "outputs": [],
   "source": [
    "cluster_exploded_TRIALS_AND_SPECTRAL_DF[\"trial_and_competitiveness_label\"].unique()"
   ]
  },
  {
   "cell_type": "code",
   "execution_count": 112,
   "metadata": {},
   "outputs": [],
   "source": [
    "cluster_exploded_TRIALS_AND_SPECTRAL_DF[[\"trial_and_competitiveness_label\", \"current_subject\", \"recording\", \"video_name\"] + theta_gamma_mean_columns].to_excel(\"./proc/competitiveness_trials_and_spectral_mean.xlsx\")"
   ]
  },
  {
   "cell_type": "code",
   "execution_count": 113,
   "metadata": {},
   "outputs": [],
   "source": [
    "cluster_exploded_TRIALS_AND_SPECTRAL_DF[[\"trial_and_competitiveness_label\", \"current_subject\", \"recording\", \"video_name\"] + theta_gamma_mean_columns].to_csv(\"./proc/competitiveness_trials_and_spectral_mean.csv\")"
   ]
  },
  {
   "cell_type": "markdown",
   "metadata": {},
   "source": [
    "# Plotting power bar graphs"
   ]
  },
  {
   "cell_type": "code",
   "execution_count": 116,
   "metadata": {},
   "outputs": [],
   "source": [
    "    x_pos = np.arange(0,1,len(merged_df))"
   ]
  },
  {
   "cell_type": "code",
   "execution_count": null,
   "metadata": {},
   "outputs": [],
   "source": [
    "x_pos"
   ]
  },
  {
   "cell_type": "code",
   "execution_count": 180,
   "metadata": {},
   "outputs": [],
   "source": [
    "for col in theta_gamma_mean_columns:\n",
    "    if \"power\" not in col:\n",
    "        continue\n",
    "\n",
    "    fig, ax = plt.subplots(figsize=(8,4))\n",
    "    # plt.figure(figsize=(10,6))\n",
    "\n",
    "    mean_df = pd.DataFrame(cluster_exploded_TRIALS_AND_SPECTRAL_DF[[GROUPING, col]].groupby(GROUPING).mean()[col]).rename(columns={col: \"mean\"})\n",
    "    sem_df = pd.DataFrame(cluster_exploded_TRIALS_AND_SPECTRAL_DF[[GROUPING, col]].groupby(GROUPING).agg(\"sem\")[col]).rename(columns={col: \"sem\"})\n",
    "    merged_df = pd.merge(mean_df, sem_df, on=GROUPING).reset_index().sort_values([GROUPING])\n",
    "    merged_df[\"measurement\"] = col\n",
    "    x_pos = np.linspace(0,0.5,len(merged_df)) * 0.9\n",
    "    \n",
    "    for index, row in merged_df.sort_values(by=[\"trial_and_competitiveness_label\"]).iloc[[3,4,2,0,1]].reset_index().iterrows():\n",
    "        \n",
    "        plt.bar(x_pos[index], row[\"mean\"], color=comp_id_to_color[row[GROUPING]], width=0.5/len(merged_df))\n",
    "        plt.errorbar(x_pos[index], row[\"mean\"], yerr=row[\"sem\"], capsize=20, ecolor = \"black\", elinewidth=3, markeredgewidth=3)\n",
    "\n",
    "        # plt.bar(\"\\n\".join(row[GROUPING].split(\"_\")).replace(\"competitive\", \"comp\"), row[\"mean\"], color=comp_id_to_color[row[GROUPING]], width=0.5)\n",
    "        # plt.errorbar(\"\\n\".join(row[GROUPING].split(\"_\")).replace(\"competitive\", \"comp\"), row[\"mean\"], yerr=row[\"sem\"], capsize=20, ecolor = \"black\")\n",
    "\n",
    "    plt.tick_params(\n",
    "        axis='x',          # changes apply to the x-axis\n",
    "        which='both',      # both major and minor ticks are affected\n",
    "        bottom=False,      # ticks along the bottom edge are off\n",
    "        top=False,         # ticks along the top edge are off\n",
    "        labelbottom=False) # labels along the bottom edge are off\n",
    "\n",
    "    ax.tick_params(axis='x', rotation=90)\n",
    "    brain_region = col.replace(\"cluster_mean_trial_\", \"\").replace(\"cluster_mean_trial_and_post\", \"\").replace(\"coherence\", \"\").replace(\"granger\", \"\").replace(\"power\", \"\").replace(\"__\", \"_\").replace(\"_\", \" \").strip()\n",
    "    # plt.title(brain_region.replace(\"gamma\", \"\").replace(\"theta\", \"\").strip())\n",
    "    \n",
    "    if \"theta\" in col:\n",
    "        plt.ylim(0, 0.04)\n",
    "    elif \"gamma\" in col:\n",
    "        plt.ylim(0, 0.004)\n",
    "    else:\n",
    "        plt.ylim(0, 0.8)\n",
    "    ax.tick_params(length=10, width=4)\n",
    "    plt.ticklabel_format(style='sci', axis='y', scilimits=(0,0))\n",
    "    plt.yticks(fontsize=30)\n",
    "\n",
    "    # Hide top and right borders\n",
    "    ax.spines['top'].set_visible(False)\n",
    "    ax.spines['right'].set_visible(False)\n",
    "\n",
    "    # Leave bottom and left spines\n",
    "    ax.spines['bottom'].set_visible(True)\n",
    "    ax.spines['left'].set_visible(True)\n",
    "    ax.spines['bottom'].set_linewidth(4)\n",
    "    ax.spines['left'].set_linewidth(4)\n",
    "\n",
    "    plt.tight_layout()\n",
    "    plt.savefig(\"./proc/cluster_average_spectra/power/{}_averages.png\".format(col.replace(\"cluster_mean_trial_\", \"\")), transparent=True)\n",
    "    plt.close()\n",
    "    # plt.show()\n",
    "    # for group in cluster_exploded_TRIALS_AND_SPECTRAL_DF[GROUPING].unique():\n",
    "    #     current_df = cluster_exploded_TRIALS_AND_SPECTRAL_DF[cluster_exploded_TRIALS_AND_SPECTRAL_DF[GROUPING] == group]\n",
    "    "
   ]
  },
  {
   "cell_type": "code",
   "execution_count": null,
   "metadata": {},
   "outputs": [],
   "source": []
  },
  {
   "cell_type": "markdown",
   "metadata": {},
   "source": [
    "# Plotting coherence plots"
   ]
  },
  {
   "cell_type": "code",
   "execution_count": 236,
   "metadata": {},
   "outputs": [],
   "source": [
    "for col in theta_gamma_mean_columns:\n",
    "    if \"coherence\" not in col:\n",
    "        continue\n",
    "\n",
    "\n",
    "    fig, ax = plt.subplots(figsize=(8,4))\n",
    "    # plt.figure(figsize=(10,6))\n",
    "\n",
    "    mean_df = pd.DataFrame(cluster_exploded_TRIALS_AND_SPECTRAL_DF[[GROUPING, col]].groupby(GROUPING).mean()[col]).rename(columns={col: \"mean\"})\n",
    "    sem_df = pd.DataFrame(cluster_exploded_TRIALS_AND_SPECTRAL_DF[[GROUPING, col]].groupby(GROUPING).agg(\"sem\")[col]).rename(columns={col: \"sem\"})\n",
    "    merged_df = pd.merge(mean_df, sem_df, on=GROUPING).reset_index().sort_values([GROUPING])\n",
    "    merged_df[\"measurement\"] = col\n",
    "    x_pos = np.linspace(0,0.5,len(merged_df)) * 0.9\n",
    "    \n",
    "    for index, row in merged_df.sort_values(by=[\"trial_and_competitiveness_label\"]).iloc[[3,4,2,0,1]].reset_index().iterrows():\n",
    "        \n",
    "        plt.bar(x_pos[index], row[\"mean\"], color=comp_id_to_color[row[GROUPING]], width=0.5/len(merged_df))\n",
    "        plt.errorbar(x_pos[index], row[\"mean\"], yerr=row[\"sem\"], capsize=20, ecolor = \"black\", elinewidth=3, markeredgewidth=3)\n",
    "\n",
    "        # plt.bar(\"\\n\".join(row[GROUPING].split(\"_\")).replace(\"competitive\", \"comp\"), row[\"mean\"], color=comp_id_to_color[row[GROUPING]], width=0.5)\n",
    "        # plt.errorbar(\"\\n\".join(row[GROUPING].split(\"_\")).replace(\"competitive\", \"comp\"), row[\"mean\"], yerr=row[\"sem\"], capsize=20, ecolor = \"black\")\n",
    "\n",
    "    plt.tick_params(\n",
    "        axis='x',          # changes apply to the x-axis\n",
    "        which='both',      # both major and minor ticks are affected\n",
    "        bottom=False,      # ticks along the bottom edge are off\n",
    "        top=False,         # ticks along the top edge are off\n",
    "        labelbottom=False) # labels along the bottom edge are off\n",
    "\n",
    "    ax.tick_params(axis='x', rotation=90)\n",
    "    brain_region = col.replace(\"cluster_mean_trial_\", \"\").replace(\"cluster_mean_trial_and_post\", \"\").replace(\"coherence\", \"\").replace(\"granger\", \"\").replace(\"power\", \"\").replace(\"__\", \"_\").replace(\"_\", \" \").strip()\n",
    "    # plt.title(brain_region.replace(\"gamma\", \"\").replace(\"theta\", \"\").strip())\n",
    "    \n",
    "    if \"theta\" in col:\n",
    "        plt.ylim(0, 0.8)\n",
    "    elif \"gamma\" in col:\n",
    "        plt.ylim(0, 0.8)\n",
    "    else:\n",
    "        plt.ylim(0, 0.8)\n",
    "    ax.tick_params(length=10, width=4)\n",
    "    plt.yticks(fontsize=30)\n",
    "\n",
    "    # Hide top and right borders\n",
    "    ax.spines['top'].set_visible(False)\n",
    "    ax.spines['right'].set_visible(False)\n",
    "\n",
    "    # Leave bottom and left spines\n",
    "    ax.spines['bottom'].set_visible(True)\n",
    "    ax.spines['left'].set_visible(True)\n",
    "    ax.spines['bottom'].set_linewidth(4)\n",
    "    ax.spines['left'].set_linewidth(4)\n",
    "\n",
    "    plt.tight_layout()\n",
    "    plt.savefig(\"./proc/cluster_average_spectra/coherence/{}_averages.png\".format(col.replace(\"cluster_mean_trial_\", \"\")), transparent=True)\n",
    "    plt.close()\n",
    "    # plt.show()\n",
    "    # for group in cluster_exploded_TRIALS_AND_SPECTRAL_DF[GROUPING].unique():\n",
    "    #     current_df = cluster_exploded_TRIALS_AND_SPECTRAL_DF[cluster_exploded_TRIALS_AND_SPECTRAL_DF[GROUPING] == group]\n",
    "    "
   ]
  },
  {
   "cell_type": "markdown",
   "metadata": {},
   "source": [
    "# Plotting Granger averages"
   ]
  },
  {
   "cell_type": "code",
   "execution_count": 235,
   "metadata": {},
   "outputs": [],
   "source": [
    "for col in theta_gamma_mean_columns:\n",
    "    if \"granger\" not in col:\n",
    "        continue\n",
    "\n",
    "\n",
    "    fig, ax = plt.subplots(figsize=(8,4))\n",
    "    # plt.figure(figsize=(10,6))\n",
    "\n",
    "    mean_df = pd.DataFrame(cluster_exploded_TRIALS_AND_SPECTRAL_DF[[GROUPING, col]].groupby(GROUPING).mean()[col]).rename(columns={col: \"mean\"})\n",
    "    sem_df = pd.DataFrame(cluster_exploded_TRIALS_AND_SPECTRAL_DF[[GROUPING, col]].groupby(GROUPING).agg(\"sem\")[col]).rename(columns={col: \"sem\"})\n",
    "    merged_df = pd.merge(mean_df, sem_df, on=GROUPING).reset_index().sort_values([GROUPING])\n",
    "    merged_df[\"measurement\"] = col\n",
    "    x_pos = np.linspace(0,0.5,len(merged_df)) * 0.9\n",
    "    \n",
    "    for index, row in merged_df.sort_values(by=[\"trial_and_competitiveness_label\"]).iloc[[3,4,2,0,1]].reset_index().iterrows():\n",
    "        \n",
    "        plt.bar(x_pos[index], row[\"mean\"], color=comp_id_to_color[row[GROUPING]], width=0.5/len(merged_df))\n",
    "        plt.errorbar(x_pos[index], row[\"mean\"], yerr=row[\"sem\"], capsize=20, ecolor = \"black\", elinewidth=3, markeredgewidth=3)\n",
    "\n",
    "        # plt.bar(\"\\n\".join(row[GROUPING].split(\"_\")).replace(\"competitive\", \"comp\"), row[\"mean\"], color=comp_id_to_color[row[GROUPING]], width=0.5)\n",
    "        # plt.errorbar(\"\\n\".join(row[GROUPING].split(\"_\")).replace(\"competitive\", \"comp\"), row[\"mean\"], yerr=row[\"sem\"], capsize=20, ecolor = \"black\")\n",
    "\n",
    "    plt.tick_params(\n",
    "        axis='x',          # changes apply to the x-axis\n",
    "        which='both',      # both major and minor ticks are affected\n",
    "        bottom=False,      # ticks along the bottom edge are off\n",
    "        top=False,         # ticks along the top edge are off\n",
    "        labelbottom=False) # labels along the bottom edge are off\n",
    "\n",
    "    ax.tick_params(axis='x', rotation=90)\n",
    "    brain_region = col.replace(\"cluster_mean_trial_\", \"\").replace(\"cluster_mean_trial_and_post\", \"\").replace(\"coherence\", \"\").replace(\"granger\", \"\").replace(\"power\", \"\").replace(\"__\", \"_\").replace(\"_\", \" \").strip()\n",
    "    # plt.title(brain_region.replace(\"gamma\", \"\").replace(\"theta\", \"\").strip())\n",
    "    \n",
    "    if \"theta\" in col:\n",
    "        plt.ylim(0, 0.8)\n",
    "    elif \"gamma\" in col:\n",
    "        plt.ylim(0, 0.8)\n",
    "    else:\n",
    "        plt.ylim(0, 0.8)\n",
    "    ax.tick_params(length=10, width=4)\n",
    "    plt.yticks(fontsize=30)\n",
    "\n",
    "    # Hide top and right borders\n",
    "    ax.spines['top'].set_visible(False)\n",
    "    ax.spines['right'].set_visible(False)\n",
    "\n",
    "    # Leave bottom and left spines\n",
    "    ax.spines['bottom'].set_visible(True)\n",
    "    ax.spines['left'].set_visible(True)\n",
    "    ax.spines['bottom'].set_linewidth(4)\n",
    "    ax.spines['left'].set_linewidth(4)\n",
    "\n",
    "    plt.tight_layout()\n",
    "    plt.savefig(\"./proc/cluster_average_spectra/granger/{}_averages.png\".format(col.replace(\"cluster_mean_trial_\", \"\")), transparent=True)\n",
    "    plt.close()\n",
    "    # plt.show()\n",
    "    # for group in cluster_exploded_TRIALS_AND_SPECTRAL_DF[GROUPING].unique():\n",
    "    #     current_df = cluster_exploded_TRIALS_AND_SPECTRAL_DF[cluster_exploded_TRIALS_AND_SPECTRAL_DF[GROUPING] == group]\n",
    "    "
   ]
  },
  {
   "cell_type": "code",
   "execution_count": null,
   "metadata": {},
   "outputs": [],
   "source": []
  },
  {
   "cell_type": "code",
   "execution_count": null,
   "metadata": {},
   "outputs": [],
   "source": [
    "merged_df"
   ]
  },
  {
   "cell_type": "markdown",
   "metadata": {},
   "source": [
    "# Checking significance"
   ]
  },
  {
   "cell_type": "code",
   "execution_count": null,
   "metadata": {},
   "outputs": [],
   "source": [
    "all_significance_csv = []\n",
    "for file_path in glob.glob(\"./significance_output/emmeans_coherence/*csv\"):\n",
    "    current_df = pd.read_csv(file_path, index_col=0)\n",
    "    file_name_parts = os.path.basename(file_path).replace(\".csv\", \"\").replace(\"cluster_mean_trial_\", \"\").replace(\"_emmeans\", \"\").replace(\"_coherence_\", \" \").split(\" \")\n",
    "    \n",
    "    print(file_name_parts)\n",
    "    current_df[\"brain_region\"] = file_name_parts[0]\n",
    "    current_df[\"band\"] = file_name_parts[1]\n",
    "\n",
    "    all_significance_csv.append(current_df)"
   ]
  },
  {
   "cell_type": "code",
   "execution_count": 196,
   "metadata": {},
   "outputs": [],
   "source": [
    "all_significance_df = pd.concat(all_significance_csv)"
   ]
  },
  {
   "cell_type": "code",
   "execution_count": 198,
   "metadata": {},
   "outputs": [],
   "source": [
    "all_significance_df[\"p.value\"] = all_significance_df[\"p.value\"].astype(float)"
   ]
  },
  {
   "cell_type": "code",
   "execution_count": null,
   "metadata": {},
   "outputs": [],
   "source": [
    "all_significance_df[\"contrast\"].unique()"
   ]
  },
  {
   "cell_type": "code",
   "execution_count": 204,
   "metadata": {},
   "outputs": [],
   "source": [
    "good_contrasts = ['rewarded - win_competitive', 'rewarded - win_no_comp',\n",
    "       'win_competitive - win_no_comp',\n",
    "       'win_competitive - lose_competitive',\n",
    "       'win_no_comp - lose_no_comp', 'lose_competitive - lose_no_comp']"
   ]
  },
  {
   "cell_type": "code",
   "execution_count": null,
   "metadata": {},
   "outputs": [],
   "source": [
    "all_significance_df[(all_significance_df[\"p.value\"] <= 0.001) & (all_significance_df[\"contrast\"].isin(good_contrasts)) & (~all_significance_df[\"brain_region\"].str.contains(\"mPFC\"))].sort_values(by=[\"band\", \"brain_region\", \"contrast\"])"
   ]
  },
  {
   "cell_type": "code",
   "execution_count": null,
   "metadata": {},
   "outputs": [],
   "source": [
    "all_significance_csv[0]"
   ]
  },
  {
   "cell_type": "markdown",
   "metadata": {},
   "source": [
    "# OLD Stuff"
   ]
  },
  {
   "cell_type": "code",
   "execution_count": null,
   "metadata": {},
   "outputs": [],
   "source": [
    "granger_col = [col for col in cluster_exploded_TRIALS_AND_SPECTRAL_DF.columns if (\"theta\" in col or \"gamma\" in col) and \"granger\" in col and \"mean\" in col]"
   ]
  },
  {
   "cell_type": "code",
   "execution_count": null,
   "metadata": {},
   "outputs": [],
   "source": [
    "granger_col"
   ]
  },
  {
   "cell_type": "code",
   "execution_count": null,
   "metadata": {},
   "outputs": [],
   "source": [
    "for col in granger_col:\n",
    "    fig, ax = plt.subplots()\n",
    "    mean_df = pd.DataFrame(cluster_exploded_TRIALS_AND_SPECTRAL_DF[[GROUPING, col]].groupby(GROUPING).mean()[col]).rename(columns={col: \"mean\"})\n",
    "    sem_df = pd.DataFrame(cluster_exploded_TRIALS_AND_SPECTRAL_DF[[GROUPING, col]].groupby(GROUPING).agg(\"sem\")[col]).rename(columns={col: \"sem\"})\n",
    "    merged_df = pd.merge(mean_df, sem_df, on=GROUPING).reset_index().sort_values([GROUPING])\n",
    "    merged_df[\"measurement\"] = col\n",
    "    for index, row in merged_df.iterrows():\n",
    "        plt.bar(\"\\n\".join(row[GROUPING].split(\"_\")).replace(\"competitive\", \"comp\"), row[\"mean\"], color=comp_id_to_color[row[GROUPING]])\n",
    "        plt.errorbar(\"\\n\".join(row[GROUPING].split(\"_\")).replace(\"competitive\", \"comp\"), row[\"mean\"], yerr=row[\"sem\"], capsize=20, ecolor = \"black\")\n",
    "\n",
    "    ax.tick_params(axis='x', rotation=90)\n",
    "    brain_region = col.replace(\"cluster_mean_trial_and_post\", \"\").replace(\"coherence\", \"\").replace(\"__\", \"_\").replace(\"_\", \" \").strip()\n",
    "    plt.title(brain_region.replace(\"gamma\", \"\").replace(\"theta\", \"\").strip())\n",
    "    plt.ylim(0, 0.6)\n",
    "    plt.tight_layout()\n",
    "    plt.savefig(\"./proc/cluster_spectra_plots/mean_granger/{} granger.png\".format(brain_region))\n",
    "    # for group in cluster_exploded_TRIALS_AND_SPECTRAL_DF[GROUPING].unique():\n",
    "    #     current_df = cluster_exploded_TRIALS_AND_SPECTRAL_DF[cluster_exploded_TRIALS_AND_SPECTRAL_DF[GROUPING] == group]\n",
    "    "
   ]
  },
  {
   "cell_type": "code",
   "execution_count": null,
   "metadata": {},
   "outputs": [],
   "source": [
    "raise ValueError()"
   ]
  },
  {
   "cell_type": "markdown",
   "metadata": {},
   "source": [
    "# LDA"
   ]
  },
  {
   "cell_type": "code",
   "execution_count": null,
   "metadata": {},
   "outputs": [],
   "source": [
    "power_columns = [col for col in TRIALS_AND_SPECTRAL_DF if (\"gamma\" in col or \"theta\" in col) and (\"trial_and_post\" in col or \"cluster\" in col) and \"phase\" not in col and \"band\" not in col or \"cluster_filtered\" in col] "
   ]
  },
  {
   "cell_type": "code",
   "execution_count": null,
   "metadata": {},
   "outputs": [],
   "source": [
    "power_columns"
   ]
  },
  {
   "cell_type": "markdown",
   "metadata": {},
   "source": [
    "- Making a separate row for each cluster"
   ]
  },
  {
   "cell_type": "code",
   "execution_count": null,
   "metadata": {},
   "outputs": [],
   "source": [
    "cluster_exploded_TRIALS_AND_SPECTRAL_DF = TRIALS_AND_SPECTRAL_DF[to_keep_columns + power_columns].explode([\"cluster_filtered_power_timestamps\"])"
   ]
  },
  {
   "cell_type": "code",
   "execution_count": null,
   "metadata": {},
   "outputs": [],
   "source": [
    "cluster_exploded_TRIALS_AND_SPECTRAL_DF[\"cluster_filtered_granger_timestamps\"]"
   ]
  },
  {
   "cell_type": "markdown",
   "metadata": {},
   "source": [
    "- Making independent columns for cluster name and indexes"
   ]
  },
  {
   "cell_type": "code",
   "execution_count": null,
   "metadata": {},
   "outputs": [],
   "source": [
    "cluster_exploded_TRIALS_AND_SPECTRAL_DF[\"power_cluster_id\"] = cluster_exploded_TRIALS_AND_SPECTRAL_DF[\"cluster_filtered_power_timestamps\"].apply(lambda x: x[0])\n",
    "cluster_exploded_TRIALS_AND_SPECTRAL_DF[\"power_cluster_indexes\"] = cluster_exploded_TRIALS_AND_SPECTRAL_DF[\"cluster_filtered_power_timestamps\"].apply(lambda x: x[1])"
   ]
  },
  {
   "cell_type": "code",
   "execution_count": null,
   "metadata": {},
   "outputs": [],
   "source": [
    "cluster_exploded_TRIALS_AND_SPECTRAL_DF"
   ]
  },
  {
   "cell_type": "code",
   "execution_count": null,
   "metadata": {},
   "outputs": [],
   "source": [
    "power_columns = [col for col in cluster_exploded_TRIALS_AND_SPECTRAL_DF if \"granger\" in col and \"trial_and_post\" in col and \"timestamps\" not in col]\n",
    "\n",
    "\n",
    "power_columns = [col for col in TRIALS_AND_SPECTRAL_DF if (\"gamma\" in col or \"theta\" in col) and (\"trial_and_post\" in col or \"cluster\" in col) and \"phase\" not in col and \"band\" not in col] "
   ]
  },
  {
   "cell_type": "code",
   "execution_count": null,
   "metadata": {},
   "outputs": [],
   "source": [
    "power_columns"
   ]
  },
  {
   "cell_type": "markdown",
   "metadata": {},
   "source": [
    "- Getting the timestamps of all the clusters"
   ]
  },
  {
   "cell_type": "code",
   "execution_count": null,
   "metadata": {},
   "outputs": [],
   "source": [
    "for col in power_columns:\n",
    "    print(col)\n",
    "    cluster_exploded_TRIALS_AND_SPECTRAL_DF[\"cluster_all_{}\".format(col)] = cluster_exploded_TRIALS_AND_SPECTRAL_DF.apply(lambda x: x[col][x[\"power_cluster_indexes\"]], axis=1)"
   ]
  },
  {
   "cell_type": "code",
   "execution_count": null,
   "metadata": {},
   "outputs": [],
   "source": [
    "cluster_all_columns = [col for col in cluster_exploded_TRIALS_AND_SPECTRAL_DF if \"cluster_all\" in col]"
   ]
  },
  {
   "cell_type": "code",
   "execution_count": null,
   "metadata": {},
   "outputs": [],
   "source": [
    "cluster_all_columns"
   ]
  },
  {
   "cell_type": "markdown",
   "metadata": {},
   "source": [
    "- Aggregating all the values within a given trial"
   ]
  },
  {
   "cell_type": "code",
   "execution_count": null,
   "metadata": {},
   "outputs": [],
   "source": [
    "for col in cluster_all_columns:\n",
    "    updated_column = col.replace(\"cluster_all\", \"cluster_mean\")\n",
    "    if \"gamma\" in col or \"theta\" in col:\n",
    "        cluster_exploded_TRIALS_AND_SPECTRAL_DF[updated_column] = cluster_exploded_TRIALS_AND_SPECTRAL_DF.apply(lambda x: np.nanmean(x[col]), axis=1)\n",
    "    else:\n",
    "        cluster_exploded_TRIALS_AND_SPECTRAL_DF[updated_column] = cluster_exploded_TRIALS_AND_SPECTRAL_DF.apply(lambda x: np.nanmean(x[col], axis=0), axis=1)\n",
    "    print(updated_column)\n",
    "    print(cluster_exploded_TRIALS_AND_SPECTRAL_DF[updated_column].iloc[0])\n",
    "        "
   ]
  },
  {
   "cell_type": "code",
   "execution_count": null,
   "metadata": {},
   "outputs": [],
   "source": [
    "cluster_mean_columns = [col for col in cluster_exploded_TRIALS_AND_SPECTRAL_DF if \"cluster_mean\" in col]"
   ]
  },
  {
   "cell_type": "code",
   "execution_count": null,
   "metadata": {},
   "outputs": [],
   "source": [
    "cluster_mean_columns = [col for col in cluster_mean_columns if \"mPFC\" in col and \"power\" not in col and \"coherence\" in col]"
   ]
  },
  {
   "cell_type": "code",
   "execution_count": null,
   "metadata": {},
   "outputs": [],
   "source": [
    "cluster_mean_columns"
   ]
  },
  {
   "cell_type": "code",
   "execution_count": null,
   "metadata": {},
   "outputs": [],
   "source": [
    "cluster_exploded_TRIALS_AND_SPECTRAL_DF = cluster_exploded_TRIALS_AND_SPECTRAL_DF[~cluster_exploded_TRIALS_AND_SPECTRAL_DF[\"power_cluster_id\"].str.contains(\"tie\")]"
   ]
  },
  {
   "cell_type": "code",
   "execution_count": null,
   "metadata": {},
   "outputs": [],
   "source": [
    "# cluster_exploded_TRIALS_AND_SPECTRAL_DF = cluster_exploded_TRIALS_AND_SPECTRAL_DF[cluster_exploded_TRIALS_AND_SPECTRAL_DF[\"power_cluster_id\"].isin([\"lose_no_comp\", \"lose_competitive\"])].reset_index(drop=True)"
   ]
  },
  {
   "cell_type": "code",
   "execution_count": null,
   "metadata": {},
   "outputs": [],
   "source": [
    "cluster_exploded_TRIALS_AND_SPECTRAL_DF[\"power_cluster_id\"]"
   ]
  },
  {
   "cell_type": "code",
   "execution_count": null,
   "metadata": {},
   "outputs": [],
   "source": [
    "# GROUPING = \"competition_closeness\"\n",
    "\n",
    "\n",
    "GROUPING = \"trial_label\"\t\n",
    "GROUPING = \"competition_closeness\"\n",
    "GROUPING = \"power_cluster_id\"\n",
    "\n",
    "\n",
    "\n"
   ]
  },
  {
   "cell_type": "code",
   "execution_count": null,
   "metadata": {},
   "outputs": [],
   "source": [
    "cluster_exploded_TRIALS_AND_SPECTRAL_DF[\"factorized_{}\".format(GROUPING)], unique = pd.factorize(cluster_exploded_TRIALS_AND_SPECTRAL_DF[GROUPING])\n"
   ]
  },
  {
   "cell_type": "code",
   "execution_count": null,
   "metadata": {},
   "outputs": [],
   "source": [
    "cluster_exploded_TRIALS_AND_SPECTRAL_DF = cluster_exploded_TRIALS_AND_SPECTRAL_DF.dropna(subset=cluster_mean_columns)"
   ]
  },
  {
   "cell_type": "code",
   "execution_count": null,
   "metadata": {},
   "outputs": [],
   "source": [
    "network_array = cluster_exploded_TRIALS_AND_SPECTRAL_DF[cluster_mean_columns].values"
   ]
  },
  {
   "cell_type": "code",
   "execution_count": null,
   "metadata": {},
   "outputs": [],
   "source": [
    "cluster_exploded_TRIALS_AND_SPECTRAL_DF[GROUPING].unique()"
   ]
  },
  {
   "cell_type": "markdown",
   "metadata": {},
   "source": [
    "# Reducing Dimensions"
   ]
  },
  {
   "cell_type": "code",
   "execution_count": null,
   "metadata": {},
   "outputs": [],
   "source": [
    "network_array"
   ]
  },
  {
   "cell_type": "code",
   "execution_count": null,
   "metadata": {},
   "outputs": [],
   "source": [
    "from sklearn.preprocessing import StandardScaler\n",
    "from sklearn.discriminant_analysis import LinearDiscriminantAnalysis\n",
    "from sklearn.decomposition import PCA\n",
    "from umap import UMAP\n"
   ]
  },
  {
   "cell_type": "code",
   "execution_count": null,
   "metadata": {},
   "outputs": [],
   "source": [
    "scaler = StandardScaler()\n",
    "reduced_dimension_network_array = scaler.fit_transform(network_array)\n",
    "\n",
    "\n",
    "\n"
   ]
  },
  {
   "cell_type": "code",
   "execution_count": null,
   "metadata": {},
   "outputs": [],
   "source": [
    "# lda = LinearDiscriminantAnalysis()\n",
    "# lda = LinearDiscriminantAnalysis(n_components=2)\n",
    "# reduced_dimension_network_array = lda.fit_transform(reduced_dimension_network_array, cluster_exploded_TRIALS_AND_SPECTRAL_DF[GROUPING])\n",
    "# reduced_dimension_network_array = lda.fit_transform(reduced_dimension_network_array)"
   ]
  },
  {
   "cell_type": "code",
   "execution_count": null,
   "metadata": {},
   "outputs": [],
   "source": [
    "# lda = PCA(n_components=2)\n",
    "# reduced_dimension_network_array = lda.fit_transform(reduced_dimension_network_array)"
   ]
  },
  {
   "cell_type": "code",
   "execution_count": null,
   "metadata": {},
   "outputs": [],
   "source": [
    "reduced_dimension_network_array = UMAP(\n",
    "    n_components=2,\n",
    "    random_state=42,\n",
    ").fit_transform(network_array, y=cluster_exploded_TRIALS_AND_SPECTRAL_DF[\"factorized_{}\".format(GROUPING)].values)\n"
   ]
  },
  {
   "cell_type": "code",
   "execution_count": null,
   "metadata": {},
   "outputs": [],
   "source": []
  },
  {
   "cell_type": "code",
   "execution_count": null,
   "metadata": {},
   "outputs": [],
   "source": [
    "reduced_dimension_network_array.shape"
   ]
  },
  {
   "cell_type": "code",
   "execution_count": null,
   "metadata": {},
   "outputs": [],
   "source": [
    "# reduced_dimension_network_array = lda.fit_transform(reduced_dimension_network_array, cluster_exploded_TRIALS_AND_SPECTRAL_DF[GROUPING])\n"
   ]
  },
  {
   "cell_type": "code",
   "execution_count": null,
   "metadata": {},
   "outputs": [],
   "source": []
  },
  {
   "cell_type": "code",
   "execution_count": null,
   "metadata": {},
   "outputs": [],
   "source": []
  },
  {
   "cell_type": "code",
   "execution_count": null,
   "metadata": {},
   "outputs": [],
   "source": [
    "reduced_dimension_network_array.shape"
   ]
  },
  {
   "cell_type": "code",
   "execution_count": null,
   "metadata": {},
   "outputs": [],
   "source": [
    "GROUPING = \"current_subject\"\n",
    "# GROUPING = \"video_name\"\n",
    "# GROUPING = \"power_cluster_id\"\n"
   ]
  },
  {
   "cell_type": "code",
   "execution_count": null,
   "metadata": {},
   "outputs": [],
   "source": [
    "reduced_dimension_network_array"
   ]
  },
  {
   "cell_type": "code",
   "execution_count": null,
   "metadata": {},
   "outputs": [],
   "source": [
    "plt.figure(figsize=(5,5))\n",
    "for group in cluster_exploded_TRIALS_AND_SPECTRAL_DF[GROUPING].unique():\n",
    "    current_df = cluster_exploded_TRIALS_AND_SPECTRAL_DF[cluster_exploded_TRIALS_AND_SPECTRAL_DF[GROUPING] == group]\n",
    "    print(current_df.index)\n",
    "    plot = plt.scatter(reduced_dimension_network_array[current_df.index,0], reduced_dimension_network_array[current_df.index,1], label=group, alpha=0.8)#, c=comp_id_to_color[group], )\n",
    "    \n",
    "plt.title(\"LDA of LFP features\", fontsize=20)\n",
    "plt.xlabel(\"LD1\", fontsize=20)\n",
    "plt.ylabel(\"LD2\", fontsize=20)\n",
    "plt.xticks(fontsize=15)\n",
    "plt.yticks(fontsize=15)\n",
    "# plt.legend()\n",
    "plt.tight_layout()\n",
    "\n",
    "os.makedirs(\"./proc/network\", exist_ok=True)\n",
    "\n",
    "plt.savefig(\"./proc/network/rf_LDA_outcome_labeled.png\")\n",
    "plt.savefig(\"./proc/network/rf_LDA_outcome_labeled.eps\")\n",
    "plt.show()"
   ]
  },
  {
   "cell_type": "code",
   "execution_count": null,
   "metadata": {},
   "outputs": [],
   "source": [
    "plt.figure(figsize=(5,5))\n",
    "for group in cluster_exploded_TRIALS_AND_SPECTRAL_DF[GROUPING].unique():\n",
    "    current_df = cluster_exploded_TRIALS_AND_SPECTRAL_DF[cluster_exploded_TRIALS_AND_SPECTRAL_DF[GROUPING] == group]\n",
    "    print(current_df.index)\n",
    "    plot = plt.hist(reduced_dimension_network_array[current_df.index,0], color=comp_id_to_color[group], label=group, alpha=0.8)\n",
    "    \n",
    "plt.title(\"LDA of LFP features\", fontsize=20)\n",
    "plt.xlabel(\"LD1\", fontsize=20)\n",
    "plt.xticks(fontsize=15)\n",
    "plt.yticks(fontsize=15)\n",
    "# plt.legend()\n",
    "plt.tight_layout()\n",
    "\n",
    "os.makedirs(\"./proc/network\", exist_ok=True)\n",
    "\n",
    "plt.savefig(\"./proc/network/rf_LDA_outcome_labeled.png\")\n",
    "plt.savefig(\"./proc/network/rf_LDA_outcome_labeled.eps\")\n",
    "plt.show()"
   ]
  },
  {
   "cell_type": "code",
   "execution_count": null,
   "metadata": {},
   "outputs": [],
   "source": [
    "raise ValueError()"
   ]
  },
  {
   "cell_type": "code",
   "execution_count": null,
   "metadata": {},
   "outputs": [],
   "source": [
    "plt.figure(figsize=(5,5))\n",
    "for group in cluster_exploded_TRIALS_AND_SPECTRAL_DF[\"current_subject\"].unique():\n",
    "    current_df = cluster_exploded_TRIALS_AND_SPECTRAL_DF[cluster_exploded_TRIALS_AND_SPECTRAL_DF[\"current_subject\"] == group]\n",
    "    \n",
    "    plot = plt.scatter(reduced_dimension_network_array[current_df.index,0], reduced_dimension_network_array[current_df.index,1], label=group)\n",
    "\n",
    "    \n",
    "plt.title(\"LDA of LFP features\", fontsize=20)\n",
    "plt.xlabel(\"LD1\", fontsize=20)\n",
    "plt.ylabel(\"LD2\", fontsize=20)\n",
    "plt.xticks(fontsize=15)\n",
    "plt.yticks(fontsize=15)\n",
    "plt.legend()\n",
    "plt.tight_layout()\n",
    "plt.savefig(\"./proc/network/rf_LDA_subject_labeled.png\")\n",
    "plt.savefig(\"./proc/network/rf_LDA_subject_labeled.eps\")\n",
    "plt.show()"
   ]
  },
  {
   "cell_type": "code",
   "execution_count": null,
   "metadata": {},
   "outputs": [],
   "source": [
    "# Get the coefficients (loadings) of each feature\n",
    "loadings = lda.scalings_\n",
    "\n",
    "# Calculate importance for each feature for each discriminant\n",
    "# The importance is calculated as the square of each coefficient\n",
    "importance = np.square(loadings)\n",
    "\n"
   ]
  },
  {
   "cell_type": "code",
   "execution_count": null,
   "metadata": {},
   "outputs": [],
   "source": [
    "lda_importance = pd.DataFrame(importance)\n",
    "lda_importance[\"feature\"] = feature_columns"
   ]
  },
  {
   "cell_type": "code",
   "execution_count": null,
   "metadata": {},
   "outputs": [],
   "source": [
    "important_features = []"
   ]
  },
  {
   "cell_type": "code",
   "execution_count": null,
   "metadata": {},
   "outputs": [],
   "source": [
    "lda_importance.sort_values(0, ascending=False)"
   ]
  },
  {
   "cell_type": "code",
   "execution_count": null,
   "metadata": {},
   "outputs": [],
   "source": [
    "important_features += lda_importance.sort_values(0, ascending=False).head(n=4)[\"feature\"].to_list()"
   ]
  },
  {
   "cell_type": "code",
   "execution_count": null,
   "metadata": {},
   "outputs": [],
   "source": [
    "important_features += lda_importance.sort_values(1, ascending=False).head(n=4)[\"feature\"].to_list()"
   ]
  },
  {
   "cell_type": "code",
   "execution_count": null,
   "metadata": {},
   "outputs": [],
   "source": [
    "filtered_lda_importance = lda_importance[lda_importance[\"feature\"].isin(important_features)]"
   ]
  },
  {
   "cell_type": "code",
   "execution_count": null,
   "metadata": {},
   "outputs": [],
   "source": [
    "filtered_lda_importance = filtered_lda_importance.sort_values(0, ascending=False)"
   ]
  },
  {
   "cell_type": "code",
   "execution_count": null,
   "metadata": {},
   "outputs": [],
   "source": [
    "filtered_lda_importance[\"feature\"] = filtered_lda_importance[\"feature\"].apply(lambda x: x.replace(\"_band_\", \"\\n\").replace(\"_\", \" \"))"
   ]
  },
  {
   "cell_type": "code",
   "execution_count": null,
   "metadata": {},
   "outputs": [],
   "source": [
    "# Sample data\n",
    "list1 = filtered_lda_importance[0]\n",
    "list2 = filtered_lda_importance[1]\n",
    "indices = range(len(list1))\n",
    "\n",
    "# Creating the plot\n",
    "fig, ax1 = plt.subplots(figsize=(6,6))\n",
    "    # fig, ax = plt.subplots(figsize=(6,6))\n",
    "\n",
    "\n",
    "# Plotting the first list\n",
    "color1 = '#15616F'\n",
    "# FFAF00; teal #15616F\n",
    "ax1.bar(indices, list1, width=0.4, align='center', color=color1)\n",
    "# ax1.set_xlabel('Index')\n",
    "ax1.set_ylabel('LD1 Scalings', color=color1, fontsize=20)\n",
    "ax1.tick_params(axis='y', labelcolor=color1, rotation=90)\n",
    "\n",
    "# Creating a second Y-axis for the second list\n",
    "ax2 = ax1.twinx()  \n",
    "color2 = 'tab:red'\n",
    "ax2.bar([i + 0.4 for i in indices], list2, width=0.4, align='center', color=color2)\n",
    "ax2.set_ylabel('LD2 Scalings', color=color2, fontsize=20)\n",
    "ax2.tick_params(axis='y', labelcolor=color2, rotation=90)\n",
    "\n",
    "# Adjusting the X-axis to show labels correctly\n",
    "ax1.set_xticks(indices, filtered_lda_importance['feature'].values, rotation = 90, fontsize=15)\n",
    "# xticks(indices, filtered_lda_importance['feature'].values, rotation = 90)\n",
    "# plt.xticks(labels=filtered_lda_importance['feature'])\n",
    "\n",
    "plt.title('LDA feature importance', fontsize=20)\n",
    "plt.tight_layout()\n",
    "plt.savefig(\"./proc/network/lda_feature_importance.png\")\n",
    "plt.savefig(\"./proc/network/lda_feature_importance.eps\")\n",
    "\n",
    "plt.show()"
   ]
  },
  {
   "cell_type": "code",
   "execution_count": null,
   "metadata": {},
   "outputs": [],
   "source": []
  },
  {
   "cell_type": "code",
   "execution_count": null,
   "metadata": {},
   "outputs": [],
   "source": []
  },
  {
   "cell_type": "code",
   "execution_count": null,
   "metadata": {},
   "outputs": [],
   "source": [
    "raise ValueError()"
   ]
  },
  {
   "cell_type": "markdown",
   "metadata": {},
   "source": [
    "- Grouping all the rows with the same video and subject together"
   ]
  },
  {
   "cell_type": "code",
   "execution_count": null,
   "metadata": {
    "tags": []
   },
   "outputs": [],
   "source": [
    "list(TRIALS_AND_SPECTRAL_DF.columns)"
   ]
  },
  {
   "cell_type": "code",
   "execution_count": null,
   "metadata": {
    "tags": []
   },
   "outputs": [],
   "source": [
    "explode_columns"
   ]
  },
  {
   "cell_type": "code",
   "execution_count": null,
   "metadata": {
    "tags": []
   },
   "outputs": [],
   "source": [
    "other_explode_columns = [\"tone_stop_frame\",\n",
    "                         \"condition\",\n",
    "                         \"competition_closeness\",\n",
    "                         \"notes\",\n",
    "                         \"10s_before_tone_frame\",\n",
    "                         \"10s_after_tone_frame\",\n",
    "                        'cluster_index_ranges_dict',\n",
    " 'cluster_times',\n",
    " 'cluster_times_ranges_dict',\n",
    " 'cluster_timestamps_ranges_dict',\n",
    " 'trial_cluster_times_ranges_dict',\n",
    " 'trial_cluster_timestamps_ranges_dict']"
   ]
  },
  {
   "cell_type": "code",
   "execution_count": null,
   "metadata": {
    "tags": []
   },
   "outputs": [],
   "source": [
    "filter_columns"
   ]
  },
  {
   "cell_type": "code",
   "execution_count": null,
   "metadata": {
    "tags": []
   },
   "outputs": [],
   "source": [
    "# Define columns to be transformed into numpy arrays\n",
    "\n",
    "\n",
    "# Define aggregation dictionary\n",
    "agg_dict = {col: list for col in explode_columns + other_explode_columns if col not in groupby_columns and col != \"tone_start_frame\"}\n",
    "\n",
    "agg_dict.update({col: 'first' for col in filter_columns + [\"tone_start_frame\"] if col not in groupby_columns and col not in other_explode_columns})\n",
    "\n",
    "# Apply groupby and aggregation\n",
    "video_TRIALS_AND_SPECTRAL_DF = TRIALS_AND_SPECTRAL_DF.groupby([\"video_name\", \"current_subject\"]).agg(agg_dict).reset_index()\n"
   ]
  },
  {
   "cell_type": "code",
   "execution_count": null,
   "metadata": {
    "tags": []
   },
   "outputs": [],
   "source": [
    "video_TRIALS_AND_SPECTRAL_DF.columns"
   ]
  },
  {
   "cell_type": "code",
   "execution_count": null,
   "metadata": {
    "tags": []
   },
   "outputs": [],
   "source": [
    "video_TRIALS_AND_SPECTRAL_DF.head()"
   ]
  },
  {
   "cell_type": "markdown",
   "metadata": {},
   "source": [
    "- Combining all the dictionaries together"
   ]
  },
  {
   "cell_type": "code",
   "execution_count": null,
   "metadata": {},
   "outputs": [],
   "source": []
  },
  {
   "cell_type": "code",
   "execution_count": null,
   "metadata": {
    "tags": []
   },
   "outputs": [],
   "source": [
    "for col in [_ for _ in video_TRIALS_AND_SPECTRAL_DF if \"dict\" in _]:\n",
    "    video_TRIALS_AND_SPECTRAL_DF[col] = video_TRIALS_AND_SPECTRAL_DF[col].apply(lambda x: combine_dicts(x))"
   ]
  },
  {
   "cell_type": "code",
   "execution_count": null,
   "metadata": {
    "tags": []
   },
   "outputs": [],
   "source": [
    "video_TRIALS_AND_SPECTRAL_DF.head()"
   ]
  },
  {
   "cell_type": "code",
   "execution_count": null,
   "metadata": {
    "tags": []
   },
   "outputs": [],
   "source": [
    "video_TRIALS_AND_SPECTRAL_DF.to_pickle(\"./proc/{}_cluster_ranges.pkl\".format(OUTPUT_PREFIX))"
   ]
  },
  {
   "cell_type": "code",
   "execution_count": null,
   "metadata": {},
   "outputs": [],
   "source": []
  },
  {
   "cell_type": "markdown",
   "metadata": {},
   "source": [
    "# Filtering out the SLEAP posed for during trials"
   ]
  },
  {
   "cell_type": "code",
   "execution_count": null,
   "metadata": {},
   "outputs": [],
   "source": [
    "raise ValueError()"
   ]
  },
  {
   "cell_type": "code",
   "execution_count": null,
   "metadata": {},
   "outputs": [],
   "source": [
    "TRIALS_AND_SPECTRAL_DF"
   ]
  },
  {
   "cell_type": "code",
   "execution_count": null,
   "metadata": {},
   "outputs": [],
   "source": []
  },
  {
   "cell_type": "code",
   "execution_count": null,
   "metadata": {},
   "outputs": [],
   "source": []
  },
  {
   "cell_type": "code",
   "execution_count": null,
   "metadata": {},
   "outputs": [],
   "source": []
  },
  {
   "cell_type": "code",
   "execution_count": null,
   "metadata": {},
   "outputs": [],
   "source": []
  },
  {
   "cell_type": "code",
   "execution_count": null,
   "metadata": {},
   "outputs": [],
   "source": []
  },
  {
   "cell_type": "code",
   "execution_count": null,
   "metadata": {
    "tags": []
   },
   "outputs": [],
   "source": [
    "TRIALS_AND_SPECTRAL_DF[\"video_frame\"] = TRIALS_AND_SPECTRAL_DF[\"video_timestamps\"].apply(lambda x: np.array(list(range(len(x)))) + 1)"
   ]
  },
  {
   "cell_type": "code",
   "execution_count": null,
   "metadata": {
    "tags": []
   },
   "outputs": [],
   "source": [
    "TRIALS_AND_SPECTRAL_DF[\"video_frame\"].head().apply(lambda x: x.shape)"
   ]
  },
  {
   "cell_type": "code",
   "execution_count": null,
   "metadata": {},
   "outputs": [],
   "source": [
    "['subject_thorax_to_agent_thorax',\n",
    " 'nose_to_reward_port_sum',\n",
    " 'nose_to_reward_port_diff',\n",
    " 'thorax_velocity_sum',\n",
    " 'thorax_velocity_diff',\n",
    " 'to_reward_port_angle_sum',\n",
    " 'to_reward_port_angle_diff',\n",
    " 'subject_nose_to_reward_port',\n",
    " 'subject_thorax_velocity',\n",
    " 'subject_to_reward_port_angle',\n",
    " 'agent_nose_to_reward_port',\n",
    " 'agent_thorax_velocity',\n",
    " 'agent_to_reward_port_angle',\n",
    " 'closebool_subject_nose_to_reward_port',\n",
    " 'closebool_agent_nose_to_reward_port',\n",
    " 'movingbool_subject_thorax_velocity',\n",
    " 'movingbool_agent_thorax_velocity',\n",
    " 'manual_cluster_id',\n",
    " 'standard_embedding_x',\n",
    " 'standard_embedding_y',\n",
    " 'kmeans_cluster',\n",
    " 'subject_locations',\n",
    " 'agent_locations',\n",
    " 'subject_thorax',\n",
    " 'subject_nose',\n",
    " 'subject_tail_base',\n",
    " 'agent_thorax',\n",
    " 'agent_nose',\n",
    " 'agent_tail_base']"
   ]
  },
  {
   "cell_type": "code",
   "execution_count": null,
   "metadata": {
    "tags": []
   },
   "outputs": [],
   "source": [
    "# sleap_columns = [col for col in TRIALS_AND_SPECTRAL_DF.columns if \"locations\" in col or \"velocity\" in col or \"to_reward_port\" in col or \"video_frame\" in col]"
   ]
  },
  {
   "cell_type": "code",
   "execution_count": null,
   "metadata": {
    "tags": []
   },
   "outputs": [],
   "source": [
    "sleap_columns = [col for col in TRIALS_AND_SPECTRAL_DF.columns if (\"thorax\" in col or \"nose\" in col or \"reward_port\" in col or \"standard_embedding\" in col or \"cluster\" in col or \"frame_index\" in col or \"locations\" in col or \"tailbase\" in col) and \"timestamp\" not in col]\n"
   ]
  },
  {
   "cell_type": "code",
   "execution_count": null,
   "metadata": {
    "tags": []
   },
   "outputs": [],
   "source": [
    "sleap_columns"
   ]
  },
  {
   "cell_type": "code",
   "execution_count": null,
   "metadata": {
    "tags": []
   },
   "outputs": [],
   "source": [
    "for col in sleap_columns:\n",
    "    print(col)\n",
    "    print(TRIALS_AND_SPECTRAL_DF[col].apply(lambda x: x.shape).iloc[0])"
   ]
  },
  {
   "cell_type": "code",
   "execution_count": null,
   "metadata": {
    "tags": []
   },
   "outputs": [],
   "source": [
    "for col in sorted(sleap_columns):\n",
    "    updated_item_col = \"trial_and_post_{}\".format(col)\n",
    "    print(updated_item_col)\n",
    "    updated_timestamp_col = \"trial_and_post_video_timestamps\"\n",
    "    TRIALS_AND_SPECTRAL_DF[updated_item_col] = TRIALS_AND_SPECTRAL_DF.apply(lambda x: utilities.helper.filter_by_timestamp_range(start=x[\"tone_start_timestamp\"], stop=x[\"post_trial_end_timestamp\"], timestamps=x[\"cluster_timestamp\"], items=x[col])[1], axis=1)\n",
    "\n",
    "TRIALS_AND_SPECTRAL_DF[updated_timestamp_col] = TRIALS_AND_SPECTRAL_DF.apply(lambda x: utilities.helper.filter_by_timestamp_range(start=x[\"tone_start_timestamp\"], stop=x[\"post_trial_end_timestamp\"], timestamps=x[\"cluster_timestamp\"], items=x[col])[0], axis=1)"
   ]
  },
  {
   "cell_type": "code",
   "execution_count": null,
   "metadata": {
    "tags": []
   },
   "outputs": [],
   "source": [
    "TRIALS_AND_SPECTRAL_DF.head()"
   ]
  },
  {
   "cell_type": "code",
   "execution_count": null,
   "metadata": {
    "tags": []
   },
   "outputs": [],
   "source": [
    "TRIALS_AND_SPECTRAL_DF[\"trial_and_post_frame_index\"].iloc[0].shape"
   ]
  },
  {
   "cell_type": "code",
   "execution_count": null,
   "metadata": {
    "tags": []
   },
   "outputs": [],
   "source": [
    "TRIALS_AND_SPECTRAL_DF = TRIALS_AND_SPECTRAL_DF.drop(columns=sleap_columns + [\"cluster_timestamp\"], errors=\"ignore\")"
   ]
  },
  {
   "cell_type": "code",
   "execution_count": null,
   "metadata": {
    "tags": []
   },
   "outputs": [],
   "source": [
    "for col in TRIALS_AND_SPECTRAL_DF.columns:\n",
    "    print(col)"
   ]
  },
  {
   "cell_type": "markdown",
   "metadata": {},
   "source": [
    "- Filtering coherence"
   ]
  },
  {
   "cell_type": "code",
   "execution_count": null,
   "metadata": {
    "tags": []
   },
   "outputs": [],
   "source": [
    "coherence_columns = [col for col in TRIALS_AND_SPECTRAL_DF.columns if \"coherence\" in col and \"timestamps\" not in col and \"calculation\" not in col]"
   ]
  },
  {
   "cell_type": "code",
   "execution_count": null,
   "metadata": {
    "tags": []
   },
   "outputs": [],
   "source": [
    "coherence_columns"
   ]
  },
  {
   "cell_type": "code",
   "execution_count": null,
   "metadata": {
    "tags": []
   },
   "outputs": [],
   "source": [
    "for col in sorted(coherence_columns):\n",
    "    updated_item_col = \"trial_and_post_{}\".format(col)\n",
    "    print(updated_item_col)\n",
    "    updated_timestamp_col = \"trial_and_post_coherence_timestamps\"\n",
    "    TRIALS_AND_SPECTRAL_DF[updated_item_col] = TRIALS_AND_SPECTRAL_DF.apply(lambda x: utilities.helper.filter_by_timestamp_range(start=x[\"tone_start_timestamp\"], stop=x[\"post_trial_end_timestamp\"], timestamps=x[\"coherence_timestamps\"], items=x[col])[1], axis=1)\n",
    "\n",
    "TRIALS_AND_SPECTRAL_DF[updated_timestamp_col] = TRIALS_AND_SPECTRAL_DF.apply(lambda x: utilities.helper.filter_by_timestamp_range(start=x[\"tone_start_timestamp\"], stop=x[\"post_trial_end_timestamp\"], timestamps=x[\"coherence_timestamps\"], items=x[col])[0], axis=1)"
   ]
  },
  {
   "cell_type": "code",
   "execution_count": null,
   "metadata": {
    "tags": []
   },
   "outputs": [],
   "source": [
    "TRIALS_AND_SPECTRAL_DF = TRIALS_AND_SPECTRAL_DF.drop(columns=coherence_columns + [\"coherence_timestamps\"], errors=\"ignore\")"
   ]
  },
  {
   "cell_type": "markdown",
   "metadata": {},
   "source": [
    "- Filtering Grangers"
   ]
  },
  {
   "cell_type": "code",
   "execution_count": null,
   "metadata": {
    "tags": []
   },
   "outputs": [],
   "source": [
    "granger_columns = [col for col in TRIALS_AND_SPECTRAL_DF.columns if \"granger\" in col and \"timestamps\" not in col and \"calculation\" not in col]"
   ]
  },
  {
   "cell_type": "code",
   "execution_count": null,
   "metadata": {
    "tags": []
   },
   "outputs": [],
   "source": [
    "granger_columns"
   ]
  },
  {
   "cell_type": "code",
   "execution_count": null,
   "metadata": {
    "tags": []
   },
   "outputs": [],
   "source": [
    "for col in sorted(granger_columns):\n",
    "    updated_item_col = \"trial_and_post_{}\".format(col)\n",
    "    print(updated_item_col)\n",
    "    updated_timestamp_col = \"trial_and_post_granger_timestamps\"\n",
    "    TRIALS_AND_SPECTRAL_DF[updated_item_col] = TRIALS_AND_SPECTRAL_DF.apply(lambda x: utilities.helper.filter_by_timestamp_range(start=x[\"tone_start_timestamp\"], stop=x[\"post_trial_end_timestamp\"], timestamps=x[\"granger_timestamps\"], items=x[col])[1], axis=1)\n",
    "\n",
    "TRIALS_AND_SPECTRAL_DF[updated_timestamp_col] = TRIALS_AND_SPECTRAL_DF.apply(lambda x: utilities.helper.filter_by_timestamp_range(start=x[\"tone_start_timestamp\"], stop=x[\"post_trial_end_timestamp\"], timestamps=x[\"granger_timestamps\"], items=x[col])[0], axis=1)"
   ]
  },
  {
   "cell_type": "code",
   "execution_count": null,
   "metadata": {
    "tags": []
   },
   "outputs": [],
   "source": [
    "TRIALS_AND_SPECTRAL_DF = TRIALS_AND_SPECTRAL_DF.drop(columns=granger_columns + [\"granger_timestamps\"], errors=\"ignore\")"
   ]
  },
  {
   "cell_type": "code",
   "execution_count": null,
   "metadata": {},
   "outputs": [],
   "source": [
    "TRIALS_AND_SPECTRAL_DF.to_pickle(os.path.join(OUTPUT_DIR, FULL_LFP_TRACES_PKL))"
   ]
  },
  {
   "cell_type": "markdown",
   "metadata": {},
   "source": [
    "- Filtering power"
   ]
  },
  {
   "cell_type": "code",
   "execution_count": null,
   "metadata": {},
   "outputs": [],
   "source": [
    "TRIALS_AND_SPECTRAL_DF.head()"
   ]
  },
  {
   "cell_type": "code",
   "execution_count": null,
   "metadata": {
    "tags": []
   },
   "outputs": [],
   "source": [
    "power_columns = [col for col in TRIALS_AND_SPECTRAL_DF.columns if \"power\" in col and \"timestamps\" not in col and \"calculation\" not in col]"
   ]
  },
  {
   "cell_type": "code",
   "execution_count": null,
   "metadata": {
    "tags": []
   },
   "outputs": [],
   "source": [
    "power_columns"
   ]
  },
  {
   "cell_type": "code",
   "execution_count": null,
   "metadata": {
    "tags": []
   },
   "outputs": [],
   "source": [
    "for col in sorted(power_columns):\n",
    "    updated_item_col = \"trial_and_post_{}\".format(col)\n",
    "    print(updated_item_col)\n",
    "    updated_timestamp_col = \"trial_and_post_power_timestamps\"\n",
    "    TRIALS_AND_SPECTRAL_DF[updated_item_col] = TRIALS_AND_SPECTRAL_DF.apply(lambda x: utilities.helper.filter_by_timestamp_range(start=x[\"tone_start_timestamp\"], stop=x[\"post_trial_end_timestamp\"], timestamps=x[\"power_timestamps\"], items=x[col])[1], axis=1)\n",
    "\n",
    "TRIALS_AND_SPECTRAL_DF[updated_timestamp_col] = TRIALS_AND_SPECTRAL_DF.apply(lambda x: utilities.helper.filter_by_timestamp_range(start=x[\"tone_start_timestamp\"], stop=x[\"post_trial_end_timestamp\"], timestamps=x[\"power_timestamps\"], items=x[col])[0], axis=1)\n"
   ]
  },
  {
   "cell_type": "code",
   "execution_count": null,
   "metadata": {
    "tags": []
   },
   "outputs": [],
   "source": [
    "TRIALS_AND_SPECTRAL_DF = TRIALS_AND_SPECTRAL_DF.drop(columns=power_columns + [\"power_timestamps\"], errors=\"ignore\")"
   ]
  },
  {
   "cell_type": "code",
   "execution_count": null,
   "metadata": {
    "tags": []
   },
   "outputs": [],
   "source": [
    "for col in TRIALS_AND_SPECTRAL_DF:\n",
    "    print(col)"
   ]
  },
  {
   "cell_type": "markdown",
   "metadata": {
    "tags": []
   },
   "source": [
    "# Filtering out phase"
   ]
  },
  {
   "cell_type": "code",
   "execution_count": null,
   "metadata": {
    "tags": []
   },
   "outputs": [],
   "source": [
    "lfp_columns = [col for col in TRIALS_AND_SPECTRAL_DF.columns if \"trace\" in col and \"timestamps\" not in col and \"calculation\" not in col]"
   ]
  },
  {
   "cell_type": "code",
   "execution_count": null,
   "metadata": {
    "tags": []
   },
   "outputs": [],
   "source": [
    "band_columns = [col for col in TRIALS_AND_SPECTRAL_DF.columns if \"band\" in col and \"timestamps\" not in col and \"calculation\" not in col]"
   ]
  },
  {
   "cell_type": "code",
   "execution_count": null,
   "metadata": {
    "tags": []
   },
   "outputs": [],
   "source": [
    "phase_columns = [col for col in TRIALS_AND_SPECTRAL_DF.columns if \"phase\" in col and \"timestamps\" not in col and \"calculation\" not in col]"
   ]
  },
  {
   "cell_type": "code",
   "execution_count": null,
   "metadata": {
    "tags": []
   },
   "outputs": [],
   "source": [
    "phase_columns = phase_columns + band_columns +lfp_columns"
   ]
  },
  {
   "cell_type": "code",
   "execution_count": null,
   "metadata": {
    "tags": []
   },
   "outputs": [],
   "source": [
    "phase_columns"
   ]
  },
  {
   "cell_type": "code",
   "execution_count": null,
   "metadata": {
    "tags": []
   },
   "outputs": [],
   "source": [
    "for col in sorted(phase_columns):\n",
    "    updated_item_col = \"trial_and_post_{}\".format(col)\n",
    "    print(updated_item_col)\n",
    "    updated_timestamp_col = \"trial_and_post_lfp_timestamps\"\n",
    "    TRIALS_AND_SPECTRAL_DF[updated_item_col] = TRIALS_AND_SPECTRAL_DF.apply(lambda x: utilities.helper.filter_by_timestamp_range(start=x[\"tone_start_timestamp\"], stop=x[\"post_trial_end_timestamp\"], timestamps=x[\"lfp_timestamps\"], items=x[col])[1], axis=1)\n",
    "\n",
    "TRIALS_AND_SPECTRAL_DF[updated_timestamp_col] = TRIALS_AND_SPECTRAL_DF.apply(lambda x: utilities.helper.filter_by_timestamp_range(start=x[\"tone_start_timestamp\"], stop=x[\"post_trial_end_timestamp\"], timestamps=x[\"lfp_timestamps\"], items=x[col])[0], axis=1)\n"
   ]
  },
  {
   "cell_type": "code",
   "execution_count": null,
   "metadata": {
    "tags": []
   },
   "outputs": [],
   "source": []
  },
  {
   "cell_type": "code",
   "execution_count": null,
   "metadata": {
    "tags": []
   },
   "outputs": [],
   "source": [
    "TRIALS_AND_SPECTRAL_DF[\"trial_and_post_lfp_timestamps\"]"
   ]
  },
  {
   "cell_type": "code",
   "execution_count": null,
   "metadata": {
    "tags": []
   },
   "outputs": [],
   "source": [
    "TRIALS_AND_SPECTRAL_DF = TRIALS_AND_SPECTRAL_DF.drop(columns=phase_columns + [\"lfp_timestamps\"], errors=\"ignore\")"
   ]
  },
  {
   "cell_type": "code",
   "execution_count": null,
   "metadata": {
    "tags": []
   },
   "outputs": [],
   "source": [
    "TRIALS_AND_SPECTRAL_DF.to_pickle(os.path.join(OUTPUT_DIR, FULL_LFP_TRACES_PKL))"
   ]
  },
  {
   "cell_type": "code",
   "execution_count": null,
   "metadata": {
    "tags": []
   },
   "outputs": [],
   "source": [
    "for col in TRIALS_AND_SPECTRAL_DF:\n",
    "    print(col)"
   ]
  },
  {
   "cell_type": "code",
   "execution_count": null,
   "metadata": {
    "tags": []
   },
   "outputs": [],
   "source": [
    "TRIALS_AND_SPECTRAL_DF[\"trial_and_post_kmeans_cluster\"].iloc[0].shape"
   ]
  },
  {
   "cell_type": "code",
   "execution_count": null,
   "metadata": {},
   "outputs": [],
   "source": [
    "raise ValueError()"
   ]
  },
  {
   "cell_type": "markdown",
   "metadata": {},
   "source": [
    "# Filtering for rows that are in the video"
   ]
  },
  {
   "cell_type": "code",
   "execution_count": null,
   "metadata": {
    "tags": []
   },
   "outputs": [],
   "source": [
    "TRIALS_AND_SPECTRAL_DF[\"in_video\"] = TRIALS_AND_SPECTRAL_DF.apply(lambda x: x[\"start_frame\"] <= x[\"trial_video_frame\"][0] <= x[\"stop_frame\"], axis=1)"
   ]
  },
  {
   "cell_type": "code",
   "execution_count": null,
   "metadata": {
    "tags": []
   },
   "outputs": [],
   "source": [
    "TRIALS_AND_SPECTRAL_DF = TRIALS_AND_SPECTRAL_DF[TRIALS_AND_SPECTRAL_DF[\"in_video\"]].reset_index()"
   ]
  },
  {
   "cell_type": "code",
   "execution_count": null,
   "metadata": {
    "tags": []
   },
   "outputs": [],
   "source": [
    "TRIALS_AND_SPECTRAL_DF"
   ]
  },
  {
   "cell_type": "code",
   "execution_count": null,
   "metadata": {
    "tags": []
   },
   "outputs": [],
   "source": [
    "TRIALS_AND_SPECTRAL_DF.to_pickle(os.path.join(OUTPUT_DIR, FULL_LFP_TRACES_PKL))"
   ]
  },
  {
   "cell_type": "code",
   "execution_count": null,
   "metadata": {},
   "outputs": [],
   "source": [
    "raise ValueError()"
   ]
  },
  {
   "cell_type": "markdown",
   "metadata": {},
   "source": [
    "# Filtering out spikes"
   ]
  },
  {
   "cell_type": "code",
   "execution_count": null,
   "metadata": {
    "tags": []
   },
   "outputs": [],
   "source": [
    "raise ValueError()"
   ]
  },
  {
   "cell_type": "code",
   "execution_count": null,
   "metadata": {
    "tags": []
   },
   "outputs": [],
   "source": [
    "TRIALS_AND_SPECTRAL_DF[\"baseline_spike_times\"] = TRIALS_AND_SPECTRAL_DF.apply(lambda x: filter_spike_times(x[\"spike_times\"], start=x[\"tone_start_timestamp\"], stop=x[\"baseline_stop_timestamp\"]).astype(int), axis=1)\n"
   ]
  },
  {
   "cell_type": "code",
   "execution_count": null,
   "metadata": {
    "tags": []
   },
   "outputs": [],
   "source": [
    "TRIALS_AND_SPECTRAL_DF[\"trial_spike_times\"] = TRIALS_AND_SPECTRAL_DF.apply(lambda x: filter_spike_times(x[\"spike_times\"], start=x[\"tone_start_timestamp\"], stop=x[\"tone_stop_timestamp\"]).astype(int), axis=1)\n"
   ]
  },
  {
   "cell_type": "code",
   "execution_count": null,
   "metadata": {
    "tags": []
   },
   "outputs": [],
   "source": [
    "TRIALS_AND_SPECTRAL_DF[\"tone_start_timestamp\"].head()"
   ]
  },
  {
   "cell_type": "code",
   "execution_count": null,
   "metadata": {
    "tags": []
   },
   "outputs": [],
   "source": [
    "TRIALS_AND_SPECTRAL_DF[\"baseline_stop_timestamp\"].head()"
   ]
  },
  {
   "cell_type": "code",
   "execution_count": null,
   "metadata": {
    "tags": []
   },
   "outputs": [],
   "source": [
    "TRIALS_AND_SPECTRAL_DF[\"baseline_spike_times\"].iloc[0]"
   ]
  },
  {
   "cell_type": "code",
   "execution_count": null,
   "metadata": {
    "tags": []
   },
   "outputs": [],
   "source": [
    "TRIALS_AND_SPECTRAL_DF[\"baseline_neuron_average_fr\"] = TRIALS_AND_SPECTRAL_DF.apply(lambda x: utilities.helper.filter_by_timestamp_range(start=x[\"tone_start_timestamp\"], stop=x[\"baseline_stop_timestamp\"], timestamps=x[\"neuron_average_timestamps\"], items=x[\"neuron_average_fr\"].T)[1], axis=1)\n",
    "TRIALS_AND_SPECTRAL_DF[\"baseline_neuron_average_timestamp\"] = TRIALS_AND_SPECTRAL_DF.apply(lambda x: utilities.helper.filter_by_timestamp_range(start=x[\"tone_start_timestamp\"], stop=x[\"baseline_stop_timestamp\"], timestamps=x[\"neuron_average_timestamps\"], items=x[\"neuron_average_fr\"].T)[0], axis=1)"
   ]
  },
  {
   "cell_type": "code",
   "execution_count": null,
   "metadata": {
    "tags": []
   },
   "outputs": [],
   "source": [
    "TRIALS_AND_SPECTRAL_DF[\"trial_neuron_average_fr\"] = TRIALS_AND_SPECTRAL_DF.apply(lambda x: utilities.helper.filter_by_timestamp_range(start=x[\"tone_start_timestamp\"], stop=x[\"tone_stop_timestamp\"], timestamps=x[\"neuron_average_timestamps\"], items=x[\"neuron_average_fr\"].T)[1].T, axis=1)\n",
    "TRIALS_AND_SPECTRAL_DF[\"trial_neuron_average_timestamp\"] = TRIALS_AND_SPECTRAL_DF.apply(lambda x: utilities.helper.filter_by_timestamp_range(start=x[\"tone_start_timestamp\"], stop=x[\"tone_stop_timestamp\"], timestamps=x[\"neuron_average_timestamps\"], items=x[\"neuron_average_fr\"].T)[0], axis=1)"
   ]
  },
  {
   "cell_type": "code",
   "execution_count": null,
   "metadata": {
    "tags": []
   },
   "outputs": [],
   "source": [
    "TRIALS_AND_SPECTRAL_DF = TRIALS_AND_SPECTRAL_DF.drop(columns=[\"spike_clusters\", \"spike_times\", \"neuron_average_fr\", \"neuron_average_timestamps\",], errors=\"ignore\")"
   ]
  },
  {
   "cell_type": "code",
   "execution_count": null,
   "metadata": {
    "tags": []
   },
   "outputs": [],
   "source": [
    "TRIALS_AND_SPECTRAL_DF[\"trial_neuron_average_fr\"].iloc[0].shape"
   ]
  },
  {
   "cell_type": "code",
   "execution_count": null,
   "metadata": {
    "tags": []
   },
   "outputs": [],
   "source": [
    "TRIALS_AND_SPECTRAL_DF[\"trial_neuron_average_timestamp\"].iloc[0].shape"
   ]
  },
  {
   "cell_type": "markdown",
   "metadata": {},
   "source": [
    "# OLD Stuff"
   ]
  },
  {
   "cell_type": "code",
   "execution_count": null,
   "metadata": {},
   "outputs": [],
   "source": []
  },
  {
   "cell_type": "markdown",
   "metadata": {},
   "source": [
    "## Getting the ranges of each cluster"
   ]
  },
  {
   "cell_type": "markdown",
   "metadata": {},
   "source": [
    "- Getting the index range"
   ]
  },
  {
   "cell_type": "code",
   "execution_count": null,
   "metadata": {},
   "outputs": [],
   "source": [
    "list(TRIALS_AND_SPECTRAL_DF.columns)"
   ]
  },
  {
   "cell_type": "code",
   "execution_count": null,
   "metadata": {},
   "outputs": [],
   "source": [
    "TRIALS_AND_SPECTRAL_DF[\"trial_and_post_kmeans_cluster\"].iloc[0]"
   ]
  },
  {
   "cell_type": "code",
   "execution_count": null,
   "metadata": {},
   "outputs": [],
   "source": [
    "TRIALS_AND_SPECTRAL_DF[\"trial_and_post_comp_id\"] = TRIALS_AND_SPECTRAL_DF[\"trial_and_post_kmeans_cluster\"].apply(lambda x: np.vectorize(cluster_to_comp_id.get)(x.astype(str)))"
   ]
  },
  {
   "cell_type": "code",
   "execution_count": null,
   "metadata": {},
   "outputs": [],
   "source": [
    "TRIALS_AND_SPECTRAL_DF[\"trial_and_post_competitiveness\"] = TRIALS_AND_SPECTRAL_DF[\"trial_and_post_kmeans_cluster\"].apply(lambda x: np.vectorize(cluster_to_competitiveness.get)(x.astype(str)))"
   ]
  },
  {
   "cell_type": "code",
   "execution_count": null,
   "metadata": {},
   "outputs": [],
   "source": [
    "TRIALS_AND_SPECTRAL_DF[\"trial_and_post_competitiveness\"] "
   ]
  },
  {
   "cell_type": "code",
   "execution_count": null,
   "metadata": {},
   "outputs": [],
   "source": [
    "TRIALS_AND_SPECTRAL_DF[\"trial_and_post_competitiveness\"].iloc[0].shape"
   ]
  },
  {
   "cell_type": "code",
   "execution_count": null,
   "metadata": {},
   "outputs": [],
   "source": [
    "# TRIALS_AND_SPECTRAL_DF[\"cluster_index_ranges_dict\"] = TRIALS_AND_SPECTRAL_DF[\"trial_and_post_comp_id\"].apply(lambda x: find_consecutive_ranges(x, min_length=20))\n",
    "\n",
    "TRIALS_AND_SPECTRAL_DF[\"cluster_index_ranges_dict\"] = TRIALS_AND_SPECTRAL_DF[\"trial_and_post_competitiveness\"].apply(lambda x: find_consecutive_ranges(x[:200], min_length=20))\n"
   ]
  },
  {
   "cell_type": "code",
   "execution_count": null,
   "metadata": {},
   "outputs": [],
   "source": [
    "TRIALS_AND_SPECTRAL_DF[\"cluster_index_ranges_dict\"].iloc[0]"
   ]
  },
  {
   "cell_type": "code",
   "execution_count": null,
   "metadata": {},
   "outputs": [],
   "source": [
    "TRIALS_AND_SPECTRAL_DF.head()"
   ]
  },
  {
   "cell_type": "code",
   "execution_count": null,
   "metadata": {},
   "outputs": [],
   "source": [
    "TRIALS_AND_SPECTRAL_DF[\"cluster_timestamp\"] = TRIALS_AND_SPECTRAL_DF.apply(lambda x: x[\"video_timestamps\"][x[\"trial_and_post_frame_index\"]], axis=1)\n"
   ]
  },
  {
   "cell_type": "markdown",
   "metadata": {},
   "source": [
    "- Calculating the times in milliseconds of each cluster frame"
   ]
  },
  {
   "cell_type": "code",
   "execution_count": null,
   "metadata": {},
   "outputs": [],
   "source": []
  },
  {
   "cell_type": "code",
   "execution_count": null,
   "metadata": {},
   "outputs": [],
   "source": [
    "TRIALS_AND_SPECTRAL_DF[\"cluster_times\"] = TRIALS_AND_SPECTRAL_DF.apply(lambda x: (np.array(x[\"cluster_timestamp\"]) - x[\"first_timestamp\"]) // 20, axis=1)\n"
   ]
  },
  {
   "cell_type": "markdown",
   "metadata": {},
   "source": [
    "- Updating the index to use cluster times and timestamps based on video frame timestamps list"
   ]
  },
  {
   "cell_type": "code",
   "execution_count": null,
   "metadata": {},
   "outputs": [],
   "source": [
    "TRIALS_AND_SPECTRAL_DF[\"cluster_times_ranges_dict\"] = TRIALS_AND_SPECTRAL_DF.apply(lambda x: update_tuples_in_dict(x[\"cluster_index_ranges_dict\"], x[\"cluster_times\"]), axis=1)"
   ]
  },
  {
   "cell_type": "code",
   "execution_count": null,
   "metadata": {},
   "outputs": [],
   "source": [
    "TRIALS_AND_SPECTRAL_DF[\"cluster_timestamps_ranges_dict\"] = TRIALS_AND_SPECTRAL_DF.apply(lambda x: update_tuples_in_dict(x[\"cluster_index_ranges_dict\"], x[\"cluster_timestamp\"]), axis=1)"
   ]
  },
  {
   "cell_type": "markdown",
   "metadata": {},
   "source": [
    "- Combining the win and loss label with the cluster"
   ]
  },
  {
   "cell_type": "code",
   "execution_count": null,
   "metadata": {},
   "outputs": [],
   "source": [
    "TRIALS_AND_SPECTRAL_DF[\"trial_cluster_times_ranges_dict\"] = TRIALS_AND_SPECTRAL_DF.apply(lambda x: {\"{}_{}\".format(x[\"trial_label\"], k): v for k, v in x[\"cluster_times_ranges_dict\"].items()}, axis=1)\n"
   ]
  },
  {
   "cell_type": "code",
   "execution_count": null,
   "metadata": {},
   "outputs": [],
   "source": [
    "TRIALS_AND_SPECTRAL_DF[\"trial_cluster_timestamps_ranges_dict\"] = TRIALS_AND_SPECTRAL_DF.apply(lambda x: {\"{}_{}\".format(x[\"trial_label\"], k): v for k, v in x[\"cluster_timestamps_ranges_dict\"].items()}, axis=1)\n"
   ]
  },
  {
   "cell_type": "code",
   "execution_count": null,
   "metadata": {},
   "outputs": [],
   "source": [
    "TRIALS_AND_SPECTRAL_DF[\"trial_cluster_timestamps_ranges_dict\"].iloc[0]"
   ]
  },
  {
   "cell_type": "code",
   "execution_count": null,
   "metadata": {},
   "outputs": [],
   "source": []
  },
  {
   "cell_type": "code",
   "execution_count": null,
   "metadata": {},
   "outputs": [],
   "source": [
    "TRIALS_AND_SPECTRAL_DF.columns"
   ]
  },
  {
   "cell_type": "code",
   "execution_count": null,
   "metadata": {},
   "outputs": [],
   "source": [
    "TRIALS_AND_SPECTRAL_DF[\"trial_and_post_coherence_timestamps\"].iloc[0]"
   ]
  }
 ],
 "metadata": {
  "deepnote": {},
  "deepnote_execution_queue": [],
  "deepnote_notebook_id": "cf8fe3695d074ee7887fdf6459cbf5ce",
  "kernelspec": {
   "display_name": "mountainsort_0_5_6",
   "language": "python",
   "name": "python3"
  },
  "language_info": {
   "codemirror_mode": {
    "name": "ipython",
    "version": 3
   },
   "file_extension": ".py",
   "mimetype": "text/x-python",
   "name": "python",
   "nbconvert_exporter": "python",
   "pygments_lexer": "ipython3",
   "version": "3.10.14"
  }
 },
 "nbformat": 4,
 "nbformat_minor": 4
}
