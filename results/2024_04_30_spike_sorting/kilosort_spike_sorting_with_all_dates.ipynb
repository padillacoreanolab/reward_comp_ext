{
 "cells": [
  {
   "cell_type": "code",
   "execution_count": 1,
   "metadata": {},
   "outputs": [],
   "source": [
    "%matplotlib inline"
   ]
  },
  {
   "cell_type": "markdown",
   "metadata": {},
   "source": [
    "# Preprocessing and Spike Sorting Tutorial"
   ]
  },
  {
   "cell_type": "markdown",
   "metadata": {},
   "source": [
    "- In this introductory example, you will see how to use the :code:`spikeinterface` to perform a full electrophysiology analysis.\n",
    "- We will first create some simulated data, and we will then perform some pre-processing, run a couple of spike sorting algorithms, inspect and validate the results, export to Phy, and compare spike sorters.\n"
   ]
  },
  {
   "cell_type": "code",
   "execution_count": 2,
   "metadata": {},
   "outputs": [
    {
     "name": "stderr",
     "output_type": "stream",
     "text": [
      "/tmp/ipykernel_56068/868811323.py:6: DeprecationWarning: the imp module is deprecated in favour of importlib; see the module's documentation for alternative uses\n",
      "  import imp\n"
     ]
    }
   ],
   "source": [
    "import os\n",
    "import pickle\n",
    "import _pickle as cPickle\n",
    "import glob\n",
    "import warnings\n",
    "import imp\n",
    "import shutil"
   ]
  },
  {
   "cell_type": "code",
   "execution_count": 3,
   "metadata": {},
   "outputs": [],
   "source": [
    "from collections import defaultdict\n",
    "import time\n",
    "import json\n",
    "from datetime import datetime"
   ]
  },
  {
   "cell_type": "code",
   "execution_count": 4,
   "metadata": {},
   "outputs": [],
   "source": [
    "import matplotlib.pyplot as plt\n",
    "from matplotlib.pyplot import cm\n",
    "import numpy as np\n",
    "import pandas as pd\n",
    "import scipy.signal"
   ]
  },
  {
   "cell_type": "code",
   "execution_count": 5,
   "metadata": {},
   "outputs": [
    {
     "data": {
      "text/plain": [
       "<Figure size 640x480 with 0 Axes>"
      ]
     },
     "execution_count": 5,
     "metadata": {},
     "output_type": "execute_result"
    },
    {
     "data": {
      "text/plain": [
       "<Figure size 640x480 with 0 Axes>"
      ]
     },
     "metadata": {},
     "output_type": "display_data"
    }
   ],
   "source": [
    "# Changing the figure size\n",
    "from matplotlib.pyplot import figure\n",
    "figure(figsize=(8, 6), dpi=80)"
   ]
  },
  {
   "cell_type": "markdown",
   "metadata": {},
   "source": [
    "The spikeinterface module by itself import only the spikeinterface.core submodule\n",
    "which is not useful for end user\n",
    "\n"
   ]
  },
  {
   "cell_type": "code",
   "execution_count": 6,
   "metadata": {},
   "outputs": [],
   "source": [
    "import spikeinterface"
   ]
  },
  {
   "cell_type": "markdown",
   "metadata": {},
   "source": [
    "We need to import one by one different submodules separately (preferred).\n",
    "There are 5 modules:\n",
    "\n",
    "- :code:`extractors` : file IO\n",
    "- :code:`toolkit` : processing toolkit for pre-, post-processing, validation, and automatic curation\n",
    "- :code:`sorters` : Python wrappers of spike sorters\n",
    "- :code:`comparison` : comparison of spike sorting output\n",
    "- :code:`widgets` : visualization\n",
    "\n"
   ]
  },
  {
   "cell_type": "code",
   "execution_count": 7,
   "metadata": {},
   "outputs": [],
   "source": [
    "import spikeinterface as si  # import core only\n",
    "import spikeinterface.extractors as se\n",
    "import spikeinterface.sorters as ss\n",
    "import spikeinterface.preprocessing as sp\n",
    "\n",
    "import spikeinterface.comparison as sc\n",
    "import spikeinterface.widgets as sw\n",
    "from spikeinterface.exporters import export_to_phy"
   ]
  },
  {
   "cell_type": "code",
   "execution_count": 8,
   "metadata": {},
   "outputs": [],
   "source": [
    "import spikeinterface.core"
   ]
  },
  {
   "cell_type": "code",
   "execution_count": 9,
   "metadata": {},
   "outputs": [],
   "source": [
    "from probeinterface import get_probe\n",
    "from probeinterface.plotting import plot_probe, plot_probe_group\n",
    "from probeinterface import write_prb, read_prb"
   ]
  },
  {
   "cell_type": "code",
   "execution_count": 10,
   "metadata": {},
   "outputs": [],
   "source": [
    "# import mountainsort5 as ms5"
   ]
  },
  {
   "cell_type": "code",
   "execution_count": 11,
   "metadata": {},
   "outputs": [],
   "source": [
    "# from tempfile import TemporaryDirectory\n",
    "# from mountainsort5.util import create_cached_recording"
   ]
  },
  {
   "cell_type": "markdown",
   "metadata": {},
   "source": [
    "We can also import all submodules at once with this\n",
    "  this internally import core+extractors+toolkit+sorters+comparison+widgets+exporters\n",
    "\n",
    "This is useful for notebooks but this is a more heavy import because internally many more dependency\n",
    "are imported (scipy/sklearn/networkx/matplotlib/h5py...)\n",
    "\n"
   ]
  },
  {
   "cell_type": "code",
   "execution_count": 12,
   "metadata": {},
   "outputs": [],
   "source": [
    "import spikeinterface.full as si"
   ]
  },
  {
   "cell_type": "code",
   "execution_count": 13,
   "metadata": {},
   "outputs": [],
   "source": [
    "# Increase size of plot in jupyter\n",
    "\n",
    "plt.rcParams[\"figure.figsize\"] = (10,6)"
   ]
  },
  {
   "cell_type": "markdown",
   "metadata": {},
   "source": [
    "# Part 0: Loading in the Probe"
   ]
  },
  {
   "cell_type": "markdown",
   "metadata": {},
   "source": [
    "- Reading in the probe information into Spike interface and plotting the probe"
   ]
  },
  {
   "cell_type": "code",
   "execution_count": 14,
   "metadata": {},
   "outputs": [],
   "source": [
    "probe_object = read_prb(\"./linear_probe_with_large_spaces.prb\")"
   ]
  },
  {
   "cell_type": "code",
   "execution_count": 15,
   "metadata": {},
   "outputs": [
    {
     "data": {
      "text/html": [
       "<div>\n",
       "<style scoped>\n",
       "    .dataframe tbody tr th:only-of-type {\n",
       "        vertical-align: middle;\n",
       "    }\n",
       "\n",
       "    .dataframe tbody tr th {\n",
       "        vertical-align: top;\n",
       "    }\n",
       "\n",
       "    .dataframe thead th {\n",
       "        text-align: right;\n",
       "    }\n",
       "</style>\n",
       "<table border=\"1\" class=\"dataframe\">\n",
       "  <thead>\n",
       "    <tr style=\"text-align: right;\">\n",
       "      <th></th>\n",
       "      <th>probe_index</th>\n",
       "      <th>x</th>\n",
       "      <th>y</th>\n",
       "      <th>contact_shapes</th>\n",
       "      <th>radius</th>\n",
       "      <th>shank_ids</th>\n",
       "      <th>contact_ids</th>\n",
       "    </tr>\n",
       "  </thead>\n",
       "  <tbody>\n",
       "    <tr>\n",
       "      <th>0</th>\n",
       "      <td>0</td>\n",
       "      <td>0.0</td>\n",
       "      <td>0.0</td>\n",
       "      <td>circle</td>\n",
       "      <td>5.0</td>\n",
       "      <td></td>\n",
       "      <td></td>\n",
       "    </tr>\n",
       "    <tr>\n",
       "      <th>1</th>\n",
       "      <td>0</td>\n",
       "      <td>5.0</td>\n",
       "      <td>20.0</td>\n",
       "      <td>circle</td>\n",
       "      <td>5.0</td>\n",
       "      <td></td>\n",
       "      <td></td>\n",
       "    </tr>\n",
       "    <tr>\n",
       "      <th>2</th>\n",
       "      <td>0</td>\n",
       "      <td>-7.0</td>\n",
       "      <td>40.0</td>\n",
       "      <td>circle</td>\n",
       "      <td>5.0</td>\n",
       "      <td></td>\n",
       "      <td></td>\n",
       "    </tr>\n",
       "    <tr>\n",
       "      <th>3</th>\n",
       "      <td>0</td>\n",
       "      <td>9.0</td>\n",
       "      <td>60.0</td>\n",
       "      <td>circle</td>\n",
       "      <td>5.0</td>\n",
       "      <td></td>\n",
       "      <td></td>\n",
       "    </tr>\n",
       "    <tr>\n",
       "      <th>4</th>\n",
       "      <td>0</td>\n",
       "      <td>-11.0</td>\n",
       "      <td>80.0</td>\n",
       "      <td>circle</td>\n",
       "      <td>5.0</td>\n",
       "      <td></td>\n",
       "      <td></td>\n",
       "    </tr>\n",
       "    <tr>\n",
       "      <th>5</th>\n",
       "      <td>0</td>\n",
       "      <td>13.0</td>\n",
       "      <td>100.0</td>\n",
       "      <td>circle</td>\n",
       "      <td>5.0</td>\n",
       "      <td></td>\n",
       "      <td></td>\n",
       "    </tr>\n",
       "    <tr>\n",
       "      <th>6</th>\n",
       "      <td>0</td>\n",
       "      <td>-15.0</td>\n",
       "      <td>120.0</td>\n",
       "      <td>circle</td>\n",
       "      <td>5.0</td>\n",
       "      <td></td>\n",
       "      <td></td>\n",
       "    </tr>\n",
       "    <tr>\n",
       "      <th>7</th>\n",
       "      <td>0</td>\n",
       "      <td>17.0</td>\n",
       "      <td>140.0</td>\n",
       "      <td>circle</td>\n",
       "      <td>5.0</td>\n",
       "      <td></td>\n",
       "      <td></td>\n",
       "    </tr>\n",
       "    <tr>\n",
       "      <th>8</th>\n",
       "      <td>0</td>\n",
       "      <td>-19.0</td>\n",
       "      <td>160.0</td>\n",
       "      <td>circle</td>\n",
       "      <td>5.0</td>\n",
       "      <td></td>\n",
       "      <td></td>\n",
       "    </tr>\n",
       "    <tr>\n",
       "      <th>9</th>\n",
       "      <td>0</td>\n",
       "      <td>21.0</td>\n",
       "      <td>180.0</td>\n",
       "      <td>circle</td>\n",
       "      <td>5.0</td>\n",
       "      <td></td>\n",
       "      <td></td>\n",
       "    </tr>\n",
       "    <tr>\n",
       "      <th>10</th>\n",
       "      <td>0</td>\n",
       "      <td>-23.0</td>\n",
       "      <td>200.0</td>\n",
       "      <td>circle</td>\n",
       "      <td>5.0</td>\n",
       "      <td></td>\n",
       "      <td></td>\n",
       "    </tr>\n",
       "    <tr>\n",
       "      <th>11</th>\n",
       "      <td>0</td>\n",
       "      <td>25.0</td>\n",
       "      <td>220.0</td>\n",
       "      <td>circle</td>\n",
       "      <td>5.0</td>\n",
       "      <td></td>\n",
       "      <td></td>\n",
       "    </tr>\n",
       "    <tr>\n",
       "      <th>12</th>\n",
       "      <td>0</td>\n",
       "      <td>-27.0</td>\n",
       "      <td>240.0</td>\n",
       "      <td>circle</td>\n",
       "      <td>5.0</td>\n",
       "      <td></td>\n",
       "      <td></td>\n",
       "    </tr>\n",
       "    <tr>\n",
       "      <th>13</th>\n",
       "      <td>0</td>\n",
       "      <td>29.0</td>\n",
       "      <td>260.0</td>\n",
       "      <td>circle</td>\n",
       "      <td>5.0</td>\n",
       "      <td></td>\n",
       "      <td></td>\n",
       "    </tr>\n",
       "    <tr>\n",
       "      <th>14</th>\n",
       "      <td>0</td>\n",
       "      <td>-31.0</td>\n",
       "      <td>280.0</td>\n",
       "      <td>circle</td>\n",
       "      <td>5.0</td>\n",
       "      <td></td>\n",
       "      <td></td>\n",
       "    </tr>\n",
       "    <tr>\n",
       "      <th>15</th>\n",
       "      <td>0</td>\n",
       "      <td>33.0</td>\n",
       "      <td>300.0</td>\n",
       "      <td>circle</td>\n",
       "      <td>5.0</td>\n",
       "      <td></td>\n",
       "      <td></td>\n",
       "    </tr>\n",
       "    <tr>\n",
       "      <th>16</th>\n",
       "      <td>0</td>\n",
       "      <td>-35.0</td>\n",
       "      <td>320.0</td>\n",
       "      <td>circle</td>\n",
       "      <td>5.0</td>\n",
       "      <td></td>\n",
       "      <td></td>\n",
       "    </tr>\n",
       "    <tr>\n",
       "      <th>17</th>\n",
       "      <td>0</td>\n",
       "      <td>37.0</td>\n",
       "      <td>340.0</td>\n",
       "      <td>circle</td>\n",
       "      <td>5.0</td>\n",
       "      <td></td>\n",
       "      <td></td>\n",
       "    </tr>\n",
       "    <tr>\n",
       "      <th>18</th>\n",
       "      <td>0</td>\n",
       "      <td>-39.0</td>\n",
       "      <td>360.0</td>\n",
       "      <td>circle</td>\n",
       "      <td>5.0</td>\n",
       "      <td></td>\n",
       "      <td></td>\n",
       "    </tr>\n",
       "    <tr>\n",
       "      <th>19</th>\n",
       "      <td>0</td>\n",
       "      <td>41.0</td>\n",
       "      <td>380.0</td>\n",
       "      <td>circle</td>\n",
       "      <td>5.0</td>\n",
       "      <td></td>\n",
       "      <td></td>\n",
       "    </tr>\n",
       "    <tr>\n",
       "      <th>20</th>\n",
       "      <td>0</td>\n",
       "      <td>-43.0</td>\n",
       "      <td>400.0</td>\n",
       "      <td>circle</td>\n",
       "      <td>5.0</td>\n",
       "      <td></td>\n",
       "      <td></td>\n",
       "    </tr>\n",
       "    <tr>\n",
       "      <th>21</th>\n",
       "      <td>0</td>\n",
       "      <td>45.0</td>\n",
       "      <td>420.0</td>\n",
       "      <td>circle</td>\n",
       "      <td>5.0</td>\n",
       "      <td></td>\n",
       "      <td></td>\n",
       "    </tr>\n",
       "    <tr>\n",
       "      <th>22</th>\n",
       "      <td>0</td>\n",
       "      <td>-47.0</td>\n",
       "      <td>440.0</td>\n",
       "      <td>circle</td>\n",
       "      <td>5.0</td>\n",
       "      <td></td>\n",
       "      <td></td>\n",
       "    </tr>\n",
       "    <tr>\n",
       "      <th>23</th>\n",
       "      <td>0</td>\n",
       "      <td>49.0</td>\n",
       "      <td>460.0</td>\n",
       "      <td>circle</td>\n",
       "      <td>5.0</td>\n",
       "      <td></td>\n",
       "      <td></td>\n",
       "    </tr>\n",
       "    <tr>\n",
       "      <th>24</th>\n",
       "      <td>0</td>\n",
       "      <td>-51.0</td>\n",
       "      <td>480.0</td>\n",
       "      <td>circle</td>\n",
       "      <td>5.0</td>\n",
       "      <td></td>\n",
       "      <td></td>\n",
       "    </tr>\n",
       "    <tr>\n",
       "      <th>25</th>\n",
       "      <td>0</td>\n",
       "      <td>53.0</td>\n",
       "      <td>500.0</td>\n",
       "      <td>circle</td>\n",
       "      <td>5.0</td>\n",
       "      <td></td>\n",
       "      <td></td>\n",
       "    </tr>\n",
       "    <tr>\n",
       "      <th>26</th>\n",
       "      <td>0</td>\n",
       "      <td>-55.0</td>\n",
       "      <td>520.0</td>\n",
       "      <td>circle</td>\n",
       "      <td>5.0</td>\n",
       "      <td></td>\n",
       "      <td></td>\n",
       "    </tr>\n",
       "    <tr>\n",
       "      <th>27</th>\n",
       "      <td>0</td>\n",
       "      <td>57.0</td>\n",
       "      <td>540.0</td>\n",
       "      <td>circle</td>\n",
       "      <td>5.0</td>\n",
       "      <td></td>\n",
       "      <td></td>\n",
       "    </tr>\n",
       "    <tr>\n",
       "      <th>28</th>\n",
       "      <td>0</td>\n",
       "      <td>-59.0</td>\n",
       "      <td>560.0</td>\n",
       "      <td>circle</td>\n",
       "      <td>5.0</td>\n",
       "      <td></td>\n",
       "      <td></td>\n",
       "    </tr>\n",
       "    <tr>\n",
       "      <th>29</th>\n",
       "      <td>0</td>\n",
       "      <td>61.0</td>\n",
       "      <td>580.0</td>\n",
       "      <td>circle</td>\n",
       "      <td>5.0</td>\n",
       "      <td></td>\n",
       "      <td></td>\n",
       "    </tr>\n",
       "    <tr>\n",
       "      <th>30</th>\n",
       "      <td>0</td>\n",
       "      <td>-63.0</td>\n",
       "      <td>600.0</td>\n",
       "      <td>circle</td>\n",
       "      <td>5.0</td>\n",
       "      <td></td>\n",
       "      <td></td>\n",
       "    </tr>\n",
       "    <tr>\n",
       "      <th>31</th>\n",
       "      <td>0</td>\n",
       "      <td>65.0</td>\n",
       "      <td>620.0</td>\n",
       "      <td>circle</td>\n",
       "      <td>5.0</td>\n",
       "      <td></td>\n",
       "      <td></td>\n",
       "    </tr>\n",
       "  </tbody>\n",
       "</table>\n",
       "</div>"
      ],
      "text/plain": [
       "    probe_index     x      y contact_shapes  radius shank_ids contact_ids\n",
       "0             0   0.0    0.0         circle     5.0                      \n",
       "1             0   5.0   20.0         circle     5.0                      \n",
       "2             0  -7.0   40.0         circle     5.0                      \n",
       "3             0   9.0   60.0         circle     5.0                      \n",
       "4             0 -11.0   80.0         circle     5.0                      \n",
       "5             0  13.0  100.0         circle     5.0                      \n",
       "6             0 -15.0  120.0         circle     5.0                      \n",
       "7             0  17.0  140.0         circle     5.0                      \n",
       "8             0 -19.0  160.0         circle     5.0                      \n",
       "9             0  21.0  180.0         circle     5.0                      \n",
       "10            0 -23.0  200.0         circle     5.0                      \n",
       "11            0  25.0  220.0         circle     5.0                      \n",
       "12            0 -27.0  240.0         circle     5.0                      \n",
       "13            0  29.0  260.0         circle     5.0                      \n",
       "14            0 -31.0  280.0         circle     5.0                      \n",
       "15            0  33.0  300.0         circle     5.0                      \n",
       "16            0 -35.0  320.0         circle     5.0                      \n",
       "17            0  37.0  340.0         circle     5.0                      \n",
       "18            0 -39.0  360.0         circle     5.0                      \n",
       "19            0  41.0  380.0         circle     5.0                      \n",
       "20            0 -43.0  400.0         circle     5.0                      \n",
       "21            0  45.0  420.0         circle     5.0                      \n",
       "22            0 -47.0  440.0         circle     5.0                      \n",
       "23            0  49.0  460.0         circle     5.0                      \n",
       "24            0 -51.0  480.0         circle     5.0                      \n",
       "25            0  53.0  500.0         circle     5.0                      \n",
       "26            0 -55.0  520.0         circle     5.0                      \n",
       "27            0  57.0  540.0         circle     5.0                      \n",
       "28            0 -59.0  560.0         circle     5.0                      \n",
       "29            0  61.0  580.0         circle     5.0                      \n",
       "30            0 -63.0  600.0         circle     5.0                      \n",
       "31            0  65.0  620.0         circle     5.0                      "
      ]
     },
     "execution_count": 15,
     "metadata": {},
     "output_type": "execute_result"
    }
   ],
   "source": [
    "probe_object.to_dataframe()"
   ]
  },
  {
   "cell_type": "code",
   "execution_count": 16,
   "metadata": {},
   "outputs": [
    {
     "data": {
      "text/plain": [
       "array(['', '', '', '', '', '', '', '', '', '', '', '', '', '', '', '', '',\n",
       "       '', '', '', '', '', '', '', '', '', '', '', '', '', '', ''],\n",
       "      dtype='<U64')"
      ]
     },
     "execution_count": 16,
     "metadata": {},
     "output_type": "execute_result"
    }
   ],
   "source": [
    "probe_object.get_global_contact_ids()"
   ]
  },
  {
   "cell_type": "code",
   "execution_count": 17,
   "metadata": {},
   "outputs": [
    {
     "data": {
      "text/plain": [
       "array([(0,  0), (0,  1), (0,  2), (0,  3), (0,  4), (0,  5), (0,  6),\n",
       "       (0,  7), (0,  8), (0,  9), (0, 10), (0, 11), (0, 12), (0, 13),\n",
       "       (0, 14), (0, 15), (0, 16), (0, 17), (0, 18), (0, 19), (0, 20),\n",
       "       (0, 21), (0, 22), (0, 23), (0, 24), (0, 25), (0, 26), (0, 27),\n",
       "       (0, 28), (0, 29), (0, 30), (0, 31)],\n",
       "      dtype=[('probe_index', '<i8'), ('device_channel_indices', '<i8')])"
      ]
     },
     "execution_count": 17,
     "metadata": {},
     "output_type": "execute_result"
    }
   ],
   "source": [
    "probe_object.get_global_device_channel_indices()"
   ]
  },
  {
   "cell_type": "markdown",
   "metadata": {},
   "source": [
    "- Creating a dictionary of all the variables in the probe file"
   ]
  },
  {
   "cell_type": "code",
   "execution_count": 18,
   "metadata": {},
   "outputs": [],
   "source": [
    "if 'probe_parameters' in locals():\n",
    "    probe_dict = defaultdict(dict)\n",
    "    for attribute in dir(probe_parameters):\n",
    "        # Removing built in attributes\n",
    "        if not attribute.startswith(\"__\"): \n",
    "            probe_dict[attribute] = getattr(probe_parameters, attribute)"
   ]
  },
  {
   "cell_type": "code",
   "execution_count": 19,
   "metadata": {},
   "outputs": [],
   "source": [
    "if \"probe_dict\" in locals():\n",
    "    for key, value in probe_dict.items():\n",
    "        print(\"{}: {}\".format(key, value))"
   ]
  },
  {
   "cell_type": "code",
   "execution_count": null,
   "metadata": {},
   "outputs": [],
   "source": []
  },
  {
   "cell_type": "markdown",
   "metadata": {},
   "source": [
    "# Part 1: Importing Data"
   ]
  },
  {
   "cell_type": "markdown",
   "metadata": {},
   "source": [
    "## Loading in the Electrophysiology Recording"
   ]
  },
  {
   "cell_type": "markdown",
   "metadata": {},
   "source": [
    "- We are inputting the electrophsiology recording data with probe information. This should have been created in the prevous notebook in a directory created by Spike Interface. If you had already read in your own electrophsiology recording data with probe information with a different way, then follow these instructions.\n",
    "    - If you want to use a different directory, then you must either:\n",
    "        - Change `glob.glob({./path/to/with/*/recording_raw})` to the directory that you have the directories created from Spikeinterface. You can use a wildcard if you have multiple folders. You would replace `{./path/to/with/*/recording_raw}` with the path to either the parent directory or the actual directory containing the electrophsiology recording data read into Spikeinterface.\n",
    "        - Or change `(file_or_folder_or_dict={./path/to/recording_raw})`. You would replace `{./path/to/recording_raw}` with the path to either the parent directory or the actual directory containing the electrophsiology recording data read into Spikeinterface."
   ]
  },
  {
   "cell_type": "code",
   "execution_count": 20,
   "metadata": {},
   "outputs": [],
   "source": [
    "recording_filepath_glob = \"/scratch/back_up/reward_competition_extention/data/rce_cohort_3/*/*.rec/*merged.rec\""
   ]
  },
  {
   "cell_type": "code",
   "execution_count": 21,
   "metadata": {},
   "outputs": [],
   "source": [
    "all_recording_files = glob.glob(recording_filepath_glob, recursive=True)"
   ]
  },
  {
   "cell_type": "code",
   "execution_count": 22,
   "metadata": {},
   "outputs": [],
   "source": [
    "all_recording_files = [file_path for file_path in all_recording_files if \"copies\" not in file_path]"
   ]
  },
  {
   "cell_type": "code",
   "execution_count": 23,
   "metadata": {},
   "outputs": [
    {
     "data": {
      "text/plain": [
       "['/scratch/back_up/reward_competition_extention/data/rce_cohort_3/discriminate/20240417_150153_comp_discriminate_subj_3-3_and_3-4.rec/20240417_150153_comp_discriminate_subj_3-3_t5b5_merged.rec',\n",
       " '/scratch/back_up/reward_competition_extention/data/rce_cohort_3/discriminate/20240417_150153_comp_discriminate_subj_3-3_and_3-4.rec/20240417_150153_comp_discriminate_subj_3-4_t6b6_merged.rec',\n",
       " '/scratch/back_up/reward_competition_extention/data/rce_cohort_3/discriminate/20240413_151204_comp_discriminate_subj_3-1_and_3-3.rec/20240413_151204_comp_discriminate_subj_3-1_t5b5_merged.rec',\n",
       " '/scratch/back_up/reward_competition_extention/data/rce_cohort_3/discriminate/20240413_151204_comp_discriminate_subj_3-1_and_3-3.rec/20240413_151204_comp_discriminate_subj_3-3_t6b6_merged.rec',\n",
       " '/scratch/back_up/reward_competition_extention/data/rce_cohort_3/discriminate/20240414_154115_comp_discriminate_subj_4-2_and_4-4.rec/20240414_154115_comp_discriminate_subj_4-2_t3b3_merged.rec',\n",
       " '/scratch/back_up/reward_competition_extention/data/rce_cohort_3/discriminate/20240414_154115_comp_discriminate_subj_4-2_and_4-4.rec/20240414_154115_comp_discriminate_subj_4-4_t4b4_merged.rec',\n",
       " '/scratch/back_up/reward_competition_extention/data/rce_cohort_3/discriminate/20240415_153312_comp_discriminate_subj_3-1_and_3-4.rec/20240415_153312_comp_discriminate_subj_3-1_t3b3_merged.rec',\n",
       " '/scratch/back_up/reward_competition_extention/data/rce_cohort_3/discriminate/20240415_153312_comp_discriminate_subj_3-1_and_3-4.rec/20240415_153312_comp_discriminate_subj_3-4_t4b4_merged.rec',\n",
       " '/scratch/back_up/reward_competition_extention/data/rce_cohort_3/discriminate/20240415_165702_comp_discriminate_subj_4-3_and_4-4.rec/20240415_165702_comp_discriminate_subj_4-3_t1b1_merged.rec',\n",
       " '/scratch/back_up/reward_competition_extention/data/rce_cohort_3/discriminate/20240415_165702_comp_discriminate_subj_4-3_and_4-4.rec/20240415_165702_comp_discriminate_subj_4-4_t2b2_merged.rec',\n",
       " '/scratch/back_up/reward_competition_extention/data/rce_cohort_3/discriminate/20240415_140712_comp_discriminate_subj_5-2_and_5-3.rec/20240415_140712_comp_discriminate_subj_5-3_t6b6_merged.rec',\n",
       " '/scratch/back_up/reward_competition_extention/data/rce_cohort_3/discriminate/20240415_140712_comp_discriminate_subj_5-2_and_5-3.rec/20240415_140712_comp_discriminate_subj_5-2_t5b5_merged.rec',\n",
       " '/scratch/back_up/reward_competition_extention/data/rce_cohort_3/discriminate/20240413_163726_comp_discriminate_subj_4-2_and_4-3.rec/20240413_163726_comp_discriminate_subj_4-3_t4b4_merged.rec',\n",
       " '/scratch/back_up/reward_competition_extention/data/rce_cohort_3/discriminate/20240413_163726_comp_discriminate_subj_4-2_and_4-3.rec/20240413_163726_comp_discriminate_subj_4-2_t3b3_merged.rec',\n",
       " '/scratch/back_up/reward_competition_extention/data/rce_cohort_3/long_comp/20240321_114851_long_comp_subj_5-2_and_5-3.rec/20240321_114851_long_comp_subj_5-2_t6b6_merged.rec',\n",
       " '/scratch/back_up/reward_competition_extention/data/rce_cohort_3/long_comp/20240321_114851_long_comp_subj_5-2_and_5-3.rec/20240321_114851_long_comp_subj_5-3_t5b5_merged.rec',\n",
       " '/scratch/back_up/reward_competition_extention/data/rce_cohort_3/long_comp/20240317_172017_long_comp_subj_4-2_and_4-3.rec/20240317_172017_long_comp_subj_4-2_t6b6_merged.rec',\n",
       " '/scratch/back_up/reward_competition_extention/data/rce_cohort_3/long_comp/20240317_172017_long_comp_subj_4-2_and_4-3.rec/20240317_172017_long_comp_subj_4-3_t5b5_merged.rec',\n",
       " '/scratch/back_up/reward_competition_extention/data/rce_cohort_3/long_comp/20240317_151922_long_comp_subj_3-1_and_3-3.rec/20240317_151922_long_comp_subj_3-1_t6b6_merged.rec',\n",
       " '/scratch/back_up/reward_competition_extention/data/rce_cohort_3/long_comp/20240317_151922_long_comp_subj_3-1_and_3-3.rec/20240317_151922_long_comp_subj_3-3_t5b5_merged.rec',\n",
       " '/scratch/back_up/reward_competition_extention/data/rce_cohort_3/long_comp/20240319_160457_long_comp_subj_4-2_and_4-4.rec/20240319_160457_long_comp_subj_4-2_t5b5_merged.rec',\n",
       " '/scratch/back_up/reward_competition_extention/data/rce_cohort_3/long_comp/20240319_160457_long_comp_subj_4-2_and_4-4.rec/20240319_160457_long_comp_subj_4-4_t6b6_merged.rec',\n",
       " '/scratch/back_up/reward_competition_extention/data/rce_cohort_3/long_comp/20240319_134914_long_comp_subj_3-1_and_3-4.rec/20240319_134914_long_comp_subj_3-4_t6b6_merged.rec',\n",
       " '/scratch/back_up/reward_competition_extention/data/rce_cohort_3/long_comp/20240319_134914_long_comp_subj_3-1_and_3-4.rec/20240319_134914_long_comp_subj_3-1_t5b5_merged.rec',\n",
       " '/scratch/back_up/reward_competition_extention/data/rce_cohort_3/long_comp/20240318_143819_long_comp_subj_3-3_and_3-4.rec/20240318_143819_long_comp_subj_3-3_t6b6_merged.rec',\n",
       " '/scratch/back_up/reward_competition_extention/data/rce_cohort_3/long_comp/20240318_143819_long_comp_subj_3-3_and_3-4.rec/20240318_143819_long_comp_subj_3-4_t5b5_merged.rec',\n",
       " '/scratch/back_up/reward_competition_extention/data/rce_cohort_3/long_comp/20240320_114629_long_comp_subj_5-3_and_5-4.rec/20240320_114629_long_comp_subj_5-4_t5b5_merged.rec',\n",
       " '/scratch/back_up/reward_competition_extention/data/rce_cohort_3/long_comp/20240320_114629_long_comp_subj_5-3_and_5-4.rec/20240320_114629_long_comp_subj_5-3_t6b6_merged.rec',\n",
       " '/scratch/back_up/reward_competition_extention/data/rce_cohort_3/long_comp/20240318_170933_long_comp_subj_4-3_and_4-4.rec/20240318_170933_long_comp_subj_4-4_t5b5_merged.rec',\n",
       " '/scratch/back_up/reward_competition_extention/data/rce_cohort_3/long_comp/20240318_170933_long_comp_subj_4-3_and_4-4.rec/20240318_170933_long_comp_subj_4-3_t6b6_merged.rec',\n",
       " '/scratch/back_up/reward_competition_extention/data/rce_cohort_3/novel/20240411_155157_comp_novel_subj_3-1_and_3-4_and_4-2_and_4-4.rec/20240411_155157_comp_novel_subj_3-4_t4b4_merged.rec',\n",
       " '/scratch/back_up/reward_competition_extention/data/rce_cohort_3/novel/20240411_155157_comp_novel_subj_3-1_and_3-4_and_4-2_and_4-4.rec/20240411_155157_comp_novel_subj_3-1_t3b3_merged.rec',\n",
       " '/scratch/back_up/reward_competition_extention/data/rce_cohort_3/novel/20240411_155157_comp_novel_subj_3-1_and_3-4_and_4-2_and_4-4.rec/20240411_155157_comp_novel_subj_4-2_t6b6_merged.rec',\n",
       " '/scratch/back_up/reward_competition_extention/data/rce_cohort_3/novel/20240411_155157_comp_novel_subj_3-1_and_3-4_and_4-2_and_4-4.rec/20240411_155157_comp_novel_subj_4-4_t5b5_merged.rec',\n",
       " '/scratch/back_up/reward_competition_extention/data/rce_cohort_3/novel/20240412_161135_comp_novel_subj_4-2_and_4-4_and_5-2_and_5-3.rec/20240412_161135_comp_novel_subj_5-3_t6b6_merged.rec',\n",
       " '/scratch/back_up/reward_competition_extention/data/rce_cohort_3/novel/20240412_161135_comp_novel_subj_4-2_and_4-4_and_5-2_and_5-3.rec/20240412_161135_comp_novel_subj_4-4_t4b4_merged.rec',\n",
       " '/scratch/back_up/reward_competition_extention/data/rce_cohort_3/novel/20240412_161135_comp_novel_subj_4-2_and_4-4_and_5-2_and_5-3.rec/20240412_161135_comp_novel_subj_5-2_t5b5_merged.rec',\n",
       " '/scratch/back_up/reward_competition_extention/data/rce_cohort_3/novel/20240412_161135_comp_novel_subj_4-2_and_4-4_and_5-2_and_5-3.rec/20240412_161135_comp_novel_subj_4-2_t3b3_merged.rec',\n",
       " '/scratch/back_up/reward_competition_extention/data/rce_cohort_3/novel/20240406_150017_comp_novel_subj_4-3_and_4-4_and_5-2_and_5-3.rec/20240406_150017_comp_novel_subj_4-4_t6b6_merged.rec',\n",
       " '/scratch/back_up/reward_competition_extention/data/rce_cohort_3/novel/20240406_150017_comp_novel_subj_4-3_and_4-4_and_5-2_and_5-3.rec/20240406_150017_comp_novel_subj_5-3_t3b3_merged.rec',\n",
       " '/scratch/back_up/reward_competition_extention/data/rce_cohort_3/novel/20240406_150017_comp_novel_subj_4-3_and_4-4_and_5-2_and_5-3.rec/20240406_150017_comp_novel_subj_4-3_t5b5_merged.rec',\n",
       " '/scratch/back_up/reward_competition_extention/data/rce_cohort_3/novel/20240406_150017_comp_novel_subj_4-3_and_4-4_and_5-2_and_5-3.rec/20240406_150017_comp_novel_subj_5-2_t4b4_merged.rec',\n",
       " '/scratch/back_up/reward_competition_extention/data/rce_cohort_3/novel/20240408_155308_comp_novel_subj_3-1_and_3-4_and_5-2_and_5-3.rec/20240408_155308_comp_novel_subj_5-3_t3b3_merged.rec',\n",
       " '/scratch/back_up/reward_competition_extention/data/rce_cohort_3/novel/20240408_155308_comp_novel_subj_3-1_and_3-4_and_5-2_and_5-3.rec/20240408_155308_comp_novel_subj_3-1_t5b5_merged.rec',\n",
       " '/scratch/back_up/reward_competition_extention/data/rce_cohort_3/novel/20240408_155308_comp_novel_subj_3-1_and_3-4_and_5-2_and_5-3.rec/20240408_155308_comp_novel_subj_3-4_t6b6_merged.rec',\n",
       " '/scratch/back_up/reward_competition_extention/data/rce_cohort_3/novel/20240408_155308_comp_novel_subj_3-1_and_3-4_and_5-2_and_5-3.rec/20240408_155308_comp_novel_subj_5-2_t4b4_merged.rec',\n",
       " '/scratch/back_up/reward_competition_extention/data/rce_cohort_3/novel/20240401_151442_comp_novel_subj_3-1_and_3-3_and_4-2_and_4-4.rec/20240401_151442_comp_novel_subj_3-1_t5b5_merged.rec',\n",
       " '/scratch/back_up/reward_competition_extention/data/rce_cohort_3/novel/20240401_151442_comp_novel_subj_3-1_and_3-3_and_4-2_and_4-4.rec/20240401_151442_comp_novel_subj_3-3_t6b6_merged.rec',\n",
       " '/scratch/back_up/reward_competition_extention/data/rce_cohort_3/novel/20240401_151442_comp_novel_subj_3-1_and_3-3_and_4-2_and_4-4.rec/20240401_151442_comp_novel_subj_4-2_t3b3_merged.rec',\n",
       " '/scratch/back_up/reward_competition_extention/data/rce_cohort_3/novel/20240401_151442_comp_novel_subj_3-1_and_3-3_and_4-2_and_4-4.rec/20240401_151442_comp_novel_subj_4-4_t4b4_merged.rec',\n",
       " '/scratch/back_up/reward_competition_extention/data/rce_cohort_3/novel/20240402_145808_comp_novel_subj_3-3_and_3-4_and_5-2_and_5-3.rec/20240402_145808_comp_novel_subj_5-2_t6b6_merged.rec',\n",
       " '/scratch/back_up/reward_competition_extention/data/rce_cohort_3/novel/20240402_145808_comp_novel_subj_3-3_and_3-4_and_5-2_and_5-3.rec/20240402_145808_comp_novel_subj_3-3_t4b4_merged.rec',\n",
       " '/scratch/back_up/reward_competition_extention/data/rce_cohort_3/novel/20240402_145808_comp_novel_subj_3-3_and_3-4_and_5-2_and_5-3.rec/20240402_145808_comp_novel_subj_3-4_t3b3_merged.rec',\n",
       " '/scratch/back_up/reward_competition_extention/data/rce_cohort_3/novel/20240402_145808_comp_novel_subj_3-3_and_3-4_and_5-2_and_5-3.rec/20240402_145808_comp_novel_subj_5-3_t5b5_merged.rec',\n",
       " '/scratch/back_up/reward_competition_extention/data/rce_cohort_3/novel/20240407_152222_comp_novel_subj_3-1_and_3-3_and_4-2_and_4-3.rec/20240407_152222_comp_novel_subj_3-3_t3b3_merged.rec',\n",
       " '/scratch/back_up/reward_competition_extention/data/rce_cohort_3/novel/20240407_152222_comp_novel_subj_3-1_and_3-3_and_4-2_and_4-3.rec/20240407_152222_comp_novel_subj_3-1_t4b4_merged.rec',\n",
       " '/scratch/back_up/reward_competition_extention/data/rce_cohort_3/novel/20240407_152222_comp_novel_subj_3-1_and_3-3_and_4-2_and_4-3.rec/20240407_152222_comp_novel_subj_4-3_t6b6_merged.rec',\n",
       " '/scratch/back_up/reward_competition_extention/data/rce_cohort_3/novel/20240407_152222_comp_novel_subj_3-1_and_3-3_and_4-2_and_4-3.rec/20240407_152222_comp_novel_subj_4-2_t5b5_merged.rec',\n",
       " '/scratch/back_up/reward_competition_extention/data/rce_cohort_3/novel/20240410_152009_comp_novel_subj_4-2_and_4-3_and_5-2_and_5-3.rec/20240410_152009_comp_novel_subj_5-2_t4b4_merged.rec',\n",
       " '/scratch/back_up/reward_competition_extention/data/rce_cohort_3/novel/20240410_152009_comp_novel_subj_4-2_and_4-3_and_5-2_and_5-3.rec/20240410_152009_comp_novel_subj_4-2_t5b5_merged.rec',\n",
       " '/scratch/back_up/reward_competition_extention/data/rce_cohort_3/novel/20240410_152009_comp_novel_subj_4-2_and_4-3_and_5-2_and_5-3.rec/20240410_152009_comp_novel_subj_5-3_t3b3_merged.rec',\n",
       " '/scratch/back_up/reward_competition_extention/data/rce_cohort_3/novel/20240410_152009_comp_novel_subj_4-2_and_4-3_and_5-2_and_5-3.rec/20240410_152009_comp_novel_subj_4-3_t6b6_merged.rec',\n",
       " '/scratch/back_up/reward_competition_extention/data/rce_cohort_3/novel/20240405_162313_comp_novel_subj_3-1_and_3-4_and_4-2_and_4-3.rec/20240405_162313_comp_novel_subj_3-4_t6b6_merged.rec',\n",
       " '/scratch/back_up/reward_competition_extention/data/rce_cohort_3/novel/20240405_162313_comp_novel_subj_3-1_and_3-4_and_4-2_and_4-3.rec/20240405_162313_comp_novel_subj_4-3_t3b3_merged.rec',\n",
       " '/scratch/back_up/reward_competition_extention/data/rce_cohort_3/novel/20240405_162313_comp_novel_subj_3-1_and_3-4_and_4-2_and_4-3.rec/20240405_162313_comp_novel_subj_4-2_t4b4_merged.rec',\n",
       " '/scratch/back_up/reward_competition_extention/data/rce_cohort_3/novel/20240405_162313_comp_novel_subj_3-1_and_3-4_and_4-2_and_4-3.rec/20240405_162313_comp_novel_subj_3-1_t5b5_merged.rec',\n",
       " '/scratch/back_up/reward_competition_extention/data/rce_cohort_3/novel/20240409_142051_comp_novel_subj_3-3_and_3-4_and_4-3_and_4-4.rec/20240409_142051_comp_novel_subj_4-4_t6b6_merged.rec',\n",
       " '/scratch/back_up/reward_competition_extention/data/rce_cohort_3/novel/20240409_142051_comp_novel_subj_3-3_and_3-4_and_4-3_and_4-4.rec/20240409_142051_comp_novel_subj_3-4_t4b4_merged.rec',\n",
       " '/scratch/back_up/reward_competition_extention/data/rce_cohort_3/novel/20240409_142051_comp_novel_subj_3-3_and_3-4_and_4-3_and_4-4.rec/20240409_142051_comp_novel_subj_4-3_t5b5_merged.rec',\n",
       " '/scratch/back_up/reward_competition_extention/data/rce_cohort_3/novel/20240409_142051_comp_novel_subj_3-3_and_3-4_and_4-3_and_4-4.rec/20240409_142051_comp_novel_subj_3-3_t3b3_merged.rec',\n",
       " '/scratch/back_up/reward_competition_extention/data/rce_cohort_3/alone_comp/20240323_144517_alone_comp_subj_3-1_and_3-4.rec/20240323_144517_alone_comp_subj_3-1_t5b5_merged.rec',\n",
       " '/scratch/back_up/reward_competition_extention/data/rce_cohort_3/alone_comp/20240323_144517_alone_comp_subj_3-1_and_3-4.rec/20240323_144517_alone_comp_subj_3-4_t6b6_merged.rec',\n",
       " '/scratch/back_up/reward_competition_extention/data/rce_cohort_3/alone_comp/20240323_122227_alone_comp_subj_5-2_and_5-3.rec/20240323_122227_alone_comp_subj_5-2_t6b6_merged.rec',\n",
       " '/scratch/back_up/reward_competition_extention/data/rce_cohort_3/alone_comp/20240323_122227_alone_comp_subj_5-2_and_5-3.rec/20240323_122227_alone_comp_subj_5-3_t5b5_merged.rec',\n",
       " '/scratch/back_up/reward_competition_extention/data/rce_cohort_3/alone_comp/20240320_142408_alone_comp_subj_3-1_and_3-3.rec/20240320_142408_alone_comp_subj_3-3_t5b5_merged.rec',\n",
       " '/scratch/back_up/reward_competition_extention/data/rce_cohort_3/alone_comp/20240320_142408_alone_comp_subj_3-1_and_3-3.rec/20240320_142408_alone_comp_subj_3-1_t6b6_merged.rec',\n",
       " '/scratch/back_up/reward_competition_extention/data/rce_cohort_3/alone_comp/20240322_160946_alone_comp_subj_4-3_and_4-4.rec/20240322_160946_alone_comp_subj_4-4_t5b5_merged.rec',\n",
       " '/scratch/back_up/reward_competition_extention/data/rce_cohort_3/alone_comp/20240322_160946_alone_comp_subj_4-3_and_4-4.rec/20240322_160946_alone_comp_subj_4-3_t6b6_merged.rec',\n",
       " '/scratch/back_up/reward_competition_extention/data/rce_cohort_3/alone_comp/20240322_120625_alone_comp_subj_3-3_and_3-4.rec/20240322_120625_alone_comp_subj_3-3_t6b6_merged.rec',\n",
       " '/scratch/back_up/reward_competition_extention/data/rce_cohort_3/alone_comp/20240322_120625_alone_comp_subj_3-3_and_3-4.rec/20240322_120625_alone_comp_subj_3-4_t5b5_merged.rec',\n",
       " '/scratch/back_up/reward_competition_extention/data/rce_cohort_3/alone_comp/20240320_171038_alone_comp_subj_4-2_and_4-3.rec/20240320_171038_alone_comp_subj_4-3_t5b5_merged.rec',\n",
       " '/scratch/back_up/reward_competition_extention/data/rce_cohort_3/alone_comp/20240320_171038_alone_comp_subj_4-2_and_4-3.rec/20240320_171038_alone_comp_subj_4-2_t6b6_merged.rec',\n",
       " '/scratch/back_up/reward_competition_extention/data/rce_cohort_3/alone_comp/20240323_165815_alone_comp_subj_4-2_and_4-4.rec/20240323_165815_alone_comp_subj_4-4_t6b6_merged.rec',\n",
       " '/scratch/back_up/reward_competition_extention/data/rce_cohort_3/alone_comp/20240323_165815_alone_comp_subj_4-2_and_4-4.rec/20240323_165815_alone_comp_subj_4-2_t5b5_merged.rec',\n",
       " '/scratch/back_up/reward_competition_extention/data/rce_cohort_3/omission/20240325_125522_comp_om_subj_3-1_and_3-4.rec/20240325_125522_comp_om_subj_3-1_t6b6_merged.rec',\n",
       " '/scratch/back_up/reward_competition_extention/data/rce_cohort_3/omission/20240325_125522_comp_om_subj_3-1_and_3-4.rec/20240325_125522_comp_om_subj_3-4_t5b5_merged.rec',\n",
       " '/scratch/back_up/reward_competition_extention/data/rce_cohort_3/omission/20240318_115841_comp_om_subj_5-2_and_5-3.rec/20240318_115841_comp_om_subj_5-3_t5b5_merged.rec',\n",
       " '/scratch/back_up/reward_competition_extention/data/rce_cohort_3/omission/20240318_115841_comp_om_subj_5-2_and_5-3.rec/20240318_115841_comp_om_subj_5-2_t6b6_merged.rec',\n",
       " '/scratch/back_up/reward_competition_extention/data/rce_cohort_3/omission/20240317_105929_comp_om_subj_5-3_and_5-4.rec/20240317_105929_comp_om_subj_5-3_t6b6_merged.rec',\n",
       " '/scratch/back_up/reward_competition_extention/data/rce_cohort_3/omission/20240317_105929_comp_om_subj_5-3_and_5-4.rec/20240317_105929_comp_om_subj_5-4_t5b5_merged.rec',\n",
       " '/scratch/back_up/reward_competition_extention/data/rce_cohort_3/omission/20240227_130241_comp_om_subj_4-2_and_4-3.rec/20240227_130241_comp_om_subj_4-2_t1b1_merged.rec',\n",
       " '/scratch/back_up/reward_competition_extention/data/rce_cohort_3/omission/20240227_130241_comp_om_subj_4-2_and_4-3.rec/20240227_130241_comp_om_subj_4-3_t2b2_merged.rec',\n",
       " '/scratch/back_up/reward_competition_extention/data/rce_cohort_3/omission/20240319_111204_comp_om_subj_5-2_and_5-4.rec/20240319_111204_comp_om_subj_5-4_t5b5_merged.rec',\n",
       " '/scratch/back_up/reward_competition_extention/data/rce_cohort_3/omission/20240319_111204_comp_om_subj_5-2_and_5-4.rec/20240319_111204_comp_om_subj_5-2_t6b6_merged.rec',\n",
       " '/scratch/back_up/reward_competition_extention/data/rce_cohort_3/omission/20240325_150329_comp_om_subj_4-2_and_4-4.rec/20240325_150329_comp_om_subj_4-2_t5b5_merged.rec',\n",
       " '/scratch/back_up/reward_competition_extention/data/rce_cohort_3/omission/20240325_150329_comp_om_subj_4-2_and_4-4.rec/20240325_150329_comp_om_subj_4-4_t6b6_merged.rec',\n",
       " '/scratch/back_up/reward_competition_extention/data/rce_cohort_3/omission/20240229_152936_comp_om_subj_3-3_and_3-4.rec/20240229_152936_comp_om_subj_3-4_t1b1_merged.rec',\n",
       " '/scratch/back_up/reward_competition_extention/data/rce_cohort_3/omission/20240229_152936_comp_om_subj_3-3_and_3-4.rec/20240229_152936_comp_om_subj_3-3_t3b3_merged.rec',\n",
       " '/scratch/back_up/reward_competition_extention/data/rce_cohort_3/omission/20240228_142038_comp_om_subj_3-1_and_3-3.rec/20240228_142038_comp_om_subj_3-3_t2b2_merged.rec',\n",
       " '/scratch/back_up/reward_competition_extention/data/rce_cohort_3/omission/20240228_142038_comp_om_subj_3-1_and_3-3.rec/20240228_142038_comp_om_subj_3_1_t1b1_merged.rec',\n",
       " '/scratch/back_up/reward_competition_extention/data/rce_cohort_3/omission/20240228_154053_comp_om_subj_4-3_and_4-4.rec/20240228_154053_comp_om_subj_4-3_t3b3_merged.rec',\n",
       " '/scratch/back_up/reward_competition_extention/data/rce_cohort_3/omission/20240228_154053_comp_om_subj_4-3_and_4-4.rec/20240228_154053_comp_om_subj_4-4_t4b4_merged.rec',\n",
       " '/scratch/back_up/reward_competition_extention/data/rce_cohort_3/both_rewarded/20240330_141834_comp_both_subj_3-3_and_3-4.rec/20240330_141834_comp_both_subj_3-3_t5b5_merged.rec',\n",
       " '/scratch/back_up/reward_competition_extention/data/rce_cohort_3/both_rewarded/20240330_141834_comp_both_subj_3-3_and_3-4.rec/20240330_141834_comp_both_subj_3-4_t6b6_merged.rec',\n",
       " '/scratch/back_up/reward_competition_extention/data/rce_cohort_3/both_rewarded/20240329_160356_comp_both_subj_4_2_and_4-3.rec/20240329_160356_comp_both_subj_4-2_t4b4_merged.rec',\n",
       " '/scratch/back_up/reward_competition_extention/data/rce_cohort_3/both_rewarded/20240329_160356_comp_both_subj_4_2_and_4-3.rec/20240329_160356_comp_both_subj_4-3_t3b3_merged.rec',\n",
       " '/scratch/back_up/reward_competition_extention/data/rce_cohort_3/both_rewarded/20240327_165151_comp_both_subj_4-2_and_4-4.rec/20240327_165151_comp_both_subj_4-2_t3b3_merged.rec',\n",
       " '/scratch/back_up/reward_competition_extention/data/rce_cohort_3/both_rewarded/20240327_165151_comp_both_subj_4-2_and_4-4.rec/20240327_165151_comp_both_subj_4-4_t4b4_merged.rec',\n",
       " '/scratch/back_up/reward_competition_extention/data/rce_cohort_3/both_rewarded/20240331_164629_comp_both_subj_4-3_and_4-4.rec/20240331_164629_comp_both_subj_4-3_t4b4_merged.rec',\n",
       " '/scratch/back_up/reward_competition_extention/data/rce_cohort_3/both_rewarded/20240331_164629_comp_both_subj_4-3_and_4-4.rec/20240331_164629_comp_both_subj_4-4_t3b3_merged.rec',\n",
       " '/scratch/back_up/reward_competition_extention/data/rce_cohort_3/both_rewarded/20240331_152930_comp_both_subj_5-2_and_5-3.rec/20240331_152930_comp_both_subj_5-2_t6b6_merged.rec',\n",
       " '/scratch/back_up/reward_competition_extention/data/rce_cohort_3/both_rewarded/20240331_152930_comp_both_subj_5-2_and_5-3.rec/20240331_152930_comp_both_subj_5-3_t5b5_merged.rec',\n",
       " '/scratch/back_up/reward_competition_extention/data/rce_cohort_3/both_rewarded/20240327_153306_comp_both_subj_3-1_and_3-3.rec/20240327_153306_comp_both_subj_3-1_t1b1_merged.rec',\n",
       " '/scratch/back_up/reward_competition_extention/data/rce_cohort_3/both_rewarded/20240327_153306_comp_both_subj_3-1_and_3-3.rec/20240327_153306_comp_both_subj_3-3_t2b2_merged.rec',\n",
       " '/scratch/back_up/reward_competition_extention/data/rce_cohort_3/both_rewarded/20240329_144111_comp_both_subj_3-1_and_3-4.rec/20240329_144111_comp_both_subj_3-1_t1b1_merged.rec',\n",
       " '/scratch/back_up/reward_competition_extention/data/rce_cohort_3/both_rewarded/20240329_144111_comp_both_subj_3-1_and_3-4.rec/20240329_144111_comp_both_subj_3-4_t2b2_merged.rec',\n",
       " '/scratch/back_up/reward_competition_extention/data/rce_cohort_3/both_rewarded/20240327_141822_comp_both_subj_5-2_and_5-3.rec/20240327_141822_comp_both_subj_5-3_t6b6_merged.rec',\n",
       " '/scratch/back_up/reward_competition_extention/data/rce_cohort_3/both_rewarded/20240327_141822_comp_both_subj_5-2_and_5-3.rec/20240327_141822_comp_both_subj_5-2_t5b5_merged.rec',\n",
       " '/scratch/back_up/reward_competition_extention/data/rce_cohort_3/both_rewarded/20240330_153409_comp_both_subj_4-3_and_4-4.rec/20240330_153409_comp_both_subj_4-4_t3b3_merged.rec',\n",
       " '/scratch/back_up/reward_competition_extention/data/rce_cohort_3/both_rewarded/20240330_153409_comp_both_subj_4-3_and_4-4.rec/20240330_153409_comp_both_subj_4-3_t4b4_merged.rec']"
      ]
     },
     "execution_count": 23,
     "metadata": {},
     "output_type": "execute_result"
    }
   ],
   "source": [
    "all_recording_files"
   ]
  },
  {
   "cell_type": "markdown",
   "metadata": {},
   "source": [
    "# Part 2: Sorting"
   ]
  },
  {
   "cell_type": "code",
   "execution_count": 24,
   "metadata": {},
   "outputs": [
    {
     "data": {
      "text/plain": [
       "{'batch_size': 60000,\n",
       " 'nblocks': 1,\n",
       " 'Th_universal': 9,\n",
       " 'Th_learned': 8,\n",
       " 'do_CAR': True,\n",
       " 'invert_sign': False,\n",
       " 'nt': 61,\n",
       " 'artifact_threshold': None,\n",
       " 'nskip': 25,\n",
       " 'whitening_range': 32,\n",
       " 'binning_depth': 5,\n",
       " 'sig_interp': 20,\n",
       " 'nt0min': None,\n",
       " 'dmin': None,\n",
       " 'dminx': 32,\n",
       " 'min_template_size': 10,\n",
       " 'template_sizes': 5,\n",
       " 'nearest_chans': 10,\n",
       " 'nearest_templates': 100,\n",
       " 'templates_from_data': True,\n",
       " 'n_templates': 6,\n",
       " 'n_pcs': 6,\n",
       " 'Th_single_ch': 6,\n",
       " 'acg_threshold': 0.2,\n",
       " 'ccg_threshold': 0.25,\n",
       " 'cluster_downsampling': 20,\n",
       " 'cluster_pcs': 64,\n",
       " 'duplicate_spike_bins': 15,\n",
       " 'do_correction': True,\n",
       " 'keep_good_only': False,\n",
       " 'save_extra_kwargs': False,\n",
       " 'skip_kilosort_preprocessing': False,\n",
       " 'scaleproc': None,\n",
       " 'torch_device': 'auto'}"
      ]
     },
     "execution_count": 24,
     "metadata": {},
     "output_type": "execute_result"
    }
   ],
   "source": [
    "ss.get_default_sorter_params(sorter_name_or_class='kilosort4')"
   ]
  },
  {
   "cell_type": "code",
   "execution_count": 25,
   "metadata": {},
   "outputs": [
    {
     "data": {
      "text/plain": [
       "{'batch_size': 'Number of samples included in each batch of data.',\n",
       " 'nblocks': 'Number of non-overlapping blocks for drift correction (additional nblocks-1 blocks are created in the overlaps). Default value: 1.',\n",
       " 'Th_universal': 'Spike detection threshold for universal templates. Th(1) in previous versions of Kilosort. Default value: 9.',\n",
       " 'Th_learned': 'Spike detection threshold for learned templates. Th(2) in previous versions of Kilosort. Default value: 8.',\n",
       " 'do_CAR': 'Whether to perform common average reference. Default value: True.',\n",
       " 'invert_sign': 'Invert the sign of the data. Default value: False.',\n",
       " 'nt': 'Number of samples per waveform. Also size of symmetric padding for filtering. Default value: 61.',\n",
       " 'artifact_threshold': 'If a batch contains absolute values above this number, it will be zeroed out under the assumption that a recording artifact is present. By default, the threshold is infinite (so that no zeroing occurs). Default value: None.',\n",
       " 'nskip': 'Batch stride for computing whitening matrix. Default value: 25.',\n",
       " 'whitening_range': 'Number of nearby channels used to estimate the whitening matrix. Default value: 32.',\n",
       " 'binning_depth': 'For drift correction, vertical bin size in microns used for 2D histogram. Default value: 5.',\n",
       " 'sig_interp': 'For drift correction, sigma for interpolation (spatial standard deviation). Approximate smoothness scale in units of microns. Default value: 20.',\n",
       " 'nt0min': 'Sample index for aligning waveforms, so that their minimum or maximum value happens here. Default of 20. Default value: None.',\n",
       " 'dmin': 'Vertical spacing of template centers used for spike detection, in microns. Determined automatically by default. Default value: None.',\n",
       " 'dminx': 'Horizontal spacing of template centers used for spike detection, in microns. Default value: 32.',\n",
       " 'min_template_size': 'Standard deviation of the smallest, spatial envelope Gaussian used for universal templates. Default value: 10.',\n",
       " 'template_sizes': 'Number of sizes for universal spike templates (multiples of the min_template_size). Default value: 5.',\n",
       " 'nearest_chans': 'Number of nearest channels to consider when finding local maxima during spike detection. Default value: 10.',\n",
       " 'nearest_templates': 'Number of nearest spike template locations to consider when finding local maxima during spike detection. Default value: 100.',\n",
       " 'templates_from_data': 'Indicates whether spike shapes used in universal templates should be estimated from the data or loaded from the predefined templates. Default value: True.',\n",
       " 'n_templates': 'Number of single-channel templates to use for the universal templates (only used if templates_from_data is True). Default value: 6.',\n",
       " 'n_pcs': 'Number of single-channel PCs to use for extracting spike features (only used if templates_from_data is True). Default value: 6.',\n",
       " 'Th_single_ch': 'For single channel threshold crossings to compute universal- templates. In units of whitened data standard deviations. Default value: 6.',\n",
       " 'acg_threshold': 'Fraction of refractory period violations that are allowed in the ACG compared to baseline; used to assign \"good\" units. Default value: 0.2.',\n",
       " 'ccg_threshold': 'Fraction of refractory period violations that are allowed in the CCG compared to baseline; used to perform splits and merges. Default value: 0.25.',\n",
       " 'cluster_downsampling': 'Inverse fraction of nodes used as landmarks during clustering (can be 1, but that slows down the optimization). Default value: 20.',\n",
       " 'cluster_pcs': 'Maximum number of spatiotemporal PC features used for clustering. Default value: 64.',\n",
       " 'duplicate_spike_bins': 'Number of bins for which subsequent spikes from the same cluster are assumed to be artifacts. A value of 0 disables this step. Default value: 15.',\n",
       " 'keep_good_only': \"If True only 'good' units are returned\",\n",
       " 'do_correction': 'If True, drift correction is performed',\n",
       " 'save_extra_kwargs': 'If True, additional kwargs are saved to the output',\n",
       " 'skip_kilosort_preprocessing': 'Can optionally skip the internal kilosort preprocessing',\n",
       " 'scaleproc': 'int16 scaling of whitened data, if None set to 200.',\n",
       " 'torch_device': 'Select the torch device auto/cuda/cpu'}"
      ]
     },
     "execution_count": 25,
     "metadata": {},
     "output_type": "execute_result"
    }
   ],
   "source": [
    "ss.get_sorter_params_description(sorter_name_or_class='kilosort4')"
   ]
  },
  {
   "cell_type": "code",
   "execution_count": 26,
   "metadata": {},
   "outputs": [
    {
     "name": "stdout",
     "output_type": "stream",
     "text": [
      "/scratch/back_up/reward_competition_extention/data/rce_cohort_3/discriminate/20240417_150153_comp_discriminate_subj_3-3_and_3-4.rec/20240417_150153_comp_discriminate_subj_3-3_t5b5_merged.rec\n",
      "Output directory: /scratch/back_up/reward_competition_extention/proc/spike_sorting/20240417_150153_comp_discriminate_subj_3-3_t5b5_merged.rec\n",
      "/scratch/back_up/reward_competition_extention/data/rce_cohort_3/discriminate/20240417_150153_comp_discriminate_subj_3-3_and_3-4.rec/20240417_150153_comp_discriminate_subj_3-4_t6b6_merged.rec\n",
      "Output directory: /scratch/back_up/reward_competition_extention/proc/spike_sorting/20240417_150153_comp_discriminate_subj_3-4_t6b6_merged.rec\n",
      "/scratch/back_up/reward_competition_extention/data/rce_cohort_3/discriminate/20240413_151204_comp_discriminate_subj_3-1_and_3-3.rec/20240413_151204_comp_discriminate_subj_3-1_t5b5_merged.rec\n",
      "Output directory: /scratch/back_up/reward_competition_extention/proc/spike_sorting/20240413_151204_comp_discriminate_subj_3-1_t5b5_merged.rec\n",
      "/scratch/back_up/reward_competition_extention/data/rce_cohort_3/discriminate/20240413_151204_comp_discriminate_subj_3-1_and_3-3.rec/20240413_151204_comp_discriminate_subj_3-3_t6b6_merged.rec\n",
      "Output directory: /scratch/back_up/reward_competition_extention/proc/spike_sorting/20240413_151204_comp_discriminate_subj_3-3_t6b6_merged.rec\n",
      "/scratch/back_up/reward_competition_extention/data/rce_cohort_3/discriminate/20240414_154115_comp_discriminate_subj_4-2_and_4-4.rec/20240414_154115_comp_discriminate_subj_4-2_t3b3_merged.rec\n",
      "Output directory: /scratch/back_up/reward_competition_extention/proc/spike_sorting/20240414_154115_comp_discriminate_subj_4-2_t3b3_merged.rec\n",
      "/scratch/back_up/reward_competition_extention/data/rce_cohort_3/discriminate/20240414_154115_comp_discriminate_subj_4-2_and_4-4.rec/20240414_154115_comp_discriminate_subj_4-4_t4b4_merged.rec\n",
      "Output directory: /scratch/back_up/reward_competition_extention/proc/spike_sorting/20240414_154115_comp_discriminate_subj_4-4_t4b4_merged.rec\n",
      "Running bandpass filter\n",
      "Running whitening\n"
     ]
    },
    {
     "name": "stderr",
     "output_type": "stream",
     "text": [
      "/tmp/ipykernel_56068/1146852239.py:16: UserWarning: Directory already exists for: 20240417_150153_comp_discriminate_subj_3-3_t5b5_merged.rec.\n",
      "                              Either continue on if you are satisfied with the previous run \n",
      "                              or delete the directory and run this cell again\n",
      "  warnings.warn(\"\"\"Directory already exists for: {}.\n",
      "/tmp/ipykernel_56068/1146852239.py:16: UserWarning: Directory already exists for: 20240417_150153_comp_discriminate_subj_3-4_t6b6_merged.rec.\n",
      "                              Either continue on if you are satisfied with the previous run \n",
      "                              or delete the directory and run this cell again\n",
      "  warnings.warn(\"\"\"Directory already exists for: {}.\n",
      "/tmp/ipykernel_56068/1146852239.py:16: UserWarning: Directory already exists for: 20240413_151204_comp_discriminate_subj_3-1_t5b5_merged.rec.\n",
      "                              Either continue on if you are satisfied with the previous run \n",
      "                              or delete the directory and run this cell again\n",
      "  warnings.warn(\"\"\"Directory already exists for: {}.\n",
      "/tmp/ipykernel_56068/1146852239.py:16: UserWarning: Directory already exists for: 20240413_151204_comp_discriminate_subj_3-3_t6b6_merged.rec.\n",
      "                              Either continue on if you are satisfied with the previous run \n",
      "                              or delete the directory and run this cell again\n",
      "  warnings.warn(\"\"\"Directory already exists for: {}.\n",
      "/tmp/ipykernel_56068/1146852239.py:16: UserWarning: Directory already exists for: 20240414_154115_comp_discriminate_subj_4-2_t3b3_merged.rec.\n",
      "                              Either continue on if you are satisfied with the previous run \n",
      "                              or delete the directory and run this cell again\n",
      "  warnings.warn(\"\"\"Directory already exists for: {}.\n"
     ]
    },
    {
     "name": "stdout",
     "output_type": "stream",
     "text": [
      "Spike sorting\n",
      "========================================\n",
      "Loading recording with SpikeInterface...\n",
      "number of samples: 72521627\n",
      "number of channels: 32\n",
      "numbef of segments: 1\n",
      "sampling rate: 20000.0\n",
      "dtype: float32\n",
      "========================================\n",
      "Skipping common average reference.\n",
      "Preprocessing filters computed in  6.38s; total  6.38s\n",
      "Skipping drift correction.\n",
      "\n",
      "computing drift\n",
      "nblocks = 0, skipping drift correction\n",
      "drift computed in  0.00s; total  6.38s\n",
      "\n",
      "Extracting spikes using templates\n",
      "Re-computing universal templates from data.\n"
     ]
    },
    {
     "name": "stderr",
     "output_type": "stream",
     "text": [
      "/home/pc_lab/miniforge3/envs/kilosort_4_0_5/lib/python3.9/site-packages/kilosort/spikedetect.py:235: UserWarning: \n",
      "              NaNs and/or zeroes present in weights for spikedetect.run,\n",
      "              may need to adjust `min_template_size` and/or `dminx` \n",
      "              for best results.\n",
      "\n",
      "              If you're using a probe with multiple shanks, see \n",
      "              https://kilosort.readthedocs.io/en/latest/multi_shank.html\n",
      "              \n",
      "  warnings.warn(msg, UserWarning)\n",
      "100%|██████████| 1209/1209 [05:21<00:00,  3.76it/s]\n"
     ]
    },
    {
     "name": "stdout",
     "output_type": "stream",
     "text": [
      "386511 spikes extracted in  324.45s; total  330.83s\n",
      "\n",
      "First clustering\n"
     ]
    },
    {
     "name": "stderr",
     "output_type": "stream",
     "text": [
      "100%|██████████| 16/16 [00:07<00:00,  2.20it/s]\n",
      "/home/pc_lab/miniforge3/envs/kilosort_4_0_5/lib/python3.9/site-packages/kilosort/template_matching.py:71: UserWarning: Plan failed with a cudnnException: CUDNN_BACKEND_EXECUTION_PLAN_DESCRIPTOR: cudnnFinalize Descriptor Failed cudnn_status: CUDNN_STATUS_NOT_SUPPORTED (Triggered internally at /opt/conda/conda-bld/pytorch_1712608885084/work/aten/src/ATen/native/cudnn/Conv_v8.cpp:919.)\n",
      "  X = conv1d(X.unsqueeze(1), ops['wTEMP'].unsqueeze(1), padding=ops['nt']//2)\n"
     ]
    },
    {
     "name": "stdout",
     "output_type": "stream",
     "text": [
      "91 clusters found, in  7.36s; total  338.19s\n",
      "\n",
      "Extracting spikes using cluster waveforms\n"
     ]
    },
    {
     "name": "stderr",
     "output_type": "stream",
     "text": [
      "100%|██████████| 1209/1209 [01:15<00:00, 15.97it/s]\n"
     ]
    },
    {
     "name": "stdout",
     "output_type": "stream",
     "text": [
      "653356 spikes extracted in  75.85s; total  414.04s\n",
      "\n",
      "Final clustering\n"
     ]
    },
    {
     "name": "stderr",
     "output_type": "stream",
     "text": [
      "100%|██████████| 16/16 [00:13<00:00,  1.21it/s]\n"
     ]
    },
    {
     "name": "stdout",
     "output_type": "stream",
     "text": [
      "45 clusters found, in  13.18s; total  427.22s\n",
      "\n",
      "Merging clusters\n",
      "45 units found, in  0.18s; total  427.40s\n",
      "\n",
      "Saving to phy and computing refractory periods\n",
      "3 units found with good refractory periods\n",
      "\n",
      "Total runtime: 430.94s = 00:07:11 h:m:s\n"
     ]
    },
    {
     "name": "stderr",
     "output_type": "stream",
     "text": [
      "/home/pc_lab/miniforge3/envs/kilosort_4_0_5/lib/python3.9/site-packages/spikeinterface/core/basesorting.py:175: UserWarning: Some spikes exceed the recording's duration! Removing these excess spikes with `spikeinterface.curation.remove_excess_spikes()` Might be necessary for further postprocessing.\n",
      "  warnings.warn(\n",
      "/home/pc_lab/miniforge3/envs/kilosort_4_0_5/lib/python3.9/site-packages/spikeinterface/core/basesorting.py:239: UserWarning: The registered recording will not be persistent on disk, but only available in memory\n",
      "  warnings.warn(\"The registered recording will not be persistent on disk, but only available in memory\")\n"
     ]
    },
    {
     "name": "stdout",
     "output_type": "stream",
     "text": [
      "Exporting waveforms\n",
      "The sorting object has spikes exceeding the recording duration. You have to remove those spikes with the `spikeinterface.curation.remove_excess_spikes()` function\n",
      "/scratch/back_up/reward_competition_extention/data/rce_cohort_3/discriminate/20240415_153312_comp_discriminate_subj_3-1_and_3-4.rec/20240415_153312_comp_discriminate_subj_3-1_t3b3_merged.rec\n",
      "Output directory: /scratch/back_up/reward_competition_extention/proc/spike_sorting/20240415_153312_comp_discriminate_subj_3-1_t3b3_merged.rec\n",
      "/scratch/back_up/reward_competition_extention/data/rce_cohort_3/discriminate/20240415_153312_comp_discriminate_subj_3-1_and_3-4.rec/20240415_153312_comp_discriminate_subj_3-4_t4b4_merged.rec\n",
      "Output directory: /scratch/back_up/reward_competition_extention/proc/spike_sorting/20240415_153312_comp_discriminate_subj_3-4_t4b4_merged.rec\n",
      "/scratch/back_up/reward_competition_extention/data/rce_cohort_3/discriminate/20240415_165702_comp_discriminate_subj_4-3_and_4-4.rec/20240415_165702_comp_discriminate_subj_4-3_t1b1_merged.rec\n",
      "Output directory: /scratch/back_up/reward_competition_extention/proc/spike_sorting/20240415_165702_comp_discriminate_subj_4-3_t1b1_merged.rec\n",
      "/scratch/back_up/reward_competition_extention/data/rce_cohort_3/discriminate/20240415_165702_comp_discriminate_subj_4-3_and_4-4.rec/20240415_165702_comp_discriminate_subj_4-4_t2b2_merged.rec\n",
      "Output directory: /scratch/back_up/reward_competition_extention/proc/spike_sorting/20240415_165702_comp_discriminate_subj_4-4_t2b2_merged.rec\n",
      "/scratch/back_up/reward_competition_extention/data/rce_cohort_3/discriminate/20240415_140712_comp_discriminate_subj_5-2_and_5-3.rec/20240415_140712_comp_discriminate_subj_5-3_t6b6_merged.rec\n",
      "Output directory: /scratch/back_up/reward_competition_extention/proc/spike_sorting/20240415_140712_comp_discriminate_subj_5-3_t6b6_merged.rec\n",
      "/scratch/back_up/reward_competition_extention/data/rce_cohort_3/discriminate/20240415_140712_comp_discriminate_subj_5-2_and_5-3.rec/20240415_140712_comp_discriminate_subj_5-2_t5b5_merged.rec\n",
      "Output directory: /scratch/back_up/reward_competition_extention/proc/spike_sorting/20240415_140712_comp_discriminate_subj_5-2_t5b5_merged.rec\n",
      "/scratch/back_up/reward_competition_extention/data/rce_cohort_3/discriminate/20240413_163726_comp_discriminate_subj_4-2_and_4-3.rec/20240413_163726_comp_discriminate_subj_4-3_t4b4_merged.rec\n",
      "Output directory: /scratch/back_up/reward_competition_extention/proc/spike_sorting/20240413_163726_comp_discriminate_subj_4-3_t4b4_merged.rec\n",
      "/scratch/back_up/reward_competition_extention/data/rce_cohort_3/discriminate/20240413_163726_comp_discriminate_subj_4-2_and_4-3.rec/20240413_163726_comp_discriminate_subj_4-2_t3b3_merged.rec\n",
      "Output directory: /scratch/back_up/reward_competition_extention/proc/spike_sorting/20240413_163726_comp_discriminate_subj_4-2_t3b3_merged.rec\n",
      "/scratch/back_up/reward_competition_extention/data/rce_cohort_3/long_comp/20240321_114851_long_comp_subj_5-2_and_5-3.rec/20240321_114851_long_comp_subj_5-2_t6b6_merged.rec\n",
      "Output directory: /scratch/back_up/reward_competition_extention/proc/spike_sorting/20240321_114851_long_comp_subj_5-2_t6b6_merged.rec\n",
      "/scratch/back_up/reward_competition_extention/data/rce_cohort_3/long_comp/20240321_114851_long_comp_subj_5-2_and_5-3.rec/20240321_114851_long_comp_subj_5-3_t5b5_merged.rec\n",
      "Output directory: /scratch/back_up/reward_competition_extention/proc/spike_sorting/20240321_114851_long_comp_subj_5-3_t5b5_merged.rec\n",
      "/scratch/back_up/reward_competition_extention/data/rce_cohort_3/long_comp/20240317_172017_long_comp_subj_4-2_and_4-3.rec/20240317_172017_long_comp_subj_4-2_t6b6_merged.rec\n",
      "Output directory: /scratch/back_up/reward_competition_extention/proc/spike_sorting/20240317_172017_long_comp_subj_4-2_t6b6_merged.rec\n",
      "/scratch/back_up/reward_competition_extention/data/rce_cohort_3/long_comp/20240317_172017_long_comp_subj_4-2_and_4-3.rec/20240317_172017_long_comp_subj_4-3_t5b5_merged.rec\n",
      "Output directory: /scratch/back_up/reward_competition_extention/proc/spike_sorting/20240317_172017_long_comp_subj_4-3_t5b5_merged.rec\n",
      "/scratch/back_up/reward_competition_extention/data/rce_cohort_3/long_comp/20240317_151922_long_comp_subj_3-1_and_3-3.rec/20240317_151922_long_comp_subj_3-1_t6b6_merged.rec\n",
      "Output directory: /scratch/back_up/reward_competition_extention/proc/spike_sorting/20240317_151922_long_comp_subj_3-1_t6b6_merged.rec\n",
      "/scratch/back_up/reward_competition_extention/data/rce_cohort_3/long_comp/20240317_151922_long_comp_subj_3-1_and_3-3.rec/20240317_151922_long_comp_subj_3-3_t5b5_merged.rec\n",
      "Output directory: /scratch/back_up/reward_competition_extention/proc/spike_sorting/20240317_151922_long_comp_subj_3-3_t5b5_merged.rec\n",
      "/scratch/back_up/reward_competition_extention/data/rce_cohort_3/long_comp/20240319_160457_long_comp_subj_4-2_and_4-4.rec/20240319_160457_long_comp_subj_4-2_t5b5_merged.rec\n",
      "Output directory: /scratch/back_up/reward_competition_extention/proc/spike_sorting/20240319_160457_long_comp_subj_4-2_t5b5_merged.rec\n",
      "/scratch/back_up/reward_competition_extention/data/rce_cohort_3/long_comp/20240319_160457_long_comp_subj_4-2_and_4-4.rec/20240319_160457_long_comp_subj_4-4_t6b6_merged.rec\n",
      "Output directory: /scratch/back_up/reward_competition_extention/proc/spike_sorting/20240319_160457_long_comp_subj_4-4_t6b6_merged.rec\n",
      "/scratch/back_up/reward_competition_extention/data/rce_cohort_3/long_comp/20240319_134914_long_comp_subj_3-1_and_3-4.rec/20240319_134914_long_comp_subj_3-4_t6b6_merged.rec\n",
      "Output directory: /scratch/back_up/reward_competition_extention/proc/spike_sorting/20240319_134914_long_comp_subj_3-4_t6b6_merged.rec\n",
      "/scratch/back_up/reward_competition_extention/data/rce_cohort_3/long_comp/20240319_134914_long_comp_subj_3-1_and_3-4.rec/20240319_134914_long_comp_subj_3-1_t5b5_merged.rec\n",
      "Output directory: /scratch/back_up/reward_competition_extention/proc/spike_sorting/20240319_134914_long_comp_subj_3-1_t5b5_merged.rec\n",
      "/scratch/back_up/reward_competition_extention/data/rce_cohort_3/long_comp/20240318_143819_long_comp_subj_3-3_and_3-4.rec/20240318_143819_long_comp_subj_3-3_t6b6_merged.rec\n",
      "Output directory: /scratch/back_up/reward_competition_extention/proc/spike_sorting/20240318_143819_long_comp_subj_3-3_t6b6_merged.rec\n",
      "/scratch/back_up/reward_competition_extention/data/rce_cohort_3/long_comp/20240318_143819_long_comp_subj_3-3_and_3-4.rec/20240318_143819_long_comp_subj_3-4_t5b5_merged.rec\n",
      "Output directory: /scratch/back_up/reward_competition_extention/proc/spike_sorting/20240318_143819_long_comp_subj_3-4_t5b5_merged.rec\n",
      "/scratch/back_up/reward_competition_extention/data/rce_cohort_3/long_comp/20240320_114629_long_comp_subj_5-3_and_5-4.rec/20240320_114629_long_comp_subj_5-4_t5b5_merged.rec\n",
      "Output directory: /scratch/back_up/reward_competition_extention/proc/spike_sorting/20240320_114629_long_comp_subj_5-4_t5b5_merged.rec\n",
      "/scratch/back_up/reward_competition_extention/data/rce_cohort_3/long_comp/20240320_114629_long_comp_subj_5-3_and_5-4.rec/20240320_114629_long_comp_subj_5-3_t6b6_merged.rec\n",
      "Output directory: /scratch/back_up/reward_competition_extention/proc/spike_sorting/20240320_114629_long_comp_subj_5-3_t6b6_merged.rec\n",
      "/scratch/back_up/reward_competition_extention/data/rce_cohort_3/long_comp/20240318_170933_long_comp_subj_4-3_and_4-4.rec/20240318_170933_long_comp_subj_4-4_t5b5_merged.rec\n",
      "Output directory: /scratch/back_up/reward_competition_extention/proc/spike_sorting/20240318_170933_long_comp_subj_4-4_t5b5_merged.rec\n",
      "Running bandpass filter\n",
      "Running whitening\n"
     ]
    },
    {
     "name": "stderr",
     "output_type": "stream",
     "text": [
      "/tmp/ipykernel_56068/1146852239.py:16: UserWarning: Directory already exists for: 20240415_153312_comp_discriminate_subj_3-1_t3b3_merged.rec.\n",
      "                              Either continue on if you are satisfied with the previous run \n",
      "                              or delete the directory and run this cell again\n",
      "  warnings.warn(\"\"\"Directory already exists for: {}.\n",
      "/tmp/ipykernel_56068/1146852239.py:16: UserWarning: Directory already exists for: 20240415_153312_comp_discriminate_subj_3-4_t4b4_merged.rec.\n",
      "                              Either continue on if you are satisfied with the previous run \n",
      "                              or delete the directory and run this cell again\n",
      "  warnings.warn(\"\"\"Directory already exists for: {}.\n",
      "/tmp/ipykernel_56068/1146852239.py:16: UserWarning: Directory already exists for: 20240415_165702_comp_discriminate_subj_4-3_t1b1_merged.rec.\n",
      "                              Either continue on if you are satisfied with the previous run \n",
      "                              or delete the directory and run this cell again\n",
      "  warnings.warn(\"\"\"Directory already exists for: {}.\n",
      "/tmp/ipykernel_56068/1146852239.py:16: UserWarning: Directory already exists for: 20240415_165702_comp_discriminate_subj_4-4_t2b2_merged.rec.\n",
      "                              Either continue on if you are satisfied with the previous run \n",
      "                              or delete the directory and run this cell again\n",
      "  warnings.warn(\"\"\"Directory already exists for: {}.\n",
      "/tmp/ipykernel_56068/1146852239.py:16: UserWarning: Directory already exists for: 20240415_140712_comp_discriminate_subj_5-3_t6b6_merged.rec.\n",
      "                              Either continue on if you are satisfied with the previous run \n",
      "                              or delete the directory and run this cell again\n",
      "  warnings.warn(\"\"\"Directory already exists for: {}.\n",
      "/tmp/ipykernel_56068/1146852239.py:16: UserWarning: Directory already exists for: 20240415_140712_comp_discriminate_subj_5-2_t5b5_merged.rec.\n",
      "                              Either continue on if you are satisfied with the previous run \n",
      "                              or delete the directory and run this cell again\n",
      "  warnings.warn(\"\"\"Directory already exists for: {}.\n",
      "/tmp/ipykernel_56068/1146852239.py:16: UserWarning: Directory already exists for: 20240413_163726_comp_discriminate_subj_4-3_t4b4_merged.rec.\n",
      "                              Either continue on if you are satisfied with the previous run \n",
      "                              or delete the directory and run this cell again\n",
      "  warnings.warn(\"\"\"Directory already exists for: {}.\n",
      "/tmp/ipykernel_56068/1146852239.py:16: UserWarning: Directory already exists for: 20240413_163726_comp_discriminate_subj_4-2_t3b3_merged.rec.\n",
      "                              Either continue on if you are satisfied with the previous run \n",
      "                              or delete the directory and run this cell again\n",
      "  warnings.warn(\"\"\"Directory already exists for: {}.\n",
      "/tmp/ipykernel_56068/1146852239.py:16: UserWarning: Directory already exists for: 20240321_114851_long_comp_subj_5-2_t6b6_merged.rec.\n",
      "                              Either continue on if you are satisfied with the previous run \n",
      "                              or delete the directory and run this cell again\n",
      "  warnings.warn(\"\"\"Directory already exists for: {}.\n",
      "/tmp/ipykernel_56068/1146852239.py:16: UserWarning: Directory already exists for: 20240321_114851_long_comp_subj_5-3_t5b5_merged.rec.\n",
      "                              Either continue on if you are satisfied with the previous run \n",
      "                              or delete the directory and run this cell again\n",
      "  warnings.warn(\"\"\"Directory already exists for: {}.\n",
      "/tmp/ipykernel_56068/1146852239.py:16: UserWarning: Directory already exists for: 20240317_172017_long_comp_subj_4-2_t6b6_merged.rec.\n",
      "                              Either continue on if you are satisfied with the previous run \n",
      "                              or delete the directory and run this cell again\n",
      "  warnings.warn(\"\"\"Directory already exists for: {}.\n",
      "/tmp/ipykernel_56068/1146852239.py:16: UserWarning: Directory already exists for: 20240317_172017_long_comp_subj_4-3_t5b5_merged.rec.\n",
      "                              Either continue on if you are satisfied with the previous run \n",
      "                              or delete the directory and run this cell again\n",
      "  warnings.warn(\"\"\"Directory already exists for: {}.\n",
      "/tmp/ipykernel_56068/1146852239.py:16: UserWarning: Directory already exists for: 20240317_151922_long_comp_subj_3-1_t6b6_merged.rec.\n",
      "                              Either continue on if you are satisfied with the previous run \n",
      "                              or delete the directory and run this cell again\n",
      "  warnings.warn(\"\"\"Directory already exists for: {}.\n",
      "/tmp/ipykernel_56068/1146852239.py:16: UserWarning: Directory already exists for: 20240317_151922_long_comp_subj_3-3_t5b5_merged.rec.\n",
      "                              Either continue on if you are satisfied with the previous run \n",
      "                              or delete the directory and run this cell again\n",
      "  warnings.warn(\"\"\"Directory already exists for: {}.\n",
      "/tmp/ipykernel_56068/1146852239.py:16: UserWarning: Directory already exists for: 20240319_160457_long_comp_subj_4-2_t5b5_merged.rec.\n",
      "                              Either continue on if you are satisfied with the previous run \n",
      "                              or delete the directory and run this cell again\n",
      "  warnings.warn(\"\"\"Directory already exists for: {}.\n",
      "/tmp/ipykernel_56068/1146852239.py:16: UserWarning: Directory already exists for: 20240319_160457_long_comp_subj_4-4_t6b6_merged.rec.\n",
      "                              Either continue on if you are satisfied with the previous run \n",
      "                              or delete the directory and run this cell again\n",
      "  warnings.warn(\"\"\"Directory already exists for: {}.\n",
      "/tmp/ipykernel_56068/1146852239.py:16: UserWarning: Directory already exists for: 20240319_134914_long_comp_subj_3-4_t6b6_merged.rec.\n",
      "                              Either continue on if you are satisfied with the previous run \n",
      "                              or delete the directory and run this cell again\n",
      "  warnings.warn(\"\"\"Directory already exists for: {}.\n",
      "/tmp/ipykernel_56068/1146852239.py:16: UserWarning: Directory already exists for: 20240319_134914_long_comp_subj_3-1_t5b5_merged.rec.\n",
      "                              Either continue on if you are satisfied with the previous run \n",
      "                              or delete the directory and run this cell again\n",
      "  warnings.warn(\"\"\"Directory already exists for: {}.\n",
      "/tmp/ipykernel_56068/1146852239.py:16: UserWarning: Directory already exists for: 20240318_143819_long_comp_subj_3-3_t6b6_merged.rec.\n",
      "                              Either continue on if you are satisfied with the previous run \n",
      "                              or delete the directory and run this cell again\n",
      "  warnings.warn(\"\"\"Directory already exists for: {}.\n",
      "/tmp/ipykernel_56068/1146852239.py:16: UserWarning: Directory already exists for: 20240318_143819_long_comp_subj_3-4_t5b5_merged.rec.\n",
      "                              Either continue on if you are satisfied with the previous run \n",
      "                              or delete the directory and run this cell again\n",
      "  warnings.warn(\"\"\"Directory already exists for: {}.\n",
      "/tmp/ipykernel_56068/1146852239.py:16: UserWarning: Directory already exists for: 20240320_114629_long_comp_subj_5-4_t5b5_merged.rec.\n",
      "                              Either continue on if you are satisfied with the previous run \n",
      "                              or delete the directory and run this cell again\n",
      "  warnings.warn(\"\"\"Directory already exists for: {}.\n",
      "/tmp/ipykernel_56068/1146852239.py:16: UserWarning: Directory already exists for: 20240320_114629_long_comp_subj_5-3_t6b6_merged.rec.\n",
      "                              Either continue on if you are satisfied with the previous run \n",
      "                              or delete the directory and run this cell again\n",
      "  warnings.warn(\"\"\"Directory already exists for: {}.\n"
     ]
    },
    {
     "name": "stdout",
     "output_type": "stream",
     "text": [
      "Spike sorting\n",
      "========================================\n",
      "Loading recording with SpikeInterface...\n",
      "number of samples: 58472039\n",
      "number of channels: 32\n",
      "numbef of segments: 1\n",
      "sampling rate: 20000.0\n",
      "dtype: float32\n",
      "========================================\n",
      "Skipping common average reference.\n",
      "Preprocessing filters computed in  1.90s; total  1.90s\n",
      "Skipping drift correction.\n",
      "\n",
      "computing drift\n",
      "nblocks = 0, skipping drift correction\n",
      "drift computed in  0.00s; total  1.90s\n",
      "\n",
      "Extracting spikes using templates\n",
      "Re-computing universal templates from data.\n"
     ]
    },
    {
     "name": "stderr",
     "output_type": "stream",
     "text": [
      "/home/pc_lab/miniforge3/envs/kilosort_4_0_5/lib/python3.9/site-packages/kilosort/spikedetect.py:235: UserWarning: \n",
      "              NaNs and/or zeroes present in weights for spikedetect.run,\n",
      "              may need to adjust `min_template_size` and/or `dminx` \n",
      "              for best results.\n",
      "\n",
      "              If you're using a probe with multiple shanks, see \n",
      "              https://kilosort.readthedocs.io/en/latest/multi_shank.html\n",
      "              \n",
      "  warnings.warn(msg, UserWarning)\n",
      "100%|██████████| 975/975 [03:26<00:00,  4.72it/s]\n"
     ]
    },
    {
     "name": "stdout",
     "output_type": "stream",
     "text": [
      "304983 spikes extracted in  209.13s; total  211.03s\n",
      "\n",
      "First clustering\n"
     ]
    },
    {
     "name": "stderr",
     "output_type": "stream",
     "text": [
      "100%|██████████| 16/16 [00:06<00:00,  2.47it/s]\n",
      "/home/pc_lab/miniforge3/envs/kilosort_4_0_5/lib/python3.9/site-packages/kilosort/template_matching.py:71: UserWarning: Plan failed with a cudnnException: CUDNN_BACKEND_EXECUTION_PLAN_DESCRIPTOR: cudnnFinalize Descriptor Failed cudnn_status: CUDNN_STATUS_NOT_SUPPORTED (Triggered internally at /opt/conda/conda-bld/pytorch_1712608885084/work/aten/src/ATen/native/cudnn/Conv_v8.cpp:919.)\n",
      "  X = conv1d(X.unsqueeze(1), ops['wTEMP'].unsqueeze(1), padding=ops['nt']//2)\n"
     ]
    },
    {
     "name": "stdout",
     "output_type": "stream",
     "text": [
      "39 clusters found, in  6.53s; total  217.56s\n",
      "\n",
      "Extracting spikes using cluster waveforms\n"
     ]
    },
    {
     "name": "stderr",
     "output_type": "stream",
     "text": [
      "100%|██████████| 975/975 [00:52<00:00, 18.64it/s]\n"
     ]
    },
    {
     "name": "stdout",
     "output_type": "stream",
     "text": [
      "372556 spikes extracted in  52.43s; total  269.99s\n",
      "\n",
      "Final clustering\n"
     ]
    },
    {
     "name": "stderr",
     "output_type": "stream",
     "text": [
      "100%|██████████| 16/16 [00:05<00:00,  2.74it/s] \n"
     ]
    },
    {
     "name": "stdout",
     "output_type": "stream",
     "text": [
      "11 clusters found, in  5.87s; total  275.86s\n",
      "\n",
      "Merging clusters\n",
      "11 units found, in  0.12s; total  275.98s\n",
      "\n",
      "Saving to phy and computing refractory periods\n",
      "0 units found with good refractory periods\n",
      "\n",
      "Total runtime: 277.95s = 00:04:38 h:m:s\n"
     ]
    },
    {
     "name": "stderr",
     "output_type": "stream",
     "text": [
      "/home/pc_lab/miniforge3/envs/kilosort_4_0_5/lib/python3.9/site-packages/spikeinterface/core/basesorting.py:239: UserWarning: The registered recording will not be persistent on disk, but only available in memory\n",
      "  warnings.warn(\"The registered recording will not be persistent on disk, but only available in memory\")\n"
     ]
    },
    {
     "name": "stdout",
     "output_type": "stream",
     "text": [
      "Exporting waveforms\n"
     ]
    },
    {
     "data": {
      "application/vnd.jupyter.widget-view+json": {
       "model_id": "add5c37d338d47119e093ccb292b21ad",
       "version_major": 2,
       "version_minor": 0
      },
      "text/plain": [
       "extract waveforms memmap multi buffer:   0%|          | 0/15 [00:00<?, ?it/s]"
      ]
     },
     "metadata": {},
     "output_type": "display_data"
    },
    {
     "name": "stdout",
     "output_type": "stream",
     "text": [
      "we_spike_sorted is sparse: False\n",
      "Saving to phy\n"
     ]
    },
    {
     "data": {
      "application/vnd.jupyter.widget-view+json": {
       "model_id": "0fbbcf7388384a35922c582f1d8591ea",
       "version_major": 2,
       "version_minor": 0
      },
      "text/plain": [
       "write_binary_recording:   0%|          | 0/2924 [00:00<?, ?it/s]"
      ]
     },
     "metadata": {},
     "output_type": "display_data"
    },
    {
     "data": {
      "application/vnd.jupyter.widget-view+json": {
       "model_id": "8f5ccd5676cf41da8c35b5338abdc822",
       "version_major": 2,
       "version_minor": 0
      },
      "text/plain": [
       "extract amplitudes:   0%|          | 0/2924 [00:00<?, ?it/s]"
      ]
     },
     "metadata": {},
     "output_type": "display_data"
    },
    {
     "data": {
      "application/vnd.jupyter.widget-view+json": {
       "model_id": "b2e8caaaea264851af332ffecc742f10",
       "version_major": 2,
       "version_minor": 0
      },
      "text/plain": [
       "Fitting PCA:   0%|          | 0/11 [00:00<?, ?it/s]"
      ]
     },
     "metadata": {},
     "output_type": "display_data"
    },
    {
     "data": {
      "application/vnd.jupyter.widget-view+json": {
       "model_id": "6dadd42acd1a4be5ab3bd662312bf8ed",
       "version_major": 2,
       "version_minor": 0
      },
      "text/plain": [
       "Projecting waveforms:   0%|          | 0/11 [00:00<?, ?it/s]"
      ]
     },
     "metadata": {},
     "output_type": "display_data"
    },
    {
     "data": {
      "application/vnd.jupyter.widget-view+json": {
       "model_id": "9e60e42e1277483b84cacd215c52e9fe",
       "version_major": 2,
       "version_minor": 0
      },
      "text/plain": [
       "extract PCs:   0%|          | 0/2924 [00:00<?, ?it/s]"
      ]
     },
     "metadata": {},
     "output_type": "display_data"
    },
    {
     "name": "stdout",
     "output_type": "stream",
     "text": [
      "Run:\n",
      "phy template-gui  /scratch/back_up/reward_competition_extention/proc/spike_sorting/20240318_170933_long_comp_subj_4-4_t5b5_merged.rec/phy/params.py\n",
      "/scratch/back_up/reward_competition_extention/data/rce_cohort_3/long_comp/20240318_170933_long_comp_subj_4-3_and_4-4.rec/20240318_170933_long_comp_subj_4-3_t6b6_merged.rec\n",
      "Output directory: /scratch/back_up/reward_competition_extention/proc/spike_sorting/20240318_170933_long_comp_subj_4-3_t6b6_merged.rec\n",
      "Running bandpass filter\n",
      "Running whitening\n",
      "Spike sorting\n",
      "========================================\n",
      "Loading recording with SpikeInterface...\n",
      "number of samples: 58472137\n",
      "number of channels: 32\n",
      "numbef of segments: 1\n",
      "sampling rate: 20000.0\n",
      "dtype: float32\n",
      "========================================\n",
      "Skipping common average reference.\n",
      "Preprocessing filters computed in  3.88s; total  3.88s\n",
      "Skipping drift correction.\n",
      "\n",
      "computing drift\n",
      "nblocks = 0, skipping drift correction\n",
      "drift computed in  0.00s; total  3.88s\n",
      "\n",
      "Extracting spikes using templates\n",
      "Re-computing universal templates from data.\n"
     ]
    },
    {
     "name": "stderr",
     "output_type": "stream",
     "text": [
      "/home/pc_lab/miniforge3/envs/kilosort_4_0_5/lib/python3.9/site-packages/kilosort/spikedetect.py:235: UserWarning: \n",
      "              NaNs and/or zeroes present in weights for spikedetect.run,\n",
      "              may need to adjust `min_template_size` and/or `dminx` \n",
      "              for best results.\n",
      "\n",
      "              If you're using a probe with multiple shanks, see \n",
      "              https://kilosort.readthedocs.io/en/latest/multi_shank.html\n",
      "              \n",
      "  warnings.warn(msg, UserWarning)\n",
      "100%|██████████| 975/975 [03:58<00:00,  4.09it/s]\n"
     ]
    },
    {
     "name": "stdout",
     "output_type": "stream",
     "text": [
      "1396391 spikes extracted in  241.03s; total  244.91s\n",
      "\n",
      "First clustering\n"
     ]
    },
    {
     "name": "stderr",
     "output_type": "stream",
     "text": [
      "100%|██████████| 16/16 [00:24<00:00,  1.52s/it]\n",
      "/home/pc_lab/miniforge3/envs/kilosort_4_0_5/lib/python3.9/site-packages/kilosort/template_matching.py:71: UserWarning: Plan failed with a cudnnException: CUDNN_BACKEND_EXECUTION_PLAN_DESCRIPTOR: cudnnFinalize Descriptor Failed cudnn_status: CUDNN_STATUS_NOT_SUPPORTED (Triggered internally at /opt/conda/conda-bld/pytorch_1712608885084/work/aten/src/ATen/native/cudnn/Conv_v8.cpp:919.)\n",
      "  X = conv1d(X.unsqueeze(1), ops['wTEMP'].unsqueeze(1), padding=ops['nt']//2)\n"
     ]
    },
    {
     "name": "stdout",
     "output_type": "stream",
     "text": [
      "139 clusters found, in  24.44s; total  269.35s\n",
      "\n",
      "Extracting spikes using cluster waveforms\n"
     ]
    },
    {
     "name": "stderr",
     "output_type": "stream",
     "text": [
      "100%|██████████| 975/975 [00:55<00:00, 17.51it/s]\n"
     ]
    },
    {
     "name": "stdout",
     "output_type": "stream",
     "text": [
      "1271016 spikes extracted in  55.91s; total  325.26s\n",
      "\n",
      "Final clustering\n"
     ]
    },
    {
     "name": "stderr",
     "output_type": "stream",
     "text": [
      "100%|██████████| 16/16 [00:17<00:00,  1.10s/it]\n"
     ]
    },
    {
     "name": "stdout",
     "output_type": "stream",
     "text": [
      "54 clusters found, in  17.63s; total  342.89s\n",
      "\n",
      "Merging clusters\n",
      "54 units found, in  0.39s; total  343.28s\n",
      "\n",
      "Saving to phy and computing refractory periods\n",
      "35 units found with good refractory periods\n",
      "\n",
      "Total runtime: 350.49s = 00:05:50 h:m:s\n"
     ]
    },
    {
     "name": "stderr",
     "output_type": "stream",
     "text": [
      "/home/pc_lab/miniforge3/envs/kilosort_4_0_5/lib/python3.9/site-packages/spikeinterface/core/basesorting.py:239: UserWarning: The registered recording will not be persistent on disk, but only available in memory\n",
      "  warnings.warn(\"The registered recording will not be persistent on disk, but only available in memory\")\n"
     ]
    },
    {
     "name": "stdout",
     "output_type": "stream",
     "text": [
      "Exporting waveforms\n"
     ]
    },
    {
     "data": {
      "application/vnd.jupyter.widget-view+json": {
       "model_id": "8f0c62532cc44766b6021bf882c7ffdc",
       "version_major": 2,
       "version_minor": 0
      },
      "text/plain": [
       "extract waveforms memmap multi buffer:   0%|          | 0/15 [00:00<?, ?it/s]"
      ]
     },
     "metadata": {},
     "output_type": "display_data"
    },
    {
     "name": "stdout",
     "output_type": "stream",
     "text": [
      "we_spike_sorted is sparse: False\n",
      "Saving to phy\n"
     ]
    },
    {
     "data": {
      "application/vnd.jupyter.widget-view+json": {
       "model_id": "0a11c1ac4ccd4ab4800f3a68cdd04f3d",
       "version_major": 2,
       "version_minor": 0
      },
      "text/plain": [
       "write_binary_recording:   0%|          | 0/2924 [00:00<?, ?it/s]"
      ]
     },
     "metadata": {},
     "output_type": "display_data"
    },
    {
     "data": {
      "application/vnd.jupyter.widget-view+json": {
       "model_id": "5ed4f5e661234127b9f052071a72d463",
       "version_major": 2,
       "version_minor": 0
      },
      "text/plain": [
       "extract amplitudes:   0%|          | 0/2924 [00:00<?, ?it/s]"
      ]
     },
     "metadata": {},
     "output_type": "display_data"
    },
    {
     "data": {
      "application/vnd.jupyter.widget-view+json": {
       "model_id": "dbf375b44d8147c095227c8984fba970",
       "version_major": 2,
       "version_minor": 0
      },
      "text/plain": [
       "Fitting PCA:   0%|          | 0/54 [00:00<?, ?it/s]"
      ]
     },
     "metadata": {},
     "output_type": "display_data"
    },
    {
     "data": {
      "application/vnd.jupyter.widget-view+json": {
       "model_id": "c6b8532b87994d2c97c4551528c7c35e",
       "version_major": 2,
       "version_minor": 0
      },
      "text/plain": [
       "Projecting waveforms:   0%|          | 0/54 [00:00<?, ?it/s]"
      ]
     },
     "metadata": {},
     "output_type": "display_data"
    },
    {
     "data": {
      "application/vnd.jupyter.widget-view+json": {
       "model_id": "63fd7d0e063a45a096d091ac33c6f2a5",
       "version_major": 2,
       "version_minor": 0
      },
      "text/plain": [
       "extract PCs:   0%|          | 0/2924 [00:00<?, ?it/s]"
      ]
     },
     "metadata": {},
     "output_type": "display_data"
    },
    {
     "name": "stdout",
     "output_type": "stream",
     "text": [
      "Run:\n",
      "phy template-gui  /scratch/back_up/reward_competition_extention/proc/spike_sorting/20240318_170933_long_comp_subj_4-3_t6b6_merged.rec/phy/params.py\n",
      "/scratch/back_up/reward_competition_extention/data/rce_cohort_3/novel/20240411_155157_comp_novel_subj_3-1_and_3-4_and_4-2_and_4-4.rec/20240411_155157_comp_novel_subj_3-4_t4b4_merged.rec\n",
      "Output directory: /scratch/back_up/reward_competition_extention/proc/spike_sorting/20240411_155157_comp_novel_subj_3-4_t4b4_merged.rec\n",
      "Running bandpass filter\n",
      "Running whitening\n",
      "Spike sorting\n",
      "========================================\n",
      "Loading recording with SpikeInterface...\n",
      "number of samples: 63828134\n",
      "number of channels: 32\n",
      "numbef of segments: 1\n",
      "sampling rate: 20000.0\n",
      "dtype: float32\n",
      "========================================\n",
      "Skipping common average reference.\n",
      "Preprocessing filters computed in  4.88s; total  4.88s\n",
      "Skipping drift correction.\n",
      "\n",
      "computing drift\n",
      "nblocks = 0, skipping drift correction\n",
      "drift computed in  0.00s; total  4.88s\n",
      "\n",
      "Extracting spikes using templates\n",
      "Re-computing universal templates from data.\n"
     ]
    },
    {
     "name": "stderr",
     "output_type": "stream",
     "text": [
      "/home/pc_lab/miniforge3/envs/kilosort_4_0_5/lib/python3.9/site-packages/kilosort/spikedetect.py:235: UserWarning: \n",
      "              NaNs and/or zeroes present in weights for spikedetect.run,\n",
      "              may need to adjust `min_template_size` and/or `dminx` \n",
      "              for best results.\n",
      "\n",
      "              If you're using a probe with multiple shanks, see \n",
      "              https://kilosort.readthedocs.io/en/latest/multi_shank.html\n",
      "              \n",
      "  warnings.warn(msg, UserWarning)\n",
      "100%|██████████| 1064/1064 [04:28<00:00,  3.97it/s]\n"
     ]
    },
    {
     "name": "stdout",
     "output_type": "stream",
     "text": [
      "974210 spikes extracted in  270.98s; total  275.86s\n",
      "\n",
      "First clustering\n"
     ]
    },
    {
     "name": "stderr",
     "output_type": "stream",
     "text": [
      "100%|██████████| 16/16 [00:18<00:00,  1.14s/it]\n"
     ]
    },
    {
     "name": "stdout",
     "output_type": "stream",
     "text": [
      "118 clusters found, in  18.34s; total  294.21s\n",
      "\n",
      "Extracting spikes using cluster waveforms\n"
     ]
    },
    {
     "name": "stderr",
     "output_type": "stream",
     "text": [
      "100%|██████████| 1064/1064 [01:03<00:00, 16.82it/s]\n"
     ]
    },
    {
     "name": "stdout",
     "output_type": "stream",
     "text": [
      "955730 spikes extracted in  63.47s; total  357.67s\n",
      "\n",
      "Final clustering\n"
     ]
    },
    {
     "name": "stderr",
     "output_type": "stream",
     "text": [
      "100%|██████████| 16/16 [00:14<00:00,  1.07it/s]\n"
     ]
    },
    {
     "name": "stdout",
     "output_type": "stream",
     "text": [
      "50 clusters found, in  14.91s; total  372.58s\n",
      "\n",
      "Merging clusters\n",
      "46 units found, in  0.27s; total  372.86s\n",
      "\n",
      "Saving to phy and computing refractory periods\n",
      "25 units found with good refractory periods\n",
      "\n",
      "Total runtime: 378.14s = 00:06:18 h:m:s\n"
     ]
    },
    {
     "name": "stderr",
     "output_type": "stream",
     "text": [
      "/home/pc_lab/miniforge3/envs/kilosort_4_0_5/lib/python3.9/site-packages/spikeinterface/core/basesorting.py:239: UserWarning: The registered recording will not be persistent on disk, but only available in memory\n",
      "  warnings.warn(\"The registered recording will not be persistent on disk, but only available in memory\")\n"
     ]
    },
    {
     "name": "stdout",
     "output_type": "stream",
     "text": [
      "Exporting waveforms\n"
     ]
    },
    {
     "data": {
      "application/vnd.jupyter.widget-view+json": {
       "model_id": "09eb8e8470ec499b90aaceebaf8565dd",
       "version_major": 2,
       "version_minor": 0
      },
      "text/plain": [
       "extract waveforms memmap multi buffer:   0%|          | 0/17 [00:00<?, ?it/s]"
      ]
     },
     "metadata": {},
     "output_type": "display_data"
    },
    {
     "name": "stdout",
     "output_type": "stream",
     "text": [
      "we_spike_sorted is sparse: False\n",
      "Saving to phy\n"
     ]
    },
    {
     "data": {
      "application/vnd.jupyter.widget-view+json": {
       "model_id": "cfefd77d31d8447b81bf7253c621ab73",
       "version_major": 2,
       "version_minor": 0
      },
      "text/plain": [
       "write_binary_recording:   0%|          | 0/3192 [00:00<?, ?it/s]"
      ]
     },
     "metadata": {},
     "output_type": "display_data"
    },
    {
     "data": {
      "application/vnd.jupyter.widget-view+json": {
       "model_id": "ae8fa3451f134bb8ba8d053f0a17ec3d",
       "version_major": 2,
       "version_minor": 0
      },
      "text/plain": [
       "extract amplitudes:   0%|          | 0/3192 [00:00<?, ?it/s]"
      ]
     },
     "metadata": {},
     "output_type": "display_data"
    },
    {
     "data": {
      "application/vnd.jupyter.widget-view+json": {
       "model_id": "a58fb47f6bfa47699f320adc7651c9b3",
       "version_major": 2,
       "version_minor": 0
      },
      "text/plain": [
       "Fitting PCA:   0%|          | 0/46 [00:00<?, ?it/s]"
      ]
     },
     "metadata": {},
     "output_type": "display_data"
    },
    {
     "data": {
      "application/vnd.jupyter.widget-view+json": {
       "model_id": "38899f61857249d3a400f13aac25bb0a",
       "version_major": 2,
       "version_minor": 0
      },
      "text/plain": [
       "Projecting waveforms:   0%|          | 0/46 [00:00<?, ?it/s]"
      ]
     },
     "metadata": {},
     "output_type": "display_data"
    },
    {
     "data": {
      "application/vnd.jupyter.widget-view+json": {
       "model_id": "50d255521947477dafb49f6cfaeef177",
       "version_major": 2,
       "version_minor": 0
      },
      "text/plain": [
       "extract PCs:   0%|          | 0/3192 [00:00<?, ?it/s]"
      ]
     },
     "metadata": {},
     "output_type": "display_data"
    },
    {
     "name": "stdout",
     "output_type": "stream",
     "text": [
      "Run:\n",
      "phy template-gui  /scratch/back_up/reward_competition_extention/proc/spike_sorting/20240411_155157_comp_novel_subj_3-4_t4b4_merged.rec/phy/params.py\n",
      "/scratch/back_up/reward_competition_extention/data/rce_cohort_3/novel/20240411_155157_comp_novel_subj_3-1_and_3-4_and_4-2_and_4-4.rec/20240411_155157_comp_novel_subj_3-1_t3b3_merged.rec\n",
      "Output directory: /scratch/back_up/reward_competition_extention/proc/spike_sorting/20240411_155157_comp_novel_subj_3-1_t3b3_merged.rec\n",
      "Running bandpass filter\n",
      "Running whitening\n",
      "Spike sorting\n",
      "========================================\n",
      "Loading recording with SpikeInterface...\n",
      "number of samples: 63794017\n",
      "number of channels: 32\n",
      "numbef of segments: 1\n",
      "sampling rate: 20000.0\n",
      "dtype: float32\n",
      "========================================\n",
      "Skipping common average reference.\n",
      "Preprocessing filters computed in  5.01s; total  5.01s\n",
      "Skipping drift correction.\n",
      "\n",
      "computing drift\n",
      "nblocks = 0, skipping drift correction\n",
      "drift computed in  0.00s; total  5.01s\n",
      "\n",
      "Extracting spikes using templates\n",
      "Re-computing universal templates from data.\n"
     ]
    },
    {
     "name": "stderr",
     "output_type": "stream",
     "text": [
      "/home/pc_lab/miniforge3/envs/kilosort_4_0_5/lib/python3.9/site-packages/kilosort/spikedetect.py:235: UserWarning: \n",
      "              NaNs and/or zeroes present in weights for spikedetect.run,\n",
      "              may need to adjust `min_template_size` and/or `dminx` \n",
      "              for best results.\n",
      "\n",
      "              If you're using a probe with multiple shanks, see \n",
      "              https://kilosort.readthedocs.io/en/latest/multi_shank.html\n",
      "              \n",
      "  warnings.warn(msg, UserWarning)\n",
      "100%|██████████| 1064/1064 [04:28<00:00,  3.96it/s]\n"
     ]
    },
    {
     "name": "stdout",
     "output_type": "stream",
     "text": [
      "1063097 spikes extracted in  271.78s; total  276.79s\n",
      "\n",
      "First clustering\n"
     ]
    },
    {
     "name": "stderr",
     "output_type": "stream",
     "text": [
      "100%|██████████| 16/16 [00:17<00:00,  1.09s/it]\n"
     ]
    },
    {
     "name": "stdout",
     "output_type": "stream",
     "text": [
      "108 clusters found, in  17.46s; total  294.25s\n",
      "\n",
      "Extracting spikes using cluster waveforms\n"
     ]
    },
    {
     "name": "stderr",
     "output_type": "stream",
     "text": [
      "100%|██████████| 1064/1064 [01:02<00:00, 17.01it/s]\n"
     ]
    },
    {
     "name": "stdout",
     "output_type": "stream",
     "text": [
      "1039380 spikes extracted in  62.79s; total  357.04s\n",
      "\n",
      "Final clustering\n"
     ]
    },
    {
     "name": "stderr",
     "output_type": "stream",
     "text": [
      "100%|██████████| 16/16 [00:16<00:00,  1.01s/it]\n"
     ]
    },
    {
     "name": "stdout",
     "output_type": "stream",
     "text": [
      "47 clusters found, in  16.12s; total  373.16s\n",
      "\n",
      "Merging clusters\n",
      "45 units found, in  0.29s; total  373.45s\n",
      "\n",
      "Saving to phy and computing refractory periods\n",
      "20 units found with good refractory periods\n",
      "\n",
      "Total runtime: 379.54s = 00:06:20 h:m:s\n"
     ]
    },
    {
     "name": "stderr",
     "output_type": "stream",
     "text": [
      "/home/pc_lab/miniforge3/envs/kilosort_4_0_5/lib/python3.9/site-packages/spikeinterface/core/basesorting.py:239: UserWarning: The registered recording will not be persistent on disk, but only available in memory\n",
      "  warnings.warn(\"The registered recording will not be persistent on disk, but only available in memory\")\n"
     ]
    },
    {
     "name": "stdout",
     "output_type": "stream",
     "text": [
      "Exporting waveforms\n"
     ]
    },
    {
     "data": {
      "application/vnd.jupyter.widget-view+json": {
       "model_id": "1b5a455de670465a95d9e22b07ad3288",
       "version_major": 2,
       "version_minor": 0
      },
      "text/plain": [
       "extract waveforms memmap multi buffer:   0%|          | 0/17 [00:00<?, ?it/s]"
      ]
     },
     "metadata": {},
     "output_type": "display_data"
    },
    {
     "name": "stdout",
     "output_type": "stream",
     "text": [
      "we_spike_sorted is sparse: False\n",
      "Saving to phy\n"
     ]
    },
    {
     "data": {
      "application/vnd.jupyter.widget-view+json": {
       "model_id": "77707749921049cab3b02f0c28ef87ec",
       "version_major": 2,
       "version_minor": 0
      },
      "text/plain": [
       "write_binary_recording:   0%|          | 0/3190 [00:00<?, ?it/s]"
      ]
     },
     "metadata": {},
     "output_type": "display_data"
    },
    {
     "data": {
      "application/vnd.jupyter.widget-view+json": {
       "model_id": "e4f7bc1177c141b0bc2e9928e8b71e3b",
       "version_major": 2,
       "version_minor": 0
      },
      "text/plain": [
       "extract amplitudes:   0%|          | 0/3190 [00:00<?, ?it/s]"
      ]
     },
     "metadata": {},
     "output_type": "display_data"
    },
    {
     "data": {
      "application/vnd.jupyter.widget-view+json": {
       "model_id": "56ba0e81880a4e65ac6827781c23832d",
       "version_major": 2,
       "version_minor": 0
      },
      "text/plain": [
       "Fitting PCA:   0%|          | 0/45 [00:00<?, ?it/s]"
      ]
     },
     "metadata": {},
     "output_type": "display_data"
    },
    {
     "data": {
      "application/vnd.jupyter.widget-view+json": {
       "model_id": "1850f4473a094903a4c5bbeb35a23f4e",
       "version_major": 2,
       "version_minor": 0
      },
      "text/plain": [
       "Projecting waveforms:   0%|          | 0/45 [00:00<?, ?it/s]"
      ]
     },
     "metadata": {},
     "output_type": "display_data"
    },
    {
     "data": {
      "application/vnd.jupyter.widget-view+json": {
       "model_id": "d06b562e8d5a4bfe892ed953b4917fd5",
       "version_major": 2,
       "version_minor": 0
      },
      "text/plain": [
       "extract PCs:   0%|          | 0/3190 [00:00<?, ?it/s]"
      ]
     },
     "metadata": {},
     "output_type": "display_data"
    },
    {
     "name": "stdout",
     "output_type": "stream",
     "text": [
      "Run:\n",
      "phy template-gui  /scratch/back_up/reward_competition_extention/proc/spike_sorting/20240411_155157_comp_novel_subj_3-1_t3b3_merged.rec/phy/params.py\n",
      "/scratch/back_up/reward_competition_extention/data/rce_cohort_3/novel/20240411_155157_comp_novel_subj_3-1_and_3-4_and_4-2_and_4-4.rec/20240411_155157_comp_novel_subj_4-2_t6b6_merged.rec\n",
      "Output directory: /scratch/back_up/reward_competition_extention/proc/spike_sorting/20240411_155157_comp_novel_subj_4-2_t6b6_merged.rec\n",
      "Running bandpass filter\n",
      "Running whitening\n",
      "Spike sorting\n",
      "========================================\n",
      "Loading recording with SpikeInterface...\n",
      "number of samples: 63828441\n",
      "number of channels: 32\n",
      "numbef of segments: 1\n",
      "sampling rate: 20000.0\n",
      "dtype: float32\n",
      "========================================\n",
      "Skipping common average reference.\n",
      "Preprocessing filters computed in  4.95s; total  4.95s\n",
      "Skipping drift correction.\n",
      "\n",
      "computing drift\n",
      "nblocks = 0, skipping drift correction\n",
      "drift computed in  0.00s; total  4.95s\n",
      "\n",
      "Extracting spikes using templates\n",
      "Re-computing universal templates from data.\n"
     ]
    },
    {
     "name": "stderr",
     "output_type": "stream",
     "text": [
      "/home/pc_lab/miniforge3/envs/kilosort_4_0_5/lib/python3.9/site-packages/kilosort/spikedetect.py:235: UserWarning: \n",
      "              NaNs and/or zeroes present in weights for spikedetect.run,\n",
      "              may need to adjust `min_template_size` and/or `dminx` \n",
      "              for best results.\n",
      "\n",
      "              If you're using a probe with multiple shanks, see \n",
      "              https://kilosort.readthedocs.io/en/latest/multi_shank.html\n",
      "              \n",
      "  warnings.warn(msg, UserWarning)\n",
      "100%|██████████| 1064/1064 [04:27<00:00,  3.98it/s]\n"
     ]
    },
    {
     "name": "stdout",
     "output_type": "stream",
     "text": [
      "993125 spikes extracted in  269.90s; total  274.85s\n",
      "\n",
      "First clustering\n"
     ]
    },
    {
     "name": "stderr",
     "output_type": "stream",
     "text": [
      "100%|██████████| 16/16 [00:16<00:00,  1.01s/it]\n",
      "/home/pc_lab/miniforge3/envs/kilosort_4_0_5/lib/python3.9/site-packages/kilosort/template_matching.py:71: UserWarning: Plan failed with a cudnnException: CUDNN_BACKEND_EXECUTION_PLAN_DESCRIPTOR: cudnnFinalize Descriptor Failed cudnn_status: CUDNN_STATUS_NOT_SUPPORTED (Triggered internally at /opt/conda/conda-bld/pytorch_1712608885084/work/aten/src/ATen/native/cudnn/Conv_v8.cpp:919.)\n",
      "  X = conv1d(X.unsqueeze(1), ops['wTEMP'].unsqueeze(1), padding=ops['nt']//2)\n"
     ]
    },
    {
     "name": "stdout",
     "output_type": "stream",
     "text": [
      "129 clusters found, in  16.30s; total  291.15s\n",
      "\n",
      "Extracting spikes using cluster waveforms\n"
     ]
    },
    {
     "name": "stderr",
     "output_type": "stream",
     "text": [
      "100%|██████████| 1064/1064 [01:03<00:00, 16.79it/s]\n"
     ]
    },
    {
     "name": "stdout",
     "output_type": "stream",
     "text": [
      "1095691 spikes extracted in  63.61s; total  354.76s\n",
      "\n",
      "Final clustering\n"
     ]
    },
    {
     "name": "stderr",
     "output_type": "stream",
     "text": [
      "100%|██████████| 16/16 [00:16<00:00,  1.04s/it]\n"
     ]
    },
    {
     "name": "stdout",
     "output_type": "stream",
     "text": [
      "44 clusters found, in  16.66s; total  371.42s\n",
      "\n",
      "Merging clusters\n",
      "44 units found, in  0.26s; total  371.68s\n",
      "\n",
      "Saving to phy and computing refractory periods\n",
      "15 units found with good refractory periods\n",
      "\n",
      "Total runtime: 377.72s = 00:06:18 h:m:s\n"
     ]
    },
    {
     "name": "stderr",
     "output_type": "stream",
     "text": [
      "/home/pc_lab/miniforge3/envs/kilosort_4_0_5/lib/python3.9/site-packages/spikeinterface/core/basesorting.py:239: UserWarning: The registered recording will not be persistent on disk, but only available in memory\n",
      "  warnings.warn(\"The registered recording will not be persistent on disk, but only available in memory\")\n"
     ]
    },
    {
     "name": "stdout",
     "output_type": "stream",
     "text": [
      "Exporting waveforms\n"
     ]
    },
    {
     "data": {
      "application/vnd.jupyter.widget-view+json": {
       "model_id": "7cb6dfa388b14bd18c450ea9a0bdb75b",
       "version_major": 2,
       "version_minor": 0
      },
      "text/plain": [
       "extract waveforms memmap multi buffer:   0%|          | 0/17 [00:00<?, ?it/s]"
      ]
     },
     "metadata": {},
     "output_type": "display_data"
    },
    {
     "name": "stdout",
     "output_type": "stream",
     "text": [
      "we_spike_sorted is sparse: False\n",
      "Saving to phy\n"
     ]
    },
    {
     "data": {
      "application/vnd.jupyter.widget-view+json": {
       "model_id": "1571bfb8c8a14566961c51bdd9bd25c3",
       "version_major": 2,
       "version_minor": 0
      },
      "text/plain": [
       "write_binary_recording:   0%|          | 0/3192 [00:00<?, ?it/s]"
      ]
     },
     "metadata": {},
     "output_type": "display_data"
    },
    {
     "data": {
      "application/vnd.jupyter.widget-view+json": {
       "model_id": "2c683620e25f4dc8a67b2bd6b2275745",
       "version_major": 2,
       "version_minor": 0
      },
      "text/plain": [
       "extract amplitudes:   0%|          | 0/3192 [00:00<?, ?it/s]"
      ]
     },
     "metadata": {},
     "output_type": "display_data"
    },
    {
     "data": {
      "application/vnd.jupyter.widget-view+json": {
       "model_id": "b4bfd3ebb08e4befa7194cf6f354fc6c",
       "version_major": 2,
       "version_minor": 0
      },
      "text/plain": [
       "Fitting PCA:   0%|          | 0/44 [00:00<?, ?it/s]"
      ]
     },
     "metadata": {},
     "output_type": "display_data"
    },
    {
     "data": {
      "application/vnd.jupyter.widget-view+json": {
       "model_id": "d9b3b195cc1e4b92abf40d7eb0dfae52",
       "version_major": 2,
       "version_minor": 0
      },
      "text/plain": [
       "Projecting waveforms:   0%|          | 0/44 [00:00<?, ?it/s]"
      ]
     },
     "metadata": {},
     "output_type": "display_data"
    },
    {
     "data": {
      "application/vnd.jupyter.widget-view+json": {
       "model_id": "b83be0ff129043f29bd2ecc69306bbfc",
       "version_major": 2,
       "version_minor": 0
      },
      "text/plain": [
       "extract PCs:   0%|          | 0/3192 [00:00<?, ?it/s]"
      ]
     },
     "metadata": {},
     "output_type": "display_data"
    },
    {
     "name": "stdout",
     "output_type": "stream",
     "text": [
      "Run:\n",
      "phy template-gui  /scratch/back_up/reward_competition_extention/proc/spike_sorting/20240411_155157_comp_novel_subj_4-2_t6b6_merged.rec/phy/params.py\n",
      "/scratch/back_up/reward_competition_extention/data/rce_cohort_3/novel/20240411_155157_comp_novel_subj_3-1_and_3-4_and_4-2_and_4-4.rec/20240411_155157_comp_novel_subj_4-4_t5b5_merged.rec\n",
      "Output directory: /scratch/back_up/reward_competition_extention/proc/spike_sorting/20240411_155157_comp_novel_subj_4-4_t5b5_merged.rec\n",
      "Running bandpass filter\n",
      "Running whitening\n",
      "Spike sorting\n",
      "========================================\n",
      "Loading recording with SpikeInterface...\n",
      "number of samples: 63825979\n",
      "number of channels: 32\n",
      "numbef of segments: 1\n",
      "sampling rate: 20000.0\n",
      "dtype: float32\n",
      "========================================\n",
      "Skipping common average reference.\n",
      "Preprocessing filters computed in  4.72s; total  4.72s\n",
      "Skipping drift correction.\n",
      "\n",
      "computing drift\n",
      "nblocks = 0, skipping drift correction\n",
      "drift computed in  0.00s; total  4.72s\n",
      "\n",
      "Extracting spikes using templates\n",
      "Re-computing universal templates from data.\n"
     ]
    },
    {
     "name": "stderr",
     "output_type": "stream",
     "text": [
      "/home/pc_lab/miniforge3/envs/kilosort_4_0_5/lib/python3.9/site-packages/kilosort/spikedetect.py:235: UserWarning: \n",
      "              NaNs and/or zeroes present in weights for spikedetect.run,\n",
      "              may need to adjust `min_template_size` and/or `dminx` \n",
      "              for best results.\n",
      "\n",
      "              If you're using a probe with multiple shanks, see \n",
      "              https://kilosort.readthedocs.io/en/latest/multi_shank.html\n",
      "              \n",
      "  warnings.warn(msg, UserWarning)\n",
      "100%|██████████| 1064/1064 [04:28<00:00,  3.97it/s]\n"
     ]
    },
    {
     "name": "stdout",
     "output_type": "stream",
     "text": [
      "384864 spikes extracted in  270.50s; total  275.22s\n",
      "\n",
      "First clustering\n"
     ]
    },
    {
     "name": "stderr",
     "output_type": "stream",
     "text": [
      "100%|██████████| 16/16 [00:07<00:00,  2.13it/s]\n",
      "/home/pc_lab/miniforge3/envs/kilosort_4_0_5/lib/python3.9/site-packages/kilosort/template_matching.py:71: UserWarning: Plan failed with a cudnnException: CUDNN_BACKEND_EXECUTION_PLAN_DESCRIPTOR: cudnnFinalize Descriptor Failed cudnn_status: CUDNN_STATUS_NOT_SUPPORTED (Triggered internally at /opt/conda/conda-bld/pytorch_1712608885084/work/aten/src/ATen/native/cudnn/Conv_v8.cpp:919.)\n",
      "  X = conv1d(X.unsqueeze(1), ops['wTEMP'].unsqueeze(1), padding=ops['nt']//2)\n"
     ]
    },
    {
     "name": "stdout",
     "output_type": "stream",
     "text": [
      "65 clusters found, in  7.59s; total  282.81s\n",
      "\n",
      "Extracting spikes using cluster waveforms\n"
     ]
    },
    {
     "name": "stderr",
     "output_type": "stream",
     "text": [
      "100%|██████████| 1064/1064 [00:57<00:00, 18.51it/s]\n"
     ]
    },
    {
     "name": "stdout",
     "output_type": "stream",
     "text": [
      "485591 spikes extracted in  57.59s; total  340.40s\n",
      "\n",
      "Final clustering\n"
     ]
    },
    {
     "name": "stderr",
     "output_type": "stream",
     "text": [
      "100%|██████████| 16/16 [00:07<00:00,  2.06it/s]\n"
     ]
    },
    {
     "name": "stdout",
     "output_type": "stream",
     "text": [
      "20 clusters found, in  7.79s; total  348.20s\n",
      "\n",
      "Merging clusters\n",
      "20 units found, in  0.15s; total  348.34s\n",
      "\n",
      "Saving to phy and computing refractory periods\n",
      "0 units found with good refractory periods\n",
      "\n",
      "Total runtime: 350.94s = 00:05:51 h:m:s\n"
     ]
    },
    {
     "name": "stderr",
     "output_type": "stream",
     "text": [
      "/home/pc_lab/miniforge3/envs/kilosort_4_0_5/lib/python3.9/site-packages/spikeinterface/core/basesorting.py:239: UserWarning: The registered recording will not be persistent on disk, but only available in memory\n",
      "  warnings.warn(\"The registered recording will not be persistent on disk, but only available in memory\")\n"
     ]
    },
    {
     "name": "stdout",
     "output_type": "stream",
     "text": [
      "Exporting waveforms\n"
     ]
    },
    {
     "data": {
      "application/vnd.jupyter.widget-view+json": {
       "model_id": "33170d9c45764e56bec475ed8891e10c",
       "version_major": 2,
       "version_minor": 0
      },
      "text/plain": [
       "extract waveforms memmap multi buffer:   0%|          | 0/17 [00:00<?, ?it/s]"
      ]
     },
     "metadata": {},
     "output_type": "display_data"
    },
    {
     "name": "stdout",
     "output_type": "stream",
     "text": [
      "we_spike_sorted is sparse: False\n",
      "Saving to phy\n"
     ]
    },
    {
     "data": {
      "application/vnd.jupyter.widget-view+json": {
       "model_id": "e5ad1168c1a84a3784950e0b5b7c9c7f",
       "version_major": 2,
       "version_minor": 0
      },
      "text/plain": [
       "write_binary_recording:   0%|          | 0/3192 [00:00<?, ?it/s]"
      ]
     },
     "metadata": {},
     "output_type": "display_data"
    },
    {
     "data": {
      "application/vnd.jupyter.widget-view+json": {
       "model_id": "9a6665318a93481c8af7d5b9525b56ad",
       "version_major": 2,
       "version_minor": 0
      },
      "text/plain": [
       "extract amplitudes:   0%|          | 0/3192 [00:00<?, ?it/s]"
      ]
     },
     "metadata": {},
     "output_type": "display_data"
    },
    {
     "data": {
      "application/vnd.jupyter.widget-view+json": {
       "model_id": "0d97c500b5b14f9f99ccf3d1582b727f",
       "version_major": 2,
       "version_minor": 0
      },
      "text/plain": [
       "Fitting PCA:   0%|          | 0/20 [00:00<?, ?it/s]"
      ]
     },
     "metadata": {},
     "output_type": "display_data"
    },
    {
     "data": {
      "application/vnd.jupyter.widget-view+json": {
       "model_id": "5eb9e7c083b144f196634981f267cd1c",
       "version_major": 2,
       "version_minor": 0
      },
      "text/plain": [
       "Projecting waveforms:   0%|          | 0/20 [00:00<?, ?it/s]"
      ]
     },
     "metadata": {},
     "output_type": "display_data"
    },
    {
     "data": {
      "application/vnd.jupyter.widget-view+json": {
       "model_id": "402eb76878cd46d4bff67ba77fae4343",
       "version_major": 2,
       "version_minor": 0
      },
      "text/plain": [
       "extract PCs:   0%|          | 0/3192 [00:00<?, ?it/s]"
      ]
     },
     "metadata": {},
     "output_type": "display_data"
    },
    {
     "name": "stdout",
     "output_type": "stream",
     "text": [
      "Run:\n",
      "phy template-gui  /scratch/back_up/reward_competition_extention/proc/spike_sorting/20240411_155157_comp_novel_subj_4-4_t5b5_merged.rec/phy/params.py\n",
      "/scratch/back_up/reward_competition_extention/data/rce_cohort_3/novel/20240412_161135_comp_novel_subj_4-2_and_4-4_and_5-2_and_5-3.rec/20240412_161135_comp_novel_subj_5-3_t6b6_merged.rec\n",
      "Output directory: /scratch/back_up/reward_competition_extention/proc/spike_sorting/20240412_161135_comp_novel_subj_5-3_t6b6_merged.rec\n",
      "Running bandpass filter\n",
      "Running whitening\n",
      "Spike sorting\n",
      "========================================\n",
      "Loading recording with SpikeInterface...\n",
      "number of samples: 63227007\n",
      "number of channels: 32\n",
      "numbef of segments: 1\n",
      "sampling rate: 20000.0\n",
      "dtype: float32\n",
      "========================================\n",
      "Skipping common average reference.\n",
      "Preprocessing filters computed in  4.97s; total  4.97s\n",
      "Skipping drift correction.\n",
      "\n",
      "computing drift\n",
      "nblocks = 0, skipping drift correction\n",
      "drift computed in  0.00s; total  4.97s\n",
      "\n",
      "Extracting spikes using templates\n",
      "Re-computing universal templates from data.\n"
     ]
    },
    {
     "name": "stderr",
     "output_type": "stream",
     "text": [
      "/home/pc_lab/miniforge3/envs/kilosort_4_0_5/lib/python3.9/site-packages/kilosort/spikedetect.py:235: UserWarning: \n",
      "              NaNs and/or zeroes present in weights for spikedetect.run,\n",
      "              may need to adjust `min_template_size` and/or `dminx` \n",
      "              for best results.\n",
      "\n",
      "              If you're using a probe with multiple shanks, see \n",
      "              https://kilosort.readthedocs.io/en/latest/multi_shank.html\n",
      "              \n",
      "  warnings.warn(msg, UserWarning)\n",
      "100%|██████████| 1054/1054 [04:26<00:00,  3.96it/s]\n"
     ]
    },
    {
     "name": "stdout",
     "output_type": "stream",
     "text": [
      "503347 spikes extracted in  268.64s; total  273.60s\n",
      "\n",
      "First clustering\n"
     ]
    },
    {
     "name": "stderr",
     "output_type": "stream",
     "text": [
      "100%|██████████| 16/16 [00:08<00:00,  1.81it/s]\n"
     ]
    },
    {
     "name": "stdout",
     "output_type": "stream",
     "text": [
      "70 clusters found, in  8.92s; total  282.52s\n",
      "\n",
      "Extracting spikes using cluster waveforms\n"
     ]
    },
    {
     "name": "stderr",
     "output_type": "stream",
     "text": [
      "100%|██████████| 1054/1054 [01:13<00:00, 14.33it/s]\n"
     ]
    },
    {
     "name": "stdout",
     "output_type": "stream",
     "text": [
      "850064 spikes extracted in  73.74s; total  356.26s\n",
      "\n",
      "Final clustering\n"
     ]
    },
    {
     "name": "stderr",
     "output_type": "stream",
     "text": [
      "100%|██████████| 16/16 [00:12<00:00,  1.24it/s]\n"
     ]
    },
    {
     "name": "stdout",
     "output_type": "stream",
     "text": [
      "55 clusters found, in  12.90s; total  369.16s\n",
      "\n",
      "Merging clusters\n",
      "55 units found, in  0.28s; total  369.44s\n",
      "\n",
      "Saving to phy and computing refractory periods\n",
      "3 units found with good refractory periods\n",
      "\n",
      "Total runtime: 374.33s = 00:06:14 h:m:s\n"
     ]
    },
    {
     "name": "stderr",
     "output_type": "stream",
     "text": [
      "/home/pc_lab/miniforge3/envs/kilosort_4_0_5/lib/python3.9/site-packages/spikeinterface/core/basesorting.py:239: UserWarning: The registered recording will not be persistent on disk, but only available in memory\n",
      "  warnings.warn(\"The registered recording will not be persistent on disk, but only available in memory\")\n"
     ]
    },
    {
     "name": "stdout",
     "output_type": "stream",
     "text": [
      "Exporting waveforms\n"
     ]
    },
    {
     "data": {
      "application/vnd.jupyter.widget-view+json": {
       "model_id": "f788964b1fcd4a3e81b36c9df8bb6368",
       "version_major": 2,
       "version_minor": 0
      },
      "text/plain": [
       "extract waveforms memmap multi buffer:   0%|          | 0/17 [00:00<?, ?it/s]"
      ]
     },
     "metadata": {},
     "output_type": "display_data"
    },
    {
     "name": "stdout",
     "output_type": "stream",
     "text": [
      "we_spike_sorted is sparse: False\n",
      "Saving to phy\n"
     ]
    },
    {
     "data": {
      "application/vnd.jupyter.widget-view+json": {
       "model_id": "25e1d858463b4183a47dd30687f58356",
       "version_major": 2,
       "version_minor": 0
      },
      "text/plain": [
       "write_binary_recording:   0%|          | 0/3162 [00:00<?, ?it/s]"
      ]
     },
     "metadata": {},
     "output_type": "display_data"
    },
    {
     "data": {
      "application/vnd.jupyter.widget-view+json": {
       "model_id": "81032591a9564fa98522caaf9c7c52b0",
       "version_major": 2,
       "version_minor": 0
      },
      "text/plain": [
       "extract amplitudes:   0%|          | 0/3162 [00:00<?, ?it/s]"
      ]
     },
     "metadata": {},
     "output_type": "display_data"
    },
    {
     "data": {
      "application/vnd.jupyter.widget-view+json": {
       "model_id": "2ae55f43e8ce4314bfe757164141a8fe",
       "version_major": 2,
       "version_minor": 0
      },
      "text/plain": [
       "Fitting PCA:   0%|          | 0/55 [00:00<?, ?it/s]"
      ]
     },
     "metadata": {},
     "output_type": "display_data"
    },
    {
     "data": {
      "application/vnd.jupyter.widget-view+json": {
       "model_id": "823b5b6522f241c988cf93729ac4fab3",
       "version_major": 2,
       "version_minor": 0
      },
      "text/plain": [
       "Projecting waveforms:   0%|          | 0/55 [00:00<?, ?it/s]"
      ]
     },
     "metadata": {},
     "output_type": "display_data"
    },
    {
     "data": {
      "application/vnd.jupyter.widget-view+json": {
       "model_id": "215e485caaee40b1a3371f42cfc278c8",
       "version_major": 2,
       "version_minor": 0
      },
      "text/plain": [
       "extract PCs:   0%|          | 0/3162 [00:00<?, ?it/s]"
      ]
     },
     "metadata": {},
     "output_type": "display_data"
    },
    {
     "name": "stdout",
     "output_type": "stream",
     "text": [
      "Run:\n",
      "phy template-gui  /scratch/back_up/reward_competition_extention/proc/spike_sorting/20240412_161135_comp_novel_subj_5-3_t6b6_merged.rec/phy/params.py\n",
      "/scratch/back_up/reward_competition_extention/data/rce_cohort_3/novel/20240412_161135_comp_novel_subj_4-2_and_4-4_and_5-2_and_5-3.rec/20240412_161135_comp_novel_subj_4-4_t4b4_merged.rec\n",
      "Output directory: /scratch/back_up/reward_competition_extention/proc/spike_sorting/20240412_161135_comp_novel_subj_4-4_t4b4_merged.rec\n",
      "Running bandpass filter\n",
      "Running whitening\n",
      "Spike sorting\n",
      "========================================\n",
      "Loading recording with SpikeInterface...\n",
      "number of samples: 63226690\n",
      "number of channels: 32\n",
      "numbef of segments: 1\n",
      "sampling rate: 20000.0\n",
      "dtype: float32\n",
      "========================================\n",
      "Skipping common average reference.\n",
      "Preprocessing filters computed in  4.89s; total  4.89s\n",
      "Skipping drift correction.\n",
      "\n",
      "computing drift\n",
      "nblocks = 0, skipping drift correction\n",
      "drift computed in  0.00s; total  4.89s\n",
      "\n",
      "Extracting spikes using templates\n",
      "Re-computing universal templates from data.\n"
     ]
    },
    {
     "name": "stderr",
     "output_type": "stream",
     "text": [
      "/home/pc_lab/miniforge3/envs/kilosort_4_0_5/lib/python3.9/site-packages/kilosort/spikedetect.py:235: UserWarning: \n",
      "              NaNs and/or zeroes present in weights for spikedetect.run,\n",
      "              may need to adjust `min_template_size` and/or `dminx` \n",
      "              for best results.\n",
      "\n",
      "              If you're using a probe with multiple shanks, see \n",
      "              https://kilosort.readthedocs.io/en/latest/multi_shank.html\n",
      "              \n",
      "  warnings.warn(msg, UserWarning)\n",
      "100%|██████████| 1054/1054 [04:25<00:00,  3.97it/s]\n"
     ]
    },
    {
     "name": "stdout",
     "output_type": "stream",
     "text": [
      "200148 spikes extracted in  268.14s; total  273.03s\n",
      "\n",
      "First clustering\n"
     ]
    },
    {
     "name": "stderr",
     "output_type": "stream",
     "text": [
      "100%|██████████| 16/16 [00:04<00:00,  3.36it/s]\n"
     ]
    },
    {
     "name": "stdout",
     "output_type": "stream",
     "text": [
      "56 clusters found, in  4.84s; total  277.87s\n",
      "\n",
      "Extracting spikes using cluster waveforms\n"
     ]
    },
    {
     "name": "stderr",
     "output_type": "stream",
     "text": [
      "100%|██████████| 1054/1054 [00:58<00:00, 17.88it/s]\n"
     ]
    },
    {
     "name": "stdout",
     "output_type": "stream",
     "text": [
      "347560 spikes extracted in  59.06s; total  336.92s\n",
      "\n",
      "Final clustering\n"
     ]
    },
    {
     "name": "stderr",
     "output_type": "stream",
     "text": [
      "100%|██████████| 16/16 [00:05<00:00,  2.72it/s] \n"
     ]
    },
    {
     "name": "stdout",
     "output_type": "stream",
     "text": [
      "25 clusters found, in  5.90s; total  342.83s\n",
      "\n",
      "Merging clusters\n",
      "25 units found, in  0.09s; total  342.92s\n",
      "\n",
      "Saving to phy and computing refractory periods\n",
      "2 units found with good refractory periods\n",
      "\n",
      "Total runtime: 344.76s = 00:05:45 h:m:s\n"
     ]
    },
    {
     "name": "stderr",
     "output_type": "stream",
     "text": [
      "/home/pc_lab/miniforge3/envs/kilosort_4_0_5/lib/python3.9/site-packages/spikeinterface/core/basesorting.py:239: UserWarning: The registered recording will not be persistent on disk, but only available in memory\n",
      "  warnings.warn(\"The registered recording will not be persistent on disk, but only available in memory\")\n"
     ]
    },
    {
     "name": "stdout",
     "output_type": "stream",
     "text": [
      "Exporting waveforms\n"
     ]
    },
    {
     "data": {
      "application/vnd.jupyter.widget-view+json": {
       "model_id": "6660f5b062d5441ebd18e328ae86176e",
       "version_major": 2,
       "version_minor": 0
      },
      "text/plain": [
       "extract waveforms memmap multi buffer:   0%|          | 0/17 [00:00<?, ?it/s]"
      ]
     },
     "metadata": {},
     "output_type": "display_data"
    },
    {
     "name": "stdout",
     "output_type": "stream",
     "text": [
      "we_spike_sorted is sparse: False\n",
      "Saving to phy\n"
     ]
    },
    {
     "data": {
      "application/vnd.jupyter.widget-view+json": {
       "model_id": "d6592ef936e7429397f6ac17a6528624",
       "version_major": 2,
       "version_minor": 0
      },
      "text/plain": [
       "write_binary_recording:   0%|          | 0/3162 [00:00<?, ?it/s]"
      ]
     },
     "metadata": {},
     "output_type": "display_data"
    },
    {
     "data": {
      "application/vnd.jupyter.widget-view+json": {
       "model_id": "2714c1f7dbdb487e8a156868afd90ad9",
       "version_major": 2,
       "version_minor": 0
      },
      "text/plain": [
       "extract amplitudes:   0%|          | 0/3162 [00:00<?, ?it/s]"
      ]
     },
     "metadata": {},
     "output_type": "display_data"
    },
    {
     "data": {
      "application/vnd.jupyter.widget-view+json": {
       "model_id": "e9909819d36146bab725ec1b6b1811e4",
       "version_major": 2,
       "version_minor": 0
      },
      "text/plain": [
       "Fitting PCA:   0%|          | 0/25 [00:00<?, ?it/s]"
      ]
     },
     "metadata": {},
     "output_type": "display_data"
    },
    {
     "data": {
      "application/vnd.jupyter.widget-view+json": {
       "model_id": "cb8fa172eb0e48dea8a61ec919d4ff63",
       "version_major": 2,
       "version_minor": 0
      },
      "text/plain": [
       "Projecting waveforms:   0%|          | 0/25 [00:00<?, ?it/s]"
      ]
     },
     "metadata": {},
     "output_type": "display_data"
    },
    {
     "data": {
      "application/vnd.jupyter.widget-view+json": {
       "model_id": "423ff99b542b4b51b48be567243ef9b3",
       "version_major": 2,
       "version_minor": 0
      },
      "text/plain": [
       "extract PCs:   0%|          | 0/3162 [00:00<?, ?it/s]"
      ]
     },
     "metadata": {},
     "output_type": "display_data"
    },
    {
     "name": "stdout",
     "output_type": "stream",
     "text": [
      "Run:\n",
      "phy template-gui  /scratch/back_up/reward_competition_extention/proc/spike_sorting/20240412_161135_comp_novel_subj_4-4_t4b4_merged.rec/phy/params.py\n",
      "/scratch/back_up/reward_competition_extention/data/rce_cohort_3/novel/20240412_161135_comp_novel_subj_4-2_and_4-4_and_5-2_and_5-3.rec/20240412_161135_comp_novel_subj_5-2_t5b5_merged.rec\n",
      "Output directory: /scratch/back_up/reward_competition_extention/proc/spike_sorting/20240412_161135_comp_novel_subj_5-2_t5b5_merged.rec\n",
      "Running bandpass filter\n",
      "Running whitening\n",
      "Spike sorting\n",
      "========================================\n",
      "Loading recording with SpikeInterface...\n",
      "number of samples: 63226902\n",
      "number of channels: 32\n",
      "numbef of segments: 1\n",
      "sampling rate: 20000.0\n",
      "dtype: float32\n",
      "========================================\n",
      "Skipping common average reference.\n",
      "Preprocessing filters computed in  5.10s; total  5.10s\n",
      "Skipping drift correction.\n",
      "\n",
      "computing drift\n",
      "nblocks = 0, skipping drift correction\n",
      "drift computed in  0.00s; total  5.10s\n",
      "\n",
      "Extracting spikes using templates\n",
      "Re-computing universal templates from data.\n"
     ]
    },
    {
     "name": "stderr",
     "output_type": "stream",
     "text": [
      "/home/pc_lab/miniforge3/envs/kilosort_4_0_5/lib/python3.9/site-packages/kilosort/spikedetect.py:235: UserWarning: \n",
      "              NaNs and/or zeroes present in weights for spikedetect.run,\n",
      "              may need to adjust `min_template_size` and/or `dminx` \n",
      "              for best results.\n",
      "\n",
      "              If you're using a probe with multiple shanks, see \n",
      "              https://kilosort.readthedocs.io/en/latest/multi_shank.html\n",
      "              \n",
      "  warnings.warn(msg, UserWarning)\n",
      "100%|██████████| 1054/1054 [04:24<00:00,  3.98it/s]\n"
     ]
    },
    {
     "name": "stdout",
     "output_type": "stream",
     "text": [
      "1022258 spikes extracted in  267.69s; total  272.79s\n",
      "\n",
      "First clustering\n"
     ]
    },
    {
     "name": "stderr",
     "output_type": "stream",
     "text": [
      "100%|██████████| 16/16 [00:15<00:00,  1.04it/s]\n",
      "/home/pc_lab/miniforge3/envs/kilosort_4_0_5/lib/python3.9/site-packages/kilosort/template_matching.py:71: UserWarning: Plan failed with a cudnnException: CUDNN_BACKEND_EXECUTION_PLAN_DESCRIPTOR: cudnnFinalize Descriptor Failed cudnn_status: CUDNN_STATUS_NOT_SUPPORTED (Triggered internally at /opt/conda/conda-bld/pytorch_1712608885084/work/aten/src/ATen/native/cudnn/Conv_v8.cpp:919.)\n",
      "  X = conv1d(X.unsqueeze(1), ops['wTEMP'].unsqueeze(1), padding=ops['nt']//2)\n"
     ]
    },
    {
     "name": "stdout",
     "output_type": "stream",
     "text": [
      "69 clusters found, in  15.49s; total  288.28s\n",
      "\n",
      "Extracting spikes using cluster waveforms\n"
     ]
    },
    {
     "name": "stderr",
     "output_type": "stream",
     "text": [
      "100%|██████████| 1054/1054 [01:24<00:00, 12.41it/s]\n"
     ]
    },
    {
     "name": "stdout",
     "output_type": "stream",
     "text": [
      "1097574 spikes extracted in  85.15s; total  373.43s\n",
      "\n",
      "Final clustering\n"
     ]
    },
    {
     "name": "stderr",
     "output_type": "stream",
     "text": [
      "100%|██████████| 16/16 [00:16<00:00,  1.03s/it]\n"
     ]
    },
    {
     "name": "stdout",
     "output_type": "stream",
     "text": [
      "42 clusters found, in  16.54s; total  389.97s\n",
      "\n",
      "Merging clusters\n",
      "42 units found, in  0.36s; total  390.33s\n",
      "\n",
      "Saving to phy and computing refractory periods\n",
      "2 units found with good refractory periods\n",
      "\n",
      "Total runtime: 395.79s = 00:06:36 h:m:s\n"
     ]
    },
    {
     "name": "stderr",
     "output_type": "stream",
     "text": [
      "/home/pc_lab/miniforge3/envs/kilosort_4_0_5/lib/python3.9/site-packages/spikeinterface/core/basesorting.py:175: UserWarning: Some spikes exceed the recording's duration! Removing these excess spikes with `spikeinterface.curation.remove_excess_spikes()` Might be necessary for further postprocessing.\n",
      "  warnings.warn(\n",
      "/home/pc_lab/miniforge3/envs/kilosort_4_0_5/lib/python3.9/site-packages/spikeinterface/core/basesorting.py:239: UserWarning: The registered recording will not be persistent on disk, but only available in memory\n",
      "  warnings.warn(\"The registered recording will not be persistent on disk, but only available in memory\")\n"
     ]
    },
    {
     "name": "stdout",
     "output_type": "stream",
     "text": [
      "Exporting waveforms\n",
      "The sorting object has spikes exceeding the recording duration. You have to remove those spikes with the `spikeinterface.curation.remove_excess_spikes()` function\n",
      "/scratch/back_up/reward_competition_extention/data/rce_cohort_3/novel/20240412_161135_comp_novel_subj_4-2_and_4-4_and_5-2_and_5-3.rec/20240412_161135_comp_novel_subj_4-2_t3b3_merged.rec\n",
      "Output directory: /scratch/back_up/reward_competition_extention/proc/spike_sorting/20240412_161135_comp_novel_subj_4-2_t3b3_merged.rec\n",
      "Running bandpass filter\n",
      "Running whitening\n",
      "Spike sorting\n",
      "========================================\n",
      "Loading recording with SpikeInterface...\n",
      "number of samples: 63226708\n",
      "number of channels: 32\n",
      "numbef of segments: 1\n",
      "sampling rate: 20000.0\n",
      "dtype: float32\n",
      "========================================\n",
      "Skipping common average reference.\n",
      "Preprocessing filters computed in  4.73s; total  4.73s\n",
      "Skipping drift correction.\n",
      "\n",
      "computing drift\n",
      "nblocks = 0, skipping drift correction\n",
      "drift computed in  0.00s; total  4.73s\n",
      "\n",
      "Extracting spikes using templates\n",
      "Re-computing universal templates from data.\n"
     ]
    },
    {
     "name": "stderr",
     "output_type": "stream",
     "text": [
      "/home/pc_lab/miniforge3/envs/kilosort_4_0_5/lib/python3.9/site-packages/kilosort/spikedetect.py:235: UserWarning: \n",
      "              NaNs and/or zeroes present in weights for spikedetect.run,\n",
      "              may need to adjust `min_template_size` and/or `dminx` \n",
      "              for best results.\n",
      "\n",
      "              If you're using a probe with multiple shanks, see \n",
      "              https://kilosort.readthedocs.io/en/latest/multi_shank.html\n",
      "              \n",
      "  warnings.warn(msg, UserWarning)\n",
      "100%|██████████| 1054/1054 [04:26<00:00,  3.96it/s]\n"
     ]
    },
    {
     "name": "stdout",
     "output_type": "stream",
     "text": [
      "929014 spikes extracted in  269.09s; total  273.82s\n",
      "\n",
      "First clustering\n"
     ]
    },
    {
     "name": "stderr",
     "output_type": "stream",
     "text": [
      "100%|██████████| 16/16 [00:15<00:00,  1.06it/s]\n",
      "/home/pc_lab/miniforge3/envs/kilosort_4_0_5/lib/python3.9/site-packages/kilosort/template_matching.py:71: UserWarning: Plan failed with a cudnnException: CUDNN_BACKEND_EXECUTION_PLAN_DESCRIPTOR: cudnnFinalize Descriptor Failed cudnn_status: CUDNN_STATUS_NOT_SUPPORTED (Triggered internally at /opt/conda/conda-bld/pytorch_1712608885084/work/aten/src/ATen/native/cudnn/Conv_v8.cpp:919.)\n",
      "  X = conv1d(X.unsqueeze(1), ops['wTEMP'].unsqueeze(1), padding=ops['nt']//2)\n"
     ]
    },
    {
     "name": "stdout",
     "output_type": "stream",
     "text": [
      "89 clusters found, in  15.15s; total  288.97s\n",
      "\n",
      "Extracting spikes using cluster waveforms\n"
     ]
    },
    {
     "name": "stderr",
     "output_type": "stream",
     "text": [
      "100%|██████████| 1054/1054 [01:15<00:00, 14.05it/s]\n"
     ]
    },
    {
     "name": "stdout",
     "output_type": "stream",
     "text": [
      "1096561 spikes extracted in  75.26s; total  364.23s\n",
      "\n",
      "Final clustering\n"
     ]
    },
    {
     "name": "stderr",
     "output_type": "stream",
     "text": [
      "100%|██████████| 16/16 [00:16<00:00,  1.06s/it]\n"
     ]
    },
    {
     "name": "stdout",
     "output_type": "stream",
     "text": [
      "40 clusters found, in  16.90s; total  381.13s\n",
      "\n",
      "Merging clusters\n",
      "40 units found, in  0.27s; total  381.40s\n",
      "\n",
      "Saving to phy and computing refractory periods\n",
      "7 units found with good refractory periods\n",
      "\n",
      "Total runtime: 387.36s = 00:06:27 h:m:s\n"
     ]
    },
    {
     "name": "stderr",
     "output_type": "stream",
     "text": [
      "/home/pc_lab/miniforge3/envs/kilosort_4_0_5/lib/python3.9/site-packages/spikeinterface/core/basesorting.py:239: UserWarning: The registered recording will not be persistent on disk, but only available in memory\n",
      "  warnings.warn(\"The registered recording will not be persistent on disk, but only available in memory\")\n"
     ]
    },
    {
     "name": "stdout",
     "output_type": "stream",
     "text": [
      "Exporting waveforms\n"
     ]
    },
    {
     "data": {
      "application/vnd.jupyter.widget-view+json": {
       "model_id": "5b3edb61aff947eba3d481fb68160ae6",
       "version_major": 2,
       "version_minor": 0
      },
      "text/plain": [
       "extract waveforms memmap multi buffer:   0%|          | 0/17 [00:00<?, ?it/s]"
      ]
     },
     "metadata": {},
     "output_type": "display_data"
    },
    {
     "name": "stdout",
     "output_type": "stream",
     "text": [
      "we_spike_sorted is sparse: False\n",
      "Saving to phy\n"
     ]
    },
    {
     "data": {
      "application/vnd.jupyter.widget-view+json": {
       "model_id": "aa3ca11628f649708da0f329f882458c",
       "version_major": 2,
       "version_minor": 0
      },
      "text/plain": [
       "write_binary_recording:   0%|          | 0/3162 [00:00<?, ?it/s]"
      ]
     },
     "metadata": {},
     "output_type": "display_data"
    },
    {
     "data": {
      "application/vnd.jupyter.widget-view+json": {
       "model_id": "fe262a5d170b421682329457dbe5e530",
       "version_major": 2,
       "version_minor": 0
      },
      "text/plain": [
       "extract amplitudes:   0%|          | 0/3162 [00:00<?, ?it/s]"
      ]
     },
     "metadata": {},
     "output_type": "display_data"
    },
    {
     "data": {
      "application/vnd.jupyter.widget-view+json": {
       "model_id": "d836ef652dde4f7a8aa16a9d4a79ab7f",
       "version_major": 2,
       "version_minor": 0
      },
      "text/plain": [
       "Fitting PCA:   0%|          | 0/40 [00:00<?, ?it/s]"
      ]
     },
     "metadata": {},
     "output_type": "display_data"
    },
    {
     "data": {
      "application/vnd.jupyter.widget-view+json": {
       "model_id": "e3490a93c95240a3927bb942d568cd74",
       "version_major": 2,
       "version_minor": 0
      },
      "text/plain": [
       "Projecting waveforms:   0%|          | 0/40 [00:00<?, ?it/s]"
      ]
     },
     "metadata": {},
     "output_type": "display_data"
    },
    {
     "data": {
      "application/vnd.jupyter.widget-view+json": {
       "model_id": "908885a191174cb6a731d5b7cfb12bba",
       "version_major": 2,
       "version_minor": 0
      },
      "text/plain": [
       "extract PCs:   0%|          | 0/3162 [00:00<?, ?it/s]"
      ]
     },
     "metadata": {},
     "output_type": "display_data"
    },
    {
     "name": "stdout",
     "output_type": "stream",
     "text": [
      "Run:\n",
      "phy template-gui  /scratch/back_up/reward_competition_extention/proc/spike_sorting/20240412_161135_comp_novel_subj_4-2_t3b3_merged.rec/phy/params.py\n",
      "/scratch/back_up/reward_competition_extention/data/rce_cohort_3/novel/20240406_150017_comp_novel_subj_4-3_and_4-4_and_5-2_and_5-3.rec/20240406_150017_comp_novel_subj_4-4_t6b6_merged.rec\n",
      "Output directory: /scratch/back_up/reward_competition_extention/proc/spike_sorting/20240406_150017_comp_novel_subj_4-4_t6b6_merged.rec\n",
      "Running bandpass filter\n",
      "Running whitening\n",
      "Spike sorting\n",
      "========================================\n",
      "Loading recording with SpikeInterface...\n",
      "number of samples: 63779939\n",
      "number of channels: 32\n",
      "numbef of segments: 1\n",
      "sampling rate: 20000.0\n",
      "dtype: float32\n",
      "========================================\n",
      "Skipping common average reference.\n",
      "Preprocessing filters computed in  4.96s; total  4.96s\n",
      "Skipping drift correction.\n",
      "\n",
      "computing drift\n",
      "nblocks = 0, skipping drift correction\n",
      "drift computed in  0.00s; total  4.97s\n",
      "\n",
      "Extracting spikes using templates\n",
      "Re-computing universal templates from data.\n"
     ]
    },
    {
     "name": "stderr",
     "output_type": "stream",
     "text": [
      "/home/pc_lab/miniforge3/envs/kilosort_4_0_5/lib/python3.9/site-packages/kilosort/spikedetect.py:235: UserWarning: \n",
      "              NaNs and/or zeroes present in weights for spikedetect.run,\n",
      "              may need to adjust `min_template_size` and/or `dminx` \n",
      "              for best results.\n",
      "\n",
      "              If you're using a probe with multiple shanks, see \n",
      "              https://kilosort.readthedocs.io/en/latest/multi_shank.html\n",
      "              \n",
      "  warnings.warn(msg, UserWarning)\n",
      "100%|██████████| 1063/1063 [04:25<00:00,  4.00it/s]\n"
     ]
    },
    {
     "name": "stdout",
     "output_type": "stream",
     "text": [
      "272713 spikes extracted in  268.37s; total  273.34s\n",
      "\n",
      "First clustering\n"
     ]
    },
    {
     "name": "stderr",
     "output_type": "stream",
     "text": [
      "100%|██████████| 16/16 [00:05<00:00,  2.78it/s]\n",
      "/home/pc_lab/miniforge3/envs/kilosort_4_0_5/lib/python3.9/site-packages/kilosort/template_matching.py:71: UserWarning: Plan failed with a cudnnException: CUDNN_BACKEND_EXECUTION_PLAN_DESCRIPTOR: cudnnFinalize Descriptor Failed cudnn_status: CUDNN_STATUS_NOT_SUPPORTED (Triggered internally at /opt/conda/conda-bld/pytorch_1712608885084/work/aten/src/ATen/native/cudnn/Conv_v8.cpp:919.)\n",
      "  X = conv1d(X.unsqueeze(1), ops['wTEMP'].unsqueeze(1), padding=ops['nt']//2)\n"
     ]
    },
    {
     "name": "stdout",
     "output_type": "stream",
     "text": [
      "97 clusters found, in  5.85s; total  279.19s\n",
      "\n",
      "Extracting spikes using cluster waveforms\n"
     ]
    },
    {
     "name": "stderr",
     "output_type": "stream",
     "text": [
      "100%|██████████| 1063/1063 [01:02<00:00, 16.99it/s]\n"
     ]
    },
    {
     "name": "stdout",
     "output_type": "stream",
     "text": [
      "452475 spikes extracted in  62.67s; total  341.86s\n",
      "\n",
      "Final clustering\n"
     ]
    },
    {
     "name": "stderr",
     "output_type": "stream",
     "text": [
      "100%|██████████| 16/16 [00:07<00:00,  2.17it/s]\n"
     ]
    },
    {
     "name": "stdout",
     "output_type": "stream",
     "text": [
      "40 clusters found, in  7.37s; total  349.23s\n",
      "\n",
      "Merging clusters\n",
      "40 units found, in  0.14s; total  349.37s\n",
      "\n",
      "Saving to phy and computing refractory periods\n",
      "2 units found with good refractory periods\n",
      "\n",
      "Total runtime: 351.91s = 00:05:52 h:m:s\n"
     ]
    },
    {
     "name": "stderr",
     "output_type": "stream",
     "text": [
      "/home/pc_lab/miniforge3/envs/kilosort_4_0_5/lib/python3.9/site-packages/spikeinterface/core/basesorting.py:239: UserWarning: The registered recording will not be persistent on disk, but only available in memory\n",
      "  warnings.warn(\"The registered recording will not be persistent on disk, but only available in memory\")\n"
     ]
    },
    {
     "name": "stdout",
     "output_type": "stream",
     "text": [
      "Exporting waveforms\n"
     ]
    },
    {
     "data": {
      "application/vnd.jupyter.widget-view+json": {
       "model_id": "66b3d5ca356b4a65ac9a56f7d7645aea",
       "version_major": 2,
       "version_minor": 0
      },
      "text/plain": [
       "extract waveforms memmap multi buffer:   0%|          | 0/17 [00:00<?, ?it/s]"
      ]
     },
     "metadata": {},
     "output_type": "display_data"
    },
    {
     "name": "stdout",
     "output_type": "stream",
     "text": [
      "we_spike_sorted is sparse: False\n",
      "Saving to phy\n"
     ]
    },
    {
     "data": {
      "application/vnd.jupyter.widget-view+json": {
       "model_id": "f81182de206a4e37afcd7a8d1ea6d56c",
       "version_major": 2,
       "version_minor": 0
      },
      "text/plain": [
       "write_binary_recording:   0%|          | 0/3189 [00:00<?, ?it/s]"
      ]
     },
     "metadata": {},
     "output_type": "display_data"
    },
    {
     "data": {
      "application/vnd.jupyter.widget-view+json": {
       "model_id": "2aff3fb7ba9b44d88446d4551f44ea56",
       "version_major": 2,
       "version_minor": 0
      },
      "text/plain": [
       "extract amplitudes:   0%|          | 0/3189 [00:00<?, ?it/s]"
      ]
     },
     "metadata": {},
     "output_type": "display_data"
    },
    {
     "data": {
      "application/vnd.jupyter.widget-view+json": {
       "model_id": "c199ef5d6a9f4a00b988f34e2a77fabe",
       "version_major": 2,
       "version_minor": 0
      },
      "text/plain": [
       "Fitting PCA:   0%|          | 0/40 [00:00<?, ?it/s]"
      ]
     },
     "metadata": {},
     "output_type": "display_data"
    },
    {
     "data": {
      "application/vnd.jupyter.widget-view+json": {
       "model_id": "66cc1c5cc1094135ac0085bcd2d4fd10",
       "version_major": 2,
       "version_minor": 0
      },
      "text/plain": [
       "Projecting waveforms:   0%|          | 0/40 [00:00<?, ?it/s]"
      ]
     },
     "metadata": {},
     "output_type": "display_data"
    },
    {
     "data": {
      "application/vnd.jupyter.widget-view+json": {
       "model_id": "408ad4ddf90c4d8495089b217688b25a",
       "version_major": 2,
       "version_minor": 0
      },
      "text/plain": [
       "extract PCs:   0%|          | 0/3189 [00:00<?, ?it/s]"
      ]
     },
     "metadata": {},
     "output_type": "display_data"
    },
    {
     "name": "stdout",
     "output_type": "stream",
     "text": [
      "Run:\n",
      "phy template-gui  /scratch/back_up/reward_competition_extention/proc/spike_sorting/20240406_150017_comp_novel_subj_4-4_t6b6_merged.rec/phy/params.py\n",
      "/scratch/back_up/reward_competition_extention/data/rce_cohort_3/novel/20240406_150017_comp_novel_subj_4-3_and_4-4_and_5-2_and_5-3.rec/20240406_150017_comp_novel_subj_5-3_t3b3_merged.rec\n",
      "Output directory: /scratch/back_up/reward_competition_extention/proc/spike_sorting/20240406_150017_comp_novel_subj_5-3_t3b3_merged.rec\n",
      "Running bandpass filter\n",
      "Running whitening\n",
      "Spike sorting\n",
      "========================================\n",
      "Loading recording with SpikeInterface...\n",
      "number of samples: 63779736\n",
      "number of channels: 32\n",
      "numbef of segments: 1\n",
      "sampling rate: 20000.0\n",
      "dtype: float32\n",
      "========================================\n",
      "Skipping common average reference.\n",
      "Preprocessing filters computed in  4.92s; total  4.92s\n",
      "Skipping drift correction.\n",
      "\n",
      "computing drift\n",
      "nblocks = 0, skipping drift correction\n",
      "drift computed in  0.00s; total  4.92s\n",
      "\n",
      "Extracting spikes using templates\n",
      "Re-computing universal templates from data.\n"
     ]
    },
    {
     "name": "stderr",
     "output_type": "stream",
     "text": [
      "/home/pc_lab/miniforge3/envs/kilosort_4_0_5/lib/python3.9/site-packages/kilosort/spikedetect.py:235: UserWarning: \n",
      "              NaNs and/or zeroes present in weights for spikedetect.run,\n",
      "              may need to adjust `min_template_size` and/or `dminx` \n",
      "              for best results.\n",
      "\n",
      "              If you're using a probe with multiple shanks, see \n",
      "              https://kilosort.readthedocs.io/en/latest/multi_shank.html\n",
      "              \n",
      "  warnings.warn(msg, UserWarning)\n",
      "100%|██████████| 1063/1063 [04:25<00:00,  4.01it/s]\n"
     ]
    },
    {
     "name": "stdout",
     "output_type": "stream",
     "text": [
      "598078 spikes extracted in  267.77s; total  272.69s\n",
      "\n",
      "First clustering\n"
     ]
    },
    {
     "name": "stderr",
     "output_type": "stream",
     "text": [
      "100%|██████████| 16/16 [00:09<00:00,  1.62it/s]\n",
      "/home/pc_lab/miniforge3/envs/kilosort_4_0_5/lib/python3.9/site-packages/kilosort/template_matching.py:71: UserWarning: Plan failed with a cudnnException: CUDNN_BACKEND_EXECUTION_PLAN_DESCRIPTOR: cudnnFinalize Descriptor Failed cudnn_status: CUDNN_STATUS_NOT_SUPPORTED (Triggered internally at /opt/conda/conda-bld/pytorch_1712608885084/work/aten/src/ATen/native/cudnn/Conv_v8.cpp:919.)\n",
      "  X = conv1d(X.unsqueeze(1), ops['wTEMP'].unsqueeze(1), padding=ops['nt']//2)\n"
     ]
    },
    {
     "name": "stdout",
     "output_type": "stream",
     "text": [
      "79 clusters found, in  9.99s; total  282.68s\n",
      "\n",
      "Extracting spikes using cluster waveforms\n"
     ]
    },
    {
     "name": "stderr",
     "output_type": "stream",
     "text": [
      "100%|██████████| 1063/1063 [01:10<00:00, 15.08it/s]\n"
     ]
    },
    {
     "name": "stdout",
     "output_type": "stream",
     "text": [
      "921414 spikes extracted in  70.67s; total  353.34s\n",
      "\n",
      "Final clustering\n"
     ]
    },
    {
     "name": "stderr",
     "output_type": "stream",
     "text": [
      "100%|██████████| 16/16 [00:13<00:00,  1.17it/s]\n"
     ]
    },
    {
     "name": "stdout",
     "output_type": "stream",
     "text": [
      "48 clusters found, in  13.63s; total  366.97s\n",
      "\n",
      "Merging clusters\n",
      "48 units found, in  0.29s; total  367.26s\n",
      "\n",
      "Saving to phy and computing refractory periods\n",
      "2 units found with good refractory periods\n",
      "\n",
      "Total runtime: 372.70s = 00:06:13 h:m:s\n"
     ]
    },
    {
     "name": "stderr",
     "output_type": "stream",
     "text": [
      "/home/pc_lab/miniforge3/envs/kilosort_4_0_5/lib/python3.9/site-packages/spikeinterface/core/basesorting.py:239: UserWarning: The registered recording will not be persistent on disk, but only available in memory\n",
      "  warnings.warn(\"The registered recording will not be persistent on disk, but only available in memory\")\n"
     ]
    },
    {
     "name": "stdout",
     "output_type": "stream",
     "text": [
      "Exporting waveforms\n"
     ]
    },
    {
     "data": {
      "application/vnd.jupyter.widget-view+json": {
       "model_id": "c4b4a5e1929546fa97116c4d1726dc39",
       "version_major": 2,
       "version_minor": 0
      },
      "text/plain": [
       "extract waveforms memmap multi buffer:   0%|          | 0/17 [00:00<?, ?it/s]"
      ]
     },
     "metadata": {},
     "output_type": "display_data"
    },
    {
     "name": "stdout",
     "output_type": "stream",
     "text": [
      "we_spike_sorted is sparse: False\n",
      "Saving to phy\n"
     ]
    },
    {
     "data": {
      "application/vnd.jupyter.widget-view+json": {
       "model_id": "ef9d837789084e1a9636d2467b4905e4",
       "version_major": 2,
       "version_minor": 0
      },
      "text/plain": [
       "write_binary_recording:   0%|          | 0/3189 [00:00<?, ?it/s]"
      ]
     },
     "metadata": {},
     "output_type": "display_data"
    },
    {
     "data": {
      "application/vnd.jupyter.widget-view+json": {
       "model_id": "efbebe5ae16943fb9a8f0ea5c8f0da30",
       "version_major": 2,
       "version_minor": 0
      },
      "text/plain": [
       "extract amplitudes:   0%|          | 0/3189 [00:00<?, ?it/s]"
      ]
     },
     "metadata": {},
     "output_type": "display_data"
    },
    {
     "data": {
      "application/vnd.jupyter.widget-view+json": {
       "model_id": "0e5a6e4c13634120a53a701d4c7294c9",
       "version_major": 2,
       "version_minor": 0
      },
      "text/plain": [
       "Fitting PCA:   0%|          | 0/48 [00:00<?, ?it/s]"
      ]
     },
     "metadata": {},
     "output_type": "display_data"
    },
    {
     "data": {
      "application/vnd.jupyter.widget-view+json": {
       "model_id": "10455f1ca98240ad830893d125875f13",
       "version_major": 2,
       "version_minor": 0
      },
      "text/plain": [
       "Projecting waveforms:   0%|          | 0/48 [00:00<?, ?it/s]"
      ]
     },
     "metadata": {},
     "output_type": "display_data"
    },
    {
     "data": {
      "application/vnd.jupyter.widget-view+json": {
       "model_id": "2e30f0769019492a8c02ff8470e46e66",
       "version_major": 2,
       "version_minor": 0
      },
      "text/plain": [
       "extract PCs:   0%|          | 0/3189 [00:00<?, ?it/s]"
      ]
     },
     "metadata": {},
     "output_type": "display_data"
    },
    {
     "name": "stdout",
     "output_type": "stream",
     "text": [
      "Run:\n",
      "phy template-gui  /scratch/back_up/reward_competition_extention/proc/spike_sorting/20240406_150017_comp_novel_subj_5-3_t3b3_merged.rec/phy/params.py\n",
      "/scratch/back_up/reward_competition_extention/data/rce_cohort_3/novel/20240406_150017_comp_novel_subj_4-3_and_4-4_and_5-2_and_5-3.rec/20240406_150017_comp_novel_subj_4-3_t5b5_merged.rec\n",
      "Output directory: /scratch/back_up/reward_competition_extention/proc/spike_sorting/20240406_150017_comp_novel_subj_4-3_t5b5_merged.rec\n",
      "Running bandpass filter\n",
      "Running whitening\n",
      "Spike sorting\n",
      "========================================\n",
      "Loading recording with SpikeInterface...\n",
      "number of samples: 63779853\n",
      "number of channels: 32\n",
      "numbef of segments: 1\n",
      "sampling rate: 20000.0\n",
      "dtype: float32\n",
      "========================================\n",
      "Skipping common average reference.\n",
      "Preprocessing filters computed in  4.76s; total  4.76s\n",
      "Skipping drift correction.\n",
      "\n",
      "computing drift\n",
      "nblocks = 0, skipping drift correction\n",
      "drift computed in  0.00s; total  4.76s\n",
      "\n",
      "Extracting spikes using templates\n",
      "Re-computing universal templates from data.\n"
     ]
    },
    {
     "name": "stderr",
     "output_type": "stream",
     "text": [
      "/home/pc_lab/miniforge3/envs/kilosort_4_0_5/lib/python3.9/site-packages/kilosort/spikedetect.py:235: UserWarning: \n",
      "              NaNs and/or zeroes present in weights for spikedetect.run,\n",
      "              may need to adjust `min_template_size` and/or `dminx` \n",
      "              for best results.\n",
      "\n",
      "              If you're using a probe with multiple shanks, see \n",
      "              https://kilosort.readthedocs.io/en/latest/multi_shank.html\n",
      "              \n",
      "  warnings.warn(msg, UserWarning)\n",
      "100%|██████████| 1063/1063 [04:27<00:00,  3.97it/s]\n"
     ]
    },
    {
     "name": "stdout",
     "output_type": "stream",
     "text": [
      "1269428 spikes extracted in  270.93s; total  275.69s\n",
      "\n",
      "First clustering\n"
     ]
    },
    {
     "name": "stderr",
     "output_type": "stream",
     "text": [
      "100%|██████████| 16/16 [00:21<00:00,  1.33s/it]\n",
      "/home/pc_lab/miniforge3/envs/kilosort_4_0_5/lib/python3.9/site-packages/kilosort/template_matching.py:71: UserWarning: Plan failed with a cudnnException: CUDNN_BACKEND_EXECUTION_PLAN_DESCRIPTOR: cudnnFinalize Descriptor Failed cudnn_status: CUDNN_STATUS_NOT_SUPPORTED (Triggered internally at /opt/conda/conda-bld/pytorch_1712608885084/work/aten/src/ATen/native/cudnn/Conv_v8.cpp:919.)\n",
      "  X = conv1d(X.unsqueeze(1), ops['wTEMP'].unsqueeze(1), padding=ops['nt']//2)\n"
     ]
    },
    {
     "name": "stdout",
     "output_type": "stream",
     "text": [
      "117 clusters found, in  21.46s; total  297.15s\n",
      "\n",
      "Extracting spikes using cluster waveforms\n"
     ]
    },
    {
     "name": "stderr",
     "output_type": "stream",
     "text": [
      "100%|██████████| 1063/1063 [01:04<00:00, 16.40it/s]\n"
     ]
    },
    {
     "name": "stdout",
     "output_type": "stream",
     "text": [
      "1329080 spikes extracted in  65.06s; total  362.21s\n",
      "\n",
      "Final clustering\n"
     ]
    },
    {
     "name": "stderr",
     "output_type": "stream",
     "text": [
      "100%|██████████| 16/16 [00:20<00:00,  1.26s/it]\n"
     ]
    },
    {
     "name": "stdout",
     "output_type": "stream",
     "text": [
      "57 clusters found, in  20.14s; total  382.35s\n",
      "\n",
      "Merging clusters\n",
      "57 units found, in  0.33s; total  382.68s\n",
      "\n",
      "Saving to phy and computing refractory periods\n",
      "16 units found with good refractory periods\n",
      "\n",
      "Total runtime: 390.19s = 00:06:30 h:m:s\n"
     ]
    },
    {
     "name": "stderr",
     "output_type": "stream",
     "text": [
      "/home/pc_lab/miniforge3/envs/kilosort_4_0_5/lib/python3.9/site-packages/spikeinterface/core/basesorting.py:239: UserWarning: The registered recording will not be persistent on disk, but only available in memory\n",
      "  warnings.warn(\"The registered recording will not be persistent on disk, but only available in memory\")\n"
     ]
    },
    {
     "name": "stdout",
     "output_type": "stream",
     "text": [
      "Exporting waveforms\n"
     ]
    },
    {
     "data": {
      "application/vnd.jupyter.widget-view+json": {
       "model_id": "8d28b0677e6c40bc9cddcb50d66ada89",
       "version_major": 2,
       "version_minor": 0
      },
      "text/plain": [
       "extract waveforms memmap multi buffer:   0%|          | 0/17 [00:00<?, ?it/s]"
      ]
     },
     "metadata": {},
     "output_type": "display_data"
    },
    {
     "name": "stdout",
     "output_type": "stream",
     "text": [
      "we_spike_sorted is sparse: False\n",
      "Saving to phy\n"
     ]
    },
    {
     "data": {
      "application/vnd.jupyter.widget-view+json": {
       "model_id": "282be2817ff2488c94b6b85450436299",
       "version_major": 2,
       "version_minor": 0
      },
      "text/plain": [
       "write_binary_recording:   0%|          | 0/3189 [00:00<?, ?it/s]"
      ]
     },
     "metadata": {},
     "output_type": "display_data"
    },
    {
     "data": {
      "application/vnd.jupyter.widget-view+json": {
       "model_id": "b6ff8c77a42944a3af0bdbfe12380bce",
       "version_major": 2,
       "version_minor": 0
      },
      "text/plain": [
       "extract amplitudes:   0%|          | 0/3189 [00:00<?, ?it/s]"
      ]
     },
     "metadata": {},
     "output_type": "display_data"
    },
    {
     "data": {
      "application/vnd.jupyter.widget-view+json": {
       "model_id": "1d88d5baa3224d81b0ed8daefe704c4b",
       "version_major": 2,
       "version_minor": 0
      },
      "text/plain": [
       "Fitting PCA:   0%|          | 0/57 [00:00<?, ?it/s]"
      ]
     },
     "metadata": {},
     "output_type": "display_data"
    },
    {
     "data": {
      "application/vnd.jupyter.widget-view+json": {
       "model_id": "811b99b9802b4053a9b5d0f9f717c45c",
       "version_major": 2,
       "version_minor": 0
      },
      "text/plain": [
       "Projecting waveforms:   0%|          | 0/57 [00:00<?, ?it/s]"
      ]
     },
     "metadata": {},
     "output_type": "display_data"
    },
    {
     "data": {
      "application/vnd.jupyter.widget-view+json": {
       "model_id": "59253871d2f740f2911c2e58199fffb7",
       "version_major": 2,
       "version_minor": 0
      },
      "text/plain": [
       "extract PCs:   0%|          | 0/3189 [00:00<?, ?it/s]"
      ]
     },
     "metadata": {},
     "output_type": "display_data"
    },
    {
     "name": "stdout",
     "output_type": "stream",
     "text": [
      "Run:\n",
      "phy template-gui  /scratch/back_up/reward_competition_extention/proc/spike_sorting/20240406_150017_comp_novel_subj_4-3_t5b5_merged.rec/phy/params.py\n",
      "/scratch/back_up/reward_competition_extention/data/rce_cohort_3/novel/20240406_150017_comp_novel_subj_4-3_and_4-4_and_5-2_and_5-3.rec/20240406_150017_comp_novel_subj_5-2_t4b4_merged.rec\n",
      "Output directory: /scratch/back_up/reward_competition_extention/proc/spike_sorting/20240406_150017_comp_novel_subj_5-2_t4b4_merged.rec\n",
      "Running bandpass filter\n",
      "Running whitening\n",
      "Spike sorting\n",
      "========================================\n",
      "Loading recording with SpikeInterface...\n",
      "number of samples: 63779760\n",
      "number of channels: 32\n",
      "numbef of segments: 1\n",
      "sampling rate: 20000.0\n",
      "dtype: float32\n",
      "========================================\n",
      "Skipping common average reference.\n",
      "Preprocessing filters computed in  4.98s; total  4.98s\n",
      "Skipping drift correction.\n",
      "\n",
      "computing drift\n",
      "nblocks = 0, skipping drift correction\n",
      "drift computed in  0.00s; total  4.98s\n",
      "\n",
      "Extracting spikes using templates\n",
      "Re-computing universal templates from data.\n"
     ]
    },
    {
     "name": "stderr",
     "output_type": "stream",
     "text": [
      "/home/pc_lab/miniforge3/envs/kilosort_4_0_5/lib/python3.9/site-packages/kilosort/spikedetect.py:235: UserWarning: \n",
      "              NaNs and/or zeroes present in weights for spikedetect.run,\n",
      "              may need to adjust `min_template_size` and/or `dminx` \n",
      "              for best results.\n",
      "\n",
      "              If you're using a probe with multiple shanks, see \n",
      "              https://kilosort.readthedocs.io/en/latest/multi_shank.html\n",
      "              \n",
      "  warnings.warn(msg, UserWarning)\n",
      "100%|██████████| 1063/1063 [04:26<00:00,  3.99it/s]\n"
     ]
    },
    {
     "name": "stdout",
     "output_type": "stream",
     "text": [
      "956183 spikes extracted in  268.91s; total  273.89s\n",
      "\n",
      "First clustering\n"
     ]
    },
    {
     "name": "stderr",
     "output_type": "stream",
     "text": [
      "100%|██████████| 16/16 [00:14<00:00,  1.09it/s]\n"
     ]
    },
    {
     "name": "stdout",
     "output_type": "stream",
     "text": [
      "89 clusters found, in  14.71s; total  288.60s\n",
      "\n",
      "Extracting spikes using cluster waveforms\n"
     ]
    },
    {
     "name": "stderr",
     "output_type": "stream",
     "text": [
      "100%|██████████| 1063/1063 [01:20<00:00, 13.14it/s]\n"
     ]
    },
    {
     "name": "stdout",
     "output_type": "stream",
     "text": [
      "1043360 spikes extracted in  81.14s; total  369.74s\n",
      "\n",
      "Final clustering\n"
     ]
    },
    {
     "name": "stderr",
     "output_type": "stream",
     "text": [
      "100%|██████████| 16/16 [00:16<00:00,  1.01s/it]\n"
     ]
    },
    {
     "name": "stdout",
     "output_type": "stream",
     "text": [
      "45 clusters found, in  16.10s; total  385.84s\n",
      "\n",
      "Merging clusters\n",
      "45 units found, in  0.26s; total  386.11s\n",
      "\n",
      "Saving to phy and computing refractory periods\n",
      "6 units found with good refractory periods\n",
      "\n",
      "Total runtime: 391.61s = 00:06:32 h:m:s\n"
     ]
    },
    {
     "name": "stderr",
     "output_type": "stream",
     "text": [
      "/home/pc_lab/miniforge3/envs/kilosort_4_0_5/lib/python3.9/site-packages/spikeinterface/core/basesorting.py:239: UserWarning: The registered recording will not be persistent on disk, but only available in memory\n",
      "  warnings.warn(\"The registered recording will not be persistent on disk, but only available in memory\")\n"
     ]
    },
    {
     "name": "stdout",
     "output_type": "stream",
     "text": [
      "Exporting waveforms\n"
     ]
    },
    {
     "data": {
      "application/vnd.jupyter.widget-view+json": {
       "model_id": "01392b9d5e3c49bc931758a6fcc57325",
       "version_major": 2,
       "version_minor": 0
      },
      "text/plain": [
       "extract waveforms memmap multi buffer:   0%|          | 0/17 [00:00<?, ?it/s]"
      ]
     },
     "metadata": {},
     "output_type": "display_data"
    },
    {
     "name": "stdout",
     "output_type": "stream",
     "text": [
      "we_spike_sorted is sparse: False\n",
      "Saving to phy\n"
     ]
    },
    {
     "data": {
      "application/vnd.jupyter.widget-view+json": {
       "model_id": "ab067a74baff4160a380e4aa47c053ff",
       "version_major": 2,
       "version_minor": 0
      },
      "text/plain": [
       "write_binary_recording:   0%|          | 0/3189 [00:00<?, ?it/s]"
      ]
     },
     "metadata": {},
     "output_type": "display_data"
    },
    {
     "data": {
      "application/vnd.jupyter.widget-view+json": {
       "model_id": "6a0f911960554b11b7da89dd5c05d5fc",
       "version_major": 2,
       "version_minor": 0
      },
      "text/plain": [
       "extract amplitudes:   0%|          | 0/3189 [00:00<?, ?it/s]"
      ]
     },
     "metadata": {},
     "output_type": "display_data"
    },
    {
     "data": {
      "application/vnd.jupyter.widget-view+json": {
       "model_id": "fbec9b9ed34f43d0b2844d0d0d552281",
       "version_major": 2,
       "version_minor": 0
      },
      "text/plain": [
       "Fitting PCA:   0%|          | 0/45 [00:00<?, ?it/s]"
      ]
     },
     "metadata": {},
     "output_type": "display_data"
    },
    {
     "data": {
      "application/vnd.jupyter.widget-view+json": {
       "model_id": "edb4f117dce64b3089e3c5abd9b41eae",
       "version_major": 2,
       "version_minor": 0
      },
      "text/plain": [
       "Projecting waveforms:   0%|          | 0/45 [00:00<?, ?it/s]"
      ]
     },
     "metadata": {},
     "output_type": "display_data"
    },
    {
     "data": {
      "application/vnd.jupyter.widget-view+json": {
       "model_id": "199268bbcb48454f9acd0e410f24d421",
       "version_major": 2,
       "version_minor": 0
      },
      "text/plain": [
       "extract PCs:   0%|          | 0/3189 [00:00<?, ?it/s]"
      ]
     },
     "metadata": {},
     "output_type": "display_data"
    },
    {
     "name": "stdout",
     "output_type": "stream",
     "text": [
      "Run:\n",
      "phy template-gui  /scratch/back_up/reward_competition_extention/proc/spike_sorting/20240406_150017_comp_novel_subj_5-2_t4b4_merged.rec/phy/params.py\n",
      "/scratch/back_up/reward_competition_extention/data/rce_cohort_3/novel/20240408_155308_comp_novel_subj_3-1_and_3-4_and_5-2_and_5-3.rec/20240408_155308_comp_novel_subj_5-3_t3b3_merged.rec\n",
      "Output directory: /scratch/back_up/reward_competition_extention/proc/spike_sorting/20240408_155308_comp_novel_subj_5-3_t3b3_merged.rec\n",
      "Running bandpass filter\n",
      "Running whitening\n",
      "Spike sorting\n",
      "========================================\n",
      "Loading recording with SpikeInterface...\n",
      "number of samples: 63571800\n",
      "number of channels: 32\n",
      "numbef of segments: 1\n",
      "sampling rate: 20000.0\n",
      "dtype: float32\n",
      "========================================\n",
      "Skipping common average reference.\n",
      "Preprocessing filters computed in  4.72s; total  4.72s\n",
      "Skipping drift correction.\n",
      "\n",
      "computing drift\n",
      "nblocks = 0, skipping drift correction\n",
      "drift computed in  0.00s; total  4.72s\n",
      "\n",
      "Extracting spikes using templates\n",
      "Re-computing universal templates from data.\n"
     ]
    },
    {
     "name": "stderr",
     "output_type": "stream",
     "text": [
      "/home/pc_lab/miniforge3/envs/kilosort_4_0_5/lib/python3.9/site-packages/kilosort/spikedetect.py:235: UserWarning: \n",
      "              NaNs and/or zeroes present in weights for spikedetect.run,\n",
      "              may need to adjust `min_template_size` and/or `dminx` \n",
      "              for best results.\n",
      "\n",
      "              If you're using a probe with multiple shanks, see \n",
      "              https://kilosort.readthedocs.io/en/latest/multi_shank.html\n",
      "              \n",
      "  warnings.warn(msg, UserWarning)\n",
      "100%|██████████| 1060/1060 [04:29<00:00,  3.94it/s]\n"
     ]
    },
    {
     "name": "stdout",
     "output_type": "stream",
     "text": [
      "1072277 spikes extracted in  271.97s; total  276.69s\n",
      "\n",
      "First clustering\n"
     ]
    },
    {
     "name": "stderr",
     "output_type": "stream",
     "text": [
      "100%|██████████| 16/16 [00:16<00:00,  1.02s/it]\n"
     ]
    },
    {
     "name": "stdout",
     "output_type": "stream",
     "text": [
      "102 clusters found, in  16.48s; total  293.17s\n",
      "\n",
      "Extracting spikes using cluster waveforms\n"
     ]
    },
    {
     "name": "stderr",
     "output_type": "stream",
     "text": [
      "100%|██████████| 1060/1060 [01:14<00:00, 14.27it/s]\n"
     ]
    },
    {
     "name": "stdout",
     "output_type": "stream",
     "text": [
      "1182656 spikes extracted in  74.52s; total  367.69s\n",
      "\n",
      "Final clustering\n"
     ]
    },
    {
     "name": "stderr",
     "output_type": "stream",
     "text": [
      "100%|██████████| 16/16 [00:17<00:00,  1.07s/it]\n"
     ]
    },
    {
     "name": "stdout",
     "output_type": "stream",
     "text": [
      "65 clusters found, in  17.10s; total  384.80s\n",
      "\n",
      "Merging clusters\n",
      "63 units found, in  0.31s; total  385.10s\n",
      "\n",
      "Saving to phy and computing refractory periods\n",
      "16 units found with good refractory periods\n",
      "\n",
      "Total runtime: 392.32s = 00:06:32 h:m:s\n"
     ]
    },
    {
     "name": "stderr",
     "output_type": "stream",
     "text": [
      "/home/pc_lab/miniforge3/envs/kilosort_4_0_5/lib/python3.9/site-packages/spikeinterface/core/basesorting.py:239: UserWarning: The registered recording will not be persistent on disk, but only available in memory\n",
      "  warnings.warn(\"The registered recording will not be persistent on disk, but only available in memory\")\n"
     ]
    },
    {
     "name": "stdout",
     "output_type": "stream",
     "text": [
      "Exporting waveforms\n"
     ]
    },
    {
     "data": {
      "application/vnd.jupyter.widget-view+json": {
       "model_id": "bb382e5ae8814344a71448a7a094cb34",
       "version_major": 2,
       "version_minor": 0
      },
      "text/plain": [
       "extract waveforms memmap multi buffer:   0%|          | 0/17 [00:00<?, ?it/s]"
      ]
     },
     "metadata": {},
     "output_type": "display_data"
    },
    {
     "name": "stdout",
     "output_type": "stream",
     "text": [
      "we_spike_sorted is sparse: False\n",
      "Saving to phy\n"
     ]
    },
    {
     "data": {
      "application/vnd.jupyter.widget-view+json": {
       "model_id": "06c8f5752fa44bdd8e9cb23c42630e2a",
       "version_major": 2,
       "version_minor": 0
      },
      "text/plain": [
       "write_binary_recording:   0%|          | 0/3179 [00:00<?, ?it/s]"
      ]
     },
     "metadata": {},
     "output_type": "display_data"
    },
    {
     "data": {
      "application/vnd.jupyter.widget-view+json": {
       "model_id": "6323391326304b07b2677b351be901fa",
       "version_major": 2,
       "version_minor": 0
      },
      "text/plain": [
       "extract amplitudes:   0%|          | 0/3179 [00:00<?, ?it/s]"
      ]
     },
     "metadata": {},
     "output_type": "display_data"
    },
    {
     "data": {
      "application/vnd.jupyter.widget-view+json": {
       "model_id": "5bcbd2d1e35348df87c0ecc9220fde80",
       "version_major": 2,
       "version_minor": 0
      },
      "text/plain": [
       "Fitting PCA:   0%|          | 0/63 [00:00<?, ?it/s]"
      ]
     },
     "metadata": {},
     "output_type": "display_data"
    },
    {
     "data": {
      "application/vnd.jupyter.widget-view+json": {
       "model_id": "bebf8366e1074a2980426bfbfa53516d",
       "version_major": 2,
       "version_minor": 0
      },
      "text/plain": [
       "Projecting waveforms:   0%|          | 0/63 [00:00<?, ?it/s]"
      ]
     },
     "metadata": {},
     "output_type": "display_data"
    },
    {
     "data": {
      "application/vnd.jupyter.widget-view+json": {
       "model_id": "2495d3a44d2c4d49801c335d7273d904",
       "version_major": 2,
       "version_minor": 0
      },
      "text/plain": [
       "extract PCs:   0%|          | 0/3179 [00:00<?, ?it/s]"
      ]
     },
     "metadata": {},
     "output_type": "display_data"
    },
    {
     "name": "stdout",
     "output_type": "stream",
     "text": [
      "Run:\n",
      "phy template-gui  /scratch/back_up/reward_competition_extention/proc/spike_sorting/20240408_155308_comp_novel_subj_5-3_t3b3_merged.rec/phy/params.py\n",
      "/scratch/back_up/reward_competition_extention/data/rce_cohort_3/novel/20240408_155308_comp_novel_subj_3-1_and_3-4_and_5-2_and_5-3.rec/20240408_155308_comp_novel_subj_3-1_t5b5_merged.rec\n",
      "Output directory: /scratch/back_up/reward_competition_extention/proc/spike_sorting/20240408_155308_comp_novel_subj_3-1_t5b5_merged.rec\n",
      "Running bandpass filter\n",
      "Running whitening\n",
      "Spike sorting\n",
      "========================================\n",
      "Loading recording with SpikeInterface...\n",
      "number of samples: 63571962\n",
      "number of channels: 32\n",
      "numbef of segments: 1\n",
      "sampling rate: 20000.0\n",
      "dtype: float32\n",
      "========================================\n",
      "Skipping common average reference.\n",
      "Preprocessing filters computed in  4.94s; total  4.94s\n",
      "Skipping drift correction.\n",
      "\n",
      "computing drift\n",
      "nblocks = 0, skipping drift correction\n",
      "drift computed in  0.00s; total  4.95s\n",
      "\n",
      "Extracting spikes using templates\n",
      "Re-computing universal templates from data.\n"
     ]
    },
    {
     "name": "stderr",
     "output_type": "stream",
     "text": [
      "/home/pc_lab/miniforge3/envs/kilosort_4_0_5/lib/python3.9/site-packages/kilosort/spikedetect.py:235: UserWarning: \n",
      "              NaNs and/or zeroes present in weights for spikedetect.run,\n",
      "              may need to adjust `min_template_size` and/or `dminx` \n",
      "              for best results.\n",
      "\n",
      "              If you're using a probe with multiple shanks, see \n",
      "              https://kilosort.readthedocs.io/en/latest/multi_shank.html\n",
      "              \n",
      "  warnings.warn(msg, UserWarning)\n",
      "100%|██████████| 1060/1060 [04:27<00:00,  3.96it/s]\n"
     ]
    },
    {
     "name": "stdout",
     "output_type": "stream",
     "text": [
      "1004829 spikes extracted in  270.47s; total  275.42s\n",
      "\n",
      "First clustering\n"
     ]
    },
    {
     "name": "stderr",
     "output_type": "stream",
     "text": [
      "100%|██████████| 16/16 [00:15<00:00,  1.00it/s]\n"
     ]
    },
    {
     "name": "stdout",
     "output_type": "stream",
     "text": [
      "86 clusters found, in  16.02s; total  291.44s\n",
      "\n",
      "Extracting spikes using cluster waveforms\n"
     ]
    },
    {
     "name": "stderr",
     "output_type": "stream",
     "text": [
      "100%|██████████| 1060/1060 [01:03<00:00, 16.80it/s]\n"
     ]
    },
    {
     "name": "stdout",
     "output_type": "stream",
     "text": [
      "1135135 spikes extracted in  63.31s; total  354.75s\n",
      "\n",
      "Final clustering\n"
     ]
    },
    {
     "name": "stderr",
     "output_type": "stream",
     "text": [
      "100%|██████████| 16/16 [00:17<00:00,  1.08s/it]\n"
     ]
    },
    {
     "name": "stdout",
     "output_type": "stream",
     "text": [
      "45 clusters found, in  17.33s; total  372.08s\n",
      "\n",
      "Merging clusters\n",
      "45 units found, in  0.29s; total  372.37s\n",
      "\n",
      "Saving to phy and computing refractory periods\n",
      "21 units found with good refractory periods\n",
      "\n",
      "Total runtime: 379.08s = 00:06:19 h:m:s\n"
     ]
    },
    {
     "name": "stderr",
     "output_type": "stream",
     "text": [
      "/home/pc_lab/miniforge3/envs/kilosort_4_0_5/lib/python3.9/site-packages/spikeinterface/core/basesorting.py:239: UserWarning: The registered recording will not be persistent on disk, but only available in memory\n",
      "  warnings.warn(\"The registered recording will not be persistent on disk, but only available in memory\")\n"
     ]
    },
    {
     "name": "stdout",
     "output_type": "stream",
     "text": [
      "Exporting waveforms\n"
     ]
    },
    {
     "data": {
      "application/vnd.jupyter.widget-view+json": {
       "model_id": "b7ef6e84c98546b68f37c3b16a197ded",
       "version_major": 2,
       "version_minor": 0
      },
      "text/plain": [
       "extract waveforms memmap multi buffer:   0%|          | 0/17 [00:00<?, ?it/s]"
      ]
     },
     "metadata": {},
     "output_type": "display_data"
    },
    {
     "name": "stdout",
     "output_type": "stream",
     "text": [
      "we_spike_sorted is sparse: False\n",
      "Saving to phy\n"
     ]
    },
    {
     "data": {
      "application/vnd.jupyter.widget-view+json": {
       "model_id": "ce4d921c661140b4920316ab44268622",
       "version_major": 2,
       "version_minor": 0
      },
      "text/plain": [
       "write_binary_recording:   0%|          | 0/3179 [00:00<?, ?it/s]"
      ]
     },
     "metadata": {},
     "output_type": "display_data"
    },
    {
     "data": {
      "application/vnd.jupyter.widget-view+json": {
       "model_id": "8835776a12ac4f8a878f2a4080df6cf1",
       "version_major": 2,
       "version_minor": 0
      },
      "text/plain": [
       "extract amplitudes:   0%|          | 0/3179 [00:00<?, ?it/s]"
      ]
     },
     "metadata": {},
     "output_type": "display_data"
    },
    {
     "data": {
      "application/vnd.jupyter.widget-view+json": {
       "model_id": "625b958d5f5041a09d5fc632d86834b0",
       "version_major": 2,
       "version_minor": 0
      },
      "text/plain": [
       "Fitting PCA:   0%|          | 0/45 [00:00<?, ?it/s]"
      ]
     },
     "metadata": {},
     "output_type": "display_data"
    },
    {
     "data": {
      "application/vnd.jupyter.widget-view+json": {
       "model_id": "235e1cfa37a14a0e94233bb93fe46ff8",
       "version_major": 2,
       "version_minor": 0
      },
      "text/plain": [
       "Projecting waveforms:   0%|          | 0/45 [00:00<?, ?it/s]"
      ]
     },
     "metadata": {},
     "output_type": "display_data"
    },
    {
     "data": {
      "application/vnd.jupyter.widget-view+json": {
       "model_id": "d263f10244d84b3b9c6393b7d2beb549",
       "version_major": 2,
       "version_minor": 0
      },
      "text/plain": [
       "extract PCs:   0%|          | 0/3179 [00:00<?, ?it/s]"
      ]
     },
     "metadata": {},
     "output_type": "display_data"
    },
    {
     "name": "stdout",
     "output_type": "stream",
     "text": [
      "Run:\n",
      "phy template-gui  /scratch/back_up/reward_competition_extention/proc/spike_sorting/20240408_155308_comp_novel_subj_3-1_t5b5_merged.rec/phy/params.py\n",
      "/scratch/back_up/reward_competition_extention/data/rce_cohort_3/novel/20240408_155308_comp_novel_subj_3-1_and_3-4_and_5-2_and_5-3.rec/20240408_155308_comp_novel_subj_3-4_t6b6_merged.rec\n",
      "Output directory: /scratch/back_up/reward_competition_extention/proc/spike_sorting/20240408_155308_comp_novel_subj_3-4_t6b6_merged.rec\n",
      "Running bandpass filter\n",
      "Running whitening\n",
      "Spike sorting\n",
      "========================================\n",
      "Loading recording with SpikeInterface...\n",
      "number of samples: 63572079\n",
      "number of channels: 32\n",
      "numbef of segments: 1\n",
      "sampling rate: 20000.0\n",
      "dtype: float32\n",
      "========================================\n",
      "Skipping common average reference.\n",
      "Preprocessing filters computed in  4.80s; total  4.80s\n",
      "Skipping drift correction.\n",
      "\n",
      "computing drift\n",
      "nblocks = 0, skipping drift correction\n",
      "drift computed in  0.00s; total  4.80s\n",
      "\n",
      "Extracting spikes using templates\n",
      "Re-computing universal templates from data.\n"
     ]
    },
    {
     "name": "stderr",
     "output_type": "stream",
     "text": [
      "/home/pc_lab/miniforge3/envs/kilosort_4_0_5/lib/python3.9/site-packages/kilosort/spikedetect.py:235: UserWarning: \n",
      "              NaNs and/or zeroes present in weights for spikedetect.run,\n",
      "              may need to adjust `min_template_size` and/or `dminx` \n",
      "              for best results.\n",
      "\n",
      "              If you're using a probe with multiple shanks, see \n",
      "              https://kilosort.readthedocs.io/en/latest/multi_shank.html\n",
      "              \n",
      "  warnings.warn(msg, UserWarning)\n",
      "100%|██████████| 1060/1060 [04:26<00:00,  3.98it/s]\n"
     ]
    },
    {
     "name": "stdout",
     "output_type": "stream",
     "text": [
      "1229743 spikes extracted in  269.52s; total  274.32s\n",
      "\n",
      "First clustering\n"
     ]
    },
    {
     "name": "stderr",
     "output_type": "stream",
     "text": [
      "100%|██████████| 16/16 [00:20<00:00,  1.27s/it]\n",
      "/home/pc_lab/miniforge3/envs/kilosort_4_0_5/lib/python3.9/site-packages/kilosort/template_matching.py:71: UserWarning: Plan failed with a cudnnException: CUDNN_BACKEND_EXECUTION_PLAN_DESCRIPTOR: cudnnFinalize Descriptor Failed cudnn_status: CUDNN_STATUS_NOT_SUPPORTED (Triggered internally at /opt/conda/conda-bld/pytorch_1712608885084/work/aten/src/ATen/native/cudnn/Conv_v8.cpp:919.)\n",
      "  X = conv1d(X.unsqueeze(1), ops['wTEMP'].unsqueeze(1), padding=ops['nt']//2)\n"
     ]
    },
    {
     "name": "stdout",
     "output_type": "stream",
     "text": [
      "115 clusters found, in  20.46s; total  294.79s\n",
      "\n",
      "Extracting spikes using cluster waveforms\n"
     ]
    },
    {
     "name": "stderr",
     "output_type": "stream",
     "text": [
      "100%|██████████| 1060/1060 [01:00<00:00, 17.53it/s]\n"
     ]
    },
    {
     "name": "stdout",
     "output_type": "stream",
     "text": [
      "1280300 spikes extracted in  60.71s; total  355.49s\n",
      "\n",
      "Final clustering\n"
     ]
    },
    {
     "name": "stderr",
     "output_type": "stream",
     "text": [
      "100%|██████████| 16/16 [00:19<00:00,  1.19s/it]\n"
     ]
    },
    {
     "name": "stdout",
     "output_type": "stream",
     "text": [
      "58 clusters found, in  19.03s; total  374.53s\n",
      "\n",
      "Merging clusters\n",
      "58 units found, in  0.36s; total  374.89s\n",
      "\n",
      "Saving to phy and computing refractory periods\n",
      "20 units found with good refractory periods\n",
      "\n",
      "Total runtime: 382.49s = 00:06:22 h:m:s\n"
     ]
    },
    {
     "name": "stderr",
     "output_type": "stream",
     "text": [
      "/home/pc_lab/miniforge3/envs/kilosort_4_0_5/lib/python3.9/site-packages/spikeinterface/core/basesorting.py:239: UserWarning: The registered recording will not be persistent on disk, but only available in memory\n",
      "  warnings.warn(\"The registered recording will not be persistent on disk, but only available in memory\")\n"
     ]
    },
    {
     "name": "stdout",
     "output_type": "stream",
     "text": [
      "Exporting waveforms\n"
     ]
    },
    {
     "data": {
      "application/vnd.jupyter.widget-view+json": {
       "model_id": "0abc54f6e4dd4a29807755cdd7d0fa3e",
       "version_major": 2,
       "version_minor": 0
      },
      "text/plain": [
       "extract waveforms memmap multi buffer:   0%|          | 0/17 [00:00<?, ?it/s]"
      ]
     },
     "metadata": {},
     "output_type": "display_data"
    },
    {
     "name": "stdout",
     "output_type": "stream",
     "text": [
      "we_spike_sorted is sparse: False\n",
      "Saving to phy\n"
     ]
    },
    {
     "data": {
      "application/vnd.jupyter.widget-view+json": {
       "model_id": "0948cb0efe1d4f99aa3a8b9ddc8b8672",
       "version_major": 2,
       "version_minor": 0
      },
      "text/plain": [
       "write_binary_recording:   0%|          | 0/3179 [00:00<?, ?it/s]"
      ]
     },
     "metadata": {},
     "output_type": "display_data"
    },
    {
     "data": {
      "application/vnd.jupyter.widget-view+json": {
       "model_id": "f1cff5aef73147e29611309fd57e140d",
       "version_major": 2,
       "version_minor": 0
      },
      "text/plain": [
       "extract amplitudes:   0%|          | 0/3179 [00:00<?, ?it/s]"
      ]
     },
     "metadata": {},
     "output_type": "display_data"
    },
    {
     "data": {
      "application/vnd.jupyter.widget-view+json": {
       "model_id": "ddedefa1bdea4588abf46a62c1fd43c3",
       "version_major": 2,
       "version_minor": 0
      },
      "text/plain": [
       "Fitting PCA:   0%|          | 0/58 [00:00<?, ?it/s]"
      ]
     },
     "metadata": {},
     "output_type": "display_data"
    },
    {
     "data": {
      "application/vnd.jupyter.widget-view+json": {
       "model_id": "677afb15dd8d4bbea96a6eeb2f3a278d",
       "version_major": 2,
       "version_minor": 0
      },
      "text/plain": [
       "Projecting waveforms:   0%|          | 0/58 [00:00<?, ?it/s]"
      ]
     },
     "metadata": {},
     "output_type": "display_data"
    },
    {
     "data": {
      "application/vnd.jupyter.widget-view+json": {
       "model_id": "f23e53b4f9e248a181639f2261544a7a",
       "version_major": 2,
       "version_minor": 0
      },
      "text/plain": [
       "extract PCs:   0%|          | 0/3179 [00:00<?, ?it/s]"
      ]
     },
     "metadata": {},
     "output_type": "display_data"
    },
    {
     "name": "stdout",
     "output_type": "stream",
     "text": [
      "Run:\n",
      "phy template-gui  /scratch/back_up/reward_competition_extention/proc/spike_sorting/20240408_155308_comp_novel_subj_3-4_t6b6_merged.rec/phy/params.py\n",
      "/scratch/back_up/reward_competition_extention/data/rce_cohort_3/novel/20240408_155308_comp_novel_subj_3-1_and_3-4_and_5-2_and_5-3.rec/20240408_155308_comp_novel_subj_5-2_t4b4_merged.rec\n",
      "Output directory: /scratch/back_up/reward_competition_extention/proc/spike_sorting/20240408_155308_comp_novel_subj_5-2_t4b4_merged.rec\n",
      "Running bandpass filter\n",
      "Running whitening\n",
      "Spike sorting\n",
      "========================================\n",
      "Loading recording with SpikeInterface...\n",
      "number of samples: 63571796\n",
      "number of channels: 32\n",
      "numbef of segments: 1\n",
      "sampling rate: 20000.0\n",
      "dtype: float32\n",
      "========================================\n",
      "Skipping common average reference.\n",
      "Preprocessing filters computed in  4.95s; total  4.95s\n",
      "Skipping drift correction.\n",
      "\n",
      "computing drift\n",
      "nblocks = 0, skipping drift correction\n",
      "drift computed in  0.00s; total  4.95s\n",
      "\n",
      "Extracting spikes using templates\n",
      "Re-computing universal templates from data.\n"
     ]
    },
    {
     "name": "stderr",
     "output_type": "stream",
     "text": [
      "/home/pc_lab/miniforge3/envs/kilosort_4_0_5/lib/python3.9/site-packages/kilosort/spikedetect.py:235: UserWarning: \n",
      "              NaNs and/or zeroes present in weights for spikedetect.run,\n",
      "              may need to adjust `min_template_size` and/or `dminx` \n",
      "              for best results.\n",
      "\n",
      "              If you're using a probe with multiple shanks, see \n",
      "              https://kilosort.readthedocs.io/en/latest/multi_shank.html\n",
      "              \n",
      "  warnings.warn(msg, UserWarning)\n",
      "100%|██████████| 1060/1060 [04:25<00:00,  3.99it/s]\n"
     ]
    },
    {
     "name": "stdout",
     "output_type": "stream",
     "text": [
      "1129629 spikes extracted in  268.43s; total  273.38s\n",
      "\n",
      "First clustering\n"
     ]
    },
    {
     "name": "stderr",
     "output_type": "stream",
     "text": [
      "100%|██████████| 16/16 [00:17<00:00,  1.06s/it]\n",
      "/home/pc_lab/miniforge3/envs/kilosort_4_0_5/lib/python3.9/site-packages/kilosort/template_matching.py:71: UserWarning: Plan failed with a cudnnException: CUDNN_BACKEND_EXECUTION_PLAN_DESCRIPTOR: cudnnFinalize Descriptor Failed cudnn_status: CUDNN_STATUS_NOT_SUPPORTED (Triggered internally at /opt/conda/conda-bld/pytorch_1712608885084/work/aten/src/ATen/native/cudnn/Conv_v8.cpp:919.)\n",
      "  X = conv1d(X.unsqueeze(1), ops['wTEMP'].unsqueeze(1), padding=ops['nt']//2)\n"
     ]
    },
    {
     "name": "stdout",
     "output_type": "stream",
     "text": [
      "87 clusters found, in  17.13s; total  290.51s\n",
      "\n",
      "Extracting spikes using cluster waveforms\n"
     ]
    },
    {
     "name": "stderr",
     "output_type": "stream",
     "text": [
      "100%|██████████| 1060/1060 [01:16<00:00, 13.90it/s]\n"
     ]
    },
    {
     "name": "stdout",
     "output_type": "stream",
     "text": [
      "1067149 spikes extracted in  76.46s; total  366.96s\n",
      "\n",
      "Final clustering\n"
     ]
    },
    {
     "name": "stderr",
     "output_type": "stream",
     "text": [
      "100%|██████████| 16/16 [00:15<00:00,  1.02it/s]\n"
     ]
    },
    {
     "name": "stdout",
     "output_type": "stream",
     "text": [
      "56 clusters found, in  15.64s; total  382.60s\n",
      "\n",
      "Merging clusters\n",
      "56 units found, in  0.28s; total  382.88s\n",
      "\n",
      "Saving to phy and computing refractory periods\n",
      "11 units found with good refractory periods\n",
      "\n",
      "Total runtime: 388.94s = 00:06:29 h:m:s\n"
     ]
    },
    {
     "name": "stderr",
     "output_type": "stream",
     "text": [
      "/home/pc_lab/miniforge3/envs/kilosort_4_0_5/lib/python3.9/site-packages/spikeinterface/core/basesorting.py:239: UserWarning: The registered recording will not be persistent on disk, but only available in memory\n",
      "  warnings.warn(\"The registered recording will not be persistent on disk, but only available in memory\")\n"
     ]
    },
    {
     "name": "stdout",
     "output_type": "stream",
     "text": [
      "Exporting waveforms\n"
     ]
    },
    {
     "data": {
      "application/vnd.jupyter.widget-view+json": {
       "model_id": "19903da58fdd40289213b427ee9441e9",
       "version_major": 2,
       "version_minor": 0
      },
      "text/plain": [
       "extract waveforms memmap multi buffer:   0%|          | 0/17 [00:00<?, ?it/s]"
      ]
     },
     "metadata": {},
     "output_type": "display_data"
    },
    {
     "name": "stdout",
     "output_type": "stream",
     "text": [
      "we_spike_sorted is sparse: False\n",
      "Saving to phy\n"
     ]
    },
    {
     "data": {
      "application/vnd.jupyter.widget-view+json": {
       "model_id": "ffa5f3761d0e4cc0aa7394ddb1285a9f",
       "version_major": 2,
       "version_minor": 0
      },
      "text/plain": [
       "write_binary_recording:   0%|          | 0/3179 [00:00<?, ?it/s]"
      ]
     },
     "metadata": {},
     "output_type": "display_data"
    },
    {
     "data": {
      "application/vnd.jupyter.widget-view+json": {
       "model_id": "ac7c6c76a6f345528425a5d78623965b",
       "version_major": 2,
       "version_minor": 0
      },
      "text/plain": [
       "extract amplitudes:   0%|          | 0/3179 [00:00<?, ?it/s]"
      ]
     },
     "metadata": {},
     "output_type": "display_data"
    },
    {
     "data": {
      "application/vnd.jupyter.widget-view+json": {
       "model_id": "11c2929a9a834e2b98c18fed7f14a0ed",
       "version_major": 2,
       "version_minor": 0
      },
      "text/plain": [
       "Fitting PCA:   0%|          | 0/56 [00:00<?, ?it/s]"
      ]
     },
     "metadata": {},
     "output_type": "display_data"
    },
    {
     "data": {
      "application/vnd.jupyter.widget-view+json": {
       "model_id": "606b52124f8a44188daef5acb9a75364",
       "version_major": 2,
       "version_minor": 0
      },
      "text/plain": [
       "Projecting waveforms:   0%|          | 0/56 [00:00<?, ?it/s]"
      ]
     },
     "metadata": {},
     "output_type": "display_data"
    },
    {
     "data": {
      "application/vnd.jupyter.widget-view+json": {
       "model_id": "f974c388087843eb9cc7b2ef5e15aff1",
       "version_major": 2,
       "version_minor": 0
      },
      "text/plain": [
       "extract PCs:   0%|          | 0/3179 [00:00<?, ?it/s]"
      ]
     },
     "metadata": {},
     "output_type": "display_data"
    },
    {
     "name": "stdout",
     "output_type": "stream",
     "text": [
      "Run:\n",
      "phy template-gui  /scratch/back_up/reward_competition_extention/proc/spike_sorting/20240408_155308_comp_novel_subj_5-2_t4b4_merged.rec/phy/params.py\n",
      "/scratch/back_up/reward_competition_extention/data/rce_cohort_3/novel/20240401_151442_comp_novel_subj_3-1_and_3-3_and_4-2_and_4-4.rec/20240401_151442_comp_novel_subj_3-1_t5b5_merged.rec\n",
      "Output directory: /scratch/back_up/reward_competition_extention/proc/spike_sorting/20240401_151442_comp_novel_subj_3-1_t5b5_merged.rec\n",
      "Running bandpass filter\n",
      "Running whitening\n",
      "Spike sorting\n",
      "========================================\n",
      "Loading recording with SpikeInterface...\n",
      "number of samples: 63596913\n",
      "number of channels: 32\n",
      "numbef of segments: 1\n",
      "sampling rate: 20000.0\n",
      "dtype: float32\n",
      "========================================\n",
      "Skipping common average reference.\n",
      "Preprocessing filters computed in  4.76s; total  4.76s\n",
      "Skipping drift correction.\n",
      "\n",
      "computing drift\n",
      "nblocks = 0, skipping drift correction\n",
      "drift computed in  0.00s; total  4.77s\n",
      "\n",
      "Extracting spikes using templates\n",
      "Re-computing universal templates from data.\n"
     ]
    },
    {
     "name": "stderr",
     "output_type": "stream",
     "text": [
      "/home/pc_lab/miniforge3/envs/kilosort_4_0_5/lib/python3.9/site-packages/kilosort/spikedetect.py:235: UserWarning: \n",
      "              NaNs and/or zeroes present in weights for spikedetect.run,\n",
      "              may need to adjust `min_template_size` and/or `dminx` \n",
      "              for best results.\n",
      "\n",
      "              If you're using a probe with multiple shanks, see \n",
      "              https://kilosort.readthedocs.io/en/latest/multi_shank.html\n",
      "              \n",
      "  warnings.warn(msg, UserWarning)\n",
      "100%|██████████| 1060/1060 [04:22<00:00,  4.03it/s]\n"
     ]
    },
    {
     "name": "stdout",
     "output_type": "stream",
     "text": [
      "992600 spikes extracted in  265.86s; total  270.63s\n",
      "\n",
      "First clustering\n"
     ]
    },
    {
     "name": "stderr",
     "output_type": "stream",
     "text": [
      "100%|██████████| 16/16 [00:15<00:00,  1.02it/s]\n"
     ]
    },
    {
     "name": "stdout",
     "output_type": "stream",
     "text": [
      "79 clusters found, in  15.77s; total  286.40s\n",
      "\n",
      "Extracting spikes using cluster waveforms\n"
     ]
    },
    {
     "name": "stderr",
     "output_type": "stream",
     "text": [
      "100%|██████████| 1060/1060 [00:58<00:00, 18.03it/s]\n"
     ]
    },
    {
     "name": "stdout",
     "output_type": "stream",
     "text": [
      "1050774 spikes extracted in  59.00s; total  345.40s\n",
      "\n",
      "Final clustering\n"
     ]
    },
    {
     "name": "stderr",
     "output_type": "stream",
     "text": [
      "100%|██████████| 16/16 [00:14<00:00,  1.08it/s]\n"
     ]
    },
    {
     "name": "stdout",
     "output_type": "stream",
     "text": [
      "36 clusters found, in  14.86s; total  360.26s\n",
      "\n",
      "Merging clusters\n",
      "35 units found, in  0.26s; total  360.52s\n",
      "\n",
      "Saving to phy and computing refractory periods\n",
      "17 units found with good refractory periods\n",
      "\n",
      "Total runtime: 366.30s = 00:06:6 h:m:s\n"
     ]
    },
    {
     "name": "stderr",
     "output_type": "stream",
     "text": [
      "/home/pc_lab/miniforge3/envs/kilosort_4_0_5/lib/python3.9/site-packages/spikeinterface/core/basesorting.py:239: UserWarning: The registered recording will not be persistent on disk, but only available in memory\n",
      "  warnings.warn(\"The registered recording will not be persistent on disk, but only available in memory\")\n"
     ]
    },
    {
     "name": "stdout",
     "output_type": "stream",
     "text": [
      "Exporting waveforms\n"
     ]
    },
    {
     "data": {
      "application/vnd.jupyter.widget-view+json": {
       "model_id": "a4906fbf300f490987257c1cab7c353b",
       "version_major": 2,
       "version_minor": 0
      },
      "text/plain": [
       "extract waveforms memmap multi buffer:   0%|          | 0/17 [00:00<?, ?it/s]"
      ]
     },
     "metadata": {},
     "output_type": "display_data"
    },
    {
     "name": "stdout",
     "output_type": "stream",
     "text": [
      "we_spike_sorted is sparse: False\n",
      "Saving to phy\n"
     ]
    },
    {
     "data": {
      "application/vnd.jupyter.widget-view+json": {
       "model_id": "ad9f6112daf748aabcac0b9a229335b4",
       "version_major": 2,
       "version_minor": 0
      },
      "text/plain": [
       "write_binary_recording:   0%|          | 0/3180 [00:00<?, ?it/s]"
      ]
     },
     "metadata": {},
     "output_type": "display_data"
    },
    {
     "data": {
      "application/vnd.jupyter.widget-view+json": {
       "model_id": "2e62dea4944e4bafb2690d92be7af623",
       "version_major": 2,
       "version_minor": 0
      },
      "text/plain": [
       "extract amplitudes:   0%|          | 0/3180 [00:00<?, ?it/s]"
      ]
     },
     "metadata": {},
     "output_type": "display_data"
    },
    {
     "data": {
      "application/vnd.jupyter.widget-view+json": {
       "model_id": "0a6abd7e08ef48f39c91b58686a16645",
       "version_major": 2,
       "version_minor": 0
      },
      "text/plain": [
       "Fitting PCA:   0%|          | 0/35 [00:00<?, ?it/s]"
      ]
     },
     "metadata": {},
     "output_type": "display_data"
    },
    {
     "data": {
      "application/vnd.jupyter.widget-view+json": {
       "model_id": "27170082013d40e4929044de0f449a76",
       "version_major": 2,
       "version_minor": 0
      },
      "text/plain": [
       "Projecting waveforms:   0%|          | 0/35 [00:00<?, ?it/s]"
      ]
     },
     "metadata": {},
     "output_type": "display_data"
    },
    {
     "data": {
      "application/vnd.jupyter.widget-view+json": {
       "model_id": "a6c301b034534a9cb062002da72fd0e3",
       "version_major": 2,
       "version_minor": 0
      },
      "text/plain": [
       "extract PCs:   0%|          | 0/3180 [00:00<?, ?it/s]"
      ]
     },
     "metadata": {},
     "output_type": "display_data"
    },
    {
     "name": "stdout",
     "output_type": "stream",
     "text": [
      "Run:\n",
      "phy template-gui  /scratch/back_up/reward_competition_extention/proc/spike_sorting/20240401_151442_comp_novel_subj_3-1_t5b5_merged.rec/phy/params.py\n",
      "/scratch/back_up/reward_competition_extention/data/rce_cohort_3/novel/20240401_151442_comp_novel_subj_3-1_and_3-3_and_4-2_and_4-4.rec/20240401_151442_comp_novel_subj_3-3_t6b6_merged.rec\n",
      "Output directory: /scratch/back_up/reward_competition_extention/proc/spike_sorting/20240401_151442_comp_novel_subj_3-3_t6b6_merged.rec\n",
      "Running bandpass filter\n",
      "Running whitening\n",
      "Spike sorting\n",
      "========================================\n",
      "Loading recording with SpikeInterface...\n",
      "number of samples: 63597022\n",
      "number of channels: 32\n",
      "numbef of segments: 1\n",
      "sampling rate: 20000.0\n",
      "dtype: float32\n",
      "========================================\n",
      "Skipping common average reference.\n",
      "Preprocessing filters computed in  4.74s; total  4.74s\n",
      "Skipping drift correction.\n",
      "\n",
      "computing drift\n",
      "nblocks = 0, skipping drift correction\n",
      "drift computed in  0.00s; total  4.75s\n",
      "\n",
      "Extracting spikes using templates\n",
      "Re-computing universal templates from data.\n"
     ]
    },
    {
     "name": "stderr",
     "output_type": "stream",
     "text": [
      "/home/pc_lab/miniforge3/envs/kilosort_4_0_5/lib/python3.9/site-packages/kilosort/spikedetect.py:235: UserWarning: \n",
      "              NaNs and/or zeroes present in weights for spikedetect.run,\n",
      "              may need to adjust `min_template_size` and/or `dminx` \n",
      "              for best results.\n",
      "\n",
      "              If you're using a probe with multiple shanks, see \n",
      "              https://kilosort.readthedocs.io/en/latest/multi_shank.html\n",
      "              \n",
      "  warnings.warn(msg, UserWarning)\n",
      "100%|██████████| 1060/1060 [04:22<00:00,  4.03it/s]\n"
     ]
    },
    {
     "name": "stdout",
     "output_type": "stream",
     "text": [
      "892219 spikes extracted in  265.81s; total  270.56s\n",
      "\n",
      "First clustering\n"
     ]
    },
    {
     "name": "stderr",
     "output_type": "stream",
     "text": [
      "100%|██████████| 16/16 [00:13<00:00,  1.16it/s]\n",
      "/home/pc_lab/miniforge3/envs/kilosort_4_0_5/lib/python3.9/site-packages/kilosort/template_matching.py:71: UserWarning: Plan failed with a cudnnException: CUDNN_BACKEND_EXECUTION_PLAN_DESCRIPTOR: cudnnFinalize Descriptor Failed cudnn_status: CUDNN_STATUS_NOT_SUPPORTED (Triggered internally at /opt/conda/conda-bld/pytorch_1712608885084/work/aten/src/ATen/native/cudnn/Conv_v8.cpp:919.)\n",
      "  X = conv1d(X.unsqueeze(1), ops['wTEMP'].unsqueeze(1), padding=ops['nt']//2)\n"
     ]
    },
    {
     "name": "stdout",
     "output_type": "stream",
     "text": [
      "105 clusters found, in  13.89s; total  284.45s\n",
      "\n",
      "Extracting spikes using cluster waveforms\n"
     ]
    },
    {
     "name": "stderr",
     "output_type": "stream",
     "text": [
      "100%|██████████| 1060/1060 [01:04<00:00, 16.47it/s]\n"
     ]
    },
    {
     "name": "stdout",
     "output_type": "stream",
     "text": [
      "1065654 spikes extracted in  64.59s; total  349.05s\n",
      "\n",
      "Final clustering\n"
     ]
    },
    {
     "name": "stderr",
     "output_type": "stream",
     "text": [
      "100%|██████████| 16/16 [00:14<00:00,  1.08it/s]\n"
     ]
    },
    {
     "name": "stdout",
     "output_type": "stream",
     "text": [
      "56 clusters found, in  14.80s; total  363.85s\n",
      "\n",
      "Merging clusters\n",
      "56 units found, in  0.27s; total  364.12s\n",
      "\n",
      "Saving to phy and computing refractory periods\n",
      "21 units found with good refractory periods\n",
      "\n",
      "Total runtime: 370.30s = 00:06:10 h:m:s\n"
     ]
    },
    {
     "name": "stderr",
     "output_type": "stream",
     "text": [
      "/home/pc_lab/miniforge3/envs/kilosort_4_0_5/lib/python3.9/site-packages/spikeinterface/core/basesorting.py:175: UserWarning: Some spikes exceed the recording's duration! Removing these excess spikes with `spikeinterface.curation.remove_excess_spikes()` Might be necessary for further postprocessing.\n",
      "  warnings.warn(\n",
      "/home/pc_lab/miniforge3/envs/kilosort_4_0_5/lib/python3.9/site-packages/spikeinterface/core/basesorting.py:239: UserWarning: The registered recording will not be persistent on disk, but only available in memory\n",
      "  warnings.warn(\"The registered recording will not be persistent on disk, but only available in memory\")\n"
     ]
    },
    {
     "name": "stdout",
     "output_type": "stream",
     "text": [
      "Exporting waveforms\n",
      "The sorting object has spikes exceeding the recording duration. You have to remove those spikes with the `spikeinterface.curation.remove_excess_spikes()` function\n",
      "/scratch/back_up/reward_competition_extention/data/rce_cohort_3/novel/20240401_151442_comp_novel_subj_3-1_and_3-3_and_4-2_and_4-4.rec/20240401_151442_comp_novel_subj_4-2_t3b3_merged.rec\n",
      "Output directory: /scratch/back_up/reward_competition_extention/proc/spike_sorting/20240401_151442_comp_novel_subj_4-2_t3b3_merged.rec\n",
      "Running bandpass filter\n",
      "Running whitening\n",
      "Spike sorting\n",
      "========================================\n",
      "Loading recording with SpikeInterface...\n",
      "number of samples: 63586375\n",
      "number of channels: 32\n",
      "numbef of segments: 1\n",
      "sampling rate: 20000.0\n",
      "dtype: float32\n",
      "========================================\n",
      "Skipping common average reference.\n",
      "Preprocessing filters computed in  4.52s; total  4.52s\n",
      "Skipping drift correction.\n",
      "\n",
      "computing drift\n",
      "nblocks = 0, skipping drift correction\n",
      "drift computed in  0.00s; total  4.52s\n",
      "\n",
      "Extracting spikes using templates\n",
      "Re-computing universal templates from data.\n"
     ]
    },
    {
     "name": "stderr",
     "output_type": "stream",
     "text": [
      "/home/pc_lab/miniforge3/envs/kilosort_4_0_5/lib/python3.9/site-packages/kilosort/spikedetect.py:235: UserWarning: \n",
      "              NaNs and/or zeroes present in weights for spikedetect.run,\n",
      "              may need to adjust `min_template_size` and/or `dminx` \n",
      "              for best results.\n",
      "\n",
      "              If you're using a probe with multiple shanks, see \n",
      "              https://kilosort.readthedocs.io/en/latest/multi_shank.html\n",
      "              \n",
      "  warnings.warn(msg, UserWarning)\n",
      "100%|██████████| 1060/1060 [04:25<00:00,  4.00it/s]\n"
     ]
    },
    {
     "name": "stdout",
     "output_type": "stream",
     "text": [
      "995961 spikes extracted in  267.86s; total  272.38s\n",
      "\n",
      "First clustering\n"
     ]
    },
    {
     "name": "stderr",
     "output_type": "stream",
     "text": [
      "100%|██████████| 16/16 [00:15<00:00,  1.02it/s]\n"
     ]
    },
    {
     "name": "stdout",
     "output_type": "stream",
     "text": [
      "96 clusters found, in  15.75s; total  288.13s\n",
      "\n",
      "Extracting spikes using cluster waveforms\n"
     ]
    },
    {
     "name": "stderr",
     "output_type": "stream",
     "text": [
      "100%|██████████| 1060/1060 [00:57<00:00, 18.60it/s]\n"
     ]
    },
    {
     "name": "stdout",
     "output_type": "stream",
     "text": [
      "1008191 spikes extracted in  57.22s; total  345.35s\n",
      "\n",
      "Final clustering\n"
     ]
    },
    {
     "name": "stderr",
     "output_type": "stream",
     "text": [
      "100%|██████████| 16/16 [00:13<00:00,  1.17it/s]\n"
     ]
    },
    {
     "name": "stdout",
     "output_type": "stream",
     "text": [
      "30 clusters found, in  13.71s; total  359.07s\n",
      "\n",
      "Merging clusters\n",
      "29 units found, in  0.22s; total  359.29s\n",
      "\n",
      "Saving to phy and computing refractory periods\n",
      "12 units found with good refractory periods\n",
      "\n",
      "Total runtime: 364.59s = 00:06:5 h:m:s\n"
     ]
    },
    {
     "name": "stderr",
     "output_type": "stream",
     "text": [
      "/home/pc_lab/miniforge3/envs/kilosort_4_0_5/lib/python3.9/site-packages/spikeinterface/core/basesorting.py:239: UserWarning: The registered recording will not be persistent on disk, but only available in memory\n",
      "  warnings.warn(\"The registered recording will not be persistent on disk, but only available in memory\")\n"
     ]
    },
    {
     "name": "stdout",
     "output_type": "stream",
     "text": [
      "Exporting waveforms\n"
     ]
    },
    {
     "data": {
      "application/vnd.jupyter.widget-view+json": {
       "model_id": "a5b9c37a2eae474da0fa784eb2952094",
       "version_major": 2,
       "version_minor": 0
      },
      "text/plain": [
       "extract waveforms memmap multi buffer:   0%|          | 0/17 [00:00<?, ?it/s]"
      ]
     },
     "metadata": {},
     "output_type": "display_data"
    },
    {
     "name": "stdout",
     "output_type": "stream",
     "text": [
      "we_spike_sorted is sparse: False\n",
      "Saving to phy\n"
     ]
    },
    {
     "data": {
      "application/vnd.jupyter.widget-view+json": {
       "model_id": "0c96ff312bbf4a4b846f11ae6335629f",
       "version_major": 2,
       "version_minor": 0
      },
      "text/plain": [
       "write_binary_recording:   0%|          | 0/3180 [00:00<?, ?it/s]"
      ]
     },
     "metadata": {},
     "output_type": "display_data"
    },
    {
     "data": {
      "application/vnd.jupyter.widget-view+json": {
       "model_id": "db3180b95812442cbcf2d91f20078972",
       "version_major": 2,
       "version_minor": 0
      },
      "text/plain": [
       "extract amplitudes:   0%|          | 0/3180 [00:00<?, ?it/s]"
      ]
     },
     "metadata": {},
     "output_type": "display_data"
    },
    {
     "data": {
      "application/vnd.jupyter.widget-view+json": {
       "model_id": "37ecc80e0bb742c29bd64ebb821644a2",
       "version_major": 2,
       "version_minor": 0
      },
      "text/plain": [
       "Fitting PCA:   0%|          | 0/29 [00:00<?, ?it/s]"
      ]
     },
     "metadata": {},
     "output_type": "display_data"
    },
    {
     "data": {
      "application/vnd.jupyter.widget-view+json": {
       "model_id": "1dd20b54dce64a14b087e0740034ba1a",
       "version_major": 2,
       "version_minor": 0
      },
      "text/plain": [
       "Projecting waveforms:   0%|          | 0/29 [00:00<?, ?it/s]"
      ]
     },
     "metadata": {},
     "output_type": "display_data"
    },
    {
     "data": {
      "application/vnd.jupyter.widget-view+json": {
       "model_id": "8ed69fe7fc114f7586afda77869f007d",
       "version_major": 2,
       "version_minor": 0
      },
      "text/plain": [
       "extract PCs:   0%|          | 0/3180 [00:00<?, ?it/s]"
      ]
     },
     "metadata": {},
     "output_type": "display_data"
    },
    {
     "name": "stdout",
     "output_type": "stream",
     "text": [
      "Run:\n",
      "phy template-gui  /scratch/back_up/reward_competition_extention/proc/spike_sorting/20240401_151442_comp_novel_subj_4-2_t3b3_merged.rec/phy/params.py\n",
      "/scratch/back_up/reward_competition_extention/data/rce_cohort_3/novel/20240401_151442_comp_novel_subj_3-1_and_3-3_and_4-2_and_4-4.rec/20240401_151442_comp_novel_subj_4-4_t4b4_merged.rec\n",
      "Output directory: /scratch/back_up/reward_competition_extention/proc/spike_sorting/20240401_151442_comp_novel_subj_4-4_t4b4_merged.rec\n",
      "Running bandpass filter\n",
      "Running whitening\n",
      "Spike sorting\n",
      "========================================\n",
      "Loading recording with SpikeInterface...\n",
      "number of samples: 63596726\n",
      "number of channels: 32\n",
      "numbef of segments: 1\n",
      "sampling rate: 20000.0\n",
      "dtype: float32\n",
      "========================================\n",
      "Skipping common average reference.\n",
      "Preprocessing filters computed in  4.61s; total  4.61s\n",
      "Skipping drift correction.\n",
      "\n",
      "computing drift\n",
      "nblocks = 0, skipping drift correction\n",
      "drift computed in  0.00s; total  4.62s\n",
      "\n",
      "Extracting spikes using templates\n",
      "Re-computing universal templates from data.\n"
     ]
    },
    {
     "name": "stderr",
     "output_type": "stream",
     "text": [
      "/home/pc_lab/miniforge3/envs/kilosort_4_0_5/lib/python3.9/site-packages/kilosort/spikedetect.py:235: UserWarning: \n",
      "              NaNs and/or zeroes present in weights for spikedetect.run,\n",
      "              may need to adjust `min_template_size` and/or `dminx` \n",
      "              for best results.\n",
      "\n",
      "              If you're using a probe with multiple shanks, see \n",
      "              https://kilosort.readthedocs.io/en/latest/multi_shank.html\n",
      "              \n",
      "  warnings.warn(msg, UserWarning)\n",
      "100%|██████████| 1060/1060 [04:25<00:00,  3.99it/s]\n"
     ]
    },
    {
     "name": "stdout",
     "output_type": "stream",
     "text": [
      "212751 spikes extracted in  267.72s; total  272.34s\n",
      "\n",
      "First clustering\n"
     ]
    },
    {
     "name": "stderr",
     "output_type": "stream",
     "text": [
      "100%|██████████| 16/16 [00:04<00:00,  3.24it/s]\n",
      "/home/pc_lab/miniforge3/envs/kilosort_4_0_5/lib/python3.9/site-packages/kilosort/template_matching.py:71: UserWarning: Plan failed with a cudnnException: CUDNN_BACKEND_EXECUTION_PLAN_DESCRIPTOR: cudnnFinalize Descriptor Failed cudnn_status: CUDNN_STATUS_NOT_SUPPORTED (Triggered internally at /opt/conda/conda-bld/pytorch_1712608885084/work/aten/src/ATen/native/cudnn/Conv_v8.cpp:919.)\n",
      "  X = conv1d(X.unsqueeze(1), ops['wTEMP'].unsqueeze(1), padding=ops['nt']//2)\n"
     ]
    },
    {
     "name": "stdout",
     "output_type": "stream",
     "text": [
      "67 clusters found, in  5.03s; total  277.36s\n",
      "\n",
      "Extracting spikes using cluster waveforms\n"
     ]
    },
    {
     "name": "stderr",
     "output_type": "stream",
     "text": [
      "100%|██████████| 1060/1060 [00:59<00:00, 17.94it/s]\n"
     ]
    },
    {
     "name": "stdout",
     "output_type": "stream",
     "text": [
      "362891 spikes extracted in  59.18s; total  336.55s\n",
      "\n",
      "Final clustering\n"
     ]
    },
    {
     "name": "stderr",
     "output_type": "stream",
     "text": [
      "100%|██████████| 16/16 [00:05<00:00,  2.68it/s]\n"
     ]
    },
    {
     "name": "stdout",
     "output_type": "stream",
     "text": [
      "42 clusters found, in  5.98s; total  342.52s\n",
      "\n",
      "Merging clusters\n",
      "42 units found, in  0.12s; total  342.65s\n",
      "\n",
      "Saving to phy and computing refractory periods\n",
      "7 units found with good refractory periods\n",
      "\n",
      "Total runtime: 344.78s = 00:05:45 h:m:s\n"
     ]
    },
    {
     "name": "stderr",
     "output_type": "stream",
     "text": [
      "/home/pc_lab/miniforge3/envs/kilosort_4_0_5/lib/python3.9/site-packages/spikeinterface/core/basesorting.py:239: UserWarning: The registered recording will not be persistent on disk, but only available in memory\n",
      "  warnings.warn(\"The registered recording will not be persistent on disk, but only available in memory\")\n"
     ]
    },
    {
     "name": "stdout",
     "output_type": "stream",
     "text": [
      "Exporting waveforms\n"
     ]
    },
    {
     "data": {
      "application/vnd.jupyter.widget-view+json": {
       "model_id": "dd488654f3134a46a7a311b4e64bb29a",
       "version_major": 2,
       "version_minor": 0
      },
      "text/plain": [
       "extract waveforms memmap multi buffer:   0%|          | 0/17 [00:00<?, ?it/s]"
      ]
     },
     "metadata": {},
     "output_type": "display_data"
    },
    {
     "name": "stdout",
     "output_type": "stream",
     "text": [
      "we_spike_sorted is sparse: False\n",
      "Saving to phy\n"
     ]
    },
    {
     "data": {
      "application/vnd.jupyter.widget-view+json": {
       "model_id": "d45202f76c0246fc81a1386e8e912cbf",
       "version_major": 2,
       "version_minor": 0
      },
      "text/plain": [
       "write_binary_recording:   0%|          | 0/3180 [00:00<?, ?it/s]"
      ]
     },
     "metadata": {},
     "output_type": "display_data"
    },
    {
     "data": {
      "application/vnd.jupyter.widget-view+json": {
       "model_id": "bb6954bc0b3f4a22aff587b3c65027f7",
       "version_major": 2,
       "version_minor": 0
      },
      "text/plain": [
       "extract amplitudes:   0%|          | 0/3180 [00:00<?, ?it/s]"
      ]
     },
     "metadata": {},
     "output_type": "display_data"
    },
    {
     "data": {
      "application/vnd.jupyter.widget-view+json": {
       "model_id": "3a869a7607ae403cb5ca2846a61c8123",
       "version_major": 2,
       "version_minor": 0
      },
      "text/plain": [
       "Fitting PCA:   0%|          | 0/42 [00:00<?, ?it/s]"
      ]
     },
     "metadata": {},
     "output_type": "display_data"
    },
    {
     "data": {
      "application/vnd.jupyter.widget-view+json": {
       "model_id": "f26c956bf0354cec9b348b12c00e1284",
       "version_major": 2,
       "version_minor": 0
      },
      "text/plain": [
       "Projecting waveforms:   0%|          | 0/42 [00:00<?, ?it/s]"
      ]
     },
     "metadata": {},
     "output_type": "display_data"
    },
    {
     "data": {
      "application/vnd.jupyter.widget-view+json": {
       "model_id": "f9286352b08049cda8575783caf3e308",
       "version_major": 2,
       "version_minor": 0
      },
      "text/plain": [
       "extract PCs:   0%|          | 0/3180 [00:00<?, ?it/s]"
      ]
     },
     "metadata": {},
     "output_type": "display_data"
    },
    {
     "name": "stdout",
     "output_type": "stream",
     "text": [
      "Run:\n",
      "phy template-gui  /scratch/back_up/reward_competition_extention/proc/spike_sorting/20240401_151442_comp_novel_subj_4-4_t4b4_merged.rec/phy/params.py\n",
      "/scratch/back_up/reward_competition_extention/data/rce_cohort_3/novel/20240402_145808_comp_novel_subj_3-3_and_3-4_and_5-2_and_5-3.rec/20240402_145808_comp_novel_subj_5-2_t6b6_merged.rec\n",
      "Output directory: /scratch/back_up/reward_competition_extention/proc/spike_sorting/20240402_145808_comp_novel_subj_5-2_t6b6_merged.rec\n",
      "Running bandpass filter\n",
      "Running whitening\n",
      "Spike sorting\n",
      "========================================\n",
      "Loading recording with SpikeInterface...\n",
      "number of samples: 63828134\n",
      "number of channels: 32\n",
      "numbef of segments: 1\n",
      "sampling rate: 20000.0\n",
      "dtype: float32\n",
      "========================================\n",
      "Skipping common average reference.\n",
      "Preprocessing filters computed in  4.95s; total  4.95s\n",
      "Skipping drift correction.\n",
      "\n",
      "computing drift\n",
      "nblocks = 0, skipping drift correction\n",
      "drift computed in  0.00s; total  4.95s\n",
      "\n",
      "Extracting spikes using templates\n",
      "Re-computing universal templates from data.\n"
     ]
    },
    {
     "name": "stderr",
     "output_type": "stream",
     "text": [
      "/home/pc_lab/miniforge3/envs/kilosort_4_0_5/lib/python3.9/site-packages/kilosort/spikedetect.py:235: UserWarning: \n",
      "              NaNs and/or zeroes present in weights for spikedetect.run,\n",
      "              may need to adjust `min_template_size` and/or `dminx` \n",
      "              for best results.\n",
      "\n",
      "              If you're using a probe with multiple shanks, see \n",
      "              https://kilosort.readthedocs.io/en/latest/multi_shank.html\n",
      "              \n",
      "  warnings.warn(msg, UserWarning)\n",
      "100%|██████████| 1064/1064 [04:24<00:00,  4.03it/s]\n"
     ]
    },
    {
     "name": "stdout",
     "output_type": "stream",
     "text": [
      "1117248 spikes extracted in  267.27s; total  272.22s\n",
      "\n",
      "First clustering\n"
     ]
    },
    {
     "name": "stderr",
     "output_type": "stream",
     "text": [
      "100%|██████████| 16/16 [00:16<00:00,  1.05s/it]\n"
     ]
    },
    {
     "name": "stdout",
     "output_type": "stream",
     "text": [
      "60 clusters found, in  16.89s; total  289.11s\n",
      "\n",
      "Extracting spikes using cluster waveforms\n"
     ]
    },
    {
     "name": "stderr",
     "output_type": "stream",
     "text": [
      "100%|██████████| 1064/1064 [01:06<00:00, 15.98it/s]\n"
     ]
    },
    {
     "name": "stdout",
     "output_type": "stream",
     "text": [
      "1075068 spikes extracted in  66.79s; total  355.90s\n",
      "\n",
      "Final clustering\n"
     ]
    },
    {
     "name": "stderr",
     "output_type": "stream",
     "text": [
      "100%|██████████| 16/16 [00:14<00:00,  1.09it/s]\n"
     ]
    },
    {
     "name": "stdout",
     "output_type": "stream",
     "text": [
      "45 clusters found, in  14.70s; total  370.60s\n",
      "\n",
      "Merging clusters\n",
      "45 units found, in  0.26s; total  370.86s\n",
      "\n",
      "Saving to phy and computing refractory periods\n",
      "2 units found with good refractory periods\n",
      "\n",
      "Total runtime: 376.74s = 00:06:17 h:m:s\n"
     ]
    },
    {
     "name": "stderr",
     "output_type": "stream",
     "text": [
      "/home/pc_lab/miniforge3/envs/kilosort_4_0_5/lib/python3.9/site-packages/spikeinterface/core/basesorting.py:239: UserWarning: The registered recording will not be persistent on disk, but only available in memory\n",
      "  warnings.warn(\"The registered recording will not be persistent on disk, but only available in memory\")\n"
     ]
    },
    {
     "name": "stdout",
     "output_type": "stream",
     "text": [
      "Exporting waveforms\n"
     ]
    },
    {
     "data": {
      "application/vnd.jupyter.widget-view+json": {
       "model_id": "0c2ee62ed2d04dc98ffdc05f5b77ea7d",
       "version_major": 2,
       "version_minor": 0
      },
      "text/plain": [
       "extract waveforms memmap multi buffer:   0%|          | 0/17 [00:00<?, ?it/s]"
      ]
     },
     "metadata": {},
     "output_type": "display_data"
    },
    {
     "name": "stdout",
     "output_type": "stream",
     "text": [
      "we_spike_sorted is sparse: False\n",
      "Saving to phy\n"
     ]
    },
    {
     "data": {
      "application/vnd.jupyter.widget-view+json": {
       "model_id": "47288f0beccc4b998a6d718d343bfed4",
       "version_major": 2,
       "version_minor": 0
      },
      "text/plain": [
       "write_binary_recording:   0%|          | 0/3192 [00:00<?, ?it/s]"
      ]
     },
     "metadata": {},
     "output_type": "display_data"
    },
    {
     "data": {
      "application/vnd.jupyter.widget-view+json": {
       "model_id": "c6e86e1df99f49e3b9210f6c283e95bf",
       "version_major": 2,
       "version_minor": 0
      },
      "text/plain": [
       "extract amplitudes:   0%|          | 0/3192 [00:00<?, ?it/s]"
      ]
     },
     "metadata": {},
     "output_type": "display_data"
    },
    {
     "data": {
      "application/vnd.jupyter.widget-view+json": {
       "model_id": "31eb960da006461b9560a028372c94bd",
       "version_major": 2,
       "version_minor": 0
      },
      "text/plain": [
       "Fitting PCA:   0%|          | 0/45 [00:00<?, ?it/s]"
      ]
     },
     "metadata": {},
     "output_type": "display_data"
    },
    {
     "data": {
      "application/vnd.jupyter.widget-view+json": {
       "model_id": "2f2404147f83432ab65b86af27dcb278",
       "version_major": 2,
       "version_minor": 0
      },
      "text/plain": [
       "Projecting waveforms:   0%|          | 0/45 [00:00<?, ?it/s]"
      ]
     },
     "metadata": {},
     "output_type": "display_data"
    },
    {
     "data": {
      "application/vnd.jupyter.widget-view+json": {
       "model_id": "12347d8e449f4f0482afea7c413c1cfb",
       "version_major": 2,
       "version_minor": 0
      },
      "text/plain": [
       "extract PCs:   0%|          | 0/3192 [00:00<?, ?it/s]"
      ]
     },
     "metadata": {},
     "output_type": "display_data"
    },
    {
     "name": "stdout",
     "output_type": "stream",
     "text": [
      "Run:\n",
      "phy template-gui  /scratch/back_up/reward_competition_extention/proc/spike_sorting/20240402_145808_comp_novel_subj_5-2_t6b6_merged.rec/phy/params.py\n",
      "/scratch/back_up/reward_competition_extention/data/rce_cohort_3/novel/20240402_145808_comp_novel_subj_3-3_and_3-4_and_5-2_and_5-3.rec/20240402_145808_comp_novel_subj_3-3_t4b4_merged.rec\n",
      "Output directory: /scratch/back_up/reward_competition_extention/proc/spike_sorting/20240402_145808_comp_novel_subj_3-3_t4b4_merged.rec\n",
      "Running bandpass filter\n",
      "Running whitening\n",
      "Spike sorting\n",
      "========================================\n",
      "Loading recording with SpikeInterface...\n",
      "number of samples: 63830907\n",
      "number of channels: 32\n",
      "numbef of segments: 1\n",
      "sampling rate: 20000.0\n",
      "dtype: float32\n",
      "========================================\n",
      "Skipping common average reference.\n",
      "Preprocessing filters computed in  4.72s; total  4.72s\n",
      "Skipping drift correction.\n",
      "\n",
      "computing drift\n",
      "nblocks = 0, skipping drift correction\n",
      "drift computed in  0.00s; total  4.73s\n",
      "\n",
      "Extracting spikes using templates\n",
      "Re-computing universal templates from data.\n"
     ]
    },
    {
     "name": "stderr",
     "output_type": "stream",
     "text": [
      "/home/pc_lab/miniforge3/envs/kilosort_4_0_5/lib/python3.9/site-packages/kilosort/spikedetect.py:235: UserWarning: \n",
      "              NaNs and/or zeroes present in weights for spikedetect.run,\n",
      "              may need to adjust `min_template_size` and/or `dminx` \n",
      "              for best results.\n",
      "\n",
      "              If you're using a probe with multiple shanks, see \n",
      "              https://kilosort.readthedocs.io/en/latest/multi_shank.html\n",
      "              \n",
      "  warnings.warn(msg, UserWarning)\n",
      "100%|██████████| 1064/1064 [04:24<00:00,  4.02it/s]\n"
     ]
    },
    {
     "name": "stdout",
     "output_type": "stream",
     "text": [
      "1065134 spikes extracted in  267.09s; total  271.81s\n",
      "\n",
      "First clustering\n"
     ]
    },
    {
     "name": "stderr",
     "output_type": "stream",
     "text": [
      "100%|██████████| 16/16 [00:16<00:00,  1.03s/it]\n",
      "/home/pc_lab/miniforge3/envs/kilosort_4_0_5/lib/python3.9/site-packages/kilosort/template_matching.py:71: UserWarning: Plan failed with a cudnnException: CUDNN_BACKEND_EXECUTION_PLAN_DESCRIPTOR: cudnnFinalize Descriptor Failed cudnn_status: CUDNN_STATUS_NOT_SUPPORTED (Triggered internally at /opt/conda/conda-bld/pytorch_1712608885084/work/aten/src/ATen/native/cudnn/Conv_v8.cpp:919.)\n",
      "  X = conv1d(X.unsqueeze(1), ops['wTEMP'].unsqueeze(1), padding=ops['nt']//2)\n"
     ]
    },
    {
     "name": "stdout",
     "output_type": "stream",
     "text": [
      "113 clusters found, in  16.62s; total  288.43s\n",
      "\n",
      "Extracting spikes using cluster waveforms\n"
     ]
    },
    {
     "name": "stderr",
     "output_type": "stream",
     "text": [
      "100%|██████████| 1064/1064 [01:07<00:00, 15.78it/s]\n"
     ]
    },
    {
     "name": "stdout",
     "output_type": "stream",
     "text": [
      "1271727 spikes extracted in  67.66s; total  356.09s\n",
      "\n",
      "Final clustering\n"
     ]
    },
    {
     "name": "stderr",
     "output_type": "stream",
     "text": [
      "100%|██████████| 16/16 [00:19<00:00,  1.22s/it]\n"
     ]
    },
    {
     "name": "stdout",
     "output_type": "stream",
     "text": [
      "48 clusters found, in  19.49s; total  375.59s\n",
      "\n",
      "Merging clusters\n",
      "48 units found, in  0.36s; total  375.95s\n",
      "\n",
      "Saving to phy and computing refractory periods\n",
      "20 units found with good refractory periods\n",
      "\n",
      "Total runtime: 383.14s = 00:06:23 h:m:s\n"
     ]
    },
    {
     "name": "stderr",
     "output_type": "stream",
     "text": [
      "/home/pc_lab/miniforge3/envs/kilosort_4_0_5/lib/python3.9/site-packages/spikeinterface/core/basesorting.py:239: UserWarning: The registered recording will not be persistent on disk, but only available in memory\n",
      "  warnings.warn(\"The registered recording will not be persistent on disk, but only available in memory\")\n"
     ]
    },
    {
     "name": "stdout",
     "output_type": "stream",
     "text": [
      "Exporting waveforms\n"
     ]
    },
    {
     "data": {
      "application/vnd.jupyter.widget-view+json": {
       "model_id": "c14fcd0ec8b34a748f0897a0bab64e64",
       "version_major": 2,
       "version_minor": 0
      },
      "text/plain": [
       "extract waveforms memmap multi buffer:   0%|          | 0/17 [00:00<?, ?it/s]"
      ]
     },
     "metadata": {},
     "output_type": "display_data"
    },
    {
     "name": "stdout",
     "output_type": "stream",
     "text": [
      "we_spike_sorted is sparse: False\n",
      "Saving to phy\n"
     ]
    },
    {
     "data": {
      "application/vnd.jupyter.widget-view+json": {
       "model_id": "93c0760478354a80a2ecbc2196873d97",
       "version_major": 2,
       "version_minor": 0
      },
      "text/plain": [
       "write_binary_recording:   0%|          | 0/3192 [00:00<?, ?it/s]"
      ]
     },
     "metadata": {},
     "output_type": "display_data"
    },
    {
     "data": {
      "application/vnd.jupyter.widget-view+json": {
       "model_id": "6f897f725eb047c697204ce941ce2a88",
       "version_major": 2,
       "version_minor": 0
      },
      "text/plain": [
       "extract amplitudes:   0%|          | 0/3192 [00:00<?, ?it/s]"
      ]
     },
     "metadata": {},
     "output_type": "display_data"
    },
    {
     "data": {
      "application/vnd.jupyter.widget-view+json": {
       "model_id": "b7f591a2c15c409aaa187f81f7f2fda9",
       "version_major": 2,
       "version_minor": 0
      },
      "text/plain": [
       "Fitting PCA:   0%|          | 0/48 [00:00<?, ?it/s]"
      ]
     },
     "metadata": {},
     "output_type": "display_data"
    },
    {
     "data": {
      "application/vnd.jupyter.widget-view+json": {
       "model_id": "a4d490027a1b4ed08df66a8b16ed7e9b",
       "version_major": 2,
       "version_minor": 0
      },
      "text/plain": [
       "Projecting waveforms:   0%|          | 0/48 [00:00<?, ?it/s]"
      ]
     },
     "metadata": {},
     "output_type": "display_data"
    },
    {
     "data": {
      "application/vnd.jupyter.widget-view+json": {
       "model_id": "49b7b73724414dbb81eb55a71e47dd65",
       "version_major": 2,
       "version_minor": 0
      },
      "text/plain": [
       "extract PCs:   0%|          | 0/3192 [00:00<?, ?it/s]"
      ]
     },
     "metadata": {},
     "output_type": "display_data"
    },
    {
     "name": "stdout",
     "output_type": "stream",
     "text": [
      "Run:\n",
      "phy template-gui  /scratch/back_up/reward_competition_extention/proc/spike_sorting/20240402_145808_comp_novel_subj_3-3_t4b4_merged.rec/phy/params.py\n",
      "/scratch/back_up/reward_competition_extention/data/rce_cohort_3/novel/20240402_145808_comp_novel_subj_3-3_and_3-4_and_5-2_and_5-3.rec/20240402_145808_comp_novel_subj_3-4_t3b3_merged.rec\n",
      "Output directory: /scratch/back_up/reward_competition_extention/proc/spike_sorting/20240402_145808_comp_novel_subj_3-4_t3b3_merged.rec\n",
      "Running bandpass filter\n",
      "Running whitening\n",
      "Spike sorting\n",
      "========================================\n",
      "Loading recording with SpikeInterface...\n",
      "number of samples: 63830908\n",
      "number of channels: 32\n",
      "numbef of segments: 1\n",
      "sampling rate: 20000.0\n",
      "dtype: float32\n",
      "========================================\n",
      "Skipping common average reference.\n",
      "Preprocessing filters computed in  4.88s; total  4.88s\n",
      "Skipping drift correction.\n",
      "\n",
      "computing drift\n",
      "nblocks = 0, skipping drift correction\n",
      "drift computed in  0.00s; total  4.88s\n",
      "\n",
      "Extracting spikes using templates\n",
      "Re-computing universal templates from data.\n"
     ]
    },
    {
     "name": "stderr",
     "output_type": "stream",
     "text": [
      "/home/pc_lab/miniforge3/envs/kilosort_4_0_5/lib/python3.9/site-packages/kilosort/spikedetect.py:235: UserWarning: \n",
      "              NaNs and/or zeroes present in weights for spikedetect.run,\n",
      "              may need to adjust `min_template_size` and/or `dminx` \n",
      "              for best results.\n",
      "\n",
      "              If you're using a probe with multiple shanks, see \n",
      "              https://kilosort.readthedocs.io/en/latest/multi_shank.html\n",
      "              \n",
      "  warnings.warn(msg, UserWarning)\n",
      "100%|██████████| 1064/1064 [04:26<00:00,  3.99it/s]\n"
     ]
    },
    {
     "name": "stdout",
     "output_type": "stream",
     "text": [
      "853334 spikes extracted in  269.70s; total  274.58s\n",
      "\n",
      "First clustering\n"
     ]
    },
    {
     "name": "stderr",
     "output_type": "stream",
     "text": [
      "100%|██████████| 16/16 [00:15<00:00,  1.05it/s]\n"
     ]
    },
    {
     "name": "stdout",
     "output_type": "stream",
     "text": [
      "105 clusters found, in  15.38s; total  289.96s\n",
      "\n",
      "Extracting spikes using cluster waveforms\n"
     ]
    },
    {
     "name": "stderr",
     "output_type": "stream",
     "text": [
      "100%|██████████| 1064/1064 [00:58<00:00, 18.12it/s]\n"
     ]
    },
    {
     "name": "stdout",
     "output_type": "stream",
     "text": [
      "863207 spikes extracted in  58.92s; total  348.88s\n",
      "\n",
      "Final clustering\n"
     ]
    },
    {
     "name": "stderr",
     "output_type": "stream",
     "text": [
      "100%|██████████| 16/16 [00:13<00:00,  1.20it/s]\n"
     ]
    },
    {
     "name": "stdout",
     "output_type": "stream",
     "text": [
      "44 clusters found, in  13.31s; total  362.19s\n",
      "\n",
      "Merging clusters\n",
      "44 units found, in  0.21s; total  362.40s\n",
      "\n",
      "Saving to phy and computing refractory periods\n",
      "14 units found with good refractory periods\n",
      "\n",
      "Total runtime: 367.30s = 00:06:7 h:m:s\n"
     ]
    },
    {
     "name": "stderr",
     "output_type": "stream",
     "text": [
      "/home/pc_lab/miniforge3/envs/kilosort_4_0_5/lib/python3.9/site-packages/spikeinterface/core/basesorting.py:239: UserWarning: The registered recording will not be persistent on disk, but only available in memory\n",
      "  warnings.warn(\"The registered recording will not be persistent on disk, but only available in memory\")\n"
     ]
    },
    {
     "name": "stdout",
     "output_type": "stream",
     "text": [
      "Exporting waveforms\n"
     ]
    },
    {
     "data": {
      "application/vnd.jupyter.widget-view+json": {
       "model_id": "45e51a5e755545fa8792f303ba2d7bb4",
       "version_major": 2,
       "version_minor": 0
      },
      "text/plain": [
       "extract waveforms memmap multi buffer:   0%|          | 0/17 [00:00<?, ?it/s]"
      ]
     },
     "metadata": {},
     "output_type": "display_data"
    },
    {
     "name": "stdout",
     "output_type": "stream",
     "text": [
      "we_spike_sorted is sparse: False\n",
      "Saving to phy\n"
     ]
    },
    {
     "data": {
      "application/vnd.jupyter.widget-view+json": {
       "model_id": "091e5167f6ba4e6a83d90f3b09f21b7d",
       "version_major": 2,
       "version_minor": 0
      },
      "text/plain": [
       "write_binary_recording:   0%|          | 0/3192 [00:00<?, ?it/s]"
      ]
     },
     "metadata": {},
     "output_type": "display_data"
    },
    {
     "data": {
      "application/vnd.jupyter.widget-view+json": {
       "model_id": "3f18fd36527b4b239f2b561a761870d0",
       "version_major": 2,
       "version_minor": 0
      },
      "text/plain": [
       "extract amplitudes:   0%|          | 0/3192 [00:00<?, ?it/s]"
      ]
     },
     "metadata": {},
     "output_type": "display_data"
    },
    {
     "data": {
      "application/vnd.jupyter.widget-view+json": {
       "model_id": "59b70de32a7846219a4e15b016ec5309",
       "version_major": 2,
       "version_minor": 0
      },
      "text/plain": [
       "Fitting PCA:   0%|          | 0/44 [00:00<?, ?it/s]"
      ]
     },
     "metadata": {},
     "output_type": "display_data"
    },
    {
     "data": {
      "application/vnd.jupyter.widget-view+json": {
       "model_id": "7a5348a54eb6439aa103abbef4ba48c9",
       "version_major": 2,
       "version_minor": 0
      },
      "text/plain": [
       "Projecting waveforms:   0%|          | 0/44 [00:00<?, ?it/s]"
      ]
     },
     "metadata": {},
     "output_type": "display_data"
    },
    {
     "data": {
      "application/vnd.jupyter.widget-view+json": {
       "model_id": "6188a01cec3842e883cbbfeb1d0207f0",
       "version_major": 2,
       "version_minor": 0
      },
      "text/plain": [
       "extract PCs:   0%|          | 0/3192 [00:00<?, ?it/s]"
      ]
     },
     "metadata": {},
     "output_type": "display_data"
    },
    {
     "name": "stdout",
     "output_type": "stream",
     "text": [
      "Run:\n",
      "phy template-gui  /scratch/back_up/reward_competition_extention/proc/spike_sorting/20240402_145808_comp_novel_subj_3-4_t3b3_merged.rec/phy/params.py\n",
      "/scratch/back_up/reward_competition_extention/data/rce_cohort_3/novel/20240402_145808_comp_novel_subj_3-3_and_3-4_and_5-2_and_5-3.rec/20240402_145808_comp_novel_subj_5-3_t5b5_merged.rec\n",
      "Output directory: /scratch/back_up/reward_competition_extention/proc/spike_sorting/20240402_145808_comp_novel_subj_5-3_t5b5_merged.rec\n",
      "Running bandpass filter\n",
      "Running whitening\n",
      "Spike sorting\n",
      "========================================\n",
      "Loading recording with SpikeInterface...\n",
      "number of samples: 63831125\n",
      "number of channels: 32\n",
      "numbef of segments: 1\n",
      "sampling rate: 20000.0\n",
      "dtype: float32\n",
      "========================================\n",
      "Skipping common average reference.\n",
      "Preprocessing filters computed in  4.63s; total  4.63s\n",
      "Skipping drift correction.\n",
      "\n",
      "computing drift\n",
      "nblocks = 0, skipping drift correction\n",
      "drift computed in  0.00s; total  4.63s\n",
      "\n",
      "Extracting spikes using templates\n",
      "Re-computing universal templates from data.\n"
     ]
    },
    {
     "name": "stderr",
     "output_type": "stream",
     "text": [
      "/home/pc_lab/miniforge3/envs/kilosort_4_0_5/lib/python3.9/site-packages/kilosort/spikedetect.py:235: UserWarning: \n",
      "              NaNs and/or zeroes present in weights for spikedetect.run,\n",
      "              may need to adjust `min_template_size` and/or `dminx` \n",
      "              for best results.\n",
      "\n",
      "              If you're using a probe with multiple shanks, see \n",
      "              https://kilosort.readthedocs.io/en/latest/multi_shank.html\n",
      "              \n",
      "  warnings.warn(msg, UserWarning)\n",
      "100%|██████████| 1064/1064 [04:26<00:00,  3.99it/s]\n"
     ]
    },
    {
     "name": "stdout",
     "output_type": "stream",
     "text": [
      "769880 spikes extracted in  269.35s; total  273.99s\n",
      "\n",
      "First clustering\n"
     ]
    },
    {
     "name": "stderr",
     "output_type": "stream",
     "text": [
      "100%|██████████| 16/16 [00:11<00:00,  1.34it/s]\n"
     ]
    },
    {
     "name": "stdout",
     "output_type": "stream",
     "text": [
      "92 clusters found, in  12.08s; total  286.07s\n",
      "\n",
      "Extracting spikes using cluster waveforms\n"
     ]
    },
    {
     "name": "stderr",
     "output_type": "stream",
     "text": [
      "100%|██████████| 1064/1064 [01:12<00:00, 14.72it/s]\n"
     ]
    },
    {
     "name": "stdout",
     "output_type": "stream",
     "text": [
      "1154831 spikes extracted in  72.53s; total  358.60s\n",
      "\n",
      "Final clustering\n"
     ]
    },
    {
     "name": "stderr",
     "output_type": "stream",
     "text": [
      "100%|██████████| 16/16 [00:20<00:00,  1.28s/it]\n"
     ]
    },
    {
     "name": "stdout",
     "output_type": "stream",
     "text": [
      "54 clusters found, in  20.47s; total  379.07s\n",
      "\n",
      "Merging clusters\n",
      "54 units found, in  0.58s; total  379.65s\n",
      "\n",
      "Saving to phy and computing refractory periods\n",
      "6 units found with good refractory periods\n",
      "\n",
      "Total runtime: 386.40s = 00:06:26 h:m:s\n"
     ]
    },
    {
     "name": "stderr",
     "output_type": "stream",
     "text": [
      "/home/pc_lab/miniforge3/envs/kilosort_4_0_5/lib/python3.9/site-packages/spikeinterface/core/basesorting.py:239: UserWarning: The registered recording will not be persistent on disk, but only available in memory\n",
      "  warnings.warn(\"The registered recording will not be persistent on disk, but only available in memory\")\n"
     ]
    },
    {
     "name": "stdout",
     "output_type": "stream",
     "text": [
      "Exporting waveforms\n"
     ]
    },
    {
     "data": {
      "application/vnd.jupyter.widget-view+json": {
       "model_id": "842dd5547c2145fca2e95d26c23799d6",
       "version_major": 2,
       "version_minor": 0
      },
      "text/plain": [
       "extract waveforms memmap multi buffer:   0%|          | 0/17 [00:00<?, ?it/s]"
      ]
     },
     "metadata": {},
     "output_type": "display_data"
    },
    {
     "name": "stdout",
     "output_type": "stream",
     "text": [
      "we_spike_sorted is sparse: False\n",
      "Saving to phy\n"
     ]
    },
    {
     "data": {
      "application/vnd.jupyter.widget-view+json": {
       "model_id": "dbbba32d800247c9861635223b3f47bc",
       "version_major": 2,
       "version_minor": 0
      },
      "text/plain": [
       "write_binary_recording:   0%|          | 0/3192 [00:00<?, ?it/s]"
      ]
     },
     "metadata": {},
     "output_type": "display_data"
    },
    {
     "data": {
      "application/vnd.jupyter.widget-view+json": {
       "model_id": "80bbe567fa914f7c924c87f670a6b915",
       "version_major": 2,
       "version_minor": 0
      },
      "text/plain": [
       "extract amplitudes:   0%|          | 0/3192 [00:00<?, ?it/s]"
      ]
     },
     "metadata": {},
     "output_type": "display_data"
    },
    {
     "data": {
      "application/vnd.jupyter.widget-view+json": {
       "model_id": "3f611c9d71c44eae9f48b29b21a601a2",
       "version_major": 2,
       "version_minor": 0
      },
      "text/plain": [
       "Fitting PCA:   0%|          | 0/54 [00:00<?, ?it/s]"
      ]
     },
     "metadata": {},
     "output_type": "display_data"
    },
    {
     "data": {
      "application/vnd.jupyter.widget-view+json": {
       "model_id": "0e5d83ba307f4f22b1ea3c370db04da7",
       "version_major": 2,
       "version_minor": 0
      },
      "text/plain": [
       "Projecting waveforms:   0%|          | 0/54 [00:00<?, ?it/s]"
      ]
     },
     "metadata": {},
     "output_type": "display_data"
    },
    {
     "data": {
      "application/vnd.jupyter.widget-view+json": {
       "model_id": "1e92153ce5454880870071bb8a68aeb7",
       "version_major": 2,
       "version_minor": 0
      },
      "text/plain": [
       "extract PCs:   0%|          | 0/3192 [00:00<?, ?it/s]"
      ]
     },
     "metadata": {},
     "output_type": "display_data"
    },
    {
     "name": "stdout",
     "output_type": "stream",
     "text": [
      "Run:\n",
      "phy template-gui  /scratch/back_up/reward_competition_extention/proc/spike_sorting/20240402_145808_comp_novel_subj_5-3_t5b5_merged.rec/phy/params.py\n",
      "/scratch/back_up/reward_competition_extention/data/rce_cohort_3/novel/20240407_152222_comp_novel_subj_3-1_and_3-3_and_4-2_and_4-3.rec/20240407_152222_comp_novel_subj_3-3_t3b3_merged.rec\n",
      "Output directory: /scratch/back_up/reward_competition_extention/proc/spike_sorting/20240407_152222_comp_novel_subj_3-3_t3b3_merged.rec\n",
      "Running bandpass filter\n",
      "Running whitening\n",
      "Spike sorting\n",
      "========================================\n",
      "Loading recording with SpikeInterface...\n",
      "number of samples: 63724894\n",
      "number of channels: 32\n",
      "numbef of segments: 1\n",
      "sampling rate: 20000.0\n",
      "dtype: float32\n",
      "========================================\n",
      "Skipping common average reference.\n",
      "Preprocessing filters computed in  4.88s; total  4.88s\n",
      "Skipping drift correction.\n",
      "\n",
      "computing drift\n",
      "nblocks = 0, skipping drift correction\n",
      "drift computed in  0.00s; total  4.88s\n",
      "\n",
      "Extracting spikes using templates\n",
      "Re-computing universal templates from data.\n"
     ]
    },
    {
     "name": "stderr",
     "output_type": "stream",
     "text": [
      "/home/pc_lab/miniforge3/envs/kilosort_4_0_5/lib/python3.9/site-packages/kilosort/spikedetect.py:235: UserWarning: \n",
      "              NaNs and/or zeroes present in weights for spikedetect.run,\n",
      "              may need to adjust `min_template_size` and/or `dminx` \n",
      "              for best results.\n",
      "\n",
      "              If you're using a probe with multiple shanks, see \n",
      "              https://kilosort.readthedocs.io/en/latest/multi_shank.html\n",
      "              \n",
      "  warnings.warn(msg, UserWarning)\n",
      "100%|██████████| 1063/1063 [04:26<00:00,  3.98it/s]\n"
     ]
    },
    {
     "name": "stdout",
     "output_type": "stream",
     "text": [
      "935806 spikes extracted in  269.73s; total  274.60s\n",
      "\n",
      "First clustering\n"
     ]
    },
    {
     "name": "stderr",
     "output_type": "stream",
     "text": [
      "100%|██████████| 16/16 [00:14<00:00,  1.08it/s]\n",
      "/home/pc_lab/miniforge3/envs/kilosort_4_0_5/lib/python3.9/site-packages/kilosort/template_matching.py:71: UserWarning: Plan failed with a cudnnException: CUDNN_BACKEND_EXECUTION_PLAN_DESCRIPTOR: cudnnFinalize Descriptor Failed cudnn_status: CUDNN_STATUS_NOT_SUPPORTED (Triggered internally at /opt/conda/conda-bld/pytorch_1712608885084/work/aten/src/ATen/native/cudnn/Conv_v8.cpp:919.)\n",
      "  X = conv1d(X.unsqueeze(1), ops['wTEMP'].unsqueeze(1), padding=ops['nt']//2)\n"
     ]
    },
    {
     "name": "stdout",
     "output_type": "stream",
     "text": [
      "119 clusters found, in  14.88s; total  289.48s\n",
      "\n",
      "Extracting spikes using cluster waveforms\n"
     ]
    },
    {
     "name": "stderr",
     "output_type": "stream",
     "text": [
      "100%|██████████| 1063/1063 [01:08<00:00, 15.56it/s]\n"
     ]
    },
    {
     "name": "stdout",
     "output_type": "stream",
     "text": [
      "1000412 spikes extracted in  68.55s; total  358.04s\n",
      "\n",
      "Final clustering\n"
     ]
    },
    {
     "name": "stderr",
     "output_type": "stream",
     "text": [
      "100%|██████████| 16/16 [00:14<00:00,  1.12it/s]\n"
     ]
    },
    {
     "name": "stdout",
     "output_type": "stream",
     "text": [
      "43 clusters found, in  14.36s; total  372.40s\n",
      "\n",
      "Merging clusters\n",
      "43 units found, in  0.24s; total  372.64s\n",
      "\n",
      "Saving to phy and computing refractory periods\n",
      "10 units found with good refractory periods\n",
      "\n",
      "Total runtime: 378.27s = 00:06:18 h:m:s\n"
     ]
    },
    {
     "name": "stderr",
     "output_type": "stream",
     "text": [
      "/home/pc_lab/miniforge3/envs/kilosort_4_0_5/lib/python3.9/site-packages/spikeinterface/core/basesorting.py:239: UserWarning: The registered recording will not be persistent on disk, but only available in memory\n",
      "  warnings.warn(\"The registered recording will not be persistent on disk, but only available in memory\")\n"
     ]
    },
    {
     "name": "stdout",
     "output_type": "stream",
     "text": [
      "Exporting waveforms\n"
     ]
    },
    {
     "data": {
      "application/vnd.jupyter.widget-view+json": {
       "model_id": "d4eb2e847f6d44f58b811a2eb23ecc26",
       "version_major": 2,
       "version_minor": 0
      },
      "text/plain": [
       "extract waveforms memmap multi buffer:   0%|          | 0/17 [00:00<?, ?it/s]"
      ]
     },
     "metadata": {},
     "output_type": "display_data"
    },
    {
     "name": "stdout",
     "output_type": "stream",
     "text": [
      "we_spike_sorted is sparse: False\n",
      "Saving to phy\n"
     ]
    },
    {
     "data": {
      "application/vnd.jupyter.widget-view+json": {
       "model_id": "5df59c6e4a4c4370aa48e244e0655e00",
       "version_major": 2,
       "version_minor": 0
      },
      "text/plain": [
       "write_binary_recording:   0%|          | 0/3187 [00:00<?, ?it/s]"
      ]
     },
     "metadata": {},
     "output_type": "display_data"
    },
    {
     "data": {
      "application/vnd.jupyter.widget-view+json": {
       "model_id": "598608a7d0fa44c2add143e62a026669",
       "version_major": 2,
       "version_minor": 0
      },
      "text/plain": [
       "extract amplitudes:   0%|          | 0/3187 [00:00<?, ?it/s]"
      ]
     },
     "metadata": {},
     "output_type": "display_data"
    },
    {
     "data": {
      "application/vnd.jupyter.widget-view+json": {
       "model_id": "fb5692cae86f412dae8933c4e87c2f41",
       "version_major": 2,
       "version_minor": 0
      },
      "text/plain": [
       "Fitting PCA:   0%|          | 0/43 [00:00<?, ?it/s]"
      ]
     },
     "metadata": {},
     "output_type": "display_data"
    },
    {
     "data": {
      "application/vnd.jupyter.widget-view+json": {
       "model_id": "141bd0f79b674998affef6b1777fe871",
       "version_major": 2,
       "version_minor": 0
      },
      "text/plain": [
       "Projecting waveforms:   0%|          | 0/43 [00:00<?, ?it/s]"
      ]
     },
     "metadata": {},
     "output_type": "display_data"
    },
    {
     "data": {
      "application/vnd.jupyter.widget-view+json": {
       "model_id": "373f9e16c0ad4f349e91311313043067",
       "version_major": 2,
       "version_minor": 0
      },
      "text/plain": [
       "extract PCs:   0%|          | 0/3187 [00:00<?, ?it/s]"
      ]
     },
     "metadata": {},
     "output_type": "display_data"
    },
    {
     "name": "stdout",
     "output_type": "stream",
     "text": [
      "Run:\n",
      "phy template-gui  /scratch/back_up/reward_competition_extention/proc/spike_sorting/20240407_152222_comp_novel_subj_3-3_t3b3_merged.rec/phy/params.py\n",
      "/scratch/back_up/reward_competition_extention/data/rce_cohort_3/novel/20240407_152222_comp_novel_subj_3-1_and_3-3_and_4-2_and_4-3.rec/20240407_152222_comp_novel_subj_3-1_t4b4_merged.rec\n",
      "Output directory: /scratch/back_up/reward_competition_extention/proc/spike_sorting/20240407_152222_comp_novel_subj_3-1_t4b4_merged.rec\n",
      "Running bandpass filter\n",
      "Running whitening\n",
      "Spike sorting\n",
      "========================================\n",
      "Loading recording with SpikeInterface...\n",
      "number of samples: 63726971\n",
      "number of channels: 32\n",
      "numbef of segments: 1\n",
      "sampling rate: 20000.0\n",
      "dtype: float32\n",
      "========================================\n",
      "Skipping common average reference.\n",
      "Preprocessing filters computed in  4.69s; total  4.69s\n",
      "Skipping drift correction.\n",
      "\n",
      "computing drift\n",
      "nblocks = 0, skipping drift correction\n",
      "drift computed in  0.00s; total  4.69s\n",
      "\n",
      "Extracting spikes using templates\n",
      "Re-computing universal templates from data.\n"
     ]
    },
    {
     "name": "stderr",
     "output_type": "stream",
     "text": [
      "/home/pc_lab/miniforge3/envs/kilosort_4_0_5/lib/python3.9/site-packages/kilosort/spikedetect.py:235: UserWarning: \n",
      "              NaNs and/or zeroes present in weights for spikedetect.run,\n",
      "              may need to adjust `min_template_size` and/or `dminx` \n",
      "              for best results.\n",
      "\n",
      "              If you're using a probe with multiple shanks, see \n",
      "              https://kilosort.readthedocs.io/en/latest/multi_shank.html\n",
      "              \n",
      "  warnings.warn(msg, UserWarning)\n",
      "100%|██████████| 1063/1063 [04:27<00:00,  3.97it/s]\n"
     ]
    },
    {
     "name": "stdout",
     "output_type": "stream",
     "text": [
      "1082245 spikes extracted in  270.54s; total  275.22s\n",
      "\n",
      "First clustering\n"
     ]
    },
    {
     "name": "stderr",
     "output_type": "stream",
     "text": [
      "100%|██████████| 16/16 [00:17<00:00,  1.11s/it]\n"
     ]
    },
    {
     "name": "stdout",
     "output_type": "stream",
     "text": [
      "104 clusters found, in  17.81s; total  293.03s\n",
      "\n",
      "Extracting spikes using cluster waveforms\n"
     ]
    },
    {
     "name": "stderr",
     "output_type": "stream",
     "text": [
      "100%|██████████| 1063/1063 [01:06<00:00, 16.08it/s]\n"
     ]
    },
    {
     "name": "stdout",
     "output_type": "stream",
     "text": [
      "1134881 spikes extracted in  66.30s; total  359.34s\n",
      "\n",
      "Final clustering\n"
     ]
    },
    {
     "name": "stderr",
     "output_type": "stream",
     "text": [
      "100%|██████████| 16/16 [00:17<00:00,  1.12s/it]\n"
     ]
    },
    {
     "name": "stdout",
     "output_type": "stream",
     "text": [
      "58 clusters found, in  17.90s; total  377.24s\n",
      "\n",
      "Merging clusters\n",
      "57 units found, in  0.28s; total  377.52s\n",
      "\n",
      "Saving to phy and computing refractory periods\n",
      "21 units found with good refractory periods\n",
      "\n",
      "Total runtime: 384.28s = 00:06:24 h:m:s\n"
     ]
    },
    {
     "name": "stderr",
     "output_type": "stream",
     "text": [
      "/home/pc_lab/miniforge3/envs/kilosort_4_0_5/lib/python3.9/site-packages/spikeinterface/core/basesorting.py:175: UserWarning: Some spikes exceed the recording's duration! Removing these excess spikes with `spikeinterface.curation.remove_excess_spikes()` Might be necessary for further postprocessing.\n",
      "  warnings.warn(\n",
      "/home/pc_lab/miniforge3/envs/kilosort_4_0_5/lib/python3.9/site-packages/spikeinterface/core/basesorting.py:239: UserWarning: The registered recording will not be persistent on disk, but only available in memory\n",
      "  warnings.warn(\"The registered recording will not be persistent on disk, but only available in memory\")\n"
     ]
    },
    {
     "name": "stdout",
     "output_type": "stream",
     "text": [
      "Exporting waveforms\n",
      "The sorting object has spikes exceeding the recording duration. You have to remove those spikes with the `spikeinterface.curation.remove_excess_spikes()` function\n",
      "/scratch/back_up/reward_competition_extention/data/rce_cohort_3/novel/20240407_152222_comp_novel_subj_3-1_and_3-3_and_4-2_and_4-3.rec/20240407_152222_comp_novel_subj_4-3_t6b6_merged.rec\n",
      "Output directory: /scratch/back_up/reward_competition_extention/proc/spike_sorting/20240407_152222_comp_novel_subj_4-3_t6b6_merged.rec\n",
      "Running bandpass filter\n",
      "Running whitening\n",
      "Spike sorting\n",
      "========================================\n",
      "Loading recording with SpikeInterface...\n",
      "number of samples: 63727286\n",
      "number of channels: 32\n",
      "numbef of segments: 1\n",
      "sampling rate: 20000.0\n",
      "dtype: float32\n",
      "========================================\n",
      "Skipping common average reference.\n",
      "Preprocessing filters computed in  4.78s; total  4.78s\n",
      "Skipping drift correction.\n",
      "\n",
      "computing drift\n",
      "nblocks = 0, skipping drift correction\n",
      "drift computed in  0.00s; total  4.79s\n",
      "\n",
      "Extracting spikes using templates\n",
      "Re-computing universal templates from data.\n"
     ]
    },
    {
     "name": "stderr",
     "output_type": "stream",
     "text": [
      "/home/pc_lab/miniforge3/envs/kilosort_4_0_5/lib/python3.9/site-packages/kilosort/spikedetect.py:235: UserWarning: \n",
      "              NaNs and/or zeroes present in weights for spikedetect.run,\n",
      "              may need to adjust `min_template_size` and/or `dminx` \n",
      "              for best results.\n",
      "\n",
      "              If you're using a probe with multiple shanks, see \n",
      "              https://kilosort.readthedocs.io/en/latest/multi_shank.html\n",
      "              \n",
      "  warnings.warn(msg, UserWarning)\n",
      "100%|██████████| 1063/1063 [04:29<00:00,  3.95it/s]\n"
     ]
    },
    {
     "name": "stdout",
     "output_type": "stream",
     "text": [
      "1372842 spikes extracted in  272.22s; total  277.00s\n",
      "\n",
      "First clustering\n"
     ]
    },
    {
     "name": "stderr",
     "output_type": "stream",
     "text": [
      "100%|██████████| 16/16 [00:22<00:00,  1.40s/it]\n",
      "/home/pc_lab/miniforge3/envs/kilosort_4_0_5/lib/python3.9/site-packages/kilosort/template_matching.py:71: UserWarning: Plan failed with a cudnnException: CUDNN_BACKEND_EXECUTION_PLAN_DESCRIPTOR: cudnnFinalize Descriptor Failed cudnn_status: CUDNN_STATUS_NOT_SUPPORTED (Triggered internally at /opt/conda/conda-bld/pytorch_1712608885084/work/aten/src/ATen/native/cudnn/Conv_v8.cpp:919.)\n",
      "  X = conv1d(X.unsqueeze(1), ops['wTEMP'].unsqueeze(1), padding=ops['nt']//2)\n"
     ]
    },
    {
     "name": "stdout",
     "output_type": "stream",
     "text": [
      "111 clusters found, in  22.55s; total  299.55s\n",
      "\n",
      "Extracting spikes using cluster waveforms\n"
     ]
    },
    {
     "name": "stderr",
     "output_type": "stream",
     "text": [
      "100%|██████████| 1063/1063 [01:05<00:00, 16.28it/s]\n"
     ]
    },
    {
     "name": "stdout",
     "output_type": "stream",
     "text": [
      "1353540 spikes extracted in  65.51s; total  365.07s\n",
      "\n",
      "Final clustering\n"
     ]
    },
    {
     "name": "stderr",
     "output_type": "stream",
     "text": [
      "100%|██████████| 16/16 [00:19<00:00,  1.24s/it]\n"
     ]
    },
    {
     "name": "stdout",
     "output_type": "stream",
     "text": [
      "52 clusters found, in  19.86s; total  384.93s\n",
      "\n",
      "Merging clusters\n",
      "52 units found, in  0.34s; total  385.27s\n",
      "\n",
      "Saving to phy and computing refractory periods\n",
      "19 units found with good refractory periods\n",
      "\n",
      "Total runtime: 393.08s = 00:06:33 h:m:s\n"
     ]
    },
    {
     "name": "stderr",
     "output_type": "stream",
     "text": [
      "/home/pc_lab/miniforge3/envs/kilosort_4_0_5/lib/python3.9/site-packages/spikeinterface/core/basesorting.py:239: UserWarning: The registered recording will not be persistent on disk, but only available in memory\n",
      "  warnings.warn(\"The registered recording will not be persistent on disk, but only available in memory\")\n"
     ]
    },
    {
     "name": "stdout",
     "output_type": "stream",
     "text": [
      "Exporting waveforms\n"
     ]
    },
    {
     "data": {
      "application/vnd.jupyter.widget-view+json": {
       "model_id": "d80c96415d6544c7987fd1b2851eb51d",
       "version_major": 2,
       "version_minor": 0
      },
      "text/plain": [
       "extract waveforms memmap multi buffer:   0%|          | 0/17 [00:00<?, ?it/s]"
      ]
     },
     "metadata": {},
     "output_type": "display_data"
    },
    {
     "name": "stdout",
     "output_type": "stream",
     "text": [
      "we_spike_sorted is sparse: False\n",
      "Saving to phy\n"
     ]
    },
    {
     "data": {
      "application/vnd.jupyter.widget-view+json": {
       "model_id": "2ff3421c8f58425bb928d3a6d1bc28bd",
       "version_major": 2,
       "version_minor": 0
      },
      "text/plain": [
       "write_binary_recording:   0%|          | 0/3187 [00:00<?, ?it/s]"
      ]
     },
     "metadata": {},
     "output_type": "display_data"
    },
    {
     "data": {
      "application/vnd.jupyter.widget-view+json": {
       "model_id": "a9a1d114cdb74966a33c02d216516252",
       "version_major": 2,
       "version_minor": 0
      },
      "text/plain": [
       "extract amplitudes:   0%|          | 0/3187 [00:00<?, ?it/s]"
      ]
     },
     "metadata": {},
     "output_type": "display_data"
    },
    {
     "data": {
      "application/vnd.jupyter.widget-view+json": {
       "model_id": "164cc80c5da342d0ba5897fd7ed5706b",
       "version_major": 2,
       "version_minor": 0
      },
      "text/plain": [
       "Fitting PCA:   0%|          | 0/52 [00:00<?, ?it/s]"
      ]
     },
     "metadata": {},
     "output_type": "display_data"
    },
    {
     "data": {
      "application/vnd.jupyter.widget-view+json": {
       "model_id": "a848ea55879d4f398d33277f51ff66e6",
       "version_major": 2,
       "version_minor": 0
      },
      "text/plain": [
       "Projecting waveforms:   0%|          | 0/52 [00:00<?, ?it/s]"
      ]
     },
     "metadata": {},
     "output_type": "display_data"
    },
    {
     "data": {
      "application/vnd.jupyter.widget-view+json": {
       "model_id": "1c1fb9b740a84b6a9147c66c3c856672",
       "version_major": 2,
       "version_minor": 0
      },
      "text/plain": [
       "extract PCs:   0%|          | 0/3187 [00:00<?, ?it/s]"
      ]
     },
     "metadata": {},
     "output_type": "display_data"
    },
    {
     "name": "stdout",
     "output_type": "stream",
     "text": [
      "Run:\n",
      "phy template-gui  /scratch/back_up/reward_competition_extention/proc/spike_sorting/20240407_152222_comp_novel_subj_4-3_t6b6_merged.rec/phy/params.py\n",
      "/scratch/back_up/reward_competition_extention/data/rce_cohort_3/novel/20240407_152222_comp_novel_subj_3-1_and_3-3_and_4-2_and_4-3.rec/20240407_152222_comp_novel_subj_4-2_t5b5_merged.rec\n",
      "Output directory: /scratch/back_up/reward_competition_extention/proc/spike_sorting/20240407_152222_comp_novel_subj_4-2_t5b5_merged.rec\n",
      "Running bandpass filter\n",
      "Running whitening\n",
      "Spike sorting\n",
      "========================================\n",
      "Loading recording with SpikeInterface...\n",
      "number of samples: 63727191\n",
      "number of channels: 32\n",
      "numbef of segments: 1\n",
      "sampling rate: 20000.0\n",
      "dtype: float32\n",
      "========================================\n",
      "Skipping common average reference.\n",
      "Preprocessing filters computed in  4.87s; total  4.87s\n",
      "Skipping drift correction.\n",
      "\n",
      "computing drift\n",
      "nblocks = 0, skipping drift correction\n",
      "drift computed in  0.00s; total  4.87s\n",
      "\n",
      "Extracting spikes using templates\n",
      "Re-computing universal templates from data.\n"
     ]
    },
    {
     "name": "stderr",
     "output_type": "stream",
     "text": [
      "/home/pc_lab/miniforge3/envs/kilosort_4_0_5/lib/python3.9/site-packages/kilosort/spikedetect.py:235: UserWarning: \n",
      "              NaNs and/or zeroes present in weights for spikedetect.run,\n",
      "              may need to adjust `min_template_size` and/or `dminx` \n",
      "              for best results.\n",
      "\n",
      "              If you're using a probe with multiple shanks, see \n",
      "              https://kilosort.readthedocs.io/en/latest/multi_shank.html\n",
      "              \n",
      "  warnings.warn(msg, UserWarning)\n",
      "100%|██████████| 1063/1063 [04:28<00:00,  3.95it/s]\n"
     ]
    },
    {
     "name": "stdout",
     "output_type": "stream",
     "text": [
      "829147 spikes extracted in  271.67s; total  276.54s\n",
      "\n",
      "First clustering\n"
     ]
    },
    {
     "name": "stderr",
     "output_type": "stream",
     "text": [
      "100%|██████████| 16/16 [00:14<00:00,  1.10it/s]\n",
      "/home/pc_lab/miniforge3/envs/kilosort_4_0_5/lib/python3.9/site-packages/kilosort/template_matching.py:71: UserWarning: Plan failed with a cudnnException: CUDNN_BACKEND_EXECUTION_PLAN_DESCRIPTOR: cudnnFinalize Descriptor Failed cudnn_status: CUDNN_STATUS_NOT_SUPPORTED (Triggered internally at /opt/conda/conda-bld/pytorch_1712608885084/work/aten/src/ATen/native/cudnn/Conv_v8.cpp:919.)\n",
      "  X = conv1d(X.unsqueeze(1), ops['wTEMP'].unsqueeze(1), padding=ops['nt']//2)\n"
     ]
    },
    {
     "name": "stdout",
     "output_type": "stream",
     "text": [
      "101 clusters found, in  14.63s; total  291.16s\n",
      "\n",
      "Extracting spikes using cluster waveforms\n"
     ]
    },
    {
     "name": "stderr",
     "output_type": "stream",
     "text": [
      "100%|██████████| 1063/1063 [01:03<00:00, 16.65it/s]\n"
     ]
    },
    {
     "name": "stdout",
     "output_type": "stream",
     "text": [
      "918403 spikes extracted in  64.06s; total  355.22s\n",
      "\n",
      "Final clustering\n"
     ]
    },
    {
     "name": "stderr",
     "output_type": "stream",
     "text": [
      "100%|██████████| 16/16 [00:13<00:00,  1.22it/s]\n"
     ]
    },
    {
     "name": "stdout",
     "output_type": "stream",
     "text": [
      "46 clusters found, in  13.18s; total  368.40s\n",
      "\n",
      "Merging clusters\n",
      "46 units found, in  0.22s; total  368.61s\n",
      "\n",
      "Saving to phy and computing refractory periods\n",
      "11 units found with good refractory periods\n",
      "\n",
      "Total runtime: 373.94s = 00:06:14 h:m:s\n"
     ]
    },
    {
     "name": "stderr",
     "output_type": "stream",
     "text": [
      "/home/pc_lab/miniforge3/envs/kilosort_4_0_5/lib/python3.9/site-packages/spikeinterface/core/basesorting.py:239: UserWarning: The registered recording will not be persistent on disk, but only available in memory\n",
      "  warnings.warn(\"The registered recording will not be persistent on disk, but only available in memory\")\n"
     ]
    },
    {
     "name": "stdout",
     "output_type": "stream",
     "text": [
      "Exporting waveforms\n"
     ]
    },
    {
     "data": {
      "application/vnd.jupyter.widget-view+json": {
       "model_id": "e1da5beca8dd41b38c7498148e3962cf",
       "version_major": 2,
       "version_minor": 0
      },
      "text/plain": [
       "extract waveforms memmap multi buffer:   0%|          | 0/17 [00:00<?, ?it/s]"
      ]
     },
     "metadata": {},
     "output_type": "display_data"
    },
    {
     "name": "stdout",
     "output_type": "stream",
     "text": [
      "we_spike_sorted is sparse: False\n",
      "Saving to phy\n"
     ]
    },
    {
     "data": {
      "application/vnd.jupyter.widget-view+json": {
       "model_id": "6ccce6288b694d989a75398257c466c9",
       "version_major": 2,
       "version_minor": 0
      },
      "text/plain": [
       "write_binary_recording:   0%|          | 0/3187 [00:00<?, ?it/s]"
      ]
     },
     "metadata": {},
     "output_type": "display_data"
    },
    {
     "data": {
      "application/vnd.jupyter.widget-view+json": {
       "model_id": "70092376d7354fe48711db4daa726afb",
       "version_major": 2,
       "version_minor": 0
      },
      "text/plain": [
       "extract amplitudes:   0%|          | 0/3187 [00:00<?, ?it/s]"
      ]
     },
     "metadata": {},
     "output_type": "display_data"
    },
    {
     "data": {
      "application/vnd.jupyter.widget-view+json": {
       "model_id": "f8e84dee048d42f99539d0471f17fa1c",
       "version_major": 2,
       "version_minor": 0
      },
      "text/plain": [
       "Fitting PCA:   0%|          | 0/46 [00:00<?, ?it/s]"
      ]
     },
     "metadata": {},
     "output_type": "display_data"
    },
    {
     "data": {
      "application/vnd.jupyter.widget-view+json": {
       "model_id": "6d49859db9494577851aa4dec6a66659",
       "version_major": 2,
       "version_minor": 0
      },
      "text/plain": [
       "Projecting waveforms:   0%|          | 0/46 [00:00<?, ?it/s]"
      ]
     },
     "metadata": {},
     "output_type": "display_data"
    },
    {
     "data": {
      "application/vnd.jupyter.widget-view+json": {
       "model_id": "a234bc4c235c4bef9c15991f95a67582",
       "version_major": 2,
       "version_minor": 0
      },
      "text/plain": [
       "extract PCs:   0%|          | 0/3187 [00:00<?, ?it/s]"
      ]
     },
     "metadata": {},
     "output_type": "display_data"
    },
    {
     "name": "stdout",
     "output_type": "stream",
     "text": [
      "Run:\n",
      "phy template-gui  /scratch/back_up/reward_competition_extention/proc/spike_sorting/20240407_152222_comp_novel_subj_4-2_t5b5_merged.rec/phy/params.py\n",
      "/scratch/back_up/reward_competition_extention/data/rce_cohort_3/novel/20240410_152009_comp_novel_subj_4-2_and_4-3_and_5-2_and_5-3.rec/20240410_152009_comp_novel_subj_5-2_t4b4_merged.rec\n",
      "Output directory: /scratch/back_up/reward_competition_extention/proc/spike_sorting/20240410_152009_comp_novel_subj_5-2_t4b4_merged.rec\n",
      "Running bandpass filter\n",
      "Running whitening\n",
      "Spike sorting\n",
      "========================================\n",
      "Loading recording with SpikeInterface...\n",
      "number of samples: 64058254\n",
      "number of channels: 32\n",
      "numbef of segments: 1\n",
      "sampling rate: 20000.0\n",
      "dtype: float32\n",
      "========================================\n",
      "Skipping common average reference.\n",
      "Preprocessing filters computed in  4.93s; total  4.93s\n",
      "Skipping drift correction.\n",
      "\n",
      "computing drift\n",
      "nblocks = 0, skipping drift correction\n",
      "drift computed in  0.00s; total  4.93s\n",
      "\n",
      "Extracting spikes using templates\n",
      "Re-computing universal templates from data.\n"
     ]
    },
    {
     "name": "stderr",
     "output_type": "stream",
     "text": [
      "/home/pc_lab/miniforge3/envs/kilosort_4_0_5/lib/python3.9/site-packages/kilosort/spikedetect.py:235: UserWarning: \n",
      "              NaNs and/or zeroes present in weights for spikedetect.run,\n",
      "              may need to adjust `min_template_size` and/or `dminx` \n",
      "              for best results.\n",
      "\n",
      "              If you're using a probe with multiple shanks, see \n",
      "              https://kilosort.readthedocs.io/en/latest/multi_shank.html\n",
      "              \n",
      "  warnings.warn(msg, UserWarning)\n",
      "100%|██████████| 1068/1068 [04:28<00:00,  3.97it/s]\n"
     ]
    },
    {
     "name": "stdout",
     "output_type": "stream",
     "text": [
      "1105420 spikes extracted in  271.73s; total  276.66s\n",
      "\n",
      "First clustering\n"
     ]
    },
    {
     "name": "stderr",
     "output_type": "stream",
     "text": [
      "100%|██████████| 16/16 [00:16<00:00,  1.03s/it]\n"
     ]
    },
    {
     "name": "stdout",
     "output_type": "stream",
     "text": [
      "74 clusters found, in  16.60s; total  293.26s\n",
      "\n",
      "Extracting spikes using cluster waveforms\n"
     ]
    },
    {
     "name": "stderr",
     "output_type": "stream",
     "text": [
      "100%|██████████| 1068/1068 [01:15<00:00, 14.11it/s]\n"
     ]
    },
    {
     "name": "stdout",
     "output_type": "stream",
     "text": [
      "1084704 spikes extracted in  75.88s; total  369.14s\n",
      "\n",
      "Final clustering\n"
     ]
    },
    {
     "name": "stderr",
     "output_type": "stream",
     "text": [
      "100%|██████████| 16/16 [00:16<00:00,  1.02s/it]\n"
     ]
    },
    {
     "name": "stdout",
     "output_type": "stream",
     "text": [
      "58 clusters found, in  16.30s; total  385.45s\n",
      "\n",
      "Merging clusters\n",
      "58 units found, in  0.30s; total  385.75s\n",
      "\n",
      "Saving to phy and computing refractory periods\n",
      "4 units found with good refractory periods\n",
      "\n",
      "Total runtime: 392.04s = 00:06:32 h:m:s\n"
     ]
    },
    {
     "name": "stderr",
     "output_type": "stream",
     "text": [
      "/home/pc_lab/miniforge3/envs/kilosort_4_0_5/lib/python3.9/site-packages/spikeinterface/core/basesorting.py:239: UserWarning: The registered recording will not be persistent on disk, but only available in memory\n",
      "  warnings.warn(\"The registered recording will not be persistent on disk, but only available in memory\")\n"
     ]
    },
    {
     "name": "stdout",
     "output_type": "stream",
     "text": [
      "Exporting waveforms\n"
     ]
    },
    {
     "data": {
      "application/vnd.jupyter.widget-view+json": {
       "model_id": "9a57bc32108245539ffc4ab94a3f278e",
       "version_major": 2,
       "version_minor": 0
      },
      "text/plain": [
       "extract waveforms memmap multi buffer:   0%|          | 0/17 [00:00<?, ?it/s]"
      ]
     },
     "metadata": {},
     "output_type": "display_data"
    },
    {
     "name": "stdout",
     "output_type": "stream",
     "text": [
      "we_spike_sorted is sparse: False\n",
      "Saving to phy\n"
     ]
    },
    {
     "data": {
      "application/vnd.jupyter.widget-view+json": {
       "model_id": "b3e1518ea1ce42fa969d50f0fc2562c7",
       "version_major": 2,
       "version_minor": 0
      },
      "text/plain": [
       "write_binary_recording:   0%|          | 0/3203 [00:00<?, ?it/s]"
      ]
     },
     "metadata": {},
     "output_type": "display_data"
    },
    {
     "data": {
      "application/vnd.jupyter.widget-view+json": {
       "model_id": "a83cc98a62814b05ae1735e89327c930",
       "version_major": 2,
       "version_minor": 0
      },
      "text/plain": [
       "extract amplitudes:   0%|          | 0/3203 [00:00<?, ?it/s]"
      ]
     },
     "metadata": {},
     "output_type": "display_data"
    },
    {
     "data": {
      "application/vnd.jupyter.widget-view+json": {
       "model_id": "833a712b4b5c48ddb44caa419822b83b",
       "version_major": 2,
       "version_minor": 0
      },
      "text/plain": [
       "Fitting PCA:   0%|          | 0/58 [00:00<?, ?it/s]"
      ]
     },
     "metadata": {},
     "output_type": "display_data"
    },
    {
     "data": {
      "application/vnd.jupyter.widget-view+json": {
       "model_id": "13b57457f1934ae99340edf4189f702c",
       "version_major": 2,
       "version_minor": 0
      },
      "text/plain": [
       "Projecting waveforms:   0%|          | 0/58 [00:00<?, ?it/s]"
      ]
     },
     "metadata": {},
     "output_type": "display_data"
    },
    {
     "data": {
      "application/vnd.jupyter.widget-view+json": {
       "model_id": "917ccd3b6ae8446ea7ee1959914d073c",
       "version_major": 2,
       "version_minor": 0
      },
      "text/plain": [
       "extract PCs:   0%|          | 0/3203 [00:00<?, ?it/s]"
      ]
     },
     "metadata": {},
     "output_type": "display_data"
    },
    {
     "name": "stdout",
     "output_type": "stream",
     "text": [
      "Run:\n",
      "phy template-gui  /scratch/back_up/reward_competition_extention/proc/spike_sorting/20240410_152009_comp_novel_subj_5-2_t4b4_merged.rec/phy/params.py\n",
      "/scratch/back_up/reward_competition_extention/data/rce_cohort_3/novel/20240410_152009_comp_novel_subj_4-2_and_4-3_and_5-2_and_5-3.rec/20240410_152009_comp_novel_subj_4-2_t5b5_merged.rec\n",
      "Output directory: /scratch/back_up/reward_competition_extention/proc/spike_sorting/20240410_152009_comp_novel_subj_4-2_t5b5_merged.rec\n",
      "Running bandpass filter\n",
      "Running whitening\n",
      "Spike sorting\n",
      "========================================\n",
      "Loading recording with SpikeInterface...\n",
      "number of samples: 64058374\n",
      "number of channels: 32\n",
      "numbef of segments: 1\n",
      "sampling rate: 20000.0\n",
      "dtype: float32\n",
      "========================================\n",
      "Skipping common average reference.\n",
      "Preprocessing filters computed in  4.72s; total  4.72s\n",
      "Skipping drift correction.\n",
      "\n",
      "computing drift\n",
      "nblocks = 0, skipping drift correction\n",
      "drift computed in  0.00s; total  4.72s\n",
      "\n",
      "Extracting spikes using templates\n",
      "Re-computing universal templates from data.\n"
     ]
    },
    {
     "name": "stderr",
     "output_type": "stream",
     "text": [
      "/home/pc_lab/miniforge3/envs/kilosort_4_0_5/lib/python3.9/site-packages/kilosort/spikedetect.py:235: UserWarning: \n",
      "              NaNs and/or zeroes present in weights for spikedetect.run,\n",
      "              may need to adjust `min_template_size` and/or `dminx` \n",
      "              for best results.\n",
      "\n",
      "              If you're using a probe with multiple shanks, see \n",
      "              https://kilosort.readthedocs.io/en/latest/multi_shank.html\n",
      "              \n",
      "  warnings.warn(msg, UserWarning)\n",
      "100%|██████████| 1068/1068 [04:28<00:00,  3.98it/s]\n"
     ]
    },
    {
     "name": "stdout",
     "output_type": "stream",
     "text": [
      "873814 spikes extracted in  270.85s; total  275.57s\n",
      "\n",
      "First clustering\n"
     ]
    },
    {
     "name": "stderr",
     "output_type": "stream",
     "text": [
      "100%|██████████| 16/16 [00:13<00:00,  1.16it/s]\n",
      "/home/pc_lab/miniforge3/envs/kilosort_4_0_5/lib/python3.9/site-packages/kilosort/template_matching.py:71: UserWarning: Plan failed with a cudnnException: CUDNN_BACKEND_EXECUTION_PLAN_DESCRIPTOR: cudnnFinalize Descriptor Failed cudnn_status: CUDNN_STATUS_NOT_SUPPORTED (Triggered internally at /opt/conda/conda-bld/pytorch_1712608885084/work/aten/src/ATen/native/cudnn/Conv_v8.cpp:919.)\n",
      "  X = conv1d(X.unsqueeze(1), ops['wTEMP'].unsqueeze(1), padding=ops['nt']//2)\n"
     ]
    },
    {
     "name": "stdout",
     "output_type": "stream",
     "text": [
      "85 clusters found, in  13.85s; total  289.42s\n",
      "\n",
      "Extracting spikes using cluster waveforms\n"
     ]
    },
    {
     "name": "stderr",
     "output_type": "stream",
     "text": [
      "100%|██████████| 1068/1068 [01:00<00:00, 17.77it/s]\n"
     ]
    },
    {
     "name": "stdout",
     "output_type": "stream",
     "text": [
      "984701 spikes extracted in  60.27s; total  349.69s\n",
      "\n",
      "Final clustering\n"
     ]
    },
    {
     "name": "stderr",
     "output_type": "stream",
     "text": [
      "100%|██████████| 16/16 [00:14<00:00,  1.14it/s]\n"
     ]
    },
    {
     "name": "stdout",
     "output_type": "stream",
     "text": [
      "41 clusters found, in  14.11s; total  363.80s\n",
      "\n",
      "Merging clusters\n",
      "40 units found, in  0.24s; total  364.04s\n",
      "\n",
      "Saving to phy and computing refractory periods\n",
      "16 units found with good refractory periods\n",
      "\n",
      "Total runtime: 369.49s = 00:06:9 h:m:s\n"
     ]
    },
    {
     "name": "stderr",
     "output_type": "stream",
     "text": [
      "/home/pc_lab/miniforge3/envs/kilosort_4_0_5/lib/python3.9/site-packages/spikeinterface/core/basesorting.py:239: UserWarning: The registered recording will not be persistent on disk, but only available in memory\n",
      "  warnings.warn(\"The registered recording will not be persistent on disk, but only available in memory\")\n"
     ]
    },
    {
     "name": "stdout",
     "output_type": "stream",
     "text": [
      "Exporting waveforms\n"
     ]
    },
    {
     "data": {
      "application/vnd.jupyter.widget-view+json": {
       "model_id": "9a4a38b9bfef467e9de83026e23e69a7",
       "version_major": 2,
       "version_minor": 0
      },
      "text/plain": [
       "extract waveforms memmap multi buffer:   0%|          | 0/17 [00:00<?, ?it/s]"
      ]
     },
     "metadata": {},
     "output_type": "display_data"
    },
    {
     "name": "stdout",
     "output_type": "stream",
     "text": [
      "we_spike_sorted is sparse: False\n",
      "Saving to phy\n"
     ]
    },
    {
     "data": {
      "application/vnd.jupyter.widget-view+json": {
       "model_id": "e228ac0ca7ed46f68fe744ede2dd21e9",
       "version_major": 2,
       "version_minor": 0
      },
      "text/plain": [
       "write_binary_recording:   0%|          | 0/3203 [00:00<?, ?it/s]"
      ]
     },
     "metadata": {},
     "output_type": "display_data"
    },
    {
     "data": {
      "application/vnd.jupyter.widget-view+json": {
       "model_id": "af3a8c8d047d417698055c97a9712f18",
       "version_major": 2,
       "version_minor": 0
      },
      "text/plain": [
       "extract amplitudes:   0%|          | 0/3203 [00:00<?, ?it/s]"
      ]
     },
     "metadata": {},
     "output_type": "display_data"
    },
    {
     "data": {
      "application/vnd.jupyter.widget-view+json": {
       "model_id": "e47fbe1d552344879e1b8275984a5f00",
       "version_major": 2,
       "version_minor": 0
      },
      "text/plain": [
       "Fitting PCA:   0%|          | 0/40 [00:00<?, ?it/s]"
      ]
     },
     "metadata": {},
     "output_type": "display_data"
    },
    {
     "data": {
      "application/vnd.jupyter.widget-view+json": {
       "model_id": "446012519cef45b0bb63ca7a02ae3375",
       "version_major": 2,
       "version_minor": 0
      },
      "text/plain": [
       "Projecting waveforms:   0%|          | 0/40 [00:00<?, ?it/s]"
      ]
     },
     "metadata": {},
     "output_type": "display_data"
    },
    {
     "data": {
      "application/vnd.jupyter.widget-view+json": {
       "model_id": "287e56518a884d9ea9989af0cc5df24a",
       "version_major": 2,
       "version_minor": 0
      },
      "text/plain": [
       "extract PCs:   0%|          | 0/3203 [00:00<?, ?it/s]"
      ]
     },
     "metadata": {},
     "output_type": "display_data"
    },
    {
     "name": "stdout",
     "output_type": "stream",
     "text": [
      "Run:\n",
      "phy template-gui  /scratch/back_up/reward_competition_extention/proc/spike_sorting/20240410_152009_comp_novel_subj_4-2_t5b5_merged.rec/phy/params.py\n",
      "/scratch/back_up/reward_competition_extention/data/rce_cohort_3/novel/20240410_152009_comp_novel_subj_4-2_and_4-3_and_5-2_and_5-3.rec/20240410_152009_comp_novel_subj_5-3_t3b3_merged.rec\n",
      "Output directory: /scratch/back_up/reward_competition_extention/proc/spike_sorting/20240410_152009_comp_novel_subj_5-3_t3b3_merged.rec\n",
      "Running bandpass filter\n",
      "Running whitening\n",
      "Spike sorting\n",
      "========================================\n",
      "Loading recording with SpikeInterface...\n",
      "number of samples: 64055352\n",
      "number of channels: 32\n",
      "numbef of segments: 1\n",
      "sampling rate: 20000.0\n",
      "dtype: float32\n",
      "========================================\n",
      "Skipping common average reference.\n",
      "Preprocessing filters computed in  4.98s; total  4.98s\n",
      "Skipping drift correction.\n",
      "\n",
      "computing drift\n",
      "nblocks = 0, skipping drift correction\n",
      "drift computed in  0.00s; total  4.98s\n",
      "\n",
      "Extracting spikes using templates\n",
      "Re-computing universal templates from data.\n"
     ]
    },
    {
     "name": "stderr",
     "output_type": "stream",
     "text": [
      "/home/pc_lab/miniforge3/envs/kilosort_4_0_5/lib/python3.9/site-packages/kilosort/spikedetect.py:235: UserWarning: \n",
      "              NaNs and/or zeroes present in weights for spikedetect.run,\n",
      "              may need to adjust `min_template_size` and/or `dminx` \n",
      "              for best results.\n",
      "\n",
      "              If you're using a probe with multiple shanks, see \n",
      "              https://kilosort.readthedocs.io/en/latest/multi_shank.html\n",
      "              \n",
      "  warnings.warn(msg, UserWarning)\n",
      "100%|██████████| 1068/1068 [04:29<00:00,  3.96it/s]\n"
     ]
    },
    {
     "name": "stdout",
     "output_type": "stream",
     "text": [
      "811906 spikes extracted in  272.53s; total  277.51s\n",
      "\n",
      "First clustering\n"
     ]
    },
    {
     "name": "stderr",
     "output_type": "stream",
     "text": [
      "100%|██████████| 16/16 [00:13<00:00,  1.16it/s]\n"
     ]
    },
    {
     "name": "stdout",
     "output_type": "stream",
     "text": [
      "96 clusters found, in  13.91s; total  291.42s\n",
      "\n",
      "Extracting spikes using cluster waveforms\n"
     ]
    },
    {
     "name": "stderr",
     "output_type": "stream",
     "text": [
      "100%|██████████| 1068/1068 [01:07<00:00, 15.77it/s]\n"
     ]
    },
    {
     "name": "stdout",
     "output_type": "stream",
     "text": [
      "981972 spikes extracted in  67.91s; total  359.33s\n",
      "\n",
      "Final clustering\n"
     ]
    },
    {
     "name": "stderr",
     "output_type": "stream",
     "text": [
      "100%|██████████| 16/16 [00:13<00:00,  1.14it/s]\n"
     ]
    },
    {
     "name": "stdout",
     "output_type": "stream",
     "text": [
      "55 clusters found, in  14.01s; total  373.34s\n",
      "\n",
      "Merging clusters\n",
      "55 units found, in  0.27s; total  373.61s\n",
      "\n",
      "Saving to phy and computing refractory periods\n",
      "12 units found with good refractory periods\n",
      "\n",
      "Total runtime: 379.35s = 00:06:19 h:m:s\n"
     ]
    },
    {
     "name": "stderr",
     "output_type": "stream",
     "text": [
      "/home/pc_lab/miniforge3/envs/kilosort_4_0_5/lib/python3.9/site-packages/spikeinterface/core/basesorting.py:239: UserWarning: The registered recording will not be persistent on disk, but only available in memory\n",
      "  warnings.warn(\"The registered recording will not be persistent on disk, but only available in memory\")\n"
     ]
    },
    {
     "name": "stdout",
     "output_type": "stream",
     "text": [
      "Exporting waveforms\n"
     ]
    },
    {
     "data": {
      "application/vnd.jupyter.widget-view+json": {
       "model_id": "f44a1f5520584093a377a2596b605995",
       "version_major": 2,
       "version_minor": 0
      },
      "text/plain": [
       "extract waveforms memmap multi buffer:   0%|          | 0/17 [00:00<?, ?it/s]"
      ]
     },
     "metadata": {},
     "output_type": "display_data"
    },
    {
     "name": "stdout",
     "output_type": "stream",
     "text": [
      "we_spike_sorted is sparse: False\n",
      "Saving to phy\n"
     ]
    },
    {
     "data": {
      "application/vnd.jupyter.widget-view+json": {
       "model_id": "93794613e89f4c0e8713b43fe834f267",
       "version_major": 2,
       "version_minor": 0
      },
      "text/plain": [
       "write_binary_recording:   0%|          | 0/3203 [00:00<?, ?it/s]"
      ]
     },
     "metadata": {},
     "output_type": "display_data"
    },
    {
     "data": {
      "application/vnd.jupyter.widget-view+json": {
       "model_id": "2d18c33a36d5495facade78f06c9cf3a",
       "version_major": 2,
       "version_minor": 0
      },
      "text/plain": [
       "extract amplitudes:   0%|          | 0/3203 [00:00<?, ?it/s]"
      ]
     },
     "metadata": {},
     "output_type": "display_data"
    },
    {
     "data": {
      "application/vnd.jupyter.widget-view+json": {
       "model_id": "e32e610b47a24abe888205ec401768af",
       "version_major": 2,
       "version_minor": 0
      },
      "text/plain": [
       "Fitting PCA:   0%|          | 0/55 [00:00<?, ?it/s]"
      ]
     },
     "metadata": {},
     "output_type": "display_data"
    },
    {
     "data": {
      "application/vnd.jupyter.widget-view+json": {
       "model_id": "0eb2c0e7289f4c1eb333ae9dbfd3ad9d",
       "version_major": 2,
       "version_minor": 0
      },
      "text/plain": [
       "Projecting waveforms:   0%|          | 0/55 [00:00<?, ?it/s]"
      ]
     },
     "metadata": {},
     "output_type": "display_data"
    },
    {
     "data": {
      "application/vnd.jupyter.widget-view+json": {
       "model_id": "8442062b7b964001a88a8d995c6ec66e",
       "version_major": 2,
       "version_minor": 0
      },
      "text/plain": [
       "extract PCs:   0%|          | 0/3203 [00:00<?, ?it/s]"
      ]
     },
     "metadata": {},
     "output_type": "display_data"
    },
    {
     "name": "stdout",
     "output_type": "stream",
     "text": [
      "Run:\n",
      "phy template-gui  /scratch/back_up/reward_competition_extention/proc/spike_sorting/20240410_152009_comp_novel_subj_5-3_t3b3_merged.rec/phy/params.py\n",
      "/scratch/back_up/reward_competition_extention/data/rce_cohort_3/novel/20240410_152009_comp_novel_subj_4-2_and_4-3_and_5-2_and_5-3.rec/20240410_152009_comp_novel_subj_4-3_t6b6_merged.rec\n",
      "Output directory: /scratch/back_up/reward_competition_extention/proc/spike_sorting/20240410_152009_comp_novel_subj_4-3_t6b6_merged.rec\n",
      "Running bandpass filter\n",
      "Running whitening\n",
      "Spike sorting\n",
      "========================================\n",
      "Loading recording with SpikeInterface...\n",
      "number of samples: 64058476\n",
      "number of channels: 32\n",
      "numbef of segments: 1\n",
      "sampling rate: 20000.0\n",
      "dtype: float32\n",
      "========================================\n",
      "Skipping common average reference.\n",
      "Preprocessing filters computed in  4.78s; total  4.78s\n",
      "Skipping drift correction.\n",
      "\n",
      "computing drift\n",
      "nblocks = 0, skipping drift correction\n",
      "drift computed in  0.00s; total  4.78s\n",
      "\n",
      "Extracting spikes using templates\n",
      "Re-computing universal templates from data.\n"
     ]
    },
    {
     "name": "stderr",
     "output_type": "stream",
     "text": [
      "/home/pc_lab/miniforge3/envs/kilosort_4_0_5/lib/python3.9/site-packages/kilosort/spikedetect.py:235: UserWarning: \n",
      "              NaNs and/or zeroes present in weights for spikedetect.run,\n",
      "              may need to adjust `min_template_size` and/or `dminx` \n",
      "              for best results.\n",
      "\n",
      "              If you're using a probe with multiple shanks, see \n",
      "              https://kilosort.readthedocs.io/en/latest/multi_shank.html\n",
      "              \n",
      "  warnings.warn(msg, UserWarning)\n",
      "100%|██████████| 1068/1068 [04:27<00:00,  3.99it/s]\n"
     ]
    },
    {
     "name": "stdout",
     "output_type": "stream",
     "text": [
      "1065121 spikes extracted in  270.58s; total  275.36s\n",
      "\n",
      "First clustering\n"
     ]
    },
    {
     "name": "stderr",
     "output_type": "stream",
     "text": [
      "100%|██████████| 16/16 [00:19<00:00,  1.21s/it]\n"
     ]
    },
    {
     "name": "stdout",
     "output_type": "stream",
     "text": [
      "116 clusters found, in  19.50s; total  294.87s\n",
      "\n",
      "Extracting spikes using cluster waveforms\n"
     ]
    },
    {
     "name": "stderr",
     "output_type": "stream",
     "text": [
      "100%|██████████| 1068/1068 [01:01<00:00, 17.32it/s]\n"
     ]
    },
    {
     "name": "stdout",
     "output_type": "stream",
     "text": [
      "1062466 spikes extracted in  61.87s; total  356.73s\n",
      "\n",
      "Final clustering\n"
     ]
    },
    {
     "name": "stderr",
     "output_type": "stream",
     "text": [
      "100%|██████████| 16/16 [00:16<00:00,  1.01s/it]\n"
     ]
    },
    {
     "name": "stdout",
     "output_type": "stream",
     "text": [
      "54 clusters found, in  16.24s; total  372.97s\n",
      "\n",
      "Merging clusters\n",
      "53 units found, in  0.36s; total  373.33s\n",
      "\n",
      "Saving to phy and computing refractory periods\n",
      "27 units found with good refractory periods\n",
      "\n",
      "Total runtime: 379.88s = 00:06:20 h:m:s\n"
     ]
    },
    {
     "name": "stderr",
     "output_type": "stream",
     "text": [
      "/home/pc_lab/miniforge3/envs/kilosort_4_0_5/lib/python3.9/site-packages/spikeinterface/core/basesorting.py:239: UserWarning: The registered recording will not be persistent on disk, but only available in memory\n",
      "  warnings.warn(\"The registered recording will not be persistent on disk, but only available in memory\")\n"
     ]
    },
    {
     "name": "stdout",
     "output_type": "stream",
     "text": [
      "Exporting waveforms\n"
     ]
    },
    {
     "data": {
      "application/vnd.jupyter.widget-view+json": {
       "model_id": "46557849f57743689f6edfb7e7b4ad64",
       "version_major": 2,
       "version_minor": 0
      },
      "text/plain": [
       "extract waveforms memmap multi buffer:   0%|          | 0/17 [00:00<?, ?it/s]"
      ]
     },
     "metadata": {},
     "output_type": "display_data"
    },
    {
     "name": "stdout",
     "output_type": "stream",
     "text": [
      "we_spike_sorted is sparse: False\n",
      "Saving to phy\n"
     ]
    },
    {
     "data": {
      "application/vnd.jupyter.widget-view+json": {
       "model_id": "0a958bcbdcb74d8b87aad5ef06bb4dc9",
       "version_major": 2,
       "version_minor": 0
      },
      "text/plain": [
       "write_binary_recording:   0%|          | 0/3203 [00:00<?, ?it/s]"
      ]
     },
     "metadata": {},
     "output_type": "display_data"
    },
    {
     "data": {
      "application/vnd.jupyter.widget-view+json": {
       "model_id": "d3b9a94a4c56455bbe343d8cfa2d060a",
       "version_major": 2,
       "version_minor": 0
      },
      "text/plain": [
       "extract amplitudes:   0%|          | 0/3203 [00:00<?, ?it/s]"
      ]
     },
     "metadata": {},
     "output_type": "display_data"
    },
    {
     "data": {
      "application/vnd.jupyter.widget-view+json": {
       "model_id": "f5bccf7b444a4097bf53f77b7e8e2b1f",
       "version_major": 2,
       "version_minor": 0
      },
      "text/plain": [
       "Fitting PCA:   0%|          | 0/53 [00:00<?, ?it/s]"
      ]
     },
     "metadata": {},
     "output_type": "display_data"
    },
    {
     "data": {
      "application/vnd.jupyter.widget-view+json": {
       "model_id": "917bc6372f6d4f04ac262f26217993db",
       "version_major": 2,
       "version_minor": 0
      },
      "text/plain": [
       "Projecting waveforms:   0%|          | 0/53 [00:00<?, ?it/s]"
      ]
     },
     "metadata": {},
     "output_type": "display_data"
    },
    {
     "data": {
      "application/vnd.jupyter.widget-view+json": {
       "model_id": "6bb59fc7e18847dcb4aa30923e92ee23",
       "version_major": 2,
       "version_minor": 0
      },
      "text/plain": [
       "extract PCs:   0%|          | 0/3203 [00:00<?, ?it/s]"
      ]
     },
     "metadata": {},
     "output_type": "display_data"
    },
    {
     "name": "stdout",
     "output_type": "stream",
     "text": [
      "Run:\n",
      "phy template-gui  /scratch/back_up/reward_competition_extention/proc/spike_sorting/20240410_152009_comp_novel_subj_4-3_t6b6_merged.rec/phy/params.py\n",
      "/scratch/back_up/reward_competition_extention/data/rce_cohort_3/novel/20240405_162313_comp_novel_subj_3-1_and_3-4_and_4-2_and_4-3.rec/20240405_162313_comp_novel_subj_3-4_t6b6_merged.rec\n",
      "Output directory: /scratch/back_up/reward_competition_extention/proc/spike_sorting/20240405_162313_comp_novel_subj_3-4_t6b6_merged.rec\n",
      "Running bandpass filter\n",
      "Running whitening\n",
      "Spike sorting\n",
      "========================================\n",
      "Loading recording with SpikeInterface...\n",
      "number of samples: 63167405\n",
      "number of channels: 32\n",
      "numbef of segments: 1\n",
      "sampling rate: 20000.0\n",
      "dtype: float32\n",
      "========================================\n",
      "Skipping common average reference.\n",
      "Preprocessing filters computed in  4.95s; total  4.95s\n",
      "Skipping drift correction.\n",
      "\n",
      "computing drift\n",
      "nblocks = 0, skipping drift correction\n",
      "drift computed in  0.00s; total  4.95s\n",
      "\n",
      "Extracting spikes using templates\n",
      "Re-computing universal templates from data.\n"
     ]
    },
    {
     "name": "stderr",
     "output_type": "stream",
     "text": [
      "/home/pc_lab/miniforge3/envs/kilosort_4_0_5/lib/python3.9/site-packages/kilosort/spikedetect.py:235: UserWarning: \n",
      "              NaNs and/or zeroes present in weights for spikedetect.run,\n",
      "              may need to adjust `min_template_size` and/or `dminx` \n",
      "              for best results.\n",
      "\n",
      "              If you're using a probe with multiple shanks, see \n",
      "              https://kilosort.readthedocs.io/en/latest/multi_shank.html\n",
      "              \n",
      "  warnings.warn(msg, UserWarning)\n",
      "100%|██████████| 1053/1053 [04:50<00:00,  3.63it/s]\n"
     ]
    },
    {
     "name": "stdout",
     "output_type": "stream",
     "text": [
      "1066579 spikes extracted in  293.00s; total  297.95s\n",
      "\n",
      "First clustering\n"
     ]
    },
    {
     "name": "stderr",
     "output_type": "stream",
     "text": [
      "100%|██████████| 16/16 [00:18<00:00,  1.16s/it]\n",
      "/home/pc_lab/miniforge3/envs/kilosort_4_0_5/lib/python3.9/site-packages/kilosort/template_matching.py:71: UserWarning: Plan failed with a cudnnException: CUDNN_BACKEND_EXECUTION_PLAN_DESCRIPTOR: cudnnFinalize Descriptor Failed cudnn_status: CUDNN_STATUS_NOT_SUPPORTED (Triggered internally at /opt/conda/conda-bld/pytorch_1712608885084/work/aten/src/ATen/native/cudnn/Conv_v8.cpp:919.)\n",
      "  X = conv1d(X.unsqueeze(1), ops['wTEMP'].unsqueeze(1), padding=ops['nt']//2)\n"
     ]
    },
    {
     "name": "stdout",
     "output_type": "stream",
     "text": [
      "131 clusters found, in  18.64s; total  316.60s\n",
      "\n",
      "Extracting spikes using cluster waveforms\n"
     ]
    },
    {
     "name": "stderr",
     "output_type": "stream",
     "text": [
      "100%|██████████| 1053/1053 [01:05<00:00, 16.01it/s]\n"
     ]
    },
    {
     "name": "stdout",
     "output_type": "stream",
     "text": [
      "1115187 spikes extracted in  66.00s; total  382.60s\n",
      "\n",
      "Final clustering\n"
     ]
    },
    {
     "name": "stderr",
     "output_type": "stream",
     "text": [
      "100%|██████████| 16/16 [00:16<00:00,  1.06s/it]\n"
     ]
    },
    {
     "name": "stdout",
     "output_type": "stream",
     "text": [
      "52 clusters found, in  16.93s; total  399.53s\n",
      "\n",
      "Merging clusters\n",
      "52 units found, in  0.28s; total  399.81s\n",
      "\n",
      "Saving to phy and computing refractory periods\n",
      "9 units found with good refractory periods\n",
      "\n",
      "Total runtime: 406.59s = 00:06:47 h:m:s\n"
     ]
    },
    {
     "name": "stderr",
     "output_type": "stream",
     "text": [
      "/home/pc_lab/miniforge3/envs/kilosort_4_0_5/lib/python3.9/site-packages/spikeinterface/core/basesorting.py:239: UserWarning: The registered recording will not be persistent on disk, but only available in memory\n",
      "  warnings.warn(\"The registered recording will not be persistent on disk, but only available in memory\")\n"
     ]
    },
    {
     "name": "stdout",
     "output_type": "stream",
     "text": [
      "Exporting waveforms\n"
     ]
    },
    {
     "data": {
      "application/vnd.jupyter.widget-view+json": {
       "model_id": "1acc34e59dd34b388b88350a1f27f02c",
       "version_major": 2,
       "version_minor": 0
      },
      "text/plain": [
       "extract waveforms memmap multi buffer:   0%|          | 0/17 [00:00<?, ?it/s]"
      ]
     },
     "metadata": {},
     "output_type": "display_data"
    },
    {
     "name": "stdout",
     "output_type": "stream",
     "text": [
      "we_spike_sorted is sparse: False\n",
      "Saving to phy\n"
     ]
    },
    {
     "data": {
      "application/vnd.jupyter.widget-view+json": {
       "model_id": "ff610c13add84118a84e586b4db6caa6",
       "version_major": 2,
       "version_minor": 0
      },
      "text/plain": [
       "write_binary_recording:   0%|          | 0/3159 [00:00<?, ?it/s]"
      ]
     },
     "metadata": {},
     "output_type": "display_data"
    },
    {
     "data": {
      "application/vnd.jupyter.widget-view+json": {
       "model_id": "1874f4a278284850b50fe767e113e9d3",
       "version_major": 2,
       "version_minor": 0
      },
      "text/plain": [
       "extract amplitudes:   0%|          | 0/3159 [00:00<?, ?it/s]"
      ]
     },
     "metadata": {},
     "output_type": "display_data"
    },
    {
     "data": {
      "application/vnd.jupyter.widget-view+json": {
       "model_id": "4e9c9ead663a497e977723c04cd4d485",
       "version_major": 2,
       "version_minor": 0
      },
      "text/plain": [
       "Fitting PCA:   0%|          | 0/52 [00:00<?, ?it/s]"
      ]
     },
     "metadata": {},
     "output_type": "display_data"
    },
    {
     "data": {
      "application/vnd.jupyter.widget-view+json": {
       "model_id": "0088d9f3abf849e5842770be8c0084b4",
       "version_major": 2,
       "version_minor": 0
      },
      "text/plain": [
       "Projecting waveforms:   0%|          | 0/52 [00:00<?, ?it/s]"
      ]
     },
     "metadata": {},
     "output_type": "display_data"
    },
    {
     "data": {
      "application/vnd.jupyter.widget-view+json": {
       "model_id": "db4303a309ca4508bec23f694ba54846",
       "version_major": 2,
       "version_minor": 0
      },
      "text/plain": [
       "extract PCs:   0%|          | 0/3159 [00:00<?, ?it/s]"
      ]
     },
     "metadata": {},
     "output_type": "display_data"
    },
    {
     "name": "stdout",
     "output_type": "stream",
     "text": [
      "Run:\n",
      "phy template-gui  /scratch/back_up/reward_competition_extention/proc/spike_sorting/20240405_162313_comp_novel_subj_3-4_t6b6_merged.rec/phy/params.py\n",
      "/scratch/back_up/reward_competition_extention/data/rce_cohort_3/novel/20240405_162313_comp_novel_subj_3-1_and_3-4_and_4-2_and_4-3.rec/20240405_162313_comp_novel_subj_4-3_t3b3_merged.rec\n",
      "Output directory: /scratch/back_up/reward_competition_extention/proc/spike_sorting/20240405_162313_comp_novel_subj_4-3_t3b3_merged.rec\n",
      "Running bandpass filter\n",
      "Running whitening\n",
      "Spike sorting\n",
      "========================================\n",
      "Loading recording with SpikeInterface...\n",
      "number of samples: 63162418\n",
      "number of channels: 32\n",
      "numbef of segments: 1\n",
      "sampling rate: 20000.0\n",
      "dtype: float32\n",
      "========================================\n",
      "Skipping common average reference.\n",
      "Preprocessing filters computed in  4.78s; total  4.78s\n",
      "Skipping drift correction.\n",
      "\n",
      "computing drift\n",
      "nblocks = 0, skipping drift correction\n",
      "drift computed in  0.00s; total  4.78s\n",
      "\n",
      "Extracting spikes using templates\n",
      "Re-computing universal templates from data.\n"
     ]
    },
    {
     "name": "stderr",
     "output_type": "stream",
     "text": [
      "/home/pc_lab/miniforge3/envs/kilosort_4_0_5/lib/python3.9/site-packages/kilosort/spikedetect.py:235: UserWarning: \n",
      "              NaNs and/or zeroes present in weights for spikedetect.run,\n",
      "              may need to adjust `min_template_size` and/or `dminx` \n",
      "              for best results.\n",
      "\n",
      "              If you're using a probe with multiple shanks, see \n",
      "              https://kilosort.readthedocs.io/en/latest/multi_shank.html\n",
      "              \n",
      "  warnings.warn(msg, UserWarning)\n",
      "100%|██████████| 1053/1053 [04:26<00:00,  3.95it/s]\n"
     ]
    },
    {
     "name": "stdout",
     "output_type": "stream",
     "text": [
      "1344414 spikes extracted in  269.73s; total  274.51s\n",
      "\n",
      "First clustering\n"
     ]
    },
    {
     "name": "stderr",
     "output_type": "stream",
     "text": [
      "100%|██████████| 16/16 [00:21<00:00,  1.31s/it]\n"
     ]
    },
    {
     "name": "stdout",
     "output_type": "stream",
     "text": [
      "101 clusters found, in  21.10s; total  295.60s\n",
      "\n",
      "Extracting spikes using cluster waveforms\n"
     ]
    },
    {
     "name": "stderr",
     "output_type": "stream",
     "text": [
      "100%|██████████| 1053/1053 [01:04<00:00, 16.31it/s]\n"
     ]
    },
    {
     "name": "stdout",
     "output_type": "stream",
     "text": [
      "1325715 spikes extracted in  64.81s; total  360.41s\n",
      "\n",
      "Final clustering\n"
     ]
    },
    {
     "name": "stderr",
     "output_type": "stream",
     "text": [
      "100%|██████████| 16/16 [00:19<00:00,  1.22s/it]\n"
     ]
    },
    {
     "name": "stdout",
     "output_type": "stream",
     "text": [
      "56 clusters found, in  19.60s; total  380.02s\n",
      "\n",
      "Merging clusters\n",
      "56 units found, in  0.33s; total  380.35s\n",
      "\n",
      "Saving to phy and computing refractory periods\n",
      "12 units found with good refractory periods\n",
      "\n",
      "Total runtime: 388.01s = 00:06:28 h:m:s\n"
     ]
    },
    {
     "name": "stderr",
     "output_type": "stream",
     "text": [
      "/home/pc_lab/miniforge3/envs/kilosort_4_0_5/lib/python3.9/site-packages/spikeinterface/core/basesorting.py:239: UserWarning: The registered recording will not be persistent on disk, but only available in memory\n",
      "  warnings.warn(\"The registered recording will not be persistent on disk, but only available in memory\")\n"
     ]
    },
    {
     "name": "stdout",
     "output_type": "stream",
     "text": [
      "Exporting waveforms\n"
     ]
    },
    {
     "data": {
      "application/vnd.jupyter.widget-view+json": {
       "model_id": "6ee9500497c84ebbba0b7f06421c4035",
       "version_major": 2,
       "version_minor": 0
      },
      "text/plain": [
       "extract waveforms memmap multi buffer:   0%|          | 0/17 [00:00<?, ?it/s]"
      ]
     },
     "metadata": {},
     "output_type": "display_data"
    },
    {
     "name": "stdout",
     "output_type": "stream",
     "text": [
      "we_spike_sorted is sparse: False\n",
      "Saving to phy\n"
     ]
    },
    {
     "data": {
      "application/vnd.jupyter.widget-view+json": {
       "model_id": "40eb285971d248ef83bc13f3f37c8ad4",
       "version_major": 2,
       "version_minor": 0
      },
      "text/plain": [
       "write_binary_recording:   0%|          | 0/3159 [00:00<?, ?it/s]"
      ]
     },
     "metadata": {},
     "output_type": "display_data"
    },
    {
     "data": {
      "application/vnd.jupyter.widget-view+json": {
       "model_id": "e8cc57fdac0d481698c749fa93061057",
       "version_major": 2,
       "version_minor": 0
      },
      "text/plain": [
       "extract amplitudes:   0%|          | 0/3159 [00:00<?, ?it/s]"
      ]
     },
     "metadata": {},
     "output_type": "display_data"
    },
    {
     "data": {
      "application/vnd.jupyter.widget-view+json": {
       "model_id": "669755d03df747f193caa1c48b206ad3",
       "version_major": 2,
       "version_minor": 0
      },
      "text/plain": [
       "Fitting PCA:   0%|          | 0/56 [00:00<?, ?it/s]"
      ]
     },
     "metadata": {},
     "output_type": "display_data"
    },
    {
     "data": {
      "application/vnd.jupyter.widget-view+json": {
       "model_id": "58be0b21a68e40d1974f4f4027889a72",
       "version_major": 2,
       "version_minor": 0
      },
      "text/plain": [
       "Projecting waveforms:   0%|          | 0/56 [00:00<?, ?it/s]"
      ]
     },
     "metadata": {},
     "output_type": "display_data"
    },
    {
     "data": {
      "application/vnd.jupyter.widget-view+json": {
       "model_id": "82a21ba1825c4cb7b27f223725a2218a",
       "version_major": 2,
       "version_minor": 0
      },
      "text/plain": [
       "extract PCs:   0%|          | 0/3159 [00:00<?, ?it/s]"
      ]
     },
     "metadata": {},
     "output_type": "display_data"
    },
    {
     "name": "stdout",
     "output_type": "stream",
     "text": [
      "Run:\n",
      "phy template-gui  /scratch/back_up/reward_competition_extention/proc/spike_sorting/20240405_162313_comp_novel_subj_4-3_t3b3_merged.rec/phy/params.py\n",
      "/scratch/back_up/reward_competition_extention/data/rce_cohort_3/novel/20240405_162313_comp_novel_subj_3-1_and_3-4_and_4-2_and_4-3.rec/20240405_162313_comp_novel_subj_4-2_t4b4_merged.rec\n",
      "Output directory: /scratch/back_up/reward_competition_extention/proc/spike_sorting/20240405_162313_comp_novel_subj_4-2_t4b4_merged.rec\n",
      "Running bandpass filter\n",
      "Running whitening\n",
      "Spike sorting\n",
      "========================================\n",
      "Loading recording with SpikeInterface...\n",
      "number of samples: 63167252\n",
      "number of channels: 32\n",
      "numbef of segments: 1\n",
      "sampling rate: 20000.0\n",
      "dtype: float32\n",
      "========================================\n",
      "Skipping common average reference.\n",
      "Preprocessing filters computed in  4.97s; total  4.97s\n",
      "Skipping drift correction.\n",
      "\n",
      "computing drift\n",
      "nblocks = 0, skipping drift correction\n",
      "drift computed in  0.00s; total  4.97s\n",
      "\n",
      "Extracting spikes using templates\n",
      "Re-computing universal templates from data.\n"
     ]
    },
    {
     "name": "stderr",
     "output_type": "stream",
     "text": [
      "/home/pc_lab/miniforge3/envs/kilosort_4_0_5/lib/python3.9/site-packages/kilosort/spikedetect.py:235: UserWarning: \n",
      "              NaNs and/or zeroes present in weights for spikedetect.run,\n",
      "              may need to adjust `min_template_size` and/or `dminx` \n",
      "              for best results.\n",
      "\n",
      "              If you're using a probe with multiple shanks, see \n",
      "              https://kilosort.readthedocs.io/en/latest/multi_shank.html\n",
      "              \n",
      "  warnings.warn(msg, UserWarning)\n",
      "100%|██████████| 1053/1053 [04:25<00:00,  3.96it/s]\n"
     ]
    },
    {
     "name": "stdout",
     "output_type": "stream",
     "text": [
      "897849 spikes extracted in  268.35s; total  273.32s\n",
      "\n",
      "First clustering\n"
     ]
    },
    {
     "name": "stderr",
     "output_type": "stream",
     "text": [
      "100%|██████████| 16/16 [00:14<00:00,  1.12it/s]\n"
     ]
    },
    {
     "name": "stdout",
     "output_type": "stream",
     "text": [
      "100 clusters found, in  14.45s; total  287.78s\n",
      "\n",
      "Extracting spikes using cluster waveforms\n"
     ]
    },
    {
     "name": "stderr",
     "output_type": "stream",
     "text": [
      "100%|██████████| 1053/1053 [01:03<00:00, 16.50it/s]\n"
     ]
    },
    {
     "name": "stdout",
     "output_type": "stream",
     "text": [
      "939363 spikes extracted in  63.98s; total  351.76s\n",
      "\n",
      "Final clustering\n"
     ]
    },
    {
     "name": "stderr",
     "output_type": "stream",
     "text": [
      "100%|██████████| 16/16 [00:14<00:00,  1.09it/s]\n"
     ]
    },
    {
     "name": "stdout",
     "output_type": "stream",
     "text": [
      "46 clusters found, in  14.71s; total  366.47s\n",
      "\n",
      "Merging clusters\n",
      "46 units found, in  0.24s; total  366.71s\n",
      "\n",
      "Saving to phy and computing refractory periods\n",
      "11 units found with good refractory periods\n",
      "\n",
      "Total runtime: 372.02s = 00:06:12 h:m:s\n"
     ]
    },
    {
     "name": "stderr",
     "output_type": "stream",
     "text": [
      "/home/pc_lab/miniforge3/envs/kilosort_4_0_5/lib/python3.9/site-packages/spikeinterface/core/basesorting.py:239: UserWarning: The registered recording will not be persistent on disk, but only available in memory\n",
      "  warnings.warn(\"The registered recording will not be persistent on disk, but only available in memory\")\n"
     ]
    },
    {
     "name": "stdout",
     "output_type": "stream",
     "text": [
      "Exporting waveforms\n"
     ]
    },
    {
     "data": {
      "application/vnd.jupyter.widget-view+json": {
       "model_id": "dfa610b40b0646cd97afe36b81cfa7d4",
       "version_major": 2,
       "version_minor": 0
      },
      "text/plain": [
       "extract waveforms memmap multi buffer:   0%|          | 0/17 [00:00<?, ?it/s]"
      ]
     },
     "metadata": {},
     "output_type": "display_data"
    },
    {
     "name": "stdout",
     "output_type": "stream",
     "text": [
      "we_spike_sorted is sparse: False\n",
      "Saving to phy\n"
     ]
    },
    {
     "data": {
      "application/vnd.jupyter.widget-view+json": {
       "model_id": "412fb51164724cc2aed528b86fc2426f",
       "version_major": 2,
       "version_minor": 0
      },
      "text/plain": [
       "write_binary_recording:   0%|          | 0/3159 [00:00<?, ?it/s]"
      ]
     },
     "metadata": {},
     "output_type": "display_data"
    },
    {
     "data": {
      "application/vnd.jupyter.widget-view+json": {
       "model_id": "a67bd54e50e3431ba73d209c11b7f0fe",
       "version_major": 2,
       "version_minor": 0
      },
      "text/plain": [
       "extract amplitudes:   0%|          | 0/3159 [00:00<?, ?it/s]"
      ]
     },
     "metadata": {},
     "output_type": "display_data"
    },
    {
     "data": {
      "application/vnd.jupyter.widget-view+json": {
       "model_id": "f0cd31193152427c9793b04a7797970c",
       "version_major": 2,
       "version_minor": 0
      },
      "text/plain": [
       "Fitting PCA:   0%|          | 0/46 [00:00<?, ?it/s]"
      ]
     },
     "metadata": {},
     "output_type": "display_data"
    },
    {
     "data": {
      "application/vnd.jupyter.widget-view+json": {
       "model_id": "02bb5e1727264470b23920664bdb5222",
       "version_major": 2,
       "version_minor": 0
      },
      "text/plain": [
       "Projecting waveforms:   0%|          | 0/46 [00:00<?, ?it/s]"
      ]
     },
     "metadata": {},
     "output_type": "display_data"
    },
    {
     "data": {
      "application/vnd.jupyter.widget-view+json": {
       "model_id": "6988cae8171e4feb93f086329b38ebf4",
       "version_major": 2,
       "version_minor": 0
      },
      "text/plain": [
       "extract PCs:   0%|          | 0/3159 [00:00<?, ?it/s]"
      ]
     },
     "metadata": {},
     "output_type": "display_data"
    },
    {
     "name": "stdout",
     "output_type": "stream",
     "text": [
      "Run:\n",
      "phy template-gui  /scratch/back_up/reward_competition_extention/proc/spike_sorting/20240405_162313_comp_novel_subj_4-2_t4b4_merged.rec/phy/params.py\n",
      "/scratch/back_up/reward_competition_extention/data/rce_cohort_3/novel/20240405_162313_comp_novel_subj_3-1_and_3-4_and_4-2_and_4-3.rec/20240405_162313_comp_novel_subj_3-1_t5b5_merged.rec\n",
      "Output directory: /scratch/back_up/reward_competition_extention/proc/spike_sorting/20240405_162313_comp_novel_subj_3-1_t5b5_merged.rec\n",
      "Running bandpass filter\n",
      "Running whitening\n",
      "Spike sorting\n",
      "========================================\n",
      "Loading recording with SpikeInterface...\n",
      "number of samples: 63167288\n",
      "number of channels: 32\n",
      "numbef of segments: 1\n",
      "sampling rate: 20000.0\n",
      "dtype: float32\n",
      "========================================\n",
      "Skipping common average reference.\n",
      "Preprocessing filters computed in  4.75s; total  4.75s\n",
      "Skipping drift correction.\n",
      "\n",
      "computing drift\n",
      "nblocks = 0, skipping drift correction\n",
      "drift computed in  0.00s; total  4.75s\n",
      "\n",
      "Extracting spikes using templates\n",
      "Re-computing universal templates from data.\n"
     ]
    },
    {
     "name": "stderr",
     "output_type": "stream",
     "text": [
      "/home/pc_lab/miniforge3/envs/kilosort_4_0_5/lib/python3.9/site-packages/kilosort/spikedetect.py:235: UserWarning: \n",
      "              NaNs and/or zeroes present in weights for spikedetect.run,\n",
      "              may need to adjust `min_template_size` and/or `dminx` \n",
      "              for best results.\n",
      "\n",
      "              If you're using a probe with multiple shanks, see \n",
      "              https://kilosort.readthedocs.io/en/latest/multi_shank.html\n",
      "              \n",
      "  warnings.warn(msg, UserWarning)\n",
      "100%|██████████| 1053/1053 [04:23<00:00,  3.99it/s]\n"
     ]
    },
    {
     "name": "stdout",
     "output_type": "stream",
     "text": [
      "1069766 spikes extracted in  266.12s; total  270.87s\n",
      "\n",
      "First clustering\n"
     ]
    },
    {
     "name": "stderr",
     "output_type": "stream",
     "text": [
      "100%|██████████| 16/16 [00:15<00:00,  1.01it/s]\n"
     ]
    },
    {
     "name": "stdout",
     "output_type": "stream",
     "text": [
      "92 clusters found, in  15.98s; total  286.85s\n",
      "\n",
      "Extracting spikes using cluster waveforms\n"
     ]
    },
    {
     "name": "stderr",
     "output_type": "stream",
     "text": [
      "100%|██████████| 1053/1053 [01:05<00:00, 16.12it/s]\n"
     ]
    },
    {
     "name": "stdout",
     "output_type": "stream",
     "text": [
      "1184615 spikes extracted in  65.53s; total  352.38s\n",
      "\n",
      "Final clustering\n"
     ]
    },
    {
     "name": "stderr",
     "output_type": "stream",
     "text": [
      "100%|██████████| 16/16 [00:17<00:00,  1.12s/it]\n"
     ]
    },
    {
     "name": "stdout",
     "output_type": "stream",
     "text": [
      "45 clusters found, in  17.90s; total  370.28s\n",
      "\n",
      "Merging clusters\n",
      "45 units found, in  0.33s; total  370.62s\n",
      "\n",
      "Saving to phy and computing refractory periods\n",
      "18 units found with good refractory periods\n",
      "\n",
      "Total runtime: 377.38s = 00:06:17 h:m:s\n"
     ]
    },
    {
     "name": "stderr",
     "output_type": "stream",
     "text": [
      "/home/pc_lab/miniforge3/envs/kilosort_4_0_5/lib/python3.9/site-packages/spikeinterface/core/basesorting.py:239: UserWarning: The registered recording will not be persistent on disk, but only available in memory\n",
      "  warnings.warn(\"The registered recording will not be persistent on disk, but only available in memory\")\n"
     ]
    },
    {
     "name": "stdout",
     "output_type": "stream",
     "text": [
      "Exporting waveforms\n"
     ]
    },
    {
     "data": {
      "application/vnd.jupyter.widget-view+json": {
       "model_id": "e280be84ec614ea4ba942f007dec27d6",
       "version_major": 2,
       "version_minor": 0
      },
      "text/plain": [
       "extract waveforms memmap multi buffer:   0%|          | 0/17 [00:00<?, ?it/s]"
      ]
     },
     "metadata": {},
     "output_type": "display_data"
    },
    {
     "name": "stdout",
     "output_type": "stream",
     "text": [
      "we_spike_sorted is sparse: False\n",
      "Saving to phy\n"
     ]
    },
    {
     "data": {
      "application/vnd.jupyter.widget-view+json": {
       "model_id": "4a139e75905a429cb605f085d4220fac",
       "version_major": 2,
       "version_minor": 0
      },
      "text/plain": [
       "write_binary_recording:   0%|          | 0/3159 [00:00<?, ?it/s]"
      ]
     },
     "metadata": {},
     "output_type": "display_data"
    },
    {
     "data": {
      "application/vnd.jupyter.widget-view+json": {
       "model_id": "1a5afd1bd8c6410388ddf93623f75a26",
       "version_major": 2,
       "version_minor": 0
      },
      "text/plain": [
       "extract amplitudes:   0%|          | 0/3159 [00:00<?, ?it/s]"
      ]
     },
     "metadata": {},
     "output_type": "display_data"
    },
    {
     "data": {
      "application/vnd.jupyter.widget-view+json": {
       "model_id": "a0ccff1956f0411cbb48bbcabfeb1435",
       "version_major": 2,
       "version_minor": 0
      },
      "text/plain": [
       "Fitting PCA:   0%|          | 0/45 [00:00<?, ?it/s]"
      ]
     },
     "metadata": {},
     "output_type": "display_data"
    },
    {
     "data": {
      "application/vnd.jupyter.widget-view+json": {
       "model_id": "8399cc701fff4a97891bd20011e5b97c",
       "version_major": 2,
       "version_minor": 0
      },
      "text/plain": [
       "Projecting waveforms:   0%|          | 0/45 [00:00<?, ?it/s]"
      ]
     },
     "metadata": {},
     "output_type": "display_data"
    },
    {
     "data": {
      "application/vnd.jupyter.widget-view+json": {
       "model_id": "39fb2a031cc8434b8600c1cf0b1fc5fe",
       "version_major": 2,
       "version_minor": 0
      },
      "text/plain": [
       "extract PCs:   0%|          | 0/3159 [00:00<?, ?it/s]"
      ]
     },
     "metadata": {},
     "output_type": "display_data"
    },
    {
     "name": "stdout",
     "output_type": "stream",
     "text": [
      "Run:\n",
      "phy template-gui  /scratch/back_up/reward_competition_extention/proc/spike_sorting/20240405_162313_comp_novel_subj_3-1_t5b5_merged.rec/phy/params.py\n",
      "/scratch/back_up/reward_competition_extention/data/rce_cohort_3/novel/20240409_142051_comp_novel_subj_3-3_and_3-4_and_4-3_and_4-4.rec/20240409_142051_comp_novel_subj_4-4_t6b6_merged.rec\n",
      "Output directory: /scratch/back_up/reward_competition_extention/proc/spike_sorting/20240409_142051_comp_novel_subj_4-4_t6b6_merged.rec\n",
      "Running bandpass filter\n",
      "Running whitening\n",
      "Spike sorting\n",
      "========================================\n",
      "Loading recording with SpikeInterface...\n",
      "number of samples: 64264972\n",
      "number of channels: 32\n",
      "numbef of segments: 1\n",
      "sampling rate: 20000.0\n",
      "dtype: float32\n",
      "========================================\n",
      "Skipping common average reference.\n",
      "Preprocessing filters computed in  5.38s; total  5.38s\n",
      "Skipping drift correction.\n",
      "\n",
      "computing drift\n",
      "nblocks = 0, skipping drift correction\n",
      "drift computed in  0.00s; total  5.38s\n",
      "\n",
      "Extracting spikes using templates\n",
      "Re-computing universal templates from data.\n"
     ]
    },
    {
     "name": "stderr",
     "output_type": "stream",
     "text": [
      "/home/pc_lab/miniforge3/envs/kilosort_4_0_5/lib/python3.9/site-packages/kilosort/spikedetect.py:235: UserWarning: \n",
      "              NaNs and/or zeroes present in weights for spikedetect.run,\n",
      "              may need to adjust `min_template_size` and/or `dminx` \n",
      "              for best results.\n",
      "\n",
      "              If you're using a probe with multiple shanks, see \n",
      "              https://kilosort.readthedocs.io/en/latest/multi_shank.html\n",
      "              \n",
      "  warnings.warn(msg, UserWarning)\n",
      "100%|██████████| 1072/1072 [04:32<00:00,  3.93it/s]\n"
     ]
    },
    {
     "name": "stdout",
     "output_type": "stream",
     "text": [
      "345707 spikes extracted in  275.09s; total  280.48s\n",
      "\n",
      "First clustering\n"
     ]
    },
    {
     "name": "stderr",
     "output_type": "stream",
     "text": [
      "100%|██████████| 16/16 [00:06<00:00,  2.52it/s]\n"
     ]
    },
    {
     "name": "stdout",
     "output_type": "stream",
     "text": [
      "65 clusters found, in  6.43s; total  286.91s\n",
      "\n",
      "Extracting spikes using cluster waveforms\n"
     ]
    },
    {
     "name": "stderr",
     "output_type": "stream",
     "text": [
      "100%|██████████| 1072/1072 [01:03<00:00, 16.96it/s]\n"
     ]
    },
    {
     "name": "stdout",
     "output_type": "stream",
     "text": [
      "479841 spikes extracted in  63.32s; total  350.23s\n",
      "\n",
      "Final clustering\n"
     ]
    },
    {
     "name": "stderr",
     "output_type": "stream",
     "text": [
      "100%|██████████| 16/16 [00:07<00:00,  2.23it/s]\n"
     ]
    },
    {
     "name": "stdout",
     "output_type": "stream",
     "text": [
      "28 clusters found, in  7.19s; total  357.42s\n",
      "\n",
      "Merging clusters\n",
      "28 units found, in  0.10s; total  357.52s\n",
      "\n",
      "Saving to phy and computing refractory periods\n",
      "1 units found with good refractory periods\n",
      "\n",
      "Total runtime: 360.19s = 00:06:0 h:m:s\n"
     ]
    },
    {
     "name": "stderr",
     "output_type": "stream",
     "text": [
      "/home/pc_lab/miniforge3/envs/kilosort_4_0_5/lib/python3.9/site-packages/spikeinterface/core/basesorting.py:239: UserWarning: The registered recording will not be persistent on disk, but only available in memory\n",
      "  warnings.warn(\"The registered recording will not be persistent on disk, but only available in memory\")\n"
     ]
    },
    {
     "name": "stdout",
     "output_type": "stream",
     "text": [
      "Exporting waveforms\n"
     ]
    },
    {
     "data": {
      "application/vnd.jupyter.widget-view+json": {
       "model_id": "02a9fc89bb0f44ea9275dcd17c17d067",
       "version_major": 2,
       "version_minor": 0
      },
      "text/plain": [
       "extract waveforms memmap multi buffer:   0%|          | 0/17 [00:00<?, ?it/s]"
      ]
     },
     "metadata": {},
     "output_type": "display_data"
    },
    {
     "name": "stdout",
     "output_type": "stream",
     "text": [
      "we_spike_sorted is sparse: False\n",
      "Saving to phy\n"
     ]
    },
    {
     "data": {
      "application/vnd.jupyter.widget-view+json": {
       "model_id": "d745329b654d4c8da8e3ac2606776e86",
       "version_major": 2,
       "version_minor": 0
      },
      "text/plain": [
       "write_binary_recording:   0%|          | 0/3214 [00:00<?, ?it/s]"
      ]
     },
     "metadata": {},
     "output_type": "display_data"
    },
    {
     "data": {
      "application/vnd.jupyter.widget-view+json": {
       "model_id": "fd4d8eba7df9489eb11fcd661e962e4f",
       "version_major": 2,
       "version_minor": 0
      },
      "text/plain": [
       "extract amplitudes:   0%|          | 0/3214 [00:00<?, ?it/s]"
      ]
     },
     "metadata": {},
     "output_type": "display_data"
    },
    {
     "data": {
      "application/vnd.jupyter.widget-view+json": {
       "model_id": "e806787e85e045c1be42fee1578984bf",
       "version_major": 2,
       "version_minor": 0
      },
      "text/plain": [
       "Fitting PCA:   0%|          | 0/28 [00:00<?, ?it/s]"
      ]
     },
     "metadata": {},
     "output_type": "display_data"
    },
    {
     "data": {
      "application/vnd.jupyter.widget-view+json": {
       "model_id": "6531a0e4e2794d31ab6e09c08b19d067",
       "version_major": 2,
       "version_minor": 0
      },
      "text/plain": [
       "Projecting waveforms:   0%|          | 0/28 [00:00<?, ?it/s]"
      ]
     },
     "metadata": {},
     "output_type": "display_data"
    },
    {
     "data": {
      "application/vnd.jupyter.widget-view+json": {
       "model_id": "7c30bf8a8579459595f1a9acb5fd7385",
       "version_major": 2,
       "version_minor": 0
      },
      "text/plain": [
       "extract PCs:   0%|          | 0/3214 [00:00<?, ?it/s]"
      ]
     },
     "metadata": {},
     "output_type": "display_data"
    },
    {
     "name": "stdout",
     "output_type": "stream",
     "text": [
      "Run:\n",
      "phy template-gui  /scratch/back_up/reward_competition_extention/proc/spike_sorting/20240409_142051_comp_novel_subj_4-4_t6b6_merged.rec/phy/params.py\n",
      "/scratch/back_up/reward_competition_extention/data/rce_cohort_3/novel/20240409_142051_comp_novel_subj_3-3_and_3-4_and_4-3_and_4-4.rec/20240409_142051_comp_novel_subj_3-4_t4b4_merged.rec\n",
      "Output directory: /scratch/back_up/reward_competition_extention/proc/spike_sorting/20240409_142051_comp_novel_subj_3-4_t4b4_merged.rec\n",
      "Running bandpass filter\n",
      "Running whitening\n",
      "Spike sorting\n",
      "========================================\n",
      "Loading recording with SpikeInterface...\n",
      "number of samples: 64264744\n",
      "number of channels: 32\n",
      "numbef of segments: 1\n",
      "sampling rate: 20000.0\n",
      "dtype: float32\n",
      "========================================\n",
      "Skipping common average reference.\n",
      "Preprocessing filters computed in  4.91s; total  4.91s\n",
      "Skipping drift correction.\n",
      "\n",
      "computing drift\n",
      "nblocks = 0, skipping drift correction\n",
      "drift computed in  0.00s; total  4.91s\n",
      "\n",
      "Extracting spikes using templates\n",
      "Re-computing universal templates from data.\n"
     ]
    },
    {
     "name": "stderr",
     "output_type": "stream",
     "text": [
      "/home/pc_lab/miniforge3/envs/kilosort_4_0_5/lib/python3.9/site-packages/kilosort/spikedetect.py:235: UserWarning: \n",
      "              NaNs and/or zeroes present in weights for spikedetect.run,\n",
      "              may need to adjust `min_template_size` and/or `dminx` \n",
      "              for best results.\n",
      "\n",
      "              If you're using a probe with multiple shanks, see \n",
      "              https://kilosort.readthedocs.io/en/latest/multi_shank.html\n",
      "              \n",
      "  warnings.warn(msg, UserWarning)\n",
      "100%|██████████| 1072/1072 [04:31<00:00,  3.95it/s]\n"
     ]
    },
    {
     "name": "stdout",
     "output_type": "stream",
     "text": [
      "1160109 spikes extracted in  274.48s; total  279.39s\n",
      "\n",
      "First clustering\n"
     ]
    },
    {
     "name": "stderr",
     "output_type": "stream",
     "text": [
      "100%|██████████| 16/16 [00:19<00:00,  1.24s/it]\n",
      "/home/pc_lab/miniforge3/envs/kilosort_4_0_5/lib/python3.9/site-packages/kilosort/template_matching.py:71: UserWarning: Plan failed with a cudnnException: CUDNN_BACKEND_EXECUTION_PLAN_DESCRIPTOR: cudnnFinalize Descriptor Failed cudnn_status: CUDNN_STATUS_NOT_SUPPORTED (Triggered internally at /opt/conda/conda-bld/pytorch_1712608885084/work/aten/src/ATen/native/cudnn/Conv_v8.cpp:919.)\n",
      "  X = conv1d(X.unsqueeze(1), ops['wTEMP'].unsqueeze(1), padding=ops['nt']//2)\n"
     ]
    },
    {
     "name": "stdout",
     "output_type": "stream",
     "text": [
      "135 clusters found, in  19.94s; total  299.33s\n",
      "\n",
      "Extracting spikes using cluster waveforms\n"
     ]
    },
    {
     "name": "stderr",
     "output_type": "stream",
     "text": [
      "100%|██████████| 1072/1072 [01:03<00:00, 16.96it/s]\n"
     ]
    },
    {
     "name": "stdout",
     "output_type": "stream",
     "text": [
      "1134811 spikes extracted in  63.43s; total  362.77s\n",
      "\n",
      "Final clustering\n"
     ]
    },
    {
     "name": "stderr",
     "output_type": "stream",
     "text": [
      "100%|██████████| 16/16 [00:17<00:00,  1.11s/it]\n"
     ]
    },
    {
     "name": "stdout",
     "output_type": "stream",
     "text": [
      "63 clusters found, in  17.72s; total  380.49s\n",
      "\n",
      "Merging clusters\n",
      "60 units found, in  0.31s; total  380.79s\n",
      "\n",
      "Saving to phy and computing refractory periods\n",
      "20 units found with good refractory periods\n",
      "\n",
      "Total runtime: 387.62s = 00:06:28 h:m:s\n"
     ]
    },
    {
     "name": "stderr",
     "output_type": "stream",
     "text": [
      "/home/pc_lab/miniforge3/envs/kilosort_4_0_5/lib/python3.9/site-packages/spikeinterface/core/basesorting.py:239: UserWarning: The registered recording will not be persistent on disk, but only available in memory\n",
      "  warnings.warn(\"The registered recording will not be persistent on disk, but only available in memory\")\n"
     ]
    },
    {
     "name": "stdout",
     "output_type": "stream",
     "text": [
      "Exporting waveforms\n"
     ]
    },
    {
     "data": {
      "application/vnd.jupyter.widget-view+json": {
       "model_id": "5704a93422f248d99ca6b26861a398f6",
       "version_major": 2,
       "version_minor": 0
      },
      "text/plain": [
       "extract waveforms memmap multi buffer:   0%|          | 0/17 [00:00<?, ?it/s]"
      ]
     },
     "metadata": {},
     "output_type": "display_data"
    },
    {
     "name": "stdout",
     "output_type": "stream",
     "text": [
      "we_spike_sorted is sparse: False\n",
      "Saving to phy\n"
     ]
    },
    {
     "data": {
      "application/vnd.jupyter.widget-view+json": {
       "model_id": "69d1a6a8ac9f4e02b9caab0f3a840867",
       "version_major": 2,
       "version_minor": 0
      },
      "text/plain": [
       "write_binary_recording:   0%|          | 0/3214 [00:00<?, ?it/s]"
      ]
     },
     "metadata": {},
     "output_type": "display_data"
    },
    {
     "data": {
      "application/vnd.jupyter.widget-view+json": {
       "model_id": "6c6f377409174b0cb1751a52c0e660e2",
       "version_major": 2,
       "version_minor": 0
      },
      "text/plain": [
       "extract amplitudes:   0%|          | 0/3214 [00:00<?, ?it/s]"
      ]
     },
     "metadata": {},
     "output_type": "display_data"
    },
    {
     "data": {
      "application/vnd.jupyter.widget-view+json": {
       "model_id": "bf576076ac6f417c87c69913ce234f98",
       "version_major": 2,
       "version_minor": 0
      },
      "text/plain": [
       "Fitting PCA:   0%|          | 0/60 [00:00<?, ?it/s]"
      ]
     },
     "metadata": {},
     "output_type": "display_data"
    },
    {
     "data": {
      "application/vnd.jupyter.widget-view+json": {
       "model_id": "bdbcb6ff2c3f491998d5b0a292bdbeb8",
       "version_major": 2,
       "version_minor": 0
      },
      "text/plain": [
       "Projecting waveforms:   0%|          | 0/60 [00:00<?, ?it/s]"
      ]
     },
     "metadata": {},
     "output_type": "display_data"
    },
    {
     "data": {
      "application/vnd.jupyter.widget-view+json": {
       "model_id": "57ccce0af4e34a4b9ba42f7e1c9cdef8",
       "version_major": 2,
       "version_minor": 0
      },
      "text/plain": [
       "extract PCs:   0%|          | 0/3214 [00:00<?, ?it/s]"
      ]
     },
     "metadata": {},
     "output_type": "display_data"
    },
    {
     "name": "stdout",
     "output_type": "stream",
     "text": [
      "Run:\n",
      "phy template-gui  /scratch/back_up/reward_competition_extention/proc/spike_sorting/20240409_142051_comp_novel_subj_3-4_t4b4_merged.rec/phy/params.py\n",
      "/scratch/back_up/reward_competition_extention/data/rce_cohort_3/novel/20240409_142051_comp_novel_subj_3-3_and_3-4_and_4-3_and_4-4.rec/20240409_142051_comp_novel_subj_4-3_t5b5_merged.rec\n",
      "Output directory: /scratch/back_up/reward_competition_extention/proc/spike_sorting/20240409_142051_comp_novel_subj_4-3_t5b5_merged.rec\n",
      "Running bandpass filter\n",
      "Running whitening\n",
      "Spike sorting\n",
      "========================================\n",
      "Loading recording with SpikeInterface...\n",
      "number of samples: 13199260\n",
      "number of channels: 32\n",
      "numbef of segments: 1\n",
      "sampling rate: 20000.0\n",
      "dtype: float32\n",
      "========================================\n",
      "Skipping common average reference.\n",
      "Preprocessing filters computed in  1.02s; total  1.02s\n",
      "Skipping drift correction.\n",
      "\n",
      "computing drift\n",
      "nblocks = 0, skipping drift correction\n",
      "drift computed in  0.00s; total  1.02s\n",
      "\n",
      "Extracting spikes using templates\n",
      "Re-computing universal templates from data.\n"
     ]
    },
    {
     "name": "stderr",
     "output_type": "stream",
     "text": [
      "/home/pc_lab/miniforge3/envs/kilosort_4_0_5/lib/python3.9/site-packages/kilosort/spikedetect.py:235: UserWarning: \n",
      "              NaNs and/or zeroes present in weights for spikedetect.run,\n",
      "              may need to adjust `min_template_size` and/or `dminx` \n",
      "              for best results.\n",
      "\n",
      "              If you're using a probe with multiple shanks, see \n",
      "              https://kilosort.readthedocs.io/en/latest/multi_shank.html\n",
      "              \n",
      "  warnings.warn(msg, UserWarning)\n",
      "100%|██████████| 220/220 [00:55<00:00,  3.97it/s]\n"
     ]
    },
    {
     "name": "stdout",
     "output_type": "stream",
     "text": [
      "260632 spikes extracted in  56.41s; total  57.43s\n",
      "\n",
      "First clustering\n"
     ]
    },
    {
     "name": "stderr",
     "output_type": "stream",
     "text": [
      "100%|██████████| 16/16 [00:05<00:00,  2.88it/s]\n"
     ]
    },
    {
     "name": "stdout",
     "output_type": "stream",
     "text": [
      "76 clusters found, in  5.65s; total  63.08s\n",
      "\n",
      "Extracting spikes using cluster waveforms\n"
     ]
    },
    {
     "name": "stderr",
     "output_type": "stream",
     "text": [
      "100%|██████████| 220/220 [00:13<00:00, 16.90it/s]\n"
     ]
    },
    {
     "name": "stdout",
     "output_type": "stream",
     "text": [
      "246371 spikes extracted in  13.11s; total  76.20s\n",
      "\n",
      "Final clustering\n"
     ]
    },
    {
     "name": "stderr",
     "output_type": "stream",
     "text": [
      "100%|██████████| 16/16 [00:05<00:00,  3.18it/s]\n"
     ]
    },
    {
     "name": "stdout",
     "output_type": "stream",
     "text": [
      "51 clusters found, in  5.04s; total  81.24s\n",
      "\n",
      "Merging clusters\n",
      "50 units found, in  0.11s; total  81.35s\n",
      "\n",
      "Saving to phy and computing refractory periods\n",
      "19 units found with good refractory periods\n",
      "\n",
      "Total runtime: 82.77s = 00:01:23 h:m:s\n"
     ]
    },
    {
     "name": "stderr",
     "output_type": "stream",
     "text": [
      "/home/pc_lab/miniforge3/envs/kilosort_4_0_5/lib/python3.9/site-packages/spikeinterface/core/basesorting.py:239: UserWarning: The registered recording will not be persistent on disk, but only available in memory\n",
      "  warnings.warn(\"The registered recording will not be persistent on disk, but only available in memory\")\n"
     ]
    },
    {
     "name": "stdout",
     "output_type": "stream",
     "text": [
      "Exporting waveforms\n"
     ]
    },
    {
     "data": {
      "application/vnd.jupyter.widget-view+json": {
       "model_id": "686b0bd1e88d490380594ce508e3ca47",
       "version_major": 2,
       "version_minor": 0
      },
      "text/plain": [
       "extract waveforms memmap multi buffer:   0%|          | 0/4 [00:00<?, ?it/s]"
      ]
     },
     "metadata": {},
     "output_type": "display_data"
    },
    {
     "name": "stdout",
     "output_type": "stream",
     "text": [
      "we_spike_sorted is sparse: False\n",
      "Saving to phy\n"
     ]
    },
    {
     "data": {
      "application/vnd.jupyter.widget-view+json": {
       "model_id": "3fed3410b161438a9f0b7ff395f1b9be",
       "version_major": 2,
       "version_minor": 0
      },
      "text/plain": [
       "write_binary_recording:   0%|          | 0/660 [00:00<?, ?it/s]"
      ]
     },
     "metadata": {},
     "output_type": "display_data"
    },
    {
     "data": {
      "application/vnd.jupyter.widget-view+json": {
       "model_id": "7c1b2bdb969a47228110130c875eea2f",
       "version_major": 2,
       "version_minor": 0
      },
      "text/plain": [
       "extract amplitudes:   0%|          | 0/660 [00:00<?, ?it/s]"
      ]
     },
     "metadata": {},
     "output_type": "display_data"
    },
    {
     "data": {
      "application/vnd.jupyter.widget-view+json": {
       "model_id": "aeec799b9a5544649eb1963dff9d5893",
       "version_major": 2,
       "version_minor": 0
      },
      "text/plain": [
       "Fitting PCA:   0%|          | 0/50 [00:00<?, ?it/s]"
      ]
     },
     "metadata": {},
     "output_type": "display_data"
    },
    {
     "data": {
      "application/vnd.jupyter.widget-view+json": {
       "model_id": "1cd4d5bc31e8410aaf2e3b016b892842",
       "version_major": 2,
       "version_minor": 0
      },
      "text/plain": [
       "Projecting waveforms:   0%|          | 0/50 [00:00<?, ?it/s]"
      ]
     },
     "metadata": {},
     "output_type": "display_data"
    },
    {
     "data": {
      "application/vnd.jupyter.widget-view+json": {
       "model_id": "69166ef30ce74d2fb906bf6aba60f3d9",
       "version_major": 2,
       "version_minor": 0
      },
      "text/plain": [
       "extract PCs:   0%|          | 0/660 [00:00<?, ?it/s]"
      ]
     },
     "metadata": {},
     "output_type": "display_data"
    },
    {
     "name": "stdout",
     "output_type": "stream",
     "text": [
      "Run:\n",
      "phy template-gui  /scratch/back_up/reward_competition_extention/proc/spike_sorting/20240409_142051_comp_novel_subj_4-3_t5b5_merged.rec/phy/params.py\n",
      "/scratch/back_up/reward_competition_extention/data/rce_cohort_3/novel/20240409_142051_comp_novel_subj_3-3_and_3-4_and_4-3_and_4-4.rec/20240409_142051_comp_novel_subj_3-3_t3b3_merged.rec\n",
      "Output directory: /scratch/back_up/reward_competition_extention/proc/spike_sorting/20240409_142051_comp_novel_subj_3-3_t3b3_merged.rec\n",
      "Running bandpass filter\n",
      "Running whitening\n",
      "Spike sorting\n",
      "========================================\n",
      "Loading recording with SpikeInterface...\n",
      "number of samples: 64263612\n",
      "number of channels: 32\n",
      "numbef of segments: 1\n",
      "sampling rate: 20000.0\n",
      "dtype: float32\n",
      "========================================\n",
      "Skipping common average reference.\n",
      "Preprocessing filters computed in  4.94s; total  4.94s\n",
      "Skipping drift correction.\n",
      "\n",
      "computing drift\n",
      "nblocks = 0, skipping drift correction\n",
      "drift computed in  0.00s; total  4.94s\n",
      "\n",
      "Extracting spikes using templates\n",
      "Re-computing universal templates from data.\n"
     ]
    },
    {
     "name": "stderr",
     "output_type": "stream",
     "text": [
      "/home/pc_lab/miniforge3/envs/kilosort_4_0_5/lib/python3.9/site-packages/kilosort/spikedetect.py:235: UserWarning: \n",
      "              NaNs and/or zeroes present in weights for spikedetect.run,\n",
      "              may need to adjust `min_template_size` and/or `dminx` \n",
      "              for best results.\n",
      "\n",
      "              If you're using a probe with multiple shanks, see \n",
      "              https://kilosort.readthedocs.io/en/latest/multi_shank.html\n",
      "              \n",
      "  warnings.warn(msg, UserWarning)\n",
      "100%|██████████| 1072/1072 [04:32<00:00,  3.93it/s]\n"
     ]
    },
    {
     "name": "stdout",
     "output_type": "stream",
     "text": [
      "1029516 spikes extracted in  275.39s; total  280.33s\n",
      "\n",
      "First clustering\n"
     ]
    },
    {
     "name": "stderr",
     "output_type": "stream",
     "text": [
      "100%|██████████| 16/16 [00:15<00:00,  1.01it/s]\n",
      "/home/pc_lab/miniforge3/envs/kilosort_4_0_5/lib/python3.9/site-packages/kilosort/template_matching.py:71: UserWarning: Plan failed with a cudnnException: CUDNN_BACKEND_EXECUTION_PLAN_DESCRIPTOR: cudnnFinalize Descriptor Failed cudnn_status: CUDNN_STATUS_NOT_SUPPORTED (Triggered internally at /opt/conda/conda-bld/pytorch_1712608885084/work/aten/src/ATen/native/cudnn/Conv_v8.cpp:919.)\n",
      "  X = conv1d(X.unsqueeze(1), ops['wTEMP'].unsqueeze(1), padding=ops['nt']//2)\n"
     ]
    },
    {
     "name": "stdout",
     "output_type": "stream",
     "text": [
      "103 clusters found, in  16.01s; total  296.34s\n",
      "\n",
      "Extracting spikes using cluster waveforms\n"
     ]
    },
    {
     "name": "stderr",
     "output_type": "stream",
     "text": [
      "100%|██████████| 1072/1072 [01:05<00:00, 16.45it/s]\n"
     ]
    },
    {
     "name": "stdout",
     "output_type": "stream",
     "text": [
      "1058964 spikes extracted in  65.37s; total  361.72s\n",
      "\n",
      "Final clustering\n"
     ]
    },
    {
     "name": "stderr",
     "output_type": "stream",
     "text": [
      "100%|██████████| 16/16 [00:15<00:00,  1.04it/s]\n"
     ]
    },
    {
     "name": "stdout",
     "output_type": "stream",
     "text": [
      "53 clusters found, in  15.33s; total  377.05s\n",
      "\n",
      "Merging clusters\n",
      "51 units found, in  0.24s; total  377.29s\n",
      "\n",
      "Saving to phy and computing refractory periods\n",
      "18 units found with good refractory periods\n",
      "\n",
      "Total runtime: 383.42s = 00:06:23 h:m:s\n"
     ]
    },
    {
     "name": "stderr",
     "output_type": "stream",
     "text": [
      "/home/pc_lab/miniforge3/envs/kilosort_4_0_5/lib/python3.9/site-packages/spikeinterface/core/basesorting.py:239: UserWarning: The registered recording will not be persistent on disk, but only available in memory\n",
      "  warnings.warn(\"The registered recording will not be persistent on disk, but only available in memory\")\n"
     ]
    },
    {
     "name": "stdout",
     "output_type": "stream",
     "text": [
      "Exporting waveforms\n"
     ]
    },
    {
     "data": {
      "application/vnd.jupyter.widget-view+json": {
       "model_id": "be5d3ba4639846d9a2df633cb7ec3be6",
       "version_major": 2,
       "version_minor": 0
      },
      "text/plain": [
       "extract waveforms memmap multi buffer:   0%|          | 0/17 [00:00<?, ?it/s]"
      ]
     },
     "metadata": {},
     "output_type": "display_data"
    },
    {
     "name": "stdout",
     "output_type": "stream",
     "text": [
      "we_spike_sorted is sparse: False\n",
      "Saving to phy\n"
     ]
    },
    {
     "data": {
      "application/vnd.jupyter.widget-view+json": {
       "model_id": "3ac7e398562343439f39a7b6ee54d5ef",
       "version_major": 2,
       "version_minor": 0
      },
      "text/plain": [
       "write_binary_recording:   0%|          | 0/3214 [00:00<?, ?it/s]"
      ]
     },
     "metadata": {},
     "output_type": "display_data"
    },
    {
     "data": {
      "application/vnd.jupyter.widget-view+json": {
       "model_id": "46ea29a5a2be4752b7e120c5d440d8f5",
       "version_major": 2,
       "version_minor": 0
      },
      "text/plain": [
       "extract amplitudes:   0%|          | 0/3214 [00:00<?, ?it/s]"
      ]
     },
     "metadata": {},
     "output_type": "display_data"
    },
    {
     "data": {
      "application/vnd.jupyter.widget-view+json": {
       "model_id": "1a68cd0558ab45488b4ad9d9fc254923",
       "version_major": 2,
       "version_minor": 0
      },
      "text/plain": [
       "Fitting PCA:   0%|          | 0/51 [00:00<?, ?it/s]"
      ]
     },
     "metadata": {},
     "output_type": "display_data"
    },
    {
     "data": {
      "application/vnd.jupyter.widget-view+json": {
       "model_id": "748b1aa39ef94bfc9359cdb0d523fe0d",
       "version_major": 2,
       "version_minor": 0
      },
      "text/plain": [
       "Projecting waveforms:   0%|          | 0/51 [00:00<?, ?it/s]"
      ]
     },
     "metadata": {},
     "output_type": "display_data"
    },
    {
     "data": {
      "application/vnd.jupyter.widget-view+json": {
       "model_id": "cf4fd7478e224621ba2076d420c144dc",
       "version_major": 2,
       "version_minor": 0
      },
      "text/plain": [
       "extract PCs:   0%|          | 0/3214 [00:00<?, ?it/s]"
      ]
     },
     "metadata": {},
     "output_type": "display_data"
    },
    {
     "name": "stdout",
     "output_type": "stream",
     "text": [
      "Run:\n",
      "phy template-gui  /scratch/back_up/reward_competition_extention/proc/spike_sorting/20240409_142051_comp_novel_subj_3-3_t3b3_merged.rec/phy/params.py\n",
      "/scratch/back_up/reward_competition_extention/data/rce_cohort_3/alone_comp/20240323_144517_alone_comp_subj_3-1_and_3-4.rec/20240323_144517_alone_comp_subj_3-1_t5b5_merged.rec\n",
      "Output directory: /scratch/back_up/reward_competition_extention/proc/spike_sorting/20240323_144517_alone_comp_subj_3-1_t5b5_merged.rec\n",
      "Running bandpass filter\n",
      "Running whitening\n",
      "Spike sorting\n",
      "========================================\n",
      "Loading recording with SpikeInterface...\n",
      "number of samples: 64619700\n",
      "number of channels: 32\n",
      "numbef of segments: 1\n",
      "sampling rate: 20000.0\n",
      "dtype: float32\n",
      "========================================\n",
      "Skipping common average reference.\n",
      "Preprocessing filters computed in  4.59s; total  4.59s\n",
      "Skipping drift correction.\n",
      "\n",
      "computing drift\n",
      "nblocks = 0, skipping drift correction\n",
      "drift computed in  0.00s; total  4.59s\n",
      "\n",
      "Extracting spikes using templates\n",
      "Re-computing universal templates from data.\n"
     ]
    },
    {
     "name": "stderr",
     "output_type": "stream",
     "text": [
      "/home/pc_lab/miniforge3/envs/kilosort_4_0_5/lib/python3.9/site-packages/kilosort/spikedetect.py:235: UserWarning: \n",
      "              NaNs and/or zeroes present in weights for spikedetect.run,\n",
      "              may need to adjust `min_template_size` and/or `dminx` \n",
      "              for best results.\n",
      "\n",
      "              If you're using a probe with multiple shanks, see \n",
      "              https://kilosort.readthedocs.io/en/latest/multi_shank.html\n",
      "              \n",
      "  warnings.warn(msg, UserWarning)\n",
      "100%|██████████| 1077/1077 [04:24<00:00,  4.07it/s]\n"
     ]
    },
    {
     "name": "stdout",
     "output_type": "stream",
     "text": [
      "1234908 spikes extracted in  267.17s; total  271.75s\n",
      "\n",
      "First clustering\n"
     ]
    },
    {
     "name": "stderr",
     "output_type": "stream",
     "text": [
      "100%|██████████| 16/16 [00:19<00:00,  1.20s/it]\n"
     ]
    },
    {
     "name": "stdout",
     "output_type": "stream",
     "text": [
      "112 clusters found, in  19.32s; total  291.08s\n",
      "\n",
      "Extracting spikes using cluster waveforms\n"
     ]
    },
    {
     "name": "stderr",
     "output_type": "stream",
     "text": [
      "100%|██████████| 1077/1077 [01:01<00:00, 17.40it/s]\n"
     ]
    },
    {
     "name": "stdout",
     "output_type": "stream",
     "text": [
      "1512852 spikes extracted in  62.15s; total  353.23s\n",
      "\n",
      "Final clustering\n"
     ]
    },
    {
     "name": "stderr",
     "output_type": "stream",
     "text": [
      "100%|██████████| 16/16 [00:22<00:00,  1.38s/it]\n"
     ]
    },
    {
     "name": "stdout",
     "output_type": "stream",
     "text": [
      "39 clusters found, in  22.07s; total  375.30s\n",
      "\n",
      "Merging clusters\n",
      "39 units found, in  0.42s; total  375.71s\n",
      "\n",
      "Saving to phy and computing refractory periods\n",
      "21 units found with good refractory periods\n",
      "\n",
      "Total runtime: 383.97s = 00:06:24 h:m:s\n"
     ]
    },
    {
     "name": "stderr",
     "output_type": "stream",
     "text": [
      "/home/pc_lab/miniforge3/envs/kilosort_4_0_5/lib/python3.9/site-packages/spikeinterface/core/basesorting.py:239: UserWarning: The registered recording will not be persistent on disk, but only available in memory\n",
      "  warnings.warn(\"The registered recording will not be persistent on disk, but only available in memory\")\n"
     ]
    },
    {
     "name": "stdout",
     "output_type": "stream",
     "text": [
      "Exporting waveforms\n"
     ]
    },
    {
     "data": {
      "application/vnd.jupyter.widget-view+json": {
       "model_id": "3fc957e0cc034a109f1cefbda6c03be6",
       "version_major": 2,
       "version_minor": 0
      },
      "text/plain": [
       "extract waveforms memmap multi buffer:   0%|          | 0/17 [00:00<?, ?it/s]"
      ]
     },
     "metadata": {},
     "output_type": "display_data"
    },
    {
     "name": "stdout",
     "output_type": "stream",
     "text": [
      "we_spike_sorted is sparse: False\n",
      "Saving to phy\n"
     ]
    },
    {
     "data": {
      "application/vnd.jupyter.widget-view+json": {
       "model_id": "5db9ffbb3a844f89accce21df7a6e59d",
       "version_major": 2,
       "version_minor": 0
      },
      "text/plain": [
       "write_binary_recording:   0%|          | 0/3231 [00:00<?, ?it/s]"
      ]
     },
     "metadata": {},
     "output_type": "display_data"
    },
    {
     "data": {
      "application/vnd.jupyter.widget-view+json": {
       "model_id": "37fbc2f1be9b4aea9925c31aafae6776",
       "version_major": 2,
       "version_minor": 0
      },
      "text/plain": [
       "extract amplitudes:   0%|          | 0/3231 [00:00<?, ?it/s]"
      ]
     },
     "metadata": {},
     "output_type": "display_data"
    },
    {
     "data": {
      "application/vnd.jupyter.widget-view+json": {
       "model_id": "6207c3e3cea84f5fa98bba706466f50c",
       "version_major": 2,
       "version_minor": 0
      },
      "text/plain": [
       "Fitting PCA:   0%|          | 0/39 [00:00<?, ?it/s]"
      ]
     },
     "metadata": {},
     "output_type": "display_data"
    },
    {
     "data": {
      "application/vnd.jupyter.widget-view+json": {
       "model_id": "b98dbde7f3124236862772939c4fcbf2",
       "version_major": 2,
       "version_minor": 0
      },
      "text/plain": [
       "Projecting waveforms:   0%|          | 0/39 [00:00<?, ?it/s]"
      ]
     },
     "metadata": {},
     "output_type": "display_data"
    },
    {
     "data": {
      "application/vnd.jupyter.widget-view+json": {
       "model_id": "8a967913370c414698ef63ed7824ada9",
       "version_major": 2,
       "version_minor": 0
      },
      "text/plain": [
       "extract PCs:   0%|          | 0/3231 [00:00<?, ?it/s]"
      ]
     },
     "metadata": {},
     "output_type": "display_data"
    },
    {
     "name": "stdout",
     "output_type": "stream",
     "text": [
      "Run:\n",
      "phy template-gui  /scratch/back_up/reward_competition_extention/proc/spike_sorting/20240323_144517_alone_comp_subj_3-1_t5b5_merged.rec/phy/params.py\n",
      "/scratch/back_up/reward_competition_extention/data/rce_cohort_3/alone_comp/20240323_144517_alone_comp_subj_3-1_and_3-4.rec/20240323_144517_alone_comp_subj_3-4_t6b6_merged.rec\n",
      "Output directory: /scratch/back_up/reward_competition_extention/proc/spike_sorting/20240323_144517_alone_comp_subj_3-4_t6b6_merged.rec\n",
      "Running bandpass filter\n",
      "Running whitening\n",
      "Spike sorting\n",
      "========================================\n",
      "Loading recording with SpikeInterface...\n",
      "number of samples: 64619817\n",
      "number of channels: 32\n",
      "numbef of segments: 1\n",
      "sampling rate: 20000.0\n",
      "dtype: float32\n",
      "========================================\n",
      "Skipping common average reference.\n",
      "Preprocessing filters computed in  4.49s; total  4.49s\n",
      "Skipping drift correction.\n",
      "\n",
      "computing drift\n",
      "nblocks = 0, skipping drift correction\n",
      "drift computed in  0.00s; total  4.50s\n",
      "\n",
      "Extracting spikes using templates\n",
      "Re-computing universal templates from data.\n"
     ]
    },
    {
     "name": "stderr",
     "output_type": "stream",
     "text": [
      "/home/pc_lab/miniforge3/envs/kilosort_4_0_5/lib/python3.9/site-packages/kilosort/spikedetect.py:235: UserWarning: \n",
      "              NaNs and/or zeroes present in weights for spikedetect.run,\n",
      "              may need to adjust `min_template_size` and/or `dminx` \n",
      "              for best results.\n",
      "\n",
      "              If you're using a probe with multiple shanks, see \n",
      "              https://kilosort.readthedocs.io/en/latest/multi_shank.html\n",
      "              \n",
      "  warnings.warn(msg, UserWarning)\n",
      "100%|██████████| 1077/1077 [04:22<00:00,  4.10it/s]\n"
     ]
    },
    {
     "name": "stdout",
     "output_type": "stream",
     "text": [
      "803615 spikes extracted in  265.28s; total  269.77s\n",
      "\n",
      "First clustering\n"
     ]
    },
    {
     "name": "stderr",
     "output_type": "stream",
     "text": [
      "100%|██████████| 16/16 [00:14<00:00,  1.12it/s]\n"
     ]
    },
    {
     "name": "stdout",
     "output_type": "stream",
     "text": [
      "97 clusters found, in  14.36s; total  284.14s\n",
      "\n",
      "Extracting spikes using cluster waveforms\n"
     ]
    },
    {
     "name": "stderr",
     "output_type": "stream",
     "text": [
      "100%|██████████| 1077/1077 [00:58<00:00, 18.45it/s]\n"
     ]
    },
    {
     "name": "stdout",
     "output_type": "stream",
     "text": [
      "818268 spikes extracted in  58.55s; total  342.69s\n",
      "\n",
      "Final clustering\n"
     ]
    },
    {
     "name": "stderr",
     "output_type": "stream",
     "text": [
      "100%|██████████| 16/16 [00:14<00:00,  1.14it/s]\n"
     ]
    },
    {
     "name": "stdout",
     "output_type": "stream",
     "text": [
      "38 clusters found, in  14.04s; total  356.73s\n",
      "\n",
      "Merging clusters\n",
      "38 units found, in  0.19s; total  356.92s\n",
      "\n",
      "Saving to phy and computing refractory periods\n",
      "14 units found with good refractory periods\n",
      "\n",
      "Total runtime: 361.68s = 00:06:2 h:m:s\n"
     ]
    },
    {
     "name": "stderr",
     "output_type": "stream",
     "text": [
      "/home/pc_lab/miniforge3/envs/kilosort_4_0_5/lib/python3.9/site-packages/spikeinterface/core/basesorting.py:239: UserWarning: The registered recording will not be persistent on disk, but only available in memory\n",
      "  warnings.warn(\"The registered recording will not be persistent on disk, but only available in memory\")\n"
     ]
    },
    {
     "name": "stdout",
     "output_type": "stream",
     "text": [
      "Exporting waveforms\n"
     ]
    },
    {
     "data": {
      "application/vnd.jupyter.widget-view+json": {
       "model_id": "a10bad62b8b84393afc9063bcf188b07",
       "version_major": 2,
       "version_minor": 0
      },
      "text/plain": [
       "extract waveforms memmap multi buffer:   0%|          | 0/17 [00:00<?, ?it/s]"
      ]
     },
     "metadata": {},
     "output_type": "display_data"
    },
    {
     "name": "stdout",
     "output_type": "stream",
     "text": [
      "we_spike_sorted is sparse: False\n",
      "Saving to phy\n"
     ]
    },
    {
     "data": {
      "application/vnd.jupyter.widget-view+json": {
       "model_id": "f8543cd6f49944cebff166b3b3c382ff",
       "version_major": 2,
       "version_minor": 0
      },
      "text/plain": [
       "write_binary_recording:   0%|          | 0/3231 [00:00<?, ?it/s]"
      ]
     },
     "metadata": {},
     "output_type": "display_data"
    },
    {
     "data": {
      "application/vnd.jupyter.widget-view+json": {
       "model_id": "dae1a075806c4381ab91c366e9be5ecb",
       "version_major": 2,
       "version_minor": 0
      },
      "text/plain": [
       "extract amplitudes:   0%|          | 0/3231 [00:00<?, ?it/s]"
      ]
     },
     "metadata": {},
     "output_type": "display_data"
    },
    {
     "data": {
      "application/vnd.jupyter.widget-view+json": {
       "model_id": "838378f4651642e09bfc19f1d813b54d",
       "version_major": 2,
       "version_minor": 0
      },
      "text/plain": [
       "Fitting PCA:   0%|          | 0/38 [00:00<?, ?it/s]"
      ]
     },
     "metadata": {},
     "output_type": "display_data"
    },
    {
     "data": {
      "application/vnd.jupyter.widget-view+json": {
       "model_id": "f096b2ed2dc0475199667543346bafb9",
       "version_major": 2,
       "version_minor": 0
      },
      "text/plain": [
       "Projecting waveforms:   0%|          | 0/38 [00:00<?, ?it/s]"
      ]
     },
     "metadata": {},
     "output_type": "display_data"
    },
    {
     "data": {
      "application/vnd.jupyter.widget-view+json": {
       "model_id": "f5a685a0e8fe4f5cb3110116bc3dec3c",
       "version_major": 2,
       "version_minor": 0
      },
      "text/plain": [
       "extract PCs:   0%|          | 0/3231 [00:00<?, ?it/s]"
      ]
     },
     "metadata": {},
     "output_type": "display_data"
    },
    {
     "name": "stdout",
     "output_type": "stream",
     "text": [
      "Run:\n",
      "phy template-gui  /scratch/back_up/reward_competition_extention/proc/spike_sorting/20240323_144517_alone_comp_subj_3-4_t6b6_merged.rec/phy/params.py\n",
      "/scratch/back_up/reward_competition_extention/data/rce_cohort_3/alone_comp/20240323_122227_alone_comp_subj_5-2_and_5-3.rec/20240323_122227_alone_comp_subj_5-2_t6b6_merged.rec\n",
      "Output directory: /scratch/back_up/reward_competition_extention/proc/spike_sorting/20240323_122227_alone_comp_subj_5-2_t6b6_merged.rec\n",
      "Running bandpass filter\n",
      "Running whitening\n",
      "Spike sorting\n",
      "========================================\n",
      "Loading recording with SpikeInterface...\n",
      "number of samples: 63572098\n",
      "number of channels: 32\n",
      "numbef of segments: 1\n",
      "sampling rate: 20000.0\n",
      "dtype: float32\n",
      "========================================\n",
      "Skipping common average reference.\n",
      "Preprocessing filters computed in  4.50s; total  4.50s\n",
      "Skipping drift correction.\n",
      "\n",
      "computing drift\n",
      "nblocks = 0, skipping drift correction\n",
      "drift computed in  0.00s; total  4.51s\n",
      "\n",
      "Extracting spikes using templates\n",
      "Re-computing universal templates from data.\n"
     ]
    },
    {
     "name": "stderr",
     "output_type": "stream",
     "text": [
      "/home/pc_lab/miniforge3/envs/kilosort_4_0_5/lib/python3.9/site-packages/kilosort/spikedetect.py:235: UserWarning: \n",
      "              NaNs and/or zeroes present in weights for spikedetect.run,\n",
      "              may need to adjust `min_template_size` and/or `dminx` \n",
      "              for best results.\n",
      "\n",
      "              If you're using a probe with multiple shanks, see \n",
      "              https://kilosort.readthedocs.io/en/latest/multi_shank.html\n",
      "              \n",
      "  warnings.warn(msg, UserWarning)\n",
      "100%|██████████| 1060/1060 [04:21<00:00,  4.05it/s]\n"
     ]
    },
    {
     "name": "stdout",
     "output_type": "stream",
     "text": [
      "1052677 spikes extracted in  264.47s; total  268.97s\n",
      "\n",
      "First clustering\n"
     ]
    },
    {
     "name": "stderr",
     "output_type": "stream",
     "text": [
      "100%|██████████| 16/16 [00:16<00:00,  1.01s/it]\n"
     ]
    },
    {
     "name": "stdout",
     "output_type": "stream",
     "text": [
      "50 clusters found, in  16.26s; total  285.23s\n",
      "\n",
      "Extracting spikes using cluster waveforms\n"
     ]
    },
    {
     "name": "stderr",
     "output_type": "stream",
     "text": [
      "100%|██████████| 1060/1060 [01:00<00:00, 17.38it/s]\n"
     ]
    },
    {
     "name": "stdout",
     "output_type": "stream",
     "text": [
      "881507 spikes extracted in  61.15s; total  346.38s\n",
      "\n",
      "Final clustering\n"
     ]
    },
    {
     "name": "stderr",
     "output_type": "stream",
     "text": [
      "100%|██████████| 16/16 [00:11<00:00,  1.37it/s]\n"
     ]
    },
    {
     "name": "stdout",
     "output_type": "stream",
     "text": [
      "40 clusters found, in  11.69s; total  358.07s\n",
      "\n",
      "Merging clusters\n",
      "40 units found, in  0.22s; total  358.29s\n",
      "\n",
      "Saving to phy and computing refractory periods\n",
      "10 units found with good refractory periods\n",
      "\n",
      "Total runtime: 363.25s = 00:06:3 h:m:s\n"
     ]
    },
    {
     "name": "stderr",
     "output_type": "stream",
     "text": [
      "/home/pc_lab/miniforge3/envs/kilosort_4_0_5/lib/python3.9/site-packages/spikeinterface/core/basesorting.py:239: UserWarning: The registered recording will not be persistent on disk, but only available in memory\n",
      "  warnings.warn(\"The registered recording will not be persistent on disk, but only available in memory\")\n"
     ]
    },
    {
     "name": "stdout",
     "output_type": "stream",
     "text": [
      "Exporting waveforms\n"
     ]
    },
    {
     "data": {
      "application/vnd.jupyter.widget-view+json": {
       "model_id": "c0b006a57e6a48bc8394890b061feade",
       "version_major": 2,
       "version_minor": 0
      },
      "text/plain": [
       "extract waveforms memmap multi buffer:   0%|          | 0/17 [00:00<?, ?it/s]"
      ]
     },
     "metadata": {},
     "output_type": "display_data"
    },
    {
     "name": "stdout",
     "output_type": "stream",
     "text": [
      "we_spike_sorted is sparse: False\n",
      "Saving to phy\n"
     ]
    },
    {
     "data": {
      "application/vnd.jupyter.widget-view+json": {
       "model_id": "d4092c29d23b4c4588d41870acbaa975",
       "version_major": 2,
       "version_minor": 0
      },
      "text/plain": [
       "write_binary_recording:   0%|          | 0/3179 [00:00<?, ?it/s]"
      ]
     },
     "metadata": {},
     "output_type": "display_data"
    },
    {
     "data": {
      "application/vnd.jupyter.widget-view+json": {
       "model_id": "f3984373277248a88ab0b144a629fd98",
       "version_major": 2,
       "version_minor": 0
      },
      "text/plain": [
       "extract amplitudes:   0%|          | 0/3179 [00:00<?, ?it/s]"
      ]
     },
     "metadata": {},
     "output_type": "display_data"
    },
    {
     "data": {
      "application/vnd.jupyter.widget-view+json": {
       "model_id": "6d1a6b00fed5439fb8cbb92cafad73ef",
       "version_major": 2,
       "version_minor": 0
      },
      "text/plain": [
       "Fitting PCA:   0%|          | 0/40 [00:00<?, ?it/s]"
      ]
     },
     "metadata": {},
     "output_type": "display_data"
    },
    {
     "data": {
      "application/vnd.jupyter.widget-view+json": {
       "model_id": "d95155e0ae8b40219f89fa0bf6e44e91",
       "version_major": 2,
       "version_minor": 0
      },
      "text/plain": [
       "Projecting waveforms:   0%|          | 0/40 [00:00<?, ?it/s]"
      ]
     },
     "metadata": {},
     "output_type": "display_data"
    },
    {
     "data": {
      "application/vnd.jupyter.widget-view+json": {
       "model_id": "fa3ae76d7bbf4296ac4e945ab65c95be",
       "version_major": 2,
       "version_minor": 0
      },
      "text/plain": [
       "extract PCs:   0%|          | 0/3179 [00:00<?, ?it/s]"
      ]
     },
     "metadata": {},
     "output_type": "display_data"
    },
    {
     "name": "stdout",
     "output_type": "stream",
     "text": [
      "Run:\n",
      "phy template-gui  /scratch/back_up/reward_competition_extention/proc/spike_sorting/20240323_122227_alone_comp_subj_5-2_t6b6_merged.rec/phy/params.py\n",
      "/scratch/back_up/reward_competition_extention/data/rce_cohort_3/alone_comp/20240323_122227_alone_comp_subj_5-2_and_5-3.rec/20240323_122227_alone_comp_subj_5-3_t5b5_merged.rec\n",
      "Output directory: /scratch/back_up/reward_competition_extention/proc/spike_sorting/20240323_122227_alone_comp_subj_5-3_t5b5_merged.rec\n",
      "Running bandpass filter\n",
      "Running whitening\n",
      "Spike sorting\n",
      "========================================\n",
      "Loading recording with SpikeInterface...\n",
      "number of samples: 63571994\n",
      "number of channels: 32\n",
      "numbef of segments: 1\n",
      "sampling rate: 20000.0\n",
      "dtype: float32\n",
      "========================================\n",
      "Skipping common average reference.\n",
      "Preprocessing filters computed in  4.41s; total  4.41s\n",
      "Skipping drift correction.\n",
      "\n",
      "computing drift\n",
      "nblocks = 0, skipping drift correction\n",
      "drift computed in  0.00s; total  4.42s\n",
      "\n",
      "Extracting spikes using templates\n",
      "Re-computing universal templates from data.\n"
     ]
    },
    {
     "name": "stderr",
     "output_type": "stream",
     "text": [
      "/home/pc_lab/miniforge3/envs/kilosort_4_0_5/lib/python3.9/site-packages/kilosort/spikedetect.py:235: UserWarning: \n",
      "              NaNs and/or zeroes present in weights for spikedetect.run,\n",
      "              may need to adjust `min_template_size` and/or `dminx` \n",
      "              for best results.\n",
      "\n",
      "              If you're using a probe with multiple shanks, see \n",
      "              https://kilosort.readthedocs.io/en/latest/multi_shank.html\n",
      "              \n",
      "  warnings.warn(msg, UserWarning)\n",
      "100%|██████████| 1060/1060 [04:22<00:00,  4.03it/s]\n"
     ]
    },
    {
     "name": "stdout",
     "output_type": "stream",
     "text": [
      "670065 spikes extracted in  265.36s; total  269.78s\n",
      "\n",
      "First clustering\n"
     ]
    },
    {
     "name": "stderr",
     "output_type": "stream",
     "text": [
      "100%|██████████| 16/16 [00:10<00:00,  1.50it/s]\n"
     ]
    },
    {
     "name": "stdout",
     "output_type": "stream",
     "text": [
      "114 clusters found, in  10.79s; total  280.56s\n",
      "\n",
      "Extracting spikes using cluster waveforms\n"
     ]
    },
    {
     "name": "stderr",
     "output_type": "stream",
     "text": [
      "100%|██████████| 1060/1060 [01:07<00:00, 15.61it/s]\n"
     ]
    },
    {
     "name": "stdout",
     "output_type": "stream",
     "text": [
      "868384 spikes extracted in  68.08s; total  348.64s\n",
      "\n",
      "Final clustering\n"
     ]
    },
    {
     "name": "stderr",
     "output_type": "stream",
     "text": [
      "100%|██████████| 16/16 [00:12<00:00,  1.29it/s]\n"
     ]
    },
    {
     "name": "stdout",
     "output_type": "stream",
     "text": [
      "65 clusters found, in  12.44s; total  361.08s\n",
      "\n",
      "Merging clusters\n",
      "65 units found, in  0.35s; total  361.43s\n",
      "\n",
      "Saving to phy and computing refractory periods\n",
      "11 units found with good refractory periods\n",
      "\n",
      "Total runtime: 366.13s = 00:06:6 h:m:s\n"
     ]
    },
    {
     "name": "stderr",
     "output_type": "stream",
     "text": [
      "/home/pc_lab/miniforge3/envs/kilosort_4_0_5/lib/python3.9/site-packages/spikeinterface/core/basesorting.py:239: UserWarning: The registered recording will not be persistent on disk, but only available in memory\n",
      "  warnings.warn(\"The registered recording will not be persistent on disk, but only available in memory\")\n"
     ]
    },
    {
     "name": "stdout",
     "output_type": "stream",
     "text": [
      "Exporting waveforms\n"
     ]
    },
    {
     "data": {
      "application/vnd.jupyter.widget-view+json": {
       "model_id": "74178accd5374fc29ba104ad1399cdd1",
       "version_major": 2,
       "version_minor": 0
      },
      "text/plain": [
       "extract waveforms memmap multi buffer:   0%|          | 0/17 [00:00<?, ?it/s]"
      ]
     },
     "metadata": {},
     "output_type": "display_data"
    },
    {
     "name": "stdout",
     "output_type": "stream",
     "text": [
      "we_spike_sorted is sparse: False\n",
      "Saving to phy\n"
     ]
    },
    {
     "data": {
      "application/vnd.jupyter.widget-view+json": {
       "model_id": "997dd65a3b3b42b2bf07e28351a893a3",
       "version_major": 2,
       "version_minor": 0
      },
      "text/plain": [
       "write_binary_recording:   0%|          | 0/3179 [00:00<?, ?it/s]"
      ]
     },
     "metadata": {},
     "output_type": "display_data"
    },
    {
     "data": {
      "application/vnd.jupyter.widget-view+json": {
       "model_id": "2524367c49964c03bea018bf62479902",
       "version_major": 2,
       "version_minor": 0
      },
      "text/plain": [
       "extract amplitudes:   0%|          | 0/3179 [00:00<?, ?it/s]"
      ]
     },
     "metadata": {},
     "output_type": "display_data"
    },
    {
     "data": {
      "application/vnd.jupyter.widget-view+json": {
       "model_id": "8884ae73cc3846ecbb4ac3b69a068bd8",
       "version_major": 2,
       "version_minor": 0
      },
      "text/plain": [
       "Fitting PCA:   0%|          | 0/65 [00:00<?, ?it/s]"
      ]
     },
     "metadata": {},
     "output_type": "display_data"
    },
    {
     "data": {
      "application/vnd.jupyter.widget-view+json": {
       "model_id": "e067df25aa504d1991a582df38d9f10a",
       "version_major": 2,
       "version_minor": 0
      },
      "text/plain": [
       "Projecting waveforms:   0%|          | 0/65 [00:00<?, ?it/s]"
      ]
     },
     "metadata": {},
     "output_type": "display_data"
    },
    {
     "data": {
      "application/vnd.jupyter.widget-view+json": {
       "model_id": "2995de9c564d4f9c9c0150516fce6f55",
       "version_major": 2,
       "version_minor": 0
      },
      "text/plain": [
       "extract PCs:   0%|          | 0/3179 [00:00<?, ?it/s]"
      ]
     },
     "metadata": {},
     "output_type": "display_data"
    },
    {
     "name": "stdout",
     "output_type": "stream",
     "text": [
      "Run:\n",
      "phy template-gui  /scratch/back_up/reward_competition_extention/proc/spike_sorting/20240323_122227_alone_comp_subj_5-3_t5b5_merged.rec/phy/params.py\n",
      "/scratch/back_up/reward_competition_extention/data/rce_cohort_3/alone_comp/20240320_142408_alone_comp_subj_3-1_and_3-3.rec/20240320_142408_alone_comp_subj_3-3_t5b5_merged.rec\n",
      "Output directory: /scratch/back_up/reward_competition_extention/proc/spike_sorting/20240320_142408_alone_comp_subj_3-3_t5b5_merged.rec\n",
      "Running bandpass filter\n",
      "Running whitening\n",
      "Spike sorting\n",
      "========================================\n",
      "Loading recording with SpikeInterface...\n",
      "number of samples: 63594176\n",
      "number of channels: 32\n",
      "numbef of segments: 1\n",
      "sampling rate: 20000.0\n",
      "dtype: float32\n",
      "========================================\n",
      "Skipping common average reference.\n",
      "Preprocessing filters computed in  4.18s; total  4.18s\n",
      "Skipping drift correction.\n",
      "\n",
      "computing drift\n",
      "nblocks = 0, skipping drift correction\n",
      "drift computed in  0.00s; total  4.18s\n",
      "\n",
      "Extracting spikes using templates\n",
      "Re-computing universal templates from data.\n"
     ]
    },
    {
     "name": "stderr",
     "output_type": "stream",
     "text": [
      "/home/pc_lab/miniforge3/envs/kilosort_4_0_5/lib/python3.9/site-packages/kilosort/spikedetect.py:235: UserWarning: \n",
      "              NaNs and/or zeroes present in weights for spikedetect.run,\n",
      "              may need to adjust `min_template_size` and/or `dminx` \n",
      "              for best results.\n",
      "\n",
      "              If you're using a probe with multiple shanks, see \n",
      "              https://kilosort.readthedocs.io/en/latest/multi_shank.html\n",
      "              \n",
      "  warnings.warn(msg, UserWarning)\n",
      "100%|██████████| 1060/1060 [04:20<00:00,  4.06it/s]\n"
     ]
    },
    {
     "name": "stdout",
     "output_type": "stream",
     "text": [
      "796605 spikes extracted in  263.36s; total  267.53s\n",
      "\n",
      "First clustering\n"
     ]
    },
    {
     "name": "stderr",
     "output_type": "stream",
     "text": [
      "100%|██████████| 16/16 [00:12<00:00,  1.24it/s]\n",
      "/home/pc_lab/miniforge3/envs/kilosort_4_0_5/lib/python3.9/site-packages/kilosort/template_matching.py:71: UserWarning: Plan failed with a cudnnException: CUDNN_BACKEND_EXECUTION_PLAN_DESCRIPTOR: cudnnFinalize Descriptor Failed cudnn_status: CUDNN_STATUS_NOT_SUPPORTED (Triggered internally at /opt/conda/conda-bld/pytorch_1712608885084/work/aten/src/ATen/native/cudnn/Conv_v8.cpp:919.)\n",
      "  X = conv1d(X.unsqueeze(1), ops['wTEMP'].unsqueeze(1), padding=ops['nt']//2)\n"
     ]
    },
    {
     "name": "stdout",
     "output_type": "stream",
     "text": [
      "125 clusters found, in  12.99s; total  280.53s\n",
      "\n",
      "Extracting spikes using cluster waveforms\n"
     ]
    },
    {
     "name": "stderr",
     "output_type": "stream",
     "text": [
      "100%|██████████| 1060/1060 [01:11<00:00, 14.85it/s]\n"
     ]
    },
    {
     "name": "stdout",
     "output_type": "stream",
     "text": [
      "1083067 spikes extracted in  71.61s; total  352.14s\n",
      "\n",
      "Final clustering\n"
     ]
    },
    {
     "name": "stderr",
     "output_type": "stream",
     "text": [
      "100%|██████████| 16/16 [00:16<00:00,  1.03s/it]\n"
     ]
    },
    {
     "name": "stdout",
     "output_type": "stream",
     "text": [
      "54 clusters found, in  16.54s; total  368.68s\n",
      "\n",
      "Merging clusters\n",
      "53 units found, in  0.28s; total  368.96s\n",
      "\n",
      "Saving to phy and computing refractory periods\n",
      "18 units found with good refractory periods\n",
      "\n",
      "Total runtime: 375.08s = 00:06:15 h:m:s\n"
     ]
    },
    {
     "name": "stderr",
     "output_type": "stream",
     "text": [
      "/home/pc_lab/miniforge3/envs/kilosort_4_0_5/lib/python3.9/site-packages/spikeinterface/core/basesorting.py:239: UserWarning: The registered recording will not be persistent on disk, but only available in memory\n",
      "  warnings.warn(\"The registered recording will not be persistent on disk, but only available in memory\")\n"
     ]
    },
    {
     "name": "stdout",
     "output_type": "stream",
     "text": [
      "Exporting waveforms\n"
     ]
    },
    {
     "data": {
      "application/vnd.jupyter.widget-view+json": {
       "model_id": "d9b648d2ed6241b689b5dfd7ae3a106b",
       "version_major": 2,
       "version_minor": 0
      },
      "text/plain": [
       "extract waveforms memmap multi buffer:   0%|          | 0/17 [00:00<?, ?it/s]"
      ]
     },
     "metadata": {},
     "output_type": "display_data"
    },
    {
     "name": "stdout",
     "output_type": "stream",
     "text": [
      "we_spike_sorted is sparse: False\n",
      "Saving to phy\n"
     ]
    },
    {
     "data": {
      "application/vnd.jupyter.widget-view+json": {
       "model_id": "e4db6d078c1240849839962cba5bf86a",
       "version_major": 2,
       "version_minor": 0
      },
      "text/plain": [
       "write_binary_recording:   0%|          | 0/3180 [00:00<?, ?it/s]"
      ]
     },
     "metadata": {},
     "output_type": "display_data"
    },
    {
     "data": {
      "application/vnd.jupyter.widget-view+json": {
       "model_id": "6b039de5dcbd4030976e206e4bf1120c",
       "version_major": 2,
       "version_minor": 0
      },
      "text/plain": [
       "extract amplitudes:   0%|          | 0/3180 [00:00<?, ?it/s]"
      ]
     },
     "metadata": {},
     "output_type": "display_data"
    },
    {
     "data": {
      "application/vnd.jupyter.widget-view+json": {
       "model_id": "5be81d72d9f84a4eb4b1cef24bb10c0d",
       "version_major": 2,
       "version_minor": 0
      },
      "text/plain": [
       "Fitting PCA:   0%|          | 0/53 [00:00<?, ?it/s]"
      ]
     },
     "metadata": {},
     "output_type": "display_data"
    },
    {
     "data": {
      "application/vnd.jupyter.widget-view+json": {
       "model_id": "7182466f958a4bca85e0127ad4d00a17",
       "version_major": 2,
       "version_minor": 0
      },
      "text/plain": [
       "Projecting waveforms:   0%|          | 0/53 [00:00<?, ?it/s]"
      ]
     },
     "metadata": {},
     "output_type": "display_data"
    },
    {
     "data": {
      "application/vnd.jupyter.widget-view+json": {
       "model_id": "a285e57cee814241be393fd91c298fbf",
       "version_major": 2,
       "version_minor": 0
      },
      "text/plain": [
       "extract PCs:   0%|          | 0/3180 [00:00<?, ?it/s]"
      ]
     },
     "metadata": {},
     "output_type": "display_data"
    },
    {
     "name": "stdout",
     "output_type": "stream",
     "text": [
      "Run:\n",
      "phy template-gui  /scratch/back_up/reward_competition_extention/proc/spike_sorting/20240320_142408_alone_comp_subj_3-3_t5b5_merged.rec/phy/params.py\n",
      "/scratch/back_up/reward_competition_extention/data/rce_cohort_3/alone_comp/20240320_142408_alone_comp_subj_3-1_and_3-3.rec/20240320_142408_alone_comp_subj_3-1_t6b6_merged.rec\n",
      "Output directory: /scratch/back_up/reward_competition_extention/proc/spike_sorting/20240320_142408_alone_comp_subj_3-1_t6b6_merged.rec\n",
      "Running bandpass filter\n",
      "Running whitening\n",
      "Spike sorting\n",
      "========================================\n",
      "Loading recording with SpikeInterface...\n",
      "number of samples: 63594264\n",
      "number of channels: 32\n",
      "numbef of segments: 1\n",
      "sampling rate: 20000.0\n",
      "dtype: float32\n",
      "========================================\n",
      "Skipping common average reference.\n",
      "Preprocessing filters computed in  4.63s; total  4.63s\n",
      "Skipping drift correction.\n",
      "\n",
      "computing drift\n",
      "nblocks = 0, skipping drift correction\n",
      "drift computed in  0.00s; total  4.63s\n",
      "\n",
      "Extracting spikes using templates\n",
      "Re-computing universal templates from data.\n"
     ]
    },
    {
     "name": "stderr",
     "output_type": "stream",
     "text": [
      "/home/pc_lab/miniforge3/envs/kilosort_4_0_5/lib/python3.9/site-packages/kilosort/spikedetect.py:235: UserWarning: \n",
      "              NaNs and/or zeroes present in weights for spikedetect.run,\n",
      "              may need to adjust `min_template_size` and/or `dminx` \n",
      "              for best results.\n",
      "\n",
      "              If you're using a probe with multiple shanks, see \n",
      "              https://kilosort.readthedocs.io/en/latest/multi_shank.html\n",
      "              \n",
      "  warnings.warn(msg, UserWarning)\n",
      "100%|██████████| 1060/1060 [04:24<00:00,  4.01it/s]\n"
     ]
    },
    {
     "name": "stdout",
     "output_type": "stream",
     "text": [
      "1236842 spikes extracted in  267.15s; total  271.79s\n",
      "\n",
      "First clustering\n"
     ]
    },
    {
     "name": "stderr",
     "output_type": "stream",
     "text": [
      "100%|██████████| 16/16 [00:19<00:00,  1.23s/it]\n"
     ]
    },
    {
     "name": "stdout",
     "output_type": "stream",
     "text": [
      "113 clusters found, in  19.79s; total  291.58s\n",
      "\n",
      "Extracting spikes using cluster waveforms\n"
     ]
    },
    {
     "name": "stderr",
     "output_type": "stream",
     "text": [
      "100%|██████████| 1060/1060 [01:04<00:00, 16.31it/s]\n"
     ]
    },
    {
     "name": "stdout",
     "output_type": "stream",
     "text": [
      "1491472 spikes extracted in  65.26s; total  356.83s\n",
      "\n",
      "Final clustering\n"
     ]
    },
    {
     "name": "stderr",
     "output_type": "stream",
     "text": [
      "100%|██████████| 16/16 [00:21<00:00,  1.35s/it]\n"
     ]
    },
    {
     "name": "stdout",
     "output_type": "stream",
     "text": [
      "46 clusters found, in  21.67s; total  378.50s\n",
      "\n",
      "Merging clusters\n",
      "46 units found, in  0.39s; total  378.89s\n",
      "\n",
      "Saving to phy and computing refractory periods\n",
      "25 units found with good refractory periods\n",
      "\n",
      "Total runtime: 386.96s = 00:06:27 h:m:s\n"
     ]
    },
    {
     "name": "stderr",
     "output_type": "stream",
     "text": [
      "/home/pc_lab/miniforge3/envs/kilosort_4_0_5/lib/python3.9/site-packages/spikeinterface/core/basesorting.py:239: UserWarning: The registered recording will not be persistent on disk, but only available in memory\n",
      "  warnings.warn(\"The registered recording will not be persistent on disk, but only available in memory\")\n"
     ]
    },
    {
     "name": "stdout",
     "output_type": "stream",
     "text": [
      "Exporting waveforms\n"
     ]
    },
    {
     "data": {
      "application/vnd.jupyter.widget-view+json": {
       "model_id": "27c257a64a1146079fa836c761686bd8",
       "version_major": 2,
       "version_minor": 0
      },
      "text/plain": [
       "extract waveforms memmap multi buffer:   0%|          | 0/17 [00:00<?, ?it/s]"
      ]
     },
     "metadata": {},
     "output_type": "display_data"
    },
    {
     "name": "stdout",
     "output_type": "stream",
     "text": [
      "we_spike_sorted is sparse: False\n",
      "Saving to phy\n"
     ]
    },
    {
     "data": {
      "application/vnd.jupyter.widget-view+json": {
       "model_id": "a60f9644571148b0884d5892f827a2e8",
       "version_major": 2,
       "version_minor": 0
      },
      "text/plain": [
       "write_binary_recording:   0%|          | 0/3180 [00:00<?, ?it/s]"
      ]
     },
     "metadata": {},
     "output_type": "display_data"
    },
    {
     "data": {
      "application/vnd.jupyter.widget-view+json": {
       "model_id": "01d52ea018fa4c7fa4e71a3805c2d36c",
       "version_major": 2,
       "version_minor": 0
      },
      "text/plain": [
       "extract amplitudes:   0%|          | 0/3180 [00:00<?, ?it/s]"
      ]
     },
     "metadata": {},
     "output_type": "display_data"
    },
    {
     "data": {
      "application/vnd.jupyter.widget-view+json": {
       "model_id": "1d2b37526324489b99201b7e546c4dec",
       "version_major": 2,
       "version_minor": 0
      },
      "text/plain": [
       "Fitting PCA:   0%|          | 0/46 [00:00<?, ?it/s]"
      ]
     },
     "metadata": {},
     "output_type": "display_data"
    },
    {
     "data": {
      "application/vnd.jupyter.widget-view+json": {
       "model_id": "40dc0e0cee2a480cb4bda7ad49b303cb",
       "version_major": 2,
       "version_minor": 0
      },
      "text/plain": [
       "Projecting waveforms:   0%|          | 0/46 [00:00<?, ?it/s]"
      ]
     },
     "metadata": {},
     "output_type": "display_data"
    },
    {
     "data": {
      "application/vnd.jupyter.widget-view+json": {
       "model_id": "f66d80bdeefe4d30abc81c7a521e6d39",
       "version_major": 2,
       "version_minor": 0
      },
      "text/plain": [
       "extract PCs:   0%|          | 0/3180 [00:00<?, ?it/s]"
      ]
     },
     "metadata": {},
     "output_type": "display_data"
    },
    {
     "name": "stdout",
     "output_type": "stream",
     "text": [
      "Run:\n",
      "phy template-gui  /scratch/back_up/reward_competition_extention/proc/spike_sorting/20240320_142408_alone_comp_subj_3-1_t6b6_merged.rec/phy/params.py\n",
      "/scratch/back_up/reward_competition_extention/data/rce_cohort_3/alone_comp/20240322_160946_alone_comp_subj_4-3_and_4-4.rec/20240322_160946_alone_comp_subj_4-4_t5b5_merged.rec\n",
      "Output directory: /scratch/back_up/reward_competition_extention/proc/spike_sorting/20240322_160946_alone_comp_subj_4-4_t5b5_merged.rec\n",
      "Running bandpass filter\n",
      "Running whitening\n",
      "Spike sorting\n",
      "========================================\n",
      "Loading recording with SpikeInterface...\n",
      "number of samples: 63819054\n",
      "number of channels: 32\n",
      "numbef of segments: 1\n",
      "sampling rate: 20000.0\n",
      "dtype: float32\n",
      "========================================\n",
      "Skipping common average reference.\n",
      "Preprocessing filters computed in  4.39s; total  4.39s\n",
      "Skipping drift correction.\n",
      "\n",
      "computing drift\n",
      "nblocks = 0, skipping drift correction\n",
      "drift computed in  0.00s; total  4.39s\n",
      "\n",
      "Extracting spikes using templates\n",
      "Re-computing universal templates from data.\n"
     ]
    },
    {
     "name": "stderr",
     "output_type": "stream",
     "text": [
      "/home/pc_lab/miniforge3/envs/kilosort_4_0_5/lib/python3.9/site-packages/kilosort/spikedetect.py:235: UserWarning: \n",
      "              NaNs and/or zeroes present in weights for spikedetect.run,\n",
      "              may need to adjust `min_template_size` and/or `dminx` \n",
      "              for best results.\n",
      "\n",
      "              If you're using a probe with multiple shanks, see \n",
      "              https://kilosort.readthedocs.io/en/latest/multi_shank.html\n",
      "              \n",
      "  warnings.warn(msg, UserWarning)\n",
      "100%|██████████| 1064/1064 [04:18<00:00,  4.11it/s]\n"
     ]
    },
    {
     "name": "stdout",
     "output_type": "stream",
     "text": [
      "299525 spikes extracted in  260.95s; total  265.34s\n",
      "\n",
      "First clustering\n"
     ]
    },
    {
     "name": "stderr",
     "output_type": "stream",
     "text": [
      "100%|██████████| 16/16 [00:05<00:00,  2.72it/s]\n"
     ]
    },
    {
     "name": "stdout",
     "output_type": "stream",
     "text": [
      "82 clusters found, in  5.97s; total  271.31s\n",
      "\n",
      "Extracting spikes using cluster waveforms\n"
     ]
    },
    {
     "name": "stderr",
     "output_type": "stream",
     "text": [
      "100%|██████████| 1064/1064 [00:59<00:00, 17.98it/s]\n"
     ]
    },
    {
     "name": "stdout",
     "output_type": "stream",
     "text": [
      "505631 spikes extracted in  59.29s; total  330.60s\n",
      "\n",
      "Final clustering\n"
     ]
    },
    {
     "name": "stderr",
     "output_type": "stream",
     "text": [
      "100%|██████████| 16/16 [00:07<00:00,  2.00it/s]\n"
     ]
    },
    {
     "name": "stdout",
     "output_type": "stream",
     "text": [
      "40 clusters found, in  8.00s; total  338.60s\n",
      "\n",
      "Merging clusters\n",
      "40 units found, in  0.15s; total  338.75s\n",
      "\n",
      "Saving to phy and computing refractory periods\n",
      "1 units found with good refractory periods\n",
      "\n",
      "Total runtime: 341.73s = 00:05:42 h:m:s\n"
     ]
    },
    {
     "name": "stderr",
     "output_type": "stream",
     "text": [
      "/home/pc_lab/miniforge3/envs/kilosort_4_0_5/lib/python3.9/site-packages/spikeinterface/core/basesorting.py:239: UserWarning: The registered recording will not be persistent on disk, but only available in memory\n",
      "  warnings.warn(\"The registered recording will not be persistent on disk, but only available in memory\")\n"
     ]
    },
    {
     "name": "stdout",
     "output_type": "stream",
     "text": [
      "Exporting waveforms\n"
     ]
    },
    {
     "data": {
      "application/vnd.jupyter.widget-view+json": {
       "model_id": "87d978f38fa94597a672dbb230322e86",
       "version_major": 2,
       "version_minor": 0
      },
      "text/plain": [
       "extract waveforms memmap multi buffer:   0%|          | 0/17 [00:00<?, ?it/s]"
      ]
     },
     "metadata": {},
     "output_type": "display_data"
    },
    {
     "name": "stdout",
     "output_type": "stream",
     "text": [
      "we_spike_sorted is sparse: False\n",
      "Saving to phy\n"
     ]
    },
    {
     "data": {
      "application/vnd.jupyter.widget-view+json": {
       "model_id": "c43b14650ba34c37a77a259b5d7e39f4",
       "version_major": 2,
       "version_minor": 0
      },
      "text/plain": [
       "write_binary_recording:   0%|          | 0/3191 [00:00<?, ?it/s]"
      ]
     },
     "metadata": {},
     "output_type": "display_data"
    },
    {
     "data": {
      "application/vnd.jupyter.widget-view+json": {
       "model_id": "bfebed71a0014681952fdaf4b954baf9",
       "version_major": 2,
       "version_minor": 0
      },
      "text/plain": [
       "extract amplitudes:   0%|          | 0/3191 [00:00<?, ?it/s]"
      ]
     },
     "metadata": {},
     "output_type": "display_data"
    },
    {
     "data": {
      "application/vnd.jupyter.widget-view+json": {
       "model_id": "0c5b4c20d82b4b3fae7dbeada42b01b5",
       "version_major": 2,
       "version_minor": 0
      },
      "text/plain": [
       "Fitting PCA:   0%|          | 0/40 [00:00<?, ?it/s]"
      ]
     },
     "metadata": {},
     "output_type": "display_data"
    },
    {
     "data": {
      "application/vnd.jupyter.widget-view+json": {
       "model_id": "bb0f72f0ea6740acbfc4ce9574ec18f2",
       "version_major": 2,
       "version_minor": 0
      },
      "text/plain": [
       "Projecting waveforms:   0%|          | 0/40 [00:00<?, ?it/s]"
      ]
     },
     "metadata": {},
     "output_type": "display_data"
    },
    {
     "data": {
      "application/vnd.jupyter.widget-view+json": {
       "model_id": "9fa2bf07341f4dc8835014d4648790f9",
       "version_major": 2,
       "version_minor": 0
      },
      "text/plain": [
       "extract PCs:   0%|          | 0/3191 [00:00<?, ?it/s]"
      ]
     },
     "metadata": {},
     "output_type": "display_data"
    },
    {
     "name": "stdout",
     "output_type": "stream",
     "text": [
      "Run:\n",
      "phy template-gui  /scratch/back_up/reward_competition_extention/proc/spike_sorting/20240322_160946_alone_comp_subj_4-4_t5b5_merged.rec/phy/params.py\n",
      "/scratch/back_up/reward_competition_extention/data/rce_cohort_3/alone_comp/20240322_160946_alone_comp_subj_4-3_and_4-4.rec/20240322_160946_alone_comp_subj_4-3_t6b6_merged.rec\n",
      "Output directory: /scratch/back_up/reward_competition_extention/proc/spike_sorting/20240322_160946_alone_comp_subj_4-3_t6b6_merged.rec\n",
      "Running bandpass filter\n",
      "Running whitening\n",
      "Spike sorting\n",
      "========================================\n",
      "Loading recording with SpikeInterface...\n",
      "number of samples: 63821543\n",
      "number of channels: 32\n",
      "numbef of segments: 1\n",
      "sampling rate: 20000.0\n",
      "dtype: float32\n",
      "========================================\n",
      "Skipping common average reference.\n",
      "Preprocessing filters computed in  4.44s; total  4.44s\n",
      "Skipping drift correction.\n",
      "\n",
      "computing drift\n",
      "nblocks = 0, skipping drift correction\n",
      "drift computed in  0.00s; total  4.44s\n",
      "\n",
      "Extracting spikes using templates\n",
      "Re-computing universal templates from data.\n"
     ]
    },
    {
     "name": "stderr",
     "output_type": "stream",
     "text": [
      "/home/pc_lab/miniforge3/envs/kilosort_4_0_5/lib/python3.9/site-packages/kilosort/spikedetect.py:235: UserWarning: \n",
      "              NaNs and/or zeroes present in weights for spikedetect.run,\n",
      "              may need to adjust `min_template_size` and/or `dminx` \n",
      "              for best results.\n",
      "\n",
      "              If you're using a probe with multiple shanks, see \n",
      "              https://kilosort.readthedocs.io/en/latest/multi_shank.html\n",
      "              \n",
      "  warnings.warn(msg, UserWarning)\n",
      "100%|██████████| 1064/1064 [04:24<00:00,  4.02it/s]\n"
     ]
    },
    {
     "name": "stdout",
     "output_type": "stream",
     "text": [
      "1473292 spikes extracted in  267.68s; total  272.12s\n",
      "\n",
      "First clustering\n"
     ]
    },
    {
     "name": "stderr",
     "output_type": "stream",
     "text": [
      "100%|██████████| 16/16 [00:24<00:00,  1.53s/it]\n",
      "/home/pc_lab/miniforge3/envs/kilosort_4_0_5/lib/python3.9/site-packages/kilosort/template_matching.py:71: UserWarning: Plan failed with a cudnnException: CUDNN_BACKEND_EXECUTION_PLAN_DESCRIPTOR: cudnnFinalize Descriptor Failed cudnn_status: CUDNN_STATUS_NOT_SUPPORTED (Triggered internally at /opt/conda/conda-bld/pytorch_1712608885084/work/aten/src/ATen/native/cudnn/Conv_v8.cpp:919.)\n",
      "  X = conv1d(X.unsqueeze(1), ops['wTEMP'].unsqueeze(1), padding=ops['nt']//2)\n"
     ]
    },
    {
     "name": "stdout",
     "output_type": "stream",
     "text": [
      "121 clusters found, in  24.53s; total  296.65s\n",
      "\n",
      "Extracting spikes using cluster waveforms\n"
     ]
    },
    {
     "name": "stderr",
     "output_type": "stream",
     "text": [
      "100%|██████████| 1064/1064 [01:00<00:00, 17.57it/s]\n"
     ]
    },
    {
     "name": "stdout",
     "output_type": "stream",
     "text": [
      "1293541 spikes extracted in  60.82s; total  357.47s\n",
      "\n",
      "Final clustering\n"
     ]
    },
    {
     "name": "stderr",
     "output_type": "stream",
     "text": [
      "100%|██████████| 16/16 [00:20<00:00,  1.31s/it]\n"
     ]
    },
    {
     "name": "stdout",
     "output_type": "stream",
     "text": [
      "66 clusters found, in  20.96s; total  378.43s\n",
      "\n",
      "Merging clusters\n",
      "66 units found, in  0.37s; total  378.80s\n",
      "\n",
      "Saving to phy and computing refractory periods\n",
      "34 units found with good refractory periods\n",
      "\n",
      "Total runtime: 386.44s = 00:06:26 h:m:s\n"
     ]
    },
    {
     "name": "stderr",
     "output_type": "stream",
     "text": [
      "/home/pc_lab/miniforge3/envs/kilosort_4_0_5/lib/python3.9/site-packages/spikeinterface/core/basesorting.py:239: UserWarning: The registered recording will not be persistent on disk, but only available in memory\n",
      "  warnings.warn(\"The registered recording will not be persistent on disk, but only available in memory\")\n"
     ]
    },
    {
     "name": "stdout",
     "output_type": "stream",
     "text": [
      "Exporting waveforms\n"
     ]
    },
    {
     "data": {
      "application/vnd.jupyter.widget-view+json": {
       "model_id": "ef7a3c8c96b3460588a9483be5d59194",
       "version_major": 2,
       "version_minor": 0
      },
      "text/plain": [
       "extract waveforms memmap multi buffer:   0%|          | 0/17 [00:00<?, ?it/s]"
      ]
     },
     "metadata": {},
     "output_type": "display_data"
    },
    {
     "name": "stdout",
     "output_type": "stream",
     "text": [
      "we_spike_sorted is sparse: False\n",
      "Saving to phy\n"
     ]
    },
    {
     "data": {
      "application/vnd.jupyter.widget-view+json": {
       "model_id": "e8521a3b7f3549869f209d897ad40c66",
       "version_major": 2,
       "version_minor": 0
      },
      "text/plain": [
       "write_binary_recording:   0%|          | 0/3192 [00:00<?, ?it/s]"
      ]
     },
     "metadata": {},
     "output_type": "display_data"
    },
    {
     "data": {
      "application/vnd.jupyter.widget-view+json": {
       "model_id": "4161ea6f63f94e84b7a03a568f16a983",
       "version_major": 2,
       "version_minor": 0
      },
      "text/plain": [
       "extract amplitudes:   0%|          | 0/3192 [00:00<?, ?it/s]"
      ]
     },
     "metadata": {},
     "output_type": "display_data"
    },
    {
     "data": {
      "application/vnd.jupyter.widget-view+json": {
       "model_id": "431273c303144e519f9ee9e46384434c",
       "version_major": 2,
       "version_minor": 0
      },
      "text/plain": [
       "Fitting PCA:   0%|          | 0/66 [00:00<?, ?it/s]"
      ]
     },
     "metadata": {},
     "output_type": "display_data"
    },
    {
     "data": {
      "application/vnd.jupyter.widget-view+json": {
       "model_id": "e09fddf77ff24586aa2fad7f22435797",
       "version_major": 2,
       "version_minor": 0
      },
      "text/plain": [
       "Projecting waveforms:   0%|          | 0/66 [00:00<?, ?it/s]"
      ]
     },
     "metadata": {},
     "output_type": "display_data"
    },
    {
     "data": {
      "application/vnd.jupyter.widget-view+json": {
       "model_id": "ef8eb53ca66f429c8ab25c77560c8409",
       "version_major": 2,
       "version_minor": 0
      },
      "text/plain": [
       "extract PCs:   0%|          | 0/3192 [00:00<?, ?it/s]"
      ]
     },
     "metadata": {},
     "output_type": "display_data"
    },
    {
     "name": "stdout",
     "output_type": "stream",
     "text": [
      "Run:\n",
      "phy template-gui  /scratch/back_up/reward_competition_extention/proc/spike_sorting/20240322_160946_alone_comp_subj_4-3_t6b6_merged.rec/phy/params.py\n",
      "/scratch/back_up/reward_competition_extention/data/rce_cohort_3/alone_comp/20240322_120625_alone_comp_subj_3-3_and_3-4.rec/20240322_120625_alone_comp_subj_3-3_t6b6_merged.rec\n",
      "Output directory: /scratch/back_up/reward_competition_extention/proc/spike_sorting/20240322_120625_alone_comp_subj_3-3_t6b6_merged.rec\n",
      "Running bandpass filter\n",
      "Running whitening\n",
      "Spike sorting\n",
      "========================================\n",
      "Loading recording with SpikeInterface...\n",
      "number of samples: 63401633\n",
      "number of channels: 32\n",
      "numbef of segments: 1\n",
      "sampling rate: 20000.0\n",
      "dtype: float32\n",
      "========================================\n",
      "Skipping common average reference.\n",
      "Preprocessing filters computed in  4.54s; total  4.54s\n",
      "Skipping drift correction.\n",
      "\n",
      "computing drift\n",
      "nblocks = 0, skipping drift correction\n",
      "drift computed in  0.00s; total  4.55s\n",
      "\n",
      "Extracting spikes using templates\n",
      "Re-computing universal templates from data.\n"
     ]
    },
    {
     "name": "stderr",
     "output_type": "stream",
     "text": [
      "/home/pc_lab/miniforge3/envs/kilosort_4_0_5/lib/python3.9/site-packages/kilosort/spikedetect.py:235: UserWarning: \n",
      "              NaNs and/or zeroes present in weights for spikedetect.run,\n",
      "              may need to adjust `min_template_size` and/or `dminx` \n",
      "              for best results.\n",
      "\n",
      "              If you're using a probe with multiple shanks, see \n",
      "              https://kilosort.readthedocs.io/en/latest/multi_shank.html\n",
      "              \n",
      "  warnings.warn(msg, UserWarning)\n",
      "100%|██████████| 1057/1057 [04:21<00:00,  4.04it/s]\n"
     ]
    },
    {
     "name": "stdout",
     "output_type": "stream",
     "text": [
      "732343 spikes extracted in  264.38s; total  268.92s\n",
      "\n",
      "First clustering\n"
     ]
    },
    {
     "name": "stderr",
     "output_type": "stream",
     "text": [
      "100%|██████████| 16/16 [00:11<00:00,  1.34it/s]\n"
     ]
    },
    {
     "name": "stdout",
     "output_type": "stream",
     "text": [
      "96 clusters found, in  12.02s; total  280.94s\n",
      "\n",
      "Extracting spikes using cluster waveforms\n"
     ]
    },
    {
     "name": "stderr",
     "output_type": "stream",
     "text": [
      "100%|██████████| 1057/1057 [01:00<00:00, 17.53it/s]\n"
     ]
    },
    {
     "name": "stdout",
     "output_type": "stream",
     "text": [
      "880605 spikes extracted in  60.45s; total  341.40s\n",
      "\n",
      "Final clustering\n"
     ]
    },
    {
     "name": "stderr",
     "output_type": "stream",
     "text": [
      "100%|██████████| 16/16 [00:14<00:00,  1.11it/s]\n"
     ]
    },
    {
     "name": "stdout",
     "output_type": "stream",
     "text": [
      "54 clusters found, in  14.48s; total  355.88s\n",
      "\n",
      "Merging clusters\n",
      "53 units found, in  0.27s; total  356.16s\n",
      "\n",
      "Saving to phy and computing refractory periods\n",
      "17 units found with good refractory periods\n",
      "\n",
      "Total runtime: 361.56s = 00:06:2 h:m:s\n"
     ]
    },
    {
     "name": "stderr",
     "output_type": "stream",
     "text": [
      "/home/pc_lab/miniforge3/envs/kilosort_4_0_5/lib/python3.9/site-packages/spikeinterface/core/basesorting.py:239: UserWarning: The registered recording will not be persistent on disk, but only available in memory\n",
      "  warnings.warn(\"The registered recording will not be persistent on disk, but only available in memory\")\n"
     ]
    },
    {
     "name": "stdout",
     "output_type": "stream",
     "text": [
      "Exporting waveforms\n"
     ]
    },
    {
     "data": {
      "application/vnd.jupyter.widget-view+json": {
       "model_id": "9e810ddc6f0e42dfb5ae65d332f0ced1",
       "version_major": 2,
       "version_minor": 0
      },
      "text/plain": [
       "extract waveforms memmap multi buffer:   0%|          | 0/17 [00:00<?, ?it/s]"
      ]
     },
     "metadata": {},
     "output_type": "display_data"
    },
    {
     "name": "stdout",
     "output_type": "stream",
     "text": [
      "we_spike_sorted is sparse: False\n",
      "Saving to phy\n"
     ]
    },
    {
     "data": {
      "application/vnd.jupyter.widget-view+json": {
       "model_id": "d67ce15571034b52ba1237facc6ba3cb",
       "version_major": 2,
       "version_minor": 0
      },
      "text/plain": [
       "write_binary_recording:   0%|          | 0/3171 [00:00<?, ?it/s]"
      ]
     },
     "metadata": {},
     "output_type": "display_data"
    },
    {
     "data": {
      "application/vnd.jupyter.widget-view+json": {
       "model_id": "7f7a426cbdaa4dbe848bf618fa536ea7",
       "version_major": 2,
       "version_minor": 0
      },
      "text/plain": [
       "extract amplitudes:   0%|          | 0/3171 [00:00<?, ?it/s]"
      ]
     },
     "metadata": {},
     "output_type": "display_data"
    },
    {
     "data": {
      "application/vnd.jupyter.widget-view+json": {
       "model_id": "3b3f9a63660a46cb8f662a67baaeb10b",
       "version_major": 2,
       "version_minor": 0
      },
      "text/plain": [
       "Fitting PCA:   0%|          | 0/53 [00:00<?, ?it/s]"
      ]
     },
     "metadata": {},
     "output_type": "display_data"
    },
    {
     "data": {
      "application/vnd.jupyter.widget-view+json": {
       "model_id": "5bd5a0344d7a46718fec99cd65f010a2",
       "version_major": 2,
       "version_minor": 0
      },
      "text/plain": [
       "Projecting waveforms:   0%|          | 0/53 [00:00<?, ?it/s]"
      ]
     },
     "metadata": {},
     "output_type": "display_data"
    },
    {
     "data": {
      "application/vnd.jupyter.widget-view+json": {
       "model_id": "fc32d18a5d834963985e0c5ce7735457",
       "version_major": 2,
       "version_minor": 0
      },
      "text/plain": [
       "extract PCs:   0%|          | 0/3171 [00:00<?, ?it/s]"
      ]
     },
     "metadata": {},
     "output_type": "display_data"
    },
    {
     "name": "stdout",
     "output_type": "stream",
     "text": [
      "Run:\n",
      "phy template-gui  /scratch/back_up/reward_competition_extention/proc/spike_sorting/20240322_120625_alone_comp_subj_3-3_t6b6_merged.rec/phy/params.py\n",
      "/scratch/back_up/reward_competition_extention/data/rce_cohort_3/alone_comp/20240322_120625_alone_comp_subj_3-3_and_3-4.rec/20240322_120625_alone_comp_subj_3-4_t5b5_merged.rec\n",
      "Output directory: /scratch/back_up/reward_competition_extention/proc/spike_sorting/20240322_120625_alone_comp_subj_3-4_t5b5_merged.rec\n",
      "Running bandpass filter\n",
      "Running whitening\n",
      "Spike sorting\n",
      "========================================\n",
      "Loading recording with SpikeInterface...\n",
      "number of samples: 63401519\n",
      "number of channels: 32\n",
      "numbef of segments: 1\n",
      "sampling rate: 20000.0\n",
      "dtype: float32\n",
      "========================================\n",
      "Skipping common average reference.\n",
      "Preprocessing filters computed in  4.50s; total  4.50s\n",
      "Skipping drift correction.\n",
      "\n",
      "computing drift\n",
      "nblocks = 0, skipping drift correction\n",
      "drift computed in  0.00s; total  4.50s\n",
      "\n",
      "Extracting spikes using templates\n",
      "Re-computing universal templates from data.\n"
     ]
    },
    {
     "name": "stderr",
     "output_type": "stream",
     "text": [
      "/home/pc_lab/miniforge3/envs/kilosort_4_0_5/lib/python3.9/site-packages/kilosort/spikedetect.py:235: UserWarning: \n",
      "              NaNs and/or zeroes present in weights for spikedetect.run,\n",
      "              may need to adjust `min_template_size` and/or `dminx` \n",
      "              for best results.\n",
      "\n",
      "              If you're using a probe with multiple shanks, see \n",
      "              https://kilosort.readthedocs.io/en/latest/multi_shank.html\n",
      "              \n",
      "  warnings.warn(msg, UserWarning)\n",
      "100%|██████████| 1057/1057 [04:21<00:00,  4.04it/s]\n"
     ]
    },
    {
     "name": "stdout",
     "output_type": "stream",
     "text": [
      "806594 spikes extracted in  264.22s; total  268.72s\n",
      "\n",
      "First clustering\n"
     ]
    },
    {
     "name": "stderr",
     "output_type": "stream",
     "text": [
      "100%|██████████| 16/16 [00:14<00:00,  1.07it/s]\n"
     ]
    },
    {
     "name": "stdout",
     "output_type": "stream",
     "text": [
      "102 clusters found, in  15.01s; total  283.73s\n",
      "\n",
      "Extracting spikes using cluster waveforms\n"
     ]
    },
    {
     "name": "stderr",
     "output_type": "stream",
     "text": [
      "100%|██████████| 1057/1057 [00:56<00:00, 18.81it/s]\n"
     ]
    },
    {
     "name": "stdout",
     "output_type": "stream",
     "text": [
      "762733 spikes extracted in  56.35s; total  340.08s\n",
      "\n",
      "Final clustering\n"
     ]
    },
    {
     "name": "stderr",
     "output_type": "stream",
     "text": [
      "100%|██████████| 16/16 [00:12<00:00,  1.30it/s]\n"
     ]
    },
    {
     "name": "stdout",
     "output_type": "stream",
     "text": [
      "37 clusters found, in  12.33s; total  352.41s\n",
      "\n",
      "Merging clusters\n",
      "36 units found, in  0.19s; total  352.60s\n",
      "\n",
      "Saving to phy and computing refractory periods\n",
      "16 units found with good refractory periods\n",
      "\n",
      "Total runtime: 356.78s = 00:05:57 h:m:s\n"
     ]
    },
    {
     "name": "stderr",
     "output_type": "stream",
     "text": [
      "/home/pc_lab/miniforge3/envs/kilosort_4_0_5/lib/python3.9/site-packages/spikeinterface/core/basesorting.py:239: UserWarning: The registered recording will not be persistent on disk, but only available in memory\n",
      "  warnings.warn(\"The registered recording will not be persistent on disk, but only available in memory\")\n"
     ]
    },
    {
     "name": "stdout",
     "output_type": "stream",
     "text": [
      "Exporting waveforms\n"
     ]
    },
    {
     "data": {
      "application/vnd.jupyter.widget-view+json": {
       "model_id": "c80f0e144ebc4d10aef2f6575b78b489",
       "version_major": 2,
       "version_minor": 0
      },
      "text/plain": [
       "extract waveforms memmap multi buffer:   0%|          | 0/17 [00:00<?, ?it/s]"
      ]
     },
     "metadata": {},
     "output_type": "display_data"
    },
    {
     "name": "stdout",
     "output_type": "stream",
     "text": [
      "we_spike_sorted is sparse: False\n",
      "Saving to phy\n"
     ]
    },
    {
     "data": {
      "application/vnd.jupyter.widget-view+json": {
       "model_id": "c4872e34885742b5b03285353de86b92",
       "version_major": 2,
       "version_minor": 0
      },
      "text/plain": [
       "write_binary_recording:   0%|          | 0/3171 [00:00<?, ?it/s]"
      ]
     },
     "metadata": {},
     "output_type": "display_data"
    },
    {
     "data": {
      "application/vnd.jupyter.widget-view+json": {
       "model_id": "6ee9980a9839434abc8dfb77d99fb193",
       "version_major": 2,
       "version_minor": 0
      },
      "text/plain": [
       "extract amplitudes:   0%|          | 0/3171 [00:00<?, ?it/s]"
      ]
     },
     "metadata": {},
     "output_type": "display_data"
    },
    {
     "data": {
      "application/vnd.jupyter.widget-view+json": {
       "model_id": "4e2c96167c20422ab0b870e18a0132ff",
       "version_major": 2,
       "version_minor": 0
      },
      "text/plain": [
       "Fitting PCA:   0%|          | 0/36 [00:00<?, ?it/s]"
      ]
     },
     "metadata": {},
     "output_type": "display_data"
    },
    {
     "data": {
      "application/vnd.jupyter.widget-view+json": {
       "model_id": "3a16e9f75ca54d80b36057ff5f91607f",
       "version_major": 2,
       "version_minor": 0
      },
      "text/plain": [
       "Projecting waveforms:   0%|          | 0/36 [00:00<?, ?it/s]"
      ]
     },
     "metadata": {},
     "output_type": "display_data"
    },
    {
     "data": {
      "application/vnd.jupyter.widget-view+json": {
       "model_id": "4b1fabb6d09048a0bb454fad97c8308a",
       "version_major": 2,
       "version_minor": 0
      },
      "text/plain": [
       "extract PCs:   0%|          | 0/3171 [00:00<?, ?it/s]"
      ]
     },
     "metadata": {},
     "output_type": "display_data"
    },
    {
     "name": "stdout",
     "output_type": "stream",
     "text": [
      "Run:\n",
      "phy template-gui  /scratch/back_up/reward_competition_extention/proc/spike_sorting/20240322_120625_alone_comp_subj_3-4_t5b5_merged.rec/phy/params.py\n",
      "/scratch/back_up/reward_competition_extention/data/rce_cohort_3/alone_comp/20240320_171038_alone_comp_subj_4-2_and_4-3.rec/20240320_171038_alone_comp_subj_4-3_t5b5_merged.rec\n",
      "Output directory: /scratch/back_up/reward_competition_extention/proc/spike_sorting/20240320_171038_alone_comp_subj_4-3_t5b5_merged.rec\n",
      "Running bandpass filter\n",
      "Running whitening\n",
      "Spike sorting\n",
      "========================================\n",
      "Loading recording with SpikeInterface...\n",
      "number of samples: 64384093\n",
      "number of channels: 32\n",
      "numbef of segments: 1\n",
      "sampling rate: 20000.0\n",
      "dtype: float32\n",
      "========================================\n",
      "Skipping common average reference.\n",
      "Preprocessing filters computed in  4.45s; total  4.45s\n",
      "Skipping drift correction.\n",
      "\n",
      "computing drift\n",
      "nblocks = 0, skipping drift correction\n",
      "drift computed in  0.00s; total  4.46s\n",
      "\n",
      "Extracting spikes using templates\n",
      "Re-computing universal templates from data.\n"
     ]
    },
    {
     "name": "stderr",
     "output_type": "stream",
     "text": [
      "/home/pc_lab/miniforge3/envs/kilosort_4_0_5/lib/python3.9/site-packages/kilosort/spikedetect.py:235: UserWarning: \n",
      "              NaNs and/or zeroes present in weights for spikedetect.run,\n",
      "              may need to adjust `min_template_size` and/or `dminx` \n",
      "              for best results.\n",
      "\n",
      "              If you're using a probe with multiple shanks, see \n",
      "              https://kilosort.readthedocs.io/en/latest/multi_shank.html\n",
      "              \n",
      "  warnings.warn(msg, UserWarning)\n",
      "100%|██████████| 1074/1074 [04:30<00:00,  3.97it/s]\n"
     ]
    },
    {
     "name": "stdout",
     "output_type": "stream",
     "text": [
      "1567956 spikes extracted in  273.45s; total  277.91s\n",
      "\n",
      "First clustering\n"
     ]
    },
    {
     "name": "stderr",
     "output_type": "stream",
     "text": [
      "100%|██████████| 16/16 [00:30<00:00,  1.94s/it]\n"
     ]
    },
    {
     "name": "stdout",
     "output_type": "stream",
     "text": [
      "120 clusters found, in  31.11s; total  309.02s\n",
      "\n",
      "Extracting spikes using cluster waveforms\n"
     ]
    },
    {
     "name": "stderr",
     "output_type": "stream",
     "text": [
      "100%|██████████| 1074/1074 [01:06<00:00, 16.13it/s]\n"
     ]
    },
    {
     "name": "stdout",
     "output_type": "stream",
     "text": [
      "1413325 spikes extracted in  66.85s; total  375.87s\n",
      "\n",
      "Final clustering\n"
     ]
    },
    {
     "name": "stderr",
     "output_type": "stream",
     "text": [
      "100%|██████████| 16/16 [00:23<00:00,  1.48s/it]\n"
     ]
    },
    {
     "name": "stdout",
     "output_type": "stream",
     "text": [
      "58 clusters found, in  23.75s; total  399.61s\n",
      "\n",
      "Merging clusters\n",
      "56 units found, in  0.49s; total  400.11s\n",
      "\n",
      "Saving to phy and computing refractory periods\n",
      "33 units found with good refractory periods\n",
      "\n",
      "Total runtime: 408.98s = 00:06:49 h:m:s\n"
     ]
    },
    {
     "name": "stderr",
     "output_type": "stream",
     "text": [
      "/home/pc_lab/miniforge3/envs/kilosort_4_0_5/lib/python3.9/site-packages/spikeinterface/core/basesorting.py:239: UserWarning: The registered recording will not be persistent on disk, but only available in memory\n",
      "  warnings.warn(\"The registered recording will not be persistent on disk, but only available in memory\")\n"
     ]
    },
    {
     "name": "stdout",
     "output_type": "stream",
     "text": [
      "Exporting waveforms\n"
     ]
    },
    {
     "data": {
      "application/vnd.jupyter.widget-view+json": {
       "model_id": "69673af3eee142a7a415c44fad571712",
       "version_major": 2,
       "version_minor": 0
      },
      "text/plain": [
       "extract waveforms memmap multi buffer:   0%|          | 0/17 [00:00<?, ?it/s]"
      ]
     },
     "metadata": {},
     "output_type": "display_data"
    },
    {
     "name": "stdout",
     "output_type": "stream",
     "text": [
      "we_spike_sorted is sparse: False\n",
      "Saving to phy\n"
     ]
    },
    {
     "data": {
      "application/vnd.jupyter.widget-view+json": {
       "model_id": "d57707c669d448359ea7cb7879a3dca6",
       "version_major": 2,
       "version_minor": 0
      },
      "text/plain": [
       "write_binary_recording:   0%|          | 0/3220 [00:00<?, ?it/s]"
      ]
     },
     "metadata": {},
     "output_type": "display_data"
    },
    {
     "data": {
      "application/vnd.jupyter.widget-view+json": {
       "model_id": "a2f0572d3710472ea3f3446a62aea9ca",
       "version_major": 2,
       "version_minor": 0
      },
      "text/plain": [
       "extract amplitudes:   0%|          | 0/3220 [00:00<?, ?it/s]"
      ]
     },
     "metadata": {},
     "output_type": "display_data"
    },
    {
     "data": {
      "application/vnd.jupyter.widget-view+json": {
       "model_id": "d68fd821f17643f6a8c40b3f34a760fa",
       "version_major": 2,
       "version_minor": 0
      },
      "text/plain": [
       "Fitting PCA:   0%|          | 0/56 [00:00<?, ?it/s]"
      ]
     },
     "metadata": {},
     "output_type": "display_data"
    },
    {
     "data": {
      "application/vnd.jupyter.widget-view+json": {
       "model_id": "b616fb22b84c473b9b81df6651903692",
       "version_major": 2,
       "version_minor": 0
      },
      "text/plain": [
       "Projecting waveforms:   0%|          | 0/56 [00:00<?, ?it/s]"
      ]
     },
     "metadata": {},
     "output_type": "display_data"
    },
    {
     "data": {
      "application/vnd.jupyter.widget-view+json": {
       "model_id": "d62357b780f9403c9891ef311b25b5ac",
       "version_major": 2,
       "version_minor": 0
      },
      "text/plain": [
       "extract PCs:   0%|          | 0/3220 [00:00<?, ?it/s]"
      ]
     },
     "metadata": {},
     "output_type": "display_data"
    },
    {
     "name": "stdout",
     "output_type": "stream",
     "text": [
      "Run:\n",
      "phy template-gui  /scratch/back_up/reward_competition_extention/proc/spike_sorting/20240320_171038_alone_comp_subj_4-3_t5b5_merged.rec/phy/params.py\n",
      "/scratch/back_up/reward_competition_extention/data/rce_cohort_3/alone_comp/20240320_171038_alone_comp_subj_4-2_and_4-3.rec/20240320_171038_alone_comp_subj_4-2_t6b6_merged.rec\n",
      "Output directory: /scratch/back_up/reward_competition_extention/proc/spike_sorting/20240320_171038_alone_comp_subj_4-2_t6b6_merged.rec\n",
      "Running bandpass filter\n",
      "Running whitening\n",
      "Spike sorting\n",
      "========================================\n",
      "Loading recording with SpikeInterface...\n",
      "number of samples: 64384213\n",
      "number of channels: 32\n",
      "numbef of segments: 1\n",
      "sampling rate: 20000.0\n",
      "dtype: float32\n",
      "========================================\n",
      "Skipping common average reference.\n",
      "Preprocessing filters computed in  4.45s; total  4.45s\n",
      "Skipping drift correction.\n",
      "\n",
      "computing drift\n",
      "nblocks = 0, skipping drift correction\n",
      "drift computed in  0.00s; total  4.45s\n",
      "\n",
      "Extracting spikes using templates\n",
      "Re-computing universal templates from data.\n"
     ]
    },
    {
     "name": "stderr",
     "output_type": "stream",
     "text": [
      "/home/pc_lab/miniforge3/envs/kilosort_4_0_5/lib/python3.9/site-packages/kilosort/spikedetect.py:235: UserWarning: \n",
      "              NaNs and/or zeroes present in weights for spikedetect.run,\n",
      "              may need to adjust `min_template_size` and/or `dminx` \n",
      "              for best results.\n",
      "\n",
      "              If you're using a probe with multiple shanks, see \n",
      "              https://kilosort.readthedocs.io/en/latest/multi_shank.html\n",
      "              \n",
      "  warnings.warn(msg, UserWarning)\n",
      "100%|██████████| 1074/1074 [04:26<00:00,  4.02it/s]\n"
     ]
    },
    {
     "name": "stdout",
     "output_type": "stream",
     "text": [
      "869123 spikes extracted in  269.91s; total  274.36s\n",
      "\n",
      "First clustering\n"
     ]
    },
    {
     "name": "stderr",
     "output_type": "stream",
     "text": [
      "100%|██████████| 16/16 [00:16<00:00,  1.04s/it]\n",
      "/home/pc_lab/miniforge3/envs/kilosort_4_0_5/lib/python3.9/site-packages/kilosort/template_matching.py:71: UserWarning: Plan failed with a cudnnException: CUDNN_BACKEND_EXECUTION_PLAN_DESCRIPTOR: cudnnFinalize Descriptor Failed cudnn_status: CUDNN_STATUS_NOT_SUPPORTED (Triggered internally at /opt/conda/conda-bld/pytorch_1712608885084/work/aten/src/ATen/native/cudnn/Conv_v8.cpp:919.)\n",
      "  X = conv1d(X.unsqueeze(1), ops['wTEMP'].unsqueeze(1), padding=ops['nt']//2)\n"
     ]
    },
    {
     "name": "stdout",
     "output_type": "stream",
     "text": [
      "93 clusters found, in  16.69s; total  291.06s\n",
      "\n",
      "Extracting spikes using cluster waveforms\n"
     ]
    },
    {
     "name": "stderr",
     "output_type": "stream",
     "text": [
      "100%|██████████| 1074/1074 [01:07<00:00, 15.99it/s]\n"
     ]
    },
    {
     "name": "stdout",
     "output_type": "stream",
     "text": [
      "1083008 spikes extracted in  67.43s; total  358.48s\n",
      "\n",
      "Final clustering\n"
     ]
    },
    {
     "name": "stderr",
     "output_type": "stream",
     "text": [
      "100%|██████████| 16/16 [00:21<00:00,  1.36s/it]\n"
     ]
    },
    {
     "name": "stdout",
     "output_type": "stream",
     "text": [
      "48 clusters found, in  21.75s; total  380.24s\n",
      "\n",
      "Merging clusters\n",
      "48 units found, in  0.32s; total  380.56s\n",
      "\n",
      "Saving to phy and computing refractory periods\n",
      "12 units found with good refractory periods\n",
      "\n",
      "Total runtime: 388.10s = 00:06:28 h:m:s\n"
     ]
    },
    {
     "name": "stderr",
     "output_type": "stream",
     "text": [
      "/home/pc_lab/miniforge3/envs/kilosort_4_0_5/lib/python3.9/site-packages/spikeinterface/core/basesorting.py:239: UserWarning: The registered recording will not be persistent on disk, but only available in memory\n",
      "  warnings.warn(\"The registered recording will not be persistent on disk, but only available in memory\")\n"
     ]
    },
    {
     "name": "stdout",
     "output_type": "stream",
     "text": [
      "Exporting waveforms\n"
     ]
    },
    {
     "data": {
      "application/vnd.jupyter.widget-view+json": {
       "model_id": "951a720f88794ddf86aabceb4228468b",
       "version_major": 2,
       "version_minor": 0
      },
      "text/plain": [
       "extract waveforms memmap multi buffer:   0%|          | 0/17 [00:00<?, ?it/s]"
      ]
     },
     "metadata": {},
     "output_type": "display_data"
    },
    {
     "name": "stdout",
     "output_type": "stream",
     "text": [
      "we_spike_sorted is sparse: False\n",
      "Saving to phy\n"
     ]
    },
    {
     "data": {
      "application/vnd.jupyter.widget-view+json": {
       "model_id": "9f1c0a0c97db467381371b11ae465fdf",
       "version_major": 2,
       "version_minor": 0
      },
      "text/plain": [
       "write_binary_recording:   0%|          | 0/3220 [00:00<?, ?it/s]"
      ]
     },
     "metadata": {},
     "output_type": "display_data"
    },
    {
     "data": {
      "application/vnd.jupyter.widget-view+json": {
       "model_id": "0f8c167d12434a2abb63e2cf4fcbe63e",
       "version_major": 2,
       "version_minor": 0
      },
      "text/plain": [
       "extract amplitudes:   0%|          | 0/3220 [00:00<?, ?it/s]"
      ]
     },
     "metadata": {},
     "output_type": "display_data"
    },
    {
     "data": {
      "application/vnd.jupyter.widget-view+json": {
       "model_id": "58b0935a98cd48cdab445ddd2a084126",
       "version_major": 2,
       "version_minor": 0
      },
      "text/plain": [
       "Fitting PCA:   0%|          | 0/48 [00:00<?, ?it/s]"
      ]
     },
     "metadata": {},
     "output_type": "display_data"
    },
    {
     "data": {
      "application/vnd.jupyter.widget-view+json": {
       "model_id": "bba6c7ee3c854b39aa28e4d29ab7be72",
       "version_major": 2,
       "version_minor": 0
      },
      "text/plain": [
       "Projecting waveforms:   0%|          | 0/48 [00:00<?, ?it/s]"
      ]
     },
     "metadata": {},
     "output_type": "display_data"
    },
    {
     "data": {
      "application/vnd.jupyter.widget-view+json": {
       "model_id": "8579cf9026e1403fa5b4d518457f1056",
       "version_major": 2,
       "version_minor": 0
      },
      "text/plain": [
       "extract PCs:   0%|          | 0/3220 [00:00<?, ?it/s]"
      ]
     },
     "metadata": {},
     "output_type": "display_data"
    },
    {
     "name": "stdout",
     "output_type": "stream",
     "text": [
      "Run:\n",
      "phy template-gui  /scratch/back_up/reward_competition_extention/proc/spike_sorting/20240320_171038_alone_comp_subj_4-2_t6b6_merged.rec/phy/params.py\n",
      "/scratch/back_up/reward_competition_extention/data/rce_cohort_3/alone_comp/20240323_165815_alone_comp_subj_4-2_and_4-4.rec/20240323_165815_alone_comp_subj_4-4_t6b6_merged.rec\n",
      "Output directory: /scratch/back_up/reward_competition_extention/proc/spike_sorting/20240323_165815_alone_comp_subj_4-4_t6b6_merged.rec\n",
      "Running bandpass filter\n",
      "Running whitening\n",
      "Spike sorting\n",
      "========================================\n",
      "Loading recording with SpikeInterface...\n",
      "number of samples: 63997562\n",
      "number of channels: 32\n",
      "numbef of segments: 1\n",
      "sampling rate: 20000.0\n",
      "dtype: float32\n",
      "========================================\n",
      "Skipping common average reference.\n",
      "Preprocessing filters computed in  4.28s; total  4.28s\n",
      "Skipping drift correction.\n",
      "\n",
      "computing drift\n",
      "nblocks = 0, skipping drift correction\n",
      "drift computed in  0.00s; total  4.29s\n",
      "\n",
      "Extracting spikes using templates\n",
      "Re-computing universal templates from data.\n"
     ]
    },
    {
     "name": "stderr",
     "output_type": "stream",
     "text": [
      "/home/pc_lab/miniforge3/envs/kilosort_4_0_5/lib/python3.9/site-packages/kilosort/spikedetect.py:235: UserWarning: \n",
      "              NaNs and/or zeroes present in weights for spikedetect.run,\n",
      "              may need to adjust `min_template_size` and/or `dminx` \n",
      "              for best results.\n",
      "\n",
      "              If you're using a probe with multiple shanks, see \n",
      "              https://kilosort.readthedocs.io/en/latest/multi_shank.html\n",
      "              \n",
      "  warnings.warn(msg, UserWarning)\n",
      "100%|██████████| 1067/1067 [04:19<00:00,  4.11it/s]\n"
     ]
    },
    {
     "name": "stdout",
     "output_type": "stream",
     "text": [
      "342630 spikes extracted in  262.14s; total  266.44s\n",
      "\n",
      "First clustering\n"
     ]
    },
    {
     "name": "stderr",
     "output_type": "stream",
     "text": [
      "100%|██████████| 16/16 [00:06<00:00,  2.40it/s]\n"
     ]
    },
    {
     "name": "stdout",
     "output_type": "stream",
     "text": [
      "90 clusters found, in  6.72s; total  273.16s\n",
      "\n",
      "Extracting spikes using cluster waveforms\n"
     ]
    },
    {
     "name": "stderr",
     "output_type": "stream",
     "text": [
      "100%|██████████| 1067/1067 [00:59<00:00, 17.87it/s]\n"
     ]
    },
    {
     "name": "stdout",
     "output_type": "stream",
     "text": [
      "590676 spikes extracted in  59.86s; total  333.02s\n",
      "\n",
      "Final clustering\n"
     ]
    },
    {
     "name": "stderr",
     "output_type": "stream",
     "text": [
      "100%|██████████| 16/16 [00:08<00:00,  1.85it/s]\n"
     ]
    },
    {
     "name": "stdout",
     "output_type": "stream",
     "text": [
      "23 clusters found, in  8.68s; total  341.70s\n",
      "\n",
      "Merging clusters\n",
      "23 units found, in  0.18s; total  341.88s\n",
      "\n",
      "Saving to phy and computing refractory periods\n",
      "3 units found with good refractory periods\n",
      "\n",
      "Total runtime: 345.05s = 00:05:45 h:m:s\n"
     ]
    },
    {
     "name": "stderr",
     "output_type": "stream",
     "text": [
      "/home/pc_lab/miniforge3/envs/kilosort_4_0_5/lib/python3.9/site-packages/spikeinterface/core/basesorting.py:239: UserWarning: The registered recording will not be persistent on disk, but only available in memory\n",
      "  warnings.warn(\"The registered recording will not be persistent on disk, but only available in memory\")\n"
     ]
    },
    {
     "name": "stdout",
     "output_type": "stream",
     "text": [
      "Exporting waveforms\n"
     ]
    },
    {
     "data": {
      "application/vnd.jupyter.widget-view+json": {
       "model_id": "1e297e0890114f22ac2bfb74b6a8659f",
       "version_major": 2,
       "version_minor": 0
      },
      "text/plain": [
       "extract waveforms memmap multi buffer:   0%|          | 0/17 [00:00<?, ?it/s]"
      ]
     },
     "metadata": {},
     "output_type": "display_data"
    },
    {
     "name": "stdout",
     "output_type": "stream",
     "text": [
      "we_spike_sorted is sparse: False\n",
      "Saving to phy\n"
     ]
    },
    {
     "data": {
      "application/vnd.jupyter.widget-view+json": {
       "model_id": "45a1de0035754d8287310dec97753d93",
       "version_major": 2,
       "version_minor": 0
      },
      "text/plain": [
       "write_binary_recording:   0%|          | 0/3200 [00:00<?, ?it/s]"
      ]
     },
     "metadata": {},
     "output_type": "display_data"
    },
    {
     "data": {
      "application/vnd.jupyter.widget-view+json": {
       "model_id": "125bffec590946a0a18c2ed3782d9384",
       "version_major": 2,
       "version_minor": 0
      },
      "text/plain": [
       "extract amplitudes:   0%|          | 0/3200 [00:00<?, ?it/s]"
      ]
     },
     "metadata": {},
     "output_type": "display_data"
    },
    {
     "data": {
      "application/vnd.jupyter.widget-view+json": {
       "model_id": "dfdc42efa98b420e85024431a888be4b",
       "version_major": 2,
       "version_minor": 0
      },
      "text/plain": [
       "Fitting PCA:   0%|          | 0/23 [00:00<?, ?it/s]"
      ]
     },
     "metadata": {},
     "output_type": "display_data"
    },
    {
     "data": {
      "application/vnd.jupyter.widget-view+json": {
       "model_id": "b4dbc45fc66e4da6a02942cc601293ac",
       "version_major": 2,
       "version_minor": 0
      },
      "text/plain": [
       "Projecting waveforms:   0%|          | 0/23 [00:00<?, ?it/s]"
      ]
     },
     "metadata": {},
     "output_type": "display_data"
    },
    {
     "data": {
      "application/vnd.jupyter.widget-view+json": {
       "model_id": "4405f52f69604a64b2b057822d0653ae",
       "version_major": 2,
       "version_minor": 0
      },
      "text/plain": [
       "extract PCs:   0%|          | 0/3200 [00:00<?, ?it/s]"
      ]
     },
     "metadata": {},
     "output_type": "display_data"
    },
    {
     "name": "stdout",
     "output_type": "stream",
     "text": [
      "Run:\n",
      "phy template-gui  /scratch/back_up/reward_competition_extention/proc/spike_sorting/20240323_165815_alone_comp_subj_4-4_t6b6_merged.rec/phy/params.py\n",
      "/scratch/back_up/reward_competition_extention/data/rce_cohort_3/alone_comp/20240323_165815_alone_comp_subj_4-2_and_4-4.rec/20240323_165815_alone_comp_subj_4-2_t5b5_merged.rec\n",
      "Output directory: /scratch/back_up/reward_competition_extention/proc/spike_sorting/20240323_165815_alone_comp_subj_4-2_t5b5_merged.rec\n",
      "Running bandpass filter\n",
      "Running whitening\n",
      "Spike sorting\n",
      "========================================\n",
      "Loading recording with SpikeInterface...\n",
      "number of samples: 63997465\n",
      "number of channels: 32\n",
      "numbef of segments: 1\n",
      "sampling rate: 20000.0\n",
      "dtype: float32\n",
      "========================================\n",
      "Skipping common average reference.\n",
      "Preprocessing filters computed in  4.44s; total  4.44s\n",
      "Skipping drift correction.\n",
      "\n",
      "computing drift\n",
      "nblocks = 0, skipping drift correction\n",
      "drift computed in  0.00s; total  4.44s\n",
      "\n",
      "Extracting spikes using templates\n",
      "Re-computing universal templates from data.\n"
     ]
    },
    {
     "name": "stderr",
     "output_type": "stream",
     "text": [
      "/home/pc_lab/miniforge3/envs/kilosort_4_0_5/lib/python3.9/site-packages/kilosort/spikedetect.py:235: UserWarning: \n",
      "              NaNs and/or zeroes present in weights for spikedetect.run,\n",
      "              may need to adjust `min_template_size` and/or `dminx` \n",
      "              for best results.\n",
      "\n",
      "              If you're using a probe with multiple shanks, see \n",
      "              https://kilosort.readthedocs.io/en/latest/multi_shank.html\n",
      "              \n",
      "  warnings.warn(msg, UserWarning)\n",
      "100%|██████████| 1067/1067 [04:23<00:00,  4.06it/s]\n"
     ]
    },
    {
     "name": "stdout",
     "output_type": "stream",
     "text": [
      "1155783 spikes extracted in  265.74s; total  270.18s\n",
      "\n",
      "First clustering\n"
     ]
    },
    {
     "name": "stderr",
     "output_type": "stream",
     "text": [
      "100%|██████████| 16/16 [00:19<00:00,  1.21s/it]\n"
     ]
    },
    {
     "name": "stdout",
     "output_type": "stream",
     "text": [
      "87 clusters found, in  19.37s; total  289.56s\n",
      "\n",
      "Extracting spikes using cluster waveforms\n"
     ]
    },
    {
     "name": "stderr",
     "output_type": "stream",
     "text": [
      "100%|██████████| 1067/1067 [00:59<00:00, 17.89it/s]\n"
     ]
    },
    {
     "name": "stdout",
     "output_type": "stream",
     "text": [
      "1052747 spikes extracted in  59.85s; total  349.41s\n",
      "\n",
      "Final clustering\n"
     ]
    },
    {
     "name": "stderr",
     "output_type": "stream",
     "text": [
      "100%|██████████| 16/16 [00:15<00:00,  1.01it/s]\n"
     ]
    },
    {
     "name": "stdout",
     "output_type": "stream",
     "text": [
      "43 clusters found, in  15.81s; total  365.22s\n",
      "\n",
      "Merging clusters\n",
      "42 units found, in  0.33s; total  365.55s\n",
      "\n",
      "Saving to phy and computing refractory periods\n",
      "19 units found with good refractory periods\n",
      "\n",
      "Total runtime: 371.61s = 00:06:12 h:m:s\n"
     ]
    },
    {
     "name": "stderr",
     "output_type": "stream",
     "text": [
      "/home/pc_lab/miniforge3/envs/kilosort_4_0_5/lib/python3.9/site-packages/spikeinterface/core/basesorting.py:239: UserWarning: The registered recording will not be persistent on disk, but only available in memory\n",
      "  warnings.warn(\"The registered recording will not be persistent on disk, but only available in memory\")\n"
     ]
    },
    {
     "name": "stdout",
     "output_type": "stream",
     "text": [
      "Exporting waveforms\n"
     ]
    },
    {
     "data": {
      "application/vnd.jupyter.widget-view+json": {
       "model_id": "634cc0b7bc334dd186fb1d46158ce231",
       "version_major": 2,
       "version_minor": 0
      },
      "text/plain": [
       "extract waveforms memmap multi buffer:   0%|          | 0/17 [00:00<?, ?it/s]"
      ]
     },
     "metadata": {},
     "output_type": "display_data"
    },
    {
     "name": "stdout",
     "output_type": "stream",
     "text": [
      "we_spike_sorted is sparse: False\n",
      "Saving to phy\n"
     ]
    },
    {
     "data": {
      "application/vnd.jupyter.widget-view+json": {
       "model_id": "328d36ab3e2849c09ea58e5f4d416d9e",
       "version_major": 2,
       "version_minor": 0
      },
      "text/plain": [
       "write_binary_recording:   0%|          | 0/3200 [00:00<?, ?it/s]"
      ]
     },
     "metadata": {},
     "output_type": "display_data"
    },
    {
     "data": {
      "application/vnd.jupyter.widget-view+json": {
       "model_id": "288a707cdd814349a800aefffaf6382f",
       "version_major": 2,
       "version_minor": 0
      },
      "text/plain": [
       "extract amplitudes:   0%|          | 0/3200 [00:00<?, ?it/s]"
      ]
     },
     "metadata": {},
     "output_type": "display_data"
    },
    {
     "data": {
      "application/vnd.jupyter.widget-view+json": {
       "model_id": "8226da3282e041d2a680b2a162b73d97",
       "version_major": 2,
       "version_minor": 0
      },
      "text/plain": [
       "Fitting PCA:   0%|          | 0/42 [00:00<?, ?it/s]"
      ]
     },
     "metadata": {},
     "output_type": "display_data"
    },
    {
     "data": {
      "application/vnd.jupyter.widget-view+json": {
       "model_id": "84a6b1edb2bc43cd8431e6da4ef2fa14",
       "version_major": 2,
       "version_minor": 0
      },
      "text/plain": [
       "Projecting waveforms:   0%|          | 0/42 [00:00<?, ?it/s]"
      ]
     },
     "metadata": {},
     "output_type": "display_data"
    },
    {
     "data": {
      "application/vnd.jupyter.widget-view+json": {
       "model_id": "45def8daf4224577911f7d28e7ffb448",
       "version_major": 2,
       "version_minor": 0
      },
      "text/plain": [
       "extract PCs:   0%|          | 0/3200 [00:00<?, ?it/s]"
      ]
     },
     "metadata": {},
     "output_type": "display_data"
    },
    {
     "ename": "KeyboardInterrupt",
     "evalue": "",
     "output_type": "error",
     "traceback": [
      "\u001b[0;31m---------------------------------------------------------------------------\u001b[0m",
      "\u001b[0;31mKeyboardInterrupt\u001b[0m                         Traceback (most recent call last)",
      "Cell \u001b[0;32mIn[26], line 82\u001b[0m\n\u001b[1;32m     80\u001b[0m \u001b[38;5;28mprint\u001b[39m(\u001b[38;5;124m\"\u001b[39m\u001b[38;5;124mSaving to phy\u001b[39m\u001b[38;5;124m\"\u001b[39m)\n\u001b[1;32m     81\u001b[0m phy_output_directory \u001b[38;5;241m=\u001b[39m os\u001b[38;5;241m.\u001b[39mpath\u001b[38;5;241m.\u001b[39mjoin(recording_output_directory, \u001b[38;5;124m\"\u001b[39m\u001b[38;5;124mphy\u001b[39m\u001b[38;5;124m\"\u001b[39m)\n\u001b[0;32m---> 82\u001b[0m \u001b[43mexport_to_phy\u001b[49m\u001b[43m(\u001b[49m\u001b[43mwe_spike_sorted\u001b[49m\u001b[43m,\u001b[49m\u001b[43m \u001b[49m\n\u001b[1;32m     83\u001b[0m \u001b[43m                \u001b[49m\u001b[43mphy_output_directory\u001b[49m\u001b[43m,\u001b[49m\n\u001b[1;32m     84\u001b[0m \u001b[43m                \u001b[49m\u001b[43mcompute_pc_features\u001b[49m\u001b[38;5;241;43m=\u001b[39;49m\u001b[38;5;28;43;01mTrue\u001b[39;49;00m\u001b[43m,\u001b[49m\u001b[43m \u001b[49m\n\u001b[1;32m     85\u001b[0m \u001b[43m                \u001b[49m\u001b[43mcompute_amplitudes\u001b[49m\u001b[38;5;241;43m=\u001b[39;49m\u001b[38;5;28;43;01mTrue\u001b[39;49;00m\u001b[43m,\u001b[49m\u001b[43m \u001b[49m\n\u001b[1;32m     86\u001b[0m \u001b[43m                \u001b[49m\u001b[43mremove_if_exists\u001b[49m\u001b[38;5;241;43m=\u001b[39;49m\u001b[38;5;28;43;01mTrue\u001b[39;49;00m\u001b[43m)\u001b[49m\n\u001b[1;32m     88\u001b[0m \u001b[38;5;66;03m# edit the params.py file os that it contains the correct realtive path\u001b[39;00m\n\u001b[1;32m     89\u001b[0m params_path \u001b[38;5;241m=\u001b[39m os\u001b[38;5;241m.\u001b[39mpath\u001b[38;5;241m.\u001b[39mjoin(phy_output_directory, \u001b[38;5;124m\"\u001b[39m\u001b[38;5;124mparams.py\u001b[39m\u001b[38;5;124m\"\u001b[39m)\n",
      "File \u001b[0;32m~/miniforge3/envs/kilosort_4_0_5/lib/python3.9/site-packages/spikeinterface/exporters/to_phy.py:244\u001b[0m, in \u001b[0;36mexport_to_phy\u001b[0;34m(waveform_extractor, output_folder, compute_pc_features, compute_amplitudes, sparsity, copy_binary, remove_if_exists, peak_sign, template_mode, dtype, verbose, use_relative_path, **job_kwargs)\u001b[0m\n\u001b[1;32m    241\u001b[0m     pc_sparsity \u001b[38;5;241m=\u001b[39m used_sparsity\n\u001b[1;32m    242\u001b[0m max_num_channels_pc \u001b[38;5;241m=\u001b[39m \u001b[38;5;28mmax\u001b[39m(\u001b[38;5;28mlen\u001b[39m(chan_inds) \u001b[38;5;28;01mfor\u001b[39;00m chan_inds \u001b[38;5;129;01min\u001b[39;00m pc_sparsity\u001b[38;5;241m.\u001b[39munit_id_to_channel_indices\u001b[38;5;241m.\u001b[39mvalues())\n\u001b[0;32m--> 244\u001b[0m \u001b[43mpc\u001b[49m\u001b[38;5;241;43m.\u001b[39;49m\u001b[43mrun_for_all_spikes\u001b[49m\u001b[43m(\u001b[49m\u001b[43moutput_folder\u001b[49m\u001b[43m \u001b[49m\u001b[38;5;241;43m/\u001b[39;49m\u001b[43m \u001b[49m\u001b[38;5;124;43m\"\u001b[39;49m\u001b[38;5;124;43mpc_features.npy\u001b[39;49m\u001b[38;5;124;43m\"\u001b[39;49m\u001b[43m,\u001b[49m\u001b[43m \u001b[49m\u001b[38;5;241;43m*\u001b[39;49m\u001b[38;5;241;43m*\u001b[39;49m\u001b[43mjob_kwargs\u001b[49m\u001b[43m)\u001b[49m\n\u001b[1;32m    246\u001b[0m pc_feature_ind \u001b[38;5;241m=\u001b[39m \u001b[38;5;241m-\u001b[39mnp\u001b[38;5;241m.\u001b[39mones((\u001b[38;5;28mlen\u001b[39m(unit_ids), max_num_channels_pc), dtype\u001b[38;5;241m=\u001b[39m\u001b[38;5;124m\"\u001b[39m\u001b[38;5;124mint64\u001b[39m\u001b[38;5;124m\"\u001b[39m)\n\u001b[1;32m    247\u001b[0m \u001b[38;5;28;01mfor\u001b[39;00m unit_ind, unit_id \u001b[38;5;129;01min\u001b[39;00m \u001b[38;5;28menumerate\u001b[39m(unit_ids):\n",
      "File \u001b[0;32m~/miniforge3/envs/kilosort_4_0_5/lib/python3.9/site-packages/spikeinterface/postprocessing/principal_component.py:373\u001b[0m, in \u001b[0;36mWaveformPrincipalComponent.run_for_all_spikes\u001b[0;34m(self, file_path, **job_kwargs)\u001b[0m\n\u001b[1;32m    363\u001b[0m init_args \u001b[38;5;241m=\u001b[39m (\n\u001b[1;32m    364\u001b[0m     recording,\n\u001b[1;32m    365\u001b[0m     sorting\u001b[38;5;241m.\u001b[39mto_multiprocessing(job_kwargs[\u001b[38;5;124m\"\u001b[39m\u001b[38;5;124mn_jobs\u001b[39m\u001b[38;5;124m\"\u001b[39m]),\n\u001b[0;32m   (...)\u001b[0m\n\u001b[1;32m    370\u001b[0m     pca_model,\n\u001b[1;32m    371\u001b[0m )\n\u001b[1;32m    372\u001b[0m processor \u001b[38;5;241m=\u001b[39m ChunkRecordingExecutor(recording, func, init_func, init_args, job_name\u001b[38;5;241m=\u001b[39m\u001b[38;5;124m\"\u001b[39m\u001b[38;5;124mextract PCs\u001b[39m\u001b[38;5;124m\"\u001b[39m, \u001b[38;5;241m*\u001b[39m\u001b[38;5;241m*\u001b[39mjob_kwargs)\n\u001b[0;32m--> 373\u001b[0m \u001b[43mprocessor\u001b[49m\u001b[38;5;241;43m.\u001b[39;49m\u001b[43mrun\u001b[49m\u001b[43m(\u001b[49m\u001b[43m)\u001b[49m\n",
      "File \u001b[0;32m~/miniforge3/envs/kilosort_4_0_5/lib/python3.9/site-packages/spikeinterface/core/job_tools.py:381\u001b[0m, in \u001b[0;36mChunkRecordingExecutor.run\u001b[0;34m(self)\u001b[0m\n\u001b[1;32m    379\u001b[0m worker_ctx \u001b[38;5;241m=\u001b[39m \u001b[38;5;28mself\u001b[39m\u001b[38;5;241m.\u001b[39minit_func(\u001b[38;5;241m*\u001b[39m\u001b[38;5;28mself\u001b[39m\u001b[38;5;241m.\u001b[39minit_args)\n\u001b[1;32m    380\u001b[0m \u001b[38;5;28;01mfor\u001b[39;00m segment_index, frame_start, frame_stop \u001b[38;5;129;01min\u001b[39;00m all_chunks:\n\u001b[0;32m--> 381\u001b[0m     res \u001b[38;5;241m=\u001b[39m \u001b[38;5;28;43mself\u001b[39;49m\u001b[38;5;241;43m.\u001b[39;49m\u001b[43mfunc\u001b[49m\u001b[43m(\u001b[49m\u001b[43msegment_index\u001b[49m\u001b[43m,\u001b[49m\u001b[43m \u001b[49m\u001b[43mframe_start\u001b[49m\u001b[43m,\u001b[49m\u001b[43m \u001b[49m\u001b[43mframe_stop\u001b[49m\u001b[43m,\u001b[49m\u001b[43m \u001b[49m\u001b[43mworker_ctx\u001b[49m\u001b[43m)\u001b[49m\n\u001b[1;32m    382\u001b[0m     \u001b[38;5;28;01mif\u001b[39;00m \u001b[38;5;28mself\u001b[39m\u001b[38;5;241m.\u001b[39mhandle_returns:\n\u001b[1;32m    383\u001b[0m         returns\u001b[38;5;241m.\u001b[39mappend(res)\n",
      "File \u001b[0;32m~/miniforge3/envs/kilosort_4_0_5/lib/python3.9/site-packages/spikeinterface/postprocessing/principal_component.py:661\u001b[0m, in \u001b[0;36m_all_pc_extractor_chunk\u001b[0;34m(segment_index, start_frame, end_frame, worker_ctx)\u001b[0m\n\u001b[1;32m    659\u001b[0m \u001b[38;5;28;01mif\u001b[39;00m w\u001b[38;5;241m.\u001b[39msize \u001b[38;5;241m>\u001b[39m \u001b[38;5;241m0\u001b[39m:\n\u001b[1;32m    660\u001b[0m     w \u001b[38;5;241m=\u001b[39m w[\u001b[38;5;28;01mNone\u001b[39;00m, :]\n\u001b[0;32m--> 661\u001b[0m     all_pcs[i, :, c] \u001b[38;5;241m=\u001b[39m \u001b[43mpca_model\u001b[49m\u001b[43m[\u001b[49m\u001b[43mchan_ind\u001b[49m\u001b[43m]\u001b[49m\u001b[38;5;241;43m.\u001b[39;49m\u001b[43mtransform\u001b[49m\u001b[43m(\u001b[49m\u001b[43mw\u001b[49m\u001b[43m)\u001b[49m\n",
      "File \u001b[0;32m~/miniforge3/envs/kilosort_4_0_5/lib/python3.9/site-packages/sklearn/utils/_set_output.py:295\u001b[0m, in \u001b[0;36m_wrap_method_output.<locals>.wrapped\u001b[0;34m(self, X, *args, **kwargs)\u001b[0m\n\u001b[1;32m    293\u001b[0m \u001b[38;5;129m@wraps\u001b[39m(f)\n\u001b[1;32m    294\u001b[0m \u001b[38;5;28;01mdef\u001b[39;00m \u001b[38;5;21mwrapped\u001b[39m(\u001b[38;5;28mself\u001b[39m, X, \u001b[38;5;241m*\u001b[39margs, \u001b[38;5;241m*\u001b[39m\u001b[38;5;241m*\u001b[39mkwargs):\n\u001b[0;32m--> 295\u001b[0m     data_to_wrap \u001b[38;5;241m=\u001b[39m \u001b[43mf\u001b[49m\u001b[43m(\u001b[49m\u001b[38;5;28;43mself\u001b[39;49m\u001b[43m,\u001b[49m\u001b[43m \u001b[49m\u001b[43mX\u001b[49m\u001b[43m,\u001b[49m\u001b[43m \u001b[49m\u001b[38;5;241;43m*\u001b[39;49m\u001b[43margs\u001b[49m\u001b[43m,\u001b[49m\u001b[43m \u001b[49m\u001b[38;5;241;43m*\u001b[39;49m\u001b[38;5;241;43m*\u001b[39;49m\u001b[43mkwargs\u001b[49m\u001b[43m)\u001b[49m\n\u001b[1;32m    296\u001b[0m     \u001b[38;5;28;01mif\u001b[39;00m \u001b[38;5;28misinstance\u001b[39m(data_to_wrap, \u001b[38;5;28mtuple\u001b[39m):\n\u001b[1;32m    297\u001b[0m         \u001b[38;5;66;03m# only wrap the first output for cross decomposition\u001b[39;00m\n\u001b[1;32m    298\u001b[0m         return_tuple \u001b[38;5;241m=\u001b[39m (\n\u001b[1;32m    299\u001b[0m             _wrap_data_with_container(method, data_to_wrap[\u001b[38;5;241m0\u001b[39m], X, \u001b[38;5;28mself\u001b[39m),\n\u001b[1;32m    300\u001b[0m             \u001b[38;5;241m*\u001b[39mdata_to_wrap[\u001b[38;5;241m1\u001b[39m:],\n\u001b[1;32m    301\u001b[0m         )\n",
      "File \u001b[0;32m~/miniforge3/envs/kilosort_4_0_5/lib/python3.9/site-packages/sklearn/decomposition/_incremental_pca.py:409\u001b[0m, in \u001b[0;36mIncrementalPCA.transform\u001b[0;34m(self, X)\u001b[0m\n\u001b[1;32m    407\u001b[0m     \u001b[38;5;28;01mreturn\u001b[39;00m np\u001b[38;5;241m.\u001b[39mvstack(output)\n\u001b[1;32m    408\u001b[0m \u001b[38;5;28;01melse\u001b[39;00m:\n\u001b[0;32m--> 409\u001b[0m     \u001b[38;5;28;01mreturn\u001b[39;00m \u001b[38;5;28;43msuper\u001b[39;49m\u001b[43m(\u001b[49m\u001b[43m)\u001b[49m\u001b[38;5;241;43m.\u001b[39;49m\u001b[43mtransform\u001b[49m\u001b[43m(\u001b[49m\u001b[43mX\u001b[49m\u001b[43m)\u001b[49m\n",
      "File \u001b[0;32m~/miniforge3/envs/kilosort_4_0_5/lib/python3.9/site-packages/sklearn/utils/_set_output.py:295\u001b[0m, in \u001b[0;36m_wrap_method_output.<locals>.wrapped\u001b[0;34m(self, X, *args, **kwargs)\u001b[0m\n\u001b[1;32m    293\u001b[0m \u001b[38;5;129m@wraps\u001b[39m(f)\n\u001b[1;32m    294\u001b[0m \u001b[38;5;28;01mdef\u001b[39;00m \u001b[38;5;21mwrapped\u001b[39m(\u001b[38;5;28mself\u001b[39m, X, \u001b[38;5;241m*\u001b[39margs, \u001b[38;5;241m*\u001b[39m\u001b[38;5;241m*\u001b[39mkwargs):\n\u001b[0;32m--> 295\u001b[0m     data_to_wrap \u001b[38;5;241m=\u001b[39m \u001b[43mf\u001b[49m\u001b[43m(\u001b[49m\u001b[38;5;28;43mself\u001b[39;49m\u001b[43m,\u001b[49m\u001b[43m \u001b[49m\u001b[43mX\u001b[49m\u001b[43m,\u001b[49m\u001b[43m \u001b[49m\u001b[38;5;241;43m*\u001b[39;49m\u001b[43margs\u001b[49m\u001b[43m,\u001b[49m\u001b[43m \u001b[49m\u001b[38;5;241;43m*\u001b[39;49m\u001b[38;5;241;43m*\u001b[39;49m\u001b[43mkwargs\u001b[49m\u001b[43m)\u001b[49m\n\u001b[1;32m    296\u001b[0m     \u001b[38;5;28;01mif\u001b[39;00m \u001b[38;5;28misinstance\u001b[39m(data_to_wrap, \u001b[38;5;28mtuple\u001b[39m):\n\u001b[1;32m    297\u001b[0m         \u001b[38;5;66;03m# only wrap the first output for cross decomposition\u001b[39;00m\n\u001b[1;32m    298\u001b[0m         return_tuple \u001b[38;5;241m=\u001b[39m (\n\u001b[1;32m    299\u001b[0m             _wrap_data_with_container(method, data_to_wrap[\u001b[38;5;241m0\u001b[39m], X, \u001b[38;5;28mself\u001b[39m),\n\u001b[1;32m    300\u001b[0m             \u001b[38;5;241m*\u001b[39mdata_to_wrap[\u001b[38;5;241m1\u001b[39m:],\n\u001b[1;32m    301\u001b[0m         )\n",
      "File \u001b[0;32m~/miniforge3/envs/kilosort_4_0_5/lib/python3.9/site-packages/sklearn/decomposition/_base.py:145\u001b[0m, in \u001b[0;36m_BasePCA.transform\u001b[0;34m(self, X)\u001b[0m\n\u001b[1;32m    141\u001b[0m xp, _ \u001b[38;5;241m=\u001b[39m get_namespace(X)\n\u001b[1;32m    143\u001b[0m check_is_fitted(\u001b[38;5;28mself\u001b[39m)\n\u001b[0;32m--> 145\u001b[0m X \u001b[38;5;241m=\u001b[39m \u001b[38;5;28;43mself\u001b[39;49m\u001b[38;5;241;43m.\u001b[39;49m\u001b[43m_validate_data\u001b[49m\u001b[43m(\u001b[49m\n\u001b[1;32m    146\u001b[0m \u001b[43m    \u001b[49m\u001b[43mX\u001b[49m\u001b[43m,\u001b[49m\u001b[43m \u001b[49m\u001b[43maccept_sparse\u001b[49m\u001b[38;5;241;43m=\u001b[39;49m\u001b[43m(\u001b[49m\u001b[38;5;124;43m\"\u001b[39;49m\u001b[38;5;124;43mcsr\u001b[39;49m\u001b[38;5;124;43m\"\u001b[39;49m\u001b[43m,\u001b[49m\u001b[43m \u001b[49m\u001b[38;5;124;43m\"\u001b[39;49m\u001b[38;5;124;43mcsc\u001b[39;49m\u001b[38;5;124;43m\"\u001b[39;49m\u001b[43m)\u001b[49m\u001b[43m,\u001b[49m\u001b[43m \u001b[49m\u001b[43mdtype\u001b[49m\u001b[38;5;241;43m=\u001b[39;49m\u001b[43m[\u001b[49m\u001b[43mxp\u001b[49m\u001b[38;5;241;43m.\u001b[39;49m\u001b[43mfloat64\u001b[49m\u001b[43m,\u001b[49m\u001b[43m \u001b[49m\u001b[43mxp\u001b[49m\u001b[38;5;241;43m.\u001b[39;49m\u001b[43mfloat32\u001b[49m\u001b[43m]\u001b[49m\u001b[43m,\u001b[49m\u001b[43m \u001b[49m\u001b[43mreset\u001b[49m\u001b[38;5;241;43m=\u001b[39;49m\u001b[38;5;28;43;01mFalse\u001b[39;49;00m\n\u001b[1;32m    147\u001b[0m \u001b[43m\u001b[49m\u001b[43m)\u001b[49m\n\u001b[1;32m    148\u001b[0m \u001b[38;5;28;01mif\u001b[39;00m \u001b[38;5;28mself\u001b[39m\u001b[38;5;241m.\u001b[39mmean_ \u001b[38;5;129;01mis\u001b[39;00m \u001b[38;5;129;01mnot\u001b[39;00m \u001b[38;5;28;01mNone\u001b[39;00m:\n\u001b[1;32m    149\u001b[0m     \u001b[38;5;28;01mif\u001b[39;00m issparse(X):\n",
      "File \u001b[0;32m~/miniforge3/envs/kilosort_4_0_5/lib/python3.9/site-packages/sklearn/base.py:633\u001b[0m, in \u001b[0;36mBaseEstimator._validate_data\u001b[0;34m(self, X, y, reset, validate_separately, cast_to_ndarray, **check_params)\u001b[0m\n\u001b[1;32m    631\u001b[0m         out \u001b[38;5;241m=\u001b[39m X, y\n\u001b[1;32m    632\u001b[0m \u001b[38;5;28;01melif\u001b[39;00m \u001b[38;5;129;01mnot\u001b[39;00m no_val_X \u001b[38;5;129;01mand\u001b[39;00m no_val_y:\n\u001b[0;32m--> 633\u001b[0m     out \u001b[38;5;241m=\u001b[39m \u001b[43mcheck_array\u001b[49m\u001b[43m(\u001b[49m\u001b[43mX\u001b[49m\u001b[43m,\u001b[49m\u001b[43m \u001b[49m\u001b[43minput_name\u001b[49m\u001b[38;5;241;43m=\u001b[39;49m\u001b[38;5;124;43m\"\u001b[39;49m\u001b[38;5;124;43mX\u001b[39;49m\u001b[38;5;124;43m\"\u001b[39;49m\u001b[43m,\u001b[49m\u001b[43m \u001b[49m\u001b[38;5;241;43m*\u001b[39;49m\u001b[38;5;241;43m*\u001b[39;49m\u001b[43mcheck_params\u001b[49m\u001b[43m)\u001b[49m\n\u001b[1;32m    634\u001b[0m \u001b[38;5;28;01melif\u001b[39;00m no_val_X \u001b[38;5;129;01mand\u001b[39;00m \u001b[38;5;129;01mnot\u001b[39;00m no_val_y:\n\u001b[1;32m    635\u001b[0m     out \u001b[38;5;241m=\u001b[39m _check_y(y, \u001b[38;5;241m*\u001b[39m\u001b[38;5;241m*\u001b[39mcheck_params)\n",
      "File \u001b[0;32m~/miniforge3/envs/kilosort_4_0_5/lib/python3.9/site-packages/sklearn/utils/validation.py:1049\u001b[0m, in \u001b[0;36mcheck_array\u001b[0;34m(array, accept_sparse, accept_large_sparse, dtype, order, copy, force_all_finite, ensure_2d, allow_nd, ensure_min_samples, ensure_min_features, estimator, input_name)\u001b[0m\n\u001b[1;32m   1043\u001b[0m     \u001b[38;5;28;01mraise\u001b[39;00m \u001b[38;5;167;01mValueError\u001b[39;00m(\n\u001b[1;32m   1044\u001b[0m         \u001b[38;5;124m\"\u001b[39m\u001b[38;5;124mFound array with dim \u001b[39m\u001b[38;5;132;01m%d\u001b[39;00m\u001b[38;5;124m. \u001b[39m\u001b[38;5;132;01m%s\u001b[39;00m\u001b[38;5;124m expected <= 2.\u001b[39m\u001b[38;5;124m\"\u001b[39m\n\u001b[1;32m   1045\u001b[0m         \u001b[38;5;241m%\u001b[39m (array\u001b[38;5;241m.\u001b[39mndim, estimator_name)\n\u001b[1;32m   1046\u001b[0m     )\n\u001b[1;32m   1048\u001b[0m \u001b[38;5;28;01mif\u001b[39;00m force_all_finite:\n\u001b[0;32m-> 1049\u001b[0m     \u001b[43m_assert_all_finite\u001b[49m\u001b[43m(\u001b[49m\n\u001b[1;32m   1050\u001b[0m \u001b[43m        \u001b[49m\u001b[43marray\u001b[49m\u001b[43m,\u001b[49m\n\u001b[1;32m   1051\u001b[0m \u001b[43m        \u001b[49m\u001b[43minput_name\u001b[49m\u001b[38;5;241;43m=\u001b[39;49m\u001b[43minput_name\u001b[49m\u001b[43m,\u001b[49m\n\u001b[1;32m   1052\u001b[0m \u001b[43m        \u001b[49m\u001b[43mestimator_name\u001b[49m\u001b[38;5;241;43m=\u001b[39;49m\u001b[43mestimator_name\u001b[49m\u001b[43m,\u001b[49m\n\u001b[1;32m   1053\u001b[0m \u001b[43m        \u001b[49m\u001b[43mallow_nan\u001b[49m\u001b[38;5;241;43m=\u001b[39;49m\u001b[43mforce_all_finite\u001b[49m\u001b[43m \u001b[49m\u001b[38;5;241;43m==\u001b[39;49m\u001b[43m \u001b[49m\u001b[38;5;124;43m\"\u001b[39;49m\u001b[38;5;124;43mallow-nan\u001b[39;49m\u001b[38;5;124;43m\"\u001b[39;49m\u001b[43m,\u001b[49m\n\u001b[1;32m   1054\u001b[0m \u001b[43m    \u001b[49m\u001b[43m)\u001b[49m\n\u001b[1;32m   1056\u001b[0m \u001b[38;5;28;01mif\u001b[39;00m copy:\n\u001b[1;32m   1057\u001b[0m     \u001b[38;5;28;01mif\u001b[39;00m _is_numpy_namespace(xp):\n\u001b[1;32m   1058\u001b[0m         \u001b[38;5;66;03m# only make a copy if `array` and `array_orig` may share memory`\u001b[39;00m\n",
      "File \u001b[0;32m~/miniforge3/envs/kilosort_4_0_5/lib/python3.9/site-packages/sklearn/utils/validation.py:114\u001b[0m, in \u001b[0;36m_assert_all_finite\u001b[0;34m(X, allow_nan, msg_dtype, estimator_name, input_name)\u001b[0m\n\u001b[1;32m    111\u001b[0m         \u001b[38;5;28;01mraise\u001b[39;00m \u001b[38;5;167;01mValueError\u001b[39;00m(\u001b[38;5;124m\"\u001b[39m\u001b[38;5;124mInput contains NaN\u001b[39m\u001b[38;5;124m\"\u001b[39m)\n\u001b[1;32m    113\u001b[0m \u001b[38;5;66;03m# We need only consider float arrays, hence can early return for all else.\u001b[39;00m\n\u001b[0;32m--> 114\u001b[0m \u001b[38;5;28;01mif\u001b[39;00m \u001b[38;5;129;01mnot\u001b[39;00m \u001b[43mxp\u001b[49m\u001b[38;5;241;43m.\u001b[39;49m\u001b[43misdtype\u001b[49m\u001b[43m(\u001b[49m\u001b[43mX\u001b[49m\u001b[38;5;241;43m.\u001b[39;49m\u001b[43mdtype\u001b[49m\u001b[43m,\u001b[49m\u001b[43m \u001b[49m\u001b[43m(\u001b[49m\u001b[38;5;124;43m\"\u001b[39;49m\u001b[38;5;124;43mreal floating\u001b[39;49m\u001b[38;5;124;43m\"\u001b[39;49m\u001b[43m,\u001b[49m\u001b[43m \u001b[49m\u001b[38;5;124;43m\"\u001b[39;49m\u001b[38;5;124;43mcomplex floating\u001b[39;49m\u001b[38;5;124;43m\"\u001b[39;49m\u001b[43m)\u001b[49m\u001b[43m)\u001b[49m:\n\u001b[1;32m    115\u001b[0m     \u001b[38;5;28;01mreturn\u001b[39;00m\n\u001b[1;32m    117\u001b[0m \u001b[38;5;66;03m# First try an O(n) time, O(1) space solution for the common case that\u001b[39;00m\n\u001b[1;32m    118\u001b[0m \u001b[38;5;66;03m# everything is finite; fall back to O(n) space `np.isinf/isnan` or custom\u001b[39;00m\n\u001b[1;32m    119\u001b[0m \u001b[38;5;66;03m# Cython implementation to prevent false positives and provide a detailed\u001b[39;00m\n\u001b[1;32m    120\u001b[0m \u001b[38;5;66;03m# error message.\u001b[39;00m\n",
      "File \u001b[0;32m~/miniforge3/envs/kilosort_4_0_5/lib/python3.9/site-packages/sklearn/utils/_array_api.py:328\u001b[0m, in \u001b[0;36m_NumPyAPIWrapper.isdtype\u001b[0;34m(self, dtype, kind)\u001b[0m\n\u001b[1;32m    327\u001b[0m \u001b[38;5;28;01mdef\u001b[39;00m \u001b[38;5;21misdtype\u001b[39m(\u001b[38;5;28mself\u001b[39m, dtype, kind):\n\u001b[0;32m--> 328\u001b[0m     \u001b[38;5;28;01mreturn\u001b[39;00m \u001b[43misdtype\u001b[49m\u001b[43m(\u001b[49m\u001b[43mdtype\u001b[49m\u001b[43m,\u001b[49m\u001b[43m \u001b[49m\u001b[43mkind\u001b[49m\u001b[43m,\u001b[49m\u001b[43m \u001b[49m\u001b[43mxp\u001b[49m\u001b[38;5;241;43m=\u001b[39;49m\u001b[38;5;28;43mself\u001b[39;49m\u001b[43m)\u001b[49m\n",
      "File \u001b[0;32m~/miniforge3/envs/kilosort_4_0_5/lib/python3.9/site-packages/sklearn/utils/_array_api.py:130\u001b[0m, in \u001b[0;36misdtype\u001b[0;34m(dtype, kind, xp)\u001b[0m\n\u001b[1;32m    124\u001b[0m \u001b[38;5;250m\u001b[39m\u001b[38;5;124;03m\"\"\"Returns a boolean indicating whether a provided dtype is of type \"kind\".\u001b[39;00m\n\u001b[1;32m    125\u001b[0m \n\u001b[1;32m    126\u001b[0m \u001b[38;5;124;03mIncluded in the v2022.12 of the Array API spec.\u001b[39;00m\n\u001b[1;32m    127\u001b[0m \u001b[38;5;124;03mhttps://data-apis.org/array-api/latest/API_specification/generated/array_api.isdtype.html\u001b[39;00m\n\u001b[1;32m    128\u001b[0m \u001b[38;5;124;03m\"\"\"\u001b[39;00m\n\u001b[1;32m    129\u001b[0m \u001b[38;5;28;01mif\u001b[39;00m \u001b[38;5;28misinstance\u001b[39m(kind, \u001b[38;5;28mtuple\u001b[39m):\n\u001b[0;32m--> 130\u001b[0m     \u001b[38;5;28;01mreturn\u001b[39;00m \u001b[38;5;28;43many\u001b[39;49m\u001b[43m(\u001b[49m\u001b[43m_isdtype_single\u001b[49m\u001b[43m(\u001b[49m\u001b[43mdtype\u001b[49m\u001b[43m,\u001b[49m\u001b[43m \u001b[49m\u001b[43mk\u001b[49m\u001b[43m,\u001b[49m\u001b[43m \u001b[49m\u001b[43mxp\u001b[49m\u001b[38;5;241;43m=\u001b[39;49m\u001b[43mxp\u001b[49m\u001b[43m)\u001b[49m\u001b[43m \u001b[49m\u001b[38;5;28;43;01mfor\u001b[39;49;00m\u001b[43m \u001b[49m\u001b[43mk\u001b[49m\u001b[43m \u001b[49m\u001b[38;5;129;43;01min\u001b[39;49;00m\u001b[43m \u001b[49m\u001b[43mkind\u001b[49m\u001b[43m)\u001b[49m\n\u001b[1;32m    131\u001b[0m \u001b[38;5;28;01melse\u001b[39;00m:\n\u001b[1;32m    132\u001b[0m     \u001b[38;5;28;01mreturn\u001b[39;00m _isdtype_single(dtype, kind, xp\u001b[38;5;241m=\u001b[39mxp)\n",
      "File \u001b[0;32m~/miniforge3/envs/kilosort_4_0_5/lib/python3.9/site-packages/sklearn/utils/_array_api.py:130\u001b[0m, in \u001b[0;36m<genexpr>\u001b[0;34m(.0)\u001b[0m\n\u001b[1;32m    124\u001b[0m \u001b[38;5;250m\u001b[39m\u001b[38;5;124;03m\"\"\"Returns a boolean indicating whether a provided dtype is of type \"kind\".\u001b[39;00m\n\u001b[1;32m    125\u001b[0m \n\u001b[1;32m    126\u001b[0m \u001b[38;5;124;03mIncluded in the v2022.12 of the Array API spec.\u001b[39;00m\n\u001b[1;32m    127\u001b[0m \u001b[38;5;124;03mhttps://data-apis.org/array-api/latest/API_specification/generated/array_api.isdtype.html\u001b[39;00m\n\u001b[1;32m    128\u001b[0m \u001b[38;5;124;03m\"\"\"\u001b[39;00m\n\u001b[1;32m    129\u001b[0m \u001b[38;5;28;01mif\u001b[39;00m \u001b[38;5;28misinstance\u001b[39m(kind, \u001b[38;5;28mtuple\u001b[39m):\n\u001b[0;32m--> 130\u001b[0m     \u001b[38;5;28;01mreturn\u001b[39;00m \u001b[38;5;28many\u001b[39m(_isdtype_single(dtype, k, xp\u001b[38;5;241m=\u001b[39mxp) \u001b[38;5;28;01mfor\u001b[39;00m k \u001b[38;5;129;01min\u001b[39;00m kind)\n\u001b[1;32m    131\u001b[0m \u001b[38;5;28;01melse\u001b[39;00m:\n\u001b[1;32m    132\u001b[0m     \u001b[38;5;28;01mreturn\u001b[39;00m _isdtype_single(dtype, kind, xp\u001b[38;5;241m=\u001b[39mxp)\n",
      "\u001b[0;31mKeyboardInterrupt\u001b[0m: "
     ]
    }
   ],
   "source": [
    "successful_files = [] \n",
    "failed_files = []\n",
    "\n",
    "for recording_file in all_recording_files:\n",
    "    print(recording_file)\n",
    "    \n",
    "    recording_basename = os.path.basename(recording_file)\n",
    "    recording_output_directory = \"/scratch/back_up/reward_competition_extention/proc/spike_sorting/{}\".format(recording_basename)\n",
    "    os.makedirs(recording_output_directory, exist_ok=True)\n",
    "\n",
    "    print(\"Output directory: {}\".format(recording_output_directory))\n",
    "    \n",
    "    try:\n",
    "        with open('successful_files.txt', \"r\") as myfile:\n",
    "            if recording_basename in myfile.read():\n",
    "                warnings.warn(\"\"\"Directory already exists for: {}.\n",
    "                              Either continue on if you are satisfied with the previous run \n",
    "                              or delete the directory and run this cell again\"\"\".format(recording_basename))\n",
    "                continue\n",
    "    except:\n",
    "        pass\n",
    "    \n",
    "    try:\n",
    "        trodes_recording = se.read_spikegadgets(recording_file, stream_id=\"trodes\")       \n",
    "        trodes_recording = trodes_recording.set_probes(probe_object)\n",
    "        \n",
    "        clipped_recording: si.BaseRecording = sp.resample(trodes_recording, resample_rate=20000, dtype=np.float32)\n",
    "\n",
    "        child_spikesorting_output_directory = os.path.join(recording_output_directory,\"ss_output\")\n",
    "               \n",
    "        start = time.time()\n",
    "        # Make sure the recording is preprocessed appropriately\n",
    "        # lazy preprocessing\n",
    "        print(\"Running bandpass filter\")\n",
    "        recording_filtered = sp.bandpass_filter(trodes_recording, freq_min=300, freq_max=6000, dtype=np.float32)\n",
    "\n",
    "        print(\"Running whitening\")\n",
    "        recording_preprocessed: si.BaseRecording = sp.whiten(recording_filtered, dtype=np.float32)\n",
    "                \n",
    "        print(\"Spike sorting\")\n",
    "        spike_sorted_object = ss.run_sorter(sorter_name=\"kilosort4\", \n",
    "                                            recording=clipped_recording,\n",
    "                                            skip_kilosort_preprocessing=False,\n",
    "                                            do_CAR=False,\n",
    "                                            do_correction=False,\n",
    "                                            nearest_chans=32,\n",
    "                                            nt= 41,\n",
    "                                            Th_universal = 9 + 2,\n",
    "                                            Th_learned = 8 + 2,\n",
    "                                            output_folder=child_spikesorting_output_directory\n",
    "                                            )\n",
    "                \n",
    "        shutil.rmtree(child_spikesorting_output_directory, ignore_errors=True)\n",
    "        spike_sorted_object.save(folder=child_spikesorting_output_directory)\n",
    "\n",
    "        sw.plot_rasters(spike_sorted_object)\n",
    "        plt.title(recording_basename)\n",
    "        plt.ylabel(\"Unit IDs\")\n",
    "        \n",
    "        plt.savefig(os.path.join(recording_output_directory, \"{}_raster_plot.png\".format(recording_basename)))\n",
    "        plt.close()\n",
    "        \n",
    "        print(\"Exporting waveforms\")\n",
    "        waveform_output_directory = os.path.join(recording_output_directory, \"waveforms\")\n",
    "        we_spike_sorted = si.extract_waveforms(\n",
    "            recording=recording_preprocessed, \n",
    "            sorting=spike_sorted_object, \n",
    "            folder=waveform_output_directory,\n",
    "            ms_before=1, \n",
    "            ms_after=1, \n",
    "            progress_bar=True,\n",
    "            n_jobs=-1, \n",
    "            total_memory=\"8G\", \n",
    "            overwrite=True,\n",
    "            max_spikes_per_unit=2000,\n",
    "            sparse=False)\n",
    "        \n",
    "        print(\"we_spike_sorted is sparse: {}\".format(we_spike_sorted.is_sparse()))\n",
    "        \n",
    "        print(\"Saving to phy\")\n",
    "        phy_output_directory = os.path.join(recording_output_directory, \"phy\")\n",
    "        export_to_phy(we_spike_sorted, \n",
    "                        phy_output_directory,\n",
    "                        compute_pc_features=True, \n",
    "                        compute_amplitudes=True, \n",
    "                        remove_if_exists=True)\n",
    "        \n",
    "        # edit the params.py file os that it contains the correct realtive path\n",
    "        params_path = os.path.join(phy_output_directory, \"params.py\")\n",
    "        with open(params_path, 'r') as file:\n",
    "            lines = file.readlines()\n",
    "        lines[0] = \"dat_path = r'./recording.dat'\\n\"\n",
    "        with open(params_path, 'w') as file:\n",
    "            file.writelines(lines)\n",
    "        \n",
    "        successful_files.append(recording_file)\n",
    "        with open('successful_files.txt', \"a+\") as fd:\n",
    "            fd.write(f'\\n{recording_basename}')                     \n",
    "\n",
    "    except Exception as e: \n",
    "        print(e)\n",
    "        failed_files.append(recording_file)"
   ]
  },
  {
   "cell_type": "code",
   "execution_count": null,
   "metadata": {},
   "outputs": [],
   "source": [
    "# successful_files = [] \n",
    "# failed_files = []\n",
    "\n",
    "# for recording_file in all_recording_files:\n",
    "#     print(recording_file)\n",
    "    \n",
    "#     recording_basename = os.path.basename(recording_file)\n",
    "#     recording_output_directory = \"/scratch/back_up/reward_competition_extention/proc/spike_sorting/{}\".format(recording_basename)\n",
    "#     os.makedirs(recording_output_directory, exist_ok=True)\n",
    "\n",
    "#     print(\"Output directory: {}\".format(recording_output_directory))\n",
    "    \n",
    "#     try:\n",
    "#         with open('successful_files.txt', \"r\") as myfile:\n",
    "#             if recording_basename in myfile.read():\n",
    "#                 warnings.warn(\"\"\"Directory already exists for: {}.\n",
    "#                               Either continue on if you are satisfied with the previous run \n",
    "#                               or delete the directory and run this cell again\"\"\".format(recording_basename))\n",
    "#                 continue\n",
    "#     except:\n",
    "#         pass\n",
    "    \n",
    "#     try:\n",
    "#         trodes_recording = se.read_spikegadgets(recording_file, stream_id=\"trodes\")       \n",
    "#         trodes_recording = trodes_recording.set_probes(probe_object)\n",
    "\n",
    "#         child_spikesorting_output_directory = os.path.join(recording_output_directory,\"ss_output\")\n",
    "               \n",
    "#         start = time.time()\n",
    "#         # Make sure the recording is preprocessed appropriately\n",
    "#         # lazy preprocessing\n",
    "#         print(\"Running bandpass filter\")\n",
    "#         recording_filtered = sp.bandpass_filter(trodes_recording, freq_min=300, freq_max=6000, dtype=np.float32)\n",
    "\n",
    "#         print(\"Running whitening\")\n",
    "#         recording_preprocessed: si.BaseRecording = sp.whiten(recording_filtered, dtype=np.float32)\n",
    "                \n",
    "#         print(\"Spike sorting\")\n",
    "#         spike_sorted_object = ss.run_sorter(sorter_name=\"kilosort4\", \n",
    "#                                             recording=recording_preprocessed,\n",
    "#                                             skip_kilosort_preprocessing=True,\n",
    "#                                             do_CAR=False,\n",
    "#                                             do_correction=False,\n",
    "#                                             output_folder=child_spikesorting_output_directory\n",
    "#                                             )\n",
    "                \n",
    "#         shutil.rmtree(child_spikesorting_output_directory, ignore_errors=True)\n",
    "#         spike_sorted_object.save(folder=child_spikesorting_output_directory)\n",
    "\n",
    "#         sw.plot_rasters(spike_sorted_object)\n",
    "#         plt.title(recording_basename)\n",
    "#         plt.ylabel(\"Unit IDs\")\n",
    "        \n",
    "#         plt.savefig(os.path.join(recording_output_directory, \"{}_raster_plot.png\".format(recording_basename)))\n",
    "#         plt.close()\n",
    "        \n",
    "#         print(\"Exporting waveforms\")\n",
    "#         waveform_output_directory = os.path.join(recording_output_directory, \"waveforms\")\n",
    "#         we_spike_sorted = si.extract_waveforms(\n",
    "#             recording=recording_preprocessed, \n",
    "#             sorting=spike_sorted_object, \n",
    "#             folder=waveform_output_directory,\n",
    "#             ms_before=1, \n",
    "#             ms_after=1, \n",
    "#             progress_bar=True,\n",
    "#             n_jobs=-1, \n",
    "#             total_memory=\"8G\", \n",
    "#             overwrite=True,\n",
    "#             max_spikes_per_unit=2000,\n",
    "#             sparse=False)\n",
    "        \n",
    "#         print(\"we_spike_sorted is sparse: {}\".format(we_spike_sorted.is_sparse()))\n",
    "        \n",
    "#         print(\"Saving to phy\")\n",
    "#         phy_output_directory = os.path.join(recording_output_directory, \"phy\")\n",
    "#         export_to_phy(we_spike_sorted, \n",
    "#                         phy_output_directory,\n",
    "#                         compute_pc_features=True, \n",
    "#                         compute_amplitudes=True, \n",
    "#                         remove_if_exists=True)\n",
    "        \n",
    "#         # edit the params.py file os that it contains the correct realtive path\n",
    "#         params_path = os.path.join(phy_output_directory, \"params.py\")\n",
    "#         with open(params_path, 'r') as file:\n",
    "#             lines = file.readlines()\n",
    "#         lines[0] = \"dat_path = r'./recording.dat'\\n\"\n",
    "#         with open(params_path, 'w') as file:\n",
    "#             file.writelines(lines)\n",
    "        \n",
    "#         successful_files.append(recording_file)\n",
    "#         with open('successful_files.txt', \"a+\") as fd:\n",
    "#             fd.write(f'\\n{recording_basename}')                     \n",
    "\n",
    "#     except Exception as e: \n",
    "#         print(e)\n",
    "#         failed_files.append(recording_file)\n"
   ]
  },
  {
   "cell_type": "code",
   "execution_count": null,
   "metadata": {},
   "outputs": [],
   "source": [
    "# successful_files = [] \n",
    "# failed_files = []\n",
    "\n",
    "# for recording_file in all_recording_files:\n",
    "#     print(recording_file)\n",
    "    \n",
    "#     recording_basename = os.path.basename(recording_file)\n",
    "#     recording_output_directory = \"/scratch/back_up/reward_competition_extention/proc/spike_sorting/{}\".format(recording_basename)\n",
    "#     os.makedirs(recording_output_directory, exist_ok=True)\n",
    "\n",
    "#     print(\"Output directory: {}\".format(recording_output_directory))\n",
    "    \n",
    "#     try:\n",
    "#         with open('successful_files.txt', \"r\") as myfile:\n",
    "#             if recording_basename in myfile.read():\n",
    "#                 warnings.warn(\"\"\"Directory already exists for: {}.\n",
    "#                               Either continue on if you are satisfied with the previous run \n",
    "#                               or delete the directory and run this cell again\"\"\".format(recording_basename))\n",
    "#                 continue\n",
    "#     except:\n",
    "#         pass\n",
    "    \n",
    "#     try:\n",
    "#         trodes_recording = se.read_spikegadgets(recording_file, stream_id=\"trodes\")       \n",
    "#         trodes_recording = trodes_recording.set_probes(probe_object)\n",
    "\n",
    "#         child_spikesorting_output_directory = os.path.join(recording_output_directory,\"ss_output\")\n",
    "               \n",
    "#         start = time.time()\n",
    "#         # Make sure the recording is preprocessed appropriately\n",
    "#         # lazy preprocessing\n",
    "#         print(\"Running bandpass filter\")\n",
    "#         recording_filtered = sp.bandpass_filter(trodes_recording, freq_min=300, freq_max=6000, dtype=np.float32)\n",
    "\n",
    "#         print(\"Running whitening\")\n",
    "#         recording_preprocessed: si.BaseRecording = sp.whiten(recording_filtered, dtype=np.float32)\n",
    "        \n",
    "#         with TemporaryDirectory() as tmpdir:\n",
    "#             # cache the recording to a temporary directory for efficient reading\n",
    "#             print(\"Caching the recording\")\n",
    "#             recording_cached = create_cached_recording(recording_preprocessed, folder=tmpdir)\n",
    "#             recording_cached = recording_cached.set_probes(probe_object)\n",
    "#             recording_cached.annotate(is_filtered=True)\n",
    "\n",
    "#             print(\"Spike sorting\")\n",
    "#             spike_sorted_object = ms5.sorting_scheme2(\n",
    "#                 recording=recording_cached,\n",
    "#                 sorting_parameters=ms5.Scheme2SortingParameters(\n",
    "#                     detect_sign=0,\n",
    "#                     phase1_detect_channel_radius=700,\n",
    "#                     detect_channel_radius=700,\n",
    "#                 # other parameters...\n",
    "#                 )\n",
    "#             )\n",
    "            \n",
    "#             assert isinstance(spike_sorted_object, si.BaseSorting)\n",
    "            \n",
    "#             shutil.rmtree(child_spikesorting_output_directory, ignore_errors=True)\n",
    "#             spike_sorted_object.save(folder=child_spikesorting_output_directory)\n",
    "\n",
    "#             sw.plot_rasters(spike_sorted_object)\n",
    "#             plt.title(recording_basename)\n",
    "#             plt.ylabel(\"Unit IDs\")\n",
    "            \n",
    "#             plt.savefig(os.path.join(recording_output_directory, \"{}_raster_plot.png\".format(recording_basename)))\n",
    "#             plt.close()\n",
    "            \n",
    "#             print(\"Exporting waveforms\")\n",
    "#             waveform_output_directory = os.path.join(recording_output_directory, \"waveforms\")\n",
    "#             we_spike_sorted = si.extract_waveforms(\n",
    "#                 recording=recording_cached, \n",
    "#                 sorting=spike_sorted_object, \n",
    "#                 folder=waveform_output_directory,\n",
    "#                 ms_before=1, \n",
    "#                 ms_after=1, \n",
    "#                 progress_bar=True,\n",
    "#                 n_jobs=-1, \n",
    "#                 total_memory=\"8G\", \n",
    "#                 overwrite=True,\n",
    "#                 max_spikes_per_unit=2000,\n",
    "#                 sparse=False)\n",
    "            \n",
    "#             print(\"we_spike_sorted is sparse: {}\".format(we_spike_sorted.is_sparse()))\n",
    "            \n",
    "#             print(\"Saving to phy\")\n",
    "#             phy_output_directory = os.path.join(recording_output_directory, \"phy\")\n",
    "#             export_to_phy(we_spike_sorted, \n",
    "#                             phy_output_directory,\n",
    "#                             compute_pc_features=True, \n",
    "#                             compute_amplitudes=True, \n",
    "#                             remove_if_exists=True)\n",
    "            \n",
    "#             # edit the params.py file os that it contains the correct realtive path\n",
    "#             params_path = os.path.join(phy_output_directory, \"params.py\")\n",
    "#             with open(params_path, 'r') as file:\n",
    "#                 lines = file.readlines()\n",
    "#             lines[0] = \"dat_path = r'./recording.dat'\\n\"\n",
    "#             with open(params_path, 'w') as file:\n",
    "#                 file.writelines(lines)\n",
    "            \n",
    "#             successful_files.append(recording_file)\n",
    "#             with open('successful_files.txt', \"a+\") as fd:\n",
    "#                 fd.write(f'\\n{recording_basename}')                     \n",
    "\n",
    "#     except Exception as e: \n",
    "#         print(e)\n",
    "#         failed_files.append(recording_file)\n"
   ]
  },
  {
   "cell_type": "code",
   "execution_count": null,
   "metadata": {},
   "outputs": [],
   "source": [
    "raise ValueError()"
   ]
  },
  {
   "cell_type": "code",
   "execution_count": null,
   "metadata": {},
   "outputs": [],
   "source": []
  }
 ],
 "metadata": {
  "kernelspec": {
   "display_name": "Python 3 (ipykernel)",
   "language": "python",
   "name": "python3"
  },
  "language_info": {
   "codemirror_mode": {
    "name": "ipython",
    "version": 3
   },
   "file_extension": ".py",
   "mimetype": "text/x-python",
   "name": "python",
   "nbconvert_exporter": "python",
   "pygments_lexer": "ipython3",
   "version": "3.9.19"
  },
  "vscode": {
   "interpreter": {
    "hash": "916dbcbb3f70747c44a77c7bcd40155683ae19c65e1c03b4aa3499c5328201f1"
   }
  }
 },
 "nbformat": 4,
 "nbformat_minor": 1
}
