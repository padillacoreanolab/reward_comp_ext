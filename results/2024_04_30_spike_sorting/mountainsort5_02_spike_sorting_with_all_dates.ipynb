{
 "cells": [
  {
   "cell_type": "code",
   "execution_count": 1,
   "metadata": {},
   "outputs": [],
   "source": [
    "%matplotlib inline"
   ]
  },
  {
   "cell_type": "markdown",
   "metadata": {},
   "source": [
    "# Preprocessing and Spike Sorting Tutorial"
   ]
  },
  {
   "cell_type": "markdown",
   "metadata": {},
   "source": [
    "- In this introductory example, you will see how to use the :code:`spikeinterface` to perform a full electrophysiology analysis.\n",
    "- We will first create some simulated data, and we will then perform some pre-processing, run a couple of spike sorting algorithms, inspect and validate the results, export to Phy, and compare spike sorters.\n"
   ]
  },
  {
   "cell_type": "code",
   "execution_count": 2,
   "metadata": {},
   "outputs": [
    {
     "name": "stderr",
     "output_type": "stream",
     "text": [
      "/tmp/ipykernel_233055/817599657.py:6: DeprecationWarning: the imp module is deprecated in favour of importlib and slated for removal in Python 3.12; see the module's documentation for alternative uses\n",
      "  import imp\n"
     ]
    }
   ],
   "source": [
    "import os\n",
    "import pickle\n",
    "import _pickle as cPickle\n",
    "import glob\n",
    "import warnings\n",
    "import imp"
   ]
  },
  {
   "cell_type": "code",
   "execution_count": 3,
   "metadata": {},
   "outputs": [],
   "source": [
    "from collections import defaultdict\n",
    "import time\n",
    "import json\n",
    "from datetime import datetime"
   ]
  },
  {
   "cell_type": "code",
   "execution_count": 4,
   "metadata": {},
   "outputs": [],
   "source": [
    "import matplotlib.pyplot as plt\n",
    "from matplotlib.pyplot import cm\n",
    "import numpy as np\n",
    "import pandas as pd\n",
    "import scipy.signal"
   ]
  },
  {
   "cell_type": "code",
   "execution_count": 5,
   "metadata": {},
   "outputs": [
    {
     "data": {
      "text/plain": [
       "<Figure size 640x480 with 0 Axes>"
      ]
     },
     "execution_count": 5,
     "metadata": {},
     "output_type": "execute_result"
    },
    {
     "data": {
      "text/plain": [
       "<Figure size 640x480 with 0 Axes>"
      ]
     },
     "metadata": {},
     "output_type": "display_data"
    }
   ],
   "source": [
    "# Changing the figure size\n",
    "from matplotlib.pyplot import figure\n",
    "figure(figsize=(8, 6), dpi=80)"
   ]
  },
  {
   "cell_type": "markdown",
   "metadata": {},
   "source": [
    "The spikeinterface module by itself import only the spikeinterface.core submodule\n",
    "which is not useful for end user\n",
    "\n"
   ]
  },
  {
   "cell_type": "code",
   "execution_count": 6,
   "metadata": {},
   "outputs": [],
   "source": [
    "import spikeinterface"
   ]
  },
  {
   "cell_type": "markdown",
   "metadata": {},
   "source": [
    "We need to import one by one different submodules separately (preferred).\n",
    "There are 5 modules:\n",
    "\n",
    "- :code:`extractors` : file IO\n",
    "- :code:`toolkit` : processing toolkit for pre-, post-processing, validation, and automatic curation\n",
    "- :code:`sorters` : Python wrappers of spike sorters\n",
    "- :code:`comparison` : comparison of spike sorting output\n",
    "- :code:`widgets` : visualization\n",
    "\n"
   ]
  },
  {
   "cell_type": "code",
   "execution_count": 7,
   "metadata": {},
   "outputs": [],
   "source": [
    "import spikeinterface as si  # import core only\n",
    "import spikeinterface.extractors as se\n",
    "import spikeinterface.sorters as ss\n",
    "import spikeinterface.preprocessing as sp\n",
    "\n",
    "import spikeinterface.comparison as sc\n",
    "import spikeinterface.widgets as sw\n",
    "from spikeinterface.exporters import export_to_phy"
   ]
  },
  {
   "cell_type": "code",
   "execution_count": 8,
   "metadata": {},
   "outputs": [],
   "source": [
    "import spikeinterface.core"
   ]
  },
  {
   "cell_type": "code",
   "execution_count": 9,
   "metadata": {},
   "outputs": [],
   "source": [
    "from probeinterface import get_probe\n",
    "from probeinterface.plotting import plot_probe, plot_probe_group\n",
    "from probeinterface import write_prb, read_prb"
   ]
  },
  {
   "cell_type": "code",
   "execution_count": 10,
   "metadata": {},
   "outputs": [],
   "source": [
    "import mountainsort5 as ms5"
   ]
  },
  {
   "cell_type": "code",
   "execution_count": 11,
   "metadata": {},
   "outputs": [],
   "source": [
    "from tempfile import TemporaryDirectory\n",
    "from mountainsort5.util import create_cached_recording"
   ]
  },
  {
   "cell_type": "markdown",
   "metadata": {},
   "source": [
    "We can also import all submodules at once with this\n",
    "  this internally import core+extractors+toolkit+sorters+comparison+widgets+exporters\n",
    "\n",
    "This is useful for notebooks but this is a more heavy import because internally many more dependency\n",
    "are imported (scipy/sklearn/networkx/matplotlib/h5py...)\n",
    "\n"
   ]
  },
  {
   "cell_type": "code",
   "execution_count": 12,
   "metadata": {},
   "outputs": [],
   "source": [
    "import spikeinterface.full as si"
   ]
  },
  {
   "cell_type": "code",
   "execution_count": 13,
   "metadata": {},
   "outputs": [],
   "source": [
    "# Increase size of plot in jupyter\n",
    "\n",
    "plt.rcParams[\"figure.figsize\"] = (10,6)"
   ]
  },
  {
   "cell_type": "markdown",
   "metadata": {},
   "source": [
    "# Part 0: Loading in the Probe"
   ]
  },
  {
   "cell_type": "markdown",
   "metadata": {},
   "source": [
    "- Reading in the probe information into Spike interface and plotting the probe"
   ]
  },
  {
   "cell_type": "code",
   "execution_count": 14,
   "metadata": {},
   "outputs": [],
   "source": [
    "probe_object = read_prb(\"./linear_probe_with_large_spaces.prb\")"
   ]
  },
  {
   "cell_type": "code",
   "execution_count": 15,
   "metadata": {},
   "outputs": [
    {
     "data": {
      "text/html": [
       "<div>\n",
       "<style scoped>\n",
       "    .dataframe tbody tr th:only-of-type {\n",
       "        vertical-align: middle;\n",
       "    }\n",
       "\n",
       "    .dataframe tbody tr th {\n",
       "        vertical-align: top;\n",
       "    }\n",
       "\n",
       "    .dataframe thead th {\n",
       "        text-align: right;\n",
       "    }\n",
       "</style>\n",
       "<table border=\"1\" class=\"dataframe\">\n",
       "  <thead>\n",
       "    <tr style=\"text-align: right;\">\n",
       "      <th></th>\n",
       "      <th>probe_index</th>\n",
       "      <th>x</th>\n",
       "      <th>y</th>\n",
       "      <th>contact_shapes</th>\n",
       "      <th>radius</th>\n",
       "      <th>shank_ids</th>\n",
       "      <th>contact_ids</th>\n",
       "    </tr>\n",
       "  </thead>\n",
       "  <tbody>\n",
       "    <tr>\n",
       "      <th>0</th>\n",
       "      <td>0</td>\n",
       "      <td>0.0</td>\n",
       "      <td>0.0</td>\n",
       "      <td>circle</td>\n",
       "      <td>5.0</td>\n",
       "      <td></td>\n",
       "      <td></td>\n",
       "    </tr>\n",
       "    <tr>\n",
       "      <th>1</th>\n",
       "      <td>0</td>\n",
       "      <td>5.0</td>\n",
       "      <td>20.0</td>\n",
       "      <td>circle</td>\n",
       "      <td>5.0</td>\n",
       "      <td></td>\n",
       "      <td></td>\n",
       "    </tr>\n",
       "    <tr>\n",
       "      <th>2</th>\n",
       "      <td>0</td>\n",
       "      <td>-7.0</td>\n",
       "      <td>40.0</td>\n",
       "      <td>circle</td>\n",
       "      <td>5.0</td>\n",
       "      <td></td>\n",
       "      <td></td>\n",
       "    </tr>\n",
       "    <tr>\n",
       "      <th>3</th>\n",
       "      <td>0</td>\n",
       "      <td>9.0</td>\n",
       "      <td>60.0</td>\n",
       "      <td>circle</td>\n",
       "      <td>5.0</td>\n",
       "      <td></td>\n",
       "      <td></td>\n",
       "    </tr>\n",
       "    <tr>\n",
       "      <th>4</th>\n",
       "      <td>0</td>\n",
       "      <td>-11.0</td>\n",
       "      <td>80.0</td>\n",
       "      <td>circle</td>\n",
       "      <td>5.0</td>\n",
       "      <td></td>\n",
       "      <td></td>\n",
       "    </tr>\n",
       "    <tr>\n",
       "      <th>5</th>\n",
       "      <td>0</td>\n",
       "      <td>13.0</td>\n",
       "      <td>100.0</td>\n",
       "      <td>circle</td>\n",
       "      <td>5.0</td>\n",
       "      <td></td>\n",
       "      <td></td>\n",
       "    </tr>\n",
       "    <tr>\n",
       "      <th>6</th>\n",
       "      <td>0</td>\n",
       "      <td>-15.0</td>\n",
       "      <td>120.0</td>\n",
       "      <td>circle</td>\n",
       "      <td>5.0</td>\n",
       "      <td></td>\n",
       "      <td></td>\n",
       "    </tr>\n",
       "    <tr>\n",
       "      <th>7</th>\n",
       "      <td>0</td>\n",
       "      <td>17.0</td>\n",
       "      <td>140.0</td>\n",
       "      <td>circle</td>\n",
       "      <td>5.0</td>\n",
       "      <td></td>\n",
       "      <td></td>\n",
       "    </tr>\n",
       "    <tr>\n",
       "      <th>8</th>\n",
       "      <td>0</td>\n",
       "      <td>-19.0</td>\n",
       "      <td>160.0</td>\n",
       "      <td>circle</td>\n",
       "      <td>5.0</td>\n",
       "      <td></td>\n",
       "      <td></td>\n",
       "    </tr>\n",
       "    <tr>\n",
       "      <th>9</th>\n",
       "      <td>0</td>\n",
       "      <td>21.0</td>\n",
       "      <td>180.0</td>\n",
       "      <td>circle</td>\n",
       "      <td>5.0</td>\n",
       "      <td></td>\n",
       "      <td></td>\n",
       "    </tr>\n",
       "    <tr>\n",
       "      <th>10</th>\n",
       "      <td>0</td>\n",
       "      <td>-23.0</td>\n",
       "      <td>200.0</td>\n",
       "      <td>circle</td>\n",
       "      <td>5.0</td>\n",
       "      <td></td>\n",
       "      <td></td>\n",
       "    </tr>\n",
       "    <tr>\n",
       "      <th>11</th>\n",
       "      <td>0</td>\n",
       "      <td>25.0</td>\n",
       "      <td>220.0</td>\n",
       "      <td>circle</td>\n",
       "      <td>5.0</td>\n",
       "      <td></td>\n",
       "      <td></td>\n",
       "    </tr>\n",
       "    <tr>\n",
       "      <th>12</th>\n",
       "      <td>0</td>\n",
       "      <td>-27.0</td>\n",
       "      <td>240.0</td>\n",
       "      <td>circle</td>\n",
       "      <td>5.0</td>\n",
       "      <td></td>\n",
       "      <td></td>\n",
       "    </tr>\n",
       "    <tr>\n",
       "      <th>13</th>\n",
       "      <td>0</td>\n",
       "      <td>29.0</td>\n",
       "      <td>260.0</td>\n",
       "      <td>circle</td>\n",
       "      <td>5.0</td>\n",
       "      <td></td>\n",
       "      <td></td>\n",
       "    </tr>\n",
       "    <tr>\n",
       "      <th>14</th>\n",
       "      <td>0</td>\n",
       "      <td>-31.0</td>\n",
       "      <td>280.0</td>\n",
       "      <td>circle</td>\n",
       "      <td>5.0</td>\n",
       "      <td></td>\n",
       "      <td></td>\n",
       "    </tr>\n",
       "    <tr>\n",
       "      <th>15</th>\n",
       "      <td>0</td>\n",
       "      <td>33.0</td>\n",
       "      <td>300.0</td>\n",
       "      <td>circle</td>\n",
       "      <td>5.0</td>\n",
       "      <td></td>\n",
       "      <td></td>\n",
       "    </tr>\n",
       "    <tr>\n",
       "      <th>16</th>\n",
       "      <td>0</td>\n",
       "      <td>-35.0</td>\n",
       "      <td>320.0</td>\n",
       "      <td>circle</td>\n",
       "      <td>5.0</td>\n",
       "      <td></td>\n",
       "      <td></td>\n",
       "    </tr>\n",
       "    <tr>\n",
       "      <th>17</th>\n",
       "      <td>0</td>\n",
       "      <td>37.0</td>\n",
       "      <td>340.0</td>\n",
       "      <td>circle</td>\n",
       "      <td>5.0</td>\n",
       "      <td></td>\n",
       "      <td></td>\n",
       "    </tr>\n",
       "    <tr>\n",
       "      <th>18</th>\n",
       "      <td>0</td>\n",
       "      <td>-39.0</td>\n",
       "      <td>360.0</td>\n",
       "      <td>circle</td>\n",
       "      <td>5.0</td>\n",
       "      <td></td>\n",
       "      <td></td>\n",
       "    </tr>\n",
       "    <tr>\n",
       "      <th>19</th>\n",
       "      <td>0</td>\n",
       "      <td>41.0</td>\n",
       "      <td>380.0</td>\n",
       "      <td>circle</td>\n",
       "      <td>5.0</td>\n",
       "      <td></td>\n",
       "      <td></td>\n",
       "    </tr>\n",
       "    <tr>\n",
       "      <th>20</th>\n",
       "      <td>0</td>\n",
       "      <td>-43.0</td>\n",
       "      <td>400.0</td>\n",
       "      <td>circle</td>\n",
       "      <td>5.0</td>\n",
       "      <td></td>\n",
       "      <td></td>\n",
       "    </tr>\n",
       "    <tr>\n",
       "      <th>21</th>\n",
       "      <td>0</td>\n",
       "      <td>45.0</td>\n",
       "      <td>420.0</td>\n",
       "      <td>circle</td>\n",
       "      <td>5.0</td>\n",
       "      <td></td>\n",
       "      <td></td>\n",
       "    </tr>\n",
       "    <tr>\n",
       "      <th>22</th>\n",
       "      <td>0</td>\n",
       "      <td>-47.0</td>\n",
       "      <td>440.0</td>\n",
       "      <td>circle</td>\n",
       "      <td>5.0</td>\n",
       "      <td></td>\n",
       "      <td></td>\n",
       "    </tr>\n",
       "    <tr>\n",
       "      <th>23</th>\n",
       "      <td>0</td>\n",
       "      <td>49.0</td>\n",
       "      <td>460.0</td>\n",
       "      <td>circle</td>\n",
       "      <td>5.0</td>\n",
       "      <td></td>\n",
       "      <td></td>\n",
       "    </tr>\n",
       "    <tr>\n",
       "      <th>24</th>\n",
       "      <td>0</td>\n",
       "      <td>-51.0</td>\n",
       "      <td>480.0</td>\n",
       "      <td>circle</td>\n",
       "      <td>5.0</td>\n",
       "      <td></td>\n",
       "      <td></td>\n",
       "    </tr>\n",
       "    <tr>\n",
       "      <th>25</th>\n",
       "      <td>0</td>\n",
       "      <td>53.0</td>\n",
       "      <td>500.0</td>\n",
       "      <td>circle</td>\n",
       "      <td>5.0</td>\n",
       "      <td></td>\n",
       "      <td></td>\n",
       "    </tr>\n",
       "    <tr>\n",
       "      <th>26</th>\n",
       "      <td>0</td>\n",
       "      <td>-55.0</td>\n",
       "      <td>520.0</td>\n",
       "      <td>circle</td>\n",
       "      <td>5.0</td>\n",
       "      <td></td>\n",
       "      <td></td>\n",
       "    </tr>\n",
       "    <tr>\n",
       "      <th>27</th>\n",
       "      <td>0</td>\n",
       "      <td>57.0</td>\n",
       "      <td>540.0</td>\n",
       "      <td>circle</td>\n",
       "      <td>5.0</td>\n",
       "      <td></td>\n",
       "      <td></td>\n",
       "    </tr>\n",
       "    <tr>\n",
       "      <th>28</th>\n",
       "      <td>0</td>\n",
       "      <td>-59.0</td>\n",
       "      <td>560.0</td>\n",
       "      <td>circle</td>\n",
       "      <td>5.0</td>\n",
       "      <td></td>\n",
       "      <td></td>\n",
       "    </tr>\n",
       "    <tr>\n",
       "      <th>29</th>\n",
       "      <td>0</td>\n",
       "      <td>61.0</td>\n",
       "      <td>580.0</td>\n",
       "      <td>circle</td>\n",
       "      <td>5.0</td>\n",
       "      <td></td>\n",
       "      <td></td>\n",
       "    </tr>\n",
       "    <tr>\n",
       "      <th>30</th>\n",
       "      <td>0</td>\n",
       "      <td>-63.0</td>\n",
       "      <td>600.0</td>\n",
       "      <td>circle</td>\n",
       "      <td>5.0</td>\n",
       "      <td></td>\n",
       "      <td></td>\n",
       "    </tr>\n",
       "    <tr>\n",
       "      <th>31</th>\n",
       "      <td>0</td>\n",
       "      <td>65.0</td>\n",
       "      <td>620.0</td>\n",
       "      <td>circle</td>\n",
       "      <td>5.0</td>\n",
       "      <td></td>\n",
       "      <td></td>\n",
       "    </tr>\n",
       "  </tbody>\n",
       "</table>\n",
       "</div>"
      ],
      "text/plain": [
       "    probe_index     x      y contact_shapes  radius shank_ids contact_ids\n",
       "0             0   0.0    0.0         circle     5.0                      \n",
       "1             0   5.0   20.0         circle     5.0                      \n",
       "2             0  -7.0   40.0         circle     5.0                      \n",
       "3             0   9.0   60.0         circle     5.0                      \n",
       "4             0 -11.0   80.0         circle     5.0                      \n",
       "5             0  13.0  100.0         circle     5.0                      \n",
       "6             0 -15.0  120.0         circle     5.0                      \n",
       "7             0  17.0  140.0         circle     5.0                      \n",
       "8             0 -19.0  160.0         circle     5.0                      \n",
       "9             0  21.0  180.0         circle     5.0                      \n",
       "10            0 -23.0  200.0         circle     5.0                      \n",
       "11            0  25.0  220.0         circle     5.0                      \n",
       "12            0 -27.0  240.0         circle     5.0                      \n",
       "13            0  29.0  260.0         circle     5.0                      \n",
       "14            0 -31.0  280.0         circle     5.0                      \n",
       "15            0  33.0  300.0         circle     5.0                      \n",
       "16            0 -35.0  320.0         circle     5.0                      \n",
       "17            0  37.0  340.0         circle     5.0                      \n",
       "18            0 -39.0  360.0         circle     5.0                      \n",
       "19            0  41.0  380.0         circle     5.0                      \n",
       "20            0 -43.0  400.0         circle     5.0                      \n",
       "21            0  45.0  420.0         circle     5.0                      \n",
       "22            0 -47.0  440.0         circle     5.0                      \n",
       "23            0  49.0  460.0         circle     5.0                      \n",
       "24            0 -51.0  480.0         circle     5.0                      \n",
       "25            0  53.0  500.0         circle     5.0                      \n",
       "26            0 -55.0  520.0         circle     5.0                      \n",
       "27            0  57.0  540.0         circle     5.0                      \n",
       "28            0 -59.0  560.0         circle     5.0                      \n",
       "29            0  61.0  580.0         circle     5.0                      \n",
       "30            0 -63.0  600.0         circle     5.0                      \n",
       "31            0  65.0  620.0         circle     5.0                      "
      ]
     },
     "execution_count": 15,
     "metadata": {},
     "output_type": "execute_result"
    }
   ],
   "source": [
    "probe_object.to_dataframe()"
   ]
  },
  {
   "cell_type": "code",
   "execution_count": 16,
   "metadata": {},
   "outputs": [
    {
     "data": {
      "text/plain": [
       "array(['', '', '', '', '', '', '', '', '', '', '', '', '', '', '', '', '',\n",
       "       '', '', '', '', '', '', '', '', '', '', '', '', '', '', ''],\n",
       "      dtype='<U64')"
      ]
     },
     "execution_count": 16,
     "metadata": {},
     "output_type": "execute_result"
    }
   ],
   "source": [
    "probe_object.get_global_contact_ids()"
   ]
  },
  {
   "cell_type": "code",
   "execution_count": 17,
   "metadata": {},
   "outputs": [
    {
     "data": {
      "text/plain": [
       "array([(0,  0), (0,  1), (0,  2), (0,  3), (0,  4), (0,  5), (0,  6),\n",
       "       (0,  7), (0,  8), (0,  9), (0, 10), (0, 11), (0, 12), (0, 13),\n",
       "       (0, 14), (0, 15), (0, 16), (0, 17), (0, 18), (0, 19), (0, 20),\n",
       "       (0, 21), (0, 22), (0, 23), (0, 24), (0, 25), (0, 26), (0, 27),\n",
       "       (0, 28), (0, 29), (0, 30), (0, 31)],\n",
       "      dtype=[('probe_index', '<i8'), ('device_channel_indices', '<i8')])"
      ]
     },
     "execution_count": 17,
     "metadata": {},
     "output_type": "execute_result"
    }
   ],
   "source": [
    "probe_object.get_global_device_channel_indices()"
   ]
  },
  {
   "cell_type": "markdown",
   "metadata": {},
   "source": [
    "- Creating a dictionary of all the variables in the probe file"
   ]
  },
  {
   "cell_type": "code",
   "execution_count": 18,
   "metadata": {},
   "outputs": [],
   "source": [
    "if 'probe_parameters' in locals():\n",
    "    probe_dict = defaultdict(dict)\n",
    "    for attribute in dir(probe_parameters):\n",
    "        # Removing built in attributes\n",
    "        if not attribute.startswith(\"__\"): \n",
    "            probe_dict[attribute] = getattr(probe_parameters, attribute)"
   ]
  },
  {
   "cell_type": "code",
   "execution_count": 19,
   "metadata": {},
   "outputs": [],
   "source": [
    "if \"probe_dict\" in locals():\n",
    "    for key, value in probe_dict.items():\n",
    "        print(\"{}: {}\".format(key, value))"
   ]
  },
  {
   "cell_type": "code",
   "execution_count": null,
   "metadata": {},
   "outputs": [],
   "source": []
  },
  {
   "cell_type": "markdown",
   "metadata": {},
   "source": [
    "# Part 1: Importing Data"
   ]
  },
  {
   "cell_type": "markdown",
   "metadata": {},
   "source": [
    "## Loading in the Electrophysiology Recording"
   ]
  },
  {
   "cell_type": "markdown",
   "metadata": {},
   "source": [
    "- We are inputting the electrophsiology recording data with probe information. This should have been created in the prevous notebook in a directory created by Spike Interface. If you had already read in your own electrophsiology recording data with probe information with a different way, then follow these instructions.\n",
    "    - If you want to use a different directory, then you must either:\n",
    "        - Change `glob.glob({./path/to/with/*/recording_raw})` to the directory that you have the directories created from Spikeinterface. You can use a wildcard if you have multiple folders. You would replace `{./path/to/with/*/recording_raw}` with the path to either the parent directory or the actual directory containing the electrophsiology recording data read into Spikeinterface.\n",
    "        - Or change `(file_or_folder_or_dict={./path/to/recording_raw})`. You would replace `{./path/to/recording_raw}` with the path to either the parent directory or the actual directory containing the electrophsiology recording data read into Spikeinterface."
   ]
  },
  {
   "cell_type": "code",
   "execution_count": 20,
   "metadata": {},
   "outputs": [],
   "source": [
    "recording_filepath_glob = \"/scratch/back_up/reward_competition_extention/data/rce_cohort_3/*/*.rec/*merged.rec\""
   ]
  },
  {
   "cell_type": "code",
   "execution_count": 21,
   "metadata": {},
   "outputs": [],
   "source": [
    "all_recording_files = glob.glob(recording_filepath_glob, recursive=True)"
   ]
  },
  {
   "cell_type": "code",
   "execution_count": 22,
   "metadata": {},
   "outputs": [],
   "source": [
    "all_recording_files = [file_path for file_path in all_recording_files if \"copies\" not in file_path]"
   ]
  },
  {
   "cell_type": "code",
   "execution_count": 23,
   "metadata": {},
   "outputs": [
    {
     "data": {
      "text/plain": [
       "['/scratch/back_up/reward_competition_extention/data/rce_cohort_3/discriminate/20240417_150153_comp_discriminate_subj_3-3_and_3-4.rec/20240417_150153_comp_discriminate_subj_3-3_t5b5_merged.rec',\n",
       " '/scratch/back_up/reward_competition_extention/data/rce_cohort_3/discriminate/20240417_150153_comp_discriminate_subj_3-3_and_3-4.rec/20240417_150153_comp_discriminate_subj_3-4_t6b6_merged.rec',\n",
       " '/scratch/back_up/reward_competition_extention/data/rce_cohort_3/discriminate/20240413_151204_comp_discriminate_subj_3-1_and_3-3.rec/20240413_151204_comp_discriminate_subj_3-1_t5b5_merged.rec',\n",
       " '/scratch/back_up/reward_competition_extention/data/rce_cohort_3/discriminate/20240413_151204_comp_discriminate_subj_3-1_and_3-3.rec/20240413_151204_comp_discriminate_subj_3-3_t6b6_merged.rec',\n",
       " '/scratch/back_up/reward_competition_extention/data/rce_cohort_3/discriminate/20240414_154115_comp_discriminate_subj_4-2_and_4-4.rec/20240414_154115_comp_discriminate_subj_4-2_t3b3_merged.rec',\n",
       " '/scratch/back_up/reward_competition_extention/data/rce_cohort_3/discriminate/20240414_154115_comp_discriminate_subj_4-2_and_4-4.rec/20240414_154115_comp_discriminate_subj_4-4_t4b4_merged.rec',\n",
       " '/scratch/back_up/reward_competition_extention/data/rce_cohort_3/discriminate/20240415_153312_comp_discriminate_subj_3-1_and_3-4.rec/20240415_153312_comp_discriminate_subj_3-1_t3b3_merged.rec',\n",
       " '/scratch/back_up/reward_competition_extention/data/rce_cohort_3/discriminate/20240415_153312_comp_discriminate_subj_3-1_and_3-4.rec/20240415_153312_comp_discriminate_subj_3-4_t4b4_merged.rec',\n",
       " '/scratch/back_up/reward_competition_extention/data/rce_cohort_3/discriminate/20240415_165702_comp_discriminate_subj_4-3_and_4-4.rec/20240415_165702_comp_discriminate_subj_4-3_t1b1_merged.rec',\n",
       " '/scratch/back_up/reward_competition_extention/data/rce_cohort_3/discriminate/20240415_165702_comp_discriminate_subj_4-3_and_4-4.rec/20240415_165702_comp_discriminate_subj_4-4_t2b2_merged.rec',\n",
       " '/scratch/back_up/reward_competition_extention/data/rce_cohort_3/discriminate/20240415_140712_comp_discriminate_subj_5-2_and_5-3.rec/20240415_140712_comp_discriminate_subj_5-3_t6b6_merged.rec',\n",
       " '/scratch/back_up/reward_competition_extention/data/rce_cohort_3/discriminate/20240415_140712_comp_discriminate_subj_5-2_and_5-3.rec/20240415_140712_comp_discriminate_subj_5-2_t5b5_merged.rec',\n",
       " '/scratch/back_up/reward_competition_extention/data/rce_cohort_3/discriminate/20240413_163726_comp_discriminate_subj_4-2_and_4-3.rec/20240413_163726_comp_discriminate_subj_4-3_t4b4_merged.rec',\n",
       " '/scratch/back_up/reward_competition_extention/data/rce_cohort_3/discriminate/20240413_163726_comp_discriminate_subj_4-2_and_4-3.rec/20240413_163726_comp_discriminate_subj_4-2_t3b3_merged.rec',\n",
       " '/scratch/back_up/reward_competition_extention/data/rce_cohort_3/long_comp/20240321_114851_long_comp_subj_5-2_and_5-3.rec/20240321_114851_long_comp_subj_5-2_t6b6_merged.rec',\n",
       " '/scratch/back_up/reward_competition_extention/data/rce_cohort_3/long_comp/20240321_114851_long_comp_subj_5-2_and_5-3.rec/20240321_114851_long_comp_subj_5-3_t5b5_merged.rec',\n",
       " '/scratch/back_up/reward_competition_extention/data/rce_cohort_3/long_comp/20240317_172017_long_comp_subj_4-2_and_4-3.rec/20240317_172017_long_comp_subj_4-2_t6b6_merged.rec',\n",
       " '/scratch/back_up/reward_competition_extention/data/rce_cohort_3/long_comp/20240317_172017_long_comp_subj_4-2_and_4-3.rec/20240317_172017_long_comp_subj_4-3_t5b5_merged.rec',\n",
       " '/scratch/back_up/reward_competition_extention/data/rce_cohort_3/long_comp/20240317_151922_long_comp_subj_3-1_and_3-3.rec/20240317_151922_long_comp_subj_3-1_t6b6_merged.rec',\n",
       " '/scratch/back_up/reward_competition_extention/data/rce_cohort_3/long_comp/20240317_151922_long_comp_subj_3-1_and_3-3.rec/20240317_151922_long_comp_subj_3-3_t5b5_merged.rec',\n",
       " '/scratch/back_up/reward_competition_extention/data/rce_cohort_3/long_comp/20240319_160457_long_comp_subj_4-2_and_4-4.rec/20240319_160457_long_comp_subj_4-2_t5b5_merged.rec',\n",
       " '/scratch/back_up/reward_competition_extention/data/rce_cohort_3/long_comp/20240319_160457_long_comp_subj_4-2_and_4-4.rec/20240319_160457_long_comp_subj_4-4_t6b6_merged.rec',\n",
       " '/scratch/back_up/reward_competition_extention/data/rce_cohort_3/long_comp/20240319_134914_long_comp_subj_3-1_and_3-4.rec/20240319_134914_long_comp_subj_3-4_t6b6_merged.rec',\n",
       " '/scratch/back_up/reward_competition_extention/data/rce_cohort_3/long_comp/20240319_134914_long_comp_subj_3-1_and_3-4.rec/20240319_134914_long_comp_subj_3-1_t5b5_merged.rec',\n",
       " '/scratch/back_up/reward_competition_extention/data/rce_cohort_3/long_comp/20240318_143819_long_comp_subj_3-3_and_3-4.rec/20240318_143819_long_comp_subj_3-3_t6b6_merged.rec',\n",
       " '/scratch/back_up/reward_competition_extention/data/rce_cohort_3/long_comp/20240318_143819_long_comp_subj_3-3_and_3-4.rec/20240318_143819_long_comp_subj_3-4_t5b5_merged.rec',\n",
       " '/scratch/back_up/reward_competition_extention/data/rce_cohort_3/long_comp/20240320_114629_long_comp_subj_5-3_and_5-4.rec/20240320_114629_long_comp_subj_5-4_t5b5_merged.rec',\n",
       " '/scratch/back_up/reward_competition_extention/data/rce_cohort_3/long_comp/20240320_114629_long_comp_subj_5-3_and_5-4.rec/20240320_114629_long_comp_subj_5-3_t6b6_merged.rec',\n",
       " '/scratch/back_up/reward_competition_extention/data/rce_cohort_3/long_comp/20240318_170933_long_comp_subj_4-3_and_4-4.rec/20240318_170933_long_comp_subj_4-4_t5b5_merged.rec',\n",
       " '/scratch/back_up/reward_competition_extention/data/rce_cohort_3/long_comp/20240318_170933_long_comp_subj_4-3_and_4-4.rec/20240318_170933_long_comp_subj_4-3_t6b6_merged.rec',\n",
       " '/scratch/back_up/reward_competition_extention/data/rce_cohort_3/novel/20240411_155157_comp_novel_subj_3-1_and_3-4_and_4-2_and_4-4.rec/20240411_155157_comp_novel_subj_3-4_t4b4_merged.rec',\n",
       " '/scratch/back_up/reward_competition_extention/data/rce_cohort_3/novel/20240411_155157_comp_novel_subj_3-1_and_3-4_and_4-2_and_4-4.rec/20240411_155157_comp_novel_subj_3-1_t3b3_merged.rec',\n",
       " '/scratch/back_up/reward_competition_extention/data/rce_cohort_3/novel/20240411_155157_comp_novel_subj_3-1_and_3-4_and_4-2_and_4-4.rec/20240411_155157_comp_novel_subj_4-2_t6b6_merged.rec',\n",
       " '/scratch/back_up/reward_competition_extention/data/rce_cohort_3/novel/20240411_155157_comp_novel_subj_3-1_and_3-4_and_4-2_and_4-4.rec/20240411_155157_comp_novel_subj_4-4_t5b5_merged.rec',\n",
       " '/scratch/back_up/reward_competition_extention/data/rce_cohort_3/novel/20240412_161135_comp_novel_subj_4-2_and_4-4_and_5-2_and_5-3.rec/20240412_161135_comp_novel_subj_5-3_t6b6_merged.rec',\n",
       " '/scratch/back_up/reward_competition_extention/data/rce_cohort_3/novel/20240412_161135_comp_novel_subj_4-2_and_4-4_and_5-2_and_5-3.rec/20240412_161135_comp_novel_subj_4-4_t4b4_merged.rec',\n",
       " '/scratch/back_up/reward_competition_extention/data/rce_cohort_3/novel/20240412_161135_comp_novel_subj_4-2_and_4-4_and_5-2_and_5-3.rec/20240412_161135_comp_novel_subj_5-2_t5b5_merged.rec',\n",
       " '/scratch/back_up/reward_competition_extention/data/rce_cohort_3/novel/20240412_161135_comp_novel_subj_4-2_and_4-4_and_5-2_and_5-3.rec/20240412_161135_comp_novel_subj_4-2_t3b3_merged.rec',\n",
       " '/scratch/back_up/reward_competition_extention/data/rce_cohort_3/novel/20240406_150017_comp_novel_subj_4-3_and_4-4_and_5-2_and_5-3.rec/20240406_150017_comp_novel_subj_4-4_t6b6_merged.rec',\n",
       " '/scratch/back_up/reward_competition_extention/data/rce_cohort_3/novel/20240406_150017_comp_novel_subj_4-3_and_4-4_and_5-2_and_5-3.rec/20240406_150017_comp_novel_subj_5-3_t3b3_merged.rec',\n",
       " '/scratch/back_up/reward_competition_extention/data/rce_cohort_3/novel/20240406_150017_comp_novel_subj_4-3_and_4-4_and_5-2_and_5-3.rec/20240406_150017_comp_novel_subj_4-3_t5b5_merged.rec',\n",
       " '/scratch/back_up/reward_competition_extention/data/rce_cohort_3/novel/20240406_150017_comp_novel_subj_4-3_and_4-4_and_5-2_and_5-3.rec/20240406_150017_comp_novel_subj_5-2_t4b4_merged.rec',\n",
       " '/scratch/back_up/reward_competition_extention/data/rce_cohort_3/novel/20240408_155308_comp_novel_subj_3-1_and_3-4_and_5-2_and_5-3.rec/20240408_155308_comp_novel_subj_5-3_t3b3_merged.rec',\n",
       " '/scratch/back_up/reward_competition_extention/data/rce_cohort_3/novel/20240408_155308_comp_novel_subj_3-1_and_3-4_and_5-2_and_5-3.rec/20240408_155308_comp_novel_subj_3-1_t5b5_merged.rec',\n",
       " '/scratch/back_up/reward_competition_extention/data/rce_cohort_3/novel/20240408_155308_comp_novel_subj_3-1_and_3-4_and_5-2_and_5-3.rec/20240408_155308_comp_novel_subj_3-4_t6b6_merged.rec',\n",
       " '/scratch/back_up/reward_competition_extention/data/rce_cohort_3/novel/20240408_155308_comp_novel_subj_3-1_and_3-4_and_5-2_and_5-3.rec/20240408_155308_comp_novel_subj_5-2_t4b4_merged.rec',\n",
       " '/scratch/back_up/reward_competition_extention/data/rce_cohort_3/novel/20240401_151442_comp_novel_subj_3-1_and_3-3_and_4-2_and_4-4.rec/20240401_151442_comp_novel_subj_3-1_t5b5_merged.rec',\n",
       " '/scratch/back_up/reward_competition_extention/data/rce_cohort_3/novel/20240401_151442_comp_novel_subj_3-1_and_3-3_and_4-2_and_4-4.rec/20240401_151442_comp_novel_subj_3-3_t6b6_merged.rec',\n",
       " '/scratch/back_up/reward_competition_extention/data/rce_cohort_3/novel/20240401_151442_comp_novel_subj_3-1_and_3-3_and_4-2_and_4-4.rec/20240401_151442_comp_novel_subj_4-2_t3b3_merged.rec',\n",
       " '/scratch/back_up/reward_competition_extention/data/rce_cohort_3/novel/20240401_151442_comp_novel_subj_3-1_and_3-3_and_4-2_and_4-4.rec/20240401_151442_comp_novel_subj_4-4_t4b4_merged.rec',\n",
       " '/scratch/back_up/reward_competition_extention/data/rce_cohort_3/novel/20240402_145808_comp_novel_subj_3-3_and_3-4_and_5-2_and_5-3.rec/20240402_145808_comp_novel_subj_5-2_t6b6_merged.rec',\n",
       " '/scratch/back_up/reward_competition_extention/data/rce_cohort_3/novel/20240402_145808_comp_novel_subj_3-3_and_3-4_and_5-2_and_5-3.rec/20240402_145808_comp_novel_subj_3-3_t4b4_merged.rec',\n",
       " '/scratch/back_up/reward_competition_extention/data/rce_cohort_3/novel/20240402_145808_comp_novel_subj_3-3_and_3-4_and_5-2_and_5-3.rec/20240402_145808_comp_novel_subj_3-4_t3b3_merged.rec',\n",
       " '/scratch/back_up/reward_competition_extention/data/rce_cohort_3/novel/20240402_145808_comp_novel_subj_3-3_and_3-4_and_5-2_and_5-3.rec/20240402_145808_comp_novel_subj_5-3_t5b5_merged.rec',\n",
       " '/scratch/back_up/reward_competition_extention/data/rce_cohort_3/novel/20240407_152222_comp_novel_subj_3-1_and_3-3_and_4-2_and_4-3.rec/20240407_152222_comp_novel_subj_3-3_t3b3_merged.rec',\n",
       " '/scratch/back_up/reward_competition_extention/data/rce_cohort_3/novel/20240407_152222_comp_novel_subj_3-1_and_3-3_and_4-2_and_4-3.rec/20240407_152222_comp_novel_subj_3-1_t4b4_merged.rec',\n",
       " '/scratch/back_up/reward_competition_extention/data/rce_cohort_3/novel/20240407_152222_comp_novel_subj_3-1_and_3-3_and_4-2_and_4-3.rec/20240407_152222_comp_novel_subj_4-3_t6b6_merged.rec',\n",
       " '/scratch/back_up/reward_competition_extention/data/rce_cohort_3/novel/20240407_152222_comp_novel_subj_3-1_and_3-3_and_4-2_and_4-3.rec/20240407_152222_comp_novel_subj_4-2_t5b5_merged.rec',\n",
       " '/scratch/back_up/reward_competition_extention/data/rce_cohort_3/novel/20240410_152009_comp_novel_subj_4-2_and_4-3_and_5-2_and_5-3.rec/20240410_152009_comp_novel_subj_5-2_t4b4_merged.rec',\n",
       " '/scratch/back_up/reward_competition_extention/data/rce_cohort_3/novel/20240410_152009_comp_novel_subj_4-2_and_4-3_and_5-2_and_5-3.rec/20240410_152009_comp_novel_subj_4-2_t5b5_merged.rec',\n",
       " '/scratch/back_up/reward_competition_extention/data/rce_cohort_3/novel/20240410_152009_comp_novel_subj_4-2_and_4-3_and_5-2_and_5-3.rec/20240410_152009_comp_novel_subj_5-3_t3b3_merged.rec',\n",
       " '/scratch/back_up/reward_competition_extention/data/rce_cohort_3/novel/20240410_152009_comp_novel_subj_4-2_and_4-3_and_5-2_and_5-3.rec/20240410_152009_comp_novel_subj_4-3_t6b6_merged.rec',\n",
       " '/scratch/back_up/reward_competition_extention/data/rce_cohort_3/novel/20240405_162313_comp_novel_subj_3-1_and_3-4_and_4-2_and_4-3.rec/20240405_162313_comp_novel_subj_3-4_t6b6_merged.rec',\n",
       " '/scratch/back_up/reward_competition_extention/data/rce_cohort_3/novel/20240405_162313_comp_novel_subj_3-1_and_3-4_and_4-2_and_4-3.rec/20240405_162313_comp_novel_subj_4-3_t3b3_merged.rec',\n",
       " '/scratch/back_up/reward_competition_extention/data/rce_cohort_3/novel/20240405_162313_comp_novel_subj_3-1_and_3-4_and_4-2_and_4-3.rec/20240405_162313_comp_novel_subj_4-2_t4b4_merged.rec',\n",
       " '/scratch/back_up/reward_competition_extention/data/rce_cohort_3/novel/20240405_162313_comp_novel_subj_3-1_and_3-4_and_4-2_and_4-3.rec/20240405_162313_comp_novel_subj_3-1_t5b5_merged.rec',\n",
       " '/scratch/back_up/reward_competition_extention/data/rce_cohort_3/novel/20240409_142051_comp_novel_subj_3-3_and_3-4_and_4-3_and_4-4.rec/20240409_142051_comp_novel_subj_4-4_t6b6_merged.rec',\n",
       " '/scratch/back_up/reward_competition_extention/data/rce_cohort_3/novel/20240409_142051_comp_novel_subj_3-3_and_3-4_and_4-3_and_4-4.rec/20240409_142051_comp_novel_subj_3-4_t4b4_merged.rec',\n",
       " '/scratch/back_up/reward_competition_extention/data/rce_cohort_3/novel/20240409_142051_comp_novel_subj_3-3_and_3-4_and_4-3_and_4-4.rec/20240409_142051_comp_novel_subj_4-3_t5b5_merged.rec',\n",
       " '/scratch/back_up/reward_competition_extention/data/rce_cohort_3/novel/20240409_142051_comp_novel_subj_3-3_and_3-4_and_4-3_and_4-4.rec/20240409_142051_comp_novel_subj_3-3_t3b3_merged.rec',\n",
       " '/scratch/back_up/reward_competition_extention/data/rce_cohort_3/alone_comp/20240323_144517_alone_comp_subj_3-1_and_3-4.rec/20240323_144517_alone_comp_subj_3-1_t5b5_merged.rec',\n",
       " '/scratch/back_up/reward_competition_extention/data/rce_cohort_3/alone_comp/20240323_144517_alone_comp_subj_3-1_and_3-4.rec/20240323_144517_alone_comp_subj_3-4_t6b6_merged.rec',\n",
       " '/scratch/back_up/reward_competition_extention/data/rce_cohort_3/alone_comp/20240323_122227_alone_comp_subj_5-2_and_5-3.rec/20240323_122227_alone_comp_subj_5-2_t6b6_merged.rec',\n",
       " '/scratch/back_up/reward_competition_extention/data/rce_cohort_3/alone_comp/20240323_122227_alone_comp_subj_5-2_and_5-3.rec/20240323_122227_alone_comp_subj_5-3_t5b5_merged.rec',\n",
       " '/scratch/back_up/reward_competition_extention/data/rce_cohort_3/alone_comp/20240320_142408_alone_comp_subj_3-1_and_3-3.rec/20240320_142408_alone_comp_subj_3-3_t5b5_merged.rec',\n",
       " '/scratch/back_up/reward_competition_extention/data/rce_cohort_3/alone_comp/20240320_142408_alone_comp_subj_3-1_and_3-3.rec/20240320_142408_alone_comp_subj_3-1_t6b6_merged.rec',\n",
       " '/scratch/back_up/reward_competition_extention/data/rce_cohort_3/alone_comp/20240322_160946_alone_comp_subj_4-3_and_4-4.rec/20240322_160946_alone_comp_subj_4-4_t5b5_merged.rec',\n",
       " '/scratch/back_up/reward_competition_extention/data/rce_cohort_3/alone_comp/20240322_160946_alone_comp_subj_4-3_and_4-4.rec/20240322_160946_alone_comp_subj_4-3_t6b6_merged.rec',\n",
       " '/scratch/back_up/reward_competition_extention/data/rce_cohort_3/alone_comp/20240322_120625_alone_comp_subj_3-3_and_3-4.rec/20240322_120625_alone_comp_subj_3-3_t6b6_merged.rec',\n",
       " '/scratch/back_up/reward_competition_extention/data/rce_cohort_3/alone_comp/20240322_120625_alone_comp_subj_3-3_and_3-4.rec/20240322_120625_alone_comp_subj_3-4_t5b5_merged.rec',\n",
       " '/scratch/back_up/reward_competition_extention/data/rce_cohort_3/alone_comp/20240320_171038_alone_comp_subj_4-2_and_4-3.rec/20240320_171038_alone_comp_subj_4-3_t5b5_merged.rec',\n",
       " '/scratch/back_up/reward_competition_extention/data/rce_cohort_3/alone_comp/20240320_171038_alone_comp_subj_4-2_and_4-3.rec/20240320_171038_alone_comp_subj_4-2_t6b6_merged.rec',\n",
       " '/scratch/back_up/reward_competition_extention/data/rce_cohort_3/alone_comp/20240323_165815_alone_comp_subj_4-2_and_4-4.rec/20240323_165815_alone_comp_subj_4-4_t6b6_merged.rec',\n",
       " '/scratch/back_up/reward_competition_extention/data/rce_cohort_3/alone_comp/20240323_165815_alone_comp_subj_4-2_and_4-4.rec/20240323_165815_alone_comp_subj_4-2_t5b5_merged.rec',\n",
       " '/scratch/back_up/reward_competition_extention/data/rce_cohort_3/omission/20240325_125522_comp_om_subj_3-1_and_3-4.rec/20240325_125522_comp_om_subj_3-1_t6b6_merged.rec',\n",
       " '/scratch/back_up/reward_competition_extention/data/rce_cohort_3/omission/20240325_125522_comp_om_subj_3-1_and_3-4.rec/20240325_125522_comp_om_subj_3-4_t5b5_merged.rec',\n",
       " '/scratch/back_up/reward_competition_extention/data/rce_cohort_3/omission/20240318_115841_comp_om_subj_5-2_and_5-3.rec/20240318_115841_comp_om_subj_5-3_t5b5_merged.rec',\n",
       " '/scratch/back_up/reward_competition_extention/data/rce_cohort_3/omission/20240318_115841_comp_om_subj_5-2_and_5-3.rec/20240318_115841_comp_om_subj_5-2_t6b6_merged.rec',\n",
       " '/scratch/back_up/reward_competition_extention/data/rce_cohort_3/omission/20240317_105929_comp_om_subj_5-3_and_5-4.rec/20240317_105929_comp_om_subj_5-3_t6b6_merged.rec',\n",
       " '/scratch/back_up/reward_competition_extention/data/rce_cohort_3/omission/20240317_105929_comp_om_subj_5-3_and_5-4.rec/20240317_105929_comp_om_subj_5-4_t5b5_merged.rec',\n",
       " '/scratch/back_up/reward_competition_extention/data/rce_cohort_3/omission/20240227_130241_comp_om_subj_4-2_and_4-3.rec/20240227_130241_comp_om_subj_4-2_t1b1_merged.rec',\n",
       " '/scratch/back_up/reward_competition_extention/data/rce_cohort_3/omission/20240227_130241_comp_om_subj_4-2_and_4-3.rec/20240227_130241_comp_om_subj_4-3_t2b2_merged.rec',\n",
       " '/scratch/back_up/reward_competition_extention/data/rce_cohort_3/omission/20240319_111204_comp_om_subj_5-2_and_5-4.rec/20240319_111204_comp_om_subj_5-4_t5b5_merged.rec',\n",
       " '/scratch/back_up/reward_competition_extention/data/rce_cohort_3/omission/20240319_111204_comp_om_subj_5-2_and_5-4.rec/20240319_111204_comp_om_subj_5-2_t6b6_merged.rec',\n",
       " '/scratch/back_up/reward_competition_extention/data/rce_cohort_3/omission/20240325_150329_comp_om_subj_4-2_and_4-4.rec/20240325_150329_comp_om_subj_4-2_t5b5_merged.rec',\n",
       " '/scratch/back_up/reward_competition_extention/data/rce_cohort_3/omission/20240325_150329_comp_om_subj_4-2_and_4-4.rec/20240325_150329_comp_om_subj_4-4_t6b6_merged.rec',\n",
       " '/scratch/back_up/reward_competition_extention/data/rce_cohort_3/omission/20240229_152936_comp_om_subj_3-3_and_3-4.rec/20240229_152936_comp_om_subj_3-4_t1b1_merged.rec',\n",
       " '/scratch/back_up/reward_competition_extention/data/rce_cohort_3/omission/20240229_152936_comp_om_subj_3-3_and_3-4.rec/20240229_152936_comp_om_subj_3-3_t3b3_merged.rec',\n",
       " '/scratch/back_up/reward_competition_extention/data/rce_cohort_3/omission/20240228_142038_comp_om_subj_3-1_and_3-3.rec/20240228_142038_comp_om_subj_3-3_t2b2_merged.rec',\n",
       " '/scratch/back_up/reward_competition_extention/data/rce_cohort_3/omission/20240228_142038_comp_om_subj_3-1_and_3-3.rec/20240228_142038_comp_om_subj_3_1_t1b1_merged.rec',\n",
       " '/scratch/back_up/reward_competition_extention/data/rce_cohort_3/omission/20240228_154053_comp_om_subj_4-3_and_4-4.rec/20240228_154053_comp_om_subj_4-3_t3b3_merged.rec',\n",
       " '/scratch/back_up/reward_competition_extention/data/rce_cohort_3/omission/20240228_154053_comp_om_subj_4-3_and_4-4.rec/20240228_154053_comp_om_subj_4-4_t4b4_merged.rec',\n",
       " '/scratch/back_up/reward_competition_extention/data/rce_cohort_3/both_rewarded/20240330_141834_comp_both_subj_3-3_and_3-4.rec/20240330_141834_comp_both_subj_3-3_t5b5_merged.rec',\n",
       " '/scratch/back_up/reward_competition_extention/data/rce_cohort_3/both_rewarded/20240330_141834_comp_both_subj_3-3_and_3-4.rec/20240330_141834_comp_both_subj_3-4_t6b6_merged.rec',\n",
       " '/scratch/back_up/reward_competition_extention/data/rce_cohort_3/both_rewarded/20240329_160356_comp_both_subj_4_2_and_4-3.rec/20240329_160356_comp_both_subj_4-2_t4b4_merged.rec',\n",
       " '/scratch/back_up/reward_competition_extention/data/rce_cohort_3/both_rewarded/20240329_160356_comp_both_subj_4_2_and_4-3.rec/20240329_160356_comp_both_subj_4-3_t3b3_merged.rec',\n",
       " '/scratch/back_up/reward_competition_extention/data/rce_cohort_3/both_rewarded/20240327_165151_comp_both_subj_4-2_and_4-4.rec/20240327_165151_comp_both_subj_4-2_t3b3_merged.rec',\n",
       " '/scratch/back_up/reward_competition_extention/data/rce_cohort_3/both_rewarded/20240327_165151_comp_both_subj_4-2_and_4-4.rec/20240327_165151_comp_both_subj_4-4_t4b4_merged.rec',\n",
       " '/scratch/back_up/reward_competition_extention/data/rce_cohort_3/both_rewarded/20240331_164629_comp_both_subj_4-3_and_4-4.rec/20240331_164629_comp_both_subj_4-3_t4b4_merged.rec',\n",
       " '/scratch/back_up/reward_competition_extention/data/rce_cohort_3/both_rewarded/20240331_164629_comp_both_subj_4-3_and_4-4.rec/20240331_164629_comp_both_subj_4-4_t3b3_merged.rec',\n",
       " '/scratch/back_up/reward_competition_extention/data/rce_cohort_3/both_rewarded/20240331_152930_comp_both_subj_5-2_and_5-3.rec/20240331_152930_comp_both_subj_5-2_t6b6_merged.rec',\n",
       " '/scratch/back_up/reward_competition_extention/data/rce_cohort_3/both_rewarded/20240331_152930_comp_both_subj_5-2_and_5-3.rec/20240331_152930_comp_both_subj_5-3_t5b5_merged.rec',\n",
       " '/scratch/back_up/reward_competition_extention/data/rce_cohort_3/both_rewarded/20240327_153306_comp_both_subj_3-1_and_3-3.rec/20240327_153306_comp_both_subj_3-1_t1b1_merged.rec',\n",
       " '/scratch/back_up/reward_competition_extention/data/rce_cohort_3/both_rewarded/20240327_153306_comp_both_subj_3-1_and_3-3.rec/20240327_153306_comp_both_subj_3-3_t2b2_merged.rec',\n",
       " '/scratch/back_up/reward_competition_extention/data/rce_cohort_3/both_rewarded/20240329_144111_comp_both_subj_3-1_and_3-4.rec/20240329_144111_comp_both_subj_3-1_t1b1_merged.rec',\n",
       " '/scratch/back_up/reward_competition_extention/data/rce_cohort_3/both_rewarded/20240329_144111_comp_both_subj_3-1_and_3-4.rec/20240329_144111_comp_both_subj_3-4_t2b2_merged.rec',\n",
       " '/scratch/back_up/reward_competition_extention/data/rce_cohort_3/both_rewarded/20240327_141822_comp_both_subj_5-2_and_5-3.rec/20240327_141822_comp_both_subj_5-3_t6b6_merged.rec',\n",
       " '/scratch/back_up/reward_competition_extention/data/rce_cohort_3/both_rewarded/20240327_141822_comp_both_subj_5-2_and_5-3.rec/20240327_141822_comp_both_subj_5-2_t5b5_merged.rec',\n",
       " '/scratch/back_up/reward_competition_extention/data/rce_cohort_3/both_rewarded/20240330_153409_comp_both_subj_4-3_and_4-4.rec/20240330_153409_comp_both_subj_4-4_t3b3_merged.rec',\n",
       " '/scratch/back_up/reward_competition_extention/data/rce_cohort_3/both_rewarded/20240330_153409_comp_both_subj_4-3_and_4-4.rec/20240330_153409_comp_both_subj_4-3_t4b4_merged.rec']"
      ]
     },
     "execution_count": 23,
     "metadata": {},
     "output_type": "execute_result"
    }
   ],
   "source": [
    "all_recording_files"
   ]
  },
  {
   "cell_type": "markdown",
   "metadata": {},
   "source": [
    "# Part 2: Sorting"
   ]
  },
  {
   "cell_type": "code",
   "execution_count": 24,
   "metadata": {},
   "outputs": [
    {
     "name": "stdout",
     "output_type": "stream",
     "text": [
      "/scratch/back_up/reward_competition_extention/data/rce_cohort_3/discriminate/20240417_150153_comp_discriminate_subj_3-3_and_3-4.rec/20240417_150153_comp_discriminate_subj_3-3_t5b5_merged.rec\n",
      "Output directory: /scratch/back_up/reward_competition_extention/proc/spike_sorting/20240417_150153_comp_discriminate_subj_3-3_t5b5_merged.rec\n",
      "Running bandpass filter\n",
      "Running whitening\n"
     ]
    },
    {
     "data": {
      "application/vnd.jupyter.widget-view+json": {
       "model_id": "18548953bd81444bb94d37d8cff0eecf",
       "version_major": 2,
       "version_minor": 0
      },
      "text/plain": [
       "write_binary_recording:   0%|          | 0/3643 [00:00<?, ?it/s]"
      ]
     },
     "metadata": {},
     "output_type": "display_data"
    },
    {
     "ename": "KeyboardInterrupt",
     "evalue": "",
     "output_type": "error",
     "traceback": [
      "\u001b[0;31m---------------------------------------------------------------------------\u001b[0m",
      "\u001b[0;31mKeyboardInterrupt\u001b[0m                         Traceback (most recent call last)",
      "Cell \u001b[0;32mIn[24], line 26\u001b[0m\n\u001b[1;32m     22\u001b[0m recording_preprocessed: si\u001b[38;5;241m.\u001b[39mBaseRecording \u001b[38;5;241m=\u001b[39m sp\u001b[38;5;241m.\u001b[39mwhiten(recording_filtered, dtype\u001b[38;5;241m=\u001b[39m\u001b[38;5;124m'\u001b[39m\u001b[38;5;124mfloat32\u001b[39m\u001b[38;5;124m'\u001b[39m)\n\u001b[1;32m     24\u001b[0m \u001b[38;5;28;01mwith\u001b[39;00m TemporaryDirectory(\u001b[38;5;28mdir\u001b[39m\u001b[38;5;241m=\u001b[39m\u001b[38;5;124m'\u001b[39m\u001b[38;5;124m/tmp\u001b[39m\u001b[38;5;124m'\u001b[39m) \u001b[38;5;28;01mas\u001b[39;00m tmpdir:\n\u001b[1;32m     25\u001b[0m     \u001b[38;5;66;03m# cache the recording to a temporary directory for efficient reading\u001b[39;00m\n\u001b[0;32m---> 26\u001b[0m     recording_cached \u001b[38;5;241m=\u001b[39m \u001b[43mcreate_cached_recording\u001b[49m\u001b[43m(\u001b[49m\u001b[43mrecording_preprocessed\u001b[49m\u001b[43m,\u001b[49m\u001b[43m \u001b[49m\u001b[43mfolder\u001b[49m\u001b[38;5;241;43m=\u001b[39;49m\u001b[43mtmpdir\u001b[49m\u001b[43m)\u001b[49m\n\u001b[1;32m     28\u001b[0m     spike_sorted_object \u001b[38;5;241m=\u001b[39m ms5\u001b[38;5;241m.\u001b[39msorting_scheme2(\n\u001b[1;32m     29\u001b[0m     recording\u001b[38;5;241m=\u001b[39mrecording_preprocessed,\n\u001b[1;32m     30\u001b[0m     sorting_parameters\u001b[38;5;241m=\u001b[39mms5\u001b[38;5;241m.\u001b[39mScheme2SortingParameters(\n\u001b[0;32m   (...)\u001b[0m\n\u001b[1;32m     35\u001b[0m         )\n\u001b[1;32m     36\u001b[0m             )\n\u001b[1;32m     38\u001b[0m     spike_sorted_object\u001b[38;5;241m.\u001b[39msave(folder\u001b[38;5;241m=\u001b[39mchild_spikesorting_output_directory)\n",
      "File \u001b[0;32m~/miniconda3/envs/spike_interface_0_100_5/lib/python3.10/site-packages/mountainsort5/util/create_cached_recording.py:18\u001b[0m, in \u001b[0;36mcreate_cached_recording\u001b[0;34m(recording, folder, n_jobs, chunk_duration)\u001b[0m\n\u001b[1;32m     15\u001b[0m \u001b[38;5;28;01mif\u001b[39;00m recording\u001b[38;5;241m.\u001b[39mget_num_segments() \u001b[38;5;241m!=\u001b[39m \u001b[38;5;241m1\u001b[39m:\n\u001b[1;32m     16\u001b[0m     \u001b[38;5;28;01mraise\u001b[39;00m \u001b[38;5;167;01mNotImplementedError\u001b[39;00m(\u001b[38;5;124m\"\u001b[39m\u001b[38;5;124mCan only write recordings with a single segment\u001b[39m\u001b[38;5;124m\"\u001b[39m)\n\u001b[0;32m---> 18\u001b[0m \u001b[43msi\u001b[49m\u001b[38;5;241;43m.\u001b[39;49m\u001b[43mBinaryRecordingExtractor\u001b[49m\u001b[38;5;241;43m.\u001b[39;49m\u001b[43mwrite_recording\u001b[49m\u001b[43m(\u001b[49m\n\u001b[1;32m     19\u001b[0m \u001b[43m    \u001b[49m\u001b[43mrecording\u001b[49m\u001b[38;5;241;43m=\u001b[39;49m\u001b[43mrecording\u001b[49m\u001b[43m,\u001b[49m\n\u001b[1;32m     20\u001b[0m \u001b[43m    \u001b[49m\u001b[43mfile_paths\u001b[49m\u001b[38;5;241;43m=\u001b[39;49m\u001b[43m[\u001b[49m\u001b[43mfname\u001b[49m\u001b[43m]\u001b[49m\u001b[43m,\u001b[49m\n\u001b[1;32m     21\u001b[0m \u001b[43m    \u001b[49m\u001b[43mdtype\u001b[49m\u001b[38;5;241;43m=\u001b[39;49m\u001b[38;5;124;43m'\u001b[39;49m\u001b[38;5;124;43mfloat32\u001b[39;49m\u001b[38;5;124;43m'\u001b[39;49m\u001b[43m,\u001b[49m\n\u001b[1;32m     22\u001b[0m \u001b[43m    \u001b[49m\u001b[43mn_jobs\u001b[49m\u001b[38;5;241;43m=\u001b[39;49m\u001b[43mn_jobs\u001b[49m\u001b[43m,\u001b[49m\n\u001b[1;32m     23\u001b[0m \u001b[43m    \u001b[49m\u001b[43mchunk_duration\u001b[49m\u001b[38;5;241;43m=\u001b[39;49m\u001b[43mchunk_duration\u001b[49m\u001b[43m,\u001b[49m\n\u001b[1;32m     24\u001b[0m \u001b[43m\u001b[49m\u001b[43m)\u001b[49m\n\u001b[1;32m     25\u001b[0m ret \u001b[38;5;241m=\u001b[39m si\u001b[38;5;241m.\u001b[39mBinaryRecordingExtractor(\n\u001b[1;32m     26\u001b[0m     file_paths\u001b[38;5;241m=\u001b[39m[fname],\n\u001b[1;32m     27\u001b[0m     sampling_frequency\u001b[38;5;241m=\u001b[39mrecording\u001b[38;5;241m.\u001b[39mget_sampling_frequency(),\n\u001b[0;32m   (...)\u001b[0m\n\u001b[1;32m     30\u001b[0m     dtype\u001b[38;5;241m=\u001b[39m\u001b[38;5;124m'\u001b[39m\u001b[38;5;124mfloat32\u001b[39m\u001b[38;5;124m'\u001b[39m\n\u001b[1;32m     31\u001b[0m )\n\u001b[1;32m     32\u001b[0m ret\u001b[38;5;241m.\u001b[39mset_channel_locations(recording\u001b[38;5;241m.\u001b[39mget_channel_locations())\n",
      "File \u001b[0;32m~/miniconda3/envs/spike_interface_0_100_5/lib/python3.10/site-packages/spikeinterface/core/binaryrecordingextractor.py:148\u001b[0m, in \u001b[0;36mBinaryRecordingExtractor.write_recording\u001b[0;34m(recording, file_paths, dtype, **job_kwargs)\u001b[0m\n\u001b[1;32m    133\u001b[0m \u001b[38;5;129m@staticmethod\u001b[39m\n\u001b[1;32m    134\u001b[0m \u001b[38;5;28;01mdef\u001b[39;00m \u001b[38;5;21mwrite_recording\u001b[39m(recording, file_paths, dtype\u001b[38;5;241m=\u001b[39m\u001b[38;5;28;01mNone\u001b[39;00m, \u001b[38;5;241m*\u001b[39m\u001b[38;5;241m*\u001b[39mjob_kwargs):\n\u001b[1;32m    135\u001b[0m \u001b[38;5;250m    \u001b[39m\u001b[38;5;124;03m\"\"\"\u001b[39;00m\n\u001b[1;32m    136\u001b[0m \u001b[38;5;124;03m    Save the traces of a recording extractor in binary .dat format.\u001b[39;00m\n\u001b[1;32m    137\u001b[0m \n\u001b[0;32m   (...)\u001b[0m\n\u001b[1;32m    146\u001b[0m \u001b[38;5;124;03m    {}\u001b[39;00m\n\u001b[1;32m    147\u001b[0m \u001b[38;5;124;03m    \"\"\"\u001b[39;00m\n\u001b[0;32m--> 148\u001b[0m     \u001b[43mwrite_binary_recording\u001b[49m\u001b[43m(\u001b[49m\u001b[43mrecording\u001b[49m\u001b[43m,\u001b[49m\u001b[43m \u001b[49m\u001b[43mfile_paths\u001b[49m\u001b[38;5;241;43m=\u001b[39;49m\u001b[43mfile_paths\u001b[49m\u001b[43m,\u001b[49m\u001b[43m \u001b[49m\u001b[43mdtype\u001b[49m\u001b[38;5;241;43m=\u001b[39;49m\u001b[43mdtype\u001b[49m\u001b[43m,\u001b[49m\u001b[43m \u001b[49m\u001b[38;5;241;43m*\u001b[39;49m\u001b[38;5;241;43m*\u001b[39;49m\u001b[43mjob_kwargs\u001b[49m\u001b[43m)\u001b[49m\n",
      "File \u001b[0;32m~/miniconda3/envs/spike_interface_0_100_5/lib/python3.10/site-packages/spikeinterface/core/recording_tools.py:137\u001b[0m, in \u001b[0;36mwrite_binary_recording\u001b[0;34m(recording, file_paths, dtype, add_file_extension, byte_offset, auto_cast_uint, **job_kwargs)\u001b[0m\n\u001b[1;32m    133\u001b[0m init_args \u001b[38;5;241m=\u001b[39m (recording, file_path_dict, dtype, byte_offset, cast_unsigned)\n\u001b[1;32m    134\u001b[0m executor \u001b[38;5;241m=\u001b[39m ChunkRecordingExecutor(\n\u001b[1;32m    135\u001b[0m     recording, func, init_func, init_args, job_name\u001b[38;5;241m=\u001b[39m\u001b[38;5;124m\"\u001b[39m\u001b[38;5;124mwrite_binary_recording\u001b[39m\u001b[38;5;124m\"\u001b[39m, \u001b[38;5;241m*\u001b[39m\u001b[38;5;241m*\u001b[39mjob_kwargs\n\u001b[1;32m    136\u001b[0m )\n\u001b[0;32m--> 137\u001b[0m \u001b[43mexecutor\u001b[49m\u001b[38;5;241;43m.\u001b[39;49m\u001b[43mrun\u001b[49m\u001b[43m(\u001b[49m\u001b[43m)\u001b[49m\n",
      "File \u001b[0;32m~/miniconda3/envs/spike_interface_0_100_5/lib/python3.10/site-packages/spikeinterface/core/job_tools.py:381\u001b[0m, in \u001b[0;36mChunkRecordingExecutor.run\u001b[0;34m(self)\u001b[0m\n\u001b[1;32m    379\u001b[0m worker_ctx \u001b[38;5;241m=\u001b[39m \u001b[38;5;28mself\u001b[39m\u001b[38;5;241m.\u001b[39minit_func(\u001b[38;5;241m*\u001b[39m\u001b[38;5;28mself\u001b[39m\u001b[38;5;241m.\u001b[39minit_args)\n\u001b[1;32m    380\u001b[0m \u001b[38;5;28;01mfor\u001b[39;00m segment_index, frame_start, frame_stop \u001b[38;5;129;01min\u001b[39;00m all_chunks:\n\u001b[0;32m--> 381\u001b[0m     res \u001b[38;5;241m=\u001b[39m \u001b[38;5;28;43mself\u001b[39;49m\u001b[38;5;241;43m.\u001b[39;49m\u001b[43mfunc\u001b[49m\u001b[43m(\u001b[49m\u001b[43msegment_index\u001b[49m\u001b[43m,\u001b[49m\u001b[43m \u001b[49m\u001b[43mframe_start\u001b[49m\u001b[43m,\u001b[49m\u001b[43m \u001b[49m\u001b[43mframe_stop\u001b[49m\u001b[43m,\u001b[49m\u001b[43m \u001b[49m\u001b[43mworker_ctx\u001b[49m\u001b[43m)\u001b[49m\n\u001b[1;32m    382\u001b[0m     \u001b[38;5;28;01mif\u001b[39;00m \u001b[38;5;28mself\u001b[39m\u001b[38;5;241m.\u001b[39mhandle_returns:\n\u001b[1;32m    383\u001b[0m         returns\u001b[38;5;241m.\u001b[39mappend(res)\n",
      "File \u001b[0;32m~/miniconda3/envs/spike_interface_0_100_5/lib/python3.10/site-packages/spikeinterface/core/recording_tools.py:166\u001b[0m, in \u001b[0;36m_write_binary_chunk\u001b[0;34m(segment_index, start_frame, end_frame, worker_ctx)\u001b[0m\n\u001b[1;32m    164\u001b[0m array \u001b[38;5;241m=\u001b[39m np\u001b[38;5;241m.\u001b[39mndarray\u001b[38;5;241m.\u001b[39m\u001b[38;5;21m__new__\u001b[39m(np\u001b[38;5;241m.\u001b[39mndarray, shape\u001b[38;5;241m=\u001b[39mshape, dtype\u001b[38;5;241m=\u001b[39mdtype, buffer\u001b[38;5;241m=\u001b[39mmemmap_obj, order\u001b[38;5;241m=\u001b[39m\u001b[38;5;124m\"\u001b[39m\u001b[38;5;124mC\u001b[39m\u001b[38;5;124m\"\u001b[39m, offset\u001b[38;5;241m=\u001b[39marray_offset)\n\u001b[1;32m    165\u001b[0m \u001b[38;5;66;03m# apply function\u001b[39;00m\n\u001b[0;32m--> 166\u001b[0m traces \u001b[38;5;241m=\u001b[39m \u001b[43mrecording\u001b[49m\u001b[38;5;241;43m.\u001b[39;49m\u001b[43mget_traces\u001b[49m\u001b[43m(\u001b[49m\n\u001b[1;32m    167\u001b[0m \u001b[43m    \u001b[49m\u001b[43mstart_frame\u001b[49m\u001b[38;5;241;43m=\u001b[39;49m\u001b[43mstart_frame\u001b[49m\u001b[43m,\u001b[49m\u001b[43m \u001b[49m\u001b[43mend_frame\u001b[49m\u001b[38;5;241;43m=\u001b[39;49m\u001b[43mend_frame\u001b[49m\u001b[43m,\u001b[49m\u001b[43m \u001b[49m\u001b[43msegment_index\u001b[49m\u001b[38;5;241;43m=\u001b[39;49m\u001b[43msegment_index\u001b[49m\u001b[43m,\u001b[49m\u001b[43m \u001b[49m\u001b[43mcast_unsigned\u001b[49m\u001b[38;5;241;43m=\u001b[39;49m\u001b[43mcast_unsigned\u001b[49m\n\u001b[1;32m    168\u001b[0m \u001b[43m\u001b[49m\u001b[43m)\u001b[49m\n\u001b[1;32m    169\u001b[0m \u001b[38;5;28;01mif\u001b[39;00m traces\u001b[38;5;241m.\u001b[39mdtype \u001b[38;5;241m!=\u001b[39m dtype:\n\u001b[1;32m    170\u001b[0m     traces \u001b[38;5;241m=\u001b[39m traces\u001b[38;5;241m.\u001b[39mastype(dtype, copy\u001b[38;5;241m=\u001b[39m\u001b[38;5;28;01mFalse\u001b[39;00m)\n",
      "File \u001b[0;32m~/miniconda3/envs/spike_interface_0_100_5/lib/python3.10/site-packages/spikeinterface/core/baserecording.py:288\u001b[0m, in \u001b[0;36mBaseRecording.get_traces\u001b[0;34m(self, segment_index, start_frame, end_frame, channel_ids, order, return_scaled, cast_unsigned)\u001b[0m\n\u001b[1;32m    286\u001b[0m channel_indices \u001b[38;5;241m=\u001b[39m \u001b[38;5;28mself\u001b[39m\u001b[38;5;241m.\u001b[39mids_to_indices(channel_ids, prefer_slice\u001b[38;5;241m=\u001b[39m\u001b[38;5;28;01mTrue\u001b[39;00m)\n\u001b[1;32m    287\u001b[0m rs \u001b[38;5;241m=\u001b[39m \u001b[38;5;28mself\u001b[39m\u001b[38;5;241m.\u001b[39m_recording_segments[segment_index]\n\u001b[0;32m--> 288\u001b[0m traces \u001b[38;5;241m=\u001b[39m \u001b[43mrs\u001b[49m\u001b[38;5;241;43m.\u001b[39;49m\u001b[43mget_traces\u001b[49m\u001b[43m(\u001b[49m\u001b[43mstart_frame\u001b[49m\u001b[38;5;241;43m=\u001b[39;49m\u001b[43mstart_frame\u001b[49m\u001b[43m,\u001b[49m\u001b[43m \u001b[49m\u001b[43mend_frame\u001b[49m\u001b[38;5;241;43m=\u001b[39;49m\u001b[43mend_frame\u001b[49m\u001b[43m,\u001b[49m\u001b[43m \u001b[49m\u001b[43mchannel_indices\u001b[49m\u001b[38;5;241;43m=\u001b[39;49m\u001b[43mchannel_indices\u001b[49m\u001b[43m)\u001b[49m\n\u001b[1;32m    289\u001b[0m \u001b[38;5;28;01mif\u001b[39;00m order \u001b[38;5;129;01mis\u001b[39;00m \u001b[38;5;129;01mnot\u001b[39;00m \u001b[38;5;28;01mNone\u001b[39;00m:\n\u001b[1;32m    290\u001b[0m     \u001b[38;5;28;01massert\u001b[39;00m order \u001b[38;5;129;01min\u001b[39;00m [\u001b[38;5;124m\"\u001b[39m\u001b[38;5;124mC\u001b[39m\u001b[38;5;124m\"\u001b[39m, \u001b[38;5;124m\"\u001b[39m\u001b[38;5;124mF\u001b[39m\u001b[38;5;124m\"\u001b[39m]\n",
      "File \u001b[0;32m~/miniconda3/envs/spike_interface_0_100_5/lib/python3.10/site-packages/spikeinterface/preprocessing/whiten.py:109\u001b[0m, in \u001b[0;36mWhitenRecordingSegment.get_traces\u001b[0;34m(self, start_frame, end_frame, channel_indices)\u001b[0m\n\u001b[1;32m    108\u001b[0m \u001b[38;5;28;01mdef\u001b[39;00m \u001b[38;5;21mget_traces\u001b[39m(\u001b[38;5;28mself\u001b[39m, start_frame, end_frame, channel_indices):\n\u001b[0;32m--> 109\u001b[0m     traces \u001b[38;5;241m=\u001b[39m \u001b[38;5;28;43mself\u001b[39;49m\u001b[38;5;241;43m.\u001b[39;49m\u001b[43mparent_recording_segment\u001b[49m\u001b[38;5;241;43m.\u001b[39;49m\u001b[43mget_traces\u001b[49m\u001b[43m(\u001b[49m\u001b[43mstart_frame\u001b[49m\u001b[43m,\u001b[49m\u001b[43m \u001b[49m\u001b[43mend_frame\u001b[49m\u001b[43m,\u001b[49m\u001b[43m \u001b[49m\u001b[38;5;28;43mslice\u001b[39;49m\u001b[43m(\u001b[49m\u001b[38;5;28;43;01mNone\u001b[39;49;00m\u001b[43m)\u001b[49m\u001b[43m)\u001b[49m\n\u001b[1;32m    110\u001b[0m     traces_dtype \u001b[38;5;241m=\u001b[39m traces\u001b[38;5;241m.\u001b[39mdtype\n\u001b[1;32m    111\u001b[0m     \u001b[38;5;66;03m# if uint --> force int\u001b[39;00m\n",
      "File \u001b[0;32m~/miniconda3/envs/spike_interface_0_100_5/lib/python3.10/site-packages/spikeinterface/preprocessing/filter.py:132\u001b[0m, in \u001b[0;36mFilterRecordingSegment.get_traces\u001b[0;34m(self, start_frame, end_frame, channel_indices)\u001b[0m\n\u001b[1;32m    131\u001b[0m \u001b[38;5;28;01mdef\u001b[39;00m \u001b[38;5;21mget_traces\u001b[39m(\u001b[38;5;28mself\u001b[39m, start_frame, end_frame, channel_indices):\n\u001b[0;32m--> 132\u001b[0m     traces_chunk, left_margin, right_margin \u001b[38;5;241m=\u001b[39m \u001b[43mget_chunk_with_margin\u001b[49m\u001b[43m(\u001b[49m\n\u001b[1;32m    133\u001b[0m \u001b[43m        \u001b[49m\u001b[38;5;28;43mself\u001b[39;49m\u001b[38;5;241;43m.\u001b[39;49m\u001b[43mparent_recording_segment\u001b[49m\u001b[43m,\u001b[49m\n\u001b[1;32m    134\u001b[0m \u001b[43m        \u001b[49m\u001b[43mstart_frame\u001b[49m\u001b[43m,\u001b[49m\n\u001b[1;32m    135\u001b[0m \u001b[43m        \u001b[49m\u001b[43mend_frame\u001b[49m\u001b[43m,\u001b[49m\n\u001b[1;32m    136\u001b[0m \u001b[43m        \u001b[49m\u001b[43mchannel_indices\u001b[49m\u001b[43m,\u001b[49m\n\u001b[1;32m    137\u001b[0m \u001b[43m        \u001b[49m\u001b[38;5;28;43mself\u001b[39;49m\u001b[38;5;241;43m.\u001b[39;49m\u001b[43mmargin\u001b[49m\u001b[43m,\u001b[49m\n\u001b[1;32m    138\u001b[0m \u001b[43m        \u001b[49m\u001b[43madd_reflect_padding\u001b[49m\u001b[38;5;241;43m=\u001b[39;49m\u001b[38;5;28;43mself\u001b[39;49m\u001b[38;5;241;43m.\u001b[39;49m\u001b[43madd_reflect_padding\u001b[49m\u001b[43m,\u001b[49m\n\u001b[1;32m    139\u001b[0m \u001b[43m    \u001b[49m\u001b[43m)\u001b[49m\n\u001b[1;32m    141\u001b[0m     traces_dtype \u001b[38;5;241m=\u001b[39m traces_chunk\u001b[38;5;241m.\u001b[39mdtype\n\u001b[1;32m    142\u001b[0m     \u001b[38;5;66;03m# if uint --> force int\u001b[39;00m\n",
      "File \u001b[0;32m~/miniconda3/envs/spike_interface_0_100_5/lib/python3.10/site-packages/spikeinterface/core/recording_tools.py:721\u001b[0m, in \u001b[0;36mget_chunk_with_margin\u001b[0;34m(rec_segment, start_frame, end_frame, channel_indices, margin, add_zeros, add_reflect_padding, window_on_margin, dtype)\u001b[0m\n\u001b[1;32m    718\u001b[0m     \u001b[38;5;28;01melse\u001b[39;00m:\n\u001b[1;32m    719\u001b[0m         right_margin \u001b[38;5;241m=\u001b[39m margin\n\u001b[0;32m--> 721\u001b[0m     traces_chunk \u001b[38;5;241m=\u001b[39m \u001b[43mrec_segment\u001b[49m\u001b[38;5;241;43m.\u001b[39;49m\u001b[43mget_traces\u001b[49m\u001b[43m(\u001b[49m\n\u001b[1;32m    722\u001b[0m \u001b[43m        \u001b[49m\u001b[43mstart_frame\u001b[49m\u001b[43m \u001b[49m\u001b[38;5;241;43m-\u001b[39;49m\u001b[43m \u001b[49m\u001b[43mleft_margin\u001b[49m\u001b[43m,\u001b[49m\n\u001b[1;32m    723\u001b[0m \u001b[43m        \u001b[49m\u001b[43mend_frame\u001b[49m\u001b[43m \u001b[49m\u001b[38;5;241;43m+\u001b[39;49m\u001b[43m \u001b[49m\u001b[43mright_margin\u001b[49m\u001b[43m,\u001b[49m\n\u001b[1;32m    724\u001b[0m \u001b[43m        \u001b[49m\u001b[43mchannel_indices\u001b[49m\u001b[43m,\u001b[49m\n\u001b[1;32m    725\u001b[0m \u001b[43m    \u001b[49m\u001b[43m)\u001b[49m\n\u001b[1;32m    727\u001b[0m \u001b[38;5;28;01melse\u001b[39;00m:\n\u001b[1;32m    728\u001b[0m     \u001b[38;5;66;03m# either add_zeros or reflect_padding\u001b[39;00m\n\u001b[1;32m    729\u001b[0m     \u001b[38;5;28;01mif\u001b[39;00m start_frame \u001b[38;5;129;01mis\u001b[39;00m \u001b[38;5;28;01mNone\u001b[39;00m:\n",
      "File \u001b[0;32m~/miniconda3/envs/spike_interface_0_100_5/lib/python3.10/site-packages/spikeinterface/extractors/neoextractors/neobaseextractor.py:326\u001b[0m, in \u001b[0;36mNeoRecordingSegment.get_traces\u001b[0;34m(self, start_frame, end_frame, channel_indices)\u001b[0m\n\u001b[1;32m    320\u001b[0m \u001b[38;5;28;01mdef\u001b[39;00m \u001b[38;5;21mget_traces\u001b[39m(\n\u001b[1;32m    321\u001b[0m     \u001b[38;5;28mself\u001b[39m,\n\u001b[1;32m    322\u001b[0m     start_frame: Union[\u001b[38;5;28mint\u001b[39m, \u001b[38;5;28;01mNone\u001b[39;00m] \u001b[38;5;241m=\u001b[39m \u001b[38;5;28;01mNone\u001b[39;00m,\n\u001b[1;32m    323\u001b[0m     end_frame: Union[\u001b[38;5;28mint\u001b[39m, \u001b[38;5;28;01mNone\u001b[39;00m] \u001b[38;5;241m=\u001b[39m \u001b[38;5;28;01mNone\u001b[39;00m,\n\u001b[1;32m    324\u001b[0m     channel_indices: Union[List, \u001b[38;5;28;01mNone\u001b[39;00m] \u001b[38;5;241m=\u001b[39m \u001b[38;5;28;01mNone\u001b[39;00m,\n\u001b[1;32m    325\u001b[0m ) \u001b[38;5;241m-\u001b[39m\u001b[38;5;241m>\u001b[39m np\u001b[38;5;241m.\u001b[39mndarray:\n\u001b[0;32m--> 326\u001b[0m     raw_traces \u001b[38;5;241m=\u001b[39m \u001b[38;5;28;43mself\u001b[39;49m\u001b[38;5;241;43m.\u001b[39;49m\u001b[43mneo_reader\u001b[49m\u001b[38;5;241;43m.\u001b[39;49m\u001b[43mget_analogsignal_chunk\u001b[49m\u001b[43m(\u001b[49m\n\u001b[1;32m    327\u001b[0m \u001b[43m        \u001b[49m\u001b[43mblock_index\u001b[49m\u001b[38;5;241;43m=\u001b[39;49m\u001b[38;5;28;43mself\u001b[39;49m\u001b[38;5;241;43m.\u001b[39;49m\u001b[43mblock_index\u001b[49m\u001b[43m,\u001b[49m\n\u001b[1;32m    328\u001b[0m \u001b[43m        \u001b[49m\u001b[43mseg_index\u001b[49m\u001b[38;5;241;43m=\u001b[39;49m\u001b[38;5;28;43mself\u001b[39;49m\u001b[38;5;241;43m.\u001b[39;49m\u001b[43msegment_index\u001b[49m\u001b[43m,\u001b[49m\n\u001b[1;32m    329\u001b[0m \u001b[43m        \u001b[49m\u001b[43mi_start\u001b[49m\u001b[38;5;241;43m=\u001b[39;49m\u001b[43mstart_frame\u001b[49m\u001b[43m,\u001b[49m\n\u001b[1;32m    330\u001b[0m \u001b[43m        \u001b[49m\u001b[43mi_stop\u001b[49m\u001b[38;5;241;43m=\u001b[39;49m\u001b[43mend_frame\u001b[49m\u001b[43m,\u001b[49m\n\u001b[1;32m    331\u001b[0m \u001b[43m        \u001b[49m\u001b[43mstream_index\u001b[49m\u001b[38;5;241;43m=\u001b[39;49m\u001b[38;5;28;43mself\u001b[39;49m\u001b[38;5;241;43m.\u001b[39;49m\u001b[43mstream_index\u001b[49m\u001b[43m,\u001b[49m\n\u001b[1;32m    332\u001b[0m \u001b[43m        \u001b[49m\u001b[43mchannel_indexes\u001b[49m\u001b[38;5;241;43m=\u001b[39;49m\u001b[43mchannel_indices\u001b[49m\u001b[43m,\u001b[49m\n\u001b[1;32m    333\u001b[0m \u001b[43m    \u001b[49m\u001b[43m)\u001b[49m\n\u001b[1;32m    334\u001b[0m     \u001b[38;5;28;01mreturn\u001b[39;00m raw_traces\n",
      "File \u001b[0;32m~/miniconda3/envs/spike_interface_0_100_5/lib/python3.10/site-packages/neo/rawio/baserawio.py:617\u001b[0m, in \u001b[0;36mBaseRawIO.get_analogsignal_chunk\u001b[0;34m(self, block_index, seg_index, i_start, i_stop, stream_index, channel_indexes, channel_names, channel_ids, prefer_slice)\u001b[0m\n\u001b[1;32m    614\u001b[0m     \u001b[38;5;28;01mif\u001b[39;00m np\u001b[38;5;241m.\u001b[39mall(np\u001b[38;5;241m.\u001b[39mdiff(channel_indexes) \u001b[38;5;241m==\u001b[39m \u001b[38;5;241m1\u001b[39m):\n\u001b[1;32m    615\u001b[0m         channel_indexes \u001b[38;5;241m=\u001b[39m \u001b[38;5;28mslice\u001b[39m(channel_indexes[\u001b[38;5;241m0\u001b[39m], channel_indexes[\u001b[38;5;241m-\u001b[39m\u001b[38;5;241m1\u001b[39m] \u001b[38;5;241m+\u001b[39m \u001b[38;5;241m1\u001b[39m)\n\u001b[0;32m--> 617\u001b[0m raw_chunk \u001b[38;5;241m=\u001b[39m \u001b[38;5;28;43mself\u001b[39;49m\u001b[38;5;241;43m.\u001b[39;49m\u001b[43m_get_analogsignal_chunk\u001b[49m\u001b[43m(\u001b[49m\u001b[43mblock_index\u001b[49m\u001b[43m,\u001b[49m\u001b[43m \u001b[49m\u001b[43mseg_index\u001b[49m\u001b[43m,\u001b[49m\u001b[43m \u001b[49m\u001b[43mi_start\u001b[49m\u001b[43m,\u001b[49m\u001b[43m \u001b[49m\u001b[43mi_stop\u001b[49m\u001b[43m,\u001b[49m\u001b[43m \u001b[49m\u001b[43mstream_index\u001b[49m\u001b[43m,\u001b[49m\u001b[43m \u001b[49m\u001b[43mchannel_indexes\u001b[49m\u001b[43m)\u001b[49m\n\u001b[1;32m    619\u001b[0m \u001b[38;5;28;01mreturn\u001b[39;00m raw_chunk\n",
      "File \u001b[0;32m~/miniconda3/envs/spike_interface_0_100_5/lib/python3.10/site-packages/neo/rawio/spikegadgetsrawio.py:267\u001b[0m, in \u001b[0;36mSpikeGadgetsRawIO._get_analogsignal_chunk\u001b[0;34m(self, block_index, seg_index, i_start, i_stop, stream_index, channel_indexes)\u001b[0m\n\u001b[1;32m    264\u001b[0m         stream_mask \u001b[38;5;241m|\u001b[39m\u001b[38;5;241m=\u001b[39m chan_mask\n\u001b[1;32m    266\u001b[0m \u001b[38;5;66;03m# this copies the data from the memmap into memory\u001b[39;00m\n\u001b[0;32m--> 267\u001b[0m raw_unit8_mask \u001b[38;5;241m=\u001b[39m \u001b[43mraw_unit8\u001b[49m\u001b[43m[\u001b[49m\u001b[43m:\u001b[49m\u001b[43m,\u001b[49m\u001b[43m \u001b[49m\u001b[43mstream_mask\u001b[49m\u001b[43m]\u001b[49m\n\u001b[1;32m    268\u001b[0m shape \u001b[38;5;241m=\u001b[39m raw_unit8_mask\u001b[38;5;241m.\u001b[39mshape\n\u001b[1;32m    269\u001b[0m shape \u001b[38;5;241m=\u001b[39m (shape[\u001b[38;5;241m0\u001b[39m], shape[\u001b[38;5;241m1\u001b[39m] \u001b[38;5;241m/\u001b[39m\u001b[38;5;241m/\u001b[39m \u001b[38;5;241m2\u001b[39m)\n",
      "File \u001b[0;32m~/miniconda3/envs/spike_interface_0_100_5/lib/python3.10/site-packages/numpy/core/memmap.py:335\u001b[0m, in \u001b[0;36mmemmap.__getitem__\u001b[0;34m(self, index)\u001b[0m\n\u001b[1;32m    334\u001b[0m \u001b[38;5;28;01mdef\u001b[39;00m \u001b[38;5;21m__getitem__\u001b[39m(\u001b[38;5;28mself\u001b[39m, index):\n\u001b[0;32m--> 335\u001b[0m     res \u001b[38;5;241m=\u001b[39m \u001b[38;5;28;43msuper\u001b[39;49m\u001b[43m(\u001b[49m\u001b[43m)\u001b[49m\u001b[38;5;241;43m.\u001b[39;49m\u001b[38;5;21;43m__getitem__\u001b[39;49m\u001b[43m(\u001b[49m\u001b[43mindex\u001b[49m\u001b[43m)\u001b[49m\n\u001b[1;32m    336\u001b[0m     \u001b[38;5;28;01mif\u001b[39;00m \u001b[38;5;28mtype\u001b[39m(res) \u001b[38;5;129;01mis\u001b[39;00m memmap \u001b[38;5;129;01mand\u001b[39;00m res\u001b[38;5;241m.\u001b[39m_mmap \u001b[38;5;129;01mis\u001b[39;00m \u001b[38;5;28;01mNone\u001b[39;00m:\n\u001b[1;32m    337\u001b[0m         \u001b[38;5;28;01mreturn\u001b[39;00m res\u001b[38;5;241m.\u001b[39mview(\u001b[38;5;28mtype\u001b[39m\u001b[38;5;241m=\u001b[39mndarray)\n",
      "File \u001b[0;32m~/miniconda3/envs/spike_interface_0_100_5/lib/python3.10/site-packages/numpy/core/memmap.py:289\u001b[0m, in \u001b[0;36mmemmap.__array_finalize__\u001b[0;34m(self, obj)\u001b[0m\n\u001b[1;32m    285\u001b[0m             \u001b[38;5;28mself\u001b[39m\u001b[38;5;241m.\u001b[39mfilename \u001b[38;5;241m=\u001b[39m \u001b[38;5;28;01mNone\u001b[39;00m\n\u001b[1;32m    287\u001b[0m     \u001b[38;5;28;01mreturn\u001b[39;00m \u001b[38;5;28mself\u001b[39m\n\u001b[0;32m--> 289\u001b[0m \u001b[38;5;28;01mdef\u001b[39;00m \u001b[38;5;21m__array_finalize__\u001b[39m(\u001b[38;5;28mself\u001b[39m, obj):\n\u001b[1;32m    290\u001b[0m     \u001b[38;5;28;01mif\u001b[39;00m \u001b[38;5;28mhasattr\u001b[39m(obj, \u001b[38;5;124m'\u001b[39m\u001b[38;5;124m_mmap\u001b[39m\u001b[38;5;124m'\u001b[39m) \u001b[38;5;129;01mand\u001b[39;00m np\u001b[38;5;241m.\u001b[39mmay_share_memory(\u001b[38;5;28mself\u001b[39m, obj):\n\u001b[1;32m    291\u001b[0m         \u001b[38;5;28mself\u001b[39m\u001b[38;5;241m.\u001b[39m_mmap \u001b[38;5;241m=\u001b[39m obj\u001b[38;5;241m.\u001b[39m_mmap\n",
      "\u001b[0;31mKeyboardInterrupt\u001b[0m: "
     ]
    }
   ],
   "source": [
    "successful_files = [] \n",
    "failed_files = []\n",
    "for recording_file in all_recording_files:\n",
    "    print(recording_file)\n",
    "    try:\n",
    "        trodes_recording = se.read_spikegadgets(recording_file, stream_id=\"trodes\")       \n",
    "        trodes_recording = trodes_recording.set_probes(probe_object)\n",
    "        recording_basename = os.path.basename(recording_file)\n",
    "        recording_output_directory = \"/scratch/back_up/reward_competition_extention/proc/spike_sorting/{}\".format(recording_basename)\n",
    "        \n",
    "        os.makedirs(recording_output_directory, exist_ok=True)\n",
    "        print(\"Output directory: {}\".format(recording_output_directory))\n",
    "        child_spikesorting_output_directory = os.path.join(recording_output_directory,\"ss_output\")\n",
    "               \n",
    "        if not os.path.exists(child_spikesorting_output_directory):\n",
    "            start = time.time()\n",
    "            # Make sure the recording is preprocessed appropriately\n",
    "            # lazy preprocessing\n",
    "            print(\"Running bandpass filter\")\n",
    "            recording_filtered = sp.bandpass_filter(trodes_recording, freq_min=300, freq_max=6000)\n",
    "            print(\"Running whitening\")\n",
    "            recording_preprocessed: si.BaseRecording = sp.whiten(recording_filtered, dtype='float32')\n",
    "            \n",
    "            with TemporaryDirectory(dir='/tmp') as tmpdir:\n",
    "                # cache the recording to a temporary directory for efficient reading\n",
    "                print(\"Caching the recording\")\n",
    "                recording_cached = create_cached_recording(recording_preprocessed, folder=tmpdir)\n",
    "                print(\"Spike sorting\")\n",
    "                spike_sorted_object = ms5.sorting_scheme2(\n",
    "                recording=recording_preprocessed,\n",
    "                sorting_parameters=ms5.Scheme2SortingParameters(\n",
    "                    detect_sign=0,\n",
    "                    phase1_detect_channel_radius=700,\n",
    "                    detect_channel_radius=700,\n",
    "                    # other parameters...\n",
    "                    )\n",
    "                        )\n",
    "        \n",
    "                spike_sorted_object.save(folder=child_spikesorting_output_directory)\n",
    "\n",
    "                sw.plot_rasters(spike_sorted_object)\n",
    "                plt.title(recording_basename)\n",
    "                plt.ylabel(\"Unit IDs\")\n",
    "                \n",
    "                plt.savefig(os.path.join(recording_output_directory, \"{}_raster_plot.png\".format(recording_basename)))\n",
    "                plt.close()\n",
    "                \n",
    "                waveform_output_directory = os.path.join(recording_output_directory, \"waveforms\")\n",
    "                print(\"Saving to phy\")\n",
    "                we_spike_sorted = si.extract_waveforms(recording=recording_preprocessed, \n",
    "                                            sorting=spike_sorted_object, folder=waveform_output_directory,\n",
    "                                            ms_before=1, ms_after=1, progress_bar=True,\n",
    "                                            n_jobs=8, total_memory=\"1G\", overwrite=True,\n",
    "                                            max_spikes_per_unit=2000)\n",
    "                \n",
    "                phy_output_directory = os.path.join(recording_output_directory, \"phy\")\n",
    "                \n",
    "                export_to_phy(we_spike_sorted, phy_output_directory,\n",
    "                    compute_pc_features=True, compute_amplitudes=True, remove_if_exists=False)\n",
    "                successful_files.append(recording_file)\n",
    "            \n",
    "            \n",
    "            \n",
    "            \n",
    "            \n",
    "            \n",
    "\n",
    "    \n",
    "            \n",
    "            \n",
    "        else:\n",
    "            warnings.warn(\"\"\"Directory already exists for: {}. \n",
    "            Either continue on if you are satisfied with the previous run \n",
    "            or delete the directory and run this cell again\"\"\".format(child_spikesorting_output_directory))\n",
    "            continue\n",
    "                        \n",
    "\n",
    "    except Exception as e: \n",
    "        print(e)\n",
    "        failed_files.append(recording_file)\n"
   ]
  },
  {
   "cell_type": "code",
   "execution_count": null,
   "metadata": {},
   "outputs": [],
   "source": [
    "raise ValueError()"
   ]
  }
 ],
 "metadata": {
  "kernelspec": {
   "display_name": "Python 3 (ipykernel)",
   "language": "python",
   "name": "python3"
  },
  "language_info": {
   "codemirror_mode": {
    "name": "ipython",
    "version": 3
   },
   "file_extension": ".py",
   "mimetype": "text/x-python",
   "name": "python",
   "nbconvert_exporter": "python",
   "pygments_lexer": "ipython3",
   "version": "3.10.14"
  },
  "vscode": {
   "interpreter": {
    "hash": "916dbcbb3f70747c44a77c7bcd40155683ae19c65e1c03b4aa3499c5328201f1"
   }
  }
 },
 "nbformat": 4,
 "nbformat_minor": 1
}
