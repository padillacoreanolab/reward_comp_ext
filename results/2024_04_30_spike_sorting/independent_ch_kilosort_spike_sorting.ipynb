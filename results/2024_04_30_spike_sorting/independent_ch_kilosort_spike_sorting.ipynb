{
 "cells": [
  {
   "cell_type": "code",
   "execution_count": 1,
   "metadata": {},
   "outputs": [],
   "source": [
    "%matplotlib inline"
   ]
  },
  {
   "cell_type": "markdown",
   "metadata": {},
   "source": [
    "# Preprocessing and Spike Sorting Tutorial"
   ]
  },
  {
   "cell_type": "markdown",
   "metadata": {},
   "source": [
    "- In this introductory example, you will see how to use the :code:`spikeinterface` to perform a full electrophysiology analysis.\n",
    "- We will first create some simulated data, and we will then perform some pre-processing, run a couple of spike sorting algorithms, inspect and validate the results, export to Phy, and compare spike sorters.\n"
   ]
  },
  {
   "cell_type": "code",
   "execution_count": 2,
   "metadata": {},
   "outputs": [
    {
     "name": "stderr",
     "output_type": "stream",
     "text": [
      "/tmp/ipykernel_291467/868811323.py:6: DeprecationWarning: the imp module is deprecated in favour of importlib; see the module's documentation for alternative uses\n",
      "  import imp\n"
     ]
    }
   ],
   "source": [
    "import os\n",
    "import pickle\n",
    "import _pickle as cPickle\n",
    "import glob\n",
    "import warnings\n",
    "import imp\n",
    "import shutil"
   ]
  },
  {
   "cell_type": "code",
   "execution_count": 3,
   "metadata": {},
   "outputs": [],
   "source": [
    "from collections import defaultdict\n",
    "import time\n",
    "import json\n",
    "from datetime import datetime"
   ]
  },
  {
   "cell_type": "code",
   "execution_count": 4,
   "metadata": {},
   "outputs": [],
   "source": [
    "import matplotlib.pyplot as plt\n",
    "from matplotlib.pyplot import cm\n",
    "import numpy as np\n",
    "import pandas as pd\n",
    "import scipy.signal"
   ]
  },
  {
   "cell_type": "code",
   "execution_count": 5,
   "metadata": {},
   "outputs": [
    {
     "data": {
      "text/plain": [
       "<Figure size 640x480 with 0 Axes>"
      ]
     },
     "execution_count": 5,
     "metadata": {},
     "output_type": "execute_result"
    },
    {
     "data": {
      "text/plain": [
       "<Figure size 640x480 with 0 Axes>"
      ]
     },
     "metadata": {},
     "output_type": "display_data"
    }
   ],
   "source": [
    "# Changing the figure size\n",
    "from matplotlib.pyplot import figure\n",
    "figure(figsize=(8, 6), dpi=80)"
   ]
  },
  {
   "cell_type": "markdown",
   "metadata": {},
   "source": [
    "The spikeinterface module by itself import only the spikeinterface.core submodule\n",
    "which is not useful for end user\n",
    "\n"
   ]
  },
  {
   "cell_type": "code",
   "execution_count": 6,
   "metadata": {},
   "outputs": [],
   "source": [
    "import spikeinterface"
   ]
  },
  {
   "cell_type": "markdown",
   "metadata": {},
   "source": [
    "We need to import one by one different submodules separately (preferred).\n",
    "There are 5 modules:\n",
    "\n",
    "- :code:`extractors` : file IO\n",
    "- :code:`toolkit` : processing toolkit for pre-, post-processing, validation, and automatic curation\n",
    "- :code:`sorters` : Python wrappers of spike sorters\n",
    "- :code:`comparison` : comparison of spike sorting output\n",
    "- :code:`widgets` : visualization\n",
    "\n"
   ]
  },
  {
   "cell_type": "code",
   "execution_count": 27,
   "metadata": {},
   "outputs": [
    {
     "ename": "ModuleNotFoundError",
     "evalue": "No module named 'spikeinterface.toolkit'",
     "output_type": "error",
     "traceback": [
      "\u001b[0;31m---------------------------------------------------------------------------\u001b[0m",
      "\u001b[0;31mModuleNotFoundError\u001b[0m                       Traceback (most recent call last)",
      "Cell \u001b[0;32mIn[27], line 5\u001b[0m\n\u001b[1;32m      3\u001b[0m \u001b[38;5;28;01mimport\u001b[39;00m \u001b[38;5;21;01mspikeinterface\u001b[39;00m\u001b[38;5;21;01m.\u001b[39;00m\u001b[38;5;21;01msorters\u001b[39;00m \u001b[38;5;28;01mas\u001b[39;00m \u001b[38;5;21;01mss\u001b[39;00m\n\u001b[1;32m      4\u001b[0m \u001b[38;5;28;01mimport\u001b[39;00m \u001b[38;5;21;01mspikeinterface\u001b[39;00m\u001b[38;5;21;01m.\u001b[39;00m\u001b[38;5;21;01mpreprocessing\u001b[39;00m \u001b[38;5;28;01mas\u001b[39;00m \u001b[38;5;21;01msp\u001b[39;00m\n\u001b[0;32m----> 5\u001b[0m \u001b[38;5;28;01mimport\u001b[39;00m \u001b[38;5;21;01mspikeinterface\u001b[39;00m\u001b[38;5;21;01m.\u001b[39;00m\u001b[38;5;21;01mtoolkit\u001b[39;00m \u001b[38;5;28;01mas\u001b[39;00m \u001b[38;5;21;01mst\u001b[39;00m\n\u001b[1;32m      6\u001b[0m \u001b[38;5;28;01mimport\u001b[39;00m \u001b[38;5;21;01mspikeinterface\u001b[39;00m\u001b[38;5;21;01m.\u001b[39;00m\u001b[38;5;21;01mcomparison\u001b[39;00m \u001b[38;5;28;01mas\u001b[39;00m \u001b[38;5;21;01msc\u001b[39;00m\n\u001b[1;32m      7\u001b[0m \u001b[38;5;28;01mimport\u001b[39;00m \u001b[38;5;21;01mspikeinterface\u001b[39;00m\u001b[38;5;21;01m.\u001b[39;00m\u001b[38;5;21;01mwidgets\u001b[39;00m \u001b[38;5;28;01mas\u001b[39;00m \u001b[38;5;21;01msw\u001b[39;00m\n",
      "\u001b[0;31mModuleNotFoundError\u001b[0m: No module named 'spikeinterface.toolkit'"
     ]
    }
   ],
   "source": [
    "import spikeinterface as si  # import core only\n",
    "import spikeinterface.extractors as se\n",
    "import spikeinterface.sorters as ss\n",
    "import spikeinterface.preprocessing as sp\n",
    "import spikeinterface.comparison as sc\n",
    "import spikeinterface.widgets as sw\n",
    "from spikeinterface.exporters import export_to_phy"
   ]
  },
  {
   "cell_type": "code",
   "execution_count": 8,
   "metadata": {},
   "outputs": [],
   "source": [
    "import spikeinterface.core"
   ]
  },
  {
   "cell_type": "code",
   "execution_count": 9,
   "metadata": {},
   "outputs": [],
   "source": [
    "from probeinterface import get_probe\n",
    "from probeinterface.plotting import plot_probe, plot_probe_group\n",
    "from probeinterface import write_prb, read_prb"
   ]
  },
  {
   "cell_type": "code",
   "execution_count": 10,
   "metadata": {},
   "outputs": [],
   "source": [
    "# import mountainsort5 as ms5"
   ]
  },
  {
   "cell_type": "code",
   "execution_count": 11,
   "metadata": {},
   "outputs": [],
   "source": [
    "# from tempfile import TemporaryDirectory\n",
    "# from mountainsort5.util import create_cached_recording"
   ]
  },
  {
   "cell_type": "markdown",
   "metadata": {},
   "source": [
    "We can also import all submodules at once with this\n",
    "  this internally import core+extractors+toolkit+sorters+comparison+widgets+exporters\n",
    "\n",
    "This is useful for notebooks but this is a more heavy import because internally many more dependency\n",
    "are imported (scipy/sklearn/networkx/matplotlib/h5py...)\n",
    "\n"
   ]
  },
  {
   "cell_type": "code",
   "execution_count": 12,
   "metadata": {},
   "outputs": [],
   "source": [
    "import spikeinterface.full as si"
   ]
  },
  {
   "cell_type": "code",
   "execution_count": 13,
   "metadata": {},
   "outputs": [],
   "source": [
    "# Increase size of plot in jupyter\n",
    "\n",
    "plt.rcParams[\"figure.figsize\"] = (10,6)"
   ]
  },
  {
   "cell_type": "markdown",
   "metadata": {},
   "source": [
    "# Part 0: Loading in the Probe"
   ]
  },
  {
   "cell_type": "markdown",
   "metadata": {},
   "source": [
    "- Reading in the probe information into Spike interface and plotting the probe"
   ]
  },
  {
   "cell_type": "code",
   "execution_count": 14,
   "metadata": {},
   "outputs": [],
   "source": [
    "probe_object = read_prb(\"./linear_probe_with_large_spaces.prb\")"
   ]
  },
  {
   "cell_type": "code",
   "execution_count": 15,
   "metadata": {},
   "outputs": [
    {
     "data": {
      "text/html": [
       "<div>\n",
       "<style scoped>\n",
       "    .dataframe tbody tr th:only-of-type {\n",
       "        vertical-align: middle;\n",
       "    }\n",
       "\n",
       "    .dataframe tbody tr th {\n",
       "        vertical-align: top;\n",
       "    }\n",
       "\n",
       "    .dataframe thead th {\n",
       "        text-align: right;\n",
       "    }\n",
       "</style>\n",
       "<table border=\"1\" class=\"dataframe\">\n",
       "  <thead>\n",
       "    <tr style=\"text-align: right;\">\n",
       "      <th></th>\n",
       "      <th>probe_index</th>\n",
       "      <th>x</th>\n",
       "      <th>y</th>\n",
       "      <th>contact_shapes</th>\n",
       "      <th>radius</th>\n",
       "      <th>shank_ids</th>\n",
       "      <th>contact_ids</th>\n",
       "    </tr>\n",
       "  </thead>\n",
       "  <tbody>\n",
       "    <tr>\n",
       "      <th>0</th>\n",
       "      <td>0</td>\n",
       "      <td>0.0</td>\n",
       "      <td>0.0</td>\n",
       "      <td>circle</td>\n",
       "      <td>5.0</td>\n",
       "      <td></td>\n",
       "      <td></td>\n",
       "    </tr>\n",
       "    <tr>\n",
       "      <th>1</th>\n",
       "      <td>0</td>\n",
       "      <td>5.0</td>\n",
       "      <td>20.0</td>\n",
       "      <td>circle</td>\n",
       "      <td>5.0</td>\n",
       "      <td></td>\n",
       "      <td></td>\n",
       "    </tr>\n",
       "    <tr>\n",
       "      <th>2</th>\n",
       "      <td>0</td>\n",
       "      <td>-7.0</td>\n",
       "      <td>40.0</td>\n",
       "      <td>circle</td>\n",
       "      <td>5.0</td>\n",
       "      <td></td>\n",
       "      <td></td>\n",
       "    </tr>\n",
       "    <tr>\n",
       "      <th>3</th>\n",
       "      <td>0</td>\n",
       "      <td>9.0</td>\n",
       "      <td>60.0</td>\n",
       "      <td>circle</td>\n",
       "      <td>5.0</td>\n",
       "      <td></td>\n",
       "      <td></td>\n",
       "    </tr>\n",
       "    <tr>\n",
       "      <th>4</th>\n",
       "      <td>0</td>\n",
       "      <td>-11.0</td>\n",
       "      <td>80.0</td>\n",
       "      <td>circle</td>\n",
       "      <td>5.0</td>\n",
       "      <td></td>\n",
       "      <td></td>\n",
       "    </tr>\n",
       "    <tr>\n",
       "      <th>5</th>\n",
       "      <td>0</td>\n",
       "      <td>13.0</td>\n",
       "      <td>100.0</td>\n",
       "      <td>circle</td>\n",
       "      <td>5.0</td>\n",
       "      <td></td>\n",
       "      <td></td>\n",
       "    </tr>\n",
       "    <tr>\n",
       "      <th>6</th>\n",
       "      <td>0</td>\n",
       "      <td>-15.0</td>\n",
       "      <td>120.0</td>\n",
       "      <td>circle</td>\n",
       "      <td>5.0</td>\n",
       "      <td></td>\n",
       "      <td></td>\n",
       "    </tr>\n",
       "    <tr>\n",
       "      <th>7</th>\n",
       "      <td>0</td>\n",
       "      <td>17.0</td>\n",
       "      <td>140.0</td>\n",
       "      <td>circle</td>\n",
       "      <td>5.0</td>\n",
       "      <td></td>\n",
       "      <td></td>\n",
       "    </tr>\n",
       "    <tr>\n",
       "      <th>8</th>\n",
       "      <td>0</td>\n",
       "      <td>-19.0</td>\n",
       "      <td>160.0</td>\n",
       "      <td>circle</td>\n",
       "      <td>5.0</td>\n",
       "      <td></td>\n",
       "      <td></td>\n",
       "    </tr>\n",
       "    <tr>\n",
       "      <th>9</th>\n",
       "      <td>0</td>\n",
       "      <td>21.0</td>\n",
       "      <td>180.0</td>\n",
       "      <td>circle</td>\n",
       "      <td>5.0</td>\n",
       "      <td></td>\n",
       "      <td></td>\n",
       "    </tr>\n",
       "    <tr>\n",
       "      <th>10</th>\n",
       "      <td>0</td>\n",
       "      <td>-23.0</td>\n",
       "      <td>200.0</td>\n",
       "      <td>circle</td>\n",
       "      <td>5.0</td>\n",
       "      <td></td>\n",
       "      <td></td>\n",
       "    </tr>\n",
       "    <tr>\n",
       "      <th>11</th>\n",
       "      <td>0</td>\n",
       "      <td>25.0</td>\n",
       "      <td>220.0</td>\n",
       "      <td>circle</td>\n",
       "      <td>5.0</td>\n",
       "      <td></td>\n",
       "      <td></td>\n",
       "    </tr>\n",
       "    <tr>\n",
       "      <th>12</th>\n",
       "      <td>0</td>\n",
       "      <td>-27.0</td>\n",
       "      <td>240.0</td>\n",
       "      <td>circle</td>\n",
       "      <td>5.0</td>\n",
       "      <td></td>\n",
       "      <td></td>\n",
       "    </tr>\n",
       "    <tr>\n",
       "      <th>13</th>\n",
       "      <td>0</td>\n",
       "      <td>29.0</td>\n",
       "      <td>260.0</td>\n",
       "      <td>circle</td>\n",
       "      <td>5.0</td>\n",
       "      <td></td>\n",
       "      <td></td>\n",
       "    </tr>\n",
       "    <tr>\n",
       "      <th>14</th>\n",
       "      <td>0</td>\n",
       "      <td>-31.0</td>\n",
       "      <td>280.0</td>\n",
       "      <td>circle</td>\n",
       "      <td>5.0</td>\n",
       "      <td></td>\n",
       "      <td></td>\n",
       "    </tr>\n",
       "    <tr>\n",
       "      <th>15</th>\n",
       "      <td>0</td>\n",
       "      <td>33.0</td>\n",
       "      <td>300.0</td>\n",
       "      <td>circle</td>\n",
       "      <td>5.0</td>\n",
       "      <td></td>\n",
       "      <td></td>\n",
       "    </tr>\n",
       "    <tr>\n",
       "      <th>16</th>\n",
       "      <td>0</td>\n",
       "      <td>-35.0</td>\n",
       "      <td>320.0</td>\n",
       "      <td>circle</td>\n",
       "      <td>5.0</td>\n",
       "      <td></td>\n",
       "      <td></td>\n",
       "    </tr>\n",
       "    <tr>\n",
       "      <th>17</th>\n",
       "      <td>0</td>\n",
       "      <td>37.0</td>\n",
       "      <td>340.0</td>\n",
       "      <td>circle</td>\n",
       "      <td>5.0</td>\n",
       "      <td></td>\n",
       "      <td></td>\n",
       "    </tr>\n",
       "    <tr>\n",
       "      <th>18</th>\n",
       "      <td>0</td>\n",
       "      <td>-39.0</td>\n",
       "      <td>360.0</td>\n",
       "      <td>circle</td>\n",
       "      <td>5.0</td>\n",
       "      <td></td>\n",
       "      <td></td>\n",
       "    </tr>\n",
       "    <tr>\n",
       "      <th>19</th>\n",
       "      <td>0</td>\n",
       "      <td>41.0</td>\n",
       "      <td>380.0</td>\n",
       "      <td>circle</td>\n",
       "      <td>5.0</td>\n",
       "      <td></td>\n",
       "      <td></td>\n",
       "    </tr>\n",
       "    <tr>\n",
       "      <th>20</th>\n",
       "      <td>0</td>\n",
       "      <td>-43.0</td>\n",
       "      <td>400.0</td>\n",
       "      <td>circle</td>\n",
       "      <td>5.0</td>\n",
       "      <td></td>\n",
       "      <td></td>\n",
       "    </tr>\n",
       "    <tr>\n",
       "      <th>21</th>\n",
       "      <td>0</td>\n",
       "      <td>45.0</td>\n",
       "      <td>420.0</td>\n",
       "      <td>circle</td>\n",
       "      <td>5.0</td>\n",
       "      <td></td>\n",
       "      <td></td>\n",
       "    </tr>\n",
       "    <tr>\n",
       "      <th>22</th>\n",
       "      <td>0</td>\n",
       "      <td>-47.0</td>\n",
       "      <td>440.0</td>\n",
       "      <td>circle</td>\n",
       "      <td>5.0</td>\n",
       "      <td></td>\n",
       "      <td></td>\n",
       "    </tr>\n",
       "    <tr>\n",
       "      <th>23</th>\n",
       "      <td>0</td>\n",
       "      <td>49.0</td>\n",
       "      <td>460.0</td>\n",
       "      <td>circle</td>\n",
       "      <td>5.0</td>\n",
       "      <td></td>\n",
       "      <td></td>\n",
       "    </tr>\n",
       "    <tr>\n",
       "      <th>24</th>\n",
       "      <td>0</td>\n",
       "      <td>-51.0</td>\n",
       "      <td>480.0</td>\n",
       "      <td>circle</td>\n",
       "      <td>5.0</td>\n",
       "      <td></td>\n",
       "      <td></td>\n",
       "    </tr>\n",
       "    <tr>\n",
       "      <th>25</th>\n",
       "      <td>0</td>\n",
       "      <td>53.0</td>\n",
       "      <td>500.0</td>\n",
       "      <td>circle</td>\n",
       "      <td>5.0</td>\n",
       "      <td></td>\n",
       "      <td></td>\n",
       "    </tr>\n",
       "    <tr>\n",
       "      <th>26</th>\n",
       "      <td>0</td>\n",
       "      <td>-55.0</td>\n",
       "      <td>520.0</td>\n",
       "      <td>circle</td>\n",
       "      <td>5.0</td>\n",
       "      <td></td>\n",
       "      <td></td>\n",
       "    </tr>\n",
       "    <tr>\n",
       "      <th>27</th>\n",
       "      <td>0</td>\n",
       "      <td>57.0</td>\n",
       "      <td>540.0</td>\n",
       "      <td>circle</td>\n",
       "      <td>5.0</td>\n",
       "      <td></td>\n",
       "      <td></td>\n",
       "    </tr>\n",
       "    <tr>\n",
       "      <th>28</th>\n",
       "      <td>0</td>\n",
       "      <td>-59.0</td>\n",
       "      <td>560.0</td>\n",
       "      <td>circle</td>\n",
       "      <td>5.0</td>\n",
       "      <td></td>\n",
       "      <td></td>\n",
       "    </tr>\n",
       "    <tr>\n",
       "      <th>29</th>\n",
       "      <td>0</td>\n",
       "      <td>61.0</td>\n",
       "      <td>580.0</td>\n",
       "      <td>circle</td>\n",
       "      <td>5.0</td>\n",
       "      <td></td>\n",
       "      <td></td>\n",
       "    </tr>\n",
       "    <tr>\n",
       "      <th>30</th>\n",
       "      <td>0</td>\n",
       "      <td>-63.0</td>\n",
       "      <td>600.0</td>\n",
       "      <td>circle</td>\n",
       "      <td>5.0</td>\n",
       "      <td></td>\n",
       "      <td></td>\n",
       "    </tr>\n",
       "    <tr>\n",
       "      <th>31</th>\n",
       "      <td>0</td>\n",
       "      <td>65.0</td>\n",
       "      <td>620.0</td>\n",
       "      <td>circle</td>\n",
       "      <td>5.0</td>\n",
       "      <td></td>\n",
       "      <td></td>\n",
       "    </tr>\n",
       "  </tbody>\n",
       "</table>\n",
       "</div>"
      ],
      "text/plain": [
       "    probe_index     x      y contact_shapes  radius shank_ids contact_ids\n",
       "0             0   0.0    0.0         circle     5.0                      \n",
       "1             0   5.0   20.0         circle     5.0                      \n",
       "2             0  -7.0   40.0         circle     5.0                      \n",
       "3             0   9.0   60.0         circle     5.0                      \n",
       "4             0 -11.0   80.0         circle     5.0                      \n",
       "5             0  13.0  100.0         circle     5.0                      \n",
       "6             0 -15.0  120.0         circle     5.0                      \n",
       "7             0  17.0  140.0         circle     5.0                      \n",
       "8             0 -19.0  160.0         circle     5.0                      \n",
       "9             0  21.0  180.0         circle     5.0                      \n",
       "10            0 -23.0  200.0         circle     5.0                      \n",
       "11            0  25.0  220.0         circle     5.0                      \n",
       "12            0 -27.0  240.0         circle     5.0                      \n",
       "13            0  29.0  260.0         circle     5.0                      \n",
       "14            0 -31.0  280.0         circle     5.0                      \n",
       "15            0  33.0  300.0         circle     5.0                      \n",
       "16            0 -35.0  320.0         circle     5.0                      \n",
       "17            0  37.0  340.0         circle     5.0                      \n",
       "18            0 -39.0  360.0         circle     5.0                      \n",
       "19            0  41.0  380.0         circle     5.0                      \n",
       "20            0 -43.0  400.0         circle     5.0                      \n",
       "21            0  45.0  420.0         circle     5.0                      \n",
       "22            0 -47.0  440.0         circle     5.0                      \n",
       "23            0  49.0  460.0         circle     5.0                      \n",
       "24            0 -51.0  480.0         circle     5.0                      \n",
       "25            0  53.0  500.0         circle     5.0                      \n",
       "26            0 -55.0  520.0         circle     5.0                      \n",
       "27            0  57.0  540.0         circle     5.0                      \n",
       "28            0 -59.0  560.0         circle     5.0                      \n",
       "29            0  61.0  580.0         circle     5.0                      \n",
       "30            0 -63.0  600.0         circle     5.0                      \n",
       "31            0  65.0  620.0         circle     5.0                      "
      ]
     },
     "execution_count": 15,
     "metadata": {},
     "output_type": "execute_result"
    }
   ],
   "source": [
    "probe_object.to_dataframe()"
   ]
  },
  {
   "cell_type": "code",
   "execution_count": 16,
   "metadata": {},
   "outputs": [
    {
     "data": {
      "text/plain": [
       "array(['', '', '', '', '', '', '', '', '', '', '', '', '', '', '', '', '',\n",
       "       '', '', '', '', '', '', '', '', '', '', '', '', '', '', ''],\n",
       "      dtype='<U64')"
      ]
     },
     "execution_count": 16,
     "metadata": {},
     "output_type": "execute_result"
    }
   ],
   "source": [
    "probe_object.get_global_contact_ids()"
   ]
  },
  {
   "cell_type": "code",
   "execution_count": 17,
   "metadata": {},
   "outputs": [
    {
     "data": {
      "text/plain": [
       "array([(0,  0), (0,  1), (0,  2), (0,  3), (0,  4), (0,  5), (0,  6),\n",
       "       (0,  7), (0,  8), (0,  9), (0, 10), (0, 11), (0, 12), (0, 13),\n",
       "       (0, 14), (0, 15), (0, 16), (0, 17), (0, 18), (0, 19), (0, 20),\n",
       "       (0, 21), (0, 22), (0, 23), (0, 24), (0, 25), (0, 26), (0, 27),\n",
       "       (0, 28), (0, 29), (0, 30), (0, 31)],\n",
       "      dtype=[('probe_index', '<i8'), ('device_channel_indices', '<i8')])"
      ]
     },
     "execution_count": 17,
     "metadata": {},
     "output_type": "execute_result"
    }
   ],
   "source": [
    "probe_object.get_global_device_channel_indices()"
   ]
  },
  {
   "cell_type": "markdown",
   "metadata": {},
   "source": [
    "- Creating a dictionary of all the variables in the probe file"
   ]
  },
  {
   "cell_type": "code",
   "execution_count": 18,
   "metadata": {},
   "outputs": [],
   "source": [
    "if 'probe_parameters' in locals():\n",
    "    probe_dict = defaultdict(dict)\n",
    "    for attribute in dir(probe_parameters):\n",
    "        # Removing built in attributes\n",
    "        if not attribute.startswith(\"__\"): \n",
    "            probe_dict[attribute] = getattr(probe_parameters, attribute)"
   ]
  },
  {
   "cell_type": "code",
   "execution_count": 19,
   "metadata": {},
   "outputs": [],
   "source": [
    "if \"probe_dict\" in locals():\n",
    "    for key, value in probe_dict.items():\n",
    "        print(\"{}: {}\".format(key, value))"
   ]
  },
  {
   "cell_type": "code",
   "execution_count": null,
   "metadata": {},
   "outputs": [],
   "source": []
  },
  {
   "cell_type": "markdown",
   "metadata": {},
   "source": [
    "# Part 1: Importing Data"
   ]
  },
  {
   "cell_type": "markdown",
   "metadata": {},
   "source": [
    "## Loading in the Electrophysiology Recording"
   ]
  },
  {
   "cell_type": "markdown",
   "metadata": {},
   "source": [
    "- We are inputting the electrophsiology recording data with probe information. This should have been created in the prevous notebook in a directory created by Spike Interface. If you had already read in your own electrophsiology recording data with probe information with a different way, then follow these instructions.\n",
    "    - If you want to use a different directory, then you must either:\n",
    "        - Change `glob.glob({./path/to/with/*/recording_raw})` to the directory that you have the directories created from Spikeinterface. You can use a wildcard if you have multiple folders. You would replace `{./path/to/with/*/recording_raw}` with the path to either the parent directory or the actual directory containing the electrophsiology recording data read into Spikeinterface.\n",
    "        - Or change `(file_or_folder_or_dict={./path/to/recording_raw})`. You would replace `{./path/to/recording_raw}` with the path to either the parent directory or the actual directory containing the electrophsiology recording data read into Spikeinterface."
   ]
  },
  {
   "cell_type": "code",
   "execution_count": 20,
   "metadata": {},
   "outputs": [],
   "source": [
    "recording_filepath_glob = \"/scratch/back_up/reward_competition_extention/data/rce_cohort_3/*/*.rec/*merged.rec\""
   ]
  },
  {
   "cell_type": "code",
   "execution_count": 21,
   "metadata": {},
   "outputs": [],
   "source": [
    "all_recording_files = glob.glob(recording_filepath_glob, recursive=True)"
   ]
  },
  {
   "cell_type": "code",
   "execution_count": 22,
   "metadata": {},
   "outputs": [],
   "source": [
    "all_recording_files = [file_path for file_path in all_recording_files if \"copies\" not in file_path]"
   ]
  },
  {
   "cell_type": "code",
   "execution_count": 23,
   "metadata": {},
   "outputs": [
    {
     "data": {
      "text/plain": [
       "['/scratch/back_up/reward_competition_extention/data/rce_cohort_3/discriminate/20240417_150153_comp_discriminate_subj_3-3_and_3-4.rec/20240417_150153_comp_discriminate_subj_3-3_t5b5_merged.rec',\n",
       " '/scratch/back_up/reward_competition_extention/data/rce_cohort_3/discriminate/20240417_150153_comp_discriminate_subj_3-3_and_3-4.rec/20240417_150153_comp_discriminate_subj_3-4_t6b6_merged.rec',\n",
       " '/scratch/back_up/reward_competition_extention/data/rce_cohort_3/discriminate/20240413_151204_comp_discriminate_subj_3-1_and_3-3.rec/20240413_151204_comp_discriminate_subj_3-1_t5b5_merged.rec',\n",
       " '/scratch/back_up/reward_competition_extention/data/rce_cohort_3/discriminate/20240413_151204_comp_discriminate_subj_3-1_and_3-3.rec/20240413_151204_comp_discriminate_subj_3-3_t6b6_merged.rec',\n",
       " '/scratch/back_up/reward_competition_extention/data/rce_cohort_3/discriminate/20240414_154115_comp_discriminate_subj_4-2_and_4-4.rec/20240414_154115_comp_discriminate_subj_4-2_t3b3_merged.rec',\n",
       " '/scratch/back_up/reward_competition_extention/data/rce_cohort_3/discriminate/20240414_154115_comp_discriminate_subj_4-2_and_4-4.rec/20240414_154115_comp_discriminate_subj_4-4_t4b4_merged.rec',\n",
       " '/scratch/back_up/reward_competition_extention/data/rce_cohort_3/discriminate/20240415_153312_comp_discriminate_subj_3-1_and_3-4.rec/20240415_153312_comp_discriminate_subj_3-1_t3b3_merged.rec',\n",
       " '/scratch/back_up/reward_competition_extention/data/rce_cohort_3/discriminate/20240415_153312_comp_discriminate_subj_3-1_and_3-4.rec/20240415_153312_comp_discriminate_subj_3-4_t4b4_merged.rec',\n",
       " '/scratch/back_up/reward_competition_extention/data/rce_cohort_3/discriminate/20240415_165702_comp_discriminate_subj_4-3_and_4-4.rec/20240415_165702_comp_discriminate_subj_4-3_t1b1_merged.rec',\n",
       " '/scratch/back_up/reward_competition_extention/data/rce_cohort_3/discriminate/20240415_165702_comp_discriminate_subj_4-3_and_4-4.rec/20240415_165702_comp_discriminate_subj_4-4_t2b2_merged.rec',\n",
       " '/scratch/back_up/reward_competition_extention/data/rce_cohort_3/discriminate/20240415_140712_comp_discriminate_subj_5-2_and_5-3.rec/20240415_140712_comp_discriminate_subj_5-3_t6b6_merged.rec',\n",
       " '/scratch/back_up/reward_competition_extention/data/rce_cohort_3/discriminate/20240415_140712_comp_discriminate_subj_5-2_and_5-3.rec/20240415_140712_comp_discriminate_subj_5-2_t5b5_merged.rec',\n",
       " '/scratch/back_up/reward_competition_extention/data/rce_cohort_3/discriminate/20240413_163726_comp_discriminate_subj_4-2_and_4-3.rec/20240413_163726_comp_discriminate_subj_4-3_t4b4_merged.rec',\n",
       " '/scratch/back_up/reward_competition_extention/data/rce_cohort_3/discriminate/20240413_163726_comp_discriminate_subj_4-2_and_4-3.rec/20240413_163726_comp_discriminate_subj_4-2_t3b3_merged.rec',\n",
       " '/scratch/back_up/reward_competition_extention/data/rce_cohort_3/long_comp/20240321_114851_long_comp_subj_5-2_and_5-3.rec/20240321_114851_long_comp_subj_5-2_t6b6_merged.rec',\n",
       " '/scratch/back_up/reward_competition_extention/data/rce_cohort_3/long_comp/20240321_114851_long_comp_subj_5-2_and_5-3.rec/20240321_114851_long_comp_subj_5-3_t5b5_merged.rec',\n",
       " '/scratch/back_up/reward_competition_extention/data/rce_cohort_3/long_comp/20240317_172017_long_comp_subj_4-2_and_4-3.rec/20240317_172017_long_comp_subj_4-2_t6b6_merged.rec',\n",
       " '/scratch/back_up/reward_competition_extention/data/rce_cohort_3/long_comp/20240317_172017_long_comp_subj_4-2_and_4-3.rec/20240317_172017_long_comp_subj_4-3_t5b5_merged.rec',\n",
       " '/scratch/back_up/reward_competition_extention/data/rce_cohort_3/long_comp/20240317_151922_long_comp_subj_3-1_and_3-3.rec/20240317_151922_long_comp_subj_3-1_t6b6_merged.rec',\n",
       " '/scratch/back_up/reward_competition_extention/data/rce_cohort_3/long_comp/20240317_151922_long_comp_subj_3-1_and_3-3.rec/20240317_151922_long_comp_subj_3-3_t5b5_merged.rec',\n",
       " '/scratch/back_up/reward_competition_extention/data/rce_cohort_3/long_comp/20240319_160457_long_comp_subj_4-2_and_4-4.rec/20240319_160457_long_comp_subj_4-2_t5b5_merged.rec',\n",
       " '/scratch/back_up/reward_competition_extention/data/rce_cohort_3/long_comp/20240319_160457_long_comp_subj_4-2_and_4-4.rec/20240319_160457_long_comp_subj_4-4_t6b6_merged.rec',\n",
       " '/scratch/back_up/reward_competition_extention/data/rce_cohort_3/long_comp/20240319_134914_long_comp_subj_3-1_and_3-4.rec/20240319_134914_long_comp_subj_3-4_t6b6_merged.rec',\n",
       " '/scratch/back_up/reward_competition_extention/data/rce_cohort_3/long_comp/20240319_134914_long_comp_subj_3-1_and_3-4.rec/20240319_134914_long_comp_subj_3-1_t5b5_merged.rec',\n",
       " '/scratch/back_up/reward_competition_extention/data/rce_cohort_3/long_comp/20240318_143819_long_comp_subj_3-3_and_3-4.rec/20240318_143819_long_comp_subj_3-3_t6b6_merged.rec',\n",
       " '/scratch/back_up/reward_competition_extention/data/rce_cohort_3/long_comp/20240318_143819_long_comp_subj_3-3_and_3-4.rec/20240318_143819_long_comp_subj_3-4_t5b5_merged.rec',\n",
       " '/scratch/back_up/reward_competition_extention/data/rce_cohort_3/long_comp/20240320_114629_long_comp_subj_5-3_and_5-4.rec/20240320_114629_long_comp_subj_5-4_t5b5_merged.rec',\n",
       " '/scratch/back_up/reward_competition_extention/data/rce_cohort_3/long_comp/20240320_114629_long_comp_subj_5-3_and_5-4.rec/20240320_114629_long_comp_subj_5-3_t6b6_merged.rec',\n",
       " '/scratch/back_up/reward_competition_extention/data/rce_cohort_3/long_comp/20240318_170933_long_comp_subj_4-3_and_4-4.rec/20240318_170933_long_comp_subj_4-4_t5b5_merged.rec',\n",
       " '/scratch/back_up/reward_competition_extention/data/rce_cohort_3/long_comp/20240318_170933_long_comp_subj_4-3_and_4-4.rec/20240318_170933_long_comp_subj_4-3_t6b6_merged.rec',\n",
       " '/scratch/back_up/reward_competition_extention/data/rce_cohort_3/novel/20240411_155157_comp_novel_subj_3-1_and_3-4_and_4-2_and_4-4.rec/20240411_155157_comp_novel_subj_3-4_t4b4_merged.rec',\n",
       " '/scratch/back_up/reward_competition_extention/data/rce_cohort_3/novel/20240411_155157_comp_novel_subj_3-1_and_3-4_and_4-2_and_4-4.rec/20240411_155157_comp_novel_subj_3-1_t3b3_merged.rec',\n",
       " '/scratch/back_up/reward_competition_extention/data/rce_cohort_3/novel/20240411_155157_comp_novel_subj_3-1_and_3-4_and_4-2_and_4-4.rec/20240411_155157_comp_novel_subj_4-2_t6b6_merged.rec',\n",
       " '/scratch/back_up/reward_competition_extention/data/rce_cohort_3/novel/20240411_155157_comp_novel_subj_3-1_and_3-4_and_4-2_and_4-4.rec/20240411_155157_comp_novel_subj_4-4_t5b5_merged.rec',\n",
       " '/scratch/back_up/reward_competition_extention/data/rce_cohort_3/novel/20240412_161135_comp_novel_subj_4-2_and_4-4_and_5-2_and_5-3.rec/20240412_161135_comp_novel_subj_5-3_t6b6_merged.rec',\n",
       " '/scratch/back_up/reward_competition_extention/data/rce_cohort_3/novel/20240412_161135_comp_novel_subj_4-2_and_4-4_and_5-2_and_5-3.rec/20240412_161135_comp_novel_subj_4-4_t4b4_merged.rec',\n",
       " '/scratch/back_up/reward_competition_extention/data/rce_cohort_3/novel/20240412_161135_comp_novel_subj_4-2_and_4-4_and_5-2_and_5-3.rec/20240412_161135_comp_novel_subj_5-2_t5b5_merged.rec',\n",
       " '/scratch/back_up/reward_competition_extention/data/rce_cohort_3/novel/20240412_161135_comp_novel_subj_4-2_and_4-4_and_5-2_and_5-3.rec/20240412_161135_comp_novel_subj_4-2_t3b3_merged.rec',\n",
       " '/scratch/back_up/reward_competition_extention/data/rce_cohort_3/novel/20240406_150017_comp_novel_subj_4-3_and_4-4_and_5-2_and_5-3.rec/20240406_150017_comp_novel_subj_4-4_t6b6_merged.rec',\n",
       " '/scratch/back_up/reward_competition_extention/data/rce_cohort_3/novel/20240406_150017_comp_novel_subj_4-3_and_4-4_and_5-2_and_5-3.rec/20240406_150017_comp_novel_subj_5-3_t3b3_merged.rec',\n",
       " '/scratch/back_up/reward_competition_extention/data/rce_cohort_3/novel/20240406_150017_comp_novel_subj_4-3_and_4-4_and_5-2_and_5-3.rec/20240406_150017_comp_novel_subj_4-3_t5b5_merged.rec',\n",
       " '/scratch/back_up/reward_competition_extention/data/rce_cohort_3/novel/20240406_150017_comp_novel_subj_4-3_and_4-4_and_5-2_and_5-3.rec/20240406_150017_comp_novel_subj_5-2_t4b4_merged.rec',\n",
       " '/scratch/back_up/reward_competition_extention/data/rce_cohort_3/novel/20240408_155308_comp_novel_subj_3-1_and_3-4_and_5-2_and_5-3.rec/20240408_155308_comp_novel_subj_5-3_t3b3_merged.rec',\n",
       " '/scratch/back_up/reward_competition_extention/data/rce_cohort_3/novel/20240408_155308_comp_novel_subj_3-1_and_3-4_and_5-2_and_5-3.rec/20240408_155308_comp_novel_subj_3-1_t5b5_merged.rec',\n",
       " '/scratch/back_up/reward_competition_extention/data/rce_cohort_3/novel/20240408_155308_comp_novel_subj_3-1_and_3-4_and_5-2_and_5-3.rec/20240408_155308_comp_novel_subj_3-4_t6b6_merged.rec',\n",
       " '/scratch/back_up/reward_competition_extention/data/rce_cohort_3/novel/20240408_155308_comp_novel_subj_3-1_and_3-4_and_5-2_and_5-3.rec/20240408_155308_comp_novel_subj_5-2_t4b4_merged.rec',\n",
       " '/scratch/back_up/reward_competition_extention/data/rce_cohort_3/novel/20240401_151442_comp_novel_subj_3-1_and_3-3_and_4-2_and_4-4.rec/20240401_151442_comp_novel_subj_3-1_t5b5_merged.rec',\n",
       " '/scratch/back_up/reward_competition_extention/data/rce_cohort_3/novel/20240401_151442_comp_novel_subj_3-1_and_3-3_and_4-2_and_4-4.rec/20240401_151442_comp_novel_subj_3-3_t6b6_merged.rec',\n",
       " '/scratch/back_up/reward_competition_extention/data/rce_cohort_3/novel/20240401_151442_comp_novel_subj_3-1_and_3-3_and_4-2_and_4-4.rec/20240401_151442_comp_novel_subj_4-2_t3b3_merged.rec',\n",
       " '/scratch/back_up/reward_competition_extention/data/rce_cohort_3/novel/20240401_151442_comp_novel_subj_3-1_and_3-3_and_4-2_and_4-4.rec/20240401_151442_comp_novel_subj_4-4_t4b4_merged.rec',\n",
       " '/scratch/back_up/reward_competition_extention/data/rce_cohort_3/novel/20240402_145808_comp_novel_subj_3-3_and_3-4_and_5-2_and_5-3.rec/20240402_145808_comp_novel_subj_5-2_t6b6_merged.rec',\n",
       " '/scratch/back_up/reward_competition_extention/data/rce_cohort_3/novel/20240402_145808_comp_novel_subj_3-3_and_3-4_and_5-2_and_5-3.rec/20240402_145808_comp_novel_subj_3-3_t4b4_merged.rec',\n",
       " '/scratch/back_up/reward_competition_extention/data/rce_cohort_3/novel/20240402_145808_comp_novel_subj_3-3_and_3-4_and_5-2_and_5-3.rec/20240402_145808_comp_novel_subj_3-4_t3b3_merged.rec',\n",
       " '/scratch/back_up/reward_competition_extention/data/rce_cohort_3/novel/20240402_145808_comp_novel_subj_3-3_and_3-4_and_5-2_and_5-3.rec/20240402_145808_comp_novel_subj_5-3_t5b5_merged.rec',\n",
       " '/scratch/back_up/reward_competition_extention/data/rce_cohort_3/novel/20240407_152222_comp_novel_subj_3-1_and_3-3_and_4-2_and_4-3.rec/20240407_152222_comp_novel_subj_3-3_t3b3_merged.rec',\n",
       " '/scratch/back_up/reward_competition_extention/data/rce_cohort_3/novel/20240407_152222_comp_novel_subj_3-1_and_3-3_and_4-2_and_4-3.rec/20240407_152222_comp_novel_subj_3-1_t4b4_merged.rec',\n",
       " '/scratch/back_up/reward_competition_extention/data/rce_cohort_3/novel/20240407_152222_comp_novel_subj_3-1_and_3-3_and_4-2_and_4-3.rec/20240407_152222_comp_novel_subj_4-3_t6b6_merged.rec',\n",
       " '/scratch/back_up/reward_competition_extention/data/rce_cohort_3/novel/20240407_152222_comp_novel_subj_3-1_and_3-3_and_4-2_and_4-3.rec/20240407_152222_comp_novel_subj_4-2_t5b5_merged.rec',\n",
       " '/scratch/back_up/reward_competition_extention/data/rce_cohort_3/novel/20240410_152009_comp_novel_subj_4-2_and_4-3_and_5-2_and_5-3.rec/20240410_152009_comp_novel_subj_5-2_t4b4_merged.rec',\n",
       " '/scratch/back_up/reward_competition_extention/data/rce_cohort_3/novel/20240410_152009_comp_novel_subj_4-2_and_4-3_and_5-2_and_5-3.rec/20240410_152009_comp_novel_subj_4-2_t5b5_merged.rec',\n",
       " '/scratch/back_up/reward_competition_extention/data/rce_cohort_3/novel/20240410_152009_comp_novel_subj_4-2_and_4-3_and_5-2_and_5-3.rec/20240410_152009_comp_novel_subj_5-3_t3b3_merged.rec',\n",
       " '/scratch/back_up/reward_competition_extention/data/rce_cohort_3/novel/20240410_152009_comp_novel_subj_4-2_and_4-3_and_5-2_and_5-3.rec/20240410_152009_comp_novel_subj_4-3_t6b6_merged.rec',\n",
       " '/scratch/back_up/reward_competition_extention/data/rce_cohort_3/novel/20240405_162313_comp_novel_subj_3-1_and_3-4_and_4-2_and_4-3.rec/20240405_162313_comp_novel_subj_3-4_t6b6_merged.rec',\n",
       " '/scratch/back_up/reward_competition_extention/data/rce_cohort_3/novel/20240405_162313_comp_novel_subj_3-1_and_3-4_and_4-2_and_4-3.rec/20240405_162313_comp_novel_subj_4-3_t3b3_merged.rec',\n",
       " '/scratch/back_up/reward_competition_extention/data/rce_cohort_3/novel/20240405_162313_comp_novel_subj_3-1_and_3-4_and_4-2_and_4-3.rec/20240405_162313_comp_novel_subj_4-2_t4b4_merged.rec',\n",
       " '/scratch/back_up/reward_competition_extention/data/rce_cohort_3/novel/20240405_162313_comp_novel_subj_3-1_and_3-4_and_4-2_and_4-3.rec/20240405_162313_comp_novel_subj_3-1_t5b5_merged.rec',\n",
       " '/scratch/back_up/reward_competition_extention/data/rce_cohort_3/novel/20240409_142051_comp_novel_subj_3-3_and_3-4_and_4-3_and_4-4.rec/20240409_142051_comp_novel_subj_4-4_t6b6_merged.rec',\n",
       " '/scratch/back_up/reward_competition_extention/data/rce_cohort_3/novel/20240409_142051_comp_novel_subj_3-3_and_3-4_and_4-3_and_4-4.rec/20240409_142051_comp_novel_subj_3-4_t4b4_merged.rec',\n",
       " '/scratch/back_up/reward_competition_extention/data/rce_cohort_3/novel/20240409_142051_comp_novel_subj_3-3_and_3-4_and_4-3_and_4-4.rec/20240409_142051_comp_novel_subj_4-3_t5b5_merged.rec',\n",
       " '/scratch/back_up/reward_competition_extention/data/rce_cohort_3/novel/20240409_142051_comp_novel_subj_3-3_and_3-4_and_4-3_and_4-4.rec/20240409_142051_comp_novel_subj_3-3_t3b3_merged.rec',\n",
       " '/scratch/back_up/reward_competition_extention/data/rce_cohort_3/alone_comp/20240323_144517_alone_comp_subj_3-1_and_3-4.rec/20240323_144517_alone_comp_subj_3-1_t5b5_merged.rec',\n",
       " '/scratch/back_up/reward_competition_extention/data/rce_cohort_3/alone_comp/20240323_144517_alone_comp_subj_3-1_and_3-4.rec/20240323_144517_alone_comp_subj_3-4_t6b6_merged.rec',\n",
       " '/scratch/back_up/reward_competition_extention/data/rce_cohort_3/alone_comp/20240323_122227_alone_comp_subj_5-2_and_5-3.rec/20240323_122227_alone_comp_subj_5-2_t6b6_merged.rec',\n",
       " '/scratch/back_up/reward_competition_extention/data/rce_cohort_3/alone_comp/20240323_122227_alone_comp_subj_5-2_and_5-3.rec/20240323_122227_alone_comp_subj_5-3_t5b5_merged.rec',\n",
       " '/scratch/back_up/reward_competition_extention/data/rce_cohort_3/alone_comp/20240320_142408_alone_comp_subj_3-1_and_3-3.rec/20240320_142408_alone_comp_subj_3-3_t5b5_merged.rec',\n",
       " '/scratch/back_up/reward_competition_extention/data/rce_cohort_3/alone_comp/20240320_142408_alone_comp_subj_3-1_and_3-3.rec/20240320_142408_alone_comp_subj_3-1_t6b6_merged.rec',\n",
       " '/scratch/back_up/reward_competition_extention/data/rce_cohort_3/alone_comp/20240322_160946_alone_comp_subj_4-3_and_4-4.rec/20240322_160946_alone_comp_subj_4-4_t5b5_merged.rec',\n",
       " '/scratch/back_up/reward_competition_extention/data/rce_cohort_3/alone_comp/20240322_160946_alone_comp_subj_4-3_and_4-4.rec/20240322_160946_alone_comp_subj_4-3_t6b6_merged.rec',\n",
       " '/scratch/back_up/reward_competition_extention/data/rce_cohort_3/alone_comp/20240322_120625_alone_comp_subj_3-3_and_3-4.rec/20240322_120625_alone_comp_subj_3-3_t6b6_merged.rec',\n",
       " '/scratch/back_up/reward_competition_extention/data/rce_cohort_3/alone_comp/20240322_120625_alone_comp_subj_3-3_and_3-4.rec/20240322_120625_alone_comp_subj_3-4_t5b5_merged.rec',\n",
       " '/scratch/back_up/reward_competition_extention/data/rce_cohort_3/alone_comp/20240320_171038_alone_comp_subj_4-2_and_4-3.rec/20240320_171038_alone_comp_subj_4-3_t5b5_merged.rec',\n",
       " '/scratch/back_up/reward_competition_extention/data/rce_cohort_3/alone_comp/20240320_171038_alone_comp_subj_4-2_and_4-3.rec/20240320_171038_alone_comp_subj_4-2_t6b6_merged.rec',\n",
       " '/scratch/back_up/reward_competition_extention/data/rce_cohort_3/alone_comp/20240323_165815_alone_comp_subj_4-2_and_4-4.rec/20240323_165815_alone_comp_subj_4-4_t6b6_merged.rec',\n",
       " '/scratch/back_up/reward_competition_extention/data/rce_cohort_3/alone_comp/20240323_165815_alone_comp_subj_4-2_and_4-4.rec/20240323_165815_alone_comp_subj_4-2_t5b5_merged.rec',\n",
       " '/scratch/back_up/reward_competition_extention/data/rce_cohort_3/omission/20240325_125522_comp_om_subj_3-1_and_3-4.rec/20240325_125522_comp_om_subj_3-1_t6b6_merged.rec',\n",
       " '/scratch/back_up/reward_competition_extention/data/rce_cohort_3/omission/20240325_125522_comp_om_subj_3-1_and_3-4.rec/20240325_125522_comp_om_subj_3-4_t5b5_merged.rec',\n",
       " '/scratch/back_up/reward_competition_extention/data/rce_cohort_3/omission/20240318_115841_comp_om_subj_5-2_and_5-3.rec/20240318_115841_comp_om_subj_5-3_t5b5_merged.rec',\n",
       " '/scratch/back_up/reward_competition_extention/data/rce_cohort_3/omission/20240318_115841_comp_om_subj_5-2_and_5-3.rec/20240318_115841_comp_om_subj_5-2_t6b6_merged.rec',\n",
       " '/scratch/back_up/reward_competition_extention/data/rce_cohort_3/omission/20240317_105929_comp_om_subj_5-3_and_5-4.rec/20240317_105929_comp_om_subj_5-3_t6b6_merged.rec',\n",
       " '/scratch/back_up/reward_competition_extention/data/rce_cohort_3/omission/20240317_105929_comp_om_subj_5-3_and_5-4.rec/20240317_105929_comp_om_subj_5-4_t5b5_merged.rec',\n",
       " '/scratch/back_up/reward_competition_extention/data/rce_cohort_3/omission/20240227_130241_comp_om_subj_4-2_and_4-3.rec/20240227_130241_comp_om_subj_4-2_t1b1_merged.rec',\n",
       " '/scratch/back_up/reward_competition_extention/data/rce_cohort_3/omission/20240227_130241_comp_om_subj_4-2_and_4-3.rec/20240227_130241_comp_om_subj_4-3_t2b2_merged.rec',\n",
       " '/scratch/back_up/reward_competition_extention/data/rce_cohort_3/omission/20240319_111204_comp_om_subj_5-2_and_5-4.rec/20240319_111204_comp_om_subj_5-4_t5b5_merged.rec',\n",
       " '/scratch/back_up/reward_competition_extention/data/rce_cohort_3/omission/20240319_111204_comp_om_subj_5-2_and_5-4.rec/20240319_111204_comp_om_subj_5-2_t6b6_merged.rec',\n",
       " '/scratch/back_up/reward_competition_extention/data/rce_cohort_3/omission/20240325_150329_comp_om_subj_4-2_and_4-4.rec/20240325_150329_comp_om_subj_4-2_t5b5_merged.rec',\n",
       " '/scratch/back_up/reward_competition_extention/data/rce_cohort_3/omission/20240325_150329_comp_om_subj_4-2_and_4-4.rec/20240325_150329_comp_om_subj_4-4_t6b6_merged.rec',\n",
       " '/scratch/back_up/reward_competition_extention/data/rce_cohort_3/omission/20240229_152936_comp_om_subj_3-3_and_3-4.rec/20240229_152936_comp_om_subj_3-4_t1b1_merged.rec',\n",
       " '/scratch/back_up/reward_competition_extention/data/rce_cohort_3/omission/20240229_152936_comp_om_subj_3-3_and_3-4.rec/20240229_152936_comp_om_subj_3-3_t3b3_merged.rec',\n",
       " '/scratch/back_up/reward_competition_extention/data/rce_cohort_3/omission/20240228_142038_comp_om_subj_3-1_and_3-3.rec/20240228_142038_comp_om_subj_3-3_t2b2_merged.rec',\n",
       " '/scratch/back_up/reward_competition_extention/data/rce_cohort_3/omission/20240228_142038_comp_om_subj_3-1_and_3-3.rec/20240228_142038_comp_om_subj_3_1_t1b1_merged.rec',\n",
       " '/scratch/back_up/reward_competition_extention/data/rce_cohort_3/omission/20240228_154053_comp_om_subj_4-3_and_4-4.rec/20240228_154053_comp_om_subj_4-3_t3b3_merged.rec',\n",
       " '/scratch/back_up/reward_competition_extention/data/rce_cohort_3/omission/20240228_154053_comp_om_subj_4-3_and_4-4.rec/20240228_154053_comp_om_subj_4-4_t4b4_merged.rec',\n",
       " '/scratch/back_up/reward_competition_extention/data/rce_cohort_3/both_rewarded/20240330_141834_comp_both_subj_3-3_and_3-4.rec/20240330_141834_comp_both_subj_3-3_t5b5_merged.rec',\n",
       " '/scratch/back_up/reward_competition_extention/data/rce_cohort_3/both_rewarded/20240330_141834_comp_both_subj_3-3_and_3-4.rec/20240330_141834_comp_both_subj_3-4_t6b6_merged.rec',\n",
       " '/scratch/back_up/reward_competition_extention/data/rce_cohort_3/both_rewarded/20240329_160356_comp_both_subj_4_2_and_4-3.rec/20240329_160356_comp_both_subj_4-2_t4b4_merged.rec',\n",
       " '/scratch/back_up/reward_competition_extention/data/rce_cohort_3/both_rewarded/20240329_160356_comp_both_subj_4_2_and_4-3.rec/20240329_160356_comp_both_subj_4-3_t3b3_merged.rec',\n",
       " '/scratch/back_up/reward_competition_extention/data/rce_cohort_3/both_rewarded/20240327_165151_comp_both_subj_4-2_and_4-4.rec/20240327_165151_comp_both_subj_4-2_t3b3_merged.rec',\n",
       " '/scratch/back_up/reward_competition_extention/data/rce_cohort_3/both_rewarded/20240327_165151_comp_both_subj_4-2_and_4-4.rec/20240327_165151_comp_both_subj_4-4_t4b4_merged.rec',\n",
       " '/scratch/back_up/reward_competition_extention/data/rce_cohort_3/both_rewarded/20240331_164629_comp_both_subj_4-3_and_4-4.rec/20240331_164629_comp_both_subj_4-3_t4b4_merged.rec',\n",
       " '/scratch/back_up/reward_competition_extention/data/rce_cohort_3/both_rewarded/20240331_164629_comp_both_subj_4-3_and_4-4.rec/20240331_164629_comp_both_subj_4-4_t3b3_merged.rec',\n",
       " '/scratch/back_up/reward_competition_extention/data/rce_cohort_3/both_rewarded/20240331_152930_comp_both_subj_5-2_and_5-3.rec/20240331_152930_comp_both_subj_5-2_t6b6_merged.rec',\n",
       " '/scratch/back_up/reward_competition_extention/data/rce_cohort_3/both_rewarded/20240331_152930_comp_both_subj_5-2_and_5-3.rec/20240331_152930_comp_both_subj_5-3_t5b5_merged.rec',\n",
       " '/scratch/back_up/reward_competition_extention/data/rce_cohort_3/both_rewarded/20240327_153306_comp_both_subj_3-1_and_3-3.rec/20240327_153306_comp_both_subj_3-1_t1b1_merged.rec',\n",
       " '/scratch/back_up/reward_competition_extention/data/rce_cohort_3/both_rewarded/20240327_153306_comp_both_subj_3-1_and_3-3.rec/20240327_153306_comp_both_subj_3-3_t2b2_merged.rec',\n",
       " '/scratch/back_up/reward_competition_extention/data/rce_cohort_3/both_rewarded/20240329_144111_comp_both_subj_3-1_and_3-4.rec/20240329_144111_comp_both_subj_3-1_t1b1_merged.rec',\n",
       " '/scratch/back_up/reward_competition_extention/data/rce_cohort_3/both_rewarded/20240329_144111_comp_both_subj_3-1_and_3-4.rec/20240329_144111_comp_both_subj_3-4_t2b2_merged.rec',\n",
       " '/scratch/back_up/reward_competition_extention/data/rce_cohort_3/both_rewarded/20240327_141822_comp_both_subj_5-2_and_5-3.rec/20240327_141822_comp_both_subj_5-3_t6b6_merged.rec',\n",
       " '/scratch/back_up/reward_competition_extention/data/rce_cohort_3/both_rewarded/20240327_141822_comp_both_subj_5-2_and_5-3.rec/20240327_141822_comp_both_subj_5-2_t5b5_merged.rec',\n",
       " '/scratch/back_up/reward_competition_extention/data/rce_cohort_3/both_rewarded/20240330_153409_comp_both_subj_4-3_and_4-4.rec/20240330_153409_comp_both_subj_4-4_t3b3_merged.rec',\n",
       " '/scratch/back_up/reward_competition_extention/data/rce_cohort_3/both_rewarded/20240330_153409_comp_both_subj_4-3_and_4-4.rec/20240330_153409_comp_both_subj_4-3_t4b4_merged.rec']"
      ]
     },
     "execution_count": 23,
     "metadata": {},
     "output_type": "execute_result"
    }
   ],
   "source": [
    "all_recording_files"
   ]
  },
  {
   "cell_type": "markdown",
   "metadata": {},
   "source": [
    "# Part 2: Sorting"
   ]
  },
  {
   "cell_type": "code",
   "execution_count": 24,
   "metadata": {},
   "outputs": [
    {
     "data": {
      "text/plain": [
       "{'batch_size': 60000,\n",
       " 'nblocks': 1,\n",
       " 'Th_universal': 9,\n",
       " 'Th_learned': 8,\n",
       " 'do_CAR': True,\n",
       " 'invert_sign': False,\n",
       " 'nt': 61,\n",
       " 'artifact_threshold': None,\n",
       " 'nskip': 25,\n",
       " 'whitening_range': 32,\n",
       " 'binning_depth': 5,\n",
       " 'sig_interp': 20,\n",
       " 'nt0min': None,\n",
       " 'dmin': None,\n",
       " 'dminx': 32,\n",
       " 'min_template_size': 10,\n",
       " 'template_sizes': 5,\n",
       " 'nearest_chans': 10,\n",
       " 'nearest_templates': 100,\n",
       " 'templates_from_data': True,\n",
       " 'n_templates': 6,\n",
       " 'n_pcs': 6,\n",
       " 'Th_single_ch': 6,\n",
       " 'acg_threshold': 0.2,\n",
       " 'ccg_threshold': 0.25,\n",
       " 'cluster_downsampling': 20,\n",
       " 'cluster_pcs': 64,\n",
       " 'duplicate_spike_bins': 15,\n",
       " 'do_correction': True,\n",
       " 'keep_good_only': False,\n",
       " 'save_extra_kwargs': False,\n",
       " 'skip_kilosort_preprocessing': False,\n",
       " 'scaleproc': None,\n",
       " 'torch_device': 'auto'}"
      ]
     },
     "execution_count": 24,
     "metadata": {},
     "output_type": "execute_result"
    }
   ],
   "source": [
    "ss.get_default_sorter_params(sorter_name_or_class='kilosort4')"
   ]
  },
  {
   "cell_type": "code",
   "execution_count": 25,
   "metadata": {},
   "outputs": [
    {
     "data": {
      "text/plain": [
       "{'batch_size': 'Number of samples included in each batch of data.',\n",
       " 'nblocks': 'Number of non-overlapping blocks for drift correction (additional nblocks-1 blocks are created in the overlaps). Default value: 1.',\n",
       " 'Th_universal': 'Spike detection threshold for universal templates. Th(1) in previous versions of Kilosort. Default value: 9.',\n",
       " 'Th_learned': 'Spike detection threshold for learned templates. Th(2) in previous versions of Kilosort. Default value: 8.',\n",
       " 'do_CAR': 'Whether to perform common average reference. Default value: True.',\n",
       " 'invert_sign': 'Invert the sign of the data. Default value: False.',\n",
       " 'nt': 'Number of samples per waveform. Also size of symmetric padding for filtering. Default value: 61.',\n",
       " 'artifact_threshold': 'If a batch contains absolute values above this number, it will be zeroed out under the assumption that a recording artifact is present. By default, the threshold is infinite (so that no zeroing occurs). Default value: None.',\n",
       " 'nskip': 'Batch stride for computing whitening matrix. Default value: 25.',\n",
       " 'whitening_range': 'Number of nearby channels used to estimate the whitening matrix. Default value: 32.',\n",
       " 'binning_depth': 'For drift correction, vertical bin size in microns used for 2D histogram. Default value: 5.',\n",
       " 'sig_interp': 'For drift correction, sigma for interpolation (spatial standard deviation). Approximate smoothness scale in units of microns. Default value: 20.',\n",
       " 'nt0min': 'Sample index for aligning waveforms, so that their minimum or maximum value happens here. Default of 20. Default value: None.',\n",
       " 'dmin': 'Vertical spacing of template centers used for spike detection, in microns. Determined automatically by default. Default value: None.',\n",
       " 'dminx': 'Horizontal spacing of template centers used for spike detection, in microns. Default value: 32.',\n",
       " 'min_template_size': 'Standard deviation of the smallest, spatial envelope Gaussian used for universal templates. Default value: 10.',\n",
       " 'template_sizes': 'Number of sizes for universal spike templates (multiples of the min_template_size). Default value: 5.',\n",
       " 'nearest_chans': 'Number of nearest channels to consider when finding local maxima during spike detection. Default value: 10.',\n",
       " 'nearest_templates': 'Number of nearest spike template locations to consider when finding local maxima during spike detection. Default value: 100.',\n",
       " 'templates_from_data': 'Indicates whether spike shapes used in universal templates should be estimated from the data or loaded from the predefined templates. Default value: True.',\n",
       " 'n_templates': 'Number of single-channel templates to use for the universal templates (only used if templates_from_data is True). Default value: 6.',\n",
       " 'n_pcs': 'Number of single-channel PCs to use for extracting spike features (only used if templates_from_data is True). Default value: 6.',\n",
       " 'Th_single_ch': 'For single channel threshold crossings to compute universal- templates. In units of whitened data standard deviations. Default value: 6.',\n",
       " 'acg_threshold': 'Fraction of refractory period violations that are allowed in the ACG compared to baseline; used to assign \"good\" units. Default value: 0.2.',\n",
       " 'ccg_threshold': 'Fraction of refractory period violations that are allowed in the CCG compared to baseline; used to perform splits and merges. Default value: 0.25.',\n",
       " 'cluster_downsampling': 'Inverse fraction of nodes used as landmarks during clustering (can be 1, but that slows down the optimization). Default value: 20.',\n",
       " 'cluster_pcs': 'Maximum number of spatiotemporal PC features used for clustering. Default value: 64.',\n",
       " 'duplicate_spike_bins': 'Number of bins for which subsequent spikes from the same cluster are assumed to be artifacts. A value of 0 disables this step. Default value: 15.',\n",
       " 'keep_good_only': \"If True only 'good' units are returned\",\n",
       " 'do_correction': 'If True, drift correction is performed',\n",
       " 'save_extra_kwargs': 'If True, additional kwargs are saved to the output',\n",
       " 'skip_kilosort_preprocessing': 'Can optionally skip the internal kilosort preprocessing',\n",
       " 'scaleproc': 'int16 scaling of whitened data, if None set to 200.',\n",
       " 'torch_device': 'Select the torch device auto/cuda/cpu'}"
      ]
     },
     "execution_count": 25,
     "metadata": {},
     "output_type": "execute_result"
    }
   ],
   "source": [
    "ss.get_sorter_params_description(sorter_name_or_class='kilosort4')"
   ]
  },
  {
   "cell_type": "code",
   "execution_count": 26,
   "metadata": {},
   "outputs": [
    {
     "name": "stdout",
     "output_type": "stream",
     "text": [
      "/scratch/back_up/reward_competition_extention/data/rce_cohort_3/discriminate/20240417_150153_comp_discriminate_subj_3-3_and_3-4.rec/20240417_150153_comp_discriminate_subj_3-3_t5b5_merged.rec\n",
      "Output directory: /scratch/back_up/reward_competition_extention/proc/spike_sorting/old/kilosort4/independent_channel/20240417_150153_comp_discriminate_subj_3-3_t5b5_merged.rec\n",
      "Running bandpass filter\n",
      "Running whitening\n",
      "Spike sorting\n",
      "========================================\n",
      "Loading recording with SpikeInterface...\n",
      "number of samples: 72856289\n",
      "number of channels: 32\n",
      "numbef of segments: 1\n",
      "sampling rate: 20000.0\n",
      "dtype: float32\n",
      "========================================\n",
      "Skipping common average reference.\n",
      "Skipping kilosort preprocessing.\n",
      "Skipping drift correction.\n",
      "\n",
      "computing drift\n",
      "nblocks = 0, skipping drift correction\n",
      "drift computed in  0.00s; total  0.00s\n",
      "\n",
      "Extracting spikes using templates\n",
      "Re-computing universal templates from data.\n"
     ]
    },
    {
     "name": "stderr",
     "output_type": "stream",
     "text": [
      "100%|██████████| 1215/1215 [03:07<00:00,  6.48it/s]\n"
     ]
    },
    {
     "name": "stdout",
     "output_type": "stream",
     "text": [
      "12145494 spikes extracted in  194.91s; total  194.92s\n",
      "\n",
      "First clustering\n"
     ]
    },
    {
     "name": "stderr",
     "output_type": "stream",
     "text": [
      " 19%|█▉        | 3/16 [00:55<04:18, 19.88s/it]/home/pc_lab/miniforge3/envs/kilosort_4_0_5/lib/python3.9/site-packages/scipy/sparse/_index.py:151: SparseEfficiencyWarning: Changing the sparsity structure of a csr_matrix is expensive. lil_matrix is more efficient.\n",
      "  self._set_arrayXarray(i, j, x)\n",
      "100%|██████████| 16/16 [05:00<00:00, 18.78s/it]\n",
      "/home/pc_lab/miniforge3/envs/kilosort_4_0_5/lib/python3.9/site-packages/kilosort/template_matching.py:71: UserWarning: Plan failed with a cudnnException: CUDNN_BACKEND_EXECUTION_PLAN_DESCRIPTOR: cudnnFinalize Descriptor Failed cudnn_status: CUDNN_STATUS_NOT_SUPPORTED (Triggered internally at /opt/conda/conda-bld/pytorch_1712608885084/work/aten/src/ATen/native/cudnn/Conv_v8.cpp:919.)\n",
      "  X = conv1d(X.unsqueeze(1), ops['wTEMP'].unsqueeze(1), padding=ops['nt']//2)\n"
     ]
    },
    {
     "name": "stdout",
     "output_type": "stream",
     "text": [
      "229 clusters found, in  301.39s; total  496.30s\n",
      "\n",
      "Extracting spikes using cluster waveforms\n"
     ]
    },
    {
     "name": "stderr",
     "output_type": "stream",
     "text": [
      "100%|██████████| 1215/1215 [02:27<00:00,  8.22it/s]\n"
     ]
    },
    {
     "name": "stdout",
     "output_type": "stream",
     "text": [
      "1335598 spikes extracted in  147.91s; total  644.21s\n",
      "\n",
      "Final clustering\n"
     ]
    },
    {
     "name": "stderr",
     "output_type": "stream",
     "text": [
      "100%|██████████| 16/16 [00:15<00:00,  1.00it/s]\n"
     ]
    },
    {
     "name": "stdout",
     "output_type": "stream",
     "text": [
      "114 clusters found, in  16.01s; total  660.22s\n",
      "\n",
      "Merging clusters\n",
      "113 units found, in  0.37s; total  660.59s\n",
      "\n",
      "Saving to phy and computing refractory periods\n",
      "24 units found with good refractory periods\n",
      "\n",
      "Total runtime: 661.61s = 00:11:2 h:m:s\n"
     ]
    },
    {
     "name": "stderr",
     "output_type": "stream",
     "text": [
      "/home/pc_lab/miniforge3/envs/kilosort_4_0_5/lib/python3.9/site-packages/spikeinterface/core/basesorting.py:239: UserWarning: The registered recording will not be persistent on disk, but only available in memory\n",
      "  warnings.warn(\"The registered recording will not be persistent on disk, but only available in memory\")\n"
     ]
    },
    {
     "name": "stdout",
     "output_type": "stream",
     "text": [
      "Exporting waveforms\n"
     ]
    },
    {
     "data": {
      "application/vnd.jupyter.widget-view+json": {
       "model_id": "707707cb2bfa45c7ac34e38ae3d5e185",
       "version_major": 2,
       "version_minor": 0
      },
      "text/plain": [
       "extract waveforms memmap multi buffer:   0%|          | 0/19 [00:00<?, ?it/s]"
      ]
     },
     "metadata": {},
     "output_type": "display_data"
    },
    {
     "name": "stdout",
     "output_type": "stream",
     "text": [
      "we_spike_sorted is sparse: False\n",
      "Saving to phy\n"
     ]
    },
    {
     "data": {
      "application/vnd.jupyter.widget-view+json": {
       "model_id": "37adea902e4146afb6ccc64102540076",
       "version_major": 2,
       "version_minor": 0
      },
      "text/plain": [
       "write_binary_recording:   0%|          | 0/3643 [00:00<?, ?it/s]"
      ]
     },
     "metadata": {},
     "output_type": "display_data"
    },
    {
     "data": {
      "application/vnd.jupyter.widget-view+json": {
       "model_id": "ec8389c6671b409eac5ad889bfe7df3e",
       "version_major": 2,
       "version_minor": 0
      },
      "text/plain": [
       "extract amplitudes:   0%|          | 0/3643 [00:00<?, ?it/s]"
      ]
     },
     "metadata": {},
     "output_type": "display_data"
    },
    {
     "data": {
      "application/vnd.jupyter.widget-view+json": {
       "model_id": "6da23c36b37547ca94d68d1c4f293e28",
       "version_major": 2,
       "version_minor": 0
      },
      "text/plain": [
       "Fitting PCA:   0%|          | 0/113 [00:00<?, ?it/s]"
      ]
     },
     "metadata": {},
     "output_type": "display_data"
    },
    {
     "data": {
      "application/vnd.jupyter.widget-view+json": {
       "model_id": "c14555c7238942bd8de20bc769e3b63f",
       "version_major": 2,
       "version_minor": 0
      },
      "text/plain": [
       "Projecting waveforms:   0%|          | 0/113 [00:00<?, ?it/s]"
      ]
     },
     "metadata": {},
     "output_type": "display_data"
    },
    {
     "data": {
      "application/vnd.jupyter.widget-view+json": {
       "model_id": "5dcbebd975f345f68b140f0204b8297e",
       "version_major": 2,
       "version_minor": 0
      },
      "text/plain": [
       "extract PCs:   0%|          | 0/3643 [00:00<?, ?it/s]"
      ]
     },
     "metadata": {},
     "output_type": "display_data"
    },
    {
     "name": "stdout",
     "output_type": "stream",
     "text": [
      "Run:\n",
      "phy template-gui  /scratch/back_up/reward_competition_extention/proc/spike_sorting/old/kilosort4/independent_channel/20240417_150153_comp_discriminate_subj_3-3_t5b5_merged.rec/phy/params.py\n",
      "/scratch/back_up/reward_competition_extention/data/rce_cohort_3/discriminate/20240417_150153_comp_discriminate_subj_3-3_and_3-4.rec/20240417_150153_comp_discriminate_subj_3-4_t6b6_merged.rec\n",
      "Output directory: /scratch/back_up/reward_competition_extention/proc/spike_sorting/old/kilosort4/independent_channel/20240417_150153_comp_discriminate_subj_3-4_t6b6_merged.rec\n",
      "Running bandpass filter\n",
      "Running whitening\n",
      "Spike sorting\n",
      "========================================\n",
      "Loading recording with SpikeInterface...\n",
      "number of samples: 72861495\n",
      "number of channels: 32\n",
      "numbef of segments: 1\n",
      "sampling rate: 20000.0\n",
      "dtype: float32\n",
      "========================================\n",
      "Skipping common average reference.\n",
      "Skipping kilosort preprocessing.\n",
      "Skipping drift correction.\n",
      "\n",
      "computing drift\n",
      "nblocks = 0, skipping drift correction\n",
      "drift computed in  0.00s; total  0.01s\n",
      "\n",
      "Extracting spikes using templates\n",
      "Re-computing universal templates from data.\n"
     ]
    },
    {
     "name": "stderr",
     "output_type": "stream",
     "text": [
      "100%|██████████| 1215/1215 [03:19<00:00,  6.10it/s]\n"
     ]
    },
    {
     "name": "stdout",
     "output_type": "stream",
     "text": [
      "11666894 spikes extracted in  205.87s; total  205.88s\n",
      "\n",
      "First clustering\n"
     ]
    },
    {
     "name": "stderr",
     "output_type": "stream",
     "text": [
      " 19%|█▉        | 3/16 [00:27<01:52,  8.66s/it]/home/pc_lab/miniforge3/envs/kilosort_4_0_5/lib/python3.9/site-packages/scipy/sparse/_index.py:151: SparseEfficiencyWarning: Changing the sparsity structure of a csr_matrix is expensive. lil_matrix is more efficient.\n",
      "  self._set_arrayXarray(i, j, x)\n",
      " 69%|██████▉   | 11/16 [04:00<01:49, 21.89s/it]\n"
     ]
    },
    {
     "ename": "KeyboardInterrupt",
     "evalue": "",
     "output_type": "error",
     "traceback": [
      "\u001b[0;31m---------------------------------------------------------------------------\u001b[0m",
      "\u001b[0;31mKeyboardInterrupt\u001b[0m                         Traceback (most recent call last)",
      "\u001b[0;32m/tmp/ipykernel_291467/3768731081.py\u001b[0m in \u001b[0;36m?\u001b[0;34m()\u001b[0m\n\u001b[1;32m     99\u001b[0m \u001b[0;34m\u001b[0m\u001b[0m\n\u001b[1;32m    100\u001b[0m         \u001b[0msuccessful_files\u001b[0m\u001b[0;34m.\u001b[0m\u001b[0mappend\u001b[0m\u001b[0;34m(\u001b[0m\u001b[0mrecording_file\u001b[0m\u001b[0;34m)\u001b[0m\u001b[0;34m\u001b[0m\u001b[0;34m\u001b[0m\u001b[0m\n\u001b[1;32m    101\u001b[0m         \u001b[0;32mwith\u001b[0m \u001b[0mopen\u001b[0m\u001b[0;34m(\u001b[0m\u001b[0;34m'successful_files.txt'\u001b[0m\u001b[0;34m,\u001b[0m \u001b[0;34m\"a+\"\u001b[0m\u001b[0;34m)\u001b[0m \u001b[0;32mas\u001b[0m \u001b[0mfd\u001b[0m\u001b[0;34m:\u001b[0m\u001b[0;34m\u001b[0m\u001b[0;34m\u001b[0m\u001b[0m\n\u001b[1;32m    102\u001b[0m             \u001b[0mfd\u001b[0m\u001b[0;34m.\u001b[0m\u001b[0mwrite\u001b[0m\u001b[0;34m(\u001b[0m\u001b[0;34mf'\\n{recording_basename}'\u001b[0m\u001b[0;34m)\u001b[0m\u001b[0;34m\u001b[0m\u001b[0;34m\u001b[0m\u001b[0m\n\u001b[0;32m--> 103\u001b[0;31m \u001b[0;34m\u001b[0m\u001b[0m\n\u001b[0m\u001b[1;32m    104\u001b[0m     \u001b[0;32mexcept\u001b[0m \u001b[0mException\u001b[0m \u001b[0;32mas\u001b[0m \u001b[0me\u001b[0m\u001b[0;34m:\u001b[0m\u001b[0;34m\u001b[0m\u001b[0;34m\u001b[0m\u001b[0m\n\u001b[1;32m    105\u001b[0m         \u001b[0mprint\u001b[0m\u001b[0;34m(\u001b[0m\u001b[0me\u001b[0m\u001b[0;34m)\u001b[0m\u001b[0;34m\u001b[0m\u001b[0;34m\u001b[0m\u001b[0m\n\u001b[1;32m    106\u001b[0m         \u001b[0mfailed_files\u001b[0m\u001b[0;34m.\u001b[0m\u001b[0mappend\u001b[0m\u001b[0;34m(\u001b[0m\u001b[0mrecording_file\u001b[0m\u001b[0;34m)\u001b[0m\u001b[0;34m\u001b[0m\u001b[0;34m\u001b[0m\u001b[0m\n",
      "\u001b[0;32m~/miniforge3/envs/kilosort_4_0_5/lib/python3.9/site-packages/spikeinterface/sorters/runsorter.py\u001b[0m in \u001b[0;36m?\u001b[0;34m(sorter_name, recording, output_folder, remove_existing_folder, delete_output_folder, verbose, raise_error, docker_image, singularity_image, delete_container_files, with_output, **sorter_params)\u001b[0m\n\u001b[1;32m    171\u001b[0m             \u001b[0mmode\u001b[0m\u001b[0;34m=\u001b[0m\u001b[0mmode\u001b[0m\u001b[0;34m,\u001b[0m\u001b[0;34m\u001b[0m\u001b[0;34m\u001b[0m\u001b[0m\n\u001b[1;32m    172\u001b[0m             \u001b[0;34m**\u001b[0m\u001b[0mcommon_kwargs\u001b[0m\u001b[0;34m,\u001b[0m\u001b[0;34m\u001b[0m\u001b[0;34m\u001b[0m\u001b[0m\n\u001b[1;32m    173\u001b[0m         )\n\u001b[1;32m    174\u001b[0m \u001b[0;34m\u001b[0m\u001b[0m\n\u001b[0;32m--> 175\u001b[0;31m     \u001b[0;32mreturn\u001b[0m \u001b[0mrun_sorter_local\u001b[0m\u001b[0;34m(\u001b[0m\u001b[0;34m**\u001b[0m\u001b[0mcommon_kwargs\u001b[0m\u001b[0;34m)\u001b[0m\u001b[0;34m\u001b[0m\u001b[0;34m\u001b[0m\u001b[0m\n\u001b[0m",
      "\u001b[0;32m~/miniforge3/envs/kilosort_4_0_5/lib/python3.9/site-packages/spikeinterface/sorters/runsorter.py\u001b[0m in \u001b[0;36m?\u001b[0;34m(sorter_name, recording, output_folder, remove_existing_folder, delete_output_folder, verbose, raise_error, with_output, **sorter_params)\u001b[0m\n\u001b[1;32m    221\u001b[0m     \u001b[0;31m# only classmethod call not instance (stateless at instance level but state is in folder)\u001b[0m\u001b[0;34m\u001b[0m\u001b[0;34m\u001b[0m\u001b[0m\n\u001b[1;32m    222\u001b[0m     \u001b[0moutput_folder\u001b[0m \u001b[0;34m=\u001b[0m \u001b[0mSorterClass\u001b[0m\u001b[0;34m.\u001b[0m\u001b[0minitialize_folder\u001b[0m\u001b[0;34m(\u001b[0m\u001b[0mrecording\u001b[0m\u001b[0;34m,\u001b[0m \u001b[0moutput_folder\u001b[0m\u001b[0;34m,\u001b[0m \u001b[0mverbose\u001b[0m\u001b[0;34m,\u001b[0m \u001b[0mremove_existing_folder\u001b[0m\u001b[0;34m)\u001b[0m\u001b[0;34m\u001b[0m\u001b[0;34m\u001b[0m\u001b[0m\n\u001b[1;32m    223\u001b[0m     \u001b[0mSorterClass\u001b[0m\u001b[0;34m.\u001b[0m\u001b[0mset_params_to_folder\u001b[0m\u001b[0;34m(\u001b[0m\u001b[0mrecording\u001b[0m\u001b[0;34m,\u001b[0m \u001b[0moutput_folder\u001b[0m\u001b[0;34m,\u001b[0m \u001b[0msorter_params\u001b[0m\u001b[0;34m,\u001b[0m \u001b[0mverbose\u001b[0m\u001b[0;34m)\u001b[0m\u001b[0;34m\u001b[0m\u001b[0;34m\u001b[0m\u001b[0m\n\u001b[1;32m    224\u001b[0m     \u001b[0mSorterClass\u001b[0m\u001b[0;34m.\u001b[0m\u001b[0msetup_recording\u001b[0m\u001b[0;34m(\u001b[0m\u001b[0mrecording\u001b[0m\u001b[0;34m,\u001b[0m \u001b[0moutput_folder\u001b[0m\u001b[0;34m,\u001b[0m \u001b[0mverbose\u001b[0m\u001b[0;34m=\u001b[0m\u001b[0mverbose\u001b[0m\u001b[0;34m)\u001b[0m\u001b[0;34m\u001b[0m\u001b[0;34m\u001b[0m\u001b[0m\n\u001b[0;32m--> 225\u001b[0;31m     \u001b[0mSorterClass\u001b[0m\u001b[0;34m.\u001b[0m\u001b[0mrun_from_folder\u001b[0m\u001b[0;34m(\u001b[0m\u001b[0moutput_folder\u001b[0m\u001b[0;34m,\u001b[0m \u001b[0mraise_error\u001b[0m\u001b[0;34m,\u001b[0m \u001b[0mverbose\u001b[0m\u001b[0;34m)\u001b[0m\u001b[0;34m\u001b[0m\u001b[0;34m\u001b[0m\u001b[0m\n\u001b[0m\u001b[1;32m    226\u001b[0m     \u001b[0;32mif\u001b[0m \u001b[0mwith_output\u001b[0m\u001b[0;34m:\u001b[0m\u001b[0;34m\u001b[0m\u001b[0;34m\u001b[0m\u001b[0m\n\u001b[1;32m    227\u001b[0m         \u001b[0msorting\u001b[0m \u001b[0;34m=\u001b[0m \u001b[0mSorterClass\u001b[0m\u001b[0;34m.\u001b[0m\u001b[0mget_result_from_folder\u001b[0m\u001b[0;34m(\u001b[0m\u001b[0moutput_folder\u001b[0m\u001b[0;34m,\u001b[0m \u001b[0mregister_recording\u001b[0m\u001b[0;34m=\u001b[0m\u001b[0;32mTrue\u001b[0m\u001b[0;34m,\u001b[0m \u001b[0msorting_info\u001b[0m\u001b[0;34m=\u001b[0m\u001b[0;32mTrue\u001b[0m\u001b[0;34m)\u001b[0m\u001b[0;34m\u001b[0m\u001b[0;34m\u001b[0m\u001b[0m\n\u001b[1;32m    228\u001b[0m     \u001b[0;32melse\u001b[0m\u001b[0;34m:\u001b[0m\u001b[0;34m\u001b[0m\u001b[0;34m\u001b[0m\u001b[0m\n",
      "\u001b[0;32m~/miniforge3/envs/kilosort_4_0_5/lib/python3.9/site-packages/spikeinterface/sorters/basesorter.py\u001b[0m in \u001b[0;36m?\u001b[0;34m(cls, output_folder, raise_error, verbose)\u001b[0m\n\u001b[1;32m    262\u001b[0m         \u001b[0;32mexcept\u001b[0m \u001b[0mException\u001b[0m \u001b[0;32mas\u001b[0m \u001b[0merr\u001b[0m\u001b[0;34m:\u001b[0m\u001b[0;34m\u001b[0m\u001b[0;34m\u001b[0m\u001b[0m\n\u001b[1;32m    263\u001b[0m             \u001b[0mhas_error\u001b[0m \u001b[0;34m=\u001b[0m \u001b[0;32mTrue\u001b[0m\u001b[0;34m\u001b[0m\u001b[0;34m\u001b[0m\u001b[0m\n\u001b[1;32m    264\u001b[0m             \u001b[0mrun_time\u001b[0m \u001b[0;34m=\u001b[0m \u001b[0;32mNone\u001b[0m\u001b[0;34m\u001b[0m\u001b[0;34m\u001b[0m\u001b[0m\n\u001b[1;32m    265\u001b[0m             \u001b[0mlog\u001b[0m\u001b[0;34m[\u001b[0m\u001b[0;34m\"error\"\u001b[0m\u001b[0;34m]\u001b[0m \u001b[0;34m=\u001b[0m \u001b[0;32mTrue\u001b[0m\u001b[0;34m\u001b[0m\u001b[0;34m\u001b[0m\u001b[0m\n\u001b[0;32m--> 266\u001b[0;31m             \u001b[0mlog\u001b[0m\u001b[0;34m[\u001b[0m\u001b[0;34m\"error_trace\"\u001b[0m\u001b[0;34m]\u001b[0m \u001b[0;34m=\u001b[0m \u001b[0mtraceback\u001b[0m\u001b[0;34m.\u001b[0m\u001b[0mformat_exc\u001b[0m\u001b[0;34m(\u001b[0m\u001b[0;34m)\u001b[0m\u001b[0;34m\u001b[0m\u001b[0;34m\u001b[0m\u001b[0m\n\u001b[0m\u001b[1;32m    267\u001b[0m \u001b[0;34m\u001b[0m\u001b[0m\n\u001b[1;32m    268\u001b[0m         \u001b[0mlog\u001b[0m\u001b[0;34m[\u001b[0m\u001b[0;34m\"error\"\u001b[0m\u001b[0;34m]\u001b[0m \u001b[0;34m=\u001b[0m \u001b[0mhas_error\u001b[0m\u001b[0;34m\u001b[0m\u001b[0;34m\u001b[0m\u001b[0m\n\u001b[1;32m    269\u001b[0m         \u001b[0mlog\u001b[0m\u001b[0;34m[\u001b[0m\u001b[0;34m\"run_time\"\u001b[0m\u001b[0;34m]\u001b[0m \u001b[0;34m=\u001b[0m \u001b[0mrun_time\u001b[0m\u001b[0;34m\u001b[0m\u001b[0;34m\u001b[0m\u001b[0m\n",
      "\u001b[0;32m~/miniforge3/envs/kilosort_4_0_5/lib/python3.9/site-packages/spikeinterface/sorters/external/kilosort4.py\u001b[0m in \u001b[0;36m?\u001b[0;34m(cls, sorter_output_folder, params, verbose)\u001b[0m\n\u001b[1;32m    236\u001b[0m             \u001b[0mops\u001b[0m\u001b[0;34m,\u001b[0m \u001b[0mdevice\u001b[0m\u001b[0;34m,\u001b[0m \u001b[0mtic0\u001b[0m\u001b[0;34m=\u001b[0m\u001b[0mtic0\u001b[0m\u001b[0;34m,\u001b[0m \u001b[0mprogress_bar\u001b[0m\u001b[0;34m=\u001b[0m\u001b[0mprogress_bar\u001b[0m\u001b[0;34m,\u001b[0m \u001b[0mfile_object\u001b[0m\u001b[0;34m=\u001b[0m\u001b[0mfile_object\u001b[0m\u001b[0;34m\u001b[0m\u001b[0;34m\u001b[0m\u001b[0m\n\u001b[1;32m    237\u001b[0m         )\n\u001b[1;32m    238\u001b[0m \u001b[0;34m\u001b[0m\u001b[0m\n\u001b[1;32m    239\u001b[0m         \u001b[0;31m# Sort spikes and save results\u001b[0m\u001b[0;34m\u001b[0m\u001b[0;34m\u001b[0m\u001b[0m\n\u001b[0;32m--> 240\u001b[0;31m         \u001b[0mst\u001b[0m\u001b[0;34m,\u001b[0m \u001b[0mtF\u001b[0m\u001b[0;34m,\u001b[0m \u001b[0m_\u001b[0m\u001b[0;34m,\u001b[0m \u001b[0m_\u001b[0m \u001b[0;34m=\u001b[0m \u001b[0mdetect_spikes\u001b[0m\u001b[0;34m(\u001b[0m\u001b[0mops\u001b[0m\u001b[0;34m,\u001b[0m \u001b[0mdevice\u001b[0m\u001b[0;34m,\u001b[0m \u001b[0mbfile\u001b[0m\u001b[0;34m,\u001b[0m \u001b[0mtic0\u001b[0m\u001b[0;34m=\u001b[0m\u001b[0mtic0\u001b[0m\u001b[0;34m,\u001b[0m \u001b[0mprogress_bar\u001b[0m\u001b[0;34m=\u001b[0m\u001b[0mprogress_bar\u001b[0m\u001b[0;34m)\u001b[0m\u001b[0;34m\u001b[0m\u001b[0;34m\u001b[0m\u001b[0m\n\u001b[0m\u001b[1;32m    241\u001b[0m         \u001b[0mclu\u001b[0m\u001b[0;34m,\u001b[0m \u001b[0mWall\u001b[0m \u001b[0;34m=\u001b[0m \u001b[0mcluster_spikes\u001b[0m\u001b[0;34m(\u001b[0m\u001b[0mst\u001b[0m\u001b[0;34m,\u001b[0m \u001b[0mtF\u001b[0m\u001b[0;34m,\u001b[0m \u001b[0mops\u001b[0m\u001b[0;34m,\u001b[0m \u001b[0mdevice\u001b[0m\u001b[0;34m,\u001b[0m \u001b[0mbfile\u001b[0m\u001b[0;34m,\u001b[0m \u001b[0mtic0\u001b[0m\u001b[0;34m=\u001b[0m\u001b[0mtic0\u001b[0m\u001b[0;34m,\u001b[0m \u001b[0mprogress_bar\u001b[0m\u001b[0;34m=\u001b[0m\u001b[0mprogress_bar\u001b[0m\u001b[0;34m)\u001b[0m\u001b[0;34m\u001b[0m\u001b[0;34m\u001b[0m\u001b[0m\n\u001b[1;32m    242\u001b[0m         \u001b[0;32mif\u001b[0m \u001b[0mparams\u001b[0m\u001b[0;34m[\u001b[0m\u001b[0;34m\"skip_kilosort_preprocessing\"\u001b[0m\u001b[0;34m]\u001b[0m\u001b[0;34m:\u001b[0m\u001b[0;34m\u001b[0m\u001b[0;34m\u001b[0m\u001b[0m\n\u001b[1;32m    243\u001b[0m             ops[\"preprocessing\"] = dict(\n",
      "\u001b[0;32m~/miniforge3/envs/kilosort_4_0_5/lib/python3.9/site-packages/kilosort/run_kilosort.py\u001b[0m in \u001b[0;36m?\u001b[0;34m(ops, device, bfile, tic0, progress_bar)\u001b[0m\n\u001b[1;32m    403\u001b[0m         \u001b[0;32mraise\u001b[0m \u001b[0mValueError\u001b[0m\u001b[0;34m(\u001b[0m\u001b[0;34m'No spikes detected, cannot continue sorting.'\u001b[0m\u001b[0;34m)\u001b[0m\u001b[0;34m\u001b[0m\u001b[0;34m\u001b[0m\u001b[0m\n\u001b[1;32m    404\u001b[0m \u001b[0;34m\u001b[0m\u001b[0m\n\u001b[1;32m    405\u001b[0m     \u001b[0mtic\u001b[0m \u001b[0;34m=\u001b[0m \u001b[0mtime\u001b[0m\u001b[0;34m.\u001b[0m\u001b[0mtime\u001b[0m\u001b[0;34m(\u001b[0m\u001b[0;34m)\u001b[0m\u001b[0;34m\u001b[0m\u001b[0;34m\u001b[0m\u001b[0m\n\u001b[1;32m    406\u001b[0m     \u001b[0mprint\u001b[0m\u001b[0;34m(\u001b[0m\u001b[0;34m'\\nFirst clustering'\u001b[0m\u001b[0;34m)\u001b[0m\u001b[0;34m\u001b[0m\u001b[0;34m\u001b[0m\u001b[0m\n\u001b[0;32m--> 407\u001b[0;31m     clu, Wall = clustering_qr.run(ops, st0, tF, mode='spikes', device=device,\n\u001b[0m\u001b[1;32m    408\u001b[0m                                   progress_bar=progress_bar)\n\u001b[1;32m    409\u001b[0m     \u001b[0mWall3\u001b[0m \u001b[0;34m=\u001b[0m \u001b[0mtemplate_matching\u001b[0m\u001b[0;34m.\u001b[0m\u001b[0mpostprocess_templates\u001b[0m\u001b[0;34m(\u001b[0m\u001b[0mWall\u001b[0m\u001b[0;34m,\u001b[0m \u001b[0mops\u001b[0m\u001b[0;34m,\u001b[0m \u001b[0mclu\u001b[0m\u001b[0;34m,\u001b[0m \u001b[0mst0\u001b[0m\u001b[0;34m,\u001b[0m \u001b[0mdevice\u001b[0m\u001b[0;34m=\u001b[0m\u001b[0mdevice\u001b[0m\u001b[0;34m)\u001b[0m\u001b[0;34m\u001b[0m\u001b[0;34m\u001b[0m\u001b[0m\n\u001b[1;32m    410\u001b[0m     print(f'{clu.max()+1} clusters found, in {time.time()-tic : .2f}s; ' +\n",
      "\u001b[0;32m~/miniforge3/envs/kilosort_4_0_5/lib/python3.9/site-packages/kilosort/clustering_qr.py\u001b[0m in \u001b[0;36m?\u001b[0;34m(ops, st, tF, mode, device, progress_bar)\u001b[0m\n\u001b[1;32m    351\u001b[0m                 \u001b[0;32melse\u001b[0m\u001b[0;34m:\u001b[0m\u001b[0;34m\u001b[0m\u001b[0;34m\u001b[0m\u001b[0m\n\u001b[1;32m    352\u001b[0m                     \u001b[0mst0\u001b[0m \u001b[0;34m=\u001b[0m \u001b[0;32mNone\u001b[0m\u001b[0;34m\u001b[0m\u001b[0;34m\u001b[0m\u001b[0m\n\u001b[1;32m    353\u001b[0m \u001b[0;34m\u001b[0m\u001b[0m\n\u001b[1;32m    354\u001b[0m                 \u001b[0;31m# find new clusters\u001b[0m\u001b[0;34m\u001b[0m\u001b[0;34m\u001b[0m\u001b[0m\n\u001b[0;32m--> 355\u001b[0;31m                 iclust, iclust0, M, iclust_init = cluster(Xd, nskip=nskip, lam=1,\n\u001b[0m\u001b[1;32m    356\u001b[0m                                                         seed=5, device=device)\n\u001b[1;32m    357\u001b[0m \u001b[0;34m\u001b[0m\u001b[0m\n\u001b[1;32m    358\u001b[0m                 \u001b[0mxtree\u001b[0m\u001b[0;34m,\u001b[0m \u001b[0mtstat\u001b[0m\u001b[0;34m,\u001b[0m \u001b[0mmy_clus\u001b[0m \u001b[0;34m=\u001b[0m \u001b[0mhierarchical\u001b[0m\u001b[0;34m.\u001b[0m\u001b[0mmaketree\u001b[0m\u001b[0;34m(\u001b[0m\u001b[0mM\u001b[0m\u001b[0;34m,\u001b[0m \u001b[0miclust\u001b[0m\u001b[0;34m,\u001b[0m \u001b[0miclust0\u001b[0m\u001b[0;34m)\u001b[0m\u001b[0;34m\u001b[0m\u001b[0;34m\u001b[0m\u001b[0m\n",
      "\u001b[0;32m~/miniforge3/envs/kilosort_4_0_5/lib/python3.9/site-packages/kilosort/clustering_qr.py\u001b[0m in \u001b[0;36m?\u001b[0;34m(Xd, iclust, kn, nskip, n_neigh, nclust, seed, niter, lam, device)\u001b[0m\n\u001b[1;32m    110\u001b[0m def cluster(Xd, iclust = None, kn = None, nskip = 20, n_neigh = 10, nclust = 200, \n\u001b[1;32m    111\u001b[0m             seed = 1, niter = 200, lam = 0, device=torch.device('cuda')):    \n\u001b[1;32m    112\u001b[0m \u001b[0;34m\u001b[0m\u001b[0m\n\u001b[1;32m    113\u001b[0m     \u001b[0;32mif\u001b[0m \u001b[0mkn\u001b[0m \u001b[0;32mis\u001b[0m \u001b[0;32mNone\u001b[0m\u001b[0;34m:\u001b[0m\u001b[0;34m\u001b[0m\u001b[0;34m\u001b[0m\u001b[0m\n\u001b[0;32m--> 114\u001b[0;31m         \u001b[0mkn\u001b[0m\u001b[0;34m,\u001b[0m \u001b[0mM\u001b[0m \u001b[0;34m=\u001b[0m \u001b[0mneigh_mat\u001b[0m\u001b[0;34m(\u001b[0m\u001b[0mXd\u001b[0m\u001b[0;34m,\u001b[0m \u001b[0mnskip\u001b[0m \u001b[0;34m=\u001b[0m \u001b[0mnskip\u001b[0m\u001b[0;34m,\u001b[0m \u001b[0mn_neigh\u001b[0m \u001b[0;34m=\u001b[0m \u001b[0mn_neigh\u001b[0m\u001b[0;34m)\u001b[0m\u001b[0;34m\u001b[0m\u001b[0;34m\u001b[0m\u001b[0m\n\u001b[0m\u001b[1;32m    115\u001b[0m \u001b[0;34m\u001b[0m\u001b[0m\n\u001b[1;32m    116\u001b[0m     \u001b[0mm\u001b[0m\u001b[0;34m,\u001b[0m \u001b[0mki\u001b[0m\u001b[0;34m,\u001b[0m \u001b[0mkj\u001b[0m \u001b[0;34m=\u001b[0m \u001b[0mMstats\u001b[0m\u001b[0;34m(\u001b[0m\u001b[0mM\u001b[0m\u001b[0;34m,\u001b[0m \u001b[0mdevice\u001b[0m\u001b[0;34m=\u001b[0m\u001b[0mdevice\u001b[0m\u001b[0;34m)\u001b[0m\u001b[0;34m\u001b[0m\u001b[0;34m\u001b[0m\u001b[0m\n\u001b[1;32m    117\u001b[0m \u001b[0;34m\u001b[0m\u001b[0m\n",
      "\u001b[0;32m~/miniforge3/envs/kilosort_4_0_5/lib/python3.9/site-packages/kilosort/clustering_qr.py\u001b[0m in \u001b[0;36m?\u001b[0;34m(Xd, nskip, n_neigh)\u001b[0m\n\u001b[1;32m     19\u001b[0m     \u001b[0mXd\u001b[0m \u001b[0;34m=\u001b[0m \u001b[0mnp\u001b[0m\u001b[0;34m.\u001b[0m\u001b[0mascontiguousarray\u001b[0m\u001b[0;34m(\u001b[0m\u001b[0mXd\u001b[0m\u001b[0;34m)\u001b[0m\u001b[0;34m\u001b[0m\u001b[0;34m\u001b[0m\u001b[0m\n\u001b[1;32m     20\u001b[0m     \u001b[0mXsub\u001b[0m \u001b[0;34m=\u001b[0m \u001b[0mnp\u001b[0m\u001b[0;34m.\u001b[0m\u001b[0mascontiguousarray\u001b[0m\u001b[0;34m(\u001b[0m\u001b[0mXsub\u001b[0m\u001b[0;34m)\u001b[0m\u001b[0;34m\u001b[0m\u001b[0;34m\u001b[0m\u001b[0m\n\u001b[1;32m     21\u001b[0m     \u001b[0mindex\u001b[0m \u001b[0;34m=\u001b[0m \u001b[0mfaiss\u001b[0m\u001b[0;34m.\u001b[0m\u001b[0mIndexFlatL2\u001b[0m\u001b[0;34m(\u001b[0m\u001b[0mdim\u001b[0m\u001b[0;34m)\u001b[0m   \u001b[0;31m# build the index\u001b[0m\u001b[0;34m\u001b[0m\u001b[0;34m\u001b[0m\u001b[0m\n\u001b[1;32m     22\u001b[0m     \u001b[0mindex\u001b[0m\u001b[0;34m.\u001b[0m\u001b[0madd\u001b[0m\u001b[0;34m(\u001b[0m\u001b[0mXsub\u001b[0m\u001b[0;34m)\u001b[0m    \u001b[0;31m# add vectors to the index\u001b[0m\u001b[0;34m\u001b[0m\u001b[0;34m\u001b[0m\u001b[0m\n\u001b[0;32m---> 23\u001b[0;31m     \u001b[0mdn\u001b[0m\u001b[0;34m,\u001b[0m \u001b[0mkn\u001b[0m \u001b[0;34m=\u001b[0m \u001b[0mindex\u001b[0m\u001b[0;34m.\u001b[0m\u001b[0msearch\u001b[0m\u001b[0;34m(\u001b[0m\u001b[0mXd\u001b[0m\u001b[0;34m,\u001b[0m \u001b[0mn_neigh\u001b[0m\u001b[0;34m)\u001b[0m     \u001b[0;31m# actual search\u001b[0m\u001b[0;34m\u001b[0m\u001b[0;34m\u001b[0m\u001b[0m\n\u001b[0m\u001b[1;32m     24\u001b[0m \u001b[0;34m\u001b[0m\u001b[0m\n\u001b[1;32m     25\u001b[0m     \u001b[0;31m#kn = kn[:,1:]\u001b[0m\u001b[0;34m\u001b[0m\u001b[0;34m\u001b[0m\u001b[0m\n\u001b[1;32m     26\u001b[0m     \u001b[0mn_neigh\u001b[0m \u001b[0;34m=\u001b[0m \u001b[0mkn\u001b[0m\u001b[0;34m.\u001b[0m\u001b[0mshape\u001b[0m\u001b[0;34m[\u001b[0m\u001b[0;34m-\u001b[0m\u001b[0;36m1\u001b[0m\u001b[0;34m]\u001b[0m\u001b[0;34m\u001b[0m\u001b[0;34m\u001b[0m\u001b[0m\n",
      "\u001b[0;32m~/miniforge3/envs/kilosort_4_0_5/lib/python3.9/site-packages/faiss/class_wrappers.py\u001b[0m in \u001b[0;36m?\u001b[0;34m(self, x, k, params, D, I)\u001b[0m\n\u001b[1;32m    339\u001b[0m             \u001b[0mI\u001b[0m \u001b[0;34m=\u001b[0m \u001b[0mnp\u001b[0m\u001b[0;34m.\u001b[0m\u001b[0mempty\u001b[0m\u001b[0;34m(\u001b[0m\u001b[0;34m(\u001b[0m\u001b[0mn\u001b[0m\u001b[0;34m,\u001b[0m \u001b[0mk\u001b[0m\u001b[0;34m)\u001b[0m\u001b[0;34m,\u001b[0m \u001b[0mdtype\u001b[0m\u001b[0;34m=\u001b[0m\u001b[0mnp\u001b[0m\u001b[0;34m.\u001b[0m\u001b[0mint64\u001b[0m\u001b[0;34m)\u001b[0m\u001b[0;34m\u001b[0m\u001b[0;34m\u001b[0m\u001b[0m\n\u001b[1;32m    340\u001b[0m         \u001b[0;32melse\u001b[0m\u001b[0;34m:\u001b[0m\u001b[0;34m\u001b[0m\u001b[0;34m\u001b[0m\u001b[0m\n\u001b[1;32m    341\u001b[0m             \u001b[0;32massert\u001b[0m \u001b[0mI\u001b[0m\u001b[0;34m.\u001b[0m\u001b[0mshape\u001b[0m \u001b[0;34m==\u001b[0m \u001b[0;34m(\u001b[0m\u001b[0mn\u001b[0m\u001b[0;34m,\u001b[0m \u001b[0mk\u001b[0m\u001b[0;34m)\u001b[0m\u001b[0;34m\u001b[0m\u001b[0;34m\u001b[0m\u001b[0m\n\u001b[1;32m    342\u001b[0m \u001b[0;34m\u001b[0m\u001b[0m\n\u001b[0;32m--> 343\u001b[0;31m         \u001b[0mself\u001b[0m\u001b[0;34m.\u001b[0m\u001b[0msearch_c\u001b[0m\u001b[0;34m(\u001b[0m\u001b[0mn\u001b[0m\u001b[0;34m,\u001b[0m \u001b[0mswig_ptr\u001b[0m\u001b[0;34m(\u001b[0m\u001b[0mx\u001b[0m\u001b[0;34m)\u001b[0m\u001b[0;34m,\u001b[0m \u001b[0mk\u001b[0m\u001b[0;34m,\u001b[0m \u001b[0mswig_ptr\u001b[0m\u001b[0;34m(\u001b[0m\u001b[0mD\u001b[0m\u001b[0;34m)\u001b[0m\u001b[0;34m,\u001b[0m \u001b[0mswig_ptr\u001b[0m\u001b[0;34m(\u001b[0m\u001b[0mI\u001b[0m\u001b[0;34m)\u001b[0m\u001b[0;34m,\u001b[0m \u001b[0mparams\u001b[0m\u001b[0;34m)\u001b[0m\u001b[0;34m\u001b[0m\u001b[0;34m\u001b[0m\u001b[0m\n\u001b[0m\u001b[1;32m    344\u001b[0m         \u001b[0;32mreturn\u001b[0m \u001b[0mD\u001b[0m\u001b[0;34m,\u001b[0m \u001b[0mI\u001b[0m\u001b[0;34m\u001b[0m\u001b[0;34m\u001b[0m\u001b[0m\n",
      "\u001b[0;32m~/miniforge3/envs/kilosort_4_0_5/lib/python3.9/site-packages/faiss/swigfaiss_avx2.py\u001b[0m in \u001b[0;36m?\u001b[0;34m(self, n, x, k, distances, labels, params)\u001b[0m\n\u001b[1;32m   2276\u001b[0m     \u001b[0;32mdef\u001b[0m \u001b[0msearch\u001b[0m\u001b[0;34m(\u001b[0m\u001b[0mself\u001b[0m\u001b[0;34m,\u001b[0m \u001b[0mn\u001b[0m\u001b[0;34m,\u001b[0m \u001b[0mx\u001b[0m\u001b[0;34m,\u001b[0m \u001b[0mk\u001b[0m\u001b[0;34m,\u001b[0m \u001b[0mdistances\u001b[0m\u001b[0;34m,\u001b[0m \u001b[0mlabels\u001b[0m\u001b[0;34m,\u001b[0m \u001b[0mparams\u001b[0m\u001b[0;34m=\u001b[0m\u001b[0;32mNone\u001b[0m\u001b[0;34m)\u001b[0m\u001b[0;34m:\u001b[0m\u001b[0;34m\u001b[0m\u001b[0;34m\u001b[0m\u001b[0m\n\u001b[0;32m-> 2277\u001b[0;31m         \u001b[0;32mreturn\u001b[0m \u001b[0m_swigfaiss_avx2\u001b[0m\u001b[0;34m.\u001b[0m\u001b[0mIndexFlat_search\u001b[0m\u001b[0;34m(\u001b[0m\u001b[0mself\u001b[0m\u001b[0;34m,\u001b[0m \u001b[0mn\u001b[0m\u001b[0;34m,\u001b[0m \u001b[0mx\u001b[0m\u001b[0;34m,\u001b[0m \u001b[0mk\u001b[0m\u001b[0;34m,\u001b[0m \u001b[0mdistances\u001b[0m\u001b[0;34m,\u001b[0m \u001b[0mlabels\u001b[0m\u001b[0;34m,\u001b[0m \u001b[0mparams\u001b[0m\u001b[0;34m)\u001b[0m\u001b[0;34m\u001b[0m\u001b[0;34m\u001b[0m\u001b[0m\n\u001b[0m",
      "\u001b[0;31mKeyboardInterrupt\u001b[0m: "
     ]
    }
   ],
   "source": [
    "successful_files = [] \n",
    "failed_files = []\n",
    "\n",
    "for recording_file in all_recording_files:\n",
    "    print(recording_file)\n",
    "    \n",
    "    recording_basename = os.path.basename(recording_file)\n",
    "    recording_output_directory = \"/scratch/back_up/reward_competition_extention/proc/spike_sorting/old/kilosort4/independent_channel/{}\".format(recording_basename)\n",
    "    os.makedirs(recording_output_directory, exist_ok=True)\n",
    "\n",
    "    print(\"Output directory: {}\".format(recording_output_directory))\n",
    "    \n",
    "    try:\n",
    "        with open('successful_files.txt', \"r\") as myfile:\n",
    "            if recording_basename in myfile.read():\n",
    "                warnings.warn(\"\"\"Directory already exists for: {}.\n",
    "                              Either continue on if you are satisfied with the previous run \n",
    "                              or delete the directory and run this cell again\"\"\".format(recording_basename))\n",
    "                continue\n",
    "    except:\n",
    "        pass\n",
    "    \n",
    "    try:\n",
    "        trodes_recording = se.read_spikegadgets(recording_file, stream_id=\"trodes\")       \n",
    "        trodes_recording = trodes_recording.set_probes(probe_object)\n",
    "        \n",
    "        clipped_recording: si.BaseRecording = sp.resample(trodes_recording, resample_rate=20000, dtype=np.float32)\n",
    "        \n",
    "        clipped_recording = st.preprocessing.remove_bad_channels(clipped_recording, bad_channel_ids=None, bad_threshold=2,\n",
    "                                                                 seconds=2)\n",
    "\n",
    "        child_spikesorting_output_directory = os.path.join(recording_output_directory,\"ss_output\")\n",
    "               \n",
    "        start = time.time()\n",
    "        # Make sure the recording is preprocessed appropriately\n",
    "        # lazy preprocessing\n",
    "        print(\"Running bandpass filter\")\n",
    "        recording_filtered = sp.bandpass_filter(trodes_recording, freq_min=300, freq_max=6000, dtype=np.float32)\n",
    "\n",
    "        print(\"Running whitening\")\n",
    "        recording_preprocessed: si.BaseRecording = sp.whiten(recording_filtered, dtype=np.float32)\n",
    "                \n",
    "        print(\"Spike sorting\")\n",
    "        spike_sorted_object = ss.run_sorter(sorter_name=\"kilosort4\", \n",
    "                                            recording=clipped_recording,\n",
    "                                            skip_kilosort_preprocessing=False,\n",
    "                                            do_CAR=False,\n",
    "                                            do_correction=False,\n",
    "                                            nearest_chans=1,\n",
    "                                            nt= 41,\n",
    "                                            Th_universal = 9 + 3,\n",
    "                                            Th_learned = 8 + 3,\n",
    "                                            nearest_templates=1,\n",
    "                                            output_folder=child_spikesorting_output_directory\n",
    "                                            )\n",
    "                \n",
    "        shutil.rmtree(child_spikesorting_output_directory, ignore_errors=True)\n",
    "        spike_sorted_object.save(folder=child_spikesorting_output_directory)\n",
    "\n",
    "        sw.plot_rasters(spike_sorted_object)\n",
    "        plt.title(recording_basename)\n",
    "        plt.ylabel(\"Unit IDs\")\n",
    "        \n",
    "        plt.savefig(os.path.join(recording_output_directory, \"{}_raster_plot.png\".format(recording_basename)))\n",
    "        plt.close()\n",
    "        \n",
    "        print(\"Exporting waveforms\")\n",
    "        waveform_output_directory = os.path.join(recording_output_directory, \"waveforms\")\n",
    "        we_spike_sorted = si.extract_waveforms(\n",
    "            recording=recording_preprocessed, \n",
    "            sorting=spike_sorted_object, \n",
    "            folder=waveform_output_directory,\n",
    "            ms_before=1, \n",
    "            ms_after=1, \n",
    "            progress_bar=True,\n",
    "            n_jobs=-1, \n",
    "            total_memory=\"8G\", \n",
    "            overwrite=True,\n",
    "            max_spikes_per_unit=2000,\n",
    "            sparse=False)\n",
    "        \n",
    "        print(\"we_spike_sorted is sparse: {}\".format(we_spike_sorted.is_sparse()))\n",
    "        \n",
    "        print(\"Saving to phy\")\n",
    "        phy_output_directory = os.path.join(recording_output_directory, \"phy\")\n",
    "        export_to_phy(we_spike_sorted, \n",
    "                        phy_output_directory,\n",
    "                        compute_pc_features=True, \n",
    "                        compute_amplitudes=True, \n",
    "                        remove_if_exists=True)\n",
    "        \n",
    "        # edit the params.py file os that it contains the correct realtive path\n",
    "        params_path = os.path.join(phy_output_directory, \"params.py\")\n",
    "        with open(params_path, 'r') as file:\n",
    "            lines = file.readlines()\n",
    "        lines[0] = \"dat_path = r'./recording.dat'\\n\"\n",
    "        with open(params_path, 'w') as file:\n",
    "            file.writelines(lines)\n",
    "        \n",
    "        successful_files.append(recording_file)\n",
    "        with open('successful_files.txt', \"a+\") as fd:\n",
    "            fd.write(f'\\n{recording_basename}')                     \n",
    "\n",
    "    except Exception as e: \n",
    "        print(e)\n",
    "        failed_files.append(recording_file)"
   ]
  },
  {
   "cell_type": "code",
   "execution_count": null,
   "metadata": {},
   "outputs": [],
   "source": [
    "# successful_files = [] \n",
    "# failed_files = []\n",
    "\n",
    "# for recording_file in all_recording_files:\n",
    "#     print(recording_file)\n",
    "    \n",
    "#     recording_basename = os.path.basename(recording_file)\n",
    "#     recording_output_directory = \"/scratch/back_up/reward_competition_extention/proc/spike_sorting/{}\".format(recording_basename)\n",
    "#     os.makedirs(recording_output_directory, exist_ok=True)\n",
    "\n",
    "#     print(\"Output directory: {}\".format(recording_output_directory))\n",
    "    \n",
    "#     try:\n",
    "#         with open('successful_files.txt', \"r\") as myfile:\n",
    "#             if recording_basename in myfile.read():\n",
    "#                 warnings.warn(\"\"\"Directory already exists for: {}.\n",
    "#                               Either continue on if you are satisfied with the previous run \n",
    "#                               or delete the directory and run this cell again\"\"\".format(recording_basename))\n",
    "#                 continue\n",
    "#     except:\n",
    "#         pass\n",
    "    \n",
    "#     try:\n",
    "#         trodes_recording = se.read_spikegadgets(recording_file, stream_id=\"trodes\")       \n",
    "#         trodes_recording = trodes_recording.set_probes(probe_object)\n",
    "\n",
    "#         child_spikesorting_output_directory = os.path.join(recording_output_directory,\"ss_output\")\n",
    "               \n",
    "#         start = time.time()\n",
    "#         # Make sure the recording is preprocessed appropriately\n",
    "#         # lazy preprocessing\n",
    "#         print(\"Running bandpass filter\")\n",
    "#         recording_filtered = sp.bandpass_filter(trodes_recording, freq_min=300, freq_max=6000, dtype=np.float32)\n",
    "\n",
    "#         print(\"Running whitening\")\n",
    "#         recording_preprocessed: si.BaseRecording = sp.whiten(recording_filtered, dtype=np.float32)\n",
    "                \n",
    "#         print(\"Spike sorting\")\n",
    "#         spike_sorted_object = ss.run_sorter(sorter_name=\"kilosort4\", \n",
    "#                                             recording=recording_preprocessed,\n",
    "#                                             skip_kilosort_preprocessing=True,\n",
    "#                                             do_CAR=False,\n",
    "#                                             do_correction=False,\n",
    "#                                             output_folder=child_spikesorting_output_directory\n",
    "#                                             )\n",
    "                \n",
    "#         shutil.rmtree(child_spikesorting_output_directory, ignore_errors=True)\n",
    "#         spike_sorted_object.save(folder=child_spikesorting_output_directory)\n",
    "\n",
    "#         sw.plot_rasters(spike_sorted_object)\n",
    "#         plt.title(recording_basename)\n",
    "#         plt.ylabel(\"Unit IDs\")\n",
    "        \n",
    "#         plt.savefig(os.path.join(recording_output_directory, \"{}_raster_plot.png\".format(recording_basename)))\n",
    "#         plt.close()\n",
    "        \n",
    "#         print(\"Exporting waveforms\")\n",
    "#         waveform_output_directory = os.path.join(recording_output_directory, \"waveforms\")\n",
    "#         we_spike_sorted = si.extract_waveforms(\n",
    "#             recording=recording_preprocessed, \n",
    "#             sorting=spike_sorted_object, \n",
    "#             folder=waveform_output_directory,\n",
    "#             ms_before=1, \n",
    "#             ms_after=1, \n",
    "#             progress_bar=True,\n",
    "#             n_jobs=-1, \n",
    "#             total_memory=\"8G\", \n",
    "#             overwrite=True,\n",
    "#             max_spikes_per_unit=2000,\n",
    "#             sparse=False)\n",
    "        \n",
    "#         print(\"we_spike_sorted is sparse: {}\".format(we_spike_sorted.is_sparse()))\n",
    "        \n",
    "#         print(\"Saving to phy\")\n",
    "#         phy_output_directory = os.path.join(recording_output_directory, \"phy\")\n",
    "#         export_to_phy(we_spike_sorted, \n",
    "#                         phy_output_directory,\n",
    "#                         compute_pc_features=True, \n",
    "#                         compute_amplitudes=True, \n",
    "#                         remove_if_exists=True)\n",
    "        \n",
    "#         # edit the params.py file os that it contains the correct realtive path\n",
    "#         params_path = os.path.join(phy_output_directory, \"params.py\")\n",
    "#         with open(params_path, 'r') as file:\n",
    "#             lines = file.readlines()\n",
    "#         lines[0] = \"dat_path = r'./recording.dat'\\n\"\n",
    "#         with open(params_path, 'w') as file:\n",
    "#             file.writelines(lines)\n",
    "        \n",
    "#         successful_files.append(recording_file)\n",
    "#         with open('successful_files.txt', \"a+\") as fd:\n",
    "#             fd.write(f'\\n{recording_basename}')                     \n",
    "\n",
    "#     except Exception as e: \n",
    "#         print(e)\n",
    "#         failed_files.append(recording_file)\n"
   ]
  },
  {
   "cell_type": "code",
   "execution_count": null,
   "metadata": {},
   "outputs": [],
   "source": [
    "# successful_files = [] \n",
    "# failed_files = []\n",
    "\n",
    "# for recording_file in all_recording_files:\n",
    "#     print(recording_file)\n",
    "    \n",
    "#     recording_basename = os.path.basename(recording_file)\n",
    "#     recording_output_directory = \"/scratch/back_up/reward_competition_extention/proc/spike_sorting/{}\".format(recording_basename)\n",
    "#     os.makedirs(recording_output_directory, exist_ok=True)\n",
    "\n",
    "#     print(\"Output directory: {}\".format(recording_output_directory))\n",
    "    \n",
    "#     try:\n",
    "#         with open('successful_files.txt', \"r\") as myfile:\n",
    "#             if recording_basename in myfile.read():\n",
    "#                 warnings.warn(\"\"\"Directory already exists for: {}.\n",
    "#                               Either continue on if you are satisfied with the previous run \n",
    "#                               or delete the directory and run this cell again\"\"\".format(recording_basename))\n",
    "#                 continue\n",
    "#     except:\n",
    "#         pass\n",
    "    \n",
    "#     try:\n",
    "#         trodes_recording = se.read_spikegadgets(recording_file, stream_id=\"trodes\")       \n",
    "#         trodes_recording = trodes_recording.set_probes(probe_object)\n",
    "\n",
    "#         child_spikesorting_output_directory = os.path.join(recording_output_directory,\"ss_output\")\n",
    "               \n",
    "#         start = time.time()\n",
    "#         # Make sure the recording is preprocessed appropriately\n",
    "#         # lazy preprocessing\n",
    "#         print(\"Running bandpass filter\")\n",
    "#         recording_filtered = sp.bandpass_filter(trodes_recording, freq_min=300, freq_max=6000, dtype=np.float32)\n",
    "\n",
    "#         print(\"Running whitening\")\n",
    "#         recording_preprocessed: si.BaseRecording = sp.whiten(recording_filtered, dtype=np.float32)\n",
    "        \n",
    "#         with TemporaryDirectory() as tmpdir:\n",
    "#             # cache the recording to a temporary directory for efficient reading\n",
    "#             print(\"Caching the recording\")\n",
    "#             recording_cached = create_cached_recording(recording_preprocessed, folder=tmpdir)\n",
    "#             recording_cached = recording_cached.set_probes(probe_object)\n",
    "#             recording_cached.annotate(is_filtered=True)\n",
    "\n",
    "#             print(\"Spike sorting\")\n",
    "#             spike_sorted_object = ms5.sorting_scheme2(\n",
    "#                 recording=recording_cached,\n",
    "#                 sorting_parameters=ms5.Scheme2SortingParameters(\n",
    "#                     detect_sign=0,\n",
    "#                     phase1_detect_channel_radius=700,\n",
    "#                     detect_channel_radius=700,\n",
    "#                 # other parameters...\n",
    "#                 )\n",
    "#             )\n",
    "            \n",
    "#             assert isinstance(spike_sorted_object, si.BaseSorting)\n",
    "            \n",
    "#             shutil.rmtree(child_spikesorting_output_directory, ignore_errors=True)\n",
    "#             spike_sorted_object.save(folder=child_spikesorting_output_directory)\n",
    "\n",
    "#             sw.plot_rasters(spike_sorted_object)\n",
    "#             plt.title(recording_basename)\n",
    "#             plt.ylabel(\"Unit IDs\")\n",
    "            \n",
    "#             plt.savefig(os.path.join(recording_output_directory, \"{}_raster_plot.png\".format(recording_basename)))\n",
    "#             plt.close()\n",
    "            \n",
    "#             print(\"Exporting waveforms\")\n",
    "#             waveform_output_directory = os.path.join(recording_output_directory, \"waveforms\")\n",
    "#             we_spike_sorted = si.extract_waveforms(\n",
    "#                 recording=recording_cached, \n",
    "#                 sorting=spike_sorted_object, \n",
    "#                 folder=waveform_output_directory,\n",
    "#                 ms_before=1, \n",
    "#                 ms_after=1, \n",
    "#                 progress_bar=True,\n",
    "#                 n_jobs=-1, \n",
    "#                 total_memory=\"8G\", \n",
    "#                 overwrite=True,\n",
    "#                 max_spikes_per_unit=2000,\n",
    "#                 sparse=False)\n",
    "            \n",
    "#             print(\"we_spike_sorted is sparse: {}\".format(we_spike_sorted.is_sparse()))\n",
    "            \n",
    "#             print(\"Saving to phy\")\n",
    "#             phy_output_directory = os.path.join(recording_output_directory, \"phy\")\n",
    "#             export_to_phy(we_spike_sorted, \n",
    "#                             phy_output_directory,\n",
    "#                             compute_pc_features=True, \n",
    "#                             compute_amplitudes=True, \n",
    "#                             remove_if_exists=True)\n",
    "            \n",
    "#             # edit the params.py file os that it contains the correct realtive path\n",
    "#             params_path = os.path.join(phy_output_directory, \"params.py\")\n",
    "#             with open(params_path, 'r') as file:\n",
    "#                 lines = file.readlines()\n",
    "#             lines[0] = \"dat_path = r'./recording.dat'\\n\"\n",
    "#             with open(params_path, 'w') as file:\n",
    "#                 file.writelines(lines)\n",
    "            \n",
    "#             successful_files.append(recording_file)\n",
    "#             with open('successful_files.txt', \"a+\") as fd:\n",
    "#                 fd.write(f'\\n{recording_basename}')                     \n",
    "\n",
    "#     except Exception as e: \n",
    "#         print(e)\n",
    "#         failed_files.append(recording_file)\n"
   ]
  },
  {
   "cell_type": "code",
   "execution_count": null,
   "metadata": {},
   "outputs": [],
   "source": [
    "raise ValueError()"
   ]
  },
  {
   "cell_type": "code",
   "execution_count": null,
   "metadata": {},
   "outputs": [],
   "source": []
  }
 ],
 "metadata": {
  "kernelspec": {
   "display_name": "Python 3 (ipykernel)",
   "language": "python",
   "name": "python3"
  },
  "language_info": {
   "codemirror_mode": {
    "name": "ipython",
    "version": 3
   },
   "file_extension": ".py",
   "mimetype": "text/x-python",
   "name": "python",
   "nbconvert_exporter": "python",
   "pygments_lexer": "ipython3",
   "version": "3.9.19"
  },
  "vscode": {
   "interpreter": {
    "hash": "916dbcbb3f70747c44a77c7bcd40155683ae19c65e1c03b4aa3499c5328201f1"
   }
  }
 },
 "nbformat": 4,
 "nbformat_minor": 1
}
