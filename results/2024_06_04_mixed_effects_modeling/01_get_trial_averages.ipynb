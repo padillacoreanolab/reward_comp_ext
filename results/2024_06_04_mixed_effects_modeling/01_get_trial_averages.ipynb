{
 "cells": [
  {
   "cell_type": "markdown",
   "metadata": {
    "cell_id": "c3a02adc9e884466bc8c79db549cc3d2",
    "deepnote_cell_type": "text-cell-h1",
    "formattedRanges": [
     {
      "fromCodePoint": 0,
      "marks": {
       "bold": true,
       "underline": true
      },
      "toCodePoint": 17,
      "type": "marks"
     }
    ]
   },
   "source": [
    "# All oscillation analysis"
   ]
  },
  {
   "cell_type": "markdown",
   "metadata": {
    "cell_id": "4546bee655b14a5dbf393161f1228e60",
    "deepnote_cell_type": "text-cell-p",
    "formattedRanges": []
   },
   "source": [
    "Brief 1-2 sentence description of notebook."
   ]
  },
  {
   "cell_type": "code",
   "execution_count": 1,
   "metadata": {
    "tags": []
   },
   "outputs": [],
   "source": [
    "# Imports of all used packages and libraries\n",
    "import sys\n",
    "import os\n",
    "import git\n",
    "import glob\n",
    "from collections import defaultdict"
   ]
  },
  {
   "cell_type": "code",
   "execution_count": 2,
   "metadata": {
    "tags": []
   },
   "outputs": [],
   "source": [
    "git_repo = git.Repo(\".\", search_parent_directories=True)\n",
    "git_root = git_repo.git.rev_parse(\"--show-toplevel\")"
   ]
  },
  {
   "cell_type": "code",
   "execution_count": 3,
   "metadata": {
    "tags": []
   },
   "outputs": [
    {
     "data": {
      "text/plain": [
       "'/blue/npadillacoreano/ryoi360/projects/reward_comp/repos/reward_comp_ext'"
      ]
     },
     "execution_count": 3,
     "metadata": {},
     "output_type": "execute_result"
    }
   ],
   "source": [
    "git_root"
   ]
  },
  {
   "cell_type": "code",
   "execution_count": 4,
   "metadata": {
    "tags": []
   },
   "outputs": [],
   "source": [
    "sys.path.insert(0, os.path.join(git_root, 'src'))"
   ]
  },
  {
   "cell_type": "code",
   "execution_count": 5,
   "metadata": {
    "tags": []
   },
   "outputs": [],
   "source": [
    "import warnings\n",
    "warnings.filterwarnings('ignore')"
   ]
  },
  {
   "cell_type": "code",
   "execution_count": 6,
   "metadata": {
    "tags": []
   },
   "outputs": [],
   "source": [
    "import os\n",
    "import collections\n",
    "import itertools\n",
    "from collections import defaultdict\n",
    "from itertools import combinations"
   ]
  },
  {
   "cell_type": "code",
   "execution_count": 7,
   "metadata": {
    "cell_id": "03b495cefa6a4798a44c7f2e4c6a3ea7",
    "deepnote_cell_type": "code",
    "deepnote_to_be_reexecuted": false,
    "execution_millis": 21,
    "execution_start": 1691424003626,
    "source_hash": null,
    "tags": []
   },
   "outputs": [],
   "source": [
    "# Imports of all used packages and libraries\n",
    "import numpy as np\n",
    "import pandas as pd\n",
    "from scipy import stats\n",
    "from scipy.stats import mannwhitneyu\n"
   ]
  },
  {
   "cell_type": "code",
   "execution_count": 8,
   "metadata": {
    "tags": []
   },
   "outputs": [],
   "source": [
    "import matplotlib\n",
    "import matplotlib.colors as mcolors\n",
    "import matplotlib.pyplot as plt\n",
    "import matplotlib.cm as cm\n",
    "import seaborn as sns\n",
    "import colorsys"
   ]
  },
  {
   "cell_type": "code",
   "execution_count": 9,
   "metadata": {
    "tags": []
   },
   "outputs": [],
   "source": [
    "import utilities.helper\n",
    "import trodes.read_exported"
   ]
  },
  {
   "cell_type": "code",
   "execution_count": 10,
   "metadata": {},
   "outputs": [],
   "source": [
    "import shutil\n",
    "from pathlib import Path\n"
   ]
  },
  {
   "cell_type": "code",
   "execution_count": 11,
   "metadata": {
    "tags": []
   },
   "outputs": [],
   "source": [
    "FONTSIZE = 20"
   ]
  },
  {
   "cell_type": "code",
   "execution_count": 12,
   "metadata": {
    "tags": []
   },
   "outputs": [],
   "source": [
    "font = {'weight' : 'medium',\n",
    "        'size'   : 20}\n",
    "\n",
    "matplotlib.rc('font', **font)"
   ]
  },
  {
   "cell_type": "markdown",
   "metadata": {
    "cell_id": "d290bac2c17940bfbc0f9296beaf70e5",
    "deepnote_cell_type": "text-cell-h2",
    "formattedRanges": []
   },
   "source": [
    "## Inputs & Data"
   ]
  },
  {
   "cell_type": "markdown",
   "metadata": {
    "cell_id": "e528ce19c608425292151930d380f49f",
    "deepnote_cell_type": "text-cell-p",
    "formattedRanges": []
   },
   "source": [
    "Explanation of each input and where it comes from."
   ]
  },
  {
   "cell_type": "code",
   "execution_count": 13,
   "metadata": {
    "cell_id": "6cf83a5811054461a718a71673d09aab",
    "deepnote_cell_type": "code",
    "deepnote_to_be_reexecuted": false,
    "execution_millis": 373,
    "execution_start": 1691424003628,
    "source_hash": null,
    "tags": []
   },
   "outputs": [],
   "source": [
    "# Inputs and Required data loading\n",
    "# input varaible names are in all caps snake case\n",
    "# Whenever an input changes or is used for processing \n",
    "# the vairables are all lower in snake case\n",
    "OUTPUT_DIR = r\"./proc\" # where data is saved should always be shown in the inputs"
   ]
  },
  {
   "cell_type": "code",
   "execution_count": 14,
   "metadata": {
    "tags": []
   },
   "outputs": [],
   "source": [
    "LFP_SPECTRAL_DF = pd.read_pickle(\"../2024_06_03_spectral_preprocessing/proc/rce_pilot_2_10_per_trial_spectral_bans_sleap.pkl\")"
   ]
  },
  {
   "cell_type": "code",
   "execution_count": 15,
   "metadata": {
    "tags": []
   },
   "outputs": [],
   "source": [
    "OUTCOME_TO_COLOR = {\"both_rewarded\": \"green\", \n",
    "\"novel_lose\": \"#e67073\",\n",
    "\"novel_win\": \"#93a5da\",\n",
    "\"lose\": \"#951a1d\",\n",
    "\"alone_rewarded\": \"#0499af\",\n",
    "\"win\": \"#3853a3\",\n",
    "\"omission\": \"orange\"}"
   ]
  },
  {
   "cell_type": "code",
   "execution_count": 16,
   "metadata": {
    "tags": []
   },
   "outputs": [],
   "source": [
    "OUTCOME_TO_COLOR = {\"both_rewarded\": \"green\", \n",
    "\"novel_lose\": \"#e67073\",\n",
    "                    \"novel_lose_competitive\": \"#e67073\",\n",
    "                    \"novel_lose_no_comp\": \"#e67073\",\n",
    "\"novel_win\": \"#93a5da\",\n",
    "                    \"novel_win_competitive\": \"#93a5da\",\n",
    "                    \"novel_win_no_comp\": \"#93a5da\",\n",
    "\"lose\": \"#951a1d\",\n",
    "                    \"lose_no_comp\": \"#951a1d\",\n",
    "                    \"lose_competitive\": \"#951a1d\",\n",
    "\"alone_rewarded\": \"#0499af\",\n",
    "\"win\": \"#3853a3\",\n",
    "                    \"win_competitive\": \"#3853a3\",\n",
    "                    \"win_no_comp\": \"#3853a3\",\n",
    "\n",
    "\"omission\": \"orange\"}"
   ]
  },
  {
   "cell_type": "code",
   "execution_count": 17,
   "metadata": {
    "tags": []
   },
   "outputs": [],
   "source": [
    "session_types = [\"training\", \"omission\", \"both\", \"novel\"]"
   ]
  },
  {
   "cell_type": "code",
   "execution_count": 18,
   "metadata": {
    "tags": []
   },
   "outputs": [],
   "source": [
    "BAND_TO_FREQ_PLOT = {'theta': (4, 12), 'gamma': (30, 50)}\n",
    "BAND_TO_FREQ_COLOR = {'theta': \"red\", 'beta': \"blue\", 'gamma': \"green\"}"
   ]
  },
  {
   "cell_type": "code",
   "execution_count": 19,
   "metadata": {
    "tags": []
   },
   "outputs": [],
   "source": [
    "preprocessing_type = \"\""
   ]
  },
  {
   "cell_type": "code",
   "execution_count": 20,
   "metadata": {
    "tags": []
   },
   "outputs": [],
   "source": [
    "comp_closeness_dict = {'Subj 1 blocking Subj 2': \"competitive\",\n",
    "'Subj 2 Only': \"no_comp\",\n",
    "'Subj 2 blocking Subj 1': \"competitive\",\n",
    "'Subj 1 then Subj 2': \"competitive\", \n",
    "'Subj 1 Only': \"no_comp\",\n",
    "'Subj 2 then Subj 1': \"competitive\",\n",
    "'Close Call': \"competitive\",\n",
    "'After trial': \"no_comp\"}"
   ]
  },
  {
   "cell_type": "markdown",
   "metadata": {
    "cell_id": "e3ee4891d43a4ac287413afc552ca289",
    "deepnote_cell_type": "text-cell-h2",
    "formattedRanges": []
   },
   "source": [
    "## Outputs"
   ]
  },
  {
   "cell_type": "markdown",
   "metadata": {
    "cell_id": "9ccbf6cc70fd4d379fa29317f733771f",
    "deepnote_cell_type": "text-cell-p",
    "formattedRanges": []
   },
   "source": [
    "Describe each output that the notebook creates. "
   ]
  },
  {
   "cell_type": "markdown",
   "metadata": {
    "cell_id": "fc8e8920a6944918a15fac575cdf6e78",
    "deepnote_cell_type": "text-cell-bullet",
    "formattedRanges": []
   },
   "source": [
    "- Is it a plot or is it data?"
   ]
  },
  {
   "cell_type": "markdown",
   "metadata": {
    "cell_id": "1e639d4776a84aa9ac8ded2e14fa57db",
    "deepnote_cell_type": "text-cell-bullet",
    "formattedRanges": []
   },
   "source": [
    "- How valuable is the output and why is it valuable or useful?"
   ]
  },
  {
   "cell_type": "markdown",
   "metadata": {},
   "source": [
    "## Functions "
   ]
  },
  {
   "cell_type": "code",
   "execution_count": 21,
   "metadata": {
    "tags": []
   },
   "outputs": [],
   "source": [
    "def nan_helper(y):\n",
    "    \"\"\"Helper to handle indices and logical indices of NaNs.\n",
    "\n",
    "    Input:\n",
    "        - y, 1d numpy array with possible NaNs\n",
    "    Output:\n",
    "        - nans, logical indices of NaNs\n",
    "        - index, a function, with signature indices= index(logical_indices),\n",
    "          to convert logical indices of NaNs to 'equivalent' indices\n",
    "    Example:\n",
    "        >>> # linear interpolation of NaNs\n",
    "        >>> nans, x= nan_helper(y)\n",
    "        >>> y[nans]= np.interp(x(nans), x(~nans), y[~nans])\n",
    "    \"\"\"\n",
    "\n",
    "    return np.isnan(y), lambda z: z.nonzero()[0]"
   ]
  },
  {
   "cell_type": "code",
   "execution_count": 22,
   "metadata": {
    "tags": []
   },
   "outputs": [],
   "source": [
    "# Define a function to horizontally stack arrays\n",
    "def stack_arrays(arrays):\n",
    "    return np.vstack(arrays)"
   ]
  },
  {
   "cell_type": "markdown",
   "metadata": {
    "cell_id": "8999d19b6b7d4d63bc90f0b0bd9ab085",
    "deepnote_cell_type": "text-cell-h2",
    "formattedRanges": []
   },
   "source": [
    "## Processing"
   ]
  },
  {
   "cell_type": "markdown",
   "metadata": {
    "cell_id": "9b36cdf08567463082b005cb0dec684b",
    "deepnote_cell_type": "text-cell-p",
    "formattedRanges": []
   },
   "source": [
    "Describe what is done to the data here and how inputs are manipulated to generate outputs. "
   ]
  },
  {
   "cell_type": "code",
   "execution_count": 23,
   "metadata": {
    "cell_id": "89aaba237c644628b1b37604b75e7cb1",
    "deepnote_cell_type": "code",
    "tags": []
   },
   "outputs": [],
   "source": [
    "# As much code and as many cells as required\n",
    "# includes EDA and playing with data\n",
    "# GO HAM!\n",
    "\n",
    "# Ideally functions are defined here first and then data is processed using the functions\n",
    "\n",
    "# function names are short and in snake case all lowercase\n",
    "# a function name should be unique but does not have to describe the function\n",
    "# doc strings describe functions not function names\n",
    "\n",
    "\n"
   ]
  },
  {
   "cell_type": "code",
   "execution_count": 24,
   "metadata": {
    "tags": []
   },
   "outputs": [
    {
     "name": "stdout",
     "output_type": "stream",
     "text": [
      "index\n",
      "tracked_subject\n",
      "box_number\n",
      "sleap_name\n",
      "video_name\n",
      "current_subject\n",
      "tone_start_frame\n",
      "reward_start_frame\n",
      "tone_stop_frame\n",
      "condition\n",
      "competition_closeness\n",
      "notes\n",
      "experiment\n",
      "session_dir\n",
      "all_subjects\n",
      "tone_start_timestamp\n",
      "tone_stop_timestamp\n",
      "trial_label\n",
      "cohort\n",
      "tone_frames\n",
      "box_1_port_entry_frames\n",
      "box_2_port_entry_frames\n",
      "session_path\n",
      "recording\n",
      "subject\n",
      "first_timestamp\n",
      "last_timestamp\n",
      "tone_timestamps\n",
      "box_1_port_entry_timestamps\n",
      "box_2_port_entry_timestamps\n",
      "lfp_timestamps\n",
      "power_calculation_frequencies\n",
      "coherence_calculation_frequencies\n",
      "granger_calculation_frequencies\n",
      "start_frame\n",
      "stop_frame\n",
      "in_video_subjects\n",
      "body_parts\n",
      "box_top_left\n",
      "box_top_right\n",
      "reward_port\n",
      "box_bottom_left\n",
      "box_bottom_right\n",
      "agent\n",
      "baseline_start_timestamp\n",
      "baseline_stop_timestamp\n",
      "baseline_agent_locations\n",
      "baseline_agent_thorax_to_reward_port\n",
      "baseline_agent_thorax_velocity\n",
      "baseline_subject_locations\n",
      "baseline_subject_thorax_to_reward_port\n",
      "baseline_subject_thorax_velocity\n",
      "baseline_video_frame\n",
      "baseline_video_timestamps\n",
      "trial_agent_locations\n",
      "trial_agent_thorax_to_reward_port\n",
      "trial_agent_thorax_velocity\n",
      "trial_subject_locations\n",
      "trial_subject_thorax_to_reward_port\n",
      "trial_subject_thorax_velocity\n",
      "trial_video_frame\n",
      "trial_video_timestamps\n",
      "baseline_BLA_LH_RMS_filtered_coherence_all_frequencies\n",
      "baseline_BLA_MD_RMS_filtered_coherence_all_frequencies\n",
      "baseline_BLA_mPFC_RMS_filtered_coherence_all_frequencies\n",
      "baseline_BLA_vHPC_RMS_filtered_coherence_all_frequencies\n",
      "baseline_LH_MD_RMS_filtered_coherence_all_frequencies\n",
      "baseline_LH_mPFC_RMS_filtered_coherence_all_frequencies\n",
      "baseline_LH_vHPC_RMS_filtered_coherence_all_frequencies\n",
      "baseline_MD_mPFC_RMS_filtered_coherence_all_frequencies\n",
      "baseline_MD_vHPC_RMS_filtered_coherence_all_frequencies\n",
      "baseline_mPFC_vHPC_RMS_filtered_coherence_all_frequencies\n",
      "baseline_coherence_timestamps\n",
      "trial_BLA_LH_RMS_filtered_coherence_all_frequencies\n",
      "trial_BLA_MD_RMS_filtered_coherence_all_frequencies\n",
      "trial_BLA_mPFC_RMS_filtered_coherence_all_frequencies\n",
      "trial_BLA_vHPC_RMS_filtered_coherence_all_frequencies\n",
      "trial_LH_MD_RMS_filtered_coherence_all_frequencies\n",
      "trial_LH_mPFC_RMS_filtered_coherence_all_frequencies\n",
      "trial_LH_vHPC_RMS_filtered_coherence_all_frequencies\n",
      "trial_MD_mPFC_RMS_filtered_coherence_all_frequencies\n",
      "trial_MD_vHPC_RMS_filtered_coherence_all_frequencies\n",
      "trial_mPFC_vHPC_RMS_filtered_coherence_all_frequencies\n",
      "trial_coherence_timestamps\n",
      "baseline_BLA_LH_granger_all_frequencies\n",
      "baseline_LH_BLA_granger_all_frequencies\n",
      "baseline_BLA_MD_granger_all_frequencies\n",
      "baseline_MD_BLA_granger_all_frequencies\n",
      "baseline_BLA_mPFC_granger_all_frequencies\n",
      "baseline_mPFC_BLA_granger_all_frequencies\n",
      "baseline_BLA_vHPC_granger_all_frequencies\n",
      "baseline_vHPC_BLA_granger_all_frequencies\n",
      "baseline_LH_MD_granger_all_frequencies\n",
      "baseline_MD_LH_granger_all_frequencies\n",
      "baseline_LH_mPFC_granger_all_frequencies\n",
      "baseline_mPFC_LH_granger_all_frequencies\n",
      "baseline_LH_vHPC_granger_all_frequencies\n",
      "baseline_vHPC_LH_granger_all_frequencies\n",
      "baseline_MD_mPFC_granger_all_frequencies\n",
      "baseline_mPFC_MD_granger_all_frequencies\n",
      "baseline_MD_vHPC_granger_all_frequencies\n",
      "baseline_vHPC_MD_granger_all_frequencies\n",
      "baseline_mPFC_vHPC_granger_all_frequencies\n",
      "baseline_vHPC_mPFC_granger_all_frequencies\n",
      "baseline_granger_timestamps\n",
      "trial_BLA_LH_granger_all_frequencies\n",
      "trial_LH_BLA_granger_all_frequencies\n",
      "trial_BLA_MD_granger_all_frequencies\n",
      "trial_MD_BLA_granger_all_frequencies\n",
      "trial_BLA_mPFC_granger_all_frequencies\n",
      "trial_mPFC_BLA_granger_all_frequencies\n",
      "trial_BLA_vHPC_granger_all_frequencies\n",
      "trial_vHPC_BLA_granger_all_frequencies\n",
      "trial_LH_MD_granger_all_frequencies\n",
      "trial_MD_LH_granger_all_frequencies\n",
      "trial_LH_mPFC_granger_all_frequencies\n",
      "trial_mPFC_LH_granger_all_frequencies\n",
      "trial_LH_vHPC_granger_all_frequencies\n",
      "trial_vHPC_LH_granger_all_frequencies\n",
      "trial_MD_mPFC_granger_all_frequencies\n",
      "trial_mPFC_MD_granger_all_frequencies\n",
      "trial_MD_vHPC_granger_all_frequencies\n",
      "trial_vHPC_MD_granger_all_frequencies\n",
      "trial_mPFC_vHPC_granger_all_frequencies\n",
      "trial_vHPC_mPFC_granger_all_frequencies\n",
      "trial_granger_timestamps\n",
      "baseline_mPFC_RMS_filtered_power_all_frequencies\n",
      "baseline_MD_RMS_filtered_power_all_frequencies\n",
      "baseline_LH_RMS_filtered_power_all_frequencies\n",
      "baseline_BLA_RMS_filtered_power_all_frequencies\n",
      "baseline_vHPC_RMS_filtered_power_all_frequencies\n",
      "baseline_power_timestamps\n",
      "trial_mPFC_RMS_filtered_power_all_frequencies\n",
      "trial_MD_RMS_filtered_power_all_frequencies\n",
      "trial_LH_RMS_filtered_power_all_frequencies\n",
      "trial_BLA_RMS_filtered_power_all_frequencies\n",
      "trial_vHPC_RMS_filtered_power_all_frequencies\n",
      "trial_power_timestamps\n",
      "in_video\n"
     ]
    }
   ],
   "source": [
    "for col in LFP_SPECTRAL_DF.columns:\n",
    "    print(col)"
   ]
  },
  {
   "cell_type": "code",
   "execution_count": null,
   "metadata": {},
   "outputs": [],
   "source": []
  },
  {
   "cell_type": "code",
   "execution_count": 25,
   "metadata": {
    "tags": []
   },
   "outputs": [
    {
     "data": {
      "text/html": [
       "<div>\n",
       "<style scoped>\n",
       "    .dataframe tbody tr th:only-of-type {\n",
       "        vertical-align: middle;\n",
       "    }\n",
       "\n",
       "    .dataframe tbody tr th {\n",
       "        vertical-align: top;\n",
       "    }\n",
       "\n",
       "    .dataframe thead th {\n",
       "        text-align: right;\n",
       "    }\n",
       "</style>\n",
       "<table border=\"1\" class=\"dataframe\">\n",
       "  <thead>\n",
       "    <tr style=\"text-align: right;\">\n",
       "      <th></th>\n",
       "      <th>index</th>\n",
       "      <th>tracked_subject</th>\n",
       "      <th>box_number</th>\n",
       "      <th>sleap_name</th>\n",
       "      <th>video_name</th>\n",
       "      <th>current_subject</th>\n",
       "      <th>tone_start_frame</th>\n",
       "      <th>reward_start_frame</th>\n",
       "      <th>tone_stop_frame</th>\n",
       "      <th>condition</th>\n",
       "      <th>...</th>\n",
       "      <th>baseline_BLA_RMS_filtered_power_all_frequencies</th>\n",
       "      <th>baseline_vHPC_RMS_filtered_power_all_frequencies</th>\n",
       "      <th>baseline_power_timestamps</th>\n",
       "      <th>trial_mPFC_RMS_filtered_power_all_frequencies</th>\n",
       "      <th>trial_MD_RMS_filtered_power_all_frequencies</th>\n",
       "      <th>trial_LH_RMS_filtered_power_all_frequencies</th>\n",
       "      <th>trial_BLA_RMS_filtered_power_all_frequencies</th>\n",
       "      <th>trial_vHPC_RMS_filtered_power_all_frequencies</th>\n",
       "      <th>trial_power_timestamps</th>\n",
       "      <th>in_video</th>\n",
       "    </tr>\n",
       "  </thead>\n",
       "  <tbody>\n",
       "    <tr>\n",
       "      <th>0</th>\n",
       "      <td>0</td>\n",
       "      <td>['1.1', '1.2']</td>\n",
       "      <td>1</td>\n",
       "      <td>20230612_112630_standard_comp_to_training_D1_s...</td>\n",
       "      <td>20230612_112630_standard_comp_to_training_D1_s...</td>\n",
       "      <td>1.1</td>\n",
       "      <td>1125</td>\n",
       "      <td>1225</td>\n",
       "      <td>1324</td>\n",
       "      <td>1.1</td>\n",
       "      <td>...</td>\n",
       "      <td>[[0.0053445, 0.009117814, 0.013600164, 0.01733...</td>\n",
       "      <td>[[nan, nan, nan, nan, nan, nan, nan, nan, nan,...</td>\n",
       "      <td>[530000, 540000, 550000, 560000, 570000, 58000...</td>\n",
       "      <td>[[0.0036949348, 0.007999057, 0.007659001, 0.00...</td>\n",
       "      <td>[[0.00042359624, 0.0016437627, 0.003002788, 0....</td>\n",
       "      <td>[[0.0011694891, 0.0023001411, 0.003132459, 0.0...</td>\n",
       "      <td>[[0.013438185, 0.007965831, 0.009173761, 0.006...</td>\n",
       "      <td>[[0.010709718, 0.013590651, 0.022826178, 0.034...</td>\n",
       "      <td>[1130000, 1140000, 1150000, 1160000, 1170000, ...</td>\n",
       "      <td>True</td>\n",
       "    </tr>\n",
       "    <tr>\n",
       "      <th>1</th>\n",
       "      <td>1</td>\n",
       "      <td>['1.1', '1.2']</td>\n",
       "      <td>1</td>\n",
       "      <td>20230612_112630_standard_comp_to_training_D1_s...</td>\n",
       "      <td>20230612_112630_standard_comp_to_training_D1_s...</td>\n",
       "      <td>1.1</td>\n",
       "      <td>3519</td>\n",
       "      <td>3619</td>\n",
       "      <td>3720</td>\n",
       "      <td>1.2</td>\n",
       "      <td>...</td>\n",
       "      <td>[[0.00074698013, 0.0019324338, 0.005081963, 0....</td>\n",
       "      <td>[[0.003017959, 0.004722126, 0.008384243, 0.007...</td>\n",
       "      <td>[2930000, 2940000, 2950000, 2960000, 2970000, ...</td>\n",
       "      <td>[[0.017848626, 0.008553031, 0.013145922, 0.013...</td>\n",
       "      <td>[[0.0011482978, 0.0012844221, 0.0074498164, 0....</td>\n",
       "      <td>[[0.0022857906, 0.0023879802, 0.009314143, 0.0...</td>\n",
       "      <td>[[0.0095668975, 0.005058259, 0.00864778, 0.009...</td>\n",
       "      <td>[[nan, nan, nan, nan, nan, nan, nan, nan, nan,...</td>\n",
       "      <td>[3530000, 3540000, 3550000, 3560000, 3570000, ...</td>\n",
       "      <td>True</td>\n",
       "    </tr>\n",
       "    <tr>\n",
       "      <th>2</th>\n",
       "      <td>2</td>\n",
       "      <td>['1.1', '1.2']</td>\n",
       "      <td>1</td>\n",
       "      <td>20230612_112630_standard_comp_to_training_D1_s...</td>\n",
       "      <td>20230612_112630_standard_comp_to_training_D1_s...</td>\n",
       "      <td>1.1</td>\n",
       "      <td>5815</td>\n",
       "      <td>5915</td>\n",
       "      <td>6014</td>\n",
       "      <td>1.2</td>\n",
       "      <td>...</td>\n",
       "      <td>[[0.016759386, 0.01684738, 0.021563489, 0.0619...</td>\n",
       "      <td>[[0.030797603, 0.04075655, 0.0501173, 0.065892...</td>\n",
       "      <td>[5230000, 5240000, 5250000, 5260000, 5270000, ...</td>\n",
       "      <td>[[0.018773032, 0.01531122, 0.023816012, 0.0154...</td>\n",
       "      <td>[[0.005590848, 0.0029627604, 0.010847095, 0.00...</td>\n",
       "      <td>[[0.0060438192, 0.0049293297, 0.0144101195, 0....</td>\n",
       "      <td>[[0.0006228732, 0.0015296962, 0.009809779, 0.0...</td>\n",
       "      <td>[[0.00064211205, 0.0052212942, 0.00709957, 0.0...</td>\n",
       "      <td>[5830000, 5840000, 5850000, 5860000, 5870000, ...</td>\n",
       "      <td>True</td>\n",
       "    </tr>\n",
       "    <tr>\n",
       "      <th>3</th>\n",
       "      <td>3</td>\n",
       "      <td>['1.1', '1.2']</td>\n",
       "      <td>1</td>\n",
       "      <td>20230612_112630_standard_comp_to_training_D1_s...</td>\n",
       "      <td>20230612_112630_standard_comp_to_training_D1_s...</td>\n",
       "      <td>1.1</td>\n",
       "      <td>7612</td>\n",
       "      <td>7712</td>\n",
       "      <td>7811</td>\n",
       "      <td>1.2</td>\n",
       "      <td>...</td>\n",
       "      <td>[[0.002649237, 0.0030132718, 0.009533786, 0.00...</td>\n",
       "      <td>[[0.018817268, 0.009095607, 0.008399841, 0.008...</td>\n",
       "      <td>[7030000, 7040000, 7050000, 7060000, 7070000, ...</td>\n",
       "      <td>[[0.00018646946, 0.006876981, 0.010109808, 0.0...</td>\n",
       "      <td>[[0.0037040254, 0.013202633, 0.018202007, 0.02...</td>\n",
       "      <td>[[0.004745133, 0.018028835, 0.02716619, 0.0303...</td>\n",
       "      <td>[[0.014945692, 0.009991203, 0.014374675, 0.019...</td>\n",
       "      <td>[[0.020167792, 0.028338362, 0.033197377, 0.035...</td>\n",
       "      <td>[7630000, 7640000, 7650000, 7660000, 7670000, ...</td>\n",
       "      <td>True</td>\n",
       "    </tr>\n",
       "    <tr>\n",
       "      <th>4</th>\n",
       "      <td>4</td>\n",
       "      <td>['1.1', '1.2']</td>\n",
       "      <td>1</td>\n",
       "      <td>20230612_112630_standard_comp_to_training_D1_s...</td>\n",
       "      <td>20230612_112630_standard_comp_to_training_D1_s...</td>\n",
       "      <td>1.1</td>\n",
       "      <td>8709</td>\n",
       "      <td>8809</td>\n",
       "      <td>8910</td>\n",
       "      <td>1.2</td>\n",
       "      <td>...</td>\n",
       "      <td>[[0.009458285, 0.0050086575, 0.02026654, 0.016...</td>\n",
       "      <td>[[0.015467933, 0.035288256, 0.044622492, 0.053...</td>\n",
       "      <td>[8130000, 8140000, 8150000, 8160000, 8170000, ...</td>\n",
       "      <td>[[0.006448407, 0.0046525886, 0.010715893, 0.01...</td>\n",
       "      <td>[[0.016451372, 0.010215264, 0.025078585, 0.018...</td>\n",
       "      <td>[[0.014854475, 0.008580038, 0.025409121, 0.017...</td>\n",
       "      <td>[[0.0016100197, 0.003484194, 0.008553746, 0.00...</td>\n",
       "      <td>[[0.0038173422, 0.008268023, 0.053486157, 0.04...</td>\n",
       "      <td>[8730000, 8740000, 8750000, 8760000, 8770000, ...</td>\n",
       "      <td>True</td>\n",
       "    </tr>\n",
       "    <tr>\n",
       "      <th>...</th>\n",
       "      <td>...</td>\n",
       "      <td>...</td>\n",
       "      <td>...</td>\n",
       "      <td>...</td>\n",
       "      <td>...</td>\n",
       "      <td>...</td>\n",
       "      <td>...</td>\n",
       "      <td>...</td>\n",
       "      <td>...</td>\n",
       "      <td>...</td>\n",
       "      <td>...</td>\n",
       "      <td>...</td>\n",
       "      <td>...</td>\n",
       "      <td>...</td>\n",
       "      <td>...</td>\n",
       "      <td>...</td>\n",
       "      <td>...</td>\n",
       "      <td>...</td>\n",
       "      <td>...</td>\n",
       "      <td>...</td>\n",
       "      <td>...</td>\n",
       "    </tr>\n",
       "    <tr>\n",
       "      <th>962</th>\n",
       "      <td>1364</td>\n",
       "      <td>['1.2', '2.2']</td>\n",
       "      <td>2</td>\n",
       "      <td>20230630_115506_standard_comp_to_novel_agent_D...</td>\n",
       "      <td>20230630_115506_standard_comp_to_novel_agent_D...</td>\n",
       "      <td>1.2</td>\n",
       "      <td>60714</td>\n",
       "      <td>60814</td>\n",
       "      <td>60914</td>\n",
       "      <td>2.2</td>\n",
       "      <td>...</td>\n",
       "      <td>[[nan, nan, nan, nan, nan, nan, nan, nan, nan,...</td>\n",
       "      <td>[[0.0071711177, 0.014786493, 0.034027837, 0.06...</td>\n",
       "      <td>[60080000, 60090000, 60100000, 60110000, 60120...</td>\n",
       "      <td>[[0.014995416, 0.025160601, 0.053282887, 0.052...</td>\n",
       "      <td>[[0.0042650145, 0.01030745, 0.016010838, 0.016...</td>\n",
       "      <td>[[0.007697165, 0.0050790645, 0.009917309, 0.00...</td>\n",
       "      <td>[[0.0019604678, 0.012234782, 0.02637097, 0.031...</td>\n",
       "      <td>[[0.007658908, 0.012092575, 0.01083155, 0.0176...</td>\n",
       "      <td>[60680000, 60690000, 60700000, 60710000, 60720...</td>\n",
       "      <td>True</td>\n",
       "    </tr>\n",
       "    <tr>\n",
       "      <th>963</th>\n",
       "      <td>1365</td>\n",
       "      <td>['1.2', '2.2']</td>\n",
       "      <td>2</td>\n",
       "      <td>20230630_115506_standard_comp_to_novel_agent_D...</td>\n",
       "      <td>20230630_115506_standard_comp_to_novel_agent_D...</td>\n",
       "      <td>1.2</td>\n",
       "      <td>62211</td>\n",
       "      <td>62311</td>\n",
       "      <td>62410</td>\n",
       "      <td>2.2</td>\n",
       "      <td>...</td>\n",
       "      <td>[[0.006126407, 0.006595921, 0.013197454, 0.021...</td>\n",
       "      <td>[[0.01986751, 0.027059382, 0.041030604, 0.0667...</td>\n",
       "      <td>[61580000, 61590000, 61600000, 61610000, 61620...</td>\n",
       "      <td>[[0.0072337925, 0.021421026, 0.038229957, 0.04...</td>\n",
       "      <td>[[0.0021478024, 0.0063471, 0.009041803, 0.0140...</td>\n",
       "      <td>[[0.0037544742, 0.0068358756, 0.008283584, 0.0...</td>\n",
       "      <td>[[0.008337432, 0.019161101, 0.021618765, 0.036...</td>\n",
       "      <td>[[nan, nan, nan, nan, nan, nan, nan, nan, nan,...</td>\n",
       "      <td>[62180000, 62190000, 62200000, 62210000, 62220...</td>\n",
       "      <td>True</td>\n",
       "    </tr>\n",
       "    <tr>\n",
       "      <th>964</th>\n",
       "      <td>1366</td>\n",
       "      <td>['1.2', '2.2']</td>\n",
       "      <td>2</td>\n",
       "      <td>20230630_115506_standard_comp_to_novel_agent_D...</td>\n",
       "      <td>20230630_115506_standard_comp_to_novel_agent_D...</td>\n",
       "      <td>1.2</td>\n",
       "      <td>64207</td>\n",
       "      <td>64307</td>\n",
       "      <td>64406</td>\n",
       "      <td>2.2</td>\n",
       "      <td>...</td>\n",
       "      <td>[[0.0014349533, 0.0024926818, 0.03847968, 0.07...</td>\n",
       "      <td>[[0.0021331196, 0.005420561, 0.00925772, 0.025...</td>\n",
       "      <td>[63580000, 63590000, 63600000, 63610000, 63620...</td>\n",
       "      <td>[[0.01442058, 0.029905096, 0.034996513, 0.0200...</td>\n",
       "      <td>[[0.0009101017, 0.0050687552, 0.0067122895, 0....</td>\n",
       "      <td>[[0.003145018, 0.007349192, 0.014582841, 0.039...</td>\n",
       "      <td>[[0.0047923764, 0.018876847, 0.031234432, 0.03...</td>\n",
       "      <td>[[0.009192458, 0.008046198, 0.012331878, 0.019...</td>\n",
       "      <td>[64180000, 64190000, 64200000, 64210000, 64220...</td>\n",
       "      <td>True</td>\n",
       "    </tr>\n",
       "    <tr>\n",
       "      <th>965</th>\n",
       "      <td>1367</td>\n",
       "      <td>['1.2', '2.2']</td>\n",
       "      <td>2</td>\n",
       "      <td>20230630_115506_standard_comp_to_novel_agent_D...</td>\n",
       "      <td>20230630_115506_standard_comp_to_novel_agent_D...</td>\n",
       "      <td>1.2</td>\n",
       "      <td>66104</td>\n",
       "      <td>66204</td>\n",
       "      <td>66303</td>\n",
       "      <td>2.2</td>\n",
       "      <td>...</td>\n",
       "      <td>[[0.0020582802, 0.006413446, 0.039571907, 0.03...</td>\n",
       "      <td>[[0.016651029, 0.026614359, 0.06669322, 0.0805...</td>\n",
       "      <td>[65480000, 65490000, 65500000, 65510000, 65520...</td>\n",
       "      <td>[[0.013179208, 0.010381244, 0.015889207, 0.028...</td>\n",
       "      <td>[[0.0037764022, 0.012251192, 0.021605548, 0.03...</td>\n",
       "      <td>[[0.0022053132, 0.013255892, 0.034319565, 0.03...</td>\n",
       "      <td>[[0.007995949, 0.0071013817, 0.02760318, 0.035...</td>\n",
       "      <td>[[0.009785848, 0.0075619244, 0.039878756, 0.04...</td>\n",
       "      <td>[66080000, 66090000, 66100000, 66110000, 66120...</td>\n",
       "      <td>True</td>\n",
       "    </tr>\n",
       "    <tr>\n",
       "      <th>966</th>\n",
       "      <td>1368</td>\n",
       "      <td>['1.2', '2.2']</td>\n",
       "      <td>2</td>\n",
       "      <td>20230630_115506_standard_comp_to_novel_agent_D...</td>\n",
       "      <td>20230630_115506_standard_comp_to_novel_agent_D...</td>\n",
       "      <td>1.2</td>\n",
       "      <td>67102</td>\n",
       "      <td>67202</td>\n",
       "      <td>67301</td>\n",
       "      <td>2.2</td>\n",
       "      <td>...</td>\n",
       "      <td>[[0.00069804455, 0.0144013055, 0.015100667, 0....</td>\n",
       "      <td>[[0.0016019655, 0.062665984, 0.06842936, 0.108...</td>\n",
       "      <td>[66480000, 66490000, 66500000, 66510000, 66520...</td>\n",
       "      <td>[[0.0077591604, 0.051422723, 0.09426388, 0.119...</td>\n",
       "      <td>[[0.010582301, 0.026441064, 0.05928556, 0.0611...</td>\n",
       "      <td>[[0.006950301, 0.0123160025, 0.054949906, 0.05...</td>\n",
       "      <td>[[0.0044382373, 0.018190147, 0.07209554, 0.100...</td>\n",
       "      <td>[[0.008133764, 0.011563758, 0.019495247, 0.024...</td>\n",
       "      <td>[67080000, 67090000, 67100000, 67110000, 67120...</td>\n",
       "      <td>True</td>\n",
       "    </tr>\n",
       "  </tbody>\n",
       "</table>\n",
       "<p>967 rows × 139 columns</p>\n",
       "</div>"
      ],
      "text/plain": [
       "     index tracked_subject  box_number  \\\n",
       "0        0  ['1.1', '1.2']           1   \n",
       "1        1  ['1.1', '1.2']           1   \n",
       "2        2  ['1.1', '1.2']           1   \n",
       "3        3  ['1.1', '1.2']           1   \n",
       "4        4  ['1.1', '1.2']           1   \n",
       "..     ...             ...         ...   \n",
       "962   1364  ['1.2', '2.2']           2   \n",
       "963   1365  ['1.2', '2.2']           2   \n",
       "964   1366  ['1.2', '2.2']           2   \n",
       "965   1367  ['1.2', '2.2']           2   \n",
       "966   1368  ['1.2', '2.2']           2   \n",
       "\n",
       "                                            sleap_name  \\\n",
       "0    20230612_112630_standard_comp_to_training_D1_s...   \n",
       "1    20230612_112630_standard_comp_to_training_D1_s...   \n",
       "2    20230612_112630_standard_comp_to_training_D1_s...   \n",
       "3    20230612_112630_standard_comp_to_training_D1_s...   \n",
       "4    20230612_112630_standard_comp_to_training_D1_s...   \n",
       "..                                                 ...   \n",
       "962  20230630_115506_standard_comp_to_novel_agent_D...   \n",
       "963  20230630_115506_standard_comp_to_novel_agent_D...   \n",
       "964  20230630_115506_standard_comp_to_novel_agent_D...   \n",
       "965  20230630_115506_standard_comp_to_novel_agent_D...   \n",
       "966  20230630_115506_standard_comp_to_novel_agent_D...   \n",
       "\n",
       "                                            video_name current_subject  \\\n",
       "0    20230612_112630_standard_comp_to_training_D1_s...             1.1   \n",
       "1    20230612_112630_standard_comp_to_training_D1_s...             1.1   \n",
       "2    20230612_112630_standard_comp_to_training_D1_s...             1.1   \n",
       "3    20230612_112630_standard_comp_to_training_D1_s...             1.1   \n",
       "4    20230612_112630_standard_comp_to_training_D1_s...             1.1   \n",
       "..                                                 ...             ...   \n",
       "962  20230630_115506_standard_comp_to_novel_agent_D...             1.2   \n",
       "963  20230630_115506_standard_comp_to_novel_agent_D...             1.2   \n",
       "964  20230630_115506_standard_comp_to_novel_agent_D...             1.2   \n",
       "965  20230630_115506_standard_comp_to_novel_agent_D...             1.2   \n",
       "966  20230630_115506_standard_comp_to_novel_agent_D...             1.2   \n",
       "\n",
       "     tone_start_frame  reward_start_frame  tone_stop_frame condition  ...  \\\n",
       "0                1125                1225             1324       1.1  ...   \n",
       "1                3519                3619             3720       1.2  ...   \n",
       "2                5815                5915             6014       1.2  ...   \n",
       "3                7612                7712             7811       1.2  ...   \n",
       "4                8709                8809             8910       1.2  ...   \n",
       "..                ...                 ...              ...       ...  ...   \n",
       "962             60714               60814            60914       2.2  ...   \n",
       "963             62211               62311            62410       2.2  ...   \n",
       "964             64207               64307            64406       2.2  ...   \n",
       "965             66104               66204            66303       2.2  ...   \n",
       "966             67102               67202            67301       2.2  ...   \n",
       "\n",
       "       baseline_BLA_RMS_filtered_power_all_frequencies  \\\n",
       "0    [[0.0053445, 0.009117814, 0.013600164, 0.01733...   \n",
       "1    [[0.00074698013, 0.0019324338, 0.005081963, 0....   \n",
       "2    [[0.016759386, 0.01684738, 0.021563489, 0.0619...   \n",
       "3    [[0.002649237, 0.0030132718, 0.009533786, 0.00...   \n",
       "4    [[0.009458285, 0.0050086575, 0.02026654, 0.016...   \n",
       "..                                                 ...   \n",
       "962  [[nan, nan, nan, nan, nan, nan, nan, nan, nan,...   \n",
       "963  [[0.006126407, 0.006595921, 0.013197454, 0.021...   \n",
       "964  [[0.0014349533, 0.0024926818, 0.03847968, 0.07...   \n",
       "965  [[0.0020582802, 0.006413446, 0.039571907, 0.03...   \n",
       "966  [[0.00069804455, 0.0144013055, 0.015100667, 0....   \n",
       "\n",
       "      baseline_vHPC_RMS_filtered_power_all_frequencies  \\\n",
       "0    [[nan, nan, nan, nan, nan, nan, nan, nan, nan,...   \n",
       "1    [[0.003017959, 0.004722126, 0.008384243, 0.007...   \n",
       "2    [[0.030797603, 0.04075655, 0.0501173, 0.065892...   \n",
       "3    [[0.018817268, 0.009095607, 0.008399841, 0.008...   \n",
       "4    [[0.015467933, 0.035288256, 0.044622492, 0.053...   \n",
       "..                                                 ...   \n",
       "962  [[0.0071711177, 0.014786493, 0.034027837, 0.06...   \n",
       "963  [[0.01986751, 0.027059382, 0.041030604, 0.0667...   \n",
       "964  [[0.0021331196, 0.005420561, 0.00925772, 0.025...   \n",
       "965  [[0.016651029, 0.026614359, 0.06669322, 0.0805...   \n",
       "966  [[0.0016019655, 0.062665984, 0.06842936, 0.108...   \n",
       "\n",
       "                             baseline_power_timestamps  \\\n",
       "0    [530000, 540000, 550000, 560000, 570000, 58000...   \n",
       "1    [2930000, 2940000, 2950000, 2960000, 2970000, ...   \n",
       "2    [5230000, 5240000, 5250000, 5260000, 5270000, ...   \n",
       "3    [7030000, 7040000, 7050000, 7060000, 7070000, ...   \n",
       "4    [8130000, 8140000, 8150000, 8160000, 8170000, ...   \n",
       "..                                                 ...   \n",
       "962  [60080000, 60090000, 60100000, 60110000, 60120...   \n",
       "963  [61580000, 61590000, 61600000, 61610000, 61620...   \n",
       "964  [63580000, 63590000, 63600000, 63610000, 63620...   \n",
       "965  [65480000, 65490000, 65500000, 65510000, 65520...   \n",
       "966  [66480000, 66490000, 66500000, 66510000, 66520...   \n",
       "\n",
       "         trial_mPFC_RMS_filtered_power_all_frequencies  \\\n",
       "0    [[0.0036949348, 0.007999057, 0.007659001, 0.00...   \n",
       "1    [[0.017848626, 0.008553031, 0.013145922, 0.013...   \n",
       "2    [[0.018773032, 0.01531122, 0.023816012, 0.0154...   \n",
       "3    [[0.00018646946, 0.006876981, 0.010109808, 0.0...   \n",
       "4    [[0.006448407, 0.0046525886, 0.010715893, 0.01...   \n",
       "..                                                 ...   \n",
       "962  [[0.014995416, 0.025160601, 0.053282887, 0.052...   \n",
       "963  [[0.0072337925, 0.021421026, 0.038229957, 0.04...   \n",
       "964  [[0.01442058, 0.029905096, 0.034996513, 0.0200...   \n",
       "965  [[0.013179208, 0.010381244, 0.015889207, 0.028...   \n",
       "966  [[0.0077591604, 0.051422723, 0.09426388, 0.119...   \n",
       "\n",
       "           trial_MD_RMS_filtered_power_all_frequencies  \\\n",
       "0    [[0.00042359624, 0.0016437627, 0.003002788, 0....   \n",
       "1    [[0.0011482978, 0.0012844221, 0.0074498164, 0....   \n",
       "2    [[0.005590848, 0.0029627604, 0.010847095, 0.00...   \n",
       "3    [[0.0037040254, 0.013202633, 0.018202007, 0.02...   \n",
       "4    [[0.016451372, 0.010215264, 0.025078585, 0.018...   \n",
       "..                                                 ...   \n",
       "962  [[0.0042650145, 0.01030745, 0.016010838, 0.016...   \n",
       "963  [[0.0021478024, 0.0063471, 0.009041803, 0.0140...   \n",
       "964  [[0.0009101017, 0.0050687552, 0.0067122895, 0....   \n",
       "965  [[0.0037764022, 0.012251192, 0.021605548, 0.03...   \n",
       "966  [[0.010582301, 0.026441064, 0.05928556, 0.0611...   \n",
       "\n",
       "           trial_LH_RMS_filtered_power_all_frequencies  \\\n",
       "0    [[0.0011694891, 0.0023001411, 0.003132459, 0.0...   \n",
       "1    [[0.0022857906, 0.0023879802, 0.009314143, 0.0...   \n",
       "2    [[0.0060438192, 0.0049293297, 0.0144101195, 0....   \n",
       "3    [[0.004745133, 0.018028835, 0.02716619, 0.0303...   \n",
       "4    [[0.014854475, 0.008580038, 0.025409121, 0.017...   \n",
       "..                                                 ...   \n",
       "962  [[0.007697165, 0.0050790645, 0.009917309, 0.00...   \n",
       "963  [[0.0037544742, 0.0068358756, 0.008283584, 0.0...   \n",
       "964  [[0.003145018, 0.007349192, 0.014582841, 0.039...   \n",
       "965  [[0.0022053132, 0.013255892, 0.034319565, 0.03...   \n",
       "966  [[0.006950301, 0.0123160025, 0.054949906, 0.05...   \n",
       "\n",
       "          trial_BLA_RMS_filtered_power_all_frequencies  \\\n",
       "0    [[0.013438185, 0.007965831, 0.009173761, 0.006...   \n",
       "1    [[0.0095668975, 0.005058259, 0.00864778, 0.009...   \n",
       "2    [[0.0006228732, 0.0015296962, 0.009809779, 0.0...   \n",
       "3    [[0.014945692, 0.009991203, 0.014374675, 0.019...   \n",
       "4    [[0.0016100197, 0.003484194, 0.008553746, 0.00...   \n",
       "..                                                 ...   \n",
       "962  [[0.0019604678, 0.012234782, 0.02637097, 0.031...   \n",
       "963  [[0.008337432, 0.019161101, 0.021618765, 0.036...   \n",
       "964  [[0.0047923764, 0.018876847, 0.031234432, 0.03...   \n",
       "965  [[0.007995949, 0.0071013817, 0.02760318, 0.035...   \n",
       "966  [[0.0044382373, 0.018190147, 0.07209554, 0.100...   \n",
       "\n",
       "         trial_vHPC_RMS_filtered_power_all_frequencies  \\\n",
       "0    [[0.010709718, 0.013590651, 0.022826178, 0.034...   \n",
       "1    [[nan, nan, nan, nan, nan, nan, nan, nan, nan,...   \n",
       "2    [[0.00064211205, 0.0052212942, 0.00709957, 0.0...   \n",
       "3    [[0.020167792, 0.028338362, 0.033197377, 0.035...   \n",
       "4    [[0.0038173422, 0.008268023, 0.053486157, 0.04...   \n",
       "..                                                 ...   \n",
       "962  [[0.007658908, 0.012092575, 0.01083155, 0.0176...   \n",
       "963  [[nan, nan, nan, nan, nan, nan, nan, nan, nan,...   \n",
       "964  [[0.009192458, 0.008046198, 0.012331878, 0.019...   \n",
       "965  [[0.009785848, 0.0075619244, 0.039878756, 0.04...   \n",
       "966  [[0.008133764, 0.011563758, 0.019495247, 0.024...   \n",
       "\n",
       "                                trial_power_timestamps in_video  \n",
       "0    [1130000, 1140000, 1150000, 1160000, 1170000, ...     True  \n",
       "1    [3530000, 3540000, 3550000, 3560000, 3570000, ...     True  \n",
       "2    [5830000, 5840000, 5850000, 5860000, 5870000, ...     True  \n",
       "3    [7630000, 7640000, 7650000, 7660000, 7670000, ...     True  \n",
       "4    [8730000, 8740000, 8750000, 8760000, 8770000, ...     True  \n",
       "..                                                 ...      ...  \n",
       "962  [60680000, 60690000, 60700000, 60710000, 60720...     True  \n",
       "963  [62180000, 62190000, 62200000, 62210000, 62220...     True  \n",
       "964  [64180000, 64190000, 64200000, 64210000, 64220...     True  \n",
       "965  [66080000, 66090000, 66100000, 66110000, 66120...     True  \n",
       "966  [67080000, 67090000, 67100000, 67110000, 67120...     True  \n",
       "\n",
       "[967 rows x 139 columns]"
      ]
     },
     "execution_count": 25,
     "metadata": {},
     "output_type": "execute_result"
    }
   ],
   "source": [
    "LFP_SPECTRAL_DF"
   ]
  },
  {
   "cell_type": "code",
   "execution_count": null,
   "metadata": {
    "tags": []
   },
   "outputs": [],
   "source": []
  },
  {
   "cell_type": "code",
   "execution_count": 26,
   "metadata": {
    "tags": []
   },
   "outputs": [],
   "source": [
    "LFP_SPECTRAL_DF[\"competition_closeness\"] = LFP_SPECTRAL_DF[\"competition_closeness\"].apply(lambda x: comp_closeness_dict.get(x, \"\"))"
   ]
  },
  {
   "cell_type": "code",
   "execution_count": 27,
   "metadata": {
    "tags": []
   },
   "outputs": [
    {
     "data": {
      "text/plain": [
       "0      competitive\n",
       "1          no_comp\n",
       "2      competitive\n",
       "3          no_comp\n",
       "4          no_comp\n",
       "          ...     \n",
       "962        no_comp\n",
       "963        no_comp\n",
       "964        no_comp\n",
       "965        no_comp\n",
       "966        no_comp\n",
       "Name: competition_closeness, Length: 967, dtype: object"
      ]
     },
     "execution_count": 27,
     "metadata": {},
     "output_type": "execute_result"
    }
   ],
   "source": [
    "LFP_SPECTRAL_DF[\"competition_closeness\"]"
   ]
  },
  {
   "cell_type": "markdown",
   "metadata": {},
   "source": [
    "# Getting trial and spectra average"
   ]
  },
  {
   "cell_type": "code",
   "execution_count": 28,
   "metadata": {
    "tags": []
   },
   "outputs": [],
   "source": [
    "gamma_frequencies = (30, 51)\n",
    "theta_frequencies = (4, 13)"
   ]
  },
  {
   "cell_type": "code",
   "execution_count": 29,
   "metadata": {
    "tags": []
   },
   "outputs": [
    {
     "data": {
      "text/plain": [
       "array([30., 31., 32., 33., 34., 35., 36., 37., 38., 39., 40., 41., 42.,\n",
       "       43., 44., 45., 46., 47., 48., 49., 50.])"
      ]
     },
     "execution_count": 29,
     "metadata": {},
     "output_type": "execute_result"
    }
   ],
   "source": [
    "LFP_SPECTRAL_DF[[col for col in LFP_SPECTRAL_DF if \"calculation_frequencies\" in col]].iloc[0][0][gamma_frequencies[0]: gamma_frequencies[1]]"
   ]
  },
  {
   "cell_type": "code",
   "execution_count": 30,
   "metadata": {
    "tags": []
   },
   "outputs": [],
   "source": [
    "trial_columns = [col for col in LFP_SPECTRAL_DF if (\"trial\" in col or \"baseline\" in col) and \"label\" not in col and \"timestamp\" not in col and \"frame\" not in col and \"locations\" not in col]"
   ]
  },
  {
   "cell_type": "code",
   "execution_count": 31,
   "metadata": {
    "tags": []
   },
   "outputs": [
    {
     "data": {
      "text/plain": [
       "['baseline_agent_thorax_to_reward_port',\n",
       " 'baseline_agent_thorax_velocity',\n",
       " 'baseline_subject_thorax_to_reward_port',\n",
       " 'baseline_subject_thorax_velocity',\n",
       " 'trial_agent_thorax_to_reward_port',\n",
       " 'trial_agent_thorax_velocity',\n",
       " 'trial_subject_thorax_to_reward_port',\n",
       " 'trial_subject_thorax_velocity',\n",
       " 'baseline_BLA_LH_RMS_filtered_coherence_all_frequencies',\n",
       " 'baseline_BLA_MD_RMS_filtered_coherence_all_frequencies',\n",
       " 'baseline_BLA_mPFC_RMS_filtered_coherence_all_frequencies',\n",
       " 'baseline_BLA_vHPC_RMS_filtered_coherence_all_frequencies',\n",
       " 'baseline_LH_MD_RMS_filtered_coherence_all_frequencies',\n",
       " 'baseline_LH_mPFC_RMS_filtered_coherence_all_frequencies',\n",
       " 'baseline_LH_vHPC_RMS_filtered_coherence_all_frequencies',\n",
       " 'baseline_MD_mPFC_RMS_filtered_coherence_all_frequencies',\n",
       " 'baseline_MD_vHPC_RMS_filtered_coherence_all_frequencies',\n",
       " 'baseline_mPFC_vHPC_RMS_filtered_coherence_all_frequencies',\n",
       " 'trial_BLA_LH_RMS_filtered_coherence_all_frequencies',\n",
       " 'trial_BLA_MD_RMS_filtered_coherence_all_frequencies',\n",
       " 'trial_BLA_mPFC_RMS_filtered_coherence_all_frequencies',\n",
       " 'trial_BLA_vHPC_RMS_filtered_coherence_all_frequencies',\n",
       " 'trial_LH_MD_RMS_filtered_coherence_all_frequencies',\n",
       " 'trial_LH_mPFC_RMS_filtered_coherence_all_frequencies',\n",
       " 'trial_LH_vHPC_RMS_filtered_coherence_all_frequencies',\n",
       " 'trial_MD_mPFC_RMS_filtered_coherence_all_frequencies',\n",
       " 'trial_MD_vHPC_RMS_filtered_coherence_all_frequencies',\n",
       " 'trial_mPFC_vHPC_RMS_filtered_coherence_all_frequencies',\n",
       " 'baseline_BLA_LH_granger_all_frequencies',\n",
       " 'baseline_LH_BLA_granger_all_frequencies',\n",
       " 'baseline_BLA_MD_granger_all_frequencies',\n",
       " 'baseline_MD_BLA_granger_all_frequencies',\n",
       " 'baseline_BLA_mPFC_granger_all_frequencies',\n",
       " 'baseline_mPFC_BLA_granger_all_frequencies',\n",
       " 'baseline_BLA_vHPC_granger_all_frequencies',\n",
       " 'baseline_vHPC_BLA_granger_all_frequencies',\n",
       " 'baseline_LH_MD_granger_all_frequencies',\n",
       " 'baseline_MD_LH_granger_all_frequencies',\n",
       " 'baseline_LH_mPFC_granger_all_frequencies',\n",
       " 'baseline_mPFC_LH_granger_all_frequencies',\n",
       " 'baseline_LH_vHPC_granger_all_frequencies',\n",
       " 'baseline_vHPC_LH_granger_all_frequencies',\n",
       " 'baseline_MD_mPFC_granger_all_frequencies',\n",
       " 'baseline_mPFC_MD_granger_all_frequencies',\n",
       " 'baseline_MD_vHPC_granger_all_frequencies',\n",
       " 'baseline_vHPC_MD_granger_all_frequencies',\n",
       " 'baseline_mPFC_vHPC_granger_all_frequencies',\n",
       " 'baseline_vHPC_mPFC_granger_all_frequencies',\n",
       " 'trial_BLA_LH_granger_all_frequencies',\n",
       " 'trial_LH_BLA_granger_all_frequencies',\n",
       " 'trial_BLA_MD_granger_all_frequencies',\n",
       " 'trial_MD_BLA_granger_all_frequencies',\n",
       " 'trial_BLA_mPFC_granger_all_frequencies',\n",
       " 'trial_mPFC_BLA_granger_all_frequencies',\n",
       " 'trial_BLA_vHPC_granger_all_frequencies',\n",
       " 'trial_vHPC_BLA_granger_all_frequencies',\n",
       " 'trial_LH_MD_granger_all_frequencies',\n",
       " 'trial_MD_LH_granger_all_frequencies',\n",
       " 'trial_LH_mPFC_granger_all_frequencies',\n",
       " 'trial_mPFC_LH_granger_all_frequencies',\n",
       " 'trial_LH_vHPC_granger_all_frequencies',\n",
       " 'trial_vHPC_LH_granger_all_frequencies',\n",
       " 'trial_MD_mPFC_granger_all_frequencies',\n",
       " 'trial_mPFC_MD_granger_all_frequencies',\n",
       " 'trial_MD_vHPC_granger_all_frequencies',\n",
       " 'trial_vHPC_MD_granger_all_frequencies',\n",
       " 'trial_mPFC_vHPC_granger_all_frequencies',\n",
       " 'trial_vHPC_mPFC_granger_all_frequencies',\n",
       " 'baseline_mPFC_RMS_filtered_power_all_frequencies',\n",
       " 'baseline_MD_RMS_filtered_power_all_frequencies',\n",
       " 'baseline_LH_RMS_filtered_power_all_frequencies',\n",
       " 'baseline_BLA_RMS_filtered_power_all_frequencies',\n",
       " 'baseline_vHPC_RMS_filtered_power_all_frequencies',\n",
       " 'trial_mPFC_RMS_filtered_power_all_frequencies',\n",
       " 'trial_MD_RMS_filtered_power_all_frequencies',\n",
       " 'trial_LH_RMS_filtered_power_all_frequencies',\n",
       " 'trial_BLA_RMS_filtered_power_all_frequencies',\n",
       " 'trial_vHPC_RMS_filtered_power_all_frequencies']"
      ]
     },
     "execution_count": 31,
     "metadata": {},
     "output_type": "execute_result"
    }
   ],
   "source": [
    "trial_columns"
   ]
  },
  {
   "cell_type": "code",
   "execution_count": 32,
   "metadata": {
    "tags": []
   },
   "outputs": [
    {
     "name": "stdout",
     "output_type": "stream",
     "text": [
      "baseline_BLA_LH_coherence\n",
      "baseline_BLA_MD_coherence\n",
      "baseline_BLA_mPFC_coherence\n",
      "baseline_BLA_vHPC_coherence\n",
      "baseline_LH_MD_coherence\n",
      "baseline_LH_mPFC_coherence\n",
      "baseline_LH_vHPC_coherence\n",
      "baseline_MD_mPFC_coherence\n",
      "baseline_MD_vHPC_coherence\n",
      "baseline_mPFC_vHPC_coherence\n",
      "trial_BLA_LH_coherence\n",
      "trial_BLA_MD_coherence\n",
      "trial_BLA_mPFC_coherence\n",
      "trial_BLA_vHPC_coherence\n",
      "trial_LH_MD_coherence\n",
      "trial_LH_mPFC_coherence\n",
      "trial_LH_vHPC_coherence\n",
      "trial_MD_mPFC_coherence\n",
      "trial_MD_vHPC_coherence\n",
      "trial_mPFC_vHPC_coherence\n",
      "baseline_BLA_LH_granger\n",
      "baseline_LH_BLA_granger\n",
      "baseline_BLA_MD_granger\n",
      "baseline_MD_BLA_granger\n",
      "baseline_BLA_mPFC_granger\n",
      "baseline_mPFC_BLA_granger\n",
      "baseline_BLA_vHPC_granger\n",
      "baseline_vHPC_BLA_granger\n",
      "baseline_LH_MD_granger\n",
      "baseline_MD_LH_granger\n",
      "baseline_LH_mPFC_granger\n",
      "baseline_mPFC_LH_granger\n",
      "baseline_LH_vHPC_granger\n",
      "baseline_vHPC_LH_granger\n",
      "baseline_MD_mPFC_granger\n",
      "baseline_mPFC_MD_granger\n",
      "baseline_MD_vHPC_granger\n",
      "baseline_vHPC_MD_granger\n",
      "baseline_mPFC_vHPC_granger\n",
      "baseline_vHPC_mPFC_granger\n",
      "trial_BLA_LH_granger\n",
      "trial_LH_BLA_granger\n",
      "trial_BLA_MD_granger\n",
      "trial_MD_BLA_granger\n",
      "trial_BLA_mPFC_granger\n",
      "trial_mPFC_BLA_granger\n",
      "trial_BLA_vHPC_granger\n",
      "trial_vHPC_BLA_granger\n",
      "trial_LH_MD_granger\n",
      "trial_MD_LH_granger\n",
      "trial_LH_mPFC_granger\n",
      "trial_mPFC_LH_granger\n",
      "trial_LH_vHPC_granger\n",
      "trial_vHPC_LH_granger\n",
      "trial_MD_mPFC_granger\n",
      "trial_mPFC_MD_granger\n",
      "trial_MD_vHPC_granger\n",
      "trial_vHPC_MD_granger\n",
      "trial_mPFC_vHPC_granger\n",
      "trial_vHPC_mPFC_granger\n",
      "baseline_mPFC_power\n",
      "baseline_MD_power\n",
      "baseline_LH_power\n",
      "baseline_BLA_power\n",
      "baseline_vHPC_power\n",
      "trial_mPFC_power\n",
      "trial_MD_power\n",
      "trial_LH_power\n",
      "trial_BLA_power\n",
      "trial_vHPC_power\n"
     ]
    }
   ],
   "source": [
    "for col in trial_columns:\n",
    "    try:\n",
    "        # For data that is 2 dimensional like the spectral analysis\n",
    "        if len(LFP_SPECTRAL_DF[col].iloc[0].shape) == 2:\n",
    "            # print(col)\n",
    "            current_col = col.replace(\"RMS_filtered_\", \"\").replace(\"_all_frequencies\", \"\")\n",
    "            LFP_SPECTRAL_DF[\"{}_theta\".format(current_col)] = LFP_SPECTRAL_DF[col].apply(lambda x: np.nanmean(x[:, theta_frequencies[0]:theta_frequencies[1]]))\n",
    "            LFP_SPECTRAL_DF[\"{}_gamma\".format(current_col)] = LFP_SPECTRAL_DF[col].apply(lambda x: np.nanmean(x[:, gamma_frequencies[0]: gamma_frequencies[1]]))\n",
    "\n",
    "            print(current_col)\n",
    "        # For data that is 1 dimensional like SLEAP\n",
    "        elif len(LFP_SPECTRAL_DF[col].iloc[0].shape) == 1:\n",
    "            LFP_SPECTRAL_DF[col] = LFP_SPECTRAL_DF[col].apply(lambda x: np.nanmean(x))\n",
    "        else:\n",
    "            print(col)\n",
    "    except:\n",
    "        pass\n"
   ]
  },
  {
   "cell_type": "code",
   "execution_count": 33,
   "metadata": {
    "tags": []
   },
   "outputs": [],
   "source": [
    "LFP_SPECTRAL_DF = LFP_SPECTRAL_DF.drop(columns=[col for col in LFP_SPECTRAL_DF if \"all_freq\" in col], errors=\"ignore\")"
   ]
  },
  {
   "cell_type": "code",
   "execution_count": 34,
   "metadata": {
    "tags": []
   },
   "outputs": [
    {
     "data": {
      "text/html": [
       "<div>\n",
       "<style scoped>\n",
       "    .dataframe tbody tr th:only-of-type {\n",
       "        vertical-align: middle;\n",
       "    }\n",
       "\n",
       "    .dataframe tbody tr th {\n",
       "        vertical-align: top;\n",
       "    }\n",
       "\n",
       "    .dataframe thead th {\n",
       "        text-align: right;\n",
       "    }\n",
       "</style>\n",
       "<table border=\"1\" class=\"dataframe\">\n",
       "  <thead>\n",
       "    <tr style=\"text-align: right;\">\n",
       "      <th></th>\n",
       "      <th>index</th>\n",
       "      <th>tracked_subject</th>\n",
       "      <th>box_number</th>\n",
       "      <th>sleap_name</th>\n",
       "      <th>video_name</th>\n",
       "      <th>current_subject</th>\n",
       "      <th>tone_start_frame</th>\n",
       "      <th>reward_start_frame</th>\n",
       "      <th>tone_stop_frame</th>\n",
       "      <th>condition</th>\n",
       "      <th>...</th>\n",
       "      <th>trial_mPFC_power_theta</th>\n",
       "      <th>trial_mPFC_power_gamma</th>\n",
       "      <th>trial_MD_power_theta</th>\n",
       "      <th>trial_MD_power_gamma</th>\n",
       "      <th>trial_LH_power_theta</th>\n",
       "      <th>trial_LH_power_gamma</th>\n",
       "      <th>trial_BLA_power_theta</th>\n",
       "      <th>trial_BLA_power_gamma</th>\n",
       "      <th>trial_vHPC_power_theta</th>\n",
       "      <th>trial_vHPC_power_gamma</th>\n",
       "    </tr>\n",
       "  </thead>\n",
       "  <tbody>\n",
       "    <tr>\n",
       "      <th>0</th>\n",
       "      <td>0</td>\n",
       "      <td>['1.1', '1.2']</td>\n",
       "      <td>1</td>\n",
       "      <td>20230612_112630_standard_comp_to_training_D1_s...</td>\n",
       "      <td>20230612_112630_standard_comp_to_training_D1_s...</td>\n",
       "      <td>1.1</td>\n",
       "      <td>1125</td>\n",
       "      <td>1225</td>\n",
       "      <td>1324</td>\n",
       "      <td>1.1</td>\n",
       "      <td>...</td>\n",
       "      <td>0.030160</td>\n",
       "      <td>0.002167</td>\n",
       "      <td>0.038922</td>\n",
       "      <td>0.001269</td>\n",
       "      <td>0.040500</td>\n",
       "      <td>0.001394</td>\n",
       "      <td>0.034031</td>\n",
       "      <td>0.002251</td>\n",
       "      <td>0.021546</td>\n",
       "      <td>0.002843</td>\n",
       "    </tr>\n",
       "    <tr>\n",
       "      <th>1</th>\n",
       "      <td>1</td>\n",
       "      <td>['1.1', '1.2']</td>\n",
       "      <td>1</td>\n",
       "      <td>20230612_112630_standard_comp_to_training_D1_s...</td>\n",
       "      <td>20230612_112630_standard_comp_to_training_D1_s...</td>\n",
       "      <td>1.1</td>\n",
       "      <td>3519</td>\n",
       "      <td>3619</td>\n",
       "      <td>3720</td>\n",
       "      <td>1.2</td>\n",
       "      <td>...</td>\n",
       "      <td>0.028266</td>\n",
       "      <td>0.002177</td>\n",
       "      <td>0.045080</td>\n",
       "      <td>0.001082</td>\n",
       "      <td>0.049413</td>\n",
       "      <td>0.001238</td>\n",
       "      <td>0.039506</td>\n",
       "      <td>0.002506</td>\n",
       "      <td>0.035230</td>\n",
       "      <td>0.002768</td>\n",
       "    </tr>\n",
       "    <tr>\n",
       "      <th>2</th>\n",
       "      <td>2</td>\n",
       "      <td>['1.1', '1.2']</td>\n",
       "      <td>1</td>\n",
       "      <td>20230612_112630_standard_comp_to_training_D1_s...</td>\n",
       "      <td>20230612_112630_standard_comp_to_training_D1_s...</td>\n",
       "      <td>1.1</td>\n",
       "      <td>5815</td>\n",
       "      <td>5915</td>\n",
       "      <td>6014</td>\n",
       "      <td>1.2</td>\n",
       "      <td>...</td>\n",
       "      <td>0.032059</td>\n",
       "      <td>0.002143</td>\n",
       "      <td>0.047931</td>\n",
       "      <td>0.001078</td>\n",
       "      <td>0.051984</td>\n",
       "      <td>0.001189</td>\n",
       "      <td>0.039781</td>\n",
       "      <td>0.002418</td>\n",
       "      <td>0.036432</td>\n",
       "      <td>0.002515</td>\n",
       "    </tr>\n",
       "    <tr>\n",
       "      <th>3</th>\n",
       "      <td>3</td>\n",
       "      <td>['1.1', '1.2']</td>\n",
       "      <td>1</td>\n",
       "      <td>20230612_112630_standard_comp_to_training_D1_s...</td>\n",
       "      <td>20230612_112630_standard_comp_to_training_D1_s...</td>\n",
       "      <td>1.1</td>\n",
       "      <td>7612</td>\n",
       "      <td>7712</td>\n",
       "      <td>7811</td>\n",
       "      <td>1.2</td>\n",
       "      <td>...</td>\n",
       "      <td>0.035129</td>\n",
       "      <td>0.001958</td>\n",
       "      <td>0.048240</td>\n",
       "      <td>0.001254</td>\n",
       "      <td>0.048795</td>\n",
       "      <td>0.001418</td>\n",
       "      <td>0.044025</td>\n",
       "      <td>0.003139</td>\n",
       "      <td>0.030132</td>\n",
       "      <td>0.002564</td>\n",
       "    </tr>\n",
       "    <tr>\n",
       "      <th>4</th>\n",
       "      <td>4</td>\n",
       "      <td>['1.1', '1.2']</td>\n",
       "      <td>1</td>\n",
       "      <td>20230612_112630_standard_comp_to_training_D1_s...</td>\n",
       "      <td>20230612_112630_standard_comp_to_training_D1_s...</td>\n",
       "      <td>1.1</td>\n",
       "      <td>8709</td>\n",
       "      <td>8809</td>\n",
       "      <td>8910</td>\n",
       "      <td>1.2</td>\n",
       "      <td>...</td>\n",
       "      <td>0.024816</td>\n",
       "      <td>0.002066</td>\n",
       "      <td>0.033157</td>\n",
       "      <td>0.001108</td>\n",
       "      <td>0.032718</td>\n",
       "      <td>0.001254</td>\n",
       "      <td>0.026005</td>\n",
       "      <td>0.002629</td>\n",
       "      <td>0.025761</td>\n",
       "      <td>0.003003</td>\n",
       "    </tr>\n",
       "    <tr>\n",
       "      <th>...</th>\n",
       "      <td>...</td>\n",
       "      <td>...</td>\n",
       "      <td>...</td>\n",
       "      <td>...</td>\n",
       "      <td>...</td>\n",
       "      <td>...</td>\n",
       "      <td>...</td>\n",
       "      <td>...</td>\n",
       "      <td>...</td>\n",
       "      <td>...</td>\n",
       "      <td>...</td>\n",
       "      <td>...</td>\n",
       "      <td>...</td>\n",
       "      <td>...</td>\n",
       "      <td>...</td>\n",
       "      <td>...</td>\n",
       "      <td>...</td>\n",
       "      <td>...</td>\n",
       "      <td>...</td>\n",
       "      <td>...</td>\n",
       "      <td>...</td>\n",
       "    </tr>\n",
       "    <tr>\n",
       "      <th>962</th>\n",
       "      <td>1364</td>\n",
       "      <td>['1.2', '2.2']</td>\n",
       "      <td>2</td>\n",
       "      <td>20230630_115506_standard_comp_to_novel_agent_D...</td>\n",
       "      <td>20230630_115506_standard_comp_to_novel_agent_D...</td>\n",
       "      <td>1.2</td>\n",
       "      <td>60714</td>\n",
       "      <td>60814</td>\n",
       "      <td>60914</td>\n",
       "      <td>2.2</td>\n",
       "      <td>...</td>\n",
       "      <td>0.023956</td>\n",
       "      <td>0.000833</td>\n",
       "      <td>0.017446</td>\n",
       "      <td>0.000899</td>\n",
       "      <td>0.018835</td>\n",
       "      <td>0.001020</td>\n",
       "      <td>0.019226</td>\n",
       "      <td>0.001786</td>\n",
       "      <td>0.021964</td>\n",
       "      <td>0.001045</td>\n",
       "    </tr>\n",
       "    <tr>\n",
       "      <th>963</th>\n",
       "      <td>1365</td>\n",
       "      <td>['1.2', '2.2']</td>\n",
       "      <td>2</td>\n",
       "      <td>20230630_115506_standard_comp_to_novel_agent_D...</td>\n",
       "      <td>20230630_115506_standard_comp_to_novel_agent_D...</td>\n",
       "      <td>1.2</td>\n",
       "      <td>62211</td>\n",
       "      <td>62311</td>\n",
       "      <td>62410</td>\n",
       "      <td>2.2</td>\n",
       "      <td>...</td>\n",
       "      <td>0.031187</td>\n",
       "      <td>0.000980</td>\n",
       "      <td>0.029963</td>\n",
       "      <td>0.000808</td>\n",
       "      <td>0.027726</td>\n",
       "      <td>0.000967</td>\n",
       "      <td>0.022851</td>\n",
       "      <td>0.002094</td>\n",
       "      <td>0.030460</td>\n",
       "      <td>0.001304</td>\n",
       "    </tr>\n",
       "    <tr>\n",
       "      <th>964</th>\n",
       "      <td>1366</td>\n",
       "      <td>['1.2', '2.2']</td>\n",
       "      <td>2</td>\n",
       "      <td>20230630_115506_standard_comp_to_novel_agent_D...</td>\n",
       "      <td>20230630_115506_standard_comp_to_novel_agent_D...</td>\n",
       "      <td>1.2</td>\n",
       "      <td>64207</td>\n",
       "      <td>64307</td>\n",
       "      <td>64406</td>\n",
       "      <td>2.2</td>\n",
       "      <td>...</td>\n",
       "      <td>0.023314</td>\n",
       "      <td>0.000836</td>\n",
       "      <td>0.036276</td>\n",
       "      <td>0.001013</td>\n",
       "      <td>0.033335</td>\n",
       "      <td>0.001172</td>\n",
       "      <td>0.025945</td>\n",
       "      <td>0.001956</td>\n",
       "      <td>0.032830</td>\n",
       "      <td>0.001386</td>\n",
       "    </tr>\n",
       "    <tr>\n",
       "      <th>965</th>\n",
       "      <td>1367</td>\n",
       "      <td>['1.2', '2.2']</td>\n",
       "      <td>2</td>\n",
       "      <td>20230630_115506_standard_comp_to_novel_agent_D...</td>\n",
       "      <td>20230630_115506_standard_comp_to_novel_agent_D...</td>\n",
       "      <td>1.2</td>\n",
       "      <td>66104</td>\n",
       "      <td>66204</td>\n",
       "      <td>66303</td>\n",
       "      <td>2.2</td>\n",
       "      <td>...</td>\n",
       "      <td>0.029101</td>\n",
       "      <td>0.000952</td>\n",
       "      <td>0.028479</td>\n",
       "      <td>0.000766</td>\n",
       "      <td>0.025456</td>\n",
       "      <td>0.000916</td>\n",
       "      <td>0.023135</td>\n",
       "      <td>0.002034</td>\n",
       "      <td>0.027572</td>\n",
       "      <td>0.001236</td>\n",
       "    </tr>\n",
       "    <tr>\n",
       "      <th>966</th>\n",
       "      <td>1368</td>\n",
       "      <td>['1.2', '2.2']</td>\n",
       "      <td>2</td>\n",
       "      <td>20230630_115506_standard_comp_to_novel_agent_D...</td>\n",
       "      <td>20230630_115506_standard_comp_to_novel_agent_D...</td>\n",
       "      <td>1.2</td>\n",
       "      <td>67102</td>\n",
       "      <td>67202</td>\n",
       "      <td>67301</td>\n",
       "      <td>2.2</td>\n",
       "      <td>...</td>\n",
       "      <td>0.033557</td>\n",
       "      <td>0.001021</td>\n",
       "      <td>0.030066</td>\n",
       "      <td>0.001002</td>\n",
       "      <td>0.025811</td>\n",
       "      <td>0.001135</td>\n",
       "      <td>0.028521</td>\n",
       "      <td>0.003552</td>\n",
       "      <td>0.022803</td>\n",
       "      <td>0.001620</td>\n",
       "    </tr>\n",
       "  </tbody>\n",
       "</table>\n",
       "<p>967 rows × 209 columns</p>\n",
       "</div>"
      ],
      "text/plain": [
       "     index tracked_subject  box_number  \\\n",
       "0        0  ['1.1', '1.2']           1   \n",
       "1        1  ['1.1', '1.2']           1   \n",
       "2        2  ['1.1', '1.2']           1   \n",
       "3        3  ['1.1', '1.2']           1   \n",
       "4        4  ['1.1', '1.2']           1   \n",
       "..     ...             ...         ...   \n",
       "962   1364  ['1.2', '2.2']           2   \n",
       "963   1365  ['1.2', '2.2']           2   \n",
       "964   1366  ['1.2', '2.2']           2   \n",
       "965   1367  ['1.2', '2.2']           2   \n",
       "966   1368  ['1.2', '2.2']           2   \n",
       "\n",
       "                                            sleap_name  \\\n",
       "0    20230612_112630_standard_comp_to_training_D1_s...   \n",
       "1    20230612_112630_standard_comp_to_training_D1_s...   \n",
       "2    20230612_112630_standard_comp_to_training_D1_s...   \n",
       "3    20230612_112630_standard_comp_to_training_D1_s...   \n",
       "4    20230612_112630_standard_comp_to_training_D1_s...   \n",
       "..                                                 ...   \n",
       "962  20230630_115506_standard_comp_to_novel_agent_D...   \n",
       "963  20230630_115506_standard_comp_to_novel_agent_D...   \n",
       "964  20230630_115506_standard_comp_to_novel_agent_D...   \n",
       "965  20230630_115506_standard_comp_to_novel_agent_D...   \n",
       "966  20230630_115506_standard_comp_to_novel_agent_D...   \n",
       "\n",
       "                                            video_name current_subject  \\\n",
       "0    20230612_112630_standard_comp_to_training_D1_s...             1.1   \n",
       "1    20230612_112630_standard_comp_to_training_D1_s...             1.1   \n",
       "2    20230612_112630_standard_comp_to_training_D1_s...             1.1   \n",
       "3    20230612_112630_standard_comp_to_training_D1_s...             1.1   \n",
       "4    20230612_112630_standard_comp_to_training_D1_s...             1.1   \n",
       "..                                                 ...             ...   \n",
       "962  20230630_115506_standard_comp_to_novel_agent_D...             1.2   \n",
       "963  20230630_115506_standard_comp_to_novel_agent_D...             1.2   \n",
       "964  20230630_115506_standard_comp_to_novel_agent_D...             1.2   \n",
       "965  20230630_115506_standard_comp_to_novel_agent_D...             1.2   \n",
       "966  20230630_115506_standard_comp_to_novel_agent_D...             1.2   \n",
       "\n",
       "     tone_start_frame  reward_start_frame  tone_stop_frame condition  ...  \\\n",
       "0                1125                1225             1324       1.1  ...   \n",
       "1                3519                3619             3720       1.2  ...   \n",
       "2                5815                5915             6014       1.2  ...   \n",
       "3                7612                7712             7811       1.2  ...   \n",
       "4                8709                8809             8910       1.2  ...   \n",
       "..                ...                 ...              ...       ...  ...   \n",
       "962             60714               60814            60914       2.2  ...   \n",
       "963             62211               62311            62410       2.2  ...   \n",
       "964             64207               64307            64406       2.2  ...   \n",
       "965             66104               66204            66303       2.2  ...   \n",
       "966             67102               67202            67301       2.2  ...   \n",
       "\n",
       "    trial_mPFC_power_theta trial_mPFC_power_gamma trial_MD_power_theta  \\\n",
       "0                 0.030160               0.002167             0.038922   \n",
       "1                 0.028266               0.002177             0.045080   \n",
       "2                 0.032059               0.002143             0.047931   \n",
       "3                 0.035129               0.001958             0.048240   \n",
       "4                 0.024816               0.002066             0.033157   \n",
       "..                     ...                    ...                  ...   \n",
       "962               0.023956               0.000833             0.017446   \n",
       "963               0.031187               0.000980             0.029963   \n",
       "964               0.023314               0.000836             0.036276   \n",
       "965               0.029101               0.000952             0.028479   \n",
       "966               0.033557               0.001021             0.030066   \n",
       "\n",
       "    trial_MD_power_gamma trial_LH_power_theta  trial_LH_power_gamma  \\\n",
       "0               0.001269             0.040500              0.001394   \n",
       "1               0.001082             0.049413              0.001238   \n",
       "2               0.001078             0.051984              0.001189   \n",
       "3               0.001254             0.048795              0.001418   \n",
       "4               0.001108             0.032718              0.001254   \n",
       "..                   ...                  ...                   ...   \n",
       "962             0.000899             0.018835              0.001020   \n",
       "963             0.000808             0.027726              0.000967   \n",
       "964             0.001013             0.033335              0.001172   \n",
       "965             0.000766             0.025456              0.000916   \n",
       "966             0.001002             0.025811              0.001135   \n",
       "\n",
       "     trial_BLA_power_theta trial_BLA_power_gamma  trial_vHPC_power_theta  \\\n",
       "0                 0.034031              0.002251                0.021546   \n",
       "1                 0.039506              0.002506                0.035230   \n",
       "2                 0.039781              0.002418                0.036432   \n",
       "3                 0.044025              0.003139                0.030132   \n",
       "4                 0.026005              0.002629                0.025761   \n",
       "..                     ...                   ...                     ...   \n",
       "962               0.019226              0.001786                0.021964   \n",
       "963               0.022851              0.002094                0.030460   \n",
       "964               0.025945              0.001956                0.032830   \n",
       "965               0.023135              0.002034                0.027572   \n",
       "966               0.028521              0.003552                0.022803   \n",
       "\n",
       "    trial_vHPC_power_gamma  \n",
       "0                 0.002843  \n",
       "1                 0.002768  \n",
       "2                 0.002515  \n",
       "3                 0.002564  \n",
       "4                 0.003003  \n",
       "..                     ...  \n",
       "962               0.001045  \n",
       "963               0.001304  \n",
       "964               0.001386  \n",
       "965               0.001236  \n",
       "966               0.001620  \n",
       "\n",
       "[967 rows x 209 columns]"
      ]
     },
     "execution_count": 34,
     "metadata": {},
     "output_type": "execute_result"
    }
   ],
   "source": [
    "LFP_SPECTRAL_DF"
   ]
  },
  {
   "cell_type": "code",
   "execution_count": 35,
   "metadata": {
    "tags": []
   },
   "outputs": [
    {
     "name": "stdout",
     "output_type": "stream",
     "text": [
      "index\n",
      "tracked_subject\n",
      "box_number\n",
      "sleap_name\n",
      "video_name\n",
      "current_subject\n",
      "tone_start_frame\n",
      "reward_start_frame\n",
      "tone_stop_frame\n",
      "condition\n",
      "competition_closeness\n",
      "notes\n",
      "experiment\n",
      "session_dir\n",
      "all_subjects\n",
      "tone_start_timestamp\n",
      "tone_stop_timestamp\n",
      "trial_label\n",
      "cohort\n",
      "tone_frames\n",
      "box_1_port_entry_frames\n",
      "box_2_port_entry_frames\n",
      "session_path\n",
      "recording\n",
      "subject\n",
      "first_timestamp\n",
      "last_timestamp\n",
      "tone_timestamps\n",
      "box_1_port_entry_timestamps\n",
      "box_2_port_entry_timestamps\n",
      "lfp_timestamps\n",
      "power_calculation_frequencies\n",
      "coherence_calculation_frequencies\n",
      "granger_calculation_frequencies\n",
      "start_frame\n",
      "stop_frame\n",
      "in_video_subjects\n",
      "body_parts\n",
      "box_top_left\n",
      "box_top_right\n",
      "reward_port\n",
      "box_bottom_left\n",
      "box_bottom_right\n",
      "agent\n",
      "baseline_start_timestamp\n",
      "baseline_stop_timestamp\n",
      "baseline_agent_locations\n",
      "baseline_agent_thorax_to_reward_port\n",
      "baseline_agent_thorax_velocity\n",
      "baseline_subject_locations\n",
      "baseline_subject_thorax_to_reward_port\n",
      "baseline_subject_thorax_velocity\n",
      "baseline_video_frame\n",
      "baseline_video_timestamps\n",
      "trial_agent_locations\n",
      "trial_agent_thorax_to_reward_port\n",
      "trial_agent_thorax_velocity\n",
      "trial_subject_locations\n",
      "trial_subject_thorax_to_reward_port\n",
      "trial_subject_thorax_velocity\n",
      "trial_video_frame\n",
      "trial_video_timestamps\n",
      "baseline_coherence_timestamps\n",
      "trial_coherence_timestamps\n",
      "baseline_granger_timestamps\n",
      "trial_granger_timestamps\n",
      "baseline_power_timestamps\n",
      "trial_power_timestamps\n",
      "in_video\n",
      "baseline_BLA_LH_coherence_theta\n",
      "baseline_BLA_LH_coherence_gamma\n",
      "baseline_BLA_MD_coherence_theta\n",
      "baseline_BLA_MD_coherence_gamma\n",
      "baseline_BLA_mPFC_coherence_theta\n",
      "baseline_BLA_mPFC_coherence_gamma\n",
      "baseline_BLA_vHPC_coherence_theta\n",
      "baseline_BLA_vHPC_coherence_gamma\n",
      "baseline_LH_MD_coherence_theta\n",
      "baseline_LH_MD_coherence_gamma\n",
      "baseline_LH_mPFC_coherence_theta\n",
      "baseline_LH_mPFC_coherence_gamma\n",
      "baseline_LH_vHPC_coherence_theta\n",
      "baseline_LH_vHPC_coherence_gamma\n",
      "baseline_MD_mPFC_coherence_theta\n",
      "baseline_MD_mPFC_coherence_gamma\n",
      "baseline_MD_vHPC_coherence_theta\n",
      "baseline_MD_vHPC_coherence_gamma\n",
      "baseline_mPFC_vHPC_coherence_theta\n",
      "baseline_mPFC_vHPC_coherence_gamma\n",
      "trial_BLA_LH_coherence_theta\n",
      "trial_BLA_LH_coherence_gamma\n",
      "trial_BLA_MD_coherence_theta\n",
      "trial_BLA_MD_coherence_gamma\n",
      "trial_BLA_mPFC_coherence_theta\n",
      "trial_BLA_mPFC_coherence_gamma\n",
      "trial_BLA_vHPC_coherence_theta\n",
      "trial_BLA_vHPC_coherence_gamma\n",
      "trial_LH_MD_coherence_theta\n",
      "trial_LH_MD_coherence_gamma\n",
      "trial_LH_mPFC_coherence_theta\n",
      "trial_LH_mPFC_coherence_gamma\n",
      "trial_LH_vHPC_coherence_theta\n",
      "trial_LH_vHPC_coherence_gamma\n",
      "trial_MD_mPFC_coherence_theta\n",
      "trial_MD_mPFC_coherence_gamma\n",
      "trial_MD_vHPC_coherence_theta\n",
      "trial_MD_vHPC_coherence_gamma\n",
      "trial_mPFC_vHPC_coherence_theta\n",
      "trial_mPFC_vHPC_coherence_gamma\n",
      "baseline_BLA_LH_granger_theta\n",
      "baseline_BLA_LH_granger_gamma\n",
      "baseline_LH_BLA_granger_theta\n",
      "baseline_LH_BLA_granger_gamma\n",
      "baseline_BLA_MD_granger_theta\n",
      "baseline_BLA_MD_granger_gamma\n",
      "baseline_MD_BLA_granger_theta\n",
      "baseline_MD_BLA_granger_gamma\n",
      "baseline_BLA_mPFC_granger_theta\n",
      "baseline_BLA_mPFC_granger_gamma\n",
      "baseline_mPFC_BLA_granger_theta\n",
      "baseline_mPFC_BLA_granger_gamma\n",
      "baseline_BLA_vHPC_granger_theta\n",
      "baseline_BLA_vHPC_granger_gamma\n",
      "baseline_vHPC_BLA_granger_theta\n",
      "baseline_vHPC_BLA_granger_gamma\n",
      "baseline_LH_MD_granger_theta\n",
      "baseline_LH_MD_granger_gamma\n",
      "baseline_MD_LH_granger_theta\n",
      "baseline_MD_LH_granger_gamma\n",
      "baseline_LH_mPFC_granger_theta\n",
      "baseline_LH_mPFC_granger_gamma\n",
      "baseline_mPFC_LH_granger_theta\n",
      "baseline_mPFC_LH_granger_gamma\n",
      "baseline_LH_vHPC_granger_theta\n",
      "baseline_LH_vHPC_granger_gamma\n",
      "baseline_vHPC_LH_granger_theta\n",
      "baseline_vHPC_LH_granger_gamma\n",
      "baseline_MD_mPFC_granger_theta\n",
      "baseline_MD_mPFC_granger_gamma\n",
      "baseline_mPFC_MD_granger_theta\n",
      "baseline_mPFC_MD_granger_gamma\n",
      "baseline_MD_vHPC_granger_theta\n",
      "baseline_MD_vHPC_granger_gamma\n",
      "baseline_vHPC_MD_granger_theta\n",
      "baseline_vHPC_MD_granger_gamma\n",
      "baseline_mPFC_vHPC_granger_theta\n",
      "baseline_mPFC_vHPC_granger_gamma\n",
      "baseline_vHPC_mPFC_granger_theta\n",
      "baseline_vHPC_mPFC_granger_gamma\n",
      "trial_BLA_LH_granger_theta\n",
      "trial_BLA_LH_granger_gamma\n",
      "trial_LH_BLA_granger_theta\n",
      "trial_LH_BLA_granger_gamma\n",
      "trial_BLA_MD_granger_theta\n",
      "trial_BLA_MD_granger_gamma\n",
      "trial_MD_BLA_granger_theta\n",
      "trial_MD_BLA_granger_gamma\n",
      "trial_BLA_mPFC_granger_theta\n",
      "trial_BLA_mPFC_granger_gamma\n",
      "trial_mPFC_BLA_granger_theta\n",
      "trial_mPFC_BLA_granger_gamma\n",
      "trial_BLA_vHPC_granger_theta\n",
      "trial_BLA_vHPC_granger_gamma\n",
      "trial_vHPC_BLA_granger_theta\n",
      "trial_vHPC_BLA_granger_gamma\n",
      "trial_LH_MD_granger_theta\n",
      "trial_LH_MD_granger_gamma\n",
      "trial_MD_LH_granger_theta\n",
      "trial_MD_LH_granger_gamma\n",
      "trial_LH_mPFC_granger_theta\n",
      "trial_LH_mPFC_granger_gamma\n",
      "trial_mPFC_LH_granger_theta\n",
      "trial_mPFC_LH_granger_gamma\n",
      "trial_LH_vHPC_granger_theta\n",
      "trial_LH_vHPC_granger_gamma\n",
      "trial_vHPC_LH_granger_theta\n",
      "trial_vHPC_LH_granger_gamma\n",
      "trial_MD_mPFC_granger_theta\n",
      "trial_MD_mPFC_granger_gamma\n",
      "trial_mPFC_MD_granger_theta\n",
      "trial_mPFC_MD_granger_gamma\n",
      "trial_MD_vHPC_granger_theta\n",
      "trial_MD_vHPC_granger_gamma\n",
      "trial_vHPC_MD_granger_theta\n",
      "trial_vHPC_MD_granger_gamma\n",
      "trial_mPFC_vHPC_granger_theta\n",
      "trial_mPFC_vHPC_granger_gamma\n",
      "trial_vHPC_mPFC_granger_theta\n",
      "trial_vHPC_mPFC_granger_gamma\n",
      "baseline_mPFC_power_theta\n",
      "baseline_mPFC_power_gamma\n",
      "baseline_MD_power_theta\n",
      "baseline_MD_power_gamma\n",
      "baseline_LH_power_theta\n",
      "baseline_LH_power_gamma\n",
      "baseline_BLA_power_theta\n",
      "baseline_BLA_power_gamma\n",
      "baseline_vHPC_power_theta\n",
      "baseline_vHPC_power_gamma\n",
      "trial_mPFC_power_theta\n",
      "trial_mPFC_power_gamma\n",
      "trial_MD_power_theta\n",
      "trial_MD_power_gamma\n",
      "trial_LH_power_theta\n",
      "trial_LH_power_gamma\n",
      "trial_BLA_power_theta\n",
      "trial_BLA_power_gamma\n",
      "trial_vHPC_power_theta\n",
      "trial_vHPC_power_gamma\n"
     ]
    }
   ],
   "source": [
    "for col in LFP_SPECTRAL_DF.columns:\n",
    "    print(col)"
   ]
  },
  {
   "cell_type": "code",
   "execution_count": 37,
   "metadata": {
    "tags": []
   },
   "outputs": [],
   "source": [
    "LFP_SPECTRAL_DF.to_csv(\"./proc/rce_pilot_2_trial_averages.csv\")"
   ]
  },
  {
   "cell_type": "markdown",
   "metadata": {},
   "source": [
    "## Power plots"
   ]
  },
  {
   "cell_type": "code",
   "execution_count": null,
   "metadata": {
    "tags": []
   },
   "outputs": [],
   "source": [
    "raise ValueError()"
   ]
  },
  {
   "cell_type": "code",
   "execution_count": null,
   "metadata": {
    "tags": []
   },
   "outputs": [],
   "source": [
    "LFP_SPECTRAL_DF[\"trial_label\"]"
   ]
  },
  {
   "cell_type": "code",
   "execution_count": null,
   "metadata": {
    "tags": []
   },
   "outputs": [],
   "source": [
    "LFP_SPECTRAL_DF[\"experiment\"]"
   ]
  },
  {
   "cell_type": "code",
   "execution_count": null,
   "metadata": {},
   "outputs": [],
   "source": []
  },
  {
   "cell_type": "code",
   "execution_count": null,
   "metadata": {
    "tags": []
   },
   "outputs": [],
   "source": [
    "LFP_SPECTRAL_DF[\"experiment_and_label\"] = LFP_SPECTRAL_DF.apply(lambda x: \"{}_{}\".format(x[\"experiment\"], x[\"trial_label\"]) if x[\"experiment\"] != x[\"trial_label\"] else x[\"experiment\"], axis=1)"
   ]
  },
  {
   "cell_type": "code",
   "execution_count": null,
   "metadata": {
    "tags": []
   },
   "outputs": [],
   "source": [
    "LFP_SPECTRAL_DF[\"experiment_and_label\"] = LFP_SPECTRAL_DF[\"experiment_and_label\"].apply(lambda x: x.replace(\"omission_rewarded\", \"alone_rewarded\").replace(\"standard_rewarded\", \"alone_rewarded\").replace(\"standard\", \"\").strip(\"_\"))"
   ]
  },
  {
   "cell_type": "code",
   "execution_count": null,
   "metadata": {
    "tags": []
   },
   "outputs": [],
   "source": [
    "LFP_SPECTRAL_DF[\"experiment_and_label\"].unique()"
   ]
  },
  {
   "cell_type": "code",
   "execution_count": null,
   "metadata": {
    "tags": []
   },
   "outputs": [],
   "source": [
    "LFP_SPECTRAL_DF[\"experiment_and_comp\"] = LFP_SPECTRAL_DF.apply(lambda x: \"{}_{}\".format(x[\"experiment\"], x[\"trial_label\"]) if x[\"experiment\"] != x[\"trial_label\"] else x[\"experiment\"], axis=1)"
   ]
  },
  {
   "cell_type": "code",
   "execution_count": null,
   "metadata": {
    "tags": []
   },
   "outputs": [],
   "source": [
    "LFP_SPECTRAL_DF[\"experiment_and_comp\"] = LFP_SPECTRAL_DF[\"experiment_and_comp\"].apply(lambda x: x.replace(\"omission_rewarded\", \"alone_rewarded\").replace(\"standard_rewarded\", \"alone_rewarded\").replace(\"standard\", \"\").strip(\"_\"))"
   ]
  },
  {
   "cell_type": "code",
   "execution_count": null,
   "metadata": {
    "tags": []
   },
   "outputs": [],
   "source": [
    "LFP_SPECTRAL_DF[\"experiment_and_comp\"] = LFP_SPECTRAL_DF.apply(lambda x: \"_\".join([x[\"experiment_and_comp\"], x[\"competition_closeness\"]]).strip(\"_\"), axis=1)"
   ]
  },
  {
   "cell_type": "code",
   "execution_count": null,
   "metadata": {
    "tags": []
   },
   "outputs": [],
   "source": [
    "LFP_SPECTRAL_DF[\"experiment_and_comp\"].unique()"
   ]
  },
  {
   "cell_type": "code",
   "execution_count": null,
   "metadata": {
    "tags": []
   },
   "outputs": [],
   "source": [
    "LFP_SPECTRAL_DF[\"experiment_and_comp\"].unique()"
   ]
  },
  {
   "cell_type": "code",
   "execution_count": null,
   "metadata": {
    "tags": []
   },
   "outputs": [],
   "source": [
    "LFP_SPECTRAL_DF"
   ]
  },
  {
   "cell_type": "code",
   "execution_count": null,
   "metadata": {
    "tags": []
   },
   "outputs": [],
   "source": [
    "for col in LFP_SPECTRAL_DF.columns:\n",
    "    print(col)"
   ]
  },
  {
   "cell_type": "code",
   "execution_count": null,
   "metadata": {
    "tags": []
   },
   "outputs": [],
   "source": [
    "export_LFP_SPECTRAL_DF = LFP_SPECTRAL_DF.copy()"
   ]
  },
  {
   "cell_type": "code",
   "execution_count": null,
   "metadata": {
    "tags": []
   },
   "outputs": [],
   "source": [
    "export_LFP_SPECTRAL_DF = export_LFP_SPECTRAL_DF.drop(columns = [col for col in export_LFP_SPECTRAL_DF.columns if \"trace\" in col or \"RMS\" in col], errors=\"ignore\")\n",
    "export_LFP_SPECTRAL_DF = export_LFP_SPECTRAL_DF.drop(columns = [col for col in export_LFP_SPECTRAL_DF.columns if \"lfp\" in col], errors=\"ignore\")\n",
    "export_LFP_SPECTRAL_DF = export_LFP_SPECTRAL_DF.drop(columns = [col for col in export_LFP_SPECTRAL_DF.columns if \"power\" in col], errors=\"ignore\")"
   ]
  },
  {
   "cell_type": "code",
   "execution_count": null,
   "metadata": {
    "tags": []
   },
   "outputs": [],
   "source": [
    "export_LFP_SPECTRAL_DF"
   ]
  },
  {
   "cell_type": "code",
   "execution_count": null,
   "metadata": {
    "tags": []
   },
   "outputs": [],
   "source": [
    "columns_to_keep = ['tracked_subject', 'video_name',\n",
    "'current_subject', 'tone_start_frame', 'reward_start_frame',\n",
    "'tone_stop_frame', 'condition', 'competition_closeness', 'notes',\n",
    "'experiment', 'session_dir', 'all_subjects', 'tone_start_timestamp',\n",
    "'tone_stop_timestamp', 'trial_label', 'cohort', 'tone_frames',\n",
    "'recording', 'agent',\n",
    "'baseline_start_timestamp',\n",
    "'baseline_stop_timestamp', 'experiment_and_comp',\n",
    "'experiment_and_comp']"
   ]
  },
  {
   "cell_type": "code",
   "execution_count": null,
   "metadata": {
    "tags": []
   },
   "outputs": [],
   "source": [
    "columns_to_keep = sorted(columns_to_keep, key=lambda x: x.split(\"_\")[-1])"
   ]
  },
  {
   "cell_type": "code",
   "execution_count": null,
   "metadata": {
    "tags": []
   },
   "outputs": [],
   "source": [
    "columns_to_keep"
   ]
  },
  {
   "cell_type": "code",
   "execution_count": null,
   "metadata": {
    "tags": []
   },
   "outputs": [],
   "source": [
    "power_columns = set([col.replace(\"baseline_\", \"\").replace(\"trial_\", \"\") for col in LFP_SPECTRAL_DF.columns if \"all_frequencies\" in col])\n"
   ]
  },
  {
   "cell_type": "code",
   "execution_count": null,
   "metadata": {
    "tags": []
   },
   "outputs": [],
   "source": [
    "power_columns"
   ]
  },
  {
   "cell_type": "code",
   "execution_count": null,
   "metadata": {
    "tags": []
   },
   "outputs": [],
   "source": [
    "all_frequencies_col = [col for col in LFP_SPECTRAL_DF.columns if \"all_frequencies\" in col]\n",
    "\n",
    "averaged_LFP_SPECTRAL_DF = LFP_SPECTRAL_DF.copy()\n",
    "for col in all_frequencies_col:\n",
    "    averaged_LFP_SPECTRAL_DF[col] = averaged_LFP_SPECTRAL_DF[col].apply(lambda x: np.nanmean(x, axis=0))"
   ]
  },
  {
   "cell_type": "code",
   "execution_count": null,
   "metadata": {},
   "outputs": [],
   "source": [
    "if os.path.exists(\"./proc/plots/spectra\"):\n",
    "    shutil.rmtree(\"./proc/plots/spectra\")"
   ]
  },
  {
   "cell_type": "code",
   "execution_count": null,
   "metadata": {
    "tags": []
   },
   "outputs": [],
   "source": [
    "Path(\"./proc/plots/spectra/session_average/competitive/png\").mkdir(parents=True, exist_ok=True)\n",
    "Path(\"./proc/plots/spectra/session_average/competitive/svg\").mkdir(parents=True, exist_ok=True)\n",
    "Path(\"./proc/plots/spectra/session_average/trial_type/png\").mkdir(parents=True, exist_ok=True)\n",
    "Path(\"./proc/plots/spectra/session_average/trial_type/svg\").mkdir(parents=True, exist_ok=True)"
   ]
  },
  {
   "cell_type": "code",
   "execution_count": null,
   "metadata": {},
   "outputs": [],
   "source": [
    "comp_to_style = {key: (\"--\" if \"no_comp\" in key else \"-\") for key in averaged_LFP_SPECTRAL_DF[\"experiment_and_comp\"].unique() }"
   ]
  },
  {
   "cell_type": "code",
   "execution_count": null,
   "metadata": {
    "tags": []
   },
   "outputs": [],
   "source": [
    "for col in averaged_LFP_SPECTRAL_DF.columns:\n",
    "    print(col)"
   ]
  },
  {
   "cell_type": "code",
   "execution_count": null,
   "metadata": {
    "tags": []
   },
   "outputs": [],
   "source": [
    "averaged_LFP_SPECTRAL_DF[\"trial_label\"].unique()"
   ]
  },
  {
   "cell_type": "code",
   "execution_count": null,
   "metadata": {
    "tags": []
   },
   "outputs": [],
   "source": [
    "session_types"
   ]
  },
  {
   "cell_type": "code",
   "execution_count": null,
   "metadata": {
    "tags": []
   },
   "outputs": [],
   "source": [
    "session_df = averaged_LFP_SPECTRAL_DF[averaged_LFP_SPECTRAL_DF[\"recording\"].str.contains(\"novel\")].copy()\n"
   ]
  },
  {
   "cell_type": "code",
   "execution_count": null,
   "metadata": {
    "tags": []
   },
   "outputs": [],
   "source": [
    "session_types"
   ]
  },
  {
   "cell_type": "code",
   "execution_count": null,
   "metadata": {
    "tags": []
   },
   "outputs": [],
   "source": [
    "averaged_LFP_SPECTRAL_DF"
   ]
  },
  {
   "cell_type": "markdown",
   "metadata": {},
   "source": [
    "# TODO Get all trials even if they don't have spikes"
   ]
  },
  {
   "cell_type": "code",
   "execution_count": null,
   "metadata": {
    "tags": []
   },
   "outputs": [],
   "source": [
    "grouped_all_trials_df = averaged_LFP_SPECTRAL_DF.groupby([\"experiment_and_label\", \"session_dir\", \"subject\"]).agg({col: stack_arrays for col in all_frequencies_col})"
   ]
  },
  {
   "cell_type": "code",
   "execution_count": null,
   "metadata": {
    "tags": []
   },
   "outputs": [],
   "source": [
    "grouped_all_trials_df = grouped_all_trials_df.reset_index()"
   ]
  },
  {
   "cell_type": "code",
   "execution_count": null,
   "metadata": {
    "tags": []
   },
   "outputs": [],
   "source": [
    "grouped_all_trials_df.head()"
   ]
  },
  {
   "cell_type": "code",
   "execution_count": null,
   "metadata": {
    "tags": []
   },
   "outputs": [],
   "source": [
    "subj_to_color = {\"1.1\": \"red\", \"1.2\": \"blue\", \"1.4\": \"green\"}"
   ]
  },
  {
   "cell_type": "code",
   "execution_count": null,
   "metadata": {
    "tags": []
   },
   "outputs": [],
   "source": [
    "from collections import OrderedDict"
   ]
  },
  {
   "cell_type": "code",
   "execution_count": null,
   "metadata": {
    "tags": []
   },
   "outputs": [],
   "source": [
    "low_freq = 0\n",
    "high_freq = 51\n",
    "current_frequencies = range(low_freq, high_freq)\n",
    "\n",
    "for column in power_columns:\n",
    "    print(column)\n",
    "    baseline_column = \"baseline_{}\".format(column)\n",
    "    trial_column = \"trial_{}\".format(column)\n",
    "    plot_title = \"{}\".format(column).replace(\"_all_frequencies\", \"\").replace(\"_granger\", \"\").replace(\"_power\", \"\").replace(\"_coherence\", \"\")\n",
    "    if \"granger\" in column:\n",
    "        plot_title = plot_title.replace(\"_\", \" to \")\n",
    "    elif \"power\" in column:\n",
    "        plot_title = plot_title.split(\"_\")[0]\n",
    "\n",
    "    elif \"coherence\" in column:\n",
    "        plot_title = \" and \".join(plot_title.split(\"_\")[:2])\n",
    "    else:\n",
    "        plot_title = plot_title.replace(\"_\", \" and \")\n",
    "\n",
    "    # plt.title(\"{} {}\".format(preprocessing_type, plot_title))\n",
    "    \n",
    "    for trial_label in grouped_all_trials_df[\"experiment_and_label\"].unique():\n",
    "        current_df = grouped_all_trials_df[grouped_all_trials_df[\"experiment_and_label\"] == trial_label].copy()\n",
    "    \n",
    "        ## Setting up the y-axis and the titles\n",
    "        if \"power\" not in column:\n",
    "            pass\n",
    "        if \"trace\" in column:\n",
    "            continue\n",
    "        fig, ax = plt.subplots()\n",
    "        \n",
    "\n",
    "        plt.xlabel(\"Frequency (Hz)\", fontsize=FONTSIZE)\n",
    "\n",
    "        if \"power\" in column:\n",
    "            plt.ylabel(\"Power (A.U.)\", fontsize=FONTSIZE)\n",
    "\n",
    "        elif \"coherence\" in column:\n",
    "            plt.ylabel(\"Coherence\", fontsize=FONTSIZE)\n",
    "\n",
    "        elif \"granger\" in column:\n",
    "            plt.ylabel(\"Granger\", fontsize=FONTSIZE)\n",
    "\n",
    "        else:\n",
    "            plt.ylabel(\"(A.U.)\", fontsize=FONTSIZE)\n",
    "\n",
    "\n",
    "        plt.xlim(low_freq, high_freq-1) \n",
    "        plt.xticks(np.arange(low_freq, high_freq-1, 5))\n",
    "\n",
    "        if \"power\" in column:\n",
    "            # plt.ylim(0,0.01)\n",
    "            # plt.yscale(\"log\")\n",
    "            # plt.ylim((10**-3.5,10**-0.5))\n",
    "            ax.set_ylim(auto=True)\n",
    "            pass\n",
    "        else:\n",
    "            # pass\n",
    "            plt.ylim(0, 1)\n",
    "\n",
    "        for band, (min_freq, max_freq) in BAND_TO_FREQ_PLOT.items():\n",
    "            ax.axvspan(min_freq, max_freq, facecolor=BAND_TO_FREQ_COLOR[band], alpha=0.1, label=band)\n",
    "\n",
    "        for index, row in current_df.iterrows():   \n",
    "            #### DURING TRIAL ####\n",
    "            mean_power = np.nanmean(row[trial_column], axis=0)[low_freq: high_freq]\n",
    "            # print(mean_power)\n",
    "\n",
    "            # nans, x= nan_helper(mean_power)\n",
    "            # mean_power[nans]= np.interp(x(nans), x(~nans), mean_power[~nans])\n",
    "            sem_power = stats.sem(row[trial_column], axis=0, ddof=0)\n",
    "\n",
    "            # sem_power = np.nanstd(row[trial_column], axis=0) / ((row[trial_column].shape[0])**0.5)\n",
    "            sem_power = sem_power[low_freq: high_freq]\n",
    "            # nans, x= nan_helper(sem_power)\n",
    "            # sem_power[nans]= np.interp(x(nans), x(~nans), sem_power[~nans])   \n",
    "\n",
    "            baseline_mean_power = np.nanmean(row[baseline_column], axis=0)[low_freq: high_freq]\n",
    "            # print(mean_power)\n",
    "            baseline_sem_power = stats.sem(row[baseline_column], axis=0, ddof=0)\n",
    "            baseline_sem_power = baseline_sem_power[low_freq: high_freq]\n",
    "\n",
    "            try:\n",
    "                ax = sns.lineplot(x=current_frequencies, y=mean_power, \\\n",
    "                label=row[\"subject\"], linewidth=1, color=subj_to_color[row[\"subject\"]])\n",
    "\n",
    "                plt.fill_between(current_frequencies, \n",
    "                mean_power - sem_power, mean_power + sem_power, \\\n",
    "                alpha=0.1, color=subj_to_color[row[\"subject\"]])\n",
    "\n",
    "\n",
    "            except Exception as e: \n",
    "                print(e)\n",
    "\n",
    "        handles, labels = plt.gca().get_legend_handles_labels()\n",
    "        by_label = OrderedDict(zip(labels, handles))\n",
    "        plt.legend(by_label.values(), by_label.keys(), fontsize=8, ncols=2)\n",
    "\n",
    "        ax.set_ylim(auto=True)\n",
    "        plt.tight_layout()\n",
    "        plt.title(\"{} {} {}\".format(preprocessing_type, plot_title, trial_label))\n",
    "\n",
    "        column = column.replace(\"_all_frequencies\", \"\")\n",
    "        spectra_type = column.split(\"_\")[-1]\n",
    "        brain_regions = \"_\".join((column.split(\"_\")[:-1]))\n",
    "\n",
    "        plt.savefig(\"./proc/plots/spectra/session_average/trial_type/png/{}_{}hz_{}_{}_{}_spectra.png\".format(low_freq, high_freq, spectra_type, plot_title, trial_label))\n",
    "        plt.savefig(\"./proc/plots/spectra/session_average/trial_type/svg/{}_{}hz_{}_{}_{}_spectra.svg\".format(low_freq, high_freq, spectra_type, plot_title, trial_label))\n",
    "        plt.show()\n",
    "\n"
   ]
  },
  {
   "cell_type": "markdown",
   "metadata": {
    "tags": []
   },
   "source": [
    "# Old code below"
   ]
  },
  {
   "cell_type": "code",
   "execution_count": null,
   "metadata": {
    "tags": []
   },
   "outputs": [],
   "source": [
    "raise ValueError()"
   ]
  },
  {
   "cell_type": "code",
   "execution_count": null,
   "metadata": {
    "tags": []
   },
   "outputs": [],
   "source": [
    "low_freq = 0\n",
    "high_freq = 51\n",
    "current_frequencies = range(low_freq, high_freq)\n",
    "\n",
    "for session in session_types:\n",
    "    print(session)\n",
    "    session_df = averaged_LFP_SPECTRAL_DF[averaged_LFP_SPECTRAL_DF[\"recording\"].str.contains(session)].copy()\n",
    "    \n",
    "    # Apply the function to each group and each column\n",
    "    grouped_all_trials_df = session_df.groupby([\"experiment_and_label\"]).agg({col: stack_arrays for col in all_frequencies_col})\n",
    "\n",
    "    grouped_all_trials_df = pd.DataFrame(grouped_all_trials_df).reset_index()    \n",
    "    \n",
    "    for column in power_columns:\n",
    "        if \"power\" not in column:\n",
    "            pass\n",
    "        if \"trace\" in column:\n",
    "            continue\n",
    "        fig, ax = plt.subplots()\n",
    "        print(column)\n",
    "        baseline_column = \"baseline_{}\".format(column)\n",
    "        trial_column = \"trial_{}\".format(column)\n",
    "        plot_title = \"{}\".format(column).replace(\"_all_frequencies\", \"\").replace(\"_granger\", \"\").replace(\"_power\", \"\").replace(\"_coherence\", \"\")\n",
    "        if \"granger\" in column:\n",
    "            plot_title = plot_title.replace(\"_\", \" to \")\n",
    "        elif \"power\" in column:\n",
    "            plot_title = plot_title.split(\"_\")[0]\n",
    "\n",
    "        elif \"coherence\" in column:\n",
    "            plot_title = \" and \".join(plot_title.split(\"_\")[:2])\n",
    "        else:\n",
    "            plot_title = plot_title.replace(\"_\", \" and \")\n",
    "\n",
    "        plt.title(\"{} {}\".format(preprocessing_type, plot_title))\n",
    "        \n",
    "        plt.xlabel(\"Frequency (Hz)\", fontsize=FONTSIZE)\n",
    "        \n",
    "        if \"power\" in column:\n",
    "            plt.ylabel(\"Power (A.U.)\", fontsize=FONTSIZE)\n",
    "\n",
    "        elif \"coherence\" in column:\n",
    "            plt.ylabel(\"Coherence\", fontsize=FONTSIZE)\n",
    "        \n",
    "        elif \"granger\" in column:\n",
    "            plt.ylabel(\"Granger\", fontsize=FONTSIZE)\n",
    "\n",
    "        else:\n",
    "            plt.ylabel(\"(A.U.)\", fontsize=FONTSIZE)\n",
    "\n",
    "        \n",
    "        plt.xlim(low_freq, high_freq-1) \n",
    "        plt.xticks(np.arange(low_freq, high_freq-1, 5))\n",
    "\n",
    "        for band, (min_freq, max_freq) in BAND_TO_FREQ_PLOT.items():\n",
    "            ax.axvspan(min_freq, max_freq, facecolor=BAND_TO_FREQ_COLOR[band], alpha=0.1, label=band)\n",
    "        \n",
    "        if \"power\" in column:\n",
    "            # plt.ylim(0,0.01)\n",
    "            # plt.yscale(\"log\")\n",
    "            # plt.ylim((10**-3.5,10**-0.5))\n",
    "            ax.set_ylim(auto=True)\n",
    "            pass\n",
    "        else:\n",
    "            # pass\n",
    "            plt.ylim(0, 1)\n",
    "            \n",
    "        for index, row in grouped_all_trials_df.iterrows():   \n",
    "            #### DURING TRIAL ####\n",
    "            mean_power = np.nanmean(row[trial_column], axis=0)[low_freq: high_freq]\n",
    "            print(mean_power)\n",
    "            \n",
    "            # nans, x= nan_helper(mean_power)\n",
    "            # mean_power[nans]= np.interp(x(nans), x(~nans), mean_power[~nans])\n",
    "            sem_power = stats.sem(row[trial_column], axis=0, ddof=0)\n",
    "            \n",
    "            # sem_power = np.nanstd(row[trial_column], axis=0) / ((row[trial_column].shape[0])**0.5)\n",
    "            sem_power = sem_power[low_freq: high_freq]\n",
    "            # nans, x= nan_helper(sem_power)\n",
    "            # sem_power[nans]= np.interp(x(nans), x(~nans), sem_power[~nans])   \n",
    "            \n",
    "            \n",
    "            baseline_mean_power = np.nanmean(row[baseline_column], axis=0)[low_freq: high_freq]\n",
    "            print(mean_power)\n",
    "            \n",
    "            baseline_sem_power = stats.sem(row[baseline_column], axis=0, ddof=0)\n",
    "            baseline_sem_power = baseline_sem_power[low_freq: high_freq]\n",
    "\n",
    "            try:\n",
    "                ax = sns.lineplot(x=current_frequencies, y=mean_power, \\\n",
    "                label=\"trial \"+ \" \".join(\"{}\".format(row[\"experiment_and_label\"]).split(\"_\")), linewidth=3, color=OUTCOME_TO_COLOR[row[\"experiment_and_label\"]])\n",
    "\n",
    "                plt.fill_between(current_frequencies, \n",
    "                mean_power - sem_power, mean_power + sem_power, \\\n",
    "                alpha=0.1, color=OUTCOME_TO_COLOR[row[\"experiment_and_label\"]])\n",
    "                \n",
    "#                 ax = sns.lineplot(x=current_frequencies, y=baseline_mean_power, \\\n",
    "#                 label=\"baseline \" + \" \".join(\"{}\".format(row[\"experiment_and_label\"]).split(\"_\")), linewidth=3, linestyle=\"--\", color=OUTCOME_TO_COLOR[row[\"experiment_and_label\"]])\n",
    "\n",
    "#                 plt.fill_between(current_frequencies, \n",
    "#                 baseline_mean_power - baseline_sem_power, baseline_mean_power + baseline_sem_power, \\\n",
    "#                 alpha=0.1, color=OUTCOME_TO_COLOR[row[\"experiment_and_label\"]])\n",
    "            \n",
    "            \n",
    "            \n",
    "            \n",
    "            except Exception as e: \n",
    "                print(e)\n",
    "        # plt.legend(fontsize=10)\n",
    "        plt.legend(fontsize=8, loc=\"lower center\", ncols=2)\n",
    "\n",
    "        ax.set_ylim(auto=True)\n",
    "        plt.tight_layout()\n",
    "        \n",
    "        column = column.replace(\"_all_frequencies\", \"\")\n",
    "        spectra_type = column.split(\"_\")[-1]\n",
    "        brain_regions = \"_\".join((column.split(\"_\")[:-1]))\n",
    "        \n",
    "        plt.savefig(\"./proc/plots/spectra/session_average/trial_type/png/{}_{}hz_{}_{}_{}_spectra.png\".format(low_freq, high_freq, spectra_type, session, plot_title))\n",
    "        plt.savefig(\"./proc/plots/spectra/session_average/trial_type/svg/{}_{}hz_{}_{}_{}_spectra.svg\".format(low_freq, high_freq, spectra_type, session, plot_title))\n",
    "        plt.show()\n",
    "        \n",
    "    "
   ]
  },
  {
   "cell_type": "code",
   "execution_count": null,
   "metadata": {
    "tags": []
   },
   "outputs": [],
   "source": [
    "averaged_LFP_SPECTRAL_DF[\"experiment_and_comp\"].unique()"
   ]
  },
  {
   "cell_type": "code",
   "execution_count": null,
   "metadata": {
    "tags": []
   },
   "outputs": [],
   "source": [
    "comp_labels = ['win_competitive', 'lose_no_comp', 'lose_competitive',\n",
    "       'win_no_comp', 'alone_rewarded']"
   ]
  },
  {
   "cell_type": "code",
   "execution_count": null,
   "metadata": {
    "tags": []
   },
   "outputs": [],
   "source": [
    "low_freq = 0\n",
    "high_freq = 51\n",
    "current_frequencies = range(low_freq, high_freq)\n",
    "\n",
    "\n",
    "session_df = averaged_LFP_SPECTRAL_DF[averaged_LFP_SPECTRAL_DF[\"experiment_and_comp\"].isin(comp_labels)].copy()\n",
    "\n",
    "# Apply the function to each group and each column\n",
    "grouped_all_trials_df = session_df.groupby(\"experiment_and_comp\").agg({col: stack_arrays for col in all_frequencies_col})\n",
    "\n",
    "grouped_all_trials_df = pd.DataFrame(grouped_all_trials_df).reset_index()    \n",
    "\n",
    "for column in power_columns:\n",
    "    if \"power\" not in column:\n",
    "        pass\n",
    "    if \"trace\" in column:\n",
    "        continue\n",
    "    fig, ax = plt.subplots()\n",
    "    print(column)\n",
    "    baseline_column = \"baseline_{}\".format(column)\n",
    "    trial_column = \"trial_{}\".format(column)\n",
    "    plot_title = \"{}\".format(column).replace(\"_all_frequencies\", \"\").replace(\"_granger\", \"\").replace(\"_power\", \"\").replace(\"_coherence\", \"\")\n",
    "    if \"granger\" in column:\n",
    "        plot_title = plot_title.replace(\"_\", \" to \")\n",
    "    elif \"power\" in column:\n",
    "        plot_title = plot_title.split(\"_\")[0]\n",
    "\n",
    "    elif \"coherence\" in column:\n",
    "        plot_title = \" and \".join(plot_title.split(\"_\")[:2])\n",
    "    else:\n",
    "        plot_title = plot_title.replace(\"_\", \" and \")\n",
    "\n",
    "    plt.title(\"{} {}\".format(preprocessing_type, plot_title))\n",
    "\n",
    "    plt.xlabel(\"Frequency (Hz)\", fontsize=FONTSIZE)\n",
    "\n",
    "    if \"power\" in column:\n",
    "        plt.ylabel(\"Power (A.U.)\", fontsize=FONTSIZE)\n",
    "\n",
    "    elif \"coherence\" in column:\n",
    "        plt.ylabel(\"Coherence\", fontsize=FONTSIZE)\n",
    "\n",
    "    elif \"granger\" in column:\n",
    "        plt.ylabel(\"Granger\", fontsize=FONTSIZE)\n",
    "\n",
    "    else:\n",
    "        plt.ylabel(\"(A.U.)\", fontsize=FONTSIZE)\n",
    "\n",
    "\n",
    "    plt.xlim(low_freq, high_freq-1) \n",
    "    plt.xticks(np.arange(low_freq, high_freq-1, 5))\n",
    "\n",
    "    for band, (min_freq, max_freq) in BAND_TO_FREQ_PLOT.items():\n",
    "        ax.axvspan(min_freq, max_freq, facecolor=BAND_TO_FREQ_COLOR[band], alpha=0.1, label=band)\n",
    "\n",
    "    if \"power\" in column:\n",
    "        # plt.ylim(0,0.01)\n",
    "        # plt.yscale(\"log\")\n",
    "        # plt.ylim((10**-3.5,10**-0.5))\n",
    "        ax.set_ylim(auto=True)\n",
    "        pass\n",
    "    else:\n",
    "        # pass\n",
    "        plt.ylim(0, 1)\n",
    "\n",
    "    for index, row in grouped_all_trials_df.iterrows():   \n",
    "        #### DURING TRIAL ####\n",
    "        mean_power = np.nanmean(row[trial_column], axis=0)[low_freq: high_freq]\n",
    "        print(mean_power)\n",
    "\n",
    "        # nans, x= nan_helper(mean_power)\n",
    "        # mean_power[nans]= np.interp(x(nans), x(~nans), mean_power[~nans])\n",
    "        sem_power = stats.sem(row[trial_column], axis=0, ddof=0)\n",
    "\n",
    "        # sem_power = np.nanstd(row[trial_column], axis=0) / ((row[trial_column].shape[0])**0.5)\n",
    "        sem_power = sem_power[low_freq: high_freq]\n",
    "        # nans, x= nan_helper(sem_power)\n",
    "        # sem_power[nans]= np.interp(x(nans), x(~nans), sem_power[~nans])   \n",
    "\n",
    "\n",
    "        baseline_mean_power = np.nanmean(row[baseline_column], axis=0)[low_freq: high_freq]\n",
    "        print(mean_power)\n",
    "\n",
    "        baseline_sem_power = stats.sem(row[baseline_column], axis=0, ddof=0)\n",
    "        baseline_sem_power = baseline_sem_power[low_freq: high_freq]\n",
    "\n",
    "        try:\n",
    "            ax = sns.lineplot(x=current_frequencies, y=mean_power, \\\n",
    "            label=\"\"+ \" \".join(\"{}\".format(row[\"experiment_and_comp\"]).split(\"_\")), linewidth=3, linestyle=comp_to_style[row[\"experiment_and_comp\"]], color=OUTCOME_TO_COLOR[row[\"experiment_and_comp\"]])\n",
    "\n",
    "            plt.fill_between(current_frequencies, \n",
    "            mean_power - sem_power, mean_power + sem_power, \\\n",
    "            alpha=0.1, color=OUTCOME_TO_COLOR[row[\"experiment_and_comp\"]])\n",
    "\n",
    "#             ax = sns.lineplot(x=current_frequencies, y=baseline_mean_power, \\\n",
    "#             label=\"baseline \" + \" \".join(\"{}\".format(row[\"experiment_and_comp\"]).split(\"_\")), linewidth=3, linestyle=\"--\", color=OUTCOME_TO_COLOR[row[\"experiment_and_comp\"]])\n",
    "\n",
    "#             plt.fill_between(current_frequencies, \n",
    "#             baseline_mean_power - baseline_sem_power, baseline_mean_power + baseline_sem_power, \\\n",
    "#             alpha=0.1, color=OUTCOME_TO_COLOR[row[\"experiment_and_comp\"]])\n",
    "\n",
    "\n",
    "\n",
    "\n",
    "        except Exception as e: \n",
    "            print(e)\n",
    "    # plt.legend(fontsize=10)\n",
    "    plt.legend(fontsize=8, loc=\"upper right\", ncols=2)\n",
    "\n",
    "    ax.set_ylim(auto=True)\n",
    "    plt.tight_layout()\n",
    "\n",
    "    column = column.replace(\"_all_frequencies\", \"\")\n",
    "    spectra_type = column.split(\"_\")[-1]\n",
    "    brain_regions = \"_\".join((column.split(\"_\")[:-1]))\n",
    "\n",
    "    plt.savefig(\"./proc/plots/spectra/session_average/competitive/png/{}_{}hz_{}_{}_spectra.png\".format(low_freq, high_freq, spectra_type, plot_title))\n",
    "    plt.savefig(\"./proc/plots/spectra/session_average/competitive/svg/{}_{}hz_{}_{}_spectra.svg\".format(low_freq, high_freq, spectra_type, plot_title))\n",
    "    plt.show()\n",
    "\n"
   ]
  },
  {
   "cell_type": "code",
   "execution_count": null,
   "metadata": {},
   "outputs": [],
   "source": []
  },
  {
   "cell_type": "code",
   "execution_count": null,
   "metadata": {},
   "outputs": [],
   "source": [
    "raise ValueError()"
   ]
  },
  {
   "cell_type": "raw",
   "metadata": {
    "tags": []
   },
   "source": [
    "low_freq = 0\n",
    "high_freq = 51\n",
    "current_frequencies = range(low_freq, high_freq)\n",
    "\n",
    "for session in session_types:\n",
    "    session_df = averaged_LFP_SPECTRAL_DF[averaged_LFP_SPECTRAL_DF[\"recording\"].str.contains(session)].copy()\n",
    "    \n",
    "    # Apply the function to each group and each column\n",
    "    grouped_all_trials_df = session_df.groupby(\"experiment_and_comp\").agg({col: stack_arrays for col in all_frequencies_col})\n",
    "\n",
    "    grouped_all_trials_df = pd.DataFrame(grouped_all_trials_df).reset_index()    \n",
    "    \n",
    "    for column in power_columns:\n",
    "        if \"power\" not in column:\n",
    "            pass\n",
    "            continue\n",
    "        if \"trace\" in column:\n",
    "            continue\n",
    "        fig, ax = plt.subplots()\n",
    "        print(column)\n",
    "        baseline_column = \"baseline_{}\".format(column)\n",
    "        trial_column = \"trial_{}\".format(column)\n",
    "        plot_title = \"{}\".format(column).replace(\"_all_frequencies\", \"\").replace(\"_granger\", \"\").replace(\"_power\", \"\").replace(\"_coherence\", \"\")\n",
    "        if \"granger\" in column:\n",
    "            plot_title = plot_title.replace(\"_\", \" to \")\n",
    "        elif \"power\" in column:\n",
    "            pass\n",
    "        else:\n",
    "            plot_title = plot_title.replace(\"_\", \" and \")\n",
    "\n",
    "        plt.title(\"{} {} LFP\".format(preprocessing_type, plot_title))\n",
    "        \n",
    "        plt.xlabel(\"Frequency (Hz)\", fontsize=FONTSIZE)\n",
    "        \n",
    "        if \"power\" in column:\n",
    "            plt.ylabel(\"Power (A.U.)\", fontsize=FONTSIZE)\n",
    "\n",
    "        elif \"coherence\" in column:\n",
    "            plt.ylabel(\"Coherence\", fontsize=FONTSIZE)\n",
    "        \n",
    "        elif \"granger\" in column:\n",
    "            plt.ylabel(\"Granger\", fontsize=FONTSIZE)\n",
    "\n",
    "        else:\n",
    "            plt.ylabel(\"(A.U.)\", fontsize=FONTSIZE)\n",
    "\n",
    "        \n",
    "        plt.xlim(low_freq, high_freq-1) \n",
    "        plt.xticks(np.arange(low_freq, high_freq-1, 5))\n",
    "\n",
    "        for band, (min_freq, max_freq) in BAND_TO_FREQ_PLOT.items():\n",
    "            ax.axvspan(min_freq, max_freq, facecolor=BAND_TO_FREQ_COLOR[band], alpha=0.1, label=band)\n",
    "        \n",
    "        if \"power\" in column:\n",
    "            # plt.ylim(0,0.01)\n",
    "            # plt.yscale(\"log\")\n",
    "            # plt.ylim((10**-3.5,10**-0.5))\n",
    "            ax.set_ylim(auto=True)\n",
    "            pass\n",
    "        else:\n",
    "            plt.ylim(0, 1)\n",
    "            \n",
    "        for index, row in grouped_all_trials_df.iterrows():   \n",
    "            #### DURING TRIAL ####\n",
    "            mean_power = np.nanmean(row[trial_column], axis=0)[low_freq: high_freq]\n",
    "            # nans, x= nan_helper(mean_power)\n",
    "            # mean_power[nans]= np.interp(x(nans), x(~nans), mean_power[~nans])\n",
    "            \n",
    "            sem_power = np.nanstd(row[trial_column], axis=0) / ((row[trial_column].shape[0])**0.5)\n",
    "            sem_power = sem_power[low_freq: high_freq]\n",
    "            # nans, x= nan_helper(sem_power)\n",
    "            # sem_power[nans]= np.interp(x(nans), x(~nans), sem_power[~nans])   \n",
    "\n",
    "            try:\n",
    "                ax = sns.lineplot(x=current_frequencies, y=mean_power, \\\n",
    "                label=\" \".join(\"{}\".format(row[\"experiment_and_comp\"]).split(\"_\")), linewidth=3, linestyle=\"-\", color=OUTCOME_TO_COLOR[row[\"experiment_and_comp\"]])\n",
    "\n",
    "                plt.fill_between(current_frequencies, \n",
    "                mean_power - sem_power, mean_power + sem_power, \\\n",
    "                alpha=0.1, color=OUTCOME_TO_COLOR[row[\"experiment_and_comp\"]])\n",
    "            except Exception as e: \n",
    "                print(e)\n",
    "        plt.legend(fontsize=10)\n",
    "        plt.tight_layout()\n",
    "        \n",
    "        column = column.replace(\"_all_frequencies\", \"\")\n",
    "        spectra_type = column.split(\"_\")[-1]\n",
    "        brain_regions = \"_\".join((column.split(\"_\")[:-1]))\n",
    "        \n",
    "        plt.savefig(\"./proc/plots/spectra/session_average/trial_type/{}_{}hz_{}_{}_{}_spectra.png\".format(low_freq, high_freq, spectra_type, session, plot_title))\n",
    "        # plt.savefig(\"./proc/plots/spectra/session_average/trial_type/svg/{}_{}_{}_{}_spectra.svg\".format(spectra_type, session, brain_regions, preprocessing_type))\n",
    "        plt.show()\n",
    "        \n",
    "    "
   ]
  },
  {
   "cell_type": "code",
   "execution_count": null,
   "metadata": {},
   "outputs": [],
   "source": []
  },
  {
   "cell_type": "code",
   "execution_count": null,
   "metadata": {
    "tags": []
   },
   "outputs": [],
   "source": [
    "Path(\"./proc/plots/spectra/subj/png\").mkdir(parents=True, exist_ok=True)\n"
   ]
  },
  {
   "cell_type": "code",
   "execution_count": null,
   "metadata": {
    "tags": []
   },
   "outputs": [],
   "source": [
    "low_freq = 0\n",
    "high_freq = 51\n",
    "current_frequencies = range(low_freq, high_freq)\n",
    "\n",
    "# Iterating through each power column\n",
    "for column in power_columns:\n",
    "    if \"power\" not in column:\n",
    "        pass\n",
    "    if \"trace\" in column:\n",
    "        continue\n",
    "\n",
    "    print(column)\n",
    "    baseline_column = \"baseline_{}\".format(column)\n",
    "    trial_column = \"trial_{}\".format(column)\n",
    "    \n",
    "    plot_title = \"{}\".format(column).replace(\"_all_frequencies\", \"\").replace(\"_granger\", \"\").replace(\"_power\", \"\").replace(\"_coherence\", \"\")\n",
    "    if \"granger\" in column:\n",
    "        plot_title = plot_title.replace(\"_\", \" to \")\n",
    "    elif \"power\" in column:\n",
    "        pass\n",
    "    elif \"coherence\" in column:\n",
    "        plot_title = \" and \".join(plot_title.split(\"_\")[:2])\n",
    "\n",
    "    else:\n",
    "        plot_title = plot_title.replace(\"_\", \" and \")\n",
    "    \n",
    "    session_max = averaged_LFP_SPECTRAL_DF[trial_column].apply(lambda x: np.median(x[low_freq:high_freq])).max() * 10\n",
    "    print(session_max)\n",
    "    \n",
    "    column = column.replace(\"_all_frequencies\", \"\")\n",
    "    spectra_type = column.split(\"_\")[-1]\n",
    "    brain_regions = \"_\".join((column.split(\"_\")[:-1]))\n",
    "    \n",
    "    for session in session_types:\n",
    "        session_df = averaged_LFP_SPECTRAL_DF[averaged_LFP_SPECTRAL_DF[\"recording\"].str.contains(session)].copy()\n",
    "        \n",
    "        \n",
    "        \n",
    "        for subj in session_df[\"current_subject\"].unique():\n",
    "            subj_df = session_df[session_df[\"current_subject\"] == subj].copy()\n",
    "\n",
    "            # Apply the function to each group and each column\n",
    "            grouped_all_trials_df = subj_df.groupby('experiment_and_comp').agg({col: stack_arrays for col in [baseline_column, trial_column]})\n",
    "            grouped_all_trials_df = pd.DataFrame(grouped_all_trials_df).reset_index()\n",
    "            \n",
    "            fig, ax = plt.subplots()\n",
    "            \n",
    "            plt.title(\"{} {} {} LFP\".format(preprocessing_type, plot_title, subj))\n",
    "            plt.xlabel(\"Frequency (Hz)\", fontsize=FONTSIZE)\n",
    "\n",
    "            if \"power\" in column:\n",
    "                plt.ylabel(\"Power (A.U.)\", fontsize=FONTSIZE)\n",
    "            elif \"coherence\" in column:\n",
    "                plt.ylabel(\"Coherence\", fontsize=FONTSIZE)\n",
    "            elif \"granger\" in column:\n",
    "                plt.ylabel(\"Granger\", fontsize=FONTSIZE)\n",
    "            else:\n",
    "                plt.ylabel(\"(A.U.)\", fontsize=FONTSIZE)\n",
    "                \n",
    "            plt.xlim(low_freq, high_freq-1) \n",
    "            plt.xticks(np.arange(low_freq, high_freq-1, 5))\n",
    "            \n",
    "            # Shading the frequency bands\n",
    "            for band, (min_freq, max_freq) in BAND_TO_FREQ_PLOT.items():\n",
    "                ax.axvspan(min_freq, max_freq, facecolor=BAND_TO_FREQ_COLOR[band], alpha=0.1, label=band)\n",
    "            \n",
    "            if \"power\" in column:\n",
    "                # plt.ylim(0, session_max)\n",
    "                # plt.ylim(0, brain_region_to_ylim[brain_regions])\n",
    "                pass\n",
    "            else:\n",
    "                plt.ylim(0, 1)\n",
    "            \n",
    "            for index, row in grouped_all_trials_df.iterrows():   \n",
    "                #### DURING TRIAL ####\n",
    "                mean_power = np.nanmean(row[trial_column], axis=0, dtype=float)[low_freq: high_freq]\n",
    "                sem_power = np.nanstd(row[trial_column], axis=0, dtype=float) / ((row[trial_column].shape[0])**0.5)\n",
    "                sem_power = sem_power[low_freq: high_freq]\n",
    "\n",
    "                try:\n",
    "                    ax = sns.lineplot(x=current_frequencies, y=mean_power, \\\n",
    "                    label=\" \".join(\"{}\".format(row[\"experiment_and_comp\"]).split(\"_\")), linewidth=3, linestyle=comp_to_style[row[\"experiment_and_comp\"]],  color=OUTCOME_TO_COLOR[row[\"experiment_and_comp\"]])\n",
    "\n",
    "                    plt.fill_between(current_frequencies, \n",
    "                    mean_power - sem_power, mean_power + sem_power, \\\n",
    "                    alpha=0.1, color=OUTCOME_TO_COLOR[row[\"experiment_and_comp\"]])\n",
    "                except Exception as e: \n",
    "                    print(e)\n",
    "            plt.legend(fontsize=8, loc=\"upper right\", ncols=2)\n",
    "            plt.tight_layout()\n",
    "\n",
    "\n",
    "            plt.savefig(\"./proc/plots/spectra/subj/png/{}_{}hz_{}_{}_{}_{}_spectra.png\".format(low_freq, high_freq, spectra_type, subj, session, plot_title))\n",
    "            # plt.savefig(\"./proc/plots/spectra/subj/svg/{}_{}_{}_{}_{}_spectra.svg\".format(preprocessing_type, spectra_type, brain_regions, session, subj))\n",
    "            plt.show()"
   ]
  },
  {
   "cell_type": "raw",
   "metadata": {},
   "source": [
    "low_freq = 0\n",
    "high_freq = 51\n",
    "current_frequencies = range(low_freq, high_freq)\n",
    "\n",
    "# Iterating through each power column\n",
    "for column in power_columns:\n",
    "    if \"power\" not in column:\n",
    "        pass\n",
    "    if \"trace\" in column:\n",
    "        continue\n",
    "\n",
    "    print(column)\n",
    "    baseline_column = \"baseline_{}\".format(column)\n",
    "    trial_column = \"trial_{}\".format(column)\n",
    "    \n",
    "    plot_title = \"{}\".format(column).replace(\"_all_frequencies\", \"\").replace(\"_granger\", \"\").replace(\"_power\", \"\").replace(\"_coherence\", \"\")\n",
    "    if \"granger\" in column:\n",
    "        plot_title = plot_title.replace(\"_\", \" to \")\n",
    "    elif \"power\" in column:\n",
    "        pass\n",
    "    elif \"coherence\" in column:\n",
    "        plot_title = \" and \".join(plot_title.split(\"_\")[:2])\n",
    "\n",
    "    else:\n",
    "        plot_title = plot_title.replace(\"_\", \" and \")\n",
    "    \n",
    "    session_max = averaged_LFP_SPECTRAL_DF[trial_column].apply(lambda x: np.median(x[low_freq:high_freq])).max() * 10\n",
    "    print(session_max)\n",
    "    \n",
    "    column = column.replace(\"_all_frequencies\", \"\")\n",
    "    spectra_type = column.split(\"_\")[-1]\n",
    "    brain_regions = \"_\".join((column.split(\"_\")[:-1]))\n",
    "    \n",
    "    for session in session_types:\n",
    "        session_df = averaged_LFP_SPECTRAL_DF[averaged_LFP_SPECTRAL_DF[\"recording\"].str.contains(session)].copy()\n",
    "        \n",
    "        \n",
    "        \n",
    "        for subj in session_df[\"current_subject\"].unique():\n",
    "            subj_df = session_df[session_df[\"current_subject\"] == subj].copy()\n",
    "\n",
    "            # Apply the function to each group and each column\n",
    "            grouped_all_trials_df = subj_df.groupby('experiment_and_comp').agg({col: stack_arrays for col in [baseline_column, trial_column]})\n",
    "            grouped_all_trials_df = pd.DataFrame(grouped_all_trials_df).reset_index()\n",
    "            \n",
    "            fig, ax = plt.subplots()\n",
    "            \n",
    "            plt.title(\"{} {} {} LFP\".format(preprocessing_type, plot_title, subj))\n",
    "            plt.xlabel(\"Frequency (Hz)\", fontsize=FONTSIZE)\n",
    "\n",
    "            if \"power\" in column:\n",
    "                plt.ylabel(\"Power (A.U.)\", fontsize=FONTSIZE)\n",
    "            elif \"coherence\" in column:\n",
    "                plt.ylabel(\"Coherence\", fontsize=FONTSIZE)\n",
    "            elif \"granger\" in column:\n",
    "                plt.ylabel(\"Granger\", fontsize=FONTSIZE)\n",
    "            else:\n",
    "                plt.ylabel(\"(A.U.)\", fontsize=FONTSIZE)\n",
    "                \n",
    "            plt.xlim(low_freq, high_freq-1) \n",
    "            plt.xticks(np.arange(low_freq, high_freq-1, 5))\n",
    "            \n",
    "            # Shading the frequency bands\n",
    "            for band, (min_freq, max_freq) in BAND_TO_FREQ_PLOT.items():\n",
    "                ax.axvspan(min_freq, max_freq, facecolor=BAND_TO_FREQ_COLOR[band], alpha=0.1, label=band)\n",
    "            \n",
    "            if \"power\" in column:\n",
    "                # plt.ylim(0, session_max)\n",
    "                # plt.ylim(0, brain_region_to_ylim[brain_regions])\n",
    "                pass\n",
    "            else:\n",
    "                plt.ylim(0, 1)\n",
    "            \n",
    "            for index, row in grouped_all_trials_df.iterrows():   \n",
    "                #### DURING TRIAL ####\n",
    "                mean_power = np.nanmean(row[trial_column], axis=0, dtype=float)[low_freq: high_freq]\n",
    "                sem_power = np.nanstd(row[trial_column], axis=0, dtype=float) / ((row[trial_column].shape[0])**0.5)\n",
    "                sem_power = sem_power[low_freq: high_freq]\n",
    "\n",
    "                try:\n",
    "                    ax = sns.lineplot(x=current_frequencies, y=mean_power, \\\n",
    "                    label=\" \".join(\"{}\".format(row[\"experiment_and_comp\"]).split(\"_\")), linewidth=3, linestyle=\"-\", color=OUTCOME_TO_COLOR[row[\"experiment_and_comp\"]])\n",
    "\n",
    "                    plt.fill_between(current_frequencies, \n",
    "                    mean_power - sem_power, mean_power + sem_power, \\\n",
    "                    alpha=0.1, color=OUTCOME_TO_COLOR[row[\"experiment_and_comp\"]])\n",
    "                except Exception as e: \n",
    "                    print(e)\n",
    "            plt.legend(fontsize=10)\n",
    "            plt.tight_layout()\n",
    "\n",
    "\n",
    "            plt.savefig(\"./proc/plots/spectra/subj/png/{}_{}hz_{}_{}_{}_spectra.png\".format(low_freq, high_freq, spectra_type, subj, session, plot_title))\n",
    "            # plt.savefig(\"./proc/plots/spectra/subj/svg/{}_{}_{}_{}_{}_spectra.svg\".format(preprocessing_type, spectra_type, brain_regions, session, subj))\n",
    "            plt.show()"
   ]
  },
  {
   "cell_type": "code",
   "execution_count": null,
   "metadata": {},
   "outputs": [],
   "source": [
    "raise ValueError()"
   ]
  },
  {
   "cell_type": "code",
   "execution_count": null,
   "metadata": {
    "tags": []
   },
   "outputs": [],
   "source": [
    "export_LFP_SPECTRAL_DF = export_LFP_SPECTRAL_DF[columns_to_keep].drop_duplicates(subset=['recording', 'tone_start_timestamp'])"
   ]
  },
  {
   "cell_type": "code",
   "execution_count": null,
   "metadata": {
    "tags": []
   },
   "outputs": [],
   "source": [
    "recording_dict = defaultdict(dict)\n",
    "for recording in export_LFP_SPECTRAL_DF[\"recording\"].unique():\n",
    "    recording_dict[recording] = {}\n",
    "    for label in export_LFP_SPECTRAL_DF[\"experiment_and_comp\"].unique():\n",
    "        current_df = export_LFP_SPECTRAL_DF[(export_LFP_SPECTRAL_DF[\"recording\"] == recording) & (export_LFP_SPECTRAL_DF[\"experiment_and_comp\"] == label)].copy()\n",
    "        current_list = current_df.apply(lambda row: np.array([row[\"tone_start_timestamp\"]//20, row[\"tone_stop_timestamp\"]//20]).astype(int), axis=1).to_list()\n",
    "        if current_list:\n",
    "            recording_dict[recording][label] = np.vstack(current_list)\n",
    "        else: \n",
    "            recording_dict[recording][label] = np.array([]).astype(int)"
   ]
  },
  {
   "cell_type": "code",
   "execution_count": null,
   "metadata": {
    "tags": []
   },
   "outputs": [],
   "source": [
    "import pickle\n",
    "\n",
    "with open(\"./proc/rce2_trial_timestamps.pkl\", 'wb') as handle:\n",
    "    pickle.dump(recording_dict, handle, protocol=pickle.HIGHEST_PROTOCOL)"
   ]
  },
  {
   "cell_type": "code",
   "execution_count": null,
   "metadata": {
    "tags": []
   },
   "outputs": [],
   "source": [
    "recording_dict = defaultdict(dict)\n",
    "for recording in export_LFP_SPECTRAL_DF[\"recording\"].unique():\n",
    "    recording_dict[recording] = {}\n",
    "    for label in export_LFP_SPECTRAL_DF[\"experiment_and_comp\"].unique():\n",
    "        current_df = export_LFP_SPECTRAL_DF[(export_LFP_SPECTRAL_DF[\"recording\"] == recording) & (export_LFP_SPECTRAL_DF[\"experiment_and_comp\"] == label)].copy()\n",
    "        current_list = current_df.apply(lambda row: np.array([row[\"tone_start_timestamp\"]//20, row[\"tone_stop_timestamp\"]//20]).astype(int), axis=1).to_list()\n",
    "        if current_list:\n",
    "            recording_dict[recording][label] = np.vstack(current_list)\n",
    "        else: \n",
    "            recording_dict[recording][label] = np.array([]).astype(int)"
   ]
  },
  {
   "cell_type": "code",
   "execution_count": null,
   "metadata": {
    "tags": []
   },
   "outputs": [],
   "source": [
    "recording_dict"
   ]
  },
  {
   "cell_type": "code",
   "execution_count": null,
   "metadata": {
    "tags": []
   },
   "outputs": [],
   "source": [
    "import pickle\n",
    "\n",
    "with open(\"./proc/rce2_competitive_trial_timestamps.pkl\", 'wb') as handle:\n",
    "    pickle.dump(recording_dict, handle, protocol=pickle.HIGHEST_PROTOCOL)"
   ]
  }
 ],
 "metadata": {
  "deepnote": {},
  "deepnote_execution_queue": [],
  "deepnote_notebook_id": "cf8fe3695d074ee7887fdf6459cbf5ce",
  "kernelspec": {
   "display_name": "spike_interface_0_100_5",
   "language": "python",
   "name": "spike_interface_0_100_5"
  },
  "language_info": {
   "codemirror_mode": {
    "name": "ipython",
    "version": 3
   },
   "file_extension": ".py",
   "mimetype": "text/x-python",
   "name": "python",
   "nbconvert_exporter": "python",
   "pygments_lexer": "ipython3",
   "version": "3.10.14"
  }
 },
 "nbformat": 4,
 "nbformat_minor": 4
}
