{
 "cells": [
  {
   "cell_type": "markdown",
   "metadata": {
    "cell_id": "c3a02adc9e884466bc8c79db549cc3d2",
    "deepnote_cell_type": "text-cell-h1",
    "formattedRanges": [
     {
      "fromCodePoint": 0,
      "marks": {
       "bold": true,
       "underline": true
      },
      "toCodePoint": 17,
      "type": "marks"
     }
    ]
   },
   "source": [
    "# All oscillation analysis"
   ]
  },
  {
   "cell_type": "markdown",
   "metadata": {
    "cell_id": "4546bee655b14a5dbf393161f1228e60",
    "deepnote_cell_type": "text-cell-p",
    "formattedRanges": []
   },
   "source": [
    "Brief 1-2 sentence description of notebook."
   ]
  },
  {
   "cell_type": "code",
   "execution_count": null,
   "metadata": {},
   "outputs": [],
   "source": []
  },
  {
   "cell_type": "code",
   "execution_count": 1,
   "metadata": {
    "tags": []
   },
   "outputs": [],
   "source": [
    "# Imports of all used packages and libraries\n",
    "import sys\n",
    "import os\n",
    "import git\n",
    "import glob\n",
    "from collections import defaultdict"
   ]
  },
  {
   "cell_type": "code",
   "execution_count": 2,
   "metadata": {
    "tags": []
   },
   "outputs": [],
   "source": [
    "git_repo = git.Repo(\".\", search_parent_directories=True)\n",
    "git_root = git_repo.git.rev_parse(\"--show-toplevel\")"
   ]
  },
  {
   "cell_type": "code",
   "execution_count": 3,
   "metadata": {
    "tags": []
   },
   "outputs": [
    {
     "data": {
      "text/plain": [
       "'/blue/npadillacoreano/ryoi360/projects/reward_comp/repos/reward_competition_extention'"
      ]
     },
     "execution_count": 3,
     "metadata": {},
     "output_type": "execute_result"
    }
   ],
   "source": [
    "git_root"
   ]
  },
  {
   "cell_type": "code",
   "execution_count": 4,
   "metadata": {
    "tags": []
   },
   "outputs": [],
   "source": [
    "sys.path.insert(0, os.path.join(git_root, 'src'))"
   ]
  },
  {
   "cell_type": "code",
   "execution_count": 5,
   "metadata": {
    "tags": []
   },
   "outputs": [],
   "source": [
    "import warnings\n",
    "warnings.filterwarnings('ignore')"
   ]
  },
  {
   "cell_type": "code",
   "execution_count": 6,
   "metadata": {
    "tags": []
   },
   "outputs": [],
   "source": [
    "import os\n",
    "import collections\n",
    "import itertools\n",
    "from collections import defaultdict\n",
    "from itertools import combinations"
   ]
  },
  {
   "cell_type": "raw",
   "metadata": {},
   "source": [
    "os.environ[\"SPECTRAL_CONNECTIVITY_ENABLE_GPU\"] = \"true\"\n",
    "import cupy as cp"
   ]
  },
  {
   "cell_type": "code",
   "execution_count": 7,
   "metadata": {
    "cell_id": "03b495cefa6a4798a44c7f2e4c6a3ea7",
    "deepnote_cell_type": "code",
    "deepnote_to_be_reexecuted": false,
    "execution_millis": 21,
    "execution_start": 1691424003626,
    "source_hash": null,
    "tags": []
   },
   "outputs": [],
   "source": [
    "# Imports of all used packages and libraries\n",
    "import numpy as np\n",
    "import pandas as pd\n",
    "from scipy import stats\n",
    "from scipy.stats import mannwhitneyu\n"
   ]
  },
  {
   "cell_type": "code",
   "execution_count": 8,
   "metadata": {
    "tags": []
   },
   "outputs": [],
   "source": [
    "import matplotlib\n",
    "import matplotlib.colors as mcolors\n",
    "import matplotlib.pyplot as plt\n",
    "import matplotlib.cm as cm\n",
    "import seaborn as sns\n",
    "import colorsys"
   ]
  },
  {
   "cell_type": "code",
   "execution_count": 9,
   "metadata": {
    "tags": []
   },
   "outputs": [],
   "source": [
    "from sklearn.metrics import confusion_matrix"
   ]
  },
  {
   "cell_type": "code",
   "execution_count": 10,
   "metadata": {
    "tags": []
   },
   "outputs": [],
   "source": [
    "from spectral_connectivity import Multitaper, Connectivity\n",
    "import spectral_connectivity"
   ]
  },
  {
   "cell_type": "code",
   "execution_count": 11,
   "metadata": {
    "tags": []
   },
   "outputs": [],
   "source": [
    "import utilities.helper\n",
    "import trodes.read_exported"
   ]
  },
  {
   "cell_type": "code",
   "execution_count": 12,
   "metadata": {
    "tags": []
   },
   "outputs": [],
   "source": [
    "FONTSIZE = 20"
   ]
  },
  {
   "cell_type": "code",
   "execution_count": 13,
   "metadata": {
    "tags": []
   },
   "outputs": [],
   "source": [
    "font = {'weight' : 'medium',\n",
    "        'size'   : 20}\n",
    "\n",
    "matplotlib.rc('font', **font)"
   ]
  },
  {
   "cell_type": "markdown",
   "metadata": {
    "cell_id": "d290bac2c17940bfbc0f9296beaf70e5",
    "deepnote_cell_type": "text-cell-h2",
    "formattedRanges": []
   },
   "source": [
    "## Inputs & Data"
   ]
  },
  {
   "cell_type": "markdown",
   "metadata": {
    "cell_id": "e528ce19c608425292151930d380f49f",
    "deepnote_cell_type": "text-cell-p",
    "formattedRanges": []
   },
   "source": [
    "Explanation of each input and where it comes from."
   ]
  },
  {
   "cell_type": "code",
   "execution_count": 14,
   "metadata": {
    "cell_id": "6cf83a5811054461a718a71673d09aab",
    "deepnote_cell_type": "code",
    "deepnote_to_be_reexecuted": false,
    "execution_millis": 373,
    "execution_start": 1691424003628,
    "source_hash": null,
    "tags": []
   },
   "outputs": [],
   "source": [
    "# Inputs and Required data loading\n",
    "# input varaible names are in all caps snake case\n",
    "# Whenever an input changes or is used for processing \n",
    "# the vairables are all lower in snake case\n",
    "OUTPUT_DIR = r\"./proc/\" # where data is saved should always be shown in the inputs\n",
    "os.makedirs(OUTPUT_DIR, exist_ok=True)\n",
    "OUTPUT_PREFIX = \"rce_pilot_2\""
   ]
  },
  {
   "cell_type": "code",
   "execution_count": 15,
   "metadata": {
    "tags": []
   },
   "outputs": [],
   "source": [
    "TRIAL_LABELS_DF = pd.read_excel(\"./proc/rce2_finalized_trial_labels.xlsx\")"
   ]
  },
  {
   "cell_type": "raw",
   "metadata": {
    "tags": []
   },
   "source": [
    "LFP_SPECTRAL_DF = pd.read_pickle(\"./proc/rce_pilot_2_03_spectral_bands.pkl\")"
   ]
  },
  {
   "cell_type": "code",
   "execution_count": 16,
   "metadata": {},
   "outputs": [],
   "source": [
    "LFP_SPECTRAL_DF = pd.read_pickle(\"./proc/rce_pilot_2_04_spectral_and_sleap.pkl\")"
   ]
  },
  {
   "cell_type": "code",
   "execution_count": 17,
   "metadata": {
    "tags": []
   },
   "outputs": [],
   "source": [
    "# CHANNEL_MAP_AND_ALL_TRIALS_DF = pd.read_pickle(\"./proc/full_baseline_and_trial_lfp_traces.pkl\")\n",
    "# MERGED_TRIALS_AND_VIDEO = pd.read_pickle(\"./proc/trial_SLEAP_and_metadata.pkl\")"
   ]
  },
  {
   "cell_type": "raw",
   "metadata": {
    "tags": []
   },
   "source": [
    "OUTCOME_TO_COLOR = {'lose': \"red\",\n",
    " 'omission': \"orange\",\n",
    " 'rewarded': \"green\",\n",
    " 'win': \"blue\"}\n",
    "\n",
    "OUTCOME_TO_COLOR = {'lose': \"#951a1d\",\n",
    " 'omission': \"#af780d\",\n",
    " 'rewarded': \"#0499af\",\n",
    " 'win': \"#3853a3\",\n",
    "'lose_comp': \"#951a1d\",\n",
    " 'win_comp': \"#3853a3\",\n",
    "'lose_non_comp': \"#e67073\",\n",
    " 'win_non_comp': \"#93a5da\"}"
   ]
  },
  {
   "cell_type": "code",
   "execution_count": 18,
   "metadata": {
    "tags": []
   },
   "outputs": [],
   "source": [
    "TRIAL_OR_BASELINE_TO_STYLE = {'baseline': \"--\", \"trial\": \"-\"}"
   ]
  },
  {
   "cell_type": "code",
   "execution_count": 19,
   "metadata": {
    "tags": []
   },
   "outputs": [],
   "source": [
    "BIN_TO_VELOCITY = {0: \"0 to 2.5cm/s\", 1: \"2.5 to 5cm/s\", 2: \"5 to 10 cm/s\", 3: \"10cm/s+\"}"
   ]
  },
  {
   "cell_type": "code",
   "execution_count": 20,
   "metadata": {
    "tags": []
   },
   "outputs": [],
   "source": [
    "ALL_BANDS = [\"theta\", \"beta\", \"gamma\"]\n",
    "BAND_TO_FREQ = {\"theta\": {\"low_freq\": 6, \"high_freq\": 11}, \"beta\": {\"low_freq\": 20, \"high_freq\": 31}, \"gamma\": {\"low_freq\": 30, \"high_freq\": 51}}\n",
    "BAND_TO_FREQ = {\"theta\": (6,11), \"beta\": (20,31), \"gamma\": (30,51)}"
   ]
  },
  {
   "cell_type": "code",
   "execution_count": 21,
   "metadata": {
    "tags": []
   },
   "outputs": [],
   "source": [
    "GROUPINGS = \"trial_outcome\"\n",
    "# GROUPINGS = \"competition_closeness\""
   ]
  },
  {
   "cell_type": "code",
   "execution_count": 22,
   "metadata": {
    "tags": []
   },
   "outputs": [],
   "source": [
    "FONTSIZE=20"
   ]
  },
  {
   "cell_type": "code",
   "execution_count": 23,
   "metadata": {
    "tags": []
   },
   "outputs": [],
   "source": [
    "FULL_LFP_TRACES_PKL = \"{}_10_per_trial_spectral_bans_sleap.pkl\".format(OUTPUT_PREFIX)"
   ]
  },
  {
   "cell_type": "markdown",
   "metadata": {
    "cell_id": "e3ee4891d43a4ac287413afc552ca289",
    "deepnote_cell_type": "text-cell-h2",
    "formattedRanges": []
   },
   "source": [
    "## Outputs"
   ]
  },
  {
   "cell_type": "markdown",
   "metadata": {
    "cell_id": "9ccbf6cc70fd4d379fa29317f733771f",
    "deepnote_cell_type": "text-cell-p",
    "formattedRanges": []
   },
   "source": [
    "Describe each output that the notebook creates. "
   ]
  },
  {
   "cell_type": "markdown",
   "metadata": {
    "cell_id": "fc8e8920a6944918a15fac575cdf6e78",
    "deepnote_cell_type": "text-cell-bullet",
    "formattedRanges": []
   },
   "source": [
    "- Is it a plot or is it data?"
   ]
  },
  {
   "cell_type": "markdown",
   "metadata": {
    "cell_id": "1e639d4776a84aa9ac8ded2e14fa57db",
    "deepnote_cell_type": "text-cell-bullet",
    "formattedRanges": []
   },
   "source": [
    "- How valuable is the output and why is it valuable or useful?"
   ]
  },
  {
   "cell_type": "markdown",
   "metadata": {},
   "source": [
    "## Functions "
   ]
  },
  {
   "cell_type": "code",
   "execution_count": 24,
   "metadata": {
    "tags": []
   },
   "outputs": [],
   "source": [
    "def generate_pairs(lst):\n",
    "    pairs = []\n",
    "    n = len(lst)\n",
    "    for i in range(n):\n",
    "        for j in range(i+1, n):\n",
    "            pairs.append((lst[i], lst[j]))\n",
    "    return pairs"
   ]
  },
  {
   "cell_type": "code",
   "execution_count": 25,
   "metadata": {
    "tags": []
   },
   "outputs": [],
   "source": [
    "def nested_dict():\n",
    "    return defaultdict(dict)"
   ]
  },
  {
   "cell_type": "code",
   "execution_count": 26,
   "metadata": {
    "tags": []
   },
   "outputs": [],
   "source": [
    "def mean_of_counter(counter):\n",
    "    # Extract values from the Counter and calculate the mean\n",
    "    values = list(counter.values())\n",
    "    return sum(values) / len(values) if values else 0  # Prevent division by zero"
   ]
  },
  {
   "cell_type": "code",
   "execution_count": 27,
   "metadata": {
    "tags": []
   },
   "outputs": [],
   "source": [
    "def adjust_lightness(color, amount=0.5):\n",
    "    \"\"\"\n",
    "    Adjusts the lightness of the given color by the provided amount.\n",
    "    :param color: Input color in some format that matplotlib's `to_rgb` can handle.\n",
    "    :param amount: Amount to adjust. > 1 for lighter, < 1 for darker.\n",
    "    :return: Adjusted color.\n",
    "    \"\"\"\n",
    "    import colorsys\n",
    "    c = mcolors.to_rgb(color)\n",
    "    h, l, s = colorsys.rgb_to_hls(*c)\n",
    "    return colorsys.hls_to_rgb(h, max(0, min(1, amount * l)), s)"
   ]
  },
  {
   "cell_type": "code",
   "execution_count": 28,
   "metadata": {
    "tags": []
   },
   "outputs": [],
   "source": [
    "def generate_gradient_colors(base_color, num_colors=10):\n",
    "    \"\"\"\n",
    "    Generate gradient colors based on a base color.\n",
    "    \n",
    "    :param base_color: The base color to create a gradient from.\n",
    "    :param num_colors: The number of gradient colors to generate.\n",
    "    :return: List of colors.\n",
    "    \"\"\"\n",
    "    # Convert base color to HLS (Hue, Lightness, Saturation)\n",
    "    h, l, s = colorsys.rgb_to_hls(*mcolors.to_rgb(base_color))\n",
    "\n",
    "    # Determine the step size for lightness\n",
    "    middle_index = num_colors // 2\n",
    "    lightness_step = l / (middle_index if middle_index > 0 else 1)\n",
    "\n",
    "    colors = []\n",
    "    for i in range(num_colors):\n",
    "        if i < middle_index:\n",
    "            # For the lighter colors (before the middle)\n",
    "            new_lightness = l + (middle_index - i) * lightness_step\n",
    "        elif i == middle_index:\n",
    "            # The middle color remains the base color\n",
    "            new_lightness = l\n",
    "        else:\n",
    "            # For the darker colors (after the middle)\n",
    "            new_lightness = l - (i - middle_index) * lightness_step\n",
    "\n",
    "        # Ensure new lightness is within the valid range [0, 1]\n",
    "        new_lightness = max(0, min(new_lightness, 1))\n",
    "\n",
    "        new_color = colorsys.hls_to_rgb(h, new_lightness, s)\n",
    "        colors.append(new_color)\n",
    "\n",
    "    return colors"
   ]
  },
  {
   "cell_type": "code",
   "execution_count": null,
   "metadata": {},
   "outputs": [],
   "source": []
  },
  {
   "cell_type": "code",
   "execution_count": 29,
   "metadata": {
    "tags": []
   },
   "outputs": [],
   "source": [
    "def get_significance_stars_from_p_value(p_value, number_of_comparisons=3):\n",
    "    \"\"\"\n",
    "    \"\"\"\n",
    "    if p_value <= 0.001 / number_of_comparisons:\n",
    "        return \"***\"\n",
    "    elif p_value <= 0.01 / number_of_comparisons:\n",
    "        return \"***\"\n",
    "    elif p_value <= 0.05 / number_of_comparisons:\n",
    "        return \"*\"\n",
    "    else:\n",
    "        return \"\""
   ]
  },
  {
   "cell_type": "code",
   "execution_count": 30,
   "metadata": {
    "tags": []
   },
   "outputs": [],
   "source": [
    "def filter_spike_times(arr_2d, start, stop, padding=-1):\n",
    "    \"\"\"\n",
    "    Filters a 2D array based on a start and stop condition and pads shorter arrays to match the length of the longest array.\n",
    "\n",
    "    Parameters:\n",
    "    arr_2d (numpy.ndarray): 2D array to be filtered and padded.\n",
    "    start (int or float): Lower bound of the condition.\n",
    "    stop (int or float): Upper bound of the condition.\n",
    "    padding (int or float): Value to use for padding, defaults to -1.\n",
    "\n",
    "    Returns:\n",
    "    numpy.ndarray: A 2D array where each inner array has been filtered based on the condition and padded to match the length of the longest array.\n",
    "    \"\"\"\n",
    "\n",
    "    # Filter each row in arr_2d based on the condition\n",
    "    masked_data = [row[(row >= start) & (row < stop)] for row in arr_2d]\n",
    "\n",
    "    # Determine the maximum length of arrays in the list\n",
    "    max_length = max(len(arr) for arr in masked_data)\n",
    "\n",
    "    # Pad each array in masked_data with the padding value so they all have the same length (max_length)\n",
    "    padded_arrays = [np.concatenate([x, np.full([max_length - len(x)], padding)]) for x in masked_data]\n",
    "\n",
    "    # Convert the list of arrays to a 2D numpy array\n",
    "    padded_arrays = np.array(padded_arrays)\n",
    "\n",
    "    return padded_arrays"
   ]
  },
  {
   "cell_type": "markdown",
   "metadata": {
    "cell_id": "8999d19b6b7d4d63bc90f0b0bd9ab085",
    "deepnote_cell_type": "text-cell-h2",
    "formattedRanges": []
   },
   "source": [
    "## Processing"
   ]
  },
  {
   "cell_type": "markdown",
   "metadata": {
    "cell_id": "9b36cdf08567463082b005cb0dec684b",
    "deepnote_cell_type": "text-cell-p",
    "formattedRanges": []
   },
   "source": [
    "Describe what is done to the data here and how inputs are manipulated to generate outputs. "
   ]
  },
  {
   "cell_type": "code",
   "execution_count": 31,
   "metadata": {
    "cell_id": "89aaba237c644628b1b37604b75e7cb1",
    "deepnote_cell_type": "code",
    "tags": []
   },
   "outputs": [],
   "source": [
    "# As much code and as many cells as required\n",
    "# includes EDA and playing with data\n",
    "# GO HAM!\n",
    "\n",
    "# Ideally functions are defined here first and then data is processed using the functions\n",
    "\n",
    "# function names are short and in snake case all lowercase\n",
    "# a function name should be unique but does not have to describe the function\n",
    "# doc strings describe functions not function names\n",
    "\n",
    "\n"
   ]
  },
  {
   "cell_type": "code",
   "execution_count": 32,
   "metadata": {
    "tags": []
   },
   "outputs": [
    {
     "data": {
      "text/plain": [
       "Index(['cohort', 'session_dir', 'tone_frames', 'box_1_port_entry_frames',\n",
       "       'box_2_port_entry_frames', 'video_name', 'session_path', 'recording',\n",
       "       'current_subject', 'subject',\n",
       "       ...\n",
       "       'reward_port', 'box_bottom_left', 'box_bottom_right', 'agent',\n",
       "       'subject_locations', 'agent_locations', 'subject_thorax_velocity',\n",
       "       'agent_thorax_velocity', 'subject_thorax_to_reward_port',\n",
       "       'agent_thorax_to_reward_port'],\n",
       "      dtype='object', length=168)"
      ]
     },
     "execution_count": 32,
     "metadata": {},
     "output_type": "execute_result"
    }
   ],
   "source": [
    "LFP_SPECTRAL_DF.columns"
   ]
  },
  {
   "cell_type": "code",
   "execution_count": 33,
   "metadata": {
    "scrolled": true,
    "tags": []
   },
   "outputs": [
    {
     "data": {
      "text/plain": [
       "Index(['tracked_subject', 'box_number', 'sleap_name', 'video_name',\n",
       "       'current_subject', 'tone_start_frame', 'reward_start_frame',\n",
       "       'tone_stop_frame', 'condition', 'competition_closeness', 'notes',\n",
       "       'experiment', 'session_dir', 'all_subjects', 'tone_start_timestamp',\n",
       "       'tone_stop_timestamp', 'trial_label'],\n",
       "      dtype='object')"
      ]
     },
     "execution_count": 33,
     "metadata": {},
     "output_type": "execute_result"
    }
   ],
   "source": [
    "TRIAL_LABELS_DF.columns"
   ]
  },
  {
   "cell_type": "markdown",
   "metadata": {},
   "source": [
    "## Merging the labels and LFP spectral"
   ]
  },
  {
   "cell_type": "code",
   "execution_count": 34,
   "metadata": {
    "tags": []
   },
   "outputs": [
    {
     "data": {
      "text/html": [
       "<div>\n",
       "<style scoped>\n",
       "    .dataframe tbody tr th:only-of-type {\n",
       "        vertical-align: middle;\n",
       "    }\n",
       "\n",
       "    .dataframe tbody tr th {\n",
       "        vertical-align: top;\n",
       "    }\n",
       "\n",
       "    .dataframe thead th {\n",
       "        text-align: right;\n",
       "    }\n",
       "</style>\n",
       "<table border=\"1\" class=\"dataframe\">\n",
       "  <thead>\n",
       "    <tr style=\"text-align: right;\">\n",
       "      <th></th>\n",
       "      <th>tracked_subject</th>\n",
       "      <th>box_number</th>\n",
       "      <th>sleap_name</th>\n",
       "      <th>video_name</th>\n",
       "      <th>current_subject</th>\n",
       "      <th>tone_start_frame</th>\n",
       "      <th>reward_start_frame</th>\n",
       "      <th>tone_stop_frame</th>\n",
       "      <th>condition</th>\n",
       "      <th>competition_closeness</th>\n",
       "      <th>notes</th>\n",
       "      <th>experiment</th>\n",
       "      <th>session_dir</th>\n",
       "      <th>all_subjects</th>\n",
       "      <th>tone_start_timestamp</th>\n",
       "      <th>tone_stop_timestamp</th>\n",
       "      <th>trial_label</th>\n",
       "    </tr>\n",
       "  </thead>\n",
       "  <tbody>\n",
       "    <tr>\n",
       "      <th>0</th>\n",
       "      <td>['1.1', '1.2']</td>\n",
       "      <td>1</td>\n",
       "      <td>20230612_112630_standard_comp_to_training_D1_s...</td>\n",
       "      <td>20230612_112630_standard_comp_to_training_D1_s...</td>\n",
       "      <td>1.1</td>\n",
       "      <td>1125</td>\n",
       "      <td>1225</td>\n",
       "      <td>1324</td>\n",
       "      <td>1.1</td>\n",
       "      <td>Subj 1 blocking Subj 2</td>\n",
       "      <td>NaN</td>\n",
       "      <td>standard</td>\n",
       "      <td>20230612_112630_standard_comp_to_training_D1_s...</td>\n",
       "      <td>['1.1', '1.2']</td>\n",
       "      <td>1126742</td>\n",
       "      <td>1326741</td>\n",
       "      <td>win</td>\n",
       "    </tr>\n",
       "    <tr>\n",
       "      <th>1</th>\n",
       "      <td>['1.1', '1.2']</td>\n",
       "      <td>1</td>\n",
       "      <td>20230612_112630_standard_comp_to_training_D1_s...</td>\n",
       "      <td>20230612_112630_standard_comp_to_training_D1_s...</td>\n",
       "      <td>1.2</td>\n",
       "      <td>1125</td>\n",
       "      <td>1225</td>\n",
       "      <td>1324</td>\n",
       "      <td>1.1</td>\n",
       "      <td>Subj 1 blocking Subj 2</td>\n",
       "      <td>NaN</td>\n",
       "      <td>standard</td>\n",
       "      <td>20230612_112630_standard_comp_to_training_D1_s...</td>\n",
       "      <td>['1.1', '1.2']</td>\n",
       "      <td>1126742</td>\n",
       "      <td>1326741</td>\n",
       "      <td>lose</td>\n",
       "    </tr>\n",
       "    <tr>\n",
       "      <th>2</th>\n",
       "      <td>['1.1', '1.2']</td>\n",
       "      <td>1</td>\n",
       "      <td>20230612_112630_standard_comp_to_training_D1_s...</td>\n",
       "      <td>20230612_112630_standard_comp_to_training_D1_s...</td>\n",
       "      <td>1.1</td>\n",
       "      <td>3519</td>\n",
       "      <td>3619</td>\n",
       "      <td>3720</td>\n",
       "      <td>1.2</td>\n",
       "      <td>Subj 2 Only</td>\n",
       "      <td>NaN</td>\n",
       "      <td>standard</td>\n",
       "      <td>20230612_112630_standard_comp_to_training_D1_s...</td>\n",
       "      <td>['1.1', '1.2']</td>\n",
       "      <td>3526740</td>\n",
       "      <td>3726740</td>\n",
       "      <td>lose</td>\n",
       "    </tr>\n",
       "    <tr>\n",
       "      <th>3</th>\n",
       "      <td>['1.1', '1.2']</td>\n",
       "      <td>1</td>\n",
       "      <td>20230612_112630_standard_comp_to_training_D1_s...</td>\n",
       "      <td>20230612_112630_standard_comp_to_training_D1_s...</td>\n",
       "      <td>1.2</td>\n",
       "      <td>3519</td>\n",
       "      <td>3619</td>\n",
       "      <td>3720</td>\n",
       "      <td>1.2</td>\n",
       "      <td>Subj 2 Only</td>\n",
       "      <td>NaN</td>\n",
       "      <td>standard</td>\n",
       "      <td>20230612_112630_standard_comp_to_training_D1_s...</td>\n",
       "      <td>['1.1', '1.2']</td>\n",
       "      <td>3526740</td>\n",
       "      <td>3726740</td>\n",
       "      <td>win</td>\n",
       "    </tr>\n",
       "    <tr>\n",
       "      <th>4</th>\n",
       "      <td>['1.1', '1.2']</td>\n",
       "      <td>1</td>\n",
       "      <td>20230612_112630_standard_comp_to_training_D1_s...</td>\n",
       "      <td>20230612_112630_standard_comp_to_training_D1_s...</td>\n",
       "      <td>1.1</td>\n",
       "      <td>5815</td>\n",
       "      <td>5915</td>\n",
       "      <td>6014</td>\n",
       "      <td>1.2</td>\n",
       "      <td>Subj 2 blocking Subj 1</td>\n",
       "      <td>NaN</td>\n",
       "      <td>standard</td>\n",
       "      <td>20230612_112630_standard_comp_to_training_D1_s...</td>\n",
       "      <td>['1.1', '1.2']</td>\n",
       "      <td>5826740</td>\n",
       "      <td>6026737</td>\n",
       "      <td>lose</td>\n",
       "    </tr>\n",
       "  </tbody>\n",
       "</table>\n",
       "</div>"
      ],
      "text/plain": [
       "  tracked_subject  box_number  \\\n",
       "0  ['1.1', '1.2']           1   \n",
       "1  ['1.1', '1.2']           1   \n",
       "2  ['1.1', '1.2']           1   \n",
       "3  ['1.1', '1.2']           1   \n",
       "4  ['1.1', '1.2']           1   \n",
       "\n",
       "                                          sleap_name  \\\n",
       "0  20230612_112630_standard_comp_to_training_D1_s...   \n",
       "1  20230612_112630_standard_comp_to_training_D1_s...   \n",
       "2  20230612_112630_standard_comp_to_training_D1_s...   \n",
       "3  20230612_112630_standard_comp_to_training_D1_s...   \n",
       "4  20230612_112630_standard_comp_to_training_D1_s...   \n",
       "\n",
       "                                          video_name  current_subject  \\\n",
       "0  20230612_112630_standard_comp_to_training_D1_s...              1.1   \n",
       "1  20230612_112630_standard_comp_to_training_D1_s...              1.2   \n",
       "2  20230612_112630_standard_comp_to_training_D1_s...              1.1   \n",
       "3  20230612_112630_standard_comp_to_training_D1_s...              1.2   \n",
       "4  20230612_112630_standard_comp_to_training_D1_s...              1.1   \n",
       "\n",
       "   tone_start_frame  reward_start_frame  tone_stop_frame condition  \\\n",
       "0              1125                1225             1324       1.1   \n",
       "1              1125                1225             1324       1.1   \n",
       "2              3519                3619             3720       1.2   \n",
       "3              3519                3619             3720       1.2   \n",
       "4              5815                5915             6014       1.2   \n",
       "\n",
       "    competition_closeness notes experiment  \\\n",
       "0  Subj 1 blocking Subj 2   NaN   standard   \n",
       "1  Subj 1 blocking Subj 2   NaN   standard   \n",
       "2             Subj 2 Only   NaN   standard   \n",
       "3             Subj 2 Only   NaN   standard   \n",
       "4  Subj 2 blocking Subj 1   NaN   standard   \n",
       "\n",
       "                                         session_dir    all_subjects  \\\n",
       "0  20230612_112630_standard_comp_to_training_D1_s...  ['1.1', '1.2']   \n",
       "1  20230612_112630_standard_comp_to_training_D1_s...  ['1.1', '1.2']   \n",
       "2  20230612_112630_standard_comp_to_training_D1_s...  ['1.1', '1.2']   \n",
       "3  20230612_112630_standard_comp_to_training_D1_s...  ['1.1', '1.2']   \n",
       "4  20230612_112630_standard_comp_to_training_D1_s...  ['1.1', '1.2']   \n",
       "\n",
       "   tone_start_timestamp  tone_stop_timestamp trial_label  \n",
       "0               1126742              1326741         win  \n",
       "1               1126742              1326741        lose  \n",
       "2               3526740              3726740        lose  \n",
       "3               3526740              3726740         win  \n",
       "4               5826740              6026737        lose  "
      ]
     },
     "execution_count": 34,
     "metadata": {},
     "output_type": "execute_result"
    }
   ],
   "source": [
    "TRIAL_LABELS_DF.head()"
   ]
  },
  {
   "cell_type": "code",
   "execution_count": 35,
   "metadata": {
    "tags": []
   },
   "outputs": [
    {
     "data": {
      "text/html": [
       "<div>\n",
       "<style scoped>\n",
       "    .dataframe tbody tr th:only-of-type {\n",
       "        vertical-align: middle;\n",
       "    }\n",
       "\n",
       "    .dataframe tbody tr th {\n",
       "        vertical-align: top;\n",
       "    }\n",
       "\n",
       "    .dataframe thead th {\n",
       "        text-align: right;\n",
       "    }\n",
       "</style>\n",
       "<table border=\"1\" class=\"dataframe\">\n",
       "  <thead>\n",
       "    <tr style=\"text-align: right;\">\n",
       "      <th></th>\n",
       "      <th>cohort</th>\n",
       "      <th>session_dir</th>\n",
       "      <th>tone_frames</th>\n",
       "      <th>box_1_port_entry_frames</th>\n",
       "      <th>box_2_port_entry_frames</th>\n",
       "      <th>video_name</th>\n",
       "      <th>session_path</th>\n",
       "      <th>recording</th>\n",
       "      <th>current_subject</th>\n",
       "      <th>subject</th>\n",
       "      <th>...</th>\n",
       "      <th>reward_port</th>\n",
       "      <th>box_bottom_left</th>\n",
       "      <th>box_bottom_right</th>\n",
       "      <th>agent</th>\n",
       "      <th>subject_locations</th>\n",
       "      <th>agent_locations</th>\n",
       "      <th>subject_thorax_velocity</th>\n",
       "      <th>agent_thorax_velocity</th>\n",
       "      <th>subject_thorax_to_reward_port</th>\n",
       "      <th>agent_thorax_to_reward_port</th>\n",
       "    </tr>\n",
       "  </thead>\n",
       "  <tbody>\n",
       "    <tr>\n",
       "      <th>0</th>\n",
       "      <td>2</td>\n",
       "      <td>20230612_112630_standard_comp_to_training_D1_s...</td>\n",
       "      <td>[[1125, 1324], [3519, 3720], [5815, 6014], [76...</td>\n",
       "      <td>[[192, 248], [389, 405], [916, 929], [929, 948...</td>\n",
       "      <td>[[33019, 33020], [33246, 33251], [33253, 33255...</td>\n",
       "      <td>20230612_112630_standard_comp_to_training_D1_s...</td>\n",
       "      <td>/scratch/back_up/reward_competition_extention/...</td>\n",
       "      <td>20230612_112630_standard_comp_to_training_D1_s...</td>\n",
       "      <td>1.1</td>\n",
       "      <td>1.1</td>\n",
       "      <td>...</td>\n",
       "      <td>[45.23441700698972, 35.83828707637651]</td>\n",
       "      <td>[30.458913657178506, 34.21867013031604]</td>\n",
       "      <td>[59.89132415244771, 34.13310301149612]</td>\n",
       "      <td>1.2</td>\n",
       "      <td>[[[46.68890098287189, 11.495085446056166], [43...</td>\n",
       "      <td>[[[34.36404036584844, 35.615553316175784], [34...</td>\n",
       "      <td>[1.8125, 1.707, 1.6045, 1.506, 1.409, 1.315, 1...</td>\n",
       "      <td>[14.336, 12.875, 11.47, 10.11, 8.81, 7.57, 6.3...</td>\n",
       "      <td>[26.45, 26.16, 26.1, 25.77, 25.72, 25.78, 26.1...</td>\n",
       "      <td>[6.11, 6.06, 6.125, 6.566, 6.605, 6.676, 7.13,...</td>\n",
       "    </tr>\n",
       "    <tr>\n",
       "      <th>1</th>\n",
       "      <td>2</td>\n",
       "      <td>20230612_112630_standard_comp_to_training_D1_s...</td>\n",
       "      <td>[[1125, 1324], [3519, 3720], [5815, 6014], [76...</td>\n",
       "      <td>[[192, 248], [389, 405], [916, 930], [930, 948...</td>\n",
       "      <td>[[32974, 32976], [33201, 33207], [33208, 33211...</td>\n",
       "      <td>20230612_112630_standard_comp_to_training_D1_s...</td>\n",
       "      <td>/scratch/back_up/reward_competition_extention/...</td>\n",
       "      <td>20230612_112630_standard_comp_to_training_D1_s...</td>\n",
       "      <td>1.1</td>\n",
       "      <td>1.1</td>\n",
       "      <td>...</td>\n",
       "      <td>[48.01956210909252, 37.264554576109816]</td>\n",
       "      <td>[33.1534452699471, 35.61101869926864]</td>\n",
       "      <td>[62.60288905131385, 35.71974322144712]</td>\n",
       "      <td>None</td>\n",
       "      <td>[[[27.67316905433137, 31.06298795228111], [27....</td>\n",
       "      <td>NaN</td>\n",
       "      <td>[0.0, 0.0, 0.0, 0.0, 0.0, 0.0, 0.0, 0.0, 0.0, ...</td>\n",
       "      <td>NaN</td>\n",
       "      <td>[21.36, 21.36, 21.36, 21.36, 21.36, 21.36, 21....</td>\n",
       "      <td>NaN</td>\n",
       "    </tr>\n",
       "    <tr>\n",
       "      <th>2</th>\n",
       "      <td>2</td>\n",
       "      <td>20230612_112630_standard_comp_to_training_D1_s...</td>\n",
       "      <td>[[1125, 1324], [3519, 3720], [5815, 6014], [76...</td>\n",
       "      <td>[[192, 248], [389, 405], [916, 929], [929, 948...</td>\n",
       "      <td>[[33019, 33020], [33246, 33251], [33253, 33255...</td>\n",
       "      <td>20230612_112630_standard_comp_to_training_D1_s...</td>\n",
       "      <td>/scratch/back_up/reward_competition_extention/...</td>\n",
       "      <td>20230612_112630_standard_comp_to_training_D1_s...</td>\n",
       "      <td>1.2</td>\n",
       "      <td>1.2</td>\n",
       "      <td>...</td>\n",
       "      <td>[45.23441700698972, 35.83828707637651]</td>\n",
       "      <td>[30.458913657178506, 34.21867013031604]</td>\n",
       "      <td>[59.89132415244771, 34.13310301149612]</td>\n",
       "      <td>None</td>\n",
       "      <td>[[[34.36404036584844, 35.615553316175784], [34...</td>\n",
       "      <td>NaN</td>\n",
       "      <td>[55.4, 52.03, 48.72, 45.53, 42.44, 39.44, 36.5...</td>\n",
       "      <td>NaN</td>\n",
       "      <td>[6.11, 6.06, 6.125, 6.566, 6.605, 6.676, 7.13,...</td>\n",
       "      <td>NaN</td>\n",
       "    </tr>\n",
       "    <tr>\n",
       "      <th>3</th>\n",
       "      <td>2</td>\n",
       "      <td>20230612_112630_standard_comp_to_training_D1_s...</td>\n",
       "      <td>[[1125, 1324], [3519, 3720], [5815, 6014], [76...</td>\n",
       "      <td>[[192, 248], [389, 405], [916, 929], [929, 948...</td>\n",
       "      <td>[[33019, 33020], [33246, 33251], [33253, 33255...</td>\n",
       "      <td>20230612_112630_standard_comp_to_training_D1_s...</td>\n",
       "      <td>/scratch/back_up/reward_competition_extention/...</td>\n",
       "      <td>20230612_112630_standard_comp_to_training_D1_s...</td>\n",
       "      <td>1.2</td>\n",
       "      <td>1.2</td>\n",
       "      <td>...</td>\n",
       "      <td>[45.23441700698972, 35.83828707637651]</td>\n",
       "      <td>[30.458913657178506, 34.21867013031604]</td>\n",
       "      <td>[59.89132415244771, 34.13310301149612]</td>\n",
       "      <td>1.1</td>\n",
       "      <td>[[[34.36404036584844, 35.615553316175784], [34...</td>\n",
       "      <td>[[[46.68890098287189, 11.495085446056166], [43...</td>\n",
       "      <td>[14.336, 12.875, 11.47, 10.11, 8.81, 7.57, 6.3...</td>\n",
       "      <td>[1.8125, 1.707, 1.6045, 1.506, 1.409, 1.315, 1...</td>\n",
       "      <td>[6.11, 6.06, 6.125, 6.566, 6.605, 6.676, 7.13,...</td>\n",
       "      <td>[26.45, 26.16, 26.1, 25.77, 25.72, 25.78, 26.1...</td>\n",
       "    </tr>\n",
       "    <tr>\n",
       "      <th>4</th>\n",
       "      <td>2</td>\n",
       "      <td>20230613_105657_standard_comp_to_training_D2_s...</td>\n",
       "      <td>[[916, 1117], [3312, 3513], [5608, 5808], [740...</td>\n",
       "      <td>[[49, 67], [70, 79], [360, 366], [460, 469], [...</td>\n",
       "      <td>[[33601, 33798], [34108, 34165], [34166, 34179...</td>\n",
       "      <td>20230613_105657_standard_comp_to_training_D2_s...</td>\n",
       "      <td>/scratch/back_up/reward_competition_extention/...</td>\n",
       "      <td>20230613_105657_standard_comp_to_training_D2_s...</td>\n",
       "      <td>1.1</td>\n",
       "      <td>1.1</td>\n",
       "      <td>...</td>\n",
       "      <td>[45.31189572048577, 36.38317068198775]</td>\n",
       "      <td>[30.490085836306232, 34.91627159792731]</td>\n",
       "      <td>[60.10744182471764, 34.262899786598894]</td>\n",
       "      <td>None</td>\n",
       "      <td>[[[46.71964110607613, 36.493379374373234], [44...</td>\n",
       "      <td>NaN</td>\n",
       "      <td>[5.8, 5.207, 4.64, 4.1, 3.596, 3.127, 2.7, 2.3...</td>\n",
       "      <td>NaN</td>\n",
       "      <td>[4.633, 4.09, 4.36, 4.656, 4.65, 4.383, 4.35, ...</td>\n",
       "      <td>NaN</td>\n",
       "    </tr>\n",
       "  </tbody>\n",
       "</table>\n",
       "<p>5 rows × 168 columns</p>\n",
       "</div>"
      ],
      "text/plain": [
       "   cohort                                        session_dir  \\\n",
       "0       2  20230612_112630_standard_comp_to_training_D1_s...   \n",
       "1       2  20230612_112630_standard_comp_to_training_D1_s...   \n",
       "2       2  20230612_112630_standard_comp_to_training_D1_s...   \n",
       "3       2  20230612_112630_standard_comp_to_training_D1_s...   \n",
       "4       2  20230613_105657_standard_comp_to_training_D2_s...   \n",
       "\n",
       "                                         tone_frames  \\\n",
       "0  [[1125, 1324], [3519, 3720], [5815, 6014], [76...   \n",
       "1  [[1125, 1324], [3519, 3720], [5815, 6014], [76...   \n",
       "2  [[1125, 1324], [3519, 3720], [5815, 6014], [76...   \n",
       "3  [[1125, 1324], [3519, 3720], [5815, 6014], [76...   \n",
       "4  [[916, 1117], [3312, 3513], [5608, 5808], [740...   \n",
       "\n",
       "                             box_1_port_entry_frames  \\\n",
       "0  [[192, 248], [389, 405], [916, 929], [929, 948...   \n",
       "1  [[192, 248], [389, 405], [916, 930], [930, 948...   \n",
       "2  [[192, 248], [389, 405], [916, 929], [929, 948...   \n",
       "3  [[192, 248], [389, 405], [916, 929], [929, 948...   \n",
       "4  [[49, 67], [70, 79], [360, 366], [460, 469], [...   \n",
       "\n",
       "                             box_2_port_entry_frames  \\\n",
       "0  [[33019, 33020], [33246, 33251], [33253, 33255...   \n",
       "1  [[32974, 32976], [33201, 33207], [33208, 33211...   \n",
       "2  [[33019, 33020], [33246, 33251], [33253, 33255...   \n",
       "3  [[33019, 33020], [33246, 33251], [33253, 33255...   \n",
       "4  [[33601, 33798], [34108, 34165], [34166, 34179...   \n",
       "\n",
       "                                          video_name  \\\n",
       "0  20230612_112630_standard_comp_to_training_D1_s...   \n",
       "1  20230612_112630_standard_comp_to_training_D1_s...   \n",
       "2  20230612_112630_standard_comp_to_training_D1_s...   \n",
       "3  20230612_112630_standard_comp_to_training_D1_s...   \n",
       "4  20230613_105657_standard_comp_to_training_D2_s...   \n",
       "\n",
       "                                        session_path  \\\n",
       "0  /scratch/back_up/reward_competition_extention/...   \n",
       "1  /scratch/back_up/reward_competition_extention/...   \n",
       "2  /scratch/back_up/reward_competition_extention/...   \n",
       "3  /scratch/back_up/reward_competition_extention/...   \n",
       "4  /scratch/back_up/reward_competition_extention/...   \n",
       "\n",
       "                                           recording current_subject subject  \\\n",
       "0  20230612_112630_standard_comp_to_training_D1_s...             1.1     1.1   \n",
       "1  20230612_112630_standard_comp_to_training_D1_s...             1.1     1.1   \n",
       "2  20230612_112630_standard_comp_to_training_D1_s...             1.2     1.2   \n",
       "3  20230612_112630_standard_comp_to_training_D1_s...             1.2     1.2   \n",
       "4  20230613_105657_standard_comp_to_training_D2_s...             1.1     1.1   \n",
       "\n",
       "   ...                              reward_port  \\\n",
       "0  ...   [45.23441700698972, 35.83828707637651]   \n",
       "1  ...  [48.01956210909252, 37.264554576109816]   \n",
       "2  ...   [45.23441700698972, 35.83828707637651]   \n",
       "3  ...   [45.23441700698972, 35.83828707637651]   \n",
       "4  ...   [45.31189572048577, 36.38317068198775]   \n",
       "\n",
       "                           box_bottom_left  \\\n",
       "0  [30.458913657178506, 34.21867013031604]   \n",
       "1    [33.1534452699471, 35.61101869926864]   \n",
       "2  [30.458913657178506, 34.21867013031604]   \n",
       "3  [30.458913657178506, 34.21867013031604]   \n",
       "4  [30.490085836306232, 34.91627159792731]   \n",
       "\n",
       "                          box_bottom_right agent  \\\n",
       "0   [59.89132415244771, 34.13310301149612]   1.2   \n",
       "1   [62.60288905131385, 35.71974322144712]  None   \n",
       "2   [59.89132415244771, 34.13310301149612]  None   \n",
       "3   [59.89132415244771, 34.13310301149612]   1.1   \n",
       "4  [60.10744182471764, 34.262899786598894]  None   \n",
       "\n",
       "                                   subject_locations  \\\n",
       "0  [[[46.68890098287189, 11.495085446056166], [43...   \n",
       "1  [[[27.67316905433137, 31.06298795228111], [27....   \n",
       "2  [[[34.36404036584844, 35.615553316175784], [34...   \n",
       "3  [[[34.36404036584844, 35.615553316175784], [34...   \n",
       "4  [[[46.71964110607613, 36.493379374373234], [44...   \n",
       "\n",
       "                                     agent_locations  \\\n",
       "0  [[[34.36404036584844, 35.615553316175784], [34...   \n",
       "1                                                NaN   \n",
       "2                                                NaN   \n",
       "3  [[[46.68890098287189, 11.495085446056166], [43...   \n",
       "4                                                NaN   \n",
       "\n",
       "                             subject_thorax_velocity  \\\n",
       "0  [1.8125, 1.707, 1.6045, 1.506, 1.409, 1.315, 1...   \n",
       "1  [0.0, 0.0, 0.0, 0.0, 0.0, 0.0, 0.0, 0.0, 0.0, ...   \n",
       "2  [55.4, 52.03, 48.72, 45.53, 42.44, 39.44, 36.5...   \n",
       "3  [14.336, 12.875, 11.47, 10.11, 8.81, 7.57, 6.3...   \n",
       "4  [5.8, 5.207, 4.64, 4.1, 3.596, 3.127, 2.7, 2.3...   \n",
       "\n",
       "                               agent_thorax_velocity  \\\n",
       "0  [14.336, 12.875, 11.47, 10.11, 8.81, 7.57, 6.3...   \n",
       "1                                                NaN   \n",
       "2                                                NaN   \n",
       "3  [1.8125, 1.707, 1.6045, 1.506, 1.409, 1.315, 1...   \n",
       "4                                                NaN   \n",
       "\n",
       "                       subject_thorax_to_reward_port  \\\n",
       "0  [26.45, 26.16, 26.1, 25.77, 25.72, 25.78, 26.1...   \n",
       "1  [21.36, 21.36, 21.36, 21.36, 21.36, 21.36, 21....   \n",
       "2  [6.11, 6.06, 6.125, 6.566, 6.605, 6.676, 7.13,...   \n",
       "3  [6.11, 6.06, 6.125, 6.566, 6.605, 6.676, 7.13,...   \n",
       "4  [4.633, 4.09, 4.36, 4.656, 4.65, 4.383, 4.35, ...   \n",
       "\n",
       "                         agent_thorax_to_reward_port  \n",
       "0  [6.11, 6.06, 6.125, 6.566, 6.605, 6.676, 7.13,...  \n",
       "1                                                NaN  \n",
       "2                                                NaN  \n",
       "3  [26.45, 26.16, 26.1, 25.77, 25.72, 25.78, 26.1...  \n",
       "4                                                NaN  \n",
       "\n",
       "[5 rows x 168 columns]"
      ]
     },
     "execution_count": 35,
     "metadata": {},
     "output_type": "execute_result"
    }
   ],
   "source": [
    "LFP_SPECTRAL_DF.head()"
   ]
  },
  {
   "cell_type": "code",
   "execution_count": null,
   "metadata": {},
   "outputs": [],
   "source": []
  },
  {
   "cell_type": "code",
   "execution_count": 36,
   "metadata": {
    "tags": []
   },
   "outputs": [],
   "source": [
    "LFP_SPECTRAL_DF[\"video_name\"] = LFP_SPECTRAL_DF[\"video_name\"].apply(lambda x: x.strip(\".videoTimeStamps.cameraHWSync\"))"
   ]
  },
  {
   "cell_type": "code",
   "execution_count": 37,
   "metadata": {
    "tags": []
   },
   "outputs": [],
   "source": [
    "LFP_SPECTRAL_DF[\"current_subject\"] = LFP_SPECTRAL_DF[\"current_subject\"].astype(str)\n",
    "TRIAL_LABELS_DF[\"current_subject\"] = TRIAL_LABELS_DF[\"current_subject\"].astype(str)"
   ]
  },
  {
   "cell_type": "code",
   "execution_count": 38,
   "metadata": {
    "tags": []
   },
   "outputs": [
    {
     "data": {
      "text/plain": [
       "array(['20230612_112630_standard_comp_to_training_D1_subj_1-2_and_1-1.1',\n",
       "       '20230612_112630_standard_comp_to_training_D1_subj_1-2_and_1-1.2',\n",
       "       '20230613_105657_standard_comp_to_training_D2_subj_1-1_and_1-4.1',\n",
       "       '20230613_105657_standard_comp_to_training_D2_subj_1-1_and_1-4.2',\n",
       "       '20230614_114041_standard_comp_to_training_D3_subj_1-1_and_1-2.1',\n",
       "       '20230614_114041_standard_comp_to_training_D3_subj_1-1_and_1-2.2',\n",
       "       '20230614_114041_standard_comp_to_training_D3_subj_1-1_and_1-2.3',\n",
       "       '20230616_111904_standard_comp_to_training_D4_subj_1-4_and_1-2.1',\n",
       "       '20230616_111904_standard_comp_to_training_D4_subj_1-4_and_1-2.2',\n",
       "       '20230617_115521_standard_comp_to_omission_D1_subj_1-1_and_1-2.1',\n",
       "       '20230618_100636_standard_comp_to_omission_D2_subj_1-4_and_1-1.1',\n",
       "       '20230618_100636_standard_comp_to_omission_D2_subj_1-4_and_1-1.2',\n",
       "       '20230620_114347_standard_comp_to_omission_D4_subj_1-2_and_1-1.1',\n",
       "       '20230620_114347_standard_comp_to_omission_D4_subj_1-2_and_1-1.2',\n",
       "       '20230621_111240_standard_comp_to_omission_D5_subj_1-4_and_1-2.1',\n",
       "       '20230621_111240_standard_comp_to_omission_D5_subj_1-4_and_1-2.2',\n",
       "       '20230622_110832_standard_comp_to_both_rewarded_D1_subj_1-1_and_1-2.1',\n",
       "       '20230624_105855_standard_comp_to_both_rewarded_D3_subj_1-2_and_1-4.1',\n",
       "       '20230625_112913_standard_comp_to_both_rewarded_D4_subj_1-1_and_1-4.1',\n",
       "       '20230628_111202_standard_comp_to_novel_agent_D1_subj_1-1vs2-2and1-2vs2-1.1',\n",
       "       '20230628_111202_standard_comp_to_novel_agent_D1_subj_1-1vs2-2and1-2vs2-1.3',\n",
       "       '20230629_111937_standard_comp_to_novel_agent_D2_subj_1-1vs2-1and1-4vs2-2.1',\n",
       "       '20230629_111937_standard_comp_to_novel_agent_D2_subj_1-1vs2-1and1-4vs2-2.2',\n",
       "       '20230630_115506_standard_comp_to_novel_agent_D3_subj_1-4vs2-1and1-2vs2-2.1',\n",
       "       '20230630_115506_standard_comp_to_novel_agent_D3_subj_1-4vs2-1and1-2vs2-2.2'],\n",
       "      dtype=object)"
      ]
     },
     "execution_count": 38,
     "metadata": {},
     "output_type": "execute_result"
    }
   ],
   "source": [
    "TRIAL_LABELS_DF[\"video_name\"].unique()"
   ]
  },
  {
   "cell_type": "code",
   "execution_count": 39,
   "metadata": {
    "tags": []
   },
   "outputs": [
    {
     "data": {
      "text/plain": [
       "array(['20230612_112630_standard_comp_to_training_D1_subj_1-2_and_1-1.1',\n",
       "       '20230612_112630_standard_comp_to_training_D1_subj_1-2_and_1-1.2',\n",
       "       '20230613_105657_standard_comp_to_training_D2_subj_1-1_and_1-4.1',\n",
       "       '20230613_105657_standard_comp_to_training_D2_subj_1-1_and_1-4.2',\n",
       "       '20230614_114041_standard_comp_to_training_D3_subj_1-1_and_1-2.1',\n",
       "       '20230614_114041_standard_comp_to_training_D3_subj_1-1_and_1-2.3',\n",
       "       '20230614_114041_standard_comp_to_training_D3_subj_1-1_and_1-2.2',\n",
       "       '20230616_111904_standard_comp_to_training_D4_subj_1-4_and_1-2.1',\n",
       "       '20230616_111904_standard_comp_to_training_D4_subj_1-4_and_1-2.2',\n",
       "       '20230617_115521_standard_comp_to_omission_D1_subj_1-1_and_1-2.1',\n",
       "       '20230617_115521_standard_comp_to_omission_D1_subj_1-1_and_1-2.3',\n",
       "       '20230618_100636_standard_comp_to_omission_D2_subj_1-4_and_1-1.1',\n",
       "       '20230618_100636_standard_comp_to_omission_D2_subj_1-4_and_1-1.2',\n",
       "       '20230619_115321_standard_comp_to_omission_D3_subj_1-2_and_1-4.4',\n",
       "       '20230620_114347_standard_comp_to_omission_D4_subj_1-2_and_1-1.1',\n",
       "       '20230620_114347_standard_comp_to_omission_D4_subj_1-2_and_1-1.2',\n",
       "       '20230621_111240_standard_comp_to_omission_D5_subj_1-4_and_1-2.1',\n",
       "       '20230622_110832_standard_comp_to_both_rewarded_D1_subj_1-1_and_1-2.1',\n",
       "       '20230624_105855_standard_comp_to_both_rewarded_D3_subj_1-2_and_1-4.1',\n",
       "       '20230625_112913_standard_comp_to_both_rewarded_D4_subj_1-1_and_1-4.1',\n",
       "       '20230628_111202_standard_comp_to_novel_agent_D1_subj_1-1vs2-2and1-2vs2-1.1',\n",
       "       '20230628_111202_standard_comp_to_novel_agent_D1_subj_1-1vs2-2and1-2vs2-1.4',\n",
       "       '20230629_111937_standard_comp_to_novel_agent_D2_subj_1-1vs2-1and1-4vs2-2.1',\n",
       "       '20230629_111937_standard_comp_to_novel_agent_D2_subj_1-1vs2-1and1-4vs2-2.2',\n",
       "       '20230630_115506_standard_comp_to_novel_agent_D3_subj_1-4vs2-1and1-2vs2-2.1',\n",
       "       '20230630_115506_standard_comp_to_novel_agent_D3_subj_1-4vs2-1and1-2vs2-2.2'],\n",
       "      dtype=object)"
      ]
     },
     "execution_count": 39,
     "metadata": {},
     "output_type": "execute_result"
    }
   ],
   "source": [
    "LFP_SPECTRAL_DF[\"video_name\"].unique()"
   ]
  },
  {
   "cell_type": "code",
   "execution_count": 40,
   "metadata": {
    "tags": []
   },
   "outputs": [],
   "source": [
    "TRIALS_AND_SPECTRAL_DF = pd.merge(TRIAL_LABELS_DF, LFP_SPECTRAL_DF, on=[\"current_subject\", \"video_name\"], how=\"inner\", suffixes=('', '_y'))"
   ]
  },
  {
   "cell_type": "code",
   "execution_count": 41,
   "metadata": {
    "tags": []
   },
   "outputs": [],
   "source": [
    "# TRIALS_AND_SPECTRAL_DF = TRIALS_AND_SPECTRAL_DF.drop(columns=[col for col in TRIALS_AND_SPECTRAL_DF.columns if \"trace\" in col], errors=\"ignore\")"
   ]
  },
  {
   "cell_type": "code",
   "execution_count": 42,
   "metadata": {
    "tags": []
   },
   "outputs": [],
   "source": [
    "TRIALS_AND_SPECTRAL_DF = TRIALS_AND_SPECTRAL_DF.drop(columns=[col for col in TRIALS_AND_SPECTRAL_DF.columns if \"_y\" in col], errors=\"ignore\")"
   ]
  },
  {
   "cell_type": "code",
   "execution_count": 43,
   "metadata": {
    "tags": []
   },
   "outputs": [
    {
     "data": {
      "text/html": [
       "<div>\n",
       "<style scoped>\n",
       "    .dataframe tbody tr th:only-of-type {\n",
       "        vertical-align: middle;\n",
       "    }\n",
       "\n",
       "    .dataframe tbody tr th {\n",
       "        vertical-align: top;\n",
       "    }\n",
       "\n",
       "    .dataframe thead th {\n",
       "        text-align: right;\n",
       "    }\n",
       "</style>\n",
       "<table border=\"1\" class=\"dataframe\">\n",
       "  <thead>\n",
       "    <tr style=\"text-align: right;\">\n",
       "      <th></th>\n",
       "      <th>tracked_subject</th>\n",
       "      <th>box_number</th>\n",
       "      <th>sleap_name</th>\n",
       "      <th>video_name</th>\n",
       "      <th>current_subject</th>\n",
       "      <th>tone_start_frame</th>\n",
       "      <th>reward_start_frame</th>\n",
       "      <th>tone_stop_frame</th>\n",
       "      <th>condition</th>\n",
       "      <th>competition_closeness</th>\n",
       "      <th>...</th>\n",
       "      <th>reward_port</th>\n",
       "      <th>box_bottom_left</th>\n",
       "      <th>box_bottom_right</th>\n",
       "      <th>agent</th>\n",
       "      <th>subject_locations</th>\n",
       "      <th>agent_locations</th>\n",
       "      <th>subject_thorax_velocity</th>\n",
       "      <th>agent_thorax_velocity</th>\n",
       "      <th>subject_thorax_to_reward_port</th>\n",
       "      <th>agent_thorax_to_reward_port</th>\n",
       "    </tr>\n",
       "  </thead>\n",
       "  <tbody>\n",
       "    <tr>\n",
       "      <th>0</th>\n",
       "      <td>['1.1', '1.2']</td>\n",
       "      <td>1</td>\n",
       "      <td>20230612_112630_standard_comp_to_training_D1_s...</td>\n",
       "      <td>20230612_112630_standard_comp_to_training_D1_s...</td>\n",
       "      <td>1.1</td>\n",
       "      <td>1125</td>\n",
       "      <td>1225</td>\n",
       "      <td>1324</td>\n",
       "      <td>1.1</td>\n",
       "      <td>Subj 1 blocking Subj 2</td>\n",
       "      <td>...</td>\n",
       "      <td>[45.23441700698972, 35.83828707637651]</td>\n",
       "      <td>[30.458913657178506, 34.21867013031604]</td>\n",
       "      <td>[59.89132415244771, 34.13310301149612]</td>\n",
       "      <td>1.2</td>\n",
       "      <td>[[[46.68890098287189, 11.495085446056166], [43...</td>\n",
       "      <td>[[[34.36404036584844, 35.615553316175784], [34...</td>\n",
       "      <td>[1.8125, 1.707, 1.6045, 1.506, 1.409, 1.315, 1...</td>\n",
       "      <td>[14.336, 12.875, 11.47, 10.11, 8.81, 7.57, 6.3...</td>\n",
       "      <td>[26.45, 26.16, 26.1, 25.77, 25.72, 25.78, 26.1...</td>\n",
       "      <td>[6.11, 6.06, 6.125, 6.566, 6.605, 6.676, 7.13,...</td>\n",
       "    </tr>\n",
       "    <tr>\n",
       "      <th>1</th>\n",
       "      <td>['1.1', '1.2']</td>\n",
       "      <td>1</td>\n",
       "      <td>20230612_112630_standard_comp_to_training_D1_s...</td>\n",
       "      <td>20230612_112630_standard_comp_to_training_D1_s...</td>\n",
       "      <td>1.1</td>\n",
       "      <td>3519</td>\n",
       "      <td>3619</td>\n",
       "      <td>3720</td>\n",
       "      <td>1.2</td>\n",
       "      <td>Subj 2 Only</td>\n",
       "      <td>...</td>\n",
       "      <td>[45.23441700698972, 35.83828707637651]</td>\n",
       "      <td>[30.458913657178506, 34.21867013031604]</td>\n",
       "      <td>[59.89132415244771, 34.13310301149612]</td>\n",
       "      <td>1.2</td>\n",
       "      <td>[[[46.68890098287189, 11.495085446056166], [43...</td>\n",
       "      <td>[[[34.36404036584844, 35.615553316175784], [34...</td>\n",
       "      <td>[1.8125, 1.707, 1.6045, 1.506, 1.409, 1.315, 1...</td>\n",
       "      <td>[14.336, 12.875, 11.47, 10.11, 8.81, 7.57, 6.3...</td>\n",
       "      <td>[26.45, 26.16, 26.1, 25.77, 25.72, 25.78, 26.1...</td>\n",
       "      <td>[6.11, 6.06, 6.125, 6.566, 6.605, 6.676, 7.13,...</td>\n",
       "    </tr>\n",
       "    <tr>\n",
       "      <th>2</th>\n",
       "      <td>['1.1', '1.2']</td>\n",
       "      <td>1</td>\n",
       "      <td>20230612_112630_standard_comp_to_training_D1_s...</td>\n",
       "      <td>20230612_112630_standard_comp_to_training_D1_s...</td>\n",
       "      <td>1.1</td>\n",
       "      <td>5815</td>\n",
       "      <td>5915</td>\n",
       "      <td>6014</td>\n",
       "      <td>1.2</td>\n",
       "      <td>Subj 2 blocking Subj 1</td>\n",
       "      <td>...</td>\n",
       "      <td>[45.23441700698972, 35.83828707637651]</td>\n",
       "      <td>[30.458913657178506, 34.21867013031604]</td>\n",
       "      <td>[59.89132415244771, 34.13310301149612]</td>\n",
       "      <td>1.2</td>\n",
       "      <td>[[[46.68890098287189, 11.495085446056166], [43...</td>\n",
       "      <td>[[[34.36404036584844, 35.615553316175784], [34...</td>\n",
       "      <td>[1.8125, 1.707, 1.6045, 1.506, 1.409, 1.315, 1...</td>\n",
       "      <td>[14.336, 12.875, 11.47, 10.11, 8.81, 7.57, 6.3...</td>\n",
       "      <td>[26.45, 26.16, 26.1, 25.77, 25.72, 25.78, 26.1...</td>\n",
       "      <td>[6.11, 6.06, 6.125, 6.566, 6.605, 6.676, 7.13,...</td>\n",
       "    </tr>\n",
       "    <tr>\n",
       "      <th>3</th>\n",
       "      <td>['1.1', '1.2']</td>\n",
       "      <td>1</td>\n",
       "      <td>20230612_112630_standard_comp_to_training_D1_s...</td>\n",
       "      <td>20230612_112630_standard_comp_to_training_D1_s...</td>\n",
       "      <td>1.1</td>\n",
       "      <td>7612</td>\n",
       "      <td>7712</td>\n",
       "      <td>7811</td>\n",
       "      <td>1.2</td>\n",
       "      <td>Subj 2 Only</td>\n",
       "      <td>...</td>\n",
       "      <td>[45.23441700698972, 35.83828707637651]</td>\n",
       "      <td>[30.458913657178506, 34.21867013031604]</td>\n",
       "      <td>[59.89132415244771, 34.13310301149612]</td>\n",
       "      <td>1.2</td>\n",
       "      <td>[[[46.68890098287189, 11.495085446056166], [43...</td>\n",
       "      <td>[[[34.36404036584844, 35.615553316175784], [34...</td>\n",
       "      <td>[1.8125, 1.707, 1.6045, 1.506, 1.409, 1.315, 1...</td>\n",
       "      <td>[14.336, 12.875, 11.47, 10.11, 8.81, 7.57, 6.3...</td>\n",
       "      <td>[26.45, 26.16, 26.1, 25.77, 25.72, 25.78, 26.1...</td>\n",
       "      <td>[6.11, 6.06, 6.125, 6.566, 6.605, 6.676, 7.13,...</td>\n",
       "    </tr>\n",
       "    <tr>\n",
       "      <th>4</th>\n",
       "      <td>['1.1', '1.2']</td>\n",
       "      <td>1</td>\n",
       "      <td>20230612_112630_standard_comp_to_training_D1_s...</td>\n",
       "      <td>20230612_112630_standard_comp_to_training_D1_s...</td>\n",
       "      <td>1.1</td>\n",
       "      <td>8709</td>\n",
       "      <td>8809</td>\n",
       "      <td>8910</td>\n",
       "      <td>1.2</td>\n",
       "      <td>Subj 2 Only</td>\n",
       "      <td>...</td>\n",
       "      <td>[45.23441700698972, 35.83828707637651]</td>\n",
       "      <td>[30.458913657178506, 34.21867013031604]</td>\n",
       "      <td>[59.89132415244771, 34.13310301149612]</td>\n",
       "      <td>1.2</td>\n",
       "      <td>[[[46.68890098287189, 11.495085446056166], [43...</td>\n",
       "      <td>[[[34.36404036584844, 35.615553316175784], [34...</td>\n",
       "      <td>[1.8125, 1.707, 1.6045, 1.506, 1.409, 1.315, 1...</td>\n",
       "      <td>[14.336, 12.875, 11.47, 10.11, 8.81, 7.57, 6.3...</td>\n",
       "      <td>[26.45, 26.16, 26.1, 25.77, 25.72, 25.78, 26.1...</td>\n",
       "      <td>[6.11, 6.06, 6.125, 6.566, 6.605, 6.676, 7.13,...</td>\n",
       "    </tr>\n",
       "  </tbody>\n",
       "</table>\n",
       "<p>5 rows × 178 columns</p>\n",
       "</div>"
      ],
      "text/plain": [
       "  tracked_subject  box_number  \\\n",
       "0  ['1.1', '1.2']           1   \n",
       "1  ['1.1', '1.2']           1   \n",
       "2  ['1.1', '1.2']           1   \n",
       "3  ['1.1', '1.2']           1   \n",
       "4  ['1.1', '1.2']           1   \n",
       "\n",
       "                                          sleap_name  \\\n",
       "0  20230612_112630_standard_comp_to_training_D1_s...   \n",
       "1  20230612_112630_standard_comp_to_training_D1_s...   \n",
       "2  20230612_112630_standard_comp_to_training_D1_s...   \n",
       "3  20230612_112630_standard_comp_to_training_D1_s...   \n",
       "4  20230612_112630_standard_comp_to_training_D1_s...   \n",
       "\n",
       "                                          video_name current_subject  \\\n",
       "0  20230612_112630_standard_comp_to_training_D1_s...             1.1   \n",
       "1  20230612_112630_standard_comp_to_training_D1_s...             1.1   \n",
       "2  20230612_112630_standard_comp_to_training_D1_s...             1.1   \n",
       "3  20230612_112630_standard_comp_to_training_D1_s...             1.1   \n",
       "4  20230612_112630_standard_comp_to_training_D1_s...             1.1   \n",
       "\n",
       "   tone_start_frame  reward_start_frame  tone_stop_frame condition  \\\n",
       "0              1125                1225             1324       1.1   \n",
       "1              3519                3619             3720       1.2   \n",
       "2              5815                5915             6014       1.2   \n",
       "3              7612                7712             7811       1.2   \n",
       "4              8709                8809             8910       1.2   \n",
       "\n",
       "    competition_closeness  ...                             reward_port  \\\n",
       "0  Subj 1 blocking Subj 2  ...  [45.23441700698972, 35.83828707637651]   \n",
       "1             Subj 2 Only  ...  [45.23441700698972, 35.83828707637651]   \n",
       "2  Subj 2 blocking Subj 1  ...  [45.23441700698972, 35.83828707637651]   \n",
       "3             Subj 2 Only  ...  [45.23441700698972, 35.83828707637651]   \n",
       "4             Subj 2 Only  ...  [45.23441700698972, 35.83828707637651]   \n",
       "\n",
       "                           box_bottom_left  \\\n",
       "0  [30.458913657178506, 34.21867013031604]   \n",
       "1  [30.458913657178506, 34.21867013031604]   \n",
       "2  [30.458913657178506, 34.21867013031604]   \n",
       "3  [30.458913657178506, 34.21867013031604]   \n",
       "4  [30.458913657178506, 34.21867013031604]   \n",
       "\n",
       "                         box_bottom_right agent  \\\n",
       "0  [59.89132415244771, 34.13310301149612]   1.2   \n",
       "1  [59.89132415244771, 34.13310301149612]   1.2   \n",
       "2  [59.89132415244771, 34.13310301149612]   1.2   \n",
       "3  [59.89132415244771, 34.13310301149612]   1.2   \n",
       "4  [59.89132415244771, 34.13310301149612]   1.2   \n",
       "\n",
       "                                   subject_locations  \\\n",
       "0  [[[46.68890098287189, 11.495085446056166], [43...   \n",
       "1  [[[46.68890098287189, 11.495085446056166], [43...   \n",
       "2  [[[46.68890098287189, 11.495085446056166], [43...   \n",
       "3  [[[46.68890098287189, 11.495085446056166], [43...   \n",
       "4  [[[46.68890098287189, 11.495085446056166], [43...   \n",
       "\n",
       "                                     agent_locations  \\\n",
       "0  [[[34.36404036584844, 35.615553316175784], [34...   \n",
       "1  [[[34.36404036584844, 35.615553316175784], [34...   \n",
       "2  [[[34.36404036584844, 35.615553316175784], [34...   \n",
       "3  [[[34.36404036584844, 35.615553316175784], [34...   \n",
       "4  [[[34.36404036584844, 35.615553316175784], [34...   \n",
       "\n",
       "                             subject_thorax_velocity  \\\n",
       "0  [1.8125, 1.707, 1.6045, 1.506, 1.409, 1.315, 1...   \n",
       "1  [1.8125, 1.707, 1.6045, 1.506, 1.409, 1.315, 1...   \n",
       "2  [1.8125, 1.707, 1.6045, 1.506, 1.409, 1.315, 1...   \n",
       "3  [1.8125, 1.707, 1.6045, 1.506, 1.409, 1.315, 1...   \n",
       "4  [1.8125, 1.707, 1.6045, 1.506, 1.409, 1.315, 1...   \n",
       "\n",
       "                               agent_thorax_velocity  \\\n",
       "0  [14.336, 12.875, 11.47, 10.11, 8.81, 7.57, 6.3...   \n",
       "1  [14.336, 12.875, 11.47, 10.11, 8.81, 7.57, 6.3...   \n",
       "2  [14.336, 12.875, 11.47, 10.11, 8.81, 7.57, 6.3...   \n",
       "3  [14.336, 12.875, 11.47, 10.11, 8.81, 7.57, 6.3...   \n",
       "4  [14.336, 12.875, 11.47, 10.11, 8.81, 7.57, 6.3...   \n",
       "\n",
       "                       subject_thorax_to_reward_port  \\\n",
       "0  [26.45, 26.16, 26.1, 25.77, 25.72, 25.78, 26.1...   \n",
       "1  [26.45, 26.16, 26.1, 25.77, 25.72, 25.78, 26.1...   \n",
       "2  [26.45, 26.16, 26.1, 25.77, 25.72, 25.78, 26.1...   \n",
       "3  [26.45, 26.16, 26.1, 25.77, 25.72, 25.78, 26.1...   \n",
       "4  [26.45, 26.16, 26.1, 25.77, 25.72, 25.78, 26.1...   \n",
       "\n",
       "                         agent_thorax_to_reward_port  \n",
       "0  [6.11, 6.06, 6.125, 6.566, 6.605, 6.676, 7.13,...  \n",
       "1  [6.11, 6.06, 6.125, 6.566, 6.605, 6.676, 7.13,...  \n",
       "2  [6.11, 6.06, 6.125, 6.566, 6.605, 6.676, 7.13,...  \n",
       "3  [6.11, 6.06, 6.125, 6.566, 6.605, 6.676, 7.13,...  \n",
       "4  [6.11, 6.06, 6.125, 6.566, 6.605, 6.676, 7.13,...  \n",
       "\n",
       "[5 rows x 178 columns]"
      ]
     },
     "execution_count": 43,
     "metadata": {},
     "output_type": "execute_result"
    }
   ],
   "source": [
    "TRIALS_AND_SPECTRAL_DF.head()"
   ]
  },
  {
   "cell_type": "code",
   "execution_count": 44,
   "metadata": {
    "tags": []
   },
   "outputs": [
    {
     "data": {
      "text/plain": [
       "Index(['tracked_subject', 'box_number', 'sleap_name', 'video_name',\n",
       "       'current_subject', 'tone_start_frame', 'reward_start_frame',\n",
       "       'tone_stop_frame', 'condition', 'competition_closeness',\n",
       "       ...\n",
       "       'reward_port', 'box_bottom_left', 'box_bottom_right', 'agent',\n",
       "       'subject_locations', 'agent_locations', 'subject_thorax_velocity',\n",
       "       'agent_thorax_velocity', 'subject_thorax_to_reward_port',\n",
       "       'agent_thorax_to_reward_port'],\n",
       "      dtype='object', length=178)"
      ]
     },
     "execution_count": 44,
     "metadata": {},
     "output_type": "execute_result"
    }
   ],
   "source": [
    "TRIALS_AND_SPECTRAL_DF.columns"
   ]
  },
  {
   "cell_type": "code",
   "execution_count": 45,
   "metadata": {},
   "outputs": [
    {
     "data": {
      "text/html": [
       "<div>\n",
       "<style scoped>\n",
       "    .dataframe tbody tr th:only-of-type {\n",
       "        vertical-align: middle;\n",
       "    }\n",
       "\n",
       "    .dataframe tbody tr th {\n",
       "        vertical-align: top;\n",
       "    }\n",
       "\n",
       "    .dataframe thead th {\n",
       "        text-align: right;\n",
       "    }\n",
       "</style>\n",
       "<table border=\"1\" class=\"dataframe\">\n",
       "  <thead>\n",
       "    <tr style=\"text-align: right;\">\n",
       "      <th></th>\n",
       "      <th>tracked_subject</th>\n",
       "      <th>box_number</th>\n",
       "      <th>sleap_name</th>\n",
       "      <th>video_name</th>\n",
       "      <th>current_subject</th>\n",
       "      <th>tone_start_frame</th>\n",
       "      <th>reward_start_frame</th>\n",
       "      <th>tone_stop_frame</th>\n",
       "      <th>condition</th>\n",
       "      <th>competition_closeness</th>\n",
       "      <th>...</th>\n",
       "      <th>reward_port</th>\n",
       "      <th>box_bottom_left</th>\n",
       "      <th>box_bottom_right</th>\n",
       "      <th>agent</th>\n",
       "      <th>subject_locations</th>\n",
       "      <th>agent_locations</th>\n",
       "      <th>subject_thorax_velocity</th>\n",
       "      <th>agent_thorax_velocity</th>\n",
       "      <th>subject_thorax_to_reward_port</th>\n",
       "      <th>agent_thorax_to_reward_port</th>\n",
       "    </tr>\n",
       "  </thead>\n",
       "  <tbody>\n",
       "    <tr>\n",
       "      <th>0</th>\n",
       "      <td>['1.1', '1.2']</td>\n",
       "      <td>1</td>\n",
       "      <td>20230612_112630_standard_comp_to_training_D1_s...</td>\n",
       "      <td>20230612_112630_standard_comp_to_training_D1_s...</td>\n",
       "      <td>1.1</td>\n",
       "      <td>1125</td>\n",
       "      <td>1225</td>\n",
       "      <td>1324</td>\n",
       "      <td>1.1</td>\n",
       "      <td>Subj 1 blocking Subj 2</td>\n",
       "      <td>...</td>\n",
       "      <td>[45.23441700698972, 35.83828707637651]</td>\n",
       "      <td>[30.458913657178506, 34.21867013031604]</td>\n",
       "      <td>[59.89132415244771, 34.13310301149612]</td>\n",
       "      <td>1.2</td>\n",
       "      <td>[[[46.68890098287189, 11.495085446056166], [43...</td>\n",
       "      <td>[[[34.36404036584844, 35.615553316175784], [34...</td>\n",
       "      <td>[1.8125, 1.707, 1.6045, 1.506, 1.409, 1.315, 1...</td>\n",
       "      <td>[14.336, 12.875, 11.47, 10.11, 8.81, 7.57, 6.3...</td>\n",
       "      <td>[26.45, 26.16, 26.1, 25.77, 25.72, 25.78, 26.1...</td>\n",
       "      <td>[6.11, 6.06, 6.125, 6.566, 6.605, 6.676, 7.13,...</td>\n",
       "    </tr>\n",
       "    <tr>\n",
       "      <th>1</th>\n",
       "      <td>['1.1', '1.2']</td>\n",
       "      <td>1</td>\n",
       "      <td>20230612_112630_standard_comp_to_training_D1_s...</td>\n",
       "      <td>20230612_112630_standard_comp_to_training_D1_s...</td>\n",
       "      <td>1.1</td>\n",
       "      <td>3519</td>\n",
       "      <td>3619</td>\n",
       "      <td>3720</td>\n",
       "      <td>1.2</td>\n",
       "      <td>Subj 2 Only</td>\n",
       "      <td>...</td>\n",
       "      <td>[45.23441700698972, 35.83828707637651]</td>\n",
       "      <td>[30.458913657178506, 34.21867013031604]</td>\n",
       "      <td>[59.89132415244771, 34.13310301149612]</td>\n",
       "      <td>1.2</td>\n",
       "      <td>[[[46.68890098287189, 11.495085446056166], [43...</td>\n",
       "      <td>[[[34.36404036584844, 35.615553316175784], [34...</td>\n",
       "      <td>[1.8125, 1.707, 1.6045, 1.506, 1.409, 1.315, 1...</td>\n",
       "      <td>[14.336, 12.875, 11.47, 10.11, 8.81, 7.57, 6.3...</td>\n",
       "      <td>[26.45, 26.16, 26.1, 25.77, 25.72, 25.78, 26.1...</td>\n",
       "      <td>[6.11, 6.06, 6.125, 6.566, 6.605, 6.676, 7.13,...</td>\n",
       "    </tr>\n",
       "    <tr>\n",
       "      <th>2</th>\n",
       "      <td>['1.1', '1.2']</td>\n",
       "      <td>1</td>\n",
       "      <td>20230612_112630_standard_comp_to_training_D1_s...</td>\n",
       "      <td>20230612_112630_standard_comp_to_training_D1_s...</td>\n",
       "      <td>1.1</td>\n",
       "      <td>5815</td>\n",
       "      <td>5915</td>\n",
       "      <td>6014</td>\n",
       "      <td>1.2</td>\n",
       "      <td>Subj 2 blocking Subj 1</td>\n",
       "      <td>...</td>\n",
       "      <td>[45.23441700698972, 35.83828707637651]</td>\n",
       "      <td>[30.458913657178506, 34.21867013031604]</td>\n",
       "      <td>[59.89132415244771, 34.13310301149612]</td>\n",
       "      <td>1.2</td>\n",
       "      <td>[[[46.68890098287189, 11.495085446056166], [43...</td>\n",
       "      <td>[[[34.36404036584844, 35.615553316175784], [34...</td>\n",
       "      <td>[1.8125, 1.707, 1.6045, 1.506, 1.409, 1.315, 1...</td>\n",
       "      <td>[14.336, 12.875, 11.47, 10.11, 8.81, 7.57, 6.3...</td>\n",
       "      <td>[26.45, 26.16, 26.1, 25.77, 25.72, 25.78, 26.1...</td>\n",
       "      <td>[6.11, 6.06, 6.125, 6.566, 6.605, 6.676, 7.13,...</td>\n",
       "    </tr>\n",
       "    <tr>\n",
       "      <th>3</th>\n",
       "      <td>['1.1', '1.2']</td>\n",
       "      <td>1</td>\n",
       "      <td>20230612_112630_standard_comp_to_training_D1_s...</td>\n",
       "      <td>20230612_112630_standard_comp_to_training_D1_s...</td>\n",
       "      <td>1.1</td>\n",
       "      <td>7612</td>\n",
       "      <td>7712</td>\n",
       "      <td>7811</td>\n",
       "      <td>1.2</td>\n",
       "      <td>Subj 2 Only</td>\n",
       "      <td>...</td>\n",
       "      <td>[45.23441700698972, 35.83828707637651]</td>\n",
       "      <td>[30.458913657178506, 34.21867013031604]</td>\n",
       "      <td>[59.89132415244771, 34.13310301149612]</td>\n",
       "      <td>1.2</td>\n",
       "      <td>[[[46.68890098287189, 11.495085446056166], [43...</td>\n",
       "      <td>[[[34.36404036584844, 35.615553316175784], [34...</td>\n",
       "      <td>[1.8125, 1.707, 1.6045, 1.506, 1.409, 1.315, 1...</td>\n",
       "      <td>[14.336, 12.875, 11.47, 10.11, 8.81, 7.57, 6.3...</td>\n",
       "      <td>[26.45, 26.16, 26.1, 25.77, 25.72, 25.78, 26.1...</td>\n",
       "      <td>[6.11, 6.06, 6.125, 6.566, 6.605, 6.676, 7.13,...</td>\n",
       "    </tr>\n",
       "    <tr>\n",
       "      <th>4</th>\n",
       "      <td>['1.1', '1.2']</td>\n",
       "      <td>1</td>\n",
       "      <td>20230612_112630_standard_comp_to_training_D1_s...</td>\n",
       "      <td>20230612_112630_standard_comp_to_training_D1_s...</td>\n",
       "      <td>1.1</td>\n",
       "      <td>8709</td>\n",
       "      <td>8809</td>\n",
       "      <td>8910</td>\n",
       "      <td>1.2</td>\n",
       "      <td>Subj 2 Only</td>\n",
       "      <td>...</td>\n",
       "      <td>[45.23441700698972, 35.83828707637651]</td>\n",
       "      <td>[30.458913657178506, 34.21867013031604]</td>\n",
       "      <td>[59.89132415244771, 34.13310301149612]</td>\n",
       "      <td>1.2</td>\n",
       "      <td>[[[46.68890098287189, 11.495085446056166], [43...</td>\n",
       "      <td>[[[34.36404036584844, 35.615553316175784], [34...</td>\n",
       "      <td>[1.8125, 1.707, 1.6045, 1.506, 1.409, 1.315, 1...</td>\n",
       "      <td>[14.336, 12.875, 11.47, 10.11, 8.81, 7.57, 6.3...</td>\n",
       "      <td>[26.45, 26.16, 26.1, 25.77, 25.72, 25.78, 26.1...</td>\n",
       "      <td>[6.11, 6.06, 6.125, 6.566, 6.605, 6.676, 7.13,...</td>\n",
       "    </tr>\n",
       "    <tr>\n",
       "      <th>...</th>\n",
       "      <td>...</td>\n",
       "      <td>...</td>\n",
       "      <td>...</td>\n",
       "      <td>...</td>\n",
       "      <td>...</td>\n",
       "      <td>...</td>\n",
       "      <td>...</td>\n",
       "      <td>...</td>\n",
       "      <td>...</td>\n",
       "      <td>...</td>\n",
       "      <td>...</td>\n",
       "      <td>...</td>\n",
       "      <td>...</td>\n",
       "      <td>...</td>\n",
       "      <td>...</td>\n",
       "      <td>...</td>\n",
       "      <td>...</td>\n",
       "      <td>...</td>\n",
       "      <td>...</td>\n",
       "      <td>...</td>\n",
       "      <td>...</td>\n",
       "    </tr>\n",
       "    <tr>\n",
       "      <th>1364</th>\n",
       "      <td>['1.2', '2.2']</td>\n",
       "      <td>2</td>\n",
       "      <td>20230630_115506_standard_comp_to_novel_agent_D...</td>\n",
       "      <td>20230630_115506_standard_comp_to_novel_agent_D...</td>\n",
       "      <td>1.2</td>\n",
       "      <td>60714</td>\n",
       "      <td>60814</td>\n",
       "      <td>60914</td>\n",
       "      <td>2.2</td>\n",
       "      <td>After trial</td>\n",
       "      <td>...</td>\n",
       "      <td>[46.21123795031396, 36.95847031673951]</td>\n",
       "      <td>[31.450146241148413, 35.66393919018587]</td>\n",
       "      <td>[61.147866209397755, 35.553202690286255]</td>\n",
       "      <td>2.2</td>\n",
       "      <td>[[[4.371455668449597, 33.21801163507191], [58....</td>\n",
       "      <td>[[[32.683056182830434, 34.92733973755609], [32...</td>\n",
       "      <td>[0.0, 0.0, 0.0, 0.0, 0.0, 0.0, 0.0, 0.0, 0.0, ...</td>\n",
       "      <td>[0.0756, 0.0727, 0.0699, 0.06714, 0.0644, 0.06...</td>\n",
       "      <td>[41.38, 41.38, 41.38, 41.38, 41.38, 41.38, 41....</td>\n",
       "      <td>[9.98, 9.97, 9.97, 9.97, 9.97, 9.96, 9.96, 10....</td>\n",
       "    </tr>\n",
       "    <tr>\n",
       "      <th>1365</th>\n",
       "      <td>['1.2', '2.2']</td>\n",
       "      <td>2</td>\n",
       "      <td>20230630_115506_standard_comp_to_novel_agent_D...</td>\n",
       "      <td>20230630_115506_standard_comp_to_novel_agent_D...</td>\n",
       "      <td>1.2</td>\n",
       "      <td>62211</td>\n",
       "      <td>62311</td>\n",
       "      <td>62410</td>\n",
       "      <td>2.2</td>\n",
       "      <td>After trial</td>\n",
       "      <td>...</td>\n",
       "      <td>[46.21123795031396, 36.95847031673951]</td>\n",
       "      <td>[31.450146241148413, 35.66393919018587]</td>\n",
       "      <td>[61.147866209397755, 35.553202690286255]</td>\n",
       "      <td>2.2</td>\n",
       "      <td>[[[4.371455668449597, 33.21801163507191], [58....</td>\n",
       "      <td>[[[32.683056182830434, 34.92733973755609], [32...</td>\n",
       "      <td>[0.0, 0.0, 0.0, 0.0, 0.0, 0.0, 0.0, 0.0, 0.0, ...</td>\n",
       "      <td>[0.0756, 0.0727, 0.0699, 0.06714, 0.0644, 0.06...</td>\n",
       "      <td>[41.38, 41.38, 41.38, 41.38, 41.38, 41.38, 41....</td>\n",
       "      <td>[9.98, 9.97, 9.97, 9.97, 9.97, 9.96, 9.96, 10....</td>\n",
       "    </tr>\n",
       "    <tr>\n",
       "      <th>1366</th>\n",
       "      <td>['1.2', '2.2']</td>\n",
       "      <td>2</td>\n",
       "      <td>20230630_115506_standard_comp_to_novel_agent_D...</td>\n",
       "      <td>20230630_115506_standard_comp_to_novel_agent_D...</td>\n",
       "      <td>1.2</td>\n",
       "      <td>64207</td>\n",
       "      <td>64307</td>\n",
       "      <td>64406</td>\n",
       "      <td>2.2</td>\n",
       "      <td>After trial</td>\n",
       "      <td>...</td>\n",
       "      <td>[46.21123795031396, 36.95847031673951]</td>\n",
       "      <td>[31.450146241148413, 35.66393919018587]</td>\n",
       "      <td>[61.147866209397755, 35.553202690286255]</td>\n",
       "      <td>2.2</td>\n",
       "      <td>[[[4.371455668449597, 33.21801163507191], [58....</td>\n",
       "      <td>[[[32.683056182830434, 34.92733973755609], [32...</td>\n",
       "      <td>[0.0, 0.0, 0.0, 0.0, 0.0, 0.0, 0.0, 0.0, 0.0, ...</td>\n",
       "      <td>[0.0756, 0.0727, 0.0699, 0.06714, 0.0644, 0.06...</td>\n",
       "      <td>[41.38, 41.38, 41.38, 41.38, 41.38, 41.38, 41....</td>\n",
       "      <td>[9.98, 9.97, 9.97, 9.97, 9.97, 9.96, 9.96, 10....</td>\n",
       "    </tr>\n",
       "    <tr>\n",
       "      <th>1367</th>\n",
       "      <td>['1.2', '2.2']</td>\n",
       "      <td>2</td>\n",
       "      <td>20230630_115506_standard_comp_to_novel_agent_D...</td>\n",
       "      <td>20230630_115506_standard_comp_to_novel_agent_D...</td>\n",
       "      <td>1.2</td>\n",
       "      <td>66104</td>\n",
       "      <td>66204</td>\n",
       "      <td>66303</td>\n",
       "      <td>2.2</td>\n",
       "      <td>After trial</td>\n",
       "      <td>...</td>\n",
       "      <td>[46.21123795031396, 36.95847031673951]</td>\n",
       "      <td>[31.450146241148413, 35.66393919018587]</td>\n",
       "      <td>[61.147866209397755, 35.553202690286255]</td>\n",
       "      <td>2.2</td>\n",
       "      <td>[[[4.371455668449597, 33.21801163507191], [58....</td>\n",
       "      <td>[[[32.683056182830434, 34.92733973755609], [32...</td>\n",
       "      <td>[0.0, 0.0, 0.0, 0.0, 0.0, 0.0, 0.0, 0.0, 0.0, ...</td>\n",
       "      <td>[0.0756, 0.0727, 0.0699, 0.06714, 0.0644, 0.06...</td>\n",
       "      <td>[41.38, 41.38, 41.38, 41.38, 41.38, 41.38, 41....</td>\n",
       "      <td>[9.98, 9.97, 9.97, 9.97, 9.97, 9.96, 9.96, 10....</td>\n",
       "    </tr>\n",
       "    <tr>\n",
       "      <th>1368</th>\n",
       "      <td>['1.2', '2.2']</td>\n",
       "      <td>2</td>\n",
       "      <td>20230630_115506_standard_comp_to_novel_agent_D...</td>\n",
       "      <td>20230630_115506_standard_comp_to_novel_agent_D...</td>\n",
       "      <td>1.2</td>\n",
       "      <td>67102</td>\n",
       "      <td>67202</td>\n",
       "      <td>67301</td>\n",
       "      <td>2.2</td>\n",
       "      <td>After trial</td>\n",
       "      <td>...</td>\n",
       "      <td>[46.21123795031396, 36.95847031673951]</td>\n",
       "      <td>[31.450146241148413, 35.66393919018587]</td>\n",
       "      <td>[61.147866209397755, 35.553202690286255]</td>\n",
       "      <td>2.2</td>\n",
       "      <td>[[[4.371455668449597, 33.21801163507191], [58....</td>\n",
       "      <td>[[[32.683056182830434, 34.92733973755609], [32...</td>\n",
       "      <td>[0.0, 0.0, 0.0, 0.0, 0.0, 0.0, 0.0, 0.0, 0.0, ...</td>\n",
       "      <td>[0.0756, 0.0727, 0.0699, 0.06714, 0.0644, 0.06...</td>\n",
       "      <td>[41.38, 41.38, 41.38, 41.38, 41.38, 41.38, 41....</td>\n",
       "      <td>[9.98, 9.97, 9.97, 9.97, 9.97, 9.96, 9.96, 10....</td>\n",
       "    </tr>\n",
       "  </tbody>\n",
       "</table>\n",
       "<p>1369 rows × 178 columns</p>\n",
       "</div>"
      ],
      "text/plain": [
       "     tracked_subject  box_number  \\\n",
       "0     ['1.1', '1.2']           1   \n",
       "1     ['1.1', '1.2']           1   \n",
       "2     ['1.1', '1.2']           1   \n",
       "3     ['1.1', '1.2']           1   \n",
       "4     ['1.1', '1.2']           1   \n",
       "...              ...         ...   \n",
       "1364  ['1.2', '2.2']           2   \n",
       "1365  ['1.2', '2.2']           2   \n",
       "1366  ['1.2', '2.2']           2   \n",
       "1367  ['1.2', '2.2']           2   \n",
       "1368  ['1.2', '2.2']           2   \n",
       "\n",
       "                                             sleap_name  \\\n",
       "0     20230612_112630_standard_comp_to_training_D1_s...   \n",
       "1     20230612_112630_standard_comp_to_training_D1_s...   \n",
       "2     20230612_112630_standard_comp_to_training_D1_s...   \n",
       "3     20230612_112630_standard_comp_to_training_D1_s...   \n",
       "4     20230612_112630_standard_comp_to_training_D1_s...   \n",
       "...                                                 ...   \n",
       "1364  20230630_115506_standard_comp_to_novel_agent_D...   \n",
       "1365  20230630_115506_standard_comp_to_novel_agent_D...   \n",
       "1366  20230630_115506_standard_comp_to_novel_agent_D...   \n",
       "1367  20230630_115506_standard_comp_to_novel_agent_D...   \n",
       "1368  20230630_115506_standard_comp_to_novel_agent_D...   \n",
       "\n",
       "                                             video_name current_subject  \\\n",
       "0     20230612_112630_standard_comp_to_training_D1_s...             1.1   \n",
       "1     20230612_112630_standard_comp_to_training_D1_s...             1.1   \n",
       "2     20230612_112630_standard_comp_to_training_D1_s...             1.1   \n",
       "3     20230612_112630_standard_comp_to_training_D1_s...             1.1   \n",
       "4     20230612_112630_standard_comp_to_training_D1_s...             1.1   \n",
       "...                                                 ...             ...   \n",
       "1364  20230630_115506_standard_comp_to_novel_agent_D...             1.2   \n",
       "1365  20230630_115506_standard_comp_to_novel_agent_D...             1.2   \n",
       "1366  20230630_115506_standard_comp_to_novel_agent_D...             1.2   \n",
       "1367  20230630_115506_standard_comp_to_novel_agent_D...             1.2   \n",
       "1368  20230630_115506_standard_comp_to_novel_agent_D...             1.2   \n",
       "\n",
       "      tone_start_frame  reward_start_frame  tone_stop_frame condition  \\\n",
       "0                 1125                1225             1324       1.1   \n",
       "1                 3519                3619             3720       1.2   \n",
       "2                 5815                5915             6014       1.2   \n",
       "3                 7612                7712             7811       1.2   \n",
       "4                 8709                8809             8910       1.2   \n",
       "...                ...                 ...              ...       ...   \n",
       "1364             60714               60814            60914       2.2   \n",
       "1365             62211               62311            62410       2.2   \n",
       "1366             64207               64307            64406       2.2   \n",
       "1367             66104               66204            66303       2.2   \n",
       "1368             67102               67202            67301       2.2   \n",
       "\n",
       "       competition_closeness  ...                             reward_port  \\\n",
       "0     Subj 1 blocking Subj 2  ...  [45.23441700698972, 35.83828707637651]   \n",
       "1                Subj 2 Only  ...  [45.23441700698972, 35.83828707637651]   \n",
       "2     Subj 2 blocking Subj 1  ...  [45.23441700698972, 35.83828707637651]   \n",
       "3                Subj 2 Only  ...  [45.23441700698972, 35.83828707637651]   \n",
       "4                Subj 2 Only  ...  [45.23441700698972, 35.83828707637651]   \n",
       "...                      ...  ...                                     ...   \n",
       "1364             After trial  ...  [46.21123795031396, 36.95847031673951]   \n",
       "1365             After trial  ...  [46.21123795031396, 36.95847031673951]   \n",
       "1366             After trial  ...  [46.21123795031396, 36.95847031673951]   \n",
       "1367             After trial  ...  [46.21123795031396, 36.95847031673951]   \n",
       "1368             After trial  ...  [46.21123795031396, 36.95847031673951]   \n",
       "\n",
       "                              box_bottom_left  \\\n",
       "0     [30.458913657178506, 34.21867013031604]   \n",
       "1     [30.458913657178506, 34.21867013031604]   \n",
       "2     [30.458913657178506, 34.21867013031604]   \n",
       "3     [30.458913657178506, 34.21867013031604]   \n",
       "4     [30.458913657178506, 34.21867013031604]   \n",
       "...                                       ...   \n",
       "1364  [31.450146241148413, 35.66393919018587]   \n",
       "1365  [31.450146241148413, 35.66393919018587]   \n",
       "1366  [31.450146241148413, 35.66393919018587]   \n",
       "1367  [31.450146241148413, 35.66393919018587]   \n",
       "1368  [31.450146241148413, 35.66393919018587]   \n",
       "\n",
       "                              box_bottom_right agent  \\\n",
       "0       [59.89132415244771, 34.13310301149612]   1.2   \n",
       "1       [59.89132415244771, 34.13310301149612]   1.2   \n",
       "2       [59.89132415244771, 34.13310301149612]   1.2   \n",
       "3       [59.89132415244771, 34.13310301149612]   1.2   \n",
       "4       [59.89132415244771, 34.13310301149612]   1.2   \n",
       "...                                        ...   ...   \n",
       "1364  [61.147866209397755, 35.553202690286255]   2.2   \n",
       "1365  [61.147866209397755, 35.553202690286255]   2.2   \n",
       "1366  [61.147866209397755, 35.553202690286255]   2.2   \n",
       "1367  [61.147866209397755, 35.553202690286255]   2.2   \n",
       "1368  [61.147866209397755, 35.553202690286255]   2.2   \n",
       "\n",
       "                                      subject_locations  \\\n",
       "0     [[[46.68890098287189, 11.495085446056166], [43...   \n",
       "1     [[[46.68890098287189, 11.495085446056166], [43...   \n",
       "2     [[[46.68890098287189, 11.495085446056166], [43...   \n",
       "3     [[[46.68890098287189, 11.495085446056166], [43...   \n",
       "4     [[[46.68890098287189, 11.495085446056166], [43...   \n",
       "...                                                 ...   \n",
       "1364  [[[4.371455668449597, 33.21801163507191], [58....   \n",
       "1365  [[[4.371455668449597, 33.21801163507191], [58....   \n",
       "1366  [[[4.371455668449597, 33.21801163507191], [58....   \n",
       "1367  [[[4.371455668449597, 33.21801163507191], [58....   \n",
       "1368  [[[4.371455668449597, 33.21801163507191], [58....   \n",
       "\n",
       "                                        agent_locations  \\\n",
       "0     [[[34.36404036584844, 35.615553316175784], [34...   \n",
       "1     [[[34.36404036584844, 35.615553316175784], [34...   \n",
       "2     [[[34.36404036584844, 35.615553316175784], [34...   \n",
       "3     [[[34.36404036584844, 35.615553316175784], [34...   \n",
       "4     [[[34.36404036584844, 35.615553316175784], [34...   \n",
       "...                                                 ...   \n",
       "1364  [[[32.683056182830434, 34.92733973755609], [32...   \n",
       "1365  [[[32.683056182830434, 34.92733973755609], [32...   \n",
       "1366  [[[32.683056182830434, 34.92733973755609], [32...   \n",
       "1367  [[[32.683056182830434, 34.92733973755609], [32...   \n",
       "1368  [[[32.683056182830434, 34.92733973755609], [32...   \n",
       "\n",
       "                                subject_thorax_velocity  \\\n",
       "0     [1.8125, 1.707, 1.6045, 1.506, 1.409, 1.315, 1...   \n",
       "1     [1.8125, 1.707, 1.6045, 1.506, 1.409, 1.315, 1...   \n",
       "2     [1.8125, 1.707, 1.6045, 1.506, 1.409, 1.315, 1...   \n",
       "3     [1.8125, 1.707, 1.6045, 1.506, 1.409, 1.315, 1...   \n",
       "4     [1.8125, 1.707, 1.6045, 1.506, 1.409, 1.315, 1...   \n",
       "...                                                 ...   \n",
       "1364  [0.0, 0.0, 0.0, 0.0, 0.0, 0.0, 0.0, 0.0, 0.0, ...   \n",
       "1365  [0.0, 0.0, 0.0, 0.0, 0.0, 0.0, 0.0, 0.0, 0.0, ...   \n",
       "1366  [0.0, 0.0, 0.0, 0.0, 0.0, 0.0, 0.0, 0.0, 0.0, ...   \n",
       "1367  [0.0, 0.0, 0.0, 0.0, 0.0, 0.0, 0.0, 0.0, 0.0, ...   \n",
       "1368  [0.0, 0.0, 0.0, 0.0, 0.0, 0.0, 0.0, 0.0, 0.0, ...   \n",
       "\n",
       "                                  agent_thorax_velocity  \\\n",
       "0     [14.336, 12.875, 11.47, 10.11, 8.81, 7.57, 6.3...   \n",
       "1     [14.336, 12.875, 11.47, 10.11, 8.81, 7.57, 6.3...   \n",
       "2     [14.336, 12.875, 11.47, 10.11, 8.81, 7.57, 6.3...   \n",
       "3     [14.336, 12.875, 11.47, 10.11, 8.81, 7.57, 6.3...   \n",
       "4     [14.336, 12.875, 11.47, 10.11, 8.81, 7.57, 6.3...   \n",
       "...                                                 ...   \n",
       "1364  [0.0756, 0.0727, 0.0699, 0.06714, 0.0644, 0.06...   \n",
       "1365  [0.0756, 0.0727, 0.0699, 0.06714, 0.0644, 0.06...   \n",
       "1366  [0.0756, 0.0727, 0.0699, 0.06714, 0.0644, 0.06...   \n",
       "1367  [0.0756, 0.0727, 0.0699, 0.06714, 0.0644, 0.06...   \n",
       "1368  [0.0756, 0.0727, 0.0699, 0.06714, 0.0644, 0.06...   \n",
       "\n",
       "                          subject_thorax_to_reward_port  \\\n",
       "0     [26.45, 26.16, 26.1, 25.77, 25.72, 25.78, 26.1...   \n",
       "1     [26.45, 26.16, 26.1, 25.77, 25.72, 25.78, 26.1...   \n",
       "2     [26.45, 26.16, 26.1, 25.77, 25.72, 25.78, 26.1...   \n",
       "3     [26.45, 26.16, 26.1, 25.77, 25.72, 25.78, 26.1...   \n",
       "4     [26.45, 26.16, 26.1, 25.77, 25.72, 25.78, 26.1...   \n",
       "...                                                 ...   \n",
       "1364  [41.38, 41.38, 41.38, 41.38, 41.38, 41.38, 41....   \n",
       "1365  [41.38, 41.38, 41.38, 41.38, 41.38, 41.38, 41....   \n",
       "1366  [41.38, 41.38, 41.38, 41.38, 41.38, 41.38, 41....   \n",
       "1367  [41.38, 41.38, 41.38, 41.38, 41.38, 41.38, 41....   \n",
       "1368  [41.38, 41.38, 41.38, 41.38, 41.38, 41.38, 41....   \n",
       "\n",
       "                            agent_thorax_to_reward_port  \n",
       "0     [6.11, 6.06, 6.125, 6.566, 6.605, 6.676, 7.13,...  \n",
       "1     [6.11, 6.06, 6.125, 6.566, 6.605, 6.676, 7.13,...  \n",
       "2     [6.11, 6.06, 6.125, 6.566, 6.605, 6.676, 7.13,...  \n",
       "3     [6.11, 6.06, 6.125, 6.566, 6.605, 6.676, 7.13,...  \n",
       "4     [6.11, 6.06, 6.125, 6.566, 6.605, 6.676, 7.13,...  \n",
       "...                                                 ...  \n",
       "1364  [9.98, 9.97, 9.97, 9.97, 9.97, 9.96, 9.96, 10....  \n",
       "1365  [9.98, 9.97, 9.97, 9.97, 9.97, 9.96, 9.96, 10....  \n",
       "1366  [9.98, 9.97, 9.97, 9.97, 9.97, 9.96, 9.96, 10....  \n",
       "1367  [9.98, 9.97, 9.97, 9.97, 9.97, 9.96, 9.96, 10....  \n",
       "1368  [9.98, 9.97, 9.97, 9.97, 9.97, 9.96, 9.96, 10....  \n",
       "\n",
       "[1369 rows x 178 columns]"
      ]
     },
     "execution_count": 45,
     "metadata": {},
     "output_type": "execute_result"
    }
   ],
   "source": [
    "TRIALS_AND_SPECTRAL_DF"
   ]
  },
  {
   "cell_type": "markdown",
   "metadata": {},
   "source": [
    "# Calculating the relevant timestamps"
   ]
  },
  {
   "cell_type": "code",
   "execution_count": 46,
   "metadata": {
    "tags": []
   },
   "outputs": [],
   "source": [
    "TRIALS_AND_SPECTRAL_DF[\"baseline_start_timestamp\"] = TRIALS_AND_SPECTRAL_DF[\"tone_start_timestamp\"] - 30 * 20000"
   ]
  },
  {
   "cell_type": "code",
   "execution_count": 47,
   "metadata": {
    "tags": []
   },
   "outputs": [],
   "source": [
    "TRIALS_AND_SPECTRAL_DF[\"baseline_stop_timestamp\"] = TRIALS_AND_SPECTRAL_DF[\"tone_start_timestamp\"] - 20 * 20000"
   ]
  },
  {
   "cell_type": "code",
   "execution_count": 48,
   "metadata": {
    "tags": []
   },
   "outputs": [
    {
     "data": {
      "text/plain": [
       "0     526742\n",
       "1    2926740\n",
       "2    5226740\n",
       "3    7026736\n",
       "4    8126734\n",
       "Name: baseline_start_timestamp, dtype: int64"
      ]
     },
     "execution_count": 48,
     "metadata": {},
     "output_type": "execute_result"
    }
   ],
   "source": [
    "TRIALS_AND_SPECTRAL_DF[\"baseline_start_timestamp\"].head()"
   ]
  },
  {
   "cell_type": "code",
   "execution_count": 49,
   "metadata": {
    "tags": []
   },
   "outputs": [
    {
     "data": {
      "text/plain": [
       "0     726742\n",
       "1    3126740\n",
       "2    5426740\n",
       "3    7226736\n",
       "4    8326734\n",
       "Name: baseline_stop_timestamp, dtype: int64"
      ]
     },
     "execution_count": 49,
     "metadata": {},
     "output_type": "execute_result"
    }
   ],
   "source": [
    "TRIALS_AND_SPECTRAL_DF[\"baseline_stop_timestamp\"].head()"
   ]
  },
  {
   "cell_type": "code",
   "execution_count": 50,
   "metadata": {
    "tags": []
   },
   "outputs": [
    {
     "data": {
      "text/plain": [
       "0    1126742\n",
       "1    3526740\n",
       "2    5826740\n",
       "3    7626736\n",
       "4    8726734\n",
       "Name: tone_start_timestamp, dtype: int64"
      ]
     },
     "execution_count": 50,
     "metadata": {},
     "output_type": "execute_result"
    }
   ],
   "source": [
    "TRIALS_AND_SPECTRAL_DF[\"tone_start_timestamp\"].head()"
   ]
  },
  {
   "cell_type": "code",
   "execution_count": 51,
   "metadata": {
    "tags": []
   },
   "outputs": [
    {
     "data": {
      "text/plain": [
       "0    1326741\n",
       "1    3726740\n",
       "2    6026737\n",
       "3    7826735\n",
       "4    8926734\n",
       "Name: tone_stop_timestamp, dtype: int64"
      ]
     },
     "execution_count": 51,
     "metadata": {},
     "output_type": "execute_result"
    }
   ],
   "source": [
    "TRIALS_AND_SPECTRAL_DF[\"tone_stop_timestamp\"].head()"
   ]
  },
  {
   "cell_type": "code",
   "execution_count": null,
   "metadata": {},
   "outputs": [],
   "source": []
  },
  {
   "cell_type": "markdown",
   "metadata": {},
   "source": [
    "# Filtering out the SLEAP posed for during trials"
   ]
  },
  {
   "cell_type": "code",
   "execution_count": 52,
   "metadata": {
    "tags": []
   },
   "outputs": [],
   "source": [
    "TRIALS_AND_SPECTRAL_DF[\"video_frame\"] = TRIALS_AND_SPECTRAL_DF[\"video_timestamps\"].apply(lambda x: np.array(list(range(len(x)))) + 1)"
   ]
  },
  {
   "cell_type": "code",
   "execution_count": 53,
   "metadata": {
    "tags": []
   },
   "outputs": [
    {
     "data": {
      "text/plain": [
       "0    [1, 2, 3, 4, 5, 6, 7, 8, 9, 10, 11, 12, 13, 14...\n",
       "1    [1, 2, 3, 4, 5, 6, 7, 8, 9, 10, 11, 12, 13, 14...\n",
       "2    [1, 2, 3, 4, 5, 6, 7, 8, 9, 10, 11, 12, 13, 14...\n",
       "3    [1, 2, 3, 4, 5, 6, 7, 8, 9, 10, 11, 12, 13, 14...\n",
       "4    [1, 2, 3, 4, 5, 6, 7, 8, 9, 10, 11, 12, 13, 14...\n",
       "Name: video_frame, dtype: object"
      ]
     },
     "execution_count": 53,
     "metadata": {},
     "output_type": "execute_result"
    }
   ],
   "source": [
    "TRIALS_AND_SPECTRAL_DF[\"video_frame\"].head()"
   ]
  },
  {
   "cell_type": "code",
   "execution_count": 54,
   "metadata": {
    "tags": []
   },
   "outputs": [],
   "source": [
    "sleap_columns = [col for col in TRIALS_AND_SPECTRAL_DF.columns if \"locations\" in col or \"velocity\" in col or \"to_reward_port\" in col or \"video_frame\" in col]"
   ]
  },
  {
   "cell_type": "code",
   "execution_count": 55,
   "metadata": {
    "tags": []
   },
   "outputs": [
    {
     "data": {
      "text/plain": [
       "['subject_locations',\n",
       " 'agent_locations',\n",
       " 'subject_thorax_velocity',\n",
       " 'agent_thorax_velocity',\n",
       " 'subject_thorax_to_reward_port',\n",
       " 'agent_thorax_to_reward_port',\n",
       " 'video_frame']"
      ]
     },
     "execution_count": 55,
     "metadata": {},
     "output_type": "execute_result"
    }
   ],
   "source": [
    "sleap_columns"
   ]
  },
  {
   "cell_type": "code",
   "execution_count": 56,
   "metadata": {
    "tags": []
   },
   "outputs": [
    {
     "data": {
      "text/plain": [
       "(68258,)"
      ]
     },
     "execution_count": 56,
     "metadata": {},
     "output_type": "execute_result"
    }
   ],
   "source": [
    "TRIALS_AND_SPECTRAL_DF[\"video_timestamps\"].iloc[0].shape"
   ]
  },
  {
   "cell_type": "code",
   "execution_count": 57,
   "metadata": {
    "tags": []
   },
   "outputs": [
    {
     "data": {
      "text/plain": [
       "(68258,)"
      ]
     },
     "execution_count": 57,
     "metadata": {},
     "output_type": "execute_result"
    }
   ],
   "source": [
    "TRIALS_AND_SPECTRAL_DF[\"video_frame\"].iloc[0].shape"
   ]
  },
  {
   "cell_type": "code",
   "execution_count": 58,
   "metadata": {
    "tags": []
   },
   "outputs": [
    {
     "data": {
      "text/plain": [
       "(68258,)"
      ]
     },
     "execution_count": 58,
     "metadata": {},
     "output_type": "execute_result"
    }
   ],
   "source": [
    "TRIALS_AND_SPECTRAL_DF[\"subject_thorax_to_reward_port\"].iloc[0].shape"
   ]
  },
  {
   "cell_type": "code",
   "execution_count": 59,
   "metadata": {
    "tags": []
   },
   "outputs": [
    {
     "name": "stdout",
     "output_type": "stream",
     "text": [
      "baseline_agent_locations\n",
      "baseline_agent_thorax_to_reward_port\n",
      "baseline_agent_thorax_velocity\n",
      "baseline_subject_locations\n",
      "baseline_subject_thorax_to_reward_port\n",
      "baseline_subject_thorax_velocity\n",
      "baseline_video_frame\n"
     ]
    }
   ],
   "source": [
    "for col in sorted(sleap_columns):\n",
    "    updated_item_col = \"baseline_{}\".format(col)\n",
    "    print(updated_item_col)\n",
    "    updated_timestamp_col = \"baseline_video_timestamps\".format(col)\n",
    "    if \"agent\" in col:\n",
    "        TRIALS_AND_SPECTRAL_DF[updated_item_col] = TRIALS_AND_SPECTRAL_DF.apply(lambda x: utilities.helper.filter_by_timestamp_range(start=x[\"baseline_start_timestamp\"], stop=x[\"baseline_stop_timestamp\"], timestamps=x[\"video_timestamps\"], items=x[col])[1] if x[\"agent\"] else np.nan, axis=1)\n",
    "    else:\n",
    "        TRIALS_AND_SPECTRAL_DF[updated_item_col] = TRIALS_AND_SPECTRAL_DF.apply(lambda x: utilities.helper.filter_by_timestamp_range(start=x[\"baseline_start_timestamp\"], stop=x[\"baseline_stop_timestamp\"], timestamps=x[\"video_timestamps\"], items=x[col])[1], axis=1)\n",
    "\n",
    "TRIALS_AND_SPECTRAL_DF[updated_timestamp_col] = TRIALS_AND_SPECTRAL_DF.apply(lambda x: utilities.helper.filter_by_timestamp_range(start=x[\"baseline_start_timestamp\"], stop=x[\"baseline_stop_timestamp\"], timestamps=x[\"video_timestamps\"], items=x[col])[0], axis=1)"
   ]
  },
  {
   "cell_type": "code",
   "execution_count": 60,
   "metadata": {
    "tags": []
   },
   "outputs": [
    {
     "name": "stdout",
     "output_type": "stream",
     "text": [
      "trial_agent_locations\n",
      "trial_agent_thorax_to_reward_port\n",
      "trial_agent_thorax_velocity\n",
      "trial_subject_locations\n",
      "trial_subject_thorax_to_reward_port\n",
      "trial_subject_thorax_velocity\n",
      "trial_video_frame\n"
     ]
    }
   ],
   "source": [
    "for col in sorted(sleap_columns):\n",
    "    updated_item_col = \"trial_{}\".format(col)\n",
    "    print(updated_item_col)\n",
    "    updated_timestamp_col = \"trial_video_timestamps\".format(col)\n",
    "    if \"agent\" in col:\n",
    "        TRIALS_AND_SPECTRAL_DF[updated_item_col] = TRIALS_AND_SPECTRAL_DF.apply(lambda x: utilities.helper.filter_by_timestamp_range(start=x[\"tone_start_timestamp\"], stop=x[\"tone_stop_timestamp\"], timestamps=x[\"video_timestamps\"], items=x[col])[1] if x[\"agent\"] else np.nan, axis=1)\n",
    "    else:\n",
    "        TRIALS_AND_SPECTRAL_DF[updated_item_col] = TRIALS_AND_SPECTRAL_DF.apply(lambda x: utilities.helper.filter_by_timestamp_range(start=x[\"tone_start_timestamp\"], stop=x[\"tone_stop_timestamp\"], timestamps=x[\"video_timestamps\"], items=x[col])[1], axis=1)\n",
    "\n",
    "TRIALS_AND_SPECTRAL_DF[updated_timestamp_col] = TRIALS_AND_SPECTRAL_DF.apply(lambda x: utilities.helper.filter_by_timestamp_range(start=x[\"tone_start_timestamp\"], stop=x[\"tone_stop_timestamp\"], timestamps=x[\"video_timestamps\"], items=x[col])[0], axis=1)"
   ]
  },
  {
   "cell_type": "code",
   "execution_count": 61,
   "metadata": {
    "tags": []
   },
   "outputs": [
    {
     "data": {
      "text/plain": [
       "Series([], Name: baseline_subject_locations, dtype: object)"
      ]
     },
     "execution_count": 61,
     "metadata": {},
     "output_type": "execute_result"
    }
   ],
   "source": [
    "TRIALS_AND_SPECTRAL_DF[TRIALS_AND_SPECTRAL_DF[\"trial_subject_thorax_velocity\"].apply(lambda x: np.isnan(x).any())][\"baseline_subject_locations\"]"
   ]
  },
  {
   "cell_type": "code",
   "execution_count": 62,
   "metadata": {
    "tags": []
   },
   "outputs": [],
   "source": [
    "TRIALS_AND_SPECTRAL_DF = TRIALS_AND_SPECTRAL_DF.drop(columns=sleap_columns + [\"video_timestamps\"], errors=\"ignore\")"
   ]
  },
  {
   "cell_type": "code",
   "execution_count": 63,
   "metadata": {
    "tags": []
   },
   "outputs": [
    {
     "name": "stdout",
     "output_type": "stream",
     "text": [
      "tracked_subject\n",
      "box_number\n",
      "sleap_name\n",
      "video_name\n",
      "current_subject\n",
      "tone_start_frame\n",
      "reward_start_frame\n",
      "tone_stop_frame\n",
      "condition\n",
      "competition_closeness\n",
      "notes\n",
      "experiment\n",
      "session_dir\n",
      "all_subjects\n",
      "tone_start_timestamp\n",
      "tone_stop_timestamp\n",
      "trial_label\n",
      "cohort\n",
      "tone_frames\n",
      "box_1_port_entry_frames\n",
      "box_2_port_entry_frames\n",
      "session_path\n",
      "recording\n",
      "subject\n",
      "first_timestamp\n",
      "last_timestamp\n",
      "tone_timestamps\n",
      "box_1_port_entry_timestamps\n",
      "box_2_port_entry_timestamps\n",
      "lfp_timestamps\n",
      "mPFC_theta_band\n",
      "MD_theta_band\n",
      "LH_theta_band\n",
      "BLA_theta_band\n",
      "vHPC_theta_band\n",
      "mPFC_gamma_band\n",
      "MD_gamma_band\n",
      "LH_gamma_band\n",
      "BLA_gamma_band\n",
      "vHPC_gamma_band\n",
      "mPFC_theta_phase\n",
      "MD_theta_phase\n",
      "LH_theta_phase\n",
      "BLA_theta_phase\n",
      "vHPC_theta_phase\n",
      "mPFC_gamma_phase\n",
      "MD_gamma_phase\n",
      "LH_gamma_phase\n",
      "BLA_gamma_phase\n",
      "vHPC_gamma_phase\n",
      "mPFC_RMS_filtered_power_all_frequencies_all_windows\n",
      "MD_RMS_filtered_power_all_frequencies_all_windows\n",
      "LH_RMS_filtered_power_all_frequencies_all_windows\n",
      "BLA_RMS_filtered_power_all_frequencies_all_windows\n",
      "vHPC_RMS_filtered_power_all_frequencies_all_windows\n",
      "power_timestamps\n",
      "power_calculation_frequencies\n",
      "BLA_LH_RMS_filtered_coherence_all_frequencies_all_windows\n",
      "BLA_MD_RMS_filtered_coherence_all_frequencies_all_windows\n",
      "BLA_mPFC_RMS_filtered_coherence_all_frequencies_all_windows\n",
      "BLA_vHPC_RMS_filtered_coherence_all_frequencies_all_windows\n",
      "LH_MD_RMS_filtered_coherence_all_frequencies_all_windows\n",
      "LH_mPFC_RMS_filtered_coherence_all_frequencies_all_windows\n",
      "LH_vHPC_RMS_filtered_coherence_all_frequencies_all_windows\n",
      "MD_mPFC_RMS_filtered_coherence_all_frequencies_all_windows\n",
      "MD_vHPC_RMS_filtered_coherence_all_frequencies_all_windows\n",
      "mPFC_vHPC_RMS_filtered_coherence_all_frequencies_all_windows\n",
      "coherence_timestamps\n",
      "coherence_calculation_frequencies\n",
      "BLA_LH_granger_all_frequencies_all_windows\n",
      "LH_BLA_granger_all_frequencies_all_windows\n",
      "BLA_MD_granger_all_frequencies_all_windows\n",
      "MD_BLA_granger_all_frequencies_all_windows\n",
      "BLA_mPFC_granger_all_frequencies_all_windows\n",
      "mPFC_BLA_granger_all_frequencies_all_windows\n",
      "BLA_vHPC_granger_all_frequencies_all_windows\n",
      "vHPC_BLA_granger_all_frequencies_all_windows\n",
      "LH_MD_granger_all_frequencies_all_windows\n",
      "MD_LH_granger_all_frequencies_all_windows\n",
      "LH_mPFC_granger_all_frequencies_all_windows\n",
      "mPFC_LH_granger_all_frequencies_all_windows\n",
      "LH_vHPC_granger_all_frequencies_all_windows\n",
      "vHPC_LH_granger_all_frequencies_all_windows\n",
      "MD_mPFC_granger_all_frequencies_all_windows\n",
      "mPFC_MD_granger_all_frequencies_all_windows\n",
      "MD_vHPC_granger_all_frequencies_all_windows\n",
      "vHPC_MD_granger_all_frequencies_all_windows\n",
      "mPFC_vHPC_granger_all_frequencies_all_windows\n",
      "vHPC_mPFC_granger_all_frequencies_all_windows\n",
      "granger_timestamps\n",
      "granger_calculation_frequencies\n",
      "BLA_LH_coherence_theta\n",
      "BLA_LH_coherence_gamma\n",
      "BLA_MD_coherence_theta\n",
      "BLA_MD_coherence_gamma\n",
      "BLA_mPFC_coherence_theta\n",
      "BLA_mPFC_coherence_gamma\n",
      "BLA_vHPC_coherence_theta\n",
      "BLA_vHPC_coherence_gamma\n",
      "LH_MD_coherence_theta\n",
      "LH_MD_coherence_gamma\n",
      "LH_mPFC_coherence_theta\n",
      "LH_mPFC_coherence_gamma\n",
      "LH_vHPC_coherence_theta\n",
      "LH_vHPC_coherence_gamma\n",
      "MD_mPFC_coherence_theta\n",
      "MD_mPFC_coherence_gamma\n",
      "MD_vHPC_coherence_theta\n",
      "MD_vHPC_coherence_gamma\n",
      "mPFC_vHPC_coherence_theta\n",
      "mPFC_vHPC_coherence_gamma\n",
      "BLA-to-LH_granger_theta\n",
      "BLA-to-LH_granger_gamma\n",
      "LH-to-BLA_granger_theta\n",
      "LH-to-BLA_granger_gamma\n",
      "BLA-to-MD_granger_theta\n",
      "BLA-to-MD_granger_gamma\n",
      "MD-to-BLA_granger_theta\n",
      "MD-to-BLA_granger_gamma\n",
      "BLA-to-mPFC_granger_theta\n",
      "BLA-to-mPFC_granger_gamma\n",
      "mPFC-to-BLA_granger_theta\n",
      "mPFC-to-BLA_granger_gamma\n",
      "BLA-to-vHPC_granger_theta\n",
      "BLA-to-vHPC_granger_gamma\n",
      "vHPC-to-BLA_granger_theta\n",
      "vHPC-to-BLA_granger_gamma\n",
      "LH-to-MD_granger_theta\n",
      "LH-to-MD_granger_gamma\n",
      "MD-to-LH_granger_theta\n",
      "MD-to-LH_granger_gamma\n",
      "LH-to-mPFC_granger_theta\n",
      "LH-to-mPFC_granger_gamma\n",
      "mPFC-to-LH_granger_theta\n",
      "mPFC-to-LH_granger_gamma\n",
      "LH-to-vHPC_granger_theta\n",
      "LH-to-vHPC_granger_gamma\n",
      "vHPC-to-LH_granger_theta\n",
      "vHPC-to-LH_granger_gamma\n",
      "MD-to-mPFC_granger_theta\n",
      "MD-to-mPFC_granger_gamma\n",
      "mPFC-to-MD_granger_theta\n",
      "mPFC-to-MD_granger_gamma\n",
      "MD-to-vHPC_granger_theta\n",
      "MD-to-vHPC_granger_gamma\n",
      "vHPC-to-MD_granger_theta\n",
      "vHPC-to-MD_granger_gamma\n",
      "mPFC-to-vHPC_granger_theta\n",
      "mPFC-to-vHPC_granger_gamma\n",
      "vHPC-to-mPFC_granger_theta\n",
      "vHPC-to-mPFC_granger_gamma\n",
      "mPFC_RMS_filtered_power_theta\n",
      "mPFC_RMS_filtered_power_gamma\n",
      "MD_RMS_filtered_power_theta\n",
      "MD_RMS_filtered_power_gamma\n",
      "LH_RMS_filtered_power_theta\n",
      "LH_RMS_filtered_power_gamma\n",
      "BLA_RMS_filtered_power_theta\n",
      "BLA_RMS_filtered_power_gamma\n",
      "vHPC_RMS_filtered_power_theta\n",
      "vHPC_RMS_filtered_power_gamma\n",
      "start_frame\n",
      "stop_frame\n",
      "in_video_subjects\n",
      "body_parts\n",
      "box_top_left\n",
      "box_top_right\n",
      "reward_port\n",
      "box_bottom_left\n",
      "box_bottom_right\n",
      "agent\n",
      "baseline_start_timestamp\n",
      "baseline_stop_timestamp\n",
      "baseline_agent_locations\n",
      "baseline_agent_thorax_to_reward_port\n",
      "baseline_agent_thorax_velocity\n",
      "baseline_subject_locations\n",
      "baseline_subject_thorax_to_reward_port\n",
      "baseline_subject_thorax_velocity\n",
      "baseline_video_frame\n",
      "baseline_video_timestamps\n",
      "trial_agent_locations\n",
      "trial_agent_thorax_to_reward_port\n",
      "trial_agent_thorax_velocity\n",
      "trial_subject_locations\n",
      "trial_subject_thorax_to_reward_port\n",
      "trial_subject_thorax_velocity\n",
      "trial_video_frame\n",
      "trial_video_timestamps\n"
     ]
    }
   ],
   "source": [
    "for col in TRIALS_AND_SPECTRAL_DF.columns:\n",
    "    print(col)"
   ]
  },
  {
   "cell_type": "markdown",
   "metadata": {},
   "source": [
    "- Filtering coherence"
   ]
  },
  {
   "cell_type": "code",
   "execution_count": 64,
   "metadata": {
    "tags": []
   },
   "outputs": [],
   "source": [
    "coherence_columns = [col for col in TRIALS_AND_SPECTRAL_DF.columns if \"coherence\" in col and \"timestamps\" not in col and \"calculation\" not in col]"
   ]
  },
  {
   "cell_type": "code",
   "execution_count": 65,
   "metadata": {
    "tags": []
   },
   "outputs": [
    {
     "data": {
      "text/plain": [
       "['BLA_LH_RMS_filtered_coherence_all_frequencies_all_windows',\n",
       " 'BLA_MD_RMS_filtered_coherence_all_frequencies_all_windows',\n",
       " 'BLA_mPFC_RMS_filtered_coherence_all_frequencies_all_windows',\n",
       " 'BLA_vHPC_RMS_filtered_coherence_all_frequencies_all_windows',\n",
       " 'LH_MD_RMS_filtered_coherence_all_frequencies_all_windows',\n",
       " 'LH_mPFC_RMS_filtered_coherence_all_frequencies_all_windows',\n",
       " 'LH_vHPC_RMS_filtered_coherence_all_frequencies_all_windows',\n",
       " 'MD_mPFC_RMS_filtered_coherence_all_frequencies_all_windows',\n",
       " 'MD_vHPC_RMS_filtered_coherence_all_frequencies_all_windows',\n",
       " 'mPFC_vHPC_RMS_filtered_coherence_all_frequencies_all_windows',\n",
       " 'BLA_LH_coherence_theta',\n",
       " 'BLA_LH_coherence_gamma',\n",
       " 'BLA_MD_coherence_theta',\n",
       " 'BLA_MD_coherence_gamma',\n",
       " 'BLA_mPFC_coherence_theta',\n",
       " 'BLA_mPFC_coherence_gamma',\n",
       " 'BLA_vHPC_coherence_theta',\n",
       " 'BLA_vHPC_coherence_gamma',\n",
       " 'LH_MD_coherence_theta',\n",
       " 'LH_MD_coherence_gamma',\n",
       " 'LH_mPFC_coherence_theta',\n",
       " 'LH_mPFC_coherence_gamma',\n",
       " 'LH_vHPC_coherence_theta',\n",
       " 'LH_vHPC_coherence_gamma',\n",
       " 'MD_mPFC_coherence_theta',\n",
       " 'MD_mPFC_coherence_gamma',\n",
       " 'MD_vHPC_coherence_theta',\n",
       " 'MD_vHPC_coherence_gamma',\n",
       " 'mPFC_vHPC_coherence_theta',\n",
       " 'mPFC_vHPC_coherence_gamma']"
      ]
     },
     "execution_count": 65,
     "metadata": {},
     "output_type": "execute_result"
    }
   ],
   "source": [
    "coherence_columns"
   ]
  },
  {
   "cell_type": "code",
   "execution_count": 66,
   "metadata": {
    "tags": []
   },
   "outputs": [
    {
     "name": "stdout",
     "output_type": "stream",
     "text": [
      "BLA_LH_RMS_filtered_coherence_all_frequencies\n",
      "BLA_MD_RMS_filtered_coherence_all_frequencies\n",
      "BLA_mPFC_RMS_filtered_coherence_all_frequencies\n",
      "BLA_vHPC_RMS_filtered_coherence_all_frequencies\n",
      "LH_MD_RMS_filtered_coherence_all_frequencies\n",
      "LH_mPFC_RMS_filtered_coherence_all_frequencies\n",
      "LH_vHPC_RMS_filtered_coherence_all_frequencies\n",
      "MD_mPFC_RMS_filtered_coherence_all_frequencies\n",
      "MD_vHPC_RMS_filtered_coherence_all_frequencies\n",
      "mPFC_vHPC_RMS_filtered_coherence_all_frequencies\n",
      "BLA_LH_coherence_theta\n",
      "BLA_LH_coherence_gamma\n",
      "BLA_MD_coherence_theta\n",
      "BLA_MD_coherence_gamma\n",
      "BLA_mPFC_coherence_theta\n",
      "BLA_mPFC_coherence_gamma\n",
      "BLA_vHPC_coherence_theta\n",
      "BLA_vHPC_coherence_gamma\n",
      "LH_MD_coherence_theta\n",
      "LH_MD_coherence_gamma\n",
      "LH_mPFC_coherence_theta\n",
      "LH_mPFC_coherence_gamma\n",
      "LH_vHPC_coherence_theta\n",
      "LH_vHPC_coherence_gamma\n",
      "MD_mPFC_coherence_theta\n",
      "MD_mPFC_coherence_gamma\n",
      "MD_vHPC_coherence_theta\n",
      "MD_vHPC_coherence_gamma\n",
      "mPFC_vHPC_coherence_theta\n",
      "mPFC_vHPC_coherence_gamma\n"
     ]
    }
   ],
   "source": [
    "for col in coherence_columns:\n",
    "    brain_region = col.replace(\"all_windows\", \"_\").strip(\"_\")\n",
    "    print(brain_region)\n",
    "    \n",
    "    updated_item_col = \"baseline_{}\".format(brain_region)\n",
    "    updated_timestamp_col = \"baseline_coherence_timestamps\".format(brain_region)\n",
    "    TRIALS_AND_SPECTRAL_DF[updated_item_col] = TRIALS_AND_SPECTRAL_DF.apply(lambda x: utilities.helper.filter_by_timestamp_range(start=x[\"baseline_start_timestamp\"], stop=x[\"baseline_stop_timestamp\"], timestamps=x[\"coherence_timestamps\"], items=x[col])[1], axis=1)\n",
    "TRIALS_AND_SPECTRAL_DF[updated_timestamp_col] = TRIALS_AND_SPECTRAL_DF.apply(lambda x: utilities.helper.filter_by_timestamp_range(start=x[\"baseline_start_timestamp\"], stop=x[\"baseline_stop_timestamp\"], timestamps=x[\"coherence_timestamps\"], items=x[col])[0], axis=1)"
   ]
  },
  {
   "cell_type": "code",
   "execution_count": 67,
   "metadata": {
    "tags": []
   },
   "outputs": [
    {
     "name": "stdout",
     "output_type": "stream",
     "text": [
      "BLA_LH_RMS_filtered_coherence_all_frequencies\n",
      "BLA_MD_RMS_filtered_coherence_all_frequencies\n",
      "BLA_mPFC_RMS_filtered_coherence_all_frequencies\n",
      "BLA_vHPC_RMS_filtered_coherence_all_frequencies\n",
      "LH_MD_RMS_filtered_coherence_all_frequencies\n",
      "LH_mPFC_RMS_filtered_coherence_all_frequencies\n",
      "LH_vHPC_RMS_filtered_coherence_all_frequencies\n",
      "MD_mPFC_RMS_filtered_coherence_all_frequencies\n",
      "MD_vHPC_RMS_filtered_coherence_all_frequencies\n",
      "mPFC_vHPC_RMS_filtered_coherence_all_frequencies\n",
      "BLA_LH_coherence_theta\n",
      "BLA_LH_coherence_gamma\n",
      "BLA_MD_coherence_theta\n",
      "BLA_MD_coherence_gamma\n",
      "BLA_mPFC_coherence_theta\n",
      "BLA_mPFC_coherence_gamma\n",
      "BLA_vHPC_coherence_theta\n",
      "BLA_vHPC_coherence_gamma\n",
      "LH_MD_coherence_theta\n",
      "LH_MD_coherence_gamma\n",
      "LH_mPFC_coherence_theta\n",
      "LH_mPFC_coherence_gamma\n",
      "LH_vHPC_coherence_theta\n",
      "LH_vHPC_coherence_gamma\n",
      "MD_mPFC_coherence_theta\n",
      "MD_mPFC_coherence_gamma\n",
      "MD_vHPC_coherence_theta\n",
      "MD_vHPC_coherence_gamma\n",
      "mPFC_vHPC_coherence_theta\n",
      "mPFC_vHPC_coherence_gamma\n"
     ]
    }
   ],
   "source": [
    "for col in coherence_columns:\n",
    "    brain_region = col.replace(\"all_windows\", \"_\").strip(\"_\")\n",
    "    print(brain_region)\n",
    "    \n",
    "    updated_item_col = \"trial_{}\".format(brain_region)\n",
    "    updated_timestamp_col = \"trial_coherence_timestamps\".format(brain_region)\n",
    "    TRIALS_AND_SPECTRAL_DF[updated_item_col] = TRIALS_AND_SPECTRAL_DF.apply(lambda x: utilities.helper.filter_by_timestamp_range(start=x[\"tone_start_timestamp\"], stop=x[\"tone_stop_timestamp\"], timestamps=x[\"coherence_timestamps\"], items=x[col])[1], axis=1)\n",
    "TRIALS_AND_SPECTRAL_DF[updated_timestamp_col] = TRIALS_AND_SPECTRAL_DF.apply(lambda x: utilities.helper.filter_by_timestamp_range(start=x[\"tone_start_timestamp\"], stop=x[\"tone_stop_timestamp\"], timestamps=x[\"coherence_timestamps\"], items=x[col])[0], axis=1)"
   ]
  },
  {
   "cell_type": "code",
   "execution_count": 68,
   "metadata": {
    "tags": []
   },
   "outputs": [],
   "source": [
    "TRIALS_AND_SPECTRAL_DF = TRIALS_AND_SPECTRAL_DF.drop(columns=coherence_columns + [\"coherence_timestamps\"], errors=\"ignore\")"
   ]
  },
  {
   "cell_type": "markdown",
   "metadata": {},
   "source": [
    "- Filtering Grangers"
   ]
  },
  {
   "cell_type": "code",
   "execution_count": 69,
   "metadata": {
    "tags": []
   },
   "outputs": [],
   "source": [
    "granger_columns = [col for col in TRIALS_AND_SPECTRAL_DF.columns if \"granger\" in col and \"timestamps\" not in col and \"calculation\" not in col]"
   ]
  },
  {
   "cell_type": "code",
   "execution_count": 70,
   "metadata": {
    "tags": []
   },
   "outputs": [
    {
     "data": {
      "text/plain": [
       "['BLA_LH_granger_all_frequencies_all_windows',\n",
       " 'LH_BLA_granger_all_frequencies_all_windows',\n",
       " 'BLA_MD_granger_all_frequencies_all_windows',\n",
       " 'MD_BLA_granger_all_frequencies_all_windows',\n",
       " 'BLA_mPFC_granger_all_frequencies_all_windows',\n",
       " 'mPFC_BLA_granger_all_frequencies_all_windows',\n",
       " 'BLA_vHPC_granger_all_frequencies_all_windows',\n",
       " 'vHPC_BLA_granger_all_frequencies_all_windows',\n",
       " 'LH_MD_granger_all_frequencies_all_windows',\n",
       " 'MD_LH_granger_all_frequencies_all_windows',\n",
       " 'LH_mPFC_granger_all_frequencies_all_windows',\n",
       " 'mPFC_LH_granger_all_frequencies_all_windows',\n",
       " 'LH_vHPC_granger_all_frequencies_all_windows',\n",
       " 'vHPC_LH_granger_all_frequencies_all_windows',\n",
       " 'MD_mPFC_granger_all_frequencies_all_windows',\n",
       " 'mPFC_MD_granger_all_frequencies_all_windows',\n",
       " 'MD_vHPC_granger_all_frequencies_all_windows',\n",
       " 'vHPC_MD_granger_all_frequencies_all_windows',\n",
       " 'mPFC_vHPC_granger_all_frequencies_all_windows',\n",
       " 'vHPC_mPFC_granger_all_frequencies_all_windows',\n",
       " 'BLA-to-LH_granger_theta',\n",
       " 'BLA-to-LH_granger_gamma',\n",
       " 'LH-to-BLA_granger_theta',\n",
       " 'LH-to-BLA_granger_gamma',\n",
       " 'BLA-to-MD_granger_theta',\n",
       " 'BLA-to-MD_granger_gamma',\n",
       " 'MD-to-BLA_granger_theta',\n",
       " 'MD-to-BLA_granger_gamma',\n",
       " 'BLA-to-mPFC_granger_theta',\n",
       " 'BLA-to-mPFC_granger_gamma',\n",
       " 'mPFC-to-BLA_granger_theta',\n",
       " 'mPFC-to-BLA_granger_gamma',\n",
       " 'BLA-to-vHPC_granger_theta',\n",
       " 'BLA-to-vHPC_granger_gamma',\n",
       " 'vHPC-to-BLA_granger_theta',\n",
       " 'vHPC-to-BLA_granger_gamma',\n",
       " 'LH-to-MD_granger_theta',\n",
       " 'LH-to-MD_granger_gamma',\n",
       " 'MD-to-LH_granger_theta',\n",
       " 'MD-to-LH_granger_gamma',\n",
       " 'LH-to-mPFC_granger_theta',\n",
       " 'LH-to-mPFC_granger_gamma',\n",
       " 'mPFC-to-LH_granger_theta',\n",
       " 'mPFC-to-LH_granger_gamma',\n",
       " 'LH-to-vHPC_granger_theta',\n",
       " 'LH-to-vHPC_granger_gamma',\n",
       " 'vHPC-to-LH_granger_theta',\n",
       " 'vHPC-to-LH_granger_gamma',\n",
       " 'MD-to-mPFC_granger_theta',\n",
       " 'MD-to-mPFC_granger_gamma',\n",
       " 'mPFC-to-MD_granger_theta',\n",
       " 'mPFC-to-MD_granger_gamma',\n",
       " 'MD-to-vHPC_granger_theta',\n",
       " 'MD-to-vHPC_granger_gamma',\n",
       " 'vHPC-to-MD_granger_theta',\n",
       " 'vHPC-to-MD_granger_gamma',\n",
       " 'mPFC-to-vHPC_granger_theta',\n",
       " 'mPFC-to-vHPC_granger_gamma',\n",
       " 'vHPC-to-mPFC_granger_theta',\n",
       " 'vHPC-to-mPFC_granger_gamma']"
      ]
     },
     "execution_count": 70,
     "metadata": {},
     "output_type": "execute_result"
    }
   ],
   "source": [
    "granger_columns"
   ]
  },
  {
   "cell_type": "code",
   "execution_count": 71,
   "metadata": {
    "tags": []
   },
   "outputs": [
    {
     "name": "stdout",
     "output_type": "stream",
     "text": [
      "BLA_LH_granger_all_frequencies\n",
      "LH_BLA_granger_all_frequencies\n",
      "BLA_MD_granger_all_frequencies\n",
      "MD_BLA_granger_all_frequencies\n",
      "BLA_mPFC_granger_all_frequencies\n",
      "mPFC_BLA_granger_all_frequencies\n",
      "BLA_vHPC_granger_all_frequencies\n",
      "vHPC_BLA_granger_all_frequencies\n",
      "LH_MD_granger_all_frequencies\n",
      "MD_LH_granger_all_frequencies\n",
      "LH_mPFC_granger_all_frequencies\n",
      "mPFC_LH_granger_all_frequencies\n",
      "LH_vHPC_granger_all_frequencies\n",
      "vHPC_LH_granger_all_frequencies\n",
      "MD_mPFC_granger_all_frequencies\n",
      "mPFC_MD_granger_all_frequencies\n",
      "MD_vHPC_granger_all_frequencies\n",
      "vHPC_MD_granger_all_frequencies\n",
      "mPFC_vHPC_granger_all_frequencies\n",
      "vHPC_mPFC_granger_all_frequencies\n",
      "BLA-to-LH_granger_theta\n",
      "BLA-to-LH_granger_gamma\n",
      "LH-to-BLA_granger_theta\n",
      "LH-to-BLA_granger_gamma\n",
      "BLA-to-MD_granger_theta\n",
      "BLA-to-MD_granger_gamma\n",
      "MD-to-BLA_granger_theta\n",
      "MD-to-BLA_granger_gamma\n",
      "BLA-to-mPFC_granger_theta\n",
      "BLA-to-mPFC_granger_gamma\n",
      "mPFC-to-BLA_granger_theta\n",
      "mPFC-to-BLA_granger_gamma\n",
      "BLA-to-vHPC_granger_theta\n",
      "BLA-to-vHPC_granger_gamma\n",
      "vHPC-to-BLA_granger_theta\n",
      "vHPC-to-BLA_granger_gamma\n",
      "LH-to-MD_granger_theta\n",
      "LH-to-MD_granger_gamma\n",
      "MD-to-LH_granger_theta\n",
      "MD-to-LH_granger_gamma\n",
      "LH-to-mPFC_granger_theta\n",
      "LH-to-mPFC_granger_gamma\n",
      "mPFC-to-LH_granger_theta\n",
      "mPFC-to-LH_granger_gamma\n",
      "LH-to-vHPC_granger_theta\n",
      "LH-to-vHPC_granger_gamma\n",
      "vHPC-to-LH_granger_theta\n",
      "vHPC-to-LH_granger_gamma\n",
      "MD-to-mPFC_granger_theta\n",
      "MD-to-mPFC_granger_gamma\n",
      "mPFC-to-MD_granger_theta\n",
      "mPFC-to-MD_granger_gamma\n",
      "MD-to-vHPC_granger_theta\n",
      "MD-to-vHPC_granger_gamma\n",
      "vHPC-to-MD_granger_theta\n",
      "vHPC-to-MD_granger_gamma\n",
      "mPFC-to-vHPC_granger_theta\n",
      "mPFC-to-vHPC_granger_gamma\n",
      "vHPC-to-mPFC_granger_theta\n",
      "vHPC-to-mPFC_granger_gamma\n"
     ]
    }
   ],
   "source": [
    "for col in granger_columns:\n",
    "    brain_region = col.replace(\"all_windows\", \"_\").strip(\"_\")\n",
    "    print(brain_region)\n",
    "    \n",
    "    updated_item_col = \"baseline_{}\".format(brain_region)\n",
    "    updated_timestamp_col = \"baseline_granger_timestamps\".format(brain_region)\n",
    "    TRIALS_AND_SPECTRAL_DF[updated_item_col] = TRIALS_AND_SPECTRAL_DF.apply(lambda x: utilities.helper.filter_by_timestamp_range(start=x[\"baseline_start_timestamp\"], stop=x[\"baseline_stop_timestamp\"], timestamps=x[\"granger_timestamps\"], items=x[col])[1], axis=1)\n",
    "TRIALS_AND_SPECTRAL_DF[updated_timestamp_col] = TRIALS_AND_SPECTRAL_DF.apply(lambda x: utilities.helper.filter_by_timestamp_range(start=x[\"baseline_start_timestamp\"], stop=x[\"baseline_stop_timestamp\"], timestamps=x[\"granger_timestamps\"], items=x[col])[0], axis=1)"
   ]
  },
  {
   "cell_type": "code",
   "execution_count": 72,
   "metadata": {
    "tags": []
   },
   "outputs": [
    {
     "name": "stdout",
     "output_type": "stream",
     "text": [
      "BLA_LH_granger_all_frequencies\n",
      "LH_BLA_granger_all_frequencies\n",
      "BLA_MD_granger_all_frequencies\n",
      "MD_BLA_granger_all_frequencies\n",
      "BLA_mPFC_granger_all_frequencies\n",
      "mPFC_BLA_granger_all_frequencies\n",
      "BLA_vHPC_granger_all_frequencies\n",
      "vHPC_BLA_granger_all_frequencies\n",
      "LH_MD_granger_all_frequencies\n",
      "MD_LH_granger_all_frequencies\n",
      "LH_mPFC_granger_all_frequencies\n",
      "mPFC_LH_granger_all_frequencies\n",
      "LH_vHPC_granger_all_frequencies\n",
      "vHPC_LH_granger_all_frequencies\n",
      "MD_mPFC_granger_all_frequencies\n",
      "mPFC_MD_granger_all_frequencies\n",
      "MD_vHPC_granger_all_frequencies\n",
      "vHPC_MD_granger_all_frequencies\n",
      "mPFC_vHPC_granger_all_frequencies\n",
      "vHPC_mPFC_granger_all_frequencies\n",
      "BLA-to-LH_granger_theta\n",
      "BLA-to-LH_granger_gamma\n",
      "LH-to-BLA_granger_theta\n",
      "LH-to-BLA_granger_gamma\n",
      "BLA-to-MD_granger_theta\n",
      "BLA-to-MD_granger_gamma\n",
      "MD-to-BLA_granger_theta\n",
      "MD-to-BLA_granger_gamma\n",
      "BLA-to-mPFC_granger_theta\n",
      "BLA-to-mPFC_granger_gamma\n",
      "mPFC-to-BLA_granger_theta\n",
      "mPFC-to-BLA_granger_gamma\n",
      "BLA-to-vHPC_granger_theta\n",
      "BLA-to-vHPC_granger_gamma\n",
      "vHPC-to-BLA_granger_theta\n",
      "vHPC-to-BLA_granger_gamma\n",
      "LH-to-MD_granger_theta\n",
      "LH-to-MD_granger_gamma\n",
      "MD-to-LH_granger_theta\n",
      "MD-to-LH_granger_gamma\n",
      "LH-to-mPFC_granger_theta\n",
      "LH-to-mPFC_granger_gamma\n",
      "mPFC-to-LH_granger_theta\n",
      "mPFC-to-LH_granger_gamma\n",
      "LH-to-vHPC_granger_theta\n",
      "LH-to-vHPC_granger_gamma\n",
      "vHPC-to-LH_granger_theta\n",
      "vHPC-to-LH_granger_gamma\n",
      "MD-to-mPFC_granger_theta\n",
      "MD-to-mPFC_granger_gamma\n",
      "mPFC-to-MD_granger_theta\n",
      "mPFC-to-MD_granger_gamma\n",
      "MD-to-vHPC_granger_theta\n",
      "MD-to-vHPC_granger_gamma\n",
      "vHPC-to-MD_granger_theta\n",
      "vHPC-to-MD_granger_gamma\n",
      "mPFC-to-vHPC_granger_theta\n",
      "mPFC-to-vHPC_granger_gamma\n",
      "vHPC-to-mPFC_granger_theta\n",
      "vHPC-to-mPFC_granger_gamma\n"
     ]
    }
   ],
   "source": [
    "for col in granger_columns:\n",
    "    brain_region = col.replace(\"all_windows\", \"_\").strip(\"_\")\n",
    "    print(brain_region)\n",
    "    \n",
    "    updated_item_col = \"trial_{}\".format(brain_region)\n",
    "    updated_timestamp_col = \"trial_granger_timestamps\".format(brain_region)\n",
    "    TRIALS_AND_SPECTRAL_DF[updated_item_col] = TRIALS_AND_SPECTRAL_DF.apply(lambda x: utilities.helper.filter_by_timestamp_range(start=x[\"tone_start_timestamp\"], stop=x[\"tone_stop_timestamp\"], timestamps=x[\"granger_timestamps\"], items=x[col])[1], axis=1)\n",
    "TRIALS_AND_SPECTRAL_DF[updated_timestamp_col] = TRIALS_AND_SPECTRAL_DF.apply(lambda x: utilities.helper.filter_by_timestamp_range(start=x[\"tone_start_timestamp\"], stop=x[\"tone_stop_timestamp\"], timestamps=x[\"granger_timestamps\"], items=x[col])[0], axis=1)"
   ]
  },
  {
   "cell_type": "code",
   "execution_count": 73,
   "metadata": {
    "tags": []
   },
   "outputs": [],
   "source": [
    "TRIALS_AND_SPECTRAL_DF = TRIALS_AND_SPECTRAL_DF.drop(columns=granger_columns + [\"granger_timestamps\"], errors=\"ignore\")"
   ]
  },
  {
   "cell_type": "code",
   "execution_count": 74,
   "metadata": {},
   "outputs": [],
   "source": [
    "TRIALS_AND_SPECTRAL_DF.to_pickle(os.path.join(OUTPUT_DIR, FULL_LFP_TRACES_PKL))"
   ]
  },
  {
   "cell_type": "markdown",
   "metadata": {},
   "source": [
    "- Filtering power"
   ]
  },
  {
   "cell_type": "code",
   "execution_count": 75,
   "metadata": {},
   "outputs": [
    {
     "data": {
      "text/html": [
       "<div>\n",
       "<style scoped>\n",
       "    .dataframe tbody tr th:only-of-type {\n",
       "        vertical-align: middle;\n",
       "    }\n",
       "\n",
       "    .dataframe tbody tr th {\n",
       "        vertical-align: top;\n",
       "    }\n",
       "\n",
       "    .dataframe thead th {\n",
       "        text-align: right;\n",
       "    }\n",
       "</style>\n",
       "<table border=\"1\" class=\"dataframe\">\n",
       "  <thead>\n",
       "    <tr style=\"text-align: right;\">\n",
       "      <th></th>\n",
       "      <th>tracked_subject</th>\n",
       "      <th>box_number</th>\n",
       "      <th>sleap_name</th>\n",
       "      <th>video_name</th>\n",
       "      <th>current_subject</th>\n",
       "      <th>tone_start_frame</th>\n",
       "      <th>reward_start_frame</th>\n",
       "      <th>tone_stop_frame</th>\n",
       "      <th>condition</th>\n",
       "      <th>competition_closeness</th>\n",
       "      <th>...</th>\n",
       "      <th>trial_mPFC-to-MD_granger_gamma</th>\n",
       "      <th>trial_MD-to-vHPC_granger_theta</th>\n",
       "      <th>trial_MD-to-vHPC_granger_gamma</th>\n",
       "      <th>trial_vHPC-to-MD_granger_theta</th>\n",
       "      <th>trial_vHPC-to-MD_granger_gamma</th>\n",
       "      <th>trial_mPFC-to-vHPC_granger_theta</th>\n",
       "      <th>trial_mPFC-to-vHPC_granger_gamma</th>\n",
       "      <th>trial_vHPC-to-mPFC_granger_theta</th>\n",
       "      <th>trial_vHPC-to-mPFC_granger_gamma</th>\n",
       "      <th>trial_granger_timestamps</th>\n",
       "    </tr>\n",
       "  </thead>\n",
       "  <tbody>\n",
       "    <tr>\n",
       "      <th>0</th>\n",
       "      <td>['1.1', '1.2']</td>\n",
       "      <td>1</td>\n",
       "      <td>20230612_112630_standard_comp_to_training_D1_s...</td>\n",
       "      <td>20230612_112630_standard_comp_to_training_D1_s...</td>\n",
       "      <td>1.1</td>\n",
       "      <td>1125</td>\n",
       "      <td>1225</td>\n",
       "      <td>1324</td>\n",
       "      <td>1.1</td>\n",
       "      <td>Subj 1 blocking Subj 2</td>\n",
       "      <td>...</td>\n",
       "      <td>[0.2743068, 0.1816457, 0.20403126, 0.39949384,...</td>\n",
       "      <td>[0.4503957, 0.5514915, 0.20297746, 0.3768568, ...</td>\n",
       "      <td>[0.35033533, 0.25229087, 0.23366664, 0.3120289...</td>\n",
       "      <td>[0.3872143, 0.48870432, 0.45020568, 0.61337423...</td>\n",
       "      <td>[0.48877043, 0.22785409, 0.13890521, 0.265355,...</td>\n",
       "      <td>[0.48188347, 0.7108543, 0.18493713, 0.4764926,...</td>\n",
       "      <td>[0.34150958, 0.16291973, 0.20073977, 0.2023801...</td>\n",
       "      <td>[0.13133682, 0.23562104, 0.2440842, 0.15778197...</td>\n",
       "      <td>[0.35235053, 0.17450492, 0.37754112, 0.2303077...</td>\n",
       "      <td>[1130000, 1140000, 1150000, 1160000, 1170000, ...</td>\n",
       "    </tr>\n",
       "    <tr>\n",
       "      <th>1</th>\n",
       "      <td>['1.1', '1.2']</td>\n",
       "      <td>1</td>\n",
       "      <td>20230612_112630_standard_comp_to_training_D1_s...</td>\n",
       "      <td>20230612_112630_standard_comp_to_training_D1_s...</td>\n",
       "      <td>1.1</td>\n",
       "      <td>3519</td>\n",
       "      <td>3619</td>\n",
       "      <td>3720</td>\n",
       "      <td>1.2</td>\n",
       "      <td>Subj 2 Only</td>\n",
       "      <td>...</td>\n",
       "      <td>[0.19837809, 0.5073394, 0.2601421, 0.17640117,...</td>\n",
       "      <td>[nan, 0.4103218, 0.1676341, nan, nan, 0.165973...</td>\n",
       "      <td>[nan, 0.41292667, 0.30698562, nan, nan, 0.3141...</td>\n",
       "      <td>[nan, 0.49083915, 0.09444503, nan, nan, 0.4753...</td>\n",
       "      <td>[nan, 0.24761999, 0.24060199, nan, nan, 0.3022...</td>\n",
       "      <td>[nan, 0.77709764, 0.46270016, nan, nan, 0.1674...</td>\n",
       "      <td>[nan, 0.4095989, 0.7093766, nan, nan, 0.181099...</td>\n",
       "      <td>[nan, 0.5647509, 0.45051277, nan, nan, 0.26605...</td>\n",
       "      <td>[nan, 0.18905884, 0.20349285, nan, nan, 0.2695...</td>\n",
       "      <td>[3530000, 3540000, 3550000, 3560000, 3570000, ...</td>\n",
       "    </tr>\n",
       "    <tr>\n",
       "      <th>2</th>\n",
       "      <td>['1.1', '1.2']</td>\n",
       "      <td>1</td>\n",
       "      <td>20230612_112630_standard_comp_to_training_D1_s...</td>\n",
       "      <td>20230612_112630_standard_comp_to_training_D1_s...</td>\n",
       "      <td>1.1</td>\n",
       "      <td>5815</td>\n",
       "      <td>5915</td>\n",
       "      <td>6014</td>\n",
       "      <td>1.2</td>\n",
       "      <td>Subj 2 blocking Subj 1</td>\n",
       "      <td>...</td>\n",
       "      <td>[0.2451308, 0.22220398, 0.42297348, 0.21880822...</td>\n",
       "      <td>[0.3611453, 0.15535778, 0.10153123, 0.1033775,...</td>\n",
       "      <td>[0.28545213, 0.2011751, 0.30536118, 0.27875093...</td>\n",
       "      <td>[0.57998323, 0.70480734, 0.6927041, 0.79001415...</td>\n",
       "      <td>[0.26702482, 0.20771386, 0.6002271, 0.34293473...</td>\n",
       "      <td>[0.12613265, 0.34686637, 0.37530336, 0.0726977...</td>\n",
       "      <td>[0.2384008, 0.3289804, 0.38966492, 0.16582075,...</td>\n",
       "      <td>[0.33719257, 0.35507208, 0.390221, 0.41154325,...</td>\n",
       "      <td>[0.37617797, 0.284876, 0.4089172, 0.16548316, ...</td>\n",
       "      <td>[5830000, 5840000, 5850000, 5860000, 5870000, ...</td>\n",
       "    </tr>\n",
       "    <tr>\n",
       "      <th>3</th>\n",
       "      <td>['1.1', '1.2']</td>\n",
       "      <td>1</td>\n",
       "      <td>20230612_112630_standard_comp_to_training_D1_s...</td>\n",
       "      <td>20230612_112630_standard_comp_to_training_D1_s...</td>\n",
       "      <td>1.1</td>\n",
       "      <td>7612</td>\n",
       "      <td>7712</td>\n",
       "      <td>7811</td>\n",
       "      <td>1.2</td>\n",
       "      <td>Subj 2 Only</td>\n",
       "      <td>...</td>\n",
       "      <td>[0.19989435, 0.3218986, 0.1846013, 0.44848886,...</td>\n",
       "      <td>[0.5495982, 0.15429461, 0.13154985, 0.21991509...</td>\n",
       "      <td>[0.43715674, 0.35011134, 0.31304544, 0.394448,...</td>\n",
       "      <td>[0.8319382, 0.8078395, 0.58001375, 0.2841426, ...</td>\n",
       "      <td>[0.35010985, 0.21684945, 0.14930977, 0.1355896...</td>\n",
       "      <td>[0.09518096, 0.20900358, 0.18624677, 0.2759102...</td>\n",
       "      <td>[0.1536734, 0.27427787, 0.33714557, 0.3097984,...</td>\n",
       "      <td>[0.49204752, 0.7473691, 0.5807837, 0.09881899,...</td>\n",
       "      <td>[0.3218193, 0.21725373, 0.33039397, 0.4509097,...</td>\n",
       "      <td>[7630000, 7640000, 7650000, 7660000, 7670000, ...</td>\n",
       "    </tr>\n",
       "    <tr>\n",
       "      <th>4</th>\n",
       "      <td>['1.1', '1.2']</td>\n",
       "      <td>1</td>\n",
       "      <td>20230612_112630_standard_comp_to_training_D1_s...</td>\n",
       "      <td>20230612_112630_standard_comp_to_training_D1_s...</td>\n",
       "      <td>1.1</td>\n",
       "      <td>8709</td>\n",
       "      <td>8809</td>\n",
       "      <td>8910</td>\n",
       "      <td>1.2</td>\n",
       "      <td>Subj 2 Only</td>\n",
       "      <td>...</td>\n",
       "      <td>[0.25939098, 0.21315253, 0.46966016, 0.1842520...</td>\n",
       "      <td>[0.46183974, 0.16732047, 0.38939884, 0.481716,...</td>\n",
       "      <td>[0.3225777, 0.45540878, 0.3549677, 0.51858795,...</td>\n",
       "      <td>[0.14207345, 1.1679717, 1.0912386, 0.24064888,...</td>\n",
       "      <td>[0.24173824, 0.27463642, 0.2826689, 0.22011085...</td>\n",
       "      <td>[0.1101417, 0.14950544, 0.5411582, 0.23466948,...</td>\n",
       "      <td>[0.26624367, 0.34639746, 0.4196817, 0.29253903...</td>\n",
       "      <td>[0.21166928, 0.93035126, 0.45488098, 0.3350755...</td>\n",
       "      <td>[0.21460077, 0.40119368, 0.21195264, 0.1034163...</td>\n",
       "      <td>[8730000, 8740000, 8750000, 8760000, 8770000, ...</td>\n",
       "    </tr>\n",
       "  </tbody>\n",
       "</table>\n",
       "<p>5 rows × 281 columns</p>\n",
       "</div>"
      ],
      "text/plain": [
       "  tracked_subject  box_number  \\\n",
       "0  ['1.1', '1.2']           1   \n",
       "1  ['1.1', '1.2']           1   \n",
       "2  ['1.1', '1.2']           1   \n",
       "3  ['1.1', '1.2']           1   \n",
       "4  ['1.1', '1.2']           1   \n",
       "\n",
       "                                          sleap_name  \\\n",
       "0  20230612_112630_standard_comp_to_training_D1_s...   \n",
       "1  20230612_112630_standard_comp_to_training_D1_s...   \n",
       "2  20230612_112630_standard_comp_to_training_D1_s...   \n",
       "3  20230612_112630_standard_comp_to_training_D1_s...   \n",
       "4  20230612_112630_standard_comp_to_training_D1_s...   \n",
       "\n",
       "                                          video_name current_subject  \\\n",
       "0  20230612_112630_standard_comp_to_training_D1_s...             1.1   \n",
       "1  20230612_112630_standard_comp_to_training_D1_s...             1.1   \n",
       "2  20230612_112630_standard_comp_to_training_D1_s...             1.1   \n",
       "3  20230612_112630_standard_comp_to_training_D1_s...             1.1   \n",
       "4  20230612_112630_standard_comp_to_training_D1_s...             1.1   \n",
       "\n",
       "   tone_start_frame  reward_start_frame  tone_stop_frame condition  \\\n",
       "0              1125                1225             1324       1.1   \n",
       "1              3519                3619             3720       1.2   \n",
       "2              5815                5915             6014       1.2   \n",
       "3              7612                7712             7811       1.2   \n",
       "4              8709                8809             8910       1.2   \n",
       "\n",
       "    competition_closeness  ...  \\\n",
       "0  Subj 1 blocking Subj 2  ...   \n",
       "1             Subj 2 Only  ...   \n",
       "2  Subj 2 blocking Subj 1  ...   \n",
       "3             Subj 2 Only  ...   \n",
       "4             Subj 2 Only  ...   \n",
       "\n",
       "                      trial_mPFC-to-MD_granger_gamma  \\\n",
       "0  [0.2743068, 0.1816457, 0.20403126, 0.39949384,...   \n",
       "1  [0.19837809, 0.5073394, 0.2601421, 0.17640117,...   \n",
       "2  [0.2451308, 0.22220398, 0.42297348, 0.21880822...   \n",
       "3  [0.19989435, 0.3218986, 0.1846013, 0.44848886,...   \n",
       "4  [0.25939098, 0.21315253, 0.46966016, 0.1842520...   \n",
       "\n",
       "                      trial_MD-to-vHPC_granger_theta  \\\n",
       "0  [0.4503957, 0.5514915, 0.20297746, 0.3768568, ...   \n",
       "1  [nan, 0.4103218, 0.1676341, nan, nan, 0.165973...   \n",
       "2  [0.3611453, 0.15535778, 0.10153123, 0.1033775,...   \n",
       "3  [0.5495982, 0.15429461, 0.13154985, 0.21991509...   \n",
       "4  [0.46183974, 0.16732047, 0.38939884, 0.481716,...   \n",
       "\n",
       "                      trial_MD-to-vHPC_granger_gamma  \\\n",
       "0  [0.35033533, 0.25229087, 0.23366664, 0.3120289...   \n",
       "1  [nan, 0.41292667, 0.30698562, nan, nan, 0.3141...   \n",
       "2  [0.28545213, 0.2011751, 0.30536118, 0.27875093...   \n",
       "3  [0.43715674, 0.35011134, 0.31304544, 0.394448,...   \n",
       "4  [0.3225777, 0.45540878, 0.3549677, 0.51858795,...   \n",
       "\n",
       "                      trial_vHPC-to-MD_granger_theta  \\\n",
       "0  [0.3872143, 0.48870432, 0.45020568, 0.61337423...   \n",
       "1  [nan, 0.49083915, 0.09444503, nan, nan, 0.4753...   \n",
       "2  [0.57998323, 0.70480734, 0.6927041, 0.79001415...   \n",
       "3  [0.8319382, 0.8078395, 0.58001375, 0.2841426, ...   \n",
       "4  [0.14207345, 1.1679717, 1.0912386, 0.24064888,...   \n",
       "\n",
       "                      trial_vHPC-to-MD_granger_gamma  \\\n",
       "0  [0.48877043, 0.22785409, 0.13890521, 0.265355,...   \n",
       "1  [nan, 0.24761999, 0.24060199, nan, nan, 0.3022...   \n",
       "2  [0.26702482, 0.20771386, 0.6002271, 0.34293473...   \n",
       "3  [0.35010985, 0.21684945, 0.14930977, 0.1355896...   \n",
       "4  [0.24173824, 0.27463642, 0.2826689, 0.22011085...   \n",
       "\n",
       "                    trial_mPFC-to-vHPC_granger_theta  \\\n",
       "0  [0.48188347, 0.7108543, 0.18493713, 0.4764926,...   \n",
       "1  [nan, 0.77709764, 0.46270016, nan, nan, 0.1674...   \n",
       "2  [0.12613265, 0.34686637, 0.37530336, 0.0726977...   \n",
       "3  [0.09518096, 0.20900358, 0.18624677, 0.2759102...   \n",
       "4  [0.1101417, 0.14950544, 0.5411582, 0.23466948,...   \n",
       "\n",
       "                    trial_mPFC-to-vHPC_granger_gamma  \\\n",
       "0  [0.34150958, 0.16291973, 0.20073977, 0.2023801...   \n",
       "1  [nan, 0.4095989, 0.7093766, nan, nan, 0.181099...   \n",
       "2  [0.2384008, 0.3289804, 0.38966492, 0.16582075,...   \n",
       "3  [0.1536734, 0.27427787, 0.33714557, 0.3097984,...   \n",
       "4  [0.26624367, 0.34639746, 0.4196817, 0.29253903...   \n",
       "\n",
       "                    trial_vHPC-to-mPFC_granger_theta  \\\n",
       "0  [0.13133682, 0.23562104, 0.2440842, 0.15778197...   \n",
       "1  [nan, 0.5647509, 0.45051277, nan, nan, 0.26605...   \n",
       "2  [0.33719257, 0.35507208, 0.390221, 0.41154325,...   \n",
       "3  [0.49204752, 0.7473691, 0.5807837, 0.09881899,...   \n",
       "4  [0.21166928, 0.93035126, 0.45488098, 0.3350755...   \n",
       "\n",
       "                    trial_vHPC-to-mPFC_granger_gamma  \\\n",
       "0  [0.35235053, 0.17450492, 0.37754112, 0.2303077...   \n",
       "1  [nan, 0.18905884, 0.20349285, nan, nan, 0.2695...   \n",
       "2  [0.37617797, 0.284876, 0.4089172, 0.16548316, ...   \n",
       "3  [0.3218193, 0.21725373, 0.33039397, 0.4509097,...   \n",
       "4  [0.21460077, 0.40119368, 0.21195264, 0.1034163...   \n",
       "\n",
       "                            trial_granger_timestamps  \n",
       "0  [1130000, 1140000, 1150000, 1160000, 1170000, ...  \n",
       "1  [3530000, 3540000, 3550000, 3560000, 3570000, ...  \n",
       "2  [5830000, 5840000, 5850000, 5860000, 5870000, ...  \n",
       "3  [7630000, 7640000, 7650000, 7660000, 7670000, ...  \n",
       "4  [8730000, 8740000, 8750000, 8760000, 8770000, ...  \n",
       "\n",
       "[5 rows x 281 columns]"
      ]
     },
     "execution_count": 75,
     "metadata": {},
     "output_type": "execute_result"
    }
   ],
   "source": [
    "TRIALS_AND_SPECTRAL_DF.head()"
   ]
  },
  {
   "cell_type": "code",
   "execution_count": 76,
   "metadata": {
    "tags": []
   },
   "outputs": [],
   "source": [
    "power_columns = [col for col in TRIALS_AND_SPECTRAL_DF.columns if \"power\" in col and \"timestamps\" not in col and \"calculation\" not in col]"
   ]
  },
  {
   "cell_type": "code",
   "execution_count": 77,
   "metadata": {
    "tags": []
   },
   "outputs": [
    {
     "data": {
      "text/plain": [
       "['mPFC_RMS_filtered_power_all_frequencies_all_windows',\n",
       " 'MD_RMS_filtered_power_all_frequencies_all_windows',\n",
       " 'LH_RMS_filtered_power_all_frequencies_all_windows',\n",
       " 'BLA_RMS_filtered_power_all_frequencies_all_windows',\n",
       " 'vHPC_RMS_filtered_power_all_frequencies_all_windows',\n",
       " 'mPFC_RMS_filtered_power_theta',\n",
       " 'mPFC_RMS_filtered_power_gamma',\n",
       " 'MD_RMS_filtered_power_theta',\n",
       " 'MD_RMS_filtered_power_gamma',\n",
       " 'LH_RMS_filtered_power_theta',\n",
       " 'LH_RMS_filtered_power_gamma',\n",
       " 'BLA_RMS_filtered_power_theta',\n",
       " 'BLA_RMS_filtered_power_gamma',\n",
       " 'vHPC_RMS_filtered_power_theta',\n",
       " 'vHPC_RMS_filtered_power_gamma']"
      ]
     },
     "execution_count": 77,
     "metadata": {},
     "output_type": "execute_result"
    }
   ],
   "source": [
    "power_columns"
   ]
  },
  {
   "cell_type": "code",
   "execution_count": 78,
   "metadata": {
    "tags": []
   },
   "outputs": [
    {
     "name": "stdout",
     "output_type": "stream",
     "text": [
      "mPFC_RMS_filtered_power_all_frequencies\n",
      "MD_RMS_filtered_power_all_frequencies\n",
      "LH_RMS_filtered_power_all_frequencies\n",
      "BLA_RMS_filtered_power_all_frequencies\n",
      "vHPC_RMS_filtered_power_all_frequencies\n",
      "mPFC_RMS_filtered_power_theta\n",
      "mPFC_RMS_filtered_power_gamma\n",
      "MD_RMS_filtered_power_theta\n",
      "MD_RMS_filtered_power_gamma\n",
      "LH_RMS_filtered_power_theta\n",
      "LH_RMS_filtered_power_gamma\n",
      "BLA_RMS_filtered_power_theta\n",
      "BLA_RMS_filtered_power_gamma\n",
      "vHPC_RMS_filtered_power_theta\n",
      "vHPC_RMS_filtered_power_gamma\n"
     ]
    }
   ],
   "source": [
    "for col in power_columns:\n",
    "    brain_region = col.replace(\"all_windows\", \"_\").strip(\"_\")\n",
    "    print(brain_region)\n",
    "    \n",
    "    updated_item_col = \"baseline_{}\".format(brain_region)\n",
    "    updated_timestamp_col = \"baseline_power_timestamps\".format(brain_region)\n",
    "    TRIALS_AND_SPECTRAL_DF[updated_item_col] = TRIALS_AND_SPECTRAL_DF.apply(lambda x: utilities.helper.filter_by_timestamp_range(start=x[\"baseline_start_timestamp\"], stop=x[\"baseline_stop_timestamp\"], timestamps=x[\"power_timestamps\"], items=x[col])[1], axis=1)\n",
    "TRIALS_AND_SPECTRAL_DF[updated_timestamp_col] = TRIALS_AND_SPECTRAL_DF.apply(lambda x: utilities.helper.filter_by_timestamp_range(start=x[\"baseline_start_timestamp\"], stop=x[\"baseline_stop_timestamp\"], timestamps=x[\"power_timestamps\"], items=x[col])[0], axis=1)"
   ]
  },
  {
   "cell_type": "code",
   "execution_count": 79,
   "metadata": {
    "tags": []
   },
   "outputs": [
    {
     "name": "stdout",
     "output_type": "stream",
     "text": [
      "mPFC_RMS_filtered_power_all_frequencies\n",
      "MD_RMS_filtered_power_all_frequencies\n",
      "LH_RMS_filtered_power_all_frequencies\n",
      "BLA_RMS_filtered_power_all_frequencies\n",
      "vHPC_RMS_filtered_power_all_frequencies\n",
      "mPFC_RMS_filtered_power_theta\n",
      "mPFC_RMS_filtered_power_gamma\n",
      "MD_RMS_filtered_power_theta\n",
      "MD_RMS_filtered_power_gamma\n",
      "LH_RMS_filtered_power_theta\n",
      "LH_RMS_filtered_power_gamma\n",
      "BLA_RMS_filtered_power_theta\n",
      "BLA_RMS_filtered_power_gamma\n",
      "vHPC_RMS_filtered_power_theta\n",
      "vHPC_RMS_filtered_power_gamma\n"
     ]
    }
   ],
   "source": [
    "for col in power_columns:\n",
    "    brain_region = col.replace(\"all_windows\", \"_\").strip(\"_\")\n",
    "    print(brain_region)\n",
    "    \n",
    "    updated_item_col = \"trial_{}\".format(brain_region)\n",
    "    updated_timestamp_col = \"trial_power_timestamps\".format(brain_region)\n",
    "    TRIALS_AND_SPECTRAL_DF[updated_item_col] = TRIALS_AND_SPECTRAL_DF.apply(lambda x: utilities.helper.filter_by_timestamp_range(start=x[\"tone_start_timestamp\"], stop=x[\"tone_stop_timestamp\"], timestamps=x[\"power_timestamps\"], items=x[col])[1], axis=1)\n",
    "TRIALS_AND_SPECTRAL_DF[updated_timestamp_col] = TRIALS_AND_SPECTRAL_DF.apply(lambda x: utilities.helper.filter_by_timestamp_range(start=x[\"tone_start_timestamp\"], stop=x[\"tone_stop_timestamp\"], timestamps=x[\"power_timestamps\"], items=x[col])[0], axis=1)"
   ]
  },
  {
   "cell_type": "code",
   "execution_count": 80,
   "metadata": {
    "tags": []
   },
   "outputs": [
    {
     "data": {
      "text/plain": [
       "0       [530000, 540000, 550000, 560000, 570000, 58000...\n",
       "1       [2930000, 2940000, 2950000, 2960000, 2970000, ...\n",
       "2       [5230000, 5240000, 5250000, 5260000, 5270000, ...\n",
       "3       [7030000, 7040000, 7050000, 7060000, 7070000, ...\n",
       "4       [8130000, 8140000, 8150000, 8160000, 8170000, ...\n",
       "                              ...                        \n",
       "1364    [60080000, 60090000, 60100000, 60110000, 60120...\n",
       "1365    [61580000, 61590000, 61600000, 61610000, 61620...\n",
       "1366    [63580000, 63590000, 63600000, 63610000, 63620...\n",
       "1367    [65480000, 65490000, 65500000, 65510000, 65520...\n",
       "1368    [66480000, 66490000, 66500000, 66510000, 66520...\n",
       "Name: baseline_power_timestamps, Length: 1369, dtype: object"
      ]
     },
     "execution_count": 80,
     "metadata": {},
     "output_type": "execute_result"
    }
   ],
   "source": [
    "TRIALS_AND_SPECTRAL_DF[\"baseline_power_timestamps\"]"
   ]
  },
  {
   "cell_type": "code",
   "execution_count": 81,
   "metadata": {
    "tags": []
   },
   "outputs": [],
   "source": [
    "TRIALS_AND_SPECTRAL_DF = TRIALS_AND_SPECTRAL_DF.drop(columns=power_columns + [\"power_timestamps\"], errors=\"ignore\")"
   ]
  },
  {
   "cell_type": "code",
   "execution_count": 82,
   "metadata": {
    "tags": []
   },
   "outputs": [
    {
     "name": "stdout",
     "output_type": "stream",
     "text": [
      "tracked_subject\n",
      "box_number\n",
      "sleap_name\n",
      "video_name\n",
      "current_subject\n",
      "tone_start_frame\n",
      "reward_start_frame\n",
      "tone_stop_frame\n",
      "condition\n",
      "competition_closeness\n",
      "notes\n",
      "experiment\n",
      "session_dir\n",
      "all_subjects\n",
      "tone_start_timestamp\n",
      "tone_stop_timestamp\n",
      "trial_label\n",
      "cohort\n",
      "tone_frames\n",
      "box_1_port_entry_frames\n",
      "box_2_port_entry_frames\n",
      "session_path\n",
      "recording\n",
      "subject\n",
      "first_timestamp\n",
      "last_timestamp\n",
      "tone_timestamps\n",
      "box_1_port_entry_timestamps\n",
      "box_2_port_entry_timestamps\n",
      "lfp_timestamps\n",
      "mPFC_theta_band\n",
      "MD_theta_band\n",
      "LH_theta_band\n",
      "BLA_theta_band\n",
      "vHPC_theta_band\n",
      "mPFC_gamma_band\n",
      "MD_gamma_band\n",
      "LH_gamma_band\n",
      "BLA_gamma_band\n",
      "vHPC_gamma_band\n",
      "mPFC_theta_phase\n",
      "MD_theta_phase\n",
      "LH_theta_phase\n",
      "BLA_theta_phase\n",
      "vHPC_theta_phase\n",
      "mPFC_gamma_phase\n",
      "MD_gamma_phase\n",
      "LH_gamma_phase\n",
      "BLA_gamma_phase\n",
      "vHPC_gamma_phase\n",
      "power_calculation_frequencies\n",
      "coherence_calculation_frequencies\n",
      "granger_calculation_frequencies\n",
      "start_frame\n",
      "stop_frame\n",
      "in_video_subjects\n",
      "body_parts\n",
      "box_top_left\n",
      "box_top_right\n",
      "reward_port\n",
      "box_bottom_left\n",
      "box_bottom_right\n",
      "agent\n",
      "baseline_start_timestamp\n",
      "baseline_stop_timestamp\n",
      "baseline_agent_locations\n",
      "baseline_agent_thorax_to_reward_port\n",
      "baseline_agent_thorax_velocity\n",
      "baseline_subject_locations\n",
      "baseline_subject_thorax_to_reward_port\n",
      "baseline_subject_thorax_velocity\n",
      "baseline_video_frame\n",
      "baseline_video_timestamps\n",
      "trial_agent_locations\n",
      "trial_agent_thorax_to_reward_port\n",
      "trial_agent_thorax_velocity\n",
      "trial_subject_locations\n",
      "trial_subject_thorax_to_reward_port\n",
      "trial_subject_thorax_velocity\n",
      "trial_video_frame\n",
      "trial_video_timestamps\n",
      "baseline_BLA_LH_RMS_filtered_coherence_all_frequencies\n",
      "baseline_BLA_MD_RMS_filtered_coherence_all_frequencies\n",
      "baseline_BLA_mPFC_RMS_filtered_coherence_all_frequencies\n",
      "baseline_BLA_vHPC_RMS_filtered_coherence_all_frequencies\n",
      "baseline_LH_MD_RMS_filtered_coherence_all_frequencies\n",
      "baseline_LH_mPFC_RMS_filtered_coherence_all_frequencies\n",
      "baseline_LH_vHPC_RMS_filtered_coherence_all_frequencies\n",
      "baseline_MD_mPFC_RMS_filtered_coherence_all_frequencies\n",
      "baseline_MD_vHPC_RMS_filtered_coherence_all_frequencies\n",
      "baseline_mPFC_vHPC_RMS_filtered_coherence_all_frequencies\n",
      "baseline_BLA_LH_coherence_theta\n",
      "baseline_BLA_LH_coherence_gamma\n",
      "baseline_BLA_MD_coherence_theta\n",
      "baseline_BLA_MD_coherence_gamma\n",
      "baseline_BLA_mPFC_coherence_theta\n",
      "baseline_BLA_mPFC_coherence_gamma\n",
      "baseline_BLA_vHPC_coherence_theta\n",
      "baseline_BLA_vHPC_coherence_gamma\n",
      "baseline_LH_MD_coherence_theta\n",
      "baseline_LH_MD_coherence_gamma\n",
      "baseline_LH_mPFC_coherence_theta\n",
      "baseline_LH_mPFC_coherence_gamma\n",
      "baseline_LH_vHPC_coherence_theta\n",
      "baseline_LH_vHPC_coherence_gamma\n",
      "baseline_MD_mPFC_coherence_theta\n",
      "baseline_MD_mPFC_coherence_gamma\n",
      "baseline_MD_vHPC_coherence_theta\n",
      "baseline_MD_vHPC_coherence_gamma\n",
      "baseline_mPFC_vHPC_coherence_theta\n",
      "baseline_mPFC_vHPC_coherence_gamma\n",
      "baseline_coherence_timestamps\n",
      "trial_BLA_LH_RMS_filtered_coherence_all_frequencies\n",
      "trial_BLA_MD_RMS_filtered_coherence_all_frequencies\n",
      "trial_BLA_mPFC_RMS_filtered_coherence_all_frequencies\n",
      "trial_BLA_vHPC_RMS_filtered_coherence_all_frequencies\n",
      "trial_LH_MD_RMS_filtered_coherence_all_frequencies\n",
      "trial_LH_mPFC_RMS_filtered_coherence_all_frequencies\n",
      "trial_LH_vHPC_RMS_filtered_coherence_all_frequencies\n",
      "trial_MD_mPFC_RMS_filtered_coherence_all_frequencies\n",
      "trial_MD_vHPC_RMS_filtered_coherence_all_frequencies\n",
      "trial_mPFC_vHPC_RMS_filtered_coherence_all_frequencies\n",
      "trial_BLA_LH_coherence_theta\n",
      "trial_BLA_LH_coherence_gamma\n",
      "trial_BLA_MD_coherence_theta\n",
      "trial_BLA_MD_coherence_gamma\n",
      "trial_BLA_mPFC_coherence_theta\n",
      "trial_BLA_mPFC_coherence_gamma\n",
      "trial_BLA_vHPC_coherence_theta\n",
      "trial_BLA_vHPC_coherence_gamma\n",
      "trial_LH_MD_coherence_theta\n",
      "trial_LH_MD_coherence_gamma\n",
      "trial_LH_mPFC_coherence_theta\n",
      "trial_LH_mPFC_coherence_gamma\n",
      "trial_LH_vHPC_coherence_theta\n",
      "trial_LH_vHPC_coherence_gamma\n",
      "trial_MD_mPFC_coherence_theta\n",
      "trial_MD_mPFC_coherence_gamma\n",
      "trial_MD_vHPC_coherence_theta\n",
      "trial_MD_vHPC_coherence_gamma\n",
      "trial_mPFC_vHPC_coherence_theta\n",
      "trial_mPFC_vHPC_coherence_gamma\n",
      "trial_coherence_timestamps\n",
      "baseline_BLA_LH_granger_all_frequencies\n",
      "baseline_LH_BLA_granger_all_frequencies\n",
      "baseline_BLA_MD_granger_all_frequencies\n",
      "baseline_MD_BLA_granger_all_frequencies\n",
      "baseline_BLA_mPFC_granger_all_frequencies\n",
      "baseline_mPFC_BLA_granger_all_frequencies\n",
      "baseline_BLA_vHPC_granger_all_frequencies\n",
      "baseline_vHPC_BLA_granger_all_frequencies\n",
      "baseline_LH_MD_granger_all_frequencies\n",
      "baseline_MD_LH_granger_all_frequencies\n",
      "baseline_LH_mPFC_granger_all_frequencies\n",
      "baseline_mPFC_LH_granger_all_frequencies\n",
      "baseline_LH_vHPC_granger_all_frequencies\n",
      "baseline_vHPC_LH_granger_all_frequencies\n",
      "baseline_MD_mPFC_granger_all_frequencies\n",
      "baseline_mPFC_MD_granger_all_frequencies\n",
      "baseline_MD_vHPC_granger_all_frequencies\n",
      "baseline_vHPC_MD_granger_all_frequencies\n",
      "baseline_mPFC_vHPC_granger_all_frequencies\n",
      "baseline_vHPC_mPFC_granger_all_frequencies\n",
      "baseline_BLA-to-LH_granger_theta\n",
      "baseline_BLA-to-LH_granger_gamma\n",
      "baseline_LH-to-BLA_granger_theta\n",
      "baseline_LH-to-BLA_granger_gamma\n",
      "baseline_BLA-to-MD_granger_theta\n",
      "baseline_BLA-to-MD_granger_gamma\n",
      "baseline_MD-to-BLA_granger_theta\n",
      "baseline_MD-to-BLA_granger_gamma\n",
      "baseline_BLA-to-mPFC_granger_theta\n",
      "baseline_BLA-to-mPFC_granger_gamma\n",
      "baseline_mPFC-to-BLA_granger_theta\n",
      "baseline_mPFC-to-BLA_granger_gamma\n",
      "baseline_BLA-to-vHPC_granger_theta\n",
      "baseline_BLA-to-vHPC_granger_gamma\n",
      "baseline_vHPC-to-BLA_granger_theta\n",
      "baseline_vHPC-to-BLA_granger_gamma\n",
      "baseline_LH-to-MD_granger_theta\n",
      "baseline_LH-to-MD_granger_gamma\n",
      "baseline_MD-to-LH_granger_theta\n",
      "baseline_MD-to-LH_granger_gamma\n",
      "baseline_LH-to-mPFC_granger_theta\n",
      "baseline_LH-to-mPFC_granger_gamma\n",
      "baseline_mPFC-to-LH_granger_theta\n",
      "baseline_mPFC-to-LH_granger_gamma\n",
      "baseline_LH-to-vHPC_granger_theta\n",
      "baseline_LH-to-vHPC_granger_gamma\n",
      "baseline_vHPC-to-LH_granger_theta\n",
      "baseline_vHPC-to-LH_granger_gamma\n",
      "baseline_MD-to-mPFC_granger_theta\n",
      "baseline_MD-to-mPFC_granger_gamma\n",
      "baseline_mPFC-to-MD_granger_theta\n",
      "baseline_mPFC-to-MD_granger_gamma\n",
      "baseline_MD-to-vHPC_granger_theta\n",
      "baseline_MD-to-vHPC_granger_gamma\n",
      "baseline_vHPC-to-MD_granger_theta\n",
      "baseline_vHPC-to-MD_granger_gamma\n",
      "baseline_mPFC-to-vHPC_granger_theta\n",
      "baseline_mPFC-to-vHPC_granger_gamma\n",
      "baseline_vHPC-to-mPFC_granger_theta\n",
      "baseline_vHPC-to-mPFC_granger_gamma\n",
      "baseline_granger_timestamps\n",
      "trial_BLA_LH_granger_all_frequencies\n",
      "trial_LH_BLA_granger_all_frequencies\n",
      "trial_BLA_MD_granger_all_frequencies\n",
      "trial_MD_BLA_granger_all_frequencies\n",
      "trial_BLA_mPFC_granger_all_frequencies\n",
      "trial_mPFC_BLA_granger_all_frequencies\n",
      "trial_BLA_vHPC_granger_all_frequencies\n",
      "trial_vHPC_BLA_granger_all_frequencies\n",
      "trial_LH_MD_granger_all_frequencies\n",
      "trial_MD_LH_granger_all_frequencies\n",
      "trial_LH_mPFC_granger_all_frequencies\n",
      "trial_mPFC_LH_granger_all_frequencies\n",
      "trial_LH_vHPC_granger_all_frequencies\n",
      "trial_vHPC_LH_granger_all_frequencies\n",
      "trial_MD_mPFC_granger_all_frequencies\n",
      "trial_mPFC_MD_granger_all_frequencies\n",
      "trial_MD_vHPC_granger_all_frequencies\n",
      "trial_vHPC_MD_granger_all_frequencies\n",
      "trial_mPFC_vHPC_granger_all_frequencies\n",
      "trial_vHPC_mPFC_granger_all_frequencies\n",
      "trial_BLA-to-LH_granger_theta\n",
      "trial_BLA-to-LH_granger_gamma\n",
      "trial_LH-to-BLA_granger_theta\n",
      "trial_LH-to-BLA_granger_gamma\n",
      "trial_BLA-to-MD_granger_theta\n",
      "trial_BLA-to-MD_granger_gamma\n",
      "trial_MD-to-BLA_granger_theta\n",
      "trial_MD-to-BLA_granger_gamma\n",
      "trial_BLA-to-mPFC_granger_theta\n",
      "trial_BLA-to-mPFC_granger_gamma\n",
      "trial_mPFC-to-BLA_granger_theta\n",
      "trial_mPFC-to-BLA_granger_gamma\n",
      "trial_BLA-to-vHPC_granger_theta\n",
      "trial_BLA-to-vHPC_granger_gamma\n",
      "trial_vHPC-to-BLA_granger_theta\n",
      "trial_vHPC-to-BLA_granger_gamma\n",
      "trial_LH-to-MD_granger_theta\n",
      "trial_LH-to-MD_granger_gamma\n",
      "trial_MD-to-LH_granger_theta\n",
      "trial_MD-to-LH_granger_gamma\n",
      "trial_LH-to-mPFC_granger_theta\n",
      "trial_LH-to-mPFC_granger_gamma\n",
      "trial_mPFC-to-LH_granger_theta\n",
      "trial_mPFC-to-LH_granger_gamma\n",
      "trial_LH-to-vHPC_granger_theta\n",
      "trial_LH-to-vHPC_granger_gamma\n",
      "trial_vHPC-to-LH_granger_theta\n",
      "trial_vHPC-to-LH_granger_gamma\n",
      "trial_MD-to-mPFC_granger_theta\n",
      "trial_MD-to-mPFC_granger_gamma\n",
      "trial_mPFC-to-MD_granger_theta\n",
      "trial_mPFC-to-MD_granger_gamma\n",
      "trial_MD-to-vHPC_granger_theta\n",
      "trial_MD-to-vHPC_granger_gamma\n",
      "trial_vHPC-to-MD_granger_theta\n",
      "trial_vHPC-to-MD_granger_gamma\n",
      "trial_mPFC-to-vHPC_granger_theta\n",
      "trial_mPFC-to-vHPC_granger_gamma\n",
      "trial_vHPC-to-mPFC_granger_theta\n",
      "trial_vHPC-to-mPFC_granger_gamma\n",
      "trial_granger_timestamps\n",
      "baseline_mPFC_RMS_filtered_power_all_frequencies\n",
      "baseline_MD_RMS_filtered_power_all_frequencies\n",
      "baseline_LH_RMS_filtered_power_all_frequencies\n",
      "baseline_BLA_RMS_filtered_power_all_frequencies\n",
      "baseline_vHPC_RMS_filtered_power_all_frequencies\n",
      "baseline_mPFC_RMS_filtered_power_theta\n",
      "baseline_mPFC_RMS_filtered_power_gamma\n",
      "baseline_MD_RMS_filtered_power_theta\n",
      "baseline_MD_RMS_filtered_power_gamma\n",
      "baseline_LH_RMS_filtered_power_theta\n",
      "baseline_LH_RMS_filtered_power_gamma\n",
      "baseline_BLA_RMS_filtered_power_theta\n",
      "baseline_BLA_RMS_filtered_power_gamma\n",
      "baseline_vHPC_RMS_filtered_power_theta\n",
      "baseline_vHPC_RMS_filtered_power_gamma\n",
      "baseline_power_timestamps\n",
      "trial_mPFC_RMS_filtered_power_all_frequencies\n",
      "trial_MD_RMS_filtered_power_all_frequencies\n",
      "trial_LH_RMS_filtered_power_all_frequencies\n",
      "trial_BLA_RMS_filtered_power_all_frequencies\n",
      "trial_vHPC_RMS_filtered_power_all_frequencies\n",
      "trial_mPFC_RMS_filtered_power_theta\n",
      "trial_mPFC_RMS_filtered_power_gamma\n",
      "trial_MD_RMS_filtered_power_theta\n",
      "trial_MD_RMS_filtered_power_gamma\n",
      "trial_LH_RMS_filtered_power_theta\n",
      "trial_LH_RMS_filtered_power_gamma\n",
      "trial_BLA_RMS_filtered_power_theta\n",
      "trial_BLA_RMS_filtered_power_gamma\n",
      "trial_vHPC_RMS_filtered_power_theta\n",
      "trial_vHPC_RMS_filtered_power_gamma\n",
      "trial_power_timestamps\n"
     ]
    }
   ],
   "source": [
    "for col in TRIALS_AND_SPECTRAL_DF:\n",
    "    print(col)"
   ]
  },
  {
   "cell_type": "markdown",
   "metadata": {
    "tags": []
   },
   "source": [
    "# Filtering out phase"
   ]
  },
  {
   "cell_type": "code",
   "execution_count": 83,
   "metadata": {
    "tags": []
   },
   "outputs": [],
   "source": [
    "lfp_columns = [col for col in TRIALS_AND_SPECTRAL_DF.columns if \"trace\" in col and \"timestamps\" not in col and \"calculation\" not in col]"
   ]
  },
  {
   "cell_type": "code",
   "execution_count": 84,
   "metadata": {
    "tags": []
   },
   "outputs": [],
   "source": [
    "band_columns = [col for col in TRIALS_AND_SPECTRAL_DF.columns if \"band\" in col and \"timestamps\" not in col and \"calculation\" not in col]"
   ]
  },
  {
   "cell_type": "code",
   "execution_count": 85,
   "metadata": {
    "tags": []
   },
   "outputs": [],
   "source": [
    "phase_columns = [col for col in TRIALS_AND_SPECTRAL_DF.columns if \"phase\" in col and \"timestamps\" not in col and \"calculation\" not in col]"
   ]
  },
  {
   "cell_type": "code",
   "execution_count": 86,
   "metadata": {
    "tags": []
   },
   "outputs": [],
   "source": [
    "phase_columns = phase_columns + band_columns +lfp_columns"
   ]
  },
  {
   "cell_type": "code",
   "execution_count": 87,
   "metadata": {
    "tags": []
   },
   "outputs": [
    {
     "data": {
      "text/plain": [
       "['mPFC_theta_phase',\n",
       " 'MD_theta_phase',\n",
       " 'LH_theta_phase',\n",
       " 'BLA_theta_phase',\n",
       " 'vHPC_theta_phase',\n",
       " 'mPFC_gamma_phase',\n",
       " 'MD_gamma_phase',\n",
       " 'LH_gamma_phase',\n",
       " 'BLA_gamma_phase',\n",
       " 'vHPC_gamma_phase',\n",
       " 'mPFC_theta_band',\n",
       " 'MD_theta_band',\n",
       " 'LH_theta_band',\n",
       " 'BLA_theta_band',\n",
       " 'vHPC_theta_band',\n",
       " 'mPFC_gamma_band',\n",
       " 'MD_gamma_band',\n",
       " 'LH_gamma_band',\n",
       " 'BLA_gamma_band',\n",
       " 'vHPC_gamma_band']"
      ]
     },
     "execution_count": 87,
     "metadata": {},
     "output_type": "execute_result"
    }
   ],
   "source": [
    "phase_columns"
   ]
  },
  {
   "cell_type": "code",
   "execution_count": 88,
   "metadata": {
    "tags": []
   },
   "outputs": [
    {
     "name": "stdout",
     "output_type": "stream",
     "text": [
      "mPFC_theta_phase\n",
      "MD_theta_phase\n",
      "LH_theta_phase\n",
      "BLA_theta_phase\n",
      "vHPC_theta_phase\n",
      "mPFC_gamma_phase\n",
      "MD_gamma_phase\n",
      "LH_gamma_phase\n",
      "BLA_gamma_phase\n",
      "vHPC_gamma_phase\n",
      "mPFC_theta_band\n",
      "MD_theta_band\n",
      "LH_theta_band\n",
      "BLA_theta_band\n",
      "vHPC_theta_band\n",
      "mPFC_gamma_band\n",
      "MD_gamma_band\n",
      "LH_gamma_band\n",
      "BLA_gamma_band\n",
      "vHPC_gamma_band\n"
     ]
    }
   ],
   "source": [
    "for col in phase_columns:\n",
    "    brain_region = col.replace(\"all_windows\", \"_\").strip(\"_\")\n",
    "    print(brain_region)\n",
    "    \n",
    "    updated_item_col = \"baseline_{}\".format(brain_region)\n",
    "    updated_timestamp_col = \"baseline_lfp_timestamps\".format(brain_region)\n",
    "    TRIALS_AND_SPECTRAL_DF[updated_item_col] = TRIALS_AND_SPECTRAL_DF.apply(lambda x: utilities.helper.filter_by_timestamp_range(start=x[\"baseline_start_timestamp\"], stop=x[\"baseline_stop_timestamp\"], timestamps=x[\"lfp_timestamps\"], items=x[col])[1], axis=1)\n",
    "TRIALS_AND_SPECTRAL_DF[updated_timestamp_col] = TRIALS_AND_SPECTRAL_DF.apply(lambda x: utilities.helper.filter_by_timestamp_range(start=x[\"baseline_start_timestamp\"], stop=x[\"baseline_stop_timestamp\"], timestamps=x[\"lfp_timestamps\"], items=x[col])[0], axis=1)"
   ]
  },
  {
   "cell_type": "code",
   "execution_count": 89,
   "metadata": {
    "tags": []
   },
   "outputs": [
    {
     "name": "stdout",
     "output_type": "stream",
     "text": [
      "mPFC_theta_phase\n",
      "MD_theta_phase\n",
      "LH_theta_phase\n",
      "BLA_theta_phase\n",
      "vHPC_theta_phase\n",
      "mPFC_gamma_phase\n",
      "MD_gamma_phase\n",
      "LH_gamma_phase\n",
      "BLA_gamma_phase\n",
      "vHPC_gamma_phase\n",
      "mPFC_theta_band\n",
      "MD_theta_band\n",
      "LH_theta_band\n",
      "BLA_theta_band\n",
      "vHPC_theta_band\n",
      "mPFC_gamma_band\n",
      "MD_gamma_band\n",
      "LH_gamma_band\n",
      "BLA_gamma_band\n",
      "vHPC_gamma_band\n"
     ]
    }
   ],
   "source": [
    "for col in phase_columns:\n",
    "    brain_region = col.replace(\"all_windows\", \"_\").strip(\"_\")\n",
    "    print(brain_region)\n",
    "    \n",
    "    updated_item_col = \"trial_{}\".format(brain_region)\n",
    "    updated_timestamp_col = \"trial_lfp_timestamps\".format(brain_region)\n",
    "    TRIALS_AND_SPECTRAL_DF[updated_item_col] = TRIALS_AND_SPECTRAL_DF.apply(lambda x: utilities.helper.filter_by_timestamp_range(start=x[\"tone_start_timestamp\"], stop=x[\"tone_stop_timestamp\"], timestamps=x[\"lfp_timestamps\"], items=x[col])[1], axis=1)\n",
    "TRIALS_AND_SPECTRAL_DF[updated_timestamp_col] = TRIALS_AND_SPECTRAL_DF.apply(lambda x: utilities.helper.filter_by_timestamp_range(start=x[\"tone_start_timestamp\"], stop=x[\"tone_stop_timestamp\"], timestamps=x[\"lfp_timestamps\"], items=x[col])[0], axis=1)"
   ]
  },
  {
   "cell_type": "code",
   "execution_count": 90,
   "metadata": {
    "tags": []
   },
   "outputs": [
    {
     "data": {
      "text/plain": [
       "0       [526760, 526780, 526800, 526820, 526840, 52686...\n",
       "1       [2926740, 2926760, 2926780, 2926800, 2926820, ...\n",
       "2       [5226740, 5226760, 5226780, 5226800, 5226820, ...\n",
       "3       [7026740, 7026760, 7026780, 7026800, 7026820, ...\n",
       "4       [8126740, 8126760, 8126780, 8126800, 8126820, ...\n",
       "                              ...                        \n",
       "1364    [60073460, 60073480, 60073500, 60073520, 60073...\n",
       "1365    [61573480, 61573500, 61573520, 61573540, 61573...\n",
       "1366    [63573520, 63573540, 63573560, 63573580, 63573...\n",
       "1367    [65473540, 65473560, 65473580, 65473600, 65473...\n",
       "1368    [66473540, 66473560, 66473580, 66473600, 66473...\n",
       "Name: baseline_lfp_timestamps, Length: 1369, dtype: object"
      ]
     },
     "execution_count": 90,
     "metadata": {},
     "output_type": "execute_result"
    }
   ],
   "source": [
    "TRIALS_AND_SPECTRAL_DF[\"baseline_lfp_timestamps\"]"
   ]
  },
  {
   "cell_type": "code",
   "execution_count": 91,
   "metadata": {
    "tags": []
   },
   "outputs": [],
   "source": [
    "TRIALS_AND_SPECTRAL_DF = TRIALS_AND_SPECTRAL_DF.drop(columns=phase_columns + [\"lfp_timestamps\"], errors=\"ignore\")"
   ]
  },
  {
   "cell_type": "code",
   "execution_count": 92,
   "metadata": {
    "tags": []
   },
   "outputs": [],
   "source": [
    "TRIALS_AND_SPECTRAL_DF.to_pickle(os.path.join(OUTPUT_DIR, FULL_LFP_TRACES_PKL))"
   ]
  },
  {
   "cell_type": "code",
   "execution_count": 93,
   "metadata": {
    "tags": []
   },
   "outputs": [
    {
     "name": "stdout",
     "output_type": "stream",
     "text": [
      "tracked_subject\n",
      "box_number\n",
      "sleap_name\n",
      "video_name\n",
      "current_subject\n",
      "tone_start_frame\n",
      "reward_start_frame\n",
      "tone_stop_frame\n",
      "condition\n",
      "competition_closeness\n",
      "notes\n",
      "experiment\n",
      "session_dir\n",
      "all_subjects\n",
      "tone_start_timestamp\n",
      "tone_stop_timestamp\n",
      "trial_label\n",
      "cohort\n",
      "tone_frames\n",
      "box_1_port_entry_frames\n",
      "box_2_port_entry_frames\n",
      "session_path\n",
      "recording\n",
      "subject\n",
      "first_timestamp\n",
      "last_timestamp\n",
      "tone_timestamps\n",
      "box_1_port_entry_timestamps\n",
      "box_2_port_entry_timestamps\n",
      "power_calculation_frequencies\n",
      "coherence_calculation_frequencies\n",
      "granger_calculation_frequencies\n",
      "start_frame\n",
      "stop_frame\n",
      "in_video_subjects\n",
      "body_parts\n",
      "box_top_left\n",
      "box_top_right\n",
      "reward_port\n",
      "box_bottom_left\n",
      "box_bottom_right\n",
      "agent\n",
      "baseline_start_timestamp\n",
      "baseline_stop_timestamp\n",
      "baseline_agent_locations\n",
      "baseline_agent_thorax_to_reward_port\n",
      "baseline_agent_thorax_velocity\n",
      "baseline_subject_locations\n",
      "baseline_subject_thorax_to_reward_port\n",
      "baseline_subject_thorax_velocity\n",
      "baseline_video_frame\n",
      "baseline_video_timestamps\n",
      "trial_agent_locations\n",
      "trial_agent_thorax_to_reward_port\n",
      "trial_agent_thorax_velocity\n",
      "trial_subject_locations\n",
      "trial_subject_thorax_to_reward_port\n",
      "trial_subject_thorax_velocity\n",
      "trial_video_frame\n",
      "trial_video_timestamps\n",
      "baseline_BLA_LH_RMS_filtered_coherence_all_frequencies\n",
      "baseline_BLA_MD_RMS_filtered_coherence_all_frequencies\n",
      "baseline_BLA_mPFC_RMS_filtered_coherence_all_frequencies\n",
      "baseline_BLA_vHPC_RMS_filtered_coherence_all_frequencies\n",
      "baseline_LH_MD_RMS_filtered_coherence_all_frequencies\n",
      "baseline_LH_mPFC_RMS_filtered_coherence_all_frequencies\n",
      "baseline_LH_vHPC_RMS_filtered_coherence_all_frequencies\n",
      "baseline_MD_mPFC_RMS_filtered_coherence_all_frequencies\n",
      "baseline_MD_vHPC_RMS_filtered_coherence_all_frequencies\n",
      "baseline_mPFC_vHPC_RMS_filtered_coherence_all_frequencies\n",
      "baseline_BLA_LH_coherence_theta\n",
      "baseline_BLA_LH_coherence_gamma\n",
      "baseline_BLA_MD_coherence_theta\n",
      "baseline_BLA_MD_coherence_gamma\n",
      "baseline_BLA_mPFC_coherence_theta\n",
      "baseline_BLA_mPFC_coherence_gamma\n",
      "baseline_BLA_vHPC_coherence_theta\n",
      "baseline_BLA_vHPC_coherence_gamma\n",
      "baseline_LH_MD_coherence_theta\n",
      "baseline_LH_MD_coherence_gamma\n",
      "baseline_LH_mPFC_coherence_theta\n",
      "baseline_LH_mPFC_coherence_gamma\n",
      "baseline_LH_vHPC_coherence_theta\n",
      "baseline_LH_vHPC_coherence_gamma\n",
      "baseline_MD_mPFC_coherence_theta\n",
      "baseline_MD_mPFC_coherence_gamma\n",
      "baseline_MD_vHPC_coherence_theta\n",
      "baseline_MD_vHPC_coherence_gamma\n",
      "baseline_mPFC_vHPC_coherence_theta\n",
      "baseline_mPFC_vHPC_coherence_gamma\n",
      "baseline_coherence_timestamps\n",
      "trial_BLA_LH_RMS_filtered_coherence_all_frequencies\n",
      "trial_BLA_MD_RMS_filtered_coherence_all_frequencies\n",
      "trial_BLA_mPFC_RMS_filtered_coherence_all_frequencies\n",
      "trial_BLA_vHPC_RMS_filtered_coherence_all_frequencies\n",
      "trial_LH_MD_RMS_filtered_coherence_all_frequencies\n",
      "trial_LH_mPFC_RMS_filtered_coherence_all_frequencies\n",
      "trial_LH_vHPC_RMS_filtered_coherence_all_frequencies\n",
      "trial_MD_mPFC_RMS_filtered_coherence_all_frequencies\n",
      "trial_MD_vHPC_RMS_filtered_coherence_all_frequencies\n",
      "trial_mPFC_vHPC_RMS_filtered_coherence_all_frequencies\n",
      "trial_BLA_LH_coherence_theta\n",
      "trial_BLA_LH_coherence_gamma\n",
      "trial_BLA_MD_coherence_theta\n",
      "trial_BLA_MD_coherence_gamma\n",
      "trial_BLA_mPFC_coherence_theta\n",
      "trial_BLA_mPFC_coherence_gamma\n",
      "trial_BLA_vHPC_coherence_theta\n",
      "trial_BLA_vHPC_coherence_gamma\n",
      "trial_LH_MD_coherence_theta\n",
      "trial_LH_MD_coherence_gamma\n",
      "trial_LH_mPFC_coherence_theta\n",
      "trial_LH_mPFC_coherence_gamma\n",
      "trial_LH_vHPC_coherence_theta\n",
      "trial_LH_vHPC_coherence_gamma\n",
      "trial_MD_mPFC_coherence_theta\n",
      "trial_MD_mPFC_coherence_gamma\n",
      "trial_MD_vHPC_coherence_theta\n",
      "trial_MD_vHPC_coherence_gamma\n",
      "trial_mPFC_vHPC_coherence_theta\n",
      "trial_mPFC_vHPC_coherence_gamma\n",
      "trial_coherence_timestamps\n",
      "baseline_BLA_LH_granger_all_frequencies\n",
      "baseline_LH_BLA_granger_all_frequencies\n",
      "baseline_BLA_MD_granger_all_frequencies\n",
      "baseline_MD_BLA_granger_all_frequencies\n",
      "baseline_BLA_mPFC_granger_all_frequencies\n",
      "baseline_mPFC_BLA_granger_all_frequencies\n",
      "baseline_BLA_vHPC_granger_all_frequencies\n",
      "baseline_vHPC_BLA_granger_all_frequencies\n",
      "baseline_LH_MD_granger_all_frequencies\n",
      "baseline_MD_LH_granger_all_frequencies\n",
      "baseline_LH_mPFC_granger_all_frequencies\n",
      "baseline_mPFC_LH_granger_all_frequencies\n",
      "baseline_LH_vHPC_granger_all_frequencies\n",
      "baseline_vHPC_LH_granger_all_frequencies\n",
      "baseline_MD_mPFC_granger_all_frequencies\n",
      "baseline_mPFC_MD_granger_all_frequencies\n",
      "baseline_MD_vHPC_granger_all_frequencies\n",
      "baseline_vHPC_MD_granger_all_frequencies\n",
      "baseline_mPFC_vHPC_granger_all_frequencies\n",
      "baseline_vHPC_mPFC_granger_all_frequencies\n",
      "baseline_BLA-to-LH_granger_theta\n",
      "baseline_BLA-to-LH_granger_gamma\n",
      "baseline_LH-to-BLA_granger_theta\n",
      "baseline_LH-to-BLA_granger_gamma\n",
      "baseline_BLA-to-MD_granger_theta\n",
      "baseline_BLA-to-MD_granger_gamma\n",
      "baseline_MD-to-BLA_granger_theta\n",
      "baseline_MD-to-BLA_granger_gamma\n",
      "baseline_BLA-to-mPFC_granger_theta\n",
      "baseline_BLA-to-mPFC_granger_gamma\n",
      "baseline_mPFC-to-BLA_granger_theta\n",
      "baseline_mPFC-to-BLA_granger_gamma\n",
      "baseline_BLA-to-vHPC_granger_theta\n",
      "baseline_BLA-to-vHPC_granger_gamma\n",
      "baseline_vHPC-to-BLA_granger_theta\n",
      "baseline_vHPC-to-BLA_granger_gamma\n",
      "baseline_LH-to-MD_granger_theta\n",
      "baseline_LH-to-MD_granger_gamma\n",
      "baseline_MD-to-LH_granger_theta\n",
      "baseline_MD-to-LH_granger_gamma\n",
      "baseline_LH-to-mPFC_granger_theta\n",
      "baseline_LH-to-mPFC_granger_gamma\n",
      "baseline_mPFC-to-LH_granger_theta\n",
      "baseline_mPFC-to-LH_granger_gamma\n",
      "baseline_LH-to-vHPC_granger_theta\n",
      "baseline_LH-to-vHPC_granger_gamma\n",
      "baseline_vHPC-to-LH_granger_theta\n",
      "baseline_vHPC-to-LH_granger_gamma\n",
      "baseline_MD-to-mPFC_granger_theta\n",
      "baseline_MD-to-mPFC_granger_gamma\n",
      "baseline_mPFC-to-MD_granger_theta\n",
      "baseline_mPFC-to-MD_granger_gamma\n",
      "baseline_MD-to-vHPC_granger_theta\n",
      "baseline_MD-to-vHPC_granger_gamma\n",
      "baseline_vHPC-to-MD_granger_theta\n",
      "baseline_vHPC-to-MD_granger_gamma\n",
      "baseline_mPFC-to-vHPC_granger_theta\n",
      "baseline_mPFC-to-vHPC_granger_gamma\n",
      "baseline_vHPC-to-mPFC_granger_theta\n",
      "baseline_vHPC-to-mPFC_granger_gamma\n",
      "baseline_granger_timestamps\n",
      "trial_BLA_LH_granger_all_frequencies\n",
      "trial_LH_BLA_granger_all_frequencies\n",
      "trial_BLA_MD_granger_all_frequencies\n",
      "trial_MD_BLA_granger_all_frequencies\n",
      "trial_BLA_mPFC_granger_all_frequencies\n",
      "trial_mPFC_BLA_granger_all_frequencies\n",
      "trial_BLA_vHPC_granger_all_frequencies\n",
      "trial_vHPC_BLA_granger_all_frequencies\n",
      "trial_LH_MD_granger_all_frequencies\n",
      "trial_MD_LH_granger_all_frequencies\n",
      "trial_LH_mPFC_granger_all_frequencies\n",
      "trial_mPFC_LH_granger_all_frequencies\n",
      "trial_LH_vHPC_granger_all_frequencies\n",
      "trial_vHPC_LH_granger_all_frequencies\n",
      "trial_MD_mPFC_granger_all_frequencies\n",
      "trial_mPFC_MD_granger_all_frequencies\n",
      "trial_MD_vHPC_granger_all_frequencies\n",
      "trial_vHPC_MD_granger_all_frequencies\n",
      "trial_mPFC_vHPC_granger_all_frequencies\n",
      "trial_vHPC_mPFC_granger_all_frequencies\n",
      "trial_BLA-to-LH_granger_theta\n",
      "trial_BLA-to-LH_granger_gamma\n",
      "trial_LH-to-BLA_granger_theta\n",
      "trial_LH-to-BLA_granger_gamma\n",
      "trial_BLA-to-MD_granger_theta\n",
      "trial_BLA-to-MD_granger_gamma\n",
      "trial_MD-to-BLA_granger_theta\n",
      "trial_MD-to-BLA_granger_gamma\n",
      "trial_BLA-to-mPFC_granger_theta\n",
      "trial_BLA-to-mPFC_granger_gamma\n",
      "trial_mPFC-to-BLA_granger_theta\n",
      "trial_mPFC-to-BLA_granger_gamma\n",
      "trial_BLA-to-vHPC_granger_theta\n",
      "trial_BLA-to-vHPC_granger_gamma\n",
      "trial_vHPC-to-BLA_granger_theta\n",
      "trial_vHPC-to-BLA_granger_gamma\n",
      "trial_LH-to-MD_granger_theta\n",
      "trial_LH-to-MD_granger_gamma\n",
      "trial_MD-to-LH_granger_theta\n",
      "trial_MD-to-LH_granger_gamma\n",
      "trial_LH-to-mPFC_granger_theta\n",
      "trial_LH-to-mPFC_granger_gamma\n",
      "trial_mPFC-to-LH_granger_theta\n",
      "trial_mPFC-to-LH_granger_gamma\n",
      "trial_LH-to-vHPC_granger_theta\n",
      "trial_LH-to-vHPC_granger_gamma\n",
      "trial_vHPC-to-LH_granger_theta\n",
      "trial_vHPC-to-LH_granger_gamma\n",
      "trial_MD-to-mPFC_granger_theta\n",
      "trial_MD-to-mPFC_granger_gamma\n",
      "trial_mPFC-to-MD_granger_theta\n",
      "trial_mPFC-to-MD_granger_gamma\n",
      "trial_MD-to-vHPC_granger_theta\n",
      "trial_MD-to-vHPC_granger_gamma\n",
      "trial_vHPC-to-MD_granger_theta\n",
      "trial_vHPC-to-MD_granger_gamma\n",
      "trial_mPFC-to-vHPC_granger_theta\n",
      "trial_mPFC-to-vHPC_granger_gamma\n",
      "trial_vHPC-to-mPFC_granger_theta\n",
      "trial_vHPC-to-mPFC_granger_gamma\n",
      "trial_granger_timestamps\n",
      "baseline_mPFC_RMS_filtered_power_all_frequencies\n",
      "baseline_MD_RMS_filtered_power_all_frequencies\n",
      "baseline_LH_RMS_filtered_power_all_frequencies\n",
      "baseline_BLA_RMS_filtered_power_all_frequencies\n",
      "baseline_vHPC_RMS_filtered_power_all_frequencies\n",
      "baseline_mPFC_RMS_filtered_power_theta\n",
      "baseline_mPFC_RMS_filtered_power_gamma\n",
      "baseline_MD_RMS_filtered_power_theta\n",
      "baseline_MD_RMS_filtered_power_gamma\n",
      "baseline_LH_RMS_filtered_power_theta\n",
      "baseline_LH_RMS_filtered_power_gamma\n",
      "baseline_BLA_RMS_filtered_power_theta\n",
      "baseline_BLA_RMS_filtered_power_gamma\n",
      "baseline_vHPC_RMS_filtered_power_theta\n",
      "baseline_vHPC_RMS_filtered_power_gamma\n",
      "baseline_power_timestamps\n",
      "trial_mPFC_RMS_filtered_power_all_frequencies\n",
      "trial_MD_RMS_filtered_power_all_frequencies\n",
      "trial_LH_RMS_filtered_power_all_frequencies\n",
      "trial_BLA_RMS_filtered_power_all_frequencies\n",
      "trial_vHPC_RMS_filtered_power_all_frequencies\n",
      "trial_mPFC_RMS_filtered_power_theta\n",
      "trial_mPFC_RMS_filtered_power_gamma\n",
      "trial_MD_RMS_filtered_power_theta\n",
      "trial_MD_RMS_filtered_power_gamma\n",
      "trial_LH_RMS_filtered_power_theta\n",
      "trial_LH_RMS_filtered_power_gamma\n",
      "trial_BLA_RMS_filtered_power_theta\n",
      "trial_BLA_RMS_filtered_power_gamma\n",
      "trial_vHPC_RMS_filtered_power_theta\n",
      "trial_vHPC_RMS_filtered_power_gamma\n",
      "trial_power_timestamps\n",
      "baseline_mPFC_theta_phase\n",
      "baseline_MD_theta_phase\n",
      "baseline_LH_theta_phase\n",
      "baseline_BLA_theta_phase\n",
      "baseline_vHPC_theta_phase\n",
      "baseline_mPFC_gamma_phase\n",
      "baseline_MD_gamma_phase\n",
      "baseline_LH_gamma_phase\n",
      "baseline_BLA_gamma_phase\n",
      "baseline_vHPC_gamma_phase\n",
      "baseline_mPFC_theta_band\n",
      "baseline_MD_theta_band\n",
      "baseline_LH_theta_band\n",
      "baseline_BLA_theta_band\n",
      "baseline_vHPC_theta_band\n",
      "baseline_mPFC_gamma_band\n",
      "baseline_MD_gamma_band\n",
      "baseline_LH_gamma_band\n",
      "baseline_BLA_gamma_band\n",
      "baseline_vHPC_gamma_band\n",
      "baseline_lfp_timestamps\n",
      "trial_mPFC_theta_phase\n",
      "trial_MD_theta_phase\n",
      "trial_LH_theta_phase\n",
      "trial_BLA_theta_phase\n",
      "trial_vHPC_theta_phase\n",
      "trial_mPFC_gamma_phase\n",
      "trial_MD_gamma_phase\n",
      "trial_LH_gamma_phase\n",
      "trial_BLA_gamma_phase\n",
      "trial_vHPC_gamma_phase\n",
      "trial_mPFC_theta_band\n",
      "trial_MD_theta_band\n",
      "trial_LH_theta_band\n",
      "trial_BLA_theta_band\n",
      "trial_vHPC_theta_band\n",
      "trial_mPFC_gamma_band\n",
      "trial_MD_gamma_band\n",
      "trial_LH_gamma_band\n",
      "trial_BLA_gamma_band\n",
      "trial_vHPC_gamma_band\n",
      "trial_lfp_timestamps\n"
     ]
    }
   ],
   "source": [
    "for col in TRIALS_AND_SPECTRAL_DF:\n",
    "    print(col)"
   ]
  },
  {
   "cell_type": "markdown",
   "metadata": {},
   "source": [
    "# Filtering out spikes"
   ]
  },
  {
   "cell_type": "code",
   "execution_count": 95,
   "metadata": {
    "tags": []
   },
   "outputs": [
    {
     "ename": "ValueError",
     "evalue": "",
     "output_type": "error",
     "traceback": [
      "\u001b[0;31m---------------------------------------------------------------------------\u001b[0m",
      "\u001b[0;31mValueError\u001b[0m                                Traceback (most recent call last)",
      "Cell \u001b[0;32mIn[95], line 1\u001b[0m\n\u001b[0;32m----> 1\u001b[0m \u001b[38;5;28;01mraise\u001b[39;00m \u001b[38;5;167;01mValueError\u001b[39;00m()\n",
      "\u001b[0;31mValueError\u001b[0m: "
     ]
    }
   ],
   "source": [
    "raise ValueError()"
   ]
  },
  {
   "cell_type": "code",
   "execution_count": 94,
   "metadata": {
    "tags": []
   },
   "outputs": [
    {
     "name": "stderr",
     "output_type": "stream",
     "text": [
      "\n",
      "KeyboardInterrupt\n",
      "\n"
     ]
    }
   ],
   "source": [
    "TRIALS_AND_SPECTRAL_DF[\"baseline_spike_times\"] = TRIALS_AND_SPECTRAL_DF.apply(lambda x: filter_spike_times(x[\"spike_times\"], start=x[\"baseline_start_timestamp\"], stop=x[\"baseline_stop_timestamp\"]).astype(int), axis=1)\n"
   ]
  },
  {
   "cell_type": "code",
   "execution_count": null,
   "metadata": {
    "tags": []
   },
   "outputs": [],
   "source": [
    "TRIALS_AND_SPECTRAL_DF[\"trial_spike_times\"] = TRIALS_AND_SPECTRAL_DF.apply(lambda x: filter_spike_times(x[\"spike_times\"], start=x[\"tone_start_timestamp\"], stop=x[\"tone_stop_timestamp\"]).astype(int), axis=1)\n"
   ]
  },
  {
   "cell_type": "code",
   "execution_count": null,
   "metadata": {
    "tags": []
   },
   "outputs": [],
   "source": [
    "TRIALS_AND_SPECTRAL_DF[\"baseline_start_timestamp\"].head()"
   ]
  },
  {
   "cell_type": "code",
   "execution_count": null,
   "metadata": {
    "tags": []
   },
   "outputs": [],
   "source": [
    "TRIALS_AND_SPECTRAL_DF[\"baseline_stop_timestamp\"].head()"
   ]
  },
  {
   "cell_type": "code",
   "execution_count": null,
   "metadata": {
    "tags": []
   },
   "outputs": [],
   "source": [
    "TRIALS_AND_SPECTRAL_DF[\"baseline_spike_times\"].iloc[0]"
   ]
  },
  {
   "cell_type": "code",
   "execution_count": null,
   "metadata": {
    "tags": []
   },
   "outputs": [],
   "source": [
    "TRIALS_AND_SPECTRAL_DF[\"baseline_neuron_average_fr\"] = TRIALS_AND_SPECTRAL_DF.apply(lambda x: utilities.helper.filter_by_timestamp_range(start=x[\"baseline_start_timestamp\"], stop=x[\"baseline_stop_timestamp\"], timestamps=x[\"neuron_average_timestamps\"], items=x[\"neuron_average_fr\"].T)[1], axis=1)\n",
    "TRIALS_AND_SPECTRAL_DF[\"baseline_neuron_average_timestamp\"] = TRIALS_AND_SPECTRAL_DF.apply(lambda x: utilities.helper.filter_by_timestamp_range(start=x[\"baseline_start_timestamp\"], stop=x[\"baseline_stop_timestamp\"], timestamps=x[\"neuron_average_timestamps\"], items=x[\"neuron_average_fr\"].T)[0], axis=1)"
   ]
  },
  {
   "cell_type": "code",
   "execution_count": null,
   "metadata": {
    "tags": []
   },
   "outputs": [],
   "source": [
    "TRIALS_AND_SPECTRAL_DF[\"trial_neuron_average_fr\"] = TRIALS_AND_SPECTRAL_DF.apply(lambda x: utilities.helper.filter_by_timestamp_range(start=x[\"tone_start_timestamp\"], stop=x[\"tone_stop_timestamp\"], timestamps=x[\"neuron_average_timestamps\"], items=x[\"neuron_average_fr\"].T)[1].T, axis=1)\n",
    "TRIALS_AND_SPECTRAL_DF[\"trial_neuron_average_timestamp\"] = TRIALS_AND_SPECTRAL_DF.apply(lambda x: utilities.helper.filter_by_timestamp_range(start=x[\"tone_start_timestamp\"], stop=x[\"tone_stop_timestamp\"], timestamps=x[\"neuron_average_timestamps\"], items=x[\"neuron_average_fr\"].T)[0], axis=1)"
   ]
  },
  {
   "cell_type": "code",
   "execution_count": null,
   "metadata": {
    "tags": []
   },
   "outputs": [],
   "source": [
    "TRIALS_AND_SPECTRAL_DF = TRIALS_AND_SPECTRAL_DF.drop(columns=[\"spike_clusters\", \"spike_times\", \"neuron_average_fr\", \"neuron_average_timestamps\",], errors=\"ignore\")"
   ]
  },
  {
   "cell_type": "code",
   "execution_count": null,
   "metadata": {
    "tags": []
   },
   "outputs": [],
   "source": [
    "TRIALS_AND_SPECTRAL_DF[\"trial_neuron_average_fr\"].iloc[0].shape"
   ]
  },
  {
   "cell_type": "code",
   "execution_count": null,
   "metadata": {
    "tags": []
   },
   "outputs": [],
   "source": [
    "TRIALS_AND_SPECTRAL_DF[\"trial_neuron_average_timestamp\"].iloc[0].shape"
   ]
  },
  {
   "cell_type": "markdown",
   "metadata": {},
   "source": [
    "# Filtering for rows that are in the video"
   ]
  },
  {
   "cell_type": "code",
   "execution_count": 96,
   "metadata": {
    "tags": []
   },
   "outputs": [],
   "source": [
    "TRIALS_AND_SPECTRAL_DF[\"in_video\"] = TRIALS_AND_SPECTRAL_DF.apply(lambda x: x[\"start_frame\"] <= x[\"trial_video_frame\"][0] <= x[\"stop_frame\"], axis=1)"
   ]
  },
  {
   "cell_type": "code",
   "execution_count": 97,
   "metadata": {
    "tags": []
   },
   "outputs": [],
   "source": [
    "TRIALS_AND_SPECTRAL_DF = TRIALS_AND_SPECTRAL_DF[TRIALS_AND_SPECTRAL_DF[\"in_video\"]].reset_index()"
   ]
  },
  {
   "cell_type": "code",
   "execution_count": 98,
   "metadata": {
    "tags": []
   },
   "outputs": [
    {
     "data": {
      "text/html": [
       "<div>\n",
       "<style scoped>\n",
       "    .dataframe tbody tr th:only-of-type {\n",
       "        vertical-align: middle;\n",
       "    }\n",
       "\n",
       "    .dataframe tbody tr th {\n",
       "        vertical-align: top;\n",
       "    }\n",
       "\n",
       "    .dataframe thead th {\n",
       "        text-align: right;\n",
       "    }\n",
       "</style>\n",
       "<table border=\"1\" class=\"dataframe\">\n",
       "  <thead>\n",
       "    <tr style=\"text-align: right;\">\n",
       "      <th></th>\n",
       "      <th>index</th>\n",
       "      <th>tracked_subject</th>\n",
       "      <th>box_number</th>\n",
       "      <th>sleap_name</th>\n",
       "      <th>video_name</th>\n",
       "      <th>current_subject</th>\n",
       "      <th>tone_start_frame</th>\n",
       "      <th>reward_start_frame</th>\n",
       "      <th>tone_stop_frame</th>\n",
       "      <th>condition</th>\n",
       "      <th>...</th>\n",
       "      <th>trial_LH_theta_band</th>\n",
       "      <th>trial_BLA_theta_band</th>\n",
       "      <th>trial_vHPC_theta_band</th>\n",
       "      <th>trial_mPFC_gamma_band</th>\n",
       "      <th>trial_MD_gamma_band</th>\n",
       "      <th>trial_LH_gamma_band</th>\n",
       "      <th>trial_BLA_gamma_band</th>\n",
       "      <th>trial_vHPC_gamma_band</th>\n",
       "      <th>trial_lfp_timestamps</th>\n",
       "      <th>in_video</th>\n",
       "    </tr>\n",
       "  </thead>\n",
       "  <tbody>\n",
       "    <tr>\n",
       "      <th>0</th>\n",
       "      <td>0</td>\n",
       "      <td>['1.1', '1.2']</td>\n",
       "      <td>1</td>\n",
       "      <td>20230612_112630_standard_comp_to_training_D1_s...</td>\n",
       "      <td>20230612_112630_standard_comp_to_training_D1_s...</td>\n",
       "      <td>1.1</td>\n",
       "      <td>1125</td>\n",
       "      <td>1225</td>\n",
       "      <td>1324</td>\n",
       "      <td>1.1</td>\n",
       "      <td>...</td>\n",
       "      <td>[-0.1965594, -0.1906385, -0.1846614, -0.178647...</td>\n",
       "      <td>[-0.6278904, -0.6110051, -0.5924792, -0.572370...</td>\n",
       "      <td>[-0.86628234, -0.8033415, -0.73908955, -0.6737...</td>\n",
       "      <td>[-0.20077267, -0.27177534, -0.33255213, -0.378...</td>\n",
       "      <td>[0.042438794, -0.06269324, -0.16432026, -0.255...</td>\n",
       "      <td>[0.04900858, -0.041143205, -0.13162935, -0.216...</td>\n",
       "      <td>[-0.034259137, -0.07323087, -0.11172231, -0.14...</td>\n",
       "      <td>[0.091950886, 0.030192526, -0.039998747, -0.11...</td>\n",
       "      <td>[1126760, 1126780, 1126800, 1126820, 1126840, ...</td>\n",
       "      <td>True</td>\n",
       "    </tr>\n",
       "    <tr>\n",
       "      <th>1</th>\n",
       "      <td>1</td>\n",
       "      <td>['1.1', '1.2']</td>\n",
       "      <td>1</td>\n",
       "      <td>20230612_112630_standard_comp_to_training_D1_s...</td>\n",
       "      <td>20230612_112630_standard_comp_to_training_D1_s...</td>\n",
       "      <td>1.1</td>\n",
       "      <td>3519</td>\n",
       "      <td>3619</td>\n",
       "      <td>3720</td>\n",
       "      <td>1.2</td>\n",
       "      <td>...</td>\n",
       "      <td>[0.13085423, 0.18954182, 0.24687698, 0.3026803...</td>\n",
       "      <td>[0.23016661, 0.29850513, 0.36496305, 0.4293212...</td>\n",
       "      <td>[0.5561959, 0.5872191, 0.6153956, 0.6406603, 0...</td>\n",
       "      <td>[-0.20394863, -0.14480965, -0.0752808, -0.0018...</td>\n",
       "      <td>[-0.17063874, -0.1823823, -0.18196633, -0.1690...</td>\n",
       "      <td>[-0.13379243, -0.14699419, -0.15053916, -0.144...</td>\n",
       "      <td>[0.30445713, 0.2672235, 0.21840814, 0.16240521...</td>\n",
       "      <td>[0.41455534, 0.38904047, 0.34448272, 0.2843119...</td>\n",
       "      <td>[3526740, 3526760, 3526780, 3526800, 3526820, ...</td>\n",
       "      <td>True</td>\n",
       "    </tr>\n",
       "    <tr>\n",
       "      <th>2</th>\n",
       "      <td>2</td>\n",
       "      <td>['1.1', '1.2']</td>\n",
       "      <td>1</td>\n",
       "      <td>20230612_112630_standard_comp_to_training_D1_s...</td>\n",
       "      <td>20230612_112630_standard_comp_to_training_D1_s...</td>\n",
       "      <td>1.1</td>\n",
       "      <td>5815</td>\n",
       "      <td>5915</td>\n",
       "      <td>6014</td>\n",
       "      <td>1.2</td>\n",
       "      <td>...</td>\n",
       "      <td>[-0.117264144, -0.18494129, -0.25172737, -0.31...</td>\n",
       "      <td>[0.1510647, 0.102288105, 0.05333691, 0.0043895...</td>\n",
       "      <td>[0.15260983, 0.15515444, 0.15816545, 0.1616569...</td>\n",
       "      <td>[-0.2272427, -0.3109095, -0.375287, -0.4164722...</td>\n",
       "      <td>[-0.124851465, -0.1811587, -0.22630072, -0.257...</td>\n",
       "      <td>[-0.08437547, -0.14467272, -0.19493897, -0.231...</td>\n",
       "      <td>[-0.031209087, -0.07443029, -0.11561694, -0.15...</td>\n",
       "      <td>[-0.20006756, -0.29163465, -0.35794356, -0.393...</td>\n",
       "      <td>[5826740, 5826760, 5826780, 5826800, 5826820, ...</td>\n",
       "      <td>True</td>\n",
       "    </tr>\n",
       "    <tr>\n",
       "      <th>3</th>\n",
       "      <td>3</td>\n",
       "      <td>['1.1', '1.2']</td>\n",
       "      <td>1</td>\n",
       "      <td>20230612_112630_standard_comp_to_training_D1_s...</td>\n",
       "      <td>20230612_112630_standard_comp_to_training_D1_s...</td>\n",
       "      <td>1.1</td>\n",
       "      <td>7612</td>\n",
       "      <td>7712</td>\n",
       "      <td>7811</td>\n",
       "      <td>1.2</td>\n",
       "      <td>...</td>\n",
       "      <td>[0.571904, 0.57688946, 0.57978463, 0.5806063, ...</td>\n",
       "      <td>[1.093931, 1.0820043, 1.0669925, 1.0489453, 1....</td>\n",
       "      <td>[0.30607852, 0.26300424, 0.21877678, 0.1735299...</td>\n",
       "      <td>[-0.3201298, -0.3654427, -0.38641584, -0.38069...</td>\n",
       "      <td>[-0.22039057, -0.25678217, -0.2772813, -0.2792...</td>\n",
       "      <td>[-0.18128534, -0.2485002, -0.2972655, -0.32333...</td>\n",
       "      <td>[0.042083926, -0.04936665, -0.13645948, -0.211...</td>\n",
       "      <td>[0.16657004, 0.15574361, 0.14005733, 0.1210614...</td>\n",
       "      <td>[7626740, 7626760, 7626780, 7626800, 7626820, ...</td>\n",
       "      <td>True</td>\n",
       "    </tr>\n",
       "    <tr>\n",
       "      <th>4</th>\n",
       "      <td>4</td>\n",
       "      <td>['1.1', '1.2']</td>\n",
       "      <td>1</td>\n",
       "      <td>20230612_112630_standard_comp_to_training_D1_s...</td>\n",
       "      <td>20230612_112630_standard_comp_to_training_D1_s...</td>\n",
       "      <td>1.1</td>\n",
       "      <td>8709</td>\n",
       "      <td>8809</td>\n",
       "      <td>8910</td>\n",
       "      <td>1.2</td>\n",
       "      <td>...</td>\n",
       "      <td>[0.12631682, 0.12798116, 0.12979607, 0.1317504...</td>\n",
       "      <td>[-0.05114213, -0.075476125, -0.09903707, -0.12...</td>\n",
       "      <td>[-0.36225998, -0.3638156, -0.36478588, -0.3651...</td>\n",
       "      <td>[0.30167827, 0.2791766, 0.24319397, 0.19783372...</td>\n",
       "      <td>[0.16291839, 0.15559189, 0.14303625, 0.1267487...</td>\n",
       "      <td>[0.005076932, 0.04650006, 0.08811159, 0.127866...</td>\n",
       "      <td>[0.5704153, 0.55549455, 0.5117636, 0.44269294,...</td>\n",
       "      <td>[-0.14728308, -0.10256097, -0.05680496, -0.009...</td>\n",
       "      <td>[8726740, 8726760, 8726780, 8726800, 8726820, ...</td>\n",
       "      <td>True</td>\n",
       "    </tr>\n",
       "    <tr>\n",
       "      <th>...</th>\n",
       "      <td>...</td>\n",
       "      <td>...</td>\n",
       "      <td>...</td>\n",
       "      <td>...</td>\n",
       "      <td>...</td>\n",
       "      <td>...</td>\n",
       "      <td>...</td>\n",
       "      <td>...</td>\n",
       "      <td>...</td>\n",
       "      <td>...</td>\n",
       "      <td>...</td>\n",
       "      <td>...</td>\n",
       "      <td>...</td>\n",
       "      <td>...</td>\n",
       "      <td>...</td>\n",
       "      <td>...</td>\n",
       "      <td>...</td>\n",
       "      <td>...</td>\n",
       "      <td>...</td>\n",
       "      <td>...</td>\n",
       "      <td>...</td>\n",
       "    </tr>\n",
       "    <tr>\n",
       "      <th>962</th>\n",
       "      <td>1364</td>\n",
       "      <td>['1.2', '2.2']</td>\n",
       "      <td>2</td>\n",
       "      <td>20230630_115506_standard_comp_to_novel_agent_D...</td>\n",
       "      <td>20230630_115506_standard_comp_to_novel_agent_D...</td>\n",
       "      <td>1.2</td>\n",
       "      <td>60714</td>\n",
       "      <td>60814</td>\n",
       "      <td>60914</td>\n",
       "      <td>2.2</td>\n",
       "      <td>...</td>\n",
       "      <td>[0.44909856, 0.4724813, 0.49443373, 0.51487184...</td>\n",
       "      <td>[0.3336614, 0.32942677, 0.32425243, 0.31815872...</td>\n",
       "      <td>[-0.36571392, -0.39123663, -0.41522902, -0.437...</td>\n",
       "      <td>[-0.019997114, -0.05471756, -0.08678063, -0.11...</td>\n",
       "      <td>[-0.15819319, -0.27901205, -0.3875353, -0.4765...</td>\n",
       "      <td>[0.016292952, -0.11031159, -0.23285471, -0.343...</td>\n",
       "      <td>[-0.20192279, -0.2480358, -0.28188777, -0.3015...</td>\n",
       "      <td>[-0.123943016, -0.12023227, -0.10936394, -0.09...</td>\n",
       "      <td>[60673460, 60673480, 60673500, 60673520, 60673...</td>\n",
       "      <td>True</td>\n",
       "    </tr>\n",
       "    <tr>\n",
       "      <th>963</th>\n",
       "      <td>1365</td>\n",
       "      <td>['1.2', '2.2']</td>\n",
       "      <td>2</td>\n",
       "      <td>20230630_115506_standard_comp_to_novel_agent_D...</td>\n",
       "      <td>20230630_115506_standard_comp_to_novel_agent_D...</td>\n",
       "      <td>1.2</td>\n",
       "      <td>62211</td>\n",
       "      <td>62311</td>\n",
       "      <td>62410</td>\n",
       "      <td>2.2</td>\n",
       "      <td>...</td>\n",
       "      <td>[-0.18583176, -0.17044416, -0.15443514, -0.137...</td>\n",
       "      <td>[-0.24821186, -0.2566192, -0.26440945, -0.2715...</td>\n",
       "      <td>[-0.8144194, -0.83704716, -0.85886294, -0.8798...</td>\n",
       "      <td>[0.15954593, 0.12649903, 0.09139319, 0.0559388...</td>\n",
       "      <td>[0.3973643, 0.36353195, 0.30819902, 0.23553397...</td>\n",
       "      <td>[0.3019869, 0.26261157, 0.20889318, 0.14450063...</td>\n",
       "      <td>[0.27039754, 0.24260475, 0.20289855, 0.1530867...</td>\n",
       "      <td>[0.10278643, 0.13293053, 0.15635717, 0.1705623...</td>\n",
       "      <td>[62173480, 62173500, 62173520, 62173540, 62173...</td>\n",
       "      <td>True</td>\n",
       "    </tr>\n",
       "    <tr>\n",
       "      <th>964</th>\n",
       "      <td>1366</td>\n",
       "      <td>['1.2', '2.2']</td>\n",
       "      <td>2</td>\n",
       "      <td>20230630_115506_standard_comp_to_novel_agent_D...</td>\n",
       "      <td>20230630_115506_standard_comp_to_novel_agent_D...</td>\n",
       "      <td>1.2</td>\n",
       "      <td>64207</td>\n",
       "      <td>64307</td>\n",
       "      <td>64406</td>\n",
       "      <td>2.2</td>\n",
       "      <td>...</td>\n",
       "      <td>[0.7510736, 0.7046566, 0.6565858, 0.6070083, 0...</td>\n",
       "      <td>[0.47280082, 0.43146303, 0.3891543, 0.34600863...</td>\n",
       "      <td>[-0.9186934, -0.9143715, -0.9079546, -0.899508...</td>\n",
       "      <td>[0.2859912, 0.28840408, 0.27307406, 0.2396287,...</td>\n",
       "      <td>[0.18368743, 0.18714492, 0.17752302, 0.1547235...</td>\n",
       "      <td>[0.24144611, 0.24498577, 0.23280218, 0.2047488...</td>\n",
       "      <td>[0.41241524, 0.40637612, 0.37915146, 0.3324383...</td>\n",
       "      <td>[0.9359053, 0.9257625, 0.85291016, 0.7200002, ...</td>\n",
       "      <td>[64173520, 64173540, 64173560, 64173580, 64173...</td>\n",
       "      <td>True</td>\n",
       "    </tr>\n",
       "    <tr>\n",
       "      <th>965</th>\n",
       "      <td>1367</td>\n",
       "      <td>['1.2', '2.2']</td>\n",
       "      <td>2</td>\n",
       "      <td>20230630_115506_standard_comp_to_novel_agent_D...</td>\n",
       "      <td>20230630_115506_standard_comp_to_novel_agent_D...</td>\n",
       "      <td>1.2</td>\n",
       "      <td>66104</td>\n",
       "      <td>66204</td>\n",
       "      <td>66303</td>\n",
       "      <td>2.2</td>\n",
       "      <td>...</td>\n",
       "      <td>[0.5619602, 0.5522655, 0.5417385, 0.5304334, 0...</td>\n",
       "      <td>[0.11585435, 0.09584851, 0.07622683, 0.0570805...</td>\n",
       "      <td>[-0.09920581, -0.03908713, 0.02035891, 0.07896...</td>\n",
       "      <td>[0.020474281, -0.0023168165, -0.022835394, -0....</td>\n",
       "      <td>[0.00884851, -0.023485657, -0.05203223, -0.075...</td>\n",
       "      <td>[-0.114263825, -0.13453381, -0.14153498, -0.13...</td>\n",
       "      <td>[0.07375744, 0.12709746, 0.17916185, 0.2277454...</td>\n",
       "      <td>[-0.25984308, -0.16196573, -0.057369184, 0.047...</td>\n",
       "      <td>[66073540, 66073560, 66073580, 66073600, 66073...</td>\n",
       "      <td>True</td>\n",
       "    </tr>\n",
       "    <tr>\n",
       "      <th>966</th>\n",
       "      <td>1368</td>\n",
       "      <td>['1.2', '2.2']</td>\n",
       "      <td>2</td>\n",
       "      <td>20230630_115506_standard_comp_to_novel_agent_D...</td>\n",
       "      <td>20230630_115506_standard_comp_to_novel_agent_D...</td>\n",
       "      <td>1.2</td>\n",
       "      <td>67102</td>\n",
       "      <td>67202</td>\n",
       "      <td>67301</td>\n",
       "      <td>2.2</td>\n",
       "      <td>...</td>\n",
       "      <td>[0.6409807, 0.66674614, 0.69085574, 0.71323335...</td>\n",
       "      <td>[1.1831014, 1.1936408, 1.201105, 1.2054552, 1....</td>\n",
       "      <td>[0.286683, 0.20461984, 0.12251864, 0.04063342,...</td>\n",
       "      <td>[0.1714463, 0.13826858, 0.09504772, 0.04405041...</td>\n",
       "      <td>[0.065861925, 0.028887143, -0.009720336, -0.04...</td>\n",
       "      <td>[0.065735675, 0.02848557, -0.009565728, -0.045...</td>\n",
       "      <td>[0.06068717, 0.030515874, -0.003732446, -0.040...</td>\n",
       "      <td>[-0.1293747, -0.12563807, -0.11654824, -0.1018...</td>\n",
       "      <td>[67073540, 67073560, 67073580, 67073600, 67073...</td>\n",
       "      <td>True</td>\n",
       "    </tr>\n",
       "  </tbody>\n",
       "</table>\n",
       "<p>967 rows × 320 columns</p>\n",
       "</div>"
      ],
      "text/plain": [
       "     index tracked_subject  box_number  \\\n",
       "0        0  ['1.1', '1.2']           1   \n",
       "1        1  ['1.1', '1.2']           1   \n",
       "2        2  ['1.1', '1.2']           1   \n",
       "3        3  ['1.1', '1.2']           1   \n",
       "4        4  ['1.1', '1.2']           1   \n",
       "..     ...             ...         ...   \n",
       "962   1364  ['1.2', '2.2']           2   \n",
       "963   1365  ['1.2', '2.2']           2   \n",
       "964   1366  ['1.2', '2.2']           2   \n",
       "965   1367  ['1.2', '2.2']           2   \n",
       "966   1368  ['1.2', '2.2']           2   \n",
       "\n",
       "                                            sleap_name  \\\n",
       "0    20230612_112630_standard_comp_to_training_D1_s...   \n",
       "1    20230612_112630_standard_comp_to_training_D1_s...   \n",
       "2    20230612_112630_standard_comp_to_training_D1_s...   \n",
       "3    20230612_112630_standard_comp_to_training_D1_s...   \n",
       "4    20230612_112630_standard_comp_to_training_D1_s...   \n",
       "..                                                 ...   \n",
       "962  20230630_115506_standard_comp_to_novel_agent_D...   \n",
       "963  20230630_115506_standard_comp_to_novel_agent_D...   \n",
       "964  20230630_115506_standard_comp_to_novel_agent_D...   \n",
       "965  20230630_115506_standard_comp_to_novel_agent_D...   \n",
       "966  20230630_115506_standard_comp_to_novel_agent_D...   \n",
       "\n",
       "                                            video_name current_subject  \\\n",
       "0    20230612_112630_standard_comp_to_training_D1_s...             1.1   \n",
       "1    20230612_112630_standard_comp_to_training_D1_s...             1.1   \n",
       "2    20230612_112630_standard_comp_to_training_D1_s...             1.1   \n",
       "3    20230612_112630_standard_comp_to_training_D1_s...             1.1   \n",
       "4    20230612_112630_standard_comp_to_training_D1_s...             1.1   \n",
       "..                                                 ...             ...   \n",
       "962  20230630_115506_standard_comp_to_novel_agent_D...             1.2   \n",
       "963  20230630_115506_standard_comp_to_novel_agent_D...             1.2   \n",
       "964  20230630_115506_standard_comp_to_novel_agent_D...             1.2   \n",
       "965  20230630_115506_standard_comp_to_novel_agent_D...             1.2   \n",
       "966  20230630_115506_standard_comp_to_novel_agent_D...             1.2   \n",
       "\n",
       "     tone_start_frame  reward_start_frame  tone_stop_frame condition  ...  \\\n",
       "0                1125                1225             1324       1.1  ...   \n",
       "1                3519                3619             3720       1.2  ...   \n",
       "2                5815                5915             6014       1.2  ...   \n",
       "3                7612                7712             7811       1.2  ...   \n",
       "4                8709                8809             8910       1.2  ...   \n",
       "..                ...                 ...              ...       ...  ...   \n",
       "962             60714               60814            60914       2.2  ...   \n",
       "963             62211               62311            62410       2.2  ...   \n",
       "964             64207               64307            64406       2.2  ...   \n",
       "965             66104               66204            66303       2.2  ...   \n",
       "966             67102               67202            67301       2.2  ...   \n",
       "\n",
       "                                   trial_LH_theta_band  \\\n",
       "0    [-0.1965594, -0.1906385, -0.1846614, -0.178647...   \n",
       "1    [0.13085423, 0.18954182, 0.24687698, 0.3026803...   \n",
       "2    [-0.117264144, -0.18494129, -0.25172737, -0.31...   \n",
       "3    [0.571904, 0.57688946, 0.57978463, 0.5806063, ...   \n",
       "4    [0.12631682, 0.12798116, 0.12979607, 0.1317504...   \n",
       "..                                                 ...   \n",
       "962  [0.44909856, 0.4724813, 0.49443373, 0.51487184...   \n",
       "963  [-0.18583176, -0.17044416, -0.15443514, -0.137...   \n",
       "964  [0.7510736, 0.7046566, 0.6565858, 0.6070083, 0...   \n",
       "965  [0.5619602, 0.5522655, 0.5417385, 0.5304334, 0...   \n",
       "966  [0.6409807, 0.66674614, 0.69085574, 0.71323335...   \n",
       "\n",
       "                                  trial_BLA_theta_band  \\\n",
       "0    [-0.6278904, -0.6110051, -0.5924792, -0.572370...   \n",
       "1    [0.23016661, 0.29850513, 0.36496305, 0.4293212...   \n",
       "2    [0.1510647, 0.102288105, 0.05333691, 0.0043895...   \n",
       "3    [1.093931, 1.0820043, 1.0669925, 1.0489453, 1....   \n",
       "4    [-0.05114213, -0.075476125, -0.09903707, -0.12...   \n",
       "..                                                 ...   \n",
       "962  [0.3336614, 0.32942677, 0.32425243, 0.31815872...   \n",
       "963  [-0.24821186, -0.2566192, -0.26440945, -0.2715...   \n",
       "964  [0.47280082, 0.43146303, 0.3891543, 0.34600863...   \n",
       "965  [0.11585435, 0.09584851, 0.07622683, 0.0570805...   \n",
       "966  [1.1831014, 1.1936408, 1.201105, 1.2054552, 1....   \n",
       "\n",
       "                                 trial_vHPC_theta_band  \\\n",
       "0    [-0.86628234, -0.8033415, -0.73908955, -0.6737...   \n",
       "1    [0.5561959, 0.5872191, 0.6153956, 0.6406603, 0...   \n",
       "2    [0.15260983, 0.15515444, 0.15816545, 0.1616569...   \n",
       "3    [0.30607852, 0.26300424, 0.21877678, 0.1735299...   \n",
       "4    [-0.36225998, -0.3638156, -0.36478588, -0.3651...   \n",
       "..                                                 ...   \n",
       "962  [-0.36571392, -0.39123663, -0.41522902, -0.437...   \n",
       "963  [-0.8144194, -0.83704716, -0.85886294, -0.8798...   \n",
       "964  [-0.9186934, -0.9143715, -0.9079546, -0.899508...   \n",
       "965  [-0.09920581, -0.03908713, 0.02035891, 0.07896...   \n",
       "966  [0.286683, 0.20461984, 0.12251864, 0.04063342,...   \n",
       "\n",
       "                                 trial_mPFC_gamma_band  \\\n",
       "0    [-0.20077267, -0.27177534, -0.33255213, -0.378...   \n",
       "1    [-0.20394863, -0.14480965, -0.0752808, -0.0018...   \n",
       "2    [-0.2272427, -0.3109095, -0.375287, -0.4164722...   \n",
       "3    [-0.3201298, -0.3654427, -0.38641584, -0.38069...   \n",
       "4    [0.30167827, 0.2791766, 0.24319397, 0.19783372...   \n",
       "..                                                 ...   \n",
       "962  [-0.019997114, -0.05471756, -0.08678063, -0.11...   \n",
       "963  [0.15954593, 0.12649903, 0.09139319, 0.0559388...   \n",
       "964  [0.2859912, 0.28840408, 0.27307406, 0.2396287,...   \n",
       "965  [0.020474281, -0.0023168165, -0.022835394, -0....   \n",
       "966  [0.1714463, 0.13826858, 0.09504772, 0.04405041...   \n",
       "\n",
       "                                   trial_MD_gamma_band  \\\n",
       "0    [0.042438794, -0.06269324, -0.16432026, -0.255...   \n",
       "1    [-0.17063874, -0.1823823, -0.18196633, -0.1690...   \n",
       "2    [-0.124851465, -0.1811587, -0.22630072, -0.257...   \n",
       "3    [-0.22039057, -0.25678217, -0.2772813, -0.2792...   \n",
       "4    [0.16291839, 0.15559189, 0.14303625, 0.1267487...   \n",
       "..                                                 ...   \n",
       "962  [-0.15819319, -0.27901205, -0.3875353, -0.4765...   \n",
       "963  [0.3973643, 0.36353195, 0.30819902, 0.23553397...   \n",
       "964  [0.18368743, 0.18714492, 0.17752302, 0.1547235...   \n",
       "965  [0.00884851, -0.023485657, -0.05203223, -0.075...   \n",
       "966  [0.065861925, 0.028887143, -0.009720336, -0.04...   \n",
       "\n",
       "                                   trial_LH_gamma_band  \\\n",
       "0    [0.04900858, -0.041143205, -0.13162935, -0.216...   \n",
       "1    [-0.13379243, -0.14699419, -0.15053916, -0.144...   \n",
       "2    [-0.08437547, -0.14467272, -0.19493897, -0.231...   \n",
       "3    [-0.18128534, -0.2485002, -0.2972655, -0.32333...   \n",
       "4    [0.005076932, 0.04650006, 0.08811159, 0.127866...   \n",
       "..                                                 ...   \n",
       "962  [0.016292952, -0.11031159, -0.23285471, -0.343...   \n",
       "963  [0.3019869, 0.26261157, 0.20889318, 0.14450063...   \n",
       "964  [0.24144611, 0.24498577, 0.23280218, 0.2047488...   \n",
       "965  [-0.114263825, -0.13453381, -0.14153498, -0.13...   \n",
       "966  [0.065735675, 0.02848557, -0.009565728, -0.045...   \n",
       "\n",
       "                                  trial_BLA_gamma_band  \\\n",
       "0    [-0.034259137, -0.07323087, -0.11172231, -0.14...   \n",
       "1    [0.30445713, 0.2672235, 0.21840814, 0.16240521...   \n",
       "2    [-0.031209087, -0.07443029, -0.11561694, -0.15...   \n",
       "3    [0.042083926, -0.04936665, -0.13645948, -0.211...   \n",
       "4    [0.5704153, 0.55549455, 0.5117636, 0.44269294,...   \n",
       "..                                                 ...   \n",
       "962  [-0.20192279, -0.2480358, -0.28188777, -0.3015...   \n",
       "963  [0.27039754, 0.24260475, 0.20289855, 0.1530867...   \n",
       "964  [0.41241524, 0.40637612, 0.37915146, 0.3324383...   \n",
       "965  [0.07375744, 0.12709746, 0.17916185, 0.2277454...   \n",
       "966  [0.06068717, 0.030515874, -0.003732446, -0.040...   \n",
       "\n",
       "                                 trial_vHPC_gamma_band  \\\n",
       "0    [0.091950886, 0.030192526, -0.039998747, -0.11...   \n",
       "1    [0.41455534, 0.38904047, 0.34448272, 0.2843119...   \n",
       "2    [-0.20006756, -0.29163465, -0.35794356, -0.393...   \n",
       "3    [0.16657004, 0.15574361, 0.14005733, 0.1210614...   \n",
       "4    [-0.14728308, -0.10256097, -0.05680496, -0.009...   \n",
       "..                                                 ...   \n",
       "962  [-0.123943016, -0.12023227, -0.10936394, -0.09...   \n",
       "963  [0.10278643, 0.13293053, 0.15635717, 0.1705623...   \n",
       "964  [0.9359053, 0.9257625, 0.85291016, 0.7200002, ...   \n",
       "965  [-0.25984308, -0.16196573, -0.057369184, 0.047...   \n",
       "966  [-0.1293747, -0.12563807, -0.11654824, -0.1018...   \n",
       "\n",
       "                                  trial_lfp_timestamps in_video  \n",
       "0    [1126760, 1126780, 1126800, 1126820, 1126840, ...     True  \n",
       "1    [3526740, 3526760, 3526780, 3526800, 3526820, ...     True  \n",
       "2    [5826740, 5826760, 5826780, 5826800, 5826820, ...     True  \n",
       "3    [7626740, 7626760, 7626780, 7626800, 7626820, ...     True  \n",
       "4    [8726740, 8726760, 8726780, 8726800, 8726820, ...     True  \n",
       "..                                                 ...      ...  \n",
       "962  [60673460, 60673480, 60673500, 60673520, 60673...     True  \n",
       "963  [62173480, 62173500, 62173520, 62173540, 62173...     True  \n",
       "964  [64173520, 64173540, 64173560, 64173580, 64173...     True  \n",
       "965  [66073540, 66073560, 66073580, 66073600, 66073...     True  \n",
       "966  [67073540, 67073560, 67073580, 67073600, 67073...     True  \n",
       "\n",
       "[967 rows x 320 columns]"
      ]
     },
     "execution_count": 98,
     "metadata": {},
     "output_type": "execute_result"
    }
   ],
   "source": [
    "TRIALS_AND_SPECTRAL_DF"
   ]
  },
  {
   "cell_type": "code",
   "execution_count": 99,
   "metadata": {
    "tags": []
   },
   "outputs": [],
   "source": [
    "TRIALS_AND_SPECTRAL_DF.to_pickle(os.path.join(OUTPUT_DIR, FULL_LFP_TRACES_PKL))"
   ]
  },
  {
   "cell_type": "code",
   "execution_count": null,
   "metadata": {},
   "outputs": [],
   "source": [
    "raise ValueError()"
   ]
  },
  {
   "cell_type": "code",
   "execution_count": null,
   "metadata": {},
   "outputs": [],
   "source": []
  }
 ],
 "metadata": {
  "deepnote": {},
  "deepnote_execution_queue": [],
  "deepnote_notebook_id": "cf8fe3695d074ee7887fdf6459cbf5ce",
  "kernelspec": {
   "display_name": "spike_interface_0_99_0",
   "language": "python",
   "name": "spike_interface_0_99_0"
  },
  "language_info": {
   "codemirror_mode": {
    "name": "ipython",
    "version": 3
   },
   "file_extension": ".py",
   "mimetype": "text/x-python",
   "name": "python",
   "nbconvert_exporter": "python",
   "pygments_lexer": "ipython3",
   "version": "3.10.13"
  }
 },
 "nbformat": 4,
 "nbformat_minor": 4
}
