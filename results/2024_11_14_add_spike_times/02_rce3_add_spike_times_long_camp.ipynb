{
 "cells": [
  {
   "cell_type": "markdown",
   "metadata": {
    "cell_id": "c3a02adc9e884466bc8c79db549cc3d2",
    "deepnote_cell_type": "text-cell-h1",
    "formattedRanges": [
     {
      "fromCodePoint": 0,
      "marks": {
       "bold": true,
       "underline": true
      },
      "toCodePoint": 17,
      "type": "marks"
     }
    ]
   },
   "source": [
    "# Spike Train Calculation"
   ]
  },
  {
   "cell_type": "markdown",
   "metadata": {
    "cell_id": "4546bee655b14a5dbf393161f1228e60",
    "deepnote_cell_type": "text-cell-p",
    "formattedRanges": []
   },
   "source": [
    "Brief 1-2 sentence description of notebook."
   ]
  },
  {
   "cell_type": "code",
   "execution_count": 1,
   "metadata": {
    "tags": []
   },
   "outputs": [],
   "source": [
    "import os\n",
    "import glob\n",
    "import git\n",
    "import sys\n"
   ]
  },
  {
   "cell_type": "code",
   "execution_count": 2,
   "metadata": {
    "cell_id": "03b495cefa6a4798a44c7f2e4c6a3ea7",
    "deepnote_cell_type": "code",
    "deepnote_to_be_reexecuted": false,
    "execution_millis": 21,
    "execution_start": 1691424003626,
    "source_hash": null,
    "tags": []
   },
   "outputs": [],
   "source": [
    "# Imports of all used packages and libraries\n",
    "import numpy as np\n",
    "import pandas as pd\n",
    "# import seaborn as sns\n",
    "import matplotlib as mpl\n",
    "import matplotlib.pyplot as plt\n",
    "import h5py\n",
    "from scipy.interpolate import interp1d\n",
    "from scipy.signal import savgol_filter\n"
   ]
  },
  {
   "cell_type": "code",
   "execution_count": 3,
   "metadata": {
    "tags": []
   },
   "outputs": [],
   "source": [
    "git_repo = git.Repo(\".\", search_parent_directories=True)\n",
    "git_root = git_repo.git.rev_parse(\"--show-toplevel\")"
   ]
  },
  {
   "cell_type": "code",
   "execution_count": 4,
   "metadata": {
    "tags": []
   },
   "outputs": [
    {
     "data": {
      "text/plain": [
       "'/nancy/user/riwata/projects/reward_comp_ext'"
      ]
     },
     "execution_count": 4,
     "metadata": {},
     "output_type": "execute_result"
    }
   ],
   "source": [
    "git_root"
   ]
  },
  {
   "cell_type": "code",
   "execution_count": 5,
   "metadata": {
    "tags": []
   },
   "outputs": [],
   "source": [
    "sys.path.insert(0, os.path.join(git_root, 'src'))"
   ]
  },
  {
   "cell_type": "code",
   "execution_count": 6,
   "metadata": {
    "tags": []
   },
   "outputs": [],
   "source": [
    "import neuron.spikes"
   ]
  },
  {
   "cell_type": "code",
   "execution_count": 7,
   "metadata": {
    "tags": []
   },
   "outputs": [],
   "source": [
    "# sns.set('notebook', 'ticks', font_scale=1.2)\n",
    "mpl.rcParams['figure.figsize'] = [15,6]"
   ]
  },
  {
   "cell_type": "markdown",
   "metadata": {},
   "source": [
    "## Functions"
   ]
  },
  {
   "cell_type": "code",
   "execution_count": 8,
   "metadata": {
    "tags": []
   },
   "outputs": [],
   "source": [
    "def filter_spike_times(arr_2d, start, stop, padding=-1):\n",
    "    \"\"\"\n",
    "    Filters a 2D array based on a start and stop condition and pads shorter arrays to match the length of the longest array.\n",
    "\n",
    "    Parameters:\n",
    "    arr_2d (numpy.ndarray): 2D array to be filtered and padded.\n",
    "    start (int or float): Lower bound of the condition.\n",
    "    stop (int or float): Upper bound of the condition.\n",
    "    padding (int or float): Value to use for padding, defaults to -1.\n",
    "\n",
    "    Returns:\n",
    "    numpy.ndarray: A 2D array where each inner array has been filtered based on the condition and padded to match the length of the longest array.\n",
    "    \"\"\"\n",
    "\n",
    "    # Filter each row in arr_2d based on the condition\n",
    "    masked_data = [row[(row >= start) & (row < stop)] for row in arr_2d]\n",
    "\n",
    "    # Determine the maximum length of arrays in the list\n",
    "    max_length = max(len(arr) for arr in masked_data)\n",
    "\n",
    "    # Pad each array in masked_data with the padding value so they all have the same length (max_length)\n",
    "    padded_arrays = [np.concatenate([x, np.full([max_length - len(x)], padding)]) for x in masked_data]\n",
    "\n",
    "    # Convert the list of arrays to a 2D numpy array\n",
    "    padded_arrays = np.array(padded_arrays)\n",
    "\n",
    "    return padded_arrays"
   ]
  },
  {
   "cell_type": "markdown",
   "metadata": {
    "cell_id": "d290bac2c17940bfbc0f9296beaf70e5",
    "deepnote_cell_type": "text-cell-h2",
    "formattedRanges": []
   },
   "source": [
    "## Inputs & Data"
   ]
  },
  {
   "cell_type": "markdown",
   "metadata": {
    "cell_id": "e528ce19c608425292151930d380f49f",
    "deepnote_cell_type": "text-cell-p",
    "formattedRanges": []
   },
   "source": [
    "Explanation of each input and where it comes from."
   ]
  },
  {
   "cell_type": "code",
   "execution_count": 9,
   "metadata": {
    "cell_id": "6cf83a5811054461a718a71673d09aab",
    "deepnote_cell_type": "code",
    "deepnote_to_be_reexecuted": false,
    "execution_millis": 373,
    "execution_start": 1691424003628,
    "source_hash": null,
    "tags": []
   },
   "outputs": [],
   "source": [
    "# Inputs and Required data loading\n",
    "# input varaible names are in all caps snake case\n",
    "# Whenever an input changes or is used for processing \n",
    "# the vairables are all lower in snake case\n",
    "\n",
    "LFP_SPECTRAL_DF = pd.read_pickle(\"/nancy/user/riwata/projects/reward_comp_ext/results/2024_11_13_extract_lfp/proc/rce_pilot_3_long_comp_01_lfp_traces_and_frames.pkl\")\n",
    "# ALL_PHY_DIR = glob.glob(\"/scratch/back_up/reward_competition_extention/final_proc/phy_curation/*\")\n",
    "ALL_PHY_DIR = glob.glob(\"/scratch/back_up/reward_competition_extention/final_proc/phy_curation/rce3/*\")\n",
    "\n",
    "\n",
    "OUTPUT_DIR = r\"./proc\" # where data is saved should always be shown in the inputs\n",
    "\n",
    "SAMPLING_RATE = 20000\n",
    "SPIKE_WINDOW = 2000"
   ]
  },
  {
   "cell_type": "code",
   "execution_count": 10,
   "metadata": {
    "tags": []
   },
   "outputs": [
    {
     "data": {
      "text/html": [
       "<div>\n",
       "<style scoped>\n",
       "    .dataframe tbody tr th:only-of-type {\n",
       "        vertical-align: middle;\n",
       "    }\n",
       "\n",
       "    .dataframe tbody tr th {\n",
       "        vertical-align: top;\n",
       "    }\n",
       "\n",
       "    .dataframe thead th {\n",
       "        text-align: right;\n",
       "    }\n",
       "</style>\n",
       "<table border=\"1\" class=\"dataframe\">\n",
       "  <thead>\n",
       "    <tr style=\"text-align: right;\">\n",
       "      <th></th>\n",
       "      <th>cohort</th>\n",
       "      <th>session_dir</th>\n",
       "      <th>tone_frames</th>\n",
       "      <th>box_1_port_entry_frames</th>\n",
       "      <th>box_2_port_entry_frames</th>\n",
       "      <th>video_name</th>\n",
       "      <th>notes</th>\n",
       "      <th>session_path</th>\n",
       "      <th>recording</th>\n",
       "      <th>current_subject</th>\n",
       "      <th>...</th>\n",
       "      <th>video_timestamps</th>\n",
       "      <th>tone_timestamps</th>\n",
       "      <th>box_1_port_entry_timestamps</th>\n",
       "      <th>box_2_port_entry_timestamps</th>\n",
       "      <th>lfp_timestamps</th>\n",
       "      <th>vHPC_lfp_trace</th>\n",
       "      <th>BLA_lfp_trace</th>\n",
       "      <th>LH_lfp_trace</th>\n",
       "      <th>MD_lfp_trace</th>\n",
       "      <th>mPFC_lfp_trace</th>\n",
       "    </tr>\n",
       "  </thead>\n",
       "  <tbody>\n",
       "    <tr>\n",
       "      <th>0</th>\n",
       "      <td>rce_pilot_3</td>\n",
       "      <td>20240317_151922_long_comp_subj_3-1_and_3-3</td>\n",
       "      <td>[[1, 88], [1286, 1486], [3282, 3482], [4480, 4...</td>\n",
       "      <td>[[1, 88], [259, 278], [310, 365], [366, 382], ...</td>\n",
       "      <td>[]</td>\n",
       "      <td>20240317_151922_long_comp_subj_3-1_and_3-3.1.v...</td>\n",
       "      <td>NaN</td>\n",
       "      <td>/scratch/back_up/reward_competition_extention/...</td>\n",
       "      <td>20240317_151922_long_comp_subj_3-1_t6b6_merged</td>\n",
       "      <td>3.1</td>\n",
       "      <td>...</td>\n",
       "      <td>[-2, 1384, 1384, 2770, 4156, 5542, 5542, 6928,...</td>\n",
       "      <td>[[0, 87540], [1287955, 1487958], [3287980, 348...</td>\n",
       "      <td>[[0, 87540], [259142, 277740], [309743, 364544...</td>\n",
       "      <td>[]</td>\n",
       "      <td>[0, 20, 40, 60, 80, 100, 120, 140, 160, 180, 2...</td>\n",
       "      <td>[-477, -450, -317, -151, -133, -225, -300, -35...</td>\n",
       "      <td>[-194, -182, -107, -25, -51, -87, -7, 100, 120...</td>\n",
       "      <td>[49, 101, 208, 196, -11, -142, -43, 21, -79, -...</td>\n",
       "      <td>[158, 267, 411, 433, 314, 169, 169, 223, 216, ...</td>\n",
       "      <td>[8, 55, 209, 261, 75, -46, 31, 125, 87, -124, ...</td>\n",
       "    </tr>\n",
       "    <tr>\n",
       "      <th>1</th>\n",
       "      <td>rce_pilot_3</td>\n",
       "      <td>20240317_151922_long_comp_subj_3-1_and_3-3</td>\n",
       "      <td>[[2, 132], [1922, 2220], [4906, 5203], [6696, ...</td>\n",
       "      <td>[[2, 132], [387, 415], [463, 546], [548, 571],...</td>\n",
       "      <td>[]</td>\n",
       "      <td>20240317_151922_long_comp_subj_3-1_and_3-3.2.v...</td>\n",
       "      <td>NaN</td>\n",
       "      <td>/scratch/back_up/reward_competition_extention/...</td>\n",
       "      <td>20240317_151922_long_comp_subj_3-1_t6b6_merged</td>\n",
       "      <td>3.1</td>\n",
       "      <td>...</td>\n",
       "      <td>[-2, -2, 1384, 1384, 2770, 2770, 4156, 4156, 5...</td>\n",
       "      <td>[[0, 87540], [1287955, 1487958], [3287980, 348...</td>\n",
       "      <td>[[0, 87540], [259142, 277740], [309743, 364544...</td>\n",
       "      <td>[]</td>\n",
       "      <td>[0, 20, 40, 60, 80, 100, 120, 140, 160, 180, 2...</td>\n",
       "      <td>[-477, -450, -317, -151, -133, -225, -300, -35...</td>\n",
       "      <td>[-194, -182, -107, -25, -51, -87, -7, 100, 120...</td>\n",
       "      <td>[49, 101, 208, 196, -11, -142, -43, 21, -79, -...</td>\n",
       "      <td>[158, 267, 411, 433, 314, 169, 169, 223, 216, ...</td>\n",
       "      <td>[8, 55, 209, 261, 75, -46, 31, 125, 87, -124, ...</td>\n",
       "    </tr>\n",
       "    <tr>\n",
       "      <th>2</th>\n",
       "      <td>rce_pilot_3</td>\n",
       "      <td>20240317_151922_long_comp_subj_3-1_and_3-3</td>\n",
       "      <td>[[1, 88], [1286, 1486], [3282, 3482], [4480, 4...</td>\n",
       "      <td>[[1, 88], [259, 278], [310, 365], [366, 382], ...</td>\n",
       "      <td>[]</td>\n",
       "      <td>20240317_151922_long_comp_subj_3-1_and_3-3.1.v...</td>\n",
       "      <td>NaN</td>\n",
       "      <td>/scratch/back_up/reward_competition_extention/...</td>\n",
       "      <td>20240317_151922_long_comp_subj_3-3_t5b5_merged</td>\n",
       "      <td>3.3</td>\n",
       "      <td>...</td>\n",
       "      <td>[-2, 1384, 1384, 2770, 4156, 5542, 5542, 6928,...</td>\n",
       "      <td>[[0, 87540], [1287955, 1487958], [3287980, 348...</td>\n",
       "      <td>[[0, 87540], [259142, 277740], [309743, 364544...</td>\n",
       "      <td>[]</td>\n",
       "      <td>[0, 20, 40, 60, 80, 100, 120, 140, 160, 180, 2...</td>\n",
       "      <td>[326, 357, 376, 297, 190, 98, -86, -341, -523,...</td>\n",
       "      <td>[0, -36, -79, -105, -51, 45, -19, -170, -282, ...</td>\n",
       "      <td>[-61, -88, -144, -191, -163, -135, -234, -337,...</td>\n",
       "      <td>[-47, -43, -92, -193, -174, -112, -212, -285, ...</td>\n",
       "      <td>[-165, -114, -123, -214, -216, -190, -200, -19...</td>\n",
       "    </tr>\n",
       "    <tr>\n",
       "      <th>3</th>\n",
       "      <td>rce_pilot_3</td>\n",
       "      <td>20240317_151922_long_comp_subj_3-1_and_3-3</td>\n",
       "      <td>[[2, 132], [1922, 2220], [4906, 5203], [6696, ...</td>\n",
       "      <td>[[2, 132], [387, 415], [463, 546], [548, 571],...</td>\n",
       "      <td>[]</td>\n",
       "      <td>20240317_151922_long_comp_subj_3-1_and_3-3.2.v...</td>\n",
       "      <td>NaN</td>\n",
       "      <td>/scratch/back_up/reward_competition_extention/...</td>\n",
       "      <td>20240317_151922_long_comp_subj_3-3_t5b5_merged</td>\n",
       "      <td>3.3</td>\n",
       "      <td>...</td>\n",
       "      <td>[-2, -2, 1384, 1384, 2770, 2770, 4156, 4156, 5...</td>\n",
       "      <td>[[0, 87540], [1287955, 1487958], [3287980, 348...</td>\n",
       "      <td>[[0, 87540], [259142, 277740], [309743, 364544...</td>\n",
       "      <td>[]</td>\n",
       "      <td>[0, 20, 40, 60, 80, 100, 120, 140, 160, 180, 2...</td>\n",
       "      <td>[326, 357, 376, 297, 190, 98, -86, -341, -523,...</td>\n",
       "      <td>[0, -36, -79, -105, -51, 45, -19, -170, -282, ...</td>\n",
       "      <td>[-61, -88, -144, -191, -163, -135, -234, -337,...</td>\n",
       "      <td>[-47, -43, -92, -193, -174, -112, -212, -285, ...</td>\n",
       "      <td>[-165, -114, -123, -214, -216, -190, -200, -19...</td>\n",
       "    </tr>\n",
       "    <tr>\n",
       "      <th>4</th>\n",
       "      <td>rce_pilot_3</td>\n",
       "      <td>20240317_172017_long_comp_subj_4-2_and_4-3</td>\n",
       "      <td>[[1, 102], [1300, 1501], [3297, 3497], [4494, ...</td>\n",
       "      <td>[[1, 102], [115, 153], [191, 245], [261, 263],...</td>\n",
       "      <td>[]</td>\n",
       "      <td>20240317_172017_long_comp_subj_4-2_and_4-3.1.v...</td>\n",
       "      <td>NaN</td>\n",
       "      <td>/scratch/back_up/reward_competition_extention/...</td>\n",
       "      <td>20240317_172017_long_comp_subj_4-2_t6b6_merged</td>\n",
       "      <td>4.2</td>\n",
       "      <td>...</td>\n",
       "      <td>[-2, 1384, 2770, 2770, 4156, 5542, 5542, 6928,...</td>\n",
       "      <td>[[0, 102220], [1302635, 1502636], [3302656, 35...</td>\n",
       "      <td>[[0, 102220], [114617, 153218], [191021, 24402...</td>\n",
       "      <td>[]</td>\n",
       "      <td>[0, 20, 40, 60, 80, 100, 120, 140, 160, 180, 2...</td>\n",
       "      <td>[106, -113, -254, -184, -212, -375, -806, -122...</td>\n",
       "      <td>[-79, -352, -360, -153, -309, -498, -569, -107...</td>\n",
       "      <td>[17, -11, 582, 1101, -66, -1574, -1277, 243, 1...</td>\n",
       "      <td>[52, 70, 733, 1260, -39, -1683, -1303, 388, 14...</td>\n",
       "      <td>[138, 246, 340, 288, 307, 350, 339, 377, 308, ...</td>\n",
       "    </tr>\n",
       "  </tbody>\n",
       "</table>\n",
       "<p>5 rows × 24 columns</p>\n",
       "</div>"
      ],
      "text/plain": [
       "        cohort                                 session_dir  \\\n",
       "0  rce_pilot_3  20240317_151922_long_comp_subj_3-1_and_3-3   \n",
       "1  rce_pilot_3  20240317_151922_long_comp_subj_3-1_and_3-3   \n",
       "2  rce_pilot_3  20240317_151922_long_comp_subj_3-1_and_3-3   \n",
       "3  rce_pilot_3  20240317_151922_long_comp_subj_3-1_and_3-3   \n",
       "4  rce_pilot_3  20240317_172017_long_comp_subj_4-2_and_4-3   \n",
       "\n",
       "                                         tone_frames  \\\n",
       "0  [[1, 88], [1286, 1486], [3282, 3482], [4480, 4...   \n",
       "1  [[2, 132], [1922, 2220], [4906, 5203], [6696, ...   \n",
       "2  [[1, 88], [1286, 1486], [3282, 3482], [4480, 4...   \n",
       "3  [[2, 132], [1922, 2220], [4906, 5203], [6696, ...   \n",
       "4  [[1, 102], [1300, 1501], [3297, 3497], [4494, ...   \n",
       "\n",
       "                             box_1_port_entry_frames box_2_port_entry_frames  \\\n",
       "0  [[1, 88], [259, 278], [310, 365], [366, 382], ...                      []   \n",
       "1  [[2, 132], [387, 415], [463, 546], [548, 571],...                      []   \n",
       "2  [[1, 88], [259, 278], [310, 365], [366, 382], ...                      []   \n",
       "3  [[2, 132], [387, 415], [463, 546], [548, 571],...                      []   \n",
       "4  [[1, 102], [115, 153], [191, 245], [261, 263],...                      []   \n",
       "\n",
       "                                          video_name notes  \\\n",
       "0  20240317_151922_long_comp_subj_3-1_and_3-3.1.v...   NaN   \n",
       "1  20240317_151922_long_comp_subj_3-1_and_3-3.2.v...   NaN   \n",
       "2  20240317_151922_long_comp_subj_3-1_and_3-3.1.v...   NaN   \n",
       "3  20240317_151922_long_comp_subj_3-1_and_3-3.2.v...   NaN   \n",
       "4  20240317_172017_long_comp_subj_4-2_and_4-3.1.v...   NaN   \n",
       "\n",
       "                                        session_path  \\\n",
       "0  /scratch/back_up/reward_competition_extention/...   \n",
       "1  /scratch/back_up/reward_competition_extention/...   \n",
       "2  /scratch/back_up/reward_competition_extention/...   \n",
       "3  /scratch/back_up/reward_competition_extention/...   \n",
       "4  /scratch/back_up/reward_competition_extention/...   \n",
       "\n",
       "                                        recording current_subject  ...  \\\n",
       "0  20240317_151922_long_comp_subj_3-1_t6b6_merged             3.1  ...   \n",
       "1  20240317_151922_long_comp_subj_3-1_t6b6_merged             3.1  ...   \n",
       "2  20240317_151922_long_comp_subj_3-3_t5b5_merged             3.3  ...   \n",
       "3  20240317_151922_long_comp_subj_3-3_t5b5_merged             3.3  ...   \n",
       "4  20240317_172017_long_comp_subj_4-2_t6b6_merged             4.2  ...   \n",
       "\n",
       "                                    video_timestamps  \\\n",
       "0  [-2, 1384, 1384, 2770, 4156, 5542, 5542, 6928,...   \n",
       "1  [-2, -2, 1384, 1384, 2770, 2770, 4156, 4156, 5...   \n",
       "2  [-2, 1384, 1384, 2770, 4156, 5542, 5542, 6928,...   \n",
       "3  [-2, -2, 1384, 1384, 2770, 2770, 4156, 4156, 5...   \n",
       "4  [-2, 1384, 2770, 2770, 4156, 5542, 5542, 6928,...   \n",
       "\n",
       "                                     tone_timestamps  \\\n",
       "0  [[0, 87540], [1287955, 1487958], [3287980, 348...   \n",
       "1  [[0, 87540], [1287955, 1487958], [3287980, 348...   \n",
       "2  [[0, 87540], [1287955, 1487958], [3287980, 348...   \n",
       "3  [[0, 87540], [1287955, 1487958], [3287980, 348...   \n",
       "4  [[0, 102220], [1302635, 1502636], [3302656, 35...   \n",
       "\n",
       "                         box_1_port_entry_timestamps  \\\n",
       "0  [[0, 87540], [259142, 277740], [309743, 364544...   \n",
       "1  [[0, 87540], [259142, 277740], [309743, 364544...   \n",
       "2  [[0, 87540], [259142, 277740], [309743, 364544...   \n",
       "3  [[0, 87540], [259142, 277740], [309743, 364544...   \n",
       "4  [[0, 102220], [114617, 153218], [191021, 24402...   \n",
       "\n",
       "   box_2_port_entry_timestamps  \\\n",
       "0                           []   \n",
       "1                           []   \n",
       "2                           []   \n",
       "3                           []   \n",
       "4                           []   \n",
       "\n",
       "                                      lfp_timestamps  \\\n",
       "0  [0, 20, 40, 60, 80, 100, 120, 140, 160, 180, 2...   \n",
       "1  [0, 20, 40, 60, 80, 100, 120, 140, 160, 180, 2...   \n",
       "2  [0, 20, 40, 60, 80, 100, 120, 140, 160, 180, 2...   \n",
       "3  [0, 20, 40, 60, 80, 100, 120, 140, 160, 180, 2...   \n",
       "4  [0, 20, 40, 60, 80, 100, 120, 140, 160, 180, 2...   \n",
       "\n",
       "                                      vHPC_lfp_trace  \\\n",
       "0  [-477, -450, -317, -151, -133, -225, -300, -35...   \n",
       "1  [-477, -450, -317, -151, -133, -225, -300, -35...   \n",
       "2  [326, 357, 376, 297, 190, 98, -86, -341, -523,...   \n",
       "3  [326, 357, 376, 297, 190, 98, -86, -341, -523,...   \n",
       "4  [106, -113, -254, -184, -212, -375, -806, -122...   \n",
       "\n",
       "                                       BLA_lfp_trace  \\\n",
       "0  [-194, -182, -107, -25, -51, -87, -7, 100, 120...   \n",
       "1  [-194, -182, -107, -25, -51, -87, -7, 100, 120...   \n",
       "2  [0, -36, -79, -105, -51, 45, -19, -170, -282, ...   \n",
       "3  [0, -36, -79, -105, -51, 45, -19, -170, -282, ...   \n",
       "4  [-79, -352, -360, -153, -309, -498, -569, -107...   \n",
       "\n",
       "                                        LH_lfp_trace  \\\n",
       "0  [49, 101, 208, 196, -11, -142, -43, 21, -79, -...   \n",
       "1  [49, 101, 208, 196, -11, -142, -43, 21, -79, -...   \n",
       "2  [-61, -88, -144, -191, -163, -135, -234, -337,...   \n",
       "3  [-61, -88, -144, -191, -163, -135, -234, -337,...   \n",
       "4  [17, -11, 582, 1101, -66, -1574, -1277, 243, 1...   \n",
       "\n",
       "                                        MD_lfp_trace  \\\n",
       "0  [158, 267, 411, 433, 314, 169, 169, 223, 216, ...   \n",
       "1  [158, 267, 411, 433, 314, 169, 169, 223, 216, ...   \n",
       "2  [-47, -43, -92, -193, -174, -112, -212, -285, ...   \n",
       "3  [-47, -43, -92, -193, -174, -112, -212, -285, ...   \n",
       "4  [52, 70, 733, 1260, -39, -1683, -1303, 388, 14...   \n",
       "\n",
       "                                      mPFC_lfp_trace  \n",
       "0  [8, 55, 209, 261, 75, -46, 31, 125, 87, -124, ...  \n",
       "1  [8, 55, 209, 261, 75, -46, 31, 125, 87, -124, ...  \n",
       "2  [-165, -114, -123, -214, -216, -190, -200, -19...  \n",
       "3  [-165, -114, -123, -214, -216, -190, -200, -19...  \n",
       "4  [138, 246, 340, 288, 307, 350, 339, 377, 308, ...  \n",
       "\n",
       "[5 rows x 24 columns]"
      ]
     },
     "execution_count": 10,
     "metadata": {},
     "output_type": "execute_result"
    }
   ],
   "source": [
    "LFP_SPECTRAL_DF.head()"
   ]
  },
  {
   "cell_type": "markdown",
   "metadata": {
    "cell_id": "e3ee4891d43a4ac287413afc552ca289",
    "deepnote_cell_type": "text-cell-h2",
    "formattedRanges": []
   },
   "source": [
    "## Outputs"
   ]
  },
  {
   "cell_type": "markdown",
   "metadata": {
    "cell_id": "9ccbf6cc70fd4d379fa29317f733771f",
    "deepnote_cell_type": "text-cell-p",
    "formattedRanges": []
   },
   "source": [
    "Describe each output that the notebook creates. "
   ]
  },
  {
   "cell_type": "markdown",
   "metadata": {
    "cell_id": "fc8e8920a6944918a15fac575cdf6e78",
    "deepnote_cell_type": "text-cell-bullet",
    "formattedRanges": []
   },
   "source": [
    "- Is it a plot or is it data?"
   ]
  },
  {
   "cell_type": "markdown",
   "metadata": {
    "cell_id": "1e639d4776a84aa9ac8ded2e14fa57db",
    "deepnote_cell_type": "text-cell-bullet",
    "formattedRanges": []
   },
   "source": [
    "- How valuable is the output and why is it valuable or useful?"
   ]
  },
  {
   "cell_type": "code",
   "execution_count": 11,
   "metadata": {
    "tags": []
   },
   "outputs": [],
   "source": [
    "# Inputs and Required data loading\n",
    "# input varaible names are in all caps snake case\n",
    "# Whenever an input changes or is used for processing \n",
    "# the vairables are all lower in snake case\n",
    "OUTPUT_DIR = r\"./proc/\" # where data is saved should always be shown in the inputs\n",
    "os.makedirs(OUTPUT_DIR, exist_ok=True)\n",
    "OUTPUT_PREFIX = \"rce_pilot_3_long_camp\""
   ]
  },
  {
   "cell_type": "code",
   "execution_count": 12,
   "metadata": {
    "tags": []
   },
   "outputs": [],
   "source": [
    "FULL_LFP_TRACES_PKL = \"{}_02_lfp_traces_and_spikes.pkl\".format(OUTPUT_PREFIX)"
   ]
  },
  {
   "cell_type": "markdown",
   "metadata": {
    "cell_id": "8999d19b6b7d4d63bc90f0b0bd9ab085",
    "deepnote_cell_type": "text-cell-h2",
    "formattedRanges": []
   },
   "source": [
    "## Processing"
   ]
  },
  {
   "cell_type": "markdown",
   "metadata": {
    "cell_id": "9b36cdf08567463082b005cb0dec684b",
    "deepnote_cell_type": "text-cell-p",
    "formattedRanges": []
   },
   "source": [
    "Describe what is done to the data here and how inputs are manipulated to generate outputs. "
   ]
  },
  {
   "cell_type": "markdown",
   "metadata": {},
   "source": [
    "# Reading in Phy"
   ]
  },
  {
   "cell_type": "markdown",
   "metadata": {},
   "source": [
    "- Reading in a spreadsheet of all the unit classifications\n",
    "    - They are divided up into good units, multi-units, and noise"
   ]
  },
  {
   "cell_type": "code",
   "execution_count": 13,
   "metadata": {
    "tags": []
   },
   "outputs": [
    {
     "data": {
      "text/plain": [
       "['/scratch/back_up/reward_competition_extention/final_proc/phy_curation/rce3/20240411_155157_comp_novel_subj_3-4_t4b4_merged.rec',\n",
       " '/scratch/back_up/reward_competition_extention/final_proc/phy_curation/rce3/20240318_143819_long_comp_subj_3-3_t6b6_merged.rec',\n",
       " '/scratch/back_up/reward_competition_extention/final_proc/phy_curation/rce3/20240408_155308_comp_novel_subj_5-3_t3b3_merged.rec',\n",
       " '/scratch/back_up/reward_competition_extention/final_proc/phy_curation/rce3/20240317_151922_long_comp_subj_3-1_t6b6_merged.rec',\n",
       " '/scratch/back_up/reward_competition_extention/final_proc/phy_curation/rce3/20240323_122227_alone_comp_subj_5-2_t6b6_merged.rec',\n",
       " '/scratch/back_up/reward_competition_extention/final_proc/phy_curation/rce3/20240407_152222_comp_novel_subj_3-3_t3b3_merged.rec',\n",
       " '/scratch/back_up/reward_competition_extention/final_proc/phy_curation/rce3/20240319_160457_long_comp_subj_4-2_t5b5_merged.rec',\n",
       " '/scratch/back_up/reward_competition_extention/final_proc/phy_curation/rce3/20240320_142408_alone_comp_subj_3-3_t5b5_merged.rec',\n",
       " '/scratch/back_up/reward_competition_extention/final_proc/phy_curation/rce3/20240401_151442_comp_novel_subj_3-1_t5b5_merged.rec',\n",
       " '/scratch/back_up/reward_competition_extention/final_proc/phy_curation/rce3/20240322_120625_alone_comp_subj_3-3_t6b6_merged.rec',\n",
       " '/scratch/back_up/reward_competition_extention/final_proc/phy_curation/rce3/20240411_155157_comp_novel_subj_3-1_t3b3_merged.rec',\n",
       " '/scratch/back_up/reward_competition_extention/final_proc/phy_curation/rce3/20240411_155157_comp_novel_subj_4-2_t6b6_merged.rec',\n",
       " '/scratch/back_up/reward_competition_extention/final_proc/phy_curation/rce3/20240320_171038_alone_comp_subj_4-3_t5b5_merged.rec',\n",
       " '/scratch/back_up/reward_competition_extention/final_proc/phy_curation/rce3/20240320_142408_alone_comp_subj_3-1_t6b6_merged.rec',\n",
       " '/scratch/back_up/reward_competition_extention/final_proc/phy_curation/rce3/20240410_152009_comp_novel_subj_5-2_t4b4_merged.rec',\n",
       " '/scratch/back_up/reward_competition_extention/final_proc/phy_curation/rce3/20240318_170933_long_comp_subj_4-3_t6b6_merged.rec',\n",
       " '/scratch/back_up/reward_competition_extention/final_proc/phy_curation/rce3/20240317_151922_long_comp_subj_3-3_t5b5_merged.rec',\n",
       " '/scratch/back_up/reward_competition_extention/final_proc/phy_curation/rce3/20240319_134914_long_comp_subj_3-4_t6b6_merged.rec',\n",
       " '/scratch/back_up/reward_competition_extention/final_proc/phy_curation/rce3/20240408_155308_comp_novel_subj_3-1_t5b5_merged.rec',\n",
       " '/scratch/back_up/reward_competition_extention/final_proc/phy_curation/rce3/20240410_152009_comp_novel_subj_4-2_t5b5_merged.rec',\n",
       " '/scratch/back_up/reward_competition_extention/final_proc/phy_curation/rce3/20240323_165815_alone_comp_subj_4-2_t5b5_merged.rec',\n",
       " '/scratch/back_up/reward_competition_extention/final_proc/phy_curation/rce3/20240317_172017_long_comp_subj_4-2_t6b6_merged.rec',\n",
       " '/scratch/back_up/reward_competition_extention/final_proc/phy_curation/rce3/20240409_142051_comp_novel_subj_4-4_t6b6_merged.rec',\n",
       " '/scratch/back_up/reward_competition_extention/final_proc/phy_curation/rce3/20240320_114629_long_comp_subj_5-3_t6b6_merged.rec',\n",
       " '/scratch/back_up/reward_competition_extention/final_proc/phy_curation/rce3/20240406_150017_comp_novel_subj_4-4_t6b6_merged.rec',\n",
       " '/scratch/back_up/reward_competition_extention/final_proc/phy_curation/rce3/20240401_151442_comp_novel_subj_3-3_t6b6_merged.rec',\n",
       " '/scratch/back_up/reward_competition_extention/final_proc/phy_curation/rce3/20240409_142051_comp_novel_subj_3-4_t4b4_merged.rec',\n",
       " '/scratch/back_up/reward_competition_extention/final_proc/phy_curation/rce3/20240401_151442_comp_novel_subj_4-2_t3b3_merged.rec',\n",
       " '/scratch/back_up/reward_competition_extention/final_proc/phy_curation/rce3/20240412_161135_comp_novel_subj_4-4_t4b4_merged.rec',\n",
       " '/scratch/back_up/reward_competition_extention/final_proc/phy_curation/rce3/20240320_171038_alone_comp_subj_4-2_t6b6_merged.rec',\n",
       " '/scratch/back_up/reward_competition_extention/final_proc/phy_curation/rce3/20240409_142051_comp_novel_subj_4-3_t5b5_merged.rec',\n",
       " '/scratch/back_up/reward_competition_extention/final_proc/phy_curation/rce3/20240409_142051_comp_novel_subj_3-3_t3b3_merged.rec',\n",
       " '/scratch/back_up/reward_competition_extention/final_proc/phy_curation/rce3/20240408_155308_comp_novel_subj_3-4_t6b6_merged.rec',\n",
       " '/scratch/back_up/reward_competition_extention/final_proc/phy_curation/rce3/20240323_144517_alone_comp_subj_3-1_t5b5_merged.rec',\n",
       " '/scratch/back_up/reward_competition_extention/final_proc/phy_curation/rce3/20240321_114851_long_comp_subj_5-3_t5b5_merged.rec',\n",
       " '/scratch/back_up/reward_competition_extention/final_proc/phy_curation/rce3/20240406_150017_comp_novel_subj_4-3_t5b5_merged.rec',\n",
       " '/scratch/back_up/reward_competition_extention/final_proc/phy_curation/rce3/20240407_152222_comp_novel_subj_4-3_t6b6_merged.rec',\n",
       " '/scratch/back_up/reward_competition_extention/final_proc/phy_curation/rce3/20240410_152009_comp_novel_subj_5-3_t3b3_merged.rec',\n",
       " '/scratch/back_up/reward_competition_extention/final_proc/phy_curation/rce3/20240408_155308_comp_novel_subj_5-2_t4b4_merged.rec',\n",
       " '/scratch/back_up/reward_competition_extention/final_proc/phy_curation/rce3/20240317_172017_long_comp_subj_4-3_t5b5_merged.rec',\n",
       " '/scratch/back_up/reward_competition_extention/final_proc/phy_curation/rce3/20240322_120625_alone_comp_subj_3-4_t5b5_merged.rec',\n",
       " '/scratch/back_up/reward_competition_extention/final_proc/phy_curation/rce3/20240318_143819_long_comp_subj_3-4_t5b5_merged.rec',\n",
       " '/scratch/back_up/reward_competition_extention/final_proc/phy_curation/rce3/20240323_144517_alone_comp_subj_3-4_t6b6_merged.rec',\n",
       " '/scratch/back_up/reward_competition_extention/final_proc/phy_curation/rce3/20240319_134914_long_comp_subj_3-1_t5b5_merged.rec',\n",
       " '/scratch/back_up/reward_competition_extention/final_proc/phy_curation/rce3/20240407_152222_comp_novel_subj_4-2_t5b5_merged.rec',\n",
       " '/scratch/back_up/reward_competition_extention/final_proc/phy_curation/rce3/20240322_160946_alone_comp_subj_4-3_t6b6_merged.rec',\n",
       " '/scratch/back_up/reward_competition_extention/final_proc/phy_curation/rce3/20240410_152009_comp_novel_subj_4-3_t6b6_merged.rec']"
      ]
     },
     "execution_count": 13,
     "metadata": {},
     "output_type": "execute_result"
    }
   ],
   "source": [
    "ALL_PHY_DIR"
   ]
  },
  {
   "cell_type": "code",
   "execution_count": 14,
   "metadata": {
    "tags": []
   },
   "outputs": [],
   "source": [
    "recording_to_cluster_info = {}\n",
    "for recording_dir in ALL_PHY_DIR:\n",
    "    try:\n",
    "        recording_basename = os.path.basename(recording_dir).strip(\".rec\")\n",
    "        file_path = os.path.join(recording_dir, \"phy\", \"cluster_info.tsv\")\n",
    "        recording_to_cluster_info[recording_basename] = pd.read_csv(file_path, sep=\"\\t\")\n",
    "    except Exception as e:\n",
    "        print(e)"
   ]
  },
  {
   "cell_type": "code",
   "execution_count": 15,
   "metadata": {
    "tags": []
   },
   "outputs": [
    {
     "data": {
      "text/html": [
       "<div>\n",
       "<style scoped>\n",
       "    .dataframe tbody tr th:only-of-type {\n",
       "        vertical-align: middle;\n",
       "    }\n",
       "\n",
       "    .dataframe tbody tr th {\n",
       "        vertical-align: top;\n",
       "    }\n",
       "\n",
       "    .dataframe thead th {\n",
       "        text-align: right;\n",
       "    }\n",
       "</style>\n",
       "<table border=\"1\" class=\"dataframe\">\n",
       "  <thead>\n",
       "    <tr style=\"text-align: right;\">\n",
       "      <th></th>\n",
       "      <th>cluster_id</th>\n",
       "      <th>1_5_ms_isi</th>\n",
       "      <th>1ms_isi</th>\n",
       "      <th>2ms_isi</th>\n",
       "      <th>amp</th>\n",
       "      <th>ch</th>\n",
       "      <th>channel_group</th>\n",
       "      <th>depth</th>\n",
       "      <th>fr</th>\n",
       "      <th>group</th>\n",
       "      <th>n_spikes</th>\n",
       "      <th>sh</th>\n",
       "      <th>si_unit_id</th>\n",
       "    </tr>\n",
       "  </thead>\n",
       "  <tbody>\n",
       "    <tr>\n",
       "      <th>0</th>\n",
       "      <td>0</td>\n",
       "      <td>23</td>\n",
       "      <td>6</td>\n",
       "      <td>89</td>\n",
       "      <td>8.217264</td>\n",
       "      <td>0</td>\n",
       "      <td>0</td>\n",
       "      <td>0.0</td>\n",
       "      <td>5.332289</td>\n",
       "      <td>mua</td>\n",
       "      <td>15683</td>\n",
       "      <td>0</td>\n",
       "      <td>1.0</td>\n",
       "    </tr>\n",
       "    <tr>\n",
       "      <th>1</th>\n",
       "      <td>2</td>\n",
       "      <td>99</td>\n",
       "      <td>28</td>\n",
       "      <td>223</td>\n",
       "      <td>9.195498</td>\n",
       "      <td>5</td>\n",
       "      <td>0</td>\n",
       "      <td>100.0</td>\n",
       "      <td>9.547664</td>\n",
       "      <td>mua</td>\n",
       "      <td>28081</td>\n",
       "      <td>0</td>\n",
       "      <td>4.0</td>\n",
       "    </tr>\n",
       "    <tr>\n",
       "      <th>2</th>\n",
       "      <td>5</td>\n",
       "      <td>427</td>\n",
       "      <td>211</td>\n",
       "      <td>784</td>\n",
       "      <td>11.845968</td>\n",
       "      <td>10</td>\n",
       "      <td>0</td>\n",
       "      <td>200.0</td>\n",
       "      <td>13.011289</td>\n",
       "      <td>mua</td>\n",
       "      <td>38268</td>\n",
       "      <td>0</td>\n",
       "      <td>7.0</td>\n",
       "    </tr>\n",
       "    <tr>\n",
       "      <th>3</th>\n",
       "      <td>6</td>\n",
       "      <td>3</td>\n",
       "      <td>3</td>\n",
       "      <td>4</td>\n",
       "      <td>24.675013</td>\n",
       "      <td>11</td>\n",
       "      <td>0</td>\n",
       "      <td>220.0</td>\n",
       "      <td>3.538086</td>\n",
       "      <td>good</td>\n",
       "      <td>10406</td>\n",
       "      <td>0</td>\n",
       "      <td>8.0</td>\n",
       "    </tr>\n",
       "    <tr>\n",
       "      <th>4</th>\n",
       "      <td>10</td>\n",
       "      <td>11</td>\n",
       "      <td>1</td>\n",
       "      <td>36</td>\n",
       "      <td>10.264018</td>\n",
       "      <td>15</td>\n",
       "      <td>0</td>\n",
       "      <td>300.0</td>\n",
       "      <td>8.493650</td>\n",
       "      <td>mua</td>\n",
       "      <td>24981</td>\n",
       "      <td>0</td>\n",
       "      <td>12.0</td>\n",
       "    </tr>\n",
       "  </tbody>\n",
       "</table>\n",
       "</div>"
      ],
      "text/plain": [
       "   cluster_id  1_5_ms_isi  1ms_isi  2ms_isi        amp  ch  channel_group  \\\n",
       "0           0          23        6       89   8.217264   0              0   \n",
       "1           2          99       28      223   9.195498   5              0   \n",
       "2           5         427      211      784  11.845968  10              0   \n",
       "3           6           3        3        4  24.675013  11              0   \n",
       "4          10          11        1       36  10.264018  15              0   \n",
       "\n",
       "   depth         fr group  n_spikes  sh  si_unit_id  \n",
       "0    0.0   5.332289   mua     15683   0         1.0  \n",
       "1  100.0   9.547664   mua     28081   0         4.0  \n",
       "2  200.0  13.011289   mua     38268   0         7.0  \n",
       "3  220.0   3.538086  good     10406   0         8.0  \n",
       "4  300.0   8.493650   mua     24981   0        12.0  "
      ]
     },
     "execution_count": 15,
     "metadata": {},
     "output_type": "execute_result"
    }
   ],
   "source": [
    "recording_to_cluster_info[list(recording_to_cluster_info.keys())[1]].head()"
   ]
  },
  {
   "cell_type": "markdown",
   "metadata": {},
   "source": [
    "- Combining all the unit info dataframes and adding the recording name"
   ]
  },
  {
   "cell_type": "code",
   "execution_count": 16,
   "metadata": {
    "tags": []
   },
   "outputs": [],
   "source": [
    "recording_to_cluster_info_df = pd.concat(recording_to_cluster_info, names=['recording_name']).reset_index(level=1, drop=True).reset_index()\n"
   ]
  },
  {
   "cell_type": "code",
   "execution_count": 17,
   "metadata": {
    "tags": []
   },
   "outputs": [
    {
     "data": {
      "text/html": [
       "<div>\n",
       "<style scoped>\n",
       "    .dataframe tbody tr th:only-of-type {\n",
       "        vertical-align: middle;\n",
       "    }\n",
       "\n",
       "    .dataframe tbody tr th {\n",
       "        vertical-align: top;\n",
       "    }\n",
       "\n",
       "    .dataframe thead th {\n",
       "        text-align: right;\n",
       "    }\n",
       "</style>\n",
       "<table border=\"1\" class=\"dataframe\">\n",
       "  <thead>\n",
       "    <tr style=\"text-align: right;\">\n",
       "      <th></th>\n",
       "      <th>recording_name</th>\n",
       "      <th>cluster_id</th>\n",
       "      <th>1ms_isi</th>\n",
       "      <th>2ms_isi</th>\n",
       "      <th>amp</th>\n",
       "      <th>ch</th>\n",
       "      <th>channel_group</th>\n",
       "      <th>depth</th>\n",
       "      <th>fr</th>\n",
       "      <th>group</th>\n",
       "      <th>n_spikes</th>\n",
       "      <th>sh</th>\n",
       "      <th>si_unit_id</th>\n",
       "      <th>1_5_ms_isi</th>\n",
       "    </tr>\n",
       "  </thead>\n",
       "  <tbody>\n",
       "    <tr>\n",
       "      <th>0</th>\n",
       "      <td>20240411_155157_comp_novel_subj_3-4_t4b4_merged</td>\n",
       "      <td>2</td>\n",
       "      <td>6</td>\n",
       "      <td>83</td>\n",
       "      <td>7.283400</td>\n",
       "      <td>4</td>\n",
       "      <td>0.0</td>\n",
       "      <td>80.0</td>\n",
       "      <td>5.257556</td>\n",
       "      <td>mua</td>\n",
       "      <td>16779</td>\n",
       "      <td>0</td>\n",
       "      <td>3.0</td>\n",
       "      <td>NaN</td>\n",
       "    </tr>\n",
       "    <tr>\n",
       "      <th>1</th>\n",
       "      <td>20240411_155157_comp_novel_subj_3-4_t4b4_merged</td>\n",
       "      <td>5</td>\n",
       "      <td>0</td>\n",
       "      <td>2</td>\n",
       "      <td>10.911428</td>\n",
       "      <td>7</td>\n",
       "      <td>0.0</td>\n",
       "      <td>140.0</td>\n",
       "      <td>1.218898</td>\n",
       "      <td>good</td>\n",
       "      <td>3890</td>\n",
       "      <td>0</td>\n",
       "      <td>6.0</td>\n",
       "      <td>NaN</td>\n",
       "    </tr>\n",
       "    <tr>\n",
       "      <th>2</th>\n",
       "      <td>20240411_155157_comp_novel_subj_3-4_t4b4_merged</td>\n",
       "      <td>11</td>\n",
       "      <td>2</td>\n",
       "      <td>37</td>\n",
       "      <td>8.095570</td>\n",
       "      <td>13</td>\n",
       "      <td>0.0</td>\n",
       "      <td>260.0</td>\n",
       "      <td>4.040225</td>\n",
       "      <td>mua</td>\n",
       "      <td>12894</td>\n",
       "      <td>0</td>\n",
       "      <td>12.0</td>\n",
       "      <td>NaN</td>\n",
       "    </tr>\n",
       "    <tr>\n",
       "      <th>3</th>\n",
       "      <td>20240411_155157_comp_novel_subj_3-4_t4b4_merged</td>\n",
       "      <td>13</td>\n",
       "      <td>0</td>\n",
       "      <td>1</td>\n",
       "      <td>25.858170</td>\n",
       "      <td>16</td>\n",
       "      <td>0.0</td>\n",
       "      <td>320.0</td>\n",
       "      <td>5.593772</td>\n",
       "      <td>good</td>\n",
       "      <td>17852</td>\n",
       "      <td>0</td>\n",
       "      <td>14.0</td>\n",
       "      <td>NaN</td>\n",
       "    </tr>\n",
       "    <tr>\n",
       "      <th>4</th>\n",
       "      <td>20240411_155157_comp_novel_subj_3-4_t4b4_merged</td>\n",
       "      <td>14</td>\n",
       "      <td>0</td>\n",
       "      <td>0</td>\n",
       "      <td>23.164261</td>\n",
       "      <td>17</td>\n",
       "      <td>0.0</td>\n",
       "      <td>340.0</td>\n",
       "      <td>0.173278</td>\n",
       "      <td>good</td>\n",
       "      <td>553</td>\n",
       "      <td>0</td>\n",
       "      <td>15.0</td>\n",
       "      <td>NaN</td>\n",
       "    </tr>\n",
       "  </tbody>\n",
       "</table>\n",
       "</div>"
      ],
      "text/plain": [
       "                                    recording_name  cluster_id  1ms_isi  \\\n",
       "0  20240411_155157_comp_novel_subj_3-4_t4b4_merged           2        6   \n",
       "1  20240411_155157_comp_novel_subj_3-4_t4b4_merged           5        0   \n",
       "2  20240411_155157_comp_novel_subj_3-4_t4b4_merged          11        2   \n",
       "3  20240411_155157_comp_novel_subj_3-4_t4b4_merged          13        0   \n",
       "4  20240411_155157_comp_novel_subj_3-4_t4b4_merged          14        0   \n",
       "\n",
       "   2ms_isi        amp  ch  channel_group  depth        fr group  n_spikes  sh  \\\n",
       "0       83   7.283400   4            0.0   80.0  5.257556   mua     16779   0   \n",
       "1        2  10.911428   7            0.0  140.0  1.218898  good      3890   0   \n",
       "2       37   8.095570  13            0.0  260.0  4.040225   mua     12894   0   \n",
       "3        1  25.858170  16            0.0  320.0  5.593772  good     17852   0   \n",
       "4        0  23.164261  17            0.0  340.0  0.173278  good       553   0   \n",
       "\n",
       "   si_unit_id  1_5_ms_isi  \n",
       "0         3.0         NaN  \n",
       "1         6.0         NaN  \n",
       "2        12.0         NaN  \n",
       "3        14.0         NaN  \n",
       "4        15.0         NaN  "
      ]
     },
     "execution_count": 17,
     "metadata": {},
     "output_type": "execute_result"
    }
   ],
   "source": [
    "recording_to_cluster_info_df.head()"
   ]
  },
  {
   "cell_type": "markdown",
   "metadata": {},
   "source": [
    "- Filtering for the good units"
   ]
  },
  {
   "cell_type": "code",
   "execution_count": 18,
   "metadata": {
    "tags": []
   },
   "outputs": [],
   "source": [
    "good_unit_cluster_info_df = recording_to_cluster_info_df[recording_to_cluster_info_df[\"group\"] == \"good\"].reset_index(drop=True)"
   ]
  },
  {
   "cell_type": "code",
   "execution_count": 19,
   "metadata": {
    "tags": []
   },
   "outputs": [
    {
     "data": {
      "text/html": [
       "<div>\n",
       "<style scoped>\n",
       "    .dataframe tbody tr th:only-of-type {\n",
       "        vertical-align: middle;\n",
       "    }\n",
       "\n",
       "    .dataframe tbody tr th {\n",
       "        vertical-align: top;\n",
       "    }\n",
       "\n",
       "    .dataframe thead th {\n",
       "        text-align: right;\n",
       "    }\n",
       "</style>\n",
       "<table border=\"1\" class=\"dataframe\">\n",
       "  <thead>\n",
       "    <tr style=\"text-align: right;\">\n",
       "      <th></th>\n",
       "      <th>recording_name</th>\n",
       "      <th>cluster_id</th>\n",
       "      <th>1ms_isi</th>\n",
       "      <th>2ms_isi</th>\n",
       "      <th>amp</th>\n",
       "      <th>ch</th>\n",
       "      <th>channel_group</th>\n",
       "      <th>depth</th>\n",
       "      <th>fr</th>\n",
       "      <th>group</th>\n",
       "      <th>n_spikes</th>\n",
       "      <th>sh</th>\n",
       "      <th>si_unit_id</th>\n",
       "      <th>1_5_ms_isi</th>\n",
       "    </tr>\n",
       "  </thead>\n",
       "  <tbody>\n",
       "    <tr>\n",
       "      <th>0</th>\n",
       "      <td>20240411_155157_comp_novel_subj_3-4_t4b4_merged</td>\n",
       "      <td>5</td>\n",
       "      <td>0</td>\n",
       "      <td>2</td>\n",
       "      <td>10.911428</td>\n",
       "      <td>7</td>\n",
       "      <td>0.0</td>\n",
       "      <td>140.0</td>\n",
       "      <td>1.218898</td>\n",
       "      <td>good</td>\n",
       "      <td>3890</td>\n",
       "      <td>0</td>\n",
       "      <td>6.0</td>\n",
       "      <td>NaN</td>\n",
       "    </tr>\n",
       "    <tr>\n",
       "      <th>1</th>\n",
       "      <td>20240411_155157_comp_novel_subj_3-4_t4b4_merged</td>\n",
       "      <td>13</td>\n",
       "      <td>0</td>\n",
       "      <td>1</td>\n",
       "      <td>25.858170</td>\n",
       "      <td>16</td>\n",
       "      <td>0.0</td>\n",
       "      <td>320.0</td>\n",
       "      <td>5.593772</td>\n",
       "      <td>good</td>\n",
       "      <td>17852</td>\n",
       "      <td>0</td>\n",
       "      <td>14.0</td>\n",
       "      <td>NaN</td>\n",
       "    </tr>\n",
       "    <tr>\n",
       "      <th>2</th>\n",
       "      <td>20240411_155157_comp_novel_subj_3-4_t4b4_merged</td>\n",
       "      <td>14</td>\n",
       "      <td>0</td>\n",
       "      <td>0</td>\n",
       "      <td>23.164261</td>\n",
       "      <td>17</td>\n",
       "      <td>0.0</td>\n",
       "      <td>340.0</td>\n",
       "      <td>0.173278</td>\n",
       "      <td>good</td>\n",
       "      <td>553</td>\n",
       "      <td>0</td>\n",
       "      <td>15.0</td>\n",
       "      <td>NaN</td>\n",
       "    </tr>\n",
       "    <tr>\n",
       "      <th>3</th>\n",
       "      <td>20240411_155157_comp_novel_subj_3-4_t4b4_merged</td>\n",
       "      <td>21</td>\n",
       "      <td>1</td>\n",
       "      <td>2</td>\n",
       "      <td>18.076609</td>\n",
       "      <td>19</td>\n",
       "      <td>0.0</td>\n",
       "      <td>380.0</td>\n",
       "      <td>5.296724</td>\n",
       "      <td>good</td>\n",
       "      <td>16904</td>\n",
       "      <td>0</td>\n",
       "      <td>23.0</td>\n",
       "      <td>NaN</td>\n",
       "    </tr>\n",
       "    <tr>\n",
       "      <th>4</th>\n",
       "      <td>20240411_155157_comp_novel_subj_3-4_t4b4_merged</td>\n",
       "      <td>22</td>\n",
       "      <td>0</td>\n",
       "      <td>0</td>\n",
       "      <td>19.231091</td>\n",
       "      <td>19</td>\n",
       "      <td>0.0</td>\n",
       "      <td>380.0</td>\n",
       "      <td>1.620289</td>\n",
       "      <td>good</td>\n",
       "      <td>5171</td>\n",
       "      <td>0</td>\n",
       "      <td>24.0</td>\n",
       "      <td>NaN</td>\n",
       "    </tr>\n",
       "  </tbody>\n",
       "</table>\n",
       "</div>"
      ],
      "text/plain": [
       "                                    recording_name  cluster_id  1ms_isi  \\\n",
       "0  20240411_155157_comp_novel_subj_3-4_t4b4_merged           5        0   \n",
       "1  20240411_155157_comp_novel_subj_3-4_t4b4_merged          13        0   \n",
       "2  20240411_155157_comp_novel_subj_3-4_t4b4_merged          14        0   \n",
       "3  20240411_155157_comp_novel_subj_3-4_t4b4_merged          21        1   \n",
       "4  20240411_155157_comp_novel_subj_3-4_t4b4_merged          22        0   \n",
       "\n",
       "   2ms_isi        amp  ch  channel_group  depth        fr group  n_spikes  sh  \\\n",
       "0        2  10.911428   7            0.0  140.0  1.218898  good      3890   0   \n",
       "1        1  25.858170  16            0.0  320.0  5.593772  good     17852   0   \n",
       "2        0  23.164261  17            0.0  340.0  0.173278  good       553   0   \n",
       "3        2  18.076609  19            0.0  380.0  5.296724  good     16904   0   \n",
       "4        0  19.231091  19            0.0  380.0  1.620289  good      5171   0   \n",
       "\n",
       "   si_unit_id  1_5_ms_isi  \n",
       "0         6.0         NaN  \n",
       "1        14.0         NaN  \n",
       "2        15.0         NaN  \n",
       "3        23.0         NaN  \n",
       "4        24.0         NaN  "
      ]
     },
     "execution_count": 19,
     "metadata": {},
     "output_type": "execute_result"
    }
   ],
   "source": [
    "good_unit_cluster_info_df.head()"
   ]
  },
  {
   "cell_type": "code",
   "execution_count": 20,
   "metadata": {
    "tags": []
   },
   "outputs": [],
   "source": [
    "recording_to_good_unit_ids = good_unit_cluster_info_df.groupby('recording_name')['cluster_id'].apply(list).to_dict()"
   ]
  },
  {
   "cell_type": "markdown",
   "metadata": {},
   "source": [
    "- A list of all the unit IDs that each spike came from in order\n",
    "    - First item is first spike, second item is second spike, etc."
   ]
  },
  {
   "cell_type": "code",
   "execution_count": 21,
   "metadata": {
    "tags": []
   },
   "outputs": [],
   "source": [
    "recording_to_spike_clusters = {}\n",
    "for recording_dir in ALL_PHY_DIR:\n",
    "    try:\n",
    "        recording_basename = os.path.basename(recording_dir).strip(\".rec\")\n",
    "        file_path = os.path.join(recording_dir, \"phy\", \"spike_clusters.npy\")\n",
    "        recording_to_spike_clusters[recording_basename] = np.load(file_path)\n",
    "    except Exception as e:\n",
    "        print(e)"
   ]
  },
  {
   "cell_type": "code",
   "execution_count": 22,
   "metadata": {
    "tags": []
   },
   "outputs": [
    {
     "data": {
      "text/plain": [
       "array([84, 11, 71, ...,  2, 92, 60], dtype=int32)"
      ]
     },
     "execution_count": 22,
     "metadata": {},
     "output_type": "execute_result"
    }
   ],
   "source": [
    "recording_to_spike_clusters[list(recording_to_spike_clusters.keys())[0]]"
   ]
  },
  {
   "cell_type": "code",
   "execution_count": 23,
   "metadata": {
    "tags": []
   },
   "outputs": [
    {
     "data": {
      "text/plain": [
       "(485667,)"
      ]
     },
     "execution_count": 23,
     "metadata": {},
     "output_type": "execute_result"
    }
   ],
   "source": [
    "recording_to_spike_clusters[list(recording_to_spike_clusters.keys())[0]].shape"
   ]
  },
  {
   "cell_type": "markdown",
   "metadata": {},
   "source": [
    "- The times that all the spikes happened"
   ]
  },
  {
   "cell_type": "code",
   "execution_count": 24,
   "metadata": {
    "tags": []
   },
   "outputs": [],
   "source": [
    "recording_to_spike_times = {}\n",
    "for recording_dir in ALL_PHY_DIR:\n",
    "    try:\n",
    "        recording_basename = os.path.basename(recording_dir).strip(\".rec\")\n",
    "        file_path = os.path.join(recording_dir, \"phy\", \"spike_times.npy\")\n",
    "        recording_to_spike_times[recording_basename] = np.load(file_path)\n",
    "    except Exception as e:\n",
    "        print(e)"
   ]
  },
  {
   "cell_type": "code",
   "execution_count": 25,
   "metadata": {
    "tags": []
   },
   "outputs": [
    {
     "data": {
      "text/plain": [
       "array([[     272],\n",
       "       [     322],\n",
       "       [     415],\n",
       "       ...,\n",
       "       [63827793],\n",
       "       [63827836],\n",
       "       [63828089]])"
      ]
     },
     "execution_count": 25,
     "metadata": {},
     "output_type": "execute_result"
    }
   ],
   "source": [
    "recording_to_spike_times[list(recording_to_spike_times.keys())[0]]"
   ]
  },
  {
   "cell_type": "code",
   "execution_count": 26,
   "metadata": {
    "tags": []
   },
   "outputs": [
    {
     "data": {
      "text/plain": [
       "(485667, 1)"
      ]
     },
     "execution_count": 26,
     "metadata": {},
     "output_type": "execute_result"
    }
   ],
   "source": [
    "recording_to_spike_times[list(recording_to_spike_times.keys())[0]].shape"
   ]
  },
  {
   "cell_type": "markdown",
   "metadata": {},
   "source": [
    "### Combining everything into a dataframe"
   ]
  },
  {
   "cell_type": "code",
   "execution_count": 27,
   "metadata": {
    "tags": []
   },
   "outputs": [],
   "source": [
    "recording_to_spike_df = {}\n",
    "\n",
    "for recording_dir in ALL_PHY_DIR:\n",
    "    try:\n",
    "        recording_basename = os.path.basename(recording_dir).strip(\".rec\")\n",
    "        cluster_info_path = os.path.join(recording_dir, \"phy\", \"cluster_info.tsv\")\n",
    "        cluster_info_df = pd.read_csv(cluster_info_path, sep=\"\\t\")\n",
    "\n",
    "        spike_clusters_path = os.path.join(recording_dir, \"phy\", \"spike_clusters.npy\")\n",
    "        spike_clusters = np.load(spike_clusters_path)\n",
    "        \n",
    "        spike_times_path = os.path.join(recording_dir, \"phy\", \"spike_times.npy\")\n",
    "        spike_times = np.load(spike_times_path)\n",
    "\n",
    "        spike_df = pd.DataFrame({'spike_clusters': spike_clusters, 'spike_times': spike_times.T[0]})\n",
    "\n",
    "        merged_df = spike_df.merge(cluster_info_df, left_on='spike_clusters', right_on='cluster_id', how=\"left\")\n",
    "        merged_df[\"recording_name\"] = recording_basename\n",
    "\n",
    "        merged_df[\"timestamp_isi\"] = merged_df.groupby('spike_clusters')[\"spike_times\"].diff()\n",
    "        merged_df[\"current_isi\"] = merged_df[\"timestamp_isi\"] / SAMPLING_RATE\n",
    "        \n",
    "        if not merged_df.empty:\n",
    "            recording_to_spike_df[recording_basename] = merged_df\n",
    "       \n",
    "    except Exception as e:\n",
    "        print(e)"
   ]
  },
  {
   "cell_type": "code",
   "execution_count": 28,
   "metadata": {
    "tags": []
   },
   "outputs": [
    {
     "data": {
      "text/html": [
       "<div>\n",
       "<style scoped>\n",
       "    .dataframe tbody tr th:only-of-type {\n",
       "        vertical-align: middle;\n",
       "    }\n",
       "\n",
       "    .dataframe tbody tr th {\n",
       "        vertical-align: top;\n",
       "    }\n",
       "\n",
       "    .dataframe thead th {\n",
       "        text-align: right;\n",
       "    }\n",
       "</style>\n",
       "<table border=\"1\" class=\"dataframe\">\n",
       "  <thead>\n",
       "    <tr style=\"text-align: right;\">\n",
       "      <th></th>\n",
       "      <th>cluster_id</th>\n",
       "      <th>1ms_isi</th>\n",
       "      <th>2ms_isi</th>\n",
       "      <th>amp</th>\n",
       "      <th>ch</th>\n",
       "      <th>channel_group</th>\n",
       "      <th>depth</th>\n",
       "      <th>fr</th>\n",
       "      <th>group</th>\n",
       "      <th>n_spikes</th>\n",
       "      <th>sh</th>\n",
       "      <th>si_unit_id</th>\n",
       "    </tr>\n",
       "  </thead>\n",
       "  <tbody>\n",
       "    <tr>\n",
       "      <th>0</th>\n",
       "      <td>0</td>\n",
       "      <td>2</td>\n",
       "      <td>29</td>\n",
       "      <td>10.700995</td>\n",
       "      <td>0</td>\n",
       "      <td>0</td>\n",
       "      <td>0.0</td>\n",
       "      <td>2.619794</td>\n",
       "      <td>mua</td>\n",
       "      <td>8391</td>\n",
       "      <td>0</td>\n",
       "      <td>1</td>\n",
       "    </tr>\n",
       "    <tr>\n",
       "      <th>1</th>\n",
       "      <td>1</td>\n",
       "      <td>1</td>\n",
       "      <td>9</td>\n",
       "      <td>7.437864</td>\n",
       "      <td>0</td>\n",
       "      <td>0</td>\n",
       "      <td>0.0</td>\n",
       "      <td>1.531413</td>\n",
       "      <td>mua</td>\n",
       "      <td>4905</td>\n",
       "      <td>0</td>\n",
       "      <td>2</td>\n",
       "    </tr>\n",
       "    <tr>\n",
       "      <th>2</th>\n",
       "      <td>2</td>\n",
       "      <td>2</td>\n",
       "      <td>8</td>\n",
       "      <td>7.615370</td>\n",
       "      <td>0</td>\n",
       "      <td>0</td>\n",
       "      <td>0.0</td>\n",
       "      <td>2.005980</td>\n",
       "      <td>mua</td>\n",
       "      <td>6425</td>\n",
       "      <td>0</td>\n",
       "      <td>3</td>\n",
       "    </tr>\n",
       "    <tr>\n",
       "      <th>3</th>\n",
       "      <td>3</td>\n",
       "      <td>0</td>\n",
       "      <td>1</td>\n",
       "      <td>25.458071</td>\n",
       "      <td>0</td>\n",
       "      <td>0</td>\n",
       "      <td>0.0</td>\n",
       "      <td>0.271627</td>\n",
       "      <td>mua</td>\n",
       "      <td>870</td>\n",
       "      <td>0</td>\n",
       "      <td>4</td>\n",
       "    </tr>\n",
       "    <tr>\n",
       "      <th>4</th>\n",
       "      <td>4</td>\n",
       "      <td>2</td>\n",
       "      <td>27</td>\n",
       "      <td>7.876468</td>\n",
       "      <td>4</td>\n",
       "      <td>0</td>\n",
       "      <td>80.0</td>\n",
       "      <td>3.527090</td>\n",
       "      <td>mua</td>\n",
       "      <td>11297</td>\n",
       "      <td>0</td>\n",
       "      <td>5</td>\n",
       "    </tr>\n",
       "  </tbody>\n",
       "</table>\n",
       "</div>"
      ],
      "text/plain": [
       "   cluster_id  1ms_isi  2ms_isi        amp  ch  channel_group  depth  \\\n",
       "0           0        2       29  10.700995   0              0    0.0   \n",
       "1           1        1        9   7.437864   0              0    0.0   \n",
       "2           2        2        8   7.615370   0              0    0.0   \n",
       "3           3        0        1  25.458071   0              0    0.0   \n",
       "4           4        2       27   7.876468   4              0   80.0   \n",
       "\n",
       "         fr group  n_spikes  sh  si_unit_id  \n",
       "0  2.619794   mua      8391   0           1  \n",
       "1  1.531413   mua      4905   0           2  \n",
       "2  2.005980   mua      6425   0           3  \n",
       "3  0.271627   mua       870   0           4  \n",
       "4  3.527090   mua     11297   0           5  "
      ]
     },
     "execution_count": 28,
     "metadata": {},
     "output_type": "execute_result"
    }
   ],
   "source": [
    "cluster_info_df.head()"
   ]
  },
  {
   "cell_type": "code",
   "execution_count": 29,
   "metadata": {
    "tags": []
   },
   "outputs": [
    {
     "data": {
      "text/plain": [
       "array([[     355],\n",
       "       [     426],\n",
       "       [    1198],\n",
       "       ...,\n",
       "       [64058231],\n",
       "       [64058262],\n",
       "       [64058403]])"
      ]
     },
     "execution_count": 29,
     "metadata": {},
     "output_type": "execute_result"
    }
   ],
   "source": [
    "spike_times"
   ]
  },
  {
   "cell_type": "code",
   "execution_count": 30,
   "metadata": {
    "tags": []
   },
   "outputs": [
    {
     "data": {
      "text/plain": [
       "array([18, 12, 18, ..., 39, 39, 52], dtype=int32)"
      ]
     },
     "execution_count": 30,
     "metadata": {},
     "output_type": "execute_result"
    }
   ],
   "source": [
    "spike_clusters"
   ]
  },
  {
   "cell_type": "markdown",
   "metadata": {},
   "source": [
    "- Combining the spike time df for all recordings"
   ]
  },
  {
   "cell_type": "code",
   "execution_count": 31,
   "metadata": {
    "tags": []
   },
   "outputs": [],
   "source": [
    "all_spike_time_df = pd.concat(recording_to_spike_df.values())"
   ]
  },
  {
   "cell_type": "code",
   "execution_count": 32,
   "metadata": {
    "tags": []
   },
   "outputs": [],
   "source": [
    "all_spike_time_df = all_spike_time_df[all_spike_time_df[\"group\"] == \"good\"].reset_index(drop=True)"
   ]
  },
  {
   "cell_type": "code",
   "execution_count": 33,
   "metadata": {
    "tags": []
   },
   "outputs": [
    {
     "data": {
      "text/html": [
       "<div>\n",
       "<style scoped>\n",
       "    .dataframe tbody tr th:only-of-type {\n",
       "        vertical-align: middle;\n",
       "    }\n",
       "\n",
       "    .dataframe tbody tr th {\n",
       "        vertical-align: top;\n",
       "    }\n",
       "\n",
       "    .dataframe thead th {\n",
       "        text-align: right;\n",
       "    }\n",
       "</style>\n",
       "<table border=\"1\" class=\"dataframe\">\n",
       "  <thead>\n",
       "    <tr style=\"text-align: right;\">\n",
       "      <th></th>\n",
       "      <th>spike_clusters</th>\n",
       "      <th>spike_times</th>\n",
       "      <th>cluster_id</th>\n",
       "      <th>1ms_isi</th>\n",
       "      <th>2ms_isi</th>\n",
       "      <th>amp</th>\n",
       "      <th>ch</th>\n",
       "      <th>channel_group</th>\n",
       "      <th>depth</th>\n",
       "      <th>fr</th>\n",
       "      <th>group</th>\n",
       "      <th>n_spikes</th>\n",
       "      <th>sh</th>\n",
       "      <th>si_unit_id</th>\n",
       "      <th>recording_name</th>\n",
       "      <th>timestamp_isi</th>\n",
       "      <th>current_isi</th>\n",
       "      <th>1_5_ms_isi</th>\n",
       "    </tr>\n",
       "  </thead>\n",
       "  <tbody>\n",
       "    <tr>\n",
       "      <th>0</th>\n",
       "      <td>33</td>\n",
       "      <td>532</td>\n",
       "      <td>33</td>\n",
       "      <td>0</td>\n",
       "      <td>0</td>\n",
       "      <td>19.129400</td>\n",
       "      <td>23</td>\n",
       "      <td>0.0</td>\n",
       "      <td>460.0</td>\n",
       "      <td>0.473772</td>\n",
       "      <td>good</td>\n",
       "      <td>1512</td>\n",
       "      <td>0</td>\n",
       "      <td>35.0</td>\n",
       "      <td>20240411_155157_comp_novel_subj_3-4_t4b4_merged</td>\n",
       "      <td>NaN</td>\n",
       "      <td>NaN</td>\n",
       "      <td>NaN</td>\n",
       "    </tr>\n",
       "    <tr>\n",
       "      <th>1</th>\n",
       "      <td>13</td>\n",
       "      <td>1272</td>\n",
       "      <td>13</td>\n",
       "      <td>0</td>\n",
       "      <td>1</td>\n",
       "      <td>25.858170</td>\n",
       "      <td>16</td>\n",
       "      <td>0.0</td>\n",
       "      <td>320.0</td>\n",
       "      <td>5.593772</td>\n",
       "      <td>good</td>\n",
       "      <td>17852</td>\n",
       "      <td>0</td>\n",
       "      <td>14.0</td>\n",
       "      <td>20240411_155157_comp_novel_subj_3-4_t4b4_merged</td>\n",
       "      <td>NaN</td>\n",
       "      <td>NaN</td>\n",
       "      <td>NaN</td>\n",
       "    </tr>\n",
       "    <tr>\n",
       "      <th>2</th>\n",
       "      <td>92</td>\n",
       "      <td>2228</td>\n",
       "      <td>92</td>\n",
       "      <td>3</td>\n",
       "      <td>12</td>\n",
       "      <td>11.571054</td>\n",
       "      <td>27</td>\n",
       "      <td>NaN</td>\n",
       "      <td>540.0</td>\n",
       "      <td>4.830158</td>\n",
       "      <td>good</td>\n",
       "      <td>15415</td>\n",
       "      <td>0</td>\n",
       "      <td>NaN</td>\n",
       "      <td>20240411_155157_comp_novel_subj_3-4_t4b4_merged</td>\n",
       "      <td>NaN</td>\n",
       "      <td>NaN</td>\n",
       "      <td>NaN</td>\n",
       "    </tr>\n",
       "    <tr>\n",
       "      <th>3</th>\n",
       "      <td>63</td>\n",
       "      <td>2265</td>\n",
       "      <td>63</td>\n",
       "      <td>0</td>\n",
       "      <td>0</td>\n",
       "      <td>26.958054</td>\n",
       "      <td>13</td>\n",
       "      <td>NaN</td>\n",
       "      <td>260.0</td>\n",
       "      <td>0.817508</td>\n",
       "      <td>good</td>\n",
       "      <td>2609</td>\n",
       "      <td>0</td>\n",
       "      <td>NaN</td>\n",
       "      <td>20240411_155157_comp_novel_subj_3-4_t4b4_merged</td>\n",
       "      <td>NaN</td>\n",
       "      <td>NaN</td>\n",
       "      <td>NaN</td>\n",
       "    </tr>\n",
       "    <tr>\n",
       "      <th>4</th>\n",
       "      <td>87</td>\n",
       "      <td>2384</td>\n",
       "      <td>87</td>\n",
       "      <td>0</td>\n",
       "      <td>0</td>\n",
       "      <td>21.646833</td>\n",
       "      <td>21</td>\n",
       "      <td>NaN</td>\n",
       "      <td>420.0</td>\n",
       "      <td>1.219525</td>\n",
       "      <td>good</td>\n",
       "      <td>3892</td>\n",
       "      <td>0</td>\n",
       "      <td>NaN</td>\n",
       "      <td>20240411_155157_comp_novel_subj_3-4_t4b4_merged</td>\n",
       "      <td>NaN</td>\n",
       "      <td>NaN</td>\n",
       "      <td>NaN</td>\n",
       "    </tr>\n",
       "  </tbody>\n",
       "</table>\n",
       "</div>"
      ],
      "text/plain": [
       "   spike_clusters  spike_times  cluster_id  1ms_isi  2ms_isi        amp  ch  \\\n",
       "0              33          532          33        0        0  19.129400  23   \n",
       "1              13         1272          13        0        1  25.858170  16   \n",
       "2              92         2228          92        3       12  11.571054  27   \n",
       "3              63         2265          63        0        0  26.958054  13   \n",
       "4              87         2384          87        0        0  21.646833  21   \n",
       "\n",
       "   channel_group  depth        fr group  n_spikes  sh  si_unit_id  \\\n",
       "0            0.0  460.0  0.473772  good      1512   0        35.0   \n",
       "1            0.0  320.0  5.593772  good     17852   0        14.0   \n",
       "2            NaN  540.0  4.830158  good     15415   0         NaN   \n",
       "3            NaN  260.0  0.817508  good      2609   0         NaN   \n",
       "4            NaN  420.0  1.219525  good      3892   0         NaN   \n",
       "\n",
       "                                    recording_name  timestamp_isi  \\\n",
       "0  20240411_155157_comp_novel_subj_3-4_t4b4_merged            NaN   \n",
       "1  20240411_155157_comp_novel_subj_3-4_t4b4_merged            NaN   \n",
       "2  20240411_155157_comp_novel_subj_3-4_t4b4_merged            NaN   \n",
       "3  20240411_155157_comp_novel_subj_3-4_t4b4_merged            NaN   \n",
       "4  20240411_155157_comp_novel_subj_3-4_t4b4_merged            NaN   \n",
       "\n",
       "   current_isi  1_5_ms_isi  \n",
       "0          NaN         NaN  \n",
       "1          NaN         NaN  \n",
       "2          NaN         NaN  \n",
       "3          NaN         NaN  \n",
       "4          NaN         NaN  "
      ]
     },
     "execution_count": 33,
     "metadata": {},
     "output_type": "execute_result"
    }
   ],
   "source": [
    "all_spike_time_df.head()"
   ]
  },
  {
   "cell_type": "code",
   "execution_count": 34,
   "metadata": {
    "tags": []
   },
   "outputs": [
    {
     "data": {
      "text/html": [
       "<div>\n",
       "<style scoped>\n",
       "    .dataframe tbody tr th:only-of-type {\n",
       "        vertical-align: middle;\n",
       "    }\n",
       "\n",
       "    .dataframe tbody tr th {\n",
       "        vertical-align: top;\n",
       "    }\n",
       "\n",
       "    .dataframe thead th {\n",
       "        text-align: right;\n",
       "    }\n",
       "</style>\n",
       "<table border=\"1\" class=\"dataframe\">\n",
       "  <thead>\n",
       "    <tr style=\"text-align: right;\">\n",
       "      <th></th>\n",
       "      <th>spike_clusters</th>\n",
       "      <th>spike_times</th>\n",
       "      <th>cluster_id</th>\n",
       "      <th>1ms_isi</th>\n",
       "      <th>2ms_isi</th>\n",
       "      <th>amp</th>\n",
       "      <th>ch</th>\n",
       "      <th>channel_group</th>\n",
       "      <th>depth</th>\n",
       "      <th>fr</th>\n",
       "      <th>group</th>\n",
       "      <th>n_spikes</th>\n",
       "      <th>sh</th>\n",
       "      <th>si_unit_id</th>\n",
       "      <th>recording_name</th>\n",
       "      <th>timestamp_isi</th>\n",
       "      <th>current_isi</th>\n",
       "      <th>1_5_ms_isi</th>\n",
       "    </tr>\n",
       "  </thead>\n",
       "  <tbody>\n",
       "    <tr>\n",
       "      <th>7612494</th>\n",
       "      <td>9</td>\n",
       "      <td>64056268</td>\n",
       "      <td>9</td>\n",
       "      <td>0</td>\n",
       "      <td>1</td>\n",
       "      <td>46.368992</td>\n",
       "      <td>8</td>\n",
       "      <td>0.0</td>\n",
       "      <td>160.0</td>\n",
       "      <td>1.095562</td>\n",
       "      <td>good</td>\n",
       "      <td>3509</td>\n",
       "      <td>0</td>\n",
       "      <td>10.0</td>\n",
       "      <td>20240410_152009_comp_novel_subj_4-3_t6b6_merged</td>\n",
       "      <td>17686.0</td>\n",
       "      <td>0.88430</td>\n",
       "      <td>NaN</td>\n",
       "    </tr>\n",
       "    <tr>\n",
       "      <th>7612495</th>\n",
       "      <td>52</td>\n",
       "      <td>64056649</td>\n",
       "      <td>52</td>\n",
       "      <td>0</td>\n",
       "      <td>6</td>\n",
       "      <td>17.425798</td>\n",
       "      <td>19</td>\n",
       "      <td>0.0</td>\n",
       "      <td>380.0</td>\n",
       "      <td>4.665737</td>\n",
       "      <td>good</td>\n",
       "      <td>14944</td>\n",
       "      <td>0</td>\n",
       "      <td>26.0</td>\n",
       "      <td>20240410_152009_comp_novel_subj_4-3_t6b6_merged</td>\n",
       "      <td>2843.0</td>\n",
       "      <td>0.14215</td>\n",
       "      <td>NaN</td>\n",
       "    </tr>\n",
       "    <tr>\n",
       "      <th>7612496</th>\n",
       "      <td>13</td>\n",
       "      <td>64057879</td>\n",
       "      <td>13</td>\n",
       "      <td>0</td>\n",
       "      <td>0</td>\n",
       "      <td>25.287748</td>\n",
       "      <td>14</td>\n",
       "      <td>0.0</td>\n",
       "      <td>280.0</td>\n",
       "      <td>2.247634</td>\n",
       "      <td>good</td>\n",
       "      <td>7199</td>\n",
       "      <td>0</td>\n",
       "      <td>15.0</td>\n",
       "      <td>20240410_152009_comp_novel_subj_4-3_t6b6_merged</td>\n",
       "      <td>3751.0</td>\n",
       "      <td>0.18755</td>\n",
       "      <td>NaN</td>\n",
       "    </tr>\n",
       "    <tr>\n",
       "      <th>7612497</th>\n",
       "      <td>13</td>\n",
       "      <td>64058014</td>\n",
       "      <td>13</td>\n",
       "      <td>0</td>\n",
       "      <td>0</td>\n",
       "      <td>25.287748</td>\n",
       "      <td>14</td>\n",
       "      <td>0.0</td>\n",
       "      <td>280.0</td>\n",
       "      <td>2.247634</td>\n",
       "      <td>good</td>\n",
       "      <td>7199</td>\n",
       "      <td>0</td>\n",
       "      <td>15.0</td>\n",
       "      <td>20240410_152009_comp_novel_subj_4-3_t6b6_merged</td>\n",
       "      <td>135.0</td>\n",
       "      <td>0.00675</td>\n",
       "      <td>NaN</td>\n",
       "    </tr>\n",
       "    <tr>\n",
       "      <th>7612498</th>\n",
       "      <td>52</td>\n",
       "      <td>64058403</td>\n",
       "      <td>52</td>\n",
       "      <td>0</td>\n",
       "      <td>6</td>\n",
       "      <td>17.425798</td>\n",
       "      <td>19</td>\n",
       "      <td>0.0</td>\n",
       "      <td>380.0</td>\n",
       "      <td>4.665737</td>\n",
       "      <td>good</td>\n",
       "      <td>14944</td>\n",
       "      <td>0</td>\n",
       "      <td>26.0</td>\n",
       "      <td>20240410_152009_comp_novel_subj_4-3_t6b6_merged</td>\n",
       "      <td>1754.0</td>\n",
       "      <td>0.08770</td>\n",
       "      <td>NaN</td>\n",
       "    </tr>\n",
       "  </tbody>\n",
       "</table>\n",
       "</div>"
      ],
      "text/plain": [
       "         spike_clusters  spike_times  cluster_id  1ms_isi  2ms_isi        amp  \\\n",
       "7612494               9     64056268           9        0        1  46.368992   \n",
       "7612495              52     64056649          52        0        6  17.425798   \n",
       "7612496              13     64057879          13        0        0  25.287748   \n",
       "7612497              13     64058014          13        0        0  25.287748   \n",
       "7612498              52     64058403          52        0        6  17.425798   \n",
       "\n",
       "         ch  channel_group  depth        fr group  n_spikes  sh  si_unit_id  \\\n",
       "7612494   8            0.0  160.0  1.095562  good      3509   0        10.0   \n",
       "7612495  19            0.0  380.0  4.665737  good     14944   0        26.0   \n",
       "7612496  14            0.0  280.0  2.247634  good      7199   0        15.0   \n",
       "7612497  14            0.0  280.0  2.247634  good      7199   0        15.0   \n",
       "7612498  19            0.0  380.0  4.665737  good     14944   0        26.0   \n",
       "\n",
       "                                          recording_name  timestamp_isi  \\\n",
       "7612494  20240410_152009_comp_novel_subj_4-3_t6b6_merged        17686.0   \n",
       "7612495  20240410_152009_comp_novel_subj_4-3_t6b6_merged         2843.0   \n",
       "7612496  20240410_152009_comp_novel_subj_4-3_t6b6_merged         3751.0   \n",
       "7612497  20240410_152009_comp_novel_subj_4-3_t6b6_merged          135.0   \n",
       "7612498  20240410_152009_comp_novel_subj_4-3_t6b6_merged         1754.0   \n",
       "\n",
       "         current_isi  1_5_ms_isi  \n",
       "7612494      0.88430         NaN  \n",
       "7612495      0.14215         NaN  \n",
       "7612496      0.18755         NaN  \n",
       "7612497      0.00675         NaN  \n",
       "7612498      0.08770         NaN  "
      ]
     },
     "execution_count": 34,
     "metadata": {},
     "output_type": "execute_result"
    }
   ],
   "source": [
    "all_spike_time_df.tail()"
   ]
  },
  {
   "cell_type": "markdown",
   "metadata": {},
   "source": [
    "## Grouping all the neurons by recording"
   ]
  },
  {
   "cell_type": "code",
   "execution_count": 35,
   "metadata": {
    "tags": []
   },
   "outputs": [],
   "source": [
    "# Grouping all spike times by neuron and recording\n",
    "grouped_df = all_spike_time_df.groupby(['spike_clusters', 'recording_name'])[\"spike_times\"].apply(lambda x: np.array(x)).reset_index()\n",
    "grouped_df = grouped_df.sort_values(by=['recording_name', 'spike_clusters']).reset_index(drop=True)"
   ]
  },
  {
   "cell_type": "code",
   "execution_count": 36,
   "metadata": {
    "tags": []
   },
   "outputs": [
    {
     "data": {
      "text/html": [
       "<div>\n",
       "<style scoped>\n",
       "    .dataframe tbody tr th:only-of-type {\n",
       "        vertical-align: middle;\n",
       "    }\n",
       "\n",
       "    .dataframe tbody tr th {\n",
       "        vertical-align: top;\n",
       "    }\n",
       "\n",
       "    .dataframe thead th {\n",
       "        text-align: right;\n",
       "    }\n",
       "</style>\n",
       "<table border=\"1\" class=\"dataframe\">\n",
       "  <thead>\n",
       "    <tr style=\"text-align: right;\">\n",
       "      <th></th>\n",
       "      <th>spike_clusters</th>\n",
       "      <th>recording_name</th>\n",
       "      <th>spike_times</th>\n",
       "    </tr>\n",
       "  </thead>\n",
       "  <tbody>\n",
       "    <tr>\n",
       "      <th>0</th>\n",
       "      <td>28</td>\n",
       "      <td>20240317_151922_long_comp_subj_3-1_t6b6_merged</td>\n",
       "      <td>[1114, 3560, 6526, 8227, 9818, 13111, 14728, 1...</td>\n",
       "    </tr>\n",
       "    <tr>\n",
       "      <th>1</th>\n",
       "      <td>60</td>\n",
       "      <td>20240317_151922_long_comp_subj_3-1_t6b6_merged</td>\n",
       "      <td>[9207, 10264, 11524, 11872, 14268, 22414, 3833...</td>\n",
       "    </tr>\n",
       "    <tr>\n",
       "      <th>2</th>\n",
       "      <td>92</td>\n",
       "      <td>20240317_151922_long_comp_subj_3-1_t6b6_merged</td>\n",
       "      <td>[20065, 108369, 117274, 127160, 133418, 152238...</td>\n",
       "    </tr>\n",
       "    <tr>\n",
       "      <th>3</th>\n",
       "      <td>111</td>\n",
       "      <td>20240317_151922_long_comp_subj_3-1_t6b6_merged</td>\n",
       "      <td>[18919, 22489, 34070, 34749, 37126, 57953, 787...</td>\n",
       "    </tr>\n",
       "    <tr>\n",
       "      <th>4</th>\n",
       "      <td>121</td>\n",
       "      <td>20240317_151922_long_comp_subj_3-1_t6b6_merged</td>\n",
       "      <td>[1129, 5706, 8081, 8344, 11627, 14332, 20891, ...</td>\n",
       "    </tr>\n",
       "  </tbody>\n",
       "</table>\n",
       "</div>"
      ],
      "text/plain": [
       "   spike_clusters                                  recording_name  \\\n",
       "0              28  20240317_151922_long_comp_subj_3-1_t6b6_merged   \n",
       "1              60  20240317_151922_long_comp_subj_3-1_t6b6_merged   \n",
       "2              92  20240317_151922_long_comp_subj_3-1_t6b6_merged   \n",
       "3             111  20240317_151922_long_comp_subj_3-1_t6b6_merged   \n",
       "4             121  20240317_151922_long_comp_subj_3-1_t6b6_merged   \n",
       "\n",
       "                                         spike_times  \n",
       "0  [1114, 3560, 6526, 8227, 9818, 13111, 14728, 1...  \n",
       "1  [9207, 10264, 11524, 11872, 14268, 22414, 3833...  \n",
       "2  [20065, 108369, 117274, 127160, 133418, 152238...  \n",
       "3  [18919, 22489, 34070, 34749, 37126, 57953, 787...  \n",
       "4  [1129, 5706, 8081, 8344, 11627, 14332, 20891, ...  "
      ]
     },
     "execution_count": 36,
     "metadata": {},
     "output_type": "execute_result"
    }
   ],
   "source": [
    "grouped_df.head()"
   ]
  },
  {
   "cell_type": "code",
   "execution_count": 37,
   "metadata": {},
   "outputs": [],
   "source": [
    "max_number_of_spikes = all_spike_time_df[\"n_spikes\"].max()"
   ]
  },
  {
   "cell_type": "code",
   "execution_count": 38,
   "metadata": {},
   "outputs": [
    {
     "data": {
      "text/plain": [
       "126385"
      ]
     },
     "execution_count": 38,
     "metadata": {},
     "output_type": "execute_result"
    }
   ],
   "source": [
    "max_number_of_spikes"
   ]
  },
  {
   "cell_type": "code",
   "execution_count": 39,
   "metadata": {
    "tags": []
   },
   "outputs": [],
   "source": [
    "grouped_df[\"spike_times\"] = grouped_df[\"spike_times\"].apply(lambda x: np.concatenate([x, np.full([max_number_of_spikes - x.shape[0]], np.nan)]))"
   ]
  },
  {
   "cell_type": "code",
   "execution_count": 40,
   "metadata": {
    "tags": []
   },
   "outputs": [],
   "source": [
    "grouped_df = grouped_df.groupby('recording_name').agg({'spike_clusters': lambda x: list(x), 'spike_times': lambda x: np.array(list(x))}).reset_index()"
   ]
  },
  {
   "cell_type": "code",
   "execution_count": 41,
   "metadata": {
    "tags": []
   },
   "outputs": [],
   "source": [
    "LFP_SPECTRAL_DF = pd.merge(LFP_SPECTRAL_DF, grouped_df, left_on='recording', right_on=\"recording_name\", how='inner')"
   ]
  },
  {
   "cell_type": "code",
   "execution_count": 42,
   "metadata": {
    "tags": []
   },
   "outputs": [
    {
     "data": {
      "text/html": [
       "<div>\n",
       "<style scoped>\n",
       "    .dataframe tbody tr th:only-of-type {\n",
       "        vertical-align: middle;\n",
       "    }\n",
       "\n",
       "    .dataframe tbody tr th {\n",
       "        vertical-align: top;\n",
       "    }\n",
       "\n",
       "    .dataframe thead th {\n",
       "        text-align: right;\n",
       "    }\n",
       "</style>\n",
       "<table border=\"1\" class=\"dataframe\">\n",
       "  <thead>\n",
       "    <tr style=\"text-align: right;\">\n",
       "      <th></th>\n",
       "      <th>cohort</th>\n",
       "      <th>session_dir</th>\n",
       "      <th>tone_frames</th>\n",
       "      <th>box_1_port_entry_frames</th>\n",
       "      <th>box_2_port_entry_frames</th>\n",
       "      <th>video_name</th>\n",
       "      <th>notes</th>\n",
       "      <th>session_path</th>\n",
       "      <th>recording</th>\n",
       "      <th>current_subject</th>\n",
       "      <th>...</th>\n",
       "      <th>box_2_port_entry_timestamps</th>\n",
       "      <th>lfp_timestamps</th>\n",
       "      <th>vHPC_lfp_trace</th>\n",
       "      <th>BLA_lfp_trace</th>\n",
       "      <th>LH_lfp_trace</th>\n",
       "      <th>MD_lfp_trace</th>\n",
       "      <th>mPFC_lfp_trace</th>\n",
       "      <th>recording_name</th>\n",
       "      <th>spike_clusters</th>\n",
       "      <th>spike_times</th>\n",
       "    </tr>\n",
       "  </thead>\n",
       "  <tbody>\n",
       "    <tr>\n",
       "      <th>0</th>\n",
       "      <td>rce_pilot_3</td>\n",
       "      <td>20240317_151922_long_comp_subj_3-1_and_3-3</td>\n",
       "      <td>[[1, 88], [1286, 1486], [3282, 3482], [4480, 4...</td>\n",
       "      <td>[[1, 88], [259, 278], [310, 365], [366, 382], ...</td>\n",
       "      <td>[]</td>\n",
       "      <td>20240317_151922_long_comp_subj_3-1_and_3-3.1.v...</td>\n",
       "      <td>NaN</td>\n",
       "      <td>/scratch/back_up/reward_competition_extention/...</td>\n",
       "      <td>20240317_151922_long_comp_subj_3-1_t6b6_merged</td>\n",
       "      <td>3.1</td>\n",
       "      <td>...</td>\n",
       "      <td>[]</td>\n",
       "      <td>[0, 20, 40, 60, 80, 100, 120, 140, 160, 180, 2...</td>\n",
       "      <td>[-477, -450, -317, -151, -133, -225, -300, -35...</td>\n",
       "      <td>[-194, -182, -107, -25, -51, -87, -7, 100, 120...</td>\n",
       "      <td>[49, 101, 208, 196, -11, -142, -43, 21, -79, -...</td>\n",
       "      <td>[158, 267, 411, 433, 314, 169, 169, 223, 216, ...</td>\n",
       "      <td>[8, 55, 209, 261, 75, -46, 31, 125, 87, -124, ...</td>\n",
       "      <td>20240317_151922_long_comp_subj_3-1_t6b6_merged</td>\n",
       "      <td>[28, 60, 92, 111, 121, 154, 176]</td>\n",
       "      <td>[[1114.0, 3560.0, 6526.0, 8227.0, 9818.0, 1311...</td>\n",
       "    </tr>\n",
       "    <tr>\n",
       "      <th>1</th>\n",
       "      <td>rce_pilot_3</td>\n",
       "      <td>20240317_151922_long_comp_subj_3-1_and_3-3</td>\n",
       "      <td>[[2, 132], [1922, 2220], [4906, 5203], [6696, ...</td>\n",
       "      <td>[[2, 132], [387, 415], [463, 546], [548, 571],...</td>\n",
       "      <td>[]</td>\n",
       "      <td>20240317_151922_long_comp_subj_3-1_and_3-3.2.v...</td>\n",
       "      <td>NaN</td>\n",
       "      <td>/scratch/back_up/reward_competition_extention/...</td>\n",
       "      <td>20240317_151922_long_comp_subj_3-1_t6b6_merged</td>\n",
       "      <td>3.1</td>\n",
       "      <td>...</td>\n",
       "      <td>[]</td>\n",
       "      <td>[0, 20, 40, 60, 80, 100, 120, 140, 160, 180, 2...</td>\n",
       "      <td>[-477, -450, -317, -151, -133, -225, -300, -35...</td>\n",
       "      <td>[-194, -182, -107, -25, -51, -87, -7, 100, 120...</td>\n",
       "      <td>[49, 101, 208, 196, -11, -142, -43, 21, -79, -...</td>\n",
       "      <td>[158, 267, 411, 433, 314, 169, 169, 223, 216, ...</td>\n",
       "      <td>[8, 55, 209, 261, 75, -46, 31, 125, 87, -124, ...</td>\n",
       "      <td>20240317_151922_long_comp_subj_3-1_t6b6_merged</td>\n",
       "      <td>[28, 60, 92, 111, 121, 154, 176]</td>\n",
       "      <td>[[1114.0, 3560.0, 6526.0, 8227.0, 9818.0, 1311...</td>\n",
       "    </tr>\n",
       "    <tr>\n",
       "      <th>2</th>\n",
       "      <td>rce_pilot_3</td>\n",
       "      <td>20240317_151922_long_comp_subj_3-1_and_3-3</td>\n",
       "      <td>[[1, 88], [1286, 1486], [3282, 3482], [4480, 4...</td>\n",
       "      <td>[[1, 88], [259, 278], [310, 365], [366, 382], ...</td>\n",
       "      <td>[]</td>\n",
       "      <td>20240317_151922_long_comp_subj_3-1_and_3-3.1.v...</td>\n",
       "      <td>NaN</td>\n",
       "      <td>/scratch/back_up/reward_competition_extention/...</td>\n",
       "      <td>20240317_151922_long_comp_subj_3-3_t5b5_merged</td>\n",
       "      <td>3.3</td>\n",
       "      <td>...</td>\n",
       "      <td>[]</td>\n",
       "      <td>[0, 20, 40, 60, 80, 100, 120, 140, 160, 180, 2...</td>\n",
       "      <td>[326, 357, 376, 297, 190, 98, -86, -341, -523,...</td>\n",
       "      <td>[0, -36, -79, -105, -51, 45, -19, -170, -282, ...</td>\n",
       "      <td>[-61, -88, -144, -191, -163, -135, -234, -337,...</td>\n",
       "      <td>[-47, -43, -92, -193, -174, -112, -212, -285, ...</td>\n",
       "      <td>[-165, -114, -123, -214, -216, -190, -200, -19...</td>\n",
       "      <td>20240317_151922_long_comp_subj_3-3_t5b5_merged</td>\n",
       "      <td>[115, 125, 130, 149, 153, 181, 192, 210, 252, ...</td>\n",
       "      <td>[[133283.0, 149549.0, 389691.0, 566137.0, 7777...</td>\n",
       "    </tr>\n",
       "    <tr>\n",
       "      <th>3</th>\n",
       "      <td>rce_pilot_3</td>\n",
       "      <td>20240317_151922_long_comp_subj_3-1_and_3-3</td>\n",
       "      <td>[[2, 132], [1922, 2220], [4906, 5203], [6696, ...</td>\n",
       "      <td>[[2, 132], [387, 415], [463, 546], [548, 571],...</td>\n",
       "      <td>[]</td>\n",
       "      <td>20240317_151922_long_comp_subj_3-1_and_3-3.2.v...</td>\n",
       "      <td>NaN</td>\n",
       "      <td>/scratch/back_up/reward_competition_extention/...</td>\n",
       "      <td>20240317_151922_long_comp_subj_3-3_t5b5_merged</td>\n",
       "      <td>3.3</td>\n",
       "      <td>...</td>\n",
       "      <td>[]</td>\n",
       "      <td>[0, 20, 40, 60, 80, 100, 120, 140, 160, 180, 2...</td>\n",
       "      <td>[326, 357, 376, 297, 190, 98, -86, -341, -523,...</td>\n",
       "      <td>[0, -36, -79, -105, -51, 45, -19, -170, -282, ...</td>\n",
       "      <td>[-61, -88, -144, -191, -163, -135, -234, -337,...</td>\n",
       "      <td>[-47, -43, -92, -193, -174, -112, -212, -285, ...</td>\n",
       "      <td>[-165, -114, -123, -214, -216, -190, -200, -19...</td>\n",
       "      <td>20240317_151922_long_comp_subj_3-3_t5b5_merged</td>\n",
       "      <td>[115, 125, 130, 149, 153, 181, 192, 210, 252, ...</td>\n",
       "      <td>[[133283.0, 149549.0, 389691.0, 566137.0, 7777...</td>\n",
       "    </tr>\n",
       "    <tr>\n",
       "      <th>4</th>\n",
       "      <td>rce_pilot_3</td>\n",
       "      <td>20240317_172017_long_comp_subj_4-2_and_4-3</td>\n",
       "      <td>[[1, 102], [1300, 1501], [3297, 3497], [4494, ...</td>\n",
       "      <td>[[1, 102], [115, 153], [191, 245], [261, 263],...</td>\n",
       "      <td>[]</td>\n",
       "      <td>20240317_172017_long_comp_subj_4-2_and_4-3.1.v...</td>\n",
       "      <td>NaN</td>\n",
       "      <td>/scratch/back_up/reward_competition_extention/...</td>\n",
       "      <td>20240317_172017_long_comp_subj_4-2_t6b6_merged</td>\n",
       "      <td>4.2</td>\n",
       "      <td>...</td>\n",
       "      <td>[]</td>\n",
       "      <td>[0, 20, 40, 60, 80, 100, 120, 140, 160, 180, 2...</td>\n",
       "      <td>[106, -113, -254, -184, -212, -375, -806, -122...</td>\n",
       "      <td>[-79, -352, -360, -153, -309, -498, -569, -107...</td>\n",
       "      <td>[17, -11, 582, 1101, -66, -1574, -1277, 243, 1...</td>\n",
       "      <td>[52, 70, 733, 1260, -39, -1683, -1303, 388, 14...</td>\n",
       "      <td>[138, 246, 340, 288, 307, 350, 339, 377, 308, ...</td>\n",
       "      <td>20240317_172017_long_comp_subj_4-2_t6b6_merged</td>\n",
       "      <td>[14, 78, 86, 90, 92, 98, 156, 160, 164, 170, 171]</td>\n",
       "      <td>[[22254.0, 42212.0, 120537.0, 138307.0, 149615...</td>\n",
       "    </tr>\n",
       "  </tbody>\n",
       "</table>\n",
       "<p>5 rows × 27 columns</p>\n",
       "</div>"
      ],
      "text/plain": [
       "        cohort                                 session_dir  \\\n",
       "0  rce_pilot_3  20240317_151922_long_comp_subj_3-1_and_3-3   \n",
       "1  rce_pilot_3  20240317_151922_long_comp_subj_3-1_and_3-3   \n",
       "2  rce_pilot_3  20240317_151922_long_comp_subj_3-1_and_3-3   \n",
       "3  rce_pilot_3  20240317_151922_long_comp_subj_3-1_and_3-3   \n",
       "4  rce_pilot_3  20240317_172017_long_comp_subj_4-2_and_4-3   \n",
       "\n",
       "                                         tone_frames  \\\n",
       "0  [[1, 88], [1286, 1486], [3282, 3482], [4480, 4...   \n",
       "1  [[2, 132], [1922, 2220], [4906, 5203], [6696, ...   \n",
       "2  [[1, 88], [1286, 1486], [3282, 3482], [4480, 4...   \n",
       "3  [[2, 132], [1922, 2220], [4906, 5203], [6696, ...   \n",
       "4  [[1, 102], [1300, 1501], [3297, 3497], [4494, ...   \n",
       "\n",
       "                             box_1_port_entry_frames box_2_port_entry_frames  \\\n",
       "0  [[1, 88], [259, 278], [310, 365], [366, 382], ...                      []   \n",
       "1  [[2, 132], [387, 415], [463, 546], [548, 571],...                      []   \n",
       "2  [[1, 88], [259, 278], [310, 365], [366, 382], ...                      []   \n",
       "3  [[2, 132], [387, 415], [463, 546], [548, 571],...                      []   \n",
       "4  [[1, 102], [115, 153], [191, 245], [261, 263],...                      []   \n",
       "\n",
       "                                          video_name notes  \\\n",
       "0  20240317_151922_long_comp_subj_3-1_and_3-3.1.v...   NaN   \n",
       "1  20240317_151922_long_comp_subj_3-1_and_3-3.2.v...   NaN   \n",
       "2  20240317_151922_long_comp_subj_3-1_and_3-3.1.v...   NaN   \n",
       "3  20240317_151922_long_comp_subj_3-1_and_3-3.2.v...   NaN   \n",
       "4  20240317_172017_long_comp_subj_4-2_and_4-3.1.v...   NaN   \n",
       "\n",
       "                                        session_path  \\\n",
       "0  /scratch/back_up/reward_competition_extention/...   \n",
       "1  /scratch/back_up/reward_competition_extention/...   \n",
       "2  /scratch/back_up/reward_competition_extention/...   \n",
       "3  /scratch/back_up/reward_competition_extention/...   \n",
       "4  /scratch/back_up/reward_competition_extention/...   \n",
       "\n",
       "                                        recording current_subject  ...  \\\n",
       "0  20240317_151922_long_comp_subj_3-1_t6b6_merged             3.1  ...   \n",
       "1  20240317_151922_long_comp_subj_3-1_t6b6_merged             3.1  ...   \n",
       "2  20240317_151922_long_comp_subj_3-3_t5b5_merged             3.3  ...   \n",
       "3  20240317_151922_long_comp_subj_3-3_t5b5_merged             3.3  ...   \n",
       "4  20240317_172017_long_comp_subj_4-2_t6b6_merged             4.2  ...   \n",
       "\n",
       "  box_2_port_entry_timestamps  \\\n",
       "0                          []   \n",
       "1                          []   \n",
       "2                          []   \n",
       "3                          []   \n",
       "4                          []   \n",
       "\n",
       "                                      lfp_timestamps  \\\n",
       "0  [0, 20, 40, 60, 80, 100, 120, 140, 160, 180, 2...   \n",
       "1  [0, 20, 40, 60, 80, 100, 120, 140, 160, 180, 2...   \n",
       "2  [0, 20, 40, 60, 80, 100, 120, 140, 160, 180, 2...   \n",
       "3  [0, 20, 40, 60, 80, 100, 120, 140, 160, 180, 2...   \n",
       "4  [0, 20, 40, 60, 80, 100, 120, 140, 160, 180, 2...   \n",
       "\n",
       "                                      vHPC_lfp_trace  \\\n",
       "0  [-477, -450, -317, -151, -133, -225, -300, -35...   \n",
       "1  [-477, -450, -317, -151, -133, -225, -300, -35...   \n",
       "2  [326, 357, 376, 297, 190, 98, -86, -341, -523,...   \n",
       "3  [326, 357, 376, 297, 190, 98, -86, -341, -523,...   \n",
       "4  [106, -113, -254, -184, -212, -375, -806, -122...   \n",
       "\n",
       "                                       BLA_lfp_trace  \\\n",
       "0  [-194, -182, -107, -25, -51, -87, -7, 100, 120...   \n",
       "1  [-194, -182, -107, -25, -51, -87, -7, 100, 120...   \n",
       "2  [0, -36, -79, -105, -51, 45, -19, -170, -282, ...   \n",
       "3  [0, -36, -79, -105, -51, 45, -19, -170, -282, ...   \n",
       "4  [-79, -352, -360, -153, -309, -498, -569, -107...   \n",
       "\n",
       "                                        LH_lfp_trace  \\\n",
       "0  [49, 101, 208, 196, -11, -142, -43, 21, -79, -...   \n",
       "1  [49, 101, 208, 196, -11, -142, -43, 21, -79, -...   \n",
       "2  [-61, -88, -144, -191, -163, -135, -234, -337,...   \n",
       "3  [-61, -88, -144, -191, -163, -135, -234, -337,...   \n",
       "4  [17, -11, 582, 1101, -66, -1574, -1277, 243, 1...   \n",
       "\n",
       "                                        MD_lfp_trace  \\\n",
       "0  [158, 267, 411, 433, 314, 169, 169, 223, 216, ...   \n",
       "1  [158, 267, 411, 433, 314, 169, 169, 223, 216, ...   \n",
       "2  [-47, -43, -92, -193, -174, -112, -212, -285, ...   \n",
       "3  [-47, -43, -92, -193, -174, -112, -212, -285, ...   \n",
       "4  [52, 70, 733, 1260, -39, -1683, -1303, 388, 14...   \n",
       "\n",
       "                                      mPFC_lfp_trace  \\\n",
       "0  [8, 55, 209, 261, 75, -46, 31, 125, 87, -124, ...   \n",
       "1  [8, 55, 209, 261, 75, -46, 31, 125, 87, -124, ...   \n",
       "2  [-165, -114, -123, -214, -216, -190, -200, -19...   \n",
       "3  [-165, -114, -123, -214, -216, -190, -200, -19...   \n",
       "4  [138, 246, 340, 288, 307, 350, 339, 377, 308, ...   \n",
       "\n",
       "                                   recording_name  \\\n",
       "0  20240317_151922_long_comp_subj_3-1_t6b6_merged   \n",
       "1  20240317_151922_long_comp_subj_3-1_t6b6_merged   \n",
       "2  20240317_151922_long_comp_subj_3-3_t5b5_merged   \n",
       "3  20240317_151922_long_comp_subj_3-3_t5b5_merged   \n",
       "4  20240317_172017_long_comp_subj_4-2_t6b6_merged   \n",
       "\n",
       "                                      spike_clusters  \\\n",
       "0                   [28, 60, 92, 111, 121, 154, 176]   \n",
       "1                   [28, 60, 92, 111, 121, 154, 176]   \n",
       "2  [115, 125, 130, 149, 153, 181, 192, 210, 252, ...   \n",
       "3  [115, 125, 130, 149, 153, 181, 192, 210, 252, ...   \n",
       "4  [14, 78, 86, 90, 92, 98, 156, 160, 164, 170, 171]   \n",
       "\n",
       "                                         spike_times  \n",
       "0  [[1114.0, 3560.0, 6526.0, 8227.0, 9818.0, 1311...  \n",
       "1  [[1114.0, 3560.0, 6526.0, 8227.0, 9818.0, 1311...  \n",
       "2  [[133283.0, 149549.0, 389691.0, 566137.0, 7777...  \n",
       "3  [[133283.0, 149549.0, 389691.0, 566137.0, 7777...  \n",
       "4  [[22254.0, 42212.0, 120537.0, 138307.0, 149615...  \n",
       "\n",
       "[5 rows x 27 columns]"
      ]
     },
     "execution_count": 42,
     "metadata": {},
     "output_type": "execute_result"
    }
   ],
   "source": [
    "LFP_SPECTRAL_DF.head()"
   ]
  },
  {
   "cell_type": "markdown",
   "metadata": {},
   "source": [
    "## Calculating the firing rates"
   ]
  },
  {
   "cell_type": "code",
   "execution_count": 43,
   "metadata": {
    "tags": []
   },
   "outputs": [
    {
     "data": {
      "text/plain": [
       "Index(['cohort', 'session_dir', 'tone_frames', 'box_1_port_entry_frames',\n",
       "       'box_2_port_entry_frames', 'video_name', 'notes', 'session_path',\n",
       "       'recording', 'current_subject', 'subject', 'all_subjects',\n",
       "       'first_timestamp', 'last_timestamp', 'video_timestamps',\n",
       "       'tone_timestamps', 'box_1_port_entry_timestamps',\n",
       "       'box_2_port_entry_timestamps', 'lfp_timestamps', 'vHPC_lfp_trace',\n",
       "       'BLA_lfp_trace', 'LH_lfp_trace', 'MD_lfp_trace', 'mPFC_lfp_trace',\n",
       "       'recording_name', 'spike_clusters', 'spike_times'],\n",
       "      dtype='object')"
      ]
     },
     "execution_count": 43,
     "metadata": {},
     "output_type": "execute_result"
    }
   ],
   "source": [
    "LFP_SPECTRAL_DF.columns"
   ]
  },
  {
   "cell_type": "code",
   "execution_count": 44,
   "metadata": {
    "tags": []
   },
   "outputs": [
    {
     "data": {
      "text/html": [
       "<div>\n",
       "<style scoped>\n",
       "    .dataframe tbody tr th:only-of-type {\n",
       "        vertical-align: middle;\n",
       "    }\n",
       "\n",
       "    .dataframe tbody tr th {\n",
       "        vertical-align: top;\n",
       "    }\n",
       "\n",
       "    .dataframe thead th {\n",
       "        text-align: right;\n",
       "    }\n",
       "</style>\n",
       "<table border=\"1\" class=\"dataframe\">\n",
       "  <thead>\n",
       "    <tr style=\"text-align: right;\">\n",
       "      <th></th>\n",
       "      <th>cluster_id</th>\n",
       "      <th>1ms_isi</th>\n",
       "      <th>2ms_isi</th>\n",
       "      <th>amp</th>\n",
       "      <th>ch</th>\n",
       "      <th>channel_group</th>\n",
       "      <th>depth</th>\n",
       "      <th>fr</th>\n",
       "      <th>group</th>\n",
       "      <th>n_spikes</th>\n",
       "      <th>sh</th>\n",
       "      <th>si_unit_id</th>\n",
       "    </tr>\n",
       "  </thead>\n",
       "  <tbody>\n",
       "    <tr>\n",
       "      <th>0</th>\n",
       "      <td>0</td>\n",
       "      <td>2</td>\n",
       "      <td>29</td>\n",
       "      <td>10.700995</td>\n",
       "      <td>0</td>\n",
       "      <td>0</td>\n",
       "      <td>0.0</td>\n",
       "      <td>2.619794</td>\n",
       "      <td>mua</td>\n",
       "      <td>8391</td>\n",
       "      <td>0</td>\n",
       "      <td>1</td>\n",
       "    </tr>\n",
       "    <tr>\n",
       "      <th>1</th>\n",
       "      <td>1</td>\n",
       "      <td>1</td>\n",
       "      <td>9</td>\n",
       "      <td>7.437864</td>\n",
       "      <td>0</td>\n",
       "      <td>0</td>\n",
       "      <td>0.0</td>\n",
       "      <td>1.531413</td>\n",
       "      <td>mua</td>\n",
       "      <td>4905</td>\n",
       "      <td>0</td>\n",
       "      <td>2</td>\n",
       "    </tr>\n",
       "    <tr>\n",
       "      <th>2</th>\n",
       "      <td>2</td>\n",
       "      <td>2</td>\n",
       "      <td>8</td>\n",
       "      <td>7.615370</td>\n",
       "      <td>0</td>\n",
       "      <td>0</td>\n",
       "      <td>0.0</td>\n",
       "      <td>2.005980</td>\n",
       "      <td>mua</td>\n",
       "      <td>6425</td>\n",
       "      <td>0</td>\n",
       "      <td>3</td>\n",
       "    </tr>\n",
       "    <tr>\n",
       "      <th>3</th>\n",
       "      <td>3</td>\n",
       "      <td>0</td>\n",
       "      <td>1</td>\n",
       "      <td>25.458071</td>\n",
       "      <td>0</td>\n",
       "      <td>0</td>\n",
       "      <td>0.0</td>\n",
       "      <td>0.271627</td>\n",
       "      <td>mua</td>\n",
       "      <td>870</td>\n",
       "      <td>0</td>\n",
       "      <td>4</td>\n",
       "    </tr>\n",
       "    <tr>\n",
       "      <th>4</th>\n",
       "      <td>4</td>\n",
       "      <td>2</td>\n",
       "      <td>27</td>\n",
       "      <td>7.876468</td>\n",
       "      <td>4</td>\n",
       "      <td>0</td>\n",
       "      <td>80.0</td>\n",
       "      <td>3.527090</td>\n",
       "      <td>mua</td>\n",
       "      <td>11297</td>\n",
       "      <td>0</td>\n",
       "      <td>5</td>\n",
       "    </tr>\n",
       "  </tbody>\n",
       "</table>\n",
       "</div>"
      ],
      "text/plain": [
       "   cluster_id  1ms_isi  2ms_isi        amp  ch  channel_group  depth  \\\n",
       "0           0        2       29  10.700995   0              0    0.0   \n",
       "1           1        1        9   7.437864   0              0    0.0   \n",
       "2           2        2        8   7.615370   0              0    0.0   \n",
       "3           3        0        1  25.458071   0              0    0.0   \n",
       "4           4        2       27   7.876468   4              0   80.0   \n",
       "\n",
       "         fr group  n_spikes  sh  si_unit_id  \n",
       "0  2.619794   mua      8391   0           1  \n",
       "1  1.531413   mua      4905   0           2  \n",
       "2  2.005980   mua      6425   0           3  \n",
       "3  0.271627   mua       870   0           4  \n",
       "4  3.527090   mua     11297   0           5  "
      ]
     },
     "execution_count": 44,
     "metadata": {},
     "output_type": "execute_result"
    }
   ],
   "source": [
    "cluster_info_df.head()"
   ]
  },
  {
   "cell_type": "code",
   "execution_count": 45,
   "metadata": {
    "tags": []
   },
   "outputs": [
    {
     "data": {
      "text/html": [
       "<div>\n",
       "<style scoped>\n",
       "    .dataframe tbody tr th:only-of-type {\n",
       "        vertical-align: middle;\n",
       "    }\n",
       "\n",
       "    .dataframe tbody tr th {\n",
       "        vertical-align: top;\n",
       "    }\n",
       "\n",
       "    .dataframe thead th {\n",
       "        text-align: right;\n",
       "    }\n",
       "</style>\n",
       "<table border=\"1\" class=\"dataframe\">\n",
       "  <thead>\n",
       "    <tr style=\"text-align: right;\">\n",
       "      <th></th>\n",
       "      <th>cohort</th>\n",
       "      <th>session_dir</th>\n",
       "      <th>tone_frames</th>\n",
       "      <th>box_1_port_entry_frames</th>\n",
       "      <th>box_2_port_entry_frames</th>\n",
       "      <th>video_name</th>\n",
       "      <th>notes</th>\n",
       "      <th>session_path</th>\n",
       "      <th>recording</th>\n",
       "      <th>current_subject</th>\n",
       "      <th>...</th>\n",
       "      <th>box_2_port_entry_timestamps</th>\n",
       "      <th>lfp_timestamps</th>\n",
       "      <th>vHPC_lfp_trace</th>\n",
       "      <th>BLA_lfp_trace</th>\n",
       "      <th>LH_lfp_trace</th>\n",
       "      <th>MD_lfp_trace</th>\n",
       "      <th>mPFC_lfp_trace</th>\n",
       "      <th>recording_name</th>\n",
       "      <th>spike_clusters</th>\n",
       "      <th>spike_times</th>\n",
       "    </tr>\n",
       "  </thead>\n",
       "  <tbody>\n",
       "    <tr>\n",
       "      <th>0</th>\n",
       "      <td>rce_pilot_3</td>\n",
       "      <td>20240317_151922_long_comp_subj_3-1_and_3-3</td>\n",
       "      <td>[[1, 88], [1286, 1486], [3282, 3482], [4480, 4...</td>\n",
       "      <td>[[1, 88], [259, 278], [310, 365], [366, 382], ...</td>\n",
       "      <td>[]</td>\n",
       "      <td>20240317_151922_long_comp_subj_3-1_and_3-3.1.v...</td>\n",
       "      <td>NaN</td>\n",
       "      <td>/scratch/back_up/reward_competition_extention/...</td>\n",
       "      <td>20240317_151922_long_comp_subj_3-1_t6b6_merged</td>\n",
       "      <td>3.1</td>\n",
       "      <td>...</td>\n",
       "      <td>[]</td>\n",
       "      <td>[0, 20, 40, 60, 80, 100, 120, 140, 160, 180, 2...</td>\n",
       "      <td>[-477, -450, -317, -151, -133, -225, -300, -35...</td>\n",
       "      <td>[-194, -182, -107, -25, -51, -87, -7, 100, 120...</td>\n",
       "      <td>[49, 101, 208, 196, -11, -142, -43, 21, -79, -...</td>\n",
       "      <td>[158, 267, 411, 433, 314, 169, 169, 223, 216, ...</td>\n",
       "      <td>[8, 55, 209, 261, 75, -46, 31, 125, 87, -124, ...</td>\n",
       "      <td>20240317_151922_long_comp_subj_3-1_t6b6_merged</td>\n",
       "      <td>[28, 60, 92, 111, 121, 154, 176]</td>\n",
       "      <td>[[1114.0, 3560.0, 6526.0, 8227.0, 9818.0, 1311...</td>\n",
       "    </tr>\n",
       "    <tr>\n",
       "      <th>1</th>\n",
       "      <td>rce_pilot_3</td>\n",
       "      <td>20240317_151922_long_comp_subj_3-1_and_3-3</td>\n",
       "      <td>[[2, 132], [1922, 2220], [4906, 5203], [6696, ...</td>\n",
       "      <td>[[2, 132], [387, 415], [463, 546], [548, 571],...</td>\n",
       "      <td>[]</td>\n",
       "      <td>20240317_151922_long_comp_subj_3-1_and_3-3.2.v...</td>\n",
       "      <td>NaN</td>\n",
       "      <td>/scratch/back_up/reward_competition_extention/...</td>\n",
       "      <td>20240317_151922_long_comp_subj_3-1_t6b6_merged</td>\n",
       "      <td>3.1</td>\n",
       "      <td>...</td>\n",
       "      <td>[]</td>\n",
       "      <td>[0, 20, 40, 60, 80, 100, 120, 140, 160, 180, 2...</td>\n",
       "      <td>[-477, -450, -317, -151, -133, -225, -300, -35...</td>\n",
       "      <td>[-194, -182, -107, -25, -51, -87, -7, 100, 120...</td>\n",
       "      <td>[49, 101, 208, 196, -11, -142, -43, 21, -79, -...</td>\n",
       "      <td>[158, 267, 411, 433, 314, 169, 169, 223, 216, ...</td>\n",
       "      <td>[8, 55, 209, 261, 75, -46, 31, 125, 87, -124, ...</td>\n",
       "      <td>20240317_151922_long_comp_subj_3-1_t6b6_merged</td>\n",
       "      <td>[28, 60, 92, 111, 121, 154, 176]</td>\n",
       "      <td>[[1114.0, 3560.0, 6526.0, 8227.0, 9818.0, 1311...</td>\n",
       "    </tr>\n",
       "    <tr>\n",
       "      <th>2</th>\n",
       "      <td>rce_pilot_3</td>\n",
       "      <td>20240317_151922_long_comp_subj_3-1_and_3-3</td>\n",
       "      <td>[[1, 88], [1286, 1486], [3282, 3482], [4480, 4...</td>\n",
       "      <td>[[1, 88], [259, 278], [310, 365], [366, 382], ...</td>\n",
       "      <td>[]</td>\n",
       "      <td>20240317_151922_long_comp_subj_3-1_and_3-3.1.v...</td>\n",
       "      <td>NaN</td>\n",
       "      <td>/scratch/back_up/reward_competition_extention/...</td>\n",
       "      <td>20240317_151922_long_comp_subj_3-3_t5b5_merged</td>\n",
       "      <td>3.3</td>\n",
       "      <td>...</td>\n",
       "      <td>[]</td>\n",
       "      <td>[0, 20, 40, 60, 80, 100, 120, 140, 160, 180, 2...</td>\n",
       "      <td>[326, 357, 376, 297, 190, 98, -86, -341, -523,...</td>\n",
       "      <td>[0, -36, -79, -105, -51, 45, -19, -170, -282, ...</td>\n",
       "      <td>[-61, -88, -144, -191, -163, -135, -234, -337,...</td>\n",
       "      <td>[-47, -43, -92, -193, -174, -112, -212, -285, ...</td>\n",
       "      <td>[-165, -114, -123, -214, -216, -190, -200, -19...</td>\n",
       "      <td>20240317_151922_long_comp_subj_3-3_t5b5_merged</td>\n",
       "      <td>[115, 125, 130, 149, 153, 181, 192, 210, 252, ...</td>\n",
       "      <td>[[133283.0, 149549.0, 389691.0, 566137.0, 7777...</td>\n",
       "    </tr>\n",
       "    <tr>\n",
       "      <th>3</th>\n",
       "      <td>rce_pilot_3</td>\n",
       "      <td>20240317_151922_long_comp_subj_3-1_and_3-3</td>\n",
       "      <td>[[2, 132], [1922, 2220], [4906, 5203], [6696, ...</td>\n",
       "      <td>[[2, 132], [387, 415], [463, 546], [548, 571],...</td>\n",
       "      <td>[]</td>\n",
       "      <td>20240317_151922_long_comp_subj_3-1_and_3-3.2.v...</td>\n",
       "      <td>NaN</td>\n",
       "      <td>/scratch/back_up/reward_competition_extention/...</td>\n",
       "      <td>20240317_151922_long_comp_subj_3-3_t5b5_merged</td>\n",
       "      <td>3.3</td>\n",
       "      <td>...</td>\n",
       "      <td>[]</td>\n",
       "      <td>[0, 20, 40, 60, 80, 100, 120, 140, 160, 180, 2...</td>\n",
       "      <td>[326, 357, 376, 297, 190, 98, -86, -341, -523,...</td>\n",
       "      <td>[0, -36, -79, -105, -51, 45, -19, -170, -282, ...</td>\n",
       "      <td>[-61, -88, -144, -191, -163, -135, -234, -337,...</td>\n",
       "      <td>[-47, -43, -92, -193, -174, -112, -212, -285, ...</td>\n",
       "      <td>[-165, -114, -123, -214, -216, -190, -200, -19...</td>\n",
       "      <td>20240317_151922_long_comp_subj_3-3_t5b5_merged</td>\n",
       "      <td>[115, 125, 130, 149, 153, 181, 192, 210, 252, ...</td>\n",
       "      <td>[[133283.0, 149549.0, 389691.0, 566137.0, 7777...</td>\n",
       "    </tr>\n",
       "    <tr>\n",
       "      <th>4</th>\n",
       "      <td>rce_pilot_3</td>\n",
       "      <td>20240317_172017_long_comp_subj_4-2_and_4-3</td>\n",
       "      <td>[[1, 102], [1300, 1501], [3297, 3497], [4494, ...</td>\n",
       "      <td>[[1, 102], [115, 153], [191, 245], [261, 263],...</td>\n",
       "      <td>[]</td>\n",
       "      <td>20240317_172017_long_comp_subj_4-2_and_4-3.1.v...</td>\n",
       "      <td>NaN</td>\n",
       "      <td>/scratch/back_up/reward_competition_extention/...</td>\n",
       "      <td>20240317_172017_long_comp_subj_4-2_t6b6_merged</td>\n",
       "      <td>4.2</td>\n",
       "      <td>...</td>\n",
       "      <td>[]</td>\n",
       "      <td>[0, 20, 40, 60, 80, 100, 120, 140, 160, 180, 2...</td>\n",
       "      <td>[106, -113, -254, -184, -212, -375, -806, -122...</td>\n",
       "      <td>[-79, -352, -360, -153, -309, -498, -569, -107...</td>\n",
       "      <td>[17, -11, 582, 1101, -66, -1574, -1277, 243, 1...</td>\n",
       "      <td>[52, 70, 733, 1260, -39, -1683, -1303, 388, 14...</td>\n",
       "      <td>[138, 246, 340, 288, 307, 350, 339, 377, 308, ...</td>\n",
       "      <td>20240317_172017_long_comp_subj_4-2_t6b6_merged</td>\n",
       "      <td>[14, 78, 86, 90, 92, 98, 156, 160, 164, 170, 171]</td>\n",
       "      <td>[[22254.0, 42212.0, 120537.0, 138307.0, 149615...</td>\n",
       "    </tr>\n",
       "  </tbody>\n",
       "</table>\n",
       "<p>5 rows × 27 columns</p>\n",
       "</div>"
      ],
      "text/plain": [
       "        cohort                                 session_dir  \\\n",
       "0  rce_pilot_3  20240317_151922_long_comp_subj_3-1_and_3-3   \n",
       "1  rce_pilot_3  20240317_151922_long_comp_subj_3-1_and_3-3   \n",
       "2  rce_pilot_3  20240317_151922_long_comp_subj_3-1_and_3-3   \n",
       "3  rce_pilot_3  20240317_151922_long_comp_subj_3-1_and_3-3   \n",
       "4  rce_pilot_3  20240317_172017_long_comp_subj_4-2_and_4-3   \n",
       "\n",
       "                                         tone_frames  \\\n",
       "0  [[1, 88], [1286, 1486], [3282, 3482], [4480, 4...   \n",
       "1  [[2, 132], [1922, 2220], [4906, 5203], [6696, ...   \n",
       "2  [[1, 88], [1286, 1486], [3282, 3482], [4480, 4...   \n",
       "3  [[2, 132], [1922, 2220], [4906, 5203], [6696, ...   \n",
       "4  [[1, 102], [1300, 1501], [3297, 3497], [4494, ...   \n",
       "\n",
       "                             box_1_port_entry_frames box_2_port_entry_frames  \\\n",
       "0  [[1, 88], [259, 278], [310, 365], [366, 382], ...                      []   \n",
       "1  [[2, 132], [387, 415], [463, 546], [548, 571],...                      []   \n",
       "2  [[1, 88], [259, 278], [310, 365], [366, 382], ...                      []   \n",
       "3  [[2, 132], [387, 415], [463, 546], [548, 571],...                      []   \n",
       "4  [[1, 102], [115, 153], [191, 245], [261, 263],...                      []   \n",
       "\n",
       "                                          video_name notes  \\\n",
       "0  20240317_151922_long_comp_subj_3-1_and_3-3.1.v...   NaN   \n",
       "1  20240317_151922_long_comp_subj_3-1_and_3-3.2.v...   NaN   \n",
       "2  20240317_151922_long_comp_subj_3-1_and_3-3.1.v...   NaN   \n",
       "3  20240317_151922_long_comp_subj_3-1_and_3-3.2.v...   NaN   \n",
       "4  20240317_172017_long_comp_subj_4-2_and_4-3.1.v...   NaN   \n",
       "\n",
       "                                        session_path  \\\n",
       "0  /scratch/back_up/reward_competition_extention/...   \n",
       "1  /scratch/back_up/reward_competition_extention/...   \n",
       "2  /scratch/back_up/reward_competition_extention/...   \n",
       "3  /scratch/back_up/reward_competition_extention/...   \n",
       "4  /scratch/back_up/reward_competition_extention/...   \n",
       "\n",
       "                                        recording current_subject  ...  \\\n",
       "0  20240317_151922_long_comp_subj_3-1_t6b6_merged             3.1  ...   \n",
       "1  20240317_151922_long_comp_subj_3-1_t6b6_merged             3.1  ...   \n",
       "2  20240317_151922_long_comp_subj_3-3_t5b5_merged             3.3  ...   \n",
       "3  20240317_151922_long_comp_subj_3-3_t5b5_merged             3.3  ...   \n",
       "4  20240317_172017_long_comp_subj_4-2_t6b6_merged             4.2  ...   \n",
       "\n",
       "  box_2_port_entry_timestamps  \\\n",
       "0                          []   \n",
       "1                          []   \n",
       "2                          []   \n",
       "3                          []   \n",
       "4                          []   \n",
       "\n",
       "                                      lfp_timestamps  \\\n",
       "0  [0, 20, 40, 60, 80, 100, 120, 140, 160, 180, 2...   \n",
       "1  [0, 20, 40, 60, 80, 100, 120, 140, 160, 180, 2...   \n",
       "2  [0, 20, 40, 60, 80, 100, 120, 140, 160, 180, 2...   \n",
       "3  [0, 20, 40, 60, 80, 100, 120, 140, 160, 180, 2...   \n",
       "4  [0, 20, 40, 60, 80, 100, 120, 140, 160, 180, 2...   \n",
       "\n",
       "                                      vHPC_lfp_trace  \\\n",
       "0  [-477, -450, -317, -151, -133, -225, -300, -35...   \n",
       "1  [-477, -450, -317, -151, -133, -225, -300, -35...   \n",
       "2  [326, 357, 376, 297, 190, 98, -86, -341, -523,...   \n",
       "3  [326, 357, 376, 297, 190, 98, -86, -341, -523,...   \n",
       "4  [106, -113, -254, -184, -212, -375, -806, -122...   \n",
       "\n",
       "                                       BLA_lfp_trace  \\\n",
       "0  [-194, -182, -107, -25, -51, -87, -7, 100, 120...   \n",
       "1  [-194, -182, -107, -25, -51, -87, -7, 100, 120...   \n",
       "2  [0, -36, -79, -105, -51, 45, -19, -170, -282, ...   \n",
       "3  [0, -36, -79, -105, -51, 45, -19, -170, -282, ...   \n",
       "4  [-79, -352, -360, -153, -309, -498, -569, -107...   \n",
       "\n",
       "                                        LH_lfp_trace  \\\n",
       "0  [49, 101, 208, 196, -11, -142, -43, 21, -79, -...   \n",
       "1  [49, 101, 208, 196, -11, -142, -43, 21, -79, -...   \n",
       "2  [-61, -88, -144, -191, -163, -135, -234, -337,...   \n",
       "3  [-61, -88, -144, -191, -163, -135, -234, -337,...   \n",
       "4  [17, -11, 582, 1101, -66, -1574, -1277, 243, 1...   \n",
       "\n",
       "                                        MD_lfp_trace  \\\n",
       "0  [158, 267, 411, 433, 314, 169, 169, 223, 216, ...   \n",
       "1  [158, 267, 411, 433, 314, 169, 169, 223, 216, ...   \n",
       "2  [-47, -43, -92, -193, -174, -112, -212, -285, ...   \n",
       "3  [-47, -43, -92, -193, -174, -112, -212, -285, ...   \n",
       "4  [52, 70, 733, 1260, -39, -1683, -1303, 388, 14...   \n",
       "\n",
       "                                      mPFC_lfp_trace  \\\n",
       "0  [8, 55, 209, 261, 75, -46, 31, 125, 87, -124, ...   \n",
       "1  [8, 55, 209, 261, 75, -46, 31, 125, 87, -124, ...   \n",
       "2  [-165, -114, -123, -214, -216, -190, -200, -19...   \n",
       "3  [-165, -114, -123, -214, -216, -190, -200, -19...   \n",
       "4  [138, 246, 340, 288, 307, 350, 339, 377, 308, ...   \n",
       "\n",
       "                                   recording_name  \\\n",
       "0  20240317_151922_long_comp_subj_3-1_t6b6_merged   \n",
       "1  20240317_151922_long_comp_subj_3-1_t6b6_merged   \n",
       "2  20240317_151922_long_comp_subj_3-3_t5b5_merged   \n",
       "3  20240317_151922_long_comp_subj_3-3_t5b5_merged   \n",
       "4  20240317_172017_long_comp_subj_4-2_t6b6_merged   \n",
       "\n",
       "                                      spike_clusters  \\\n",
       "0                   [28, 60, 92, 111, 121, 154, 176]   \n",
       "1                   [28, 60, 92, 111, 121, 154, 176]   \n",
       "2  [115, 125, 130, 149, 153, 181, 192, 210, 252, ...   \n",
       "3  [115, 125, 130, 149, 153, 181, 192, 210, 252, ...   \n",
       "4  [14, 78, 86, 90, 92, 98, 156, 160, 164, 170, 171]   \n",
       "\n",
       "                                         spike_times  \n",
       "0  [[1114.0, 3560.0, 6526.0, 8227.0, 9818.0, 1311...  \n",
       "1  [[1114.0, 3560.0, 6526.0, 8227.0, 9818.0, 1311...  \n",
       "2  [[133283.0, 149549.0, 389691.0, 566137.0, 7777...  \n",
       "3  [[133283.0, 149549.0, 389691.0, 566137.0, 7777...  \n",
       "4  [[22254.0, 42212.0, 120537.0, 138307.0, 149615...  \n",
       "\n",
       "[5 rows x 27 columns]"
      ]
     },
     "execution_count": 45,
     "metadata": {},
     "output_type": "execute_result"
    }
   ],
   "source": [
    "LFP_SPECTRAL_DF.head()"
   ]
  },
  {
   "cell_type": "code",
   "execution_count": null,
   "metadata": {
    "tags": []
   },
   "outputs": [],
   "source": [
    "LFP_SPECTRAL_DF[\"neuron_average_fr\"] = LFP_SPECTRAL_DF.apply(lambda x: np.array([neuron.spikes.calculate_rolling_avg_firing_rate(np.array(times[~np.isnan(times)]), stop_time=x[\"last_timestamp\"] - x[\"first_timestamp\"], window_size=SPIKE_WINDOW, slide=SPIKE_WINDOW)[0] for times in x[\"spike_times\"]]), axis=1)\n"
   ]
  },
  {
   "cell_type": "code",
   "execution_count": null,
   "metadata": {
    "tags": []
   },
   "outputs": [],
   "source": [
    "LFP_SPECTRAL_DF[\"neuron_average_timestamps\"] = LFP_SPECTRAL_DF.apply(lambda x: neuron.spikes.calculate_rolling_avg_firing_rate(x[\"spike_times\"][0][~np.isnan(x[\"spike_times\"][0])], stop_time=x[\"last_timestamp\"] - x[\"first_timestamp\"], window_size=SPIKE_WINDOW, slide=SPIKE_WINDOW)[1], axis=1)"
   ]
  },
  {
   "cell_type": "code",
   "execution_count": null,
   "metadata": {
    "tags": []
   },
   "outputs": [],
   "source": [
    "LFP_SPECTRAL_DF[\"neuron_average_fr\"] = LFP_SPECTRAL_DF.apply(lambda x: x[\"neuron_average_fr\"] * SPIKE_WINDOW, axis=1)"
   ]
  },
  {
   "cell_type": "code",
   "execution_count": null,
   "metadata": {
    "tags": []
   },
   "outputs": [],
   "source": [
    "LFP_SPECTRAL_DF.iloc[:5,:10]"
   ]
  },
  {
   "cell_type": "code",
   "execution_count": null,
   "metadata": {
    "tags": []
   },
   "outputs": [],
   "source": [
    "LFP_SPECTRAL_DF.iloc[:5,10:20]"
   ]
  },
  {
   "cell_type": "code",
   "execution_count": null,
   "metadata": {
    "tags": []
   },
   "outputs": [],
   "source": [
    "LFP_SPECTRAL_DF.iloc[:5,20:30]"
   ]
  },
  {
   "cell_type": "code",
   "execution_count": null,
   "metadata": {
    "tags": []
   },
   "outputs": [],
   "source": [
    "LFP_SPECTRAL_DF.iloc[:5, 30:]"
   ]
  },
  {
   "cell_type": "code",
   "execution_count": null,
   "metadata": {},
   "outputs": [],
   "source": [
    "LFP_SPECTRAL_DF[\"neuron_average_timestamps\"].iloc[0].shape"
   ]
  },
  {
   "cell_type": "code",
   "execution_count": null,
   "metadata": {},
   "outputs": [],
   "source": [
    "LFP_SPECTRAL_DF[\"neuron_average_fr\"].iloc[0].shape"
   ]
  },
  {
   "cell_type": "code",
   "execution_count": null,
   "metadata": {},
   "outputs": [],
   "source": [
    "np.max(LFP_SPECTRAL_DF[\"neuron_average_fr\"].iloc[0])"
   ]
  },
  {
   "cell_type": "code",
   "execution_count": null,
   "metadata": {},
   "outputs": [],
   "source": [
    "LFP_SPECTRAL_DF.to_pickle(os.path.join(\"./proc\", FULL_LFP_TRACES_PKL))"
   ]
  },
  {
   "cell_type": "code",
   "execution_count": null,
   "metadata": {},
   "outputs": [],
   "source": [
    "LFP_SPECTRAL_DF.columns"
   ]
  },
  {
   "cell_type": "code",
   "execution_count": null,
   "metadata": {},
   "outputs": [],
   "source": [
    "LFP_SPECTRAL_DF[\"spike_clusters\"].iloc[0]"
   ]
  },
  {
   "cell_type": "code",
   "execution_count": null,
   "metadata": {},
   "outputs": [],
   "source": [
    "LFP_SPECTRAL_DF[\"spike_times\"].iloc[0].shape"
   ]
  },
  {
   "cell_type": "code",
   "execution_count": null,
   "metadata": {
    "tags": []
   },
   "outputs": [],
   "source": [
    "raise ValueError(\"\")"
   ]
  },
  {
   "cell_type": "code",
   "execution_count": null,
   "metadata": {},
   "outputs": [],
   "source": []
  }
 ],
 "metadata": {
  "deepnote": {},
  "deepnote_execution_queue": [],
  "deepnote_notebook_id": "cf8fe3695d074ee7887fdf6459cbf5ce",
  "kernelspec": {
   "display_name": "mountainsort_0_5_6",
   "language": "python",
   "name": "python3"
  },
  "language_info": {
   "codemirror_mode": {
    "name": "ipython",
    "version": 3
   },
   "file_extension": ".py",
   "mimetype": "text/x-python",
   "name": "python",
   "nbconvert_exporter": "python",
   "pygments_lexer": "ipython3",
   "version": "3.9.19"
  }
 },
 "nbformat": 4,
 "nbformat_minor": 4
}
