{
 "cells": [
  {
   "cell_type": "markdown",
   "metadata": {
    "cell_id": "c3a02adc9e884466bc8c79db549cc3d2",
    "deepnote_cell_type": "text-cell-h1",
    "formattedRanges": [
     {
      "fromCodePoint": 0,
      "marks": {
       "bold": true,
       "underline": true
      },
      "toCodePoint": 17,
      "type": "marks"
     }
    ]
   },
   "source": [
    "# Spike Train Calculation"
   ]
  },
  {
   "cell_type": "markdown",
   "metadata": {
    "cell_id": "4546bee655b14a5dbf393161f1228e60",
    "deepnote_cell_type": "text-cell-p",
    "formattedRanges": []
   },
   "source": [
    "Brief 1-2 sentence description of notebook."
   ]
  },
  {
   "cell_type": "code",
   "execution_count": 1,
   "metadata": {
    "tags": []
   },
   "outputs": [],
   "source": [
    "import os\n",
    "import glob\n",
    "import git\n",
    "import sys\n"
   ]
  },
  {
   "cell_type": "code",
   "execution_count": 2,
   "metadata": {
    "cell_id": "03b495cefa6a4798a44c7f2e4c6a3ea7",
    "deepnote_cell_type": "code",
    "deepnote_to_be_reexecuted": false,
    "execution_millis": 21,
    "execution_start": 1691424003626,
    "source_hash": null,
    "tags": []
   },
   "outputs": [],
   "source": [
    "# Imports of all used packages and libraries\n",
    "import numpy as np\n",
    "import pandas as pd\n",
    "# import seaborn as sns\n",
    "import matplotlib as mpl\n",
    "import matplotlib.pyplot as plt\n",
    "import h5py\n",
    "from scipy.interpolate import interp1d\n",
    "from scipy.signal import savgol_filter\n"
   ]
  },
  {
   "cell_type": "code",
   "execution_count": 3,
   "metadata": {
    "tags": []
   },
   "outputs": [],
   "source": [
    "git_repo = git.Repo(\".\", search_parent_directories=True)\n",
    "git_root = git_repo.git.rev_parse(\"--show-toplevel\")"
   ]
  },
  {
   "cell_type": "code",
   "execution_count": 4,
   "metadata": {
    "tags": []
   },
   "outputs": [
    {
     "data": {
      "text/plain": [
       "'/nancy/user/riwata/projects/reward_comp_ext'"
      ]
     },
     "execution_count": 4,
     "metadata": {},
     "output_type": "execute_result"
    }
   ],
   "source": [
    "git_root"
   ]
  },
  {
   "cell_type": "code",
   "execution_count": 5,
   "metadata": {
    "tags": []
   },
   "outputs": [],
   "source": [
    "sys.path.insert(0, os.path.join(git_root, 'src'))"
   ]
  },
  {
   "cell_type": "code",
   "execution_count": 6,
   "metadata": {
    "tags": []
   },
   "outputs": [],
   "source": [
    "import neuron.spikes"
   ]
  },
  {
   "cell_type": "code",
   "execution_count": 7,
   "metadata": {
    "tags": []
   },
   "outputs": [],
   "source": [
    "# sns.set('notebook', 'ticks', font_scale=1.2)\n",
    "mpl.rcParams['figure.figsize'] = [15,6]"
   ]
  },
  {
   "cell_type": "markdown",
   "metadata": {},
   "source": [
    "## Functions"
   ]
  },
  {
   "cell_type": "code",
   "execution_count": 8,
   "metadata": {
    "tags": []
   },
   "outputs": [],
   "source": [
    "def filter_spike_times(arr_2d, start, stop, padding=-1):\n",
    "    \"\"\"\n",
    "    Filters a 2D array based on a start and stop condition and pads shorter arrays to match the length of the longest array.\n",
    "\n",
    "    Parameters:\n",
    "    arr_2d (numpy.ndarray): 2D array to be filtered and padded.\n",
    "    start (int or float): Lower bound of the condition.\n",
    "    stop (int or float): Upper bound of the condition.\n",
    "    padding (int or float): Value to use for padding, defaults to -1.\n",
    "\n",
    "    Returns:\n",
    "    numpy.ndarray: A 2D array where each inner array has been filtered based on the condition and padded to match the length of the longest array.\n",
    "    \"\"\"\n",
    "\n",
    "    # Filter each row in arr_2d based on the condition\n",
    "    masked_data = [row[(row >= start) & (row < stop)] for row in arr_2d]\n",
    "\n",
    "    # Determine the maximum length of arrays in the list\n",
    "    max_length = max(len(arr) for arr in masked_data)\n",
    "\n",
    "    # Pad each array in masked_data with the padding value so they all have the same length (max_length)\n",
    "    padded_arrays = [np.concatenate([x, np.full([max_length - len(x)], padding)]) for x in masked_data]\n",
    "\n",
    "    # Convert the list of arrays to a 2D numpy array\n",
    "    padded_arrays = np.array(padded_arrays)\n",
    "\n",
    "    return padded_arrays"
   ]
  },
  {
   "cell_type": "markdown",
   "metadata": {
    "cell_id": "d290bac2c17940bfbc0f9296beaf70e5",
    "deepnote_cell_type": "text-cell-h2",
    "formattedRanges": []
   },
   "source": [
    "## Inputs & Data"
   ]
  },
  {
   "cell_type": "markdown",
   "metadata": {
    "cell_id": "e528ce19c608425292151930d380f49f",
    "deepnote_cell_type": "text-cell-p",
    "formattedRanges": []
   },
   "source": [
    "Explanation of each input and where it comes from."
   ]
  },
  {
   "cell_type": "code",
   "execution_count": 9,
   "metadata": {
    "cell_id": "6cf83a5811054461a718a71673d09aab",
    "deepnote_cell_type": "code",
    "deepnote_to_be_reexecuted": false,
    "execution_millis": 373,
    "execution_start": 1691424003628,
    "source_hash": null,
    "tags": []
   },
   "outputs": [],
   "source": [
    "# Inputs and Required data loading\n",
    "# input varaible names are in all caps snake case\n",
    "# Whenever an input changes or is used for processing \n",
    "# the vairables are all lower in snake case\n",
    "\n",
    "LFP_SPECTRAL_DF = pd.read_pickle(\"/nancy/user/riwata/projects/reward_comp_ext/results/2024_11_13_extract_lfp/proc/rce_pilot_2_standard_01_lfp_traces_and_frames.pkl\")\n",
    "\n",
    "# ALL_PHY_DIR = glob.glob(\"/scratch/back_up/reward_competition_extention/final_proc/phy_curation/*\")\n",
    "ALL_PHY_DIR = glob.glob(\"/scratch/back_up/reward_competition_extention/final_proc/phy_curation/rce2/*\")\n",
    "\n",
    "\n",
    "OUTPUT_DIR = r\"./proc\" # where data is saved should always be shown in the inputs\n",
    "\n",
    "SAMPLING_RATE = 20000\n",
    "SPIKE_WINDOW = 2000"
   ]
  },
  {
   "cell_type": "code",
   "execution_count": 10,
   "metadata": {
    "tags": []
   },
   "outputs": [
    {
     "data": {
      "text/html": [
       "<div>\n",
       "<style scoped>\n",
       "    .dataframe tbody tr th:only-of-type {\n",
       "        vertical-align: middle;\n",
       "    }\n",
       "\n",
       "    .dataframe tbody tr th {\n",
       "        vertical-align: top;\n",
       "    }\n",
       "\n",
       "    .dataframe thead th {\n",
       "        text-align: right;\n",
       "    }\n",
       "</style>\n",
       "<table border=\"1\" class=\"dataframe\">\n",
       "  <thead>\n",
       "    <tr style=\"text-align: right;\">\n",
       "      <th></th>\n",
       "      <th>cohort</th>\n",
       "      <th>session_dir</th>\n",
       "      <th>tone_frames</th>\n",
       "      <th>box_1_port_entry_frames</th>\n",
       "      <th>box_2_port_entry_frames</th>\n",
       "      <th>video_name</th>\n",
       "      <th>session_path</th>\n",
       "      <th>recording</th>\n",
       "      <th>current_subject</th>\n",
       "      <th>subject</th>\n",
       "      <th>...</th>\n",
       "      <th>video_timestamps</th>\n",
       "      <th>tone_timestamps</th>\n",
       "      <th>box_1_port_entry_timestamps</th>\n",
       "      <th>box_2_port_entry_timestamps</th>\n",
       "      <th>lfp_timestamps</th>\n",
       "      <th>mPFC_lfp_trace</th>\n",
       "      <th>MD_lfp_trace</th>\n",
       "      <th>LH_lfp_trace</th>\n",
       "      <th>BLA_lfp_trace</th>\n",
       "      <th>vHPC_lfp_trace</th>\n",
       "    </tr>\n",
       "  </thead>\n",
       "  <tbody>\n",
       "    <tr>\n",
       "      <th>0</th>\n",
       "      <td>2</td>\n",
       "      <td>20230612_101430_standard_comp_to_training_D1_s...</td>\n",
       "      <td>[[980, 1181], [3376, 3575], [5672, 5871], [746...</td>\n",
       "      <td>[[490, 514], [518, 558], [558, 637], [638, 640...</td>\n",
       "      <td>[[33137, 33147], [33665, 33666], [33668, 33669...</td>\n",
       "      <td>20230612_101430_standard_comp_to_training_D1_s...</td>\n",
       "      <td>/scratch/back_up/reward_competition_extention/...</td>\n",
       "      <td>20230612_101430_standard_comp_to_training_D1_s...</td>\n",
       "      <td>1.3</td>\n",
       "      <td>1.3</td>\n",
       "      <td>...</td>\n",
       "      <td>[-2, 1384, 2770, 4156, 4156, 5542, 6928, 6928,...</td>\n",
       "      <td>[[982229, 1182226], [3382227, 3582224], [56822...</td>\n",
       "      <td>[[491029, 515227], [519426, 558629], [559427, ...</td>\n",
       "      <td>[[33082200, 33090003], [33565003, 33567000], [...</td>\n",
       "      <td>[0, 20, 40, 60, 80, 100, 120, 140, 160, 180, 2...</td>\n",
       "      <td>[489, 421, 500, 679, 635, 474, 382, 456, 562, ...</td>\n",
       "      <td>[236, 253, 386, 502, 398, 208, 115, 111, 51, -...</td>\n",
       "      <td>[315, 339, 420, 464, 367, 208, 133, 134, 89, 6...</td>\n",
       "      <td>[280, 279, 376, 442, 303, 102, -13, -22, -81, ...</td>\n",
       "      <td>[285, 407, 657, 874, 971, 959, 936, 955, 981, ...</td>\n",
       "    </tr>\n",
       "    <tr>\n",
       "      <th>1</th>\n",
       "      <td>2</td>\n",
       "      <td>20230612_101430_standard_comp_to_training_D1_s...</td>\n",
       "      <td>[[980, 1180], [3376, 3575], [5672, 5871], [746...</td>\n",
       "      <td>[[490, 514], [518, 558], [558, 637], [638, 640...</td>\n",
       "      <td>[[33021, 33027], [33502, 33503], [33504, 33506...</td>\n",
       "      <td>20230612_101430_standard_comp_to_training_D1_s...</td>\n",
       "      <td>/scratch/back_up/reward_competition_extention/...</td>\n",
       "      <td>20230612_101430_standard_comp_to_training_D1_s...</td>\n",
       "      <td>1.3</td>\n",
       "      <td>1.3</td>\n",
       "      <td>...</td>\n",
       "      <td>[-2, 1384, 2770, 4156, 4156, 5542, 6928, 6928,...</td>\n",
       "      <td>[[982229, 1182226], [3382227, 3582224], [56822...</td>\n",
       "      <td>[[491029, 515227], [519426, 558629], [559427, ...</td>\n",
       "      <td>[[33082200, 33090003], [33565003, 33567000], [...</td>\n",
       "      <td>[0, 20, 40, 60, 80, 100, 120, 140, 160, 180, 2...</td>\n",
       "      <td>[489, 421, 500, 679, 635, 474, 382, 456, 562, ...</td>\n",
       "      <td>[236, 253, 386, 502, 398, 208, 115, 111, 51, -...</td>\n",
       "      <td>[315, 339, 420, 464, 367, 208, 133, 134, 89, 6...</td>\n",
       "      <td>[280, 279, 376, 442, 303, 102, -13, -22, -81, ...</td>\n",
       "      <td>[285, 407, 657, 874, 971, 959, 936, 955, 981, ...</td>\n",
       "    </tr>\n",
       "    <tr>\n",
       "      <th>2</th>\n",
       "      <td>2</td>\n",
       "      <td>20230612_101430_standard_comp_to_training_D1_s...</td>\n",
       "      <td>[[980, 1181], [3376, 3575], [5672, 5871], [746...</td>\n",
       "      <td>[[490, 514], [518, 558], [558, 637], [638, 640...</td>\n",
       "      <td>[[33137, 33147], [33665, 33666], [33668, 33669...</td>\n",
       "      <td>20230612_101430_standard_comp_to_training_D1_s...</td>\n",
       "      <td>/scratch/back_up/reward_competition_extention/...</td>\n",
       "      <td>20230612_101430_standard_comp_to_training_D1_s...</td>\n",
       "      <td>1.4</td>\n",
       "      <td>1.4</td>\n",
       "      <td>...</td>\n",
       "      <td>[-2, 1384, 2770, 4156, 4156, 5542, 6928, 6928,...</td>\n",
       "      <td>[[982229, 1182226], [3382227, 3582224], [56822...</td>\n",
       "      <td>[[491029, 515227], [519426, 558629], [559427, ...</td>\n",
       "      <td>[[33082200, 33090003], [33565003, 33567000], [...</td>\n",
       "      <td>[0, 20, 40, 60, 80, 100, 120, 140, 160, 180, 2...</td>\n",
       "      <td>[102, 151, 170, 194, 233, 90, -173, -378, -460...</td>\n",
       "      <td>[151, 148, 133, 119, 110, 64, 4, -10, -27, -95...</td>\n",
       "      <td>[146, 130, 113, 117, 118, 71, 3, 3, 1, -96, -1...</td>\n",
       "      <td>[352, 463, 481, 367, 462, 639, 671, 673, 702, ...</td>\n",
       "      <td>[323, 445, 534, 446, 388, 465, 567, 532, 444, ...</td>\n",
       "    </tr>\n",
       "    <tr>\n",
       "      <th>3</th>\n",
       "      <td>2</td>\n",
       "      <td>20230612_101430_standard_comp_to_training_D1_s...</td>\n",
       "      <td>[[980, 1180], [3376, 3575], [5672, 5871], [746...</td>\n",
       "      <td>[[490, 514], [518, 558], [558, 637], [638, 640...</td>\n",
       "      <td>[[33021, 33027], [33502, 33503], [33504, 33506...</td>\n",
       "      <td>20230612_101430_standard_comp_to_training_D1_s...</td>\n",
       "      <td>/scratch/back_up/reward_competition_extention/...</td>\n",
       "      <td>20230612_101430_standard_comp_to_training_D1_s...</td>\n",
       "      <td>1.4</td>\n",
       "      <td>1.4</td>\n",
       "      <td>...</td>\n",
       "      <td>[-2, 1384, 2770, 4156, 4156, 5542, 6928, 6928,...</td>\n",
       "      <td>[[982229, 1182226], [3382227, 3582224], [56822...</td>\n",
       "      <td>[[491029, 515227], [519426, 558629], [559427, ...</td>\n",
       "      <td>[[33082200, 33090003], [33565003, 33567000], [...</td>\n",
       "      <td>[0, 20, 40, 60, 80, 100, 120, 140, 160, 180, 2...</td>\n",
       "      <td>[102, 151, 170, 194, 233, 90, -173, -378, -460...</td>\n",
       "      <td>[151, 148, 133, 119, 110, 64, 4, -10, -27, -95...</td>\n",
       "      <td>[146, 130, 113, 117, 118, 71, 3, 3, 1, -96, -1...</td>\n",
       "      <td>[352, 463, 481, 367, 462, 639, 671, 673, 702, ...</td>\n",
       "      <td>[323, 445, 534, 446, 388, 465, 567, 532, 444, ...</td>\n",
       "    </tr>\n",
       "    <tr>\n",
       "      <th>4</th>\n",
       "      <td>2</td>\n",
       "      <td>20230612_112630_standard_comp_to_training_D1_s...</td>\n",
       "      <td>[[1125, 1324], [3519, 3720], [5815, 6014], [76...</td>\n",
       "      <td>[[192, 248], [389, 405], [916, 929], [929, 948...</td>\n",
       "      <td>[[33019, 33020], [33246, 33251], [33253, 33255...</td>\n",
       "      <td>20230612_112630_standard_comp_to_training_D1_s...</td>\n",
       "      <td>/scratch/back_up/reward_competition_extention/...</td>\n",
       "      <td>20230612_112630_standard_comp_to_training_D1_s...</td>\n",
       "      <td>1.1</td>\n",
       "      <td>1.1</td>\n",
       "      <td>...</td>\n",
       "      <td>[1384, 2444, 2769, 4155, 5541, 6708, 6927, 831...</td>\n",
       "      <td>[[1126742, 1326741], [3526740, 3726740], [5826...</td>\n",
       "      <td>[[192745, 249350], [389747, 407142], [917544, ...</td>\n",
       "      <td>[[33037711, 33038706], [33264908, 33270313], [...</td>\n",
       "      <td>[0, 20, 40, 60, 80, 100, 120, 140, 160, 180, 2...</td>\n",
       "      <td>[-25, 109, 387, 581, 516, 265, 149, 242, 374, ...</td>\n",
       "      <td>[70, 188, 276, 173, 16, -81, -123, -215, -200,...</td>\n",
       "      <td>[41, 168, 288, 247, 151, 16, -102, -161, -119,...</td>\n",
       "      <td>[23, 46, 98, 135, 85, -84, -245, -236, -107, 4...</td>\n",
       "      <td>[176, 259, 227, -7, -163, -145, -34, -11, -150...</td>\n",
       "    </tr>\n",
       "  </tbody>\n",
       "</table>\n",
       "<p>5 rows × 23 columns</p>\n",
       "</div>"
      ],
      "text/plain": [
       "   cohort                                        session_dir  \\\n",
       "0       2  20230612_101430_standard_comp_to_training_D1_s...   \n",
       "1       2  20230612_101430_standard_comp_to_training_D1_s...   \n",
       "2       2  20230612_101430_standard_comp_to_training_D1_s...   \n",
       "3       2  20230612_101430_standard_comp_to_training_D1_s...   \n",
       "4       2  20230612_112630_standard_comp_to_training_D1_s...   \n",
       "\n",
       "                                         tone_frames  \\\n",
       "0  [[980, 1181], [3376, 3575], [5672, 5871], [746...   \n",
       "1  [[980, 1180], [3376, 3575], [5672, 5871], [746...   \n",
       "2  [[980, 1181], [3376, 3575], [5672, 5871], [746...   \n",
       "3  [[980, 1180], [3376, 3575], [5672, 5871], [746...   \n",
       "4  [[1125, 1324], [3519, 3720], [5815, 6014], [76...   \n",
       "\n",
       "                             box_1_port_entry_frames  \\\n",
       "0  [[490, 514], [518, 558], [558, 637], [638, 640...   \n",
       "1  [[490, 514], [518, 558], [558, 637], [638, 640...   \n",
       "2  [[490, 514], [518, 558], [558, 637], [638, 640...   \n",
       "3  [[490, 514], [518, 558], [558, 637], [638, 640...   \n",
       "4  [[192, 248], [389, 405], [916, 929], [929, 948...   \n",
       "\n",
       "                             box_2_port_entry_frames  \\\n",
       "0  [[33137, 33147], [33665, 33666], [33668, 33669...   \n",
       "1  [[33021, 33027], [33502, 33503], [33504, 33506...   \n",
       "2  [[33137, 33147], [33665, 33666], [33668, 33669...   \n",
       "3  [[33021, 33027], [33502, 33503], [33504, 33506...   \n",
       "4  [[33019, 33020], [33246, 33251], [33253, 33255...   \n",
       "\n",
       "                                          video_name  \\\n",
       "0  20230612_101430_standard_comp_to_training_D1_s...   \n",
       "1  20230612_101430_standard_comp_to_training_D1_s...   \n",
       "2  20230612_101430_standard_comp_to_training_D1_s...   \n",
       "3  20230612_101430_standard_comp_to_training_D1_s...   \n",
       "4  20230612_112630_standard_comp_to_training_D1_s...   \n",
       "\n",
       "                                        session_path  \\\n",
       "0  /scratch/back_up/reward_competition_extention/...   \n",
       "1  /scratch/back_up/reward_competition_extention/...   \n",
       "2  /scratch/back_up/reward_competition_extention/...   \n",
       "3  /scratch/back_up/reward_competition_extention/...   \n",
       "4  /scratch/back_up/reward_competition_extention/...   \n",
       "\n",
       "                                           recording current_subject subject  \\\n",
       "0  20230612_101430_standard_comp_to_training_D1_s...             1.3     1.3   \n",
       "1  20230612_101430_standard_comp_to_training_D1_s...             1.3     1.3   \n",
       "2  20230612_101430_standard_comp_to_training_D1_s...             1.4     1.4   \n",
       "3  20230612_101430_standard_comp_to_training_D1_s...             1.4     1.4   \n",
       "4  20230612_112630_standard_comp_to_training_D1_s...             1.1     1.1   \n",
       "\n",
       "   ...                                   video_timestamps  \\\n",
       "0  ...  [-2, 1384, 2770, 4156, 4156, 5542, 6928, 6928,...   \n",
       "1  ...  [-2, 1384, 2770, 4156, 4156, 5542, 6928, 6928,...   \n",
       "2  ...  [-2, 1384, 2770, 4156, 4156, 5542, 6928, 6928,...   \n",
       "3  ...  [-2, 1384, 2770, 4156, 4156, 5542, 6928, 6928,...   \n",
       "4  ...  [1384, 2444, 2769, 4155, 5541, 6708, 6927, 831...   \n",
       "\n",
       "                                     tone_timestamps  \\\n",
       "0  [[982229, 1182226], [3382227, 3582224], [56822...   \n",
       "1  [[982229, 1182226], [3382227, 3582224], [56822...   \n",
       "2  [[982229, 1182226], [3382227, 3582224], [56822...   \n",
       "3  [[982229, 1182226], [3382227, 3582224], [56822...   \n",
       "4  [[1126742, 1326741], [3526740, 3726740], [5826...   \n",
       "\n",
       "                         box_1_port_entry_timestamps  \\\n",
       "0  [[491029, 515227], [519426, 558629], [559427, ...   \n",
       "1  [[491029, 515227], [519426, 558629], [559427, ...   \n",
       "2  [[491029, 515227], [519426, 558629], [559427, ...   \n",
       "3  [[491029, 515227], [519426, 558629], [559427, ...   \n",
       "4  [[192745, 249350], [389747, 407142], [917544, ...   \n",
       "\n",
       "                         box_2_port_entry_timestamps  \\\n",
       "0  [[33082200, 33090003], [33565003, 33567000], [...   \n",
       "1  [[33082200, 33090003], [33565003, 33567000], [...   \n",
       "2  [[33082200, 33090003], [33565003, 33567000], [...   \n",
       "3  [[33082200, 33090003], [33565003, 33567000], [...   \n",
       "4  [[33037711, 33038706], [33264908, 33270313], [...   \n",
       "\n",
       "                                      lfp_timestamps  \\\n",
       "0  [0, 20, 40, 60, 80, 100, 120, 140, 160, 180, 2...   \n",
       "1  [0, 20, 40, 60, 80, 100, 120, 140, 160, 180, 2...   \n",
       "2  [0, 20, 40, 60, 80, 100, 120, 140, 160, 180, 2...   \n",
       "3  [0, 20, 40, 60, 80, 100, 120, 140, 160, 180, 2...   \n",
       "4  [0, 20, 40, 60, 80, 100, 120, 140, 160, 180, 2...   \n",
       "\n",
       "                                      mPFC_lfp_trace  \\\n",
       "0  [489, 421, 500, 679, 635, 474, 382, 456, 562, ...   \n",
       "1  [489, 421, 500, 679, 635, 474, 382, 456, 562, ...   \n",
       "2  [102, 151, 170, 194, 233, 90, -173, -378, -460...   \n",
       "3  [102, 151, 170, 194, 233, 90, -173, -378, -460...   \n",
       "4  [-25, 109, 387, 581, 516, 265, 149, 242, 374, ...   \n",
       "\n",
       "                                        MD_lfp_trace  \\\n",
       "0  [236, 253, 386, 502, 398, 208, 115, 111, 51, -...   \n",
       "1  [236, 253, 386, 502, 398, 208, 115, 111, 51, -...   \n",
       "2  [151, 148, 133, 119, 110, 64, 4, -10, -27, -95...   \n",
       "3  [151, 148, 133, 119, 110, 64, 4, -10, -27, -95...   \n",
       "4  [70, 188, 276, 173, 16, -81, -123, -215, -200,...   \n",
       "\n",
       "                                        LH_lfp_trace  \\\n",
       "0  [315, 339, 420, 464, 367, 208, 133, 134, 89, 6...   \n",
       "1  [315, 339, 420, 464, 367, 208, 133, 134, 89, 6...   \n",
       "2  [146, 130, 113, 117, 118, 71, 3, 3, 1, -96, -1...   \n",
       "3  [146, 130, 113, 117, 118, 71, 3, 3, 1, -96, -1...   \n",
       "4  [41, 168, 288, 247, 151, 16, -102, -161, -119,...   \n",
       "\n",
       "                                       BLA_lfp_trace  \\\n",
       "0  [280, 279, 376, 442, 303, 102, -13, -22, -81, ...   \n",
       "1  [280, 279, 376, 442, 303, 102, -13, -22, -81, ...   \n",
       "2  [352, 463, 481, 367, 462, 639, 671, 673, 702, ...   \n",
       "3  [352, 463, 481, 367, 462, 639, 671, 673, 702, ...   \n",
       "4  [23, 46, 98, 135, 85, -84, -245, -236, -107, 4...   \n",
       "\n",
       "                                      vHPC_lfp_trace  \n",
       "0  [285, 407, 657, 874, 971, 959, 936, 955, 981, ...  \n",
       "1  [285, 407, 657, 874, 971, 959, 936, 955, 981, ...  \n",
       "2  [323, 445, 534, 446, 388, 465, 567, 532, 444, ...  \n",
       "3  [323, 445, 534, 446, 388, 465, 567, 532, 444, ...  \n",
       "4  [176, 259, 227, -7, -163, -145, -34, -11, -150...  \n",
       "\n",
       "[5 rows x 23 columns]"
      ]
     },
     "execution_count": 10,
     "metadata": {},
     "output_type": "execute_result"
    }
   ],
   "source": [
    "LFP_SPECTRAL_DF.head()"
   ]
  },
  {
   "cell_type": "markdown",
   "metadata": {
    "cell_id": "e3ee4891d43a4ac287413afc552ca289",
    "deepnote_cell_type": "text-cell-h2",
    "formattedRanges": []
   },
   "source": [
    "## Outputs"
   ]
  },
  {
   "cell_type": "markdown",
   "metadata": {
    "cell_id": "9ccbf6cc70fd4d379fa29317f733771f",
    "deepnote_cell_type": "text-cell-p",
    "formattedRanges": []
   },
   "source": [
    "Describe each output that the notebook creates. "
   ]
  },
  {
   "cell_type": "markdown",
   "metadata": {
    "cell_id": "fc8e8920a6944918a15fac575cdf6e78",
    "deepnote_cell_type": "text-cell-bullet",
    "formattedRanges": []
   },
   "source": [
    "- Is it a plot or is it data?"
   ]
  },
  {
   "cell_type": "markdown",
   "metadata": {
    "cell_id": "1e639d4776a84aa9ac8ded2e14fa57db",
    "deepnote_cell_type": "text-cell-bullet",
    "formattedRanges": []
   },
   "source": [
    "- How valuable is the output and why is it valuable or useful?"
   ]
  },
  {
   "cell_type": "code",
   "execution_count": 11,
   "metadata": {
    "tags": []
   },
   "outputs": [],
   "source": [
    "# Inputs and Required data loading\n",
    "# input varaible names are in all caps snake case\n",
    "# Whenever an input changes or is used for processing \n",
    "# the vairables are all lower in snake case\n",
    "OUTPUT_DIR = r\"./proc/\" # where data is saved should always be shown in the inputs\n",
    "os.makedirs(OUTPUT_DIR, exist_ok=True)\n",
    "OUTPUT_PREFIX = \"rce_pilot_2_standard\""
   ]
  },
  {
   "cell_type": "code",
   "execution_count": 12,
   "metadata": {
    "tags": []
   },
   "outputs": [],
   "source": [
    "FULL_LFP_TRACES_PKL = \"{}_02_lfp_traces_and_spikes.pkl\".format(OUTPUT_PREFIX)"
   ]
  },
  {
   "cell_type": "markdown",
   "metadata": {
    "cell_id": "8999d19b6b7d4d63bc90f0b0bd9ab085",
    "deepnote_cell_type": "text-cell-h2",
    "formattedRanges": []
   },
   "source": [
    "## Processing"
   ]
  },
  {
   "cell_type": "markdown",
   "metadata": {
    "cell_id": "9b36cdf08567463082b005cb0dec684b",
    "deepnote_cell_type": "text-cell-p",
    "formattedRanges": []
   },
   "source": [
    "Describe what is done to the data here and how inputs are manipulated to generate outputs. "
   ]
  },
  {
   "cell_type": "markdown",
   "metadata": {},
   "source": [
    "# Reading in Phy"
   ]
  },
  {
   "cell_type": "markdown",
   "metadata": {},
   "source": [
    "- Reading in a spreadsheet of all the unit classifications\n",
    "    - They are divided up into good units, multi-units, and noise"
   ]
  },
  {
   "cell_type": "code",
   "execution_count": 13,
   "metadata": {
    "tags": []
   },
   "outputs": [
    {
     "data": {
      "text/plain": [
       "['/scratch/back_up/reward_competition_extention/final_proc/phy_curation/rce2/20230616_111904_standard_comp_to_training_D4_subj_1-4_t4b3L_box1_merged.rec',\n",
       " '/scratch/back_up/reward_competition_extention/final_proc/phy_curation/rce2/20230618_100636_standard_comp_to_omission_D2_subj_1_4_t4b3L_box1_merged.rec',\n",
       " '/scratch/back_up/reward_competition_extention/final_proc/phy_curation/rce2/20230622_110832_standard_comp_to_both_rewarded_D1_subj_1-1_t1b3L_box1_merged.rec',\n",
       " '/scratch/back_up/reward_competition_extention/final_proc/phy_curation/rce2/20230618_100636_standard_comp_to_omission_D2_subj_1_1_t1b2L_box2_merged.rec',\n",
       " '/scratch/back_up/reward_competition_extention/final_proc/phy_curation/rce2/20230624_105855_standard_comp_to_both_rewarded_D3_subj_1-1_t1b2L_box1_merged.rec',\n",
       " '/scratch/back_up/reward_competition_extention/final_proc/phy_curation/rce2/20230621_111240_standard_comp_to_omission_D5_subj_1-4_t3b3L_box1_merged.rec',\n",
       " '/scratch/back_up/reward_competition_extention/final_proc/phy_curation/rce2/20230620_114347_standard_comp_to_omission_D4_subj_1-1_t1b2L_box_2_merged.rec',\n",
       " '/scratch/back_up/reward_competition_extention/final_proc/phy_curation/rce2/20230617_115521_standard_comp_to_omission_D1_subj_1-2_t2b2L_box2_merged.rec',\n",
       " '/scratch/back_up/reward_competition_extention/final_proc/phy_curation/rce2/20230628_111202_standard_comp_to_novel_agent_D1_subj_1-1vs1-2and2-2_merged.rec',\n",
       " '/scratch/back_up/reward_competition_extention/final_proc/phy_curation/rce2/20230616_111904_standard_comp_to_training_D4_subj_1-2_t2b2L_box2_merged.rec',\n",
       " '/scratch/back_up/reward_competition_extention/final_proc/phy_curation/rce2/20230629_111937_standard_comp_to_novel_agent_D2_subj_1-1v1-4and2-1_merged.rec',\n",
       " '/scratch/back_up/reward_competition_extention/final_proc/phy_curation/rce2/20230628_111202_standard_comp_to_novel_agent_D1_subj_1-2vs1-1and2-1_merged.rec',\n",
       " '/scratch/back_up/reward_competition_extention/final_proc/phy_curation/rce2/20230617_115521_standard_comp_to_omission_D1_subj_1-1_t1b3L_box1_merged.rec',\n",
       " '/scratch/back_up/reward_competition_extention/final_proc/phy_curation/rce2/20230625_112913_standard_comp_to_both_rewarded_D4_subj_1-1_t1b2L_box1_merged.rec',\n",
       " '/scratch/back_up/reward_competition_extention/final_proc/phy_curation/rce2/20230620_114347_standard_comp_to_omission_D4_subj_1-2_t3b3L_box_1_merged.rec',\n",
       " '/scratch/back_up/reward_competition_extention/final_proc/phy_curation/rce2/20230622_110832_standard_comp_to_both_rewarded_D1_subj_1-2_t3b3L_box1_merged.rec',\n",
       " '/scratch/back_up/reward_competition_extention/final_proc/phy_curation/rce2/20230624_105855_standard_comp_to_both_rewarded_D3_subj_1-4_t3b3L_box1_merged.rec',\n",
       " '/scratch/back_up/reward_competition_extention/final_proc/phy_curation/rce2/20230619_115321_standard_comp_to_omission_D3_subj_1-4_t3b3L_box2_merged.rec',\n",
       " '/scratch/back_up/reward_competition_extention/final_proc/phy_curation/rce2/20230625_112913_standard_comp_to_both_rewarded_D4_subj_1-4_t3b3L_box1_merged.rec']"
      ]
     },
     "execution_count": 13,
     "metadata": {},
     "output_type": "execute_result"
    }
   ],
   "source": [
    "ALL_PHY_DIR"
   ]
  },
  {
   "cell_type": "code",
   "execution_count": 14,
   "metadata": {
    "tags": []
   },
   "outputs": [],
   "source": [
    "recording_to_cluster_info = {}\n",
    "for recording_dir in ALL_PHY_DIR:\n",
    "    try:\n",
    "        recording_basename = os.path.basename(recording_dir).strip(\".rec\")\n",
    "        file_path = os.path.join(recording_dir, \"phy\", \"cluster_info.tsv\")\n",
    "        recording_to_cluster_info[recording_basename] = pd.read_csv(file_path, sep=\"\\t\")\n",
    "    except Exception as e:\n",
    "        print(e)"
   ]
  },
  {
   "cell_type": "code",
   "execution_count": 15,
   "metadata": {
    "tags": []
   },
   "outputs": [
    {
     "data": {
      "text/html": [
       "<div>\n",
       "<style scoped>\n",
       "    .dataframe tbody tr th:only-of-type {\n",
       "        vertical-align: middle;\n",
       "    }\n",
       "\n",
       "    .dataframe tbody tr th {\n",
       "        vertical-align: top;\n",
       "    }\n",
       "\n",
       "    .dataframe thead th {\n",
       "        text-align: right;\n",
       "    }\n",
       "</style>\n",
       "<table border=\"1\" class=\"dataframe\">\n",
       "  <thead>\n",
       "    <tr style=\"text-align: right;\">\n",
       "      <th></th>\n",
       "      <th>cluster_id</th>\n",
       "      <th>1_5_ms_isi</th>\n",
       "      <th>1ms_isi</th>\n",
       "      <th>2ms_isi</th>\n",
       "      <th>amp</th>\n",
       "      <th>ch</th>\n",
       "      <th>channel_group</th>\n",
       "      <th>depth</th>\n",
       "      <th>fr</th>\n",
       "      <th>group</th>\n",
       "      <th>n_spikes</th>\n",
       "      <th>sh</th>\n",
       "      <th>si_unit_id</th>\n",
       "    </tr>\n",
       "  </thead>\n",
       "  <tbody>\n",
       "    <tr>\n",
       "      <th>0</th>\n",
       "      <td>8</td>\n",
       "      <td>0</td>\n",
       "      <td>0</td>\n",
       "      <td>1</td>\n",
       "      <td>9.198713</td>\n",
       "      <td>3</td>\n",
       "      <td>0</td>\n",
       "      <td>60.0</td>\n",
       "      <td>0.217516</td>\n",
       "      <td>mua</td>\n",
       "      <td>746</td>\n",
       "      <td>0</td>\n",
       "      <td>9</td>\n",
       "    </tr>\n",
       "    <tr>\n",
       "      <th>1</th>\n",
       "      <td>9</td>\n",
       "      <td>1</td>\n",
       "      <td>1</td>\n",
       "      <td>2</td>\n",
       "      <td>12.508228</td>\n",
       "      <td>3</td>\n",
       "      <td>0</td>\n",
       "      <td>60.0</td>\n",
       "      <td>1.605419</td>\n",
       "      <td>good</td>\n",
       "      <td>5506</td>\n",
       "      <td>0</td>\n",
       "      <td>10</td>\n",
       "    </tr>\n",
       "    <tr>\n",
       "      <th>2</th>\n",
       "      <td>19</td>\n",
       "      <td>1</td>\n",
       "      <td>0</td>\n",
       "      <td>2</td>\n",
       "      <td>13.435120</td>\n",
       "      <td>15</td>\n",
       "      <td>0</td>\n",
       "      <td>300.0</td>\n",
       "      <td>0.503261</td>\n",
       "      <td>good</td>\n",
       "      <td>1726</td>\n",
       "      <td>0</td>\n",
       "      <td>20</td>\n",
       "    </tr>\n",
       "    <tr>\n",
       "      <th>3</th>\n",
       "      <td>20</td>\n",
       "      <td>0</td>\n",
       "      <td>0</td>\n",
       "      <td>0</td>\n",
       "      <td>7.342390</td>\n",
       "      <td>20</td>\n",
       "      <td>0</td>\n",
       "      <td>400.0</td>\n",
       "      <td>0.219265</td>\n",
       "      <td>mua</td>\n",
       "      <td>752</td>\n",
       "      <td>0</td>\n",
       "      <td>22</td>\n",
       "    </tr>\n",
       "    <tr>\n",
       "      <th>4</th>\n",
       "      <td>21</td>\n",
       "      <td>47</td>\n",
       "      <td>10</td>\n",
       "      <td>122</td>\n",
       "      <td>10.664793</td>\n",
       "      <td>21</td>\n",
       "      <td>0</td>\n",
       "      <td>420.0</td>\n",
       "      <td>0.605604</td>\n",
       "      <td>noise</td>\n",
       "      <td>2077</td>\n",
       "      <td>0</td>\n",
       "      <td>23</td>\n",
       "    </tr>\n",
       "  </tbody>\n",
       "</table>\n",
       "</div>"
      ],
      "text/plain": [
       "   cluster_id  1_5_ms_isi  1ms_isi  2ms_isi        amp  ch  channel_group  \\\n",
       "0           8           0        0        1   9.198713   3              0   \n",
       "1           9           1        1        2  12.508228   3              0   \n",
       "2          19           1        0        2  13.435120  15              0   \n",
       "3          20           0        0        0   7.342390  20              0   \n",
       "4          21          47       10      122  10.664793  21              0   \n",
       "\n",
       "   depth        fr  group  n_spikes  sh  si_unit_id  \n",
       "0   60.0  0.217516    mua       746   0           9  \n",
       "1   60.0  1.605419   good      5506   0          10  \n",
       "2  300.0  0.503261   good      1726   0          20  \n",
       "3  400.0  0.219265    mua       752   0          22  \n",
       "4  420.0  0.605604  noise      2077   0          23  "
      ]
     },
     "execution_count": 15,
     "metadata": {},
     "output_type": "execute_result"
    }
   ],
   "source": [
    "recording_to_cluster_info[list(recording_to_cluster_info.keys())[1]].head()"
   ]
  },
  {
   "cell_type": "markdown",
   "metadata": {},
   "source": [
    "- Combining all the unit info dataframes and adding the recording name"
   ]
  },
  {
   "cell_type": "code",
   "execution_count": 16,
   "metadata": {
    "tags": []
   },
   "outputs": [],
   "source": [
    "recording_to_cluster_info_df = pd.concat(recording_to_cluster_info, names=['recording_name']).reset_index(level=1, drop=True).reset_index()\n"
   ]
  },
  {
   "cell_type": "code",
   "execution_count": 17,
   "metadata": {
    "tags": []
   },
   "outputs": [
    {
     "data": {
      "text/html": [
       "<div>\n",
       "<style scoped>\n",
       "    .dataframe tbody tr th:only-of-type {\n",
       "        vertical-align: middle;\n",
       "    }\n",
       "\n",
       "    .dataframe tbody tr th {\n",
       "        vertical-align: top;\n",
       "    }\n",
       "\n",
       "    .dataframe thead th {\n",
       "        text-align: right;\n",
       "    }\n",
       "</style>\n",
       "<table border=\"1\" class=\"dataframe\">\n",
       "  <thead>\n",
       "    <tr style=\"text-align: right;\">\n",
       "      <th></th>\n",
       "      <th>recording_name</th>\n",
       "      <th>cluster_id</th>\n",
       "      <th>1_5_ms_isi</th>\n",
       "      <th>1ms_isi</th>\n",
       "      <th>2ms_isi</th>\n",
       "      <th>amp</th>\n",
       "      <th>ch</th>\n",
       "      <th>channel_group</th>\n",
       "      <th>depth</th>\n",
       "      <th>fr</th>\n",
       "      <th>group</th>\n",
       "      <th>n_spikes</th>\n",
       "      <th>sh</th>\n",
       "      <th>si_unit_id</th>\n",
       "    </tr>\n",
       "  </thead>\n",
       "  <tbody>\n",
       "    <tr>\n",
       "      <th>0</th>\n",
       "      <td>20230616_111904_standard_comp_to_training_D4_s...</td>\n",
       "      <td>0</td>\n",
       "      <td>1</td>\n",
       "      <td>1</td>\n",
       "      <td>9</td>\n",
       "      <td>21.699682</td>\n",
       "      <td>0</td>\n",
       "      <td>0.0</td>\n",
       "      <td>0.0</td>\n",
       "      <td>1.868411</td>\n",
       "      <td>noise</td>\n",
       "      <td>6304</td>\n",
       "      <td>0</td>\n",
       "      <td>1.0</td>\n",
       "    </tr>\n",
       "    <tr>\n",
       "      <th>1</th>\n",
       "      <td>20230616_111904_standard_comp_to_training_D4_s...</td>\n",
       "      <td>6</td>\n",
       "      <td>19</td>\n",
       "      <td>12</td>\n",
       "      <td>34</td>\n",
       "      <td>8.349835</td>\n",
       "      <td>2</td>\n",
       "      <td>0.0</td>\n",
       "      <td>40.0</td>\n",
       "      <td>3.400128</td>\n",
       "      <td>mua</td>\n",
       "      <td>11472</td>\n",
       "      <td>0</td>\n",
       "      <td>7.0</td>\n",
       "    </tr>\n",
       "    <tr>\n",
       "      <th>2</th>\n",
       "      <td>20230616_111904_standard_comp_to_training_D4_s...</td>\n",
       "      <td>7</td>\n",
       "      <td>2</td>\n",
       "      <td>1</td>\n",
       "      <td>10</td>\n",
       "      <td>13.197960</td>\n",
       "      <td>2</td>\n",
       "      <td>0.0</td>\n",
       "      <td>40.0</td>\n",
       "      <td>11.119177</td>\n",
       "      <td>good</td>\n",
       "      <td>37516</td>\n",
       "      <td>0</td>\n",
       "      <td>8.0</td>\n",
       "    </tr>\n",
       "    <tr>\n",
       "      <th>3</th>\n",
       "      <td>20230616_111904_standard_comp_to_training_D4_s...</td>\n",
       "      <td>9</td>\n",
       "      <td>27</td>\n",
       "      <td>10</td>\n",
       "      <td>79</td>\n",
       "      <td>8.396154</td>\n",
       "      <td>3</td>\n",
       "      <td>0.0</td>\n",
       "      <td>60.0</td>\n",
       "      <td>5.852713</td>\n",
       "      <td>mua</td>\n",
       "      <td>19747</td>\n",
       "      <td>0</td>\n",
       "      <td>10.0</td>\n",
       "    </tr>\n",
       "    <tr>\n",
       "      <th>4</th>\n",
       "      <td>20230616_111904_standard_comp_to_training_D4_s...</td>\n",
       "      <td>10</td>\n",
       "      <td>8</td>\n",
       "      <td>1</td>\n",
       "      <td>27</td>\n",
       "      <td>7.519016</td>\n",
       "      <td>3</td>\n",
       "      <td>0.0</td>\n",
       "      <td>60.0</td>\n",
       "      <td>2.798170</td>\n",
       "      <td>mua</td>\n",
       "      <td>9441</td>\n",
       "      <td>0</td>\n",
       "      <td>11.0</td>\n",
       "    </tr>\n",
       "  </tbody>\n",
       "</table>\n",
       "</div>"
      ],
      "text/plain": [
       "                                      recording_name  cluster_id  1_5_ms_isi  \\\n",
       "0  20230616_111904_standard_comp_to_training_D4_s...           0           1   \n",
       "1  20230616_111904_standard_comp_to_training_D4_s...           6          19   \n",
       "2  20230616_111904_standard_comp_to_training_D4_s...           7           2   \n",
       "3  20230616_111904_standard_comp_to_training_D4_s...           9          27   \n",
       "4  20230616_111904_standard_comp_to_training_D4_s...          10           8   \n",
       "\n",
       "   1ms_isi  2ms_isi        amp  ch  channel_group  depth         fr  group  \\\n",
       "0        1        9  21.699682   0            0.0    0.0   1.868411  noise   \n",
       "1       12       34   8.349835   2            0.0   40.0   3.400128    mua   \n",
       "2        1       10  13.197960   2            0.0   40.0  11.119177   good   \n",
       "3       10       79   8.396154   3            0.0   60.0   5.852713    mua   \n",
       "4        1       27   7.519016   3            0.0   60.0   2.798170    mua   \n",
       "\n",
       "   n_spikes  sh  si_unit_id  \n",
       "0      6304   0         1.0  \n",
       "1     11472   0         7.0  \n",
       "2     37516   0         8.0  \n",
       "3     19747   0        10.0  \n",
       "4      9441   0        11.0  "
      ]
     },
     "execution_count": 17,
     "metadata": {},
     "output_type": "execute_result"
    }
   ],
   "source": [
    "recording_to_cluster_info_df.head()"
   ]
  },
  {
   "cell_type": "markdown",
   "metadata": {},
   "source": [
    "- Filtering for the good units"
   ]
  },
  {
   "cell_type": "code",
   "execution_count": 18,
   "metadata": {
    "tags": []
   },
   "outputs": [],
   "source": [
    "good_unit_cluster_info_df = recording_to_cluster_info_df[recording_to_cluster_info_df[\"group\"] == \"good\"].reset_index(drop=True)"
   ]
  },
  {
   "cell_type": "code",
   "execution_count": 19,
   "metadata": {
    "tags": []
   },
   "outputs": [
    {
     "data": {
      "text/html": [
       "<div>\n",
       "<style scoped>\n",
       "    .dataframe tbody tr th:only-of-type {\n",
       "        vertical-align: middle;\n",
       "    }\n",
       "\n",
       "    .dataframe tbody tr th {\n",
       "        vertical-align: top;\n",
       "    }\n",
       "\n",
       "    .dataframe thead th {\n",
       "        text-align: right;\n",
       "    }\n",
       "</style>\n",
       "<table border=\"1\" class=\"dataframe\">\n",
       "  <thead>\n",
       "    <tr style=\"text-align: right;\">\n",
       "      <th></th>\n",
       "      <th>recording_name</th>\n",
       "      <th>cluster_id</th>\n",
       "      <th>1_5_ms_isi</th>\n",
       "      <th>1ms_isi</th>\n",
       "      <th>2ms_isi</th>\n",
       "      <th>amp</th>\n",
       "      <th>ch</th>\n",
       "      <th>channel_group</th>\n",
       "      <th>depth</th>\n",
       "      <th>fr</th>\n",
       "      <th>group</th>\n",
       "      <th>n_spikes</th>\n",
       "      <th>sh</th>\n",
       "      <th>si_unit_id</th>\n",
       "    </tr>\n",
       "  </thead>\n",
       "  <tbody>\n",
       "    <tr>\n",
       "      <th>0</th>\n",
       "      <td>20230616_111904_standard_comp_to_training_D4_s...</td>\n",
       "      <td>7</td>\n",
       "      <td>2</td>\n",
       "      <td>1</td>\n",
       "      <td>10</td>\n",
       "      <td>13.197960</td>\n",
       "      <td>2</td>\n",
       "      <td>0.0</td>\n",
       "      <td>40.0</td>\n",
       "      <td>11.119177</td>\n",
       "      <td>good</td>\n",
       "      <td>37516</td>\n",
       "      <td>0</td>\n",
       "      <td>8.0</td>\n",
       "    </tr>\n",
       "    <tr>\n",
       "      <th>1</th>\n",
       "      <td>20230616_111904_standard_comp_to_training_D4_s...</td>\n",
       "      <td>23</td>\n",
       "      <td>1</td>\n",
       "      <td>0</td>\n",
       "      <td>3</td>\n",
       "      <td>9.657406</td>\n",
       "      <td>13</td>\n",
       "      <td>0.0</td>\n",
       "      <td>260.0</td>\n",
       "      <td>1.115889</td>\n",
       "      <td>good</td>\n",
       "      <td>3765</td>\n",
       "      <td>0</td>\n",
       "      <td>25.0</td>\n",
       "    </tr>\n",
       "    <tr>\n",
       "      <th>2</th>\n",
       "      <td>20230616_111904_standard_comp_to_training_D4_s...</td>\n",
       "      <td>30</td>\n",
       "      <td>0</td>\n",
       "      <td>0</td>\n",
       "      <td>1</td>\n",
       "      <td>17.081881</td>\n",
       "      <td>15</td>\n",
       "      <td>0.0</td>\n",
       "      <td>300.0</td>\n",
       "      <td>0.904567</td>\n",
       "      <td>good</td>\n",
       "      <td>3052</td>\n",
       "      <td>0</td>\n",
       "      <td>32.0</td>\n",
       "    </tr>\n",
       "    <tr>\n",
       "      <th>3</th>\n",
       "      <td>20230616_111904_standard_comp_to_training_D4_s...</td>\n",
       "      <td>53</td>\n",
       "      <td>0</td>\n",
       "      <td>0</td>\n",
       "      <td>0</td>\n",
       "      <td>19.220345</td>\n",
       "      <td>24</td>\n",
       "      <td>0.0</td>\n",
       "      <td>480.0</td>\n",
       "      <td>2.608780</td>\n",
       "      <td>good</td>\n",
       "      <td>8802</td>\n",
       "      <td>0</td>\n",
       "      <td>47.0</td>\n",
       "    </tr>\n",
       "    <tr>\n",
       "      <th>4</th>\n",
       "      <td>20230616_111904_standard_comp_to_training_D4_s...</td>\n",
       "      <td>64</td>\n",
       "      <td>1</td>\n",
       "      <td>0</td>\n",
       "      <td>3</td>\n",
       "      <td>9.148628</td>\n",
       "      <td>20</td>\n",
       "      <td>0.0</td>\n",
       "      <td>400.0</td>\n",
       "      <td>1.644344</td>\n",
       "      <td>good</td>\n",
       "      <td>5548</td>\n",
       "      <td>0</td>\n",
       "      <td>39.0</td>\n",
       "    </tr>\n",
       "  </tbody>\n",
       "</table>\n",
       "</div>"
      ],
      "text/plain": [
       "                                      recording_name  cluster_id  1_5_ms_isi  \\\n",
       "0  20230616_111904_standard_comp_to_training_D4_s...           7           2   \n",
       "1  20230616_111904_standard_comp_to_training_D4_s...          23           1   \n",
       "2  20230616_111904_standard_comp_to_training_D4_s...          30           0   \n",
       "3  20230616_111904_standard_comp_to_training_D4_s...          53           0   \n",
       "4  20230616_111904_standard_comp_to_training_D4_s...          64           1   \n",
       "\n",
       "   1ms_isi  2ms_isi        amp  ch  channel_group  depth         fr group  \\\n",
       "0        1       10  13.197960   2            0.0   40.0  11.119177  good   \n",
       "1        0        3   9.657406  13            0.0  260.0   1.115889  good   \n",
       "2        0        1  17.081881  15            0.0  300.0   0.904567  good   \n",
       "3        0        0  19.220345  24            0.0  480.0   2.608780  good   \n",
       "4        0        3   9.148628  20            0.0  400.0   1.644344  good   \n",
       "\n",
       "   n_spikes  sh  si_unit_id  \n",
       "0     37516   0         8.0  \n",
       "1      3765   0        25.0  \n",
       "2      3052   0        32.0  \n",
       "3      8802   0        47.0  \n",
       "4      5548   0        39.0  "
      ]
     },
     "execution_count": 19,
     "metadata": {},
     "output_type": "execute_result"
    }
   ],
   "source": [
    "good_unit_cluster_info_df.head()"
   ]
  },
  {
   "cell_type": "code",
   "execution_count": 20,
   "metadata": {
    "tags": []
   },
   "outputs": [],
   "source": [
    "recording_to_good_unit_ids = good_unit_cluster_info_df.groupby('recording_name')['cluster_id'].apply(list).to_dict()"
   ]
  },
  {
   "cell_type": "markdown",
   "metadata": {},
   "source": [
    "- A list of all the unit IDs that each spike came from in order\n",
    "    - First item is first spike, second item is second spike, etc."
   ]
  },
  {
   "cell_type": "code",
   "execution_count": 21,
   "metadata": {
    "tags": []
   },
   "outputs": [],
   "source": [
    "recording_to_spike_clusters = {}\n",
    "for recording_dir in ALL_PHY_DIR:\n",
    "    try:\n",
    "        recording_basename = os.path.basename(recording_dir).strip(\".rec\")\n",
    "        file_path = os.path.join(recording_dir, \"phy\", \"spike_clusters.npy\")\n",
    "        recording_to_spike_clusters[recording_basename] = np.load(file_path)\n",
    "    except Exception as e:\n",
    "        print(e)"
   ]
  },
  {
   "cell_type": "code",
   "execution_count": 22,
   "metadata": {
    "tags": []
   },
   "outputs": [
    {
     "data": {
      "text/plain": [
       "array([ 82,  33, 121, ...,  36,  35,  36], dtype=int32)"
      ]
     },
     "execution_count": 22,
     "metadata": {},
     "output_type": "execute_result"
    }
   ],
   "source": [
    "recording_to_spike_clusters[list(recording_to_spike_clusters.keys())[0]]"
   ]
  },
  {
   "cell_type": "code",
   "execution_count": 23,
   "metadata": {
    "tags": []
   },
   "outputs": [
    {
     "data": {
      "text/plain": [
       "(829550,)"
      ]
     },
     "execution_count": 23,
     "metadata": {},
     "output_type": "execute_result"
    }
   ],
   "source": [
    "recording_to_spike_clusters[list(recording_to_spike_clusters.keys())[0]].shape"
   ]
  },
  {
   "cell_type": "markdown",
   "metadata": {},
   "source": [
    "- The times that all the spikes happened"
   ]
  },
  {
   "cell_type": "code",
   "execution_count": 24,
   "metadata": {
    "tags": []
   },
   "outputs": [],
   "source": [
    "recording_to_spike_times = {}\n",
    "for recording_dir in ALL_PHY_DIR:\n",
    "    try:\n",
    "        recording_basename = os.path.basename(recording_dir).strip(\".rec\")\n",
    "        file_path = os.path.join(recording_dir, \"phy\", \"spike_times.npy\")\n",
    "        recording_to_spike_times[recording_basename] = np.load(file_path)\n",
    "    except Exception as e:\n",
    "        print(e)"
   ]
  },
  {
   "cell_type": "code",
   "execution_count": 25,
   "metadata": {
    "tags": []
   },
   "outputs": [
    {
     "data": {
      "text/plain": [
       "array([[      93],\n",
       "       [     151],\n",
       "       [     335],\n",
       "       ...,\n",
       "       [67479567],\n",
       "       [67479676],\n",
       "       [67479729]])"
      ]
     },
     "execution_count": 25,
     "metadata": {},
     "output_type": "execute_result"
    }
   ],
   "source": [
    "recording_to_spike_times[list(recording_to_spike_times.keys())[0]]"
   ]
  },
  {
   "cell_type": "code",
   "execution_count": 26,
   "metadata": {
    "tags": []
   },
   "outputs": [
    {
     "data": {
      "text/plain": [
       "(829550, 1)"
      ]
     },
     "execution_count": 26,
     "metadata": {},
     "output_type": "execute_result"
    }
   ],
   "source": [
    "recording_to_spike_times[list(recording_to_spike_times.keys())[0]].shape"
   ]
  },
  {
   "cell_type": "markdown",
   "metadata": {},
   "source": [
    "### Combining everything into a dataframe"
   ]
  },
  {
   "cell_type": "code",
   "execution_count": 27,
   "metadata": {
    "tags": []
   },
   "outputs": [],
   "source": [
    "recording_to_spike_df = {}\n",
    "\n",
    "for recording_dir in ALL_PHY_DIR:\n",
    "    try:\n",
    "        recording_basename = os.path.basename(recording_dir).strip(\".rec\")\n",
    "        cluster_info_path = os.path.join(recording_dir, \"phy\", \"cluster_info.tsv\")\n",
    "        cluster_info_df = pd.read_csv(cluster_info_path, sep=\"\\t\")\n",
    "\n",
    "        spike_clusters_path = os.path.join(recording_dir, \"phy\", \"spike_clusters.npy\")\n",
    "        spike_clusters = np.load(spike_clusters_path)\n",
    "        \n",
    "        spike_times_path = os.path.join(recording_dir, \"phy\", \"spike_times.npy\")\n",
    "        spike_times = np.load(spike_times_path)\n",
    "\n",
    "        spike_df = pd.DataFrame({'spike_clusters': spike_clusters, 'spike_times': spike_times.T[0]})\n",
    "\n",
    "        merged_df = spike_df.merge(cluster_info_df, left_on='spike_clusters', right_on='cluster_id', how=\"left\")\n",
    "        merged_df[\"recording_name\"] = recording_basename\n",
    "\n",
    "        merged_df[\"timestamp_isi\"] = merged_df.groupby('spike_clusters')[\"spike_times\"].diff()\n",
    "        merged_df[\"current_isi\"] = merged_df[\"timestamp_isi\"] / SAMPLING_RATE\n",
    "        \n",
    "        if not merged_df.empty:\n",
    "            recording_to_spike_df[recording_basename] = merged_df\n",
    "       \n",
    "    except Exception as e:\n",
    "        print(e)"
   ]
  },
  {
   "cell_type": "code",
   "execution_count": 28,
   "metadata": {
    "tags": []
   },
   "outputs": [
    {
     "data": {
      "text/html": [
       "<div>\n",
       "<style scoped>\n",
       "    .dataframe tbody tr th:only-of-type {\n",
       "        vertical-align: middle;\n",
       "    }\n",
       "\n",
       "    .dataframe tbody tr th {\n",
       "        vertical-align: top;\n",
       "    }\n",
       "\n",
       "    .dataframe thead th {\n",
       "        text-align: right;\n",
       "    }\n",
       "</style>\n",
       "<table border=\"1\" class=\"dataframe\">\n",
       "  <thead>\n",
       "    <tr style=\"text-align: right;\">\n",
       "      <th></th>\n",
       "      <th>cluster_id</th>\n",
       "      <th>1_5_ms_isi</th>\n",
       "      <th>1ms_isi</th>\n",
       "      <th>2ms_isi</th>\n",
       "      <th>amp</th>\n",
       "      <th>ch</th>\n",
       "      <th>channel_group</th>\n",
       "      <th>depth</th>\n",
       "      <th>fr</th>\n",
       "      <th>group</th>\n",
       "      <th>n_spikes</th>\n",
       "      <th>sh</th>\n",
       "      <th>si_unit_id</th>\n",
       "    </tr>\n",
       "  </thead>\n",
       "  <tbody>\n",
       "    <tr>\n",
       "      <th>0</th>\n",
       "      <td>15</td>\n",
       "      <td>0</td>\n",
       "      <td>0</td>\n",
       "      <td>1</td>\n",
       "      <td>14.411364</td>\n",
       "      <td>6</td>\n",
       "      <td>0.0</td>\n",
       "      <td>120.0</td>\n",
       "      <td>0.901093</td>\n",
       "      <td>good</td>\n",
       "      <td>3263</td>\n",
       "      <td>0</td>\n",
       "      <td>17.0</td>\n",
       "    </tr>\n",
       "    <tr>\n",
       "      <th>1</th>\n",
       "      <td>17</td>\n",
       "      <td>0</td>\n",
       "      <td>0</td>\n",
       "      <td>1</td>\n",
       "      <td>10.738522</td>\n",
       "      <td>8</td>\n",
       "      <td>0.0</td>\n",
       "      <td>160.0</td>\n",
       "      <td>1.143280</td>\n",
       "      <td>good</td>\n",
       "      <td>4140</td>\n",
       "      <td>0</td>\n",
       "      <td>19.0</td>\n",
       "    </tr>\n",
       "    <tr>\n",
       "      <th>2</th>\n",
       "      <td>19</td>\n",
       "      <td>0</td>\n",
       "      <td>0</td>\n",
       "      <td>0</td>\n",
       "      <td>11.480671</td>\n",
       "      <td>8</td>\n",
       "      <td>0.0</td>\n",
       "      <td>160.0</td>\n",
       "      <td>1.276939</td>\n",
       "      <td>noise</td>\n",
       "      <td>4624</td>\n",
       "      <td>0</td>\n",
       "      <td>21.0</td>\n",
       "    </tr>\n",
       "    <tr>\n",
       "      <th>3</th>\n",
       "      <td>32</td>\n",
       "      <td>110</td>\n",
       "      <td>43</td>\n",
       "      <td>323</td>\n",
       "      <td>8.556771</td>\n",
       "      <td>17</td>\n",
       "      <td>0.0</td>\n",
       "      <td>340.0</td>\n",
       "      <td>41.800155</td>\n",
       "      <td>good</td>\n",
       "      <td>151365</td>\n",
       "      <td>0</td>\n",
       "      <td>34.0</td>\n",
       "    </tr>\n",
       "    <tr>\n",
       "      <th>4</th>\n",
       "      <td>35</td>\n",
       "      <td>6</td>\n",
       "      <td>2</td>\n",
       "      <td>23</td>\n",
       "      <td>7.762705</td>\n",
       "      <td>19</td>\n",
       "      <td>0.0</td>\n",
       "      <td>380.0</td>\n",
       "      <td>2.981642</td>\n",
       "      <td>mua</td>\n",
       "      <td>10797</td>\n",
       "      <td>0</td>\n",
       "      <td>37.0</td>\n",
       "    </tr>\n",
       "  </tbody>\n",
       "</table>\n",
       "</div>"
      ],
      "text/plain": [
       "   cluster_id  1_5_ms_isi  1ms_isi  2ms_isi        amp  ch  channel_group  \\\n",
       "0          15           0        0        1  14.411364   6            0.0   \n",
       "1          17           0        0        1  10.738522   8            0.0   \n",
       "2          19           0        0        0  11.480671   8            0.0   \n",
       "3          32         110       43      323   8.556771  17            0.0   \n",
       "4          35           6        2       23   7.762705  19            0.0   \n",
       "\n",
       "   depth         fr  group  n_spikes  sh  si_unit_id  \n",
       "0  120.0   0.901093   good      3263   0        17.0  \n",
       "1  160.0   1.143280   good      4140   0        19.0  \n",
       "2  160.0   1.276939  noise      4624   0        21.0  \n",
       "3  340.0  41.800155   good    151365   0        34.0  \n",
       "4  380.0   2.981642    mua     10797   0        37.0  "
      ]
     },
     "execution_count": 28,
     "metadata": {},
     "output_type": "execute_result"
    }
   ],
   "source": [
    "cluster_info_df.head()"
   ]
  },
  {
   "cell_type": "code",
   "execution_count": 29,
   "metadata": {
    "tags": []
   },
   "outputs": [
    {
     "data": {
      "text/plain": [
       "array([[      89],\n",
       "       [     116],\n",
       "       [     188],\n",
       "       ...,\n",
       "       [72422846],\n",
       "       [72422932],\n",
       "       [72423021]])"
      ]
     },
     "execution_count": 29,
     "metadata": {},
     "output_type": "execute_result"
    }
   ],
   "source": [
    "spike_times"
   ]
  },
  {
   "cell_type": "code",
   "execution_count": 30,
   "metadata": {
    "tags": []
   },
   "outputs": [
    {
     "data": {
      "text/plain": [
       "array([141, 254,  32, ..., 141, 157,  32], dtype=int32)"
      ]
     },
     "execution_count": 30,
     "metadata": {},
     "output_type": "execute_result"
    }
   ],
   "source": [
    "spike_clusters"
   ]
  },
  {
   "cell_type": "markdown",
   "metadata": {},
   "source": [
    "- Combining the spike time df for all recordings"
   ]
  },
  {
   "cell_type": "code",
   "execution_count": 31,
   "metadata": {
    "tags": []
   },
   "outputs": [],
   "source": [
    "all_spike_time_df = pd.concat(recording_to_spike_df.values())"
   ]
  },
  {
   "cell_type": "code",
   "execution_count": 32,
   "metadata": {
    "tags": []
   },
   "outputs": [],
   "source": [
    "all_spike_time_df = all_spike_time_df[all_spike_time_df[\"group\"] == \"good\"].reset_index(drop=True)"
   ]
  },
  {
   "cell_type": "code",
   "execution_count": 33,
   "metadata": {
    "tags": []
   },
   "outputs": [
    {
     "data": {
      "text/html": [
       "<div>\n",
       "<style scoped>\n",
       "    .dataframe tbody tr th:only-of-type {\n",
       "        vertical-align: middle;\n",
       "    }\n",
       "\n",
       "    .dataframe tbody tr th {\n",
       "        vertical-align: top;\n",
       "    }\n",
       "\n",
       "    .dataframe thead th {\n",
       "        text-align: right;\n",
       "    }\n",
       "</style>\n",
       "<table border=\"1\" class=\"dataframe\">\n",
       "  <thead>\n",
       "    <tr style=\"text-align: right;\">\n",
       "      <th></th>\n",
       "      <th>spike_clusters</th>\n",
       "      <th>spike_times</th>\n",
       "      <th>cluster_id</th>\n",
       "      <th>1_5_ms_isi</th>\n",
       "      <th>1ms_isi</th>\n",
       "      <th>2ms_isi</th>\n",
       "      <th>amp</th>\n",
       "      <th>ch</th>\n",
       "      <th>channel_group</th>\n",
       "      <th>depth</th>\n",
       "      <th>fr</th>\n",
       "      <th>group</th>\n",
       "      <th>n_spikes</th>\n",
       "      <th>sh</th>\n",
       "      <th>si_unit_id</th>\n",
       "      <th>recording_name</th>\n",
       "      <th>timestamp_isi</th>\n",
       "      <th>current_isi</th>\n",
       "    </tr>\n",
       "  </thead>\n",
       "  <tbody>\n",
       "    <tr>\n",
       "      <th>0</th>\n",
       "      <td>23</td>\n",
       "      <td>416</td>\n",
       "      <td>23</td>\n",
       "      <td>1</td>\n",
       "      <td>0</td>\n",
       "      <td>3</td>\n",
       "      <td>9.657406</td>\n",
       "      <td>13</td>\n",
       "      <td>0.0</td>\n",
       "      <td>260.0</td>\n",
       "      <td>1.115889</td>\n",
       "      <td>good</td>\n",
       "      <td>3765</td>\n",
       "      <td>0</td>\n",
       "      <td>25.0</td>\n",
       "      <td>20230616_111904_standard_comp_to_training_D4_s...</td>\n",
       "      <td>NaN</td>\n",
       "      <td>NaN</td>\n",
       "    </tr>\n",
       "    <tr>\n",
       "      <th>1</th>\n",
       "      <td>80</td>\n",
       "      <td>1123</td>\n",
       "      <td>80</td>\n",
       "      <td>7</td>\n",
       "      <td>3</td>\n",
       "      <td>11</td>\n",
       "      <td>7.514018</td>\n",
       "      <td>2</td>\n",
       "      <td>NaN</td>\n",
       "      <td>40.0</td>\n",
       "      <td>5.136944</td>\n",
       "      <td>good</td>\n",
       "      <td>17332</td>\n",
       "      <td>0</td>\n",
       "      <td>NaN</td>\n",
       "      <td>20230616_111904_standard_comp_to_training_D4_s...</td>\n",
       "      <td>NaN</td>\n",
       "      <td>NaN</td>\n",
       "    </tr>\n",
       "    <tr>\n",
       "      <th>2</th>\n",
       "      <td>53</td>\n",
       "      <td>1395</td>\n",
       "      <td>53</td>\n",
       "      <td>0</td>\n",
       "      <td>0</td>\n",
       "      <td>0</td>\n",
       "      <td>19.220345</td>\n",
       "      <td>24</td>\n",
       "      <td>0.0</td>\n",
       "      <td>480.0</td>\n",
       "      <td>2.608780</td>\n",
       "      <td>good</td>\n",
       "      <td>8802</td>\n",
       "      <td>0</td>\n",
       "      <td>47.0</td>\n",
       "      <td>20230616_111904_standard_comp_to_training_D4_s...</td>\n",
       "      <td>NaN</td>\n",
       "      <td>NaN</td>\n",
       "    </tr>\n",
       "    <tr>\n",
       "      <th>3</th>\n",
       "      <td>102</td>\n",
       "      <td>1830</td>\n",
       "      <td>102</td>\n",
       "      <td>0</td>\n",
       "      <td>0</td>\n",
       "      <td>0</td>\n",
       "      <td>17.968143</td>\n",
       "      <td>10</td>\n",
       "      <td>0.0</td>\n",
       "      <td>200.0</td>\n",
       "      <td>1.499115</td>\n",
       "      <td>good</td>\n",
       "      <td>5058</td>\n",
       "      <td>0</td>\n",
       "      <td>22.0</td>\n",
       "      <td>20230616_111904_standard_comp_to_training_D4_s...</td>\n",
       "      <td>NaN</td>\n",
       "      <td>NaN</td>\n",
       "    </tr>\n",
       "    <tr>\n",
       "      <th>4</th>\n",
       "      <td>30</td>\n",
       "      <td>2302</td>\n",
       "      <td>30</td>\n",
       "      <td>0</td>\n",
       "      <td>0</td>\n",
       "      <td>1</td>\n",
       "      <td>17.081881</td>\n",
       "      <td>15</td>\n",
       "      <td>0.0</td>\n",
       "      <td>300.0</td>\n",
       "      <td>0.904567</td>\n",
       "      <td>good</td>\n",
       "      <td>3052</td>\n",
       "      <td>0</td>\n",
       "      <td>32.0</td>\n",
       "      <td>20230616_111904_standard_comp_to_training_D4_s...</td>\n",
       "      <td>NaN</td>\n",
       "      <td>NaN</td>\n",
       "    </tr>\n",
       "  </tbody>\n",
       "</table>\n",
       "</div>"
      ],
      "text/plain": [
       "   spike_clusters  spike_times  cluster_id  1_5_ms_isi  1ms_isi  2ms_isi  \\\n",
       "0              23          416          23           1        0        3   \n",
       "1              80         1123          80           7        3       11   \n",
       "2              53         1395          53           0        0        0   \n",
       "3             102         1830         102           0        0        0   \n",
       "4              30         2302          30           0        0        1   \n",
       "\n",
       "         amp  ch  channel_group  depth        fr group  n_spikes  sh  \\\n",
       "0   9.657406  13            0.0  260.0  1.115889  good      3765   0   \n",
       "1   7.514018   2            NaN   40.0  5.136944  good     17332   0   \n",
       "2  19.220345  24            0.0  480.0  2.608780  good      8802   0   \n",
       "3  17.968143  10            0.0  200.0  1.499115  good      5058   0   \n",
       "4  17.081881  15            0.0  300.0  0.904567  good      3052   0   \n",
       "\n",
       "   si_unit_id                                     recording_name  \\\n",
       "0        25.0  20230616_111904_standard_comp_to_training_D4_s...   \n",
       "1         NaN  20230616_111904_standard_comp_to_training_D4_s...   \n",
       "2        47.0  20230616_111904_standard_comp_to_training_D4_s...   \n",
       "3        22.0  20230616_111904_standard_comp_to_training_D4_s...   \n",
       "4        32.0  20230616_111904_standard_comp_to_training_D4_s...   \n",
       "\n",
       "   timestamp_isi  current_isi  \n",
       "0            NaN          NaN  \n",
       "1            NaN          NaN  \n",
       "2            NaN          NaN  \n",
       "3            NaN          NaN  \n",
       "4            NaN          NaN  "
      ]
     },
     "execution_count": 33,
     "metadata": {},
     "output_type": "execute_result"
    }
   ],
   "source": [
    "all_spike_time_df.head()"
   ]
  },
  {
   "cell_type": "code",
   "execution_count": 34,
   "metadata": {
    "tags": []
   },
   "outputs": [
    {
     "data": {
      "text/html": [
       "<div>\n",
       "<style scoped>\n",
       "    .dataframe tbody tr th:only-of-type {\n",
       "        vertical-align: middle;\n",
       "    }\n",
       "\n",
       "    .dataframe tbody tr th {\n",
       "        vertical-align: top;\n",
       "    }\n",
       "\n",
       "    .dataframe thead th {\n",
       "        text-align: right;\n",
       "    }\n",
       "</style>\n",
       "<table border=\"1\" class=\"dataframe\">\n",
       "  <thead>\n",
       "    <tr style=\"text-align: right;\">\n",
       "      <th></th>\n",
       "      <th>spike_clusters</th>\n",
       "      <th>spike_times</th>\n",
       "      <th>cluster_id</th>\n",
       "      <th>1_5_ms_isi</th>\n",
       "      <th>1ms_isi</th>\n",
       "      <th>2ms_isi</th>\n",
       "      <th>amp</th>\n",
       "      <th>ch</th>\n",
       "      <th>channel_group</th>\n",
       "      <th>depth</th>\n",
       "      <th>fr</th>\n",
       "      <th>group</th>\n",
       "      <th>n_spikes</th>\n",
       "      <th>sh</th>\n",
       "      <th>si_unit_id</th>\n",
       "      <th>recording_name</th>\n",
       "      <th>timestamp_isi</th>\n",
       "      <th>current_isi</th>\n",
       "    </tr>\n",
       "  </thead>\n",
       "  <tbody>\n",
       "    <tr>\n",
       "      <th>4630787</th>\n",
       "      <td>32</td>\n",
       "      <td>72421631</td>\n",
       "      <td>32</td>\n",
       "      <td>110</td>\n",
       "      <td>43</td>\n",
       "      <td>323</td>\n",
       "      <td>8.556771</td>\n",
       "      <td>17</td>\n",
       "      <td>0.0</td>\n",
       "      <td>340.0</td>\n",
       "      <td>41.800155</td>\n",
       "      <td>good</td>\n",
       "      <td>151365</td>\n",
       "      <td>0</td>\n",
       "      <td>34.0</td>\n",
       "      <td>20230625_112913_standard_comp_to_both_rewarded...</td>\n",
       "      <td>394.0</td>\n",
       "      <td>0.01970</td>\n",
       "    </tr>\n",
       "    <tr>\n",
       "      <th>4630788</th>\n",
       "      <td>32</td>\n",
       "      <td>72421974</td>\n",
       "      <td>32</td>\n",
       "      <td>110</td>\n",
       "      <td>43</td>\n",
       "      <td>323</td>\n",
       "      <td>8.556771</td>\n",
       "      <td>17</td>\n",
       "      <td>0.0</td>\n",
       "      <td>340.0</td>\n",
       "      <td>41.800155</td>\n",
       "      <td>good</td>\n",
       "      <td>151365</td>\n",
       "      <td>0</td>\n",
       "      <td>34.0</td>\n",
       "      <td>20230625_112913_standard_comp_to_both_rewarded...</td>\n",
       "      <td>343.0</td>\n",
       "      <td>0.01715</td>\n",
       "    </tr>\n",
       "    <tr>\n",
       "      <th>4630789</th>\n",
       "      <td>32</td>\n",
       "      <td>72422482</td>\n",
       "      <td>32</td>\n",
       "      <td>110</td>\n",
       "      <td>43</td>\n",
       "      <td>323</td>\n",
       "      <td>8.556771</td>\n",
       "      <td>17</td>\n",
       "      <td>0.0</td>\n",
       "      <td>340.0</td>\n",
       "      <td>41.800155</td>\n",
       "      <td>good</td>\n",
       "      <td>151365</td>\n",
       "      <td>0</td>\n",
       "      <td>34.0</td>\n",
       "      <td>20230625_112913_standard_comp_to_both_rewarded...</td>\n",
       "      <td>508.0</td>\n",
       "      <td>0.02540</td>\n",
       "    </tr>\n",
       "    <tr>\n",
       "      <th>4630790</th>\n",
       "      <td>141</td>\n",
       "      <td>72422846</td>\n",
       "      <td>141</td>\n",
       "      <td>29</td>\n",
       "      <td>15</td>\n",
       "      <td>62</td>\n",
       "      <td>7.976220</td>\n",
       "      <td>2</td>\n",
       "      <td>0.0</td>\n",
       "      <td>40.0</td>\n",
       "      <td>20.363095</td>\n",
       "      <td>good</td>\n",
       "      <td>73738</td>\n",
       "      <td>0</td>\n",
       "      <td>9.0</td>\n",
       "      <td>20230625_112913_standard_comp_to_both_rewarded...</td>\n",
       "      <td>3162.0</td>\n",
       "      <td>0.15810</td>\n",
       "    </tr>\n",
       "    <tr>\n",
       "      <th>4630791</th>\n",
       "      <td>32</td>\n",
       "      <td>72423021</td>\n",
       "      <td>32</td>\n",
       "      <td>110</td>\n",
       "      <td>43</td>\n",
       "      <td>323</td>\n",
       "      <td>8.556771</td>\n",
       "      <td>17</td>\n",
       "      <td>0.0</td>\n",
       "      <td>340.0</td>\n",
       "      <td>41.800155</td>\n",
       "      <td>good</td>\n",
       "      <td>151365</td>\n",
       "      <td>0</td>\n",
       "      <td>34.0</td>\n",
       "      <td>20230625_112913_standard_comp_to_both_rewarded...</td>\n",
       "      <td>539.0</td>\n",
       "      <td>0.02695</td>\n",
       "    </tr>\n",
       "  </tbody>\n",
       "</table>\n",
       "</div>"
      ],
      "text/plain": [
       "         spike_clusters  spike_times  cluster_id  1_5_ms_isi  1ms_isi  \\\n",
       "4630787              32     72421631          32         110       43   \n",
       "4630788              32     72421974          32         110       43   \n",
       "4630789              32     72422482          32         110       43   \n",
       "4630790             141     72422846         141          29       15   \n",
       "4630791              32     72423021          32         110       43   \n",
       "\n",
       "         2ms_isi       amp  ch  channel_group  depth         fr group  \\\n",
       "4630787      323  8.556771  17            0.0  340.0  41.800155  good   \n",
       "4630788      323  8.556771  17            0.0  340.0  41.800155  good   \n",
       "4630789      323  8.556771  17            0.0  340.0  41.800155  good   \n",
       "4630790       62  7.976220   2            0.0   40.0  20.363095  good   \n",
       "4630791      323  8.556771  17            0.0  340.0  41.800155  good   \n",
       "\n",
       "         n_spikes  sh  si_unit_id  \\\n",
       "4630787    151365   0        34.0   \n",
       "4630788    151365   0        34.0   \n",
       "4630789    151365   0        34.0   \n",
       "4630790     73738   0         9.0   \n",
       "4630791    151365   0        34.0   \n",
       "\n",
       "                                            recording_name  timestamp_isi  \\\n",
       "4630787  20230625_112913_standard_comp_to_both_rewarded...          394.0   \n",
       "4630788  20230625_112913_standard_comp_to_both_rewarded...          343.0   \n",
       "4630789  20230625_112913_standard_comp_to_both_rewarded...          508.0   \n",
       "4630790  20230625_112913_standard_comp_to_both_rewarded...         3162.0   \n",
       "4630791  20230625_112913_standard_comp_to_both_rewarded...          539.0   \n",
       "\n",
       "         current_isi  \n",
       "4630787      0.01970  \n",
       "4630788      0.01715  \n",
       "4630789      0.02540  \n",
       "4630790      0.15810  \n",
       "4630791      0.02695  "
      ]
     },
     "execution_count": 34,
     "metadata": {},
     "output_type": "execute_result"
    }
   ],
   "source": [
    "all_spike_time_df.tail()"
   ]
  },
  {
   "cell_type": "markdown",
   "metadata": {},
   "source": [
    "## Grouping all the neurons by recording"
   ]
  },
  {
   "cell_type": "code",
   "execution_count": 35,
   "metadata": {
    "tags": []
   },
   "outputs": [],
   "source": [
    "# Grouping all spike times by neuron and recording\n",
    "grouped_df = all_spike_time_df.groupby(['spike_clusters', 'recording_name'])[\"spike_times\"].apply(lambda x: np.array(x)).reset_index()\n",
    "grouped_df = grouped_df.sort_values(by=['recording_name', 'spike_clusters']).reset_index(drop=True)"
   ]
  },
  {
   "cell_type": "code",
   "execution_count": 36,
   "metadata": {
    "tags": []
   },
   "outputs": [
    {
     "data": {
      "text/html": [
       "<div>\n",
       "<style scoped>\n",
       "    .dataframe tbody tr th:only-of-type {\n",
       "        vertical-align: middle;\n",
       "    }\n",
       "\n",
       "    .dataframe tbody tr th {\n",
       "        vertical-align: top;\n",
       "    }\n",
       "\n",
       "    .dataframe thead th {\n",
       "        text-align: right;\n",
       "    }\n",
       "</style>\n",
       "<table border=\"1\" class=\"dataframe\">\n",
       "  <thead>\n",
       "    <tr style=\"text-align: right;\">\n",
       "      <th></th>\n",
       "      <th>spike_clusters</th>\n",
       "      <th>recording_name</th>\n",
       "      <th>spike_times</th>\n",
       "    </tr>\n",
       "  </thead>\n",
       "  <tbody>\n",
       "    <tr>\n",
       "      <th>0</th>\n",
       "      <td>13</td>\n",
       "      <td>20230616_111904_standard_comp_to_training_D4_s...</td>\n",
       "      <td>[164503, 214157, 219948, 228496, 254211, 25605...</td>\n",
       "    </tr>\n",
       "    <tr>\n",
       "      <th>1</th>\n",
       "      <td>43</td>\n",
       "      <td>20230616_111904_standard_comp_to_training_D4_s...</td>\n",
       "      <td>[10518, 16788, 33219, 40252, 43753, 45536, 495...</td>\n",
       "    </tr>\n",
       "    <tr>\n",
       "      <th>2</th>\n",
       "      <td>46</td>\n",
       "      <td>20230616_111904_standard_comp_to_training_D4_s...</td>\n",
       "      <td>[79383, 181665, 237836, 301387, 327537, 351182...</td>\n",
       "    </tr>\n",
       "    <tr>\n",
       "      <th>3</th>\n",
       "      <td>67</td>\n",
       "      <td>20230616_111904_standard_comp_to_training_D4_s...</td>\n",
       "      <td>[71248, 72927, 78139, 79747, 80418, 81025, 813...</td>\n",
       "    </tr>\n",
       "    <tr>\n",
       "      <th>4</th>\n",
       "      <td>68</td>\n",
       "      <td>20230616_111904_standard_comp_to_training_D4_s...</td>\n",
       "      <td>[20982, 66688, 94142, 176325, 216673, 217233, ...</td>\n",
       "    </tr>\n",
       "  </tbody>\n",
       "</table>\n",
       "</div>"
      ],
      "text/plain": [
       "   spike_clusters                                     recording_name  \\\n",
       "0              13  20230616_111904_standard_comp_to_training_D4_s...   \n",
       "1              43  20230616_111904_standard_comp_to_training_D4_s...   \n",
       "2              46  20230616_111904_standard_comp_to_training_D4_s...   \n",
       "3              67  20230616_111904_standard_comp_to_training_D4_s...   \n",
       "4              68  20230616_111904_standard_comp_to_training_D4_s...   \n",
       "\n",
       "                                         spike_times  \n",
       "0  [164503, 214157, 219948, 228496, 254211, 25605...  \n",
       "1  [10518, 16788, 33219, 40252, 43753, 45536, 495...  \n",
       "2  [79383, 181665, 237836, 301387, 327537, 351182...  \n",
       "3  [71248, 72927, 78139, 79747, 80418, 81025, 813...  \n",
       "4  [20982, 66688, 94142, 176325, 216673, 217233, ...  "
      ]
     },
     "execution_count": 36,
     "metadata": {},
     "output_type": "execute_result"
    }
   ],
   "source": [
    "grouped_df.head()"
   ]
  },
  {
   "cell_type": "code",
   "execution_count": 37,
   "metadata": {},
   "outputs": [],
   "source": [
    "max_number_of_spikes = all_spike_time_df[\"n_spikes\"].max()"
   ]
  },
  {
   "cell_type": "code",
   "execution_count": 38,
   "metadata": {},
   "outputs": [
    {
     "data": {
      "text/plain": [
       "179245"
      ]
     },
     "execution_count": 38,
     "metadata": {},
     "output_type": "execute_result"
    }
   ],
   "source": [
    "max_number_of_spikes"
   ]
  },
  {
   "cell_type": "code",
   "execution_count": 39,
   "metadata": {
    "tags": []
   },
   "outputs": [],
   "source": [
    "grouped_df[\"spike_times\"] = grouped_df[\"spike_times\"].apply(lambda x: np.concatenate([x, np.full([max_number_of_spikes - x.shape[0]], np.nan)]))"
   ]
  },
  {
   "cell_type": "code",
   "execution_count": 40,
   "metadata": {
    "tags": []
   },
   "outputs": [],
   "source": [
    "grouped_df = grouped_df.groupby('recording_name').agg({'spike_clusters': lambda x: list(x), 'spike_times': lambda x: np.array(list(x))}).reset_index()"
   ]
  },
  {
   "cell_type": "code",
   "execution_count": 41,
   "metadata": {
    "tags": []
   },
   "outputs": [],
   "source": [
    "LFP_SPECTRAL_DF = pd.merge(LFP_SPECTRAL_DF, grouped_df, left_on='recording', right_on=\"recording_name\", how='inner')"
   ]
  },
  {
   "cell_type": "code",
   "execution_count": 42,
   "metadata": {
    "tags": []
   },
   "outputs": [
    {
     "data": {
      "text/html": [
       "<div>\n",
       "<style scoped>\n",
       "    .dataframe tbody tr th:only-of-type {\n",
       "        vertical-align: middle;\n",
       "    }\n",
       "\n",
       "    .dataframe tbody tr th {\n",
       "        vertical-align: top;\n",
       "    }\n",
       "\n",
       "    .dataframe thead th {\n",
       "        text-align: right;\n",
       "    }\n",
       "</style>\n",
       "<table border=\"1\" class=\"dataframe\">\n",
       "  <thead>\n",
       "    <tr style=\"text-align: right;\">\n",
       "      <th></th>\n",
       "      <th>cohort</th>\n",
       "      <th>session_dir</th>\n",
       "      <th>tone_frames</th>\n",
       "      <th>box_1_port_entry_frames</th>\n",
       "      <th>box_2_port_entry_frames</th>\n",
       "      <th>video_name</th>\n",
       "      <th>session_path</th>\n",
       "      <th>recording</th>\n",
       "      <th>current_subject</th>\n",
       "      <th>subject</th>\n",
       "      <th>...</th>\n",
       "      <th>box_2_port_entry_timestamps</th>\n",
       "      <th>lfp_timestamps</th>\n",
       "      <th>mPFC_lfp_trace</th>\n",
       "      <th>MD_lfp_trace</th>\n",
       "      <th>LH_lfp_trace</th>\n",
       "      <th>BLA_lfp_trace</th>\n",
       "      <th>vHPC_lfp_trace</th>\n",
       "      <th>recording_name</th>\n",
       "      <th>spike_clusters</th>\n",
       "      <th>spike_times</th>\n",
       "    </tr>\n",
       "  </thead>\n",
       "  <tbody>\n",
       "    <tr>\n",
       "      <th>0</th>\n",
       "      <td>2</td>\n",
       "      <td>20230616_111904_standard_comp_to_training_D4_s...</td>\n",
       "      <td>[[87, 287], [2483, 2683], [4778, 4979], [6575,...</td>\n",
       "      <td>[[338, 339], [341, 385], [385, 482], [696, 703...</td>\n",
       "      <td>[[31729, 31729], [31731, 31732], [31733, 31735...</td>\n",
       "      <td>20230616_111904_standard_comp_to_training_D4_s...</td>\n",
       "      <td>/scratch/back_up/reward_competition_extention/...</td>\n",
       "      <td>20230616_111904_standard_comp_to_training_D4_s...</td>\n",
       "      <td>1.2</td>\n",
       "      <td>1.2</td>\n",
       "      <td>...</td>\n",
       "      <td>[[31772990, 31773790], [31774790, 31776190], [...</td>\n",
       "      <td>[0, 20, 40, 60, 80, 100, 120, 140, 160, 180, 2...</td>\n",
       "      <td>[-25, 131, 186, 119, 163, 162, 192, 217, 221, ...</td>\n",
       "      <td>[-62, 100, 155, 49, 89, 177, 289, 360, 379, 31...</td>\n",
       "      <td>[-65, 76, 83, -4, 109, 215, 271, 209, 116, 116...</td>\n",
       "      <td>[-164, -125, -125, -181, -210, -186, -128, -18...</td>\n",
       "      <td>[-574, -494, -433, -469, -539, -588, -558, -61...</td>\n",
       "      <td>20230616_111904_standard_comp_to_training_D4_s...</td>\n",
       "      <td>[13, 43, 46, 67, 68, 120, 128, 133, 151, 193, ...</td>\n",
       "      <td>[[164503.0, 214157.0, 219948.0, 228496.0, 2542...</td>\n",
       "    </tr>\n",
       "    <tr>\n",
       "      <th>1</th>\n",
       "      <td>2</td>\n",
       "      <td>20230616_111904_standard_comp_to_training_D4_s...</td>\n",
       "      <td>[[109, 358], [3101, 3349], [5967, 6217], [8211...</td>\n",
       "      <td>[[422, 423], [425, 480], [480, 601], [869, 877...</td>\n",
       "      <td>[[36005, 36005], [36006, 36008], [36009, 36010...</td>\n",
       "      <td>20230616_111904_standard_comp_to_training_D4_s...</td>\n",
       "      <td>/scratch/back_up/reward_competition_extention/...</td>\n",
       "      <td>20230616_111904_standard_comp_to_training_D4_s...</td>\n",
       "      <td>1.2</td>\n",
       "      <td>1.2</td>\n",
       "      <td>...</td>\n",
       "      <td>[[31772990, 31773790], [31774790, 31776190], [...</td>\n",
       "      <td>[0, 20, 40, 60, 80, 100, 120, 140, 160, 180, 2...</td>\n",
       "      <td>[-25, 131, 186, 119, 163, 162, 192, 217, 221, ...</td>\n",
       "      <td>[-62, 100, 155, 49, 89, 177, 289, 360, 379, 31...</td>\n",
       "      <td>[-65, 76, 83, -4, 109, 215, 271, 209, 116, 116...</td>\n",
       "      <td>[-164, -125, -125, -181, -210, -186, -128, -18...</td>\n",
       "      <td>[-574, -494, -433, -469, -539, -588, -558, -61...</td>\n",
       "      <td>20230616_111904_standard_comp_to_training_D4_s...</td>\n",
       "      <td>[13, 43, 46, 67, 68, 120, 128, 133, 151, 193, ...</td>\n",
       "      <td>[[164503.0, 214157.0, 219948.0, 228496.0, 2542...</td>\n",
       "    </tr>\n",
       "    <tr>\n",
       "      <th>2</th>\n",
       "      <td>2</td>\n",
       "      <td>20230616_111904_standard_comp_to_training_D4_s...</td>\n",
       "      <td>[[87, 287], [2483, 2683], [4778, 4979], [6575,...</td>\n",
       "      <td>[[338, 339], [341, 385], [385, 482], [696, 703...</td>\n",
       "      <td>[[31729, 31729], [31731, 31732], [31733, 31735...</td>\n",
       "      <td>20230616_111904_standard_comp_to_training_D4_s...</td>\n",
       "      <td>/scratch/back_up/reward_competition_extention/...</td>\n",
       "      <td>20230616_111904_standard_comp_to_training_D4_s...</td>\n",
       "      <td>1.4</td>\n",
       "      <td>1.4</td>\n",
       "      <td>...</td>\n",
       "      <td>[[31772990, 31773790], [31774790, 31776190], [...</td>\n",
       "      <td>[0, 20, 40, 60, 80, 100, 120, 140, 160, 180, 2...</td>\n",
       "      <td>[-84, -70, -5, 88, 158, 166, 109, 88, 99, 35, ...</td>\n",
       "      <td>[206, 322, 390, 404, 553, 604, 471, 312, 315, ...</td>\n",
       "      <td>[9, 12, 47, 114, 212, 284, 236, 121, 87, 171, ...</td>\n",
       "      <td>[94, 178, 267, 320, 390, 378, 316, 318, 461, 6...</td>\n",
       "      <td>[116, 211, 284, 260, 293, 351, 330, 197, 123, ...</td>\n",
       "      <td>20230616_111904_standard_comp_to_training_D4_s...</td>\n",
       "      <td>[7, 23, 30, 53, 64, 73, 80, 90, 100, 102, 104,...</td>\n",
       "      <td>[[15575.0, 17748.0, 19503.0, 22868.0, 29093.0,...</td>\n",
       "    </tr>\n",
       "    <tr>\n",
       "      <th>3</th>\n",
       "      <td>2</td>\n",
       "      <td>20230616_111904_standard_comp_to_training_D4_s...</td>\n",
       "      <td>[[109, 358], [3101, 3349], [5967, 6217], [8211...</td>\n",
       "      <td>[[422, 423], [425, 480], [480, 601], [869, 877...</td>\n",
       "      <td>[[36005, 36005], [36006, 36008], [36009, 36010...</td>\n",
       "      <td>20230616_111904_standard_comp_to_training_D4_s...</td>\n",
       "      <td>/scratch/back_up/reward_competition_extention/...</td>\n",
       "      <td>20230616_111904_standard_comp_to_training_D4_s...</td>\n",
       "      <td>1.4</td>\n",
       "      <td>1.4</td>\n",
       "      <td>...</td>\n",
       "      <td>[[31772990, 31773790], [31774790, 31776190], [...</td>\n",
       "      <td>[0, 20, 40, 60, 80, 100, 120, 140, 160, 180, 2...</td>\n",
       "      <td>[-84, -70, -5, 88, 158, 166, 109, 88, 99, 35, ...</td>\n",
       "      <td>[206, 322, 390, 404, 553, 604, 471, 312, 315, ...</td>\n",
       "      <td>[9, 12, 47, 114, 212, 284, 236, 121, 87, 171, ...</td>\n",
       "      <td>[94, 178, 267, 320, 390, 378, 316, 318, 461, 6...</td>\n",
       "      <td>[116, 211, 284, 260, 293, 351, 330, 197, 123, ...</td>\n",
       "      <td>20230616_111904_standard_comp_to_training_D4_s...</td>\n",
       "      <td>[7, 23, 30, 53, 64, 73, 80, 90, 100, 102, 104,...</td>\n",
       "      <td>[[15575.0, 17748.0, 19503.0, 22868.0, 29093.0,...</td>\n",
       "    </tr>\n",
       "  </tbody>\n",
       "</table>\n",
       "<p>4 rows × 26 columns</p>\n",
       "</div>"
      ],
      "text/plain": [
       "   cohort                                        session_dir  \\\n",
       "0       2  20230616_111904_standard_comp_to_training_D4_s...   \n",
       "1       2  20230616_111904_standard_comp_to_training_D4_s...   \n",
       "2       2  20230616_111904_standard_comp_to_training_D4_s...   \n",
       "3       2  20230616_111904_standard_comp_to_training_D4_s...   \n",
       "\n",
       "                                         tone_frames  \\\n",
       "0  [[87, 287], [2483, 2683], [4778, 4979], [6575,...   \n",
       "1  [[109, 358], [3101, 3349], [5967, 6217], [8211...   \n",
       "2  [[87, 287], [2483, 2683], [4778, 4979], [6575,...   \n",
       "3  [[109, 358], [3101, 3349], [5967, 6217], [8211...   \n",
       "\n",
       "                             box_1_port_entry_frames  \\\n",
       "0  [[338, 339], [341, 385], [385, 482], [696, 703...   \n",
       "1  [[422, 423], [425, 480], [480, 601], [869, 877...   \n",
       "2  [[338, 339], [341, 385], [385, 482], [696, 703...   \n",
       "3  [[422, 423], [425, 480], [480, 601], [869, 877...   \n",
       "\n",
       "                             box_2_port_entry_frames  \\\n",
       "0  [[31729, 31729], [31731, 31732], [31733, 31735...   \n",
       "1  [[36005, 36005], [36006, 36008], [36009, 36010...   \n",
       "2  [[31729, 31729], [31731, 31732], [31733, 31735...   \n",
       "3  [[36005, 36005], [36006, 36008], [36009, 36010...   \n",
       "\n",
       "                                          video_name  \\\n",
       "0  20230616_111904_standard_comp_to_training_D4_s...   \n",
       "1  20230616_111904_standard_comp_to_training_D4_s...   \n",
       "2  20230616_111904_standard_comp_to_training_D4_s...   \n",
       "3  20230616_111904_standard_comp_to_training_D4_s...   \n",
       "\n",
       "                                        session_path  \\\n",
       "0  /scratch/back_up/reward_competition_extention/...   \n",
       "1  /scratch/back_up/reward_competition_extention/...   \n",
       "2  /scratch/back_up/reward_competition_extention/...   \n",
       "3  /scratch/back_up/reward_competition_extention/...   \n",
       "\n",
       "                                           recording current_subject subject  \\\n",
       "0  20230616_111904_standard_comp_to_training_D4_s...             1.2     1.2   \n",
       "1  20230616_111904_standard_comp_to_training_D4_s...             1.2     1.2   \n",
       "2  20230616_111904_standard_comp_to_training_D4_s...             1.4     1.4   \n",
       "3  20230616_111904_standard_comp_to_training_D4_s...             1.4     1.4   \n",
       "\n",
       "   ...                        box_2_port_entry_timestamps  \\\n",
       "0  ...  [[31772990, 31773790], [31774790, 31776190], [...   \n",
       "1  ...  [[31772990, 31773790], [31774790, 31776190], [...   \n",
       "2  ...  [[31772990, 31773790], [31774790, 31776190], [...   \n",
       "3  ...  [[31772990, 31773790], [31774790, 31776190], [...   \n",
       "\n",
       "                                      lfp_timestamps  \\\n",
       "0  [0, 20, 40, 60, 80, 100, 120, 140, 160, 180, 2...   \n",
       "1  [0, 20, 40, 60, 80, 100, 120, 140, 160, 180, 2...   \n",
       "2  [0, 20, 40, 60, 80, 100, 120, 140, 160, 180, 2...   \n",
       "3  [0, 20, 40, 60, 80, 100, 120, 140, 160, 180, 2...   \n",
       "\n",
       "                                      mPFC_lfp_trace  \\\n",
       "0  [-25, 131, 186, 119, 163, 162, 192, 217, 221, ...   \n",
       "1  [-25, 131, 186, 119, 163, 162, 192, 217, 221, ...   \n",
       "2  [-84, -70, -5, 88, 158, 166, 109, 88, 99, 35, ...   \n",
       "3  [-84, -70, -5, 88, 158, 166, 109, 88, 99, 35, ...   \n",
       "\n",
       "                                        MD_lfp_trace  \\\n",
       "0  [-62, 100, 155, 49, 89, 177, 289, 360, 379, 31...   \n",
       "1  [-62, 100, 155, 49, 89, 177, 289, 360, 379, 31...   \n",
       "2  [206, 322, 390, 404, 553, 604, 471, 312, 315, ...   \n",
       "3  [206, 322, 390, 404, 553, 604, 471, 312, 315, ...   \n",
       "\n",
       "                                        LH_lfp_trace  \\\n",
       "0  [-65, 76, 83, -4, 109, 215, 271, 209, 116, 116...   \n",
       "1  [-65, 76, 83, -4, 109, 215, 271, 209, 116, 116...   \n",
       "2  [9, 12, 47, 114, 212, 284, 236, 121, 87, 171, ...   \n",
       "3  [9, 12, 47, 114, 212, 284, 236, 121, 87, 171, ...   \n",
       "\n",
       "                                       BLA_lfp_trace  \\\n",
       "0  [-164, -125, -125, -181, -210, -186, -128, -18...   \n",
       "1  [-164, -125, -125, -181, -210, -186, -128, -18...   \n",
       "2  [94, 178, 267, 320, 390, 378, 316, 318, 461, 6...   \n",
       "3  [94, 178, 267, 320, 390, 378, 316, 318, 461, 6...   \n",
       "\n",
       "                                      vHPC_lfp_trace  \\\n",
       "0  [-574, -494, -433, -469, -539, -588, -558, -61...   \n",
       "1  [-574, -494, -433, -469, -539, -588, -558, -61...   \n",
       "2  [116, 211, 284, 260, 293, 351, 330, 197, 123, ...   \n",
       "3  [116, 211, 284, 260, 293, 351, 330, 197, 123, ...   \n",
       "\n",
       "                                      recording_name  \\\n",
       "0  20230616_111904_standard_comp_to_training_D4_s...   \n",
       "1  20230616_111904_standard_comp_to_training_D4_s...   \n",
       "2  20230616_111904_standard_comp_to_training_D4_s...   \n",
       "3  20230616_111904_standard_comp_to_training_D4_s...   \n",
       "\n",
       "                                      spike_clusters  \\\n",
       "0  [13, 43, 46, 67, 68, 120, 128, 133, 151, 193, ...   \n",
       "1  [13, 43, 46, 67, 68, 120, 128, 133, 151, 193, ...   \n",
       "2  [7, 23, 30, 53, 64, 73, 80, 90, 100, 102, 104,...   \n",
       "3  [7, 23, 30, 53, 64, 73, 80, 90, 100, 102, 104,...   \n",
       "\n",
       "                                         spike_times  \n",
       "0  [[164503.0, 214157.0, 219948.0, 228496.0, 2542...  \n",
       "1  [[164503.0, 214157.0, 219948.0, 228496.0, 2542...  \n",
       "2  [[15575.0, 17748.0, 19503.0, 22868.0, 29093.0,...  \n",
       "3  [[15575.0, 17748.0, 19503.0, 22868.0, 29093.0,...  \n",
       "\n",
       "[4 rows x 26 columns]"
      ]
     },
     "execution_count": 42,
     "metadata": {},
     "output_type": "execute_result"
    }
   ],
   "source": [
    "LFP_SPECTRAL_DF.head()"
   ]
  },
  {
   "cell_type": "markdown",
   "metadata": {},
   "source": [
    "## Calculating the firing rates"
   ]
  },
  {
   "cell_type": "code",
   "execution_count": 43,
   "metadata": {
    "tags": []
   },
   "outputs": [
    {
     "data": {
      "text/plain": [
       "Index(['cohort', 'session_dir', 'tone_frames', 'box_1_port_entry_frames',\n",
       "       'box_2_port_entry_frames', 'video_name', 'session_path', 'recording',\n",
       "       'current_subject', 'subject', 'all_subjects', 'first_timestamp',\n",
       "       'last_timestamp', 'video_timestamps', 'tone_timestamps',\n",
       "       'box_1_port_entry_timestamps', 'box_2_port_entry_timestamps',\n",
       "       'lfp_timestamps', 'mPFC_lfp_trace', 'MD_lfp_trace', 'LH_lfp_trace',\n",
       "       'BLA_lfp_trace', 'vHPC_lfp_trace', 'recording_name', 'spike_clusters',\n",
       "       'spike_times'],\n",
       "      dtype='object')"
      ]
     },
     "execution_count": 43,
     "metadata": {},
     "output_type": "execute_result"
    }
   ],
   "source": [
    "LFP_SPECTRAL_DF.columns"
   ]
  },
  {
   "cell_type": "code",
   "execution_count": 44,
   "metadata": {
    "tags": []
   },
   "outputs": [
    {
     "data": {
      "text/html": [
       "<div>\n",
       "<style scoped>\n",
       "    .dataframe tbody tr th:only-of-type {\n",
       "        vertical-align: middle;\n",
       "    }\n",
       "\n",
       "    .dataframe tbody tr th {\n",
       "        vertical-align: top;\n",
       "    }\n",
       "\n",
       "    .dataframe thead th {\n",
       "        text-align: right;\n",
       "    }\n",
       "</style>\n",
       "<table border=\"1\" class=\"dataframe\">\n",
       "  <thead>\n",
       "    <tr style=\"text-align: right;\">\n",
       "      <th></th>\n",
       "      <th>cluster_id</th>\n",
       "      <th>1_5_ms_isi</th>\n",
       "      <th>1ms_isi</th>\n",
       "      <th>2ms_isi</th>\n",
       "      <th>amp</th>\n",
       "      <th>ch</th>\n",
       "      <th>channel_group</th>\n",
       "      <th>depth</th>\n",
       "      <th>fr</th>\n",
       "      <th>group</th>\n",
       "      <th>n_spikes</th>\n",
       "      <th>sh</th>\n",
       "      <th>si_unit_id</th>\n",
       "    </tr>\n",
       "  </thead>\n",
       "  <tbody>\n",
       "    <tr>\n",
       "      <th>0</th>\n",
       "      <td>15</td>\n",
       "      <td>0</td>\n",
       "      <td>0</td>\n",
       "      <td>1</td>\n",
       "      <td>14.411364</td>\n",
       "      <td>6</td>\n",
       "      <td>0.0</td>\n",
       "      <td>120.0</td>\n",
       "      <td>0.901093</td>\n",
       "      <td>good</td>\n",
       "      <td>3263</td>\n",
       "      <td>0</td>\n",
       "      <td>17.0</td>\n",
       "    </tr>\n",
       "    <tr>\n",
       "      <th>1</th>\n",
       "      <td>17</td>\n",
       "      <td>0</td>\n",
       "      <td>0</td>\n",
       "      <td>1</td>\n",
       "      <td>10.738522</td>\n",
       "      <td>8</td>\n",
       "      <td>0.0</td>\n",
       "      <td>160.0</td>\n",
       "      <td>1.143280</td>\n",
       "      <td>good</td>\n",
       "      <td>4140</td>\n",
       "      <td>0</td>\n",
       "      <td>19.0</td>\n",
       "    </tr>\n",
       "    <tr>\n",
       "      <th>2</th>\n",
       "      <td>19</td>\n",
       "      <td>0</td>\n",
       "      <td>0</td>\n",
       "      <td>0</td>\n",
       "      <td>11.480671</td>\n",
       "      <td>8</td>\n",
       "      <td>0.0</td>\n",
       "      <td>160.0</td>\n",
       "      <td>1.276939</td>\n",
       "      <td>noise</td>\n",
       "      <td>4624</td>\n",
       "      <td>0</td>\n",
       "      <td>21.0</td>\n",
       "    </tr>\n",
       "    <tr>\n",
       "      <th>3</th>\n",
       "      <td>32</td>\n",
       "      <td>110</td>\n",
       "      <td>43</td>\n",
       "      <td>323</td>\n",
       "      <td>8.556771</td>\n",
       "      <td>17</td>\n",
       "      <td>0.0</td>\n",
       "      <td>340.0</td>\n",
       "      <td>41.800155</td>\n",
       "      <td>good</td>\n",
       "      <td>151365</td>\n",
       "      <td>0</td>\n",
       "      <td>34.0</td>\n",
       "    </tr>\n",
       "    <tr>\n",
       "      <th>4</th>\n",
       "      <td>35</td>\n",
       "      <td>6</td>\n",
       "      <td>2</td>\n",
       "      <td>23</td>\n",
       "      <td>7.762705</td>\n",
       "      <td>19</td>\n",
       "      <td>0.0</td>\n",
       "      <td>380.0</td>\n",
       "      <td>2.981642</td>\n",
       "      <td>mua</td>\n",
       "      <td>10797</td>\n",
       "      <td>0</td>\n",
       "      <td>37.0</td>\n",
       "    </tr>\n",
       "  </tbody>\n",
       "</table>\n",
       "</div>"
      ],
      "text/plain": [
       "   cluster_id  1_5_ms_isi  1ms_isi  2ms_isi        amp  ch  channel_group  \\\n",
       "0          15           0        0        1  14.411364   6            0.0   \n",
       "1          17           0        0        1  10.738522   8            0.0   \n",
       "2          19           0        0        0  11.480671   8            0.0   \n",
       "3          32         110       43      323   8.556771  17            0.0   \n",
       "4          35           6        2       23   7.762705  19            0.0   \n",
       "\n",
       "   depth         fr  group  n_spikes  sh  si_unit_id  \n",
       "0  120.0   0.901093   good      3263   0        17.0  \n",
       "1  160.0   1.143280   good      4140   0        19.0  \n",
       "2  160.0   1.276939  noise      4624   0        21.0  \n",
       "3  340.0  41.800155   good    151365   0        34.0  \n",
       "4  380.0   2.981642    mua     10797   0        37.0  "
      ]
     },
     "execution_count": 44,
     "metadata": {},
     "output_type": "execute_result"
    }
   ],
   "source": [
    "cluster_info_df.head()"
   ]
  },
  {
   "cell_type": "code",
   "execution_count": 45,
   "metadata": {
    "tags": []
   },
   "outputs": [
    {
     "data": {
      "text/html": [
       "<div>\n",
       "<style scoped>\n",
       "    .dataframe tbody tr th:only-of-type {\n",
       "        vertical-align: middle;\n",
       "    }\n",
       "\n",
       "    .dataframe tbody tr th {\n",
       "        vertical-align: top;\n",
       "    }\n",
       "\n",
       "    .dataframe thead th {\n",
       "        text-align: right;\n",
       "    }\n",
       "</style>\n",
       "<table border=\"1\" class=\"dataframe\">\n",
       "  <thead>\n",
       "    <tr style=\"text-align: right;\">\n",
       "      <th></th>\n",
       "      <th>cohort</th>\n",
       "      <th>session_dir</th>\n",
       "      <th>tone_frames</th>\n",
       "      <th>box_1_port_entry_frames</th>\n",
       "      <th>box_2_port_entry_frames</th>\n",
       "      <th>video_name</th>\n",
       "      <th>session_path</th>\n",
       "      <th>recording</th>\n",
       "      <th>current_subject</th>\n",
       "      <th>subject</th>\n",
       "      <th>...</th>\n",
       "      <th>box_2_port_entry_timestamps</th>\n",
       "      <th>lfp_timestamps</th>\n",
       "      <th>mPFC_lfp_trace</th>\n",
       "      <th>MD_lfp_trace</th>\n",
       "      <th>LH_lfp_trace</th>\n",
       "      <th>BLA_lfp_trace</th>\n",
       "      <th>vHPC_lfp_trace</th>\n",
       "      <th>recording_name</th>\n",
       "      <th>spike_clusters</th>\n",
       "      <th>spike_times</th>\n",
       "    </tr>\n",
       "  </thead>\n",
       "  <tbody>\n",
       "    <tr>\n",
       "      <th>0</th>\n",
       "      <td>2</td>\n",
       "      <td>20230616_111904_standard_comp_to_training_D4_s...</td>\n",
       "      <td>[[87, 287], [2483, 2683], [4778, 4979], [6575,...</td>\n",
       "      <td>[[338, 339], [341, 385], [385, 482], [696, 703...</td>\n",
       "      <td>[[31729, 31729], [31731, 31732], [31733, 31735...</td>\n",
       "      <td>20230616_111904_standard_comp_to_training_D4_s...</td>\n",
       "      <td>/scratch/back_up/reward_competition_extention/...</td>\n",
       "      <td>20230616_111904_standard_comp_to_training_D4_s...</td>\n",
       "      <td>1.2</td>\n",
       "      <td>1.2</td>\n",
       "      <td>...</td>\n",
       "      <td>[[31772990, 31773790], [31774790, 31776190], [...</td>\n",
       "      <td>[0, 20, 40, 60, 80, 100, 120, 140, 160, 180, 2...</td>\n",
       "      <td>[-25, 131, 186, 119, 163, 162, 192, 217, 221, ...</td>\n",
       "      <td>[-62, 100, 155, 49, 89, 177, 289, 360, 379, 31...</td>\n",
       "      <td>[-65, 76, 83, -4, 109, 215, 271, 209, 116, 116...</td>\n",
       "      <td>[-164, -125, -125, -181, -210, -186, -128, -18...</td>\n",
       "      <td>[-574, -494, -433, -469, -539, -588, -558, -61...</td>\n",
       "      <td>20230616_111904_standard_comp_to_training_D4_s...</td>\n",
       "      <td>[13, 43, 46, 67, 68, 120, 128, 133, 151, 193, ...</td>\n",
       "      <td>[[164503.0, 214157.0, 219948.0, 228496.0, 2542...</td>\n",
       "    </tr>\n",
       "    <tr>\n",
       "      <th>1</th>\n",
       "      <td>2</td>\n",
       "      <td>20230616_111904_standard_comp_to_training_D4_s...</td>\n",
       "      <td>[[109, 358], [3101, 3349], [5967, 6217], [8211...</td>\n",
       "      <td>[[422, 423], [425, 480], [480, 601], [869, 877...</td>\n",
       "      <td>[[36005, 36005], [36006, 36008], [36009, 36010...</td>\n",
       "      <td>20230616_111904_standard_comp_to_training_D4_s...</td>\n",
       "      <td>/scratch/back_up/reward_competition_extention/...</td>\n",
       "      <td>20230616_111904_standard_comp_to_training_D4_s...</td>\n",
       "      <td>1.2</td>\n",
       "      <td>1.2</td>\n",
       "      <td>...</td>\n",
       "      <td>[[31772990, 31773790], [31774790, 31776190], [...</td>\n",
       "      <td>[0, 20, 40, 60, 80, 100, 120, 140, 160, 180, 2...</td>\n",
       "      <td>[-25, 131, 186, 119, 163, 162, 192, 217, 221, ...</td>\n",
       "      <td>[-62, 100, 155, 49, 89, 177, 289, 360, 379, 31...</td>\n",
       "      <td>[-65, 76, 83, -4, 109, 215, 271, 209, 116, 116...</td>\n",
       "      <td>[-164, -125, -125, -181, -210, -186, -128, -18...</td>\n",
       "      <td>[-574, -494, -433, -469, -539, -588, -558, -61...</td>\n",
       "      <td>20230616_111904_standard_comp_to_training_D4_s...</td>\n",
       "      <td>[13, 43, 46, 67, 68, 120, 128, 133, 151, 193, ...</td>\n",
       "      <td>[[164503.0, 214157.0, 219948.0, 228496.0, 2542...</td>\n",
       "    </tr>\n",
       "    <tr>\n",
       "      <th>2</th>\n",
       "      <td>2</td>\n",
       "      <td>20230616_111904_standard_comp_to_training_D4_s...</td>\n",
       "      <td>[[87, 287], [2483, 2683], [4778, 4979], [6575,...</td>\n",
       "      <td>[[338, 339], [341, 385], [385, 482], [696, 703...</td>\n",
       "      <td>[[31729, 31729], [31731, 31732], [31733, 31735...</td>\n",
       "      <td>20230616_111904_standard_comp_to_training_D4_s...</td>\n",
       "      <td>/scratch/back_up/reward_competition_extention/...</td>\n",
       "      <td>20230616_111904_standard_comp_to_training_D4_s...</td>\n",
       "      <td>1.4</td>\n",
       "      <td>1.4</td>\n",
       "      <td>...</td>\n",
       "      <td>[[31772990, 31773790], [31774790, 31776190], [...</td>\n",
       "      <td>[0, 20, 40, 60, 80, 100, 120, 140, 160, 180, 2...</td>\n",
       "      <td>[-84, -70, -5, 88, 158, 166, 109, 88, 99, 35, ...</td>\n",
       "      <td>[206, 322, 390, 404, 553, 604, 471, 312, 315, ...</td>\n",
       "      <td>[9, 12, 47, 114, 212, 284, 236, 121, 87, 171, ...</td>\n",
       "      <td>[94, 178, 267, 320, 390, 378, 316, 318, 461, 6...</td>\n",
       "      <td>[116, 211, 284, 260, 293, 351, 330, 197, 123, ...</td>\n",
       "      <td>20230616_111904_standard_comp_to_training_D4_s...</td>\n",
       "      <td>[7, 23, 30, 53, 64, 73, 80, 90, 100, 102, 104,...</td>\n",
       "      <td>[[15575.0, 17748.0, 19503.0, 22868.0, 29093.0,...</td>\n",
       "    </tr>\n",
       "    <tr>\n",
       "      <th>3</th>\n",
       "      <td>2</td>\n",
       "      <td>20230616_111904_standard_comp_to_training_D4_s...</td>\n",
       "      <td>[[109, 358], [3101, 3349], [5967, 6217], [8211...</td>\n",
       "      <td>[[422, 423], [425, 480], [480, 601], [869, 877...</td>\n",
       "      <td>[[36005, 36005], [36006, 36008], [36009, 36010...</td>\n",
       "      <td>20230616_111904_standard_comp_to_training_D4_s...</td>\n",
       "      <td>/scratch/back_up/reward_competition_extention/...</td>\n",
       "      <td>20230616_111904_standard_comp_to_training_D4_s...</td>\n",
       "      <td>1.4</td>\n",
       "      <td>1.4</td>\n",
       "      <td>...</td>\n",
       "      <td>[[31772990, 31773790], [31774790, 31776190], [...</td>\n",
       "      <td>[0, 20, 40, 60, 80, 100, 120, 140, 160, 180, 2...</td>\n",
       "      <td>[-84, -70, -5, 88, 158, 166, 109, 88, 99, 35, ...</td>\n",
       "      <td>[206, 322, 390, 404, 553, 604, 471, 312, 315, ...</td>\n",
       "      <td>[9, 12, 47, 114, 212, 284, 236, 121, 87, 171, ...</td>\n",
       "      <td>[94, 178, 267, 320, 390, 378, 316, 318, 461, 6...</td>\n",
       "      <td>[116, 211, 284, 260, 293, 351, 330, 197, 123, ...</td>\n",
       "      <td>20230616_111904_standard_comp_to_training_D4_s...</td>\n",
       "      <td>[7, 23, 30, 53, 64, 73, 80, 90, 100, 102, 104,...</td>\n",
       "      <td>[[15575.0, 17748.0, 19503.0, 22868.0, 29093.0,...</td>\n",
       "    </tr>\n",
       "  </tbody>\n",
       "</table>\n",
       "<p>4 rows × 26 columns</p>\n",
       "</div>"
      ],
      "text/plain": [
       "   cohort                                        session_dir  \\\n",
       "0       2  20230616_111904_standard_comp_to_training_D4_s...   \n",
       "1       2  20230616_111904_standard_comp_to_training_D4_s...   \n",
       "2       2  20230616_111904_standard_comp_to_training_D4_s...   \n",
       "3       2  20230616_111904_standard_comp_to_training_D4_s...   \n",
       "\n",
       "                                         tone_frames  \\\n",
       "0  [[87, 287], [2483, 2683], [4778, 4979], [6575,...   \n",
       "1  [[109, 358], [3101, 3349], [5967, 6217], [8211...   \n",
       "2  [[87, 287], [2483, 2683], [4778, 4979], [6575,...   \n",
       "3  [[109, 358], [3101, 3349], [5967, 6217], [8211...   \n",
       "\n",
       "                             box_1_port_entry_frames  \\\n",
       "0  [[338, 339], [341, 385], [385, 482], [696, 703...   \n",
       "1  [[422, 423], [425, 480], [480, 601], [869, 877...   \n",
       "2  [[338, 339], [341, 385], [385, 482], [696, 703...   \n",
       "3  [[422, 423], [425, 480], [480, 601], [869, 877...   \n",
       "\n",
       "                             box_2_port_entry_frames  \\\n",
       "0  [[31729, 31729], [31731, 31732], [31733, 31735...   \n",
       "1  [[36005, 36005], [36006, 36008], [36009, 36010...   \n",
       "2  [[31729, 31729], [31731, 31732], [31733, 31735...   \n",
       "3  [[36005, 36005], [36006, 36008], [36009, 36010...   \n",
       "\n",
       "                                          video_name  \\\n",
       "0  20230616_111904_standard_comp_to_training_D4_s...   \n",
       "1  20230616_111904_standard_comp_to_training_D4_s...   \n",
       "2  20230616_111904_standard_comp_to_training_D4_s...   \n",
       "3  20230616_111904_standard_comp_to_training_D4_s...   \n",
       "\n",
       "                                        session_path  \\\n",
       "0  /scratch/back_up/reward_competition_extention/...   \n",
       "1  /scratch/back_up/reward_competition_extention/...   \n",
       "2  /scratch/back_up/reward_competition_extention/...   \n",
       "3  /scratch/back_up/reward_competition_extention/...   \n",
       "\n",
       "                                           recording current_subject subject  \\\n",
       "0  20230616_111904_standard_comp_to_training_D4_s...             1.2     1.2   \n",
       "1  20230616_111904_standard_comp_to_training_D4_s...             1.2     1.2   \n",
       "2  20230616_111904_standard_comp_to_training_D4_s...             1.4     1.4   \n",
       "3  20230616_111904_standard_comp_to_training_D4_s...             1.4     1.4   \n",
       "\n",
       "   ...                        box_2_port_entry_timestamps  \\\n",
       "0  ...  [[31772990, 31773790], [31774790, 31776190], [...   \n",
       "1  ...  [[31772990, 31773790], [31774790, 31776190], [...   \n",
       "2  ...  [[31772990, 31773790], [31774790, 31776190], [...   \n",
       "3  ...  [[31772990, 31773790], [31774790, 31776190], [...   \n",
       "\n",
       "                                      lfp_timestamps  \\\n",
       "0  [0, 20, 40, 60, 80, 100, 120, 140, 160, 180, 2...   \n",
       "1  [0, 20, 40, 60, 80, 100, 120, 140, 160, 180, 2...   \n",
       "2  [0, 20, 40, 60, 80, 100, 120, 140, 160, 180, 2...   \n",
       "3  [0, 20, 40, 60, 80, 100, 120, 140, 160, 180, 2...   \n",
       "\n",
       "                                      mPFC_lfp_trace  \\\n",
       "0  [-25, 131, 186, 119, 163, 162, 192, 217, 221, ...   \n",
       "1  [-25, 131, 186, 119, 163, 162, 192, 217, 221, ...   \n",
       "2  [-84, -70, -5, 88, 158, 166, 109, 88, 99, 35, ...   \n",
       "3  [-84, -70, -5, 88, 158, 166, 109, 88, 99, 35, ...   \n",
       "\n",
       "                                        MD_lfp_trace  \\\n",
       "0  [-62, 100, 155, 49, 89, 177, 289, 360, 379, 31...   \n",
       "1  [-62, 100, 155, 49, 89, 177, 289, 360, 379, 31...   \n",
       "2  [206, 322, 390, 404, 553, 604, 471, 312, 315, ...   \n",
       "3  [206, 322, 390, 404, 553, 604, 471, 312, 315, ...   \n",
       "\n",
       "                                        LH_lfp_trace  \\\n",
       "0  [-65, 76, 83, -4, 109, 215, 271, 209, 116, 116...   \n",
       "1  [-65, 76, 83, -4, 109, 215, 271, 209, 116, 116...   \n",
       "2  [9, 12, 47, 114, 212, 284, 236, 121, 87, 171, ...   \n",
       "3  [9, 12, 47, 114, 212, 284, 236, 121, 87, 171, ...   \n",
       "\n",
       "                                       BLA_lfp_trace  \\\n",
       "0  [-164, -125, -125, -181, -210, -186, -128, -18...   \n",
       "1  [-164, -125, -125, -181, -210, -186, -128, -18...   \n",
       "2  [94, 178, 267, 320, 390, 378, 316, 318, 461, 6...   \n",
       "3  [94, 178, 267, 320, 390, 378, 316, 318, 461, 6...   \n",
       "\n",
       "                                      vHPC_lfp_trace  \\\n",
       "0  [-574, -494, -433, -469, -539, -588, -558, -61...   \n",
       "1  [-574, -494, -433, -469, -539, -588, -558, -61...   \n",
       "2  [116, 211, 284, 260, 293, 351, 330, 197, 123, ...   \n",
       "3  [116, 211, 284, 260, 293, 351, 330, 197, 123, ...   \n",
       "\n",
       "                                      recording_name  \\\n",
       "0  20230616_111904_standard_comp_to_training_D4_s...   \n",
       "1  20230616_111904_standard_comp_to_training_D4_s...   \n",
       "2  20230616_111904_standard_comp_to_training_D4_s...   \n",
       "3  20230616_111904_standard_comp_to_training_D4_s...   \n",
       "\n",
       "                                      spike_clusters  \\\n",
       "0  [13, 43, 46, 67, 68, 120, 128, 133, 151, 193, ...   \n",
       "1  [13, 43, 46, 67, 68, 120, 128, 133, 151, 193, ...   \n",
       "2  [7, 23, 30, 53, 64, 73, 80, 90, 100, 102, 104,...   \n",
       "3  [7, 23, 30, 53, 64, 73, 80, 90, 100, 102, 104,...   \n",
       "\n",
       "                                         spike_times  \n",
       "0  [[164503.0, 214157.0, 219948.0, 228496.0, 2542...  \n",
       "1  [[164503.0, 214157.0, 219948.0, 228496.0, 2542...  \n",
       "2  [[15575.0, 17748.0, 19503.0, 22868.0, 29093.0,...  \n",
       "3  [[15575.0, 17748.0, 19503.0, 22868.0, 29093.0,...  \n",
       "\n",
       "[4 rows x 26 columns]"
      ]
     },
     "execution_count": 45,
     "metadata": {},
     "output_type": "execute_result"
    }
   ],
   "source": [
    "LFP_SPECTRAL_DF.head()"
   ]
  },
  {
   "cell_type": "code",
   "execution_count": 46,
   "metadata": {
    "tags": []
   },
   "outputs": [],
   "source": [
    "LFP_SPECTRAL_DF[\"neuron_average_fr\"] = LFP_SPECTRAL_DF.apply(lambda x: np.array([neuron.spikes.calculate_rolling_avg_firing_rate(np.array(times[~np.isnan(times)]), stop_time=x[\"last_timestamp\"] - x[\"first_timestamp\"], window_size=SPIKE_WINDOW, slide=SPIKE_WINDOW)[0] for times in x[\"spike_times\"]]), axis=1)\n"
   ]
  },
  {
   "cell_type": "code",
   "execution_count": 47,
   "metadata": {
    "tags": []
   },
   "outputs": [],
   "source": [
    "LFP_SPECTRAL_DF[\"neuron_average_timestamps\"] = LFP_SPECTRAL_DF.apply(lambda x: neuron.spikes.calculate_rolling_avg_firing_rate(x[\"spike_times\"][0][~np.isnan(x[\"spike_times\"][0])], stop_time=x[\"last_timestamp\"] - x[\"first_timestamp\"], window_size=SPIKE_WINDOW, slide=SPIKE_WINDOW)[1], axis=1)"
   ]
  },
  {
   "cell_type": "code",
   "execution_count": 48,
   "metadata": {
    "tags": []
   },
   "outputs": [],
   "source": [
    "LFP_SPECTRAL_DF[\"neuron_average_fr\"] = LFP_SPECTRAL_DF.apply(lambda x: x[\"neuron_average_fr\"] * SPIKE_WINDOW, axis=1)"
   ]
  },
  {
   "cell_type": "code",
   "execution_count": 49,
   "metadata": {
    "tags": []
   },
   "outputs": [
    {
     "data": {
      "text/html": [
       "<div>\n",
       "<style scoped>\n",
       "    .dataframe tbody tr th:only-of-type {\n",
       "        vertical-align: middle;\n",
       "    }\n",
       "\n",
       "    .dataframe tbody tr th {\n",
       "        vertical-align: top;\n",
       "    }\n",
       "\n",
       "    .dataframe thead th {\n",
       "        text-align: right;\n",
       "    }\n",
       "</style>\n",
       "<table border=\"1\" class=\"dataframe\">\n",
       "  <thead>\n",
       "    <tr style=\"text-align: right;\">\n",
       "      <th></th>\n",
       "      <th>cohort</th>\n",
       "      <th>session_dir</th>\n",
       "      <th>tone_frames</th>\n",
       "      <th>box_1_port_entry_frames</th>\n",
       "      <th>box_2_port_entry_frames</th>\n",
       "      <th>video_name</th>\n",
       "      <th>session_path</th>\n",
       "      <th>recording</th>\n",
       "      <th>current_subject</th>\n",
       "      <th>subject</th>\n",
       "    </tr>\n",
       "  </thead>\n",
       "  <tbody>\n",
       "    <tr>\n",
       "      <th>0</th>\n",
       "      <td>2</td>\n",
       "      <td>20230616_111904_standard_comp_to_training_D4_s...</td>\n",
       "      <td>[[87, 287], [2483, 2683], [4778, 4979], [6575,...</td>\n",
       "      <td>[[338, 339], [341, 385], [385, 482], [696, 703...</td>\n",
       "      <td>[[31729, 31729], [31731, 31732], [31733, 31735...</td>\n",
       "      <td>20230616_111904_standard_comp_to_training_D4_s...</td>\n",
       "      <td>/scratch/back_up/reward_competition_extention/...</td>\n",
       "      <td>20230616_111904_standard_comp_to_training_D4_s...</td>\n",
       "      <td>1.2</td>\n",
       "      <td>1.2</td>\n",
       "    </tr>\n",
       "    <tr>\n",
       "      <th>1</th>\n",
       "      <td>2</td>\n",
       "      <td>20230616_111904_standard_comp_to_training_D4_s...</td>\n",
       "      <td>[[109, 358], [3101, 3349], [5967, 6217], [8211...</td>\n",
       "      <td>[[422, 423], [425, 480], [480, 601], [869, 877...</td>\n",
       "      <td>[[36005, 36005], [36006, 36008], [36009, 36010...</td>\n",
       "      <td>20230616_111904_standard_comp_to_training_D4_s...</td>\n",
       "      <td>/scratch/back_up/reward_competition_extention/...</td>\n",
       "      <td>20230616_111904_standard_comp_to_training_D4_s...</td>\n",
       "      <td>1.2</td>\n",
       "      <td>1.2</td>\n",
       "    </tr>\n",
       "    <tr>\n",
       "      <th>2</th>\n",
       "      <td>2</td>\n",
       "      <td>20230616_111904_standard_comp_to_training_D4_s...</td>\n",
       "      <td>[[87, 287], [2483, 2683], [4778, 4979], [6575,...</td>\n",
       "      <td>[[338, 339], [341, 385], [385, 482], [696, 703...</td>\n",
       "      <td>[[31729, 31729], [31731, 31732], [31733, 31735...</td>\n",
       "      <td>20230616_111904_standard_comp_to_training_D4_s...</td>\n",
       "      <td>/scratch/back_up/reward_competition_extention/...</td>\n",
       "      <td>20230616_111904_standard_comp_to_training_D4_s...</td>\n",
       "      <td>1.4</td>\n",
       "      <td>1.4</td>\n",
       "    </tr>\n",
       "    <tr>\n",
       "      <th>3</th>\n",
       "      <td>2</td>\n",
       "      <td>20230616_111904_standard_comp_to_training_D4_s...</td>\n",
       "      <td>[[109, 358], [3101, 3349], [5967, 6217], [8211...</td>\n",
       "      <td>[[422, 423], [425, 480], [480, 601], [869, 877...</td>\n",
       "      <td>[[36005, 36005], [36006, 36008], [36009, 36010...</td>\n",
       "      <td>20230616_111904_standard_comp_to_training_D4_s...</td>\n",
       "      <td>/scratch/back_up/reward_competition_extention/...</td>\n",
       "      <td>20230616_111904_standard_comp_to_training_D4_s...</td>\n",
       "      <td>1.4</td>\n",
       "      <td>1.4</td>\n",
       "    </tr>\n",
       "  </tbody>\n",
       "</table>\n",
       "</div>"
      ],
      "text/plain": [
       "   cohort                                        session_dir  \\\n",
       "0       2  20230616_111904_standard_comp_to_training_D4_s...   \n",
       "1       2  20230616_111904_standard_comp_to_training_D4_s...   \n",
       "2       2  20230616_111904_standard_comp_to_training_D4_s...   \n",
       "3       2  20230616_111904_standard_comp_to_training_D4_s...   \n",
       "\n",
       "                                         tone_frames  \\\n",
       "0  [[87, 287], [2483, 2683], [4778, 4979], [6575,...   \n",
       "1  [[109, 358], [3101, 3349], [5967, 6217], [8211...   \n",
       "2  [[87, 287], [2483, 2683], [4778, 4979], [6575,...   \n",
       "3  [[109, 358], [3101, 3349], [5967, 6217], [8211...   \n",
       "\n",
       "                             box_1_port_entry_frames  \\\n",
       "0  [[338, 339], [341, 385], [385, 482], [696, 703...   \n",
       "1  [[422, 423], [425, 480], [480, 601], [869, 877...   \n",
       "2  [[338, 339], [341, 385], [385, 482], [696, 703...   \n",
       "3  [[422, 423], [425, 480], [480, 601], [869, 877...   \n",
       "\n",
       "                             box_2_port_entry_frames  \\\n",
       "0  [[31729, 31729], [31731, 31732], [31733, 31735...   \n",
       "1  [[36005, 36005], [36006, 36008], [36009, 36010...   \n",
       "2  [[31729, 31729], [31731, 31732], [31733, 31735...   \n",
       "3  [[36005, 36005], [36006, 36008], [36009, 36010...   \n",
       "\n",
       "                                          video_name  \\\n",
       "0  20230616_111904_standard_comp_to_training_D4_s...   \n",
       "1  20230616_111904_standard_comp_to_training_D4_s...   \n",
       "2  20230616_111904_standard_comp_to_training_D4_s...   \n",
       "3  20230616_111904_standard_comp_to_training_D4_s...   \n",
       "\n",
       "                                        session_path  \\\n",
       "0  /scratch/back_up/reward_competition_extention/...   \n",
       "1  /scratch/back_up/reward_competition_extention/...   \n",
       "2  /scratch/back_up/reward_competition_extention/...   \n",
       "3  /scratch/back_up/reward_competition_extention/...   \n",
       "\n",
       "                                           recording current_subject subject  \n",
       "0  20230616_111904_standard_comp_to_training_D4_s...             1.2     1.2  \n",
       "1  20230616_111904_standard_comp_to_training_D4_s...             1.2     1.2  \n",
       "2  20230616_111904_standard_comp_to_training_D4_s...             1.4     1.4  \n",
       "3  20230616_111904_standard_comp_to_training_D4_s...             1.4     1.4  "
      ]
     },
     "execution_count": 49,
     "metadata": {},
     "output_type": "execute_result"
    }
   ],
   "source": [
    "LFP_SPECTRAL_DF.iloc[:5,:10]"
   ]
  },
  {
   "cell_type": "code",
   "execution_count": 50,
   "metadata": {
    "tags": []
   },
   "outputs": [
    {
     "data": {
      "text/html": [
       "<div>\n",
       "<style scoped>\n",
       "    .dataframe tbody tr th:only-of-type {\n",
       "        vertical-align: middle;\n",
       "    }\n",
       "\n",
       "    .dataframe tbody tr th {\n",
       "        vertical-align: top;\n",
       "    }\n",
       "\n",
       "    .dataframe thead th {\n",
       "        text-align: right;\n",
       "    }\n",
       "</style>\n",
       "<table border=\"1\" class=\"dataframe\">\n",
       "  <thead>\n",
       "    <tr style=\"text-align: right;\">\n",
       "      <th></th>\n",
       "      <th>all_subjects</th>\n",
       "      <th>first_timestamp</th>\n",
       "      <th>last_timestamp</th>\n",
       "      <th>video_timestamps</th>\n",
       "      <th>tone_timestamps</th>\n",
       "      <th>box_1_port_entry_timestamps</th>\n",
       "      <th>box_2_port_entry_timestamps</th>\n",
       "      <th>lfp_timestamps</th>\n",
       "      <th>mPFC_lfp_trace</th>\n",
       "      <th>MD_lfp_trace</th>\n",
       "    </tr>\n",
       "  </thead>\n",
       "  <tbody>\n",
       "    <tr>\n",
       "      <th>0</th>\n",
       "      <td>[1.2, 1.4]</td>\n",
       "      <td>307664</td>\n",
       "      <td>67788422</td>\n",
       "      <td>[1383, 1383, 2769, 4155, 5541, 5541, 6927, 831...</td>\n",
       "      <td>[[88015, 288015], [2488011, 2688012], [4788011...</td>\n",
       "      <td>[[339014, 340215], [341012, 386212], [386615, ...</td>\n",
       "      <td>[[31772990, 31773790], [31774790, 31776190], [...</td>\n",
       "      <td>[0, 20, 40, 60, 80, 100, 120, 140, 160, 180, 2...</td>\n",
       "      <td>[-25, 131, 186, 119, 163, 162, 192, 217, 221, ...</td>\n",
       "      <td>[-62, 100, 155, 49, 89, 177, 289, 360, 379, 31...</td>\n",
       "    </tr>\n",
       "    <tr>\n",
       "      <th>1</th>\n",
       "      <td>[1.2, 1.4]</td>\n",
       "      <td>307664</td>\n",
       "      <td>67788422</td>\n",
       "      <td>[1383, 1383, 2769, 2769, 4155, 5541, 5541, 692...</td>\n",
       "      <td>[[88015, 288015], [2488011, 2688012], [4788011...</td>\n",
       "      <td>[[339014, 340215], [341012, 386212], [386615, ...</td>\n",
       "      <td>[[31772990, 31773790], [31774790, 31776190], [...</td>\n",
       "      <td>[0, 20, 40, 60, 80, 100, 120, 140, 160, 180, 2...</td>\n",
       "      <td>[-25, 131, 186, 119, 163, 162, 192, 217, 221, ...</td>\n",
       "      <td>[-62, 100, 155, 49, 89, 177, 289, 360, 379, 31...</td>\n",
       "    </tr>\n",
       "    <tr>\n",
       "      <th>2</th>\n",
       "      <td>[1.2, 1.4]</td>\n",
       "      <td>307664</td>\n",
       "      <td>67788422</td>\n",
       "      <td>[1383, 1383, 2769, 4155, 5541, 5541, 6927, 831...</td>\n",
       "      <td>[[88015, 288015], [2488011, 2688012], [4788011...</td>\n",
       "      <td>[[339014, 340215], [341012, 386212], [386615, ...</td>\n",
       "      <td>[[31772990, 31773790], [31774790, 31776190], [...</td>\n",
       "      <td>[0, 20, 40, 60, 80, 100, 120, 140, 160, 180, 2...</td>\n",
       "      <td>[-84, -70, -5, 88, 158, 166, 109, 88, 99, 35, ...</td>\n",
       "      <td>[206, 322, 390, 404, 553, 604, 471, 312, 315, ...</td>\n",
       "    </tr>\n",
       "    <tr>\n",
       "      <th>3</th>\n",
       "      <td>[1.2, 1.4]</td>\n",
       "      <td>307664</td>\n",
       "      <td>67788422</td>\n",
       "      <td>[1383, 1383, 2769, 2769, 4155, 5541, 5541, 692...</td>\n",
       "      <td>[[88015, 288015], [2488011, 2688012], [4788011...</td>\n",
       "      <td>[[339014, 340215], [341012, 386212], [386615, ...</td>\n",
       "      <td>[[31772990, 31773790], [31774790, 31776190], [...</td>\n",
       "      <td>[0, 20, 40, 60, 80, 100, 120, 140, 160, 180, 2...</td>\n",
       "      <td>[-84, -70, -5, 88, 158, 166, 109, 88, 99, 35, ...</td>\n",
       "      <td>[206, 322, 390, 404, 553, 604, 471, 312, 315, ...</td>\n",
       "    </tr>\n",
       "  </tbody>\n",
       "</table>\n",
       "</div>"
      ],
      "text/plain": [
       "  all_subjects  first_timestamp  last_timestamp  \\\n",
       "0   [1.2, 1.4]           307664        67788422   \n",
       "1   [1.2, 1.4]           307664        67788422   \n",
       "2   [1.2, 1.4]           307664        67788422   \n",
       "3   [1.2, 1.4]           307664        67788422   \n",
       "\n",
       "                                    video_timestamps  \\\n",
       "0  [1383, 1383, 2769, 4155, 5541, 5541, 6927, 831...   \n",
       "1  [1383, 1383, 2769, 2769, 4155, 5541, 5541, 692...   \n",
       "2  [1383, 1383, 2769, 4155, 5541, 5541, 6927, 831...   \n",
       "3  [1383, 1383, 2769, 2769, 4155, 5541, 5541, 692...   \n",
       "\n",
       "                                     tone_timestamps  \\\n",
       "0  [[88015, 288015], [2488011, 2688012], [4788011...   \n",
       "1  [[88015, 288015], [2488011, 2688012], [4788011...   \n",
       "2  [[88015, 288015], [2488011, 2688012], [4788011...   \n",
       "3  [[88015, 288015], [2488011, 2688012], [4788011...   \n",
       "\n",
       "                         box_1_port_entry_timestamps  \\\n",
       "0  [[339014, 340215], [341012, 386212], [386615, ...   \n",
       "1  [[339014, 340215], [341012, 386212], [386615, ...   \n",
       "2  [[339014, 340215], [341012, 386212], [386615, ...   \n",
       "3  [[339014, 340215], [341012, 386212], [386615, ...   \n",
       "\n",
       "                         box_2_port_entry_timestamps  \\\n",
       "0  [[31772990, 31773790], [31774790, 31776190], [...   \n",
       "1  [[31772990, 31773790], [31774790, 31776190], [...   \n",
       "2  [[31772990, 31773790], [31774790, 31776190], [...   \n",
       "3  [[31772990, 31773790], [31774790, 31776190], [...   \n",
       "\n",
       "                                      lfp_timestamps  \\\n",
       "0  [0, 20, 40, 60, 80, 100, 120, 140, 160, 180, 2...   \n",
       "1  [0, 20, 40, 60, 80, 100, 120, 140, 160, 180, 2...   \n",
       "2  [0, 20, 40, 60, 80, 100, 120, 140, 160, 180, 2...   \n",
       "3  [0, 20, 40, 60, 80, 100, 120, 140, 160, 180, 2...   \n",
       "\n",
       "                                      mPFC_lfp_trace  \\\n",
       "0  [-25, 131, 186, 119, 163, 162, 192, 217, 221, ...   \n",
       "1  [-25, 131, 186, 119, 163, 162, 192, 217, 221, ...   \n",
       "2  [-84, -70, -5, 88, 158, 166, 109, 88, 99, 35, ...   \n",
       "3  [-84, -70, -5, 88, 158, 166, 109, 88, 99, 35, ...   \n",
       "\n",
       "                                        MD_lfp_trace  \n",
       "0  [-62, 100, 155, 49, 89, 177, 289, 360, 379, 31...  \n",
       "1  [-62, 100, 155, 49, 89, 177, 289, 360, 379, 31...  \n",
       "2  [206, 322, 390, 404, 553, 604, 471, 312, 315, ...  \n",
       "3  [206, 322, 390, 404, 553, 604, 471, 312, 315, ...  "
      ]
     },
     "execution_count": 50,
     "metadata": {},
     "output_type": "execute_result"
    }
   ],
   "source": [
    "LFP_SPECTRAL_DF.iloc[:5,10:20]"
   ]
  },
  {
   "cell_type": "code",
   "execution_count": 51,
   "metadata": {
    "tags": []
   },
   "outputs": [
    {
     "data": {
      "text/html": [
       "<div>\n",
       "<style scoped>\n",
       "    .dataframe tbody tr th:only-of-type {\n",
       "        vertical-align: middle;\n",
       "    }\n",
       "\n",
       "    .dataframe tbody tr th {\n",
       "        vertical-align: top;\n",
       "    }\n",
       "\n",
       "    .dataframe thead th {\n",
       "        text-align: right;\n",
       "    }\n",
       "</style>\n",
       "<table border=\"1\" class=\"dataframe\">\n",
       "  <thead>\n",
       "    <tr style=\"text-align: right;\">\n",
       "      <th></th>\n",
       "      <th>LH_lfp_trace</th>\n",
       "      <th>BLA_lfp_trace</th>\n",
       "      <th>vHPC_lfp_trace</th>\n",
       "      <th>recording_name</th>\n",
       "      <th>spike_clusters</th>\n",
       "      <th>spike_times</th>\n",
       "      <th>neuron_average_fr</th>\n",
       "      <th>neuron_average_timestamps</th>\n",
       "    </tr>\n",
       "  </thead>\n",
       "  <tbody>\n",
       "    <tr>\n",
       "      <th>0</th>\n",
       "      <td>[-65, 76, 83, -4, 109, 215, 271, 209, 116, 116...</td>\n",
       "      <td>[-164, -125, -125, -181, -210, -186, -128, -18...</td>\n",
       "      <td>[-574, -494, -433, -469, -539, -588, -558, -61...</td>\n",
       "      <td>20230616_111904_standard_comp_to_training_D4_s...</td>\n",
       "      <td>[13, 43, 46, 67, 68, 120, 128, 133, 151, 193, ...</td>\n",
       "      <td>[[164503.0, 214157.0, 219948.0, 228496.0, 2542...</td>\n",
       "      <td>[[0.0, 0.0, 0.0, 0.0, 0.0, 0.0, 0.0, 0.0, 0.0,...</td>\n",
       "      <td>[0, 2000, 4000, 6000, 8000, 10000, 12000, 1400...</td>\n",
       "    </tr>\n",
       "    <tr>\n",
       "      <th>1</th>\n",
       "      <td>[-65, 76, 83, -4, 109, 215, 271, 209, 116, 116...</td>\n",
       "      <td>[-164, -125, -125, -181, -210, -186, -128, -18...</td>\n",
       "      <td>[-574, -494, -433, -469, -539, -588, -558, -61...</td>\n",
       "      <td>20230616_111904_standard_comp_to_training_D4_s...</td>\n",
       "      <td>[13, 43, 46, 67, 68, 120, 128, 133, 151, 193, ...</td>\n",
       "      <td>[[164503.0, 214157.0, 219948.0, 228496.0, 2542...</td>\n",
       "      <td>[[0.0, 0.0, 0.0, 0.0, 0.0, 0.0, 0.0, 0.0, 0.0,...</td>\n",
       "      <td>[0, 2000, 4000, 6000, 8000, 10000, 12000, 1400...</td>\n",
       "    </tr>\n",
       "    <tr>\n",
       "      <th>2</th>\n",
       "      <td>[9, 12, 47, 114, 212, 284, 236, 121, 87, 171, ...</td>\n",
       "      <td>[94, 178, 267, 320, 390, 378, 316, 318, 461, 6...</td>\n",
       "      <td>[116, 211, 284, 260, 293, 351, 330, 197, 123, ...</td>\n",
       "      <td>20230616_111904_standard_comp_to_training_D4_s...</td>\n",
       "      <td>[7, 23, 30, 53, 64, 73, 80, 90, 100, 102, 104,...</td>\n",
       "      <td>[[15575.0, 17748.0, 19503.0, 22868.0, 29093.0,...</td>\n",
       "      <td>[[0.0, 0.0, 0.0, 0.0, 0.0, 0.0, 0.0, 1.0, 1.0,...</td>\n",
       "      <td>[0, 2000, 4000, 6000, 8000, 10000, 12000, 1400...</td>\n",
       "    </tr>\n",
       "    <tr>\n",
       "      <th>3</th>\n",
       "      <td>[9, 12, 47, 114, 212, 284, 236, 121, 87, 171, ...</td>\n",
       "      <td>[94, 178, 267, 320, 390, 378, 316, 318, 461, 6...</td>\n",
       "      <td>[116, 211, 284, 260, 293, 351, 330, 197, 123, ...</td>\n",
       "      <td>20230616_111904_standard_comp_to_training_D4_s...</td>\n",
       "      <td>[7, 23, 30, 53, 64, 73, 80, 90, 100, 102, 104,...</td>\n",
       "      <td>[[15575.0, 17748.0, 19503.0, 22868.0, 29093.0,...</td>\n",
       "      <td>[[0.0, 0.0, 0.0, 0.0, 0.0, 0.0, 0.0, 1.0, 1.0,...</td>\n",
       "      <td>[0, 2000, 4000, 6000, 8000, 10000, 12000, 1400...</td>\n",
       "    </tr>\n",
       "  </tbody>\n",
       "</table>\n",
       "</div>"
      ],
      "text/plain": [
       "                                        LH_lfp_trace  \\\n",
       "0  [-65, 76, 83, -4, 109, 215, 271, 209, 116, 116...   \n",
       "1  [-65, 76, 83, -4, 109, 215, 271, 209, 116, 116...   \n",
       "2  [9, 12, 47, 114, 212, 284, 236, 121, 87, 171, ...   \n",
       "3  [9, 12, 47, 114, 212, 284, 236, 121, 87, 171, ...   \n",
       "\n",
       "                                       BLA_lfp_trace  \\\n",
       "0  [-164, -125, -125, -181, -210, -186, -128, -18...   \n",
       "1  [-164, -125, -125, -181, -210, -186, -128, -18...   \n",
       "2  [94, 178, 267, 320, 390, 378, 316, 318, 461, 6...   \n",
       "3  [94, 178, 267, 320, 390, 378, 316, 318, 461, 6...   \n",
       "\n",
       "                                      vHPC_lfp_trace  \\\n",
       "0  [-574, -494, -433, -469, -539, -588, -558, -61...   \n",
       "1  [-574, -494, -433, -469, -539, -588, -558, -61...   \n",
       "2  [116, 211, 284, 260, 293, 351, 330, 197, 123, ...   \n",
       "3  [116, 211, 284, 260, 293, 351, 330, 197, 123, ...   \n",
       "\n",
       "                                      recording_name  \\\n",
       "0  20230616_111904_standard_comp_to_training_D4_s...   \n",
       "1  20230616_111904_standard_comp_to_training_D4_s...   \n",
       "2  20230616_111904_standard_comp_to_training_D4_s...   \n",
       "3  20230616_111904_standard_comp_to_training_D4_s...   \n",
       "\n",
       "                                      spike_clusters  \\\n",
       "0  [13, 43, 46, 67, 68, 120, 128, 133, 151, 193, ...   \n",
       "1  [13, 43, 46, 67, 68, 120, 128, 133, 151, 193, ...   \n",
       "2  [7, 23, 30, 53, 64, 73, 80, 90, 100, 102, 104,...   \n",
       "3  [7, 23, 30, 53, 64, 73, 80, 90, 100, 102, 104,...   \n",
       "\n",
       "                                         spike_times  \\\n",
       "0  [[164503.0, 214157.0, 219948.0, 228496.0, 2542...   \n",
       "1  [[164503.0, 214157.0, 219948.0, 228496.0, 2542...   \n",
       "2  [[15575.0, 17748.0, 19503.0, 22868.0, 29093.0,...   \n",
       "3  [[15575.0, 17748.0, 19503.0, 22868.0, 29093.0,...   \n",
       "\n",
       "                                   neuron_average_fr  \\\n",
       "0  [[0.0, 0.0, 0.0, 0.0, 0.0, 0.0, 0.0, 0.0, 0.0,...   \n",
       "1  [[0.0, 0.0, 0.0, 0.0, 0.0, 0.0, 0.0, 0.0, 0.0,...   \n",
       "2  [[0.0, 0.0, 0.0, 0.0, 0.0, 0.0, 0.0, 1.0, 1.0,...   \n",
       "3  [[0.0, 0.0, 0.0, 0.0, 0.0, 0.0, 0.0, 1.0, 1.0,...   \n",
       "\n",
       "                           neuron_average_timestamps  \n",
       "0  [0, 2000, 4000, 6000, 8000, 10000, 12000, 1400...  \n",
       "1  [0, 2000, 4000, 6000, 8000, 10000, 12000, 1400...  \n",
       "2  [0, 2000, 4000, 6000, 8000, 10000, 12000, 1400...  \n",
       "3  [0, 2000, 4000, 6000, 8000, 10000, 12000, 1400...  "
      ]
     },
     "execution_count": 51,
     "metadata": {},
     "output_type": "execute_result"
    }
   ],
   "source": [
    "LFP_SPECTRAL_DF.iloc[:5,20:30]"
   ]
  },
  {
   "cell_type": "code",
   "execution_count": 52,
   "metadata": {
    "tags": []
   },
   "outputs": [
    {
     "data": {
      "text/html": [
       "<div>\n",
       "<style scoped>\n",
       "    .dataframe tbody tr th:only-of-type {\n",
       "        vertical-align: middle;\n",
       "    }\n",
       "\n",
       "    .dataframe tbody tr th {\n",
       "        vertical-align: top;\n",
       "    }\n",
       "\n",
       "    .dataframe thead th {\n",
       "        text-align: right;\n",
       "    }\n",
       "</style>\n",
       "<table border=\"1\" class=\"dataframe\">\n",
       "  <thead>\n",
       "    <tr style=\"text-align: right;\">\n",
       "      <th></th>\n",
       "    </tr>\n",
       "  </thead>\n",
       "  <tbody>\n",
       "    <tr>\n",
       "      <th>0</th>\n",
       "    </tr>\n",
       "    <tr>\n",
       "      <th>1</th>\n",
       "    </tr>\n",
       "    <tr>\n",
       "      <th>2</th>\n",
       "    </tr>\n",
       "    <tr>\n",
       "      <th>3</th>\n",
       "    </tr>\n",
       "  </tbody>\n",
       "</table>\n",
       "</div>"
      ],
      "text/plain": [
       "Empty DataFrame\n",
       "Columns: []\n",
       "Index: [0, 1, 2, 3]"
      ]
     },
     "execution_count": 52,
     "metadata": {},
     "output_type": "execute_result"
    }
   ],
   "source": [
    "LFP_SPECTRAL_DF.iloc[:5, 30:]"
   ]
  },
  {
   "cell_type": "code",
   "execution_count": 53,
   "metadata": {},
   "outputs": [
    {
     "data": {
      "text/plain": [
       "(33740,)"
      ]
     },
     "execution_count": 53,
     "metadata": {},
     "output_type": "execute_result"
    }
   ],
   "source": [
    "LFP_SPECTRAL_DF[\"neuron_average_timestamps\"].iloc[0].shape"
   ]
  },
  {
   "cell_type": "code",
   "execution_count": 54,
   "metadata": {},
   "outputs": [
    {
     "data": {
      "text/plain": [
       "(19, 33740)"
      ]
     },
     "execution_count": 54,
     "metadata": {},
     "output_type": "execute_result"
    }
   ],
   "source": [
    "LFP_SPECTRAL_DF[\"neuron_average_fr\"].iloc[0].shape"
   ]
  },
  {
   "cell_type": "code",
   "execution_count": 55,
   "metadata": {},
   "outputs": [
    {
     "data": {
      "text/plain": [
       "17.0"
      ]
     },
     "execution_count": 55,
     "metadata": {},
     "output_type": "execute_result"
    }
   ],
   "source": [
    "np.max(LFP_SPECTRAL_DF[\"neuron_average_fr\"].iloc[0])"
   ]
  },
  {
   "cell_type": "code",
   "execution_count": 56,
   "metadata": {},
   "outputs": [],
   "source": [
    "LFP_SPECTRAL_DF.to_pickle(os.path.join(\"./proc\", FULL_LFP_TRACES_PKL))"
   ]
  },
  {
   "cell_type": "code",
   "execution_count": 57,
   "metadata": {},
   "outputs": [
    {
     "data": {
      "text/plain": [
       "Index(['cohort', 'session_dir', 'tone_frames', 'box_1_port_entry_frames',\n",
       "       'box_2_port_entry_frames', 'video_name', 'session_path', 'recording',\n",
       "       'current_subject', 'subject', 'all_subjects', 'first_timestamp',\n",
       "       'last_timestamp', 'video_timestamps', 'tone_timestamps',\n",
       "       'box_1_port_entry_timestamps', 'box_2_port_entry_timestamps',\n",
       "       'lfp_timestamps', 'mPFC_lfp_trace', 'MD_lfp_trace', 'LH_lfp_trace',\n",
       "       'BLA_lfp_trace', 'vHPC_lfp_trace', 'recording_name', 'spike_clusters',\n",
       "       'spike_times', 'neuron_average_fr', 'neuron_average_timestamps'],\n",
       "      dtype='object')"
      ]
     },
     "execution_count": 57,
     "metadata": {},
     "output_type": "execute_result"
    }
   ],
   "source": [
    "LFP_SPECTRAL_DF.columns"
   ]
  },
  {
   "cell_type": "code",
   "execution_count": 58,
   "metadata": {},
   "outputs": [
    {
     "data": {
      "text/plain": [
       "[13,\n",
       " 43,\n",
       " 46,\n",
       " 67,\n",
       " 68,\n",
       " 120,\n",
       " 128,\n",
       " 133,\n",
       " 151,\n",
       " 193,\n",
       " 205,\n",
       " 209,\n",
       " 210,\n",
       " 214,\n",
       " 218,\n",
       " 222,\n",
       " 229,\n",
       " 243,\n",
       " 249]"
      ]
     },
     "execution_count": 58,
     "metadata": {},
     "output_type": "execute_result"
    }
   ],
   "source": [
    "LFP_SPECTRAL_DF[\"spike_clusters\"].iloc[0]"
   ]
  },
  {
   "cell_type": "code",
   "execution_count": 59,
   "metadata": {},
   "outputs": [
    {
     "data": {
      "text/plain": [
       "(19, 179245)"
      ]
     },
     "execution_count": 59,
     "metadata": {},
     "output_type": "execute_result"
    }
   ],
   "source": [
    "LFP_SPECTRAL_DF[\"spike_times\"].iloc[0].shape"
   ]
  },
  {
   "cell_type": "code",
   "execution_count": 60,
   "metadata": {
    "tags": []
   },
   "outputs": [
    {
     "ename": "ValueError",
     "evalue": "",
     "output_type": "error",
     "traceback": [
      "\u001b[0;31m---------------------------------------------------------------------------\u001b[0m",
      "\u001b[0;31mValueError\u001b[0m                                Traceback (most recent call last)",
      "Cell \u001b[0;32mIn[60], line 1\u001b[0m\n\u001b[0;32m----> 1\u001b[0m \u001b[38;5;28;01mraise\u001b[39;00m \u001b[38;5;167;01mValueError\u001b[39;00m(\u001b[38;5;124m\"\u001b[39m\u001b[38;5;124m\"\u001b[39m)\n",
      "\u001b[0;31mValueError\u001b[0m: "
     ]
    }
   ],
   "source": [
    "raise ValueError(\"\")"
   ]
  },
  {
   "cell_type": "code",
   "execution_count": null,
   "metadata": {},
   "outputs": [],
   "source": []
  }
 ],
 "metadata": {
  "deepnote": {},
  "deepnote_execution_queue": [],
  "deepnote_notebook_id": "cf8fe3695d074ee7887fdf6459cbf5ce",
  "kernelspec": {
   "display_name": "mountainsort_0_5_6",
   "language": "python",
   "name": "python3"
  },
  "language_info": {
   "codemirror_mode": {
    "name": "ipython",
    "version": 3
   },
   "file_extension": ".py",
   "mimetype": "text/x-python",
   "name": "python",
   "nbconvert_exporter": "python",
   "pygments_lexer": "ipython3",
   "version": "3.9.19"
  }
 },
 "nbformat": 4,
 "nbformat_minor": 4
}
